{
 "cells": [
  {
   "cell_type": "markdown",
   "metadata": {},
   "source": [
    "# Leaflet cluster map of talk locations\n",
    "\n",
    "Run this from the _talks/ directory, which contains .md files of all your talks. This scrapes the location YAML field from each .md file, geolocates it with geopy/Nominatim, and uses the getorg library to output data, HTML, and Javascript for a standalone cluster map."
   ]
  },
  {
   "cell_type": "code",
   "execution_count": 1,
   "metadata": {},
   "outputs": [
    {
     "name": "stdout",
     "output_type": "stream",
     "text": [
      "Requirement already satisfied: getorg in /Users/lyubing/opt/anaconda3/lib/python3.9/site-packages (0.3.1)\n",
      "Requirement already satisfied: retrying in /Users/lyubing/opt/anaconda3/lib/python3.9/site-packages (from getorg) (1.3.3)\n",
      "Requirement already satisfied: pygithub in /Users/lyubing/opt/anaconda3/lib/python3.9/site-packages (from getorg) (1.55)\n",
      "Requirement already satisfied: geopy in /Users/lyubing/opt/anaconda3/lib/python3.9/site-packages (from getorg) (2.2.0)\n",
      "Requirement already satisfied: geographiclib<2,>=1.49 in /Users/lyubing/opt/anaconda3/lib/python3.9/site-packages (from geopy->getorg) (1.52)\n",
      "Requirement already satisfied: pynacl>=1.4.0 in /Users/lyubing/opt/anaconda3/lib/python3.9/site-packages (from pygithub->getorg) (1.5.0)\n",
      "Requirement already satisfied: deprecated in /Users/lyubing/opt/anaconda3/lib/python3.9/site-packages (from pygithub->getorg) (1.2.13)\n",
      "Requirement already satisfied: pyjwt>=2.0 in /Users/lyubing/opt/anaconda3/lib/python3.9/site-packages (from pygithub->getorg) (2.1.0)\n",
      "Requirement already satisfied: requests>=2.14.0 in /Users/lyubing/opt/anaconda3/lib/python3.9/site-packages (from pygithub->getorg) (2.27.1)\n",
      "Requirement already satisfied: cffi>=1.4.1 in /Users/lyubing/opt/anaconda3/lib/python3.9/site-packages (from pynacl>=1.4.0->pygithub->getorg) (1.15.0)\n",
      "Requirement already satisfied: pycparser in /Users/lyubing/opt/anaconda3/lib/python3.9/site-packages (from cffi>=1.4.1->pynacl>=1.4.0->pygithub->getorg) (2.21)\n",
      "Requirement already satisfied: urllib3<1.27,>=1.21.1 in /Users/lyubing/opt/anaconda3/lib/python3.9/site-packages (from requests>=2.14.0->pygithub->getorg) (1.26.9)\n",
      "Requirement already satisfied: certifi>=2017.4.17 in /Users/lyubing/opt/anaconda3/lib/python3.9/site-packages (from requests>=2.14.0->pygithub->getorg) (2021.10.8)\n",
      "Requirement already satisfied: idna<4,>=2.5 in /Users/lyubing/opt/anaconda3/lib/python3.9/site-packages (from requests>=2.14.0->pygithub->getorg) (3.3)\n",
      "Requirement already satisfied: charset-normalizer~=2.0.0 in /Users/lyubing/opt/anaconda3/lib/python3.9/site-packages (from requests>=2.14.0->pygithub->getorg) (2.0.4)\n",
      "Requirement already satisfied: wrapt<2,>=1.10 in /Users/lyubing/opt/anaconda3/lib/python3.9/site-packages (from deprecated->pygithub->getorg) (1.12.1)\n",
      "Requirement already satisfied: six>=1.7.0 in /Users/lyubing/opt/anaconda3/lib/python3.9/site-packages (from retrying->getorg) (1.16.0)\n",
      "IPywidgets and ipyleaflet support enabled.\n"
     ]
    }
   ],
   "source": [
    "!pip install getorg --upgrade\n",
    "import glob\n",
    "import getorg\n",
    "from geopy import Nominatim\n"
   ]
  },
  {
   "cell_type": "code",
   "execution_count": 14,
   "metadata": {},
   "outputs": [],
   "source": [
    "g = glob.glob(\"*/*.md\")\n",
    "\n"
   ]
  },
  {
   "cell_type": "code",
   "execution_count": 15,
   "metadata": {},
   "outputs": [],
   "source": [
    "#geocoder = Nominatim()\n",
    "geocoder = Nominatim(user_agent=\"catuserbot\")\n",
    "#geolocator = Nominatim(user_agent=\"catuserbot\")\n",
    "#geoloc = geolocator.geocode(input_str)\n",
    "    \n",
    "location_dict = {}\n",
    "location = \"\"\n",
    "permalink = \"\"\n",
    "title = \"\"\n",
    "\n"
   ]
  },
  {
   "cell_type": "code",
   "execution_count": 17,
   "metadata": {},
   "outputs": [
    {
     "name": "stdout",
     "output_type": "stream",
     "text": [
      "---\n",
      "title: \"WISE view of changing-look AGNs\"\n",
      "collection: talks\n",
      "type: \"Talk\"\n",
      "permalink: /talks/2022-07-20-talk-2\n",
      "venue: \"COSPAR-22 E1.6 (virtual)\"\n",
      "date: 2022-07-20\n",
      "location: \"Athens, Greece\"\n",
      "---\n",
      "\n",
      "[More information here](https://www.cospar-assembly.org/assembly.php)\n",
      "\n",
      "COSPAR-22 E1.6: Spectral/Timing/Polarimetry Properties of AGN: Theory and Observations of the Inner Workings in these Objects\n",
      "\n",
      "---\n",
      "title: \"Long-term and multiwavelength evolution of a changing-look AGN Mrk 1018\"\n",
      "collection: talks\n",
      "type: \"Talk\"\n",
      "permalink: /talks/2021-06-19-talk-1\n",
      "venue: \"Shanghai Astronomical Obsearvatory\"\n",
      "date: 2021-06-19\n",
      "location: \"Shanghai, China\"\n",
      "---\n",
      "活动星系核前沿研讨会\n",
      "\n",
      "![会议照片](研讨会照片4.jpg)\n",
      "\n",
      "<<insertHTML:[../../talkmap/map.html]\n",
      "\n",
      "\n",
      "```{r, echo=FALSE}\n",
      "htmltools::includeHTML(\"../../talkmap/map.html\")\n",
      "```\n",
      "\n",
      "---\n",
      "title: \"Conference Proceeding talk 3 on Relevant Topic in Your Field\"\n",
      "collection: talks\n",
      "type: \"Conference proceedings talk\"\n",
      "permalink: /talks/2014-03-01-talk-3\n",
      "venue: \"Testing Institute of America 2014 Annual Conference\"\n",
      "date: 2014-03-01\n",
      "location: \"Los Angeles, CA\"\n",
      "---\n",
      "\n",
      "This is a description of your conference proceedings talk, note the different field in type. You can put anything in this field.\n",
      "\n",
      "---\n",
      "title: \"Tutorial 1 on Relevant Topic in Your Field\"\n",
      "collection: talks\n",
      "type: \"Tutorial\"\n",
      "permalink: /talks/2013-03-01-tutorial-1\n",
      "venue: \"UC-Berkeley Institute for Testing Science\"\n",
      "date: 2013-03-01\n",
      "location: \"Berkeley CA, USA\"\n",
      "---\n",
      "\n",
      "[More information here](http://exampleurl.com)\n",
      "\n",
      "This is a description of your tutorial, note the different field in type. This is a markdown files that can be all markdown-ified like any other post. Yay markdown!\n",
      "\n",
      "---\n",
      "title: \"Teaching experience 1\"\n",
      "collection: teaching\n",
      "type: \"Undergraduate course\"\n",
      "permalink: /teaching/2014-spring-teaching-1\n",
      "venue: \"University 1, Department\"\n",
      "date: 2014-01-01\n",
      "location: \"City, Country\"\n",
      "---\n",
      "\n",
      "This is a description of a teaching experience. You can use markdown like any other post.\n",
      "\n",
      "Heading 1\n",
      "======\n",
      "\n",
      "Heading 2\n",
      "======\n",
      "\n",
      "Heading 3\n",
      "======\n"
     ]
    }
   ],
   "source": [
    "for file in g:\n",
    "    with open(file, 'r') as f:\n",
    "        lines = f.read()\n",
    "        if lines.find('location: \"') > 1:\n",
    "            print(lines)"
   ]
  },
  {
   "cell_type": "code",
   "execution_count": 18,
   "metadata": {},
   "outputs": [
    {
     "data": {
      "text/plain": [
       "['_talks/2022-07-20-talk-2.md',\n",
       " '_talks/2021-06-19-talk-1.md',\n",
       " 'radiolearnnote/casa_vla_note.md',\n",
       " 'radiolearnnote/Readme.md',\n",
       " 'radiolearnnote/Readme_list.md',\n",
       " 'pythoncode/pythoncode.md',\n",
       " 'pythoncode/Readme.md',\n",
       " 'pythoncode/Readme_list.md',\n",
       " '_publications/2021-05-27-paper-title-number-1.md',\n",
       " '_publications/2022-05-03-paper-title-number-3.md',\n",
       " '_publications/2022-03-21-paper-title-number-2.md',\n",
       " 'markdown_generator/readme.md',\n",
       " '_posts/2000-01-01-blog-post-num.md',\n",
       " '_posts/2013-08-14-blog-post-2.md',\n",
       " '_posts/2015-08-14-blog-post-4.md',\n",
       " '_posts/2199-01-01-future-post.md',\n",
       " '_posts/2014-08-14-blog-post-3.md',\n",
       " '_posts/2012-08-14-blog-post-1.md',\n",
       " '_portfolio/portfolio-1.md',\n",
       " 'daily_arxiv/Paper_Readexample.md',\n",
       " 'daily_arxiv/Readme.md',\n",
       " 'daily_arxiv/Learnnote.md',\n",
       " 'source/Readme.md',\n",
       " '_drafts/post-draft.md',\n",
       " '_pages/markdown.md',\n",
       " '_pages/cv.md',\n",
       " '_pages/publications.md',\n",
       " '_pages/terms.md',\n",
       " '_pages/404.md',\n",
       " '_pages/non-menu-page.md',\n",
       " '_pages/about.md',\n",
       " '_pages/archive-layout-with-content.md',\n",
       " '_pages/sitemap.md',\n",
       " 'testfile/2014-03-01-talk-3.md',\n",
       " 'testfile/2013-03-01-tutorial-1.md',\n",
       " 'testfile/2014-spring-teaching-1.md']"
      ]
     },
     "execution_count": 18,
     "metadata": {},
     "output_type": "execute_result"
    }
   ],
   "source": [
    "g"
   ]
  },
  {
   "cell_type": "code",
   "execution_count": 19,
   "metadata": {},
   "outputs": [
    {
     "name": "stdout",
     "output_type": "stream",
     "text": [
      "Athens, Greece \n",
      " Αθήνα, Δήμος Αθηναίων, Περιφερειακή Ενότητα Κεντρικού Τομέα Αθηνών, Περιφέρεια Αττικής, Αποκεντρωμένη Διοίκηση Αττικής, 104 31, Ελλάς\n",
      "Shanghai, China \n",
      " 上海市, 中国\n",
      "Shanghai, China \n",
      " 上海市, 中国\n",
      "Shanghai, China \n",
      " 上海市, 中国\n",
      "Shanghai, China \n",
      " 上海市, 中国\n",
      "Shanghai, China \n",
      " 上海市, 中国\n",
      "Shanghai, China \n",
      " 上海市, 中国\n",
      "Shanghai, China \n",
      " 上海市, 中国\n",
      "Shanghai, China \n",
      " 上海市, 中国\n",
      "Shanghai, China \n",
      " 上海市, 中国\n",
      "Shanghai, China \n",
      " 上海市, 中国\n",
      "Shanghai, China \n",
      " 上海市, 中国\n",
      "Shanghai, China \n",
      " 上海市, 中国\n",
      "Shanghai, China \n",
      " 上海市, 中国\n",
      "Shanghai, China \n",
      " 上海市, 中国\n",
      "Shanghai, China \n",
      " 上海市, 中国\n",
      "Shanghai, China \n",
      " 上海市, 中国\n",
      "Shanghai, China \n",
      " 上海市, 中国\n",
      "Shanghai, China \n",
      " 上海市, 中国\n",
      "Shanghai, China \n",
      " 上海市, 中国\n",
      "Shanghai, China \n",
      " 上海市, 中国\n",
      "Shanghai, China \n",
      " 上海市, 中国\n",
      "Shanghai, China \n",
      " 上海市, 中国\n",
      "Shanghai, China \n",
      " 上海市, 中国\n",
      "Shanghai, China \n",
      " 上海市, 中国\n",
      "Shanghai, China \n",
      " 上海市, 中国\n",
      "Shanghai, China \n",
      " 上海市, 中国\n",
      "Shanghai, China \n",
      " 上海市, 中国\n",
      "Shanghai, China \n",
      " 上海市, 中国\n",
      "Shanghai, China \n",
      " 上海市, 中国\n",
      "Shanghai, China \n",
      " 上海市, 中国\n",
      "Shanghai, China \n",
      " 上海市, 中国\n",
      "Shanghai, China \n",
      " 上海市, 中国\n",
      "Los Angeles, CA \n",
      " Los Angeles, Los Angeles County, California, United States\n",
      "Berkeley CA, USA \n",
      " University of California, Berkeley, Dwight Way, LeConte, Berkeley, Alameda County, California, 94704, United States\n",
      "City, Country \n",
      " City, Calle Iparraguirre / Iparraguirre kalea, Indautxu, Abando, Bilbao, Bizkaia, Euskadi, 48011, España\n"
     ]
    }
   ],
   "source": [
    "for file in g:\n",
    "    with open(file, 'r') as f:\n",
    "        lines = f.read()\n",
    "        if lines.find('location: \"') > 1:\n",
    "            loc_start = lines.find('location: \"') + 11\n",
    "            lines_trim = lines[loc_start:]\n",
    "            loc_end = lines_trim.find('\"')\n",
    "            location = lines_trim[:loc_end]\n",
    "                            \n",
    "           \n",
    "        location_dict[location] = geocoder.geocode(location)\n",
    "        print(location, \"\\n\", location_dict[location])\n"
   ]
  },
  {
   "cell_type": "code",
   "execution_count": 20,
   "metadata": {},
   "outputs": [
    {
     "data": {
      "text/plain": [
       "'Written map to ../talkmap/'"
      ]
     },
     "execution_count": 20,
     "metadata": {},
     "output_type": "execute_result"
    }
   ],
   "source": [
    "m = getorg.orgmap.create_map_obj()\n",
    "getorg.orgmap.output_html_cluster_map(location_dict, folder_name=\"../talkmap\", hashed_usernames=False)\n",
    "\n"
   ]
  },
  {
   "cell_type": "code",
   "execution_count": null,
   "metadata": {
    "collapsed": true
   },
   "outputs": [],
   "source": []
  }
 ],
 "metadata": {
  "anaconda-cloud": {},
  "kernelspec": {
   "display_name": "Python 3 (ipykernel)",
   "language": "python",
   "name": "python3"
  },
  "language_info": {
   "codemirror_mode": {
    "name": "ipython",
    "version": 3
   },
   "file_extension": ".py",
   "mimetype": "text/x-python",
   "name": "python",
   "nbconvert_exporter": "python",
   "pygments_lexer": "ipython3",
   "version": "3.9.12"
  },
  "latex_envs": {
   "LaTeX_envs_menu_present": true,
   "autoclose": false,
   "autocomplete": true,
   "bibliofile": "biblio.bib",
   "cite_by": "apalike",
   "current_citInitial": 1,
   "eqLabelWithNumbers": true,
   "eqNumInitial": 1,
   "hotkeys": {
    "equation": "Ctrl-E",
    "itemize": "Ctrl-I"
   },
   "labels_anchors": false,
   "latex_user_defs": false,
   "report_style_numbering": false,
   "user_envs_cfg": false
  },
  "toc": {
   "base_numbering": 1,
   "nav_menu": {},
   "number_sections": true,
   "sideBar": true,
   "skip_h1_title": false,
   "title_cell": "Table of Contents",
   "title_sidebar": "Contents",
   "toc_cell": false,
   "toc_position": {},
   "toc_section_display": true,
   "toc_window_display": false
  }
 },
 "nbformat": 4,
 "nbformat_minor": 1
}
