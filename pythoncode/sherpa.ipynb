{
 "cells": [
  {
   "cell_type": "code",
   "execution_count": null,
   "metadata": {
    "ExecuteTime": {
     "end_time": "2017-12-27T08:45:27.670555Z",
     "start_time": "2017-12-27T08:44:57.504085Z"
    },
    "collapsed": false,
    "scrolled": true
   },
   "outputs": [],
   "source": [
    "import pyds9"
   ]
  },
  {
   "cell_type": "code",
   "execution_count": null,
   "metadata": {
    "ExecuteTime": {
     "end_time": "2017-12-27T08:50:19.670942Z",
     "start_time": "2017-12-27T08:46:29.386553Z"
    },
    "collapsed": false
   },
   "outputs": [],
   "source": [
    "d = pyds9.DS9()"
   ]
  },
  {
   "cell_type": "code",
   "execution_count": null,
   "metadata": {
    "collapsed": true
   },
   "outputs": [],
   "source": []
  },
  {
   "cell_type": "code",
   "execution_count": 1,
   "metadata": {
    "ExecuteTime": {
     "end_time": "2017-12-27T09:47:32.791801Z",
     "start_time": "2017-12-27T09:47:00.780244Z"
    },
    "collapsed": false,
    "scrolled": false
   },
   "outputs": [
    {
     "name": "stdout",
     "output_type": "stream",
     "text": [
      "WARNING: failed to import sherpa.astro.xspec; XSPEC models will not be available\n"
     ]
    }
   ],
   "source": [
    "from sherpa.astro.ui import *\n",
    "%matplotlib inline\n"
   ]
  },
  {
   "cell_type": "code",
   "execution_count": null,
   "metadata": {
    "ExecuteTime": {
     "end_time": "2017-12-27T08:50:19.672756Z",
     "start_time": "2017-12-27T00:49:43.177Z"
    },
    "collapsed": true
   },
   "outputs": [],
   "source": [
    "import sherpa"
   ]
  },
  {
   "cell_type": "code",
   "execution_count": null,
   "metadata": {
    "ExecuteTime": {
     "end_time": "2017-12-25T11:36:32.154941Z",
     "start_time": "2017-12-25T11:36:31.929217Z"
    },
    "collapsed": false
   },
   "outputs": [],
   "source": [
    "import numpy as np\n",
    "x = np.arange(-5, 5.1)\n",
    "y = x*x + 23.2 + np.random.normal(size=x.size)\n",
    "e = np.ones(x.size)\n",
    "load_arrays(1, x, y, e)\n",
    "plot_data()"
   ]
  },
  {
   "cell_type": "code",
   "execution_count": null,
   "metadata": {
    "ExecuteTime": {
     "end_time": "2017-12-25T11:36:46.014720Z",
     "start_time": "2017-12-25T11:36:46.010418Z"
    },
    "collapsed": false
   },
   "outputs": [],
   "source": [
    "set_source(polynom1d.poly)\n",
    "print(poly)"
   ]
  },
  {
   "cell_type": "code",
   "execution_count": null,
   "metadata": {
    "ExecuteTime": {
     "end_time": "2017-12-25T11:37:21.944277Z",
     "start_time": "2017-12-25T11:37:21.936105Z"
    },
    "collapsed": false
   },
   "outputs": [],
   "source": [
    "thaw(poly.c1, poly.c2)\n",
    "fit()"
   ]
  },
  {
   "cell_type": "code",
   "execution_count": null,
   "metadata": {
    "ExecuteTime": {
     "end_time": "2017-12-25T11:37:24.491433Z",
     "start_time": "2017-12-25T11:37:24.162863Z"
    },
    "collapsed": false
   },
   "outputs": [],
   "source": [
    "plot_fit_resid()"
   ]
  },
  {
   "cell_type": "code",
   "execution_count": null,
   "metadata": {
    "ExecuteTime": {
     "end_time": "2017-12-25T11:37:26.802997Z",
     "start_time": "2017-12-25T11:37:26.650564Z"
    },
    "collapsed": false
   },
   "outputs": [],
   "source": [
    "conf()"
   ]
  },
  {
   "cell_type": "code",
   "execution_count": null,
   "metadata": {
    "ExecuteTime": {
     "end_time": "2017-12-25T13:08:43.129531Z",
     "start_time": "2017-12-25T13:08:43.114452Z"
    },
    "collapsed": false
   },
   "outputs": [],
   "source": [
    "import xspec\n",
    "from xspec import *"
   ]
  },
  {
   "cell_type": "code",
   "execution_count": null,
   "metadata": {
    "ExecuteTime": {
     "end_time": "2017-12-25T13:40:11.333104Z",
     "start_time": "2017-12-25T13:40:10.799794Z"
    },
    "collapsed": false
   },
   "outputs": [],
   "source": [
    "load_data(\"/Users/brettlv/m33/0786_spec.pi\")"
   ]
  },
  {
   "cell_type": "code",
   "execution_count": null,
   "metadata": {
    "ExecuteTime": {
     "end_time": "2017-12-25T13:40:13.804033Z",
     "start_time": "2017-12-25T13:40:13.798378Z"
    },
    "collapsed": false
   },
   "outputs": [],
   "source": [
    "notice(0.3,6)"
   ]
  },
  {
   "cell_type": "code",
   "execution_count": null,
   "metadata": {
    "ExecuteTime": {
     "end_time": "2017-12-25T13:40:14.496485Z",
     "start_time": "2017-12-25T13:40:14.493529Z"
    },
    "collapsed": true
   },
   "outputs": [],
   "source": [
    "subtract()"
   ]
  },
  {
   "cell_type": "code",
   "execution_count": null,
   "metadata": {
    "ExecuteTime": {
     "end_time": "2017-12-25T13:42:25.805443Z",
     "start_time": "2017-12-25T13:42:25.796661Z"
    },
    "collapsed": false
   },
   "outputs": [],
   "source": [
    "list_models()"
   ]
  },
  {
   "cell_type": "code",
   "execution_count": null,
   "metadata": {
    "ExecuteTime": {
     "end_time": "2017-12-25T13:37:00.509335Z",
     "start_time": "2017-12-25T13:37:00.504055Z"
    },
    "collapsed": false
   },
   "outputs": [],
   "source": [
    "set_source?"
   ]
  },
  {
   "cell_type": "code",
   "execution_count": null,
   "metadata": {
    "ExecuteTime": {
     "end_time": "2017-12-25T12:56:40.784015Z",
     "start_time": "2017-12-25T12:56:40.741047Z"
    },
    "collapsed": false
   },
   "outputs": [],
   "source": [
    "fit()"
   ]
  },
  {
   "cell_type": "code",
   "execution_count": null,
   "metadata": {
    "collapsed": true
   },
   "outputs": [],
   "source": []
  },
  {
   "cell_type": "code",
   "execution_count": null,
   "metadata": {
    "collapsed": true
   },
   "outputs": [],
   "source": []
  },
  {
   "cell_type": "code",
   "execution_count": null,
   "metadata": {
    "ExecuteTime": {
     "end_time": "2017-12-25T11:49:10.918599Z",
     "start_time": "2017-12-25T11:49:10.915000Z"
    },
    "collapsed": false
   },
   "outputs": [],
   "source": [
    "#load_data(\"/Volumes/DT/00034924001/sw00034924001xwtw2po.pha\")"
   ]
  },
  {
   "cell_type": "code",
   "execution_count": null,
   "metadata": {
    "collapsed": true
   },
   "outputs": [],
   "source": [
    "load_data()"
   ]
  }
 ],
 "metadata": {
  "kernelspec": {
   "display_name": "Python 3",
   "language": "python",
   "name": "python3"
  },
  "language_info": {
   "codemirror_mode": {
    "name": "ipython",
    "version": 3
   },
   "file_extension": ".py",
   "mimetype": "text/x-python",
   "name": "python",
   "nbconvert_exporter": "python",
   "pygments_lexer": "ipython3",
   "version": "3.6.0"
  },
  "latex_envs": {
   "LaTeX_envs_menu_present": true,
   "autocomplete": true,
   "bibliofile": "biblio.bib",
   "cite_by": "apalike",
   "current_citInitial": 1,
   "eqLabelWithNumbers": true,
   "eqNumInitial": 1,
   "hotkeys": {
    "equation": "Ctrl-E",
    "itemize": "Ctrl-I"
   },
   "labels_anchors": false,
   "latex_user_defs": false,
   "report_style_numbering": false,
   "user_envs_cfg": false
  },
  "toc": {
   "nav_menu": {},
   "number_sections": true,
   "sideBar": true,
   "skip_h1_title": false,
   "toc_cell": false,
   "toc_position": {},
   "toc_section_display": "block",
   "toc_window_display": false
  }
 },
 "nbformat": 4,
 "nbformat_minor": 2
}
