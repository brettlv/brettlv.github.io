{
 "cells": [
  {
   "cell_type": "code",
   "execution_count": null,
   "metadata": {},
   "outputs": [],
   "source": [
    "from scipy.stats import sem\n",
    "\n",
    "# Import Data\n",
    "df_raw = pd.read_csv('./datasets/orders_45d.csv',\n",
    "                     parse_dates=['purchase_time', 'purchase_date'])\n",
    "\n",
    "# Prepare Data: Daily Mean and SE Bands\n",
    "df_mean = df_raw.groupby('purchase_date').quantity.mean()\n",
    "df_se = df_raw.groupby('purchase_date').quantity.apply(sem).mul(1.96)\n",
    "\n",
    "# Plot\n",
    "plt.figure(figsize=(10, 6), dpi=80)\n",
    "plt.ylabel(\"# Daily Orders\", fontsize=12)\n",
    "x = [d.date().strftime('%Y-%m-%d') for d in df_mean.index]\n",
    "plt.plot(x, df_mean, color=\"#c72e29\", lw=2)\n",
    "plt.fill_between(x, df_mean - df_se, df_mean + df_se, color=\"#f8f2e4\")\n",
    "\n",
    "# Decorations\n",
    "# Lighten borders\n",
    "plt.gca().spines[\"top\"].set_alpha(0)\n",
    "plt.gca().spines[\"bottom\"].set_alpha(1)\n",
    "plt.gca().spines[\"right\"].set_alpha(0)\n",
    "plt.gca().spines[\"left\"].set_alpha(1)\n",
    "plt.xticks(x[::6], [str(d) for d in x[::6]], fontsize=12)\n",
    "plt.title(\n",
    "    \"Daily Order Quantity of Brazilian Retail with Error Bands (95% confidence)\",\n",
    "    fontsize=14)\n",
    "\n",
    "# Axis limits\n",
    "s, e = plt.gca().get_xlim()\n",
    "plt.xlim(s, e - 2)\n",
    "plt.ylim(4, 10)\n",
    "\n",
    "# Draw Horizontal Tick lines\n",
    "for y in range(5, 10, 1):\n",
    "    plt.hlines(y,\n",
    "               xmin=s,\n",
    "               xmax=e,\n",
    "               colors='black',\n",
    "               alpha=0.5,\n",
    "               linestyles=\"--\",\n",
    "               lw=0.5)\n",
    "\n",
    "plt.show()"
   ]
  }
 ],
 "metadata": {
  "kernelspec": {
   "display_name": "Python 3",
   "language": "python",
   "name": "python3"
  },
  "language_info": {
   "codemirror_mode": {
    "name": "ipython",
    "version": 3
   },
   "file_extension": ".py",
   "mimetype": "text/x-python",
   "name": "python",
   "nbconvert_exporter": "python",
   "pygments_lexer": "ipython3",
   "version": "3.8.5"
  },
  "latex_envs": {
   "LaTeX_envs_menu_present": true,
   "autocomplete": true,
   "bibliofile": "biblio.bib",
   "cite_by": "apalike",
   "current_citInitial": 1,
   "eqLabelWithNumbers": true,
   "eqNumInitial": 1,
   "hotkeys": {
    "equation": "Ctrl-E",
    "itemize": "Ctrl-I"
   },
   "labels_anchors": false,
   "latex_user_defs": false,
   "report_style_numbering": false,
   "user_envs_cfg": false
  },
  "toc": {
   "nav_menu": {},
   "number_sections": true,
   "sideBar": true,
   "skip_h1_title": false,
   "toc_cell": false,
   "toc_position": {},
   "toc_section_display": "block",
   "toc_window_display": false
  }
 },
 "nbformat": 4,
 "nbformat_minor": 2
}
