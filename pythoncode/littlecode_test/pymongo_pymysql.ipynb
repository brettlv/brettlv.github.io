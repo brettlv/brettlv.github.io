{
 "cells": [
  {
   "cell_type": "markdown",
   "metadata": {},
   "source": [
    "# [概念](https://www.runoob.com/mongodb/mongodb-databases-documents-collections.html)"
   ]
  },
  {
   "cell_type": "code",
   "execution_count": null,
   "metadata": {},
   "outputs": [],
   "source": [
    "SQL术语/概念\tMongoDB术语/概念\t解释/说明\n",
    "database\tdatabase\t数据库\n",
    "table\tcollection\t数据库表/集合\n",
    "row\tdocument\t数据记录行/文档\n",
    "column\tfield\t数据字段/域\n",
    "index\tindex\t索引\n",
    "table joins\t \t表连接,MongoDB不支持\n",
    "primary key\tprimary key\t主键,MongoDB自动将_id字段设置为主键"
   ]
  },
  {
   "cell_type": "markdown",
   "metadata": {},
   "source": [
    "下表列出了 RDBMS 与 MongoDB 对应的术语：\n",
    "\n",
    "RDBMS\tMongoDB\n",
    "数据库\t数据库\n",
    "表格\t集合\n",
    "行\t文档\n",
    "列\t字段\n",
    "表联合\t嵌入文档\n",
    "主键\t主键 (MongoDB 提供了 key 为 _id )\n",
    "\n",
    "\n",
    "数据库服务和客户端\n",
    "Mysqld/Oracle\tmongod\n",
    "mysql/sqlplus\tmongo"
   ]
  },
  {
   "cell_type": "code",
   "execution_count": null,
   "metadata": {},
   "outputs": [],
   "source": []
  },
  {
   "cell_type": "markdown",
   "metadata": {},
   "source": [
    "## pymongo"
   ]
  },
  {
   "cell_type": "markdown",
   "metadata": {},
   "source": [
    "查看 mongod 服务是否启动："
   ]
  },
  {
   "cell_type": "code",
   "execution_count": null,
   "metadata": {},
   "outputs": [],
   "source": [
    "ps aux | grep -v grep | grep mongod\n",
    "$/usr/local/opt/mongodb/bin/mongod --config /usr/local/etc/mongod.conf"
   ]
  },
  {
   "cell_type": "code",
   "execution_count": null,
   "metadata": {},
   "outputs": [],
   "source": [
    "cd /usr/local/opt/mongodb/bin \n",
    "./mongo"
   ]
  },
  {
   "cell_type": "markdown",
   "metadata": {},
   "source": [
    "数据库也通过名字来标识。数据库名可以是满足以下条件的任意UTF-8字符串。\n",
    "\n",
    "不能是空字符串（\"\")。\n",
    "不得含有' '（空格)、.、$、/、\\和\\0 (空字符)。\n",
    "应全部小写。\n",
    "最多64字节。"
   ]
  },
  {
   "cell_type": "markdown",
   "metadata": {},
   "source": [
    "### 文档(Document)"
   ]
  },
  {
   "cell_type": "markdown",
   "metadata": {},
   "source": [
    "\n",
    "文档是一组键值(key-value)对(即 BSON)。\n",
    "\n",
    "文档中的键/值对是有序的。\n",
    "文档中的值不仅可以是在双引号里面的字符串，还可以是其他几种数据类型（甚至可以是整个嵌入的文档)。\n",
    "MongoDB区分类型和大小写。\n",
    "MongoDB的文档不能有重复的键。\n",
    "文档的键是字符串。除了少数例外情况，键可以使用任意UTF-8字符。\n",
    "\n",
    "文档键命名规范：\n",
    "\n",
    "键不能含有\\0 (空字符)。这个字符用来表示键的结尾。\n",
    ".和$有特别的意义，只有在特定环境下才能使用。\n",
    "以下划线\"_\"开头的键是保留的(不是严格要求的)。"
   ]
  },
  {
   "cell_type": "markdown",
   "metadata": {},
   "source": [
    "### 集合"
   ]
  },
  {
   "cell_type": "markdown",
   "metadata": {},
   "source": [
    "集合就是 MongoDB 文档组\n",
    "\n",
    "\n",
    "当第一个文档插入时，集合就会被创建。\n",
    "\n",
    "合法的集合名\n",
    "集合名不能是空字符串\"\"。\n",
    "集合名不能含有\\0字符（空字符)，这个字符表示集合名的结尾。\n",
    "集合名不能以\"system.\"开头，这是为系统集合保留的前缀。\n",
    "用户创建的集合名字不能含有保留字符。有些驱动程序的确支持在集合名里面包含，这是因为某些系统生成的集合中包含该字符。除非你要访问这种系统创建的集合，否则千万不要在名字里出现$。　"
   ]
  },
  {
   "cell_type": "markdown",
   "metadata": {},
   "source": [
    "在MongoDB数据库中名字空间 <dbname>.system.* 是包含多种系统信息的特殊集合(Collection)，如下:\n",
    "\n",
    "集合命名空间\t描述\n",
    "dbname.system.namespaces\t列出所有名字空间。\n",
    "dbname.system.indexes\t列出所有索引。\n",
    "dbname.system.profile\t包含数据库概要(profile)信息。\n",
    "dbname.system.users\t列出所有可访问数据库的用户。\n",
    "dbname.local.sources\t包含复制对端（slave）的服务器信息和状态。\n",
    "对于修改系统集合中的对象有如下限制。\n",
    "\n",
    "在{{system.indexes}}插入数据，可以创建索引。但除此之外该表信息是不可变的(特殊的drop index命令将自动更新相关信息)。\n",
    "\n",
    "{{system.users}}是可修改的。 {{system.profile}}是可删除的。"
   ]
  },
  {
   "cell_type": "code",
   "execution_count": null,
   "metadata": {},
   "outputs": [],
   "source": [
    "ObjectId\n",
    "ObjectId 类似唯一主键，可以很快的去生成和排序，包含 12 bytes，含义是：\n",
    "\n",
    "前 4 个字节表示创建 unix 时间戳,格林尼治时间 UTC 时间，比北京时间晚了 8 个小时\n",
    "接下来的 3 个字节是机器标识码\n",
    "紧接的两个字节由进程 id 组成 PID\n",
    "最后三个字节是随机数"
   ]
  },
  {
   "cell_type": "markdown",
   "metadata": {},
   "source": [
    "### init"
   ]
  },
  {
   "cell_type": "code",
   "execution_count": 115,
   "metadata": {
    "ExecuteTime": {
     "end_time": "2021-08-30T15:57:28.036009Z",
     "start_time": "2021-08-30T15:57:28.032743Z"
    }
   },
   "outputs": [],
   "source": [
    "from bson.objectid import ObjectId\n",
    "from bson.json_util import loads \n",
    "from bson.json_util import dumps \n",
    "\n",
    "import pandas as pd\n",
    "import numpy as np\n",
    "import pymongo\n",
    "import json"
   ]
  },
  {
   "cell_type": "code",
   "execution_count": 10,
   "metadata": {
    "ExecuteTime": {
     "end_time": "2021-08-30T10:56:15.430742Z",
     "start_time": "2021-08-30T10:56:15.403801Z"
    }
   },
   "outputs": [],
   "source": [
    "import pymongo\n",
    "#mon=pymongo.Connection('localhost',port=27017)\n",
    "#mongod\n",
    "import datetime\n",
    "from pymongo import MongoClient\n",
    "\n",
    "client = MongoClient('localhost', 27017)\n",
    "\n",
    "db = client['test-database']\n",
    "collection = db['test-collection']"
   ]
  },
  {
   "cell_type": "code",
   "execution_count": 11,
   "metadata": {
    "ExecuteTime": {
     "end_time": "2021-08-30T10:56:18.628267Z",
     "start_time": "2021-08-30T10:56:18.615891Z"
    }
   },
   "outputs": [],
   "source": [
    "post = {\"author\": \"Brettlv\",\n",
    "         \"text\": \"My first blog post!\",\n",
    "         \"tags\": [\"mongodb\", \"python\", \"pymongo\"],\n",
    "         \"date\": datetime.datetime.utcnow()}\n",
    "\n",
    "posts = db.posts\n",
    "post_id = posts.insert_one(post).inserted_id"
   ]
  },
  {
   "cell_type": "code",
   "execution_count": 51,
   "metadata": {
    "ExecuteTime": {
     "end_time": "2021-08-30T11:19:24.458629Z",
     "start_time": "2021-08-30T11:19:24.454786Z"
    }
   },
   "outputs": [],
   "source": [
    "mycollist = db.list_collection_names()"
   ]
  },
  {
   "cell_type": "code",
   "execution_count": 52,
   "metadata": {
    "ExecuteTime": {
     "end_time": "2021-08-30T11:19:29.392341Z",
     "start_time": "2021-08-30T11:19:29.387074Z"
    }
   },
   "outputs": [
    {
     "data": {
      "text/plain": [
       "['posts', 'test-collection']"
      ]
     },
     "execution_count": 52,
     "metadata": {},
     "output_type": "execute_result"
    }
   ],
   "source": [
    "mycollist"
   ]
  },
  {
   "cell_type": "code",
   "execution_count": 48,
   "metadata": {
    "ExecuteTime": {
     "end_time": "2021-08-30T11:18:04.289907Z",
     "start_time": "2021-08-30T11:18:04.246397Z"
    }
   },
   "outputs": [
    {
     "data": {
      "text/plain": [
       "<pymongo.results.InsertOneResult at 0x1110b1480>"
      ]
     },
     "execution_count": 48,
     "metadata": {},
     "output_type": "execute_result"
    }
   ],
   "source": [
    "mydict = { \"name\": \"RUNOOB\", \"alexa\": \"10000\", \"url\": \"https://www.runoob.com\" }\n",
    "collection.insert_one(mydict)"
   ]
  },
  {
   "cell_type": "code",
   "execution_count": 49,
   "metadata": {
    "ExecuteTime": {
     "end_time": "2021-08-30T11:18:23.936144Z",
     "start_time": "2021-08-30T11:18:23.931360Z"
    }
   },
   "outputs": [
    {
     "name": "stdout",
     "output_type": "stream",
     "text": [
      "{'_id': ObjectId('612cbe6cfabe476a2a90b270'), 'name': 'RUNOOB', 'alexa': '10000', 'url': 'https://www.runoob.com'}\n"
     ]
    }
   ],
   "source": [
    "for x in collection.find():\n",
    "    print(x)"
   ]
  },
  {
   "cell_type": "code",
   "execution_count": 50,
   "metadata": {
    "ExecuteTime": {
     "end_time": "2021-08-30T11:18:32.114399Z",
     "start_time": "2021-08-30T11:18:32.101511Z"
    }
   },
   "outputs": [
    {
     "name": "stdout",
     "output_type": "stream",
     "text": [
      "{'_id': ObjectId('59ed769f49963f98f7059270'),\n",
      " 'author': 'Mike',\n",
      " 'date': datetime.datetime(2017, 10, 23, 4, 56, 35, 301000),\n",
      " 'tags': ['mongodb', 'python', 'pymongo'],\n",
      " 'text': 'My first blog post!'}\n"
     ]
    }
   ],
   "source": [
    "import pprint\n",
    "pprint.pprint(posts.find_one())"
   ]
  },
  {
   "cell_type": "code",
   "execution_count": 24,
   "metadata": {
    "ExecuteTime": {
     "end_time": "2021-08-30T11:08:30.047780Z",
     "start_time": "2021-08-30T11:08:30.042585Z"
    }
   },
   "outputs": [
    {
     "name": "stdout",
     "output_type": "stream",
     "text": [
      "['CLAGN', 'admin', 'local', 'test-database']\n"
     ]
    }
   ],
   "source": [
    "dblist = client.list_database_names()\n",
    "print(dblist)\n",
    "# dblist = client.database_names() \n",
    "if \"runoobdb\" in dblist:\n",
    "    print(\"数据库已存在！\")"
   ]
  },
  {
   "cell_type": "code",
   "execution_count": null,
   "metadata": {},
   "outputs": [],
   "source": []
  },
  {
   "cell_type": "markdown",
   "metadata": {},
   "source": [
    "### mydb_CLAGN"
   ]
  },
  {
   "cell_type": "code",
   "execution_count": 55,
   "metadata": {
    "ExecuteTime": {
     "end_time": "2021-08-30T11:21:25.379700Z",
     "start_time": "2021-08-30T11:21:25.373856Z"
    }
   },
   "outputs": [
    {
     "name": "stdout",
     "output_type": "stream",
     "text": [
      "集合已存在！\n"
     ]
    }
   ],
   "source": [
    "mydb_CLAGN = client[\"CLAGN\"]\n",
    "\n",
    "mycol_CLAGN = mydb_CLAGN[\"sites\"]\n",
    "\n",
    "collist_CLAGN = mydb_CLAGN.list_collection_names()\n",
    "# collist = mydb.collection_names()\n",
    "if \"sites\" in collist:   # 判断 sites 集合是否存在\n",
    "    print(\"集合已存在！\")"
   ]
  },
  {
   "cell_type": "code",
   "execution_count": 56,
   "metadata": {
    "ExecuteTime": {
     "end_time": "2021-08-30T11:21:28.948134Z",
     "start_time": "2021-08-30T11:21:28.940620Z"
    }
   },
   "outputs": [
    {
     "name": "stderr",
     "output_type": "stream",
     "text": [
      "<ipython-input-56-e7d8a59bbb9e>:1: DeprecationWarning: collection_names is deprecated. Use list_collection_names instead.\n",
      "  mydb_CLAGN.collection_names(include_system_collections=False)\n"
     ]
    },
    {
     "data": {
      "text/plain": [
       "['sites']"
      ]
     },
     "execution_count": 56,
     "metadata": {},
     "output_type": "execute_result"
    }
   ],
   "source": [
    "mydb_CLAGN.collection_names(include_system_collections=False)"
   ]
  },
  {
   "cell_type": "markdown",
   "metadata": {},
   "source": [
    "### load_sources"
   ]
  },
  {
   "cell_type": "code",
   "execution_count": 124,
   "metadata": {
    "ExecuteTime": {
     "end_time": "2021-08-30T16:07:32.501294Z",
     "start_time": "2021-08-30T16:07:32.318642Z"
    }
   },
   "outputs": [],
   "source": [
    "CLAGN_statistic_2021_liu=pd.read_excel('/Users/brettlv/blog/IHEP_sync/data/data_clagn/CLAGN_with_RA_Dec_Liuhaov2.xlsx',sheet_name='statistic_paper',header=None)\n",
    "#CLAGN_list_2021_liu=CLAGN_list_2020[1:]\n",
    "CLAGN_statistic_2021_liu.columns=['Name','z','type1or2','type','ref1','logM','ref2']\n",
    "#CLAGN_statistic_2021_liu"
   ]
  },
  {
   "cell_type": "code",
   "execution_count": 129,
   "metadata": {
    "ExecuteTime": {
     "end_time": "2021-08-30T16:10:22.519459Z",
     "start_time": "2021-08-30T16:10:22.505102Z"
    }
   },
   "outputs": [
    {
     "name": "stderr",
     "output_type": "stream",
     "text": [
      "<ipython-input-129-5470e04a0dfb>:2: SettingWithCopyWarning: \n",
      "A value is trying to be set on a copy of a slice from a DataFrame.\n",
      "Try using .loc[row_indexer,col_indexer] = value instead\n",
      "\n",
      "See the caveats in the documentation: https://pandas.pydata.org/pandas-docs/stable/user_guide/indexing.html#returning-a-view-versus-a-copy\n",
      "  CLAGN_statistic_2021_liu_select['Note']='Liuetal2021'\n"
     ]
    }
   ],
   "source": [
    "CLAGN_statistic_2021_liu_select=CLAGN_statistic_2021_liu[['Name','z','type','logM']]\n",
    "CLAGN_statistic_2021_liu_select['Note']='Liuetal2021'\n",
    "zarten_CLAGN_statistic = json.loads(CLAGN_statistic_2021_liu_select.T.to_json()).values()"
   ]
  },
  {
   "cell_type": "markdown",
   "metadata": {
    "ExecuteTime": {
     "end_time": "2021-08-30T16:10:30.554633Z",
     "start_time": "2021-08-30T16:10:30.548533Z"
    }
   },
   "source": [
    "zarten_CLAGN_statistic"
   ]
  },
  {
   "cell_type": "code",
   "execution_count": 131,
   "metadata": {
    "ExecuteTime": {
     "end_time": "2021-08-30T16:11:01.593816Z",
     "start_time": "2021-08-30T16:11:01.578376Z"
    }
   },
   "outputs": [
    {
     "data": {
      "text/plain": [
       "<pymongo.results.InsertManyResult at 0x1117516c0>"
      ]
     },
     "execution_count": 131,
     "metadata": {},
     "output_type": "execute_result"
    }
   ],
   "source": [
    "mycol_CLAGN.insert_many(zarten_CLAGN_statistic)"
   ]
  },
  {
   "cell_type": "code",
   "execution_count": null,
   "metadata": {},
   "outputs": [],
   "source": []
  },
  {
   "cell_type": "markdown",
   "metadata": {},
   "source": [
    "### insert data"
   ]
  },
  {
   "cell_type": "code",
   "execution_count": 57,
   "metadata": {
    "ExecuteTime": {
     "end_time": "2021-08-30T11:21:31.105831Z",
     "start_time": "2021-08-30T11:21:31.100376Z"
    }
   },
   "outputs": [
    {
     "data": {
      "text/plain": [
       "{'name': 'Mrk1018',\n",
       " 'title': 'Long-term and multiwavelength evolution of a changing-look AGN Mrk 1018',\n",
       " 'ref': '2021MNRAS.506.4188L',\n",
       " '_id': ObjectId('612cbe25fabe476a2a90b26f')}"
      ]
     },
     "execution_count": 57,
     "metadata": {},
     "output_type": "execute_result"
    }
   ],
   "source": [
    "mydict_1"
   ]
  },
  {
   "cell_type": "markdown",
   "metadata": {
    "ExecuteTime": {
     "end_time": "2021-08-30T11:16:53.945583Z",
     "start_time": "2021-08-30T11:16:53.938669Z"
    }
   },
   "source": [
    "mydict_1 = { \"name\": \"Mrk1018\", \"title\": \"Long-term and multiwavelength evolution of a changing-look AGN Mrk 1018\", \"ref\": \"2021MNRAS.506.4188L\" }\n",
    "x = mycol_CLAGN.insert_one(mydict_1) \n",
    "print(x)\n",
    "x = mycol_CLAGN.find_one()\n",
    "print(x)"
   ]
  },
  {
   "cell_type": "markdown",
   "metadata": {
    "ExecuteTime": {
     "end_time": "2021-08-30T11:31:24.001537Z",
     "start_time": "2021-08-30T11:31:23.988907Z"
    }
   },
   "source": [
    "mydict_2={\"_id\": 0,'url':'https://ui.adsabs.harvard.edu/abs/2021MNRAS.506.4188L/abstract'}\n",
    "x = mycol_CLAGN.insert_one(mydict_2) \n",
    "print(x)"
   ]
  },
  {
   "cell_type": "markdown",
   "metadata": {},
   "source": [
    "insert_many()来执行批量插入操作\n",
    "\n",
    "new_posts = [{\"_id\": 1000,\n",
    "               \"author\": \"Curry\",\n",
    "               \"text\": \"Another post!\",\n",
    "               \"tags\": [\"bulk\", \"insert\"],\n",
    "               \"date\": datetime.datetime(2017, 11, 12, 11, 14)},\n",
    "              {\"_id\": 1001,\"author\": \"Maxsu\",\n",
    "               \"title\": \"MongoDB is fun\",\n",
    "               \"text\": \"and pretty easy too!\",\n",
    "               \"date\": datetime.datetime(2019, 11, 10, 10, 45)}]\n",
    "\n",
    "posts = db.posts\n",
    "result = posts.insert_many(new_posts)\n",
    "print(\"Bulk Inserts Result is :\", result.inserted_ids)\n",
    "#print (post)"
   ]
  },
  {
   "cell_type": "code",
   "execution_count": null,
   "metadata": {},
   "outputs": [],
   "source": []
  },
  {
   "cell_type": "markdown",
   "metadata": {},
   "source": [
    "### find"
   ]
  },
  {
   "cell_type": "code",
   "execution_count": null,
   "metadata": {},
   "outputs": [],
   "source": [
    "from bson.objectid import ObjectId\n",
    "\n",
    "# The web framework gets post_id from the URL and passes it as a string\n",
    "def get(post_id):\n",
    "    # Convert from string to ObjectId:\n",
    "    document = client.db.collection.find_one({'_id': ObjectId(post_id)})\n",
    "    \n",
    "#//原文出自【易百教程】，商业转载请联系作者获得授权，非商业请保留原文链接：https://www.yiibai.com/mongodb/mongodb_python.html"
   ]
  },
  {
   "cell_type": "markdown",
   "metadata": {},
   "source": [
    "#### 正则"
   ]
  },
  {
   "cell_type": "code",
   "execution_count": 82,
   "metadata": {
    "ExecuteTime": {
     "end_time": "2021-08-30T15:21:33.116244Z",
     "start_time": "2021-08-30T15:21:33.110919Z"
    }
   },
   "outputs": [
    {
     "name": "stdout",
     "output_type": "stream",
     "text": [
      "{'name': 'Mrk1018', 'url': 'https://ui.adsabs.harvard.edu/abs/2021MNRAS.506.4188L'}\n",
      "{'url': 'https://ui.adsabs.harvard.edu/abs/2021MNRAS.506.4188L/abstract'}\n",
      "{'url': 'https://ui.adsabs.harvard.edu/abs/2021MNRAS.506.4188L/abstract'}\n"
     ]
    }
   ],
   "source": [
    "myquery = {\"name\": {\"$regex\": \"^R\"}} #以R开头\n",
    "\n",
    "for x in mycol_CLAGN.find({},{ \"_id\": 0, \"name\": 1, \"url\": 1 }):\n",
    "    print(x)"
   ]
  },
  {
   "cell_type": "markdown",
   "metadata": {},
   "source": [
    "除了 _id 你不能在一个对象中同时指定 0 和 1，如果你设置了一个字段为 0，则其他都为 1，反之亦然。"
   ]
  },
  {
   "cell_type": "code",
   "execution_count": 85,
   "metadata": {
    "ExecuteTime": {
     "end_time": "2021-08-30T15:22:53.012751Z",
     "start_time": "2021-08-30T15:22:53.007145Z"
    }
   },
   "outputs": [
    {
     "name": "stdout",
     "output_type": "stream",
     "text": [
      "{'_id': ObjectId('612cbe25fabe476a2a90b26f'), 'name': 'Mrk1018', 'title': 'Long-term and multiwavelength evolution of a changing-look AGN Mrk 1018', 'ref': '2021MNRAS.506.4188L'}\n",
      "{'_id': '0'}\n",
      "{'_id': 0}\n"
     ]
    }
   ],
   "source": [
    "for x in mycol_CLAGN.find({},{ \"url\": 0 }):\n",
    "    print(x)"
   ]
  },
  {
   "cell_type": "markdown",
   "metadata": {},
   "source": [
    "读取 name 字段中第一个字母 ASCII 值大于 \"H\" 的数据，大于的修饰符条件为 {\"$gt\": \"H\"} :"
   ]
  },
  {
   "cell_type": "code",
   "execution_count": 86,
   "metadata": {
    "ExecuteTime": {
     "end_time": "2021-08-30T15:24:37.700397Z",
     "start_time": "2021-08-30T15:24:37.684203Z"
    }
   },
   "outputs": [
    {
     "name": "stdout",
     "output_type": "stream",
     "text": [
      "{'_id': ObjectId('612cbe25fabe476a2a90b26f'), 'name': 'Mrk1018', 'title': 'Long-term and multiwavelength evolution of a changing-look AGN Mrk 1018', 'ref': '2021MNRAS.506.4188L', 'url': 'https://ui.adsabs.harvard.edu/abs/2021MNRAS.506.4188L'}\n"
     ]
    }
   ],
   "source": [
    "myquery_2 = { \"name\": { \"$gt\": \"H\" } }\n",
    "mydoc = mycol_CLAGN.find(myquery_2)\n",
    " \n",
    "for x in mydoc:\n",
    "    print(x)"
   ]
  },
  {
   "cell_type": "markdown",
   "metadata": {},
   "source": [
    "d = datetime.datetime(2019, 11, 12, 12)\n",
    "for post in posts.find({\"date\": {\"$lt\": d}}).sort(\"author\"):\n",
    "    pprint.pprint(post)"
   ]
  },
  {
   "cell_type": "markdown",
   "metadata": {},
   "source": [
    "### print"
   ]
  },
  {
   "cell_type": "code",
   "execution_count": 134,
   "metadata": {
    "ExecuteTime": {
     "end_time": "2021-08-30T16:12:12.988176Z",
     "start_time": "2021-08-30T16:12:12.952289Z"
    }
   },
   "outputs": [
    {
     "name": "stdout",
     "output_type": "stream",
     "text": [
      "{'_id': ObjectId('612d0315fabe476a2a90b274'), 'Name': '1ES 1927+654 ', 'z': 0.017, 'type': ' A ', 'logM': 7.3, 'Note': 'Liuetal2021'}\n",
      "{'_id': ObjectId('612d0315fabe476a2a90b275'), 'Name': '1H 0419-577 ', 'z': 0.104, 'type': ' B ', 'logM': 8.58, 'Note': 'Liuetal2021'}\n",
      "{'_id': ObjectId('612d0315fabe476a2a90b276'), 'Name': '3C 390.3 ', 'z': 0.056, 'type': ' A ', 'logM': ' - ', 'Note': 'Liuetal2021'}\n",
      "{'_id': ObjectId('612d0315fabe476a2a90b277'), 'Name': 'ESO 362-G18 ', 'z': 0.012, 'type': ' A ', 'logM': 7.65, 'Note': 'Liuetal2021'}\n",
      "{'_id': ObjectId('612d0315fabe476a2a90b278'), 'Name': 'Fairall 9 ', 'z': 0.046, 'type': ' A ', 'logM': 8.41, 'Note': 'Liuetal2021'}\n",
      "{'_id': ObjectId('612d0315fabe476a2a90b279'), 'Name': 'HE 1136-2304 ', 'z': 0.027, 'type': ' A ', 'logM': 7.58, 'Note': 'Liuetal2021'}\n",
      "{'_id': ObjectId('612d0315fabe476a2a90b27a'), 'Name': 'IC 751 ', 'z': 0.032, 'type': ' B ', 'logM': 8.5, 'Note': 'Liuetal2021'}\n",
      "{'_id': ObjectId('612d0315fabe476a2a90b27b'), 'Name': 'IRAS 23226-3843 ', 'z': 0.036, 'type': ' A ', 'logM': 8.23, 'Note': 'Liuetal2021'}\n",
      "{'_id': ObjectId('612d0315fabe476a2a90b27c'), 'Name': 'Mrk 6 ', 'z': 0.02, 'type': ' A ', 'logM': 8.18, 'Note': 'Liuetal2021'}\n",
      "{'_id': ObjectId('612d0315fabe476a2a90b27d'), 'Name': 'Mrk 372 ', 'z': 0.03, 'type': ' A ', 'logM': ' - ', 'Note': 'Liuetal2021'}\n",
      "{'_id': ObjectId('612d0315fabe476a2a90b27e'), 'Name': 'Mrk 530 ', 'z': 0.029, 'type': ' A ', 'logM': 8.06, 'Note': 'Liuetal2021'}\n",
      "{'_id': ObjectId('612d0315fabe476a2a90b27f'), 'Name': 'Mrk 590 ', 'z': 0.026, 'type': ' A ', 'logM': 7.5, 'Note': 'Liuetal2021'}\n",
      "{'_id': ObjectId('612d0315fabe476a2a90b280'), 'Name': 'Mrk 609 ', 'z': 0.034, 'type': ' A ', 'logM': ' - ', 'Note': 'Liuetal2021'}\n",
      "{'_id': ObjectId('612d0315fabe476a2a90b281'), 'Name': 'Mrk 728 ', 'z': 0.036, 'type': ' A ', 'logM': ' - ', 'Note': 'Liuetal2021'}\n",
      "{'_id': ObjectId('612d0315fabe476a2a90b282'), 'Name': 'Mrk 883 ', 'z': 0.038, 'type': ' A ', 'logM': ' - ', 'Note': 'Liuetal2021'}\n",
      "{'_id': ObjectId('612d0315fabe476a2a90b283'), 'Name': 'Mrk 926 ', 'z': 0.047, 'type': ' A ', 'logM': 8.05, 'Note': 'Liuetal2021'}\n",
      "{'_id': ObjectId('612d0315fabe476a2a90b284'), 'Name': 'Mrk 993 ', 'z': 0.016, 'type': ' A ', 'logM': ' - ', 'Note': 'Liuetal2021'}\n",
      "{'_id': ObjectId('612d0315fabe476a2a90b285'), 'Name': 'Mrk 1018 ', 'z': 0.043, 'type': ' A ', 'logM': 7.84, 'Note': 'Liuetal2021'}\n",
      "{'_id': ObjectId('612d0315fabe476a2a90b286'), 'Name': 'Mrk 1494 ', 'z': 0.031, 'type': ' A ', 'logM': ' - ', 'Note': 'Liuetal2021'}\n",
      "{'_id': ObjectId('612d0315fabe476a2a90b287'), 'Name': 'NGC 454 ', 'z': 0.012, 'type': ' B ', 'logM': 6.23, 'Note': 'Liuetal2021'}\n",
      "{'_id': ObjectId('612d0315fabe476a2a90b288'), 'Name': 'NGC 1097 ', 'z': 0.004, 'type': ' A ', 'logM': 8.08, 'Note': 'Liuetal2021'}\n",
      "{'_id': ObjectId('612d0315fabe476a2a90b289'), 'Name': 'NGC 1346 ', 'z': 0.014, 'type': ' A ', 'logM': ' - ', 'Note': 'Liuetal2021'}\n",
      "{'_id': ObjectId('612d0315fabe476a2a90b28a'), 'Name': 'NGC 1365 ', 'z': 0.005, 'type': ' B ', 'logM': 6.65, 'Note': 'Liuetal2021'}\n",
      "{'_id': ObjectId('612d0315fabe476a2a90b28b'), 'Name': 'NGC 1566 ', 'z': 0.005, 'type': ' A ', 'logM': 6.92, 'Note': 'Liuetal2021'}\n",
      "{'_id': ObjectId('612d0315fabe476a2a90b28c'), 'Name': 'NGC 2617 ', 'z': 0.014, 'type': ' A ', 'logM': 7.5, 'Note': 'Liuetal2021'}\n",
      "{'_id': ObjectId('612d0315fabe476a2a90b28d'), 'Name': 'NGC 2622 ', 'z': 0.029, 'type': ' A ', 'logM': ' - ', 'Note': 'Liuetal2021'}\n",
      "{'_id': ObjectId('612d0315fabe476a2a90b28e'), 'Name': 'NGC 2992 ', 'z': 0.008, 'type': ' A ', 'logM': 7.48, 'Note': 'Liuetal2021'}\n",
      "{'_id': ObjectId('612d0315fabe476a2a90b28f'), 'Name': 'NGC 3065 ', 'z': 0.007, 'type': ' A ', 'logM': 7.95, 'Note': 'Liuetal2021'}\n",
      "{'_id': ObjectId('612d0315fabe476a2a90b290'), 'Name': 'NGC 3516 ', 'z': 0.009, 'type': ' A ', 'logM': 7.49, 'Note': 'Liuetal2021'}\n",
      "{'_id': ObjectId('612d0315fabe476a2a90b291'), 'Name': 'NGC 4051 ', 'z': 0.002, 'type': ' B ', 'logM': 6.36, 'Note': 'Liuetal2021'}\n",
      "{'_id': ObjectId('612d0315fabe476a2a90b292'), 'Name': 'NGC 4151 ', 'z': 0.003, 'type': ' A ', 'logM': 7.56, 'Note': 'Liuetal2021'}\n",
      "{'_id': ObjectId('612d0315fabe476a2a90b293'), 'Name': 'NGC 4388 ', 'z': 0.008, 'type': ' B ', 'logM': 6.92, 'Note': 'Liuetal2021'}\n",
      "{'_id': ObjectId('612d0315fabe476a2a90b294'), 'Name': 'NGC 4395 ', 'z': 0.001, 'type': ' B ', 'logM': 5.56, 'Note': 'Liuetal2021'}\n",
      "{'_id': ObjectId('612d0315fabe476a2a90b295'), 'Name': 'NGC 4507 ', 'z': 0.012, 'type': ' B ', 'logM': 7.65, 'Note': 'Liuetal2021'}\n",
      "{'_id': ObjectId('612d0315fabe476a2a90b296'), 'Name': 'NGC 4939 ', 'z': 0.01, 'type': ' B ', 'logM': ' - ', 'Note': 'Liuetal2021'}\n",
      "{'_id': ObjectId('612d0315fabe476a2a90b297'), 'Name': 'NGC 5548 ', 'z': 0.017, 'type': ' A ', 'logM': 7.51, 'Note': 'Liuetal2021'}\n",
      "{'_id': ObjectId('612d0315fabe476a2a90b298'), 'Name': 'NGC 5683 ', 'z': 0.037, 'type': ' A ', 'logM': ' - ', 'Note': 'Liuetal2021'}\n",
      "{'_id': ObjectId('612d0315fabe476a2a90b299'), 'Name': 'NGC 6300 ', 'z': 0.004, 'type': ' B ', 'logM': 7, 'Note': 'Liuetal2021'}\n",
      "{'_id': ObjectId('612d0315fabe476a2a90b29a'), 'Name': 'NGC 7469 ', 'z': 0.016, 'type': ' B ', 'logM': 7.32, 'Note': 'Liuetal2021'}\n",
      "{'_id': ObjectId('612d0315fabe476a2a90b29b'), 'Name': 'NGC 7582 ', 'z': 0.005, 'type': ' A ', 'logM': 7.74, 'Note': 'Liuetal2021'}\n",
      "{'_id': ObjectId('612d0315fabe476a2a90b29c'), 'Name': 'NGC 7674 ', 'z': 0.029, 'type': ' B ', 'logM': 7.56, 'Note': 'Liuetal2021'}\n",
      "{'_id': ObjectId('612d0315fabe476a2a90b29d'), 'Name': 'PG 1535+547 ', 'z': 0.039, 'type': ' B ', 'logM': 7.34, 'Note': 'Liuetal2021'}\n",
      "{'_id': ObjectId('612d0315fabe476a2a90b29e'), 'Name': 'UGC 3223 ', 'z': 0.016, 'type': ' A ', 'logM': 7.99, 'Note': 'Liuetal2021'}\n",
      "{'_id': ObjectId('612d0315fabe476a2a90b29f'), 'Name': 'UGC 4203 ', 'z': 0.014, 'type': ' B ', 'logM': 6.78, 'Note': 'Liuetal2021'}\n",
      "{'_id': ObjectId('612d0315fabe476a2a90b2a0'), 'Name': 'WISEA J000236.24-002724.6 ', 'z': 0.291, 'type': ' A ', 'logM': 8.74, 'Note': 'Liuetal2021'}\n",
      "{'_id': ObjectId('612d0315fabe476a2a90b2a1'), 'Name': 'WISEA J000904.54-103428.6 ', 'z': 0.241, 'type': ' A ', 'logM': 8, 'Note': 'Liuetal2021'}\n",
      "{'_id': ObjectId('612d0315fabe476a2a90b2a2'), 'Name': 'SDSS J002311.06+003517.5 ', 'z': 0.422, 'type': ' A ', 'logM': 8.2, 'Note': 'Liuetal2021'}\n",
      "{'_id': ObjectId('612d0315fabe476a2a90b2a3'), 'Name': 'WISEA J004339.35+134436.3 ', 'z': 0.527, 'type': ' A ', 'logM': ' - ', 'Note': 'Liuetal2021'}\n",
      "{'_id': ObjectId('612d0315fabe476a2a90b2a4'), 'Name': '2MASS J01264811-0839481 ', 'z': 0.198, 'type': ' A ', 'logM': 8.08, 'Note': 'Liuetal2021'}\n",
      "{'_id': ObjectId('612d0315fabe476a2a90b2a5'), 'Name': 'WISEA J013458.36-091435.4 ', 'z': 0.443, 'type': ' A ', 'logM': 8.2, 'Note': 'Liuetal2021'}\n",
      "{'_id': ObjectId('612d0315fabe476a2a90b2a6'), 'Name': 'SDSS J015957.62+003310.5 ', 'z': 0.312, 'type': ' A ', 'logM': 8.15, 'Note': 'Liuetal2021'}\n",
      "{'_id': ObjectId('612d0315fabe476a2a90b2a7'), 'Name': 'SDSS J022556.07+003026.7 ', 'z': 0.504, 'type': ' A ', 'logM': 8.2, 'Note': 'Liuetal2021'}\n",
      "{'_id': ObjectId('612d0315fabe476a2a90b2a8'), 'Name': 'SDSS J022652.24-003916.5 ', 'z': 0.625, 'type': ' A ', 'logM': 8.6, 'Note': 'Liuetal2021'}\n",
      "{'_id': ObjectId('612d0315fabe476a2a90b2a9'), 'Name': 'SDSS J030510.60-010431.6 ', 'z': 0.045, 'type': ' A ', 'logM': 7.35, 'Note': 'Liuetal2021'}\n",
      "{'_id': ObjectId('612d0315fabe476a2a90b2aa'), 'Name': 'WISEA J035301.02-062326.2 ', 'z': 0.076, 'type': ' A ', 'logM': 7.6, 'Note': 'Liuetal2021'}\n",
      "{'_id': ObjectId('612d0315fabe476a2a90b2ab'), 'Name': '2MASS J07451198+3809114 ', 'z': 0.236, 'type': ' A ', 'logM': 9.1, 'Note': 'Liuetal2021'}\n",
      "{'_id': ObjectId('612d0315fabe476a2a90b2ac'), 'Name': 'SDSS J080020.98+263648.8 ', 'z': 0.027, 'type': ' A ', 'logM': 7.12, 'Note': 'Liuetal2021'}\n",
      "{'_id': ObjectId('612d0315fabe476a2a90b2ad'), 'Name': 'SDSS J081319.34+460849.5 ', 'z': 0.054, 'type': ' A ', 'logM': 7.6, 'Note': 'Liuetal2021'}\n",
      "{'_id': ObjectId('612d0315fabe476a2a90b2ae'), 'Name': 'SDSS J081726.41+101210.1 ', 'z': 0.046, 'type': ' A ', 'logM': 7.5, 'Note': 'Liuetal2021'}\n",
      "{'_id': ObjectId('612d0315fabe476a2a90b2af'), 'Name': 'SDSS J082323.89+422048.3 ', 'z': 0.152, 'type': ' A ', 'logM': 8.09, 'Note': 'Liuetal2021'}\n",
      "{'_id': ObjectId('612d0315fabe476a2a90b2b0'), 'Name': '2MASX J08284278+5444333 ', 'z': 0.049, 'type': ' A ', 'logM': ' - ', 'Note': 'Liuetal2021'}\n",
      "{'_id': ObjectId('612d0315fabe476a2a90b2b1'), 'Name': 'SDSS J082942.67+415436.9 ', 'z': 0.126, 'type': ' A ', 'logM': 8.49, 'Note': 'Liuetal2021'}\n",
      "{'_id': ObjectId('612d0315fabe476a2a90b2b2'), 'Name': 'WISEA J083132.25+364617.0 ', 'z': 0.195, 'type': ' A ', 'logM': 8.59, 'Note': 'Liuetal2021'}\n",
      "{'_id': ObjectId('612d0315fabe476a2a90b2b3'), 'Name': 'WISEA J084748.28+182440.0 ', 'z': 0.085, 'type': ' A ', 'logM': 7.7, 'Note': 'Liuetal2021'}\n",
      "{'_id': ObjectId('612d0315fabe476a2a90b2b4'), 'Name': 'WISEA J084957.78+274728.8 ', 'z': 0.299, 'type': ' A ', 'logM': 7.9, 'Note': 'Liuetal2021'}\n",
      "{'_id': ObjectId('612d0315fabe476a2a90b2b5'), 'Name': 'SDSS J090902.35+133019.4 ', 'z': 0.05, 'type': ' A ', 'logM': 7.3, 'Note': 'Liuetal2021'}\n",
      "{'_id': ObjectId('612d0315fabe476a2a90b2b6'), 'Name': 'WISEA J090932.02+474730.7 ', 'z': 0.117, 'type': ' A ', 'logM': 7.35, 'Note': 'Liuetal2021'}\n",
      "{'_id': ObjectId('612d0315fabe476a2a90b2b7'), 'Name': 'SDSS J091531.04+481407.7 ', 'z': 0.1, 'type': ' A ', 'logM': 7.79, 'Note': 'Liuetal2021'}\n",
      "{'_id': ObjectId('612d0315fabe476a2a90b2b8'), 'Name': '2MASS J09270231+0433080 ', 'z': 0.322, 'type': ' A ', 'logM': ' - ', 'Note': 'Liuetal2021'}\n",
      "{'_id': ObjectId('612d0315fabe476a2a90b2b9'), 'Name': 'WISEA J093730.32+260232.1 ', 'z': 0.162, 'type': ' A ', 'logM': 7.83, 'Note': 'Liuetal2021'}\n",
      "{'_id': ObjectId('612d0315fabe476a2a90b2ba'), 'Name': '2MASX J09381221+0743398 ', 'z': 0.022, 'type': ' A ', 'logM': 7.5, 'Note': 'Liuetal2021'}\n",
      "{'_id': ObjectId('612d0315fabe476a2a90b2bb'), 'Name': 'SDSS J094810.92+005057.8 ', 'z': 0.624, 'type': ' A ', 'logM': 7.4, 'Note': 'Liuetal2021'}\n",
      "{'_id': ObjectId('612d0315fabe476a2a90b2bc'), 'Name': '2MASX J09483841+4030436 ', 'z': 0.047, 'type': ' A ', 'logM': 7.5, 'Note': 'Liuetal2021'}\n",
      "{'_id': ObjectId('612d0315fabe476a2a90b2bd'), 'Name': '2MASS J10022021+4509276 ', 'z': 0.401, 'type': ' A ', 'logM': 8.7, 'Note': 'Liuetal2021'}\n",
      "{'_id': ObjectId('612d0315fabe476a2a90b2be'), 'Name': 'WISEA J100323.46+352503.8 ', 'z': 0.119, 'type': ' A ', 'logM': 8, 'Note': 'Liuetal2021'}\n",
      "{'_id': ObjectId('612d0315fabe476a2a90b2bf'), 'Name': 'SDSS J101152.98+544206.4 ', 'z': 0.246, 'type': ' A ', 'logM': 8.4, 'Note': 'Liuetal2021'}\n",
      "{'_id': ObjectId('612d0315fabe476a2a90b2c0'), 'Name': '2MASX J10215228+4645158 ', 'z': 0.204, 'type': ' A ', 'logM': 8.32, 'Note': 'Liuetal2021'}\n",
      "{'_id': ObjectId('612d0315fabe476a2a90b2c1'), 'Name': 'SDSS J104705.16+544405.8 ', 'z': 0.215, 'type': ' A ', 'logM': 7.56, 'Note': 'Liuetal2021'}\n",
      "{'_id': ObjectId('612d0315fabe476a2a90b2c2'), 'Name': '2MASX J10520355+1519294 ', 'z': 0.303, 'type': ' A ', 'logM': 7.9, 'Note': 'Liuetal2021'}\n",
      "{'_id': ObjectId('612d0315fabe476a2a90b2c3'), 'Name': 'WISEA J110057.70-005304.4 ', 'z': 0.379, 'type': ' A ', 'logM': 8.2, 'Note': 'Liuetal2021'}\n",
      "{'_id': ObjectId('612d0315fabe476a2a90b2c4'), 'Name': 'WISEA J110455.17+011856.6 ', 'z': 0.575, 'type': ' A ', 'logM': 8.2, 'Note': 'Liuetal2021'}\n",
      "{'_id': ObjectId('612d0315fabe476a2a90b2c5'), 'Name': 'WISEA J110423.23+634305.2 ', 'z': 0.164, 'type': ' A ', 'logM': 6.8, 'Note': 'Liuetal2021'}\n",
      "{'_id': ObjectId('612d0315fabe476a2a90b2c6'), 'Name': 'WISEA J111025.44-000334.1 ', 'z': 0.219, 'type': ' A ', 'logM': 7.6, 'Note': 'Liuetal2021'}\n",
      "{'_id': ObjectId('612d0315fabe476a2a90b2c7'), 'Name': '2MASS J11132967+5313393 ', 'z': 0.239, 'type': ' A ', 'logM': 7.8, 'Note': 'Liuetal2021'}\n",
      "{'_id': ObjectId('612d0315fabe476a2a90b2c8'), 'Name': 'SDSS J111536.57+054449.7 ', 'z': 0.09, 'type': ' A ', 'logM': 7.57, 'Note': 'Liuetal2021'}\n",
      "{'_id': ObjectId('612d0315fabe476a2a90b2c9'), 'Name': 'WISEA J111829.66+320400.0 ', 'z': 0.366, 'type': ' A ', 'logM': 7.7, 'Note': 'Liuetal2021'}\n",
      "{'_id': ObjectId('612d0315fabe476a2a90b2ca'), 'Name': '2MASX J11180325+4506463 ', 'z': 0.107, 'type': ' A ', 'logM': ' - ', 'Note': 'Liuetal2021'}\n",
      "{'_id': ObjectId('612d0315fabe476a2a90b2cb'), 'Name': 'WISEA J112637.73+513423.0 ', 'z': 0.026, 'type': ' A ', 'logM': ' - ', 'Note': 'Liuetal2021'}\n",
      "{'_id': ObjectId('612d0315fabe476a2a90b2cc'), 'Name': 'WISEA J113229.14+035729.1 ', 'z': 0.091, 'type': ' A ', 'logM': 7.93, 'Note': 'Liuetal2021'}\n",
      "{'_id': ObjectId('612d0315fabe476a2a90b2cd'), 'Name': 'SDSS J113355.93+670107.0 ', 'z': 0.04, 'type': ' A ', 'logM': 8.17, 'Note': 'Liuetal2021'}\n",
      "{'_id': ObjectId('612d0315fabe476a2a90b2ce'), 'Name': 'WISEA J115039.31+363258.3 ', 'z': 0.34, 'type': ' A ', 'logM': 7.9, 'Note': 'Liuetal2021'}\n",
      "{'_id': ObjectId('612d0315fabe476a2a90b2cf'), 'Name': 'WISEA J115227.47+320959.3 ', 'z': 0.374, 'type': ' A ', 'logM': 8.1, 'Note': 'Liuetal2021'}\n",
      "{'_id': ObjectId('612d0315fabe476a2a90b2d0'), 'Name': 'SDSS J120447.91+170256.8 ', 'z': 0.298, 'type': ' A ', 'logM': 8, 'Note': 'Liuetal2021'}\n",
      "{'_id': ObjectId('612d0315fabe476a2a90b2d1'), 'Name': 'SDSS J120544.68+342252.4 ', 'z': 2.068, 'type': ' A ', 'logM': 9.73, 'Note': 'Liuetal2021'}\n",
      "{'_id': ObjectId('612d0315fabe476a2a90b2d2'), 'Name': 'SDSS J122550.30+510846.3 ', 'z': 0.168, 'type': ' A ', 'logM': 8.62, 'Note': 'Liuetal2021'}\n",
      "{'_id': ObjectId('612d0315fabe476a2a90b2d3'), 'Name': '2MASS J12335916+0842112 ', 'z': 0.256, 'type': ' A ', 'logM': 8.7, 'Note': 'Liuetal2021'}\n",
      "{'_id': ObjectId('612d0315fabe476a2a90b2d4'), 'Name': 'SDSS J125258.72+591832.7 ', 'z': 0.124, 'type': ' A ', 'logM': ' - ', 'Note': 'Liuetal2021'}\n",
      "{'_id': ObjectId('612d0315fabe476a2a90b2d5'), 'Name': 'SDSS J125403.78+491452.8 ', 'z': 0.067, 'type': ' A ', 'logM': 8.26, 'Note': 'Liuetal2021'}\n",
      "{'_id': ObjectId('612d0315fabe476a2a90b2d6'), 'Name': 'WISEA J125916.74+551507.1 ', 'z': 0.199, 'type': ' A ', 'logM': 7.9, 'Note': 'Liuetal2021'}\n",
      "{'_id': ObjectId('612d0315fabe476a2a90b2d7'), 'Name': 'SDSS J130716.99+450645.3 ', 'z': 0.084, 'type': ' A ', 'logM': ' - ', 'Note': 'Liuetal2021'}\n",
      "{'_id': ObjectId('612d0315fabe476a2a90b2d8'), 'Name': 'SDSS J131615.95+301552.2 ', 'z': 0.049, 'type': ' A ', 'logM': 7.06, 'Note': 'Liuetal2021'}\n",
      "{'_id': ObjectId('612d0315fabe476a2a90b2d9'), 'Name': 'SDSS J131737.93+102427.7 ', 'z': 0.28, 'type': ' A ', 'logM': ' - ', 'Note': 'Liuetal2021'}\n",
      "{'_id': ObjectId('612d0315fabe476a2a90b2da'), 'Name': 'WISEA J131930.75+675355.4 ', 'z': 0.166, 'type': ' A ', 'logM': 7.51, 'Note': 'Liuetal2021'}\n",
      "{'_id': ObjectId('612d0315fabe476a2a90b2db'), 'Name': 'SDSS J132457.29+480241.2 ', 'z': 0.272, 'type': ' A ', 'logM': 8, 'Note': 'Liuetal2021'}\n",
      "{'_id': ObjectId('612d0315fabe476a2a90b2dc'), 'Name': 'WISEA J135855.82+493414.0 ', 'z': 0.116, 'type': ' A ', 'logM': 6.9, 'Note': 'Liuetal2021'}\n",
      "{'_id': ObjectId('612d0315fabe476a2a90b2dd'), 'Name': 'SDSS J141324.27+530527.0 ', 'z': 0.456, 'type': ' A ', 'logM': 8.2, 'Note': 'Liuetal2021'}\n",
      "{'_id': ObjectId('612d0315fabe476a2a90b2de'), 'Name': '2MASS J14284671+1723530 ', 'z': 0.104, 'type': ' A ', 'logM': 7.6, 'Note': 'Liuetal2021'}\n",
      "{'_id': ObjectId('612d0315fabe476a2a90b2df'), 'Name': '2MASS J14345529+5723449 ', 'z': 0.174, 'type': ' A ', 'logM': ' - ', 'Note': 'Liuetal2021'}\n",
      "{'_id': ObjectId('612d0315fabe476a2a90b2e0'), 'Name': 'WISEA J144754.23+283324.1 ', 'z': 0.163, 'type': ' A ', 'logM': 8, 'Note': 'Liuetal2021'}\n",
      "{'_id': ObjectId('612d0315fabe476a2a90b2e1'), 'Name': 'SDSS J152533.60+292012.1 ', 'z': 0.449, 'type': ' A ', 'logM': 8, 'Note': 'Liuetal2021'}\n",
      "{'_id': ObjectId('612d0315fabe476a2a90b2e2'), 'Name': 'SDSS J153308.02+443208.4 ', 'z': 0.037, 'type': ' A ', 'logM': 7.6, 'Note': 'Liuetal2021'}\n",
      "{'_id': ObjectId('612d0315fabe476a2a90b2e3'), 'Name': 'WISEA J153355.99+011029.7 ', 'z': 0.143, 'type': ' A ', 'logM': 7.9, 'Note': 'Liuetal2021'}\n",
      "{'_id': ObjectId('612d0315fabe476a2a90b2e4'), 'Name': '2MASS J15361278+0342457 ', 'z': 0.365, 'type': ' A ', 'logM': 8.2, 'Note': 'Liuetal2021'}\n",
      "{'_id': ObjectId('612d0315fabe476a2a90b2e5'), 'Name': '2MASS J15373408+4613585 ', 'z': 0.378, 'type': ' A ', 'logM': 8, 'Note': 'Liuetal2021'}\n",
      "{'_id': ObjectId('612d0315fabe476a2a90b2e6'), 'Name': 'WISEA J154507.52+170950.8 ', 'z': 0.048, 'type': ' A ', 'logM': 7.4, 'Note': 'Liuetal2021'}\n",
      "{'_id': ObjectId('612d0315fabe476a2a90b2e7'), 'Name': 'WISEA J154529.63+251127.9 ', 'z': 0.117, 'type': ' A ', 'logM': 8.12, 'Note': 'Liuetal2021'}\n",
      "{'_id': ObjectId('612d0315fabe476a2a90b2e8'), 'Name': 'SDSS J154953.60+112148.3 ', 'z': 0.084, 'type': ' A ', 'logM': ' - ', 'Note': 'Liuetal2021'}\n",
      "{'_id': ObjectId('612d0315fabe476a2a90b2e9'), 'Name': 'WISEA J155017.23+413902.4 ', 'z': 0.22, 'type': ' A ', 'logM': 8.27, 'Note': 'Liuetal2021'}\n",
      "{'_id': ObjectId('612d0315fabe476a2a90b2ea'), 'Name': 'WISEA J155258.27+273728.5 ', 'z': 0.086, 'type': ' A ', 'logM': 8.09, 'Note': 'Liuetal2021'}\n",
      "{'_id': ObjectId('612d0315fabe476a2a90b2eb'), 'Name': 'SDSS J155440.25+362952.0 ', 'z': 0.237, 'type': ' A ', 'logM': 8, 'Note': 'Liuetal2021'}\n",
      "{'_id': ObjectId('612d0315fabe476a2a90b2ec'), 'Name': '2MASS J16011122+4745095 ', 'z': 0.297, 'type': ' A ', 'logM': 7.9, 'Note': 'Liuetal2021'}\n",
      "{'_id': ObjectId('612d0315fabe476a2a90b2ed'), 'Name': '2MASX J16050519+4526348 ', 'z': 0.043, 'type': ' A ', 'logM': ' - ', 'Note': 'Liuetal2021'}\n",
      "{'_id': ObjectId('612d0315fabe476a2a90b2ee'), 'Name': '2MASS J16171142+0638333 ', 'z': 0.229, 'type': ' A ', 'logM': 8, 'Note': 'Liuetal2021'}\n",
      "{'_id': ObjectId('612d0315fabe476a2a90b2ef'), 'Name': 'WISEA J162415.02+455130.2 ', 'z': 0.481, 'type': ' A ', 'logM': 8.1, 'Note': 'Liuetal2021'}\n",
      "{'_id': ObjectId('612d0315fabe476a2a90b2f0'), 'Name': 'SDSS J162501.43+241547.3 ', 'z': 0.05, 'type': ' A ', 'logM': 6.66, 'Note': 'Liuetal2021'}\n",
      "{'_id': ObjectId('612d0315fabe476a2a90b2f1'), 'Name': 'SDSS J162752.18+541912.5 ', 'z': 0.316, 'type': ' A ', 'logM': ' - ', 'Note': 'Liuetal2021'}\n",
      "{'_id': ObjectId('612d0315fabe476a2a90b2f2'), 'Name': 'SDSS J163629.66+410222.4 ', 'z': 0.047, 'type': ' A ', 'logM': 7, 'Note': 'Liuetal2021'}\n",
      "{'_id': ObjectId('612d0315fabe476a2a90b2f3'), 'Name': 'SDSS J163852.93+282707.8 ', 'z': 2.185, 'type': ' A ', 'logM': 9.09, 'Note': 'Liuetal2021'}\n",
      "{'_id': ObjectId('612d0315fabe476a2a90b2f4'), 'Name': 'SDSS J171353.85+273626.8 ', 'z': 0.298, 'type': ' A ', 'logM': ' - ', 'Note': 'Liuetal2021'}\n",
      "{'_id': ObjectId('612d0315fabe476a2a90b2f5'), 'Name': 'SDSS J172322.31+550413.8 ', 'z': 0.295, 'type': ' A ', 'logM': 8.57, 'Note': 'Liuetal2021'}\n",
      "{'_id': ObjectId('612d0315fabe476a2a90b2f6'), 'Name': '2MASX J20075129-1108346 ', 'z': 0.031, 'type': ' A ', 'logM': ' - ', 'Note': 'Liuetal2021'}\n",
      "{'_id': ObjectId('612d0315fabe476a2a90b2f7'), 'Name': '2MASS J21020044+0005020 ', 'z': 0.329, 'type': ' A ', 'logM': 8, 'Note': 'Liuetal2021'}\n",
      "{'_id': ObjectId('612d0315fabe476a2a90b2f8'), 'Name': 'SDSS J214613.31+000930.8 ', 'z': 0.622, 'type': ' A ', 'logM': 8.3, 'Note': 'Liuetal2021'}\n",
      "{'_id': ObjectId('612d0315fabe476a2a90b2f9'), 'Name': 'SDSS J220537.71-071114.5', 'z': 0.295, 'type': ' A ', 'logM': 8, 'Note': 'Liuetal2021'}\n",
      "{'_id': ObjectId('612d0315fabe476a2a90b2fa'), 'Name': 'SDSS J222153.87+003054.2 ', 'z': 0.124, 'type': ' A ', 'logM': 6.46, 'Note': 'Liuetal2021'}\n",
      "{'_id': ObjectId('612d0315fabe476a2a90b2fb'), 'Name': 'SDSS J222818.76+220102.9 ', 'z': 2.217, 'type': ' A ', 'logM': 9.37, 'Note': 'Liuetal2021'}\n",
      "{'_id': ObjectId('612d0315fabe476a2a90b2fc'), 'Name': 'SDSS J224448.72+004347.1 ', 'z': 0.637, 'type': ' A ', 'logM': 7.8, 'Note': 'Liuetal2021'}\n",
      "{'_id': ObjectId('612d0315fabe476a2a90b2fd'), 'Name': 'SDSS J225240.37+010958.7 ', 'z': 0.533, 'type': ' A ', 'logM': 8.2, 'Note': 'Liuetal2021'}\n",
      "{'_id': ObjectId('612d0315fabe476a2a90b2fe'), 'Name': 'SDSS J233317.38-002303.4 ', 'z': 0.513, 'type': ' A ', 'logM': 8.3, 'Note': 'Liuetal2021'}\n",
      "{'_id': ObjectId('612d0315fabe476a2a90b2ff'), 'Name': 'SDSS J233602.98+001728.7 ', 'z': 0.243, 'type': ' A ', 'logM': 8.26, 'Note': 'Liuetal2021'}\n",
      "{'_id': ObjectId('612d0315fabe476a2a90b300'), 'Name': 'SDSS J235107.43-091318.0 ', 'z': 0.354, 'type': ' A ', 'logM': 7.9, 'Note': 'Liuetal2021'}\n"
     ]
    }
   ],
   "source": [
    "for x in mycol_CLAGN.find({'Note':'Liuetal2021'}):\n",
    "    print(x)"
   ]
  },
  {
   "cell_type": "code",
   "execution_count": 76,
   "metadata": {
    "ExecuteTime": {
     "end_time": "2021-08-30T11:34:09.072047Z",
     "start_time": "2021-08-30T11:34:09.067098Z"
    }
   },
   "outputs": [
    {
     "name": "stdout",
     "output_type": "stream",
     "text": [
      "{'_id': ObjectId('612cbe25fabe476a2a90b26f'), 'name': 'Mrk1018', 'title': 'Long-term and multiwavelength evolution of a changing-look AGN Mrk 1018', 'ref': '2021MNRAS.506.4188L', 'url': 'https://ui.adsabs.harvard.edu/abs/2021MNRAS.506.4188L'}\n"
     ]
    }
   ],
   "source": [
    "myresult_limit3 = mycol_CLAGN.find().limit(1)\n",
    "# 输出结果\n",
    "for x in myresult_limit3:\n",
    "    print(x)"
   ]
  },
  {
   "cell_type": "code",
   "execution_count": null,
   "metadata": {},
   "outputs": [],
   "source": []
  },
  {
   "cell_type": "code",
   "execution_count": 80,
   "metadata": {
    "ExecuteTime": {
     "end_time": "2021-08-30T15:14:42.666620Z",
     "start_time": "2021-08-30T15:14:42.661339Z"
    }
   },
   "outputs": [
    {
     "name": "stdout",
     "output_type": "stream",
     "text": [
      "{'_id': ObjectId('612cbe25fabe476a2a90b26f'), 'name': 'Mrk1018', 'title': 'Long-term and multiwavelength evolution of a changing-look AGN Mrk 1018', 'ref': '2021MNRAS.506.4188L', 'url': 'https://ui.adsabs.harvard.edu/abs/2021MNRAS.506.4188L'}\n"
     ]
    }
   ],
   "source": [
    "myquery_1 = { \"name\":  \"Mrk1018\" }\n",
    "mydoc = mycol_CLAGN.find(myquery_1)\n",
    "for x in mydoc:\n",
    "    print(x)"
   ]
  },
  {
   "cell_type": "code",
   "execution_count": null,
   "metadata": {},
   "outputs": [],
   "source": []
  },
  {
   "cell_type": "markdown",
   "metadata": {},
   "source": [
    "### delete"
   ]
  },
  {
   "cell_type": "markdown",
   "metadata": {
    "ExecuteTime": {
     "end_time": "2021-08-30T11:22:10.413534Z",
     "start_time": "2021-08-30T11:22:10.407785Z"
    }
   },
   "source": [
    "myquery_1 = { \"name\": {\"$regex\": \"^R\"}}#删除所有 name 字段中以 F 开头的文档:\n",
    "x = mycol_CLAGN.delete_many(myquery_1)\n",
    "print(x.deleted_count, \"个文档已删除\")"
   ]
  },
  {
   "cell_type": "code",
   "execution_count": 67,
   "metadata": {
    "ExecuteTime": {
     "end_time": "2021-08-30T11:31:01.096103Z",
     "start_time": "2021-08-30T11:31:01.081725Z"
    },
    "scrolled": true
   },
   "outputs": [
    {
     "name": "stdout",
     "output_type": "stream",
     "text": [
      "1 个文档已删除\n"
     ]
    }
   ],
   "source": [
    "myquery_2 = { \"_id\": '0'}#删除所有 name 字段中以 F 开头的文档:\n",
    "x = mycol_CLAGN.delete_many(myquery_2)\n",
    "print(x.deleted_count, \"个文档已删除\")"
   ]
  },
  {
   "cell_type": "markdown",
   "metadata": {},
   "source": [
    "myquery = { \"name\": \"Taobao\" }\n",
    "mycol.delete_one(myquery)\n",
    "\n",
    "myquery = { \"name\": {\"$regex\": \"^F\"} }\n",
    "x = mycol.delete_many(myquery)\n",
    "print(x.deleted_count, \"个文档已删除\")"
   ]
  },
  {
   "cell_type": "markdown",
   "metadata": {},
   "source": [
    "mycol.drop()# drop() 方法来删除一个集合"
   ]
  },
  {
   "cell_type": "code",
   "execution_count": null,
   "metadata": {},
   "outputs": [],
   "source": []
  },
  {
   "cell_type": "markdown",
   "metadata": {},
   "source": [
    "### edit data"
   ]
  },
  {
   "cell_type": "code",
   "execution_count": 65,
   "metadata": {
    "ExecuteTime": {
     "end_time": "2021-08-30T11:30:18.063834Z",
     "start_time": "2021-08-30T11:30:18.041909Z"
    }
   },
   "outputs": [
    {
     "data": {
      "text/plain": [
       "<pymongo.results.UpdateResult at 0x111254e40>"
      ]
     },
     "execution_count": 65,
     "metadata": {},
     "output_type": "execute_result"
    }
   ],
   "source": [
    "myquery = { \"ref\": \"2021MNRAS.506.4188L\" }\n",
    "newvalues = { \"$set\": { \"url\": \"https://ui.adsabs.harvard.edu/abs/2021MNRAS.506.4188L\" } }\n",
    "mycol_CLAGN.update_one(myquery, newvalues)"
   ]
  },
  {
   "cell_type": "code",
   "execution_count": 101,
   "metadata": {
    "ExecuteTime": {
     "end_time": "2021-08-30T15:34:53.761633Z",
     "start_time": "2021-08-30T15:34:53.755266Z"
    }
   },
   "outputs": [
    {
     "name": "stdout",
     "output_type": "stream",
     "text": [
      "{'_id': 0, 'url': 'https://ui.adsabs.harvard.edu/abs/2020ApJ...892...93C', 'name': 'NGC4395', 'title': 'Variability and the Size-Luminosity Relation of the Intermediate-mass AGN in NGC 4395'}\n",
      "{'_id': '0', 'url': 'https://ui.adsabs.harvard.edu/abs/2021MNRAS.507..687J', 'name': 'NGC1566', 'title': 'Broad-band X-ray observations of the 2018 outburst of the changing-look active galactic nucleus NGC 1566'}\n",
      "{'_id': ObjectId('612cbe25fabe476a2a90b26f'), 'name': 'Mrk1018', 'title': 'Long-term and multiwavelength evolution of a changing-look AGN Mrk 1018', 'ref': '2021MNRAS.506.4188L', 'url': 'https://ui.adsabs.harvard.edu/abs/2021MNRAS.506.4188L'}\n"
     ]
    }
   ],
   "source": [
    "mydoc = mycol_CLAGN.find().sort(\"name\",-1)#第二个字段指定排序规则，1 为升序，-1 为降序，默认为升序\n",
    "for x in mydoc:\n",
    "    print(x)"
   ]
  },
  {
   "cell_type": "code",
   "execution_count": null,
   "metadata": {},
   "outputs": [],
   "source": []
  },
  {
   "cell_type": "code",
   "execution_count": 98,
   "metadata": {
    "ExecuteTime": {
     "end_time": "2021-08-30T15:34:35.315902Z",
     "start_time": "2021-08-30T15:34:35.306054Z"
    }
   },
   "outputs": [
    {
     "data": {
      "text/plain": [
       "<pymongo.results.UpdateResult at 0x111a40ac0>"
      ]
     },
     "execution_count": 98,
     "metadata": {},
     "output_type": "execute_result"
    }
   ],
   "source": [
    "myquery = { \"_id\": \"0\" }\n",
    "newvalues = { \"$set\": { \"name\": \"NGC1566\" } }\n",
    "mycol_CLAGN.update_one(myquery, newvalues)\n",
    "\n",
    "myquery = { \"_id\": \"0\" }\n",
    "newvalues = { \"$set\": { \"title\": \"Broad-band X-ray observations of the 2018 outburst of the changing-look active galactic nucleus NGC 1566\" } }\n",
    "mycol_CLAGN.update_one(myquery, newvalues)\n",
    "\n",
    "myquery = { \"_id\": \"0\" }\n",
    "newvalues = { \"$set\": { \"url\": \"https://ui.adsabs.harvard.edu/abs/2021MNRAS.507..687J\" } }\n",
    "mycol_CLAGN.update_one(myquery, newvalues)\n",
    "\n",
    "\n",
    "\n"
   ]
  },
  {
   "cell_type": "code",
   "execution_count": 99,
   "metadata": {
    "ExecuteTime": {
     "end_time": "2021-08-30T15:34:43.816396Z",
     "start_time": "2021-08-30T15:34:43.806365Z"
    }
   },
   "outputs": [
    {
     "data": {
      "text/plain": [
       "<pymongo.results.UpdateResult at 0x10f4b5b80>"
      ]
     },
     "execution_count": 99,
     "metadata": {},
     "output_type": "execute_result"
    }
   ],
   "source": [
    "myquery = { \"_id\": 0 }\n",
    "newvalues = { \"$set\": { \"name\": \"NGC4395\" } }\n",
    "mycol_CLAGN.update_one(myquery, newvalues)\n",
    "\n",
    "\n",
    "myquery = { \"_id\": 0 }\n",
    "newvalues = { \"$set\": { \"title\": \"Variability and the Size-Luminosity Relation of the Intermediate-mass AGN in NGC 4395\" } }\n",
    "mycol_CLAGN.update_one(myquery, newvalues)\n",
    "\n",
    "myquery = { \"_id\": 0 }\n",
    "newvalues = { \"$set\": { \"url\": \"https://ui.adsabs.harvard.edu/abs/2020ApJ...892...93C\" } }\n",
    "mycol_CLAGN.update_one(myquery, newvalues)\n"
   ]
  },
  {
   "cell_type": "code",
   "execution_count": 102,
   "metadata": {
    "ExecuteTime": {
     "end_time": "2021-08-30T15:47:30.954397Z",
     "start_time": "2021-08-30T15:47:30.941803Z"
    }
   },
   "outputs": [
    {
     "name": "stdout",
     "output_type": "stream",
     "text": [
      "{'_id': ObjectId('612cbe25fabe476a2a90b26f'), 'name': 'Mrk1018', 'title': 'Long-term and multiwavelength evolution of a changing-look AGN Mrk 1018', 'ref': '2021MNRAS.506.4188L', 'url': 'https://ui.adsabs.harvard.edu/abs/2021MNRAS.506.4188L'}\n",
      "{'_id': '0', 'url': 'https://ui.adsabs.harvard.edu/abs/2021MNRAS.507..687J', 'name': 'NGC1566', 'title': 'Broad-band X-ray observations of the 2018 outburst of the changing-look active galactic nucleus NGC 1566'}\n",
      "{'_id': 0, 'url': 'https://ui.adsabs.harvard.edu/abs/2020ApJ...892...93C', 'name': 'NGC4395', 'title': 'Variability and the Size-Luminosity Relation of the Intermediate-mass AGN in NGC 4395'}\n"
     ]
    }
   ],
   "source": [
    "for x in mycol_CLAGN.find():\n",
    "    print(x)"
   ]
  },
  {
   "cell_type": "code",
   "execution_count": null,
   "metadata": {},
   "outputs": [],
   "source": []
  },
  {
   "cell_type": "code",
   "execution_count": null,
   "metadata": {},
   "outputs": [],
   "source": []
  },
  {
   "cell_type": "markdown",
   "metadata": {},
   "source": [
    "myquery = { \"address\": { \"$regex\": \"^S\" } }\n",
    "newvalues = { \"$set\": { \"name\": \"Minnie\" } }\n",
    "x = mycol.update_many(myquery, newvalues)\n"
   ]
  },
  {
   "cell_type": "code",
   "execution_count": null,
   "metadata": {},
   "outputs": [],
   "source": []
  },
  {
   "cell_type": "markdown",
   "metadata": {},
   "source": [
    "### count"
   ]
  },
  {
   "cell_type": "markdown",
   "metadata": {},
   "source": [
    "计数统计如果只想知道有多少文档匹配查询，可以执行count()方法操作"
   ]
  },
  {
   "cell_type": "code",
   "execution_count": null,
   "metadata": {},
   "outputs": [],
   "source": [
    "print(\"posts count is = \", posts.count())\n",
    "print(\"posts's author is Maxsu count is =\", posts.find({\"author\": \"Maxsu\"}).count())"
   ]
  },
  {
   "cell_type": "markdown",
   "metadata": {},
   "source": [
    "## pandas"
   ]
  },
  {
   "cell_type": "markdown",
   "metadata": {},
   "source": [
    "### 读取mongdb数据"
   ]
  },
  {
   "cell_type": "code",
   "execution_count": 106,
   "metadata": {
    "ExecuteTime": {
     "end_time": "2021-08-30T15:50:40.589187Z",
     "start_time": "2021-08-30T15:50:40.582167Z"
    }
   },
   "outputs": [],
   "source": [
    "import pandas as pd \n",
    "# 设置MongoDB连接信息\n",
    "\n",
    "data = pd.DataFrame(list(mycol_CLAGN.find()))\n",
    "# 删除mongodb中的_id字段del data['_id']#\n",
    "选择需要显示的字段data = data[['name','title','url']]\n",
    "#print(data)"
   ]
  },
  {
   "cell_type": "markdown",
   "metadata": {
    "ExecuteTime": {
     "end_time": "2021-08-30T15:50:44.242972Z",
     "start_time": "2021-08-30T15:50:43.998256Z"
    }
   },
   "source": [
    "data"
   ]
  },
  {
   "cell_type": "code",
   "execution_count": 111,
   "metadata": {
    "ExecuteTime": {
     "end_time": "2021-08-30T15:54:43.388693Z",
     "start_time": "2021-08-30T15:54:43.385013Z"
    }
   },
   "outputs": [],
   "source": [
    "import pymongo\n",
    "import pandas as pd\n",
    "import csv \n",
    "df_data = mycol_CLAGN.find({ 'name':{'$regex':'^N'}}) "
   ]
  },
  {
   "cell_type": "code",
   "execution_count": 113,
   "metadata": {
    "ExecuteTime": {
     "end_time": "2021-08-30T15:55:37.688338Z",
     "start_time": "2021-08-30T15:55:37.675004Z"
    }
   },
   "outputs": [
    {
     "name": "stdout",
     "output_type": "stream",
     "text": [
      "{'_id': '0', 'url': 'https://ui.adsabs.harvard.edu/abs/2021MNRAS.507..687J', 'name': 'NGC1566', 'title': 'Broad-band X-ray observations of the 2018 outburst of the changing-look active galactic nucleus NGC 1566'}\n",
      "{'_id': 0, 'url': 'https://ui.adsabs.harvard.edu/abs/2020ApJ...892...93C', 'name': 'NGC4395', 'title': 'Variability and the Size-Luminosity Relation of the Intermediate-mass AGN in NGC 4395'}\n"
     ]
    }
   ],
   "source": [
    "for i in df_data:\n",
    "    print(i)"
   ]
  },
  {
   "cell_type": "markdown",
   "metadata": {
    "ExecuteTime": {
     "end_time": "2021-08-30T15:57:16.080761Z",
     "start_time": "2021-08-30T15:57:16.076782Z"
    }
   },
   "source": [
    "### 写入mongo"
   ]
  },
  {
   "cell_type": "code",
   "execution_count": 116,
   "metadata": {
    "ExecuteTime": {
     "end_time": "2021-08-30T15:58:49.626359Z",
     "start_time": "2021-08-30T15:58:49.619406Z"
    }
   },
   "outputs": [],
   "source": [
    "zarten_df = pd.DataFrame(np.arange(12).reshape((3,4)))\n",
    "zarten_data = json.loads(zarten_df.T.to_json()).values()\n",
    "#collection.insert_many(zarten_data)"
   ]
  },
  {
   "cell_type": "code",
   "execution_count": 117,
   "metadata": {
    "ExecuteTime": {
     "end_time": "2021-08-30T15:58:53.091998Z",
     "start_time": "2021-08-30T15:58:53.083547Z"
    }
   },
   "outputs": [
    {
     "data": {
      "text/html": [
       "<div>\n",
       "<style scoped>\n",
       "    .dataframe tbody tr th:only-of-type {\n",
       "        vertical-align: middle;\n",
       "    }\n",
       "\n",
       "    .dataframe tbody tr th {\n",
       "        vertical-align: top;\n",
       "    }\n",
       "\n",
       "    .dataframe thead th {\n",
       "        text-align: right;\n",
       "    }\n",
       "</style>\n",
       "<table border=\"1\" class=\"dataframe\">\n",
       "  <thead>\n",
       "    <tr style=\"text-align: right;\">\n",
       "      <th></th>\n",
       "      <th>0</th>\n",
       "      <th>1</th>\n",
       "      <th>2</th>\n",
       "      <th>3</th>\n",
       "    </tr>\n",
       "  </thead>\n",
       "  <tbody>\n",
       "    <tr>\n",
       "      <th>0</th>\n",
       "      <td>0</td>\n",
       "      <td>1</td>\n",
       "      <td>2</td>\n",
       "      <td>3</td>\n",
       "    </tr>\n",
       "    <tr>\n",
       "      <th>1</th>\n",
       "      <td>4</td>\n",
       "      <td>5</td>\n",
       "      <td>6</td>\n",
       "      <td>7</td>\n",
       "    </tr>\n",
       "    <tr>\n",
       "      <th>2</th>\n",
       "      <td>8</td>\n",
       "      <td>9</td>\n",
       "      <td>10</td>\n",
       "      <td>11</td>\n",
       "    </tr>\n",
       "  </tbody>\n",
       "</table>\n",
       "</div>"
      ],
      "text/plain": [
       "   0  1   2   3\n",
       "0  0  1   2   3\n",
       "1  4  5   6   7\n",
       "2  8  9  10  11"
      ]
     },
     "execution_count": 117,
     "metadata": {},
     "output_type": "execute_result"
    }
   ],
   "source": [
    "zarten_df "
   ]
  },
  {
   "cell_type": "code",
   "execution_count": 119,
   "metadata": {
    "ExecuteTime": {
     "end_time": "2021-08-30T15:59:20.045286Z",
     "start_time": "2021-08-30T15:59:20.037439Z"
    }
   },
   "outputs": [
    {
     "data": {
      "text/html": [
       "<div>\n",
       "<style scoped>\n",
       "    .dataframe tbody tr th:only-of-type {\n",
       "        vertical-align: middle;\n",
       "    }\n",
       "\n",
       "    .dataframe tbody tr th {\n",
       "        vertical-align: top;\n",
       "    }\n",
       "\n",
       "    .dataframe thead th {\n",
       "        text-align: right;\n",
       "    }\n",
       "</style>\n",
       "<table border=\"1\" class=\"dataframe\">\n",
       "  <thead>\n",
       "    <tr style=\"text-align: right;\">\n",
       "      <th></th>\n",
       "      <th>0</th>\n",
       "      <th>1</th>\n",
       "      <th>2</th>\n",
       "    </tr>\n",
       "  </thead>\n",
       "  <tbody>\n",
       "    <tr>\n",
       "      <th>0</th>\n",
       "      <td>0</td>\n",
       "      <td>4</td>\n",
       "      <td>8</td>\n",
       "    </tr>\n",
       "    <tr>\n",
       "      <th>1</th>\n",
       "      <td>1</td>\n",
       "      <td>5</td>\n",
       "      <td>9</td>\n",
       "    </tr>\n",
       "    <tr>\n",
       "      <th>2</th>\n",
       "      <td>2</td>\n",
       "      <td>6</td>\n",
       "      <td>10</td>\n",
       "    </tr>\n",
       "    <tr>\n",
       "      <th>3</th>\n",
       "      <td>3</td>\n",
       "      <td>7</td>\n",
       "      <td>11</td>\n",
       "    </tr>\n",
       "  </tbody>\n",
       "</table>\n",
       "</div>"
      ],
      "text/plain": [
       "   0  1   2\n",
       "0  0  4   8\n",
       "1  1  5   9\n",
       "2  2  6  10\n",
       "3  3  7  11"
      ]
     },
     "execution_count": 119,
     "metadata": {},
     "output_type": "execute_result"
    }
   ],
   "source": [
    "zarten_df.T"
   ]
  },
  {
   "cell_type": "code",
   "execution_count": 118,
   "metadata": {
    "ExecuteTime": {
     "end_time": "2021-08-30T15:59:08.808634Z",
     "start_time": "2021-08-30T15:59:08.804185Z"
    }
   },
   "outputs": [
    {
     "data": {
      "text/plain": [
       "dict_values([{'0': 0, '1': 1, '2': 2, '3': 3}, {'0': 4, '1': 5, '2': 6, '3': 7}, {'0': 8, '1': 9, '2': 10, '3': 11}])"
      ]
     },
     "execution_count": 118,
     "metadata": {},
     "output_type": "execute_result"
    }
   ],
   "source": [
    "zarten_data"
   ]
  },
  {
   "cell_type": "code",
   "execution_count": 120,
   "metadata": {
    "ExecuteTime": {
     "end_time": "2021-08-30T16:03:29.932786Z",
     "start_time": "2021-08-30T16:03:29.917376Z"
    }
   },
   "outputs": [
    {
     "data": {
      "text/plain": [
       "<pymongo.results.InsertManyResult at 0x111265fc0>"
      ]
     },
     "execution_count": 120,
     "metadata": {},
     "output_type": "execute_result"
    }
   ],
   "source": [
    "mycol.insert_many(zarten_data)"
   ]
  },
  {
   "cell_type": "code",
   "execution_count": 123,
   "metadata": {
    "ExecuteTime": {
     "end_time": "2021-08-30T16:03:43.961137Z",
     "start_time": "2021-08-30T16:03:43.954587Z"
    }
   },
   "outputs": [
    {
     "name": "stdout",
     "output_type": "stream",
     "text": [
      "{'_id': ObjectId('612cbe25fabe476a2a90b26f'), 'name': 'Mrk1018', 'title': 'Long-term and multiwavelength evolution of a changing-look AGN Mrk 1018', 'ref': '2021MNRAS.506.4188L', 'url': 'https://ui.adsabs.harvard.edu/abs/2021MNRAS.506.4188L'}\n",
      "{'_id': '0', 'url': 'https://ui.adsabs.harvard.edu/abs/2021MNRAS.507..687J', 'name': 'NGC1566', 'title': 'Broad-band X-ray observations of the 2018 outburst of the changing-look active galactic nucleus NGC 1566'}\n",
      "{'_id': 0, 'url': 'https://ui.adsabs.harvard.edu/abs/2020ApJ...892...93C', 'name': 'NGC4395', 'title': 'Variability and the Size-Luminosity Relation of the Intermediate-mass AGN in NGC 4395'}\n",
      "{'_id': ObjectId('612d0151fabe476a2a90b271'), '0': 0, '1': 1, '2': 2, '3': 3}\n",
      "{'_id': ObjectId('612d0151fabe476a2a90b272'), '0': 4, '1': 5, '2': 6, '3': 7}\n",
      "{'_id': ObjectId('612d0151fabe476a2a90b273'), '0': 8, '1': 9, '2': 10, '3': 11}\n"
     ]
    }
   ],
   "source": [
    "for i in mycol.find():\n",
    "    print(i)"
   ]
  },
  {
   "cell_type": "markdown",
   "metadata": {},
   "source": [
    "## sqlite3"
   ]
  },
  {
   "cell_type": "code",
   "execution_count": null,
   "metadata": {},
   "outputs": [],
   "source": [
    "sqlite3是内置模块，所以不需要安装的，直接import导入即可："
   ]
  },
  {
   "cell_type": "code",
   "execution_count": null,
   "metadata": {
    "ExecuteTime": {
     "end_time": "2021-01-12T03:21:54.570606Z",
     "start_time": "2021-01-12T03:21:53.106274Z"
    }
   },
   "outputs": [],
   "source": [
    "import sqlite3\n",
    "query=\"\"\"\n",
    "CREATE TABLE test\n",
    "(a VARCHAR(20),b VARCHAR(20),c REAL, d INTEGER);\n",
    "\"\"\"\n",
    "con=sqlite3.connect(':memory:')\n",
    "con.execute(query)\n",
    "con.commit()\n",
    "\n",
    "\n",
    "data={('altanta','georgia',1.25,6),('takkahassee','florida',2.6,3),('sacramento','california',1.7,5)}\n",
    "stmt=\"INSERT INTO test VALUES(?,?,?,?)\"\n",
    "con.executemany(stmt,data)\n",
    "con.commit()\n",
    "\n",
    "cursor=con.execute('select * from test')\n",
    "rows =cursor.fetchall()\n",
    "\n",
    "rows\n",
    "\n",
    "cursor.description\n",
    "\n"
   ]
  },
  {
   "cell_type": "markdown",
   "metadata": {},
   "source": [
    "## pandas.io.sql"
   ]
  },
  {
   "cell_type": "code",
   "execution_count": null,
   "metadata": {},
   "outputs": [],
   "source": [
    "import pandas\n",
    "from pandas import DataFrame\n",
    "#DataFrame(rows,columns=zip(*cursor.description)[0])\n",
    "\n",
    "import pandas.io.sql as sql\n",
    "sql.read_sql('select * from test',con)\n",
    "sql.read_sql_query('select * from test',con)"
   ]
  },
  {
   "cell_type": "code",
   "execution_count": null,
   "metadata": {},
   "outputs": [],
   "source": []
  },
  {
   "cell_type": "code",
   "execution_count": null,
   "metadata": {},
   "outputs": [],
   "source": []
  },
  {
   "cell_type": "code",
   "execution_count": null,
   "metadata": {},
   "outputs": [],
   "source": []
  },
  {
   "cell_type": "code",
   "execution_count": null,
   "metadata": {},
   "outputs": [],
   "source": []
  },
  {
   "cell_type": "markdown",
   "metadata": {},
   "source": [
    "## pymysql"
   ]
  },
  {
   "cell_type": "code",
   "execution_count": null,
   "metadata": {},
   "outputs": [],
   "source": [
    "PyMySQL是一个python与mysql的沟通管道，需要你在本地安装配置好mysql才能使用"
   ]
  },
  {
   "cell_type": "code",
   "execution_count": null,
   "metadata": {},
   "outputs": [],
   "source": [
    "import pymysql.cursors\n",
    "\n",
    "conn = pymysql.connect(host='localhost', port=3306, user='root', passwd='', db='mysql')\n",
    "\n",
    "cur = conn.cursor()\n",
    "\n",
    "cur.execute(\"SELECT Host,User FROM user\")\n",
    "\n",
    "print(cur.description)\n",
    "\n",
    "print()\n",
    "\n",
    "for row in cur:\n",
    "    print(row)\n",
    "\n",
    "cur.close()\n",
    "conn.close()"
   ]
  },
  {
   "cell_type": "code",
   "execution_count": null,
   "metadata": {},
   "outputs": [],
   "source": [
    "import pymysql.cursors\n",
    "\n",
    "\n",
    "\n",
    "# Connect to the database\n",
    "connection = pymysql.connect(host='localhost',\n",
    "                             user='user',\n",
    "                             password='passwd',\n",
    "                             db='db',\n",
    "                             charset='utf8mb4',\n",
    "                             cursorclass=pymysql.cursors.DictCursor)\n",
    "\n",
    "try:\n",
    "    with connection.cursor() as cursor:\n",
    "        # Create a new record\n",
    "        sql = \"INSERT INTO `users` (`email`, `password`) VALUES (%s, %s)\"\n",
    "        cursor.execute(sql, ('webmaster@python.org', 'very-secret'))\n",
    "\n",
    "    # connection is not autocommit by default. So you must commit to save\n",
    "    # your changes.\n",
    "    connection.commit()\n",
    "\n",
    "    with connection.cursor() as cursor:\n",
    "        # Read a single record\n",
    "        sql = \"SELECT `id`, `password` FROM `users` WHERE `email`=%s\"\n",
    "        cursor.execute(sql, ('webmaster@python.org',))\n",
    "        result = cursor.fetchone()\n",
    "        print(result)\n",
    "finally:\n",
    "    connection.close()"
   ]
  },
  {
   "cell_type": "markdown",
   "metadata": {},
   "source": [
    "## MySQLdb"
   ]
  },
  {
   "cell_type": "code",
   "execution_count": null,
   "metadata": {},
   "outputs": [],
   "source": [
    "为了用DB-API编写MySQL脚本，必须确保已经安装了MySQL"
   ]
  },
  {
   "cell_type": "code",
   "execution_count": 8,
   "metadata": {
    "ExecuteTime": {
     "end_time": "2021-08-30T10:18:38.679264Z",
     "start_time": "2021-08-30T10:18:38.422238Z"
    }
   },
   "outputs": [
    {
     "ename": "ModuleNotFoundError",
     "evalue": "No module named 'MySQLdb'",
     "output_type": "error",
     "traceback": [
      "\u001b[0;31m---------------------------------------------------------------------------\u001b[0m",
      "\u001b[0;31mModuleNotFoundError\u001b[0m                       Traceback (most recent call last)",
      "\u001b[0;32m<ipython-input-8-1ca246cdd999>\u001b[0m in \u001b[0;36m<module>\u001b[0;34m\u001b[0m\n\u001b[0;32m----> 1\u001b[0;31m \u001b[0;32mimport\u001b[0m \u001b[0mMySQLdb\u001b[0m\u001b[0;34m\u001b[0m\u001b[0;34m\u001b[0m\u001b[0m\n\u001b[0m",
      "\u001b[0;31mModuleNotFoundError\u001b[0m: No module named 'MySQLdb'"
     ]
    }
   ],
   "source": [
    "import MySQLdb"
   ]
  },
  {
   "cell_type": "code",
   "execution_count": null,
   "metadata": {},
   "outputs": [],
   "source": []
  },
  {
   "cell_type": "markdown",
   "metadata": {},
   "source": []
  }
 ],
 "metadata": {
  "kernelspec": {
   "display_name": "Python 3",
   "language": "python",
   "name": "python3"
  },
  "language_info": {
   "codemirror_mode": {
    "name": "ipython",
    "version": 3
   },
   "file_extension": ".py",
   "mimetype": "text/x-python",
   "name": "python",
   "nbconvert_exporter": "python",
   "pygments_lexer": "ipython3",
   "version": "3.8.5"
  },
  "latex_envs": {
   "LaTeX_envs_menu_present": true,
   "autocomplete": true,
   "bibliofile": "biblio.bib",
   "cite_by": "apalike",
   "current_citInitial": 1,
   "eqLabelWithNumbers": true,
   "eqNumInitial": 1,
   "hotkeys": {
    "equation": "Ctrl-E",
    "itemize": "Ctrl-I"
   },
   "labels_anchors": false,
   "latex_user_defs": false,
   "report_style_numbering": false,
   "user_envs_cfg": false
  },
  "toc": {
   "nav_menu": {},
   "number_sections": true,
   "sideBar": true,
   "skip_h1_title": false,
   "toc_cell": false,
   "toc_position": {
    "height": "508px",
    "left": "0px",
    "right": "1043px",
    "top": "158px",
    "width": "212px"
   },
   "toc_section_display": "block",
   "toc_window_display": true
  }
 },
 "nbformat": 4,
 "nbformat_minor": 2
}
