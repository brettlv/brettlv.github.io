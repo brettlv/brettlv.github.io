{
 "cells": [
  {
   "cell_type": "code",
   "execution_count": 2,
   "metadata": {
    "ExecuteTime": {
     "end_time": "2021-01-17T07:53:33.428433Z",
     "start_time": "2021-01-17T07:53:33.320081Z"
    }
   },
   "outputs": [],
   "source": [
    "# Start with some imports!\n",
    "from ipywidgets import interact\n",
    "import ipywidgets as widgets"
   ]
  },
  {
   "cell_type": "code",
   "execution_count": 3,
   "metadata": {
    "ExecuteTime": {
     "end_time": "2021-01-17T07:53:34.076463Z",
     "start_time": "2021-01-17T07:53:34.068502Z"
    }
   },
   "outputs": [
    {
     "data": {
      "text/html": [
       "\n",
       "        <iframe\n",
       "            width=\"800\"\n",
       "            height=\"450\"\n",
       "            src=\"https://en.wikipedia.org/wiki/\"\n",
       "            frameborder=\"0\"\n",
       "            allowfullscreen\n",
       "        ></iframe>\n",
       "        "
      ],
      "text/plain": [
       "<IPython.lib.display.IFrame at 0x110a98f10>"
      ]
     },
     "execution_count": 3,
     "metadata": {},
     "output_type": "execute_result"
    }
   ],
   "source": [
    "#Note that http urls will not be displayed. Only https are allowed inside the Iframe\n",
    "from IPython.display import IFrame,display\n",
    "IFrame('https://en.wikipedia.org/wiki/', width=800, height=450)"
   ]
  },
  {
   "cell_type": "markdown",
   "metadata": {
    "ExecuteTime": {
     "end_time": "2021-01-17T07:53:58.451416Z",
     "start_time": "2021-01-17T07:53:58.445527Z"
    }
   },
   "source": [
    "from IPython.display import IFrame\n",
    "IFrame('https://brettlv.github.io/radiolearnnote/casa_notebook_lvbing_20171123.pptx', width=800, height=450)"
   ]
  },
  {
   "cell_type": "code",
   "execution_count": 1,
   "metadata": {
    "ExecuteTime": {
     "end_time": "2022-09-12T02:49:26.932000Z",
     "start_time": "2022-09-12T02:49:26.908219Z"
    }
   },
   "outputs": [
    {
     "data": {
      "text/html": [
       "<div align=\"center\"><iframe src=\"./mwa_paper/mwa_sources.pptx\" frameborder=\"0\" width=\"800\" height=\"450\" allowfullscreen=\"true\" mozallowfullscreen=\"true\" webkitallowfullscreen=\"true\">\n",
       "</iframe></div>\n"
      ],
      "text/plain": [
       "<IPython.core.display.HTML object>"
      ]
     },
     "metadata": {},
     "output_type": "display_data"
    }
   ],
   "source": [
    "%%HTML\n",
    "<div align=\"center\"><iframe src=\"./mwa_paper/mwa_sources.pptx\" frameborder=\"0\" width=\"800\" height=\"450\" allowfullscreen=\"true\" mozallowfullscreen=\"true\" webkitallowfullscreen=\"true\">\n",
    "</iframe></div>"
   ]
  },
  {
   "cell_type": "code",
   "execution_count": 10,
   "metadata": {
    "ExecuteTime": {
     "end_time": "2021-01-17T07:54:29.255539Z",
     "start_time": "2021-01-17T07:54:29.249810Z"
    }
   },
   "outputs": [
    {
     "data": {
      "text/plain": [
       "'/Users/brettlv/blog/brettlv.github.io/pythoncode'"
      ]
     },
     "execution_count": 10,
     "metadata": {},
     "output_type": "execute_result"
    }
   ],
   "source": [
    "pwd"
   ]
  },
  {
   "cell_type": "code",
   "execution_count": 8,
   "metadata": {
    "ExecuteTime": {
     "end_time": "2021-01-17T07:54:22.875679Z",
     "start_time": "2021-01-17T07:54:22.871301Z"
    }
   },
   "outputs": [
    {
     "data": {
      "text/html": [
       "\n",
       "        <iframe\n",
       "            width=\"800\"\n",
       "            height=\"450\"\n",
       "            src=\"./mwa_paper/GaLactic and Extragalactic All-sky Murchison Widefield Array (GLEAM) survey I- A low-frequency extragalactic catalogue mwa 1610.08318.pdf\"\n",
       "            frameborder=\"0\"\n",
       "            allowfullscreen\n",
       "        ></iframe>\n",
       "        "
      ],
      "text/plain": [
       "<IPython.lib.display.IFrame at 0x1109d3a00>"
      ]
     },
     "execution_count": 8,
     "metadata": {},
     "output_type": "execute_result"
    }
   ],
   "source": [
    "from IPython.display import IFrame,display\n",
    "IFrame('./mwa_paper/GaLactic and Extragalactic All-sky Murchison Widefield Array (GLEAM) survey I- A low-frequency extragalactic catalogue mwa 1610.08318.pdf', width=800, height=450)"
   ]
  },
  {
   "cell_type": "code",
   "execution_count": 17,
   "metadata": {
    "ExecuteTime": {
     "end_time": "2020-07-03T16:24:57.555358Z",
     "start_time": "2020-07-03T16:24:57.549273Z"
    },
    "collapsed": true
   },
   "outputs": [],
   "source": []
  },
  {
   "cell_type": "code",
   "execution_count": 26,
   "metadata": {
    "ExecuteTime": {
     "end_time": "2020-07-03T16:29:09.846070Z",
     "start_time": "2020-07-03T16:29:09.841701Z"
    },
    "collapsed": true
   },
   "outputs": [],
   "source": [
    "pdf_path='file:///Users/brettlv/blog/IHEP_sync/paper/weekly_summary/janual-club/20200703/Fainter%20harder%20brighter%20softer-%20a%20correlation%20between%20%CE%B1ox%20,%20X-ray%20spectral%20state%20and%20Eddington%20ratio%20in%20tidal%20disruption%20events%202006.06684.pdf'\n",
    "pdf_path_origin='/Users/brettlv/blog/IHEP_sync/paper/weekly_summary/janual-club/20200703/Fainter harder brighter softer- a correlation between αox , X-ray spectral state and Eddington ratio in tidal disruption events 2006.06684.pdf'\n",
    "pdf_path_origin='/Users/brettlv/blog/IHEP_sync/paper/weekly_summary/janual-club/20200703/lyu_0703.pdf'"
   ]
  },
  {
   "cell_type": "code",
   "execution_count": 28,
   "metadata": {
    "ExecuteTime": {
     "end_time": "2020-07-03T16:29:34.254186Z",
     "start_time": "2020-07-03T16:29:34.248850Z"
    }
   },
   "outputs": [
    {
     "data": {
      "text/plain": [
       "'/Users/brettlv/blog/IHEP_sync/paper/weekly_summary/janual-club/20200703/lyu_0703.pdf'"
      ]
     },
     "execution_count": 28,
     "metadata": {},
     "output_type": "execute_result"
    }
   ],
   "source": [
    "pdf_path_origin"
   ]
  },
  {
   "cell_type": "code",
   "execution_count": 33,
   "metadata": {
    "ExecuteTime": {
     "end_time": "2020-07-03T16:31:40.659807Z",
     "start_time": "2020-07-03T16:31:40.654864Z"
    }
   },
   "outputs": [
    {
     "data": {
      "text/html": [
       "\n",
       "        <iframe\n",
       "            width=\"800\"\n",
       "            height=\"450\"\n",
       "            src=\"../blog/IHEP_sync/paper/weekly_summary/janual-club/20200703/lyu_0703.pdf\"\n",
       "            frameborder=\"0\"\n",
       "            allowfullscreen\n",
       "        ></iframe>\n",
       "        "
      ],
      "text/plain": [
       "<IPython.lib.display.IFrame at 0x10a0ff208>"
      ]
     },
     "execution_count": 33,
     "metadata": {},
     "output_type": "execute_result"
    }
   ],
   "source": [
    "from IPython.display import IFrame,display\n",
    "IFrame('../blog/IHEP_sync/paper/weekly_summary/janual-club/20200703/lyu_0703.pdf', width=800, height=450)"
   ]
  },
  {
   "cell_type": "code",
   "execution_count": null,
   "metadata": {
    "collapsed": true
   },
   "outputs": [],
   "source": []
  },
  {
   "cell_type": "code",
   "execution_count": 25,
   "metadata": {
    "ExecuteTime": {
     "end_time": "2020-07-03T16:26:51.952203Z",
     "start_time": "2020-07-03T16:26:51.946887Z"
    }
   },
   "outputs": [
    {
     "data": {
      "text/html": [
       "\n",
       "        <iframe\n",
       "            width=\"800\"\n",
       "            height=\"450\"\n",
       "            src=\"https://arxiv.org/pdf/2006.06684.pdf\"\n",
       "            frameborder=\"0\"\n",
       "            allowfullscreen\n",
       "        ></iframe>\n",
       "        "
      ],
      "text/plain": [
       "<IPython.lib.display.IFrame at 0x10a0eff60>"
      ]
     },
     "execution_count": 25,
     "metadata": {},
     "output_type": "execute_result"
    }
   ],
   "source": [
    "from IPython.display import IFrame\n",
    "IFrame('https://arxiv.org/pdf/2006.06684.pdf', width=800, height=450)"
   ]
  },
  {
   "cell_type": "code",
   "execution_count": null,
   "metadata": {
    "collapsed": true
   },
   "outputs": [],
   "source": []
  },
  {
   "cell_type": "code",
   "execution_count": 2,
   "metadata": {
    "ExecuteTime": {
     "end_time": "2022-09-12T02:49:48.849970Z",
     "start_time": "2022-09-12T02:49:48.840499Z"
    }
   },
   "outputs": [
    {
     "data": {
      "text/html": [
       "<div align=\"center\"><iframe src=\"https://view.officeapps.live.com/op/view.aspx?src=https://brettlv.github.io/radiolearnnote/casa_notebook_lvbing_20171123.pptx\" frameborder=\"0\" width=\"800\" height=\"450\" allowfullscreen=\"true\" mozallowfullscreen=\"true\" webkitallowfullscreen=\"true\">\n",
       "</iframe></div>\n"
      ],
      "text/plain": [
       "<IPython.core.display.HTML object>"
      ]
     },
     "metadata": {},
     "output_type": "display_data"
    }
   ],
   "source": [
    "%%HTML\n",
    "<div align=\"center\"><iframe src=\"https://view.officeapps.live.com/op/view.aspx?src=https://brettlv.github.io/radiolearnnote/casa_notebook_lvbing_20171123.pptx\" frameborder=\"0\" width=\"800\" height=\"450\" allowfullscreen=\"true\" mozallowfullscreen=\"true\" webkitallowfullscreen=\"true\">\n",
    "</iframe></div>\n"
   ]
  },
  {
   "cell_type": "code",
   "execution_count": 38,
   "metadata": {
    "ExecuteTime": {
     "end_time": "2020-07-03T16:33:50.809767Z",
     "start_time": "2020-07-03T16:33:50.806375Z"
    }
   },
   "outputs": [],
   "source": [
    "from IPython.display import HTML\n",
    "import IPython.display"
   ]
  },
  {
   "cell_type": "code",
   "execution_count": 41,
   "metadata": {
    "ExecuteTime": {
     "end_time": "2020-07-03T16:35:26.384280Z",
     "start_time": "2020-07-03T16:35:26.248959Z"
    }
   },
   "outputs": [
    {
     "name": "stdout",
     "output_type": "stream",
     "text": [
      "ls: *.mp*: No such file or directory\r\n"
     ]
    }
   ],
   "source": [
    "ls *.mp*"
   ]
  },
  {
   "cell_type": "code",
   "execution_count": 39,
   "metadata": {
    "ExecuteTime": {
     "end_time": "2020-07-03T16:33:51.918757Z",
     "start_time": "2020-07-03T16:33:51.912679Z"
    }
   },
   "outputs": [],
   "source": [
    "%%HTML\n",
    "<video width='320' height='240' controls>\n",
    "<source src='./*mp4' type='video/mp4'>\n",
    "</video>\n",
    "\n",
    "<dudio controls>\n",
    "<source src='./*mp3'>\n",
    "</audio>"
   ]
  },
  {
   "cell_type": "code",
   "execution_count": null,
   "metadata": {
    "collapsed": true
   },
   "outputs": [],
   "source": []
  }
 ],
 "metadata": {
  "kernelspec": {
   "display_name": "Python 3 (ipykernel)",
   "language": "python",
   "name": "python3"
  },
  "language_info": {
   "codemirror_mode": {
    "name": "ipython",
    "version": 3
   },
   "file_extension": ".py",
   "mimetype": "text/x-python",
   "name": "python",
   "nbconvert_exporter": "python",
   "pygments_lexer": "ipython3",
   "version": "3.9.12"
  },
  "latex_envs": {
   "LaTeX_envs_menu_present": true,
   "autoclose": false,
   "autocomplete": true,
   "bibliofile": "biblio.bib",
   "cite_by": "apalike",
   "current_citInitial": 1,
   "eqLabelWithNumbers": true,
   "eqNumInitial": 1,
   "hotkeys": {
    "equation": "Ctrl-E",
    "itemize": "Ctrl-I"
   },
   "labels_anchors": false,
   "latex_user_defs": false,
   "report_style_numbering": false,
   "user_envs_cfg": false
  },
  "toc": {
   "base_numbering": 1,
   "nav_menu": {},
   "number_sections": true,
   "sideBar": true,
   "skip_h1_title": false,
   "title_cell": "Table of Contents",
   "title_sidebar": "Contents",
   "toc_cell": false,
   "toc_position": {},
   "toc_section_display": "block",
   "toc_window_display": false
  }
 },
 "nbformat": 4,
 "nbformat_minor": 2
}
