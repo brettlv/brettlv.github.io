{
 "cells": [
  {
   "cell_type": "markdown",
   "metadata": {},
   "source": [
    "# Plotting tutorial\n",
    "\n",
    "The plotting module is based on the [Bokeh](http://bokeh.pydata.org/en/latest/) package and enables visualization of various properties of elements. The plotting in the form of periodic table is done by the `periodic_plot` function that takes a [pandas](http://pandas.pydata.org/) `DataFrame`. \n",
    "\n",
    "To embed the plots in the [jupyter notebook](http://jupyter.org/) first the `BokehJS` needs to be started."
   ]
  },
  {
   "cell_type": "code",
   "execution_count": 1,
   "metadata": {
    "ExecuteTime": {
     "end_time": "2018-11-20T20:55:55.208746Z",
     "start_time": "2018-11-20T20:55:53.979647Z"
    },
    "collapsed": true
   },
   "outputs": [],
   "source": [
    "from bokeh.plotting import output_notebook, output_file"
   ]
  },
  {
   "cell_type": "code",
   "execution_count": 2,
   "metadata": {
    "collapsed": true
   },
   "outputs": [],
   "source": [
    "#output_notebook()"
   ]
  },
  {
   "cell_type": "markdown",
   "metadata": {},
   "source": [
    "Now we can get the data from `mendeleev` as a pandas `DataFrame` through `get_table` method"
   ]
  },
  {
   "cell_type": "code",
   "execution_count": 2,
   "metadata": {
    "ExecuteTime": {
     "end_time": "2018-11-20T20:56:00.241423Z",
     "start_time": "2018-11-20T20:55:58.387720Z"
    },
    "collapsed": true
   },
   "outputs": [],
   "source": [
    "from mendeleev import get_table\n",
    "from mendeleev.plotting import periodic_plot"
   ]
  },
  {
   "cell_type": "code",
   "execution_count": 3,
   "metadata": {
    "ExecuteTime": {
     "end_time": "2018-11-20T20:56:01.157893Z",
     "start_time": "2018-11-20T20:56:01.030918Z"
    },
    "collapsed": true
   },
   "outputs": [],
   "source": [
    "ptable = get_table('elements')"
   ]
  },
  {
   "cell_type": "markdown",
   "metadata": {},
   "source": [
    "To plot the default table pass the `ptable` to the `periodic_plot` function"
   ]
  },
  {
   "cell_type": "code",
   "execution_count": 4,
   "metadata": {
    "ExecuteTime": {
     "end_time": "2018-11-20T20:56:05.354842Z",
     "start_time": "2018-11-20T20:56:04.855314Z"
    },
    "collapsed": true
   },
   "outputs": [],
   "source": [
    "periodic_plot(ptable)"
   ]
  },
  {
   "cell_type": "markdown",
   "metadata": {},
   "source": [
    "`mendeleev` stores also two color schemes for atoms that are frequently used for visualizing molecular structures. One set is stored in the `cpk_color` column and refers to [CPK](https://en.wikipedia.org/wiki/CPK_coloring) coloring, another is stored in `jmol_color` column and is used by the [Jmol program](http://jmol.sourceforge.net/jscolors/), finally there is also coloring scheme from [MOLCAS GV](http://www.molcas.org/GV/) program store in the `molcas_gv_color` attribute. They can be displayed either by hovering of the element to display a tooltip or used directly to color the element cells."
   ]
  },
  {
   "cell_type": "code",
   "execution_count": 5,
   "metadata": {
    "ExecuteTime": {
     "end_time": "2018-11-20T20:58:00.089568Z",
     "start_time": "2018-11-20T20:57:59.678956Z"
    },
    "collapsed": true
   },
   "outputs": [],
   "source": [
    "periodic_plot(ptable, colorby='jmol_color', title=\"JMol Colors\", decimals=3)"
   ]
  },
  {
   "cell_type": "code",
   "execution_count": 7,
   "metadata": {
    "collapsed": true
   },
   "outputs": [],
   "source": [
    "periodic_plot(ptable, colorby='cpk_color', title='CPK Colors')"
   ]
  },
  {
   "cell_type": "code",
   "execution_count": 8,
   "metadata": {
    "collapsed": true
   },
   "outputs": [],
   "source": [
    "periodic_plot(ptable, colorby='molcas_gv_color', title='MOLCAS GV Colors')"
   ]
  },
  {
   "cell_type": "markdown",
   "metadata": {},
   "source": [
    "You can also add a custom color map by assigning color to all the elments. This can be done by creating a custom column in the `DataFrame` and then using `colorby` argument to specify which column contains colors. Let's try to color the elements according to the block they belong to."
   ]
  },
  {
   "cell_type": "code",
   "execution_count": 9,
   "metadata": {
    "collapsed": true
   },
   "outputs": [],
   "source": [
    "import seaborn as sns\n",
    "from matplotlib import colors\n",
    "blockcmap = {b : colors.rgb2hex(c) for b, c in zip(['s', 'p', 'd', 'f'], sns.color_palette('deep'))}\n",
    "ptable['block_color'] = ptable['block'].map(blockcmap)\n",
    "periodic_plot(ptable, colorby='block_color')"
   ]
  },
  {
   "cell_type": "markdown",
   "metadata": {},
   "source": [
    "# Visualizing properties \n",
    "\n",
    "Any of the properties in `ptable` can now be visualized. As a first example lets see the `covalent_radius_pyykko` with the detault colormap, which is `RdBu_r`"
   ]
  },
  {
   "cell_type": "code",
   "execution_count": 10,
   "metadata": {
    "collapsed": true
   },
   "outputs": [],
   "source": [
    "periodic_plot(ptable, attribute='covalent_radius_pyykko', colorby='attribute', title=\"Covalent Radii of Pyykko\")"
   ]
  },
  {
   "cell_type": "markdown",
   "metadata": {},
   "source": [
    "The colormap can be changed using the `cmap` argument to any of the [standard colormaps](http://matplotlib.org/users/colormaps.html)"
   ]
  },
  {
   "cell_type": "code",
   "execution_count": 11,
   "metadata": {
    "collapsed": true
   },
   "outputs": [],
   "source": [
    "periodic_plot(ptable, attribute='covalent_radius_pyykko', colorby='attribute',\n",
    "              cmap='spring', title=\"Covalent Radii of Pyykko\")"
   ]
  },
  {
   "cell_type": "markdown",
   "metadata": {},
   "source": [
    "If you have [matplotlib](http://matplotlib.org/) 1.5.0 or higher you can try our the new colormaps: `viridis`, `plasma`, `inferno` and `magma`."
   ]
  },
  {
   "cell_type": "code",
   "execution_count": 12,
   "metadata": {
    "collapsed": true
   },
   "outputs": [],
   "source": [
    "periodic_plot(ptable, attribute='covalent_radius_pyykko', colorby='attribute',\n",
    "              cmap='inferno', title=\"Covalent Radii of Pyykko\")"
   ]
  },
  {
   "cell_type": "markdown",
   "metadata": {},
   "source": [
    "To see the available properties you can access the `DataFrame`'s `columns` attribute"
   ]
  },
  {
   "cell_type": "code",
   "execution_count": 13,
   "metadata": {
    "collapsed": false
   },
   "outputs": [
    {
     "data": {
      "text/plain": [
       "Index(['annotation', 'atomic_number', 'atomic_radius', 'atomic_volume',\n",
       "       'block', 'boiling_point', 'density', 'description',\n",
       "       'dipole_polarizability', 'electron_affinity',\n",
       "       'electronic_configuration', 'evaporation_heat', 'fusion_heat',\n",
       "       'group_id', 'lattice_constant', 'lattice_structure', 'melting_point',\n",
       "       'name', 'period', 'series_id', 'specific_heat', 'symbol',\n",
       "       'thermal_conductivity', 'vdw_radius', 'covalent_radius_cordero',\n",
       "       'covalent_radius_pyykko', 'en_pauling', 'en_allen', 'jmol_color',\n",
       "       'cpk_color', 'proton_affinity', 'gas_basicity', 'heat_of_formation',\n",
       "       'c6', 'covalent_radius_bragg', 'covalent_radius_slater',\n",
       "       'vdw_radius_bondi', 'vdw_radius_truhlar', 'vdw_radius_rt',\n",
       "       'vdw_radius_batsanov', 'vdw_radius_dreiding', 'vdw_radius_uff',\n",
       "       'vdw_radius_mm3', 'abundance_crust', 'abundance_sea', 'molcas_gv_color',\n",
       "       'en_ghosh', 'vdw_radius_alvarez', 'c6_gb', 'atomic_weight',\n",
       "       'atomic_weight_uncertainty', 'is_monoisotopic', 'is_radioactive', 'cas',\n",
       "       'atomic_radius_rahm', 'geochemical_class', 'goldschmidt_class',\n",
       "       'metallic_radius', 'metallic_radius_c12',\n",
       "       'covalent_radius_pyykko_double', 'covalent_radius_pyykko_triple',\n",
       "       'discoverers', 'discovery_year', 'discovery_location', 'name_origin',\n",
       "       'sources', 'uses', 'block_color'],\n",
       "      dtype='object')"
      ]
     },
     "execution_count": 13,
     "metadata": {},
     "output_type": "execute_result"
    }
   ],
   "source": [
    "ptable.columns"
   ]
  },
  {
   "cell_type": "markdown",
   "metadata": {},
   "source": [
    "Lets try `atomic_volume`"
   ]
  },
  {
   "cell_type": "code",
   "execution_count": 14,
   "metadata": {
    "collapsed": false
   },
   "outputs": [
    {
     "name": "stderr",
     "output_type": "stream",
     "text": [
      "/home/lmentel/anaconda3/envs/mdlv/lib/python3.6/site-packages/matplotlib/colors.py:489: RuntimeWarning: invalid value encountered in less\n",
      "  np.copyto(xa, -1, where=xa < 0.0)\n"
     ]
    }
   ],
   "source": [
    "periodic_plot(ptable, attribute='atomic_volume', colorby='attribute', title='Atomic Volume')"
   ]
  },
  {
   "cell_type": "code",
   "execution_count": 15,
   "metadata": {
    "collapsed": false
   },
   "outputs": [
    {
     "name": "stderr",
     "output_type": "stream",
     "text": [
      "/home/lmentel/anaconda3/envs/mdlv/lib/python3.6/site-packages/matplotlib/colors.py:489: RuntimeWarning: invalid value encountered in less\n",
      "  np.copyto(xa, -1, where=xa < 0.0)\n"
     ]
    }
   ],
   "source": [
    "periodic_plot(ptable, attribute='en_pauling', colorby='attribute',\n",
    "              title=\"Pauling's Electronegativity\", cmap='viridis')"
   ]
  },
  {
   "cell_type": "markdown",
   "metadata": {},
   "source": [
    "# Custom properties\n",
    "\n",
    "You can also create your own properties to be displayed using [pandas](http://pandas.pydata.org/) awesome methods for manipulating data. For example let's consider the difference of electronegativity between every element and the Oxygen atom. To calculate the values we will use Allen scale this time and call our new value `ENX-ENO`."
   ]
  },
  {
   "cell_type": "code",
   "execution_count": 16,
   "metadata": {
    "collapsed": true
   },
   "outputs": [],
   "source": [
    "ptable.loc[:, 'ENX-ENO'] =  ptable.loc[ptable['symbol'] == 'O', 'en_allen'].values - ptable.loc[:, 'en_allen']"
   ]
  },
  {
   "cell_type": "code",
   "execution_count": 17,
   "metadata": {
    "collapsed": false
   },
   "outputs": [
    {
     "name": "stderr",
     "output_type": "stream",
     "text": [
      "/home/lmentel/anaconda3/envs/mdlv/lib/python3.6/site-packages/matplotlib/colors.py:489: RuntimeWarning: invalid value encountered in less\n",
      "  np.copyto(xa, -1, where=xa < 0.0)\n"
     ]
    }
   ],
   "source": [
    "periodic_plot(ptable, attribute='ENX-ENO', colorby='attribute',\n",
    "              cmap='viridis', title='Allen Electronegativity wrt. Oxygen')"
   ]
  },
  {
   "cell_type": "markdown",
   "metadata": {},
   "source": [
    "As a second example let's consider a difference between the `covalent_radius_slater` and `covalent_radius_pyykko` values"
   ]
  },
  {
   "cell_type": "code",
   "execution_count": 18,
   "metadata": {
    "collapsed": true
   },
   "outputs": [],
   "source": [
    "ptable['cov_rad_diff'] = ptable['covalent_radius_slater'] - ptable['covalent_radius_pyykko']"
   ]
  },
  {
   "cell_type": "code",
   "execution_count": 19,
   "metadata": {
    "collapsed": false
   },
   "outputs": [
    {
     "name": "stderr",
     "output_type": "stream",
     "text": [
      "/home/lmentel/anaconda3/envs/mdlv/lib/python3.6/site-packages/matplotlib/colors.py:489: RuntimeWarning: invalid value encountered in less\n",
      "  np.copyto(xa, -1, where=xa < 0.0)\n"
     ]
    }
   ],
   "source": [
    "periodic_plot(ptable, attribute='cov_rad_diff', colorby='attribute',\n",
    "              title='Covalent Radii Difference', cmap='viridis')"
   ]
  },
  {
   "cell_type": "markdown",
   "metadata": {},
   "source": [
    "# Wide 32-column version\n",
    "\n",
    "The `periodic_plot` function can also present the periodic table in the so-called wide format with the *f*-block between the *s*- and *d*-blocks resulting in 32 columns."
   ]
  },
  {
   "cell_type": "code",
   "execution_count": 20,
   "metadata": {
    "collapsed": true
   },
   "outputs": [],
   "source": [
    "periodic_plot(ptable, height=600, width=1500, long_version=True)"
   ]
  },
  {
   "cell_type": "code",
   "execution_count": 6,
   "metadata": {
    "ExecuteTime": {
     "end_time": "2018-11-20T20:58:31.436607Z",
     "start_time": "2018-11-20T20:58:31.431186Z"
    },
    "collapsed": false
   },
   "outputs": [
    {
     "name": "stderr",
     "output_type": "stream",
     "text": [
      "ERROR: Line magic function `%version_information` not found.\n"
     ]
    }
   ],
   "source": [
    "%version_information mendeleev, bokeh, pandas"
   ]
  },
  {
   "cell_type": "code",
   "execution_count": null,
   "metadata": {
    "collapsed": true
   },
   "outputs": [],
   "source": []
  }
 ],
 "metadata": {
  "anaconda-cloud": {},
  "kernelspec": {
   "display_name": "Python 3",
   "language": "python",
   "name": "python3"
  },
  "language_info": {
   "codemirror_mode": {
    "name": "ipython",
    "version": 3
   },
   "file_extension": ".py",
   "mimetype": "text/x-python",
   "name": "python",
   "nbconvert_exporter": "python",
   "pygments_lexer": "ipython3",
   "version": "3.6.0"
  },
  "latex_envs": {
   "LaTeX_envs_menu_present": true,
   "autocomplete": true,
   "bibliofile": "biblio.bib",
   "cite_by": "apalike",
   "current_citInitial": 1,
   "eqLabelWithNumbers": true,
   "eqNumInitial": 1,
   "hotkeys": {
    "equation": "Ctrl-E",
    "itemize": "Ctrl-I"
   },
   "labels_anchors": false,
   "latex_user_defs": false,
   "report_style_numbering": false,
   "user_envs_cfg": false
  },
  "toc": {
   "nav_menu": {},
   "number_sections": true,
   "sideBar": true,
   "skip_h1_title": false,
   "toc_cell": false,
   "toc_position": {},
   "toc_section_display": "block",
   "toc_window_display": false
  }
 },
 "nbformat": 4,
 "nbformat_minor": 1
}
