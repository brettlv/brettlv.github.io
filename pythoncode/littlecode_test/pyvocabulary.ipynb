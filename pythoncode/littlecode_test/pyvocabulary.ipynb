{
 "cells": [
  {
   "cell_type": "code",
   "execution_count": 2,
   "metadata": {
    "ExecuteTime": {
     "end_time": "2022-08-01T02:43:17.740604Z",
     "start_time": "2022-08-01T02:43:14.975644Z"
    }
   },
   "outputs": [],
   "source": [
    "import numpy as np\n",
    "from numpy import cov,corrcoef\n",
    "import matplotlib.pyplot as plt\n",
    "import astropy.units as u\n",
    "from scipy.optimize import curve_fit\n",
    "import scipy\n",
    "import pandas as pd\n",
    "import tkinter as tk\n",
    "\n",
    "%matplotlib inline\n"
   ]
  },
  {
   "cell_type": "code",
   "execution_count": 3,
   "metadata": {
    "ExecuteTime": {
     "end_time": "2022-08-01T02:43:19.352470Z",
     "start_time": "2022-08-01T02:43:17.744874Z"
    }
   },
   "outputs": [],
   "source": [
    "vocabulary=pd.read_excel('./vocabulary20000.xlsx',header=None)#20200 words in vocabulary\n",
    "\n",
    "vocabulary.columns=['num','words','a','b']\n",
    "\n",
    "num=vocabulary['num']\n",
    "words=vocabulary['words']"
   ]
  },
  {
   "cell_type": "code",
   "execution_count": 6,
   "metadata": {
    "ExecuteTime": {
     "end_time": "2022-08-01T02:43:21.548543Z",
     "start_time": "2022-08-01T02:43:21.545781Z"
    }
   },
   "outputs": [],
   "source": [
    "#词汇量范围<20000\n",
    "time=50#自定义测试次数\n",
    "init_num=5000#自定义初始词汇量    "
   ]
  },
  {
   "cell_type": "markdown",
   "metadata": {
    "ExecuteTime": {
     "start_time": "2021-09-06T08:52:53.896Z"
    }
   },
   "source": [
    "global inputnumber\n",
    "inputnumber=0\n",
    "\n",
    "class App(tk.Frame):\n",
    "    global inputnumber\n",
    "    def __init__(self, master=None):\n",
    "        \n",
    "        super().__init__(master)\n",
    "        self.pack()\n",
    "\n",
    "        self.entrythingy = tk.Entry()\n",
    "        self.entrythingy.pack()\n",
    "\n",
    "        # here is the application variable\n",
    "        self.contents = tk.IntVar()\n",
    "        # set it to some value\n",
    "        self.contents.set(\"\")\n",
    "        # tell the entry widget to watch this variable\n",
    "        self.entrythingy[\"textvariable\"] = self.contents\n",
    "\n",
    "        # and here we get a callback when the user hits return.\n",
    "        # we will have the program print out the value of the\n",
    "        # application variable when the user hits return\n",
    "        self.entrythingy.bind('<Key-Return>',\n",
    "                              self.print_contents)\n",
    "\n",
    "    def print_contents(self, event):\n",
    "        global inputnumber\n",
    "        inputnumber=int(self.contents.get())\n",
    "        #np.savetxt('inputnumber.txt',intnumber)\n",
    "        print(\"Initial Number ---->\",\n",
    "              self.contents.get())\n",
    "        root.destroy()\n",
    "        \n",
    "        \n",
    "root = tk.Tk()\n",
    "root.resizable(False,False)\n",
    "root.geometry(\"400x300+10+10\")\n",
    "root.title('请输入一个整数，您的预估词汇量3000-18000')\n",
    "app = App(master=root)\n",
    "app.mainloop()"
   ]
  },
  {
   "cell_type": "markdown",
   "metadata": {
    "ExecuteTime": {
     "end_time": "2021-09-06T08:56:06.399437Z",
     "start_time": "2021-09-06T08:56:06.390345Z"
    },
    "scrolled": false
   },
   "source": [
    "print(inputnumber)"
   ]
  },
  {
   "cell_type": "code",
   "execution_count": null,
   "metadata": {},
   "outputs": [],
   "source": []
  },
  {
   "cell_type": "markdown",
   "metadata": {
    "ExecuteTime": {
     "end_time": "2021-09-06T08:57:43.185985Z",
     "start_time": "2021-09-06T08:57:43.098886Z"
    }
   },
   "source": [
    "#inputnumber=np.loadtxt('inputnumber.txt')\n",
    "inputnumber=int(inputnumber)\n",
    "if inputnumber >3000 and inputnumber < 18000: \n",
    "    init_num=inputnumber"
   ]
  },
  {
   "cell_type": "code",
   "execution_count": 7,
   "metadata": {
    "ExecuteTime": {
     "end_time": "2022-08-01T03:07:36.220811Z",
     "start_time": "2022-08-01T02:43:37.117213Z"
    },
    "code_folding": []
   },
   "outputs": [],
   "source": [
    "class Application(tk.Frame):\n",
    "   \n",
    "    def __init__(self, master=None,result=0):\n",
    "        tk.Frame.__init__(self, master)\n",
    "        self.pack()\n",
    "        self.createWidgets()\n",
    "        \n",
    "        \n",
    "    def createWidgets(self):\n",
    "        \n",
    "        self.word=tk.Button(self)\n",
    "        self.word[\"text\"]=\"%s\"%(words[numoftest])\n",
    "        self.word.pack(side=\"top\")\n",
    "        \n",
    "        self.hi_yes = tk.Button(self)\n",
    "        self.hi_yes[\"text\"] = \"Known\\n(click me)\"\n",
    "        self.hi_yes[\"command\"] = self.say_yes\n",
    "        self.hi_yes.pack(side=\"left\")\n",
    "        \n",
    "        self.hi_no = tk.Button(self)\n",
    "        self.hi_no[\"text\"] = \"UnKnown\\n(click me)\"\n",
    "        self.hi_no[\"command\"] = self.say_no\n",
    "        self.hi_no.pack(side=\"right\")\n",
    "        \n",
    "        #self.QUIT = tk.Button(self, text=\"Next Word\", fg=\"red\",\n",
    "        #                                    command=root.destroy)\n",
    "        #self.QUIT.pack(side=\"bottom\")\n",
    "        \n",
    "    \n",
    "    \n",
    "    def say_yes(self):\n",
    "        #result=1\n",
    "        global has_been_called\n",
    "        has_been_called=True\n",
    "        #return 1\n",
    "        #print(\"oh! You get it\")\n",
    "        root.destroy()        \n",
    "    def say_no(self):\n",
    "        global has_been_called\n",
    "        has_been_called=False \n",
    "        #result=0\n",
    "        #return 0\n",
    "        #print(\"em,try more \")\n",
    "        root.destroy()\n",
    "\n",
    "\n",
    "\n",
    "\n",
    "'''\n",
    "numoftest=init_num+np.random.randint(1,10)\n",
    "root = tk.Tk()\n",
    "app = Application(master=root)\n",
    "app.mainloop()\n",
    "\n",
    "'''\n",
    "\n",
    "\n",
    "\n",
    "has_been_called=False \n",
    "results=np.zeros((time,2))\n",
    "numoftest=init_num+np.random.randint(1,50)\n",
    "#numoftestorigin=1000\n",
    "#result=0\n",
    "\n",
    "for i in np.arange(time):  \n",
    "    root = tk.Tk()\n",
    "    #root.withdraw()\n",
    "    root.resizable(False,False)\n",
    "    root.geometry(\"400x300+10+10\")\n",
    "    root.title('词汇量测试%d/%d'%(i,time))\n",
    "    #width=root.winfo_screenmmwidth\n",
    "    #height=root.winfo_screenheight    \n",
    "    #root.deiconify()\n",
    "    app = Application(master=root)\n",
    "    app.mainloop()\n",
    "    \n",
    "    if has_been_called:        \n",
    "        results[i]=np.array([numoftest,1])\n",
    "        numoftestorigin=numoftest\n",
    "        numoftest=np.around((numoftest+numoftestorigin)/2+np.random.randint(10,100)*np.random.randint(1,10)+np.random.randint(10,50))\n",
    "        numoftest=min(numoftest,19500+np.random.randint(1,100))\n",
    "    else:\n",
    "        results[i]=np.array([numoftest,0])\n",
    "        numoftestorigin=numoftest\n",
    "        numoftest=np.around((numoftest+numoftestorigin)/2-np.random.randint(10,100)*np.random.randint(1,10)-np.random.randint(10,50))\n",
    "        numoftest=max(numoftest,3000+np.random.randint(1,100))      \n",
    "#print(results[0:time])   \n",
    "    "
   ]
  },
  {
   "cell_type": "markdown",
   "metadata": {
    "ExecuteTime": {
     "end_time": "2021-09-06T08:51:58.257707Z",
     "start_time": "2021-09-06T08:51:58.249608Z"
    }
   },
   "source": [
    "num.size"
   ]
  },
  {
   "cell_type": "code",
   "execution_count": 8,
   "metadata": {
    "ExecuteTime": {
     "end_time": "2022-08-01T03:07:36.928785Z",
     "start_time": "2022-08-01T03:07:36.256012Z"
    }
   },
   "outputs": [
    {
     "name": "stdout",
     "output_type": "stream",
     "text": [
      "Your vocabulary is 8092.0\n"
     ]
    },
    {
     "data": {
      "image/png": "[encoded data removed]",
      "text/plain": [
       "<Figure size 432x288 with 1 Axes>"
      ]
     },
     "metadata": {
      "needs_background": "light"
     },
     "output_type": "display_data"
    }
   ],
   "source": [
    "wordnum=results[:,0]\n",
    "yesorno=results[:,1]\n",
    "correct=np.sum(yesorno==1)\n",
    "correctrate=correct/time\n",
    "correctrateper=format(correctrate,'.2%')\n",
    "vocabularynum=np.around(np.mean(wordnum[-10:]))\n",
    "\n",
    "plt.plot(wordnum,'.') \n",
    "plt.title(\"Your correctness rate is %s \"%correctrateper)\n",
    "plt.xlabel('time of test')\n",
    "plt.ylabel('number of words')\n",
    "plt.savefig('vocabularyresult.png',dpi=400)\n",
    "print(\"Your vocabulary is %s\"%vocabularynum)"
   ]
  },
  {
   "cell_type": "code",
   "execution_count": 9,
   "metadata": {
    "ExecuteTime": {
     "end_time": "2022-08-01T03:07:46.729009Z",
     "start_time": "2022-08-01T03:07:46.583552Z"
    },
    "scrolled": true
   },
   "outputs": [
    {
     "data": {
      "text/plain": [
       "Text(0.5, 0, 'number of words')"
      ]
     },
     "execution_count": 9,
     "metadata": {},
     "output_type": "execute_result"
    },
    {
     "data": {
      "image/png": "[encoded data removed]",
      "text/plain": [
       "<Figure size 432x288 with 1 Axes>"
      ]
     },
     "metadata": {
      "needs_background": "light"
     },
     "output_type": "display_data"
    }
   ],
   "source": [
    "plt.plot(wordnum,yesorno,'.') \n",
    "plt.ylabel('correct or not')\n",
    "plt.xlabel('number of words')"
   ]
  },
  {
   "cell_type": "code",
   "execution_count": null,
   "metadata": {
    "collapsed": true
   },
   "outputs": [],
   "source": []
  },
  {
   "cell_type": "code",
   "execution_count": null,
   "metadata": {
    "collapsed": true
   },
   "outputs": [],
   "source": []
  },
  {
   "cell_type": "code",
   "execution_count": null,
   "metadata": {
    "collapsed": true
   },
   "outputs": [],
   "source": []
  },
  {
   "cell_type": "code",
   "execution_count": null,
   "metadata": {
    "collapsed": true
   },
   "outputs": [],
   "source": []
  }
 ],
 "metadata": {
  "kernelspec": {
   "display_name": "Python 3",
   "language": "python",
   "name": "python3"
  },
  "language_info": {
   "codemirror_mode": {
    "name": "ipython",
    "version": 3
   },
   "file_extension": ".py",
   "mimetype": "text/x-python",
   "name": "python",
   "nbconvert_exporter": "python",
   "pygments_lexer": "ipython3",
   "version": "3.8.5"
  },
  "latex_envs": {
   "LaTeX_envs_menu_present": true,
   "autocomplete": true,
   "bibliofile": "biblio.bib",
   "cite_by": "apalike",
   "current_citInitial": 1,
   "eqLabelWithNumbers": true,
   "eqNumInitial": 1,
   "hotkeys": {
    "equation": "Ctrl-E",
    "itemize": "Ctrl-I"
   },
   "labels_anchors": false,
   "latex_user_defs": false,
   "report_style_numbering": false,
   "user_envs_cfg": false
  },
  "toc": {
   "nav_menu": {},
   "number_sections": true,
   "sideBar": true,
   "skip_h1_title": false,
   "toc_cell": false,
   "toc_position": {},
   "toc_section_display": "block",
   "toc_window_display": false
  }
 },
 "nbformat": 4,
 "nbformat_minor": 2
}
