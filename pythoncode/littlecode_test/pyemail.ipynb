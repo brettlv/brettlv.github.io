{
 "cells": [
  {
   "cell_type": "code",
   "execution_count": 5,
   "metadata": {
    "ExecuteTime": {
     "end_time": "2018-10-18T10:54:43.435054Z",
     "start_time": "2018-10-18T10:54:38.149783Z"
    },
    "collapsed": false,
    "deletable": true,
    "editable": true
   },
   "outputs": [
    {
     "name": "stdout",
     "output_type": "stream",
     "text": [
      "Error: 无法发送邮件 Connection unexpectedly closed\n"
     ]
    }
   ],
   "source": [
    "#!/usr/bin/python\n",
    "# -*- coding: UTF-8 -*-\n",
    " \n",
    "import smtplib\n",
    "from email.mime.text import MIMEText\n",
    "from email.utils import formataddr\n",
    "from email.header import Header\n",
    "from email.mime.multipart import MIMEMultipart\n",
    "from email.mime.image import MIMEImage\n",
    "\n",
    "#mkkneeuoshthbcjc \n",
    "my_sender='610721578@qq.com'    # 发件人邮箱账号\n",
    "my_pass = 'tlejawmwdjzvbdcg'              # 发件人邮箱密码 授权\n",
    "my_user='brettlv@icloud.com'      # 收件人邮箱账号，我这边发送给自己\n",
    "def mail():\n",
    "    try:\n",
    "        message = MIMEMultipart() \n",
    "        mail_msg = \"\"\" \n",
    "        <p>填写邮件内容,python email test</p><p>\n",
    "        <a href=\"http://www.runoob.com\">这是一个链接</a></p>\"\"\"\n",
    "        #邮件正文内容\n",
    "        text=MIMEText(mail_msg,'html','utf-8') \n",
    "        message.attach(text)\n",
    "        \n",
    "        # 构造附件1，传送当前目录下的 test.txt 文件\n",
    "        att1 = MIMEText(open('lovecurve.png', 'rb').read(), 'base64', 'utf-8')\n",
    "        att1[\"Content-Type\"] = 'application/octet-stream'\n",
    "        # 这里的filename可以任意写，写什么名字，邮件中显示什么名字\n",
    "        att1[\"Content-Disposition\"] = 'attachment; filename=\"x1.txt\"'\n",
    "        message.attach(att1)\n",
    " \n",
    "        # 构造附件2，传送当前目录下的 runoob.txt 文件\n",
    "        att2 = MIMEText(open('bb.png', 'rb').read(), 'base64', 'utf-8')\n",
    "        att2[\"Content-Type\"] = 'application/octet-stream'\n",
    "        att2[\"Content-Disposition\"] = 'attachment; filename=\"y1.txt\"'\n",
    "        message.attach(att2)\n",
    "        \n",
    "        message['From']=formataddr([\"From brettlv\",my_sender])  # 括号里的对应发件人邮箱昵称、发件人邮箱账号\n",
    "        message['To']=formataddr([\"FK\",my_user])              # 括号里的对应收件人邮箱昵称、收件人邮箱账号\n",
    "        message['Subject']=\"菜鸟教程python 发送邮件测试\"                # 邮件的主题，也可以说是标题\n",
    "        server=smtplib.SMTP_SSL(\"smtp.qq.com\", 465)  # 发件人邮箱中的SMTP服务器，端口是25/465?\n",
    "        #server.set_debugleverl(1)\n",
    "        #server.ehlo(\"smtp.qq.com\") \n",
    "        #server=smtplib.SMTP()\n",
    "        #server.connect(\"smtp.qq.com\",25)\n",
    "        server.login(my_sender, my_pass)  # 括号中对应的是发件人邮箱账号、邮箱密码\n",
    "        server.sendmail(my_sender,my_user,message.as_string())  # 括号中对应的是发件人邮箱账号、收件人邮箱账号、发送邮件\n",
    "        server.quit()  # 关闭连接\n",
    "        print(\"邮件发送成功\")\n",
    "    except smtplib.SMTPException as e:\n",
    "        print(\"Error: 无法发送邮件\",e)\n",
    "mail()"
   ]
  },
  {
   "cell_type": "code",
   "execution_count": 2,
   "metadata": {
    "ExecuteTime": {
     "end_time": "2018-10-18T10:52:48.556369Z",
     "start_time": "2018-10-18T10:52:48.413959Z"
    },
    "collapsed": false
   },
   "outputs": [
    {
     "name": "stdout",
     "output_type": "stream",
     "text": [
      "Bfrac.png        curve02.png      curve06.png      gwpytest01.png\r\n",
      "FIRST_range.png  curve03.png      curve07.png      lovecurve.png\r\n",
      "bb.png           curve04.png      curveall.png\r\n",
      "curve01.png      curve05.png      fit_bb.png\r\n"
     ]
    }
   ],
   "source": [
    "ls *.png"
   ]
  },
  {
   "cell_type": "code",
   "execution_count": 9,
   "metadata": {
    "ExecuteTime": {
     "end_time": "2018-10-18T10:58:23.070807Z",
     "start_time": "2018-10-18T10:58:10.295989Z"
    },
    "collapsed": false,
    "deletable": true,
    "editable": true
   },
   "outputs": [
    {
     "name": "stdout",
     "output_type": "stream",
     "text": [
      "邮件发送成功\n"
     ]
    }
   ],
   "source": [
    "#!/usr/bin/python\n",
    "# -*- coding: UTF-8 -*-\n",
    " \n",
    "import smtplib\n",
    "from email.mime.text import MIMEText\n",
    "from email.utils import formataddr\n",
    "from email.header import Header\n",
    "from email.mime.multipart import MIMEMultipart\n",
    "from email.mime.image import MIMEImage\n",
    "\n",
    "#mkkneeuoshthbcjc \n",
    "my_sender='610721578@qq.com'    # 发件人邮箱账号\n",
    "my_pass = 'tlejawmwdjzvbdcg'              # 发件人邮箱密码 授权\n",
    "my_user='brettlv@icloud.com'      # 收件人邮箱账号，我这边发送给自己\n",
    "def mail():\n",
    "    try:\n",
    "        message = MIMEMultipart() \n",
    "        mail_msg = \"\"\" \n",
    "        <p>填写邮件内容,python email test</p><p>\n",
    "        <a href=\"http://www.runoob.com\">这是一个链接</a></p>\"\"\"\n",
    "        #邮件正文内容\n",
    "        text=MIMEText(mail_msg,'html','utf-8') \n",
    "        message.attach(text)\n",
    "        \n",
    "        # 构造附件1，传送当前目录下的 test.txt 文件\n",
    "        att1 = MIMEText(open('lovecurve.png', 'rb').read(), 'base64', 'utf-8')\n",
    "        att1[\"Content-Type\"] = 'application/octet-stream'\n",
    "        # 这里的filename可以任意写，写什么名字，邮件中显示什么名字\n",
    "        att1[\"Content-Disposition\"] = 'attachment; filename=\"fig.png\"'\n",
    "        message.attach(att1)\n",
    "        message['From']=formataddr([\"From brettlv\",my_sender])  # 括号里的对应发件人邮箱昵称、发件人邮箱账号\n",
    "        message['To']=formataddr([\"FK\",my_user])              # 括号里的对应收件人邮箱昵称、收件人邮箱账号\n",
    "        message['Subject']=\"菜鸟教程python发送邮件   测试\"                # 邮件的主题，也可以说是标题\n",
    "        server=smtplib.SMTP_SSL(\"smtp.qq.com\", 465)  # 发件人邮箱中的SMTP服务器，端口是25/465?\n",
    "        #server.set_debugleverl(1)\n",
    "        #server.ehlo(\"smtp.qq.com\") \n",
    "        #server=smtplib.SMTP()\n",
    "        #server.connect(\"smtp.qq.com\",25)\n",
    "        server.login(my_sender, my_pass)  # 括号中对应的是发件人邮箱账号、邮箱密码\n",
    "        server.sendmail(my_sender,my_user,message.as_string())  # 括号中对应的是发件人邮箱账号、收件人邮箱账号、发送邮件\n",
    "        server.quit()  # 关闭连接\n",
    "        print(\"邮件发送成功\")\n",
    "    except smtplib.SMTPException as e:\n",
    "        print(\"Error: 无法发送邮件\",e)\n",
    "mail()"
   ]
  },
  {
   "cell_type": "code",
   "execution_count": null,
   "metadata": {
    "collapsed": true
   },
   "outputs": [],
   "source": []
  },
  {
   "cell_type": "code",
   "execution_count": null,
   "metadata": {
    "collapsed": true
   },
   "outputs": [],
   "source": []
  },
  {
   "cell_type": "code",
   "execution_count": null,
   "metadata": {
    "collapsed": true
   },
   "outputs": [],
   "source": []
  },
  {
   "cell_type": "code",
   "execution_count": null,
   "metadata": {
    "ExecuteTime": {
     "end_time": "2018-10-18T10:52:38.559488Z",
     "start_time": "2018-10-18T02:54:27.454Z"
    },
    "collapsed": false,
    "deletable": true,
    "editable": true
   },
   "outputs": [],
   "source": [
    "ls *.txt"
   ]
  },
  {
   "cell_type": "code",
   "execution_count": 7,
   "metadata": {
    "ExecuteTime": {
     "end_time": "2018-10-18T10:56:38.805948Z",
     "start_time": "2018-10-18T10:56:31.491043Z"
    },
    "collapsed": false,
    "deletable": true,
    "editable": true
   },
   "outputs": [
    {
     "name": "stdout",
     "output_type": "stream",
     "text": [
      "邮件发送成功\n"
     ]
    }
   ],
   "source": [
    "import smtplib\n",
    "from email.mime.text import MIMEText\n",
    "from email.utils import formataddr\n",
    "from email.header import Header\n",
    "from email.mime.multipart import MIMEMultipart\n",
    "from email.mime.image import MIMEImage\n",
    "#for simple email\n",
    "my_sender='610721578@qq.com'    # 发件人邮箱账号\n",
    "my_pass = 'tlejawmwdjzvbdcg'              # 发件人邮箱密码 授权\n",
    "#my_user='brettlvb@foxmail.com'      # 收件人邮箱账号，我这边发送给自己\n",
    "my_user='brettlv@icloud.com'   \n",
    "msg=MIMEText('Test')\n",
    "msg['Subject']=\"HI\"\n",
    "msg['From']=my_sender\n",
    "msg['To']=my_user\n",
    "try:\n",
    "    s = smtplib.SMTP_SSL('smtp.qq.com',465)\n",
    "    s.login(my_sender,my_pass)\n",
    "    s.sendmail(my_sender, my_user, msg.as_string())\n",
    "    s.quit()\n",
    "    print(\"邮件发送成功\")\n",
    "except smtplib.SMTPException as e:\n",
    "    print(\"Error: 无法发送邮件\",e)\n"
   ]
  },
  {
   "cell_type": "code",
   "execution_count": null,
   "metadata": {
    "collapsed": false,
    "deletable": true,
    "editable": true
   },
   "outputs": [],
   "source": []
  },
  {
   "cell_type": "code",
   "execution_count": null,
   "metadata": {
    "collapsed": true
   },
   "outputs": [],
   "source": []
  },
  {
   "cell_type": "code",
   "execution_count": null,
   "metadata": {
    "collapsed": true
   },
   "outputs": [],
   "source": []
  },
  {
   "cell_type": "code",
   "execution_count": null,
   "metadata": {
    "collapsed": true
   },
   "outputs": [],
   "source": []
  },
  {
   "cell_type": "code",
   "execution_count": null,
   "metadata": {
    "ExecuteTime": {
     "end_time": "2018-10-18T10:52:38.560453Z",
     "start_time": "2018-10-18T02:54:27.459Z"
    },
    "collapsed": false,
    "deletable": true,
    "editable": true
   },
   "outputs": [],
   "source": [
    "dframe.to_csv('mycontact.csv')\n",
    "mycontact=pd.read_csv('mycontact.csv')"
   ]
  },
  {
   "cell_type": "code",
   "execution_count": null,
   "metadata": {
    "ExecuteTime": {
     "end_time": "2018-10-18T10:52:38.560930Z",
     "start_time": "2018-10-18T02:54:27.460Z"
    },
    "collapsed": false
   },
   "outputs": [],
   "source": [
    "nameandemail=mycontact.loc[:,['姓名','电子邮件']]"
   ]
  },
  {
   "cell_type": "code",
   "execution_count": null,
   "metadata": {
    "ExecuteTime": {
     "end_time": "2018-10-18T10:52:38.561196Z",
     "start_time": "2018-10-18T02:54:27.465Z"
    },
    "collapsed": false
   },
   "outputs": [],
   "source": [
    "nameandemail"
   ]
  },
  {
   "cell_type": "code",
   "execution_count": null,
   "metadata": {
    "ExecuteTime": {
     "end_time": "2018-10-18T10:52:38.561417Z",
     "start_time": "2018-10-18T02:54:27.469Z"
    },
    "collapsed": false
   },
   "outputs": [],
   "source": [
    "ls *csv"
   ]
  },
  {
   "cell_type": "code",
   "execution_count": null,
   "metadata": {
    "ExecuteTime": {
     "end_time": "2018-10-18T10:52:38.561633Z",
     "start_time": "2018-10-18T02:54:27.471Z"
    },
    "collapsed": false,
    "deletable": true,
    "editable": true
   },
   "outputs": [],
   "source": [
    "name=dframe['姓名']\n",
    "email=dframe['电子邮件']"
   ]
  },
  {
   "cell_type": "code",
   "execution_count": null,
   "metadata": {
    "ExecuteTime": {
     "end_time": "2018-10-18T10:52:38.561845Z",
     "start_time": "2018-10-18T02:54:27.472Z"
    },
    "collapsed": false,
    "deletable": true,
    "editable": true,
    "scrolled": false
   },
   "outputs": [],
   "source": [
    "#for i in range(name.size):\n",
    "    #print(name[i],email[i])"
   ]
  },
  {
   "cell_type": "code",
   "execution_count": null,
   "metadata": {
    "collapsed": true,
    "deletable": true,
    "editable": true
   },
   "outputs": [],
   "source": []
  }
 ],
 "metadata": {
  "kernelspec": {
   "display_name": "Python 3",
   "language": "python",
   "name": "python3"
  },
  "language_info": {
   "codemirror_mode": {
    "name": "ipython",
    "version": 3
   },
   "file_extension": ".py",
   "mimetype": "text/x-python",
   "name": "python",
   "nbconvert_exporter": "python",
   "pygments_lexer": "ipython3",
   "version": "3.6.0"
  },
  "latex_envs": {
   "LaTeX_envs_menu_present": true,
   "autocomplete": true,
   "bibliofile": "biblio.bib",
   "cite_by": "apalike",
   "current_citInitial": 1,
   "eqLabelWithNumbers": true,
   "eqNumInitial": 1,
   "hotkeys": {
    "equation": "Ctrl-E",
    "itemize": "Ctrl-I"
   },
   "labels_anchors": false,
   "latex_user_defs": false,
   "report_style_numbering": false,
   "user_envs_cfg": false
  },
  "toc": {
   "nav_menu": {},
   "number_sections": true,
   "sideBar": true,
   "skip_h1_title": false,
   "toc_cell": false,
   "toc_position": {},
   "toc_section_display": "block",
   "toc_window_display": false
  }
 },
 "nbformat": 4,
 "nbformat_minor": 2
}
