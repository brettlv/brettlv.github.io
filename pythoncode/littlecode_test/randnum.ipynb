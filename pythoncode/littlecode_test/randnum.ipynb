{
 "cells": [
  {
   "cell_type": "code",
   "execution_count": 3,
   "metadata": {
    "collapsed": true
   },
   "outputs": [],
   "source": [
    "import os\n",
    "import numpy as np\n",
    "import matplotlib.pyplot as plt\n",
    "import random"
   ]
  },
  {
   "cell_type": "code",
   "execution_count": 4,
   "metadata": {
    "collapsed": false
   },
   "outputs": [],
   "source": [
    "mu,sigma=5,2 #均值与标准差\n",
    "mu1,sigma1=10,3\n",
    "x1=np.random.normal(mu,sigma,100)+random.random()\n",
    "x2=np.random.normal(mu1,sigma1,100)+random.random()\n",
    "\n",
    "\n",
    "\n",
    "\n",
    "\n",
    "\n"
   ]
  },
  {
   "cell_type": "code",
   "execution_count": 5,
   "metadata": {
    "collapsed": true
   },
   "outputs": [],
   "source": [
    "y1=0.5*x1+3*x2+6+random.random()\n",
    "z1=0.5*x1+3*x2+6\n",
    "y2=10*x1+7*x2-5+random.random()\n",
    "z2=10*x1+7*x2-5"
   ]
  },
  {
   "cell_type": "code",
   "execution_count": 33,
   "metadata": {
    "collapsed": false
   },
   "outputs": [
    {
     "data": {
      "text/plain": [
       "[array([0, 1, 2, 3, 4, 5, 6, 7, 8, 9]),\n",
       " array([ 0. ,  0.1,  0.2,  0.3,  0.4,  0.5,  0.6,  0.7,  0.8,  0.9])]"
      ]
     },
     "execution_count": 33,
     "metadata": {},
     "output_type": "execute_result"
    }
   ],
   "source": []
  },
  {
   "cell_type": "code",
   "execution_count": 31,
   "metadata": {
    "collapsed": false
   },
   "outputs": [
    {
     "data": {
      "text/plain": [
       "[array([  8.0504719 ,   3.50556217,   4.35876843,   4.44075528,\n",
       "          4.67381025,   2.52323785,   4.85507162,   8.71893103,\n",
       "          9.04165026,   6.40815159,   8.59091721,   4.13650005,\n",
       "          3.1246746 ,   6.92299835,   1.27674296,   8.49647315,\n",
       "          7.37983655,   7.96390296,   5.53326091,   7.04293378,\n",
       "          4.17491931,   6.828962  ,   4.22205279,   6.45743483,\n",
       "          5.17901019,   4.26537491,   6.4779391 ,   9.28828527,\n",
       "          6.03086541,   1.58684149,   8.21991366,   4.62996634,\n",
       "          4.47595645,   5.69218638,   2.57254245,   7.06959174,\n",
       "          8.59883343,   6.32715936,   5.2954877 ,   6.66330522,\n",
       "          6.83016904,   3.33912533,   2.29745029,  10.93390443,\n",
       "          5.65825076,   5.40812726,   5.45161807,   3.09030528,\n",
       "          5.11322241,   2.64740007,   7.21643289,   8.04588661,\n",
       "          8.59481033,   4.86814648,   6.27868113,   4.83453636,\n",
       "          6.32936925,   3.01030896,   5.18466752,   8.30464183,\n",
       "          4.65520368,   5.27254673,   6.20638394,   8.33546904,\n",
       "          0.52780138,   6.91366487,   8.68745432,   2.13193699,\n",
       "          7.3249498 ,   9.97177646,   6.83213919,   7.40688193,\n",
       "          6.25851597,   5.88680216,   6.20793608,   2.50962092,\n",
       "          8.6509571 ,   6.69180911,   9.11514091,   5.53119275,\n",
       "          8.33767293,   2.98316602,   4.69778153,   6.23427561,\n",
       "          7.70721171,   4.20932917,   5.9701607 ,  11.34967013,\n",
       "          4.03814686,   7.78785346,   8.39722943,   6.65447665,\n",
       "          5.18079765,   4.08928998,   7.97065752,   2.36653277,\n",
       "          3.68616238,   4.68932659,   7.2987788 ,   7.3450288 ]),\n",
       " array([ 12.50712195,  13.22613685,  14.40632576,   9.34777458,\n",
       "         12.3469302 ,   4.82647828,   6.58737786,  12.81703962,\n",
       "         13.71692588,  13.399712  ,  11.95665193,  16.61844961,\n",
       "          8.46991984,   8.06802522,  13.40657294,   7.56841137,\n",
       "          8.98638214,   9.16254916,  13.50672623,  13.9584866 ,\n",
       "          6.83911542,  10.20747873,  11.86576741,  11.07887113,\n",
       "         14.34856009,   2.79393936,  18.01854828,  11.09674103,\n",
       "         11.1422299 ,   8.75914852,  14.86029234,  10.07078301,\n",
       "          6.34659871,  11.26316069,  16.572645  ,   7.82528456,\n",
       "         13.60942086,  10.00692475,  11.78101446,   4.87986183,\n",
       "         11.70039271,   7.09663048,  17.92061968,   9.90781865,\n",
       "         17.4787987 ,  11.40892379,  11.18188573,  11.65661311,\n",
       "         11.62165174,   9.61329135,  11.30877505,  10.8373469 ,\n",
       "          9.07635459,  13.05958434,  11.25302416,  11.78079158,\n",
       "         13.64863471,   9.58717698,   7.30079018,   7.24418252,\n",
       "         14.8736033 ,  16.03685903,  11.45036944,  14.8696485 ,\n",
       "          8.94457909,   6.78860827,  13.59564993,   7.89495934,\n",
       "         12.7711349 ,   7.53525447,   7.25151597,  17.12074348,\n",
       "         14.63291124,   9.81164903,  19.69029069,   7.00892431,\n",
       "          6.58643931,  14.41625967,   6.32069792,  14.33900431,\n",
       "         13.87089315,  11.10129424,  12.64277728,   9.6015249 ,\n",
       "          7.06801574,  11.01340087,  10.66375047,   9.29654362,\n",
       "         10.19823226,  14.84585487,  12.25932031,  15.40092615,\n",
       "         12.93538922,  19.51228938,   7.78198535,  10.57020453,\n",
       "          7.8400152 ,  12.0769197 ,  11.47876328,   8.23115563])]"
      ]
     },
     "execution_count": 31,
     "metadata": {},
     "output_type": "execute_result"
    }
   ],
   "source": []
  },
  {
   "cell_type": "code",
   "execution_count": 27,
   "metadata": {
    "collapsed": false
   },
   "outputs": [
    {
     "data": {
      "text/plain": [
       "(4, 100)"
      ]
     },
     "execution_count": 27,
     "metadata": {},
     "output_type": "execute_result"
    }
   ],
   "source": [
    "np.shape(new)"
   ]
  },
  {
   "cell_type": "code",
   "execution_count": 28,
   "metadata": {
    "collapsed": false
   },
   "outputs": [
    {
     "data": {
      "text/plain": [
       "[array([  8.0504719 ,   3.50556217,   4.35876843,   4.44075528,\n",
       "          4.67381025,   2.52323785,   4.85507162,   8.71893103,\n",
       "          9.04165026,   6.40815159,   8.59091721,   4.13650005,\n",
       "          3.1246746 ,   6.92299835,   1.27674296,   8.49647315,\n",
       "          7.37983655,   7.96390296,   5.53326091,   7.04293378,\n",
       "          4.17491931,   6.828962  ,   4.22205279,   6.45743483,\n",
       "          5.17901019,   4.26537491,   6.4779391 ,   9.28828527,\n",
       "          6.03086541,   1.58684149,   8.21991366,   4.62996634,\n",
       "          4.47595645,   5.69218638,   2.57254245,   7.06959174,\n",
       "          8.59883343,   6.32715936,   5.2954877 ,   6.66330522,\n",
       "          6.83016904,   3.33912533,   2.29745029,  10.93390443,\n",
       "          5.65825076,   5.40812726,   5.45161807,   3.09030528,\n",
       "          5.11322241,   2.64740007,   7.21643289,   8.04588661,\n",
       "          8.59481033,   4.86814648,   6.27868113,   4.83453636,\n",
       "          6.32936925,   3.01030896,   5.18466752,   8.30464183,\n",
       "          4.65520368,   5.27254673,   6.20638394,   8.33546904,\n",
       "          0.52780138,   6.91366487,   8.68745432,   2.13193699,\n",
       "          7.3249498 ,   9.97177646,   6.83213919,   7.40688193,\n",
       "          6.25851597,   5.88680216,   6.20793608,   2.50962092,\n",
       "          8.6509571 ,   6.69180911,   9.11514091,   5.53119275,\n",
       "          8.33767293,   2.98316602,   4.69778153,   6.23427561,\n",
       "          7.70721171,   4.20932917,   5.9701607 ,  11.34967013,\n",
       "          4.03814686,   7.78785346,   8.39722943,   6.65447665,\n",
       "          5.18079765,   4.08928998,   7.97065752,   2.36653277,\n",
       "          3.68616238,   4.68932659,   7.2987788 ,   7.3450288 ]),\n",
       " array([ 12.50712195,  13.22613685,  14.40632576,   9.34777458,\n",
       "         12.3469302 ,   4.82647828,   6.58737786,  12.81703962,\n",
       "         13.71692588,  13.399712  ,  11.95665193,  16.61844961,\n",
       "          8.46991984,   8.06802522,  13.40657294,   7.56841137,\n",
       "          8.98638214,   9.16254916,  13.50672623,  13.9584866 ,\n",
       "          6.83911542,  10.20747873,  11.86576741,  11.07887113,\n",
       "         14.34856009,   2.79393936,  18.01854828,  11.09674103,\n",
       "         11.1422299 ,   8.75914852,  14.86029234,  10.07078301,\n",
       "          6.34659871,  11.26316069,  16.572645  ,   7.82528456,\n",
       "         13.60942086,  10.00692475,  11.78101446,   4.87986183,\n",
       "         11.70039271,   7.09663048,  17.92061968,   9.90781865,\n",
       "         17.4787987 ,  11.40892379,  11.18188573,  11.65661311,\n",
       "         11.62165174,   9.61329135,  11.30877505,  10.8373469 ,\n",
       "          9.07635459,  13.05958434,  11.25302416,  11.78079158,\n",
       "         13.64863471,   9.58717698,   7.30079018,   7.24418252,\n",
       "         14.8736033 ,  16.03685903,  11.45036944,  14.8696485 ,\n",
       "          8.94457909,   6.78860827,  13.59564993,   7.89495934,\n",
       "         12.7711349 ,   7.53525447,   7.25151597,  17.12074348,\n",
       "         14.63291124,   9.81164903,  19.69029069,   7.00892431,\n",
       "          6.58643931,  14.41625967,   6.32069792,  14.33900431,\n",
       "         13.87089315,  11.10129424,  12.64277728,   9.6015249 ,\n",
       "          7.06801574,  11.01340087,  10.66375047,   9.29654362,\n",
       "         10.19823226,  14.84585487,  12.25932031,  15.40092615,\n",
       "         12.93538922,  19.51228938,   7.78198535,  10.57020453,\n",
       "          7.8400152 ,  12.0769197 ,  11.47876328,   8.23115563]),\n",
       " array([ 47.81357542,  47.69816528,  51.66533513,  36.530675  ,\n",
       "         45.64466937,  22.00802739,  28.45664303,  49.077558  ,\n",
       "         51.93857639,  49.67018543,  46.43238803,  58.1905725 ,\n",
       "         33.23907044,  33.93254847,  47.12506393,  33.2204443 ,\n",
       "         36.91603834,  37.73657259,  49.55378278,  51.66390033,\n",
       "         28.87177956,  40.30389081,  43.97530225,  42.73230445,\n",
       "         51.902159  ,  16.78147917,  63.56158803,  44.20133935,\n",
       "         42.70909605,  33.33783994,  54.95780749,  38.79430584,\n",
       "         27.54474797,  42.90254889,  57.27117985,  33.27762317,\n",
       "         51.39465292,  39.45132757,  44.25776088,  24.23821174,\n",
       "         44.78323628,  29.22642775,  61.17755781,  41.45738179,\n",
       "         61.53249511,  43.19780863,  42.53843986,  42.7819656 ,\n",
       "         43.68854006,  36.43054771,  43.80151522,  42.80195765,\n",
       "         37.79344256,  47.87979988,  43.16538668,  44.02661654,\n",
       "         50.3775624 ,  36.53365907,  30.76167794,  32.15184212,\n",
       "         53.21538536,  57.0138241 ,  43.72127393,  55.04365364,\n",
       "         33.3646116 ,  30.08963087,  51.39765057,  31.01782015,\n",
       "         48.24285323,  33.85862527,  31.43759115,  61.33264504,\n",
       "         53.29496533,  38.6453218 ,  68.44181374,  28.54855704,\n",
       "         30.35177011,  52.86165719,  29.78663785,  52.04958294,\n",
       "         52.04848955,  41.06243935,  46.54419624,  38.18868613,\n",
       "         31.32462672,  41.41184083,  41.2433054 ,  39.83143955,\n",
       "         38.88074385,  54.69846499,  47.24354929,  55.79699041,\n",
       "         47.66354011,  66.84848677,  33.59825843,  39.1608536 ,\n",
       "         31.63010044,  44.84239601,  44.35265288,  34.63295491]),\n",
       " array([ 163.40124905,  122.98525617,  139.7786411 ,  105.18865127,\n",
       "         128.51329035,   54.36440292,   90.00903771,  172.25526405,\n",
       "         181.78166021,  153.22617637,  164.95241208,  153.04082426,\n",
       "          85.8828613 ,  121.05283653,  101.9601166 ,  133.29028746,\n",
       "         132.0497169 ,  139.12355015,  145.22636913,  163.48542051,\n",
       "          84.96967754,  135.08864754,  120.62757618,  137.47312269,\n",
       "         147.57669899,   57.55800109,  186.25590543,  165.9067163 ,\n",
       "         133.65093989,   72.52913095,  181.56785949,  112.14182088,\n",
       "          84.53243184,  131.11066501,  137.08061593,  120.81958569,\n",
       "         176.60095674,  128.66674333,  130.76865473,   96.13876146,\n",
       "         145.55111584,   78.41434314,  143.76551706,  174.04045131,\n",
       "         174.28077491,  129.29041561,  128.13605726,  107.84602103,\n",
       "         127.83046274,   89.11371663,  146.67243067,  151.66697089,\n",
       "         144.82926187,  135.44523159,  136.90465689,  126.15758106,\n",
       "         154.18081195,   92.56000497,   98.29888294,  129.10237237,\n",
       "         146.01393634,  160.33015694,  137.56310195,  182.78890628,\n",
       "          63.23674392,  112.00358301,  177.39076909,   71.93076174,\n",
       "         157.99411875,  147.81122236,  114.42868013,  189.26070016,\n",
       "         160.36221481,  122.89624128,  195.25807209,   69.50535586,\n",
       "         127.96132257,  163.17858525,  130.74297102,  151.03163414,\n",
       "         175.81965779,  102.88739627,  130.82393274,  124.90010681,\n",
       "         121.89490376,  114.53377424,  129.69453679,  173.91918307,\n",
       "         107.11577089,  177.14619512,  165.13421297,  169.69792603,\n",
       "         137.70237746,  172.8256019 ,  129.52714903,   93.00343586,\n",
       "          87.0884067 ,  126.77838018,  148.68580741,  126.41505379])]"
      ]
     },
     "execution_count": 28,
     "metadata": {},
     "output_type": "execute_result"
    }
   ],
   "source": [
    "new"
   ]
  },
  {
   "cell_type": "code",
   "execution_count": 7,
   "metadata": {
    "collapsed": false
   },
   "outputs": [
    {
     "data": {
      "text/plain": [
       "array([ 163.40124905,  122.98525617,  139.7786411 ,  105.18865127,\n",
       "        128.51329035,   54.36440292,   90.00903771,  172.25526405,\n",
       "        181.78166021,  153.22617637,  164.95241208,  153.04082426,\n",
       "         85.8828613 ,  121.05283653,  101.9601166 ,  133.29028746,\n",
       "        132.0497169 ,  139.12355015,  145.22636913,  163.48542051,\n",
       "         84.96967754,  135.08864754,  120.62757618,  137.47312269,\n",
       "        147.57669899,   57.55800109,  186.25590543,  165.9067163 ,\n",
       "        133.65093989,   72.52913095,  181.56785949,  112.14182088,\n",
       "         84.53243184,  131.11066501,  137.08061593,  120.81958569,\n",
       "        176.60095674,  128.66674333,  130.76865473,   96.13876146,\n",
       "        145.55111584,   78.41434314,  143.76551706,  174.04045131,\n",
       "        174.28077491,  129.29041561,  128.13605726,  107.84602103,\n",
       "        127.83046274,   89.11371663,  146.67243067,  151.66697089,\n",
       "        144.82926187,  135.44523159,  136.90465689,  126.15758106,\n",
       "        154.18081195,   92.56000497,   98.29888294,  129.10237237,\n",
       "        146.01393634,  160.33015694,  137.56310195,  182.78890628,\n",
       "         63.23674392,  112.00358301,  177.39076909,   71.93076174,\n",
       "        157.99411875,  147.81122236,  114.42868013,  189.26070016,\n",
       "        160.36221481,  122.89624128,  195.25807209,   69.50535586,\n",
       "        127.96132257,  163.17858525,  130.74297102,  151.03163414,\n",
       "        175.81965779,  102.88739627,  130.82393274,  124.90010681,\n",
       "        121.89490376,  114.53377424,  129.69453679,  173.91918307,\n",
       "        107.11577089,  177.14619512,  165.13421297,  169.69792603,\n",
       "        137.70237746,  172.8256019 ,  129.52714903,   93.00343586,\n",
       "         87.0884067 ,  126.77838018,  148.68580741,  126.41505379])"
      ]
     },
     "execution_count": 7,
     "metadata": {},
     "output_type": "execute_result"
    }
   ],
   "source": [
    "x1\n",
    "x2\n",
    "y1\n",
    "y2"
   ]
  },
  {
   "cell_type": "code",
   "execution_count": 8,
   "metadata": {
    "collapsed": false
   },
   "outputs": [
    {
     "data": {
      "text/plain": [
       "array([  8.0504719 ,   3.50556217,   4.35876843,   4.44075528,\n",
       "         4.67381025,   2.52323785,   4.85507162,   8.71893103,\n",
       "         9.04165026,   6.40815159,   8.59091721,   4.13650005,\n",
       "         3.1246746 ,   6.92299835,   1.27674296,   8.49647315,\n",
       "         7.37983655,   7.96390296,   5.53326091,   7.04293378,\n",
       "         4.17491931,   6.828962  ,   4.22205279,   6.45743483,\n",
       "         5.17901019,   4.26537491,   6.4779391 ,   9.28828527,\n",
       "         6.03086541,   1.58684149,   8.21991366,   4.62996634,\n",
       "         4.47595645,   5.69218638,   2.57254245,   7.06959174,\n",
       "         8.59883343,   6.32715936,   5.2954877 ,   6.66330522,\n",
       "         6.83016904,   3.33912533,   2.29745029,  10.93390443,\n",
       "         5.65825076,   5.40812726,   5.45161807,   3.09030528,\n",
       "         5.11322241,   2.64740007,   7.21643289,   8.04588661,\n",
       "         8.59481033,   4.86814648,   6.27868113,   4.83453636,\n",
       "         6.32936925,   3.01030896,   5.18466752,   8.30464183,\n",
       "         4.65520368,   5.27254673,   6.20638394,   8.33546904,\n",
       "         0.52780138,   6.91366487,   8.68745432,   2.13193699,\n",
       "         7.3249498 ,   9.97177646,   6.83213919,   7.40688193,\n",
       "         6.25851597,   5.88680216,   6.20793608,   2.50962092,\n",
       "         8.6509571 ,   6.69180911,   9.11514091,   5.53119275,\n",
       "         8.33767293,   2.98316602,   4.69778153,   6.23427561,\n",
       "         7.70721171,   4.20932917,   5.9701607 ,  11.34967013,\n",
       "         4.03814686,   7.78785346,   8.39722943,   6.65447665,\n",
       "         5.18079765,   4.08928998,   7.97065752,   2.36653277,\n",
       "         3.68616238,   4.68932659,   7.2987788 ,   7.3450288 ])"
      ]
     },
     "execution_count": 8,
     "metadata": {},
     "output_type": "execute_result"
    }
   ],
   "source": [
    "x1"
   ]
  },
  {
   "cell_type": "code",
   "execution_count": 9,
   "metadata": {
    "collapsed": false
   },
   "outputs": [
    {
     "data": {
      "text/plain": [
       "array([ 12.50712195,  13.22613685,  14.40632576,   9.34777458,\n",
       "        12.3469302 ,   4.82647828,   6.58737786,  12.81703962,\n",
       "        13.71692588,  13.399712  ,  11.95665193,  16.61844961,\n",
       "         8.46991984,   8.06802522,  13.40657294,   7.56841137,\n",
       "         8.98638214,   9.16254916,  13.50672623,  13.9584866 ,\n",
       "         6.83911542,  10.20747873,  11.86576741,  11.07887113,\n",
       "        14.34856009,   2.79393936,  18.01854828,  11.09674103,\n",
       "        11.1422299 ,   8.75914852,  14.86029234,  10.07078301,\n",
       "         6.34659871,  11.26316069,  16.572645  ,   7.82528456,\n",
       "        13.60942086,  10.00692475,  11.78101446,   4.87986183,\n",
       "        11.70039271,   7.09663048,  17.92061968,   9.90781865,\n",
       "        17.4787987 ,  11.40892379,  11.18188573,  11.65661311,\n",
       "        11.62165174,   9.61329135,  11.30877505,  10.8373469 ,\n",
       "         9.07635459,  13.05958434,  11.25302416,  11.78079158,\n",
       "        13.64863471,   9.58717698,   7.30079018,   7.24418252,\n",
       "        14.8736033 ,  16.03685903,  11.45036944,  14.8696485 ,\n",
       "         8.94457909,   6.78860827,  13.59564993,   7.89495934,\n",
       "        12.7711349 ,   7.53525447,   7.25151597,  17.12074348,\n",
       "        14.63291124,   9.81164903,  19.69029069,   7.00892431,\n",
       "         6.58643931,  14.41625967,   6.32069792,  14.33900431,\n",
       "        13.87089315,  11.10129424,  12.64277728,   9.6015249 ,\n",
       "         7.06801574,  11.01340087,  10.66375047,   9.29654362,\n",
       "        10.19823226,  14.84585487,  12.25932031,  15.40092615,\n",
       "        12.93538922,  19.51228938,   7.78198535,  10.57020453,\n",
       "         7.8400152 ,  12.0769197 ,  11.47876328,   8.23115563])"
      ]
     },
     "execution_count": 9,
     "metadata": {},
     "output_type": "execute_result"
    }
   ],
   "source": [
    "x2"
   ]
  },
  {
   "cell_type": "code",
   "execution_count": 10,
   "metadata": {
    "collapsed": false
   },
   "outputs": [
    {
     "data": {
      "text/plain": [
       "array([ 47.81357542,  47.69816528,  51.66533513,  36.530675  ,\n",
       "        45.64466937,  22.00802739,  28.45664303,  49.077558  ,\n",
       "        51.93857639,  49.67018543,  46.43238803,  58.1905725 ,\n",
       "        33.23907044,  33.93254847,  47.12506393,  33.2204443 ,\n",
       "        36.91603834,  37.73657259,  49.55378278,  51.66390033,\n",
       "        28.87177956,  40.30389081,  43.97530225,  42.73230445,\n",
       "        51.902159  ,  16.78147917,  63.56158803,  44.20133935,\n",
       "        42.70909605,  33.33783994,  54.95780749,  38.79430584,\n",
       "        27.54474797,  42.90254889,  57.27117985,  33.27762317,\n",
       "        51.39465292,  39.45132757,  44.25776088,  24.23821174,\n",
       "        44.78323628,  29.22642775,  61.17755781,  41.45738179,\n",
       "        61.53249511,  43.19780863,  42.53843986,  42.7819656 ,\n",
       "        43.68854006,  36.43054771,  43.80151522,  42.80195765,\n",
       "        37.79344256,  47.87979988,  43.16538668,  44.02661654,\n",
       "        50.3775624 ,  36.53365907,  30.76167794,  32.15184212,\n",
       "        53.21538536,  57.0138241 ,  43.72127393,  55.04365364,\n",
       "        33.3646116 ,  30.08963087,  51.39765057,  31.01782015,\n",
       "        48.24285323,  33.85862527,  31.43759115,  61.33264504,\n",
       "        53.29496533,  38.6453218 ,  68.44181374,  28.54855704,\n",
       "        30.35177011,  52.86165719,  29.78663785,  52.04958294,\n",
       "        52.04848955,  41.06243935,  46.54419624,  38.18868613,\n",
       "        31.32462672,  41.41184083,  41.2433054 ,  39.83143955,\n",
       "        38.88074385,  54.69846499,  47.24354929,  55.79699041,\n",
       "        47.66354011,  66.84848677,  33.59825843,  39.1608536 ,\n",
       "        31.63010044,  44.84239601,  44.35265288,  34.63295491])"
      ]
     },
     "execution_count": 10,
     "metadata": {},
     "output_type": "execute_result"
    }
   ],
   "source": [
    "y1"
   ]
  },
  {
   "cell_type": "code",
   "execution_count": 11,
   "metadata": {
    "collapsed": false
   },
   "outputs": [
    {
     "data": {
      "text/plain": [
       "array([ 47.54660179,  47.43119165,  51.3983615 ,  36.26370137,\n",
       "        45.37769573,  21.74105376,  28.18966939,  48.81058437,\n",
       "        51.67160276,  49.4032118 ,  46.1654144 ,  57.92359886,\n",
       "        32.97209681,  33.66557484,  46.8580903 ,  32.95347067,\n",
       "        36.6490647 ,  37.46959896,  49.28680915,  51.3969267 ,\n",
       "        28.60480592,  40.03691718,  43.70832862,  42.46533082,\n",
       "        51.63518536,  16.51450554,  63.29461439,  43.93436572,\n",
       "        42.44212242,  33.0708663 ,  54.69083386,  38.52733221,\n",
       "        27.27777434,  42.63557525,  57.00420622,  33.01064954,\n",
       "        51.12767929,  39.18435393,  43.99078725,  23.97123811,\n",
       "        44.51626265,  28.95945412,  60.91058417,  41.19040816,\n",
       "        61.26552147,  42.930835  ,  42.27146622,  42.51499196,\n",
       "        43.42156643,  36.16357408,  43.53454159,  42.53498402,\n",
       "        37.52646893,  47.61282625,  42.89841304,  43.75964291,\n",
       "        50.11058877,  36.26668543,  30.49470431,  31.88486848,\n",
       "        52.94841173,  56.74685046,  43.4543003 ,  54.77668001,\n",
       "        33.09763796,  29.82265723,  51.13067694,  30.75084651,\n",
       "        47.9758796 ,  33.59165164,  31.17061752,  61.06567141,\n",
       "        53.02799169,  38.37834817,  68.17484011,  28.2815834 ,\n",
       "        30.08479647,  52.59468356,  29.51966422,  51.78260931,\n",
       "        51.78151592,  40.79546572,  46.27722261,  37.9217125 ,\n",
       "        31.05765309,  41.14486719,  40.97633177,  39.56446592,\n",
       "        38.61377022,  54.43149135,  46.97657566,  55.53001677,\n",
       "        47.39656648,  66.58151313,  33.3312848 ,  38.89387997,\n",
       "        31.3631268 ,  44.57542238,  44.08567925,  34.36598128])"
      ]
     },
     "execution_count": 11,
     "metadata": {},
     "output_type": "execute_result"
    }
   ],
   "source": [
    "z1"
   ]
  },
  {
   "cell_type": "code",
   "execution_count": 11,
   "metadata": {
    "collapsed": false
   },
   "outputs": [
    {
     "data": {
      "image/png": "[encoded data removed]",
      "text/plain": [
       "<matplotlib.figure.Figure at 0x1114eaf10>"
      ]
     },
     "metadata": {},
     "output_type": "display_data"
    }
   ],
   "source": [
    "plt.plot(y1,z1)\n",
    "plt.show()"
   ]
  },
  {
   "cell_type": "code",
   "execution_count": null,
   "metadata": {
    "collapsed": true
   },
   "outputs": [],
   "source": []
  },
  {
   "cell_type": "code",
   "execution_count": null,
   "metadata": {
    "collapsed": true
   },
   "outputs": [],
   "source": []
  },
  {
   "cell_type": "code",
   "execution_count": null,
   "metadata": {
    "collapsed": true
   },
   "outputs": [],
   "source": []
  },
  {
   "cell_type": "code",
   "execution_count": 16,
   "metadata": {
    "collapsed": false
   },
   "outputs": [],
   "source": []
  },
  {
   "cell_type": "code",
   "execution_count": null,
   "metadata": {
    "collapsed": false
   },
   "outputs": [],
   "source": []
  },
  {
   "cell_type": "code",
   "execution_count": null,
   "metadata": {
    "collapsed": false
   },
   "outputs": [],
   "source": []
  },
  {
   "cell_type": "code",
   "execution_count": 17,
   "metadata": {
    "collapsed": true
   },
   "outputs": [],
   "source": [
    "a=np.arange(10000)/1000.0\n",
    "b=np.sin(a)"
   ]
  },
  {
   "cell_type": "code",
   "execution_count": 18,
   "metadata": {
    "collapsed": false
   },
   "outputs": [
    {
     "data": {
      "text/plain": [
       "[<matplotlib.lines.Line2D at 0x11b4596d0>]"
      ]
     },
     "execution_count": 18,
     "metadata": {},
     "output_type": "execute_result"
    }
   ],
   "source": [
    "plt.plot(a,b)"
   ]
  },
  {
   "cell_type": "code",
   "execution_count": 19,
   "metadata": {
    "collapsed": false
   },
   "outputs": [
    {
     "data": {
      "image/png": "[encoded data removed]",
      "text/plain": [
       "<matplotlib.figure.Figure at 0x11b4ceed0>"
      ]
     },
     "metadata": {},
     "output_type": "display_data"
    }
   ],
   "source": [
    "plt.show()"
   ]
  },
  {
   "cell_type": "code",
   "execution_count": null,
   "metadata": {
    "collapsed": true
   },
   "outputs": [],
   "source": []
  }
 ],
 "metadata": {
  "kernelspec": {
   "display_name": "Python 3",
   "language": "python",
   "name": "python3"
  },
  "language_info": {
   "codemirror_mode": {
    "name": "ipython",
    "version": 3
   },
   "file_extension": ".py",
   "mimetype": "text/x-python",
   "name": "python",
   "nbconvert_exporter": "python",
   "pygments_lexer": "ipython3",
   "version": "3.6.0"
  }
 },
 "nbformat": 4,
 "nbformat_minor": 2
}
