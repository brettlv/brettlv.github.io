{
 "cells": [
  {
   "cell_type": "code",
   "execution_count": 1,
   "metadata": {
    "ExecuteTime": {
     "end_time": "2021-06-24T07:27:49.370047Z",
     "start_time": "2021-06-24T07:27:46.911137Z"
    }
   },
   "outputs": [],
   "source": [
    "import nltk"
   ]
  },
  {
   "cell_type": "markdown",
   "metadata": {},
   "source": [
    "nltk.download()"
   ]
  },
  {
   "cell_type": "code",
   "execution_count": 2,
   "metadata": {
    "ExecuteTime": {
     "end_time": "2021-06-24T07:33:44.561426Z",
     "start_time": "2021-06-24T07:33:44.440327Z"
    }
   },
   "outputs": [
    {
     "data": {
      "text/plain": [
       "['The', 'Fulton', 'County', 'Grand', 'Jury', 'said', ...]"
      ]
     },
     "execution_count": 2,
     "metadata": {},
     "output_type": "execute_result"
    }
   ],
   "source": [
    "from nltk.corpus import brown\n",
    "brown.words()"
   ]
  },
  {
   "cell_type": "code",
   "execution_count": null,
   "metadata": {},
   "outputs": [],
   "source": []
  },
  {
   "cell_type": "code",
   "execution_count": 8,
   "metadata": {
    "ExecuteTime": {
     "end_time": "2021-06-24T07:38:49.270946Z",
     "start_time": "2021-06-24T07:38:49.264754Z"
    }
   },
   "outputs": [
    {
     "data": {
      "text/plain": [
       "['At',\n",
       " 'eight',\n",
       " \"o'clock\",\n",
       " 'on',\n",
       " 'Thursday',\n",
       " 'morning',\n",
       " '...',\n",
       " 'Arthur',\n",
       " 'did',\n",
       " \"n't\",\n",
       " 'feel',\n",
       " 'very',\n",
       " 'good',\n",
       " '.']"
      ]
     },
     "execution_count": 8,
     "metadata": {},
     "output_type": "execute_result"
    }
   ],
   "source": [
    "import nltk\n",
    "sentence = \"\"\"At eight o'clock on Thursday morning\n",
    "... Arthur didn't feel very good.\"\"\"\n",
    "tokens = nltk.word_tokenize(sentence)\n",
    "tokens"
   ]
  },
  {
   "cell_type": "code",
   "execution_count": 9,
   "metadata": {
    "ExecuteTime": {
     "end_time": "2021-06-24T07:38:53.025002Z",
     "start_time": "2021-06-24T07:38:53.019618Z"
    }
   },
   "outputs": [
    {
     "data": {
      "text/plain": [
       "[('At', 'IN'),\n",
       " ('eight', 'CD'),\n",
       " (\"o'clock\", 'NN'),\n",
       " ('on', 'IN'),\n",
       " ('Thursday', 'NNP'),\n",
       " ('morning', 'NN')]"
      ]
     },
     "execution_count": 9,
     "metadata": {},
     "output_type": "execute_result"
    }
   ],
   "source": [
    "tagged = nltk.pos_tag(tokens)\n",
    "tagged[0:6]\n"
   ]
  },
  {
   "cell_type": "code",
   "execution_count": 11,
   "metadata": {
    "ExecuteTime": {
     "end_time": "2021-06-24T07:39:11.508299Z",
     "start_time": "2021-06-24T07:39:10.837859Z"
    }
   },
   "outputs": [
    {
     "data": {
      "image/png": "[encoded data removed]",
      "text/plain": [
       "Tree('S', [('At', 'IN'), ('eight', 'CD'), (\"o'clock\", 'NN'), ('on', 'IN'), ('Thursday', 'NNP'), ('morning', 'NN'), ('...', ':'), Tree('PERSON', [('Arthur', 'NNP')]), ('did', 'VBD'), (\"n't\", 'RB'), ('feel', 'VB'), ('very', 'RB'), ('good', 'JJ'), ('.', '.')])"
      ]
     },
     "execution_count": 11,
     "metadata": {},
     "output_type": "execute_result"
    }
   ],
   "source": [
    "entities = nltk.chunk.ne_chunk(tagged)\n",
    "entities"
   ]
  },
  {
   "cell_type": "code",
   "execution_count": 12,
   "metadata": {
    "ExecuteTime": {
     "end_time": "2021-06-24T07:39:44.140395Z",
     "start_time": "2021-06-24T07:39:35.609406Z"
    }
   },
   "outputs": [],
   "source": [
    "from nltk.corpus import treebank\n",
    "t = treebank.parsed_sents('wsj_0001.mrg')[0]\n",
    "t.draw()"
   ]
  },
  {
   "cell_type": "code",
   "execution_count": null,
   "metadata": {},
   "outputs": [],
   "source": []
  },
  {
   "cell_type": "code",
   "execution_count": null,
   "metadata": {},
   "outputs": [],
   "source": []
  },
  {
   "cell_type": "code",
   "execution_count": null,
   "metadata": {},
   "outputs": [],
   "source": []
  },
  {
   "cell_type": "code",
   "execution_count": 3,
   "metadata": {
    "ExecuteTime": {
     "end_time": "2021-06-24T07:37:38.001419Z",
     "start_time": "2021-06-24T07:37:37.975417Z"
    }
   },
   "outputs": [
    {
     "ename": "SyntaxError",
     "evalue": "invalid character in identifier (<ipython-input-3-ed880fdfe7e4>, line 58)",
     "output_type": "error",
     "traceback": [
      "\u001b[0;36m  File \u001b[0;32m\"<ipython-input-3-ed880fdfe7e4>\"\u001b[0;36m, line \u001b[0;32m58\u001b[0m\n\u001b[0;31m    bigram_tagger = nltk.BigramTagger(train_sents，backoff=nltk.DefaultTagger('NN')) # 2_Gram,设置回退\u001b[0m\n\u001b[0m                                                        ^\u001b[0m\n\u001b[0;31mSyntaxError\u001b[0m\u001b[0;31m:\u001b[0m invalid character in identifier\n"
     ]
    }
   ],
   "source": [
    "from nltk.book import * # 加载语料库\n",
    "text1.concordance('monstrous') # 搜索文本上下文\n",
    "text1.similar('monstrous') # 查找与monstrous拥有共同上下文的词\n",
    "text2.common_contexts(['monstrous','very'])\n",
    "text4.dispersion_plot(['America','citizen','democracy','freedom']) # 文中分布位置\n",
    "text3.generate() # 以相同风格产生文本（有可能有文法错误）\n",
    "fdist  = FreqDist(text1) # 单词计数\n",
    "fdist.plot(50,cumulative=50) # 绘制排名前50的单词\n",
    "fdist = FreqDist([len(w) for w in text1]) # 计算其他东西\n",
    "fdist.freq(3) # 获取比例\n",
    "fdist.max() # 最大频率对应的词\n",
    "sorted([w for w in set(text1) if w.endswith('ableness')]) # 词汇判断\n",
    "from nltk.corpus import gutenberg # 引入语料库\n",
    "gutenberg.fileids() # 查看文本标识符\n",
    "for fileid in gutenberg.fileids():\n",
    "    num_chars = len(gutenberg.raw(fileid)) # 计数，返回一个包括空白字符的字符串，解析文本\n",
    "    num_words = len(gutenberg.words(fileid)) # 返回词链表[]\n",
    "    num_sents = len(gutenberg.sents(fileid)) # 返回词链表，每个句子为单独链表[[],[]]\n",
    "    num_voac = len(set([w.lower() for w in gutenberg.words(fileid)])) # 去重\n",
    "print(int(num_chars/num_words),int(num_words/num_sents),int(num_words/num_voac),fileid) # 输出平均词长，平均句子长度和单词多样性得分（每个词出现的平均次数）\n",
    "from nltk.corpus import brown\n",
    "cfd = nltk.ConditionalFreqDist((genre,word) for genre in brown.categories() for word in brown.words(categories=genre)) # 条件频率分布对象\n",
    "cfd.tabulate(conditions=['adventure','fiction'],sample=range(10),cumulative=True)\n",
    "text = nltk.corpus.genesis.words('english-kjv.txt')    \n",
    "bigrams = nltk.bigrams(text) # 产生双连词 \n",
    "cfd = nltk.ConditionalFreqDist(bigrams)\n",
    "print(cfd['living']) # 查看living条件下的单词分布 \n",
    "from nltk.corpus import wordnet as wn \n",
    "wn.synsets('motorcar') # 查找同义词\n",
    "wn.synset('car.n.01').lemma_names # car是同义词集合，查看集合内容\n",
    "wn.synset('whale.n.02').min_depth() # 对应同义词集深度 \n",
    "wn.synset('whale.n.02').path_similarity(wn.synset('right_whale.n.01')) # 查看单词相似度\n",
    "token = nltk.word_tokenize(str(text1)) # 进行分词 \n",
    "text = nltk.Text(token) #变成nltk文本，便于调用方法 \n",
    "import re  \n",
    "wordlis = [w for w in nltk.corpus.words.words('en') if w.islower()] \n",
    "[w for w in wordlis if re.search('ed$',w)] #如果以ed结尾就留存\n",
    "re.findall(r'^(.*?)(ing|ly|ious|ies|es|s|ment)$','posses') # 理解贪婪模式和findall\n",
    "porter= nltk.PorterStemmer() # 词干提取lying-lie，但不处理women \n",
    "[porter.stem(t) for t in text] \n",
    "wnl = nltk.WordNetLemmatizer() # 词形提取 women变成woman \n",
    "[wnl.lemmatize(w) for w in text]\n",
    "def is_content(word):\n",
    "    return word.lower not in ['a','text']\n",
    "filter(is_content,text) # 过滤停止词\n",
    "nltk.pos_tag(nltk.word_tokenize('I love doing homework .')) # 词性标注    \n",
    "freq = nltk.defaultdict(int)\n",
    "freq['b'] # 默认词典0\n",
    "from nltk.corpus import brown\n",
    "brown_tagged_sents = brown.tagged_sents(categories='news') # 已经标注好的句子\n",
    "brown_sents = brown.sents(categories='news') # 未标注的z数据 \n",
    "size = int(len(brown_tagged_sents)*0.9) \n",
    "train_sents = brown_tagged_sents[:size] \n",
    "test_sents = brown_tagged_sents[size:]  \n",
    "bigram_tagger = nltk.BigramTagger(train_sents) # 2_Gram \n",
    "bigram_tagger.tag[brown_sents[2007]] # 标注2007号\n",
    "bigram_tagger.evaluate(test_sents) # 评估标注结果\n",
    "bigram_tagger = nltk.BigramTagger(train_sents，backoff=nltk.DefaultTagger('NN')) # 2_Gram,设置回退 \n",
    "from nltk import names\n",
    "from nltk.corpus import names\n",
    "import random\n",
    "names = ([(name.'male') for name in names.words('male.txt')]+[(name,'female') for name in names.words('female.txt')])\n",
    "names = ([(name,'male') for name in names.words('male.txt')]+[(name,'female') for name in names.words('female.txt')])\n",
    "random.shuffle(names)\n",
    "def gen_feature(word):\n",
    "    return {'last_letter':word[-1]}\n",
    "featuresets = [(gen_feature(n),g) for (n,g) in names]\n",
    "trainset,testset = featuresets[500:],featuresets[:500]\n",
    "import nltk\n",
    "classifier = nltk.NaiveBayesClassifier.train(trainset)\n",
    "classifier.classify(gen_feature('Neo'))\n",
    "classifier.show_most_informative_features(5) # 查看5个最有信息量的特征\n"
   ]
  },
  {
   "cell_type": "code",
   "execution_count": null,
   "metadata": {},
   "outputs": [],
   "source": []
  }
 ],
 "metadata": {
  "kernelspec": {
   "display_name": "Python 3",
   "language": "python",
   "name": "python3"
  },
  "language_info": {
   "codemirror_mode": {
    "name": "ipython",
    "version": 3
   },
   "file_extension": ".py",
   "mimetype": "text/x-python",
   "name": "python",
   "nbconvert_exporter": "python",
   "pygments_lexer": "ipython3",
   "version": "3.8.5"
  },
  "latex_envs": {
   "LaTeX_envs_menu_present": true,
   "autocomplete": true,
   "bibliofile": "biblio.bib",
   "cite_by": "apalike",
   "current_citInitial": 1,
   "eqLabelWithNumbers": true,
   "eqNumInitial": 1,
   "hotkeys": {
    "equation": "Ctrl-E",
    "itemize": "Ctrl-I"
   },
   "labels_anchors": false,
   "latex_user_defs": false,
   "report_style_numbering": false,
   "user_envs_cfg": false
  },
  "toc": {
   "nav_menu": {},
   "number_sections": true,
   "sideBar": true,
   "skip_h1_title": false,
   "toc_cell": false,
   "toc_position": {},
   "toc_section_display": "block",
   "toc_window_display": false
  }
 },
 "nbformat": 4,
 "nbformat_minor": 2
}
