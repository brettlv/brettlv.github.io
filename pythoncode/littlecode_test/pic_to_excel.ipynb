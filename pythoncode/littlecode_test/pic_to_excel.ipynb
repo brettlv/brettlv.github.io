{
 "cells": [
  {
   "cell_type": "code",
   "execution_count": 2,
   "metadata": {
    "ExecuteTime": {
     "end_time": "2019-03-15T18:33:09.351973Z",
     "start_time": "2019-03-15T18:33:09.222366Z"
    },
    "collapsed": false
   },
   "outputs": [
    {
     "name": "stdout",
     "output_type": "stream",
     "text": [
      "Bfrac.png                     testls.png\r\n",
      "FIRST_range.png               total_HID.png\r\n",
      "MutimeofHMCNC_fit.png         total_HID_2.png\r\n",
      "MutimeofHMCNC_instrument.png  total_HID_3.png\r\n",
      "MutimeofHMCNC_paper.png       triangle.png\r\n",
      "MutimeofHMCNC_valid.png       v404_0620_lc.png\r\n",
      "bb.png                        v404_0620_lc_left.png\r\n",
      "fit_bb.png                    v404_0620_lc_right.png\r\n",
      "gwpytest01.png                v404_0620_pds.png\r\n",
      "high_state_HID_down.png       v404_0620_pds_left.png\r\n",
      "high_state_HID_updown.png     v404_0620_pds_right.png\r\n",
      "lovecurve.png                 v404_0622.png\r\n",
      "low_state_HID_less100.png     v404_0622_lc.png\r\n",
      "low_state_HID_less1000.png    v404_0622_pds.png\r\n",
      "low_state_HID_less200.png     v404_062526_lc.png\r\n",
      "low_state_HID_less500.png     v404_062526_pds.png\r\n",
      "mid_state_HID_downup.png\r\n"
     ]
    }
   ],
   "source": [
    "ls *.png"
   ]
  },
  {
   "cell_type": "code",
   "execution_count": 3,
   "metadata": {
    "ExecuteTime": {
     "end_time": "2019-03-15T18:34:00.127076Z",
     "start_time": "2019-03-15T18:33:54.062426Z"
    },
    "collapsed": true
   },
   "outputs": [],
   "source": [
    "from openpyxl import Workbook\n",
    "from openpyxl.utils import get_column_letter\n",
    "from openpyxl.styles import PatternFill, Color\n",
    "from PIL import Image\n",
    "\n",
    "workbook = Workbook()\n",
    "worksheet = workbook.active\n",
    "im = Image.open(\"../../icon.jpeg\")\n",
    "im_width = im.size[0]\n",
    "im_height = im.size[1]\n",
    "pix = im.load()\n",
    "for row in range(1, im_height):\n",
    "    for col in range(1, im_width):\n",
    "        cell = worksheet.cell(column=col, row=row)\n",
    "        pixpoint = pix[col - 1, row - 1]\n",
    "        pixColor = \"FF%02X%02X%02X\" % (pixpoint[0], pixpoint[1], pixpoint[2])\n",
    "        fill = PatternFill(patternType='solid', fgColor=Color(rgb=pixColor))\n",
    "        cell.fill = fill\n",
    "    worksheet.row_dimensions[row].height = 6\n",
    "for col in range(1, im_width):\n",
    "    worksheet.column_dimensions[get_column_letter(col)].width = 1\n",
    "workbook.save(filename='icon.xlsx')\n"
   ]
  },
  {
   "cell_type": "code",
   "execution_count": 6,
   "metadata": {
    "ExecuteTime": {
     "end_time": "2019-03-15T18:35:34.945297Z",
     "start_time": "2019-03-15T18:35:34.638576Z"
    },
    "collapsed": false
   },
   "outputs": [
    {
     "name": "stdout",
     "output_type": "stream",
     "text": [
      "HM Cnc 08h06m22.9s +15d27m31s.xlsx  icon.xlsx\r\n"
     ]
    }
   ],
   "source": [
    "ls *.xlsx"
   ]
  },
  {
   "cell_type": "code",
   "execution_count": null,
   "metadata": {
    "collapsed": true
   },
   "outputs": [],
   "source": []
  }
 ],
 "metadata": {
  "kernelspec": {
   "display_name": "Python 3",
   "language": "python",
   "name": "python3"
  },
  "language_info": {
   "codemirror_mode": {
    "name": "ipython",
    "version": 3
   },
   "file_extension": ".py",
   "mimetype": "text/x-python",
   "name": "python",
   "nbconvert_exporter": "python",
   "pygments_lexer": "ipython3",
   "version": "3.6.0"
  },
  "latex_envs": {
   "LaTeX_envs_menu_present": true,
   "autocomplete": true,
   "bibliofile": "biblio.bib",
   "cite_by": "apalike",
   "current_citInitial": 1,
   "eqLabelWithNumbers": true,
   "eqNumInitial": 1,
   "hotkeys": {
    "equation": "Ctrl-E",
    "itemize": "Ctrl-I"
   },
   "labels_anchors": false,
   "latex_user_defs": false,
   "report_style_numbering": false,
   "user_envs_cfg": false
  },
  "toc": {
   "nav_menu": {},
   "number_sections": true,
   "sideBar": true,
   "skip_h1_title": false,
   "toc_cell": false,
   "toc_position": {},
   "toc_section_display": "block",
   "toc_window_display": false
  }
 },
 "nbformat": 4,
 "nbformat_minor": 2
}
