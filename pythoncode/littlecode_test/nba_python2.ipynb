{
 "cells": [
  {
   "cell_type": "code",
   "execution_count": 2,
   "metadata": {
    "ExecuteTime": {
     "end_time": "2018-11-30T19:36:15.285510Z",
     "start_time": "2018-11-30T19:36:14.782175Z"
    },
    "collapsed": false
   },
   "outputs": [
    {
     "ename": "AttributeError",
     "evalue": "'NoneType' object has no attribute 'text'",
     "output_type": "error",
     "traceback": [
      "\u001b[0;31m---------------------------------------------------------------------------\u001b[0m",
      "\u001b[0;31mAttributeError\u001b[0m                            Traceback (most recent call last)",
      "\u001b[0;32m<ipython-input-2-ae40eab41a1c>\u001b[0m in \u001b[0;36m<module>\u001b[0;34m()\u001b[0m\n\u001b[1;32m    117\u001b[0m     \u001b[0murl_tail\u001b[0m \u001b[0;34m=\u001b[0m \u001b[0;34m'&QueryType=game&order=1&crtcol=date_out&GameType=season&PageNum=3000&Season0=2018&Season1=2019#label_show_result'\u001b[0m\u001b[0;34m\u001b[0m\u001b[0m\n\u001b[1;32m    118\u001b[0m     \u001b[0murl_lists\u001b[0m \u001b[0;34m=\u001b[0m \u001b[0mgetURLLists\u001b[0m\u001b[0;34m(\u001b[0m\u001b[0murl_header\u001b[0m\u001b[0;34m,\u001b[0m\u001b[0murl_tail\u001b[0m\u001b[0;34m,\u001b[0m\u001b[0mpages\u001b[0m\u001b[0;34m)\u001b[0m\u001b[0;34m\u001b[0m\u001b[0m\n\u001b[0;32m--> 119\u001b[0;31m     \u001b[0mdatasets\u001b[0m \u001b[0;34m=\u001b[0m \u001b[0mgetNBAAllData\u001b[0m\u001b[0;34m(\u001b[0m\u001b[0murl_lists\u001b[0m\u001b[0;34m)\u001b[0m\u001b[0;34m\u001b[0m\u001b[0m\n\u001b[0m\u001b[1;32m    120\u001b[0m \u001b[0;34m\u001b[0m\u001b[0m\n\u001b[1;32m    121\u001b[0m     \u001b[0mwriteDataToTxt\u001b[0m\u001b[0;34m(\u001b[0m\u001b[0mdatasets\u001b[0m\u001b[0;34m)\u001b[0m\u001b[0;34m\u001b[0m\u001b[0m\n",
      "\u001b[0;32m<ipython-input-2-ae40eab41a1c>\u001b[0m in \u001b[0;36mgetNBAAllData\u001b[0;34m(url_lists)\u001b[0m\n\u001b[1;32m     30\u001b[0m     \u001b[0mdatasets\u001b[0m \u001b[0;34m=\u001b[0m \u001b[0;34m[\u001b[0m\u001b[0;34m''\u001b[0m\u001b[0;34m]\u001b[0m\u001b[0;34m\u001b[0m\u001b[0m\n\u001b[1;32m     31\u001b[0m     \u001b[0;32mfor\u001b[0m \u001b[0mitem\u001b[0m \u001b[0;32min\u001b[0m \u001b[0murl_lists\u001b[0m\u001b[0;34m:\u001b[0m\u001b[0;34m\u001b[0m\u001b[0m\n\u001b[0;32m---> 32\u001b[0;31m         \u001b[0mdata1\u001b[0m \u001b[0;34m=\u001b[0m \u001b[0mgetNBASingleData\u001b[0m\u001b[0;34m(\u001b[0m\u001b[0mitem\u001b[0m\u001b[0;34m)\u001b[0m\u001b[0;34m\u001b[0m\u001b[0m\n\u001b[0m\u001b[1;32m     33\u001b[0m         \u001b[0mdatasets\u001b[0m\u001b[0;34m.\u001b[0m\u001b[0mextend\u001b[0m\u001b[0;34m(\u001b[0m\u001b[0mdata1\u001b[0m\u001b[0;34m)\u001b[0m\u001b[0;34m\u001b[0m\u001b[0m\n\u001b[1;32m     34\u001b[0m     \u001b[0;31m#去掉数据里的空元素\u001b[0m\u001b[0;34m\u001b[0m\u001b[0;34m\u001b[0m\u001b[0m\n",
      "\u001b[0;32m<ipython-input-2-ae40eab41a1c>\u001b[0m in \u001b[0;36mgetNBASingleData\u001b[0;34m(url)\u001b[0m\n\u001b[1;32m     46\u001b[0m     \u001b[0;31m# print html\u001b[0m\u001b[0;34m\u001b[0m\u001b[0;34m\u001b[0m\u001b[0m\n\u001b[1;32m     47\u001b[0m     \u001b[0msoup\u001b[0m \u001b[0;34m=\u001b[0m \u001b[0mBeautifulSoup\u001b[0m\u001b[0;34m(\u001b[0m\u001b[0mhtml\u001b[0m\u001b[0;34m)\u001b[0m\u001b[0;34m\u001b[0m\u001b[0m\n\u001b[0;32m---> 48\u001b[0;31m     \u001b[0mdata\u001b[0m \u001b[0;34m=\u001b[0m \u001b[0msoup\u001b[0m\u001b[0;34m.\u001b[0m\u001b[0mhtml\u001b[0m\u001b[0;34m.\u001b[0m\u001b[0mbody\u001b[0m\u001b[0;34m.\u001b[0m\u001b[0mfind\u001b[0m\u001b[0;34m(\u001b[0m\u001b[0;34m'tbody'\u001b[0m\u001b[0;34m)\u001b[0m\u001b[0;34m.\u001b[0m\u001b[0mtext\u001b[0m\u001b[0;34m\u001b[0m\u001b[0m\n\u001b[0m\u001b[1;32m     49\u001b[0m     \u001b[0mlist_data\u001b[0m \u001b[0;34m=\u001b[0m \u001b[0mdata\u001b[0m\u001b[0;34m.\u001b[0m\u001b[0msplit\u001b[0m\u001b[0;34m(\u001b[0m\u001b[0;34m'\\n'\u001b[0m\u001b[0;34m)\u001b[0m\u001b[0;34m\u001b[0m\u001b[0m\n\u001b[1;32m     50\u001b[0m     \u001b[0;31m# with open('nba_data.txt','a') as fp:\u001b[0m\u001b[0;34m\u001b[0m\u001b[0;34m\u001b[0m\u001b[0m\n",
      "\u001b[0;31mAttributeError\u001b[0m: 'NoneType' object has no attribute 'text'"
     ]
    }
   ],
   "source": [
    "#coding=utf-8\n",
    "import sys\n",
    "reload(sys)\n",
    "sys.setdefaultencoding('utf-8')\n",
    " \n",
    "import requests\n",
    "import time\n",
    "import urllib\n",
    "from bs4 import BeautifulSoup\n",
    "import re\n",
    "from pyExcelerator import *\n",
    " \n",
    "def getURLLists(url_header,url_tail,pages):\n",
    "    \"\"\"\n",
    "    获取所有页面的URL列表\n",
    "    \"\"\"\n",
    "    url_lists = []\n",
    "    url_0 = url_header+'0'+url_tail\n",
    "    print url_0\n",
    "    url_lists.append(url_0)\n",
    "    for i in range(1,pages+1):\n",
    "        url_temp = url_header+str(i)+url_tail\n",
    "        url_lists.append(url_temp)\n",
    "    return url_lists\n",
    " \n",
    "def getNBAAllData(url_lists):\n",
    "    \"\"\"\n",
    "    获取所有2018赛季NBA常规赛数据\n",
    "    \"\"\"\n",
    "    datasets = ['']\n",
    "    for item in url_lists:\n",
    "        data1 = getNBASingleData(item)\n",
    "        datasets.extend(data1)\n",
    "    #去掉数据里的空元素\n",
    "    for item in datasets[:]:\n",
    "        if len(item) == 0:\n",
    "            datasets.remove(item)\n",
    "    return datasets\n",
    "def getNBASingleData(url):\n",
    "    \"\"\"\n",
    "    获取1个页面NBA常规赛数据\n",
    "    \"\"\"\n",
    "    # url = 'http://stat-nba.com/query_team.php?QueryType=game&order=1&crtcol=date_out&GameType=season&PageNum=3000&Season0=2016&Season1=2017'\n",
    "    # html = requests.get(url).text\n",
    "    html = urllib.urlopen(url).read()\n",
    "    # print html\n",
    "    soup = BeautifulSoup(html)\n",
    "    data = soup.html.body.find('tbody').text\n",
    "    list_data = data.split('\\n')\n",
    "    # with open('nba_data.txt','a') as fp:\n",
    "    #     fp.write(data)\n",
    "    # for item in list_data[:]:\n",
    "    #     if len(item) == 0:\n",
    "    #         list_data.remove(item)\n",
    "    return list_data\n",
    " \n",
    "def saveDataToExcel(datasets,sheetname,filename):\n",
    " \n",
    "    book = Workbook()\n",
    "    sheet = book.add_sheet(sheetname)\n",
    "    sheet.write(0,0,u'序号')\n",
    "    sheet.write(0,1,u'球队')\n",
    "    sheet.write(0,2,u'时间')\n",
    "    sheet.write(0,3,u'结果')\n",
    "    sheet.write(0,4,u'主客')\n",
    "    sheet.write(0,5,u'比赛')\n",
    "    sheet.write(0,6,u'投篮命中率')\n",
    "    sheet.write(0,7,u'命中数')\n",
    "    sheet.write(0,8,u'出手数')\n",
    "    sheet.write(0,9,u'三分命中率')\n",
    "    sheet.write(0,10,u'三分命中数')\n",
    "    sheet.write(0,11,u'三分出手数')\n",
    "    sheet.write(0,12,u'罚球命中率')\n",
    "    sheet.write(0,13,u'罚球命中数')\n",
    "    sheet.write(0,14,u'罚球出手数')\n",
    "    sheet.write(0,15,u'篮板')\n",
    "    sheet.write(0,16,u'前场篮板')\n",
    "    sheet.write(0,17,u'后场篮板')\n",
    "    sheet.write(0,18,u'助攻')\n",
    "    sheet.write(0,19,u'抢断')\n",
    "    sheet.write(0,20,u'盖帽')\n",
    "    sheet.write(0,21,u'失误')\n",
    "    sheet.write(0,22,u'犯规')\n",
    "    sheet.write(0,23,u'得分')\n",
    " \n",
    "    num = 24\n",
    "    row_cnt = 0\n",
    "    data_cnt = 0\n",
    "    data_len = len(datasets)\n",
    "    print 'data_len:',data_len\n",
    "    while(data_cnt< data_len):\n",
    "        row_cnt += 1\n",
    "        print '序号:',row_cnt\n",
    "        for col in range(num):\n",
    "                # print col\n",
    "                sheet.write(row_cnt,col,datasets[data_cnt])\n",
    "                data_cnt += 1\n",
    "    book.save(filename)\n",
    " \n",
    "def writeDataToTxt(datasets):\n",
    "    fp = open('nba_data.txt','w')\n",
    "    line_cnt = 1\n",
    "    for i in range(len(datasets)-1):\n",
    "        #球队名称对齐的操作：如果球队名字过短或者为76人队是 球队名字后面加两个table 否则加1个table\n",
    "        if line_cnt % 24 == 2 and len(datasets[i]) < 5:# or datasets[i] == u'费城76人':\n",
    "            fp.write(datasets[i]+'\\t\\t')\n",
    "        else:\n",
    "            fp.write(datasets[i]+'\\t')\n",
    "        line_cnt += 1\n",
    "        if line_cnt % 24 == 1:\n",
    "            fp.write('\\n')\n",
    "    fp.close()\n",
    " \n",
    "if __name__ == \"__main__\":\n",
    "    pages = int(1132/150)\n",
    "    url_header = 'http://stat-nba.com/query_team.php?page='\n",
    "    url_tail = '&QueryType=game&order=1&crtcol=date_out&GameType=season&PageNum=3000&Season0=2018&Season1=2019#label_show_result'\n",
    "    url_lists = getURLLists(url_header,url_tail,pages)\n",
    "    datasets = getNBAAllData(url_lists)\n",
    " \n",
    "    writeDataToTxt(datasets)\n",
    " \n",
    "    sheetname = 'nba normal data 2018-2019'\n",
    "    str_time = time.strftime('%Y-%m-%d',time.localtime(time.time()))\n",
    "    filename = 'nba_normal_data'+str_time+'.xls'\n",
    "    saveDataToExcel(datasets,sheetname,filename)"
   ]
  },
  {
   "cell_type": "code",
   "execution_count": null,
   "metadata": {
    "collapsed": true
   },
   "outputs": [],
   "source": []
  },
  {
   "cell_type": "code",
   "execution_count": null,
   "metadata": {
    "collapsed": true
   },
   "outputs": [],
   "source": [
    "url_nba='https://www.basketball-reference.com/leagues/NBA_2019_ratings.html'"
   ]
  },
  {
   "cell_type": "code",
   "execution_count": null,
   "metadata": {
    "collapsed": true
   },
   "outputs": [],
   "source": [
    "https://www.nba.com/lakers/roster?ls=nav_extended_team"
   ]
  },
  {
   "cell_type": "code",
   "execution_count": null,
   "metadata": {
    "collapsed": true
   },
   "outputs": [],
   "source": []
  }
 ],
 "metadata": {
  "kernelspec": {
   "display_name": "Python 2",
   "language": "python",
   "name": "python2"
  },
  "language_info": {
   "codemirror_mode": {
    "name": "ipython",
    "version": 2
   },
   "file_extension": ".py",
   "mimetype": "text/x-python",
   "name": "python",
   "nbconvert_exporter": "python",
   "pygments_lexer": "ipython2",
   "version": "2.7.13"
  },
  "latex_envs": {
   "LaTeX_envs_menu_present": true,
   "autocomplete": true,
   "bibliofile": "biblio.bib",
   "cite_by": "apalike",
   "current_citInitial": 1,
   "eqLabelWithNumbers": true,
   "eqNumInitial": 1,
   "hotkeys": {
    "equation": "Ctrl-E",
    "itemize": "Ctrl-I"
   },
   "labels_anchors": false,
   "latex_user_defs": false,
   "report_style_numbering": false,
   "user_envs_cfg": false
  },
  "toc": {
   "nav_menu": {},
   "number_sections": true,
   "sideBar": true,
   "skip_h1_title": false,
   "toc_cell": false,
   "toc_position": {},
   "toc_section_display": "block",
   "toc_window_display": false
  }
 },
 "nbformat": 4,
 "nbformat_minor": 2
}
