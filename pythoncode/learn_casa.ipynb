{
 "cells": [
  {
   "cell_type": "code",
   "execution_count": null,
   "metadata": {
    "collapsed": true
   },
   "outputs": [],
   "source": [
    "learn_casa_note"
   ]
  },
  {
   "cell_type": "code",
   "execution_count": null,
   "metadata": {
    "collapsed": true
   },
   "outputs": [],
   "source": [
    "Words:\n",
    "augment \n",
    "pay heed to\n",
    "novice users\n",
    "have some basic grasp of the fundamentals of synthesis imaging\n",
    "under the hood of \n",
    "Indentation\n",
    "verbatim\n",
    "\n",
    "Book:\n",
    "Synthesis Imaging in Radio Astronomy II (1999, ASP Conference Series\n",
    "Vol. 180, eds. Taylor, Carilli & Perley)\n",
    "\n",
    "Reference for Publications:\n",
    "McMullin, J. P., Waters, B., Schiebel, D., Young, W., & Golap, K. 2007, Astronomical Data Analysis Software and Systems XVI (ASP Conf. Ser. 376), ed. R. A. Shaw, F. Hill, & D. J. Bell (San Francisco, CA: ASP), 127\n",
    "\n",
    "export PATH=$PATH:/<path>/casa-<version>/bin\n",
    "For bash\n",
    "\n",
    "/usr/local/bin/casa\n",
    "\n",
    "\n",
    "For mac\n",
    "General\" and \"Allow applications downloaded from: Mac App store and identified developers\".\n",
    "Optional: Create symbolic links to the CASA version and its executables (Administrator privileges are required), \n",
    "which will allow you to run casa, casaviewer, casaplotms, etc. from any terminal command line. \n",
    "To do so, run !create-symlinks from a CASA prompt.\n",
    "Optional: To update the data repository, run !update-data from the CASA prompt.\n",
    "\n",
    "\n",
    "You can exit CASA by typing quit\n",
    "You can also quit using %exit or CTRL-D\n",
    "\n",
    "\n",
    "First, always check that your inputs are correct; use the\n",
    "    help <taskname>\n",
    "or\n",
    "    help par.<parameter name>    \n",
    "\n",
    "\n",
    "\n",
    "or on MacOSX (or other BSD Unix):\n",
    "    ps -aux | grep casa\n",
    "or\n",
    "    killall Python\n",
    "will terminate the most common post-crash zombies\n",
    "\n",
    "If you want to access system commands from a script, use the os.system command (Appendix B.7.1).\n",
    "In interactive mode, any input line beginning with a ’!’ character is passed verbatim (minus the ’!’, of course) to the underlying operating system. Also, several common commands (ls, pwd, less) may be executed with or without the ’!’, although the cp command must use ’!’ and cd must be executed without the ’!’. For example:\n",
    "  CASA <5>: !rm -r mydata.ms\n",
    "  \n",
    "\n",
    "Note that if you want to access a Unix environment variable, you will need to prefix with a double $$ instead of a single $ — for example, to print the value of the $PAGER variable, you would use\n",
    "  CASA <6>: !echo $$PAGER\n",
    "        \n",
    "ls pwd less\n",
    "!cp\n",
    "cd        \n",
    "        \n",
    "\n",
    "execfile('myscript.py')\n",
    "execfile 'myscript.py'\n",
    "run myscript.py\n",
    "run clean.last\n",
    "\n",
    "Get Return Values\n",
    "xstat=imstat(\"**.clean.image\")\n",
    "\n",
    "help ia.subimage\n",
    "    Summary\n",
    "Create a (sub)image from a region of the image\n",
    "Description\n",
    "\n",
    "toolhelp()\n",
    "\n",
    "inp\n",
    "go\n",
    "\n",
    "\n",
    "default('bandpass')\n",
    "vis=''\n",
    "caltable=''\n",
    "field='0'\n",
    "refant='15'\n",
    "inp('bandpass')\n",
    "\n",
    "inp clean\n",
    "default\n",
    "inp\n",
    "\n",
    "go lisobs\n",
    "taskname='clean'\n",
    "go\n",
    "clean\n",
    "inp\n",
    "\n",
    "saveinputs(taskname,outfile)\n",
    "saveinputs(taskname,taskname+'_1.saved')\n",
    "execfile('listobs.saved')\n",
    "run listobs.saved\n",
    "!more 'listobs.saved'\n",
    "\n",
    "tget\n",
    "tput\n",
    "\n",
    "\n",
    "\n",
    "Image tool(ia) to turn a clean mask image into an image mask\n",
    "ia.open('*.mask')\n",
    "ia.calcmask('','')\n",
    "ia.summary()\n",
    "ia.close()\n",
    "\n",
    "Measurement Set(MS)\n",
    "keep data in the directory where CASA started\n",
    "\n",
    "get rid of data\n",
    "!rm -r AM675.ms\n",
    "!rm -r AM675*\n",
    "os.system('rm -r AM675*')\n",
    "rmtables('AM675.ms')\n",
    "exit casa\n",
    "\n",
    "\n",
    "data selection\n",
    "field,spw,selectdata\n",
    "\n",
    "importuvfits\n",
    "importvla\n",
    "importasdm#ALMA in ASDM format\n",
    "importevla\n",
    "importfits\n",
    "\n",
    "concat or virtualconcat #concatenate multiple MSs\n",
    "\n",
    "listobs\n",
    "flagmanager\n",
    "plotms\n",
    "#plotxy\n",
    "flagdata\n",
    "viewer#CASA viewer can display MS data as a raster image\n",
    "\n",
    "\n",
    "\n",
    "\n",
    "\n",
    "\n",
    "The major calibration tasks are:\n",
    "• setjy — Computes the model visibilities for a specified source given a flux density or model\n",
    "image, knows about standard calibrator sources (§ 4.3.5);\n",
    "• initweights — if necessary, supports (re-)initialization of the data weights, including an\n",
    "option for enabling spectral weight accounting (§ 4.3.1)\n",
    "• gencal — Creates a calibration table for known delay and antenna position offsets (§ 4.3.6);\n",
    "• bandpass — Solves for frequency-dependent (bandpass) complex gains (§ 4.4.2);\n",
    "• gaincal — Solves for time-dependent (frequency-independent) complex gains (§ 4.4.3);\n",
    "• fluxscale — Bootstraps the flux density scale from standard calibrators (§ 4.4.4);\n",
    "• polcal — polarization calibration (§ 4.4.5);\n",
    "• applycal — Applies calculated calibration solutions (§ 4.6.1);\n",
    "• clearcal — Re-initializes calibrated visibility data in a given Measurement Set (§ 4.6.3);\n",
    "• listcal — Lists calibration solutions (§ 4.5.3);\n",
    "• plotcal — Plots (and optionally flags) calibration solutions (§ 4.5.1);\n",
    "• uvcontsub — carry out uv-plane continuum subtraction for spectral-line data (§ 4.7.6);\n",
    "• split — write out a new (calibrated) MS for specified sources (§ 4.7.1);\n",
    "• cvel — Regrid a spectral MS onto a new frequency channel system (§ 4.7.7)"
   ]
  },
  {
   "cell_type": "code",
   "execution_count": null,
   "metadata": {
    "collapsed": true
   },
   "outputs": [],
   "source": []
  },
  {
   "cell_type": "code",
   "execution_count": null,
   "metadata": {
    "collapsed": true
   },
   "outputs": [],
   "source": []
  },
  {
   "cell_type": "code",
   "execution_count": null,
   "metadata": {
    "collapsed": true
   },
   "outputs": [],
   "source": []
  },
  {
   "cell_type": "code",
   "execution_count": null,
   "metadata": {
    "collapsed": true
   },
   "outputs": [],
   "source": []
  },
  {
   "cell_type": "code",
   "execution_count": null,
   "metadata": {
    "collapsed": true
   },
   "outputs": [],
   "source": []
  },
  {
   "cell_type": "code",
   "execution_count": null,
   "metadata": {
    "collapsed": true
   },
   "outputs": [],
   "source": []
  },
  {
   "cell_type": "code",
   "execution_count": null,
   "metadata": {
    "collapsed": true
   },
   "outputs": [],
   "source": []
  },
  {
   "cell_type": "code",
   "execution_count": null,
   "metadata": {
    "collapsed": true
   },
   "outputs": [],
   "source": []
  },
  {
   "cell_type": "code",
   "execution_count": null,
   "metadata": {
    "collapsed": true
   },
   "outputs": [],
   "source": []
  },
  {
   "cell_type": "code",
   "execution_count": null,
   "metadata": {
    "collapsed": true
   },
   "outputs": [],
   "source": []
  },
  {
   "cell_type": "code",
   "execution_count": null,
   "metadata": {
    "collapsed": true
   },
   "outputs": [],
   "source": []
  },
  {
   "cell_type": "code",
   "execution_count": null,
   "metadata": {
    "collapsed": true
   },
   "outputs": [],
   "source": []
  },
  {
   "cell_type": "code",
   "execution_count": null,
   "metadata": {
    "collapsed": true
   },
   "outputs": [],
   "source": []
  },
  {
   "cell_type": "code",
   "execution_count": null,
   "metadata": {
    "collapsed": true
   },
   "outputs": [],
   "source": []
  }
 ],
 "metadata": {
  "kernelspec": {
   "display_name": "Python 3",
   "language": "python",
   "name": "python3"
  },
  "language_info": {
   "codemirror_mode": {
    "name": "ipython",
    "version": 3
   },
   "file_extension": ".py",
   "mimetype": "text/x-python",
   "name": "python",
   "nbconvert_exporter": "python",
   "pygments_lexer": "ipython3",
   "version": "3.6.0"
  },
  "latex_envs": {
   "LaTeX_envs_menu_present": true,
   "autocomplete": true,
   "bibliofile": "biblio.bib",
   "cite_by": "apalike",
   "current_citInitial": 1,
   "eqLabelWithNumbers": true,
   "eqNumInitial": 1,
   "hotkeys": {
    "equation": "Ctrl-E",
    "itemize": "Ctrl-I"
   },
   "labels_anchors": false,
   "latex_user_defs": false,
   "report_style_numbering": false,
   "user_envs_cfg": false
  },
  "toc": {
   "nav_menu": {},
   "number_sections": true,
   "sideBar": true,
   "skip_h1_title": false,
   "toc_cell": false,
   "toc_position": {},
   "toc_section_display": "block",
   "toc_window_display": false
  }
 },
 "nbformat": 4,
 "nbformat_minor": 2
}
