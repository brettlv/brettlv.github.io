{
 "cells": [
  {
   "cell_type": "code",
   "execution_count": null,
   "metadata": {
    "ExecuteTime": {
     "start_time": "2018-08-08T04:36:21.835Z"
    },
    "collapsed": false
   },
   "outputs": [
    {
     "name": "stdout",
     "output_type": "stream",
     "text": [
      "Python 2.7.13 |Anaconda 4.3.0 (x86_64)| (default, Dec 20 2016, 23:05:08) \r\n",
      "[GCC 4.2.1 Compatible Apple LLVM 6.0 (clang-600.0.57)] on darwin\r\n",
      "Type \"help\", \"copyright\", \"credits\" or \"license\" for more information.\r\n",
      "Anaconda is brought to you by Continuum Analytics.\r\n",
      "Please check out: http://continuum.io/thanks and https://anaconda.org\r\n",
      ">>> "
     ]
    }
   ],
   "source": [
    "!python"
   ]
  },
  {
   "cell_type": "code",
   "execution_count": 1,
   "metadata": {
    "ExecuteTime": {
     "end_time": "2018-08-08T17:24:45.285371Z",
     "start_time": "2018-08-08T17:24:45.122750Z"
    },
    "collapsed": false
   },
   "outputs": [
    {
     "name": "stdout",
     "output_type": "stream",
     "text": [
      "0.11.0\r\n"
     ]
    }
   ],
   "source": [
    "!python -c \"import gwpy; print(gwpy.__version__)\""
   ]
  },
  {
   "cell_type": "code",
   "execution_count": 2,
   "metadata": {
    "ExecuteTime": {
     "end_time": "2018-08-08T17:24:46.677644Z",
     "start_time": "2018-08-08T17:24:46.206585Z"
    },
    "collapsed": true
   },
   "outputs": [],
   "source": [
    "import gwpy\n",
    "import matplotlib.pyplot as plt\n",
    "#%matplotlib inline"
   ]
  },
  {
   "cell_type": "code",
   "execution_count": 3,
   "metadata": {
    "ExecuteTime": {
     "end_time": "2018-08-08T17:24:52.043120Z",
     "start_time": "2018-08-08T17:24:48.241237Z"
    },
    "collapsed": false
   },
   "outputs": [
    {
     "name": "stdout",
     "output_type": "stream",
     "text": [
      "0.11.0\n",
      "Python 2.7.13 :: Anaconda 4.3.0 (x86_64)\n",
      "Python 2.7.13 :: Anaconda 4.3.0 (x86_64)\n",
      "Python 3.6.0 :: Anaconda custom (x86_64)\n",
      "pip 18.0 from /Users/brettlv/anaconda2/lib/python2.7/site-packages/pip (python 2.7)\n",
      "pip 18.0 from /Users/brettlv/anaconda2/lib/python2.7/site-packages/pip (python 2.7)\n",
      "pip 18.0 from /Users/brettlv/anaconda3/lib/python3.6/site-packages/pip (python 3.6)\n"
     ]
    }
   ],
   "source": [
    "import gwpy\n",
    "!python -c \"import gwpy; print(gwpy.__version__)\"\n",
    "!python -V\n",
    "!python2 -V\n",
    "!python3 -V\n",
    "!pip -V\n",
    "!pip2 -V\n",
    "!pip3 -V"
   ]
  },
  {
   "cell_type": "code",
   "execution_count": 4,
   "metadata": {
    "ExecuteTime": {
     "end_time": "2018-08-08T17:24:54.112745Z",
     "start_time": "2018-08-08T17:24:52.045985Z"
    },
    "collapsed": false
   },
   "outputs": [
    {
     "name": "stderr",
     "output_type": "stream",
     "text": [
      "/Users/brettlv/anaconda2/lib/python2.7/site-packages/astropy/table/np_utils.py:19: RuntimeWarning: numpy.dtype size changed, may indicate binary incompatibility. Expected 96, got 88\n",
      "  from . import _np_utils\n",
      "/Users/brettlv/anaconda2/lib/python2.7/site-packages/astropy/io/ascii/fastbasic.py:9: RuntimeWarning: numpy.dtype size changed, may indicate binary incompatibility. Expected 96, got 88\n",
      "  from . import cparser\n"
     ]
    }
   ],
   "source": [
    "from gwpy.timeseries import TimeSeries"
   ]
  },
  {
   "cell_type": "code",
   "execution_count": 5,
   "metadata": {
    "ExecuteTime": {
     "end_time": "2018-08-08T17:30:23.085837Z",
     "start_time": "2018-08-08T17:24:56.216767Z"
    },
    "collapsed": true
   },
   "outputs": [],
   "source": [
    "data = TimeSeries.fetch_open_data('L1', 968654552, 968654562)"
   ]
  },
  {
   "cell_type": "code",
   "execution_count": null,
   "metadata": {
    "ExecuteTime": {
     "start_time": "2018-08-08T03:44:41.133Z"
    },
    "collapsed": true
   },
   "outputs": [],
   "source": [
    "plot = data.plot(\n",
    "    title='LIGO Livingston Observatory data for HW100916',\n",
    "    ylabel='Gravitational-wave strain amplitude',\n",
    ")\n",
    "plot.show()\n",
    "#plt.savefig('gw1.png')"
   ]
  },
  {
   "cell_type": "code",
   "execution_count": null,
   "metadata": {
    "collapsed": true
   },
   "outputs": [],
   "source": []
  }
 ],
 "metadata": {
  "kernelspec": {
   "display_name": "Python 2",
   "language": "python",
   "name": "python2"
  },
  "language_info": {
   "codemirror_mode": {
    "name": "ipython",
    "version": 2
   },
   "file_extension": ".py",
   "mimetype": "text/x-python",
   "name": "python",
   "nbconvert_exporter": "python",
   "pygments_lexer": "ipython2",
   "version": "2.7.13"
  },
  "latex_envs": {
   "LaTeX_envs_menu_present": true,
   "autocomplete": true,
   "bibliofile": "biblio.bib",
   "cite_by": "apalike",
   "current_citInitial": 1,
   "eqLabelWithNumbers": true,
   "eqNumInitial": 1,
   "hotkeys": {
    "equation": "Ctrl-E",
    "itemize": "Ctrl-I"
   },
   "labels_anchors": false,
   "latex_user_defs": false,
   "report_style_numbering": false,
   "user_envs_cfg": false
  },
  "toc": {
   "nav_menu": {},
   "number_sections": true,
   "sideBar": true,
   "skip_h1_title": false,
   "toc_cell": false,
   "toc_position": {},
   "toc_section_display": "block",
   "toc_window_display": false
  }
 },
 "nbformat": 4,
 "nbformat_minor": 2
}
