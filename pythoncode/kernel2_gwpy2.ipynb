{
 "cells": [
  {
   "cell_type": "code",
   "execution_count": 10,
   "metadata": {
    "ExecuteTime": {
     "end_time": "2018-08-10T15:05:36.253916Z",
     "start_time": "2018-08-10T15:05:36.024213Z"
    },
    "collapsed": false
   },
   "outputs": [
    {
     "name": "stdout",
     "output_type": "stream",
     "text": [
      "0.11.0\r\n"
     ]
    }
   ],
   "source": [
    "!python -c \"import gwpy; print(gwpy.__version__)\""
   ]
  },
  {
   "cell_type": "code",
   "execution_count": 11,
   "metadata": {
    "ExecuteTime": {
     "end_time": "2018-08-10T15:05:37.028520Z",
     "start_time": "2018-08-10T15:05:37.012742Z"
    },
    "collapsed": true
   },
   "outputs": [],
   "source": [
    "import gwpy\n",
    "import matplotlib.pyplot as plt\n",
    "%matplotlib inline"
   ]
  },
  {
   "cell_type": "code",
   "execution_count": 12,
   "metadata": {
    "ExecuteTime": {
     "end_time": "2018-08-10T15:05:56.914130Z",
     "start_time": "2018-08-10T15:05:52.183495Z"
    },
    "collapsed": false
   },
   "outputs": [
    {
     "name": "stdout",
     "output_type": "stream",
     "text": [
      "0.11.0\n",
      "Python 2.7.13 :: Anaconda 4.3.0 (x86_64)\n",
      "Python 2.7.13 :: Anaconda 4.3.0 (x86_64)\n",
      "Python 3.6.0 :: Anaconda custom (x86_64)\n",
      "pip 18.0 from /Users/brettlv/anaconda2/lib/python2.7/site-packages/pip (python 2.7)\n",
      "pip 18.0 from /Users/brettlv/anaconda2/lib/python2.7/site-packages/pip (python 2.7)\n",
      "pip 18.0 from /Users/brettlv/anaconda3/lib/python3.6/site-packages/pip (python 3.6)\n"
     ]
    }
   ],
   "source": [
    "import gwpy\n",
    "!python -c \"import gwpy; print(gwpy.__version__)\"\n",
    "!python -V\n",
    "!python2 -V\n",
    "!python3 -V\n",
    "!pip -V\n",
    "!pip2 -V\n",
    "!pip3 -V"
   ]
  },
  {
   "cell_type": "code",
   "execution_count": 13,
   "metadata": {
    "ExecuteTime": {
     "end_time": "2018-08-10T15:06:05.498242Z",
     "start_time": "2018-08-10T15:06:05.493935Z"
    },
    "collapsed": false
   },
   "outputs": [],
   "source": [
    "from gwpy.timeseries import TimeSeries"
   ]
  },
  {
   "cell_type": "code",
   "execution_count": null,
   "metadata": {
    "ExecuteTime": {
     "start_time": "2018-08-10T07:06:08.043Z"
    },
    "collapsed": true
   },
   "outputs": [],
   "source": [
    "data = TimeSeries.fetch_open_data('L1', 968654552, 968654562)"
   ]
  },
  {
   "cell_type": "code",
   "execution_count": null,
   "metadata": {
    "ExecuteTime": {
     "start_time": "2018-08-10T07:06:09.023Z"
    },
    "collapsed": false
   },
   "outputs": [],
   "source": [
    "#1. Plotting public LIGO data\n",
    "plot = data.plot(\n",
    "    title='LIGO Livingston Observatory data for HW100916',\n",
    "    ylabel='Gravitational-wave strain amplitude',\n",
    ")\n",
    "plot.show()\n",
    "#plt.savefig('gw1.png')"
   ]
  },
  {
   "cell_type": "code",
   "execution_count": null,
   "metadata": {
    "collapsed": true
   },
   "outputs": [],
   "source": []
  },
  {
   "cell_type": "code",
   "execution_count": null,
   "metadata": {
    "collapsed": true
   },
   "outputs": [],
   "source": [
    "#2. Filtering a TimeSeries with a ZPK filter\n",
    "from gwpy.timeseries import TimeSeries\n",
    "white = TimeSeries.get(\n",
    "    'L1:OAF-CAL_DARM_DQ', 'March 2 2015 12:00', 'March 2 2015 12:30')"
   ]
  },
  {
   "cell_type": "code",
   "execution_count": null,
   "metadata": {
    "collapsed": true
   },
   "outputs": [],
   "source": []
  },
  {
   "cell_type": "code",
   "execution_count": null,
   "metadata": {
    "collapsed": true
   },
   "outputs": [],
   "source": []
  },
  {
   "cell_type": "code",
   "execution_count": null,
   "metadata": {
    "collapsed": true
   },
   "outputs": [],
   "source": []
  },
  {
   "cell_type": "code",
   "execution_count": null,
   "metadata": {
    "collapsed": true
   },
   "outputs": [],
   "source": []
  },
  {
   "cell_type": "code",
   "execution_count": null,
   "metadata": {
    "collapsed": true
   },
   "outputs": [],
   "source": []
  },
  {
   "cell_type": "code",
   "execution_count": null,
   "metadata": {
    "collapsed": true
   },
   "outputs": [],
   "source": []
  }
 ],
 "metadata": {
  "kernelspec": {
   "display_name": "Python 2",
   "language": "python",
   "name": "python2"
  },
  "language_info": {
   "codemirror_mode": {
    "name": "ipython",
    "version": 2
   },
   "file_extension": ".py",
   "mimetype": "text/x-python",
   "name": "python",
   "nbconvert_exporter": "python",
   "pygments_lexer": "ipython2",
   "version": "2.7.13"
  },
  "latex_envs": {
   "LaTeX_envs_menu_present": true,
   "autocomplete": true,
   "bibliofile": "biblio.bib",
   "cite_by": "apalike",
   "current_citInitial": 1,
   "eqLabelWithNumbers": true,
   "eqNumInitial": 1,
   "hotkeys": {
    "equation": "Ctrl-E",
    "itemize": "Ctrl-I"
   },
   "labels_anchors": false,
   "latex_user_defs": false,
   "report_style_numbering": false,
   "user_envs_cfg": false
  },
  "toc": {
   "nav_menu": {},
   "number_sections": true,
   "sideBar": true,
   "skip_h1_title": false,
   "toc_cell": false,
   "toc_position": {},
   "toc_section_display": "block",
   "toc_window_display": false
  }
 },
 "nbformat": 4,
 "nbformat_minor": 2
}
