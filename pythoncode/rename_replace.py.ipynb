{
 "cells": [
  {
   "cell_type": "markdown",
   "metadata": {
    "toc": true
   },
   "source": [
    "<h1>Table of Contents<span class=\"tocSkip\"></span></h1>\n",
    "<div class=\"toc\" style=\"margin-top: 1em;\"><ul class=\"toc-item\"><li><ul class=\"toc-item\"><li><span><a href=\"#sort\" data-toc-modified-id=\"sort-0.1\"><span class=\"toc-item-num\">0.1&nbsp;&nbsp;</span>sort</a></span></li></ul></li></ul></div>"
   ]
  },
  {
   "cell_type": "code",
   "execution_count": 1,
   "metadata": {
    "ExecuteTime": {
     "end_time": "2020-10-30T14:27:55.631124Z",
     "start_time": "2020-10-30T14:27:55.616101Z"
    },
    "collapsed": false
   },
   "outputs": [
    {
     "data": {
      "text/plain": [
       "'/Users/brettlv/blog/brettlv.github.io/pythoncode'"
      ]
     },
     "execution_count": 1,
     "metadata": {},
     "output_type": "execute_result"
    }
   ],
   "source": [
    "pwd"
   ]
  },
  {
   "cell_type": "code",
   "execution_count": 8,
   "metadata": {
    "ExecuteTime": {
     "end_time": "2020-10-30T14:29:41.019570Z",
     "start_time": "2020-10-30T14:29:41.015609Z"
    },
    "collapsed": true
   },
   "outputs": [],
   "source": [
    "import re\n",
    "def validateTitle(title):\n",
    "    rstr = r\"[\\/\\\\\\:\\*\\?\\\"\\<\\>\\|\\s]\"  # '/ \\ : * ? \" < > |'\n",
    "    new_title = re.sub(rstr, \"_\", title)  # 替换为下划线\n",
    "    return new_title"
   ]
  },
  {
   "cell_type": "code",
   "execution_count": 9,
   "metadata": {
    "ExecuteTime": {
     "end_time": "2020-10-30T14:29:42.072340Z",
     "start_time": "2020-10-30T14:29:42.066761Z"
    },
    "collapsed": false
   },
   "outputs": [
    {
     "data": {
      "text/plain": [
       "'origin_title'"
      ]
     },
     "execution_count": 9,
     "metadata": {},
     "output_type": "execute_result"
    }
   ],
   "source": [
    "title='origin title'\n",
    "validateTitle(title)"
   ]
  },
  {
   "cell_type": "code",
   "execution_count": 19,
   "metadata": {
    "ExecuteTime": {
     "end_time": "2020-10-30T14:35:20.246252Z",
     "start_time": "2020-10-30T14:35:20.239915Z"
    },
    "collapsed": false
   },
   "outputs": [
    {
     "data": {
      "text/plain": [
       "'/Users/brettlv/Downloads'"
      ]
     },
     "execution_count": 19,
     "metadata": {},
     "output_type": "execute_result"
    }
   ],
   "source": [
    "pwd"
   ]
  },
  {
   "cell_type": "code",
   "execution_count": 26,
   "metadata": {
    "ExecuteTime": {
     "end_time": "2020-10-30T14:37:39.786190Z",
     "start_time": "2020-10-30T14:37:39.763181Z"
    },
    "collapsed": false
   },
   "outputs": [
    {
     "name": "stdout",
     "output_type": "stream",
     "text": [
      "/Users/brettlv/blog/brettlv.github.io/pythoncode/\n"
     ]
    }
   ],
   "source": [
    "#!/usr/bin/python\n",
    "# -*- coding: UTF-8 -*-\n",
    "import os,re\n",
    "#path='/media/brettlv/Brettlv_G_m/phy/20190816dellpaperbackup/'\n",
    "path='/Users/brettlv/blog/brettlv.github.io/pythoncode/'\n",
    "print(path)\n",
    "#path=os.getcwd()\n",
    "os.chdir(path)\n",
    "\n",
    "for root, dirs, files in os.walk(path, topdown=False):       \n",
    "    for name in files:\n",
    "        #print(os.path.join(root, name))\n",
    "        #print(root)  \n",
    "        os.chdir(root)\n",
    "        filename_new = re.sub(r'[\\/:*?\"|]', \"_\", name)\n",
    "        if filename_new!=name:\n",
    "            print('name',name,'newname:',filename_new)\n",
    "            os.rename(name,filename_new)        \n",
    "    #for name in dirs:\n",
    "        #print(os.path.join(root, name))"
   ]
  },
  {
   "cell_type": "code",
   "execution_count": null,
   "metadata": {
    "collapsed": true
   },
   "outputs": [],
   "source": []
  },
  {
   "cell_type": "code",
   "execution_count": null,
   "metadata": {
    "collapsed": true
   },
   "outputs": [],
   "source": []
  },
  {
   "cell_type": "code",
   "execution_count": null,
   "metadata": {
    "collapsed": true
   },
   "outputs": [],
   "source": []
  },
  {
   "cell_type": "code",
   "execution_count": null,
   "metadata": {
    "collapsed": true
   },
   "outputs": [],
   "source": []
  },
  {
   "cell_type": "code",
   "execution_count": null,
   "metadata": {
    "collapsed": true
   },
   "outputs": [],
   "source": []
  },
  {
   "cell_type": "code",
   "execution_count": 34,
   "metadata": {
    "ExecuteTime": {
     "end_time": "2020-09-01T14:52:22.080694Z",
     "start_time": "2020-09-01T14:52:22.077585Z"
    },
    "collapsed": true
   },
   "outputs": [],
   "source": []
  },
  {
   "cell_type": "code",
   "execution_count": 35,
   "metadata": {
    "ExecuteTime": {
     "end_time": "2020-09-01T14:52:29.650683Z",
     "start_time": "2020-09-01T14:52:29.646003Z"
    },
    "collapsed": true
   },
   "outputs": [],
   "source": []
  },
  {
   "cell_type": "code",
   "execution_count": 27,
   "metadata": {
    "ExecuteTime": {
     "end_time": "2020-10-30T14:38:10.782097Z",
     "start_time": "2020-10-30T14:38:10.775833Z"
    },
    "collapsed": false
   },
   "outputs": [
    {
     "name": "stdout",
     "output_type": "stream",
     "text": [
      "/Users/brettlv/blog/brettlv.github.io/pythoncode\n"
     ]
    }
   ],
   "source": [
    "from datetime import datetime\n",
    "import os\n",
    "import re\n",
    "path=os.getcwd()\n",
    "print(path)"
   ]
  },
  {
   "cell_type": "code",
   "execution_count": 28,
   "metadata": {
    "ExecuteTime": {
     "end_time": "2020-10-30T14:38:13.616183Z",
     "start_time": "2020-10-30T14:38:13.604577Z"
    },
    "collapsed": false
   },
   "outputs": [
    {
     "data": {
      "text/plain": [
       "['.DS_Store',\n",
       " '.idea',\n",
       " '.ipynb_checkpoints',\n",
       " '.nbtopdf.py.un~',\n",
       " '03_plotting_periodictable_mendeleev.ipynb',\n",
       " '16radio_vla_learn_note.ipynb',\n",
       " '1ES1927_nicer_changinglook.ipynb',\n",
       " '2019shanghai_radio_transient.ipynb',\n",
       " '259luxu.ipynb',\n",
       " '300mium.ipynb',\n",
       " '3C273.ipynb',\n",
       " '3C273_DCF_numpy_time_lag.ipynb',\n",
       " '3Dplot.ipynb',\n",
       " '__pycache__',\n",
       " 'a-simple-plot.png',\n",
       " 'advanced python.ipynb',\n",
       " 'Analyzing UVES Spectroscopy with Astropy.ipynb',\n",
       " 'animation.ipynb',\n",
       " 'animation_plot_tensorflow.ipynb',\n",
       " 'aplpy',\n",
       " 'arxiv-daily',\n",
       " 'arxiv-experiments',\n",
       " 'arXiv_analysis.ipynb',\n",
       " 'arxiv_dellpc_20190517_0724.ipynb',\n",
       " 'arxiv_new_submission_search_and_download.ipynb',\n",
       " 'arxiv_word_frequency_statistical_analysis.ipynb',\n",
       " 'arxivcheckerdaily.ipynb',\n",
       " 'arxivreading_201904-06daily.ipynb',\n",
       " 'astro.ipynb',\n",
       " 'astro_convolution.ipynb',\n",
       " 'astro_cosmology.ipynb',\n",
       " 'astro_fits.ipynb',\n",
       " 'astro_function_table.ipynb',\n",
       " 'astro_model_fit.ipynb',\n",
       " 'astro_nova_fit.ipynb',\n",
       " 'astro_pyds9.ipynb',\n",
       " 'astro_query Astroquery - The paper.ipynb',\n",
       " 'astro_redshift.ipynb',\n",
       " 'astro_spectum.ipynb',\n",
       " 'astro_time.ipynb',\n",
       " 'astro_visualization.ipynb',\n",
       " 'astro_vo.ipynb',\n",
       " 'astro_wcs.ipynb',\n",
       " 'astro_xml.ipynb',\n",
       " 'astroimage.ipynb',\n",
       " 'astroLombScargle.ipynb',\n",
       " 'astromatic_wrapper.ipynb',\n",
       " 'bayes_monte_carlo.ipynb',\n",
       " 'bb.pdf',\n",
       " 'bb.png',\n",
       " 'bb_1.pdf',\n",
       " 'bb_4.pdf',\n",
       " 'bb_5.pdf',\n",
       " 'best_fit.pdf',\n",
       " 'Bfrac.png',\n",
       " 'Bfraction.ipynb',\n",
       " 'BH_mass_distribution_Gaussian.ipynb',\n",
       " 'BHmassdist_chi3.png',\n",
       " 'BHmassdist_chi6.png',\n",
       " 'BHmassdist_chi9.png',\n",
       " 'BHmassdist_eng3.png',\n",
       " 'binaryBHexp_GWpy.ipynb',\n",
       " 'blackbodyfit.ipynb',\n",
       " 'blazars_mjd_flux_estimation_.ipynb',\n",
       " 'bmcmc_sanjibs.ipynb',\n",
       " 'bokeh.ipynb',\n",
       " 'bokeh_test.ipynb',\n",
       " 'c++_random_pi',\n",
       " 'caculator.ipynb',\n",
       " 'casa_GRS 1716-249.ipynb',\n",
       " 'casa_pipeline_.ipynb',\n",
       " 'casa_tutorial_vla_V404_.ipynb',\n",
       " 'CC.ipynb',\n",
       " 'cens_results.png',\n",
       " 'chandra.time.ipynb',\n",
       " 'chandra_csc',\n",
       " 'chandra_list_vot_xml.ipynb',\n",
       " 'chandra_v404.ipynb',\n",
       " 'changinglook_agn_list.ipynb',\n",
       " 'changinglookAGN',\n",
       " 'comment on An X-ray chimney.jpg',\n",
       " 'compare_evolutions.pdf',\n",
       " 'constant_phy.ipynb',\n",
       " 'cross-match_of_gleam_and_4FGL.png',\n",
       " 'CygX-3_mwa_time_cover_table.ipynb',\n",
       " 'deep learning.ipynb',\n",
       " 'disk_LT_precess_code_c_note.ipynb',\n",
       " 'display_jupyter_notebook_pdf_png_etc.ipynb',\n",
       " 'distance_estimation.ipynb',\n",
       " 'distributionofdistance.pdf',\n",
       " 'download_picture_image.ipynb',\n",
       " 'downloadwebandtopdf.ipynb',\n",
       " 'dynamic_power_spectrum_plotly.ipynb',\n",
       " 'Dynamical_Power_Spectra_Stingray.ipynb',\n",
       " 'dynesty.ipynb',\n",
       " 'early_mean.png',\n",
       " 'einsum.ipynb',\n",
       " 'fermi_wise_variable_sources.ipynb',\n",
       " 'fermipy.ipynb',\n",
       " 'figures',\n",
       " 'file_directory_manager.ipynb',\n",
       " 'Final_Plot.png',\n",
       " 'FIRST Catalog Search.htm',\n",
       " 'FIRST Catalog Search240arcsec.htm',\n",
       " 'FIRST Catalog Search240arcsec_files',\n",
       " 'FIRST Catalog Search60arc.htm',\n",
       " 'FIRST Catalog Search60arc_files',\n",
       " 'FIRST Catalog Search_files',\n",
       " 'FIRST_range.png',\n",
       " 'fit_bb.png',\n",
       " 'flux_opt_estimation.ipynb',\n",
       " 'FreqBayes.ipynb',\n",
       " 'FreqBayes1Practical Introduction.ipynb',\n",
       " 'FreqBayes2.ipynb',\n",
       " 'FreqBayes2When Results Differ.ipynb',\n",
       " 'FreqBayes3Confidence, Credibility.ipynb',\n",
       " 'FreqBayes4How to be a Bayesian in Python.ipynb',\n",
       " 'FreqBayes5modelselection.ipynb',\n",
       " 'fundamental_agn.ipynb',\n",
       " 'fundamental_fixaccretionrate.ipynb',\n",
       " 'fundamental_linear.ipynb',\n",
       " 'fundamental_pandas.ipynb',\n",
       " 'GetlistofwikiwithFIRST SURVEY.ipynb',\n",
       " 'gif.ipynb',\n",
       " 'gif_test',\n",
       " 'gleam_mwa_survey.ipynb',\n",
       " 'gmap2007.png',\n",
       " 'GR_lecture_note.ipynb',\n",
       " 'GRO1655_40.ipynb',\n",
       " 'gti_check.ipynb',\n",
       " 'gwpy2_pycbc2.ipynb',\n",
       " 'gwpytest01.pdf',\n",
       " 'gwpytest01.png',\n",
       " 'H-H1_LOSC_4_V2-1128678884-32.gwf',\n",
       " 'hardnessratio_flux.ipynb',\n",
       " 'high_state_HID_down.png',\n",
       " 'high_state_HID_updown.png',\n",
       " 'HM Cnc 08h06m22.9s +15d27m31s.xlsx',\n",
       " 'HMCNCmutime.csv',\n",
       " 'husemann2016.csv',\n",
       " 'hxmt_data_reduction.ipynb',\n",
       " 'hxmt_getTable_html.ipynb',\n",
       " 'icon.xlsx',\n",
       " 'image_pic.ipynb',\n",
       " 'inflation_constroll.ipynb',\n",
       " 'init_source.ipynb',\n",
       " 'J1115+0544.ipynb',\n",
       " 'juliatestinjupyter.ipynb',\n",
       " 'jupyter-test.ipynb',\n",
       " 'kernel2_gwpy2.ipynb',\n",
       " 'kernel2_pycbc2.ipynb',\n",
       " 'kingofhonor.ipynb',\n",
       " 'laker.csv',\n",
       " 'laker_2009.csv',\n",
       " 'laker_2010.csv',\n",
       " 'laker_2020.csv',\n",
       " 'late_mean.png',\n",
       " 'latex_paper_structure.ipynb',\n",
       " 'learn_casa.ipynb',\n",
       " 'Leetcodepython.ipynb',\n",
       " 'lensingGW_py.ipynb',\n",
       " 'linear_fit_mudot.ipynb',\n",
       " 'linmix_kelly_2007_linear_fit.ipynb',\n",
       " 'listofnearestgalaxies.csv',\n",
       " 'Lomb-Scargle_periodogram_astroML.ipynb',\n",
       " 'lomb_scargle_method.ipynb',\n",
       " 'lovecurve.ipynb',\n",
       " 'lovecurve.png',\n",
       " 'low_state_HID_less100.png',\n",
       " 'low_state_HID_less1000.png',\n",
       " 'low_state_HID_less200.png',\n",
       " 'low_state_HID_less500.png',\n",
       " 'lrlx_data.csv',\n",
       " 'lrlx_odd_srcs.csv',\n",
       " 'm33.ipynb',\n",
       " 'mac.ipynb',\n",
       " 'mac_linux_tips.ipynb',\n",
       " 'machine learning.ipynb',\n",
       " 'manga_marvin.ipynb',\n",
       " 'map.ipynb',\n",
       " 'mathtype.ipynb',\n",
       " 'matplotlib.ipynb',\n",
       " 'Messier017',\n",
       " 'mid_state_HID_downup.png',\n",
       " 'mongodb.ipynb',\n",
       " 'montagepy.ipynb',\n",
       " 'Mrk1018',\n",
       " 'Mrk1018_obs_time_vla_.ipynb',\n",
       " 'Mrk1018_vla_casa_radio.ipynb',\n",
       " 'Mrk1018_x_ray_xspec.ipynb',\n",
       " 'Mrk1018_xrtpipeline_plot_flux_powerlawindex.ipynb',\n",
       " 'Mrk1018lightcurve_rescale.ipynb',\n",
       " 'Mrk1018lightcurve_rescale_v0825.ipynb',\n",
       " 'Mrk1018xrtgrp_with_mincountsbin_lessthan85.ipynb',\n",
       " 'Mrkopticalmjd.csv',\n",
       " 'Mrkvla.csv',\n",
       " 'Mrkxrtall.csv',\n",
       " 'Mrkxrtless85.csv',\n",
       " 'Mrkxrtmjd.csv',\n",
       " 'Mrkxrtmore85.csv',\n",
       " 'multiprocess.ipynb',\n",
       " 'MutimeofHMCNC_fit.png',\n",
       " 'MutimeofHMCNC_instrument.png',\n",
       " 'MutimeofHMCNC_paper.png',\n",
       " 'MutimeofHMCNC_valid.png',\n",
       " 'MWA tool install.ipynb',\n",
       " 'mwa_python.ipynb',\n",
       " 'nba.csv',\n",
       " 'nba.ipynb',\n",
       " 'nba_python2.ipynb',\n",
       " 'nbtopdf.ipynb',\n",
       " 'nbtopdf.py~',\n",
       " 'nearest_galaxies_cscresults.tsv',\n",
       " 'nearest_galaxies_cscresults.vot',\n",
       " 'newgti.fits',\n",
       " 'NGC1365.ipynb',\n",
       " 'NGC1566.ipynb',\n",
       " 'NGC1566_ccf_rebin_wise.ipynb',\n",
       " 'NGC1566_sed.ipynb',\n",
       " 'nicer_.ipynb',\n",
       " 'Nustar_data_reduction.ipynb',\n",
       " 'nustar_xmm_data_reduction.ipynb',\n",
       " 'OJ287_mwa_time_cover_table.ipynb',\n",
       " 'opencv_nba.ipynb',\n",
       " 'opencv_nba_lakers.ipynb',\n",
       " 'pandas.ipynb',\n",
       " 'pandas_plot.ipynb',\n",
       " 'pandasplot_radio_Mrk1018.ipynb',\n",
       " 'papersummary_of_HMCNC_RXJ0806.ipynb',\n",
       " 'papertool.ipynb',\n",
       " 'periodic.html',\n",
       " 'periodictable.ipynb',\n",
       " 'phase_resampling.pdf',\n",
       " 'pic_to_excel.ipynb',\n",
       " 'plot_aplpy_plotly.ipynb',\n",
       " 'plot_axis.ipynb',\n",
       " 'plot_counts.ipynb',\n",
       " 'plot_linear_fit_with_errorbar_1_sigma_fill_region.ipynb',\n",
       " 'plotly.ipynb',\n",
       " 'plotly_express_.ipynb',\n",
       " 'point.csv',\n",
       " 'point_20190821.csv',\n",
       " 'point_20200618.csv',\n",
       " 'pointnames.csv',\n",
       " 'pointnames_20190821.csv',\n",
       " 'pointnames_20200618.csv',\n",
       " 'pos_list.csv',\n",
       " 'pos_list.txt',\n",
       " 'pos_list_1.csv',\n",
       " 'pos_list_2.csv',\n",
       " 'Powerdensityspectrum.ipynb',\n",
       " 'pptx_office_online_present.ipynb',\n",
       " 'precession_checkpoints',\n",
       " 'precession_GWpy.ipynb',\n",
       " 'Proceedings of Workshop AEW10_ Concepts in Information Theory and\\n  Communications.pdf',\n",
       " 'professionalpython.ipynb',\n",
       " 'py2and3in jupyter.ipynb',\n",
       " 'py2download.ipynb',\n",
       " 'py3ads_adstex_arxiv.ipynb',\n",
       " 'py3and2in jupyter.ipynb',\n",
       " 'py3downloadarxivpdf.ipynb',\n",
       " 'py3scrapy.ipynb',\n",
       " 'py_gwpy.ipynb',\n",
       " 'py_linear_fit_with_error_in_both_axis.ipynb',\n",
       " 'pyads.ipynb',\n",
       " 'pyBH_accretion_disk.ipynb',\n",
       " 'pycbc.ipynb',\n",
       " 'pycbc_shizhihong.ipynb',\n",
       " 'PyCBC_T2_0.gwf',\n",
       " 'PyCBC_T2_1.gwf',\n",
       " 'PyCBC_T2_2.gwf',\n",
       " 'PyCBC_T2_3.gwf',\n",
       " 'PyCBC_T2_4.gwf',\n",
       " 'pycbcpy2.ipynb',\n",
       " 'pydisplayhtml.ipynb',\n",
       " 'pyemail.ipynb',\n",
       " 'pyemcee_mcmc.ipynb',\n",
       " 'pyfits.ipynb',\n",
       " 'pykivy error.ipynb',\n",
       " 'pymc_mcmc.ipynb',\n",
       " 'pymc_parameter_limitation.ipynb',\n",
       " 'pymc_sample_original.csv',\n",
       " 'pymcmc_linearfit_with_outlier_emcee.ipynb',\n",
       " 'pymysql.ipynb',\n",
       " 'pyraf.ipynb',\n",
       " 'pyregion.ipynb',\n",
       " 'pysinfunc_mcmc.ipynb',\n",
       " 'pytensorflow.ipynb',\n",
       " 'python-V.ipynb',\n",
       " 'python3cookbook.ipynb',\n",
       " 'python_scientific_plot.ipynb',\n",
       " 'python_tqdm_进度条.ipynb',\n",
       " 'pythoncode.md',\n",
       " 'pythondatascience.ipynb',\n",
       " 'pytorch.ipynb',\n",
       " 'pyvocabulary.ipynb',\n",
       " 'pyxspec.ipynb',\n",
       " 'pyxspec_code',\n",
       " 'pyxspec_fit_for_xrt.ipynb',\n",
       " 'pyxspec_nustar_V404_low_rates.ipynb',\n",
       " 'QPO_nustar_lc_and_pds_V404_.ipynb',\n",
       " 'ra_dec.txt',\n",
       " 'ra_dec_tab.txt',\n",
       " 'ra_dec_tab_byhand.txt',\n",
       " 'radec.vot',\n",
       " 'radec.xml',\n",
       " 'radio_lightcurve',\n",
       " 'radius47.npz',\n",
       " 'radius70.npz',\n",
       " 'randnum.ipynb',\n",
       " 'randnumpytest.ipynb',\n",
       " 'random_parameter.ipynb',\n",
       " 'Readme.md',\n",
       " 'Readme_list.md',\n",
       " 'redheart_plot.ipynb',\n",
       " 'rename_replace.py.ipynb',\n",
       " 'report19.ipynb',\n",
       " 'samples.csv',\n",
       " 'scipy.signal.periodogram.ipynb',\n",
       " 'searchresult.txt',\n",
       " 'sep_sextractor.ipynb',\n",
       " 'sherpa.ipynb',\n",
       " 'sky_geo.html',\n",
       " 'slim_disk.ipynb',\n",
       " 'spin_angles.pdf',\n",
       " 'string_.ipynb',\n",
       " 'Swarp_intelligence_methods_for_statistical_regression.ipynb',\n",
       " 'swift_xrt_data_reduction.ipynb',\n",
       " 'switchpoint.png',\n",
       " 'temp-plot.html',\n",
       " 'test_animation.gif',\n",
       " 'testblackbody.m',\n",
       " 'testls.png',\n",
       " 'testpy2.ipynb',\n",
       " 'testpy3.ipynb',\n",
       " 'tkinter.ipynb',\n",
       " 'tkinter1.ipynb',\n",
       " 'top_20_abs.png',\n",
       " 'top_20_title.png',\n",
       " 'total_HID.png',\n",
       " 'total_HID_2.png',\n",
       " 'total_HID_3.png',\n",
       " 'Total_power_method.ipynb',\n",
       " 'triangle.png',\n",
       " 'triangle1.png',\n",
       " 'uncertainty_lombscargle.ipynb',\n",
       " 'Untitled.ipynb',\n",
       " 'UVES',\n",
       " 'V404_2013_1.ms.ipynb',\n",
       " 'V404_cyg',\n",
       " 'V404_nustar_hardratio_direction.ipynb',\n",
       " 'V404_qpo_xrt.ipynb',\n",
       " 'vector_contour_plot_.ipynb',\n",
       " 'vignesh.wav',\n",
       " 'visual.ipynb',\n",
       " 'week0513_lvbing',\n",
       " 'wget_.ipynb',\n",
       " 'WISE_CLAGN_data.ipynb',\n",
       " 'xsel_timefile.asc',\n",
       " 'xselect.log',\n",
       " 'Xspec.ipynb',\n",
       " 'youngradio.ipynb',\n",
       " '吸积盘理论笔记.ipynb']"
      ]
     },
     "execution_count": 28,
     "metadata": {},
     "output_type": "execute_result"
    }
   ],
   "source": [
    "os.listdir(path)"
   ]
  },
  {
   "cell_type": "code",
   "execution_count": null,
   "metadata": {
    "collapsed": true
   },
   "outputs": [],
   "source": []
  },
  {
   "cell_type": "code",
   "execution_count": 17,
   "metadata": {
    "ExecuteTime": {
     "end_time": "2020-10-16T03:23:40.563272Z",
     "start_time": "2020-10-16T03:23:40.559077Z"
    },
    "collapsed": true
   },
   "outputs": [],
   "source": [
    "now=datetime.now()"
   ]
  },
  {
   "cell_type": "code",
   "execution_count": 18,
   "metadata": {
    "ExecuteTime": {
     "end_time": "2020-10-16T03:23:44.869800Z",
     "start_time": "2020-10-16T03:23:44.863505Z"
    },
    "collapsed": false
   },
   "outputs": [
    {
     "data": {
      "text/plain": [
       "'2020/10/16-Friday-11:23:40'"
      ]
     },
     "execution_count": 18,
     "metadata": {},
     "output_type": "execute_result"
    }
   ],
   "source": [
    "now.strftime(\"%Y/%m/%d-%A-%H:%M:%S\")"
   ]
  },
  {
   "cell_type": "code",
   "execution_count": null,
   "metadata": {
    "collapsed": true
   },
   "outputs": [],
   "source": [
    "#引入shutil模块\n",
    "import shutil\n",
    "# 复制或移动到目的文件夹下面\n",
    "# 如果只写目标文件夹的名称的话，如果目标文件夹不存在，则会将复制或移动之后的文件重命名为目标文件夹的名称\n",
    "#demo.txt 复制到 新的文件夹 下面\n",
    "shutil.copy('demo.txt','新的文件夹')\n",
    "#file1.txt 移动到 新的文件夹 下面\n",
    "shutil.move('file1.txt','新的文件夹')\n",
    "#复制或移动到目的文件夹下面之后，重命名\n",
    "#如果目标文件夹不存在，则会报错\n",
    "#demo.txt 复制到 新的文件夹 下面，并重命名为new1.txt\n",
    "shutil.copy('demo.txt','新的文件夹/new1.txt')\n",
    "#file2.txt 移动到 新的文件夹 下面，并重命名为 new2.txt\n",
    "shutil.move('file2.txt','新的文件夹/new2.txt')\n",
    "\n",
    "# 建议在复制或移动之前做相应判断\n",
    "if os.path.exists('新的文件夹'):\n",
    "    shutil.copy('demo.txt','新的文件夹')\n",
    "else:\n",
    "    print('目的文件夹不存在，无法复制')\n",
    "if os.path.exists('新的文件夹'):\n",
    "    shutil.move('file1.txt','新的文件夹')\n",
    "else:\n",
    "    print('目的文件夹不存在，无法移动')"
   ]
  },
  {
   "cell_type": "code",
   "execution_count": null,
   "metadata": {
    "collapsed": true
   },
   "outputs": [],
   "source": []
  },
  {
   "cell_type": "markdown",
   "metadata": {},
   "source": [
    "## sort"
   ]
  },
  {
   "cell_type": "code",
   "execution_count": null,
   "metadata": {
    "collapsed": true
   },
   "outputs": [],
   "source": [
    "#!/usr/bin/python\n",
    "# -*- coding: UTF-8 -*-\n",
    "import os,re\n",
    "import shutil\n",
    "\n",
    "path='/media/brettlv/Brettlv_G_m/Papers_unsorted/'\n",
    "#path=os.getcwd()\n",
    "os.chdir(path)\n",
    "\n",
    "key_words=['AGN','XRB',]\n",
    "\n",
    "\n",
    "\n",
    "for root, dirs, files in os.walk(path, topdown=False):       \n",
    "    for name in files:\n",
    "        #print(os.path.join(root, name))        \n",
    "        os.chdir(root)       \n",
    "        print(root)  \n",
    "        print('name',name,'newname:',filename_new)\n",
    "        "
   ]
  }
 ],
 "metadata": {
  "kernelspec": {
   "display_name": "Python 3",
   "language": "python",
   "name": "python3"
  },
  "language_info": {
   "codemirror_mode": {
    "name": "ipython",
    "version": 3
   },
   "file_extension": ".py",
   "mimetype": "text/x-python",
   "name": "python",
   "nbconvert_exporter": "python",
   "pygments_lexer": "ipython3",
   "version": "3.6.0"
  },
  "latex_envs": {
   "LaTeX_envs_menu_present": true,
   "autocomplete": true,
   "bibliofile": "biblio.bib",
   "cite_by": "apalike",
   "current_citInitial": 1,
   "eqLabelWithNumbers": true,
   "eqNumInitial": 1,
   "hotkeys": {
    "equation": "Ctrl-E",
    "itemize": "Ctrl-I"
   },
   "labels_anchors": false,
   "latex_user_defs": false,
   "report_style_numbering": false,
   "user_envs_cfg": false
  },
  "toc": {
   "nav_menu": {},
   "number_sections": true,
   "sideBar": true,
   "skip_h1_title": false,
   "toc_cell": true,
   "toc_position": {},
   "toc_section_display": true,
   "toc_window_display": true
  }
 },
 "nbformat": 4,
 "nbformat_minor": 2
}
