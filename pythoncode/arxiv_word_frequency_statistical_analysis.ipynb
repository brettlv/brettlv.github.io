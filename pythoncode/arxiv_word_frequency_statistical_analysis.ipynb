{
 "cells": [
  {
   "cell_type": "code",
   "execution_count": 1,
   "metadata": {
    "ExecuteTime": {
     "end_time": "2020-04-23T16:44:07.638200Z",
     "start_time": "2020-04-23T16:44:05.826254Z"
    },
    "collapsed": false
   },
   "outputs": [],
   "source": [
    "import time\n",
    "#import urllib2# python2\n",
    "import urllib#python3\n",
    "\n",
    "import datetime\n",
    "#from itertools import ifilter python2\n",
    "from collections import Counter, defaultdict\n",
    "import xml.etree.ElementTree as ET\n",
    "import h5py\n",
    "from bs4 import BeautifulSoup\n",
    "import matplotlib.pylab as plt\n",
    "import pandas as pd\n",
    "import numpy as np\n",
    "import bibtexparser\n",
    "\n",
    "pd.set_option('mode.chained_assignment','warn')"
   ]
  },
  {
   "cell_type": "code",
   "execution_count": 2,
   "metadata": {
    "ExecuteTime": {
     "end_time": "2020-04-23T16:44:09.265901Z",
     "start_time": "2020-04-23T16:44:08.306141Z"
    },
    "collapsed": true
   },
   "outputs": [],
   "source": [
    "import arxivchecker #new daily\n",
    "import arxiv#query num \n",
    "import os\n",
    "import time"
   ]
  },
  {
   "cell_type": "code",
   "execution_count": 3,
   "metadata": {
    "ExecuteTime": {
     "end_time": "2020-04-23T16:44:11.443062Z",
     "start_time": "2020-04-23T16:44:11.415183Z"
    },
    "collapsed": true
   },
   "outputs": [],
   "source": [
    "import arxiv\n",
    "import arxivchecker\n",
    "import smtplib\n",
    "from email.mime.text import MIMEText\n",
    "from email.utils import formataddr\n",
    "from email.header import Header\n",
    "from email.mime.multipart import MIMEMultipart\n",
    "from email.mime.image import MIMEImage\n",
    "import os\n",
    "from datetime import datetime"
   ]
  },
  {
   "cell_type": "markdown",
   "metadata": {},
   "source": [
    "# scrapy paper"
   ]
  },
  {
   "cell_type": "code",
   "execution_count": 58,
   "metadata": {
    "ExecuteTime": {
     "end_time": "2020-04-23T00:15:52.597165Z",
     "start_time": "2020-04-23T00:15:52.493020Z"
    },
    "collapsed": false
   },
   "outputs": [],
   "source": [
    "OAI = \"{http://www.openarchives.org/OAI/2.0/}\"\n",
    "ARXIV = \"{http://arxiv.org/OAI/arXiv/}\"\n",
    "\n",
    "def harvest(arxiv=\"physics:astro-ph\",yearstart=2019):\n",
    "    df = pd.DataFrame(columns=(\"title\",\"abstract\", \"categories\", \"created\", \"id\", \"doi\"))\n",
    "    base_url = \"http://export.arxiv.org/oai2?verb=ListRecords&\"\n",
    "    url = (base_url +\n",
    "           \"from=%i-01-01&until=%i-04-31&\"%(yearstart,yearstart) +\n",
    "           \"metadataPrefix=arXiv&set=%s\"%arxiv)\n",
    "###04-31    \n",
    "    while True:\n",
    "        print(\"fetching\", url)\n",
    "        try:\n",
    "            response = urllib.request.urlopen(url)\n",
    "            \n",
    "        except urllib.error.HTTPError as e:\n",
    "            if e.code == 503:\n",
    "                to = int(e.hdrs.get(\"retry-after\", 30))\n",
    "                print(\"Got 503. Retrying after {0:d} seconds.\".format(to))\n",
    "\n",
    "                time.sleep(to)\n",
    "                continue\n",
    "                \n",
    "            else:\n",
    "                raise\n",
    "            \n",
    "        xml = response.read()\n",
    "\n",
    "        root = ET.fromstring(xml)\n",
    "\n",
    "        for record in root.find(OAI+'ListRecords').findall(OAI+\"record\"):\n",
    "            arxiv_id = record.find(OAI+'header').find(OAI+'identifier')\n",
    "            meta = record.find(OAI+'metadata')\n",
    "            info = meta.find(ARXIV+\"arXiv\")\n",
    "            #author=info.find(ARXIV+\"author\").text\n",
    "            created = info.find(ARXIV+\"created\").text\n",
    "            created = datetime.datetime.strptime(created, \"%Y-%m-%d\")\n",
    "            categories = info.find(ARXIV+\"categories\").text\n",
    "\n",
    "            # if there is more than one DOI use the first one\n",
    "            # often the second one (if it exists at all) refers\n",
    "            # to an eratum or similar\n",
    "            doi = info.find(ARXIV+\"doi\")\n",
    "            if doi is not None:\n",
    "                doi = doi.text.split()[0]                \n",
    "            contents = {'title': info.find(ARXIV+\"title\").text,\n",
    "                        #'author':info.find(ARXIV+\"author\").text,\n",
    "                        'id': info.find(ARXIV+\"id\").text,#arxiv_id.text[4:],\n",
    "                        'abstract': info.find(ARXIV+\"abstract\").text.strip(),\n",
    "                        'created': created,\n",
    "                        'categories': categories.split(),\n",
    "                        'doi': doi,\n",
    "                        }\n",
    "            df = df.append(contents, ignore_index=True)\n",
    "        # The list of articles returned by the API comes in chunks of\n",
    "        # 1000 articles. The presence of a resumptionToken tells us that\n",
    "        # there is more to be fetched.\n",
    "        token = root.find(OAI+'ListRecords').find(OAI+\"resumptionToken\")\n",
    "        if token is None or token.text is None:\n",
    "            break\n",
    "        else:\n",
    "            url = base_url + \"resumptionToken=%s\"%(token.text)            \n",
    "    return df\n",
    "    "
   ]
  },
  {
   "cell_type": "markdown",
   "metadata": {},
   "source": [
    "http://export.arxiv.org/oai2?verb=ListSets"
   ]
  },
  {
   "cell_type": "code",
   "execution_count": null,
   "metadata": {
    "ExecuteTime": {
     "end_time": "2020-04-23T00:19:05.511996Z",
     "start_time": "2020-04-23T00:15:54.417823Z"
    },
    "collapsed": true
   },
   "outputs": [],
   "source": [
    "df = harvest(arxiv=\"physics:astro-ph\",yearstart=2020)"
   ]
  },
  {
   "cell_type": "code",
   "execution_count": null,
   "metadata": {
    "ExecuteTime": {
     "end_time": "2020-04-22T22:53:21.624982Z",
     "start_time": "2020-04-22T05:00:55.491Z"
    },
    "collapsed": false
   },
   "outputs": [],
   "source": [
    "df.head()"
   ]
  },
  {
   "cell_type": "code",
   "execution_count": null,
   "metadata": {
    "collapsed": true
   },
   "outputs": [],
   "source": [
    "df.to_csv('arxiv_astro-ph_2020.csv')"
   ]
  },
  {
   "cell_type": "code",
   "execution_count": null,
   "metadata": {
    "ExecuteTime": {
     "end_time": "2020-04-22T23:41:09.601325Z",
     "start_time": "2020-04-22T15:29:10.460Z"
    },
    "collapsed": true
   },
   "outputs": [],
   "source": [
    "pwd"
   ]
  },
  {
   "cell_type": "code",
   "execution_count": null,
   "metadata": {
    "collapsed": true
   },
   "outputs": [],
   "source": [
    "store = pd.HDFStore(\"/Users/thead/git/arxiv-experiments/hep-ex.h5\")\n",
    "#store['df'] = df\n",
    "#df = store['df']\n",
    "store.close()"
   ]
  },
  {
   "cell_type": "code",
   "execution_count": null,
   "metadata": {
    "collapsed": true
   },
   "outputs": [],
   "source": []
  },
  {
   "cell_type": "markdown",
   "metadata": {},
   "source": [
    "arxivcheckerastroph2020=arxivchecker.scrape_arxiv('astro-ph',year=2020,number=1000)\n",
    "len(arxivcheckerastroph2020)\n",
    "papers=arxivchecker.check_keywords_from_papers(astroph201912,['AGN','XRB','IMBH','ULX','transient'])"
   ]
  },
  {
   "cell_type": "code",
   "execution_count": 14,
   "metadata": {
    "ExecuteTime": {
     "end_time": "2020-04-23T16:42:00.388011Z",
     "start_time": "2020-04-23T16:42:00.339392Z"
    },
    "collapsed": true
   },
   "outputs": [],
   "source": [
    "?arxivchecker.scrape_arxiv"
   ]
  },
  {
   "cell_type": "code",
   "execution_count": 4,
   "metadata": {
    "ExecuteTime": {
     "end_time": "2020-04-23T16:44:57.104618Z",
     "start_time": "2020-04-23T16:44:57.098120Z"
    },
    "collapsed": true
   },
   "outputs": [],
   "source": [
    "?arxivchecker.check_keywords"
   ]
  },
  {
   "cell_type": "code",
   "execution_count": 5,
   "metadata": {
    "ExecuteTime": {
     "end_time": "2020-04-23T16:45:39.621154Z",
     "start_time": "2020-04-23T16:45:18.638930Z"
    },
    "collapsed": false
   },
   "outputs": [],
   "source": [
    "papers_keywords = arxivchecker.check_keywords('astro-ph', ['AGN','XRB','IMBH','ULX','transient','radio'],mute=True)"
   ]
  },
  {
   "cell_type": "code",
   "execution_count": 6,
   "metadata": {
    "ExecuteTime": {
     "end_time": "2020-04-23T16:45:42.881789Z",
     "start_time": "2020-04-23T16:45:42.876360Z"
    },
    "collapsed": false
   },
   "outputs": [
    {
     "data": {
      "text/plain": [
       "22"
      ]
     },
     "execution_count": 6,
     "metadata": {},
     "output_type": "execute_result"
    }
   ],
   "source": [
    "len(papers_keywords)"
   ]
  },
  {
   "cell_type": "code",
   "execution_count": null,
   "metadata": {
    "collapsed": true
   },
   "outputs": [],
   "source": []
  },
  {
   "cell_type": "code",
   "execution_count": null,
   "metadata": {
    "collapsed": true
   },
   "outputs": [],
   "source": [
    "#papers_scrape = arxivchecker.scrape_arxiv('astro-ph',year=2020,month=4) # April 2020"
   ]
  },
  {
   "cell_type": "code",
   "execution_count": null,
   "metadata": {
    "collapsed": true
   },
   "outputs": [],
   "source": [
    "sortBy can be \"relevance\", \"lastUpdatedDate\", \"submittedDate\"\n",
    "sortOrder can be either \"ascending\" or \"descending\""
   ]
  },
  {
   "cell_type": "code",
   "execution_count": 11,
   "metadata": {
    "ExecuteTime": {
     "end_time": "2020-04-23T16:47:51.739987Z",
     "start_time": "2020-04-23T16:47:51.730461Z"
    },
    "collapsed": true
   },
   "outputs": [],
   "source": [
    "?arxiv.query"
   ]
  },
  {
   "cell_type": "code",
   "execution_count": 14,
   "metadata": {
    "ExecuteTime": {
     "end_time": "2020-04-23T16:49:32.622170Z",
     "start_time": "2020-04-23T16:49:27.003081Z"
    },
    "collapsed": false
   },
   "outputs": [],
   "source": [
    "paper_query=arxiv.query(query=\"cat:astro-ph AND abs:radio\",\n",
    "            max_results=100,\n",
    "            start = 0,\n",
    "            sort_by=\"lastUpdatedDate\",\n",
    "            sort_order=\"descending\",\n",
    "            prune=False,\n",
    "            iterative=False,\n",
    "            max_chunk_results=1000)"
   ]
  },
  {
   "cell_type": "code",
   "execution_count": 15,
   "metadata": {
    "ExecuteTime": {
     "end_time": "2020-04-23T16:49:47.856804Z",
     "start_time": "2020-04-23T16:49:47.849400Z"
    },
    "collapsed": false
   },
   "outputs": [
    {
     "data": {
      "text/plain": [
       "100"
      ]
     },
     "execution_count": 15,
     "metadata": {},
     "output_type": "execute_result"
    }
   ],
   "source": [
    "len(paper_query)"
   ]
  },
  {
   "cell_type": "code",
   "execution_count": null,
   "metadata": {
    "ExecuteTime": {
     "end_time": "2020-04-23T16:49:50.569469Z",
     "start_time": "2020-04-23T16:49:50.527473Z"
    },
    "collapsed": true
   },
   "outputs": [],
   "source": [
    "for paper in paper_query:\n",
    "    print(paper['title'],paper['updated'])\n",
    "    #print(paper['abstract'])"
   ]
  },
  {
   "cell_type": "markdown",
   "metadata": {},
   "source": [
    "## def bar_plot"
   ]
  },
  {
   "cell_type": "code",
   "execution_count": 167,
   "metadata": {
    "ExecuteTime": {
     "end_time": "2020-04-24T10:30:08.279268Z",
     "start_time": "2020-04-24T10:30:08.020351Z"
    },
    "collapsed": true
   },
   "outputs": [],
   "source": [
    "def bar_chart(items,title,filename):\n",
    "    \"\"\"Make a bar chart showing the count associated with each key\n",
    "    \n",
    "    `items` is a list of (key, count) pairs.\n",
    "    \"\"\"\n",
    "    width = 0.5\n",
    "    ind = np.arange(len(items))\n",
    "    fig, ax = plt.subplots(figsize=(8,8))\n",
    "    rects1 = ax.bar(ind, list(zip(*items))[1], width, color='r')\n",
    "    ax.set_xticks(ind+width)\n",
    "    ax.set_xticklabels(list(zip(*items))[0])\n",
    "    fig.autofmt_xdate()\n",
    "    plt.title(title)\n",
    "    plt.savefig(filename)\n",
    "    plt.show()"
   ]
  },
  {
   "cell_type": "markdown",
   "metadata": {},
   "source": [
    "# analysis and vocabulary"
   ]
  },
  {
   "cell_type": "markdown",
   "metadata": {},
   "source": [
    "## analysis astro2020 AND White Paper"
   ]
  },
  {
   "cell_type": "code",
   "execution_count": 24,
   "metadata": {
    "ExecuteTime": {
     "end_time": "2020-04-23T16:58:13.657036Z",
     "start_time": "2020-04-23T16:57:19.475728Z"
    },
    "collapsed": false
   },
   "outputs": [
    {
     "name": "stdout",
     "output_type": "stream",
     "text": [
      "2020-04-23 16:57:19.512154\n"
     ]
    }
   ],
   "source": [
    "from datetime import datetime\n",
    "import os\n",
    "import arxiv#query num \n",
    "now = datetime.now() # 获取当前datetime\n",
    "print(now)\n",
    "papersastro2020=arxiv.query(query=\"all:astro2020\",max_results=1000)\n",
    "astro2020filename='astro2020whitepaperuptodate%d-%d-%d.txt'%(now.year,now.month,now.day)\n",
    "title='astro2020whitepaperuptodatetitle%d-%d-%d.txt'%(now.year,now.month,now.day)\n",
    "summary='astro2020whitepaperuptodatesummary%d-%d-%d.txt'%(now.year,now.month,now.day)\n",
    "\n",
    "if os.path.isfile(astro2020filename):\n",
    "    os.remove(astro2020filename)\n",
    "if os.path.isfile(title):\n",
    "    os.remove(title)\n",
    "if os.path.isfile(summary):\n",
    "    os.remove(summary)    \n",
    "    \n",
    "for i in papersastro2020:\n",
    "    with open(astro2020filename,'a') as f:\n",
    "        f.write(i['id']+'\\n'+i['title']+'\\n'+i['summary']+'\\n'+'\\n')\n",
    "    with open(title,'a') as f:\n",
    "        f.write(i['title']+'\\n')        \n",
    "    with open(summary,'a') as f:\n",
    "        f.write(i['summary']+'\\n')                       "
   ]
  },
  {
   "cell_type": "code",
   "execution_count": 25,
   "metadata": {
    "ExecuteTime": {
     "end_time": "2020-04-23T16:58:18.399346Z",
     "start_time": "2020-04-23T16:58:18.393866Z"
    },
    "collapsed": false
   },
   "outputs": [
    {
     "data": {
      "text/plain": [
       "434"
      ]
     },
     "execution_count": 25,
     "metadata": {},
     "output_type": "execute_result"
    }
   ],
   "source": [
    "len(papersastro2020)"
   ]
  },
  {
   "cell_type": "markdown",
   "metadata": {},
   "source": [
    "## title-analysis"
   ]
  },
  {
   "cell_type": "markdown",
   "metadata": {},
   "source": [
    "### Counter"
   ]
  },
  {
   "cell_type": "code",
   "execution_count": 55,
   "metadata": {
    "ExecuteTime": {
     "end_time": "2020-04-23T17:14:50.986883Z",
     "start_time": "2020-04-23T17:14:50.791207Z"
    },
    "collapsed": false,
    "scrolled": true
   },
   "outputs": [
    {
     "name": "stdout",
     "output_type": "stream",
     "text": [
      "分词总数: 10468\n",
      "('science', 94)\n",
      "('high', 38)\n",
      "('astronomy', 38)\n",
      "('cosmic', 38)\n",
      "('astrophysics', 36)\n",
      "('black', 34)\n",
      "('ray', 31)\n",
      "('galaxy', 30)\n",
      "('stars', 27)\n",
      "('gravitational', 26)\n",
      "('next', 25)\n",
      "('evolution', 22)\n",
      "('wave', 22)\n",
      "('physics', 22)\n",
      "('holes', 22)\n",
      "('resolution', 21)\n",
      "('formation', 21)\n",
      "('energy', 20)\n",
      "('galaxies', 19)\n",
      "('imaging', 19)\n"
     ]
    }
   ],
   "source": [
    "import jieba\n",
    "from collections import Counter\n",
    "\n",
    "with open(title) as f:\n",
    "    s = f.read()    \n",
    "    \n",
    "word_list = list(jieba.cut(s.lower()))\n",
    "\n",
    "print('分词总数:', len(word_list))\n",
    "#print('示例:', word_list[:20])\n",
    "words_count = Counter(word_list)\n",
    "most_words = words_count.most_common(100)\n",
    "#print(most_words)\n",
    "\n",
    "from nltk.corpus import stopwords\n",
    "from nltk.corpus import wordnet\n",
    "\n",
    "stops = [word for word in stopwords.words('english')]\n",
    "stops += [\"=\", \"->\",\" \",\"\\n\",\"-\",\":\",\",\",\"a\",'x','(',')',\"'\",\"\\\"\",'?','+',\"$\"]\n",
    "stops +=['\\\\','.','/',';','~','','_']\n",
    "stops +=['white','paper','astro2020']\n",
    "#[!\"#$&()*+,-./:;<=>?@[\\\\]^_{|}·~‘’]\n",
    "         \n",
    "words = filter(lambda w: w not in stops,\n",
    "               word_list)\n",
    "top_twenty_title = Counter(words).most_common(n=20)\n",
    "for i in top_twenty_title:\n",
    "    if wordnet.synsets(i[0]) and i[0].isalpha():\n",
    "        print(i)"
   ]
  },
  {
   "cell_type": "markdown",
   "metadata": {},
   "source": [
    "### bar_plot"
   ]
  },
  {
   "cell_type": "code",
   "execution_count": 168,
   "metadata": {
    "ExecuteTime": {
     "end_time": "2020-04-24T10:30:40.014645Z",
     "start_time": "2020-04-24T10:30:38.376806Z"
    },
    "collapsed": false
   },
   "outputs": [
    {
     "data": {
      "image/png": "[encoded data removed]",
      "text/plain": [
       "<Figure size 576x576 with 1 Axes>"
      ]
     },
     "metadata": {},
     "output_type": "display_data"
    }
   ],
   "source": [
    "bar_chart(top_twenty_title,title='top_twenty word in title of Astro2020 White Paper',filename='top_20_title.png')"
   ]
  },
  {
   "cell_type": "markdown",
   "metadata": {},
   "source": [
    "## summary-analysis"
   ]
  },
  {
   "cell_type": "code",
   "execution_count": 61,
   "metadata": {
    "ExecuteTime": {
     "end_time": "2020-04-23T17:17:48.854820Z",
     "start_time": "2020-04-23T17:17:46.509600Z"
    },
    "collapsed": false
   },
   "outputs": [
    {
     "name": "stdout",
     "output_type": "stream",
     "text": [
      "('high', 282)\n",
      "('galaxies', 250)\n",
      "('large', 238)\n",
      "('observations', 233)\n",
      "('formation', 224)\n",
      "('stars', 223)\n",
      "('science', 217)\n",
      "('galaxy', 212)\n",
      "('new', 204)\n",
      "('mass', 189)\n",
      "('ray', 184)\n",
      "('resolution', 178)\n",
      "('decade', 177)\n",
      "('star', 175)\n",
      "('evolution', 174)\n",
      "('stellar', 172)\n",
      "('next', 170)\n",
      "('understanding', 167)\n",
      "('black', 162)\n",
      "('universe', 162)\n"
     ]
    }
   ],
   "source": [
    "with open(summary) as f:\n",
    "    s = f.read()    \n",
    "word_list = list(jieba.cut(s.lower()))\n",
    "#print('分词总数:', len(word_list))\n",
    "#print('示例:', word_list[:20])\n",
    "#words_count = Counter(word_list)\n",
    "#most_words = words_count.most_common(100)\n",
    "#print(most_words)\n",
    "\n",
    "words = filter(lambda w: w not in stops,\n",
    "               word_list)\n",
    "top_twenty_summary = Counter(words).most_common(n=20)\n",
    "for i in top_twenty_summary:\n",
    "    if wordnet.synsets(i[0]) and i[0].isalpha():\n",
    "        print(i)"
   ]
  },
  {
   "cell_type": "code",
   "execution_count": 29,
   "metadata": {
    "ExecuteTime": {
     "end_time": "2020-04-23T17:01:42.614791Z",
     "start_time": "2020-04-23T17:01:42.308060Z"
    },
    "collapsed": false,
    "scrolled": true
   },
   "outputs": [
    {
     "name": "stdout",
     "output_type": "stream",
     "text": [
      "astro2020whitepaperuptodate2020-4-23.txt\r\n",
      "astro2020whitepaperuptodatesummary2020-4-23.txt\r\n",
      "astro2020whitepaperuptodatetitle2020-4-23.txt\r\n",
      "pos_list.txt\r\n",
      "ra_dec.txt\r\n",
      "ra_dec_tab.txt\r\n",
      "ra_dec_tab_byhand.txt\r\n",
      "searchresult.txt\r\n"
     ]
    }
   ],
   "source": [
    "ls *.txt"
   ]
  },
  {
   "cell_type": "code",
   "execution_count": 170,
   "metadata": {
    "ExecuteTime": {
     "end_time": "2020-04-24T10:31:03.715169Z",
     "start_time": "2020-04-24T10:31:02.980968Z"
    },
    "collapsed": false
   },
   "outputs": [
    {
     "data": {
      "image/png": "[encoded data removed]",
      "text/plain": [
       "<Figure size 576x576 with 1 Axes>"
      ]
     },
     "metadata": {},
     "output_type": "display_data"
    }
   ],
   "source": [
    "bar_chart(top_twenty_summary,title='top_twenty word in abstract of Astro2020 White Paper',filename='top_20_abs.png')"
   ]
  },
  {
   "cell_type": "code",
   "execution_count": null,
   "metadata": {
    "collapsed": true
   },
   "outputs": [],
   "source": []
  },
  {
   "cell_type": "markdown",
   "metadata": {},
   "source": [
    "## all words in summary"
   ]
  },
  {
   "cell_type": "code",
   "execution_count": 75,
   "metadata": {
    "ExecuteTime": {
     "end_time": "2020-04-23T17:27:10.605023Z",
     "start_time": "2020-04-23T17:27:07.982342Z"
    },
    "collapsed": false
   },
   "outputs": [],
   "source": [
    "with open(summary) as f:\n",
    "    s = f.read()    \n",
    "word_list = list(jieba.cut(s.lower()))\n",
    "#print('分词总数:', len(word_list))\n",
    "#print('示例:', word_list[:20])\n",
    "#words_count = Counter(word_list)\n",
    "#most_words = words_count.most_common(100)\n",
    "#print(most_words)\n",
    "\n",
    "words = filter(lambda w: w not in stops,\n",
    "               word_list)\n",
    "top_all_summary = Counter(words).most_common(n=10000)\n",
    "#print(top_1000_summary)\n"
   ]
  },
  {
   "cell_type": "code",
   "execution_count": 205,
   "metadata": {
    "ExecuteTime": {
     "end_time": "2020-04-25T19:01:20.570260Z",
     "start_time": "2020-04-25T19:01:20.410059Z"
    },
    "collapsed": false
   },
   "outputs": [
    {
     "data": {
      "text/html": [
       "\n",
       "<div id=\"showhere\" style=\"width:800px; height:600px;\"></div> \n",
       "<script> \n",
       "require.config({ paths:{ echarts: '//cdn.bootcss.com/echarts/3.2.3/echarts.min', } });\n",
       "require(['echarts'],function(ec){\n",
       "var myChart = ec.init(document.getElementById('showhere'));\n",
       "\n",
       "var option = {\n",
       "    title: {\n",
       "        text: 'Astro2020-abstract-keywords',\n",
       "    },\n",
       "    tooltip: {\n",
       "        trigger: 'axis',\n",
       "        axisPointer: {\n",
       "            type: 'shadow'\n",
       "        }\n",
       "    },\n",
       "    legend: {\n",
       "        data: ['词频']\n",
       "    },\n",
       "    grid: {\n",
       "        left: '3%',\n",
       "        right: '4%',\n",
       "        bottom: '3%',\n",
       "        containLabel: true\n",
       "    },\n",
       "    xAxis: {\n",
       "        type: 'value',\n",
       "        boundaryGap: [0, 0.01]\n",
       "    },\n",
       "    yAxis: {\n",
       "        type: 'category',\n",
       "        data: ['also', 'time', '10', 'energy', 'provide', 'gas', 'data', 'field', 'survey', 'space', 'astronomy', 'cosmic', 'universe', 'black', 'understanding', 'next', 'stellar', 'evolution', 'star', 'decade', 'resolution', 'ray', 'mass', 'new', 'galaxy', 'science', 'stars', 'formation', 'observations', 'large', 'galaxies', 'high']\n",
       "    },\n",
       "    series: [\n",
       "        {\n",
       "            name: '词频',\n",
       "            type: 'bar',\n",
       "            data: [128, 132, 134, 135, 136, 140, 142, 149, 149, 151, 156, 160, 162, 162, 167, 170, 172, 174, 175, 177, 178, 184, 189, 204, 212, 217, 223, 224, 233, 238, 250, 282]\n",
       "        }\n",
       "    ]\n",
       "};\n",
       "\n",
       "myChart.setOption(option);\n",
       "    });\n",
       "</script>\n"
      ],
      "text/plain": [
       "<IPython.core.display.HTML object>"
      ]
     },
     "execution_count": 205,
     "metadata": {},
     "output_type": "execute_result"
    }
   ],
   "source": [
    "# 生成 ECharts 配置数据，拼接出 HTML\n",
    "# 也可直接通过 ECharts 官网生成图表\n",
    "\n",
    "words_list = []\n",
    "count_list =[]\n",
    "for word in top_all_summary[:32]:\n",
    "    words_list.append(word[0])\n",
    "    count_list.append(word[1])\n",
    "\n",
    "from IPython.display import HTML\n",
    "\n",
    "# 指定图表的配置项和数据\n",
    "option = \"\"\"\n",
    "var option = {\n",
    "    title: {\n",
    "        text: 'Astro2020-abstract-keywords',\n",
    "    },\n",
    "    tooltip: {\n",
    "        trigger: 'axis',\n",
    "        axisPointer: {\n",
    "            type: 'shadow'\n",
    "        }\n",
    "    },\n",
    "    legend: {\n",
    "        data: ['词频']\n",
    "    },\n",
    "    grid: {\n",
    "        left: '3%',\n",
    "        right: '4%',\n",
    "        bottom: '3%',\n",
    "        containLabel: true\n",
    "    },\n",
    "    xAxis: {\n",
    "        type: 'value',\n",
    "        boundaryGap: [0, 0.01]\n",
    "    },\n",
    "    yAxis: {\n",
    "        type: 'category',\n",
    "        data: \"\"\" + str(words_list[::-1]) + \"\"\"\n",
    "    },\n",
    "    series: [\n",
    "        {\n",
    "            name: '词频',\n",
    "            type: 'bar',\n",
    "            data: \"\"\" + str(count_list[::-1]) + \"\"\"\n",
    "        }\n",
    "    ]\n",
    "};\n",
    "\"\"\"\n",
    "\n",
    "head = \"\"\"\n",
    "<div id=\"showhere\" style=\"width:800px; height:600px;\"></div> \n",
    "<script> \n",
    "require.config({ paths:{ echarts: '//cdn.bootcss.com/echarts/3.2.3/echarts.min', } });\n",
    "require(['echarts'],function(ec){\n",
    "var myChart = ec.init(document.getElementById('showhere'));\n",
    "\"\"\"\n",
    "\n",
    "tail = \"\"\"\n",
    "myChart.setOption(option);\n",
    "    });\n",
    "</script>\n",
    "\"\"\"\n",
    "\n",
    "HTML(head + option + tail)"
   ]
  },
  {
   "cell_type": "code",
   "execution_count": 81,
   "metadata": {
    "ExecuteTime": {
     "end_time": "2020-04-23T17:32:57.297666Z",
     "start_time": "2020-04-23T17:32:57.123523Z"
    },
    "collapsed": false
   },
   "outputs": [],
   "source": [
    "with open('astro2020-voc-least-2.txt','a') as f:\n",
    "    for i,j in top_all_summary:\n",
    "        if wordnet.synsets(i) and i.isalpha() and j>1:\n",
    "            f.write(i+'\\t'+str(j)+'\\n')"
   ]
  },
  {
   "cell_type": "code",
   "execution_count": 80,
   "metadata": {
    "ExecuteTime": {
     "end_time": "2020-04-23T17:32:46.710492Z",
     "start_time": "2020-04-23T17:32:46.340290Z"
    },
    "collapsed": true
   },
   "outputs": [],
   "source": [
    "with open('astro2020-voc-least-1.txt','a') as f:\n",
    "    for i,j in top_all_summary:\n",
    "        if wordnet.synsets(i) and i.isalpha() and j>0:\n",
    "            f.write(i+'\\t'+str(j)+'\\n')"
   ]
  },
  {
   "cell_type": "code",
   "execution_count": 64,
   "metadata": {
    "ExecuteTime": {
     "end_time": "2020-04-23T17:19:37.748371Z",
     "start_time": "2020-04-23T17:19:35.574619Z"
    },
    "collapsed": false
   },
   "outputs": [
    {
     "name": "stdout",
     "output_type": "stream",
     "text": [
      "('high', 282)\n",
      "('galaxies', 250)\n",
      "('large', 238)\n",
      "('observations', 233)\n",
      "('formation', 224)\n",
      "('stars', 223)\n",
      "('science', 217)\n",
      "('galaxy', 212)\n",
      "('new', 204)\n",
      "('mass', 189)\n",
      "('ray', 184)\n",
      "('resolution', 178)\n",
      "('decade', 177)\n",
      "('star', 175)\n",
      "('evolution', 174)\n",
      "('stellar', 172)\n",
      "('next', 170)\n",
      "('understanding', 167)\n",
      "('black', 162)\n",
      "('universe', 162)\n",
      "('cosmic', 160)\n",
      "('astronomy', 156)\n",
      "('space', 151)\n",
      "('survey', 149)\n",
      "('field', 149)\n",
      "('data', 142)\n",
      "('gas', 140)\n",
      "('provide', 136)\n",
      "('energy', 135)\n",
      "('time', 132)\n",
      "('also', 128)\n",
      "('telescope', 124)\n",
      "('planets', 121)\n",
      "('telescopes', 120)\n",
      "('astrophysics', 119)\n",
      "('based', 118)\n",
      "('physics', 112)\n",
      "('surveys', 112)\n",
      "('imaging', 109)\n",
      "('gravitational', 106)\n",
      "('first', 105)\n",
      "('dark', 103)\n",
      "('scientific', 102)\n",
      "('z', 101)\n",
      "('infrared', 101)\n",
      "('properties', 100)\n",
      "('range', 99)\n",
      "('holes', 97)\n",
      "('measurements', 97)\n",
      "('wide', 96)\n",
      "('scale', 95)\n",
      "('spectroscopy', 95)\n",
      "('accretion', 94)\n",
      "('study', 92)\n",
      "('current', 92)\n",
      "('mission', 90)\n",
      "('us', 89)\n",
      "('matter', 88)\n",
      "('key', 88)\n",
      "('ground', 87)\n",
      "('low', 87)\n",
      "('galactic', 85)\n",
      "('studies', 85)\n",
      "('probe', 84)\n",
      "('sources', 84)\n",
      "('future', 84)\n",
      "('radio', 82)\n",
      "('questions', 82)\n",
      "('processes', 81)\n",
      "('planet', 81)\n",
      "('medium', 81)\n",
      "('structure', 81)\n",
      "('well', 80)\n",
      "('many', 80)\n",
      "('uv', 80)\n",
      "('systems', 79)\n",
      "('research', 79)\n",
      "('dust', 77)\n",
      "('facilities', 77)\n",
      "('community', 77)\n",
      "('emission', 76)\n",
      "('one', 76)\n",
      "('physical', 76)\n",
      "('spectral', 75)\n",
      "('solar', 74)\n",
      "('optical', 74)\n",
      "('including', 73)\n",
      "('within', 73)\n",
      "('spectroscopic', 72)\n",
      "('fundamental', 72)\n",
      "('beyond', 71)\n"
     ]
    }
   ],
   "source": [
    "with open(summary) as f:\n",
    "    s = f.read()    \n",
    "word_list = list(jieba.cut(s.lower()))\n",
    "#print('分词总数:', len(word_list))\n",
    "#print('示例:', word_list[:20])\n",
    "#words_count = Counter(word_list)\n",
    "#most_words = words_count.most_common(100)\n",
    "#print(most_words)\n",
    "\n",
    "words = filter(lambda w: w not in stops,\n",
    "               word_list)\n",
    "top_1000_summary = Counter(words).most_common(n=100)\n",
    "for i in top_1000_summary:\n",
    "    if wordnet.synsets(i[0]) and i[0].isalpha():\n",
    "        print(i)"
   ]
  },
  {
   "cell_type": "markdown",
   "metadata": {},
   "source": [
    "# daily-mail"
   ]
  },
  {
   "cell_type": "code",
   "execution_count": 82,
   "metadata": {
    "ExecuteTime": {
     "end_time": "2020-04-23T17:35:24.709127Z",
     "start_time": "2020-04-23T17:35:24.595219Z"
    },
    "collapsed": false
   },
   "outputs": [
    {
     "data": {
      "text/plain": [
       "'/Users/brettlv/blog/brettlv.github.io/pythoncode'"
      ]
     },
     "execution_count": 82,
     "metadata": {},
     "output_type": "execute_result"
    }
   ],
   "source": [
    "pwd"
   ]
  },
  {
   "cell_type": "markdown",
   "metadata": {},
   "source": [
    "## arxiv.query"
   ]
  },
  {
   "cell_type": "markdown",
   "metadata": {
    "ExecuteTime": {
     "end_time": "2020-04-23T17:50:45.609258Z",
     "start_time": "2020-04-23T17:50:44.352266Z"
    }
   },
   "source": [
    "paper_query=arxiv.query(query=\"cat:astro-ph AND abs:radio OR abs:AGN OR abs:XRB\",\n",
    "            max_results=10,\n",
    "            start = 0,\n",
    "            sort_by=\"lastUpdatedDate\",\n",
    "            sort_order=\"descending\",\n",
    "            prune=False,\n",
    "            iterative=False,\n",
    "            max_chunk_results=1000)"
   ]
  },
  {
   "cell_type": "markdown",
   "metadata": {},
   "source": [
    "## arxivchecker.check_keywords"
   ]
  },
  {
   "cell_type": "code",
   "execution_count": 95,
   "metadata": {
    "ExecuteTime": {
     "end_time": "2020-04-23T17:45:47.604503Z",
     "start_time": "2020-04-23T17:45:47.580557Z"
    },
    "collapsed": true
   },
   "outputs": [],
   "source": [
    "?arxivchecker.check_keywords"
   ]
  },
  {
   "cell_type": "code",
   "execution_count": 128,
   "metadata": {
    "ExecuteTime": {
     "end_time": "2020-04-23T18:22:36.063432Z",
     "start_time": "2020-04-23T18:22:12.182509Z"
    },
    "collapsed": false,
    "scrolled": false
   },
   "outputs": [],
   "source": [
    "now = datetime.now() # 获取当前datetime\n",
    "if os.path.isfile('/Users/brettlv/blog/brettlv.github.io/pythoncode/arxiv-daily/arxiv-daily-%s-%s-%s.txt'%(now.year,now.month,now.day)):\n",
    "    os.remove('/Users/brettlv/blog/brettlv.github.io/pythoncode/arxiv-daily/arxiv-daily-%s-%s-%s.txt'%(now.year,now.month,now.day))\n",
    "daily_filepath='/Users/brettlv/blog/brettlv.github.io/pythoncode/arxiv-daily/arxiv-daily-%s-%s-%s.txt'%(now.year,now.month,now.day)\n",
    "papers_keywords = arxivchecker.check_keywords('astro-ph', ['radio','AGN','XRB','IMBH','ULX','transient','FRB','MWA','SKA'],mute=True)\n"
   ]
  },
  {
   "cell_type": "markdown",
   "metadata": {
    "ExecuteTime": {
     "end_time": "2020-04-23T17:42:21.708150Z",
     "start_time": "2020-04-23T17:42:21.688515Z"
    }
   },
   "source": [
    "for i in papers_keywords:\n",
    "    print(i,papers_keywords[i])"
   ]
  },
  {
   "cell_type": "markdown",
   "metadata": {
    "ExecuteTime": {
     "end_time": "2020-04-23T17:43:31.237785Z",
     "start_time": "2020-04-23T17:43:31.223384Z"
    }
   },
   "source": [
    "## arxivchecker.scrape_arxiv"
   ]
  },
  {
   "cell_type": "code",
   "execution_count": 104,
   "metadata": {
    "ExecuteTime": {
     "end_time": "2020-04-23T17:52:21.003735Z",
     "start_time": "2020-04-23T17:52:20.995314Z"
    },
    "collapsed": true
   },
   "outputs": [],
   "source": [
    "?arxivchecker.scrape_arxiv"
   ]
  },
  {
   "cell_type": "code",
   "execution_count": null,
   "metadata": {
    "collapsed": true
   },
   "outputs": [],
   "source": [
    "papers_scrape_arxiv=arxivchecker.scrape_arxiv()"
   ]
  },
  {
   "cell_type": "code",
   "execution_count": 85,
   "metadata": {
    "ExecuteTime": {
     "end_time": "2020-04-23T17:37:44.659370Z",
     "start_time": "2020-04-23T17:37:44.643639Z"
    },
    "collapsed": false
   },
   "outputs": [
    {
     "name": "stdout",
     "output_type": "stream",
     "text": [
      "22\n",
      "\n"
     ]
    }
   ],
   "source": [
    "print(len(papers_keywords))\n",
    "print()"
   ]
  },
  {
   "cell_type": "code",
   "execution_count": 129,
   "metadata": {
    "ExecuteTime": {
     "end_time": "2020-04-23T18:22:49.381853Z",
     "start_time": "2020-04-23T18:22:49.373277Z"
    },
    "collapsed": false
   },
   "outputs": [
    {
     "name": "stdout",
     "output_type": "stream",
     "text": [
      "2004.10406\n",
      "2004.10230\n",
      "2004.10372\n",
      "2004.10552\n",
      "2004.10665\n",
      "2004.10591\n",
      "2004.10452\n",
      "2004.10735\n",
      "2004.10579\n",
      "2004.10500\n",
      "2004.10542\n",
      "2004.10504\n",
      "2004.10244\n",
      "2004.10213\n",
      "2004.10210\n",
      "2004.10429\n",
      "2004.10294\n",
      "2004.10540\n",
      "2004.10702\n",
      "2004.10611\n",
      "2004.10209\n",
      "2004.01669\n"
     ]
    }
   ],
   "source": [
    "papers_keywords_ids=[]\n",
    "for i in papers_keywords:\n",
    "    print(i)\n",
    "    papers_keywords_ids.append(i)"
   ]
  },
  {
   "cell_type": "code",
   "execution_count": 130,
   "metadata": {
    "ExecuteTime": {
     "end_time": "2020-04-23T18:22:53.457781Z",
     "start_time": "2020-04-23T18:22:53.447202Z"
    },
    "collapsed": false
   },
   "outputs": [
    {
     "data": {
      "text/plain": [
       "22"
      ]
     },
     "execution_count": 130,
     "metadata": {},
     "output_type": "execute_result"
    }
   ],
   "source": [
    "len(papers_keywords_ids)"
   ]
  },
  {
   "cell_type": "markdown",
   "metadata": {},
   "source": [
    "## arxiv.query"
   ]
  },
  {
   "cell_type": "code",
   "execution_count": 91,
   "metadata": {
    "ExecuteTime": {
     "end_time": "2020-04-23T17:40:42.639463Z",
     "start_time": "2020-04-23T17:40:42.580173Z"
    },
    "collapsed": true
   },
   "outputs": [],
   "source": [
    "?arxiv.query"
   ]
  },
  {
   "cell_type": "code",
   "execution_count": 131,
   "metadata": {
    "ExecuteTime": {
     "end_time": "2020-04-23T18:23:04.728346Z",
     "start_time": "2020-04-23T18:23:01.570808Z"
    },
    "collapsed": false
   },
   "outputs": [
    {
     "name": "stdout",
     "output_type": "stream",
     "text": [
      "paper today:  22\n"
     ]
    }
   ],
   "source": [
    "if len(papers_keywords_ids)>0:\n",
    "    print('paper today: ',len(daily_query))\n",
    "    daily_query=arxiv.query(id_list=papers_keywords_ids)\n",
    "#!/usr/bin/python\n",
    "# -*- coding: UTF-8 -*-"
   ]
  },
  {
   "cell_type": "code",
   "execution_count": null,
   "metadata": {
    "collapsed": true
   },
   "outputs": [],
   "source": []
  },
  {
   "cell_type": "code",
   "execution_count": 137,
   "metadata": {
    "ExecuteTime": {
     "end_time": "2020-04-23T18:28:41.300793Z",
     "start_time": "2020-04-23T18:28:41.280700Z"
    },
    "collapsed": false
   },
   "outputs": [
    {
     "name": "stdout",
     "output_type": "stream",
     "text": [
      "all loaded\n"
     ]
    }
   ],
   "source": [
    "keywords_search=\"'radio','AGN','XRB','IMBH','ULX','transient','FRB','MWA','SKA'\"\n",
    "with open('/Users/brettlv/blog/brettlv.github.io/pythoncode/arxiv-daily/arxiv-daily-%d-%d-%d.html'%(now.year,now.month,now.day),'w+') as f:\n",
    "    for paper_id in daily_query:  \n",
    "        f.write(str(now)+'\\t')\n",
    "        f.write('paper found:'+str(len(papers_keywords_ids)))\n",
    "        f.write('<p>'+'keywords:%s'%keywords_search+'</p>') \n",
    "        f.write('<p>'+'<a href=\"%s\"'%paper_id['id']+'>'+paper_id['id']+'</a>'+'</p>')  \n",
    "        f.write('<p>'+'<a href=\"%s\"'%paper_id['pdf_url']+'>'+'pdf_url_arxiv'+'</a>'+'</p>')\n",
    "        #<p><a href=\"https://brettlv.github.io/\">这是一个链接</a></p>     \n",
    "        f.write('<p>'+paper_id['title']+'</p>') \n",
    "        f.write('<p>'+paper_id['author']+'</p>') \n",
    "        f.write('<p>'+str(paper_id['authors'])+'</p>') \n",
    "        if paper_id['arxiv_comment']:\n",
    "            f.write('<p>'+paper_id['arxiv_comment']+'</p>') \n",
    "        f.write('<p> updated: '+paper_id['updated']+'</p>'+'\\n')    \n",
    "        f.write('<p>'+paper_id['summary']+'</p>'+'\\n'+'---***---\\n')\n",
    "        #print(paper_id['id'],'loaded \\n')   \n",
    "print('all loaded')        "
   ]
  },
  {
   "cell_type": "code",
   "execution_count": null,
   "metadata": {
    "ExecuteTime": {
     "end_time": "2020-04-23T16:25:10.154359Z",
     "start_time": "2020-04-23T04:13:59.160Z"
    },
    "collapsed": true
   },
   "outputs": [],
   "source": [
    "pwd"
   ]
  },
  {
   "cell_type": "code",
   "execution_count": 108,
   "metadata": {
    "ExecuteTime": {
     "end_time": "2020-04-23T17:55:52.474881Z",
     "start_time": "2020-04-23T17:55:52.465230Z"
    },
    "collapsed": false
   },
   "outputs": [
    {
     "name": "stdout",
     "output_type": "stream",
     "text": [
      "2020-04-23 17:36:10.761122\n"
     ]
    }
   ],
   "source": [
    "print(now)"
   ]
  },
  {
   "cell_type": "code",
   "execution_count": 134,
   "metadata": {
    "ExecuteTime": {
     "end_time": "2020-04-23T18:25:36.663057Z",
     "start_time": "2020-04-23T18:25:35.195143Z"
    },
    "collapsed": false
   },
   "outputs": [
    {
     "name": "stdout",
     "output_type": "stream",
     "text": [
      "邮件发送成功\n"
     ]
    }
   ],
   "source": [
    "#mkkneeuoshthbcjc \n",
    "#my_sender='610721578@qq.com'    # 发件人邮箱账号\n",
    "#my_pass = 'tlejawmwdjzvbdcg'              # 发件人邮箱密码 授权\n",
    "my_user='brettlv@icloud.com'      # 收件人邮箱账号，我这边发送给自己\n",
    "#now = datetime.now() # 获取当前datetime\n",
    "def mail():\n",
    "    try:\n",
    "        message = MIMEMultipart() \n",
    "        mail_msg = \"\"\" \n",
    "        <p>邮件内容,python email arxiv</p>\n",
    "        <p>\n",
    "        <a href=\"https://brettlv.github.io/\">brettlv-github</a>      \n",
    "        </p>\"\"\"\n",
    "        \n",
    "        #邮件正文内容\n",
    "        text=MIMEText(mail_msg,'html','utf-8') \n",
    "        message.attach(text)\n",
    "        \n",
    "        # 构造附件1，传送当前目录下的 test.txt 文件\n",
    "        att1 = MIMEText(open('/Users/brettlv/blog/brettlv.github.io/pythoncode/arxiv-daily/arxiv-daily-%d-%d-%d.html'%(now.year,now.month,now.day), 'rb').read(), 'base64', 'utf-8')\n",
    "        att1[\"Content-Type\"] = 'application/octet-stream'\n",
    "        dailyfilename=\"arxiv-daily%s-%s-%s.html\"%(now.year,now.month,now.day)\n",
    "        # 这里的filename可以任意写，写什么名字，邮件中显示什么名字\n",
    "        att1[\"Content-Disposition\"] = 'attachment; filename=%s'%dailyfilename\n",
    "        message.attach(att1)\n",
    "        \n",
    "        # 构造附件2，传送当前目录下的 runoob.txt 文件\n",
    "         \n",
    "        message['From']=formataddr([\"From brettlv\",my_sender])  # 括号里的对应发件人邮箱昵称、发件人邮箱账号\n",
    "        message['To']=formataddr([\"FK\",my_user])              # 括号里的对应收件人邮箱昵称、收件人邮箱账号\n",
    "        message['Subject']=\"arxiv-analysis-%d-%d-%d\"%(now.year,now.month,now.day)# 邮件的主题，也可以说是标题\n",
    "        server=smtplib.SMTP_SSL(\"smtp.qq.com\", 465)  # 发件人邮箱中的SMTP服务器，端口是25/465?\n",
    "        #server.set_debugleverl(1)\n",
    "        #server.ehlo(\"smtp.qq.com\") \n",
    "        #server=smtplib.SMTP()\n",
    "        #server.connect(\"smtp.qq.com\",25)\n",
    "        server.login(my_sender, my_pass)  # 括号中对应的是发件人邮箱账号、邮箱密码\n",
    "        server.sendmail(my_sender,my_user,message.as_string())  # 括号中对应的是发件人邮箱账号、收件人邮箱账号、发送邮件\n",
    "        server.quit()  # 关闭连接\n",
    "        print(\"邮件发送成功\")\n",
    "    except smtplib.SMTPException as e:\n",
    "        print(\"Error: 无法发送邮件\",e)\n",
    "\n",
    "if os.path.isfile('/Users/brettlv/blog/brettlv.github.io/pythoncode/arxiv-daily/arxiv-daily-%d-%d-%d.html'%(now.year,now.month,now.day)):\n",
    "    mail()\n",
    "else:\n",
    "    print('no paper found')"
   ]
  },
  {
   "cell_type": "code",
   "execution_count": null,
   "metadata": {
    "collapsed": true
   },
   "outputs": [],
   "source": []
  },
  {
   "cell_type": "markdown",
   "metadata": {},
   "source": [
    "# automail-daily"
   ]
  },
  {
   "cell_type": "code",
   "execution_count": null,
   "metadata": {
    "collapsed": true
   },
   "outputs": [],
   "source": [
    "import time\n",
    "#import urllib2# python2\n",
    "import urllib#python3\n",
    "import datetime\n",
    "#from itertools import ifilter python2\n",
    "from collections import Counter, defaultdict\n",
    "import xml.etree.ElementTree as ET\n",
    "import h5py\n",
    "from bs4 import BeautifulSoup\n",
    "import matplotlib.pylab as plt\n",
    "import pandas as pd\n",
    "import numpy as np\n",
    "import bibtexparser\n",
    "pd.set_option('mode.chained_assignment','warn')"
   ]
  },
  {
   "cell_type": "code",
   "execution_count": 203,
   "metadata": {
    "ExecuteTime": {
     "end_time": "2020-04-25T18:58:33.587308Z",
     "start_time": "2020-04-25T18:58:33.415298Z"
    },
    "collapsed": false
   },
   "outputs": [],
   "source": [
    "#!/usr/bin/python\n",
    "# -*- coding: UTF-8 -*- \n",
    "\n",
    "import arxiv\n",
    "import arxivchecker\n",
    "import smtplib\n",
    "from email.mime.text import MIMEText\n",
    "from email.utils import formataddr\n",
    "from email.header import Header\n",
    "from email.mime.multipart import MIMEMultipart\n",
    "from email.mime.image import MIMEImage\n",
    "import os\n",
    "from datetime import datetime\n",
    "\n",
    "\n",
    "\n",
    "def daily_run_arxiv_search_keywords():    \n",
    "    papers_keywords = arxivchecker.check_keywords('astro-ph', ['radio','AGN','XRB','IMBH','ULX','transient','FRB','MWA','SKA','black hole'],mute=True)\n",
    "    papers_keywords_ids=[]\n",
    "    for i in papers_keywords:\n",
    "        #print(i)\n",
    "        papers_keywords_ids.append(i)\n",
    "    return papers_keywords_ids\n",
    "\n",
    "def daily_run_arxiv_search_ids(papers_keywords_ids):    \n",
    "    if len(papers_keywords_ids)>0:\n",
    "        print('paper today: ',len(papers_keywords_ids))\n",
    "        daily_query=arxiv.query(id_list=papers_keywords_ids)\n",
    "        return daily_query\n"
   ]
  },
  {
   "cell_type": "markdown",
   "metadata": {},
   "source": [
    "<!DOCTYPE html>\n",
    "<html lang=\"en\">\n",
    "<head>\n",
    "<meta charset=\"UTF-8\">\n",
    "<!--防止手机页面缩放-->\n",
    "<meta name=\"viewport\" content=\"width=device-width, initial-scale=1.0, maximum-scale=1.0, minimum-scale=1.0, user-scalable=no\">\n",
    "\n",
    "<title>Document</title>\n",
    "</head>\n",
    "<body>\n",
    "<!-- 文字单位设置为rem即可，通过微信开发者工具切换手机型号查看效果。 -->\n",
    "<div style='border:1px red solid;border-radius:100px;font-size:1rem;'>测试手机端文字的自适应</div>\n",
    "</body>\n"
   ]
  },
  {
   "cell_type": "code",
   "execution_count": 204,
   "metadata": {
    "ExecuteTime": {
     "end_time": "2020-04-25T18:58:41.049667Z",
     "start_time": "2020-04-25T18:58:40.901688Z"
    },
    "collapsed": false
   },
   "outputs": [],
   "source": [
    "def daily_write_arxiv_search_ids(daily_query): \n",
    "    keywords_search=\"'radio','AGN','XRB','\\nIMBH','ULX','transient','\\nFRB','MWA','SKA','BH'\"\n",
    "    with open(daily_filepath,'w+') as f:\n",
    "        f.write('<!DOCTYPE html><html lang=\"en\"><head>')\n",
    "        f.write('<meta charset=\"UTF-8\">')        \n",
    "        f.write('<meta name=\"viewport\" content=\"width=device-width, initial-scale=1.0, maximum-scale=1.0, minimum-scale=1.0, user-scalable=no\">')      \n",
    "        f.write('<title>arxiv-daily-%s-%s-%s</title>'%(now.year,now.month,now.day)) \n",
    "        f.write('</head>')  \n",
    "        f.write('<body> \\n <div style='+\"\\'\"+'font-size:1rem;'+\"\\'\"+'>')\n",
    "        \n",
    "        \n",
    "        f.write(str(now)+'\\t'+'星期:'+str(day_Week)+'\\t')\n",
    "        f.write('paper found:'+str(len(papers_keywords_ids))+'\\n')\n",
    "        f.write('<p>'+'keywords:%s'%keywords_search+'</p> \\n <a href=\"#gotoend\">ToEnd</a>\\n') \n",
    "          \n",
    "    \n",
    "        for num,paper_id in enumerate(daily_query):  \n",
    "            f.write(str(now)+'\\t'+'星期:'+str(day_Week)+'\\t')\n",
    "            f.write('paper num:'+str(num+1))           \n",
    "            f.write('<p>'+'<a href=\"%s\"'%paper_id['id']+'>'+paper_id['id'][21:]+'</a>'+'</p>')  \n",
    "            f.write('<p>'+'<a href=\"%s\"'%paper_id['pdf_url']+'>'+'pdf_url_arxiv'+'</a>'+'</p>')\n",
    "        #<p><a href=\"https://brettlv.github.io/\">这是一个链接</a></p>     \n",
    "            f.write('<p>'+paper_id['title']+'</p>') \n",
    "            f.write('<p>'+paper_id['author']+'</p>') \n",
    "            f.write('<p>'+str(paper_id['authors'])+'</p>') \n",
    "            if paper_id['arxiv_comment']:\n",
    "                f.write('<p>'+paper_id['arxiv_comment']+'</p>') \n",
    "            f.write('<p> updated: '+paper_id['updated']+'</p>'+'\\n')    \n",
    "            f.write('<p>'+paper_id['summary']+'</p>'+'\\n'+'---***---\\n')\n",
    "        #print(paper_id['id'],'loaded \\n')\n",
    "        f.write('<a name=\"gotoend\"></a> <a href=\"#top\" target=\"_self\">返回顶部</a> </div></body><html>')\n",
    "    print('all loaded')  \n",
    "\n",
    "#mkkneeuoshthbcjc \n",
    "my_sender='610721578@qq.com'    # 发件人邮箱账号\n",
    "my_pass = 'tlejawmwdjzvbdcg'              # 发件人邮箱密码 授权\n",
    "my_user='lyubing@hust.edu.cn'      # 收件人邮箱账号，我这边发送给自己\n",
    "#now = datetime.now() # 获取当前datetime\n",
    "\n",
    "def daily_arxiv_mail():\n",
    "    try:\n",
    "        message = MIMEMultipart() \n",
    "        if len(papers_keywords_ids)>0:\n",
    "            mail_msg = \"\"\" \n",
    "        <p>邮件内容:daily-arxiv</p><p>\n",
    "        <a href=\"https://brettlv.github.io/\">brettlv-github-home</a>      \n",
    "        </p>\"\"\"\n",
    "        else:\n",
    "            mail_msg=\"\"\"No paper today\"\"\"\n",
    "            \n",
    "        \n",
    "        #邮件正文内容\n",
    "        text=MIMEText(mail_msg,'html','utf-8') \n",
    "        message.attach(text)\n",
    "        \n",
    "        # 构造附件1，传送当前目录下的 test.txt 文件\n",
    "        att1 = MIMEText(open(daily_filepath, 'rb').read(), 'base64', 'utf-8')\n",
    "        att1[\"Content-Type\"] = 'application/octet-stream'\n",
    "        dailyfilename='arxiv-daily-%s-%s-%s.html'%(now.year,now.month,now.day)\n",
    "        # 这里的filename可以任意写，写什么名字，邮件中显示什么名字\n",
    "        att1[\"Content-Disposition\"] = 'attachment; filename=%s'%dailyfilename\n",
    "        message.attach(att1)\n",
    "        \n",
    "        # 构造附件2，传送当前目录下的 runoob.txt 文件\n",
    "         \n",
    "        message['From']=formataddr([\"From brettlv\",my_sender])  # 括号里的对应发件人邮箱昵称、发件人邮箱账号\n",
    "        message['To']=formataddr([\"LyuHust\",my_user])              # 括号里的对应收件人邮箱昵称、收件人邮箱账号\n",
    "        message['Subject']=\"arxiv-analysis-%d-%d-%d\"%(now.year,now.month,now.day)# 邮件的主题，也可以说是标题\n",
    "        server=smtplib.SMTP_SSL(\"smtp.qq.com\", 465)  # 发件人邮箱中的SMTP服务器，端口是25/465?\n",
    "        #server.set_debugleverl(1)\n",
    "        #server.ehlo(\"smtp.qq.com\") \n",
    "        #server=smtplib.SMTP()\n",
    "        #server.connect(\"smtp.qq.com\",25)\n",
    "        server.login(my_sender, my_pass)  # 括号中对应的是发件人邮箱账号、邮箱密码\n",
    "        server.sendmail(my_sender,my_user,message.as_string())  # 括号中对应的是发件人邮箱账号、收件人邮箱账号、发送邮件\n",
    "        server.quit()  # 关闭连接\n",
    "        print(\"邮件发送成功\")\n",
    "    except smtplib.SMTPException as e:\n",
    "        print(\"Error: 无法发送邮件\",e)\n",
    "\n"
   ]
  },
  {
   "cell_type": "code",
   "execution_count": 175,
   "metadata": {
    "ExecuteTime": {
     "end_time": "2020-04-24T11:39:35.091175Z",
     "start_time": "2020-04-24T11:39:21.482510Z"
    },
    "collapsed": false
   },
   "outputs": [],
   "source": [
    "papers_keywords_ids=daily_run_arxiv_search_keywords()\n",
    "print(datetime.now())"
   ]
  },
  {
   "cell_type": "code",
   "execution_count": 176,
   "metadata": {
    "ExecuteTime": {
     "end_time": "2020-04-24T11:39:43.001000Z",
     "start_time": "2020-04-24T11:39:37.159652Z"
    },
    "collapsed": false
   },
   "outputs": [
    {
     "name": "stdout",
     "output_type": "stream",
     "text": [
      "paper today:  25\n"
     ]
    }
   ],
   "source": [
    "daily_query=daily_run_arxiv_search_ids(papers_keywords_ids)\n",
    "print(datetime.now())  # 获取当前datetime"
   ]
  },
  {
   "cell_type": "code",
   "execution_count": 199,
   "metadata": {
    "ExecuteTime": {
     "end_time": "2020-04-25T18:14:18.159823Z",
     "start_time": "2020-04-25T18:14:18.151017Z"
    },
    "collapsed": false
   },
   "outputs": [
    {
     "name": "stdout",
     "output_type": "stream",
     "text": [
      "2020-04-25 18:14:18.153464 week: 6\n"
     ]
    }
   ],
   "source": [
    "now = datetime.now() # 获取当前datetime\n",
    "day_Week = datetime.now().isoweekday() \n",
    "print(now,'week:',day_Week )\n",
    "daily_filepath='/Users/brettlv/blog/brettlv.github.io/pythoncode/arxiv-daily/arxiv-daily-%s-%s-%s.html'%(now.year,now.month,now.day)\n",
    "#daily_filepath='arxiv-daily-%s-%s-%s.html'%(now.year,now.month,now.day)"
   ]
  },
  {
   "cell_type": "code",
   "execution_count": 201,
   "metadata": {
    "ExecuteTime": {
     "end_time": "2020-04-25T18:24:28.855402Z",
     "start_time": "2020-04-25T18:24:28.793812Z"
    },
    "collapsed": false
   },
   "outputs": [
    {
     "name": "stdout",
     "output_type": "stream",
     "text": [
      "/Users/brettlv/blog/brettlv.github.io/pythoncode/arxiv-daily/arxiv-daily-2020-4-25.html\n",
      "all loaded\n"
     ]
    }
   ],
   "source": [
    "print(daily_filepath)\n",
    "daily_write_arxiv_search_ids(daily_query)"
   ]
  },
  {
   "cell_type": "code",
   "execution_count": 196,
   "metadata": {
    "ExecuteTime": {
     "end_time": "2020-04-25T18:07:13.632353Z",
     "start_time": "2020-04-25T18:07:12.695939Z"
    },
    "collapsed": false
   },
   "outputs": [
    {
     "name": "stdout",
     "output_type": "stream",
     "text": [
      "邮件发送成功\n"
     ]
    }
   ],
   "source": [
    "daily_arxiv_mail()"
   ]
  },
  {
   "cell_type": "code",
   "execution_count": null,
   "metadata": {
    "collapsed": true
   },
   "outputs": [],
   "source": []
  }
 ],
 "metadata": {
  "kernelspec": {
   "display_name": "Python 3",
   "language": "python",
   "name": "python3"
  },
  "language_info": {
   "codemirror_mode": {
    "name": "ipython",
    "version": 3
   },
   "file_extension": ".py",
   "mimetype": "text/x-python",
   "name": "python",
   "nbconvert_exporter": "python",
   "pygments_lexer": "ipython3",
   "version": "3.6.0"
  },
  "latex_envs": {
   "LaTeX_envs_menu_present": true,
   "autocomplete": true,
   "bibliofile": "biblio.bib",
   "cite_by": "apalike",
   "current_citInitial": 1,
   "eqLabelWithNumbers": true,
   "eqNumInitial": 1,
   "hotkeys": {
    "equation": "Ctrl-E",
    "itemize": "Ctrl-I"
   },
   "labels_anchors": false,
   "latex_user_defs": false,
   "report_style_numbering": false,
   "user_envs_cfg": false
  },
  "toc": {
   "nav_menu": {},
   "number_sections": true,
   "sideBar": true,
   "skip_h1_title": false,
   "toc_cell": false,
   "toc_position": {
    "height": "462px",
    "left": "0px",
    "right": "1023px",
    "top": "115px",
    "width": "212px"
   },
   "toc_section_display": "block",
   "toc_window_display": true
  }
 },
 "nbformat": 4,
 "nbformat_minor": 2
}
