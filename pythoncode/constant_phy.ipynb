{
 "cells": [
  {
   "cell_type": "code",
   "execution_count": 2,
   "metadata": {
    "ExecuteTime": {
     "end_time": "2018-10-18T16:13:12.049910Z",
     "start_time": "2018-10-18T16:13:10.166421Z"
    },
    "collapsed": false
   },
   "outputs": [],
   "source": [
    "import astropy\n",
    "from astropy import units as u\n",
    "from astropy import constants as const\n",
    "import numpy as np\n",
    "# 1 erg=10**-7 J\n",
    "# 1 Jy=10**-26 Wm-2Hz-1\n"
   ]
  },
  {
   "cell_type": "code",
   "execution_count": 20,
   "metadata": {
    "ExecuteTime": {
     "end_time": "2018-10-07T21:36:43.624146Z",
     "start_time": "2018-10-07T21:36:43.612521Z"
    },
    "collapsed": false
   },
   "outputs": [
    {
     "name": "stdout",
     "output_type": "stream",
     "text": [
      "  Name   = Gravitational constant\n",
      "  Value  = 6.67408e-11\n",
      "  Uncertainty  = 3.1e-15\n",
      "  Unit  = m3 / (kg s2)\n",
      "  Reference = CODATA 2014 \n",
      "\n",
      "  Name   = Speed of light in vacuum\n",
      "  Value  = 299792458.0\n",
      "  Uncertainty  = 0.0\n",
      "  Unit  = m / s\n",
      "  Reference = CODATA 2014 \n",
      "\n",
      "  Name   = Electron charge\n",
      "  Value  = 1.6021766208e-19\n",
      "  Uncertainty  = 9.8e-28\n",
      "  Unit  = C\n",
      "  Reference = CODATA 2014 \n",
      "\n",
      "  Name   = Planck constant\n",
      "  Value  = 6.62607004e-34\n",
      "  Uncertainty  = 8.1e-42\n",
      "  Unit  = J s\n",
      "  Reference = CODATA 2014 \n",
      "\n",
      "  Name   = Electron mass\n",
      "  Value  = 9.10938356e-31\n",
      "  Uncertainty  = 1.1e-38\n",
      "  Unit  = kg\n",
      "  Reference = CODATA 2014 \n",
      "\n",
      "  Name   = Boltzmann constant\n",
      "  Value  = 1.38064852e-23\n",
      "  Uncertainty  = 7.9e-30\n",
      "  Unit  = J / K\n",
      "  Reference = CODATA 2014 \n",
      "\n"
     ]
    }
   ],
   "source": [
    "print(const.G,'\\n')\n",
    "print(const.c,'\\n')\n",
    "print(const.e,'\\n')\n",
    "print(const.h,'\\n')\n",
    "print(const.m_e,'\\n')\n",
    "print(const.k_B,'\\n')"
   ]
  },
  {
   "cell_type": "code",
   "execution_count": 21,
   "metadata": {
    "ExecuteTime": {
     "end_time": "2018-10-07T21:37:16.294822Z",
     "start_time": "2018-10-07T21:37:16.286037Z"
    },
    "collapsed": false
   },
   "outputs": [
    {
     "name": "stdout",
     "output_type": "stream",
     "text": [
      "  Name   = Stefan-Boltzmann constant\n",
      "  Value  = 5.670367e-08\n",
      "  Uncertainty  = 1.3e-13\n",
      "  Unit  = W / (K4 m2)\n",
      "  Reference = CODATA 2014 \n",
      "\n"
     ]
    }
   ],
   "source": [
    "print(const.sigma_sb,'\\n')\n",
    "\n",
    "print(const.m_e,'\\n')"
   ]
  },
  {
   "cell_type": "code",
   "execution_count": 4,
   "metadata": {
    "ExecuteTime": {
     "end_time": "2018-10-18T16:13:56.889025Z",
     "start_time": "2018-10-18T16:13:56.880094Z"
    },
    "collapsed": false
   },
   "outputs": [
    {
     "name": "stdout",
     "output_type": "stream",
     "text": [
      "6.9070276711477e-11\n"
     ]
    }
   ],
   "source": [
    "kb=1.38e-23#J/K\n",
    "sigma0=8.85e-12 #F/m\n",
    "e=1.6e-19# C\n",
    "T=10**4\n",
    "ne=10**28\n",
    "\n",
    "dlength=(kb*T*sigma0/e**2/ne)**0.5\n",
    "sigma=5.6704*10**-5# Stefan-Boltzmann constant erg cm-2s-1K-4\n",
    "pc=3.08567756*10**18#cm\n",
    "print(dlength)"
   ]
  },
  {
   "cell_type": "code",
   "execution_count": 30,
   "metadata": {
    "ExecuteTime": {
     "end_time": "2018-10-18T13:24:25.916770Z",
     "start_time": "2018-10-18T13:24:25.907025Z"
    },
    "collapsed": false
   },
   "outputs": [
    {
     "data": {
      "text/plain": [
       "1.8460838917389326e+31"
      ]
     },
     "execution_count": 30,
     "metadata": {},
     "output_type": "execute_result"
    }
   ],
   "source": [
    "514.5e-3*5.25*10e9*4*np.pi*(2.39*pc*1000)**2*10**-23"
   ]
  },
  {
   "cell_type": "code",
   "execution_count": 32,
   "metadata": {
    "ExecuteTime": {
     "end_time": "2018-10-18T13:43:19.053016Z",
     "start_time": "2018-10-18T13:43:19.042123Z"
    },
    "collapsed": false
   },
   "outputs": [
    {
     "data": {
      "text/plain": [
       "3.8867801720835983e+34"
      ]
     },
     "execution_count": 32,
     "metadata": {},
     "output_type": "execute_result"
    }
   ],
   "source": [
    "4.7e-6*1.21e18*4*np.pi*(2.39*pc*1000)**2*10**-23"
   ]
  },
  {
   "cell_type": "code",
   "execution_count": 33,
   "metadata": {
    "ExecuteTime": {
     "end_time": "2018-10-18T13:47:47.836223Z",
     "start_time": "2018-10-18T13:47:47.810388Z"
    },
    "collapsed": false
   },
   "outputs": [
    {
     "data": {
      "text/plain": [
       "57194"
      ]
     },
     "execution_count": 33,
     "metadata": {},
     "output_type": "execute_result"
    }
   ],
   "source": [
    "51544+5650"
   ]
  },
  {
   "cell_type": "code",
   "execution_count": 5,
   "metadata": {
    "ExecuteTime": {
     "end_time": "2018-10-18T16:13:59.345736Z",
     "start_time": "2018-10-18T16:13:59.331033Z"
    },
    "collapsed": false
   },
   "outputs": [
    {
     "data": {
      "text/plain": [
       "6.834500038831719e+37"
      ]
     },
     "execution_count": 5,
     "metadata": {},
     "output_type": "execute_result"
    }
   ],
   "source": [
    "4*np.pi*(2.39*pc*1000)**2*10**-7"
   ]
  },
  {
   "cell_type": "code",
   "execution_count": 1,
   "metadata": {
    "ExecuteTime": {
     "end_time": "2018-11-01T13:04:36.737472Z",
     "start_time": "2018-11-01T13:04:36.686831Z"
    },
    "collapsed": false
   },
   "outputs": [
    {
     "data": {
      "text/plain": [
       "13.698630136986301"
      ]
     },
     "execution_count": 1,
     "metadata": {},
     "output_type": "execute_result"
    }
   ],
   "source": [
    "1/73*1000"
   ]
  },
  {
   "cell_type": "code",
   "execution_count": null,
   "metadata": {
    "collapsed": true
   },
   "outputs": [],
   "source": []
  }
 ],
 "metadata": {
  "kernelspec": {
   "display_name": "Python 3",
   "language": "python",
   "name": "python3"
  },
  "language_info": {
   "codemirror_mode": {
    "name": "ipython",
    "version": 3
   },
   "file_extension": ".py",
   "mimetype": "text/x-python",
   "name": "python",
   "nbconvert_exporter": "python",
   "pygments_lexer": "ipython3",
   "version": "3.6.0"
  },
  "latex_envs": {
   "LaTeX_envs_menu_present": true,
   "autocomplete": true,
   "bibliofile": "biblio.bib",
   "cite_by": "apalike",
   "current_citInitial": 1,
   "eqLabelWithNumbers": true,
   "eqNumInitial": 1,
   "hotkeys": {
    "equation": "Ctrl-E",
    "itemize": "Ctrl-I"
   },
   "labels_anchors": false,
   "latex_user_defs": false,
   "report_style_numbering": false,
   "user_envs_cfg": false
  },
  "toc": {
   "nav_menu": {},
   "number_sections": true,
   "sideBar": true,
   "skip_h1_title": false,
   "toc_cell": false,
   "toc_position": {},
   "toc_section_display": "block",
   "toc_window_display": false
  }
 },
 "nbformat": 4,
 "nbformat_minor": 2
}
