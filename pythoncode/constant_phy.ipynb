{
 "cells": [
  {
   "cell_type": "code",
   "execution_count": 2,
   "metadata": {
    "ExecuteTime": {
     "end_time": "2018-10-07T21:31:20.328278Z",
     "start_time": "2018-10-07T21:31:20.323730Z"
    },
    "collapsed": false
   },
   "outputs": [],
   "source": [
    "import astropy\n",
    "from astropy import units as u\n",
    "from astropy import constants as const\n",
    "\n",
    "# 1 erg=10**-7 J\n",
    "# 1 Jy=10**-26 Wm-2Hz-1\n"
   ]
  },
  {
   "cell_type": "code",
   "execution_count": 20,
   "metadata": {
    "ExecuteTime": {
     "end_time": "2018-10-07T21:36:43.624146Z",
     "start_time": "2018-10-07T21:36:43.612521Z"
    },
    "collapsed": false
   },
   "outputs": [
    {
     "name": "stdout",
     "output_type": "stream",
     "text": [
      "  Name   = Gravitational constant\n",
      "  Value  = 6.67408e-11\n",
      "  Uncertainty  = 3.1e-15\n",
      "  Unit  = m3 / (kg s2)\n",
      "  Reference = CODATA 2014 \n",
      "\n",
      "  Name   = Speed of light in vacuum\n",
      "  Value  = 299792458.0\n",
      "  Uncertainty  = 0.0\n",
      "  Unit  = m / s\n",
      "  Reference = CODATA 2014 \n",
      "\n",
      "  Name   = Electron charge\n",
      "  Value  = 1.6021766208e-19\n",
      "  Uncertainty  = 9.8e-28\n",
      "  Unit  = C\n",
      "  Reference = CODATA 2014 \n",
      "\n",
      "  Name   = Planck constant\n",
      "  Value  = 6.62607004e-34\n",
      "  Uncertainty  = 8.1e-42\n",
      "  Unit  = J s\n",
      "  Reference = CODATA 2014 \n",
      "\n",
      "  Name   = Electron mass\n",
      "  Value  = 9.10938356e-31\n",
      "  Uncertainty  = 1.1e-38\n",
      "  Unit  = kg\n",
      "  Reference = CODATA 2014 \n",
      "\n",
      "  Name   = Boltzmann constant\n",
      "  Value  = 1.38064852e-23\n",
      "  Uncertainty  = 7.9e-30\n",
      "  Unit  = J / K\n",
      "  Reference = CODATA 2014 \n",
      "\n"
     ]
    }
   ],
   "source": [
    "print(const.G,'\\n')\n",
    "print(const.c,'\\n')\n",
    "print(const.e,'\\n')\n",
    "print(const.h,'\\n')\n",
    "print(const.m_e,'\\n')\n",
    "print(const.k_B,'\\n')"
   ]
  },
  {
   "cell_type": "code",
   "execution_count": 21,
   "metadata": {
    "ExecuteTime": {
     "end_time": "2018-10-07T21:37:16.294822Z",
     "start_time": "2018-10-07T21:37:16.286037Z"
    },
    "collapsed": false
   },
   "outputs": [
    {
     "name": "stdout",
     "output_type": "stream",
     "text": [
      "  Name   = Stefan-Boltzmann constant\n",
      "  Value  = 5.670367e-08\n",
      "  Uncertainty  = 1.3e-13\n",
      "  Unit  = W / (K4 m2)\n",
      "  Reference = CODATA 2014 \n",
      "\n"
     ]
    }
   ],
   "source": [
    "print(const.sigma_sb,'\\n')\n",
    "\n",
    "print(const.m_e,'\\n')"
   ]
  },
  {
   "cell_type": "code",
   "execution_count": 3,
   "metadata": {
    "ExecuteTime": {
     "end_time": "2018-10-07T21:31:21.574628Z",
     "start_time": "2018-10-07T21:31:21.566960Z"
    },
    "collapsed": false
   },
   "outputs": [
    {
     "name": "stdout",
     "output_type": "stream",
     "text": [
      "6.9070276711477e-11\n"
     ]
    }
   ],
   "source": [
    "kb=1.38e-23#J/K\n",
    "sigma0=8.85e-12 #F/m\n",
    "e=1.6e-19# C\n",
    "T=10**4\n",
    "ne=10**28\n",
    "\n",
    "dlength=(kb*T*sigma0/e**2/ne)**0.5\n",
    "sigma=5.6704*10**-5# Stefan-Boltzmann constant erg cm-2s-1K-4\n",
    "pc=3.08567756*10**18#cm\n",
    "print(dlength)"
   ]
  },
  {
   "cell_type": "code",
   "execution_count": null,
   "metadata": {
    "collapsed": true
   },
   "outputs": [],
   "source": []
  }
 ],
 "metadata": {
  "kernelspec": {
   "display_name": "Python 3",
   "language": "python",
   "name": "python3"
  },
  "language_info": {
   "codemirror_mode": {
    "name": "ipython",
    "version": 3
   },
   "file_extension": ".py",
   "mimetype": "text/x-python",
   "name": "python",
   "nbconvert_exporter": "python",
   "pygments_lexer": "ipython3",
   "version": "3.6.0"
  },
  "latex_envs": {
   "LaTeX_envs_menu_present": true,
   "autocomplete": true,
   "bibliofile": "biblio.bib",
   "cite_by": "apalike",
   "current_citInitial": 1,
   "eqLabelWithNumbers": true,
   "eqNumInitial": 1,
   "hotkeys": {
    "equation": "Ctrl-E",
    "itemize": "Ctrl-I"
   },
   "labels_anchors": false,
   "latex_user_defs": false,
   "report_style_numbering": false,
   "user_envs_cfg": false
  },
  "toc": {
   "nav_menu": {},
   "number_sections": true,
   "sideBar": true,
   "skip_h1_title": false,
   "toc_cell": false,
   "toc_position": {},
   "toc_section_display": "block",
   "toc_window_display": false
  }
 },
 "nbformat": 4,
 "nbformat_minor": 2
}
