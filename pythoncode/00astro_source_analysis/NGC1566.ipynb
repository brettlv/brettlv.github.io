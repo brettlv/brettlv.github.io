{
 "cells": [
  {
   "cell_type": "markdown",
   "metadata": {},
   "source": [
    "# import"
   ]
  },
  {
   "cell_type": "code",
   "execution_count": null,
   "metadata": {
    "collapsed": true
   },
   "outputs": [],
   "source": []
  },
  {
   "cell_type": "code",
   "execution_count": 3,
   "metadata": {
    "ExecuteTime": {
     "end_time": "2021-05-18T03:02:58.707378Z",
     "start_time": "2021-05-18T03:02:58.704771Z"
    },
    "scrolled": false
   },
   "outputs": [],
   "source": [
    "import matplotlib.pyplot as plt\n",
    "#plt.style.available"
   ]
  },
  {
   "cell_type": "code",
   "execution_count": 5,
   "metadata": {
    "ExecuteTime": {
     "end_time": "2021-05-18T03:03:07.209108Z",
     "start_time": "2021-05-18T03:03:06.442553Z"
    }
   },
   "outputs": [],
   "source": [
    "from pylab import *\n",
    "from matplotlib.ticker import MultipleLocator, FormatStrFormatter\n",
    "import matplotlib.pyplot as plt\n",
    "import numpy as np\n",
    "import pandas as pd\n",
    "#import pyfits\n",
    "\n",
    "\n",
    "from matplotlib.ticker import NullFormatter  # useful for `logit` scale\n",
    "from astropy.time import Time\n",
    "\n",
    "from astropy.stats import LombScargle\n",
    "#plt.style.use('seaborn-whitegrid')\n",
    "\n",
    "%matplotlib inline\n",
    "%config InlineBackend.figure_format='svg'\n",
    "#%config InlineBackend.figure_format='retina'"
   ]
  },
  {
   "cell_type": "markdown",
   "metadata": {},
   "source": [
    "## def"
   ]
  },
  {
   "cell_type": "code",
   "execution_count": null,
   "metadata": {
    "ExecuteTime": {
     "end_time": "2020-12-14T14:51:33.886240Z",
     "start_time": "2020-12-14T14:51:33.875876Z"
    },
    "collapsed": true
   },
   "outputs": [],
   "source": [
    "def set_ax_tick(ax):\n",
    "    ax.xaxis.set_tick_params(which='major', size=10, width=2, direction='in', top='on',)\n",
    "    ax.xaxis.set_tick_params(which='minor', size=5, width=2, direction='in', top='on')\n",
    "    ax.yaxis.set_tick_params(which='major', size=10, width=2, direction='in', right='on')\n",
    "    ax.yaxis.set_tick_params(which='minor', size=5, width=2, direction='in', right='on')\n",
    "\n",
    "def set_ax_locator(ax,xma=1,xmi=0.2,yma=1,ymi=0.2):\n",
    "    ax.xaxis.set_major_locator(mpl.ticker.MultipleLocator(xma))\n",
    "    ax.xaxis.set_minor_locator(mpl.ticker.MultipleLocator(xmi))\n",
    "    ax.yaxis.set_major_locator(mpl.ticker.MultipleLocator(yma))\n",
    "    ax.yaxis.set_minor_locator(mpl.ticker.MultipleLocator(ymi))"
   ]
  },
  {
   "cell_type": "markdown",
   "metadata": {},
   "source": [
    "# AB magnitude System"
   ]
  },
  {
   "cell_type": "code",
   "execution_count": null,
   "metadata": {
    "collapsed": true
   },
   "outputs": [],
   "source": [
    "This magnitude system is defined such that, when monochromatic flux \n",
    "\n",
    "f is measured in erg sec^-1 cm^-2 Hz^-1,\n",
    "\n",
    "m(AB) = -2.5 log(f) - 48.60\n",
    "\n",
    "mAB = mVega + ∆m\n",
    "\n",
    "f= 10**((-48.6-mVega - ∆m)/2.5)"
   ]
  },
  {
   "cell_type": "code",
   "execution_count": null,
   "metadata": {
    "collapsed": true
   },
   "outputs": [],
   "source": []
  },
  {
   "cell_type": "markdown",
   "metadata": {},
   "source": [
    "# wise"
   ]
  },
  {
   "cell_type": "markdown",
   "metadata": {},
   "source": [
    "## Vega to AB Magnitudes\n"
   ]
  },
  {
   "cell_type": "code",
   "execution_count": null,
   "metadata": {
    "collapsed": true
   },
   "outputs": [],
   "source": [
    "(mAB = mVega + Δm)"
   ]
  },
  {
   "cell_type": "code",
   "execution_count": null,
   "metadata": {
    "ExecuteTime": {
     "end_time": "2020-12-14T14:53:08.957011Z",
     "start_time": "2020-12-14T14:53:08.928795Z"
    },
    "collapsed": true
   },
   "outputs": [],
   "source": [
    "data_allwise_epoch=pd.read_csv('/Users/brettlv/Downloads/wise_cl/NGC1566_multi_epoch.csv')\n",
    "data_neowise=pd.read_csv('/Users/brettlv/Downloads/wise_cl/NGC1566_neo.csv')\n",
    "delta_m_wise=[2.699,3.339,5.174,6.620]\n",
    "delta_m_neowise=[2.699,3.339,2.699,3.339,5.174,6.620]"
   ]
  },
  {
   "cell_type": "markdown",
   "metadata": {},
   "source": [
    "|  |$\\Delta m$|\n",
    "|  ----  | ----  |\n",
    "|W1|  2.699|\n",
    "|W2|  3.339|\n",
    "|W3|  5.174|\n",
    "|W4|  6.620|"
   ]
  },
  {
   "cell_type": "code",
   "execution_count": null,
   "metadata": {
    "collapsed": true
   },
   "outputs": [],
   "source": []
  },
  {
   "cell_type": "code",
   "execution_count": null,
   "metadata": {
    "ExecuteTime": {
     "end_time": "2020-12-14T14:53:37.746052Z",
     "start_time": "2020-12-14T14:53:33.902831Z"
    }
   },
   "outputs": [],
   "source": [
    "fig, axs = plt.subplots(1, 1,figsize=(8,8))\n",
    "axs.set_title('NGC1566_wise')\n",
    "\n",
    "for i in range(4):\n",
    "    name_mjd='mjd'\n",
    "    name_band=data_allwise_epoch.columns[i*3+8]\n",
    "    name_err=data_allwise_epoch.columns[i*3+9]\n",
    "    print(name_mjd,name_band,name_err,delta_m_wise[i])\n",
    "    data_band=data_allwise_epoch[data_allwise_epoch[name_mjd].notnull()]  \n",
    "    #mag_wise_data=pd.DataFrame({'t':data_band[name_mjd],'flux':data_band[name_band],'err':data_band[name_err]},index=None,columns=['t','flux','err'])    \n",
    "    dcf_wise_data=pd.DataFrame({'t':data_band[name_mjd],'flux':(-48.6-data_band[name_band]-delta_m_wise[i])/2.5,'err':data_band[name_err]/2.5},index=None,columns=['t','flux','err'])    \n",
    "    axs.errorbar(dcf_wise_data['t'],dcf_wise_data['flux'],dcf_wise_data['err'],fmt='.',label=name_band+'multi_epoch')\n",
    "    \n",
    "\n",
    "data_neowise_select=data_neowise.loc[:, ['w1mpro', 'w1sigmpro',\n",
    "         'w2mpro', 'w2sigmpro','w1mpro_allwise', 'w1sigmpro_allwise', 'w2mpro_allwise',\n",
    "        'w2sigmpro_allwise', 'w3mpro_allwise', 'w3sigmpro_allwise',\n",
    "        'w4mpro_allwise', 'w4sigmpro_allwise']]\n",
    "\n",
    "for i in range(6):\n",
    "    name_mjd='mjd'\n",
    "    name_band=data_neowise_select.columns[i*2]\n",
    "    name_err=data_neowise_select.columns[i*2+1]\n",
    "    print(name_mjd,name_band,name_err,delta_m_neowise[i])\n",
    "     \n",
    "    #mag_neowise_data=pd.DataFrame({'t':data_neowise[name_mjd],'flux':data_neowise[name_band],'err':data_neowise[name_err]},index=None,columns=['t','flux','err'])   \n",
    "    dcf_neowise_data=pd.DataFrame({'t':data_neowise[name_mjd],'flux':(-48.6-data_neowise[name_band]-delta_m_neowise[i])/2.5,'err':data_neowise[name_err]/2.5},index=None,columns=['t','flux','err'])\n",
    "    axs.errorbar(dcf_neowise_data['t'],dcf_neowise_data['flux'],dcf_neowise_data['err'],fmt='.',label=name_band+'neo')\n",
    "    \n",
    "axs.legend(loc=[1.0,0.7])\n",
    "#axs.invert_yaxis()\n",
    "  \n",
    "axs.set_ylabel('log_F')    \n",
    "#axs.set_ylabel('magnitude(AB)')\n",
    "axs.set_xlabel('mjd')\n",
    "plt.tight_layout()\n",
    "plt.savefig('/Users/brettlv/Downloads/NGC1566/wise_lc.png',dpi=400)"
   ]
  },
  {
   "cell_type": "markdown",
   "metadata": {},
   "source": [
    "# Swift"
   ]
  },
  {
   "cell_type": "markdown",
   "metadata": {
    "collapsed": true
   },
   "source": [
    "# XRT-fit"
   ]
  },
  {
   "cell_type": "code",
   "execution_count": null,
   "metadata": {
    "ExecuteTime": {
     "end_time": "2020-12-14T14:52:41.786199Z",
     "start_time": "2020-12-14T14:52:41.761554Z"
    }
   },
   "outputs": [],
   "source": [
    "data_xrt_fit_NGC1566 = pd.read_csv(\"/Users/brettlv/Downloads/wise_cl/xrt_fit_result/NGC1566_xrt_fit.txt\",delimiter='\\s+',header=0)  "
   ]
  },
  {
   "cell_type": "code",
   "execution_count": null,
   "metadata": {
    "ExecuteTime": {
     "end_time": "2020-12-14T14:52:43.665505Z",
     "start_time": "2020-12-14T14:52:43.635913Z"
    }
   },
   "outputs": [],
   "source": [
    "data_xrt_fit_NGC1566.head()"
   ]
  },
  {
   "cell_type": "markdown",
   "metadata": {},
   "source": [
    "## F-gamma"
   ]
  },
  {
   "cell_type": "code",
   "execution_count": null,
   "metadata": {
    "ExecuteTime": {
     "end_time": "2020-12-14T14:54:15.608027Z",
     "start_time": "2020-12-14T14:54:13.516453Z"
    }
   },
   "outputs": [],
   "source": [
    "fig = plt.figure(figsize=(6, 6))\n",
    "#fig.subplots_adjust(left=0.1, right=0.85, bottom=0.12, top=0.95)\n",
    "ax=fig.add_subplot(1,1,1)\n",
    "\n",
    "\n",
    "lower_error_f = data_xrt_fit_NGC1566['xflux_lo']\n",
    "upper_error_f = data_xrt_fit_NGC1566['xflux_up']\n",
    "lower_error_g = data_xrt_fit_NGC1566['gamma_lo']\n",
    "upper_error_g = data_xrt_fit_NGC1566['gamma_up']\n",
    "asymmetric_error_f = [lower_error_f, upper_error_f]\n",
    "asymmetric_error_g = [lower_error_g, upper_error_g]\n",
    "ax.semilogx()\n",
    "ax.errorbar(data_xrt_fit_NGC1566['xflux'],data_xrt_fit_NGC1566['gamma'],xerr=asymmetric_error_f,yerr=asymmetric_error_g,fmt='.',label='F-gamma') \n",
    "\n",
    "ax.grid(alpha=0.1,which='major', linestyle='--', linewidth=1)\n",
    "\n",
    "set_ax_tick(ax)\n",
    "#set_ax_locator(ax,xma=1,xmi=0.2,yma=1,ymi=0.2)\n",
    "ax.yaxis.set_major_locator(mpl.ticker.MultipleLocator(0.5))\n",
    "ax.yaxis.set_minor_locator(mpl.ticker.MultipleLocator(0.25))\n",
    "    \n",
    "plt.rcParams['font.size'] = 18\n",
    "plt.rcParams['axes.linewidth'] = 2\n",
    "\n",
    "plt.xlabel(r'$F_\\mathregular{1-10\\,keV}\\mathregular{(erg \\cdot cm^{-2} s^{-1})}$')\n",
    "plt.ylabel(r'$\\Gamma$')\n",
    "plt.ylim(0.3,2.7)\n",
    "#plt.xlim(5e-13,2.e-10)\n",
    "\n",
    "plt.subplots_adjust(hspace = 0.0)\n",
    "fig.savefig('/Users/brettlv/Downloads/NGC1566/NGC1566_Gamma_F.png', \n",
    "            dpi=400, transparent=False, bbox_inches='tight')"
   ]
  },
  {
   "cell_type": "markdown",
   "metadata": {},
   "source": [
    "## XRT-count"
   ]
  },
  {
   "cell_type": "code",
   "execution_count": null,
   "metadata": {
    "collapsed": true
   },
   "outputs": [],
   "source": [
    "data_xrt_pc_NGC1566 = pd.read_table(\"/Users/brettlv/Downloads/NGC1566/PC.qdp.txt\",delimiter='\\s+',header=0)  \n",
    "data_xrt_wt_NGC1566 = pd.read_table(\"/Users/brettlv/Downloads/NGC1566/WT.qdp.txt\",delimiter='\\s+',header=0)  \n",
    "\n",
    "fig, axs = plt.subplots(2, 1,figsize=(8,8))\n",
    "axs[0].set_title('NGC1566_xrt_pc')\n",
    "axs[1].set_title('NGC1566_xrt_wt')\n",
    "\n",
    "\n",
    "name_band_pc='xrt_pc'\n",
    "name_band_wt='xrt_wt'\n",
    "\n",
    "lower_error_pc = -data_xrt_pc_NGC1566['Rateneg']\n",
    "upper_error_pc = data_xrt_pc_NGC1566['Ratepos']\n",
    "asymmetric_error_pc = [lower_error_pc, upper_error_pc]\n",
    "axs[0].errorbar(data_xrt_pc_NGC1566['mjd'],data_xrt_pc_NGC1566['Rate'],yerr=asymmetric_error_pc,fmt='.',label=name_band_pc)\n",
    "\n",
    "\n",
    "lower_error_wt = -data_xrt_wt_NGC1566['Rateneg']\n",
    "upper_error_wt = data_xrt_wt_NGC1566['Ratepos']\n",
    "asymmetric_error_wt = [lower_error_wt, upper_error_wt]\n",
    "axs[1].errorbar(data_xrt_wt_NGC1566['mjd'],data_xrt_wt_NGC1566['Rate'],yerr=asymmetric_error_wt,fmt='.',label=name_band_wt)\n",
    "\n",
    "\n",
    "timerangel,timeranger=(58000,59100)\n",
    "axs[0].set_xlim(timerangel,timeranger)\n",
    "axs[1].set_xlim(timerangel,timeranger)\n",
    "\n",
    "axs[0].legend(loc=[1.0,0.7])\n",
    "axs[1].legend(loc=[1.0,0.7])\n",
    "  \n",
    "axs[0].set_ylabel('rate')\n",
    "axs[0].set_xlabel('mjd')\n",
    "axs[1].set_ylabel('rate')\n",
    "axs[1].set_xlabel('mjd')\n",
    "  \n",
    "plt.tight_layout()\n",
    "plt.savefig('/Users/brettlv/Downloads/NGC1566/qdp_xrt_lc%d-%d.png'%(timerangel,timeranger),dpi=400)\n"
   ]
  },
  {
   "cell_type": "markdown",
   "metadata": {},
   "source": [
    "# UVOT"
   ]
  },
  {
   "cell_type": "code",
   "execution_count": null,
   "metadata": {
    "ExecuteTime": {
     "end_time": "2020-12-14T14:54:36.650102Z",
     "start_time": "2020-12-14T14:54:36.612955Z"
    },
    "collapsed": true
   },
   "outputs": [],
   "source": [
    "data_ubb_NGC1566 = pd.read_csv(\"/Users/brettlv/Downloads/wise_cl/fig/NGC1566_ubb_sum.csv\",delimiter='|',header=0)  \n",
    "data_um2_NGC1566 = pd.read_csv(\"/Users/brettlv/Downloads/wise_cl/fig/NGC1566_um2_sum.csv\",delimiter='|',header=0)  \n",
    "\n",
    "\n",
    "data_uuu_NGC1566 = pd.read_csv(\"/Users/brettlv/Downloads/wise_cl/fig/NGC1566_uuu_sum.csv\",delimiter='|',header=0)  \n",
    "data_uvv_NGC1566 = pd.read_csv(\"/Users/brettlv/Downloads/wise_cl/fig/NGC1566_uvv_sum.csv\",delimiter='|',header=0)  \n",
    "\n",
    "data_uw1_NGC1566 = pd.read_csv(\"/Users/brettlv/Downloads/wise_cl/fig/NGC1566_uw1_sum.csv\",delimiter='|',header=0)  \n",
    "data_uw2_NGC1566 = pd.read_csv(\"/Users/brettlv/Downloads/wise_cl/fig/NGC1566_uw2_sum.csv\",delimiter='|',header=0)  \n"
   ]
  },
  {
   "cell_type": "code",
   "execution_count": null,
   "metadata": {
    "ExecuteTime": {
     "end_time": "2020-12-14T14:54:42.747627Z",
     "start_time": "2020-12-14T14:54:42.738785Z"
    }
   },
   "outputs": [],
   "source": [
    "from astropy import constants\n",
    "from astropy import units as u\n",
    "UV_namelist=['v','b','u','uvw1','uvm2','uvw2']\n",
    "UV_datalist=[data_uvv_NGC1566,data_ubb_NGC1566,data_uuu_NGC1566,data_uw1_NGC1566,data_um2_NGC1566,data_uw2_NGC1566  ]\n",
    "UV_wavelengthlist=np.array([5468,4392,3465,2600,2246,1928])*u.AA#A for v,b u,w1,m2,w2\n",
    "UV_widthlist=np.array([769,975,785,693,498,657])*u.AA#A for v,b u,w1,m2,w2\n",
    "\n",
    "# https://www.mssl.ucl.ac.uk/www_astro/uvot/uvot_instrument/filterwheel/filterwheel.html\n",
    "\n",
    "#UV_wavelengthlist=np.array([5469,4392,3465,2600,2246,1928])*u.AA#A for v,b u,w1,m2,w2\n",
    "#\n",
    "\n",
    "\n",
    "UV_freqlist=(constants.c/(UV_wavelengthlist)).to(u.Hz).value"
   ]
  },
  {
   "cell_type": "code",
   "execution_count": null,
   "metadata": {
    "ExecuteTime": {
     "end_time": "2020-12-14T14:54:45.465138Z",
     "start_time": "2020-12-14T14:54:45.458965Z"
    }
   },
   "outputs": [],
   "source": [
    "UV_wavelengthlist,UV_freqlist"
   ]
  },
  {
   "cell_type": "code",
   "execution_count": null,
   "metadata": {
    "ExecuteTime": {
     "end_time": "2020-11-11T15:00:21.381007Z",
     "start_time": "2020-11-11T15:00:21.374396Z"
    }
   },
   "outputs": [],
   "source": [
    "data_xrt_fit_NGC1566.columns"
   ]
  },
  {
   "cell_type": "code",
   "execution_count": null,
   "metadata": {
    "ExecuteTime": {
     "end_time": "2020-11-11T15:00:22.337357Z",
     "start_time": "2020-11-11T15:00:22.332214Z"
    }
   },
   "outputs": [],
   "source": [
    "data_ubb_NGC1566.columns"
   ]
  },
  {
   "cell_type": "code",
   "execution_count": null,
   "metadata": {
    "collapsed": true
   },
   "outputs": [],
   "source": []
  },
  {
   "cell_type": "code",
   "execution_count": null,
   "metadata": {
    "collapsed": true
   },
   "outputs": [],
   "source": []
  },
  {
   "cell_type": "code",
   "execution_count": null,
   "metadata": {
    "collapsed": true
   },
   "outputs": [],
   "source": []
  },
  {
   "cell_type": "code",
   "execution_count": null,
   "metadata": {
    "collapsed": true
   },
   "outputs": [],
   "source": []
  },
  {
   "cell_type": "code",
   "execution_count": null,
   "metadata": {
    "collapsed": true
   },
   "outputs": [],
   "source": []
  },
  {
   "cell_type": "markdown",
   "metadata": {},
   "source": [
    "# ASAS-SN"
   ]
  },
  {
   "cell_type": "code",
   "execution_count": 6,
   "metadata": {
    "ExecuteTime": {
     "end_time": "2021-05-18T03:03:15.012556Z",
     "start_time": "2021-05-18T03:03:14.994018Z"
    }
   },
   "outputs": [],
   "source": [
    "data_ASAS_NGC1566 = pd.read_csv(\"/Users/brettlv/Downloads/NGC1566/AP36757554_ASASSN-V J042000.52-545616.7 (65.00215, -54.93797) .csv\",header=0)  "
   ]
  },
  {
   "cell_type": "code",
   "execution_count": 7,
   "metadata": {
    "ExecuteTime": {
     "end_time": "2021-05-18T03:03:16.022120Z",
     "start_time": "2021-05-18T03:03:15.996552Z"
    }
   },
   "outputs": [],
   "source": [
    "data_ASAS_NGC1566['hmjd']= data_ASAS_NGC1566['hjd']- 2400000.5"
   ]
  },
  {
   "cell_type": "code",
   "execution_count": 8,
   "metadata": {
    "ExecuteTime": {
     "end_time": "2021-05-18T03:03:17.787985Z",
     "start_time": "2021-05-18T03:03:17.784032Z"
    }
   },
   "outputs": [
    {
     "data": {
      "text/plain": [
       "Index(['hjd', 'camera', 'filter', 'mag', 'mag err', 'flux (mJy)', 'flux err',\n",
       "       'hmjd'],\n",
       "      dtype='object')"
      ]
     },
     "execution_count": 8,
     "metadata": {},
     "output_type": "execute_result"
    }
   ],
   "source": [
    "data_ASAS_NGC1566.columns"
   ]
  },
  {
   "cell_type": "code",
   "execution_count": 9,
   "metadata": {
    "ExecuteTime": {
     "end_time": "2021-05-18T03:03:38.139457Z",
     "start_time": "2021-05-18T03:03:38.111393Z"
    }
   },
   "outputs": [
    {
     "data": {
      "text/html": [
       "<div>\n",
       "<style scoped>\n",
       "    .dataframe tbody tr th:only-of-type {\n",
       "        vertical-align: middle;\n",
       "    }\n",
       "\n",
       "    .dataframe tbody tr th {\n",
       "        vertical-align: top;\n",
       "    }\n",
       "\n",
       "    .dataframe thead th {\n",
       "        text-align: right;\n",
       "    }\n",
       "</style>\n",
       "<table border=\"1\" class=\"dataframe\">\n",
       "  <thead>\n",
       "    <tr style=\"text-align: right;\">\n",
       "      <th></th>\n",
       "      <th>hjd</th>\n",
       "      <th>camera</th>\n",
       "      <th>filter</th>\n",
       "      <th>mag</th>\n",
       "      <th>mag err</th>\n",
       "      <th>flux (mJy)</th>\n",
       "      <th>flux err</th>\n",
       "      <th>hmjd</th>\n",
       "    </tr>\n",
       "  </thead>\n",
       "  <tbody>\n",
       "    <tr>\n",
       "      <th>294</th>\n",
       "      <td>2.456830e+06</td>\n",
       "      <td>be</td>\n",
       "      <td>V</td>\n",
       "      <td>11.904</td>\n",
       "      <td>0.02</td>\n",
       "      <td>66.421</td>\n",
       "      <td>1.222</td>\n",
       "      <td>56829.45076</td>\n",
       "    </tr>\n",
       "    <tr>\n",
       "      <th>91</th>\n",
       "      <td>2.456834e+06</td>\n",
       "      <td>be</td>\n",
       "      <td>V</td>\n",
       "      <td>11.922</td>\n",
       "      <td>0.02</td>\n",
       "      <td>65.339</td>\n",
       "      <td>1.202</td>\n",
       "      <td>56833.43126</td>\n",
       "    </tr>\n",
       "    <tr>\n",
       "      <th>112</th>\n",
       "      <td>2.456839e+06</td>\n",
       "      <td>be</td>\n",
       "      <td>V</td>\n",
       "      <td>11.902</td>\n",
       "      <td>0.02</td>\n",
       "      <td>66.560</td>\n",
       "      <td>1.225</td>\n",
       "      <td>56838.43952</td>\n",
       "    </tr>\n",
       "    <tr>\n",
       "      <th>31</th>\n",
       "      <td>2.456847e+06</td>\n",
       "      <td>be</td>\n",
       "      <td>V</td>\n",
       "      <td>11.925</td>\n",
       "      <td>0.02</td>\n",
       "      <td>65.126</td>\n",
       "      <td>1.198</td>\n",
       "      <td>56846.41803</td>\n",
       "    </tr>\n",
       "    <tr>\n",
       "      <th>89</th>\n",
       "      <td>2.456849e+06</td>\n",
       "      <td>be</td>\n",
       "      <td>V</td>\n",
       "      <td>11.902</td>\n",
       "      <td>0.02</td>\n",
       "      <td>66.547</td>\n",
       "      <td>1.224</td>\n",
       "      <td>56848.40158</td>\n",
       "    </tr>\n",
       "    <tr>\n",
       "      <th>...</th>\n",
       "      <td>...</td>\n",
       "      <td>...</td>\n",
       "      <td>...</td>\n",
       "      <td>...</td>\n",
       "      <td>...</td>\n",
       "      <td>...</td>\n",
       "      <td>...</td>\n",
       "      <td>...</td>\n",
       "    </tr>\n",
       "    <tr>\n",
       "      <th>9</th>\n",
       "      <td>2.458378e+06</td>\n",
       "      <td>be</td>\n",
       "      <td>V</td>\n",
       "      <td>11.855</td>\n",
       "      <td>0.02</td>\n",
       "      <td>69.512</td>\n",
       "      <td>1.279</td>\n",
       "      <td>58377.23678</td>\n",
       "    </tr>\n",
       "    <tr>\n",
       "      <th>65</th>\n",
       "      <td>2.458383e+06</td>\n",
       "      <td>be</td>\n",
       "      <td>V</td>\n",
       "      <td>11.851</td>\n",
       "      <td>0.02</td>\n",
       "      <td>69.757</td>\n",
       "      <td>1.284</td>\n",
       "      <td>58382.35619</td>\n",
       "    </tr>\n",
       "    <tr>\n",
       "      <th>231</th>\n",
       "      <td>2.458384e+06</td>\n",
       "      <td>be</td>\n",
       "      <td>V</td>\n",
       "      <td>11.862</td>\n",
       "      <td>0.02</td>\n",
       "      <td>69.043</td>\n",
       "      <td>1.270</td>\n",
       "      <td>58383.22370</td>\n",
       "    </tr>\n",
       "    <tr>\n",
       "      <th>14</th>\n",
       "      <td>2.458385e+06</td>\n",
       "      <td>be</td>\n",
       "      <td>V</td>\n",
       "      <td>11.842</td>\n",
       "      <td>0.02</td>\n",
       "      <td>70.337</td>\n",
       "      <td>1.294</td>\n",
       "      <td>58384.22022</td>\n",
       "    </tr>\n",
       "    <tr>\n",
       "      <th>269</th>\n",
       "      <td>2.458386e+06</td>\n",
       "      <td>be</td>\n",
       "      <td>V</td>\n",
       "      <td>11.859</td>\n",
       "      <td>0.02</td>\n",
       "      <td>69.231</td>\n",
       "      <td>1.274</td>\n",
       "      <td>58385.22843</td>\n",
       "    </tr>\n",
       "  </tbody>\n",
       "</table>\n",
       "<p>316 rows × 8 columns</p>\n",
       "</div>"
      ],
      "text/plain": [
       "              hjd camera filter     mag  mag err  flux (mJy)  flux err  \\\n",
       "294  2.456830e+06     be      V  11.904     0.02      66.421     1.222   \n",
       "91   2.456834e+06     be      V  11.922     0.02      65.339     1.202   \n",
       "112  2.456839e+06     be      V  11.902     0.02      66.560     1.225   \n",
       "31   2.456847e+06     be      V  11.925     0.02      65.126     1.198   \n",
       "89   2.456849e+06     be      V  11.902     0.02      66.547     1.224   \n",
       "..            ...    ...    ...     ...      ...         ...       ...   \n",
       "9    2.458378e+06     be      V  11.855     0.02      69.512     1.279   \n",
       "65   2.458383e+06     be      V  11.851     0.02      69.757     1.284   \n",
       "231  2.458384e+06     be      V  11.862     0.02      69.043     1.270   \n",
       "14   2.458385e+06     be      V  11.842     0.02      70.337     1.294   \n",
       "269  2.458386e+06     be      V  11.859     0.02      69.231     1.274   \n",
       "\n",
       "            hmjd  \n",
       "294  56829.45076  \n",
       "91   56833.43126  \n",
       "112  56838.43952  \n",
       "31   56846.41803  \n",
       "89   56848.40158  \n",
       "..           ...  \n",
       "9    58377.23678  \n",
       "65   58382.35619  \n",
       "231  58383.22370  \n",
       "14   58384.22022  \n",
       "269  58385.22843  \n",
       "\n",
       "[316 rows x 8 columns]"
      ]
     },
     "execution_count": 9,
     "metadata": {},
     "output_type": "execute_result"
    }
   ],
   "source": [
    "data_ASAS_NGC1566.sort_values('hmjd')"
   ]
  },
  {
   "cell_type": "code",
   "execution_count": null,
   "metadata": {},
   "outputs": [],
   "source": []
  },
  {
   "cell_type": "markdown",
   "metadata": {},
   "source": [
    "## jd_MJD_HJD"
   ]
  },
  {
   "cell_type": "markdown",
   "metadata": {},
   "source": [
    "An alternative to JD is the Modified Julian Date (MJD), an abbreviated, 5-digit version of the Julian Date defined as:\n",
    "\n",
    "    MJD = JD - 2400000.5"
   ]
  },
  {
   "cell_type": "code",
   "execution_count": null,
   "metadata": {
    "ExecuteTime": {
     "end_time": "2020-11-11T16:36:27.417744Z",
     "start_time": "2020-11-11T16:36:27.413821Z"
    },
    "collapsed": true
   },
   "outputs": [],
   "source": [
    "from __future__ import print_function, division\n",
    "from PyAstronomy import pyasl\n",
    "import datetime"
   ]
  },
  {
   "cell_type": "code",
   "execution_count": null,
   "metadata": {
    "ExecuteTime": {
     "end_time": "2020-11-11T16:38:58.917974Z",
     "start_time": "2020-11-11T16:38:58.907189Z"
    }
   },
   "outputs": [],
   "source": [
    "jd=data_ASAS_NGC1566['hjd'][0]\n",
    "\n",
    "mjd=jd-2400000.5\n",
    "\n",
    "print(data_ASAS_NGC1566['hjd'][0],mjd)\n",
    "\n",
    "print(\"year = %4d, month = %2d, day = %2d, hour = %5.3f\" \\\n",
    "      % tuple(pyasl.daycnv(jd)))\n",
    "print()\n",
    "\n",
    "print(\"year = %4d, month = %2d, day = %2d, \\\n",
    "      hour = %2d, minute = %2d, seconds = %2d, microseconds = %6d\" \\\n",
    "      % tuple(pyasl.daycnv(jd, mode='dtlist')))\n",
    "      \n",
    "print()\n",
    "dt = pyasl.daycnv(jd, mode='dt')\n",
    "print(\"Datetime object: \", dt)"
   ]
  },
  {
   "cell_type": "code",
   "execution_count": null,
   "metadata": {
    "ExecuteTime": {
     "end_time": "2020-11-11T16:47:19.591651Z",
     "start_time": "2020-11-11T16:47:19.574808Z"
    }
   },
   "outputs": [],
   "source": [
    "print(\"year = %4d, month = %2d, day = %2d, hour = %5.3f\" \\\n",
    "      % tuple(pyasl.daycnv(jd)))\n",
    "print()\n",
    "\n",
    "# Convert calendar date to JD\n",
    "dt = datetime.datetime(1968, 5, 23, 12)\n",
    "print(\"Input date: \", dt)\n",
    "print(\"Corresponding Julian date: \", pyasl.jdcnv(dt))\n",
    "print(\"Corresponding reduced Julian date: \", pyasl.juldate(dt))\n",
    "print(\"Corresponds to weekday: \", pyasl.weekday(dt))\n",
    "print()\n",
    "\n",
    "# Get current Julian date and convert to heliocentric date\n",
    "cjd = pyasl.get_juldate()\n",
    "print(\"Current Julian date: \", cjd)\n",
    "print(\"Current modified Julian date: \", cjd-2400000.5)\n",
    "\n",
    "#65.001750  -54.937806 NGC1566\n",
    "ra=65.001750 \n",
    "dec=-54.937806\n",
    "\n",
    "print(\"Current (reduced) heliocentric Julian date (ra=%s deg, dec=%s deg): \"%(ra,dec),'\\n',\\\n",
    "      pyasl.helio_jd(cjd-2.4e6-0.5, ra, dec,),'\\n',\n",
    "      pyasl.helio_jd(cjd-2.4e6-0.5, ra, dec,TIME_DIFF=True),'second')"
   ]
  },
  {
   "cell_type": "code",
   "execution_count": null,
   "metadata": {
    "ExecuteTime": {
     "end_time": "2020-11-11T16:54:39.127605Z",
     "start_time": "2020-11-11T16:54:38.786804Z"
    },
    "collapsed": true
   },
   "outputs": [],
   "source": [
    "from astropy import time, coordinates as coord, units as u\n",
    "ip_NGC1566 = coord.SkyCoord(ra,dec,unit=(u.deg, u.deg), frame='icrs')"
   ]
  },
  {
   "cell_type": "code",
   "execution_count": null,
   "metadata": {
    "ExecuteTime": {
     "end_time": "2020-11-11T16:54:44.061254Z",
     "start_time": "2020-11-11T16:54:44.052989Z"
    }
   },
   "outputs": [],
   "source": [
    "ip_NGC1566 "
   ]
  },
  {
   "cell_type": "markdown",
   "metadata": {},
   "source": [
    "## converted the same way to the V UVOT Swift system."
   ]
  },
  {
   "cell_type": "code",
   "execution_count": null,
   "metadata": {
    "ExecuteTime": {
     "end_time": "2020-12-14T15:25:42.338894Z",
     "start_time": "2020-12-14T15:25:42.317977Z"
    }
   },
   "outputs": [],
   "source": [
    "ASAS_data=pd.DataFrame({'t':data_ASAS_NGC1566['hmjd'],\n",
    "                            'flux':data_ASAS_NGC1566['flux (mJy)'],\n",
    "                            'err':data_ASAS_NGC1566['flux err']},\n",
    "                           index=None,columns=['t','flux','err'])   \n",
    "\n",
    "ASAS_data=ASAS_data.sort_values('t')\n",
    "ASAS_data=ASAS_data.reset_index(drop=True)\n",
    "\n",
    "print(data_uvv_NGC1566.columns[3],data_uvv_NGC1566.columns[6],data_uvv_NGC1566.columns[7])\n",
    "\n",
    "data_uv=pd.DataFrame({'t':data_uvv_NGC1566[data_uvv_NGC1566.columns[3]],\n",
    "                          'flux':data_uvv_NGC1566[data_uvv_NGC1566.columns[6]],\n",
    "                          'err':data_uvv_NGC1566[data_uvv_NGC1566.columns[7]]},\n",
    "                         index=None,columns=['t','flux','err'])\n",
    "data_uv=data_uv.sort_values('t')\n",
    "data_uv=data_uv.reset_index(drop=True)\n",
    "\n",
    "print(ASAS_data.columns,data_uv.columns)"
   ]
  },
  {
   "cell_type": "markdown",
   "metadata": {
    "ExecuteTime": {
     "end_time": "2020-12-14T14:59:31.571370Z",
     "start_time": "2020-12-14T14:59:31.548878Z"
    }
   },
   "source": [
    "dcf_data_uv"
   ]
  },
  {
   "cell_type": "markdown",
   "metadata": {
    "ExecuteTime": {
     "end_time": "2020-12-14T14:59:48.570563Z",
     "start_time": "2020-12-14T14:59:48.547351Z"
    }
   },
   "source": [
    "ASAS_data"
   ]
  },
  {
   "cell_type": "code",
   "execution_count": null,
   "metadata": {
    "collapsed": true
   },
   "outputs": [],
   "source": []
  },
  {
   "cell_type": "code",
   "execution_count": null,
   "metadata": {
    "ExecuteTime": {
     "end_time": "2020-12-15T10:10:34.126558Z",
     "start_time": "2020-12-15T10:10:33.917889Z"
    },
    "scrolled": true
   },
   "outputs": [],
   "source": [
    "def get_simultaneous_data(ASAS_data,data_uv_select,timebin=1.0):\n",
    "    for index,j in enumerate(data_uv_select['t']):\n",
    "        mjd_near_i=np.argmin(abs(ASAS_data['t']-j))         \n",
    "        mjd_near=ASAS_data['t'][mjd_near_i] \n",
    "        if abs(mjd_near-j)<timebin:\n",
    "            data_uv_select.loc[index,'f_ASAS'] = ASAS_data.iloc[mjd_near_i]['flux']\n",
    "            data_uv_select.loc[index,'t_ASAS'] = ASAS_data.iloc[mjd_near_i]['t']\n",
    "            \n",
    "    overlap_data_V=  data_uv_select[data_uv_select['f_ASAS']!=0]                 \n",
    "    return overlap_data_V\n",
    "\n",
    "data_uv_select=data_uv.copy()\n",
    "data_uv_select['f_ASAS']=0\n",
    "data_uv_select['t_ASAS']=0\n",
    "overlap_data_V=get_simultaneous_data(ASAS_data,data_uv_select,timebin=1.0)"
   ]
  },
  {
   "cell_type": "code",
   "execution_count": null,
   "metadata": {
    "ExecuteTime": {
     "end_time": "2020-12-15T10:38:52.651697Z",
     "start_time": "2020-12-15T10:38:51.808122Z"
    }
   },
   "outputs": [],
   "source": [
    "overlap_data_V['delta_f']=overlap_data_V['f_ASAS']-overlap_data_V['flux']"
   ]
  },
  {
   "cell_type": "code",
   "execution_count": null,
   "metadata": {
    "ExecuteTime": {
     "end_time": "2020-12-15T10:39:26.039711Z",
     "start_time": "2020-12-15T10:39:25.962903Z"
    }
   },
   "outputs": [],
   "source": [
    "overlap_data_V['ratio_f']=overlap_data_V['f_ASAS']/overlap_data_V['flux']"
   ]
  },
  {
   "cell_type": "code",
   "execution_count": null,
   "metadata": {
    "ExecuteTime": {
     "end_time": "2020-12-15T10:39:39.825941Z",
     "start_time": "2020-12-15T10:39:39.806533Z"
    }
   },
   "outputs": [],
   "source": [
    "overlap_data_V"
   ]
  },
  {
   "cell_type": "code",
   "execution_count": null,
   "metadata": {
    "ExecuteTime": {
     "end_time": "2020-12-15T10:10:46.914024Z",
     "start_time": "2020-12-15T10:10:46.906571Z"
    }
   },
   "outputs": [],
   "source": [
    "np.average(overlap_data_V['f_ASAS']-overlap_data_V['flux'])"
   ]
  },
  {
   "cell_type": "code",
   "execution_count": null,
   "metadata": {
    "ExecuteTime": {
     "end_time": "2020-12-14T15:27:56.400710Z",
     "start_time": "2020-12-14T15:27:56.397356Z"
    }
   },
   "outputs": [],
   "source": [
    "from scipy.stats import spearmanr#\n",
    "from scipy.stats.stats import pearsonr\n",
    "\n"
   ]
  },
  {
   "cell_type": "code",
   "execution_count": null,
   "metadata": {
    "ExecuteTime": {
     "end_time": "2020-12-14T15:27:59.141510Z",
     "start_time": "2020-12-14T15:27:59.133642Z"
    }
   },
   "outputs": [],
   "source": [
    "spearmanr(overlap_data_V['f_ASAS'],overlap_data_V['flux'])"
   ]
  },
  {
   "cell_type": "code",
   "execution_count": null,
   "metadata": {
    "ExecuteTime": {
     "end_time": "2020-12-14T15:28:09.321804Z",
     "start_time": "2020-12-14T15:28:09.311293Z"
    }
   },
   "outputs": [],
   "source": [
    "pearsonr(overlap_data_V['f_ASAS'],overlap_data_V['flux'])"
   ]
  },
  {
   "cell_type": "code",
   "execution_count": null,
   "metadata": {
    "ExecuteTime": {
     "end_time": "2020-12-14T15:16:08.465161Z",
     "start_time": "2020-12-14T15:16:08.314499Z"
    }
   },
   "outputs": [],
   "source": [
    "plt.scatter(overlap_data_V['f_ASAS'],overlap_data_V['flux'])"
   ]
  },
  {
   "cell_type": "markdown",
   "metadata": {},
   "source": [
    "## NGC1566_V"
   ]
  },
  {
   "cell_type": "code",
   "execution_count": null,
   "metadata": {
    "ExecuteTime": {
     "end_time": "2020-12-21T14:37:17.651817Z",
     "start_time": "2020-12-21T14:37:17.531442Z"
    }
   },
   "outputs": [],
   "source": [
    "fig = plt.figure(figsize=(6, 6))\n",
    "#fig.subplots_adjust(left=0.1, right=0.85, bottom=0.12, top=0.95)\n",
    "ax=fig.add_subplot(1,1,1)\n",
    "#ax.set_title('NGC1566_V')\n",
    "\n",
    "offset=48.8\n",
    "\n",
    "ax.errorbar(data_ASAS_NGC1566['hmjd'],data_ASAS_NGC1566['flux (mJy)']-offset,data_ASAS_NGC1566['flux err'],fmt='.',label='ASAS_V-%.1f'%offset) \n",
    "ax.errorbar(data_uvv_NGC1566[data_uvv_NGC1566.columns[3]],data_uvv_NGC1566[data_uvv_NGC1566.columns[6]],yerr=data_uvv_NGC1566[data_uvv_NGC1566.columns[7]],fmt='.',label='UVOT_V')\n",
    "\n",
    "set_ax_tick(ax)\n",
    "\n",
    "timerangel,timeranger=(53500,59500)\n",
    "ax.set_xlim(timerangel,timeranger)\n",
    "ax.xaxis.set_tick_params(which='major', size=10, width=2, rotation=45,)\n",
    "ax.legend(loc=[1.0,0.7])\n",
    "ax.set_ylabel('Flux(mJy)')\n",
    "ax.set_xlabel('MJD')\n",
    "fig.savefig('/Users/brettlv/Downloads/NGC1566/dcf_file/V-band_%s-%s.png'%(timerangel,timeranger),\n",
    "            dpi=400,transparent=False,bbox_inches='tight')"
   ]
  },
  {
   "cell_type": "code",
   "execution_count": null,
   "metadata": {
    "ExecuteTime": {
     "end_time": "2020-12-14T15:39:06.476867Z",
     "start_time": "2020-12-14T15:39:04.512825Z"
    }
   },
   "outputs": [],
   "source": [
    "fig = plt.figure(figsize=(6, 6))\n",
    "#fig.subplots_adjust(left=0.1, right=0.85, bottom=0.12, top=0.95)\n",
    "ax=fig.add_subplot(1,1,1)\n",
    "#ax.set_title('NGC1566_V')\n",
    "\n",
    "ax.errorbar(data_ASAS_NGC1566['hmjd'],data_ASAS_NGC1566['flux (mJy)']-offset,data_ASAS_NGC1566['flux err'],fmt='.',label='ASAS_V-%.1f'%offset) \n",
    "ax.errorbar(data_uvv_NGC1566[data_uvv_NGC1566.columns[3]],data_uvv_NGC1566[data_uvv_NGC1566.columns[6]],yerr=data_uvv_NGC1566[data_uvv_NGC1566.columns[7]],fmt='.',label='UVOT_V')\n",
    "\n",
    "set_ax_tick(ax)\n",
    "\n",
    "timerangel,timeranger=(58300,58400)\n",
    "ax.set_xlim(timerangel,timeranger)\n",
    "ax.xaxis.set_tick_params(which='major', size=10, width=2, rotation=45,)\n",
    "ax.legend(loc=[1.0,0.7])\n",
    "ax.set_ylabel('Flux(mJy)')\n",
    "ax.set_xlabel('MJD')\n",
    "fig.savefig('/Users/brettlv/Downloads/NGC1566/V-band_%s-%s.png'%(timerangel,timeranger),\n",
    "            dpi=400,transparent=False,bbox_inches='tight')"
   ]
  },
  {
   "cell_type": "code",
   "execution_count": null,
   "metadata": {
    "collapsed": true
   },
   "outputs": [],
   "source": []
  },
  {
   "cell_type": "markdown",
   "metadata": {},
   "source": [
    "# XRT-f-g-UVOT-V-wise to dcf"
   ]
  },
  {
   "cell_type": "code",
   "execution_count": null,
   "metadata": {
    "collapsed": true
   },
   "outputs": [],
   "source": [
    "f= 10**((-48.6-mVega - ∆m)/2.5)"
   ]
  },
  {
   "cell_type": "code",
   "execution_count": null,
   "metadata": {
    "ExecuteTime": {
     "end_time": "2020-12-14T15:31:20.855244Z",
     "start_time": "2020-12-14T15:31:20.850879Z"
    }
   },
   "outputs": [],
   "source": [
    "offset"
   ]
  },
  {
   "cell_type": "code",
   "execution_count": null,
   "metadata": {
    "ExecuteTime": {
     "end_time": "2020-12-15T10:14:05.620188Z",
     "start_time": "2020-12-15T10:13:28.040963Z"
    }
   },
   "outputs": [],
   "source": [
    "fig, axs = plt.subplots(5, 1,figsize=(24,40))\n",
    "\n",
    "axs[0].set_title('NGC1566_XRT')\n",
    "axs[1].set_title('NGC1566_gamma_in-X-ray')\n",
    "axs[2].set_title('NGC1566_UVOT')\n",
    "axs[3].set_title('NGC1566_ASAS_V')\n",
    "axs[4].set_title('NGC1566_wise')\n",
    "\n",
    "axs[3].errorbar(data_ASAS_NGC1566['hmjd'],data_ASAS_NGC1566['flux (mJy)'],data_ASAS_NGC1566['flux err'],fmt='.',label='ASAS-SN_Vband') \n",
    "\n",
    "dcf_ASAS_data=pd.DataFrame({'t':data_ASAS_NGC1566['hmjd'],'flux':data_ASAS_NGC1566['flux (mJy)']-offset,'err':data_ASAS_NGC1566['flux err']},index=None,columns=['t','flux','err'])    \n",
    "dcf_ASAS_data=dcf_ASAS_data.sort_values('t')\n",
    "dcf_ASAS_data.to_csv('/Users/brettlv/Downloads/NGC1566/dcf_file/dcf_ASAS_V_data.csv',index=False,header=False)\n",
    "\n",
    "\n",
    "\n",
    "for i in range(4):\n",
    "    name_mjd='mjd'\n",
    "    name_band=data_allwise_epoch.columns[i*3+8]\n",
    "    name_err=data_allwise_epoch.columns[i*3+9]\n",
    "    print(name_mjd,name_band,name_err)\n",
    "    data_band=data_allwise_epoch[data_allwise_epoch[name_mjd].notnull()]\n",
    "    \n",
    "    logflux=(-48.6-data_band[name_band]-delta_m_wise[i])/2.5\n",
    "    logfluxerr= data_band[name_err]/2.5\n",
    "    \n",
    "    flux=10**(logflux)\n",
    "    fluxerr=flux*abs(logfluxerr/logflux)\n",
    "    \n",
    "    \n",
    "    #mag_wise_data=pd.DataFrame({'t':data_band[name_mjd],'flux':data_band[name_band],'err':data_band[name_err]},index=None,columns=['t','flux','err'])    \n",
    "    dcf_wise_data=pd.DataFrame({'t':data_band[name_mjd],'flux':flux,'err':fluxerr},index=None,columns=['t','flux','err'])   \n",
    "    axs[4].errorbar(dcf_wise_data['t'],dcf_wise_data['flux'],dcf_wise_data['err'],fmt='.',label=name_band+'multi_epoch')\n",
    "    dcf_wise_data=dcf_wise_data.sort_values('t')\n",
    "    dcf_wise_data.to_csv('/Users/brettlv/Downloads/NGC1566/dcf_file/dcf_wise_multi_%s_data.csv'%name_band,index=False,header=False)    \n",
    "   \n",
    "    \n",
    "data_neowise_select=data_neowise.loc[:, ['w1mpro', 'w1sigmpro',\n",
    "         'w2mpro', 'w2sigmpro','w1mpro_allwise', 'w1sigmpro_allwise', 'w2mpro_allwise',\n",
    "        'w2sigmpro_allwise', 'w3mpro_allwise', 'w3sigmpro_allwise',\n",
    "        'w4mpro_allwise', 'w4sigmpro_allwise']]\n",
    "\n",
    "for i in range(6):\n",
    "    name_mjd='mjd'\n",
    "    name_band=data_neowise_select.columns[i*2]\n",
    "    name_err=data_neowise_select.columns[i*2+1]\n",
    "    print(name_mjd,name_band,name_err)\n",
    "    \n",
    "    logflux=(-48.6-data_neowise[name_band]-delta_m_neowise[i])/2.5\n",
    "    logfluxerr=data_neowise[name_err]/2.5\n",
    "    \n",
    "    flux=10**(logflux)\n",
    "    fluxerr=flux*abs(logfluxerr/logflux)\n",
    "    \n",
    "    #mag_neowise_data=pd.DataFrame({'t':data_neowise[name_mjd],'flux':data_neowise[name_band],'err':data_neowise[name_err]},index=None,columns=['t','flux','err'])   \n",
    "    dcf_neowise_data=pd.DataFrame({'t':data_neowise[name_mjd],'flux':flux,'err':fluxerr},index=None,columns=['t','flux','err'])\n",
    "    axs[4].errorbar(dcf_neowise_data['t'],dcf_neowise_data['flux'],dcf_neowise_data['err'],fmt='.',label=name_band+'_neo') \n",
    "    dcf_neowise_data=dcf_neowise_data.sort_values('t')\n",
    "    dcf_neowise_data.to_csv('/Users/brettlv/Downloads/NGC1566/dcf_file/dcf_neowise_%s_data.csv'%name_band,index=False,header=False)\n",
    "    \n",
    "    \n",
    "\n",
    "lower_error = data_xrt_fit_NGC1566['xflux_lo']\n",
    "upper_error = data_xrt_fit_NGC1566['xflux_up']\n",
    "asymmetric_error = [lower_error, upper_error]\n",
    "axs[0].errorbar(data_xrt_fit_NGC1566['obs_time'],data_xrt_fit_NGC1566['xflux'],yerr=asymmetric_error,fmt='.',label='XRT')\n",
    "\n",
    "dcf_data_xrt_fit_NGC1566=pd.DataFrame({'t':data_xrt_fit_NGC1566['obs_time'],'flux':data_xrt_fit_NGC1566['xflux'],'err':data_xrt_fit_NGC1566['xflux_lo']},index=None,columns=['t','flux','err'])\n",
    "dcf_data_xrt_fit_NGC1566=dcf_data_xrt_fit_NGC1566.sort_values('t')\n",
    "dcf_data_xrt_fit_NGC1566.to_csv('/Users/brettlv/Downloads/NGC1566/dcf_file/dcf_xrt_fit_NGC1566.csv',index=False,header=False)\n",
    "\n",
    "dcf_data_xrt_fit_NGC1566_e12=pd.DataFrame({'t':data_xrt_fit_NGC1566['obs_time'],'flux':data_xrt_fit_NGC1566['xflux']*1.0e12,'err':data_xrt_fit_NGC1566['xflux_lo']*1.0e12},index=None,columns=['t','flux','err'])\n",
    "dcf_data_xrt_fit_NGC1566_e12=dcf_data_xrt_fit_NGC1566_e12.sort_values('t')\n",
    "dcf_data_xrt_fit_NGC1566_e12.to_csv('/Users/brettlv/Downloads/NGC1566/dcf_file/dcf_e12_xrt_fit_NGC1566.csv',index=False,header=False)\n",
    "\n",
    "\n",
    "\n",
    "lower_error = data_xrt_fit_NGC1566['gamma_lo']\n",
    "upper_error = data_xrt_fit_NGC1566['gamma_up']\n",
    "asymmetric_error = [lower_error, upper_error]\n",
    "axs[1].errorbar(data_xrt_fit_NGC1566['obs_time'],data_xrt_fit_NGC1566['gamma'],yerr=asymmetric_error,fmt='.',label='gamma')\n",
    "\n",
    "for i,j in zip(UV_namelist,UV_datalist):\n",
    "    print(j.columns[3],j.columns[6],j.columns[7])\n",
    "    axs[2].errorbar(j[j.columns[3]],j[j.columns[6]],yerr=j[j.columns[7]],fmt='.',label=i)\n",
    "    dcf_data_uv=pd.DataFrame({'t':j[j.columns[3]],'flux':j[j.columns[6]],'err':j[j.columns[7]]},index=None,columns=['t','flux','err'])\n",
    "    dcf_data_uv=dcf_data_uv.sort_values('t')\n",
    "    dcf_data_uv.to_csv('/Users/brettlv/Downloads/NGC1566/dcf_file/dcf_uvot-%s.csv'%i,index=False,header=False)\n",
    "\n",
    "   \n",
    "    \n",
    "timerangel,timeranger=(54400,59500)\n",
    "for i in range(5):\n",
    "    axs[i].set_xlim(timerangel,timeranger)\n",
    "    axs[i].legend(loc=[1.0,0.5])\n",
    "    \n",
    "#\n",
    "axs[0].set_ylabel('flux')\n",
    "axs[2].set_ylabel('mjy')\n",
    "axs[3].set_ylabel('mjy')\n",
    "axs[4].set_ylabel('log_flux')\n",
    "#axs[4].invert_yaxis()\n",
    "axs[0].set_xlabel('mjd')\n",
    "\n",
    "plt.tight_layout()\n",
    "plt.savefig('/Users/brettlv/Downloads/NGC1566/dcf_file/XRT-UVOT-ASASV_lc%d-%d.png'%(timerangel,timeranger),\n",
    "            dpi=400,transparent=False,bbox_inches='tight')\n"
   ]
  },
  {
   "cell_type": "markdown",
   "metadata": {
    "ExecuteTime": {
     "end_time": "2020-12-14T23:29:17.258801Z",
     "start_time": "2020-12-14T23:29:17.224680Z"
    }
   },
   "source": [
    "## combinedV"
   ]
  },
  {
   "cell_type": "code",
   "execution_count": null,
   "metadata": {
    "ExecuteTime": {
     "end_time": "2020-12-15T10:14:05.642540Z",
     "start_time": "2020-12-15T10:14:05.625713Z"
    }
   },
   "outputs": [],
   "source": [
    "combined_V=pd.concat([dcf_ASAS_data,data_uv],ignore_index=True)\n",
    "combined_V.to_csv('/Users/brettlv/Downloads/NGC1566/dcf_file/dcf_combined_V.csv',index=False,header=False)"
   ]
  },
  {
   "cell_type": "markdown",
   "metadata": {},
   "source": [
    "## rebin_neowise"
   ]
  },
  {
   "cell_type": "code",
   "execution_count": null,
   "metadata": {
    "ExecuteTime": {
     "end_time": "2020-12-15T10:18:24.518292Z",
     "start_time": "2020-12-15T10:18:24.343904Z"
    },
    "collapsed": true
   },
   "outputs": [],
   "source": [
    "rebin_neowise_w1=pd.read_csv('/Users/brettlv/Downloads/NGC1566/dcf_file/rebin_dcf_neowise_w1.csv',header=None)\n",
    "rebin_neowise_w2=pd.read_csv('/Users/brettlv/Downloads/NGC1566/dcf_file/rebin_dcf_neowise_w2.csv',header=None)\n",
    "rebin_neowise_w1.columns=['t','flux','err']\n",
    "rebin_neowise_w2.columns=['t','flux','err']"
   ]
  },
  {
   "cell_type": "code",
   "execution_count": null,
   "metadata": {
    "ExecuteTime": {
     "end_time": "2020-12-15T10:18:30.832932Z",
     "start_time": "2020-12-15T10:18:30.533120Z"
    }
   },
   "outputs": [],
   "source": [
    "fig, axs = plt.subplots(1, 1,figsize=(8,5))\n",
    "\n",
    "plt.errorbar(rebin_neowise_w1['t'],rebin_neowise_w1['flux'],\n",
    "             rebin_neowise_w1['err'],fmt='.',marker='*',label='w1')\n",
    "plt.errorbar(rebin_neowise_w2['t'],rebin_neowise_w2['flux'],\n",
    "             rebin_neowise_w2['err'],fmt='.',marker='*',label='w2')\n",
    "plt.legend()"
   ]
  },
  {
   "cell_type": "markdown",
   "metadata": {
    "collapsed": true
   },
   "source": [
    "\n",
    "for i in data_rebin_neowise_w1[0]:\n",
    "    axs[0].vlines(i,min(dcf_data_xrt_fit_NGC1566['flux']),max(dcf_data_xrt_fit_NGC1566['flux']))\n",
    "    \n",
    "for i in data_rebin_neowise_w1[0]:\n",
    "    axs[2].vlines(i,0,30)    \n",
    "    \n",
    "for i in data_rebin_neowise_w1[0]:\n",
    "    axs[3].vlines(i,min(dcf_ASAS_data['flux']),max(dcf_ASAS_data['flux']))\n",
    "    \n",
    "for i in data_rebin_neowise_w1[0]:\n",
    "    axs[4].vlines(i,-24.5,-23.5)"
   ]
  },
  {
   "cell_type": "code",
   "execution_count": null,
   "metadata": {
    "collapsed": true
   },
   "outputs": [],
   "source": []
  },
  {
   "cell_type": "markdown",
   "metadata": {
    "collapsed": true
   },
   "source": [
    "# dcf"
   ]
  },
  {
   "cell_type": "code",
   "execution_count": null,
   "metadata": {
    "ExecuteTime": {
     "end_time": "2020-12-15T10:19:11.911715Z",
     "start_time": "2020-12-15T10:19:11.714982Z"
    }
   },
   "outputs": [],
   "source": [
    "ls /Users/brettlv/Downloads/NGC1566/dcf_file/*.csv > /Users/brettlv/Downloads/NGC1566/dcf_file/ngc1566.txt"
   ]
  },
  {
   "cell_type": "code",
   "execution_count": null,
   "metadata": {
    "ExecuteTime": {
     "end_time": "2020-12-15T10:19:15.601433Z",
     "start_time": "2020-12-15T10:19:15.587993Z"
    },
    "collapsed": true
   },
   "outputs": [],
   "source": [
    "dcf_lists=[]\n",
    "with open ('/Users/brettlv/Downloads/NGC1566/dcf_file/ngc1566.txt','r') as f:\n",
    "    dcf_list=f.readlines()\n",
    "    for line in dcf_list:\n",
    "        dcf_lists.append(line.rstrip('\\n')) "
   ]
  },
  {
   "cell_type": "code",
   "execution_count": null,
   "metadata": {
    "ExecuteTime": {
     "end_time": "2020-12-15T10:19:26.718516Z",
     "start_time": "2020-12-15T10:19:26.710116Z"
    },
    "scrolled": true
   },
   "outputs": [],
   "source": [
    "dcf_lists"
   ]
  },
  {
   "cell_type": "code",
   "execution_count": null,
   "metadata": {
    "ExecuteTime": {
     "end_time": "2020-12-15T10:19:31.325422Z",
     "start_time": "2020-12-15T10:19:31.311368Z"
    }
   },
   "outputs": [],
   "source": [
    "for i,j in enumerate(dcf_lists):\n",
    "    print(i,j.split('/')[-1][4:-4])"
   ]
  },
  {
   "cell_type": "code",
   "execution_count": null,
   "metadata": {
    "collapsed": true
   },
   "outputs": [],
   "source": []
  },
  {
   "cell_type": "markdown",
   "metadata": {},
   "source": [
    "## def pydcf"
   ]
  },
  {
   "cell_type": "code",
   "execution_count": null,
   "metadata": {
    "ExecuteTime": {
     "end_time": "2020-12-15T16:38:47.122685Z",
     "start_time": "2020-12-15T16:38:46.846588Z"
    },
    "collapsed": true
   },
   "outputs": [],
   "source": [
    "def get_data(path):    \n",
    "    data=pd.read_csv(path,header=None)\n",
    "    return data\n",
    "\n",
    "def get_min_max(data):\n",
    "    return min(data[0]),max(data[1])\n",
    "\n",
    "def get_lc_data(data):    \n",
    "    t1,dy1,y_obs1= (data[0],data[2],data[1]) \n",
    "    return t1,dy1,y_obs1\n",
    "\n",
    "def get_new_range_data(t,dy,y_obs,rangemin,rangemax):\n",
    "    \n",
    "    t1new,dy1new,y_obs1new=t[t>=rangemin],dy[t>=rangemin],y_obs[t>=rangemin]\n",
    "    t2new,dy2new,y_obs2new=t1new[t<=rangemax],dy1new[t<=rangemax],y_obs1new[t<=rangemax]   \n",
    "    return t2new,dy2new,y_obs2new\n",
    "\n",
    "def get_mean_interval(t):\n",
    "    return int(np.max(t)-np.min(t))/(len(t)-1)\n",
    "\n",
    "def get_interval(t):\n",
    "    return int(np.max(t)-np.min(t))\n",
    "\n",
    "\n",
    "\n",
    "\n",
    "def get_new_range_datas(m,n,dcf_lists,rangemin,rangemax):\n",
    "    path1=dcf_lists[m]\n",
    "    path2=dcf_lists[n] \n",
    "    data1=get_data(path1)\n",
    "    t1,dy1,y_obs1=get_lc_data(data1)\n",
    "    t1new,dy1new,y_obs1new=get_new_range_data(t1,dy1,y_obs1,rangemin,rangemax)\n",
    "    data2=get_data(path2)\n",
    "    t2,dy2,y_obs2=get_lc_data(data2)   \n",
    "    t2new,dy2new,y_obs2new=get_new_range_data(t2,dy2,y_obs2,rangemin,rangemax) \n",
    "    return t1new,dy1new,y_obs1new,t2new,dy2new,y_obs2new\n",
    "\n",
    "\n",
    "def get_dcf_name(m,n,dcf_lists,rangemin,rangemax,datadir):\n",
    "    path1=dcf_lists[m]\n",
    "    path2=dcf_lists[n]    \n",
    "    newpath1=path1.split('/')[-1][4:-4]\n",
    "    newpath2=path2.split('/')[-1][4:-4]\n",
    "    newfile1='%s/dcf-%s-%s-%s-%s.csv'%(datadir,rangemin,rangemax,newpath1,newpath2)\n",
    "    newfile2='%s/dcf-%s-%s-%s-%s.csv'%(datadir,rangemin,rangemax,newpath2,newpath1)  \n",
    "    return newpath1,newpath2,newfile1,newfile2\n",
    "\n",
    "\n",
    "\n",
    "def write_dcf_data(m,n,dcf_lists,rangemin,rangemax,datadir):     \n",
    "    \n",
    "    \n",
    "    t1new,dy1new,y_obs1new,t2new,dy2new,y_obs2new=get_new_range_datas(m,n,dcf_lists,rangemin,rangemax)\n",
    "    \n",
    "    y1_norm=(y_obs1new-np.average(y_obs1new))/np.std(y_obs1new)\n",
    "    y2_norm=(y_obs2new-np.average(y_obs2new))/np.std(y_obs2new)\n",
    "    \n",
    "    y1err_norm=dy1new/np.std(y_obs1new)\n",
    "    y2err_norm=dy2new/np.std(y_obs2new)\n",
    "    \n",
    "    newpath1,newpath2,newfile1,newfile2=get_dcf_name(m,n,dcf_lists,rangemin,rangemax,datadir)\n",
    "    \n",
    "    dcf_data_write1=pd.DataFrame({'t':t1new,'flux':y1_norm,'err':y1err_norm},index=None,columns=['t','flux','err'])\n",
    "    dcf_data_write2=pd.DataFrame({'t':t2new,'flux':y2_norm,'err':y2err_norm},index=None,columns=['t','flux','err'])\n",
    "    \n",
    "    dcf_data_write1=dcf_data_write1.sort_values('t')\n",
    "    dcf_data_write2=dcf_data_write2.sort_values('t')\n",
    "    \n",
    "    dcf_data_write1.to_csv(newfile1,index=False,header=False)    \n",
    "    dcf_data_write2.to_csv(newfile2,index=False,header=False)\n",
    "\n",
    "\n",
    "# In[74]:\n",
    "\n",
    "\n",
    "def get_time_lag_two_series_specific(m,n,dcf_lists,rangemin,rangemax,datadir,l_length,h_length,dt_width,w='gauss',p=2,):     \n",
    "    \n",
    "    newpath1,newpath2,newfile1,newfile2=get_dcf_name(m,n,dcf_lists,rangemin,rangemax,datadir)    \n",
    "    t1new,dy1new,y_obs1new,t2new,dy2new,y_obs2new=get_new_range_datas(m,n,dcf_lists,rangemin,rangemax)\n",
    "    \n",
    "    print('mean interval: ',newpath1,get_mean_interval(t1new))        \n",
    "    print('mean interval: ',newpath2,get_mean_interval(t2new))\n",
    "    print('timerange:',rangemin,'-',rangemax)\n",
    "    print('lag_range:',l_length,'-',h_length)\n",
    "    print('dT:',dt_width)\n",
    "    write_dcf_data(m,n,dcf_lists,rangemin,rangemax,datadir)   \n",
    "    #(newfile1,newfile2)\n",
    "    #dt_width=min(get_mean_interval(t1new),get_mean_interval(t2new))*10\n",
    "    #lh_length=min(get_interval(t1new),get_interval(t2new))*0.5\n",
    "    #print(get_mean_interval(t1new),get_mean_interval(t2new))\n",
    "    \n",
    "    command='python3 dcf_ngc1566.py %s %s %d %d %d %d %d -w=%s -p=%d -o '%(newfile1,newfile2,l_length,h_length,dt_width,rangemin,rangemax,w,p)\n",
    "    print(command)\n",
    "    os.system(command)\n",
    "\n",
    "\n",
    "# In[75]:\n",
    "\n",
    "\n",
    "def finish_specific(m,n,dcf_lists,rangemin,rangemax,l_length,h_length,dt_width):\n",
    "    datadir='/Users/brettlv/timing_analysis/pydcf/ngc1566'\n",
    "    os.chdir(datadir)\n",
    "    for i in range(3):\n",
    "        get_time_lag_two_series_specific(m,n,dcf_lists,rangemin,rangemax,datadir,l_length,h_length,dt_width,w='gauss',p=i)     \n",
    "    for i in range(3):    \n",
    "        get_time_lag_two_series_specific(m,n,dcf_lists,rangemin,rangemax,datadir,l_length,h_length,dt_width,w='slot',p=i) "
   ]
  },
  {
   "cell_type": "code",
   "execution_count": null,
   "metadata": {
    "ExecuteTime": {
     "end_time": "2020-12-15T16:30:47.765129Z",
     "start_time": "2020-12-15T16:30:47.760135Z"
    }
   },
   "outputs": [],
   "source": [
    "pwd"
   ]
  },
  {
   "cell_type": "code",
   "execution_count": null,
   "metadata": {
    "ExecuteTime": {
     "end_time": "2020-12-15T10:19:58.624879Z",
     "start_time": "2020-12-15T10:19:58.611874Z"
    }
   },
   "outputs": [],
   "source": [
    "for i,j in enumerate(dcf_lists):\n",
    "    print(i,j.split('/')[-1][4:-4])"
   ]
  },
  {
   "cell_type": "code",
   "execution_count": null,
   "metadata": {
    "ExecuteTime": {
     "end_time": "2020-12-15T09:28:48.583868Z",
     "start_time": "2020-12-15T09:28:48.565769Z"
    }
   },
   "outputs": [],
   "source": [
    "def plot_line_dcf(m,dcf_lists):\n",
    "    dcf_path=dcf_lists[m]   \n",
    "    dcf_data=pd.read_csv(dcf_path,header=None)\n",
    "    ax.errorbar(dcf_data[0], dcf_data[1],dcf_data[2],fmt='.',label=dcf_path.split('/')[-1][4:-4])  \n",
    "    \n",
    "def plot_line_dcf_mn(m,n,dcf_lists):     \n",
    "    plot_line_dcf(m,dcf_lists)    \n",
    "    plot_line_dcf(n,dcf_lists)"
   ]
  },
  {
   "cell_type": "code",
   "execution_count": null,
   "metadata": {
    "ExecuteTime": {
     "end_time": "2020-12-15T10:20:44.778979Z",
     "start_time": "2020-12-15T10:20:44.303664Z"
    }
   },
   "outputs": [],
   "source": [
    "fig, ax = plt.subplots(1, 1,figsize=(8,5))\n",
    "plot_line_dcf_mn(1,2,dcf_lists)\n",
    "ax.legend()\n",
    "time_range=overlap_timeinterval(m,n)\n",
    "#rangemin,rangemax=(58250,58950)\n",
    "rangemin,rangemax=(time_range[1],time_range[2])\n",
    "ax.set_xlim(rangemin,rangemax)"
   ]
  },
  {
   "cell_type": "code",
   "execution_count": null,
   "metadata": {
    "collapsed": true
   },
   "outputs": [],
   "source": []
  },
  {
   "cell_type": "markdown",
   "metadata": {},
   "source": [
    "## get overlap_timeinterval"
   ]
  },
  {
   "cell_type": "code",
   "execution_count": null,
   "metadata": {
    "ExecuteTime": {
     "end_time": "2020-12-14T22:48:36.026708Z",
     "start_time": "2020-12-14T22:48:36.012896Z"
    },
    "collapsed": true
   },
   "outputs": [],
   "source": [
    "if True:\n",
    "    m=3\n",
    "    n=5\n",
    "    path1=dcf_lists[m]\n",
    "    path2=dcf_lists[n]    \n",
    "    dcf_data_1=pd.read_csv(path1,header=None)\n",
    "    dcf_data_2=pd.read_csv(path2,header=None)"
   ]
  },
  {
   "cell_type": "code",
   "execution_count": null,
   "metadata": {
    "ExecuteTime": {
     "end_time": "2020-12-14T22:50:32.727233Z",
     "start_time": "2020-12-14T22:50:32.713752Z"
    },
    "collapsed": true
   },
   "outputs": [],
   "source": [
    "def overlap_timeinterval(m,n):\n",
    "    path1=dcf_lists[m]\n",
    "    path2=dcf_lists[n]    \n",
    "    dcf_data_1=pd.read_csv(path1,header=None)\n",
    "    dcf_data_2=pd.read_csv(path2,header=None)\n",
    "    time_range=np.array([min(dcf_data_1[0]),max(dcf_data_1[0]),min(dcf_data_2[0]),max(dcf_data_2[0])])\n",
    "    print(path1.split('/')[-1][4:-4],path2.split('/')[-1][4:-4])\n",
    "    time_range.sort()\n",
    "    return time_range"
   ]
  },
  {
   "cell_type": "code",
   "execution_count": null,
   "metadata": {
    "ExecuteTime": {
     "end_time": "2020-12-15T09:33:55.836333Z",
     "start_time": "2020-12-15T09:33:55.821288Z"
    }
   },
   "outputs": [],
   "source": [
    "m,n=(1,2)\n",
    "time_range=overlap_timeinterval(m,n)\n",
    "rangemin,rangemax=(time_range[1],time_range[2])\n",
    "print(time_range)"
   ]
  },
  {
   "cell_type": "code",
   "execution_count": null,
   "metadata": {
    "collapsed": true
   },
   "outputs": [],
   "source": []
  },
  {
   "cell_type": "markdown",
   "metadata": {},
   "source": [
    "## dcf_cal"
   ]
  },
  {
   "cell_type": "code",
   "execution_count": null,
   "metadata": {
    "ExecuteTime": {
     "end_time": "2020-12-15T16:42:11.425771Z",
     "start_time": "2020-12-15T16:41:26.792610Z"
    }
   },
   "outputs": [],
   "source": [
    "m,n=(2,1)\n",
    "time_range=overlap_timeinterval(m,n)\n",
    "rangemin,rangemax=(54000,59000)\n",
    "#rangemin,rangemax=(time_range[1],time_range[2])\n",
    "print(time_range)\n",
    "finish_specific(m,n,dcf_lists,rangemin,rangemax,l_length=-500,h_length=500,dt_width=35)"
   ]
  },
  {
   "cell_type": "code",
   "execution_count": null,
   "metadata": {
    "ExecuteTime": {
     "end_time": "2020-12-15T16:40:43.939755Z",
     "start_time": "2020-12-15T16:39:59.512292Z"
    }
   },
   "outputs": [],
   "source": [
    "m,n=(2,1)\n",
    "time_range=overlap_timeinterval(m,n)\n",
    "rangemin,rangemax=(54000,59000)\n",
    "#rangemin,rangemax=(time_range[1],time_range[2])\n",
    "print(time_range)\n",
    "finish_specific(m,n,dcf_lists,rangemin,rangemax,l_length=-200,h_length=200,dt_width=15)"
   ]
  },
  {
   "cell_type": "code",
   "execution_count": null,
   "metadata": {
    "collapsed": true
   },
   "outputs": [],
   "source": []
  },
  {
   "cell_type": "code",
   "execution_count": null,
   "metadata": {
    "collapsed": true
   },
   "outputs": [],
   "source": []
  },
  {
   "cell_type": "markdown",
   "metadata": {},
   "source": [
    "## def plot"
   ]
  },
  {
   "cell_type": "code",
   "execution_count": null,
   "metadata": {
    "ExecuteTime": {
     "end_time": "2020-12-15T10:27:36.109375Z",
     "start_time": "2020-12-15T10:27:35.361217Z"
    }
   },
   "outputs": [],
   "source": [
    "fig, ax = plt.subplots(1, 1,figsize=(8,5))\n",
    "plot_line_dcf_mn(1,20,dcf_lists)\n",
    "ax.legend()\n",
    "\n",
    "time_range=overlap_timeinterval(m,n)\n",
    "rangemin,rangemax=(time_range[0],time_range[3])\n",
    "#rangemin,rangemax=(58250,58950)\n",
    "ax.set_xlim(rangemin,rangemax)\n",
    "ax.semilogy()"
   ]
  },
  {
   "cell_type": "code",
   "execution_count": null,
   "metadata": {
    "ExecuteTime": {
     "end_time": "2020-12-15T16:44:00.604871Z",
     "start_time": "2020-12-15T16:43:14.542747Z"
    }
   },
   "outputs": [],
   "source": [
    "m,n=(1,20)\n",
    "time_range=overlap_timeinterval(m,n)\n",
    "rangemin,rangemax=(time_range[1],time_range[2])\n",
    "print(time_range)\n",
    "finish_specific(m,n,dcf_lists,rangemin,rangemax,l_length=-500,h_length=500,dt_width=25)"
   ]
  },
  {
   "cell_type": "markdown",
   "metadata": {},
   "source": [
    "# ccf"
   ]
  },
  {
   "cell_type": "code",
   "execution_count": null,
   "metadata": {
    "ExecuteTime": {
     "end_time": "2020-12-15T16:54:52.407321Z",
     "start_time": "2020-12-15T16:54:52.335792Z"
    },
    "collapsed": true
   },
   "outputs": [],
   "source": [
    "def get_ccf_name(m,n,ccf_lists,rangemin,rangemax,datadir):\n",
    "    path1=ccf_lists[m]\n",
    "    path2=ccf_lists[n]    \n",
    "    newpath1=path1.split('/')[-1][4:-4]\n",
    "    newpath2=path2.split('/')[-1][4:-4]\n",
    "    newfile1='%s/ccf-%s-%s-%s-%s.csv'%(datadir,rangemin,rangemax,newpath1,newpath2)\n",
    "    newfile2='%s/ccf-%s-%s-%s-%s.csv'%(datadir,rangemin,rangemax,newpath2,newpath1)  \n",
    "    return newpath1,newpath2,newfile1,newfile2    \n",
    "    \n",
    "def write_ccf_data(m,n,ccf_lists,rangemin,rangemax,datadir):     \n",
    "    \n",
    "    \n",
    "    t1new,dy1new,y_obs1new,t2new,dy2new,y_obs2new=get_new_range_datas(m,n,ccf_lists,rangemin,rangemax)\n",
    "    \n",
    "    y1_norm=(y_obs1new-np.average(y_obs1new))/np.std(y_obs1new)\n",
    "    y2_norm=(y_obs2new-np.average(y_obs2new))/np.std(y_obs2new)\n",
    "    \n",
    "    y1err_norm=dy1new/np.std(y_obs1new)\n",
    "    y2err_norm=dy2new/np.std(y_obs2new)\n",
    "    \n",
    "    newpath1,newpath2,newfile1,newfile2=get_ccf_name(m,n,ccf_lists,rangemin,rangemax,datadir)\n",
    "    \n",
    "    ccf_data_write1=pd.DataFrame({'t':t1new,'flux':y1_norm,'err':y1err_norm},index=None,columns=['t','flux','err'])    \n",
    "    ccf_data_write2=pd.DataFrame({'t':t2new,'flux':y2_norm,'err':y2err_norm},index=None,columns=['t','flux','err'])\n",
    "    \n",
    "    ccf_data_write1=ccf_data_write1.sort_values('t')\n",
    "    ccf_data_write2=ccf_data_write2.sort_values('t')\n",
    "    \n",
    "    ccf_data_write1.to_csv(newfile1,index=False,header=False)\n",
    "    ccf_data_write2.to_csv(newfile2,index=False,header=False) \n",
    "    \n",
    "def get_ccf(m,n,dcf_lists,rangemin,rangemax,datadir):\n",
    "    newpath1,newpath2,newfile1,newfile2=get_ccf_name(m,n,dcf_lists,rangemin,rangemax,datadir)    \n",
    "    t1new,dy1new,y_obs1new,t2new,dy2new,y_obs2new=get_new_range_datas(m,n,dcf_lists,rangemin,rangemax)\n",
    "    write_ccf_data(m,n,dcf_lists,rangemin,rangemax,datadir)               \n",
    "    command='python2 ccf_ngc1566_cpython.py %s %s %d %d'%(newfile1,newfile2,rangemin,rangemax,)\n",
    "    print(command)\n",
    "    #os.system(command)    "
   ]
  },
  {
   "cell_type": "code",
   "execution_count": null,
   "metadata": {
    "ExecuteTime": {
     "end_time": "2020-12-15T16:54:54.214775Z",
     "start_time": "2020-12-15T16:54:54.109203Z"
    }
   },
   "outputs": [],
   "source": [
    "dataccf='/Users/brettlv/timing_analysis/python_ccf_code/Release/CPython/ngc1566_ccf'\n",
    "os.chdir(dataccf)\n",
    "m,n=(2,1)\n",
    "time_range=overlap_timeinterval(m,n)\n",
    "rangemin,rangemax=(54000,59000)\n",
    "#rangemin,rangemax=(time_range[1],time_range[2])\n",
    "print(time_range)\n",
    "get_ccf(1,2,dcf_lists,rangemin,rangemax,datadir=dataccf)"
   ]
  },
  {
   "cell_type": "code",
   "execution_count": null,
   "metadata": {
    "collapsed": true
   },
   "outputs": [],
   "source": []
  },
  {
   "cell_type": "code",
   "execution_count": null,
   "metadata": {
    "collapsed": true
   },
   "outputs": [],
   "source": []
  },
  {
   "cell_type": "markdown",
   "metadata": {},
   "source": [
    "# gauss_fit"
   ]
  },
  {
   "cell_type": "markdown",
   "metadata": {},
   "source": [
    "https://docs.astropy.org/en/stable/modeling/fitting.html#simple-1-d-model-fitting"
   ]
  },
  {
   "cell_type": "code",
   "execution_count": null,
   "metadata": {
    "ExecuteTime": {
     "end_time": "2020-06-22T21:40:30.015866Z",
     "start_time": "2020-06-22T21:40:29.705646Z"
    }
   },
   "outputs": [],
   "source": [
    "import numpy as np\n",
    "import matplotlib.pyplot as plt\n",
    "from astropy.modeling import models, fitting\n",
    "from scipy.optimize import curve_fit\n",
    "# Generate fake data\n",
    "np.random.seed(0)\n",
    "\n",
    "# Fit the data using a Gaussian\n",
    "\n",
    "x=data_xrt_fit_NGC1566['obs_time']\n",
    "y=data_xrt_fit_NGC1566['xflux']*1.0e12\n",
    "x,y=select_range(x,y,56000,58600)\n",
    "\n",
    "\n",
    "param_bounds=([-np.inf,57500,0],[np.inf,58500,np.inf])\n",
    "popt, pcov = curve_fit(gauss_function, x, y, p0 = [100., 58000, 100],bounds=param_bounds)\n",
    "\n",
    "print(popt)\n",
    "\n",
    "g_init = models.Gaussian1D(amplitude=100., mean=58200, stddev=500.)\n",
    "fit_g = fitting.LevMarLSQFitter()\n",
    "g = fit_g(g_init, x, y)\n",
    "\n",
    "# Plot the data with the best-fit model\n",
    "plt.figure(figsize=(8,5))\n",
    "plt.plot(x, y, 'ko')\n",
    "\n",
    "\n",
    "x_new=np.linspace(min(x),max(x))\n",
    "plt.scatter(x_new, g(x_new), label='Gaussian')\n",
    "plt.scatter(x_new, gauss_function(x_new, *popt), label='curve_fit')\n",
    "\n",
    "plt.xlabel('mjd')\n",
    "plt.ylabel('Flux')\n",
    "plt.legend(loc=2)\n",
    "print(g)"
   ]
  },
  {
   "cell_type": "code",
   "execution_count": null,
   "metadata": {
    "ExecuteTime": {
     "end_time": "2020-06-22T20:55:01.202812Z",
     "start_time": "2020-06-22T20:55:01.196796Z"
    },
    "collapsed": true
   },
   "outputs": [],
   "source": [
    "def select_range(x,y,Tmin,Tmax):\n",
    "    x_=[]\n",
    "    y_=[]\n",
    "    for i,j in zip(x,y):\n",
    "        if i>=Tmin and i<=Tmax:\n",
    "            x_.append(i)\n",
    "            y_.append(j)\n",
    "    return  np.array(x_),np.array(y_)       \n",
    "    "
   ]
  },
  {
   "cell_type": "code",
   "execution_count": null,
   "metadata": {
    "ExecuteTime": {
     "end_time": "2020-06-22T21:26:36.612646Z",
     "start_time": "2020-06-22T21:26:36.597725Z"
    },
    "collapsed": true
   },
   "outputs": [],
   "source": [
    "def gauss_function(x, a, x0, sigma):\n",
    "    return a*np.exp(-(x-x0)**2/(2*sigma**2))\n"
   ]
  },
  {
   "cell_type": "code",
   "execution_count": null,
   "metadata": {
    "ExecuteTime": {
     "end_time": "2020-06-22T21:47:36.129039Z",
     "start_time": "2020-06-22T21:47:35.881517Z"
    }
   },
   "outputs": [],
   "source": [
    "##### import numpy as np\n",
    "import matplotlib.pyplot as plt\n",
    "from astropy.modeling import models, fitting\n",
    "\n",
    "# Generate fake data\n",
    "np.random.seed(0)\n",
    "\n",
    "# Fit the data using a Gaussian\n",
    "\n",
    "\n",
    "x=data_ASAS_NGC1566['hmjd']\n",
    "y=data_ASAS_NGC1566['flux (mJy)']\n",
    "\n",
    "x,y=select_range(x,y,58180,59000)\n",
    "\n",
    "\n",
    "\n",
    "g_init = models.Gaussian1D(amplitude=80., mean=58200, stddev=100.)\n",
    "fit_g = fitting.LevMarLSQFitter()\n",
    "g = fit_g(g_init, x, y)\n",
    "\n",
    "# Plot the data with the best-fit model\n",
    "plt.figure(figsize=(8,5))\n",
    "plt.plot(x, y, 'ko')\n",
    "x_new=np.linspace(min(x),max(x))\n",
    "plt.scatter(x_new, g(x_new), label='Gaussian')\n",
    "\n",
    "plt.xlabel('mjd')\n",
    "plt.ylabel('Flux')\n",
    "plt.legend(loc=2)\n",
    "print(g)"
   ]
  },
  {
   "cell_type": "code",
   "execution_count": null,
   "metadata": {
    "ExecuteTime": {
     "end_time": "2020-06-22T21:45:49.591877Z",
     "start_time": "2020-06-22T21:45:49.586546Z"
    }
   },
   "outputs": [],
   "source": [
    "58324-58280"
   ]
  },
  {
   "cell_type": "code",
   "execution_count": null,
   "metadata": {
    "ExecuteTime": {
     "end_time": "2020-06-22T20:57:31.478396Z",
     "start_time": "2020-06-22T20:57:30.713667Z"
    }
   },
   "outputs": [],
   "source": [
    "import numpy as np\n",
    "import matplotlib.pyplot as plt\n",
    "from astropy.modeling import models, fitting\n",
    "\n",
    "# Generate fake data\n",
    "np.random.seed(0)\n",
    "\n",
    "# Fit the data using a Gaussian\n",
    "\n",
    "\n",
    "for i in range(1,2):\n",
    "    name_mjd='mjd'\n",
    "    name_band=data_neowise_select.columns[i*2]\n",
    "    name_err=data_neowise_select.columns[i*2+1]\n",
    "    print(name_mjd,name_band,name_err)\n",
    "    mag_neowise_data=pd.DataFrame({'t':data_neowise[name_mjd],'flux':data_neowise[name_band],'err':data_neowise[name_err]},index=None,columns=['t','flux','err'])\n",
    "    dcf_neowise_data=pd.DataFrame({'t':data_neowise[name_mjd],'flux':(-48.6-data_neowise[name_band])/2.5,'err':data_neowise[name_err]/2.5},index=None,columns=['t','flux','err'])    \n",
    "\n",
    "x=dcf_neowise_data['t']\n",
    "y=dcf_neowise_data['flux']\n",
    "\n",
    "x,y=select_range(x,y,57600,59000)\n",
    "\n",
    "g_init = models.Gaussian1D(amplitude=-20., mean=58323, stddev=100.)\n",
    "fit_g = fitting.LevMarLSQFitter()\n",
    "g = fit_g(g_init, x, y)\n",
    "\n",
    "\n",
    "\n",
    "    \n",
    "    \n",
    "# Plot the data with the best-fit model\n",
    "plt.figure(figsize=(8,5))\n",
    "plt.plot(x, y, 'ko')\n",
    "\n",
    "x_new=np.linspace(min(x),max(x))\n",
    "plt.scatter(x_new, g(x_new), label='Gaussian')\n",
    "\n",
    "\n",
    "plt.xlabel('mjd')\n",
    "plt.ylabel('Flux')\n",
    "plt.legend(loc=2)\n",
    "print(g)"
   ]
  },
  {
   "cell_type": "markdown",
   "metadata": {
    "collapsed": true
   },
   "source": [
    "# [SED](./NGC1566_sed.ipynb)"
   ]
  },
  {
   "cell_type": "code",
   "execution_count": null,
   "metadata": {
    "collapsed": true
   },
   "outputs": [],
   "source": [
    "sed_ASAS_data=pd.DataFrame({'t':data_ASAS_NGC1566['hmjd'],'flux':data_ASAS_NGC1566['flux (mJy)'],'err':data_ASAS_NGC1566['flux err']},index=None,columns=['t','flux','err'])    "
   ]
  },
  {
   "cell_type": "code",
   "execution_count": null,
   "metadata": {
    "collapsed": true
   },
   "outputs": [],
   "source": []
  }
 ],
 "metadata": {
  "kernelspec": {
   "display_name": "Python 3",
   "language": "python",
   "name": "python3"
  },
  "language_info": {
   "codemirror_mode": {
    "name": "ipython",
    "version": 3
   },
   "file_extension": ".py",
   "mimetype": "text/x-python",
   "name": "python",
   "nbconvert_exporter": "python",
   "pygments_lexer": "ipython3",
   "version": "3.8.5"
  },
  "latex_envs": {
   "LaTeX_envs_menu_present": true,
   "autocomplete": true,
   "bibliofile": "biblio.bib",
   "cite_by": "apalike",
   "current_citInitial": 1,
   "eqLabelWithNumbers": true,
   "eqNumInitial": 1,
   "hotkeys": {
    "equation": "Ctrl-E",
    "itemize": "Ctrl-I"
   },
   "labels_anchors": false,
   "latex_user_defs": false,
   "report_style_numbering": false,
   "user_envs_cfg": false
  },
  "toc": {
   "nav_menu": {},
   "number_sections": true,
   "sideBar": true,
   "skip_h1_title": false,
   "toc_cell": false,
   "toc_position": {
    "height": "554px",
    "left": "0px",
    "right": "988px",
    "top": "112px",
    "width": "212px"
   },
   "toc_section_display": "block",
   "toc_window_display": true
  }
 },
 "nbformat": 4,
 "nbformat_minor": 2
}
