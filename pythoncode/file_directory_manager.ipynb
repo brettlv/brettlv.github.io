{
 "cells": [
  {
   "cell_type": "code",
   "execution_count": 2,
   "metadata": {
    "ExecuteTime": {
     "end_time": "2019-03-31T20:42:48.261287Z",
     "start_time": "2019-03-31T20:42:48.256998Z"
    },
    "collapsed": true
   },
   "outputs": [],
   "source": [
    "import os"
   ]
  },
  {
   "cell_type": "code",
   "execution_count": 43,
   "metadata": {
    "ExecuteTime": {
     "end_time": "2019-04-02T16:16:14.487615Z",
     "start_time": "2019-04-02T16:16:14.471750Z"
    },
    "collapsed": true
   },
   "outputs": [],
   "source": [
    "pathpwd='/Users/brettlv/src_heasoft/1ES1927/'"
   ]
  },
  {
   "cell_type": "code",
   "execution_count": 44,
   "metadata": {
    "ExecuteTime": {
     "end_time": "2019-04-02T16:16:15.122890Z",
     "start_time": "2019-04-02T16:16:15.117789Z"
    },
    "collapsed": true
   },
   "outputs": [],
   "source": [
    "os.chdir('/Users/brettlv/src_heasoft/1ES1927/')"
   ]
  },
  {
   "cell_type": "code",
   "execution_count": 45,
   "metadata": {
    "ExecuteTime": {
     "end_time": "2019-04-02T16:16:15.922933Z",
     "start_time": "2019-04-02T16:16:15.915443Z"
    },
    "collapsed": false
   },
   "outputs": [
    {
     "data": {
      "text/plain": [
       "'/Users/brettlv/src_heasoft/1ES1927'"
      ]
     },
     "execution_count": 45,
     "metadata": {},
     "output_type": "execute_result"
    }
   ],
   "source": [
    "pwd"
   ]
  },
  {
   "cell_type": "code",
   "execution_count": 36,
   "metadata": {
    "ExecuteTime": {
     "end_time": "2019-04-01T20:09:22.976153Z",
     "start_time": "2019-04-01T20:09:22.838610Z"
    },
    "collapsed": false
   },
   "outputs": [],
   "source": [
    "ls > list.txt"
   ]
  },
  {
   "cell_type": "code",
   "execution_count": 37,
   "metadata": {
    "ExecuteTime": {
     "end_time": "2019-04-01T20:09:25.119808Z",
     "start_time": "2019-04-01T20:09:25.115476Z"
    },
    "collapsed": false
   },
   "outputs": [],
   "source": [
    "with open('list.txt','r') as f:\n",
    "    content=f.readlines()"
   ]
  },
  {
   "cell_type": "code",
   "execution_count": 42,
   "metadata": {
    "ExecuteTime": {
     "end_time": "2019-04-01T20:10:21.099558Z",
     "start_time": "2019-04-01T20:10:21.059906Z"
    },
    "collapsed": false
   },
   "outputs": [
    {
     "name": "stdout",
     "output_type": "stream",
     "text": [
      "cd  /Users/brettlv/src_heasoft/1ES1927/1200190102/xti/event_cl/\n",
      "xselect\n",
      "read event ./ni1200190102_0mpu7_cl.evt\n",
      "extract curve\n",
      "save curve src.lc\n",
      "extract spectrum\n",
      "save spectrum src.pha\n",
      "exit\n",
      "\n",
      "\n",
      "cd  /Users/brettlv/src_heasoft/1ES1927/1200190103/xti/event_cl/\n",
      "xselect\n",
      "read event ./ni1200190103_0mpu7_cl.evt\n",
      "extract curve\n",
      "save curve src.lc\n",
      "extract spectrum\n",
      "save spectrum src.pha\n",
      "exit\n",
      "\n",
      "\n",
      "cd  /Users/brettlv/src_heasoft/1ES1927/1200190104/xti/event_cl/\n",
      "xselect\n",
      "read event ./ni1200190104_0mpu7_cl.evt\n",
      "extract curve\n",
      "save curve src.lc\n",
      "extract spectrum\n",
      "save spectrum src.pha\n",
      "exit\n",
      "\n",
      "\n",
      "cd  /Users/brettlv/src_heasoft/1ES1927/1200190106/xti/event_cl/\n",
      "xselect\n",
      "read event ./ni1200190106_0mpu7_cl.evt\n",
      "extract curve\n",
      "save curve src.lc\n",
      "extract spectrum\n",
      "save spectrum src.pha\n",
      "exit\n",
      "\n",
      "\n",
      "cd  /Users/brettlv/src_heasoft/1ES1927/1200190107/xti/event_cl/\n",
      "xselect\n",
      "read event ./ni1200190107_0mpu7_cl.evt\n",
      "extract curve\n",
      "save curve src.lc\n",
      "extract spectrum\n",
      "save spectrum src.pha\n",
      "exit\n",
      "\n",
      "\n",
      "cd  /Users/brettlv/src_heasoft/1ES1927/1200190108/xti/event_cl/\n",
      "xselect\n",
      "read event ./ni1200190108_0mpu7_cl.evt\n",
      "extract curve\n",
      "save curve src.lc\n",
      "extract spectrum\n",
      "save spectrum src.pha\n",
      "exit\n",
      "\n",
      "\n",
      "cd  /Users/brettlv/src_heasoft/1ES1927/1200190128/xti/event_cl/\n",
      "xselect\n",
      "read event ./ni1200190128_0mpu7_cl.evt\n",
      "extract curve\n",
      "save curve src.lc\n",
      "extract spectrum\n",
      "save spectrum src.pha\n",
      "exit\n",
      "\n",
      "\n",
      "cd  /Users/brettlv/src_heasoft/1ES1927/1200190129/xti/event_cl/\n",
      "xselect\n",
      "read event ./ni1200190129_0mpu7_cl.evt\n",
      "extract curve\n",
      "save curve src.lc\n",
      "extract spectrum\n",
      "save spectrum src.pha\n",
      "exit\n",
      "\n",
      "\n",
      "cd  /Users/brettlv/src_heasoft/1ES1927/1200190132/xti/event_cl/\n",
      "xselect\n",
      "read event ./ni1200190132_0mpu7_cl.evt\n",
      "extract curve\n",
      "save curve src.lc\n",
      "extract spectrum\n",
      "save spectrum src.pha\n",
      "exit\n",
      "\n",
      "\n",
      "cd  /Users/brettlv/src_heasoft/1ES1927/1200190133/xti/event_cl/\n",
      "xselect\n",
      "read event ./ni1200190133_0mpu7_cl.evt\n",
      "extract curve\n",
      "save curve src.lc\n",
      "extract spectrum\n",
      "save spectrum src.pha\n",
      "exit\n",
      "\n",
      "\n",
      "cd  /Users/brettlv/src_heasoft/1ES1927/1200190159/xti/event_cl/\n",
      "xselect\n",
      "read event ./ni1200190159_0mpu7_cl.evt\n",
      "extract curve\n",
      "save curve src.lc\n",
      "extract spectrum\n",
      "save spectrum src.pha\n",
      "exit\n",
      "\n",
      "\n",
      "cd  /Users/brettlv/src_heasoft/1ES1927/1200190167/xti/event_cl/\n",
      "xselect\n",
      "read event ./ni1200190167_0mpu7_cl.evt\n",
      "extract curve\n",
      "save curve src.lc\n",
      "extract spectrum\n",
      "save spectrum src.pha\n",
      "exit\n",
      "\n",
      "\n",
      "cd  /Users/brettlv/src_heasoft/1ES1927/1200190184/xti/event_cl/\n",
      "xselect\n",
      "read event ./ni1200190184_0mpu7_cl.evt\n",
      "extract curve\n",
      "save curve src.lc\n",
      "extract spectrum\n",
      "save spectrum src.pha\n",
      "exit\n",
      "\n",
      "\n",
      "cd  /Users/brettlv/src_heasoft/1ES1927/1200190209/xti/event_cl/\n",
      "xselect\n",
      "read event ./ni1200190209_0mpu7_cl.evt\n",
      "extract curve\n",
      "save curve src.lc\n",
      "extract spectrum\n",
      "save spectrum src.pha\n",
      "exit\n",
      "\n",
      "\n",
      "cd  /Users/brettlv/src_heasoft/1ES1927/1200190212/xti/event_cl/\n",
      "xselect\n",
      "read event ./ni1200190212_0mpu7_cl.evt\n",
      "extract curve\n",
      "save curve src.lc\n",
      "extract spectrum\n",
      "save spectrum src.pha\n",
      "exit\n",
      "\n",
      "\n",
      "cd  /Users/brettlv/src_heasoft/1ES1927/1200190230/xti/event_cl/\n",
      "xselect\n",
      "read event ./ni1200190230_0mpu7_cl.evt\n",
      "extract curve\n",
      "save curve src.lc\n",
      "extract spectrum\n",
      "save spectrum src.pha\n",
      "exit\n",
      "\n",
      "\n",
      "cd  /Users/brettlv/src_heasoft/1ES1927/1200190238/xti/event_cl/\n",
      "xselect\n",
      "read event ./ni1200190238_0mpu7_cl.evt\n",
      "extract curve\n",
      "save curve src.lc\n",
      "extract spectrum\n",
      "save spectrum src.pha\n",
      "exit\n",
      "\n",
      "\n",
      "cd  /Users/brettlv/src_heasoft/1ES1927/1200190244/xti/event_cl/\n",
      "xselect\n",
      "read event ./ni1200190244_0mpu7_cl.evt\n",
      "extract curve\n",
      "save curve src.lc\n",
      "extract spectrum\n",
      "save spectrum src.pha\n",
      "exit\n",
      "\n",
      "\n",
      "cd  /Users/brettlv/src_heasoft/1ES1927/1200190272/xti/event_cl/\n",
      "xselect\n",
      "read event ./ni1200190272_0mpu7_cl.evt\n",
      "extract curve\n",
      "save curve src.lc\n",
      "extract spectrum\n",
      "save spectrum src.pha\n",
      "exit\n",
      "\n",
      "\n",
      "cd  /Users/brettlv/src_heasoft/1ES1927/1200190273/xti/event_cl/\n",
      "xselect\n",
      "read event ./ni1200190273_0mpu7_cl.evt\n",
      "extract curve\n",
      "save curve src.lc\n",
      "extract spectrum\n",
      "save spectrum src.pha\n",
      "exit\n",
      "\n",
      "\n",
      "cd  /Users/brettlv/src_heasoft/1ES1927/1200190274/xti/event_cl/\n",
      "xselect\n",
      "read event ./ni1200190274_0mpu7_cl.evt\n",
      "extract curve\n",
      "save curve src.lc\n",
      "extract spectrum\n",
      "save spectrum src.pha\n",
      "exit\n",
      "\n",
      "\n",
      "cd  /Users/brettlv/src_heasoft/1ES1927/1200190275/xti/event_cl/\n",
      "xselect\n",
      "read event ./ni1200190275_0mpu7_cl.evt\n",
      "extract curve\n",
      "save curve src.lc\n",
      "extract spectrum\n",
      "save spectrum src.pha\n",
      "exit\n",
      "\n",
      "\n",
      "cd  /Users/brettlv/src_heasoft/1ES1927/1200190277/xti/event_cl/\n",
      "xselect\n",
      "read event ./ni1200190277_0mpu7_cl.evt\n",
      "extract curve\n",
      "save curve src.lc\n",
      "extract spectrum\n",
      "save spectrum src.pha\n",
      "exit\n",
      "\n",
      "\n",
      "cd  /Users/brettlv/src_heasoft/1ES1927/1200190278/xti/event_cl/\n",
      "xselect\n",
      "read event ./ni1200190278_0mpu7_cl.evt\n",
      "extract curve\n",
      "save curve src.lc\n",
      "extract spectrum\n",
      "save spectrum src.pha\n",
      "exit\n",
      "\n",
      "\n",
      "cd  /Users/brettlv/src_heasoft/1ES1927/1200190284/xti/event_cl/\n",
      "xselect\n",
      "read event ./ni1200190284_0mpu7_cl.evt\n",
      "extract curve\n",
      "save curve src.lc\n",
      "extract spectrum\n",
      "save spectrum src.pha\n",
      "exit\n",
      "\n",
      "\n"
     ]
    }
   ],
   "source": [
    "for i,i_ in zip(content[:-4],evts[:]):\n",
    "    print('cd'+' ',pathpwd+i.rstrip()+'xti/event_cl/')\n",
    "    print('xselect')\n",
    "    print('read event ./'+i_.rstrip().split('/')[-1])\n",
    "    print('extract curve')\n",
    "    print('save curve src.lc')\n",
    "    print('extract spectrum')\n",
    "    print('save spectrum src.pha')\n",
    "    print('exit')\n",
    "    print('\\n')\n",
    "    "
   ]
  },
  {
   "cell_type": "code",
   "execution_count": null,
   "metadata": {
    "collapsed": true
   },
   "outputs": [],
   "source": []
  },
  {
   "cell_type": "code",
   "execution_count": null,
   "metadata": {
    "collapsed": true
   },
   "outputs": [],
   "source": []
  },
  {
   "cell_type": "code",
   "execution_count": null,
   "metadata": {
    "collapsed": true
   },
   "outputs": [],
   "source": []
  },
  {
   "cell_type": "code",
   "execution_count": null,
   "metadata": {
    "collapsed": true
   },
   "outputs": [],
   "source": []
  },
  {
   "cell_type": "markdown",
   "metadata": {
    "ExecuteTime": {
     "end_time": "2019-04-01T19:24:04.066687Z",
     "start_time": "2019-04-01T19:24:04.046500Z"
    }
   },
   "source": [
    "for i in content[:-6]:\n",
    "    print(pathpwd+i.rstrip()+'xti/event_cl/src.lc')"
   ]
  },
  {
   "cell_type": "code",
   "execution_count": 25,
   "metadata": {
    "ExecuteTime": {
     "end_time": "2019-04-01T19:27:24.609190Z",
     "start_time": "2019-04-01T19:27:24.598771Z"
    },
    "collapsed": false
   },
   "outputs": [
    {
     "data": {
      "text/plain": [
       "'/Users/brettlv/src_heasoft/1ES1927'"
      ]
     },
     "execution_count": 25,
     "metadata": {},
     "output_type": "execute_result"
    }
   ],
   "source": [
    "pwd"
   ]
  },
  {
   "cell_type": "code",
   "execution_count": 27,
   "metadata": {
    "ExecuteTime": {
     "end_time": "2019-04-01T19:40:25.181856Z",
     "start_time": "2019-04-01T19:40:25.020605Z"
    },
    "collapsed": false
   },
   "outputs": [
    {
     "name": "stdout",
     "output_type": "stream",
     "text": [
      "1200190103/xti/event_cl/src.lc\r\n"
     ]
    }
   ],
   "source": [
    "ls */xti/event_cl/src.lc"
   ]
  },
  {
   "cell_type": "code",
   "execution_count": 29,
   "metadata": {
    "ExecuteTime": {
     "end_time": "2019-03-31T08:28:43.168813Z",
     "start_time": "2019-03-31T08:28:43.163675Z"
    },
    "collapsed": false
   },
   "outputs": [
    {
     "data": {
      "text/plain": [
       "'/Users/brettlv/src_heasoft/1ES1927'"
      ]
     },
     "execution_count": 29,
     "metadata": {},
     "output_type": "execute_result"
    }
   ],
   "source": [
    "pwd"
   ]
  },
  {
   "cell_type": "code",
   "execution_count": 39,
   "metadata": {
    "ExecuteTime": {
     "end_time": "2019-04-01T20:10:04.531790Z",
     "start_time": "2019-04-01T20:10:04.380698Z"
    },
    "collapsed": false
   },
   "outputs": [],
   "source": [
    "ls */xti/event_cl/*_cl.evt >evt.txt"
   ]
  },
  {
   "cell_type": "code",
   "execution_count": 40,
   "metadata": {
    "ExecuteTime": {
     "end_time": "2019-04-01T20:10:06.269574Z",
     "start_time": "2019-04-01T20:10:06.265629Z"
    },
    "collapsed": true
   },
   "outputs": [],
   "source": [
    "with open('evt.txt','r') as f:\n",
    "    evts=f.readlines()"
   ]
  },
  {
   "cell_type": "code",
   "execution_count": null,
   "metadata": {
    "ExecuteTime": {
     "end_time": "2019-04-01T15:31:23.971309Z",
     "start_time": "2019-04-01T15:31:23.962781Z"
    },
    "collapsed": false
   },
   "outputs": [],
   "source": []
  },
  {
   "cell_type": "code",
   "execution_count": 41,
   "metadata": {
    "ExecuteTime": {
     "end_time": "2019-04-01T20:10:14.596293Z",
     "start_time": "2019-04-01T20:10:14.588468Z"
    },
    "collapsed": false
   },
   "outputs": [
    {
     "name": "stdout",
     "output_type": "stream",
     "text": [
      "read event ./ni1200190102_0mpu7_cl.evt\n",
      "read event ./ni1200190103_0mpu7_cl.evt\n",
      "read event ./ni1200190104_0mpu7_cl.evt\n",
      "read event ./ni1200190106_0mpu7_cl.evt\n",
      "read event ./ni1200190107_0mpu7_cl.evt\n",
      "read event ./ni1200190108_0mpu7_cl.evt\n",
      "read event ./ni1200190128_0mpu7_cl.evt\n",
      "read event ./ni1200190129_0mpu7_cl.evt\n",
      "read event ./ni1200190132_0mpu7_cl.evt\n",
      "read event ./ni1200190133_0mpu7_cl.evt\n",
      "read event ./ni1200190159_0mpu7_cl.evt\n",
      "read event ./ni1200190167_0mpu7_cl.evt\n",
      "read event ./ni1200190184_0mpu7_cl.evt\n",
      "read event ./ni1200190209_0mpu7_cl.evt\n",
      "read event ./ni1200190212_0mpu7_cl.evt\n",
      "read event ./ni1200190230_0mpu7_cl.evt\n",
      "read event ./ni1200190238_0mpu7_cl.evt\n",
      "read event ./ni1200190244_0mpu7_cl.evt\n",
      "read event ./ni1200190272_0mpu7_cl.evt\n",
      "read event ./ni1200190273_0mpu7_cl.evt\n",
      "read event ./ni1200190274_0mpu7_cl.evt\n",
      "read event ./ni1200190275_0mpu7_cl.evt\n",
      "read event ./ni1200190277_0mpu7_cl.evt\n",
      "read event ./ni1200190278_0mpu7_cl.evt\n",
      "read event ./ni1200190284_0mpu7_cl.evt\n"
     ]
    }
   ],
   "source": [
    "for i in evts[:]:\n",
    "    print('read event ./'+i.rstrip().split('/')[-1])"
   ]
  },
  {
   "cell_type": "code",
   "execution_count": null,
   "metadata": {
    "collapsed": true
   },
   "outputs": [],
   "source": []
  }
 ],
 "metadata": {
  "kernelspec": {
   "display_name": "Python 3",
   "language": "python",
   "name": "python3"
  },
  "language_info": {
   "codemirror_mode": {
    "name": "ipython",
    "version": 3
   },
   "file_extension": ".py",
   "mimetype": "text/x-python",
   "name": "python",
   "nbconvert_exporter": "python",
   "pygments_lexer": "ipython3",
   "version": "3.6.0"
  },
  "latex_envs": {
   "LaTeX_envs_menu_present": true,
   "autocomplete": true,
   "bibliofile": "biblio.bib",
   "cite_by": "apalike",
   "current_citInitial": 1,
   "eqLabelWithNumbers": true,
   "eqNumInitial": 1,
   "hotkeys": {
    "equation": "Ctrl-E",
    "itemize": "Ctrl-I"
   },
   "labels_anchors": false,
   "latex_user_defs": false,
   "report_style_numbering": false,
   "user_envs_cfg": false
  },
  "toc": {
   "nav_menu": {},
   "number_sections": true,
   "sideBar": true,
   "skip_h1_title": false,
   "toc_cell": false,
   "toc_position": {},
   "toc_section_display": "block",
   "toc_window_display": false
  }
 },
 "nbformat": 4,
 "nbformat_minor": 2
}
