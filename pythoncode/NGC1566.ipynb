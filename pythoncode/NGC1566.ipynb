{
 "cells": [
  {
   "cell_type": "markdown",
   "metadata": {},
   "source": [
    "# import"
   ]
  },
  {
   "cell_type": "code",
   "execution_count": null,
   "metadata": {
    "collapsed": true
   },
   "outputs": [],
   "source": []
  },
  {
   "cell_type": "code",
   "execution_count": null,
   "metadata": {
    "ExecuteTime": {
     "start_time": "2020-12-21T07:23:54.807Z"
    },
    "collapsed": false,
    "scrolled": false
   },
   "outputs": [
    {
     "name": "stderr",
     "output_type": "stream",
     "text": [
      "Missing colon in file PosixPath('/Users/brettlv/.matplotlib/stylelib/notebook.mplstyle'), line 7 ('<!DOCTYPE html>')\n",
      "Missing colon in file PosixPath('/Users/brettlv/.matplotlib/stylelib/notebook.mplstyle'), line 8 ('<html lang=\"en\">')\n",
      "Missing colon in file PosixPath('/Users/brettlv/.matplotlib/stylelib/notebook.mplstyle'), line 9 ('  <head>')\n",
      "Missing colon in file PosixPath('/Users/brettlv/.matplotlib/stylelib/notebook.mplstyle'), line 10 ('    <meta charset=\"utf-8\">')\n",
      "Duplicate key in file PosixPath('/Users/brettlv/.matplotlib/stylelib/notebook.mplstyle'), line 12 ('  <link rel=\"dns-prefetch\" href=\"https://avatars0.githubusercontent.com\">')\n",
      "Duplicate key in file PosixPath('/Users/brettlv/.matplotlib/stylelib/notebook.mplstyle'), line 13 ('  <link rel=\"dns-prefetch\" href=\"https://avatars1.githubusercontent.com\">')\n",
      "Duplicate key in file PosixPath('/Users/brettlv/.matplotlib/stylelib/notebook.mplstyle'), line 14 ('  <link rel=\"dns-prefetch\" href=\"https://avatars2.githubusercontent.com\">')\n",
      "Duplicate key in file PosixPath('/Users/brettlv/.matplotlib/stylelib/notebook.mplstyle'), line 15 ('  <link rel=\"dns-prefetch\" href=\"https://avatars3.githubusercontent.com\">')\n",
      "Duplicate key in file PosixPath('/Users/brettlv/.matplotlib/stylelib/notebook.mplstyle'), line 16 ('  <link rel=\"dns-prefetch\" href=\"https://github-cloud.s3.amazonaws.com\">')\n",
      "Duplicate key in file PosixPath('/Users/brettlv/.matplotlib/stylelib/notebook.mplstyle'), line 17 ('  <link rel=\"dns-prefetch\" href=\"https://user-images.githubusercontent.com/\">')\n",
      "Missing colon in file PosixPath('/Users/brettlv/.matplotlib/stylelib/notebook.mplstyle'), line 49 ('  <meta name=\"viewport\" content=\"width=device-width\">')\n",
      "Missing colon in file PosixPath('/Users/brettlv/.matplotlib/stylelib/notebook.mplstyle'), line 51 ('  <title>matplotlib/matplotlibrc.template at master · matplotlib/matplotlib · GitHub</title>')\n",
      "Missing colon in file PosixPath('/Users/brettlv/.matplotlib/stylelib/notebook.mplstyle'), line 53 ('    <link rel=\"search\" type=\"application/opensearchdescription+xml\" href=\"/opensearch.xml\" title=\"GitHub\">')\n",
      "Missing colon in file PosixPath('/Users/brettlv/.matplotlib/stylelib/notebook.mplstyle'), line 56 ('  <meta name=\"apple-itunes-app\" content=\"app-id=1477376905\" />')\n",
      "Missing colon in file PosixPath('/Users/brettlv/.matplotlib/stylelib/notebook.mplstyle'), line 72 ('  <meta name=\"github-keyboard-shortcuts\" content=\"repository,source-code\" data-pjax-transient=\"true\" />')\n",
      "Missing colon in file PosixPath('/Users/brettlv/.matplotlib/stylelib/notebook.mplstyle'), line 76 ('  <meta name=\"selected-link\" value=\"repo_source\" data-pjax-transient>')\n",
      "Missing colon in file PosixPath('/Users/brettlv/.matplotlib/stylelib/notebook.mplstyle'), line 78 ('    <meta name=\"google-site-verification\" content=\"c1kuD-K2HIVF635lypcsWPoD4kilo5-jA_wBFyT4uMY\">')\n",
      "Missing colon in file PosixPath('/Users/brettlv/.matplotlib/stylelib/notebook.mplstyle'), line 79 ('  <meta name=\"google-site-verification\" content=\"KT5gs8h0wvaagLKAVWq8bbeNwnZZK1r1XQysX3xurLU\">')\n",
      "Missing colon in file PosixPath('/Users/brettlv/.matplotlib/stylelib/notebook.mplstyle'), line 80 ('  <meta name=\"google-site-verification\" content=\"ZzhVyEFwb7w3e0-uOTltm8Jsck2F5StVihD0exw2fsA\">')\n",
      "Missing colon in file PosixPath('/Users/brettlv/.matplotlib/stylelib/notebook.mplstyle'), line 81 ('  <meta name=\"google-site-verification\" content=\"GXs5KoUUkNCoaAZn7wPN-t01Pywp9M3sEjnt_3_ZWPc\">')\n",
      "Missing colon in file PosixPath('/Users/brettlv/.matplotlib/stylelib/notebook.mplstyle'), line 85 ('  <meta name=\"analytics-location\" content=\"/&lt;user-name&gt;/&lt;repo-name&gt;/blob/show\" data-pjax-transient=\"true\" />')\n",
      "Missing colon in file PosixPath('/Users/brettlv/.matplotlib/stylelib/notebook.mplstyle'), line 92 ('  <!-- To prevent page flashing, the optimizely JS needs to be loaded in the')\n",
      "Missing colon in file PosixPath('/Users/brettlv/.matplotlib/stylelib/notebook.mplstyle'), line 93 ('    <head> tag before the DOM renders -->')\n",
      "Missing colon in file PosixPath('/Users/brettlv/.matplotlib/stylelib/notebook.mplstyle'), line 100 ('      <meta name=\"hostname\" content=\"github.com\">')\n",
      "Missing colon in file PosixPath('/Users/brettlv/.matplotlib/stylelib/notebook.mplstyle'), line 101 ('    <meta name=\"user-login\" content=\"\">')\n",
      "Missing colon in file PosixPath('/Users/brettlv/.matplotlib/stylelib/notebook.mplstyle'), line 104 ('      <meta name=\"expected-hostname\" content=\"github.com\">')\n",
      "Missing colon in file PosixPath('/Users/brettlv/.matplotlib/stylelib/notebook.mplstyle'), line 107 ('    <meta name=\"enabled-features\" content=\"CORPORATE_SPONSORS_CREDIT_CARD,MARKETPLACE_PENDING_INSTALLATIONS\">')\n",
      "Missing colon in file PosixPath('/Users/brettlv/.matplotlib/stylelib/notebook.mplstyle'), line 109 ('  <meta http-equiv=\"x-pjax-version\" content=\"e10aed81cde4de4df611467c50f6db64d4b7769696a68a9571c9408d08cb1b18\">')\n",
      "Missing colon in file PosixPath('/Users/brettlv/.matplotlib/stylelib/notebook.mplstyle'), line 116 ('  <meta name=\"octolytics-dimension-user_id\" content=\"215947\" /><meta name=\"octolytics-dimension-user_login\" content=\"matplotlib\" /><meta name=\"octolytics-dimension-repository_id\" content=\"1385122\" /><meta name=\"octolytics-dimension-repository_nwo\" content=\"matplotlib/matplotlib\" /><meta name=\"octolytics-dimension-repository_public\" content=\"true\" /><meta name=\"octolytics-dimension-repository_is_fork\" content=\"false\" /><meta name=\"octolytics-dimension-repository_network_root_id\" content=\"1385122\" /><meta name=\"octolytics-dimension-repository_network_root_nwo\" content=\"matplotlib/matplotlib\" /><meta name=\"octolytics-dimension-repository_explore_github_marketplace_ci_cta_shown\" content=\"false\" />')\n",
      "Missing colon in file PosixPath('/Users/brettlv/.matplotlib/stylelib/notebook.mplstyle'), line 133 ('<meta name=\"theme-color\" content=\"#1e2327\">')\n",
      "Missing colon in file PosixPath('/Users/brettlv/.matplotlib/stylelib/notebook.mplstyle'), line 134 ('  <meta name=\"color-scheme\" content=\"light dark\">')\n",
      "Missing colon in file PosixPath('/Users/brettlv/.matplotlib/stylelib/notebook.mplstyle'), line 137 ('  <link rel=\"manifest\" href=\"/manifest.json\" crossOrigin=\"use-credentials\">')\n",
      "Missing colon in file PosixPath('/Users/brettlv/.matplotlib/stylelib/notebook.mplstyle'), line 139 ('  </head>')\n",
      "Missing colon in file PosixPath('/Users/brettlv/.matplotlib/stylelib/notebook.mplstyle'), line 141 ('  <body class=\"logged-out env-production page-responsive page-blob\">')\n",
      "Missing colon in file PosixPath('/Users/brettlv/.matplotlib/stylelib/notebook.mplstyle'), line 144 ('    <div class=\"position-relative js-header-wrapper \">')\n",
      "Missing colon in file PosixPath('/Users/brettlv/.matplotlib/stylelib/notebook.mplstyle'), line 145 ('      <a href=\"#start-of-content\" class=\"px-2 py-4 bg-blue text-white show-on-focus js-skip-to-content\">Skip to content</a>')\n",
      "Missing colon in file PosixPath('/Users/brettlv/.matplotlib/stylelib/notebook.mplstyle'), line 146 ('      <span class=\"progress-pjax-loader width-full js-pjax-loader-bar Progress position-fixed\">')\n",
      "Missing colon in file PosixPath('/Users/brettlv/.matplotlib/stylelib/notebook.mplstyle'), line 148 ('</span>      ')\n",
      "Missing colon in file PosixPath('/Users/brettlv/.matplotlib/stylelib/notebook.mplstyle'), line 152 ('            <header class=\"Header-old header-logged-out js-details-container Details position-relative f4 py-2\" role=\"banner\">')\n",
      "Missing colon in file PosixPath('/Users/brettlv/.matplotlib/stylelib/notebook.mplstyle'), line 153 ('  <div class=\"container-xl d-lg-flex flex-items-center p-responsive\">')\n",
      "Missing colon in file PosixPath('/Users/brettlv/.matplotlib/stylelib/notebook.mplstyle'), line 154 ('    <div class=\"d-flex flex-justify-between flex-items-center\">')\n",
      "Missing colon in file PosixPath('/Users/brettlv/.matplotlib/stylelib/notebook.mplstyle'), line 156 ('          <svg height=\"32\" class=\"octicon octicon-mark-github text-white\" viewBox=\"0 0 16 16\" version=\"1.1\" width=\"32\" aria-hidden=\"true\"><path fill-rule=\"evenodd\" d=\"M8 0C3.58 0 0 3.58 0 8c0 3.54 2.29 6.53 5.47 7.59.4.07.55-.17.55-.38 0-.19-.01-.82-.01-1.49-2.01.37-2.53-.49-2.69-.94-.09-.23-.48-.94-.82-1.13-.28-.15-.68-.52-.01-.53.63-.01 1.08.58 1.23.82.72 1.21 1.87.87 2.33.66.07-.52.28-.87.51-1.07-1.78-.2-3.64-.89-3.64-3.95 0-.87.31-1.59.82-2.15-.08-.2-.36-1.02.08-2.12 0 0 .67-.21 2.2.82.64-.18 1.32-.27 2-.27.68 0 1.36.09 2 .27 1.53-1.04 2.2-.82 2.2-.82.44 1.1.16 1.92.08 2.12.51.56.82 1.27.82 2.15 0 3.07-1.87 3.75-3.65 3.95.29.25.54.73.54 1.48 0 1.07-.01 1.93-.01 2.2 0 .21.15.46.55.38A8.013 8.013 0 0016 8c0-4.42-3.58-8-8-8z\"></path></svg>')\n",
      "Missing colon in file PosixPath('/Users/brettlv/.matplotlib/stylelib/notebook.mplstyle'), line 157 ('        </a>')\n",
      "Missing colon in file PosixPath('/Users/brettlv/.matplotlib/stylelib/notebook.mplstyle'), line 159 ('          <div class=\"d-lg-none css-truncate css-truncate-target width-fit p-2\">')\n",
      "Missing colon in file PosixPath('/Users/brettlv/.matplotlib/stylelib/notebook.mplstyle'), line 162 ('          </div>')\n",
      "Missing colon in file PosixPath('/Users/brettlv/.matplotlib/stylelib/notebook.mplstyle'), line 164 ('        <div class=\"d-flex flex-items-center\">')\n",
      "Missing colon in file PosixPath('/Users/brettlv/.matplotlib/stylelib/notebook.mplstyle'), line 165 ('              <a href=\"/join?ref_cta=Sign+up&amp;ref_loc=header+logged+out&amp;ref_page=%2F%3Cuser-name%3E%2F%3Crepo-name%3E%2Fblob%2Fshow&amp;source=header-repo\"')\n",
      "Missing colon in file PosixPath('/Users/brettlv/.matplotlib/stylelib/notebook.mplstyle'), line 166 ('                class=\"d-inline-block d-lg-none f5 text-white no-underline border border-gray-dark rounded-2 px-2 py-1 mr-3 mr-sm-5\"')\n",
      "Missing colon in file PosixPath('/Users/brettlv/.matplotlib/stylelib/notebook.mplstyle'), line 169 ('                Sign&nbsp;up')\n",
      "Missing colon in file PosixPath('/Users/brettlv/.matplotlib/stylelib/notebook.mplstyle'), line 170 ('              </a>')\n",
      "Missing colon in file PosixPath('/Users/brettlv/.matplotlib/stylelib/notebook.mplstyle'), line 172 ('          <button class=\"btn-link d-lg-none mt-1 js-details-target\" type=\"button\" aria-label=\"Toggle navigation\" aria-expanded=\"false\">')\n",
      "Missing colon in file PosixPath('/Users/brettlv/.matplotlib/stylelib/notebook.mplstyle'), line 173 ('            <svg height=\"24\" class=\"octicon octicon-three-bars text-white\" viewBox=\"0 0 16 16\" version=\"1.1\" width=\"24\" aria-hidden=\"true\"><path fill-rule=\"evenodd\" d=\"M1 2.75A.75.75 0 011.75 2h12.5a.75.75 0 110 1.5H1.75A.75.75 0 011 2.75zm0 5A.75.75 0 011.75 7h12.5a.75.75 0 110 1.5H1.75A.75.75 0 011 7.75zM1.75 12a.75.75 0 100 1.5h12.5a.75.75 0 100-1.5H1.75z\"></path></svg>')\n",
      "Missing colon in file PosixPath('/Users/brettlv/.matplotlib/stylelib/notebook.mplstyle'), line 174 ('          </button>')\n",
      "Missing colon in file PosixPath('/Users/brettlv/.matplotlib/stylelib/notebook.mplstyle'), line 175 ('        </div>')\n",
      "Missing colon in file PosixPath('/Users/brettlv/.matplotlib/stylelib/notebook.mplstyle'), line 176 ('    </div>')\n",
      "Missing colon in file PosixPath('/Users/brettlv/.matplotlib/stylelib/notebook.mplstyle'), line 178 ('    <div class=\"HeaderMenu HeaderMenu--logged-out position-fixed top-0 right-0 bottom-0 height-fit position-lg-relative d-lg-flex flex-justify-between flex-items-center flex-auto\">')\n",
      "Missing colon in file PosixPath('/Users/brettlv/.matplotlib/stylelib/notebook.mplstyle'), line 179 ('      <div class=\"d-flex d-lg-none flex-justify-end border-bottom bg-gray-light p-3\">')\n",
      "Missing colon in file PosixPath('/Users/brettlv/.matplotlib/stylelib/notebook.mplstyle'), line 180 ('        <button class=\"btn-link js-details-target\" type=\"button\" aria-label=\"Toggle navigation\" aria-expanded=\"false\">')\n",
      "Missing colon in file PosixPath('/Users/brettlv/.matplotlib/stylelib/notebook.mplstyle'), line 181 ('          <svg height=\"24\" class=\"octicon octicon-x text-gray\" viewBox=\"0 0 24 24\" version=\"1.1\" width=\"24\" aria-hidden=\"true\"><path fill-rule=\"evenodd\" d=\"M5.72 5.72a.75.75 0 011.06 0L12 10.94l5.22-5.22a.75.75 0 111.06 1.06L13.06 12l5.22 5.22a.75.75 0 11-1.06 1.06L12 13.06l-5.22 5.22a.75.75 0 01-1.06-1.06L10.94 12 5.72 6.78a.75.75 0 010-1.06z\"></path></svg>')\n",
      "Missing colon in file PosixPath('/Users/brettlv/.matplotlib/stylelib/notebook.mplstyle'), line 182 ('        </button>')\n",
      "Missing colon in file PosixPath('/Users/brettlv/.matplotlib/stylelib/notebook.mplstyle'), line 183 ('      </div>')\n",
      "Missing colon in file PosixPath('/Users/brettlv/.matplotlib/stylelib/notebook.mplstyle'), line 185 ('        <nav class=\"mt-0 px-3 px-lg-0 mb-5 mb-lg-0\" aria-label=\"Global\">')\n",
      "Missing colon in file PosixPath('/Users/brettlv/.matplotlib/stylelib/notebook.mplstyle'), line 186 ('          <ul class=\"d-lg-flex list-style-none\">')\n",
      "Missing colon in file PosixPath('/Users/brettlv/.matplotlib/stylelib/notebook.mplstyle'), line 187 ('              <li class=\"d-block d-lg-flex flex-lg-nowrap flex-lg-items-center border-bottom border-lg-bottom-0 mr-0 mr-lg-3 edge-item-fix position-relative flex-wrap flex-justify-between d-flex flex-items-center \">')\n",
      "Missing colon in file PosixPath('/Users/brettlv/.matplotlib/stylelib/notebook.mplstyle'), line 188 ('                <details class=\"HeaderMenu-details details-overlay details-reset width-full\">')\n",
      "Missing colon in file PosixPath('/Users/brettlv/.matplotlib/stylelib/notebook.mplstyle'), line 189 ('                  <summary class=\"HeaderMenu-summary HeaderMenu-link px-0 py-3 border-0 no-wrap d-block d-lg-inline-block\">')\n",
      "Missing colon in file PosixPath('/Users/brettlv/.matplotlib/stylelib/notebook.mplstyle'), line 190 ('                    Why GitHub?')\n",
      "Missing colon in file PosixPath('/Users/brettlv/.matplotlib/stylelib/notebook.mplstyle'), line 192 ('                      <path d=\"M1,1l6.2,6L13,1\"></path>')\n",
      "Missing colon in file PosixPath('/Users/brettlv/.matplotlib/stylelib/notebook.mplstyle'), line 193 ('                    </svg>')\n",
      "Missing colon in file PosixPath('/Users/brettlv/.matplotlib/stylelib/notebook.mplstyle'), line 194 ('                  </summary>')\n",
      "Missing colon in file PosixPath('/Users/brettlv/.matplotlib/stylelib/notebook.mplstyle'), line 195 ('                  <div class=\"dropdown-menu flex-auto rounded-1 bg-white px-0 mt-0 pb-4 p-lg-4 position-relative position-lg-absolute left-0 left-lg-n4\">')\n",
      "Missing colon in file PosixPath('/Users/brettlv/.matplotlib/stylelib/notebook.mplstyle'), line 196 ('                    <a href=\"/features\" class=\"py-2 lh-condensed-ultra d-block link-gray-dark no-underline h5 Bump-link--hover\" data-ga-click=\"(Logged out) Header, go to Features\">Features <span class=\"Bump-link-symbol float-right text-normal text-gray-light\">&rarr;</span></a>')\n",
      "Missing colon in file PosixPath('/Users/brettlv/.matplotlib/stylelib/notebook.mplstyle'), line 197 ('                    <ul class=\"list-style-none f5 pb-3\">')\n",
      "Missing colon in file PosixPath('/Users/brettlv/.matplotlib/stylelib/notebook.mplstyle'), line 198 ('                      <li class=\"edge-item-fix\"><a href=\"/features/code-review/\" class=\"py-2 lh-condensed-ultra d-block link-gray no-underline f5\" data-ga-click=\"(Logged out) Header, go to Code review\">Code review</a></li>')\n",
      "Missing colon in file PosixPath('/Users/brettlv/.matplotlib/stylelib/notebook.mplstyle'), line 199 ('                      <li class=\"edge-item-fix\"><a href=\"/features/project-management/\" class=\"py-2 lh-condensed-ultra d-block link-gray no-underline f5\" data-ga-click=\"(Logged out) Header, go to Project management\">Project management</a></li>')\n",
      "Missing colon in file PosixPath('/Users/brettlv/.matplotlib/stylelib/notebook.mplstyle'), line 200 ('                      <li class=\"edge-item-fix\"><a href=\"/features/integrations\" class=\"py-2 lh-condensed-ultra d-block link-gray no-underline f5\" data-ga-click=\"(Logged out) Header, go to Integrations\">Integrations</a></li>')\n",
      "Missing colon in file PosixPath('/Users/brettlv/.matplotlib/stylelib/notebook.mplstyle'), line 201 ('                      <li class=\"edge-item-fix\"><a href=\"/features/actions\" class=\"py-2 lh-condensed-ultra d-block link-gray no-underline f5\" data-ga-click=\"(Logged out) Header, go to Actions\">Actions</a></li>')\n",
      "Missing colon in file PosixPath('/Users/brettlv/.matplotlib/stylelib/notebook.mplstyle'), line 202 ('                      <li class=\"edge-item-fix\"><a href=\"/features/packages\" class=\"py-2 lh-condensed-ultra d-block link-gray no-underline f5\" data-ga-click=\"(Logged out) Header, go to GitHub Packages\">Packages</a></li>')\n",
      "Missing colon in file PosixPath('/Users/brettlv/.matplotlib/stylelib/notebook.mplstyle'), line 203 ('                      <li class=\"edge-item-fix\"><a href=\"/features/security\" class=\"py-2 lh-condensed-ultra d-block link-gray no-underline f5\" data-ga-click=\"(Logged out) Header, go to Security\">Security</a></li>')\n",
      "Missing colon in file PosixPath('/Users/brettlv/.matplotlib/stylelib/notebook.mplstyle'), line 204 ('                      <li class=\"edge-item-fix\"><a href=\"/features#team-management\" class=\"py-2 lh-condensed-ultra d-block link-gray no-underline f5\" data-ga-click=\"(Logged out) Header, go to Team management\">Team management</a></li>')\n",
      "Missing colon in file PosixPath('/Users/brettlv/.matplotlib/stylelib/notebook.mplstyle'), line 205 ('                      <li class=\"edge-item-fix\"><a href=\"/features#hosting\" class=\"py-2 lh-condensed-ultra d-block link-gray no-underline f5\" data-ga-click=\"(Logged out) Header, go to Code hosting\">Hosting</a></li>')\n",
      "Missing colon in file PosixPath('/Users/brettlv/.matplotlib/stylelib/notebook.mplstyle'), line 206 ('                      <li class=\"edge-item-fix hide-xl\"><a href=\"/mobile\" class=\"py-2 lh-condensed-ultra d-block link-gray no-underline f5\" data-ga-click=\"(Logged out) Header, go to Mobile\">Mobile</a></li>')\n",
      "Missing colon in file PosixPath('/Users/brettlv/.matplotlib/stylelib/notebook.mplstyle'), line 207 ('                    </ul>')\n",
      "Missing colon in file PosixPath('/Users/brettlv/.matplotlib/stylelib/notebook.mplstyle'), line 209 ('                    <ul class=\"list-style-none mb-0 border-lg-top pt-lg-3\">')\n",
      "Missing colon in file PosixPath('/Users/brettlv/.matplotlib/stylelib/notebook.mplstyle'), line 210 ('                      <li class=\"edge-item-fix\"><a href=\"/customer-stories\" class=\"py-2 lh-condensed-ultra d-block no-underline link-gray-dark no-underline h5 Bump-link--hover\" data-ga-click=\"(Logged out) Header, go to Customer stories\">Customer stories <span class=\"Bump-link-symbol float-right text-normal text-gray-light\">&rarr;</span></a></li>')\n",
      "Missing colon in file PosixPath('/Users/brettlv/.matplotlib/stylelib/notebook.mplstyle'), line 211 ('                      <li class=\"edge-item-fix\"><a href=\"/security\" class=\"py-2 lh-condensed-ultra d-block no-underline link-gray-dark no-underline h5 Bump-link--hover\" data-ga-click=\"(Logged out) Header, go to Security\">Security <span class=\"Bump-link-symbol float-right text-normal text-gray-light\">&rarr;</span></a></li>')\n",
      "Missing colon in file PosixPath('/Users/brettlv/.matplotlib/stylelib/notebook.mplstyle'), line 212 ('                    </ul>')\n",
      "Missing colon in file PosixPath('/Users/brettlv/.matplotlib/stylelib/notebook.mplstyle'), line 213 ('                  </div>')\n",
      "Missing colon in file PosixPath('/Users/brettlv/.matplotlib/stylelib/notebook.mplstyle'), line 214 ('                </details>')\n",
      "Missing colon in file PosixPath('/Users/brettlv/.matplotlib/stylelib/notebook.mplstyle'), line 215 ('              </li>')\n",
      "Missing colon in file PosixPath('/Users/brettlv/.matplotlib/stylelib/notebook.mplstyle'), line 216 ('              <li class=\"border-bottom border-lg-bottom-0 mr-0 mr-lg-3\">')\n",
      "Missing colon in file PosixPath('/Users/brettlv/.matplotlib/stylelib/notebook.mplstyle'), line 217 ('                <a href=\"/team\" class=\"HeaderMenu-link no-underline py-3 d-block d-lg-inline-block\" data-ga-click=\"(Logged out) Header, go to Team\">Team</a>')\n",
      "Missing colon in file PosixPath('/Users/brettlv/.matplotlib/stylelib/notebook.mplstyle'), line 218 ('              </li>')\n",
      "Missing colon in file PosixPath('/Users/brettlv/.matplotlib/stylelib/notebook.mplstyle'), line 219 ('              <li class=\"border-bottom border-lg-bottom-0 mr-0 mr-lg-3\">')\n",
      "Missing colon in file PosixPath('/Users/brettlv/.matplotlib/stylelib/notebook.mplstyle'), line 220 ('                <a href=\"/enterprise\" class=\"HeaderMenu-link no-underline py-3 d-block d-lg-inline-block\" data-ga-click=\"(Logged out) Header, go to Enterprise\">Enterprise</a>')\n",
      "Missing colon in file PosixPath('/Users/brettlv/.matplotlib/stylelib/notebook.mplstyle'), line 221 ('              </li>')\n",
      "Missing colon in file PosixPath('/Users/brettlv/.matplotlib/stylelib/notebook.mplstyle'), line 223 ('              <li class=\"d-block d-lg-flex flex-lg-nowrap flex-lg-items-center border-bottom border-lg-bottom-0 mr-0 mr-lg-3 edge-item-fix position-relative flex-wrap flex-justify-between d-flex flex-items-center \">')\n",
      "Missing colon in file PosixPath('/Users/brettlv/.matplotlib/stylelib/notebook.mplstyle'), line 224 ('                <details class=\"HeaderMenu-details details-overlay details-reset width-full\">')\n",
      "Missing colon in file PosixPath('/Users/brettlv/.matplotlib/stylelib/notebook.mplstyle'), line 225 ('                  <summary class=\"HeaderMenu-summary HeaderMenu-link px-0 py-3 border-0 no-wrap d-block d-lg-inline-block\">')\n",
      "Missing colon in file PosixPath('/Users/brettlv/.matplotlib/stylelib/notebook.mplstyle'), line 226 ('                    Explore')\n",
      "Duplicate key in file PosixPath('/Users/brettlv/.matplotlib/stylelib/notebook.mplstyle'), line 227 ('                    <svg x=\"0px\" y=\"0px\" viewBox=\"0 0 14 8\" xml:space=\"preserve\" fill=\"none\" class=\"icon-chevon-down-mktg position-absolute position-lg-relative\">')\n",
      "Missing colon in file PosixPath('/Users/brettlv/.matplotlib/stylelib/notebook.mplstyle'), line 228 ('                      <path d=\"M1,1l6.2,6L13,1\"></path>')\n",
      "Missing colon in file PosixPath('/Users/brettlv/.matplotlib/stylelib/notebook.mplstyle'), line 229 ('                    </svg>')\n",
      "Missing colon in file PosixPath('/Users/brettlv/.matplotlib/stylelib/notebook.mplstyle'), line 230 ('                  </summary>')\n",
      "Missing colon in file PosixPath('/Users/brettlv/.matplotlib/stylelib/notebook.mplstyle'), line 232 ('                  <div class=\"dropdown-menu flex-auto rounded-1 bg-white px-0 pt-2 pb-0 mt-0 pb-4 p-lg-4 position-relative position-lg-absolute left-0 left-lg-n4\">')\n",
      "Missing colon in file PosixPath('/Users/brettlv/.matplotlib/stylelib/notebook.mplstyle'), line 233 ('                    <ul class=\"list-style-none mb-3\">')\n",
      "Missing colon in file PosixPath('/Users/brettlv/.matplotlib/stylelib/notebook.mplstyle'), line 234 ('                      <li class=\"edge-item-fix\"><a href=\"/explore\" class=\"py-2 lh-condensed-ultra d-block link-gray-dark no-underline h5 Bump-link--hover\" data-ga-click=\"(Logged out) Header, go to Explore\">Explore GitHub <span class=\"Bump-link-symbol float-right text-normal text-gray-light\">&rarr;</span></a></li>')\n",
      "Missing colon in file PosixPath('/Users/brettlv/.matplotlib/stylelib/notebook.mplstyle'), line 235 ('                    </ul>')\n",
      "Missing colon in file PosixPath('/Users/brettlv/.matplotlib/stylelib/notebook.mplstyle'), line 237 ('                    <h4 class=\"text-gray-light text-normal text-mono f5 mb-2 border-lg-top pt-lg-3\">Learn &amp; contribute</h4>')\n",
      "Missing colon in file PosixPath('/Users/brettlv/.matplotlib/stylelib/notebook.mplstyle'), line 238 ('                    <ul class=\"list-style-none mb-3\">')\n",
      "Missing colon in file PosixPath('/Users/brettlv/.matplotlib/stylelib/notebook.mplstyle'), line 239 ('                      <li class=\"edge-item-fix\"><a href=\"/topics\" class=\"py-2 lh-condensed-ultra d-block link-gray no-underline f5\" data-ga-click=\"(Logged out) Header, go to Topics\">Topics</a></li>')\n",
      "Missing colon in file PosixPath('/Users/brettlv/.matplotlib/stylelib/notebook.mplstyle'), line 240 ('                        <li class=\"edge-item-fix\"><a href=\"/collections\" class=\"py-2 lh-condensed-ultra d-block link-gray no-underline f5\" data-ga-click=\"(Logged out) Header, go to Collections\">Collections</a></li>')\n",
      "Missing colon in file PosixPath('/Users/brettlv/.matplotlib/stylelib/notebook.mplstyle'), line 241 ('                      <li class=\"edge-item-fix\"><a href=\"/trending\" class=\"py-2 lh-condensed-ultra d-block link-gray no-underline f5\" data-ga-click=\"(Logged out) Header, go to Trending\">Trending</a></li>')\n",
      "Duplicate key in file PosixPath('/Users/brettlv/.matplotlib/stylelib/notebook.mplstyle'), line 243 ('                      <li class=\"edge-item-fix\"><a href=\"https://opensource.guide\" class=\"py-2 lh-condensed-ultra d-block link-gray no-underline f5\" data-ga-click=\"(Logged out) Header, go to Open source guides\">Open source guides</a></li>')\n",
      "Missing colon in file PosixPath('/Users/brettlv/.matplotlib/stylelib/notebook.mplstyle'), line 244 ('                    </ul>')\n",
      "Missing colon in file PosixPath('/Users/brettlv/.matplotlib/stylelib/notebook.mplstyle'), line 246 ('                    <h4 class=\"text-gray-light text-normal text-mono f5 mb-2 border-lg-top pt-lg-3\">Connect with others</h4>')\n",
      "Missing colon in file PosixPath('/Users/brettlv/.matplotlib/stylelib/notebook.mplstyle'), line 247 ('                    <ul class=\"list-style-none mb-0\">')\n",
      "Duplicate key in file PosixPath('/Users/brettlv/.matplotlib/stylelib/notebook.mplstyle'), line 248 ('                      <li class=\"edge-item-fix\"><a href=\"https://github.com/events\" class=\"py-2 lh-condensed-ultra d-block link-gray no-underline f5\" data-ga-click=\"(Logged out) Header, go to Events\">Events</a></li>')\n",
      "Duplicate key in file PosixPath('/Users/brettlv/.matplotlib/stylelib/notebook.mplstyle'), line 249 ('                      <li class=\"edge-item-fix\"><a href=\"https://github.community\" class=\"py-2 lh-condensed-ultra d-block link-gray no-underline f5\" data-ga-click=\"(Logged out) Header, go to Community forum\">Community forum</a></li>')\n",
      "Duplicate key in file PosixPath('/Users/brettlv/.matplotlib/stylelib/notebook.mplstyle'), line 250 ('                      <li class=\"edge-item-fix\"><a href=\"https://education.github.com\" class=\"py-2 lh-condensed-ultra d-block link-gray no-underline f5\" data-ga-click=\"(Logged out) Header, go to GitHub Education\">GitHub Education</a></li>')\n",
      "Duplicate key in file PosixPath('/Users/brettlv/.matplotlib/stylelib/notebook.mplstyle'), line 251 ('                      <li class=\"edge-item-fix\"><a href=\"https://stars.github.com\" class=\"py-2 pb-0 lh-condensed-ultra d-block link-gray no-underline f5\" data-ga-click=\"(Logged out) Header, go to GitHub Stars Program\">GitHub Stars program</a></li>')\n",
      "Missing colon in file PosixPath('/Users/brettlv/.matplotlib/stylelib/notebook.mplstyle'), line 252 ('                    </ul>')\n",
      "Missing colon in file PosixPath('/Users/brettlv/.matplotlib/stylelib/notebook.mplstyle'), line 253 ('                  </div>')\n",
      "Missing colon in file PosixPath('/Users/brettlv/.matplotlib/stylelib/notebook.mplstyle'), line 254 ('                </details>')\n",
      "Missing colon in file PosixPath('/Users/brettlv/.matplotlib/stylelib/notebook.mplstyle'), line 255 ('              </li>')\n",
      "Missing colon in file PosixPath('/Users/brettlv/.matplotlib/stylelib/notebook.mplstyle'), line 257 ('              <li class=\"border-bottom border-lg-bottom-0 mr-0 mr-lg-3\">')\n",
      "Missing colon in file PosixPath('/Users/brettlv/.matplotlib/stylelib/notebook.mplstyle'), line 258 ('                <a href=\"/marketplace\" class=\"HeaderMenu-link no-underline py-3 d-block d-lg-inline-block\" data-ga-click=\"(Logged out) Header, go to Marketplace\">Marketplace</a>')\n",
      "Missing colon in file PosixPath('/Users/brettlv/.matplotlib/stylelib/notebook.mplstyle'), line 259 ('              </li>')\n",
      "Missing colon in file PosixPath('/Users/brettlv/.matplotlib/stylelib/notebook.mplstyle'), line 261 ('              <li class=\"d-block d-lg-flex flex-lg-nowrap flex-lg-items-center border-bottom border-lg-bottom-0 mr-0 mr-lg-3 edge-item-fix position-relative flex-wrap flex-justify-between d-flex flex-items-center \">')\n",
      "Missing colon in file PosixPath('/Users/brettlv/.matplotlib/stylelib/notebook.mplstyle'), line 262 ('                <details class=\"HeaderMenu-details details-overlay details-reset width-full\">')\n",
      "Missing colon in file PosixPath('/Users/brettlv/.matplotlib/stylelib/notebook.mplstyle'), line 263 ('                  <summary class=\"HeaderMenu-summary HeaderMenu-link px-0 py-3 border-0 no-wrap d-block d-lg-inline-block\">')\n",
      "Missing colon in file PosixPath('/Users/brettlv/.matplotlib/stylelib/notebook.mplstyle'), line 264 ('                    Pricing')\n",
      "Duplicate key in file PosixPath('/Users/brettlv/.matplotlib/stylelib/notebook.mplstyle'), line 265 ('                    <svg x=\"0px\" y=\"0px\" viewBox=\"0 0 14 8\" xml:space=\"preserve\" fill=\"none\" class=\"icon-chevon-down-mktg position-absolute position-lg-relative\">')\n",
      "Missing colon in file PosixPath('/Users/brettlv/.matplotlib/stylelib/notebook.mplstyle'), line 266 ('                       <path d=\"M1,1l6.2,6L13,1\"></path>')\n",
      "Missing colon in file PosixPath('/Users/brettlv/.matplotlib/stylelib/notebook.mplstyle'), line 267 ('                    </svg>')\n",
      "Missing colon in file PosixPath('/Users/brettlv/.matplotlib/stylelib/notebook.mplstyle'), line 268 ('                  </summary>')\n",
      "Missing colon in file PosixPath('/Users/brettlv/.matplotlib/stylelib/notebook.mplstyle'), line 270 ('                  <div class=\"dropdown-menu flex-auto rounded-1 bg-white px-0 pt-2 pb-4 mt-0 p-lg-4 position-relative position-lg-absolute left-0 left-lg-n4\">')\n",
      "Missing colon in file PosixPath('/Users/brettlv/.matplotlib/stylelib/notebook.mplstyle'), line 271 ('                    <a href=\"/pricing\" class=\"pb-2 lh-condensed-ultra d-block link-gray-dark no-underline h5 Bump-link--hover\" data-ga-click=\"(Logged out) Header, go to Pricing\">Plans <span class=\"Bump-link-symbol float-right text-normal text-gray-light\">&rarr;</span></a>')\n",
      "Missing colon in file PosixPath('/Users/brettlv/.matplotlib/stylelib/notebook.mplstyle'), line 273 ('                    <ul class=\"list-style-none mb-3\">')\n",
      "Missing colon in file PosixPath('/Users/brettlv/.matplotlib/stylelib/notebook.mplstyle'), line 274 ('                      <li class=\"edge-item-fix\"><a href=\"/pricing#feature-comparison\" class=\"py-2 lh-condensed-ultra d-block link-gray no-underline f5\" data-ga-click=\"(Logged out) Header, go to Compare plans\">Compare plans</a></li>')\n",
      "Duplicate key in file PosixPath('/Users/brettlv/.matplotlib/stylelib/notebook.mplstyle'), line 275 ('                      <li class=\"edge-item-fix\"><a href=\"https://enterprise.github.com/contact\" class=\"py-2 lh-condensed-ultra d-block link-gray no-underline f5\" data-ga-click=\"(Logged out) Header, go to Contact Sales\">Contact Sales</a></li>')\n",
      "Missing colon in file PosixPath('/Users/brettlv/.matplotlib/stylelib/notebook.mplstyle'), line 276 ('                    </ul>')\n",
      "Missing colon in file PosixPath('/Users/brettlv/.matplotlib/stylelib/notebook.mplstyle'), line 278 ('                    <ul class=\"list-style-none mb-0 border-lg-top pt-lg-3\">')\n",
      "Missing colon in file PosixPath('/Users/brettlv/.matplotlib/stylelib/notebook.mplstyle'), line 279 ('                      <li class=\"edge-item-fix\"><a href=\"/nonprofit\" class=\"py-2 lh-condensed-ultra d-block no-underline link-gray-dark no-underline h5 Bump-link--hover\" data-ga-click=\"(Logged out) Header, go to Nonprofits\">Nonprofit <span class=\"Bump-link-symbol float-right text-normal text-gray-light\">&rarr;</span></a></li>')\n",
      "Duplicate key in file PosixPath('/Users/brettlv/.matplotlib/stylelib/notebook.mplstyle'), line 280 ('                      <li class=\"edge-item-fix\"><a href=\"https://education.github.com\" class=\"py-2 pb-0 lh-condensed-ultra d-block no-underline link-gray-dark no-underline h5 Bump-link--hover\"  data-ga-click=\"(Logged out) Header, go to Education\">Education <span class=\"Bump-link-symbol float-right text-normal text-gray-light\">&rarr;</span></a></li>')\n",
      "Missing colon in file PosixPath('/Users/brettlv/.matplotlib/stylelib/notebook.mplstyle'), line 281 ('                    </ul>')\n",
      "Missing colon in file PosixPath('/Users/brettlv/.matplotlib/stylelib/notebook.mplstyle'), line 282 ('                  </div>')\n",
      "Missing colon in file PosixPath('/Users/brettlv/.matplotlib/stylelib/notebook.mplstyle'), line 283 ('                </details>')\n",
      "Missing colon in file PosixPath('/Users/brettlv/.matplotlib/stylelib/notebook.mplstyle'), line 284 ('              </li>')\n",
      "Missing colon in file PosixPath('/Users/brettlv/.matplotlib/stylelib/notebook.mplstyle'), line 285 ('          </ul>')\n",
      "Missing colon in file PosixPath('/Users/brettlv/.matplotlib/stylelib/notebook.mplstyle'), line 286 ('        </nav>')\n",
      "Missing colon in file PosixPath('/Users/brettlv/.matplotlib/stylelib/notebook.mplstyle'), line 288 ('      <div class=\"d-lg-flex flex-items-center px-3 px-lg-0 text-center text-lg-left\">')\n",
      "Missing colon in file PosixPath('/Users/brettlv/.matplotlib/stylelib/notebook.mplstyle'), line 289 ('          <div class=\"d-lg-flex mb-3 mb-lg-0\">')\n",
      "Missing colon in file PosixPath('/Users/brettlv/.matplotlib/stylelib/notebook.mplstyle'), line 290 ('            <div class=\"header-search flex-auto js-site-search position-relative flex-self-stretch flex-md-self-auto mb-3 mb-md-0 mr-0 mr-md-3 scoped-search site-scoped-search js-jump-to\"')\n",
      "Missing colon in file PosixPath('/Users/brettlv/.matplotlib/stylelib/notebook.mplstyle'), line 291 ('  role=\"combobox\"')\n",
      "Missing colon in file PosixPath('/Users/brettlv/.matplotlib/stylelib/notebook.mplstyle'), line 292 ('  aria-owns=\"jump-to-results\"')\n",
      "Missing colon in file PosixPath('/Users/brettlv/.matplotlib/stylelib/notebook.mplstyle'), line 293 ('  aria-label=\"Search or jump to\"')\n",
      "Missing colon in file PosixPath('/Users/brettlv/.matplotlib/stylelib/notebook.mplstyle'), line 294 ('  aria-haspopup=\"listbox\"')\n",
      "Missing colon in file PosixPath('/Users/brettlv/.matplotlib/stylelib/notebook.mplstyle'), line 295 ('  aria-expanded=\"false\"')\n",
      "Missing colon in file PosixPath('/Users/brettlv/.matplotlib/stylelib/notebook.mplstyle'), line 296 ('>')\n",
      "Missing colon in file PosixPath('/Users/brettlv/.matplotlib/stylelib/notebook.mplstyle'), line 297 ('  <div class=\"position-relative\">')\n",
      "Missing colon in file PosixPath('/Users/brettlv/.matplotlib/stylelib/notebook.mplstyle'), line 298 ('    <!-- \\'\"` --><!-- </textarea></xmp> --></option></form><form class=\"js-site-search-form\" role=\"search\" aria-label=\"Site\" data-flagged-in=\"false\" data-scope-type=\"Repository\" data-scope-id=\"1385122\" data-scoped-search-url=\"/matplotlib/matplotlib/search\" data-owner-scoped-search-url=\"/orgs/matplotlib/search\" data-unscoped-search-url=\"/search\" action=\"/matplotlib/matplotlib/search\" accept-charset=\"UTF-8\" method=\"get\">')\n",
      "Missing colon in file PosixPath('/Users/brettlv/.matplotlib/stylelib/notebook.mplstyle'), line 299 ('      <label class=\"form-control input-sm header-search-wrapper p-0 js-chromeless-input-container header-search-wrapper-jump-to position-relative d-flex flex-justify-between flex-items-center\">')\n",
      "Missing colon in file PosixPath('/Users/brettlv/.matplotlib/stylelib/notebook.mplstyle'), line 300 ('        <input type=\"text\"')\n",
      "Missing colon in file PosixPath('/Users/brettlv/.matplotlib/stylelib/notebook.mplstyle'), line 301 ('          class=\"form-control input-sm header-search-input jump-to-field js-jump-to-field js-site-search-focus js-site-search-field is-clearable\"')\n",
      "Missing colon in file PosixPath('/Users/brettlv/.matplotlib/stylelib/notebook.mplstyle'), line 302 ('          data-hotkey=\"s,/\"')\n",
      "Missing colon in file PosixPath('/Users/brettlv/.matplotlib/stylelib/notebook.mplstyle'), line 303 ('          name=\"q\"')\n",
      "Missing colon in file PosixPath('/Users/brettlv/.matplotlib/stylelib/notebook.mplstyle'), line 304 ('          value=\"\"')\n",
      "Missing colon in file PosixPath('/Users/brettlv/.matplotlib/stylelib/notebook.mplstyle'), line 305 ('          placeholder=\"Search\"')\n",
      "Missing colon in file PosixPath('/Users/brettlv/.matplotlib/stylelib/notebook.mplstyle'), line 306 ('          data-unscoped-placeholder=\"Search GitHub\"')\n",
      "Missing colon in file PosixPath('/Users/brettlv/.matplotlib/stylelib/notebook.mplstyle'), line 307 ('          data-scoped-placeholder=\"Search\"')\n",
      "Missing colon in file PosixPath('/Users/brettlv/.matplotlib/stylelib/notebook.mplstyle'), line 308 ('          autocapitalize=\"off\"')\n",
      "Missing colon in file PosixPath('/Users/brettlv/.matplotlib/stylelib/notebook.mplstyle'), line 309 ('          aria-autocomplete=\"list\"')\n",
      "Missing colon in file PosixPath('/Users/brettlv/.matplotlib/stylelib/notebook.mplstyle'), line 310 ('          aria-controls=\"jump-to-results\"')\n",
      "Missing colon in file PosixPath('/Users/brettlv/.matplotlib/stylelib/notebook.mplstyle'), line 311 ('          aria-label=\"Search\"')\n",
      "Missing colon in file PosixPath('/Users/brettlv/.matplotlib/stylelib/notebook.mplstyle'), line 312 ('          data-jump-to-suggestions-path=\"/_graphql/GetSuggestedNavigationDestinations\"')\n",
      "Missing colon in file PosixPath('/Users/brettlv/.matplotlib/stylelib/notebook.mplstyle'), line 313 ('          spellcheck=\"false\"')\n",
      "Missing colon in file PosixPath('/Users/brettlv/.matplotlib/stylelib/notebook.mplstyle'), line 314 ('          autocomplete=\"off\"')\n",
      "Missing colon in file PosixPath('/Users/brettlv/.matplotlib/stylelib/notebook.mplstyle'), line 315 ('          >')\n",
      "Missing colon in file PosixPath('/Users/brettlv/.matplotlib/stylelib/notebook.mplstyle'), line 316 ('          <input type=\"hidden\" data-csrf=\"true\" class=\"js-data-jump-to-suggestions-path-csrf\" value=\"5l1hF+H00FuHKNBv6AtyrPjZQlwAFG9newItM7I+JPZ61aUliT9P21U6h+JMNH7+FMJBqgC2o0PMK+KUOSYEMw==\" />')\n",
      "Missing colon in file PosixPath('/Users/brettlv/.matplotlib/stylelib/notebook.mplstyle'), line 317 ('          <input type=\"hidden\" class=\"js-site-search-type-field\" name=\"type\" >')\n",
      "Missing colon in file PosixPath('/Users/brettlv/.matplotlib/stylelib/notebook.mplstyle'), line 320 ('            <div class=\"Box position-absolute overflow-hidden d-none jump-to-suggestions js-jump-to-suggestions-container\">')\n",
      "Missing colon in file PosixPath('/Users/brettlv/.matplotlib/stylelib/notebook.mplstyle'), line 322 ('<ul class=\"d-none js-jump-to-suggestions-template-container\">')\n",
      "Missing colon in file PosixPath('/Users/brettlv/.matplotlib/stylelib/notebook.mplstyle'), line 325 ('<li class=\"d-flex flex-justify-start flex-items-center p-0 f5 navigation-item js-navigation-item js-jump-to-suggestion\" role=\"option\">')\n",
      "Missing colon in file PosixPath('/Users/brettlv/.matplotlib/stylelib/notebook.mplstyle'), line 326 ('  <a tabindex=\"-1\" class=\"no-underline d-flex flex-auto flex-items-center jump-to-suggestions-path js-jump-to-suggestion-path js-navigation-open p-2\" href=\"\" data-item-type=\"suggestion\">')\n",
      "Missing colon in file PosixPath('/Users/brettlv/.matplotlib/stylelib/notebook.mplstyle'), line 327 ('    <div class=\"jump-to-octicon js-jump-to-octicon flex-shrink-0 mr-2 text-center d-none\">')\n",
      "Missing colon in file PosixPath('/Users/brettlv/.matplotlib/stylelib/notebook.mplstyle'), line 328 ('      <svg height=\"16\" width=\"16\" class=\"octicon octicon-repo flex-shrink-0 js-jump-to-octicon-repo d-none\" title=\"Repository\" aria-label=\"Repository\" viewBox=\"0 0 16 16\" version=\"1.1\" role=\"img\"><path fill-rule=\"evenodd\" d=\"M2 2.5A2.5 2.5 0 014.5 0h8.75a.75.75 0 01.75.75v12.5a.75.75 0 01-.75.75h-2.5a.75.75 0 110-1.5h1.75v-2h-8a1 1 0 00-.714 1.7.75.75 0 01-1.072 1.05A2.495 2.495 0 012 11.5v-9zm10.5-1V9h-8c-.356 0-.694.074-1 .208V2.5a1 1 0 011-1h8zM5 12.25v3.25a.25.25 0 00.4.2l1.45-1.087a.25.25 0 01.3 0L8.6 15.7a.25.25 0 00.4-.2v-3.25a.25.25 0 00-.25-.25h-3.5a.25.25 0 00-.25.25z\"></path></svg>')\n",
      "Missing colon in file PosixPath('/Users/brettlv/.matplotlib/stylelib/notebook.mplstyle'), line 329 ('      <svg height=\"16\" width=\"16\" class=\"octicon octicon-project flex-shrink-0 js-jump-to-octicon-project d-none\" title=\"Project\" aria-label=\"Project\" viewBox=\"0 0 16 16\" version=\"1.1\" role=\"img\"><path fill-rule=\"evenodd\" d=\"M1.75 0A1.75 1.75 0 000 1.75v12.5C0 15.216.784 16 1.75 16h12.5A1.75 1.75 0 0016 14.25V1.75A1.75 1.75 0 0014.25 0H1.75zM1.5 1.75a.25.25 0 01.25-.25h12.5a.25.25 0 01.25.25v12.5a.25.25 0 01-.25.25H1.75a.25.25 0 01-.25-.25V1.75zM11.75 3a.75.75 0 00-.75.75v7.5a.75.75 0 001.5 0v-7.5a.75.75 0 00-.75-.75zm-8.25.75a.75.75 0 011.5 0v5.5a.75.75 0 01-1.5 0v-5.5zM8 3a.75.75 0 00-.75.75v3.5a.75.75 0 001.5 0v-3.5A.75.75 0 008 3z\"></path></svg>')\n",
      "Missing colon in file PosixPath('/Users/brettlv/.matplotlib/stylelib/notebook.mplstyle'), line 330 ('      <svg height=\"16\" width=\"16\" class=\"octicon octicon-search flex-shrink-0 js-jump-to-octicon-search d-none\" title=\"Search\" aria-label=\"Search\" viewBox=\"0 0 16 16\" version=\"1.1\" role=\"img\"><path fill-rule=\"evenodd\" d=\"M11.5 7a4.499 4.499 0 11-8.998 0A4.499 4.499 0 0111.5 7zm-.82 4.74a6 6 0 111.06-1.06l3.04 3.04a.75.75 0 11-1.06 1.06l-3.04-3.04z\"></path></svg>')\n",
      "Missing colon in file PosixPath('/Users/brettlv/.matplotlib/stylelib/notebook.mplstyle'), line 331 ('    </div>')\n",
      "Missing colon in file PosixPath('/Users/brettlv/.matplotlib/stylelib/notebook.mplstyle'), line 333 ('    <img class=\"avatar mr-2 flex-shrink-0 js-jump-to-suggestion-avatar d-none\" alt=\"\" aria-label=\"Team\" src=\"\" width=\"28\" height=\"28\">')\n",
      "Missing colon in file PosixPath('/Users/brettlv/.matplotlib/stylelib/notebook.mplstyle'), line 335 ('    <div class=\"jump-to-suggestion-name js-jump-to-suggestion-name flex-auto overflow-hidden text-left no-wrap css-truncate css-truncate-target\">')\n",
      "Missing colon in file PosixPath('/Users/brettlv/.matplotlib/stylelib/notebook.mplstyle'), line 336 ('    </div>')\n",
      "Missing colon in file PosixPath('/Users/brettlv/.matplotlib/stylelib/notebook.mplstyle'), line 338 ('    <div class=\"border rounded-1 flex-shrink-0 bg-gray px-1 text-gray-light ml-1 f6 d-none js-jump-to-badge-search\">')\n",
      "Missing colon in file PosixPath('/Users/brettlv/.matplotlib/stylelib/notebook.mplstyle'), line 339 ('      <span class=\"js-jump-to-badge-search-text-default d-none\" aria-label=\"in this repository\">')\n",
      "Missing colon in file PosixPath('/Users/brettlv/.matplotlib/stylelib/notebook.mplstyle'), line 340 ('        In this repository')\n",
      "Missing colon in file PosixPath('/Users/brettlv/.matplotlib/stylelib/notebook.mplstyle'), line 341 ('      </span>')\n",
      "Missing colon in file PosixPath('/Users/brettlv/.matplotlib/stylelib/notebook.mplstyle'), line 342 ('      <span class=\"js-jump-to-badge-search-text-global d-none\" aria-label=\"in all of GitHub\">')\n",
      "Missing colon in file PosixPath('/Users/brettlv/.matplotlib/stylelib/notebook.mplstyle'), line 343 ('        All GitHub')\n",
      "Missing colon in file PosixPath('/Users/brettlv/.matplotlib/stylelib/notebook.mplstyle'), line 344 ('      </span>')\n",
      "Missing colon in file PosixPath('/Users/brettlv/.matplotlib/stylelib/notebook.mplstyle'), line 345 ('      <span aria-hidden=\"true\" class=\"d-inline-block ml-1 v-align-middle\">↵</span>')\n",
      "Missing colon in file PosixPath('/Users/brettlv/.matplotlib/stylelib/notebook.mplstyle'), line 346 ('    </div>')\n",
      "Missing colon in file PosixPath('/Users/brettlv/.matplotlib/stylelib/notebook.mplstyle'), line 348 ('    <div aria-hidden=\"true\" class=\"border rounded-1 flex-shrink-0 bg-gray px-1 text-gray-light ml-1 f6 d-none d-on-nav-focus js-jump-to-badge-jump\">')\n",
      "Missing colon in file PosixPath('/Users/brettlv/.matplotlib/stylelib/notebook.mplstyle'), line 349 ('      Jump to')\n",
      "Missing colon in file PosixPath('/Users/brettlv/.matplotlib/stylelib/notebook.mplstyle'), line 350 ('      <span class=\"d-inline-block ml-1 v-align-middle\">↵</span>')\n",
      "Missing colon in file PosixPath('/Users/brettlv/.matplotlib/stylelib/notebook.mplstyle'), line 351 ('    </div>')\n",
      "Missing colon in file PosixPath('/Users/brettlv/.matplotlib/stylelib/notebook.mplstyle'), line 352 ('  </a>')\n",
      "Missing colon in file PosixPath('/Users/brettlv/.matplotlib/stylelib/notebook.mplstyle'), line 353 ('</li>')\n",
      "Missing colon in file PosixPath('/Users/brettlv/.matplotlib/stylelib/notebook.mplstyle'), line 355 ('</ul>')\n",
      "Missing colon in file PosixPath('/Users/brettlv/.matplotlib/stylelib/notebook.mplstyle'), line 357 ('<ul class=\"d-none js-jump-to-no-results-template-container\">')\n",
      "Missing colon in file PosixPath('/Users/brettlv/.matplotlib/stylelib/notebook.mplstyle'), line 358 ('  <li class=\"d-flex flex-justify-center flex-items-center f5 d-none js-jump-to-suggestion p-2\">')\n",
      "Missing colon in file PosixPath('/Users/brettlv/.matplotlib/stylelib/notebook.mplstyle'), line 359 ('    <span class=\"text-gray\">No suggested jump to results</span>')\n",
      "Missing colon in file PosixPath('/Users/brettlv/.matplotlib/stylelib/notebook.mplstyle'), line 360 ('  </li>')\n",
      "Missing colon in file PosixPath('/Users/brettlv/.matplotlib/stylelib/notebook.mplstyle'), line 361 ('</ul>')\n",
      "Missing colon in file PosixPath('/Users/brettlv/.matplotlib/stylelib/notebook.mplstyle'), line 363 ('<ul id=\"jump-to-results\" role=\"listbox\" class=\"p-0 m-0 js-navigation-container jump-to-suggestions-results-container js-jump-to-suggestions-results-container\">')\n",
      "Missing colon in file PosixPath('/Users/brettlv/.matplotlib/stylelib/notebook.mplstyle'), line 366 ('<li class=\"d-flex flex-justify-start flex-items-center p-0 f5 navigation-item js-navigation-item js-jump-to-scoped-search d-none\" role=\"option\">')\n",
      "Missing colon in file PosixPath('/Users/brettlv/.matplotlib/stylelib/notebook.mplstyle'), line 367 ('  <a tabindex=\"-1\" class=\"no-underline d-flex flex-auto flex-items-center jump-to-suggestions-path js-jump-to-suggestion-path js-navigation-open p-2\" href=\"\" data-item-type=\"scoped_search\">')\n",
      "Missing colon in file PosixPath('/Users/brettlv/.matplotlib/stylelib/notebook.mplstyle'), line 368 ('    <div class=\"jump-to-octicon js-jump-to-octicon flex-shrink-0 mr-2 text-center d-none\">')\n",
      "Missing colon in file PosixPath('/Users/brettlv/.matplotlib/stylelib/notebook.mplstyle'), line 369 ('      <svg height=\"16\" width=\"16\" class=\"octicon octicon-repo flex-shrink-0 js-jump-to-octicon-repo d-none\" title=\"Repository\" aria-label=\"Repository\" viewBox=\"0 0 16 16\" version=\"1.1\" role=\"img\"><path fill-rule=\"evenodd\" d=\"M2 2.5A2.5 2.5 0 014.5 0h8.75a.75.75 0 01.75.75v12.5a.75.75 0 01-.75.75h-2.5a.75.75 0 110-1.5h1.75v-2h-8a1 1 0 00-.714 1.7.75.75 0 01-1.072 1.05A2.495 2.495 0 012 11.5v-9zm10.5-1V9h-8c-.356 0-.694.074-1 .208V2.5a1 1 0 011-1h8zM5 12.25v3.25a.25.25 0 00.4.2l1.45-1.087a.25.25 0 01.3 0L8.6 15.7a.25.25 0 00.4-.2v-3.25a.25.25 0 00-.25-.25h-3.5a.25.25 0 00-.25.25z\"></path></svg>')\n",
      "Missing colon in file PosixPath('/Users/brettlv/.matplotlib/stylelib/notebook.mplstyle'), line 370 ('      <svg height=\"16\" width=\"16\" class=\"octicon octicon-project flex-shrink-0 js-jump-to-octicon-project d-none\" title=\"Project\" aria-label=\"Project\" viewBox=\"0 0 16 16\" version=\"1.1\" role=\"img\"><path fill-rule=\"evenodd\" d=\"M1.75 0A1.75 1.75 0 000 1.75v12.5C0 15.216.784 16 1.75 16h12.5A1.75 1.75 0 0016 14.25V1.75A1.75 1.75 0 0014.25 0H1.75zM1.5 1.75a.25.25 0 01.25-.25h12.5a.25.25 0 01.25.25v12.5a.25.25 0 01-.25.25H1.75a.25.25 0 01-.25-.25V1.75zM11.75 3a.75.75 0 00-.75.75v7.5a.75.75 0 001.5 0v-7.5a.75.75 0 00-.75-.75zm-8.25.75a.75.75 0 011.5 0v5.5a.75.75 0 01-1.5 0v-5.5zM8 3a.75.75 0 00-.75.75v3.5a.75.75 0 001.5 0v-3.5A.75.75 0 008 3z\"></path></svg>')\n",
      "Missing colon in file PosixPath('/Users/brettlv/.matplotlib/stylelib/notebook.mplstyle'), line 371 ('      <svg height=\"16\" width=\"16\" class=\"octicon octicon-search flex-shrink-0 js-jump-to-octicon-search d-none\" title=\"Search\" aria-label=\"Search\" viewBox=\"0 0 16 16\" version=\"1.1\" role=\"img\"><path fill-rule=\"evenodd\" d=\"M11.5 7a4.499 4.499 0 11-8.998 0A4.499 4.499 0 0111.5 7zm-.82 4.74a6 6 0 111.06-1.06l3.04 3.04a.75.75 0 11-1.06 1.06l-3.04-3.04z\"></path></svg>')\n",
      "Missing colon in file PosixPath('/Users/brettlv/.matplotlib/stylelib/notebook.mplstyle'), line 372 ('    </div>')\n",
      "Missing colon in file PosixPath('/Users/brettlv/.matplotlib/stylelib/notebook.mplstyle'), line 374 ('    <img class=\"avatar mr-2 flex-shrink-0 js-jump-to-suggestion-avatar d-none\" alt=\"\" aria-label=\"Team\" src=\"\" width=\"28\" height=\"28\">')\n",
      "Missing colon in file PosixPath('/Users/brettlv/.matplotlib/stylelib/notebook.mplstyle'), line 376 ('    <div class=\"jump-to-suggestion-name js-jump-to-suggestion-name flex-auto overflow-hidden text-left no-wrap css-truncate css-truncate-target\">')\n",
      "Missing colon in file PosixPath('/Users/brettlv/.matplotlib/stylelib/notebook.mplstyle'), line 377 ('    </div>')\n",
      "Missing colon in file PosixPath('/Users/brettlv/.matplotlib/stylelib/notebook.mplstyle'), line 379 ('    <div class=\"border rounded-1 flex-shrink-0 bg-gray px-1 text-gray-light ml-1 f6 d-none js-jump-to-badge-search\">')\n",
      "Missing colon in file PosixPath('/Users/brettlv/.matplotlib/stylelib/notebook.mplstyle'), line 380 ('      <span class=\"js-jump-to-badge-search-text-default d-none\" aria-label=\"in this repository\">')\n",
      "Missing colon in file PosixPath('/Users/brettlv/.matplotlib/stylelib/notebook.mplstyle'), line 381 ('        In this repository')\n",
      "Missing colon in file PosixPath('/Users/brettlv/.matplotlib/stylelib/notebook.mplstyle'), line 382 ('      </span>')\n",
      "Missing colon in file PosixPath('/Users/brettlv/.matplotlib/stylelib/notebook.mplstyle'), line 383 ('      <span class=\"js-jump-to-badge-search-text-global d-none\" aria-label=\"in all of GitHub\">')\n",
      "Missing colon in file PosixPath('/Users/brettlv/.matplotlib/stylelib/notebook.mplstyle'), line 384 ('        All GitHub')\n",
      "Missing colon in file PosixPath('/Users/brettlv/.matplotlib/stylelib/notebook.mplstyle'), line 385 ('      </span>')\n",
      "Missing colon in file PosixPath('/Users/brettlv/.matplotlib/stylelib/notebook.mplstyle'), line 386 ('      <span aria-hidden=\"true\" class=\"d-inline-block ml-1 v-align-middle\">↵</span>')\n",
      "Missing colon in file PosixPath('/Users/brettlv/.matplotlib/stylelib/notebook.mplstyle'), line 387 ('    </div>')\n",
      "Missing colon in file PosixPath('/Users/brettlv/.matplotlib/stylelib/notebook.mplstyle'), line 389 ('    <div aria-hidden=\"true\" class=\"border rounded-1 flex-shrink-0 bg-gray px-1 text-gray-light ml-1 f6 d-none d-on-nav-focus js-jump-to-badge-jump\">')\n",
      "Missing colon in file PosixPath('/Users/brettlv/.matplotlib/stylelib/notebook.mplstyle'), line 390 ('      Jump to')\n",
      "Missing colon in file PosixPath('/Users/brettlv/.matplotlib/stylelib/notebook.mplstyle'), line 391 ('      <span class=\"d-inline-block ml-1 v-align-middle\">↵</span>')\n",
      "Missing colon in file PosixPath('/Users/brettlv/.matplotlib/stylelib/notebook.mplstyle'), line 392 ('    </div>')\n",
      "Missing colon in file PosixPath('/Users/brettlv/.matplotlib/stylelib/notebook.mplstyle'), line 393 ('  </a>')\n",
      "Missing colon in file PosixPath('/Users/brettlv/.matplotlib/stylelib/notebook.mplstyle'), line 394 ('</li>')\n",
      "Missing colon in file PosixPath('/Users/brettlv/.matplotlib/stylelib/notebook.mplstyle'), line 398 ('<li class=\"d-flex flex-justify-start flex-items-center p-0 f5 navigation-item js-navigation-item js-jump-to-global-search d-none\" role=\"option\">')\n",
      "Missing colon in file PosixPath('/Users/brettlv/.matplotlib/stylelib/notebook.mplstyle'), line 399 ('  <a tabindex=\"-1\" class=\"no-underline d-flex flex-auto flex-items-center jump-to-suggestions-path js-jump-to-suggestion-path js-navigation-open p-2\" href=\"\" data-item-type=\"global_search\">')\n",
      "Missing colon in file PosixPath('/Users/brettlv/.matplotlib/stylelib/notebook.mplstyle'), line 400 ('    <div class=\"jump-to-octicon js-jump-to-octicon flex-shrink-0 mr-2 text-center d-none\">')\n",
      "Missing colon in file PosixPath('/Users/brettlv/.matplotlib/stylelib/notebook.mplstyle'), line 401 ('      <svg height=\"16\" width=\"16\" class=\"octicon octicon-repo flex-shrink-0 js-jump-to-octicon-repo d-none\" title=\"Repository\" aria-label=\"Repository\" viewBox=\"0 0 16 16\" version=\"1.1\" role=\"img\"><path fill-rule=\"evenodd\" d=\"M2 2.5A2.5 2.5 0 014.5 0h8.75a.75.75 0 01.75.75v12.5a.75.75 0 01-.75.75h-2.5a.75.75 0 110-1.5h1.75v-2h-8a1 1 0 00-.714 1.7.75.75 0 01-1.072 1.05A2.495 2.495 0 012 11.5v-9zm10.5-1V9h-8c-.356 0-.694.074-1 .208V2.5a1 1 0 011-1h8zM5 12.25v3.25a.25.25 0 00.4.2l1.45-1.087a.25.25 0 01.3 0L8.6 15.7a.25.25 0 00.4-.2v-3.25a.25.25 0 00-.25-.25h-3.5a.25.25 0 00-.25.25z\"></path></svg>')\n",
      "Missing colon in file PosixPath('/Users/brettlv/.matplotlib/stylelib/notebook.mplstyle'), line 402 ('      <svg height=\"16\" width=\"16\" class=\"octicon octicon-project flex-shrink-0 js-jump-to-octicon-project d-none\" title=\"Project\" aria-label=\"Project\" viewBox=\"0 0 16 16\" version=\"1.1\" role=\"img\"><path fill-rule=\"evenodd\" d=\"M1.75 0A1.75 1.75 0 000 1.75v12.5C0 15.216.784 16 1.75 16h12.5A1.75 1.75 0 0016 14.25V1.75A1.75 1.75 0 0014.25 0H1.75zM1.5 1.75a.25.25 0 01.25-.25h12.5a.25.25 0 01.25.25v12.5a.25.25 0 01-.25.25H1.75a.25.25 0 01-.25-.25V1.75zM11.75 3a.75.75 0 00-.75.75v7.5a.75.75 0 001.5 0v-7.5a.75.75 0 00-.75-.75zm-8.25.75a.75.75 0 011.5 0v5.5a.75.75 0 01-1.5 0v-5.5zM8 3a.75.75 0 00-.75.75v3.5a.75.75 0 001.5 0v-3.5A.75.75 0 008 3z\"></path></svg>')\n",
      "Missing colon in file PosixPath('/Users/brettlv/.matplotlib/stylelib/notebook.mplstyle'), line 403 ('      <svg height=\"16\" width=\"16\" class=\"octicon octicon-search flex-shrink-0 js-jump-to-octicon-search d-none\" title=\"Search\" aria-label=\"Search\" viewBox=\"0 0 16 16\" version=\"1.1\" role=\"img\"><path fill-rule=\"evenodd\" d=\"M11.5 7a4.499 4.499 0 11-8.998 0A4.499 4.499 0 0111.5 7zm-.82 4.74a6 6 0 111.06-1.06l3.04 3.04a.75.75 0 11-1.06 1.06l-3.04-3.04z\"></path></svg>')\n",
      "Missing colon in file PosixPath('/Users/brettlv/.matplotlib/stylelib/notebook.mplstyle'), line 404 ('    </div>')\n",
      "Missing colon in file PosixPath('/Users/brettlv/.matplotlib/stylelib/notebook.mplstyle'), line 406 ('    <img class=\"avatar mr-2 flex-shrink-0 js-jump-to-suggestion-avatar d-none\" alt=\"\" aria-label=\"Team\" src=\"\" width=\"28\" height=\"28\">')\n",
      "Missing colon in file PosixPath('/Users/brettlv/.matplotlib/stylelib/notebook.mplstyle'), line 408 ('    <div class=\"jump-to-suggestion-name js-jump-to-suggestion-name flex-auto overflow-hidden text-left no-wrap css-truncate css-truncate-target\">')\n",
      "Missing colon in file PosixPath('/Users/brettlv/.matplotlib/stylelib/notebook.mplstyle'), line 409 ('    </div>')\n",
      "Missing colon in file PosixPath('/Users/brettlv/.matplotlib/stylelib/notebook.mplstyle'), line 411 ('    <div class=\"border rounded-1 flex-shrink-0 bg-gray px-1 text-gray-light ml-1 f6 d-none js-jump-to-badge-search\">')\n",
      "Missing colon in file PosixPath('/Users/brettlv/.matplotlib/stylelib/notebook.mplstyle'), line 412 ('      <span class=\"js-jump-to-badge-search-text-default d-none\" aria-label=\"in this repository\">')\n",
      "Missing colon in file PosixPath('/Users/brettlv/.matplotlib/stylelib/notebook.mplstyle'), line 413 ('        In this repository')\n",
      "Missing colon in file PosixPath('/Users/brettlv/.matplotlib/stylelib/notebook.mplstyle'), line 414 ('      </span>')\n",
      "Missing colon in file PosixPath('/Users/brettlv/.matplotlib/stylelib/notebook.mplstyle'), line 415 ('      <span class=\"js-jump-to-badge-search-text-global d-none\" aria-label=\"in all of GitHub\">')\n",
      "Missing colon in file PosixPath('/Users/brettlv/.matplotlib/stylelib/notebook.mplstyle'), line 416 ('        All GitHub')\n",
      "Missing colon in file PosixPath('/Users/brettlv/.matplotlib/stylelib/notebook.mplstyle'), line 417 ('      </span>')\n",
      "Missing colon in file PosixPath('/Users/brettlv/.matplotlib/stylelib/notebook.mplstyle'), line 418 ('      <span aria-hidden=\"true\" class=\"d-inline-block ml-1 v-align-middle\">↵</span>')\n",
      "Missing colon in file PosixPath('/Users/brettlv/.matplotlib/stylelib/notebook.mplstyle'), line 419 ('    </div>')\n",
      "Missing colon in file PosixPath('/Users/brettlv/.matplotlib/stylelib/notebook.mplstyle'), line 421 ('    <div aria-hidden=\"true\" class=\"border rounded-1 flex-shrink-0 bg-gray px-1 text-gray-light ml-1 f6 d-none d-on-nav-focus js-jump-to-badge-jump\">')\n",
      "Missing colon in file PosixPath('/Users/brettlv/.matplotlib/stylelib/notebook.mplstyle'), line 422 ('      Jump to')\n",
      "Missing colon in file PosixPath('/Users/brettlv/.matplotlib/stylelib/notebook.mplstyle'), line 423 ('      <span class=\"d-inline-block ml-1 v-align-middle\">↵</span>')\n",
      "Missing colon in file PosixPath('/Users/brettlv/.matplotlib/stylelib/notebook.mplstyle'), line 424 ('    </div>')\n",
      "Missing colon in file PosixPath('/Users/brettlv/.matplotlib/stylelib/notebook.mplstyle'), line 425 ('  </a>')\n",
      "Missing colon in file PosixPath('/Users/brettlv/.matplotlib/stylelib/notebook.mplstyle'), line 426 ('</li>')\n",
      "Missing colon in file PosixPath('/Users/brettlv/.matplotlib/stylelib/notebook.mplstyle'), line 429 ('</ul>')\n",
      "Missing colon in file PosixPath('/Users/brettlv/.matplotlib/stylelib/notebook.mplstyle'), line 431 ('            </div>')\n",
      "Missing colon in file PosixPath('/Users/brettlv/.matplotlib/stylelib/notebook.mplstyle'), line 432 ('      </label>')\n",
      "Missing colon in file PosixPath('/Users/brettlv/.matplotlib/stylelib/notebook.mplstyle'), line 433 ('</form>  </div>')\n",
      "Missing colon in file PosixPath('/Users/brettlv/.matplotlib/stylelib/notebook.mplstyle'), line 434 ('</div>')\n",
      "Missing colon in file PosixPath('/Users/brettlv/.matplotlib/stylelib/notebook.mplstyle'), line 436 ('          </div>')\n",
      "Missing colon in file PosixPath('/Users/brettlv/.matplotlib/stylelib/notebook.mplstyle'), line 438 ('        <a href=\"/login?return_to=%2Fmatplotlib%2Fmatplotlib%2Fblob%2Fmaster%2Fmatplotlibrc.template\"')\n",
      "Missing colon in file PosixPath('/Users/brettlv/.matplotlib/stylelib/notebook.mplstyle'), line 439 ('          class=\"HeaderMenu-link no-underline mr-3\"')\n",
      "Duplicate key in file PosixPath('/Users/brettlv/.matplotlib/stylelib/notebook.mplstyle'), line 440 ('          data-hydro-click=\"{&quot;event_type&quot;:&quot;authentication.click&quot;,&quot;payload&quot;:{&quot;location_in_page&quot;:&quot;site header menu&quot;,&quot;repository_id&quot;:null,&quot;auth_type&quot;:&quot;SIGN_UP&quot;,&quot;originating_url&quot;:&quot;https://github.com/matplotlib/matplotlib/blob/master/matplotlibrc.template&quot;,&quot;user_id&quot;:null}}\" data-hydro-click-hmac=\"240fe0a0d82118c35a7a9f5596cade86af7416f716071030ee338264638ee3dd\"')\n",
      "Missing colon in file PosixPath('/Users/brettlv/.matplotlib/stylelib/notebook.mplstyle'), line 442 ('          Sign&nbsp;in')\n",
      "Missing colon in file PosixPath('/Users/brettlv/.matplotlib/stylelib/notebook.mplstyle'), line 443 ('        </a>')\n",
      "Missing colon in file PosixPath('/Users/brettlv/.matplotlib/stylelib/notebook.mplstyle'), line 444 ('            <a href=\"/join?ref_cta=Sign+up&amp;ref_loc=header+logged+out&amp;ref_page=%2F%3Cuser-name%3E%2F%3Crepo-name%3E%2Fblob%2Fshow&amp;source=header-repo&amp;source_repo=matplotlib%2Fmatplotlib\"')\n",
      "Missing colon in file PosixPath('/Users/brettlv/.matplotlib/stylelib/notebook.mplstyle'), line 445 ('              class=\"HeaderMenu-link d-inline-block no-underline border border-gray-dark rounded-1 px-2 py-1\"')\n",
      "Duplicate key in file PosixPath('/Users/brettlv/.matplotlib/stylelib/notebook.mplstyle'), line 446 ('              data-hydro-click=\"{&quot;event_type&quot;:&quot;authentication.click&quot;,&quot;payload&quot;:{&quot;location_in_page&quot;:&quot;site header menu&quot;,&quot;repository_id&quot;:null,&quot;auth_type&quot;:&quot;SIGN_UP&quot;,&quot;originating_url&quot;:&quot;https://github.com/matplotlib/matplotlib/blob/master/matplotlibrc.template&quot;,&quot;user_id&quot;:null}}\" data-hydro-click-hmac=\"240fe0a0d82118c35a7a9f5596cade86af7416f716071030ee338264638ee3dd\"')\n",
      "Duplicate key in file PosixPath('/Users/brettlv/.matplotlib/stylelib/notebook.mplstyle'), line 447 ('              data-ga-click=\"Sign up, click to sign up for account, ref_page:/&lt;user-name&gt;/&lt;repo-name&gt;/blob/show;ref_cta:Sign up;ref_loc:header logged out\">')\n",
      "Missing colon in file PosixPath('/Users/brettlv/.matplotlib/stylelib/notebook.mplstyle'), line 448 ('              Sign&nbsp;up')\n",
      "Missing colon in file PosixPath('/Users/brettlv/.matplotlib/stylelib/notebook.mplstyle'), line 449 ('            </a>')\n",
      "Missing colon in file PosixPath('/Users/brettlv/.matplotlib/stylelib/notebook.mplstyle'), line 450 ('      </div>')\n",
      "Missing colon in file PosixPath('/Users/brettlv/.matplotlib/stylelib/notebook.mplstyle'), line 451 ('    </div>')\n",
      "Missing colon in file PosixPath('/Users/brettlv/.matplotlib/stylelib/notebook.mplstyle'), line 452 ('  </div>')\n",
      "Missing colon in file PosixPath('/Users/brettlv/.matplotlib/stylelib/notebook.mplstyle'), line 453 ('</header>')\n",
      "Missing colon in file PosixPath('/Users/brettlv/.matplotlib/stylelib/notebook.mplstyle'), line 455 ('    </div>')\n",
      "Missing colon in file PosixPath('/Users/brettlv/.matplotlib/stylelib/notebook.mplstyle'), line 457 ('  <div id=\"start-of-content\" class=\"show-on-focus\"></div>')\n",
      "Missing colon in file PosixPath('/Users/brettlv/.matplotlib/stylelib/notebook.mplstyle'), line 463 ('    <div data-pjax-replace id=\"js-flash-container\">')\n",
      "Missing colon in file PosixPath('/Users/brettlv/.matplotlib/stylelib/notebook.mplstyle'), line 466 ('  <template class=\"js-flash-template\">')\n",
      "Missing colon in file PosixPath('/Users/brettlv/.matplotlib/stylelib/notebook.mplstyle'), line 467 ('    <div class=\"flash flash-full  {{ className }}\">')\n",
      "Missing colon in file PosixPath('/Users/brettlv/.matplotlib/stylelib/notebook.mplstyle'), line 468 ('  <div class=\" px-2\" >')\n",
      "Missing colon in file PosixPath('/Users/brettlv/.matplotlib/stylelib/notebook.mplstyle'), line 469 ('    <button class=\"flash-close js-flash-close\" type=\"button\" aria-label=\"Dismiss this message\">')\n",
      "Missing colon in file PosixPath('/Users/brettlv/.matplotlib/stylelib/notebook.mplstyle'), line 470 ('      <svg class=\"octicon octicon-x\" viewBox=\"0 0 16 16\" version=\"1.1\" width=\"16\" height=\"16\" aria-hidden=\"true\"><path fill-rule=\"evenodd\" d=\"M3.72 3.72a.75.75 0 011.06 0L8 6.94l3.22-3.22a.75.75 0 111.06 1.06L9.06 8l3.22 3.22a.75.75 0 11-1.06 1.06L8 9.06l-3.22 3.22a.75.75 0 01-1.06-1.06L6.94 8 3.72 4.78a.75.75 0 010-1.06z\"></path></svg>')\n",
      "Missing colon in file PosixPath('/Users/brettlv/.matplotlib/stylelib/notebook.mplstyle'), line 471 ('    </button>')\n",
      "Missing colon in file PosixPath('/Users/brettlv/.matplotlib/stylelib/notebook.mplstyle'), line 473 ('      <div>{{ message }}</div>')\n",
      "Missing colon in file PosixPath('/Users/brettlv/.matplotlib/stylelib/notebook.mplstyle'), line 475 ('  </div>')\n",
      "Missing colon in file PosixPath('/Users/brettlv/.matplotlib/stylelib/notebook.mplstyle'), line 476 ('</div>')\n",
      "Missing colon in file PosixPath('/Users/brettlv/.matplotlib/stylelib/notebook.mplstyle'), line 477 ('  </template>')\n",
      "Missing colon in file PosixPath('/Users/brettlv/.matplotlib/stylelib/notebook.mplstyle'), line 478 ('</div>')\n",
      "Missing colon in file PosixPath('/Users/brettlv/.matplotlib/stylelib/notebook.mplstyle'), line 488 ('  <div')\n",
      "Missing colon in file PosixPath('/Users/brettlv/.matplotlib/stylelib/notebook.mplstyle'), line 489 ('    class=\"application-main \"')\n",
      "Missing colon in file PosixPath('/Users/brettlv/.matplotlib/stylelib/notebook.mplstyle'), line 490 ('    data-commit-hovercards-enabled')\n",
      "Missing colon in file PosixPath('/Users/brettlv/.matplotlib/stylelib/notebook.mplstyle'), line 491 ('    data-discussion-hovercards-enabled')\n",
      "Missing colon in file PosixPath('/Users/brettlv/.matplotlib/stylelib/notebook.mplstyle'), line 492 ('    data-issue-and-pr-hovercards-enabled')\n",
      "Missing colon in file PosixPath('/Users/brettlv/.matplotlib/stylelib/notebook.mplstyle'), line 493 ('  >')\n",
      "Missing colon in file PosixPath('/Users/brettlv/.matplotlib/stylelib/notebook.mplstyle'), line 495 ('    <main  >')\n",
      "Missing colon in file PosixPath('/Users/brettlv/.matplotlib/stylelib/notebook.mplstyle'), line 511 ('  <div class=\"bg-gray-light pt-3 hide-full-screen mb-5\">')\n",
      "Missing colon in file PosixPath('/Users/brettlv/.matplotlib/stylelib/notebook.mplstyle'), line 513 ('      <div class=\"d-flex mb-3 px-3 px-md-4 px-lg-5\">')\n",
      "Missing colon in file PosixPath('/Users/brettlv/.matplotlib/stylelib/notebook.mplstyle'), line 515 ('        <div class=\"flex-auto min-width-0 width-fit mr-3\">')\n",
      "Missing colon in file PosixPath('/Users/brettlv/.matplotlib/stylelib/notebook.mplstyle'), line 516 ('            <h1 class=\" d-flex flex-wrap flex-items-center break-word f3 text-normal\">')\n",
      "Missing colon in file PosixPath('/Users/brettlv/.matplotlib/stylelib/notebook.mplstyle'), line 517 ('    <svg class=\"octicon octicon-repo text-gray mr-2\" viewBox=\"0 0 16 16\" version=\"1.1\" width=\"16\" height=\"16\" aria-hidden=\"true\"><path fill-rule=\"evenodd\" d=\"M2 2.5A2.5 2.5 0 014.5 0h8.75a.75.75 0 01.75.75v12.5a.75.75 0 01-.75.75h-2.5a.75.75 0 110-1.5h1.75v-2h-8a1 1 0 00-.714 1.7.75.75 0 01-1.072 1.05A2.495 2.495 0 012 11.5v-9zm10.5-1V9h-8c-.356 0-.694.074-1 .208V2.5a1 1 0 011-1h8zM5 12.25v3.25a.25.25 0 00.4.2l1.45-1.087a.25.25 0 01.3 0L8.6 15.7a.25.25 0 00.4-.2v-3.25a.25.25 0 00-.25-.25h-3.5a.25.25 0 00-.25.25z\"></path></svg>')\n",
      "Missing colon in file PosixPath('/Users/brettlv/.matplotlib/stylelib/notebook.mplstyle'), line 518 ('    <span class=\"author flex-self-stretch\" itemprop=\"author\">')\n",
      "Missing colon in file PosixPath('/Users/brettlv/.matplotlib/stylelib/notebook.mplstyle'), line 519 ('      <a class=\"url fn\" rel=\"author\" data-hovercard-type=\"organization\" data-hovercard-url=\"/orgs/matplotlib/hovercard\" href=\"/matplotlib\">matplotlib</a>')\n",
      "Missing colon in file PosixPath('/Users/brettlv/.matplotlib/stylelib/notebook.mplstyle'), line 520 ('    </span>')\n",
      "Missing colon in file PosixPath('/Users/brettlv/.matplotlib/stylelib/notebook.mplstyle'), line 521 ('    <span class=\"mx-1 flex-self-stretch color-text-secondary\">/</span>')\n",
      "Missing colon in file PosixPath('/Users/brettlv/.matplotlib/stylelib/notebook.mplstyle'), line 522 ('  <strong itemprop=\"name\" class=\"mr-2 flex-self-stretch\">')\n",
      "Missing colon in file PosixPath('/Users/brettlv/.matplotlib/stylelib/notebook.mplstyle'), line 523 ('    <a data-pjax=\"#js-repo-pjax-container\" class=\"\" href=\"/matplotlib/matplotlib\">matplotlib</a>')\n",
      "Missing colon in file PosixPath('/Users/brettlv/.matplotlib/stylelib/notebook.mplstyle'), line 524 ('  </strong>')\n",
      "Missing colon in file PosixPath('/Users/brettlv/.matplotlib/stylelib/notebook.mplstyle'), line 526 ('</h1>')\n",
      "Missing colon in file PosixPath('/Users/brettlv/.matplotlib/stylelib/notebook.mplstyle'), line 529 ('        </div>')\n",
      "Missing colon in file PosixPath('/Users/brettlv/.matplotlib/stylelib/notebook.mplstyle'), line 532 ('    <li>')\n",
      "Missing colon in file PosixPath('/Users/brettlv/.matplotlib/stylelib/notebook.mplstyle'), line 533 ('      <details id=\"funding-links-modal\" class=\"details-reset details-overlay details-overlay-dark d-inline-block float-left\" >')\n",
      "Missing colon in file PosixPath('/Users/brettlv/.matplotlib/stylelib/notebook.mplstyle'), line 534 ('        <summary id=\"sponsor-button-repo\" class=\"btn btn-sm\"')\n",
      "Missing colon in file PosixPath('/Users/brettlv/.matplotlib/stylelib/notebook.mplstyle'), line 535 ('          title=\"Sponsor matplotlib/matplotlib\"')\n",
      "Missing colon in file PosixPath('/Users/brettlv/.matplotlib/stylelib/notebook.mplstyle'), line 537 ('          >')\n",
      "Missing colon in file PosixPath('/Users/brettlv/.matplotlib/stylelib/notebook.mplstyle'), line 538 ('          <svg class=\"octicon octicon-heart text-pink\" viewBox=\"0 0 16 16\" version=\"1.1\" width=\"16\" height=\"16\" aria-hidden=\"true\"><path fill-rule=\"evenodd\" d=\"M4.25 2.5c-1.336 0-2.75 1.164-2.75 3 0 2.15 1.58 4.144 3.365 5.682A20.565 20.565 0 008 13.393a20.561 20.561 0 003.135-2.211C12.92 9.644 14.5 7.65 14.5 5.5c0-1.836-1.414-3-2.75-3-1.373 0-2.609.986-3.029 2.456a.75.75 0 01-1.442 0C6.859 3.486 5.623 2.5 4.25 2.5zM8 14.25l-.345.666-.002-.001-.006-.003-.018-.01a7.643 7.643 0 01-.31-.17 22.075 22.075 0 01-3.434-2.414C2.045 10.731 0 8.35 0 5.5 0 2.836 2.086 1 4.25 1 5.797 1 7.153 1.802 8 3.02 8.847 1.802 10.203 1 11.75 1 13.914 1 16 2.836 16 5.5c0 2.85-2.045 5.231-3.885 6.818a22.08 22.08 0 01-3.744 2.584l-.018.01-.006.003h-.002L8 14.25zm0 0l.345.666a.752.752 0 01-.69 0L8 14.25z\"></path></svg>')\n",
      "Missing colon in file PosixPath('/Users/brettlv/.matplotlib/stylelib/notebook.mplstyle'), line 539 ('          Sponsor')\n",
      "Missing colon in file PosixPath('/Users/brettlv/.matplotlib/stylelib/notebook.mplstyle'), line 540 ('        </summary>')\n",
      "Missing colon in file PosixPath('/Users/brettlv/.matplotlib/stylelib/notebook.mplstyle'), line 541 ('        <details-dialog')\n",
      "Missing colon in file PosixPath('/Users/brettlv/.matplotlib/stylelib/notebook.mplstyle'), line 542 ('          class=\"anim-fade-in fast Box Box--overlay d-flex flex-column\"')\n",
      "Missing colon in file PosixPath('/Users/brettlv/.matplotlib/stylelib/notebook.mplstyle'), line 543 ('            src=\"/matplotlib/matplotlib/funding_links?fragment=1\"')\n",
      "Missing colon in file PosixPath('/Users/brettlv/.matplotlib/stylelib/notebook.mplstyle'), line 544 ('            preload')\n",
      "Missing colon in file PosixPath('/Users/brettlv/.matplotlib/stylelib/notebook.mplstyle'), line 545 ('          >')\n",
      "Missing colon in file PosixPath('/Users/brettlv/.matplotlib/stylelib/notebook.mplstyle'), line 546 ('          <div class=\"Box-header\">')\n",
      "Missing colon in file PosixPath('/Users/brettlv/.matplotlib/stylelib/notebook.mplstyle'), line 547 ('            <button class=\"Box-btn-octicon btn-octicon float-right\" type=\"button\" aria-label=\"Close dialog\" data-close-dialog>')\n",
      "Missing colon in file PosixPath('/Users/brettlv/.matplotlib/stylelib/notebook.mplstyle'), line 548 ('              <svg class=\"octicon octicon-x\" viewBox=\"0 0 16 16\" version=\"1.1\" width=\"16\" height=\"16\" aria-hidden=\"true\"><path fill-rule=\"evenodd\" d=\"M3.72 3.72a.75.75 0 011.06 0L8 6.94l3.22-3.22a.75.75 0 111.06 1.06L9.06 8l3.22 3.22a.75.75 0 11-1.06 1.06L8 9.06l-3.22 3.22a.75.75 0 01-1.06-1.06L6.94 8 3.72 4.78a.75.75 0 010-1.06z\"></path></svg>')\n",
      "Missing colon in file PosixPath('/Users/brettlv/.matplotlib/stylelib/notebook.mplstyle'), line 549 ('            </button>')\n",
      "Missing colon in file PosixPath('/Users/brettlv/.matplotlib/stylelib/notebook.mplstyle'), line 550 ('            <h3 class=\"Box-title\">')\n",
      "Missing colon in file PosixPath('/Users/brettlv/.matplotlib/stylelib/notebook.mplstyle'), line 551 ('              Sponsor matplotlib/matplotlib')\n",
      "Missing colon in file PosixPath('/Users/brettlv/.matplotlib/stylelib/notebook.mplstyle'), line 552 ('            </h3>')\n",
      "Missing colon in file PosixPath('/Users/brettlv/.matplotlib/stylelib/notebook.mplstyle'), line 553 ('          </div>')\n",
      "Missing colon in file PosixPath('/Users/brettlv/.matplotlib/stylelib/notebook.mplstyle'), line 554 ('          <div class=\"overflow-auto\">')\n",
      "Missing colon in file PosixPath('/Users/brettlv/.matplotlib/stylelib/notebook.mplstyle'), line 555 ('            <include-fragment')\n",
      "Missing colon in file PosixPath('/Users/brettlv/.matplotlib/stylelib/notebook.mplstyle'), line 556 ('              >')\n",
      "Missing colon in file PosixPath('/Users/brettlv/.matplotlib/stylelib/notebook.mplstyle'), line 558 ('  <circle cx=\"8\" cy=\"8\" r=\"7\" stroke=\"currentColor\" stroke-opacity=\"0.25\" stroke-width=\"2\" vector-effect=\"non-scaling-stroke\" />')\n",
      "Missing colon in file PosixPath('/Users/brettlv/.matplotlib/stylelib/notebook.mplstyle'), line 559 ('  <path d=\"M15 8a7.002 7.002 0 00-7-7\" stroke=\"currentColor\" stroke-width=\"2\" stroke-linecap=\"round\" vector-effect=\"non-scaling-stroke\">')\n",
      "Missing colon in file PosixPath('/Users/brettlv/.matplotlib/stylelib/notebook.mplstyle'), line 560 ('    <animateTransform attributeName=\"transform\" type=\"rotate\" from=\"0 8 8\" to=\"360 8 8\" dur=\"1s\" repeatCount=\"indefinite\" />')\n",
      "Missing colon in file PosixPath('/Users/brettlv/.matplotlib/stylelib/notebook.mplstyle'), line 561 ('  </path>')\n",
      "Missing colon in file PosixPath('/Users/brettlv/.matplotlib/stylelib/notebook.mplstyle'), line 562 ('</svg>')\n",
      "Missing colon in file PosixPath('/Users/brettlv/.matplotlib/stylelib/notebook.mplstyle'), line 563 ('            </include-fragment>')\n",
      "Missing colon in file PosixPath('/Users/brettlv/.matplotlib/stylelib/notebook.mplstyle'), line 564 ('          </div>')\n",
      "Missing colon in file PosixPath('/Users/brettlv/.matplotlib/stylelib/notebook.mplstyle'), line 565 ('        </details-dialog>')\n",
      "Missing colon in file PosixPath('/Users/brettlv/.matplotlib/stylelib/notebook.mplstyle'), line 566 ('      </details>')\n",
      "Missing colon in file PosixPath('/Users/brettlv/.matplotlib/stylelib/notebook.mplstyle'), line 567 ('    </li>')\n",
      "Missing colon in file PosixPath('/Users/brettlv/.matplotlib/stylelib/notebook.mplstyle'), line 569 ('  <li>')\n",
      "Missing colon in file PosixPath('/Users/brettlv/.matplotlib/stylelib/notebook.mplstyle'), line 571 ('    <svg class=\"octicon octicon-eye\" height=\"16\" viewBox=\"0 0 16 16\" version=\"1.1\" width=\"16\" aria-hidden=\"true\"><path fill-rule=\"evenodd\" d=\"M1.679 7.932c.412-.621 1.242-1.75 2.366-2.717C5.175 4.242 6.527 3.5 8 3.5c1.473 0 2.824.742 3.955 1.715 1.124.967 1.954 2.096 2.366 2.717a.119.119 0 010 .136c-.412.621-1.242 1.75-2.366 2.717C10.825 11.758 9.473 12.5 8 12.5c-1.473 0-2.824-.742-3.955-1.715C2.92 9.818 2.09 8.69 1.679 8.068a.119.119 0 010-.136zM8 2c-1.981 0-3.67.992-4.933 2.078C1.797 5.169.88 6.423.43 7.1a1.619 1.619 0 000 1.798c.45.678 1.367 1.932 2.637 3.024C4.329 13.008 6.019 14 8 14c1.981 0 3.67-.992 4.933-2.078 1.27-1.091 2.187-2.345 2.637-3.023a1.619 1.619 0 000-1.798c-.45-.678-1.367-1.932-2.637-3.023C11.671 2.992 9.981 2 8 2zm0 8a2 2 0 100-4 2 2 0 000 4z\"></path></svg>')\n",
      "Missing colon in file PosixPath('/Users/brettlv/.matplotlib/stylelib/notebook.mplstyle'), line 572 ('    Watch')\n",
      "Missing colon in file PosixPath('/Users/brettlv/.matplotlib/stylelib/notebook.mplstyle'), line 573 ('</a>    <a class=\"social-count\" href=\"/matplotlib/matplotlib/watchers\"')\n",
      "Missing colon in file PosixPath('/Users/brettlv/.matplotlib/stylelib/notebook.mplstyle'), line 574 ('       aria-label=\"573 users are watching this repository\">')\n",
      "Missing colon in file PosixPath('/Users/brettlv/.matplotlib/stylelib/notebook.mplstyle'), line 575 ('      573')\n",
      "Missing colon in file PosixPath('/Users/brettlv/.matplotlib/stylelib/notebook.mplstyle'), line 576 ('    </a>')\n",
      "Missing colon in file PosixPath('/Users/brettlv/.matplotlib/stylelib/notebook.mplstyle'), line 578 ('  </li>')\n",
      "Missing colon in file PosixPath('/Users/brettlv/.matplotlib/stylelib/notebook.mplstyle'), line 580 ('  <li>')\n",
      "Missing colon in file PosixPath('/Users/brettlv/.matplotlib/stylelib/notebook.mplstyle'), line 582 ('      <svg class=\"octicon octicon-star v-align-text-bottom mr-1\" height=\"16\" viewBox=\"0 0 16 16\" version=\"1.1\" width=\"16\" aria-hidden=\"true\"><path fill-rule=\"evenodd\" d=\"M8 .25a.75.75 0 01.673.418l1.882 3.815 4.21.612a.75.75 0 01.416 1.279l-3.046 2.97.719 4.192a.75.75 0 01-1.088.791L8 12.347l-3.766 1.98a.75.75 0 01-1.088-.79l.72-4.194L.818 6.374a.75.75 0 01.416-1.28l4.21-.611L7.327.668A.75.75 0 018 .25zm0 2.445L6.615 5.5a.75.75 0 01-.564.41l-3.097.45 2.24 2.184a.75.75 0 01.216.664l-.528 3.084 2.769-1.456a.75.75 0 01.698 0l2.77 1.456-.53-3.084a.75.75 0 01.216-.664l2.24-2.183-3.096-.45a.75.75 0 01-.564-.41L8 2.694v.001z\"></path></svg>')\n",
      "Missing colon in file PosixPath('/Users/brettlv/.matplotlib/stylelib/notebook.mplstyle'), line 583 ('      <span>')\n",
      "Missing colon in file PosixPath('/Users/brettlv/.matplotlib/stylelib/notebook.mplstyle'), line 584 ('        Star')\n",
      "Missing colon in file PosixPath('/Users/brettlv/.matplotlib/stylelib/notebook.mplstyle'), line 585 ('</span></a>')\n",
      "Missing colon in file PosixPath('/Users/brettlv/.matplotlib/stylelib/notebook.mplstyle'), line 586 ('    <a class=\"social-count js-social-count\" href=\"/matplotlib/matplotlib/stargazers\"')\n",
      "Missing colon in file PosixPath('/Users/brettlv/.matplotlib/stylelib/notebook.mplstyle'), line 587 ('      aria-label=\"12753 users starred this repository\">')\n",
      "Missing colon in file PosixPath('/Users/brettlv/.matplotlib/stylelib/notebook.mplstyle'), line 588 ('      12.8k')\n",
      "Missing colon in file PosixPath('/Users/brettlv/.matplotlib/stylelib/notebook.mplstyle'), line 589 ('    </a>')\n",
      "Missing colon in file PosixPath('/Users/brettlv/.matplotlib/stylelib/notebook.mplstyle'), line 591 ('  </li>')\n",
      "Missing colon in file PosixPath('/Users/brettlv/.matplotlib/stylelib/notebook.mplstyle'), line 593 ('  <li>')\n",
      "Missing colon in file PosixPath('/Users/brettlv/.matplotlib/stylelib/notebook.mplstyle'), line 595 ('          <svg class=\"octicon octicon-repo-forked\" viewBox=\"0 0 16 16\" version=\"1.1\" width=\"16\" height=\"16\" aria-hidden=\"true\"><path fill-rule=\"evenodd\" d=\"M5 3.25a.75.75 0 11-1.5 0 .75.75 0 011.5 0zm0 2.122a2.25 2.25 0 10-1.5 0v.878A2.25 2.25 0 005.75 8.5h1.5v2.128a2.251 2.251 0 101.5 0V8.5h1.5a2.25 2.25 0 002.25-2.25v-.878a2.25 2.25 0 10-1.5 0v.878a.75.75 0 01-.75.75h-4.5A.75.75 0 015 6.25v-.878zm3.75 7.378a.75.75 0 11-1.5 0 .75.75 0 011.5 0zm3-8.75a.75.75 0 100-1.5.75.75 0 000 1.5z\"></path></svg>')\n",
      "Missing colon in file PosixPath('/Users/brettlv/.matplotlib/stylelib/notebook.mplstyle'), line 596 ('          Fork')\n",
      "Missing colon in file PosixPath('/Users/brettlv/.matplotlib/stylelib/notebook.mplstyle'), line 597 ('</a>')\n",
      "Missing colon in file PosixPath('/Users/brettlv/.matplotlib/stylelib/notebook.mplstyle'), line 598 ('      <a href=\"/matplotlib/matplotlib/network/members\" class=\"social-count\"')\n",
      "Missing colon in file PosixPath('/Users/brettlv/.matplotlib/stylelib/notebook.mplstyle'), line 599 ('         aria-label=\"5540 users forked this repository\">')\n",
      "Missing colon in file PosixPath('/Users/brettlv/.matplotlib/stylelib/notebook.mplstyle'), line 600 ('        5.5k')\n",
      "Missing colon in file PosixPath('/Users/brettlv/.matplotlib/stylelib/notebook.mplstyle'), line 601 ('      </a>')\n",
      "Missing colon in file PosixPath('/Users/brettlv/.matplotlib/stylelib/notebook.mplstyle'), line 602 ('  </li>')\n",
      "Missing colon in file PosixPath('/Users/brettlv/.matplotlib/stylelib/notebook.mplstyle'), line 603 ('</ul>')\n",
      "Missing colon in file PosixPath('/Users/brettlv/.matplotlib/stylelib/notebook.mplstyle'), line 605 ('      </div>')\n",
      "Missing colon in file PosixPath('/Users/brettlv/.matplotlib/stylelib/notebook.mplstyle'), line 607 ('<nav aria-label=\"Repository\" data-pjax=\"#js-repo-pjax-container\" class=\"js-repo-nav js-sidenav-container-pjax js-responsive-underlinenav overflow-hidden UnderlineNav px-3 px-md-4 px-lg-5 bg-gray-light\">')\n",
      "Missing colon in file PosixPath('/Users/brettlv/.matplotlib/stylelib/notebook.mplstyle'), line 608 ('  <ul class=\"UnderlineNav-body list-style-none \">')\n",
      "Missing colon in file PosixPath('/Users/brettlv/.matplotlib/stylelib/notebook.mplstyle'), line 609 ('          <li class=\"d-flex\">')\n",
      "Missing colon in file PosixPath('/Users/brettlv/.matplotlib/stylelib/notebook.mplstyle'), line 610 ('        <a class=\"js-selected-navigation-item selected UnderlineNav-item hx_underlinenav-item no-wrap js-responsive-underlinenav-item\" data-tab-item=\"i0code-tab\" data-hotkey=\"g c\" data-ga-click=\"Repository, Navigation click, Code tab\" aria-current=\"page\" data-selected-links=\"repo_source repo_downloads repo_commits repo_releases repo_tags repo_branches repo_packages repo_deployments /matplotlib/matplotlib\" href=\"/matplotlib/matplotlib\">')\n",
      "Missing colon in file PosixPath('/Users/brettlv/.matplotlib/stylelib/notebook.mplstyle'), line 611 ('              <svg class=\"octicon octicon-code UnderlineNav-octicon d-none d-sm-inline\" height=\"16\" viewBox=\"0 0 16 16\" version=\"1.1\" width=\"16\" aria-hidden=\"true\"><path fill-rule=\"evenodd\" d=\"M4.72 3.22a.75.75 0 011.06 1.06L2.06 8l3.72 3.72a.75.75 0 11-1.06 1.06L.47 8.53a.75.75 0 010-1.06l4.25-4.25zm6.56 0a.75.75 0 10-1.06 1.06L13.94 8l-3.72 3.72a.75.75 0 101.06 1.06l4.25-4.25a.75.75 0 000-1.06l-4.25-4.25z\"></path></svg>')\n",
      "Missing colon in file PosixPath('/Users/brettlv/.matplotlib/stylelib/notebook.mplstyle'), line 612 ('            <span data-content=\"Code\">Code</span>')\n",
      "Missing colon in file PosixPath('/Users/brettlv/.matplotlib/stylelib/notebook.mplstyle'), line 613 ('              <span title=\"Not available\" class=\"Counter \"></span>')\n",
      "Missing colon in file PosixPath('/Users/brettlv/.matplotlib/stylelib/notebook.mplstyle'), line 614 ('</a>')\n",
      "Missing colon in file PosixPath('/Users/brettlv/.matplotlib/stylelib/notebook.mplstyle'), line 616 ('      </li>')\n",
      "Missing colon in file PosixPath('/Users/brettlv/.matplotlib/stylelib/notebook.mplstyle'), line 617 ('      <li class=\"d-flex\">')\n",
      "Missing colon in file PosixPath('/Users/brettlv/.matplotlib/stylelib/notebook.mplstyle'), line 618 ('        <a class=\"js-selected-navigation-item UnderlineNav-item hx_underlinenav-item no-wrap js-responsive-underlinenav-item\" data-tab-item=\"i1issues-tab\" data-hotkey=\"g i\" data-ga-click=\"Repository, Navigation click, Issues tab\" data-selected-links=\"repo_issues repo_labels repo_milestones /matplotlib/matplotlib/issues\" href=\"/matplotlib/matplotlib/issues\">')\n",
      "Missing colon in file PosixPath('/Users/brettlv/.matplotlib/stylelib/notebook.mplstyle'), line 619 ('              <svg class=\"octicon octicon-issue-opened UnderlineNav-octicon d-none d-sm-inline\" height=\"16\" viewBox=\"0 0 16 16\" version=\"1.1\" width=\"16\" aria-hidden=\"true\"><path fill-rule=\"evenodd\" d=\"M8 1.5a6.5 6.5 0 100 13 6.5 6.5 0 000-13zM0 8a8 8 0 1116 0A8 8 0 010 8zm9 3a1 1 0 11-2 0 1 1 0 012 0zm-.25-6.25a.75.75 0 00-1.5 0v3.5a.75.75 0 001.5 0v-3.5z\"></path></svg>')\n",
      "Missing colon in file PosixPath('/Users/brettlv/.matplotlib/stylelib/notebook.mplstyle'), line 620 ('            <span data-content=\"Issues\">Issues</span>')\n",
      "Missing colon in file PosixPath('/Users/brettlv/.matplotlib/stylelib/notebook.mplstyle'), line 621 ('              <span title=\"1,344\" class=\"Counter \">1.3k</span>')\n",
      "Missing colon in file PosixPath('/Users/brettlv/.matplotlib/stylelib/notebook.mplstyle'), line 622 ('</a>')\n",
      "Missing colon in file PosixPath('/Users/brettlv/.matplotlib/stylelib/notebook.mplstyle'), line 624 ('      </li>')\n",
      "Missing colon in file PosixPath('/Users/brettlv/.matplotlib/stylelib/notebook.mplstyle'), line 625 ('      <li class=\"d-flex\">')\n",
      "Missing colon in file PosixPath('/Users/brettlv/.matplotlib/stylelib/notebook.mplstyle'), line 626 ('        <a class=\"js-selected-navigation-item UnderlineNav-item hx_underlinenav-item no-wrap js-responsive-underlinenav-item\" data-tab-item=\"i2pull-requests-tab\" data-hotkey=\"g p\" data-ga-click=\"Repository, Navigation click, Pull requests tab\" data-selected-links=\"repo_pulls checks /matplotlib/matplotlib/pulls\" href=\"/matplotlib/matplotlib/pulls\">')\n",
      "Missing colon in file PosixPath('/Users/brettlv/.matplotlib/stylelib/notebook.mplstyle'), line 627 ('              <svg class=\"octicon octicon-git-pull-request UnderlineNav-octicon d-none d-sm-inline\" height=\"16\" viewBox=\"0 0 16 16\" version=\"1.1\" width=\"16\" aria-hidden=\"true\"><path fill-rule=\"evenodd\" d=\"M7.177 3.073L9.573.677A.25.25 0 0110 .854v4.792a.25.25 0 01-.427.177L7.177 3.427a.25.25 0 010-.354zM3.75 2.5a.75.75 0 100 1.5.75.75 0 000-1.5zm-2.25.75a2.25 2.25 0 113 2.122v5.256a2.251 2.251 0 11-1.5 0V5.372A2.25 2.25 0 011.5 3.25zM11 2.5h-1V4h1a1 1 0 011 1v5.628a2.251 2.251 0 101.5 0V5A2.5 2.5 0 0011 2.5zm1 10.25a.75.75 0 111.5 0 .75.75 0 01-1.5 0zM3.75 12a.75.75 0 100 1.5.75.75 0 000-1.5z\"></path></svg>')\n",
      "Missing colon in file PosixPath('/Users/brettlv/.matplotlib/stylelib/notebook.mplstyle'), line 628 ('            <span data-content=\"Pull requests\">Pull requests</span>')\n",
      "Missing colon in file PosixPath('/Users/brettlv/.matplotlib/stylelib/notebook.mplstyle'), line 629 ('              <span title=\"310\" class=\"Counter \">310</span>')\n",
      "Missing colon in file PosixPath('/Users/brettlv/.matplotlib/stylelib/notebook.mplstyle'), line 630 ('</a>')\n",
      "Missing colon in file PosixPath('/Users/brettlv/.matplotlib/stylelib/notebook.mplstyle'), line 632 ('      </li>')\n",
      "Missing colon in file PosixPath('/Users/brettlv/.matplotlib/stylelib/notebook.mplstyle'), line 633 ('      <li class=\"d-flex\">')\n",
      "Missing colon in file PosixPath('/Users/brettlv/.matplotlib/stylelib/notebook.mplstyle'), line 634 ('        <a class=\"js-selected-navigation-item UnderlineNav-item hx_underlinenav-item no-wrap js-responsive-underlinenav-item\" data-tab-item=\"i3actions-tab\" data-hotkey=\"g a\" data-ga-click=\"Repository, Navigation click, Actions tab\" data-selected-links=\"repo_actions /matplotlib/matplotlib/actions\" href=\"/matplotlib/matplotlib/actions\">')\n",
      "Missing colon in file PosixPath('/Users/brettlv/.matplotlib/stylelib/notebook.mplstyle'), line 635 ('              <svg class=\"octicon octicon-play UnderlineNav-octicon d-none d-sm-inline\" height=\"16\" viewBox=\"0 0 16 16\" version=\"1.1\" width=\"16\" aria-hidden=\"true\"><path fill-rule=\"evenodd\" d=\"M1.5 8a6.5 6.5 0 1113 0 6.5 6.5 0 01-13 0zM8 0a8 8 0 100 16A8 8 0 008 0zM6.379 5.227A.25.25 0 006 5.442v5.117a.25.25 0 00.379.214l4.264-2.559a.25.25 0 000-.428L6.379 5.227z\"></path></svg>')\n",
      "Missing colon in file PosixPath('/Users/brettlv/.matplotlib/stylelib/notebook.mplstyle'), line 636 ('            <span data-content=\"Actions\">Actions</span>')\n",
      "Missing colon in file PosixPath('/Users/brettlv/.matplotlib/stylelib/notebook.mplstyle'), line 637 ('              <span title=\"Not available\" class=\"Counter \"></span>')\n",
      "Missing colon in file PosixPath('/Users/brettlv/.matplotlib/stylelib/notebook.mplstyle'), line 638 ('</a>')\n",
      "Missing colon in file PosixPath('/Users/brettlv/.matplotlib/stylelib/notebook.mplstyle'), line 640 ('      </li>')\n",
      "Missing colon in file PosixPath('/Users/brettlv/.matplotlib/stylelib/notebook.mplstyle'), line 641 ('      <li class=\"d-flex\">')\n",
      "Missing colon in file PosixPath('/Users/brettlv/.matplotlib/stylelib/notebook.mplstyle'), line 642 ('        <a class=\"js-selected-navigation-item UnderlineNav-item hx_underlinenav-item no-wrap js-responsive-underlinenav-item\" data-tab-item=\"i4projects-tab\" data-hotkey=\"g b\" data-ga-click=\"Repository, Navigation click, Projects tab\" data-selected-links=\"repo_projects new_repo_project repo_project /matplotlib/matplotlib/projects\" href=\"/matplotlib/matplotlib/projects\">')\n",
      "Missing colon in file PosixPath('/Users/brettlv/.matplotlib/stylelib/notebook.mplstyle'), line 643 ('              <svg class=\"octicon octicon-project UnderlineNav-octicon d-none d-sm-inline\" height=\"16\" viewBox=\"0 0 16 16\" version=\"1.1\" width=\"16\" aria-hidden=\"true\"><path fill-rule=\"evenodd\" d=\"M1.75 0A1.75 1.75 0 000 1.75v12.5C0 15.216.784 16 1.75 16h12.5A1.75 1.75 0 0016 14.25V1.75A1.75 1.75 0 0014.25 0H1.75zM1.5 1.75a.25.25 0 01.25-.25h12.5a.25.25 0 01.25.25v12.5a.25.25 0 01-.25.25H1.75a.25.25 0 01-.25-.25V1.75zM11.75 3a.75.75 0 00-.75.75v7.5a.75.75 0 001.5 0v-7.5a.75.75 0 00-.75-.75zm-8.25.75a.75.75 0 011.5 0v5.5a.75.75 0 01-1.5 0v-5.5zM8 3a.75.75 0 00-.75.75v3.5a.75.75 0 001.5 0v-3.5A.75.75 0 008 3z\"></path></svg>')\n",
      "Missing colon in file PosixPath('/Users/brettlv/.matplotlib/stylelib/notebook.mplstyle'), line 644 ('            <span data-content=\"Projects\">Projects</span>')\n",
      "Missing colon in file PosixPath('/Users/brettlv/.matplotlib/stylelib/notebook.mplstyle'), line 645 ('              <span title=\"7\" class=\"Counter \">7</span>')\n",
      "Missing colon in file PosixPath('/Users/brettlv/.matplotlib/stylelib/notebook.mplstyle'), line 646 ('</a>')\n",
      "Missing colon in file PosixPath('/Users/brettlv/.matplotlib/stylelib/notebook.mplstyle'), line 648 ('      </li>')\n",
      "Missing colon in file PosixPath('/Users/brettlv/.matplotlib/stylelib/notebook.mplstyle'), line 649 ('      <li class=\"d-flex\">')\n",
      "Missing colon in file PosixPath('/Users/brettlv/.matplotlib/stylelib/notebook.mplstyle'), line 650 ('        <a class=\"js-selected-navigation-item UnderlineNav-item hx_underlinenav-item no-wrap js-responsive-underlinenav-item\" data-tab-item=\"i5wiki-tab\" data-hotkey=\"g w\" data-ga-click=\"Repository, Navigation click, Wikis tab\" data-selected-links=\"repo_wiki /matplotlib/matplotlib/wiki\" href=\"/matplotlib/matplotlib/wiki\">')\n",
      "Missing colon in file PosixPath('/Users/brettlv/.matplotlib/stylelib/notebook.mplstyle'), line 651 ('              <svg class=\"octicon octicon-book UnderlineNav-octicon d-none d-sm-inline\" height=\"16\" viewBox=\"0 0 16 16\" version=\"1.1\" width=\"16\" aria-hidden=\"true\"><path fill-rule=\"evenodd\" d=\"M0 1.75A.75.75 0 01.75 1h4.253c1.227 0 2.317.59 3 1.501A3.744 3.744 0 0111.006 1h4.245a.75.75 0 01.75.75v10.5a.75.75 0 01-.75.75h-4.507a2.25 2.25 0 00-1.591.659l-.622.621a.75.75 0 01-1.06 0l-.622-.621A2.25 2.25 0 005.258 13H.75a.75.75 0 01-.75-.75V1.75zm8.755 3a2.25 2.25 0 012.25-2.25H14.5v9h-3.757c-.71 0-1.4.201-1.992.572l.004-7.322zm-1.504 7.324l.004-5.073-.002-2.253A2.25 2.25 0 005.003 2.5H1.5v9h3.757a3.75 3.75 0 011.994.574z\"></path></svg>')\n",
      "Missing colon in file PosixPath('/Users/brettlv/.matplotlib/stylelib/notebook.mplstyle'), line 652 ('            <span data-content=\"Wiki\">Wiki</span>')\n",
      "Missing colon in file PosixPath('/Users/brettlv/.matplotlib/stylelib/notebook.mplstyle'), line 653 ('              <span title=\"Not available\" class=\"Counter \"></span>')\n",
      "Missing colon in file PosixPath('/Users/brettlv/.matplotlib/stylelib/notebook.mplstyle'), line 654 ('</a>')\n",
      "Missing colon in file PosixPath('/Users/brettlv/.matplotlib/stylelib/notebook.mplstyle'), line 656 ('      </li>')\n",
      "Missing colon in file PosixPath('/Users/brettlv/.matplotlib/stylelib/notebook.mplstyle'), line 657 ('      <li class=\"d-flex\">')\n",
      "Missing colon in file PosixPath('/Users/brettlv/.matplotlib/stylelib/notebook.mplstyle'), line 658 ('        <a class=\"js-selected-navigation-item UnderlineNav-item hx_underlinenav-item no-wrap js-responsive-underlinenav-item\" data-tab-item=\"i6security-tab\" data-hotkey=\"g s\" data-ga-click=\"Repository, Navigation click, Security tab\" data-selected-links=\"security overview alerts policy token_scanning code_scanning /matplotlib/matplotlib/security\" href=\"/matplotlib/matplotlib/security\">')\n",
      "Missing colon in file PosixPath('/Users/brettlv/.matplotlib/stylelib/notebook.mplstyle'), line 659 ('              <svg class=\"octicon octicon-shield UnderlineNav-octicon d-none d-sm-inline\" height=\"16\" viewBox=\"0 0 16 16\" version=\"1.1\" width=\"16\" aria-hidden=\"true\"><path fill-rule=\"evenodd\" d=\"M7.467.133a1.75 1.75 0 011.066 0l5.25 1.68A1.75 1.75 0 0115 3.48V7c0 1.566-.32 3.182-1.303 4.682-.983 1.498-2.585 2.813-5.032 3.855a1.7 1.7 0 01-1.33 0c-2.447-1.042-4.049-2.357-5.032-3.855C1.32 10.182 1 8.566 1 7V3.48a1.75 1.75 0 011.217-1.667l5.25-1.68zm.61 1.429a.25.25 0 00-.153 0l-5.25 1.68a.25.25 0 00-.174.238V7c0 1.358.275 2.666 1.057 3.86.784 1.194 2.121 2.34 4.366 3.297a.2.2 0 00.154 0c2.245-.956 3.582-2.104 4.366-3.298C13.225 9.666 13.5 8.36 13.5 7V3.48a.25.25 0 00-.174-.237l-5.25-1.68zM9 10.5a1 1 0 11-2 0 1 1 0 012 0zm-.25-5.75a.75.75 0 10-1.5 0v3a.75.75 0 001.5 0v-3z\"></path></svg>')\n",
      "Missing colon in file PosixPath('/Users/brettlv/.matplotlib/stylelib/notebook.mplstyle'), line 660 ('            <span data-content=\"Security\">Security</span>')\n",
      "Missing colon in file PosixPath('/Users/brettlv/.matplotlib/stylelib/notebook.mplstyle'), line 661 ('              <include-fragment src=\"/matplotlib/matplotlib/security/overall-count\" accept=\"text/fragment+html\"></include-fragment>')\n",
      "Missing colon in file PosixPath('/Users/brettlv/.matplotlib/stylelib/notebook.mplstyle'), line 662 ('</a>')\n",
      "Missing colon in file PosixPath('/Users/brettlv/.matplotlib/stylelib/notebook.mplstyle'), line 664 ('      </li>')\n",
      "Missing colon in file PosixPath('/Users/brettlv/.matplotlib/stylelib/notebook.mplstyle'), line 665 ('      <li class=\"d-flex\">')\n",
      "Missing colon in file PosixPath('/Users/brettlv/.matplotlib/stylelib/notebook.mplstyle'), line 666 ('        <a class=\"js-selected-navigation-item UnderlineNav-item hx_underlinenav-item no-wrap js-responsive-underlinenav-item\" data-tab-item=\"i7insights-tab\" data-ga-click=\"Repository, Navigation click, Insights tab\" data-selected-links=\"repo_graphs repo_contributors dependency_graph dependabot_updates pulse people /matplotlib/matplotlib/pulse\" href=\"/matplotlib/matplotlib/pulse\">')\n",
      "Missing colon in file PosixPath('/Users/brettlv/.matplotlib/stylelib/notebook.mplstyle'), line 667 ('              <svg class=\"octicon octicon-graph UnderlineNav-octicon d-none d-sm-inline\" height=\"16\" viewBox=\"0 0 16 16\" version=\"1.1\" width=\"16\" aria-hidden=\"true\"><path fill-rule=\"evenodd\" d=\"M1.5 1.75a.75.75 0 00-1.5 0v12.5c0 .414.336.75.75.75h14.5a.75.75 0 000-1.5H1.5V1.75zm14.28 2.53a.75.75 0 00-1.06-1.06L10 7.94 7.53 5.47a.75.75 0 00-1.06 0L3.22 8.72a.75.75 0 001.06 1.06L7 7.06l2.47 2.47a.75.75 0 001.06 0l5.25-5.25z\"></path></svg>')\n",
      "Missing colon in file PosixPath('/Users/brettlv/.matplotlib/stylelib/notebook.mplstyle'), line 668 ('            <span data-content=\"Insights\">Insights</span>')\n",
      "Missing colon in file PosixPath('/Users/brettlv/.matplotlib/stylelib/notebook.mplstyle'), line 669 ('              <span title=\"Not available\" class=\"Counter \"></span>')\n",
      "Missing colon in file PosixPath('/Users/brettlv/.matplotlib/stylelib/notebook.mplstyle'), line 670 ('</a>')\n",
      "Missing colon in file PosixPath('/Users/brettlv/.matplotlib/stylelib/notebook.mplstyle'), line 672 ('      </li>')\n",
      "Missing colon in file PosixPath('/Users/brettlv/.matplotlib/stylelib/notebook.mplstyle'), line 675 ('      <details class=\"details-overlay details-reset position-relative\">')\n",
      "Missing colon in file PosixPath('/Users/brettlv/.matplotlib/stylelib/notebook.mplstyle'), line 676 ('  <summary role=\"button\">')\n",
      "Missing colon in file PosixPath('/Users/brettlv/.matplotlib/stylelib/notebook.mplstyle'), line 677 ('    <div class=\"UnderlineNav-item mr-0 border-0\">')\n",
      "Missing colon in file PosixPath('/Users/brettlv/.matplotlib/stylelib/notebook.mplstyle'), line 678 ('            <svg class=\"octicon octicon-kebab-horizontal\" viewBox=\"0 0 16 16\" version=\"1.1\" width=\"16\" height=\"16\" aria-hidden=\"true\"><path d=\"M8 9a1.5 1.5 0 100-3 1.5 1.5 0 000 3zM1.5 9a1.5 1.5 0 100-3 1.5 1.5 0 000 3zm13 0a1.5 1.5 0 100-3 1.5 1.5 0 000 3z\"></path></svg>')\n",
      "Missing colon in file PosixPath('/Users/brettlv/.matplotlib/stylelib/notebook.mplstyle'), line 679 ('            <span class=\"sr-only\">More</span>')\n",
      "Missing colon in file PosixPath('/Users/brettlv/.matplotlib/stylelib/notebook.mplstyle'), line 680 ('          </div>')\n",
      "Missing colon in file PosixPath('/Users/brettlv/.matplotlib/stylelib/notebook.mplstyle'), line 681 ('</summary>  <div>')\n",
      "Missing colon in file PosixPath('/Users/brettlv/.matplotlib/stylelib/notebook.mplstyle'), line 682 ('    <details-menu role=\"menu\" class=\"dropdown-menu dropdown-menu-sw \">')\n",
      "Missing colon in file PosixPath('/Users/brettlv/.matplotlib/stylelib/notebook.mplstyle'), line 684 ('            <ul>')\n",
      "Missing colon in file PosixPath('/Users/brettlv/.matplotlib/stylelib/notebook.mplstyle'), line 685 ('                <li data-menu-item=\"i0code-tab\" hidden>')\n",
      "Missing colon in file PosixPath('/Users/brettlv/.matplotlib/stylelib/notebook.mplstyle'), line 686 ('                  <a role=\"menuitem\" class=\"js-selected-navigation-item dropdown-item\" data-selected-links=\" /matplotlib/matplotlib\" href=\"/matplotlib/matplotlib\">')\n",
      "Missing colon in file PosixPath('/Users/brettlv/.matplotlib/stylelib/notebook.mplstyle'), line 687 ('                    Code')\n",
      "Missing colon in file PosixPath('/Users/brettlv/.matplotlib/stylelib/notebook.mplstyle'), line 688 ('</a>                </li>')\n",
      "Missing colon in file PosixPath('/Users/brettlv/.matplotlib/stylelib/notebook.mplstyle'), line 689 ('                <li data-menu-item=\"i1issues-tab\" hidden>')\n",
      "Missing colon in file PosixPath('/Users/brettlv/.matplotlib/stylelib/notebook.mplstyle'), line 690 ('                  <a role=\"menuitem\" class=\"js-selected-navigation-item dropdown-item\" data-selected-links=\" /matplotlib/matplotlib/issues\" href=\"/matplotlib/matplotlib/issues\">')\n",
      "Missing colon in file PosixPath('/Users/brettlv/.matplotlib/stylelib/notebook.mplstyle'), line 691 ('                    Issues')\n",
      "Missing colon in file PosixPath('/Users/brettlv/.matplotlib/stylelib/notebook.mplstyle'), line 692 ('</a>                </li>')\n",
      "Missing colon in file PosixPath('/Users/brettlv/.matplotlib/stylelib/notebook.mplstyle'), line 693 ('                <li data-menu-item=\"i2pull-requests-tab\" hidden>')\n",
      "Missing colon in file PosixPath('/Users/brettlv/.matplotlib/stylelib/notebook.mplstyle'), line 694 ('                  <a role=\"menuitem\" class=\"js-selected-navigation-item dropdown-item\" data-selected-links=\" /matplotlib/matplotlib/pulls\" href=\"/matplotlib/matplotlib/pulls\">')\n",
      "Missing colon in file PosixPath('/Users/brettlv/.matplotlib/stylelib/notebook.mplstyle'), line 695 ('                    Pull requests')\n",
      "Missing colon in file PosixPath('/Users/brettlv/.matplotlib/stylelib/notebook.mplstyle'), line 696 ('</a>                </li>')\n",
      "Missing colon in file PosixPath('/Users/brettlv/.matplotlib/stylelib/notebook.mplstyle'), line 697 ('                <li data-menu-item=\"i3actions-tab\" hidden>')\n",
      "Missing colon in file PosixPath('/Users/brettlv/.matplotlib/stylelib/notebook.mplstyle'), line 698 ('                  <a role=\"menuitem\" class=\"js-selected-navigation-item dropdown-item\" data-selected-links=\" /matplotlib/matplotlib/actions\" href=\"/matplotlib/matplotlib/actions\">')\n",
      "Missing colon in file PosixPath('/Users/brettlv/.matplotlib/stylelib/notebook.mplstyle'), line 699 ('                    Actions')\n",
      "Missing colon in file PosixPath('/Users/brettlv/.matplotlib/stylelib/notebook.mplstyle'), line 700 ('</a>                </li>')\n",
      "Missing colon in file PosixPath('/Users/brettlv/.matplotlib/stylelib/notebook.mplstyle'), line 701 ('                <li data-menu-item=\"i4projects-tab\" hidden>')\n",
      "Missing colon in file PosixPath('/Users/brettlv/.matplotlib/stylelib/notebook.mplstyle'), line 702 ('                  <a role=\"menuitem\" class=\"js-selected-navigation-item dropdown-item\" data-selected-links=\" /matplotlib/matplotlib/projects\" href=\"/matplotlib/matplotlib/projects\">')\n",
      "Missing colon in file PosixPath('/Users/brettlv/.matplotlib/stylelib/notebook.mplstyle'), line 703 ('                    Projects')\n",
      "Missing colon in file PosixPath('/Users/brettlv/.matplotlib/stylelib/notebook.mplstyle'), line 704 ('</a>                </li>')\n",
      "Missing colon in file PosixPath('/Users/brettlv/.matplotlib/stylelib/notebook.mplstyle'), line 705 ('                <li data-menu-item=\"i5wiki-tab\" hidden>')\n",
      "Missing colon in file PosixPath('/Users/brettlv/.matplotlib/stylelib/notebook.mplstyle'), line 706 ('                  <a role=\"menuitem\" class=\"js-selected-navigation-item dropdown-item\" data-selected-links=\" /matplotlib/matplotlib/wiki\" href=\"/matplotlib/matplotlib/wiki\">')\n",
      "Missing colon in file PosixPath('/Users/brettlv/.matplotlib/stylelib/notebook.mplstyle'), line 707 ('                    Wiki')\n",
      "Missing colon in file PosixPath('/Users/brettlv/.matplotlib/stylelib/notebook.mplstyle'), line 708 ('</a>                </li>')\n",
      "Missing colon in file PosixPath('/Users/brettlv/.matplotlib/stylelib/notebook.mplstyle'), line 709 ('                <li data-menu-item=\"i6security-tab\" hidden>')\n",
      "Missing colon in file PosixPath('/Users/brettlv/.matplotlib/stylelib/notebook.mplstyle'), line 710 ('                  <a role=\"menuitem\" class=\"js-selected-navigation-item dropdown-item\" data-selected-links=\" /matplotlib/matplotlib/security\" href=\"/matplotlib/matplotlib/security\">')\n",
      "Missing colon in file PosixPath('/Users/brettlv/.matplotlib/stylelib/notebook.mplstyle'), line 711 ('                    Security')\n",
      "Missing colon in file PosixPath('/Users/brettlv/.matplotlib/stylelib/notebook.mplstyle'), line 712 ('</a>                </li>')\n",
      "Missing colon in file PosixPath('/Users/brettlv/.matplotlib/stylelib/notebook.mplstyle'), line 713 ('                <li data-menu-item=\"i7insights-tab\" hidden>')\n",
      "Missing colon in file PosixPath('/Users/brettlv/.matplotlib/stylelib/notebook.mplstyle'), line 714 ('                  <a role=\"menuitem\" class=\"js-selected-navigation-item dropdown-item\" data-selected-links=\" /matplotlib/matplotlib/pulse\" href=\"/matplotlib/matplotlib/pulse\">')\n",
      "Missing colon in file PosixPath('/Users/brettlv/.matplotlib/stylelib/notebook.mplstyle'), line 715 ('                    Insights')\n",
      "Missing colon in file PosixPath('/Users/brettlv/.matplotlib/stylelib/notebook.mplstyle'), line 716 ('</a>                </li>')\n",
      "Missing colon in file PosixPath('/Users/brettlv/.matplotlib/stylelib/notebook.mplstyle'), line 717 ('            </ul>')\n",
      "Missing colon in file PosixPath('/Users/brettlv/.matplotlib/stylelib/notebook.mplstyle'), line 719 ('</details-menu>')\n",
      "Missing colon in file PosixPath('/Users/brettlv/.matplotlib/stylelib/notebook.mplstyle'), line 720 ('</div></details>    </div>')\n",
      "Missing colon in file PosixPath('/Users/brettlv/.matplotlib/stylelib/notebook.mplstyle'), line 722 ('</nav>')\n",
      "Missing colon in file PosixPath('/Users/brettlv/.matplotlib/stylelib/notebook.mplstyle'), line 723 ('  </div>')\n",
      "Missing colon in file PosixPath('/Users/brettlv/.matplotlib/stylelib/notebook.mplstyle'), line 726 ('<div class=\"container-xl clearfix new-discussion-timeline px-3 px-md-4 px-lg-5\">')\n",
      "Missing colon in file PosixPath('/Users/brettlv/.matplotlib/stylelib/notebook.mplstyle'), line 727 ('  <div class=\"repository-content \" >')\n",
      "Missing colon in file PosixPath('/Users/brettlv/.matplotlib/stylelib/notebook.mplstyle'), line 734 ('    <a class=\"d-none js-permalink-shortcut\" data-hotkey=\"y\" href=\"/matplotlib/matplotlib/blob/5ab99eee3d605b782ea51262e461fb3e837b3039/matplotlibrc.template\">Permalink</a>')\n",
      "Missing colon in file PosixPath('/Users/brettlv/.matplotlib/stylelib/notebook.mplstyle'), line 737 ('      <signup-prompt class=\"signup-prompt-bg rounded-1\" data-prompt=\"signup\" data-optimizely-experiment=\"signup_prompt_launchpad\" hidden>')\n",
      "Missing colon in file PosixPath('/Users/brettlv/.matplotlib/stylelib/notebook.mplstyle'), line 738 ('    <div class=\"signup-prompt p-4 text-center mb-4 rounded-1\" data-optimizely-variation=\"control\">')\n",
      "Missing colon in file PosixPath('/Users/brettlv/.matplotlib/stylelib/notebook.mplstyle'), line 739 ('      <div class=\"position-relative\">')\n",
      "Missing colon in file PosixPath('/Users/brettlv/.matplotlib/stylelib/notebook.mplstyle'), line 740 ('        <button')\n",
      "Missing colon in file PosixPath('/Users/brettlv/.matplotlib/stylelib/notebook.mplstyle'), line 741 ('          type=\"button\"')\n",
      "Missing colon in file PosixPath('/Users/brettlv/.matplotlib/stylelib/notebook.mplstyle'), line 742 ('          class=\"position-absolute top-0 right-0 btn-link link-gray\"')\n",
      "Missing colon in file PosixPath('/Users/brettlv/.matplotlib/stylelib/notebook.mplstyle'), line 745 ('          data-optimizely-event=\"click.dismiss_signup_prompt, 1020337149.1607959180\"')\n",
      "Missing colon in file PosixPath('/Users/brettlv/.matplotlib/stylelib/notebook.mplstyle'), line 746 ('        >')\n",
      "Missing colon in file PosixPath('/Users/brettlv/.matplotlib/stylelib/notebook.mplstyle'), line 747 ('          Dismiss')\n",
      "Missing colon in file PosixPath('/Users/brettlv/.matplotlib/stylelib/notebook.mplstyle'), line 748 ('        </button>')\n",
      "Missing colon in file PosixPath('/Users/brettlv/.matplotlib/stylelib/notebook.mplstyle'), line 749 ('        <h3 class=\"pt-2\">Join GitHub today</h3>')\n",
      "Missing colon in file PosixPath('/Users/brettlv/.matplotlib/stylelib/notebook.mplstyle'), line 750 ('        <p class=\"col-6 mx-auto\">GitHub is home to over 50 million developers working together to host and review code, manage projects, and build software together.</p>')\n",
      "Missing colon in file PosixPath('/Users/brettlv/.matplotlib/stylelib/notebook.mplstyle'), line 752 ('      </div>')\n",
      "Missing colon in file PosixPath('/Users/brettlv/.matplotlib/stylelib/notebook.mplstyle'), line 753 ('    </div>')\n",
      "Missing colon in file PosixPath('/Users/brettlv/.matplotlib/stylelib/notebook.mplstyle'), line 755 ('    <div class=\"position-relative p-4 p-lg-5 mb-4\" data-optimizely-variation=\"launchpad\" hidden>')\n",
      "Missing colon in file PosixPath('/Users/brettlv/.matplotlib/stylelib/notebook.mplstyle'), line 756 ('      <div class=\"d-sm-flex\">')\n",
      "Missing colon in file PosixPath('/Users/brettlv/.matplotlib/stylelib/notebook.mplstyle'), line 757 ('        <div class=\"col-sm-8 col-md-9 col-lg-8\">')\n",
      "Missing colon in file PosixPath('/Users/brettlv/.matplotlib/stylelib/notebook.mplstyle'), line 758 ('          <h3 class=\"h2 lh-condensed mt-sm-1 mt-lg-0\">GitHub is where the world builds software</h3>')\n",
      "Missing colon in file PosixPath('/Users/brettlv/.matplotlib/stylelib/notebook.mplstyle'), line 759 ('          <p class=\"f4 text-gray mt-2 mb-3\">Millions of developers and companies build, ship, and maintain their software on GitHub &#8212; the largest and most advanced development platform in the world.</p>')\n",
      "Missing colon in file PosixPath('/Users/brettlv/.matplotlib/stylelib/notebook.mplstyle'), line 760 ('          <div class=\"d-flex flex-items-center pb-3\">')\n",
      "Duplicate key in file PosixPath('/Users/brettlv/.matplotlib/stylelib/notebook.mplstyle'), line 761 ('            <a class=\"btn btn-primary\" data-ga-click=\"(Logged out) Sign up prompt, clicked Sign up, text:sign-up\" data-optimizely-event=\"click.signup, 1020337149.1607959180\" data-hydro-click=\"{&quot;event_type&quot;:&quot;authentication.click&quot;,&quot;payload&quot;:{&quot;location_in_page&quot;:&quot;files signup prompt&quot;,&quot;repository_id&quot;:null,&quot;auth_type&quot;:&quot;SIGN_UP&quot;,&quot;originating_url&quot;:&quot;https://github.com/matplotlib/matplotlib/blob/master/matplotlibrc.template&quot;,&quot;user_id&quot;:null}}\" data-hydro-click-hmac=\"d489f120240b4df16a4828c0d370e30506ff69c9ac1edc1e16856bb02250a2d2\" href=\"/join?source=prompt-blob-show&amp;source_repo=matplotlib%2Fmatplotlib\">Sign up for free</a>')\n",
      "Missing colon in file PosixPath('/Users/brettlv/.matplotlib/stylelib/notebook.mplstyle'), line 762 ('            <button')\n",
      "Missing colon in file PosixPath('/Users/brettlv/.matplotlib/stylelib/notebook.mplstyle'), line 763 ('              type=\"button\"')\n",
      "Missing colon in file PosixPath('/Users/brettlv/.matplotlib/stylelib/notebook.mplstyle'), line 764 ('              class=\"btn-link link-gray ml-3\"')\n",
      "Duplicate key in file PosixPath('/Users/brettlv/.matplotlib/stylelib/notebook.mplstyle'), line 765 ('              data-action=\"click:signup-prompt#dismiss\"')\n",
      "Duplicate key in file PosixPath('/Users/brettlv/.matplotlib/stylelib/notebook.mplstyle'), line 766 ('              data-ga-click=\"(Logged out) Sign up prompt, clicked Dismiss, text:dismiss\"')\n",
      "Missing colon in file PosixPath('/Users/brettlv/.matplotlib/stylelib/notebook.mplstyle'), line 767 ('              data-optimizely-event=\"click.dismiss_signup_prompt, 1020337149.1607959180\"')\n",
      "Missing colon in file PosixPath('/Users/brettlv/.matplotlib/stylelib/notebook.mplstyle'), line 768 ('            >')\n",
      "Missing colon in file PosixPath('/Users/brettlv/.matplotlib/stylelib/notebook.mplstyle'), line 769 ('              Dismiss')\n",
      "Missing colon in file PosixPath('/Users/brettlv/.matplotlib/stylelib/notebook.mplstyle'), line 770 ('            </button>')\n",
      "Missing colon in file PosixPath('/Users/brettlv/.matplotlib/stylelib/notebook.mplstyle'), line 771 ('          </div>')\n",
      "Missing colon in file PosixPath('/Users/brettlv/.matplotlib/stylelib/notebook.mplstyle'), line 772 ('        </div>')\n",
      "Missing colon in file PosixPath('/Users/brettlv/.matplotlib/stylelib/notebook.mplstyle'), line 775 ('        <div class=\"d-none d-sm-block position-absolute col-5 col-md-4 col-lg-3 bottom-0 right-0 mr-lg-5 mb-md-n4\">')\n",
      "Missing colon in file PosixPath('/Users/brettlv/.matplotlib/stylelib/notebook.mplstyle'), line 776 ('          <div class=\"width-full\" >')\n",
      "Missing colon in file PosixPath('/Users/brettlv/.matplotlib/stylelib/notebook.mplstyle'), line 777 ('            <svg viewBox=\"0 0 300 305\" class=\"width-fit\">')\n",
      "Missing colon in file PosixPath('/Users/brettlv/.matplotlib/stylelib/notebook.mplstyle'), line 778 ('  <defs>')\n",
      "Missing colon in file PosixPath('/Users/brettlv/.matplotlib/stylelib/notebook.mplstyle'), line 779 ('    <mask id=\"https___github_githubassets_com_images_modules_site_home_astro-mona-alpha_jpg\">')\n",
      "Missing colon in file PosixPath('/Users/brettlv/.matplotlib/stylelib/notebook.mplstyle'), line 781 ('    </mask>')\n",
      "Missing colon in file PosixPath('/Users/brettlv/.matplotlib/stylelib/notebook.mplstyle'), line 782 ('  </defs>')\n",
      "Missing colon in file PosixPath('/Users/brettlv/.matplotlib/stylelib/notebook.mplstyle'), line 783 ('  <image mask=\"url(#https___github_githubassets_com_images_modules_site_home_astro-mona-alpha_jpg)\" width=\"300\" height=\"305\" href=\"https://github.githubassets.com/images/modules/site/home/astro-mona.jpg\"></image>')\n",
      "Missing colon in file PosixPath('/Users/brettlv/.matplotlib/stylelib/notebook.mplstyle'), line 784 ('</svg>')\n",
      "Missing colon in file PosixPath('/Users/brettlv/.matplotlib/stylelib/notebook.mplstyle'), line 786 ('          </div>')\n",
      "Missing colon in file PosixPath('/Users/brettlv/.matplotlib/stylelib/notebook.mplstyle'), line 787 ('        </div>')\n",
      "Missing colon in file PosixPath('/Users/brettlv/.matplotlib/stylelib/notebook.mplstyle'), line 788 ('      </div>')\n",
      "Missing colon in file PosixPath('/Users/brettlv/.matplotlib/stylelib/notebook.mplstyle'), line 789 ('    </div>')\n",
      "Missing colon in file PosixPath('/Users/brettlv/.matplotlib/stylelib/notebook.mplstyle'), line 790 ('  </signup-prompt>')\n",
      "Missing colon in file PosixPath('/Users/brettlv/.matplotlib/stylelib/notebook.mplstyle'), line 793 ('    <div class=\"d-flex flex-items-start flex-shrink-0 pb-3 flex-wrap flex-md-nowrap flex-justify-between flex-md-justify-start\">')\n",
      "Missing colon in file PosixPath('/Users/brettlv/.matplotlib/stylelib/notebook.mplstyle'), line 795 ('<div class=\"position-relative\">')\n",
      "Missing colon in file PosixPath('/Users/brettlv/.matplotlib/stylelib/notebook.mplstyle'), line 796 ('  <details class=\"details-reset details-overlay mr-0 mb-0 \" id=\"branch-select-menu\">')\n",
      "Missing colon in file PosixPath('/Users/brettlv/.matplotlib/stylelib/notebook.mplstyle'), line 797 ('    <summary class=\"btn css-truncate\"')\n",
      "Missing colon in file PosixPath('/Users/brettlv/.matplotlib/stylelib/notebook.mplstyle'), line 798 ('            data-hotkey=\"w\"')\n",
      "Missing colon in file PosixPath('/Users/brettlv/.matplotlib/stylelib/notebook.mplstyle'), line 799 ('            title=\"Switch branches or tags\">')\n",
      "Missing colon in file PosixPath('/Users/brettlv/.matplotlib/stylelib/notebook.mplstyle'), line 800 ('      <svg class=\"octicon octicon-git-branch text-gray\" height=\"16\" viewBox=\"0 0 16 16\" version=\"1.1\" width=\"16\" aria-hidden=\"true\"><path fill-rule=\"evenodd\" d=\"M11.75 2.5a.75.75 0 100 1.5.75.75 0 000-1.5zm-2.25.75a2.25 2.25 0 113 2.122V6A2.5 2.5 0 0110 8.5H6a1 1 0 00-1 1v1.128a2.251 2.251 0 11-1.5 0V5.372a2.25 2.25 0 111.5 0v1.836A2.492 2.492 0 016 7h4a1 1 0 001-1v-.628A2.25 2.25 0 019.5 3.25zM4.25 12a.75.75 0 100 1.5.75.75 0 000-1.5zM3.5 3.25a.75.75 0 111.5 0 .75.75 0 01-1.5 0z\"></path></svg>')\n",
      "Missing colon in file PosixPath('/Users/brettlv/.matplotlib/stylelib/notebook.mplstyle'), line 801 ('      <span class=\"css-truncate-target\" data-menu-button>master</span>')\n",
      "Missing colon in file PosixPath('/Users/brettlv/.matplotlib/stylelib/notebook.mplstyle'), line 802 ('      <span class=\"dropdown-caret\"></span>')\n",
      "Missing colon in file PosixPath('/Users/brettlv/.matplotlib/stylelib/notebook.mplstyle'), line 803 ('    </summary>')\n",
      "Missing colon in file PosixPath('/Users/brettlv/.matplotlib/stylelib/notebook.mplstyle'), line 805 ('    <details-menu class=\"SelectMenu SelectMenu--hasFilter\" src=\"/matplotlib/matplotlib/refs/master/matplotlibrc.template?source_action=show&amp;source_controller=blob\" preload>')\n",
      "Missing colon in file PosixPath('/Users/brettlv/.matplotlib/stylelib/notebook.mplstyle'), line 806 ('      <div class=\"SelectMenu-modal\">')\n",
      "Missing colon in file PosixPath('/Users/brettlv/.matplotlib/stylelib/notebook.mplstyle'), line 807 ('        <include-fragment class=\"SelectMenu-loading\" aria-label=\"Menu is loading\">')\n",
      "Missing colon in file PosixPath('/Users/brettlv/.matplotlib/stylelib/notebook.mplstyle'), line 808 ('          <svg class=\"octicon octicon-octoface anim-pulse\" height=\"32\" viewBox=\"0 0 24 24\" version=\"1.1\" width=\"32\" aria-hidden=\"true\"><path d=\"M7.75 11c-.69 0-1.25.56-1.25 1.25v1.5a1.25 1.25 0 102.5 0v-1.5C9 11.56 8.44 11 7.75 11zm1.27 4.5a.469.469 0 01.48-.5h5a.47.47 0 01.48.5c-.116 1.316-.759 2.5-2.98 2.5s-2.864-1.184-2.98-2.5zm7.23-4.5c-.69 0-1.25.56-1.25 1.25v1.5a1.25 1.25 0 102.5 0v-1.5c0-.69-.56-1.25-1.25-1.25z\"></path><path fill-rule=\"evenodd\" d=\"M21.255 3.82a1.725 1.725 0 00-2.141-1.195c-.557.16-1.406.44-2.264.866-.78.386-1.647.93-2.293 1.677A18.442 18.442 0 0012 5c-.93 0-1.784.059-2.569.17-.645-.74-1.505-1.28-2.28-1.664a13.876 13.876 0 00-2.265-.866 1.725 1.725 0 00-2.141 1.196 23.645 23.645 0 00-.69 3.292c-.125.97-.191 2.07-.066 3.112C1.254 11.882 1 13.734 1 15.527 1 19.915 3.13 23 12 23c8.87 0 11-3.053 11-7.473 0-1.794-.255-3.647-.99-5.29.127-1.046.06-2.15-.066-3.125a23.652 23.652 0 00-.689-3.292zM20.5 14c.5 3.5-1.5 6.5-8.5 6.5s-9-3-8.5-6.5c.583-4 3-6 8.5-6s7.928 2 8.5 6z\"></path></svg>')\n",
      "Missing colon in file PosixPath('/Users/brettlv/.matplotlib/stylelib/notebook.mplstyle'), line 809 ('        </include-fragment>')\n",
      "Missing colon in file PosixPath('/Users/brettlv/.matplotlib/stylelib/notebook.mplstyle'), line 810 ('      </div>')\n",
      "Missing colon in file PosixPath('/Users/brettlv/.matplotlib/stylelib/notebook.mplstyle'), line 811 ('    </details-menu>')\n",
      "Missing colon in file PosixPath('/Users/brettlv/.matplotlib/stylelib/notebook.mplstyle'), line 812 ('  </details>')\n",
      "Missing colon in file PosixPath('/Users/brettlv/.matplotlib/stylelib/notebook.mplstyle'), line 814 ('</div>')\n",
      "Missing colon in file PosixPath('/Users/brettlv/.matplotlib/stylelib/notebook.mplstyle'), line 816 ('      <h2 id=\"blob-path\" class=\"breadcrumb flex-auto min-width-0 text-normal mx-0 mx-md-3 width-full width-md-auto flex-order-1 flex-md-order-none mt-3 mt-md-0\">')\n",
      "Missing colon in file PosixPath('/Users/brettlv/.matplotlib/stylelib/notebook.mplstyle'), line 817 ('        <span class=\"js-repo-root text-bold\"><span class=\"js-path-segment d-inline-block wb-break-all\"><a data-pjax=\"true\" href=\"/matplotlib/matplotlib\"><span>matplotlib</span></a></span></span><span class=\"separator\">/</span><strong class=\"final-path\">matplotlibrc.template</strong>')\n",
      "Missing colon in file PosixPath('/Users/brettlv/.matplotlib/stylelib/notebook.mplstyle'), line 818 ('      </h2>')\n",
      "Missing colon in file PosixPath('/Users/brettlv/.matplotlib/stylelib/notebook.mplstyle'), line 819 ('      <a href=\"/matplotlib/matplotlib/find/master\"')\n",
      "Missing colon in file PosixPath('/Users/brettlv/.matplotlib/stylelib/notebook.mplstyle'), line 820 ('            class=\"js-pjax-capture-input btn mr-2 d-none d-md-block\"')\n",
      "Missing colon in file PosixPath('/Users/brettlv/.matplotlib/stylelib/notebook.mplstyle'), line 821 ('            data-pjax')\n",
      "Missing colon in file PosixPath('/Users/brettlv/.matplotlib/stylelib/notebook.mplstyle'), line 822 ('            data-hotkey=\"t\">')\n",
      "Missing colon in file PosixPath('/Users/brettlv/.matplotlib/stylelib/notebook.mplstyle'), line 823 ('        Go to file')\n",
      "Missing colon in file PosixPath('/Users/brettlv/.matplotlib/stylelib/notebook.mplstyle'), line 824 ('      </a>')\n",
      "Missing colon in file PosixPath('/Users/brettlv/.matplotlib/stylelib/notebook.mplstyle'), line 826 ('      <details id=\"blob-more-options-details\" class=\"details-overlay details-reset position-relative\">')\n",
      "Missing colon in file PosixPath('/Users/brettlv/.matplotlib/stylelib/notebook.mplstyle'), line 827 ('  <summary role=\"button\" type=\"button\" class=\"btn \">')\n",
      "Missing colon in file PosixPath('/Users/brettlv/.matplotlib/stylelib/notebook.mplstyle'), line 828 ('    <svg aria-label=\"More options\" class=\"octicon octicon-kebab-horizontal\" height=\"16\" viewBox=\"0 0 16 16\" version=\"1.1\" width=\"16\" role=\"img\"><path d=\"M8 9a1.5 1.5 0 100-3 1.5 1.5 0 000 3zM1.5 9a1.5 1.5 0 100-3 1.5 1.5 0 000 3zm13 0a1.5 1.5 0 100-3 1.5 1.5 0 000 3z\"></path></svg>')\n",
      "Missing colon in file PosixPath('/Users/brettlv/.matplotlib/stylelib/notebook.mplstyle'), line 829 ('</summary>  <div>')\n",
      "Missing colon in file PosixPath('/Users/brettlv/.matplotlib/stylelib/notebook.mplstyle'), line 830 ('    <ul class=\"dropdown-menu dropdown-menu-sw\">')\n",
      "Missing colon in file PosixPath('/Users/brettlv/.matplotlib/stylelib/notebook.mplstyle'), line 831 ('            <li class=\"d-block d-md-none\">')\n",
      "Missing colon in file PosixPath('/Users/brettlv/.matplotlib/stylelib/notebook.mplstyle'), line 833 ('                <span class=\"flex-auto\">Go to file</span>')\n",
      "Missing colon in file PosixPath('/Users/brettlv/.matplotlib/stylelib/notebook.mplstyle'), line 834 ('                <span class=\"text-small text-gray\" aria-hidden=\"true\">T</span>')\n",
      "Missing colon in file PosixPath('/Users/brettlv/.matplotlib/stylelib/notebook.mplstyle'), line 835 ('</a>            </li>')\n",
      "Missing colon in file PosixPath('/Users/brettlv/.matplotlib/stylelib/notebook.mplstyle'), line 836 ('            <li data-toggle-for=\"blob-more-options-details\">')\n",
      "Missing colon in file PosixPath('/Users/brettlv/.matplotlib/stylelib/notebook.mplstyle'), line 837 ('              <button type=\"button\" data-toggle-for=\"jumpto-line-details-dialog\" class=\"btn-link dropdown-item\">')\n",
      "Missing colon in file PosixPath('/Users/brettlv/.matplotlib/stylelib/notebook.mplstyle'), line 838 ('                <span class=\"d-flex flex-items-baseline\">')\n",
      "Missing colon in file PosixPath('/Users/brettlv/.matplotlib/stylelib/notebook.mplstyle'), line 839 ('                  <span class=\"flex-auto\">Go to line</span>')\n",
      "Missing colon in file PosixPath('/Users/brettlv/.matplotlib/stylelib/notebook.mplstyle'), line 840 ('                  <span class=\"text-small text-gray\" aria-hidden=\"true\">L</span>')\n",
      "Missing colon in file PosixPath('/Users/brettlv/.matplotlib/stylelib/notebook.mplstyle'), line 841 ('                </span>')\n",
      "Missing colon in file PosixPath('/Users/brettlv/.matplotlib/stylelib/notebook.mplstyle'), line 842 ('              </button>')\n",
      "Missing colon in file PosixPath('/Users/brettlv/.matplotlib/stylelib/notebook.mplstyle'), line 843 ('            </li>')\n",
      "Missing colon in file PosixPath('/Users/brettlv/.matplotlib/stylelib/notebook.mplstyle'), line 844 ('            <li class=\"dropdown-divider\" role=\"none\"></li>')\n",
      "Missing colon in file PosixPath('/Users/brettlv/.matplotlib/stylelib/notebook.mplstyle'), line 845 ('            <li>')\n",
      "Missing colon in file PosixPath('/Users/brettlv/.matplotlib/stylelib/notebook.mplstyle'), line 846 ('              <clipboard-copy value=\"matplotlibrc.template\" class=\"dropdown-item cursor-pointer\" data-toggle-for=\"blob-more-options-details\">')\n",
      "Missing colon in file PosixPath('/Users/brettlv/.matplotlib/stylelib/notebook.mplstyle'), line 847 ('                Copy path')\n",
      "Missing colon in file PosixPath('/Users/brettlv/.matplotlib/stylelib/notebook.mplstyle'), line 848 ('              </clipboard-copy>')\n",
      "Missing colon in file PosixPath('/Users/brettlv/.matplotlib/stylelib/notebook.mplstyle'), line 849 ('            </li>')\n",
      "Missing colon in file PosixPath('/Users/brettlv/.matplotlib/stylelib/notebook.mplstyle'), line 850 ('          </ul>')\n",
      "Missing colon in file PosixPath('/Users/brettlv/.matplotlib/stylelib/notebook.mplstyle'), line 851 ('</div></details>    </div>')\n",
      "Missing colon in file PosixPath('/Users/brettlv/.matplotlib/stylelib/notebook.mplstyle'), line 855 ('    <div class=\"Box d-flex flex-column flex-shrink-0 mb-3\">')\n",
      "Missing colon in file PosixPath('/Users/brettlv/.matplotlib/stylelib/notebook.mplstyle'), line 857 ('  <div class=\"Box-header Box-header--blue Details js-details-container\">')\n",
      "Missing colon in file PosixPath('/Users/brettlv/.matplotlib/stylelib/notebook.mplstyle'), line 858 ('      <div class=\"d-flex flex-items-center\">')\n",
      "Missing colon in file PosixPath('/Users/brettlv/.matplotlib/stylelib/notebook.mplstyle'), line 859 ('        <span class=\"flex-shrink-0 ml-n1 mr-n1 mt-n1 mb-n1\">')\n",
      "Missing colon in file PosixPath('/Users/brettlv/.matplotlib/stylelib/notebook.mplstyle'), line 861 ('        </span>')\n",
      "Missing colon in file PosixPath('/Users/brettlv/.matplotlib/stylelib/notebook.mplstyle'), line 862 ('        <div class=\"flex-1 d-flex flex-items-center ml-3 min-width-0\">')\n",
      "Missing colon in file PosixPath('/Users/brettlv/.matplotlib/stylelib/notebook.mplstyle'), line 863 ('          <div class=\"css-truncate css-truncate-overflow\">')\n",
      "Missing colon in file PosixPath('/Users/brettlv/.matplotlib/stylelib/notebook.mplstyle'), line 866 ('              <span>')\n",
      "Missing colon in file PosixPath('/Users/brettlv/.matplotlib/stylelib/notebook.mplstyle'), line 871 ('Found using `codespell v2.0.dev`  ')\n",
      "Missing colon in file PosixPath('/Users/brettlv/.matplotlib/stylelib/notebook.mplstyle'), line 872 ('```')\n",
      "Missing colon in file PosixPath('/Users/brettlv/.matplotlib/stylelib/notebook.mplstyle'), line 873 ('codespell -q 3 -S ./extern,./doc/users/credits.rst,./doc/api/prev_api_changes,./doc/users/prev_whats_new -L afe,ans,axises,ba,coo,flate,fo,hist,inout,ment,nd,offsetp,oly,ot,te,thisy,vas,whis,wit')\n",
      "Missing colon in file PosixPath('/Users/brettlv/.matplotlib/stylelib/notebook.mplstyle'), line 874 ('```')\n",
      "Missing colon in file PosixPath('/Users/brettlv/.matplotlib/stylelib/notebook.mplstyle'), line 876 ('* Added requested revisions')\n",
      "Missing colon in file PosixPath('/Users/brettlv/.matplotlib/stylelib/notebook.mplstyle'), line 880 ('* Added requested revisions')\n",
      "Duplicate key in file PosixPath('/Users/brettlv/.matplotlib/stylelib/notebook.mplstyle'), line 882 ('Co-authored-by: Thomas A Caswell &lt;tcaswell@gmail.com&gt;')\n",
      "Missing colon in file PosixPath('/Users/brettlv/.matplotlib/stylelib/notebook.mplstyle'), line 884 ('* Added requested revisions')\n",
      "Duplicate key in file PosixPath('/Users/brettlv/.matplotlib/stylelib/notebook.mplstyle'), line 886 ('Co-authored-by: Thomas A Caswell &lt;tcaswell@gmail.com&gt;')\n",
      "Missing colon in file PosixPath('/Users/brettlv/.matplotlib/stylelib/notebook.mplstyle'), line 888 ('* Fix typo demonstrated by @QuLogic')\n",
      "Duplicate key in file PosixPath('/Users/brettlv/.matplotlib/stylelib/notebook.mplstyle'), line 890 ('Co-authored-by: Thomas A Caswell &lt;tcaswell@gmail.com&gt;\" class=\"link-gray\" href=\"/matplotlib/matplotlib/commit/fed55c63a314351cd39a12783f385009782c06e1\">DOC: fix typos (</a><a class=\"issue-link js-issue-link\" data-error-text=\"Failed to load title\" data-id=\"746831460\" data-permission-text=\"Title is private\" data-url=\"https://github.com/matplotlib/matplotlib/issues/18980\" data-hovercard-type=\"pull_request\" data-hovercard-url=\"/matplotlib/matplotlib/pull/18980/hovercard\" href=\"https://github.com/matplotlib/matplotlib/pull/18980\">#18980</a><a data-pjax=\"true\" title=\"DOC: fix typos (#18980)')\n",
      "Duplicate key in file PosixPath('/Users/brettlv/.matplotlib/stylelib/notebook.mplstyle'), line 892 ('* DOC: fix typos')\n",
      "Missing colon in file PosixPath('/Users/brettlv/.matplotlib/stylelib/notebook.mplstyle'), line 894 ('Found using `codespell v2.0.dev`  ')\n",
      "Missing colon in file PosixPath('/Users/brettlv/.matplotlib/stylelib/notebook.mplstyle'), line 895 ('```')\n",
      "Missing colon in file PosixPath('/Users/brettlv/.matplotlib/stylelib/notebook.mplstyle'), line 896 ('codespell -q 3 -S ./extern,./doc/users/credits.rst,./doc/api/prev_api_changes,./doc/users/prev_whats_new -L afe,ans,axises,ba,coo,flate,fo,hist,inout,ment,nd,offsetp,oly,ot,te,thisy,vas,whis,wit')\n",
      "Missing colon in file PosixPath('/Users/brettlv/.matplotlib/stylelib/notebook.mplstyle'), line 897 ('```')\n",
      "Missing colon in file PosixPath('/Users/brettlv/.matplotlib/stylelib/notebook.mplstyle'), line 899 ('* Added requested revisions')\n",
      "Duplicate key in file PosixPath('/Users/brettlv/.matplotlib/stylelib/notebook.mplstyle'), line 901 ('Co-authored-by: Thomas A Caswell &lt;tcaswell@gmail.com&gt;')\n",
      "Missing colon in file PosixPath('/Users/brettlv/.matplotlib/stylelib/notebook.mplstyle'), line 903 ('* Added requested revisions')\n",
      "Duplicate key in file PosixPath('/Users/brettlv/.matplotlib/stylelib/notebook.mplstyle'), line 905 ('Co-authored-by: Thomas A Caswell &lt;tcaswell@gmail.com&gt;')\n",
      "Missing colon in file PosixPath('/Users/brettlv/.matplotlib/stylelib/notebook.mplstyle'), line 907 ('* Added requested revisions')\n",
      "Duplicate key in file PosixPath('/Users/brettlv/.matplotlib/stylelib/notebook.mplstyle'), line 909 ('Co-authored-by: Thomas A Caswell &lt;tcaswell@gmail.com&gt;')\n",
      "Missing colon in file PosixPath('/Users/brettlv/.matplotlib/stylelib/notebook.mplstyle'), line 911 ('* Fix typo demonstrated by @QuLogic')\n",
      "Duplicate key in file PosixPath('/Users/brettlv/.matplotlib/stylelib/notebook.mplstyle'), line 913 ('Co-authored-by: Thomas A Caswell &lt;tcaswell@gmail.com&gt;\" class=\"link-gray\" href=\"/matplotlib/matplotlib/commit/fed55c63a314351cd39a12783f385009782c06e1\">)</a>')\n",
      "Missing colon in file PosixPath('/Users/brettlv/.matplotlib/stylelib/notebook.mplstyle'), line 914 ('              </span>')\n",
      "Missing colon in file PosixPath('/Users/brettlv/.matplotlib/stylelib/notebook.mplstyle'), line 915 ('          </div>')\n",
      "Missing colon in file PosixPath('/Users/brettlv/.matplotlib/stylelib/notebook.mplstyle'), line 917 ('            <span class=\"hidden-text-expander ml-1 flex-shrink-0\">')\n",
      "Missing colon in file PosixPath('/Users/brettlv/.matplotlib/stylelib/notebook.mplstyle'), line 918 ('              <button type=\"button\" class=\"ellipsis-expander js-details-target\" aria-expanded=\"false\">&hellip;</button>')\n",
      "Missing colon in file PosixPath('/Users/brettlv/.matplotlib/stylelib/notebook.mplstyle'), line 919 ('            </span>')\n",
      "Missing colon in file PosixPath('/Users/brettlv/.matplotlib/stylelib/notebook.mplstyle'), line 921 ('          <span class=\"ml-2\">')\n",
      "Missing colon in file PosixPath('/Users/brettlv/.matplotlib/stylelib/notebook.mplstyle'), line 922 ('            <include-fragment accept=\"text/fragment+html\" src=\"/matplotlib/matplotlib/commit/fed55c63a314351cd39a12783f385009782c06e1/rollup?direction=e\" class=\"d-inline\"></include-fragment>')\n",
      "Missing colon in file PosixPath('/Users/brettlv/.matplotlib/stylelib/notebook.mplstyle'), line 923 ('          </span>')\n",
      "Missing colon in file PosixPath('/Users/brettlv/.matplotlib/stylelib/notebook.mplstyle'), line 924 ('        </div>')\n",
      "Missing colon in file PosixPath('/Users/brettlv/.matplotlib/stylelib/notebook.mplstyle'), line 925 ('        <div class=\"ml-3 d-flex flex-shrink-0 flex-items-center flex-justify-end text-gray no-wrap\">')\n",
      "Missing colon in file PosixPath('/Users/brettlv/.matplotlib/stylelib/notebook.mplstyle'), line 926 ('          <span class=\"d-none d-md-inline\">')\n",
      "Missing colon in file PosixPath('/Users/brettlv/.matplotlib/stylelib/notebook.mplstyle'), line 927 ('            <span>Latest commit</span>')\n",
      "Missing colon in file PosixPath('/Users/brettlv/.matplotlib/stylelib/notebook.mplstyle'), line 928 ('            <a class=\"text-small text-mono link-gray\" href=\"/matplotlib/matplotlib/commit/fed55c63a314351cd39a12783f385009782c06e1\" data-pjax>fed55c6</a>')\n",
      "Missing colon in file PosixPath('/Users/brettlv/.matplotlib/stylelib/notebook.mplstyle'), line 930 ('          </span>')\n",
      "Missing colon in file PosixPath('/Users/brettlv/.matplotlib/stylelib/notebook.mplstyle'), line 932 ('          <a data-pjax href=\"/matplotlib/matplotlib/commits/master/matplotlibrc.template\" class=\"ml-3 no-wrap link-gray-dark no-underline\">')\n",
      "Missing colon in file PosixPath('/Users/brettlv/.matplotlib/stylelib/notebook.mplstyle'), line 933 ('            <svg class=\"octicon octicon-history text-gray\" height=\"16\" viewBox=\"0 0 16 16\" version=\"1.1\" width=\"16\" aria-hidden=\"true\"><path fill-rule=\"evenodd\" d=\"M1.643 3.143L.427 1.927A.25.25 0 000 2.104V5.75c0 .138.112.25.25.25h3.646a.25.25 0 00.177-.427L2.715 4.215a6.5 6.5 0 11-1.18 4.458.75.75 0 10-1.493.154 8.001 8.001 0 101.6-5.684zM7.75 4a.75.75 0 01.75.75v2.992l2.028.812a.75.75 0 01-.557 1.392l-2.5-1A.75.75 0 017 8.25v-3.5A.75.75 0 017.75 4z\"></path></svg>')\n",
      "Missing colon in file PosixPath('/Users/brettlv/.matplotlib/stylelib/notebook.mplstyle'), line 934 ('            <span class=\"d-none d-sm-inline\">')\n",
      "Missing colon in file PosixPath('/Users/brettlv/.matplotlib/stylelib/notebook.mplstyle'), line 935 ('              <strong>History</strong>')\n",
      "Missing colon in file PosixPath('/Users/brettlv/.matplotlib/stylelib/notebook.mplstyle'), line 936 ('            </span>')\n",
      "Missing colon in file PosixPath('/Users/brettlv/.matplotlib/stylelib/notebook.mplstyle'), line 937 ('          </a>')\n",
      "Missing colon in file PosixPath('/Users/brettlv/.matplotlib/stylelib/notebook.mplstyle'), line 938 ('        </div>')\n",
      "Missing colon in file PosixPath('/Users/brettlv/.matplotlib/stylelib/notebook.mplstyle'), line 939 ('      </div>')\n",
      "Missing colon in file PosixPath('/Users/brettlv/.matplotlib/stylelib/notebook.mplstyle'), line 942 ('Found using `codespell v2.0.dev`  ')\n",
      "Missing colon in file PosixPath('/Users/brettlv/.matplotlib/stylelib/notebook.mplstyle'), line 943 ('```')\n",
      "Missing colon in file PosixPath('/Users/brettlv/.matplotlib/stylelib/notebook.mplstyle'), line 944 ('codespell -q 3 -S ./extern,./doc/users/credits.rst,./doc/api/prev_api_changes,./doc/users/prev_whats_new -L afe,ans,axises,ba,coo,flate,fo,hist,inout,ment,nd,offsetp,oly,ot,te,thisy,vas,whis,wit')\n",
      "Missing colon in file PosixPath('/Users/brettlv/.matplotlib/stylelib/notebook.mplstyle'), line 945 ('```')\n",
      "Missing colon in file PosixPath('/Users/brettlv/.matplotlib/stylelib/notebook.mplstyle'), line 947 ('* Added requested revisions')\n",
      "Duplicate key in file PosixPath('/Users/brettlv/.matplotlib/stylelib/notebook.mplstyle'), line 949 ('Co-authored-by: Thomas A Caswell &lt;tcaswell@gmail.com&gt;')\n",
      "Missing colon in file PosixPath('/Users/brettlv/.matplotlib/stylelib/notebook.mplstyle'), line 951 ('* Added requested revisions')\n",
      "Duplicate key in file PosixPath('/Users/brettlv/.matplotlib/stylelib/notebook.mplstyle'), line 953 ('Co-authored-by: Thomas A Caswell &lt;tcaswell@gmail.com&gt;')\n",
      "Missing colon in file PosixPath('/Users/brettlv/.matplotlib/stylelib/notebook.mplstyle'), line 955 ('* Added requested revisions')\n",
      "Duplicate key in file PosixPath('/Users/brettlv/.matplotlib/stylelib/notebook.mplstyle'), line 957 ('Co-authored-by: Thomas A Caswell &lt;tcaswell@gmail.com&gt;')\n",
      "Duplicate key in file PosixPath('/Users/brettlv/.matplotlib/stylelib/notebook.mplstyle'), line 961 ('Co-authored-by: Thomas A Caswell &lt;tcaswell@gmail.com&gt;</pre></div>')\n",
      "Missing colon in file PosixPath('/Users/brettlv/.matplotlib/stylelib/notebook.mplstyle'), line 963 ('  </div>')\n",
      "Missing colon in file PosixPath('/Users/brettlv/.matplotlib/stylelib/notebook.mplstyle'), line 965 ('  <div class=\"Box-body d-flex flex-items-center flex-auto border-bottom-0 flex-wrap\" >')\n",
      "Missing colon in file PosixPath('/Users/brettlv/.matplotlib/stylelib/notebook.mplstyle'), line 966 ('    <details class=\"details-reset details-overlay details-overlay-dark lh-default text-gray-dark float-left mr-3\" id=\"blob_contributors_box\">')\n",
      "Missing colon in file PosixPath('/Users/brettlv/.matplotlib/stylelib/notebook.mplstyle'), line 967 ('      <summary class=\"link-gray-dark\">')\n",
      "Missing colon in file PosixPath('/Users/brettlv/.matplotlib/stylelib/notebook.mplstyle'), line 968 ('        <svg class=\"octicon octicon-people text-gray\" height=\"16\" viewBox=\"0 0 16 16\" version=\"1.1\" width=\"16\" aria-hidden=\"true\"><path fill-rule=\"evenodd\" d=\"M5.5 3.5a2 2 0 100 4 2 2 0 000-4zM2 5.5a3.5 3.5 0 115.898 2.549 5.507 5.507 0 013.034 4.084.75.75 0 11-1.482.235 4.001 4.001 0 00-7.9 0 .75.75 0 01-1.482-.236A5.507 5.507 0 013.102 8.05 3.49 3.49 0 012 5.5zM11 4a.75.75 0 100 1.5 1.5 1.5 0 01.666 2.844.75.75 0 00-.416.672v.352a.75.75 0 00.574.73c1.2.289 2.162 1.2 2.522 2.372a.75.75 0 101.434-.44 5.01 5.01 0 00-2.56-3.012A3 3 0 0011 4z\"></path></svg>')\n",
      "Missing colon in file PosixPath('/Users/brettlv/.matplotlib/stylelib/notebook.mplstyle'), line 969 ('        <strong>70</strong>')\n",
      "Missing colon in file PosixPath('/Users/brettlv/.matplotlib/stylelib/notebook.mplstyle'), line 971 ('        contributors')\n",
      "Missing colon in file PosixPath('/Users/brettlv/.matplotlib/stylelib/notebook.mplstyle'), line 972 ('      </summary>')\n",
      "Missing colon in file PosixPath('/Users/brettlv/.matplotlib/stylelib/notebook.mplstyle'), line 973 ('      <details-dialog')\n",
      "Missing colon in file PosixPath('/Users/brettlv/.matplotlib/stylelib/notebook.mplstyle'), line 974 ('        class=\"Box Box--overlay d-flex flex-column anim-fade-in fast\"')\n",
      "Missing colon in file PosixPath('/Users/brettlv/.matplotlib/stylelib/notebook.mplstyle'), line 975 ('        aria-label=\"Users who have contributed to this file\"')\n",
      "Missing colon in file PosixPath('/Users/brettlv/.matplotlib/stylelib/notebook.mplstyle'), line 976 ('        src=\"/matplotlib/matplotlib/contributors-list/master/matplotlibrc.template\" preload>')\n",
      "Missing colon in file PosixPath('/Users/brettlv/.matplotlib/stylelib/notebook.mplstyle'), line 977 ('        <div class=\"Box-header\">')\n",
      "Missing colon in file PosixPath('/Users/brettlv/.matplotlib/stylelib/notebook.mplstyle'), line 978 ('          <button class=\"Box-btn-octicon btn-octicon float-right\" type=\"button\" aria-label=\"Close dialog\" data-close-dialog>')\n",
      "Missing colon in file PosixPath('/Users/brettlv/.matplotlib/stylelib/notebook.mplstyle'), line 979 ('            <svg class=\"octicon octicon-x\" viewBox=\"0 0 16 16\" version=\"1.1\" width=\"16\" height=\"16\" aria-hidden=\"true\"><path fill-rule=\"evenodd\" d=\"M3.72 3.72a.75.75 0 011.06 0L8 6.94l3.22-3.22a.75.75 0 111.06 1.06L9.06 8l3.22 3.22a.75.75 0 11-1.06 1.06L8 9.06l-3.22 3.22a.75.75 0 01-1.06-1.06L6.94 8 3.72 4.78a.75.75 0 010-1.06z\"></path></svg>')\n",
      "Missing colon in file PosixPath('/Users/brettlv/.matplotlib/stylelib/notebook.mplstyle'), line 980 ('          </button>')\n",
      "Missing colon in file PosixPath('/Users/brettlv/.matplotlib/stylelib/notebook.mplstyle'), line 981 ('          <h3 class=\"Box-title\">')\n",
      "Missing colon in file PosixPath('/Users/brettlv/.matplotlib/stylelib/notebook.mplstyle'), line 982 ('            Users who have contributed to this file')\n",
      "Missing colon in file PosixPath('/Users/brettlv/.matplotlib/stylelib/notebook.mplstyle'), line 983 ('          </h3>')\n",
      "Missing colon in file PosixPath('/Users/brettlv/.matplotlib/stylelib/notebook.mplstyle'), line 984 ('        </div>')\n",
      "Missing colon in file PosixPath('/Users/brettlv/.matplotlib/stylelib/notebook.mplstyle'), line 985 ('        <include-fragment>')\n",
      "Missing colon in file PosixPath('/Users/brettlv/.matplotlib/stylelib/notebook.mplstyle'), line 987 ('  <circle cx=\"8\" cy=\"8\" r=\"7\" stroke=\"currentColor\" stroke-opacity=\"0.25\" stroke-width=\"2\" vector-effect=\"non-scaling-stroke\" />')\n",
      "Missing colon in file PosixPath('/Users/brettlv/.matplotlib/stylelib/notebook.mplstyle'), line 988 ('  <path d=\"M15 8a7.002 7.002 0 00-7-7\" stroke=\"currentColor\" stroke-width=\"2\" stroke-linecap=\"round\" vector-effect=\"non-scaling-stroke\">')\n",
      "Missing colon in file PosixPath('/Users/brettlv/.matplotlib/stylelib/notebook.mplstyle'), line 989 ('    <animateTransform attributeName=\"transform\" type=\"rotate\" from=\"0 8 8\" to=\"360 8 8\" dur=\"1s\" repeatCount=\"indefinite\" />')\n",
      "Missing colon in file PosixPath('/Users/brettlv/.matplotlib/stylelib/notebook.mplstyle'), line 990 ('  </path>')\n",
      "Missing colon in file PosixPath('/Users/brettlv/.matplotlib/stylelib/notebook.mplstyle'), line 991 ('</svg>')\n",
      "Missing colon in file PosixPath('/Users/brettlv/.matplotlib/stylelib/notebook.mplstyle'), line 992 ('        </include-fragment>')\n",
      "Missing colon in file PosixPath('/Users/brettlv/.matplotlib/stylelib/notebook.mplstyle'), line 993 ('      </details-dialog>')\n",
      "Missing colon in file PosixPath('/Users/brettlv/.matplotlib/stylelib/notebook.mplstyle'), line 994 ('    </details>')\n",
      "Missing colon in file PosixPath('/Users/brettlv/.matplotlib/stylelib/notebook.mplstyle'), line 995 ('      <span class=\"\">')\n",
      "Duplicate key in file PosixPath('/Users/brettlv/.matplotlib/stylelib/notebook.mplstyle'), line 999 ('      <img class=\"avatar mr-2 avatar-user\" src=\"https://avatars3.githubusercontent.com/u/199813?s=48&amp;v=4\" width=\"24\" height=\"24\" alt=\"@tacaswell\" /> ')\n",
      "Duplicate key in file PosixPath('/Users/brettlv/.matplotlib/stylelib/notebook.mplstyle'), line 1001 ('      <img class=\"avatar mr-2 avatar-user\" src=\"https://avatars3.githubusercontent.com/u/1322974?s=48&amp;v=4\" width=\"24\" height=\"24\" alt=\"@anntzer\" /> ')\n",
      "Duplicate key in file PosixPath('/Users/brettlv/.matplotlib/stylelib/notebook.mplstyle'), line 1003 ('      <img class=\"avatar mr-2 avatar-user\" src=\"https://avatars3.githubusercontent.com/u/85125?s=48&amp;v=4\" width=\"24\" height=\"24\" alt=\"@efiring\" /> ')\n",
      "Duplicate key in file PosixPath('/Users/brettlv/.matplotlib/stylelib/notebook.mplstyle'), line 1005 ('      <img class=\"avatar mr-2 avatar-user\" src=\"https://avatars1.githubusercontent.com/u/38334?s=48&amp;v=4\" width=\"24\" height=\"24\" alt=\"@jdh2358\" /> ')\n",
      "Duplicate key in file PosixPath('/Users/brettlv/.matplotlib/stylelib/notebook.mplstyle'), line 1007 ('      <img class=\"avatar mr-2 avatar-user\" src=\"https://avatars2.githubusercontent.com/u/302469?s=48&amp;v=4\" width=\"24\" height=\"24\" alt=\"@QuLogic\" /> ')\n",
      "Duplicate key in file PosixPath('/Users/brettlv/.matplotlib/stylelib/notebook.mplstyle'), line 1009 ('      <img class=\"avatar mr-2 avatar-user\" src=\"https://avatars0.githubusercontent.com/u/1562854?s=48&amp;v=4\" width=\"24\" height=\"24\" alt=\"@jklymak\" /> ')\n",
      "Duplicate key in file PosixPath('/Users/brettlv/.matplotlib/stylelib/notebook.mplstyle'), line 1011 ('      <img class=\"avatar mr-2 avatar-user\" src=\"https://avatars2.githubusercontent.com/u/169586?s=48&amp;v=4\" width=\"24\" height=\"24\" alt=\"@ddale\" /> ')\n",
      "Duplicate key in file PosixPath('/Users/brettlv/.matplotlib/stylelib/notebook.mplstyle'), line 1013 ('      <img class=\"avatar mr-2 avatar-user\" src=\"https://avatars2.githubusercontent.com/u/2836374?s=48&amp;v=4\" width=\"24\" height=\"24\" alt=\"@timhoffm\" /> ')\n",
      "Duplicate key in file PosixPath('/Users/brettlv/.matplotlib/stylelib/notebook.mplstyle'), line 1015 ('      <img class=\"avatar mr-2 avatar-user\" src=\"https://avatars2.githubusercontent.com/u/345982?s=48&amp;v=4\" width=\"24\" height=\"24\" alt=\"@NNemec\" /> ')\n",
      "Duplicate key in file PosixPath('/Users/brettlv/.matplotlib/stylelib/notebook.mplstyle'), line 1017 ('      <img class=\"avatar mr-2 avatar-user\" src=\"https://avatars3.githubusercontent.com/u/810663?s=48&amp;v=4\" width=\"24\" height=\"24\" alt=\"@pelson\" /> ')\n",
      "Duplicate key in file PosixPath('/Users/brettlv/.matplotlib/stylelib/notebook.mplstyle'), line 1019 ('      <img class=\"avatar mr-2 avatar-user\" src=\"https://avatars0.githubusercontent.com/u/548266?s=48&amp;v=4\" width=\"24\" height=\"24\" alt=\"@jenshnielsen\" /> ')\n",
      "Missing colon in file PosixPath('/Users/brettlv/.matplotlib/stylelib/notebook.mplstyle'), line 1020 ('</a>')\n",
      "Missing colon in file PosixPath('/Users/brettlv/.matplotlib/stylelib/notebook.mplstyle'), line 1021 ('    <button type=\"button\" class=\"btn-link lh-default\" data-toggle-for=\"blob_contributors_box\">')\n",
      "Missing colon in file PosixPath('/Users/brettlv/.matplotlib/stylelib/notebook.mplstyle'), line 1022 ('      +55')\n",
      "Missing colon in file PosixPath('/Users/brettlv/.matplotlib/stylelib/notebook.mplstyle'), line 1023 ('    </button>')\n",
      "Missing colon in file PosixPath('/Users/brettlv/.matplotlib/stylelib/notebook.mplstyle'), line 1024 ('</span>')\n",
      "Missing colon in file PosixPath('/Users/brettlv/.matplotlib/stylelib/notebook.mplstyle'), line 1026 ('  </div>')\n",
      "Missing colon in file PosixPath('/Users/brettlv/.matplotlib/stylelib/notebook.mplstyle'), line 1027 ('    </div>')\n",
      "Missing colon in file PosixPath('/Users/brettlv/.matplotlib/stylelib/notebook.mplstyle'), line 1034 ('    <div class=\"Box mt-3 position-relative')\n",
      "Missing colon in file PosixPath('/Users/brettlv/.matplotlib/stylelib/notebook.mplstyle'), line 1035 ('      \">')\n",
      "Missing colon in file PosixPath('/Users/brettlv/.matplotlib/stylelib/notebook.mplstyle'), line 1037 ('<div class=\"Box-header py-2 d-flex flex-column flex-shrink-0 flex-md-row flex-md-items-center\">')\n",
      "Missing colon in file PosixPath('/Users/brettlv/.matplotlib/stylelib/notebook.mplstyle'), line 1038 ('  <div class=\"text-mono f6 flex-auto pr-3 flex-order-2 flex-md-order-1 mt-2 mt-md-0\">')\n",
      "Missing colon in file PosixPath('/Users/brettlv/.matplotlib/stylelib/notebook.mplstyle'), line 1040 ('      765 lines (680 sloc)')\n",
      "Missing colon in file PosixPath('/Users/brettlv/.matplotlib/stylelib/notebook.mplstyle'), line 1041 ('      <span class=\"file-info-divider\"></span>')\n",
      "Missing colon in file PosixPath('/Users/brettlv/.matplotlib/stylelib/notebook.mplstyle'), line 1042 ('    39.5 KB')\n",
      "Missing colon in file PosixPath('/Users/brettlv/.matplotlib/stylelib/notebook.mplstyle'), line 1043 ('  </div>')\n",
      "Missing colon in file PosixPath('/Users/brettlv/.matplotlib/stylelib/notebook.mplstyle'), line 1045 ('  <div class=\"d-flex py-1 py-md-0 flex-auto flex-order-1 flex-md-order-2 flex-sm-grow-0 flex-justify-between\">')\n",
      "Missing colon in file PosixPath('/Users/brettlv/.matplotlib/stylelib/notebook.mplstyle'), line 1047 ('    <div class=\"BtnGroup\">')\n",
      "Missing colon in file PosixPath('/Users/brettlv/.matplotlib/stylelib/notebook.mplstyle'), line 1048 ('      <a href=\"/matplotlib/matplotlib/raw/master/matplotlibrc.template\" id=\"raw-url\" role=\"button\" class=\"btn btn-sm BtnGroup-item \">Raw</a>')\n",
      "Missing colon in file PosixPath('/Users/brettlv/.matplotlib/stylelib/notebook.mplstyle'), line 1049 ('        <a href=\"/matplotlib/matplotlib/blame/master/matplotlibrc.template\" data-hotkey=\"b\" role=\"button\" class=\"btn js-update-url-with-hash btn-sm BtnGroup-item \">Blame</a>')\n",
      "Missing colon in file PosixPath('/Users/brettlv/.matplotlib/stylelib/notebook.mplstyle'), line 1050 ('    </div>')\n",
      "Missing colon in file PosixPath('/Users/brettlv/.matplotlib/stylelib/notebook.mplstyle'), line 1052 ('    <div>')\n",
      "Missing colon in file PosixPath('/Users/brettlv/.matplotlib/stylelib/notebook.mplstyle'), line 1053 ('          <a class=\"btn-octicon tooltipped tooltipped-nw js-remove-unless-platform\"')\n",
      "Missing colon in file PosixPath('/Users/brettlv/.matplotlib/stylelib/notebook.mplstyle'), line 1054 ('             data-platforms=\"windows,mac\"')\n",
      "Missing colon in file PosixPath('/Users/brettlv/.matplotlib/stylelib/notebook.mplstyle'), line 1056 ('             aria-label=\"Open this file in GitHub Desktop\"')\n",
      "Missing colon in file PosixPath('/Users/brettlv/.matplotlib/stylelib/notebook.mplstyle'), line 1057 ('             data-ga-click=\"Repository, open with desktop\">')\n",
      "Missing colon in file PosixPath('/Users/brettlv/.matplotlib/stylelib/notebook.mplstyle'), line 1058 ('              <svg class=\"octicon octicon-device-desktop\" viewBox=\"0 0 16 16\" version=\"1.1\" width=\"16\" height=\"16\" aria-hidden=\"true\"><path fill-rule=\"evenodd\" d=\"M1.75 2.5h12.5a.25.25 0 01.25.25v7.5a.25.25 0 01-.25.25H1.75a.25.25 0 01-.25-.25v-7.5a.25.25 0 01.25-.25zM14.25 1H1.75A1.75 1.75 0 000 2.75v7.5C0 11.216.784 12 1.75 12h3.727c-.1 1.041-.52 1.872-1.292 2.757A.75.75 0 004.75 16h6.5a.75.75 0 00.565-1.243c-.772-.885-1.193-1.716-1.292-2.757h3.727A1.75 1.75 0 0016 10.25v-7.5A1.75 1.75 0 0014.25 1zM9.018 12H6.982a5.72 5.72 0 01-.765 2.5h3.566a5.72 5.72 0 01-.765-2.5z\"></path></svg>')\n",
      "Missing colon in file PosixPath('/Users/brettlv/.matplotlib/stylelib/notebook.mplstyle'), line 1059 ('          </a>')\n",
      "Missing colon in file PosixPath('/Users/brettlv/.matplotlib/stylelib/notebook.mplstyle'), line 1061 ('          <a href=\"/login?return_to=%2Fmatplotlib%2Fmatplotlib%2Fblob%2Fmaster%2Fmatplotlibrc.template\" class=\"btn-octicon disabled tooltipped tooltipped-nw\"')\n",
      "Missing colon in file PosixPath('/Users/brettlv/.matplotlib/stylelib/notebook.mplstyle'), line 1062 ('            aria-label=\"You must be signed in to make or propose changes\">')\n",
      "Missing colon in file PosixPath('/Users/brettlv/.matplotlib/stylelib/notebook.mplstyle'), line 1063 ('            <svg class=\"octicon octicon-pencil\" height=\"16\" viewBox=\"0 0 16 16\" version=\"1.1\" width=\"16\" aria-hidden=\"true\"><path fill-rule=\"evenodd\" d=\"M11.013 1.427a1.75 1.75 0 012.474 0l1.086 1.086a1.75 1.75 0 010 2.474l-8.61 8.61c-.21.21-.47.364-.756.445l-3.251.93a.75.75 0 01-.927-.928l.929-3.25a1.75 1.75 0 01.445-.758l8.61-8.61zm1.414 1.06a.25.25 0 00-.354 0L10.811 3.75l1.439 1.44 1.263-1.263a.25.25 0 000-.354l-1.086-1.086zM11.189 6.25L9.75 4.81l-6.286 6.287a.25.25 0 00-.064.108l-.558 1.953 1.953-.558a.249.249 0 00.108-.064l6.286-6.286z\"></path></svg>')\n",
      "Missing colon in file PosixPath('/Users/brettlv/.matplotlib/stylelib/notebook.mplstyle'), line 1064 ('          </a>')\n",
      "Missing colon in file PosixPath('/Users/brettlv/.matplotlib/stylelib/notebook.mplstyle'), line 1065 ('          <a href=\"/login?return_to=%2Fmatplotlib%2Fmatplotlib%2Fblob%2Fmaster%2Fmatplotlibrc.template\" class=\"btn-octicon btn-octicon-danger disabled tooltipped tooltipped-nw\"')\n",
      "Missing colon in file PosixPath('/Users/brettlv/.matplotlib/stylelib/notebook.mplstyle'), line 1066 ('            aria-label=\"You must be signed in to make or propose changes\">')\n",
      "Missing colon in file PosixPath('/Users/brettlv/.matplotlib/stylelib/notebook.mplstyle'), line 1067 ('            <svg class=\"octicon octicon-trashcan\" viewBox=\"0 0 16 16\" version=\"1.1\" width=\"16\" height=\"16\" aria-hidden=\"true\"><path fill-rule=\"evenodd\" d=\"M6.5 1.75a.25.25 0 01.25-.25h2.5a.25.25 0 01.25.25V3h-3V1.75zm4.5 0V3h2.25a.75.75 0 010 1.5H2.75a.75.75 0 010-1.5H5V1.75C5 .784 5.784 0 6.75 0h2.5C10.216 0 11 .784 11 1.75zM4.496 6.675a.75.75 0 10-1.492.15l.66 6.6A1.75 1.75 0 005.405 15h5.19c.9 0 1.652-.681 1.741-1.576l.66-6.6a.75.75 0 00-1.492-.149l-.66 6.6a.25.25 0 01-.249.225h-5.19a.25.25 0 01-.249-.225l-.66-6.6z\"></path></svg>')\n",
      "Missing colon in file PosixPath('/Users/brettlv/.matplotlib/stylelib/notebook.mplstyle'), line 1068 ('          </a>')\n",
      "Missing colon in file PosixPath('/Users/brettlv/.matplotlib/stylelib/notebook.mplstyle'), line 1069 ('    </div>')\n",
      "Missing colon in file PosixPath('/Users/brettlv/.matplotlib/stylelib/notebook.mplstyle'), line 1070 ('  </div>')\n",
      "Missing colon in file PosixPath('/Users/brettlv/.matplotlib/stylelib/notebook.mplstyle'), line 1071 ('</div>')\n",
      "Missing colon in file PosixPath('/Users/brettlv/.matplotlib/stylelib/notebook.mplstyle'), line 1075 ('  <div itemprop=\"text\" class=\"Box-body p-0 blob-wrapper data type-text  gist-border-0\">')\n",
      "Missing colon in file PosixPath('/Users/brettlv/.matplotlib/stylelib/notebook.mplstyle'), line 1077 ('<table class=\"highlight tab-size js-file-line-container\" data-tab-size=\"8\" data-paste-markdown-skip>')\n",
      "Missing colon in file PosixPath('/Users/brettlv/.matplotlib/stylelib/notebook.mplstyle'), line 1078 ('      <tr>')\n",
      "Missing colon in file PosixPath('/Users/brettlv/.matplotlib/stylelib/notebook.mplstyle'), line 1079 ('        <td id=\"L1\" class=\"blob-num js-line-number\" data-line-number=\"1\"></td>')\n",
      "Missing colon in file PosixPath('/Users/brettlv/.matplotlib/stylelib/notebook.mplstyle'), line 1080 ('        <td id=\"LC1\" class=\"blob-code blob-code-inner js-file-line\">#### MATPLOTLIBRC FORMAT</td>')\n",
      "Missing colon in file PosixPath('/Users/brettlv/.matplotlib/stylelib/notebook.mplstyle'), line 1081 ('      </tr>')\n",
      "Missing colon in file PosixPath('/Users/brettlv/.matplotlib/stylelib/notebook.mplstyle'), line 1082 ('      <tr>')\n",
      "Missing colon in file PosixPath('/Users/brettlv/.matplotlib/stylelib/notebook.mplstyle'), line 1083 ('        <td id=\"L2\" class=\"blob-num js-line-number\" data-line-number=\"2\"></td>')\n",
      "Missing colon in file PosixPath('/Users/brettlv/.matplotlib/stylelib/notebook.mplstyle'), line 1084 ('        <td id=\"LC2\" class=\"blob-code blob-code-inner js-file-line\">')\n"
     ]
    }
   ],
   "source": [
    "import matplotlib.pyplot as plt\n",
    "plt.style.available"
   ]
  },
  {
   "cell_type": "code",
   "execution_count": null,
   "metadata": {
    "ExecuteTime": {
     "start_time": "2020-12-21T07:22:04.910Z"
    },
    "collapsed": false
   },
   "outputs": [],
   "source": [
    "from pylab import *\n",
    "from matplotlib.ticker import MultipleLocator, FormatStrFormatter\n",
    "import matplotlib.pyplot as plt\n",
    "import numpy as np\n",
    "import pandas as pd\n",
    "import pyfits\n",
    "\n",
    "\n",
    "from matplotlib.ticker import NullFormatter  # useful for `logit` scale\n",
    "from astropy.time import Time\n",
    "\n",
    "from astropy.stats import LombScargle\n",
    "#plt.style.use('seaborn-whitegrid')\n",
    "\n",
    "%matplotlib inline\n",
    "%config InlineBackend.figure_format='svg'\n",
    "#%config InlineBackend.figure_format='retina'"
   ]
  },
  {
   "cell_type": "markdown",
   "metadata": {},
   "source": [
    "## def"
   ]
  },
  {
   "cell_type": "code",
   "execution_count": null,
   "metadata": {
    "ExecuteTime": {
     "end_time": "2020-12-14T14:51:33.886240Z",
     "start_time": "2020-12-14T14:51:33.875876Z"
    },
    "collapsed": true
   },
   "outputs": [],
   "source": [
    "def set_ax_tick(ax):\n",
    "    ax.xaxis.set_tick_params(which='major', size=10, width=2, direction='in', top='on',)\n",
    "    ax.xaxis.set_tick_params(which='minor', size=5, width=2, direction='in', top='on')\n",
    "    ax.yaxis.set_tick_params(which='major', size=10, width=2, direction='in', right='on')\n",
    "    ax.yaxis.set_tick_params(which='minor', size=5, width=2, direction='in', right='on')\n",
    "\n",
    "def set_ax_locator(ax,xma=1,xmi=0.2,yma=1,ymi=0.2):\n",
    "    ax.xaxis.set_major_locator(mpl.ticker.MultipleLocator(xma))\n",
    "    ax.xaxis.set_minor_locator(mpl.ticker.MultipleLocator(xmi))\n",
    "    ax.yaxis.set_major_locator(mpl.ticker.MultipleLocator(yma))\n",
    "    ax.yaxis.set_minor_locator(mpl.ticker.MultipleLocator(ymi))"
   ]
  },
  {
   "cell_type": "markdown",
   "metadata": {},
   "source": [
    "# AB magnitude System"
   ]
  },
  {
   "cell_type": "code",
   "execution_count": null,
   "metadata": {
    "collapsed": true
   },
   "outputs": [],
   "source": [
    "This magnitude system is defined such that, when monochromatic flux \n",
    "\n",
    "f is measured in erg sec^-1 cm^-2 Hz^-1,\n",
    "\n",
    "m(AB) = -2.5 log(f) - 48.60\n",
    "\n",
    "mAB = mVega + ∆m\n",
    "\n",
    "f= 10**((-48.6-mVega - ∆m)/2.5)"
   ]
  },
  {
   "cell_type": "code",
   "execution_count": null,
   "metadata": {
    "collapsed": true
   },
   "outputs": [],
   "source": []
  },
  {
   "cell_type": "markdown",
   "metadata": {},
   "source": [
    "# wise"
   ]
  },
  {
   "cell_type": "markdown",
   "metadata": {},
   "source": [
    "## Vega to AB Magnitudes\n"
   ]
  },
  {
   "cell_type": "code",
   "execution_count": null,
   "metadata": {
    "collapsed": true
   },
   "outputs": [],
   "source": [
    "(mAB = mVega + Δm)"
   ]
  },
  {
   "cell_type": "code",
   "execution_count": null,
   "metadata": {
    "ExecuteTime": {
     "end_time": "2020-12-14T14:53:08.957011Z",
     "start_time": "2020-12-14T14:53:08.928795Z"
    },
    "collapsed": true
   },
   "outputs": [],
   "source": [
    "data_allwise_epoch=pd.read_csv('/Users/brettlv/Downloads/wise_cl/NGC1566_multi_epoch.csv')\n",
    "data_neowise=pd.read_csv('/Users/brettlv/Downloads/wise_cl/NGC1566_neo.csv')\n",
    "delta_m_wise=[2.699,3.339,5.174,6.620]\n",
    "delta_m_neowise=[2.699,3.339,2.699,3.339,5.174,6.620]"
   ]
  },
  {
   "cell_type": "markdown",
   "metadata": {},
   "source": [
    "|  |$\\Delta m$|\n",
    "|  ----  | ----  |\n",
    "|W1|  2.699|\n",
    "|W2|  3.339|\n",
    "|W3|  5.174|\n",
    "|W4|  6.620|"
   ]
  },
  {
   "cell_type": "code",
   "execution_count": null,
   "metadata": {
    "collapsed": true
   },
   "outputs": [],
   "source": []
  },
  {
   "cell_type": "code",
   "execution_count": null,
   "metadata": {
    "ExecuteTime": {
     "end_time": "2020-12-14T14:53:37.746052Z",
     "start_time": "2020-12-14T14:53:33.902831Z"
    },
    "collapsed": false
   },
   "outputs": [],
   "source": [
    "fig, axs = plt.subplots(1, 1,figsize=(8,8))\n",
    "axs.set_title('NGC1566_wise')\n",
    "\n",
    "for i in range(4):\n",
    "    name_mjd='mjd'\n",
    "    name_band=data_allwise_epoch.columns[i*3+8]\n",
    "    name_err=data_allwise_epoch.columns[i*3+9]\n",
    "    print(name_mjd,name_band,name_err,delta_m_wise[i])\n",
    "    data_band=data_allwise_epoch[data_allwise_epoch[name_mjd].notnull()]  \n",
    "    #mag_wise_data=pd.DataFrame({'t':data_band[name_mjd],'flux':data_band[name_band],'err':data_band[name_err]},index=None,columns=['t','flux','err'])    \n",
    "    dcf_wise_data=pd.DataFrame({'t':data_band[name_mjd],'flux':(-48.6-data_band[name_band]-delta_m_wise[i])/2.5,'err':data_band[name_err]/2.5},index=None,columns=['t','flux','err'])    \n",
    "    axs.errorbar(dcf_wise_data['t'],dcf_wise_data['flux'],dcf_wise_data['err'],fmt='.',label=name_band+'multi_epoch')\n",
    "    \n",
    "\n",
    "data_neowise_select=data_neowise.loc[:, ['w1mpro', 'w1sigmpro',\n",
    "         'w2mpro', 'w2sigmpro','w1mpro_allwise', 'w1sigmpro_allwise', 'w2mpro_allwise',\n",
    "        'w2sigmpro_allwise', 'w3mpro_allwise', 'w3sigmpro_allwise',\n",
    "        'w4mpro_allwise', 'w4sigmpro_allwise']]\n",
    "\n",
    "for i in range(6):\n",
    "    name_mjd='mjd'\n",
    "    name_band=data_neowise_select.columns[i*2]\n",
    "    name_err=data_neowise_select.columns[i*2+1]\n",
    "    print(name_mjd,name_band,name_err,delta_m_neowise[i])\n",
    "     \n",
    "    #mag_neowise_data=pd.DataFrame({'t':data_neowise[name_mjd],'flux':data_neowise[name_band],'err':data_neowise[name_err]},index=None,columns=['t','flux','err'])   \n",
    "    dcf_neowise_data=pd.DataFrame({'t':data_neowise[name_mjd],'flux':(-48.6-data_neowise[name_band]-delta_m_neowise[i])/2.5,'err':data_neowise[name_err]/2.5},index=None,columns=['t','flux','err'])\n",
    "    axs.errorbar(dcf_neowise_data['t'],dcf_neowise_data['flux'],dcf_neowise_data['err'],fmt='.',label=name_band+'neo')\n",
    "    \n",
    "axs.legend(loc=[1.0,0.7])\n",
    "#axs.invert_yaxis()\n",
    "  \n",
    "axs.set_ylabel('log_F')    \n",
    "#axs.set_ylabel('magnitude(AB)')\n",
    "axs.set_xlabel('mjd')\n",
    "plt.tight_layout()\n",
    "plt.savefig('/Users/brettlv/Downloads/NGC1566/wise_lc.png',dpi=400)"
   ]
  },
  {
   "cell_type": "markdown",
   "metadata": {},
   "source": [
    "# Swift"
   ]
  },
  {
   "cell_type": "markdown",
   "metadata": {
    "collapsed": true
   },
   "source": [
    "# XRT-fit"
   ]
  },
  {
   "cell_type": "code",
   "execution_count": null,
   "metadata": {
    "ExecuteTime": {
     "end_time": "2020-12-14T14:52:41.786199Z",
     "start_time": "2020-12-14T14:52:41.761554Z"
    },
    "collapsed": false
   },
   "outputs": [],
   "source": [
    "data_xrt_fit_NGC1566 = pd.read_csv(\"/Users/brettlv/Downloads/wise_cl/xrt_fit_result/NGC1566_xrt_fit.txt\",delimiter='\\s+',header=0)  "
   ]
  },
  {
   "cell_type": "code",
   "execution_count": null,
   "metadata": {
    "ExecuteTime": {
     "end_time": "2020-12-14T14:52:43.665505Z",
     "start_time": "2020-12-14T14:52:43.635913Z"
    },
    "collapsed": false
   },
   "outputs": [],
   "source": [
    "data_xrt_fit_NGC1566.head()"
   ]
  },
  {
   "cell_type": "markdown",
   "metadata": {},
   "source": [
    "## F-gamma"
   ]
  },
  {
   "cell_type": "code",
   "execution_count": null,
   "metadata": {
    "ExecuteTime": {
     "end_time": "2020-12-14T14:54:15.608027Z",
     "start_time": "2020-12-14T14:54:13.516453Z"
    },
    "collapsed": false
   },
   "outputs": [],
   "source": [
    "fig = plt.figure(figsize=(6, 6))\n",
    "#fig.subplots_adjust(left=0.1, right=0.85, bottom=0.12, top=0.95)\n",
    "ax=fig.add_subplot(1,1,1)\n",
    "\n",
    "\n",
    "lower_error_f = data_xrt_fit_NGC1566['xflux_lo']\n",
    "upper_error_f = data_xrt_fit_NGC1566['xflux_up']\n",
    "lower_error_g = data_xrt_fit_NGC1566['gamma_lo']\n",
    "upper_error_g = data_xrt_fit_NGC1566['gamma_up']\n",
    "asymmetric_error_f = [lower_error_f, upper_error_f]\n",
    "asymmetric_error_g = [lower_error_g, upper_error_g]\n",
    "ax.semilogx()\n",
    "ax.errorbar(data_xrt_fit_NGC1566['xflux'],data_xrt_fit_NGC1566['gamma'],xerr=asymmetric_error_f,yerr=asymmetric_error_g,fmt='.',label='F-gamma') \n",
    "\n",
    "ax.grid(alpha=0.1,which='major', linestyle='--', linewidth=1)\n",
    "\n",
    "set_ax_tick(ax)\n",
    "#set_ax_locator(ax,xma=1,xmi=0.2,yma=1,ymi=0.2)\n",
    "ax.yaxis.set_major_locator(mpl.ticker.MultipleLocator(0.5))\n",
    "ax.yaxis.set_minor_locator(mpl.ticker.MultipleLocator(0.25))\n",
    "    \n",
    "plt.rcParams['font.size'] = 18\n",
    "plt.rcParams['axes.linewidth'] = 2\n",
    "\n",
    "plt.xlabel(r'$F_\\mathregular{1-10\\,keV}\\mathregular{(erg \\cdot cm^{-2} s^{-1})}$')\n",
    "plt.ylabel(r'$\\Gamma$')\n",
    "plt.ylim(0.3,2.7)\n",
    "#plt.xlim(5e-13,2.e-10)\n",
    "\n",
    "plt.subplots_adjust(hspace = 0.0)\n",
    "fig.savefig('/Users/brettlv/Downloads/NGC1566/NGC1566_Gamma_F.png', \n",
    "            dpi=400, transparent=False, bbox_inches='tight')"
   ]
  },
  {
   "cell_type": "markdown",
   "metadata": {},
   "source": [
    "## XRT-count"
   ]
  },
  {
   "cell_type": "code",
   "execution_count": null,
   "metadata": {
    "collapsed": true
   },
   "outputs": [],
   "source": [
    "data_xrt_pc_NGC1566 = pd.read_table(\"/Users/brettlv/Downloads/NGC1566/PC.qdp.txt\",delimiter='\\s+',header=0)  \n",
    "data_xrt_wt_NGC1566 = pd.read_table(\"/Users/brettlv/Downloads/NGC1566/WT.qdp.txt\",delimiter='\\s+',header=0)  \n",
    "\n",
    "fig, axs = plt.subplots(2, 1,figsize=(8,8))\n",
    "axs[0].set_title('NGC1566_xrt_pc')\n",
    "axs[1].set_title('NGC1566_xrt_wt')\n",
    "\n",
    "\n",
    "name_band_pc='xrt_pc'\n",
    "name_band_wt='xrt_wt'\n",
    "\n",
    "lower_error_pc = -data_xrt_pc_NGC1566['Rateneg']\n",
    "upper_error_pc = data_xrt_pc_NGC1566['Ratepos']\n",
    "asymmetric_error_pc = [lower_error_pc, upper_error_pc]\n",
    "axs[0].errorbar(data_xrt_pc_NGC1566['mjd'],data_xrt_pc_NGC1566['Rate'],yerr=asymmetric_error_pc,fmt='.',label=name_band_pc)\n",
    "\n",
    "\n",
    "lower_error_wt = -data_xrt_wt_NGC1566['Rateneg']\n",
    "upper_error_wt = data_xrt_wt_NGC1566['Ratepos']\n",
    "asymmetric_error_wt = [lower_error_wt, upper_error_wt]\n",
    "axs[1].errorbar(data_xrt_wt_NGC1566['mjd'],data_xrt_wt_NGC1566['Rate'],yerr=asymmetric_error_wt,fmt='.',label=name_band_wt)\n",
    "\n",
    "\n",
    "timerangel,timeranger=(58000,59100)\n",
    "axs[0].set_xlim(timerangel,timeranger)\n",
    "axs[1].set_xlim(timerangel,timeranger)\n",
    "\n",
    "axs[0].legend(loc=[1.0,0.7])\n",
    "axs[1].legend(loc=[1.0,0.7])\n",
    "  \n",
    "axs[0].set_ylabel('rate')\n",
    "axs[0].set_xlabel('mjd')\n",
    "axs[1].set_ylabel('rate')\n",
    "axs[1].set_xlabel('mjd')\n",
    "  \n",
    "plt.tight_layout()\n",
    "plt.savefig('/Users/brettlv/Downloads/NGC1566/qdp_xrt_lc%d-%d.png'%(timerangel,timeranger),dpi=400)\n"
   ]
  },
  {
   "cell_type": "markdown",
   "metadata": {},
   "source": [
    "# UVOT"
   ]
  },
  {
   "cell_type": "code",
   "execution_count": null,
   "metadata": {
    "ExecuteTime": {
     "end_time": "2020-12-14T14:54:36.650102Z",
     "start_time": "2020-12-14T14:54:36.612955Z"
    },
    "collapsed": true
   },
   "outputs": [],
   "source": [
    "data_ubb_NGC1566 = pd.read_csv(\"/Users/brettlv/Downloads/wise_cl/fig/NGC1566_ubb_sum.csv\",delimiter='|',header=0)  \n",
    "data_um2_NGC1566 = pd.read_csv(\"/Users/brettlv/Downloads/wise_cl/fig/NGC1566_um2_sum.csv\",delimiter='|',header=0)  \n",
    "\n",
    "\n",
    "data_uuu_NGC1566 = pd.read_csv(\"/Users/brettlv/Downloads/wise_cl/fig/NGC1566_uuu_sum.csv\",delimiter='|',header=0)  \n",
    "data_uvv_NGC1566 = pd.read_csv(\"/Users/brettlv/Downloads/wise_cl/fig/NGC1566_uvv_sum.csv\",delimiter='|',header=0)  \n",
    "\n",
    "data_uw1_NGC1566 = pd.read_csv(\"/Users/brettlv/Downloads/wise_cl/fig/NGC1566_uw1_sum.csv\",delimiter='|',header=0)  \n",
    "data_uw2_NGC1566 = pd.read_csv(\"/Users/brettlv/Downloads/wise_cl/fig/NGC1566_uw2_sum.csv\",delimiter='|',header=0)  \n"
   ]
  },
  {
   "cell_type": "code",
   "execution_count": null,
   "metadata": {
    "ExecuteTime": {
     "end_time": "2020-12-14T14:54:42.747627Z",
     "start_time": "2020-12-14T14:54:42.738785Z"
    },
    "collapsed": false
   },
   "outputs": [],
   "source": [
    "from astropy import constants\n",
    "from astropy import units as u\n",
    "UV_namelist=['v','b','u','uvw1','uvm2','uvw2']\n",
    "UV_datalist=[data_uvv_NGC1566,data_ubb_NGC1566,data_uuu_NGC1566,data_uw1_NGC1566,data_um2_NGC1566,data_uw2_NGC1566  ]\n",
    "UV_wavelengthlist=np.array([5468,4392,3465,2600,2246,1928])*u.AA#A for v,b u,w1,m2,w2\n",
    "UV_widthlist=np.array([769,975,785,693,498,657])*u.AA#A for v,b u,w1,m2,w2\n",
    "\n",
    "# https://www.mssl.ucl.ac.uk/www_astro/uvot/uvot_instrument/filterwheel/filterwheel.html\n",
    "\n",
    "#UV_wavelengthlist=np.array([5469,4392,3465,2600,2246,1928])*u.AA#A for v,b u,w1,m2,w2\n",
    "#\n",
    "\n",
    "\n",
    "UV_freqlist=(constants.c/(UV_wavelengthlist)).to(u.Hz).value"
   ]
  },
  {
   "cell_type": "code",
   "execution_count": null,
   "metadata": {
    "ExecuteTime": {
     "end_time": "2020-12-14T14:54:45.465138Z",
     "start_time": "2020-12-14T14:54:45.458965Z"
    },
    "collapsed": false
   },
   "outputs": [],
   "source": [
    "UV_wavelengthlist,UV_freqlist"
   ]
  },
  {
   "cell_type": "code",
   "execution_count": null,
   "metadata": {
    "ExecuteTime": {
     "end_time": "2020-11-11T15:00:21.381007Z",
     "start_time": "2020-11-11T15:00:21.374396Z"
    },
    "collapsed": false
   },
   "outputs": [],
   "source": [
    "data_xrt_fit_NGC1566.columns"
   ]
  },
  {
   "cell_type": "code",
   "execution_count": null,
   "metadata": {
    "ExecuteTime": {
     "end_time": "2020-11-11T15:00:22.337357Z",
     "start_time": "2020-11-11T15:00:22.332214Z"
    },
    "collapsed": false
   },
   "outputs": [],
   "source": [
    "data_ubb_NGC1566.columns"
   ]
  },
  {
   "cell_type": "code",
   "execution_count": null,
   "metadata": {
    "collapsed": true
   },
   "outputs": [],
   "source": []
  },
  {
   "cell_type": "code",
   "execution_count": null,
   "metadata": {
    "collapsed": true
   },
   "outputs": [],
   "source": []
  },
  {
   "cell_type": "code",
   "execution_count": null,
   "metadata": {
    "collapsed": true
   },
   "outputs": [],
   "source": []
  },
  {
   "cell_type": "code",
   "execution_count": null,
   "metadata": {
    "collapsed": true
   },
   "outputs": [],
   "source": []
  },
  {
   "cell_type": "code",
   "execution_count": null,
   "metadata": {
    "collapsed": true
   },
   "outputs": [],
   "source": []
  },
  {
   "cell_type": "markdown",
   "metadata": {},
   "source": [
    "# ASAS-SN"
   ]
  },
  {
   "cell_type": "code",
   "execution_count": null,
   "metadata": {
    "ExecuteTime": {
     "end_time": "2020-12-14T14:56:04.133646Z",
     "start_time": "2020-12-14T14:56:04.124919Z"
    },
    "collapsed": true
   },
   "outputs": [],
   "source": [
    "data_ASAS_NGC1566 = pd.read_csv(\"/Users/brettlv/Downloads/NGC1566/AP36757554_ASASSN-V J042000.52-545616.7 (65.00215, -54.93797) .csv\",header=0)  "
   ]
  },
  {
   "cell_type": "code",
   "execution_count": null,
   "metadata": {
    "ExecuteTime": {
     "end_time": "2020-12-14T14:56:05.774735Z",
     "start_time": "2020-12-14T14:56:05.769857Z"
    },
    "collapsed": false
   },
   "outputs": [],
   "source": [
    "data_ASAS_NGC1566['hmjd']= data_ASAS_NGC1566['hjd']- 2400000.5"
   ]
  },
  {
   "cell_type": "code",
   "execution_count": null,
   "metadata": {
    "ExecuteTime": {
     "end_time": "2020-12-14T14:56:07.671793Z",
     "start_time": "2020-12-14T14:56:07.666155Z"
    },
    "collapsed": false
   },
   "outputs": [],
   "source": [
    "data_ASAS_NGC1566.columns"
   ]
  },
  {
   "cell_type": "markdown",
   "metadata": {},
   "source": [
    "## jd_MJD_HJD"
   ]
  },
  {
   "cell_type": "markdown",
   "metadata": {},
   "source": [
    "An alternative to JD is the Modified Julian Date (MJD), an abbreviated, 5-digit version of the Julian Date defined as:\n",
    "\n",
    "    MJD = JD - 2400000.5"
   ]
  },
  {
   "cell_type": "code",
   "execution_count": null,
   "metadata": {
    "ExecuteTime": {
     "end_time": "2020-11-11T16:36:27.417744Z",
     "start_time": "2020-11-11T16:36:27.413821Z"
    },
    "collapsed": true
   },
   "outputs": [],
   "source": [
    "from __future__ import print_function, division\n",
    "from PyAstronomy import pyasl\n",
    "import datetime"
   ]
  },
  {
   "cell_type": "code",
   "execution_count": null,
   "metadata": {
    "ExecuteTime": {
     "end_time": "2020-11-11T16:38:58.917974Z",
     "start_time": "2020-11-11T16:38:58.907189Z"
    },
    "collapsed": false
   },
   "outputs": [],
   "source": [
    "jd=data_ASAS_NGC1566['hjd'][0]\n",
    "\n",
    "mjd=jd-2400000.5\n",
    "\n",
    "print(data_ASAS_NGC1566['hjd'][0],mjd)\n",
    "\n",
    "print(\"year = %4d, month = %2d, day = %2d, hour = %5.3f\" \\\n",
    "      % tuple(pyasl.daycnv(jd)))\n",
    "print()\n",
    "\n",
    "print(\"year = %4d, month = %2d, day = %2d, \\\n",
    "      hour = %2d, minute = %2d, seconds = %2d, microseconds = %6d\" \\\n",
    "      % tuple(pyasl.daycnv(jd, mode='dtlist')))\n",
    "      \n",
    "print()\n",
    "dt = pyasl.daycnv(jd, mode='dt')\n",
    "print(\"Datetime object: \", dt)"
   ]
  },
  {
   "cell_type": "code",
   "execution_count": null,
   "metadata": {
    "ExecuteTime": {
     "end_time": "2020-11-11T16:47:19.591651Z",
     "start_time": "2020-11-11T16:47:19.574808Z"
    },
    "collapsed": false
   },
   "outputs": [],
   "source": [
    "print(\"year = %4d, month = %2d, day = %2d, hour = %5.3f\" \\\n",
    "      % tuple(pyasl.daycnv(jd)))\n",
    "print()\n",
    "\n",
    "# Convert calendar date to JD\n",
    "dt = datetime.datetime(1968, 5, 23, 12)\n",
    "print(\"Input date: \", dt)\n",
    "print(\"Corresponding Julian date: \", pyasl.jdcnv(dt))\n",
    "print(\"Corresponding reduced Julian date: \", pyasl.juldate(dt))\n",
    "print(\"Corresponds to weekday: \", pyasl.weekday(dt))\n",
    "print()\n",
    "\n",
    "# Get current Julian date and convert to heliocentric date\n",
    "cjd = pyasl.get_juldate()\n",
    "print(\"Current Julian date: \", cjd)\n",
    "print(\"Current modified Julian date: \", cjd-2400000.5)\n",
    "\n",
    "#65.001750  -54.937806 NGC1566\n",
    "ra=65.001750 \n",
    "dec=-54.937806\n",
    "\n",
    "print(\"Current (reduced) heliocentric Julian date (ra=%s deg, dec=%s deg): \"%(ra,dec),'\\n',\\\n",
    "      pyasl.helio_jd(cjd-2.4e6-0.5, ra, dec,),'\\n',\n",
    "      pyasl.helio_jd(cjd-2.4e6-0.5, ra, dec,TIME_DIFF=True),'second')"
   ]
  },
  {
   "cell_type": "code",
   "execution_count": null,
   "metadata": {
    "ExecuteTime": {
     "end_time": "2020-11-11T16:54:39.127605Z",
     "start_time": "2020-11-11T16:54:38.786804Z"
    },
    "collapsed": true
   },
   "outputs": [],
   "source": [
    "from astropy import time, coordinates as coord, units as u\n",
    "ip_NGC1566 = coord.SkyCoord(ra,dec,unit=(u.deg, u.deg), frame='icrs')"
   ]
  },
  {
   "cell_type": "code",
   "execution_count": null,
   "metadata": {
    "ExecuteTime": {
     "end_time": "2020-11-11T16:54:44.061254Z",
     "start_time": "2020-11-11T16:54:44.052989Z"
    },
    "collapsed": false
   },
   "outputs": [],
   "source": [
    "ip_NGC1566 "
   ]
  },
  {
   "cell_type": "markdown",
   "metadata": {},
   "source": [
    "## converted the same way to the V UVOT Swift system."
   ]
  },
  {
   "cell_type": "code",
   "execution_count": null,
   "metadata": {
    "ExecuteTime": {
     "end_time": "2020-12-14T15:25:42.338894Z",
     "start_time": "2020-12-14T15:25:42.317977Z"
    },
    "collapsed": false
   },
   "outputs": [],
   "source": [
    "ASAS_data=pd.DataFrame({'t':data_ASAS_NGC1566['hmjd'],\n",
    "                            'flux':data_ASAS_NGC1566['flux (mJy)'],\n",
    "                            'err':data_ASAS_NGC1566['flux err']},\n",
    "                           index=None,columns=['t','flux','err'])   \n",
    "\n",
    "ASAS_data=ASAS_data.sort_values('t')\n",
    "ASAS_data=ASAS_data.reset_index(drop=True)\n",
    "\n",
    "print(data_uvv_NGC1566.columns[3],data_uvv_NGC1566.columns[6],data_uvv_NGC1566.columns[7])\n",
    "\n",
    "data_uv=pd.DataFrame({'t':data_uvv_NGC1566[data_uvv_NGC1566.columns[3]],\n",
    "                          'flux':data_uvv_NGC1566[data_uvv_NGC1566.columns[6]],\n",
    "                          'err':data_uvv_NGC1566[data_uvv_NGC1566.columns[7]]},\n",
    "                         index=None,columns=['t','flux','err'])\n",
    "data_uv=data_uv.sort_values('t')\n",
    "data_uv=data_uv.reset_index(drop=True)\n",
    "\n",
    "print(ASAS_data.columns,data_uv.columns)"
   ]
  },
  {
   "cell_type": "markdown",
   "metadata": {
    "ExecuteTime": {
     "end_time": "2020-12-14T14:59:31.571370Z",
     "start_time": "2020-12-14T14:59:31.548878Z"
    }
   },
   "source": [
    "dcf_data_uv"
   ]
  },
  {
   "cell_type": "markdown",
   "metadata": {
    "ExecuteTime": {
     "end_time": "2020-12-14T14:59:48.570563Z",
     "start_time": "2020-12-14T14:59:48.547351Z"
    }
   },
   "source": [
    "ASAS_data"
   ]
  },
  {
   "cell_type": "code",
   "execution_count": null,
   "metadata": {
    "collapsed": true
   },
   "outputs": [],
   "source": []
  },
  {
   "cell_type": "code",
   "execution_count": null,
   "metadata": {
    "ExecuteTime": {
     "end_time": "2020-12-15T10:10:34.126558Z",
     "start_time": "2020-12-15T10:10:33.917889Z"
    },
    "collapsed": false,
    "scrolled": true
   },
   "outputs": [],
   "source": [
    "def get_simultaneous_data(ASAS_data,data_uv_select,timebin=1.0):\n",
    "    for index,j in enumerate(data_uv_select['t']):\n",
    "        mjd_near_i=np.argmin(abs(ASAS_data['t']-j))         \n",
    "        mjd_near=ASAS_data['t'][mjd_near_i] \n",
    "        if abs(mjd_near-j)<timebin:\n",
    "            data_uv_select.loc[index,'f_ASAS'] = ASAS_data.iloc[mjd_near_i]['flux']\n",
    "            data_uv_select.loc[index,'t_ASAS'] = ASAS_data.iloc[mjd_near_i]['t']\n",
    "            \n",
    "    overlap_data_V=  data_uv_select[data_uv_select['f_ASAS']!=0]                 \n",
    "    return overlap_data_V\n",
    "\n",
    "data_uv_select=data_uv.copy()\n",
    "data_uv_select['f_ASAS']=0\n",
    "data_uv_select['t_ASAS']=0\n",
    "overlap_data_V=get_simultaneous_data(ASAS_data,data_uv_select,timebin=1.0)"
   ]
  },
  {
   "cell_type": "code",
   "execution_count": null,
   "metadata": {
    "ExecuteTime": {
     "end_time": "2020-12-15T10:38:52.651697Z",
     "start_time": "2020-12-15T10:38:51.808122Z"
    },
    "collapsed": false
   },
   "outputs": [],
   "source": [
    "overlap_data_V['delta_f']=overlap_data_V['f_ASAS']-overlap_data_V['flux']"
   ]
  },
  {
   "cell_type": "code",
   "execution_count": null,
   "metadata": {
    "ExecuteTime": {
     "end_time": "2020-12-15T10:39:26.039711Z",
     "start_time": "2020-12-15T10:39:25.962903Z"
    },
    "collapsed": false
   },
   "outputs": [],
   "source": [
    "overlap_data_V['ratio_f']=overlap_data_V['f_ASAS']/overlap_data_V['flux']"
   ]
  },
  {
   "cell_type": "code",
   "execution_count": null,
   "metadata": {
    "ExecuteTime": {
     "end_time": "2020-12-15T10:39:39.825941Z",
     "start_time": "2020-12-15T10:39:39.806533Z"
    },
    "collapsed": false
   },
   "outputs": [],
   "source": [
    "overlap_data_V"
   ]
  },
  {
   "cell_type": "code",
   "execution_count": null,
   "metadata": {
    "ExecuteTime": {
     "end_time": "2020-12-15T10:10:46.914024Z",
     "start_time": "2020-12-15T10:10:46.906571Z"
    },
    "collapsed": false
   },
   "outputs": [],
   "source": [
    "np.average(overlap_data_V['f_ASAS']-overlap_data_V['flux'])"
   ]
  },
  {
   "cell_type": "code",
   "execution_count": null,
   "metadata": {
    "ExecuteTime": {
     "end_time": "2020-12-14T15:27:56.400710Z",
     "start_time": "2020-12-14T15:27:56.397356Z"
    },
    "collapsed": false
   },
   "outputs": [],
   "source": [
    "from scipy.stats import spearmanr#\n",
    "from scipy.stats.stats import pearsonr\n",
    "\n"
   ]
  },
  {
   "cell_type": "code",
   "execution_count": null,
   "metadata": {
    "ExecuteTime": {
     "end_time": "2020-12-14T15:27:59.141510Z",
     "start_time": "2020-12-14T15:27:59.133642Z"
    },
    "collapsed": false
   },
   "outputs": [],
   "source": [
    "spearmanr(overlap_data_V['f_ASAS'],overlap_data_V['flux'])"
   ]
  },
  {
   "cell_type": "code",
   "execution_count": null,
   "metadata": {
    "ExecuteTime": {
     "end_time": "2020-12-14T15:28:09.321804Z",
     "start_time": "2020-12-14T15:28:09.311293Z"
    },
    "collapsed": false
   },
   "outputs": [],
   "source": [
    "pearsonr(overlap_data_V['f_ASAS'],overlap_data_V['flux'])"
   ]
  },
  {
   "cell_type": "code",
   "execution_count": null,
   "metadata": {
    "ExecuteTime": {
     "end_time": "2020-12-14T15:16:08.465161Z",
     "start_time": "2020-12-14T15:16:08.314499Z"
    },
    "collapsed": false
   },
   "outputs": [],
   "source": [
    "plt.scatter(overlap_data_V['f_ASAS'],overlap_data_V['flux'])"
   ]
  },
  {
   "cell_type": "markdown",
   "metadata": {},
   "source": [
    "## NGC1566_V"
   ]
  },
  {
   "cell_type": "code",
   "execution_count": null,
   "metadata": {
    "ExecuteTime": {
     "end_time": "2020-12-21T14:37:17.651817Z",
     "start_time": "2020-12-21T14:37:17.531442Z"
    },
    "collapsed": false
   },
   "outputs": [],
   "source": [
    "fig = plt.figure(figsize=(6, 6))\n",
    "#fig.subplots_adjust(left=0.1, right=0.85, bottom=0.12, top=0.95)\n",
    "ax=fig.add_subplot(1,1,1)\n",
    "#ax.set_title('NGC1566_V')\n",
    "\n",
    "offset=48.8\n",
    "\n",
    "ax.errorbar(data_ASAS_NGC1566['hmjd'],data_ASAS_NGC1566['flux (mJy)']-offset,data_ASAS_NGC1566['flux err'],fmt='.',label='ASAS_V-%.1f'%offset) \n",
    "ax.errorbar(data_uvv_NGC1566[data_uvv_NGC1566.columns[3]],data_uvv_NGC1566[data_uvv_NGC1566.columns[6]],yerr=data_uvv_NGC1566[data_uvv_NGC1566.columns[7]],fmt='.',label='UVOT_V')\n",
    "\n",
    "set_ax_tick(ax)\n",
    "\n",
    "timerangel,timeranger=(53500,59500)\n",
    "ax.set_xlim(timerangel,timeranger)\n",
    "ax.xaxis.set_tick_params(which='major', size=10, width=2, rotation=45,)\n",
    "ax.legend(loc=[1.0,0.7])\n",
    "ax.set_ylabel('Flux(mJy)')\n",
    "ax.set_xlabel('MJD')\n",
    "fig.savefig('/Users/brettlv/Downloads/NGC1566/dcf_file/V-band_%s-%s.png'%(timerangel,timeranger),\n",
    "            dpi=400,transparent=False,bbox_inches='tight')"
   ]
  },
  {
   "cell_type": "code",
   "execution_count": null,
   "metadata": {
    "ExecuteTime": {
     "end_time": "2020-12-14T15:39:06.476867Z",
     "start_time": "2020-12-14T15:39:04.512825Z"
    },
    "collapsed": false
   },
   "outputs": [],
   "source": [
    "fig = plt.figure(figsize=(6, 6))\n",
    "#fig.subplots_adjust(left=0.1, right=0.85, bottom=0.12, top=0.95)\n",
    "ax=fig.add_subplot(1,1,1)\n",
    "#ax.set_title('NGC1566_V')\n",
    "\n",
    "ax.errorbar(data_ASAS_NGC1566['hmjd'],data_ASAS_NGC1566['flux (mJy)']-offset,data_ASAS_NGC1566['flux err'],fmt='.',label='ASAS_V-%.1f'%offset) \n",
    "ax.errorbar(data_uvv_NGC1566[data_uvv_NGC1566.columns[3]],data_uvv_NGC1566[data_uvv_NGC1566.columns[6]],yerr=data_uvv_NGC1566[data_uvv_NGC1566.columns[7]],fmt='.',label='UVOT_V')\n",
    "\n",
    "set_ax_tick(ax)\n",
    "\n",
    "timerangel,timeranger=(58300,58400)\n",
    "ax.set_xlim(timerangel,timeranger)\n",
    "ax.xaxis.set_tick_params(which='major', size=10, width=2, rotation=45,)\n",
    "ax.legend(loc=[1.0,0.7])\n",
    "ax.set_ylabel('Flux(mJy)')\n",
    "ax.set_xlabel('MJD')\n",
    "fig.savefig('/Users/brettlv/Downloads/NGC1566/V-band_%s-%s.png'%(timerangel,timeranger),\n",
    "            dpi=400,transparent=False,bbox_inches='tight')"
   ]
  },
  {
   "cell_type": "code",
   "execution_count": null,
   "metadata": {
    "collapsed": true
   },
   "outputs": [],
   "source": []
  },
  {
   "cell_type": "markdown",
   "metadata": {},
   "source": [
    "# XRT-f-g-UVOT-V-wise to dcf"
   ]
  },
  {
   "cell_type": "code",
   "execution_count": null,
   "metadata": {
    "collapsed": true
   },
   "outputs": [],
   "source": [
    "f= 10**((-48.6-mVega - ∆m)/2.5)"
   ]
  },
  {
   "cell_type": "code",
   "execution_count": null,
   "metadata": {
    "ExecuteTime": {
     "end_time": "2020-12-14T15:31:20.855244Z",
     "start_time": "2020-12-14T15:31:20.850879Z"
    },
    "collapsed": false
   },
   "outputs": [],
   "source": [
    "offset"
   ]
  },
  {
   "cell_type": "code",
   "execution_count": null,
   "metadata": {
    "ExecuteTime": {
     "end_time": "2020-12-15T10:14:05.620188Z",
     "start_time": "2020-12-15T10:13:28.040963Z"
    },
    "collapsed": false
   },
   "outputs": [],
   "source": [
    "fig, axs = plt.subplots(5, 1,figsize=(24,40))\n",
    "\n",
    "axs[0].set_title('NGC1566_XRT')\n",
    "axs[1].set_title('NGC1566_gamma_in-X-ray')\n",
    "axs[2].set_title('NGC1566_UVOT')\n",
    "axs[3].set_title('NGC1566_ASAS_V')\n",
    "axs[4].set_title('NGC1566_wise')\n",
    "\n",
    "axs[3].errorbar(data_ASAS_NGC1566['hmjd'],data_ASAS_NGC1566['flux (mJy)'],data_ASAS_NGC1566['flux err'],fmt='.',label='ASAS-SN_Vband') \n",
    "\n",
    "dcf_ASAS_data=pd.DataFrame({'t':data_ASAS_NGC1566['hmjd'],'flux':data_ASAS_NGC1566['flux (mJy)']-offset,'err':data_ASAS_NGC1566['flux err']},index=None,columns=['t','flux','err'])    \n",
    "dcf_ASAS_data=dcf_ASAS_data.sort_values('t')\n",
    "dcf_ASAS_data.to_csv('/Users/brettlv/Downloads/NGC1566/dcf_file/dcf_ASAS_V_data.csv',index=False,header=False)\n",
    "\n",
    "\n",
    "\n",
    "for i in range(4):\n",
    "    name_mjd='mjd'\n",
    "    name_band=data_allwise_epoch.columns[i*3+8]\n",
    "    name_err=data_allwise_epoch.columns[i*3+9]\n",
    "    print(name_mjd,name_band,name_err)\n",
    "    data_band=data_allwise_epoch[data_allwise_epoch[name_mjd].notnull()]\n",
    "    \n",
    "    logflux=(-48.6-data_band[name_band]-delta_m_wise[i])/2.5\n",
    "    logfluxerr= data_band[name_err]/2.5\n",
    "    \n",
    "    flux=10**(logflux)\n",
    "    fluxerr=flux*abs(logfluxerr/logflux)\n",
    "    \n",
    "    \n",
    "    #mag_wise_data=pd.DataFrame({'t':data_band[name_mjd],'flux':data_band[name_band],'err':data_band[name_err]},index=None,columns=['t','flux','err'])    \n",
    "    dcf_wise_data=pd.DataFrame({'t':data_band[name_mjd],'flux':flux,'err':fluxerr},index=None,columns=['t','flux','err'])   \n",
    "    axs[4].errorbar(dcf_wise_data['t'],dcf_wise_data['flux'],dcf_wise_data['err'],fmt='.',label=name_band+'multi_epoch')\n",
    "    dcf_wise_data=dcf_wise_data.sort_values('t')\n",
    "    dcf_wise_data.to_csv('/Users/brettlv/Downloads/NGC1566/dcf_file/dcf_wise_multi_%s_data.csv'%name_band,index=False,header=False)    \n",
    "   \n",
    "    \n",
    "data_neowise_select=data_neowise.loc[:, ['w1mpro', 'w1sigmpro',\n",
    "         'w2mpro', 'w2sigmpro','w1mpro_allwise', 'w1sigmpro_allwise', 'w2mpro_allwise',\n",
    "        'w2sigmpro_allwise', 'w3mpro_allwise', 'w3sigmpro_allwise',\n",
    "        'w4mpro_allwise', 'w4sigmpro_allwise']]\n",
    "\n",
    "for i in range(6):\n",
    "    name_mjd='mjd'\n",
    "    name_band=data_neowise_select.columns[i*2]\n",
    "    name_err=data_neowise_select.columns[i*2+1]\n",
    "    print(name_mjd,name_band,name_err)\n",
    "    \n",
    "    logflux=(-48.6-data_neowise[name_band]-delta_m_neowise[i])/2.5\n",
    "    logfluxerr=data_neowise[name_err]/2.5\n",
    "    \n",
    "    flux=10**(logflux)\n",
    "    fluxerr=flux*abs(logfluxerr/logflux)\n",
    "    \n",
    "    #mag_neowise_data=pd.DataFrame({'t':data_neowise[name_mjd],'flux':data_neowise[name_band],'err':data_neowise[name_err]},index=None,columns=['t','flux','err'])   \n",
    "    dcf_neowise_data=pd.DataFrame({'t':data_neowise[name_mjd],'flux':flux,'err':fluxerr},index=None,columns=['t','flux','err'])\n",
    "    axs[4].errorbar(dcf_neowise_data['t'],dcf_neowise_data['flux'],dcf_neowise_data['err'],fmt='.',label=name_band+'_neo') \n",
    "    dcf_neowise_data=dcf_neowise_data.sort_values('t')\n",
    "    dcf_neowise_data.to_csv('/Users/brettlv/Downloads/NGC1566/dcf_file/dcf_neowise_%s_data.csv'%name_band,index=False,header=False)\n",
    "    \n",
    "    \n",
    "\n",
    "lower_error = data_xrt_fit_NGC1566['xflux_lo']\n",
    "upper_error = data_xrt_fit_NGC1566['xflux_up']\n",
    "asymmetric_error = [lower_error, upper_error]\n",
    "axs[0].errorbar(data_xrt_fit_NGC1566['obs_time'],data_xrt_fit_NGC1566['xflux'],yerr=asymmetric_error,fmt='.',label='XRT')\n",
    "\n",
    "dcf_data_xrt_fit_NGC1566=pd.DataFrame({'t':data_xrt_fit_NGC1566['obs_time'],'flux':data_xrt_fit_NGC1566['xflux'],'err':data_xrt_fit_NGC1566['xflux_lo']},index=None,columns=['t','flux','err'])\n",
    "dcf_data_xrt_fit_NGC1566=dcf_data_xrt_fit_NGC1566.sort_values('t')\n",
    "dcf_data_xrt_fit_NGC1566.to_csv('/Users/brettlv/Downloads/NGC1566/dcf_file/dcf_xrt_fit_NGC1566.csv',index=False,header=False)\n",
    "\n",
    "dcf_data_xrt_fit_NGC1566_e12=pd.DataFrame({'t':data_xrt_fit_NGC1566['obs_time'],'flux':data_xrt_fit_NGC1566['xflux']*1.0e12,'err':data_xrt_fit_NGC1566['xflux_lo']*1.0e12},index=None,columns=['t','flux','err'])\n",
    "dcf_data_xrt_fit_NGC1566_e12=dcf_data_xrt_fit_NGC1566_e12.sort_values('t')\n",
    "dcf_data_xrt_fit_NGC1566_e12.to_csv('/Users/brettlv/Downloads/NGC1566/dcf_file/dcf_e12_xrt_fit_NGC1566.csv',index=False,header=False)\n",
    "\n",
    "\n",
    "\n",
    "lower_error = data_xrt_fit_NGC1566['gamma_lo']\n",
    "upper_error = data_xrt_fit_NGC1566['gamma_up']\n",
    "asymmetric_error = [lower_error, upper_error]\n",
    "axs[1].errorbar(data_xrt_fit_NGC1566['obs_time'],data_xrt_fit_NGC1566['gamma'],yerr=asymmetric_error,fmt='.',label='gamma')\n",
    "\n",
    "for i,j in zip(UV_namelist,UV_datalist):\n",
    "    print(j.columns[3],j.columns[6],j.columns[7])\n",
    "    axs[2].errorbar(j[j.columns[3]],j[j.columns[6]],yerr=j[j.columns[7]],fmt='.',label=i)\n",
    "    dcf_data_uv=pd.DataFrame({'t':j[j.columns[3]],'flux':j[j.columns[6]],'err':j[j.columns[7]]},index=None,columns=['t','flux','err'])\n",
    "    dcf_data_uv=dcf_data_uv.sort_values('t')\n",
    "    dcf_data_uv.to_csv('/Users/brettlv/Downloads/NGC1566/dcf_file/dcf_uvot-%s.csv'%i,index=False,header=False)\n",
    "\n",
    "   \n",
    "    \n",
    "timerangel,timeranger=(54400,59500)\n",
    "for i in range(5):\n",
    "    axs[i].set_xlim(timerangel,timeranger)\n",
    "    axs[i].legend(loc=[1.0,0.5])\n",
    "    \n",
    "#\n",
    "axs[0].set_ylabel('flux')\n",
    "axs[2].set_ylabel('mjy')\n",
    "axs[3].set_ylabel('mjy')\n",
    "axs[4].set_ylabel('log_flux')\n",
    "#axs[4].invert_yaxis()\n",
    "axs[0].set_xlabel('mjd')\n",
    "\n",
    "plt.tight_layout()\n",
    "plt.savefig('/Users/brettlv/Downloads/NGC1566/dcf_file/XRT-UVOT-ASASV_lc%d-%d.png'%(timerangel,timeranger),\n",
    "            dpi=400,transparent=False,bbox_inches='tight')\n"
   ]
  },
  {
   "cell_type": "markdown",
   "metadata": {
    "ExecuteTime": {
     "end_time": "2020-12-14T23:29:17.258801Z",
     "start_time": "2020-12-14T23:29:17.224680Z"
    }
   },
   "source": [
    "## combinedV"
   ]
  },
  {
   "cell_type": "code",
   "execution_count": null,
   "metadata": {
    "ExecuteTime": {
     "end_time": "2020-12-15T10:14:05.642540Z",
     "start_time": "2020-12-15T10:14:05.625713Z"
    },
    "collapsed": false
   },
   "outputs": [],
   "source": [
    "combined_V=pd.concat([dcf_ASAS_data,data_uv],ignore_index=True)\n",
    "combined_V.to_csv('/Users/brettlv/Downloads/NGC1566/dcf_file/dcf_combined_V.csv',index=False,header=False)"
   ]
  },
  {
   "cell_type": "markdown",
   "metadata": {},
   "source": [
    "## rebin_neowise"
   ]
  },
  {
   "cell_type": "code",
   "execution_count": null,
   "metadata": {
    "ExecuteTime": {
     "end_time": "2020-12-15T10:18:24.518292Z",
     "start_time": "2020-12-15T10:18:24.343904Z"
    },
    "collapsed": true
   },
   "outputs": [],
   "source": [
    "rebin_neowise_w1=pd.read_csv('/Users/brettlv/Downloads/NGC1566/dcf_file/rebin_dcf_neowise_w1.csv',header=None)\n",
    "rebin_neowise_w2=pd.read_csv('/Users/brettlv/Downloads/NGC1566/dcf_file/rebin_dcf_neowise_w2.csv',header=None)\n",
    "rebin_neowise_w1.columns=['t','flux','err']\n",
    "rebin_neowise_w2.columns=['t','flux','err']"
   ]
  },
  {
   "cell_type": "code",
   "execution_count": null,
   "metadata": {
    "ExecuteTime": {
     "end_time": "2020-12-15T10:18:30.832932Z",
     "start_time": "2020-12-15T10:18:30.533120Z"
    },
    "collapsed": false
   },
   "outputs": [],
   "source": [
    "fig, axs = plt.subplots(1, 1,figsize=(8,5))\n",
    "\n",
    "plt.errorbar(rebin_neowise_w1['t'],rebin_neowise_w1['flux'],\n",
    "             rebin_neowise_w1['err'],fmt='.',marker='*',label='w1')\n",
    "plt.errorbar(rebin_neowise_w2['t'],rebin_neowise_w2['flux'],\n",
    "             rebin_neowise_w2['err'],fmt='.',marker='*',label='w2')\n",
    "plt.legend()"
   ]
  },
  {
   "cell_type": "markdown",
   "metadata": {
    "collapsed": true
   },
   "source": [
    "\n",
    "for i in data_rebin_neowise_w1[0]:\n",
    "    axs[0].vlines(i,min(dcf_data_xrt_fit_NGC1566['flux']),max(dcf_data_xrt_fit_NGC1566['flux']))\n",
    "    \n",
    "for i in data_rebin_neowise_w1[0]:\n",
    "    axs[2].vlines(i,0,30)    \n",
    "    \n",
    "for i in data_rebin_neowise_w1[0]:\n",
    "    axs[3].vlines(i,min(dcf_ASAS_data['flux']),max(dcf_ASAS_data['flux']))\n",
    "    \n",
    "for i in data_rebin_neowise_w1[0]:\n",
    "    axs[4].vlines(i,-24.5,-23.5)"
   ]
  },
  {
   "cell_type": "code",
   "execution_count": null,
   "metadata": {
    "collapsed": true
   },
   "outputs": [],
   "source": []
  },
  {
   "cell_type": "markdown",
   "metadata": {
    "collapsed": true
   },
   "source": [
    "# dcf"
   ]
  },
  {
   "cell_type": "code",
   "execution_count": null,
   "metadata": {
    "ExecuteTime": {
     "end_time": "2020-12-15T10:19:11.911715Z",
     "start_time": "2020-12-15T10:19:11.714982Z"
    },
    "collapsed": false
   },
   "outputs": [],
   "source": [
    "ls /Users/brettlv/Downloads/NGC1566/dcf_file/*.csv > /Users/brettlv/Downloads/NGC1566/dcf_file/ngc1566.txt"
   ]
  },
  {
   "cell_type": "code",
   "execution_count": null,
   "metadata": {
    "ExecuteTime": {
     "end_time": "2020-12-15T10:19:15.601433Z",
     "start_time": "2020-12-15T10:19:15.587993Z"
    },
    "collapsed": true
   },
   "outputs": [],
   "source": [
    "dcf_lists=[]\n",
    "with open ('/Users/brettlv/Downloads/NGC1566/dcf_file/ngc1566.txt','r') as f:\n",
    "    dcf_list=f.readlines()\n",
    "    for line in dcf_list:\n",
    "        dcf_lists.append(line.rstrip('\\n')) "
   ]
  },
  {
   "cell_type": "code",
   "execution_count": null,
   "metadata": {
    "ExecuteTime": {
     "end_time": "2020-12-15T10:19:26.718516Z",
     "start_time": "2020-12-15T10:19:26.710116Z"
    },
    "collapsed": false,
    "scrolled": true
   },
   "outputs": [],
   "source": [
    "dcf_lists"
   ]
  },
  {
   "cell_type": "code",
   "execution_count": null,
   "metadata": {
    "ExecuteTime": {
     "end_time": "2020-12-15T10:19:31.325422Z",
     "start_time": "2020-12-15T10:19:31.311368Z"
    },
    "collapsed": false
   },
   "outputs": [],
   "source": [
    "for i,j in enumerate(dcf_lists):\n",
    "    print(i,j.split('/')[-1][4:-4])"
   ]
  },
  {
   "cell_type": "code",
   "execution_count": null,
   "metadata": {
    "collapsed": true
   },
   "outputs": [],
   "source": []
  },
  {
   "cell_type": "markdown",
   "metadata": {},
   "source": [
    "## def pydcf"
   ]
  },
  {
   "cell_type": "code",
   "execution_count": null,
   "metadata": {
    "ExecuteTime": {
     "end_time": "2020-12-15T16:38:47.122685Z",
     "start_time": "2020-12-15T16:38:46.846588Z"
    },
    "collapsed": true
   },
   "outputs": [],
   "source": [
    "def get_data(path):    \n",
    "    data=pd.read_csv(path,header=None)\n",
    "    return data\n",
    "\n",
    "def get_min_max(data):\n",
    "    return min(data[0]),max(data[1])\n",
    "\n",
    "def get_lc_data(data):    \n",
    "    t1,dy1,y_obs1= (data[0],data[2],data[1]) \n",
    "    return t1,dy1,y_obs1\n",
    "\n",
    "def get_new_range_data(t,dy,y_obs,rangemin,rangemax):\n",
    "    \n",
    "    t1new,dy1new,y_obs1new=t[t>=rangemin],dy[t>=rangemin],y_obs[t>=rangemin]\n",
    "    t2new,dy2new,y_obs2new=t1new[t<=rangemax],dy1new[t<=rangemax],y_obs1new[t<=rangemax]   \n",
    "    return t2new,dy2new,y_obs2new\n",
    "\n",
    "def get_mean_interval(t):\n",
    "    return int(np.max(t)-np.min(t))/(len(t)-1)\n",
    "\n",
    "def get_interval(t):\n",
    "    return int(np.max(t)-np.min(t))\n",
    "\n",
    "\n",
    "\n",
    "\n",
    "def get_new_range_datas(m,n,dcf_lists,rangemin,rangemax):\n",
    "    path1=dcf_lists[m]\n",
    "    path2=dcf_lists[n] \n",
    "    data1=get_data(path1)\n",
    "    t1,dy1,y_obs1=get_lc_data(data1)\n",
    "    t1new,dy1new,y_obs1new=get_new_range_data(t1,dy1,y_obs1,rangemin,rangemax)\n",
    "    data2=get_data(path2)\n",
    "    t2,dy2,y_obs2=get_lc_data(data2)   \n",
    "    t2new,dy2new,y_obs2new=get_new_range_data(t2,dy2,y_obs2,rangemin,rangemax) \n",
    "    return t1new,dy1new,y_obs1new,t2new,dy2new,y_obs2new\n",
    "\n",
    "\n",
    "def get_dcf_name(m,n,dcf_lists,rangemin,rangemax,datadir):\n",
    "    path1=dcf_lists[m]\n",
    "    path2=dcf_lists[n]    \n",
    "    newpath1=path1.split('/')[-1][4:-4]\n",
    "    newpath2=path2.split('/')[-1][4:-4]\n",
    "    newfile1='%s/dcf-%s-%s-%s-%s.csv'%(datadir,rangemin,rangemax,newpath1,newpath2)\n",
    "    newfile2='%s/dcf-%s-%s-%s-%s.csv'%(datadir,rangemin,rangemax,newpath2,newpath1)  \n",
    "    return newpath1,newpath2,newfile1,newfile2\n",
    "\n",
    "\n",
    "\n",
    "def write_dcf_data(m,n,dcf_lists,rangemin,rangemax,datadir):     \n",
    "    \n",
    "    \n",
    "    t1new,dy1new,y_obs1new,t2new,dy2new,y_obs2new=get_new_range_datas(m,n,dcf_lists,rangemin,rangemax)\n",
    "    \n",
    "    y1_norm=(y_obs1new-np.average(y_obs1new))/np.std(y_obs1new)\n",
    "    y2_norm=(y_obs2new-np.average(y_obs2new))/np.std(y_obs2new)\n",
    "    \n",
    "    y1err_norm=dy1new/np.std(y_obs1new)\n",
    "    y2err_norm=dy2new/np.std(y_obs2new)\n",
    "    \n",
    "    newpath1,newpath2,newfile1,newfile2=get_dcf_name(m,n,dcf_lists,rangemin,rangemax,datadir)\n",
    "    \n",
    "    dcf_data_write1=pd.DataFrame({'t':t1new,'flux':y1_norm,'err':y1err_norm},index=None,columns=['t','flux','err'])\n",
    "    dcf_data_write2=pd.DataFrame({'t':t2new,'flux':y2_norm,'err':y2err_norm},index=None,columns=['t','flux','err'])\n",
    "    \n",
    "    dcf_data_write1=dcf_data_write1.sort_values('t')\n",
    "    dcf_data_write2=dcf_data_write2.sort_values('t')\n",
    "    \n",
    "    dcf_data_write1.to_csv(newfile1,index=False,header=False)    \n",
    "    dcf_data_write2.to_csv(newfile2,index=False,header=False)\n",
    "\n",
    "\n",
    "# In[74]:\n",
    "\n",
    "\n",
    "def get_time_lag_two_series_specific(m,n,dcf_lists,rangemin,rangemax,datadir,l_length,h_length,dt_width,w='gauss',p=2,):     \n",
    "    \n",
    "    newpath1,newpath2,newfile1,newfile2=get_dcf_name(m,n,dcf_lists,rangemin,rangemax,datadir)    \n",
    "    t1new,dy1new,y_obs1new,t2new,dy2new,y_obs2new=get_new_range_datas(m,n,dcf_lists,rangemin,rangemax)\n",
    "    \n",
    "    print('mean interval: ',newpath1,get_mean_interval(t1new))        \n",
    "    print('mean interval: ',newpath2,get_mean_interval(t2new))\n",
    "    print('timerange:',rangemin,'-',rangemax)\n",
    "    print('lag_range:',l_length,'-',h_length)\n",
    "    print('dT:',dt_width)\n",
    "    write_dcf_data(m,n,dcf_lists,rangemin,rangemax,datadir)   \n",
    "    #(newfile1,newfile2)\n",
    "    #dt_width=min(get_mean_interval(t1new),get_mean_interval(t2new))*10\n",
    "    #lh_length=min(get_interval(t1new),get_interval(t2new))*0.5\n",
    "    #print(get_mean_interval(t1new),get_mean_interval(t2new))\n",
    "    \n",
    "    command='python3 dcf_ngc1566.py %s %s %d %d %d %d %d -w=%s -p=%d -o '%(newfile1,newfile2,l_length,h_length,dt_width,rangemin,rangemax,w,p)\n",
    "    print(command)\n",
    "    os.system(command)\n",
    "\n",
    "\n",
    "# In[75]:\n",
    "\n",
    "\n",
    "def finish_specific(m,n,dcf_lists,rangemin,rangemax,l_length,h_length,dt_width):\n",
    "    datadir='/Users/brettlv/timing_analysis/pydcf/ngc1566'\n",
    "    os.chdir(datadir)\n",
    "    for i in range(3):\n",
    "        get_time_lag_two_series_specific(m,n,dcf_lists,rangemin,rangemax,datadir,l_length,h_length,dt_width,w='gauss',p=i)     \n",
    "    for i in range(3):    \n",
    "        get_time_lag_two_series_specific(m,n,dcf_lists,rangemin,rangemax,datadir,l_length,h_length,dt_width,w='slot',p=i) "
   ]
  },
  {
   "cell_type": "code",
   "execution_count": null,
   "metadata": {
    "ExecuteTime": {
     "end_time": "2020-12-15T16:30:47.765129Z",
     "start_time": "2020-12-15T16:30:47.760135Z"
    },
    "collapsed": false
   },
   "outputs": [],
   "source": [
    "pwd"
   ]
  },
  {
   "cell_type": "code",
   "execution_count": null,
   "metadata": {
    "ExecuteTime": {
     "end_time": "2020-12-15T10:19:58.624879Z",
     "start_time": "2020-12-15T10:19:58.611874Z"
    },
    "collapsed": false
   },
   "outputs": [],
   "source": [
    "for i,j in enumerate(dcf_lists):\n",
    "    print(i,j.split('/')[-1][4:-4])"
   ]
  },
  {
   "cell_type": "code",
   "execution_count": null,
   "metadata": {
    "ExecuteTime": {
     "end_time": "2020-12-15T09:28:48.583868Z",
     "start_time": "2020-12-15T09:28:48.565769Z"
    },
    "collapsed": false
   },
   "outputs": [],
   "source": [
    "def plot_line_dcf(m,dcf_lists):\n",
    "    dcf_path=dcf_lists[m]   \n",
    "    dcf_data=pd.read_csv(dcf_path,header=None)\n",
    "    ax.errorbar(dcf_data[0], dcf_data[1],dcf_data[2],fmt='.',label=dcf_path.split('/')[-1][4:-4])  \n",
    "    \n",
    "def plot_line_dcf_mn(m,n,dcf_lists):     \n",
    "    plot_line_dcf(m,dcf_lists)    \n",
    "    plot_line_dcf(n,dcf_lists)"
   ]
  },
  {
   "cell_type": "code",
   "execution_count": null,
   "metadata": {
    "ExecuteTime": {
     "end_time": "2020-12-15T10:20:44.778979Z",
     "start_time": "2020-12-15T10:20:44.303664Z"
    },
    "collapsed": false
   },
   "outputs": [],
   "source": [
    "fig, ax = plt.subplots(1, 1,figsize=(8,5))\n",
    "plot_line_dcf_mn(1,2,dcf_lists)\n",
    "ax.legend()\n",
    "time_range=overlap_timeinterval(m,n)\n",
    "#rangemin,rangemax=(58250,58950)\n",
    "rangemin,rangemax=(time_range[1],time_range[2])\n",
    "ax.set_xlim(rangemin,rangemax)"
   ]
  },
  {
   "cell_type": "code",
   "execution_count": null,
   "metadata": {
    "collapsed": true
   },
   "outputs": [],
   "source": []
  },
  {
   "cell_type": "markdown",
   "metadata": {},
   "source": [
    "## get overlap_timeinterval"
   ]
  },
  {
   "cell_type": "code",
   "execution_count": null,
   "metadata": {
    "ExecuteTime": {
     "end_time": "2020-12-14T22:48:36.026708Z",
     "start_time": "2020-12-14T22:48:36.012896Z"
    },
    "collapsed": true
   },
   "outputs": [],
   "source": [
    "if True:\n",
    "    m=3\n",
    "    n=5\n",
    "    path1=dcf_lists[m]\n",
    "    path2=dcf_lists[n]    \n",
    "    dcf_data_1=pd.read_csv(path1,header=None)\n",
    "    dcf_data_2=pd.read_csv(path2,header=None)"
   ]
  },
  {
   "cell_type": "code",
   "execution_count": null,
   "metadata": {
    "ExecuteTime": {
     "end_time": "2020-12-14T22:50:32.727233Z",
     "start_time": "2020-12-14T22:50:32.713752Z"
    },
    "collapsed": true
   },
   "outputs": [],
   "source": [
    "def overlap_timeinterval(m,n):\n",
    "    path1=dcf_lists[m]\n",
    "    path2=dcf_lists[n]    \n",
    "    dcf_data_1=pd.read_csv(path1,header=None)\n",
    "    dcf_data_2=pd.read_csv(path2,header=None)\n",
    "    time_range=np.array([min(dcf_data_1[0]),max(dcf_data_1[0]),min(dcf_data_2[0]),max(dcf_data_2[0])])\n",
    "    print(path1.split('/')[-1][4:-4],path2.split('/')[-1][4:-4])\n",
    "    time_range.sort()\n",
    "    return time_range"
   ]
  },
  {
   "cell_type": "code",
   "execution_count": null,
   "metadata": {
    "ExecuteTime": {
     "end_time": "2020-12-15T09:33:55.836333Z",
     "start_time": "2020-12-15T09:33:55.821288Z"
    },
    "collapsed": false
   },
   "outputs": [],
   "source": [
    "m,n=(1,2)\n",
    "time_range=overlap_timeinterval(m,n)\n",
    "rangemin,rangemax=(time_range[1],time_range[2])\n",
    "print(time_range)"
   ]
  },
  {
   "cell_type": "code",
   "execution_count": null,
   "metadata": {
    "collapsed": true
   },
   "outputs": [],
   "source": []
  },
  {
   "cell_type": "markdown",
   "metadata": {},
   "source": [
    "## dcf_cal"
   ]
  },
  {
   "cell_type": "code",
   "execution_count": null,
   "metadata": {
    "ExecuteTime": {
     "end_time": "2020-12-15T16:42:11.425771Z",
     "start_time": "2020-12-15T16:41:26.792610Z"
    },
    "collapsed": false
   },
   "outputs": [],
   "source": [
    "m,n=(2,1)\n",
    "time_range=overlap_timeinterval(m,n)\n",
    "rangemin,rangemax=(54000,59000)\n",
    "#rangemin,rangemax=(time_range[1],time_range[2])\n",
    "print(time_range)\n",
    "finish_specific(m,n,dcf_lists,rangemin,rangemax,l_length=-500,h_length=500,dt_width=35)"
   ]
  },
  {
   "cell_type": "code",
   "execution_count": null,
   "metadata": {
    "ExecuteTime": {
     "end_time": "2020-12-15T16:40:43.939755Z",
     "start_time": "2020-12-15T16:39:59.512292Z"
    },
    "collapsed": false
   },
   "outputs": [],
   "source": [
    "m,n=(2,1)\n",
    "time_range=overlap_timeinterval(m,n)\n",
    "rangemin,rangemax=(54000,59000)\n",
    "#rangemin,rangemax=(time_range[1],time_range[2])\n",
    "print(time_range)\n",
    "finish_specific(m,n,dcf_lists,rangemin,rangemax,l_length=-200,h_length=200,dt_width=15)"
   ]
  },
  {
   "cell_type": "code",
   "execution_count": null,
   "metadata": {
    "collapsed": true
   },
   "outputs": [],
   "source": []
  },
  {
   "cell_type": "code",
   "execution_count": null,
   "metadata": {
    "collapsed": true
   },
   "outputs": [],
   "source": []
  },
  {
   "cell_type": "markdown",
   "metadata": {},
   "source": [
    "## def plot"
   ]
  },
  {
   "cell_type": "code",
   "execution_count": null,
   "metadata": {
    "ExecuteTime": {
     "end_time": "2020-12-15T10:27:36.109375Z",
     "start_time": "2020-12-15T10:27:35.361217Z"
    },
    "collapsed": false
   },
   "outputs": [],
   "source": [
    "fig, ax = plt.subplots(1, 1,figsize=(8,5))\n",
    "plot_line_dcf_mn(1,20,dcf_lists)\n",
    "ax.legend()\n",
    "\n",
    "time_range=overlap_timeinterval(m,n)\n",
    "rangemin,rangemax=(time_range[0],time_range[3])\n",
    "#rangemin,rangemax=(58250,58950)\n",
    "ax.set_xlim(rangemin,rangemax)\n",
    "ax.semilogy()"
   ]
  },
  {
   "cell_type": "code",
   "execution_count": null,
   "metadata": {
    "ExecuteTime": {
     "end_time": "2020-12-15T16:44:00.604871Z",
     "start_time": "2020-12-15T16:43:14.542747Z"
    },
    "collapsed": false
   },
   "outputs": [],
   "source": [
    "m,n=(1,20)\n",
    "time_range=overlap_timeinterval(m,n)\n",
    "rangemin,rangemax=(time_range[1],time_range[2])\n",
    "print(time_range)\n",
    "finish_specific(m,n,dcf_lists,rangemin,rangemax,l_length=-500,h_length=500,dt_width=25)"
   ]
  },
  {
   "cell_type": "markdown",
   "metadata": {},
   "source": [
    "# ccf"
   ]
  },
  {
   "cell_type": "code",
   "execution_count": null,
   "metadata": {
    "ExecuteTime": {
     "end_time": "2020-12-15T16:54:52.407321Z",
     "start_time": "2020-12-15T16:54:52.335792Z"
    },
    "collapsed": true
   },
   "outputs": [],
   "source": [
    "def get_ccf_name(m,n,ccf_lists,rangemin,rangemax,datadir):\n",
    "    path1=ccf_lists[m]\n",
    "    path2=ccf_lists[n]    \n",
    "    newpath1=path1.split('/')[-1][4:-4]\n",
    "    newpath2=path2.split('/')[-1][4:-4]\n",
    "    newfile1='%s/ccf-%s-%s-%s-%s.csv'%(datadir,rangemin,rangemax,newpath1,newpath2)\n",
    "    newfile2='%s/ccf-%s-%s-%s-%s.csv'%(datadir,rangemin,rangemax,newpath2,newpath1)  \n",
    "    return newpath1,newpath2,newfile1,newfile2    \n",
    "    \n",
    "def write_ccf_data(m,n,ccf_lists,rangemin,rangemax,datadir):     \n",
    "    \n",
    "    \n",
    "    t1new,dy1new,y_obs1new,t2new,dy2new,y_obs2new=get_new_range_datas(m,n,ccf_lists,rangemin,rangemax)\n",
    "    \n",
    "    y1_norm=(y_obs1new-np.average(y_obs1new))/np.std(y_obs1new)\n",
    "    y2_norm=(y_obs2new-np.average(y_obs2new))/np.std(y_obs2new)\n",
    "    \n",
    "    y1err_norm=dy1new/np.std(y_obs1new)\n",
    "    y2err_norm=dy2new/np.std(y_obs2new)\n",
    "    \n",
    "    newpath1,newpath2,newfile1,newfile2=get_ccf_name(m,n,ccf_lists,rangemin,rangemax,datadir)\n",
    "    \n",
    "    ccf_data_write1=pd.DataFrame({'t':t1new,'flux':y1_norm,'err':y1err_norm},index=None,columns=['t','flux','err'])    \n",
    "    ccf_data_write2=pd.DataFrame({'t':t2new,'flux':y2_norm,'err':y2err_norm},index=None,columns=['t','flux','err'])\n",
    "    \n",
    "    ccf_data_write1=ccf_data_write1.sort_values('t')\n",
    "    ccf_data_write2=ccf_data_write2.sort_values('t')\n",
    "    \n",
    "    ccf_data_write1.to_csv(newfile1,index=False,header=False)\n",
    "    ccf_data_write2.to_csv(newfile2,index=False,header=False) \n",
    "    \n",
    "def get_ccf(m,n,dcf_lists,rangemin,rangemax,datadir):\n",
    "    newpath1,newpath2,newfile1,newfile2=get_ccf_name(m,n,dcf_lists,rangemin,rangemax,datadir)    \n",
    "    t1new,dy1new,y_obs1new,t2new,dy2new,y_obs2new=get_new_range_datas(m,n,dcf_lists,rangemin,rangemax)\n",
    "    write_ccf_data(m,n,dcf_lists,rangemin,rangemax,datadir)               \n",
    "    command='python2 ccf_ngc1566_cpython.py %s %s %d %d'%(newfile1,newfile2,rangemin,rangemax,)\n",
    "    print(command)\n",
    "    #os.system(command)    "
   ]
  },
  {
   "cell_type": "code",
   "execution_count": null,
   "metadata": {
    "ExecuteTime": {
     "end_time": "2020-12-15T16:54:54.214775Z",
     "start_time": "2020-12-15T16:54:54.109203Z"
    },
    "collapsed": false
   },
   "outputs": [],
   "source": [
    "dataccf='/Users/brettlv/timing_analysis/python_ccf_code/Release/CPython/ngc1566_ccf'\n",
    "os.chdir(dataccf)\n",
    "m,n=(2,1)\n",
    "time_range=overlap_timeinterval(m,n)\n",
    "rangemin,rangemax=(54000,59000)\n",
    "#rangemin,rangemax=(time_range[1],time_range[2])\n",
    "print(time_range)\n",
    "get_ccf(1,2,dcf_lists,rangemin,rangemax,datadir=dataccf)"
   ]
  },
  {
   "cell_type": "code",
   "execution_count": null,
   "metadata": {
    "collapsed": true
   },
   "outputs": [],
   "source": []
  },
  {
   "cell_type": "code",
   "execution_count": null,
   "metadata": {
    "collapsed": true
   },
   "outputs": [],
   "source": []
  },
  {
   "cell_type": "markdown",
   "metadata": {},
   "source": [
    "# gauss_fit"
   ]
  },
  {
   "cell_type": "markdown",
   "metadata": {},
   "source": [
    "https://docs.astropy.org/en/stable/modeling/fitting.html#simple-1-d-model-fitting"
   ]
  },
  {
   "cell_type": "code",
   "execution_count": null,
   "metadata": {
    "ExecuteTime": {
     "end_time": "2020-06-22T21:40:30.015866Z",
     "start_time": "2020-06-22T21:40:29.705646Z"
    },
    "collapsed": false
   },
   "outputs": [],
   "source": [
    "import numpy as np\n",
    "import matplotlib.pyplot as plt\n",
    "from astropy.modeling import models, fitting\n",
    "from scipy.optimize import curve_fit\n",
    "# Generate fake data\n",
    "np.random.seed(0)\n",
    "\n",
    "# Fit the data using a Gaussian\n",
    "\n",
    "x=data_xrt_fit_NGC1566['obs_time']\n",
    "y=data_xrt_fit_NGC1566['xflux']*1.0e12\n",
    "x,y=select_range(x,y,56000,58600)\n",
    "\n",
    "\n",
    "param_bounds=([-np.inf,57500,0],[np.inf,58500,np.inf])\n",
    "popt, pcov = curve_fit(gauss_function, x, y, p0 = [100., 58000, 100],bounds=param_bounds)\n",
    "\n",
    "print(popt)\n",
    "\n",
    "g_init = models.Gaussian1D(amplitude=100., mean=58200, stddev=500.)\n",
    "fit_g = fitting.LevMarLSQFitter()\n",
    "g = fit_g(g_init, x, y)\n",
    "\n",
    "# Plot the data with the best-fit model\n",
    "plt.figure(figsize=(8,5))\n",
    "plt.plot(x, y, 'ko')\n",
    "\n",
    "\n",
    "x_new=np.linspace(min(x),max(x))\n",
    "plt.scatter(x_new, g(x_new), label='Gaussian')\n",
    "plt.scatter(x_new, gauss_function(x_new, *popt), label='curve_fit')\n",
    "\n",
    "plt.xlabel('mjd')\n",
    "plt.ylabel('Flux')\n",
    "plt.legend(loc=2)\n",
    "print(g)"
   ]
  },
  {
   "cell_type": "code",
   "execution_count": null,
   "metadata": {
    "ExecuteTime": {
     "end_time": "2020-06-22T20:55:01.202812Z",
     "start_time": "2020-06-22T20:55:01.196796Z"
    },
    "collapsed": true
   },
   "outputs": [],
   "source": [
    "def select_range(x,y,Tmin,Tmax):\n",
    "    x_=[]\n",
    "    y_=[]\n",
    "    for i,j in zip(x,y):\n",
    "        if i>=Tmin and i<=Tmax:\n",
    "            x_.append(i)\n",
    "            y_.append(j)\n",
    "    return  np.array(x_),np.array(y_)       \n",
    "    "
   ]
  },
  {
   "cell_type": "code",
   "execution_count": null,
   "metadata": {
    "ExecuteTime": {
     "end_time": "2020-06-22T21:26:36.612646Z",
     "start_time": "2020-06-22T21:26:36.597725Z"
    },
    "collapsed": true
   },
   "outputs": [],
   "source": [
    "def gauss_function(x, a, x0, sigma):\n",
    "    return a*np.exp(-(x-x0)**2/(2*sigma**2))\n"
   ]
  },
  {
   "cell_type": "code",
   "execution_count": null,
   "metadata": {
    "ExecuteTime": {
     "end_time": "2020-06-22T21:47:36.129039Z",
     "start_time": "2020-06-22T21:47:35.881517Z"
    },
    "collapsed": false
   },
   "outputs": [],
   "source": [
    "##### import numpy as np\n",
    "import matplotlib.pyplot as plt\n",
    "from astropy.modeling import models, fitting\n",
    "\n",
    "# Generate fake data\n",
    "np.random.seed(0)\n",
    "\n",
    "# Fit the data using a Gaussian\n",
    "\n",
    "\n",
    "x=data_ASAS_NGC1566['hmjd']\n",
    "y=data_ASAS_NGC1566['flux (mJy)']\n",
    "\n",
    "x,y=select_range(x,y,58180,59000)\n",
    "\n",
    "\n",
    "\n",
    "g_init = models.Gaussian1D(amplitude=80., mean=58200, stddev=100.)\n",
    "fit_g = fitting.LevMarLSQFitter()\n",
    "g = fit_g(g_init, x, y)\n",
    "\n",
    "# Plot the data with the best-fit model\n",
    "plt.figure(figsize=(8,5))\n",
    "plt.plot(x, y, 'ko')\n",
    "x_new=np.linspace(min(x),max(x))\n",
    "plt.scatter(x_new, g(x_new), label='Gaussian')\n",
    "\n",
    "plt.xlabel('mjd')\n",
    "plt.ylabel('Flux')\n",
    "plt.legend(loc=2)\n",
    "print(g)"
   ]
  },
  {
   "cell_type": "code",
   "execution_count": null,
   "metadata": {
    "ExecuteTime": {
     "end_time": "2020-06-22T21:45:49.591877Z",
     "start_time": "2020-06-22T21:45:49.586546Z"
    },
    "collapsed": false
   },
   "outputs": [],
   "source": [
    "58324-58280"
   ]
  },
  {
   "cell_type": "code",
   "execution_count": null,
   "metadata": {
    "ExecuteTime": {
     "end_time": "2020-06-22T20:57:31.478396Z",
     "start_time": "2020-06-22T20:57:30.713667Z"
    },
    "collapsed": false
   },
   "outputs": [],
   "source": [
    "import numpy as np\n",
    "import matplotlib.pyplot as plt\n",
    "from astropy.modeling import models, fitting\n",
    "\n",
    "# Generate fake data\n",
    "np.random.seed(0)\n",
    "\n",
    "# Fit the data using a Gaussian\n",
    "\n",
    "\n",
    "for i in range(1,2):\n",
    "    name_mjd='mjd'\n",
    "    name_band=data_neowise_select.columns[i*2]\n",
    "    name_err=data_neowise_select.columns[i*2+1]\n",
    "    print(name_mjd,name_band,name_err)\n",
    "    mag_neowise_data=pd.DataFrame({'t':data_neowise[name_mjd],'flux':data_neowise[name_band],'err':data_neowise[name_err]},index=None,columns=['t','flux','err'])\n",
    "    dcf_neowise_data=pd.DataFrame({'t':data_neowise[name_mjd],'flux':(-48.6-data_neowise[name_band])/2.5,'err':data_neowise[name_err]/2.5},index=None,columns=['t','flux','err'])    \n",
    "\n",
    "x=dcf_neowise_data['t']\n",
    "y=dcf_neowise_data['flux']\n",
    "\n",
    "x,y=select_range(x,y,57600,59000)\n",
    "\n",
    "g_init = models.Gaussian1D(amplitude=-20., mean=58323, stddev=100.)\n",
    "fit_g = fitting.LevMarLSQFitter()\n",
    "g = fit_g(g_init, x, y)\n",
    "\n",
    "\n",
    "\n",
    "    \n",
    "    \n",
    "# Plot the data with the best-fit model\n",
    "plt.figure(figsize=(8,5))\n",
    "plt.plot(x, y, 'ko')\n",
    "\n",
    "x_new=np.linspace(min(x),max(x))\n",
    "plt.scatter(x_new, g(x_new), label='Gaussian')\n",
    "\n",
    "\n",
    "plt.xlabel('mjd')\n",
    "plt.ylabel('Flux')\n",
    "plt.legend(loc=2)\n",
    "print(g)"
   ]
  },
  {
   "cell_type": "markdown",
   "metadata": {
    "collapsed": true
   },
   "source": [
    "# [SED](./NGC1566_sed.ipynb)"
   ]
  },
  {
   "cell_type": "code",
   "execution_count": null,
   "metadata": {
    "collapsed": true
   },
   "outputs": [],
   "source": [
    "sed_ASAS_data=pd.DataFrame({'t':data_ASAS_NGC1566['hmjd'],'flux':data_ASAS_NGC1566['flux (mJy)'],'err':data_ASAS_NGC1566['flux err']},index=None,columns=['t','flux','err'])    "
   ]
  },
  {
   "cell_type": "code",
   "execution_count": null,
   "metadata": {
    "collapsed": true
   },
   "outputs": [],
   "source": []
  }
 ],
 "metadata": {
  "kernelspec": {
   "display_name": "Python 3",
   "language": "python",
   "name": "python3"
  },
  "language_info": {
   "codemirror_mode": {
    "name": "ipython",
    "version": 3
   },
   "file_extension": ".py",
   "mimetype": "text/x-python",
   "name": "python",
   "nbconvert_exporter": "python",
   "pygments_lexer": "ipython3",
   "version": "3.6.0"
  },
  "latex_envs": {
   "LaTeX_envs_menu_present": true,
   "autocomplete": true,
   "bibliofile": "biblio.bib",
   "cite_by": "apalike",
   "current_citInitial": 1,
   "eqLabelWithNumbers": true,
   "eqNumInitial": 1,
   "hotkeys": {
    "equation": "Ctrl-E",
    "itemize": "Ctrl-I"
   },
   "labels_anchors": false,
   "latex_user_defs": false,
   "report_style_numbering": false,
   "user_envs_cfg": false
  },
  "toc": {
   "nav_menu": {},
   "number_sections": true,
   "sideBar": true,
   "skip_h1_title": false,
   "toc_cell": false,
   "toc_position": {
    "height": "554px",
    "left": "0px",
    "right": "988px",
    "top": "112px",
    "width": "212px"
   },
   "toc_section_display": "block",
   "toc_window_display": true
  }
 },
 "nbformat": 4,
 "nbformat_minor": 2
}
