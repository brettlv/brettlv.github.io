{
 "cells": [
  {
   "cell_type": "code",
   "execution_count": 1,
   "metadata": {
    "collapsed": false
   },
   "outputs": [
    {
     "name": "stdout",
     "output_type": "stream",
     "text": [
      "WARNING: imaging routines will not be available, \n",
      "failed to import sherpa.image.ds9_backend due to \n",
      "'RuntimeErr: DS9Win unusable: Could not find ds9 on your PATH'\n",
      "WARNING: failed to import sherpa.astro.xspec; XSPEC models will not be available\n"
     ]
    }
   ],
   "source": [
    "from sherpa.astro.ui import *"
   ]
  },
  {
   "cell_type": "code",
   "execution_count": 2,
   "metadata": {
    "collapsed": false
   },
   "outputs": [
    {
     "name": "stdout",
     "output_type": "stream",
     "text": [
      "\n",
      "An instance of ds9 was found to be running before we could\n",
      "start the 'xpans' name server. You will need to perform a\n",
      "bit of manual intervention in order to connect this\n",
      "existing ds9 to Python.\n",
      "\n",
      "For ds9 version 5.7 and beyond, simply register the\n",
      "existing ds9 with the xpans name server by selecting the\n",
      "ds9 File->XPA->Connect menu option. Your ds9 will now be\n",
      "fully accessible to pyds9 (e.g., it appear in the list\n",
      "returned by the ds9_targets() routine).\n",
      "\n",
      "For ds9 versions prior to 5.7, you cannot (easily) register\n",
      "with xpans, but you can view ds9's File->XPA Information\n",
      "menu option and pass the value associated with XPA_METHOD\n",
      "directly to the Python DS9() constructor, e.g.:\n",
      "\n",
      "    d = DS9('a000101:12345')\n",
      "\n",
      "The good news is that new instances of ds9 will be\n",
      "registered with xpans, and will be known to ds9_targets()\n",
      "and the DS9() constructor.\n",
      "\n"
     ]
    }
   ],
   "source": [
    "import pyds9"
   ]
  },
  {
   "cell_type": "code",
   "execution_count": null,
   "metadata": {
    "collapsed": true
   },
   "outputs": [],
   "source": []
  }
 ],
 "metadata": {
  "kernelspec": {
   "display_name": "Python 3",
   "language": "python",
   "name": "python3"
  },
  "language_info": {
   "codemirror_mode": {
    "name": "ipython",
    "version": 3
   },
   "file_extension": ".py",
   "mimetype": "text/x-python",
   "name": "python",
   "nbconvert_exporter": "python",
   "pygments_lexer": "ipython3",
   "version": "3.6.0"
  }
 },
 "nbformat": 4,
 "nbformat_minor": 2
}
