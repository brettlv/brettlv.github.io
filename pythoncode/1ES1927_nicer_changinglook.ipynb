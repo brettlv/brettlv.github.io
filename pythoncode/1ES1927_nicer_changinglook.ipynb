{
 "cells": [
  {
   "cell_type": "markdown",
   "metadata": {},
   "source": [
    "http://adsabs.harvard.edu/cgi-bin/nph-abs_connect?db_key=AST&db_key=PRE&qform=AST&arxiv_sel=astro-ph&arxiv_sel=cond-mat&arxiv_sel=cs&arxiv_sel=gr-qc&arxiv_sel=hep-ex&arxiv_sel=hep-lat&arxiv_sel=hep-ph&arxiv_sel=hep-th&arxiv_sel=math&arxiv_sel=math-ph&arxiv_sel=nlin&arxiv_sel=nucl-ex&arxiv_sel=nucl-th&arxiv_sel=physics&arxiv_sel=quant-ph&arxiv_sel=q-bio&sim_query=YES&ned_query=YES&adsobj_query=YES&aut_logic=OR&obj_logic=OR&author=&object=&start_mon=&start_year=&end_mon=&end_year=&ttl_logic=AND&title=1ES+1927%2B654&txt_logic=OR&text=&nr_to_return=200&start_nr=1&jou_pick=ALL&ref_stems=&data_and=ALL&group_and=ALL&start_entry_day=&start_entry_mon=&start_entry_year=&end_entry_day=&end_entry_mon=&end_entry_year=&min_score=&sort=SCORE&data_type=SHORT&aut_syn=YES&ttl_syn=YES&txt_syn=YES&aut_wt=1.0&obj_wt=1.0&ttl_wt=0.3&txt_wt=3.0&aut_wgt=YES&obj_wgt=YES&ttl_wgt=YES&txt_wgt=YES&ttl_sco=YES&txt_sco=YES&version=1m"
   ]
  },
  {
   "cell_type": "markdown",
   "metadata": {},
   "source": [
    "[Looking into the heart of the peculiar Seyfert galaxy 1ES 1927+654](http://adsabs.harvard.edu/abs/2014cosp...40E.915G)\n",
    "\n",
    "1ES 1927+654 is one of the objects where observations made at different wavebands appear to contradict each other within the framework of the orientation-based unified model. Based upon its optical spectrum, it was classified as a Seyfert 2 galaxy. However, X-ray observations showed little or no evidence of obscuration. Gallo et al. (2013, MNRAS 433, 421) reported on XMM-Newton and Suzaku observations of the source. To explain the contradictory optical and X-ray observations, they proposed a scenario where the source is seen edge-on but through a tenuous torus. 1ES 1927+654 is radio-loud and appears unresolved in the NRAO VLA Sky Survey (NVSS), with a flux density of 40 mJy. We observed the source with high-resolution radio interferometry using the European VLBI Network (EVN), to ascertain the compact nature of its radio emission. He we report our findings in the context of the geometric and physical model of the object."
   ]
  },
  {
   "cell_type": "markdown",
   "metadata": {},
   "source": [
    "[NICER observing campaign of the AGN 1ES 1927+654 following a recent transient event](http://adsabs.harvard.edu/abs/2019HEAD...1730102L)\n",
    "\n",
    "We report on NICER X-ray follow-up observations of the remarkable nuclear transient AT2018zf (ASASSN-18el) associated with the changing-look Seyfert galaxy 1ES 1927+654. Results from our detailed NICER time-resolved spectral analysis reveal a spectrum dominated by a very soft (~100 eV) blackbody-like component, but with excess emission around 1 keV -- characteristics very different from those of any previous observation of this source. NICER has been monitoring 1ES 1927+654 with 1-3 day cadence starting ~80 days after the ASAS-SN flare detection, during which the X-ray emission - in addition to rapid variability on timescales from 10 ks to 500 seconds -- has undergone a rapid decline of two orders of magnitutude, extended period of quiescence, and re-brightening to fluxes comparable to those following the initial flare. Despite the intense flaring on timescales of hours to days, the ensemble of exposures appear to follow a simple track in spectral evolution. The re-emergence of the power-law that dominated the pre-flare spectrum is evidence that NICER is catching the re-formation of the corona caught in real time following its disruption, which places much needed constraints on the timescale of the corona heating mechanism."
   ]
  },
  {
   "cell_type": "code",
   "execution_count": null,
   "metadata": {
    "collapsed": true
   },
   "outputs": [],
   "source": []
  },
  {
   "cell_type": "code",
   "execution_count": 77,
   "metadata": {
    "ExecuteTime": {
     "end_time": "2019-04-01T20:23:05.231399Z",
     "start_time": "2019-04-01T20:23:05.227097Z"
    },
    "collapsed": true
   },
   "outputs": [],
   "source": [
    "import matplotlib.pyplot as plt"
   ]
  },
  {
   "cell_type": "code",
   "execution_count": 1,
   "metadata": {
    "ExecuteTime": {
     "end_time": "2019-03-31T21:16:38.247911Z",
     "start_time": "2019-03-31T21:16:38.139795Z"
    },
    "collapsed": true
   },
   "outputs": [],
   "source": [
    "from xspec import *\n",
    "import xspec"
   ]
  },
  {
   "cell_type": "code",
   "execution_count": 464,
   "metadata": {
    "ExecuteTime": {
     "end_time": "2019-04-08T13:17:29.264939Z",
     "start_time": "2019-04-08T13:17:29.132390Z"
    },
    "collapsed": true
   },
   "outputs": [],
   "source": [
    "Plot.device='/xs'\n",
    "#Plot.device='/null'"
   ]
  },
  {
   "cell_type": "code",
   "execution_count": 2,
   "metadata": {
    "ExecuteTime": {
     "end_time": "2019-03-31T21:16:41.488544Z",
     "start_time": "2019-03-31T21:16:38.897615Z"
    },
    "collapsed": false
   },
   "outputs": [],
   "source": [
    "import stingray\n",
    "import os\n",
    "from astropy.io import fits\n",
    "import pyfits"
   ]
  },
  {
   "cell_type": "code",
   "execution_count": null,
   "metadata": {
    "collapsed": true
   },
   "outputs": [],
   "source": [
    "path='/Users/brettlv/src_heasoft/1ES1927/1200190132/xti/event_cl/'\n",
    "filepath='/Users/brettlv/src_heasoft/1ES1927/1200190132/xti/event_cl/src.pha'\n",
    "lcfilepath='/Users/brettlv/src_heasoft/1ES1927/1200190132/xti/event_cl/src.lc'\n",
    "\n",
    "path='/Users/brettlv/src_heasoft/1ES1927/1200190277/xti/event_cl/'\n",
    "filepath='/Users/brettlv/src_heasoft/1ES1927/1200190277/xti/event_cl/src.pha'\n",
    "lcfilepath='/Users/brettlv/src_heasoft/1ES1927/1200190277/xti/event_cl/src.lc'"
   ]
  },
  {
   "cell_type": "code",
   "execution_count": 235,
   "metadata": {
    "ExecuteTime": {
     "end_time": "2019-04-02T22:35:42.143632Z",
     "start_time": "2019-04-02T22:35:42.140321Z"
    },
    "collapsed": false
   },
   "outputs": [],
   "source": [
    "#os.listdir('/Users/brettlv/src_heasoft/1ES1927/')"
   ]
  },
  {
   "cell_type": "code",
   "execution_count": null,
   "metadata": {
    "collapsed": true
   },
   "outputs": [],
   "source": []
  },
  {
   "cell_type": "code",
   "execution_count": 265,
   "metadata": {
    "ExecuteTime": {
     "end_time": "2019-04-03T00:56:38.664375Z",
     "start_time": "2019-04-03T00:56:38.510488Z"
    },
    "collapsed": false
   },
   "outputs": [
    {
     "name": "stdout",
     "output_type": "stream",
     "text": [
      "\u001b[34m1200190102\u001b[m\u001b[m/              \u001b[34m1200190167\u001b[m\u001b[m/              \u001b[34m1200190277\u001b[m\u001b[m/\r\n",
      "\u001b[34m1200190103\u001b[m\u001b[m/              \u001b[34m1200190184\u001b[m\u001b[m/              \u001b[34m1200190278\u001b[m\u001b[m/\r\n",
      "\u001b[34m1200190104\u001b[m\u001b[m/              \u001b[34m1200190209\u001b[m\u001b[m/              \u001b[34m1200190284\u001b[m\u001b[m/\r\n",
      "\u001b[34m1200190106\u001b[m\u001b[m/              \u001b[34m1200190212\u001b[m\u001b[m/              1ES1927+654_mostexp.sh\r\n",
      "\u001b[34m1200190107\u001b[m\u001b[m/              \u001b[34m1200190230\u001b[m\u001b[m/              1ES1927+654download.sh\r\n",
      "\u001b[34m1200190108\u001b[m\u001b[m/              \u001b[34m1200190238\u001b[m\u001b[m/              evt.txt\r\n",
      "\u001b[34m1200190128\u001b[m\u001b[m/              \u001b[34m1200190244\u001b[m\u001b[m/              list.txt\r\n",
      "\u001b[34m1200190129\u001b[m\u001b[m/              \u001b[34m1200190272\u001b[m\u001b[m/              sorted_wget_partfile.sh\r\n",
      "\u001b[34m1200190132\u001b[m\u001b[m/              \u001b[34m1200190273\u001b[m\u001b[m/              wget-log\r\n",
      "\u001b[34m1200190133\u001b[m\u001b[m/              \u001b[34m1200190274\u001b[m\u001b[m/\r\n",
      "\u001b[34m1200190159\u001b[m\u001b[m/              \u001b[34m1200190275\u001b[m\u001b[m/\r\n"
     ]
    }
   ],
   "source": [
    "ls"
   ]
  },
  {
   "cell_type": "code",
   "execution_count": 266,
   "metadata": {
    "ExecuteTime": {
     "end_time": "2019-04-03T00:57:15.480967Z",
     "start_time": "2019-04-03T00:57:15.345429Z"
    },
    "collapsed": true
   },
   "outputs": [],
   "source": [
    "ls /Users/brettlv/src_heasoft/1ES1927/*/xti/event_cl/src.lc>lc.txt"
   ]
  },
  {
   "cell_type": "code",
   "execution_count": 267,
   "metadata": {
    "ExecuteTime": {
     "end_time": "2019-04-03T00:57:25.016574Z",
     "start_time": "2019-04-03T00:57:25.007098Z"
    },
    "collapsed": false
   },
   "outputs": [],
   "source": [
    "os.chdir('/Users/brettlv/src_heasoft/1ES1927/')\n",
    "with open('list.txt','r') as f:\n",
    "    content=f.readlines()\n",
    "with open('evt.txt','r') as f:\n",
    "    evts=f.readlines()    \n",
    "with open('lc.txt','r') as f:\n",
    "    lcs=f.readlines()    "
   ]
  },
  {
   "cell_type": "code",
   "execution_count": 256,
   "metadata": {
    "ExecuteTime": {
     "end_time": "2019-04-03T00:42:10.734338Z",
     "start_time": "2019-04-03T00:42:10.726212Z"
    },
    "collapsed": false
   },
   "outputs": [
    {
     "name": "stdout",
     "output_type": "stream",
     "text": [
      "1200190102/\n",
      "1200190103/\n",
      "1200190104/\n",
      "1200190106/\n",
      "1200190107/\n",
      "1200190108/\n",
      "1200190128/\n",
      "1200190129/\n",
      "1200190132/\n",
      "1200190133/\n",
      "1200190159/\n",
      "1200190167/\n",
      "1200190184/\n",
      "1200190209/\n",
      "1200190212/\n",
      "1200190230/\n",
      "1200190238/\n",
      "1200190244/\n",
      "1200190272/\n",
      "1200190273/\n",
      "1200190274/\n",
      "1200190275/\n",
      "1200190277/\n",
      "1200190278/\n",
      "1200190284/\n"
     ]
    }
   ],
   "source": [
    "for i,i_ in zip(content[:-4],evts[:]):\n",
    "    print(i.rstrip())"
   ]
  },
  {
   "cell_type": "code",
   "execution_count": 463,
   "metadata": {
    "ExecuteTime": {
     "end_time": "2019-04-08T13:16:35.025993Z",
     "start_time": "2019-04-08T13:16:26.269013Z"
    },
    "collapsed": false
   },
   "outputs": [
    {
     "name": "stdout",
     "output_type": "stream",
     "text": [
      "/Users/brettlv/src_heasoft/1ES1927/1200190277/xti/event_cl/\n",
      "/Users/brettlv/src_heasoft/1ES1927/1200190277/xti/event_cl/src.pha\n",
      "/Users/brettlv/src_heasoft/1ES1927/1200190277/xti/event_cl/src.lc\n",
      "obsid 1200190277/\n",
      "startdate 2019-02-09T03:15:59\n",
      "bkgdate 2019-02-13\n"
     ]
    }
   ],
   "source": [
    "obsid='1200190277/'\n",
    "pathroot='/Users/brettlv/src_heasoft/1ES1927/%s'%obsid\n",
    "path=pathroot+'xti/event_cl/'\n",
    "filepath=path+'src.pha'\n",
    "clfilepath=path+'src.lc'\n",
    "bkgspec='/Users/brettlv/src_heasoft/1ES1927/bkg_nicer_rxte_6/1012060227/xti/event_cl/2019-02-13bkg.pha'\n",
    "\n",
    "print(path)\n",
    "print(filepath)\n",
    "print(clfilepath)\n",
    "\n",
    "os.chdir(path)\n",
    "AllData.clear()\n",
    "s1=xspec.Spectrum(filepath)\n",
    "#Plot.xAxis = \"channel\"\n",
    "#s1.ignore('**-35 1909-**')#channel nustar 3-79keV\n",
    "s1.response='/Users/brettlv/src_heasoft/heasoft-6.25/CALDB/data/nicer/xti/cpf/rmf/nixtiref20170601v001.rmf'\n",
    "s1.response.arf = \"/Users/brettlv/src_heasoft/heasoft-6.25/CALDB/data/nicer/xti/cpf/arf/nixtiaveonaxis20170601v002.arf\"\n",
    "s1.background = bkgspec\n",
    "\n",
    "\n",
    "Plot.xAxis = \"keV\"\n",
    "#s1.ignore('**-0.2 12.0-**')#NICER 0.2-12keV\n",
    "s1.ignore('**-0.2 2.4-**')\n",
    "s1.ignore(\"bad\")\n",
    "AllData.ignore(\"bad\")\n",
    "#Plot.xAxis = \"nm\"\n",
    "#Ignore channel bins corresponding to 15.0 to 20.0 nm wavelengths: s1.ignore(\"15.-20.\")\n",
    "#s1.show()\n",
    "\n",
    "#/Users/brettlv/src_heasoft/heasoft-6.25/CALDB/data/nicer/xti/cpf/arf/nixtiaveonaxis20170601v002.arf\n",
    "#/Users/brettlv/src_heasoft/heasoft-6.25/CALDB/data/nicer/xti/cpf/rmf/nixtiref20170601v001.rmf\n",
    "\n",
    "\n",
    "\n",
    "hdulist=pyfits.open(clfilepath)\n",
    "DATEOBS=hdulist[0].header['DATE-OBS']\n",
    "hdulist.close()\n",
    "\n",
    "m=Model(\"pha*(pow)\")\n",
    "\n",
    "Fit.perform()\n",
    "\n",
    "#Step parameters 1 and 2 through the given range values \n",
    "# over a 10x10 2-D grid.\n",
    "#Fit.steppar(\"1 20. 30. 10 2 .05 .08 10\")\n",
    "\n",
    "Plot.add=True\n",
    "#Plot.background=False\n",
    "Plot.background = True\n",
    "Plot.xLog=True\n",
    "Plot.yLog=True\n",
    "#Plot('ldata')\n",
    "#Plot('eeuf del')\n",
    "#Plot(\"ufspec res\")\n",
    "#Plot(\"data\",\"model\",\"resid\")\n",
    "print('obsid',obsid)\n",
    "print('startdate',DATEOBS)\n",
    "print('bkgdate',bkgspec.split('/')[-1][:10])\n",
    "Plot.commands = (\"label 1 pos 1 .15 \\\"%s powerlaw\\\"\"%DATEOBS,)\n",
    "#Plot.addCommand(\"x 1 pos 0.537 \\\"edge\\\"\")\n",
    "\n",
    "#Plot.addCommand(\"label 1 pos 1 .15 \\\"%s\\\"\"%DATEOBS)\n",
    "Plot(\"eeuf\",\"del\")\n",
    "#Plot.commands=()"
   ]
  },
  {
   "cell_type": "code",
   "execution_count": null,
   "metadata": {
    "collapsed": true
   },
   "outputs": [],
   "source": [
    "freeze or thaw "
   ]
  },
  {
   "cell_type": "code",
   "execution_count": 459,
   "metadata": {
    "ExecuteTime": {
     "end_time": "2019-04-04T23:08:11.183318Z",
     "start_time": "2019-04-04T23:08:11.160668Z"
    },
    "collapsed": false
   },
   "outputs": [],
   "source": [
    "Plot.iplot()"
   ]
  },
  {
   "cell_type": "code",
   "execution_count": 460,
   "metadata": {
    "ExecuteTime": {
     "end_time": "2019-04-04T23:09:23.812337Z",
     "start_time": "2019-04-04T23:09:23.785102Z"
    },
    "collapsed": true
   },
   "outputs": [],
   "source": [
    "Plot.iplot(\"data model\")"
   ]
  },
  {
   "cell_type": "code",
   "execution_count": 461,
   "metadata": {
    "ExecuteTime": {
     "end_time": "2019-04-04T23:09:58.537507Z",
     "start_time": "2019-04-04T23:09:58.530982Z"
    },
    "collapsed": true
   },
   "outputs": [],
   "source": [
    "Plot(\"eeuf\",\"del\")"
   ]
  },
  {
   "cell_type": "code",
   "execution_count": null,
   "metadata": {
    "collapsed": true
   },
   "outputs": [],
   "source": []
  },
  {
   "cell_type": "code",
   "execution_count": 465,
   "metadata": {
    "ExecuteTime": {
     "end_time": "2019-04-08T13:18:06.193832Z",
     "start_time": "2019-04-08T13:17:58.639390Z"
    },
    "collapsed": false
   },
   "outputs": [
    {
     "name": "stdout",
     "output_type": "stream",
     "text": [
      "/Users/brettlv/src_heasoft/1ES1927/1200190277/xti/event_cl/\n",
      "/Users/brettlv/src_heasoft/1ES1927/1200190277/xti/event_cl/src.pha\n",
      "/Users/brettlv/src_heasoft/1ES1927/1200190277/xti/event_cl/src.lc\n",
      "obsid 1200190277/\n",
      "startdate 2019-02-09T03:15:59\n",
      "bkgdate 2019-02-13\n"
     ]
    }
   ],
   "source": [
    "obsid='1200190277/'\n",
    "pathroot='/Users/brettlv/src_heasoft/1ES1927/%s'%obsid\n",
    "path=pathroot+'xti/event_cl/'\n",
    "filepath=path+'src.pha'\n",
    "clfilepath=path+'src.lc'\n",
    "bkgspec='/Users/brettlv/src_heasoft/1ES1927/bkg_nicer_rxte_6/1012060227/xti/event_cl/2019-02-13bkg.pha'\n",
    "\n",
    "print(path)\n",
    "print(filepath)\n",
    "print(clfilepath)\n",
    "\n",
    "os.chdir(path)\n",
    "AllData.clear()\n",
    "s1=xspec.Spectrum(filepath)\n",
    "#Plot.xAxis = \"channel\"\n",
    "#s1.ignore('**-35 1909-**')#channel nustar 3-79keV\n",
    "s1.response='/Users/brettlv/src_heasoft/heasoft-6.25/CALDB/data/nicer/xti/cpf/rmf/nixtiref20170601v001.rmf'\n",
    "s1.response.arf = \"/Users/brettlv/src_heasoft/heasoft-6.25/CALDB/data/nicer/xti/cpf/arf/nixtiaveonaxis20170601v002.arf\"\n",
    "s1.background = bkgspec\n",
    "\n",
    "\n",
    "Plot.xAxis = \"keV\"\n",
    "#s1.ignore('**-0.2 12.0-**')#NICER 0.2-12keV\n",
    "s1.ignore('**-0.2 2.4-**')\n",
    "s1.ignore(\"bad\")\n",
    "AllData.ignore(\"bad\")\n",
    "#Plot.xAxis = \"nm\"\n",
    "#Ignore channel bins corresponding to 15.0 to 20.0 nm wavelengths: s1.ignore(\"15.-20.\")\n",
    "#s1.show()\n",
    "\n",
    "#/Users/brettlv/src_heasoft/heasoft-6.25/CALDB/data/nicer/xti/cpf/arf/nixtiaveonaxis20170601v002.arf\n",
    "#/Users/brettlv/src_heasoft/heasoft-6.25/CALDB/data/nicer/xti/cpf/rmf/nixtiref20170601v001.rmf\n",
    "\n",
    "\n",
    "\n",
    "hdulist=pyfits.open(clfilepath)\n",
    "DATEOBS=hdulist[0].header['DATE-OBS']\n",
    "hdulist.close()\n",
    "\n",
    "m=Model(\"pha*(diskbb)\")\n",
    "\n",
    "Fit.perform()\n",
    "\n",
    "#Step parameters 1 and 2 through the given range values \n",
    "# over a 10x10 2-D grid.\n",
    "#Fit.steppar(\"1 20. 30. 10 2 .05 .08 10\")\n",
    "\n",
    "Plot.add=True\n",
    "#Plot.background=False\n",
    "Plot.background = True\n",
    "Plot.xLog=True\n",
    "Plot.yLog=True\n",
    "#Plot('ldata')\n",
    "#Plot('eeuf del')\n",
    "#Plot(\"ufspec res\")\n",
    "#Plot(\"data\",\"model\",\"resid\")\n",
    "print('obsid',obsid)\n",
    "print('startdate',DATEOBS)\n",
    "print('bkgdate',bkgspec.split('/')[-1][:10])\n",
    "Plot.commands = (\"label 1 pos 1 .15 \\\"%s diskbb\\\"\"%DATEOBS,)\n",
    "#Plot.addCommand(\"label 1 pos 1 .15 \\\"%s\\\"\"%DATEOBS)\n",
    "Plot(\"eeuf\",\"del\")\n",
    "#Plot.commands=()"
   ]
  },
  {
   "cell_type": "code",
   "execution_count": null,
   "metadata": {
    "collapsed": true
   },
   "outputs": [],
   "source": []
  },
  {
   "cell_type": "code",
   "execution_count": null,
   "metadata": {
    "collapsed": true
   },
   "outputs": [],
   "source": []
  },
  {
   "cell_type": "code",
   "execution_count": null,
   "metadata": {
    "collapsed": true
   },
   "outputs": [],
   "source": []
  },
  {
   "cell_type": "code",
   "execution_count": null,
   "metadata": {
    "collapsed": true
   },
   "outputs": [],
   "source": []
  },
  {
   "cell_type": "code",
   "execution_count": 419,
   "metadata": {
    "ExecuteTime": {
     "end_time": "2019-04-03T08:49:38.704027Z",
     "start_time": "2019-04-03T08:49:38.697033Z"
    },
    "collapsed": true
   },
   "outputs": [],
   "source": [
    "Plot('eeuf res')"
   ]
  },
  {
   "cell_type": "code",
   "execution_count": 418,
   "metadata": {
    "ExecuteTime": {
     "end_time": "2019-04-03T08:49:07.559132Z",
     "start_time": "2019-04-03T08:49:07.551850Z"
    },
    "collapsed": false
   },
   "outputs": [],
   "source": [
    "Plot('model')"
   ]
  },
  {
   "cell_type": "code",
   "execution_count": 452,
   "metadata": {
    "ExecuteTime": {
     "end_time": "2019-04-04T22:48:21.861622Z",
     "start_time": "2019-04-04T22:48:21.856889Z"
    },
    "collapsed": false
   },
   "outputs": [
    {
     "data": {
      "text/plain": [
       "('label 1 pos 1 .15 \"2019-02-09T03:15:59\"',)"
      ]
     },
     "execution_count": 452,
     "metadata": {},
     "output_type": "execute_result"
    }
   ],
   "source": [
    "Plot.commands"
   ]
  },
  {
   "cell_type": "code",
   "execution_count": 449,
   "metadata": {
    "ExecuteTime": {
     "end_time": "2019-04-04T22:47:20.394954Z",
     "start_time": "2019-04-04T22:47:20.384530Z"
    },
    "collapsed": false
   },
   "outputs": [
    {
     "name": "stdout",
     "output_type": "stream",
     "text": [
      "('label 1 pos 1 .15 \"2019-02-09T03:15:59\"', 'label 1 pos 1 .15 \"2019-02-09T03:15:59\"', 'label 1 pos 1 .15 \"2019-02-09T03:15:59\"', 'label 1 pos 1 .15 \"2019-02-09T03:15:59\"', 'label 1 pos 1 .15 \"2019-02-09T03:15:59\"')\n"
     ]
    }
   ],
   "source": [
    "print(Plot.commands)"
   ]
  },
  {
   "cell_type": "code",
   "execution_count": 382,
   "metadata": {
    "ExecuteTime": {
     "end_time": "2019-04-03T02:30:27.284573Z",
     "start_time": "2019-04-03T02:30:27.280147Z"
    },
    "collapsed": false
   },
   "outputs": [
    {
     "name": "stdout",
     "output_type": "stream",
     "text": [
      "('label 1 pos 1 .15 \"2019-02-09T03:15:59\"',)\n",
      "()\n"
     ]
    }
   ],
   "source": [
    "#Plot.commands = ()\n",
    "print(Plot.commands)\n",
    "Plot.delCommand(1)\n",
    "print(Plot.commands)"
   ]
  },
  {
   "cell_type": "code",
   "execution_count": 378,
   "metadata": {
    "ExecuteTime": {
     "end_time": "2019-04-03T02:29:39.294145Z",
     "start_time": "2019-04-03T02:29:39.288799Z"
    },
    "collapsed": false
   },
   "outputs": [
    {
     "name": "stdout",
     "output_type": "stream",
     "text": [
      "('label 1 pos 1 .15 \"2019-02-09T03:15:59\"', 'label 1 pos 1 .15 \"2019-02-10T00:49:00\"', 'label 1 pos 1 .15 \"2019-02-10T00:49:00\"')\n"
     ]
    }
   ],
   "source": [
    "print(Plot.commands)"
   ]
  },
  {
   "cell_type": "code",
   "execution_count": null,
   "metadata": {
    "collapsed": true
   },
   "outputs": [],
   "source": [
    "Plot.xLog=False\n",
    "Plot.yLog=False\n",
    "Plot('data')\n",
    "Plot('data')"
   ]
  },
  {
   "cell_type": "markdown",
   "metadata": {},
   "source": [
    "#Single panel plots\n",
    "Plot(\"data\")\n",
    "Plot(\"model\")\n",
    "Plot(\"ufspec\")\n",
    "#Multi panel plots\n",
    "Plot(\"data chisq\")\n",
    "Plot(\"data\",\"model\",\"resid\")\n",
    "Plot.show()"
   ]
  },
  {
   "cell_type": "markdown",
   "metadata": {
    "ExecuteTime": {
     "end_time": "2019-04-03T01:51:26.756758Z",
     "start_time": "2019-04-03T01:51:26.747945Z"
    }
   },
   "source": [
    "Plot.xAxis=\"keV\"\n",
    "Plot('eeuf del')\n",
    "xErrs = Plot.xErr()\n",
    "yErrs = Plot.yErr()\n",
    "#xVals = Plot.x()\n",
    "#yVals = Plot.y()\n",
    "modVals = Plot.model()"
   ]
  },
  {
   "cell_type": "code",
   "execution_count": 422,
   "metadata": {
    "ExecuteTime": {
     "end_time": "2019-04-03T09:06:12.030911Z",
     "start_time": "2019-04-03T09:06:12.007922Z"
    },
    "collapsed": true
   },
   "outputs": [],
   "source": [
    "Plot.xAxis=\"channel\"\n",
    "Plot(\"data\")"
   ]
  },
  {
   "cell_type": "code",
   "execution_count": null,
   "metadata": {
    "ExecuteTime": {
     "end_time": "2019-04-03T01:40:52.879864Z",
     "start_time": "2019-04-03T01:40:52.874890Z"
    },
    "collapsed": false
   },
   "outputs": [],
   "source": []
  },
  {
   "cell_type": "code",
   "execution_count": null,
   "metadata": {
    "ExecuteTime": {
     "end_time": "2019-04-03T01:46:45.771511Z",
     "start_time": "2019-04-03T01:46:45.757641Z"
    },
    "collapsed": false
   },
   "outputs": [],
   "source": []
  },
  {
   "cell_type": "code",
   "execution_count": 20,
   "metadata": {
    "ExecuteTime": {
     "end_time": "2019-04-01T15:56:37.032144Z",
     "start_time": "2019-04-01T15:56:37.027895Z"
    },
    "collapsed": true
   },
   "outputs": [],
   "source": []
  },
  {
   "cell_type": "code",
   "execution_count": 193,
   "metadata": {
    "ExecuteTime": {
     "end_time": "2019-04-02T19:29:51.483356Z",
     "start_time": "2019-04-02T19:29:51.477787Z"
    },
    "collapsed": true
   },
   "outputs": [],
   "source": [
    "AllModels.calcFlux(\"0.2 2.0\")\n",
    "AllModels.calcFlux(\"2.0 10.0\")#Model Flux   0.11963 photons (3.2995e-09 ergs/cm^2/s) range (3.0000 - 78.000 keV)\n",
    "\n",
    "AllModels.calcFlux(\".3 1.0\")\n",
    "AllModels.calcFlux(\".1 10.0 err\")\n",
    "AllData.show()"
   ]
  },
  {
   "cell_type": "code",
   "execution_count": 324,
   "metadata": {
    "ExecuteTime": {
     "end_time": "2019-04-03T01:43:55.878429Z",
     "start_time": "2019-04-03T01:43:55.851744Z"
    },
    "collapsed": false
   },
   "outputs": [],
   "source": [
    "#from xspec import *\n",
    "import matplotlib.pyplot as plt\n",
    "\n",
    "# PyXspec operations:\n",
    "#Plot.device = '/null'\n",
    "Plot('eeuf')\n",
    "# Get coordinates from plot:\n",
    "energy = Plot.x()\n",
    "spec = Plot.y()\n",
    "folded = Plot.model()\n",
    "# Plot using Matplotlib:\n",
    "plt.plot(energy, spec, 'ro', energy, folded)\n",
    "plt.xlabel('keV')\n",
    "plt.ylabel('keV2')\n",
    "plt.show()\n",
    "#plt.savefig('myplot')"
   ]
  },
  {
   "cell_type": "code",
   "execution_count": null,
   "metadata": {
    "collapsed": true
   },
   "outputs": [],
   "source": []
  },
  {
   "cell_type": "code",
   "execution_count": 64,
   "metadata": {
    "ExecuteTime": {
     "end_time": "2019-04-01T20:11:51.117521Z",
     "start_time": "2019-04-01T20:11:50.969351Z"
    },
    "collapsed": false
   },
   "outputs": [],
   "source": []
  },
  {
   "cell_type": "code",
   "execution_count": 65,
   "metadata": {
    "ExecuteTime": {
     "end_time": "2019-04-01T20:12:25.521174Z",
     "start_time": "2019-04-01T20:12:25.516318Z"
    },
    "collapsed": true
   },
   "outputs": [],
   "source": []
  },
  {
   "cell_type": "code",
   "execution_count": 269,
   "metadata": {
    "ExecuteTime": {
     "end_time": "2019-04-03T01:05:05.645597Z",
     "start_time": "2019-04-03T01:05:05.640293Z"
    },
    "collapsed": false
   },
   "outputs": [
    {
     "data": {
      "text/plain": [
       "['/Users/brettlv/src_heasoft/1ES1927/1200190103/xti/event_cl/src.lc\\n',\n",
       " '/Users/brettlv/src_heasoft/1ES1927/1200190104/xti/event_cl/src.lc\\n',\n",
       " '/Users/brettlv/src_heasoft/1ES1927/1200190106/xti/event_cl/src.lc\\n',\n",
       " '/Users/brettlv/src_heasoft/1ES1927/1200190107/xti/event_cl/src.lc\\n',\n",
       " '/Users/brettlv/src_heasoft/1ES1927/1200190108/xti/event_cl/src.lc\\n',\n",
       " '/Users/brettlv/src_heasoft/1ES1927/1200190128/xti/event_cl/src.lc\\n',\n",
       " '/Users/brettlv/src_heasoft/1ES1927/1200190129/xti/event_cl/src.lc\\n',\n",
       " '/Users/brettlv/src_heasoft/1ES1927/1200190132/xti/event_cl/src.lc\\n',\n",
       " '/Users/brettlv/src_heasoft/1ES1927/1200190133/xti/event_cl/src.lc\\n',\n",
       " '/Users/brettlv/src_heasoft/1ES1927/1200190159/xti/event_cl/src.lc\\n',\n",
       " '/Users/brettlv/src_heasoft/1ES1927/1200190167/xti/event_cl/src.lc\\n',\n",
       " '/Users/brettlv/src_heasoft/1ES1927/1200190184/xti/event_cl/src.lc\\n',\n",
       " '/Users/brettlv/src_heasoft/1ES1927/1200190209/xti/event_cl/src.lc\\n',\n",
       " '/Users/brettlv/src_heasoft/1ES1927/1200190212/xti/event_cl/src.lc\\n',\n",
       " '/Users/brettlv/src_heasoft/1ES1927/1200190230/xti/event_cl/src.lc\\n',\n",
       " '/Users/brettlv/src_heasoft/1ES1927/1200190238/xti/event_cl/src.lc\\n',\n",
       " '/Users/brettlv/src_heasoft/1ES1927/1200190244/xti/event_cl/src.lc\\n',\n",
       " '/Users/brettlv/src_heasoft/1ES1927/1200190272/xti/event_cl/src.lc\\n',\n",
       " '/Users/brettlv/src_heasoft/1ES1927/1200190273/xti/event_cl/src.lc\\n',\n",
       " '/Users/brettlv/src_heasoft/1ES1927/1200190274/xti/event_cl/src.lc\\n',\n",
       " '/Users/brettlv/src_heasoft/1ES1927/1200190275/xti/event_cl/src.lc\\n',\n",
       " '/Users/brettlv/src_heasoft/1ES1927/1200190277/xti/event_cl/src.lc\\n',\n",
       " '/Users/brettlv/src_heasoft/1ES1927/1200190278/xti/event_cl/src.lc\\n',\n",
       " '/Users/brettlv/src_heasoft/1ES1927/1200190284/xti/event_cl/src.lc\\n']"
      ]
     },
     "execution_count": 269,
     "metadata": {},
     "output_type": "execute_result"
    }
   ],
   "source": [
    "lcs"
   ]
  },
  {
   "cell_type": "code",
   "execution_count": 270,
   "metadata": {
    "ExecuteTime": {
     "end_time": "2019-04-03T01:05:09.948212Z",
     "start_time": "2019-04-03T01:05:09.941508Z"
    },
    "collapsed": false
   },
   "outputs": [
    {
     "data": {
      "text/plain": [
       "24"
      ]
     },
     "execution_count": 270,
     "metadata": {},
     "output_type": "execute_result"
    }
   ],
   "source": [
    "len(lcs)"
   ]
  },
  {
   "cell_type": "code",
   "execution_count": 271,
   "metadata": {
    "ExecuteTime": {
     "end_time": "2019-04-03T01:05:11.034368Z",
     "start_time": "2019-04-03T01:05:11.029718Z"
    },
    "collapsed": false
   },
   "outputs": [
    {
     "data": {
      "text/plain": [
       "'/Users/brettlv/src_heasoft/1ES1927'"
      ]
     },
     "execution_count": 271,
     "metadata": {},
     "output_type": "execute_result"
    }
   ],
   "source": [
    "pwd"
   ]
  },
  {
   "cell_type": "code",
   "execution_count": null,
   "metadata": {
    "ExecuteTime": {
     "end_time": "2019-04-01T20:27:15.569858Z",
     "start_time": "2019-04-01T20:27:15.564872Z"
    },
    "collapsed": true
   },
   "outputs": [],
   "source": []
  },
  {
   "cell_type": "code",
   "execution_count": 107,
   "metadata": {
    "ExecuteTime": {
     "end_time": "2019-04-01T20:35:11.459338Z",
     "start_time": "2019-04-01T20:35:10.439420Z"
    },
    "collapsed": false
   },
   "outputs": [
    {
     "name": "stdout",
     "output_type": "stream",
     "text": [
      "58537.42963175926\n",
      "19.1276\n"
     ]
    }
   ],
   "source": [
    "hdulist=pyfits.open(lcs[4].rstrip())\n",
    "DATEOBS=hdulist[0].header['DATE-OBS']\n",
    "print(starttime)\n",
    "print(np.average(hdulist[1].data['RATE']))\n",
    "plt.scatter(hdulist[1].data['TIME'],hdulist[1].data['RATE'])\n",
    "plt.savefig('1ESlcpic/%s.png'%DATEOBS,dpi=300)"
   ]
  },
  {
   "cell_type": "code",
   "execution_count": null,
   "metadata": {
    "ExecuteTime": {
     "end_time": "2019-04-02T22:40:26.624372Z",
     "start_time": "2019-04-02T22:40:26.476156Z"
    },
    "collapsed": false
   },
   "outputs": [],
   "source": []
  },
  {
   "cell_type": "code",
   "execution_count": 245,
   "metadata": {
    "ExecuteTime": {
     "end_time": "2019-04-02T22:40:30.066152Z",
     "start_time": "2019-04-02T22:40:29.359092Z"
    },
    "collapsed": false
   },
   "outputs": [],
   "source": [
    "rm lcurve.txt\n",
    "times=[]\n",
    "rates=[]\n",
    "for i in lcs:\n",
    "    hdulist=pyfits.open(i.rstrip())\n",
    "    starttime=hdulist[0].header['MJD-OBS']   \n",
    "    #print('{0:<5} {1:<5}'.format(starttime,np.average(hdulist[1].data['RATE'])))                \n",
    "    #time.append(np.float64(starttime)) \n",
    "    with open('lcurve.txt','a') as f:\n",
    "        f.write('{0:<5},{1:<5}\\n'.format(starttime,np.average(hdulist[1].data['RATE'])))\n",
    "    DATEOBS=hdulist[0].header['DATE-OBS']\n",
    "    rates.append(np.average(hdulist[1].data['RATE']))    \n",
    "    #plt.scatter(hdulist[1].data['TIME'],hdulist[1].data['RATE'])\n",
    "    #plt.savefig('1ESlcpic/%s.png'%DATEOBS,dpi=300)\n",
    "    hdulist.close()             "
   ]
  },
  {
   "cell_type": "markdown",
   "metadata": {},
   "source": [
    "os.chdir('/Users/brettlv/Downloads/')\n",
    "os.mkdir('1ESlcpic')"
   ]
  },
  {
   "cell_type": "code",
   "execution_count": 163,
   "metadata": {
    "ExecuteTime": {
     "end_time": "2019-04-01T21:04:46.016105Z",
     "start_time": "2019-04-01T21:04:35.066847Z"
    },
    "collapsed": false
   },
   "outputs": [
    {
     "name": "stderr",
     "output_type": "stream",
     "text": [
      "/Users/brettlv/anaconda3/lib/python3.6/site-packages/matplotlib/pyplot.py:524: RuntimeWarning: More than 20 figures have been opened. Figures created through the pyplot interface (`matplotlib.pyplot.figure`) are retained until explicitly closed and may consume too much memory. (To control this warning, see the rcParam `figure.max_open_warning`).\n",
      "  max_open_warning, RuntimeWarning)\n"
     ]
    }
   ],
   "source": [
    "for i in lcs:\n",
    "    hdulist=pyfits.open(i.rstrip())\n",
    "    DATEOBS=hdulist[0].header['DATE-OBS']\n",
    "    rates.append(np.average(hdulist[1].data['RATE']))    \n",
    "    plt.figure()\n",
    "    plt.scatter(hdulist[1].data['TIME'],hdulist[1].data['RATE'])\n",
    "    plt.savefig('1ESlcpic/%s.png'%DATEOBS,dpi=300)\n",
    "    hdulist.close()             "
   ]
  },
  {
   "cell_type": "code",
   "execution_count": null,
   "metadata": {
    "collapsed": true
   },
   "outputs": [],
   "source": []
  },
  {
   "cell_type": "code",
   "execution_count": 246,
   "metadata": {
    "ExecuteTime": {
     "end_time": "2019-04-02T22:40:33.074620Z",
     "start_time": "2019-04-02T22:40:32.922334Z"
    },
    "collapsed": false
   },
   "outputs": [
    {
     "name": "stdout",
     "output_type": "stream",
     "text": [
      "58262.03144888889,8.20703125\r\n",
      "58262.99639101852,18.850852966308594\r\n",
      "58264.9903725,26.693632125854492\r\n",
      "58266.01951601852,8.982115745544434\r\n",
      "58267.04863638888,19.127552032470703\r\n",
      "58291.98747898148,3.079279661178589\r\n",
      "58293.14587018518,10.779623985290527\r\n",
      "58296.04838175926,5.488863468170166\r\n",
      "58297.01618268518,5.172883033752441\r\n",
      "58347.31030305556,7.663390159606934\r\n",
      "58375.40024518518,18.342472076416016\r\n",
      "58404.02788407407,51.44435119628906\r\n",
      "58434.05524518518,40.76781463623047\r\n",
      "58437.14043037037,18.56334686279297\r\n",
      "58456.19332388889,11.089228630065918\r\n",
      "58464.74477064815,84.49376678466797\r\n",
      "58477.01652990741,53.50965118408203\r\n",
      "58518.05409935185,62.271202087402344\r\n",
      "58519.01715490741,77.35588836669922\r\n",
      "58520.04463175926,96.9146499633789\r\n",
      "58521.46015259259,136.74937438964844\r\n",
      "58523.13750212963,83.61034393310547\r\n",
      "58524.03750212963,110.20709228515625\r\n",
      "58537.42963175926,47.022945404052734\r\n"
     ]
    }
   ],
   "source": [
    "cat lcurve.txt"
   ]
  },
  {
   "cell_type": "code",
   "execution_count": 247,
   "metadata": {
    "ExecuteTime": {
     "end_time": "2019-04-02T22:40:36.526314Z",
     "start_time": "2019-04-02T22:40:36.518701Z"
    },
    "collapsed": false
   },
   "outputs": [],
   "source": [
    "lcurve=np.loadtxt('lcurve.txt',delimiter=',',dtype=np.str)"
   ]
  },
  {
   "cell_type": "code",
   "execution_count": 248,
   "metadata": {
    "ExecuteTime": {
     "end_time": "2019-04-02T22:40:39.428254Z",
     "start_time": "2019-04-02T22:40:39.421445Z"
    },
    "collapsed": false
   },
   "outputs": [
    {
     "data": {
      "text/plain": [
       "array([['58262.03144888889', '8.20703125'],\n",
       "       ['58262.99639101852', '18.850852966308594'],\n",
       "       ['58264.9903725', '26.693632125854492'],\n",
       "       ['58266.01951601852', '8.982115745544434'],\n",
       "       ['58267.04863638888', '19.127552032470703'],\n",
       "       ['58291.98747898148', '3.079279661178589'],\n",
       "       ['58293.14587018518', '10.779623985290527'],\n",
       "       ['58296.04838175926', '5.488863468170166'],\n",
       "       ['58297.01618268518', '5.172883033752441'],\n",
       "       ['58347.31030305556', '7.663390159606934'],\n",
       "       ['58375.40024518518', '18.342472076416016'],\n",
       "       ['58404.02788407407', '51.44435119628906'],\n",
       "       ['58434.05524518518', '40.76781463623047'],\n",
       "       ['58437.14043037037', '18.56334686279297'],\n",
       "       ['58456.19332388889', '11.089228630065918'],\n",
       "       ['58464.74477064815', '84.49376678466797'],\n",
       "       ['58477.01652990741', '53.50965118408203'],\n",
       "       ['58518.05409935185', '62.271202087402344'],\n",
       "       ['58519.01715490741', '77.35588836669922'],\n",
       "       ['58520.04463175926', '96.9146499633789'],\n",
       "       ['58521.46015259259', '136.74937438964844'],\n",
       "       ['58523.13750212963', '83.61034393310547'],\n",
       "       ['58524.03750212963', '110.20709228515625'],\n",
       "       ['58537.42963175926', '47.022945404052734']],\n",
       "      dtype='<U18')"
      ]
     },
     "execution_count": 248,
     "metadata": {},
     "output_type": "execute_result"
    }
   ],
   "source": [
    "lcurve"
   ]
  },
  {
   "cell_type": "code",
   "execution_count": 249,
   "metadata": {
    "ExecuteTime": {
     "end_time": "2019-04-02T22:40:48.552446Z",
     "start_time": "2019-04-02T22:40:48.313458Z"
    },
    "collapsed": false
   },
   "outputs": [
    {
     "data": {
      "image/png": "[encoded data removed]",
      "text/plain": [
       "<matplotlib.figure.Figure at 0x123bf4828>"
      ]
     },
     "metadata": {},
     "output_type": "display_data"
    }
   ],
   "source": [
    "plt.figure()\n",
    "plt.scatter(lcurve[:,0],lcurve[:,1])\n",
    "plt.title('1ES1927')\n",
    "plt.xlabel('MJD')\n",
    "plt.ylabel('rate')\n",
    "#plt.savefig('/Users/brettlv/blog/IHEP_sync/Photos/1ES1927lc.png',dpi=300)\n",
    "plt.show()"
   ]
  },
  {
   "cell_type": "code",
   "execution_count": 423,
   "metadata": {
    "ExecuteTime": {
     "end_time": "2019-04-03T09:29:17.569765Z",
     "start_time": "2019-04-03T09:29:17.538154Z"
    },
    "collapsed": false
   },
   "outputs": [],
   "source": [
    "hdulist=pyfits.open('/Users/brettlv/src_heasoft/1ES1927/1200190103/xti/event_cl/src.pha')\n",
    "#hdulist=pyfits.open('/Users/brettlv/src_heasoft/1ES1927/1200190277/xti/event_cl/src.lc')\n",
    "#hdulist=pyfits.open('/Users/brettlv/src_heasoft/1ES1927/1200190132/xti/event_cl/src.lc')"
   ]
  },
  {
   "cell_type": "code",
   "execution_count": 424,
   "metadata": {
    "ExecuteTime": {
     "end_time": "2019-04-03T09:29:18.470879Z",
     "start_time": "2019-04-03T09:29:18.460834Z"
    },
    "collapsed": false
   },
   "outputs": [
    {
     "name": "stdout",
     "output_type": "stream",
     "text": [
      "Filename: /Users/brettlv/src_heasoft/1ES1927/1200190103/xti/event_cl/src.pha\n",
      "No.    Name         Type      Cards   Dimensions   Format\n",
      "0    PRIMARY     PrimaryHDU     251   ()              \n",
      "1    SPECTRUM    BinTableHDU    251   1501R x 2C   [J, J]   \n",
      "2    GTI         BinTableHDU     50   47R x 2C     [1D, 1D]   \n"
     ]
    }
   ],
   "source": [
    "hdulist.info()"
   ]
  },
  {
   "cell_type": "code",
   "execution_count": 58,
   "metadata": {
    "ExecuteTime": {
     "end_time": "2019-04-01T19:46:17.127728Z",
     "start_time": "2019-04-01T19:46:17.105146Z"
    },
    "collapsed": false
   },
   "outputs": [
    {
     "data": {
      "text/plain": [
       "array([  0.,  16.,  32.])"
      ]
     },
     "execution_count": 58,
     "metadata": {},
     "output_type": "execute_result"
    }
   ],
   "source": [
    "hdulist[1].data['TIME'][:3]"
   ]
  },
  {
   "cell_type": "code",
   "execution_count": 67,
   "metadata": {
    "ExecuteTime": {
     "end_time": "2019-04-01T20:15:22.357614Z",
     "start_time": "2019-04-01T20:15:22.352172Z"
    },
    "collapsed": false
   },
   "outputs": [
    {
     "data": {
      "text/plain": [
       "SIMPLE  =                    T / file does conform to FITS standard             \n",
       "BITPIX  =                   32 / number of bits per data pixel                  \n",
       "NAXIS   =                    0 / number of data axes                            \n",
       "EXTEND  =                    T / FITS dataset may contain extensions            \n",
       "COMMENT   FITS (Flexible Image Transport System) format is defined in 'Astronomy\n",
       "COMMENT   and Astrophysics', volume 376, page 359; bibcode: 2001A&A...376..359H \n",
       "TELESCOP= 'NICER   '           / Telescope (mission) name                       \n",
       "DATAMODE= 'PHOTON  '           / Datamode                                       \n",
       "DETNAM  = 'NONE    '           / Detector                                       \n",
       "INSTRUME= 'XTI     '           / Instrument name                                \n",
       "OBJECT  = 'ASASSN-18el'        / Name of observed object                        \n",
       "ONTIME  = 1.457700000000000E+04 / On-source time                                \n",
       "EXPOSURE= 1.457700000000000E+04 / Exposure time                                 \n",
       "LIVETIME= 1.457700000000000E+04 / On-source time                                \n",
       "DATE-OBS= '2018-05-24T00:41:20' / Start date of observations                    \n",
       "DATE-END= '2018-05-24T22:36:13' / End date of observations                      \n",
       "TSTART  = 1.385882500000000E+08 / time start                                    \n",
       "TSTOP   = 1.386669740000000E+08 / time stop                                     \n",
       "TELAPSE = 7.872400000000000E+04 / elapsed time                                  \n",
       "MJD-OBS = 5.826203144888889E+04 / MJD of data start time                        \n",
       "MJDREFI =                56658 / MJD reference day                              \n",
       "MJDREFF = 7.775925925925930E-04 / MJD reference (fraction of day)               \n",
       "TIMEREF = 'LOCAL   '           / reference time                                 \n",
       "TIMESYS = 'TT      '           / time measured from                             \n",
       "TIMEUNIT= 's       '           / unit for time keywords                         \n",
       "EQUINOX =            2.000E+03 / Equinox of celestial coord system              \n",
       "RADECSYS= 'FK5     '           / celestial coord system                         \n",
       "USER    = 'brett   '           / User name of creator                           \n",
       "FILIN001= 'ni1200190103_0mpu7_cl.evt' / Input file name                         \n",
       "CREATOR = 'extractor v5.35'    / Extractor version                              \n",
       "DATE    = '2019-03-31T00:38:52' / file creation date (YYYY-MM-DDThh:mm:ss UT)   \n",
       "ORIGIN  = 'NASA/GSFC'          / origin of fits file                            \n",
       "TIMEDEL = 1.600000000000000E+01 / Binning factor                                \n",
       "HISTORY extractor v5.35                                                         \n",
       "CHECKSUM= 'mjSFphSFmhSFmhSF'   / HDU checksum updated 2019-03-31T00:38:52       \n",
       "DATASUM = '         0'         / data unit checksum updated 2019-03-31T00:38:52 "
      ]
     },
     "execution_count": 67,
     "metadata": {},
     "output_type": "execute_result"
    }
   ],
   "source": [
    "hdulist[0].header"
   ]
  },
  {
   "cell_type": "code",
   "execution_count": 59,
   "metadata": {
    "ExecuteTime": {
     "end_time": "2019-04-01T19:46:18.121146Z",
     "start_time": "2019-04-01T19:46:17.933144Z"
    },
    "collapsed": false
   },
   "outputs": [
    {
     "data": {
      "image/png": "[encoded data removed]",
      "text/plain": [
       "<matplotlib.figure.Figure at 0x137acd438>"
      ]
     },
     "metadata": {},
     "output_type": "display_data"
    }
   ],
   "source": [
    "plt.plot(hdulist[1].data['TIME'],hdulist[1].data['RATE'])\n",
    "plt.show()"
   ]
  },
  {
   "cell_type": "code",
   "execution_count": 63,
   "metadata": {
    "ExecuteTime": {
     "end_time": "2019-04-01T19:49:22.106881Z",
     "start_time": "2019-04-01T19:49:22.102953Z"
    },
    "collapsed": false
   },
   "outputs": [],
   "source": [
    "import numpy as np\n",
    "time=hdulist[0].header['MJD-OBS']\n",
    "ratebar=np.average(hdulist[1].data['RATE'])"
   ]
  },
  {
   "cell_type": "code",
   "execution_count": null,
   "metadata": {
    "collapsed": true
   },
   "outputs": [],
   "source": []
  },
  {
   "cell_type": "code",
   "execution_count": null,
   "metadata": {
    "collapsed": true
   },
   "outputs": [],
   "source": []
  },
  {
   "cell_type": "code",
   "execution_count": null,
   "metadata": {
    "collapsed": true
   },
   "outputs": [],
   "source": []
  },
  {
   "cell_type": "code",
   "execution_count": null,
   "metadata": {
    "collapsed": true
   },
   "outputs": [],
   "source": []
  }
 ],
 "metadata": {
  "kernelspec": {
   "display_name": "Python 3",
   "language": "python",
   "name": "python3"
  },
  "language_info": {
   "codemirror_mode": {
    "name": "ipython",
    "version": 3
   },
   "file_extension": ".py",
   "mimetype": "text/x-python",
   "name": "python",
   "nbconvert_exporter": "python",
   "pygments_lexer": "ipython3",
   "version": "3.6.0"
  },
  "latex_envs": {
   "LaTeX_envs_menu_present": true,
   "autocomplete": true,
   "bibliofile": "biblio.bib",
   "cite_by": "apalike",
   "current_citInitial": 1,
   "eqLabelWithNumbers": true,
   "eqNumInitial": 1,
   "hotkeys": {
    "equation": "Ctrl-E",
    "itemize": "Ctrl-I"
   },
   "labels_anchors": false,
   "latex_user_defs": false,
   "report_style_numbering": false,
   "user_envs_cfg": false
  },
  "toc": {
   "nav_menu": {},
   "number_sections": true,
   "sideBar": true,
   "skip_h1_title": false,
   "toc_cell": false,
   "toc_position": {},
   "toc_section_display": "block",
   "toc_window_display": false
  }
 },
 "nbformat": 4,
 "nbformat_minor": 2
}
