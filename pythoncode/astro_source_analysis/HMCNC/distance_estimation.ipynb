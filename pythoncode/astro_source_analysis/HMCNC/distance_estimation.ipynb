{
 "cells": [
  {
   "cell_type": "code",
   "execution_count": null,
   "metadata": {
    "collapsed": true
   },
   "outputs": [],
   "source": [
    "# 1,l,o,O,0,z,Z,2,I,i,l1l1l1好的。。。....\n",
    "# test "
   ]
  },
  {
   "cell_type": "code",
   "execution_count": 5,
   "metadata": {
    "ExecuteTime": {
     "end_time": "2018-09-13T09:26:03.559334Z",
     "start_time": "2018-09-13T09:26:01.004478Z"
    },
    "collapsed": true
   },
   "outputs": [],
   "source": [
    "%matplotlib inline\n",
    "%config InlineBackend.figure_format='svg'\n",
    "#%config InlineBackend.figure_format='retina'\n",
    "\n",
    "import matplotlib.pyplot as plt\n",
    "import numpy as np\n",
    "import pandas as pd\n",
    "from astropy.stats import LombScargle\n",
    "plt.style.use('seaborn-whitegrid')\n",
    "\n",
    "from scipy import integrate\n",
    "import astropy\n",
    "from astropy.time import Time\n",
    "\n",
    "import pyfits\n",
    "%matplotlib inline\n",
    "import matplotlib.pyplot as plt\n",
    "import numpy as np\n",
    "import pandas as pd\n",
    "from astropy.stats import LombScargle\n",
    "import matplotlib.ticker as ticker\n",
    "\n",
    "import numpy as np\n",
    "from numpy import cov,corrcoef\n",
    "import matplotlib.pyplot as plt\n",
    "import astropy.units as u\n",
    "from scipy.optimize import curve_fit\n",
    "import scipy\n",
    "import scipy.stats as stats\n",
    "import pandas as pd\n",
    "import sklearn\n",
    "from sklearn import linear_model\n",
    "from sklearn.linear_model import LinearRegression"
   ]
  },
  {
   "cell_type": "code",
   "execution_count": 33,
   "metadata": {
    "ExecuteTime": {
     "end_time": "2018-09-13T09:46:52.076572Z",
     "start_time": "2018-09-13T09:46:52.065662Z"
    },
    "collapsed": false
   },
   "outputs": [
    {
     "name": "stdout",
     "output_type": "stream",
     "text": [
      "0.098 0.00961116777496 0.316634716206\n",
      "0.099 0.00773452095829 0.318511363023\n",
      "0.1 0.00586631315585 0.320379570825\n",
      "0.101 0.00400643014955 0.322239453832\n",
      "0.102 0.00215476039558 0.324091123586\n",
      "0.103 0.000311194935947 0.325934689045\n"
     ]
    }
   ],
   "source": [
    "M1=1.3\n",
    "chirpmass_gw=(2.7*10**16*3.67*10**-16*3.11**(-11/3))**(3/5)\n",
    "min0=0.01\n",
    "\n",
    "for q in np.arange(1000)/1000:\n",
    "    M2=M1*q\n",
    "    chirpmass=(M1*M2)**0.6/(M1+M2)**0.2#solar mass\n",
    "    if abs(chirpmass-chirpmass_gw)<min0:\n",
    "        min0=abs(chirpmass-chirpmass_gw)\n",
    "        print(q,min0,chirpmass)\n"
   ]
  },
  {
   "cell_type": "code",
   "execution_count": 75,
   "metadata": {
    "ExecuteTime": {
     "end_time": "2018-09-23T15:51:49.561676Z",
     "start_time": "2018-09-23T15:51:49.328014Z"
    },
    "collapsed": false
   },
   "outputs": [
    {
     "name": "stdout",
     "output_type": "stream",
     "text": [
      "chirpmass 1.13114970458\n",
      "chirpmassgw 0.3262458839811805\n",
      "chirpmassgw 0.32639026470769567\n",
      "chirpmassgw 0.3263902647076956\n",
      "mu_mass 0.05 0.05\n",
      "nu,P,mudot 0.003110419906687403 321.5 3.67e-16\n",
      "M1,R1,R1/r_sun: 0.55 7364712.354255161 0.010576924248535347\n",
      "M2,R2,R2/r_sun: 0.05500000000000001 15866791.7781137 0.02278729251488396\n",
      "\n",
      "a_orbit,q: 59562256.247392714 0.1\n",
      "R2/a,a/r_sun,R2/r_sun: 0.2663900392256926 0.08554108322187666 0.02278729251488396\n",
      "mudot_orbit 2.912756728152405e-15\n",
      "mudot_bygw 8.469372753735681e-17\n",
      "mudot_obs_orbit 3.67e-16\n",
      "mass_rate: 1.8664641337664913e-08 Msun/yr\n",
      "\n",
      "27000 9494.149987919747 K\n",
      "0.3516351847377684\n",
      "L_acc 1.1792496812837983e+35\n",
      "Lbol 2.053951549353964e+32 2.0539515493539644e+32\n",
      "L_gw 1.231905640171238e+34\n",
      "\n",
      "mudotdot_orbit 1.56362323147e-26\n",
      "mudotdot_puregw 1.5877588283333333e-28\n"
     ]
    }
   ],
   "source": [
    "import math\n",
    "from scipy.optimize import bisect\n",
    "from scipy.optimize import brentq\n",
    "from scipy.optimize import brenth\n",
    "import numpy as np\n",
    "\n",
    "M0=0.8#solar mass\n",
    "R0=6500000#m\n",
    "\n",
    "\n",
    "M1=0.55#solar mass\n",
    "R1=R0*(M1/M0)**(-1/3)\n",
    "\n",
    "forb=1/321.5\n",
    "fdorb=3.67*10**-16\n",
    "fgw=2/321.5\n",
    "fdgw=2*3.67*10**-16\n",
    "\n",
    "\n",
    "#chirpmass=(M1*M2)**0.6/(M1+M2)**0.2#solar mass\n",
    "chirpmass_gw=(2.7*10**16*3.67*10**-16*3.11**(-11/3))**(3/5)\n",
    "chirpmass_gw1=(5*fdgw/96/(np.pi**(8/3))*c**5/G**(5/3)/fgw**(11/3))**(3/5)/msun\n",
    "chirpmass_gw2=(5*fdorb/96/((2*np.pi)**(8/3))*c**5/G**(5/3)/forb**(11/3))**(3/5)/msun\n",
    "\n",
    "M2=M1*q\n",
    "R2=R1*(M2/M1)**(-1/3)\n",
    "\n",
    "\n",
    "print(\"chirpmass\",chirpmass)\n",
    "print(\"chirpmassgw\",chirpmass_gw)\n",
    "print(\"chirpmassgw\",chirpmass_gw1)\n",
    "print(\"chirpmassgw\",chirpmass_gw2)\n",
    "\n",
    "mu_mass=M1*q/(1+q)#solar mass reduced mass\n",
    "mu_mass1=M1*M2/(M1+M2)\n",
    "print(\"mu_mass\",mu_mass,mu_mass1)\n",
    "\n",
    "\n",
    "G=6.67*10**-11#m3 / (kg s2)\n",
    "k=1.38*10**-23#J/K\n",
    "h=6.626*10**-34#J*s\n",
    "\n",
    "P=321.5#s obs orbit period\n",
    "nu=1/P#s-1 obs orbit frequency\n",
    "Pdot=3.72*10**-11# *-1\n",
    "mudot=3.67*10**-16#obs mudot\n",
    "msun=2*10**30#kg\n",
    "r_sun=6.963*10**8#m\n",
    "l_sun=3.828*10**33#erg/s\n",
    "c=3*10**8#m\n",
    "\n",
    "a_orbit=(G*(M1+M2)*msun/(4*np.pi**2*nu**2))**(1/3)#Kepler's third law\n",
    "mudot_orbit=(2*np.pi)**(8/3)*96*0.2*(G*chirpmass*msun/c**3)**(5/3)*nu**(11/3)#Eq3.189\n",
    "mudot_bygw=1.64*10**(-17)*(nu*1000)**5*mu_mass*(a_orbit*10**-8)**2 # Strohmayer2003 from Taylor&Weusberg1989\n",
    "\n",
    "mass_rate=2*np.pi*mudot/5*(M1*msun*R1**3/G)**0.5 #kgs-1 Strohmayer2005\n",
    "mass_rate_s=mass_rate/msun*365*86400\n",
    "print(\"nu,P,mudot\",nu,P,mudot)\n",
    "print(\"M1,R1,R1/r_sun:\",M1,R1,R1/r_sun)\n",
    "print(\"M2,R2,R2/r_sun:\",M2,R2,R2/r_sun)\n",
    "print()\n",
    "\n",
    "\n",
    "\n",
    "print(\"a_orbit,q:\",a_orbit,q)\n",
    "print(\"R2/a,a/r_sun,R2/r_sun:\",R2/a_orbit,a_orbit/r_sun,R2/r_sun)\n",
    "\n",
    "print(\"mudot_orbit\",mudot_orbit)\n",
    "print(\"mudot_bygw\",mudot_bygw)\n",
    "print(\"mudot_obs_orbit\",mudot)\n",
    "print(\"mass_rate:\",mass_rate_s,\"Msun/yr\")\n",
    "\n",
    "\n",
    "print()\n",
    "T1=27000#K \n",
    "#T1=32400#K\n",
    "Tirr=T1*(R1/a_orbit)**0.5\n",
    "#T1=10**6*0.5\n",
    "#Tirr=(0.12*2*R1**2/R2**2*T1**4)**0.25\n",
    "print(T1,Tirr,\"K\")\n",
    "print(Tirr/T1)\n",
    "\n",
    "sigma=5.6704*10**-5# Stefan-Boltzmann constant erg cm-2s-1K-4\n",
    "Lbol=4*np.pi*(a_orbit*100)**2*sigma*Tirr**4#erg/s\n",
    "Lbol1=4*np.pi*(R1*100)**2*sigma*T1**4#erg/s\n",
    "L_acc=G*M1*msun*mass_rate/R1*10**7#erg/s\n",
    "print(\"L_acc\",L_acc)\n",
    "print(\"Lbol\",Lbol,Lbol1)\n",
    "L_gw=32/5*G**4/a_orbit**5/c**5*(M1**2*M2**2*(M1+M2)*msun**5)*10**7# erg/s # Strohmayer2005\n",
    "print(\"L_gw\",L_gw)\n",
    "\n",
    "print()\n",
    "mudotdot_orbit=4.95*10**(-30)*(nu*1000)**(19/3)*(chirpmass/0.871)**(10/3)#For GW emission alone\n",
    "print(\"mudotdot_orbit\",mudotdot_orbit)\n",
    "mudotdot_puregw=11/3*mudot**2/nu\n",
    "print(\"mudotdot_puregw\",mudotdot_puregw)\n",
    "\n"
   ]
  },
  {
   "cell_type": "code",
   "execution_count": 20,
   "metadata": {
    "ExecuteTime": {
     "end_time": "2018-09-10T15:54:58.376644Z",
     "start_time": "2018-09-10T15:54:58.348720Z"
    },
    "collapsed": false
   },
   "outputs": [
    {
     "name": "stdout",
     "output_type": "stream",
     "text": [
      "3.5595517418278423e+21 2.0539515493539633e+32 1.29e-12 1153.5721644966177\n"
     ]
    }
   ],
   "source": [
    "flux=1.29*10**-12#ergcm-2s-1\n",
    "d=(Lbol/flux/4/np.pi)**0.5 #cm\n",
    "d_pc=d/3.08567756/10**18\n",
    "print(d,Lbol,flux,d_pc)"
   ]
  },
  {
   "cell_type": "code",
   "execution_count": 30,
   "metadata": {
    "ExecuteTime": {
     "end_time": "2018-09-13T09:39:58.514248Z",
     "start_time": "2018-09-13T09:39:58.501446Z"
    },
    "collapsed": false
   },
   "outputs": [
    {
     "data": {
      "text/plain": [
       "<matplotlib.figure.Figure at 0x111a165c0>"
      ]
     },
     "metadata": {},
     "output_type": "display_data"
    }
   ],
   "source": [
    "fig=plt.figure(figsize=(8,6))\n",
    "wavelength=[3500,4800,6250,7650,2600,1928]\n",
    "fraction=[11.9,12.7,13.5,14.8,13,7.4]\n",
    "        \n",
    "k=1.38*10**-23#J/K\n",
    "h=6.626*10**-34#J*s\n",
    "c=3*10**8#m\n",
    "#Tirr=27000#K\n",
    "\n",
    "def Blamda(lamdawave,Tirr):\n",
    "    blamda=2*h*c**2*lamdawave**(-5)*(np.e**(h*c/lamdawave/k/Tirr)-1)**-1\n",
    "    return blamda #W*sr**-1*m**-3~0.1*erg/s*sr**-1*cm**-3\n",
    "\n"
   ]
  },
  {
   "cell_type": "code",
   "execution_count": 14,
   "metadata": {
    "ExecuteTime": {
     "end_time": "2018-09-10T15:50:07.534107Z",
     "start_time": "2018-09-10T15:50:07.504339Z"
    },
    "collapsed": false
   },
   "outputs": [
    {
     "data": {
      "text/plain": [
       "749999.9999999999"
      ]
     },
     "execution_count": 14,
     "metadata": {},
     "output_type": "execute_result"
    }
   ],
   "source": [
    "11605*65 #K\n",
    "1/0.026*300*65"
   ]
  },
  {
   "cell_type": "code",
   "execution_count": null,
   "metadata": {
    "ExecuteTime": {
     "end_time": "2018-09-13T09:47:16.834621Z",
     "start_time": "2018-09-13T09:47:15.859535Z"
    },
    "collapsed": false,
    "scrolled": true
   },
   "outputs": [],
   "source": []
  },
  {
   "cell_type": "code",
   "execution_count": 95,
   "metadata": {
    "ExecuteTime": {
     "end_time": "2018-09-27T10:41:40.661469Z",
     "start_time": "2018-09-27T10:41:40.614653Z"
    },
    "collapsed": false
   },
   "outputs": [
    {
     "name": "stdout",
     "output_type": "stream",
     "text": [
      "0.22186144769995308 0.23636363636363636\n",
      "fddgw 6.849096541835947e-29\n"
     ]
    }
   ],
   "source": [
    "M1=0.55\n",
    "M2=0.13\n",
    "q=M2/M1\n",
    "Mchirp=(M1*M2)**0.6/(M1+M2)**0.2\n",
    "print(Mchirp,q)\n",
    "print('fddgw',4.95*10**-30*3.11**(19/3.0)*(Mchirp/0.871)**(10/3.0))\n"
   ]
  },
  {
   "cell_type": "code",
   "execution_count": 89,
   "metadata": {
    "ExecuteTime": {
     "end_time": "2018-09-25T15:02:39.692828Z",
     "start_time": "2018-09-25T15:02:39.685945Z"
    },
    "collapsed": false
   },
   "outputs": [
    {
     "name": "stdout",
     "output_type": "stream",
     "text": [
      "0.3313394154415029 0.4909090909090909\n",
      "fddgw 2.6077792086978403e-28\n"
     ]
    }
   ],
   "source": [
    "M1=0.55\n",
    "M2=0.27\n",
    "q=M2/M1\n",
    "Mchirp=(M1*M2)**0.6/(M1+M2)**0.2\n",
    "print(Mchirp,q)\n",
    "print('fddgw',4.95*10**-30*3.11**(19/3.0)*(Mchirp/0.871)**(10/3.0))\n"
   ]
  },
  {
   "cell_type": "code",
   "execution_count": 99,
   "metadata": {
    "ExecuteTime": {
     "end_time": "2018-09-27T10:44:48.145989Z",
     "start_time": "2018-09-27T10:44:48.139098Z"
    },
    "collapsed": false
   },
   "outputs": [
    {
     "name": "stdout",
     "output_type": "stream",
     "text": [
      "0.2609296392717039 0.1625\n",
      "fddgw 1.1760844982048782e-28\n"
     ]
    }
   ],
   "source": [
    "M1=0.8\n",
    "M2=0.13\n",
    "q=M2/M1\n",
    "Mchirp=(M1*M2)**0.6/(M1+M2)**0.2\n",
    "print(Mchirp,q)\n",
    "print('fddgw',4.95*10**-30*3.11**(19/3.0)*(Mchirp/0.871)**(10/3.0))\n"
   ]
  },
  {
   "cell_type": "code",
   "execution_count": 98,
   "metadata": {
    "ExecuteTime": {
     "end_time": "2018-09-27T10:43:58.707401Z",
     "start_time": "2018-09-27T10:43:58.672447Z"
    },
    "collapsed": false
   },
   "outputs": [
    {
     "name": "stdout",
     "output_type": "stream",
     "text": [
      "0.5475279077038852 0.5\n",
      "fddgw 1.3911736617705325e-27\n",
      "0.26201986523859633 0.13333333333333333\n",
      "fddgw 1.1925443592908224e-28\n",
      "0.4514195865691608 0.75\n",
      "fddgw 7.310747902863572e-28\n",
      "0.22025866295099122 0.2\n",
      "fddgw 6.685550002417687e-29\n"
     ]
    }
   ],
   "source": [
    "M1=0.9\n",
    "M2=0.45\n",
    "q=M2/M1\n",
    "Mchirp=(M1*M2)**0.6/(M1+M2)**0.2\n",
    "print(Mchirp,q)\n",
    "print('fddgw',4.95*10**-30*3.11**(19/3.0)*(Mchirp/0.871)**(10/3.0))\n",
    "\n",
    "M1=0.9\n",
    "M2=0.12\n",
    "q=M2/M1\n",
    "Mchirp=(M1*M2)**0.6/(M1+M2)**0.2\n",
    "print(Mchirp,q)\n",
    "print('fddgw',4.95*10**-30*3.11**(19/3.0)*(Mchirp/0.871)**(10/3.0))\n",
    "\n",
    "M1=0.6\n",
    "M2=0.45\n",
    "q=M2/M1\n",
    "Mchirp=(M1*M2)**0.6/(M1+M2)**0.2\n",
    "print(Mchirp,q)\n",
    "print('fddgw',4.95*10**-30*3.11**(19/3.0)*(Mchirp/0.871)**(10/3.0))\n",
    "\n",
    "M1=0.6\n",
    "M2=0.12\n",
    "q=M2/M1\n",
    "Mchirp=(M1*M2)**0.6/(M1+M2)**0.2\n",
    "print(Mchirp,q)\n",
    "print('fddgw',4.95*10**-30*3.11**(19/3.0)*(Mchirp/0.871)**(10/3.0))"
   ]
  },
  {
   "cell_type": "code",
   "execution_count": 86,
   "metadata": {
    "ExecuteTime": {
     "end_time": "2018-09-25T14:56:12.046683Z",
     "start_time": "2018-09-25T14:56:12.041168Z"
    },
    "collapsed": false
   },
   "outputs": [
    {
     "name": "stdout",
     "output_type": "stream",
     "text": [
      "fddgw 2.470315820089071e-28\n"
     ]
    }
   ],
   "source": [
    "Mchirp=0.326\n",
    "print('fddgw',4.95*10**-30*3.11**(19/3.0)*(Mchirp/0.871)**(10/3.0))\n"
   ]
  },
  {
   "cell_type": "code",
   "execution_count": 78,
   "metadata": {
    "ExecuteTime": {
     "end_time": "2018-09-23T15:55:31.913528Z",
     "start_time": "2018-09-23T15:55:31.901594Z"
    },
    "collapsed": false
   },
   "outputs": [
    {
     "name": "stdout",
     "output_type": "stream",
     "text": [
      "fddorb 1.4434171166666665e-28\n",
      "\n",
      "fddorb 1.5877588283333333e-28\n",
      "fddorb 1.5877588283333333e-28\n",
      "fddgw 3.1755176566666666e-28\n"
     ]
    }
   ],
   "source": [
    "forb=1/321.5\n",
    "fdorb=3.67*10**-16\n",
    "fgw=2/321.5\n",
    "fdgw=2*3.67*10**-16\n",
    "print(\"fddorb\",5/3*(fdgw)**2/fgw)\n",
    "print()\n",
    "print(\"fddorb\",11/3*(fdorb)**2/forb)\n",
    "print(\"fddorb\",11/3*(fdgw)**2/fgw/2)\n",
    "print(\"fddgw\",11/3*(fdgw)**2/fgw)\n"
   ]
  },
  {
   "cell_type": "code",
   "execution_count": 90,
   "metadata": {
    "ExecuteTime": {
     "end_time": "2018-09-26T20:34:14.417574Z",
     "start_time": "2018-09-26T20:34:14.390293Z"
    },
    "collapsed": false
   },
   "outputs": [
    {
     "data": {
      "text/plain": [
       "3.822916666666667e-17"
      ]
     },
     "execution_count": 90,
     "metadata": {},
     "output_type": "execute_result"
    }
   ],
   "source": [
    "fdgw*5/96\n"
   ]
  },
  {
   "cell_type": "code",
   "execution_count": null,
   "metadata": {
    "collapsed": true
   },
   "outputs": [],
   "source": [
    "1.6726231 × 10(-27) kg／9.109×10^-31kg\n",
    "\n",
    "\n"
   ]
  },
  {
   "cell_type": "code",
   "execution_count": 94,
   "metadata": {
    "ExecuteTime": {
     "end_time": "2018-09-26T20:35:26.132993Z",
     "start_time": "2018-09-26T20:35:26.126508Z"
    },
    "collapsed": false
   },
   "outputs": [
    {
     "data": {
      "text/plain": [
       "1836.2313096937098"
      ]
     },
     "execution_count": 94,
     "metadata": {},
     "output_type": "execute_result"
    }
   ],
   "source": [
    "1.6726231e-27/9.109e-31"
   ]
  },
  {
   "cell_type": "code",
   "execution_count": null,
   "metadata": {
    "ExecuteTime": {
     "start_time": "2018-10-05T08:02:35.190Z"
    },
    "collapsed": true
   },
   "outputs": [],
   "source": [
    "\n"
   ]
  },
  {
   "cell_type": "code",
   "execution_count": null,
   "metadata": {
    "collapsed": true
   },
   "outputs": [],
   "source": []
  }
 ],
 "metadata": {
  "kernelspec": {
   "display_name": "Python 3",
   "language": "python",
   "name": "python3"
  },
  "language_info": {
   "codemirror_mode": {
    "name": "ipython",
    "version": 3
   },
   "file_extension": ".py",
   "mimetype": "text/x-python",
   "name": "python",
   "nbconvert_exporter": "python",
   "pygments_lexer": "ipython3",
   "version": "3.6.0"
  },
  "latex_envs": {
   "LaTeX_envs_menu_present": true,
   "autocomplete": true,
   "bibliofile": "biblio.bib",
   "cite_by": "apalike",
   "current_citInitial": 1,
   "eqLabelWithNumbers": true,
   "eqNumInitial": 1,
   "hotkeys": {
    "equation": "Ctrl-E",
    "itemize": "Ctrl-I"
   },
   "labels_anchors": false,
   "latex_user_defs": false,
   "report_style_numbering": false,
   "user_envs_cfg": false
  },
  "toc": {
   "nav_menu": {},
   "number_sections": true,
   "sideBar": true,
   "skip_h1_title": false,
   "toc_cell": false,
   "toc_position": {},
   "toc_section_display": "block",
   "toc_window_display": false
  }
 },
 "nbformat": 4,
 "nbformat_minor": 2
}
