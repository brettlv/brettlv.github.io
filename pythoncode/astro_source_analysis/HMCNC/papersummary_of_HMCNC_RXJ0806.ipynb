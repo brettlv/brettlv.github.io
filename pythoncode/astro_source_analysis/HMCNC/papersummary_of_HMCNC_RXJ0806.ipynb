{
 "cells": [
  {
   "cell_type": "markdown",
   "metadata": {},
   "source": []
  },
  {
   "cell_type": "markdown",
   "metadata": {},
   "source": [
    "<font  color=black size=\"5\" >Paper Summary </font> "
   ]
  },
  {
   "cell_type": "markdown",
   "metadata": {
    "ExecuteTime": {
     "end_time": "2018-08-15T17:06:23.751246Z",
     "start_time": "2018-08-15T17:06:23.603040Z"
    }
   },
   "source": [
    "RXJ0806+1527"
   ]
  },
  {
   "cell_type": "code",
   "execution_count": 1,
   "metadata": {
    "ExecuteTime": {
     "end_time": "2018-09-12T14:24:57.670872Z",
     "start_time": "2018-09-12T14:24:57.659184Z"
    },
    "collapsed": false
   },
   "outputs": [
    {
     "data": {
      "text/plain": [
       "'/Users/brettlv/blog/brettlv.github.io/pythoncode'"
      ]
     },
     "execution_count": 1,
     "metadata": {},
     "output_type": "execute_result"
    }
   ],
   "source": [
    "pwd\n"
   ]
  },
  {
   "cell_type": "code",
   "execution_count": 2,
   "metadata": {
    "ExecuteTime": {
     "end_time": "2018-09-12T14:24:57.676821Z",
     "start_time": "2018-09-12T14:24:57.672278Z"
    },
    "collapsed": false
   },
   "outputs": [
    {
     "data": {
      "text/plain": [
       "1.5879732047159698e-28"
      ]
     },
     "execution_count": 2,
     "metadata": {},
     "output_type": "execute_result"
    }
   ],
   "source": [
    "11/3*(3.67*10**-16)**2/0.00311\n",
    "\n",
    "\n"
   ]
  },
  {
   "cell_type": "markdown",
   "metadata": {},
   "source": [
    "# model \n",
    "## Several models:\n",
    "\n",
    "### double-degenerate polar model(Cropper et al 1998)\n",
    "A polar with a degenerate secondary star  \n",
    "X-ray flux emanates from a He-dominated accretion flow   \n",
    "Such heating may be result of X-ray emission from primary star or primary star could be hot for compressional heating.  \n",
    "\n",
    "\n",
    "### direct-impact accretor model(Marsh&Steeghs 2002;Ramsay et al 2002b)\n",
    "AM CVn\n",
    "secondary fills Roche Lobe and mass transfer  \n",
    "binary's compact geometry leads to accretion stream directly impacting primary and no accretion disk form\n",
    "\n",
    "### unipolar inductor model(Wu et al 2002)\n",
    "\n",
    "a magnetized,more massive primary WD spinning asynchronously with respect to orbit induces an E field in secondary WD   \n",
    "X-rays produced by resistive dissipation in primary's atmosphere.\n",
    "\n",
    "both assume orbit period of an ultra-compact binary\n",
    "\n",
    "\n",
    "### an intermediate polar model(Norton et al 2004)\n",
    "in favor of spin of the magnetic white dwarf from accreting matter of high specific angular momentum.   \n",
    "\n",
    "\n",
    "\n",
    "### Degenerate He WD donor with a thick H atmosphere supporting p-p burning(D'Antona 2006)  \n",
    "Porb decreases until H layer is removed"
   ]
  },
  {
   "cell_type": "code",
   "execution_count": 3,
   "metadata": {
    "ExecuteTime": {
     "end_time": "2018-09-12T14:24:59.338592Z",
     "start_time": "2018-09-12T14:24:59.332880Z"
    },
    "collapsed": false
   },
   "outputs": [
    {
     "data": {
      "text/plain": [
       "3.5499483206285274e-05"
      ]
     },
     "execution_count": 3,
     "metadata": {},
     "output_type": "execute_result"
    }
   ],
   "source": [
    "3.6*10**-11/321.53040**2\n",
    "3.67*10**-11/321.53033**2\n",
    "3.67/321.5303822**2\n",
    "\n"
   ]
  },
  {
   "cell_type": "code",
   "execution_count": 6,
   "metadata": {
    "ExecuteTime": {
     "end_time": "2018-09-13T09:13:45.317564Z",
     "start_time": "2018-09-13T09:13:45.311781Z"
    },
    "collapsed": false
   },
   "outputs": [
    {
     "data": {
      "text/plain": [
       "0.3262458839811805"
      ]
     },
     "execution_count": 6,
     "metadata": {},
     "output_type": "execute_result"
    }
   ],
   "source": []
  },
  {
   "cell_type": "markdown",
   "metadata": {},
   "source": [
    "# Data in paper\n",
    "\n",
    "ObservationDate|paper | $t_0$(TDB/s)| $\\nu$(Hz)| $\\dot{\\nu}$|Instrument\n",
    "-----  |----- | -----|------------------------\n",
    "1994-95|Hakala2003|49648.9      |3.1100397e-3     |     |ROSAT\n",
    "2001-02|Hakala2003|52226.258     |3.1100956e-3       |     |VLT/NOT\n",
    "2003   |Hakala2003|52645.443         |3.1101338e-3       |     |NOT\n",
    "2001-02|Hakala2004|52281.416      |3.1100993e-3       |     |VLT/NOT\n",
    "2003   |Hakala2004|52649.529         |3.1101290e-3       |     |NOT\n",
    "2003-04|Hakala2004|53030.395      |3.1101459e-3       |     |INT/NOT\n",
    "2001-04|Israel2004(optical)|     |0.0031101258232503056|3.48e-16|VLT/TNG\n",
    "1994-02|Israel2004(X-ray)|       |0.0031101265003522375|3.54e-16|\n",
    "2004   |Strohmayer2005 |  53009.889943753 | 0.00311014250|3.77e-16|Chandra\n",
    "2001-04|Strohmayer2005 |  53009.889943753 | 0.00311013824|3.77e-16|Chandra\n",
    "       |Barros2007(Strohmayer2005) |  53009.889943753 | 0.00311013824(10)|3.63(4)e-16|\n",
    "       |Roelofs2010(Barros2007)| 53009.889943753  | 0.00311013811(10)|3.57(2)e-16|\n",
    "2005-06|Strohmayer2008 |  53802.8044649643 | 0.003110237006|      |Chandra\n",
    "2005-10|Esposito2013|52619.0|0.00311012599 | 3.55e-16                     | Swift"
   ]
  },
  {
   "cell_type": "markdown",
   "metadata": {},
   "source": [
    "# Parameters estimation \n",
    "\n",
    "## Distance \n",
    "\n",
    "### Israel et al. 2003 \n",
    "500pc assumed at edge of the Galaxy in the direction of source\n",
    "\n",
    "### Barros 2007\n",
    "#### X-ray primary star drive the heating\n",
    "Comparing with white dwarf of similar temperature and mass,absolute magnitude of primary star is bounded by $M_V<10.7$ and given V=21.1 (Israel et al.2002) assuming reddening is negligible,this suggests:  \n",
    "\n",
    "Using $M_1=0.53M_{\\odot}$and $M_2=0.12M_{\\odot}$,period of 321s imply as separetion a=0.089$R_{\\odot}$,and find that  \n",
    "$L_{bol}>0.34L_{\\odot}=1.3\\times10^{33}erg/s$ with lower limit of $T_{irr}$. this is somewhat higher than but consistent with $L_X$~$5\\times10^{32}erg/s$ at 500pc distance estimated by Israel(2003)\n",
    "for larger $T_{irr}$ luminosity raise by factor of 4.4 which hints a large distance.\n",
    "\n",
    "On the assumption that the optical pulses of HM Cnc are the\n",
    "result of irradiation of the secondary star within a double degenerate\n",
    "binary, and using the relative constancy of the fractional pulsation\n",
    "amplitude with wavelength\n",
    "\n",
    "500pc*$\\sqrt{1+4.4}$~1.1kpc\n",
    "(>500pc >1.1kpc) \n",
    "if X-ray not photesphere of primary star drive the heating. however spot position ~90$^\\circ$ ahead of secondary star means spot may not be able to see the secondary star at all. \n",
    "\n",
    "#### photesphere of primary star drive the heating\n",
    "If it is the photosphere of the accretor rather than the X-ray site that is responsible for the heating,\n",
    "\n",
    "$$T_{irr}^4=T_2^4+(\\frac{R_1}{a}^2)T_1^4,$$ and leads $T_1=2.58T_{irr}$  \n",
    "$T_{irr}>34800K$and $T_1>90000K$,heated face temperature rise by a factor of 2.4 and L raise by a factor of 33 to L>$10 L_{\\odot}=4.0\\times10^{34}erg/s$ imply d>4.2kpc,which place HM Cnc more than 2.5kpc out of the plane.\n",
    "\n",
    "UV observation may tighten the lower limits upon temperature hence the distance.\n",
    "\n",
    "\n",
    "\n",
    "\n",
    "### Bildsten et al.2006(accretion model:)\n",
    "### [D'Antona et al.2006](http://iopscience.iop.org/article/10.1086/507408/pdf)(accretion model:)\n",
    "in excess of 4kpc \n",
    "\n",
    "### Dall'Osso et al.2006a,b(unipolar inductor model:)\n",
    "< 1 kpc\n",
    "\n",
    "### Reinsch 2007\n",
    "flux implies distance~2kpc  \n",
    "$T_{irr}=5\\times10^5K$\n",
    "\n",
    "### Paolo2014(Swift X-ray/UV)\n",
    "\n",
    "$D~\\approx 0.9\\pm 0.2(R_8/6.5) kpc$\n"
   ]
  },
  {
   "cell_type": "code",
   "execution_count": null,
   "metadata": {
    "ExecuteTime": {
     "end_time": "2018-09-12T14:24:23.759113Z",
     "start_time": "2018-09-12T14:24:23.753598Z"
    },
    "collapsed": false
   },
   "outputs": [],
   "source": [
    "\n"
   ]
  },
  {
   "cell_type": "code",
   "execution_count": null,
   "metadata": {
    "collapsed": true
   },
   "outputs": [],
   "source": []
  },
  {
   "cell_type": "markdown",
   "metadata": {},
   "source": [
    "$\\AA$"
   ]
  },
  {
   "cell_type": "markdown",
   "metadata": {},
   "source": [
    "# [\tSwift X-ray and ultraviolet observations of the shortest orbital period double-degenerate system RX J0806.3+1527 (HM Cnc)](http://adsabs.harvard.edu/abs/2014A&A...561A.117E)  \n",
    "\n",
    "Authors:\tEsposito, Paolo 2014\n",
    "\n",
    "## abstract  \n",
    "HM Cnc is a pulsating X-ray source with 100 per cent modulation on a period of 321.5s.  \n",
    "simultaneous X-ray(0.2-10keV) and near-ultraviolet(2600$\\overset{\\circ}{A}$ and $1928\\overset{\\circ}{A}$) observation\n",
    "\n",
    "In near-ultraviolet,blackbody with temperture of $(27\\pm 8)\\times 10^3K$  \n",
    "At 2600$\\overset{\\circ}{A}$ emission peak ahead of X-ray one by 0.28$\\pm 0.02$ cycles and coincident within $\\pm0.05$ cycles with optical modulated at 321.5s  \n",
    "At $1928\\overset{\\circ}{A}$, however pulse peak is better aligned with X-rays\n",
    "\n",
    "\n",
    "\n",
    "\n",
    "## discussion\n",
    "\n",
    "\n"
   ]
  },
  {
   "cell_type": "markdown",
   "metadata": {},
   "source": [
    "# [Spectroscopic Evidence for a 5.4 Minute Orbital Period in HM Cancri](http://adsabs.harvard.edu/abs/2010ApJ...711L.138R)\n",
    "Authors:\tRoelofs  2010  \n",
    "## abstract  \n",
    "we present Keck-I spectroscopy showing clear modulation of helium emission lines in both radial velocity and amplitude on the 5.4 minute period and no other.  \n",
    "data suggest that binary is emitting He I 4471 from irradiated face of cooler,less massive star and He II 4686 from a ring around massive star.  \n",
    "from relative radial velocities, we measure a mass ratio q=0.50$\\pm0.13$ \n",
    "$$ 0.33\\le q \\le 0.67$$\n",
    "assume He I line comes from inner Lagrange point(maximum conceivable K-correction) and no K-correction\n",
    "\n",
    "based on radial velocities of He I4471 and He II4686 emission lines moving in anti-phase,  \n",
    "we can estimate ratio of donor to accretor mass q=$M_2/M_1$\n",
    "\n",
    "\n",
    "## discussion  \n",
    "Assume $M_2=0.13M_{\\odot}$ which is minimum donor star mass corresponding to a Roche lobe-filling degenerate helium object.\n",
    "\n",
    "Given $q\\approx0.5$,masses $M_2=0.27M_{\\odot},M_1=0.55M_{\\odot}$ would be required to yield observed period derivative.\n",
    "\n",
    "for $M_2=0.27M_{\\odot},M_1=0.55M_{\\odot}$ and assume radial velocity semi-amplitude of wobbling He II 4686 line  \n",
    "represents the projected orbital velocity of accretor, we obtain an inclination i$\\approx38^{\\circ}$\n",
    "\n",
    "\n",
    "\n",
    "effective spectral resolution about 300km/s  \n",
    "exposure time 60s  \n",
    "HM Cnc has optical magnitude U~19.6,B~20.7(Israel et al.2002)\n",
    "\n",
    "spectrum dominated by ionized helium emission lines  \n",
    "full width at half-maximum(FWHM) 2500km/s  \n",
    "lines of neutral helium present but much weaker\n",
    "\n",
    "\n",
    "\n",
    "\n",
    "\n",
    "\n",
    "\n",
    "\n",
    "\n"
   ]
  },
  {
   "cell_type": "markdown",
   "metadata": {},
   "source": [
    "# [ULTRACAM photometry of the ultracompact binaries  Barros 2007](http://adsabs.harvard.edu/abs/2007MNRAS.374.1334B)  \n",
    "\n",
    "## abstract  \n",
    "optical and X-ray light curves of HM Cnc have been reported as being antiphase, but we find in fact X-ray peak around 0.2 cycles after maximum of optical light,as seen also in V407 Vul.  \n",
    "phase shifts are well explained under accreting models if most of optical modulation comes from heated faces of mass donors and if X-ray emitting spots are positioned in advance of mass donors.  \n",
    "based on the model, we constrain temperature of heated face of companion star finding a bolometric luminosity $>10^{33}erg/s$ and a distance d>1.1kpc  \n",
    "\n",
    "<font color=red>semi-amplitudes:</font>half of peak to peak amplitude   \n",
    "\n",
    "The only significant difference is that V407 Vul is observed to have spectrum of G star.  \n",
    "pulsation astrometry  \n",
    "possible progenitors or representatives of semidetached AM CVn stars  \n",
    "HM Cnc has a weak optical line emission, while V407 Vul has none at all.  \n",
    "For HM Cnc we used Strohmayer’s (2005) ephemeris. \n",
    "\n",
    "## For V407 Vul  \n",
    "The amplitude increases strongly towards short wavelengths but there is no observable phase shift with wavelength.  \n",
    "\n",
    "\n",
    "## For HM Cnc  \n",
    "The second harmonic is approximately 15 per cent of fundamental and its maximum occurs 0.2 of a cycle after maximum of the fundamental.  \n",
    "the amplitude of the variation decreases slightly for shorter wavelengths.  \n",
    "the higher signal-to-noise ratio of VLT data from 2005 reveals a trend with waveband in the phase of fundamental delayed towards short wavelenghts. \n",
    "F-ratio test shows the significant shift at 90 per cent level but not at 95 per cent.  \n",
    "There is marginally significant variation in phase which might mean there is a variation of phase shift between optical and X-ray, or more likely, that spin-up rate is varying.\n",
    "\n",
    "\n",
    "## Discussion  \n",
    "### X-ray versus optical phases \n",
    "in each system, X-ray flux peaks ~0.2 cycles after optical flux.\n",
    "\n",
    "In majority of models, X-rays coms from a spot on the primary star which moves in and out of view as it rotates.  \n",
    "In IP model, modulation results from accretion stream flipping from one pole to the other although it seems unlikely X-ray can be completely switched off.  \n",
    "\n",
    "Within double degenerate models, these seems likely to originate from the heated face of secondary star. Such heating may be result of X-ray emission from primary star or primary star could be hot for compressional heating.  \n",
    "\n",
    "In this model, the 0.2 cycles delay of the X-ray peak relative to the optical peak implies X-ray emission spot is rotated ~0.3 cycles from directly facing secondary star, in the direction of orbit.  \n",
    "\n",
    "The X-ray/optical phase shifts in V407 Vul and HM Cnc are very naturally explained by both the direct impact and double-degenerate polar models\n",
    "\n",
    "there is no natural explanation for the phase shift in the unipolar inductor model for which one would expect antiphasing, unless there is some as yet undiscovered mechanism for displacing the magnetic footprint of the secondary star in advance of its orbit\n",
    "\n",
    "The X-ray/optical phase shift is also a difficulty\n",
    "for the IP model of Norton et al. (2004) for which they also predict\n",
    "antiphasing with the optical pulses appearing as the accretion stream\n",
    "switches to the hidden pole, the X-rays going to zero at this point\n",
    "\n",
    "<font color=red>impact angle:</font>as the angle between X-ray emission site and the secondary star. \n",
    "\n",
    "we conclude that for V407 Vul $0.4<M_1<0.55 M_{\\odot}$and $0.08<M_2<0.4M_{\\odot}$ and for HM Cnc $0.6<M_1<0.9M_{\\odot}$ and $0.12<M_2<0.45 M_{\\odot}$\n",
    "\n",
    "### limit on bolometric luminosity of HM Cnc  \n",
    "Assume double degenerate model, idea of heated face leads to a lower limit upon bolometric luminosity of HM Cnc.  \n",
    "\n",
    "#### temperature of heated face\n",
    "blackbody spectrum: one is best fit(32400K),the other has lowest temperature(T1=18500K)  \n",
    "place lower limit upon temperature of irradiated face of secondary star $T_{irr}>21700K$ or $T_{irr}>14800K$  \n",
    "using ratio of blackbody spectra. \n",
    "\n",
    "<font color=red>pulsation amplitudes:</font> [$B_{\\lambda}(T_{irr})/B_{\\lambda}(T_1)$] \n",
    "\n",
    "bolometric luminosity:\n",
    "$$L_{bol}=4 \\pi a^2 \\sigma T_{irr}^4$$\n",
    "where a is seperation and $\\sigma (5.67032\\times10^{-5}erg\\cdot cm^{-2}\\cdot s^{-1}\\cdot K^{-4})$ is Stefan-Boltzmann constant.\n",
    "\n",
    "\n",
    "### Direct impact or polar?\n",
    "In case of HM Cnc, Reinsch et al.2004 have claimed a detection of circular polarization but at a low level that need confirmation.(0.5 per cent)\n",
    "\n",
    "systems, if they are double degenerates,would be helium-rich and very compact, and so different from normal CVs.\n",
    "\n",
    "## Conclusion\n",
    "The offsets are naturally\n",
    "produced by double-degenerate accreting models of the systems,\n",
    "both polar and direct impact, but seem hard to reconcile with\n",
    "the unipolar inductor and IP models. The optical light curves of\n",
    "HM Cnc are non-sinusoidal and a Fourier decomposition shows\n",
    "that there is likely a contribution to the optical light from the same\n",
    "site as produces the X-rays\n",
    "\n",
    "Finally, we remark that both the polar and direct impact models\n",
    "provide equally good explanations of our observations and that\n",
    "there are high magnetic field polars that show similar properties to\n",
    "V407 Vul and HM Cnc, that is, very soft X-ray spectra and low\n",
    "polarization.\n",
    "\n"
   ]
  },
  {
   "cell_type": "code",
   "execution_count": 4,
   "metadata": {
    "ExecuteTime": {
     "end_time": "2018-09-12T14:25:00.119606Z",
     "start_time": "2018-09-12T14:25:00.115416Z"
    },
    "collapsed": false
   },
   "outputs": [
    {
     "data": {
      "text/plain": [
       "1161.8950038622252"
      ]
     },
     "execution_count": 4,
     "metadata": {},
     "output_type": "execute_result"
    }
   ],
   "source": [
    "500*((1+4.4)**0.5)"
   ]
  },
  {
   "cell_type": "markdown",
   "metadata": {
    "ExecuteTime": {
     "end_time": "2018-08-15T16:28:10.580868Z",
     "start_time": "2018-08-15T16:28:10.571885Z"
    }
   },
   "source": [
    "\n",
    "\n",
    "# [Spectral Analysis K.Reinsch 2007](http://adsabs.harvard.edu/abs/2007ASPC..372..419R)\n",
    "\n",
    "\n",
    "## abstract\n",
    "Luminous soft X-ray sources 100% modulated\n",
    "ROSAT All-Sky Survey\n",
    "period 321.54s\n",
    "\n",
    "could be progenitor of <font color=red>AM CVn stars </font>\n",
    "(semi-detached accreting binaries with helium-rich donors and orbital periods 10~65min)\n",
    "\n",
    "NLTE model analysis(originally from (Israel et al 2002):\n",
    "optical spectrum a blue continuum with weak emission lines\n",
    "derived abundance ratio(He/H)~0.1 \n",
    "low surface gravity log(g)=6\n",
    "\n",
    "flux implies a distance d~2kpc\n",
    "donor must have about solar composition\n",
    "\n",
    "\n",
    "spectral energy distribution dominated by two black-body like components with temperature ~40000K and ~750000K\n",
    "optical weak emission line wavelengths corresponding to HeI and HeII transitions \n",
    "blue continuum(Israel et al 2002,2003)"
   ]
  },
  {
   "cell_type": "markdown",
   "metadata": {
    "ExecuteTime": {
     "end_time": "2018-08-15T16:28:22.956181Z",
     "start_time": "2018-08-15T16:28:22.950087Z"
    }
   },
   "source": [
    "\n",
    "\n",
    "\n",
    "\n",
    "## Discussion:\n",
    "if continuum from primary component with typical mass 0.6 solor mass,Tbb~350000K\n",
    "d~2kpc\n",
    "\n",
    "$T_{eff}~750000K \\\\  R_{spot}~100km \\\\ f_{accr}~10^{-4} \\\\ L_x~10^{34}erg/s$\n",
    "\n"
   ]
  },
  {
   "cell_type": "markdown",
   "metadata": {},
   "source": []
  },
  {
   "cell_type": "markdown",
   "metadata": {},
   "source": [
    "# [Turn-on of mass transfer in AM CVN: Christopher 2006](http://iopscience.iop.org/article/10.1086/508372/pdf)\n",
    "\n",
    "## abstract\n",
    "evolution calculations mass transfer in AM CVn binaries\n",
    "mass transfer rate $\\dot{M}$>0 and $\\dot{\\nu}>0$ last $10^3-10^6 yrs$\n",
    "\n",
    "\n",
    "for accretion model,<font color=red>we predict $\\ddot{\\nu} \\approx 10^{-28}Hz \\cdot s^{-2}$ </font> \n",
    "\n",
    "total 20 yr baseline timing observations can prove $\\ddot{\\nu}$ at this level\n"
   ]
  },
  {
   "cell_type": "markdown",
   "metadata": {},
   "source": [
    "Parameters  \n",
    "\n",
    "name | period | $\\dot{\\nu}(Hz \\cdot s^{-1})$ \n",
    "-----|------- | -----------------------------\n",
    "RX J0806| 321s  | 3.6e-16\n",
    "RX J1914 |  569s | 7e-18 "
   ]
  },
  {
   "cell_type": "markdown",
   "metadata": {
    "ExecuteTime": {
     "end_time": "2018-08-24T13:07:15.421536Z",
     "start_time": "2018-08-24T13:07:15.351301Z"
    }
   },
   "source": [
    "UI model predict $\\dot{\\nu}>0$,  \n",
    "assuming $R_L=R_2$,accretion model predict $\\dot{\\nu}<0$,however this constraint requires a large mass transfer rate  \n",
    "$\\dot{M}\\approx 10^{-7}-10^{-5}M_{\\odot}yr^{-1}$\n",
    "\n",
    "if $\\dot{M}$ << equilibrium value,observing $\\dot{\\nu}>0$ is possible."
   ]
  },
  {
   "cell_type": "markdown",
   "metadata": {},
   "source": [
    "we assume conservative mass transfer,circular orbits, and GW emission is the only source of orbital angular momentum, J loss.  \n",
    "we use prescription of Ritter(1988) to calculate $\\dot{M}$ when $R_L \\ge R_2$ and of Kolb&Ritter(1990) when $R_L \\le R_2$  \n",
    "\n",
    "$\\dot{\\nu}=-3\\nu[\\frac{\\dot{J}}{J}-(1-q)\\frac{\\dot{M}_2}{M_2}]$  \n",
    "$q=M_2/M_1$and $\\dot{M}_2=-\\dot{M}<0$,$\\dot{J}/J<0$\n",
    "\n",
    "we first consider $\\ddot{\\nu}$ in HM Cnc for GW emission alone\n",
    "$$\\ddot{\\nu}_{GR}=4.95\\times 10^{-30} Hz\\cdot s^{-2}(\\frac{\\nu}{10^{-3}Hz})^{19/3}(\\frac{M_{chirp}}{0.871M_{\\odot}})^{10/3}$$\n",
    "where $M_{chirp}=(M_1M_2)/(M_1+M_2)^{1/3}$ is chirp mass of system"
   ]
  },
  {
   "cell_type": "code",
   "execution_count": null,
   "metadata": {
    "collapsed": true
   },
   "outputs": [],
   "source": []
  },
  {
   "cell_type": "code",
   "execution_count": null,
   "metadata": {
    "collapsed": true
   },
   "outputs": [],
   "source": []
  },
  {
   "cell_type": "code",
   "execution_count": null,
   "metadata": {
    "collapsed": true
   },
   "outputs": [],
   "source": []
  },
  {
   "cell_type": "code",
   "execution_count": null,
   "metadata": {
    "collapsed": true
   },
   "outputs": [],
   "source": []
  },
  {
   "cell_type": "code",
   "execution_count": null,
   "metadata": {
    "collapsed": true
   },
   "outputs": [],
   "source": []
  }
 ],
 "metadata": {
  "kernelspec": {
   "display_name": "Python 3",
   "language": "python",
   "name": "python3"
  },
  "language_info": {
   "codemirror_mode": {
    "name": "ipython",
    "version": 3
   },
   "file_extension": ".py",
   "mimetype": "text/x-python",
   "name": "python",
   "nbconvert_exporter": "python",
   "pygments_lexer": "ipython3",
   "version": "3.6.0"
  },
  "latex_envs": {
   "LaTeX_envs_menu_present": true,
   "autocomplete": true,
   "bibliofile": "biblio.bib",
   "cite_by": "apalike",
   "current_citInitial": 1,
   "eqLabelWithNumbers": true,
   "eqNumInitial": 1,
   "hotkeys": {
    "equation": "Ctrl-E",
    "itemize": "Ctrl-I"
   },
   "labels_anchors": false,
   "latex_user_defs": false,
   "report_style_numbering": false,
   "user_envs_cfg": false
  },
  "toc": {
   "nav_menu": {},
   "number_sections": true,
   "sideBar": true,
   "skip_h1_title": false,
   "toc_cell": false,
   "toc_position": {},
   "toc_section_display": "block",
   "toc_window_display": false
  }
 },
 "nbformat": 4,
 "nbformat_minor": 2
}
