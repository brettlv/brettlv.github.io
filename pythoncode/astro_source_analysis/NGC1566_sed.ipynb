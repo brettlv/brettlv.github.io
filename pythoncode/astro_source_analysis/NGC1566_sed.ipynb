{
 "cells": [
  {
   "cell_type": "code",
   "execution_count": null,
   "metadata": {
    "ExecuteTime": {
     "end_time": "2020-11-11T15:43:57.013070Z",
     "start_time": "2020-11-11T15:43:54.154503Z"
    },
    "collapsed": true
   },
   "outputs": [],
   "source": [
    "from pylab import *\n",
    "from matplotlib.ticker import MultipleLocator, FormatStrFormatter\n",
    "import matplotlib.pyplot as plt\n",
    "import numpy as np\n",
    "import pandas as pd\n",
    "import pyfits\n",
    "from astropy import constants\n",
    "from astropy import units\n",
    "from collections import OrderedDict\n",
    "\n",
    "from matplotlib.ticker import NullFormatter  # useful for `logit` scale\n",
    "from astropy.time import Time\n",
    "\n",
    "from astropy.stats import LombScargle\n",
    "#plt.style.use('seaborn-whitegrid')\n",
    "\n",
    "%matplotlib inline\n",
    "%config InlineBackend.figure_format='svg'\n",
    "#%config InlineBackend.figure_format='retina'"
   ]
  },
  {
   "cell_type": "markdown",
   "metadata": {},
   "source": [
    "# D_cm and Ledd"
   ]
  },
  {
   "cell_type": "code",
   "execution_count": null,
   "metadata": {
    "ExecuteTime": {
     "end_time": "2020-11-11T15:45:39.578185Z",
     "start_time": "2020-11-11T15:45:39.550527Z"
    },
    "collapsed": true
   },
   "outputs": [],
   "source": [
    "from astropy.cosmology import FlatLambdaCDM,Planck13,Planck15,z_at_value\n",
    "from astropy import units as u\n",
    "import astropy\n",
    "from astropy.cosmology import LambdaCDM\n",
    "cosmo = LambdaCDM(H0=70, Om0=0.3, Ode0=0.7)\n",
    "#cosmo=FlatLambdaCDM(H0=73,Om0=0.3)\n",
    "#D_cm=cosmo.luminosity_distance(z=0.042436).to(u.cm)\n",
    "D_cm=7.23*u.Mpc.to(u.cm)\n",
    "BH_mass=10**6.9*u.solMass\n",
    "Ledd=1.26*10**38*BH_mass/u.solMass"
   ]
  },
  {
   "cell_type": "code",
   "execution_count": null,
   "metadata": {
    "ExecuteTime": {
     "end_time": "2020-11-11T15:47:36.965245Z",
     "start_time": "2020-11-11T15:47:36.955905Z"
    },
    "collapsed": true
   },
   "outputs": [],
   "source": [
    "def set_ax_tick(ax):\n",
    "    ax.xaxis.set_tick_params(which='major', size=10, width=2, direction='in', top='on',)\n",
    "    ax.xaxis.set_tick_params(which='minor', size=5, width=2, direction='in', top='on')\n",
    "    ax.yaxis.set_tick_params(which='major', size=10, width=2, direction='in', right='on')\n",
    "    ax.yaxis.set_tick_params(which='minor', size=5, width=2, direction='in', right='on')\n",
    "\n",
    "def set_ax_locator(ax,xma=1,xmi=0.2,yma=1,ymi=0.2):\n",
    "    ax.xaxis.set_major_locator(mpl.ticker.MultipleLocator(xma))\n",
    "    ax.xaxis.set_minor_locator(mpl.ticker.MultipleLocator(xmi))\n",
    "    ax.yaxis.set_major_locator(mpl.ticker.MultipleLocator(yma))\n",
    "    ax.yaxis.set_minor_locator(mpl.ticker.MultipleLocator(ymi))"
   ]
  },
  {
   "cell_type": "markdown",
   "metadata": {},
   "source": [
    "# data"
   ]
  },
  {
   "cell_type": "code",
   "execution_count": null,
   "metadata": {
    "ExecuteTime": {
     "end_time": "2020-11-11T15:44:09.071148Z",
     "start_time": "2020-11-11T15:44:09.022094Z"
    },
    "collapsed": false
   },
   "outputs": [],
   "source": [
    "data_xrt_fit_NGC1566 = pd.read_csv(\"/Users/brettlv/Downloads/wise_cl/xrt_fit_result/NGC1566_xrt_fit.txt\",delimiter='\\s+',header=0)  \n",
    "\n",
    "\n",
    "data_ubb_NGC1566 = pd.read_csv(\"/Users/brettlv/Downloads/wise_cl/fig/NGC1566_ubb_sum.csv\",delimiter='|',header=0)  \n",
    "data_um2_NGC1566 = pd.read_csv(\"/Users/brettlv/Downloads/wise_cl/fig/NGC1566_um2_sum.csv\",delimiter='|',header=0)  \n",
    "\n",
    "\n",
    "data_uuu_NGC1566 = pd.read_csv(\"/Users/brettlv/Downloads/wise_cl/fig/NGC1566_uuu_sum.csv\",delimiter='|',header=0)  \n",
    "data_uvv_NGC1566 = pd.read_csv(\"/Users/brettlv/Downloads/wise_cl/fig/NGC1566_uvv_sum.csv\",delimiter='|',header=0)  \n",
    "\n",
    "data_uw1_NGC1566 = pd.read_csv(\"/Users/brettlv/Downloads/wise_cl/fig/NGC1566_uw1_sum.csv\",delimiter='|',header=0)  \n",
    "data_uw2_NGC1566 = pd.read_csv(\"/Users/brettlv/Downloads/wise_cl/fig/NGC1566_uw2_sum.csv\",delimiter='|',header=0)  \n",
    "\n",
    "\n",
    "data_ASAS_NGC1566 = pd.read_csv(\"/Users/brettlv/Downloads/NGC1566/AP36757554_ASASSN-V J042000.52-545616.7 (65.00215, -54.93797) .csv\",header=0) \n",
    "data_ASAS_NGC1566['hmjd']= data_ASAS_NGC1566['hjd']- 2400000.5\n"
   ]
  },
  {
   "cell_type": "code",
   "execution_count": null,
   "metadata": {
    "collapsed": true
   },
   "outputs": [],
   "source": []
  },
  {
   "cell_type": "code",
   "execution_count": null,
   "metadata": {
    "collapsed": true
   },
   "outputs": [],
   "source": []
  },
  {
   "cell_type": "markdown",
   "metadata": {},
   "source": [
    "## good fit"
   ]
  },
  {
   "cell_type": "code",
   "execution_count": null,
   "metadata": {
    "ExecuteTime": {
     "end_time": "2020-11-11T15:44:13.054120Z",
     "start_time": "2020-11-11T15:44:13.046775Z"
    },
    "collapsed": true
   },
   "outputs": [],
   "source": [
    "data_xrt_goodfit_NGC1566=data_xrt_fit_NGC1566[data_xrt_fit_NGC1566['chi']<1.5]\n",
    "data_xrt_goodfit_NGC1566=data_xrt_goodfit_NGC1566[data_xrt_goodfit_NGC1566['chi']>0.7]"
   ]
  },
  {
   "cell_type": "code",
   "execution_count": null,
   "metadata": {
    "ExecuteTime": {
     "end_time": "2020-11-11T15:44:16.056237Z",
     "start_time": "2020-11-11T15:44:16.044172Z"
    },
    "collapsed": true
   },
   "outputs": [],
   "source": [
    "data_xrt_goodfit_NGC1566.to_csv('/Users/brettlv/Downloads/NGC1566/NGC1566_goodfit.csv')"
   ]
  },
  {
   "cell_type": "markdown",
   "metadata": {},
   "source": [
    "## F-Gamma good-fit"
   ]
  },
  {
   "cell_type": "code",
   "execution_count": null,
   "metadata": {
    "ExecuteTime": {
     "end_time": "2020-11-11T15:53:55.312353Z",
     "start_time": "2020-11-11T15:53:47.000228Z"
    },
    "collapsed": false,
    "scrolled": true
   },
   "outputs": [],
   "source": [
    "def fluxtoeddrate(x):\n",
    "    y = 4*np.pi*D_cm**2*x/Ledd\n",
    "    return y\n",
    "\n",
    "def eddratetoflux(x):    \n",
    "    y = x*Ledd*(4*np.pi*D_cm**2)**(-1)\n",
    "    return y \n",
    "\n",
    "\n",
    "fig = plt.figure(figsize=(8,6))\n",
    "ax = fig.add_subplot(111)\n",
    "\n",
    "set_ax_tick(ax)\n",
    "\n",
    "ax.yaxis.set_major_locator(mpl.ticker.MultipleLocator(0.5))\n",
    "ax.yaxis.set_minor_locator(mpl.ticker.MultipleLocator(0.25))\n",
    "\n",
    "secax = ax.secondary_xaxis('top', functions=(fluxtoeddrate,eddratetoflux))\n",
    "secax.set_xlabel(r'$L_{1-10keV}/L_{Edd}}$')\n",
    "secax.xaxis.set_tick_params(which='major', size=10, width=2, direction='out')\n",
    "secax.xaxis.set_tick_params(which='minor', size=5, width=2, direction='out')\n",
    "\n",
    "lower_error_f = data_xrt_goodfit_NGC1566['xflux_lo']#1-10keV\n",
    "upper_error_f = data_xrt_goodfit_NGC1566['xflux_up']\n",
    "lower_error_g = data_xrt_goodfit_NGC1566['gamma_lo']\n",
    "upper_error_g = data_xrt_goodfit_NGC1566['gamma_up']\n",
    "asymmetric_error_f = [lower_error_f, upper_error_f]\n",
    "asymmetric_error_g = [lower_error_g, upper_error_g]\n",
    "\n",
    "\n",
    "\n",
    "ax.set_xlabel(r'$F_{1-10keV}$')\n",
    "ax.set_ylabel(r'$\\Gamma$')\n",
    "ax.semilogx()\n",
    "ax.errorbar(data_xrt_goodfit_NGC1566['xflux'],data_xrt_goodfit_NGC1566['gamma'],xerr=asymmetric_error_f,yerr=asymmetric_error_g,fmt='.',label='F-gamma') \n",
    "\n",
    "plt.rcParams['font.size'] = 18\n",
    "plt.rcParams['axes.linewidth'] = 2\n",
    "plt.savefig('/Users/brettlv/Downloads/NGC1566/NGC1566_goodfit_F-Gamma.png',dpi=400)"
   ]
  },
  {
   "cell_type": "code",
   "execution_count": null,
   "metadata": {
    "collapsed": true
   },
   "outputs": [],
   "source": []
  },
  {
   "cell_type": "code",
   "execution_count": null,
   "metadata": {
    "collapsed": true
   },
   "outputs": [],
   "source": []
  },
  {
   "cell_type": "code",
   "execution_count": null,
   "metadata": {
    "ExecuteTime": {
     "end_time": "2020-06-29T16:24:31.874658Z",
     "start_time": "2020-06-29T16:24:31.848590Z"
    },
    "collapsed": false
   },
   "outputs": [],
   "source": [
    "import plotly_express as px\n",
    "px.scatter?"
   ]
  },
  {
   "cell_type": "code",
   "execution_count": null,
   "metadata": {
    "ExecuteTime": {
     "end_time": "2020-07-08T15:48:37.471086Z",
     "start_time": "2020-07-08T15:48:35.734820Z"
    },
    "collapsed": false
   },
   "outputs": [],
   "source": [
    "\n",
    "import plotly_express as px\n",
    "\n",
    "fig = px.scatter(data_xrt_goodfit_NGC1566, x='xflux',error_x='xflux_up',\n",
    "                 error_x_minus='xflux_lo',y='gamma',error_y='gamma_up',error_y_minus='gamma_lo',\n",
    "                 hover_name=\"obs_time\",hover_data=['obs_time','chi','obs_id'],\n",
    "                 size_max=15,color='obs_time')\n",
    "\n",
    "\n",
    "fig.update_xaxes(tickformat= \"0.1e\",nticks=4,type=\"log\",title_text=\"flux\")\n",
    "fig.update_yaxes(tickformat= \"0.2f\",nticks=10,type=\"linear\",title_text=\"gamma\")\n",
    "fig.update_layout(title_text=\"\", width = 800,height = 600)\n",
    "#fig.update_xaxes(range=[np.log10(2e-4),np.log10(1e-2)])\n",
    "#fig.update_yaxes(range=[1.0,2.5])\n",
    "fig.show()\n",
    "#fig.write_image('xray-paper-g-eddrate.gif')\n",
    "#fig.write_image('xray-paper-g-eddrate.png')\n",
    "fig.write_html('/Users/brettlv/Downloads/NGC1566/g-f-with-time.html')"
   ]
  },
  {
   "cell_type": "code",
   "execution_count": null,
   "metadata": {
    "ExecuteTime": {
     "end_time": "2020-06-29T16:20:02.614269Z",
     "start_time": "2020-06-29T16:20:02.605418Z"
    },
    "collapsed": false
   },
   "outputs": [],
   "source": [
    "min(data_xrt_goodfit_NGC1566['xflux']),max(data_xrt_goodfit_NGC1566['xflux'])"
   ]
  },
  {
   "cell_type": "code",
   "execution_count": null,
   "metadata": {
    "ExecuteTime": {
     "end_time": "2020-06-29T17:13:18.780723Z",
     "start_time": "2020-06-29T17:13:08.420486Z"
    },
    "collapsed": false
   },
   "outputs": [],
   "source": [
    "import plotly_express as px\n",
    "\n",
    "fig = px.scatter(data_xrt_goodfit_NGC1566, x='xflux',error_x='xflux_up',\n",
    "                 error_x_minus='xflux_lo',y='gamma',error_y='gamma_up',error_y_minus='gamma_lo',\n",
    "                 hover_name=\"obs_time\",hover_data=['obs_time','chi','obs_id'],\n",
    "                 size_max=15,animation_frame='obs_time')\n",
    "\n",
    "\n",
    "fig.update_xaxes(tickformat= \"0.1e\",nticks=3,type=\"log\",title_text=r\"$F_{1-10 keV}$\")\n",
    "fig.update_yaxes(tickformat= \"0.2f\",nticks=5,type=\"linear\",title_text=r\"$\\Gamma$\")\n",
    "fig.update_layout(title_text=\"\", width = 600,height = 600)\n",
    "fig.update_xaxes(range=[np.log10(1e-12),np.log10(2e-10)])\n",
    "fig.update_yaxes(range=[1.0,2.5])\n",
    "fig.show()\n",
    "#fig.write_image('xray-paper-g-eddrate.gif')\n",
    "#fig.write_image('xray-paper-g-eddrate.png')\n",
    "fig.write_html('/Users/brettlv/Downloads/NGC1566/g-f-with-time-animation.html')"
   ]
  },
  {
   "cell_type": "code",
   "execution_count": null,
   "metadata": {
    "collapsed": true
   },
   "outputs": [],
   "source": []
  },
  {
   "cell_type": "markdown",
   "metadata": {},
   "source": [
    "A(E) \\prop E^{-\\Gamma}\n",
    "F_v \\prop v^{-\\alpha}\n",
    "\\Gamma=\\alpha+1"
   ]
  },
  {
   "cell_type": "markdown",
   "metadata": {},
   "source": [
    "## XRT_good_fit"
   ]
  },
  {
   "cell_type": "code",
   "execution_count": null,
   "metadata": {
    "ExecuteTime": {
     "end_time": "2020-11-11T15:54:24.924444Z",
     "start_time": "2020-11-11T15:54:24.836393Z"
    },
    "collapsed": true
   },
   "outputs": [],
   "source": [
    "v_1keV=2.418e17 #Hz\n",
    "alpha_goodfit=data_xrt_goodfit_NGC1566['gamma']-1\n",
    "v_2keV =2*v_1keV\n",
    "data_xrt_goodfit_NGC1566['F_{1keV}']=data_xrt_goodfit_NGC1566['xflux']*(1-alpha_goodfit)/(10**(1-alpha_goodfit)-1)/v_1keV\n",
    "data_xrt_goodfit_NGC1566['F_{2keV}']=2**(-alpha_goodfit)*data_xrt_goodfit_NGC1566['F_{1keV}']\n",
    "data_xrt_goodfit_NGC1566['F_{4keV}']=4**(-alpha_goodfit)*data_xrt_goodfit_NGC1566['F_{1keV}']\n",
    "data_xrt_goodfit_NGC1566['F_{6keV}']=6**(-alpha_goodfit)*data_xrt_goodfit_NGC1566['F_{1keV}']\n",
    "data_xrt_goodfit_NGC1566['F_{8keV}']=8**(-alpha_goodfit)*data_xrt_goodfit_NGC1566['F_{1keV}']\n",
    "data_xrt_goodfit_NGC1566['F_{10keV}']=10**(-alpha_goodfit)*data_xrt_goodfit_NGC1566['F_{1keV}']"
   ]
  },
  {
   "cell_type": "code",
   "execution_count": null,
   "metadata": {
    "collapsed": true
   },
   "outputs": [],
   "source": []
  },
  {
   "cell_type": "markdown",
   "metadata": {
    "ExecuteTime": {
     "end_time": "2020-06-27T21:31:06.232965Z",
     "start_time": "2020-06-27T21:31:06.185538Z"
    }
   },
   "source": [
    "alpha=gamma-1"
   ]
  },
  {
   "cell_type": "markdown",
   "metadata": {},
   "source": [
    "## cal_mono_flux"
   ]
  },
  {
   "cell_type": "code",
   "execution_count": null,
   "metadata": {
    "collapsed": true
   },
   "outputs": [],
   "source": [
    "v_1keV=2.418e17 #Hz\n",
    "v2=k*v1\n",
    "F_{v}=m*v**(-alpha)\n",
    "F_{v1}=F_{v1-v2}*(1-alpha)/(k**(1-alpha)-1)/v1\n",
    "F_{2keV}=F_{2-10keV}*(1-alpha)/(5**(1-g)-1)/v_{2keV}\n",
    "F_{1keV}=F_{1-10keV}*(1-alpha)/(10**(1-g)-1)/v_{1keV}\n",
    "F_{2keV}=2**(-alpha)*F_{1keV}\n"
   ]
  },
  {
   "cell_type": "markdown",
   "metadata": {
    "ExecuteTime": {
     "end_time": "2020-06-27T11:29:35.672317Z",
     "start_time": "2020-06-27T11:29:35.662261Z"
    }
   },
   "source": [
    "np.sum(data_xrt_goodfit_NGC1566[data_xrt_goodfit_NGC1566.columns[2]]==1.0)"
   ]
  },
  {
   "cell_type": "markdown",
   "metadata": {},
   "source": [
    "## ASAS-SN -48.8"
   ]
  },
  {
   "cell_type": "code",
   "execution_count": null,
   "metadata": {
    "collapsed": true
   },
   "outputs": [],
   "source": [
    "1Jy =1.0e-26 W m-2 Hz-1\n",
    "\n",
    "= 1.0e-23 erg s-1 cm-2 Hz-1\n",
    " \n",
    "    "
   ]
  },
  {
   "cell_type": "code",
   "execution_count": null,
   "metadata": {
    "ExecuteTime": {
     "end_time": "2020-07-02T15:42:10.977764Z",
     "start_time": "2020-07-02T15:42:10.972798Z"
    },
    "collapsed": true
   },
   "outputs": [],
   "source": [
    "data_ASAS_NGC1566['flux']=(data_ASAS_NGC1566['flux (mJy)']-48.8)*1.0e-26#*1.0e-3*1.0e7*1.0e-4"
   ]
  },
  {
   "cell_type": "code",
   "execution_count": null,
   "metadata": {
    "ExecuteTime": {
     "end_time": "2020-06-27T18:51:28.530175Z",
     "start_time": "2020-06-27T18:51:28.522480Z"
    },
    "collapsed": false
   },
   "outputs": [],
   "source": [
    "for i,j in enumerate(data_ubb_NGC1566.columns):\n",
    "    print(i,j)"
   ]
  },
  {
   "cell_type": "markdown",
   "metadata": {},
   "source": [
    "## UV"
   ]
  },
  {
   "cell_type": "code",
   "execution_count": null,
   "metadata": {
    "ExecuteTime": {
     "end_time": "2020-07-02T15:42:15.155885Z",
     "start_time": "2020-07-02T15:42:15.150924Z"
    },
    "collapsed": true
   },
   "outputs": [],
   "source": [
    "UV_namelist=['v','b','u','uvw1','uvm2','uvw2']\n",
    "UV_datalist=[data_uvv_NGC1566,data_ubb_NGC1566,data_uuu_NGC1566,data_uw1_NGC1566,data_um2_NGC1566,data_uw2_NGC1566  ]\n",
    "UV_lambda_list=[5.468E-07,4.392E-07,3.465E-07,2.600E-07,2.246E-07,1.928E-07]#"
   ]
  },
  {
   "cell_type": "code",
   "execution_count": null,
   "metadata": {
    "ExecuteTime": {
     "end_time": "2020-07-02T15:42:24.740184Z",
     "start_time": "2020-07-02T15:42:24.735242Z"
    },
    "collapsed": false
   },
   "outputs": [],
   "source": [
    "data_uvv_NGC1566.columns"
   ]
  },
  {
   "cell_type": "code",
   "execution_count": null,
   "metadata": {
    "ExecuteTime": {
     "end_time": "2020-07-02T15:42:29.821178Z",
     "start_time": "2020-07-02T15:42:29.803945Z"
    },
    "collapsed": false,
    "scrolled": true
   },
   "outputs": [],
   "source": [
    "for i in UV_datalist:\n",
    "    print(i.columns[4])\n",
    "    i['flux']=10**((-i[i.columns[4]]-48.6)/2.5)"
   ]
  },
  {
   "cell_type": "code",
   "execution_count": null,
   "metadata": {
    "ExecuteTime": {
     "end_time": "2020-07-01T17:35:38.864348Z",
     "start_time": "2020-07-01T17:35:38.849840Z"
    },
    "collapsed": false
   },
   "outputs": [],
   "source": [
    "data_uw1_NGC1566['flux']"
   ]
  },
  {
   "cell_type": "code",
   "execution_count": null,
   "metadata": {
    "ExecuteTime": {
     "end_time": "2020-07-01T17:36:35.125855Z",
     "start_time": "2020-07-01T17:36:35.078629Z"
    },
    "collapsed": false
   },
   "outputs": [],
   "source": [
    "sed_neowise_w1mpro_data"
   ]
  },
  {
   "cell_type": "code",
   "execution_count": null,
   "metadata": {
    "collapsed": true
   },
   "outputs": [],
   "source": []
  },
  {
   "cell_type": "markdown",
   "metadata": {},
   "source": [
    "## wise"
   ]
  },
  {
   "cell_type": "code",
   "execution_count": null,
   "metadata": {
    "ExecuteTime": {
     "end_time": "2020-07-02T17:02:54.273012Z",
     "start_time": "2020-07-02T17:02:54.251090Z"
    },
    "collapsed": true
   },
   "outputs": [],
   "source": [
    "data_allwise_epoch=pd.read_csv('/Users/brettlv/Downloads/wise_cl/NGC1566_multi_epoch.csv')\n",
    "data_neowise=pd.read_csv('/Users/brettlv/Downloads/wise_cl/NGC1566_neo.csv')"
   ]
  },
  {
   "cell_type": "code",
   "execution_count": null,
   "metadata": {
    "ExecuteTime": {
     "end_time": "2020-07-02T17:02:54.839700Z",
     "start_time": "2020-07-02T17:02:54.834089Z"
    },
    "collapsed": true
   },
   "outputs": [],
   "source": [
    "data_neowise_select=data_neowise.loc[:, ['w1mpro', 'w1sigmpro',\n",
    "         'w2mpro', 'w2sigmpro','w1mpro_allwise', 'w1sigmpro_allwise', 'w2mpro_allwise',\n",
    "        'w2sigmpro_allwise', 'w3mpro_allwise', 'w3sigmpro_allwise',\n",
    "        'w4mpro_allwise', 'w4sigmpro_allwise','mjd']]\n"
   ]
  },
  {
   "cell_type": "code",
   "execution_count": null,
   "metadata": {
    "ExecuteTime": {
     "end_time": "2020-07-02T17:25:37.602880Z",
     "start_time": "2020-07-02T17:25:33.607164Z"
    },
    "collapsed": false
   },
   "outputs": [],
   "source": [
    "fig, axs = plt.subplots(1, 1,figsize=(8,8))\n",
    "axs.set_title('NGC1566_wise')\n",
    "\n",
    "delta_m_wise=[2.699,3.339,5.174,6.620]\n",
    "delta_m_neowise=[2.699,3.339,2.699,3.339,5.174,6.620]\n",
    "\n",
    "\n",
    "for i in range(4):\n",
    "    name_mjd='mjd'\n",
    "    name_band=data_allwise_epoch.columns[i*3+8]\n",
    "    name_err=data_allwise_epoch.columns[i*3+9]\n",
    "    print(name_mjd,name_band,name_err,delta_m_wise[i])\n",
    "    data_band=data_allwise_epoch[data_allwise_epoch[name_mjd].notnull()]\n",
    "    data_band=data_band[data_band[name_band].notnull()]\n",
    "    #mag_wise_data=pd.DataFrame({'t':data_band[name_mjd],'flux':data_band[name_band],'err':data_band[name_err]},index=None,columns=['t','flux','err'])    \n",
    "    dcf_wise_data=pd.DataFrame({'t':data_band[name_mjd],'log_flux':(-48.6-data_band[name_band]-delta_m_wise[i])/2.5,'err':data_band[name_err]/2.5},index=None,columns=['t','log_flux','err'])    \n",
    "    dcf_wise_data['flux']=10**dcf_wise_data['log_flux']\n",
    "    dcf_wise_data=dcf_wise_data.sort_values('t')\n",
    "    dcf_wise_data.to_csv('/Users/brettlv/Downloads/NGC1566/sed_wise_multi_%s_data.csv'%name_band,index=False,header=False)          \n",
    "    axs.errorbar(dcf_wise_data['t'],dcf_wise_data['log_flux'],dcf_wise_data['err'],fmt='.',label=name_band+'multi_epoch')\n",
    "    print(max(dcf_wise_data['t']))\n",
    "    \n",
    "\n",
    "for i in range(6):\n",
    "    name_mjd='mjd'\n",
    "    name_band=data_neowise_select.columns[i*2]\n",
    "    name_err=data_neowise_select.columns[i*2+1]\n",
    "    print(name_mjd,name_band,name_err,delta_m_neowise[i])     \n",
    "    #mag_neowise_data=pd.DataFrame({'t':data_neowise[name_mjd],'flux':data_neowise[name_band],'err':data_neowise[name_err]},index=None,columns=['t','flux','err'])   \n",
    "    data_new=data_neowise_select[data_neowise_select[name_mjd].notnull()]\n",
    "    data_new=data_new[data_new[name_band].notnull()]\n",
    "    \n",
    "    dcf_neowise_data=pd.DataFrame({'t':data_new[name_mjd],'log_flux':(-48.6-data_new[name_band]-delta_m_neowise[i])/2.5,'err':data_new[name_err]/2.5},index=None,columns=['t','log_flux','err'])\n",
    "    dcf_neowise_data['flux']=10**(dcf_neowise_data['log_flux'])\n",
    "    dcf_neowise_data=dcf_neowise_data.sort_values('t')\n",
    "    dcf_neowise_data.to_csv('/Users/brettlv/Downloads/NGC1566/sed_neowise_%s_data.csv'%name_band,index=False,header=False,)      \n",
    "    axs.errorbar(dcf_neowise_data['t'],dcf_neowise_data['log_flux'],dcf_neowise_data['err'],fmt='.',label=name_band+'neo')\n",
    "    print(max(dcf_neowise_data['t']))\n",
    "    \n",
    "axs.legend(loc=[1.0,0.7])\n",
    "#axs.invert_yaxis() \n",
    "axs.set_ylabel('log_F')    \n",
    "#axs.set_ylabel('magnitude(AB)')\n",
    "axs.set_xlabel('mjd')\n",
    "plt.tight_layout()\n",
    "plt.savefig('/Users/brettlv/Downloads/NGC1566/wise_lc_sed.png',dpi=400)"
   ]
  },
  {
   "cell_type": "code",
   "execution_count": null,
   "metadata": {
    "ExecuteTime": {
     "end_time": "2020-07-02T15:43:21.873996Z",
     "start_time": "2020-07-02T15:43:21.869283Z"
    },
    "collapsed": false
   },
   "outputs": [],
   "source": [
    "print(data_xrt_goodfit_NGC1566.columns)"
   ]
  },
  {
   "cell_type": "markdown",
   "metadata": {},
   "source": [
    "## sim mjd"
   ]
  },
  {
   "cell_type": "code",
   "execution_count": null,
   "metadata": {
    "ExecuteTime": {
     "end_time": "2020-07-02T15:56:10.692826Z",
     "start_time": "2020-07-02T15:56:10.685722Z"
    },
    "collapsed": false
   },
   "outputs": [],
   "source": [
    "data_uvv_NGC1566.columns"
   ]
  },
  {
   "cell_type": "code",
   "execution_count": null,
   "metadata": {
    "ExecuteTime": {
     "end_time": "2020-07-02T15:56:33.103516Z",
     "start_time": "2020-07-02T15:56:33.097924Z"
    },
    "collapsed": false
   },
   "outputs": [],
   "source": [
    "data_xrt_goodfit_NGC1566.columns"
   ]
  },
  {
   "cell_type": "code",
   "execution_count": null,
   "metadata": {
    "ExecuteTime": {
     "end_time": "2020-07-02T22:50:31.635095Z",
     "start_time": "2020-07-02T22:50:31.622547Z"
    },
    "collapsed": true
   },
   "outputs": [],
   "source": []
  },
  {
   "cell_type": "markdown",
   "metadata": {},
   "source": [
    "## alpha_ox"
   ]
  },
  {
   "cell_type": "code",
   "execution_count": null,
   "metadata": {
    "ExecuteTime": {
     "end_time": "2020-07-02T22:38:04.398101Z",
     "start_time": "2020-07-02T22:38:04.392635Z"
    },
    "collapsed": false
   },
   "outputs": [],
   "source": [
    "data_uw1_NGC1566.columns"
   ]
  },
  {
   "cell_type": "code",
   "execution_count": null,
   "metadata": {
    "ExecuteTime": {
     "end_time": "2020-07-02T22:39:25.428414Z",
     "start_time": "2020-07-02T22:39:25.423096Z"
    },
    "collapsed": false
   },
   "outputs": [],
   "source": [
    "data_xrt_goodfit_NGC1566.columns"
   ]
  },
  {
   "cell_type": "code",
   "execution_count": null,
   "metadata": {
    "ExecuteTime": {
     "end_time": "2020-07-02T22:46:22.459852Z",
     "start_time": "2020-07-02T22:46:22.454861Z"
    },
    "collapsed": false
   },
   "outputs": [],
   "source": [
    "v_2keV "
   ]
  },
  {
   "cell_type": "code",
   "execution_count": null,
   "metadata": {
    "ExecuteTime": {
     "end_time": "2020-07-02T23:05:06.892602Z",
     "start_time": "2020-07-02T23:05:06.887237Z"
    },
    "collapsed": false
   },
   "outputs": [],
   "source": [
    "print(data_uw1_NGC1566.columns[3],data_uw1_NGC1566.columns[6])"
   ]
  },
  {
   "cell_type": "code",
   "execution_count": null,
   "metadata": {
    "ExecuteTime": {
     "end_time": "2020-07-02T23:05:38.833277Z",
     "start_time": "2020-07-02T23:05:38.828702Z"
    },
    "collapsed": false
   },
   "outputs": [],
   "source": [
    "print(data_xrt_goodfit_NGC1566.columns[1])"
   ]
  },
  {
   "cell_type": "code",
   "execution_count": null,
   "metadata": {
    "ExecuteTime": {
     "end_time": "2020-07-02T23:06:40.960692Z",
     "start_time": "2020-07-02T23:06:40.944817Z"
    },
    "collapsed": true
   },
   "outputs": [],
   "source": [
    "f_uw1=(constants.c/(2600*units.AA)).to(u.Hz).value\n",
    "\n",
    "def get_alpha_ox_mjd(data_uw1_NGC1566,data_xrt_goodfit_NGC1566,mjd):\n",
    "    mjd_near_i=np.argmin(abs(data_uw1_NGC1566[data_uw1_NGC1566.columns[3]]-mjd))\n",
    "    mjd_near=data_uw1_NGC1566[data_uw1_NGC1566.columns[3]][mjd_near_i]    \n",
    "    if abs(mjd_near-mjd)<0.01:\n",
    "        v_f_uw1=data_uw1_NGC1566[data_uw1_NGC1566.columns[6]][mjd_near_i] *1.0e-26*f_uw1       \n",
    "        \n",
    "    mjd_near_i=np.argmin(abs(data_xrt_goodfit_NGC1566[data_xrt_goodfit_NGC1566.columns[1]]-mjd))\n",
    "    mjd_near=data_xrt_goodfit_NGC1566[data_xrt_goodfit_NGC1566.columns[1]][mjd_near_i] \n",
    "    \n",
    "    if abs(mjd_near-mjd)<0.01:\n",
    "        v_f_2keV=data_xrt_goodfit_NGC1566['F_{2keV}'][mjd_near_i]*v_2keV        \n",
    "    alpha_ox=1-(np.log10(v_f_uw1)-np.log10(v_f_2keV))/(np.log10(f_uw1)-np.log10(v_2keV))    \n",
    "    \n",
    "    return alpha_ox, v_f_uw1,v_f_2keV\n",
    "\n"
   ]
  },
  {
   "cell_type": "code",
   "execution_count": null,
   "metadata": {
    "ExecuteTime": {
     "end_time": "2020-07-02T23:06:42.207194Z",
     "start_time": "2020-07-02T23:06:42.186219Z"
    },
    "collapsed": false
   },
   "outputs": [],
   "source": [
    "def get_simultaneous_mjd(uvot,xray_append,timebin=1):\n",
    "    t_uv=[]\n",
    "    t_xray=[]\n",
    "    print(uvot.columns[3],xray_append.columns[1])\n",
    "    for i in uvot[uvot.columns[3]]:\n",
    "        for j in xray_append[xray_append.columns[1]]:\n",
    "            if abs(i-j)<timebin:\n",
    "                t_uv.append(i)\n",
    "                t_xray.append(j)                \n",
    "    return np.array(t_uv),np.array(t_xray)\n",
    "\n",
    "t_uw1,t_xray=get_simultaneous_mjd(data_uw1_NGC1566,data_xrt_goodfit_NGC1566,timebin=0.01)\n",
    "t_uw1.sort()\n",
    "print(len(t_uw1))\n"
   ]
  },
  {
   "cell_type": "code",
   "execution_count": null,
   "metadata": {
    "ExecuteTime": {
     "end_time": "2020-07-02T23:06:45.804717Z",
     "start_time": "2020-07-02T23:06:43.051732Z"
    },
    "collapsed": false
   },
   "outputs": [],
   "source": [
    "fig = plt.figure(figsize=(8,6),dpi=400)\n",
    "ax = fig.add_subplot(111)\n",
    "\n",
    "for mjd in t_uw1:\n",
    "    alpha_ox, v_f_uw1,v_f_2keV=get_alpha_ox_mjd(data_uw1_NGC1566,data_xrt_goodfit_NGC1566,mjd)\n",
    "    ax.scatter(4*np.pi*D_cm**2*v_f_uw1/f_uw1, alpha_ox)\n",
    "    \n",
    "ax.xaxis.set_tick_params(which='major', size=10, width=2, direction='in', top='on',)\n",
    "ax.xaxis.set_tick_params(which='minor', size=7, width=2, direction='in', top='on')\n",
    "ax.yaxis.set_tick_params(which='major', size=10, width=2, direction='in', right='on')\n",
    "ax.yaxis.set_tick_params(which='minor', size=7, width=2, direction='in', right='on')\n",
    "#ax.xaxis.set_major_locator(mpl.ticker.MultipleLocator(100))\n",
    "#ax.xaxis.set_minor_locator(mpl.ticker.MultipleLocator(10))\n",
    "ax.yaxis.set_major_locator(mpl.ticker.MultipleLocator(0.1))\n",
    "ax.yaxis.set_minor_locator(mpl.ticker.MultipleLocator(0.01))\n",
    "ax.semilogx()\n",
    "ax.set_xlabel(r'$L_{\\mathregular{2600 \\AA}}$ ($erg\\,s^{-1}\\,Hz^{-1}$)')\n",
    "ax.set_ylabel(r'$\\mathregular{\\alpha_{OX}}$')\n",
    "\n",
    "\n",
    "handles, labels = plt.gca().get_legend_handles_labels()\n",
    "by_label = OrderedDict(zip(labels, handles))\n",
    "ax.legend(by_label.values(), by_label.keys(),bbox_to_anchor=(1.2, 0.8),ncol=1,loc='right',fontsize=10)\n",
    "\n",
    "\n",
    "ax.grid(alpha=0.1,which='major', linestyle='--', linewidth=1)\n",
    "plt.subplots_adjust(hspace = 0.0)\n",
    "plt.savefig('/Users/brettlv/Downloads/NGC1566/NGC1566_alpha_ox_L_uw1.png', dpi=300, transparent=False, bbox_inches='tight')\n"
   ]
  },
  {
   "cell_type": "code",
   "execution_count": null,
   "metadata": {
    "ExecuteTime": {
     "end_time": "2020-07-02T23:17:07.269774Z",
     "start_time": "2020-07-02T23:17:03.887887Z"
    },
    "collapsed": false
   },
   "outputs": [],
   "source": [
    "fig = plt.figure(figsize=(8,6),dpi=400)\n",
    "ax = fig.add_subplot(111)\n",
    "\n",
    "\n",
    "#ax.set_title('SED of Mrk1018')\n",
    "#ax.semilogy()\n",
    "ax.semilogx()\n",
    "#ax.set_xlabel(r'$F_{\\mathregular{2\\,keV}}$ ($erg\\,s^{-1}\\,cm^{-2}$)')\n",
    "ax.set_xlabel(r'$L_{\\mathregular{2\\,keV}}$ ($erg\\,s^{-1}\\,Hz^{-1}$)')\n",
    "ax.set_ylabel(r'$\\mathregular{\\alpha_{OX}}$')\n",
    "\n",
    "for mjd in t_uw1:\n",
    "    alpha_ox, v_f_uw1,v_f_2keV=get_alpha_ox_mjd(data_uw1_NGC1566,data_xrt_goodfit_NGC1566,mjd)\n",
    "    ax.scatter(4*np.pi*D_cm**2*v_f_2keV/v_2keV, alpha_ox)\n",
    " \n",
    "    \n",
    "ax.xaxis.set_tick_params(which='major', size=10, width=2, direction='in', top='on',)\n",
    "ax.xaxis.set_tick_params(which='minor', size=7, width=2, direction='in', top='on')\n",
    "ax.yaxis.set_tick_params(which='major', size=10, width=2, direction='in', right='on')\n",
    "ax.yaxis.set_tick_params(which='minor', size=7, width=2, direction='in', right='on')\n",
    "#ax.xaxis.set_major_locator(mpl.ticker.MultipleLocator(100))\n",
    "#ax.xaxis.set_minor_locator(mpl.ticker.MultipleLocator(10))\n",
    "ax.yaxis.set_major_locator(mpl.ticker.MultipleLocator(0.1))\n",
    "ax.yaxis.set_minor_locator(mpl.ticker.MultipleLocator(0.01))\n",
    "\n",
    "\n",
    "handles, labels = plt.gca().get_legend_handles_labels()\n",
    "by_label = OrderedDict(zip(labels, handles))\n",
    "ax.legend(by_label.values(), by_label.keys(),bbox_to_anchor=(1.2, 0.8),ncol=1,loc='right',fontsize=10)\n",
    "\n",
    "\n",
    "ax.grid(alpha=0.1,which='major', linestyle='--', linewidth=1)\n",
    "plt.subplots_adjust(hspace = 0.0)\n",
    "plt.savefig('/Users/brettlv/Downloads/NGC1566/NGC1566_alpha_ox_L_2keV.png', dpi=300, transparent=False, bbox_inches='tight')\n",
    "# Show figure\n",
    "plt.show()\n"
   ]
  },
  {
   "cell_type": "code",
   "execution_count": null,
   "metadata": {
    "collapsed": true
   },
   "outputs": [],
   "source": []
  },
  {
   "cell_type": "code",
   "execution_count": null,
   "metadata": {
    "ExecuteTime": {
     "end_time": "2020-07-02T22:34:40.110223Z",
     "start_time": "2020-07-02T22:34:40.081115Z"
    },
    "collapsed": false
   },
   "outputs": [],
   "source": [
    "t_uvv,t_xray=get_simultaneous_mjd(data_uvv_NGC1566,data_xrt_goodfit_NGC1566,timebin=0.1)\n",
    "t_uvv.sort()\n",
    "print(len(t_uvv))\n",
    "for i in t_uvv:\n",
    "    print('%.2f'%i,end=' ,')"
   ]
  },
  {
   "cell_type": "code",
   "execution_count": null,
   "metadata": {
    "collapsed": true
   },
   "outputs": [],
   "source": []
  },
  {
   "cell_type": "code",
   "execution_count": null,
   "metadata": {
    "collapsed": true
   },
   "outputs": [],
   "source": [
    "#swift\n",
    "mjd_list=[54467.73,55381.84,58330.99,58483.19,58681.29,58695.23]"
   ]
  },
  {
   "cell_type": "code",
   "execution_count": null,
   "metadata": {
    "collapsed": true
   },
   "outputs": [],
   "source": [
    "#wise\n",
    "mjd_list=[55212,55400,55579,56677,56866,57039,57228,57400,57593,57761,58123,58323,58483,58689]\n"
   ]
  },
  {
   "cell_type": "code",
   "execution_count": null,
   "metadata": {
    "collapsed": true
   },
   "outputs": [],
   "source": []
  },
  {
   "cell_type": "code",
   "execution_count": null,
   "metadata": {
    "ExecuteTime": {
     "end_time": "2020-07-02T21:39:43.343519Z",
     "start_time": "2020-07-02T21:39:43.314516Z"
    },
    "collapsed": false
   },
   "outputs": [],
   "source": [
    "t_uvv,t_xray=get_simultaneous_mjd(data_uvv_NGC1566,data_xrt_goodfit_NGC1566,timebin=0.1)\n",
    "for i in t_uvv:\n",
    "    print('%.2f'%i)"
   ]
  },
  {
   "cell_type": "markdown",
   "metadata": {
    "ExecuteTime": {
     "end_time": "2020-07-02T16:21:35.036933Z",
     "start_time": "2020-07-02T16:21:35.031293Z"
    }
   },
   "source": [
    "data_rebin_neowise_w1[0]"
   ]
  },
  {
   "cell_type": "code",
   "execution_count": null,
   "metadata": {
    "collapsed": true
   },
   "outputs": [],
   "source": [
    "55212,55400,55579,56677,56866,57039,57228,57400,57593,57761,58123,58323,58483,58689\n",
    "54467,55370,55375,55381,58330,58338\n",
    "58339\n",
    "58339\n",
    "58340\n",
    "58340"
   ]
  },
  {
   "cell_type": "code",
   "execution_count": null,
   "metadata": {
    "collapsed": true
   },
   "outputs": [],
   "source": []
  },
  {
   "cell_type": "code",
   "execution_count": null,
   "metadata": {
    "collapsed": true
   },
   "outputs": [],
   "source": []
  },
  {
   "cell_type": "code",
   "execution_count": null,
   "metadata": {
    "ExecuteTime": {
     "end_time": "2020-07-02T16:20:48.943555Z",
     "start_time": "2020-07-02T16:20:48.928083Z"
    },
    "collapsed": false
   },
   "outputs": [],
   "source": [
    "data_rebin_neowise_w1=pd.read_csv('/Users/brettlv/Downloads/NGC1566/rebin_dcf_neowise_w1.csv',header=None)\n",
    "data_rebin_neowise_w2=pd.read_csv('/Users/brettlv/Downloads/NGC1566/rebin_dcf_neowise_w2.csv',header=None)"
   ]
  },
  {
   "cell_type": "code",
   "execution_count": null,
   "metadata": {
    "ExecuteTime": {
     "end_time": "2020-07-02T16:20:35.277135Z",
     "start_time": "2020-07-02T16:20:35.020233Z"
    },
    "collapsed": false
   },
   "outputs": [],
   "source": [
    "plt.scatter(data_rebin_neowise_w1[0],data_rebin_neowise_w1[0])"
   ]
  },
  {
   "cell_type": "markdown",
   "metadata": {
    "ExecuteTime": {
     "end_time": "2020-07-02T16:19:17.833690Z",
     "start_time": "2020-07-02T16:19:17.563908Z"
    }
   },
   "source": [
    "plt.scatter(sed_multiwise_w1mpro_data[0],sed_multiwise_w1mpro_data[0])"
   ]
  },
  {
   "cell_type": "code",
   "execution_count": null,
   "metadata": {
    "ExecuteTime": {
     "end_time": "2020-07-02T15:58:11.153135Z",
     "start_time": "2020-07-02T15:58:11.148030Z"
    },
    "collapsed": false
   },
   "outputs": [],
   "source": [
    "t_uvv.size"
   ]
  },
  {
   "cell_type": "markdown",
   "metadata": {},
   "source": [
    "# get sed data"
   ]
  },
  {
   "cell_type": "markdown",
   "metadata": {
    "ExecuteTime": {
     "end_time": "2020-06-27T13:24:38.191046Z",
     "start_time": "2020-06-27T13:24:38.179169Z"
    }
   },
   "source": [
    "data_xrt_goodfit_NGC1566['obs_time']"
   ]
  },
  {
   "cell_type": "markdown",
   "metadata": {
    "ExecuteTime": {
     "end_time": "2020-06-27T14:27:32.123429Z",
     "start_time": "2020-06-27T14:27:32.115120Z"
    }
   },
   "source": [
    "for l in UV_lambda_list:\n",
    "    v_i=(constants.c/l/units.m).to(units.Hz).value\n",
    "    print(v_i)"
   ]
  },
  {
   "cell_type": "markdown",
   "metadata": {
    "ExecuteTime": {
     "end_time": "2020-06-27T15:02:56.233074Z",
     "start_time": "2020-06-27T15:02:56.205755Z"
    }
   },
   "source": [
    "for i in data_xrt_goodfit_NGC1566['obs_time']:\n",
    "    print(i)"
   ]
  },
  {
   "cell_type": "code",
   "execution_count": null,
   "metadata": {
    "collapsed": true
   },
   "outputs": [],
   "source": []
  },
  {
   "cell_type": "code",
   "execution_count": null,
   "metadata": {
    "collapsed": true
   },
   "outputs": [],
   "source": []
  },
  {
   "cell_type": "code",
   "execution_count": null,
   "metadata": {
    "ExecuteTime": {
     "end_time": "2020-07-02T17:26:17.781215Z",
     "start_time": "2020-07-02T17:26:17.741553Z"
    },
    "collapsed": false
   },
   "outputs": [],
   "source": [
    "sed_neowise_w1mpro_data=pd.read_csv('/Users/brettlv/Downloads/NGC1566/sed_neowise_w1mpro_data.csv',header=None)\n",
    "sed_neowise_w2mpro_data=pd.read_csv('/Users/brettlv/Downloads/NGC1566/sed_neowise_w2mpro_data.csv',header=None)\n",
    "sed_neowise_w3mpro_data=pd.read_csv('/Users/brettlv/Downloads/NGC1566/sed_neowise_w3mpro_allwise_data.csv',header=None)\n",
    "sed_neowise_w4mpro_data=pd.read_csv('/Users/brettlv/Downloads/NGC1566/sed_neowise_w4mpro_allwise_data.csv',header=None)\n",
    "sed_multiwise_w1mpro_data=pd.read_csv('/Users/brettlv/Downloads/NGC1566/sed_wise_multi_w1mpro_ep_data.csv',header=None)\n",
    "sed_multiwise_w2mpro_data=pd.read_csv('/Users/brettlv/Downloads/NGC1566/sed_wise_multi_w2mpro_ep_data.csv',header=None)\n",
    "sed_multiwise_w3mpro_data=pd.read_csv('/Users/brettlv/Downloads/NGC1566/sed_wise_multi_w3mpro_ep_data.csv',header=None)\n",
    "sed_multiwise_w4mpro_data=pd.read_csv('/Users/brettlv/Downloads/NGC1566/sed_wise_multi_w4mpro_ep_data.csv',header=None)"
   ]
  },
  {
   "cell_type": "code",
   "execution_count": null,
   "metadata": {
    "ExecuteTime": {
     "end_time": "2020-07-02T17:26:19.716060Z",
     "start_time": "2020-07-02T17:26:19.710599Z"
    },
    "collapsed": true
   },
   "outputs": [],
   "source": [
    "neowise_namelist=['w1mpro','w2mpro','w3mpro_allwise','w4mpro_allwise']\n",
    "neowise_lambdalist=[3.400E-06,4.600E-06,1.200E-05,2.200E-05]\n",
    "neowise_datalist=[sed_neowise_w1mpro_data,sed_neowise_w2mpro_data,sed_neowise_w3mpro_data,sed_neowise_w4mpro_data]\n",
    "multiwise_namelist=['w1mpro_ep','w2mpro_ep','w3mpro_ep','w4mpro_ep']\n",
    "multiwise_datalist=[sed_multiwise_w1mpro_data,sed_multiwise_w2mpro_data,sed_multiwise_w3mpro_data,sed_multiwise_w4mpro_data]\n",
    "wise_lambdalist=[3.400E-06,4.600E-06,1.200E-05,2.200E-05]"
   ]
  },
  {
   "cell_type": "code",
   "execution_count": null,
   "metadata": {
    "ExecuteTime": {
     "end_time": "2020-07-02T17:26:21.385669Z",
     "start_time": "2020-07-02T17:26:21.379445Z"
    },
    "collapsed": false
   },
   "outputs": [],
   "source": [
    "for l in wise_lambdalist:\n",
    "    v_i=(constants.c/l/units.m).to(units.Hz).value\n",
    "    print('{:.2e}'.format(v_i))"
   ]
  },
  {
   "cell_type": "code",
   "execution_count": null,
   "metadata": {
    "ExecuteTime": {
     "end_time": "2020-07-02T17:26:21.955013Z",
     "start_time": "2020-07-02T17:26:21.946961Z"
    },
    "collapsed": false
   },
   "outputs": [],
   "source": [
    "for l in UV_lambda_list:\n",
    "    v_i=(constants.c/l/units.m).to(units.Hz).value\n",
    "    print('{:.2e}'.format(v_i))"
   ]
  },
  {
   "cell_type": "markdown",
   "metadata": {},
   "source": [
    "## plot_vFv-v"
   ]
  },
  {
   "cell_type": "code",
   "execution_count": null,
   "metadata": {
    "collapsed": true
   },
   "outputs": [],
   "source": [
    "1Jy= 1e-26 W m-2Hz-1\n",
    "   = 1e-26 J/s m-2 Hz-1\n",
    "   = 1e-19 erg/s m-2 Hz-1\n",
    "   = 1e-23 erg/s cm-2 Hz-1"
   ]
  },
  {
   "cell_type": "markdown",
   "metadata": {},
   "source": [
    "## based on wise"
   ]
  },
  {
   "cell_type": "code",
   "execution_count": null,
   "metadata": {
    "ExecuteTime": {
     "end_time": "2020-07-02T21:54:02.650065Z",
     "start_time": "2020-07-02T21:53:56.964554Z"
    },
    "collapsed": false,
    "scrolled": true
   },
   "outputs": [],
   "source": [
    "#mjd_list=[55212,55400,55579,56677,56866,57039,57228,57400,57593,57761,58123,58323,58483,58689]\n",
    "mjd_list=[55212,55400,55579,56677,56866,57039,57228,57400,57593,57761,58123,58323,58483,58689]\n",
    "\n",
    "markers_pd=['*','.','+','d','h','v','^','x','>','1','2','3','4','8','p','P','<','H','X','D','|','_']\n",
    "colors_pd=['red','green','blue','yellow','lightblue','cyan','tan','gold','sandybrown','olivedrab','chartreuse','darkgreen','m','skyblue','violet','crimson','purple','magenta','lime','turquoise','lightcyan','teal','indigo']\n",
    "marker_dict = dict(zip(mjd_list, markers_pd[:len(mjd_list)]))\n",
    "colors_8 = cm.get_cmap('tab10', 8)\n",
    "colors_pd_8=[colors_8(0),colors_8(1),colors_8(2),colors_8(3),colors_8(4),colors_8(5),colors_8(6),colors_8(7),]\n",
    "color_dict=dict(zip(mjd_list, colors_pd[:len(mjd_list)]))\n",
    "\n",
    "def plot_xrt_sed_time(mjd,data_xrt_goodfit_NGC1566,marker,color='r'):\n",
    "    mjd_near_i=np.argmin(abs(data_xrt_goodfit_NGC1566['obs_time']-mjd))\n",
    "    mjd_near=data_xrt_goodfit_NGC1566['obs_time'][mjd_near_i]\n",
    "    if abs(mjd_near-mjd)<10:\n",
    "        print('xrt',mjd_near)\n",
    "        for i in range(5):\n",
    "            #print(i+1,data_xrt_goodfit_NGC1566.columns[i+10])\n",
    "            v_i=(i+1)*2*v_1keV\n",
    "            f_v_i=data_xrt_goodfit_NGC1566[data_xrt_goodfit_NGC1566.columns[i+10]][mjd_near_i]\n",
    "            print(\"%10.3e\"% (v_i),\"%10.3e\"% (f_v_i))\n",
    "            axs.scatter(v_i,v_i*f_v_i,marker=marker,label=mjd,color=color)\n",
    "            #axs.text(v_i,v_i*f_v_i,str((i+1)*2))\n",
    "            \n",
    "            \n",
    "def plot_uvot_sed_time(mjd,UV_namelist,UV_datalist,UV_lambda_list,marker,color='r'):\n",
    "    for i,j,l in zip(UV_namelist,UV_datalist,UV_lambda_list):\n",
    "        mjd_near_i=np.argmin(abs(j[j.columns[3]]-mjd))\n",
    "        mjd_near=j[j.columns[3]][mjd_near_i]           \n",
    "        if abs(mjd_near-mjd)<10:\n",
    "            v_i=(constants.c/l/units.m).to(units.Hz).value\n",
    "            f_v_i=j[j.columns[-1]][mjd_near_i]  \n",
    "            print(i,mjd_near)\n",
    "            print(\"%10.3e\"% (v_i),\"%10.3e\"% (f_v_i))\n",
    "            axs.scatter(v_i,v_i*f_v_i,marker=marker,label=mjd,color=color) \n",
    "            #axs.text(v_i,v_i*f_v_i,i)\n",
    "\n",
    "def plot_wise_sed_time(mjd,wise_namelist,wise_datalist,wise_lambdalist,marker,color='r'):\n",
    "    for i,j,l in zip(wise_namelist,wise_datalist,wise_lambdalist):\n",
    "        mjd_near_i=np.argmin(abs(j[j.columns[0]]-mjd))\n",
    "        mjd_near=j[j.columns[0]][mjd_near_i]           \n",
    "        if abs(mjd_near-mjd)<2:\n",
    "            print(i,mjd_near)\n",
    "            v_i=(constants.c/l/units.m).to(units.Hz).value\n",
    "            f_v_i=j[j.columns[3]][mjd_near_i]\n",
    "            print(\"%10.3e\"% (v_i),\"%10.3e\"% (f_v_i))\n",
    "            axs.scatter(v_i,v_i*f_v_i,marker=marker,label=mjd,color=color) \n",
    "            #axs.text(v_i,v_i*f_v_i,i[:2])\n",
    "            \n",
    "def plot_mjd_sed(mjd,marker,color):\n",
    "    plot_uvot_sed_time(mjd,UV_namelist,UV_datalist,UV_lambda_list,marker,color)\n",
    "    plot_xrt_sed_time(mjd,data_xrt_goodfit_NGC1566,marker,color)\n",
    "    if mjd < 56000:\n",
    "        plot_wise_sed_time(mjd,multiwise_namelist,multiwise_datalist,wise_lambdalist,marker,color)                \n",
    "    else:\n",
    "        plot_neowise_sed_time(mjd,neowise_namelist,neowise_datalist,neowise_lambdalist,marker,color)\n",
    "          \n",
    "\n",
    "fig, axs = plt.subplots(1, 1,figsize=(8,6))\n",
    "axs.set_title('NGC1566_SED')\n",
    "axs.semilogy()\n",
    "axs.semilogx()\n",
    "axs.set_ylabel(r'$\\nu F_{\\nu}$ ($erg s^{-1} cm^{-2}$)')\n",
    "axs.set_xlabel('Hz')\n",
    "\n",
    "for i in mjd_list:\n",
    "    marker=marker_dict[i]\n",
    "    color=color_dict[i]\n",
    "    plot_mjd_sed(i,marker,color)\n",
    "\n",
    "    \n",
    "axs.xaxis.set_tick_params(which='major', size=10, width=2, direction='in', top='on')\n",
    "axs.xaxis.set_tick_params(which='minor', size=7, width=2, direction='in', top='on')\n",
    "axs.yaxis.set_tick_params(which='major', size=10, width=2, direction='in', right='on')\n",
    "axs.yaxis.set_tick_params(which='minor', size=7, width=2, direction='in', right='on')\n",
    "#axs.xaxis.set_major_locator(mpl.ticker.MultipleLocator(100))\n",
    "#axs.xaxis.set_minor_locator(mpl.ticker.MultipleLocator(10))\n",
    "    \n",
    "#axs.set_xlim(6.0e13,1.0e19)    \n",
    "    \n",
    "handles, labels = plt.gca().get_legend_handles_labels()\n",
    "by_label = OrderedDict(zip(labels, handles))    \n",
    "axs.legend(by_label.values(), by_label.keys(),bbox_to_anchor=(1.2, 0.7),ncol=1,loc='right')    \n",
    "axs.grid(alpha=0.1,which='major', linestyle='--', linewidth=1)\n",
    "plt.tight_layout()\n",
    "plt.savefig('/Users/brettlv/Downloads/NGC1566/NGC1566_sed_based_on_wise.png',dpi=400)"
   ]
  },
  {
   "cell_type": "code",
   "execution_count": null,
   "metadata": {
    "collapsed": true
   },
   "outputs": [],
   "source": []
  },
  {
   "cell_type": "markdown",
   "metadata": {},
   "source": [
    "## based on Swift"
   ]
  },
  {
   "cell_type": "code",
   "execution_count": null,
   "metadata": {
    "ExecuteTime": {
     "end_time": "2020-07-02T17:26:51.411980Z",
     "start_time": "2020-07-02T17:26:51.401975Z"
    },
    "collapsed": true
   },
   "outputs": [],
   "source": []
  },
  {
   "cell_type": "code",
   "execution_count": null,
   "metadata": {
    "ExecuteTime": {
     "end_time": "2020-07-08T15:33:06.104774Z",
     "start_time": "2020-07-08T15:32:47.542082Z"
    },
    "collapsed": false
   },
   "outputs": [],
   "source": [
    "#mjd_list=[54467,55370,58330,58350,58380,58483,58695,58829]\n",
    "mjd_list=[54467.73,55381.84,56930.51,56950.76,58323.93,58330.99,58483.19,58681.29,5848358695.23]\n",
    "\n",
    "markers_pd=['*','.','+','d','h','v','^','x','>','1','2','3','4','8','p','P','<','H','X','D','|','_']\n",
    "colors_pd=['red','green','blue','yellow','lightblue','cyan','tan','gold','sandybrown','olivedrab','chartreuse','darkgreen','m','skyblue','violet','crimson','purple','magenta','lime','turquoise','lightcyan','teal','indigo']\n",
    "marker_dict = dict(zip(mjd_list, markers_pd[:len(mjd_list)]))\n",
    "colors_8 = cm.get_cmap('tab10', 8)\n",
    "colors_pd_8=[colors_8(0),colors_8(1),colors_8(2),colors_8(3),colors_8(4),colors_8(5),colors_8(6),colors_8(7),]\n",
    "color_dict=dict(zip(mjd_list, colors_pd[:len(mjd_list)]))\n",
    "\n",
    "def plot_xrt_sed_time(mjd,data_xrt_goodfit_NGC1566,marker,color='r'):\n",
    "    mjd_near_i=np.argmin(abs(data_xrt_goodfit_NGC1566['obs_time']-mjd))\n",
    "    mjd_near=data_xrt_goodfit_NGC1566['obs_time'][mjd_near_i]\n",
    "    if abs(mjd_near-mjd)<0.5:\n",
    "        print('xrt',mjd_near)\n",
    "        for i in range(5):\n",
    "            #print(i+1,data_xrt_goodfit_NGC1566.columns[i+10])\n",
    "            v_i=(i+1)*2*v_1keV\n",
    "            f_v_i=data_xrt_goodfit_NGC1566[data_xrt_goodfit_NGC1566.columns[i+10]][mjd_near_i]\n",
    "            #print(\"%10.3e\"% (v_i),\"%10.3e\"% (f_v_i))\n",
    "            axs.scatter(v_i,v_i*f_v_i,marker=marker,label=mjd,color=color)\n",
    "            #axs.text(v_i,v_i*f_v_i,str((i+1)*2))\n",
    "            \n",
    "            \n",
    "def plot_uvot_sed_time(mjd,UV_namelist,UV_datalist,UV_lambda_list,marker,color='r'):\n",
    "    for i,j,l in zip(UV_namelist,UV_datalist,UV_lambda_list):\n",
    "        mjd_near_i=np.argmin(abs(j[j.columns[3]]-mjd))\n",
    "        mjd_near=j[j.columns[3]][mjd_near_i]           \n",
    "        if abs(mjd_near-mjd)<1.0:\n",
    "            v_i=(constants.c/l/units.m).to(units.Hz).value\n",
    "            f_v_i=j[j.columns[-1]][mjd_near_i]  \n",
    "            print(i,mjd_near)\n",
    "            #print(\"%10.3e\"% (v_i),\"%10.3e\"% (f_v_i))\n",
    "            axs.scatter(v_i,v_i*f_v_i,marker=marker,label=mjd,color=color) \n",
    "            #axs.text(v_i,v_i*f_v_i,i)\n",
    "\n",
    "def plot_wise_sed_time(mjd,wise_namelist,wise_datalist,wise_lambdalist,marker,color='r'):\n",
    "    for i,j,l in zip(wise_namelist,wise_datalist,wise_lambdalist):\n",
    "        mjd_near_i=np.argmin(abs(j[j.columns[0]]-mjd))\n",
    "        mjd_near=j[j.columns[0]][mjd_near_i]           \n",
    "        if abs(mjd_near-mjd)<20:\n",
    "            print(i,mjd_near)\n",
    "            v_i=(constants.c/l/units.m).to(units.Hz).value\n",
    "            f_v_i=j[j.columns[3]][mjd_near_i]\n",
    "            print(i,\"%10.3e\"% (v_i),\"%10.3e\"% (f_v_i))\n",
    "            axs.scatter(v_i,v_i*f_v_i,marker=marker,label=mjd,color=color) \n",
    "            #axs.text(v_i,v_i*f_v_i,i[:2])\n",
    "            \n",
    "def plot_mjd_sed(mjd,marker,color):\n",
    "    plot_uvot_sed_time(mjd,UV_namelist,UV_datalist,UV_lambda_list,marker,color)\n",
    "    plot_xrt_sed_time(mjd,data_xrt_goodfit_NGC1566,marker,color)\n",
    "    if mjd < 56000:\n",
    "        plot_wise_sed_time(mjd,multiwise_namelist,multiwise_datalist,wise_lambdalist,marker,color)                \n",
    "    else:\n",
    "        plot_wise_sed_time(mjd,neowise_namelist,neowise_datalist,wise_lambdalist,marker,color)\n",
    "          \n",
    "\n",
    "fig, axs = plt.subplots(1, 1,figsize=(8,8))\n",
    "axs.set_title('NGC1566_SED')\n",
    "axs.semilogy()\n",
    "axs.semilogx()\n",
    "axs.set_ylabel(r'$\\nu F_{\\nu}$ ($erg s^{-1} cm^{-2}$)')\n",
    "axs.set_xlabel('Hz')\n",
    "\n",
    "for i in mjd_list:\n",
    "    marker=marker_dict[i]\n",
    "    color=color_dict[i]\n",
    "    plot_mjd_sed(i,marker,color)\n",
    "\n",
    "    \n",
    "axs.xaxis.set_tick_params(which='major', size=10, width=2, direction='in', top='on')\n",
    "axs.xaxis.set_tick_params(which='minor', size=7, width=2, direction='in', top='on')\n",
    "axs.yaxis.set_tick_params(which='major', size=10, width=2, direction='in', right='on')\n",
    "axs.yaxis.set_tick_params(which='minor', size=7, width=2, direction='in', right='on')\n",
    "#axs.xaxis.set_major_locator(mpl.ticker.MultipleLocator(100))\n",
    "#axs.xaxis.set_minor_locator(mpl.ticker.MultipleLocator(10))\n",
    "    \n",
    "#axs.set_xlim(6.0e13,1.0e19)    \n",
    "    \n",
    "handles, labels = plt.gca().get_legend_handles_labels()\n",
    "by_label = OrderedDict(zip(labels, handles))    \n",
    "axs.legend(by_label.values(), by_label.keys(),bbox_to_anchor=(1.2, 0.7),ncol=1,loc='right')    \n",
    "axs.grid(alpha=0.1,which='major', linestyle='--', linewidth=1)\n",
    "plt.tight_layout()\n",
    "plt.savefig('/Users/brettlv/Downloads/NGC1566/NGC1566_sed_based_on_swift.png',dpi=400)"
   ]
  },
  {
   "cell_type": "code",
   "execution_count": null,
   "metadata": {
    "collapsed": true
   },
   "outputs": [],
   "source": []
  },
  {
   "cell_type": "code",
   "execution_count": null,
   "metadata": {
    "collapsed": true
   },
   "outputs": [],
   "source": []
  },
  {
   "cell_type": "code",
   "execution_count": null,
   "metadata": {
    "ExecuteTime": {
     "end_time": "2020-07-02T22:11:23.690558Z",
     "start_time": "2020-07-02T22:11:23.670608Z"
    },
    "collapsed": false
   },
   "outputs": [],
   "source": [
    "1.264/2246,1.126/1928"
   ]
  },
  {
   "cell_type": "code",
   "execution_count": null,
   "metadata": {
    "collapsed": true
   },
   "outputs": [],
   "source": []
  },
  {
   "cell_type": "code",
   "execution_count": null,
   "metadata": {
    "ExecuteTime": {
     "end_time": "2020-07-01T16:48:46.293355Z",
     "start_time": "2020-07-01T16:48:46.283589Z"
    },
    "collapsed": false
   },
   "outputs": [],
   "source": [
    "10**((-48.6-9.039)/2.5)* (constants.c/(3.400E-06*units.m)).to(units.Hz).value"
   ]
  },
  {
   "cell_type": "code",
   "execution_count": null,
   "metadata": {
    "ExecuteTime": {
     "end_time": "2020-07-01T16:49:29.923914Z",
     "start_time": "2020-07-01T16:49:29.918519Z"
    },
    "collapsed": false
   },
   "outputs": [],
   "source": [
    "(constants.c/(3.400E-06*units.m)).to(units.Hz).value"
   ]
  },
  {
   "cell_type": "code",
   "execution_count": null,
   "metadata": {
    "ExecuteTime": {
     "end_time": "2020-07-01T16:55:59.295526Z",
     "start_time": "2020-07-01T16:55:59.290524Z"
    },
    "collapsed": false
   },
   "outputs": [],
   "source": [
    "(constants.c/3.400E-06/units.m).to(units.Hz).value"
   ]
  },
  {
   "cell_type": "code",
   "execution_count": null,
   "metadata": {
    "ExecuteTime": {
     "end_time": "2020-07-01T16:56:00.265506Z",
     "start_time": "2020-07-01T16:56:00.260124Z"
    },
    "collapsed": false
   },
   "outputs": [],
   "source": [
    "(constants.c/5.468E-07/units.m).to(units.Hz).value"
   ]
  },
  {
   "cell_type": "markdown",
   "metadata": {
    "collapsed": true
   },
   "source": [
    "## plot vLv-v"
   ]
  },
  {
   "cell_type": "code",
   "execution_count": null,
   "metadata": {
    "ExecuteTime": {
     "end_time": "2020-07-02T22:33:36.936303Z",
     "start_time": "2020-07-02T22:33:30.991370Z"
    },
    "collapsed": false
   },
   "outputs": [],
   "source": [
    "#mjd_list=[54467,55370,58330,58350,58380,58483,58695,58829]\n",
    "mjd_list=[54467.73,55381.84,56930.51,56950.76,58323.93,58330.99,58483.19,58681.29,5848358695.23]\n",
    "\n",
    "markers_pd=['*','.','+','d','h','v','^','x','>','1','2','3','4','8','p','P','<','H','X','D','|','_']\n",
    "colors_pd=['red','green','blue','yellow','lightblue','cyan','tan','gold','sandybrown','olivedrab','chartreuse','darkgreen','m','skyblue','violet','crimson','purple','magenta','lime','turquoise','lightcyan','teal','indigo']\n",
    "marker_dict = dict(zip(mjd_list, markers_pd[:len(mjd_list)]))\n",
    "colors_8 = cm.get_cmap('tab10', 8)\n",
    "colors_pd_8=[colors_8(0),colors_8(1),colors_8(2),colors_8(3),colors_8(4),colors_8(5),colors_8(6),colors_8(7),]\n",
    "color_dict=dict(zip(mjd_list, colors_pd[:len(mjd_list)]))\n",
    "\n",
    "def plot_xrt_sed_time(mjd,data_xrt_goodfit_NGC1566,marker,color='r'):\n",
    "    mjd_near_i=np.argmin(abs(data_xrt_goodfit_NGC1566['obs_time']-mjd))\n",
    "    mjd_near=data_xrt_goodfit_NGC1566['obs_time'][mjd_near_i]\n",
    "    if abs(mjd_near-mjd)<0.5:\n",
    "        print('xrt',mjd_near)\n",
    "        for i in range(5):\n",
    "            #print(i+1,data_xrt_goodfit_NGC1566.columns[i+10])\n",
    "            v_i=(i+1)*2*v_1keV\n",
    "            f_v_i=data_xrt_goodfit_NGC1566[data_xrt_goodfit_NGC1566.columns[i+10]][mjd_near_i]\n",
    "            #print(\"%10.3e\"% (v_i),\"%10.3e\"% (f_v_i))\n",
    "            axs.scatter(v_i,4*np.pi*D_cm**2*v_i*f_v_i,marker=marker,label=mjd,color=color)\n",
    "            #axs.text(v_i,v_i*f_v_i,str((i+1)*2))\n",
    "            \n",
    "            \n",
    "def plot_uvot_sed_time(mjd,UV_namelist,UV_datalist,UV_lambda_list,marker,color='r'):\n",
    "    for i,j,l in zip(UV_namelist,UV_datalist,UV_lambda_list):\n",
    "        mjd_near_i=np.argmin(abs(j[j.columns[3]]-mjd))\n",
    "        mjd_near=j[j.columns[3]][mjd_near_i]           \n",
    "        if abs(mjd_near-mjd)<1.0:\n",
    "            v_i=(constants.c/l/units.m).to(units.Hz).value\n",
    "            f_v_i=j[j.columns[-1]][mjd_near_i]  \n",
    "            print(i,mjd_near)\n",
    "            #print(\"%10.3e\"% (v_i),\"%10.3e\"% (f_v_i))\n",
    "            axs.scatter(v_i,4*np.pi*D_cm**2*v_i*f_v_i,marker=marker,label=mjd,color=color) \n",
    "            #axs.text(v_i,v_i*f_v_i,i)\n",
    "\n",
    "def plot_wise_sed_time(mjd,wise_namelist,wise_datalist,wise_lambdalist,marker,color='r'):\n",
    "    for i,j,l in zip(wise_namelist,wise_datalist,wise_lambdalist):\n",
    "        mjd_near_i=np.argmin(abs(j[j.columns[0]]-mjd))\n",
    "        mjd_near=j[j.columns[0]][mjd_near_i]           \n",
    "        if abs(mjd_near-mjd)<20:\n",
    "            print(i,mjd_near)\n",
    "            v_i=(constants.c/l/units.m).to(units.Hz).value\n",
    "            f_v_i=j[j.columns[3]][mjd_near_i]\n",
    "            print(i,\"%10.3e\"% (v_i),\"%10.3e\"% (f_v_i))\n",
    "            axs.scatter(v_i,4*np.pi*D_cm**2*v_i*f_v_i,marker=marker,label=mjd,color=color) \n",
    "            #axs.text(v_i,v_i*f_v_i,i[:2])\n",
    "            \n",
    "def plot_mjd_sed(mjd,marker,color):\n",
    "    plot_uvot_sed_time(mjd,UV_namelist,UV_datalist,UV_lambda_list,marker,color)\n",
    "    plot_xrt_sed_time(mjd,data_xrt_goodfit_NGC1566,marker,color)\n",
    "    if mjd < 56000:\n",
    "        plot_wise_sed_time(mjd,multiwise_namelist,multiwise_datalist,wise_lambdalist,marker,color)                \n",
    "    else:\n",
    "        plot_wise_sed_time(mjd,neowise_namelist,neowise_datalist,wise_lambdalist,marker,color)\n",
    "          \n",
    "\n",
    "fig, axs = plt.subplots(1, 1,figsize=(8,8))\n",
    "axs.set_title('NGC1566_SED')\n",
    "axs.semilogy()\n",
    "axs.semilogx()\n",
    "axs.set_ylabel(r'$\\nu L_{\\nu}$ ($erg s^{-1} cm^{-2}$)')\n",
    "axs.set_xlabel('Hz')\n",
    "\n",
    "for i in mjd_list:\n",
    "    marker=marker_dict[i]\n",
    "    color=color_dict[i]\n",
    "    plot_mjd_sed(i,marker,color)\n",
    "\n",
    "    \n",
    "axs.xaxis.set_tick_params(which='major', size=10, width=2, direction='in', top='on')\n",
    "axs.xaxis.set_tick_params(which='minor', size=7, width=2, direction='in', top='on')\n",
    "axs.yaxis.set_tick_params(which='major', size=10, width=2, direction='in', right='on')\n",
    "axs.yaxis.set_tick_params(which='minor', size=7, width=2, direction='in', right='on')\n",
    "#axs.xaxis.set_major_locator(mpl.ticker.MultipleLocator(100))\n",
    "#axs.xaxis.set_minor_locator(mpl.ticker.MultipleLocator(10))\n",
    "    \n",
    "#axs.set_xlim(6.0e13,1.0e19)    \n",
    "    \n",
    "handles, labels = plt.gca().get_legend_handles_labels()\n",
    "by_label = OrderedDict(zip(labels, handles))    \n",
    "axs.legend(by_label.values(), by_label.keys(),bbox_to_anchor=(1.2, 0.7),ncol=1,loc='right')    \n",
    "axs.grid(alpha=0.1,which='major', linestyle='--', linewidth=1)\n",
    "plt.tight_layout()\n",
    "plt.savefig('/Users/brettlv/Downloads/NGC1566/NGC1566_sed_vLv-v-based_on_swift.png',dpi=400)"
   ]
  },
  {
   "cell_type": "code",
   "execution_count": null,
   "metadata": {
    "collapsed": true
   },
   "outputs": [],
   "source": []
  },
  {
   "cell_type": "code",
   "execution_count": null,
   "metadata": {
    "ExecuteTime": {
     "end_time": "2020-07-02T22:31:19.326638Z",
     "start_time": "2020-07-02T22:31:19.322141Z"
    },
    "collapsed": false
   },
   "outputs": [],
   "source": [
    "D_cm"
   ]
  },
  {
   "cell_type": "markdown",
   "metadata": {},
   "source": [
    "(D ≈ 7.2 Mpc, see comments in Paper I) NGC 1566\n",
    "We estimate Eddington ratios for the minimum (2014) and maximum (2018) using the 2–10 keV fluxes and a mass of ∼ 10^6.9 M⊙ (Woo & Urry 2002), a distance of ∼7.2 Mpc \n",
    "and taking a bolometric correction factor of 20"
   ]
  }
 ],
 "metadata": {
  "kernelspec": {
   "display_name": "Python 3",
   "language": "python",
   "name": "python3"
  },
  "language_info": {
   "codemirror_mode": {
    "name": "ipython",
    "version": 3
   },
   "file_extension": ".py",
   "mimetype": "text/x-python",
   "name": "python",
   "nbconvert_exporter": "python",
   "pygments_lexer": "ipython3",
   "version": "3.6.0"
  },
  "latex_envs": {
   "LaTeX_envs_menu_present": true,
   "autocomplete": true,
   "bibliofile": "biblio.bib",
   "cite_by": "apalike",
   "current_citInitial": 1,
   "eqLabelWithNumbers": true,
   "eqNumInitial": 1,
   "hotkeys": {
    "equation": "Ctrl-E",
    "itemize": "Ctrl-I"
   },
   "labels_anchors": false,
   "latex_user_defs": false,
   "report_style_numbering": false,
   "user_envs_cfg": false
  },
  "toc": {
   "nav_menu": {},
   "number_sections": true,
   "sideBar": true,
   "skip_h1_title": false,
   "toc_cell": false,
   "toc_position": {
    "height": "453px",
    "left": "0px",
    "right": "988px",
    "top": "112px",
    "width": "212px"
   },
   "toc_section_display": "block",
   "toc_window_display": true
  }
 },
 "nbformat": 4,
 "nbformat_minor": 2
}
