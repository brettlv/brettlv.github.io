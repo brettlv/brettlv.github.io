{
 "cells": [
  {
   "cell_type": "code",
   "execution_count": 4,
   "metadata": {
    "ExecuteTime": {
     "end_time": "2022-03-17T13:33:43.182536Z",
     "start_time": "2022-03-17T13:33:43.179779Z"
    }
   },
   "outputs": [],
   "source": [
    "obs_id='test'"
   ]
  },
  {
   "cell_type": "code",
   "execution_count": 5,
   "metadata": {
    "ExecuteTime": {
     "end_time": "2022-03-17T13:33:43.551308Z",
     "start_time": "2022-03-17T13:33:43.547338Z"
    }
   },
   "outputs": [],
   "source": [
    "paralist0=['data src.pi',\n",
    "          'setplot en',\n",
    "          'ignore **-0.5 10.0-**',\n",
    "          'ignore bad',\n",
    "          'model tbabs*zpowerlw',\n",
    "          '0.0243',\n",
    "          '2.0',\n",
    "          '0.042436', \n",
    "          '1',\n",
    "          'freeze 1','statistic chi',\n",
    "          'fit 10000','setplot rebin 10 10',\n",
    "          'cpd /ps',\n",
    "          'plot ldata','ipl',\n",
    "          'hardcopy %s_ldata_chi.ps/ps'%(obs_id),\n",
    "          'quit',\n",
    "          'plot eeuf res','ipl',\n",
    "          'hardcopy %s_eeuf_chi.ps/ps'%(obs_id),\n",
    "          'quit',\n",
    "          'flux 2.0 10.0 err 2 90 ','error 2.706 2',\n",
    "          'exit']\n"
   ]
  },
  {
   "cell_type": "code",
   "execution_count": 6,
   "metadata": {
    "ExecuteTime": {
     "end_time": "2022-03-17T13:34:00.904998Z",
     "start_time": "2022-03-17T13:34:00.901886Z"
    }
   },
   "outputs": [],
   "source": [
    "evtfiledir='/Users/brettlv/Downloads/'"
   ]
  },
  {
   "cell_type": "code",
   "execution_count": 7,
   "metadata": {
    "ExecuteTime": {
     "end_time": "2022-03-17T13:34:01.808844Z",
     "start_time": "2022-03-17T13:34:01.801350Z"
    }
   },
   "outputs": [],
   "source": [
    "with open('%s/para_xspec_fit_cstat.txt'%(evtfiledir),'w+') as f:\n",
    "        for i in paralist0:\n",
    "            f.write(str(i)+'\\n')"
   ]
  },
  {
   "cell_type": "code",
   "execution_count": null,
   "metadata": {},
   "outputs": [],
   "source": [
    "import os\n"
   ]
  }
 ],
 "metadata": {
  "kernelspec": {
   "display_name": "Python 3",
   "language": "python",
   "name": "python3"
  },
  "language_info": {
   "codemirror_mode": {
    "name": "ipython",
    "version": 3
   },
   "file_extension": ".py",
   "mimetype": "text/x-python",
   "name": "python",
   "nbconvert_exporter": "python",
   "pygments_lexer": "ipython3",
   "version": "3.8.5"
  },
  "latex_envs": {
   "LaTeX_envs_menu_present": true,
   "autocomplete": true,
   "bibliofile": "biblio.bib",
   "cite_by": "apalike",
   "current_citInitial": 1,
   "eqLabelWithNumbers": true,
   "eqNumInitial": 1,
   "hotkeys": {
    "equation": "Ctrl-E",
    "itemize": "Ctrl-I"
   },
   "labels_anchors": false,
   "latex_user_defs": false,
   "report_style_numbering": false,
   "user_envs_cfg": false
  },
  "toc": {
   "nav_menu": {},
   "number_sections": true,
   "sideBar": true,
   "skip_h1_title": false,
   "toc_cell": false,
   "toc_position": {},
   "toc_section_display": "block",
   "toc_window_display": false
  }
 },
 "nbformat": 4,
 "nbformat_minor": 2
}
