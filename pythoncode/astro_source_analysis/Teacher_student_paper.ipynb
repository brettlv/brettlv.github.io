{
 "cells": [
  {
   "cell_type": "code",
   "execution_count": 1,
   "metadata": {
    "ExecuteTime": {
     "end_time": "2021-09-14T02:45:43.966571Z",
     "start_time": "2021-09-14T02:45:43.522672Z"
    }
   },
   "outputs": [],
   "source": [
    "import numpy as np"
   ]
  },
  {
   "cell_type": "code",
   "execution_count": 3,
   "metadata": {
    "ExecuteTime": {
     "end_time": "2021-09-14T02:46:31.135704Z",
     "start_time": "2021-09-14T02:46:31.101561Z"
    }
   },
   "outputs": [
    {
     "name": "stdout",
     "output_type": "stream",
     "text": [
      "year: 1 student: 1 paper: 0\n",
      "year: 2 student: 2 paper: 0\n",
      "year: 3 student: 3 paper: 0\n",
      "year: 4 student: 4 paper: 0\n",
      "year: 5 student: 5 paper: 2\n",
      "year: 6 student: 5 paper: 4\n",
      "year: 7 student: 5 paper: 6\n",
      "year: 8 student: 5 paper: 8\n",
      "year: 9 student: 5 paper: 10\n",
      "year: 10 student: 5 paper: 12\n",
      "year: 11 student: 5 paper: 14\n",
      "year: 12 student: 5 paper: 16\n",
      "year: 13 student: 5 paper: 18\n",
      "year: 14 student: 5 paper: 20\n",
      "year: 15 student: 5 paper: 22\n",
      "year: 16 student: 5 paper: 24\n",
      "year: 17 student: 5 paper: 26\n",
      "year: 18 student: 5 paper: 28\n",
      "year: 19 student: 5 paper: 30\n",
      "year: 20 student: 5 paper: 32\n",
      "year: 21 student: 5 paper: 34\n",
      "year: 22 student: 5 paper: 36\n",
      "year: 23 student: 5 paper: 38\n",
      "year: 24 student: 5 paper: 40\n",
      "year: 25 student: 5 paper: 42\n",
      "year: 26 student: 4 paper: 44\n",
      "year: 27 student: 3 paper: 46\n",
      "year: 28 student: 2 paper: 48\n",
      "year: 29 student: 1 paper: 50\n",
      "year: 30 student: 0 paper: 50\n"
     ]
    }
   ],
   "source": [
    "year=np.arange(30)\n",
    "student_num=0\n",
    "student_paper=0\n",
    "\n",
    "for i in year:\n",
    "    \n",
    "    if i<5:\n",
    "        student_num=i+1\n",
    "    elif i<len(year)-5:\n",
    "        student_num=5\n",
    "    else:\n",
    "        student_num=student_num-1\n",
    "        \n",
    "    if i>=4 and student_num>0:     \n",
    "        student_paper=student_paper+2\n",
    "    print('year:',i+1,'student:',student_num,'paper:',student_paper)   \n",
    "    #print()       \n",
    "    #print()   \n",
    "        "
   ]
  },
  {
   "cell_type": "code",
   "execution_count": null,
   "metadata": {},
   "outputs": [],
   "source": []
  }
 ],
 "metadata": {
  "kernelspec": {
   "display_name": "Python 3",
   "language": "python",
   "name": "python3"
  },
  "language_info": {
   "codemirror_mode": {
    "name": "ipython",
    "version": 3
   },
   "file_extension": ".py",
   "mimetype": "text/x-python",
   "name": "python",
   "nbconvert_exporter": "python",
   "pygments_lexer": "ipython3",
   "version": "3.8.5"
  },
  "latex_envs": {
   "LaTeX_envs_menu_present": true,
   "autocomplete": true,
   "bibliofile": "biblio.bib",
   "cite_by": "apalike",
   "current_citInitial": 1,
   "eqLabelWithNumbers": true,
   "eqNumInitial": 1,
   "hotkeys": {
    "equation": "Ctrl-E",
    "itemize": "Ctrl-I"
   },
   "labels_anchors": false,
   "latex_user_defs": false,
   "report_style_numbering": false,
   "user_envs_cfg": false
  },
  "toc": {
   "nav_menu": {},
   "number_sections": true,
   "sideBar": true,
   "skip_h1_title": false,
   "toc_cell": false,
   "toc_position": {},
   "toc_section_display": "block",
   "toc_window_display": false
  }
 },
 "nbformat": 4,
 "nbformat_minor": 2
}
