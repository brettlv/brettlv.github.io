{
 "cells": [
  {
   "cell_type": "markdown",
   "metadata": {},
   "source": [
    "# import"
   ]
  },
  {
   "cell_type": "code",
   "execution_count": 2,
   "metadata": {
    "ExecuteTime": {
     "end_time": "2022-10-28T01:21:16.437961Z",
     "start_time": "2022-10-28T01:21:14.256459Z"
    }
   },
   "outputs": [
    {
     "name": "stderr",
     "output_type": "stream",
     "text": [
      "/var/folders/jp/4mwsn7_x6j9gnv1hl1dztqth0000gn/T/ipykernel_49561/1555493804.py:20: DeprecationWarning: the ``irsa`` module has been moved to astroquery.ipac.irsa, please update your imports.\n",
      "  from astroquery.irsa import Irsa\n"
     ]
    }
   ],
   "source": [
    "import pandas as pd\n",
    "import numpy as np\n",
    "from astropy.io import fits\n",
    "\n",
    "\n",
    "from astropy.visualization import hist\n",
    "from astroML.datasets import fetch_imaging_sample, fetch_sdss_S82standards\n",
    "from astroML.crossmatch import crossmatch_angular\n",
    "\n",
    "\n",
    "from datetime import datetime, date, timezone\n",
    "from datetime import datetime\n",
    "from datetime import timedelta\n",
    "from astropy.time import Time\n",
    "from astropy.io import ascii\n",
    "\n",
    "import time\n",
    "import os\n",
    "from astropy import config as _config\n",
    "from astroquery.irsa import Irsa   \n",
    "from astropy import units as u\n",
    "from astropy.coordinates import SkyCoord\n",
    "\n",
    "from matplotlib.pyplot import MultipleLocator\n",
    "import matplotlib.dates as mdates\n",
    "from matplotlib.transforms import Transform\n",
    "from matplotlib.ticker import (AutoLocator, AutoMinorLocator)\n",
    "from matplotlib.dates import DateFormatter\n",
    "#import matplotlib.cm as cm\n",
    "import matplotlib.colors as colors\n",
    "from collections import OrderedDict\n",
    "\n",
    "\n",
    "\n",
    "from astropy.io import fits \n",
    "import matplotlib as mpl\n",
    "import matplotlib.pyplot as plt\n",
    "\n",
    "from pylab import cm\n",
    "from astropy.table import Table\n",
    "from collections import OrderedDict\n",
    "from adjustText import adjust_text"
   ]
  },
  {
   "cell_type": "code",
   "execution_count": 3,
   "metadata": {
    "ExecuteTime": {
     "end_time": "2022-10-28T01:21:16.441926Z",
     "start_time": "2022-10-28T01:21:16.439624Z"
    }
   },
   "outputs": [],
   "source": [
    "def drop_index(data):\n",
    "    data=data.reset_index(drop=True)\n",
    "    return data"
   ]
  },
  {
   "cell_type": "code",
   "execution_count": 4,
   "metadata": {
    "ExecuteTime": {
     "end_time": "2022-10-28T01:21:16.451425Z",
     "start_time": "2022-10-28T01:21:16.443019Z"
    }
   },
   "outputs": [],
   "source": [
    "from astropy.time import Time\n",
    "from astropy.io import fits\n",
    "import time\n",
    "import datetime\n",
    "from matplotlib.pyplot import MultipleLocator\n",
    "import matplotlib.dates as mdates\n",
    "\n",
    "def datetime2mjd(x):\n",
    "    mjd_ref=59000\n",
    "    mjd_minus_mdates_num=mdates.date2num(convert_xaxis_time(mjd_ref))-mjd_ref\n",
    "    \n",
    "    x=mdates.date2num(x)\n",
    "    y = x - mjd_minus_mdates_num   \n",
    "    return y\n",
    "\n",
    "def mjd2datetime(x):\n",
    "    mjd_ref=59000\n",
    "    mjd_minus_mdates_num=mdates.date2num(convert_xaxis_time(mjd_ref))-mjd_ref\n",
    "    y= x + mjd_minus_mdates_num\n",
    "    y= mdates.num2date(y)\n",
    "    return y\n",
    "\n",
    "\n",
    "\n",
    "def datenums2mjd(x):\n",
    "    #x=mdates.date2num(x)\n",
    "    mjd_ref=59000\n",
    "    mjd_minus_mdates_num=mdates.date2num(convert_xaxis_time(mjd_ref))-mjd_ref\n",
    "    y = x - mjd_minus_mdates_num   \n",
    "    return y\n",
    "\n",
    "def mjd2numsdate(x):\n",
    "    mjd_ref=59000\n",
    "    mjd_minus_mdates_num=mdates.date2num(convert_xaxis_time(mjd_ref))-mjd_ref\n",
    "    \n",
    "    y= x + mjd_minus_mdates_num\n",
    "    #y= mdates.num2date(y)\n",
    "    return y\n",
    "\n",
    "\n",
    "def convert_xaxis_mjd(time):\n",
    "    return Time(time).mjd   \n",
    "\n",
    "def convert_xaxis_time(mjd):\n",
    "    return Time(mjd,format='mjd').to_datetime()\n",
    "\n",
    "\n",
    "def date2yday(x):\n",
    "    \"\"\"\n",
    "    x is in matplotlib datenums, so they are floats.\n",
    "    \"\"\"\n",
    "    y = x - mdates.date2num(datetime(2018, 1, 1))\n",
    "    return y\n",
    "\n",
    "def yday2date(x):\n",
    "    \"\"\"\n",
    "    return a matplotlib datenum (x is days since start of year of 2018)\n",
    "    \"\"\"\n",
    "    y = x + mdates.date2num(datetime(2018, 1, 1))\n",
    "    return y\n",
    "\n",
    "\n",
    "def convert_partial_year(numbers):\n",
    "    datetimes=[]\n",
    "    for number in numbers:\n",
    "        year = int(number)\n",
    "        d = timedelta(days=(number - year)*(365 + is_leap(year)))\n",
    "        day_one = datetime(year,1,1)\n",
    "        date = d + day_one\n",
    "        datetimes.append(date)\n",
    "    return datetimes\n",
    "\n",
    "\n",
    "def is_leap(year):\n",
    "    if not year%4 and  year%100 or not year%400:\n",
    "        return True\n",
    "    return False\n",
    "\n",
    "\n",
    "def convert_mjd(times):\n",
    "    timesmjd=[]\n",
    "    for i in times:\n",
    "        timesmjd.append(Time(i).mjd)\n",
    "    return timesmjd  \n",
    "\n",
    "\n",
    "def convert_date(times):\n",
    "    timesdate=[]\n",
    "    for i in times:\n",
    "        timesdate.append(Time(i,format='mjd').datetime)\n",
    "    return timesdate\n",
    "\n",
    "def convert_date_single(time):\n",
    "    timedate=Time(time,format='mjd').datetime\n",
    "    return timedate"
   ]
  },
  {
   "cell_type": "code",
   "execution_count": null,
   "metadata": {},
   "outputs": [],
   "source": []
  },
  {
   "cell_type": "code",
   "execution_count": 5,
   "metadata": {
    "ExecuteTime": {
     "end_time": "2022-10-28T01:21:16.468364Z",
     "start_time": "2022-10-28T01:21:16.453254Z"
    }
   },
   "outputs": [
    {
     "name": "stderr",
     "output_type": "stream",
     "text": [
      "/var/folders/jp/4mwsn7_x6j9gnv1hl1dztqth0000gn/T/ipykernel_49561/520043298.py:4: DeprecationWarning: the ``ned`` module has been moved to astroquery.ipac.ned, please update your imports.\n",
      "  from astroquery.ned import Ned\n"
     ]
    }
   ],
   "source": [
    "from astropy import config as _config\n",
    "from astroquery.irsa import Irsa \n",
    "\n",
    "from astroquery.ned import Ned\n"
   ]
  },
  {
   "cell_type": "markdown",
   "metadata": {
    "ExecuteTime": {
     "end_time": "2021-09-13T12:20:35.207947Z",
     "start_time": "2021-09-13T12:20:28.189912Z"
    }
   },
   "source": [
    "Irsa.print_catalogs()"
   ]
  },
  {
   "cell_type": "markdown",
   "metadata": {},
   "source": [
    "## AB mag"
   ]
  },
  {
   "cell_type": "code",
   "execution_count": null,
   "metadata": {},
   "outputs": [],
   "source": [
    "This magnitude system is defined such that, when monochromatic flux \n",
    "\n",
    "f is measured in erg sec^-1 cm^-2 Hz^-1,\n",
    "\n",
    "m(AB) = -2.5 log(f) - 48.60\n",
    "\n",
    "mAB = mVega + ∆m\n",
    "\n",
    "f= 10**((-48.6-mVega - ∆m)/2.5)"
   ]
  },
  {
   "cell_type": "markdown",
   "metadata": {},
   "source": [
    "# cosmo"
   ]
  },
  {
   "cell_type": "code",
   "execution_count": 6,
   "metadata": {
    "ExecuteTime": {
     "end_time": "2022-10-28T01:21:19.888996Z",
     "start_time": "2022-10-28T01:21:19.844618Z"
    }
   },
   "outputs": [],
   "source": [
    "from astropy.cosmology import FlatLambdaCDM,Planck13,Planck15,z_at_value\n",
    "from astropy import units as u\n",
    "from astropy.cosmology import LambdaCDM\n",
    "cosmo = LambdaCDM(H0=70, Om0=0.3, Ode0=0.7)\n",
    "#cosmo=FlatLambdaCDM(H0=73,Om0=0.3)"
   ]
  },
  {
   "cell_type": "markdown",
   "metadata": {},
   "source": [
    "# ZTF"
   ]
  },
  {
   "cell_type": "markdown",
   "metadata": {},
   "source": [
    "The Zwicky Transient Facility (ZTF) is a new time-domain survey that had first light at Palomar Observatory in 2017"
   ]
  },
  {
   "cell_type": "code",
   "execution_count": null,
   "metadata": {
    "ExecuteTime": {
     "end_time": "2021-09-13T12:36:24.509846Z",
     "start_time": "2021-09-13T12:35:55.817856Z"
    }
   },
   "outputs": [],
   "source": [
    "#Irsa.ROW_LIMIT = 1000 # value of new row limit here.\n",
    "#Irsa.TIMEOUT = 120\n",
    "\n",
    "name='Mrk 6'\n",
    "search_name=name.replace(' ','')\n",
    "save_name=name\n",
    "\n",
    "if not os.path.exists('/Users/brettlv/Downloads/Mrk6/ztf_objects_dr7_%s.csv'%save_name):\n",
    "    print(search_name)\n",
    "    Irsa.ROW_LIMIT = 1000\n",
    "    Irsa.TIMEOUT = 120\n",
    "    table_ztf_objects_dr7 =Irsa.query_region(search_name,catalog='ztf_objects_dr7',spatial='Cone',radius=2*u.arcsec,)\n",
    "    table_ztf_objects_dr7.write('/Users/brettlv/Downloads/Mrk6/ztf_objects_dr7_%s.csv'%save_name, format='csv')\n",
    "    time.sleep(15+np.random.randint(5,10))    "
   ]
  },
  {
   "cell_type": "code",
   "execution_count": null,
   "metadata": {},
   "outputs": [],
   "source": []
  },
  {
   "cell_type": "markdown",
   "metadata": {},
   "source": [
    "# PTF"
   ]
  },
  {
   "cell_type": "markdown",
   "metadata": {
    "ExecuteTime": {
     "end_time": "2021-09-13T12:42:15.176616Z",
     "start_time": "2021-09-13T12:42:15.170409Z"
    }
   },
   "source": [
    "name='Mrk 6'\n",
    "search_name=name.replace(' ','')\n",
    "save_name=name\n",
    "\n",
    "if not os.path.exists('/Users/brettlv/Downloads/Mrk6/ptf_lightcurves_%s.csv'%save_name):\n",
    "    print(search_name)\n",
    "    Irsa.ROW_LIMIT = 1000\n",
    "    Irsa.TIMEOUT = 120\n",
    "    table_ztf_objects_dr7 =Irsa.query_region(search_name,catalog='ptf_lightcurves',spatial='Cone',radius=2*u.arcsec,)\n",
    "    table_ztf_objects_dr7.write('/Users/brettlv/Downloads/Mrk6/ptf_lightcurves_%s.csv'%save_name, format='csv')\n",
    "    time.sleep(15+np.random.randint(5,10))    \n"
   ]
  },
  {
   "cell_type": "markdown",
   "metadata": {
    "ExecuteTime": {
     "end_time": "2021-09-13T12:42:15.168180Z",
     "start_time": "2021-09-13T12:41:50.620205Z"
    }
   },
   "source": [
    "#Irsa.ROW_LIMIT = 1000 # value of new row limit here.\n",
    "#Irsa.TIMEOUT = 120\n",
    "\n",
    "name='Mrk 6'\n",
    "search_name=name.replace(' ','')\n",
    "save_name=name\n",
    "\n",
    "if not os.path.exists('/Users/brettlv/Downloads/Mrk6/ptf_sources_%s.csv'%save_name):\n",
    "    print(search_name)\n",
    "    Irsa.ROW_LIMIT = 1000\n",
    "    Irsa.TIMEOUT = 120\n",
    "    table_ztf_objects_dr7 =Irsa.query_region(search_name,catalog='ptf_sources',spatial='Cone',radius=10*u.arcsec,)\n",
    "    table_ztf_objects_dr7.write('/Users/brettlv/Downloads/Mrk6/ptf_sources_%s.csv'%save_name, format='csv')\n",
    "    time.sleep(15+np.random.randint(5,10))    \n",
    "\n"
   ]
  },
  {
   "cell_type": "code",
   "execution_count": null,
   "metadata": {},
   "outputs": [],
   "source": []
  },
  {
   "cell_type": "code",
   "execution_count": null,
   "metadata": {},
   "outputs": [],
   "source": []
  },
  {
   "cell_type": "markdown",
   "metadata": {},
   "source": [
    "# pos"
   ]
  },
  {
   "cell_type": "code",
   "execution_count": 8,
   "metadata": {
    "ExecuteTime": {
     "end_time": "2021-09-17T07:42:18.711661Z",
     "start_time": "2021-09-17T07:42:18.590254Z"
    }
   },
   "outputs": [],
   "source": [
    "name='Mrk 6'\n",
    "result_table = Ned.query_object(name)"
   ]
  },
  {
   "cell_type": "code",
   "execution_count": 9,
   "metadata": {
    "ExecuteTime": {
     "end_time": "2021-09-17T07:42:19.405127Z",
     "start_time": "2021-09-17T07:42:19.396377Z"
    }
   },
   "outputs": [
    {
     "data": {
      "text/plain": [
       "(0.019513, 103.05105, 74.42707)"
      ]
     },
     "execution_count": 9,
     "metadata": {},
     "output_type": "execute_result"
    }
   ],
   "source": [
    "result_table['Redshift'].data[0],result_table['RA'].data[0],result_table['DEC'].data[0]"
   ]
  },
  {
   "cell_type": "code",
   "execution_count": 10,
   "metadata": {
    "ExecuteTime": {
     "end_time": "2021-09-17T07:42:21.073539Z",
     "start_time": "2021-09-17T07:42:21.067038Z"
    }
   },
   "outputs": [],
   "source": [
    "D_cm_Mrk6=cosmo.luminosity_distance(z=0.019513).to(u.cm)"
   ]
  },
  {
   "cell_type": "code",
   "execution_count": 11,
   "metadata": {
    "ExecuteTime": {
     "end_time": "2021-09-17T07:42:22.877918Z",
     "start_time": "2021-09-17T07:42:22.869904Z"
    }
   },
   "outputs": [
    {
     "data": {
      "text/latex": [
       "$2.6174065 \\times 10^{26} \\; \\mathrm{cm}$"
      ],
      "text/plain": [
       "<Quantity 2.61740649e+26 cm>"
      ]
     },
     "execution_count": 11,
     "metadata": {},
     "output_type": "execute_result"
    }
   ],
   "source": [
    "D_cm_Mrk6"
   ]
  },
  {
   "cell_type": "markdown",
   "metadata": {},
   "source": [
    "# data Monitoring_AGNs_Du"
   ]
  },
  {
   "cell_type": "code",
   "execution_count": 9,
   "metadata": {
    "ExecuteTime": {
     "end_time": "2022-10-28T01:21:55.492812Z",
     "start_time": "2022-10-28T01:21:55.478562Z"
    }
   },
   "outputs": [],
   "source": [
    "Monitoring_AGNs_Du=pd.read_csv('/Users/lyubing/IHEPBox/data/Mrk6_lc_data/Mrk6.txt',delimiter='\\s+',header=None)\n",
    "Monitoring_AGNs_Du.columns=['Na','me','jd','F5100','e_F5100','FHb','e_FHb']\n",
    "Monitoring_AGNs_Du['Name']=Monitoring_AGNs_Du['Na']+Monitoring_AGNs_Du['me']"
   ]
  },
  {
   "cell_type": "code",
   "execution_count": 15,
   "metadata": {
    "ExecuteTime": {
     "end_time": "2022-10-28T01:23:47.967938Z",
     "start_time": "2022-10-28T01:23:47.958786Z"
    }
   },
   "outputs": [],
   "source": [
    "Monitoring_AGNs_Du_name=[]\n",
    "for i in Monitoring_AGNs_Du['Name']:\n",
    "    if i not in Monitoring_AGNs_Du_name:\n",
    "        Monitoring_AGNs_Du_name.append(i)"
   ]
  },
  {
   "cell_type": "code",
   "execution_count": 16,
   "metadata": {
    "ExecuteTime": {
     "end_time": "2022-10-28T01:23:51.579544Z",
     "start_time": "2022-10-28T01:23:51.570966Z"
    }
   },
   "outputs": [
    {
     "data": {
      "text/plain": [
       "['3C120', 'Ark120', 'Mrk6', 'SBS1518+593']"
      ]
     },
     "execution_count": 16,
     "metadata": {},
     "output_type": "execute_result"
    }
   ],
   "source": [
    "Monitoring_AGNs_Du_name"
   ]
  },
  {
   "cell_type": "code",
   "execution_count": 10,
   "metadata": {
    "ExecuteTime": {
     "end_time": "2022-10-28T01:22:05.782047Z",
     "start_time": "2022-10-28T01:22:05.753718Z"
    }
   },
   "outputs": [
    {
     "data": {
      "text/html": [
       "<div>\n",
       "<style scoped>\n",
       "    .dataframe tbody tr th:only-of-type {\n",
       "        vertical-align: middle;\n",
       "    }\n",
       "\n",
       "    .dataframe tbody tr th {\n",
       "        vertical-align: top;\n",
       "    }\n",
       "\n",
       "    .dataframe thead th {\n",
       "        text-align: right;\n",
       "    }\n",
       "</style>\n",
       "<table border=\"1\" class=\"dataframe\">\n",
       "  <thead>\n",
       "    <tr style=\"text-align: right;\">\n",
       "      <th></th>\n",
       "      <th>Na</th>\n",
       "      <th>me</th>\n",
       "      <th>jd</th>\n",
       "      <th>F5100</th>\n",
       "      <th>e_F5100</th>\n",
       "      <th>FHb</th>\n",
       "      <th>e_FHb</th>\n",
       "      <th>Name</th>\n",
       "    </tr>\n",
       "  </thead>\n",
       "  <tbody>\n",
       "    <tr>\n",
       "      <th>0</th>\n",
       "      <td>3C</td>\n",
       "      <td>120</td>\n",
       "      <td>52.6522</td>\n",
       "      <td>4.001</td>\n",
       "      <td>0.019</td>\n",
       "      <td>2.475</td>\n",
       "      <td>0.013</td>\n",
       "      <td>3C120</td>\n",
       "    </tr>\n",
       "    <tr>\n",
       "      <th>1</th>\n",
       "      <td>3C</td>\n",
       "      <td>120</td>\n",
       "      <td>71.6400</td>\n",
       "      <td>3.980</td>\n",
       "      <td>0.008</td>\n",
       "      <td>2.550</td>\n",
       "      <td>0.008</td>\n",
       "      <td>3C120</td>\n",
       "    </tr>\n",
       "    <tr>\n",
       "      <th>2</th>\n",
       "      <td>3C</td>\n",
       "      <td>120</td>\n",
       "      <td>72.5879</td>\n",
       "      <td>3.984</td>\n",
       "      <td>0.022</td>\n",
       "      <td>2.491</td>\n",
       "      <td>0.016</td>\n",
       "      <td>3C120</td>\n",
       "    </tr>\n",
       "    <tr>\n",
       "      <th>3</th>\n",
       "      <td>3C</td>\n",
       "      <td>120</td>\n",
       "      <td>74.6975</td>\n",
       "      <td>4.060</td>\n",
       "      <td>0.011</td>\n",
       "      <td>2.528</td>\n",
       "      <td>0.009</td>\n",
       "      <td>3C120</td>\n",
       "    </tr>\n",
       "    <tr>\n",
       "      <th>4</th>\n",
       "      <td>3C</td>\n",
       "      <td>120</td>\n",
       "      <td>80.5824</td>\n",
       "      <td>4.136</td>\n",
       "      <td>0.022</td>\n",
       "      <td>2.510</td>\n",
       "      <td>0.015</td>\n",
       "      <td>3C120</td>\n",
       "    </tr>\n",
       "    <tr>\n",
       "      <th>...</th>\n",
       "      <td>...</td>\n",
       "      <td>...</td>\n",
       "      <td>...</td>\n",
       "      <td>...</td>\n",
       "      <td>...</td>\n",
       "      <td>...</td>\n",
       "      <td>...</td>\n",
       "      <td>...</td>\n",
       "    </tr>\n",
       "    <tr>\n",
       "      <th>109</th>\n",
       "      <td>SBS</td>\n",
       "      <td>1518+593</td>\n",
       "      <td>186.9057</td>\n",
       "      <td>1.663</td>\n",
       "      <td>0.005</td>\n",
       "      <td>1.018</td>\n",
       "      <td>0.004</td>\n",
       "      <td>SBS1518+593</td>\n",
       "    </tr>\n",
       "    <tr>\n",
       "      <th>110</th>\n",
       "      <td>SBS</td>\n",
       "      <td>1518+593</td>\n",
       "      <td>189.8558</td>\n",
       "      <td>1.655</td>\n",
       "      <td>0.009</td>\n",
       "      <td>0.952</td>\n",
       "      <td>0.006</td>\n",
       "      <td>SBS1518+593</td>\n",
       "    </tr>\n",
       "    <tr>\n",
       "      <th>111</th>\n",
       "      <td>SBS</td>\n",
       "      <td>1518+593</td>\n",
       "      <td>190.9418</td>\n",
       "      <td>1.697</td>\n",
       "      <td>0.020</td>\n",
       "      <td>0.970</td>\n",
       "      <td>0.012</td>\n",
       "      <td>SBS1518+593</td>\n",
       "    </tr>\n",
       "    <tr>\n",
       "      <th>112</th>\n",
       "      <td>SBS</td>\n",
       "      <td>1518+593</td>\n",
       "      <td>197.9046</td>\n",
       "      <td>1.594</td>\n",
       "      <td>0.015</td>\n",
       "      <td>0.999</td>\n",
       "      <td>0.010</td>\n",
       "      <td>SBS1518+593</td>\n",
       "    </tr>\n",
       "    <tr>\n",
       "      <th>113</th>\n",
       "      <td>SBS</td>\n",
       "      <td>1518+593</td>\n",
       "      <td>202.9150</td>\n",
       "      <td>1.601</td>\n",
       "      <td>0.011</td>\n",
       "      <td>0.988</td>\n",
       "      <td>0.007</td>\n",
       "      <td>SBS1518+593</td>\n",
       "    </tr>\n",
       "  </tbody>\n",
       "</table>\n",
       "<p>114 rows × 8 columns</p>\n",
       "</div>"
      ],
      "text/plain": [
       "      Na        me        jd  F5100  e_F5100    FHb  e_FHb         Name\n",
       "0     3C       120   52.6522  4.001    0.019  2.475  0.013        3C120\n",
       "1     3C       120   71.6400  3.980    0.008  2.550  0.008        3C120\n",
       "2     3C       120   72.5879  3.984    0.022  2.491  0.016        3C120\n",
       "3     3C       120   74.6975  4.060    0.011  2.528  0.009        3C120\n",
       "4     3C       120   80.5824  4.136    0.022  2.510  0.015        3C120\n",
       "..   ...       ...       ...    ...      ...    ...    ...          ...\n",
       "109  SBS  1518+593  186.9057  1.663    0.005  1.018  0.004  SBS1518+593\n",
       "110  SBS  1518+593  189.8558  1.655    0.009  0.952  0.006  SBS1518+593\n",
       "111  SBS  1518+593  190.9418  1.697    0.020  0.970  0.012  SBS1518+593\n",
       "112  SBS  1518+593  197.9046  1.594    0.015  0.999  0.010  SBS1518+593\n",
       "113  SBS  1518+593  202.9150  1.601    0.011  0.988  0.007  SBS1518+593\n",
       "\n",
       "[114 rows x 8 columns]"
      ]
     },
     "execution_count": 10,
     "metadata": {},
     "output_type": "execute_result"
    }
   ],
   "source": [
    "Monitoring_AGNs_Du"
   ]
  },
  {
   "cell_type": "code",
   "execution_count": null,
   "metadata": {},
   "outputs": [],
   "source": []
  },
  {
   "cell_type": "code",
   "execution_count": null,
   "metadata": {},
   "outputs": [],
   "source": []
  },
  {
   "cell_type": "code",
   "execution_count": null,
   "metadata": {},
   "outputs": [],
   "source": []
  },
  {
   "cell_type": "markdown",
   "metadata": {},
   "source": [
    "JD-2,457,700"
   ]
  },
  {
   "cell_type": "code",
   "execution_count": 13,
   "metadata": {
    "ExecuteTime": {
     "end_time": "2022-10-28T01:22:44.678976Z",
     "start_time": "2022-10-28T01:22:44.650927Z"
    }
   },
   "outputs": [
    {
     "name": "stderr",
     "output_type": "stream",
     "text": [
      "/var/folders/jp/4mwsn7_x6j9gnv1hl1dztqth0000gn/T/ipykernel_49561/1116421048.py:2: SettingWithCopyWarning: \n",
      "A value is trying to be set on a copy of a slice from a DataFrame.\n",
      "Try using .loc[row_indexer,col_indexer] = value instead\n",
      "\n",
      "See the caveats in the documentation: https://pandas.pydata.org/pandas-docs/stable/user_guide/indexing.html#returning-a-view-versus-a-copy\n",
      "  Mrk6_Monitoring_AGNs_Du['mjd']=Mrk6_Monitoring_AGNs_Du['jd']+2457700-2400000.5\n"
     ]
    }
   ],
   "source": [
    "Mrk6_Monitoring_AGNs_Du=Monitoring_AGNs_Du[Monitoring_AGNs_Du['Name']=='Mrk6']\n",
    "Mrk6_Monitoring_AGNs_Du['mjd']=Mrk6_Monitoring_AGNs_Du['jd']+2457700-2400000.5\n",
    "Mrk6_Monitoring_AGNs_Du=drop_index(Mrk6_Monitoring_AGNs_Du)"
   ]
  },
  {
   "cell_type": "code",
   "execution_count": null,
   "metadata": {
    "ExecuteTime": {
     "end_time": "2022-10-28T01:22:39.514211Z",
     "start_time": "2022-10-28T01:22:39.500007Z"
    }
   },
   "outputs": [],
   "source": []
  },
  {
   "cell_type": "code",
   "execution_count": 14,
   "metadata": {
    "ExecuteTime": {
     "end_time": "2022-10-28T01:22:45.621021Z",
     "start_time": "2022-10-28T01:22:45.593205Z"
    }
   },
   "outputs": [
    {
     "data": {
      "text/html": [
       "<div>\n",
       "<style scoped>\n",
       "    .dataframe tbody tr th:only-of-type {\n",
       "        vertical-align: middle;\n",
       "    }\n",
       "\n",
       "    .dataframe tbody tr th {\n",
       "        vertical-align: top;\n",
       "    }\n",
       "\n",
       "    .dataframe thead th {\n",
       "        text-align: right;\n",
       "    }\n",
       "</style>\n",
       "<table border=\"1\" class=\"dataframe\">\n",
       "  <thead>\n",
       "    <tr style=\"text-align: right;\">\n",
       "      <th></th>\n",
       "      <th>Na</th>\n",
       "      <th>me</th>\n",
       "      <th>jd</th>\n",
       "      <th>F5100</th>\n",
       "      <th>e_F5100</th>\n",
       "      <th>FHb</th>\n",
       "      <th>e_FHb</th>\n",
       "      <th>Name</th>\n",
       "      <th>mjd</th>\n",
       "    </tr>\n",
       "  </thead>\n",
       "  <tbody>\n",
       "    <tr>\n",
       "      <th>0</th>\n",
       "      <td>Mrk</td>\n",
       "      <td>6</td>\n",
       "      <td>52.6986</td>\n",
       "      <td>12.411</td>\n",
       "      <td>0.037</td>\n",
       "      <td>10.946</td>\n",
       "      <td>0.031</td>\n",
       "      <td>Mrk6</td>\n",
       "      <td>57752.1986</td>\n",
       "    </tr>\n",
       "    <tr>\n",
       "      <th>1</th>\n",
       "      <td>Mrk</td>\n",
       "      <td>6</td>\n",
       "      <td>53.7266</td>\n",
       "      <td>12.536</td>\n",
       "      <td>0.019</td>\n",
       "      <td>11.020</td>\n",
       "      <td>0.016</td>\n",
       "      <td>Mrk6</td>\n",
       "      <td>57753.2266</td>\n",
       "    </tr>\n",
       "    <tr>\n",
       "      <th>2</th>\n",
       "      <td>Mrk</td>\n",
       "      <td>6</td>\n",
       "      <td>54.7462</td>\n",
       "      <td>12.494</td>\n",
       "      <td>0.035</td>\n",
       "      <td>11.029</td>\n",
       "      <td>0.032</td>\n",
       "      <td>Mrk6</td>\n",
       "      <td>57754.2462</td>\n",
       "    </tr>\n",
       "    <tr>\n",
       "      <th>3</th>\n",
       "      <td>Mrk</td>\n",
       "      <td>6</td>\n",
       "      <td>71.6696</td>\n",
       "      <td>12.479</td>\n",
       "      <td>0.040</td>\n",
       "      <td>11.291</td>\n",
       "      <td>0.032</td>\n",
       "      <td>Mrk6</td>\n",
       "      <td>57771.1696</td>\n",
       "    </tr>\n",
       "    <tr>\n",
       "      <th>4</th>\n",
       "      <td>Mrk</td>\n",
       "      <td>6</td>\n",
       "      <td>72.6308</td>\n",
       "      <td>12.464</td>\n",
       "      <td>0.052</td>\n",
       "      <td>11.161</td>\n",
       "      <td>0.046</td>\n",
       "      <td>Mrk6</td>\n",
       "      <td>57772.1308</td>\n",
       "    </tr>\n",
       "    <tr>\n",
       "      <th>5</th>\n",
       "      <td>Mrk</td>\n",
       "      <td>6</td>\n",
       "      <td>74.7143</td>\n",
       "      <td>12.371</td>\n",
       "      <td>0.047</td>\n",
       "      <td>11.254</td>\n",
       "      <td>0.039</td>\n",
       "      <td>Mrk6</td>\n",
       "      <td>57774.2143</td>\n",
       "    </tr>\n",
       "    <tr>\n",
       "      <th>6</th>\n",
       "      <td>Mrk</td>\n",
       "      <td>6</td>\n",
       "      <td>79.8945</td>\n",
       "      <td>12.114</td>\n",
       "      <td>0.066</td>\n",
       "      <td>11.122</td>\n",
       "      <td>0.057</td>\n",
       "      <td>Mrk6</td>\n",
       "      <td>57779.3945</td>\n",
       "    </tr>\n",
       "    <tr>\n",
       "      <th>7</th>\n",
       "      <td>Mrk</td>\n",
       "      <td>6</td>\n",
       "      <td>80.6802</td>\n",
       "      <td>12.009</td>\n",
       "      <td>0.112</td>\n",
       "      <td>11.368</td>\n",
       "      <td>0.105</td>\n",
       "      <td>Mrk6</td>\n",
       "      <td>57780.1802</td>\n",
       "    </tr>\n",
       "    <tr>\n",
       "      <th>8</th>\n",
       "      <td>Mrk</td>\n",
       "      <td>6</td>\n",
       "      <td>82.7103</td>\n",
       "      <td>12.096</td>\n",
       "      <td>0.147</td>\n",
       "      <td>11.078</td>\n",
       "      <td>0.138</td>\n",
       "      <td>Mrk6</td>\n",
       "      <td>57782.2103</td>\n",
       "    </tr>\n",
       "    <tr>\n",
       "      <th>9</th>\n",
       "      <td>Mrk</td>\n",
       "      <td>6</td>\n",
       "      <td>89.8581</td>\n",
       "      <td>11.570</td>\n",
       "      <td>0.114</td>\n",
       "      <td>11.646</td>\n",
       "      <td>0.112</td>\n",
       "      <td>Mrk6</td>\n",
       "      <td>57789.3581</td>\n",
       "    </tr>\n",
       "    <tr>\n",
       "      <th>10</th>\n",
       "      <td>Mrk</td>\n",
       "      <td>6</td>\n",
       "      <td>90.6241</td>\n",
       "      <td>11.428</td>\n",
       "      <td>0.098</td>\n",
       "      <td>11.474</td>\n",
       "      <td>0.096</td>\n",
       "      <td>Mrk6</td>\n",
       "      <td>57790.1241</td>\n",
       "    </tr>\n",
       "    <tr>\n",
       "      <th>11</th>\n",
       "      <td>Mrk</td>\n",
       "      <td>6</td>\n",
       "      <td>93.6380</td>\n",
       "      <td>11.374</td>\n",
       "      <td>0.039</td>\n",
       "      <td>11.601</td>\n",
       "      <td>0.039</td>\n",
       "      <td>Mrk6</td>\n",
       "      <td>57793.1380</td>\n",
       "    </tr>\n",
       "    <tr>\n",
       "      <th>12</th>\n",
       "      <td>Mrk</td>\n",
       "      <td>6</td>\n",
       "      <td>97.6098</td>\n",
       "      <td>10.889</td>\n",
       "      <td>0.102</td>\n",
       "      <td>11.379</td>\n",
       "      <td>0.104</td>\n",
       "      <td>Mrk6</td>\n",
       "      <td>57797.1098</td>\n",
       "    </tr>\n",
       "    <tr>\n",
       "      <th>13</th>\n",
       "      <td>Mrk</td>\n",
       "      <td>6</td>\n",
       "      <td>98.6213</td>\n",
       "      <td>10.904</td>\n",
       "      <td>0.043</td>\n",
       "      <td>11.450</td>\n",
       "      <td>0.043</td>\n",
       "      <td>Mrk6</td>\n",
       "      <td>57798.1213</td>\n",
       "    </tr>\n",
       "    <tr>\n",
       "      <th>14</th>\n",
       "      <td>Mrk</td>\n",
       "      <td>6</td>\n",
       "      <td>99.6709</td>\n",
       "      <td>10.524</td>\n",
       "      <td>0.079</td>\n",
       "      <td>11.307</td>\n",
       "      <td>0.083</td>\n",
       "      <td>Mrk6</td>\n",
       "      <td>57799.1709</td>\n",
       "    </tr>\n",
       "    <tr>\n",
       "      <th>15</th>\n",
       "      <td>Mrk</td>\n",
       "      <td>6</td>\n",
       "      <td>100.6211</td>\n",
       "      <td>11.185</td>\n",
       "      <td>0.103</td>\n",
       "      <td>11.388</td>\n",
       "      <td>0.101</td>\n",
       "      <td>Mrk6</td>\n",
       "      <td>57800.1211</td>\n",
       "    </tr>\n",
       "    <tr>\n",
       "      <th>16</th>\n",
       "      <td>Mrk</td>\n",
       "      <td>6</td>\n",
       "      <td>101.6064</td>\n",
       "      <td>10.487</td>\n",
       "      <td>0.169</td>\n",
       "      <td>11.331</td>\n",
       "      <td>0.181</td>\n",
       "      <td>Mrk6</td>\n",
       "      <td>57801.1064</td>\n",
       "    </tr>\n",
       "    <tr>\n",
       "      <th>17</th>\n",
       "      <td>Mrk</td>\n",
       "      <td>6</td>\n",
       "      <td>102.6485</td>\n",
       "      <td>10.291</td>\n",
       "      <td>0.063</td>\n",
       "      <td>10.866</td>\n",
       "      <td>0.063</td>\n",
       "      <td>Mrk6</td>\n",
       "      <td>57802.1485</td>\n",
       "    </tr>\n",
       "    <tr>\n",
       "      <th>18</th>\n",
       "      <td>Mrk</td>\n",
       "      <td>6</td>\n",
       "      <td>105.6148</td>\n",
       "      <td>10.531</td>\n",
       "      <td>0.042</td>\n",
       "      <td>11.223</td>\n",
       "      <td>0.032</td>\n",
       "      <td>Mrk6</td>\n",
       "      <td>57805.1148</td>\n",
       "    </tr>\n",
       "    <tr>\n",
       "      <th>19</th>\n",
       "      <td>Mrk</td>\n",
       "      <td>6</td>\n",
       "      <td>106.6250</td>\n",
       "      <td>10.346</td>\n",
       "      <td>0.048</td>\n",
       "      <td>10.894</td>\n",
       "      <td>0.045</td>\n",
       "      <td>Mrk6</td>\n",
       "      <td>57806.1250</td>\n",
       "    </tr>\n",
       "    <tr>\n",
       "      <th>20</th>\n",
       "      <td>Mrk</td>\n",
       "      <td>6</td>\n",
       "      <td>109.6293</td>\n",
       "      <td>10.346</td>\n",
       "      <td>0.048</td>\n",
       "      <td>11.013</td>\n",
       "      <td>0.049</td>\n",
       "      <td>Mrk6</td>\n",
       "      <td>57809.1293</td>\n",
       "    </tr>\n",
       "    <tr>\n",
       "      <th>21</th>\n",
       "      <td>Mrk</td>\n",
       "      <td>6</td>\n",
       "      <td>115.6149</td>\n",
       "      <td>10.060</td>\n",
       "      <td>0.030</td>\n",
       "      <td>10.730</td>\n",
       "      <td>0.023</td>\n",
       "      <td>Mrk6</td>\n",
       "      <td>57815.1149</td>\n",
       "    </tr>\n",
       "    <tr>\n",
       "      <th>22</th>\n",
       "      <td>Mrk</td>\n",
       "      <td>6</td>\n",
       "      <td>116.6337</td>\n",
       "      <td>9.997</td>\n",
       "      <td>0.086</td>\n",
       "      <td>10.670</td>\n",
       "      <td>0.091</td>\n",
       "      <td>Mrk6</td>\n",
       "      <td>57816.1337</td>\n",
       "    </tr>\n",
       "    <tr>\n",
       "      <th>23</th>\n",
       "      <td>Mrk</td>\n",
       "      <td>6</td>\n",
       "      <td>117.6407</td>\n",
       "      <td>10.112</td>\n",
       "      <td>0.034</td>\n",
       "      <td>10.698</td>\n",
       "      <td>0.019</td>\n",
       "      <td>Mrk6</td>\n",
       "      <td>57817.1407</td>\n",
       "    </tr>\n",
       "    <tr>\n",
       "      <th>24</th>\n",
       "      <td>Mrk</td>\n",
       "      <td>6</td>\n",
       "      <td>118.6288</td>\n",
       "      <td>9.920</td>\n",
       "      <td>0.087</td>\n",
       "      <td>10.640</td>\n",
       "      <td>0.090</td>\n",
       "      <td>Mrk6</td>\n",
       "      <td>57818.1288</td>\n",
       "    </tr>\n",
       "    <tr>\n",
       "      <th>25</th>\n",
       "      <td>Mrk</td>\n",
       "      <td>6</td>\n",
       "      <td>122.7562</td>\n",
       "      <td>9.436</td>\n",
       "      <td>0.059</td>\n",
       "      <td>10.335</td>\n",
       "      <td>0.063</td>\n",
       "      <td>Mrk6</td>\n",
       "      <td>57822.2562</td>\n",
       "    </tr>\n",
       "    <tr>\n",
       "      <th>26</th>\n",
       "      <td>Mrk</td>\n",
       "      <td>6</td>\n",
       "      <td>127.7921</td>\n",
       "      <td>9.143</td>\n",
       "      <td>0.043</td>\n",
       "      <td>10.193</td>\n",
       "      <td>0.042</td>\n",
       "      <td>Mrk6</td>\n",
       "      <td>57827.2921</td>\n",
       "    </tr>\n",
       "    <tr>\n",
       "      <th>27</th>\n",
       "      <td>Mrk</td>\n",
       "      <td>6</td>\n",
       "      <td>129.7390</td>\n",
       "      <td>9.336</td>\n",
       "      <td>0.060</td>\n",
       "      <td>10.388</td>\n",
       "      <td>0.062</td>\n",
       "      <td>Mrk6</td>\n",
       "      <td>57829.2390</td>\n",
       "    </tr>\n",
       "    <tr>\n",
       "      <th>28</th>\n",
       "      <td>Mrk</td>\n",
       "      <td>6</td>\n",
       "      <td>131.6532</td>\n",
       "      <td>9.012</td>\n",
       "      <td>0.065</td>\n",
       "      <td>9.966</td>\n",
       "      <td>0.073</td>\n",
       "      <td>Mrk6</td>\n",
       "      <td>57831.1532</td>\n",
       "    </tr>\n",
       "    <tr>\n",
       "      <th>29</th>\n",
       "      <td>Mrk</td>\n",
       "      <td>6</td>\n",
       "      <td>134.7553</td>\n",
       "      <td>8.577</td>\n",
       "      <td>0.029</td>\n",
       "      <td>9.489</td>\n",
       "      <td>0.017</td>\n",
       "      <td>Mrk6</td>\n",
       "      <td>57834.2553</td>\n",
       "    </tr>\n",
       "    <tr>\n",
       "      <th>30</th>\n",
       "      <td>Mrk</td>\n",
       "      <td>6</td>\n",
       "      <td>142.6354</td>\n",
       "      <td>8.274</td>\n",
       "      <td>0.040</td>\n",
       "      <td>9.534</td>\n",
       "      <td>0.043</td>\n",
       "      <td>Mrk6</td>\n",
       "      <td>57842.1354</td>\n",
       "    </tr>\n",
       "    <tr>\n",
       "      <th>31</th>\n",
       "      <td>Mrk</td>\n",
       "      <td>6</td>\n",
       "      <td>145.6301</td>\n",
       "      <td>8.097</td>\n",
       "      <td>0.028</td>\n",
       "      <td>9.300</td>\n",
       "      <td>0.019</td>\n",
       "      <td>Mrk6</td>\n",
       "      <td>57845.1301</td>\n",
       "    </tr>\n",
       "    <tr>\n",
       "      <th>32</th>\n",
       "      <td>Mrk</td>\n",
       "      <td>6</td>\n",
       "      <td>150.6248</td>\n",
       "      <td>8.183</td>\n",
       "      <td>0.036</td>\n",
       "      <td>9.370</td>\n",
       "      <td>0.031</td>\n",
       "      <td>Mrk6</td>\n",
       "      <td>57850.1248</td>\n",
       "    </tr>\n",
       "    <tr>\n",
       "      <th>33</th>\n",
       "      <td>Mrk</td>\n",
       "      <td>6</td>\n",
       "      <td>153.6255</td>\n",
       "      <td>8.248</td>\n",
       "      <td>0.045</td>\n",
       "      <td>9.344</td>\n",
       "      <td>0.054</td>\n",
       "      <td>Mrk6</td>\n",
       "      <td>57853.1255</td>\n",
       "    </tr>\n",
       "    <tr>\n",
       "      <th>34</th>\n",
       "      <td>Mrk</td>\n",
       "      <td>6</td>\n",
       "      <td>159.6562</td>\n",
       "      <td>7.981</td>\n",
       "      <td>0.037</td>\n",
       "      <td>8.771</td>\n",
       "      <td>0.030</td>\n",
       "      <td>Mrk6</td>\n",
       "      <td>57859.1562</td>\n",
       "    </tr>\n",
       "    <tr>\n",
       "      <th>35</th>\n",
       "      <td>Mrk</td>\n",
       "      <td>6</td>\n",
       "      <td>161.6665</td>\n",
       "      <td>7.907</td>\n",
       "      <td>0.052</td>\n",
       "      <td>8.836</td>\n",
       "      <td>0.055</td>\n",
       "      <td>Mrk6</td>\n",
       "      <td>57861.1665</td>\n",
       "    </tr>\n",
       "    <tr>\n",
       "      <th>36</th>\n",
       "      <td>Mrk</td>\n",
       "      <td>6</td>\n",
       "      <td>163.6282</td>\n",
       "      <td>7.991</td>\n",
       "      <td>0.032</td>\n",
       "      <td>8.816</td>\n",
       "      <td>0.031</td>\n",
       "      <td>Mrk6</td>\n",
       "      <td>57863.1282</td>\n",
       "    </tr>\n",
       "    <tr>\n",
       "      <th>37</th>\n",
       "      <td>Mrk</td>\n",
       "      <td>6</td>\n",
       "      <td>166.6387</td>\n",
       "      <td>7.765</td>\n",
       "      <td>0.071</td>\n",
       "      <td>8.874</td>\n",
       "      <td>0.077</td>\n",
       "      <td>Mrk6</td>\n",
       "      <td>57866.1387</td>\n",
       "    </tr>\n",
       "    <tr>\n",
       "      <th>38</th>\n",
       "      <td>Mrk</td>\n",
       "      <td>6</td>\n",
       "      <td>171.6310</td>\n",
       "      <td>7.721</td>\n",
       "      <td>0.022</td>\n",
       "      <td>8.748</td>\n",
       "      <td>0.017</td>\n",
       "      <td>Mrk6</td>\n",
       "      <td>57871.1310</td>\n",
       "    </tr>\n",
       "    <tr>\n",
       "      <th>39</th>\n",
       "      <td>Mrk</td>\n",
       "      <td>6</td>\n",
       "      <td>173.6815</td>\n",
       "      <td>7.627</td>\n",
       "      <td>0.026</td>\n",
       "      <td>8.730</td>\n",
       "      <td>0.023</td>\n",
       "      <td>Mrk6</td>\n",
       "      <td>57873.1815</td>\n",
       "    </tr>\n",
       "    <tr>\n",
       "      <th>40</th>\n",
       "      <td>Mrk</td>\n",
       "      <td>6</td>\n",
       "      <td>177.6335</td>\n",
       "      <td>7.756</td>\n",
       "      <td>0.050</td>\n",
       "      <td>8.828</td>\n",
       "      <td>0.052</td>\n",
       "      <td>Mrk6</td>\n",
       "      <td>57877.1335</td>\n",
       "    </tr>\n",
       "    <tr>\n",
       "      <th>41</th>\n",
       "      <td>Mrk</td>\n",
       "      <td>6</td>\n",
       "      <td>179.6318</td>\n",
       "      <td>7.770</td>\n",
       "      <td>0.027</td>\n",
       "      <td>8.887</td>\n",
       "      <td>0.018</td>\n",
       "      <td>Mrk6</td>\n",
       "      <td>57879.1318</td>\n",
       "    </tr>\n",
       "    <tr>\n",
       "      <th>42</th>\n",
       "      <td>Mrk</td>\n",
       "      <td>6</td>\n",
       "      <td>185.6335</td>\n",
       "      <td>7.483</td>\n",
       "      <td>0.038</td>\n",
       "      <td>8.686</td>\n",
       "      <td>0.041</td>\n",
       "      <td>Mrk6</td>\n",
       "      <td>57885.1335</td>\n",
       "    </tr>\n",
       "    <tr>\n",
       "      <th>43</th>\n",
       "      <td>Mrk</td>\n",
       "      <td>6</td>\n",
       "      <td>188.6618</td>\n",
       "      <td>7.311</td>\n",
       "      <td>0.058</td>\n",
       "      <td>8.440</td>\n",
       "      <td>0.062</td>\n",
       "      <td>Mrk6</td>\n",
       "      <td>57888.1618</td>\n",
       "    </tr>\n",
       "    <tr>\n",
       "      <th>44</th>\n",
       "      <td>Mrk</td>\n",
       "      <td>6</td>\n",
       "      <td>201.6483</td>\n",
       "      <td>7.154</td>\n",
       "      <td>0.033</td>\n",
       "      <td>8.276</td>\n",
       "      <td>0.034</td>\n",
       "      <td>Mrk6</td>\n",
       "      <td>57901.1483</td>\n",
       "    </tr>\n",
       "  </tbody>\n",
       "</table>\n",
       "</div>"
      ],
      "text/plain": [
       "     Na me        jd   F5100  e_F5100     FHb  e_FHb  Name         mjd\n",
       "0   Mrk  6   52.6986  12.411    0.037  10.946  0.031  Mrk6  57752.1986\n",
       "1   Mrk  6   53.7266  12.536    0.019  11.020  0.016  Mrk6  57753.2266\n",
       "2   Mrk  6   54.7462  12.494    0.035  11.029  0.032  Mrk6  57754.2462\n",
       "3   Mrk  6   71.6696  12.479    0.040  11.291  0.032  Mrk6  57771.1696\n",
       "4   Mrk  6   72.6308  12.464    0.052  11.161  0.046  Mrk6  57772.1308\n",
       "5   Mrk  6   74.7143  12.371    0.047  11.254  0.039  Mrk6  57774.2143\n",
       "6   Mrk  6   79.8945  12.114    0.066  11.122  0.057  Mrk6  57779.3945\n",
       "7   Mrk  6   80.6802  12.009    0.112  11.368  0.105  Mrk6  57780.1802\n",
       "8   Mrk  6   82.7103  12.096    0.147  11.078  0.138  Mrk6  57782.2103\n",
       "9   Mrk  6   89.8581  11.570    0.114  11.646  0.112  Mrk6  57789.3581\n",
       "10  Mrk  6   90.6241  11.428    0.098  11.474  0.096  Mrk6  57790.1241\n",
       "11  Mrk  6   93.6380  11.374    0.039  11.601  0.039  Mrk6  57793.1380\n",
       "12  Mrk  6   97.6098  10.889    0.102  11.379  0.104  Mrk6  57797.1098\n",
       "13  Mrk  6   98.6213  10.904    0.043  11.450  0.043  Mrk6  57798.1213\n",
       "14  Mrk  6   99.6709  10.524    0.079  11.307  0.083  Mrk6  57799.1709\n",
       "15  Mrk  6  100.6211  11.185    0.103  11.388  0.101  Mrk6  57800.1211\n",
       "16  Mrk  6  101.6064  10.487    0.169  11.331  0.181  Mrk6  57801.1064\n",
       "17  Mrk  6  102.6485  10.291    0.063  10.866  0.063  Mrk6  57802.1485\n",
       "18  Mrk  6  105.6148  10.531    0.042  11.223  0.032  Mrk6  57805.1148\n",
       "19  Mrk  6  106.6250  10.346    0.048  10.894  0.045  Mrk6  57806.1250\n",
       "20  Mrk  6  109.6293  10.346    0.048  11.013  0.049  Mrk6  57809.1293\n",
       "21  Mrk  6  115.6149  10.060    0.030  10.730  0.023  Mrk6  57815.1149\n",
       "22  Mrk  6  116.6337   9.997    0.086  10.670  0.091  Mrk6  57816.1337\n",
       "23  Mrk  6  117.6407  10.112    0.034  10.698  0.019  Mrk6  57817.1407\n",
       "24  Mrk  6  118.6288   9.920    0.087  10.640  0.090  Mrk6  57818.1288\n",
       "25  Mrk  6  122.7562   9.436    0.059  10.335  0.063  Mrk6  57822.2562\n",
       "26  Mrk  6  127.7921   9.143    0.043  10.193  0.042  Mrk6  57827.2921\n",
       "27  Mrk  6  129.7390   9.336    0.060  10.388  0.062  Mrk6  57829.2390\n",
       "28  Mrk  6  131.6532   9.012    0.065   9.966  0.073  Mrk6  57831.1532\n",
       "29  Mrk  6  134.7553   8.577    0.029   9.489  0.017  Mrk6  57834.2553\n",
       "30  Mrk  6  142.6354   8.274    0.040   9.534  0.043  Mrk6  57842.1354\n",
       "31  Mrk  6  145.6301   8.097    0.028   9.300  0.019  Mrk6  57845.1301\n",
       "32  Mrk  6  150.6248   8.183    0.036   9.370  0.031  Mrk6  57850.1248\n",
       "33  Mrk  6  153.6255   8.248    0.045   9.344  0.054  Mrk6  57853.1255\n",
       "34  Mrk  6  159.6562   7.981    0.037   8.771  0.030  Mrk6  57859.1562\n",
       "35  Mrk  6  161.6665   7.907    0.052   8.836  0.055  Mrk6  57861.1665\n",
       "36  Mrk  6  163.6282   7.991    0.032   8.816  0.031  Mrk6  57863.1282\n",
       "37  Mrk  6  166.6387   7.765    0.071   8.874  0.077  Mrk6  57866.1387\n",
       "38  Mrk  6  171.6310   7.721    0.022   8.748  0.017  Mrk6  57871.1310\n",
       "39  Mrk  6  173.6815   7.627    0.026   8.730  0.023  Mrk6  57873.1815\n",
       "40  Mrk  6  177.6335   7.756    0.050   8.828  0.052  Mrk6  57877.1335\n",
       "41  Mrk  6  179.6318   7.770    0.027   8.887  0.018  Mrk6  57879.1318\n",
       "42  Mrk  6  185.6335   7.483    0.038   8.686  0.041  Mrk6  57885.1335\n",
       "43  Mrk  6  188.6618   7.311    0.058   8.440  0.062  Mrk6  57888.1618\n",
       "44  Mrk  6  201.6483   7.154    0.033   8.276  0.034  Mrk6  57901.1483"
      ]
     },
     "execution_count": 14,
     "metadata": {},
     "output_type": "execute_result"
    }
   ],
   "source": [
    "Mrk6_Monitoring_AGNs_Du"
   ]
  },
  {
   "cell_type": "code",
   "execution_count": null,
   "metadata": {},
   "outputs": [],
   "source": []
  },
  {
   "cell_type": "code",
   "execution_count": null,
   "metadata": {},
   "outputs": [],
   "source": []
  },
  {
   "cell_type": "code",
   "execution_count": null,
   "metadata": {},
   "outputs": [],
   "source": []
  },
  {
   "cell_type": "markdown",
   "metadata": {},
   "source": [
    "# lc"
   ]
  },
  {
   "cell_type": "markdown",
   "metadata": {},
   "source": [
    "## 5100A Hbeta"
   ]
  },
  {
   "cell_type": "code",
   "execution_count": 11,
   "metadata": {
    "ExecuteTime": {
     "end_time": "2021-09-24T08:17:07.578453Z",
     "start_time": "2021-09-24T08:17:06.316386Z"
    }
   },
   "outputs": [
    {
     "data": {
      "image/png": "[encoded data removed]",
      "text/plain": [
       "<Figure size 864x288 with 1 Axes>"
      ]
     },
     "metadata": {
      "needs_background": "light"
     },
     "output_type": "display_data"
    }
   ],
   "source": [
    "fig = plt.figure(figsize=(12,4))\n",
    "fig.subplots_adjust(hspace=0.0, wspace = 0.0)\n",
    "ax = fig.add_subplot(111)\n",
    "\n",
    "plotdata=Mrk6\n",
    "ax.scatter(plotdata['mjd'],plotdata['F5100'],color='red',label='5100')\n",
    "ax.scatter(plotdata['mjd'],plotdata['FHb'],color='black',label='Hbeta')\n",
    "\n",
    "#ax.scatter(data_test_neo['mjd'],data_test_neo['w2mpro'],color='blue',label='W2')\n",
    "#ax.scatter(data_test_mep['mjd'],data_test_mep['w2mpro_ep'],color='blue',label='W2')\n",
    "handles, labels = ax.get_legend_handles_labels()\n",
    "by_label = OrderedDict(zip(labels, handles))\n",
    "ax.legend(by_label.values(), by_label.keys(),bbox_to_anchor=(1.0, 0.9),ncol=1,\n",
    "      loc=2,fontsize=10)\n",
    "\n",
    "#bottom, top = plt.ylim() \n",
    "#plt.ylim(top,bottom)\n",
    "\n",
    "plt.xlabel('mjd')\n",
    "plt.ylabel(r'$flux$')\n",
    "#ax.text(0.05, 0.9,name_test , horizontalalignment = 'center', verticalalignment = 'center',transform = ax.transAxes, fontsize = 10)\n",
    "save_lc_img_path='/Users/brettlv/Downloads/Mrk6/Mrk6_5100_Hbeta_lc.png'\n",
    "#if not os.path.exists(save_lc_img_path):   \n",
    "plt.savefig(save_lc_img_path,dpi=400, transparent=False, bbox_inches='tight')\n"
   ]
  },
  {
   "cell_type": "markdown",
   "metadata": {},
   "source": [
    "## w1"
   ]
  },
  {
   "cell_type": "code",
   "execution_count": 20,
   "metadata": {
    "ExecuteTime": {
     "end_time": "2021-09-17T07:42:53.979592Z",
     "start_time": "2021-09-17T07:42:52.466423Z"
    }
   },
   "outputs": [
    {
     "name": "stdout",
     "output_type": "stream",
     "text": [
      "Mrk 6 \n"
     ]
    },
    {
     "data": {
      "image/png": "[encoded data removed]",
      "text/plain": [
       "<Figure size 864x288 with 1 Axes>"
      ]
     },
     "metadata": {
      "needs_background": "light"
     },
     "output_type": "display_data"
    }
   ],
   "source": [
    "name_test=\"Mrk 6 \"\n",
    "print(name_test)\n",
    "search_name=name_test.replace(' ','') \n",
    "save_name=name_test\n",
    "\n",
    "data_test_neo=pd.read_csv('/Users/brettlv/Downloads/Mrk6/wise_%s_neo.csv'%save_name)\n",
    "data_test_neo=data_test_neo[data_test_neo['w1mpro'].notnull()]\n",
    "data_test_neo=data_test_neo[data_test_neo['w2mpro'].notnull()]\n",
    "data_test_neo=data_test_neo[data_test_neo['w1sigmpro'].notnull()]\n",
    "data_test_neo=data_test_neo[data_test_neo['w2sigmpro'].notnull()]\n",
    "data_test_neo=data_test_neo[data_test_neo['w1mpro']<15]\n",
    "data_test_neo=data_test_neo[data_test_neo['w2mpro']<13]  \n",
    "#data_test_neo=data_test_neo[data_test_neo['w1rchi2']<2]\n",
    "#data_test_neo=data_test_neo[data_test_neo['w2rchi2']<2]\n",
    "\n",
    "data_test_neo=data_test_neo[data_test_neo['qual_frame']>0]\n",
    "#print(len(data_test_neo))\n",
    "data_test_neo=(data_test_neo.loc[:, ['mjd', 'w1mpro','w2mpro',\n",
    "                             'w1sigmpro','w2sigmpro',\n",
    "                             ]].sort_values('mjd'))\n",
    "\n",
    "data_test_neo=data_test_neo.reset_index(drop=True)\n",
    "#print(data_test_neo.columns)\n",
    "\n",
    "data_test_mep=pd.read_csv('/Users/brettlv/Downloads/Mrk6/wise_%s_mep.csv'%save_name)\n",
    "data_test_mep=data_test_mep[data_test_mep['w1mpro_ep'].notnull()]\n",
    "data_test_mep=data_test_mep[data_test_mep['w2mpro_ep'].notnull()]\n",
    "data_test_mep=data_test_mep[data_test_mep['w1sigmpro_ep'].notnull()]\n",
    "data_test_mep=data_test_mep[data_test_mep['w2sigmpro_ep'].notnull()]\n",
    "#data_test_mep=data_test_mep[data_test_mep['qual_frame']>5]\n",
    "data_test_mep=data_test_mep[data_test_mep['qi_fact']>0]\n",
    "data_test_mep=data_test_mep[data_test_mep['saa_sep']>0]\n",
    "\n",
    "#print(len(data_test_mep))\n",
    "data_test_mep=(data_test_mep.loc[:, ['mjd', 'w1mpro_ep','w2mpro_ep',\n",
    "                                     'w1sigmpro_ep','w2sigmpro_ep',\n",
    "                                     ]].sort_values('mjd'))\n",
    "\n",
    "data_test_mep=data_test_mep.reset_index(drop=True)\n",
    "#print(data_test_mep.columns)\n",
    "save_lc_img_path='/Users/brettlv/Downloads/Mrk6/WISE_CLAGN_lc_w1_%s.png'%save_name\n",
    "\n",
    "fig = plt.figure(figsize=(12,4))\n",
    "fig.subplots_adjust(hspace=0.0, wspace = 0.0)\n",
    "ax = fig.add_subplot(111)\n",
    "\n",
    "ax.scatter(data_test_neo['mjd'],data_test_neo['w1mpro'],color='red',label='W1')\n",
    "ax.scatter(data_test_mep['mjd'],data_test_mep['w1mpro_ep'],color='red',label='W1')\n",
    "\n",
    "\n",
    "#ax.scatter(data_test_neo['mjd'],data_test_neo['w2mpro'],color='blue',label='W2')\n",
    "#ax.scatter(data_test_mep['mjd'],data_test_mep['w2mpro_ep'],color='blue',label='W2')\n",
    "handles, labels = ax.get_legend_handles_labels()\n",
    "by_label = OrderedDict(zip(labels, handles))\n",
    "ax.legend(by_label.values(), by_label.keys(),bbox_to_anchor=(1.0, 0.9),ncol=1,\n",
    "      loc=2,fontsize=10)\n",
    "\n",
    "bottom, top = plt.ylim() \n",
    "plt.ylim(top,bottom)\n",
    "\n",
    "plt.xlabel('mjd')\n",
    "plt.ylabel(r'$mag$')\n",
    "\n",
    "ax.text(0.05, 0.9,name_test , horizontalalignment = 'center', verticalalignment = 'center',transform = ax.transAxes, fontsize = 10)\n",
    "plt.savefig(save_lc_img_path,dpi=400, transparent=False, bbox_inches='tight')\n",
    "#plt.semilogy()    \n"
   ]
  },
  {
   "cell_type": "markdown",
   "metadata": {},
   "source": [
    "## ztf"
   ]
  },
  {
   "cell_type": "code",
   "execution_count": 4,
   "metadata": {
    "ExecuteTime": {
     "end_time": "2021-09-27T07:59:13.617439Z",
     "start_time": "2021-09-27T07:59:13.581382Z"
    }
   },
   "outputs": [],
   "source": [
    "ztf_hdl=fits.open('/Users/brettlv/Downloads/Mrk6/858103200005784lc.fits')\n",
    "ztf_data=ztf_hdl[1].data"
   ]
  },
  {
   "cell_type": "code",
   "execution_count": 5,
   "metadata": {
    "ExecuteTime": {
     "end_time": "2021-09-27T07:59:13.628972Z",
     "start_time": "2021-09-27T07:59:13.620317Z"
    }
   },
   "outputs": [
    {
     "data": {
      "text/plain": [
       "ColDefs(\n",
       "    name = 'null_bitfield_flags'; format = '3B'\n",
       "    name = 'oid'; format = '1K'\n",
       "    name = 'expid'; format = '1J'\n",
       "    name = 'hjd'; format = '1D'; unit = 'd'\n",
       "    name = 'mjd'; format = '1D'; unit = 'd'\n",
       "    name = 'mag'; format = '1E'; unit = 'mag'\n",
       "    name = 'magerr'; format = '1E'; unit = 'mag'\n",
       "    name = 'catflags'; format = '1J'\n",
       "    name = 'filtercode'; format = '2A'\n",
       "    name = 'ra'; format = '1D'; unit = 'deg'\n",
       "    name = 'dec'; format = '1D'; unit = 'deg'\n",
       "    name = 'chi'; format = '1E'\n",
       "    name = 'sharp'; format = '1E'\n",
       "    name = 'filefracday'; format = '1K'\n",
       "    name = 'field'; format = '1J'\n",
       "    name = 'ccdid'; format = '1B'\n",
       "    name = 'qid'; format = '1B'\n",
       "    name = 'limitmag'; format = '1E'; unit = 'mag'\n",
       "    name = 'magzp'; format = '1E'; unit = 'mag'\n",
       "    name = 'magzprms'; format = '1E'; unit = 'mag'\n",
       "    name = 'clrcoeff'; format = '1E'\n",
       "    name = 'clrcounc'; format = '1E'\n",
       "    name = 'exptime'; format = '1E'; unit = 's'\n",
       "    name = 'airmass'; format = '1E'\n",
       "    name = 'programid'; format = '1J'\n",
       ")"
      ]
     },
     "execution_count": 5,
     "metadata": {},
     "output_type": "execute_result"
    }
   ],
   "source": [
    "ztf_data.columns"
   ]
  },
  {
   "cell_type": "code",
   "execution_count": 9,
   "metadata": {
    "ExecuteTime": {
     "end_time": "2021-09-27T07:59:36.698698Z",
     "start_time": "2021-09-27T07:59:35.712733Z"
    }
   },
   "outputs": [
    {
     "data": {
      "image/png": "[encoded data removed]",
      "text/plain": [
       "<Figure size 864x288 with 1 Axes>"
      ]
     },
     "metadata": {
      "needs_background": "light"
     },
     "output_type": "display_data"
    }
   ],
   "source": [
    "fig = plt.figure(figsize=(12,4))\n",
    "fig.subplots_adjust(hspace=0.0, wspace = 0.0)\n",
    "ax = fig.add_subplot(111)\n",
    "\n",
    "\n",
    "plt.scatter(ztf_data['mjd'],ztf_data['mag'])\n",
    "\n",
    "#ax.scatter(data_test_neo['mjd'],data_test_neo['w2mpro'],color='blue',label='W2')\n",
    "#ax.scatter(data_test_mep['mjd'],data_test_mep['w2mpro_ep'],color='blue',label='W2')\n",
    "handles, labels = ax.get_legend_handles_labels()\n",
    "by_label = OrderedDict(zip(labels, handles))\n",
    "ax.legend(by_label.values(), by_label.keys(),bbox_to_anchor=(1.0, 0.9),ncol=1,\n",
    "      loc=2,fontsize=10)\n",
    "\n",
    "\n",
    "\n",
    "secax1 = ax.secondary_xaxis('top', functions=(mjd2numsdate,datenums2mjd))\n",
    "secax1.xaxis.set_major_formatter(mdates.DateFormatter(\"%Y\"))\n",
    "secax1.xaxis.set_major_locator(mdates.DayLocator(interval=365*2))\n",
    "secax1.xaxis.set_minor_locator(mdates.DayLocator(interval=365))\n",
    "secax1.xaxis.set_tick_params(which='major', size=10, width=2, direction='out')\n",
    "secax1.xaxis.set_tick_params(which='minor', size=5, width=2, direction='out')\n",
    "secax1.xaxis.set_tick_params(which='major', size=10, width=2, direction='out', rotation=45,)\n",
    "    \n",
    "    \n",
    "bottom, top = plt.ylim() \n",
    "plt.ylim(top,bottom)\n",
    "\n",
    "plt.xlabel('mjd')\n",
    "plt.ylabel(r'$mag$')\n",
    "plt.show()\n",
    "#ax.text(0.05, 0.9,name_test , horizontalalignment = 'center', verticalalignment = 'center',transform = ax.transAxes, fontsize = 10)\n",
    "#save_lc_img_path='/Users/brettlv/Downloads/Mrk6/ztf_lc_w1_858103200005784.png'\n",
    "#plt.savefig(save_lc_img_path,dpi=400, transparent=False, bbox_inches='tight')\n"
   ]
  },
  {
   "cell_type": "code",
   "execution_count": 10,
   "metadata": {
    "ExecuteTime": {
     "end_time": "2021-09-27T07:59:49.715747Z",
     "start_time": "2021-09-27T07:59:48.876289Z"
    }
   },
   "outputs": [
    {
     "data": {
      "image/png": "[encoded data removed]",
      "text/plain": [
       "<Figure size 864x288 with 1 Axes>"
      ]
     },
     "metadata": {
      "needs_background": "light"
     },
     "output_type": "display_data"
    }
   ],
   "source": [
    "fig = plt.figure(figsize=(12,4))\n",
    "fig.subplots_adjust(hspace=0.0, wspace = 0.0)\n",
    "ax = fig.add_subplot(111)\n",
    "\n",
    "ztf_hdl=fits.open('/Users/brettlv/Downloads/Mrk6/858203200030764lc.fits')\n",
    "ztf_data=ztf_hdl[1].data\n",
    "plt.scatter(ztf_data['mjd'],ztf_data['mag'])\n",
    "\n",
    "#ax.scatter(data_test_neo['mjd'],data_test_neo['w2mpro'],color='blue',label='W2')\n",
    "#ax.scatter(data_test_mep['mjd'],data_test_mep['w2mpro_ep'],color='blue',label='W2')\n",
    "handles, labels = ax.get_legend_handles_labels()\n",
    "by_label = OrderedDict(zip(labels, handles))\n",
    "ax.legend(by_label.values(), by_label.keys(),bbox_to_anchor=(1.0, 0.9),ncol=1,\n",
    "      loc=2,fontsize=10)\n",
    "\n",
    "bottom, top = plt.ylim() \n",
    "plt.ylim(top,bottom)\n",
    "\n",
    "plt.xlabel('mjd')\n",
    "plt.ylabel(r'$mag$')\n",
    "\n",
    "#ax.text(0.05, 0.9,name_test , horizontalalignment = 'center', verticalalignment = 'center',transform = ax.transAxes, fontsize = 10)\n",
    "save_lc_img_path='/Users/brettlv/Downloads/Mrk6/ztf_lc_w1_858203200030764.png'\n",
    "\n",
    "plt.savefig(save_lc_img_path,dpi=400, transparent=False, bbox_inches='tight')\n"
   ]
  },
  {
   "cell_type": "markdown",
   "metadata": {},
   "source": [
    "# ccf"
   ]
  },
  {
   "cell_type": "code",
   "execution_count": 44,
   "metadata": {
    "ExecuteTime": {
     "end_time": "2021-09-17T08:07:42.327079Z",
     "start_time": "2021-09-17T08:07:42.304395Z"
    }
   },
   "outputs": [],
   "source": [
    "def write_ccf_data(labelname1,labelname2,dataname1,dataname2,rangemin,rangemax,ccf_datadir):     \n",
    "    data1= dataname1[dataname1['t']>rangemin]\n",
    "    data1= data1[data1['t']<rangemax]   \n",
    "    path_data1=os.path.join(ccf_datadir,labelname1+'.csv')\n",
    "    data1.to_csv(path_data1,index=False,header=False,sep=',')\n",
    "    \n",
    "    data2= dataname2[dataname2['t']>rangemin]\n",
    "    data2= data2[data2['t']<rangemax]    \n",
    "    path_data2=os.path.join(ccf_datadir,labelname2+'.csv')\n",
    "    data2.to_csv(path_data2,index=False,header=False,sep=',')  \n",
    "    return path_data1,path_data2\n",
    "\n",
    "def run_ccf(labelname1,labelname2,dataname1,dataname2,rangemin,rangemax,ccf_datadir,lagrangel=-10,lagrangeh=30):\n",
    "    #command='python ccf_ngc1566_cpython.py %s %s %s %s %d %d %d %d'%(path_data1,path_data2,labelname1,labelname2,rangemin,rangemax,lagrangel,lagrangeh)\n",
    "    path_data1,path_data2=write_ccf_data(labelname1,labelname2,dataname1,dataname2,rangemin,rangemax,ccf_datadir)\n",
    "    command='python2 ccf_mrk6_cpython.py %s %s  %d %d %d %d'%(path_data1,path_data2,rangemin,rangemax,lagrangel,lagrangeh)\n",
    "    print(command)\n",
    "    os.system(command) \n",
    "\n",
    "ccf_datadir='/Users/brettlv/timing_analysis/python_ccf_code/Release/CPython/Mrk6_ccf/data'\n",
    "ccf_dir='/Users/brettlv/timing_analysis/python_ccf_code/Release/CPython/Mrk6_ccf/'"
   ]
  },
  {
   "cell_type": "code",
   "execution_count": 22,
   "metadata": {
    "ExecuteTime": {
     "end_time": "2021-09-15T13:09:07.195687Z",
     "start_time": "2021-09-15T13:09:07.190867Z"
    }
   },
   "outputs": [
    {
     "data": {
      "text/plain": [
       "(Index(['mjd', 'w1mpro', 'w2mpro', 'w1sigmpro', 'w2sigmpro'], dtype='object'),\n",
       " Index(['mjd', 'w1mpro_ep', 'w2mpro_ep', 'w1sigmpro_ep', 'w2sigmpro_ep'], dtype='object'))"
      ]
     },
     "execution_count": 22,
     "metadata": {},
     "output_type": "execute_result"
    }
   ],
   "source": [
    "data_test_neo.columns,data_test_mep.columns"
   ]
  },
  {
   "cell_type": "code",
   "execution_count": null,
   "metadata": {},
   "outputs": [],
   "source": [
    "pd.concat([s1, s2])"
   ]
  },
  {
   "cell_type": "code",
   "execution_count": 27,
   "metadata": {
    "ExecuteTime": {
     "end_time": "2021-09-15T13:11:29.442818Z",
     "start_time": "2021-09-15T13:11:29.432412Z"
    }
   },
   "outputs": [
    {
     "data": {
      "text/plain": [
       "2.6174064868491536e+26"
      ]
     },
     "execution_count": 27,
     "metadata": {},
     "output_type": "execute_result"
    }
   ],
   "source": [
    "D_cm_Mrk6.value"
   ]
  },
  {
   "cell_type": "markdown",
   "metadata": {},
   "source": [
    "## wise flux"
   ]
  },
  {
   "cell_type": "code",
   "execution_count": 21,
   "metadata": {
    "ExecuteTime": {
     "end_time": "2021-09-17T07:44:34.065609Z",
     "start_time": "2021-09-17T07:44:34.062028Z"
    }
   },
   "outputs": [],
   "source": [
    "delta_m_wise=[2.699,3.339,5.174,6.620]\n",
    "delta_m_neowise=[2.699,3.339,2.699,3.339,5.174,6.620]"
   ]
  },
  {
   "cell_type": "markdown",
   "metadata": {},
   "source": [
    "data_mep_select=data_mep.loc[:, ['mjd','w1mpro_ep', 'w1sigmpro_ep',\n",
    "         'w2mpro_ep', 'w2sigmpro_ep',]]\n",
    "\n",
    "data_neowise_select=data_neowise.loc[:, ['mjd','w1mpro', 'w1sigmpro',\n",
    "         'w2mpro', 'w2sigmpro',]]\n"
   ]
  },
  {
   "cell_type": "code",
   "execution_count": null,
   "metadata": {},
   "outputs": [],
   "source": []
  },
  {
   "cell_type": "code",
   "execution_count": 38,
   "metadata": {
    "ExecuteTime": {
     "end_time": "2021-09-17T07:59:43.824833Z",
     "start_time": "2021-09-17T07:59:43.797166Z"
    }
   },
   "outputs": [],
   "source": [
    "data_test_neo['logf_W1']= (-48.6-data_test_neo['w1mpro']+2.699)/2.5\n",
    "data_test_neo['e_logf_W1']= data_test_neo['w1sigmpro']/2.5\n",
    "data_test_neo['logf_W2']= (-48.6-data_test_neo['w2mpro']+3.339)/2.5\n",
    "data_test_neo['e_logf_W2']= data_test_neo['w2sigmpro']/2.5\n",
    "\n",
    "\n",
    "data_test_mep['logf_W1']= (-48.6-data_test_mep['w1mpro_ep']+2.699)/2.5\n",
    "data_test_mep['e_logf_W1']= data_test_mep['w1sigmpro_ep']/2.5\n",
    "\n",
    "\n",
    "data_test_mep['logf_W2']= (-48.6-data_test_mep['w2mpro_ep']+3.339)/2.5\n",
    "data_test_mep['e_logf_W2']= data_test_mep['w2sigmpro_ep']/2.5\n",
    "\n",
    "\n",
    "lag_w1_Mrk6_neo=pd.DataFrame({'t':data_test_neo['mjd'],'flux':data_test_neo['logf_W1'],\\\n",
    "                                  'err':data_test_neo['e_logf_W1']},\\\n",
    "                                 index=None,columns=['t','flux','err'])\n",
    "\n",
    "lag_w1_Mrk6_mep=pd.DataFrame({'t':data_test_mep['mjd'],'flux':data_test_mep['logf_W1'],\\\n",
    "                                  'err':data_test_mep['e_logf_W1']},\\\n",
    "                                 index=None,columns=['t','flux','err'])\n",
    "\n",
    "\n",
    "lag_w2_Mrk6_neo=pd.DataFrame({'t':data_test_neo['mjd'],'flux':data_test_neo['logf_W2'],\\\n",
    "                                  'err':data_test_neo['e_logf_W2']},\\\n",
    "                                 index=None,columns=['t','flux','err'])\n",
    "\n",
    "lag_w2_Mrk6_mep=pd.DataFrame({'t':data_test_mep['mjd'],'flux':data_test_mep['logf_W2'],\\\n",
    "                                  'err':data_test_mep['e_logf_W2']},\\\n",
    "                                 index=None,columns=['t','flux','err'])\n"
   ]
  },
  {
   "cell_type": "code",
   "execution_count": 39,
   "metadata": {
    "ExecuteTime": {
     "end_time": "2021-09-17T07:59:48.564579Z",
     "start_time": "2021-09-17T07:59:48.559243Z"
    }
   },
   "outputs": [
    {
     "data": {
      "text/plain": [
       "(64, 253)"
      ]
     },
     "execution_count": 39,
     "metadata": {},
     "output_type": "execute_result"
    }
   ],
   "source": [
    "len(lag_w1_Mrk6_mep),len(lag_w1_Mrk6_neo)"
   ]
  },
  {
   "cell_type": "code",
   "execution_count": 41,
   "metadata": {
    "ExecuteTime": {
     "end_time": "2021-09-17T08:00:02.030039Z",
     "start_time": "2021-09-17T08:00:02.024991Z"
    }
   },
   "outputs": [
    {
     "data": {
      "text/plain": [
       "(64, 253)"
      ]
     },
     "execution_count": 41,
     "metadata": {},
     "output_type": "execute_result"
    }
   ],
   "source": [
    "len(lag_w2_Mrk6_mep),len(lag_w2_Mrk6_neo)"
   ]
  },
  {
   "cell_type": "code",
   "execution_count": 40,
   "metadata": {
    "ExecuteTime": {
     "end_time": "2021-09-17T07:59:51.024371Z",
     "start_time": "2021-09-17T07:59:51.015401Z"
    }
   },
   "outputs": [],
   "source": [
    "lag_w1_Mrk6=pd.concat([lag_w1_Mrk6_mep,lag_w1_Mrk6_neo])\n",
    "lag_w1_Mrk6=lag_w1_Mrk6.sort_values('t')\n",
    "lag_w1_Mrk6=drop_index(lag_w1_Mrk6)\n",
    "\n",
    "\n",
    "lag_w2_Mrk6=pd.concat([lag_w2_Mrk6_mep,lag_w2_Mrk6_neo])\n",
    "lag_w2_Mrk6=lag_w2_Mrk6.sort_values('t')\n",
    "lag_w2_Mrk6=drop_index(lag_w2_Mrk6)"
   ]
  },
  {
   "cell_type": "code",
   "execution_count": 42,
   "metadata": {
    "ExecuteTime": {
     "end_time": "2021-09-17T08:00:38.857972Z",
     "start_time": "2021-09-17T08:00:38.624018Z"
    }
   },
   "outputs": [
    {
     "data": {
      "text/plain": [
       "[<matplotlib.lines.Line2D at 0x11f92c8b0>]"
      ]
     },
     "execution_count": 42,
     "metadata": {},
     "output_type": "execute_result"
    },
    {
     "data": {
      "image/png": "[encoded data removed]",
      "text/plain": [
       "<Figure size 432x288 with 1 Axes>"
      ]
     },
     "metadata": {
      "needs_background": "light"
     },
     "output_type": "display_data"
    }
   ],
   "source": [
    "plt.plot(lag_w1_Mrk6['t'],lag_w1_Mrk6['flux'])"
   ]
  },
  {
   "cell_type": "code",
   "execution_count": 24,
   "metadata": {
    "ExecuteTime": {
     "end_time": "2021-09-17T07:45:12.010834Z",
     "start_time": "2021-09-17T07:45:12.005105Z"
    }
   },
   "outputs": [
    {
     "data": {
      "text/plain": [
       "Index(['Na', 'me', 'jd', 'F5100', 'e_F5100', 'FHb', 'e_FHb', 'Name', 'mjd'], dtype='object')"
      ]
     },
     "execution_count": 24,
     "metadata": {},
     "output_type": "execute_result"
    }
   ],
   "source": [
    "Mrk6.columns"
   ]
  },
  {
   "cell_type": "markdown",
   "metadata": {},
   "source": [
    "lag_xray_Mrk6=pd.DataFrame({'t':xray['mjd'],'flux':xray['Fx'],\\\n",
    "                                  'err':xray['e_Fx']},\\\n",
    "                                 index=None,columns=['t','flux','err'])\n",
    "lag_xray_Mrk6=lag_xray_Mrk6.sort_values('t')\n",
    "lag_xray_Mrk6=lag_xray_Mrk6.reset_index(drop=True)"
   ]
  },
  {
   "cell_type": "markdown",
   "metadata": {},
   "source": [
    "## 5100A and Hb"
   ]
  },
  {
   "cell_type": "code",
   "execution_count": 43,
   "metadata": {
    "ExecuteTime": {
     "end_time": "2021-09-17T08:02:09.873367Z",
     "start_time": "2021-09-17T08:02:09.856907Z"
    }
   },
   "outputs": [],
   "source": [
    "lag_5100A_Mrk6=pd.DataFrame({'t':Mrk6['mjd'],'flux':Mrk6['F5100'],\\\n",
    "                                  'err':Mrk6['e_F5100']},\\\n",
    "                                 index=None,columns=['t','flux','err'])\n",
    "\n",
    "lag_Hb_Mrk6=pd.DataFrame({'t':Mrk6['mjd'],'flux':Mrk6['FHb'],\\\n",
    "                                  'err':Mrk6['e_FHb']},\\\n",
    "                                 index=None,columns=['t','flux','err'])\n",
    "\n",
    "lag_5100A_Mrk6=lag_5100A_Mrk6.sort_values('t')\n",
    "lag_Hb_Mrk6=lag_Hb_Mrk6.sort_values('t')\n",
    "lag_5100A_Mrk6=drop_index(lag_5100A_Mrk6)\n",
    "lag_Hb_Mrk6=drop_index(lag_Hb_Mrk6)"
   ]
  },
  {
   "cell_type": "code",
   "execution_count": null,
   "metadata": {},
   "outputs": [],
   "source": []
  },
  {
   "cell_type": "markdown",
   "metadata": {},
   "source": [
    "## WISE-5100"
   ]
  },
  {
   "cell_type": "code",
   "execution_count": 50,
   "metadata": {
    "ExecuteTime": {
     "end_time": "2021-09-17T08:19:22.767381Z",
     "start_time": "2021-09-17T08:19:22.408873Z"
    }
   },
   "outputs": [
    {
     "data": {
      "text/plain": [
       "Text(0, 0.5, '$flux$')"
      ]
     },
     "execution_count": 50,
     "metadata": {},
     "output_type": "execute_result"
    },
    {
     "data": {
      "image/png": "[encoded data removed]",
      "text/plain": [
       "<Figure size 864x288 with 2 Axes>"
      ]
     },
     "metadata": {
      "needs_background": "light"
     },
     "output_type": "display_data"
    }
   ],
   "source": [
    "labelname1=\"5100A\"\n",
    "labelname2=\"W1\"\n",
    "dataname1=lag_5100A_Mrk6\n",
    "dataname2=lag_w1_Mrk6\n",
    "\n",
    "\n",
    "fig = plt.figure(figsize=(12,4))\n",
    "fig.subplots_adjust(hspace=0.2, wspace = 0.0)\n",
    "ax = fig.add_subplot(211)\n",
    "ax.errorbar(dataname1['t'],dataname1['flux'],dataname1['err'],color='red',label=labelname1)\n",
    "ax.errorbar(lag_Hb_Mrk6['t'],lag_Hb_Mrk6['flux'],lag_Hb_Mrk6['err'],color='blue',label='Hb')\n",
    "\n",
    "\n",
    "\n",
    "ax1 = fig.add_subplot(212,sharex=ax)\n",
    "ax1.errorbar(dataname2['t'],dataname2['flux'],dataname2['err'],color='black',label=labelname2)\n",
    "\n",
    "#ax.scatter(data_test_neo['mjd'],data_test_neo['w2mpro'],color='blue',label='W2')\n",
    "#ax.scatter(data_test_mep['mjd'],data_test_mep['w2mpro_ep'],color='blue',label='W2')\n",
    "handles, labels = ax.get_legend_handles_labels()\n",
    "by_label = OrderedDict(zip(labels, handles))\n",
    "ax.legend(by_label.values(), by_label.keys(),bbox_to_anchor=(1.0, 0.9),ncol=1,\n",
    "      loc=2,fontsize=10)\n",
    "\n",
    "handles, labels = ax1.get_legend_handles_labels()\n",
    "by_label = OrderedDict(zip(labels, handles))\n",
    "ax1.legend(by_label.values(), by_label.keys(),bbox_to_anchor=(1.0, 0.9),ncol=1,\n",
    "      loc=2,fontsize=10)\n",
    "\n",
    "\n",
    "#bottom, top = plt.ylim() \n",
    "#plt.ylim(top,bottom)\n",
    "\n",
    "plt.xlabel('mjd')\n",
    "plt.ylabel(r'$flux$')\n",
    "#"
   ]
  },
  {
   "cell_type": "code",
   "execution_count": 47,
   "metadata": {
    "ExecuteTime": {
     "end_time": "2021-09-17T08:16:59.487624Z",
     "start_time": "2021-09-17T08:16:59.481372Z"
    }
   },
   "outputs": [
    {
     "data": {
      "text/plain": [
       "(57752.19859999977, 57901.1483)"
      ]
     },
     "execution_count": 47,
     "metadata": {},
     "output_type": "execute_result"
    }
   ],
   "source": [
    "min(lag_5100A_Mrk6['t']),max(lag_5100A_Mrk6['t'])"
   ]
  },
  {
   "cell_type": "code",
   "execution_count": null,
   "metadata": {},
   "outputs": [],
   "source": []
  },
  {
   "cell_type": "code",
   "execution_count": null,
   "metadata": {},
   "outputs": [],
   "source": []
  },
  {
   "cell_type": "code",
   "execution_count": null,
   "metadata": {},
   "outputs": [],
   "source": []
  },
  {
   "cell_type": "code",
   "execution_count": null,
   "metadata": {},
   "outputs": [],
   "source": [
    "labelname1=\"5100A\"\n",
    "labelname2=\"W1\"\n",
    "dataname1=lag_5100A_Mrk6\n",
    "dataname2=lag_w1_Mrk6\n",
    "\n",
    "#rangemin,rangemax=58200,58600\n",
    "os.chdir(ccf_dir)\n",
    "run_ccf(labelname1,labelname2,dataname1,dataname2,rangemin,rangemax,ccf_datadir,lagrangel=0,lagrangeh=180)"
   ]
  },
  {
   "cell_type": "code",
   "execution_count": null,
   "metadata": {},
   "outputs": [],
   "source": []
  },
  {
   "cell_type": "markdown",
   "metadata": {},
   "source": [
    "## 5100A Hb"
   ]
  },
  {
   "cell_type": "code",
   "execution_count": 51,
   "metadata": {
    "ExecuteTime": {
     "end_time": "2021-09-17T08:21:41.548576Z",
     "start_time": "2021-09-17T08:21:41.164122Z"
    }
   },
   "outputs": [
    {
     "data": {
      "text/plain": [
       "Text(0, 0.5, '$flux$')"
      ]
     },
     "execution_count": 51,
     "metadata": {},
     "output_type": "execute_result"
    },
    {
     "data": {
      "image/png": "[encoded data removed]",
      "text/plain": [
       "<Figure size 864x288 with 2 Axes>"
      ]
     },
     "metadata": {
      "needs_background": "light"
     },
     "output_type": "display_data"
    }
   ],
   "source": [
    "labelname1=\"5100A\"\n",
    "labelname2=\"Hb\"\n",
    "dataname1=lag_5100A_Mrk6\n",
    "dataname2=lag_Hb_Mrk6\n",
    "\n",
    "\n",
    "fig = plt.figure(figsize=(12,4))\n",
    "fig.subplots_adjust(hspace=0.2, wspace = 0.0)\n",
    "ax = fig.add_subplot(211)\n",
    "ax.errorbar(dataname1['t'],dataname1['flux'],dataname1['err'],color='red',label=labelname1)\n",
    "#ax.errorbar(lag_Hb_Mrk6['t'],lag_Hb_Mrk6['flux'],lag_Hb_Mrk6['err'],color='blue',label='Hb')\n",
    "\n",
    "\n",
    "\n",
    "ax1 = fig.add_subplot(212,sharex=ax)\n",
    "ax1.errorbar(dataname2['t'],dataname2['flux'],dataname2['err'],color='black',label=labelname2)\n",
    "\n",
    "#ax.scatter(data_test_neo['mjd'],data_test_neo['w2mpro'],color='blue',label='W2')\n",
    "#ax.scatter(data_test_mep['mjd'],data_test_mep['w2mpro_ep'],color='blue',label='W2')\n",
    "handles, labels = ax.get_legend_handles_labels()\n",
    "by_label = OrderedDict(zip(labels, handles))\n",
    "ax.legend(by_label.values(), by_label.keys(),bbox_to_anchor=(1.0, 0.9),ncol=1,\n",
    "      loc=2,fontsize=10)\n",
    "\n",
    "handles, labels = ax1.get_legend_handles_labels()\n",
    "by_label = OrderedDict(zip(labels, handles))\n",
    "ax1.legend(by_label.values(), by_label.keys(),bbox_to_anchor=(1.0, 0.9),ncol=1,\n",
    "      loc=2,fontsize=10)\n",
    "\n",
    "\n",
    "#bottom, top = plt.ylim() \n",
    "#plt.ylim(top,bottom)\n",
    "\n",
    "plt.xlabel('mjd')\n",
    "plt.ylabel(r'$flux$')\n",
    "#"
   ]
  },
  {
   "cell_type": "code",
   "execution_count": null,
   "metadata": {},
   "outputs": [],
   "source": [
    "labelname1=\"5100A\"\n",
    "labelname2=\"Hb\"\n",
    "dataname1=lag_5100A_Mrk6\n",
    "dataname2=lag_Hb_Mrk6\n",
    "\n",
    "rangemin,rangemax=57750,58000\n",
    "os.chdir(ccf_dir)\n",
    "run_ccf(labelname1,labelname2,dataname1,dataname2,rangemin,rangemax,ccf_datadir,lagrangel=0,lagrangeh=30)"
   ]
  }
 ],
 "metadata": {
  "kernelspec": {
   "display_name": "Python 3 (ipykernel)",
   "language": "python",
   "name": "python3"
  },
  "language_info": {
   "codemirror_mode": {
    "name": "ipython",
    "version": 3
   },
   "file_extension": ".py",
   "mimetype": "text/x-python",
   "name": "python",
   "nbconvert_exporter": "python",
   "pygments_lexer": "ipython3",
   "version": "3.9.12"
  },
  "latex_envs": {
   "LaTeX_envs_menu_present": true,
   "autoclose": false,
   "autocomplete": true,
   "bibliofile": "biblio.bib",
   "cite_by": "apalike",
   "current_citInitial": 1,
   "eqLabelWithNumbers": true,
   "eqNumInitial": 1,
   "hotkeys": {
    "equation": "Ctrl-E",
    "itemize": "Ctrl-I"
   },
   "labels_anchors": false,
   "latex_user_defs": false,
   "report_style_numbering": false,
   "user_envs_cfg": false
  },
  "toc": {
   "base_numbering": 1,
   "nav_menu": {},
   "number_sections": true,
   "sideBar": true,
   "skip_h1_title": false,
   "title_cell": "Table of Contents",
   "title_sidebar": "Contents",
   "toc_cell": false,
   "toc_position": {
    "height": "444.719px",
    "left": "0px",
    "right": "1043px",
    "top": "160.281px",
    "width": "212px"
   },
   "toc_section_display": "block",
   "toc_window_display": true
  }
 },
 "nbformat": 4,
 "nbformat_minor": 2
}
