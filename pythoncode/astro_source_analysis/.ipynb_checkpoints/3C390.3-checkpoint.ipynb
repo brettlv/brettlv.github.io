{
 "cells": [
  {
   "cell_type": "code",
   "execution_count": 1,
   "metadata": {
    "ExecuteTime": {
     "end_time": "2021-09-13T13:08:01.959363Z",
     "start_time": "2021-09-13T13:07:57.689491Z"
    }
   },
   "outputs": [],
   "source": [
    "import pandas as pd\n",
    "import numpy as np\n",
    "from astropy.io import fits\n",
    "\n",
    "\n",
    "from astropy.visualization import hist\n",
    "from astroML.datasets import fetch_imaging_sample, fetch_sdss_S82standards\n",
    "from astroML.crossmatch import crossmatch_angular\n",
    "\n",
    "\n",
    "from datetime import datetime, date, timezone\n",
    "from datetime import datetime\n",
    "from datetime import timedelta\n",
    "from astropy.time import Time\n",
    "from astropy.io import ascii\n",
    "\n",
    "import time\n",
    "import os\n",
    "from astropy import config as _config\n",
    "from astroquery.irsa import Irsa   \n",
    "from astropy import units as u\n",
    "from astropy.coordinates import SkyCoord\n",
    "\n",
    "from matplotlib.pyplot import MultipleLocator\n",
    "import matplotlib.dates as mdates\n",
    "from matplotlib.transforms import Transform\n",
    "from matplotlib.ticker import (AutoLocator, AutoMinorLocator)\n",
    "from matplotlib.dates import DateFormatter\n",
    "#import matplotlib.cm as cm\n",
    "import matplotlib.colors as colors\n",
    "from collections import OrderedDict\n",
    "\n",
    "\n",
    "\n",
    "from astropy.io import fits \n",
    "import matplotlib as mpl\n",
    "import matplotlib.pyplot as plt\n",
    "\n",
    "from pylab import cm\n",
    "from astropy.table import Table\n",
    "from collections import OrderedDict\n",
    "from adjustText import adjust_text"
   ]
  },
  {
   "cell_type": "code",
   "execution_count": 3,
   "metadata": {
    "ExecuteTime": {
     "end_time": "2021-09-13T13:08:42.256239Z",
     "start_time": "2021-09-13T13:08:41.325248Z"
    }
   },
   "outputs": [
    {
     "data": {
      "image/png": "[encoded data removed]",
      "text/plain": [
       "<Figure size 864x288 with 1 Axes>"
      ]
     },
     "metadata": {
      "needs_background": "light"
     },
     "output_type": "display_data"
    }
   ],
   "source": [
    "fig = plt.figure(figsize=(12,4))\n",
    "fig.subplots_adjust(hspace=0.0, wspace = 0.0)\n",
    "ax = fig.add_subplot(111)\n",
    "\n",
    "save_name='3C390.3'\n",
    "\n",
    "ztf_hdl=fits.open('/Users/brettlv/Downloads/3C390.3/875201400024758lc.fits')\n",
    "ztf_data=ztf_hdl[1].data\n",
    "plt.scatter(ztf_data['mjd'],ztf_data['mag'])\n",
    "\n",
    "#ax.scatter(data_test_neo['mjd'],data_test_neo['w2mpro'],color='blue',label='W2')\n",
    "#ax.scatter(data_test_mep['mjd'],data_test_mep['w2mpro_ep'],color='blue',label='W2')\n",
    "handles, labels = ax.get_legend_handles_labels()\n",
    "by_label = OrderedDict(zip(labels, handles))\n",
    "ax.legend(by_label.values(), by_label.keys(),bbox_to_anchor=(1.0, 0.9),ncol=1,\n",
    "      loc=2,fontsize=10)\n",
    "\n",
    "bottom, top = plt.ylim() \n",
    "plt.ylim(top,bottom)\n",
    "\n",
    "plt.xlabel('mjd')\n",
    "plt.ylabel(r'$mag$')\n",
    "\n",
    "#ax.text(0.05, 0.9,name_test , horizontalalignment = 'center', verticalalignment = 'center',transform = ax.transAxes, fontsize = 10)\n",
    "save_lc_img_path='/Users/brettlv/Downloads/3C390.3/ztf_lc_w1_%s.png'%save_name\n",
    "\n",
    "plt.savefig(save_lc_img_path,dpi=400, transparent=False, bbox_inches='tight')\n"
   ]
  },
  {
   "cell_type": "code",
   "execution_count": null,
   "metadata": {},
   "outputs": [],
   "source": [
    "3C 390.3"
   ]
  },
  {
   "cell_type": "code",
   "execution_count": null,
   "metadata": {},
   "outputs": [],
   "source": []
  },
  {
   "cell_type": "code",
   "execution_count": 17,
   "metadata": {
    "ExecuteTime": {
     "end_time": "2021-09-14T02:39:29.736996Z",
     "start_time": "2021-09-14T02:39:29.731417Z"
    }
   },
   "outputs": [],
   "source": [
    "\n"
   ]
  },
  {
   "cell_type": "code",
   "execution_count": null,
   "metadata": {
    "ExecuteTime": {
     "end_time": "2021-09-14T02:42:37.385385Z",
     "start_time": "2021-09-14T02:42:37.369202Z"
    }
   },
   "outputs": [],
   "source": []
  },
  {
   "cell_type": "code",
   "execution_count": null,
   "metadata": {},
   "outputs": [],
   "source": []
  }
 ],
 "metadata": {
  "kernelspec": {
   "display_name": "Python 3",
   "language": "python",
   "name": "python3"
  },
  "language_info": {
   "codemirror_mode": {
    "name": "ipython",
    "version": 3
   },
   "file_extension": ".py",
   "mimetype": "text/x-python",
   "name": "python",
   "nbconvert_exporter": "python",
   "pygments_lexer": "ipython3",
   "version": "3.8.5"
  },
  "latex_envs": {
   "LaTeX_envs_menu_present": true,
   "autocomplete": true,
   "bibliofile": "biblio.bib",
   "cite_by": "apalike",
   "current_citInitial": 1,
   "eqLabelWithNumbers": true,
   "eqNumInitial": 1,
   "hotkeys": {
    "equation": "Ctrl-E",
    "itemize": "Ctrl-I"
   },
   "labels_anchors": false,
   "latex_user_defs": false,
   "report_style_numbering": false,
   "user_envs_cfg": false
  },
  "toc": {
   "nav_menu": {},
   "number_sections": true,
   "sideBar": true,
   "skip_h1_title": false,
   "toc_cell": false,
   "toc_position": {},
   "toc_section_display": "block",
   "toc_window_display": false
  }
 },
 "nbformat": 4,
 "nbformat_minor": 2
}
