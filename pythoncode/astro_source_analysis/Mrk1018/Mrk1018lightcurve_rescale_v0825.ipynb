{
 "cells": [
  {
   "cell_type": "code",
   "execution_count": 1,
   "metadata": {
    "ExecuteTime": {
     "end_time": "2020-12-03T10:20:27.450628Z",
     "start_time": "2020-12-03T10:20:22.057647Z"
    },
    "collapsed": false
   },
   "outputs": [
    {
     "name": "stderr",
     "output_type": "stream",
     "text": [
      "/Users/brettlv/anaconda3/lib/python3.6/site-packages/numba/core/errors.py:144: UserWarning: Insufficiently recent colorama version found. Numba requires colorama >= 0.3.9\n",
      "  warnings.warn(msg)\n"
     ]
    }
   ],
   "source": [
    "import pandas as pd\n",
    "import numpy as np\n",
    "import stingray\n",
    "import numpy as np\n",
    "from stingray import Lightcurve, Crossspectrum, AveragedCrossspectrum\n",
    "import datetime\n",
    "from astropy.time import Time\n",
    "\n",
    "import matplotlib.font_manager as font_manager\n",
    "%matplotlib inline\n",
    "# import some modules\n",
    "import numpy as np\n",
    "import matplotlib.pyplot as plt\n",
    "import stingray\n",
    "import matplotlib.ticker as ticker\n",
    "from datetime import timedelta, datetime\n",
    "import time\n",
    "import matplotlib as mpl\n",
    "\n",
    "# Setup a plot such that only the bottom spine is shown\n",
    "\n",
    "# choose style of plots, `seaborn-talk` produce nice big figures\n",
    "plt.style.use('seaborn-talk')"
   ]
  },
  {
   "cell_type": "code",
   "execution_count": 2,
   "metadata": {
    "ExecuteTime": {
     "end_time": "2020-12-03T10:21:09.232893Z",
     "start_time": "2020-12-03T10:21:09.222530Z"
    },
    "collapsed": true
   },
   "outputs": [],
   "source": [
    "def set_ax_tick(ax):\n",
    "    ax.xaxis.set_tick_params(which='major', size=10, width=2, direction='in', top='on',)\n",
    "    ax.xaxis.set_tick_params(which='minor', size=5, width=2, direction='in', top='on')\n",
    "    ax.yaxis.set_tick_params(which='major', size=10, width=2, direction='in', right='on')\n",
    "    ax.yaxis.set_tick_params(which='minor', size=5, width=2, direction='in', right='on')\n",
    "\n",
    "def set_ax_locator(ax,xma,xmi,yma,ymi):\n",
    "    ax.xaxis.set_major_locator(mpl.ticker.MultipleLocator(xma))\n",
    "    ax.xaxis.set_minor_locator(mpl.ticker.MultipleLocator(xmi))\n",
    "    ax.yaxis.set_major_locator(mpl.ticker.MultipleLocator(yma))\n",
    "    ax.yaxis.set_minor_locator(mpl.ticker.MultipleLocator(ymi))"
   ]
  },
  {
   "cell_type": "code",
   "execution_count": 3,
   "metadata": {
    "ExecuteTime": {
     "end_time": "2020-12-03T10:23:10.425903Z",
     "start_time": "2020-12-03T10:23:10.393360Z"
    },
    "collapsed": true
   },
   "outputs": [],
   "source": [
    "def get_namelist(df,name):\n",
    "    state=df[name]\n",
    "    stateori=[]\n",
    "    for i in state:\n",
    "        if i not in stateori:\n",
    "            stateori.append(i)\n",
    "    return stateori\n",
    "\n",
    "\n",
    "\n",
    "\n",
    "def convert_partial_year(numbers):\n",
    "    datetimes=[]\n",
    "    for number in numbers:\n",
    "        year = int(number)\n",
    "        d = timedelta(days=(number - year)*(365 + is_leap(year)))\n",
    "        day_one = datetime(year,1,1)\n",
    "        date = d + day_one\n",
    "        datetimes.append(date)\n",
    "    return datetimes\n",
    "\n",
    "def is_leap(year):\n",
    "    if not year%4 and  year%100 or not year%400:\n",
    "        return True\n",
    "    return False\n",
    "\n",
    "def convert_mjd(times):\n",
    "    timesmjd=[]\n",
    "    for i in times:\n",
    "        timesmjd.append(Time(i).mjd)\n",
    "    return timesmjd   \n",
    "\n",
    "    "
   ]
  },
  {
   "cell_type": "code",
   "execution_count": null,
   "metadata": {
    "ExecuteTime": {
     "end_time": "2020-08-26T22:41:01.221275Z",
     "start_time": "2020-08-26T22:41:01.216497Z"
    },
    "collapsed": true
   },
   "outputs": [],
   "source": [
    "marker1=['*','+','x','v','^','<','>','1','2','3','4','8','p','P','h','H','X','D','d','|','_']\n",
    "color1=['red','green','blue','cyan','lightblue','tan','gold','sandybrown','olivedrab','chartreuse','darkgreen','m','skyblue','violet','crimson','aqua','purple','magenta','yellow','lime','turquoise','lightcyan','teal','indigo']"
   ]
  },
  {
   "cell_type": "code",
   "execution_count": null,
   "metadata": {
    "collapsed": true
   },
   "outputs": [],
   "source": []
  },
  {
   "cell_type": "code",
   "execution_count": null,
   "metadata": {
    "collapsed": true
   },
   "outputs": [],
   "source": []
  },
  {
   "cell_type": "markdown",
   "metadata": {},
   "source": [
    "# load_radio_data"
   ]
  },
  {
   "cell_type": "code",
   "execution_count": 4,
   "metadata": {
    "ExecuteTime": {
     "end_time": "2020-12-03T10:23:18.177492Z",
     "start_time": "2020-12-03T10:23:17.482651Z"
    },
    "collapsed": false
   },
   "outputs": [],
   "source": [
    "radiomrk1018=pd.read_excel('/Users/brettlv/blog/IHEP_sync/paper/dataMrk1018/multi-band-data_v20201026/Mrk1018_VLA_flux.xlsx',sheet_name='Sheet1')\n",
    "radiomrk1018=radiomrk1018[radiomrk1018['rms_efficiency'].notnull()]\n",
    "#radiomrk1018.columns\n",
    "radiomrk1018['mjd_start']=convert_mjd(pd.to_datetime(radiomrk1018['Datestart']))\n",
    "radiomrk1018['mjd_stop']=convert_mjd(pd.to_datetime(radiomrk1018['Datestop']))\n",
    "radiomrk1018['meanmjd']=(radiomrk1018['mjd_stop']+radiomrk1018['mjd_start'])/2\n",
    "radiomrk1018['mjderr']=(radiomrk1018['mjd_stop']-radiomrk1018['mjd_start'])/2\n",
    "radiomrk1018['Ferr']=np.sqrt(radiomrk1018['Fint(mJy)']**2*radiomrk1018['rms_efficiency']**2+radiomrk1018['rms']**2)"
   ]
  },
  {
   "cell_type": "code",
   "execution_count": null,
   "metadata": {
    "ExecuteTime": {
     "end_time": "2020-10-27T21:53:26.687834Z",
     "start_time": "2020-10-27T21:53:26.592421Z"
    },
    "collapsed": false
   },
   "outputs": [],
   "source": []
  },
  {
   "cell_type": "code",
   "execution_count": null,
   "metadata": {
    "ExecuteTime": {
     "end_time": "2020-10-27T22:03:55.001685Z",
     "start_time": "2020-10-27T22:03:54.996741Z"
    },
    "collapsed": false
   },
   "outputs": [],
   "source": [
    "radiomrk1018.columns"
   ]
  },
  {
   "cell_type": "markdown",
   "metadata": {},
   "source": [
    "# def scale data"
   ]
  },
  {
   "cell_type": "code",
   "execution_count": 5,
   "metadata": {
    "ExecuteTime": {
     "end_time": "2020-12-03T10:23:22.495317Z",
     "start_time": "2020-12-03T10:23:22.431578Z"
    },
    "collapsed": false
   },
   "outputs": [],
   "source": [
    "import numpy as np\n",
    "from astropy.io import ascii\n",
    "import matplotlib.pyplot as plt\n",
    "import matplotlib.colors as colors\n",
    "import matplotlib.cm as cmx\n",
    "from scipy.optimize import least_squares, curve_fit\n",
    "from scipy.stats import f\n",
    "import emcee\n",
    "import corner\n",
    "import os\n",
    "from timeit import default_timer as timer\n",
    "\n",
    "def calc_power_law(freq,S0,alpha):\n",
    "    S = S0 * (freq) ** alpha\n",
    "    return S\n",
    "\n",
    "def alpha_calc(data):    \n",
    "    #Get lightcurve values\n",
    "    freqs = data['frequency']\n",
    "    flux = data['Fint(mJy)']\n",
    "    flux_errs = data['Ferr']\n",
    "    \n",
    "    #Use the scipy curve_fit algorithm to calculate the best fit value\n",
    "    popt, pcov = curve_fit(calc_power_law, freqs, flux ,sigma=flux_errs, p0=(50,-0.61),absolute_sigma=True)\n",
    "    \n",
    "    alpha = popt[1] #Best-fit spectral index\n",
    "    alpha_err = np.sqrt(np.diag(pcov))[1] #Uncertainty in alpha\n",
    "    \n",
    "    return alpha, alpha_err\n",
    "\n",
    "def scale_data(data, alpha, alpha_err, ref_freq=5.0):\n",
    "    #calculate a scaling factor for the flux density and uncertainty\n",
    "    alpha=data['rescale_alpha'] #specify one  \n",
    "    alpha_err=data['rescale_alpha_err']\n",
    "    f_scale = (ref_freq/data['frequency'])**alpha\n",
    "    rms_scale = np.abs(f_scale*np.log(ref_freq/data['frequency'])*alpha_err)\n",
    "    \n",
    "    \n",
    "    #scale the flux and uncertainty - don't forget to add errors in quadrature\n",
    "    scaled_flux = data['Fint(mJy)'] * f_scale\n",
    "    scaled_rms = np.abs(scaled_flux) * np.sqrt((data['rms']/data['Fint(mJy)'])**2 + (rms_scale/f_scale)**2)\n",
    "    \n",
    "    #Add two new columns to the data\n",
    "    data['scaled_flux'] = scaled_flux\n",
    "    data['scaled_rms'] = scaled_rms    \n",
    "    return data"
   ]
  },
  {
   "cell_type": "code",
   "execution_count": null,
   "metadata": {
    "ExecuteTime": {
     "end_time": "2020-10-27T22:11:22.844505Z",
     "start_time": "2020-10-27T22:11:22.785012Z"
    },
    "collapsed": false
   },
   "outputs": [],
   "source": [
    "radiomrk1018"
   ]
  },
  {
   "cell_type": "code",
   "execution_count": null,
   "metadata": {
    "ExecuteTime": {
     "end_time": "2020-10-27T22:11:24.884619Z",
     "start_time": "2020-10-27T22:11:24.876334Z"
    },
    "collapsed": false
   },
   "outputs": [],
   "source": [
    "def get_namelist(df,name):\n",
    "    state=df[name]\n",
    "    stateori=[]\n",
    "    for i in state:\n",
    "        if i not in stateori:\n",
    "            stateori.append(i)\n",
    "    return stateori\n",
    "\n",
    "parax='meanmjd'\n",
    "paraxerr='mjderr'\n",
    "paray='Fint(mJy)'\n",
    "parayerr='Ferr'\n",
    "parafreq='frequency'\n",
    "paraband='band'\n",
    "filename=radiomrk1018\n",
    "radio_freqlist=get_namelist(filename,parafreq)\n",
    "radio_bandlist=get_namelist(filename,paraband)"
   ]
  },
  {
   "cell_type": "code",
   "execution_count": null,
   "metadata": {
    "ExecuteTime": {
     "end_time": "2020-10-27T22:11:25.915879Z",
     "start_time": "2020-10-27T22:11:25.457094Z"
    },
    "collapsed": false
   },
   "outputs": [],
   "source": [
    "namelist=radio_freqlist\n",
    "paralist=parafreq\n",
    "marker1=['*','+','x','v','^','<','>','1','2','3','4','8','p','P','h','H','X','D','d','|','_']\n",
    "color1=['red','green','blue','cyan','lightblue','tan','gold','sandybrown','olivedrab','chartreuse','darkgreen','m','skyblue','violet','crimson','aqua','purple','magenta','yellow','lime','turquoise','lightcyan','teal','indigo']\n",
    "\n",
    "fig = plt.figure(figsize=(12, 6))\n",
    "# Add axes object to our figure that takes up entire figure\n",
    "#ax = fig.add_axes([0, 0, 1, 1])\n",
    "ax3=fig.add_subplot(1,1,1)\n",
    "for i,m,c, in zip(namelist,marker1[:len(namelist)],color1[:len(namelist)]):\n",
    "    x=filename[filename[paralist]==i][parax]\n",
    "    xerr=filename[filename[paralist]==i][paraxerr]\n",
    "    y=filename[filename[paralist]==i][paray]\n",
    "    yerr=filename[filename[paralist]==i][parayerr]\n",
    "    ax3.errorbar(x,y,xerr=xerr,yerr=yerr,marker=m,color=c,label=i,fmt='o',elinewidth=2)\n",
    "\n",
    "ax3.legend(loc=(1.0,0.1))    \n",
    "set_ax_tick(ax3)\n",
    "set_ax_locator(ax3,1000,2000,1.0,0.2)\n",
    "ax3.set_xlabel('MJD')\n",
    "ax3.set_ylabel('Jy')\n",
    "\n",
    "# Edit the font, font size, and axes width\n",
    "mpl.rcParams['font.family'] = 'Times New Roman'\n",
    "plt.rcParams['font.size'] = 18\n",
    "plt.rcParams['axes.linewidth'] = 2    "
   ]
  },
  {
   "cell_type": "code",
   "execution_count": null,
   "metadata": {
    "collapsed": true
   },
   "outputs": [],
   "source": []
  },
  {
   "cell_type": "code",
   "execution_count": null,
   "metadata": {
    "ExecuteTime": {
     "end_time": "2020-10-27T21:52:43.949789Z",
     "start_time": "2020-10-27T21:52:43.920533Z"
    },
    "collapsed": false
   },
   "outputs": [],
   "source": [
    "sel_data2 = radiomrk1018[radiomrk1018['project'] == 'AU0020']\n",
    "alpha, alpha_err = alpha_calc(sel_data2)\n",
    "print(sel_data2[['meanmjd','frequency','Fint(mJy)','project']])\n",
    "print(\"alpha = %.2f +/- %.2f\"%(alpha, alpha_err))"
   ]
  },
  {
   "cell_type": "code",
   "execution_count": null,
   "metadata": {
    "ExecuteTime": {
     "end_time": "2020-10-27T21:56:56.195200Z",
     "start_time": "2020-10-27T21:56:56.160423Z"
    },
    "collapsed": false
   },
   "outputs": [],
   "source": [
    "sel_data2 = radiomrk1018[radiomrk1018['meanmjd'] >50000]\n",
    "sel_data2 = sel_data2[sel_data2['meanmjd'] <52000]\n",
    "alpha, alpha_err = alpha_calc(sel_data2)\n",
    "print(sel_data2[['meanmjd','frequency','Fint(mJy)','project']])\n",
    "print(\"alpha = %.2f +/- %.2f\"%(alpha, alpha_err))"
   ]
  },
  {
   "cell_type": "code",
   "execution_count": null,
   "metadata": {
    "ExecuteTime": {
     "end_time": "2020-10-27T21:56:47.569287Z",
     "start_time": "2020-10-27T21:56:47.533367Z"
    },
    "collapsed": false
   },
   "outputs": [],
   "source": [
    "sel_data2 = radiomrk1018[radiomrk1018['meanmjd'] >50900]\n",
    "sel_data2 = sel_data2[sel_data2['meanmjd'] <53000]\n",
    "alpha, alpha_err = alpha_calc(sel_data2)\n",
    "print(sel_data2[['meanmjd','frequency','Fint(mJy)','project']])\n",
    "print(\"alpha = %.2f +/- %.2f\"%(alpha, alpha_err))"
   ]
  },
  {
   "cell_type": "code",
   "execution_count": null,
   "metadata": {
    "ExecuteTime": {
     "end_time": "2020-10-27T21:57:08.635148Z",
     "start_time": "2020-10-27T21:57:08.599859Z"
    },
    "collapsed": false
   },
   "outputs": [],
   "source": [
    "sel_data2 = radiomrk1018[radiomrk1018['project'] == '16A-444']\n",
    "sel_data2 = sel_data2[sel_data2['band'] == 'C']\n",
    "alpha, alpha_err = alpha_calc(sel_data2)\n",
    "print(sel_data2[['meanmjd','frequency','Fint(mJy)','project']])\n",
    "print(\"alpha = %.2f +/- %.2f\"%(alpha, alpha_err))"
   ]
  },
  {
   "cell_type": "code",
   "execution_count": null,
   "metadata": {
    "ExecuteTime": {
     "end_time": "2020-10-27T21:57:13.279946Z",
     "start_time": "2020-10-27T21:57:13.242151Z"
    },
    "collapsed": false
   },
   "outputs": [],
   "source": [
    "sel_data2 = radiomrk1018[radiomrk1018['project'] == '16A-444']\n",
    "sel_data2"
   ]
  },
  {
   "cell_type": "code",
   "execution_count": null,
   "metadata": {
    "ExecuteTime": {
     "end_time": "2020-10-27T21:58:13.236080Z",
     "start_time": "2020-10-27T21:58:13.199528Z"
    },
    "collapsed": false
   },
   "outputs": [],
   "source": [
    "sel_data2 = radiomrk1018[radiomrk1018['project'] == '16A-444']\n",
    "sel_data2 = sel_data2.iloc[[2,3]]\n",
    "alpha, alpha_err = alpha_calc(sel_data2)\n",
    "print(sel_data2[['meanmjd','frequency','Fint(mJy)']])\n",
    "print(\"alpha = %.2f +/- %.2f\"%(alpha, alpha_err))"
   ]
  },
  {
   "cell_type": "code",
   "execution_count": null,
   "metadata": {
    "ExecuteTime": {
     "end_time": "2020-10-27T21:58:16.769068Z",
     "start_time": "2020-10-27T21:58:16.701600Z"
    },
    "collapsed": false
   },
   "outputs": [],
   "source": [
    "sel_data2 = radiomrk1018[radiomrk1018['project'] == '16A-444']\n",
    "sel_data2 = sel_data2.iloc[[2,4]]\n",
    "alpha, alpha_err = alpha_calc(sel_data2)\n",
    "print(sel_data2[['meanmjd','frequency','Fint(mJy)']])\n",
    "print(\"alpha = %.2f +/- %.2f\"%(alpha, alpha_err))"
   ]
  },
  {
   "cell_type": "code",
   "execution_count": null,
   "metadata": {
    "ExecuteTime": {
     "end_time": "2020-10-27T21:58:25.901439Z",
     "start_time": "2020-10-27T21:58:25.850066Z"
    },
    "collapsed": false
   },
   "outputs": [],
   "source": [
    "sel_data2 = radiomrk1018[radiomrk1018['project'] == '16A-444']\n",
    "sel_data2 = sel_data2.iloc[[2,3,4]]\n",
    "alpha, alpha_err = alpha_calc(sel_data2)\n",
    "print(sel_data2[['meanmjd','frequency','Fint(mJy)']])\n",
    "print(\"alpha = %.2f +/- %.2f\"%(alpha, alpha_err))"
   ]
  },
  {
   "cell_type": "code",
   "execution_count": null,
   "metadata": {
    "ExecuteTime": {
     "end_time": "2020-10-27T21:58:28.821271Z",
     "start_time": "2020-10-27T21:58:28.758590Z"
    },
    "collapsed": false
   },
   "outputs": [],
   "source": [
    "sel_data2 = radiomrk1018[radiomrk1018['project'] == '16B-084']\n",
    "sel_data2 = sel_data2.iloc[[3,7]]\n",
    "alpha, alpha_err = alpha_calc(sel_data2)\n",
    "print(sel_data2[['meanmjd','frequency','Fint(mJy)']])\n",
    "print(\"alpha = %.2f +/- %.2f\"%(alpha, alpha_err))"
   ]
  },
  {
   "cell_type": "code",
   "execution_count": null,
   "metadata": {
    "ExecuteTime": {
     "end_time": "2020-10-27T21:58:56.688561Z",
     "start_time": "2020-10-27T21:58:56.598319Z"
    },
    "collapsed": false
   },
   "outputs": [],
   "source": [
    "sel_data2 = radiomrk1018[radiomrk1018['project'] == '16B-084']\n",
    "sel_data2 = sel_data2[sel_data2['band'] == 'X']\n",
    "sel_data2 = sel_data2[sel_data2['meanmjd'] == 57719.0 ]\n",
    "\n",
    "alpha, alpha_err = alpha_calc(sel_data2)\n",
    "print(sel_data2[['meanmjd','frequency','Fint(mJy)']])\n",
    "print(\"alpha = %.2f +/- %.2f\"%(alpha, alpha_err))"
   ]
  },
  {
   "cell_type": "code",
   "execution_count": null,
   "metadata": {
    "ExecuteTime": {
     "end_time": "2020-10-27T21:59:01.130114Z",
     "start_time": "2020-10-27T21:59:01.039945Z"
    },
    "collapsed": false
   },
   "outputs": [],
   "source": [
    "sel_data2 = radiomrk1018[radiomrk1018['project'] == '16B-084']\n",
    "sel_data2 = sel_data2[sel_data2['band'] == 'X']\n",
    "sel_data2 = sel_data2[sel_data2['meanmjd'] == 57731.0]\n",
    "\n",
    "alpha, alpha_err = alpha_calc(sel_data2)\n",
    "print(sel_data2[['meanmjd','frequency','Fint(mJy)']])\n",
    "print(\"alpha = %.2f +/- %.2f\"%(alpha, alpha_err))"
   ]
  },
  {
   "cell_type": "code",
   "execution_count": null,
   "metadata": {
    "ExecuteTime": {
     "end_time": "2020-10-27T21:59:57.071433Z",
     "start_time": "2020-10-27T21:59:57.036418Z"
    },
    "collapsed": false
   },
   "outputs": [],
   "source": [
    "sel_data2 = radiomrk1018[radiomrk1018['project'] == '16B-084']\n",
    "sel_data2 = sel_data2.iloc[[0,7]]\n",
    "alpha, alpha_err = alpha_calc(sel_data2)\n",
    "print(sel_data2[['meanmjd','frequency','Fint(mJy)']])\n",
    "print(\"alpha = %.2f +/- %.2f\"%(alpha, alpha_err))"
   ]
  },
  {
   "cell_type": "code",
   "execution_count": null,
   "metadata": {
    "ExecuteTime": {
     "end_time": "2020-10-27T21:59:58.443594Z",
     "start_time": "2020-10-27T21:59:58.384478Z"
    },
    "collapsed": false
   },
   "outputs": [],
   "source": [
    "sel_data2 = radiomrk1018[radiomrk1018['project'] == '16B-084']\n",
    "sel_data2 = sel_data2.iloc[[3,7]]\n",
    "alpha, alpha_err = alpha_calc(sel_data2)\n",
    "print(sel_data2[['meanmjd','frequency','Fint(mJy)']])\n",
    "print(\"alpha = %.2f +/- %.2f\"%(alpha, alpha_err))"
   ]
  },
  {
   "cell_type": "code",
   "execution_count": null,
   "metadata": {
    "ExecuteTime": {
     "end_time": "2020-10-27T22:00:15.065799Z",
     "start_time": "2020-10-27T22:00:14.993254Z"
    },
    "collapsed": false
   },
   "outputs": [],
   "source": [
    "sel_data2 = radiomrk1018[radiomrk1018['project'] == '16B-084']\n",
    "sel_data2 = sel_data2[sel_data2['band'] == 'C']\n",
    "alpha, alpha_err = alpha_calc(sel_data2)\n",
    "print(sel_data2[['meanmjd','frequency','Fint(mJy)']])\n",
    "print(\"alpha = %.2f +/- %.2f\"%(alpha, alpha_err))"
   ]
  },
  {
   "cell_type": "code",
   "execution_count": null,
   "metadata": {
    "ExecuteTime": {
     "end_time": "2020-10-27T22:00:27.365267Z",
     "start_time": "2020-10-27T22:00:27.329035Z"
    },
    "collapsed": false
   },
   "outputs": [],
   "source": [
    "sel_data2 = radiomrk1018[radiomrk1018['meanmjd'] >=57768]\n",
    "sel_data2 = sel_data2[sel_data2['meanmjd'] <=58087]\n",
    "sel_data2 = sel_data2.iloc[[1,2]]\n",
    "alpha, alpha_err = alpha_calc(sel_data2)\n",
    "print(sel_data2[['meanmjd','frequency','Fint(mJy)','project']])\n",
    "print(\"alpha = %.2f +/- %.2f\"%(alpha, alpha_err))"
   ]
  },
  {
   "cell_type": "code",
   "execution_count": null,
   "metadata": {
    "ExecuteTime": {
     "end_time": "2020-10-27T22:00:31.957738Z",
     "start_time": "2020-10-27T22:00:31.915973Z"
    },
    "collapsed": false
   },
   "outputs": [],
   "source": [
    "sel_data2 = radiomrk1018[radiomrk1018['meanmjd'] >=58087]\n",
    "sel_data2 = sel_data2[sel_data2['meanmjd'] <=58472]\n",
    "sel_data2 = sel_data2.iloc[[0,2]]\n",
    "alpha, alpha_err = alpha_calc(sel_data2)\n",
    "print(sel_data2[['meanmjd','frequency','Fint(mJy)','project']])\n",
    "print(\"alpha = %.2f +/- %.2f\"%(alpha, alpha_err))"
   ]
  },
  {
   "cell_type": "code",
   "execution_count": null,
   "metadata": {
    "collapsed": true
   },
   "outputs": [],
   "source": []
  },
  {
   "cell_type": "code",
   "execution_count": null,
   "metadata": {
    "collapsed": true
   },
   "outputs": [],
   "source": []
  },
  {
   "cell_type": "code",
   "execution_count": null,
   "metadata": {
    "ExecuteTime": {
     "end_time": "2020-10-27T22:00:38.568182Z",
     "start_time": "2020-10-27T22:00:38.562190Z"
    },
    "collapsed": false
   },
   "outputs": [],
   "source": [
    "radiomrk1018.columns"
   ]
  },
  {
   "cell_type": "markdown",
   "metadata": {
    "ExecuteTime": {
     "end_time": "2020-08-26T23:18:12.540504Z",
     "start_time": "2020-08-26T23:18:12.537679Z"
    }
   },
   "source": [
    "# export data"
   ]
  },
  {
   "cell_type": "code",
   "execution_count": 6,
   "metadata": {
    "ExecuteTime": {
     "end_time": "2020-12-03T10:23:55.784999Z",
     "start_time": "2020-12-03T10:23:55.770179Z"
    },
    "collapsed": true
   },
   "outputs": [],
   "source": [
    "radiomrk1018['C_alpha']=-1*radiomrk1018['rescale_alpha']\n",
    "radiomrk1018.to_csv('/Users/brettlv/blog/IHEP_sync/paper/dataMrk1018/multi-band-data_v20201026/Mrk1018radio_data.csv')"
   ]
  },
  {
   "cell_type": "markdown",
   "metadata": {
    "ExecuteTime": {
     "end_time": "2020-08-27T15:35:28.445635Z",
     "start_time": "2020-08-27T15:35:28.345731Z"
    }
   },
   "source": [
    "radiomrk1018"
   ]
  },
  {
   "cell_type": "code",
   "execution_count": 7,
   "metadata": {
    "ExecuteTime": {
     "end_time": "2020-12-03T10:24:12.800334Z",
     "start_time": "2020-12-03T10:24:12.651831Z"
    },
    "collapsed": false
   },
   "outputs": [
    {
     "name": "stderr",
     "output_type": "stream",
     "text": [
      "/Users/brettlv/anaconda3/lib/python3.6/site-packages/ipykernel/__main__.py:44: SettingWithCopyWarning: \n",
      "A value is trying to be set on a copy of a slice from a DataFrame.\n",
      "Try using .loc[row_indexer,col_indexer] = value instead\n",
      "\n",
      "See the caveats in the documentation: http://pandas.pydata.org/pandas-docs/stable/indexing.html#indexing-view-versus-copy\n",
      "/Users/brettlv/anaconda3/lib/python3.6/site-packages/ipykernel/__main__.py:45: SettingWithCopyWarning: \n",
      "A value is trying to be set on a copy of a slice from a DataFrame.\n",
      "Try using .loc[row_indexer,col_indexer] = value instead\n",
      "\n",
      "See the caveats in the documentation: http://pandas.pydata.org/pandas-docs/stable/indexing.html#indexing-view-versus-copy\n"
     ]
    }
   ],
   "source": [
    "scaleddata_5GHz=radiomrk1018[radiomrk1018['rescale_5GHz'] == 1]\n",
    "scaleddata=scale_data(scaleddata_5GHz,alpha=0, alpha_err=0.1, ref_freq=5.0)\n",
    "scaleddata.to_csv('/Users/brettlv/blog/IHEP_sync/paper/dataMrk1018/multi-band-data_v20201026/Mrk1018radiolc_rescale.csv')"
   ]
  },
  {
   "cell_type": "code",
   "execution_count": 8,
   "metadata": {
    "ExecuteTime": {
     "end_time": "2020-12-03T10:24:19.308256Z",
     "start_time": "2020-12-03T10:24:19.230004Z"
    },
    "collapsed": false
   },
   "outputs": [
    {
     "data": {
      "text/html": [
       "<div>\n",
       "<style scoped>\n",
       "    .dataframe tbody tr th:only-of-type {\n",
       "        vertical-align: middle;\n",
       "    }\n",
       "\n",
       "    .dataframe tbody tr th {\n",
       "        vertical-align: top;\n",
       "    }\n",
       "\n",
       "    .dataframe thead th {\n",
       "        text-align: right;\n",
       "    }\n",
       "</style>\n",
       "<table border=\"1\" class=\"dataframe\">\n",
       "  <thead>\n",
       "    <tr style=\"text-align: right;\">\n",
       "      <th></th>\n",
       "      <th>Datestart</th>\n",
       "      <th>Datestop</th>\n",
       "      <th>project</th>\n",
       "      <th>project_sure</th>\n",
       "      <th>band</th>\n",
       "      <th>frequency</th>\n",
       "      <th>f_GHz</th>\n",
       "      <th>GHz_label</th>\n",
       "      <th>peak(mJy/beam)</th>\n",
       "      <th>alpha</th>\n",
       "      <th>...</th>\n",
       "      <th>paper</th>\n",
       "      <th>Note</th>\n",
       "      <th>mjd_start</th>\n",
       "      <th>mjd_stop</th>\n",
       "      <th>meanmjd</th>\n",
       "      <th>mjderr</th>\n",
       "      <th>Ferr</th>\n",
       "      <th>C_alpha</th>\n",
       "      <th>scaled_flux</th>\n",
       "      <th>scaled_rms</th>\n",
       "    </tr>\n",
       "  </thead>\n",
       "  <tbody>\n",
       "    <tr>\n",
       "      <th>3</th>\n",
       "      <td>1984-11-28</td>\n",
       "      <td>1984-11-28</td>\n",
       "      <td>AU0020</td>\n",
       "      <td>1.0</td>\n",
       "      <td>C</td>\n",
       "      <td>4.86</td>\n",
       "      <td>4.8GHz</td>\n",
       "      <td>5GHz</td>\n",
       "      <td>NaN</td>\n",
       "      <td>NaN</td>\n",
       "      <td>...</td>\n",
       "      <td>NaN</td>\n",
       "      <td>NaN</td>\n",
       "      <td>46032.0</td>\n",
       "      <td>46032.0</td>\n",
       "      <td>46032.0</td>\n",
       "      <td>0.0</td>\n",
       "      <td>0.139679</td>\n",
       "      <td>0.52</td>\n",
       "      <td>2.256430</td>\n",
       "      <td>0.078955</td>\n",
       "    </tr>\n",
       "    <tr>\n",
       "      <th>4</th>\n",
       "      <td>1988-04-10</td>\n",
       "      <td>1988-04-10</td>\n",
       "      <td>AB0476</td>\n",
       "      <td>1.0</td>\n",
       "      <td>C</td>\n",
       "      <td>4.86</td>\n",
       "      <td>4.8GHz</td>\n",
       "      <td>5GHz</td>\n",
       "      <td>NaN</td>\n",
       "      <td>NaN</td>\n",
       "      <td>...</td>\n",
       "      <td>NaN</td>\n",
       "      <td>NaN</td>\n",
       "      <td>47261.0</td>\n",
       "      <td>47261.0</td>\n",
       "      <td>47261.0</td>\n",
       "      <td>0.0</td>\n",
       "      <td>0.230695</td>\n",
       "      <td>0.30</td>\n",
       "      <td>1.893796</td>\n",
       "      <td>0.208252</td>\n",
       "    </tr>\n",
       "    <tr>\n",
       "      <th>5</th>\n",
       "      <td>1989-06-15</td>\n",
       "      <td>1989-06-15</td>\n",
       "      <td>AB0540A</td>\n",
       "      <td>1.0</td>\n",
       "      <td>C</td>\n",
       "      <td>4.86</td>\n",
       "      <td>4.8GHz</td>\n",
       "      <td>5GHz</td>\n",
       "      <td>NaN</td>\n",
       "      <td>NaN</td>\n",
       "      <td>...</td>\n",
       "      <td>NaN</td>\n",
       "      <td>NaN</td>\n",
       "      <td>47692.0</td>\n",
       "      <td>47692.0</td>\n",
       "      <td>47692.0</td>\n",
       "      <td>0.0</td>\n",
       "      <td>0.158937</td>\n",
       "      <td>0.30</td>\n",
       "      <td>2.597773</td>\n",
       "      <td>0.089386</td>\n",
       "    </tr>\n",
       "    <tr>\n",
       "      <th>6</th>\n",
       "      <td>1989-07-25</td>\n",
       "      <td>1989-07-25</td>\n",
       "      <td>AB0540B</td>\n",
       "      <td>1.0</td>\n",
       "      <td>C</td>\n",
       "      <td>4.86</td>\n",
       "      <td>4.8GHz</td>\n",
       "      <td>5GHz</td>\n",
       "      <td>NaN</td>\n",
       "      <td>NaN</td>\n",
       "      <td>...</td>\n",
       "      <td>NaN</td>\n",
       "      <td>NaN</td>\n",
       "      <td>47732.0</td>\n",
       "      <td>47732.0</td>\n",
       "      <td>47732.0</td>\n",
       "      <td>0.0</td>\n",
       "      <td>0.173897</td>\n",
       "      <td>0.30</td>\n",
       "      <td>2.290403</td>\n",
       "      <td>0.128978</td>\n",
       "    </tr>\n",
       "    <tr>\n",
       "      <th>8</th>\n",
       "      <td>1993-12-20</td>\n",
       "      <td>1993-12-20</td>\n",
       "      <td>AC0308</td>\n",
       "      <td>1.0</td>\n",
       "      <td>L</td>\n",
       "      <td>1.40</td>\n",
       "      <td>1.4GHz</td>\n",
       "      <td>1.4GHz</td>\n",
       "      <td>NaN</td>\n",
       "      <td>NaN</td>\n",
       "      <td>...</td>\n",
       "      <td>2002AJ....124..675C</td>\n",
       "      <td>Condon+2002</td>\n",
       "      <td>49341.0</td>\n",
       "      <td>49341.0</td>\n",
       "      <td>49341.0</td>\n",
       "      <td>0.0</td>\n",
       "      <td>0.542310</td>\n",
       "      <td>0.30</td>\n",
       "      <td>2.866795</td>\n",
       "      <td>0.449120</td>\n",
       "    </tr>\n",
       "    <tr>\n",
       "      <th>10</th>\n",
       "      <td>1995-11-10</td>\n",
       "      <td>1995-11-10</td>\n",
       "      <td>AB0628</td>\n",
       "      <td>1.0</td>\n",
       "      <td>L</td>\n",
       "      <td>1.40</td>\n",
       "      <td>1.4GHz</td>\n",
       "      <td>1.4GHz</td>\n",
       "      <td>NaN</td>\n",
       "      <td>NaN</td>\n",
       "      <td>...</td>\n",
       "      <td>1998AJ....115.1693C</td>\n",
       "      <td>Condon+1998</td>\n",
       "      <td>50031.0</td>\n",
       "      <td>50031.0</td>\n",
       "      <td>50031.0</td>\n",
       "      <td>0.0</td>\n",
       "      <td>0.451774</td>\n",
       "      <td>0.30</td>\n",
       "      <td>2.866795</td>\n",
       "      <td>0.399721</td>\n",
       "    </tr>\n",
       "    <tr>\n",
       "      <th>11</th>\n",
       "      <td>1998-06-06</td>\n",
       "      <td>1998-06-06</td>\n",
       "      <td>AB0878</td>\n",
       "      <td>1.0</td>\n",
       "      <td>X</td>\n",
       "      <td>8.46</td>\n",
       "      <td>8.4GHz</td>\n",
       "      <td>8.4GHz</td>\n",
       "      <td>NaN</td>\n",
       "      <td>NaN</td>\n",
       "      <td>...</td>\n",
       "      <td>NaN</td>\n",
       "      <td>NaN</td>\n",
       "      <td>50970.0</td>\n",
       "      <td>50970.0</td>\n",
       "      <td>50970.0</td>\n",
       "      <td>0.0</td>\n",
       "      <td>0.165385</td>\n",
       "      <td>0.30</td>\n",
       "      <td>2.892125</td>\n",
       "      <td>0.177187</td>\n",
       "    </tr>\n",
       "    <tr>\n",
       "      <th>12</th>\n",
       "      <td>2002-08-04</td>\n",
       "      <td>2002-08-04</td>\n",
       "      <td>AB0950</td>\n",
       "      <td>1.0</td>\n",
       "      <td>L</td>\n",
       "      <td>1.40</td>\n",
       "      <td>1.4GHz</td>\n",
       "      <td>1.4GHz</td>\n",
       "      <td>3.340</td>\n",
       "      <td>NaN</td>\n",
       "      <td>...</td>\n",
       "      <td>2003yCat.8071....0B</td>\n",
       "      <td>Becker+2003</td>\n",
       "      <td>52490.0</td>\n",
       "      <td>52490.0</td>\n",
       "      <td>52490.0</td>\n",
       "      <td>0.0</td>\n",
       "      <td>0.252571</td>\n",
       "      <td>0.30</td>\n",
       "      <td>2.832667</td>\n",
       "      <td>0.304756</td>\n",
       "    </tr>\n",
       "    <tr>\n",
       "      <th>14</th>\n",
       "      <td>2008-12-23</td>\n",
       "      <td>2009-04-03</td>\n",
       "      <td>AR685</td>\n",
       "      <td>1.0</td>\n",
       "      <td>L</td>\n",
       "      <td>1.40</td>\n",
       "      <td>1.4GHz</td>\n",
       "      <td>1.4GHz</td>\n",
       "      <td>2.450</td>\n",
       "      <td>NaN</td>\n",
       "      <td>...</td>\n",
       "      <td>2011AJ....142....3H</td>\n",
       "      <td>Hodge+2011</td>\n",
       "      <td>54823.0</td>\n",
       "      <td>54924.0</td>\n",
       "      <td>54873.5</td>\n",
       "      <td>50.5</td>\n",
       "      <td>0.192523</td>\n",
       "      <td>0.30</td>\n",
       "      <td>2.518685</td>\n",
       "      <td>0.259229</td>\n",
       "    </tr>\n",
       "    <tr>\n",
       "      <th>17</th>\n",
       "      <td>2009-04-05</td>\n",
       "      <td>2009-04-05</td>\n",
       "      <td>AB1314</td>\n",
       "      <td>1.0</td>\n",
       "      <td>L</td>\n",
       "      <td>1.40</td>\n",
       "      <td>1.4GHz</td>\n",
       "      <td>1.4GHz</td>\n",
       "      <td>2.960</td>\n",
       "      <td>NaN</td>\n",
       "      <td>...</td>\n",
       "      <td>2015ApJ…801..26H</td>\n",
       "      <td>Helfand+2015</td>\n",
       "      <td>54926.0</td>\n",
       "      <td>54926.0</td>\n",
       "      <td>54926.0</td>\n",
       "      <td>0.0</td>\n",
       "      <td>0.196023</td>\n",
       "      <td>0.30</td>\n",
       "      <td>2.293436</td>\n",
       "      <td>0.243519</td>\n",
       "    </tr>\n",
       "    <tr>\n",
       "      <th>19</th>\n",
       "      <td>2013-09-07</td>\n",
       "      <td>2013-09-07</td>\n",
       "      <td>13B-272</td>\n",
       "      <td>1.0</td>\n",
       "      <td>L</td>\n",
       "      <td>1.40</td>\n",
       "      <td>1.4GHz</td>\n",
       "      <td>1.4GHz</td>\n",
       "      <td>3.942</td>\n",
       "      <td>-1.138</td>\n",
       "      <td>...</td>\n",
       "      <td>2016MNRAS.460.4433H</td>\n",
       "      <td>Heywood+2016</td>\n",
       "      <td>56542.0</td>\n",
       "      <td>56542.0</td>\n",
       "      <td>56542.0</td>\n",
       "      <td>0.0</td>\n",
       "      <td>0.307663</td>\n",
       "      <td>0.30</td>\n",
       "      <td>2.627896</td>\n",
       "      <td>0.313776</td>\n",
       "    </tr>\n",
       "    <tr>\n",
       "      <th>25</th>\n",
       "      <td>2016-04-03</td>\n",
       "      <td>2016-04-03</td>\n",
       "      <td>16A-444</td>\n",
       "      <td>NaN</td>\n",
       "      <td>C</td>\n",
       "      <td>5.00</td>\n",
       "      <td>5GHz</td>\n",
       "      <td>5GHz</td>\n",
       "      <td>NaN</td>\n",
       "      <td>NaN</td>\n",
       "      <td>...</td>\n",
       "      <td>NaN</td>\n",
       "      <td>NaN</td>\n",
       "      <td>57481.0</td>\n",
       "      <td>57481.0</td>\n",
       "      <td>57481.0</td>\n",
       "      <td>0.0</td>\n",
       "      <td>0.128390</td>\n",
       "      <td>0.33</td>\n",
       "      <td>2.560000</td>\n",
       "      <td>0.010000</td>\n",
       "    </tr>\n",
       "    <tr>\n",
       "      <th>32</th>\n",
       "      <td>2016-11-27</td>\n",
       "      <td>2016-11-27</td>\n",
       "      <td>16B-084</td>\n",
       "      <td>NaN</td>\n",
       "      <td>X</td>\n",
       "      <td>10.00</td>\n",
       "      <td>10GHz</td>\n",
       "      <td>10GHz</td>\n",
       "      <td>NaN</td>\n",
       "      <td>NaN</td>\n",
       "      <td>...</td>\n",
       "      <td>NaN</td>\n",
       "      <td>NaN</td>\n",
       "      <td>57719.0</td>\n",
       "      <td>57719.0</td>\n",
       "      <td>57719.0</td>\n",
       "      <td>0.0</td>\n",
       "      <td>0.093920</td>\n",
       "      <td>0.25</td>\n",
       "      <td>2.116789</td>\n",
       "      <td>0.151000</td>\n",
       "    </tr>\n",
       "    <tr>\n",
       "      <th>35</th>\n",
       "      <td>2016-12-09</td>\n",
       "      <td>2016-12-09</td>\n",
       "      <td>16B-084</td>\n",
       "      <td>NaN</td>\n",
       "      <td>X</td>\n",
       "      <td>10.00</td>\n",
       "      <td>10GHz</td>\n",
       "      <td>10GHz</td>\n",
       "      <td>NaN</td>\n",
       "      <td>NaN</td>\n",
       "      <td>...</td>\n",
       "      <td>NaN</td>\n",
       "      <td>NaN</td>\n",
       "      <td>57731.0</td>\n",
       "      <td>57731.0</td>\n",
       "      <td>57731.0</td>\n",
       "      <td>0.0</td>\n",
       "      <td>0.098725</td>\n",
       "      <td>0.25</td>\n",
       "      <td>2.340360</td>\n",
       "      <td>0.162500</td>\n",
       "    </tr>\n",
       "    <tr>\n",
       "      <th>39</th>\n",
       "      <td>2017-01-15</td>\n",
       "      <td>2017-01-15</td>\n",
       "      <td>16B-084</td>\n",
       "      <td>NaN</td>\n",
       "      <td>C</td>\n",
       "      <td>5.00</td>\n",
       "      <td>5GHz</td>\n",
       "      <td>5GHz</td>\n",
       "      <td>NaN</td>\n",
       "      <td>NaN</td>\n",
       "      <td>...</td>\n",
       "      <td>NaN</td>\n",
       "      <td>NaN</td>\n",
       "      <td>57768.0</td>\n",
       "      <td>57768.0</td>\n",
       "      <td>57768.0</td>\n",
       "      <td>0.0</td>\n",
       "      <td>0.104581</td>\n",
       "      <td>-0.00</td>\n",
       "      <td>2.070000</td>\n",
       "      <td>0.015000</td>\n",
       "    </tr>\n",
       "    <tr>\n",
       "      <th>40</th>\n",
       "      <td>2017-11-30</td>\n",
       "      <td>2017-11-30</td>\n",
       "      <td>VLASS1.1</td>\n",
       "      <td>1.0</td>\n",
       "      <td>L</td>\n",
       "      <td>3.00</td>\n",
       "      <td>3GHz</td>\n",
       "      <td>3GHz</td>\n",
       "      <td>NaN</td>\n",
       "      <td>NaN</td>\n",
       "      <td>...</td>\n",
       "      <td>NaN</td>\n",
       "      <td>NaN</td>\n",
       "      <td>58087.0</td>\n",
       "      <td>58087.0</td>\n",
       "      <td>58087.0</td>\n",
       "      <td>0.0</td>\n",
       "      <td>0.362112</td>\n",
       "      <td>0.30</td>\n",
       "      <td>1.973210</td>\n",
       "      <td>0.124130</td>\n",
       "    </tr>\n",
       "    <tr>\n",
       "      <th>42</th>\n",
       "      <td>2018-12-20</td>\n",
       "      <td>2018-12-20</td>\n",
       "      <td>18B-245</td>\n",
       "      <td>NaN</td>\n",
       "      <td>K</td>\n",
       "      <td>20.00</td>\n",
       "      <td>20GHz</td>\n",
       "      <td>20GHz</td>\n",
       "      <td>NaN</td>\n",
       "      <td>NaN</td>\n",
       "      <td>...</td>\n",
       "      <td>NaN</td>\n",
       "      <td>NaN</td>\n",
       "      <td>58472.0</td>\n",
       "      <td>58472.0</td>\n",
       "      <td>58472.0</td>\n",
       "      <td>0.0</td>\n",
       "      <td>0.141281</td>\n",
       "      <td>0.03</td>\n",
       "      <td>2.825082</td>\n",
       "      <td>0.200210</td>\n",
       "    </tr>\n",
       "  </tbody>\n",
       "</table>\n",
       "<p>17 rows × 29 columns</p>\n",
       "</div>"
      ],
      "text/plain": [
       "    Datestart   Datestop   project  project_sure band  frequency   f_GHz  \\\n",
       "3  1984-11-28 1984-11-28    AU0020           1.0    C       4.86  4.8GHz   \n",
       "4  1988-04-10 1988-04-10    AB0476           1.0    C       4.86  4.8GHz   \n",
       "5  1989-06-15 1989-06-15   AB0540A           1.0    C       4.86  4.8GHz   \n",
       "6  1989-07-25 1989-07-25   AB0540B           1.0    C       4.86  4.8GHz   \n",
       "8  1993-12-20 1993-12-20    AC0308           1.0    L       1.40  1.4GHz   \n",
       "10 1995-11-10 1995-11-10    AB0628           1.0    L       1.40  1.4GHz   \n",
       "11 1998-06-06 1998-06-06    AB0878           1.0    X       8.46  8.4GHz   \n",
       "12 2002-08-04 2002-08-04    AB0950           1.0    L       1.40  1.4GHz   \n",
       "14 2008-12-23 2009-04-03     AR685           1.0    L       1.40  1.4GHz   \n",
       "17 2009-04-05 2009-04-05    AB1314           1.0    L       1.40  1.4GHz   \n",
       "19 2013-09-07 2013-09-07   13B-272           1.0    L       1.40  1.4GHz   \n",
       "25 2016-04-03 2016-04-03   16A-444           NaN    C       5.00    5GHz   \n",
       "32 2016-11-27 2016-11-27   16B-084           NaN    X      10.00   10GHz   \n",
       "35 2016-12-09 2016-12-09   16B-084           NaN    X      10.00   10GHz   \n",
       "39 2017-01-15 2017-01-15   16B-084           NaN    C       5.00    5GHz   \n",
       "40 2017-11-30 2017-11-30  VLASS1.1           1.0    L       3.00    3GHz   \n",
       "42 2018-12-20 2018-12-20   18B-245           NaN    K      20.00   20GHz   \n",
       "\n",
       "   GHz_label  peak(mJy/beam)  alpha  ...                paper          Note  \\\n",
       "3       5GHz             NaN    NaN  ...                  NaN           NaN   \n",
       "4       5GHz             NaN    NaN  ...                  NaN           NaN   \n",
       "5       5GHz             NaN    NaN  ...                  NaN           NaN   \n",
       "6       5GHz             NaN    NaN  ...                  NaN           NaN   \n",
       "8     1.4GHz             NaN    NaN  ...  2002AJ....124..675C   Condon+2002   \n",
       "10    1.4GHz             NaN    NaN  ...  1998AJ....115.1693C   Condon+1998   \n",
       "11    8.4GHz             NaN    NaN  ...                  NaN           NaN   \n",
       "12    1.4GHz           3.340    NaN  ...  2003yCat.8071....0B   Becker+2003   \n",
       "14    1.4GHz           2.450    NaN  ...  2011AJ....142....3H    Hodge+2011   \n",
       "17    1.4GHz           2.960    NaN  ...     2015ApJ…801..26H  Helfand+2015   \n",
       "19    1.4GHz           3.942 -1.138  ...  2016MNRAS.460.4433H  Heywood+2016   \n",
       "25      5GHz             NaN    NaN  ...                  NaN           NaN   \n",
       "32     10GHz             NaN    NaN  ...                  NaN           NaN   \n",
       "35     10GHz             NaN    NaN  ...                  NaN           NaN   \n",
       "39      5GHz             NaN    NaN  ...                  NaN           NaN   \n",
       "40      3GHz             NaN    NaN  ...                  NaN           NaN   \n",
       "42     20GHz             NaN    NaN  ...                  NaN           NaN   \n",
       "\n",
       "    mjd_start  mjd_stop  meanmjd  mjderr      Ferr C_alpha scaled_flux  \\\n",
       "3     46032.0   46032.0  46032.0     0.0  0.139679    0.52    2.256430   \n",
       "4     47261.0   47261.0  47261.0     0.0  0.230695    0.30    1.893796   \n",
       "5     47692.0   47692.0  47692.0     0.0  0.158937    0.30    2.597773   \n",
       "6     47732.0   47732.0  47732.0     0.0  0.173897    0.30    2.290403   \n",
       "8     49341.0   49341.0  49341.0     0.0  0.542310    0.30    2.866795   \n",
       "10    50031.0   50031.0  50031.0     0.0  0.451774    0.30    2.866795   \n",
       "11    50970.0   50970.0  50970.0     0.0  0.165385    0.30    2.892125   \n",
       "12    52490.0   52490.0  52490.0     0.0  0.252571    0.30    2.832667   \n",
       "14    54823.0   54924.0  54873.5    50.5  0.192523    0.30    2.518685   \n",
       "17    54926.0   54926.0  54926.0     0.0  0.196023    0.30    2.293436   \n",
       "19    56542.0   56542.0  56542.0     0.0  0.307663    0.30    2.627896   \n",
       "25    57481.0   57481.0  57481.0     0.0  0.128390    0.33    2.560000   \n",
       "32    57719.0   57719.0  57719.0     0.0  0.093920    0.25    2.116789   \n",
       "35    57731.0   57731.0  57731.0     0.0  0.098725    0.25    2.340360   \n",
       "39    57768.0   57768.0  57768.0     0.0  0.104581   -0.00    2.070000   \n",
       "40    58087.0   58087.0  58087.0     0.0  0.362112    0.30    1.973210   \n",
       "42    58472.0   58472.0  58472.0     0.0  0.141281    0.03    2.825082   \n",
       "\n",
       "   scaled_rms  \n",
       "3    0.078955  \n",
       "4    0.208252  \n",
       "5    0.089386  \n",
       "6    0.128978  \n",
       "8    0.449120  \n",
       "10   0.399721  \n",
       "11   0.177187  \n",
       "12   0.304756  \n",
       "14   0.259229  \n",
       "17   0.243519  \n",
       "19   0.313776  \n",
       "25   0.010000  \n",
       "32   0.151000  \n",
       "35   0.162500  \n",
       "39   0.015000  \n",
       "40   0.124130  \n",
       "42   0.200210  \n",
       "\n",
       "[17 rows x 29 columns]"
      ]
     },
     "execution_count": 8,
     "metadata": {},
     "output_type": "execute_result"
    }
   ],
   "source": [
    "scaleddata"
   ]
  },
  {
   "cell_type": "code",
   "execution_count": null,
   "metadata": {
    "ExecuteTime": {
     "end_time": "2020-08-25T16:26:44.187833Z",
     "start_time": "2020-08-25T16:26:44.178418Z"
    },
    "collapsed": true
   },
   "outputs": [],
   "source": [
    "#radiomrk1018_export=(radiomrk1018.loc[:, ['project','frequency','meanmjd', 'mjderr','band','Fint(mJy)','Ferr']].sort_values('meanmjd'))\n",
    "#radiomrk1018_export=radiomrk1018_export.reset_index(drop=True)\n",
    "#radiomrk1018_export.to_csv('/Users/brettlv/blog/IHEP_sync/paper/dataMrk1018/Mrk1018radio.csv')"
   ]
  },
  {
   "cell_type": "code",
   "execution_count": null,
   "metadata": {
    "collapsed": true
   },
   "outputs": [],
   "source": []
  },
  {
   "cell_type": "code",
   "execution_count": null,
   "metadata": {
    "collapsed": true
   },
   "outputs": [],
   "source": [
    "\n",
    "\n",
    "filename=radiomrk1018\n",
    "parax='meanepoch'\n",
    "paraxerr='terr'\n",
    "parax1='Datestart'\n",
    "parax2='Datestop'\n",
    "paray='Fint(mJy)'\n",
    "parayerr='rms'\n",
    "paralist='band'\n",
    "\n",
    "t1=np.array(pd.to_datetime(filename[parax1]),dtype='datetime64[D]')\n",
    "t2=np.array(pd.to_datetime(filename[parax2]),dtype='datetime64[D]')\n",
    "\n",
    "tmean=t1+(t2-t1)/2\n",
    "terr=(t2-t1)/2\n",
    "\n",
    "filename['meanepoch']=tmean\n",
    "filename['terr']=terr\n",
    "namelist=['L', 'C', 'X', 'K',]\n",
    "#print(namelist)\n",
    "namelistall=get_namelist(filename,paralist)\n",
    "print(len(namelistall))\n",
    "print(namelistall)"
   ]
  }
 ],
 "metadata": {
  "kernelspec": {
   "display_name": "Python 3",
   "language": "python",
   "name": "python3"
  },
  "language_info": {
   "codemirror_mode": {
    "name": "ipython",
    "version": 3
   },
   "file_extension": ".py",
   "mimetype": "text/x-python",
   "name": "python",
   "nbconvert_exporter": "python",
   "pygments_lexer": "ipython3",
   "version": "3.6.0"
  },
  "latex_envs": {
   "LaTeX_envs_menu_present": true,
   "autocomplete": true,
   "bibliofile": "biblio.bib",
   "cite_by": "apalike",
   "current_citInitial": 1,
   "eqLabelWithNumbers": true,
   "eqNumInitial": 1,
   "hotkeys": {
    "equation": "Ctrl-E",
    "itemize": "Ctrl-I"
   },
   "labels_anchors": false,
   "latex_user_defs": false,
   "report_style_numbering": false,
   "user_envs_cfg": false
  },
  "toc": {
   "nav_menu": {},
   "number_sections": true,
   "sideBar": true,
   "skip_h1_title": false,
   "toc_cell": false,
   "toc_position": {
    "height": "502px",
    "left": "0px",
    "right": "1033px",
    "top": "112px",
    "width": "212px"
   },
   "toc_section_display": "block",
   "toc_window_display": true
  }
 },
 "nbformat": 4,
 "nbformat_minor": 2
}
