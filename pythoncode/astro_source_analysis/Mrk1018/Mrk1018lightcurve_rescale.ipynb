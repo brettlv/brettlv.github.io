{
 "cells": [
  {
   "cell_type": "code",
   "execution_count": 1,
   "metadata": {
    "ExecuteTime": {
     "end_time": "2020-08-17T16:42:42.894079Z",
     "start_time": "2020-08-17T16:42:42.312923Z"
    },
    "collapsed": true
   },
   "outputs": [],
   "source": [
    "%matplotlib inline"
   ]
  },
  {
   "cell_type": "code",
   "execution_count": 2,
   "metadata": {
    "ExecuteTime": {
     "end_time": "2020-08-17T16:42:46.345716Z",
     "start_time": "2020-08-17T16:42:43.497654Z"
    },
    "collapsed": false
   },
   "outputs": [
    {
     "name": "stderr",
     "output_type": "stream",
     "text": [
      "/Users/brettlv/anaconda3/lib/python3.6/site-packages/numba/core/errors.py:144: UserWarning: Insufficiently recent colorama version found. Numba requires colorama >= 0.3.9\n",
      "  warnings.warn(msg)\n"
     ]
    }
   ],
   "source": [
    "import pandas as pd\n",
    "import numpy as np\n",
    "import stingray\n",
    "import numpy as np\n",
    "from stingray import Lightcurve, Crossspectrum, AveragedCrossspectrum\n",
    "import datetime\n",
    "from astropy.time import Time\n",
    "import matplotlib.pyplot as plt\n",
    "import matplotlib.font_manager as font_manager\n",
    "#%matplotlib inline\n",
    "#font_prop = font_manager.FontProperties(size=16)"
   ]
  },
  {
   "cell_type": "code",
   "execution_count": 3,
   "metadata": {
    "ExecuteTime": {
     "end_time": "2020-08-17T16:42:46.352859Z",
     "start_time": "2020-08-17T16:42:46.347424Z"
    },
    "collapsed": true
   },
   "outputs": [],
   "source": [
    "# import some modules\n",
    "import numpy as np\n",
    "import matplotlib.pyplot as plt\n",
    "import stingray\n",
    "\n",
    "# choose style of plots, `seaborn-talk` produce nice big figures\n",
    "plt.style.use('seaborn-talk')\n",
    "\n"
   ]
  },
  {
   "cell_type": "code",
   "execution_count": 4,
   "metadata": {
    "ExecuteTime": {
     "end_time": "2020-08-17T16:42:46.362525Z",
     "start_time": "2020-08-17T16:42:46.354959Z"
    },
    "collapsed": true
   },
   "outputs": [],
   "source": [
    "import numpy as np\n",
    "import matplotlib.pyplot as plt\n",
    "import matplotlib.ticker as ticker\n",
    "\n",
    "\n",
    "# Setup a plot such that only the bottom spine is shown\n",
    "def setup(ax):\n",
    "    #ax.spines['right'].set_color('none')\n",
    "    #ax.spines['left'].set_color('none')\n",
    "    #ax.yaxis.set_major_locator(ticker.NullLocator())\n",
    "    #ax.yaxis.set_major_locator(ticker.LogLocator(base=10.0, numticks=15))\n",
    "    \n",
    "    #ax.spines['top'].set_color('none')\n",
    "    ax.xaxis.set_ticks_position('bottom')\n",
    "    ax.tick_params(which='major', width=1.00)\n",
    "    ax.tick_params(which='major', length=5)\n",
    "    ax.tick_params(which='minor', width=0.75)\n",
    "    ax.tick_params(which='minor', length=2.5)\n",
    "    #ax.patch.set_alpha(0.9)"
   ]
  },
  {
   "cell_type": "code",
   "execution_count": 5,
   "metadata": {
    "ExecuteTime": {
     "end_time": "2020-08-17T16:42:46.843149Z",
     "start_time": "2020-08-17T16:42:46.838498Z"
    },
    "collapsed": true
   },
   "outputs": [],
   "source": [
    "marker1=['*','+','x','v','^','<','>','1','2','3','4','8','p','P','h','H','X','D','d','|','_']\n",
    "color1=['red','green','blue','cyan','lightblue','tan','gold','sandybrown','olivedrab','chartreuse','darkgreen','m','skyblue','violet','crimson','aqua','purple','magenta','yellow','lime','turquoise','lightcyan','teal','indigo']"
   ]
  },
  {
   "cell_type": "code",
   "execution_count": 6,
   "metadata": {
    "ExecuteTime": {
     "end_time": "2020-08-17T16:42:47.813734Z",
     "start_time": "2020-08-17T16:42:47.809347Z"
    },
    "collapsed": true
   },
   "outputs": [],
   "source": [
    "def get_namelist(df,name):\n",
    "    state=df[name]\n",
    "    stateori=[]\n",
    "    for i in state:\n",
    "        if i not in stateori:\n",
    "            stateori.append(i)\n",
    "    return stateori"
   ]
  },
  {
   "cell_type": "code",
   "execution_count": null,
   "metadata": {
    "collapsed": true
   },
   "outputs": [],
   "source": []
  },
  {
   "cell_type": "markdown",
   "metadata": {},
   "source": [
    "# time convert"
   ]
  },
  {
   "cell_type": "code",
   "execution_count": 12,
   "metadata": {
    "ExecuteTime": {
     "end_time": "2020-08-18T09:33:59.531917Z",
     "start_time": "2020-08-18T09:33:59.513263Z"
    },
    "collapsed": true
   },
   "outputs": [],
   "source": [
    "from datetime import timedelta, datetime\n",
    "import time\n",
    "\n",
    "def convert_partial_year(numbers):\n",
    "    datetimes=[]\n",
    "    for number in numbers:\n",
    "        year = int(number)\n",
    "        d = timedelta(days=(number - year)*(365 + is_leap(year)))\n",
    "        day_one = datetime(year,1,1)\n",
    "        date = d + day_one\n",
    "        datetimes.append(date)\n",
    "    return datetimes\n",
    "\n",
    "def is_leap(year):\n",
    "    if not year%4 and  year%100 or not year%400:\n",
    "        return True\n",
    "    return False\n",
    "\n",
    "def convert_mjd(times):\n",
    "    timesmjd=[]\n",
    "    for i in times:\n",
    "        timesmjd.append(Time(i).mjd)\n",
    "    return timesmjd   \n",
    "\n",
    "    "
   ]
  },
  {
   "cell_type": "code",
   "execution_count": null,
   "metadata": {
    "collapsed": true
   },
   "outputs": [],
   "source": []
  },
  {
   "cell_type": "markdown",
   "metadata": {},
   "source": [
    "# load radio data"
   ]
  },
  {
   "cell_type": "code",
   "execution_count": 65,
   "metadata": {
    "ExecuteTime": {
     "end_time": "2020-08-19T16:34:41.194638Z",
     "start_time": "2020-08-19T16:34:40.555876Z"
    },
    "collapsed": false
   },
   "outputs": [
    {
     "name": "stdout",
     "output_type": "stream",
     "text": [
      "4\n",
      "['L', 'C', 'X', 'K']\n"
     ]
    }
   ],
   "source": [
    "radiomrk1018=pd.read_excel('/Users/brettlv/blog/IHEP_sync/paper/dataMrk1018/excel—information/vla_archival_survey.xlsx',sheet_name='Sheet2')\n",
    "radiomrk1018=radiomrk1018[radiomrk1018['frequency'].notnull()]\n",
    "\n",
    "filename=radiomrk1018\n",
    "parax='meanepoch'\n",
    "paraxerr='terr'\n",
    "parax1='Datestart'\n",
    "parax2='Datestop'\n",
    "paray='Fint(mJy)'\n",
    "parayerr='rms'\n",
    "paralist='band'\n",
    "\n",
    "t1=np.array(pd.to_datetime(filename[parax1]),dtype='datetime64[D]')\n",
    "t2=np.array(pd.to_datetime(filename[parax2]),dtype='datetime64[D]')\n",
    "\n",
    "tmean=t1+(t2-t1)/2\n",
    "terr=(t2-t1)/2\n",
    "\n",
    "filename['meanepoch']=tmean\n",
    "filename['terr']=terr\n",
    "namelist=['L', 'C', 'X', 'K',]\n",
    "#print(namelist)\n",
    "namelistall=get_namelist(filename,paralist)\n",
    "print(len(namelistall))\n",
    "print(namelistall)"
   ]
  },
  {
   "cell_type": "markdown",
   "metadata": {
    "ExecuteTime": {
     "end_time": "2019-09-26T10:17:32.315443Z",
     "start_time": "2019-09-26T10:17:32.274540Z"
    }
   },
   "source": [
    "filename"
   ]
  },
  {
   "cell_type": "markdown",
   "metadata": {},
   "source": [
    "## radio lightcurve"
   ]
  },
  {
   "cell_type": "code",
   "execution_count": 66,
   "metadata": {
    "ExecuteTime": {
     "end_time": "2020-08-19T16:34:44.027665Z",
     "start_time": "2020-08-19T16:34:43.599956Z"
    },
    "collapsed": false
   },
   "outputs": [
    {
     "name": "stdout",
     "output_type": "stream",
     "text": [
      "['L', 'C', 'X', 'K']\n"
     ]
    },
    {
     "data": {
      "image/png": "[encoded data removed]",
      "text/plain": [
       "<Figure size 720x432 with 1 Axes>"
      ]
     },
     "metadata": {},
     "output_type": "display_data"
    }
   ],
   "source": [
    "plt.figure(figsize=(10,6))\n",
    "namelist=['L', 'C','X','K']\n",
    "print(namelist)\n",
    "for i,m,c, in zip(namelist,marker1[:len(namelist)],color1[:len(namelist)]):\n",
    "    x=filename[filename[paralist]==i][parax]\n",
    "    xerr=filename[filename[paralist]==i][paraxerr]\n",
    "    y=filename[filename[paralist]==i][paray]\n",
    "    yerr=filename[filename[paralist]==i][parayerr]\n",
    "    plt.errorbar(x,y,xerr=xerr,yerr=yerr,marker=m,color=c,label=i,fmt='o',elinewidth=2)\n",
    "    #print(x,i)\n",
    "    \n",
    "plt.xlabel('time')\n",
    "plt.ylabel('Flux/mJy')\n",
    "plt.title('Radio band Flux')\n",
    "#plt.legend()\n",
    "#plt.xlim(1980,2019)\n",
    "plt.legend(loc='center', bbox_to_anchor=(1.2, 0.5),ncol=1)\n",
    "plt.grid()\n",
    "plt.show()"
   ]
  },
  {
   "cell_type": "markdown",
   "metadata": {},
   "source": [
    "# rescale radio flux"
   ]
  },
  {
   "cell_type": "code",
   "execution_count": 67,
   "metadata": {
    "ExecuteTime": {
     "end_time": "2020-08-19T16:34:55.478427Z",
     "start_time": "2020-08-19T16:34:55.416384Z"
    },
    "collapsed": true
   },
   "outputs": [],
   "source": [
    "import numpy as np\n",
    "from astropy.io import ascii\n",
    "import matplotlib.pyplot as plt\n",
    "import matplotlib.colors as colors\n",
    "import matplotlib.cm as cmx\n",
    "from scipy.optimize import least_squares, curve_fit\n",
    "from scipy.stats import f\n",
    "import emcee\n",
    "import corner\n",
    "import os\n",
    "from timeit import default_timer as timer\n",
    "\n",
    "def calc_power_law(freq,S0,alpha):\n",
    "    S = S0 * (freq) ** alpha\n",
    "    return S\n",
    "\n",
    "def alpha_calc(data):    \n",
    "    #Get lightcurve values\n",
    "    freqs = data['frequency']\n",
    "    flux = data['Fint(mJy)']\n",
    "    flux_errs = np.sqrt(data['Fint(mJy)']**2*0.05**2+data['rms']**2)\n",
    "    \n",
    "    #Use the scipy curve_fit algorithm to calculate the best fit value\n",
    "    popt, pcov = curve_fit(calc_power_law, freqs, flux ,sigma=flux_errs, p0=(50,-0.61),absolute_sigma=True)\n",
    "    \n",
    "    alpha = popt[1] #Best-fit spectral index\n",
    "    alpha_err = np.sqrt(np.diag(pcov))[1] #Uncertainty in alpha\n",
    "    \n",
    "    return alpha, alpha_err\n",
    "\n",
    "def scale_data(data, alpha=0, alpha_err, ref_freq=5.0):\n",
    "    #calculate a scaling factor for the flux density and uncertainty\n",
    "    alpha=data['rescale_alpha'] #specify one    \n",
    "    f_scale = (ref_freq/data['frequency'])**alpha\n",
    "    rms_scale = np.abs(f_scale*np.log(ref_freq/data['frequency'])*alpha_err)\n",
    "    \n",
    "    \n",
    "    #scale the flux and uncertainty - don't forget to add errors in quadrature\n",
    "    scaled_flux = data['Fint(mJy)'] * f_scale\n",
    "    scaled_rms = np.abs(scaled_flux) * np.sqrt((data['rms']/data['Fint(mJy)'])**2 + (rms_scale/f_scale)**2)\n",
    "    \n",
    "    #Add two new columns to the data\n",
    "    data['scaled_flux'] = scaled_flux\n",
    "    data['scaled_rms'] = scaled_rms    \n",
    "    return data"
   ]
  },
  {
   "cell_type": "code",
   "execution_count": 68,
   "metadata": {
    "ExecuteTime": {
     "end_time": "2020-08-19T16:34:58.121964Z",
     "start_time": "2020-08-19T16:34:58.091461Z"
    },
    "collapsed": false
   },
   "outputs": [
    {
     "name": "stdout",
     "output_type": "stream",
     "text": [
      "alpha = -0.52 +/- 0.07\n"
     ]
    }
   ],
   "source": [
    "sel_data2 = radiomrk1018[radiomrk1018['project'] == 'AU0020']\n",
    "alpha, alpha_err = alpha_calc(sel_data2)\n",
    "print(\"alpha = %.2f +/- %.2f\"%(alpha, alpha_err))"
   ]
  },
  {
   "cell_type": "code",
   "execution_count": 47,
   "metadata": {
    "ExecuteTime": {
     "end_time": "2020-08-19T15:08:34.481064Z",
     "start_time": "2020-08-19T15:08:34.435699Z"
    },
    "collapsed": false
   },
   "outputs": [
    {
     "name": "stdout",
     "output_type": "stream",
     "text": [
      "alpha = -0.33 +/- 0.21\n"
     ]
    }
   ],
   "source": [
    "sel_data2 = radiomrk1018[radiomrk1018['project'] == '16A-444']\n",
    "sel_data2 = sel_data2[sel_data2['band'] == 'C']\n",
    "alpha, alpha_err = alpha_calc(sel_data2)\n",
    "print(\"alpha = %.2f +/- %.2f\"%(alpha, alpha_err))"
   ]
  },
  {
   "cell_type": "code",
   "execution_count": 50,
   "metadata": {
    "ExecuteTime": {
     "end_time": "2020-08-19T15:38:34.879391Z",
     "start_time": "2020-08-19T15:38:34.873891Z"
    },
    "collapsed": true
   },
   "outputs": [],
   "source": []
  },
  {
   "cell_type": "code",
   "execution_count": 61,
   "metadata": {
    "ExecuteTime": {
     "end_time": "2020-08-19T15:41:19.439036Z",
     "start_time": "2020-08-19T15:41:19.402094Z"
    },
    "collapsed": false
   },
   "outputs": [
    {
     "name": "stdout",
     "output_type": "stream",
     "text": [
      "alpha = -0.25 +/- 0.10\n"
     ]
    }
   ],
   "source": [
    "sel_data2 = radiomrk1018[radiomrk1018['project'] == '16A-444']\n",
    "sel_data2=sel_data2.iloc[[2,3]]\n",
    "alpha, alpha_err = alpha_calc(sel_data2)\n",
    "print(\"alpha = %.2f +/- %.2f\"%(alpha, alpha_err))"
   ]
  },
  {
   "cell_type": "code",
   "execution_count": 63,
   "metadata": {
    "ExecuteTime": {
     "end_time": "2020-08-19T15:42:36.310459Z",
     "start_time": "2020-08-19T15:42:36.247286Z"
    },
    "collapsed": false
   },
   "outputs": [
    {
     "name": "stdout",
     "output_type": "stream",
     "text": [
      "alpha = -0.03 +/- 0.05\n"
     ]
    }
   ],
   "source": [
    "sel_data2 = radiomrk1018[radiomrk1018['project'] == '16A-444']\n",
    "sel_data2=sel_data2.iloc[[2,4]]\n",
    "alpha, alpha_err = alpha_calc(sel_data2)\n",
    "print(\"alpha = %.2f +/- %.2f\"%(alpha, alpha_err))"
   ]
  },
  {
   "cell_type": "code",
   "execution_count": 64,
   "metadata": {
    "ExecuteTime": {
     "end_time": "2020-08-19T15:42:38.830942Z",
     "start_time": "2020-08-19T15:42:38.793622Z"
    },
    "collapsed": false
   },
   "outputs": [
    {
     "data": {
      "text/html": [
       "<div>\n",
       "<style scoped>\n",
       "    .dataframe tbody tr th:only-of-type {\n",
       "        vertical-align: middle;\n",
       "    }\n",
       "\n",
       "    .dataframe tbody tr th {\n",
       "        vertical-align: top;\n",
       "    }\n",
       "\n",
       "    .dataframe thead th {\n",
       "        text-align: right;\n",
       "    }\n",
       "</style>\n",
       "<table border=\"1\" class=\"dataframe\">\n",
       "  <thead>\n",
       "    <tr style=\"text-align: right;\">\n",
       "      <th></th>\n",
       "      <th>Datestart</th>\n",
       "      <th>Datestop</th>\n",
       "      <th>project</th>\n",
       "      <th>mean epoch year</th>\n",
       "      <th>mean(mjd)</th>\n",
       "      <th>terr(mjd)</th>\n",
       "      <th>band</th>\n",
       "      <th>frequency</th>\n",
       "      <th>Unnamed: 8</th>\n",
       "      <th>peak(mJy/beam)</th>\n",
       "      <th>...</th>\n",
       "      <th>err</th>\n",
       "      <th>rms</th>\n",
       "      <th>rescale_alpha</th>\n",
       "      <th>rms_efficiency</th>\n",
       "      <th>unit</th>\n",
       "      <th>proposal</th>\n",
       "      <th>paper</th>\n",
       "      <th>Unnamed: 19</th>\n",
       "      <th>meanepoch</th>\n",
       "      <th>terr</th>\n",
       "    </tr>\n",
       "  </thead>\n",
       "  <tbody>\n",
       "    <tr>\n",
       "      <th>25</th>\n",
       "      <td>2016-04-03</td>\n",
       "      <td>2016-04-03</td>\n",
       "      <td>16A-444</td>\n",
       "      <td>NaN</td>\n",
       "      <td>NaN</td>\n",
       "      <td>NaN</td>\n",
       "      <td>C</td>\n",
       "      <td>5.0</td>\n",
       "      <td>5GHz</td>\n",
       "      <td>NaN</td>\n",
       "      <td>...</td>\n",
       "      <td>NaN</td>\n",
       "      <td>0.01</td>\n",
       "      <td>0.00</td>\n",
       "      <td>0.05</td>\n",
       "      <td>NaN</td>\n",
       "      <td>changinglookproposal</td>\n",
       "      <td>NaN</td>\n",
       "      <td>NaN</td>\n",
       "      <td>2016-04-03</td>\n",
       "      <td>0 days</td>\n",
       "    </tr>\n",
       "    <tr>\n",
       "      <th>27</th>\n",
       "      <td>2016-04-03</td>\n",
       "      <td>2016-04-03</td>\n",
       "      <td>16A-444</td>\n",
       "      <td>NaN</td>\n",
       "      <td>NaN</td>\n",
       "      <td>NaN</td>\n",
       "      <td>K</td>\n",
       "      <td>22.0</td>\n",
       "      <td>22GHz</td>\n",
       "      <td>NaN</td>\n",
       "      <td>...</td>\n",
       "      <td>NaN</td>\n",
       "      <td>0.01</td>\n",
       "      <td>0.03</td>\n",
       "      <td>NaN</td>\n",
       "      <td>NaN</td>\n",
       "      <td>changinglookproposal</td>\n",
       "      <td>NaN</td>\n",
       "      <td>NaN</td>\n",
       "      <td>2016-04-03</td>\n",
       "      <td>0 days</td>\n",
       "    </tr>\n",
       "  </tbody>\n",
       "</table>\n",
       "<p>2 rows × 22 columns</p>\n",
       "</div>"
      ],
      "text/plain": [
       "    Datestart   Datestop  project  mean epoch year  mean(mjd)  terr(mjd) band  \\\n",
       "25 2016-04-03 2016-04-03  16A-444              NaN        NaN        NaN    C   \n",
       "27 2016-04-03 2016-04-03  16A-444              NaN        NaN        NaN    K   \n",
       "\n",
       "    frequency Unnamed: 8  peak(mJy/beam)  ...  err   rms  rescale_alpha  \\\n",
       "25        5.0       5GHz             NaN  ...  NaN  0.01           0.00   \n",
       "27       22.0      22GHz             NaN  ...  NaN  0.01           0.03   \n",
       "\n",
       "    rms_efficiency  unit              proposal paper Unnamed: 19  meanepoch  \\\n",
       "25            0.05   NaN  changinglookproposal   NaN         NaN 2016-04-03   \n",
       "27             NaN   NaN  changinglookproposal   NaN         NaN 2016-04-03   \n",
       "\n",
       "     terr  \n",
       "25 0 days  \n",
       "27 0 days  \n",
       "\n",
       "[2 rows x 22 columns]"
      ]
     },
     "execution_count": 64,
     "metadata": {},
     "output_type": "execute_result"
    }
   ],
   "source": [
    "sel_data2"
   ]
  },
  {
   "cell_type": "code",
   "execution_count": null,
   "metadata": {
    "collapsed": true
   },
   "outputs": [],
   "source": []
  },
  {
   "cell_type": "code",
   "execution_count": 55,
   "metadata": {
    "ExecuteTime": {
     "end_time": "2020-08-17T14:56:02.218137Z",
     "start_time": "2020-08-17T14:56:02.187603Z"
    },
    "collapsed": false
   },
   "outputs": [
    {
     "name": "stdout",
     "output_type": "stream",
     "text": [
      "alpha = -0.17 +/- 0.14\n"
     ]
    }
   ],
   "source": [
    "sel_data2 = radiomrk1018[radiomrk1018['project'] == '16A-444']\n",
    "sel_data2 = sel_data2[sel_data2['band'] != 'K']\n",
    "alpha, alpha_err = alpha_calc(sel_data2)\n",
    "print(\"alpha = %.2f +/- %.2f\"%(alpha, alpha_err))"
   ]
  },
  {
   "cell_type": "code",
   "execution_count": 53,
   "metadata": {
    "ExecuteTime": {
     "end_time": "2020-08-17T14:54:51.775196Z",
     "start_time": "2020-08-17T14:54:51.703403Z"
    },
    "collapsed": false
   },
   "outputs": [
    {
     "name": "stdout",
     "output_type": "stream",
     "text": [
      "alpha = 0.12 +/- 0.40\n"
     ]
    }
   ],
   "source": [
    "sel_data2 = radiomrk1018[radiomrk1018['project'] == '18B-245']\n",
    "alpha, alpha_err = alpha_calc(sel_data2)\n",
    "print(\"alpha = %.2f +/- %.2f\"%(alpha, alpha_err))"
   ]
  },
  {
   "cell_type": "code",
   "execution_count": null,
   "metadata": {
    "collapsed": true
   },
   "outputs": [],
   "source": []
  },
  {
   "cell_type": "code",
   "execution_count": null,
   "metadata": {
    "collapsed": true
   },
   "outputs": [],
   "source": []
  },
  {
   "cell_type": "code",
   "execution_count": null,
   "metadata": {
    "ExecuteTime": {
     "end_time": "2019-12-06T10:19:15.604720Z",
     "start_time": "2019-12-06T10:19:15.581202Z"
    },
    "collapsed": false
   },
   "outputs": [],
   "source": [
    "sel_data2 = radiomrk1018[radiomrk1018['Datestart'] == '1984-11-28']\n",
    "alpha, alpha_err = alpha_calc(sel_data2)\n",
    "print(\"alpha = %.2f +/- %.2f\"%(alpha, alpha_err))"
   ]
  },
  {
   "cell_type": "code",
   "execution_count": null,
   "metadata": {
    "ExecuteTime": {
     "end_time": "2019-12-06T10:20:40.436752Z",
     "start_time": "2019-12-06T10:20:40.399000Z"
    },
    "collapsed": false
   },
   "outputs": [],
   "source": [
    "sel_data2 = radiomrk1018[radiomrk1018['Datestart'] == '2016-04-03'][:2]\n",
    "alpha, alpha_err = alpha_calc(sel_data2)\n",
    "print(\"alpha = %.2f +/- %.2f\"%(alpha, alpha_err))"
   ]
  },
  {
   "cell_type": "code",
   "execution_count": null,
   "metadata": {
    "ExecuteTime": {
     "end_time": "2019-12-06T10:18:05.687113Z",
     "start_time": "2019-12-06T10:18:05.492609Z"
    },
    "collapsed": false
   },
   "outputs": [],
   "source": [
    "radiomrk1018"
   ]
  },
  {
   "cell_type": "code",
   "execution_count": null,
   "metadata": {
    "collapsed": true
   },
   "outputs": [],
   "source": []
  },
  {
   "cell_type": "markdown",
   "metadata": {
    "ExecuteTime": {
     "end_time": "2020-07-20T01:03:52.172023Z",
     "start_time": "2020-07-20T01:03:52.144583Z"
    },
    "collapsed": false
   },
   "source": []
  },
  {
   "cell_type": "code",
   "execution_count": 39,
   "metadata": {
    "ExecuteTime": {
     "end_time": "2020-08-18T10:19:02.122731Z",
     "start_time": "2020-08-18T10:19:01.845499Z"
    },
    "collapsed": false
   },
   "outputs": [
    {
     "name": "stderr",
     "output_type": "stream",
     "text": [
      "/Users/brettlv/anaconda3/lib/python3.6/site-packages/ipykernel/__main__.py:2: SettingWithCopyWarning: \n",
      "A value is trying to be set on a copy of a slice from a DataFrame.\n",
      "Try using .loc[row_indexer,col_indexer] = value instead\n",
      "\n",
      "See the caveats in the documentation: http://pandas.pydata.org/pandas-docs/stable/indexing.html#indexing-view-versus-copy\n",
      "  from ipykernel import kernelapp as app\n",
      "/Users/brettlv/anaconda3/lib/python3.6/site-packages/ipykernel/__main__.py:3: SettingWithCopyWarning: \n",
      "A value is trying to be set on a copy of a slice from a DataFrame.\n",
      "Try using .loc[row_indexer,col_indexer] = value instead\n",
      "\n",
      "See the caveats in the documentation: http://pandas.pydata.org/pandas-docs/stable/indexing.html#indexing-view-versus-copy\n",
      "  app.launch_new_instance()\n",
      "/Users/brettlv/anaconda3/lib/python3.6/site-packages/ipykernel/__main__.py:4: SettingWithCopyWarning: \n",
      "A value is trying to be set on a copy of a slice from a DataFrame.\n",
      "Try using .loc[row_indexer,col_indexer] = value instead\n",
      "\n",
      "See the caveats in the documentation: http://pandas.pydata.org/pandas-docs/stable/indexing.html#indexing-view-versus-copy\n",
      "/Users/brettlv/anaconda3/lib/python3.6/site-packages/ipykernel/__main__.py:5: SettingWithCopyWarning: \n",
      "A value is trying to be set on a copy of a slice from a DataFrame.\n",
      "Try using .loc[row_indexer,col_indexer] = value instead\n",
      "\n",
      "See the caveats in the documentation: http://pandas.pydata.org/pandas-docs/stable/indexing.html#indexing-view-versus-copy\n"
     ]
    }
   ],
   "source": [
    "sel_data3=radiomrk1018[radiomrk1018['rms_efficiency'].notnull()]\n",
    "sel_data3['mjd_start']=convert_mjd(pd.to_datetime(sel_data3['Datestart']))\n",
    "sel_data3['mjd_stop']=convert_mjd(pd.to_datetime(sel_data3['Datestop']))\n",
    "sel_data3['meanmjd']=(sel_data3['mjd_stop']+sel_data3['mjd_start'])/2\n",
    "sel_data3['mjderr']=(sel_data3['mjd_stop']-sel_data3['mjd_start'])/2"
   ]
  },
  {
   "cell_type": "code",
   "execution_count": 40,
   "metadata": {
    "ExecuteTime": {
     "end_time": "2020-08-18T10:19:03.975441Z",
     "start_time": "2020-08-18T10:19:03.864070Z"
    },
    "collapsed": false
   },
   "outputs": [
    {
     "name": "stderr",
     "output_type": "stream",
     "text": [
      "/Users/brettlv/anaconda3/lib/python3.6/site-packages/ipykernel/__main__.py:43: SettingWithCopyWarning: \n",
      "A value is trying to be set on a copy of a slice from a DataFrame.\n",
      "Try using .loc[row_indexer,col_indexer] = value instead\n",
      "\n",
      "See the caveats in the documentation: http://pandas.pydata.org/pandas-docs/stable/indexing.html#indexing-view-versus-copy\n",
      "/Users/brettlv/anaconda3/lib/python3.6/site-packages/ipykernel/__main__.py:44: SettingWithCopyWarning: \n",
      "A value is trying to be set on a copy of a slice from a DataFrame.\n",
      "Try using .loc[row_indexer,col_indexer] = value instead\n",
      "\n",
      "See the caveats in the documentation: http://pandas.pydata.org/pandas-docs/stable/indexing.html#indexing-view-versus-copy\n"
     ]
    }
   ],
   "source": [
    "scaleddata=scale_data(sel_data3,alpha=0, alpha_err=0.1, ref_freq=5.0)"
   ]
  },
  {
   "cell_type": "code",
   "execution_count": 27,
   "metadata": {
    "ExecuteTime": {
     "end_time": "2020-08-18T09:39:43.152312Z",
     "start_time": "2020-08-18T09:39:43.147246Z"
    },
    "collapsed": false
   },
   "outputs": [
    {
     "data": {
      "text/plain": [
       "Index(['Datestart', 'Datestop', 'project', 'mean epoch year', 'mean(mjd)',\n",
       "       'terr(mjd)', 'band', 'frequency', 'Unnamed: 8', 'peak(mJy/beam)',\n",
       "       'alpha', 'Fint(mJy)', 'err', 'rms', 'rescale_alpha', 'rms_efficiency',\n",
       "       'unit', 'proposal', 'paper', 'Unnamed: 19', 'meanepoch', 'terr',\n",
       "       'mjd_start', 'mjd_stop', 'meanmjd', 'mjderr', 'scaled_flux',\n",
       "       'scaled_rms'],\n",
       "      dtype='object')"
      ]
     },
     "execution_count": 27,
     "metadata": {},
     "output_type": "execute_result"
    }
   ],
   "source": [
    "scaleddata.columns"
   ]
  },
  {
   "cell_type": "code",
   "execution_count": 41,
   "metadata": {
    "ExecuteTime": {
     "end_time": "2020-08-18T10:19:07.384852Z",
     "start_time": "2020-08-18T10:19:07.377395Z"
    },
    "collapsed": false
   },
   "outputs": [],
   "source": [
    "scaleddata_export=(scaleddata.loc[:, ['project','frequency','meanmjd', 'mjderr', 'scaled_flux', 'scaled_rms','band','Fint(mJy)']]\n",
    "                  .sort_values('meanmjd'))"
   ]
  },
  {
   "cell_type": "code",
   "execution_count": 42,
   "metadata": {
    "ExecuteTime": {
     "end_time": "2020-08-18T10:19:07.900425Z",
     "start_time": "2020-08-18T10:19:07.892165Z"
    },
    "collapsed": true
   },
   "outputs": [],
   "source": [
    "scaleddata_export.to_csv('/Users/brettlv/blog/IHEP_sync/paper/dataMrk1018/Mrk1018radiolc_rescale.csv')"
   ]
  },
  {
   "cell_type": "code",
   "execution_count": 43,
   "metadata": {
    "ExecuteTime": {
     "end_time": "2020-08-18T10:19:10.609370Z",
     "start_time": "2020-08-18T10:19:10.590933Z"
    },
    "collapsed": false
   },
   "outputs": [
    {
     "data": {
      "text/html": [
       "<div>\n",
       "<style scoped>\n",
       "    .dataframe tbody tr th:only-of-type {\n",
       "        vertical-align: middle;\n",
       "    }\n",
       "\n",
       "    .dataframe tbody tr th {\n",
       "        vertical-align: top;\n",
       "    }\n",
       "\n",
       "    .dataframe thead th {\n",
       "        text-align: right;\n",
       "    }\n",
       "</style>\n",
       "<table border=\"1\" class=\"dataframe\">\n",
       "  <thead>\n",
       "    <tr style=\"text-align: right;\">\n",
       "      <th></th>\n",
       "      <th>project</th>\n",
       "      <th>frequency</th>\n",
       "      <th>meanmjd</th>\n",
       "      <th>mjderr</th>\n",
       "      <th>scaled_flux</th>\n",
       "      <th>scaled_rms</th>\n",
       "    </tr>\n",
       "  </thead>\n",
       "  <tbody>\n",
       "    <tr>\n",
       "      <th>4</th>\n",
       "      <td>AU0020</td>\n",
       "      <td>4.86</td>\n",
       "      <td>46032.0</td>\n",
       "      <td>0.0</td>\n",
       "      <td>2.183796</td>\n",
       "      <td>0.079294</td>\n",
       "    </tr>\n",
       "    <tr>\n",
       "      <th>5</th>\n",
       "      <td>AB0476</td>\n",
       "      <td>4.86</td>\n",
       "      <td>47261.0</td>\n",
       "      <td>0.0</td>\n",
       "      <td>1.808302</td>\n",
       "      <td>0.207574</td>\n",
       "    </tr>\n",
       "    <tr>\n",
       "      <th>6</th>\n",
       "      <td>AB0540A</td>\n",
       "      <td>4.86</td>\n",
       "      <td>47692.0</td>\n",
       "      <td>0.0</td>\n",
       "      <td>2.272729</td>\n",
       "      <td>0.089167</td>\n",
       "    </tr>\n",
       "    <tr>\n",
       "      <th>7</th>\n",
       "      <td>AB0540B</td>\n",
       "      <td>4.86</td>\n",
       "      <td>47732.0</td>\n",
       "      <td>0.0</td>\n",
       "      <td>2.252966</td>\n",
       "      <td>0.128618</td>\n",
       "    </tr>\n",
       "    <tr>\n",
       "      <th>2</th>\n",
       "      <td>AB0628</td>\n",
       "      <td>1.40</td>\n",
       "      <td>49820.5</td>\n",
       "      <td>773.5</td>\n",
       "      <td>2.460683</td>\n",
       "      <td>0.391200</td>\n",
       "    </tr>\n",
       "    <tr>\n",
       "      <th>10</th>\n",
       "      <td>AB0308</td>\n",
       "      <td>1.40</td>\n",
       "      <td>50219.5</td>\n",
       "      <td>1078.5</td>\n",
       "      <td>2.460683</td>\n",
       "      <td>0.428871</td>\n",
       "    </tr>\n",
       "    <tr>\n",
       "      <th>9</th>\n",
       "      <td>AB0878</td>\n",
       "      <td>8.46</td>\n",
       "      <td>50970.0</td>\n",
       "      <td>0.0</td>\n",
       "      <td>2.526039</td>\n",
       "      <td>0.179214</td>\n",
       "    </tr>\n",
       "    <tr>\n",
       "      <th>11</th>\n",
       "      <td>AB0950</td>\n",
       "      <td>1.40</td>\n",
       "      <td>52246.5</td>\n",
       "      <td>278.5</td>\n",
       "      <td>2.431389</td>\n",
       "      <td>0.320800</td>\n",
       "    </tr>\n",
       "    <tr>\n",
       "      <th>14</th>\n",
       "      <td>NaN</td>\n",
       "      <td>1.40</td>\n",
       "      <td>54318.0</td>\n",
       "      <td>1578.0</td>\n",
       "      <td>1.968546</td>\n",
       "      <td>0.257481</td>\n",
       "    </tr>\n",
       "    <tr>\n",
       "      <th>18</th>\n",
       "      <td>AR685</td>\n",
       "      <td>1.40</td>\n",
       "      <td>54872.5</td>\n",
       "      <td>51.5</td>\n",
       "      <td>2.161886</td>\n",
       "      <td>0.277081</td>\n",
       "    </tr>\n",
       "    <tr>\n",
       "      <th>17</th>\n",
       "      <td>13B-272</td>\n",
       "      <td>1.40</td>\n",
       "      <td>56550.0</td>\n",
       "      <td>8.0</td>\n",
       "      <td>2.255626</td>\n",
       "      <td>0.319714</td>\n",
       "    </tr>\n",
       "    <tr>\n",
       "      <th>25</th>\n",
       "      <td>16A-444</td>\n",
       "      <td>5.00</td>\n",
       "      <td>57481.0</td>\n",
       "      <td>0.0</td>\n",
       "      <td>2.560000</td>\n",
       "      <td>0.014000</td>\n",
       "    </tr>\n",
       "    <tr>\n",
       "      <th>28</th>\n",
       "      <td>16B-084</td>\n",
       "      <td>10.00</td>\n",
       "      <td>57719.0</td>\n",
       "      <td>0.0</td>\n",
       "      <td>2.002604</td>\n",
       "      <td>0.142854</td>\n",
       "    </tr>\n",
       "    <tr>\n",
       "      <th>31</th>\n",
       "      <td>16B-084</td>\n",
       "      <td>10.00</td>\n",
       "      <td>57731.0</td>\n",
       "      <td>0.0</td>\n",
       "      <td>2.092609</td>\n",
       "      <td>0.145328</td>\n",
       "    </tr>\n",
       "    <tr>\n",
       "      <th>32</th>\n",
       "      <td>16B-084</td>\n",
       "      <td>6.00</td>\n",
       "      <td>57768.0</td>\n",
       "      <td>0.0</td>\n",
       "      <td>1.990756</td>\n",
       "      <td>0.039456</td>\n",
       "    </tr>\n",
       "    <tr>\n",
       "      <th>33</th>\n",
       "      <td>VLASS1.1</td>\n",
       "      <td>3.00</td>\n",
       "      <td>58087.0</td>\n",
       "      <td>0.0</td>\n",
       "      <td>1.855886</td>\n",
       "      <td>0.129869</td>\n",
       "    </tr>\n",
       "    <tr>\n",
       "      <th>35</th>\n",
       "      <td>18B-245</td>\n",
       "      <td>20.00</td>\n",
       "      <td>58472.0</td>\n",
       "      <td>0.0</td>\n",
       "      <td>2.599606</td>\n",
       "      <td>0.362419</td>\n",
       "    </tr>\n",
       "  </tbody>\n",
       "</table>\n",
       "</div>"
      ],
      "text/plain": [
       "     project  frequency  meanmjd  mjderr  scaled_flux  scaled_rms\n",
       "4     AU0020       4.86  46032.0     0.0     2.183796    0.079294\n",
       "5     AB0476       4.86  47261.0     0.0     1.808302    0.207574\n",
       "6    AB0540A       4.86  47692.0     0.0     2.272729    0.089167\n",
       "7    AB0540B       4.86  47732.0     0.0     2.252966    0.128618\n",
       "2     AB0628       1.40  49820.5   773.5     2.460683    0.391200\n",
       "10    AB0308       1.40  50219.5  1078.5     2.460683    0.428871\n",
       "9     AB0878       8.46  50970.0     0.0     2.526039    0.179214\n",
       "11    AB0950       1.40  52246.5   278.5     2.431389    0.320800\n",
       "14       NaN       1.40  54318.0  1578.0     1.968546    0.257481\n",
       "18     AR685       1.40  54872.5    51.5     2.161886    0.277081\n",
       "17   13B-272       1.40  56550.0     8.0     2.255626    0.319714\n",
       "25   16A-444       5.00  57481.0     0.0     2.560000    0.014000\n",
       "28   16B-084      10.00  57719.0     0.0     2.002604    0.142854\n",
       "31   16B-084      10.00  57731.0     0.0     2.092609    0.145328\n",
       "32   16B-084       6.00  57768.0     0.0     1.990756    0.039456\n",
       "33  VLASS1.1       3.00  58087.0     0.0     1.855886    0.129869\n",
       "35   18B-245      20.00  58472.0     0.0     2.599606    0.362419"
      ]
     },
     "execution_count": 43,
     "metadata": {},
     "output_type": "execute_result"
    }
   ],
   "source": [
    "scaleddata_export"
   ]
  },
  {
   "cell_type": "code",
   "execution_count": null,
   "metadata": {
    "collapsed": true
   },
   "outputs": [],
   "source": []
  },
  {
   "cell_type": "code",
   "execution_count": null,
   "metadata": {
    "collapsed": true
   },
   "outputs": [],
   "source": []
  },
  {
   "cell_type": "markdown",
   "metadata": {},
   "source": [
    "# load xrt optical data"
   ]
  },
  {
   "cell_type": "markdown",
   "metadata": {},
   "source": [
    "## xrt"
   ]
  },
  {
   "cell_type": "code",
   "execution_count": null,
   "metadata": {
    "ExecuteTime": {
     "end_time": "2019-08-16T15:16:17.983140Z",
     "start_time": "2019-08-16T15:16:17.965906Z"
    },
    "collapsed": true
   },
   "outputs": [],
   "source": [
    "xrtdatalv=pd.read_csv('/Users/brettlv/blog/IHEP_sync/paper/dataMrk1018/Mrkxrtmore85.csv')\n",
    "xrtfitlv=pd.read_csv('/Users/brettlv/blog/IHEP_sync/paper/dataMrk1018/xspecfitdatamorethan85.txt',header=None)\n",
    "xrtfitlv.columns=['powerlawindex','indexerr','bins','rechied','flux','fluxrangeleft','fluxrangeright','obs_id']"
   ]
  },
  {
   "cell_type": "code",
   "execution_count": null,
   "metadata": {
    "ExecuteTime": {
     "end_time": "2019-08-19T09:09:53.261350Z",
     "start_time": "2019-08-19T09:09:53.250078Z"
    },
    "collapsed": true
   },
   "outputs": [],
   "source": [
    "xrtdatalv_less85=pd.read_csv('/Users/brettlv/blog/IHEP_sync/paper/dataMrk1018/Mrkxrtless85.csv')\n",
    "xrtfitlv_less85=pd.read_csv('/Users/brettlv/blog/IHEP_sync/paper/dataMrk1018/xspecfitdatalessthan85.txt',header=None)\n",
    "xrtfitlv_less85.columns=['powerlawindex','indexerr','bins','rechied','flux','fluxrangeleft','fluxrangeright','obs_id']"
   ]
  },
  {
   "cell_type": "markdown",
   "metadata": {},
   "source": [
    "## husemann2016 and optical"
   ]
  },
  {
   "cell_type": "code",
   "execution_count": null,
   "metadata": {
    "ExecuteTime": {
     "end_time": "2019-08-19T09:14:51.973553Z",
     "start_time": "2019-08-19T09:14:51.940004Z"
    },
    "collapsed": false
   },
   "outputs": [],
   "source": [
    "optical=pd.read_excel('/Users/brettlv/blog/IHEP_sync/paper/dataMrk1018/MRK1018optical.xlsx')\n",
    "husemann2016=pd.read_csv('/Users/brettlv/blog/IHEP_sync/paper/dataMrk1018/husemann2016.csv')"
   ]
  },
  {
   "cell_type": "code",
   "execution_count": null,
   "metadata": {
    "ExecuteTime": {
     "end_time": "2019-08-19T09:10:04.199330Z",
     "start_time": "2019-08-19T09:10:04.190473Z"
    },
    "collapsed": false
   },
   "outputs": [],
   "source": [
    "xrtdatalv_less85.columns,"
   ]
  },
  {
   "cell_type": "code",
   "execution_count": null,
   "metadata": {
    "ExecuteTime": {
     "end_time": "2019-08-16T15:16:27.244914Z",
     "start_time": "2019-08-16T15:16:27.238533Z"
    },
    "collapsed": false
   },
   "outputs": [],
   "source": [
    "optical.columns"
   ]
  },
  {
   "cell_type": "markdown",
   "metadata": {
    "ExecuteTime": {
     "end_time": "2019-08-19T09:15:30.063148Z",
     "start_time": "2019-08-19T09:15:30.036142Z"
    }
   },
   "source": [
    "# all lightcurve"
   ]
  },
  {
   "cell_type": "code",
   "execution_count": null,
   "metadata": {
    "ExecuteTime": {
     "end_time": "2019-08-23T14:12:43.716542Z",
     "start_time": "2019-08-23T14:12:43.694733Z"
    },
    "collapsed": false
   },
   "outputs": [],
   "source": [
    "xrtfitlv"
   ]
  },
  {
   "cell_type": "code",
   "execution_count": null,
   "metadata": {
    "ExecuteTime": {
     "end_time": "2019-08-23T10:13:44.056260Z",
     "start_time": "2019-08-23T10:13:44.023719Z"
    },
    "collapsed": false
   },
   "outputs": [],
   "source": [
    "xrtfitlv_less85"
   ]
  },
  {
   "cell_type": "markdown",
   "metadata": {},
   "source": [
    "## load data"
   ]
  },
  {
   "cell_type": "code",
   "execution_count": null,
   "metadata": {
    "ExecuteTime": {
     "end_time": "2019-09-26T10:19:41.525496Z",
     "start_time": "2019-09-26T10:19:41.494403Z"
    },
    "collapsed": false
   },
   "outputs": [],
   "source": [
    "x1 = optical['timeoptical']\n",
    "y1 = optical['magAB']\n",
    "x2=xrtdatalv['xrttime']#counts more than 85\n",
    "y2 = xrtfitlv['flux']\n",
    "p2=xrtfitlv['powerlawindex']\n",
    "errp2=xrtfitlv['indexerr']\n",
    "\n",
    "\n",
    "x3=xrtdatalv_less85['xrttime']\n",
    "y3=xrtfitlv_less85['flux']\n",
    "p3=xrtfitlv_less85['powerlawindex']\n",
    "errp3=xrtfitlv_less85['indexerr']\n",
    "\n",
    "x4=husemann2016['date']\n",
    "y4=husemann2016['flux']\n",
    "erry4=husemann2016['ferr']\n",
    "p4=husemann2016['gamma']\n",
    "errp4=husemann2016['gerr']\n",
    "\n",
    "x5=scaleddata['meanepoch']#rescale to 5GHz\n",
    "y5=scaleddata['scaled_flux']\n",
    "erry5=scaleddata['scaled_rms']"
   ]
  },
  {
   "cell_type": "code",
   "execution_count": null,
   "metadata": {
    "ExecuteTime": {
     "end_time": "2019-08-23T10:05:34.881621Z",
     "start_time": "2019-08-23T10:05:34.831392Z"
    },
    "collapsed": false
   },
   "outputs": [],
   "source": [
    "husemann2016"
   ]
  },
  {
   "cell_type": "code",
   "execution_count": null,
   "metadata": {
    "ExecuteTime": {
     "end_time": "2019-08-23T10:20:41.091477Z",
     "start_time": "2019-08-23T10:20:40.822418Z"
    },
    "collapsed": false
   },
   "outputs": [],
   "source": [
    "plt.plot(xrtfitlv_less85['bins'],xrtfitlv_less85['rechied'],'r.')\n",
    "plt.show()"
   ]
  },
  {
   "cell_type": "code",
   "execution_count": null,
   "metadata": {
    "ExecuteTime": {
     "end_time": "2019-08-23T10:10:54.070959Z",
     "start_time": "2019-08-23T10:10:53.790191Z"
    },
    "collapsed": false
   },
   "outputs": [],
   "source": [
    "plt.plot(x4mjd,p4,'r.',label='husemann')\n",
    "plt.plot(x2mjd,p2,'g.',label='xrt>85')\n",
    "#plt.plot(x3mjd,p3,'b.',label='xrt<85')\n",
    "plt.legend()\n",
    "plt.show()"
   ]
  },
  {
   "cell_type": "code",
   "execution_count": null,
   "metadata": {
    "ExecuteTime": {
     "end_time": "2019-09-26T10:20:03.887061Z",
     "start_time": "2019-09-26T10:20:03.826162Z"
    },
    "collapsed": false
   },
   "outputs": [],
   "source": [
    "x1new=convert_partial_year(x1)\n",
    "x1mjd=Time(x1new).mjd\n",
    "x2mjd=convert_mjd(pd.to_datetime(x2))\n",
    "x3mjd=convert_mjd(pd.to_datetime(x3))\n",
    "x4mjd=husemann2016['date']\n",
    "x5mjd=convert_mjd(pd.to_datetime(x5))"
   ]
  },
  {
   "cell_type": "code",
   "execution_count": null,
   "metadata": {
    "ExecuteTime": {
     "end_time": "2019-08-27T09:56:25.610547Z",
     "start_time": "2019-08-27T09:56:25.579773Z"
    },
    "collapsed": true
   },
   "outputs": [],
   "source": [
    "optical['mjd']=x1mjd"
   ]
  },
  {
   "cell_type": "code",
   "execution_count": null,
   "metadata": {
    "ExecuteTime": {
     "end_time": "2019-08-27T09:57:28.652846Z",
     "start_time": "2019-08-27T09:57:28.644077Z"
    },
    "collapsed": false
   },
   "outputs": [],
   "source": [
    "optical.to_csv('/Users/brettlv/blog/IHEP_sync/paper/dataMrk1018/Mrk1018opticallc.csv')"
   ]
  },
  {
   "cell_type": "markdown",
   "metadata": {},
   "source": [
    "# Optical vs X-ray"
   ]
  },
  {
   "cell_type": "code",
   "execution_count": null,
   "metadata": {
    "ExecuteTime": {
     "end_time": "2019-08-20T09:59:13.037432Z",
     "start_time": "2019-08-20T09:59:12.636949Z"
    },
    "collapsed": false
   },
   "outputs": [],
   "source": [
    "import matplotlib.pyplot as plt\n",
    "import numpy as np\n",
    "\n",
    "\n",
    "\n",
    "fig = plt.figure()\n",
    "\n",
    "ax1 = fig.add_subplot(111)\n",
    "ax1.scatter(x1mjd, y1,marker='^',color='b',label='optical')\n",
    "ax1.invert_yaxis()\n",
    "ax1.set_ylabel('magAB')\n",
    "ax1.legend(bbox_to_anchor=(1.3, 0.5))\n",
    "#ax1.set_xlim([2002, 2018])\n",
    "#ax1.set_title(\"Double Y axis\")\n",
    "\n",
    "\n",
    "ax2 = ax1.twinx()  # this is the important function\n",
    "#ax2 = fig.add_subplot(212)\n",
    "ax2.scatter(x2mjd, y2*10**11, marker='*',color='r',label='xrt')\n",
    "ax2.scatter(husemann2016['date'],husemann2016['flux'],marker='.',color='g',label='Husemann')\n",
    "#ax2.set_xlim([2002, 2018])\n",
    "ax2.set_ylabel('xray flux')\n",
    "ax2.set_xlabel('time')\n",
    "plt.legend(bbox_to_anchor=(1.3, 0.9))\n",
    "plt.show()"
   ]
  },
  {
   "cell_type": "code",
   "execution_count": null,
   "metadata": {
    "collapsed": true
   },
   "outputs": [],
   "source": []
  },
  {
   "cell_type": "markdown",
   "metadata": {},
   "source": [
    "# AB magnitude System\n",
    "This magnitude system is defined such that, when monochromatic flux f is measured in erg sec^-1 cm^-2 Hz^-1,\n",
    "m(AB) = -2.5 log(f) - 48.60\n",
    "where the value of the constant is selected to define m(AB)=V for a flat-spectrum source. In this system, an object with constant flux per unit frequency interval has zero color.\n",
    "References:\n",
    "\n",
    "Oke, J.B. 1974, ApJS, 27, 21"
   ]
  },
  {
   "cell_type": "code",
   "execution_count": null,
   "metadata": {
    "ExecuteTime": {
     "end_time": "2019-08-16T15:17:56.440981Z",
     "start_time": "2019-08-16T15:17:56.436306Z"
    },
    "collapsed": true
   },
   "outputs": [],
   "source": [
    "opticalflux=(-48.60-optical['magAB'])/2.5"
   ]
  },
  {
   "cell_type": "code",
   "execution_count": null,
   "metadata": {
    "ExecuteTime": {
     "end_time": "2019-08-20T10:11:02.539940Z",
     "start_time": "2019-08-20T10:11:02.149397Z"
    },
    "collapsed": false
   },
   "outputs": [],
   "source": [
    "import matplotlib.pyplot as plt\n",
    "import numpy as np\n",
    "\n",
    "\n",
    "\n",
    "fig = plt.figure()\n",
    "\n",
    "ax1 = fig.add_subplot(111)\n",
    "ax1.scatter(x1mjd, opticalflux,marker='^',color='b',label='optical')\n",
    "#ax1.invert_yaxis()\n",
    "ax1.set_ylabel('opticalflux')\n",
    "ax1.legend(bbox_to_anchor=(0.2, 0.5),ncol=1, mode=\"expand\", borderaxespad=0.)\n",
    "#ax1.set_xlim([2002, 2018])\n",
    "#ax1.set_title(\"Double Y axis\")\n",
    "\n",
    "\n",
    "ax2 = ax1.twinx()  # this is the important function\n",
    "#ax2 = fig.add_subplot(212)\n",
    "ax2.scatter(x2mjd, np.log10(y2), marker='*',color='r',label='xrt')\n",
    "ax2.scatter(husemann2016['date'],np.log10(husemann2016['flux']*1.0e-11),marker='.',color='g',label='Husemann')\n",
    "#ax2.set_xlim([2002, 2018])\n",
    "ax2.set_ylabel('xray flux')\n",
    "ax2.set_xlabel('time')\n",
    "#plt.legend(bbox_to_anchor=(0.8, 0.9),ncol=1,loc='upper right', mode=\"expand\", borderaxespad=0., shadow=True)\n",
    "ax2.legend(bbox_to_anchor=(1.2, 0.9),ncol=1, mode=\"expand\", borderaxespad=0.)\n",
    "plt.legend()\n",
    "plt.show()"
   ]
  },
  {
   "cell_type": "code",
   "execution_count": null,
   "metadata": {
    "collapsed": true
   },
   "outputs": [],
   "source": [
    "def"
   ]
  },
  {
   "cell_type": "markdown",
   "metadata": {},
   "source": [
    "# Radio vs X-ray"
   ]
  },
  {
   "cell_type": "code",
   "execution_count": null,
   "metadata": {
    "ExecuteTime": {
     "end_time": "2019-08-20T14:40:59.130445Z",
     "start_time": "2019-08-20T14:40:58.588004Z"
    },
    "collapsed": false
   },
   "outputs": [],
   "source": [
    "import matplotlib.pyplot as plt\n",
    "import numpy as np\n",
    "\n",
    "\n",
    "\n",
    "fig = plt.figure()\n",
    "\n",
    "ax1 = fig.add_subplot(111)\n",
    "ax1.errorbar(x5mjd, y5,yerr=erry5,marker='.',color='gold',label='radio',fmt='.')\n",
    "#ax1.invert_yaxis()\n",
    "ax1.set_ylabel('radioflux')\n",
    "ax1.legend(bbox_to_anchor=(0, 0.9),ncol=1)\n",
    "#plt.legend()\n",
    "#ax1.set_xlim([2002, 2018])\n",
    "#ax1.set_title(\"Double Y axis\")\n",
    "\n",
    "\n",
    "ax2 = ax1.twinx()  # this is the important function\n",
    "#ax2 = fig.add_subplot(212)\n",
    "ax2.scatter(x2mjd, np.log10(y2), marker='*',color='r',label='xrt')\n",
    "ax2.scatter(husemann2016['date'],np.log10(husemann2016['flux']*1.0e-11),marker='+',color='g',label='Husemann')\n",
    "#ax2.set_xlim([2002, 2018])\n",
    "ax2.set_ylabel('xray flux')\n",
    "ax2.set_xlabel('time')\n",
    "#plt.legend(bbox_to_anchor=(0.8, 0.9),ncol=1,loc='upper right', mode=\"expand\", borderaxespad=0., shadow=True)\n",
    "ax2.legend(bbox_to_anchor=(1.3, 0.9),ncol=1)\n",
    "#plt.legend()\n",
    "plt.show()"
   ]
  },
  {
   "cell_type": "code",
   "execution_count": null,
   "metadata": {
    "ExecuteTime": {
     "end_time": "2019-08-16T15:19:15.195067Z",
     "start_time": "2019-08-16T15:19:15.168938Z"
    },
    "collapsed": false
   },
   "outputs": [],
   "source": [
    "husemann2016"
   ]
  },
  {
   "cell_type": "code",
   "execution_count": null,
   "metadata": {
    "ExecuteTime": {
     "end_time": "2019-08-16T16:00:18.824465Z",
     "start_time": "2019-08-16T16:00:18.802927Z"
    },
    "collapsed": false
   },
   "outputs": [],
   "source": [
    "l1 = [x1mjd,opticalflux]\n",
    "l2= [x2mjd,np.log10(y2)]\n",
    "head = [\"mjdtime\" , \"flux\" ]\n",
    "\n",
    "df1 = pd.DataFrame(l1 , index = head).T\n",
    "#df1['err']=0.1\n",
    "df1=df1.sort_values(by=['mjdtime'])\n",
    "df1.to_csv(\"/Users/brettlv/timing_analysis/pydcf/example/Mrkopticalmjd.csv\", header=None,index=None, encoding = \"utf-8\")\n",
    "\n",
    "df2 = pd.DataFrame(l2 , index = head).T\n",
    "df2=df2.sort_values(by=['mjdtime'])\n",
    "#df2['err']=0.1\n",
    "df2.to_csv(\"/Users/brettlv/timing_analysis/pydcf/example/Mrkxrtmjd.csv\" , header=None,index=None,encoding = \"utf-8\")"
   ]
  },
  {
   "cell_type": "markdown",
   "metadata": {},
   "source": [
    "The reported correlation relates to the first time series. That is, how the first time series should be shifted to match the second, ie: ts2 = ts1 - correlation. Positive correlation is ts1 leading ts2, negative correlation is ts1 lagging ts2."
   ]
  },
  {
   "cell_type": "code",
   "execution_count": null,
   "metadata": {
    "collapsed": true
   },
   "outputs": [],
   "source": [
    "python3 dcf.py example/Mrkopticalmjd.csv example/Mrkxrtmjd.csv -2000 2000 20 -v -w=gauss -p=2 -o"
   ]
  },
  {
   "cell_type": "code",
   "execution_count": null,
   "metadata": {
    "collapsed": true
   },
   "outputs": [],
   "source": []
  },
  {
   "cell_type": "code",
   "execution_count": null,
   "metadata": {
    "ExecuteTime": {
     "end_time": "2019-08-19T09:06:43.813158Z",
     "start_time": "2019-08-19T09:06:43.400130Z"
    },
    "collapsed": false
   },
   "outputs": [],
   "source": [
    "import matplotlib.pyplot as plt\n",
    "import numpy as np\n",
    "\n",
    "\n",
    "\n",
    "fig = plt.figure()\n",
    "\n",
    "ax1 = fig.add_subplot(111)\n",
    "ax1.scatter(x1mjd, opticalflux,marker='^',color='b',label='optical')\n",
    "#ax1.invert_yaxis()\n",
    "ax1.set_ylabel('opticalflux')\n",
    "ax1.legend(bbox_to_anchor=(0.2, 0.5))\n",
    "#ax1.set_xlim([2002, 2018])\n",
    "#ax1.set_title(\"Double Y axis\")\n",
    "\n",
    "\n",
    "ax2 = ax1.twinx()  # this is the important function\n",
    "#ax2 = fig.add_subplot(212)\n",
    "ax2.scatter(x2mjd, np.log10(y2), marker='*',color='r',label='xrt')\n",
    "ax2.scatter(husemann2016['date'],np.log10(husemann2016['flux']*1.0e-11),marker='.',color='g',label='Husemann')\n",
    "#ax2.set_xlim([2002, 2018])\n",
    "ax2.set_ylabel('xray flux')\n",
    "ax2.set_xlabel('time')\n",
    "plt.legend(bbox_to_anchor=(0.8, 0.9))\n",
    "plt.show()"
   ]
  },
  {
   "cell_type": "code",
   "execution_count": null,
   "metadata": {
    "ExecuteTime": {
     "end_time": "2019-09-03T09:48:11.355860Z",
     "start_time": "2019-09-03T09:48:11.138502Z"
    },
    "collapsed": false
   },
   "outputs": [],
   "source": [
    "(2.470e-12 - 2.505e-12)/2"
   ]
  },
  {
   "cell_type": "code",
   "execution_count": null,
   "metadata": {
    "collapsed": true
   },
   "outputs": [],
   "source": []
  },
  {
   "cell_type": "code",
   "execution_count": null,
   "metadata": {
    "ExecuteTime": {
     "end_time": "2019-09-27T10:33:19.850678Z",
     "start_time": "2019-09-27T10:33:19.808928Z"
    },
    "collapsed": false
   },
   "outputs": [],
   "source": [
    "husemann2016"
   ]
  },
  {
   "cell_type": "markdown",
   "metadata": {},
   "source": [
    "## online pptx"
   ]
  },
  {
   "cell_type": "code",
   "execution_count": null,
   "metadata": {
    "ExecuteTime": {
     "end_time": "2019-09-27T13:51:44.771315Z",
     "start_time": "2019-09-27T13:51:44.753914Z"
    },
    "collapsed": false
   },
   "outputs": [],
   "source": [
    "%%HTML\n",
    "<div align=\"center\"><iframe src=\"https://view.officeapps.live.com/op/view.aspx?src=https://developer.download.nvidia.com/training/courses/C-AC-01-V1/AC_CUDA_C-zh/AC_CUDA_C_1-zh.pptx\" frameborder=\"0\" width=\"900\" height=\"550\" allowfullscreen=\"true\" mozallowfullscreen=\"true\" webkitallowfullscreen=\"true\"></iframe></div>"
   ]
  },
  {
   "cell_type": "markdown",
   "metadata": {},
   "source": [
    "## online pptx"
   ]
  },
  {
   "cell_type": "code",
   "execution_count": null,
   "metadata": {
    "ExecuteTime": {
     "end_time": "2019-09-27T13:59:33.951835Z",
     "start_time": "2019-09-27T13:59:33.945985Z"
    },
    "collapsed": false
   },
   "outputs": [],
   "source": [
    "%%HTML\n",
    "<div align=\"center\"><iframe src=\"https://view.officeapps.live.com/op/view.aspx?src=https://brettlv.github.io/radiolearnnote/v404_notebook_lvbing_20180104.pptx\" frameborder=\"0\" width=\"900\" height=\"550\" allowfullscreen=\"true\" mozallowfullscreen=\"true\" webkitallowfullscreen=\"true\"></iframe></div>"
   ]
  },
  {
   "cell_type": "code",
   "execution_count": null,
   "metadata": {
    "collapsed": true
   },
   "outputs": [],
   "source": []
  },
  {
   "cell_type": "markdown",
   "metadata": {},
   "source": [
    "## plot pd"
   ]
  },
  {
   "cell_type": "code",
   "execution_count": null,
   "metadata": {
    "ExecuteTime": {
     "end_time": "2019-09-27T14:05:20.328540Z",
     "start_time": "2019-09-27T14:05:20.120694Z"
    },
    "collapsed": false
   },
   "outputs": [],
   "source": [
    "husemann2016"
   ]
  },
  {
   "cell_type": "code",
   "execution_count": null,
   "metadata": {
    "ExecuteTime": {
     "end_time": "2019-09-27T16:36:54.890841Z",
     "start_time": "2019-09-27T16:36:54.874882Z"
    },
    "collapsed": false
   },
   "outputs": [],
   "source": [
    "markers_pd=['*','.','+','<','v','^','x','>','1','2','3','4','8','p','P','h','H','X','D','d','|','_']\n",
    "colors_pd=['red','green','blue','cyan','lightblue','tan','gold','sandybrown','olivedrab','chartreuse','darkgreen','m','skyblue','violet','crimson','aqua','purple','magenta','yellow','lime','turquoise','lightcyan','teal','indigo']\n",
    "print(len(markers_pd))\n",
    "print(len(colors_pd))"
   ]
  },
  {
   "cell_type": "code",
   "execution_count": null,
   "metadata": {
    "ExecuteTime": {
     "end_time": "2019-09-27T14:34:59.361335Z",
     "start_time": "2019-09-27T14:34:59.341818Z"
    },
    "collapsed": false
   },
   "outputs": [],
   "source": [
    "husemann2016.columns"
   ]
  },
  {
   "cell_type": "code",
   "execution_count": null,
   "metadata": {
    "ExecuteTime": {
     "end_time": "2019-09-27T14:10:41.847946Z",
     "start_time": "2019-09-27T14:10:41.843812Z"
    },
    "collapsed": false
   },
   "outputs": [],
   "source": [
    "ins=husemann2016['ins']\n",
    "ins=ins.drop_duplicates()"
   ]
  },
  {
   "cell_type": "code",
   "execution_count": null,
   "metadata": {
    "ExecuteTime": {
     "end_time": "2019-09-27T14:10:59.484504Z",
     "start_time": "2019-09-27T14:10:59.479019Z"
    },
    "collapsed": false
   },
   "outputs": [],
   "source": [
    "len(ins)"
   ]
  },
  {
   "cell_type": "markdown",
   "metadata": {},
   "source": [
    "## scatter plot"
   ]
  },
  {
   "cell_type": "code",
   "execution_count": null,
   "metadata": {
    "ExecuteTime": {
     "end_time": "2019-09-27T21:22:57.341475Z",
     "start_time": "2019-09-27T21:22:56.260229Z"
    },
    "collapsed": false
   },
   "outputs": [],
   "source": [
    "from collections import OrderedDict\n",
    "import matplotlib.pyplot as plt\n",
    " \n",
    "\n",
    "def plot_data(data,x,y,color_n=None,marker_n=None,**kwargs):\n",
    "    fig = plt.figure(figsize=(4,3),dpi=400)\n",
    "    ax = fig.add_subplot(111)    \n",
    "    pcolor=data[color_n].drop_duplicates()\n",
    "    pmarker=data[marker_n].drop_duplicates()        \n",
    "    marker_dict = dict(zip(pmarker, markers_pd[:len(pmarker)]))\n",
    "    color_dict= dict(zip(pcolor, colors_pd[:len(pcolor)]))\n",
    "    \n",
    "    for row in range(len(data)):\n",
    "        \n",
    "        px=data.loc[row][x]\n",
    "        py=data.loc[row][y]             \n",
    "        marker =marker_dict[data.loc[row][marker_n]]\n",
    "        color= color_dict[data.loc[row][color_n]]\n",
    "        label= marker_n+':'+str(data.loc[row][marker_n])+','+color_n+':'+str(data.loc[row][color_n])\n",
    "        #print(px,py,marker,color)\n",
    "        ax.scatter(px, py, marker=marker, color=color,label=label, **kwargs)\n",
    "    #return\n",
    "    handles, labels = plt.gca().get_legend_handles_labels()\n",
    "    by_label = OrderedDict(zip(labels, handles))\n",
    "    plt.legend(by_label.values(), by_label.keys(),bbox_to_anchor=(1.0, 1.0),ncol=1,fontsize=5)\n",
    "    plt.show()\n",
    "    #return marker_dict,color_dict   \n",
    "plot_data(husemann2016,x='date',y='flux',color_n='chi',marker_n='ins')    "
   ]
  },
  {
   "cell_type": "code",
   "execution_count": null,
   "metadata": {
    "ExecuteTime": {
     "end_time": "2019-09-27T17:03:49.342994Z",
     "start_time": "2019-09-27T17:03:48.161394Z"
    },
    "collapsed": false
   },
   "outputs": [],
   "source": []
  },
  {
   "cell_type": "markdown",
   "metadata": {
    "ExecuteTime": {
     "end_time": "2019-09-27T15:58:15.378826Z",
     "start_time": "2019-09-27T15:58:15.368734Z"
    }
   },
   "source": [
    "## plot cmap"
   ]
  },
  {
   "cell_type": "code",
   "execution_count": null,
   "metadata": {
    "ExecuteTime": {
     "end_time": "2019-09-27T17:22:07.080688Z",
     "start_time": "2019-09-27T17:22:05.997219Z"
    },
    "collapsed": false
   },
   "outputs": [],
   "source": [
    "from collections import OrderedDict\n",
    "import matplotlib.pyplot as plt\n",
    "import numpy as np\n",
    "from astropy.io import ascii\n",
    "import matplotlib.pyplot as plt\n",
    "import matplotlib.colors as colors\n",
    "import matplotlib.cm as cm\n",
    "import numpy as np\n",
    "from astropy.io import ascii\n",
    "import matplotlib.pyplot as plt\n",
    "import matplotlib.colors as colors\n",
    "\n",
    "\n",
    "\n",
    "#cm=matplotlib.cm.coolwarm()\n",
    "#cm=plt.cm.get_cmap('RdYlBu')\n",
    "def cmap_setup(cmap='viridis', min_freq=0, max_freq=20):\n",
    "    '''\n",
    "    This function will set up a scalar map for you to colour your markers by frequency\n",
    "    '''\n",
    "    freq_cmap = plt.cm.get_cmap(cmap)\n",
    "    \n",
    "    cNorm  = colors.Normalize(vmin=min_freq, vmax=max_freq)\n",
    "    scalarMap = cm.ScalarMappable(norm=cNorm, cmap=cmap)\n",
    "    sm = scalarMap\n",
    "    sm._A = []    \n",
    "    return sm  \n",
    "\n",
    "\n",
    "def plot_data_cmap(data,x,y,color_n=None,marker_n=None,size=None):  \n",
    "    fig = plt.figure(figsize=(4,3),dpi=400)\n",
    "    ax = fig.add_subplot(111)  \n",
    "    #Get the scalar map, plot the data using the plot_data function above    \n",
    "    pmarker=data[marker_n].drop_duplicates()        \n",
    "    marker_dict = dict(zip(pmarker, markers_pd[:len(pmarker)]))\n",
    "    sm = cmap_setup(cmap='coolwarm', min_freq=min(data[color_n]), max_freq=max(data[color_n])) \n",
    "    for i,(i_,j_,c_,m_) in enumerate(zip(data[x],data[y],data[color_n],data[marker_n])):      \n",
    "        marker =marker_dict[m_]\n",
    "        colorval = sm.to_rgba(c_)        \n",
    "        size=10+(c_-min(data[color_n]))/(max(data[color_n])-min(data[color_n]))*20     \n",
    "        ax.scatter(i_,j_,linestyle='--', marker=marker, color=colorval,label=m_,s=size,alpha=0.5) \n",
    "    cbar = fig.colorbar(sm,fraction=0.046, pad=0.04)\n",
    "    cbar.set_label(color_n)            \n",
    "    handles, labels = plt.gca().get_legend_handles_labels()\n",
    "    by_label = OrderedDict(zip(labels, handles))\n",
    "    plt.legend(by_label.values(), by_label.keys(),bbox_to_anchor=(0.3, 0.9),ncol=1,fontsize=5)\n",
    "    plt.show()    \n",
    "    \n",
    "    #return marker_dict,color_dict\n",
    "plot_data_cmap(husemann2016,x='flux',y='gamma',color_n='date',marker_n='ins')    \n",
    "    "
   ]
  },
  {
   "cell_type": "markdown",
   "metadata": {
    "ExecuteTime": {
     "end_time": "2019-09-27T16:55:49.313012Z",
     "start_time": "2019-09-27T16:55:48.148008Z"
    }
   },
   "source": [
    "## cmap errorbar"
   ]
  },
  {
   "cell_type": "code",
   "execution_count": null,
   "metadata": {
    "ExecuteTime": {
     "end_time": "2019-09-27T21:26:17.860452Z",
     "start_time": "2019-09-27T21:26:16.473422Z"
    },
    "collapsed": false
   },
   "outputs": [],
   "source": [
    "from collections import OrderedDict\n",
    "import matplotlib.pyplot as plt\n",
    "import numpy as np\n",
    "from astropy.io import ascii\n",
    "import matplotlib.pyplot as plt\n",
    "import matplotlib.colors as colors\n",
    "import matplotlib.cm as cm\n",
    "import numpy as np\n",
    "from astropy.io import ascii\n",
    "import matplotlib.pyplot as plt\n",
    "import matplotlib.colors as colors\n",
    "\n",
    "\n",
    "\n",
    "#cm=matplotlib.cm.coolwarm()\n",
    "#cm=plt.cm.get_cmap('RdYlBu')\n",
    "def cmap_setup(cmap='viridis', min_freq=0, max_freq=20):\n",
    "    '''\n",
    "    This function will set up a scalar map for you to colour your markers by frequency\n",
    "    '''\n",
    "    freq_cmap = plt.cm.get_cmap(cmap)\n",
    "    \n",
    "    cNorm  = colors.Normalize(vmin=min_freq, vmax=max_freq)\n",
    "    scalarMap = cm.ScalarMappable(norm=cNorm, cmap=cmap)\n",
    "    sm = scalarMap\n",
    "    sm._A = []    \n",
    "    return sm  \n",
    "\n",
    "def plot_data_cmap(data,x,y,xerr=None,yerr=None,color_n=None,marker_n=None,size=None):  \n",
    "    fig = plt.figure(figsize=(4,3),dpi=400)\n",
    "    ax = fig.add_subplot(111)  \n",
    "    #Get the scalar map, plot the data using the plot_data function above    \n",
    "    pmarker=data[marker_n].drop_duplicates()        \n",
    "    marker_dict = dict(zip(pmarker, markers_pd[:len(pmarker)]))\n",
    "    sm = cmap_setup(cmap='coolwarm', min_freq=min(data[color_n]), max_freq=max(data[color_n])) \n",
    "    mincolor=min(data[color_n])\n",
    "    maxcolor=max(data[color_n])    \n",
    "    for i in range(len(data)):\n",
    "        i_=data.loc[i][x]\n",
    "        j_=data.loc[i][y]\n",
    "        x_=data.loc[i][xerr]\n",
    "        y_=data.loc[i][yerr]            \n",
    "        marker =marker_dict[data.loc[i][marker_n]]#maker\n",
    "        label= data.loc[i][marker_n]#label         \n",
    "        colorval = sm.to_rgba(data.loc[i][color_n])            \n",
    "        size=10+(c_-mincolor)/(mincolor-maxcolor)*20     \n",
    "        ax.errorbar(i_,j_,xerr=x_,yerr=y_,linestyle='--', marker=marker, color=colorval,label=label,alpha=0.5) \n",
    "    \n",
    "    cbar = fig.colorbar(sm,fraction=0.046, pad=0.04)\n",
    "    cbar.set_label(color_n)            \n",
    "    handles, labels = plt.gca().get_legend_handles_labels()\n",
    "    by_label = OrderedDict(zip(labels, handles))\n",
    "    plt.legend(by_label.values(), by_label.keys(),bbox_to_anchor=(0.3, 0.9),ncol=1,fontsize=5)\n",
    "    plt.show()    \n",
    "    \n",
    "    #return marker_dict,color_dict\n",
    "plot_data_cmap(husemann2016,x='flux',y='gamma',xerr='ferr',yerr='gerr',color_n='date',marker_n='ins')    \n",
    "    "
   ]
  },
  {
   "cell_type": "code",
   "execution_count": null,
   "metadata": {
    "collapsed": true
   },
   "outputs": [],
   "source": []
  },
  {
   "cell_type": "code",
   "execution_count": null,
   "metadata": {
    "ExecuteTime": {
     "end_time": "2019-09-30T10:07:32.179336Z",
     "start_time": "2019-09-30T10:07:32.161764Z"
    },
    "collapsed": true
   },
   "outputs": [],
   "source": [
    "import os,sys\n",
    "\n",
    "\n",
    "def get_file_list(pwdpath):\n",
    "    dirname=os.listdir(pwdpath)\n",
    "    dirname_select=[]\n",
    "    dirs=[]\n",
    "    for i in dirname:\n",
    "        if i.endswith('.png') or i.endswith('.html'):\n",
    "            dirname_select.append(i)\n",
    "        if os.path.isdir(os.path.join(pwdpath,i)):\n",
    "            dirs.append(i)\n",
    "            \n",
    "    return dirname_select,dirs\n",
    "\n",
    "pwdpath='/Users/brettlv/blog/brettlv.github.io/pythoncode/Mrk1018'"
   ]
  },
  {
   "cell_type": "code",
   "execution_count": null,
   "metadata": {
    "ExecuteTime": {
     "end_time": "2019-09-30T10:07:46.859769Z",
     "start_time": "2019-09-30T10:07:46.855911Z"
    },
    "collapsed": true
   },
   "outputs": [],
   "source": [
    "dirname_select,dirs=get_file_list(pwdpath)"
   ]
  },
  {
   "cell_type": "code",
   "execution_count": null,
   "metadata": {
    "ExecuteTime": {
     "end_time": "2019-09-30T10:07:47.266016Z",
     "start_time": "2019-09-30T10:07:47.261903Z"
    },
    "collapsed": false
   },
   "outputs": [],
   "source": [
    "dirname_select,dirs"
   ]
  },
  {
   "cell_type": "code",
   "execution_count": null,
   "metadata": {
    "collapsed": true
   },
   "outputs": [],
   "source": []
  },
  {
   "cell_type": "code",
   "execution_count": 85,
   "metadata": {
    "ExecuteTime": {
     "end_time": "2020-07-21T11:07:23.078469Z",
     "start_time": "2020-07-21T11:07:23.050730Z"
    },
    "collapsed": true
   },
   "outputs": [],
   "source": [
    "test='Test statistic : Chi-Squared                  121.87     using 124 bins.'"
   ]
  },
  {
   "cell_type": "code",
   "execution_count": 101,
   "metadata": {
    "ExecuteTime": {
     "end_time": "2020-07-21T11:09:24.902385Z",
     "start_time": "2020-07-21T11:09:24.899148Z"
    },
    "collapsed": false
   },
   "outputs": [],
   "source": [
    "import re\n",
    "bins=re.split(r\"\\s+\",test.split(\"using\")[1])[1]"
   ]
  },
  {
   "cell_type": "code",
   "execution_count": 100,
   "metadata": {
    "ExecuteTime": {
     "end_time": "2020-07-21T11:09:12.533308Z",
     "start_time": "2020-07-21T11:09:12.528199Z"
    },
    "collapsed": false
   },
   "outputs": [
    {
     "data": {
      "text/plain": [
       "['', '124', 'bins.']"
      ]
     },
     "execution_count": 100,
     "metadata": {},
     "output_type": "execute_result"
    }
   ],
   "source": [
    "re.split(r\"\\s+\",test.split(\"using\")[1])"
   ]
  },
  {
   "cell_type": "code",
   "execution_count": 97,
   "metadata": {
    "ExecuteTime": {
     "end_time": "2020-07-21T11:08:51.253529Z",
     "start_time": "2020-07-21T11:08:51.246975Z"
    },
    "collapsed": false
   },
   "outputs": [
    {
     "data": {
      "text/plain": [
       "''"
      ]
     },
     "execution_count": 97,
     "metadata": {},
     "output_type": "execute_result"
    }
   ],
   "source": [
    "bins"
   ]
  },
  {
   "cell_type": "code",
   "execution_count": 98,
   "metadata": {
    "ExecuteTime": {
     "end_time": "2020-07-21T11:09:00.667717Z",
     "start_time": "2020-07-21T11:09:00.660643Z"
    },
    "collapsed": false
   },
   "outputs": [
    {
     "data": {
      "text/plain": [
       "'Test statistic : Chi-Squared                  121.87     '"
      ]
     },
     "execution_count": 98,
     "metadata": {},
     "output_type": "execute_result"
    }
   ],
   "source": [
    "test.split(\"using \")[0]"
   ]
  },
  {
   "cell_type": "code",
   "execution_count": 102,
   "metadata": {
    "ExecuteTime": {
     "end_time": "2020-07-21T11:09:55.781753Z",
     "start_time": "2020-07-21T11:09:55.776858Z"
    },
    "collapsed": false
   },
   "outputs": [
    {
     "data": {
      "text/plain": [
       "'121.87'"
      ]
     },
     "execution_count": 102,
     "metadata": {},
     "output_type": "execute_result"
    }
   ],
   "source": [
    "re.split(r\"\\s+\",test.split(\"using\")[0])[-2]"
   ]
  },
  {
   "cell_type": "code",
   "execution_count": 103,
   "metadata": {
    "ExecuteTime": {
     "end_time": "2020-07-21T11:32:28.599303Z",
     "start_time": "2020-07-21T11:32:28.580907Z"
    },
    "collapsed": false
   },
   "outputs": [
    {
     "data": {
      "text/plain": [
       "9.034414246950011e-13"
      ]
     },
     "execution_count": 103,
     "metadata": {},
     "output_type": "execute_result"
    }
   ],
   "source": [
    "10**(-12.0441)"
   ]
  },
  {
   "cell_type": "code",
   "execution_count": 104,
   "metadata": {
    "ExecuteTime": {
     "end_time": "2020-07-22T14:30:41.865642Z",
     "start_time": "2020-07-22T14:30:41.801101Z"
    },
    "collapsed": false
   },
   "outputs": [
    {
     "data": {
      "text/plain": [
       "6.231606189458353e-12"
      ]
     },
     "execution_count": 104,
     "metadata": {},
     "output_type": "execute_result"
    }
   ],
   "source": [
    "10**(-11.2054)"
   ]
  },
  {
   "cell_type": "code",
   "execution_count": 105,
   "metadata": {
    "ExecuteTime": {
     "end_time": "2020-07-22T14:58:08.511385Z",
     "start_time": "2020-07-22T14:58:08.489420Z"
    },
    "collapsed": false
   },
   "outputs": [
    {
     "data": {
      "text/plain": [
       "9.332543007969923e-12"
      ]
     },
     "execution_count": 105,
     "metadata": {},
     "output_type": "execute_result"
    }
   ],
   "source": [
    "10**(-11.03)"
   ]
  },
  {
   "cell_type": "code",
   "execution_count": 4,
   "metadata": {
    "ExecuteTime": {
     "end_time": "2020-07-23T16:17:07.633818Z",
     "start_time": "2020-07-23T16:17:07.621760Z"
    },
    "collapsed": false
   },
   "outputs": [
    {
     "data": {
      "text/plain": [
       "6.0255958607435685e-12"
      ]
     },
     "execution_count": 4,
     "metadata": {},
     "output_type": "execute_result"
    }
   ],
   "source": [
    "10**-11.22"
   ]
  },
  {
   "cell_type": "code",
   "execution_count": 12,
   "metadata": {
    "ExecuteTime": {
     "end_time": "2020-07-23T16:59:35.733591Z",
     "start_time": "2020-07-23T16:59:35.728689Z"
    },
    "collapsed": false
   },
   "outputs": [
    {
     "data": {
      "text/plain": [
       "8.912509381337441e-12"
      ]
     },
     "execution_count": 12,
     "metadata": {},
     "output_type": "execute_result"
    }
   ],
   "source": [
    "10**-11.05"
   ]
  },
  {
   "cell_type": "code",
   "execution_count": null,
   "metadata": {
    "collapsed": true
   },
   "outputs": [],
   "source": []
  }
 ],
 "metadata": {
  "kernelspec": {
   "display_name": "Python 3",
   "language": "python",
   "name": "python3"
  },
  "language_info": {
   "codemirror_mode": {
    "name": "ipython",
    "version": 3
   },
   "file_extension": ".py",
   "mimetype": "text/x-python",
   "name": "python",
   "nbconvert_exporter": "python",
   "pygments_lexer": "ipython3",
   "version": "3.6.0"
  },
  "latex_envs": {
   "LaTeX_envs_menu_present": true,
   "autocomplete": true,
   "bibliofile": "biblio.bib",
   "cite_by": "apalike",
   "current_citInitial": 1,
   "eqLabelWithNumbers": true,
   "eqNumInitial": 1,
   "hotkeys": {
    "equation": "Ctrl-E",
    "itemize": "Ctrl-I"
   },
   "labels_anchors": false,
   "latex_user_defs": false,
   "report_style_numbering": false,
   "user_envs_cfg": false
  },
  "toc": {
   "nav_menu": {},
   "number_sections": true,
   "sideBar": true,
   "skip_h1_title": false,
   "toc_cell": false,
   "toc_position": {
    "height": "444px",
    "left": "0px",
    "right": "1043px",
    "top": "115px",
    "width": "212px"
   },
   "toc_section_display": "block",
   "toc_window_display": true
  }
 },
 "nbformat": 4,
 "nbformat_minor": 2
}
