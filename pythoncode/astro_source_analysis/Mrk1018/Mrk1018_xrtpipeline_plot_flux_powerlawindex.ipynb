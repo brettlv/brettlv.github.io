{
 "cells": [
  {
   "cell_type": "markdown",
   "metadata": {},
   "source": [
    "export HEADAS=/Users/brettlv/src_heasoft/heasoft-6.25/x86_64-apple-darwin16.7.0/  \n",
    ". $HEADAS/headas-init.sh  \n",
    "source /Users/brettlv/src_heasoft/heasoft-6.25/CALDB/software/tools/caldbinit.sh  \n",
    "\n"
   ]
  },
  {
   "cell_type": "code",
   "execution_count": null,
   "metadata": {
    "collapsed": true
   },
   "outputs": [],
   "source": [
    "os.system('export'+' HEADAS=/Users/brettlv/src_heasoft/heasoft-6.25/x86_64-apple-darwin16.7.0/')\n",
    "os.system('.'+' $HEADAS/headas-init.sh')\n",
    "os.system('source'+' /Users/brettlv/src_heasoft/heasoft-6.25/CALDB/software/tools/caldbinit.sh')"
   ]
  },
  {
   "cell_type": "code",
   "execution_count": null,
   "metadata": {
    "collapsed": true
   },
   "outputs": [],
   "source": [
    "python3 pipe0xrtpipeline.py# xrtpipeline only once\n",
    "python3 remove.py #remove files\n",
    "\n",
    "python3 pipe1xselectpipeline.py \n",
    "#select src/bkg get spectrum and lc \n",
    "#<para_xselect.txt >xselext_log.log\n",
    "\n",
    "python3 pipe2xrtmkarfpipeline.py \n",
    "# mkarf \n",
    "# <para_arf.txt  >arf_log.log\n",
    "\n",
    "python3 pipe3grpphapipelineminbin.py\n",
    "# copy rmf file and group \n",
    "#<para_grpphamin%d.txt \n",
    "\n",
    "\n",
    "python3 pipe3grpless85.py\n",
    "# copy rmf file and group \n",
    "#<para_grppha.txt \n",
    "#> %s/src_min%d.pi\n",
    "\n",
    "\n",
    "python3 xspecminbin.py  # xspex fit > fit.txt\n",
    "#<%s/para_xfitmin%d.txt\n",
    "#>%s/fitmin%d.txt\n",
    "\n"
   ]
  },
  {
   "cell_type": "code",
   "execution_count": null,
   "metadata": {
    "collapsed": true
   },
   "outputs": [],
   "source": []
  },
  {
   "cell_type": "markdown",
   "metadata": {},
   "source": [
    "import os\n",
    "import shutil\n",
    "os.remove(path)   #删除文件\n",
    "os.removedirs(path)   #删除空文件夹\n",
    "shutil.rmtree(path)    #递归删除文件夹"
   ]
  },
  {
   "cell_type": "markdown",
   "metadata": {},
   "source": [
    "# set up axis"
   ]
  },
  {
   "cell_type": "code",
   "execution_count": 2,
   "metadata": {
    "ExecuteTime": {
     "end_time": "2019-08-22T09:46:36.765665Z",
     "start_time": "2019-08-22T09:46:35.968626Z"
    },
    "collapsed": true
   },
   "outputs": [],
   "source": [
    "import numpy as np\n",
    "import matplotlib.pyplot as plt\n",
    "import matplotlib.ticker as ticker\n",
    "\n",
    "\n",
    "# Setup a plot such that only the bottom spine is shown\n",
    "def setup(ax):\n",
    "    #ax.spines['right'].set_color('none')\n",
    "    #ax.spines['left'].set_color('none')\n",
    "    #ax.yaxis.set_major_locator(ticker.NullLocator())\n",
    "    #ax.yaxis.set_major_locator(ticker.LogLocator(base=10.0, numticks=15))\n",
    "    \n",
    "    #ax.spines['top'].set_color('none')\n",
    "    ax.xaxis.set_ticks_position('bottom')\n",
    "    ax.tick_params(which='major', width=1.00)\n",
    "    ax.tick_params(which='major', length=5)\n",
    "    ax.tick_params(which='minor', width=0.75)\n",
    "    ax.tick_params(which='minor', length=2.5)\n",
    "    #ax.patch.set_alpha(0.9)"
   ]
  },
  {
   "cell_type": "markdown",
   "metadata": {},
   "source": [
    "# plot_counts_rate"
   ]
  },
  {
   "cell_type": "code",
   "execution_count": 3,
   "metadata": {
    "ExecuteTime": {
     "end_time": "2019-08-22T09:46:47.499507Z",
     "start_time": "2019-08-22T09:46:46.777334Z"
    },
    "collapsed": false
   },
   "outputs": [],
   "source": [
    "import os\n",
    "import sys\n",
    "import getopt\n",
    "from shutil import copyfile\n",
    "import pandas as pandas\n",
    "from dateutil.parser import parse\n",
    "import matplotlib.pyplot as plt\n",
    "from datetime import datetime\n",
    "import matplotlib\n",
    "#matplotlib.use('MacOSX')\n",
    "import pandas as pd\n",
    "\n",
    "dataxrt=pd.read_excel('/Users/brettlv/Downloads/vla_archival_survey.xlsx',sheet_name='Sheet9')\n",
    "obsidsortbyexp=[]\n",
    "for i in dataxrt['obsid']:\n",
    "    obsidsortbyexp.append('000%d'%i)\n",
    "obsidssort=obsidsortbyexp[0:26]\n",
    "\n",
    "\n",
    "\n",
    "def get_obsids(path):\n",
    "    dirname=os.listdir(path)\n",
    "    obsids=[]\n",
    "    for i in dirname:\n",
    "        if i.isdigit():\n",
    "            obsids.append(i)\n",
    "    obsids.sort()        \n",
    "    return obsids\n",
    "\n"
   ]
  },
  {
   "cell_type": "code",
   "execution_count": 2,
   "metadata": {
    "ExecuteTime": {
     "end_time": "2019-05-21T11:57:51.653639Z",
     "start_time": "2019-05-21T11:57:51.650057Z"
    },
    "collapsed": false
   },
   "outputs": [],
   "source": []
  },
  {
   "cell_type": "code",
   "execution_count": 3,
   "metadata": {
    "ExecuteTime": {
     "end_time": "2019-08-11T09:43:55.422002Z",
     "start_time": "2019-08-11T09:43:54.705381Z"
    },
    "collapsed": false
   },
   "outputs": [
    {
     "ename": "NameError",
     "evalue": "name 'dates' is not defined",
     "output_type": "error",
     "traceback": [
      "\u001b[0;31m---------------------------------------------------------------------------\u001b[0m",
      "\u001b[0;31mNameError\u001b[0m                                 Traceback (most recent call last)",
      "\u001b[0;32m<ipython-input-3-c53bbd0553e6>\u001b[0m in \u001b[0;36m<module>\u001b[0;34m()\u001b[0m\n\u001b[0;32m----> 1\u001b[0;31m \u001b[0mlen\u001b[0m\u001b[0;34m(\u001b[0m\u001b[0mdates\u001b[0m\u001b[0;34m)\u001b[0m\u001b[0;34m,\u001b[0m\u001b[0mlen\u001b[0m\u001b[0;34m(\u001b[0m\u001b[0mcounts\u001b[0m\u001b[0;34m)\u001b[0m\u001b[0;34m\u001b[0m\u001b[0m\n\u001b[0m",
      "\u001b[0;31mNameError\u001b[0m: name 'dates' is not defined"
     ]
    }
   ],
   "source": [
    "len(dates),len(counts)"
   ]
  },
  {
   "cell_type": "markdown",
   "metadata": {},
   "source": [
    "## plot"
   ]
  },
  {
   "cell_type": "markdown",
   "metadata": {},
   "source": [
    "import pandas as pd\n",
    "plt.plot(dates,counts,'.',label='xrt')\n",
    "plt.legend()\n",
    "plt.yscale('log')\n",
    "plt.title('radius 35arcsec')\n",
    "plt.show()# radius 70\" 142\" 260\" all\n",
    "\n",
    "obsids=get_obsids(filepath)\n",
    "outfile=\"radius35.npz\"\n",
    "np.savez(outfile, dates,counts,obsids)"
   ]
  },
  {
   "cell_type": "code",
   "execution_count": 101,
   "metadata": {
    "ExecuteTime": {
     "end_time": "2019-05-21T14:59:29.349147Z",
     "start_time": "2019-05-21T14:59:29.340455Z"
    },
    "collapsed": false
   },
   "outputs": [],
   "source": []
  },
  {
   "cell_type": "code",
   "execution_count": null,
   "metadata": {
    "collapsed": true
   },
   "outputs": [],
   "source": []
  },
  {
   "cell_type": "code",
   "execution_count": null,
   "metadata": {
    "collapsed": true
   },
   "outputs": [],
   "source": [
    "使用re.split()较为方便\n",
    "re.split(pattern, string, maxsplit=0) #原型\n",
    "re.split()的使用有两种方式：\n",
    "re.split(\"[ !]\", text) #[]里边放的是需要的分隔符，中间没有空格和逗号\n",
    "re.split(\",|!\", text) #中间用 | 隔开\n",
    "当是多个单一分隔符时，适合用第一种，第二种需要考虑某些字符需要转义使用\n",
    "re.split(\"[;,?]\")\n",
    "re.split(\";|,|\\?\", text)\n",
    "当多个长短不一的分隔符时，适合第二种\n",
    "re.split(r\";|,|\\?\\s|;\\s|,\\s\", text) \n",
    "\n",
    "--------------------- \n",
    "作者：Hot_D \n",
    "来源：CSDN \n",
    "原文：https://blog.csdn.net/shidamowang/article/details/80254476 \n",
    "版权声明：本文为博主原创文章，转载请附上博文链接！\n",
    "\n",
    "re.split(r\";|,|\\?\\s|;\\s|,\\s\", text) "
   ]
  },
  {
   "cell_type": "markdown",
   "metadata": {
    "ExecuteTime": {
     "end_time": "2019-05-21T11:56:55.971008Z",
     "start_time": "2019-05-21T11:56:55.595985Z"
    }
   },
   "source": [
    "import pandas as pd\n",
    "\n",
    "plt.plot(dates,counts,'.',label='xrt')\n",
    "plt.yscale('log')\n",
    "plt.title('radius 70arcsec')\n",
    "plt.legend()\n",
    "plt.show()# radius 70\" 142\" 260\" all"
   ]
  },
  {
   "cell_type": "code",
   "execution_count": null,
   "metadata": {
    "ExecuteTime": {
     "end_time": "2019-05-21T11:53:47.683437Z",
     "start_time": "2019-05-21T11:53:47.674879Z"
    },
    "collapsed": true
   },
   "outputs": [],
   "source": []
  },
  {
   "cell_type": "code",
   "execution_count": null,
   "metadata": {
    "collapsed": true
   },
   "outputs": [],
   "source": []
  },
  {
   "cell_type": "code",
   "execution_count": null,
   "metadata": {
    "collapsed": true
   },
   "outputs": [],
   "source": []
  },
  {
   "cell_type": "markdown",
   "metadata": {
    "ExecuteTime": {
     "end_time": "2019-05-20T15:46:10.870489Z",
     "start_time": "2019-05-20T15:46:10.745441Z"
    }
   },
   "source": [
    "outfile=\"radius20.npz\"\n",
    "obsids=get_obsids(filepath)\n",
    "np.savez(outfile, dates,counts,obsids)\n",
    "npzfile=np.load(\"radius20.npz\")\n",
    "npzfile['arr_0'],npzfile['arr_1'],npzfile['arr_2']"
   ]
  },
  {
   "cell_type": "code",
   "execution_count": null,
   "metadata": {
    "ExecuteTime": {
     "end_time": "2019-05-20T15:43:43.967154Z",
     "start_time": "2019-05-20T15:43:43.268390Z"
    },
    "collapsed": false
   },
   "outputs": [],
   "source": [
    "import pandas as pd\n",
    "plt.plot(dates,counts,'.',label='xrt')\n",
    "plt.legend()\n",
    "plt.yscale('log')\n",
    "plt.show()# radius 25\" >1000s"
   ]
  },
  {
   "cell_type": "code",
   "execution_count": null,
   "metadata": {
    "collapsed": true
   },
   "outputs": [],
   "source": []
  },
  {
   "cell_type": "markdown",
   "metadata": {
    "ExecuteTime": {
     "end_time": "2019-05-17T15:08:32.263526Z",
     "start_time": "2019-05-17T15:08:32.259452Z"
    }
   },
   "source": [
    "# get_xspec"
   ]
  },
  {
   "cell_type": "markdown",
   "metadata": {},
   "source": [
    "## get_fit_log"
   ]
  },
  {
   "cell_type": "code",
   "execution_count": 4,
   "metadata": {
    "ExecuteTime": {
     "end_time": "2019-08-11T09:44:43.214078Z",
     "start_time": "2019-08-11T09:44:43.105670Z"
    },
    "collapsed": false
   },
   "outputs": [],
   "source": [
    "# encoding: UTF-8\n",
    "import re\n",
    "regex = re.compile('\\s+')\n",
    "# 将正则表达式编译成Pattern对象\n",
    "\n",
    "filepath='/Volumes/Brettlv_G_m/Mrk1018/swift/'\n",
    "\n",
    "def get_fit_log(path,obs_id,mincount):\n",
    "    fit_filepath=path+obs_id+'_xrt/fitmin%d.txt'%mincount\n",
    "    fit_file_dir=os.path.join(path,obs_id+'_xrt')\n",
    "\n",
    "    with open(fit_filepath,'r') as f:\n",
    "        content = f.readlines()\n",
    "        info=content[-25:]\n",
    "        for i_,line in enumerate(info):\n",
    "            #print(i_,\":\",line)\n",
    "            if line.find('Ill-formed')>=0: \n",
    "                #print(\"wrong\",obs_id)\n",
    "                return 0\n",
    "            elif line.find('PhoIndex')>=0:\n",
    "                #re.split(r\";|,|\\?\\s|;\\s|,\\s\", text) \n",
    "                powerlawindex=re.split(r\"\\s+\",line.split(\"+/-\")[0])[-2]\n",
    "                indexerr=re.split(r\"\\s+\",line.split(\"+/-\")[1])[-2]\n",
    "                #print(line.split(\"+/-\"))\n",
    "                #print(\"plindex: \",powerlawindex,\"\\nindexerr\",indexerr)            \n",
    "            elif line.find('Test statistic : Chi-Squared')>=0:\n",
    "                bins=re.split(r\"\\s+\",line.split(\"using \")[1])[0]\n",
    "                #print('bins: ',bins)\n",
    "                if int(bins)<6: \n",
    "                    #print('bins <6 ')\n",
    "                    return 0\n",
    "                    \n",
    "            elif line.find('Reduced chi-squared')>=0:              \n",
    "                rechied=re.split(r\"\\s+\",line.split(\"for\")[0])[-2]\n",
    "                #print(\"rechi\",rechied) \n",
    "                \n",
    "            elif line.find('Model Flux')>=0:\n",
    "                flux=line.split(\"ergs/cm^2/s) \")[0].split('(')[-1]  \n",
    "                #print('flux: ',flux,'ergs/cm^2/s')\n",
    "                \n",
    "            elif line.find('Error range')>=0: \n",
    "                fluxrangeleft=line.split(\"(\")[1].split(\")\")[0].split(\" \")[0]\n",
    "                fluxrangeright=line.split(\"(\")[1].split(\")\")[0].split(\" \")[2]\n",
    "                #print('fluxleft:',fluxrangeleft)\n",
    "                #print('fluxright:',fluxrangeright)  \n",
    "                print('{0:>3},{1:>3},{2:>4},{3:>10},{4:>10},{5:>10},{6:>10},{7:>14}'.format(powerlawindex,indexerr,bins,rechied,flux,fluxrangeleft,fluxrangeright,obs_id))\n",
    "                return powerlawindex,indexerr,bins,rechied,flux,fluxrangeleft,fluxrangeright,obs_id\n",
    "              \n",
    " \n",
    "    "
   ]
  },
  {
   "cell_type": "code",
   "execution_count": null,
   "metadata": {
    "collapsed": true
   },
   "outputs": [],
   "source": [
    "import pandas as pd\n",
    "import numpy as np\n",
    "import plotly_express as px"
   ]
  },
  {
   "cell_type": "markdown",
   "metadata": {},
   "source": [
    "## get obsids"
   ]
  },
  {
   "cell_type": "code",
   "execution_count": 6,
   "metadata": {
    "ExecuteTime": {
     "end_time": "2019-08-11T09:45:08.582255Z",
     "start_time": "2019-08-11T09:45:08.578034Z"
    },
    "collapsed": true
   },
   "outputs": [],
   "source": [
    "import numpy as np"
   ]
  },
  {
   "cell_type": "code",
   "execution_count": 7,
   "metadata": {
    "ExecuteTime": {
     "end_time": "2019-08-11T09:45:10.340066Z",
     "start_time": "2019-08-11T09:45:09.423711Z"
    },
    "collapsed": false
   },
   "outputs": [],
   "source": [
    "datamore85=np.loadtxt('%sxspecdatamorethan85.txt'%filepath)\n",
    "obsidsmore85=[]\n",
    "for i in datamore85[:,2]:\n",
    "    obsidsmore85.append('000%d'%i)\n",
    "dataless85=np.loadtxt('%sxspecdatalessthan85.txt'%filepath)\n",
    "obsidsless85=[]\n",
    "for i in dataless85[:,2]:\n",
    "    obsidsless85.append('000%d'%i)\n",
    "   "
   ]
  },
  {
   "cell_type": "markdown",
   "metadata": {},
   "source": [
    "### more 85 fitlog"
   ]
  },
  {
   "cell_type": "code",
   "execution_count": 8,
   "metadata": {
    "ExecuteTime": {
     "end_time": "2019-08-11T09:45:21.771222Z",
     "start_time": "2019-08-11T09:45:20.407562Z"
    },
    "collapsed": false
   },
   "outputs": [
    {
     "name": "stdout",
     "output_type": "stream",
     "text": [
      "plindex,indexerr,bins,   rechied,      flux,fluxrangeleft,fluxrangeright,        obs_id\n",
      "1.92181,5.25573E-02,  95,    0.9570,8.8364e-12 , 8.376e-12, 9.392e-12,   00030955001\n",
      "1.98472,4.98155E-02, 103,    1.0284,7.3349e-12 , 6.853e-12, 7.753e-12,   00030955002\n",
      "1.95257,4.49852E-02, 128,   0.90176,8.5321e-12 , 7.975e-12, 9.092e-12,   00030955003\n",
      "1.91460,3.41111E-02, 185,   0.92019,1.1048e-11 , 1.064e-11, 1.151e-11,   00035166001\n",
      "1.78246,4.21717E-02, 138,    1.0147,9.3293e-12 , 8.894e-12, 9.755e-12,   00035776001\n",
      "1.44149,0.258049,   8,      1.13,2.4478e-12 , 1.877e-12, 3.694e-12,   00035776006\n",
      "1.94941,0.242180,   7,     0.650,1.791e-12 , 1.309e-12, 2.150e-12,   00035776007\n",
      "1.44693,0.110132,  26,     1.112,7.2958e-12 , 6.487e-12, 8.334e-12,   00049654002\n",
      "1.47261,0.293637,   7,     0.852,1.6556e-12 , 1.351e-12, 2.336e-12,   00049654004\n",
      "1.75090,0.149375,  18,    0.7352,1.4852e-12 , 1.273e-12, 1.749e-12,   00080898001\n",
      "1.48634,0.145265,  16,    0.8277,2.0118e-12 , 1.659e-12, 2.309e-12,   00080898002\n",
      "1.70458,0.165897,  12,     1.060,1.7062e-12 , 1.439e-12, 2.070e-12,   00088207001\n",
      "1.58406,0.182248,  10,     1.263,1.8753e-12 , 1.527e-12, 2.287e-12,   00088207002\n",
      "1.69857,0.165295,  13,     0.595,2.0032e-12 , 1.597e-12, 2.367e-12,   00088207003\n"
     ]
    }
   ],
   "source": [
    "def get_all_log(path,obsids,mincount):   \n",
    "    for i in range(0,len(obsids)):\n",
    "        get_fit_log(path,obsids[i],mincount)\n",
    "\n",
    "print('{0:>3},{1:>3},{2:>4},{3:>10},{4:>10},{5:>10},{6:>10},{7:>14}'.format('plindex','indexerr','bins','rechied','flux','fluxrangeleft','fluxrangeright','obs_id'))\n",
    "              \n",
    "logfiles=get_all_log(filepath,obsidsmore85,mincount=10)        "
   ]
  },
  {
   "cell_type": "markdown",
   "metadata": {},
   "source": [
    "### less85 fitlog"
   ]
  },
  {
   "cell_type": "code",
   "execution_count": 9,
   "metadata": {
    "ExecuteTime": {
     "end_time": "2019-08-11T09:45:59.057470Z",
     "start_time": "2019-08-11T09:45:56.666844Z"
    },
    "collapsed": false,
    "scrolled": false
   },
   "outputs": [
    {
     "name": "stdout",
     "output_type": "stream",
     "text": [
      "2.09374,0.290116,  39,    0.8372,9.0856e-13 , 5.906e-13, 1.322e-12,   00035776002\n",
      "1.55219,0.268242,  34,    3.4910,1.4318e-12 , 9.443e-13, 1.907e-12,   00035776003\n",
      "1.47861,0.217306,  48,     1.186,2.0811e-12 , 1.649e-12, 2.656e-12,   00035776004\n",
      "1.66221,0.221918,  49,     1.211,1.5246e-12 , 1.321e-12, 2.129e-12,   00035776005\n",
      "1.96505,0.252630,  41,    0.9942,1.757e-12 , 1.221e-12, 2.399e-12,   00035776008\n",
      "1.45751,0.315916,  44,    0.4379,2.2316e-12 , 1.512e-12, 3.384e-12,   00035776010\n",
      "1.35048,0.229157,  45,    0.7534,2.1969e-12 , 1.698e-12, 3.195e-12,   00035776011\n",
      "2.16213,0.471816,  15,     1.214,1.4662e-12 , 8.406e-13, 2.603e-12,   00035776012\n",
      "1.41130,0.191328,  60,    0.7105,2.6049e-12 , 2.063e-12, 3.237e-12,   00035776014\n",
      "1.61463,0.293360,  31,    0.7624,2.9075e-12 , 1.875e-12, 3.950e-12,   00035776015\n",
      "1.21632,0.198632,  55,    0.8879,3.5151e-12 , 2.597e-12, 4.277e-12,   00035776016\n",
      "1.52258,0.229014,  42,    0.8768,1.7963e-12 , 1.287e-12, 2.261e-12,   00035776017\n",
      "1.76055,0.200152,  51,    0.8260,1.7125e-12 , 1.298e-12, 2.287e-12,   00035776018\n",
      "1.62685,0.281494,  36,    0.6679,1.4032e-12 , 1.049e-12, 2.052e-12,   00035776019\n",
      "1.59129,0.270932,  37,    0.9128,1.3815e-12 , 9.706e-13, 1.677e-12,   00035776020\n",
      "1.21036,0.216056,  40,    0.7033,2.4869e-12 , 1.867e-12, 3.199e-12,   00035776021\n",
      "1.66911,0.244705,  47,    0.7379,1.7408e-12 , 1.230e-12, 2.141e-12,   00035776023\n",
      "1.84795,0.226005,  45,     1.115,1.5059e-12 , 1.147e-12, 2.055e-12,   00035776024\n",
      "0.854508,0.432218,  14,     0.570,2.4259e-12 , 1.343e-12, 3.223e-12,   00035776025\n",
      "1.68703,0.229063,  46,    0.8935,2.0172e-12 , 1.503e-12, 2.618e-12,   00035776026\n",
      "1.84578,0.221495,  44,     1.188,1.5416e-12 , 1.145e-12, 1.888e-12,   00035776027\n",
      "1.93043,0.240194,  55,    0.7629,1.3398e-12 , 1.015e-12, 1.937e-12,   00035776029\n",
      "1.49211,0.424039,  23,    0.9214,1.6074e-12 , 8.233e-13, 2.516e-12,   00035776031\n",
      "1.20849,0.280115,  32,     1.361,1.9119e-12 , 1.544e-12, 2.697e-12,   00035776032\n",
      "1.81299,0.258629,  40,    0.7203,1.207e-12 , 8.746e-13, 1.545e-12,   00035776033\n",
      "1.10611,0.217475,  48,     1.001,3.0212e-12 , 2.295e-12, 4.020e-12,   00035776034\n",
      "1.41222,0.240150,  44,     1.132,1.9064e-12 , 1.421e-12, 2.424e-12,   00035776035\n",
      "1.14312,0.264060,  31,    0.7235,2.2038e-12 , 1.614e-12, 2.892e-12,   00035776036\n",
      "1.96939,0.375133,  25,    0.4806,6.6715e-13 , 4.492e-13, 1.029e-12,   00035776037\n",
      "1.65973,0.493776,  17,     0.439,9.2564e-13 , 5.032e-13, 1.643e-12,   00035776038\n",
      "1.39326,0.301308,  30,    0.9038,1.4698e-12 , 1.076e-12, 1.995e-12,   00035776039\n",
      "1.30970,0.241719,  33,     1.204,1.5824e-12 , 1.120e-12, 1.966e-12,   00035776040\n",
      "1.63806,0.279056,  32,    0.7957,1.4661e-12 , 1.008e-12, 2.090e-12,   00035776041\n",
      "1.91754,0.221538,  53,    0.9537,1.2445e-12 , 9.211e-13, 1.730e-12,   00035776042\n",
      "1.85145,0.287176,  30,    0.6252,8.9666e-13 , 6.076e-13, 1.325e-12,   00035776043\n",
      "1.08256,0.323530,  33,    0.8638,2.4623e-12 , 1.518e-12, 4.027e-12,   00035776044\n",
      "1.58877,0.370465,  27,    0.7596,9.8114e-13 , 6.839e-13, 1.665e-12,   00035776045\n",
      "1.55927,0.287858,  34,    0.8178,1.4986e-12 , 1.031e-12, 1.995e-12,   00035776046\n",
      "1.57749,0.246457,  40,    0.8662,1.4626e-12 , 1.120e-12, 1.888e-12,   00035776047\n",
      "1.65582,0.381932,  24,    0.9277,1.3961e-12 , 9.669e-13, 2.333e-12,   00035776049\n",
      "1.61549,0.275028,  31,    0.7438,1.1011e-12 , 7.457e-13, 1.544e-12,   00035776050\n",
      "1.65287,0.268995,  50,    0.6659,1.3514e-12 , 9.626e-13, 1.940e-12,   00035776051\n",
      "1.13211,0.278214,  32,     1.181,1.9823e-12 , 1.343e-12, 2.721e-12,   00035776052\n",
      "1.68055,0.273335,  37,     1.764,1.4606e-12 , 1.015e-12, 1.923e-12,   00035776054\n",
      "0.950627,0.291106,  20,    0.8517,2.0436e-12 , 1.330e-12, 2.945e-12,   00035776055\n",
      "1.25967,0.240671,  43,    0.8103,2.3057e-12 , 1.639e-12, 3.088e-12,   00035776056\n",
      "2.11586,0.426646,  23,     1.068,5.394e-13 , 2.925e-13, 8.183e-13,   00035776057\n",
      "1.35421,0.448335,  30,    0.8545,1.8747e-12 , 1.194e-12, 3.102e-12,   00035776058\n",
      "1.82620,0.218677,  53,     1.406,2.5878e-12 , 1.822e-12, 3.177e-12,   00049654001\n"
     ]
    }
   ],
   "source": [
    "logfiles=get_all_log(filepath,obsidsless85,mincount=1)  "
   ]
  },
  {
   "cell_type": "code",
   "execution_count": 10,
   "metadata": {
    "ExecuteTime": {
     "end_time": "2019-08-11T09:46:10.505704Z",
     "start_time": "2019-08-11T09:46:10.497293Z"
    },
    "collapsed": false
   },
   "outputs": [
    {
     "data": {
      "text/plain": [
       "'/Volumes/Brettlv_G_m/Mrk1018/swift/'"
      ]
     },
     "execution_count": 10,
     "metadata": {},
     "output_type": "execute_result"
    }
   ],
   "source": [
    "filepath"
   ]
  },
  {
   "cell_type": "code",
   "execution_count": 432,
   "metadata": {
    "ExecuteTime": {
     "end_time": "2019-06-04T10:02:32.384357Z",
     "start_time": "2019-06-04T10:02:32.089944Z"
    },
    "collapsed": false
   },
   "outputs": [
    {
     "name": "stdout",
     "output_type": "stream",
     "text": [
      "0.449 1491  00030955001   3322.1925133689842\r\n",
      "0.442 1565  00030955002   3537.5226039783\r\n",
      "0.486 2008  00030955003   4129.138391939132\r\n",
      "0.632 3301  00035166001   5223.101265822785\r\n",
      "0.428 2070  00035776001   4831.9327731092435\r\n",
      "0.070 96    00035776006   1371.487349457834\r\n",
      "0.091 87    00035776007   957.7911354779047\r\n",
      "0.227 306   00049654002   1346.2384513858337\r\n",
      "0.041 89    00049654004   2146.233240088743\r\n",
      "0.058 219   00080898001   3758.4307264583226\r\n",
      "0.062 191   00080898002   3081.49008599132\r\n",
      "0.069 136   00088207001   1968.2190512026395\r\n",
      "0.069 118   00088207002   1714.991643049197\r\n",
      "0.074 152   00088207003   2048.4623055982315"
     ]
    }
   ],
   "source": [
    "cat /Volumes/Brettlv_G_m/Mrk1018/swift/xspecdatamorethan85.txt"
   ]
  },
  {
   "cell_type": "markdown",
   "metadata": {},
   "source": [
    "## get fitdata"
   ]
  },
  {
   "cell_type": "code",
   "execution_count": 4,
   "metadata": {
    "ExecuteTime": {
     "end_time": "2019-08-22T09:47:12.232703Z",
     "start_time": "2019-08-22T09:47:11.423768Z"
    },
    "collapsed": false
   },
   "outputs": [
    {
     "ename": "NameError",
     "evalue": "name 'filepath' is not defined",
     "output_type": "error",
     "traceback": [
      "\u001b[0;31m---------------------------------------------------------------------------\u001b[0m",
      "\u001b[0;31mNameError\u001b[0m                                 Traceback (most recent call last)",
      "\u001b[0;32m<ipython-input-4-8ab4580c4b0f>\u001b[0m in \u001b[0;36m<module>\u001b[0;34m()\u001b[0m\n\u001b[1;32m      1\u001b[0m \u001b[0;32mimport\u001b[0m \u001b[0mpandas\u001b[0m \u001b[0;32mas\u001b[0m \u001b[0mpd\u001b[0m\u001b[0;34m\u001b[0m\u001b[0m\n\u001b[1;32m      2\u001b[0m \u001b[0;32mimport\u001b[0m \u001b[0mnumpy\u001b[0m \u001b[0;32mas\u001b[0m \u001b[0mnp\u001b[0m\u001b[0;34m\u001b[0m\u001b[0m\n\u001b[0;32m----> 3\u001b[0;31m \u001b[0mfitmore85\u001b[0m\u001b[0;34m=\u001b[0m\u001b[0mnp\u001b[0m\u001b[0;34m.\u001b[0m\u001b[0mloadtxt\u001b[0m\u001b[0;34m(\u001b[0m\u001b[0;34m'%sxspecfitdatamorethan85.txt'\u001b[0m\u001b[0;34m%\u001b[0m\u001b[0mfilepath\u001b[0m\u001b[0;34m,\u001b[0m\u001b[0mdelimiter\u001b[0m\u001b[0;34m=\u001b[0m\u001b[0;34m','\u001b[0m\u001b[0;34m)\u001b[0m\u001b[0;34m\u001b[0m\u001b[0m\n\u001b[0m\u001b[1;32m      4\u001b[0m \u001b[0mfitless85\u001b[0m\u001b[0;34m=\u001b[0m\u001b[0mnp\u001b[0m\u001b[0;34m.\u001b[0m\u001b[0mloadtxt\u001b[0m\u001b[0;34m(\u001b[0m\u001b[0;34m'%sxspecfitdatalessthan85.txt'\u001b[0m\u001b[0;34m%\u001b[0m\u001b[0mfilepath\u001b[0m\u001b[0;34m,\u001b[0m\u001b[0mdelimiter\u001b[0m\u001b[0;34m=\u001b[0m\u001b[0;34m','\u001b[0m\u001b[0;34m)\u001b[0m\u001b[0;34m\u001b[0m\u001b[0m\n",
      "\u001b[0;31mNameError\u001b[0m: name 'filepath' is not defined"
     ]
    }
   ],
   "source": [
    "import pandas as pd\n",
    "import numpy as np\n",
    "fitmore85=np.loadtxt('%sxspecfitdatamorethan85.txt'%filepath,delimiter=',')\n",
    "fitless85=np.loadtxt('%sxspecfitdatalessthan85.txt'%filepath,delimiter=',')"
   ]
  },
  {
   "cell_type": "markdown",
   "metadata": {},
   "source": [
    "## Index vs flux"
   ]
  },
  {
   "cell_type": "code",
   "execution_count": 12,
   "metadata": {
    "ExecuteTime": {
     "end_time": "2019-08-11T09:48:34.897382Z",
     "start_time": "2019-08-11T09:48:34.182369Z"
    },
    "collapsed": false
   },
   "outputs": [
    {
     "data": {
      "image/png": "[encoded data removed]",
      "text/plain": [
       "<Figure size 1152x648 with 1 Axes>"
      ]
     },
     "metadata": {},
     "output_type": "display_data"
    }
   ],
   "source": [
    "import matplotlib.pyplot as plt\n",
    "import numpy as np\n",
    "%matplotlib inline \n",
    "x=fitmore85[:,4]\n",
    "y=fitmore85[:,0]\n",
    "z=fitmore85[:,7]\n",
    "fig=plt.figure(figsize=(16,9))\n",
    "ax=plt.subplot(111)\n",
    "plt.errorbar(fitmore85[:,4],fitmore85[:,0],yerr=fitmore85[:,1],fmt='.r')\n",
    "plt.title(\"Flux and Powerlawindex\")\n",
    "for i,(_x,_y) in enumerate(zip(x,y)):\n",
    "    plt.text(_x,_y,int(z[i]),color='red',fontsize=10)\n",
    "#plt.figtext(0,0,'Fig words',color='green',ha='center')\n",
    "plt.show()"
   ]
  },
  {
   "cell_type": "code",
   "execution_count": 441,
   "metadata": {
    "ExecuteTime": {
     "end_time": "2019-06-04T10:08:13.703277Z",
     "start_time": "2019-06-04T10:08:13.247388Z"
    },
    "collapsed": false
   },
   "outputs": [
    {
     "data": {
      "image/png": "[encoded data removed]",
      "text/plain": [
       "<Figure size 1152x648 with 1 Axes>"
      ]
     },
     "metadata": {},
     "output_type": "display_data"
    }
   ],
   "source": [
    "fig=plt.figure(figsize=(16,9))\n",
    "ax=plt.subplot(111)\n",
    "plt.errorbar(fitmore85[:,4],fitmore85[:,0],yerr=fitmore85[:,1],fmt='.r')\n",
    "plt.title(\"Flux and Powerlawindex\")\n",
    "plt.show()"
   ]
  },
  {
   "cell_type": "markdown",
   "metadata": {},
   "source": [
    "## vlatime"
   ]
  },
  {
   "cell_type": "code",
   "execution_count": 13,
   "metadata": {
    "ExecuteTime": {
     "end_time": "2019-08-11T09:49:13.082828Z",
     "start_time": "2019-08-11T09:49:13.057168Z"
    },
    "collapsed": true
   },
   "outputs": [],
   "source": [
    "dfvla = pd.read_csv (\"Mrkvla.csv\" , encoding = \"utf-8\")"
   ]
  },
  {
   "cell_type": "code",
   "execution_count": 14,
   "metadata": {
    "ExecuteTime": {
     "end_time": "2019-08-11T09:49:14.962415Z",
     "start_time": "2019-08-11T09:49:14.956287Z"
    },
    "collapsed": false
   },
   "outputs": [],
   "source": [
    "dfvlatime=pd.to_datetime(dfvla['vlatime'])"
   ]
  },
  {
   "cell_type": "code",
   "execution_count": 15,
   "metadata": {
    "ExecuteTime": {
     "end_time": "2019-08-11T09:49:17.084777Z",
     "start_time": "2019-08-11T09:49:17.079794Z"
    },
    "collapsed": false
   },
   "outputs": [
    {
     "data": {
      "text/plain": [
       "93"
      ]
     },
     "execution_count": 15,
     "metadata": {},
     "output_type": "execute_result"
    }
   ],
   "source": [
    "len(dfvlatime)"
   ]
  },
  {
   "cell_type": "markdown",
   "metadata": {},
   "source": [
    "## plot_countrate_fornewids "
   ]
  },
  {
   "cell_type": "code",
   "execution_count": 34,
   "metadata": {
    "ExecuteTime": {
     "end_time": "2019-08-11T10:03:27.578874Z",
     "start_time": "2019-08-11T10:03:26.413666Z"
    },
    "collapsed": false
   },
   "outputs": [
    {
     "data": {
      "image/png": "[encoded data removed]",
      "text/plain": [
       "<Figure size 1152x648 with 1 Axes>"
      ]
     },
     "metadata": {},
     "output_type": "display_data"
    }
   ],
   "source": [
    "def plot_count_fornewids(filepath,newobsids):\n",
    "    dates=[]\n",
    "    countrates=[]\n",
    "    countsall=[]\n",
    "    for i in range(0,len(newobsids)):\n",
    "        date,countrate,counts=get_xselect_log(filepath,newobsids[i])\n",
    "        date=parse(date)\n",
    "        dates.append(date)\n",
    "        countrates.append(countrate)\n",
    "        countsall.append(counts)\n",
    "    #print(dates)\n",
    "    #print(counts)\n",
    "    return dates,countrates,countsall\n",
    "#return dates,counts\n",
    "obsidsnew000=[]\n",
    "newobsids=fitmore85[:,7]\n",
    "for i in newobsids:\n",
    "    obsidsnew000.append('000%d'%i)  \n",
    "\n",
    "filepath='/Volumes/Brettlv_G_m/Mrk1018/swift/' \n",
    "dates,countrates,countsall=plot_count_fornewids(filepath,obsidsnew000)\n",
    "\n",
    "dates=np.array(dates)\n",
    "countrates=np.array(countrates)\n",
    "countsall=np.array(countsall)\n",
    "\n",
    "\n",
    "obsids=get_obsids(filepath)\n",
    "\n",
    "countsnew=[]\n",
    "for i in countrates:\n",
    "    countsnew.append(float(i))\n",
    "\n",
    "fig=plt.figure(figsize=(16,9))\n",
    "ax=plt.subplot(111)\n",
    "plt.plot(dates,countsnew,'.r')\n",
    "plt.vlines(dfvlatime,ymin=0,ymax=1,colors='g',alpha='0.1')\n",
    "\n",
    "for i,(_x,_y) in enumerate(zip(dates,countsnew)):\n",
    "    plt.text(_x,_y,int(newobsids[i]),color='red',fontsize=10)\n",
    "#plt.figtext(0,0,'Fig words',color='green',ha='center')\n",
    "\n",
    "plt.yscale('log')\n",
    "plt.title(\"countsrate vs time\")\n",
    "plt.tight_layout()\n",
    "plt.show() "
   ]
  },
  {
   "cell_type": "code",
   "execution_count": 35,
   "metadata": {
    "ExecuteTime": {
     "end_time": "2019-08-11T10:03:30.338529Z",
     "start_time": "2019-08-11T10:03:30.333218Z"
    },
    "collapsed": false
   },
   "outputs": [
    {
     "data": {
      "text/plain": [
       "array([datetime.datetime(2007, 6, 20, 7, 31, 59),\n",
       "       datetime.datetime(2007, 6, 22, 20, 8, 46),\n",
       "       datetime.datetime(2007, 6, 24, 17, 11, 4),\n",
       "       datetime.datetime(2005, 8, 5, 8, 17, 4),\n",
       "       datetime.datetime(2008, 6, 11, 3, 57, 43),\n",
       "       datetime.datetime(2018, 9, 7, 11, 56, 58),\n",
       "       datetime.datetime(2018, 9, 8, 21, 23, 54),\n",
       "       datetime.datetime(2013, 6, 7, 2, 14),\n",
       "       datetime.datetime(2014, 6, 9, 16, 34, 12),\n",
       "       datetime.datetime(2016, 2, 11, 0, 32, 10),\n",
       "       datetime.datetime(2016, 2, 16, 0, 11, 28),\n",
       "       datetime.datetime(2018, 1, 6, 12, 53, 26),\n",
       "       datetime.datetime(2018, 2, 24, 13, 20, 56),\n",
       "       datetime.datetime(2018, 7, 17, 21, 8, 31)], dtype=object)"
      ]
     },
     "execution_count": 35,
     "metadata": {},
     "output_type": "execute_result"
    }
   ],
   "source": [
    "dates"
   ]
  },
  {
   "cell_type": "code",
   "execution_count": 443,
   "metadata": {
    "ExecuteTime": {
     "end_time": "2019-06-04T10:11:10.326359Z",
     "start_time": "2019-06-04T10:11:10.311837Z"
    },
    "collapsed": false
   },
   "outputs": [
    {
     "name": "stdout",
     "output_type": "stream",
     "text": [
      "num time          countrate  counts obsid        \n",
      "0.449 1491  00030955001   3322.1925133689842\n",
      "0.442 1565  00030955002   3537.5226039783\n",
      "0.486 2008  00030955003   4129.138391939132\n",
      "0.632 3301  00035166001   5223.101265822785\n",
      "0.428 2070  00035776001   4831.9327731092435\n",
      "0.070 96    00035776006   1371.487349457834\n",
      "0.091 87    00035776007   957.7911354779047\n",
      "0.227 306   00049654002   1346.2384513858337\n",
      "0.041 89    00049654004   2146.233240088743\n",
      "0.058 219   00080898001   3758.4307264583226\n",
      "0.062 191   00080898002   3081.49008599132\n",
      "0.069 136   00088207001   1968.2190512026395\n",
      "0.069 118   00088207002   1714.991643049197\n",
      "0.074 152   00088207003   2048.4623055982315\n"
     ]
    }
   ],
   "source": [
    "print('{:<3}'.format('num'),'{:<13}'.format('time'),'{:<10}'.format('countrate'),'{:<5}'.format('counts'),'{:<13}'.format('obsid'))\n",
    "for i_,(x_,y_,z_,h_) in enumerate(zip(dates,countrates,countsall,obsidsnew000)):\n",
    "    print('{:.3f}'.format(float(y_)),'{:<5}'.format(z_),'{:<13}'.format(h_),float(z_)/float(y_))"
   ]
  },
  {
   "cell_type": "code",
   "execution_count": 36,
   "metadata": {
    "ExecuteTime": {
     "end_time": "2019-08-11T10:03:34.776088Z",
     "start_time": "2019-08-11T10:03:34.763371Z"
    },
    "collapsed": true
   },
   "outputs": [],
   "source": [
    "head = [\"xrttime\" , \"obsids\" , \"countrates\"]\n",
    "l = [dates,obsidsnew000,countrates]\n",
    "df = pd.DataFrame(l , index = head).T\n",
    "df.to_csv(\"Mrkxrtmore85.csv\" , encoding = \"utf-8\")"
   ]
  },
  {
   "cell_type": "code",
   "execution_count": 37,
   "metadata": {
    "ExecuteTime": {
     "end_time": "2019-08-11T10:03:37.463457Z",
     "start_time": "2019-08-11T10:03:37.453110Z"
    },
    "collapsed": true
   },
   "outputs": [],
   "source": [
    "dfxrt= pd.read_csv (\"Mrkxrtmore85.csv\" , encoding = \"utf-8\")"
   ]
  },
  {
   "cell_type": "code",
   "execution_count": 38,
   "metadata": {
    "ExecuteTime": {
     "end_time": "2019-08-11T10:03:38.207738Z",
     "start_time": "2019-08-11T10:03:38.191146Z"
    },
    "collapsed": false
   },
   "outputs": [
    {
     "data": {
      "text/html": [
       "<div>\n",
       "<style scoped>\n",
       "    .dataframe tbody tr th:only-of-type {\n",
       "        vertical-align: middle;\n",
       "    }\n",
       "\n",
       "    .dataframe tbody tr th {\n",
       "        vertical-align: top;\n",
       "    }\n",
       "\n",
       "    .dataframe thead th {\n",
       "        text-align: right;\n",
       "    }\n",
       "</style>\n",
       "<table border=\"1\" class=\"dataframe\">\n",
       "  <thead>\n",
       "    <tr style=\"text-align: right;\">\n",
       "      <th></th>\n",
       "      <th>Unnamed: 0</th>\n",
       "      <th>xrttime</th>\n",
       "      <th>obsids</th>\n",
       "      <th>countrates</th>\n",
       "    </tr>\n",
       "  </thead>\n",
       "  <tbody>\n",
       "    <tr>\n",
       "      <th>0</th>\n",
       "      <td>0</td>\n",
       "      <td>2007-06-20 07:31:59</td>\n",
       "      <td>30955001</td>\n",
       "      <td>0.448800</td>\n",
       "    </tr>\n",
       "    <tr>\n",
       "      <th>1</th>\n",
       "      <td>1</td>\n",
       "      <td>2007-06-22 20:08:46</td>\n",
       "      <td>30955002</td>\n",
       "      <td>0.442400</td>\n",
       "    </tr>\n",
       "    <tr>\n",
       "      <th>2</th>\n",
       "      <td>2</td>\n",
       "      <td>2007-06-24 17:11:04</td>\n",
       "      <td>30955003</td>\n",
       "      <td>0.486300</td>\n",
       "    </tr>\n",
       "    <tr>\n",
       "      <th>3</th>\n",
       "      <td>3</td>\n",
       "      <td>2005-08-05 08:17:04</td>\n",
       "      <td>35166001</td>\n",
       "      <td>0.632000</td>\n",
       "    </tr>\n",
       "    <tr>\n",
       "      <th>4</th>\n",
       "      <td>4</td>\n",
       "      <td>2008-06-11 03:57:43</td>\n",
       "      <td>35776001</td>\n",
       "      <td>0.428400</td>\n",
       "    </tr>\n",
       "    <tr>\n",
       "      <th>5</th>\n",
       "      <td>5</td>\n",
       "      <td>2018-09-07 11:56:58</td>\n",
       "      <td>35776006</td>\n",
       "      <td>0.069997</td>\n",
       "    </tr>\n",
       "    <tr>\n",
       "      <th>6</th>\n",
       "      <td>6</td>\n",
       "      <td>2018-09-08 21:23:54</td>\n",
       "      <td>35776007</td>\n",
       "      <td>0.090834</td>\n",
       "    </tr>\n",
       "    <tr>\n",
       "      <th>7</th>\n",
       "      <td>7</td>\n",
       "      <td>2013-06-07 02:14:00</td>\n",
       "      <td>49654002</td>\n",
       "      <td>0.227300</td>\n",
       "    </tr>\n",
       "    <tr>\n",
       "      <th>8</th>\n",
       "      <td>8</td>\n",
       "      <td>2014-06-09 16:34:12</td>\n",
       "      <td>49654004</td>\n",
       "      <td>0.041468</td>\n",
       "    </tr>\n",
       "    <tr>\n",
       "      <th>9</th>\n",
       "      <td>9</td>\n",
       "      <td>2016-02-11 00:32:10</td>\n",
       "      <td>80898001</td>\n",
       "      <td>0.058269</td>\n",
       "    </tr>\n",
       "    <tr>\n",
       "      <th>10</th>\n",
       "      <td>10</td>\n",
       "      <td>2016-02-16 00:11:28</td>\n",
       "      <td>80898002</td>\n",
       "      <td>0.061983</td>\n",
       "    </tr>\n",
       "    <tr>\n",
       "      <th>11</th>\n",
       "      <td>11</td>\n",
       "      <td>2018-01-06 12:53:26</td>\n",
       "      <td>88207001</td>\n",
       "      <td>0.069098</td>\n",
       "    </tr>\n",
       "    <tr>\n",
       "      <th>12</th>\n",
       "      <td>12</td>\n",
       "      <td>2018-02-24 13:20:56</td>\n",
       "      <td>88207002</td>\n",
       "      <td>0.068805</td>\n",
       "    </tr>\n",
       "    <tr>\n",
       "      <th>13</th>\n",
       "      <td>13</td>\n",
       "      <td>2018-07-17 21:08:31</td>\n",
       "      <td>88207003</td>\n",
       "      <td>0.074202</td>\n",
       "    </tr>\n",
       "  </tbody>\n",
       "</table>\n",
       "</div>"
      ],
      "text/plain": [
       "    Unnamed: 0              xrttime    obsids  countrates\n",
       "0            0  2007-06-20 07:31:59  30955001    0.448800\n",
       "1            1  2007-06-22 20:08:46  30955002    0.442400\n",
       "2            2  2007-06-24 17:11:04  30955003    0.486300\n",
       "3            3  2005-08-05 08:17:04  35166001    0.632000\n",
       "4            4  2008-06-11 03:57:43  35776001    0.428400\n",
       "5            5  2018-09-07 11:56:58  35776006    0.069997\n",
       "6            6  2018-09-08 21:23:54  35776007    0.090834\n",
       "7            7  2013-06-07 02:14:00  49654002    0.227300\n",
       "8            8  2014-06-09 16:34:12  49654004    0.041468\n",
       "9            9  2016-02-11 00:32:10  80898001    0.058269\n",
       "10          10  2016-02-16 00:11:28  80898002    0.061983\n",
       "11          11  2018-01-06 12:53:26  88207001    0.069098\n",
       "12          12  2018-02-24 13:20:56  88207002    0.068805\n",
       "13          13  2018-07-17 21:08:31  88207003    0.074202"
      ]
     },
     "execution_count": 38,
     "metadata": {},
     "output_type": "execute_result"
    }
   ],
   "source": [
    "dfxrt"
   ]
  },
  {
   "cell_type": "code",
   "execution_count": 26,
   "metadata": {
    "ExecuteTime": {
     "end_time": "2019-08-11T09:58:33.584598Z",
     "start_time": "2019-08-11T09:58:33.534881Z"
    },
    "collapsed": false
   },
   "outputs": [
    {
     "name": "stdout",
     "output_type": "stream",
     "text": [
      "num time          countrate  counts obsid        \n",
      "0   2007-06-20 07:31:59 0.449 1491  00030955001  \n",
      "1   2007-06-22 20:08:46 0.442 1565  00030955002  \n",
      "2   2007-06-24 17:11:04 0.486 2008  00030955003  \n",
      "3   2005-08-05 08:17:04 0.632 3301  00035166001  \n",
      "4   2008-06-11 03:57:43 0.428 2070  00035776001  \n",
      "5   2018-09-07 11:56:58 0.070 96    00035776006  \n",
      "6   2018-09-08 21:23:54 0.091 87    00035776007  \n",
      "7   2013-06-07 02:14:00 0.227 306   00049654002  \n",
      "8   2014-06-09 16:34:12 0.041 89    00049654004  \n",
      "9   2016-02-11 00:32:10 0.058 219   00080898001  \n",
      "10  2016-02-16 00:11:28 0.062 191   00080898002  \n",
      "11  2018-01-06 12:53:26 0.069 136   00088207001  \n",
      "12  2018-02-24 13:20:56 0.069 118   00088207002  \n",
      "13  2018-07-17 21:08:31 0.074 152   00088207003  \n"
     ]
    }
   ],
   "source": [
    "print('{:<3}'.format('num'),'{:<13}'.format('time'),'{:<10}'.format('countrate'),'{:<5}'.format('counts'),'{:<13}'.format('obsid'))\n",
    "for i_,(x_,y_,z_,h_) in enumerate(zip(dates,countrates,countsall,obsidsnew000)):\n",
    "    print('{:<3}'.format(i_),x_,'{:.3f}'.format(float(y_)),'{:<5}'.format(z_),'{:<13}'.format(h_))"
   ]
  },
  {
   "cell_type": "code",
   "execution_count": 445,
   "metadata": {
    "ExecuteTime": {
     "end_time": "2019-06-04T10:12:21.052192Z",
     "start_time": "2019-06-04T10:12:19.546665Z"
    },
    "collapsed": false
   },
   "outputs": [
    {
     "data": {
      "image/png": "[encoded data removed]",
      "text/plain": [
       "<Figure size 1152x648 with 1 Axes>"
      ]
     },
     "metadata": {},
     "output_type": "display_data"
    }
   ],
   "source": [
    "fig=plt.figure(figsize=(16,9))\n",
    "ax=plt.subplot(111)\n",
    "plt.plot(dates,fitmore85[:,4],'.')\n",
    "plt.title(\"Fit Flux 2-10keV vs time\")\n",
    "plt.yscale('log')\n",
    "plt.show()"
   ]
  },
  {
   "cell_type": "markdown",
   "metadata": {},
   "source": [
    "## fitflux >85"
   ]
  },
  {
   "cell_type": "code",
   "execution_count": 1,
   "metadata": {
    "ExecuteTime": {
     "end_time": "2019-08-22T09:46:22.985133Z",
     "start_time": "2019-08-22T09:46:22.641434Z"
    },
    "collapsed": false
   },
   "outputs": [
    {
     "ename": "NameError",
     "evalue": "name 'plt' is not defined",
     "output_type": "error",
     "traceback": [
      "\u001b[0;31m---------------------------------------------------------------------------\u001b[0m",
      "\u001b[0;31mNameError\u001b[0m                                 Traceback (most recent call last)",
      "\u001b[0;32m<ipython-input-1-a8e07ad03cd0>\u001b[0m in \u001b[0;36m<module>\u001b[0;34m()\u001b[0m\n\u001b[0;32m----> 1\u001b[0;31m \u001b[0mfig\u001b[0m\u001b[0;34m=\u001b[0m\u001b[0mplt\u001b[0m\u001b[0;34m.\u001b[0m\u001b[0mfigure\u001b[0m\u001b[0;34m(\u001b[0m\u001b[0mfigsize\u001b[0m\u001b[0;34m=\u001b[0m\u001b[0;34m(\u001b[0m\u001b[0;36m16\u001b[0m\u001b[0;34m,\u001b[0m\u001b[0;36m9\u001b[0m\u001b[0;34m)\u001b[0m\u001b[0;34m)\u001b[0m\u001b[0;34m\u001b[0m\u001b[0m\n\u001b[0m\u001b[1;32m      2\u001b[0m \u001b[0max\u001b[0m\u001b[0;34m=\u001b[0m\u001b[0mplt\u001b[0m\u001b[0;34m.\u001b[0m\u001b[0msubplot\u001b[0m\u001b[0;34m(\u001b[0m\u001b[0;36m111\u001b[0m\u001b[0;34m)\u001b[0m\u001b[0;34m\u001b[0m\u001b[0m\n\u001b[1;32m      3\u001b[0m \u001b[0;34m\u001b[0m\u001b[0m\n\u001b[1;32m      4\u001b[0m \u001b[0;32mfor\u001b[0m \u001b[0mi\u001b[0m\u001b[0;34m,\u001b[0m\u001b[0;34m(\u001b[0m\u001b[0m_x\u001b[0m\u001b[0;34m,\u001b[0m\u001b[0m_y\u001b[0m\u001b[0;34m)\u001b[0m \u001b[0;32min\u001b[0m \u001b[0menumerate\u001b[0m\u001b[0;34m(\u001b[0m\u001b[0mzip\u001b[0m\u001b[0;34m(\u001b[0m\u001b[0mdates\u001b[0m\u001b[0;34m,\u001b[0m\u001b[0mfitmore85\u001b[0m\u001b[0;34m[\u001b[0m\u001b[0;34m:\u001b[0m\u001b[0;34m,\u001b[0m\u001b[0;36m4\u001b[0m\u001b[0;34m]\u001b[0m\u001b[0;34m)\u001b[0m\u001b[0;34m)\u001b[0m\u001b[0;34m:\u001b[0m\u001b[0;34m\u001b[0m\u001b[0m\n\u001b[1;32m      5\u001b[0m     \u001b[0mplt\u001b[0m\u001b[0;34m.\u001b[0m\u001b[0mtext\u001b[0m\u001b[0;34m(\u001b[0m\u001b[0m_x\u001b[0m\u001b[0;34m,\u001b[0m\u001b[0m_y\u001b[0m\u001b[0;34m,\u001b[0m\u001b[0mint\u001b[0m\u001b[0;34m(\u001b[0m\u001b[0mnewobsids\u001b[0m\u001b[0;34m[\u001b[0m\u001b[0mi\u001b[0m\u001b[0;34m]\u001b[0m\u001b[0;34m)\u001b[0m\u001b[0;34m,\u001b[0m\u001b[0mcolor\u001b[0m\u001b[0;34m=\u001b[0m\u001b[0;34m'red'\u001b[0m\u001b[0;34m,\u001b[0m\u001b[0mfontsize\u001b[0m\u001b[0;34m=\u001b[0m\u001b[0;36m10\u001b[0m\u001b[0;34m)\u001b[0m\u001b[0;34m\u001b[0m\u001b[0m\n",
      "\u001b[0;31mNameError\u001b[0m: name 'plt' is not defined"
     ]
    }
   ],
   "source": [
    "fig=plt.figure(figsize=(16,9))\n",
    "ax=plt.subplot(111)\n",
    "\n",
    "for i,(_x,_y) in enumerate(zip(dates,fitmore85[:,4])):\n",
    "    plt.text(_x,_y,int(newobsids[i]),color='red',fontsize=10)\n",
    "    \n",
    "plt.plot(dates,data[:,4],'.')\n",
    "plt.title(\"Fit Flux 2-10keV vs time\")\n",
    "plt.yscale('log')\n",
    "plt.show()"
   ]
  },
  {
   "cell_type": "code",
   "execution_count": null,
   "metadata": {
    "collapsed": true
   },
   "outputs": [],
   "source": []
  },
  {
   "cell_type": "code",
   "execution_count": null,
   "metadata": {
    "collapsed": true
   },
   "outputs": [],
   "source": []
  },
  {
   "cell_type": "code",
   "execution_count": null,
   "metadata": {
    "collapsed": true
   },
   "outputs": [],
   "source": []
  },
  {
   "cell_type": "markdown",
   "metadata": {},
   "source": [
    "## get_xselect_log"
   ]
  },
  {
   "cell_type": "code",
   "execution_count": 18,
   "metadata": {
    "ExecuteTime": {
     "end_time": "2019-08-11T09:50:32.079593Z",
     "start_time": "2019-08-11T09:50:32.065277Z"
    },
    "collapsed": false
   },
   "outputs": [],
   "source": [
    "def get_xselect_log(path,obs_id):\n",
    "    xselect_filepath=path+obs_id+'_xrt/xselext_log.log'\n",
    "    xse_file_dir=os.path.join(path,obs_id+'_xrt')\n",
    "    date=[]\n",
    "    countsrateline=[]\n",
    "    counts=[]\n",
    "    with open(xselect_filepath,'r') as f:\n",
    "        content = f.readlines()\n",
    "        for i in content:\n",
    "            if i.find('%s'%obs_id)>=0:\n",
    "                date.append(i)\n",
    "            elif i.find('counts/sec')>=0:\n",
    "                countsrateline.append(i)\n",
    "                    #print(date[2].split(' ')[-2])\n",
    "    countsstring=countsrateline[0].split(' ')\n",
    "    #print(obs_id,countsstring)\n",
    "    for i_,cr in enumerate(countsstring):\n",
    "        if cr=='for':\n",
    "            countrate=countsstring[i_+1]\n",
    "            counts=countsstring[i_-2]\n",
    "            \n",
    "    return date[2].split(' ')[-2],countrate,counts\n",
    "                                                           "
   ]
  },
  {
   "cell_type": "markdown",
   "metadata": {
    "ExecuteTime": {
     "end_time": "2019-05-21T22:08:05.702807Z",
     "start_time": "2019-05-21T22:08:05.669027Z"
    }
   },
   "source": [
    "get_xselect_log(filepath,obsids[0])"
   ]
  },
  {
   "cell_type": "code",
   "execution_count": 447,
   "metadata": {
    "ExecuteTime": {
     "end_time": "2019-06-04T10:15:17.772608Z",
     "start_time": "2019-06-04T10:15:17.753145Z"
    },
    "collapsed": false
   },
   "outputs": [
    {
     "name": "stdout",
     "output_type": "stream",
     "text": [
      "num time          countrate  counts obsid        \n",
      "0   2007-06-20 07:31:59 0.449 1491  00030955001   3322.1925133689842\n",
      "1   2007-06-22 20:08:46 0.442 1565  00030955002   3537.5226039783\n",
      "2   2007-06-24 17:11:04 0.486 2008  00030955003   4129.138391939132\n",
      "3   2005-08-05 08:17:04 0.632 3301  00035166001   5223.101265822785\n",
      "4   2008-06-11 03:57:43 0.428 2070  00035776001   4831.9327731092435\n",
      "5   2018-09-07 11:56:58 0.070 96    00035776006   1371.487349457834\n",
      "6   2018-09-08 21:23:54 0.091 87    00035776007   957.7911354779047\n",
      "7   2013-06-07 02:14:00 0.227 306   00049654002   1346.2384513858337\n",
      "8   2014-06-09 16:34:12 0.041 89    00049654004   2146.233240088743\n",
      "9   2016-02-11 00:32:10 0.058 219   00080898001   3758.4307264583226\n",
      "10  2016-02-16 00:11:28 0.062 191   00080898002   3081.49008599132\n",
      "11  2018-01-06 12:53:26 0.069 136   00088207001   1968.2190512026395\n",
      "12  2018-02-24 13:20:56 0.069 118   00088207002   1714.991643049197\n",
      "13  2018-07-17 21:08:31 0.074 152   00088207003   2048.4623055982315\n"
     ]
    }
   ],
   "source": [
    "## For counts>80\n",
    "print('{:<3}'.format('num'),'{:<13}'.format('time'),'{:<10}'.format('countrate'),'{:<5}'.format('counts'),'{:<13}'.format('obsid'))\n",
    "for i_,(x_,y_,z_,h_) in enumerate(zip(dates,countrates,countsall,obsidsnew000)):\n",
    "    print('{:<3}'.format(i_),x_,'{:.3f}'.format(float(y_)),'{:<5}'.format(z_),'{:<13}'.format(h_),float(z_)/float(y_))"
   ]
  },
  {
   "cell_type": "markdown",
   "metadata": {},
   "source": [
    "## get_countrate_all"
   ]
  },
  {
   "cell_type": "code",
   "execution_count": 39,
   "metadata": {
    "ExecuteTime": {
     "end_time": "2019-08-11T10:04:07.717440Z",
     "start_time": "2019-08-11T10:04:07.024882Z"
    },
    "collapsed": false
   },
   "outputs": [
    {
     "data": {
      "image/png": "[encoded data removed]",
      "text/plain": [
       "<Figure size 432x288 with 1 Axes>"
      ]
     },
     "metadata": {},
     "output_type": "display_data"
    }
   ],
   "source": [
    "def plot_count(filepath):#all\n",
    "    obsids=get_obsids(filepath)\n",
    "    dates=[]\n",
    "    countrates=[]\n",
    "    countsall=[]\n",
    "    for i in range(0,len(obsids)):\n",
    "        date,countrate,count=get_xselect_log(filepath,obsids[i])\n",
    "        date=parse(date)\n",
    "        dates.append(date)\n",
    "        countrates.append(countrate)\n",
    "        countsall.append(count)\n",
    "    #print(dates)\n",
    "    #print(counts)\n",
    "    return dates,countrates,countsall\n",
    "\n",
    "#return dates,counts\n",
    "filepath='/Volumes/Brettlv_G_m/Mrk1018/swift/' \n",
    "dates,countrates,countsall=plot_count(filepath) \n",
    "\n",
    "countsnew=[]\n",
    "for i in countrates:\n",
    "    countsnew.append(float(i))\n",
    "plt.plot(dates,countsnew,'.')\n",
    "plt.yscale('log')\n",
    "plt.title(\"Countsrate vs time\")\n",
    "plt.show()"
   ]
  },
  {
   "cell_type": "code",
   "execution_count": 40,
   "metadata": {
    "ExecuteTime": {
     "end_time": "2019-08-11T10:04:30.573346Z",
     "start_time": "2019-08-11T10:04:30.553270Z"
    },
    "collapsed": true
   },
   "outputs": [],
   "source": [
    "head = [\"xrttime\" , \"obsids\" , \"countrates\"]\n",
    "l = [dates,obsids,countrates]\n",
    "df = pd.DataFrame(l , index = head).T\n",
    "df.to_csv(\"Mrkxrtall.csv\" , encoding = \"utf-8\")"
   ]
  },
  {
   "cell_type": "code",
   "execution_count": 43,
   "metadata": {
    "ExecuteTime": {
     "end_time": "2019-08-11T10:05:39.826446Z",
     "start_time": "2019-08-11T10:05:39.819141Z"
    },
    "collapsed": true
   },
   "outputs": [],
   "source": [
    "dfxrtall= pd.read_csv (\"Mrkxrtall.csv\" , encoding = \"utf-8\")"
   ]
  },
  {
   "cell_type": "code",
   "execution_count": 45,
   "metadata": {
    "ExecuteTime": {
     "end_time": "2019-08-11T10:05:44.183310Z",
     "start_time": "2019-08-11T10:05:44.142740Z"
    },
    "collapsed": false
   },
   "outputs": [
    {
     "data": {
      "text/html": [
       "<div>\n",
       "<style scoped>\n",
       "    .dataframe tbody tr th:only-of-type {\n",
       "        vertical-align: middle;\n",
       "    }\n",
       "\n",
       "    .dataframe tbody tr th {\n",
       "        vertical-align: top;\n",
       "    }\n",
       "\n",
       "    .dataframe thead th {\n",
       "        text-align: right;\n",
       "    }\n",
       "</style>\n",
       "<table border=\"1\" class=\"dataframe\">\n",
       "  <thead>\n",
       "    <tr style=\"text-align: right;\">\n",
       "      <th></th>\n",
       "      <th>Unnamed: 0</th>\n",
       "      <th>xrttime</th>\n",
       "      <th>obsids</th>\n",
       "      <th>countrates</th>\n",
       "    </tr>\n",
       "  </thead>\n",
       "  <tbody>\n",
       "    <tr>\n",
       "      <th>0</th>\n",
       "      <td>0</td>\n",
       "      <td>2007-06-20 07:31:59</td>\n",
       "      <td>30955001</td>\n",
       "      <td>0.448800</td>\n",
       "    </tr>\n",
       "    <tr>\n",
       "      <th>1</th>\n",
       "      <td>1</td>\n",
       "      <td>2007-06-22 20:08:46</td>\n",
       "      <td>30955002</td>\n",
       "      <td>0.442400</td>\n",
       "    </tr>\n",
       "    <tr>\n",
       "      <th>2</th>\n",
       "      <td>2</td>\n",
       "      <td>2007-06-24 17:11:04</td>\n",
       "      <td>30955003</td>\n",
       "      <td>0.486300</td>\n",
       "    </tr>\n",
       "    <tr>\n",
       "      <th>3</th>\n",
       "      <td>3</td>\n",
       "      <td>2005-08-05 08:17:04</td>\n",
       "      <td>35166001</td>\n",
       "      <td>0.632000</td>\n",
       "    </tr>\n",
       "    <tr>\n",
       "      <th>4</th>\n",
       "      <td>4</td>\n",
       "      <td>2008-06-11 03:57:43</td>\n",
       "      <td>35776001</td>\n",
       "      <td>0.428400</td>\n",
       "    </tr>\n",
       "    <tr>\n",
       "      <th>5</th>\n",
       "      <td>5</td>\n",
       "      <td>2018-09-01 18:47:04</td>\n",
       "      <td>35776002</td>\n",
       "      <td>0.049591</td>\n",
       "    </tr>\n",
       "    <tr>\n",
       "      <th>6</th>\n",
       "      <td>6</td>\n",
       "      <td>2018-09-02 07:32:41</td>\n",
       "      <td>35776003</td>\n",
       "      <td>0.049468</td>\n",
       "    </tr>\n",
       "    <tr>\n",
       "      <th>7</th>\n",
       "      <td>7</td>\n",
       "      <td>2018-09-03 23:23:23</td>\n",
       "      <td>35776004</td>\n",
       "      <td>0.064621</td>\n",
       "    </tr>\n",
       "    <tr>\n",
       "      <th>8</th>\n",
       "      <td>8</td>\n",
       "      <td>2018-09-04 00:58:40</td>\n",
       "      <td>35776005</td>\n",
       "      <td>0.054141</td>\n",
       "    </tr>\n",
       "    <tr>\n",
       "      <th>9</th>\n",
       "      <td>9</td>\n",
       "      <td>2018-09-07 11:56:58</td>\n",
       "      <td>35776006</td>\n",
       "      <td>0.069997</td>\n",
       "    </tr>\n",
       "    <tr>\n",
       "      <th>10</th>\n",
       "      <td>10</td>\n",
       "      <td>2018-09-08 21:23:54</td>\n",
       "      <td>35776007</td>\n",
       "      <td>0.090834</td>\n",
       "    </tr>\n",
       "    <tr>\n",
       "      <th>11</th>\n",
       "      <td>11</td>\n",
       "      <td>2018-09-09 05:24:49</td>\n",
       "      <td>35776008</td>\n",
       "      <td>0.091898</td>\n",
       "    </tr>\n",
       "    <tr>\n",
       "      <th>12</th>\n",
       "      <td>12</td>\n",
       "      <td>2018-09-13 14:31:55</td>\n",
       "      <td>35776010</td>\n",
       "      <td>0.052204</td>\n",
       "    </tr>\n",
       "    <tr>\n",
       "      <th>13</th>\n",
       "      <td>13</td>\n",
       "      <td>2018-09-14 22:21:58</td>\n",
       "      <td>35776011</td>\n",
       "      <td>0.058621</td>\n",
       "    </tr>\n",
       "    <tr>\n",
       "      <th>14</th>\n",
       "      <td>14</td>\n",
       "      <td>2018-09-14 16:14:15</td>\n",
       "      <td>35776012</td>\n",
       "      <td>0.034850</td>\n",
       "    </tr>\n",
       "    <tr>\n",
       "      <th>15</th>\n",
       "      <td>15</td>\n",
       "      <td>2018-09-17 23:25:43</td>\n",
       "      <td>35776014</td>\n",
       "      <td>0.077494</td>\n",
       "    </tr>\n",
       "    <tr>\n",
       "      <th>16</th>\n",
       "      <td>16</td>\n",
       "      <td>2018-09-23 19:48:28</td>\n",
       "      <td>35776015</td>\n",
       "      <td>0.036535</td>\n",
       "    </tr>\n",
       "    <tr>\n",
       "      <th>17</th>\n",
       "      <td>17</td>\n",
       "      <td>2018-09-24 19:46:56</td>\n",
       "      <td>35776016</td>\n",
       "      <td>0.075229</td>\n",
       "    </tr>\n",
       "    <tr>\n",
       "      <th>18</th>\n",
       "      <td>18</td>\n",
       "      <td>2018-09-29 00:22:15</td>\n",
       "      <td>35776017</td>\n",
       "      <td>0.053729</td>\n",
       "    </tr>\n",
       "    <tr>\n",
       "      <th>19</th>\n",
       "      <td>19</td>\n",
       "      <td>2018-09-29 20:53:49</td>\n",
       "      <td>35776018</td>\n",
       "      <td>0.067511</td>\n",
       "    </tr>\n",
       "    <tr>\n",
       "      <th>20</th>\n",
       "      <td>20</td>\n",
       "      <td>2018-09-30 17:54:01</td>\n",
       "      <td>35776019</td>\n",
       "      <td>0.049722</td>\n",
       "    </tr>\n",
       "    <tr>\n",
       "      <th>21</th>\n",
       "      <td>21</td>\n",
       "      <td>2018-10-01 07:51:07</td>\n",
       "      <td>35776020</td>\n",
       "      <td>0.046922</td>\n",
       "    </tr>\n",
       "    <tr>\n",
       "      <th>22</th>\n",
       "      <td>22</td>\n",
       "      <td>2018-10-02 14:27:38</td>\n",
       "      <td>35776021</td>\n",
       "      <td>0.049318</td>\n",
       "    </tr>\n",
       "    <tr>\n",
       "      <th>23</th>\n",
       "      <td>23</td>\n",
       "      <td>2018-10-04 03:09:13</td>\n",
       "      <td>35776023</td>\n",
       "      <td>0.060223</td>\n",
       "    </tr>\n",
       "    <tr>\n",
       "      <th>24</th>\n",
       "      <td>24</td>\n",
       "      <td>2018-10-05 07:45:19</td>\n",
       "      <td>35776024</td>\n",
       "      <td>0.062041</td>\n",
       "    </tr>\n",
       "    <tr>\n",
       "      <th>25</th>\n",
       "      <td>25</td>\n",
       "      <td>2018-10-06 21:52:05</td>\n",
       "      <td>35776025</td>\n",
       "      <td>0.023213</td>\n",
       "    </tr>\n",
       "    <tr>\n",
       "      <th>26</th>\n",
       "      <td>26</td>\n",
       "      <td>2018-10-08 01:04:17</td>\n",
       "      <td>35776026</td>\n",
       "      <td>0.074202</td>\n",
       "    </tr>\n",
       "    <tr>\n",
       "      <th>27</th>\n",
       "      <td>27</td>\n",
       "      <td>2018-10-08 21:40:07</td>\n",
       "      <td>35776027</td>\n",
       "      <td>0.057128</td>\n",
       "    </tr>\n",
       "    <tr>\n",
       "      <th>28</th>\n",
       "      <td>28</td>\n",
       "      <td>2018-10-11 18:08:15</td>\n",
       "      <td>35776029</td>\n",
       "      <td>0.063322</td>\n",
       "    </tr>\n",
       "    <tr>\n",
       "      <th>29</th>\n",
       "      <td>29</td>\n",
       "      <td>2018-10-15 21:08:54</td>\n",
       "      <td>35776031</td>\n",
       "      <td>0.027146</td>\n",
       "    </tr>\n",
       "    <tr>\n",
       "      <th>...</th>\n",
       "      <td>...</td>\n",
       "      <td>...</td>\n",
       "      <td>...</td>\n",
       "      <td>...</td>\n",
       "    </tr>\n",
       "    <tr>\n",
       "      <th>33</th>\n",
       "      <td>33</td>\n",
       "      <td>2018-10-22 07:27:36</td>\n",
       "      <td>35776035</td>\n",
       "      <td>0.047583</td>\n",
       "    </tr>\n",
       "    <tr>\n",
       "      <th>34</th>\n",
       "      <td>34</td>\n",
       "      <td>2018-10-26 21:29:50</td>\n",
       "      <td>35776036</td>\n",
       "      <td>0.042584</td>\n",
       "    </tr>\n",
       "    <tr>\n",
       "      <th>35</th>\n",
       "      <td>35</td>\n",
       "      <td>2018-10-27 08:41:00</td>\n",
       "      <td>35776037</td>\n",
       "      <td>0.027642</td>\n",
       "    </tr>\n",
       "    <tr>\n",
       "      <th>36</th>\n",
       "      <td>36</td>\n",
       "      <td>2018-10-29 00:28:14</td>\n",
       "      <td>35776038</td>\n",
       "      <td>0.054197</td>\n",
       "    </tr>\n",
       "    <tr>\n",
       "      <th>37</th>\n",
       "      <td>37</td>\n",
       "      <td>2018-10-29 22:46:30</td>\n",
       "      <td>35776039</td>\n",
       "      <td>0.034593</td>\n",
       "    </tr>\n",
       "    <tr>\n",
       "      <th>38</th>\n",
       "      <td>38</td>\n",
       "      <td>2018-10-31 22:50:53</td>\n",
       "      <td>35776040</td>\n",
       "      <td>0.039884</td>\n",
       "    </tr>\n",
       "    <tr>\n",
       "      <th>39</th>\n",
       "      <td>39</td>\n",
       "      <td>2018-11-01 14:45:46</td>\n",
       "      <td>35776041</td>\n",
       "      <td>0.039366</td>\n",
       "    </tr>\n",
       "    <tr>\n",
       "      <th>40</th>\n",
       "      <td>40</td>\n",
       "      <td>2018-11-02 16:30:27</td>\n",
       "      <td>35776042</td>\n",
       "      <td>0.059345</td>\n",
       "    </tr>\n",
       "    <tr>\n",
       "      <th>41</th>\n",
       "      <td>41</td>\n",
       "      <td>2018-11-03 17:48:10</td>\n",
       "      <td>35776043</td>\n",
       "      <td>0.036258</td>\n",
       "    </tr>\n",
       "    <tr>\n",
       "      <th>42</th>\n",
       "      <td>42</td>\n",
       "      <td>2018-11-04 11:08:39</td>\n",
       "      <td>35776044</td>\n",
       "      <td>0.040658</td>\n",
       "    </tr>\n",
       "    <tr>\n",
       "      <th>43</th>\n",
       "      <td>43</td>\n",
       "      <td>2018-11-05 20:30:30</td>\n",
       "      <td>35776045</td>\n",
       "      <td>0.031638</td>\n",
       "    </tr>\n",
       "    <tr>\n",
       "      <th>44</th>\n",
       "      <td>44</td>\n",
       "      <td>2018-11-06 15:46:23</td>\n",
       "      <td>35776046</td>\n",
       "      <td>0.037101</td>\n",
       "    </tr>\n",
       "    <tr>\n",
       "      <th>45</th>\n",
       "      <td>45</td>\n",
       "      <td>2018-11-07 22:14:17</td>\n",
       "      <td>35776047</td>\n",
       "      <td>0.045208</td>\n",
       "    </tr>\n",
       "    <tr>\n",
       "      <th>46</th>\n",
       "      <td>46</td>\n",
       "      <td>2018-11-11 18:42:08</td>\n",
       "      <td>35776049</td>\n",
       "      <td>0.046922</td>\n",
       "    </tr>\n",
       "    <tr>\n",
       "      <th>47</th>\n",
       "      <td>47</td>\n",
       "      <td>2018-11-12 12:04:31</td>\n",
       "      <td>35776050</td>\n",
       "      <td>0.039680</td>\n",
       "    </tr>\n",
       "    <tr>\n",
       "      <th>48</th>\n",
       "      <td>48</td>\n",
       "      <td>2018-11-14 10:21:38</td>\n",
       "      <td>35776051</td>\n",
       "      <td>0.047986</td>\n",
       "    </tr>\n",
       "    <tr>\n",
       "      <th>49</th>\n",
       "      <td>49</td>\n",
       "      <td>2018-11-15 10:03:34</td>\n",
       "      <td>35776052</td>\n",
       "      <td>0.047777</td>\n",
       "    </tr>\n",
       "    <tr>\n",
       "      <th>50</th>\n",
       "      <td>50</td>\n",
       "      <td>2018-11-17 10:10:40</td>\n",
       "      <td>35776054</td>\n",
       "      <td>0.047434</td>\n",
       "    </tr>\n",
       "    <tr>\n",
       "      <th>51</th>\n",
       "      <td>51</td>\n",
       "      <td>2018-11-19 03:21:03</td>\n",
       "      <td>35776055</td>\n",
       "      <td>0.037101</td>\n",
       "    </tr>\n",
       "    <tr>\n",
       "      <th>52</th>\n",
       "      <td>52</td>\n",
       "      <td>2018-11-22 17:30:34</td>\n",
       "      <td>35776056</td>\n",
       "      <td>0.053178</td>\n",
       "    </tr>\n",
       "    <tr>\n",
       "      <th>53</th>\n",
       "      <td>53</td>\n",
       "      <td>2018-11-23 04:33:34</td>\n",
       "      <td>35776057</td>\n",
       "      <td>0.029422</td>\n",
       "    </tr>\n",
       "    <tr>\n",
       "      <th>54</th>\n",
       "      <td>54</td>\n",
       "      <td>2018-11-24 06:24:41</td>\n",
       "      <td>35776058</td>\n",
       "      <td>0.035685</td>\n",
       "    </tr>\n",
       "    <tr>\n",
       "      <th>55</th>\n",
       "      <td>55</td>\n",
       "      <td>2013-03-01 16:22:30</td>\n",
       "      <td>49654001</td>\n",
       "      <td>0.093844</td>\n",
       "    </tr>\n",
       "    <tr>\n",
       "      <th>56</th>\n",
       "      <td>56</td>\n",
       "      <td>2013-06-07 02:14:00</td>\n",
       "      <td>49654002</td>\n",
       "      <td>0.227300</td>\n",
       "    </tr>\n",
       "    <tr>\n",
       "      <th>57</th>\n",
       "      <td>57</td>\n",
       "      <td>2014-06-09 16:34:12</td>\n",
       "      <td>49654004</td>\n",
       "      <td>0.041468</td>\n",
       "    </tr>\n",
       "    <tr>\n",
       "      <th>58</th>\n",
       "      <td>58</td>\n",
       "      <td>2016-02-11 00:32:10</td>\n",
       "      <td>80898001</td>\n",
       "      <td>0.058269</td>\n",
       "    </tr>\n",
       "    <tr>\n",
       "      <th>59</th>\n",
       "      <td>59</td>\n",
       "      <td>2016-02-16 00:11:28</td>\n",
       "      <td>80898002</td>\n",
       "      <td>0.061983</td>\n",
       "    </tr>\n",
       "    <tr>\n",
       "      <th>60</th>\n",
       "      <td>60</td>\n",
       "      <td>2018-01-06 12:53:26</td>\n",
       "      <td>88207001</td>\n",
       "      <td>0.069098</td>\n",
       "    </tr>\n",
       "    <tr>\n",
       "      <th>61</th>\n",
       "      <td>61</td>\n",
       "      <td>2018-02-24 13:20:56</td>\n",
       "      <td>88207002</td>\n",
       "      <td>0.068805</td>\n",
       "    </tr>\n",
       "    <tr>\n",
       "      <th>62</th>\n",
       "      <td>62</td>\n",
       "      <td>2018-07-17 21:08:31</td>\n",
       "      <td>88207003</td>\n",
       "      <td>0.074202</td>\n",
       "    </tr>\n",
       "  </tbody>\n",
       "</table>\n",
       "<p>63 rows × 4 columns</p>\n",
       "</div>"
      ],
      "text/plain": [
       "    Unnamed: 0              xrttime    obsids  countrates\n",
       "0            0  2007-06-20 07:31:59  30955001    0.448800\n",
       "1            1  2007-06-22 20:08:46  30955002    0.442400\n",
       "2            2  2007-06-24 17:11:04  30955003    0.486300\n",
       "3            3  2005-08-05 08:17:04  35166001    0.632000\n",
       "4            4  2008-06-11 03:57:43  35776001    0.428400\n",
       "5            5  2018-09-01 18:47:04  35776002    0.049591\n",
       "6            6  2018-09-02 07:32:41  35776003    0.049468\n",
       "7            7  2018-09-03 23:23:23  35776004    0.064621\n",
       "8            8  2018-09-04 00:58:40  35776005    0.054141\n",
       "9            9  2018-09-07 11:56:58  35776006    0.069997\n",
       "10          10  2018-09-08 21:23:54  35776007    0.090834\n",
       "11          11  2018-09-09 05:24:49  35776008    0.091898\n",
       "12          12  2018-09-13 14:31:55  35776010    0.052204\n",
       "13          13  2018-09-14 22:21:58  35776011    0.058621\n",
       "14          14  2018-09-14 16:14:15  35776012    0.034850\n",
       "15          15  2018-09-17 23:25:43  35776014    0.077494\n",
       "16          16  2018-09-23 19:48:28  35776015    0.036535\n",
       "17          17  2018-09-24 19:46:56  35776016    0.075229\n",
       "18          18  2018-09-29 00:22:15  35776017    0.053729\n",
       "19          19  2018-09-29 20:53:49  35776018    0.067511\n",
       "20          20  2018-09-30 17:54:01  35776019    0.049722\n",
       "21          21  2018-10-01 07:51:07  35776020    0.046922\n",
       "22          22  2018-10-02 14:27:38  35776021    0.049318\n",
       "23          23  2018-10-04 03:09:13  35776023    0.060223\n",
       "24          24  2018-10-05 07:45:19  35776024    0.062041\n",
       "25          25  2018-10-06 21:52:05  35776025    0.023213\n",
       "26          26  2018-10-08 01:04:17  35776026    0.074202\n",
       "27          27  2018-10-08 21:40:07  35776027    0.057128\n",
       "28          28  2018-10-11 18:08:15  35776029    0.063322\n",
       "29          29  2018-10-15 21:08:54  35776031    0.027146\n",
       "..         ...                  ...       ...         ...\n",
       "33          33  2018-10-22 07:27:36  35776035    0.047583\n",
       "34          34  2018-10-26 21:29:50  35776036    0.042584\n",
       "35          35  2018-10-27 08:41:00  35776037    0.027642\n",
       "36          36  2018-10-29 00:28:14  35776038    0.054197\n",
       "37          37  2018-10-29 22:46:30  35776039    0.034593\n",
       "38          38  2018-10-31 22:50:53  35776040    0.039884\n",
       "39          39  2018-11-01 14:45:46  35776041    0.039366\n",
       "40          40  2018-11-02 16:30:27  35776042    0.059345\n",
       "41          41  2018-11-03 17:48:10  35776043    0.036258\n",
       "42          42  2018-11-04 11:08:39  35776044    0.040658\n",
       "43          43  2018-11-05 20:30:30  35776045    0.031638\n",
       "44          44  2018-11-06 15:46:23  35776046    0.037101\n",
       "45          45  2018-11-07 22:14:17  35776047    0.045208\n",
       "46          46  2018-11-11 18:42:08  35776049    0.046922\n",
       "47          47  2018-11-12 12:04:31  35776050    0.039680\n",
       "48          48  2018-11-14 10:21:38  35776051    0.047986\n",
       "49          49  2018-11-15 10:03:34  35776052    0.047777\n",
       "50          50  2018-11-17 10:10:40  35776054    0.047434\n",
       "51          51  2018-11-19 03:21:03  35776055    0.037101\n",
       "52          52  2018-11-22 17:30:34  35776056    0.053178\n",
       "53          53  2018-11-23 04:33:34  35776057    0.029422\n",
       "54          54  2018-11-24 06:24:41  35776058    0.035685\n",
       "55          55  2013-03-01 16:22:30  49654001    0.093844\n",
       "56          56  2013-06-07 02:14:00  49654002    0.227300\n",
       "57          57  2014-06-09 16:34:12  49654004    0.041468\n",
       "58          58  2016-02-11 00:32:10  80898001    0.058269\n",
       "59          59  2016-02-16 00:11:28  80898002    0.061983\n",
       "60          60  2018-01-06 12:53:26  88207001    0.069098\n",
       "61          61  2018-02-24 13:20:56  88207002    0.068805\n",
       "62          62  2018-07-17 21:08:31  88207003    0.074202\n",
       "\n",
       "[63 rows x 4 columns]"
      ]
     },
     "execution_count": 45,
     "metadata": {},
     "output_type": "execute_result"
    }
   ],
   "source": [
    "dfxrtall"
   ]
  },
  {
   "cell_type": "code",
   "execution_count": 32,
   "metadata": {
    "ExecuteTime": {
     "end_time": "2019-08-11T10:02:47.376612Z",
     "start_time": "2019-08-11T10:02:47.322548Z"
    },
    "collapsed": false
   },
   "outputs": [
    {
     "name": "stdout",
     "output_type": "stream",
     "text": [
      "num time          countrate  counts obsid        \n",
      "0   2007-06-20 07:31:59 0.449 1491  00030955001   3322.1925133689842\n",
      "1   2007-06-22 20:08:46 0.442 1565  00030955002   3537.5226039783\n",
      "2   2007-06-24 17:11:04 0.486 2008  00030955003   4129.138391939132\n",
      "3   2005-08-05 08:17:04 0.632 3301  00035166001   5223.101265822785\n",
      "4   2008-06-11 03:57:43 0.428 2070  00035776001   4831.9327731092435\n",
      "5   2018-09-01 18:47:04 0.050 47    00035776002   947.7526164021697\n",
      "6   2018-09-02 07:32:41 0.049 48    00035776003   970.3242500202151\n",
      "7   2018-09-03 23:23:23 0.065 64    00035776004   990.3901208585445\n",
      "8   2018-09-04 00:58:40 0.054 60    00035776005   1108.2174322602093\n",
      "9   2018-09-07 11:56:58 0.070 96    00035776006   1371.487349457834\n",
      "10  2018-09-08 21:23:54 0.091 87    00035776007   957.7911354779047\n",
      "11  2018-09-09 05:24:49 0.092 50    00035776008   544.0814816426908\n",
      "12  2018-09-13 14:31:55 0.052 50    00035776010   957.7810129491993\n",
      "13  2018-09-14 22:21:58 0.059 56    00035776011   955.289060234387\n",
      "14  2018-09-14 16:14:15 0.035 18    00035776012   516.4992826398852\n",
      "15  2018-09-17 23:25:43 0.077 75    00035776014   967.8168632410252\n",
      "16  2018-09-23 19:48:28 0.037 36    00035776015   985.3565074586014\n",
      "17  2018-09-24 19:46:56 0.075 63    00035776016   837.4430073508886\n",
      "18  2018-09-29 00:22:15 0.054 52    00035776017   967.8199854827002\n",
      "19  2018-09-29 20:53:49 0.068 65    00035776018   962.8060612344655\n",
      "20  2018-09-30 17:54:01 0.050 47    00035776019   945.2556212541732\n",
      "21  2018-10-01 07:51:07 0.047 50    00035776020   1065.5982268445505\n",
      "22  2018-10-02 14:27:38 0.049 46    00035776021   932.7223326168944\n",
      "23  2018-10-04 03:09:13 0.060 53    00035776023   880.0624346180031\n",
      "24  2018-10-05 07:45:19 0.062 56    00035776024   902.6289066907368\n",
      "25  2018-10-06 21:52:05 0.023 22    00035776025   947.7447981734373\n",
      "26  2018-10-08 01:04:17 0.074 56    00035776026   754.6966389046117\n",
      "27  2018-10-08 21:40:07 0.057 54    00035776027   945.2457638986136\n",
      "28  2018-10-11 18:08:15 0.063 67    00035776029   1058.084078203468\n",
      "29  2018-10-15 21:08:54 0.027 26    00035776031   957.783835555883\n",
      "30  2018-10-18 05:08:42 0.044 39    00035776032   892.5914906277893\n",
      "31  2018-10-19 22:06:23 0.050 50    00035776033   990.3931860948796\n",
      "32  2018-10-21 20:32:28 0.057 59    00035776034   1043.029381607326\n",
      "33  2018-10-22 07:27:36 0.048 55    00035776035   1155.8749973730114\n",
      "34  2018-10-26 21:29:50 0.043 41    00035776036   962.8029306781891\n",
      "35  2018-10-27 08:41:00 0.028 28    00035776037   1012.9513059836481\n",
      "36  2018-10-29 00:28:14 0.054 39    00035776038   719.5970256656273\n",
      "37  2018-10-29 22:46:30 0.035 34    00035776039   982.8578036018848\n",
      "38  2018-10-31 22:50:53 0.040 43    00035776040   1078.1265670444288\n",
      "39  2018-11-01 14:45:46 0.039 38    00035776041   965.3000050805264\n",
      "40  2018-11-02 16:30:27 0.059 68    00035776042   1145.8421096975314\n",
      "41  2018-11-03 17:48:10 0.036 32    00035776043   882.5638479783772\n",
      "42  2018-11-04 11:08:39 0.041 42    00035776044   1033.0070342859954\n",
      "43  2018-11-05 20:30:30 0.032 33    00035776045   1043.0494974397877\n",
      "44  2018-11-06 15:46:23 0.037 40    00035776046   1078.1380555780167\n",
      "45  2018-11-07 22:14:17 0.045 45    00035776047   995.3990444169174\n",
      "46  2018-11-11 18:42:08 0.047 28    00035776049   596.7350070329483\n",
      "47  2018-11-12 12:04:31 0.040 39    00035776050   982.8629032258065\n",
      "48  2018-11-14 10:21:38 0.048 61    00035776051   1271.2041011961821\n",
      "49  2018-11-15 10:03:34 0.048 46    00035776052   962.806371266509\n",
      "50  2018-11-17 10:10:40 0.047 49    00035776054   1033.0142935447147\n",
      "51  2018-11-19 03:21:03 0.037 24    00035776055   646.88283334681\n",
      "52  2018-11-22 17:30:34 0.053 52    00035776056   977.8479822482981\n",
      "53  2018-11-23 04:33:34 0.029 27    00035776057   917.680647134797\n",
      "54  2018-11-24 06:24:41 0.036 34    00035776058   952.7812806501331\n",
      "55  2013-03-01 16:22:30 0.094 64    00049654001   681.9828651805124\n",
      "56  2013-06-07 02:14:00 0.227 306   00049654002   1346.2384513858337\n",
      "57  2014-06-09 16:34:12 0.041 89    00049654004   2146.233240088743\n",
      "58  2016-02-11 00:32:10 0.058 219   00080898001   3758.4307264583226\n",
      "59  2016-02-16 00:11:28 0.062 191   00080898002   3081.49008599132\n",
      "60  2018-01-06 12:53:26 0.069 136   00088207001   1968.2190512026395\n",
      "61  2018-02-24 13:20:56 0.069 118   00088207002   1714.991643049197\n",
      "62  2018-07-17 21:08:31 0.074 152   00088207003   2048.4623055982315\n"
     ]
    }
   ],
   "source": [
    "print('{:<3}'.format('num'),'{:<13}'.format('time'),'{:<10}'.format('countrate'),'{:<5}'.format('counts'),'{:<13}'.format('obsid'))\n",
    "for i_,(x_,y_,z_,h_) in enumerate(zip(dates,countrates,countsall,obsids)):\n",
    "    print('{:<3}'.format(i_),x_,'{:.3f}'.format(float(y_)),'{:<5}'.format(z_),'{:<13}'.format(h_),float(z_)/float(y_))"
   ]
  },
  {
   "cell_type": "code",
   "execution_count": 450,
   "metadata": {
    "ExecuteTime": {
     "end_time": "2019-06-04T10:17:41.211343Z",
     "start_time": "2019-06-04T10:17:41.192413Z"
    },
    "collapsed": false
   },
   "outputs": [
    {
     "name": "stdout",
     "output_type": "stream",
     "text": [
      "countrate  counts obsid         exptime   \n",
      "0.449 1491  00030955001   3322.1925133689842\n",
      "0.442 1565  00030955002   3537.5226039783\n",
      "0.486 2008  00030955003   4129.138391939132\n",
      "0.632 3301  00035166001   5223.101265822785\n",
      "0.428 2070  00035776001   4831.9327731092435\n",
      "0.070 96    00035776006   1371.487349457834\n",
      "0.091 87    00035776007   957.7911354779047\n",
      "0.227 306   00049654002   1346.2384513858337\n",
      "0.041 89    00049654004   2146.233240088743\n",
      "0.058 219   00080898001   3758.4307264583226\n",
      "0.062 191   00080898002   3081.49008599132\n",
      "0.069 136   00088207001   1968.2190512026395\n",
      "0.069 118   00088207002   1714.991643049197\n",
      "0.074 152   00088207003   2048.4623055982315\n"
     ]
    }
   ],
   "source": [
    "print('{:<10}'.format('countrate'),'{:<5}'.format('counts'),'{:<13}'.format('obsid'),'{:<10}'.format('exptime'))\n",
    "for i_,(y_,z_,h_) in enumerate(zip(countrates,countsall,obsids)):\n",
    "    if float(z_)> 85:\n",
    "        print('{:.3f}'.format(float(y_)),'{:<5}'.format(z_),'{:<13}'.format(h_),float(z_)/float(y_))"
   ]
  },
  {
   "cell_type": "code",
   "execution_count": 305,
   "metadata": {
    "ExecuteTime": {
     "end_time": "2019-05-23T09:36:37.887804Z",
     "start_time": "2019-05-23T09:36:37.851590Z"
    },
    "collapsed": false
   },
   "outputs": [
    {
     "name": "stdout",
     "output_type": "stream",
     "text": [
      "countrate  counts obsid         exptime   \n",
      "0.050 47    00035776002   947.7526164021697\n",
      "0.049 48    00035776003   970.3242500202151\n",
      "0.065 64    00035776004   990.3901208585445\n",
      "0.054 60    00035776005   1108.2174322602093\n",
      "0.092 50    00035776008   544.0814816426908\n",
      "0.052 50    00035776010   957.7810129491993\n",
      "0.059 56    00035776011   955.289060234387\n",
      "0.035 18    00035776012   516.4992826398852\n",
      "0.077 75    00035776014   967.8168632410252\n",
      "0.037 36    00035776015   985.3565074586014\n",
      "0.075 63    00035776016   837.4430073508886\n",
      "0.054 52    00035776017   967.8199854827002\n",
      "0.068 65    00035776018   962.8060612344655\n",
      "0.050 47    00035776019   945.2556212541732\n",
      "0.047 50    00035776020   1065.5982268445505\n",
      "0.049 46    00035776021   932.7223326168944\n",
      "0.060 53    00035776023   880.0624346180031\n",
      "0.062 56    00035776024   902.6289066907368\n",
      "0.023 22    00035776025   947.7447981734373\n",
      "0.074 56    00035776026   754.6966389046117\n",
      "0.057 54    00035776027   945.2457638986136\n",
      "0.063 67    00035776029   1058.084078203468\n",
      "0.027 26    00035776031   957.783835555883\n",
      "0.044 39    00035776032   892.5914906277893\n",
      "0.050 50    00035776033   990.3931860948796\n",
      "0.057 59    00035776034   1043.029381607326\n",
      "0.048 55    00035776035   1155.8749973730114\n",
      "0.043 41    00035776036   962.8029306781891\n",
      "0.028 28    00035776037   1012.9513059836481\n",
      "0.054 39    00035776038   719.5970256656273\n",
      "0.035 34    00035776039   982.8578036018848\n",
      "0.040 43    00035776040   1078.1265670444288\n",
      "0.039 38    00035776041   965.3000050805264\n",
      "0.059 68    00035776042   1145.8421096975314\n",
      "0.036 32    00035776043   882.5638479783772\n",
      "0.041 42    00035776044   1033.0070342859954\n",
      "0.032 33    00035776045   1043.0494974397877\n",
      "0.037 40    00035776046   1078.1380555780167\n",
      "0.045 45    00035776047   995.3990444169174\n",
      "0.047 28    00035776049   596.7350070329483\n",
      "0.040 39    00035776050   982.8629032258065\n",
      "0.048 61    00035776051   1271.2041011961821\n",
      "0.048 46    00035776052   962.806371266509\n",
      "0.047 49    00035776054   1033.0142935447147\n",
      "0.037 24    00035776055   646.88283334681\n",
      "0.053 52    00035776056   977.8479822482981\n",
      "0.029 27    00035776057   917.680647134797\n",
      "0.036 34    00035776058   952.7812806501331\n",
      "0.094 64    00049654001   681.9828651805124\n"
     ]
    }
   ],
   "source": [
    "print('{:<10}'.format('countrate'),'{:<5}'.format('counts'),'{:<13}'.format('obsid'),'{:<10}'.format('exptime'))\n",
    "for i_,(y_,z_,h_) in enumerate(zip(countrates,countsall,obsids)):\n",
    "    if float(z_)< 85:\n",
    "        print('{:.3f}'.format(float(y_)),'{:<5}'.format(z_),'{:<13}'.format(h_),float(z_)/float(y_))"
   ]
  },
  {
   "cell_type": "markdown",
   "metadata": {
    "collapsed": true
   },
   "source": [
    "## countrate_from_fit_log_all"
   ]
  },
  {
   "cell_type": "code",
   "execution_count": 457,
   "metadata": {
    "ExecuteTime": {
     "end_time": "2019-06-04T10:25:41.861327Z",
     "start_time": "2019-06-04T10:25:41.849404Z"
    },
    "code_folding": [
     5
    ],
    "collapsed": false
   },
   "outputs": [],
   "source": [
    "def get_xfit_log(path,obs_id):\n",
    "    xfit_filepath=path+obs_id+'_xrt/fit.txt'\n",
    "    xse_file_dir=os.path.join(path,obs_id+'_xrt')                            \n",
    "    netcount=[]\n",
    "    netcountrate=[]\n",
    "    with open(xfit_filepath,'r') as f:\n",
    "        content = f.readlines()\n",
    "        for i in content:\n",
    "            if i.find('Net count rate')>=0:\n",
    "                netcount.append(re.split(r\"\\s+|\\s\",i.split('+/-')[0])[-2])  \n",
    "    print(obs_id,netcount[0]) \n",
    "    return netcount    "
   ]
  },
  {
   "cell_type": "code",
   "execution_count": 458,
   "metadata": {
    "ExecuteTime": {
     "end_time": "2019-06-04T10:25:45.032914Z",
     "start_time": "2019-06-04T10:25:42.696583Z"
    },
    "collapsed": false
   },
   "outputs": [
    {
     "name": "stdout",
     "output_type": "stream",
     "text": [
      "00030955001 4.494e-01\n",
      "00030955002 4.428e-01\n",
      "00030955003 4.870e-01\n",
      "00035166001 6.333e-01\n",
      "00035776001 4.292e-01\n",
      "00035776002 4.865e-02\n",
      "00035776003 4.904e-02\n",
      "00035776004 6.422e-02\n",
      "00035776005 5.326e-02\n",
      "00035776006 6.963e-02\n",
      "00035776007 9.018e-02\n",
      "00035776008 9.081e-02\n",
      "00035776010 5.139e-02\n",
      "00035776011 5.778e-02\n",
      "00035776012 3.390e-02\n",
      "00035776014 7.626e-02\n",
      "00035776015 3.577e-02\n",
      "00035776016 7.441e-02\n",
      "00035776017 5.303e-02\n",
      "00035776018 6.725e-02\n",
      "00035776019 4.923e-02\n",
      "00035776020 4.632e-02\n",
      "00035776021 4.876e-02\n",
      "00035776023 5.935e-02\n",
      "00035776024 6.115e-02\n",
      "00035776025 2.252e-02\n",
      "00035776026 7.339e-02\n",
      "00035776027 5.602e-02\n",
      "00035776029 6.273e-02\n",
      "00035776031 2.643e-02\n",
      "00035776032 4.319e-02\n",
      "00035776033 4.979e-02\n",
      "00035776034 5.603e-02\n",
      "00035776035 4.660e-02\n",
      "00035776036 4.183e-02\n",
      "00035776037 2.674e-02\n",
      "00035776038 3.210e-02\n",
      "00035776039 3.393e-02\n",
      "00035776040 3.931e-02\n",
      "00035776041 3.914e-02\n",
      "00035776042 5.877e-02\n",
      "00035776043 3.550e-02\n",
      "00035776044 3.991e-02\n",
      "00035776045 3.047e-02\n",
      "00035776046 3.613e-02\n",
      "00035776047 4.478e-02\n",
      "00035776049 4.594e-02\n",
      "00035776050 3.865e-02\n",
      "00035776051 4.759e-02\n",
      "00035776052 4.748e-02\n",
      "00035776054 4.681e-02\n",
      "00035776055 3.638e-02\n",
      "00035776056 5.272e-02\n",
      "00035776057 2.873e-02\n",
      "00035776058 3.495e-02\n",
      "00049654001 9.278e-02\n",
      "00049654002 2.274e-01\n",
      "00049654004 4.109e-02\n",
      "00080898001 5.776e-02\n",
      "00080898002 6.159e-02\n",
      "00088207001 6.837e-02\n",
      "00088207002 6.802e-02\n",
      "00088207003 7.365e-02\n"
     ]
    }
   ],
   "source": [
    "for i in range(0,len(obsids)):\n",
    "    get_xfit_log(filepath,obsids[i])"
   ]
  },
  {
   "cell_type": "markdown",
   "metadata": {},
   "source": [
    "## plot_less85_countrate"
   ]
  },
  {
   "cell_type": "code",
   "execution_count": 52,
   "metadata": {
    "ExecuteTime": {
     "end_time": "2019-08-12T08:33:11.607377Z",
     "start_time": "2019-08-12T08:33:09.941813Z"
    },
    "collapsed": false
   },
   "outputs": [
    {
     "data": {
      "image/png": "[encoded data removed]",
      "text/plain": [
       "<Figure size 1152x648 with 1 Axes>"
      ]
     },
     "metadata": {},
     "output_type": "display_data"
    }
   ],
   "source": [
    "import datetime\n",
    "\n",
    "\n",
    "filepath='/Volumes/Brettlv_G_m/Mrk1018/swift/' \n",
    "dates,countrates,countsall=plot_count_fornewids(filepath,obsidsless85)\n",
    "\n",
    "dates=np.array(dates)\n",
    "countrates=np.array(countrates)\n",
    "countsall=np.array(countsall)\n",
    "obsids=get_obsids(filepath)\n",
    "\n",
    "countsnew=[]\n",
    "for i in countrates:\n",
    "    countsnew.append(float(i))\n",
    "\n",
    "fig=plt.figure(figsize=(16,9))\n",
    "ax=plt.subplot(111)\n",
    "plt.plot(dates,countsnew,'.r')\n",
    "#for i,(_x,_y) in enumerate(zip(dates,countsnew)):\n",
    "#    plt.text(_x,_y,int(obsidsless85[i]),color='red',fontsize=10)\n",
    "#plt.figtext(0,0,'Fig words',color='green',ha='center')\n",
    "#setup(ax)\n",
    "#plt.ylim(0,0.09)\n",
    "plt.yscale('log')\n",
    "plt.title(\"countsrate vs time\")\n",
    "plt.xlim(datetime.datetime(2018, 9, 1),datetime.datetime(2018, 12, 1))\n",
    "plt.show() "
   ]
  },
  {
   "cell_type": "code",
   "execution_count": 54,
   "metadata": {
    "ExecuteTime": {
     "end_time": "2019-08-12T08:35:14.079463Z",
     "start_time": "2019-08-12T08:35:14.073695Z"
    },
    "collapsed": false
   },
   "outputs": [
    {
     "data": {
      "text/plain": [
       "49"
      ]
     },
     "execution_count": 54,
     "metadata": {},
     "output_type": "execute_result"
    }
   ],
   "source": [
    "len(obsidsless85)"
   ]
  },
  {
   "cell_type": "code",
   "execution_count": 55,
   "metadata": {
    "ExecuteTime": {
     "end_time": "2019-08-12T08:35:29.871677Z",
     "start_time": "2019-08-12T08:35:29.852912Z"
    },
    "collapsed": true
   },
   "outputs": [],
   "source": [
    "head = [\"xrttime\" , \"obsids\" , \"countrates\"]\n",
    "l = [dates,obsidsless85,countsnew]\n",
    "df = pd.DataFrame(l , index = head).T\n",
    "df.to_csv(\"Mrkxrtless85.csv\" , encoding = \"utf-8\")"
   ]
  },
  {
   "cell_type": "code",
   "execution_count": null,
   "metadata": {
    "collapsed": true
   },
   "outputs": [],
   "source": []
  },
  {
   "cell_type": "code",
   "execution_count": null,
   "metadata": {
    "collapsed": true
   },
   "outputs": [],
   "source": []
  },
  {
   "cell_type": "markdown",
   "metadata": {
    "ExecuteTime": {
     "end_time": "2019-05-31T15:48:06.246653Z",
     "start_time": "2019-05-31T15:48:06.242312Z"
    }
   },
   "source": [
    "## all index vs flux"
   ]
  },
  {
   "cell_type": "code",
   "execution_count": 464,
   "metadata": {
    "ExecuteTime": {
     "end_time": "2019-06-04T10:36:33.401731Z",
     "start_time": "2019-06-04T10:36:32.272612Z"
    },
    "collapsed": false,
    "scrolled": true
   },
   "outputs": [
    {
     "data": {
      "image/png": "[encoded data removed]",
      "text/plain": [
       "<Figure size 1872x1152 with 1 Axes>"
      ]
     },
     "metadata": {},
     "output_type": "display_data"
    }
   ],
   "source": [
    "x=fitmore85[:,4]\n",
    "y=fitmore85[:,0]\n",
    "z=fitmore85[:,7]\n",
    "fig=plt.figure(figsize=(26,16))\n",
    "ax=plt.subplot(111)\n",
    "plt.errorbar(fitmore85[:,4],fitmore85[:,0],yerr=fitmore85[:,1],fmt='.r')\n",
    "plt.title(\"Flux and Powerlawindex\")\n",
    "for i,(_x,_y) in enumerate(zip(x,y)):\n",
    "    plt.text(_x,_y,int(z[i]),color='red',fontsize=10)\n",
    "#plt.figtext(0,0,'Fig words',color='green',ha='center')\n",
    "\n",
    "x1=fitless85[:,4]\n",
    "y1=fitless85[:,0]\n",
    "z1=fitless85[:,7]\n",
    "\n",
    "\n",
    "plt.errorbar(fitless85[:,4],fitless85[:,0],yerr=fitless85[:,1],fmt='.g')\n",
    "for i,(_x,_y) in enumerate(zip(x1,y1)):\n",
    "    plt.text(_x,_y,int(z1[i]),color='b',fontsize=10)\n",
    "plt.tight_layout()    \n",
    "plt.show()"
   ]
  },
  {
   "cell_type": "code",
   "execution_count": 386,
   "metadata": {
    "ExecuteTime": {
     "end_time": "2019-06-03T14:06:32.787762Z",
     "start_time": "2019-06-03T14:06:32.780265Z"
    },
    "collapsed": false
   },
   "outputs": [
    {
     "data": {
      "text/plain": [
       "(14, 49)"
      ]
     },
     "execution_count": 386,
     "metadata": {},
     "output_type": "execute_result"
    }
   ],
   "source": [
    "z1.size,z.size"
   ]
  },
  {
   "cell_type": "markdown",
   "metadata": {},
   "source": [
    "## all flux"
   ]
  },
  {
   "cell_type": "code",
   "execution_count": null,
   "metadata": {
    "collapsed": true
   },
   "outputs": [],
   "source": []
  },
  {
   "cell_type": "code",
   "execution_count": 461,
   "metadata": {
    "ExecuteTime": {
     "end_time": "2019-06-04T10:34:42.058680Z",
     "start_time": "2019-06-04T10:34:40.569204Z"
    },
    "collapsed": false
   },
   "outputs": [
    {
     "data": {
      "image/png": "[encoded data removed]",
      "text/plain": [
       "<Figure size 1152x648 with 1 Axes>"
      ]
     },
     "metadata": {},
     "output_type": "display_data"
    }
   ],
   "source": [
    "filepath='/Volumes/Brettlv_G_m/Mrk1018/swift/' \n",
    "datesless85,countrates,countsall=plot_count_fornewids(filepath,obsidsless85)\n",
    "datesless85=np.array(datesless85)\n",
    "\n",
    "filepath='/Volumes/Brettlv_G_m/Mrk1018/swift/' \n",
    "datesmore85,countrates,countsall=plot_count_fornewids(filepath,obsidsmore85)\n",
    "datesmore85=np.array(datesmore85)\n",
    "\n",
    "\n",
    "fig=plt.figure(figsize=(16,9))\n",
    "ax=plt.subplot(111)\n",
    "#plt.plot(dates,countsnew,'.r')\n",
    "\n",
    "plt.plot(datesless85,fitless85[:,4],'.r')\n",
    "plt.plot(datesmore85,fitmore85[:,4],'.r')\n",
    "\n",
    "#plt.figtext(0,0,'Fig words',color='green',ha='center')\n",
    "\n",
    "plt.yscale('log')\n",
    "plt.title(\"countsrate vs time\")\n",
    "#plt.xlim(datetime.datetime(2018, 1, 1),datetime.datetime(2020, 1, 1))\n",
    "plt.show() "
   ]
  },
  {
   "cell_type": "code",
   "execution_count": 463,
   "metadata": {
    "ExecuteTime": {
     "end_time": "2019-06-04T10:35:57.079068Z",
     "start_time": "2019-06-04T10:35:56.017104Z"
    },
    "collapsed": false
   },
   "outputs": [
    {
     "data": {
      "image/png": "[encoded data removed]",
      "text/plain": [
       "<Figure size 1152x648 with 1 Axes>"
      ]
     },
     "metadata": {},
     "output_type": "display_data"
    }
   ],
   "source": [
    "filepath='/Volumes/Brettlv_G_m/Mrk1018/swift/' \n",
    "datesless85,countrates,countsall=plot_count_fornewids(filepath,obsidsless85)\n",
    "datesless85=np.array(datesless85)\n",
    "\n",
    "filepath='/Volumes/Brettlv_G_m/Mrk1018/swift/' \n",
    "datesmore85,countrates,countsall=plot_count_fornewids(filepath,obsidsmore85)\n",
    "datesmore85=np.array(datesmore85)\n",
    "\n",
    "\n",
    "fig=plt.figure(figsize=(16,9))\n",
    "ax=plt.subplot(111)\n",
    "#plt.plot(dates,countsnew,'.r')\n",
    "\n",
    "plt.plot(datesless85,fitless85[:,4],'.r')\n",
    "plt.plot(datesmore85,fitmore85[:,4],'.r')\n",
    "\n",
    "\n",
    "\n",
    "for i,(_x,_y) in enumerate(zip(datesless85,x1)):\n",
    "    \n",
    "    plt.text(_x,_y,int(z1[i]),color='red',fontsize=10)\n",
    "#plt.figtext(0,0,'Fig words',color='green',ha='center')\n",
    "\n",
    "for i,(_x,_y) in enumerate(zip(datesmore85,x)):\n",
    "    plt.text(_x,_y,int(z[i]),color='red',fontsize=10)\n",
    "\n",
    "#plt.figtext(0,0,'Fig words',color='green',ha='center')\n",
    "plt.yscale('log')\n",
    "plt.grid()\n",
    "plt.title(\"countsrate vs time\")\n",
    "#plt.xlim(datetime.datetime(2018, 1, 1),datetime.datetime(2020, 1, 1))\n",
    "plt.show() \n",
    "\n"
   ]
  },
  {
   "cell_type": "markdown",
   "metadata": {},
   "source": [
    "# Luminosity"
   ]
  },
  {
   "cell_type": "code",
   "execution_count": 465,
   "metadata": {
    "ExecuteTime": {
     "end_time": "2019-06-04T10:38:35.312385Z",
     "start_time": "2019-06-04T10:38:34.383861Z"
    },
    "collapsed": true
   },
   "outputs": [],
   "source": [
    "from astropy.cosmology import FlatLambdaCDM,Planck13,Planck15,z_at_value\n",
    "from astropy import units as u\n",
    "import astropy\n",
    "\n",
    "cosmo=FlatLambdaCDM(H0=73,Om0=0.3)\n",
    "a=cosmo.luminosity_distance(0.042436)\n",
    "\n",
    "a.to(u.cm)"
   ]
  },
  {
   "cell_type": "code",
   "execution_count": null,
   "metadata": {
    "collapsed": true
   },
   "outputs": [],
   "source": []
  },
  {
   "cell_type": "code",
   "execution_count": 509,
   "metadata": {
    "ExecuteTime": {
     "end_time": "2019-06-04T11:06:42.563238Z",
     "start_time": "2019-06-04T11:06:42.531202Z"
    },
    "collapsed": false
   },
   "outputs": [],
   "source": [
    "BHmass=10**7.4*u.solMass"
   ]
  },
  {
   "cell_type": "code",
   "execution_count": 596,
   "metadata": {
    "ExecuteTime": {
     "end_time": "2019-06-05T10:23:00.735092Z",
     "start_time": "2019-06-05T10:23:00.681298Z"
    },
    "collapsed": false
   },
   "outputs": [],
   "source": [
    "Ledd7_4=1.26*10**38*10**7.4\n",
    "Ledd7_9=1.26*10**38*10**7.9\n",
    "Ledd8_15=1.26*10**38*10**8.15"
   ]
  },
  {
   "cell_type": "code",
   "execution_count": 623,
   "metadata": {
    "ExecuteTime": {
     "end_time": "2019-06-05T14:10:36.498967Z",
     "start_time": "2019-06-05T14:10:36.470160Z"
    },
    "collapsed": false
   },
   "outputs": [
    {
     "data": {
      "text/plain": [
       "1.7797973062246716e+46"
      ]
     },
     "execution_count": 623,
     "metadata": {},
     "output_type": "execute_result"
    }
   ],
   "source": [
    "Ledd8_15"
   ]
  },
  {
   "cell_type": "code",
   "execution_count": 473,
   "metadata": {
    "ExecuteTime": {
     "end_time": "2019-06-04T10:41:31.663896Z",
     "start_time": "2019-06-04T10:41:31.659020Z"
    },
    "collapsed": true
   },
   "outputs": [],
   "source": [
    "fluxmore85=fitmore85[:,4]"
   ]
  },
  {
   "cell_type": "code",
   "execution_count": 502,
   "metadata": {
    "ExecuteTime": {
     "end_time": "2019-06-04T10:57:50.246817Z",
     "start_time": "2019-06-04T10:57:50.230115Z"
    },
    "collapsed": false
   },
   "outputs": [],
   "source": [
    "luminositymore85=4*np.pi*(a.to(u.cm).value)**2*fluxmore85"
   ]
  },
  {
   "cell_type": "code",
   "execution_count": 597,
   "metadata": {
    "ExecuteTime": {
     "end_time": "2019-06-05T10:23:18.113002Z",
     "start_time": "2019-06-05T10:23:18.107339Z"
    },
    "collapsed": false
   },
   "outputs": [],
   "source": [
    "eddrate=luminositymore85/Ledd8_15"
   ]
  },
  {
   "cell_type": "code",
   "execution_count": 598,
   "metadata": {
    "ExecuteTime": {
     "end_time": "2019-06-05T10:23:23.986624Z",
     "start_time": "2019-06-05T10:23:23.975158Z"
    },
    "collapsed": false
   },
   "outputs": [
    {
     "data": {
      "text/plain": [
       "array([ 0.00192297,  0.00159622,  0.00185675,  0.00240426,  0.00203024,\n",
       "        0.00053269,  0.00038976,  0.00158771,  0.00036029,  0.00032321,\n",
       "        0.00043781,  0.0003713 ,  0.0004081 ,  0.00043593])"
      ]
     },
     "execution_count": 598,
     "metadata": {},
     "output_type": "execute_result"
    }
   ],
   "source": [
    "eddrate"
   ]
  },
  {
   "cell_type": "code",
   "execution_count": 622,
   "metadata": {
    "ExecuteTime": {
     "end_time": "2019-06-05T13:37:54.157952Z",
     "start_time": "2019-06-05T13:37:53.463056Z"
    },
    "collapsed": false
   },
   "outputs": [
    {
     "data": {
      "image/png": "[encoded data removed]",
      "text/plain": [
       "<Figure size 1152x648 with 1 Axes>"
      ]
     },
     "metadata": {},
     "output_type": "display_data"
    }
   ],
   "source": [
    "import matplotlib.pyplot as plt\n",
    "import numpy as np\n",
    "%matplotlib inline \n",
    "x=fitmore85[:,4]\n",
    "y=fitmore85[:,0]\n",
    "z=fitmore85[:,7]\n",
    "fig=plt.figure(figsize=(16,9))\n",
    "ax=plt.subplot(111)\n",
    "plt.errorbar(luminositymore85,fitmore85[:,0],yerr=fitmore85[:,1],fmt='.r')\n",
    "plt.title(\"Luminosity and Powerlawindex\")\n",
    "for i,(_x,_y) in enumerate(zip(luminositymore85,y)):\n",
    "    plt.text(_x,_y,int(z[i]),color='red',fontsize=10)\n",
    "#plt.figtext(0,0,'Fig words',color='green',ha='center')\n",
    "plt.xscale('log')\n",
    "plt.show()"
   ]
  },
  {
   "cell_type": "code",
   "execution_count": 553,
   "metadata": {
    "ExecuteTime": {
     "end_time": "2019-06-04T21:36:30.621828Z",
     "start_time": "2019-06-04T21:36:30.614506Z"
    },
    "collapsed": true
   },
   "outputs": [],
   "source": []
  },
  {
   "cell_type": "code",
   "execution_count": 621,
   "metadata": {
    "ExecuteTime": {
     "end_time": "2019-06-05T13:37:34.633212Z",
     "start_time": "2019-06-05T13:37:33.894456Z"
    },
    "collapsed": false
   },
   "outputs": [
    {
     "data": {
      "image/png": "[encoded data removed]",
      "text/plain": [
       "<Figure size 1152x648 with 1 Axes>"
      ]
     },
     "metadata": {},
     "output_type": "display_data"
    }
   ],
   "source": [
    "from pylab import *\n",
    "from matplotlib.ticker import MultipleLocator, FormatStrFormatter\n",
    "import matplotlib.pyplot as plt\n",
    "import numpy as np\n",
    "import pandas as pd\n",
    "import pyfits\n",
    "import matplotlib.pyplot as plt\n",
    "import numpy as np\n",
    "%matplotlib inline \n",
    "\n",
    "fig=plt.figure(figsize=(16,9))\n",
    "ax=plt.subplot(111)\n",
    "setup(ax)\n",
    "plt.errorbar(eddrate,fitmore85[:,0],yerr=fitmore85[:,1],fmt='.r')\n",
    "plt.title(\"Flux and Powerlawindex\")\n",
    "for i,(_x,_y) in enumerate(zip(eddrate,y)):\n",
    "    plt.text(_x,_y,int(z[i]),color='red',fontsize=10)\n",
    "#plt.figtext(0,0,'Fig words',color='green',ha='center')\n",
    "plt.xscale('log')\n",
    "plt.grid(alpha=0.9,linestyle=':',)\n",
    "plt.xlabel('Eddington rate')\n",
    "plt.tight_layout()\n",
    "plt.show()"
   ]
  },
  {
   "cell_type": "markdown",
   "metadata": {},
   "source": [
    "# Husemann data"
   ]
  },
  {
   "cell_type": "code",
   "execution_count": 56,
   "metadata": {
    "ExecuteTime": {
     "end_time": "2019-08-12T10:41:50.439542Z",
     "start_time": "2019-08-12T10:41:50.048605Z"
    },
    "collapsed": false
   },
   "outputs": [
    {
     "ename": "FileNotFoundError",
     "evalue": "[Errno 2] File b'/Volumes/Brettlv_G_m/Mrk1018/swift/Husemann.txt' does not exist: b'/Volumes/Brettlv_G_m/Mrk1018/swift/Husemann.txt'",
     "output_type": "error",
     "traceback": [
      "\u001b[0;31m---------------------------------------------------------------------------\u001b[0m",
      "\u001b[0;31mFileNotFoundError\u001b[0m                         Traceback (most recent call last)",
      "\u001b[0;32m<ipython-input-56-e5f1c2055bdb>\u001b[0m in \u001b[0;36m<module>\u001b[0;34m()\u001b[0m\n\u001b[1;32m      1\u001b[0m \u001b[0mhead\u001b[0m\u001b[0;34m=\u001b[0m\u001b[0;34m[\u001b[0m\u001b[0;34m'date'\u001b[0m\u001b[0;34m,\u001b[0m\u001b[0;34m'ins'\u001b[0m\u001b[0;34m,\u001b[0m\u001b[0;34m'expt'\u001b[0m\u001b[0;34m,\u001b[0m\u001b[0;34m'offaxisangle'\u001b[0m\u001b[0;34m,\u001b[0m\u001b[0;34m'Nbin'\u001b[0m\u001b[0;34m,\u001b[0m\u001b[0;34m'chi'\u001b[0m\u001b[0;34m,\u001b[0m\u001b[0;34m'gamma'\u001b[0m\u001b[0;34m,\u001b[0m\u001b[0;34m''\u001b[0m\u001b[0;34m,\u001b[0m\u001b[0;34m'gerr'\u001b[0m\u001b[0;34m,\u001b[0m\u001b[0;34m'flux'\u001b[0m\u001b[0;34m,\u001b[0m\u001b[0;34m''\u001b[0m\u001b[0;34m,\u001b[0m\u001b[0;34m'ferr'\u001b[0m\u001b[0;34m]\u001b[0m\u001b[0;34m\u001b[0m\u001b[0m\n\u001b[0;32m----> 2\u001b[0;31m \u001b[0mHusemann2016\u001b[0m\u001b[0;34m=\u001b[0m\u001b[0mpd\u001b[0m\u001b[0;34m.\u001b[0m\u001b[0mread_csv\u001b[0m\u001b[0;34m(\u001b[0m\u001b[0;34m'%sHusemann.txt'\u001b[0m\u001b[0;34m%\u001b[0m\u001b[0mfilepath\u001b[0m\u001b[0;34m,\u001b[0m\u001b[0msep\u001b[0m\u001b[0;34m=\u001b[0m\u001b[0;34m' '\u001b[0m\u001b[0;34m,\u001b[0m\u001b[0mheader\u001b[0m\u001b[0;34m=\u001b[0m\u001b[0;32mNone\u001b[0m\u001b[0;34m)\u001b[0m\u001b[0;34m\u001b[0m\u001b[0m\n\u001b[0m",
      "\u001b[0;32m/Users/brettlv/anaconda3/lib/python3.6/site-packages/pandas/io/parsers.py\u001b[0m in \u001b[0;36mparser_f\u001b[0;34m(filepath_or_buffer, sep, delimiter, header, names, index_col, usecols, squeeze, prefix, mangle_dupe_cols, dtype, engine, converters, true_values, false_values, skipinitialspace, skiprows, skipfooter, nrows, na_values, keep_default_na, na_filter, verbose, skip_blank_lines, parse_dates, infer_datetime_format, keep_date_col, date_parser, dayfirst, iterator, chunksize, compression, thousands, decimal, lineterminator, quotechar, quoting, doublequote, escapechar, comment, encoding, dialect, tupleize_cols, error_bad_lines, warn_bad_lines, delim_whitespace, low_memory, memory_map, float_precision)\u001b[0m\n\u001b[1;32m    700\u001b[0m                     skip_blank_lines=skip_blank_lines)\n\u001b[1;32m    701\u001b[0m \u001b[0;34m\u001b[0m\u001b[0m\n\u001b[0;32m--> 702\u001b[0;31m         \u001b[0;32mreturn\u001b[0m \u001b[0m_read\u001b[0m\u001b[0;34m(\u001b[0m\u001b[0mfilepath_or_buffer\u001b[0m\u001b[0;34m,\u001b[0m \u001b[0mkwds\u001b[0m\u001b[0;34m)\u001b[0m\u001b[0;34m\u001b[0m\u001b[0m\n\u001b[0m\u001b[1;32m    703\u001b[0m \u001b[0;34m\u001b[0m\u001b[0m\n\u001b[1;32m    704\u001b[0m     \u001b[0mparser_f\u001b[0m\u001b[0;34m.\u001b[0m\u001b[0m__name__\u001b[0m \u001b[0;34m=\u001b[0m \u001b[0mname\u001b[0m\u001b[0;34m\u001b[0m\u001b[0m\n",
      "\u001b[0;32m/Users/brettlv/anaconda3/lib/python3.6/site-packages/pandas/io/parsers.py\u001b[0m in \u001b[0;36m_read\u001b[0;34m(filepath_or_buffer, kwds)\u001b[0m\n\u001b[1;32m    427\u001b[0m \u001b[0;34m\u001b[0m\u001b[0m\n\u001b[1;32m    428\u001b[0m     \u001b[0;31m# Create the parser.\u001b[0m\u001b[0;34m\u001b[0m\u001b[0;34m\u001b[0m\u001b[0m\n\u001b[0;32m--> 429\u001b[0;31m     \u001b[0mparser\u001b[0m \u001b[0;34m=\u001b[0m \u001b[0mTextFileReader\u001b[0m\u001b[0;34m(\u001b[0m\u001b[0mfilepath_or_buffer\u001b[0m\u001b[0;34m,\u001b[0m \u001b[0;34m**\u001b[0m\u001b[0mkwds\u001b[0m\u001b[0;34m)\u001b[0m\u001b[0;34m\u001b[0m\u001b[0m\n\u001b[0m\u001b[1;32m    430\u001b[0m \u001b[0;34m\u001b[0m\u001b[0m\n\u001b[1;32m    431\u001b[0m     \u001b[0;32mif\u001b[0m \u001b[0mchunksize\u001b[0m \u001b[0;32mor\u001b[0m \u001b[0miterator\u001b[0m\u001b[0;34m:\u001b[0m\u001b[0;34m\u001b[0m\u001b[0m\n",
      "\u001b[0;32m/Users/brettlv/anaconda3/lib/python3.6/site-packages/pandas/io/parsers.py\u001b[0m in \u001b[0;36m__init__\u001b[0;34m(self, f, engine, **kwds)\u001b[0m\n\u001b[1;32m    893\u001b[0m             \u001b[0mself\u001b[0m\u001b[0;34m.\u001b[0m\u001b[0moptions\u001b[0m\u001b[0;34m[\u001b[0m\u001b[0;34m'has_index_names'\u001b[0m\u001b[0;34m]\u001b[0m \u001b[0;34m=\u001b[0m \u001b[0mkwds\u001b[0m\u001b[0;34m[\u001b[0m\u001b[0;34m'has_index_names'\u001b[0m\u001b[0;34m]\u001b[0m\u001b[0;34m\u001b[0m\u001b[0m\n\u001b[1;32m    894\u001b[0m \u001b[0;34m\u001b[0m\u001b[0m\n\u001b[0;32m--> 895\u001b[0;31m         \u001b[0mself\u001b[0m\u001b[0;34m.\u001b[0m\u001b[0m_make_engine\u001b[0m\u001b[0;34m(\u001b[0m\u001b[0mself\u001b[0m\u001b[0;34m.\u001b[0m\u001b[0mengine\u001b[0m\u001b[0;34m)\u001b[0m\u001b[0;34m\u001b[0m\u001b[0m\n\u001b[0m\u001b[1;32m    896\u001b[0m \u001b[0;34m\u001b[0m\u001b[0m\n\u001b[1;32m    897\u001b[0m     \u001b[0;32mdef\u001b[0m \u001b[0mclose\u001b[0m\u001b[0;34m(\u001b[0m\u001b[0mself\u001b[0m\u001b[0;34m)\u001b[0m\u001b[0;34m:\u001b[0m\u001b[0;34m\u001b[0m\u001b[0m\n",
      "\u001b[0;32m/Users/brettlv/anaconda3/lib/python3.6/site-packages/pandas/io/parsers.py\u001b[0m in \u001b[0;36m_make_engine\u001b[0;34m(self, engine)\u001b[0m\n\u001b[1;32m   1120\u001b[0m     \u001b[0;32mdef\u001b[0m \u001b[0m_make_engine\u001b[0m\u001b[0;34m(\u001b[0m\u001b[0mself\u001b[0m\u001b[0;34m,\u001b[0m \u001b[0mengine\u001b[0m\u001b[0;34m=\u001b[0m\u001b[0;34m'c'\u001b[0m\u001b[0;34m)\u001b[0m\u001b[0;34m:\u001b[0m\u001b[0;34m\u001b[0m\u001b[0m\n\u001b[1;32m   1121\u001b[0m         \u001b[0;32mif\u001b[0m \u001b[0mengine\u001b[0m \u001b[0;34m==\u001b[0m \u001b[0;34m'c'\u001b[0m\u001b[0;34m:\u001b[0m\u001b[0;34m\u001b[0m\u001b[0m\n\u001b[0;32m-> 1122\u001b[0;31m             \u001b[0mself\u001b[0m\u001b[0;34m.\u001b[0m\u001b[0m_engine\u001b[0m \u001b[0;34m=\u001b[0m \u001b[0mCParserWrapper\u001b[0m\u001b[0;34m(\u001b[0m\u001b[0mself\u001b[0m\u001b[0;34m.\u001b[0m\u001b[0mf\u001b[0m\u001b[0;34m,\u001b[0m \u001b[0;34m**\u001b[0m\u001b[0mself\u001b[0m\u001b[0;34m.\u001b[0m\u001b[0moptions\u001b[0m\u001b[0;34m)\u001b[0m\u001b[0;34m\u001b[0m\u001b[0m\n\u001b[0m\u001b[1;32m   1123\u001b[0m         \u001b[0;32melse\u001b[0m\u001b[0;34m:\u001b[0m\u001b[0;34m\u001b[0m\u001b[0m\n\u001b[1;32m   1124\u001b[0m             \u001b[0;32mif\u001b[0m \u001b[0mengine\u001b[0m \u001b[0;34m==\u001b[0m \u001b[0;34m'python'\u001b[0m\u001b[0;34m:\u001b[0m\u001b[0;34m\u001b[0m\u001b[0m\n",
      "\u001b[0;32m/Users/brettlv/anaconda3/lib/python3.6/site-packages/pandas/io/parsers.py\u001b[0m in \u001b[0;36m__init__\u001b[0;34m(self, src, **kwds)\u001b[0m\n\u001b[1;32m   1851\u001b[0m         \u001b[0mkwds\u001b[0m\u001b[0;34m[\u001b[0m\u001b[0;34m'usecols'\u001b[0m\u001b[0;34m]\u001b[0m \u001b[0;34m=\u001b[0m \u001b[0mself\u001b[0m\u001b[0;34m.\u001b[0m\u001b[0musecols\u001b[0m\u001b[0;34m\u001b[0m\u001b[0m\n\u001b[1;32m   1852\u001b[0m \u001b[0;34m\u001b[0m\u001b[0m\n\u001b[0;32m-> 1853\u001b[0;31m         \u001b[0mself\u001b[0m\u001b[0;34m.\u001b[0m\u001b[0m_reader\u001b[0m \u001b[0;34m=\u001b[0m \u001b[0mparsers\u001b[0m\u001b[0;34m.\u001b[0m\u001b[0mTextReader\u001b[0m\u001b[0;34m(\u001b[0m\u001b[0msrc\u001b[0m\u001b[0;34m,\u001b[0m \u001b[0;34m**\u001b[0m\u001b[0mkwds\u001b[0m\u001b[0;34m)\u001b[0m\u001b[0;34m\u001b[0m\u001b[0m\n\u001b[0m\u001b[1;32m   1854\u001b[0m         \u001b[0mself\u001b[0m\u001b[0;34m.\u001b[0m\u001b[0munnamed_cols\u001b[0m \u001b[0;34m=\u001b[0m \u001b[0mself\u001b[0m\u001b[0;34m.\u001b[0m\u001b[0m_reader\u001b[0m\u001b[0;34m.\u001b[0m\u001b[0munnamed_cols\u001b[0m\u001b[0;34m\u001b[0m\u001b[0m\n\u001b[1;32m   1855\u001b[0m \u001b[0;34m\u001b[0m\u001b[0m\n",
      "\u001b[0;32mpandas/_libs/parsers.pyx\u001b[0m in \u001b[0;36mpandas._libs.parsers.TextReader.__cinit__\u001b[0;34m()\u001b[0m\n",
      "\u001b[0;32mpandas/_libs/parsers.pyx\u001b[0m in \u001b[0;36mpandas._libs.parsers.TextReader._setup_parser_source\u001b[0;34m()\u001b[0m\n",
      "\u001b[0;31mFileNotFoundError\u001b[0m: [Errno 2] File b'/Volumes/Brettlv_G_m/Mrk1018/swift/Husemann.txt' does not exist: b'/Volumes/Brettlv_G_m/Mrk1018/swift/Husemann.txt'"
     ]
    }
   ],
   "source": [
    "head=['date','ins','expt','offaxisangle','Nbin','chi','gamma','','gerr','flux','','ferr']\n",
    "Husemann2016=pd.read_csv('%sHusemann.txt'%filepath,sep=' ',header=None)"
   ]
  },
  {
   "cell_type": "code",
   "execution_count": 48,
   "metadata": {
    "ExecuteTime": {
     "end_time": "2019-08-12T08:31:22.526011Z",
     "start_time": "2019-08-12T08:31:22.517288Z"
    },
    "collapsed": false
   },
   "outputs": [],
   "source": [
    "Husemann2016.columns=head"
   ]
  },
  {
   "cell_type": "code",
   "execution_count": 59,
   "metadata": {
    "ExecuteTime": {
     "end_time": "2019-08-12T10:44:25.172061Z",
     "start_time": "2019-08-12T10:44:25.092072Z"
    },
    "collapsed": true
   },
   "outputs": [],
   "source": [
    "Husemann2016.to_csv(\"husemann2016.csv\" , encoding = \"utf-8\")"
   ]
  },
  {
   "cell_type": "code",
   "execution_count": 60,
   "metadata": {
    "ExecuteTime": {
     "end_time": "2019-08-12T10:44:29.195616Z",
     "start_time": "2019-08-12T10:44:29.146183Z"
    },
    "collapsed": false,
    "scrolled": true
   },
   "outputs": [
    {
     "data": {
      "text/html": [
       "<div>\n",
       "<style scoped>\n",
       "    .dataframe tbody tr th:only-of-type {\n",
       "        vertical-align: middle;\n",
       "    }\n",
       "\n",
       "    .dataframe tbody tr th {\n",
       "        vertical-align: top;\n",
       "    }\n",
       "\n",
       "    .dataframe thead th {\n",
       "        text-align: right;\n",
       "    }\n",
       "</style>\n",
       "<table border=\"1\" class=\"dataframe\">\n",
       "  <thead>\n",
       "    <tr style=\"text-align: right;\">\n",
       "      <th></th>\n",
       "      <th>date</th>\n",
       "      <th>ins</th>\n",
       "      <th>expt</th>\n",
       "      <th>offaxisangle</th>\n",
       "      <th>Nbin</th>\n",
       "      <th>chi</th>\n",
       "      <th>gamma</th>\n",
       "      <th></th>\n",
       "      <th>gerr</th>\n",
       "      <th>flux</th>\n",
       "      <th></th>\n",
       "      <th>ferr</th>\n",
       "    </tr>\n",
       "  </thead>\n",
       "  <tbody>\n",
       "    <tr>\n",
       "      <th>0</th>\n",
       "      <td>53587</td>\n",
       "      <td>(S)</td>\n",
       "      <td>5.2</td>\n",
       "      <td>2.6</td>\n",
       "      <td>113</td>\n",
       "      <td>(1.1)</td>\n",
       "      <td>1.93</td>\n",
       "      <td>±</td>\n",
       "      <td>0.05</td>\n",
       "      <td>1.11</td>\n",
       "      <td>±</td>\n",
       "      <td>0.08</td>\n",
       "    </tr>\n",
       "    <tr>\n",
       "      <th>1</th>\n",
       "      <td>54271</td>\n",
       "      <td>(S)</td>\n",
       "      <td>3.3</td>\n",
       "      <td>4.4</td>\n",
       "      <td>58</td>\n",
       "      <td>(1.1)</td>\n",
       "      <td>1.91</td>\n",
       "      <td>±</td>\n",
       "      <td>0.08</td>\n",
       "      <td>0.92</td>\n",
       "      <td>±</td>\n",
       "      <td>0.10</td>\n",
       "    </tr>\n",
       "    <tr>\n",
       "      <th>2</th>\n",
       "      <td>54273</td>\n",
       "      <td>(S)</td>\n",
       "      <td>3.5</td>\n",
       "      <td>6.3</td>\n",
       "      <td>61</td>\n",
       "      <td>(1.2)</td>\n",
       "      <td>1.95</td>\n",
       "      <td>±</td>\n",
       "      <td>0.08</td>\n",
       "      <td>0.78</td>\n",
       "      <td>±</td>\n",
       "      <td>0.07</td>\n",
       "    </tr>\n",
       "    <tr>\n",
       "      <th>3</th>\n",
       "      <td>54275</td>\n",
       "      <td>(S)</td>\n",
       "      <td>4.1</td>\n",
       "      <td>5.9</td>\n",
       "      <td>73</td>\n",
       "      <td>(1.0)</td>\n",
       "      <td>1.95</td>\n",
       "      <td>±</td>\n",
       "      <td>0.07</td>\n",
       "      <td>0.85</td>\n",
       "      <td>±</td>\n",
       "      <td>0.07</td>\n",
       "    </tr>\n",
       "    <tr>\n",
       "      <th>4</th>\n",
       "      <td>54628</td>\n",
       "      <td>(S)</td>\n",
       "      <td>4.8</td>\n",
       "      <td>1.2</td>\n",
       "      <td>81</td>\n",
       "      <td>(1.0)</td>\n",
       "      <td>1.76</td>\n",
       "      <td>±</td>\n",
       "      <td>0.06</td>\n",
       "      <td>0.97</td>\n",
       "      <td>±</td>\n",
       "      <td>0.08</td>\n",
       "    </tr>\n",
       "    <tr>\n",
       "      <th>5</th>\n",
       "      <td>55527</td>\n",
       "      <td>(C)</td>\n",
       "      <td>22.7</td>\n",
       "      <td>0.0</td>\n",
       "      <td>169</td>\n",
       "      <td>(1.2)</td>\n",
       "      <td>1.68</td>\n",
       "      <td>±</td>\n",
       "      <td>0.04</td>\n",
       "      <td>0.92</td>\n",
       "      <td>±</td>\n",
       "      <td>0.02</td>\n",
       "    </tr>\n",
       "    <tr>\n",
       "      <th>6</th>\n",
       "      <td>56450</td>\n",
       "      <td>(S)</td>\n",
       "      <td>1.3</td>\n",
       "      <td>2.0</td>\n",
       "      <td>14</td>\n",
       "      <td>(1.1)</td>\n",
       "      <td>1.42</td>\n",
       "      <td>±</td>\n",
       "      <td>0.18</td>\n",
       "      <td>0.79</td>\n",
       "      <td>±</td>\n",
       "      <td>0.16</td>\n",
       "    </tr>\n",
       "    <tr>\n",
       "      <th>7</th>\n",
       "      <td>56817</td>\n",
       "      <td>(S)</td>\n",
       "      <td>2.1</td>\n",
       "      <td>4.5</td>\n",
       "      <td>3</td>\n",
       "      <td>(0.5)</td>\n",
       "      <td>1.50</td>\n",
       "      <td>±</td>\n",
       "      <td>0.60</td>\n",
       "      <td>0.16</td>\n",
       "      <td>±</td>\n",
       "      <td>0.09</td>\n",
       "    </tr>\n",
       "    <tr>\n",
       "      <th>8</th>\n",
       "      <td>57429</td>\n",
       "      <td>(S)</td>\n",
       "      <td>3.7</td>\n",
       "      <td>3.7</td>\n",
       "      <td>9</td>\n",
       "      <td>(1.3)</td>\n",
       "      <td>1.75</td>\n",
       "      <td>±</td>\n",
       "      <td>0.27</td>\n",
       "      <td>0.15</td>\n",
       "      <td>±</td>\n",
       "      <td>0.05</td>\n",
       "    </tr>\n",
       "    <tr>\n",
       "      <th>9</th>\n",
       "      <td>57434</td>\n",
       "      <td>(S)</td>\n",
       "      <td>3.1</td>\n",
       "      <td>3.9</td>\n",
       "      <td>8</td>\n",
       "      <td>(0.5)</td>\n",
       "      <td>1.33</td>\n",
       "      <td>±</td>\n",
       "      <td>0.26</td>\n",
       "      <td>0.25</td>\n",
       "      <td>±</td>\n",
       "      <td>0.08</td>\n",
       "    </tr>\n",
       "    <tr>\n",
       "      <th>10</th>\n",
       "      <td>57436</td>\n",
       "      <td>(CN)</td>\n",
       "      <td>27.2</td>\n",
       "      <td>0.0</td>\n",
       "      <td>511</td>\n",
       "      <td>(1.1)</td>\n",
       "      <td>1.62</td>\n",
       "      <td>±</td>\n",
       "      <td>0.03</td>\n",
       "      <td>0.12</td>\n",
       "      <td>±</td>\n",
       "      <td>0.01</td>\n",
       "    </tr>\n",
       "  </tbody>\n",
       "</table>\n",
       "</div>"
      ],
      "text/plain": [
       "     date   ins  expt  offaxisangle  Nbin    chi  gamma     gerr  flux     \\\n",
       "0   53587   (S)   5.2           2.6   113  (1.1)   1.93  ±  0.05  1.11  ±   \n",
       "1   54271   (S)   3.3           4.4    58  (1.1)   1.91  ±  0.08  0.92  ±   \n",
       "2   54273   (S)   3.5           6.3    61  (1.2)   1.95  ±  0.08  0.78  ±   \n",
       "3   54275   (S)   4.1           5.9    73  (1.0)   1.95  ±  0.07  0.85  ±   \n",
       "4   54628   (S)   4.8           1.2    81  (1.0)   1.76  ±  0.06  0.97  ±   \n",
       "5   55527   (C)  22.7           0.0   169  (1.2)   1.68  ±  0.04  0.92  ±   \n",
       "6   56450   (S)   1.3           2.0    14  (1.1)   1.42  ±  0.18  0.79  ±   \n",
       "7   56817   (S)   2.1           4.5     3  (0.5)   1.50  ±  0.60  0.16  ±   \n",
       "8   57429   (S)   3.7           3.7     9  (1.3)   1.75  ±  0.27  0.15  ±   \n",
       "9   57434   (S)   3.1           3.9     8  (0.5)   1.33  ±  0.26  0.25  ±   \n",
       "10  57436  (CN)  27.2           0.0   511  (1.1)   1.62  ±  0.03  0.12  ±   \n",
       "\n",
       "    ferr  \n",
       "0   0.08  \n",
       "1   0.10  \n",
       "2   0.07  \n",
       "3   0.07  \n",
       "4   0.08  \n",
       "5   0.02  \n",
       "6   0.16  \n",
       "7   0.09  \n",
       "8   0.05  \n",
       "9   0.08  \n",
       "10  0.01  "
      ]
     },
     "execution_count": 60,
     "metadata": {},
     "output_type": "execute_result"
    }
   ],
   "source": [
    "Husemann2016"
   ]
  },
  {
   "cell_type": "code",
   "execution_count": 587,
   "metadata": {
    "ExecuteTime": {
     "end_time": "2019-06-05T09:32:08.835061Z",
     "start_time": "2019-06-05T09:32:07.988145Z"
    },
    "collapsed": false
   },
   "outputs": [
    {
     "data": {
      "text/plain": [
       "<ErrorbarContainer object of 3 artists>"
      ]
     },
     "execution_count": 587,
     "metadata": {},
     "output_type": "execute_result"
    },
    {
     "data": {
      "image/png": "[encoded data removed]",
      "text/plain": [
       "<Figure size 720x1296 with 3 Axes>"
      ]
     },
     "metadata": {},
     "output_type": "display_data"
    }
   ],
   "source": [
    "fig=plt.figure(figsize=(10,18))\n",
    "ax=plt.subplot(311)\n",
    "plt.plot(Husemann2016['date'],Husemann2016['flux'],'.')\n",
    "ax=plt.subplot(312)\n",
    "plt.plot(Husemann2016['date'],Husemann2016['gamma'],'.')\n",
    "ax=plt.subplot(313)\n",
    "plt.errorbar(Husemann2016['flux'],Husemann2016['gamma'],xerr=Husemann2016['ferr'],yerr=Husemann2016['gerr'],fmt='-.o')"
   ]
  },
  {
   "cell_type": "code",
   "execution_count": 618,
   "metadata": {
    "ExecuteTime": {
     "end_time": "2019-06-05T10:35:02.607873Z",
     "start_time": "2019-06-05T10:35:02.083312Z"
    },
    "collapsed": false
   },
   "outputs": [
    {
     "data": {
      "image/png": "[encoded data removed]",
      "text/plain": [
       "<Figure size 720x444.96 with 1 Axes>"
      ]
     },
     "metadata": {},
     "output_type": "display_data"
    }
   ],
   "source": [
    "fig=plt.figure(figsize=(10,6.18))\n",
    "ax=plt.subplot(111)\n",
    "plt.errorbar(fitmore85[:,4]*10**11,fitmore85[:,0],yerr=fitmore85[:,1],fmt='*r',label='lv')\n",
    "plt.errorbar(Husemann2016['flux'],Husemann2016['gamma'],xerr=Husemann2016['ferr'],yerr=Husemann2016['gerr'],fmt='.g',label='Husemann16')\n",
    "\n",
    "for i,(_x,_y) in enumerate(zip(Husemann2016['flux'],Husemann2016['gamma'])):\n",
    "    plt.text(_x,_y,Husemann2016['ins'][i],color='red',fontsize=10)\n",
    "\n",
    "setup(ax)\n",
    "ax.set_xlim(10**-1.5, 10**0.5)\n",
    "ax.set_xscale('log')\n",
    "ax.xaxis.set_major_locator(ticker.LogLocator(base=10.0, numticks=15))\n",
    "plt.title(\"Flux and Powerlawindex\")\n",
    "plt.grid(alpha=0.3)\n",
    "plt.legend()\n",
    "#plt.subplots_adjust(left=0.05, right=0.95, bottom=0.05, top=1.05)\n",
    "plt.show()"
   ]
  },
  {
   "cell_type": "code",
   "execution_count": 46,
   "metadata": {
    "ExecuteTime": {
     "end_time": "2019-08-12T08:28:55.415734Z",
     "start_time": "2019-08-12T08:28:55.118590Z"
    },
    "collapsed": false
   },
   "outputs": [
    {
     "ename": "NameError",
     "evalue": "name 'Husemann2016' is not defined",
     "output_type": "error",
     "traceback": [
      "\u001b[0;31m---------------------------------------------------------------------------\u001b[0m",
      "\u001b[0;31mNameError\u001b[0m                                 Traceback (most recent call last)",
      "\u001b[0;32m<ipython-input-46-0ef7e11bd83c>\u001b[0m in \u001b[0;36m<module>\u001b[0;34m()\u001b[0m\n\u001b[0;32m----> 1\u001b[0;31m \u001b[0mHusemann2016\u001b[0m\u001b[0;34m\u001b[0m\u001b[0m\n\u001b[0m",
      "\u001b[0;31mNameError\u001b[0m: name 'Husemann2016' is not defined"
     ]
    }
   ],
   "source": [
    "Husemann2016"
   ]
  },
  {
   "cell_type": "code",
   "execution_count": null,
   "metadata": {
    "collapsed": true
   },
   "outputs": [],
   "source": []
  }
 ],
 "metadata": {
  "kernelspec": {
   "display_name": "Python 3",
   "language": "python",
   "name": "python3"
  },
  "language_info": {
   "codemirror_mode": {
    "name": "ipython",
    "version": 3
   },
   "file_extension": ".py",
   "mimetype": "text/x-python",
   "name": "python",
   "nbconvert_exporter": "python",
   "pygments_lexer": "ipython3",
   "version": "3.6.0"
  },
  "latex_envs": {
   "LaTeX_envs_menu_present": true,
   "autocomplete": true,
   "bibliofile": "biblio.bib",
   "cite_by": "apalike",
   "current_citInitial": 1,
   "eqLabelWithNumbers": true,
   "eqNumInitial": 1,
   "hotkeys": {
    "equation": "Ctrl-E",
    "itemize": "Ctrl-I"
   },
   "labels_anchors": false,
   "latex_user_defs": false,
   "report_style_numbering": false,
   "user_envs_cfg": false
  },
  "toc": {
   "nav_menu": {},
   "number_sections": true,
   "sideBar": true,
   "skip_h1_title": false,
   "toc_cell": false,
   "toc_position": {},
   "toc_section_display": "block",
   "toc_window_display": true
  }
 },
 "nbformat": 4,
 "nbformat_minor": 2
}
