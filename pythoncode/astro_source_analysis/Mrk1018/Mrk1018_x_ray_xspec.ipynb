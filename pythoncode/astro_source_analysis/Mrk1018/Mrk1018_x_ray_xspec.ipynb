{
 "cells": [
  {
   "cell_type": "code",
   "execution_count": null,
   "metadata": {
    "collapsed": true
   },
   "outputs": [],
   "source": [
    "xrtpipeline\n",
    "xselect\n",
    "xrtmkarf\n",
    "grppha\n",
    "xspec"
   ]
  },
  {
   "cell_type": "markdown",
   "metadata": {
    "collapsed": true
   },
   "source": [
    "# init heasoft\n",
    "\n",
    "export HEADAS=/Users/brettlv/src_heasoft/heasoft-6.25/x86_64-apple-darwin16.7.0/  \n",
    ". $HEADAS/headas-init.sh  \n",
    "source /Users/brettlv/src_heasoft/heasoft-6.25/CALDB/software/tools/caldbinit.sh  \n",
    "\n"
   ]
  },
  {
   "cell_type": "code",
   "execution_count": null,
   "metadata": {
    "ExecuteTime": {
     "end_time": "2019-05-08T20:55:50.072357Z",
     "start_time": "2019-05-08T20:55:49.471388Z"
    },
    "collapsed": false
   },
   "outputs": [],
   "source": [
    "!export HEADAS=/Users/brettlv/src_heasoft/heasoft-6.25/x86_64-apple-darwin16.7.0/  \n",
    "!sh /Users/brettlv/src_heasoft/heasoft-6.25/x86_64-apple-darwin16.7.0/headas-init.sh  \n",
    "!source /Users/brettlv/src_heasoft/heasoft-6.25/CALDB/software/tools/caldbinit.sh  \n"
   ]
  },
  {
   "cell_type": "markdown",
   "metadata": {},
   "source": [
    "# import pyxspec"
   ]
  },
  {
   "cell_type": "code",
   "execution_count": 1,
   "metadata": {
    "ExecuteTime": {
     "end_time": "2019-05-16T14:31:56.272061Z",
     "start_time": "2019-05-16T14:31:56.160886Z"
    },
    "collapsed": false
   },
   "outputs": [],
   "source": [
    "from xspec import *\n",
    "import xspec"
   ]
  },
  {
   "cell_type": "markdown",
   "metadata": {},
   "source": [
    "# plotdevice"
   ]
  },
  {
   "cell_type": "code",
   "execution_count": 2,
   "metadata": {
    "ExecuteTime": {
     "end_time": "2019-05-16T14:31:57.615070Z",
     "start_time": "2019-05-16T14:31:57.546040Z"
    },
    "collapsed": true
   },
   "outputs": [],
   "source": [
    "Plot.device='/xs'\n",
    "#Plot.device='/null'"
   ]
  },
  {
   "cell_type": "code",
   "execution_count": null,
   "metadata": {
    "collapsed": true
   },
   "outputs": [],
   "source": []
  },
  {
   "cell_type": "code",
   "execution_count": null,
   "metadata": {
    "collapsed": true
   },
   "outputs": [],
   "source": []
  },
  {
   "cell_type": "markdown",
   "metadata": {},
   "source": [
    "# filepath"
   ]
  },
  {
   "cell_type": "code",
   "execution_count": 3,
   "metadata": {
    "ExecuteTime": {
     "end_time": "2019-05-16T14:32:04.828549Z",
     "start_time": "2019-05-16T14:32:04.143627Z"
    },
    "collapsed": true
   },
   "outputs": [],
   "source": [
    "import os\n",
    "filepath='/Volumes/Brettlv_G_m/Mrk1018/swift/'\n",
    "def get_obsids(path):\n",
    "    dirname=os.listdir(path)\n",
    "    obsids=[]\n",
    "    for i in dirname:\n",
    "        if i.isdigit():\n",
    "            obsids.append(i)\n",
    "    obsids.sort()        \n",
    "    return obsids\n"
   ]
  },
  {
   "cell_type": "code",
   "execution_count": 4,
   "metadata": {
    "ExecuteTime": {
     "end_time": "2019-05-16T14:32:04.984292Z",
     "start_time": "2019-05-16T14:32:04.978340Z"
    },
    "collapsed": false
   },
   "outputs": [],
   "source": [
    "obsid=obsids[0]\n",
    "obsid_path=os.path.join(filepath,obsid+'_xrt')\n",
    "os.chdir(obsid_path)"
   ]
  },
  {
   "cell_type": "markdown",
   "metadata": {},
   "source": [
    "# bat"
   ]
  },
  {
   "cell_type": "code",
   "execution_count": 201,
   "metadata": {
    "ExecuteTime": {
     "end_time": "2019-05-17T09:50:44.784071Z",
     "start_time": "2019-05-17T09:50:44.737113Z"
    },
    "collapsed": false
   },
   "outputs": [],
   "source": [
    "def load_data(filepath,obsid):\n",
    "    obsids=get_obsids(filepath)\n",
    "    obsid_path=os.path.join(filepath,obsid+'_xrt')\n",
    "    os.chdir(obsid_path)\n",
    "    \n",
    "    s1=xspec.Spectrum('%s/src.pi'%obsid_path)\n",
    "    s1.background='%s/bkg.pha'%obsid_path\n",
    "    \n",
    "    Plot.xAxis = \"keV\"\n",
    "    s1.ignore('**-0.5 10.0-**')\n",
    "    s1.ignore(\"bad\")\n",
    "    AllData.ignore(\"bad\")    \n",
    "    return s1 \n",
    "\n",
    "def spec_fit_log():\n",
    "    \n",
    "    mo=Model(\"phabs*cflux*powerlaw\")\n",
    "    mo.phabs.nH=0.0243\n",
    "    mo.phabs.nH.frozen=True\n",
    "    Fit.nIterations = 10000\n",
    "    Fit.statMethod = \"chi\"    \n",
    "    \n",
    "    # Get/Set the console chatter level\n",
    "    ch = Xset.chatter\n",
    "    Xset.chatter = 10\n",
    "    # Get/Set the log chatter level \n",
    "    lch = Xset.logChatter\n",
    "    Xset.logChatter = 20\n",
    "    # Create and open a log file for XSPEC output\n",
    "    # This returns a Python file object\n",
    "    logFile = Xset.openLog(\"newLogFile.txt\")\n",
    "    # Get the Python file object for the currently opened log\n",
    "    logFile = Xset.log\n",
    "    #Fit.show() \n",
    "    Fit.perform()\n",
    "    # Close XSPEC's currently opened log file. \n",
    "    Xset.closeLog()\n",
    "    \n",
    "def get_flux_lumin():\n",
    "    AllModels.calcFlux(\"2. 10.0 err\")\n",
    "    AllModels.calcLumin(\"2.0 10. 0.035 err\")\n",
    "    source = AllData(1)\n",
    "    print('Flux:',obsid,source.flux)\n",
    "    print('Lumin:',obsid,source.lumin)\n",
    "    return source.flux,source.lumin\n",
    "\n",
    "def show_logfile():\n",
    "    obsids=get_obsids(filepath)\n",
    "    obsid_path=os.path.join(filepath,obsid+'_xrt')\n",
    "    with open('newLogFile.txt','r') as f:\n",
    "        content = f.readlines()\n",
    "        for i in content:\n",
    "            print(i)\n"
   ]
  },
  {
   "cell_type": "code",
   "execution_count": null,
   "metadata": {
    "collapsed": true
   },
   "outputs": [],
   "source": [
    "obsids=get_obsids(filepath)\n",
    "obsid=obsids[0]\n",
    "load_data(filepath,obsid)\n",
    "spec_fit_log()\n",
    "show_logfile()\n",
    "flux,lumin=get_flux_lumin()\n",
    "print(os.getcwd())\n",
    "AllData.clear()"
   ]
  },
  {
   "cell_type": "code",
   "execution_count": 234,
   "metadata": {
    "ExecuteTime": {
     "end_time": "2019-05-17T14:19:16.613590Z",
     "start_time": "2019-05-17T14:19:12.836620Z"
    },
    "collapsed": false
   },
   "outputs": [
    {
     "name": "stdout",
     "output_type": "stream",
     "text": [
      "/Volumes/Brettlv_G_m/Mrk1018/swift/00030955001_xrt\n",
      "Flux: 00030955001 (9.024019576283383e-12, 1.372042218328417e-12, 1.1954477617503356e-13, 0.001354149072767363, 0.0002833619185004816, 2.902441192406442e-05)\n",
      "Lumin: 00030955001 (0.25444695984681887, nan, nan, 0.001393709951692312, nan, nan)\n",
      "\n",
      "/Volumes/Brettlv_G_m/Mrk1018/swift/00030955002_xrt\n",
      "Flux: 00030955002 (7.264881744162833e-12, 1.284297589330703e-11, nan, 0.0011146425326147736, 0.0010298333446653592, nan)\n",
      "Lumin: 00030955002 (0.20559189858103685, nan, 0.3236188756510503, 0.0011513868120877804, 0.0008924110516448774, 0.0009408758147040138)\n",
      "\n",
      "/Volumes/Brettlv_G_m/Mrk1018/swift/00030955003_xrt\n",
      "Flux: 00030955003 (8.555257980466863e-12, nan, 1.3680400596148292e-11, 0.0013042520456964714, nan, 0.0016528547544065759)\n",
      "Lumin: 00030955003 (0.2418540780086872, 0.33562602710988315, nan, 0.001345829836829737, 0.0014803754202740674, nan)\n",
      "\n",
      "/Volumes/Brettlv_G_m/Mrk1018/swift/00035166001_xrt\n"
     ]
    },
    {
     "ename": "Exception",
     "evalue": "Error executing command: fit",
     "output_type": "error",
     "traceback": [
      "\u001b[0;31m---------------------------------------------------------------------------\u001b[0m",
      "\u001b[0;31mException\u001b[0m                                 Traceback (most recent call last)",
      "\u001b[0;32m<ipython-input-234-f33043f6d45a>\u001b[0m in \u001b[0;36m<module>\u001b[0;34m()\u001b[0m\n\u001b[1;32m      8\u001b[0m     \u001b[0mload_data\u001b[0m\u001b[0;34m(\u001b[0m\u001b[0mfilepath\u001b[0m\u001b[0;34m,\u001b[0m\u001b[0mobsid\u001b[0m\u001b[0;34m)\u001b[0m\u001b[0;34m\u001b[0m\u001b[0m\n\u001b[1;32m      9\u001b[0m     \u001b[0mprint\u001b[0m\u001b[0;34m(\u001b[0m\u001b[0mos\u001b[0m\u001b[0;34m.\u001b[0m\u001b[0mgetcwd\u001b[0m\u001b[0;34m(\u001b[0m\u001b[0;34m)\u001b[0m\u001b[0;34m)\u001b[0m\u001b[0;34m\u001b[0m\u001b[0m\n\u001b[0;32m---> 10\u001b[0;31m     \u001b[0mspec_fit_log\u001b[0m\u001b[0;34m(\u001b[0m\u001b[0;34m)\u001b[0m\u001b[0;34m\u001b[0m\u001b[0m\n\u001b[0m\u001b[1;32m     11\u001b[0m \u001b[0;34m\u001b[0m\u001b[0m\n\u001b[1;32m     12\u001b[0m     \u001b[0mflux\u001b[0m\u001b[0;34m,\u001b[0m\u001b[0mlumin\u001b[0m\u001b[0;34m=\u001b[0m\u001b[0mget_flux_lumin\u001b[0m\u001b[0;34m(\u001b[0m\u001b[0;34m)\u001b[0m\u001b[0;34m\u001b[0m\u001b[0m\n",
      "\u001b[0;32m<ipython-input-201-68e890cc81a8>\u001b[0m in \u001b[0;36mspec_fit_log\u001b[0;34m()\u001b[0m\n\u001b[1;32m     33\u001b[0m     \u001b[0mlogFile\u001b[0m \u001b[0;34m=\u001b[0m \u001b[0mXset\u001b[0m\u001b[0;34m.\u001b[0m\u001b[0mlog\u001b[0m\u001b[0;34m\u001b[0m\u001b[0m\n\u001b[1;32m     34\u001b[0m     \u001b[0;31m#Fit.show()\u001b[0m\u001b[0;34m\u001b[0m\u001b[0;34m\u001b[0m\u001b[0m\n\u001b[0;32m---> 35\u001b[0;31m     \u001b[0mFit\u001b[0m\u001b[0;34m.\u001b[0m\u001b[0mperform\u001b[0m\u001b[0;34m(\u001b[0m\u001b[0;34m)\u001b[0m\u001b[0;34m\u001b[0m\u001b[0m\n\u001b[0m\u001b[1;32m     36\u001b[0m     \u001b[0;31m# Close XSPEC's currently opened log file.\u001b[0m\u001b[0;34m\u001b[0m\u001b[0;34m\u001b[0m\u001b[0m\n\u001b[1;32m     37\u001b[0m     \u001b[0mXset\u001b[0m\u001b[0;34m.\u001b[0m\u001b[0mcloseLog\u001b[0m\u001b[0;34m(\u001b[0m\u001b[0;34m)\u001b[0m\u001b[0;34m\u001b[0m\u001b[0m\n",
      "\u001b[0;32m/Users/brettlv/src_heasoft/heasoft-6.25/x86_64-apple-darwin16.7.0/lib/python/xspec/fit.py\u001b[0m in \u001b[0;36mperform\u001b[0;34m(self)\u001b[0m\n\u001b[1;32m    454\u001b[0m \u001b[0;34m\u001b[0m\u001b[0m\n\u001b[1;32m    455\u001b[0m         \u001b[0mfitArgs\u001b[0m \u001b[0;34m=\u001b[0m \u001b[0;34m[\u001b[0m\u001b[0;34m\"fit\"\u001b[0m\u001b[0;34m]\u001b[0m\u001b[0;34m\u001b[0m\u001b[0m\n\u001b[0;32m--> 456\u001b[0;31m         \u001b[0m_pyXspec\u001b[0m\u001b[0;34m.\u001b[0m\u001b[0mdoXspecCmd\u001b[0m\u001b[0;34m(\u001b[0m\u001b[0mfitArgs\u001b[0m\u001b[0;34m)\u001b[0m\u001b[0;34m\u001b[0m\u001b[0m\n\u001b[0m\u001b[1;32m    457\u001b[0m \u001b[0;34m\u001b[0m\u001b[0m\n\u001b[1;32m    458\u001b[0m     \u001b[0;32mdef\u001b[0m \u001b[0mrenorm\u001b[0m\u001b[0;34m(\u001b[0m\u001b[0mself\u001b[0m\u001b[0;34m,\u001b[0m \u001b[0msetting\u001b[0m\u001b[0;34m=\u001b[0m\u001b[0;32mNone\u001b[0m\u001b[0;34m)\u001b[0m\u001b[0;34m:\u001b[0m\u001b[0;34m\u001b[0m\u001b[0m\n",
      "\u001b[0;31mException\u001b[0m: Error executing command: fit"
     ]
    }
   ],
   "source": [
    "obsids=get_obsids(filepath)\n",
    "fluxsids=[]\n",
    "fluxs=[]\n",
    "errl=[]\n",
    "errr=[]\n",
    "for i_ in range(0,len(obsids)):\n",
    "    obsid=obsids[i_]\n",
    "    load_data(filepath,obsid)\n",
    "    print(os.getcwd())\n",
    "    spec_fit_log()\n",
    "    \n",
    "    flux,lumin=get_flux_lumin()\n",
    "    fluxs.append(flux[0])\n",
    "    fluxsids.append(obsid)\n",
    "    errl.append(flux[1])\n",
    "    errr.append(flux[2])\n",
    "    \n",
    "    print()\n",
    "    AllData.clear()\n",
    "    \n"
   ]
  },
  {
   "cell_type": "code",
   "execution_count": 231,
   "metadata": {
    "ExecuteTime": {
     "end_time": "2019-05-17T10:16:16.765697Z",
     "start_time": "2019-05-17T10:16:16.760416Z"
    },
    "collapsed": false
   },
   "outputs": [
    {
     "data": {
      "text/plain": [
       "([9.024019576283383e-12,\n",
       "  7.264881744162833e-12,\n",
       "  8.555257980466863e-12,\n",
       "  3.0112686232017905e-12,\n",
       "  2.0399784004721528e-12,\n",
       "  2.0197066132748527e-12,\n",
       "  1.8145661486298452e-12,\n",
       "  3.0032159019139956e-12,\n",
       "  3.917748948415561e-12,\n",
       "  1.0003840296048795e-12,\n",
       "  1.7694104593918336e-12,\n",
       "  1.0115511237691638e-12,\n",
       "  1.2400966633154186e-12,\n",
       "  1.6627379700749233e-12,\n",
       "  4.458342907977558e-12,\n",
       "  5.760908102451991e-13,\n",
       "  4.704253027351484e-13,\n",
       "  6.771586099190582e-13,\n",
       "  9.387963356142498e-13,\n",
       "  4.2292645200008003e-13,\n",
       "  6.564257397376211e-13,\n",
       "  6.830873340533672e-12,\n",
       "  1.6412125340197885e-12,\n",
       "  1.7516311286765833e-12,\n",
       "  2.222383182905753e-12,\n",
       "  2.9960593668749067e-12,\n",
       "  2.0365045561208827e-12,\n",
       "  1.8769518861749676e-12],\n",
       " ['00030955001',\n",
       "  '00030955002',\n",
       "  '00030955003',\n",
       "  '00035776004',\n",
       "  '00035776006',\n",
       "  '00035776007',\n",
       "  '00035776011',\n",
       "  '00035776014',\n",
       "  '00035776017',\n",
       "  '00035776019',\n",
       "  '00035776021',\n",
       "  '00035776024',\n",
       "  '00035776027',\n",
       "  '00035776032',\n",
       "  '00035776034',\n",
       "  '00035776036',\n",
       "  '00035776041',\n",
       "  '00035776042',\n",
       "  '00035776046',\n",
       "  '00035776051',\n",
       "  '00035776056',\n",
       "  '00049654002',\n",
       "  '00049654004',\n",
       "  '00080898001',\n",
       "  '00080898002',\n",
       "  '00088207001',\n",
       "  '00088207002',\n",
       "  '00088207003'])"
      ]
     },
     "execution_count": 231,
     "metadata": {},
     "output_type": "execute_result"
    }
   ],
   "source": [
    "fluxs,fluxsids"
   ]
  },
  {
   "cell_type": "code",
   "execution_count": 232,
   "metadata": {
    "ExecuteTime": {
     "end_time": "2019-05-17T10:16:38.923402Z",
     "start_time": "2019-05-17T10:16:38.918801Z"
    },
    "collapsed": false
   },
   "outputs": [
    {
     "data": {
      "text/plain": [
       "(28, 28, 63)"
      ]
     },
     "execution_count": 232,
     "metadata": {},
     "output_type": "execute_result"
    }
   ],
   "source": [
    "len(fluxs),len(fluxsids),len(obsids)"
   ]
  },
  {
   "cell_type": "markdown",
   "metadata": {},
   "source": [
    "# spectrum"
   ]
  },
  {
   "cell_type": "code",
   "execution_count": 184,
   "metadata": {
    "ExecuteTime": {
     "end_time": "2019-05-17T09:32:26.357962Z",
     "start_time": "2019-05-17T09:32:25.609453Z"
    },
    "collapsed": false
   },
   "outputs": [],
   "source": [
    "s1=xspec.Spectrum('%s/src.pi'%obsid_path)\n",
    "s1.background='%s/bkg.pha'%obsid_path\n",
    "\n",
    "#s1.arf='pc.arf'\n",
    "#s1.ignore('**-35 1909-**')#nustar\n",
    "\n",
    "Plot.xAxis = \"keV\"\n",
    "s1.ignore('**-0.3 10.0-**')\n",
    "s1.ignore(\"bad\")\n",
    "AllData.ignore(\"bad\")"
   ]
  },
  {
   "cell_type": "code",
   "execution_count": 188,
   "metadata": {
    "ExecuteTime": {
     "end_time": "2019-05-17T09:33:01.572671Z",
     "start_time": "2019-05-17T09:33:01.562422Z"
    },
    "collapsed": false
   },
   "outputs": [
    {
     "data": {
      "text/plain": [
       "('/Volumes/Brettlv_G_m/Mrk1018/swift/00030955001_xrt/src.arf',\n",
       " '/Volumes/Brettlv_G_m/Mrk1018/swift/00030955001_xrt/swxpc0to12s0_20070101v012.rmf')"
      ]
     },
     "execution_count": 188,
     "metadata": {},
     "output_type": "execute_result"
    }
   ],
   "source": [
    "s1.response.arf,s1.response.rmf"
   ]
  },
  {
   "cell_type": "markdown",
   "metadata": {},
   "source": [
    "# getplot"
   ]
  },
  {
   "cell_type": "code",
   "execution_count": 7,
   "metadata": {
    "ExecuteTime": {
     "end_time": "2019-05-16T14:32:14.229775Z",
     "start_time": "2019-05-16T14:32:11.822857Z"
    },
    "collapsed": false
   },
   "outputs": [],
   "source": [
    "import matplotlib.pyplot as plt\n",
    "#Plot.device='/xs'\n",
    "#Plot.device = '/null'\n",
    "#Plot('data')\n",
    "\n",
    "\n",
    "\n",
    "def Plot_num():\n",
    "    Plot('data')\n",
    "    xVals = Plot.x(1)\n",
    "    yVals = Plot.y(2)\n",
    "    yVals2= Plot.y(2)\n",
    "\n",
    "    xErrs = Plot.xErr(1)\n",
    "    yErrs = Plot.yErr(1)\n",
    "    \n",
    "    \n",
    "    modVals = Plot.model()\n",
    "    plt.errorbar(xVals,yVals,xerr=xErrs,yerr=yErrs,fmt='.:')\n",
    "    plt.xlabel('keV')\n",
    "    plt.ylabel('$counts \\cdot s^{-1} \\cdot keV^{-1}$')\n",
    "    plt.show()\n",
    "    \n"
   ]
  },
  {
   "cell_type": "code",
   "execution_count": 9,
   "metadata": {
    "ExecuteTime": {
     "end_time": "2019-05-16T14:32:33.371848Z",
     "start_time": "2019-05-16T14:32:33.358998Z"
    },
    "collapsed": false
   },
   "outputs": [
    {
     "name": "stdout",
     "output_type": "stream",
     "text": [
      "\n",
      "User entered plot commands:\n"
     ]
    }
   ],
   "source": [
    "Plot.background = True\n",
    "#Plot.background = False\n",
    "Plot('data')\n",
    "bkg = Plot.backgroundVals()\n",
    "\n",
    "Plot.xLog = True\n",
    "Plot.yLog = True\n",
    "Plot.add=True\n",
    "Plot('data')\n",
    "Plot.show()"
   ]
  },
  {
   "cell_type": "code",
   "execution_count": 11,
   "metadata": {
    "ExecuteTime": {
     "end_time": "2019-05-16T14:32:49.516840Z",
     "start_time": "2019-05-16T14:32:49.506709Z"
    },
    "collapsed": false
   },
   "outputs": [
    {
     "ename": "Exception",
     "evalue": "",
     "output_type": "error",
     "traceback": [
      "\u001b[0;31m---------------------------------------------------------------------------\u001b[0m",
      "\u001b[0;31mException\u001b[0m                                 Traceback (most recent call last)",
      "\u001b[0;32m<ipython-input-11-6ce0dd0ad67c>\u001b[0m in \u001b[0;36m<module>\u001b[0;34m()\u001b[0m\n\u001b[1;32m      1\u001b[0m \u001b[0;31m# Single panel plots\u001b[0m\u001b[0;34m\u001b[0m\u001b[0;34m\u001b[0m\u001b[0m\n\u001b[1;32m      2\u001b[0m \u001b[0mPlot\u001b[0m\u001b[0;34m(\u001b[0m\u001b[0;34m\"data\"\u001b[0m\u001b[0;34m)\u001b[0m\u001b[0;34m\u001b[0m\u001b[0m\n\u001b[0;32m----> 3\u001b[0;31m \u001b[0mPlot\u001b[0m\u001b[0;34m(\u001b[0m\u001b[0;34m\"model\"\u001b[0m\u001b[0;34m)\u001b[0m\u001b[0;34m\u001b[0m\u001b[0m\n\u001b[0m\u001b[1;32m      4\u001b[0m \u001b[0mPlot\u001b[0m\u001b[0;34m(\u001b[0m\u001b[0;34m\"ufspec\"\u001b[0m\u001b[0;34m)\u001b[0m\u001b[0;34m\u001b[0m\u001b[0m\n",
      "\u001b[0;32m/Users/brettlv/src_heasoft/heasoft-6.25/x86_64-apple-darwin16.7.0/lib/python/xspec/plot.py\u001b[0m in \u001b[0;36m__call__\u001b[0;34m(self, *panes)\u001b[0m\n\u001b[1;32m     84\u001b[0m         \u001b[0;32mfor\u001b[0m \u001b[0ms\u001b[0m \u001b[0;32min\u001b[0m \u001b[0mpanes\u001b[0m\u001b[0;34m:\u001b[0m\u001b[0;34m\u001b[0m\u001b[0m\n\u001b[1;32m     85\u001b[0m             \u001b[0mplotArgs\u001b[0m \u001b[0;34m+=\u001b[0m \u001b[0ms\u001b[0m\u001b[0;34m.\u001b[0m\u001b[0msplit\u001b[0m\u001b[0;34m(\u001b[0m\u001b[0;34m)\u001b[0m\u001b[0;34m\u001b[0m\u001b[0m\n\u001b[0;32m---> 86\u001b[0;31m         \u001b[0m_pyXspec\u001b[0m\u001b[0;34m.\u001b[0m\u001b[0mdoPlot\u001b[0m\u001b[0;34m(\u001b[0m\u001b[0mplotArgs\u001b[0m\u001b[0;34m)\u001b[0m\u001b[0;34m\u001b[0m\u001b[0m\n\u001b[0m\u001b[1;32m     87\u001b[0m \u001b[0;34m\u001b[0m\u001b[0m\n\u001b[1;32m     88\u001b[0m     \u001b[0;32mdef\u001b[0m \u001b[0m_getAdd\u001b[0m\u001b[0;34m(\u001b[0m\u001b[0mself\u001b[0m\u001b[0;34m)\u001b[0m\u001b[0;34m:\u001b[0m\u001b[0;34m\u001b[0m\u001b[0m\n",
      "\u001b[0;31mException\u001b[0m: "
     ]
    }
   ],
   "source": [
    "# Single panel plots\n",
    "Plot(\"data\")\n",
    "Plot(\"model\")\n",
    "Plot(\"ufspec\")"
   ]
  },
  {
   "cell_type": "code",
   "execution_count": null,
   "metadata": {
    "collapsed": true
   },
   "outputs": [],
   "source": [
    "label top Simulated Spectrum\n",
    "label file Chandra ACIS-S\n",
    "label y counts s\\u-1\\d keV\\u-1\\d\n",
    "setp co LA OT Crab  #Add the label \"Crab\" to future plots.\n",
    "#Plot.addCommand('hardcopy dataplot.png/ps color')\n",
    " LAbel <Top,X,Y> [<string>] adds labels to various locations on the graph. For example, typing LA Top EXOSAT was great will cause the message “EXOSAT was great” to appear at the top of the graph the next time the display is redrawn. Without the string argument the current label for Top, X, or Y is set to the empty string.\n",
    "• Hardcopy [?, PGPLOT plot device creates a file that can later be printed. Since it redraws the graph and sends it to a file, it does not reproduce what currently is visible on the graphics display, but rather what you would see if you re-issued the Plot command. With the optional “?” argument, Hardcopy returns the current hardcopy plotting device. This can be overridden with Hardcopy [PGPLOT device name].\n",
    "• EXit returns control to XSPEC. Any changes you have made to the plot will be lost.\n",
    "\n",
    "\n",
    "            plt:hardcopy figj.png/ps             \n",
    "            \n",
    "            "
   ]
  },
  {
   "cell_type": "code",
   "execution_count": null,
   "metadata": {
    "collapsed": true
   },
   "outputs": [],
   "source": []
  },
  {
   "cell_type": "code",
   "execution_count": null,
   "metadata": {
    "ExecuteTime": {
     "end_time": "2019-05-16T14:22:24.881885Z",
     "start_time": "2019-05-16T14:22:24.455949Z"
    },
    "collapsed": false
   },
   "outputs": [],
   "source": [
    "Plot.iplot(\"data\")\n",
    "#Plot.addCommand(\"hardcopy spec.ps/ps color\")"
   ]
  },
  {
   "cell_type": "code",
   "execution_count": null,
   "metadata": {
    "ExecuteTime": {
     "end_time": "2019-05-16T14:20:56.794637Z",
     "start_time": "2019-05-16T14:20:56.789759Z"
    },
    "collapsed": false
   },
   "outputs": [],
   "source": [
    "pwd"
   ]
  },
  {
   "cell_type": "code",
   "execution_count": 90,
   "metadata": {
    "ExecuteTime": {
     "end_time": "2019-05-16T15:48:15.780060Z",
     "start_time": "2019-05-16T15:48:15.767840Z"
    },
    "collapsed": false
   },
   "outputs": [
    {
     "name": "stdout",
     "output_type": "stream",
     "text": [
      "Plot command list is now empty\n"
     ]
    }
   ],
   "source": [
    "# Multi panel plots\n",
    "#Plot(\"data chisq\")\n",
    "#Plot(\"data\",\"model\",\"resid\")\n",
    "# Call Plot with no arguments to repeat the previously entered Plot command Plot()\n",
    "Plot('eeuf del')\n",
    "Plot.commands= ()\n",
    "Plot.commands = (\"label 1 pos 5 .001 \\\"%s \\\"\"%obsid,)\n",
    "\n",
    "Plot.add=True"
   ]
  },
  {
   "cell_type": "code",
   "execution_count": 91,
   "metadata": {
    "ExecuteTime": {
     "end_time": "2019-05-16T15:48:18.980201Z",
     "start_time": "2019-05-16T15:48:18.976110Z"
    },
    "collapsed": false
   },
   "outputs": [
    {
     "name": "stdout",
     "output_type": "stream",
     "text": [
      "('label 1 pos 5 .001 \"00030955001 \"',)\n"
     ]
    }
   ],
   "source": [
    "print(Plot.commands)\n",
    "#Plot.delCommand(3)"
   ]
  },
  {
   "cell_type": "code",
   "execution_count": 92,
   "metadata": {
    "ExecuteTime": {
     "end_time": "2019-05-16T15:48:20.833876Z",
     "start_time": "2019-05-16T15:48:20.830048Z"
    },
    "collapsed": true
   },
   "outputs": [],
   "source": [
    "Plot.addCommand(\"label top Simulated Spectrum\")\n"
   ]
  },
  {
   "cell_type": "code",
   "execution_count": 93,
   "metadata": {
    "ExecuteTime": {
     "end_time": "2019-05-16T15:48:21.749034Z",
     "start_time": "2019-05-16T15:48:21.746149Z"
    },
    "collapsed": true
   },
   "outputs": [],
   "source": [
    "Plot.addCommand(\"label 2 pos 5 .01 \\\"Another Label\\\"\")"
   ]
  },
  {
   "cell_type": "code",
   "execution_count": 94,
   "metadata": {
    "ExecuteTime": {
     "end_time": "2019-05-16T15:48:22.840807Z",
     "start_time": "2019-05-16T15:48:22.835709Z"
    },
    "collapsed": true
   },
   "outputs": [],
   "source": [
    "Plot()"
   ]
  },
  {
   "cell_type": "code",
   "execution_count": 76,
   "metadata": {
    "ExecuteTime": {
     "end_time": "2019-05-16T15:46:27.398776Z",
     "start_time": "2019-05-16T15:46:27.394561Z"
    },
    "collapsed": false
   },
   "outputs": [
    {
     "name": "stdout",
     "output_type": "stream",
     "text": [
      "Plot command list is now empty\n"
     ]
    }
   ],
   "source": [
    "Plot.commands=()"
   ]
  },
  {
   "cell_type": "markdown",
   "metadata": {
    "ExecuteTime": {
     "end_time": "2019-05-10T21:14:03.382345Z",
     "start_time": "2019-05-10T21:14:03.377188Z"
    },
    "collapsed": true
   },
   "source": [
    "# fit_spec"
   ]
  },
  {
   "cell_type": "code",
   "execution_count": null,
   "metadata": {
    "collapsed": true
   },
   "outputs": [],
   "source": []
  },
  {
   "cell_type": "code",
   "execution_count": null,
   "metadata": {
    "collapsed": true
   },
   "outputs": [],
   "source": []
  },
  {
   "cell_type": "code",
   "execution_count": 121,
   "metadata": {
    "ExecuteTime": {
     "end_time": "2019-05-16T16:25:30.457604Z",
     "start_time": "2019-05-16T16:25:30.394033Z"
    },
    "collapsed": false
   },
   "outputs": [],
   "source": [
    "mo=Model(\"phabs*cflux*powerlaw\")\n",
    "mo.phabs.nH=0.0243\n",
    "mo.phabs.nH.frozen=True"
   ]
  },
  {
   "cell_type": "code",
   "execution_count": 106,
   "metadata": {
    "ExecuteTime": {
     "end_time": "2019-05-16T16:08:36.313922Z",
     "start_time": "2019-05-16T16:08:36.308798Z"
    },
    "collapsed": false
   },
   "outputs": [
    {
     "data": {
      "text/plain": [
       "(['phabs', 'cflux', 'powerlaw'],\n",
       " ['PhoIndex', 'norm'],\n",
       " ['nH'],\n",
       " ['Emin', 'Emax', 'lg10Flux'])"
      ]
     },
     "execution_count": 106,
     "metadata": {},
     "output_type": "execute_result"
    }
   ],
   "source": [
    "mo.componentNames,mo.powerlaw.parameterNames,mo.phabs.parameterNames,mo.cflux.parameterNames"
   ]
  },
  {
   "cell_type": "code",
   "execution_count": 107,
   "metadata": {
    "ExecuteTime": {
     "end_time": "2019-05-16T16:08:38.282705Z",
     "start_time": "2019-05-16T16:08:38.276489Z"
    },
    "collapsed": false
   },
   "outputs": [
    {
     "name": "stdout",
     "output_type": "stream",
     "text": [
      "<xspec.parameter.Parameter object at 0x112d23d30>\n"
     ]
    }
   ],
   "source": [
    "print(mo.powerlaw.PhoIndex)"
   ]
  },
  {
   "cell_type": "code",
   "execution_count": 122,
   "metadata": {
    "ExecuteTime": {
     "end_time": "2019-05-16T16:25:33.453234Z",
     "start_time": "2019-05-16T16:25:33.440639Z"
    },
    "collapsed": false
   },
   "outputs": [
    {
     "ename": "Exception",
     "evalue": "Error executing command: error",
     "output_type": "error",
     "traceback": [
      "\u001b[0;31m---------------------------------------------------------------------------\u001b[0m",
      "\u001b[0;31mException\u001b[0m                                 Traceback (most recent call last)",
      "\u001b[0;32m<ipython-input-122-a47b36c45953>\u001b[0m in \u001b[0;36m<module>\u001b[0;34m()\u001b[0m\n\u001b[0;32m----> 1\u001b[0;31m \u001b[0mFit\u001b[0m\u001b[0;34m.\u001b[0m\u001b[0merror\u001b[0m\u001b[0;34m(\u001b[0m\u001b[0;34m\"2.706 5\"\u001b[0m\u001b[0;34m)\u001b[0m\u001b[0;34m\u001b[0m\u001b[0m\n\u001b[0m",
      "\u001b[0;32m/Users/brettlv/src_heasoft/heasoft-6.25/x86_64-apple-darwin16.7.0/lib/python/xspec/fit.py\u001b[0m in \u001b[0;36merror\u001b[0;34m(self, argString)\u001b[0m\n\u001b[1;32m    354\u001b[0m             \u001b[0merrorArgs\u001b[0m \u001b[0;34m=\u001b[0m \u001b[0;34m[\u001b[0m\u001b[0;34m\"error\"\u001b[0m\u001b[0;34m]\u001b[0m\u001b[0;34m\u001b[0m\u001b[0m\n\u001b[1;32m    355\u001b[0m             \u001b[0merrorArgs\u001b[0m \u001b[0;34m+=\u001b[0m \u001b[0margString\u001b[0m\u001b[0;34m.\u001b[0m\u001b[0msplit\u001b[0m\u001b[0;34m(\u001b[0m\u001b[0;34m)\u001b[0m\u001b[0;34m\u001b[0m\u001b[0m\n\u001b[0;32m--> 356\u001b[0;31m             \u001b[0m_pyXspec\u001b[0m\u001b[0;34m.\u001b[0m\u001b[0mdoXspecCmd\u001b[0m\u001b[0;34m(\u001b[0m\u001b[0merrorArgs\u001b[0m\u001b[0;34m)\u001b[0m\u001b[0;34m\u001b[0m\u001b[0m\n\u001b[0m\u001b[1;32m    357\u001b[0m         \u001b[0;32melse\u001b[0m\u001b[0;34m:\u001b[0m\u001b[0;34m\u001b[0m\u001b[0m\n\u001b[1;32m    358\u001b[0m             \u001b[0;32mraise\u001b[0m \u001b[0mException\u001b[0m\u001b[0;34m(\u001b[0m\u001b[0;34m\"Error: error function argument must be a string\"\u001b[0m\u001b[0;34m)\u001b[0m\u001b[0;34m\u001b[0m\u001b[0m\n",
      "\u001b[0;31mException\u001b[0m: Error executing command: error"
     ]
    }
   ],
   "source": [
    "Fit.error(\"2.706 5\")"
   ]
  },
  {
   "cell_type": "code",
   "execution_count": 123,
   "metadata": {
    "ExecuteTime": {
     "end_time": "2019-05-16T16:25:36.984082Z",
     "start_time": "2019-05-16T16:25:36.953001Z"
    },
    "collapsed": true
   },
   "outputs": [],
   "source": [
    "Fit.perform()"
   ]
  },
  {
   "cell_type": "code",
   "execution_count": 47,
   "metadata": {
    "ExecuteTime": {
     "end_time": "2019-05-16T14:56:38.934082Z",
     "start_time": "2019-05-16T14:56:38.928784Z"
    },
    "collapsed": true
   },
   "outputs": [],
   "source": [
    "Plot('ldata del')"
   ]
  },
  {
   "cell_type": "code",
   "execution_count": 40,
   "metadata": {
    "ExecuteTime": {
     "end_time": "2019-05-16T14:54:30.524717Z",
     "start_time": "2019-05-16T14:54:30.516974Z"
    },
    "collapsed": false
   },
   "outputs": [],
   "source": [
    "Plot('eeuf res')\n",
    "Plot.commands = (\"label 1 pos 5 0.01 \\\"%s \\\"\"%obsid,)\n",
    "Plot.addCommand(\"label 1 pos 5 .001 \\\"Another Label\\\"\")\n"
   ]
  },
  {
   "cell_type": "code",
   "execution_count": null,
   "metadata": {
    "ExecuteTime": {
     "end_time": "2019-05-16T14:30:44.901481Z",
     "start_time": "2019-05-16T14:30:44.895885Z"
    },
    "collapsed": false
   },
   "outputs": [],
   "source": [
    "pwd"
   ]
  },
  {
   "cell_type": "markdown",
   "metadata": {},
   "source": [
    "# Flux"
   ]
  },
  {
   "cell_type": "code",
   "execution_count": 124,
   "metadata": {
    "ExecuteTime": {
     "end_time": "2019-05-16T16:25:40.845553Z",
     "start_time": "2019-05-16T16:25:40.749181Z"
    },
    "collapsed": false
   },
   "outputs": [],
   "source": [
    "#AllModels.calcFlux(\".3 2.0\")\n",
    "#AllModels.calcFlux(\"2.0 10.0 err\")\n",
    "AllModels.calcFlux(\"2. 10.0 err\")\n",
    "AllModels.calcLumin(\"2.0 10. 0.035 err\")"
   ]
  },
  {
   "cell_type": "code",
   "execution_count": 125,
   "metadata": {
    "ExecuteTime": {
     "end_time": "2019-05-16T16:25:41.304001Z",
     "start_time": "2019-05-16T16:25:41.299507Z"
    },
    "collapsed": false
   },
   "outputs": [
    {
     "name": "stdout",
     "output_type": "stream",
     "text": [
      "(9.005257312565136e-12, 1.3330094038228493e-11, nan, 0.001360416425213122, 0.001302792324768165, 0.0015369030086974781)\n",
      "(0.2541959118759779, 0.3584389490957416, nan, 0.0014016927452709797, 0.001337901158036367, nan)\n"
     ]
    }
   ],
   "source": [
    "source = AllData(1)\n",
    "print(source.flux)\n",
    "print(source.lumin)"
   ]
  },
  {
   "cell_type": "code",
   "execution_count": 126,
   "metadata": {
    "ExecuteTime": {
     "end_time": "2019-05-16T16:25:44.101910Z",
     "start_time": "2019-05-16T16:25:44.097197Z"
    },
    "collapsed": false
   },
   "outputs": [
    {
     "data": {
      "text/plain": [
       "['phabs', 'cflux', 'powerlaw']"
      ]
     },
     "execution_count": 126,
     "metadata": {},
     "output_type": "execute_result"
    }
   ],
   "source": [
    "AllModels(1).componentNames"
   ]
  },
  {
   "cell_type": "code",
   "execution_count": 172,
   "metadata": {
    "ExecuteTime": {
     "end_time": "2019-05-16T16:51:12.318332Z",
     "start_time": "2019-05-16T16:51:11.868213Z"
    },
    "collapsed": false
   },
   "outputs": [],
   "source": [
    "\n",
    "\n",
    "mo=Model(\"phabs*cflux*powerlaw\")\n",
    "mo.phabs.nH=0.0243\n",
    "mo.phabs.nH.frozen=True\n",
    "Fit.perform()\n",
    "Fit.nIterations = 100\n",
    "Fit.statMethod = \"cstat\"\n",
    "Fit.statMethod = \"chi\"\n",
    "\n",
    "# Get/Set the console chatter level\n",
    "ch = Xset.chatter\n",
    "Xset.chatter = 10\n",
    "# Get/Set the log chatter level \n",
    "lch = Xset.logChatter\n",
    "Xset.logChatter = 20\n",
    "\n",
    "# Create and open a log file for XSPEC output\n",
    "# This returns a Python file object\n",
    "logFile = Xset.openLog(\"newLogFile.txt\")\n",
    "# Get the Python file object for the currently opened log\n",
    "logFile = Xset.log\n",
    "Fit.show()\n",
    "# Close XSPEC's currently opened log file. \n",
    "Xset.closeLog()"
   ]
  },
  {
   "cell_type": "code",
   "execution_count": 169,
   "metadata": {
    "ExecuteTime": {
     "end_time": "2019-05-16T16:48:42.233086Z",
     "start_time": "2019-05-16T16:48:42.227575Z"
    },
    "collapsed": true
   },
   "outputs": [],
   "source": [
    "#Xset.show()"
   ]
  },
  {
   "cell_type": "code",
   "execution_count": 173,
   "metadata": {
    "ExecuteTime": {
     "end_time": "2019-05-16T16:51:15.309408Z",
     "start_time": "2019-05-16T16:51:15.303512Z"
    },
    "collapsed": false
   },
   "outputs": [
    {
     "name": "stdout",
     "output_type": "stream",
     "text": [
      "<_io.TextIOWrapper name='newLogFile.txt' mode='wt' encoding='UTF-8'>\n"
     ]
    }
   ],
   "source": [
    "print(logFile)"
   ]
  },
  {
   "cell_type": "code",
   "execution_count": 181,
   "metadata": {
    "ExecuteTime": {
     "end_time": "2019-05-16T16:55:41.554774Z",
     "start_time": "2019-05-16T16:55:41.547066Z"
    },
    "collapsed": false
   },
   "outputs": [
    {
     "name": "stdout",
     "output_type": "stream",
     "text": [
      "\n",
      "\n",
      "Fit statistic : Chi-Squared =          88.25 using 91 PHA bins.\n",
      "\n",
      "\n",
      "\n",
      "Test statistic : Chi-Squared =          88.25 using 91 PHA bins.\n",
      "\n",
      " Reduced chi-squared =          1.003 for     88 degrees of freedom \n",
      "\n",
      " Null hypothesis probability =   4.723999e-01\n",
      "\n",
      " Weighting method: standard\n",
      "\n"
     ]
    }
   ],
   "source": [
    "with open('newLogFile.txt','r') as f:\n",
    "    content = f.readlines()\n",
    "    for i in content:\n",
    "        print(i)"
   ]
  },
  {
   "cell_type": "code",
   "execution_count": 137,
   "metadata": {
    "ExecuteTime": {
     "end_time": "2019-05-16T16:31:57.904252Z",
     "start_time": "2019-05-16T16:31:57.803959Z"
    },
    "collapsed": false
   },
   "outputs": [
    {
     "name": "stdout",
     "output_type": "stream",
     "text": [
      "(9.005257312565136e-12, 1.3969079096029827e-11, 1.5939624923202034e-11, 0.001360416425213122, 0.0014088808523145522, 0.0016515780662867121)\n",
      "(0.2541959118759779, 0.3185128379955733, 0.3746158406347884, 0.0014016927452709797, 0.0015766358421427113, 0.0011527775063289965)\n"
     ]
    }
   ],
   "source": [
    "AllModels.calcFlux(\"2. 10.0 err\")\n",
    "AllModels.calcLumin(\"2.0 10. 0.035 err\")\n",
    "source = AllData(1)\n",
    "print(source.flux)\n",
    "print(source.lumin)"
   ]
  },
  {
   "cell_type": "code",
   "execution_count": 142,
   "metadata": {
    "ExecuteTime": {
     "end_time": "2019-05-16T16:32:30.823219Z",
     "start_time": "2019-05-16T16:32:30.616632Z"
    },
    "collapsed": false
   },
   "outputs": [
    {
     "name": "stdout",
     "output_type": "stream",
     "text": [
      "(9.004589480050626e-12, 5.0371916763460196e-12, nan, 0.0013603365548885962, 0.0008806229534482728, nan)\n",
      "(0.2541777030241682, 0.12826948604466806, 0.19632504383999702, 0.0014016139927781356, 0.0008363226658564284, 0.0011706565367607252)\n"
     ]
    }
   ],
   "source": [
    "mo=Model(\"cflux*phabs*powerlaw\")\n",
    "mo.phabs.nH=0.0243\n",
    "mo.phabs.nH.frozen=True\n",
    "Fit.perform()\n",
    "AllModels.calcFlux(\"2. 10.0 err\")\n",
    "AllModels.calcLumin(\"2.0 10. 0.035 err\")\n",
    "source = AllData(1)\n",
    "print(source.flux)\n",
    "print(source.lumin)"
   ]
  },
  {
   "cell_type": "code",
   "execution_count": 147,
   "metadata": {
    "ExecuteTime": {
     "end_time": "2019-05-16T16:35:36.922712Z",
     "start_time": "2019-05-16T16:35:36.916893Z"
    },
    "collapsed": false
   },
   "outputs": [
    {
     "data": {
      "text/plain": [
       "(9.004589480050626e-12,\n",
       " 5.0371916763460196e-12,\n",
       " nan,\n",
       " 0.0013603365548885962,\n",
       " 0.0008806229534482728,\n",
       " nan)"
      ]
     },
     "execution_count": 147,
     "metadata": {},
     "output_type": "execute_result"
    }
   ],
   "source": [
    "AllData(1).flux"
   ]
  },
  {
   "cell_type": "markdown",
   "metadata": {},
   "source": [
    "# log_file"
   ]
  },
  {
   "cell_type": "code",
   "execution_count": 158,
   "metadata": {
    "ExecuteTime": {
     "end_time": "2019-05-16T16:46:00.394523Z",
     "start_time": "2019-05-16T16:46:00.371063Z"
    },
    "collapsed": false
   },
   "outputs": [],
   "source": []
  },
  {
   "cell_type": "code",
   "execution_count": 159,
   "metadata": {
    "ExecuteTime": {
     "end_time": "2019-05-16T16:46:01.100828Z",
     "start_time": "2019-05-16T16:46:01.098231Z"
    },
    "collapsed": false
   },
   "outputs": [],
   "source": [
    "logFile"
   ]
  },
  {
   "cell_type": "markdown",
   "metadata": {},
   "source": [
    "# showimg"
   ]
  },
  {
   "cell_type": "markdown",
   "metadata": {},
   "source": [
    "![Mrk1018](Mrk1018spec.png)"
   ]
  },
  {
   "cell_type": "markdown",
   "metadata": {},
   "source": [
    "![Mrk1018](Mrk1018spec1.png)"
   ]
  },
  {
   "cell_type": "code",
   "execution_count": null,
   "metadata": {
    "collapsed": true
   },
   "outputs": [],
   "source": []
  },
  {
   "cell_type": "code",
   "execution_count": null,
   "metadata": {
    "collapsed": true
   },
   "outputs": [],
   "source": []
  },
  {
   "cell_type": "code",
   "execution_count": null,
   "metadata": {
    "collapsed": true
   },
   "outputs": [],
   "source": []
  },
  {
   "cell_type": "code",
   "execution_count": null,
   "metadata": {
    "collapsed": true
   },
   "outputs": [],
   "source": []
  }
 ],
 "metadata": {
  "kernelspec": {
   "display_name": "Python 3",
   "language": "python",
   "name": "python3"
  },
  "language_info": {
   "codemirror_mode": {
    "name": "ipython",
    "version": 3
   },
   "file_extension": ".py",
   "mimetype": "text/x-python",
   "name": "python",
   "nbconvert_exporter": "python",
   "pygments_lexer": "ipython3",
   "version": "3.6.0"
  },
  "latex_envs": {
   "LaTeX_envs_menu_present": true,
   "autocomplete": true,
   "bibliofile": "biblio.bib",
   "cite_by": "apalike",
   "current_citInitial": 1,
   "eqLabelWithNumbers": true,
   "eqNumInitial": 1,
   "hotkeys": {
    "equation": "Ctrl-E",
    "itemize": "Ctrl-I"
   },
   "labels_anchors": false,
   "latex_user_defs": false,
   "report_style_numbering": false,
   "user_envs_cfg": false
  },
  "toc": {
   "nav_menu": {},
   "number_sections": true,
   "sideBar": true,
   "skip_h1_title": false,
   "toc_cell": false,
   "toc_position": {},
   "toc_section_display": "block",
   "toc_window_display": true
  }
 },
 "nbformat": 4,
 "nbformat_minor": 2
}
