{
 "cells": [
  {
   "cell_type": "code",
   "execution_count": 1,
   "metadata": {
    "ExecuteTime": {
     "end_time": "2020-02-29T10:00:52.010699Z",
     "start_time": "2020-02-29T10:00:51.630582Z"
    },
    "collapsed": true
   },
   "outputs": [],
   "source": [
    "from astropy import units\n"
   ]
  },
  {
   "cell_type": "code",
   "execution_count": 5,
   "metadata": {
    "ExecuteTime": {
     "end_time": "2020-02-29T10:02:14.045231Z",
     "start_time": "2020-02-29T10:02:14.037735Z"
    },
    "collapsed": false
   },
   "outputs": [
    {
     "data": {
      "text/latex": [
       "$4.4964 \\times 10^{8} \\; \\mathrm{\\frac{m}{s}}$"
      ],
      "text/plain": [
       "<Quantity 4.4964e+08 m / s>"
      ]
     },
     "execution_count": 5,
     "metadata": {},
     "output_type": "execute_result"
    }
   ],
   "source": [
    "124900*units.m/units.second*3600"
   ]
  },
  {
   "cell_type": "code",
   "execution_count": null,
   "metadata": {
    "collapsed": true
   },
   "outputs": [],
   "source": []
  },
  {
   "cell_type": "code",
   "execution_count": 1,
   "metadata": {
    "ExecuteTime": {
     "end_time": "2019-12-21T15:08:13.389954Z",
     "start_time": "2019-12-21T15:08:10.996221Z"
    },
    "collapsed": true
   },
   "outputs": [],
   "source": [
    "from lxml.html import parse\n",
    "from urllib.request import urlopen\n",
    "from pandas.io.parsers import TextParser\n",
    "from pandas import Series\n",
    "import urllib,requests\n",
    "import pandas as pd\n",
    "from bs4 import BeautifulSoup"
   ]
  },
  {
   "cell_type": "code",
   "execution_count": 2,
   "metadata": {
    "ExecuteTime": {
     "end_time": "2019-12-21T15:08:40.108708Z",
     "start_time": "2019-12-21T15:08:40.102833Z"
    },
    "collapsed": true
   },
   "outputs": [],
   "source": [
    "root_url='https://www.jipinfanhao.com/259luxu/'"
   ]
  },
  {
   "cell_type": "code",
   "execution_count": 172,
   "metadata": {
    "ExecuteTime": {
     "end_time": "2019-12-22T10:20:34.564868Z",
     "start_time": "2019-12-22T10:20:34.547151Z"
    },
    "collapsed": false
   },
   "outputs": [
    {
     "data": {
      "text/plain": [
       "'https://www.jipinfanhao.com/259luxu/'"
      ]
     },
     "execution_count": 172,
     "metadata": {},
     "output_type": "execute_result"
    }
   ],
   "source": [
    "root_url"
   ]
  },
  {
   "cell_type": "code",
   "execution_count": 88,
   "metadata": {
    "ExecuteTime": {
     "end_time": "2019-12-21T16:09:37.220516Z",
     "start_time": "2019-12-21T16:09:37.202932Z"
    },
    "collapsed": true
   },
   "outputs": [],
   "source": [
    "import re\n",
    "import urllib.request\n",
    " \n",
    "def getlink(url):\n",
    "    headers = (\"User-Agent\", \"Mozilla/5.0 (Windows NT 10.0; WOW64) AppleWebKit/537.36 (KHTML, like Gecko) Chrome/62.0.3202.94 Safari/537.36\")\n",
    "    opener = urllib.request.build_opener()\n",
    "    opener.addheaders = [headers]\n",
    "    urllib.request.install_opener(opener)\n",
    "    file = urllib.request.urlopen(url,timeout=5).read()\n",
    "    file = file.decode('utf-8')\n",
    "    soup = BeautifulSoup(file,'html.parser')   \n",
    "    pattern = '(https?://[^\\s)\";]+(\\.(\\w|/)*))'\n",
    "    link = re.compile(pattern).findall(file)\n",
    "    url_a=soup.find_all('a')\n",
    "    #去重\n",
    "    #link = list(set(link))\n",
    "    return url_a,link\n",
    "#url = root_url\n"
   ]
  },
  {
   "cell_type": "code",
   "execution_count": null,
   "metadata": {
    "ExecuteTime": {
     "end_time": "2019-12-21T16:09:40.685333Z",
     "start_time": "2019-12-21T16:09:40.679234Z"
    },
    "collapsed": false
   },
   "outputs": [],
   "source": []
  },
  {
   "cell_type": "code",
   "execution_count": 91,
   "metadata": {
    "ExecuteTime": {
     "end_time": "2019-12-21T16:12:50.382244Z",
     "start_time": "2019-12-21T16:10:19.844383Z"
    },
    "collapsed": false
   },
   "outputs": [
    {
     "name": "stdout",
     "output_type": "stream",
     "text": [
      "\n",
      "\n",
      "\n",
      "https://www.jipinfanhao.com/259luxu/259luxu-1176/\n",
      "https://www.jipinfanhao.com/259luxu/259luxu-1174/\n",
      "https://www.jipinfanhao.com/259luxu/259luxu-1181/\n",
      "https://www.jipinfanhao.com/259luxu/259luxu-1179/\n",
      "https://www.jipinfanhao.com/259luxu/259luxu-1177/\n",
      "https://www.jipinfanhao.com/259luxu/259luxu-1175/\n",
      "https://www.jipinfanhao.com/259luxu/259luxu-1166/\n",
      "https://www.jipinfanhao.com/259luxu/259luxu-1163/\n",
      "https://www.jipinfanhao.com/259luxu/259luxu-1150/\n",
      "https://www.jipinfanhao.com/259luxu/259luxu-1165/\n",
      "\n",
      "https://www.jipinfanhao.com/259luxu/259luxu-1162/\n",
      "https://www.jipinfanhao.com/259luxu/259luxu-1173/\n",
      "https://www.jipinfanhao.com/259luxu/259luxu-1180/\n",
      "https://www.jipinfanhao.com/259luxu/259luxu-1161/\n",
      "https://www.jipinfanhao.com/259luxu/259luxu-1167/\n",
      "https://www.jipinfanhao.com/259luxu/259luxu-1169/\n",
      "https://www.jipinfanhao.com/259luxu/259luxu-1164/\n",
      "https://www.jipinfanhao.com/259luxu/259luxu-1146/\n",
      "https://www.jipinfanhao.com/259luxu/259luxu-1157/\n",
      "https://www.jipinfanhao.com/259luxu/259luxu-1137/\n",
      "\n",
      "https://www.jipinfanhao.com/259luxu/259luxu-1158/\n",
      "https://www.jipinfanhao.com/259luxu/259luxu-1168/\n",
      "https://www.jipinfanhao.com/259luxu/259luxu-1159/\n",
      "https://www.jipinfanhao.com/259luxu/259luxu-1160/\n",
      "https://www.jipinfanhao.com/259luxu/259luxu-1170/\n",
      "https://www.jipinfanhao.com/259luxu/259luxu-1149/\n",
      "https://www.jipinfanhao.com/259luxu/259luxu-1172/\n",
      "https://www.jipinfanhao.com/259luxu/259luxu-1154/\n",
      "https://www.jipinfanhao.com/259luxu/259luxu-1156/\n",
      "https://www.jipinfanhao.com/259luxu/259luxu-1153/\n",
      "\n",
      "https://www.jipinfanhao.com/259luxu/259luxu-1152/\n",
      "https://www.jipinfanhao.com/259luxu/259luxu-1151/\n",
      "https://www.jipinfanhao.com/259luxu/259luxu-1155/\n",
      "https://www.jipinfanhao.com/259luxu/259luxu-1140/\n",
      "https://www.jipinfanhao.com/259luxu/259luxu-1147/\n",
      "https://www.jipinfanhao.com/259luxu/259luxu-1135/\n",
      "https://www.jipinfanhao.com/259luxu/259luxu-1145/\n",
      "https://www.jipinfanhao.com/259luxu/259luxu-1104/\n",
      "https://www.jipinfanhao.com/259luxu/259luxu-1148/\n",
      "https://www.jipinfanhao.com/259luxu/259luxu-1139/\n",
      "\n",
      "https://www.jipinfanhao.com/259luxu/259luxu-1120/\n",
      "https://www.jipinfanhao.com/259luxu/259luxu-1143/\n",
      "https://www.jipinfanhao.com/259luxu/259luxu-1144/\n",
      "https://www.jipinfanhao.com/259luxu/259luxu-1125/\n",
      "https://www.jipinfanhao.com/259luxu/259luxu-1116/\n",
      "https://www.jipinfanhao.com/259luxu/259luxu-1138/\n",
      "https://www.jipinfanhao.com/259luxu/259luxu-1127/\n",
      "https://www.jipinfanhao.com/259luxu/259luxu-1136/\n",
      "https://www.jipinfanhao.com/259luxu/259luxu-1134/\n",
      "https://www.jipinfanhao.com/259luxu/259luxu-1133/\n",
      "\n",
      "https://www.jipinfanhao.com/259luxu/259luxu-1132/\n",
      "https://www.jipinfanhao.com/259luxu/259luxu-1141/\n",
      "https://www.jipinfanhao.com/259luxu/259luxu-1142/\n",
      "https://www.jipinfanhao.com/259luxu/259luxu-1128/\n",
      "https://www.jipinfanhao.com/259luxu/259luxu-1130/\n",
      "https://www.jipinfanhao.com/259luxu/259luxu-1129/\n",
      "https://www.jipinfanhao.com/259luxu/259luxu-1131/\n",
      "https://www.jipinfanhao.com/259luxu/259luxu-1119/\n",
      "https://www.jipinfanhao.com/259luxu/259luxu-1124/\n",
      "https://www.jipinfanhao.com/259luxu/259luxu-1122/\n",
      "\n",
      "https://www.jipinfanhao.com/259luxu/259luxu-1126/\n",
      "https://www.jipinfanhao.com/259luxu/259luxu-1118/\n",
      "https://www.jipinfanhao.com/259luxu/259luxu-1117/\n",
      "https://www.jipinfanhao.com/259luxu/259luxu-1123/\n",
      "https://www.jipinfanhao.com/259luxu/259luxu-1109/\n",
      "https://www.jipinfanhao.com/259luxu/259luxu-1111/\n",
      "https://www.jipinfanhao.com/259luxu/259luxu-1115/\n",
      "https://www.jipinfanhao.com/259luxu/259luxu-1121/\n",
      "https://www.jipinfanhao.com/259luxu/259luxu-1112/\n",
      "https://www.jipinfanhao.com/259luxu/259luxu-1110/\n",
      "\n",
      "https://www.jipinfanhao.com/259luxu/259luxu-1114/\n",
      "https://www.jipinfanhao.com/259luxu/259luxu-1113/\n",
      "https://www.jipinfanhao.com/259luxu/259luxu-1108/\n",
      "https://www.jipinfanhao.com/259luxu/259luxu-1107/\n",
      "https://www.jipinfanhao.com/259luxu/259luxu-1106/\n",
      "https://www.jipinfanhao.com/259luxu/259luxu-1105/\n",
      "https://www.jipinfanhao.com/259luxu/259luxu-1101/\n",
      "https://www.jipinfanhao.com/259luxu/259luxu-1103/\n",
      "https://www.jipinfanhao.com/259luxu/259luxu-1102/\n",
      "https://www.jipinfanhao.com/259luxu/259luxu-1050/\n",
      "\n",
      "https://www.jipinfanhao.com/259luxu/259luxu-1100/\n",
      "https://www.jipinfanhao.com/259luxu/259luxu-1099/\n",
      "https://www.jipinfanhao.com/259luxu/259luxu-1098/\n",
      "https://www.jipinfanhao.com/259luxu/259luxu-1089/\n",
      "https://www.jipinfanhao.com/259luxu/259luxu-1097/\n",
      "https://www.jipinfanhao.com/259luxu/259luxu-1087/\n",
      "https://www.jipinfanhao.com/259luxu/259luxu-1096/\n",
      "https://www.jipinfanhao.com/259luxu/259luxu-1095/\n",
      "https://www.jipinfanhao.com/259luxu/259luxu-1094/\n",
      "https://www.jipinfanhao.com/259luxu/259luxu-1093/\n",
      "\n",
      "https://www.jipinfanhao.com/259luxu/259luxu-1081/\n",
      "https://www.jipinfanhao.com/259luxu/259luxu-1092/\n",
      "https://www.jipinfanhao.com/259luxu/259luxu-1091/\n",
      "https://www.jipinfanhao.com/259luxu/259luxu-1090/\n",
      "https://www.jipinfanhao.com/259luxu/259luxu-1088/\n",
      "https://www.jipinfanhao.com/259luxu/259luxu-1086/\n",
      "https://www.jipinfanhao.com/259luxu/259luxu-1073/\n",
      "https://www.jipinfanhao.com/259luxu/259luxu-1085/\n",
      "https://www.jipinfanhao.com/259luxu/259luxu-1076/\n",
      "https://www.jipinfanhao.com/259luxu/259luxu-1083/\n",
      "\n",
      "https://www.jipinfanhao.com/259luxu/259luxu-1084/\n",
      "https://www.jipinfanhao.com/259luxu/259luxu-1061/\n",
      "https://www.jipinfanhao.com/259luxu/259luxu-1082/\n",
      "https://www.jipinfanhao.com/259luxu/259luxu-1080/\n",
      "https://www.jipinfanhao.com/259luxu/259luxu-1079/\n",
      "https://www.jipinfanhao.com/259luxu/259luxu-1078/\n",
      "https://www.jipinfanhao.com/259luxu/259luxu-1077/\n",
      "https://www.jipinfanhao.com/259luxu/259luxu-1062/\n",
      "https://www.jipinfanhao.com/259luxu/259luxu-1041/\n",
      "https://www.jipinfanhao.com/259luxu/259luxu-1049/\n",
      "\n",
      "https://www.jipinfanhao.com/259luxu/259luxu-1074/\n",
      "https://www.jipinfanhao.com/259luxu/259luxu-1058/\n",
      "https://www.jipinfanhao.com/259luxu/259luxu-1060/\n",
      "https://www.jipinfanhao.com/259luxu/259luxu-1075/\n",
      "https://www.jipinfanhao.com/259luxu/259luxu-1071/\n",
      "https://www.jipinfanhao.com/259luxu/259luxu-1052/\n",
      "https://www.jipinfanhao.com/259luxu/259luxu-1072/\n",
      "https://www.jipinfanhao.com/259luxu/259luxu-1064/\n",
      "https://www.jipinfanhao.com/259luxu/259luxu-1053/\n",
      "https://www.jipinfanhao.com/259luxu/259luxu-1035/\n",
      "\n",
      "https://www.jipinfanhao.com/259luxu/259luxu-1068/\n",
      "https://www.jipinfanhao.com/259luxu/259luxu-1069/\n",
      "https://www.jipinfanhao.com/259luxu/259luxu-1065/\n",
      "https://www.jipinfanhao.com/259luxu/259luxu-1031/\n",
      "https://www.jipinfanhao.com/259luxu/259luxu-1055/\n",
      "https://www.jipinfanhao.com/259luxu/259luxu-1067/\n",
      "https://www.jipinfanhao.com/259luxu/259luxu-1066/\n",
      "https://www.jipinfanhao.com/259luxu/259luxu-1063/\n",
      "https://www.jipinfanhao.com/259luxu/259luxu-1059/\n",
      "https://www.jipinfanhao.com/259luxu/259luxu-1057/\n",
      "\n",
      "https://www.jipinfanhao.com/259luxu/259luxu-1056/\n",
      "https://www.jipinfanhao.com/259luxu/259luxu-1054/\n",
      "https://www.jipinfanhao.com/259luxu/259luxu-1051/\n",
      "https://www.jipinfanhao.com/259luxu/259luxu-1047/\n",
      "https://www.jipinfanhao.com/259luxu/259luxu-1046/\n",
      "https://www.jipinfanhao.com/259luxu/259luxu-1048/\n",
      "https://www.jipinfanhao.com/259luxu/259luxu-1043/\n",
      "https://www.jipinfanhao.com/259luxu/259luxu-1045/\n",
      "https://www.jipinfanhao.com/259luxu/259luxu-1044/\n",
      "https://www.jipinfanhao.com/259luxu/259luxu-1042/\n",
      "\n",
      "https://www.jipinfanhao.com/259luxu/259luxu-1033/\n",
      "https://www.jipinfanhao.com/259luxu/259luxu-1040/\n",
      "https://www.jipinfanhao.com/259luxu/259luxu-1039/\n",
      "https://www.jipinfanhao.com/259luxu/259luxu-1038/\n",
      "https://www.jipinfanhao.com/259luxu/259luxu-1037/\n",
      "https://www.jipinfanhao.com/259luxu/259luxu-1036/\n",
      "https://www.jipinfanhao.com/259luxu/259luxu-1028/\n",
      "https://www.jipinfanhao.com/259luxu/259luxu-1027/\n",
      "https://www.jipinfanhao.com/259luxu/259luxu-1026/\n",
      "https://www.jipinfanhao.com/259luxu/259luxu-1025/\n",
      "\n",
      "https://www.jipinfanhao.com/259luxu/259luxu-1024/\n",
      "https://www.jipinfanhao.com/259luxu/259luxu-1023/\n",
      "https://www.jipinfanhao.com/259luxu/259luxu-1022/\n",
      "https://www.jipinfanhao.com/259luxu/259luxu-1021/\n",
      "https://www.jipinfanhao.com/259luxu/259luxu-1019/\n",
      "https://www.jipinfanhao.com/259luxu/259luxu-1020/\n",
      "https://www.jipinfanhao.com/259luxu/259luxu-1018/\n",
      "https://www.jipinfanhao.com/259luxu/259luxu-1017/\n",
      "https://www.jipinfanhao.com/259luxu/259luxu-1016/\n",
      "https://www.jipinfanhao.com/259luxu/259luxu-1015/\n",
      "\n",
      "https://www.jipinfanhao.com/259luxu/259luxu-1012/\n",
      "https://www.jipinfanhao.com/259luxu/259luxu-1013/\n",
      "https://www.jipinfanhao.com/259luxu/259luxu-1011/\n",
      "https://www.jipinfanhao.com/259luxu/259luxu-1014/\n",
      "https://www.jipinfanhao.com/259luxu/259luxu-1010/\n",
      "https://www.jipinfanhao.com/259luxu/259luxu-1009/\n",
      "https://www.jipinfanhao.com/259luxu/259luxu-976/\n",
      "https://www.jipinfanhao.com/259luxu/259luxu-977/\n",
      "https://www.jipinfanhao.com/259luxu/259luxu-1004/\n",
      "https://www.jipinfanhao.com/259luxu/259luxu-1008/\n",
      "\n",
      "https://www.jipinfanhao.com/259luxu/259luxu-983/\n",
      "https://www.jipinfanhao.com/259luxu/259luxu-1007/\n",
      "https://www.jipinfanhao.com/259luxu/259luxu-1006/\n",
      "https://www.jipinfanhao.com/259luxu/259luxu-1005/\n",
      "https://www.jipinfanhao.com/259luxu/259luxu-997/\n",
      "https://www.jipinfanhao.com/259luxu/259luxu-1002/\n",
      "https://www.jipinfanhao.com/259luxu/259luxu-998/\n",
      "https://www.jipinfanhao.com/259luxu/259luxu-958/\n",
      "https://www.jipinfanhao.com/259luxu/259luxu-1003/\n",
      "https://www.jipinfanhao.com/259luxu/259luxu-969/\n",
      "\n",
      "https://www.jipinfanhao.com/259luxu/259luxu-995/\n",
      "https://www.jipinfanhao.com/259luxu/259luxu-1000/\n",
      "https://www.jipinfanhao.com/259luxu/259luxu-999/\n",
      "https://www.jipinfanhao.com/259luxu/259luxu-1001/\n",
      "https://www.jipinfanhao.com/259luxu/259luxu-996/\n",
      "https://www.jipinfanhao.com/259luxu/259luxu-979/\n",
      "https://www.jipinfanhao.com/259luxu/259luxu-994/\n",
      "https://www.jipinfanhao.com/259luxu/259luxu-993/\n",
      "https://www.jipinfanhao.com/259luxu/259luxu-992/\n",
      "https://www.jipinfanhao.com/259luxu/259luxu-991/\n",
      "\n",
      "https://www.jipinfanhao.com/259luxu/259luxu-984/\n",
      "https://www.jipinfanhao.com/259luxu/259luxu-989/\n",
      "https://www.jipinfanhao.com/259luxu/259luxu-988/\n",
      "https://www.jipinfanhao.com/259luxu/259luxu-986/\n",
      "https://www.jipinfanhao.com/259luxu/259luxu-985/\n",
      "https://www.jipinfanhao.com/259luxu/259luxu-987/\n",
      "https://www.jipinfanhao.com/259luxu/259luxu-990/\n",
      "https://www.jipinfanhao.com/259luxu/259luxu-982/\n",
      "https://www.jipinfanhao.com/259luxu/259luxu-973/\n",
      "https://www.jipinfanhao.com/259luxu/259luxu-980/\n",
      "\n",
      "https://www.jipinfanhao.com/259luxu/259luxu-981/\n",
      "https://www.jipinfanhao.com/259luxu/259luxu-978/\n",
      "https://www.jipinfanhao.com/259luxu/259luxu-975/\n",
      "https://www.jipinfanhao.com/259luxu/259luxu-970/\n",
      "https://www.jipinfanhao.com/259luxu/259luxu-945/\n",
      "https://www.jipinfanhao.com/259luxu/259luxu-967/\n",
      "https://www.jipinfanhao.com/259luxu/259luxu-965/\n",
      "https://www.jipinfanhao.com/259luxu/259luxu-964/\n",
      "https://www.jipinfanhao.com/259luxu/259luxu-963/\n",
      "https://www.jipinfanhao.com/259luxu/259luxu-956/\n",
      "\n",
      "https://www.jipinfanhao.com/259luxu/259luxu-972/\n",
      "https://www.jipinfanhao.com/259luxu/259luxu-971/\n",
      "https://www.jipinfanhao.com/259luxu/259luxu-968/\n",
      "https://www.jipinfanhao.com/259luxu/259luxu-966/\n",
      "https://www.jipinfanhao.com/259luxu/259luxu-953/\n",
      "https://www.jipinfanhao.com/259luxu/259luxu-955/\n",
      "https://www.jipinfanhao.com/259luxu/259luxu-950/\n",
      "https://www.jipinfanhao.com/259luxu/259luxu-961/\n",
      "https://www.jipinfanhao.com/259luxu/259luxu-960/\n",
      "\n",
      "https://www.jipinfanhao.com/259luxu/259luxu-957/\n",
      "https://www.jipinfanhao.com/259luxu/259luxu-951/\n",
      "https://www.jipinfanhao.com/259luxu/259luxu-948/\n",
      "https://www.jipinfanhao.com/259luxu/259luxu-962/\n",
      "https://www.jipinfanhao.com/259luxu/259luxu-943/\n",
      "\n"
     ]
    }
   ],
   "source": [
    "#urls_lists=[]\n",
    "import time\n",
    "for i in range(26):\n",
    "    if i==0:\n",
    "        url=root_url\n",
    "    else:\n",
    "        url='https://www.jipinfanhao.com/259luxu/page/%d/'%(i+1)        \n",
    "    url_a,linklist = getlink(url)\n",
    "    for i in url_a:\n",
    "        i_=i.get('href')\n",
    "    #print(i_)\n",
    "        try: \n",
    "            if i_.startswith('https://www.jipinfanhao.com/259luxu/259luxu') and i_ not in urls_lists:\n",
    "                urls_lists.append(i_)\n",
    "                with open('%s/259luxu.txt'%data_download_path,'a') as f:\n",
    "                    f.write(i_+'\\n')\n",
    "                print(i_)                  \n",
    "        except: \n",
    "            time.sleep(2)\n",
    "            print()            "
   ]
  },
  {
   "cell_type": "code",
   "execution_count": null,
   "metadata": {
    "collapsed": true
   },
   "outputs": [],
   "source": [
    "with open('%s/259luxu_list.txt'%data_download_path,'w+') as f:\n",
    "    for i in urls_lists:\n",
    "        f.write(i+'\\n')"
   ]
  },
  {
   "cell_type": "markdown",
   "metadata": {
    "ExecuteTime": {
     "end_time": "2019-12-21T15:51:46.202370Z",
     "start_time": "2019-12-21T15:51:46.180797Z"
    }
   },
   "source": [
    "for link in linklist:\n",
    "    print(link[0])"
   ]
  },
  {
   "cell_type": "code",
   "execution_count": 94,
   "metadata": {
    "ExecuteTime": {
     "end_time": "2019-12-21T16:15:44.229851Z",
     "start_time": "2019-12-21T16:15:40.465765Z"
    },
    "collapsed": false
   },
   "outputs": [],
   "source": []
  },
  {
   "cell_type": "code",
   "execution_count": 102,
   "metadata": {
    "ExecuteTime": {
     "end_time": "2019-12-21T16:19:59.600224Z",
     "start_time": "2019-12-21T16:19:59.595917Z"
    },
    "collapsed": false
   },
   "outputs": [],
   "source": []
  },
  {
   "cell_type": "code",
   "execution_count": 133,
   "metadata": {
    "ExecuteTime": {
     "end_time": "2019-12-21T16:35:36.051914Z",
     "start_time": "2019-12-21T16:35:36.028659Z"
    },
    "collapsed": true
   },
   "outputs": [],
   "source": [
    "def gettext(url):\n",
    "    headers = (\"User-Agent\", \"Mozilla/5.0 (Windows NT 10.0; WOW64) AppleWebKit/537.36 (KHTML, like Gecko) Chrome/62.0.3202.94 Safari/537.36\")\n",
    "    opener = urllib.request.build_opener()\n",
    "    opener.addheaders = [headers]\n",
    "    urllib.request.install_opener(opener)\n",
    "    file = urllib.request.urlopen(url,timeout=10).read()\n",
    "    file = file.decode('utf-8')\n",
    "    soup = BeautifulSoup(file,'html.parser')   \n",
    "    pattern = '(https?://[^\\s)\";]+(\\.(\\w|/)*))'\n",
    "    link = re.compile(pattern).findall(file)\n",
    "    text_p=soup.find_all('p')\n",
    "    #去重\n",
    "    #link = list(set(link))\n",
    "    return text_p[1].text"
   ]
  },
  {
   "cell_type": "code",
   "execution_count": 123,
   "metadata": {
    "ExecuteTime": {
     "end_time": "2019-12-21T16:28:18.188452Z",
     "start_time": "2019-12-21T16:28:18.181007Z"
    },
    "collapsed": false
   },
   "outputs": [
    {
     "data": {
      "text/plain": [
       "'/Users/brettlv/blog/brettlv.github.io/pythoncode'"
      ]
     },
     "execution_count": 123,
     "metadata": {},
     "output_type": "execute_result"
    }
   ],
   "source": [
    "pwd"
   ]
  },
  {
   "cell_type": "code",
   "execution_count": 126,
   "metadata": {
    "ExecuteTime": {
     "end_time": "2019-12-21T16:29:20.856734Z",
     "start_time": "2019-12-21T16:29:20.469414Z"
    },
    "collapsed": false
   },
   "outputs": [],
   "source": [
    "import os\n",
    "os.mkdir('/Volumes/Seagate_Backup_Plus_Drive_Lvb/backupmac/259luxu')\n",
    "data_download_path='/Volumes/Seagate_Backup_Plus_Drive_Lvb/backupmac/259luxu'"
   ]
  },
  {
   "cell_type": "code",
   "execution_count": 173,
   "metadata": {
    "ExecuteTime": {
     "end_time": "2019-12-22T10:22:07.315649Z",
     "start_time": "2019-12-22T10:22:07.305363Z"
    },
    "collapsed": false
   },
   "outputs": [
    {
     "data": {
      "text/plain": [
       "'/Volumes/Seagate_Backup_Plus_Drive_Lvb/backupmac/259luxu'"
      ]
     },
     "execution_count": 173,
     "metadata": {},
     "output_type": "execute_result"
    }
   ],
   "source": [
    "data_download_path"
   ]
  },
  {
   "cell_type": "code",
   "execution_count": 158,
   "metadata": {
    "ExecuteTime": {
     "end_time": "2019-12-21T22:23:17.052172Z",
     "start_time": "2019-12-21T22:23:17.034238Z"
    },
    "collapsed": false
   },
   "outputs": [],
   "source": [
    "for i in urls_lists:    \n",
    "    name=i.split('/')[-2]   \n",
    "    if not os.path.isfile(os.path.join(data_download_path,name)+'.txt'):\n",
    "        text_p=gettext(i)\n",
    "        print(name,text_p)\n",
    "        try:\n",
    "            with open(os.path.join(data_download_path,name)+'.txt','a') as f:\n",
    "                f.write(text_p)  \n",
    "        except:\n",
    "            time.sleep(2)"
   ]
  },
  {
   "cell_type": "markdown",
   "metadata": {
    "ExecuteTime": {
     "end_time": "2019-12-21T16:14:51.645246Z",
     "start_time": "2019-12-21T16:14:51.638164Z"
    }
   },
   "source": []
  },
  {
   "cell_type": "code",
   "execution_count": 151,
   "metadata": {
    "ExecuteTime": {
     "end_time": "2019-12-21T17:05:30.564869Z",
     "start_time": "2019-12-21T17:05:30.553791Z"
    },
    "collapsed": true
   },
   "outputs": [],
   "source": [
    "from urllib import  request\n",
    "from bs4 import BeautifulSoup\n",
    "def getimg(url):\n",
    "    headers = (\"User-Agent\", \"Mozilla/5.0 (Windows NT 10.0; WOW64) AppleWebKit/537.36 (KHTML, like Gecko) Chrome/62.0.3202.94 Safari/537.36\")\n",
    "    opener = urllib.request.build_opener()\n",
    "    opener.addheaders = [headers]\n",
    "    urllib.request.install_opener(opener)\n",
    "    file = urllib.request.urlopen(url,timeout=10).read()\n",
    "    file = file.decode('utf-8')\n",
    "    soup = BeautifulSoup(file,'html.parser')   \n",
    "    pattern = '(https?://[^\\s)\";]+(\\.(\\w|/)*))'\n",
    "    link = re.compile(pattern).findall(file)\n",
    "    img_=soup.find_all('img')[1]\n",
    "    #去重\n",
    "    #link = list(set(link))\n",
    "    return img_['src']"
   ]
  },
  {
   "cell_type": "code",
   "execution_count": 165,
   "metadata": {
    "ExecuteTime": {
     "end_time": "2019-12-21T22:30:37.285091Z",
     "start_time": "2019-12-21T22:30:37.244285Z"
    },
    "collapsed": false
   },
   "outputs": [],
   "source": [
    "for i in urls_lists:    \n",
    "    name=i.split('/')[-2]   \n",
    "    if not os.path.isfile(os.path.join(data_download_path,name)+'.jpg'):\n",
    "        print(name,i)\n",
    "        try:\n",
    "            img_=getimg(i)\n",
    "            request.urlretrieve(img_, os.path.join(data_download_path,name)+'.jpg')\n",
    "            #print(name,img_) \n",
    "        except:\n",
    "            time.sleep(3)"
   ]
  },
  {
   "cell_type": "code",
   "execution_count": 166,
   "metadata": {
    "ExecuteTime": {
     "end_time": "2019-12-21T22:30:41.375014Z",
     "start_time": "2019-12-21T22:30:41.364814Z"
    },
    "collapsed": false
   },
   "outputs": [],
   "source": [
    "for i in urls_lists:    \n",
    "    name=i.split('/')[-2]   \n",
    "    if not os.path.isfile(os.path.join(data_download_path,name)+'.jpg'):\n",
    "        print(name,'jpg')\n",
    "    if not os.path.isfile(os.path.join(data_download_path,name)+'.txt'):\n",
    "        print(name,'txt')"
   ]
  },
  {
   "cell_type": "code",
   "execution_count": 171,
   "metadata": {
    "ExecuteTime": {
     "end_time": "2019-12-21T22:37:56.879042Z",
     "start_time": "2019-12-21T22:37:56.846820Z"
    },
    "collapsed": false
   },
   "outputs": [
    {
     "name": "stdout",
     "output_type": "stream",
     "text": [
      "259luxu-1206 45.51171875 kb\n",
      "259luxu-1205 49.3583984375 kb\n",
      "259luxu-1200 57.0849609375 kb\n",
      "259luxu-1202 50.3623046875 kb\n",
      "259luxu-1181 80.0 kb\n",
      "259luxu-1146 24.0 kb\n",
      "259luxu-1023 73.6123046875 kb\n",
      "259luxu-1022 70.5283203125 kb\n",
      "259luxu-1021 77.619140625 kb\n",
      "259luxu-1019 86.07421875 kb\n",
      "259luxu-1007 80.294921875 kb\n",
      "259luxu-994 45.337890625 kb\n",
      "259luxu-992 77.724609375 kb\n",
      "259luxu-975 88.2880859375 kb\n",
      "259luxu-970 88.79296875 kb\n",
      "259luxu-963 62.900390625 kb\n"
     ]
    }
   ],
   "source": [
    "for i in urls_lists:    \n",
    "    name=i.split('/')[-2]   \n",
    "    size=os.path.getsize(os.path.join(data_download_path,name)+'.jpg')\n",
    "    if size/1024<100:\n",
    "        print(name,size/1024,'kb') "
   ]
  },
  {
   "cell_type": "code",
   "execution_count": null,
   "metadata": {
    "collapsed": true
   },
   "outputs": [],
   "source": []
  },
  {
   "cell_type": "code",
   "execution_count": 174,
   "metadata": {
    "ExecuteTime": {
     "end_time": "2019-12-22T10:22:15.109370Z",
     "start_time": "2019-12-22T10:22:15.100038Z"
    },
    "collapsed": false
   },
   "outputs": [
    {
     "data": {
      "text/plain": [
       "255"
      ]
     },
     "execution_count": 174,
     "metadata": {},
     "output_type": "execute_result"
    }
   ],
   "source": [
    "len(urls_lists)"
   ]
  },
  {
   "cell_type": "code",
   "execution_count": 177,
   "metadata": {
    "ExecuteTime": {
     "end_time": "2019-12-22T10:23:49.727588Z",
     "start_time": "2019-12-22T10:23:44.941181Z"
    },
    "collapsed": false
   },
   "outputs": [
    {
     "data": {
      "text/plain": [
       "'https://www.jipinfanhao.com/wp-content/themes/Nana/images/gongzhongha1o.jpg'"
      ]
     },
     "execution_count": 177,
     "metadata": {},
     "output_type": "execute_result"
    }
   ],
   "source": [
    "#url = root_url\n",
    "url = urls_lists[0]\n",
    "headers = (\"User-Agent\", \"Mozilla/5.0 (Windows NT 10.0; WOW64) AppleWebKit/537.36 (KHTML, like Gecko) Chrome/62.0.3202.94 Safari/537.36\")\n",
    "opener = urllib.request.build_opener()\n",
    "opener.addheaders = [headers]\n",
    "urllib.request.install_opener(opener)\n",
    "file = urllib.request.urlopen(url).read()\n",
    "file = file.decode('utf-8')\n",
    "soup = BeautifulSoup(file,'html.parser') \n",
    "img_=soup.find_all('img')\n",
    "img_[2]['src']"
   ]
  },
  {
   "cell_type": "code",
   "execution_count": null,
   "metadata": {
    "collapsed": true
   },
   "outputs": [],
   "source": []
  }
 ],
 "metadata": {
  "kernelspec": {
   "display_name": "Python 3",
   "language": "python",
   "name": "python3"
  },
  "language_info": {
   "codemirror_mode": {
    "name": "ipython",
    "version": 3
   },
   "file_extension": ".py",
   "mimetype": "text/x-python",
   "name": "python",
   "nbconvert_exporter": "python",
   "pygments_lexer": "ipython3",
   "version": "3.6.0"
  },
  "latex_envs": {
   "LaTeX_envs_menu_present": true,
   "autocomplete": true,
   "bibliofile": "biblio.bib",
   "cite_by": "apalike",
   "current_citInitial": 1,
   "eqLabelWithNumbers": true,
   "eqNumInitial": 1,
   "hotkeys": {
    "equation": "Ctrl-E",
    "itemize": "Ctrl-I"
   },
   "labels_anchors": false,
   "latex_user_defs": false,
   "report_style_numbering": false,
   "user_envs_cfg": false
  },
  "toc": {
   "nav_menu": {},
   "number_sections": true,
   "sideBar": true,
   "skip_h1_title": false,
   "toc_cell": false,
   "toc_position": {},
   "toc_section_display": "block",
   "toc_window_display": false
  }
 },
 "nbformat": 4,
 "nbformat_minor": 2
}
