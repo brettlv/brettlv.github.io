{
 "cells": [
  {
   "cell_type": "markdown",
   "metadata": {},
   "source": [
    "# ads"
   ]
  },
  {
   "cell_type": "code",
   "execution_count": 3,
   "metadata": {
    "ExecuteTime": {
     "end_time": "2021-09-24T01:04:56.435125Z",
     "start_time": "2021-09-24T01:04:56.426803Z"
    }
   },
   "outputs": [],
   "source": [
    "import ads"
   ]
  },
  {
   "cell_type": "markdown",
   "metadata": {},
   "source": [
    "https://ads.readthedocs.io/"
   ]
  },
  {
   "cell_type": "markdown",
   "metadata": {},
   "source": [
    "Note: some fields, such as body, can be searched but not returned via fl or sorted on. Also, multivalued fields, such as author, cannot be used for sorting.\n",
    "\n",
    "abstract - the abstract of the record\n",
    "ack - the acknowledgements section of an article\n",
    "aff - an array of the authors' affiliations\n",
    "alternate_bibcode - list of alternate bibcodes for a single record; if a published record also has an arXiv version, the bibcode associated with the arXiv version is here\n",
    "alternate_title - list of alternate titles for a single record (usually if they are in multiple languages)\n",
    "arxiv_class - the arXiv class the pre-print was submitted to\n",
    "author - an array of the author names associated with the record\n",
    "bibcode - the canonical ADS bibcode identifier for this record\n",
    "bibgroup - the bibliographic groups that the bibcode has been associated with\n",
    "bibstem - the abbreviated name of the journal or publication, e.g., ApJ.\n",
    "body* - the full text content of the article\n",
    "citation_count - number of citations the item has received\n",
    "copyright - the copyright applied to the article\n",
    "data - the list of sources that have data related to this bibcode\n",
    "date - the machine-readable version of pubdate, useful for sorting\n",
    "database - database the record is associated with (astronomy, physics, or general). By default, all three databases are searched; to limit to astronomy articles, add fq=database:astronomy to the URL\n",
    "doi- the digital object identifier of the article\n",
    "doctype - the type of document it is (see here for a list of doctypes)\n",
    "first_author - the first author of the article\n",
    "grant - the list of grant IDs and agencies noted within an article\n",
    "id - a non-persistent unique integer for this record, used for fast look-up of a document\n",
    "identifier - an array of alternative identifiers for the record. May contain alternate bibcodes, DOIs and/or arxiv ids.\n",
    "indexstamp - time at which the document was (last) indexed\n",
    "issue - issue the record appeared in\n",
    "keyword - an array of normalized and un-normalized keyword values associated with the record\n",
    "lang* - the language of the article's title\n",
    "orcid_pub - ORCiD iDs supplied by publishers\n",
    "orcid_user - ORCiD iDs supplied by knonwn users in the ADS\n",
    "orcid_other - ORCiD iDs supplied by anonymous users in the ADS\n",
    "page - starting page\n",
    "property - an array of miscellaneous flags associated with the record (see here for a list of properties\n",
    "pub - the canonical name of the publication the record appeared in\n",
    "pubdate - publication date in the form YYYY-MM-DD (DD value will always be \"00\"). This field is stored as a human-readable string, so is useful for being returned via fl, but not for sorting (see date)\n",
    "read_count - number of times the record has been viewed within in a 90-day windows (ads and arxiv)\n",
    "title - the title of the record\n",
    "vizier - the subject tags given to the article by VizieR\n",
    "volume - volume the record appeared in\n",
    "year - the year the article was published"
   ]
  },
  {
   "cell_type": "code",
   "execution_count": null,
   "metadata": {
    "collapsed": true
   },
   "outputs": [],
   "source": []
  },
  {
   "cell_type": "code",
   "execution_count": 2,
   "metadata": {
    "ExecuteTime": {
     "end_time": "2021-09-24T00:59:29.304557Z",
     "start_time": "2021-09-24T00:59:29.301315Z"
    }
   },
   "outputs": [],
   "source": [
    "ads.config.token='bX9G1oehABACYywsa6qKCu9bNb1E9FycyJfqMAou'\n",
    "ADS_API_TOKEN='bX9G1oehABACYywsa6qKCu9bNb1E9FycyJfqMAou'"
   ]
  },
  {
   "cell_type": "code",
   "execution_count": 3,
   "metadata": {
    "ExecuteTime": {
     "end_time": "2020-10-12T22:24:46.907615Z",
     "start_time": "2020-10-12T22:24:46.904426Z"
    },
    "collapsed": true
   },
   "outputs": [],
   "source": [
    "#papers=ads.SearchQuery(q='Changing look AGN',sort='citation_count')"
   ]
  },
  {
   "cell_type": "code",
   "execution_count": 8,
   "metadata": {
    "ExecuteTime": {
     "end_time": "2020-10-12T22:27:58.089540Z",
     "start_time": "2020-10-12T22:25:49.538033Z"
    }
   },
   "outputs": [
    {
     "name": "stderr",
     "output_type": "stream",
     "text": [
      "/Users/brettlv/anaconda3/lib/python3.6/site-packages/ads/utils.py:31: UserWarning: You are lazy loading attributes via 'pubdate', and so are making multiple calls to the API. This will impact your overall rate limits.\n",
      "  UserWarning,\n"
     ]
    },
    {
     "name": "stdout",
     "output_type": "stream",
     "text": [
      "['Possible mechanism for multiple changing-look phenomena in active galactic nuclei'] 2020-09-00 2020A&A...641A.167S\n",
      "\n",
      "['Tracking the year-to-year variation in the spectral energy distribution of the Narrow-line Seyfert 1 Galaxy Mrk 335'] 2020-09-00 2020MNRAS.tmp.2654T\n",
      "\n",
      "['An X-Ray Luminosity-dependent \"Changing-look\" Phenomenon in UGC 3223'] 2020-09-00 2020ApJ...901....1W\n",
      "\n",
      "['Radiation Magnetohydrodynamic Simulations of Sub-Eddington accretion Flows in AGN: Origin of Soft X-ray Excess and Rapid Time Variabilities'] 2020-09-00 2020arXiv200905813I\n",
      "\n",
      "['Host galaxy properties of changing-look AGNs revealed in the MaNGA survey'] 2020-08-00 2020MNRAS.498.3985Y\n",
      "\n",
      "['Two-dimensional correlation analysis of periodicity in active galactic nuclei time series'] 2020-07-00 2020OAst...29...51K\n",
      "\n",
      "['Changing look active galactic nuclei in the MaNGA survey'] 2020-07-00 2020MNRAS.497..192H\n",
      "\n",
      "['The Destruction and Recreation of the X-Ray Corona in a Changing-look Active Galactic Nucleus'] 2020-07-00 2020ApJ...898L...1R\n",
      "\n",
      "['Probing the disk-corona systems and the broad line regions of changing-look quasars with optical and X-ray observations'] 2020-06-00 2020AAS...23612207J\n",
      "\n",
      "['Optical and X-ray discovery of the changing-look AGN IRAS 23226-3843 showing extremely broad and double-peaked Balmer profiles'] 2020-06-00 2020A&A...638A..91K\n",
      "\n",
      "['High-redshift Extreme Variability Quasars from Sloan Digital Sky Survey Multi-Epoch Spectroscopy'] 2020-06-00 2020arXiv200608645G\n",
      "\n",
      "['A flare in the optical spotted in the changing-look Seyfert NGC 3516'] 2020-06-00 2020A&A...638A..13I\n",
      "\n",
      "['Suspended and Restored Activities of a Nearby Supermassive Black Hole'] 2020-06-00 2020AJ....159..245W\n",
      "\n",
      "['Chaotically magnetized atmosphere with dust'] 2020-05-00 2020MNRAS.496.4108S\n",
      "\n",
      "['Large scale Active Galactic Nuclei monitoring for Changing Looks'] 2020-04-00 2020bugm.conf...40H\n",
      "\n",
      "['Tracking the state transitions in changing-look active galactic nuclei through their polarized-light echoes'] 2020-04-00 2020A&A...636A..23M\n",
      "\n",
      "['The relationship between X-ray and optical absorbers in active galactic nuclei'] 2020-03-00 2020MNRAS.493..930J\n",
      "\n",
      "['Changing look quasars from tidal disruption flares'] 2020-03-00 2020arXiv200307365P\n",
      "\n",
      "['X-Ray Spectral Shape Variation in Changing-look Seyfert Galaxy SDSS J155258+273728'] 2020-02-00 2020ApJ...890L..29A\n",
      "\n",
      "['Comparing Black Holes Large and Small'] 2020-02-00 2020nova.pres.6188K\n",
      "\n",
      "['Rapid luminosity decline and subsequent reformation of the innermost dust distribution in the changing-look AGN Mrk 590'] 2020-02-00 2020MNRAS.491.4615K\n",
      "\n",
      "['Initial Results from a Systematic Search for Changing-look Active Galactic Nuclei Selected via Mid-infrared Variability'] 2020-01-00 2020ApJ...889...46S\n",
      "\n",
      "['Spectral changes and BLR kinematics of eruptive changing-look AGN'] 2020-01-00 2020CoSka..50..318O\n",
      "\n",
      "[\"Revisiting old (AGN) friends -- what's changed in their spectral looks\"] 2020-01-00 2020arXiv200104681W\n",
      "\n",
      "['Understanding Broad Mg II Variability in Quasars with Photoionization: Implications for Reverberation Mapping and Changing-look Quasars'] 2020-01-00 2020ApJ...888...58G\n",
      "\n",
      "['From Einstein to Chandra: Dramatic long-term X-ray variability in AGNs'] 2020-01-00 2020AAS...23530433G\n",
      "\n",
      "['Evidence for changing-look AGNs is caused by change of accretion mode'] 2019-12-00 2019arXiv191203972L\n",
      "\n",
      "['Two New “Turn-off” Changing-look Active Galactic Nuclei and Implication on “Partially Obscured” AGNs'] 2019-12-00 2019ApJ...887...15W\n",
      "\n",
      "['An Unusual Mid-infrared Flare in a Type 2 AGN: An Obscured Turning-on AGN or Tidal Disruption Event?'] 2019-11-00 2019ApJ...885..110Y\n",
      "\n",
      "['SDSS J0159 as an outlier in the M<SUB>BH</SUB>-σ space: further clues to support a central tidal disruption event?'] 2019-11-00 2019MNRAS.490L..81Z\n",
      "\n",
      "['Discovery of an Mg II Changing-look Active Galactic Nucleus and Its Implications for a Unification Sequence of Changing-look Active Galactic Nuclei'] 2019-10-00 2019ApJ...883L..44G\n",
      "\n",
      "['A Forward Modeling Approach to AGN Variability--Method Description and Early Applications'] 2019-10-00 2019ApJ...883..139S\n",
      "\n",
      "['The Analogous Structure of Accretion Flows in Supermassive and Stellar Mass Black Holes: New Insights from Faded Changing-look Quasars'] 2019-09-00 2019ApJ...883...76R\n",
      "\n",
      "['1ES 1927+654: An AGN Caught Changing Look on a Timescale of Months'] 2019-09-00 2019ApJ...883...94T\n",
      "\n",
      "['A Wind-based Unification Model for NGC 5548: Spectral Holidays, Nondisk Emission, and Implications for Changing-look Quasars'] 2019-09-00 2019ApJ...882L..30D\n",
      "\n",
      "['A New Class of Changing-look LINERs'] 2019-09-00 2019ApJ...883...31F\n",
      "\n",
      "['Tracing the AGN/X-ray Binary Analogy with Light Curves of Individual Changing-Look AGN'] 2019-09-00 2019arXiv190904676R\n",
      "\n",
      "['A New Population of Highly Energetic Nuclear Transients'] 2019-08-00 2019IAUS..339..131K\n",
      "\n",
      "['PS1-13cbe: the rapid transition of a Seyfert 2 to a Seyfert 1'] 2019-08-00 2019MNRAS.487.4057K\n",
      "\n",
      "['MUSE observations of a changing-look AGN - I. The reappearance of the broad emission lines'] 2019-06-00 2019MNRAS.486..123R\n",
      "\n",
      "['Long-term optical spectral monitoring of a changing-look active galactic nucleus NGC 3516 - I. Continuum and broad-line flux variability'] 2019-06-00 2019MNRAS.485.4790S\n",
      "\n",
      "['Polarization of changing-look quasars'] 2019-05-00 2019A&A...625A..54H\n",
      "\n",
      "['Gemini Imaging of the Host Galaxies of Changing-look Quasars'] 2019-05-00 2019ApJ...876...75C\n",
      "\n",
      "[\"The `Big Dipper': the nature of the extreme variability of the AGN SDSS J2232-0806\"] 2019-05-00 2019MNRAS.485.2573K\n",
      "\n",
      "['Mechanism of the Changing Look phenomenon in Active Galactic Nuclei'] 2019-04-00 2019arXiv190406767S\n",
      "\n",
      "['The Analogous Structure of Accretion Flows in Supermassive and Stellar Mass Black Holes'] 2019-03-00 2019HEAD...1710644R\n",
      "\n",
      "['The ongoing transformation of Seyfert galaxy 1ES 1927+654'] 2019-03-00 2019HEAD...1710101K\n",
      "\n",
      "['Changing-look Quasar Candidates: First Results from Follow-up Spectroscopy of Highly Optically Variable Quasars'] 2019-03-00 2019ApJ...874....8M\n",
      "\n",
      "['New changing look case in NGC 1566'] 2019-02-00 2019MNRAS.483..558O\n",
      "\n",
      "['Discovery of More Changing Look Events in NGC 1566'] 2019-00-00 2019OAP....32...75O\n",
      "\n"
     ]
    }
   ],
   "source": [
    "papers_1=ads.SearchQuery(q='Changing look active galatic nuclei',sort='pubdate')\n",
    "for paper in papers_1:\n",
    "    print(paper.title,paper.pubdate,paper.bibcode)\n",
    "    #print(paper.pubdate)\n",
    "    print()"
   ]
  },
  {
   "cell_type": "code",
   "execution_count": null,
   "metadata": {
    "collapsed": true
   },
   "outputs": [],
   "source": []
  },
  {
   "cell_type": "code",
   "execution_count": null,
   "metadata": {
    "collapsed": true
   },
   "outputs": [],
   "source": []
  },
  {
   "cell_type": "code",
   "execution_count": 59,
   "metadata": {
    "ExecuteTime": {
     "end_time": "2020-09-16T22:24:33.795418Z",
     "start_time": "2020-09-16T22:24:33.789902Z"
    }
   },
   "outputs": [],
   "source": [
    "papers_1.articles?"
   ]
  },
  {
   "cell_type": "code",
   "execution_count": 1,
   "metadata": {
    "ExecuteTime": {
     "end_time": "2019-08-20T16:47:02.118745Z",
     "start_time": "2019-08-20T16:47:00.998276Z"
    },
    "collapsed": true
   },
   "outputs": [],
   "source": [
    "import adstex"
   ]
  },
  {
   "cell_type": "code",
   "execution_count": 2,
   "metadata": {
    "ExecuteTime": {
     "end_time": "2019-08-20T16:47:03.401750Z",
     "start_time": "2019-08-20T16:47:03.396938Z"
    }
   },
   "outputs": [],
   "source": [
    "?adstex"
   ]
  },
  {
   "cell_type": "code",
   "execution_count": null,
   "metadata": {
    "collapsed": true
   },
   "outputs": [],
   "source": []
  },
  {
   "cell_type": "code",
   "execution_count": null,
   "metadata": {
    "collapsed": true
   },
   "outputs": [],
   "source": []
  },
  {
   "cell_type": "markdown",
   "metadata": {},
   "source": [
    "https://pypi.org/project/arxiv/"
   ]
  },
  {
   "cell_type": "markdown",
   "metadata": {
    "collapsed": true
   },
   "source": [
    "https://pypi.org/project/arxiv-checker/"
   ]
  },
  {
   "cell_type": "markdown",
   "metadata": {},
   "source": [
    "# arxiv"
   ]
  },
  {
   "cell_type": "code",
   "execution_count": 29,
   "metadata": {
    "ExecuteTime": {
     "end_time": "2020-10-12T22:43:05.353429Z",
     "start_time": "2020-10-12T22:43:01.384372Z"
    }
   },
   "outputs": [
    {
     "name": "stdout",
     "output_type": "stream",
     "text": [
      "\tChecking http://arxiv.org/list/astro-ph/new\n",
      "No results.\n"
     ]
    }
   ],
   "source": [
    "import arxivchecker #new daily\n",
    "paperstoday = arxivchecker.check_keywords('astro-ph','Changing look AGN')"
   ]
  },
  {
   "cell_type": "code",
   "execution_count": 30,
   "metadata": {
    "ExecuteTime": {
     "end_time": "2020-10-12T22:43:09.718403Z",
     "start_time": "2020-10-12T22:43:05.355876Z"
    }
   },
   "outputs": [
    {
     "name": "stdout",
     "output_type": "stream",
     "text": [
      "\tChecking http://arxiv.org/list/astro-ph/new\n",
      "No results.\n"
     ]
    }
   ],
   "source": [
    "paperstoday = arxivchecker.check_keywords('astro-ph','Changing look')\n",
    "paperstoday "
   ]
  },
  {
   "cell_type": "code",
   "execution_count": 26,
   "metadata": {
    "ExecuteTime": {
     "end_time": "2020-10-12T22:41:46.909537Z",
     "start_time": "2020-10-12T22:41:46.902812Z"
    }
   },
   "outputs": [],
   "source": [
    "arxiv?"
   ]
  },
  {
   "cell_type": "code",
   "execution_count": 33,
   "metadata": {
    "ExecuteTime": {
     "end_time": "2020-10-13T08:52:23.300820Z",
     "start_time": "2020-10-13T08:52:21.063192Z"
    }
   },
   "outputs": [
    {
     "name": "stderr",
     "output_type": "stream",
     "text": [
      "HTTP Error 400 in query\n"
     ]
    }
   ],
   "source": [
    "import arxiv#query num \n",
    "papers_arxiv=arxiv.query(query=\"Changing look\",max_results=1000,sort_by=\"pubdate\",sort_order=\"descending\",)"
   ]
  },
  {
   "cell_type": "code",
   "execution_count": 32,
   "metadata": {
    "ExecuteTime": {
     "end_time": "2020-10-12T22:43:16.455952Z",
     "start_time": "2020-10-12T22:43:16.450603Z"
    }
   },
   "outputs": [],
   "source": [
    "import datetime\n",
    "for i in papers_arxiv:\n",
    "    if datetime.datetime.strptime(i['published'], \"%Y-%m-%dT%H:%M:%SZ\").year>2019:\n",
    "        if (i['title'].find('changing') + i['title'].find('Changing')>-1):\n",
    "            print(i['title'])\n",
    "            print(i['authors'])\n",
    "            print(i['pdf_url'],'\\n')"
   ]
  },
  {
   "cell_type": "code",
   "execution_count": null,
   "metadata": {
    "collapsed": true
   },
   "outputs": [],
   "source": []
  },
  {
   "cell_type": "code",
   "execution_count": null,
   "metadata": {},
   "outputs": [],
   "source": []
  },
  {
   "cell_type": "code",
   "execution_count": null,
   "metadata": {},
   "outputs": [],
   "source": []
  },
  {
   "cell_type": "code",
   "execution_count": null,
   "metadata": {},
   "outputs": [],
   "source": [
    "papers_1=ads.SearchQuery(q='Changing look active galatic nuclei',sort='pubdate')\n",
    "for paper in papers_1:\n",
    "    print(paper.title,paper.pubdate,paper.bibcode)\n",
    "    #print(paper.pubdate)\n",
    "    print()"
   ]
  },
  {
   "cell_type": "code",
   "execution_count": null,
   "metadata": {},
   "outputs": [],
   "source": []
  },
  {
   "cell_type": "code",
   "execution_count": 12,
   "metadata": {
    "ExecuteTime": {
     "end_time": "2021-09-24T01:11:24.636021Z",
     "start_time": "2021-09-24T01:11:24.632920Z"
    }
   },
   "outputs": [],
   "source": [
    "import pandas as pd\n",
    "import numpy as np"
   ]
  },
  {
   "cell_type": "markdown",
   "metadata": {},
   "source": [
    "# CLAGN_210919"
   ]
  },
  {
   "cell_type": "code",
   "execution_count": 238,
   "metadata": {
    "ExecuteTime": {
     "end_time": "2021-09-24T07:57:21.124390Z",
     "start_time": "2021-09-24T07:57:21.040377Z"
    }
   },
   "outputs": [],
   "source": [
    "CLAGN_210919=pd.read_excel('/Users/brettlv/blog/IHEP_sync/data/data_clagn/CLAGN_list210919.xlsx',sheet_name='Sheet1')"
   ]
  },
  {
   "cell_type": "code",
   "execution_count": 240,
   "metadata": {
    "ExecuteTime": {
     "end_time": "2021-09-24T07:57:39.879758Z",
     "start_time": "2021-09-24T07:57:39.874561Z"
    }
   },
   "outputs": [
    {
     "data": {
      "text/plain": [
       "Index(['Name', 'RA', 'DEC', 'Ref.', 'Type_Ref', 'Redshift', 'lg(MBH/Msun)',\n",
       "       'Ref..1', 'mass_Ref', 'Type_CL', 'Type_X', 'OX', 'logM', 'pos',\n",
       "       'E(B-V)mean', 'E(B-V)weighted', 'NHImean', 'NHIweighted', 'NH2mean',\n",
       "       'NH2weighted', 'NH,totmean', 'NH,totweighted'],\n",
       "      dtype='object')"
      ]
     },
     "execution_count": 240,
     "metadata": {},
     "output_type": "execute_result"
    }
   ],
   "source": [
    "CLAGN_210919.columns"
   ]
  },
  {
   "cell_type": "code",
   "execution_count": 241,
   "metadata": {
    "ExecuteTime": {
     "end_time": "2021-09-24T07:58:28.898645Z",
     "start_time": "2021-09-24T07:58:28.888881Z"
    }
   },
   "outputs": [],
   "source": [
    "CLAGN_210919_mass=CLAGN_210919[CLAGN_210919['lg(MBH/Msun)'].notnull()]"
   ]
  },
  {
   "cell_type": "code",
   "execution_count": 243,
   "metadata": {
    "ExecuteTime": {
     "end_time": "2021-09-24T07:58:47.209034Z",
     "start_time": "2021-09-24T07:58:47.205675Z"
    }
   },
   "outputs": [],
   "source": [
    "CLAGN_210919_mass=CLAGN_210919_mass.reset_index(drop=True)"
   ]
  },
  {
   "cell_type": "code",
   "execution_count": 244,
   "metadata": {
    "ExecuteTime": {
     "end_time": "2021-09-24T07:58:56.442677Z",
     "start_time": "2021-09-24T07:58:56.437678Z"
    }
   },
   "outputs": [
    {
     "data": {
      "text/plain": [
       "Index(['Name', 'RA', 'DEC', 'Ref.', 'Type_Ref', 'Redshift', 'lg(MBH/Msun)',\n",
       "       'Ref..1', 'mass_Ref', 'Type_CL', 'Type_X', 'OX', 'logM', 'pos',\n",
       "       'E(B-V)mean', 'E(B-V)weighted', 'NHImean', 'NHIweighted', 'NH2mean',\n",
       "       'NH2weighted', 'NH,totmean', 'NH,totweighted'],\n",
       "      dtype='object')"
      ]
     },
     "execution_count": 244,
     "metadata": {},
     "output_type": "execute_result"
    }
   ],
   "source": [
    "CLAGN_210919_mass.columns"
   ]
  },
  {
   "cell_type": "code",
   "execution_count": 297,
   "metadata": {
    "ExecuteTime": {
     "end_time": "2021-09-24T14:19:06.631145Z",
     "start_time": "2021-09-24T14:19:06.625291Z"
    }
   },
   "outputs": [
    {
     "data": {
      "text/plain": [
       "118"
      ]
     },
     "execution_count": 297,
     "metadata": {},
     "output_type": "execute_result"
    }
   ],
   "source": [
    "len(CLAGN_210919_mass)"
   ]
  },
  {
   "cell_type": "code",
   "execution_count": 291,
   "metadata": {
    "ExecuteTime": {
     "end_time": "2021-09-24T14:16:45.537354Z",
     "start_time": "2021-09-24T14:16:45.530467Z"
    }
   },
   "outputs": [],
   "source": [
    "CLAGNref_allmass_bibcodes=[]\n",
    "for i in CLAGN_210919_mass['Type_Ref']:\n",
    "    if i not in CLAGNref_allmass_bibcodes and i is not np.nan:\n",
    "        CLAGNref_allmass_bibcodes.append(i)\n",
    "            \n",
    "for i in CLAGN_210919_mass['mass_Ref']:\n",
    "    if i not in CLAGNref_allmass_bibcodes and i is not np.nan:\n",
    "        CLAGNref_allmass_bibcodes.append(i)  "
   ]
  },
  {
   "cell_type": "code",
   "execution_count": null,
   "metadata": {},
   "outputs": [],
   "source": []
  },
  {
   "cell_type": "markdown",
   "metadata": {},
   "source": [
    "## write_latex"
   ]
  },
  {
   "cell_type": "code",
   "execution_count": 292,
   "metadata": {
    "ExecuteTime": {
     "end_time": "2021-09-24T14:16:53.394873Z",
     "start_time": "2021-09-24T14:16:53.389361Z"
    }
   },
   "outputs": [
    {
     "data": {
      "text/plain": [
       "64"
      ]
     },
     "execution_count": 292,
     "metadata": {},
     "output_type": "execute_result"
    }
   ],
   "source": [
    "len(CLAGNref_allmass_bibcodes)"
   ]
  },
  {
   "cell_type": "code",
   "execution_count": 293,
   "metadata": {
    "ExecuteTime": {
     "end_time": "2021-09-24T14:16:59.329565Z",
     "start_time": "2021-09-24T14:16:59.326550Z"
    }
   },
   "outputs": [],
   "source": [
    "dict_bibcode_index = dict(zip(CLAGNref_allmass_bibcodes,np.arange(len(CLAGNref_allmass_bibcodes))+1))"
   ]
  },
  {
   "cell_type": "code",
   "execution_count": 296,
   "metadata": {
    "ExecuteTime": {
     "end_time": "2021-09-24T14:18:21.664170Z",
     "start_time": "2021-09-24T14:18:21.650757Z"
    }
   },
   "outputs": [
    {
     "name": "stdout",
     "output_type": "stream",
     "text": [
      "(1)~\\citet{2019ApJ...883...94T} (2)~\\citet{2012MNRAS.421.1803M} (3)~\\citet{2016ApJ...826..188R} (4)~\\citet{2019ApJ...874....8M} (5)~\\citet{2021A&A...650A..33P} (6)~\\citet{2018ApJ...864...27S} (7)~\\citet{2018yCat..22340023A} (8)~\\citet{2016ApJ...821...33R} (9)~\\citet{2019sf2a.conf..509M} (10)~\\citet{2018Galax...6...52A} (11)~\\citet{2018A&A...619A.168K} (12)~\\citet{2016ApJ...820....5R} (13)~\\citet{2020A&A...638A..91K} (14)~\\citet{2020A&A...644L...5H} (15)~\\citet{2020MNRAS.491.4615K} (16)~\\citet{2021IAUS..356..122W} (17)~\\citet{2021MNRAS.503.2583S} (18)~\\citet{2003MNRAS.342..422M} (19)~\\citet{2020MNRAS.498..718O} (20)~\\citet{2017OAP....30..117O} (21)~\\citet{2021ApJ...909...18F} (22)~\\citet{2021MNRAS.507..687J} (23)~\\citet{2005MNRAS.356..295G} (24)~\\citet{2018ATel11915....1O} (25)~\\citet{2020MNRAS.499.5396J} (26)~\\citet{2005A&A...442..185B} (27)~\\citet{2008A&A...483..137B} (28)~\\citet{2020MNRAS.498.3985Y} (29)~\\citet{2017ApJ...846L...7S} (30)~\\citet{2019ApJ...883...31F} (31)~\\citet{2019ApJ...883L..44G} (32)~\\citet{2018ApJ...862..109Y} (33)~\\citet{2020MNRAS.498.2339R} (34)~\\citet{2020MNRAS.491.4925G} (35)~\\citet{2019MNRAS.487.4057K} (36)~\\citet{2019ApJ...887...15W} (37)~\\citet{2020ApJ...901....1W} (38)~\\citet{2021MNRAS.502L..50S} (39)~\\citet{2014A&A...563A..95D} (40)~\\citet{2019ApJ...883...76R} (41)~\\citet{2011MNRAS.410.1877S} (42)~\\citet{2014MNRAS.443.2862A} (43)~\\citet{2017MNRAS.466.1777P} (44)~\\citet{2018MNRAS.480.3898N} (45)~\\citet{2018MNRAS.478.4214E} (46)~\\citet{2013ApJ...773...90G} (47)~\\citet{2018MNRAS.481.4542S} (48)~\\citet{2010A&A...522A..36K} (49)~\\citet{2015ApJ...800...63S} (50)~\\citet{2017MNRAS.468L..97O} (51)~\\citet{2002ApJ...579..530W} (52)~\\citet{2019arXiv190904676R} (53)~\\citet{2020MNRAS.496.3412M} (54)~\\citet{2001ApJ...554..240E} (55)~\\citet{2019MNRAS.487..667C} (56)~\\citet{2019ApJ...884..106M} (57)~\\citet{2005ApJ...632..799P} (58)~\\citet{2011AAS...21822816M} (59)~\\citet{2009ApJ...690.1322W} (60)~\\citet{2017ApJ...850...74K} (61)~\\citet{2014MNRAS.445.3073P} (62)~\\citet{2018MNRAS.473.5334R} (63)~\\citet{2017NatAs...1..727K} (64)~\\citet{2021ApJ...907L..21D} "
     ]
    }
   ],
   "source": [
    "for index,bib in enumerate(CLAGNref_allmass_bibcodes):\n",
    "    print('(%d)'%(index+1)+'~'+'\\\\citet{%s}'%bib,end=' ')"
   ]
  },
  {
   "cell_type": "code",
   "execution_count": 295,
   "metadata": {
    "ExecuteTime": {
     "end_time": "2021-09-24T14:17:32.611787Z",
     "start_time": "2021-09-24T14:17:32.289005Z"
    }
   },
   "outputs": [
    {
     "name": "stdout",
     "output_type": "stream",
     "text": [
      "1ES 1927+654 & 0.0170 & O-CLAGN & 1 & 7.3 & 38 \\\\\n",
      "1H 0419-577 & 0.1040 & Seyfert 1.5 & 2 & 8.58 & 39 \\\\\n",
      "2MASS J01264811-0839481        & 0.1979 & O-CLAGN & 3 & 8.08 & 40 \\\\\n",
      "2MASS J07451198+3809114 & 0.2365 & O-CLAGN & 4 & 9.1 & 34 \\\\\n",
      "2MASS J10022021+4509276        & 0.4009 & O-CLAGN & 5 & 8.7 & 40 \\\\\n",
      "2MASS J10520355+1519294        & 0.3025 & O-CLAGN & 6 & 7.9 & 34 \\\\\n",
      "2MASS J11132967+5313393 & 0.2392 & O-CLAGN & 4 & 7.8 & 34 \\\\\n",
      "2MASS J12335916+0842112 & 0.2562 & O-CLAGN & 4 & 8.7 & 34 \\\\\n",
      "2MASS J14284671+1723530        & 0.1040 & O-CLAGN & 7 & 7.6 & 34 \\\\\n",
      "2MASS J15361278+0342457 & 0.3645 & O-CLAGN & 4 & 8.2 & 34 \\\\\n",
      "2MASS J15373408+4613585 & 0.3779 & O-CLAGN & 4 & 8.0 & 34 \\\\\n",
      "2MASS J16011122+4745095 & 0.2970 & O-CLAGN & 4 & 7.9 & 34 \\\\\n",
      "2MASS J16171142+0638333 & 0.2291 & O-CLAGN & 4 & 8.0 & 34 \\\\\n",
      "2MASS J21020044+0005020 & 0.3294 & O-CLAGN & 4 & 8.0 & 34 \\\\\n",
      "2MASS J22053771-0711147 & 0.2950 & O-CLAGN & 4 & 8.0 & 34 \\\\\n",
      "2MASX J09381221+0743398 & 0.0220 & O-CLAGN & 8 & 7.5 & 34 \\\\\n",
      "2MASX J09483841+4030436 & 0.0468 & O-CLAGN & 8 & 7.5 & 34 \\\\\n",
      "2MASX J10215228+4645158        & 0.2041 & O-CLAGN & 5 & 8.32 & 40 \\\\\n",
      "3C 390.3 & 0.0561 & O-CLAGN & 9 & 9.3 & 41 \\\\\n",
      "ESO 362-G18 & 0.0124 & O-CLAGN & 10 & 7.65 & 42 \\\\\n",
      "Fairall 9 & 0.0461 & O-CLAGN & 9 & 8.41 & 43 \\\\\n",
      "HE 1136-2304 & 0.0270 & O-CLAGN & 11 & 7.58 & 11 \\\\\n",
      "IC 751 & 0.0315 & Type 2 & 12 & 8.5 & 12 \\\\\n",
      "IRAS 23226-3843 & 0.0359 & O-CLAGN & 13 & 8.23 & 13 \\\\\n",
      "Mrk 1018 & 0.0430 & O-CLAGN & 14 & 7.84 & 44 \\\\\n",
      "Mrk 530 & 0.0288 & O-CLAGN & 9 & 8.06 & 45 \\\\\n",
      "Mrk 590 & 0.0264 & O-CLAGN & 15 & 7.5 & 46 \\\\\n",
      "Mrk 6 & 0.0195 & O-CLAGN & 9 & 8.18 & 47 \\\\\n",
      "Mrk 926 & 0.0470 & O-CLAGN & 16 & 8.05 & 48 \\\\\n",
      "NGC 1097 & 0.0042 & O-CLAGN & 17 & 8.08 & 49 \\\\\n",
      "NGC 1365 & 0.0055 & Type 1.8 & 18 & 6.65 & 50 \\\\\n",
      "NGC 1566 & 0.0050 & O-CLAGN & 19 & 6.92 & 51 \\\\\n",
      "NGC 2617 & 0.0142 & O-CLAGN & 20 & 7.5 & 52 \\\\\n",
      "NGC 2992 & 0.0077 & O-CLAGN & 18 & 7.48 & 53 \\\\\n",
      "NGC 3065 & 0.0066 & O-CLAGN & 17 & 7.95 & 54 \\\\\n",
      "NGC 3516 & 0.0088 & O-CLAGN & 21 & 7.49 & 46 \\\\\n",
      "NGC 4051 & 0.0023 & NLS 1 & 2 & 6.36 & 55 \\\\\n",
      "NGC 4151 & 0.0033 & O-CLAGN & 9 & 7.56 & 46 \\\\\n",
      "NGC 4388 & 0.0084 & Seyfert 2 & 2 & 6.92 & 56 \\\\\n",
      "NGC 4395 & 0.0011 & O-CLAGN & 22 & 5.56 & 57 \\\\\n",
      "NGC 4507 & 0.0118 & Seyfert 2 & 22 & 7.65 & 58 \\\\\n",
      "NGC 454 & 0.0122 & Seyfert 2 & 2 & 6.23 & 59 \\\\\n",
      "NGC 4939 & 0.0104 & Seyfert 2 & 23 & 7.52 & 60 \\\\\n",
      "NGC 5548 & 0.0172 & O-CLAGN & 24 & 7.51 & 61 \\\\\n",
      "NGC 6300 & 0.0037 & Seyfert 2 & 25 & 7.0 & 25 \\\\\n",
      "NGC 7469 & 0.0163 & Seyfert 1  & 24 & 7.32 & 46 \\\\\n",
      "NGC 7582 & 0.0053 & O-CLAGN & 9 & 7.74 & 62 \\\\\n",
      "NGC 7674 & 0.0290 & Seyfert 2 & 26 & 7.56 & 63 \\\\\n",
      "PG 1535+547 & 0.0389 & NLS 1 & 27 & 7.34 & 27 \\\\\n",
      "SDSS J002311.06+003517.5       & 0.4222 & O-CLAGN & 5 & 8.2 & 34 \\\\\n",
      "SDSS J015957.62+003310.5       & 0.3120 & O-CLAGN & 5 & 8.15 & 40 \\\\\n",
      "SDSS J022556.07+003026.7       & 0.5039 & O-CLAGN & 5 & 8.2 & 34 \\\\\n",
      "SDSS J022652.24-003916.5       & 0.6253 & O-CLAGN & 5 & 8.6 & 34 \\\\\n",
      "SDSS J030510.60-010431.6       & 0.0450 & O-CLAGN & 28 & 7.35 & 28 \\\\\n",
      "SDSS J080020.98+263648.8       & 0.0267 & O-CLAGN & 28 & 7.12 & 28 \\\\\n",
      "SDSS J081319.34+460849.5 & 0.0538 & O-CLAGN & 29 & 7.6 & 34 \\\\\n",
      "SDSS J081726.41+101210.1 & 0.0458 & O-CLAGN & 30 & 7.5 & 30 \\\\\n",
      "SDSS J082323.89+422048.3 & 0.1515 & O-CLAGN & 5 & 8.09 & 5 \\\\\n",
      "SDSS J082942.67+415436.9 & 0.1263 & O-CLAGN & 5 & 8.49 & 5 \\\\\n",
      "SDSS J090902.35+133019.4 & 0.0499 & O-CLAGN & 29 & 7.3 & 34 \\\\\n",
      "SDSS J091531.04+481407.7 & 0.1005 & O-CLAGN & 30 & 7.789 & 64 \\\\\n",
      "SDSS J094810.92+005057.8 & 0.6245 & O-CLAGN & 31 & 7.4 & 31 \\\\\n",
      "SDSS J101152.98+544206.4       & 0.2464 & O-CLAGN & 29 & 8.4 & 40 \\\\\n",
      "SDSS J111536.57+054449.7       & 0.0900 & O-CLAGN & 32 & 7.566 & 64 \\\\\n",
      "SDSS J113355.93+670107.0 & 0.0397 & O-CLAGN & 30 & 8.167 & 64 \\\\\n",
      "SDSS J120544.68+342252.4       & 2.0680 & O-CLAGN & 33 & 9.73 & 33 \\\\\n",
      "SDSS J122550.30+510846.3 & 0.1679 & O-CLAGN & 30 & 8.617 & 64 \\\\\n",
      "SDSS J125403.78+491452.8 & 0.0670 & O-CLAGN & 30 & 8.257 & 64 \\\\\n",
      "SDSS J131615.95+301552.2       & 0.0492 & O-CLAGN & 28 & 7.06 & 28 \\\\\n",
      "SDSS J132457.29+480241.2       & 0.2716 & O-CLAGN & 5 & 8.0 & 34 \\\\\n",
      "SDSS J141324.27+530527.0       & 0.4559 & O-CLAGN & 34 & 8.2 & 34 \\\\\n",
      "SDSS J152533.60+292012.1       & 0.4493 & O-CLAGN & 31 & 8.0 & 31 \\\\\n",
      "SDSS J153308.02+443208.4 & 0.0367 & O-CLAGN & 30 & 7.6 & 30 \\\\\n",
      "SDSS J155440.25+362952.0       & 0.2368 & O-CLAGN & 29 & 8.0 & 29 \\\\\n",
      "SDSS J162501.43+241547.3       & 0.0503 & O-CLAGN & 28 & 6.66 & 28 \\\\\n",
      "SDSS J163629.66+410222.4       & 0.0474 & O-CLAGN & 28 & 7.0 & 28 \\\\\n",
      "SDSS J163852.93+282707.8       & 2.1854 & O-CLAGN & 33 & 9.09 & 33 \\\\\n",
      "SDSS J172322.31+550413.8 & 0.2947 & O-CLAGN & 5 & 8.57 & 5 \\\\\n",
      "SDSS J214613.31+000930.8       & 0.6220 & O-CLAGN & 5 & 8.3 & 34 \\\\\n",
      "SDSS J222153.87+003054.2       & 0.1235 & O-CLAGN & 35 & 6.46 & 35 \\\\\n",
      "SDSS J222818.76+220102.9       & 2.2171 & O-CLAGN & 33 & 9.37 & 33 \\\\\n",
      "SDSS J224448.72+004347.1 & 0.6369 & O-CLAGN & 31 & 7.8 & 31 \\\\\n",
      "SDSS J225240.37+010958.7       & 0.5333 & O-CLAGN & 4 & 8.2 & 34 \\\\\n",
      "SDSS J233317.38-002303.4       & 0.5130 & O-CLAGN & 5 & 8.3 & 34 \\\\\n",
      "SDSS J233602.98+001728.7       & 0.2428 & O-CLAGN & 3 & 8.26 & 40 \\\\\n",
      "SDSS J235107.43-091318.0 & 0.3545 & O-CLAGN & 4 & 7.9 & 34 \\\\\n",
      "SDSSJ104705.16+544405.8        & 0.2149 & O-CLAGN & 36 & 7.56 & 36 \\\\\n",
      "SDSSJ120447.91+170256.8        & 0.2979 & O-CLAGN & 36 & 8.0 & 36 \\\\\n",
      "UGC 3223 & 0.0156 & O-CLAGN & 37 & 7.99 & 37 \\\\\n",
      "UGC 4203 & 0.0135 & Seyfert 2 & 18 & 6.78 & 50 \\\\\n",
      "WISE J115227.47+320959.3 & 0.3743 & O-CLAGN & 32 & 8.1 & 34 \\\\\n",
      "WISEA J000236.24-002724.6 & 0.2913 & O-CLAGN & 5 & 8.74 & 5 \\\\\n",
      "WISEA J000904.54-103428.6 & 0.2406 & O-CLAGN & 4 & 8.0 & 34 \\\\\n",
      "WISEA J013458.36-091435.4 & 0.4431 & O-CLAGN & 4 & 8.2 & 34 \\\\\n",
      "WISEA J035301.02-062326.2 & 0.0762 & O-CLAGN & 8 & 7.6 & 34 \\\\\n",
      "WISEA J083132.25+364617.0 & 0.1950 & O-CLAGN & 32 & 8.589 & 64 \\\\\n",
      "WISEA J084748.28+182440.0 & 0.0848 & O-CLAGN & 8 & 7.7 & 34 \\\\\n",
      "WISEA J084957.78+274728.8 & 0.2985 & O-CLAGN & 32 & 7.9 & 64 \\\\\n",
      "WISEA J090932.02+474730.7 & 0.1169 & O-CLAGN & 32 & 7.348 & 64 \\\\\n",
      "WISEA J093730.32+260232.1 & 0.1623 & O-CLAGN & 32 & 7.827 & 64 \\\\\n",
      "WISEA J100323.46+352503.8 & 0.1189 & O-CLAGN & 32 & 8.004 & 64 \\\\\n",
      "WISEA J110057.70-005304.4 & 0.3790 & O-CLAGN & 34 & 8.2 & 34 \\\\\n",
      "WISEA J110423.23+634305.2 & 0.1643 & O-CLAGN & 32 & 6.8 & 34 \\\\\n",
      "WISEA J110455.17+011856.6 & 0.5752 & O-CLAGN & 32 & 8.2 & 34 \\\\\n",
      "WISEA J111025.44-000334.1 & 0.2192 & O-CLAGN & 32 & 7.6 & 34 \\\\\n",
      "WISEA J111829.66+320400.0 & 0.3660 & O-CLAGN & 32 & 7.7 & 34 \\\\\n",
      "WISEA J113229.14+035729.1 & 0.0909 & O-CLAGN & 32 & 7.932 & 64 \\\\\n",
      "WISEA J115039.31+363258.3 & 0.3400 & O-CLAGN & 32 & 7.9 & 34 \\\\\n",
      "WISEA J125916.74+551507.1 & 0.1987 & O-CLAGN & 32 & 7.9 & 34 \\\\\n",
      "WISEA J131930.75+675355.4 & 0.1664 & O-CLAGN & 32 & 7.507 & 64 \\\\\n",
      "WISEA J135855.82+493414.0 & 0.1159 & O-CLAGN & 32 & 6.9 & 34 \\\\\n",
      "WISEA J144754.23+283324.1 & 0.1634 & O-CLAGN & 32 & 7.999 & 64 \\\\\n",
      "WISEA J153355.99+011029.7 & 0.1427 & O-CLAGN & 32 & 7.9 & 34 \\\\\n",
      "WISEA J154507.52+170950.8 & 0.0483 & O-CLAGN & 34 & 7.4 & 34 \\\\\n",
      "WISEA J154529.63+251127.9 & 0.1170 & O-CLAGN & 32 & 8.124 & 64 \\\\\n",
      "WISEA J155017.23+413902.4 & 0.2201 & O-CLAGN & 32 & 8.265 & 64 \\\\\n",
      "WISEA J155258.27+273728.5 & 0.0865 & O-CLAGN & 32 & 8.086 & 64 \\\\\n",
      "WISEA J162415.02+455130.2 & 0.4806 & O-CLAGN & 4 & 8.1 & 34 \\\\\n"
     ]
    }
   ],
   "source": [
    "for index,name in enumerate(CLAGN_210919_mass['Name']):\n",
    "    if CLAGN_210919_mass.iloc[index]['Type_X'] is not np.nan:\n",
    "        print(CLAGN_210919_mass.iloc[index]['Name'],'&',\n",
    "          '%.4f'%CLAGN_210919_mass.iloc[index]['Redshift'],'&',\n",
    "          CLAGN_210919_mass.iloc[index]['Type_X'],'&', \n",
    "              \n",
    "          '%d'%dict_bibcode_index[CLAGN_210919_mass.iloc[index]['Type_Ref']],'&',\n",
    "          CLAGN_210919_mass.iloc[index]['lg(MBH/Msun)'],'&',     \n",
    "              \n",
    "          '%d'%dict_bibcode_index[CLAGN_210919_mass.iloc[index]['mass_Ref']],'\\\\\\\\',\n",
    "         )\n",
    "    else: \n",
    "         print(CLAGN_210919_mass.iloc[index]['Name'],'&',\n",
    "          '%.4f'%CLAGN_210919_mass.iloc[index]['Redshift'],'&',\n",
    "          'O-CLAGN','&',\n",
    "          '%d'%dict_bibcode_index[CLAGN_210919_mass.iloc[index]['Type_Ref']],'&',     \n",
    "               \n",
    "          CLAGN_210919_mass.iloc[index]['lg(MBH/Msun)'],'&',\n",
    "          '%d'%dict_bibcode_index[CLAGN_210919_mass.iloc[index]['mass_Ref']],'\\\\\\\\',\n",
    "         )"
   ]
  },
  {
   "cell_type": "code",
   "execution_count": null,
   "metadata": {},
   "outputs": [],
   "source": []
  },
  {
   "cell_type": "code",
   "execution_count": null,
   "metadata": {},
   "outputs": [],
   "source": []
  },
  {
   "cell_type": "code",
   "execution_count": 214,
   "metadata": {
    "ExecuteTime": {
     "end_time": "2021-09-24T06:50:51.603676Z",
     "start_time": "2021-09-24T06:50:51.599941Z"
    }
   },
   "outputs": [],
   "source": [
    "from astropy import units as u\n",
    "from astropy import constants \n",
    "from astropy.coordinates import SkyCoord  # High-level coordinates\n",
    "from astropy.coordinates import ICRS, Galactic, FK4, FK5  # Low-level frames\n",
    "from astropy.coordinates import Angle, Latitude, Longitude  # Angles\n",
    "import astropy.units as u"
   ]
  },
  {
   "cell_type": "code",
   "execution_count": 215,
   "metadata": {
    "ExecuteTime": {
     "end_time": "2021-09-24T06:50:52.143458Z",
     "start_time": "2021-09-24T06:50:52.087237Z"
    }
   },
   "outputs": [],
   "source": [
    "CLAGN_210919_coord=SkyCoord(CLAGN_210919['RA'], CLAGN_210919['DEC'], frame=\"icrs\",unit=(u.hourangle, u.deg))\n",
    "CLAGN_210919['ra_deg']=CLAGN_210919_coord.ra.deg\n",
    "CLAGN_210919['dec_deg']=CLAGN_210919_coord.dec.deg"
   ]
  },
  {
   "cell_type": "markdown",
   "metadata": {
    "ExecuteTime": {
     "end_time": "2021-09-24T06:48:34.494957Z",
     "start_time": "2021-09-24T06:48:34.452627Z"
    }
   },
   "source": [
    "for i,j in zip(CLAGN_210919['ra_deg'],CLAGN_210919['dec_deg']):\n",
    "    print(i,j)"
   ]
  },
  {
   "cell_type": "code",
   "execution_count": 217,
   "metadata": {
    "ExecuteTime": {
     "end_time": "2021-09-24T06:52:22.065132Z",
     "start_time": "2021-09-24T06:52:22.058801Z"
    }
   },
   "outputs": [],
   "source": [
    "CLAGN_210919_ref=CLAGN_210919[['Name','Ref.','Ref..1']]"
   ]
  },
  {
   "cell_type": "code",
   "execution_count": null,
   "metadata": {},
   "outputs": [],
   "source": [
    "title_list,title_arxiv"
   ]
  },
  {
   "cell_type": "code",
   "execution_count": null,
   "metadata": {},
   "outputs": [],
   "source": [
    "arxiv_bibcodes,title_arxiv_bibcodes"
   ]
  },
  {
   "cell_type": "markdown",
   "metadata": {},
   "source": [
    "## dict_arxiv_title"
   ]
  },
  {
   "cell_type": "code",
   "execution_count": 219,
   "metadata": {
    "ExecuteTime": {
     "end_time": "2021-09-24T06:59:49.042670Z",
     "start_time": "2021-09-24T06:59:49.038567Z"
    }
   },
   "outputs": [],
   "source": [
    "dict_arxiv_title = dict(zip(title_arxiv, title_list))\n",
    "dict_title_bibcode = dict(zip(title_arxiv_bibcodes, arxiv_bibcodes))"
   ]
  },
  {
   "cell_type": "markdown",
   "metadata": {},
   "source": [
    "## get_bibcode"
   ]
  },
  {
   "cell_type": "code",
   "execution_count": 225,
   "metadata": {
    "ExecuteTime": {
     "end_time": "2021-09-24T07:05:29.030304Z",
     "start_time": "2021-09-24T07:05:28.961337Z"
    }
   },
   "outputs": [
    {
     "name": "stderr",
     "output_type": "stream",
     "text": [
      "/Users/brettlv/anaconda3/lib/python3.8/site-packages/pandas/core/indexing.py:670: SettingWithCopyWarning: \n",
      "A value is trying to be set on a copy of a slice from a DataFrame\n",
      "\n",
      "See the caveats in the documentation: https://pandas.pydata.org/pandas-docs/stable/user_guide/indexing.html#returning-a-view-versus-a-copy\n",
      "  iloc._setitem_with_indexer(indexer, value)\n",
      "<ipython-input-225-2dc8c3a81ff2>:8: SettingWithCopyWarning: \n",
      "A value is trying to be set on a copy of a slice from a DataFrame\n",
      "\n",
      "See the caveats in the documentation: https://pandas.pydata.org/pandas-docs/stable/user_guide/indexing.html#returning-a-view-versus-a-copy\n",
      "  CLAGN_210919_ref.loc[index,'Type_Ref']=bibcode\n",
      "<ipython-input-225-2dc8c3a81ff2>:21: SettingWithCopyWarning: \n",
      "A value is trying to be set on a copy of a slice from a DataFrame\n",
      "\n",
      "See the caveats in the documentation: https://pandas.pydata.org/pandas-docs/stable/user_guide/indexing.html#returning-a-view-versus-a-copy\n",
      "  CLAGN_210919_ref.loc[index,'mass_Ref']=bibcode\n",
      "<ipython-input-225-2dc8c3a81ff2>:13: SettingWithCopyWarning: \n",
      "A value is trying to be set on a copy of a slice from a DataFrame\n",
      "\n",
      "See the caveats in the documentation: https://pandas.pydata.org/pandas-docs/stable/user_guide/indexing.html#returning-a-view-versus-a-copy\n",
      "  CLAGN_210919_ref.loc[index,'Type_Ref']=CLAGN_210919_ref.loc[index,'Ref.']\n",
      "<ipython-input-225-2dc8c3a81ff2>:25: SettingWithCopyWarning: \n",
      "A value is trying to be set on a copy of a slice from a DataFrame\n",
      "\n",
      "See the caveats in the documentation: https://pandas.pydata.org/pandas-docs/stable/user_guide/indexing.html#returning-a-view-versus-a-copy\n",
      "  CLAGN_210919_ref.loc[index,'mass_Ref']=CLAGN_210919_ref.loc[index,'Ref..1']\n"
     ]
    }
   ],
   "source": [
    "for index,name in enumerate(CLAGN_210919_ref['Name']):\n",
    "    if CLAGN_210919_ref.loc[index,'Ref.'].startswith('arxiv:'):\n",
    "        id_arxiv=CLAGN_210919_ref.loc[index,'Ref.'][6:]\n",
    "        if id_arxiv in title_arxiv:\n",
    "            title=dict_arxiv_title[id_arxiv]\n",
    "            if title in title_arxiv_bibcodes:\n",
    "                bibcode=dict_title_bibcode[title]\n",
    "                CLAGN_210919_ref.loc[index,'Type_Ref']=bibcode\n",
    "        else:\n",
    "            continue      \n",
    "        \n",
    "    else:\n",
    "        CLAGN_210919_ref.loc[index,'Type_Ref']=CLAGN_210919_ref.loc[index,'Ref.']\n",
    "        \n",
    "    if CLAGN_210919_ref.loc[index,'Ref..1'] is not np.nan and CLAGN_210919_ref.loc[index,'Ref..1'].startswith('arxiv:'):\n",
    "        id_arxiv=CLAGN_210919_ref.loc[index,'Ref..1'][6:]\n",
    "        if id_arxiv in title_arxiv:\n",
    "            title=dict_arxiv_title[id_arxiv]\n",
    "            if title in title_arxiv_bibcodes:\n",
    "                bibcode=dict_title_bibcode[title]\n",
    "                CLAGN_210919_ref.loc[index,'mass_Ref']=bibcode\n",
    "        else:\n",
    "            continue              \n",
    "    elif CLAGN_210919_ref.loc[index,'Ref..1'] is not np.nan:\n",
    "        CLAGN_210919_ref.loc[index,'mass_Ref']=CLAGN_210919_ref.loc[index,'Ref..1']\n",
    "        \n",
    "        "
   ]
  },
  {
   "cell_type": "markdown",
   "metadata": {
    "ExecuteTime": {
     "end_time": "2021-09-24T07:06:08.428284Z",
     "start_time": "2021-09-24T07:06:08.382387Z"
    }
   },
   "source": [
    "CLAGN_210919_ref.to_csv('/Users/brettlv/Downloads/CLAGNref.csv',index=False)"
   ]
  },
  {
   "cell_type": "code",
   "execution_count": null,
   "metadata": {},
   "outputs": [],
   "source": []
  },
  {
   "cell_type": "markdown",
   "metadata": {},
   "source": [
    "# CLAGNref_manual"
   ]
  },
  {
   "cell_type": "code",
   "execution_count": 284,
   "metadata": {
    "ExecuteTime": {
     "end_time": "2021-09-24T14:15:59.549476Z",
     "start_time": "2021-09-24T14:15:59.487992Z"
    }
   },
   "outputs": [],
   "source": [
    "CLAGNref_manual=pd.read_excel('/Users/brettlv/blog/IHEP_sync/data/data_clagn/CLAGN_list210919.xlsx',sheet_name='Sheet1')"
   ]
  },
  {
   "cell_type": "code",
   "execution_count": 285,
   "metadata": {
    "ExecuteTime": {
     "end_time": "2021-09-24T14:16:00.254235Z",
     "start_time": "2021-09-24T14:16:00.250230Z"
    }
   },
   "outputs": [],
   "source": [
    "CLAGNref_manual=CLAGNref_manual[['Name', 'Ref.', 'Type_Ref', 'Ref..1', 'mass_Ref']]"
   ]
  },
  {
   "cell_type": "markdown",
   "metadata": {
    "ExecuteTime": {
     "end_time": "2021-09-24T14:14:13.279791Z",
     "start_time": "2021-09-24T14:14:13.262317Z"
    }
   },
   "source": [
    "CLAGNref_manual=CLAGNref_manual[CLAGNref_manual['mass_Ref'].notnull()]"
   ]
  },
  {
   "cell_type": "code",
   "execution_count": 286,
   "metadata": {
    "ExecuteTime": {
     "end_time": "2021-09-24T14:16:02.829529Z",
     "start_time": "2021-09-24T14:16:02.826532Z"
    }
   },
   "outputs": [],
   "source": [
    "CLAGNref_manual=CLAGNref_manual.reset_index(drop=True)"
   ]
  },
  {
   "cell_type": "code",
   "execution_count": 287,
   "metadata": {
    "ExecuteTime": {
     "end_time": "2021-09-24T14:16:03.367305Z",
     "start_time": "2021-09-24T14:16:03.362822Z"
    }
   },
   "outputs": [
    {
     "data": {
      "text/plain": [
       "Index(['Name', 'Ref.', 'Type_Ref', 'Ref..1', 'mass_Ref'], dtype='object')"
      ]
     },
     "execution_count": 287,
     "metadata": {},
     "output_type": "execute_result"
    }
   ],
   "source": [
    "CLAGNref_manual.columns"
   ]
  },
  {
   "cell_type": "code",
   "execution_count": 288,
   "metadata": {
    "ExecuteTime": {
     "end_time": "2021-09-24T14:16:04.342062Z",
     "start_time": "2021-09-24T14:16:04.337005Z"
    }
   },
   "outputs": [],
   "source": [
    "CLAGNref_manual_bibcodes=[]\n",
    "for i in CLAGNref_manual['Type_Ref']:\n",
    "    if i not in bibcodes and i not in arxiv_bibcodes:\n",
    "        if i not in CLAGNref_manual_bibcodes and i is not np.nan:\n",
    "            CLAGNref_manual_bibcodes.append(i)\n",
    "            \n",
    "for i in CLAGNref_manual['mass_Ref']:\n",
    "    if i not in bibcodes and i not in arxiv_bibcodes:\n",
    "        if i not in CLAGNref_manual_bibcodes and i is not np.nan:\n",
    "            CLAGNref_manual_bibcodes.append(i)            "
   ]
  },
  {
   "cell_type": "code",
   "execution_count": 289,
   "metadata": {
    "ExecuteTime": {
     "end_time": "2021-09-24T14:16:06.426774Z",
     "start_time": "2021-09-24T14:16:06.422150Z"
    }
   },
   "outputs": [
    {
     "data": {
      "text/plain": [
       "['2012MNRAS.421.1803M',\n",
       " '2021MNRAS.503.2583S',\n",
       " '2018A&A...619A.168K',\n",
       " '2020A&A...638A..91K',\n",
       " '2003MNRAS.342..422M',\n",
       " '2005MNRAS.356..295G',\n",
       " '2005A&A...442..185B',\n",
       " '2008A&A...483..137B',\n",
       " '2020MNRAS.498.3985Y',\n",
       " '2017ApJ...846L...7S',\n",
       " '2019ApJ...883L..44G',\n",
       " '2014A&A...563A..95D',\n",
       " '2014MNRAS.443.2862A',\n",
       " '2017MNRAS.466.1777P',\n",
       " '2018MNRAS.481.4542S',\n",
       " '2020MNRAS.496.3412M',\n",
       " '2001ApJ...554..240E']"
      ]
     },
     "execution_count": 289,
     "metadata": {},
     "output_type": "execute_result"
    }
   ],
   "source": [
    "CLAGNref_manual_bibcodes"
   ]
  },
  {
   "cell_type": "code",
   "execution_count": 235,
   "metadata": {
    "ExecuteTime": {
     "end_time": "2021-09-24T07:52:28.166379Z",
     "start_time": "2021-09-24T07:52:04.981418Z"
    },
    "code_folding": [
     1
    ]
   },
   "outputs": [],
   "source": [
    "bibtexs_man=ads.ExportQuery(CLAGNref_manual_bibcodes, format=\"bibtex\").execute()\n",
    "with open('/Users/brettlv/Downloads/ref_man.bib','w+') as f:\n",
    "    f.write(bibtexs_man)"
   ]
  },
  {
   "cell_type": "markdown",
   "metadata": {},
   "source": [
    "## CLAGNref_all_bibcodes"
   ]
  },
  {
   "cell_type": "code",
   "execution_count": 290,
   "metadata": {
    "ExecuteTime": {
     "end_time": "2021-09-24T14:16:11.295464Z",
     "start_time": "2021-09-24T14:16:11.290975Z"
    }
   },
   "outputs": [],
   "source": [
    "CLAGNref_all_bibcodes=[]\n",
    "for i in CLAGNref_manual['Type_Ref']:\n",
    "    if i not in CLAGNref_all_bibcodes and i is not np.nan:\n",
    "        CLAGNref_all_bibcodes.append(i)\n",
    "            \n",
    "for i in CLAGNref_manual['mass_Ref']:\n",
    "    if i not in CLAGNref_all_bibcodes and i is not np.nan:\n",
    "        CLAGNref_all_bibcodes.append(i)            "
   ]
  },
  {
   "cell_type": "code",
   "execution_count": 283,
   "metadata": {
    "ExecuteTime": {
     "end_time": "2021-09-24T14:14:55.752257Z",
     "start_time": "2021-09-24T14:14:55.747909Z"
    }
   },
   "outputs": [
    {
     "data": {
      "text/plain": [
       "64"
      ]
     },
     "execution_count": 283,
     "metadata": {},
     "output_type": "execute_result"
    }
   ],
   "source": [
    "len(CLAGNref_all_bibcodes)"
   ]
  },
  {
   "cell_type": "code",
   "execution_count": 255,
   "metadata": {
    "ExecuteTime": {
     "end_time": "2021-09-24T13:45:02.305556Z",
     "start_time": "2021-09-24T13:45:02.298503Z"
    }
   },
   "outputs": [
    {
     "data": {
      "text/plain": [
       "array([ 1,  2,  3,  4,  5,  6,  7,  8,  9, 10, 11, 12, 13, 14, 15, 16, 17,\n",
       "       18, 19, 20, 21, 22, 23, 24, 25, 26, 27, 28, 29, 30, 31, 32, 33, 34,\n",
       "       35, 36, 37, 38, 39, 40, 41, 42, 43, 44, 45, 46, 47, 48, 49, 50, 51,\n",
       "       52, 53, 54, 55, 56, 57, 58, 59, 60, 61, 62, 63, 64, 65, 66, 67, 68])"
      ]
     },
     "execution_count": 255,
     "metadata": {},
     "output_type": "execute_result"
    }
   ],
   "source": [
    "np.arange(68)+1"
   ]
  },
  {
   "cell_type": "code",
   "execution_count": 256,
   "metadata": {
    "ExecuteTime": {
     "end_time": "2021-09-24T13:45:28.782667Z",
     "start_time": "2021-09-24T13:45:28.775372Z"
    }
   },
   "outputs": [],
   "source": []
  },
  {
   "cell_type": "code",
   "execution_count": null,
   "metadata": {},
   "outputs": [],
   "source": []
  },
  {
   "cell_type": "markdown",
   "metadata": {},
   "source": [
    "## ref"
   ]
  },
  {
   "cell_type": "code",
   "execution_count": 69,
   "metadata": {
    "ExecuteTime": {
     "end_time": "2021-09-24T02:08:06.537400Z",
     "start_time": "2021-09-24T02:08:06.522425Z"
    }
   },
   "outputs": [],
   "source": [
    "CLtype_ref=[]\n",
    "for i in CLAGN_210919['Ref.']:\n",
    "    if i not in CLtype_ref:\n",
    "        CLtype_ref.append(i)"
   ]
  },
  {
   "cell_type": "code",
   "execution_count": 70,
   "metadata": {
    "ExecuteTime": {
     "end_time": "2021-09-24T02:08:07.174286Z",
     "start_time": "2021-09-24T02:08:07.167900Z"
    }
   },
   "outputs": [
    {
     "data": {
      "text/plain": [
       "['arxiv:1903.11084',\n",
       " 'arxiv:1201.2169',\n",
       " 'arxiv:1509.03634',\n",
       " 'arxiv:1810.00087',\n",
       " 'arxiv:1509.08393',\n",
       " 'arxiv:1805.06920',\n",
       " 'arxiv:1706.09901',\n",
       " '2020MNRAS.497..192H',\n",
       " 'arxiv:1603.00035',\n",
       " 'arxiv:2102.07351']"
      ]
     },
     "execution_count": 70,
     "metadata": {},
     "output_type": "execute_result"
    }
   ],
   "source": [
    "CLtype_ref[:10]"
   ]
  },
  {
   "cell_type": "code",
   "execution_count": 71,
   "metadata": {
    "ExecuteTime": {
     "end_time": "2021-09-24T02:08:11.703704Z",
     "start_time": "2021-09-24T02:08:11.699781Z"
    }
   },
   "outputs": [],
   "source": [
    "mass_ref=[]\n",
    "for i in CLAGN_210919['Ref..1']:\n",
    "    if i not in CLtype_ref and i is not np.nan:\n",
    "        mass_ref.append(i)"
   ]
  },
  {
   "cell_type": "markdown",
   "metadata": {
    "ExecuteTime": {
     "end_time": "2021-09-24T01:13:28.279743Z",
     "start_time": "2021-09-24T01:13:28.274070Z"
    }
   },
   "source": [
    "mass_ref"
   ]
  },
  {
   "cell_type": "code",
   "execution_count": 20,
   "metadata": {
    "ExecuteTime": {
     "end_time": "2021-09-24T01:14:38.113446Z",
     "start_time": "2021-09-24T01:14:38.108759Z"
    }
   },
   "outputs": [
    {
     "data": {
      "text/plain": [
       "(42, 51)"
      ]
     },
     "execution_count": 20,
     "metadata": {},
     "output_type": "execute_result"
    }
   ],
   "source": [
    "len(CLtype_ref),len(mass_ref)"
   ]
  },
  {
   "cell_type": "markdown",
   "metadata": {},
   "source": [
    "## bibcodes arxiv_list"
   ]
  },
  {
   "cell_type": "code",
   "execution_count": 129,
   "metadata": {
    "ExecuteTime": {
     "end_time": "2021-09-24T05:38:51.642579Z",
     "start_time": "2021-09-24T05:38:51.635119Z"
    }
   },
   "outputs": [],
   "source": [
    "bibcodes=[]\n",
    "arxiv_list=[]\n",
    "\n",
    "for i in CLtype_ref:\n",
    "    if i.startswith('arxiv:'):\n",
    "        id_list=i[6:]\n",
    "        if id_list not in arxiv_list:\n",
    "            arxiv_list.append(id_list)      \n",
    "        #paper=arxiv.Search(query = \"astro-ph\",id_list=id_list)\n",
    "    else:\n",
    "        if i not in bibcodes:\n",
    "            bibcodes.append(i)    \n",
    "                \n",
    "for i in mass_ref:\n",
    "    if i.startswith('arxiv:'):\n",
    "        id_list=i[6:]\n",
    "        if id_list not in arxiv_list:\n",
    "            arxiv_list.append(id_list)      \n",
    "        #paper=arxiv.Search(query = \"astro-ph\",id_list=id_list)\n",
    "    else:\n",
    "        if i not in bibcodes:\n",
    "            bibcodes.append(i)         "
   ]
  },
  {
   "cell_type": "code",
   "execution_count": 77,
   "metadata": {
    "ExecuteTime": {
     "end_time": "2021-09-24T02:32:04.026876Z",
     "start_time": "2021-09-24T02:32:04.016782Z"
    }
   },
   "outputs": [
    {
     "data": {
      "text/plain": [
       "['2020MNRAS.497..192H',\n",
       " '2011MNRAS.410.1877S',\n",
       " '2013ApJ...773...90G',\n",
       " '2017MNRAS.468L..97O',\n",
       " '2002ApJ...579..530W',\n",
       " '2005ApJ...632..799P',\n",
       " '2009ApJ...690.1322W',\n",
       " '2017ApJ...850...74K',\n",
       " '2014MNRAS.445.3073P']"
      ]
     },
     "execution_count": 77,
     "metadata": {},
     "output_type": "execute_result"
    }
   ],
   "source": [
    "bibcodes"
   ]
  },
  {
   "cell_type": "code",
   "execution_count": 78,
   "metadata": {
    "ExecuteTime": {
     "end_time": "2021-09-24T02:32:15.855544Z",
     "start_time": "2021-09-24T02:32:15.850521Z"
    }
   },
   "outputs": [
    {
     "data": {
      "text/plain": [
       "9"
      ]
     },
     "execution_count": 78,
     "metadata": {},
     "output_type": "execute_result"
    }
   ],
   "source": [
    "len(bibcodes)"
   ]
  },
  {
   "cell_type": "markdown",
   "metadata": {
    "ExecuteTime": {
     "end_time": "2021-09-24T02:32:41.127573Z",
     "start_time": "2021-09-24T02:32:22.127001Z"
    }
   },
   "source": [
    "#bibcodes = ['1994AAS...185.7506Z', '2001A&A...366...62A']\n",
    "#articles = [list(ads.SearchQuery(bibcode=bibcode))[0] for bibcode in bibcodes]"
   ]
  },
  {
   "cell_type": "markdown",
   "metadata": {},
   "source": [
    "## write_bibcode_bibtex"
   ]
  },
  {
   "cell_type": "code",
   "execution_count": 146,
   "metadata": {
    "ExecuteTime": {
     "end_time": "2021-09-24T05:54:45.152164Z",
     "start_time": "2021-09-24T05:54:25.744447Z"
    }
   },
   "outputs": [],
   "source": [
    "with open('/Users/brettlv/Downloads/ref.bib','w+') as f:\n",
    "    for i in bibcodes:\n",
    "        bibtex=ads.ExportQuery(i, format=\"bibtex\").execute()\n",
    "        f.write(bibtex)\n",
    "    #print(articles[0].bibtex)"
   ]
  },
  {
   "cell_type": "code",
   "execution_count": 147,
   "metadata": {
    "ExecuteTime": {
     "end_time": "2021-09-24T05:55:20.842524Z",
     "start_time": "2021-09-24T05:55:20.838162Z"
    }
   },
   "outputs": [
    {
     "data": {
      "text/plain": [
       "60"
      ]
     },
     "execution_count": 147,
     "metadata": {},
     "output_type": "execute_result"
    }
   ],
   "source": [
    "len(arxiv_list)"
   ]
  },
  {
   "cell_type": "markdown",
   "metadata": {
    "ExecuteTime": {
     "end_time": "2021-09-24T05:58:34.578685Z",
     "start_time": "2021-09-24T05:58:34.571857Z"
    }
   },
   "source": [
    "arxiv_list"
   ]
  },
  {
   "cell_type": "code",
   "execution_count": null,
   "metadata": {},
   "outputs": [],
   "source": []
  },
  {
   "cell_type": "markdown",
   "metadata": {},
   "source": [
    "## append arxiv_id_title"
   ]
  },
  {
   "cell_type": "markdown",
   "metadata": {
    "ExecuteTime": {
     "end_time": "2021-09-24T05:59:03.852363Z",
     "start_time": "2021-09-24T05:59:03.841950Z"
    }
   },
   "source": [
    "title_list=[]\n",
    "title_arxiv=[]"
   ]
  },
  {
   "cell_type": "code",
   "execution_count": 228,
   "metadata": {
    "ExecuteTime": {
     "end_time": "2021-09-24T07:29:28.287671Z",
     "start_time": "2021-09-24T07:18:47.108160Z"
    }
   },
   "outputs": [
    {
     "name": "stdout",
     "output_type": "stream",
     "text": [
      "Changing look: from Compton-thick to Compton-thin, or the re-birth of fossil AGN\n",
      "On the transmission- to reprocessing-dominated spectral state transitions in Seyfert 2 galaxies\n",
      "A search for changing-look AGN in the Grossan catalog\n",
      "NGC 3065: A Certified LINER With Broad, Variable Balmer Lines\n"
     ]
    }
   ],
   "source": [
    "for id_list in arxiv_list:\n",
    "    try:\n",
    "        if id_list.find('.')<0:\n",
    "            id_list='astro-ph/'+id_list\n",
    "            \n",
    "        search = arxiv.Search(id_list=[id_list])\n",
    "        paper = next(search.results())\n",
    "        title=paper.title  \n",
    "        if title not in title_list:\n",
    "            print(title)\n",
    "            title_list.append(title) \n",
    "            title_arxiv.append(id_list)           \n",
    "    except Exception: \n",
    "        print(id_list)\n",
    "        continue\n",
    "#print(len(title_list))        "
   ]
  },
  {
   "cell_type": "code",
   "execution_count": 174,
   "metadata": {
    "ExecuteTime": {
     "end_time": "2021-09-24T06:24:08.539865Z",
     "start_time": "2021-09-24T06:24:08.535340Z"
    }
   },
   "outputs": [
    {
     "data": {
      "text/plain": [
       "56"
      ]
     },
     "execution_count": 174,
     "metadata": {},
     "output_type": "execute_result"
    }
   ],
   "source": [
    "len(title_list)"
   ]
  },
  {
   "cell_type": "code",
   "execution_count": 168,
   "metadata": {
    "ExecuteTime": {
     "end_time": "2021-09-24T06:14:45.524617Z",
     "start_time": "2021-09-24T06:14:45.510850Z"
    },
    "code_folding": []
   },
   "outputs": [
    {
     "name": "stdout",
     "output_type": "stream",
     "text": [
      "1ES 1927+654: An AGN Caught Changing Look on a Timescale of Months 1903.11084\n",
      "NGC454: unveiling a new \"changing look\" AGN 1201.2169\n",
      "Towards an Understanding of Changing-Look Quasars: An Archival Spectroscopic Search in SDSS 1509.03634\n",
      "Changing-Look Quasar Candidates: First Results from Follow-up Spectroscopy of Highly Optically Variable Quasars 1810.00087\n",
      "A Systematic Search for Changing-Look Quasars in SDSS 1509.08393\n",
      "A Mid-IR Selected Changing-Look Quasar and Physical Scenarios for Abrupt AGN Fading 1805.06920\n",
      "The WISE AGN Catalog 1706.09901\n",
      "Broad Hbeta Emission-Line Variability in a Sample of 102 Local Active Galaxies 1603.00035\n",
      "A Systematic Survey for z < 0.04 Changing-Look AGNs 2102.07351\n",
      "Changing-look Seyfert galaxies with optical linear polarization measurements 1909.02801\n",
      "A changing-look AGN to be probed by X-ray polarimetry 1805.01485\n",
      "Broad-line region structure and line profile variations in the changing look AGN HE1136-2304 1808.07331\n",
      "IC 751: a new changing-look AGN discovered by NuSTAR 1602.00702\n",
      "Optical and X-ray discovery of the changing-look AGN IRAS23226-3843 showing extremely broad and double-peaked Balmer profiles 2004.01711\n",
      "Spectropolarimetry of the changing-look active galactic nucleus Mrk 1018 2011.12634\n",
      "The Lick AGN Monitoring Project 2011: Spectroscopic Campaign and Emission-Line Light Curves 1503.01146\n",
      "Rapid Luminosity Decline and Subsequent Reformation of the Innermost Dust Distribution in the Changing-look AGN Mrk 590 1904.08946\n",
      "SkyMapper colours of Seyfert galaxies and Changing-Look AGN 2009.04688\n",
      "Revisiting old (AGN) friends -- what's changed in their spectral looks 2001.04681\n",
      "The post-maximum behaviour of the changing-look Seyfert galaxy NGC 1566 2006.00001\n",
      "Multi-wavelenth monitoring of the changing-look AGN NGC 2617 during state changes 1711.02631\n",
      "Reverberation Mapping of Changing-look Active Galactic Nucleus NGC 3516 2012.15572\n",
      "Broadband X-Ray Observations of the 2018 Outburst of the Changing-Look Active Galactic Nucleus NGC 1566 2107.11127\n",
      "New changing look case in NGC 1566 1811.06926\n",
      "Probing Nuclear and Circumnuclear Properties of NGC 6300 using X-ray Observations 2008.08033\n",
      "X-ray spectral variability in PG1535+547: the changing-look of a 'soft X-ray weak' AGN 0802.2936\n",
      "Host Galaxy Properties of Changing-look AGN Revealed in the MaNGA Survey 2008.11336\n",
      "Mid-infrared variability of changing-look AGN 1707.02686\n",
      "A New Class of Changing-Look LINERs 1904.10973\n",
      "A systematic search for changing-look quasars in SDSS-II using difference spectra 2104.14225\n",
      "Discovery of A Mg II Changing-look AGN and its Implications for a Unification Sequence of Changing-look AGNs 1908.00072\n",
      "Discovery of 21 New Changing-look AGNs in Northern Sky 1711.08122\n",
      "The first high-redshift changing-look quasars 1912.05310\n",
      "Initial results from a systematic search for changing-look active galactic nuclei selected via mid-infrared variability 1905.02904\n",
      "Understanding extreme quasar optical variability with CRTS: II. Changing-state quasars 1905.02262\n",
      "PS1-13cbe: The Rapid \"Turn on\" of a Seyfert 1 1811.03694\n",
      "Two New \"Turn-off\" Changing-look Active Galactic nuclei and Implication on \"Partially Obscured\" AGNs 1910.02392\n",
      "An X-ray Luminosity-dependent \"Changing-look\" Phenomenon in UGC 3223 2007.14547\n",
      "Magnetic flux inversion in a peculiar changing look AGN 2011.01954\n",
      "Simultaneous XMM-\\textit{Newton} and HST-COS observation of 1H0419-577: II. Broadband spectral modeling of a variable Seyfert galaxy 1401.5614\n",
      "The Analogous Structure of Accretion Flows in Supermassive and Stellar Mass Black Holes: New Insights from Faded Changing-Look Quasars 1903.02553\n",
      "Black hole spin and size of the X-ray emitting region(s) in the Seyfert 1.5 galaxy ESO 362-G18 1407.1238\n",
      "Correlated X-ray/UV/optical variability and the nature of accretion disc in the bare Seyfert 1 galaxy Fairall~9 1612.01369\n",
      "Explaining changing-look AGN with state transition triggered by rapid mass accretion rate drop 1805.07873\n",
      "Exploring the spectral variability of the Seyfert 1.5 galaxy Markarian 530 with Suzaku 1805.06742\n",
      "A close look at the well-known Seyfert galaxy: extended emission filaments in Mrk6 1809.05950\n",
      "Line profile and continuum variability in the very broad-line Seyfert galaxy Mrk 926 1007.3595\n",
      "Short-Timescale monitoring of the X-ray, UV and broad double-peak emission line of the nucleus of NGC 1097 1411.4682\n",
      "Tracing the AGN/X-ray Binary Analogy with Light Curves of Individual Changing-Look AGN 1909.04676\n",
      "The lively accretion disk in NGC 2992. I. Transient iron K emission lines in the high flux state 2006.05280\n",
      "X-ray time lags in AGN: inverse-Compton scattering and spherical corona model 1905.03683\n",
      "A NICER Look at Strong X-ray Obscuration in the Seyfert-2 Galaxy NGC 4388 1908.08023\n",
      "X-ray absorption variability in NGC 4507 1212.4151\n",
      "Optical and near-infrared IFU spectroscopy of the nuclear region of the AGN-starburst galaxy NGC 7582 1711.04794\n",
      "A candidate sub-parsec binary black hole in the Seyfert galaxy NGC 7674 1709.06258\n",
      "The Landscape of Galaxies Harboring Changing-Look Active Galactic Nuclei in the Local Universe 2010.10527\n"
     ]
    }
   ],
   "source": [
    "for i,j in zip(title_list,title_arxiv):\n",
    "    print(i,j)"
   ]
  },
  {
   "cell_type": "code",
   "execution_count": 178,
   "metadata": {
    "ExecuteTime": {
     "end_time": "2021-09-24T06:29:30.941458Z",
     "start_time": "2021-09-24T06:29:30.936238Z"
    }
   },
   "outputs": [
    {
     "data": {
      "text/plain": [
       "56"
      ]
     },
     "execution_count": 178,
     "metadata": {},
     "output_type": "execute_result"
    }
   ],
   "source": [
    "len(title_list)"
   ]
  },
  {
   "cell_type": "markdown",
   "metadata": {
    "ExecuteTime": {
     "end_time": "2021-09-24T06:05:23.955386Z",
     "start_time": "2021-09-24T06:05:23.951785Z"
    }
   },
   "source": [
    "arxiv_bibcodes=[]\n",
    "title_arxiv_bibcodes=[]"
   ]
  },
  {
   "cell_type": "code",
   "execution_count": 176,
   "metadata": {
    "ExecuteTime": {
     "end_time": "2021-09-24T06:26:26.855371Z",
     "start_time": "2021-09-24T06:24:26.169769Z"
    }
   },
   "outputs": [
    {
     "name": "stdout",
     "output_type": "stream",
     "text": [
      "Black hole spin and size of the X-ray emitting region(s) in the Seyfert 1.5 galaxy ESO 362-G18\n"
     ]
    }
   ],
   "source": [
    "for title in title_list:  \n",
    "    try:\n",
    "        ads_papers = list(ads.SearchQuery(title=title))\n",
    "        for j in ads_papers:\n",
    "            if j.bibcode not in arxiv_bibcodes: \n",
    "                arxiv_bibcodes.append(j.bibcode)\n",
    "                title_arxiv_bibcodes.append(title) \n",
    "    except Exception: \n",
    "        print(title)\n",
    "        continue                "
   ]
  },
  {
   "cell_type": "code",
   "execution_count": 180,
   "metadata": {
    "ExecuteTime": {
     "end_time": "2021-09-24T06:29:51.712515Z",
     "start_time": "2021-09-24T06:29:51.708944Z"
    }
   },
   "outputs": [
    {
     "name": "stdout",
     "output_type": "stream",
     "text": [
      "50\n"
     ]
    }
   ],
   "source": [
    "print(len(arxiv_bibcodes))"
   ]
  },
  {
   "cell_type": "code",
   "execution_count": 182,
   "metadata": {
    "ExecuteTime": {
     "end_time": "2021-09-24T06:30:13.772501Z",
     "start_time": "2021-09-24T06:30:13.746038Z"
    }
   },
   "outputs": [
    {
     "name": "stdout",
     "output_type": "stream",
     "text": [
      "0 2019ApJ...883...94T 1ES 1927+654: An AGN Caught Changing Look on a Timescale of Months\n",
      "1 2016ApJ...826..188R Towards an Understanding of Changing-Look Quasars: An Archival Spectroscopic Search in SDSS\n",
      "2 2019ApJ...874....8M Changing-Look Quasar Candidates: First Results from Follow-up Spectroscopy of Highly Optically Variable Quasars\n",
      "3 2016MNRAS.457..389M A Systematic Search for Changing-Look Quasars in SDSS\n",
      "4 2015toru.conf..E17M A Systematic Search for Changing-Look Quasars in SDSS\n",
      "5 2021A&A...650A..33P A Systematic Search for Changing-Look Quasars in SDSS\n",
      "6 2018ApJ...864...27S A Mid-IR Selected Changing-Look Quasar and Physical Scenarios for Abrupt AGN Fading\n",
      "7 2018ApJS..234...23A The WISE AGN Catalog\n",
      "8 2017MNRAS.468.3042M The WISE AGN Catalog\n",
      "9 2018yCat..22340023A The WISE AGN Catalog\n",
      "10 2016ApJ...821...33R Broad Hbeta Emission-Line Variability in a Sample of 102 Local Active Galaxies\n",
      "11 2019sf2a.conf..509M Changing-look Seyfert galaxies with optical linear polarization measurements\n",
      "12 2018Galax...6...52A A changing-look AGN to be probed by X-ray polarimetry\n",
      "13 2016ApJ...820....5R IC 751: a new changing-look AGN discovered by NuSTAR\n",
      "14 2020A&A...644L...5H Spectropolarimetry of the changing-look active galactic nucleus Mrk 1018\n",
      "15 2015ApJS..217...26B The Lick AGN Monitoring Project 2011: Spectroscopic Campaign and Emission-Line Light Curves\n",
      "16 2020MNRAS.491.4615K Rapid Luminosity Decline and Subsequent Reformation of the Innermost Dust Distribution in the Changing-look AGN Mrk 590\n",
      "17 2020MNRAS.499.1005W SkyMapper colours of Seyfert galaxies and Changing-Look AGN\n",
      "18 2021IAUS..356..122W Revisiting old (AGN) friends -- what's changed in their spectral looks\n",
      "19 2020MNRAS.498..718O The post-maximum behaviour of the changing-look Seyfert galaxy NGC 1566\n",
      "20 2017OAP....30..117O Multi-wavelenth monitoring of the changing-look AGN NGC 2617 during state changes\n",
      "21 2021ApJ...909...18F Reverberation Mapping of Changing-look Active Galactic Nucleus NGC 3516\n",
      "22 2021MNRAS.507..687J Broadband X-Ray Observations of the 2018 Outburst of the Changing-Look Active Galactic Nucleus NGC 1566\n",
      "23 2019MNRAS.483..558O New changing look case in NGC 1566\n",
      "24 2018ATel11915....1O New changing look case in NGC 1566\n",
      "25 2020MNRAS.499.5396J Probing Nuclear and Circumnuclear Properties of NGC 6300 using X-ray Observations\n",
      "26 2019ApJ...883...31F A New Class of Changing-Look LINERs\n",
      "27 2018ApJ...862..109Y Discovery of 21 New Changing-look AGNs in Northern Sky\n",
      "28 2020MNRAS.498.2339R The first high-redshift changing-look quasars\n",
      "29 2020ApJ...889...46S Initial results from a systematic search for changing-look active galactic nuclei selected via mid-infrared variability\n",
      "30 2020MNRAS.491.4925G Understanding extreme quasar optical variability with CRTS: II. Changing-state quasars\n",
      "31 2018arXiv181103694K PS1-13cbe: The Rapid \"Turn on\" of a Seyfert 1\n",
      "32 2019MNRAS.487.4057K PS1-13cbe: The Rapid \"Turn on\" of a Seyfert 1\n",
      "33 2019ApJ...887...15W Two New \"Turn-off\" Changing-look Active Galactic nuclei and Implication on \"Partially Obscured\" AGNs\n",
      "34 2020ApJ...901....1W An X-ray Luminosity-dependent \"Changing-look\" Phenomenon in UGC 3223\n",
      "35 2021MNRAS.502L..50S Magnetic flux inversion in a peculiar changing look AGN\n",
      "36 2019ApJ...883...76R The Analogous Structure of Accretion Flows in Supermassive and Stellar Mass Black Holes: New Insights from Faded Changing-Look Quasars\n",
      "37 2018MNRAS.480.3898N Explaining changing-look AGN with state transition triggered by rapid mass accretion rate drop\n",
      "38 2018MNRAS.478.4214E Exploring the spectral variability of the Seyfert 1.5 galaxy Markarian 530 with Suzaku\n",
      "39 2010A&A...522A..36K Line profile and continuum variability in the very broad-line Seyfert galaxy Mrk 926\n",
      "40 2015ApJ...800...63S Short-Timescale monitoring of the X-ray, UV and broad double-peak emission line of the nucleus of NGC 1097\n",
      "41 2019arXiv190904676R Tracing the AGN/X-ray Binary Analogy with Light Curves of Individual Changing-Look AGN\n",
      "42 2019MNRAS.487..667C X-ray time lags in AGN: inverse-Compton scattering and spherical corona model\n",
      "43 2019ApJ...884..106M A NICER Look at Strong X-ray Obscuration in the Seyfert-2 Galaxy NGC 4388\n",
      "44 2013MNRAS.429.2581M X-ray absorption variability in NGC 4507\n",
      "45 2011xru..conf..100M X-ray absorption variability in NGC 4507\n",
      "46 2011AAS...21822816M X-ray absorption variability in NGC 4507\n",
      "47 2018MNRAS.473.5334R Optical and near-infrared IFU spectroscopy of the nuclear region of the AGN-starburst galaxy NGC 7582\n",
      "48 2017NatAs...1..727K A candidate sub-parsec binary black hole in the Seyfert galaxy NGC 7674\n",
      "49 2021ApJ...907L..21D The Landscape of Galaxies Harboring Changing-Look Active Galactic Nuclei in the Local Universe\n"
     ]
    }
   ],
   "source": [
    "for index,(i,j) in enumerate(zip(arxiv_bibcodes,title_arxiv_bibcodes)):\n",
    "    print(index,i,j)"
   ]
  },
  {
   "cell_type": "code",
   "execution_count": 183,
   "metadata": {
    "ExecuteTime": {
     "end_time": "2021-09-24T06:30:25.715328Z",
     "start_time": "2021-09-24T06:30:25.708342Z"
    }
   },
   "outputs": [],
   "source": []
  },
  {
   "cell_type": "markdown",
   "metadata": {},
   "source": [
    "## write_arxiv_bibtex"
   ]
  },
  {
   "cell_type": "code",
   "execution_count": 184,
   "metadata": {
    "ExecuteTime": {
     "end_time": "2021-09-24T06:31:37.780105Z",
     "start_time": "2021-09-24T06:31:35.680838Z"
    }
   },
   "outputs": [],
   "source": [
    "bibtexs=ads.ExportQuery(arxiv_bibcodes, format=\"bibtex\").execute()\n",
    "\n",
    "with open('/Users/brettlv/Downloads/ref_arxiv.bib','w+') as f:\n",
    "    f.write(bibtexs)"
   ]
  },
  {
   "cell_type": "code",
   "execution_count": 187,
   "metadata": {
    "ExecuteTime": {
     "end_time": "2021-09-24T06:31:52.487738Z",
     "start_time": "2021-09-24T06:31:52.479979Z"
    }
   },
   "outputs": [
    {
     "data": {
      "text/plain": [
       "'@ARTICLE{2021MNRAS.507..687J,\\n       author = {{Jana}, Arghajit and {Kumari}, Neeraj and {Nandi}, Prantik and {Naik}, Sachindra and {Chatterjee}, Arka and {Jaisawal}, Gaurava K. and {Hayasaki}, Kimitake and {Ricci}, Claudio},\\n        title = \"{Broad-band X-ray observations of the 2018 outburst of the changing-look active galactic nucleus NGC 1566}\",\\n      journal = {\\\\mnras},\\n     keywords = {galaxies: active, galaxies: Seyfert, X-rays: galaxies, X-rays: individual: NGC 1566, Astrophysics - High Energy Astrophysical Phenomena, Astrophysics - Astrophysics of Galaxies},\\n         year = 2021,\\n        month = oct,\\n       volume = {507},\\n       number = {1},\\n        pages = {687-703},\\n          doi = {10.1093/mnras/stab2155},\\narchivePrefix = {arXiv},\\n       eprint = {2107.11127},\\n primaryClass = {astro-ph.HE},\\n       adsurl = {https://ui.adsabs.harvard.edu/abs/2021MNRAS.507..687J},\\n      adsnote = {Provided by the SAO/NASA Astrophysics Data System}\\n}\\n\\n@ARTICLE{2021A&A...650A..33P,\\n       author = {{Potts}, B. and {Villforth}, C.},\\n        title = \"{A systematic search for changing-look quasars in SDSS-II using difference spectra}\",\\n      journal = {\\\\aap},\\n     keywords = {galaxies: active, accretion, accretion disks, Astrophysics - Astrophysics of Galaxies, Astrophysics - Cosmology and Nongalactic Astrophysics, Astrophysics - High Energy Astrophysical Phenomena},\\n         year = 2021,\\n        month = jun,\\n       volume = {650},\\n          eid = {A33},\\n        pages = {A33},\\n          doi = {10.1051/0004-6361/202140597},\\narchivePrefix = {arXiv},\\n       eprint = {2104.14225},\\n primaryClass = {astro-ph.GA},\\n       adsurl = {https://ui.adsabs.harvard.edu/abs/2021A&A...650A..33P},\\n      adsnote = {Provided by the SAO/NASA Astrophysics Data System}\\n}\\n\\n@ARTICLE{2021MNRAS.502L..50S,\\n       author = {{Scepi}, Nicolas and {Begelman}, Mitchell C. and {Dexter}, Jason},\\n        title = \"{Magnetic flux inversion in a peculiar changing look AGN}\",\\n      journal = {\\\\mnras},\\n     keywords = {accretion, accretion discs, magnetic fields, galaxies: active, Astrophysics - High Energy Astrophysical Phenomena},\\n         year = 2021,\\n        month = mar,\\n       volume = {502},\\n       number = {1},\\n        pages = {L50-L54},\\n          doi = {10.1093/mnrasl/slab002},\\narchivePrefix = {arXiv},\\n       eprint = {2011.01954},\\n primaryClass = {astro-ph.HE},\\n       adsurl = {https://ui.adsabs.harvard.edu/abs/2021MNRAS.502L..50S},\\n      adsnote = {Provided by the SAO/NASA Astrophysics Data System}\\n}\\n\\n@ARTICLE{2021ApJ...909...18F,\\n       author = {{Feng}, Hai-Cheng and {Hu}, Chen and {Li}, Sha-Sha and {Liu}, H.~T. and {Bai}, J.~M. and {Xing}, Li-Feng and {Wang}, Wei-Yang and {Yang}, Zi-Xu and {Xiao}, Ming and {Lu}, Kai-Xing},\\n        title = \"{Reverberation Mapping of Changing-look Active Galactic Nucleus NGC 3516}\",\\n      journal = {\\\\apj},\\n     keywords = {Active galaxies, Photometry, Reverberation mapping, Seyfert galaxies, Spectroscopy, Supermassive black holes, 17, 1234, 2019, 1447, 1558, 1663, Astrophysics - Astrophysics of Galaxies},\\n         year = 2021,\\n        month = mar,\\n       volume = {909},\\n       number = {1},\\n          eid = {18},\\n        pages = {18},\\n          doi = {10.3847/1538-4357/abd851},\\narchivePrefix = {arXiv},\\n       eprint = {2012.15572},\\n primaryClass = {astro-ph.GA},\\n       adsurl = {https://ui.adsabs.harvard.edu/abs/2021ApJ...909...18F},\\n      adsnote = {Provided by the SAO/NASA Astrophysics Data System}\\n}\\n\\n@ARTICLE{2021IAUS..356..122W,\\n       author = {{Winkler}, Hartmut},\\n        title = \"{Revisiting old (AGN) friends - what\\'s changed in their spectral looks}\",\\n      journal = {IAU Symposium},\\n     keywords = {galaxies: Seyfert, line: profiles, galaxies: individual (Fairall 9, IC 4329A, Mrk 926), Astrophysics - Astrophysics of Galaxies},\\n         year = 2021,\\n        month = jan,\\n       volume = {356},\\n        pages = {122-126},\\n          doi = {10.1017/S1743921320002719},\\narchivePrefix = {arXiv},\\n       eprint = {2001.04681},\\n primaryClass = {astro-ph.GA},\\n       adsurl = {https://ui.adsabs.harvard.edu/abs/2021IAUS..356..122W},\\n      adsnote = {Provided by the SAO/NASA Astrophysics Data System}\\n}\\n\\n@ARTICLE{2021ApJ...907L..21D,\\n       author = {{Dodd}, Sierra A. and {Law-Smith}, Jamie A.~P. and {Auchettl}, Katie and {Ramirez-Ruiz}, Enrico and {Foley}, Ryan J.},\\n        title = \"{The Landscape of Galaxies Harboring Changing-look Active Galactic Nuclei in the Local Universe}\",\\n      journal = {\\\\apjl},\\n     keywords = {AGN host galaxies, Active galactic nuclei, Galaxy properties, black hole physics, Galaxy evolution, Galaxy nuclei, 2017, 16, 615, 159, 594, 609, Astrophysics - Astrophysics of Galaxies, Astrophysics - High Energy Astrophysical Phenomena},\\n         year = 2021,\\n        month = jan,\\n       volume = {907},\\n       number = {1},\\n          eid = {L21},\\n        pages = {L21},\\n          doi = {10.3847/2041-8213/abd852},\\narchivePrefix = {arXiv},\\n       eprint = {2010.10527},\\n primaryClass = {astro-ph.GA},\\n       adsurl = {https://ui.adsabs.harvard.edu/abs/2021ApJ...907L..21D},\\n      adsnote = {Provided by the SAO/NASA Astrophysics Data System}\\n}\\n\\n@ARTICLE{2020MNRAS.499.5396J,\\n       author = {{Jana}, Arghajit and {Chatterjee}, Arka and {Kumari}, Neeraj and {Nandi}, Prantik and {Naik}, Sachindra and {Patra}, Dusmanta},\\n        title = \"{Probing the nuclear and circumnuclear properties of NGC 6300 using X-ray observations}\",\\n      journal = {\\\\mnras},\\n     keywords = {galaxies: active, galaxies: Seyfert, X-rays: galaxies, X-rays: individual: NGC 6300, Astrophysics - High Energy Astrophysical Phenomena, Astrophysics - Astrophysics of Galaxies},\\n         year = 2020,\\n        month = dec,\\n       volume = {499},\\n       number = {4},\\n        pages = {5396-5409},\\n          doi = {10.1093/mnras/staa2552},\\narchivePrefix = {arXiv},\\n       eprint = {2008.08033},\\n primaryClass = {astro-ph.HE},\\n       adsurl = {https://ui.adsabs.harvard.edu/abs/2020MNRAS.499.5396J},\\n      adsnote = {Provided by the SAO/NASA Astrophysics Data System}\\n}\\n\\n@ARTICLE{2020A&A...644L...5H,\\n       author = {{Hutsem{\\\\\\'e}kers}, D. and {Ag{\\\\\\'\\\\i}s Gonz{\\\\\\'a}lez}, B. and {Marin}, F. and {Sluse}, D.},\\n        title = \"{Spectropolarimetry of the changing-look active galactic nucleus Mrk 1018}\",\\n      journal = {\\\\aap},\\n     keywords = {galaxies: active, galaxies: nuclei, quasars: general, galaxies: Seyfert, quasars: emission lines, Astrophysics - Astrophysics of Galaxies},\\n         year = 2020,\\n        month = dec,\\n       volume = {644},\\n          eid = {L5},\\n        pages = {L5},\\n          doi = {10.1051/0004-6361/202039760},\\narchivePrefix = {arXiv},\\n       eprint = {2011.12634},\\n primaryClass = {astro-ph.GA},\\n       adsurl = {https://ui.adsabs.harvard.edu/abs/2020A&A...644L...5H},\\n      adsnote = {Provided by the SAO/NASA Astrophysics Data System}\\n}\\n\\n@ARTICLE{2020MNRAS.499.1005W,\\n       author = {{Wolf}, Christian and {Golding}, Jacob and {Hon}, Wei Jeat and {Onken}, Christopher A.},\\n        title = \"{SkyMapper colours of Seyfert galaxies and Changing-Look AGN}\",\\n      journal = {\\\\mnras},\\n     keywords = {methods: observational, surveys, galaxies: evolution, galaxies: Seyfert, Astrophysics - Astrophysics of Galaxies, Astrophysics - Instrumentation and Methods for Astrophysics},\\n         year = 2020,\\n        month = nov,\\n       volume = {499},\\n       number = {1},\\n        pages = {1005-1022},\\n          doi = {10.1093/mnras/staa2794},\\narchivePrefix = {arXiv},\\n       eprint = {2009.04688},\\n primaryClass = {astro-ph.GA},\\n       adsurl = {https://ui.adsabs.harvard.edu/abs/2020MNRAS.499.1005W},\\n      adsnote = {Provided by the SAO/NASA Astrophysics Data System}\\n}\\n\\n@ARTICLE{2020MNRAS.498.2339R,\\n       author = {{Ross}, Nicholas P. and {Graham}, Matthew J. and {Calderone}, Giorgio and {Ford}, K.~E. Saavik and {McKernan}, Barry and {Stern}, Daniel},\\n        title = \"{The first high-redshift changing-look quasars}\",\\n      journal = {\\\\mnras},\\n     keywords = {accretion, accretion discs, surveys, quasars: general, quasars: individual (SDSS J120544.7+342252.4, SDSS J163852.9+28270.7.7, SDSS J222818.7 + 220102.9), Astrophysics - Astrophysics of Galaxies},\\n         year = 2020,\\n        month = oct,\\n       volume = {498},\\n       number = {2},\\n        pages = {2339-2353},\\n          doi = {10.1093/mnras/staa2415},\\narchivePrefix = {arXiv},\\n       eprint = {1912.05310},\\n primaryClass = {astro-ph.GA},\\n       adsurl = {https://ui.adsabs.harvard.edu/abs/2020MNRAS.498.2339R},\\n      adsnote = {Provided by the SAO/NASA Astrophysics Data System}\\n}\\n\\n@ARTICLE{2020MNRAS.498..718O,\\n       author = {{Oknyansky}, V.~L. and {Winkler}, H. and {Tsygankov}, S.~S. and {Lipunov}, V.~M. and {Gorbovskoy}, E.~S. and {van Wyk}, F. and {Buckley}, D.~A.~H. and {Jiang}, B.~W. and {Tyurina}, N.~V.},\\n        title = \"{The post-maximum behaviour of the changing-look Seyfert galaxy NGC 1566}\",\\n      journal = {\\\\mnras},\\n     keywords = {dust, extinction, galaxies: active, galaxies: individual: NGC 1566, galaxies: Seyfert, X-rays: galaxies, Astrophysics - Astrophysics of Galaxies, Astrophysics - High Energy Astrophysical Phenomena},\\n         year = 2020,\\n        month = oct,\\n       volume = {498},\\n       number = {1},\\n        pages = {718-727},\\n          doi = {10.1093/mnras/staa1552},\\narchivePrefix = {arXiv},\\n       eprint = {2006.00001},\\n primaryClass = {astro-ph.GA},\\n       adsurl = {https://ui.adsabs.harvard.edu/abs/2020MNRAS.498..718O},\\n      adsnote = {Provided by the SAO/NASA Astrophysics Data System}\\n}\\n\\n@ARTICLE{2020ApJ...901....1W,\\n       author = {{Wang}, J. and {Xu}, D.~W. and {Wei}, J.~Y.},\\n        title = \"{An X-Ray Luminosity-dependent ``Changing-look\\'\\' Phenomenon in UGC 3223}\",\\n      journal = {\\\\apj},\\n     keywords = {Active galactic nuclei, X-ray active galactic nuclei, Seyfert galaxies, 16, 2035, 1447, Astrophysics - Astrophysics of Galaxies, Astrophysics - High Energy Astrophysical Phenomena},\\n         year = 2020,\\n        month = sep,\\n       volume = {901},\\n       number = {1},\\n          eid = {1},\\n        pages = {1},\\n          doi = {10.3847/1538-4357/abaa48},\\narchivePrefix = {arXiv},\\n       eprint = {2007.14547},\\n primaryClass = {astro-ph.GA},\\n       adsurl = {https://ui.adsabs.harvard.edu/abs/2020ApJ...901....1W},\\n      adsnote = {Provided by the SAO/NASA Astrophysics Data System}\\n}\\n\\n@ARTICLE{2020MNRAS.491.4925G,\\n       author = {{Graham}, Matthew J. and {Ross}, Nicholas P. and {Stern}, Daniel and {Drake}, Andrew J. and {McKernan}, Barry and {Ford}, K.~E. Saavik and {Djorgovski}, S.~G. and {Mahabal}, Ashish A. and {Glikman}, Eilat and {Larson}, Steve and {Christensen}, Eric},\\n        title = \"{Understanding extreme quasar optical variability with CRTS - II. Changing-state quasars}\",\\n      journal = {\\\\mnras},\\n     keywords = {methods: data analysis, techniques: photometric, surveys, quasars: general, Astrophysics - Astrophysics of Galaxies},\\n         year = 2020,\\n        month = feb,\\n       volume = {491},\\n       number = {4},\\n        pages = {4925-4948},\\n          doi = {10.1093/mnras/stz3244},\\narchivePrefix = {arXiv},\\n       eprint = {1905.02262},\\n primaryClass = {astro-ph.GA},\\n       adsurl = {https://ui.adsabs.harvard.edu/abs/2020MNRAS.491.4925G},\\n      adsnote = {Provided by the SAO/NASA Astrophysics Data System}\\n}\\n\\n@ARTICLE{2020MNRAS.491.4615K,\\n       author = {{Kokubo}, Mitsuru and {Minezaki}, Takeo},\\n        title = \"{Rapid luminosity decline and subsequent reformation of the innermost dust distribution in the changing-look AGN Mrk 590}\",\\n      journal = {\\\\mnras},\\n     keywords = {accretion, accretion discs, dust, extinction, galaxies: active, quasars: general, quasars: individual (Mrk 590), Astrophysics - Astrophysics of Galaxies, Astrophysics - High Energy Astrophysical Phenomena},\\n         year = 2020,\\n        month = feb,\\n       volume = {491},\\n       number = {4},\\n        pages = {4615-4633},\\n          doi = {10.1093/mnras/stz3397},\\narchivePrefix = {arXiv},\\n       eprint = {1904.08946},\\n primaryClass = {astro-ph.GA},\\n       adsurl = {https://ui.adsabs.harvard.edu/abs/2020MNRAS.491.4615K},\\n      adsnote = {Provided by the SAO/NASA Astrophysics Data System}\\n}\\n\\n@ARTICLE{2020ApJ...889...46S,\\n       author = {{Sheng}, Zhenfeng and {Wang}, Tinggui and {Jiang}, Ning and {Ding}, Jiani and {Cai}, Zheng and {Guo}, Hengxiao and {Sun}, Luming and {Dou}, Liming and {Yang}, Chenwei},\\n        title = \"{Initial Results from a Systematic Search for Changing-look Active Galactic Nuclei Selected via Mid-infrared Variability}\",\\n      journal = {\\\\apj},\\n     keywords = {17, 790, 609, Astrophysics - Astrophysics of Galaxies},\\n         year = 2020,\\n        month = jan,\\n       volume = {889},\\n       number = {1},\\n          eid = {46},\\n        pages = {46},\\n          doi = {10.3847/1538-4357/ab5af9},\\narchivePrefix = {arXiv},\\n       eprint = {1905.02904},\\n primaryClass = {astro-ph.GA},\\n       adsurl = {https://ui.adsabs.harvard.edu/abs/2020ApJ...889...46S},\\n      adsnote = {Provided by the SAO/NASA Astrophysics Data System}\\n}\\n\\n@INPROCEEDINGS{2019sf2a.conf..509M,\\n       author = {{Marin}, F. and {Hutsem{\\\\\\'e}kers}, D. and {Ag{\\\\\\'\\\\i}s Gonz{\\\\\\'a}lez}, B.},\\n        title = \"{Changing-look Seyfert galaxies with optical linear polarization measurements}\",\\n     keywords = {Galaxies: active, galaxies: quasars, galaxies: Seyfert, polarization, Astrophysics - Astrophysics of Galaxies, 85-06, J.2},\\n    booktitle = {SF2A-2019: Proceedings of the Annual meeting of the French Society of Astronomy and Astrophysics},\\n         year = 2019,\\n       editor = {{Di Matteo}, P. and {Creevey}, O. and {Crida}, A. and {Kordopatis}, G. and {Malzac}, J. and {Marquette}, J. -B. and {N\\'Diaye}, M. and {Venot}, O.},\\n        month = dec,\\n        pages = {Di},\\narchivePrefix = {arXiv},\\n       eprint = {1909.02801},\\n primaryClass = {astro-ph.GA},\\n       adsurl = {https://ui.adsabs.harvard.edu/abs/2019sf2a.conf..509M},\\n      adsnote = {Provided by the SAO/NASA Astrophysics Data System}\\n}\\n\\n@ARTICLE{2019ApJ...887...15W,\\n       author = {{Wang}, J. and {Xu}, D.~W. and {Wang}, Y. and {Zhang}, J.~B. and {Zheng}, J. and {Wei}, J.~Y.},\\n        title = \"{Two New {\\\\textquotedblleft}Turn-off{\\\\textquotedblright} Changing-look Active Galactic Nuclei and Implication on {\\\\textquotedblleft}Partially Obscured{\\\\textquotedblright} AGNs}\",\\n      journal = {\\\\apj},\\n     keywords = {Active galactic nuclei, Quasars, Astrophysical masers, 16, 1319, 103, Astrophysics - Astrophysics of Galaxies},\\n         year = 2019,\\n        month = dec,\\n       volume = {887},\\n       number = {1},\\n          eid = {15},\\n        pages = {15},\\n          doi = {10.3847/1538-4357/ab4d90},\\narchivePrefix = {arXiv},\\n       eprint = {1910.02392},\\n primaryClass = {astro-ph.GA},\\n       adsurl = {https://ui.adsabs.harvard.edu/abs/2019ApJ...887...15W},\\n      adsnote = {Provided by the SAO/NASA Astrophysics Data System}\\n}\\n\\n@ARTICLE{2019ApJ...884..106M,\\n       author = {{Miller}, J.~M. and {Kammoun}, E. and {Ludlam}, R.~M. and {Gendreau}, K. and {Arzoumanian}, Z. and {Cackett}, E. and {Tombesi}, F.},\\n        title = \"{A NICER Look at Strong X-Ray Obscuration in the Seyfert-2 Galaxy NGC 4388}\",\\n      journal = {\\\\apj},\\n     keywords = {Black hole physics, X-ray active galactic nuclei, Active galactic nuclei, Accretion, 159, 2035, 16, 14, Astrophysics - High Energy Astrophysical Phenomena},\\n         year = 2019,\\n        month = oct,\\n       volume = {884},\\n       number = {2},\\n          eid = {106},\\n        pages = {106},\\n          doi = {10.3847/1538-4357/ab3e05},\\narchivePrefix = {arXiv},\\n       eprint = {1908.08023},\\n primaryClass = {astro-ph.HE},\\n       adsurl = {https://ui.adsabs.harvard.edu/abs/2019ApJ...884..106M},\\n      adsnote = {Provided by the SAO/NASA Astrophysics Data System}\\n}\\n\\n@ARTICLE{2019arXiv190904676R,\\n       author = {{Ruan}, John J. and {Anderson}, Scott F. and {Eracleous}, Michael and {Green}, Paul J. and {Haggard}, Daryl and {MacLeod}, Chelsea L. and {Runnoe}, Jessie C. and {Sobolewska}, Malgosia A.},\\n        title = \"{Tracing the AGN/X-ray Binary Analogy with Light Curves of Individual Changing-Look AGN}\",\\n      journal = {arXiv e-prints},\\n     keywords = {Astrophysics - High Energy Astrophysical Phenomena},\\n         year = 2019,\\n        month = sep,\\n          eid = {arXiv:1909.04676},\\n        pages = {arXiv:1909.04676},\\narchivePrefix = {arXiv},\\n       eprint = {1909.04676},\\n primaryClass = {astro-ph.HE},\\n       adsurl = {https://ui.adsabs.harvard.edu/abs/2019arXiv190904676R},\\n      adsnote = {Provided by the SAO/NASA Astrophysics Data System}\\n}\\n\\n@ARTICLE{2019ApJ...883...94T,\\n       author = {{Trakhtenbrot}, Benny and {Arcavi}, Iair and {MacLeod}, Chelsea L. and {Ricci}, Claudio and {Kara}, Erin and {Graham}, Melissa L. and {Stern}, Daniel and {Harrison}, Fiona A. and {Burke}, Jamison and {Hiramatsu}, Daichi and {Hosseinzadeh}, Griffin and {Howell}, D. Andrew and {Smartt}, Stephen J. and {Rest}, Armin and {Prieto}, Jose L. and {Shappee}, Benjamin J. and {Holoien}, Thomas W. -S. and {Bersier}, David and {Filippenko}, Alexei V. and {Brink}, Thomas G. and {Zheng}, WeiKang and {Li}, Ruancun and {Remillard}, Ronald A. and {Loewenstein}, Michael},\\n        title = \"{1ES 1927+654: An AGN Caught Changing Look on a Timescale of Months}\",\\n      journal = {\\\\apj},\\n     keywords = {galaxies: active, galaxies: individual: 1ES 1927+654, galaxies: nuclei, quasars: emission lines, quasars: general, Astrophysics - Astrophysics of Galaxies, Astrophysics - High Energy Astrophysical Phenomena},\\n         year = 2019,\\n        month = sep,\\n       volume = {883},\\n       number = {1},\\n          eid = {94},\\n        pages = {94},\\n          doi = {10.3847/1538-4357/ab39e4},\\narchivePrefix = {arXiv},\\n       eprint = {1903.11084},\\n primaryClass = {astro-ph.GA},\\n       adsurl = {https://ui.adsabs.harvard.edu/abs/2019ApJ...883...94T},\\n      adsnote = {Provided by the SAO/NASA Astrophysics Data System}\\n}\\n\\n@ARTICLE{2019ApJ...883...76R,\\n       author = {{Ruan}, John J. and {Anderson}, Scott F. and {Eracleous}, Michael and {Green}, Paul J. and {Haggard}, Daryl and {MacLeod}, Chelsea L. and {Runnoe}, Jessie C. and {Sobolewska}, Malgosia A.},\\n        title = \"{The Analogous Structure of Accretion Flows in Supermassive and Stellar Mass Black Holes: New Insights from Faded Changing-look Quasars}\",\\n      journal = {\\\\apj},\\n     keywords = {Quasars, Active galactic nuclei, Supermassive black holes, X-ray binary stars, 1319, 16, 1663, 1811, Astrophysics - High Energy Astrophysical Phenomena},\\n         year = 2019,\\n        month = sep,\\n       volume = {883},\\n       number = {1},\\n          eid = {76},\\n        pages = {76},\\n          doi = {10.3847/1538-4357/ab3c1a},\\narchivePrefix = {arXiv},\\n       eprint = {1903.02553},\\n primaryClass = {astro-ph.HE},\\n       adsurl = {https://ui.adsabs.harvard.edu/abs/2019ApJ...883...76R},\\n      adsnote = {Provided by the SAO/NASA Astrophysics Data System}\\n}\\n\\n@ARTICLE{2019ApJ...883...31F,\\n       author = {{Frederick}, Sara and {Gezari}, Suvi and {Graham}, Matthew J. and {Cenko}, S. Bradley and {van Velzen}, Sjoert and {Stern}, Daniel and {Blagorodnova}, Nadejda and {Kulkarni}, Shrinivas R. and {Yan}, Lin and {De}, Kishalay and {Fremling}, U. Christoffer and {Hung}, Tiara and {Kara}, Erin and {Shupe}, David L. and {Ward}, Charlotte and {Bellm}, Eric C. and {Dekany}, Richard and {Duev}, Dmitry A. and {Feindt}, Ulrich and {Giomi}, Matteo and {Kupfer}, Thomas and {Laher}, Russ R. and {Masci}, Frank J. and {Miller}, Adam A. and {Neill}, James D. and {Ngeow}, Chow-Choong and {Patterson}, Maria T. and {Porter}, Michael and {Rusholme}, Ben and {Sollerman}, Jesper and {Walters}, Richard},\\n        title = \"{A New Class of Changing-look LINERs}\",\\n      journal = {\\\\apj},\\n     keywords = {accretion, accretion disks, galaxies: active, galaxies: nuclei, quasars: emission lines, relativistic processes, Astrophysics - High Energy Astrophysical Phenomena, Astrophysics - Astrophysics of Galaxies},\\n         year = 2019,\\n        month = sep,\\n       volume = {883},\\n       number = {1},\\n          eid = {31},\\n        pages = {31},\\n          doi = {10.3847/1538-4357/ab3a38},\\narchivePrefix = {arXiv},\\n       eprint = {1904.10973},\\n primaryClass = {astro-ph.HE},\\n       adsurl = {https://ui.adsabs.harvard.edu/abs/2019ApJ...883...31F},\\n      adsnote = {Provided by the SAO/NASA Astrophysics Data System}\\n}\\n\\n@ARTICLE{2019MNRAS.487.4057K,\\n       author = {{Katebi}, Reza and {Chornock}, Ryan and {Berger}, Edo and {Jones}, David O. and {Lunnan}, Ragnhild and {Margutti}, Raffaella and {Rest}, Armin and {Scolnic}, Daniel M. and {Burgett}, William S. and {Kaiser}, Nick and {Kudritzki}, Rolf-Peter and {Magnier}, Eugene A. and {Wainscoat}, Richard J. and {Waters}, Christopher},\\n        title = \"{PS1-13cbe: the rapid transition of a Seyfert 2 to a Seyfert 1}\",\\n      journal = {\\\\mnras},\\n     keywords = {accretion, accretion discs, black hole physics, galaxies: active, galaxies: nuclei},\\n         year = 2019,\\n        month = aug,\\n       volume = {487},\\n       number = {3},\\n        pages = {4057-4070},\\n          doi = {10.1093/mnras/stz1552},\\n       adsurl = {https://ui.adsabs.harvard.edu/abs/2019MNRAS.487.4057K},\\n      adsnote = {Provided by the SAO/NASA Astrophysics Data System}\\n}\\n\\n@ARTICLE{2019MNRAS.487..667C,\\n       author = {{Chainakun}, P. and {Watcharangkool}, A. and {Young}, A.~J. and {Hancock}, S.},\\n        title = \"{X-ray time lags in AGN: inverse-Compton scattering and spherical corona model}\",\\n      journal = {\\\\mnras},\\n     keywords = {accretion, accretion discs, black hole physics, galaxies: active, galaxies: individual: 1H0707-495, galaxies: individual: Ark 564, galaxies: individual: NGC 4051, galaxies: individual: IRAS 13224-3809, X-rays: galaxies, Astrophysics - High Energy Astrophysical Phenomena},\\n         year = 2019,\\n        month = jul,\\n       volume = {487},\\n       number = {1},\\n        pages = {667-680},\\n          doi = {10.1093/mnras/stz1319},\\narchivePrefix = {arXiv},\\n       eprint = {1905.03683},\\n primaryClass = {astro-ph.HE},\\n       adsurl = {https://ui.adsabs.harvard.edu/abs/2019MNRAS.487..667C},\\n      adsnote = {Provided by the SAO/NASA Astrophysics Data System}\\n}\\n\\n@ARTICLE{2019ApJ...874....8M,\\n       author = {{MacLeod}, Chelsea L. and {Green}, Paul J. and {Anderson}, Scott F. and {Bruce}, Alastair and {Eracleous}, Michael and {Graham}, Matthew and {Homan}, David and {Lawrence}, Andy and {LeBleu}, Amy and {Ross}, Nicholas P. and {Ruan}, John J. and {Runnoe}, Jessie and {Stern}, Daniel and {Burgett}, William and {Chambers}, Kenneth C. and {Kaiser}, Nick and {Magnier}, Eugene and {Metcalfe}, Nigel},\\n        title = \"{Changing-look Quasar Candidates: First Results from Follow-up Spectroscopy of Highly Optically Variable Quasars}\",\\n      journal = {\\\\apj},\\n     keywords = {accretion, accretion disks, catalogs, quasars: emission lines, Astrophysics - Astrophysics of Galaxies},\\n         year = 2019,\\n        month = mar,\\n       volume = {874},\\n       number = {1},\\n          eid = {8},\\n        pages = {8},\\n          doi = {10.3847/1538-4357/ab05e2},\\narchivePrefix = {arXiv},\\n       eprint = {1810.00087},\\n primaryClass = {astro-ph.GA},\\n       adsurl = {https://ui.adsabs.harvard.edu/abs/2019ApJ...874....8M},\\n      adsnote = {Provided by the SAO/NASA Astrophysics Data System}\\n}\\n\\n@ARTICLE{2019MNRAS.483..558O,\\n       author = {{Oknyansky}, V.~L. and {Winkler}, H. and {Tsygankov}, S.~S. and {Lipunov}, V.~M. and {Gorbovskoy}, E.~S. and {van Wyk}, F. and {Buckley}, D.~A.~H. and {Tyurina}, N.~V.},\\n        title = \"{New changing look case in NGC 1566}\",\\n      journal = {\\\\mnras},\\n     keywords = {galaxies: active, galaxies: individual: NGC 1566, galaxies: nuclei, galaxies: photometry, quasars: emission lines, galaxies: Seyfert, X-rays: galaxies, Astrophysics - Astrophysics of Galaxies, Astrophysics - High Energy Astrophysical Phenomena},\\n         year = 2019,\\n        month = feb,\\n       volume = {483},\\n       number = {1},\\n        pages = {558-564},\\n          doi = {10.1093/mnras/sty3133},\\narchivePrefix = {arXiv},\\n       eprint = {1811.06926},\\n primaryClass = {astro-ph.GA},\\n       adsurl = {https://ui.adsabs.harvard.edu/abs/2019MNRAS.483..558O},\\n      adsnote = {Provided by the SAO/NASA Astrophysics Data System}\\n}\\n\\n@ARTICLE{2018arXiv181103694K,\\n       author = {{Katebi}, Reza and {Chornock}, Ryan and {Berger}, Edo and {Jones}, David O. and {Lunnan}, Ragnhild and {Margutti}, Raffaella and {Rest}, Armin and {Scolnic}, Daniel M. and {Burgett}, William S. and {Kaiser}, Nick and {Kudritzki}, Rolf-Peter and {Magnier}, Eugene A. and {Wainscoat}, Richard J. and {Waters}, Christopher},\\n        title = \"{PS1-13cbe: The Rapid ``Turn on\\'\\' of a Seyfert 1}\",\\n      journal = {arXiv e-prints},\\n     keywords = {Astrophysics - Astrophysics of Galaxies, Astrophysics - High Energy Astrophysical Phenomena},\\n         year = 2018,\\n        month = nov,\\n          eid = {arXiv:1811.03694},\\n        pages = {arXiv:1811.03694},\\narchivePrefix = {arXiv},\\n       eprint = {1811.03694},\\n primaryClass = {astro-ph.GA},\\n       adsurl = {https://ui.adsabs.harvard.edu/abs/2018arXiv181103694K},\\n      adsnote = {Provided by the SAO/NASA Astrophysics Data System}\\n}\\n\\n@ARTICLE{2018MNRAS.480.3898N,\\n       author = {{Noda}, Hirofumi and {Done}, Chris},\\n        title = \"{Explaining changing-look AGN with state transition triggered by rapid mass accretion rate drop}\",\\n      journal = {\\\\mnras},\\n     keywords = {galaxies: active, galaxies: individual: Mrk 1018, galaxies: Seyfert, X-rays: galaxies, Astrophysics - Astrophysics of Galaxies},\\n         year = 2018,\\n        month = nov,\\n       volume = {480},\\n       number = {3},\\n        pages = {3898-3906},\\n          doi = {10.1093/mnras/sty2032},\\narchivePrefix = {arXiv},\\n       eprint = {1805.07873},\\n primaryClass = {astro-ph.GA},\\n       adsurl = {https://ui.adsabs.harvard.edu/abs/2018MNRAS.480.3898N},\\n      adsnote = {Provided by the SAO/NASA Astrophysics Data System}\\n}\\n\\n@ARTICLE{2018ApJ...864...27S,\\n       author = {{Stern}, Daniel and {McKernan}, Barry and {Graham}, Matthew J. and {Ford}, K.~E.~S. and {Ross}, Nicholas P. and {Meisner}, Aaron M. and {Assef}, Roberto J. and {Balokovi{\\\\\\'c}}, Mislav and {Brightman}, Murray and {Dey}, Arjun and {Drake}, Andrew and {Djorgovski}, S.~G. and {Eisenhardt}, Peter and {Jun}, Hyunsung D.},\\n        title = \"{A Mid-IR Selected Changing-look Quasar and Physical Scenarios for Abrupt AGN Fading}\",\\n      journal = {\\\\apj},\\n     keywords = {galaxies: active, quasars: individual: WISE J105203.55+151929.5, Astrophysics - Astrophysics of Galaxies},\\n         year = 2018,\\n        month = sep,\\n       volume = {864},\\n       number = {1},\\n          eid = {27},\\n        pages = {27},\\n          doi = {10.3847/1538-4357/aac726},\\narchivePrefix = {arXiv},\\n       eprint = {1805.06920},\\n primaryClass = {astro-ph.GA},\\n       adsurl = {https://ui.adsabs.harvard.edu/abs/2018ApJ...864...27S},\\n      adsnote = {Provided by the SAO/NASA Astrophysics Data System}\\n}\\n\\n@ARTICLE{2018MNRAS.478.4214E,\\n       author = {{Ehler}, H.~J.~S. and {Gonzalez}, A.~G. and {Gallo}, L.~C.},\\n        title = \"{Exploring the spectral variability of the Seyfert 1.5 galaxy Markarian 530 with Suzaku}\",\\n      journal = {\\\\mnras},\\n     keywords = {galaxies: active, galaxies: individual: Mrk 530, galaxies: nuclei, X-rays: galaxies, Astrophysics - High Energy Astrophysical Phenomena},\\n         year = 2018,\\n        month = aug,\\n       volume = {478},\\n       number = {3},\\n        pages = {4214-4224},\\n          doi = {10.1093/mnras/sty1306},\\narchivePrefix = {arXiv},\\n       eprint = {1805.06742},\\n primaryClass = {astro-ph.HE},\\n       adsurl = {https://ui.adsabs.harvard.edu/abs/2018MNRAS.478.4214E},\\n      adsnote = {Provided by the SAO/NASA Astrophysics Data System}\\n}\\n\\n@ARTICLE{2018ApJ...862..109Y,\\n       author = {{Yang}, Qian and {Wu}, Xue-Bing and {Fan}, Xiaohui and {Jiang}, Linhua and {McGreer}, Ian and {Shangguan}, Jinyi and {Yao}, Su and {Wang}, Bingquan and {Joshi}, Ravi and {Green}, Richard and {Wang}, Feige and {Feng}, Xiaotong and {Fu}, Yuming and {Yang}, Jinyi and {Liu}, Yuanqi},\\n        title = \"{Discovery of 21 New Changing-look AGNs in the Northern Sky}\",\\n      journal = {\\\\apj},\\n     keywords = {black hole physics, galaxies: active, galaxies: nuclei, Astrophysics - Astrophysics of Galaxies, Astrophysics - Cosmology and Nongalactic Astrophysics},\\n         year = 2018,\\n        month = aug,\\n       volume = {862},\\n       number = {2},\\n          eid = {109},\\n        pages = {109},\\n          doi = {10.3847/1538-4357/aaca3a},\\narchivePrefix = {arXiv},\\n       eprint = {1711.08122},\\n primaryClass = {astro-ph.GA},\\n       adsurl = {https://ui.adsabs.harvard.edu/abs/2018ApJ...862..109Y},\\n      adsnote = {Provided by the SAO/NASA Astrophysics Data System}\\n}\\n\\n@ARTICLE{2018ATel11915....1O,\\n       author = {{Oknyansky}, V.~L. and {Lipunov}, V.~M. and {Gorbovskoy}, E.~S. and {Winkler}, H. and {van Wyk}, F. and {Tsygankov}, S. and {Buckley}, D.~A.~H.},\\n        title = \"{New changing look case in NGC 1566}\",\\n      journal = {The Astronomer\\'s Telegram},\\n     keywords = {AGN, Transient},\\n         year = 2018,\\n        month = aug,\\n       volume = {11915},\\n        pages = {1},\\n       adsurl = {https://ui.adsabs.harvard.edu/abs/2018ATel11915....1O},\\n      adsnote = {Provided by the SAO/NASA Astrophysics Data System}\\n}\\n\\n@ARTICLE{2018Galax...6...52A,\\n       author = {{Ag{\\\\\\'\\\\i}s-Gonz{\\\\\\'a}lez}, Beatriz and {Hutsem{\\\\\\'e}kers}, Damien and {Miniutti}, Giovanni},\\n        title = \"{A Changing-Look AGN to Be Probed by X-ray Polarimetry}\",\\n      journal = {Galaxies},\\n     keywords = {Astrophysics - Astrophysics of Galaxies, Astrophysics - High Energy Astrophysical Phenomena},\\n         year = 2018,\\n        month = apr,\\n       volume = {6},\\n       number = {2},\\n        pages = {52},\\n          doi = {10.3390/galaxies6020052},\\narchivePrefix = {arXiv},\\n       eprint = {1805.01485},\\n primaryClass = {astro-ph.GA},\\n       adsurl = {https://ui.adsabs.harvard.edu/abs/2018Galax...6...52A},\\n      adsnote = {Provided by the SAO/NASA Astrophysics Data System}\\n}\\n\\n@ARTICLE{2018yCat..22340023A,\\n       author = {{Assef}, R.~J. and {Stern}, D. and {Noirot}, G. and {Jun}, H.~D. and {Cutri}, R.~M. and {Eisenhardt}, P.~R.~M.},\\n        title = \"{VizieR Online Data Catalog: The WISE AGN candidates catalogs (Assef+, 2018)}\",\\n      journal = {VizieR Online Data Catalog},\\n     keywords = {Photometry: infrared, Active gal. nuclei},\\n         year = 2018,\\n        month = mar,\\n          eid = {J/ApJS/234/23},\\n        pages = {J/ApJS/234/23},\\n       adsurl = {https://ui.adsabs.harvard.edu/abs/2018yCat..22340023A},\\n      adsnote = {Provided by the SAO/NASA Astrophysics Data System}\\n}\\n\\n@ARTICLE{2018MNRAS.473.5334R,\\n       author = {{Ricci}, T.~V. and {Steiner}, J.~E. and {May}, D. and {Garcia-Rissmann}, A. and {Menezes}, R.~B.},\\n        title = \"{Optical and near-infrared IFU spectroscopy of the nuclear region of the AGN-starburst galaxy NGC 7582}\",\\n      journal = {\\\\mnras},\\n     keywords = {techniques: imaging spectroscopy, galaxies: jets, galaxies: nuclei, galaxies: Seyfert, galaxies: starburst, Astrophysics - Astrophysics of Galaxies},\\n         year = 2018,\\n        month = feb,\\n       volume = {473},\\n       number = {4},\\n        pages = {5334-5351},\\n          doi = {10.1093/mnras/stx2746},\\narchivePrefix = {arXiv},\\n       eprint = {1711.04794},\\n primaryClass = {astro-ph.GA},\\n       adsurl = {https://ui.adsabs.harvard.edu/abs/2018MNRAS.473.5334R},\\n      adsnote = {Provided by the SAO/NASA Astrophysics Data System}\\n}\\n\\n@ARTICLE{2018ApJS..234...23A,\\n       author = {{Assef}, R.~J. and {Stern}, D. and {Noirot}, G. and {Jun}, H.~D. and {Cutri}, R.~M. and {Eisenhardt}, P.~R.~M.},\\n        title = \"{The WISE AGN Catalog}\",\\n      journal = {\\\\apjs},\\n     keywords = {galaxies: active, infrared: general, quasars: general, Astrophysics - Astrophysics of Galaxies, Astrophysics - Cosmology and Nongalactic Astrophysics},\\n         year = 2018,\\n        month = feb,\\n       volume = {234},\\n       number = {2},\\n          eid = {23},\\n        pages = {23},\\n          doi = {10.3847/1538-4365/aaa00a},\\narchivePrefix = {arXiv},\\n       eprint = {1706.09901},\\n primaryClass = {astro-ph.GA},\\n       adsurl = {https://ui.adsabs.harvard.edu/abs/2018ApJS..234...23A},\\n      adsnote = {Provided by the SAO/NASA Astrophysics Data System}\\n}\\n\\n@ARTICLE{2017NatAs...1..727K,\\n       author = {{Kharb}, P. and {Lal}, D.~V. and {Merritt}, D.},\\n        title = \"{A candidate sub-parsec binary black hole in the Seyfert galaxy NGC 7674}\",\\n      journal = {Nature Astronomy},\\n     keywords = {Astrophysics - Astrophysics of Galaxies},\\n         year = 2017,\\n        month = sep,\\n       volume = {1},\\n        pages = {727-733},\\n          doi = {10.1038/s41550-017-0256-4},\\narchivePrefix = {arXiv},\\n       eprint = {1709.06258},\\n primaryClass = {astro-ph.GA},\\n       adsurl = {https://ui.adsabs.harvard.edu/abs/2017NatAs...1..727K},\\n      adsnote = {Provided by the SAO/NASA Astrophysics Data System}\\n}\\n\\n@ARTICLE{2017MNRAS.468.3042M,\\n       author = {{Mountrichas}, G. and {Georgantopoulos}, I. and {Secrest}, N.~J. and {Ordov{\\\\\\'a}s-Pascual}, I. and {Corral}, A. and {Akylas}, A. and {Mateos}, S. and {Carrera}, F.~J. and {Batziou}, E.},\\n        title = \"{Searching for luminous absorbed sources in the WISE AGN catalogue}\",\\n      journal = {\\\\mnras},\\n     keywords = {black hole physics, galaxies: active, galaxies: haloes, quasars: general, galaxies: Seyfert, Astrophysics - Astrophysics of Galaxies, Astrophysics - Cosmology and Nongalactic Astrophysics},\\n         year = 2017,\\n        month = jul,\\n       volume = {468},\\n       number = {3},\\n        pages = {3042-3050},\\n          doi = {10.1093/mnras/stx572},\\narchivePrefix = {arXiv},\\n       eprint = {1703.03051},\\n primaryClass = {astro-ph.GA},\\n       adsurl = {https://ui.adsabs.harvard.edu/abs/2017MNRAS.468.3042M},\\n      adsnote = {Provided by the SAO/NASA Astrophysics Data System}\\n}\\n\\n@ARTICLE{2017OAP....30..117O,\\n       author = {{Oknyansky}, V.~L. and {Gaskell}, C.~M. and {Huseynov}, N.~A. and {Mikailov}, Kh. M. and {Lipunov}, V.~M. and {Shatsky}, N.~I. and {Tsygankov}, S.~S. and {Gorbovskoy}, E.~S. and {Tatarnikov}, A.~M. and {Metlov}, V.~G. and {Malanchev}, K.~L. and {Brotherton}, M.~B. and {Kasper}, D. and {Du}, P. and {Chen}, X. and {Burlak}, M.~A. and {Buckley}, D.~A.~H. and {Rebolo}, R. and {Serra-Ricart}, M. and {Podesta}, R. and {Levato}, H.},\\n        title = \"{Multi-Wavelength Monitoring of the Changing-Look AGN NGC 2617 during State Changes}\",\\n      journal = {Odessa Astronomical Publications},\\n     keywords = {AGN, CL AGN, X-ray, UV, optical, photometry, spectroscopy, Astrophysics - Astrophysics of Galaxies},\\n         year = 2017,\\n        month = jan,\\n       volume = {30},\\n        pages = {117},\\n          doi = {10.18524/1810-4215.2017.30.114366},\\narchivePrefix = {arXiv},\\n       eprint = {1711.02631},\\n primaryClass = {astro-ph.GA},\\n       adsurl = {https://ui.adsabs.harvard.edu/abs/2017OAP....30..117O},\\n      adsnote = {Provided by the SAO/NASA Astrophysics Data System}\\n}\\n\\n@ARTICLE{2016ApJ...826..188R,\\n       author = {{Ruan}, John J. and {Anderson}, Scott F. and {Cales}, Sabrina L. and {Eracleous}, Michael and {Green}, Paul J. and {Morganson}, Eric and {Runnoe}, Jessie C. and {Shen}, Yue and {Wilkinson}, Tessa D. and {Blanton}, Michael R. and {Dwelly}, Tom and {Georgakakis}, Antonis and {Greene}, Jenny E. and {LaMassa}, Stephanie M. and {Merloni}, Andrea and {Schneider}, Donald P.},\\n        title = \"{Toward an Understanding of Changing-look Quasars: An Archival Spectroscopic Search in SDSS}\",\\n      journal = {\\\\apj},\\n     keywords = {galaxies: active, quasars: emission lines, quasars: general, Astrophysics - High Energy Astrophysical Phenomena, Astrophysics - Cosmology and Nongalactic Astrophysics, Astrophysics - Astrophysics of Galaxies},\\n         year = 2016,\\n        month = aug,\\n       volume = {826},\\n       number = {2},\\n          eid = {188},\\n        pages = {188},\\n          doi = {10.3847/0004-637X/826/2/188},\\narchivePrefix = {arXiv},\\n       eprint = {1509.03634},\\n primaryClass = {astro-ph.HE},\\n       adsurl = {https://ui.adsabs.harvard.edu/abs/2016ApJ...826..188R},\\n      adsnote = {Provided by the SAO/NASA Astrophysics Data System}\\n}\\n\\n@ARTICLE{2016ApJ...821...33R,\\n       author = {{Runco}, Jordan N. and {Cosens}, Maren and {Bennert}, Vardha N. and {Scott}, Bryan and {Komossa}, S. and {Malkan}, Matthew A. and {Lazarova}, Mariana S. and {Auger}, Matthew W. and {Treu}, Tommaso and {Park}, Daeseong},\\n        title = \"{Broad H{\\\\ensuremath{\\\\beta}} Emission-line Variability in a Sample of 102 Local Active Galaxies}\",\\n      journal = {\\\\apj},\\n     keywords = {accretion, accretion disks, galaxies: active, galaxies: evolution, galaxies: Seyfert, galaxies: statistics, Astrophysics - Astrophysics of Galaxies},\\n         year = 2016,\\n        month = apr,\\n       volume = {821},\\n       number = {1},\\n          eid = {33},\\n        pages = {33},\\n          doi = {10.3847/0004-637X/821/1/33},\\narchivePrefix = {arXiv},\\n       eprint = {1603.00035},\\n primaryClass = {astro-ph.GA},\\n       adsurl = {https://ui.adsabs.harvard.edu/abs/2016ApJ...821...33R},\\n      adsnote = {Provided by the SAO/NASA Astrophysics Data System}\\n}\\n\\n@ARTICLE{2016MNRAS.457..389M,\\n       author = {{MacLeod}, Chelsea L. and {Ross}, Nicholas P. and {Lawrence}, Andy and {Goad}, Mike and {Horne}, Keith and {Burgett}, William and {Chambers}, Ken C. and {Flewelling}, Heather and {Hodapp}, Klaus and {Kaiser}, Nick and {Magnier}, Eugene and {Wainscoat}, Richard and {Waters}, Christopher},\\n        title = \"{A systematic search for changing-look quasars in SDSS}\",\\n      journal = {\\\\mnras},\\n     keywords = {accretion, accretion discs, galaxies: active, quasars: emission lines, quasars: general, Astrophysics - Astrophysics of Galaxies},\\n         year = 2016,\\n        month = mar,\\n       volume = {457},\\n       number = {1},\\n        pages = {389-404},\\n          doi = {10.1093/mnras/stv2997},\\narchivePrefix = {arXiv},\\n       eprint = {1509.08393},\\n primaryClass = {astro-ph.GA},\\n       adsurl = {https://ui.adsabs.harvard.edu/abs/2016MNRAS.457..389M},\\n      adsnote = {Provided by the SAO/NASA Astrophysics Data System}\\n}\\n\\n@ARTICLE{2016ApJ...820....5R,\\n       author = {{Ricci}, C. and {Bauer}, F.~E. and {Arevalo}, P. and {Boggs}, S. and {Brandt}, W.~N. and {Christensen}, F.~E. and {Craig}, W.~W. and {Gandhi}, P. and {Hailey}, C.~J. and {Harrison}, F.~A. and {Koss}, M. and {Markwardt}, C.~B. and {Stern}, D. and {Treister}, E. and {Zhang}, W.~W.},\\n        title = \"{IC 751: A New Changing Look AGN Discovered by NuSTAR}\",\\n      journal = {\\\\apj},\\n     keywords = {galaxies: active, galaxies: individual:: IC 751, galaxies: Seyfert, X-rays: galaxies, Astrophysics - High Energy Astrophysical Phenomena, Astrophysics - Cosmology and Nongalactic Astrophysics, Astrophysics - Astrophysics of Galaxies},\\n         year = 2016,\\n        month = mar,\\n       volume = {820},\\n       number = {1},\\n          eid = {5},\\n        pages = {5},\\n          doi = {10.3847/0004-637X/820/1/5},\\narchivePrefix = {arXiv},\\n       eprint = {1602.00702},\\n primaryClass = {astro-ph.HE},\\n       adsurl = {https://ui.adsabs.harvard.edu/abs/2016ApJ...820....5R},\\n      adsnote = {Provided by the SAO/NASA Astrophysics Data System}\\n}\\n\\n@INPROCEEDINGS{2015toru.conf..E17M,\\n       author = {{Macleod}, C.},\\n        title = \"{A Systematic Search for Changing-Look Quasars in SDSS}\",\\n     keywords = {Active Galactic Nuclei},\\n    booktitle = {TORUS2015: The AGN Unification Scheme After 30 Years},\\n         year = 2015,\\n       editor = {{Gandhi}, P. and {Hoenig}, S.~F.},\\n        month = sep,\\n       adsurl = {https://ui.adsabs.harvard.edu/abs/2015toru.conf..E17M},\\n      adsnote = {Provided by the SAO/NASA Astrophysics Data System}\\n}\\n\\n@ARTICLE{2015ApJS..217...26B,\\n       author = {{Barth}, Aaron J. and {Bennert}, Vardha N. and {Canalizo}, Gabriela and {Filippenko}, Alexei V. and {Gates}, Elinor L. and {Greene}, Jenny E. and {Li}, Weidong and {Malkan}, Matthew A. and {Pancoast}, Anna and {Sand}, David J. and {Stern}, Daniel and {Treu}, Tommaso and {Woo}, Jong-Hak and {Assef}, Roberto J. and {Bae}, Hyun-Jin and {Brewer}, Brendon J. and {Cenko}, S. Bradley and {Clubb}, Kelsey I. and {Cooper}, Michael C. and {Diamond-Stanic}, Aleksandar M. and {Hiner}, Kyle D. and {H{\\\\\"o}nig}, Sebastian F. and {Hsiao}, Eric and {Kandrashoff}, Michael T. and {Lazarova}, Mariana S. and {Nierenberg}, A.~M. and {Rex}, Jacob and {Silverman}, Jeffrey M. and {Tollerud}, Erik J. and {Walsh}, Jonelle L.},\\n        title = \"{The Lick AGN Monitoring Project 2011: Spectroscopic Campaign and Emission-line Light Curves}\",\\n      journal = {\\\\apjs},\\n     keywords = {galaxies: active, galaxies: nuclei, galaxies: Seyfert, techniques: spectroscopic, Astrophysics - Astrophysics of Galaxies},\\n         year = 2015,\\n        month = apr,\\n       volume = {217},\\n       number = {2},\\n          eid = {26},\\n        pages = {26},\\n          doi = {10.1088/0067-0049/217/2/26},\\narchivePrefix = {arXiv},\\n       eprint = {1503.01146},\\n primaryClass = {astro-ph.GA},\\n       adsurl = {https://ui.adsabs.harvard.edu/abs/2015ApJS..217...26B},\\n      adsnote = {Provided by the SAO/NASA Astrophysics Data System}\\n}\\n\\n@ARTICLE{2015ApJ...800...63S,\\n       author = {{Schimoia}, Jaderson S. and {Storchi-Bergmann}, Thaisa and {Grupe}, Dirk and {Eracleous}, Michael and {Peterson}, Bradley M. and {Baldwin}, Jack A. and {Nemmen}, Rodrigo S. and {Winge}, Cl{\\\\\\'a}udia},\\n        title = \"{Short-timescale Monitoring of the X-Ray, UV, and Broad Double-peak Emission Line of the Nucleus of NGC 1097}\",\\n      journal = {\\\\apj},\\n     keywords = {accretion, accretion disks, galaxies: individual: NGC 1097, galaxies: nuclei, galaxies: Seyfert, line: profiles, Astrophysics - Astrophysics of Galaxies, Astrophysics - High Energy Astrophysical Phenomena},\\n         year = 2015,\\n        month = feb,\\n       volume = {800},\\n       number = {1},\\n          eid = {63},\\n        pages = {63},\\n          doi = {10.1088/0004-637X/800/1/63},\\narchivePrefix = {arXiv},\\n       eprint = {1411.4682},\\n primaryClass = {astro-ph.GA},\\n       adsurl = {https://ui.adsabs.harvard.edu/abs/2015ApJ...800...63S},\\n      adsnote = {Provided by the SAO/NASA Astrophysics Data System}\\n}\\n\\n@ARTICLE{2013MNRAS.429.2581M,\\n       author = {{Marinucci}, Andrea and {Risaliti}, Guido and {Wang}, Junfeng and {Bianchi}, Stefano and {Elvis}, Martin and {Matt}, Giorgio and {Nardini}, Emanuele and {Braito}, Valentina},\\n        title = \"{X-ray absorption variability in NGC 4507}\",\\n      journal = {\\\\mnras},\\n     keywords = {Galaxies: active, Galaxies: Seyfert, Astrophysics - High Energy Astrophysical Phenomena, Astrophysics - Cosmology and Nongalactic Astrophysics},\\n         year = 2013,\\n        month = mar,\\n       volume = {429},\\n       number = {3},\\n        pages = {2581-2586},\\n          doi = {10.1093/mnras/sts534},\\narchivePrefix = {arXiv},\\n       eprint = {1212.4151},\\n primaryClass = {astro-ph.HE},\\n       adsurl = {https://ui.adsabs.harvard.edu/abs/2013MNRAS.429.2581M},\\n      adsnote = {Provided by the SAO/NASA Astrophysics Data System}\\n}\\n\\n@INPROCEEDINGS{2011xru..conf..100M,\\n       author = {{Marinucci}, Andrea and {Risaliti}, Guido and {Bianchi}, Stefano and {Elvis}, Martin and {Matt}, Giorgio},\\n        title = \"{X-ray Absorption Variability In NGC 4507}\",\\n    booktitle = {The X-ray Universe 2011},\\n         year = 2011,\\n       editor = {{Ness}, Jan-Uwe and {Ehle}, Matthias},\\n        month = aug,\\n          eid = {100},\\n        pages = {100},\\n       adsurl = {https://ui.adsabs.harvard.edu/abs/2011xru..conf..100M},\\n      adsnote = {Provided by the SAO/NASA Astrophysics Data System}\\n}\\n\\n@INPROCEEDINGS{2011AAS...21822816M,\\n       author = {{Marinucci}, Andrea and {Risaliti}, G. and {Elvis}, M. and {Bianchi}, S. and {Matt}, G.},\\n        title = \"{X-ray Absorption Variability In Ngc 4507}\",\\n    booktitle = {American Astronomical Society Meeting Abstracts \\\\#218},\\n         year = 2011,\\n       series = {American Astronomical Society Meeting Abstracts},\\n       volume = {218},\\n        month = may,\\n          eid = {228.16},\\n        pages = {228.16},\\n       adsurl = {https://ui.adsabs.harvard.edu/abs/2011AAS...21822816M},\\n      adsnote = {Provided by the SAO/NASA Astrophysics Data System}\\n}\\n\\n@ARTICLE{2010A&A...522A..36K,\\n       author = {{Kollatschny}, W. and {Zetzl}, M.},\\n        title = \"{Line profile and continuum variability in the very broad-line Seyfert galaxy Mrk 926}\",\\n      journal = {\\\\aap},\\n     keywords = {galaxies: active, galaxies: Seyfert, galaxies: nuclei, galaxies: individual: Mrk 926, quasars: emission lines, Astrophysics - Cosmology and Nongalactic Astrophysics},\\n         year = 2010,\\n        month = nov,\\n       volume = {522},\\n          eid = {A36},\\n        pages = {A36},\\n          doi = {10.1051/0004-6361/200913463},\\narchivePrefix = {arXiv},\\n       eprint = {1007.3595},\\n primaryClass = {astro-ph.CO},\\n       adsurl = {https://ui.adsabs.harvard.edu/abs/2010A&A...522A..36K},\\n      adsnote = {Provided by the SAO/NASA Astrophysics Data System}\\n}\\n\\n'"
      ]
     },
     "execution_count": 187,
     "metadata": {},
     "output_type": "execute_result"
    }
   ],
   "source": [
    "bibtexs"
   ]
  },
  {
   "cell_type": "code",
   "execution_count": null,
   "metadata": {},
   "outputs": [],
   "source": []
  },
  {
   "cell_type": "markdown",
   "metadata": {},
   "source": [
    "## test"
   ]
  },
  {
   "cell_type": "code",
   "execution_count": 110,
   "metadata": {
    "ExecuteTime": {
     "end_time": "2021-09-24T03:16:21.026801Z",
     "start_time": "2021-09-24T03:16:18.791509Z"
    }
   },
   "outputs": [],
   "source": [
    "title=title_list[0]\n",
    "ads_papers = list(ads.SearchQuery(title=title))\n",
    "\n",
    "ads_papers[0].bibcode\n",
    "\n",
    "ads.ExportQuery(ads_papers[0].bibcode, format=\"bibtex\").execute()"
   ]
  },
  {
   "cell_type": "code",
   "execution_count": null,
   "metadata": {},
   "outputs": [],
   "source": []
  },
  {
   "cell_type": "code",
   "execution_count": null,
   "metadata": {},
   "outputs": [],
   "source": []
  },
  {
   "cell_type": "code",
   "execution_count": null,
   "metadata": {},
   "outputs": [],
   "source": []
  },
  {
   "cell_type": "code",
   "execution_count": null,
   "metadata": {},
   "outputs": [],
   "source": []
  }
 ],
 "metadata": {
  "kernelspec": {
   "display_name": "Python 3",
   "language": "python",
   "name": "python3"
  },
  "language_info": {
   "codemirror_mode": {
    "name": "ipython",
    "version": 3
   },
   "file_extension": ".py",
   "mimetype": "text/x-python",
   "name": "python",
   "nbconvert_exporter": "python",
   "pygments_lexer": "ipython3",
   "version": "3.8.5"
  },
  "latex_envs": {
   "LaTeX_envs_menu_present": true,
   "autocomplete": true,
   "bibliofile": "biblio.bib",
   "cite_by": "apalike",
   "current_citInitial": 1,
   "eqLabelWithNumbers": true,
   "eqNumInitial": 1,
   "hotkeys": {
    "equation": "Ctrl-E",
    "itemize": "Ctrl-I"
   },
   "labels_anchors": false,
   "latex_user_defs": false,
   "report_style_numbering": false,
   "user_envs_cfg": false
  },
  "toc": {
   "nav_menu": {},
   "number_sections": true,
   "sideBar": true,
   "skip_h1_title": false,
   "toc_cell": false,
   "toc_position": {
    "height": "451px",
    "left": "0px",
    "right": "1043px",
    "top": "158px",
    "width": "212px"
   },
   "toc_section_display": "block",
   "toc_window_display": true
  }
 },
 "nbformat": 4,
 "nbformat_minor": 2
}
