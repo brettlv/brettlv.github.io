{
 "cells": [
  {
   "cell_type": "code",
   "execution_count": 3,
   "id": "8c84bcb9",
   "metadata": {
    "ExecuteTime": {
     "end_time": "2022-10-31T08:23:54.056814Z",
     "start_time": "2022-10-31T08:23:54.050850Z"
    }
   },
   "outputs": [],
   "source": [
    "import os\n",
    "from PIL import Image"
   ]
  },
  {
   "cell_type": "code",
   "execution_count": 2,
   "id": "79160c22",
   "metadata": {
    "ExecuteTime": {
     "end_time": "2022-10-31T08:23:44.756740Z",
     "start_time": "2022-10-31T08:23:44.746746Z"
    }
   },
   "outputs": [],
   "source": [
    "datadir='/Users/lyubing/IHEPBox/data/OXCLAGN/xclumpy/'"
   ]
  },
  {
   "cell_type": "code",
   "execution_count": 4,
   "id": "a19f7936",
   "metadata": {
    "ExecuteTime": {
     "end_time": "2022-10-31T08:24:11.664149Z",
     "start_time": "2022-10-31T08:24:10.801469Z"
    }
   },
   "outputs": [
    {
     "ename": "OSError",
     "evalue": "cannot determine EPS bounding box",
     "output_type": "error",
     "traceback": [
      "\u001b[0;31m---------------------------------------------------------------------------\u001b[0m",
      "\u001b[0;31mOSError\u001b[0m                                   Traceback (most recent call last)",
      "Input \u001b[0;32mIn [4]\u001b[0m, in \u001b[0;36m<cell line: 2>\u001b[0;34m()\u001b[0m\n\u001b[1;32m      1\u001b[0m image_eps \u001b[38;5;241m=\u001b[39m os\u001b[38;5;241m.\u001b[39mpath\u001b[38;5;241m.\u001b[39mjoin(datadir,\u001b[38;5;124m'\u001b[39m\u001b[38;5;124mESO362_G18_60201046002_xclumpy_eeuf_del.ps\u001b[39m\u001b[38;5;124m'\u001b[39m)\n\u001b[0;32m----> 2\u001b[0m im \u001b[38;5;241m=\u001b[39m \u001b[43mImage\u001b[49m\u001b[38;5;241;43m.\u001b[39;49m\u001b[43mopen\u001b[49m\u001b[43m(\u001b[49m\u001b[43mimage_eps\u001b[49m\u001b[43m)\u001b[49m\n",
      "File \u001b[0;32m~/opt/anaconda3/lib/python3.9/site-packages/PIL/Image.py:2998\u001b[0m, in \u001b[0;36mopen\u001b[0;34m(fp, mode, formats)\u001b[0m\n\u001b[1;32m   2996\u001b[0m \u001b[38;5;28;01mif\u001b[39;00m im \u001b[38;5;129;01mis\u001b[39;00m \u001b[38;5;28;01mNone\u001b[39;00m:\n\u001b[1;32m   2997\u001b[0m     \u001b[38;5;28;01mif\u001b[39;00m init():\n\u001b[0;32m-> 2998\u001b[0m         im \u001b[38;5;241m=\u001b[39m \u001b[43m_open_core\u001b[49m\u001b[43m(\u001b[49m\u001b[43mfp\u001b[49m\u001b[43m,\u001b[49m\u001b[43m \u001b[49m\u001b[43mfilename\u001b[49m\u001b[43m,\u001b[49m\u001b[43m \u001b[49m\u001b[43mprefix\u001b[49m\u001b[43m,\u001b[49m\u001b[43m \u001b[49m\u001b[43mformats\u001b[49m\u001b[43m)\u001b[49m\n\u001b[1;32m   3000\u001b[0m \u001b[38;5;28;01mif\u001b[39;00m im:\n\u001b[1;32m   3001\u001b[0m     im\u001b[38;5;241m.\u001b[39m_exclusive_fp \u001b[38;5;241m=\u001b[39m exclusive_fp\n",
      "File \u001b[0;32m~/opt/anaconda3/lib/python3.9/site-packages/PIL/Image.py:2980\u001b[0m, in \u001b[0;36mopen.<locals>._open_core\u001b[0;34m(fp, filename, prefix, formats)\u001b[0m\n\u001b[1;32m   2978\u001b[0m \u001b[38;5;28;01melif\u001b[39;00m result:\n\u001b[1;32m   2979\u001b[0m     fp\u001b[38;5;241m.\u001b[39mseek(\u001b[38;5;241m0\u001b[39m)\n\u001b[0;32m-> 2980\u001b[0m     im \u001b[38;5;241m=\u001b[39m \u001b[43mfactory\u001b[49m\u001b[43m(\u001b[49m\u001b[43mfp\u001b[49m\u001b[43m,\u001b[49m\u001b[43m \u001b[49m\u001b[43mfilename\u001b[49m\u001b[43m)\u001b[49m\n\u001b[1;32m   2981\u001b[0m     _decompression_bomb_check(im\u001b[38;5;241m.\u001b[39msize)\n\u001b[1;32m   2982\u001b[0m     \u001b[38;5;28;01mreturn\u001b[39;00m im\n",
      "File \u001b[0;32m~/opt/anaconda3/lib/python3.9/site-packages/PIL/ImageFile.py:112\u001b[0m, in \u001b[0;36mImageFile.__init__\u001b[0;34m(self, fp, filename)\u001b[0m\n\u001b[1;32m    110\u001b[0m \u001b[38;5;28;01mtry\u001b[39;00m:\n\u001b[1;32m    111\u001b[0m     \u001b[38;5;28;01mtry\u001b[39;00m:\n\u001b[0;32m--> 112\u001b[0m         \u001b[38;5;28;43mself\u001b[39;49m\u001b[38;5;241;43m.\u001b[39;49m\u001b[43m_open\u001b[49m\u001b[43m(\u001b[49m\u001b[43m)\u001b[49m\n\u001b[1;32m    113\u001b[0m     \u001b[38;5;28;01mexcept\u001b[39;00m (\n\u001b[1;32m    114\u001b[0m         \u001b[38;5;167;01mIndexError\u001b[39;00m,  \u001b[38;5;66;03m# end of data\u001b[39;00m\n\u001b[1;32m    115\u001b[0m         \u001b[38;5;167;01mTypeError\u001b[39;00m,  \u001b[38;5;66;03m# end of data (ord)\u001b[39;00m\n\u001b[0;32m   (...)\u001b[0m\n\u001b[1;32m    118\u001b[0m         struct\u001b[38;5;241m.\u001b[39merror,\n\u001b[1;32m    119\u001b[0m     ) \u001b[38;5;28;01mas\u001b[39;00m v:\n\u001b[1;32m    120\u001b[0m         \u001b[38;5;28;01mraise\u001b[39;00m \u001b[38;5;167;01mSyntaxError\u001b[39;00m(v) \u001b[38;5;28;01mfrom\u001b[39;00m \u001b[38;5;21;01mv\u001b[39;00m\n",
      "File \u001b[0;32m~/opt/anaconda3/lib/python3.9/site-packages/PIL/EpsImagePlugin.py:306\u001b[0m, in \u001b[0;36mEpsImageFile._open\u001b[0;34m(self)\u001b[0m\n\u001b[1;32m    303\u001b[0m         \u001b[38;5;28;01mbreak\u001b[39;00m\n\u001b[1;32m    305\u001b[0m \u001b[38;5;28;01mif\u001b[39;00m \u001b[38;5;129;01mnot\u001b[39;00m box:\n\u001b[0;32m--> 306\u001b[0m     \u001b[38;5;28;01mraise\u001b[39;00m \u001b[38;5;167;01mOSError\u001b[39;00m(\u001b[38;5;124m\"\u001b[39m\u001b[38;5;124mcannot determine EPS bounding box\u001b[39m\u001b[38;5;124m\"\u001b[39m)\n",
      "\u001b[0;31mOSError\u001b[0m: cannot determine EPS bounding box"
     ]
    }
   ],
   "source": [
    "image_eps = os.path.join(datadir,'ESO362_G18_60201046002_xclumpy_eeuf_del.ps')\n",
    "im = Image.open(image_eps)"
   ]
  },
  {
   "cell_type": "code",
   "execution_count": 5,
   "id": "e9b13e40",
   "metadata": {
    "ExecuteTime": {
     "end_time": "2022-10-31T08:24:44.503441Z",
     "start_time": "2022-10-31T08:24:44.479741Z"
    }
   },
   "outputs": [
    {
     "ename": "NameError",
     "evalue": "name 'im' is not defined",
     "output_type": "error",
     "traceback": [
      "\u001b[0;31m---------------------------------------------------------------------------\u001b[0m",
      "\u001b[0;31mNameError\u001b[0m                                 Traceback (most recent call last)",
      "Input \u001b[0;32mIn [5]\u001b[0m, in \u001b[0;36m<cell line: 1>\u001b[0;34m()\u001b[0m\n\u001b[0;32m----> 1\u001b[0m fig \u001b[38;5;241m=\u001b[39m \u001b[43mim\u001b[49m\u001b[38;5;241m.\u001b[39mconvert(\u001b[38;5;124m'\u001b[39m\u001b[38;5;124mRGBA\u001b[39m\u001b[38;5;124m'\u001b[39m)\n",
      "\u001b[0;31mNameError\u001b[0m: name 'im' is not defined"
     ]
    }
   ],
   "source": [
    "fig = im.convert('RGBA')\n",
    "image_png= 'logo-rgb.png'\n",
    "fig.save(image_png, lossless = True)"
   ]
  },
  {
   "cell_type": "code",
   "execution_count": 6,
   "id": "71f722f3",
   "metadata": {
    "ExecuteTime": {
     "end_time": "2022-10-31T08:42:18.682169Z",
     "start_time": "2022-10-31T08:42:18.677021Z"
    }
   },
   "outputs": [],
   "source": [
    "import os \n",
    "os.chdir(datadir)\n"
   ]
  },
  {
   "cell_type": "code",
   "execution_count": 13,
   "id": "e44d5edf",
   "metadata": {
    "ExecuteTime": {
     "end_time": "2022-10-31T08:50:14.531771Z",
     "start_time": "2022-10-31T08:50:14.519944Z"
    }
   },
   "outputs": [],
   "source": [
    "for i in os.listdir(datadir):\n",
    "    if i.endswith('.ps'):\n",
    "        pdf_i=i[:-3]+'.pdf'\n",
    "        if not os.path.exists(pdf_i):\n",
    "            print(pdf_i)\n",
    "            os.system('ps2pdf %s %s'%(i,pdf_i))\n",
    "            "
   ]
  },
  {
   "cell_type": "code",
   "execution_count": 7,
   "id": "0702fcac",
   "metadata": {
    "ExecuteTime": {
     "end_time": "2022-10-31T08:42:35.748832Z",
     "start_time": "2022-10-31T08:42:32.846965Z"
    }
   },
   "outputs": [
    {
     "data": {
      "text/plain": [
       "0"
      ]
     },
     "execution_count": 7,
     "metadata": {},
     "output_type": "execute_result"
    }
   ],
   "source": [
    "os.system('ps2pdf ESO362_G18_60201046002_xclumpy_eeuf_del.ps ESO362_G18_60201046002_xclumpy_eeuf_del.pdf')"
   ]
  },
  {
   "cell_type": "code",
   "execution_count": 8,
   "id": "fe3b0b5c",
   "metadata": {
    "ExecuteTime": {
     "end_time": "2022-10-31T08:45:23.007666Z",
     "start_time": "2022-10-31T08:45:22.849804Z"
    }
   },
   "outputs": [],
   "source": [
    "rm *.png"
   ]
  },
  {
   "cell_type": "code",
   "execution_count": null,
   "id": "f3f514b7",
   "metadata": {},
   "outputs": [],
   "source": []
  }
 ],
 "metadata": {
  "kernelspec": {
   "display_name": "Python 3 (ipykernel)",
   "language": "python",
   "name": "python3"
  },
  "language_info": {
   "codemirror_mode": {
    "name": "ipython",
    "version": 3
   },
   "file_extension": ".py",
   "mimetype": "text/x-python",
   "name": "python",
   "nbconvert_exporter": "python",
   "pygments_lexer": "ipython3",
   "version": "3.9.12"
  },
  "latex_envs": {
   "LaTeX_envs_menu_present": true,
   "autoclose": false,
   "autocomplete": true,
   "bibliofile": "biblio.bib",
   "cite_by": "apalike",
   "current_citInitial": 1,
   "eqLabelWithNumbers": true,
   "eqNumInitial": 1,
   "hotkeys": {
    "equation": "Ctrl-E",
    "itemize": "Ctrl-I"
   },
   "labels_anchors": false,
   "latex_user_defs": false,
   "report_style_numbering": false,
   "user_envs_cfg": false
  },
  "toc": {
   "base_numbering": 1,
   "nav_menu": {},
   "number_sections": true,
   "sideBar": true,
   "skip_h1_title": false,
   "title_cell": "Table of Contents",
   "title_sidebar": "Contents",
   "toc_cell": false,
   "toc_position": {},
   "toc_section_display": true,
   "toc_window_display": false
  }
 },
 "nbformat": 4,
 "nbformat_minor": 5
}
