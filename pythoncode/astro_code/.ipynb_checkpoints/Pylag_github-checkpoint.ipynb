{
 "cells": [
  {
   "cell_type": "code",
   "execution_count": null,
   "id": "cfb60672",
   "metadata": {},
   "outputs": [],
   "source": [
    "pyLag"
   ]
  },
  {
   "cell_type": "markdown",
   "id": "d9958132",
   "metadata": {},
   "source": [
    "[pyLag](https://github.com/wilkinsdr/pylag)"
   ]
  },
  {
   "cell_type": "markdown",
   "id": "6835e8cc",
   "metadata": {},
   "source": [
    "[pylag_tutorial](https://github.com/wilkinsdr/pyLag/wiki)"
   ]
  },
  {
   "cell_type": "code",
   "execution_count": 2,
   "id": "02585e76",
   "metadata": {
    "ExecuteTime": {
     "end_time": "2022-10-06T12:08:51.449709Z",
     "start_time": "2022-10-06T12:08:49.942215Z"
    }
   },
   "outputs": [],
   "source": [
    "import pyLag"
   ]
  },
  {
   "cell_type": "code",
   "execution_count": null,
   "id": "f3672ca6",
   "metadata": {},
   "outputs": [],
   "source": []
  }
 ],
 "metadata": {
  "kernelspec": {
   "display_name": "Python 3.10",
   "language": "python",
   "name": "py310"
  },
  "language_info": {
   "codemirror_mode": {
    "name": "ipython",
    "version": 3
   },
   "file_extension": ".py",
   "mimetype": "text/x-python",
   "name": "python",
   "nbconvert_exporter": "python",
   "pygments_lexer": "ipython3",
   "version": "3.9.12"
  },
  "latex_envs": {
   "LaTeX_envs_menu_present": true,
   "autoclose": false,
   "autocomplete": true,
   "bibliofile": "biblio.bib",
   "cite_by": "apalike",
   "current_citInitial": 1,
   "eqLabelWithNumbers": true,
   "eqNumInitial": 1,
   "hotkeys": {
    "equation": "Ctrl-E",
    "itemize": "Ctrl-I"
   },
   "labels_anchors": false,
   "latex_user_defs": false,
   "report_style_numbering": false,
   "user_envs_cfg": false
  },
  "toc": {
   "base_numbering": 1,
   "nav_menu": {},
   "number_sections": true,
   "sideBar": true,
   "skip_h1_title": false,
   "title_cell": "Table of Contents",
   "title_sidebar": "Contents",
   "toc_cell": false,
   "toc_position": {},
   "toc_section_display": true,
   "toc_window_display": false
  }
 },
 "nbformat": 4,
 "nbformat_minor": 5
}
