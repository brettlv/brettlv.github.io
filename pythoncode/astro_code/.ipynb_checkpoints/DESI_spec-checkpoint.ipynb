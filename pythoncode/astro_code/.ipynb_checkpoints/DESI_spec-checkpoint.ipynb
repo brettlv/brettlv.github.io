{
 "cells": [
  {
   "cell_type": "markdown",
   "id": "fcfa0398",
   "metadata": {
    "ExecuteTime": {
     "end_time": "2023-09-05T15:18:29.460204Z",
     "start_time": "2023-09-05T15:18:27.974376Z"
    }
   },
   "source": [
    "!pip install fastspecfit"
   ]
  },
  {
   "cell_type": "code",
   "execution_count": 5,
   "id": "56ba0b5d",
   "metadata": {
    "ExecuteTime": {
     "end_time": "2023-09-05T15:20:42.533983Z",
     "start_time": "2023-09-05T15:20:42.524200Z"
    }
   },
   "outputs": [
    {
     "data": {
      "text/plain": [
       "'3.10.4 (main, Mar 31 2022, 03:38:35) [Clang 12.0.0 ]'"
      ]
     },
     "execution_count": 5,
     "metadata": {},
     "output_type": "execute_result"
    }
   ],
   "source": [
    "str(sys.version)"
   ]
  },
  {
   "cell_type": "code",
   "execution_count": 4,
   "id": "30c6a160",
   "metadata": {
    "ExecuteTime": {
     "end_time": "2023-09-05T15:20:08.840490Z",
     "start_time": "2023-09-05T15:20:08.821099Z"
    }
   },
   "outputs": [
    {
     "data": {
      "text/plain": [
       "'/Users/lyubing/opt/anaconda3/envs/py310/bin/python'"
      ]
     },
     "execution_count": 4,
     "metadata": {},
     "output_type": "execute_result"
    }
   ],
   "source": [
    "sys.executable"
   ]
  },
  {
   "cell_type": "code",
   "execution_count": null,
   "id": "cf0a69df",
   "metadata": {},
   "outputs": [],
   "source": [
    "export DESI_ROOT=/path/to/desi/data\n",
    "export DUST_DIR=/path/to/dustmaps\n",
    "export DR9_DIR=/path/to/dr9/data\n",
    "export FTEMPLATES_DIR=/path/to/templates/fastspecfit"
   ]
  },
  {
   "cell_type": "code",
   "execution_count": null,
   "id": "e6b1d5e6",
   "metadata": {},
   "outputs": [],
   "source": []
  },
  {
   "cell_type": "code",
   "execution_count": 2,
   "id": "399c5f55",
   "metadata": {
    "ExecuteTime": {
     "end_time": "2023-09-05T15:19:43.815507Z",
     "start_time": "2023-09-05T15:19:42.736240Z"
    }
   },
   "outputs": [
    {
     "name": "stdout",
     "output_type": "stream",
     "text": [
      "\u001b[31mERROR: Could not find a version that satisfies the requirement fastspecfit (from versions: none)\u001b[0m\u001b[31m\r\n",
      "\u001b[0m\u001b[31mERROR: No matching distribution found for fastspecfit\u001b[0m\u001b[31m\r\n",
      "\u001b[0m"
     ]
    }
   ],
   "source": [
    "#Install a pip package in the current Jupyter kernel\n",
    "import sys\n",
    "!{sys.executable} -m pip install fastspecfit\n"
   ]
  },
  {
   "cell_type": "code",
   "execution_count": null,
   "id": "33fb6e02",
   "metadata": {},
   "outputs": [],
   "source": []
  }
 ],
 "metadata": {
  "kernelspec": {
   "display_name": "Py310",
   "language": "python",
   "name": "py310"
  },
  "language_info": {
   "codemirror_mode": {
    "name": "ipython",
    "version": 3
   },
   "file_extension": ".py",
   "mimetype": "text/x-python",
   "name": "python",
   "nbconvert_exporter": "python",
   "pygments_lexer": "ipython3",
   "version": "3.10.4"
  },
  "latex_envs": {
   "LaTeX_envs_menu_present": true,
   "autoclose": false,
   "autocomplete": true,
   "bibliofile": "biblio.bib",
   "cite_by": "apalike",
   "current_citInitial": 1,
   "eqLabelWithNumbers": true,
   "eqNumInitial": 1,
   "hotkeys": {
    "equation": "Ctrl-E",
    "itemize": "Ctrl-I"
   },
   "labels_anchors": false,
   "latex_user_defs": false,
   "report_style_numbering": false,
   "user_envs_cfg": false
  },
  "toc": {
   "base_numbering": 1,
   "nav_menu": {},
   "number_sections": true,
   "sideBar": true,
   "skip_h1_title": false,
   "title_cell": "Table of Contents",
   "title_sidebar": "Contents",
   "toc_cell": false,
   "toc_position": {},
   "toc_section_display": true,
   "toc_window_display": false
  }
 },
 "nbformat": 4,
 "nbformat_minor": 5
}
