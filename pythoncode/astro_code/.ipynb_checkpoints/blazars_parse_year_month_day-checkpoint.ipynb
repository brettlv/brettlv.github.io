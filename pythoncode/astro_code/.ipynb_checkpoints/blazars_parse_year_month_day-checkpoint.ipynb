{
 "cells": [
  {
   "cell_type": "code",
   "execution_count": 5,
   "metadata": {
    "ExecuteTime": {
     "end_time": "2021-07-23T13:48:30.061481Z",
     "start_time": "2021-07-23T13:48:30.044094Z"
    }
   },
   "outputs": [],
   "source": [
    "%matplotlib inline\n",
    "%config InlineBackend.figure_format='svg'\n",
    "#%config InlineBackend.figure_format='retina'\n",
    "\n",
    "import matplotlib.pyplot as plt\n",
    "import numpy as np\n",
    "import pandas as pd\n",
    "from astropy.stats import LombScargle\n",
    "\n",
    "from scipy import integrate\n",
    "import astropy\n",
    "from astropy.time import Time"
   ]
  },
  {
   "cell_type": "code",
   "execution_count": 4,
   "metadata": {
    "ExecuteTime": {
     "end_time": "2021-07-23T13:48:20.964382Z",
     "start_time": "2021-07-23T13:48:20.934923Z"
    }
   },
   "outputs": [
    {
     "ename": "ModuleNotFoundError",
     "evalue": "No module named 'astroML'",
     "output_type": "error",
     "traceback": [
      "\u001b[0;31m---------------------------------------------------------------------------\u001b[0m",
      "\u001b[0;31mModuleNotFoundError\u001b[0m                       Traceback (most recent call last)",
      "\u001b[0;32m<ipython-input-4-34d2f046cb64>\u001b[0m in \u001b[0;36m<module>\u001b[0;34m\u001b[0m\n\u001b[1;32m     19\u001b[0m \u001b[0;32mimport\u001b[0m \u001b[0mnumpy\u001b[0m \u001b[0;32mas\u001b[0m \u001b[0mnp\u001b[0m\u001b[0;34m\u001b[0m\u001b[0;34m\u001b[0m\u001b[0m\n\u001b[1;32m     20\u001b[0m \u001b[0;32mfrom\u001b[0m \u001b[0mmatplotlib\u001b[0m \u001b[0;32mimport\u001b[0m \u001b[0mpyplot\u001b[0m \u001b[0;32mas\u001b[0m \u001b[0mplt\u001b[0m\u001b[0;34m\u001b[0m\u001b[0;34m\u001b[0m\u001b[0m\n\u001b[0;32m---> 21\u001b[0;31m \u001b[0;32mfrom\u001b[0m \u001b[0mastroML\u001b[0m\u001b[0;34m.\u001b[0m\u001b[0mtime_series\u001b[0m \u001b[0;32mimport\u001b[0m \u001b[0mlomb_scargle\u001b[0m\u001b[0;34m,\u001b[0m \u001b[0mlomb_scargle_BIC\u001b[0m\u001b[0;34m,\u001b[0m \u001b[0mlomb_scargle_bootstrap\u001b[0m\u001b[0;34m\u001b[0m\u001b[0;34m\u001b[0m\u001b[0m\n\u001b[0m\u001b[1;32m     22\u001b[0m \u001b[0;34m\u001b[0m\u001b[0m\n\u001b[1;32m     23\u001b[0m \u001b[0;31m#----------------------------------------------------------------------\u001b[0m\u001b[0;34m\u001b[0m\u001b[0;34m\u001b[0m\u001b[0;34m\u001b[0m\u001b[0m\n",
      "\u001b[0;31mModuleNotFoundError\u001b[0m: No module named 'astroML'"
     ]
    }
   ],
   "source": [
    "\n",
    "\n",
    "\n",
    "%matplotlib inline\n",
    "plt.style.use('seaborn-whitegrid')\n",
    "\n",
    "\n",
    "import numpy as np\n",
    "from matplotlib import pyplot as plt\n",
    "from astroML.time_series import lomb_scargle, lomb_scargle_BIC, lomb_scargle_bootstrap\n",
    "\n",
    "#----------------------------------------------------------------------\n",
    "# This function adjusts matplotlib settings for a uniform feel in the textbook.\n",
    "# Note that with usetex=True, fonts are rendered with LaTeX.  This may\n",
    "# result in an error if LaTeX is not installed on your system.  In that case,\n",
    "# you can set usetex to False.\n",
    "from astroML.plotting import setup_text_plots"
   ]
  },
  {
   "cell_type": "code",
   "execution_count": 7,
   "metadata": {
    "ExecuteTime": {
     "end_time": "2021-07-23T13:50:06.355529Z",
     "start_time": "2021-07-23T13:50:06.255080Z"
    }
   },
   "outputs": [],
   "source": [
    "data3c274=pd.read_excel('/Users/brettlv/blog/IHEP_sync/data/lombscargledata/3c274.xlsx')"
   ]
  },
  {
   "cell_type": "code",
   "execution_count": 8,
   "metadata": {
    "ExecuteTime": {
     "end_time": "2021-07-23T13:50:07.856919Z",
     "start_time": "2021-07-23T13:50:07.782874Z"
    }
   },
   "outputs": [
    {
     "data": {
      "text/html": [
       "<div>\n",
       "<style scoped>\n",
       "    .dataframe tbody tr th:only-of-type {\n",
       "        vertical-align: middle;\n",
       "    }\n",
       "\n",
       "    .dataframe tbody tr th {\n",
       "        vertical-align: top;\n",
       "    }\n",
       "\n",
       "    .dataframe thead th {\n",
       "        text-align: right;\n",
       "    }\n",
       "</style>\n",
       "<table border=\"1\" class=\"dataframe\">\n",
       "  <thead>\n",
       "    <tr style=\"text-align: right;\">\n",
       "      <th></th>\n",
       "      <th>BAND</th>\n",
       "      <th>day</th>\n",
       "      <th>month</th>\n",
       "      <th>year</th>\n",
       "      <th>TIME</th>\n",
       "      <th>OBSERV.</th>\n",
       "      <th>F(GHz)</th>\n",
       "      <th>FLUX(JY)</th>\n",
       "      <th>ERROR</th>\n",
       "      <th>FLUX P.I.</th>\n",
       "    </tr>\n",
       "  </thead>\n",
       "  <tbody>\n",
       "    <tr>\n",
       "      <th>0</th>\n",
       "      <td>1mm</td>\n",
       "      <td>7</td>\n",
       "      <td>Apr</td>\n",
       "      <td>2003</td>\n",
       "      <td>05:27:00</td>\n",
       "      <td>SMA</td>\n",
       "      <td>235.60</td>\n",
       "      <td>1.940</td>\n",
       "      <td>0.107</td>\n",
       "      <td>mgurwell</td>\n",
       "    </tr>\n",
       "    <tr>\n",
       "      <th>1</th>\n",
       "      <td>1mm</td>\n",
       "      <td>12</td>\n",
       "      <td>Aug</td>\n",
       "      <td>2003</td>\n",
       "      <td>05:53:00</td>\n",
       "      <td>SMA</td>\n",
       "      <td>236.00</td>\n",
       "      <td>2.032</td>\n",
       "      <td>0.308</td>\n",
       "      <td>mgurwell</td>\n",
       "    </tr>\n",
       "    <tr>\n",
       "      <th>2</th>\n",
       "      <td>1mm</td>\n",
       "      <td>27</td>\n",
       "      <td>Jan</td>\n",
       "      <td>2004</td>\n",
       "      <td>08:57:00</td>\n",
       "      <td>SMA</td>\n",
       "      <td>224.75</td>\n",
       "      <td>1.388</td>\n",
       "      <td>0.094</td>\n",
       "      <td>mgurwell</td>\n",
       "    </tr>\n",
       "    <tr>\n",
       "      <th>3</th>\n",
       "      <td>1mm</td>\n",
       "      <td>9</td>\n",
       "      <td>Feb</td>\n",
       "      <td>2004</td>\n",
       "      <td>06:25:00</td>\n",
       "      <td>SMA</td>\n",
       "      <td>226.30</td>\n",
       "      <td>1.629</td>\n",
       "      <td>0.247</td>\n",
       "      <td>mgurwell</td>\n",
       "    </tr>\n",
       "    <tr>\n",
       "      <th>4</th>\n",
       "      <td>1mm</td>\n",
       "      <td>5</td>\n",
       "      <td>Mar</td>\n",
       "      <td>2004</td>\n",
       "      <td>07:05:00</td>\n",
       "      <td>SMA</td>\n",
       "      <td>226.30</td>\n",
       "      <td>1.689</td>\n",
       "      <td>0.130</td>\n",
       "      <td>mgurwell</td>\n",
       "    </tr>\n",
       "    <tr>\n",
       "      <th>...</th>\n",
       "      <td>...</td>\n",
       "      <td>...</td>\n",
       "      <td>...</td>\n",
       "      <td>...</td>\n",
       "      <td>...</td>\n",
       "      <td>...</td>\n",
       "      <td>...</td>\n",
       "      <td>...</td>\n",
       "      <td>...</td>\n",
       "      <td>...</td>\n",
       "    </tr>\n",
       "    <tr>\n",
       "      <th>205</th>\n",
       "      <td>1mm</td>\n",
       "      <td>10</td>\n",
       "      <td>May</td>\n",
       "      <td>2018</td>\n",
       "      <td>08:01:00</td>\n",
       "      <td>SMA</td>\n",
       "      <td>225.54</td>\n",
       "      <td>1.305</td>\n",
       "      <td>0.067</td>\n",
       "      <td>mgurwell</td>\n",
       "    </tr>\n",
       "    <tr>\n",
       "      <th>206</th>\n",
       "      <td>1mm</td>\n",
       "      <td>29</td>\n",
       "      <td>May</td>\n",
       "      <td>2018</td>\n",
       "      <td>05:31:00</td>\n",
       "      <td>SMA</td>\n",
       "      <td>237.00</td>\n",
       "      <td>1.189</td>\n",
       "      <td>0.072</td>\n",
       "      <td>mgurwell</td>\n",
       "    </tr>\n",
       "    <tr>\n",
       "      <th>207</th>\n",
       "      <td>1mm</td>\n",
       "      <td>5</td>\n",
       "      <td>Jun</td>\n",
       "      <td>2018</td>\n",
       "      <td>05:16:00</td>\n",
       "      <td>SMA</td>\n",
       "      <td>235.56</td>\n",
       "      <td>1.230</td>\n",
       "      <td>0.062</td>\n",
       "      <td>mgurwell</td>\n",
       "    </tr>\n",
       "    <tr>\n",
       "      <th>208</th>\n",
       "      <td>1mm</td>\n",
       "      <td>21</td>\n",
       "      <td>Aug</td>\n",
       "      <td>2018</td>\n",
       "      <td>04:01:00</td>\n",
       "      <td>SMA</td>\n",
       "      <td>223.52</td>\n",
       "      <td>1.347</td>\n",
       "      <td>0.089</td>\n",
       "      <td>mgurwell</td>\n",
       "    </tr>\n",
       "    <tr>\n",
       "      <th>209</th>\n",
       "      <td>1mm</td>\n",
       "      <td>21</td>\n",
       "      <td>Aug</td>\n",
       "      <td>2018</td>\n",
       "      <td>21:42:00</td>\n",
       "      <td>SMA</td>\n",
       "      <td>223.52</td>\n",
       "      <td>1.428</td>\n",
       "      <td>0.103</td>\n",
       "      <td>mgurwell</td>\n",
       "    </tr>\n",
       "  </tbody>\n",
       "</table>\n",
       "<p>210 rows × 10 columns</p>\n",
       "</div>"
      ],
      "text/plain": [
       "    BAND  day month  year      TIME OBSERV.  F(GHz)  FLUX(JY)    ERROR    \\\n",
       "0    1mm    7   Apr  2003  05:27:00     SMA  235.60     1.940      0.107   \n",
       "1    1mm   12   Aug  2003  05:53:00     SMA  236.00     2.032      0.308   \n",
       "2    1mm   27   Jan  2004  08:57:00     SMA  224.75     1.388      0.094   \n",
       "3    1mm    9   Feb  2004  06:25:00     SMA  226.30     1.629      0.247   \n",
       "4    1mm    5   Mar  2004  07:05:00     SMA  226.30     1.689      0.130   \n",
       "..   ...  ...   ...   ...       ...     ...     ...       ...        ...   \n",
       "205  1mm   10   May  2018  08:01:00     SMA  225.54     1.305      0.067   \n",
       "206  1mm   29   May  2018  05:31:00     SMA  237.00     1.189      0.072   \n",
       "207  1mm    5   Jun  2018  05:16:00     SMA  235.56     1.230      0.062   \n",
       "208  1mm   21   Aug  2018  04:01:00     SMA  223.52     1.347      0.089   \n",
       "209  1mm   21   Aug  2018  21:42:00     SMA  223.52     1.428      0.103   \n",
       "\n",
       "      FLUX P.I.  \n",
       "0      mgurwell  \n",
       "1      mgurwell  \n",
       "2      mgurwell  \n",
       "3      mgurwell  \n",
       "4      mgurwell  \n",
       "..          ...  \n",
       "205    mgurwell  \n",
       "206    mgurwell  \n",
       "207    mgurwell  \n",
       "208    mgurwell  \n",
       "209    mgurwell  \n",
       "\n",
       "[210 rows x 10 columns]"
      ]
     },
     "execution_count": 8,
     "metadata": {},
     "output_type": "execute_result"
    }
   ],
   "source": [
    "data3c274"
   ]
  },
  {
   "cell_type": "code",
   "execution_count": 9,
   "metadata": {
    "ExecuteTime": {
     "end_time": "2021-07-23T13:50:11.600673Z",
     "start_time": "2021-07-23T13:50:11.594825Z"
    }
   },
   "outputs": [],
   "source": [
    "from astropy.time import Time\n",
    "from astropy.time import TimeYearDayTime\n",
    "from datetime import datetime\n",
    "from time import strftime,strptime\n",
    "import calendar\n",
    "from dateutil.parser import parse"
   ]
  },
  {
   "cell_type": "code",
   "execution_count": 10,
   "metadata": {
    "ExecuteTime": {
     "end_time": "2021-07-23T13:50:12.294479Z",
     "start_time": "2021-07-23T13:50:12.287542Z"
    }
   },
   "outputs": [],
   "source": [
    "day=data3c274['day']\n",
    "month=data3c274['month']\n",
    "year=data3c274['year']\n",
    "time=data3c274['TIME']"
   ]
  },
  {
   "cell_type": "code",
   "execution_count": 11,
   "metadata": {
    "ExecuteTime": {
     "end_time": "2021-07-23T13:50:16.152157Z",
     "start_time": "2021-07-23T13:50:16.144674Z"
    }
   },
   "outputs": [],
   "source": [
    "month_number=[]\n",
    "for i in month.values:\n",
    "    month_number.append(strptime(i,'%b').tm_mon)"
   ]
  },
  {
   "cell_type": "code",
   "execution_count": 12,
   "metadata": {
    "ExecuteTime": {
     "end_time": "2021-07-23T13:50:17.999605Z",
     "start_time": "2021-07-23T13:50:17.991648Z"
    }
   },
   "outputs": [
    {
     "data": {
      "text/plain": [
       "datetime.time(5, 27)"
      ]
     },
     "execution_count": 12,
     "metadata": {},
     "output_type": "execute_result"
    }
   ],
   "source": [
    "time.values[0]"
   ]
  },
  {
   "cell_type": "code",
   "execution_count": 13,
   "metadata": {
    "ExecuteTime": {
     "end_time": "2021-07-23T13:50:22.757102Z",
     "start_time": "2021-07-23T13:50:22.752602Z"
    }
   },
   "outputs": [],
   "source": [
    "h=[]\n",
    "m=[]\n",
    "for i in time.values:\n",
    "    h.append(i.hour)\n",
    "    m.append(i.minute)\n",
    "    #h.append(i.split(\":\")[0])\n",
    "    #m.append(i.split(\":\")[1])"
   ]
  },
  {
   "cell_type": "code",
   "execution_count": 14,
   "metadata": {
    "ExecuteTime": {
     "end_time": "2021-07-23T13:50:28.693868Z",
     "start_time": "2021-07-23T13:50:28.685928Z"
    }
   },
   "outputs": [],
   "source": [
    "data3c274['mon_num']=month_number\n",
    "data3c274['hour']=h\n",
    "data3c274['minute']=m"
   ]
  },
  {
   "cell_type": "code",
   "execution_count": 17,
   "metadata": {
    "ExecuteTime": {
     "end_time": "2021-07-23T13:51:17.598574Z",
     "start_time": "2021-07-23T13:51:17.536434Z"
    }
   },
   "outputs": [],
   "source": [
    "timesut=[]\n",
    "for i,(d_,m_,y_,h_,mi_) in enumerate(zip(day,month_number,year,h,m)):                 \n",
    "    timesut.append(Time(datetime(y_,m_,d_,h_,mi_,0),scale='utc').mjd)    \n",
    "data3c274['mjd']=timesut"
   ]
  },
  {
   "cell_type": "code",
   "execution_count": 18,
   "metadata": {
    "ExecuteTime": {
     "end_time": "2021-07-23T13:51:19.399212Z",
     "start_time": "2021-07-23T13:51:19.371673Z"
    }
   },
   "outputs": [
    {
     "data": {
      "text/html": [
       "<div>\n",
       "<style scoped>\n",
       "    .dataframe tbody tr th:only-of-type {\n",
       "        vertical-align: middle;\n",
       "    }\n",
       "\n",
       "    .dataframe tbody tr th {\n",
       "        vertical-align: top;\n",
       "    }\n",
       "\n",
       "    .dataframe thead th {\n",
       "        text-align: right;\n",
       "    }\n",
       "</style>\n",
       "<table border=\"1\" class=\"dataframe\">\n",
       "  <thead>\n",
       "    <tr style=\"text-align: right;\">\n",
       "      <th></th>\n",
       "      <th>BAND</th>\n",
       "      <th>day</th>\n",
       "      <th>month</th>\n",
       "      <th>year</th>\n",
       "      <th>TIME</th>\n",
       "      <th>OBSERV.</th>\n",
       "      <th>F(GHz)</th>\n",
       "      <th>FLUX(JY)</th>\n",
       "      <th>ERROR</th>\n",
       "      <th>FLUX P.I.</th>\n",
       "      <th>mon_num</th>\n",
       "      <th>hour</th>\n",
       "      <th>minute</th>\n",
       "      <th>mjd</th>\n",
       "    </tr>\n",
       "  </thead>\n",
       "  <tbody>\n",
       "    <tr>\n",
       "      <th>0</th>\n",
       "      <td>1mm</td>\n",
       "      <td>7</td>\n",
       "      <td>Apr</td>\n",
       "      <td>2003</td>\n",
       "      <td>05:27:00</td>\n",
       "      <td>SMA</td>\n",
       "      <td>235.60</td>\n",
       "      <td>1.940</td>\n",
       "      <td>0.107</td>\n",
       "      <td>mgurwell</td>\n",
       "      <td>4</td>\n",
       "      <td>5</td>\n",
       "      <td>27</td>\n",
       "      <td>52736.227083</td>\n",
       "    </tr>\n",
       "    <tr>\n",
       "      <th>1</th>\n",
       "      <td>1mm</td>\n",
       "      <td>12</td>\n",
       "      <td>Aug</td>\n",
       "      <td>2003</td>\n",
       "      <td>05:53:00</td>\n",
       "      <td>SMA</td>\n",
       "      <td>236.00</td>\n",
       "      <td>2.032</td>\n",
       "      <td>0.308</td>\n",
       "      <td>mgurwell</td>\n",
       "      <td>8</td>\n",
       "      <td>5</td>\n",
       "      <td>53</td>\n",
       "      <td>52863.245139</td>\n",
       "    </tr>\n",
       "    <tr>\n",
       "      <th>2</th>\n",
       "      <td>1mm</td>\n",
       "      <td>27</td>\n",
       "      <td>Jan</td>\n",
       "      <td>2004</td>\n",
       "      <td>08:57:00</td>\n",
       "      <td>SMA</td>\n",
       "      <td>224.75</td>\n",
       "      <td>1.388</td>\n",
       "      <td>0.094</td>\n",
       "      <td>mgurwell</td>\n",
       "      <td>1</td>\n",
       "      <td>8</td>\n",
       "      <td>57</td>\n",
       "      <td>53031.372917</td>\n",
       "    </tr>\n",
       "    <tr>\n",
       "      <th>3</th>\n",
       "      <td>1mm</td>\n",
       "      <td>9</td>\n",
       "      <td>Feb</td>\n",
       "      <td>2004</td>\n",
       "      <td>06:25:00</td>\n",
       "      <td>SMA</td>\n",
       "      <td>226.30</td>\n",
       "      <td>1.629</td>\n",
       "      <td>0.247</td>\n",
       "      <td>mgurwell</td>\n",
       "      <td>2</td>\n",
       "      <td>6</td>\n",
       "      <td>25</td>\n",
       "      <td>53044.267361</td>\n",
       "    </tr>\n",
       "    <tr>\n",
       "      <th>4</th>\n",
       "      <td>1mm</td>\n",
       "      <td>5</td>\n",
       "      <td>Mar</td>\n",
       "      <td>2004</td>\n",
       "      <td>07:05:00</td>\n",
       "      <td>SMA</td>\n",
       "      <td>226.30</td>\n",
       "      <td>1.689</td>\n",
       "      <td>0.130</td>\n",
       "      <td>mgurwell</td>\n",
       "      <td>3</td>\n",
       "      <td>7</td>\n",
       "      <td>5</td>\n",
       "      <td>53069.295139</td>\n",
       "    </tr>\n",
       "    <tr>\n",
       "      <th>...</th>\n",
       "      <td>...</td>\n",
       "      <td>...</td>\n",
       "      <td>...</td>\n",
       "      <td>...</td>\n",
       "      <td>...</td>\n",
       "      <td>...</td>\n",
       "      <td>...</td>\n",
       "      <td>...</td>\n",
       "      <td>...</td>\n",
       "      <td>...</td>\n",
       "      <td>...</td>\n",
       "      <td>...</td>\n",
       "      <td>...</td>\n",
       "      <td>...</td>\n",
       "    </tr>\n",
       "    <tr>\n",
       "      <th>205</th>\n",
       "      <td>1mm</td>\n",
       "      <td>10</td>\n",
       "      <td>May</td>\n",
       "      <td>2018</td>\n",
       "      <td>08:01:00</td>\n",
       "      <td>SMA</td>\n",
       "      <td>225.54</td>\n",
       "      <td>1.305</td>\n",
       "      <td>0.067</td>\n",
       "      <td>mgurwell</td>\n",
       "      <td>5</td>\n",
       "      <td>8</td>\n",
       "      <td>1</td>\n",
       "      <td>58248.334028</td>\n",
       "    </tr>\n",
       "    <tr>\n",
       "      <th>206</th>\n",
       "      <td>1mm</td>\n",
       "      <td>29</td>\n",
       "      <td>May</td>\n",
       "      <td>2018</td>\n",
       "      <td>05:31:00</td>\n",
       "      <td>SMA</td>\n",
       "      <td>237.00</td>\n",
       "      <td>1.189</td>\n",
       "      <td>0.072</td>\n",
       "      <td>mgurwell</td>\n",
       "      <td>5</td>\n",
       "      <td>5</td>\n",
       "      <td>31</td>\n",
       "      <td>58267.229861</td>\n",
       "    </tr>\n",
       "    <tr>\n",
       "      <th>207</th>\n",
       "      <td>1mm</td>\n",
       "      <td>5</td>\n",
       "      <td>Jun</td>\n",
       "      <td>2018</td>\n",
       "      <td>05:16:00</td>\n",
       "      <td>SMA</td>\n",
       "      <td>235.56</td>\n",
       "      <td>1.230</td>\n",
       "      <td>0.062</td>\n",
       "      <td>mgurwell</td>\n",
       "      <td>6</td>\n",
       "      <td>5</td>\n",
       "      <td>16</td>\n",
       "      <td>58274.219444</td>\n",
       "    </tr>\n",
       "    <tr>\n",
       "      <th>208</th>\n",
       "      <td>1mm</td>\n",
       "      <td>21</td>\n",
       "      <td>Aug</td>\n",
       "      <td>2018</td>\n",
       "      <td>04:01:00</td>\n",
       "      <td>SMA</td>\n",
       "      <td>223.52</td>\n",
       "      <td>1.347</td>\n",
       "      <td>0.089</td>\n",
       "      <td>mgurwell</td>\n",
       "      <td>8</td>\n",
       "      <td>4</td>\n",
       "      <td>1</td>\n",
       "      <td>58351.167361</td>\n",
       "    </tr>\n",
       "    <tr>\n",
       "      <th>209</th>\n",
       "      <td>1mm</td>\n",
       "      <td>21</td>\n",
       "      <td>Aug</td>\n",
       "      <td>2018</td>\n",
       "      <td>21:42:00</td>\n",
       "      <td>SMA</td>\n",
       "      <td>223.52</td>\n",
       "      <td>1.428</td>\n",
       "      <td>0.103</td>\n",
       "      <td>mgurwell</td>\n",
       "      <td>8</td>\n",
       "      <td>21</td>\n",
       "      <td>42</td>\n",
       "      <td>58351.904167</td>\n",
       "    </tr>\n",
       "  </tbody>\n",
       "</table>\n",
       "<p>210 rows × 14 columns</p>\n",
       "</div>"
      ],
      "text/plain": [
       "    BAND  day month  year      TIME OBSERV.  F(GHz)  FLUX(JY)    ERROR    \\\n",
       "0    1mm    7   Apr  2003  05:27:00     SMA  235.60     1.940      0.107   \n",
       "1    1mm   12   Aug  2003  05:53:00     SMA  236.00     2.032      0.308   \n",
       "2    1mm   27   Jan  2004  08:57:00     SMA  224.75     1.388      0.094   \n",
       "3    1mm    9   Feb  2004  06:25:00     SMA  226.30     1.629      0.247   \n",
       "4    1mm    5   Mar  2004  07:05:00     SMA  226.30     1.689      0.130   \n",
       "..   ...  ...   ...   ...       ...     ...     ...       ...        ...   \n",
       "205  1mm   10   May  2018  08:01:00     SMA  225.54     1.305      0.067   \n",
       "206  1mm   29   May  2018  05:31:00     SMA  237.00     1.189      0.072   \n",
       "207  1mm    5   Jun  2018  05:16:00     SMA  235.56     1.230      0.062   \n",
       "208  1mm   21   Aug  2018  04:01:00     SMA  223.52     1.347      0.089   \n",
       "209  1mm   21   Aug  2018  21:42:00     SMA  223.52     1.428      0.103   \n",
       "\n",
       "      FLUX P.I.  mon_num  hour  minute           mjd  \n",
       "0      mgurwell        4     5      27  52736.227083  \n",
       "1      mgurwell        8     5      53  52863.245139  \n",
       "2      mgurwell        1     8      57  53031.372917  \n",
       "3      mgurwell        2     6      25  53044.267361  \n",
       "4      mgurwell        3     7       5  53069.295139  \n",
       "..          ...      ...   ...     ...           ...  \n",
       "205    mgurwell        5     8       1  58248.334028  \n",
       "206    mgurwell        5     5      31  58267.229861  \n",
       "207    mgurwell        6     5      16  58274.219444  \n",
       "208    mgurwell        8     4       1  58351.167361  \n",
       "209    mgurwell        8    21      42  58351.904167  \n",
       "\n",
       "[210 rows x 14 columns]"
      ]
     },
     "execution_count": 18,
     "metadata": {},
     "output_type": "execute_result"
    }
   ],
   "source": [
    "data3c274"
   ]
  },
  {
   "cell_type": "code",
   "execution_count": null,
   "metadata": {
    "collapsed": true
   },
   "outputs": [],
   "source": []
  },
  {
   "cell_type": "code",
   "execution_count": 34,
   "metadata": {
    "ExecuteTime": {
     "end_time": "2019-01-14T13:26:20.711829Z",
     "start_time": "2019-01-14T13:26:20.477487Z"
    },
    "collapsed": true
   },
   "outputs": [],
   "source": [
    "data3c279=pd.read_excel('/Users/brettlv/blog/IHEP_sync/file_to_mac/data/3c279.xlsx')\n",
    "day=data3c279['day']\n",
    "month=data3c279['month']\n",
    "year=data3c279['year']\n",
    "time=data3c279['TIME']\n",
    "month_number=[]\n",
    "for i in month.values:\n",
    "    month_number.append(strptime(i,'%b').tm_mon)\n",
    "h=[]\n",
    "m=[]\n",
    "for i in time.values:\n",
    "    h.append(i.hour)\n",
    "    m.append(i.minute)\n",
    "    #h.append(i.split(\":\")[0])\n",
    "    #m.append(i.split(\":\")[1])  \n",
    "    \n",
    "data3c279['mon_num']=month_number\n",
    "data3c279['hour']=h\n",
    "data3c279['minute']=m   \n",
    "timesut=[]\n",
    "for i,(d_,m_,y_,h_,mi_) in enumerate(zip(day,month_number,year,h,m)):                 \n",
    "    timesut.append(Time(datetime(y_,m_,d_,h_,mi_,0),scale='ut1').mjd)    \n",
    "data3c279['mjd']=timesut\n",
    "#data3c279.to_csv('/Users/brettlv/blog/IHEP_sync/file_to_mac/data/3c279time.csv')  "
   ]
  },
  {
   "cell_type": "code",
   "execution_count": 36,
   "metadata": {
    "ExecuteTime": {
     "end_time": "2019-01-14T13:43:10.096358Z",
     "start_time": "2019-01-14T13:43:09.862106Z"
    }
   },
   "outputs": [],
   "source": [
    "data3c345=pd.read_excel('/Users/brettlv/blog/IHEP_sync/file_to_mac/data/3c345.xlsx')\n",
    "day=data3c345['day']\n",
    "month=data3c345['month']\n",
    "year=data3c345['year']\n",
    "time=data3c345['TIME']\n",
    "month_number=[]\n",
    "for i in month.values:\n",
    "    month_number.append(strptime(i,'%b').tm_mon)\n",
    "h=[]\n",
    "m=[]\n",
    "for i in time.values:\n",
    "    h.append(i.hour)\n",
    "    m.append(i.minute)\n",
    "    #h.append(i.split(\":\")[0])\n",
    "    #m.append(i.split(\":\")[1])  \n",
    "    \n",
    "data3c345['mon_num']=month_number\n",
    "data3c345['hour']=h\n",
    "data3c345['minute']=m   \n",
    "timesut=[]\n",
    "for i,(d_,m_,y_,h_,mi_) in enumerate(zip(day,month_number,year,h,m)):                 \n",
    "    timesut.append(Time(datetime(y_,m_,d_,h_,mi_,0),scale='ut1').mjd)    \n",
    "data3c345['mjd']=timesut\n",
    "#data3c345.to_csv('/Users/brettlv/blog/IHEP_sync/file_to_mac/data/3c345time.csv') "
   ]
  },
  {
   "cell_type": "code",
   "execution_count": 37,
   "metadata": {
    "ExecuteTime": {
     "end_time": "2019-01-14T13:45:07.864870Z",
     "start_time": "2019-01-14T13:45:07.530374Z"
    },
    "collapsed": true
   },
   "outputs": [],
   "source": [
    "data3c454_3=pd.read_excel('/Users/brettlv/blog/IHEP_sync/file_to_mac/data/3c454.3.xlsx')\n",
    "day=data3c454_3['day']\n",
    "month=data3c454_3['month']\n",
    "year=data3c454_3['year']\n",
    "time=data3c454_3['TIME']\n",
    "month_number=[]\n",
    "for i in month.values:\n",
    "    month_number.append(strptime(i,'%b').tm_mon)\n",
    "h=[]\n",
    "m=[]\n",
    "for i in time.values:\n",
    "    h.append(i.hour)\n",
    "    m.append(i.minute)\n",
    "    #h.append(i.split(\":\")[0])\n",
    "    #m.append(i.split(\":\")[1])  \n",
    "    \n",
    "data3c454_3['mon_num']=month_number\n",
    "data3c454_3['hour']=h\n",
    "data3c454_3['minute']=m   \n",
    "timesut=[]\n",
    "for i,(d_,m_,y_,h_,mi_) in enumerate(zip(day,month_number,year,h,m)):                 \n",
    "    timesut.append(Time(datetime(y_,m_,d_,h_,mi_,0),scale='ut1').mjd)    \n",
    "data3c454_3['mjd']=timesut\n",
    "#data3c454_3.to_csv('/Users/brettlv/blog/IHEP_sync/file_to_mac/data/3c454_3time.csv') "
   ]
  },
  {
   "cell_type": "code",
   "execution_count": null,
   "metadata": {
    "collapsed": true
   },
   "outputs": [],
   "source": []
  },
  {
   "cell_type": "code",
   "execution_count": null,
   "metadata": {
    "collapsed": true
   },
   "outputs": [],
   "source": []
  },
  {
   "cell_type": "code",
   "execution_count": null,
   "metadata": {
    "collapsed": true
   },
   "outputs": [],
   "source": []
  },
  {
   "cell_type": "code",
   "execution_count": null,
   "metadata": {
    "collapsed": true
   },
   "outputs": [],
   "source": []
  }
 ],
 "metadata": {
  "kernelspec": {
   "display_name": "Python 3",
   "language": "python",
   "name": "python3"
  },
  "language_info": {
   "codemirror_mode": {
    "name": "ipython",
    "version": 3
   },
   "file_extension": ".py",
   "mimetype": "text/x-python",
   "name": "python",
   "nbconvert_exporter": "python",
   "pygments_lexer": "ipython3",
   "version": "3.8.5"
  },
  "latex_envs": {
   "LaTeX_envs_menu_present": true,
   "autocomplete": true,
   "bibliofile": "biblio.bib",
   "cite_by": "apalike",
   "current_citInitial": 1,
   "eqLabelWithNumbers": true,
   "eqNumInitial": 1,
   "hotkeys": {
    "equation": "Ctrl-E",
    "itemize": "Ctrl-I"
   },
   "labels_anchors": false,
   "latex_user_defs": false,
   "report_style_numbering": false,
   "user_envs_cfg": false
  },
  "toc": {
   "nav_menu": {},
   "number_sections": true,
   "sideBar": true,
   "skip_h1_title": false,
   "toc_cell": false,
   "toc_position": {},
   "toc_section_display": "block",
   "toc_window_display": false
  }
 },
 "nbformat": 4,
 "nbformat_minor": 2
}
