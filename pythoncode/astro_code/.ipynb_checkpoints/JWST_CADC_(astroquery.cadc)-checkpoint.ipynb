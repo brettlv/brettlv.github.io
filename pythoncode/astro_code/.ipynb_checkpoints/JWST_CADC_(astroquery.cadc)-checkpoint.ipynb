{
 "cells": [
  {
   "cell_type": "code",
   "execution_count": 43,
   "id": "85b157a9",
   "metadata": {
    "ExecuteTime": {
     "end_time": "2022-10-06T08:49:41.572465Z",
     "start_time": "2022-10-06T08:49:41.565976Z"
    }
   },
   "outputs": [],
   "source": [
    "from astropy import units as u"
   ]
  },
  {
   "cell_type": "code",
   "execution_count": 34,
   "id": "5eff8efb",
   "metadata": {
    "ExecuteTime": {
     "end_time": "2022-10-06T08:40:11.085518Z",
     "start_time": "2022-10-06T08:40:10.600689Z"
    }
   },
   "outputs": [],
   "source": [
    "from astropy.time import Time\n",
    "from astropy.io import fits\n",
    "import time\n",
    "from matplotlib.pyplot import MultipleLocator\n",
    "import matplotlib.dates as mdates\n",
    "\n",
    "def datetime2mjd(x):\n",
    "    mjd_ref=59000\n",
    "    mjd_minus_mdates_num=mdates.date2num(convert_xaxis_time(mjd_ref))-mjd_ref\n",
    "    \n",
    "    x=mdates.date2num(x)\n",
    "    y = x - mjd_minus_mdates_num   \n",
    "    return y\n",
    "\n",
    "def mjd2datetime(x):\n",
    "    mjd_ref=59000\n",
    "    mjd_minus_mdates_num=mdates.date2num(convert_xaxis_time(mjd_ref))-mjd_ref\n",
    "    y= x + mjd_minus_mdates_num\n",
    "    y= mdates.num2date(y)\n",
    "    return y\n",
    "\n",
    "\n",
    "\n",
    "def datenums2mjd(x):\n",
    "    #x=mdates.date2num(x)\n",
    "    mjd_ref=59000\n",
    "    mjd_minus_mdates_num=mdates.date2num(convert_xaxis_time(mjd_ref))-mjd_ref\n",
    "    y = x - mjd_minus_mdates_num   \n",
    "    return y\n",
    "\n",
    "def mjd2numsdate(x):\n",
    "    mjd_ref=59000\n",
    "    mjd_minus_mdates_num=mdates.date2num(convert_xaxis_time(mjd_ref))-mjd_ref\n",
    "    \n",
    "    y= x + mjd_minus_mdates_num\n",
    "    #y= mdates.num2date(y)\n",
    "    return y\n",
    "\n",
    "\n",
    "def convert_xaxis_mjd(time):\n",
    "    return Time(time).mjd   \n",
    "\n",
    "def convert_xaxis_time(mjd):\n",
    "    return Time(mjd,format='mjd').to_datetime()\n",
    "\n",
    "\n",
    "def date2yday(x):\n",
    "    \"\"\"\n",
    "    x is in matplotlib datenums, so they are floats.\n",
    "    \"\"\"\n",
    "    y = x - mdates.date2num(datetime(2018, 1, 1))\n",
    "    return y\n",
    "\n",
    "def yday2date(x):\n",
    "    \"\"\"\n",
    "    return a matplotlib datenum (x is days since start of year of 2018)\n",
    "    \"\"\"\n",
    "    y = x + mdates.date2num(datetime(2018, 1, 1))\n",
    "    return y\n",
    "\n",
    "\n",
    "def convert_partial_year(numbers):\n",
    "    datetimes=[]\n",
    "    for number in numbers:\n",
    "        year = int(number)\n",
    "        d = timedelta(days=(number - year)*(365 + is_leap(year)))\n",
    "        day_one = datetime(year,1,1)\n",
    "        date = d + day_one\n",
    "        datetimes.append(date)\n",
    "    return datetimes\n",
    "\n",
    "\n",
    "def is_leap(year):\n",
    "    if not year%4 and  year%100 or not year%400:\n",
    "        return True\n",
    "    return False\n",
    "\n",
    "\n",
    "def convert_mjd(times):\n",
    "    timesmjd=[]\n",
    "    for i in times:\n",
    "        timesmjd.append(Time(i).mjd)\n",
    "    return timesmjd  \n",
    "\n",
    "\n",
    "def convert_date(times):\n",
    "    timesdate=[]\n",
    "    for i in times:\n",
    "        timesdate.append(Time(i,format='mjd').datetime)\n",
    "    return timesdate\n",
    "\n",
    "def convert_date_single(time):\n",
    "    timedate=Time(time,format='mjd').datetime\n",
    "    return timedate"
   ]
  },
  {
   "cell_type": "code",
   "execution_count": null,
   "id": "a82f95d6",
   "metadata": {},
   "outputs": [],
   "source": []
  },
  {
   "cell_type": "markdown",
   "id": "bbf23f2c",
   "metadata": {},
   "source": [
    "# CADC (astroquery.cadc)"
   ]
  },
  {
   "cell_type": "code",
   "execution_count": 2,
   "id": "826906e7",
   "metadata": {
    "ExecuteTime": {
     "end_time": "2022-10-06T08:27:56.124755Z",
     "start_time": "2022-10-06T08:27:56.114179Z"
    }
   },
   "outputs": [],
   "source": [
    "from astroquery.cadc import Cadc\n",
    "cadc = Cadc()"
   ]
  },
  {
   "cell_type": "code",
   "execution_count": 3,
   "id": "326e2ac8",
   "metadata": {
    "ExecuteTime": {
     "end_time": "2022-10-06T08:28:02.202859Z",
     "start_time": "2022-10-06T08:27:59.106652Z"
    }
   },
   "outputs": [
    {
     "name": "stdout",
     "output_type": "stream",
     "text": [
      "APASS : {'Description': 'The APASS collection at the CADC', 'Bands': ['Optical', 'Infrared|Optical', '']}\n",
      "BLAST : {'Description': 'The BLAST collection at the CADC', 'Bands': ['', 'Millimeter']}\n",
      "CFHT : {'Description': 'The CFHT collection at the CADC', 'Bands': ['Infrared|Optical', 'Infrared|Optical|UV', '', 'Optical', 'Infrared']}\n",
      "CFHTMEGAPIPE : {'Description': 'The CFHTMEGAPIPE collection at the CADC', 'Bands': ['', 'Infrared|Optical', 'Optical']}\n",
      "CFHTTERAPIX : {'Description': 'The CFHTTERAPIX collection at the CADC', 'Bands': ['Infrared|Optical', 'Optical', 'Infrared']}\n",
      "CFHTWIRWOLF : {'Description': 'The CFHTWIRWOLF collection at the CADC', 'Bands': ['Infrared']}\n",
      "CGPS : {'Description': 'The CGPS collection at the CADC', 'Bands': ['Infrared', 'Radio', 'Millimeter', '', 'Millimeter|Infrared']}\n",
      "CHANDRA : {'Description': 'The CHANDRA collection at the CADC', 'Bands': ['X-ray']}\n",
      "DAO : {'Description': 'The DAO collection at the CADC', 'Bands': ['', 'Infrared|Optical', 'Optical|UV', 'Infrared', 'Optical']}\n",
      "DAOCADC : {'Description': 'The DAOCADC collection at the CADC', 'Bands': ['Optical', '']}\n",
      "DAOPLATES : {'Description': 'The DAOPLATES collection at the CADC', 'Bands': ['Optical', '']}\n",
      "DRAO : {'Description': 'The DRAO collection at the CADC', 'Bands': ['Radio']}\n",
      "FUSE : {'Description': 'The FUSE collection at the CADC', 'Bands': ['UV|EUV', '']}\n",
      "GEMINI : {'Description': 'The GEMINI collection at the CADC', 'Bands': ['Infrared|Optical|UV|EUV|X-ray|Ga', 'Infrared', 'Optical', 'Infrared|Optical', 'Optical|UV', '']}\n",
      "GEMINICADC : {'Description': 'The GEMINICADC collection at the CADC', 'Bands': ['', 'Infrared|Optical', 'Infrared']}\n",
      "HST : {'Description': 'The HST collection at the CADC', 'Bands': ['', 'Infrared', 'Optical', 'UV']}\n",
      "HSTHLA : {'Description': 'The HSTHLA collection at the CADC', 'Bands': ['Optical', 'Infrared', 'UV', 'Infrared|Optical', 'Infrared|Optical|UV', 'Optical|UV']}\n",
      "IRIS : {'Description': 'The IRIS collection at the CADC', 'Bands': ['Millimeter|Infrared', 'Infrared']}\n",
      "JCMT : {'Description': 'The JCMT collection at the CADC', 'Bands': ['', 'Millimeter']}\n",
      "JCMTLS : {'Description': 'The JCMTLS collection at the CADC', 'Bands': ['Millimeter', '']}\n",
      "JWST : {'Description': 'The JWST collection at the CADC', 'Bands': ['', 'Infrared']}\n",
      "MACHO : {'Description': 'The MACHO collection at the CADC', 'Bands': ['Optical']}\n",
      "MOST : {'Description': 'The MOST collection at the CADC', 'Bands': ['Optical']}\n",
      "NEOSSAT : {'Description': 'The NEOSSAT collection at the CADC', 'Bands': ['Optical']}\n",
      "NGVS : {'Description': 'The NGVS collection at the CADC', 'Bands': ['Infrared|Optical', '', 'Optical']}\n",
      "NOAO : {'Description': 'The NOAO collection at the CADC', 'Bands': ['Optical', 'Infrared']}\n",
      "OMM : {'Description': 'The OMM collection at the CADC', 'Bands': ['Optical', 'Infrared', '']}\n",
      "RACS : {'Description': 'The RACS collection at the CADC', 'Bands': ['Radio']}\n",
      "SDSS : {'Description': 'The SDSS collection at the CADC', 'Bands': ['Infrared', 'Optical']}\n",
      "SUBARU : {'Description': 'The SUBARU collection at the CADC', 'Bands': ['Optical']}\n",
      "SUBARUCADC : {'Description': 'The SUBARUCADC collection at the CADC', 'Bands': ['Optical', 'Infrared|Optical']}\n",
      "TESS : {'Description': 'The TESS collection at the CADC', 'Bands': ['Optical']}\n",
      "UKIRT : {'Description': 'The UKIRT collection at the CADC', 'Bands': ['Infrared|Optical', '', 'Optical', 'Infrared']}\n",
      "VGPS : {'Description': 'The VGPS collection at the CADC', 'Bands': ['Radio']}\n",
      "VLASS : {'Description': 'The VLASS collection at the CADC', 'Bands': ['', 'Radio']}\n",
      "WALLABY : {'Description': 'The WALLABY collection at the CADC', 'Bands': ['Radio']}\n",
      "XMM : {'Description': 'The XMM collection at the CADC', 'Bands': ['Optical', 'UV', 'X-ray']}\n"
     ]
    }
   ],
   "source": [
    "for collection, details in sorted(cadc.get_collections().items()):\n",
    "    print(f'{collection} : {details}')"
   ]
  },
  {
   "cell_type": "markdown",
   "id": "b719f3c3",
   "metadata": {},
   "source": [
    "## NGC 4151"
   ]
  },
  {
   "cell_type": "code",
   "execution_count": 21,
   "id": "fdd3d869",
   "metadata": {
    "ExecuteTime": {
     "end_time": "2022-10-06T08:35:39.210195Z",
     "start_time": "2022-10-06T08:35:38.270091Z"
    }
   },
   "outputs": [],
   "source": [
    "from astroquery.ipac.ned import Ned\n",
    "result_table = Ned.query_object(\"NGC 4151\")"
   ]
  },
  {
   "cell_type": "code",
   "execution_count": 22,
   "id": "706c0a95",
   "metadata": {
    "ExecuteTime": {
     "end_time": "2022-10-06T08:35:39.293837Z",
     "start_time": "2022-10-06T08:35:39.281556Z"
    }
   },
   "outputs": [
    {
     "data": {
      "text/html": [
       "<div><i>Table length=1</i>\n",
       "<table id=\"table140310447386832\" class=\"table-striped table-bordered table-condensed\">\n",
       "<thead><tr><th>No.</th><th>Object Name</th><th>RA</th><th>DEC</th><th>Type</th><th>Velocity</th><th>Redshift</th><th>Redshift Flag</th><th>Magnitude and Filter</th><th>Separation</th><th>References</th><th>Notes</th><th>Photometry Points</th><th>Positions</th><th>Redshift Points</th><th>Diameter Points</th><th>Associations</th></tr></thead>\n",
       "<thead><tr><th></th><th></th><th>degrees</th><th>degrees</th><th></th><th>km / s</th><th></th><th></th><th></th><th>arcmin</th><th></th><th></th><th></th><th></th><th></th><th></th><th></th></tr></thead>\n",
       "<thead><tr><th>int32</th><th>str30</th><th>float64</th><th>float64</th><th>object</th><th>float64</th><th>float64</th><th>object</th><th>object</th><th>float64</th><th>int32</th><th>int32</th><th>int32</th><th>int32</th><th>int32</th><th>int32</th><th>int32</th></tr></thead>\n",
       "<tr><td>1</td><td>NGC 4151</td><td>182.63574</td><td>39.40573</td><td>G</td><td>997.0</td><td>0.003326</td><td></td><td>11.5</td><td>--</td><td>2394</td><td>51</td><td>558</td><td>90</td><td>77</td><td>18</td><td>2</td></tr>\n",
       "</table></div>"
      ],
      "text/plain": [
       "<Table length=1>\n",
       " No.  Object Name     RA     ... Redshift Points Diameter Points Associations\n",
       "                   degrees   ...                                             \n",
       "int32    str30     float64   ...      int32           int32         int32    \n",
       "----- ----------- ---------- ... --------------- --------------- ------------\n",
       "    1    NGC 4151  182.63574 ...              77              18            2"
      ]
     },
     "execution_count": 22,
     "metadata": {},
     "output_type": "execute_result"
    }
   ],
   "source": [
    "result_table"
   ]
  },
  {
   "cell_type": "code",
   "execution_count": 36,
   "id": "c4635de0",
   "metadata": {
    "ExecuteTime": {
     "end_time": "2022-10-06T08:44:27.803248Z",
     "start_time": "2022-10-06T08:44:27.794980Z"
    }
   },
   "outputs": [],
   "source": [
    "ra,dec=result_table['RA'].value[0],result_table['DEC'].value[0]"
   ]
  },
  {
   "cell_type": "code",
   "execution_count": 37,
   "id": "00d1a805",
   "metadata": {
    "ExecuteTime": {
     "end_time": "2022-10-06T08:44:28.412577Z",
     "start_time": "2022-10-06T08:44:28.404059Z"
    }
   },
   "outputs": [
    {
     "name": "stdout",
     "output_type": "stream",
     "text": [
      "182.63574 39.40573\n"
     ]
    }
   ],
   "source": [
    "print(ra,dec)"
   ]
  },
  {
   "cell_type": "code",
   "execution_count": 38,
   "id": "c252755b",
   "metadata": {
    "ExecuteTime": {
     "end_time": "2022-10-06T08:44:49.764509Z",
     "start_time": "2022-10-06T08:44:47.462779Z"
    }
   },
   "outputs": [
    {
     "name": "stderr",
     "output_type": "stream",
     "text": [
      "WARNING: InputWarning: Coordinate string is being interpreted as an ICRS coordinate provided in degrees. [astroquery.utils.commons]\n",
      "WARNING:astroquery:InputWarning: Coordinate string is being interpreted as an ICRS coordinate provided in degrees.\n",
      "WARNING: UnitsWarning: The unit 'pix' has been deprecated in the VOUnit standard. [astropy.units.format.utils]\n",
      "WARNING:astroquery:UnitsWarning: The unit 'pix' has been deprecated in the VOUnit standard.\n"
     ]
    },
    {
     "name": "stdout",
     "output_type": "stream",
     "text": [
      "                      observationURI                       ... custom_ctype\n",
      "                                                           ...             \n",
      "---------------------------------------------------------- ... ------------\n",
      "caom:JWST/jw01128-o016_s00004_nirspec_f100lp-g140m-s1600a1 ...             \n"
     ]
    }
   ],
   "source": [
    "result_JWST_NGC_4151 = cadc.query_region('%s %s'%(ra,dec), collection='JWST')\n",
    "print(result_JWST_NGC_4151)  "
   ]
  },
  {
   "cell_type": "code",
   "execution_count": 39,
   "id": "6d8d769d",
   "metadata": {
    "ExecuteTime": {
     "end_time": "2022-10-06T08:44:53.446181Z",
     "start_time": "2022-10-06T08:44:53.416784Z"
    }
   },
   "outputs": [
    {
     "data": {
      "text/html": [
       "<div><i>Table length=1</i>\n",
       "<table id=\"table140309335244608\" class=\"table-striped table-bordered table-condensed\">\n",
       "<thead><tr><th>observationURI</th><th>sequenceNumber</th><th>metaReadGroups</th><th>proposal_keywords</th><th>target_standard</th><th>obsID</th><th>collection</th><th>observationID</th><th>algorithm_name</th><th>type</th><th>intent</th><th>metaRelease</th><th>proposal_id</th><th>target_redshift</th><th>target_moving</th><th>target_keywords</th><th>targetPosition_equinox</th><th>targetPosition_coordinates_cval1</th><th>targetPosition_coordinates_cval2</th><th>targetPosition_coordsys</th><th>telescope_geoLocationX</th><th>telescope_geoLocationY</th><th>telescope_geoLocationZ</th><th>telescope_keywords</th><th>instrument_keywords</th><th>environment_seeing</th><th>environment_humidity</th><th>environment_elevation</th><th>environment_tau</th><th>environment_wavelengthTau</th><th>environment_ambientTemp</th><th>environment_photometric</th><th>members</th><th>typeCode</th><th>metaProducer</th><th>metaChecksum</th><th>accMetaChecksum</th><th>telescope_name</th><th>requirements_flag</th><th>instrument_name</th><th>lastModified</th><th>maxLastModified</th><th>proposal_pi</th><th>proposal_project</th><th>proposal_title</th><th>target_name</th><th>target_targetID</th><th>target_type</th><th>planeURI</th><th>publisherID</th><th>creatorID</th><th>obsID2</th><th>planeID</th><th>metaReadGroups2</th><th>dataReadGroups</th><th>calibrationLevel</th><th>provenance_keywords</th><th>provenance_inputs</th><th>productID</th><th>metaRelease2</th><th>dataRelease</th><th>dataProductType</th><th>provenance_name</th><th>provenance_version</th><th>provenance_reference</th><th>provenance_producer</th><th>provenance_project</th><th>provenance_runID</th><th>metrics_sourceNumberDensity</th><th>metrics_background</th><th>metrics_backgroundStddev</th><th>metrics_fluxDensityLimit</th><th>metrics_magLimit</th><th>position_bounds</th><th>position_bounds_samples</th><th>position_bounds_size</th><th>position_resolution</th><th>position_sampleSize</th><th>position_dimension_naxis1</th><th>position_dimension_naxis2</th><th>position_timeDependent</th><th>energy_bounds_samples</th><th>energy_bounds_lower</th><th>energy_bounds_upper</th><th>energy_bounds_width</th><th>energy_dimension</th><th>energy_resolvingPower</th><th>quality_flag</th><th>position_resolutionBounds</th><th>energy_bounds</th><th>energy_sampleSize</th><th>energy_freqWidth</th><th>energy_freqSampleSize</th><th>energy_restwav</th><th>time_bounds_samples</th><th>time_bounds_lower</th><th>time_bounds_upper</th><th>time_bounds_width</th><th>time_dimension</th><th>time_resolution</th><th>time_sampleSize</th><th>time_exposure</th><th>polarization_dimension</th><th>energy_resolvingPowerBounds</th><th>energy_emBand</th><th>energy_energyBands</th><th>energy_bandpassName</th><th>energy_transition_species</th><th>energy_transition_transition</th><th>time_bounds</th><th>time_resolutionBounds</th><th>polarization_states</th><th>custom_bounds_samples</th><th>custom_bounds_lower</th><th>custom_bounds_upper</th><th>custom_bounds_width</th><th>custom_dimension</th><th>metaProducer2</th><th>metaChecksum2</th><th>accMetaChecksum2</th><th>custom_bounds</th><th>lastModified2</th><th>maxLastModified2</th><th>provenance_lastExecuted</th><th>custom_ctype</th></tr></thead>\n",
       "<thead><tr><th></th><th></th><th></th><th></th><th></th><th></th><th></th><th></th><th></th><th></th><th></th><th></th><th></th><th></th><th></th><th></th><th></th><th>deg</th><th>deg</th><th></th><th></th><th></th><th></th><th></th><th></th><th>arcsec</th><th></th><th>deg</th><th></th><th>m</th><th>C</th><th></th><th></th><th></th><th></th><th></th><th></th><th></th><th></th><th></th><th></th><th></th><th></th><th></th><th></th><th></th><th></th><th></th><th></th><th></th><th></th><th></th><th></th><th></th><th></th><th></th><th></th><th></th><th></th><th></th><th></th><th></th><th></th><th></th><th></th><th></th><th></th><th></th><th>1 / deg2</th><th>Jy / pix</th><th>Jy / pix</th><th>Jy</th><th></th><th>deg</th><th>deg</th><th>deg</th><th>arcsec</th><th>arcsec</th><th></th><th></th><th></th><th>m</th><th>m</th><th>m</th><th>m</th><th></th><th></th><th></th><th>arcsec</th><th>m</th><th>m</th><th>Hz</th><th>Hz</th><th>m</th><th>d</th><th>d</th><th>d</th><th>d</th><th></th><th>d</th><th>d</th><th>s</th><th></th><th></th><th></th><th></th><th></th><th></th><th></th><th>d</th><th>d</th><th></th><th></th><th></th><th></th><th></th><th></th><th></th><th></th><th></th><th></th><th></th><th></th><th></th><th></th></tr></thead>\n",
       "<thead><tr><th>object</th><th>int32</th><th>object</th><th>object</th><th>int32</th><th>str36</th><th>str32</th><th>str128</th><th>str32</th><th>str32</th><th>str32</th><th>str23</th><th>str128</th><th>float64</th><th>int32</th><th>object</th><th>float64</th><th>float64</th><th>float64</th><th>str16</th><th>float64</th><th>float64</th><th>float64</th><th>object</th><th>object</th><th>float64</th><th>float64</th><th>float64</th><th>float64</th><th>float64</th><th>float64</th><th>int32</th><th>object</th><th>str1</th><th>object</th><th>object</th><th>object</th><th>str32</th><th>str16</th><th>str32</th><th>str23</th><th>str23</th><th>str128</th><th>str32</th><th>str256</th><th>str32</th><th>str32</th><th>str32</th><th>object</th><th>object</th><th>object</th><th>str36</th><th>str36</th><th>object</th><th>object</th><th>int32</th><th>object</th><th>object</th><th>str64</th><th>str23</th><th>str23</th><th>str128</th><th>str128</th><th>str32</th><th>str256</th><th>str128</th><th>str256</th><th>str64</th><th>float64</th><th>float64</th><th>float64</th><th>float64</th><th>float64</th><th>object</th><th>object</th><th>float64</th><th>float64</th><th>float64</th><th>int64</th><th>int64</th><th>int32</th><th>object</th><th>float64</th><th>float64</th><th>float64</th><th>int64</th><th>float64</th><th>str16</th><th>float64[2]</th><th>float64[2]</th><th>float64</th><th>float64</th><th>float64</th><th>float64</th><th>object</th><th>float64</th><th>float64</th><th>float64</th><th>int64</th><th>float64</th><th>float64</th><th>float64</th><th>int64</th><th>float64[2]</th><th>str32</th><th>str32</th><th>str32</th><th>str32</th><th>str32</th><th>float64[2]</th><th>float64[2]</th><th>str32</th><th>object</th><th>float64</th><th>float64</th><th>float64</th><th>int64</th><th>object</th><th>object</th><th>object</th><th>float64[2]</th><th>str23</th><th>str23</th><th>str23</th><th>str32</th></tr></thead>\n",
       "<tr><td>caom:JWST/jw01128-o016_s00004_nirspec_f100lp-g140m-s1600a1</td><td>--</td><td></td><td></td><td>0</td><td>9d4d5883-0892-4123-b4f6-8c55b4973a5c</td><td>JWST</td><td>jw01128-o016_s00004_nirspec_f100lp-g140m-s1600a1</td><td>composite</td><td>PRIME</td><td>science</td><td>2022-03-26T12:09:08.000</td><td>1128</td><td>--</td><td>0</td><td>TARGPROP=PG-1057+719</td><td>--</td><td>165.1420841666667</td><td>71.63405</td><td>ICRS</td><td>--</td><td>--</td><td>--</td><td>DEC_V1=71.54743184308842|GDSTARID=N77S000723|PCSMODE=FINEGUIDE|RA_V1=165.5636965194297|REFFRAME=ICRS|V3_PA=157.3906496725606|VISITSTATUS=SUCCESSFUL|VISITYPE=PRIME_TARGETED_FIXED</td><td>APERTURE=NRS_S1600A1_SLIT|DETECTOR=NRS1|EXPEND=59664.50634524305|EXPSTART=59664.49621433866|EXPTIME=758.622|EXPTYPE=PRIME|EXP_TYPE=NRS_FIXEDSLIT|FILTER=F100LP|TEMPLATE=NIRSpec Fixed Slit Spectroscopy</td><td>--</td><td>--</td><td>--</td><td>--</td><td>--</td><td>--</td><td>1</td><td>caom:JWST/jw01128016001_02101_00001_nrs1 caom:JWST/jw01128016001_02101_00002_nrs1</td><td>C</td><td>mast:pyCAOM/2022.4.5</td><td>md5:5c7d58479f0d41ba3fde7306a8d2455e</td><td>md5:de38ed363587cd9f76c4b8102deb9e49</td><td>JWST</td><td></td><td>NIRSPEC</td><td>2022-09-20T16:58:00.244</td><td>2022-09-20T16:58:00.244</td><td>Luetzgendorf, Nora</td><td>COM</td><td>Spectrophotometric Sensitivity and Absolute Flux Calibration</td><td>PG 1057+719</td><td></td><td></td><td>caom:JWST/jw01128-o016_s00004_nirspec_f100lp-g140m-s1600a1/jw01128-o016_s00004_nirspec_f100lp-g140m-s1600a1-PRODUCT</td><td>ivo://cadc.nrc.ca/mirror/JWST?jw01128-o016_s00004_nirspec_f100lp-g140m-s1600a1/jw01128-o016_s00004_nirspec_f100lp-g140m-s1600a1-PRODUCT</td><td>ivo://archive.stsci.edu/JWST?jw01128-o016_s00004_nirspec_f100lp-g140m-s1600a1/jw01128-o016_s00004_nirspec_f100lp-g140m-s1600a1-PRODUCT</td><td>9d4d5883-0892-4123-b4f6-8c55b4973a5c</td><td>4da5d019-b84b-446c-b90b-811d1b18fb1c</td><td></td><td></td><td>3</td><td>PRD_VER=PRDOPSSOC-057|SDP_VER=2022_3</td><td>caom:JWST/jw01128016001_02101_00001_nrs1/jw01128016001_02101_00001_nrs1-CALIBRATED caom:JWST/jw01128016001_02101_00002_nrs1/jw01128016001_02101_00002_nrs1-CALIBRATED</td><td>jw01128-o016_s00004_nirspec_f100lp-g140m-s1600a1-PRODUCT</td><td>2022-03-26T12:09:08.000</td><td>2022-07-14T20:30:00.000</td><td>image</td><td>CALJWST</td><td>1.6.2</td><td>http://www.stsci.edu/jwst/instrumentation/</td><td>STScI</td><td>JWST</td><td>jwst_0977.pmap</td><td>--</td><td>--</td><td>--</td><td>--</td><td>--</td><td>polygon 124.138533065 73.141748719 232.232145527 73.141748719 232.232145527 -40.816154392 124.138533065 -40.816154392</td><td>[124.138533065 73.141748719 2.0 232.232145527 73.141748719 1.0\\n 232.232145527 -40.816154392 1.0 124.138533065 -40.816154392 0.0]</td><td>146.69148584887515</td><td>--</td><td>--</td><td>--</td><td>--</td><td>0</td><td>[1e-06 5e-06]</td><td>1e-06</td><td>5e-06</td><td>4.000000000000001e-06</td><td>--</td><td>--</td><td></td><td>-- .. --</td><td>1e-06 .. 5e-06</td><td>--</td><td>239834000000000.0</td><td>--</td><td>--</td><td>[59664.49621433866 59664.50634524305]</td><td>59664.49621433866</td><td>59664.50634524305</td><td>0.010130904389370698</td><td>--</td><td>--</td><td>--</td><td>758.622</td><td>--</td><td>-- .. --</td><td>Infrared</td><td>Infrared</td><td>F100LP</td><td></td><td></td><td>59664.49621433866 .. 59664.50634524305</td><td>-- .. --</td><td></td><td>[]</td><td>--</td><td>--</td><td>--</td><td>--</td><td>mast:pyCAOM/2022.4.5</td><td>md5:d4a150c6cb49fd1a777853be66ed640a</td><td>md5:74558f4a403535101f2233d14a803090</td><td>-- .. --</td><td>2022-09-20T16:58:00.244</td><td>2022-09-20T16:58:00.244</td><td>2022-09-17T07:20:04.000</td><td></td></tr>\n",
       "</table></div>"
      ],
      "text/plain": [
       "<Table length=1>\n",
       "                      observationURI                       ... custom_ctype\n",
       "                                                           ...             \n",
       "                          object                           ...    str32    \n",
       "---------------------------------------------------------- ... ------------\n",
       "caom:JWST/jw01128-o016_s00004_nirspec_f100lp-g140m-s1600a1 ...             "
      ]
     },
     "execution_count": 39,
     "metadata": {},
     "output_type": "execute_result"
    }
   ],
   "source": [
    "result_JWST_NGC_4151 "
   ]
  },
  {
   "cell_type": "code",
   "execution_count": 41,
   "id": "7975e172",
   "metadata": {
    "ExecuteTime": {
     "end_time": "2022-10-06T08:45:21.946666Z",
     "start_time": "2022-10-06T08:45:20.359474Z"
    }
   },
   "outputs": [
    {
     "name": "stdout",
     "output_type": "stream",
     "text": [
      "https://ws.cadc-ccda.hia-iha.nrc-cnrc.gc.ca/raven/files/mast:JWST/product/jw01128-o016_s00004_nirspec_f100lp-g140m-s1600a1_x1d.fits\n",
      "https://ws.cadc-ccda.hia-iha.nrc-cnrc.gc.ca/raven/files/mast:JWST/product/jw01128-o016_s00004_nirspec_f100lp-g140m-s1600a1_s2d.fits\n",
      "https://ws.cadc-ccda.hia-iha.nrc-cnrc.gc.ca/raven/files/mast:JWST/product/jw01128-o016_s00004_nirspec_f100lp-g140m-s1600a1_crf.fits\n",
      "https://ws.cadc-ccda.hia-iha.nrc-cnrc.gc.ca/raven/files/mast:JWST/product/jw01128-o016_s00004_nirspec_f100lp-g140m-s1600a1_cal.fits\n"
     ]
    }
   ],
   "source": [
    "urls_NGC_4151 = cadc.get_data_urls(result_JWST_NGC_4151)\n",
    "for url in urls_NGC_4151:\n",
    "    print(url)"
   ]
  },
  {
   "cell_type": "code",
   "execution_count": 48,
   "id": "f6cc66a3",
   "metadata": {
    "ExecuteTime": {
     "end_time": "2022-10-06T08:52:08.894063Z",
     "start_time": "2022-10-06T08:52:05.413109Z"
    }
   },
   "outputs": [
    {
     "name": "stdout",
     "output_type": "stream",
     "text": [
      "[]\n"
     ]
    }
   ],
   "source": [
    "image_list = cadc.get_image_list(result_JWST_NGC_4151,coords, radius)\n",
    "print(image_list)   "
   ]
  },
  {
   "cell_type": "code",
   "execution_count": null,
   "id": "f02b164a",
   "metadata": {},
   "outputs": [],
   "source": []
  },
  {
   "cell_type": "code",
   "execution_count": 46,
   "id": "2bf0d723",
   "metadata": {
    "ExecuteTime": {
     "end_time": "2022-10-06T08:51:24.098157Z",
     "start_time": "2022-10-06T08:51:20.596605Z"
    }
   },
   "outputs": [
    {
     "name": "stdout",
     "output_type": "stream",
     "text": [
      "[]\n"
     ]
    }
   ],
   "source": [
    "coords = '%s %s'%(ra,dec)\n",
    "radius = 0.5*u.deg\n",
    "results = cadc.query_region(coords, radius, collection='JWST')\n",
    "#filtered_results = results[results['time_exposure'] > 120.0]\n",
    "#image_list = cadc.get_image_list(filtered_results, coords, radius)\n",
    "image_list = cadc.get_image_list(results, coords, radius)\n",
    "print(image_list)   "
   ]
  },
  {
   "cell_type": "code",
   "execution_count": null,
   "id": "39105b50",
   "metadata": {},
   "outputs": [],
   "source": []
  },
  {
   "cell_type": "code",
   "execution_count": 49,
   "id": "768b706a",
   "metadata": {
    "ExecuteTime": {
     "end_time": "2022-10-06T08:59:59.727574Z",
     "start_time": "2022-10-06T08:53:49.741539Z"
    }
   },
   "outputs": [
    {
     "data": {
      "text/plain": [
       "[Downloaded object from URL https://ws.cadc-ccda.hia-iha.nrc-cnrc.gc.ca/caom2ops/sync?ID=cadc%3ACFHT%2F2417506y.fits.fz&POS=CIRCLE+182.63574172891978+39.40572772909785+0.01 with ID 140309603387424,\n",
       " Downloaded object from URL https://ws.cadc-ccda.hia-iha.nrc-cnrc.gc.ca/caom2ops/sync?ID=cadc%3ACFHT%2F2418117w.fits.fz&POS=CIRCLE+182.63574172891978+39.40572772909785+0.01 with ID 140311277388752,\n",
       " Downloaded object from URL https://ws.cadc-ccda.hia-iha.nrc-cnrc.gc.ca/caom2ops/sync?ID=cadc%3ACFHT%2F2418130w.fits.fz&POS=CIRCLE+182.63574172891978+39.40572772909785+0.01 with ID 140310470404896,\n",
       " Downloaded object from URL https://ws.cadc-ccda.hia-iha.nrc-cnrc.gc.ca/caom2ops/sync?ID=cadc%3ACFHT%2F2417394y.fits.fz&POS=CIRCLE+182.63574172891978+39.40572772909785+0.01 with ID 140310470404464,\n",
       " Downloaded object from URL https://ws.cadc-ccda.hia-iha.nrc-cnrc.gc.ca/caom2ops/sync?ID=cadc%3ACFHT%2F2417471w.fits.fz&POS=CIRCLE+182.63574172891978+39.40572772909785+0.01 with ID 140310474166384,\n",
       " Downloaded object from URL https://ws.cadc-ccda.hia-iha.nrc-cnrc.gc.ca/caom2ops/sync?ID=cadc%3ACFHT%2F2417498w.fits.fz&POS=CIRCLE+182.63574172891978+39.40572772909785+0.01 with ID 140309338996544,\n",
       " Downloaded object from URL https://ws.cadc-ccda.hia-iha.nrc-cnrc.gc.ca/caom2ops/sync?ID=cadc%3ACFHT%2F2417542w.fits.fz&POS=CIRCLE+182.63574172891978+39.40572772909785+0.01 with ID 140310463785568,\n",
       " Downloaded object from URL https://ws.cadc-ccda.hia-iha.nrc-cnrc.gc.ca/caom2ops/sync?ID=cadc%3ACFHT%2F2417572w.fits.fz&POS=CIRCLE+182.63574172891978+39.40572772909785+0.01 with ID 140310463866576,\n",
       " Downloaded object from URL https://ws.cadc-ccda.hia-iha.nrc-cnrc.gc.ca/caom2ops/sync?ID=cadc%3ACFHT%2F2417441w.fits.fz&POS=CIRCLE+182.63574172891978+39.40572772909785+0.01 with ID 140310463865568,\n",
       " Downloaded object from URL https://ws.cadc-ccda.hia-iha.nrc-cnrc.gc.ca/caom2ops/sync?ID=cadc%3ACFHT%2F2418038y.fits.fz&POS=CIRCLE+182.63574172891978+39.40572772909785+0.01 with ID 140310463865088,\n",
       " Downloaded object from URL https://ws.cadc-ccda.hia-iha.nrc-cnrc.gc.ca/caom2ops/sync?ID=cadc%3ACFHT%2F2417419w.fits.fz&POS=CIRCLE+182.63574172891978+39.40572772909785+0.01 with ID 140309610869760,\n",
       " Downloaded object from URL https://ws.cadc-ccda.hia-iha.nrc-cnrc.gc.ca/caom2ops/sync?ID=cadc%3ACFHT%2F2417525w.fits.fz&POS=CIRCLE+182.63574172891978+39.40572772909785+0.01 with ID 140310472786320,\n",
       " Downloaded object from URL https://ws.cadc-ccda.hia-iha.nrc-cnrc.gc.ca/caom2ops/sync?ID=cadc%3ACFHT%2F2417465y.fits.fz&POS=CIRCLE+182.63574172891978+39.40572772909785+0.01 with ID 140310474111728,\n",
       " Downloaded object from URL https://ws.cadc-ccda.hia-iha.nrc-cnrc.gc.ca/caom2ops/sync?ID=cadc%3ACFHT%2F2418050y.fits.fz&POS=CIRCLE+182.63574172891978+39.40572772909785+0.01 with ID 140309610138832,\n",
       " Downloaded object from URL https://ws.cadc-ccda.hia-iha.nrc-cnrc.gc.ca/caom2ops/sync?ID=cadc%3ACFHT%2F2418092w.fits.fz&POS=CIRCLE+182.63574172891978+39.40572772909785+0.01 with ID 140309610138256,\n",
       " Downloaded object from URL https://ws.cadc-ccda.hia-iha.nrc-cnrc.gc.ca/caom2ops/sync?ID=cadc%3ACFHT%2F2417366w.fits.fz&POS=CIRCLE+182.63574172891978+39.40572772909785+0.01 with ID 140309610137680,\n",
       " Downloaded object from URL https://ws.cadc-ccda.hia-iha.nrc-cnrc.gc.ca/caom2ops/sync?ID=cadc%3ACFHT%2F2417493y.fits.fz&POS=CIRCLE+182.63574172891978+39.40572772909785+0.01 with ID 140309341079440,\n",
       " Downloaded object from URL https://ws.cadc-ccda.hia-iha.nrc-cnrc.gc.ca/caom2ops/sync?ID=cadc%3ACFHT%2F2418144w.fits.fz&POS=CIRCLE+182.63574172891978+39.40572772909785+0.01 with ID 140309341081552,\n",
       " Downloaded object from URL https://ws.cadc-ccda.hia-iha.nrc-cnrc.gc.ca/caom2ops/sync?ID=cadc%3ACFHT%2F2417555y.fits.fz&POS=CIRCLE+182.63574172891978+39.40572772909785+0.01 with ID 140309603418016,\n",
       " Downloaded object from URL https://ws.cadc-ccda.hia-iha.nrc-cnrc.gc.ca/caom2ops/sync?ID=cadc%3ACFHT%2F2418077w.fits.fz&POS=CIRCLE+182.63574172891978+39.40572772909785+0.01 with ID 140309604276352,\n",
       " Downloaded object from URL https://ws.cadc-ccda.hia-iha.nrc-cnrc.gc.ca/caom2ops/sync?ID=cadc%3ACFHT%2F2417405w.fits.fz&POS=CIRCLE+182.63574172891978+39.40572772909785+0.01 with ID 140309604276976,\n",
       " Downloaded object from URL https://ws.cadc-ccda.hia-iha.nrc-cnrc.gc.ca/caom2ops/sync?ID=cadc%3ACFHT%2F2417512y.fits.fz&POS=CIRCLE+182.63574172891978+39.40572772909785+0.01 with ID 140309604277120,\n",
       " Downloaded object from URL https://ws.cadc-ccda.hia-iha.nrc-cnrc.gc.ca/caom2ops/sync?ID=cadc%3ACFHT%2F2418103w.fits.fz&POS=CIRCLE+182.63574172891978+39.40572772909785+0.01 with ID 140309604277264,\n",
       " Downloaded object from URL https://ws.cadc-ccda.hia-iha.nrc-cnrc.gc.ca/caom2ops/sync?ID=cadc%3ACFHT%2F2417536w.fits.fz&POS=CIRCLE+182.63574172891978+39.40572772909785+0.01 with ID 140309604277408,\n",
       " Downloaded object from URL https://ws.cadc-ccda.hia-iha.nrc-cnrc.gc.ca/caom2ops/sync?ID=cadc%3ACFHT%2F2418133w.fits.fz&POS=CIRCLE+182.63574172891978+39.40572772909785+0.01 with ID 140309604277552,\n",
       " Downloaded object from URL https://ws.cadc-ccda.hia-iha.nrc-cnrc.gc.ca/caom2ops/sync?ID=cadc%3ACFHT%2F2417435w.fits.fz&POS=CIRCLE+182.63574172891978+39.40572772909785+0.01 with ID 140309604277696,\n",
       " Downloaded object from URL https://ws.cadc-ccda.hia-iha.nrc-cnrc.gc.ca/caom2ops/sync?ID=cadc%3ACFHT%2F2417479y.fits.fz&POS=CIRCLE+182.63574172891978+39.40572772909785+0.01 with ID 140309604277840,\n",
       " Downloaded object from URL https://ws.cadc-ccda.hia-iha.nrc-cnrc.gc.ca/caom2ops/sync?ID=cadc%3ACFHT%2F2418154w.fits.fz&POS=CIRCLE+182.63574172891978+39.40572772909785+0.01 with ID 140309604277984,\n",
       " Downloaded object from URL https://ws.cadc-ccda.hia-iha.nrc-cnrc.gc.ca/caom2ops/sync?ID=cadc%3ACFHT%2F2418058w.fits.fz&POS=CIRCLE+182.63574172891978+39.40572772909785+0.01 with ID 140309604278128,\n",
       " Downloaded object from URL https://ws.cadc-ccda.hia-iha.nrc-cnrc.gc.ca/caom2ops/sync?ID=cadc%3ACFHT%2F2417575y.fits.fz&POS=CIRCLE+182.63574172891978+39.40572772909785+0.01 with ID 140309604409456,\n",
       " Downloaded object from URL https://ws.cadc-ccda.hia-iha.nrc-cnrc.gc.ca/caom2ops/sync?ID=cadc%3ACFHT%2F2418164w.fits.fz&POS=CIRCLE+182.63574172891978+39.40572772909785+0.01 with ID 140309604409552,\n",
       " Downloaded object from URL https://ws.cadc-ccda.hia-iha.nrc-cnrc.gc.ca/caom2ops/sync?ID=cadc%3ACFHT%2F2418047w.fits.fz&POS=CIRCLE+182.63574172891978+39.40572772909785+0.01 with ID 140309604409696,\n",
       " Downloaded object from URL https://ws.cadc-ccda.hia-iha.nrc-cnrc.gc.ca/caom2ops/sync?ID=cadc%3ACFHT%2F2417519w.fits.fz&POS=CIRCLE+182.63574172891978+39.40572772909785+0.01 with ID 140309604409840,\n",
       " Downloaded object from URL https://ws.cadc-ccda.hia-iha.nrc-cnrc.gc.ca/caom2ops/sync?ID=cadc%3ACFHT%2F2418120y.fits.fz&POS=CIRCLE+182.63574172891978+39.40572772909785+0.01 with ID 140309604409984,\n",
       " Downloaded object from URL https://ws.cadc-ccda.hia-iha.nrc-cnrc.gc.ca/caom2ops/sync?ID=cadc%3ACFHT%2F2417384o.fits.fz&POS=CIRCLE+182.63574172891978+39.40572772909785+0.01 with ID 140309604410128,\n",
       " Downloaded object from URL https://ws.cadc-ccda.hia-iha.nrc-cnrc.gc.ca/caom2ops/sync?ID=cadc%3ACFHT%2F2417389o.fits.fz&POS=CIRCLE+182.63574172891978+39.40572772909785+0.01 with ID 140309604410272,\n",
       " Downloaded object from URL https://ws.cadc-ccda.hia-iha.nrc-cnrc.gc.ca/caom2ops/sync?ID=cadc%3ACFHT%2F2417391o.fits.fz&POS=CIRCLE+182.63574172891978+39.40572772909785+0.01 with ID 140309604410416,\n",
       " Downloaded object from URL https://ws.cadc-ccda.hia-iha.nrc-cnrc.gc.ca/caom2ops/sync?ID=cadc%3ACFHT%2F2417392o.fits.fz&POS=CIRCLE+182.63574172891978+39.40572772909785+0.01 with ID 140309604410560,\n",
       " Downloaded object from URL https://ws.cadc-ccda.hia-iha.nrc-cnrc.gc.ca/caom2ops/sync?ID=cadc%3ACFHT%2F2417397o.fits.fz&POS=CIRCLE+182.63574172891978+39.40572772909785+0.01 with ID 140309604410704,\n",
       " Downloaded object from URL https://ws.cadc-ccda.hia-iha.nrc-cnrc.gc.ca/caom2ops/sync?ID=cadc%3ACFHT%2F2417399o.fits.fz&POS=CIRCLE+182.63574172891978+39.40572772909785+0.01 with ID 140309604410848,\n",
       " Downloaded object from URL https://ws.cadc-ccda.hia-iha.nrc-cnrc.gc.ca/caom2ops/sync?ID=cadc%3ACFHT%2F2417400o.fits.fz&POS=CIRCLE+182.63574172891978+39.40572772909785+0.01 with ID 140309604410992,\n",
       " Downloaded object from URL https://ws.cadc-ccda.hia-iha.nrc-cnrc.gc.ca/caom2ops/sync?ID=cadc%3ACFHT%2F2417402o.fits.fz&POS=CIRCLE+182.63574172891978+39.40572772909785+0.01 with ID 140309604411136,\n",
       " Downloaded object from URL https://ws.cadc-ccda.hia-iha.nrc-cnrc.gc.ca/caom2ops/sync?ID=cadc%3ACFHT%2F2417410o.fits.fz&POS=CIRCLE+182.63574172891978+39.40572772909785+0.01 with ID 140309604411280,\n",
       " Downloaded object from URL https://ws.cadc-ccda.hia-iha.nrc-cnrc.gc.ca/caom2ops/sync?ID=cadc%3ACFHT%2F2417413o.fits.fz&POS=CIRCLE+182.63574172891978+39.40572772909785+0.01 with ID 140309604411424,\n",
       " Downloaded object from URL https://ws.cadc-ccda.hia-iha.nrc-cnrc.gc.ca/caom2ops/sync?ID=cadc%3ACFHT%2F2417415o.fits.fz&POS=CIRCLE+182.63574172891978+39.40572772909785+0.01 with ID 140309604411568,\n",
       " Downloaded object from URL https://ws.cadc-ccda.hia-iha.nrc-cnrc.gc.ca/caom2ops/sync?ID=cadc%3ACFHT%2F2417419o.fits.fz&POS=CIRCLE+182.63574172891978+39.40572772909785+0.01 with ID 140309604411712,\n",
       " Downloaded object from URL https://ws.cadc-ccda.hia-iha.nrc-cnrc.gc.ca/caom2ops/sync?ID=cadc%3ACFHT%2F2417421o.fits.fz&POS=CIRCLE+182.63574172891978+39.40572772909785+0.01 with ID 140309604411856,\n",
       " Downloaded object from URL https://ws.cadc-ccda.hia-iha.nrc-cnrc.gc.ca/caom2ops/sync?ID=cadc%3ACFHT%2F2417422o.fits.fz&POS=CIRCLE+182.63574172891978+39.40572772909785+0.01 with ID 140309604412000,\n",
       " Downloaded object from URL https://ws.cadc-ccda.hia-iha.nrc-cnrc.gc.ca/caom2ops/sync?ID=cadc%3ACFHT%2F2417430o.fits.fz&POS=CIRCLE+182.63574172891978+39.40572772909785+0.01 with ID 140309604412144,\n",
       " Downloaded object from URL https://ws.cadc-ccda.hia-iha.nrc-cnrc.gc.ca/caom2ops/sync?ID=cadc%3ACFHT%2F2417433o.fits.fz&POS=CIRCLE+182.63574172891978+39.40572772909785+0.01 with ID 140309604412288,\n",
       " Downloaded object from URL https://ws.cadc-ccda.hia-iha.nrc-cnrc.gc.ca/caom2ops/sync?ID=cadc%3ACFHT%2F2417438o.fits.fz&POS=CIRCLE+182.63574172891978+39.40572772909785+0.01 with ID 140309604412432,\n",
       " Downloaded object from URL https://ws.cadc-ccda.hia-iha.nrc-cnrc.gc.ca/caom2ops/sync?ID=cadc%3ACFHT%2F2417449o.fits.fz&POS=CIRCLE+182.63574172891978+39.40572772909785+0.01 with ID 140309604412576,\n",
       " Downloaded object from URL https://ws.cadc-ccda.hia-iha.nrc-cnrc.gc.ca/caom2ops/sync?ID=cadc%3ACFHT%2F2417454o.fits.fz&POS=CIRCLE+182.63574172891978+39.40572772909785+0.01 with ID 140309604276496,\n",
       " Downloaded object from URL https://ws.cadc-ccda.hia-iha.nrc-cnrc.gc.ca/caom2ops/sync?ID=cadc%3ACFHT%2F2417455o.fits.fz&POS=CIRCLE+182.63574172891978+39.40572772909785+0.01 with ID 140309604275728,\n",
       " Downloaded object from URL https://ws.cadc-ccda.hia-iha.nrc-cnrc.gc.ca/caom2ops/sync?ID=cadc%3ACFHT%2F2417460o.fits.fz&POS=CIRCLE+182.63574172891978+39.40572772909785+0.01 with ID 140309604275824,\n",
       " Downloaded object from URL https://ws.cadc-ccda.hia-iha.nrc-cnrc.gc.ca/caom2ops/sync?ID=cadc%3ACFHT%2F2417462o.fits.fz&POS=CIRCLE+182.63574172891978+39.40572772909785+0.01 with ID 140309604275344,\n",
       " Downloaded object from URL https://ws.cadc-ccda.hia-iha.nrc-cnrc.gc.ca/caom2ops/sync?ID=cadc%3ACFHT%2F2417465o.fits.fz&POS=CIRCLE+182.63574172891978+39.40572772909785+0.01 with ID 140309604274528,\n",
       " Downloaded object from URL https://ws.cadc-ccda.hia-iha.nrc-cnrc.gc.ca/caom2ops/sync?ID=cadc%3ACFHT%2F2417478o.fits.fz&POS=CIRCLE+182.63574172891978+39.40572772909785+0.01 with ID 140309605068176,\n",
       " Downloaded object from URL https://ws.cadc-ccda.hia-iha.nrc-cnrc.gc.ca/caom2ops/sync?ID=cadc%3ACFHT%2F2417479o.fits.fz&POS=CIRCLE+182.63574172891978+39.40572772909785+0.01 with ID 140309605067456,\n",
       " Downloaded object from URL https://ws.cadc-ccda.hia-iha.nrc-cnrc.gc.ca/caom2ops/sync?ID=cadc%3ACFHT%2F2417481o.fits.fz&POS=CIRCLE+182.63574172891978+39.40572772909785+0.01 with ID 140309605067312,\n",
       " Downloaded object from URL https://ws.cadc-ccda.hia-iha.nrc-cnrc.gc.ca/caom2ops/sync?ID=cadc%3ACFHT%2F2417486o.fits.fz&POS=CIRCLE+182.63574172891978+39.40572772909785+0.01 with ID 140309605067120,\n",
       " Downloaded object from URL https://ws.cadc-ccda.hia-iha.nrc-cnrc.gc.ca/caom2ops/sync?ID=cadc%3ACFHT%2F2417487o.fits.fz&POS=CIRCLE+182.63574172891978+39.40572772909785+0.01 with ID 140309605066640,\n",
       " Downloaded object from URL https://ws.cadc-ccda.hia-iha.nrc-cnrc.gc.ca/caom2ops/sync?ID=cadc%3ACFHT%2F2417493o.fits.fz&POS=CIRCLE+182.63574172891978+39.40572772909785+0.01 with ID 140309605066400,\n",
       " Downloaded object from URL https://ws.cadc-ccda.hia-iha.nrc-cnrc.gc.ca/caom2ops/sync?ID=cadc%3ACFHT%2F2417495o.fits.fz&POS=CIRCLE+182.63574172891978+39.40572772909785+0.01 with ID 140309605048176,\n",
       " Downloaded object from URL https://ws.cadc-ccda.hia-iha.nrc-cnrc.gc.ca/caom2ops/sync?ID=cadc%3ACFHT%2F2417496o.fits.fz&POS=CIRCLE+182.63574172891978+39.40572772909785+0.01 with ID 140309605047456,\n",
       " Downloaded object from URL https://ws.cadc-ccda.hia-iha.nrc-cnrc.gc.ca/caom2ops/sync?ID=cadc%3ACFHT%2F2417498o.fits.fz&POS=CIRCLE+182.63574172891978+39.40572772909785+0.01 with ID 140309605151648,\n",
       " Downloaded object from URL https://ws.cadc-ccda.hia-iha.nrc-cnrc.gc.ca/caom2ops/sync?ID=cadc%3ACFHT%2F2417504o.fits.fz&POS=CIRCLE+182.63574172891978+39.40572772909785+0.01 with ID 140309605151744,\n",
       " Downloaded object from URL https://ws.cadc-ccda.hia-iha.nrc-cnrc.gc.ca/caom2ops/sync?ID=cadc%3ACFHT%2F2417512o.fits.fz&POS=CIRCLE+182.63574172891978+39.40572772909785+0.01 with ID 140309605153376,\n",
       " Downloaded object from URL https://ws.cadc-ccda.hia-iha.nrc-cnrc.gc.ca/caom2ops/sync?ID=cadc%3ACFHT%2F2417527o.fits.fz&POS=CIRCLE+182.63574172891978+39.40572772909785+0.01 with ID 140309604399328,\n",
       " Downloaded object from URL https://ws.cadc-ccda.hia-iha.nrc-cnrc.gc.ca/caom2ops/sync?ID=cadc%3ACFHT%2F2417528o.fits.fz&POS=CIRCLE+182.63574172891978+39.40572772909785+0.01 with ID 140309604412720,\n",
       " Downloaded object from URL https://ws.cadc-ccda.hia-iha.nrc-cnrc.gc.ca/caom2ops/sync?ID=cadc%3ACFHT%2F2417530o.fits.fz&POS=CIRCLE+182.63574172891978+39.40572772909785+0.01 with ID 140309604412768,\n",
       " Downloaded object from URL https://ws.cadc-ccda.hia-iha.nrc-cnrc.gc.ca/caom2ops/sync?ID=cadc%3ACFHT%2F2417537o.fits.fz&POS=CIRCLE+182.63574172891978+39.40572772909785+0.01 with ID 140309604412912,\n",
       " Downloaded object from URL https://ws.cadc-ccda.hia-iha.nrc-cnrc.gc.ca/caom2ops/sync?ID=cadc%3ACFHT%2F2417539o.fits.fz&POS=CIRCLE+182.63574172891978+39.40572772909785+0.01 with ID 140309604413056,\n",
       " Downloaded object from URL https://ws.cadc-ccda.hia-iha.nrc-cnrc.gc.ca/caom2ops/sync?ID=cadc%3ACFHT%2F2417542o.fits.fz&POS=CIRCLE+182.63574172891978+39.40572772909785+0.01 with ID 140309604413200,\n",
       " Downloaded object from URL https://ws.cadc-ccda.hia-iha.nrc-cnrc.gc.ca/caom2ops/sync?ID=cadc%3ACFHT%2F2417544o.fits.fz&POS=CIRCLE+182.63574172891978+39.40572772909785+0.01 with ID 140309604413344,\n",
       " Downloaded object from URL https://ws.cadc-ccda.hia-iha.nrc-cnrc.gc.ca/caom2ops/sync?ID=cadc%3ACFHT%2F2417545o.fits.fz&POS=CIRCLE+182.63574172891978+39.40572772909785+0.01 with ID 140309604249712,\n",
       " Downloaded object from URL https://ws.cadc-ccda.hia-iha.nrc-cnrc.gc.ca/caom2ops/sync?ID=cadc%3ACFHT%2F2417547o.fits.fz&POS=CIRCLE+182.63574172891978+39.40572772909785+0.01 with ID 140309604249856,\n",
       " Downloaded object from URL https://ws.cadc-ccda.hia-iha.nrc-cnrc.gc.ca/caom2ops/sync?ID=cadc%3ACFHT%2F2417550o.fits.fz&POS=CIRCLE+182.63574172891978+39.40572772909785+0.01 with ID 140309604250000,\n",
       " Downloaded object from URL https://ws.cadc-ccda.hia-iha.nrc-cnrc.gc.ca/caom2ops/sync?ID=cadc%3ACFHT%2F2417558o.fits.fz&POS=CIRCLE+182.63574172891978+39.40572772909785+0.01 with ID 140309604250144,\n",
       " Downloaded object from URL https://ws.cadc-ccda.hia-iha.nrc-cnrc.gc.ca/caom2ops/sync?ID=cadc%3ACFHT%2F2417560o.fits.fz&POS=CIRCLE+182.63574172891978+39.40572772909785+0.01 with ID 140309604250288,\n",
       " Downloaded object from URL https://ws.cadc-ccda.hia-iha.nrc-cnrc.gc.ca/caom2ops/sync?ID=cadc%3ACFHT%2F2417562o.fits.fz&POS=CIRCLE+182.63574172891978+39.40572772909785+0.01 with ID 140309604250432,\n",
       " Downloaded object from URL https://ws.cadc-ccda.hia-iha.nrc-cnrc.gc.ca/caom2ops/sync?ID=cadc%3ACFHT%2F2417564o.fits.fz&POS=CIRCLE+182.63574172891978+39.40572772909785+0.01 with ID 140309604250576,\n",
       " Downloaded object from URL https://ws.cadc-ccda.hia-iha.nrc-cnrc.gc.ca/caom2ops/sync?ID=cadc%3ACFHT%2F2417569o.fits.fz&POS=CIRCLE+182.63574172891978+39.40572772909785+0.01 with ID 140309604250720,\n",
       " Downloaded object from URL https://ws.cadc-ccda.hia-iha.nrc-cnrc.gc.ca/caom2ops/sync?ID=cadc%3ACFHT%2F2417572o.fits.fz&POS=CIRCLE+182.63574172891978+39.40572772909785+0.01 with ID 140309604250864,\n",
       " Downloaded object from URL https://ws.cadc-ccda.hia-iha.nrc-cnrc.gc.ca/caom2ops/sync?ID=cadc%3ACFHT%2F2417576o.fits.fz&POS=CIRCLE+182.63574172891978+39.40572772909785+0.01 with ID 140309604251008,\n",
       " Downloaded object from URL https://ws.cadc-ccda.hia-iha.nrc-cnrc.gc.ca/caom2ops/sync?ID=cadc%3ACFHT%2F2418047o.fits.fz&POS=CIRCLE+182.63574172891978+39.40572772909785+0.01 with ID 140309604251152,\n",
       " Downloaded object from URL https://ws.cadc-ccda.hia-iha.nrc-cnrc.gc.ca/caom2ops/sync?ID=cadc%3ACFHT%2F2418058o.fits.fz&POS=CIRCLE+182.63574172891978+39.40572772909785+0.01 with ID 140309604251296,\n",
       " Downloaded object from URL https://ws.cadc-ccda.hia-iha.nrc-cnrc.gc.ca/caom2ops/sync?ID=cadc%3ACFHT%2F2418059o.fits.fz&POS=CIRCLE+182.63574172891978+39.40572772909785+0.01 with ID 140309604251440,\n",
       " Downloaded object from URL https://ws.cadc-ccda.hia-iha.nrc-cnrc.gc.ca/caom2ops/sync?ID=cadc%3ACFHT%2F2418062o.fits.fz&POS=CIRCLE+182.63574172891978+39.40572772909785+0.01 with ID 140309604251584,\n",
       " Downloaded object from URL https://ws.cadc-ccda.hia-iha.nrc-cnrc.gc.ca/caom2ops/sync?ID=cadc%3ACFHT%2F2418065o.fits.fz&POS=CIRCLE+182.63574172891978+39.40572772909785+0.01 with ID 140309604251728,\n",
       " Downloaded object from URL https://ws.cadc-ccda.hia-iha.nrc-cnrc.gc.ca/caom2ops/sync?ID=cadc%3ACFHT%2F2418067o.fits.fz&POS=CIRCLE+182.63574172891978+39.40572772909785+0.01 with ID 140309604251872,\n",
       " Downloaded object from URL https://ws.cadc-ccda.hia-iha.nrc-cnrc.gc.ca/caom2ops/sync?ID=cadc%3ACFHT%2F2418068o.fits.fz&POS=CIRCLE+182.63574172891978+39.40572772909785+0.01 with ID 140309604252016,\n",
       " Downloaded object from URL https://ws.cadc-ccda.hia-iha.nrc-cnrc.gc.ca/caom2ops/sync?ID=cadc%3ACFHT%2F2418070o.fits.fz&POS=CIRCLE+182.63574172891978+39.40572772909785+0.01 with ID 140309604252160,\n",
       " Downloaded object from URL https://ws.cadc-ccda.hia-iha.nrc-cnrc.gc.ca/caom2ops/sync?ID=cadc%3ACFHT%2F2418074o.fits.fz&POS=CIRCLE+182.63574172891978+39.40572772909785+0.01 with ID 140309604252304,\n",
       " Downloaded object from URL https://ws.cadc-ccda.hia-iha.nrc-cnrc.gc.ca/caom2ops/sync?ID=cadc%3ACFHT%2F2418076o.fits.fz&POS=CIRCLE+182.63574172891978+39.40572772909785+0.01 with ID 140309604252448,\n",
       " Downloaded object from URL https://ws.cadc-ccda.hia-iha.nrc-cnrc.gc.ca/caom2ops/sync?ID=cadc%3ACFHT%2F2418077o.fits.fz&POS=CIRCLE+182.63574172891978+39.40572772909785+0.01 with ID 140309604252592,\n",
       " Downloaded object from URL https://ws.cadc-ccda.hia-iha.nrc-cnrc.gc.ca/caom2ops/sync?ID=cadc%3ACFHT%2F2418079o.fits.fz&POS=CIRCLE+182.63574172891978+39.40572772909785+0.01 with ID 140309604252736,\n",
       " Downloaded object from URL https://ws.cadc-ccda.hia-iha.nrc-cnrc.gc.ca/caom2ops/sync?ID=cadc%3ACFHT%2F2418082o.fits.fz&POS=CIRCLE+182.63574172891978+39.40572772909785+0.01 with ID 140309604252880,\n",
       " Downloaded object from URL https://ws.cadc-ccda.hia-iha.nrc-cnrc.gc.ca/caom2ops/sync?ID=cadc%3ACFHT%2F2418085o.fits.fz&POS=CIRCLE+182.63574172891978+39.40572772909785+0.01 with ID 140309604253024,\n",
       " Downloaded object from URL https://ws.cadc-ccda.hia-iha.nrc-cnrc.gc.ca/caom2ops/sync?ID=cadc%3ACFHT%2F2418090o.fits.fz&POS=CIRCLE+182.63574172891978+39.40572772909785+0.01 with ID 140309604253168,\n",
       " Downloaded object from URL https://ws.cadc-ccda.hia-iha.nrc-cnrc.gc.ca/caom2ops/sync?ID=cadc%3ACFHT%2F2418092o.fits.fz&POS=CIRCLE+182.63574172891978+39.40572772909785+0.01 with ID 140309604253312,\n",
       " Downloaded object from URL https://ws.cadc-ccda.hia-iha.nrc-cnrc.gc.ca/caom2ops/sync?ID=cadc%3ACFHT%2F2418093o.fits.fz&POS=CIRCLE+182.63574172891978+39.40572772909785+0.01 with ID 140309604253456,\n",
       " Downloaded object from URL https://ws.cadc-ccda.hia-iha.nrc-cnrc.gc.ca/caom2ops/sync?ID=cadc%3ACFHT%2F2418106o.fits.fz&POS=CIRCLE+182.63574172891978+39.40572772909785+0.01 with ID 140309604253600,\n",
       " Downloaded object from URL https://ws.cadc-ccda.hia-iha.nrc-cnrc.gc.ca/caom2ops/sync?ID=cadc%3ACFHT%2F2418114o.fits.fz&POS=CIRCLE+182.63574172891978+39.40572772909785+0.01 with ID 140309604479088,\n",
       " Downloaded object from URL https://ws.cadc-ccda.hia-iha.nrc-cnrc.gc.ca/caom2ops/sync?ID=cadc%3ACFHT%2F2418117o.fits.fz&POS=CIRCLE+182.63574172891978+39.40572772909785+0.01 with ID 140309604479232,\n",
       " Downloaded object from URL https://ws.cadc-ccda.hia-iha.nrc-cnrc.gc.ca/caom2ops/sync?ID=cadc%3ACFHT%2F2418118o.fits.fz&POS=CIRCLE+182.63574172891978+39.40572772909785+0.01 with ID 140309604479376,\n",
       " Downloaded object from URL https://ws.cadc-ccda.hia-iha.nrc-cnrc.gc.ca/caom2ops/sync?ID=cadc%3ACFHT%2F2418125o.fits.fz&POS=CIRCLE+182.63574172891978+39.40572772909785+0.01 with ID 140309604479520,\n",
       " Downloaded object from URL https://ws.cadc-ccda.hia-iha.nrc-cnrc.gc.ca/caom2ops/sync?ID=cadc%3ACFHT%2F2418126o.fits.fz&POS=CIRCLE+182.63574172891978+39.40572772909785+0.01 with ID 140309604479664,\n",
       " Downloaded object from URL https://ws.cadc-ccda.hia-iha.nrc-cnrc.gc.ca/caom2ops/sync?ID=cadc%3ACFHT%2F2418128o.fits.fz&POS=CIRCLE+182.63574172891978+39.40572772909785+0.01 with ID 140309604479808,\n",
       " Downloaded object from URL https://ws.cadc-ccda.hia-iha.nrc-cnrc.gc.ca/caom2ops/sync?ID=cadc%3ACFHT%2F2418130o.fits.fz&POS=CIRCLE+182.63574172891978+39.40572772909785+0.01 with ID 140309604479952,\n",
       " Downloaded object from URL https://ws.cadc-ccda.hia-iha.nrc-cnrc.gc.ca/caom2ops/sync?ID=cadc%3ACFHT%2F2418133o.fits.fz&POS=CIRCLE+182.63574172891978+39.40572772909785+0.01 with ID 140309604480096,\n",
       " Downloaded object from URL https://ws.cadc-ccda.hia-iha.nrc-cnrc.gc.ca/caom2ops/sync?ID=cadc%3ACFHT%2F2418136o.fits.fz&POS=CIRCLE+182.63574172891978+39.40572772909785+0.01 with ID 140309604480240,\n",
       " Downloaded object from URL https://ws.cadc-ccda.hia-iha.nrc-cnrc.gc.ca/caom2ops/sync?ID=cadc%3ACFHT%2F2418138o.fits.fz&POS=CIRCLE+182.63574172891978+39.40572772909785+0.01 with ID 140309604480384,\n",
       " Downloaded object from URL https://ws.cadc-ccda.hia-iha.nrc-cnrc.gc.ca/caom2ops/sync?ID=cadc%3ACFHT%2F2418141o.fits.fz&POS=CIRCLE+182.63574172891978+39.40572772909785+0.01 with ID 140309604480528,\n",
       " Downloaded object from URL https://ws.cadc-ccda.hia-iha.nrc-cnrc.gc.ca/caom2ops/sync?ID=cadc%3ACFHT%2F2418143o.fits.fz&POS=CIRCLE+182.63574172891978+39.40572772909785+0.01 with ID 140309604480672,\n",
       " Downloaded object from URL https://ws.cadc-ccda.hia-iha.nrc-cnrc.gc.ca/caom2ops/sync?ID=cadc%3ACFHT%2F2418146o.fits.fz&POS=CIRCLE+182.63574172891978+39.40572772909785+0.01 with ID 140309604480816,\n",
       " Downloaded object from URL https://ws.cadc-ccda.hia-iha.nrc-cnrc.gc.ca/caom2ops/sync?ID=cadc%3ACFHT%2F2418149o.fits.fz&POS=CIRCLE+182.63574172891978+39.40572772909785+0.01 with ID 140309604480960,\n",
       " Downloaded object from URL https://ws.cadc-ccda.hia-iha.nrc-cnrc.gc.ca/caom2ops/sync?ID=cadc%3ACFHT%2F2418151o.fits.fz&POS=CIRCLE+182.63574172891978+39.40572772909785+0.01 with ID 140309604481104,\n",
       " Downloaded object from URL https://ws.cadc-ccda.hia-iha.nrc-cnrc.gc.ca/caom2ops/sync?ID=cadc%3ACFHT%2F2418154o.fits.fz&POS=CIRCLE+182.63574172891978+39.40572772909785+0.01 with ID 140309604481248,\n",
       " Downloaded object from URL https://ws.cadc-ccda.hia-iha.nrc-cnrc.gc.ca/caom2ops/sync?ID=cadc%3ACFHT%2F2418164o.fits.fz&POS=CIRCLE+182.63574172891978+39.40572772909785+0.01 with ID 140309604481392,\n",
       " Downloaded object from URL https://ws.cadc-ccda.hia-iha.nrc-cnrc.gc.ca/caom2ops/sync?ID=cadc%3ACFHT%2F2417471y.fits.fz&POS=CIRCLE+182.63574172891978+39.40572772909785+0.01 with ID 140309604481536,\n",
       " Downloaded object from URL https://ws.cadc-ccda.hia-iha.nrc-cnrc.gc.ca/caom2ops/sync?ID=cadc%3ACFHT%2F2417576w.fits.fz&POS=CIRCLE+182.63574172891978+39.40572772909785+0.01 with ID 140309604481680,\n",
       " Downloaded object from URL https://ws.cadc-ccda.hia-iha.nrc-cnrc.gc.ca/caom2ops/sync?ID=cadc%3ACFHT%2F2417552y.fits.fz&POS=CIRCLE+182.63574172891978+39.40572772909785+0.01 with ID 140309604481824,\n",
       " Downloaded object from URL https://ws.cadc-ccda.hia-iha.nrc-cnrc.gc.ca/caom2ops/sync?ID=cadc%3ACFHT%2F2417394w.fits.fz&POS=CIRCLE+182.63574172891978+39.40572772909785+0.01 with ID 140309604481968,\n",
       " Downloaded object from URL https://ws.cadc-ccda.hia-iha.nrc-cnrc.gc.ca/caom2ops/sync?ID=cadc%3ACFHT%2F2418158y.fits.fz&POS=CIRCLE+182.63574172891978+39.40572772909785+0.01 with ID 140309604482112,\n",
       " Downloaded object from URL https://ws.cadc-ccda.hia-iha.nrc-cnrc.gc.ca/caom2ops/sync?ID=cadc%3ACFHT%2F2418157y.fits.fz&POS=CIRCLE+182.63574172891978+39.40572772909785+0.01 with ID 140309604482256,\n",
       " Downloaded object from URL https://ws.cadc-ccda.hia-iha.nrc-cnrc.gc.ca/caom2ops/sync?ID=cadc%3ACFHT%2F2418082y.fits.fz&POS=CIRCLE+182.63574172891978+39.40572772909785+0.01 with ID 140309604482400,\n",
       " Downloaded object from URL https://ws.cadc-ccda.hia-iha.nrc-cnrc.gc.ca/caom2ops/sync?ID=cadc%3ACFHT%2F2417366y.fits.fz&POS=CIRCLE+182.63574172891978+39.40572772909785+0.01 with ID 140309604482544,\n",
       " Downloaded object from URL https://ws.cadc-ccda.hia-iha.nrc-cnrc.gc.ca/caom2ops/sync?ID=cadc%3ACFHT%2F2417511w.fits.fz&POS=CIRCLE+182.63574172891978+39.40572772909785+0.01 with ID 140309604482688,\n",
       " Downloaded object from URL https://ws.cadc-ccda.hia-iha.nrc-cnrc.gc.ca/caom2ops/sync?ID=cadc%3ACFHT%2F2417419y.fits.fz&POS=CIRCLE+182.63574172891978+39.40572772909785+0.01 with ID 140309604482832,\n",
       " Downloaded object from URL https://ws.cadc-ccda.hia-iha.nrc-cnrc.gc.ca/caom2ops/sync?ID=cadc%3ACFHT%2F2417525y.fits.fz&POS=CIRCLE+182.63574172891978+39.40572772909785+0.01 with ID 140309604482976,\n",
       " Downloaded object from URL https://ws.cadc-ccda.hia-iha.nrc-cnrc.gc.ca/caom2ops/sync?ID=cadc%3ACFHT%2F2417465w.fits.fz&POS=CIRCLE+182.63574172891978+39.40572772909785+0.01 with ID 140309604380784,\n",
       " Downloaded object from URL https://ws.cadc-ccda.hia-iha.nrc-cnrc.gc.ca/caom2ops/sync?ID=cadc%3ACFHT%2F2417376y.fits.fz&POS=CIRCLE+182.63574172891978+39.40572772909785+0.01 with ID 140309604380928,\n",
       " Downloaded object from URL https://ws.cadc-ccda.hia-iha.nrc-cnrc.gc.ca/caom2ops/sync?ID=cadc%3ACFHT%2F2417441y.fits.fz&POS=CIRCLE+182.63574172891978+39.40572772909785+0.01 with ID 140309604381072,\n",
       " Downloaded object from URL https://ws.cadc-ccda.hia-iha.nrc-cnrc.gc.ca/caom2ops/sync?ID=cadc%3ACFHT%2F2418074y.fits.fz&POS=CIRCLE+182.63574172891978+39.40572772909785+0.01 with ID 140309604381216,\n",
       " Downloaded object from URL https://ws.cadc-ccda.hia-iha.nrc-cnrc.gc.ca/caom2ops/sync?ID=cadc%3ACFHT%2F2417410y.fits.fz&POS=CIRCLE+182.63574172891978+39.40572772909785+0.01 with ID 140309604381360,\n",
       " Downloaded object from URL https://ws.cadc-ccda.hia-iha.nrc-cnrc.gc.ca/caom2ops/sync?ID=cadc%3ACFHT%2F2418035y.fits.fz&POS=CIRCLE+182.63574172891978+39.40572772909785+0.01 with ID 140309604381504,\n",
       " Downloaded object from URL https://ws.cadc-ccda.hia-iha.nrc-cnrc.gc.ca/caom2ops/sync?ID=cadc%3ACFHT%2F2417452o.fits.fz&POS=CIRCLE+182.63574172891978+39.40572772909785+0.01 with ID 140309604381648,\n",
       " Downloaded object from URL https://ws.cadc-ccda.hia-iha.nrc-cnrc.gc.ca/caom2ops/sync?ID=cadc%3ACFHT%2F2417528w.fits.fz&POS=CIRCLE+182.63574172891978+39.40572772909785+0.01 with ID 140309604381792,\n",
       " Downloaded object from URL https://ws.cadc-ccda.hia-iha.nrc-cnrc.gc.ca/caom2ops/sync?ID=cadc%3ACFHT%2F2418062y.fits.fz&POS=CIRCLE+182.63574172891978+39.40572772909785+0.01 with ID 140309604381936,\n",
       " Downloaded object from URL https://ws.cadc-ccda.hia-iha.nrc-cnrc.gc.ca/caom2ops/sync?ID=cadc%3ACFHT%2F2417473w.fits.fz&POS=CIRCLE+182.63574172891978+39.40572772909785+0.01 with ID 140309604382080,\n",
       " Downloaded object from URL https://ws.cadc-ccda.hia-iha.nrc-cnrc.gc.ca/caom2ops/sync?ID=cadc%3ACFHT%2F2417389y.fits.fz&POS=CIRCLE+182.63574172891978+39.40572772909785+0.01 with ID 140309604382224,\n",
       " Downloaded object from URL https://ws.cadc-ccda.hia-iha.nrc-cnrc.gc.ca/caom2ops/sync?ID=cadc%3ACFHT%2F2417564y.fits.fz&POS=CIRCLE+182.63574172891978+39.40572772909785+0.01 with ID 140309604382368,\n",
       " Downloaded object from URL https://ws.cadc-ccda.hia-iha.nrc-cnrc.gc.ca/caom2ops/sync?ID=cadc%3ACFHT%2F2418084y.fits.fz&POS=CIRCLE+182.63574172891978+39.40572772909785+0.01 with ID 140309604382512,\n",
       " Downloaded object from URL https://ws.cadc-ccda.hia-iha.nrc-cnrc.gc.ca/caom2ops/sync?ID=cadc%3ACFHT%2F2417392w.fits.fz&POS=CIRCLE+182.63574172891978+39.40572772909785+0.01 with ID 140309604382656,\n",
       " Downloaded object from URL https://ws.cadc-ccda.hia-iha.nrc-cnrc.gc.ca/caom2ops/sync?ID=cadc%3ACFHT%2F2418090w.fits.fz&POS=CIRCLE+182.63574172891978+39.40572772909785+0.01 with ID 140309604382800,\n",
       " Downloaded object from URL https://ws.cadc-ccda.hia-iha.nrc-cnrc.gc.ca/caom2ops/sync?ID=cadc%3ACFHT%2F2418052y.fits.fz&POS=CIRCLE+182.63574172891978+39.40572772909785+0.01 with ID 140309604382944,\n",
       " Downloaded object from URL https://ws.cadc-ccda.hia-iha.nrc-cnrc.gc.ca/caom2ops/sync?ID=cadc%3ACFHT%2F2417527w.fits.fz&POS=CIRCLE+182.63574172891978+39.40572772909785+0.01 with ID 140309604383088,\n",
       " Downloaded object from URL https://ws.cadc-ccda.hia-iha.nrc-cnrc.gc.ca/caom2ops/sync?ID=cadc%3ACFHT%2F2417408y.fits.fz&POS=CIRCLE+182.63574172891978+39.40572772909785+0.01 with ID 140309604383232,\n",
       " Downloaded object from URL https://ws.cadc-ccda.hia-iha.nrc-cnrc.gc.ca/caom2ops/sync?ID=cadc%3ACFHT%2F2417544y.fits.fz&POS=CIRCLE+182.63574172891978+39.40572772909785+0.01 with ID 140309604383376,\n",
       " Downloaded object from URL https://ws.cadc-ccda.hia-iha.nrc-cnrc.gc.ca/caom2ops/sync?ID=cadc%3ACFHT%2F2417478y.fits.fz&POS=CIRCLE+182.63574172891978+39.40572772909785+0.01 with ID 140309604383520,\n",
       " Downloaded object from URL https://ws.cadc-ccda.hia-iha.nrc-cnrc.gc.ca/caom2ops/sync?ID=cadc%3ACFHT%2F2417560w.fits.fz&POS=CIRCLE+182.63574172891978+39.40572772909785+0.01 with ID 140309604383664,\n",
       " Downloaded object from URL https://ws.cadc-ccda.hia-iha.nrc-cnrc.gc.ca/caom2ops/sync?ID=cadc%3ACFHT%2F2417537w.fits.fz&POS=CIRCLE+182.63574172891978+39.40572772909785+0.01 with ID 140309604383808,\n",
       " Downloaded object from URL https://ws.cadc-ccda.hia-iha.nrc-cnrc.gc.ca/caom2ops/sync?ID=cadc%3ACFHT%2F2417534y.fits.fz&POS=CIRCLE+182.63574172891978+39.40572772909785+0.01 with ID 140309604383952,\n",
       " Downloaded object from URL https://ws.cadc-ccda.hia-iha.nrc-cnrc.gc.ca/caom2ops/sync?ID=cadc%3ACFHT%2F2418093y.fits.fz&POS=CIRCLE+182.63574172891978+39.40572772909785+0.01 with ID 140309604384096,\n",
       " Downloaded object from URL https://ws.cadc-ccda.hia-iha.nrc-cnrc.gc.ca/caom2ops/sync?ID=cadc%3ACFHT%2F2417427y.fits.fz&POS=CIRCLE+182.63574172891978+39.40572772909785+0.01 with ID 140309604384240,\n",
       " Downloaded object from URL https://ws.cadc-ccda.hia-iha.nrc-cnrc.gc.ca/caom2ops/sync?ID=cadc%3ACFHT%2F2418036w.fits.fz&POS=CIRCLE+182.63574172891978+39.40572772909785+0.01 with ID 140309604384384,\n",
       " Downloaded object from URL https://ws.cadc-ccda.hia-iha.nrc-cnrc.gc.ca/caom2ops/sync?ID=cadc%3ACFHT%2F2417558w.fits.fz&POS=CIRCLE+182.63574172891978+39.40572772909785+0.01 with ID 140309604384528,\n",
       " Downloaded object from URL https://ws.cadc-ccda.hia-iha.nrc-cnrc.gc.ca/caom2ops/sync?ID=cadc%3ACFHT%2F2417378y.fits.fz&POS=CIRCLE+182.63574172891978+39.40572772909785+0.01 with ID 140309604384672,\n",
       " Downloaded object from URL https://ws.cadc-ccda.hia-iha.nrc-cnrc.gc.ca/caom2ops/sync?ID=cadc%3ACFHT%2F2417418y.fits.fz&POS=CIRCLE+182.63574172891978+39.40572772909785+0.01 with ID 140309604298864,\n",
       " Downloaded object from URL https://ws.cadc-ccda.hia-iha.nrc-cnrc.gc.ca/caom2ops/sync?ID=cadc%3ACFHT%2F2418152w.fits.fz&POS=CIRCLE+182.63574172891978+39.40572772909785+0.01 with ID 140309604299008,\n",
       " Downloaded object from URL https://ws.cadc-ccda.hia-iha.nrc-cnrc.gc.ca/caom2ops/sync?ID=cadc%3ACFHT%2F2417489y.fits.fz&POS=CIRCLE+182.63574172891978+39.40572772909785+0.01 with ID 140309604299152,\n",
       " Downloaded object from URL https://ws.cadc-ccda.hia-iha.nrc-cnrc.gc.ca/caom2ops/sync?ID=cadc%3ACFHT%2F2418055y.fits.fz&POS=CIRCLE+182.63574172891978+39.40572772909785+0.01 with ID 140309604299296,\n",
       " Downloaded object from URL https://ws.cadc-ccda.hia-iha.nrc-cnrc.gc.ca/caom2ops/sync?ID=cadc%3ACFHT%2F2417460y.fits.fz&POS=CIRCLE+182.63574172891978+39.40572772909785+0.01 with ID 140309604299440,\n",
       " Downloaded object from URL https://ws.cadc-ccda.hia-iha.nrc-cnrc.gc.ca/caom2ops/sync?ID=cadc%3ACFHT%2F2417438y.fits.fz&POS=CIRCLE+182.63574172891978+39.40572772909785+0.01 with ID 140309604299584,\n",
       " Downloaded object from URL https://ws.cadc-ccda.hia-iha.nrc-cnrc.gc.ca/caom2ops/sync?ID=cadc%3ACFHT%2F2417504y.fits.fz&POS=CIRCLE+182.63574172891978+39.40572772909785+0.01 with ID 140309604299728,\n",
       " Downloaded object from URL https://ws.cadc-ccda.hia-iha.nrc-cnrc.gc.ca/caom2ops/sync?ID=cadc%3ACFHT%2F2417454w.fits.fz&POS=CIRCLE+182.63574172891978+39.40572772909785+0.01 with ID 140309604299872,\n",
       " Downloaded object from URL https://ws.cadc-ccda.hia-iha.nrc-cnrc.gc.ca/caom2ops/sync?ID=cadc%3ACFHT%2F2417486y.fits.fz&POS=CIRCLE+182.63574172891978+39.40572772909785+0.01 with ID 140309604300016,\n",
       " Downloaded object from URL https://ws.cadc-ccda.hia-iha.nrc-cnrc.gc.ca/caom2ops/sync?ID=ad%3ACFHT%2F429032o.fits.gz&POS=CIRCLE+182.63574172891978+39.40572772909785+0.01 with ID 140309604300160,\n",
       " Downloaded object from URL https://ws.cadc-ccda.hia-iha.nrc-cnrc.gc.ca/caom2ops/sync?ID=ad%3ACFHT%2F435724o.fits.gz&POS=CIRCLE+182.63574172891978+39.40572772909785+0.01 with ID 140309604300304,\n",
       " Downloaded object from URL https://ws.cadc-ccda.hia-iha.nrc-cnrc.gc.ca/caom2ops/sync?ID=ad%3ACFHT%2F435736o.fits.gz&POS=CIRCLE+182.63574172891978+39.40572772909785+0.01 with ID 140309604300448,\n",
       " Downloaded object from URL https://ws.cadc-ccda.hia-iha.nrc-cnrc.gc.ca/caom2ops/sync?ID=ad%3ACFHT%2F435738o.fits.gz&POS=CIRCLE+182.63574172891978+39.40572772909785+0.01 with ID 140309604300592,\n",
       " Downloaded object from URL https://ws.cadc-ccda.hia-iha.nrc-cnrc.gc.ca/caom2ops/sync?ID=ad%3ACFHT%2F435742o.fits.gz&POS=CIRCLE+182.63574172891978+39.40572772909785+0.01 with ID 140309604300736,\n",
       " Downloaded object from URL https://ws.cadc-ccda.hia-iha.nrc-cnrc.gc.ca/caom2ops/sync?ID=ad%3ACFHT%2F435744o.fits.gz&POS=CIRCLE+182.63574172891978+39.40572772909785+0.01 with ID 140309604300880,\n",
       " Downloaded object from URL https://ws.cadc-ccda.hia-iha.nrc-cnrc.gc.ca/caom2ops/sync?ID=ad%3ACFHT%2F435907o.fits.gz&POS=CIRCLE+182.63574172891978+39.40572772909785+0.01 with ID 140309604301024,\n",
       " Downloaded object from URL https://ws.cadc-ccda.hia-iha.nrc-cnrc.gc.ca/caom2ops/sync?ID=ad%3ACFHT%2F435910o.fits.gz&POS=CIRCLE+182.63574172891978+39.40572772909785+0.01 with ID 140309604301168,\n",
       " Downloaded object from URL https://ws.cadc-ccda.hia-iha.nrc-cnrc.gc.ca/caom2ops/sync?ID=ad%3ACFHT%2F435912o.fits.gz&POS=CIRCLE+182.63574172891978+39.40572772909785+0.01 with ID 140309604301312,\n",
       " Downloaded object from URL https://ws.cadc-ccda.hia-iha.nrc-cnrc.gc.ca/caom2ops/sync?ID=ad%3ACFHT%2F435914o.fits.gz&POS=CIRCLE+182.63574172891978+39.40572772909785+0.01 with ID 140309604301456,\n",
       " Downloaded object from URL https://ws.cadc-ccda.hia-iha.nrc-cnrc.gc.ca/caom2ops/sync?ID=ad%3ACFHT%2F435963o.fits.gz&POS=CIRCLE+182.63574172891978+39.40572772909785+0.01 with ID 140309604301600,\n",
       " Downloaded object from URL https://ws.cadc-ccda.hia-iha.nrc-cnrc.gc.ca/caom2ops/sync?ID=ad%3ACFHT%2F435964o.fits.gz&POS=CIRCLE+182.63574172891978+39.40572772909785+0.01 with ID 140309604301744,\n",
       " Downloaded object from URL https://ws.cadc-ccda.hia-iha.nrc-cnrc.gc.ca/caom2ops/sync?ID=ad%3ACFHT%2F435962o.fits.gz&POS=CIRCLE+182.63574172891978+39.40572772909785+0.01 with ID 140309604301888,\n",
       " Downloaded object from URL https://ws.cadc-ccda.hia-iha.nrc-cnrc.gc.ca/caom2ops/sync?ID=ad%3ACFHT%2F429031o.fits.gz&POS=CIRCLE+182.63574172891978+39.40572772909785+0.01 with ID 140309604302032,\n",
       " Downloaded object from URL https://ws.cadc-ccda.hia-iha.nrc-cnrc.gc.ca/caom2ops/sync?ID=ad%3ACFHT%2F429038o.fits.gz&POS=CIRCLE+182.63574172891978+39.40572772909785+0.01 with ID 140309604302176,\n",
       " Downloaded object from URL https://ws.cadc-ccda.hia-iha.nrc-cnrc.gc.ca/caom2ops/sync?ID=ad%3ACFHT%2F429050o.fits.gz&POS=CIRCLE+182.63574172891978+39.40572772909785+0.01 with ID 140309604302320,\n",
       " Downloaded object from URL https://ws.cadc-ccda.hia-iha.nrc-cnrc.gc.ca/caom2ops/sync?ID=ad%3ACFHT%2F429055o.fits.gz&POS=CIRCLE+182.63574172891978+39.40572772909785+0.01 with ID 140309604302464,\n",
       " Downloaded object from URL https://ws.cadc-ccda.hia-iha.nrc-cnrc.gc.ca/caom2ops/sync?ID=ad%3ACFHT%2F429356o.fits.gz&POS=CIRCLE+182.63574172891978+39.40572772909785+0.01 with ID 140309604302608,\n",
       " Downloaded object from URL https://ws.cadc-ccda.hia-iha.nrc-cnrc.gc.ca/caom2ops/sync?ID=ad%3ACFHT%2F429357o.fits.gz&POS=CIRCLE+182.63574172891978+39.40572772909785+0.01 with ID 140309604302752,\n",
       " Downloaded object from URL https://ws.cadc-ccda.hia-iha.nrc-cnrc.gc.ca/caom2ops/sync?ID=ad%3ACFHT%2F429819o.fits.gz&POS=CIRCLE+182.63574172891978+39.40572772909785+0.01 with ID 140309604413552,\n",
       " Downloaded object from URL https://ws.cadc-ccda.hia-iha.nrc-cnrc.gc.ca/caom2ops/sync?ID=ad%3ACFHT%2F429039o.fits.gz&POS=CIRCLE+182.63574172891978+39.40572772909785+0.01 with ID 140309604413696,\n",
       " Downloaded object from URL https://ws.cadc-ccda.hia-iha.nrc-cnrc.gc.ca/caom2ops/sync?ID=ad%3ACFHT%2F429052o.fits.gz&POS=CIRCLE+182.63574172891978+39.40572772909785+0.01 with ID 140309604413840,\n",
       " Downloaded object from URL https://ws.cadc-ccda.hia-iha.nrc-cnrc.gc.ca/caom2ops/sync?ID=ad%3ACFHT%2F429358o.fits.gz&POS=CIRCLE+182.63574172891978+39.40572772909785+0.01 with ID 140309604413984,\n",
       " Downloaded object from URL https://ws.cadc-ccda.hia-iha.nrc-cnrc.gc.ca/caom2ops/sync?ID=cadc%3ACFHT%2F478684o.fits&POS=CIRCLE+182.63574172891978+39.40572772909785+0.01 with ID 140309604414128,\n",
       " Downloaded object from URL https://ws.cadc-ccda.hia-iha.nrc-cnrc.gc.ca/caom2ops/sync?ID=cadc%3ACFHT%2F2417545p.fits.fz&POS=CIRCLE+182.63574172891978+39.40572772909785+0.01 with ID 140309604414272,\n",
       " Downloaded object from URL https://ws.cadc-ccda.hia-iha.nrc-cnrc.gc.ca/caom2ops/sync?ID=ad%3ACFHT%2F435908o.fits.gz&POS=CIRCLE+182.63574172891978+39.40572772909785+0.01 with ID 140309604414416,\n",
       " Downloaded object from URL https://ws.cadc-ccda.hia-iha.nrc-cnrc.gc.ca/caom2ops/sync?ID=ad%3ACFHT%2F435916o.fits.gz&POS=CIRCLE+182.63574172891978+39.40572772909785+0.01 with ID 140309604414560,\n",
       " Downloaded object from URL https://ws.cadc-ccda.hia-iha.nrc-cnrc.gc.ca/caom2ops/sync?ID=cadc%3ACFHT%2F478679o.fits&POS=CIRCLE+182.63574172891978+39.40572772909785+0.01 with ID 140309604414704,\n",
       " Downloaded object from URL https://ws.cadc-ccda.hia-iha.nrc-cnrc.gc.ca/caom2ops/sync?ID=cadc%3ACFHT%2F478686o.fits&POS=CIRCLE+182.63574172891978+39.40572772909785+0.01 with ID 140309604414848,\n",
       " Downloaded object from URL https://ws.cadc-ccda.hia-iha.nrc-cnrc.gc.ca/caom2ops/sync?ID=cadc%3ACFHT%2F478691o.fits&POS=CIRCLE+182.63574172891978+39.40572772909785+0.01 with ID 140309604414992,\n",
       " Downloaded object from URL https://ws.cadc-ccda.hia-iha.nrc-cnrc.gc.ca/caom2ops/sync?ID=cadc%3ACFHT%2F478692o.fits&POS=CIRCLE+182.63574172891978+39.40572772909785+0.01 with ID 140309604415136,\n",
       " Downloaded object from URL https://ws.cadc-ccda.hia-iha.nrc-cnrc.gc.ca/caom2ops/sync?ID=ad%3ACFHT%2F429588o.fits.gz&POS=CIRCLE+182.63574172891978+39.40572772909785+0.01 with ID 140309604415280,\n",
       " Downloaded object from URL https://ws.cadc-ccda.hia-iha.nrc-cnrc.gc.ca/caom2ops/sync?ID=ad%3ACFHT%2F429053o.fits.gz&POS=CIRCLE+182.63574172891978+39.40572772909785+0.01 with ID 140309604415424,\n",
       " Downloaded object from URL https://ws.cadc-ccda.hia-iha.nrc-cnrc.gc.ca/caom2ops/sync?ID=cadc%3ACFHT%2F518479o.fits&POS=CIRCLE+182.63574172891978+39.40572772909785+0.01 with ID 140309604415568,\n",
       " Downloaded object from URL https://ws.cadc-ccda.hia-iha.nrc-cnrc.gc.ca/caom2ops/sync?ID=cadc%3ACFHT%2F518482o.fits&POS=CIRCLE+182.63574172891978+39.40572772909785+0.01 with ID 140309604415712,\n",
       " Downloaded object from URL https://ws.cadc-ccda.hia-iha.nrc-cnrc.gc.ca/caom2ops/sync?ID=cadc%3ACFHT%2F1891427o.fits.fz&POS=CIRCLE+182.63574172891978+39.40572772909785+0.01 with ID 140309604415856,\n",
       " Downloaded object from URL https://ws.cadc-ccda.hia-iha.nrc-cnrc.gc.ca/caom2ops/sync?ID=cadc%3ACFHT%2F1891427p.fits.fz&POS=CIRCLE+182.63574172891978+39.40572772909785+0.01 with ID 140309604416000,\n",
       " Downloaded object from URL https://ws.cadc-ccda.hia-iha.nrc-cnrc.gc.ca/caom2ops/sync?ID=cadc%3ACFHT%2F2376956p.fits.fz&POS=CIRCLE+182.63574172891978+39.40572772909785+0.01 with ID 140309604416144,\n",
       " Downloaded object from URL https://ws.cadc-ccda.hia-iha.nrc-cnrc.gc.ca/caom2ops/sync?ID=cadc%3ACFHT%2F2418126p.fits.fz&POS=CIRCLE+182.63574172891978+39.40572772909785+0.01 with ID 140309604416288,\n",
       " Downloaded object from URL https://ws.cadc-ccda.hia-iha.nrc-cnrc.gc.ca/caom2ops/sync?ID=cadc%3ACFHT%2F2418126s.fits.fz&POS=CIRCLE+182.63574172891978+39.40572772909785+0.01 with ID 140309604416432,\n",
       " Downloaded object from URL https://ws.cadc-ccda.hia-iha.nrc-cnrc.gc.ca/caom2ops/sync?ID=cadc%3ACFHT%2F2418126w.fits.fz&POS=CIRCLE+182.63574172891978+39.40572772909785+0.01 with ID 140309604416576,\n",
       " Downloaded object from URL https://ws.cadc-ccda.hia-iha.nrc-cnrc.gc.ca/caom2ops/sync?ID=cadc%3ACFHT%2F2418126y.fits.fz&POS=CIRCLE+182.63574172891978+39.40572772909785+0.01 with ID 140309604416720,\n",
       " Downloaded object from URL https://ws.cadc-ccda.hia-iha.nrc-cnrc.gc.ca/caom2ops/sync?ID=cadc%3ACFHT%2F2418122o.fits.fz&POS=CIRCLE+182.63574172891978+39.40572772909785+0.01 with ID 140309604416864,\n",
       " Downloaded object from URL https://ws.cadc-ccda.hia-iha.nrc-cnrc.gc.ca/caom2ops/sync?ID=cadc%3ACFHT%2F2418125w.fits.fz&POS=CIRCLE+182.63574172891978+39.40572772909785+0.01 with ID 140309604417008,\n",
       " Downloaded object from URL https://ws.cadc-ccda.hia-iha.nrc-cnrc.gc.ca/caom2ops/sync?ID=cadc%3ACFHT%2F2418125y.fits.fz&POS=CIRCLE+182.63574172891978+39.40572772909785+0.01 with ID 140309604417152,\n",
       " Downloaded object from URL https://ws.cadc-ccda.hia-iha.nrc-cnrc.gc.ca/caom2ops/sync?ID=cadc%3ACFHT%2F2418127a.fits.fz&POS=CIRCLE+182.63574172891978+39.40572772909785+0.01 with ID 140309604417296,\n",
       " Downloaded object from URL https://ws.cadc-ccda.hia-iha.nrc-cnrc.gc.ca/caom2ops/sync?ID=cadc%3ACFHT%2F2418130p.fits.fz&POS=CIRCLE+182.63574172891978+39.40572772909785+0.01 with ID 140309604417440,\n",
       " Downloaded object from URL https://ws.cadc-ccda.hia-iha.nrc-cnrc.gc.ca/caom2ops/sync?ID=cadc%3ACFHT%2F2418130s.fits.fz&POS=CIRCLE+182.63574172891978+39.40572772909785+0.01 with ID 140309604393072,\n",
       " Downloaded object from URL https://ws.cadc-ccda.hia-iha.nrc-cnrc.gc.ca/caom2ops/sync?ID=cadc%3ACFHT%2F2418130y.fits.fz&POS=CIRCLE+182.63574172891978+39.40572772909785+0.01 with ID 140309604393216,\n",
       " Downloaded object from URL https://ws.cadc-ccda.hia-iha.nrc-cnrc.gc.ca/caom2ops/sync?ID=cadc%3ACFHT%2F2418133y.fits.fz&POS=CIRCLE+182.63574172891978+39.40572772909785+0.01 with ID 140309604393360,\n",
       " Downloaded object from URL https://ws.cadc-ccda.hia-iha.nrc-cnrc.gc.ca/caom2ops/sync?ID=cadc%3ACFHT%2F2418134a.fits.fz&POS=CIRCLE+182.63574172891978+39.40572772909785+0.01 with ID 140309604393504,\n",
       " Downloaded object from URL https://ws.cadc-ccda.hia-iha.nrc-cnrc.gc.ca/caom2ops/sync?ID=cadc%3ACFHT%2F2418128y.fits.fz&POS=CIRCLE+182.63574172891978+39.40572772909785+0.01 with ID 140309604393648,\n",
       " Downloaded object from URL https://ws.cadc-ccda.hia-iha.nrc-cnrc.gc.ca/caom2ops/sync?ID=cadc%3ACFHT%2F2418135o.fits.fz&POS=CIRCLE+182.63574172891978+39.40572772909785+0.01 with ID 140309604393792,\n",
       " Downloaded object from URL https://ws.cadc-ccda.hia-iha.nrc-cnrc.gc.ca/caom2ops/sync?ID=cadc%3ACFHT%2F2418135p.fits.fz&POS=CIRCLE+182.63574172891978+39.40572772909785+0.01 with ID 140309604393936,\n",
       " Downloaded object from URL https://ws.cadc-ccda.hia-iha.nrc-cnrc.gc.ca/caom2ops/sync?ID=cadc%3ACFHT%2F2418136p.fits.fz&POS=CIRCLE+182.63574172891978+39.40572772909785+0.01 with ID 140309604394080,\n",
       " Downloaded object from URL https://ws.cadc-ccda.hia-iha.nrc-cnrc.gc.ca/caom2ops/sync?ID=cadc%3ACFHT%2F2418136s.fits.fz&POS=CIRCLE+182.63574172891978+39.40572772909785+0.01 with ID 140309604394224,\n",
       " Downloaded object from URL https://ws.cadc-ccda.hia-iha.nrc-cnrc.gc.ca/caom2ops/sync?ID=cadc%3ACFHT%2F2418136y.fits.fz&POS=CIRCLE+182.63574172891978+39.40572772909785+0.01 with ID 140309604394368,\n",
       " Downloaded object from URL https://ws.cadc-ccda.hia-iha.nrc-cnrc.gc.ca/caom2ops/sync?ID=cadc%3ACFHT%2F2418142a.fits.fz&POS=CIRCLE+182.63574172891978+39.40572772909785+0.01 with ID 140309604394512,\n",
       " Downloaded object from URL https://ws.cadc-ccda.hia-iha.nrc-cnrc.gc.ca/caom2ops/sync?ID=cadc%3ACFHT%2F2418141p.fits.fz&POS=CIRCLE+182.63574172891978+39.40572772909785+0.01 with ID 140309604394656,\n",
       " Downloaded object from URL https://ws.cadc-ccda.hia-iha.nrc-cnrc.gc.ca/caom2ops/sync?ID=cadc%3ACFHT%2F2418141s.fits.fz&POS=CIRCLE+182.63574172891978+39.40572772909785+0.01 with ID 140309604394800,\n",
       " Downloaded object from URL https://ws.cadc-ccda.hia-iha.nrc-cnrc.gc.ca/caom2ops/sync?ID=cadc%3ACFHT%2F2418141y.fits.fz&POS=CIRCLE+182.63574172891978+39.40572772909785+0.01 with ID 140309604394944,\n",
       " Downloaded object from URL https://ws.cadc-ccda.hia-iha.nrc-cnrc.gc.ca/caom2ops/sync?ID=cadc%3ACFHT%2F2418144o.fits.fz&POS=CIRCLE+182.63574172891978+39.40572772909785+0.01 with ID 140309604395088,\n",
       " Downloaded object from URL https://ws.cadc-ccda.hia-iha.nrc-cnrc.gc.ca/caom2ops/sync?ID=cadc%3ACFHT%2F2418143s.fits.fz&POS=CIRCLE+182.63574172891978+39.40572772909785+0.01 with ID 140309604395232,\n",
       " Downloaded object from URL https://ws.cadc-ccda.hia-iha.nrc-cnrc.gc.ca/caom2ops/sync?ID=cadc%3ACFHT%2F2418143w.fits.fz&POS=CIRCLE+182.63574172891978+39.40572772909785+0.01 with ID 140309604395376,\n",
       " Downloaded object from URL https://ws.cadc-ccda.hia-iha.nrc-cnrc.gc.ca/caom2ops/sync?ID=cadc%3ACFHT%2F2418146y.fits.fz&POS=CIRCLE+182.63574172891978+39.40572772909785+0.01 with ID 140309604395520,\n",
       " Downloaded object from URL https://ws.cadc-ccda.hia-iha.nrc-cnrc.gc.ca/caom2ops/sync?ID=cadc%3ACFHT%2F2418148a.fits.fz&POS=CIRCLE+182.63574172891978+39.40572772909785+0.01 with ID 140309604395664,\n",
       " Downloaded object from URL https://ws.cadc-ccda.hia-iha.nrc-cnrc.gc.ca/caom2ops/sync?ID=cadc%3ACFHT%2F2418149y.fits.fz&POS=CIRCLE+182.63574172891978+39.40572772909785+0.01 with ID 140309604395808,\n",
       " Downloaded object from URL https://ws.cadc-ccda.hia-iha.nrc-cnrc.gc.ca/caom2ops/sync?ID=cadc%3ACFHT%2F2418153a.fits.fz&POS=CIRCLE+182.63574172891978+39.40572772909785+0.01 with ID 140309604395952,\n",
       " Downloaded object from URL https://ws.cadc-ccda.hia-iha.nrc-cnrc.gc.ca/caom2ops/sync?ID=cadc%3ACFHT%2F2418151y.fits.fz&POS=CIRCLE+182.63574172891978+39.40572772909785+0.01 with ID 140309604396096,\n",
       " Downloaded object from URL https://ws.cadc-ccda.hia-iha.nrc-cnrc.gc.ca/caom2ops/sync?ID=cadc%3ACFHT%2F2418154s.fits.fz&POS=CIRCLE+182.63574172891978+39.40572772909785+0.01 with ID 140309604396240,\n",
       " Downloaded object from URL https://ws.cadc-ccda.hia-iha.nrc-cnrc.gc.ca/caom2ops/sync?ID=cadc%3ACFHT%2F2418152o.fits.fz&POS=CIRCLE+182.63574172891978+39.40572772909785+0.01 with ID 140309604396384,\n",
       " Downloaded object from URL https://ws.cadc-ccda.hia-iha.nrc-cnrc.gc.ca/caom2ops/sync?ID=cadc%3ACFHT%2F2418158o.fits.fz&POS=CIRCLE+182.63574172891978+39.40572772909785+0.01 with ID 140309604396528,\n",
       " Downloaded object from URL https://ws.cadc-ccda.hia-iha.nrc-cnrc.gc.ca/caom2ops/sync?ID=cadc%3ACFHT%2F2418158s.fits.fz&POS=CIRCLE+182.63574172891978+39.40572772909785+0.01 with ID 140309604396672,\n",
       " Downloaded object from URL https://ws.cadc-ccda.hia-iha.nrc-cnrc.gc.ca/caom2ops/sync?ID=cadc%3ACFHT%2F2418161s.fits.fz&POS=CIRCLE+182.63574172891978+39.40572772909785+0.01 with ID 140309604396816,\n",
       " Downloaded object from URL https://ws.cadc-ccda.hia-iha.nrc-cnrc.gc.ca/caom2ops/sync?ID=cadc%3ACFHT%2F2418161y.fits.fz&POS=CIRCLE+182.63574172891978+39.40572772909785+0.01 with ID 140309604396960,\n",
       " Downloaded object from URL https://ws.cadc-ccda.hia-iha.nrc-cnrc.gc.ca/caom2ops/sync?ID=cadc%3ACFHT%2F2418163s.fits.fz&POS=CIRCLE+182.63574172891978+39.40572772909785+0.01 with ID 140309604438128,\n",
       " Downloaded object from URL https://ws.cadc-ccda.hia-iha.nrc-cnrc.gc.ca/caom2ops/sync?ID=cadc%3ACFHT%2F2418163w.fits.fz&POS=CIRCLE+182.63574172891978+39.40572772909785+0.01 with ID 140309604438272,\n",
       " Downloaded object from URL https://ws.cadc-ccda.hia-iha.nrc-cnrc.gc.ca/caom2ops/sync?ID=cadc%3ACFHT%2F2418165a.fits.fz&POS=CIRCLE+182.63574172891978+39.40572772909785+0.01 with ID 140309604438416,\n",
       " Downloaded object from URL https://ws.cadc-ccda.hia-iha.nrc-cnrc.gc.ca/caom2ops/sync?ID=cadc%3ACFHT%2F2418166o.fits.fz&POS=CIRCLE+182.63574172891978+39.40572772909785+0.01 with ID 140309604438560,\n",
       " Downloaded object from URL https://ws.cadc-ccda.hia-iha.nrc-cnrc.gc.ca/caom2ops/sync?ID=cadc%3ACFHT%2F2418166w.fits.fz&POS=CIRCLE+182.63574172891978+39.40572772909785+0.01 with ID 140309604438704,\n",
       " Downloaded object from URL https://ws.cadc-ccda.hia-iha.nrc-cnrc.gc.ca/caom2ops/sync?ID=cadc%3ACFHT%2F2418166y.fits.fz&POS=CIRCLE+182.63574172891978+39.40572772909785+0.01 with ID 140309604438848,\n",
       " Downloaded object from URL https://ws.cadc-ccda.hia-iha.nrc-cnrc.gc.ca/caom2ops/sync?ID=cadc%3ACFHT%2F2418164p.fits.fz&POS=CIRCLE+182.63574172891978+39.40572772909785+0.01 with ID 140309604438992,\n",
       " Downloaded object from URL https://ws.cadc-ccda.hia-iha.nrc-cnrc.gc.ca/caom2ops/sync?ID=cadc%3ACFHT%2F2418169o.fits.fz&POS=CIRCLE+182.63574172891978+39.40572772909785+0.01 with ID 140309604439136,\n",
       " Downloaded object from URL https://ws.cadc-ccda.hia-iha.nrc-cnrc.gc.ca/caom2ops/sync?ID=cadc%3ACFHT%2F2418169p.fits.fz&POS=CIRCLE+182.63574172891978+39.40572772909785+0.01 with ID 140309604439280,\n",
       " Downloaded object from URL https://ws.cadc-ccda.hia-iha.nrc-cnrc.gc.ca/caom2ops/sync?ID=cadc%3ACFHT%2F2418169s.fits.fz&POS=CIRCLE+182.63574172891978+39.40572772909785+0.01 with ID 140309604439424,\n",
       " Downloaded object from URL https://ws.cadc-ccda.hia-iha.nrc-cnrc.gc.ca/caom2ops/sync?ID=cadc%3ACFHT%2F2418169w.fits.fz&POS=CIRCLE+182.63574172891978+39.40572772909785+0.01 with ID 140309604439568,\n",
       " Downloaded object from URL https://ws.cadc-ccda.hia-iha.nrc-cnrc.gc.ca/caom2ops/sync?ID=cadc%3ACFHT%2F2418169y.fits.fz&POS=CIRCLE+182.63574172891978+39.40572772909785+0.01 with ID 140309604439712,\n",
       " Downloaded object from URL https://ws.cadc-ccda.hia-iha.nrc-cnrc.gc.ca/caom2ops/sync?ID=cadc%3ACFHT%2F2417365a.fits.fz&POS=CIRCLE+182.63574172891978+39.40572772909785+0.01 with ID 140309604439856,\n",
       " Downloaded object from URL https://ws.cadc-ccda.hia-iha.nrc-cnrc.gc.ca/caom2ops/sync?ID=cadc%3ACFHT%2F2417369s.fits.fz&POS=CIRCLE+182.63574172891978+39.40572772909785+0.01 with ID 140309604440000,\n",
       " Downloaded object from URL https://ws.cadc-ccda.hia-iha.nrc-cnrc.gc.ca/caom2ops/sync?ID=cadc%3ACFHT%2F2417369w.fits.fz&POS=CIRCLE+182.63574172891978+39.40572772909785+0.01 with ID 140309604440144,\n",
       " Downloaded object from URL https://ws.cadc-ccda.hia-iha.nrc-cnrc.gc.ca/caom2ops/sync?ID=cadc%3ACFHT%2F2417369y.fits.fz&POS=CIRCLE+182.63574172891978+39.40572772909785+0.01 with ID 140309604440288,\n",
       " Downloaded object from URL https://ws.cadc-ccda.hia-iha.nrc-cnrc.gc.ca/caom2ops/sync?ID=cadc%3ACFHT%2F2417370p.fits.fz&POS=CIRCLE+182.63574172891978+39.40572772909785+0.01 with ID 140309604440432,\n",
       " Downloaded object from URL https://ws.cadc-ccda.hia-iha.nrc-cnrc.gc.ca/caom2ops/sync?ID=cadc%3ACFHT%2F2417370s.fits.fz&POS=CIRCLE+182.63574172891978+39.40572772909785+0.01 with ID 140309604440576,\n",
       " Downloaded object from URL https://ws.cadc-ccda.hia-iha.nrc-cnrc.gc.ca/caom2ops/sync?ID=cadc%3ACFHT%2F2417370w.fits.fz&POS=CIRCLE+182.63574172891978+39.40572772909785+0.01 with ID 140309604440720,\n",
       " Downloaded object from URL https://ws.cadc-ccda.hia-iha.nrc-cnrc.gc.ca/caom2ops/sync?ID=cadc%3ACFHT%2F2417373o.fits.fz&POS=CIRCLE+182.63574172891978+39.40572772909785+0.01 with ID 140309604440864,\n",
       " Downloaded object from URL https://ws.cadc-ccda.hia-iha.nrc-cnrc.gc.ca/caom2ops/sync?ID=cadc%3ACFHT%2F2417373p.fits.fz&POS=CIRCLE+182.63574172891978+39.40572772909785+0.01 with ID 140309604441008,\n",
       " Downloaded object from URL https://ws.cadc-ccda.hia-iha.nrc-cnrc.gc.ca/caom2ops/sync?ID=cadc%3ACFHT%2F2417373s.fits.fz&POS=CIRCLE+182.63574172891978+39.40572772909785+0.01 with ID 140309604441152,\n",
       " Downloaded object from URL https://ws.cadc-ccda.hia-iha.nrc-cnrc.gc.ca/caom2ops/sync?ID=cadc%3ACFHT%2F2417373w.fits.fz&POS=CIRCLE+182.63574172891978+39.40572772909785+0.01 with ID 140309604441296,\n",
       " Downloaded object from URL https://ws.cadc-ccda.hia-iha.nrc-cnrc.gc.ca/caom2ops/sync?ID=cadc%3ACFHT%2F2417375o.fits.fz&POS=CIRCLE+182.63574172891978+39.40572772909785+0.01 with ID 140309604441440,\n",
       " Downloaded object from URL https://ws.cadc-ccda.hia-iha.nrc-cnrc.gc.ca/caom2ops/sync?ID=cadc%3ACFHT%2F2417375p.fits.fz&POS=CIRCLE+182.63574172891978+39.40572772909785+0.01 with ID 140309604441584,\n",
       " Downloaded object from URL https://ws.cadc-ccda.hia-iha.nrc-cnrc.gc.ca/caom2ops/sync?ID=cadc%3ACFHT%2F2417375s.fits.fz&POS=CIRCLE+182.63574172891978+39.40572772909785+0.01 with ID 140309604441728,\n",
       " Downloaded object from URL https://ws.cadc-ccda.hia-iha.nrc-cnrc.gc.ca/caom2ops/sync?ID=cadc%3ACFHT%2F2417375w.fits.fz&POS=CIRCLE+182.63574172891978+39.40572772909785+0.01 with ID 140309604441872,\n",
       " Downloaded object from URL https://ws.cadc-ccda.hia-iha.nrc-cnrc.gc.ca/caom2ops/sync?ID=cadc%3ACFHT%2F2417378o.fits.fz&POS=CIRCLE+182.63574172891978+39.40572772909785+0.01 with ID 140309604442016,\n",
       " Downloaded object from URL https://ws.cadc-ccda.hia-iha.nrc-cnrc.gc.ca/caom2ops/sync?ID=cadc%3ACFHT%2F2417378p.fits.fz&POS=CIRCLE+182.63574172891978+39.40572772909785+0.01 with ID 140310700798016,\n",
       " Downloaded object from URL https://ws.cadc-ccda.hia-iha.nrc-cnrc.gc.ca/caom2ops/sync?ID=cadc%3ACFHT%2F2417376o.fits.fz&POS=CIRCLE+182.63574172891978+39.40572772909785+0.01 with ID 140310700800032,\n",
       " Downloaded object from URL https://ws.cadc-ccda.hia-iha.nrc-cnrc.gc.ca/caom2ops/sync?ID=cadc%3ACFHT%2F2417382a.fits.fz&POS=CIRCLE+182.63574172891978+39.40572772909785+0.01 with ID 140310700798112,\n",
       " Downloaded object from URL https://ws.cadc-ccda.hia-iha.nrc-cnrc.gc.ca/caom2ops/sync?ID=cadc%3ACFHT%2F2417385a.fits.fz&POS=CIRCLE+182.63574172891978+39.40572772909785+0.01 with ID 140310700801712,\n",
       " Downloaded object from URL https://ws.cadc-ccda.hia-iha.nrc-cnrc.gc.ca/caom2ops/sync?ID=cadc%3ACFHT%2F2417383o.fits.fz&POS=CIRCLE+182.63574172891978+39.40572772909785+0.01 with ID 140310700798064,\n",
       " Downloaded object from URL https://ws.cadc-ccda.hia-iha.nrc-cnrc.gc.ca/caom2ops/sync?ID=cadc%3ACFHT%2F2417383s.fits.fz&POS=CIRCLE+182.63574172891978+39.40572772909785+0.01 with ID 140310700799792,\n",
       " Downloaded object from URL https://ws.cadc-ccda.hia-iha.nrc-cnrc.gc.ca/caom2ops/sync?ID=cadc%3ACFHT%2F2417383w.fits.fz&POS=CIRCLE+182.63574172891978+39.40572772909785+0.01 with ID 140310700800656,\n",
       " Downloaded object from URL https://ws.cadc-ccda.hia-iha.nrc-cnrc.gc.ca/caom2ops/sync?ID=cadc%3ACFHT%2F2417384s.fits.fz&POS=CIRCLE+182.63574172891978+39.40572772909785+0.01 with ID 140310700801328,\n",
       " Downloaded object from URL https://ws.cadc-ccda.hia-iha.nrc-cnrc.gc.ca/caom2ops/sync?ID=cadc%3ACFHT%2F2417384y.fits.fz&POS=CIRCLE+182.63574172891978+39.40572772909785+0.01 with ID 140310700798640,\n",
       " Downloaded object from URL https://ws.cadc-ccda.hia-iha.nrc-cnrc.gc.ca/caom2ops/sync?ID=cadc%3ACFHT%2F2417386o.fits.fz&POS=CIRCLE+182.63574172891978+39.40572772909785+0.01 with ID 140310700799360,\n",
       " Downloaded object from URL https://ws.cadc-ccda.hia-iha.nrc-cnrc.gc.ca/caom2ops/sync?ID=cadc%3ACFHT%2F2417386y.fits.fz&POS=CIRCLE+182.63574172891978+39.40572772909785+0.01 with ID 140310700798400,\n",
       " Downloaded object from URL https://ws.cadc-ccda.hia-iha.nrc-cnrc.gc.ca/caom2ops/sync?ID=cadc%3ACFHT%2F2417389p.fits.fz&POS=CIRCLE+182.63574172891978+39.40572772909785+0.01 with ID 140310700799600,\n",
       " Downloaded object from URL https://ws.cadc-ccda.hia-iha.nrc-cnrc.gc.ca/caom2ops/sync?ID=cadc%3ACFHT%2F2417389s.fits.fz&POS=CIRCLE+182.63574172891978+39.40572772909785+0.01 with ID 140310700801280,\n",
       " Downloaded object from URL https://ws.cadc-ccda.hia-iha.nrc-cnrc.gc.ca/caom2ops/sync?ID=cadc%3ACFHT%2F2417391p.fits.fz&POS=CIRCLE+182.63574172891978+39.40572772909785+0.01 with ID 140310700800464,\n",
       " Downloaded object from URL https://ws.cadc-ccda.hia-iha.nrc-cnrc.gc.ca/caom2ops/sync?ID=cadc%3ACFHT%2F2417391s.fits.fz&POS=CIRCLE+182.63574172891978+39.40572772909785+0.01 with ID 140310700801040,\n",
       " Downloaded object from URL https://ws.cadc-ccda.hia-iha.nrc-cnrc.gc.ca/caom2ops/sync?ID=cadc%3ACFHT%2F2417391w.fits.fz&POS=CIRCLE+182.63574172891978+39.40572772909785+0.01 with ID 140310700800176,\n",
       " Downloaded object from URL https://ws.cadc-ccda.hia-iha.nrc-cnrc.gc.ca/caom2ops/sync?ID=cadc%3ACFHT%2F2417391y.fits.fz&POS=CIRCLE+182.63574172891978+39.40572772909785+0.01 with ID 140310700799312,\n",
       " Downloaded object from URL https://ws.cadc-ccda.hia-iha.nrc-cnrc.gc.ca/caom2ops/sync?ID=cadc%3ACFHT%2F2417394o.fits.fz&POS=CIRCLE+182.63574172891978+39.40572772909785+0.01 with ID 140310700799744,\n",
       " Downloaded object from URL https://ws.cadc-ccda.hia-iha.nrc-cnrc.gc.ca/caom2ops/sync?ID=cadc%3ACFHT%2F2417394p.fits.fz&POS=CIRCLE+182.63574172891978+39.40572772909785+0.01 with ID 140310700799072,\n",
       " Downloaded object from URL https://ws.cadc-ccda.hia-iha.nrc-cnrc.gc.ca/caom2ops/sync?ID=cadc%3ACFHT%2F2417399p.fits.fz&POS=CIRCLE+182.63574172891978+39.40572772909785+0.01 with ID 140310700799936,\n",
       " Downloaded object from URL https://ws.cadc-ccda.hia-iha.nrc-cnrc.gc.ca/caom2ops/sync?ID=cadc%3ACFHT%2F2417399s.fits.fz&POS=CIRCLE+182.63574172891978+39.40572772909785+0.01 with ID 140310700799216,\n",
       " Downloaded object from URL https://ws.cadc-ccda.hia-iha.nrc-cnrc.gc.ca/caom2ops/sync?ID=cadc%3ACFHT%2F2417399w.fits.fz&POS=CIRCLE+182.63574172891978+39.40572772909785+0.01 with ID 140310700798304,\n",
       " Downloaded object from URL https://ws.cadc-ccda.hia-iha.nrc-cnrc.gc.ca/caom2ops/sync?ID=cadc%3ACFHT%2F2417400p.fits.fz&POS=CIRCLE+182.63574172891978+39.40572772909785+0.01 with ID 140310700801808,\n",
       " Downloaded object from URL https://ws.cadc-ccda.hia-iha.nrc-cnrc.gc.ca/caom2ops/sync?ID=cadc%3ACFHT%2F2417400y.fits.fz&POS=CIRCLE+182.63574172891978+39.40572772909785+0.01 with ID 140310700799648,\n",
       " Downloaded object from URL https://ws.cadc-ccda.hia-iha.nrc-cnrc.gc.ca/caom2ops/sync?ID=cadc%3ACFHT%2F2417402y.fits.fz&POS=CIRCLE+182.63574172891978+39.40572772909785+0.01 with ID 140310700800752,\n",
       " Downloaded object from URL https://ws.cadc-ccda.hia-iha.nrc-cnrc.gc.ca/caom2ops/sync?ID=cadc%3ACFHT%2F2417401a.fits.fz&POS=CIRCLE+182.63574172891978+39.40572772909785+0.01 with ID 140310700801376,\n",
       " Downloaded object from URL https://ws.cadc-ccda.hia-iha.nrc-cnrc.gc.ca/caom2ops/sync?ID=cadc%3ACFHT%2F2417404a.fits.fz&POS=CIRCLE+182.63574172891978+39.40572772909785+0.01 with ID 140310700800272,\n",
       " Downloaded object from URL https://ws.cadc-ccda.hia-iha.nrc-cnrc.gc.ca/caom2ops/sync?ID=cadc%3ACFHT%2F2417405o.fits.fz&POS=CIRCLE+182.63574172891978+39.40572772909785+0.01 with ID 140310700800800,\n",
       " Downloaded object from URL https://ws.cadc-ccda.hia-iha.nrc-cnrc.gc.ca/caom2ops/sync?ID=cadc%3ACFHT%2F2417405p.fits.fz&POS=CIRCLE+182.63574172891978+39.40572772909785+0.01 with ID 140310700631088,\n",
       " Downloaded object from URL https://ws.cadc-ccda.hia-iha.nrc-cnrc.gc.ca/caom2ops/sync?ID=cadc%3ACFHT%2F2417405y.fits.fz&POS=CIRCLE+182.63574172891978+39.40572772909785+0.01 with ID 140310700631472,\n",
       " Downloaded object from URL https://ws.cadc-ccda.hia-iha.nrc-cnrc.gc.ca/caom2ops/sync?ID=cadc%3ACFHT%2F2417408o.fits.fz&POS=CIRCLE+182.63574172891978+39.40572772909785+0.01 with ID 140310700633344,\n",
       " Downloaded object from URL https://ws.cadc-ccda.hia-iha.nrc-cnrc.gc.ca/caom2ops/sync?ID=cadc%3ACFHT%2F2417410p.fits.fz&POS=CIRCLE+182.63574172891978+39.40572772909785+0.01 with ID 140310700633536,\n",
       " Downloaded object from URL https://ws.cadc-ccda.hia-iha.nrc-cnrc.gc.ca/caom2ops/sync?ID=cadc%3ACFHT%2F2417410s.fits.fz&POS=CIRCLE+182.63574172891978+39.40572772909785+0.01 with ID 140310700631280,\n",
       " Downloaded object from URL https://ws.cadc-ccda.hia-iha.nrc-cnrc.gc.ca/caom2ops/sync?ID=cadc%3ACFHT%2F2417412o.fits.fz&POS=CIRCLE+182.63574172891978+39.40572772909785+0.01 with ID 140310700630320,\n",
       " Downloaded object from URL https://ws.cadc-ccda.hia-iha.nrc-cnrc.gc.ca/caom2ops/sync?ID=cadc%3ACFHT%2F2417412s.fits.fz&POS=CIRCLE+182.63574172891978+39.40572772909785+0.01 with ID 140310700630656,\n",
       " Downloaded object from URL https://ws.cadc-ccda.hia-iha.nrc-cnrc.gc.ca/caom2ops/sync?ID=cadc%3ACFHT%2F2417412w.fits.fz&POS=CIRCLE+182.63574172891978+39.40572772909785+0.01 with ID 140310700630896,\n",
       " Downloaded object from URL https://ws.cadc-ccda.hia-iha.nrc-cnrc.gc.ca/caom2ops/sync?ID=cadc%3ACFHT%2F2417415p.fits.fz&POS=CIRCLE+182.63574172891978+39.40572772909785+0.01 with ID 140310700630992,\n",
       " Downloaded object from URL https://ws.cadc-ccda.hia-iha.nrc-cnrc.gc.ca/caom2ops/sync?ID=cadc%3ACFHT%2F2417415s.fits.fz&POS=CIRCLE+182.63574172891978+39.40572772909785+0.01 with ID 140310700631040,\n",
       " Downloaded object from URL https://ws.cadc-ccda.hia-iha.nrc-cnrc.gc.ca/caom2ops/sync?ID=cadc%3ACFHT%2F2417417a.fits.fz&POS=CIRCLE+182.63574172891978+39.40572772909785+0.01 with ID 140310700632720,\n",
       " Downloaded object from URL https://ws.cadc-ccda.hia-iha.nrc-cnrc.gc.ca/caom2ops/sync?ID=cadc%3ACFHT%2F2417418o.fits.fz&POS=CIRCLE+182.63574172891978+39.40572772909785+0.01 with ID 140310700631232,\n",
       " Downloaded object from URL https://ws.cadc-ccda.hia-iha.nrc-cnrc.gc.ca/caom2ops/sync?ID=cadc%3ACFHT%2F2417418p.fits.fz&POS=CIRCLE+182.63574172891978+39.40572772909785+0.01 with ID 140310700630416,\n",
       " Downloaded object from URL https://ws.cadc-ccda.hia-iha.nrc-cnrc.gc.ca/caom2ops/sync?ID=cadc%3ACFHT%2F2417418w.fits.fz&POS=CIRCLE+182.63574172891978+39.40572772909785+0.01 with ID 140310700633968,\n",
       " Downloaded object from URL https://ws.cadc-ccda.hia-iha.nrc-cnrc.gc.ca/caom2ops/sync?ID=cadc%3ACFHT%2F2417422s.fits.fz&POS=CIRCLE+182.63574172891978+39.40572772909785+0.01 with ID 140310700633728,\n",
       " Downloaded object from URL https://ws.cadc-ccda.hia-iha.nrc-cnrc.gc.ca/caom2ops/sync?ID=cadc%3ACFHT%2F2417422w.fits.fz&POS=CIRCLE+182.63574172891978+39.40572772909785+0.01 with ID 140310700633008,\n",
       " Downloaded object from URL https://ws.cadc-ccda.hia-iha.nrc-cnrc.gc.ca/caom2ops/sync?ID=cadc%3ACFHT%2F2417422y.fits.fz&POS=CIRCLE+182.63574172891978+39.40572772909785+0.01 with ID 140310700632864,\n",
       " Downloaded object from URL https://ws.cadc-ccda.hia-iha.nrc-cnrc.gc.ca/caom2ops/sync?ID=cadc%3ACFHT%2F2417427o.fits.fz&POS=CIRCLE+182.63574172891978+39.40572772909785+0.01 with ID 140310700632672,\n",
       " Downloaded object from URL https://ws.cadc-ccda.hia-iha.nrc-cnrc.gc.ca/caom2ops/sync?ID=cadc%3ACFHT%2F2417427s.fits.fz&POS=CIRCLE+182.63574172891978+39.40572772909785+0.01 with ID 140310700632240,\n",
       " Downloaded object from URL https://ws.cadc-ccda.hia-iha.nrc-cnrc.gc.ca/caom2ops/sync?ID=cadc%3ACFHT%2F2417425o.fits.fz&POS=CIRCLE+182.63574172891978+39.40572772909785+0.01 with ID 140310700632192,\n",
       " Downloaded object from URL https://ws.cadc-ccda.hia-iha.nrc-cnrc.gc.ca/caom2ops/sync?ID=cadc%3ACFHT%2F2417425y.fits.fz&POS=CIRCLE+182.63574172891978+39.40572772909785+0.01 with ID 140310700632048,\n",
       " Downloaded object from URL https://ws.cadc-ccda.hia-iha.nrc-cnrc.gc.ca/caom2ops/sync?ID=cadc%3ACFHT%2F2417428o.fits.fz&POS=CIRCLE+182.63574172891978+39.40572772909785+0.01 with ID 140310700631856,\n",
       " Downloaded object from URL https://ws.cadc-ccda.hia-iha.nrc-cnrc.gc.ca/caom2ops/sync?ID=cadc%3ACFHT%2F2417428s.fits.fz&POS=CIRCLE+182.63574172891978+39.40572772909785+0.01 with ID 140310700631712,\n",
       " Downloaded object from URL https://ws.cadc-ccda.hia-iha.nrc-cnrc.gc.ca/caom2ops/sync?ID=cadc%3ACFHT%2F2417428w.fits.fz&POS=CIRCLE+182.63574172891978+39.40572772909785+0.01 with ID 140310700631424,\n",
       " Downloaded object from URL https://ws.cadc-ccda.hia-iha.nrc-cnrc.gc.ca/caom2ops/sync?ID=cadc%3ACFHT%2F2417428y.fits.fz&POS=CIRCLE+182.63574172891978+39.40572772909785+0.01 with ID 140310700632576,\n",
       " Downloaded object from URL https://ws.cadc-ccda.hia-iha.nrc-cnrc.gc.ca/caom2ops/sync?ID=cadc%3ACFHT%2F2417366p.fits.fz&POS=CIRCLE+182.63574172891978+39.40572772909785+0.01 with ID 140310700631616,\n",
       " Downloaded object from URL https://ws.cadc-ccda.hia-iha.nrc-cnrc.gc.ca/caom2ops/sync?ID=cadc%3ACFHT%2F2417366s.fits.fz&POS=CIRCLE+182.63574172891978+39.40572772909785+0.01 with ID 140310700630560,\n",
       " Downloaded object from URL https://ws.cadc-ccda.hia-iha.nrc-cnrc.gc.ca/caom2ops/sync?ID=cadc%3ACFHT%2F2417438s.fits.fz&POS=CIRCLE+182.63574172891978+39.40572772909785+0.01 with ID 140310700630512,\n",
       " Downloaded object from URL https://ws.cadc-ccda.hia-iha.nrc-cnrc.gc.ca/caom2ops/sync?ID=cadc%3ACFHT%2F2417436o.fits.fz&POS=CIRCLE+182.63574172891978+39.40572772909785+0.01 with ID 140310700695664,\n",
       " Downloaded object from URL https://ws.cadc-ccda.hia-iha.nrc-cnrc.gc.ca/caom2ops/sync?ID=cadc%3ACFHT%2F2417441p.fits.fz&POS=CIRCLE+182.63574172891978+39.40572772909785+0.01 with ID 140310700695808,\n",
       " Downloaded object from URL https://ws.cadc-ccda.hia-iha.nrc-cnrc.gc.ca/caom2ops/sync?ID=cadc%3ACFHT%2F2417444o.fits.fz&POS=CIRCLE+182.63574172891978+39.40572772909785+0.01 with ID 140310700695952,\n",
       " Downloaded object from URL https://ws.cadc-ccda.hia-iha.nrc-cnrc.gc.ca/caom2ops/sync?ID=cadc%3ACFHT%2F2417444p.fits.fz&POS=CIRCLE+182.63574172891978+39.40572772909785+0.01 with ID 140310700696096,\n",
       " Downloaded object from URL https://ws.cadc-ccda.hia-iha.nrc-cnrc.gc.ca/caom2ops/sync?ID=cadc%3ACFHT%2F2417444w.fits.fz&POS=CIRCLE+182.63574172891978+39.40572772909785+0.01 with ID 140310700696240,\n",
       " Downloaded object from URL https://ws.cadc-ccda.hia-iha.nrc-cnrc.gc.ca/caom2ops/sync?ID=cadc%3ACFHT%2F2417443s.fits.fz&POS=CIRCLE+182.63574172891978+39.40572772909785+0.01 with ID 140310700696384,\n",
       " Downloaded object from URL https://ws.cadc-ccda.hia-iha.nrc-cnrc.gc.ca/caom2ops/sync?ID=cadc%3ACFHT%2F2417443w.fits.fz&POS=CIRCLE+182.63574172891978+39.40572772909785+0.01 with ID 140310700696528,\n",
       " Downloaded object from URL https://ws.cadc-ccda.hia-iha.nrc-cnrc.gc.ca/caom2ops/sync?ID=cadc%3ACFHT%2F2417443y.fits.fz&POS=CIRCLE+182.63574172891978+39.40572772909785+0.01 with ID 140310700696672,\n",
       " Downloaded object from URL https://ws.cadc-ccda.hia-iha.nrc-cnrc.gc.ca/caom2ops/sync?ID=cadc%3ACFHT%2F2417448a.fits.fz&POS=CIRCLE+182.63574172891978+39.40572772909785+0.01 with ID 140310700696816,\n",
       " Downloaded object from URL https://ws.cadc-ccda.hia-iha.nrc-cnrc.gc.ca/caom2ops/sync?ID=cadc%3ACFHT%2F2417449y.fits.fz&POS=CIRCLE+182.63574172891978+39.40572772909785+0.01 with ID 140310700696960,\n",
       " Downloaded object from URL https://ws.cadc-ccda.hia-iha.nrc-cnrc.gc.ca/caom2ops/sync?ID=cadc%3ACFHT%2F2417451a.fits.fz&POS=CIRCLE+182.63574172891978+39.40572772909785+0.01 with ID 140310700697104,\n",
       " Downloaded object from URL https://ws.cadc-ccda.hia-iha.nrc-cnrc.gc.ca/caom2ops/sync?ID=cadc%3ACFHT%2F2417452p.fits.fz&POS=CIRCLE+182.63574172891978+39.40572772909785+0.01 with ID 140310700697248,\n",
       " Downloaded object from URL https://ws.cadc-ccda.hia-iha.nrc-cnrc.gc.ca/caom2ops/sync?ID=cadc%3ACFHT%2F2418036p.fits.fz&POS=CIRCLE+182.63574172891978+39.40572772909785+0.01 with ID 140310700697392,\n",
       " Downloaded object from URL https://ws.cadc-ccda.hia-iha.nrc-cnrc.gc.ca/caom2ops/sync?ID=cadc%3ACFHT%2F2418035o.fits.fz&POS=CIRCLE+182.63574172891978+39.40572772909785+0.01 with ID 140310700697536,\n",
       " Downloaded object from URL https://ws.cadc-ccda.hia-iha.nrc-cnrc.gc.ca/caom2ops/sync?ID=cadc%3ACFHT%2F2418038w.fits.fz&POS=CIRCLE+182.63574172891978+39.40572772909785+0.01 with ID 140310700697680,\n",
       " Downloaded object from URL https://ws.cadc-ccda.hia-iha.nrc-cnrc.gc.ca/caom2ops/sync?ID=cadc%3ACFHT%2F2418042p.fits.fz&POS=CIRCLE+182.63574172891978+39.40572772909785+0.01 with ID 140310700697824,\n",
       " Downloaded object from URL https://ws.cadc-ccda.hia-iha.nrc-cnrc.gc.ca/caom2ops/sync?ID=cadc%3ACFHT%2F2418042s.fits.fz&POS=CIRCLE+182.63574172891978+39.40572772909785+0.01 with ID 140310700697968,\n",
       " Downloaded object from URL https://ws.cadc-ccda.hia-iha.nrc-cnrc.gc.ca/caom2ops/sync?ID=cadc%3ACFHT%2F2418042y.fits.fz&POS=CIRCLE+182.63574172891978+39.40572772909785+0.01 with ID 140310700698112,\n",
       " Downloaded object from URL https://ws.cadc-ccda.hia-iha.nrc-cnrc.gc.ca/caom2ops/sync?ID=cadc%3ACFHT%2F2418039o.fits.fz&POS=CIRCLE+182.63574172891978+39.40572772909785+0.01 with ID 140310700698256,\n",
       " Downloaded object from URL https://ws.cadc-ccda.hia-iha.nrc-cnrc.gc.ca/caom2ops/sync?ID=cadc%3ACFHT%2F2418039w.fits.fz&POS=CIRCLE+182.63574172891978+39.40572772909785+0.01 with ID 140310700698400,\n",
       " Downloaded object from URL https://ws.cadc-ccda.hia-iha.nrc-cnrc.gc.ca/caom2ops/sync?ID=cadc%3ACFHT%2F2418039y.fits.fz&POS=CIRCLE+182.63574172891978+39.40572772909785+0.01 with ID 140310700698544,\n",
       " Downloaded object from URL https://ws.cadc-ccda.hia-iha.nrc-cnrc.gc.ca/caom2ops/sync?ID=cadc%3ACFHT%2F2418041a.fits.fz&POS=CIRCLE+182.63574172891978+39.40572772909785+0.01 with ID 140310700698688,\n",
       " Downloaded object from URL https://ws.cadc-ccda.hia-iha.nrc-cnrc.gc.ca/caom2ops/sync?ID=cadc%3ACFHT%2F2418045o.fits.fz&POS=CIRCLE+182.63574172891978+39.40572772909785+0.01 with ID 140310700698832,\n",
       " Downloaded object from URL https://ws.cadc-ccda.hia-iha.nrc-cnrc.gc.ca/caom2ops/sync?ID=cadc%3ACFHT%2F2418045p.fits.fz&POS=CIRCLE+182.63574172891978+39.40572772909785+0.01 with ID 140310700698976,\n",
       " Downloaded object from URL https://ws.cadc-ccda.hia-iha.nrc-cnrc.gc.ca/caom2ops/sync?ID=cadc%3ACFHT%2F2418045s.fits.fz&POS=CIRCLE+182.63574172891978+39.40572772909785+0.01 with ID 140310700699120,\n",
       " Downloaded object from URL https://ws.cadc-ccda.hia-iha.nrc-cnrc.gc.ca/caom2ops/sync?ID=cadc%3ACFHT%2F2418045y.fits.fz&POS=CIRCLE+182.63574172891978+39.40572772909785+0.01 with ID 140310700699264,\n",
       " Downloaded object from URL https://ws.cadc-ccda.hia-iha.nrc-cnrc.gc.ca/caom2ops/sync?ID=cadc%3ACFHT%2F2418043a.fits.fz&POS=CIRCLE+182.63574172891978+39.40572772909785+0.01 with ID 140310700699408,\n",
       " Downloaded object from URL https://ws.cadc-ccda.hia-iha.nrc-cnrc.gc.ca/caom2ops/sync?ID=cadc%3ACFHT%2F2418044o.fits.fz&POS=CIRCLE+182.63574172891978+39.40572772909785+0.01 with ID 140310700699552,\n",
       " Downloaded object from URL https://ws.cadc-ccda.hia-iha.nrc-cnrc.gc.ca/caom2ops/sync?ID=cadc%3ACFHT%2F2418044s.fits.fz&POS=CIRCLE+182.63574172891978+39.40572772909785+0.01 with ID 140310700834928,\n",
       " Downloaded object from URL https://ws.cadc-ccda.hia-iha.nrc-cnrc.gc.ca/caom2ops/sync?ID=cadc%3ACFHT%2F2418044w.fits.fz&POS=CIRCLE+182.63574172891978+39.40572772909785+0.01 with ID 140310700835072,\n",
       " Downloaded object from URL https://ws.cadc-ccda.hia-iha.nrc-cnrc.gc.ca/caom2ops/sync?ID=cadc%3ACFHT%2F2418044y.fits.fz&POS=CIRCLE+182.63574172891978+39.40572772909785+0.01 with ID 140310700835216,\n",
       " Downloaded object from URL https://ws.cadc-ccda.hia-iha.nrc-cnrc.gc.ca/caom2ops/sync?ID=cadc%3ACFHT%2F2418050s.fits.fz&POS=CIRCLE+182.63574172891978+39.40572772909785+0.01 with ID 140310700835360,\n",
       " Downloaded object from URL https://ws.cadc-ccda.hia-iha.nrc-cnrc.gc.ca/caom2ops/sync?ID=cadc%3ACFHT%2F2418050w.fits.fz&POS=CIRCLE+182.63574172891978+39.40572772909785+0.01 with ID 140310700835504,\n",
       " Downloaded object from URL https://ws.cadc-ccda.hia-iha.nrc-cnrc.gc.ca/caom2ops/sync?ID=cadc%3ACFHT%2F2418055o.fits.fz&POS=CIRCLE+182.63574172891978+39.40572772909785+0.01 with ID 140310700835648,\n",
       " Downloaded object from URL https://ws.cadc-ccda.hia-iha.nrc-cnrc.gc.ca/caom2ops/sync?ID=cadc%3ACFHT%2F2418057a.fits.fz&POS=CIRCLE+182.63574172891978+39.40572772909785+0.01 with ID 140310700835792,\n",
       " Downloaded object from URL https://ws.cadc-ccda.hia-iha.nrc-cnrc.gc.ca/caom2ops/sync?ID=cadc%3ACFHT%2F2418052o.fits.fz&POS=CIRCLE+182.63574172891978+39.40572772909785+0.01 with ID 140310700835936,\n",
       " Downloaded object from URL https://ws.cadc-ccda.hia-iha.nrc-cnrc.gc.ca/caom2ops/sync?ID=cadc%3ACFHT%2F2418059s.fits.fz&POS=CIRCLE+182.63574172891978+39.40572772909785+0.01 with ID 140310700836080,\n",
       " Downloaded object from URL https://ws.cadc-ccda.hia-iha.nrc-cnrc.gc.ca/caom2ops/sync?ID=cadc%3ACFHT%2F2418059w.fits.fz&POS=CIRCLE+182.63574172891978+39.40572772909785+0.01 with ID 140310700836224,\n",
       " Downloaded object from URL https://ws.cadc-ccda.hia-iha.nrc-cnrc.gc.ca/caom2ops/sync?ID=cadc%3ACFHT%2F2418058p.fits.fz&POS=CIRCLE+182.63574172891978+39.40572772909785+0.01 with ID 140310700836368,\n",
       " Downloaded object from URL https://ws.cadc-ccda.hia-iha.nrc-cnrc.gc.ca/caom2ops/sync?ID=cadc%3ACFHT%2F2418053o.fits.fz&POS=CIRCLE+182.63574172891978+39.40572772909785+0.01 with ID 140310700836512,\n",
       " Downloaded object from URL https://ws.cadc-ccda.hia-iha.nrc-cnrc.gc.ca/caom2ops/sync?ID=cadc%3ACFHT%2F2418053p.fits.fz&POS=CIRCLE+182.63574172891978+39.40572772909785+0.01 with ID 140310700836656,\n",
       " Downloaded object from URL https://ws.cadc-ccda.hia-iha.nrc-cnrc.gc.ca/caom2ops/sync?ID=cadc%3ACFHT%2F2418062p.fits.fz&POS=CIRCLE+182.63574172891978+39.40572772909785+0.01 with ID 140310700836800,\n",
       " Downloaded object from URL https://ws.cadc-ccda.hia-iha.nrc-cnrc.gc.ca/caom2ops/sync?ID=cadc%3ACFHT%2F2418061o.fits.fz&POS=CIRCLE+182.63574172891978+39.40572772909785+0.01 with ID 140310700836944,\n",
       " Downloaded object from URL https://ws.cadc-ccda.hia-iha.nrc-cnrc.gc.ca/caom2ops/sync?ID=cadc%3ACFHT%2F2418061p.fits.fz&POS=CIRCLE+182.63574172891978+39.40572772909785+0.01 with ID 140310700837088,\n",
       " Downloaded object from URL https://ws.cadc-ccda.hia-iha.nrc-cnrc.gc.ca/caom2ops/sync?ID=cadc%3ACFHT%2F2418061w.fits.fz&POS=CIRCLE+182.63574172891978+39.40572772909785+0.01 with ID 140310700837232,\n",
       " Downloaded object from URL https://ws.cadc-ccda.hia-iha.nrc-cnrc.gc.ca/caom2ops/sync?ID=cadc%3ACFHT%2F2418061y.fits.fz&POS=CIRCLE+182.63574172891978+39.40572772909785+0.01 with ID 140310700837376,\n",
       " Downloaded object from URL https://ws.cadc-ccda.hia-iha.nrc-cnrc.gc.ca/caom2ops/sync?ID=cadc%3ACFHT%2F2418067s.fits.fz&POS=CIRCLE+182.63574172891978+39.40572772909785+0.01 with ID 140310700837520,\n",
       " Downloaded object from URL https://ws.cadc-ccda.hia-iha.nrc-cnrc.gc.ca/caom2ops/sync?ID=cadc%3ACFHT%2F2418067w.fits.fz&POS=CIRCLE+182.63574172891978+39.40572772909785+0.01 with ID 140310700837664,\n",
       " Downloaded object from URL https://ws.cadc-ccda.hia-iha.nrc-cnrc.gc.ca/caom2ops/sync?ID=cadc%3ACFHT%2F2418065y.fits.fz&POS=CIRCLE+182.63574172891978+39.40572772909785+0.01 with ID 140310700837808,\n",
       " Downloaded object from URL https://ws.cadc-ccda.hia-iha.nrc-cnrc.gc.ca/caom2ops/sync?ID=cadc%3ACFHT%2F2418068w.fits.fz&POS=CIRCLE+182.63574172891978+39.40572772909785+0.01 with ID 140310700837952,\n",
       " Downloaded object from URL https://ws.cadc-ccda.hia-iha.nrc-cnrc.gc.ca/caom2ops/sync?ID=cadc%3ACFHT%2F2418070s.fits.fz&POS=CIRCLE+182.63574172891978+39.40572772909785+0.01 with ID 140310700838096,\n",
       " Downloaded object from URL https://ws.cadc-ccda.hia-iha.nrc-cnrc.gc.ca/caom2ops/sync?ID=cadc%3ACFHT%2F2418070w.fits.fz&POS=CIRCLE+182.63574172891978+39.40572772909785+0.01 with ID 140310700838240,\n",
       " Downloaded object from URL https://ws.cadc-ccda.hia-iha.nrc-cnrc.gc.ca/caom2ops/sync?ID=cadc%3ACFHT%2F2418070y.fits.fz&POS=CIRCLE+182.63574172891978+39.40572772909785+0.01 with ID 140310700838384,\n",
       " Downloaded object from URL https://ws.cadc-ccda.hia-iha.nrc-cnrc.gc.ca/caom2ops/sync?ID=cadc%3ACFHT%2F2418074s.fits.fz&POS=CIRCLE+182.63574172891978+39.40572772909785+0.01 with ID 140310700838528,\n",
       " Downloaded object from URL https://ws.cadc-ccda.hia-iha.nrc-cnrc.gc.ca/caom2ops/sync?ID=cadc%3ACFHT%2F2418074w.fits.fz&POS=CIRCLE+182.63574172891978+39.40572772909785+0.01 with ID 140310700838672,\n",
       " Downloaded object from URL https://ws.cadc-ccda.hia-iha.nrc-cnrc.gc.ca/caom2ops/sync?ID=cadc%3ACFHT%2F2418075a.fits.fz&POS=CIRCLE+182.63574172891978+39.40572772909785+0.01 with ID 140310700838816,\n",
       " Downloaded object from URL https://ws.cadc-ccda.hia-iha.nrc-cnrc.gc.ca/caom2ops/sync?ID=cadc%3ACFHT%2F2418079p.fits.fz&POS=CIRCLE+182.63574172891978+39.40572772909785+0.01 with ID 140310700757104,\n",
       " Downloaded object from URL https://ws.cadc-ccda.hia-iha.nrc-cnrc.gc.ca/caom2ops/sync?ID=cadc%3ACFHT%2F2418079w.fits.fz&POS=CIRCLE+182.63574172891978+39.40572772909785+0.01 with ID 140310700757248,\n",
       " Downloaded object from URL https://ws.cadc-ccda.hia-iha.nrc-cnrc.gc.ca/caom2ops/sync?ID=cadc%3ACFHT%2F2418076p.fits.fz&POS=CIRCLE+182.63574172891978+39.40572772909785+0.01 with ID 140310700757392,\n",
       " Downloaded object from URL https://ws.cadc-ccda.hia-iha.nrc-cnrc.gc.ca/caom2ops/sync?ID=cadc%3ACFHT%2F2418076s.fits.fz&POS=CIRCLE+182.63574172891978+39.40572772909785+0.01 with ID 140310700757536,\n",
       " Downloaded object from URL https://ws.cadc-ccda.hia-iha.nrc-cnrc.gc.ca/caom2ops/sync?ID=cadc%3ACFHT%2F2418076w.fits.fz&POS=CIRCLE+182.63574172891978+39.40572772909785+0.01 with ID 140310700757680,\n",
       " Downloaded object from URL https://ws.cadc-ccda.hia-iha.nrc-cnrc.gc.ca/caom2ops/sync?ID=cadc%3ACFHT%2F2418084o.fits.fz&POS=CIRCLE+182.63574172891978+39.40572772909785+0.01 with ID 140310700757824,\n",
       " Downloaded object from URL https://ws.cadc-ccda.hia-iha.nrc-cnrc.gc.ca/caom2ops/sync?ID=cadc%3ACFHT%2F2418084s.fits.fz&POS=CIRCLE+182.63574172891978+39.40572772909785+0.01 with ID 140310700757968,\n",
       " Downloaded object from URL https://ws.cadc-ccda.hia-iha.nrc-cnrc.gc.ca/caom2ops/sync?ID=cadc%3ACFHT%2F2418083a.fits.fz&POS=CIRCLE+182.63574172891978+39.40572772909785+0.01 with ID 140310700758112,\n",
       " Downloaded object from URL https://ws.cadc-ccda.hia-iha.nrc-cnrc.gc.ca/caom2ops/sync?ID=cadc%3ACFHT%2F2418087o.fits.fz&POS=CIRCLE+182.63574172891978+39.40572772909785+0.01 with ID 140310700758256,\n",
       " Downloaded object from URL https://ws.cadc-ccda.hia-iha.nrc-cnrc.gc.ca/caom2ops/sync?ID=cadc%3ACFHT%2F2418092s.fits.fz&POS=CIRCLE+182.63574172891978+39.40572772909785+0.01 with ID 140310700758400,\n",
       " Downloaded object from URL https://ws.cadc-ccda.hia-iha.nrc-cnrc.gc.ca/caom2ops/sync?ID=cadc%3ACFHT%2F2418093s.fits.fz&POS=CIRCLE+182.63574172891978+39.40572772909785+0.01 with ID 140310700758544,\n",
       " Downloaded object from URL https://ws.cadc-ccda.hia-iha.nrc-cnrc.gc.ca/caom2ops/sync?ID=cadc%3ACFHT%2F2418094a.fits.fz&POS=CIRCLE+182.63574172891978+39.40572772909785+0.01 with ID 140310700758688,\n",
       " Downloaded object from URL https://ws.cadc-ccda.hia-iha.nrc-cnrc.gc.ca/caom2ops/sync?ID=cadc%3ACFHT%2F2418095o.fits.fz&POS=CIRCLE+182.63574172891978+39.40572772909785+0.01 with ID 140310700758832,\n",
       " Downloaded object from URL https://ws.cadc-ccda.hia-iha.nrc-cnrc.gc.ca/caom2ops/sync?ID=cadc%3ACFHT%2F2418095s.fits.fz&POS=CIRCLE+182.63574172891978+39.40572772909785+0.01 with ID 140310700758976,\n",
       " Downloaded object from URL https://ws.cadc-ccda.hia-iha.nrc-cnrc.gc.ca/caom2ops/sync?ID=cadc%3ACFHT%2F2418095y.fits.fz&POS=CIRCLE+182.63574172891978+39.40572772909785+0.01 with ID 140310700759120,\n",
       " Downloaded object from URL https://ws.cadc-ccda.hia-iha.nrc-cnrc.gc.ca/caom2ops/sync?ID=cadc%3ACFHT%2F2418099a.fits.fz&POS=CIRCLE+182.63574172891978+39.40572772909785+0.01 with ID 140310700759264,\n",
       " Downloaded object from URL https://ws.cadc-ccda.hia-iha.nrc-cnrc.gc.ca/caom2ops/sync?ID=cadc%3ACFHT%2F2418100o.fits.fz&POS=CIRCLE+182.63574172891978+39.40572772909785+0.01 with ID 140310700759408,\n",
       " Downloaded object from URL https://ws.cadc-ccda.hia-iha.nrc-cnrc.gc.ca/caom2ops/sync?ID=cadc%3ACFHT%2F2418100p.fits.fz&POS=CIRCLE+182.63574172891978+39.40572772909785+0.01 with ID 140310700759552,\n",
       " Downloaded object from URL https://ws.cadc-ccda.hia-iha.nrc-cnrc.gc.ca/caom2ops/sync?ID=cadc%3ACFHT%2F2418100w.fits.fz&POS=CIRCLE+182.63574172891978+39.40572772909785+0.01 with ID 140310700759696,\n",
       " Downloaded object from URL https://ws.cadc-ccda.hia-iha.nrc-cnrc.gc.ca/caom2ops/sync?ID=cadc%3ACFHT%2F2418100y.fits.fz&POS=CIRCLE+182.63574172891978+39.40572772909785+0.01 with ID 140310700759840,\n",
       " Downloaded object from URL https://ws.cadc-ccda.hia-iha.nrc-cnrc.gc.ca/caom2ops/sync?ID=cadc%3ACFHT%2F2418101p.fits.fz&POS=CIRCLE+182.63574172891978+39.40572772909785+0.01 with ID 140310700759984,\n",
       " Downloaded object from URL https://ws.cadc-ccda.hia-iha.nrc-cnrc.gc.ca/caom2ops/sync?ID=cadc%3ACFHT%2F2418098s.fits.fz&POS=CIRCLE+182.63574172891978+39.40572772909785+0.01 with ID 140310700760128,\n",
       " Downloaded object from URL https://ws.cadc-ccda.hia-iha.nrc-cnrc.gc.ca/caom2ops/sync?ID=cadc%3ACFHT%2F2418098w.fits.fz&POS=CIRCLE+182.63574172891978+39.40572772909785+0.01 with ID 140310700760272,\n",
       " Downloaded object from URL https://ws.cadc-ccda.hia-iha.nrc-cnrc.gc.ca/caom2ops/sync?ID=cadc%3ACFHT%2F2418098y.fits.fz&POS=CIRCLE+182.63574172891978+39.40572772909785+0.01 with ID 140310700760416,\n",
       " Downloaded object from URL https://ws.cadc-ccda.hia-iha.nrc-cnrc.gc.ca/caom2ops/sync?ID=cadc%3ACFHT%2F2418105a.fits.fz&POS=CIRCLE+182.63574172891978+39.40572772909785+0.01 with ID 140310700760560,\n",
       " Downloaded object from URL https://ws.cadc-ccda.hia-iha.nrc-cnrc.gc.ca/caom2ops/sync?ID=cadc%3ACFHT%2F2418103p.fits.fz&POS=CIRCLE+182.63574172891978+39.40572772909785+0.01 with ID 140310700760704,\n",
       " Downloaded object from URL https://ws.cadc-ccda.hia-iha.nrc-cnrc.gc.ca/caom2ops/sync?ID=cadc%3ACFHT%2F2418106y.fits.fz&POS=CIRCLE+182.63574172891978+39.40572772909785+0.01 with ID 140310700760848,\n",
       " Downloaded object from URL https://ws.cadc-ccda.hia-iha.nrc-cnrc.gc.ca/caom2ops/sync?ID=cadc%3ACFHT%2F2418109o.fits.fz&POS=CIRCLE+182.63574172891978+39.40572772909785+0.01 with ID 140310700760992,\n",
       " Downloaded object from URL https://ws.cadc-ccda.hia-iha.nrc-cnrc.gc.ca/caom2ops/sync?ID=cadc%3ACFHT%2F2418109s.fits.fz&POS=CIRCLE+182.63574172891978+39.40572772909785+0.01 with ID 140310700621936,\n",
       " Downloaded object from URL https://ws.cadc-ccda.hia-iha.nrc-cnrc.gc.ca/caom2ops/sync?ID=cadc%3ACFHT%2F2418109w.fits.fz&POS=CIRCLE+182.63574172891978+39.40572772909785+0.01 with ID 140310700622080,\n",
       " Downloaded object from URL https://ws.cadc-ccda.hia-iha.nrc-cnrc.gc.ca/caom2ops/sync?ID=cadc%3ACFHT%2F2418109y.fits.fz&POS=CIRCLE+182.63574172891978+39.40572772909785+0.01 with ID 140310700622224,\n",
       " Downloaded object from URL https://ws.cadc-ccda.hia-iha.nrc-cnrc.gc.ca/caom2ops/sync?ID=cadc%3ACFHT%2F2418111o.fits.fz&POS=CIRCLE+182.63574172891978+39.40572772909785+0.01 with ID 140310700622368,\n",
       " Downloaded object from URL https://ws.cadc-ccda.hia-iha.nrc-cnrc.gc.ca/caom2ops/sync?ID=cadc%3ACFHT%2F2418111s.fits.fz&POS=CIRCLE+182.63574172891978+39.40572772909785+0.01 with ID 140310700622512,\n",
       " Downloaded object from URL https://ws.cadc-ccda.hia-iha.nrc-cnrc.gc.ca/caom2ops/sync?ID=cadc%3ACFHT%2F2418111y.fits.fz&POS=CIRCLE+182.63574172891978+39.40572772909785+0.01 with ID 140310700622656,\n",
       " Downloaded object from URL https://ws.cadc-ccda.hia-iha.nrc-cnrc.gc.ca/caom2ops/sync?ID=cadc%3ACFHT%2F2418114w.fits.fz&POS=CIRCLE+182.63574172891978+39.40572772909785+0.01 with ID 140310700622800,\n",
       " Downloaded object from URL https://ws.cadc-ccda.hia-iha.nrc-cnrc.gc.ca/caom2ops/sync?ID=cadc%3ACFHT%2F2418117y.fits.fz&POS=CIRCLE+182.63574172891978+39.40572772909785+0.01 with ID 140310700622944,\n",
       " Downloaded object from URL https://ws.cadc-ccda.hia-iha.nrc-cnrc.gc.ca/caom2ops/sync?ID=cadc%3ACFHT%2F2418118p.fits.fz&POS=CIRCLE+182.63574172891978+39.40572772909785+0.01 with ID 140310700623088,\n",
       " Downloaded object from URL https://ws.cadc-ccda.hia-iha.nrc-cnrc.gc.ca/caom2ops/sync?ID=cadc%3ACFHT%2F2418118s.fits.fz&POS=CIRCLE+182.63574172891978+39.40572772909785+0.01 with ID 140310700623232,\n",
       " Downloaded object from URL https://ws.cadc-ccda.hia-iha.nrc-cnrc.gc.ca/caom2ops/sync?ID=cadc%3ACFHT%2F2418118w.fits.fz&POS=CIRCLE+182.63574172891978+39.40572772909785+0.01 with ID 140310700623376,\n",
       " Downloaded object from URL https://ws.cadc-ccda.hia-iha.nrc-cnrc.gc.ca/caom2ops/sync?ID=cadc%3ACFHT%2F2418118y.fits.fz&POS=CIRCLE+182.63574172891978+39.40572772909785+0.01 with ID 140310700623520,\n",
       " Downloaded object from URL https://ws.cadc-ccda.hia-iha.nrc-cnrc.gc.ca/caom2ops/sync?ID=cadc%3ACFHT%2F2418120o.fits.fz&POS=CIRCLE+182.63574172891978+39.40572772909785+0.01 with ID 140310700623664,\n",
       " Downloaded object from URL https://ws.cadc-ccda.hia-iha.nrc-cnrc.gc.ca/caom2ops/sync?ID=cadc%3ACFHT%2F2418120p.fits.fz&POS=CIRCLE+182.63574172891978+39.40572772909785+0.01 with ID 140310700623808,\n",
       " Downloaded object from URL https://ws.cadc-ccda.hia-iha.nrc-cnrc.gc.ca/caom2ops/sync?ID=cadc%3ACFHT%2F2418120s.fits.fz&POS=CIRCLE+182.63574172891978+39.40572772909785+0.01 with ID 140310700623952,\n",
       " Downloaded object from URL https://ws.cadc-ccda.hia-iha.nrc-cnrc.gc.ca/caom2ops/sync?ID=cadc%3ACFHT%2F2417487y.fits.fz&POS=CIRCLE+182.63574172891978+39.40572772909785+0.01 with ID 140310700624096,\n",
       " Downloaded object from URL https://ws.cadc-ccda.hia-iha.nrc-cnrc.gc.ca/caom2ops/sync?ID=cadc%3ACFHT%2F2417453a.fits.fz&POS=CIRCLE+182.63574172891978+39.40572772909785+0.01 with ID 140310700624240,\n",
       " Downloaded object from URL https://ws.cadc-ccda.hia-iha.nrc-cnrc.gc.ca/caom2ops/sync?ID=cadc%3ACFHT%2F2417455s.fits.fz&POS=CIRCLE+182.63574172891978+39.40572772909785+0.01 with ID 140310700624384,\n",
       " Downloaded object from URL https://ws.cadc-ccda.hia-iha.nrc-cnrc.gc.ca/caom2ops/sync?ID=cadc%3ACFHT%2F2417455w.fits.fz&POS=CIRCLE+182.63574172891978+39.40572772909785+0.01 with ID 140310700624528,\n",
       " Downloaded object from URL https://ws.cadc-ccda.hia-iha.nrc-cnrc.gc.ca/caom2ops/sync?ID=cadc%3ACFHT%2F2417455y.fits.fz&POS=CIRCLE+182.63574172891978+39.40572772909785+0.01 with ID 140310700624672,\n",
       " Downloaded object from URL https://ws.cadc-ccda.hia-iha.nrc-cnrc.gc.ca/caom2ops/sync?ID=cadc%3ACFHT%2F2417457o.fits.fz&POS=CIRCLE+182.63574172891978+39.40572772909785+0.01 with ID 140310700624816,\n",
       " Downloaded object from URL https://ws.cadc-ccda.hia-iha.nrc-cnrc.gc.ca/caom2ops/sync?ID=cadc%3ACFHT%2F2417457p.fits.fz&POS=CIRCLE+182.63574172891978+39.40572772909785+0.01 with ID 140310700624960,\n",
       " Downloaded object from URL https://ws.cadc-ccda.hia-iha.nrc-cnrc.gc.ca/caom2ops/sync?ID=cadc%3ACFHT%2F2417457s.fits.fz&POS=CIRCLE+182.63574172891978+39.40572772909785+0.01 with ID 140310700625104,\n",
       " Downloaded object from URL https://ws.cadc-ccda.hia-iha.nrc-cnrc.gc.ca/caom2ops/sync?ID=cadc%3ACFHT%2F2417457y.fits.fz&POS=CIRCLE+182.63574172891978+39.40572772909785+0.01 with ID 140310700625248,\n",
       " Downloaded object from URL https://ws.cadc-ccda.hia-iha.nrc-cnrc.gc.ca/caom2ops/sync?ID=cadc%3ACFHT%2F2417459a.fits.fz&POS=CIRCLE+182.63574172891978+39.40572772909785+0.01 with ID 140310700625392,\n",
       " Downloaded object from URL https://ws.cadc-ccda.hia-iha.nrc-cnrc.gc.ca/caom2ops/sync?ID=cadc%3ACFHT%2F2417460p.fits.fz&POS=CIRCLE+182.63574172891978+39.40572772909785+0.01 with ID 140310700625536,\n",
       " Downloaded object from URL https://ws.cadc-ccda.hia-iha.nrc-cnrc.gc.ca/caom2ops/sync?ID=cadc%3ACFHT%2F2417460s.fits.fz&POS=CIRCLE+182.63574172891978+39.40572772909785+0.01 with ID 140310700625680,\n",
       " Downloaded object from URL https://ws.cadc-ccda.hia-iha.nrc-cnrc.gc.ca/caom2ops/sync?ID=cadc%3ACFHT%2F2417460w.fits.fz&POS=CIRCLE+182.63574172891978+39.40572772909785+0.01 with ID 140310700625824,\n",
       " Downloaded object from URL https://ws.cadc-ccda.hia-iha.nrc-cnrc.gc.ca/caom2ops/sync?ID=cadc%3ACFHT%2F2417463o.fits.fz&POS=CIRCLE+182.63574172891978+39.40572772909785+0.01 with ID 140310700802160,\n",
       " Downloaded object from URL https://ws.cadc-ccda.hia-iha.nrc-cnrc.gc.ca/caom2ops/sync?ID=cadc%3ACFHT%2F2417463w.fits.fz&POS=CIRCLE+182.63574172891978+39.40572772909785+0.01 with ID 140310700802304,\n",
       " Downloaded object from URL https://ws.cadc-ccda.hia-iha.nrc-cnrc.gc.ca/caom2ops/sync?ID=cadc%3ACFHT%2F2417462s.fits.fz&POS=CIRCLE+182.63574172891978+39.40572772909785+0.01 with ID 140310700802448,\n",
       " Downloaded object from URL https://ws.cadc-ccda.hia-iha.nrc-cnrc.gc.ca/caom2ops/sync?ID=cadc%3ACFHT%2F2417462w.fits.fz&POS=CIRCLE+182.63574172891978+39.40572772909785+0.01 with ID 140310700802592,\n",
       " Downloaded object from URL https://ws.cadc-ccda.hia-iha.nrc-cnrc.gc.ca/caom2ops/sync?ID=cadc%3ACFHT%2F2417468p.fits.fz&POS=CIRCLE+182.63574172891978+39.40572772909785+0.01 with ID 140310700802736,\n",
       " Downloaded object from URL https://ws.cadc-ccda.hia-iha.nrc-cnrc.gc.ca/caom2ops/sync?ID=cadc%3ACFHT%2F2417468y.fits.fz&POS=CIRCLE+182.63574172891978+39.40572772909785+0.01 with ID 140310700802880,\n",
       " Downloaded object from URL https://ws.cadc-ccda.hia-iha.nrc-cnrc.gc.ca/caom2ops/sync?ID=cadc%3ACFHT%2F2417467a.fits.fz&POS=CIRCLE+182.63574172891978+39.40572772909785+0.01 with ID 140310700803024,\n",
       " Downloaded object from URL https://ws.cadc-ccda.hia-iha.nrc-cnrc.gc.ca/caom2ops/sync?ID=cadc%3ACFHT%2F2417470o.fits.fz&POS=CIRCLE+182.63574172891978+39.40572772909785+0.01 with ID 140310700803168,\n",
       " Downloaded object from URL https://ws.cadc-ccda.hia-iha.nrc-cnrc.gc.ca/caom2ops/sync?ID=cadc%3ACFHT%2F2417470p.fits.fz&POS=CIRCLE+182.63574172891978+39.40572772909785+0.01 with ID 140310700803312,\n",
       " Downloaded object from URL https://ws.cadc-ccda.hia-iha.nrc-cnrc.gc.ca/caom2ops/sync?ID=cadc%3ACFHT%2F2417470y.fits.fz&POS=CIRCLE+182.63574172891978+39.40572772909785+0.01 with ID 140310700803456,\n",
       " Downloaded object from URL https://ws.cadc-ccda.hia-iha.nrc-cnrc.gc.ca/caom2ops/sync?ID=cadc%3ACFHT%2F2417471o.fits.fz&POS=CIRCLE+182.63574172891978+39.40572772909785+0.01 with ID 140310700803600,\n",
       " Downloaded object from URL https://ws.cadc-ccda.hia-iha.nrc-cnrc.gc.ca/caom2ops/sync?ID=cadc%3ACFHT%2F2417473o.fits.fz&POS=CIRCLE+182.63574172891978+39.40572772909785+0.01 with ID 140310700803744,\n",
       " Downloaded object from URL https://ws.cadc-ccda.hia-iha.nrc-cnrc.gc.ca/caom2ops/sync?ID=cadc%3ACFHT%2F2417475a.fits.fz&POS=CIRCLE+182.63574172891978+39.40572772909785+0.01 with ID 140310700803888,\n",
       " Downloaded object from URL https://ws.cadc-ccda.hia-iha.nrc-cnrc.gc.ca/caom2ops/sync?ID=cadc%3ACFHT%2F2417476o.fits.fz&POS=CIRCLE+182.63574172891978+39.40572772909785+0.01 with ID 140310700804032,\n",
       " Downloaded object from URL https://ws.cadc-ccda.hia-iha.nrc-cnrc.gc.ca/caom2ops/sync?ID=cadc%3ACFHT%2F2417476s.fits.fz&POS=CIRCLE+182.63574172891978+39.40572772909785+0.01 with ID 140310700804176,\n",
       " Downloaded object from URL https://ws.cadc-ccda.hia-iha.nrc-cnrc.gc.ca/caom2ops/sync?ID=cadc%3ACFHT%2F2417476y.fits.fz&POS=CIRCLE+182.63574172891978+39.40572772909785+0.01 with ID 140310700804320,\n",
       " Downloaded object from URL https://ws.cadc-ccda.hia-iha.nrc-cnrc.gc.ca/caom2ops/sync?ID=cadc%3ACFHT%2F2417479p.fits.fz&POS=CIRCLE+182.63574172891978+39.40572772909785+0.01 with ID 140310700804464,\n",
       " Downloaded object from URL https://ws.cadc-ccda.hia-iha.nrc-cnrc.gc.ca/caom2ops/sync?ID=cadc%3ACFHT%2F2417479s.fits.fz&POS=CIRCLE+182.63574172891978+39.40572772909785+0.01 with ID 140310700804608,\n",
       " Downloaded object from URL https://ws.cadc-ccda.hia-iha.nrc-cnrc.gc.ca/caom2ops/sync?ID=cadc%3ACFHT%2F2417478s.fits.fz&POS=CIRCLE+182.63574172891978+39.40572772909785+0.01 with ID 140310700804752,\n",
       " Downloaded object from URL https://ws.cadc-ccda.hia-iha.nrc-cnrc.gc.ca/caom2ops/sync?ID=cadc%3ACFHT%2F2417478w.fits.fz&POS=CIRCLE+182.63574172891978+39.40572772909785+0.01 with ID 140310700804896,\n",
       " Downloaded object from URL https://ws.cadc-ccda.hia-iha.nrc-cnrc.gc.ca/caom2ops/sync?ID=cadc%3ACFHT%2F2417480a.fits.fz&POS=CIRCLE+182.63574172891978+39.40572772909785+0.01 with ID 140310700805040,\n",
       " Downloaded object from URL https://ws.cadc-ccda.hia-iha.nrc-cnrc.gc.ca/caom2ops/sync?ID=cadc%3ACFHT%2F2417484w.fits.fz&POS=CIRCLE+182.63574172891978+39.40572772909785+0.01 with ID 140310700805184,\n",
       " Downloaded object from URL https://ws.cadc-ccda.hia-iha.nrc-cnrc.gc.ca/caom2ops/sync?ID=cadc%3ACFHT%2F2417484y.fits.fz&POS=CIRCLE+182.63574172891978+39.40572772909785+0.01 with ID 140310700805328,\n",
       " Downloaded object from URL https://ws.cadc-ccda.hia-iha.nrc-cnrc.gc.ca/caom2ops/sync?ID=cadc%3ACFHT%2F2417486p.fits.fz&POS=CIRCLE+182.63574172891978+39.40572772909785+0.01 with ID 140310700805472,\n",
       " Downloaded object from URL https://ws.cadc-ccda.hia-iha.nrc-cnrc.gc.ca/caom2ops/sync?ID=cadc%3ACFHT%2F2417489o.fits.fz&POS=CIRCLE+182.63574172891978+39.40572772909785+0.01 with ID 140310700805616,\n",
       " Downloaded object from URL https://ws.cadc-ccda.hia-iha.nrc-cnrc.gc.ca/caom2ops/sync?ID=cadc%3ACFHT%2F2417489p.fits.fz&POS=CIRCLE+182.63574172891978+39.40572772909785+0.01 with ID 140310700805760,\n",
       " Downloaded object from URL https://ws.cadc-ccda.hia-iha.nrc-cnrc.gc.ca/caom2ops/sync?ID=cadc%3ACFHT%2F2417489s.fits.fz&POS=CIRCLE+182.63574172891978+39.40572772909785+0.01 with ID 140310700805904,\n",
       " Downloaded object from URL https://ws.cadc-ccda.hia-iha.nrc-cnrc.gc.ca/caom2ops/sync?ID=cadc%3ACFHT%2F2417494a.fits.fz&POS=CIRCLE+182.63574172891978+39.40572772909785+0.01 with ID 140310700806048,\n",
       " Downloaded object from URL https://ws.cadc-ccda.hia-iha.nrc-cnrc.gc.ca/caom2ops/sync?ID=cadc%3ACFHT%2F2417493p.fits.fz&POS=CIRCLE+182.63574172891978+39.40572772909785+0.01 with ID 140310700662896,\n",
       " Downloaded object from URL https://ws.cadc-ccda.hia-iha.nrc-cnrc.gc.ca/caom2ops/sync?ID=cadc%3ACFHT%2F2417493s.fits.fz&POS=CIRCLE+182.63574172891978+39.40572772909785+0.01 with ID 140310700663040,\n",
       " Downloaded object from URL https://ws.cadc-ccda.hia-iha.nrc-cnrc.gc.ca/caom2ops/sync?ID=cadc%3ACFHT%2F2417493w.fits.fz&POS=CIRCLE+182.63574172891978+39.40572772909785+0.01 with ID 140310700663184,\n",
       " Downloaded object from URL https://ws.cadc-ccda.hia-iha.nrc-cnrc.gc.ca/caom2ops/sync?ID=cadc%3ACFHT%2F2417496y.fits.fz&POS=CIRCLE+182.63574172891978+39.40572772909785+0.01 with ID 140310700663328,\n",
       " Downloaded object from URL https://ws.cadc-ccda.hia-iha.nrc-cnrc.gc.ca/caom2ops/sync?ID=cadc%3ACFHT%2F2417495p.fits.fz&POS=CIRCLE+182.63574172891978+39.40572772909785+0.01 with ID 140310700663472,\n",
       " Downloaded object from URL https://ws.cadc-ccda.hia-iha.nrc-cnrc.gc.ca/caom2ops/sync?ID=cadc%3ACFHT%2F2417495w.fits.fz&POS=CIRCLE+182.63574172891978+39.40572772909785+0.01 with ID 140310700663616,\n",
       " Downloaded object from URL https://ws.cadc-ccda.hia-iha.nrc-cnrc.gc.ca/caom2ops/sync?ID=cadc%3ACFHT%2F2417497a.fits.fz&POS=CIRCLE+182.63574172891978+39.40572772909785+0.01 with ID 140310700663760,\n",
       " Downloaded object from URL https://ws.cadc-ccda.hia-iha.nrc-cnrc.gc.ca/caom2ops/sync?ID=cadc%3ACFHT%2F2417498y.fits.fz&POS=CIRCLE+182.63574172891978+39.40572772909785+0.01 with ID 140310700663904,\n",
       " Downloaded object from URL https://ws.cadc-ccda.hia-iha.nrc-cnrc.gc.ca/caom2ops/sync?ID=cadc%3ACFHT%2F2417503o.fits.fz&POS=CIRCLE+182.63574172891978+39.40572772909785+0.01 with ID 140310700664048,\n",
       " Downloaded object from URL https://ws.cadc-ccda.hia-iha.nrc-cnrc.gc.ca/caom2ops/sync?ID=cadc%3ACFHT%2F2417503p.fits.fz&POS=CIRCLE+182.63574172891978+39.40572772909785+0.01 with ID 140310700664192,\n",
       " Downloaded object from URL https://ws.cadc-ccda.hia-iha.nrc-cnrc.gc.ca/caom2ops/sync?ID=cadc%3ACFHT%2F2417501p.fits.fz&POS=CIRCLE+182.63574172891978+39.40572772909785+0.01 with ID 140310700664336,\n",
       " Downloaded object from URL https://ws.cadc-ccda.hia-iha.nrc-cnrc.gc.ca/caom2ops/sync?ID=cadc%3ACFHT%2F2417501s.fits.fz&POS=CIRCLE+182.63574172891978+39.40572772909785+0.01 with ID 140310700664480,\n",
       " Downloaded object from URL https://ws.cadc-ccda.hia-iha.nrc-cnrc.gc.ca/caom2ops/sync?ID=cadc%3ACFHT%2F2417506o.fits.fz&POS=CIRCLE+182.63574172891978+39.40572772909785+0.01 with ID 140310700664624,\n",
       " Downloaded object from URL https://ws.cadc-ccda.hia-iha.nrc-cnrc.gc.ca/caom2ops/sync?ID=cadc%3ACFHT%2F2417506w.fits.fz&POS=CIRCLE+182.63574172891978+39.40572772909785+0.01 with ID 140310700664768,\n",
       " Downloaded object from URL https://ws.cadc-ccda.hia-iha.nrc-cnrc.gc.ca/caom2ops/sync?ID=cadc%3ACFHT%2F2417504p.fits.fz&POS=CIRCLE+182.63574172891978+39.40572772909785+0.01 with ID 140310700664912,\n",
       " Downloaded object from URL https://ws.cadc-ccda.hia-iha.nrc-cnrc.gc.ca/caom2ops/sync?ID=cadc%3ACFHT%2F2417509o.fits.fz&POS=CIRCLE+182.63574172891978+39.40572772909785+0.01 with ID 140310700665056,\n",
       " Downloaded object from URL https://ws.cadc-ccda.hia-iha.nrc-cnrc.gc.ca/caom2ops/sync?ID=cadc%3ACFHT%2F2417509p.fits.fz&POS=CIRCLE+182.63574172891978+39.40572772909785+0.01 with ID 140310700665200,\n",
       " Downloaded object from URL https://ws.cadc-ccda.hia-iha.nrc-cnrc.gc.ca/caom2ops/sync?ID=cadc%3ACFHT%2F2417509s.fits.fz&POS=CIRCLE+182.63574172891978+39.40572772909785+0.01 with ID 140310700665344,\n",
       " Downloaded object from URL https://ws.cadc-ccda.hia-iha.nrc-cnrc.gc.ca/caom2ops/sync?ID=cadc%3ACFHT%2F2417509w.fits.fz&POS=CIRCLE+182.63574172891978+39.40572772909785+0.01 with ID 140310700665488,\n",
       " Downloaded object from URL https://ws.cadc-ccda.hia-iha.nrc-cnrc.gc.ca/caom2ops/sync?ID=cadc%3ACFHT%2F2417509y.fits.fz&POS=CIRCLE+182.63574172891978+39.40572772909785+0.01 with ID 140310700665632,\n",
       " Downloaded object from URL https://ws.cadc-ccda.hia-iha.nrc-cnrc.gc.ca/caom2ops/sync?ID=cadc%3ACFHT%2F2417511o.fits.fz&POS=CIRCLE+182.63574172891978+39.40572772909785+0.01 with ID 140310700665776,\n",
       " Downloaded object from URL https://ws.cadc-ccda.hia-iha.nrc-cnrc.gc.ca/caom2ops/sync?ID=cadc%3ACFHT%2F2417511s.fits.fz&POS=CIRCLE+182.63574172891978+39.40572772909785+0.01 with ID 140310700665920,\n",
       " Downloaded object from URL https://ws.cadc-ccda.hia-iha.nrc-cnrc.gc.ca/caom2ops/sync?ID=cadc%3ACFHT%2F2417511y.fits.fz&POS=CIRCLE+182.63574172891978+39.40572772909785+0.01 with ID 140310700666064,\n",
       " Downloaded object from URL https://ws.cadc-ccda.hia-iha.nrc-cnrc.gc.ca/caom2ops/sync?ID=cadc%3ACFHT%2F2417512s.fits.fz&POS=CIRCLE+182.63574172891978+39.40572772909785+0.01 with ID 140310700666208,\n",
       " Downloaded object from URL https://ws.cadc-ccda.hia-iha.nrc-cnrc.gc.ca/caom2ops/sync?ID=cadc%3ACFHT%2F2417514s.fits.fz&POS=CIRCLE+182.63574172891978+39.40572772909785+0.01 with ID 140310700666352,\n",
       " Downloaded object from URL https://ws.cadc-ccda.hia-iha.nrc-cnrc.gc.ca/caom2ops/sync?ID=cadc%3ACFHT%2F2417517p.fits.fz&POS=CIRCLE+182.63574172891978+39.40572772909785+0.01 with ID 140310700666496,\n",
       " Downloaded object from URL https://ws.cadc-ccda.hia-iha.nrc-cnrc.gc.ca/caom2ops/sync?ID=cadc%3ACFHT%2F2417518a.fits.fz&POS=CIRCLE+182.63574172891978+39.40572772909785+0.01 with ID 140310700666640,\n",
       " Downloaded object from URL https://ws.cadc-ccda.hia-iha.nrc-cnrc.gc.ca/caom2ops/sync?ID=cadc%3ACFHT%2F2417522o.fits.fz&POS=CIRCLE+182.63574172891978+39.40572772909785+0.01 with ID 140310700666784,\n",
       " Downloaded object from URL https://ws.cadc-ccda.hia-iha.nrc-cnrc.gc.ca/caom2ops/sync?ID=cadc%3ACFHT%2F2417522p.fits.fz&POS=CIRCLE+182.63574172891978+39.40572772909785+0.01 with ID 140310700744816,\n",
       " Downloaded object from URL https://ws.cadc-ccda.hia-iha.nrc-cnrc.gc.ca/caom2ops/sync?ID=cadc%3ACFHT%2F2417522w.fits.fz&POS=CIRCLE+182.63574172891978+39.40572772909785+0.01 with ID 140310700744960,\n",
       " Downloaded object from URL https://ws.cadc-ccda.hia-iha.nrc-cnrc.gc.ca/caom2ops/sync?ID=cadc%3ACFHT%2F2417522y.fits.fz&POS=CIRCLE+182.63574172891978+39.40572772909785+0.01 with ID 140310700745104,\n",
       " Downloaded object from URL https://ws.cadc-ccda.hia-iha.nrc-cnrc.gc.ca/caom2ops/sync?ID=cadc%3ACFHT%2F2417525o.fits.fz&POS=CIRCLE+182.63574172891978+39.40572772909785+0.01 with ID 140310700745248,\n",
       " Downloaded object from URL https://ws.cadc-ccda.hia-iha.nrc-cnrc.gc.ca/caom2ops/sync?ID=cadc%3ACFHT%2F2417526a.fits.fz&POS=CIRCLE+182.63574172891978+39.40572772909785+0.01 with ID 140310700745392,\n",
       " Downloaded object from URL https://ws.cadc-ccda.hia-iha.nrc-cnrc.gc.ca/caom2ops/sync?ID=cadc%3ACFHT%2F2417435o.fits.fz&POS=CIRCLE+182.63574172891978+39.40572772909785+0.01 with ID 140310700745536,\n",
       " Downloaded object from URL https://ws.cadc-ccda.hia-iha.nrc-cnrc.gc.ca/caom2ops/sync?ID=cadc%3ACFHT%2F2417530w.fits.fz&POS=CIRCLE+182.63574172891978+39.40572772909785+0.01 with ID 140310700745680,\n",
       " Downloaded object from URL https://ws.cadc-ccda.hia-iha.nrc-cnrc.gc.ca/caom2ops/sync?ID=cadc%3ACFHT%2F2417535a.fits.fz&POS=CIRCLE+182.63574172891978+39.40572772909785+0.01 with ID 140310700745824,\n",
       " Downloaded object from URL https://ws.cadc-ccda.hia-iha.nrc-cnrc.gc.ca/caom2ops/sync?ID=cadc%3ACFHT%2F2417534o.fits.fz&POS=CIRCLE+182.63574172891978+39.40572772909785+0.01 with ID 140310700745968,\n",
       " Downloaded object from URL https://ws.cadc-ccda.hia-iha.nrc-cnrc.gc.ca/caom2ops/sync?ID=cadc%3ACFHT%2F2417537p.fits.fz&POS=CIRCLE+182.63574172891978+39.40572772909785+0.01 with ID 140310700746112,\n",
       " Downloaded object from URL https://ws.cadc-ccda.hia-iha.nrc-cnrc.gc.ca/caom2ops/sync?ID=cadc%3ACFHT%2F2417537s.fits.fz&POS=CIRCLE+182.63574172891978+39.40572772909785+0.01 with ID 140310700746256,\n",
       " Downloaded object from URL https://ws.cadc-ccda.hia-iha.nrc-cnrc.gc.ca/caom2ops/sync?ID=cadc%3ACFHT%2F2417539p.fits.fz&POS=CIRCLE+182.63574172891978+39.40572772909785+0.01 with ID 140310700746400,\n",
       " Downloaded object from URL https://ws.cadc-ccda.hia-iha.nrc-cnrc.gc.ca/caom2ops/sync?ID=cadc%3ACFHT%2F2417539s.fits.fz&POS=CIRCLE+182.63574172891978+39.40572772909785+0.01 with ID 140310700746544,\n",
       " Downloaded object from URL https://ws.cadc-ccda.hia-iha.nrc-cnrc.gc.ca/caom2ops/sync?ID=cadc%3ACFHT%2F2417539w.fits.fz&POS=CIRCLE+182.63574172891978+39.40572772909785+0.01 with ID 140310700746688,\n",
       " Downloaded object from URL https://ws.cadc-ccda.hia-iha.nrc-cnrc.gc.ca/caom2ops/sync?ID=cadc%3ACFHT%2F2417536o.fits.fz&POS=CIRCLE+182.63574172891978+39.40572772909785+0.01 with ID 140310700746832,\n",
       " Downloaded object from URL https://ws.cadc-ccda.hia-iha.nrc-cnrc.gc.ca/caom2ops/sync?ID=cadc%3ACFHT%2F2417542p.fits.fz&POS=CIRCLE+182.63574172891978+39.40572772909785+0.01 with ID 140310700746976,\n",
       " Downloaded object from URL https://ws.cadc-ccda.hia-iha.nrc-cnrc.gc.ca/caom2ops/sync?ID=cadc%3ACFHT%2F2417547s.fits.fz&POS=CIRCLE+182.63574172891978+39.40572772909785+0.01 with ID 140310700747120,\n",
       " Downloaded object from URL https://ws.cadc-ccda.hia-iha.nrc-cnrc.gc.ca/caom2ops/sync?ID=cadc%3ACFHT%2F2417544p.fits.fz&POS=CIRCLE+182.63574172891978+39.40572772909785+0.01 with ID 140310700747264,\n",
       " Downloaded object from URL https://ws.cadc-ccda.hia-iha.nrc-cnrc.gc.ca/caom2ops/sync?ID=cadc%3ACFHT%2F2417544s.fits.fz&POS=CIRCLE+182.63574172891978+39.40572772909785+0.01 with ID 140310700747408,\n",
       " Downloaded object from URL https://ws.cadc-ccda.hia-iha.nrc-cnrc.gc.ca/caom2ops/sync?ID=cadc%3ACFHT%2F2417554o.fits.fz&POS=CIRCLE+182.63574172891978+39.40572772909785+0.01 with ID 140310700747552,\n",
       " Downloaded object from URL https://ws.cadc-ccda.hia-iha.nrc-cnrc.gc.ca/caom2ops/sync?ID=cadc%3ACFHT%2F2417554w.fits.fz&POS=CIRCLE+182.63574172891978+39.40572772909785+0.01 with ID 140310700747696,\n",
       " Downloaded object from URL https://ws.cadc-ccda.hia-iha.nrc-cnrc.gc.ca/caom2ops/sync?ID=cadc%3ACFHT%2F2417554y.fits.fz&POS=CIRCLE+182.63574172891978+39.40572772909785+0.01 with ID 140310700747840,\n",
       " Downloaded object from URL https://ws.cadc-ccda.hia-iha.nrc-cnrc.gc.ca/caom2ops/sync?ID=cadc%3ACFHT%2F2417550p.fits.fz&POS=CIRCLE+182.63574172891978+39.40572772909785+0.01 with ID 140310700747984,\n",
       " Downloaded object from URL https://ws.cadc-ccda.hia-iha.nrc-cnrc.gc.ca/caom2ops/sync?ID=cadc%3ACFHT%2F2417550s.fits.fz&POS=CIRCLE+182.63574172891978+39.40572772909785+0.01 with ID 140310700748128,\n",
       " Downloaded object from URL https://ws.cadc-ccda.hia-iha.nrc-cnrc.gc.ca/caom2ops/sync?ID=cadc%3ACFHT%2F2417550w.fits.fz&POS=CIRCLE+182.63574172891978+39.40572772909785+0.01 with ID 140310700748272,\n",
       " Downloaded object from URL https://ws.cadc-ccda.hia-iha.nrc-cnrc.gc.ca/caom2ops/sync?ID=cadc%3ACFHT%2F2417555o.fits.fz&POS=CIRCLE+182.63574172891978+39.40572772909785+0.01 with ID 140310700748416,\n",
       " Downloaded object from URL https://ws.cadc-ccda.hia-iha.nrc-cnrc.gc.ca/caom2ops/sync?ID=cadc%3ACFHT%2F2417555w.fits.fz&POS=CIRCLE+182.63574172891978+39.40572772909785+0.01 with ID 140310700748560,\n",
       " Downloaded object from URL https://ws.cadc-ccda.hia-iha.nrc-cnrc.gc.ca/caom2ops/sync?ID=cadc%3ACFHT%2F2417551a.fits.fz&POS=CIRCLE+182.63574172891978+39.40572772909785+0.01 with ID 140310700748704,\n",
       " Downloaded object from URL https://ws.cadc-ccda.hia-iha.nrc-cnrc.gc.ca/caom2ops/sync?ID=cadc%3ACFHT%2F2417552o.fits.fz&POS=CIRCLE+182.63574172891978+39.40572772909785+0.01 with ID 140310700707952,\n",
       " Downloaded object from URL https://ws.cadc-ccda.hia-iha.nrc-cnrc.gc.ca/caom2ops/sync?ID=cadc%3ACFHT%2F2417552s.fits.fz&POS=CIRCLE+182.63574172891978+39.40572772909785+0.01 with ID 140310700708096,\n",
       " Downloaded object from URL https://ws.cadc-ccda.hia-iha.nrc-cnrc.gc.ca/caom2ops/sync?ID=cadc%3ACFHT%2F2417552w.fits.fz&POS=CIRCLE+182.63574172891978+39.40572772909785+0.01 with ID 140310700708240,\n",
       " Downloaded object from URL https://ws.cadc-ccda.hia-iha.nrc-cnrc.gc.ca/caom2ops/sync?ID=cadc%3ACFHT%2F2417560s.fits.fz&POS=CIRCLE+182.63574172891978+39.40572772909785+0.01 with ID 140310700708384,\n",
       " Downloaded object from URL https://ws.cadc-ccda.hia-iha.nrc-cnrc.gc.ca/caom2ops/sync?ID=cadc%3ACFHT%2F2417562p.fits.fz&POS=CIRCLE+182.63574172891978+39.40572772909785+0.01 with ID 140310700708528,\n",
       " Downloaded object from URL https://ws.cadc-ccda.hia-iha.nrc-cnrc.gc.ca/caom2ops/sync?ID=cadc%3ACFHT%2F2417557a.fits.fz&POS=CIRCLE+182.63574172891978+39.40572772909785+0.01 with ID 140310700708672,\n",
       " Downloaded object from URL https://ws.cadc-ccda.hia-iha.nrc-cnrc.gc.ca/caom2ops/sync?ID=cadc%3ACFHT%2F2417566a.fits.fz&POS=CIRCLE+182.63574172891978+39.40572772909785+0.01 with ID 140310700708816,\n",
       " Downloaded object from URL https://ws.cadc-ccda.hia-iha.nrc-cnrc.gc.ca/caom2ops/sync?ID=cadc%3ACFHT%2F2417564s.fits.fz&POS=CIRCLE+182.63574172891978+39.40572772909785+0.01 with ID 140310700708960,\n",
       " Downloaded object from URL https://ws.cadc-ccda.hia-iha.nrc-cnrc.gc.ca/caom2ops/sync?ID=cadc%3ACFHT%2F2417564w.fits.fz&POS=CIRCLE+182.63574172891978+39.40572772909785+0.01 with ID 140310700709104,\n",
       " Downloaded object from URL https://ws.cadc-ccda.hia-iha.nrc-cnrc.gc.ca/caom2ops/sync?ID=cadc%3ACFHT%2F2417567o.fits.fz&POS=CIRCLE+182.63574172891978+39.40572772909785+0.01 with ID 140310700709248,\n",
       " Downloaded object from URL https://ws.cadc-ccda.hia-iha.nrc-cnrc.gc.ca/caom2ops/sync?ID=cadc%3ACFHT%2F2417567s.fits.fz&POS=CIRCLE+182.63574172891978+39.40572772909785+0.01 with ID 140310700709392,\n",
       " Downloaded object from URL https://ws.cadc-ccda.hia-iha.nrc-cnrc.gc.ca/caom2ops/sync?ID=cadc%3ACFHT%2F2417567w.fits.fz&POS=CIRCLE+182.63574172891978+39.40572772909785+0.01 with ID 140310700709536,\n",
       " Downloaded object from URL https://ws.cadc-ccda.hia-iha.nrc-cnrc.gc.ca/caom2ops/sync?ID=cadc%3ACFHT%2F2417567y.fits.fz&POS=CIRCLE+182.63574172891978+39.40572772909785+0.01 with ID 140310700709680,\n",
       " Downloaded object from URL https://ws.cadc-ccda.hia-iha.nrc-cnrc.gc.ca/caom2ops/sync?ID=cadc%3ACFHT%2F2417569p.fits.fz&POS=CIRCLE+182.63574172891978+39.40572772909785+0.01 with ID 140310700709824,\n",
       " Downloaded object from URL https://ws.cadc-ccda.hia-iha.nrc-cnrc.gc.ca/caom2ops/sync?ID=cadc%3ACFHT%2F2417569w.fits.fz&POS=CIRCLE+182.63574172891978+39.40572772909785+0.01 with ID 140310700709968,\n",
       " Downloaded object from URL https://ws.cadc-ccda.hia-iha.nrc-cnrc.gc.ca/caom2ops/sync?ID=cadc%3ACFHT%2F2417569y.fits.fz&POS=CIRCLE+182.63574172891978+39.40572772909785+0.01 with ID 140310700710112,\n",
       " Downloaded object from URL https://ws.cadc-ccda.hia-iha.nrc-cnrc.gc.ca/caom2ops/sync?ID=cadc%3ACFHT%2F2417570y.fits.fz&POS=CIRCLE+182.63574172891978+39.40572772909785+0.01 with ID 140310700710256,\n",
       " Downloaded object from URL https://ws.cadc-ccda.hia-iha.nrc-cnrc.gc.ca/caom2ops/sync?ID=cadc%3ACFHT%2F2417570o.fits.fz&POS=CIRCLE+182.63574172891978+39.40572772909785+0.01 with ID 140310700710400,\n",
       " Downloaded object from URL https://ws.cadc-ccda.hia-iha.nrc-cnrc.gc.ca/caom2ops/sync?ID=cadc%3ACFHT%2F2417570w.fits.fz&POS=CIRCLE+182.63574172891978+39.40572772909785+0.01 with ID 140310700710544,\n",
       " Downloaded object from URL https://ws.cadc-ccda.hia-iha.nrc-cnrc.gc.ca/caom2ops/sync?ID=cadc%3ACFHT%2F2417572s.fits.fz&POS=CIRCLE+182.63574172891978+39.40572772909785+0.01 with ID 140310700710688,\n",
       " Downloaded object from URL https://ws.cadc-ccda.hia-iha.nrc-cnrc.gc.ca/caom2ops/sync?ID=cadc%3ACFHT%2F2417572y.fits.fz&POS=CIRCLE+182.63574172891978+39.40572772909785+0.01 with ID 140310700710832,\n",
       " Downloaded object from URL https://ws.cadc-ccda.hia-iha.nrc-cnrc.gc.ca/caom2ops/sync?ID=cadc%3ACFHT%2F2417575o.fits.fz&POS=CIRCLE+182.63574172891978+39.40572772909785+0.01 with ID 140310700710976,\n",
       " Downloaded object from URL https://ws.cadc-ccda.hia-iha.nrc-cnrc.gc.ca/caom2ops/sync?ID=cadc%3ACFHT%2F1077898o.fits&POS=CIRCLE+182.63574172891978+39.40572772909785+0.01 with ID 140310700711120,\n",
       " Downloaded object from URL https://ws.cadc-ccda.hia-iha.nrc-cnrc.gc.ca/caom2ops/sync?ID=cadc%3ACFHT%2F1077897o.fits&POS=CIRCLE+182.63574172891978+39.40572772909785+0.01 with ID 140310700711264,\n",
       " Downloaded object from URL https://ws.cadc-ccda.hia-iha.nrc-cnrc.gc.ca/caom2ops/sync?ID=cadc%3ACFHT%2F1077900o.fits&POS=CIRCLE+182.63574172891978+39.40572772909785+0.01 with ID 140310700711408,\n",
       " Downloaded object from URL https://ws.cadc-ccda.hia-iha.nrc-cnrc.gc.ca/caom2ops/sync?ID=cadc%3ACFHT%2F2480199o.fits.fz&POS=CIRCLE+182.63574172891978+39.40572772909785+0.01 with ID 140310700711552,\n",
       " Downloaded object from URL https://ws.cadc-ccda.hia-iha.nrc-cnrc.gc.ca/caom2ops/sync?ID=cadc%3ACFHT%2F2480199p.fits.fz&POS=CIRCLE+182.63574172891978+39.40572772909785+0.01 with ID 140310700711696,\n",
       " Downloaded object from URL https://ws.cadc-ccda.hia-iha.nrc-cnrc.gc.ca/caom2ops/sync?ID=cadc%3ACFHT%2F2483985o.fits.fz&POS=CIRCLE+182.63574172891978+39.40572772909785+0.01 with ID 140310700711840,\n",
       " Downloaded object from URL https://ws.cadc-ccda.hia-iha.nrc-cnrc.gc.ca/caom2ops/sync?ID=cadc%3ACFHT%2F2483985p.fits.fz&POS=CIRCLE+182.63574172891978+39.40572772909785+0.01 with ID 140310700789872,\n",
       " Downloaded object from URL https://ws.cadc-ccda.hia-iha.nrc-cnrc.gc.ca/caom2ops/sync?ID=cadc%3ACFHT%2F2417543a.fits.fz&POS=CIRCLE+182.63574172891978+39.40572772909785+0.01 with ID 140310700790016,\n",
       " Downloaded object from URL https://ws.cadc-ccda.hia-iha.nrc-cnrc.gc.ca/caom2ops/sync?ID=cadc%3ACFHT%2F2417533a.fits.fz&POS=CIRCLE+182.63574172891978+39.40572772909785+0.01 with ID 140310700790160,\n",
       " Downloaded object from URL https://ws.cadc-ccda.hia-iha.nrc-cnrc.gc.ca/caom2ops/sync?ID=cadc%3ACFHT%2F2417524a.fits.fz&POS=CIRCLE+182.63574172891978+39.40572772909785+0.01 with ID 140310700790304,\n",
       " Downloaded object from URL https://ws.cadc-ccda.hia-iha.nrc-cnrc.gc.ca/caom2ops/sync?ID=cadc%3ACFHT%2F2417456a.fits.fz&POS=CIRCLE+182.63574172891978+39.40572772909785+0.01 with ID 140310700790448,\n",
       " Downloaded object from URL https://ws.cadc-ccda.hia-iha.nrc-cnrc.gc.ca/caom2ops/sync?ID=cadc%3ACFHT%2F2417440a.fits.fz&POS=CIRCLE+182.63574172891978+39.40572772909785+0.01 with ID 140310700790592,\n",
       " Downloaded object from URL https://ws.cadc-ccda.hia-iha.nrc-cnrc.gc.ca/caom2ops/sync?ID=cadc%3ACFHT%2F2417432a.fits.fz&POS=CIRCLE+182.63574172891978+39.40572772909785+0.01 with ID 140310700790736,\n",
       " Downloaded object from URL https://ws.cadc-ccda.hia-iha.nrc-cnrc.gc.ca/caom2ops/sync?ID=cadc%3ACFHT%2F2417424a.fits.fz&POS=CIRCLE+182.63574172891978+39.40572772909785+0.01 with ID 140310700790880,\n",
       " Downloaded object from URL https://ws.cadc-ccda.hia-iha.nrc-cnrc.gc.ca/caom2ops/sync?ID=cadc%3ACFHT%2F2417414a.fits.fz&POS=CIRCLE+182.63574172891978+39.40572772909785+0.01 with ID 140310700791024,\n",
       " Downloaded object from URL https://ws.cadc-ccda.hia-iha.nrc-cnrc.gc.ca/caom2ops/sync?ID=cadc%3ACFHT%2F2417388a.fits.fz&POS=CIRCLE+182.63574172891978+39.40572772909785+0.01 with ID 140310700791168,\n",
       " Downloaded object from URL https://ws.cadc-ccda.hia-iha.nrc-cnrc.gc.ca/caom2ops/sync?ID=cadc%3ACFHT%2F2418160a.fits.fz&POS=CIRCLE+182.63574172891978+39.40572772909785+0.01 with ID 140310700791312,\n",
       " Downloaded object from URL https://ws.cadc-ccda.hia-iha.nrc-cnrc.gc.ca/caom2ops/sync?ID=cadc%3ACFHT%2F2418133s.fits.fz&POS=CIRCLE+182.63574172891978+39.40572772909785+0.01 with ID 140310700791456,\n",
       " Downloaded object from URL https://ws.cadc-ccda.hia-iha.nrc-cnrc.gc.ca/caom2ops/sync?ID=cadc%3ACFHT%2F2418090s.fits.fz&POS=CIRCLE+182.63574172891978+39.40572772909785+0.01 with ID 140310700791600,\n",
       " Downloaded object from URL https://ws.cadc-ccda.hia-iha.nrc-cnrc.gc.ca/caom2ops/sync?ID=cadc%3ACFHT%2F2418077p.fits.fz&POS=CIRCLE+182.63574172891978+39.40572772909785+0.01 with ID 140310700791744,\n",
       " Downloaded object from URL https://ws.cadc-ccda.hia-iha.nrc-cnrc.gc.ca/caom2ops/sync?ID=cadc%3ACFHT%2F2418058s.fits.fz&POS=CIRCLE+182.63574172891978+39.40572772909785+0.01 with ID 140310700791888,\n",
       " Downloaded object from URL https://ws.cadc-ccda.hia-iha.nrc-cnrc.gc.ca/caom2ops/sync?ID=cadc%3ACFHT%2F2417569s.fits.fz&POS=CIRCLE+182.63574172891978+39.40572772909785+0.01 with ID 140310700792032,\n",
       " Downloaded object from URL https://ws.cadc-ccda.hia-iha.nrc-cnrc.gc.ca/caom2ops/sync?ID=cadc%3ACFHT%2F2417528s.fits.fz&POS=CIRCLE+182.63574172891978+39.40572772909785+0.01 with ID 140310700792176,\n",
       " Downloaded object from URL https://ws.cadc-ccda.hia-iha.nrc-cnrc.gc.ca/caom2ops/sync?ID=cadc%3ACFHT%2F2417527p.fits.fz&POS=CIRCLE+182.63574172891978+39.40572772909785+0.01 with ID 140310700792320,\n",
       " Downloaded object from URL https://ws.cadc-ccda.hia-iha.nrc-cnrc.gc.ca/caom2ops/sync?ID=cadc%3ACFHT%2F2417484s.fits.fz&POS=CIRCLE+182.63574172891978+39.40572772909785+0.01 with ID 140310700792464,\n",
       " Downloaded object from URL https://ws.cadc-ccda.hia-iha.nrc-cnrc.gc.ca/caom2ops/sync?ID=cadc%3ACFHT%2F2417425s.fits.fz&POS=CIRCLE+182.63574172891978+39.40572772909785+0.01 with ID 140310700792608,\n",
       " Downloaded object from URL https://ws.cadc-ccda.hia-iha.nrc-cnrc.gc.ca/caom2ops/sync?ID=cadc%3ACFHT%2F2418152p.fits.fz&POS=CIRCLE+182.63574172891978+39.40572772909785+0.01 with ID 140310700792752,\n",
       " Downloaded object from URL https://ws.cadc-ccda.hia-iha.nrc-cnrc.gc.ca/caom2ops/sync?ID=cadc%3ACFHT%2F2418151s.fits.fz&POS=CIRCLE+182.63574172891978+39.40572772909785+0.01 with ID 140310700792896,\n",
       " Downloaded object from URL https://ws.cadc-ccda.hia-iha.nrc-cnrc.gc.ca/caom2ops/sync?ID=cadc%3ACFHT%2F2418135s.fits.fz&POS=CIRCLE+182.63574172891978+39.40572772909785+0.01 with ID 140310700793040,\n",
       " Downloaded object from URL https://ws.cadc-ccda.hia-iha.nrc-cnrc.gc.ca/caom2ops/sync?ID=cadc%3ACFHT%2F2418125p.fits.fz&POS=CIRCLE+182.63574172891978+39.40572772909785+0.01 with ID 140310700793184,\n",
       " Downloaded object from URL https://ws.cadc-ccda.hia-iha.nrc-cnrc.gc.ca/caom2ops/sync?ID=cadc%3ACFHT%2F2418125s.fits.fz&POS=CIRCLE+182.63574172891978+39.40572772909785+0.01 with ID 140310700793328,\n",
       " Downloaded object from URL https://ws.cadc-ccda.hia-iha.nrc-cnrc.gc.ca/caom2ops/sync?ID=cadc%3ACFHT%2F2418098p.fits.fz&POS=CIRCLE+182.63574172891978+39.40572772909785+0.01 with ID 140310700793472,\n",
       " Downloaded object from URL https://ws.cadc-ccda.hia-iha.nrc-cnrc.gc.ca/caom2ops/sync?ID=cadc%3ACFHT%2F2418084p.fits.fz&POS=CIRCLE+182.63574172891978+39.40572772909785+0.01 with ID 140310700793616,\n",
       " Downloaded object from URL https://ws.cadc-ccda.hia-iha.nrc-cnrc.gc.ca/caom2ops/sync?ID=cadc%3ACFHT%2F2418062s.fits.fz&POS=CIRCLE+182.63574172891978+39.40572772909785+0.01 with ID 140310700793760,\n",
       " Downloaded object from URL https://ws.cadc-ccda.hia-iha.nrc-cnrc.gc.ca/caom2ops/sync?ID=cadc%3ACFHT%2F2417558s.fits.fz&POS=CIRCLE+182.63574172891978+39.40572772909785+0.01 with ID 140310473080944,\n",
       " Downloaded object from URL https://ws.cadc-ccda.hia-iha.nrc-cnrc.gc.ca/caom2ops/sync?ID=cadc%3ACFHT%2F2417534s.fits.fz&POS=CIRCLE+182.63574172891978+39.40572772909785+0.01 with ID 140310473081088,\n",
       " Downloaded object from URL https://ws.cadc-ccda.hia-iha.nrc-cnrc.gc.ca/caom2ops/sync?ID=cadc%3ACFHT%2F2417530p.fits.fz&POS=CIRCLE+182.63574172891978+39.40572772909785+0.01 with ID 140310473081232,\n",
       " Downloaded object from URL https://ws.cadc-ccda.hia-iha.nrc-cnrc.gc.ca/caom2ops/sync?ID=cadc%3ACFHT%2F2417520s.fits.fz&POS=CIRCLE+182.63574172891978+39.40572772909785+0.01 with ID 140310473081376,\n",
       " Downloaded object from URL https://ws.cadc-ccda.hia-iha.nrc-cnrc.gc.ca/caom2ops/sync?ID=cadc%3ACFHT%2F2417517s.fits.fz&POS=CIRCLE+182.63574172891978+39.40572772909785+0.01 with ID 140310473081520,\n",
       " Downloaded object from URL https://ws.cadc-ccda.hia-iha.nrc-cnrc.gc.ca/caom2ops/sync?ID=cadc%3ACFHT%2F2417504s.fits.fz&POS=CIRCLE+182.63574172891978+39.40572772909785+0.01 with ID 140310473081664,\n",
       " Downloaded object from URL https://ws.cadc-ccda.hia-iha.nrc-cnrc.gc.ca/caom2ops/sync?ID=cadc%3ACFHT%2F2417495s.fits.fz&POS=CIRCLE+182.63574172891978+39.40572772909785+0.01 with ID 140310473081808,\n",
       " Downloaded object from URL https://ws.cadc-ccda.hia-iha.nrc-cnrc.gc.ca/caom2ops/sync?ID=cadc%3ACFHT%2F2417481p.fits.fz&POS=CIRCLE+182.63574172891978+39.40572772909785+0.01 with ID 140310473081952,\n",
       " Downloaded object from URL https://ws.cadc-ccda.hia-iha.nrc-cnrc.gc.ca/caom2ops/sync?ID=cadc%3ACFHT%2F2417481s.fits.fz&POS=CIRCLE+182.63574172891978+39.40572772909785+0.01 with ID 140310473082096,\n",
       " Downloaded object from URL https://ws.cadc-ccda.hia-iha.nrc-cnrc.gc.ca/caom2ops/sync?ID=cadc%3ACFHT%2F2417478p.fits.fz&POS=CIRCLE+182.63574172891978+39.40572772909785+0.01 with ID 140310473082240,\n",
       " Downloaded object from URL https://ws.cadc-ccda.hia-iha.nrc-cnrc.gc.ca/caom2ops/sync?ID=cadc%3ACFHT%2F2417473s.fits.fz&POS=CIRCLE+182.63574172891978+39.40572772909785+0.01 with ID 140310473082384,\n",
       " Downloaded object from URL https://ws.cadc-ccda.hia-iha.nrc-cnrc.gc.ca/caom2ops/sync?ID=cadc%3ACFHT%2F2417470s.fits.fz&POS=CIRCLE+182.63574172891978+39.40572772909785+0.01 with ID 140310473082528,\n",
       " Downloaded object from URL https://ws.cadc-ccda.hia-iha.nrc-cnrc.gc.ca/caom2ops/sync?ID=cadc%3ACFHT%2F2417463p.fits.fz&POS=CIRCLE+182.63574172891978+39.40572772909785+0.01 with ID 140310473082672,\n",
       " Downloaded object from URL https://ws.cadc-ccda.hia-iha.nrc-cnrc.gc.ca/caom2ops/sync?ID=cadc%3ACFHT%2F2417394s.fits.fz&POS=CIRCLE+182.63574172891978+39.40572772909785+0.01 with ID 140310473082816,\n",
       " Downloaded object from URL https://ws.cadc-ccda.hia-iha.nrc-cnrc.gc.ca/caom2ops/sync?ID=cadc%3ACFHT%2F2417405s.fits.fz&POS=CIRCLE+182.63574172891978+39.40572772909785+0.01 with ID 140310473082960,\n",
       " Downloaded object from URL https://ws.cadc-ccda.hia-iha.nrc-cnrc.gc.ca/caom2ops/sync?ID=cadc%3ACFHT%2F2417506s.fits.fz&POS=CIRCLE+182.63574172891978+39.40572772909785+0.01 with ID 140310473083104,\n",
       " Downloaded object from URL https://ws.cadc-ccda.hia-iha.nrc-cnrc.gc.ca/caom2ops/sync?ID=cadc%3ACFHT%2F2417519p.fits.fz&POS=CIRCLE+182.63574172891978+39.40572772909785+0.01 with ID 140310473083248,\n",
       " Downloaded object from URL https://ws.cadc-ccda.hia-iha.nrc-cnrc.gc.ca/caom2ops/sync?ID=cadc%3ACFHT%2F2417427p.fits.fz&POS=CIRCLE+182.63574172891978+39.40572772909785+0.01 with ID 140310473083392,\n",
       " Downloaded object from URL https://ws.cadc-ccda.hia-iha.nrc-cnrc.gc.ca/caom2ops/sync?ID=cadc%3ACFHT%2F2417418s.fits.fz&POS=CIRCLE+182.63574172891978+39.40572772909785+0.01 with ID 140310473083536,\n",
       " Downloaded object from URL https://ws.cadc-ccda.hia-iha.nrc-cnrc.gc.ca/caom2ops/sync?ID=cadc%3ACFHT%2F2417413s.fits.fz&POS=CIRCLE+182.63574172891978+39.40572772909785+0.01 with ID 140310473083680,\n",
       " Downloaded object from URL https://ws.cadc-ccda.hia-iha.nrc-cnrc.gc.ca/caom2ops/sync?ID=cadc%3ACFHT%2F2417408p.fits.fz&POS=CIRCLE+182.63574172891978+39.40572772909785+0.01 with ID 140310473083824,\n",
       " Downloaded object from URL https://ws.cadc-ccda.hia-iha.nrc-cnrc.gc.ca/caom2ops/sync?ID=cadc%3ACFHT%2F2417400s.fits.fz&POS=CIRCLE+182.63574172891978+39.40572772909785+0.01 with ID 140310473083968,\n",
       " Downloaded object from URL https://ws.cadc-ccda.hia-iha.nrc-cnrc.gc.ca/caom2ops/sync?ID=cadc%3ACFHT%2F2417386s.fits.fz&POS=CIRCLE+182.63574172891978+39.40572772909785+0.01 with ID 140310473084112,\n",
       " Downloaded object from URL https://ws.cadc-ccda.hia-iha.nrc-cnrc.gc.ca/caom2ops/sync?ID=cadc%3ACFHT%2F2418157p.fits.fz&POS=CIRCLE+182.63574172891978+39.40572772909785+0.01 with ID 140310473084256,\n",
       " Downloaded object from URL https://ws.cadc-ccda.hia-iha.nrc-cnrc.gc.ca/caom2ops/sync?ID=cadc%3ACFHT%2F2418138p.fits.fz&POS=CIRCLE+182.63574172891978+39.40572772909785+0.01 with ID 140310473084400,\n",
       " Downloaded object from URL https://ws.cadc-ccda.hia-iha.nrc-cnrc.gc.ca/caom2ops/sync?ID=cadc%3ACFHT%2F2418128p.fits.fz&POS=CIRCLE+182.63574172891978+39.40572772909785+0.01 with ID 140310473084544,\n",
       " Downloaded object from URL https://ws.cadc-ccda.hia-iha.nrc-cnrc.gc.ca/caom2ops/sync?ID=cadc%3ACFHT%2F2418095p.fits.fz&POS=CIRCLE+182.63574172891978+39.40572772909785+0.01 with ID 140310473084688,\n",
       " Downloaded object from URL https://ws.cadc-ccda.hia-iha.nrc-cnrc.gc.ca/caom2ops/sync?ID=cadc%3ACFHT%2F2418074p.fits.fz&POS=CIRCLE+182.63574172891978+39.40572772909785+0.01 with ID 140310473084832,\n",
       " Downloaded object from URL https://ws.cadc-ccda.hia-iha.nrc-cnrc.gc.ca/caom2ops/sync?ID=cadc%3ACFHT%2F2418053s.fits.fz&POS=CIRCLE+182.63574172891978+39.40572772909785+0.01 with ID 140310473121904,\n",
       " Downloaded object from URL https://ws.cadc-ccda.hia-iha.nrc-cnrc.gc.ca/caom2ops/sync?ID=cadc%3ACFHT%2F2418044p.fits.fz&POS=CIRCLE+182.63574172891978+39.40572772909785+0.01 with ID 140310473122048,\n",
       " Downloaded object from URL https://ws.cadc-ccda.hia-iha.nrc-cnrc.gc.ca/caom2ops/sync?ID=cadc%3ACFHT%2F2417575p.fits.fz&POS=CIRCLE+182.63574172891978+39.40572772909785+0.01 with ID 140310473122192,\n",
       " Downloaded object from URL https://ws.cadc-ccda.hia-iha.nrc-cnrc.gc.ca/caom2ops/sync?ID=cadc%3ACFHT%2F2417575s.fits.fz&POS=CIRCLE+182.63574172891978+39.40572772909785+0.01 with ID 140310473122336,\n",
       " Downloaded object from URL https://ws.cadc-ccda.hia-iha.nrc-cnrc.gc.ca/caom2ops/sync?ID=cadc%3ACFHT%2F2417525p.fits.fz&POS=CIRCLE+182.63574172891978+39.40572772909785+0.01 with ID 140310473122480,\n",
       " Downloaded object from URL https://ws.cadc-ccda.hia-iha.nrc-cnrc.gc.ca/caom2ops/sync?ID=cadc%3ACFHT%2F2417522s.fits.fz&POS=CIRCLE+182.63574172891978+39.40572772909785+0.01 with ID 140310473122624,\n",
       " Downloaded object from URL https://ws.cadc-ccda.hia-iha.nrc-cnrc.gc.ca/caom2ops/sync?ID=cadc%3ACFHT%2F2417449s.fits.fz&POS=CIRCLE+182.63574172891978+39.40572772909785+0.01 with ID 140310473122768,\n",
       " Downloaded object from URL https://ws.cadc-ccda.hia-iha.nrc-cnrc.gc.ca/caom2ops/sync?ID=cadc%3ACFHT%2F2417436p.fits.fz&POS=CIRCLE+182.63574172891978+39.40572772909785+0.01 with ID 140310473122912,\n",
       " Downloaded object from URL https://ws.cadc-ccda.hia-iha.nrc-cnrc.gc.ca/caom2ops/sync?ID=cadc%3ACFHT%2F2417436s.fits.fz&POS=CIRCLE+182.63574172891978+39.40572772909785+0.01 with ID 140310473123056,\n",
       " Downloaded object from URL https://ws.cadc-ccda.hia-iha.nrc-cnrc.gc.ca/caom2ops/sync?ID=cadc%3ACFHT%2F2417421s.fits.fz&POS=CIRCLE+182.63574172891978+39.40572772909785+0.01 with ID 140310473123200,\n",
       " Downloaded object from URL https://ws.cadc-ccda.hia-iha.nrc-cnrc.gc.ca/caom2ops/sync?ID=cadc%3ACFHT%2F2417419p.fits.fz&POS=CIRCLE+182.63574172891978+39.40572772909785+0.01 with ID 140310473123344,\n",
       " Downloaded object from URL https://ws.cadc-ccda.hia-iha.nrc-cnrc.gc.ca/caom2ops/sync?ID=cadc%3ACFHT%2F2417369p.fits.fz&POS=CIRCLE+182.63574172891978+39.40572772909785+0.01 with ID 140310473123488,\n",
       " Downloaded object from URL https://ws.cadc-ccda.hia-iha.nrc-cnrc.gc.ca/caom2ops/sync?ID=cadc%3ACFHT%2F2417430p.fits.fz&POS=CIRCLE+182.63574172891978+39.40572772909785+0.01 with ID 140310473123632,\n",
       " Downloaded object from URL https://ws.cadc-ccda.hia-iha.nrc-cnrc.gc.ca/caom2ops/sync?ID=cadc%3ACFHT%2F2484623p.fits.fz&POS=CIRCLE+182.63574172891978+39.40572772909785+0.01 with ID 140310473123776,\n",
       " Downloaded object from URL https://ws.cadc-ccda.hia-iha.nrc-cnrc.gc.ca/caom2ops/sync?ID=cadc%3ACFHT%2F2417374a.fits.fz&POS=CIRCLE+182.63574172891978+39.40572772909785+0.01 with ID 140310473123920,\n",
       " Downloaded object from URL https://ws.cadc-ccda.hia-iha.nrc-cnrc.gc.ca/caom2ops/sync?ID=cadc%3ACFHT%2F2417396a.fits.fz&POS=CIRCLE+182.63574172891978+39.40572772909785+0.01 with ID 140310473124064,\n",
       " Downloaded object from URL https://ws.cadc-ccda.hia-iha.nrc-cnrc.gc.ca/caom2ops/sync?ID=cadc%3ACFHT%2F2417407a.fits.fz&POS=CIRCLE+182.63574172891978+39.40572772909785+0.01 with ID 140310473124208,\n",
       " Downloaded object from URL https://ws.cadc-ccda.hia-iha.nrc-cnrc.gc.ca/caom2ops/sync?ID=cadc%3ACFHT%2F2417445a.fits.fz&POS=CIRCLE+182.63574172891978+39.40572772909785+0.01 with ID 140310473124352,\n",
       " Downloaded object from URL https://ws.cadc-ccda.hia-iha.nrc-cnrc.gc.ca/caom2ops/sync?ID=cadc%3ACFHT%2F2417469a.fits.fz&POS=CIRCLE+182.63574172891978+39.40572772909785+0.01 with ID 140310473124496,\n",
       " Downloaded object from URL https://ws.cadc-ccda.hia-iha.nrc-cnrc.gc.ca/caom2ops/sync?ID=cadc%3ACFHT%2F2417472a.fits.fz&POS=CIRCLE+182.63574172891978+39.40572772909785+0.01 with ID 140310473124640,\n",
       " Downloaded object from URL https://ws.cadc-ccda.hia-iha.nrc-cnrc.gc.ca/caom2ops/sync?ID=cadc%3ACFHT%2F2417485a.fits.fz&POS=CIRCLE+182.63574172891978+39.40572772909785+0.01 with ID 140310473124784,\n",
       " Downloaded object from URL https://ws.cadc-ccda.hia-iha.nrc-cnrc.gc.ca/caom2ops/sync?ID=cadc%3ACFHT%2F2417492a.fits.fz&POS=CIRCLE+182.63574172891978+39.40572772909785+0.01 with ID 140310473124928,\n",
       " Downloaded object from URL https://ws.cadc-ccda.hia-iha.nrc-cnrc.gc.ca/caom2ops/sync?ID=cadc%3ACFHT%2F2417500a.fits.fz&POS=CIRCLE+182.63574172891978+39.40572772909785+0.01 with ID 140310473125072,\n",
       " Downloaded object from URL https://ws.cadc-ccda.hia-iha.nrc-cnrc.gc.ca/caom2ops/sync?ID=cadc%3ACFHT%2F2417513a.fits.fz&POS=CIRCLE+182.63574172891978+39.40572772909785+0.01 with ID 140310473125216,\n",
       " Downloaded object from URL https://ws.cadc-ccda.hia-iha.nrc-cnrc.gc.ca/caom2ops/sync?ID=cadc%3ACFHT%2F2417521a.fits.fz&POS=CIRCLE+182.63574172891978+39.40572772909785+0.01 with ID 140310473125360,\n",
       " Downloaded object from URL https://ws.cadc-ccda.hia-iha.nrc-cnrc.gc.ca/caom2ops/sync?ID=cadc%3ACFHT%2F2417538a.fits.fz&POS=CIRCLE+182.63574172891978+39.40572772909785+0.01 with ID 140310473125504,\n",
       " Downloaded object from URL https://ws.cadc-ccda.hia-iha.nrc-cnrc.gc.ca/caom2ops/sync?ID=cadc%3ACFHT%2F2417571a.fits.fz&POS=CIRCLE+182.63574172891978+39.40572772909785+0.01 with ID 140310473125648,\n",
       " Downloaded object from URL https://ws.cadc-ccda.hia-iha.nrc-cnrc.gc.ca/caom2ops/sync?ID=cadc%3ACFHT%2F2417574a.fits.fz&POS=CIRCLE+182.63574172891978+39.40572772909785+0.01 with ID 140310473125792,\n",
       " Downloaded object from URL https://ws.cadc-ccda.hia-iha.nrc-cnrc.gc.ca/caom2ops/sync?ID=cadc%3ACFHT%2F2417568a.fits.fz&POS=CIRCLE+182.63574172891978+39.40572772909785+0.01 with ID 140310473120016,\n",
       " Downloaded object from URL https://ws.cadc-ccda.hia-iha.nrc-cnrc.gc.ca/caom2ops/sync?ID=cadc%3ACFHT%2F2417561a.fits.fz&POS=CIRCLE+182.63574172891978+39.40572772909785+0.01 with ID 140310473121696,\n",
       " Downloaded object from URL https://ws.cadc-ccda.hia-iha.nrc-cnrc.gc.ca/caom2ops/sync?ID=cadc%3ACFHT%2F2417553a.fits.fz&POS=CIRCLE+182.63574172891978+39.40572772909785+0.01 with ID 140310473120400,\n",
       " Downloaded object from URL https://ws.cadc-ccda.hia-iha.nrc-cnrc.gc.ca/caom2ops/sync?ID=cadc%3ACFHT%2F2417541a.fits.fz&POS=CIRCLE+182.63574172891978+39.40572772909785+0.01 with ID 140310473120976,\n",
       " Downloaded object from URL https://ws.cadc-ccda.hia-iha.nrc-cnrc.gc.ca/caom2ops/sync?ID=cadc%3ACFHT%2F2417505a.fits.fz&POS=CIRCLE+182.63574172891978+39.40572772909785+0.01 with ID 140310473121600,\n",
       " Downloaded object from URL https://ws.cadc-ccda.hia-iha.nrc-cnrc.gc.ca/caom2ops/sync?ID=cadc%3ACFHT%2F2417488a.fits.fz&POS=CIRCLE+182.63574172891978+39.40572772909785+0.01 with ID 140310473119824,\n",
       " Downloaded object from URL https://ws.cadc-ccda.hia-iha.nrc-cnrc.gc.ca/caom2ops/sync?ID=cadc%3ACFHT%2F2417442a.fits.fz&POS=CIRCLE+182.63574172891978+39.40572772909785+0.01 with ID 140310473121552,\n",
       " Downloaded object from URL https://ws.cadc-ccda.hia-iha.nrc-cnrc.gc.ca/caom2ops/sync?ID=cadc%3ACFHT%2F2417437a.fits.fz&POS=CIRCLE+182.63574172891978+39.40572772909785+0.01 with ID 140310473121360,\n",
       " Downloaded object from URL https://ws.cadc-ccda.hia-iha.nrc-cnrc.gc.ca/caom2ops/sync?ID=cadc%3ACFHT%2F2417434a.fits.fz&POS=CIRCLE+182.63574172891978+39.40572772909785+0.01 with ID 140310473121168,\n",
       " Downloaded object from URL https://ws.cadc-ccda.hia-iha.nrc-cnrc.gc.ca/caom2ops/sync?ID=cadc%3ACFHT%2F2417398a.fits.fz&POS=CIRCLE+182.63574172891978+39.40572772909785+0.01 with ID 140310473120784,\n",
       " Downloaded object from URL https://ws.cadc-ccda.hia-iha.nrc-cnrc.gc.ca/caom2ops/sync?ID=cadc%3ACFHT%2F2417390a.fits.fz&POS=CIRCLE+182.63574172891978+39.40572772909785+0.01 with ID 140310473120688,\n",
       " Downloaded object from URL https://ws.cadc-ccda.hia-iha.nrc-cnrc.gc.ca/caom2ops/sync?ID=cadc%3ACFHT%2F2417372a.fits.fz&POS=CIRCLE+182.63574172891978+39.40572772909785+0.01 with ID 140310473120544,\n",
       " Downloaded object from URL https://ws.cadc-ccda.hia-iha.nrc-cnrc.gc.ca/caom2ops/sync?ID=cadc%3ACFHT%2F2418066a.fits.fz&POS=CIRCLE+182.63574172891978+39.40572772909785+0.01 with ID 140310473120352,\n",
       " Downloaded object from URL https://ws.cadc-ccda.hia-iha.nrc-cnrc.gc.ca/caom2ops/sync?ID=cadc%3ACFHT%2F2418078a.fits.fz&POS=CIRCLE+182.63574172891978+39.40572772909785+0.01 with ID 140310473118480,\n",
       " Downloaded object from URL https://ws.cadc-ccda.hia-iha.nrc-cnrc.gc.ca/caom2ops/sync?ID=cadc%3ACFHT%2F2418086a.fits.fz&POS=CIRCLE+182.63574172891978+39.40572772909785+0.01 with ID 140310473119440,\n",
       " Downloaded object from URL https://ws.cadc-ccda.hia-iha.nrc-cnrc.gc.ca/caom2ops/sync?ID=cadc%3ACFHT%2F2418107a.fits.fz&POS=CIRCLE+182.63574172891978+39.40572772909785+0.01 with ID 140310473118960,\n",
       " Downloaded object from URL https://ws.cadc-ccda.hia-iha.nrc-cnrc.gc.ca/caom2ops/sync?ID=cadc%3ACFHT%2F2418113a.fits.fz&POS=CIRCLE+182.63574172891978+39.40572772909785+0.01 with ID 140310473120736,\n",
       " Downloaded object from URL https://ws.cadc-ccda.hia-iha.nrc-cnrc.gc.ca/caom2ops/sync?ID=cadc%3ACFHT%2F2418129a.fits.fz&POS=CIRCLE+182.63574172891978+39.40572772909785+0.01 with ID 140310473119104,\n",
       " Downloaded object from URL https://ws.cadc-ccda.hia-iha.nrc-cnrc.gc.ca/caom2ops/sync?ID=cadc%3ACFHT%2F2418150a.fits.fz&POS=CIRCLE+182.63574172891978+39.40572772909785+0.01 with ID 140310473119344,\n",
       " Downloaded object from URL https://ws.cadc-ccda.hia-iha.nrc-cnrc.gc.ca/caom2ops/sync?ID=cadc%3ACFHT%2F2418168a.fits.fz&POS=CIRCLE+182.63574172891978+39.40572772909785+0.01 with ID 140310473119536,\n",
       " Downloaded object from URL https://ws.cadc-ccda.hia-iha.nrc-cnrc.gc.ca/caom2ops/sync?ID=cadc%3ACFHT%2F2418145a.fits.fz&POS=CIRCLE+182.63574172891978+39.40572772909785+0.01 with ID 140310473119968,\n",
       " Downloaded object from URL https://ws.cadc-ccda.hia-iha.nrc-cnrc.gc.ca/caom2ops/sync?ID=cadc%3ACFHT%2F2418140a.fits.fz&POS=CIRCLE+182.63574172891978+39.40572772909785+0.01 with ID 140310473118912,\n",
       " Downloaded object from URL https://ws.cadc-ccda.hia-iha.nrc-cnrc.gc.ca/caom2ops/sync?ID=cadc%3ACFHT%2F2418132a.fits.fz&POS=CIRCLE+182.63574172891978+39.40572772909785+0.01 with ID 140310473118576,\n",
       " Downloaded object from URL https://ws.cadc-ccda.hia-iha.nrc-cnrc.gc.ca/caom2ops/sync?ID=cadc%3ACFHT%2F2418124a.fits.fz&POS=CIRCLE+182.63574172891978+39.40572772909785+0.01 with ID 140310473118528,\n",
       " Downloaded object from URL https://ws.cadc-ccda.hia-iha.nrc-cnrc.gc.ca/caom2ops/sync?ID=cadc%3ACFHT%2F2418121a.fits.fz&POS=CIRCLE+182.63574172891978+39.40572772909785+0.01 with ID 140310473118384,\n",
       " Downloaded object from URL https://ws.cadc-ccda.hia-iha.nrc-cnrc.gc.ca/caom2ops/sync?ID=cadc%3ACFHT%2F2418091a.fits.fz&POS=CIRCLE+182.63574172891978+39.40572772909785+0.01 with ID 140310473118096,\n",
       " Downloaded object from URL https://ws.cadc-ccda.hia-iha.nrc-cnrc.gc.ca/caom2ops/sync?ID=cadc%3ACFHT%2F2418073a.fits.fz&POS=CIRCLE+182.63574172891978+39.40572772909785+0.01 with ID 140310473117760,\n",
       " Downloaded object from URL https://ws.cadc-ccda.hia-iha.nrc-cnrc.gc.ca/caom2ops/sync?ID=cadc%3ACFHT%2F2418049a.fits.fz&POS=CIRCLE+182.63574172891978+39.40572772909785+0.01 with ID 140310473118240,\n",
       " Downloaded object from URL https://ws.cadc-ccda.hia-iha.nrc-cnrc.gc.ca/caom2ops/sync?ID=cadc%3ACFHT%2F2417421p.fits.fz&POS=CIRCLE+182.63574172891978+39.40572772909785+0.01 with ID 140310473130096,\n",
       " Downloaded object from URL https://ws.cadc-ccda.hia-iha.nrc-cnrc.gc.ca/caom2ops/sync?ID=cadc%3ACFHT%2F2417572p.fits.fz&POS=CIRCLE+182.63574172891978+39.40572772909785+0.01 with ID 140310473130240,\n",
       " Downloaded object from URL https://ws.cadc-ccda.hia-iha.nrc-cnrc.gc.ca/caom2ops/sync?ID=cadc%3ACFHT%2F2418158p.fits.fz&POS=CIRCLE+182.63574172891978+39.40572772909785+0.01 with ID 140310473130384,\n",
       " Downloaded object from URL https://ws.cadc-ccda.hia-iha.nrc-cnrc.gc.ca/caom2ops/sync?ID=cadc%3ACFHT%2F2418146p.fits.fz&POS=CIRCLE+182.63574172891978+39.40572772909785+0.01 with ID 140310473130528,\n",
       " Downloaded object from URL https://ws.cadc-ccda.hia-iha.nrc-cnrc.gc.ca/caom2ops/sync?ID=cadc%3ACFHT%2F2418117p.fits.fz&POS=CIRCLE+182.63574172891978+39.40572772909785+0.01 with ID 140310473130672,\n",
       " Downloaded object from URL https://ws.cadc-ccda.hia-iha.nrc-cnrc.gc.ca/caom2ops/sync?ID=cadc%3ACFHT%2F2418111p.fits.fz&POS=CIRCLE+182.63574172891978+39.40572772909785+0.01 with ID 140310473130816,\n",
       " Downloaded object from URL https://ws.cadc-ccda.hia-iha.nrc-cnrc.gc.ca/caom2ops/sync?ID=cadc%3ACFHT%2F2418108p.fits.fz&POS=CIRCLE+182.63574172891978+39.40572772909785+0.01 with ID 140310473130960,\n",
       " Downloaded object from URL https://ws.cadc-ccda.hia-iha.nrc-cnrc.gc.ca/caom2ops/sync?ID=cadc%3ACFHT%2F2418093p.fits.fz&POS=CIRCLE+182.63574172891978+39.40572772909785+0.01 with ID 140310473131104,\n",
       " Downloaded object from URL https://ws.cadc-ccda.hia-iha.nrc-cnrc.gc.ca/caom2ops/sync?ID=cadc%3ACFHT%2F2418092p.fits.fz&POS=CIRCLE+182.63574172891978+39.40572772909785+0.01 with ID 140310473131248,\n",
       " Downloaded object from URL https://ws.cadc-ccda.hia-iha.nrc-cnrc.gc.ca/caom2ops/sync?ID=cadc%3ACFHT%2F2418085p.fits.fz&POS=CIRCLE+182.63574172891978+39.40572772909785+0.01 with ID 140310473131392,\n",
       " Downloaded object from URL https://ws.cadc-ccda.hia-iha.nrc-cnrc.gc.ca/caom2ops/sync?ID=cadc%3ACFHT%2F2417386p.fits.fz&POS=CIRCLE+182.63574172891978+39.40572772909785+0.01 with ID 140310473131536,\n",
       " Downloaded object from URL https://ws.cadc-ccda.hia-iha.nrc-cnrc.gc.ca/caom2ops/sync?ID=cadc%3ACFHT%2F2417392p.fits.fz&POS=CIRCLE+182.63574172891978+39.40572772909785+0.01 with ID 140310473131680,\n",
       " Downloaded object from URL https://ws.cadc-ccda.hia-iha.nrc-cnrc.gc.ca/caom2ops/sync?ID=cadc%3ACFHT%2F2417413p.fits.fz&POS=CIRCLE+182.63574172891978+39.40572772909785+0.01 with ID 140310473131824,\n",
       " Downloaded object from URL https://ws.cadc-ccda.hia-iha.nrc-cnrc.gc.ca/caom2ops/sync?ID=cadc%3ACFHT%2F2417428p.fits.fz&POS=CIRCLE+182.63574172891978+39.40572772909785+0.01 with ID 140310473131968,\n",
       " Downloaded object from URL https://ws.cadc-ccda.hia-iha.nrc-cnrc.gc.ca/caom2ops/sync?ID=cadc%3ACFHT%2F2417438p.fits.fz&POS=CIRCLE+182.63574172891978+39.40572772909785+0.01 with ID 140310473132112,\n",
       " Downloaded object from URL https://ws.cadc-ccda.hia-iha.nrc-cnrc.gc.ca/caom2ops/sync?ID=cadc%3ACFHT%2F2417454p.fits.fz&POS=CIRCLE+182.63574172891978+39.40572772909785+0.01 with ID 140310473132256,\n",
       " Downloaded object from URL https://ws.cadc-ccda.hia-iha.nrc-cnrc.gc.ca/caom2ops/sync?ID=cadc%3ACFHT%2F2417473p.fits.fz&POS=CIRCLE+182.63574172891978+39.40572772909785+0.01 with ID 140310473132400,\n",
       " Downloaded object from URL https://ws.cadc-ccda.hia-iha.nrc-cnrc.gc.ca/caom2ops/sync?ID=cadc%3ACFHT%2F2417520p.fits.fz&POS=CIRCLE+182.63574172891978+39.40572772909785+0.01 with ID 140310473132544,\n",
       " Downloaded object from URL https://ws.cadc-ccda.hia-iha.nrc-cnrc.gc.ca/caom2ops/sync?ID=cadc%3ACFHT%2F2418039p.fits.fz&POS=CIRCLE+182.63574172891978+39.40572772909785+0.01 with ID 140310473132688,\n",
       " Downloaded object from URL https://ws.cadc-ccda.hia-iha.nrc-cnrc.gc.ca/caom2ops/sync?ID=cadc%3ACFHT%2F2418052p.fits.fz&POS=CIRCLE+182.63574172891978+39.40572772909785+0.01 with ID 140310473132832,\n",
       " Downloaded object from URL https://ws.cadc-ccda.hia-iha.nrc-cnrc.gc.ca/caom2ops/sync?ID=cadc%3ACFHT%2F2418090p.fits.fz&POS=CIRCLE+182.63574172891978+39.40572772909785+0.01 with ID 140310473132976,\n",
       " Downloaded object from URL https://ws.cadc-ccda.hia-iha.nrc-cnrc.gc.ca/caom2ops/sync?ID=cadc%3ACFHT%2F2418151p.fits.fz&POS=CIRCLE+182.63574172891978+39.40572772909785+0.01 with ID 140310473133120,\n",
       " Downloaded object from URL https://ws.cadc-ccda.hia-iha.nrc-cnrc.gc.ca/caom2ops/sync?ID=cadc%3ACFHT%2F2418166p.fits.fz&POS=CIRCLE+182.63574172891978+39.40572772909785+0.01 with ID 140310473133264,\n",
       " Downloaded object from URL https://ws.cadc-ccda.hia-iha.nrc-cnrc.gc.ca/caom2ops/sync?ID=cadc%3ACFHT%2F2417367s.fits.fz&POS=CIRCLE+182.63574172891978+39.40572772909785+0.01 with ID 140310473133408,\n",
       " Downloaded object from URL https://ws.cadc-ccda.hia-iha.nrc-cnrc.gc.ca/caom2ops/sync?ID=cadc%3ACFHT%2F2417419s.fits.fz&POS=CIRCLE+182.63574172891978+39.40572772909785+0.01 with ID 140310473133552,\n",
       " Downloaded object from URL https://ws.cadc-ccda.hia-iha.nrc-cnrc.gc.ca/caom2ops/sync?ID=cadc%3ACFHT%2F2417422p.fits.fz&POS=CIRCLE+182.63574172891978+39.40572772909785+0.01 with ID 140310473133696,\n",
       " Downloaded object from URL https://ws.cadc-ccda.hia-iha.nrc-cnrc.gc.ca/caom2ops/sync?ID=cadc%3ACFHT%2F2417441s.fits.fz&POS=CIRCLE+182.63574172891978+39.40572772909785+0.01 with ID 140310473133840,\n",
       " Downloaded object from URL https://ws.cadc-ccda.hia-iha.nrc-cnrc.gc.ca/caom2ops/sync?ID=cadc%3ACFHT%2F2417471s.fits.fz&POS=CIRCLE+182.63574172891978+39.40572772909785+0.01 with ID 140310473133984,\n",
       " Downloaded object from URL https://ws.cadc-ccda.hia-iha.nrc-cnrc.gc.ca/caom2ops/sync?ID=cadc%3ACFHT%2F2417487s.fits.fz&POS=CIRCLE+182.63574172891978+39.40572772909785+0.01 with ID 140310473064560,\n",
       " Downloaded object from URL https://ws.cadc-ccda.hia-iha.nrc-cnrc.gc.ca/caom2ops/sync?ID=cadc%3ACFHT%2F2417498s.fits.fz&POS=CIRCLE+182.63574172891978+39.40572772909785+0.01 with ID 140310473064704,\n",
       " Downloaded object from URL https://ws.cadc-ccda.hia-iha.nrc-cnrc.gc.ca/caom2ops/sync?ID=cadc%3ACFHT%2F2417525s.fits.fz&POS=CIRCLE+182.63574172891978+39.40572772909785+0.01 with ID 140310473064848,\n",
       " Downloaded object from URL https://ws.cadc-ccda.hia-iha.nrc-cnrc.gc.ca/caom2ops/sync?ID=cadc%3ACFHT%2F2417536p.fits.fz&POS=CIRCLE+182.63574172891978+39.40572772909785+0.01 with ID 140310473064992,\n",
       " Downloaded object from URL https://ws.cadc-ccda.hia-iha.nrc-cnrc.gc.ca/caom2ops/sync?ID=cadc%3ACFHT%2F2417555s.fits.fz&POS=CIRCLE+182.63574172891978+39.40572772909785+0.01 with ID 140310473065136,\n",
       " Downloaded object from URL https://ws.cadc-ccda.hia-iha.nrc-cnrc.gc.ca/caom2ops/sync?ID=cadc%3ACFHT%2F2418047p.fits.fz&POS=CIRCLE+182.63574172891978+39.40572772909785+0.01 with ID 140310473065280,\n",
       " Downloaded object from URL https://ws.cadc-ccda.hia-iha.nrc-cnrc.gc.ca/caom2ops/sync?ID=cadc%3ACFHT%2F2418050p.fits.fz&POS=CIRCLE+182.63574172891978+39.40572772909785+0.01 with ID 140310473065424,\n",
       " Downloaded object from URL https://ws.cadc-ccda.hia-iha.nrc-cnrc.gc.ca/caom2ops/sync?ID=cadc%3ACFHT%2F2418133p.fits.fz&POS=CIRCLE+182.63574172891978+39.40572772909785+0.01 with ID 140310473065568,\n",
       " Downloaded object from URL https://ws.cadc-ccda.hia-iha.nrc-cnrc.gc.ca/caom2ops/sync?ID=cadc%3ACFHT%2F2418138s.fits.fz&POS=CIRCLE+182.63574172891978+39.40572772909785+0.01 with ID 140310473065712,\n",
       " Downloaded object from URL https://ws.cadc-ccda.hia-iha.nrc-cnrc.gc.ca/caom2ops/sync?ID=cadc%3ACFHT%2F2418144p.fits.fz&POS=CIRCLE+182.63574172891978+39.40572772909785+0.01 with ID 140310473065856,\n",
       " Downloaded object from URL https://ws.cadc-ccda.hia-iha.nrc-cnrc.gc.ca/caom2ops/sync?ID=cadc%3ACFHT%2F2418157s.fits.fz&POS=CIRCLE+182.63574172891978+39.40572772909785+0.01 with ID 140310473066000,\n",
       " Downloaded object from URL https://ws.cadc-ccda.hia-iha.nrc-cnrc.gc.ca/caom2ops/sync?ID=cadc%3ACFHT%2F2417378s.fits.fz&POS=CIRCLE+182.63574172891978+39.40572772909785+0.01 with ID 140310473066144,\n",
       " Downloaded object from URL https://ws.cadc-ccda.hia-iha.nrc-cnrc.gc.ca/caom2ops/sync?ID=cadc%3ACFHT%2F2417408s.fits.fz&POS=CIRCLE+182.63574172891978+39.40572772909785+0.01 with ID 140310473066288,\n",
       " Downloaded object from URL https://ws.cadc-ccda.hia-iha.nrc-cnrc.gc.ca/caom2ops/sync?ID=cadc%3ACFHT%2F2417454s.fits.fz&POS=CIRCLE+182.63574172891978+39.40572772909785+0.01 with ID 140310473066432,\n",
       " Downloaded object from URL https://ws.cadc-ccda.hia-iha.nrc-cnrc.gc.ca/caom2ops/sync?ID=cadc%3ACFHT%2F2417463s.fits.fz&POS=CIRCLE+182.63574172891978+39.40572772909785+0.01 with ID 140310473066576,\n",
       " Downloaded object from URL https://ws.cadc-ccda.hia-iha.nrc-cnrc.gc.ca/caom2ops/sync?ID=cadc%3ACFHT%2F2417486s.fits.fz&POS=CIRCLE+182.63574172891978+39.40572772909785+0.01 with ID 140310473066720,\n",
       " Downloaded object from URL https://ws.cadc-ccda.hia-iha.nrc-cnrc.gc.ca/caom2ops/sync?ID=cadc%3ACFHT%2F2417496s.fits.fz&POS=CIRCLE+182.63574172891978+39.40572772909785+0.01 with ID 140310473066864,\n",
       " Downloaded object from URL https://ws.cadc-ccda.hia-iha.nrc-cnrc.gc.ca/caom2ops/sync?ID=cadc%3ACFHT%2F2418036s.fits.fz&POS=CIRCLE+182.63574172891978+39.40572772909785+0.01 with ID 140310473067008,\n",
       " Downloaded object from URL https://ws.cadc-ccda.hia-iha.nrc-cnrc.gc.ca/caom2ops/sync?ID=cadc%3ACFHT%2F2418052s.fits.fz&POS=CIRCLE+182.63574172891978+39.40572772909785+0.01 with ID 140310473067152,\n",
       " Downloaded object from URL https://ws.cadc-ccda.hia-iha.nrc-cnrc.gc.ca/caom2ops/sync?ID=cadc%3ACFHT%2F2418061s.fits.fz&POS=CIRCLE+182.63574172891978+39.40572772909785+0.01 with ID 140310473067296,\n",
       " Downloaded object from URL https://ws.cadc-ccda.hia-iha.nrc-cnrc.gc.ca/caom2ops/sync?ID=cadc%3ACFHT%2F2418152s.fits.fz&POS=CIRCLE+182.63574172891978+39.40572772909785+0.01 with ID 140310473067440,\n",
       " Downloaded object from URL https://ws.cadc-ccda.hia-iha.nrc-cnrc.gc.ca/caom2ops/sync?ID=cadc%3ACFHT%2F2417392s.fits.fz&POS=CIRCLE+182.63574172891978+39.40572772909785+0.01 with ID 140310473067584,\n",
       " Downloaded object from URL https://ws.cadc-ccda.hia-iha.nrc-cnrc.gc.ca/caom2ops/sync?ID=cadc%3ACFHT%2F2417435s.fits.fz&POS=CIRCLE+182.63574172891978+39.40572772909785+0.01 with ID 140310473067728,\n",
       " Downloaded object from URL https://ws.cadc-ccda.hia-iha.nrc-cnrc.gc.ca/caom2ops/sync?ID=cadc%3ACFHT%2F2417536s.fits.fz&POS=CIRCLE+182.63574172891978+39.40572772909785+0.01 with ID 140310473067872,\n",
       " Downloaded object from URL https://ws.cadc-ccda.hia-iha.nrc-cnrc.gc.ca/caom2ops/sync?ID=cadc%3ACFHT%2F2418154p.fits.fz&POS=CIRCLE+182.63574172891978+39.40572772909785+0.01 with ID 140310473068016,\n",
       " Downloaded object from URL https://ws.cadc-ccda.hia-iha.nrc-cnrc.gc.ca/caom2ops/sync?ID=cadc%3ACFHT%2F2418143p.fits.fz&POS=CIRCLE+182.63574172891978+39.40572772909785+0.01 with ID 140310473068160,\n",
       " Downloaded object from URL https://ws.cadc-ccda.hia-iha.nrc-cnrc.gc.ca/caom2ops/sync?ID=cadc%3ACFHT%2F2418114p.fits.fz&POS=CIRCLE+182.63574172891978+39.40572772909785+0.01 with ID 140310473068304,\n",
       " Downloaded object from URL https://ws.cadc-ccda.hia-iha.nrc-cnrc.gc.ca/caom2ops/sync?ID=cadc%3ACFHT%2F2418114s.fits.fz&POS=CIRCLE+182.63574172891978+39.40572772909785+0.01 with ID 140310473068448,\n",
       " Downloaded object from URL https://ws.cadc-ccda.hia-iha.nrc-cnrc.gc.ca/caom2ops/sync?ID=cadc%3ACFHT%2F2418103s.fits.fz&POS=CIRCLE+182.63574172891978+39.40572772909785+0.01 with ID 140310473052272,\n",
       " Downloaded object from URL https://ws.cadc-ccda.hia-iha.nrc-cnrc.gc.ca/caom2ops/sync?ID=cadc%3ACFHT%2F2418079s.fits.fz&POS=CIRCLE+182.63574172891978+39.40572772909785+0.01 with ID 140310473052416,\n",
       " Downloaded object from URL https://ws.cadc-ccda.hia-iha.nrc-cnrc.gc.ca/caom2ops/sync?ID=cadc%3ACFHT%2F2418070p.fits.fz&POS=CIRCLE+182.63574172891978+39.40572772909785+0.01 with ID 140310473052560,\n",
       " Downloaded object from URL https://ws.cadc-ccda.hia-iha.nrc-cnrc.gc.ca/caom2ops/sync?ID=cadc%3ACFHT%2F2418047s.fits.fz&POS=CIRCLE+182.63574172891978+39.40572772909785+0.01 with ID 140310473052704,\n",
       " Downloaded object from URL https://ws.cadc-ccda.hia-iha.nrc-cnrc.gc.ca/caom2ops/sync?ID=cadc%3ACFHT%2F2418038p.fits.fz&POS=CIRCLE+182.63574172891978+39.40572772909785+0.01 with ID 140310473052848,\n",
       " Downloaded object from URL https://ws.cadc-ccda.hia-iha.nrc-cnrc.gc.ca/caom2ops/sync?ID=cadc%3ACFHT%2F2417527s.fits.fz&POS=CIRCLE+182.63574172891978+39.40572772909785+0.01 with ID 140310473052992,\n",
       " Downloaded object from URL https://ws.cadc-ccda.hia-iha.nrc-cnrc.gc.ca/caom2ops/sync?ID=cadc%3ACFHT%2F2417511p.fits.fz&POS=CIRCLE+182.63574172891978+39.40572772909785+0.01 with ID 140310473053136,\n",
       " Downloaded object from URL https://ws.cadc-ccda.hia-iha.nrc-cnrc.gc.ca/caom2ops/sync?ID=cadc%3ACFHT%2F2417465s.fits.fz&POS=CIRCLE+182.63574172891978+39.40572772909785+0.01 with ID 140310473053280,\n",
       " Downloaded object from URL https://ws.cadc-ccda.hia-iha.nrc-cnrc.gc.ca/caom2ops/sync?ID=cadc%3ACFHT%2F2417435p.fits.fz&POS=CIRCLE+182.63574172891978+39.40572772909785+0.01 with ID 140310473053424,\n",
       " Downloaded object from URL https://ws.cadc-ccda.hia-iha.nrc-cnrc.gc.ca/caom2ops/sync?ID=cadc%3ACFHT%2F2417425p.fits.fz&POS=CIRCLE+182.63574172891978+39.40572772909785+0.01 with ID 140310473053568,\n",
       " Downloaded object from URL https://ws.cadc-ccda.hia-iha.nrc-cnrc.gc.ca/caom2ops/sync?ID=cadc%3ACFHT%2F2417402p.fits.fz&POS=CIRCLE+182.63574172891978+39.40572772909785+0.01 with ID 140310473053712,\n",
       " Downloaded object from URL https://ws.cadc-ccda.hia-iha.nrc-cnrc.gc.ca/caom2ops/sync?ID=cadc%3ACFHT%2F2417384p.fits.fz&POS=CIRCLE+182.63574172891978+39.40572772909785+0.01 with ID 140310473053856,\n",
       " Downloaded object from URL https://ws.cadc-ccda.hia-iha.nrc-cnrc.gc.ca/caom2ops/sync?ID=cadc%3ACFHT%2F2417383p.fits.fz&POS=CIRCLE+182.63574172891978+39.40572772909785+0.01 with ID 140310473054000,\n",
       " Downloaded object from URL https://ws.cadc-ccda.hia-iha.nrc-cnrc.gc.ca/caom2ops/sync?ID=cadc%3ACFHT%2F2418055p.fits.fz&POS=CIRCLE+182.63574172891978+39.40572772909785+0.01 with ID 140310473054144,\n",
       " Downloaded object from URL https://ws.cadc-ccda.hia-iha.nrc-cnrc.gc.ca/caom2ops/sync?ID=cadc%3ACFHT%2F2418039s.fits.fz&POS=CIRCLE+182.63574172891978+39.40572772909785+0.01 with ID 140310473054288,\n",
       " Downloaded object from URL https://ws.cadc-ccda.hia-iha.nrc-cnrc.gc.ca/caom2ops/sync?ID=cadc%3ACFHT%2F2417558p.fits.fz&POS=CIRCLE+182.63574172891978+39.40572772909785+0.01 with ID 140310473054432,\n",
       " Downloaded object from URL https://ws.cadc-ccda.hia-iha.nrc-cnrc.gc.ca/caom2ops/sync?ID=cadc%3ACFHT%2F2417554s.fits.fz&POS=CIRCLE+182.63574172891978+39.40572772909785+0.01 with ID 140310473054576,\n",
       " Downloaded object from URL https://ws.cadc-ccda.hia-iha.nrc-cnrc.gc.ca/caom2ops/sync?ID=cadc%3ACFHT%2F2417547p.fits.fz&POS=CIRCLE+182.63574172891978+39.40572772909785+0.01 with ID 140310473054720,\n",
       " Downloaded object from URL https://ws.cadc-ccda.hia-iha.nrc-cnrc.gc.ca/caom2ops/sync?ID=cadc%3ACFHT%2F2417530s.fits.fz&POS=CIRCLE+182.63574172891978+39.40572772909785+0.01 with ID 140310473054864,\n",
       " Downloaded object from URL https://ws.cadc-ccda.hia-iha.nrc-cnrc.gc.ca/caom2ops/sync?ID=cadc%3ACFHT%2F2417496p.fits.fz&POS=CIRCLE+182.63574172891978+39.40572772909785+0.01 with ID 140310473055008,\n",
       " Downloaded object from URL https://ws.cadc-ccda.hia-iha.nrc-cnrc.gc.ca/caom2ops/sync?ID=cadc%3ACFHT%2F2417468s.fits.fz&POS=CIRCLE+182.63574172891978+39.40572772909785+0.01 with ID 140310473055152,\n",
       " Downloaded object from URL https://ws.cadc-ccda.hia-iha.nrc-cnrc.gc.ca/caom2ops/sync?ID=cadc%3ACFHT%2F2417376p.fits.fz&POS=CIRCLE+182.63574172891978+39.40572772909785+0.01 with ID 140310473055296,\n",
       " Downloaded object from URL https://ws.cadc-ccda.hia-iha.nrc-cnrc.gc.ca/caom2ops/sync?ID=cadc%3ACFHT%2F2489569p.fits.fz&POS=CIRCLE+182.63574172891978+39.40572772909785+0.01 with ID 140310473055440,\n",
       " Downloaded object from URL https://ws.cadc-ccda.hia-iha.nrc-cnrc.gc.ca/caom2ops/sync?ID=cadc%3ACFHT%2F2091316o.fits.fz&POS=CIRCLE+182.63574172891978+39.40572772909785+0.01 with ID 140310473055584,\n",
       " Downloaded object from URL https://ws.cadc-ccda.hia-iha.nrc-cnrc.gc.ca/caom2ops/sync?ID=cadc%3ACFHT%2F2091316p.fits.fz&POS=CIRCLE+182.63574172891978+39.40572772909785+0.01 with ID 140310473055728,\n",
       " Downloaded object from URL https://ws.cadc-ccda.hia-iha.nrc-cnrc.gc.ca/caom2ops/sync?ID=cadc%3ACFHT%2F1077899o.fits&POS=CIRCLE+182.63574172891978+39.40572772909785+0.01 with ID 140310473055872,\n",
       " Downloaded object from URL https://ws.cadc-ccda.hia-iha.nrc-cnrc.gc.ca/caom2ops/sync?ID=cadc%3ACFHT%2F1077901o.fits&POS=CIRCLE+182.63574172891978+39.40572772909785+0.01 with ID 140310473056016,\n",
       " Downloaded object from URL https://ws.cadc-ccda.hia-iha.nrc-cnrc.gc.ca/caom2ops/sync?ID=cadc%3ACFHT%2F478690o.fits&POS=CIRCLE+182.63574172891978+39.40572772909785+0.01 with ID 140310473056160,\n",
       " Downloaded object from URL https://ws.cadc-ccda.hia-iha.nrc-cnrc.gc.ca/caom2ops/sync?ID=cadc%3ACFHT%2F478687o.fits&POS=CIRCLE+182.63574172891978+39.40572772909785+0.01 with ID 140310473003120,\n",
       " Downloaded object from URL https://ws.cadc-ccda.hia-iha.nrc-cnrc.gc.ca/caom2ops/sync?ID=cadc%3ACFHT%2F2489569o.fits.fz&POS=CIRCLE+182.63574172891978+39.40572772909785+0.01 with ID 140310473003264,\n",
       " Downloaded object from URL https://ws.cadc-ccda.hia-iha.nrc-cnrc.gc.ca/caom2ops/sync?ID=ad%3ACFHT%2F429051o.fits.gz&POS=CIRCLE+182.63574172891978+39.40572772909785+0.01 with ID 140310473003408,\n",
       " Downloaded object from URL https://ws.cadc-ccda.hia-iha.nrc-cnrc.gc.ca/caom2ops/sync?ID=ad%3ACFHT%2F429818o.fits.gz&POS=CIRCLE+182.63574172891978+39.40572772909785+0.01 with ID 140310473003552,\n",
       " Downloaded object from URL https://ws.cadc-ccda.hia-iha.nrc-cnrc.gc.ca/caom2ops/sync?ID=cadc%3ACFHT%2F2484529o.fits.fz&POS=CIRCLE+182.63574172891978+39.40572772909785+0.01 with ID 140310473003696,\n",
       " Downloaded object from URL https://ws.cadc-ccda.hia-iha.nrc-cnrc.gc.ca/caom2ops/sync?ID=cadc%3ACFHT%2F2484623o.fits.fz&POS=CIRCLE+182.63574172891978+39.40572772909785+0.01 with ID 140310473003840,\n",
       " Downloaded object from URL https://ws.cadc-ccda.hia-iha.nrc-cnrc.gc.ca/caom2ops/sync?ID=cadc%3ACFHT%2F2484622p.fits.fz&POS=CIRCLE+182.63574172891978+39.40572772909785+0.01 with ID 140310473003984,\n",
       " Downloaded object from URL https://ws.cadc-ccda.hia-iha.nrc-cnrc.gc.ca/caom2ops/sync?ID=cadc%3ACFHT%2F2417389w.fits.fz&POS=CIRCLE+182.63574172891978+39.40572772909785+0.01 with ID 140310473004128,\n",
       " Downloaded object from URL https://ws.cadc-ccda.hia-iha.nrc-cnrc.gc.ca/caom2ops/sync?ID=cadc%3ACFHT%2F2417473y.fits.fz&POS=CIRCLE+182.63574172891978+39.40572772909785+0.01 with ID 140310473004272,\n",
       " Downloaded object from URL https://ws.cadc-ccda.hia-iha.nrc-cnrc.gc.ca/caom2ops/sync?ID=cadc%3ACFHT%2F2418151w.fits.fz&POS=CIRCLE+182.63574172891978+39.40572772909785+0.01 with ID 140310473004416,\n",
       " Downloaded object from URL https://ws.cadc-ccda.hia-iha.nrc-cnrc.gc.ca/caom2ops/sync?ID=cadc%3ACFHT%2F2417386w.fits.fz&POS=CIRCLE+182.63574172891978+39.40572772909785+0.01 with ID 140310473004560,\n",
       " Downloaded object from URL https://ws.cadc-ccda.hia-iha.nrc-cnrc.gc.ca/caom2ops/sync?ID=cadc%3ACFHT%2F2418084w.fits.fz&POS=CIRCLE+182.63574172891978+39.40572772909785+0.01 with ID 140310473004704,\n",
       " Downloaded object from URL https://ws.cadc-ccda.hia-iha.nrc-cnrc.gc.ca/caom2ops/sync?ID=cadc%3ACFHT%2F2417495y.fits.fz&POS=CIRCLE+182.63574172891978+39.40572772909785+0.01 with ID 140310473004848,\n",
       " Downloaded object from URL https://ws.cadc-ccda.hia-iha.nrc-cnrc.gc.ca/caom2ops/sync?ID=cadc%3ACFHT%2F2418062w.fits.fz&POS=CIRCLE+182.63574172891978+39.40572772909785+0.01 with ID 140310473004992,\n",
       " Downloaded object from URL https://ws.cadc-ccda.hia-iha.nrc-cnrc.gc.ca/caom2ops/sync?ID=cadc%3ACFHT%2F2417457w.fits.fz&POS=CIRCLE+182.63574172891978+39.40572772909785+0.01 with ID 140310473005136,\n",
       " Downloaded object from URL https://ws.cadc-ccda.hia-iha.nrc-cnrc.gc.ca/caom2ops/sync?ID=cadc%3ACFHT%2F2417517y.fits.fz&POS=CIRCLE+182.63574172891978+39.40572772909785+0.01 with ID 140310473005280,\n",
       " Downloaded object from URL https://ws.cadc-ccda.hia-iha.nrc-cnrc.gc.ca/caom2ops/sync?ID=cadc%3ACFHT%2F2418122y.fits.fz&POS=CIRCLE+182.63574172891978+39.40572772909785+0.01 with ID 140310473005424,\n",
       " Downloaded object from URL https://ws.cadc-ccda.hia-iha.nrc-cnrc.gc.ca/caom2ops/sync?ID=cadc%3ACFHT%2F2417400w.fits.fz&POS=CIRCLE+182.63574172891978+39.40572772909785+0.01 with ID 140310473005568,\n",
       " Downloaded object from URL https://ws.cadc-ccda.hia-iha.nrc-cnrc.gc.ca/caom2ops/sync?ID=cadc%3ACFHT%2F2418141w.fits.fz&POS=CIRCLE+182.63574172891978+39.40572772909785+0.01 with ID 140310473005712,\n",
       " Downloaded object from URL https://ws.cadc-ccda.hia-iha.nrc-cnrc.gc.ca/caom2ops/sync?ID=cadc%3ACFHT%2F2417463y.fits.fz&POS=CIRCLE+182.63574172891978+39.40572772909785+0.01 with ID 140310473005856,\n",
       " Downloaded object from URL https://ws.cadc-ccda.hia-iha.nrc-cnrc.gc.ca/caom2ops/sync?ID=cadc%3ACFHT%2F2417550y.fits.fz&POS=CIRCLE+182.63574172891978+39.40572772909785+0.01 with ID 140310473006000,\n",
       " Downloaded object from URL https://ws.cadc-ccda.hia-iha.nrc-cnrc.gc.ca/caom2ops/sync?ID=cadc%3ACFHT%2F2417410w.fits.fz&POS=CIRCLE+182.63574172891978+39.40572772909785+0.01 with ID 140310473006144,\n",
       " Downloaded object from URL https://ws.cadc-ccda.hia-iha.nrc-cnrc.gc.ca/caom2ops/sync?ID=cadc%3ACFHT%2F2417537y.fits.fz&POS=CIRCLE+182.63574172891978+39.40572772909785+0.01 with ID 140310473006288,\n",
       " Downloaded object from URL https://ws.cadc-ccda.hia-iha.nrc-cnrc.gc.ca/caom2ops/sync?ID=cadc%3ACFHT%2F2417392y.fits.fz&POS=CIRCLE+182.63574172891978+39.40572772909785+0.01 with ID 140310473006432,\n",
       " Downloaded object from URL https://ws.cadc-ccda.hia-iha.nrc-cnrc.gc.ca/caom2ops/sync?ID=cadc%3ACFHT%2F2417468w.fits.fz&POS=CIRCLE+182.63574172891978+39.40572772909785+0.01 with ID 140310473006576,\n",
       " Downloaded object from URL https://ws.cadc-ccda.hia-iha.nrc-cnrc.gc.ca/caom2ops/sync?ID=cadc%3ACFHT%2F2418090y.fits.fz&POS=CIRCLE+182.63574172891978+39.40572772909785+0.01 with ID 140310473006720,\n",
       " Downloaded object from URL https://ws.cadc-ccda.hia-iha.nrc-cnrc.gc.ca/caom2ops/sync?ID=cadc%3ACFHT%2F2418052w.fits.fz&POS=CIRCLE+182.63574172891978+39.40572772909785+0.01 with ID 140310473006864,\n",
       " Downloaded object from URL https://ws.cadc-ccda.hia-iha.nrc-cnrc.gc.ca/caom2ops/sync?ID=cadc%3ACFHT%2F2417481w.fits.fz&POS=CIRCLE+182.63574172891978+39.40572772909785+0.01 with ID 140310473007008,\n",
       " Downloaded object from URL https://ws.cadc-ccda.hia-iha.nrc-cnrc.gc.ca/caom2ops/sync?ID=cadc%3ACFHT%2F2418079y.fits.fz&POS=CIRCLE+182.63574172891978+39.40572772909785+0.01 with ID 140310472974448,\n",
       " Downloaded object from URL https://ws.cadc-ccda.hia-iha.nrc-cnrc.gc.ca/caom2ops/sync?ID=cadc%3ACFHT%2F2418161w.fits.fz&POS=CIRCLE+182.63574172891978+39.40572772909785+0.01 with ID 140310472974592,\n",
       " Downloaded object from URL https://ws.cadc-ccda.hia-iha.nrc-cnrc.gc.ca/caom2ops/sync?ID=cadc%3ACFHT%2F2417503w.fits.fz&POS=CIRCLE+182.63574172891978+39.40572772909785+0.01 with ID 140310472974736,\n",
       " Downloaded object from URL https://ws.cadc-ccda.hia-iha.nrc-cnrc.gc.ca/caom2ops/sync?ID=cadc%3ACFHT%2F2417528y.fits.fz&POS=CIRCLE+182.63574172891978+39.40572772909785+0.01 with ID 140310472974880,\n",
       " Downloaded object from URL https://ws.cadc-ccda.hia-iha.nrc-cnrc.gc.ca/caom2ops/sync?ID=cadc%3ACFHT%2F2418149w.fits.fz&POS=CIRCLE+182.63574172891978+39.40572772909785+0.01 with ID 140310472975024,\n",
       " Downloaded object from URL https://ws.cadc-ccda.hia-iha.nrc-cnrc.gc.ca/caom2ops/sync?ID=cadc%3ACFHT%2F2418042w.fits.fz&POS=CIRCLE+182.63574172891978+39.40572772909785+0.01 with ID 140310472975168,\n",
       " Downloaded object from URL https://ws.cadc-ccda.hia-iha.nrc-cnrc.gc.ca/caom2ops/sync?ID=cadc%3ACFHT%2F2417560y.fits.fz&POS=CIRCLE+182.63574172891978+39.40572772909785+0.01 with ID 140310472975312,\n",
       " Downloaded object from URL https://ws.cadc-ccda.hia-iha.nrc-cnrc.gc.ca/caom2ops/sync?ID=cadc%3ACFHT%2F2418093w.fits.fz&POS=CIRCLE+182.63574172891978+39.40572772909785+0.01 with ID 140310472975456,\n",
       " Downloaded object from URL https://ws.cadc-ccda.hia-iha.nrc-cnrc.gc.ca/caom2ops/sync?ID=cadc%3ACFHT%2F2417378w.fits.fz&POS=CIRCLE+182.63574172891978+39.40572772909785+0.01 with ID 140310472975600,\n",
       " Downloaded object from URL https://ws.cadc-ccda.hia-iha.nrc-cnrc.gc.ca/caom2ops/sync?ID=cadc%3ACFHT%2F2418146w.fits.fz&POS=CIRCLE+182.63574172891978+39.40572772909785+0.01 with ID 140310472975744,\n",
       " Downloaded object from URL https://ws.cadc-ccda.hia-iha.nrc-cnrc.gc.ca/caom2ops/sync?ID=cadc%3ACFHT%2F2418065w.fits.fz&POS=CIRCLE+182.63574172891978+39.40572772909785+0.01 with ID 140310472975888,\n",
       " Downloaded object from URL https://ws.cadc-ccda.hia-iha.nrc-cnrc.gc.ca/caom2ops/sync?ID=cadc%3ACFHT%2F2417367w.fits.fz&POS=CIRCLE+182.63574172891978+39.40572772909785+0.01 with ID 140310472976032,\n",
       " Downloaded object from URL https://ws.cadc-ccda.hia-iha.nrc-cnrc.gc.ca/caom2ops/sync?ID=cadc%3ACFHT%2F2417547y.fits.fz&POS=CIRCLE+182.63574172891978+39.40572772909785+0.01 with ID 140310472976176,\n",
       " Downloaded object from URL https://ws.cadc-ccda.hia-iha.nrc-cnrc.gc.ca/caom2ops/sync?ID=cadc%3ACFHT%2F2417408w.fits.fz&POS=CIRCLE+182.63574172891978+39.40572772909785+0.01 with ID 140310472976320,\n",
       " Downloaded object from URL https://ws.cadc-ccda.hia-iha.nrc-cnrc.gc.ca/caom2ops/sync?ID=cadc%3ACFHT%2F2417534w.fits.fz&POS=CIRCLE+182.63574172891978+39.40572772909785+0.01 with ID 140310472976464,\n",
       " Downloaded object from URL https://ws.cadc-ccda.hia-iha.nrc-cnrc.gc.ca/caom2ops/sync?ID=cadc%3ACFHT%2F2418055w.fits.fz&POS=CIRCLE+182.63574172891978+39.40572772909785+0.01 with ID 140310472976608,\n",
       " Downloaded object from URL https://ws.cadc-ccda.hia-iha.nrc-cnrc.gc.ca/caom2ops/sync?ID=cadc%3ACFHT%2F2417486w.fits.fz&POS=CIRCLE+182.63574172891978+39.40572772909785+0.01 with ID 140310472976752,\n",
       " Downloaded object from URL https://ws.cadc-ccda.hia-iha.nrc-cnrc.gc.ca/caom2ops/sync?ID=cadc%3ACFHT%2F2417444y.fits.fz&POS=CIRCLE+182.63574172891978+39.40572772909785+0.01 with ID 140310472976896,\n",
       " Downloaded object from URL https://ws.cadc-ccda.hia-iha.nrc-cnrc.gc.ca/caom2ops/sync?ID=cadc%3ACFHT%2F2417489w.fits.fz&POS=CIRCLE+182.63574172891978+39.40572772909785+0.01 with ID 140310472977040,\n",
       " Downloaded object from URL https://ws.cadc-ccda.hia-iha.nrc-cnrc.gc.ca/caom2ops/sync?ID=cadc%3ACFHT%2F2417373y.fits.fz&POS=CIRCLE+182.63574172891978+39.40572772909785+0.01 with ID 140310472977184,\n",
       " Downloaded object from URL https://ws.cadc-ccda.hia-iha.nrc-cnrc.gc.ca/caom2ops/sync?ID=cadc%3ACFHT%2F2417504w.fits.fz&POS=CIRCLE+182.63574172891978+39.40572772909785+0.01 with ID 140310472977328,\n",
       " Downloaded object from URL https://ws.cadc-ccda.hia-iha.nrc-cnrc.gc.ca/caom2ops/sync?ID=cadc%3ACFHT%2F2417413y.fits.fz&POS=CIRCLE+182.63574172891978+39.40572772909785+0.01 with ID 140310472977472,\n",
       " Downloaded object from URL https://ws.cadc-ccda.hia-iha.nrc-cnrc.gc.ca/caom2ops/sync?ID=cadc%3ACFHT%2F2417438w.fits.fz&POS=CIRCLE+182.63574172891978+39.40572772909785+0.01 with ID 140310472977616,\n",
       " Downloaded object from URL https://ws.cadc-ccda.hia-iha.nrc-cnrc.gc.ca/caom2ops/sync?ID=cadc%3ACFHT%2F2417520y.fits.fz&POS=CIRCLE+182.63574172891978+39.40572772909785+0.01 with ID 140310472977760,\n",
       " Downloaded object from URL https://ws.cadc-ccda.hia-iha.nrc-cnrc.gc.ca/caom2ops/sync?ID=cadc%3ACFHT%2F2418045w.fits.fz&POS=CIRCLE+182.63574172891978+39.40572772909785+0.01 with ID 140310472977904,\n",
       " Downloaded object from URL https://ws.cadc-ccda.hia-iha.nrc-cnrc.gc.ca/caom2ops/sync?ID=cadc%3ACFHT%2F2417454y.fits.fz&POS=CIRCLE+182.63574172891978+39.40572772909785+0.01 with ID 140310472978048,\n",
       " Downloaded object from URL https://ws.cadc-ccda.hia-iha.nrc-cnrc.gc.ca/caom2ops/sync?ID=cadc%3ACFHT%2F2417496w.fits.fz&POS=CIRCLE+182.63574172891978+39.40572772909785+0.01 with ID 140310472978192,\n",
       " Downloaded object from URL https://ws.cadc-ccda.hia-iha.nrc-cnrc.gc.ca/caom2ops/sync?ID=cadc%3ACFHT%2F2418036y.fits.fz&POS=CIRCLE+182.63574172891978+39.40572772909785+0.01 with ID 140310472978336,\n",
       " Downloaded object from URL https://ws.cadc-ccda.hia-iha.nrc-cnrc.gc.ca/caom2ops/sync?ID=cadc%3ACFHT%2F2417514w.fits.fz&POS=CIRCLE+182.63574172891978+39.40572772909785+0.01 with ID 140310472921200,\n",
       " Downloaded object from URL https://ws.cadc-ccda.hia-iha.nrc-cnrc.gc.ca/caom2ops/sync?ID=cadc%3ACFHT%2F2417530y.fits.fz&POS=CIRCLE+182.63574172891978+39.40572772909785+0.01 with ID 140310472921344,\n",
       " Downloaded object from URL https://ws.cadc-ccda.hia-iha.nrc-cnrc.gc.ca/caom2ops/sync?ID=cadc%3ACFHT%2F2417427w.fits.fz&POS=CIRCLE+182.63574172891978+39.40572772909785+0.01 with ID 140310472921488,\n",
       " Downloaded object from URL https://ws.cadc-ccda.hia-iha.nrc-cnrc.gc.ca/caom2ops/sync?ID=cadc%3ACFHT%2F2417452y.fits.fz&POS=CIRCLE+182.63574172891978+39.40572772909785+0.01 with ID 140310472921632,\n",
       " Downloaded object from URL https://ws.cadc-ccda.hia-iha.nrc-cnrc.gc.ca/caom2ops/sync?ID=cadc%3ACFHT%2F2418068y.fits.fz&POS=CIRCLE+182.63574172891978+39.40572772909785+0.01 with ID 140310472921776,\n",
       " Downloaded object from URL https://ws.cadc-ccda.hia-iha.nrc-cnrc.gc.ca/caom2ops/sync?ID=cadc%3ACFHT%2F2417545w.fits.fz&POS=CIRCLE+182.63574172891978+39.40572772909785+0.01 with ID 140310472921920,\n",
       " Downloaded object from URL https://ws.cadc-ccda.hia-iha.nrc-cnrc.gc.ca/caom2ops/sync?ID=cadc%3ACFHT%2F2417383y.fits.fz&POS=CIRCLE+182.63574172891978+39.40572772909785+0.01 with ID 140310472922064,\n",
       " Downloaded object from URL https://ws.cadc-ccda.hia-iha.nrc-cnrc.gc.ca/caom2ops/sync?ID=cadc%3ACFHT%2F2417479w.fits.fz&POS=CIRCLE+182.63574172891978+39.40572772909785+0.01 with ID 140310472922208,\n",
       " Downloaded object from URL https://ws.cadc-ccda.hia-iha.nrc-cnrc.gc.ca/caom2ops/sync?ID=cadc%3ACFHT%2F2418154y.fits.fz&POS=CIRCLE+182.63574172891978+39.40572772909785+0.01 with ID 140310472922352,\n",
       " Downloaded object from URL https://ws.cadc-ccda.hia-iha.nrc-cnrc.gc.ca/caom2ops/sync?ID=cadc%3ACFHT%2F2417476w.fits.fz&POS=CIRCLE+182.63574172891978+39.40572772909785+0.01 with ID 140310472922496,\n",
       " Downloaded object from URL https://ws.cadc-ccda.hia-iha.nrc-cnrc.gc.ca/caom2ops/sync?ID=cadc%3ACFHT%2F2418103y.fits.fz&POS=CIRCLE+182.63574172891978+39.40572772909785+0.01 with ID 140310472922640,\n",
       " Downloaded object from URL https://ws.cadc-ccda.hia-iha.nrc-cnrc.gc.ca/caom2ops/sync?ID=cadc%3ACFHT%2F2417536y.fits.fz&POS=CIRCLE+182.63574172891978+39.40572772909785+0.01 with ID 140310472922784,\n",
       " Downloaded object from URL https://ws.cadc-ccda.hia-iha.nrc-cnrc.gc.ca/caom2ops/sync?ID=cadc%3ACFHT%2F2417421w.fits.fz&POS=CIRCLE+182.63574172891978+39.40572772909785+0.01 with ID 140310472922928,\n",
       " Downloaded object from URL https://ws.cadc-ccda.hia-iha.nrc-cnrc.gc.ca/caom2ops/sync?ID=cadc%3ACFHT%2F2418077y.fits.fz&POS=CIRCLE+182.63574172891978+39.40572772909785+0.01 with ID 140310472923072,\n",
       " Downloaded object from URL https://ws.cadc-ccda.hia-iha.nrc-cnrc.gc.ca/caom2ops/sync?ID=cadc%3ACFHT%2F2417375y.fits.fz&POS=CIRCLE+182.63574172891978+39.40572772909785+0.01 with ID 140310472923216,\n",
       " Downloaded object from URL https://ws.cadc-ccda.hia-iha.nrc-cnrc.gc.ca/caom2ops/sync?ID=cadc%3ACFHT%2F2418053w.fits.fz&POS=CIRCLE+182.63574172891978+39.40572772909785+0.01 with ID 140310472923360,\n",
       " Downloaded object from URL https://ws.cadc-ccda.hia-iha.nrc-cnrc.gc.ca/caom2ops/sync?ID=cadc%3ACFHT%2F2418144y.fits.fz&POS=CIRCLE+182.63574172891978+39.40572772909785+0.01 with ID 140310472923504,\n",
       " Downloaded object from URL https://ws.cadc-ccda.hia-iha.nrc-cnrc.gc.ca/caom2ops/sync?ID=cadc%3ACFHT%2F2418138w.fits.fz&POS=CIRCLE+182.63574172891978+39.40572772909785+0.01 with ID 140310472923648,\n",
       " Downloaded object from URL https://ws.cadc-ccda.hia-iha.nrc-cnrc.gc.ca/caom2ops/sync?ID=cadc%3ACFHT%2F2417415y.fits.fz&POS=CIRCLE+182.63574172891978+39.40572772909785+0.01 with ID 140310472923792,\n",
       " Downloaded object from URL https://ws.cadc-ccda.hia-iha.nrc-cnrc.gc.ca/caom2ops/sync?ID=cadc%3ACFHT%2F2418047y.fits.fz&POS=CIRCLE+182.63574172891978+39.40572772909785+0.01 with ID 140310472923936,\n",
       " Downloaded object from URL https://ws.cadc-ccda.hia-iha.nrc-cnrc.gc.ca/caom2ops/sync?ID=cadc%3ACFHT%2F2417446w.fits.fz&POS=CIRCLE+182.63574172891978+39.40572772909785+0.01 with ID 140310472924080,\n",
       " Downloaded object from URL https://ws.cadc-ccda.hia-iha.nrc-cnrc.gc.ca/caom2ops/sync?ID=cadc%3ACFHT%2F2417449w.fits.fz&POS=CIRCLE+182.63574172891978+39.40572772909785+0.01 with ID 140310472924224,\n",
       " Downloaded object from URL https://ws.cadc-ccda.hia-iha.nrc-cnrc.gc.ca/caom2ops/sync?ID=cadc%3ACFHT%2F2418108w.fits.fz&POS=CIRCLE+182.63574172891978+39.40572772909785+0.01 with ID 140310472924368,\n",
       " Downloaded object from URL https://ws.cadc-ccda.hia-iha.nrc-cnrc.gc.ca/caom2ops/sync?ID=cadc%3ACFHT%2F2417435y.fits.fz&POS=CIRCLE+182.63574172891978+39.40572772909785+0.01 with ID 140310472924512,\n",
       " Downloaded object from URL https://ws.cadc-ccda.hia-iha.nrc-cnrc.gc.ca/caom2ops/sync?ID=cadc%3ACFHT%2F2418058y.fits.fz&POS=CIRCLE+182.63574172891978+39.40572772909785+0.01 with ID 140310472924656,\n",
       " Downloaded object from URL https://ws.cadc-ccda.hia-iha.nrc-cnrc.gc.ca/caom2ops/sync?ID=cadc%3ACFHT%2F2418095w.fits.fz&POS=CIRCLE+182.63574172891978+39.40572772909785+0.01 with ID 140310472924800,\n",
       " Downloaded object from URL https://ws.cadc-ccda.hia-iha.nrc-cnrc.gc.ca/caom2ops/sync?ID=cadc%3ACFHT%2F2417575w.fits.fz&POS=CIRCLE+182.63574172891978+39.40572772909785+0.01 with ID 140310472924944,\n",
       " Downloaded object from URL https://ws.cadc-ccda.hia-iha.nrc-cnrc.gc.ca/caom2ops/sync?ID=cadc%3ACFHT%2F2417519y.fits.fz&POS=CIRCLE+182.63574172891978+39.40572772909785+0.01 with ID 140310472925088,\n",
       " Downloaded object from URL https://ws.cadc-ccda.hia-iha.nrc-cnrc.gc.ca/caom2ops/sync?ID=cadc%3ACFHT%2F2418114y.fits.fz&POS=CIRCLE+182.63574172891978+39.40572772909785+0.01 with ID 140310473105520,\n",
       " Downloaded object from URL https://ws.cadc-ccda.hia-iha.nrc-cnrc.gc.ca/caom2ops/sync?ID=cadc%3ACFHT%2F2418164y.fits.fz&POS=CIRCLE+182.63574172891978+39.40572772909785+0.01 with ID 140310473105664,\n",
       " Downloaded object from URL https://ws.cadc-ccda.hia-iha.nrc-cnrc.gc.ca/caom2ops/sync?ID=cadc%3ACFHT%2F518481o.fits&POS=CIRCLE+182.63574172891978+39.40572772909785+0.01 with ID 140310473105808,\n",
       " Downloaded object from URL https://ws.cadc-ccda.hia-iha.nrc-cnrc.gc.ca/caom2ops/sync?ID=ad%3ACFHT%2F435730o.fits.gz&POS=CIRCLE+182.63574172891978+39.40572772909785+0.01 with ID 140310473105952,\n",
       " Downloaded object from URL https://ws.cadc-ccda.hia-iha.nrc-cnrc.gc.ca/caom2ops/sync?ID=cadc%3ACFHT%2F2417426a.fits.fz&POS=CIRCLE+182.63574172891978+39.40572772909785+0.01 with ID 140310473106096,\n",
       " Downloaded object from URL https://ws.cadc-ccda.hia-iha.nrc-cnrc.gc.ca/caom2ops/sync?ID=ad%3ACFHT%2F435740o.fits.gz&POS=CIRCLE+182.63574172891978+39.40572772909785+0.01 with ID 140310473106240,\n",
       " Downloaded object from URL https://ws.cadc-ccda.hia-iha.nrc-cnrc.gc.ca/caom2ops/sync?ID=cadc%3ACFHT%2F2418149p.fits.fz&POS=CIRCLE+182.63574172891978+39.40572772909785+0.01 with ID 140310473106384,\n",
       " Downloaded object from URL https://ws.cadc-ccda.hia-iha.nrc-cnrc.gc.ca/caom2ops/sync?ID=ad%3ACFHT%2F429056o.fits.gz&POS=CIRCLE+182.63574172891978+39.40572772909785+0.01 with ID 140310473106528,\n",
       " Downloaded object from URL https://ws.cadc-ccda.hia-iha.nrc-cnrc.gc.ca/caom2ops/sync?ID=cadc%3ACFHT%2F478685o.fits&POS=CIRCLE+182.63574172891978+39.40572772909785+0.01 with ID 140310473106672,\n",
       " Downloaded object from URL https://ws.cadc-ccda.hia-iha.nrc-cnrc.gc.ca/caom2ops/sync?ID=cadc%3ACFHT%2F2418162a.fits.fz&POS=CIRCLE+182.63574172891978+39.40572772909785+0.01 with ID 140310473106816,\n",
       " Downloaded object from URL https://ws.cadc-ccda.hia-iha.nrc-cnrc.gc.ca/caom2ops/sync?ID=cadc%3ACFHT%2F2418163y.fits.fz&POS=CIRCLE+182.63574172891978+39.40572772909785+0.01 with ID 140310473106960,\n",
       " Downloaded object from URL https://ws.cadc-ccda.hia-iha.nrc-cnrc.gc.ca/caom2ops/sync?ID=cadc%3ACFHT%2F2417559a.fits.fz&POS=CIRCLE+182.63574172891978+39.40572772909785+0.01 with ID 140310473107104,\n",
       " Downloaded object from URL https://ws.cadc-ccda.hia-iha.nrc-cnrc.gc.ca/caom2ops/sync?ID=cadc%3ACFHT%2F2417527y.fits.fz&POS=CIRCLE+182.63574172891978+39.40572772909785+0.01 with ID 140310473107248,\n",
       " Downloaded object from URL https://ws.cadc-ccda.hia-iha.nrc-cnrc.gc.ca/caom2ops/sync?ID=cadc%3ACFHT%2F2417446s.fits.fz&POS=CIRCLE+182.63574172891978+39.40572772909785+0.01 with ID 140310473107392,\n",
       " Downloaded object from URL https://ws.cadc-ccda.hia-iha.nrc-cnrc.gc.ca/caom2ops/sync?ID=ad%3ACFHT%2F435726o.fits.gz&POS=CIRCLE+182.63574172891978+39.40572772909785+0.01 with ID 140310473107536,\n",
       " Downloaded object from URL https://ws.cadc-ccda.hia-iha.nrc-cnrc.gc.ca/caom2ops/sync?ID=cadc%3ACFHT%2F2418068s.fits.fz&POS=CIRCLE+182.63574172891978+39.40572772909785+0.01 with ID 140310473107680,\n",
       " Downloaded object from URL https://ws.cadc-ccda.hia-iha.nrc-cnrc.gc.ca/caom2ops/sync?ID=cadc%3ACFHT%2F2418122s.fits.fz&POS=CIRCLE+182.63574172891978+39.40572772909785+0.01 with ID 140310473107824,\n",
       " Downloaded object from URL https://ws.cadc-ccda.hia-iha.nrc-cnrc.gc.ca/caom2ops/sync?ID=cadc%3ACFHT%2F478680o.fits&POS=CIRCLE+182.63574172891978+39.40572772909785+0.01 with ID 140310473107968,\n",
       " Downloaded object from URL https://ws.cadc-ccda.hia-iha.nrc-cnrc.gc.ca/caom2ops/sync?ID=cadc%3ACFHT%2F2417477a.fits.fz&POS=CIRCLE+182.63574172891978+39.40572772909785+0.01 with ID 140310473108112,\n",
       " Downloaded object from URL https://ws.cadc-ccda.hia-iha.nrc-cnrc.gc.ca/caom2ops/sync?ID=ad%3ACFHT%2F435918o.fits.gz&POS=CIRCLE+182.63574172891978+39.40572772909785+0.01 with ID 140310473108256,\n",
       " Downloaded object from URL https://ws.cadc-ccda.hia-iha.nrc-cnrc.gc.ca/caom2ops/sync?ID=cadc%3ACFHT%2F2418166s.fits.fz&POS=CIRCLE+182.63574172891978+39.40572772909785+0.01 with ID 140310473108400,\n",
       " Downloaded object from URL https://ws.cadc-ccda.hia-iha.nrc-cnrc.gc.ca/caom2ops/sync?ID=cadc%3ACFHT%2F2418163p.fits.fz&POS=CIRCLE+182.63574172891978+39.40572772909785+0.01 with ID 140310473108544,\n",
       " Downloaded object from URL https://ws.cadc-ccda.hia-iha.nrc-cnrc.gc.ca/caom2ops/sync?ID=cadc%3ACFHT%2F2418161p.fits.fz&POS=CIRCLE+182.63574172891978+39.40572772909785+0.01 with ID 140310473108688,\n",
       " Downloaded object from URL https://ws.cadc-ccda.hia-iha.nrc-cnrc.gc.ca/caom2ops/sync?ID=cadc%3ACFHT%2F2418158w.fits.fz&POS=CIRCLE+182.63574172891978+39.40572772909785+0.01 with ID 140310473108832,\n",
       " Downloaded object from URL https://ws.cadc-ccda.hia-iha.nrc-cnrc.gc.ca/caom2ops/sync?ID=cadc%3ACFHT%2F2418136w.fits.fz&POS=CIRCLE+182.63574172891978+39.40572772909785+0.01 with ID 140310473108976,\n",
       " Downloaded object from URL https://ws.cadc-ccda.hia-iha.nrc-cnrc.gc.ca/caom2ops/sync?ID=cadc%3ACFHT%2F2418149s.fits.fz&POS=CIRCLE+182.63574172891978+39.40572772909785+0.01 with ID 140310473109120,\n",
       " Downloaded object from URL https://ws.cadc-ccda.hia-iha.nrc-cnrc.gc.ca/caom2ops/sync?ID=cadc%3ACFHT%2F2418122p.fits.fz&POS=CIRCLE+182.63574172891978+39.40572772909785+0.01 with ID 140310473109264,\n",
       " Downloaded object from URL https://ws.cadc-ccda.hia-iha.nrc-cnrc.gc.ca/caom2ops/sync?ID=cadc%3ACFHT%2F2418122w.fits.fz&POS=CIRCLE+182.63574172891978+39.40572772909785+0.01 with ID 140310473109408,\n",
       " Downloaded object from URL https://ws.cadc-ccda.hia-iha.nrc-cnrc.gc.ca/caom2ops/sync?ID=cadc%3ACFHT%2F2418116a.fits.fz&POS=CIRCLE+182.63574172891978+39.40572772909785+0.01 with ID 140310472937584,\n",
       " Downloaded object from URL https://ws.cadc-ccda.hia-iha.nrc-cnrc.gc.ca/caom2ops/sync?ID=cadc%3ACFHT%2F2418119a.fits.fz&POS=CIRCLE+182.63574172891978+39.40572772909785+0.01 with ID 140310472937728,\n",
       " Downloaded object from URL https://ws.cadc-ccda.hia-iha.nrc-cnrc.gc.ca/caom2ops/sync?ID=cadc%3ACFHT%2F2418111w.fits.fz&POS=CIRCLE+182.63574172891978+39.40572772909785+0.01 with ID 140310472937872,\n",
       " Downloaded object from URL https://ws.cadc-ccda.hia-iha.nrc-cnrc.gc.ca/caom2ops/sync?ID=cadc%3ACFHT%2F2418109p.fits.fz&POS=CIRCLE+182.63574172891978+39.40572772909785+0.01 with ID 140310472938016,\n",
       " Downloaded object from URL https://ws.cadc-ccda.hia-iha.nrc-cnrc.gc.ca/caom2ops/sync?ID=cadc%3ACFHT%2F2418108s.fits.fz&POS=CIRCLE+182.63574172891978+39.40572772909785+0.01 with ID 140310472938160,\n",
       " Downloaded object from URL https://ws.cadc-ccda.hia-iha.nrc-cnrc.gc.ca/caom2ops/sync?ID=cadc%3ACFHT%2F2418102a.fits.fz&POS=CIRCLE+182.63574172891978+39.40572772909785+0.01 with ID 140310472938304,\n",
       " Downloaded object from URL https://ws.cadc-ccda.hia-iha.nrc-cnrc.gc.ca/caom2ops/sync?ID=cadc%3ACFHT%2F2418101w.fits.fz&POS=CIRCLE+182.63574172891978+39.40572772909785+0.01 with ID 140310472938448,\n",
       " Downloaded object from URL https://ws.cadc-ccda.hia-iha.nrc-cnrc.gc.ca/caom2ops/sync?ID=cadc%3ACFHT%2F2418101y.fits.fz&POS=CIRCLE+182.63574172891978+39.40572772909785+0.01 with ID 140310472938592,\n",
       " Downloaded object from URL https://ws.cadc-ccda.hia-iha.nrc-cnrc.gc.ca/caom2ops/sync?ID=cadc%3ACFHT%2F2418085s.fits.fz&POS=CIRCLE+182.63574172891978+39.40572772909785+0.01 with ID 140310472938736,\n",
       " Downloaded object from URL https://ws.cadc-ccda.hia-iha.nrc-cnrc.gc.ca/caom2ops/sync?ID=cadc%3ACFHT%2F2418085y.fits.fz&POS=CIRCLE+182.63574172891978+39.40572772909785+0.01 with ID 140310472938880,\n",
       " Downloaded object from URL https://ws.cadc-ccda.hia-iha.nrc-cnrc.gc.ca/caom2ops/sync?ID=cadc%3ACFHT%2F2418076y.fits.fz&POS=CIRCLE+182.63574172891978+39.40572772909785+0.01 with ID 140310472939024,\n",
       " Downloaded object from URL https://ws.cadc-ccda.hia-iha.nrc-cnrc.gc.ca/caom2ops/sync?ID=cadc%3ACFHT%2F2418082p.fits.fz&POS=CIRCLE+182.63574172891978+39.40572772909785+0.01 with ID 140310472939168,\n",
       " Downloaded object from URL https://ws.cadc-ccda.hia-iha.nrc-cnrc.gc.ca/caom2ops/sync?ID=cadc%3ACFHT%2F2418082s.fits.fz&POS=CIRCLE+182.63574172891978+39.40572772909785+0.01 with ID 140310472939312,\n",
       " Downloaded object from URL https://ws.cadc-ccda.hia-iha.nrc-cnrc.gc.ca/caom2ops/sync?ID=cadc%3ACFHT%2F2418082w.fits.fz&POS=CIRCLE+182.63574172891978+39.40572772909785+0.01 with ID 140310472939456,\n",
       " Downloaded object from URL https://ws.cadc-ccda.hia-iha.nrc-cnrc.gc.ca/caom2ops/sync?ID=cadc%3ACFHT%2F2418068p.fits.fz&POS=CIRCLE+182.63574172891978+39.40572772909785+0.01 with ID 140310472939600,\n",
       " Downloaded object from URL https://ws.cadc-ccda.hia-iha.nrc-cnrc.gc.ca/caom2ops/sync?ID=cadc%3ACFHT%2F2418067p.fits.fz&POS=CIRCLE+182.63574172891978+39.40572772909785+0.01 with ID 140310472939744,\n",
       " Downloaded object from URL https://ws.cadc-ccda.hia-iha.nrc-cnrc.gc.ca/caom2ops/sync?ID=cadc%3ACFHT%2F2418037a.fits.fz&POS=CIRCLE+182.63574172891978+39.40572772909785+0.01 with ID 140310472939888,\n",
       " Downloaded object from URL https://ws.cadc-ccda.hia-iha.nrc-cnrc.gc.ca/caom2ops/sync?ID=cadc%3ACFHT%2F2418034a.fits.fz&POS=CIRCLE+182.63574172891978+39.40572772909785+0.01 with ID 140310472940032,\n",
       " Downloaded object from URL https://ws.cadc-ccda.hia-iha.nrc-cnrc.gc.ca/caom2ops/sync?ID=cadc%3ACFHT%2F2417570p.fits.fz&POS=CIRCLE+182.63574172891978+39.40572772909785+0.01 with ID 140310472940176,\n",
       " Downloaded object from URL https://ws.cadc-ccda.hia-iha.nrc-cnrc.gc.ca/caom2ops/sync?ID=cadc%3ACFHT%2F2417563a.fits.fz&POS=CIRCLE+182.63574172891978+39.40572772909785+0.01 with ID 140310472940320,\n",
       " Downloaded object from URL https://ws.cadc-ccda.hia-iha.nrc-cnrc.gc.ca/caom2ops/sync?ID=cadc%3ACFHT%2F2417552p.fits.fz&POS=CIRCLE+182.63574172891978+39.40572772909785+0.01 with ID 140310472940464,\n",
       " Downloaded object from URL https://ws.cadc-ccda.hia-iha.nrc-cnrc.gc.ca/caom2ops/sync?ID=cadc%3ACFHT%2F2417546a.fits.fz&POS=CIRCLE+182.63574172891978+39.40572772909785+0.01 with ID 140310472940608,\n",
       " Downloaded object from URL https://ws.cadc-ccda.hia-iha.nrc-cnrc.gc.ca/caom2ops/sync?ID=cadc%3ACFHT%2F2417554p.fits.fz&POS=CIRCLE+182.63574172891978+39.40572772909785+0.01 with ID 140310472940752,\n",
       " Downloaded object from URL https://ws.cadc-ccda.hia-iha.nrc-cnrc.gc.ca/caom2ops/sync?ID=cadc%3ACFHT%2F2417545y.fits.fz&POS=CIRCLE+182.63574172891978+39.40572772909785+0.01 with ID 140310472940896,\n",
       " Downloaded object from URL https://ws.cadc-ccda.hia-iha.nrc-cnrc.gc.ca/caom2ops/sync?ID=cadc%3ACFHT%2F2417549a.fits.fz&POS=CIRCLE+182.63574172891978+39.40572772909785+0.01 with ID 140310472941040,\n",
       " Downloaded object from URL https://ws.cadc-ccda.hia-iha.nrc-cnrc.gc.ca/caom2ops/sync?ID=cadc%3ACFHT%2F2417501w.fits.fz&POS=CIRCLE+182.63574172891978+39.40572772909785+0.01 with ID 140310472941184,\n",
       " Downloaded object from URL https://ws.cadc-ccda.hia-iha.nrc-cnrc.gc.ca/caom2ops/sync?ID=cadc%3ACFHT%2F2417501y.fits.fz&POS=CIRCLE+182.63574172891978+39.40572772909785+0.01 with ID 140310472941328,\n",
       " Downloaded object from URL https://ws.cadc-ccda.hia-iha.nrc-cnrc.gc.ca/caom2ops/sync?ID=cadc%3ACFHT%2F2417506p.fits.fz&POS=CIRCLE+182.63574172891978+39.40572772909785+0.01 with ID 140310472941472,\n",
       " Downloaded object from URL https://ws.cadc-ccda.hia-iha.nrc-cnrc.gc.ca/caom2ops/sync?ID=cadc%3ACFHT%2F2417476p.fits.fz&POS=CIRCLE+182.63574172891978+39.40572772909785+0.01 with ID 140310701711472,\n",
       " Downloaded object from URL https://ws.cadc-ccda.hia-iha.nrc-cnrc.gc.ca/caom2ops/sync?ID=cadc%3ACFHT%2F2417462p.fits.fz&POS=CIRCLE+182.63574172891978+39.40572772909785+0.01 with ID 140310701711616,\n",
       " Downloaded object from URL https://ws.cadc-ccda.hia-iha.nrc-cnrc.gc.ca/caom2ops/sync?ID=cadc%3ACFHT%2F2417464a.fits.fz&POS=CIRCLE+182.63574172891978+39.40572772909785+0.01 with ID 140310701711760,\n",
       " Downloaded object from URL https://ws.cadc-ccda.hia-iha.nrc-cnrc.gc.ca/caom2ops/sync?ID=cadc%3ACFHT%2F2417461a.fits.fz&POS=CIRCLE+182.63574172891978+39.40572772909785+0.01 with ID 140310701711904,\n",
       " Downloaded object from URL https://ws.cadc-ccda.hia-iha.nrc-cnrc.gc.ca/caom2ops/sync?ID=cadc%3ACFHT%2F2417455p.fits.fz&POS=CIRCLE+182.63574172891978+39.40572772909785+0.01 with ID 140310701712048,\n",
       " Downloaded object from URL https://ws.cadc-ccda.hia-iha.nrc-cnrc.gc.ca/caom2ops/sync?ID=cadc%3ACFHT%2F2417452s.fits.fz&POS=CIRCLE+182.63574172891978+39.40572772909785+0.01 with ID 140310701712192,\n",
       " Downloaded object from URL https://ws.cadc-ccda.hia-iha.nrc-cnrc.gc.ca/caom2ops/sync?ID=cadc%3ACFHT%2F2417452w.fits.fz&POS=CIRCLE+182.63574172891978+39.40572772909785+0.01 with ID 140310701712336,\n",
       " Downloaded object from URL https://ws.cadc-ccda.hia-iha.nrc-cnrc.gc.ca/caom2ops/sync?ID=cadc%3ACFHT%2F2417446p.fits.fz&POS=CIRCLE+182.63574172891978+39.40572772909785+0.01 with ID 140310701712480,\n",
       " Downloaded object from URL https://ws.cadc-ccda.hia-iha.nrc-cnrc.gc.ca/caom2ops/sync?ID=cadc%3ACFHT%2F2417446y.fits.fz&POS=CIRCLE+182.63574172891978+39.40572772909785+0.01 with ID 140310701712624,\n",
       " Downloaded object from URL https://ws.cadc-ccda.hia-iha.nrc-cnrc.gc.ca/caom2ops/sync?ID=cadc%3ACFHT%2F2417443p.fits.fz&POS=CIRCLE+182.63574172891978+39.40572772909785+0.01 with ID 140310701712768,\n",
       " Downloaded object from URL https://ws.cadc-ccda.hia-iha.nrc-cnrc.gc.ca/caom2ops/sync?ID=cadc%3ACFHT%2F2417433s.fits.fz&POS=CIRCLE+182.63574172891978+39.40572772909785+0.01 with ID 140310701712912,\n",
       " Downloaded object from URL https://ws.cadc-ccda.hia-iha.nrc-cnrc.gc.ca/caom2ops/sync?ID=cadc%3ACFHT%2F2417433y.fits.fz&POS=CIRCLE+182.63574172891978+39.40572772909785+0.01 with ID 140310701713056,\n",
       " Downloaded object from URL https://ws.cadc-ccda.hia-iha.nrc-cnrc.gc.ca/caom2ops/sync?ID=cadc%3ACFHT%2F2417425w.fits.fz&POS=CIRCLE+182.63574172891978+39.40572772909785+0.01 with ID 140310701713200,\n",
       " Downloaded object from URL https://ws.cadc-ccda.hia-iha.nrc-cnrc.gc.ca/caom2ops/sync?ID=cadc%3ACFHT%2F2417415w.fits.fz&POS=CIRCLE+182.63574172891978+39.40572772909785+0.01 with ID 140310701713344,\n",
       " Downloaded object from URL https://ws.cadc-ccda.hia-iha.nrc-cnrc.gc.ca/caom2ops/sync?ID=cadc%3ACFHT%2F2417402s.fits.fz&POS=CIRCLE+182.63574172891978+39.40572772909785+0.01 with ID 140310701713488,\n",
       " Downloaded object from URL https://ws.cadc-ccda.hia-iha.nrc-cnrc.gc.ca/caom2ops/sync?ID=cadc%3ACFHT%2F2417402w.fits.fz&POS=CIRCLE+182.63574172891978+39.40572772909785+0.01 with ID 140310701713632,\n",
       " Downloaded object from URL https://ws.cadc-ccda.hia-iha.nrc-cnrc.gc.ca/caom2ops/sync?ID=cadc%3ACFHT%2F2417399y.fits.fz&POS=CIRCLE+182.63574172891978+39.40572772909785+0.01 with ID 140310701713776,\n",
       " Downloaded object from URL https://ws.cadc-ccda.hia-iha.nrc-cnrc.gc.ca/caom2ops/sync?ID=cadc%3ACFHT%2F2417397w.fits.fz&POS=CIRCLE+182.63574172891978+39.40572772909785+0.01 with ID 140310701713920,\n",
       " Downloaded object from URL https://ws.cadc-ccda.hia-iha.nrc-cnrc.gc.ca/caom2ops/sync?ID=cadc%3ACFHT%2F2417393a.fits.fz&POS=CIRCLE+182.63574172891978+39.40572772909785+0.01 with ID 140310701714064,\n",
       " Downloaded object from URL https://ws.cadc-ccda.hia-iha.nrc-cnrc.gc.ca/caom2ops/sync?ID=cadc%3ACFHT%2F2417384w.fits.fz&POS=CIRCLE+182.63574172891978+39.40572772909785+0.01 with ID 140310701714208,\n",
       " Downloaded object from URL https://ws.cadc-ccda.hia-iha.nrc-cnrc.gc.ca/caom2ops/sync?ID=cadc%3ACFHT%2F2417381p.fits.fz&POS=CIRCLE+182.63574172891978+39.40572772909785+0.01 with ID 140310701714352,\n",
       " Downloaded object from URL https://ws.cadc-ccda.hia-iha.nrc-cnrc.gc.ca/caom2ops/sync?ID=cadc%3ACFHT%2F2417381s.fits.fz&POS=CIRCLE+182.63574172891978+39.40572772909785+0.01 with ID 140310701714496,\n",
       " Downloaded object from URL https://ws.cadc-ccda.hia-iha.nrc-cnrc.gc.ca/caom2ops/sync?ID=cadc%3ACFHT%2F2417381w.fits.fz&POS=CIRCLE+182.63574172891978+39.40572772909785+0.01 with ID 140310701714640,\n",
       " Downloaded object from URL https://ws.cadc-ccda.hia-iha.nrc-cnrc.gc.ca/caom2ops/sync?ID=cadc%3ACFHT%2F2417381y.fits.fz&POS=CIRCLE+182.63574172891978+39.40572772909785+0.01 with ID 140310701714784,\n",
       " Downloaded object from URL https://ws.cadc-ccda.hia-iha.nrc-cnrc.gc.ca/caom2ops/sync?ID=cadc%3ACFHT%2F2417368a.fits.fz&POS=CIRCLE+182.63574172891978+39.40572772909785+0.01 with ID 140310701714928,\n",
       " Downloaded object from URL https://ws.cadc-ccda.hia-iha.nrc-cnrc.gc.ca/caom2ops/sync?ID=cadc%3ACFHT%2F2417370y.fits.fz&POS=CIRCLE+182.63574172891978+39.40572772909785+0.01 with ID 140310701715072,\n",
       " Downloaded object from URL https://ws.cadc-ccda.hia-iha.nrc-cnrc.gc.ca/caom2ops/sync?ID=cadc%3ACFHT%2F2091315o.fits.fz&POS=CIRCLE+182.63574172891978+39.40572772909785+0.01 with ID 140310701715216,\n",
       " Downloaded object from URL https://ws.cadc-ccda.hia-iha.nrc-cnrc.gc.ca/caom2ops/sync?ID=cadc%3ACFHT%2F2091315p.fits.fz&POS=CIRCLE+182.63574172891978+39.40572772909785+0.01 with ID 140310701715360,\n",
       " Downloaded object from URL https://ws.cadc-ccda.hia-iha.nrc-cnrc.gc.ca/caom2ops/sync?ID=ad%3ACFHT%2F429054o.fits.gz&POS=CIRCLE+182.63574172891978+39.40572772909785+0.01 with ID 140310701777008,\n",
       " Downloaded object from URL https://ws.cadc-ccda.hia-iha.nrc-cnrc.gc.ca/caom2ops/sync?ID=ad%3ACFHT%2F429033o.fits.gz&POS=CIRCLE+182.63574172891978+39.40572772909785+0.01 with ID 140310701777152]"
      ]
     },
     "execution_count": 49,
     "metadata": {},
     "output_type": "execute_result"
    }
   ],
   "source": [
    "from astropy import units as u\n",
    "from astropy.coordinates import SkyCoord\n",
    "from astroquery.cadc import Cadc\n",
    "\n",
    "#cadc = Cadc()\n",
    "coords = SkyCoord(ra, dec, unit='deg')\n",
    "radius = 0.01*u.deg\n",
    "readable_objs = cadc.get_images_async(coords, radius, collection='CFHT')\n",
    "readable_objs  "
   ]
  },
  {
   "cell_type": "code",
   "execution_count": 51,
   "id": "4002f9cf",
   "metadata": {
    "ExecuteTime": {
     "end_time": "2022-10-06T09:14:02.586087Z",
     "start_time": "2022-10-06T09:14:02.429739Z"
    }
   },
   "outputs": [
    {
     "name": "stdout",
     "output_type": "stream",
     "text": [
      "zsh:1: no matches found: *.fits\r\n"
     ]
    }
   ],
   "source": [
    "ls *.fits"
   ]
  },
  {
   "cell_type": "code",
   "execution_count": 55,
   "id": "2b6ed0af",
   "metadata": {
    "ExecuteTime": {
     "end_time": "2022-10-06T09:16:34.840065Z",
     "start_time": "2022-10-06T09:16:29.513391Z"
    }
   },
   "outputs": [
    {
     "data": {
      "text/plain": [
       "[]"
      ]
     },
     "execution_count": 55,
     "metadata": {},
     "output_type": "execute_result"
    }
   ],
   "source": [
    "coords = SkyCoord(ra, dec, unit='deg')\n",
    "#radius = 30*u.arcsec\n",
    "radius = 0.1*u.deg\n",
    "readable_objs = cadc.get_images_async(coords, radius, collection='JWST')\n",
    "readable_objs  "
   ]
  },
  {
   "cell_type": "code",
   "execution_count": 56,
   "id": "62bd4ee7",
   "metadata": {
    "ExecuteTime": {
     "end_time": "2022-10-06T09:20:23.685166Z",
     "start_time": "2022-10-06T09:20:23.668894Z"
    }
   },
   "outputs": [
    {
     "data": {
      "text/plain": [
       "(182.63574, 39.40573)"
      ]
     },
     "execution_count": 56,
     "metadata": {},
     "output_type": "execute_result"
    }
   ],
   "source": [
    "ra,dec"
   ]
  },
  {
   "cell_type": "code",
   "execution_count": 59,
   "id": "50bad91d",
   "metadata": {
    "ExecuteTime": {
     "end_time": "2022-10-06T09:21:32.135254Z",
     "start_time": "2022-10-06T09:21:32.124645Z"
    }
   },
   "outputs": [],
   "source": [
    "import astropy.units as u\n",
    "from astropy.coordinates import SkyCoord\n",
    "from astroquery.esa.jwst import Jwst\n",
    "\n"
   ]
  },
  {
   "cell_type": "code",
   "execution_count": 60,
   "id": "ad3981f9",
   "metadata": {
    "ExecuteTime": {
     "end_time": "2022-10-06T10:04:30.175899Z",
     "start_time": "2022-10-06T10:04:20.292400Z"
    }
   },
   "outputs": [
    {
     "name": "stderr",
     "output_type": "stream",
     "text": [
      "INFO:astroquery:Query finished.\n"
     ]
    },
    {
     "name": "stdout",
     "output_type": "stream",
     "text": [
      "INFO: Query finished. [astroquery.utils.tap.core]\n"
     ]
    },
    {
     "data": {
      "text/html": [
       "<div><i>Table length=24</i>\n",
       "<table id=\"table140309336907296\" class=\"table-striped table-bordered table-condensed\">\n",
       "<thead><tr><th>dist</th><th>observationid</th><th>calibrationlevel</th><th>public</th><th>dataproducttype</th><th>instrument_name</th><th>energy_bandpassname</th><th>target_name</th><th>target_ra</th><th>target_dec</th><th>position_bounds_center</th><th>position_bounds_spoly</th></tr></thead>\n",
       "<thead><tr><th>float64</th><th>object</th><th>int32</th><th>bool</th><th>object</th><th>object</th><th>object</th><th>object</th><th>float64</th><th>float64</th><th>object</th><th>object</th></tr></thead>\n",
       "<tr><td>0.00011524903405725874</td><td>jw01364001001_xx10l_00009_nirspec</td><td>-1</td><td>False</td><td>spectrum</td><td>NIRISS/IFU</td><td>F170LP/G235H</td><td>NGC-4151</td><td>182.6357641666667</td><td>39.40584166666667</td><td>STC-S as Position ICRS GEOCENTER 182.63583615077667 39.40581483242358</td><td>Polygon 182.63579863605682 39.405193833825024 182.6350439648717 39.40586222562879 182.63587364346864 39.406435760166964 182.6366283572583 39.40576757723101</td></tr>\n",
       "<tr><td>0.00011524903405725874</td><td>jw01364001001_xx10n_00011_nirspec</td><td>-1</td><td>False</td><td>spectrum</td><td>NIRISS/IFU</td><td>F170LP/G235H</td><td>NGC-4151</td><td>182.6357641666667</td><td>39.40584166666667</td><td>STC-S as Position ICRS GEOCENTER 182.6357191216581 39.405831343300115</td><td>Polygon 182.63568160864162 39.405210344648914 182.63492693615646 39.40587873569654 182.63575661398738 39.40645227106596 182.6365113290765 39.40578408888614</td></tr>\n",
       "<tr><td>0.00011524903405725874</td><td>jw01364001001_xx104_00004_nirspec</td><td>-1</td><td>False</td><td>spectrum</td><td>NIRISS/IFU</td><td>F170LP/G235H</td><td>NGC-4151</td><td>182.6357641666667</td><td>39.40584166666667</td><td>STC-S as Position ICRS GEOCENTER 182.635727197418 39.40587962505939</td><td>Polygon 182.63568968269644 39.40525862644703 182.63493500976608 39.4059270175468 182.6357646882381 39.40650055285887 182.63651940377247 39.40583237062685</td></tr>\n",
       "<tr><td>0.00011524903405725874</td><td>jw01364001001_xx10o_00012_nirspec</td><td>-1</td><td>False</td><td>spectrum</td><td>NIRISS/IFU</td><td>F170LP/G235H</td><td>NGC-4151</td><td>182.6357641666667</td><td>39.40584166666667</td><td>STC-S as Position ICRS GEOCENTER 182.6357808644266 39.405806834557396</td><td>Polygon 182.63574335236584 39.40518583589227 182.63498868073782 39.40585422733885 182.6358183587853 39.40642776226972 182.63657307301733 39.40575957969095</td></tr>\n",
       "<tr><td>0.00011524903405725874</td><td>jw01364001001_xx105_00005_nirspec</td><td>-1</td><td>False</td><td>spectrum</td><td>NIRISS/IFU</td><td>F170LP/G235H</td><td>NGC-4151</td><td>182.6357641666667</td><td>39.40584166666667</td><td>STC-S as Position ICRS GEOCENTER 182.6357600633411 39.40581883514025</td><td>Polygon 182.63572254798524 39.40519783654686 182.6349678760278 39.40586622785902 182.63579755404666 39.40643976293761 182.63655226860863 39.405771580493315</td></tr>\n",
       "<tr><td>0.00011524903405725874</td><td>jw01364001001_xx107_00007_nirspec</td><td>-1</td><td>False</td><td>spectrum</td><td>NIRISS/IFU</td><td>F170LP/G235H</td><td>NGC-4151</td><td>182.6357641666667</td><td>39.40584166666667</td><td>STC-S as Position ICRS GEOCENTER 182.63572461264783 39.405850230166514</td><td>Polygon 182.6356870939115 39.40522923164485 182.634932421274 39.40589762272795 182.6357620993753 39.40647115805841 182.63651681461627 39.405802975843116</td></tr>\n",
       "<tr><td>...</td><td>...</td><td>...</td><td>...</td><td>...</td><td>...</td><td>...</td><td>...</td><td>...</td><td>...</td><td>...</td><td>...</td></tr>\n",
       "<tr><td>0.00011524903405725874</td><td>jw01364001001_xx10k_00008_nirspec</td><td>-1</td><td>False</td><td>spectrum</td><td>NIRISS/IFU</td><td>F170LP/G235H</td><td>NGC-4151</td><td>182.6357641666667</td><td>39.40584166666667</td><td>STC-S as Position ICRS GEOCENTER 182.63572288710407 39.40583063362468</td><td>Polygon 182.6356853680555 39.40520963511007 182.6349306956139 39.405878026181995 182.6357603734677 39.40645156152471 182.6365150885133 39.4057833793206</td></tr>\n",
       "<tr><td>0.00011524903405725874</td><td>jw01364001001_xx106_00006_nirspec</td><td>-1</td><td>False</td><td>spectrum</td><td>NIRISS/IFU</td><td>F170LP/G235H</td><td>NGC-4151</td><td>182.6357641666667</td><td>39.40584166666667</td><td>STC-S as Position ICRS GEOCENTER 182.6357888762542 39.40585669468413</td><td>Polygon 182.63575136163573 39.405235696077156 182.63499668954475 39.40590408757542 182.63582636825112 39.4064776224494 182.63658108294607 39.40580943981889</td></tr>\n",
       "<tr><td>0.00011524903405725874</td><td>jw01364001001_xx10b_00011_nirspec</td><td>-1</td><td>False</td><td>spectrum</td><td>NIRISS/IFU</td><td>F170LP/G235H</td><td>NGC-4151</td><td>182.6357641666667</td><td>39.40584166666667</td><td>STC-S as Position ICRS GEOCENTER 182.6357191216581 39.405831343300115</td><td>Polygon 182.63568160864162 39.405210344648914 182.63492693615646 39.40587873569654 182.63575661398738 39.40645227106596 182.6365113290765 39.40578408888614</td></tr>\n",
       "<tr><td>0.00011524903405725874</td><td>jw01364001001_xx102_00002_nirspec</td><td>-1</td><td>False</td><td>spectrum</td><td>NIRISS/IFU</td><td>F170LP/G235H</td><td>NGC-4151</td><td>182.6357641666667</td><td>39.40584166666667</td><td>STC-S as Position ICRS GEOCENTER 182.6356848437384 39.405832633924334</td><td>Polygon 182.63564732519114 39.4052116353938 182.6348926523634 39.405880026219975 182.63572232992783 39.40645356183285 182.63647704535958 39.40578537987453</td></tr>\n",
       "<tr><td>0.00011524903405725874</td><td>jw01364001001_xx101_00001_nirspec</td><td>-1</td><td>False</td><td>spectrum</td><td>NIRISS/IFU</td><td>F170LP/G235H</td><td>NGC-4151</td><td>182.6357641666667</td><td>39.40584166666667</td><td>STC-S as Position ICRS GEOCENTER 182.63583873580242 39.405844229348794</td><td>Polygon 182.63580122252407 39.405223230717645 182.63504655104563 39.40589162253808 182.63587623001382 39.406465157057916 182.6366309440963 39.405796974105236</td></tr>\n",
       "<tr><td>0.00011524903405725874</td><td>jw01364001001_xx10c_00012_nirspec</td><td>-1</td><td>False</td><td>spectrum</td><td>NIRISS/IFU</td><td>F170LP/G235H</td><td>NGC-4151</td><td>182.6357641666667</td><td>39.40584166666667</td><td>STC-S as Position ICRS GEOCENTER 182.6357808644266 39.405806834557396</td><td>Polygon 182.63574335236584 39.40518583589227 182.63498868073782 39.40585422733885 182.6358183587853 39.40642776226972 182.63657307301733 39.40575957969095</td></tr>\n",
       "<tr><td>0.00011524903405725874</td><td>jw01364001001_xx10g_00004_nirspec</td><td>-1</td><td>False</td><td>spectrum</td><td>NIRISS/IFU</td><td>F170LP/G235H</td><td>NGC-4151</td><td>182.6357641666667</td><td>39.40584166666667</td><td>STC-S as Position ICRS GEOCENTER 182.635727197418 39.40587962505939</td><td>Polygon 182.63568968269644 39.40525862644703 182.63493500976608 39.4059270175468 182.6357646882381 39.40650055285887 182.63651940377247 39.40583237062685</td></tr>\n",
       "</table></div>"
      ],
      "text/plain": [
       "<Table length=24>\n",
       "         dist          ...\n",
       "       float64         ...\n",
       "---------------------- ...\n",
       "0.00011524903405725874 ...\n",
       "0.00011524903405725874 ...\n",
       "0.00011524903405725874 ...\n",
       "0.00011524903405725874 ...\n",
       "0.00011524903405725874 ...\n",
       "0.00011524903405725874 ...\n",
       "                   ... ...\n",
       "0.00011524903405725874 ...\n",
       "0.00011524903405725874 ...\n",
       "0.00011524903405725874 ...\n",
       "0.00011524903405725874 ...\n",
       "0.00011524903405725874 ...\n",
       "0.00011524903405725874 ...\n",
       "0.00011524903405725874 ..."
      ]
     },
     "execution_count": 60,
     "metadata": {},
     "output_type": "execute_result"
    }
   ],
   "source": [
    "coord = SkyCoord(ra=ra, dec=dec, unit=(u.degree, u.degree), frame='icrs')\n",
    "radius = u.Quantity(10.0, u.arcsec)\n",
    "j = Jwst.cone_search(coordinate=coord, radius=radius, async_job=True)\n",
    "\n",
    "result = j.get_results()\n",
    "result  "
   ]
  },
  {
   "cell_type": "code",
   "execution_count": 62,
   "id": "403f75bb",
   "metadata": {
    "ExecuteTime": {
     "end_time": "2022-10-06T10:07:23.810657Z",
     "start_time": "2022-10-06T10:07:16.938685Z"
    }
   },
   "outputs": [
    {
     "name": "stdout",
     "output_type": "stream",
     "text": [
      "filename\n",
      "--------\n"
     ]
    }
   ],
   "source": [
    "product_list = Jwst.get_product_list(observation_id='jw01364001001_xx10l_00009_nirspec')\n",
    "print(product_list['filename'])  "
   ]
  },
  {
   "cell_type": "code",
   "execution_count": 63,
   "id": "71f72237",
   "metadata": {
    "ExecuteTime": {
     "end_time": "2022-10-06T10:07:30.455484Z",
     "start_time": "2022-10-06T10:07:23.813735Z"
    }
   },
   "outputs": [
    {
     "name": "stdout",
     "output_type": "stream",
     "text": [
      "                       filename                      \n",
      "-----------------------------------------------------\n",
      "     jw01063-o107_20220913t163906_image2_132_asn.json\n",
      "             jw01063107001_02101_00013_nrca3_cal.fits\n",
      "              jw01063107001_02101_00013_nrca3_cal.jpg\n",
      "        jw01063107001_02101_00013_nrca3_cal_thumb.jpg\n",
      "             jw01063107001_02101_00013_nrca3_i2d.fits\n",
      "        jw01063107001_02101_00013_nrca3_o107_crf.fits\n",
      "         jw01063107001_02101_00013_nrca3_o107_crf.jpg\n",
      "                                                  ...\n",
      "     jw01063107001_02101_00013_nrca3_trapsfilled.fits\n",
      "      jw01063107001_02101_00013_nrca3_trapsfilled.jpg\n",
      "jw01063107001_02101_00013_nrca3_trapsfilled_thumb.jpg\n",
      "           jw01063107001_02101_00013_nrca3_uncal.fits\n",
      "            jw01063107001_02101_00013_nrca3_uncal.jpg\n",
      "      jw01063107001_02101_00013_nrca3_uncal_thumb.jpg\n",
      "                     jw01063_20220913t163906_pool.csv\n",
      "Length = 21 rows\n"
     ]
    }
   ],
   "source": [
    "from astroquery.esa.jwst import Jwst\n",
    "product_list = Jwst.get_product_list(observation_id='jw01063107001_02101_00013_nrca3')\n",
    "print(product_list['filename'])  "
   ]
  },
  {
   "cell_type": "code",
   "execution_count": 64,
   "id": "38a1e310",
   "metadata": {
    "ExecuteTime": {
     "end_time": "2022-10-06T10:08:12.677031Z",
     "start_time": "2022-10-06T10:08:05.724011Z"
    }
   },
   "outputs": [
    {
     "name": "stdout",
     "output_type": "stream",
     "text": [
      "                     filename                    \n",
      "-------------------------------------------------\n",
      "jw01023029001_02101_00004_mirimage_c1006_crf.fits\n",
      "      jw01023029001_02101_00004_mirimage_cal.fits\n",
      "      jw01023029001_02101_00004_mirimage_i2d.fits\n",
      " jw01023029001_02101_00004_mirimage_o029_crf.fits\n",
      "     jw01023029001_02101_00004_mirimage_rate.fits\n",
      " jw01023029001_02101_00004_mirimage_rateints.fits\n",
      "    jw01023029001_02101_00004_mirimage_uncal.fits\n"
     ]
    }
   ],
   "source": [
    "from astroquery.esa.jwst import Jwst\n",
    "product_list = Jwst.get_product_list(observation_id='jw01023029001_02101_00004_mirimage', product_type='science')\n",
    "print(product_list['filename'])"
   ]
  },
  {
   "cell_type": "markdown",
   "id": "cc55aed0",
   "metadata": {},
   "source": [
    "[getting-data-products](https://astroquery.readthedocs.io/en/latest/esa/jwst/jwst.html#getting-data-products)"
   ]
  },
  {
   "cell_type": "code",
   "execution_count": 66,
   "id": "9b3d779d",
   "metadata": {
    "ExecuteTime": {
     "end_time": "2022-10-06T10:11:26.450542Z",
     "start_time": "2022-10-06T10:11:19.651112Z"
    }
   },
   "outputs": [
    {
     "name": "stdout",
     "output_type": "stream",
     "text": [
      "                     filename                    \n",
      "-------------------------------------------------\n",
      "jw01023029001_02101_00004_mirimage_c1006_crf.fits\n",
      "      jw01023029001_02101_00004_mirimage_cal.fits\n",
      "      jw01023029001_02101_00004_mirimage_i2d.fits\n",
      " jw01023029001_02101_00004_mirimage_o029_crf.fits\n",
      "     jw01023029001_02101_00004_mirimage_rate.fits\n",
      " jw01023029001_02101_00004_mirimage_rateints.fits\n",
      "    jw01023029001_02101_00004_mirimage_uncal.fits\n"
     ]
    }
   ],
   "source": [
    "from astroquery.esa.jwst import Jwst\n",
    "product_list = Jwst.get_product_list(observation_id='jw01023029001_02101_00004_mirimage', product_type='science')\n",
    "print(product_list['filename'])"
   ]
  },
  {
   "cell_type": "code",
   "execution_count": null,
   "id": "5bd2f941",
   "metadata": {},
   "outputs": [],
   "source": []
  },
  {
   "cell_type": "code",
   "execution_count": 65,
   "id": "4cf36cd9",
   "metadata": {
    "ExecuteTime": {
     "end_time": "2022-10-06T10:10:18.142498Z",
     "start_time": "2022-10-06T10:09:57.332952Z"
    }
   },
   "outputs": [
    {
     "data": {
      "text/plain": [
       "['jw01076110001_02101_00001_nrcalong',\n",
       " 'jw01076110001_02101_00001_nrcblong',\n",
       " 'jw01076110001_02101_00002_nrcalong',\n",
       " 'jw01076110001_02101_00002_nrcblong',\n",
       " 'jw01076110001_02101_00003_nrcalong',\n",
       " 'jw01076110001_02101_00003_nrcblong',\n",
       " 'jw01076110001_02101_00004_nrcalong',\n",
       " 'jw01076110001_02101_00004_nrcblong']"
      ]
     },
     "execution_count": 65,
     "metadata": {},
     "output_type": "execute_result"
    }
   ],
   "source": [
    "from astroquery.esa.jwst import Jwst\n",
    "observation_id = 'jw01076-o110_s01130_nircam_f444w-grismr'\n",
    "results = Jwst.get_related_observations(observation_id=observation_id)\n",
    "results"
   ]
  },
  {
   "cell_type": "code",
   "execution_count": null,
   "id": "25f8c120",
   "metadata": {},
   "outputs": [],
   "source": []
  },
  {
   "cell_type": "code",
   "execution_count": 68,
   "id": "ed3e28e6",
   "metadata": {
    "ExecuteTime": {
     "end_time": "2022-10-06T10:14:09.785406Z",
     "start_time": "2022-10-06T10:14:06.165789Z"
    }
   },
   "outputs": [
    {
     "name": "stderr",
     "output_type": "stream",
     "text": [
      "INFO:astroquery:Query finished.\n"
     ]
    },
    {
     "name": "stdout",
     "output_type": "stream",
     "text": [
      "INFO: Query finished. [astroquery.utils.tap.core]\n"
     ]
    },
    {
     "data": {
      "text/html": [
       "<div><i>Table length=0</i>\n",
       "<table id=\"table140310695427184\" class=\"table-striped table-bordered table-condensed\">\n",
       "<thead><tr><th>observationid</th><th>artifactid</th><th>filename</th></tr></thead>\n",
       "<thead><tr><th>object</th><th>object</th><th>object</th></tr></thead>\n",
       "</table></div>"
      ],
      "text/plain": [
       "<Table length=0>\n",
       "observationid artifactid filename\n",
       "    object      object    object \n",
       "------------- ---------- --------"
      ]
     },
     "execution_count": 68,
     "metadata": {},
     "output_type": "execute_result"
    }
   ],
   "source": [
    "from astroquery.esa.jwst import Jwst\n",
    "query = \"\"\"select o.observationid, a.artifactid, a.filename\n",
    "from jwst.observation o join jwst.artifact a on a.obsid = o.obsid\n",
    "where o.proposal_id = '01166' and o.intent = 'science'\"\"\"\n",
    "job = Jwst.launch_job(query, async_job=True)\n",
    "\n",
    "results = job.get_results()\n",
    "results  "
   ]
  },
  {
   "cell_type": "markdown",
   "id": "8d8aa112",
   "metadata": {},
   "source": [
    "output_file = Jwst.get_product(artifact_id='6ab73824-6587-4bca-84a8-eb48ac7251be')  \n",
    "output_file = Jwst.get_product(file_name='jw01166091001_02102_00002_nrca3_cal.fits') "
   ]
  },
  {
   "cell_type": "code",
   "execution_count": null,
   "id": "91c20787",
   "metadata": {},
   "outputs": [],
   "source": [
    "from astroquery.esa.jwst import Jwst\n",
    "observation_id = 'jw01122001001_0210r_00001_nrs2'\n",
    "results = Jwst.get_obs_products(observation_id=observation_id, cal_level=2, product_type='science')  "
   ]
  },
  {
   "cell_type": "code",
   "execution_count": null,
   "id": "c4a7701b",
   "metadata": {},
   "outputs": [],
   "source": []
  },
  {
   "cell_type": "markdown",
   "id": "3dbe3317",
   "metadata": {},
   "source": [
    "## Mrk1018"
   ]
  },
  {
   "cell_type": "code",
   "execution_count": 7,
   "id": "b6e8d61e",
   "metadata": {
    "ExecuteTime": {
     "end_time": "2022-10-06T08:32:32.481476Z",
     "start_time": "2022-10-06T08:32:30.560870Z"
    }
   },
   "outputs": [
    {
     "name": "stdout",
     "output_type": "stream",
     "text": [
      "observationURI sequenceNumber ... provenance_lastExecuted custom_ctype\n",
      "                              ...                                     \n",
      "-------------- -------------- ... ----------------------- ------------\n"
     ]
    }
   ],
   "source": [
    "result_JWST = cadc.query_region('02h06m16.0s -00d17m29s', collection='JWST')\n",
    "print(result_JWST)  "
   ]
  },
  {
   "cell_type": "code",
   "execution_count": 8,
   "id": "d4bfe8be",
   "metadata": {
    "ExecuteTime": {
     "end_time": "2022-10-06T08:32:36.184911Z",
     "start_time": "2022-10-06T08:32:36.158047Z"
    }
   },
   "outputs": [
    {
     "data": {
      "text/html": [
       "<div><i>Table length=0</i>\n",
       "<table id=\"table140309334220464\" class=\"table-striped table-bordered table-condensed\">\n",
       "<thead><tr><th>observationURI</th><th>sequenceNumber</th><th>metaReadGroups</th><th>proposal_keywords</th><th>target_standard</th><th>obsID</th><th>collection</th><th>observationID</th><th>algorithm_name</th><th>type</th><th>intent</th><th>metaRelease</th><th>proposal_id</th><th>target_redshift</th><th>target_moving</th><th>target_keywords</th><th>targetPosition_equinox</th><th>targetPosition_coordinates_cval1</th><th>targetPosition_coordinates_cval2</th><th>targetPosition_coordsys</th><th>telescope_geoLocationX</th><th>telescope_geoLocationY</th><th>telescope_geoLocationZ</th><th>telescope_keywords</th><th>instrument_keywords</th><th>environment_seeing</th><th>environment_humidity</th><th>environment_elevation</th><th>environment_tau</th><th>environment_wavelengthTau</th><th>environment_ambientTemp</th><th>environment_photometric</th><th>members</th><th>typeCode</th><th>metaProducer</th><th>metaChecksum</th><th>accMetaChecksum</th><th>telescope_name</th><th>requirements_flag</th><th>instrument_name</th><th>lastModified</th><th>maxLastModified</th><th>proposal_pi</th><th>proposal_project</th><th>proposal_title</th><th>target_name</th><th>target_targetID</th><th>target_type</th><th>planeURI</th><th>publisherID</th><th>creatorID</th><th>obsID2</th><th>planeID</th><th>metaReadGroups2</th><th>dataReadGroups</th><th>calibrationLevel</th><th>provenance_keywords</th><th>provenance_inputs</th><th>productID</th><th>metaRelease2</th><th>dataRelease</th><th>dataProductType</th><th>provenance_name</th><th>provenance_version</th><th>provenance_reference</th><th>provenance_producer</th><th>provenance_project</th><th>provenance_runID</th><th>metrics_sourceNumberDensity</th><th>metrics_background</th><th>metrics_backgroundStddev</th><th>metrics_fluxDensityLimit</th><th>metrics_magLimit</th><th>position_bounds</th><th>position_bounds_samples</th><th>position_bounds_size</th><th>position_resolution</th><th>position_sampleSize</th><th>position_dimension_naxis1</th><th>position_dimension_naxis2</th><th>position_timeDependent</th><th>energy_bounds_samples</th><th>energy_bounds_lower</th><th>energy_bounds_upper</th><th>energy_bounds_width</th><th>energy_dimension</th><th>energy_resolvingPower</th><th>quality_flag</th><th>position_resolutionBounds</th><th>energy_bounds</th><th>energy_sampleSize</th><th>energy_freqWidth</th><th>energy_freqSampleSize</th><th>energy_restwav</th><th>time_bounds_samples</th><th>time_bounds_lower</th><th>time_bounds_upper</th><th>time_bounds_width</th><th>time_dimension</th><th>time_resolution</th><th>time_sampleSize</th><th>time_exposure</th><th>polarization_dimension</th><th>energy_resolvingPowerBounds</th><th>energy_emBand</th><th>energy_energyBands</th><th>energy_bandpassName</th><th>energy_transition_species</th><th>energy_transition_transition</th><th>time_bounds</th><th>time_resolutionBounds</th><th>polarization_states</th><th>custom_bounds_samples</th><th>custom_bounds_lower</th><th>custom_bounds_upper</th><th>custom_bounds_width</th><th>custom_dimension</th><th>metaProducer2</th><th>metaChecksum2</th><th>accMetaChecksum2</th><th>custom_bounds</th><th>lastModified2</th><th>maxLastModified2</th><th>provenance_lastExecuted</th><th>custom_ctype</th></tr></thead>\n",
       "<thead><tr><th></th><th></th><th></th><th></th><th></th><th></th><th></th><th></th><th></th><th></th><th></th><th></th><th></th><th></th><th></th><th></th><th></th><th>deg</th><th>deg</th><th></th><th></th><th></th><th></th><th></th><th></th><th>arcsec</th><th></th><th>deg</th><th></th><th>m</th><th>C</th><th></th><th></th><th></th><th></th><th></th><th></th><th></th><th></th><th></th><th></th><th></th><th></th><th></th><th></th><th></th><th></th><th></th><th></th><th></th><th></th><th></th><th></th><th></th><th></th><th></th><th></th><th></th><th></th><th></th><th></th><th></th><th></th><th></th><th></th><th></th><th></th><th></th><th>1 / deg2</th><th>Jy / pix</th><th>Jy / pix</th><th>Jy</th><th></th><th>deg</th><th>deg</th><th>deg</th><th>arcsec</th><th>arcsec</th><th></th><th></th><th></th><th>m</th><th>m</th><th>m</th><th>m</th><th></th><th></th><th></th><th>arcsec</th><th>m</th><th>m</th><th>Hz</th><th>Hz</th><th>m</th><th>d</th><th>d</th><th>d</th><th>d</th><th></th><th>d</th><th>d</th><th>s</th><th></th><th></th><th></th><th></th><th></th><th></th><th></th><th>d</th><th>d</th><th></th><th></th><th></th><th></th><th></th><th></th><th></th><th></th><th></th><th></th><th></th><th></th><th></th><th></th></tr></thead>\n",
       "<thead><tr><th>object</th><th>int32</th><th>object</th><th>object</th><th>int32</th><th>str36</th><th>str32</th><th>str128</th><th>str32</th><th>str32</th><th>str32</th><th>str23</th><th>str128</th><th>float64</th><th>int32</th><th>object</th><th>float64</th><th>float64</th><th>float64</th><th>str16</th><th>float64</th><th>float64</th><th>float64</th><th>object</th><th>object</th><th>float64</th><th>float64</th><th>float64</th><th>float64</th><th>float64</th><th>float64</th><th>int32</th><th>object</th><th>str1</th><th>object</th><th>object</th><th>object</th><th>str32</th><th>str16</th><th>str32</th><th>str23</th><th>str23</th><th>str128</th><th>str32</th><th>str256</th><th>str32</th><th>str32</th><th>str32</th><th>object</th><th>object</th><th>object</th><th>str36</th><th>str36</th><th>object</th><th>object</th><th>int32</th><th>object</th><th>object</th><th>str64</th><th>str23</th><th>str23</th><th>str128</th><th>str128</th><th>str32</th><th>str256</th><th>str128</th><th>str256</th><th>str64</th><th>float64</th><th>float64</th><th>float64</th><th>float64</th><th>float64</th><th>object</th><th>object</th><th>float64</th><th>float64</th><th>float64</th><th>int64</th><th>int64</th><th>int32</th><th>object</th><th>float64</th><th>float64</th><th>float64</th><th>int64</th><th>float64</th><th>str16</th><th>float64[2]</th><th>float64[2]</th><th>float64</th><th>float64</th><th>float64</th><th>float64</th><th>object</th><th>float64</th><th>float64</th><th>float64</th><th>int64</th><th>float64</th><th>float64</th><th>float64</th><th>int64</th><th>float64[2]</th><th>str32</th><th>str32</th><th>str32</th><th>str32</th><th>str32</th><th>float64[2]</th><th>float64[2]</th><th>str32</th><th>object</th><th>float64</th><th>float64</th><th>float64</th><th>int64</th><th>object</th><th>object</th><th>object</th><th>float64[2]</th><th>str23</th><th>str23</th><th>str23</th><th>str32</th></tr></thead>\n",
       "</table></div>"
      ],
      "text/plain": [
       "<Table length=0>\n",
       "observationURI sequenceNumber ... provenance_lastExecuted custom_ctype\n",
       "                              ...                                     \n",
       "    object         int32      ...          str23             str32    \n",
       "-------------- -------------- ... ----------------------- ------------"
      ]
     },
     "execution_count": 8,
     "metadata": {},
     "output_type": "execute_result"
    }
   ],
   "source": [
    "result_JWST"
   ]
  },
  {
   "cell_type": "code",
   "execution_count": null,
   "id": "7f710321",
   "metadata": {},
   "outputs": [],
   "source": []
  },
  {
   "cell_type": "code",
   "execution_count": null,
   "id": "3b1761cc",
   "metadata": {},
   "outputs": [],
   "source": []
  },
  {
   "cell_type": "code",
   "execution_count": 27,
   "id": "46b53eda",
   "metadata": {
    "ExecuteTime": {
     "end_time": "2022-10-06T08:36:48.506249Z",
     "start_time": "2022-10-06T08:36:46.866651Z"
    }
   },
   "outputs": [
    {
     "name": "stderr",
     "output_type": "stream",
     "text": [
      "WARNING: InputWarning: Coordinate string is being interpreted as an ICRS coordinate. [astroquery.utils.commons]\n",
      "WARNING:astroquery:InputWarning: Coordinate string is being interpreted as an ICRS coordinate.\n"
     ]
    },
    {
     "name": "stdout",
     "output_type": "stream",
     "text": [
      "              observationURI              sequenceNumber ... custom_ctype\n",
      "                                                         ...             \n",
      "----------------------------------------- -------------- ... ------------\n",
      "caom:VLASS/VLASS1.1.T10t04.J020600-003000             -- ...             \n",
      "caom:VLASS/VLASS2.1.T10t04.J020600-003000             -- ...             \n"
     ]
    }
   ],
   "source": [
    "result = cadc.query_region('02h06m16.0s -00d17m29s', collection='VLASS')\n",
    "print(result)  "
   ]
  },
  {
   "cell_type": "code",
   "execution_count": 30,
   "id": "4712c876",
   "metadata": {
    "ExecuteTime": {
     "end_time": "2022-10-06T08:37:11.890787Z",
     "start_time": "2022-10-06T08:37:11.876413Z"
    }
   },
   "outputs": [
    {
     "data": {
      "text/plain": [
       "['observationURI',\n",
       " 'sequenceNumber',\n",
       " 'metaReadGroups',\n",
       " 'proposal_keywords',\n",
       " 'target_standard',\n",
       " 'obsID',\n",
       " 'collection',\n",
       " 'observationID',\n",
       " 'algorithm_name',\n",
       " 'type',\n",
       " 'intent',\n",
       " 'metaRelease',\n",
       " 'proposal_id',\n",
       " 'target_redshift',\n",
       " 'target_moving',\n",
       " 'target_keywords',\n",
       " 'targetPosition_equinox',\n",
       " 'targetPosition_coordinates_cval1',\n",
       " 'targetPosition_coordinates_cval2',\n",
       " 'targetPosition_coordsys',\n",
       " 'telescope_geoLocationX',\n",
       " 'telescope_geoLocationY',\n",
       " 'telescope_geoLocationZ',\n",
       " 'telescope_keywords',\n",
       " 'instrument_keywords',\n",
       " 'environment_seeing',\n",
       " 'environment_humidity',\n",
       " 'environment_elevation',\n",
       " 'environment_tau',\n",
       " 'environment_wavelengthTau',\n",
       " 'environment_ambientTemp',\n",
       " 'environment_photometric',\n",
       " 'members',\n",
       " 'typeCode',\n",
       " 'metaProducer',\n",
       " 'metaChecksum',\n",
       " 'accMetaChecksum',\n",
       " 'telescope_name',\n",
       " 'requirements_flag',\n",
       " 'instrument_name',\n",
       " 'lastModified',\n",
       " 'maxLastModified',\n",
       " 'proposal_pi',\n",
       " 'proposal_project',\n",
       " 'proposal_title',\n",
       " 'target_name',\n",
       " 'target_targetID',\n",
       " 'target_type',\n",
       " 'planeURI',\n",
       " 'publisherID',\n",
       " 'creatorID',\n",
       " 'obsID2',\n",
       " 'planeID',\n",
       " 'metaReadGroups2',\n",
       " 'dataReadGroups',\n",
       " 'calibrationLevel',\n",
       " 'provenance_keywords',\n",
       " 'provenance_inputs',\n",
       " 'productID',\n",
       " 'metaRelease2',\n",
       " 'dataRelease',\n",
       " 'dataProductType',\n",
       " 'provenance_name',\n",
       " 'provenance_version',\n",
       " 'provenance_reference',\n",
       " 'provenance_producer',\n",
       " 'provenance_project',\n",
       " 'provenance_runID',\n",
       " 'metrics_sourceNumberDensity',\n",
       " 'metrics_background',\n",
       " 'metrics_backgroundStddev',\n",
       " 'metrics_fluxDensityLimit',\n",
       " 'metrics_magLimit',\n",
       " 'position_bounds',\n",
       " 'position_bounds_samples',\n",
       " 'position_bounds_size',\n",
       " 'position_resolution',\n",
       " 'position_sampleSize',\n",
       " 'position_dimension_naxis1',\n",
       " 'position_dimension_naxis2',\n",
       " 'position_timeDependent',\n",
       " 'energy_bounds_samples',\n",
       " 'energy_bounds_lower',\n",
       " 'energy_bounds_upper',\n",
       " 'energy_bounds_width',\n",
       " 'energy_dimension',\n",
       " 'energy_resolvingPower',\n",
       " 'quality_flag',\n",
       " 'position_resolutionBounds',\n",
       " 'energy_bounds',\n",
       " 'energy_sampleSize',\n",
       " 'energy_freqWidth',\n",
       " 'energy_freqSampleSize',\n",
       " 'energy_restwav',\n",
       " 'time_bounds_samples',\n",
       " 'time_bounds_lower',\n",
       " 'time_bounds_upper',\n",
       " 'time_bounds_width',\n",
       " 'time_dimension',\n",
       " 'time_resolution',\n",
       " 'time_sampleSize',\n",
       " 'time_exposure',\n",
       " 'polarization_dimension',\n",
       " 'energy_resolvingPowerBounds',\n",
       " 'energy_emBand',\n",
       " 'energy_energyBands',\n",
       " 'energy_bandpassName',\n",
       " 'energy_transition_species',\n",
       " 'energy_transition_transition',\n",
       " 'time_bounds',\n",
       " 'time_resolutionBounds',\n",
       " 'polarization_states',\n",
       " 'custom_bounds_samples',\n",
       " 'custom_bounds_lower',\n",
       " 'custom_bounds_upper',\n",
       " 'custom_bounds_width',\n",
       " 'custom_dimension',\n",
       " 'metaProducer2',\n",
       " 'metaChecksum2',\n",
       " 'accMetaChecksum2',\n",
       " 'custom_bounds',\n",
       " 'lastModified2',\n",
       " 'maxLastModified2',\n",
       " 'provenance_lastExecuted',\n",
       " 'custom_ctype']"
      ]
     },
     "execution_count": 30,
     "metadata": {},
     "output_type": "execute_result"
    }
   ],
   "source": [
    "result.colnames"
   ]
  },
  {
   "cell_type": "code",
   "execution_count": 32,
   "id": "fcb62f26",
   "metadata": {
    "ExecuteTime": {
     "end_time": "2022-10-06T08:39:19.787901Z",
     "start_time": "2022-10-06T08:39:19.774315Z"
    }
   },
   "outputs": [
    {
     "data": {
      "text/plain": [
       "(<MaskedColumn name='target_name' dtype='str32' description='name of intended target' length=2>\n",
       " T10t04\n",
       " T10t04,\n",
       " <MaskedColumn name='time_bounds_samples' dtype='object' unit='d' description='detailed time coverage (Modified Julian Day)' length=2>\n",
       " [58087.169328703705 58087.24982638889]\n",
       "   [59118.40372685185 59118.4249537037])"
      ]
     },
     "execution_count": 32,
     "metadata": {},
     "output_type": "execute_result"
    }
   ],
   "source": [
    "result['target_name'],result['time_bounds_samples']"
   ]
  },
  {
   "cell_type": "code",
   "execution_count": 33,
   "id": "ee59eb81",
   "metadata": {
    "ExecuteTime": {
     "end_time": "2022-10-06T08:39:37.340256Z",
     "start_time": "2022-10-06T08:39:37.328345Z"
    }
   },
   "outputs": [
    {
     "data": {
      "text/html": [
       "&lt;MaskedColumn name=&apos;time_bounds_lower&apos; dtype=&apos;float64&apos; unit=&apos;d&apos; description=&apos;lower bound on time axis (Modified Julian Day)&apos; length=2&gt;\n",
       "<table>\n",
       "<tr><td>58087.169328703705</td></tr>\n",
       "<tr><td>59118.40372685185</td></tr>\n",
       "</table>"
      ],
      "text/plain": [
       "<MaskedColumn name='time_bounds_lower' dtype='float64' unit='d' description='lower bound on time axis (Modified Julian Day)' length=2>\n",
       "58087.169328703705\n",
       " 59118.40372685185"
      ]
     },
     "execution_count": 33,
     "metadata": {},
     "output_type": "execute_result"
    }
   ],
   "source": [
    "result['time_bounds_lower']"
   ]
  },
  {
   "cell_type": "code",
   "execution_count": 35,
   "id": "1f49c088",
   "metadata": {
    "ExecuteTime": {
     "end_time": "2022-10-06T08:41:08.033785Z",
     "start_time": "2022-10-06T08:41:08.012879Z"
    }
   },
   "outputs": [
    {
     "data": {
      "text/plain": [
       "(datetime.datetime(2017, 11, 30, 0, 0, tzinfo=datetime.timezone.utc),\n",
       " datetime.datetime(2020, 9, 26, 0, 0, tzinfo=datetime.timezone.utc))"
      ]
     },
     "execution_count": 35,
     "metadata": {},
     "output_type": "execute_result"
    }
   ],
   "source": [
    "mjd2datetime(58087),mjd2datetime(59118)"
   ]
  },
  {
   "cell_type": "code",
   "execution_count": null,
   "id": "7237e1f9",
   "metadata": {},
   "outputs": [],
   "source": []
  },
  {
   "cell_type": "code",
   "execution_count": 29,
   "id": "21f50744",
   "metadata": {
    "ExecuteTime": {
     "end_time": "2022-10-06T08:36:55.942617Z",
     "start_time": "2022-10-06T08:36:52.521751Z"
    }
   },
   "outputs": [
    {
     "name": "stderr",
     "output_type": "stream",
     "text": [
      "/Users/lyubing/opt/anaconda3/lib/python3.9/site-packages/bs4/builder/__init__.py:545: XMLParsedAsHTMLWarning: It looks like you're parsing an XML document using an HTML parser. If this really is an HTML document (maybe it's XHTML?), you can ignore or filter this warning. If it's XML, you should know that using an XML parser will be more reliable. To parse this document as XML, make sure you have the lxml package installed, and pass the keyword argument `features=\"xml\"` into the BeautifulSoup constructor.\n",
      "  warnings.warn(\n"
     ]
    },
    {
     "name": "stdout",
     "output_type": "stream",
     "text": [
      "https://ws.cadc-ccda.hia-iha.nrc-cnrc.gc.ca/data/pub/VLASS/VLASS1.1.ql.T10t04.J020600-003000.10.2048.v1.I.iter1.image.pbcor.tt0.subim.fits\n",
      "https://ws.cadc-ccda.hia-iha.nrc-cnrc.gc.ca/data/pub/VLASS/VLASS2.1.ql.T10t04.J020600-003000.10.2048.v1.I.iter1.image.pbcor.tt0.subim.fits\n"
     ]
    }
   ],
   "source": [
    "urls = cadc.get_data_urls(result)\n",
    "for url in urls:\n",
    "    print(url) "
   ]
  },
  {
   "cell_type": "code",
   "execution_count": null,
   "id": "305b8450",
   "metadata": {},
   "outputs": [],
   "source": []
  }
 ],
 "metadata": {
  "kernelspec": {
   "display_name": "Python 3 (ipykernel)",
   "language": "python",
   "name": "python3"
  },
  "language_info": {
   "codemirror_mode": {
    "name": "ipython",
    "version": 3
   },
   "file_extension": ".py",
   "mimetype": "text/x-python",
   "name": "python",
   "nbconvert_exporter": "python",
   "pygments_lexer": "ipython3",
   "version": "3.9.12"
  },
  "latex_envs": {
   "LaTeX_envs_menu_present": true,
   "autoclose": false,
   "autocomplete": true,
   "bibliofile": "biblio.bib",
   "cite_by": "apalike",
   "current_citInitial": 1,
   "eqLabelWithNumbers": true,
   "eqNumInitial": 1,
   "hotkeys": {
    "equation": "Ctrl-E",
    "itemize": "Ctrl-I"
   },
   "labels_anchors": false,
   "latex_user_defs": false,
   "report_style_numbering": false,
   "user_envs_cfg": false
  },
  "toc": {
   "base_numbering": 1,
   "nav_menu": {},
   "number_sections": true,
   "sideBar": true,
   "skip_h1_title": false,
   "title_cell": "Table of Contents",
   "title_sidebar": "Contents",
   "toc_cell": false,
   "toc_position": {},
   "toc_section_display": true,
   "toc_window_display": false
  }
 },
 "nbformat": 4,
 "nbformat_minor": 5
}
