{
 "cells": [
  {
   "cell_type": "code",
   "execution_count": 1,
   "metadata": {
    "ExecuteTime": {
     "end_time": "2020-12-07T19:47:06.443470Z",
     "start_time": "2020-12-07T19:47:05.218917Z"
    },
    "collapsed": true
   },
   "outputs": [],
   "source": [
    "from astropy.io import fits\n",
    "import pyimfit"
   ]
  },
  {
   "cell_type": "code",
   "execution_count": null,
   "metadata": {
    "collapsed": true
   },
   "outputs": [],
   "source": [
    "\n",
    "\n",
    "\n",
    "# 1. A simple fit to an image (no PSF or mask)\n",
    "\n",
    "imageFile = \"<path-to-FITS-file-directory>/ic3478rss_256.fits\"\n",
    "imfitConfigFile = \"<path-to-config-file-directory>/config_exponential_ic3478_256.dat\"\n",
    "\n",
    "# read in image data\n",
    "image_data = fits.getdata(imageFile)\n",
    "\n",
    "# construct model from config file\n",
    "model_desc = pyimfit.ModelDescription.load(configFile)\n",
    "\n",
    "# create an Imfit object, using the previously loaded model configuration\n",
    "imfit_fitter = pyimfit.Imfit(model_desc)\n",
    "\n",
    "# load the image data and image characteristics and do a standard fit\n",
    "# (using default chi^2 statistics and Levenberg-Marquardt solver)\n",
    "imfit_fitter.fit(image_data, gain=4.725, read_noise=4.3, original_sky=130.14)\n",
    "\n",
    "# check the fit and print the resulting best-fit parameter values\n",
    "if imfit_fitter.fitConverged is True:\n",
    "    print(\"Fit converged: chi^2 = {0}, reduced chi^2 = {1}\".format(imfit_fitter.fitStatistic,\n",
    "        imfit_fitter.reducedFitStatistic))\n",
    "    print(\"Best-fit parameter values:\")\n",
    "    print(imfit_fitter.getRawParameters())\n",
    "\n",
    "\n",
    "# 2. Same basic model and data, but now with PSF convolution and a mask\n",
    "\n",
    "# Load PSF image from FITS file, then create Imfit fitter with model + PSF\n",
    "psfImageFile = \"<path-to-FITS-file-directory>/psf_moffat_35.fits\"\n",
    "psf_image_data = fits.getdata(psfImageFile)\n",
    "\n",
    "imfit_fitter2 = pyimfit.Imfit(model_desc, psf=psf_image_data)\n",
    "\n",
    "# load the image data and characteristics, and also a mask image, but don't run the fit yet\n",
    "maskImageFile = \"<path-to-FITS-file-directory>/mask.fits\"\n",
    "mask_image_data = fits.getdata(maskImageFile)\n",
    "\n",
    "imfit_fitter2.loadData(image_data, mask=mask_image_data, gain=4.725, read_noise=4.3, original_sky=130.14)\n",
    "\n",
    "# do the fit, using Nelder-Mead simplex (instead of default Levenberg-Marquardt) as the solver\n",
    "imfit_fitter2.doFit(solver=\"NM\")"
   ]
  },
  {
   "cell_type": "code",
   "execution_count": 2,
   "metadata": {
    "ExecuteTime": {
     "end_time": "2020-12-07T19:47:09.150990Z",
     "start_time": "2020-12-07T19:47:09.119476Z"
    },
    "collapsed": true
   },
   "outputs": [],
   "source": [
    "# define a function for a simple bulge+disk model, where both components share the same\n",
    "# central coordinate (SimpleModelDescription class)\n",
    "def galaxy_model(x0, y0, PA, ell, I_e, r_e, n, I_0, h):\n",
    "    model = pyimfit.SimpleModelDescription()\n",
    "    # define the limits on X0 and Y0 as +/-10 pixels relative to initial values\n",
    "    model.x0.setValue(x0, [x0 - 10, x0 + 10])\n",
    "    model.y0.setValue(y0, [y0 - 10, y0 + 10])\n",
    "\n",
    "    bulge = pyimfit.make_imfit_function('Sersic', label='bulge')\n",
    "    bulge.I_e.setValue(I_e, [1e-33, 10*I_e])\n",
    "    bulge.r_e.setValue(r_e, [1e-33, 10*r_e])\n",
    "    bulge.n.setValue(n, [0.5, 5])\n",
    "    bulge.PA.setValue(PA, [0, 180])\n",
    "    bulge.ell.setValue(ell, [0, 1])\n",
    "\n",
    "    disk = pyimfit.make_imfit_function('Exponential', label='disk')\n",
    "    disk.I_0.setValue(I_0, [1e-33, 10*I_0])\n",
    "    disk.h.setValue(h, [1e-33, 10*h])\n",
    "    disk.PA.setValue(PA, [0, 180])\n",
    "    disk.ell.setValue(ell, [0, 1])\n",
    "\n",
    "    model.addFunction(bulge)\n",
    "    model.addFunction(disk)\n",
    "\n",
    "    return model\n",
    "\n",
    "\n",
    "model_desc = galaxy_model(x0=33, y0=33, PA=90.0, ell=0.5, I_e=1,\n",
    "                        r_e=25, n=4, I_0=1, h=25)\n",
    "\n",
    "imfit_fitter = pyimfit.Imfit(model_desc)\n",
    "\n",
    "# etc."
   ]
  },
  {
   "cell_type": "code",
   "execution_count": 4,
   "metadata": {
    "ExecuteTime": {
     "end_time": "2020-12-07T19:47:23.059257Z",
     "start_time": "2020-12-07T19:47:23.054341Z"
    },
    "collapsed": false
   },
   "outputs": [
    {
     "data": {
      "text/plain": [
       "<pyimfit.descriptions.SimpleModelDescription at 0x11f297b70>"
      ]
     },
     "execution_count": 4,
     "metadata": {},
     "output_type": "execute_result"
    }
   ],
   "source": [
    "model_desc"
   ]
  },
  {
   "cell_type": "code",
   "execution_count": 3,
   "metadata": {
    "ExecuteTime": {
     "end_time": "2020-12-07T19:47:18.150134Z",
     "start_time": "2020-12-07T19:47:18.136701Z"
    },
    "collapsed": false
   },
   "outputs": [
    {
     "data": {
      "text/plain": [
       "<pyimfit.fitting.Imfit at 0x11f297ba8>"
      ]
     },
     "execution_count": 3,
     "metadata": {},
     "output_type": "execute_result"
    }
   ],
   "source": [
    "imfit_fitter"
   ]
  },
  {
   "cell_type": "code",
   "execution_count": null,
   "metadata": {
    "collapsed": true
   },
   "outputs": [],
   "source": []
  }
 ],
 "metadata": {
  "kernelspec": {
   "display_name": "Python 3",
   "language": "python",
   "name": "python3"
  },
  "language_info": {
   "codemirror_mode": {
    "name": "ipython",
    "version": 3
   },
   "file_extension": ".py",
   "mimetype": "text/x-python",
   "name": "python",
   "nbconvert_exporter": "python",
   "pygments_lexer": "ipython3",
   "version": "3.6.0"
  },
  "latex_envs": {
   "LaTeX_envs_menu_present": true,
   "autocomplete": true,
   "bibliofile": "biblio.bib",
   "cite_by": "apalike",
   "current_citInitial": 1,
   "eqLabelWithNumbers": true,
   "eqNumInitial": 1,
   "hotkeys": {
    "equation": "Ctrl-E",
    "itemize": "Ctrl-I"
   },
   "labels_anchors": false,
   "latex_user_defs": false,
   "report_style_numbering": false,
   "user_envs_cfg": false
  },
  "toc": {
   "nav_menu": {},
   "number_sections": true,
   "sideBar": true,
   "skip_h1_title": false,
   "toc_cell": false,
   "toc_position": {},
   "toc_section_display": "block",
   "toc_window_display": false
  }
 },
 "nbformat": 4,
 "nbformat_minor": 2
}
