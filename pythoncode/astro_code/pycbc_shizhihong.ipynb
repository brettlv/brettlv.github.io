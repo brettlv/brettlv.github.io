{
 "cells": [
  {
   "cell_type": "code",
   "execution_count": 5,
   "metadata": {
    "ExecuteTime": {
     "end_time": "2018-10-23T21:13:43.953094Z",
     "start_time": "2018-10-23T21:13:42.996516Z"
    },
    "collapsed": false
   },
   "outputs": [
    {
     "name": "stdout",
     "output_type": "stream",
     "text": [
      "('f1 =', 0.03613366483955975)\n",
      "('f2 =', 0.08240297948316354)\n",
      "('f3 =', 0.11252842210979504)\n"
     ]
    },
    {
     "data": {
      "image/png": "[encoded data removed]",
      "text/plain": [
       "<matplotlib.figure.Figure at 0x1087164d0>"
      ]
     },
     "metadata": {},
     "output_type": "display_data"
    }
   ],
   "source": [
    "# -*- coding: utf-8 -*-\n",
    "\n",
    "\n",
    "import numpy as np\n",
    "import matplotlib.pyplot as plt\n",
    "\n",
    "d = 2939.0                                                                       \n",
    "n1 = 1.0*10**5                                                                      \n",
    "n2 = 1.0*10**5                                                                     \n",
    "f0 = 1.0*10**-5                                                                     \n",
    "df = 1.0*10**-3                                                                     \n",
    "C = 2.99792458e8\n",
    "G = 6.67408e-11                                                                   \n",
    "dL = d*3.0856*10**22\n",
    "solar_mass = 2.0*10**30                                                    \n",
    "\n",
    "m1=n1*solar_mass\n",
    "m2=n2*solar_mass\n",
    "M=m1+m2\n",
    "eta=m1*m2/(M**2)                                                               \n",
    "Mc=M*(eta**(3/5))                                                              \n",
    "#dd=(m1-m2)/M\n",
    "#chi1 = 0.6      # choose arbitrarily                                           # chi1=S1/m1^2 S1:spin angular momentum of BH \n",
    "#chi2 = 0.4      # choose arbitrarily                                           # chi2=S2/m2^2 S2:spin angular momentum of BH\n",
    "#chi=((1+dd)*chi1+(1-dd)*chi2)/2                                                # a single spin parameter\n",
    "chi=0.\n",
    "\n",
    "yy1=[ 0.6437,  0.827,  -0.2706,  -0.05822, -3.935,   -7.092]\n",
    "yy2=[ 0.1469, -0.1228, -0.02609, -0.0249,   0.1701,   2.325]\n",
    "yy3=[-0.4098, -0.03523, 0.1008,   1.829,   -0.02017, -2.87 ]\n",
    "yy4=[-0.1331, -0.08172, 0.1451,  -0.2714,   0.1279,   4.922]\n",
    "miu1=yy1[0]*eta+yy1[1]*eta*chi+yy1[2]*eta*(chi)**2+yy1[3]*(eta)**2 \\\n",
    "     +yy1[4]*(eta)**2*chi+yy1[5]*(eta)**3\n",
    "miu2=yy2[0]*eta+yy2[1]*eta*chi+yy2[2]*eta*(chi)**2+yy2[3]*(eta)**2 \\\n",
    "     +yy2[4]*(eta)**2*chi+yy2[5]*(eta)**3      \n",
    "miu3=yy3[0]*eta+yy3[1]*eta*chi+yy3[2]*eta*(chi)**2+yy3[3]*(eta)**2 \\\n",
    "     +yy3[4]*(eta)**2*chi+yy3[5]*(eta)**3\n",
    "miu4=yy4[0]*eta+yy4[1]*eta*chi+yy4[2]*eta*(chi)**2+yy4[3]*(eta)**2 \\\n",
    "     +yy4[4]*(eta)**2*chi+yy4[5]*(eta)**3                              \n",
    "\n",
    "f10=1-4.455*(1-chi)**(0.217)+3.521*(1-chi)**(0.26)\n",
    "f20=(1-0.63*(1-chi)**(0.3))/2\n",
    "sigma0=(1-0.63*(1-chi)**(0.3))*((1-chi)**(0.45))/4\n",
    "f30=0.3236+0.04894*chi+0.01346*chi**2\n",
    "\n",
    "f1=(C**3/G)*(miu1+f10)/(np.pi*M)                                               # 加上量纲c^3/G\n",
    "f2=(C**3/G)*(miu2+f20)/(np.pi*M)\n",
    "sigma=(C**3/G)*(miu3+sigma0)/(np.pi*M)\n",
    "f3=(C**3/G)*(miu4+f30)/(np.pi*M)\n",
    "\n",
    "pm=(np.pi*M)/(C**3/G)\n",
    "alph2=451*eta/168-(323/224)\n",
    "a2=alph2*(pm**(2/3))                                                           # 加上量纲\n",
    "alph3=(27/8-11*eta/6)*chi\n",
    "a3=alph3*pm\n",
    "b1=(1.4547*chi-1.8897)*(pm**(1/3))\n",
    "b2=(1.6557-1.8153*chi)*(pm**(2/3))\n",
    "\n",
    "freq1=np.arange(f0,round(f1,5),df)\n",
    "freq2=np.arange((round(f1,5)+df),round(f2,5),df)\n",
    "freq3=np.arange((round(f2,5)+df),round(f3,5),df)\n",
    "\n",
    "Const=C**(-3/2)*G**(5/6)*(M**(5/6)*(f1**(-7/6))/(dL*np.pi**(2/3)))*  \\\n",
    "      np.sqrt(5*eta/24)\n",
    "#factor C**(-3/2)*G**(5/6) being added since C=G=1 at 0710.2335\n",
    "\n",
    "A1=Const*(freq1/(max(freq1)))**(-7/6)*(1+a2*freq1**(2/3)+a3*freq1)\n",
    "c12=(1+a2*(min(freq2))**(2/3)+a3*(min(freq2)))/(1+b1*(min(freq2))**(1/3) \\\n",
    "    +b2*(min(freq2))**(2/3))\n",
    "A2=c12*Const*(freq2/min(freq2))**(-2/3)*(1+b1*freq2**(1/3)+b2*freq2**(2/3))\n",
    "c23=(c12*(min(freq3)/min(freq2))**(-2/3)*(1+b1*min(freq3)**(1/3)    \\\n",
    "    +b2*min(freq3)**(2/3)))/(2/(np.pi*sigma))\n",
    "A3=c23*Const*(sigma/(2*np.pi))/((freq3-min(freq3))**2+(sigma/2)**2)\n",
    "\n",
    "freq=[freq1,freq2,freq3]\n",
    "Af=[A1,A2,A3]\n",
    "\n",
    "hc1 = 2*freq1*A1 \n",
    "hc2 = 2*freq2*A2\n",
    "hc3 = 2*freq3*A3\n",
    "\n",
    "print(\"f1 =\" ,f1)\n",
    "print(\"f2 =\" ,f2)\n",
    "print(\"f3 =\" ,f3)\n",
    "plt.loglog(freq1, hc1,'b',linewidth=1) \n",
    "plt.loglog(freq2, hc2,'g',linewidth=1)\n",
    "plt.loglog(freq3, hc3,'m',linewidth=1)\n",
    "#plt.xlim(1e-4, 1e1)\n",
    "plt.show()"
   ]
  },
  {
   "cell_type": "code",
   "execution_count": null,
   "metadata": {
    "collapsed": true
   },
   "outputs": [],
   "source": []
  }
 ],
 "metadata": {
  "kernelspec": {
   "display_name": "Python 2",
   "language": "python",
   "name": "python2"
  },
  "language_info": {
   "codemirror_mode": {
    "name": "ipython",
    "version": 2
   },
   "file_extension": ".py",
   "mimetype": "text/x-python",
   "name": "python",
   "nbconvert_exporter": "python",
   "pygments_lexer": "ipython2",
   "version": "2.7.13"
  },
  "latex_envs": {
   "LaTeX_envs_menu_present": true,
   "autocomplete": true,
   "bibliofile": "biblio.bib",
   "cite_by": "apalike",
   "current_citInitial": 1,
   "eqLabelWithNumbers": true,
   "eqNumInitial": 1,
   "hotkeys": {
    "equation": "Ctrl-E",
    "itemize": "Ctrl-I"
   },
   "labels_anchors": false,
   "latex_user_defs": false,
   "report_style_numbering": false,
   "user_envs_cfg": false
  },
  "toc": {
   "nav_menu": {},
   "number_sections": true,
   "sideBar": true,
   "skip_h1_title": false,
   "toc_cell": false,
   "toc_position": {},
   "toc_section_display": "block",
   "toc_window_display": false
  }
 },
 "nbformat": 4,
 "nbformat_minor": 2
}
