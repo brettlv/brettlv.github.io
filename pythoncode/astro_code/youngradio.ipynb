{
 "cells": [
  {
   "cell_type": "code",
   "execution_count": 1,
   "metadata": {
    "collapsed": true
   },
   "outputs": [],
   "source": [
    "from math import log\n",
    "import astropy.constants as const\n",
    "import math\n",
    "\n",
    "\n",
    "import xlrd\n",
    "from astropy import units as u\n",
    "from astropy.io import fits\n",
    "import math\n",
    "import dateutil\n",
    "import scipy\n",
    "import numpy as np\n"
   ]
  },
  {
   "cell_type": "code",
   "execution_count": 2,
   "metadata": {
    "collapsed": true
   },
   "outputs": [],
   "source": [
    "pi=math.pi\n",
    "mpc=10**6*u.pc\n",
    "cm=u.cm\n",
    "mpcnum=mpc.to(cm)/u.cm"
   ]
  },
  {
   "cell_type": "code",
   "execution_count": 9,
   "metadata": {
    "collapsed": true
   },
   "outputs": [],
   "source": [
    "from astropy.cosmology import FlatLambdaCDM\n",
    "cosmo=FlatLambdaCDM(H0=70,Om0=0.3)"
   ]
  },
  {
   "cell_type": "code",
   "execution_count": 19,
   "metadata": {
    "collapsed": false
   },
   "outputs": [
    {
     "data": {
      "text/latex": [
       "$3.0856776 \\times 10^{24} \\; \\mathrm{}$"
      ],
      "text/plain": [
       "<Quantity 3.085677581467191e+24>"
      ]
     },
     "execution_count": 19,
     "metadata": {},
     "output_type": "execute_result"
    }
   ],
   "source": [
    "mpcnum"
   ]
  },
  {
   "cell_type": "code",
   "execution_count": 38,
   "metadata": {
    "collapsed": false,
    "scrolled": true
   },
   "outputs": [
    {
     "name": "stdout",
     "output_type": "stream",
     "text": [
      "1.4168736353771206e+37\n",
      "5.4865187779312065e+37\n",
      "1.0707707899759576e+37\n",
      "1.6273309570277878e+39\n",
      "9.90113430239157e+40\n",
      "9.381407811957975e+36\n",
      "1.0751870693216758e+38\n",
      "8.75120152146516e+37\n",
      "3.238538556711441e+36\n",
      "8.226964901182602e+36\n",
      "7.14647728535142e+37\n",
      "9.335519512538928e+36\n",
      "2.9996217193555235e+37\n",
      "1.622232220698172e+37\n",
      "3.927823240121494e+35\n",
      "1.667343589569107e+39\n",
      "7.523049739399624e+37\n",
      "1.579448643444707e+36\n",
      "1.8983091084791242e+35\n",
      "2.1321837270794113e+38\n",
      "1.4412764605570822e+35\n",
      "4.647534392278369e+36\n",
      "2.7545912441881813e+35\n",
      "7.390280076677369e+37\n",
      "2.669983911913724e+34\n",
      "4.6367949755659876e+35\n",
      "1.794822316874619e+35\n",
      "1.55097847074678e+36\n",
      "2.5224201148937138e+36\n",
      "4.6959662375626036e+36\n",
      "3.933237647040054e+36\n",
      "8.660661934865762e+36\n",
      "5.3917623803305116e+38\n",
      "1.388795772571534e+41\n",
      "1.2081360218901436e+44\n",
      "3.625287092351545e+40\n",
      "1.0512937208241115e+45\n",
      "1.113461612993965e+42\n",
      "9.823844230604222e+42\n",
      "8.536103980352815e+44\n",
      "2.92296534373118e+43\n",
      "1.0930667603372601e+43\n"
     ]
    }
   ],
   "source": [
    "coreredshift=xlrd.open_workbook('Downloads/fundamental_data/coreredshift.xlsx')\n",
    "table=coreredshift.sheet_by_index(1)\n",
    "\n",
    "nrows=table.nrows\n",
    "ncols=table.ncols\n",
    "\n",
    "for i in range(0,nrows):\n",
    "    #print(table.row_values(i)[0],table.row_values(i)[1],'          ',cosmo.luminosity_distance(table.row_values(i)[1]))\n",
    "    print(4*pi*(table.row_values(i)[2]*mpcnum)**2*table.row_values(i)[3]*5*10**9/10**23)\n",
    "    "
   ]
  },
  {
   "cell_type": "code",
   "execution_count": 39,
   "metadata": {
    "collapsed": false
   },
   "outputs": [
    {
     "name": "stdout",
     "output_type": "stream",
     "text": [
      "37.1513311192\n",
      "37.7392968699\n",
      "37.0296965154\n",
      "39.2114758862\n",
      "40.9956849515\n",
      "36.9722680153\n",
      "38.0314840327\n",
      "37.9420676848\n",
      "36.510349072\n",
      "36.9152396445\n",
      "37.8540920177\n",
      "36.970138491\n",
      "37.4770664895\n",
      "37.2101130231\n",
      "35.5941519354\n",
      "39.2220251041\n",
      "37.8763939332\n",
      "36.1985055092\n",
      "35.2783669316\n",
      "38.3288246245\n",
      "35.1587472936\n",
      "36.6672226123\n",
      "35.4400571627\n",
      "37.8686608976\n",
      "34.4265086445\n",
      "35.6662178932\n",
      "35.2540214609\n",
      "36.1906057694\n",
      "36.401817421\n",
      "36.6717249658\n",
      "36.5947501874\n",
      "36.9375510864\n",
      "38.7317307442\n",
      "41.1426383859\n",
      "44.0821158335\n",
      "40.5593424048\n",
      "45.0217240705\n",
      "42.0466752492\n",
      "42.9922814676\n",
      "44.9312596967\n",
      "43.4658236662\n",
      "43.0386466878\n"
     ]
    }
   ],
   "source": [
    "for i in range(0,nrows):\n",
    "    #print(table.row_values(i)[0],table.row_values(i)[1],'          ',cosmo.luminosity_distance(table.row_values(i)[1]))\n",
    "    print(np.log10(table.row_values(i)[4]))"
   ]
  },
  {
   "cell_type": "code",
   "execution_count": null,
   "metadata": {
    "collapsed": true
   },
   "outputs": [],
   "source": []
  },
  {
   "cell_type": "code",
   "execution_count": null,
   "metadata": {
    "collapsed": true
   },
   "outputs": [],
   "source": []
  },
  {
   "cell_type": "code",
   "execution_count": null,
   "metadata": {
    "collapsed": true
   },
   "outputs": [],
   "source": []
  },
  {
   "cell_type": "code",
   "execution_count": null,
   "metadata": {
    "collapsed": true
   },
   "outputs": [],
   "source": []
  },
  {
   "cell_type": "code",
   "execution_count": null,
   "metadata": {
    "collapsed": true
   },
   "outputs": [],
   "source": []
  },
  {
   "cell_type": "code",
   "execution_count": 3,
   "metadata": {
    "collapsed": true
   },
   "outputs": [
    {
     "name": "stdout",
     "output_type": "stream",
     "text": [
      "0108+388 0.24 4.3833789591158504e+56 2.191689479557925e+43\n",
      "0134+329 5.61 2.416272043780287e+57 1.2081360218901434e+44\n",
      "0221+276 0.002 5.800459347762471e+53 2.900229673881236e+40\n",
      "0428+205 3.665 4.793282302850628e+56 2.396641151425314e+43\n",
      "0710+439 0.63 6.1890218652806585e+56 3.0945109326403297e+43\n",
      "0810+077 0.053 1.5828205621095877e+54 7.914102810547939e+40\n",
      "0941–080 2.401 3.4395096748796276e+56 1.719754837439814e+43\n",
      "0942+355 0.011 1.2808486615705244e+54 6.404243307852623e+40\n",
      "1031+567 1.741 1.2180307140655739e+57 6.09015357032787e+43\n",
      "1250+568 0.7 2.1861335206745204e+56 1.0930667603372603e+43\n",
      "1323+321 4.339 1.9050670315297608e+57 9.525335157648803e+43\n",
      "1328+254 2.998 1.707220796070563e+58 8.536103980352817e+44\n",
      "1345+125 0.48 1.7240695943132357e+55 8.620347971566178e+41\n",
      "1358+624 3.86 2.4355291705489928e+57 1.2177645852744966e+44\n",
      "1416+067 1.7 2.102587441648223e+58 1.0512937208241116e+45\n",
      "2352+495 2.39 3.774620674278451e+56 1.8873103371392253e+43\n"
     ]
    }
   ],
   "source": [
    "youngradio=xlrd.open_workbook('Downloads/youngradio.xlsx')\n",
    "table=youngradio.sheet_by_index(1)\n",
    "#youngradio=pd.ExcelFile('Downloads/youngradio.xlsx')\n",
    "#\n",
    "#table=youngradio.parse('Sheet2')\n",
    "\n",
    "nrows=table.nrows\n",
    "ncols=table.ncols\n",
    "\n",
    "for i in range(1,nrows):\n",
    "    #print(table.row_values(i)[1])\n",
    "    if table.row_values(i)[5]=='':\n",
    "        lr=0\n",
    "    else:\n",
    "        lr=(table.row_values(i)[1]*mpcnum)**2*pi*4*table.row_values(i)[5] \n",
    "        lrnum=lr/10**23*5*10**9\n",
    "        \n",
    "        print(table.row_values(i)[0],table.row_values(i)[5],lr,lrnum)"
   ]
  },
  {
   "cell_type": "code",
   "execution_count": 4,
   "metadata": {
    "collapsed": false
   },
   "outputs": [
    {
     "data": {
      "text/plain": [
       "2"
      ]
     },
     "execution_count": 4,
     "metadata": {},
     "output_type": "execute_result"
    }
   ],
   "source": [
    "youngradio.nsheets"
   ]
  },
  {
   "cell_type": "code",
   "execution_count": 5,
   "metadata": {
    "collapsed": false
   },
   "outputs": [
    {
     "name": "stdout",
     "output_type": "stream",
     "text": [
      "['Sheet1', 'Sheet2']\n"
     ]
    }
   ],
   "source": [
    "print(youngradio.sheet_names())"
   ]
  },
  {
   "cell_type": "code",
   "execution_count": 3,
   "metadata": {
    "collapsed": false
   },
   "outputs": [
    {
     "data": {
      "text/plain": [
       "0.0791812460476248"
      ]
     },
     "execution_count": 3,
     "metadata": {},
     "output_type": "execute_result"
    }
   ],
   "source": [
    "math.log(1.2,10)"
   ]
  },
  {
   "cell_type": "code",
   "execution_count": 16,
   "metadata": {
    "collapsed": false
   },
   "outputs": [
    {
     "data": {
      "text/plain": [
       "0.9294189257142926"
      ]
     },
     "execution_count": 16,
     "metadata": {},
     "output_type": "execute_result"
    }
   ],
   "source": [
    "math.log(8.5,10)"
   ]
  },
  {
   "cell_type": "code",
   "execution_count": 6,
   "metadata": {
    "collapsed": false
   },
   "outputs": [
    {
     "data": {
      "text/plain": [
       "0.30102999566398114"
      ]
     },
     "execution_count": 6,
     "metadata": {},
     "output_type": "execute_result"
    }
   ],
   "source": [
    "math.log(2,10)"
   ]
  },
  {
   "cell_type": "code",
   "execution_count": 7,
   "metadata": {
    "collapsed": false
   },
   "outputs": [
    {
     "data": {
      "text/plain": [
       "0.47712125471966244"
      ]
     },
     "execution_count": 7,
     "metadata": {},
     "output_type": "execute_result"
    }
   ],
   "source": [
    "math.log(3,10)"
   ]
  },
  {
   "cell_type": "code",
   "execution_count": 8,
   "metadata": {
    "collapsed": false
   },
   "outputs": [
    {
     "data": {
      "text/plain": [
       "0.6989700043360187"
      ]
     },
     "execution_count": 8,
     "metadata": {},
     "output_type": "execute_result"
    }
   ],
   "source": [
    "math.log(5,10)"
   ]
  },
  {
   "cell_type": "code",
   "execution_count": 15,
   "metadata": {
    "collapsed": false
   },
   "outputs": [
    {
     "name": "stdout",
     "output_type": "stream",
     "text": [
      "0.0\n",
      "0.301029995664\n",
      "0.47712125472\n",
      "0.602059991328\n",
      "0.698970004336\n",
      "0.778151250384\n",
      "0.845098040014\n",
      "0.903089986992\n",
      "0.954242509439\n",
      "1.0\n"
     ]
    }
   ],
   "source": [
    "for i in np.arange(1,11):\n",
    "    print(np.log10(i))"
   ]
  },
  {
   "cell_type": "code",
   "execution_count": 18,
   "metadata": {
    "collapsed": false
   },
   "outputs": [
    {
     "data": {
      "text/plain": [
       "0.775"
      ]
     },
     "execution_count": 18,
     "metadata": {},
     "output_type": "execute_result"
    }
   ],
   "source": [
    "1.25*0.62"
   ]
  },
  {
   "cell_type": "code",
   "execution_count": 19,
   "metadata": {
    "collapsed": false
   },
   "outputs": [
    {
     "data": {
      "text/plain": [
       "1.6129032258064517"
      ]
     },
     "execution_count": 19,
     "metadata": {},
     "output_type": "execute_result"
    }
   ],
   "source": [
    "1/0.62"
   ]
  },
  {
   "cell_type": "code",
   "execution_count": 20,
   "metadata": {
    "collapsed": false
   },
   "outputs": [
    {
     "data": {
      "text/plain": [
       "-11.774193548387096"
      ]
     },
     "execution_count": 20,
     "metadata": {},
     "output_type": "execute_result"
    }
   ],
   "source": [
    "-7.3/0.62"
   ]
  },
  {
   "cell_type": "code",
   "execution_count": 21,
   "metadata": {
    "collapsed": false
   },
   "outputs": [
    {
     "data": {
      "text/plain": [
       "0.8"
      ]
     },
     "execution_count": 21,
     "metadata": {},
     "output_type": "execute_result"
    }
   ],
   "source": [
    "1/1.25"
   ]
  },
  {
   "cell_type": "code",
   "execution_count": null,
   "metadata": {
    "collapsed": true
   },
   "outputs": [],
   "source": []
  },
  {
   "cell_type": "code",
   "execution_count": null,
   "metadata": {
    "collapsed": true
   },
   "outputs": [],
   "source": []
  }
 ],
 "metadata": {
  "kernelspec": {
   "display_name": "Python 3",
   "language": "python",
   "name": "python3"
  },
  "language_info": {
   "codemirror_mode": {
    "name": "ipython",
    "version": 3
   },
   "file_extension": ".py",
   "mimetype": "text/x-python",
   "name": "python",
   "nbconvert_exporter": "python",
   "pygments_lexer": "ipython3",
   "version": "3.6.0"
  }
 },
 "nbformat": 4,
 "nbformat_minor": 2
}
