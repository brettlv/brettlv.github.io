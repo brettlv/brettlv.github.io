{
 "cells": [
  {
   "cell_type": "code",
   "execution_count": null,
   "metadata": {},
   "outputs": [],
   "source": [
    "imview('')"
   ]
  },
  {
   "cell_type": "code",
   "execution_count": null,
   "metadata": {},
   "outputs": [],
   "source": [
    "export(fitsname)"
   ]
  },
  {
   "cell_type": "markdown",
   "metadata": {},
   "source": [
    "# First_Look_at_Imaging"
   ]
  },
  {
   "cell_type": "markdown",
   "metadata": {},
   "source": [
    "https://casaguides.nrao.edu/index.php?title=First_Look_at_Imaging\n"
   ]
  },
  {
   "cell_type": "code",
   "execution_count": null,
   "metadata": {},
   "outputs": [],
   "source": [
    "listobs(vis='sis14_twhya_calibrated_flagged.ms')"
   ]
  },
  {
   "cell_type": "markdown",
   "metadata": {},
   "source": [
    "## plotting the UV coverage"
   ]
  },
  {
   "cell_type": "markdown",
   "metadata": {},
   "source": [
    "plotms(vis='sis14_twhya_calibrated_flagged.ms', xaxis='u', yaxis='v', avgchannel='10000', avgspw=False, avgtime='1e9', avgscan=False, coloraxis=\"field\", showgui=True)"
   ]
  },
  {
   "cell_type": "code",
   "execution_count": null,
   "metadata": {},
   "outputs": [],
   "source": [
    "tclean(vis='sis14_twhya_calibrated_flagged.ms',\n",
    "       imagename='phase_cal',\n",
    "       field='3',\n",
    "       spw='',\n",
    "       specmode='mfs',\n",
    "       deconvolver='hogbom',\n",
    "       gridder='standard',\n",
    "       imsize=[128,128],\n",
    "       cell=['0.1arcsec'],\n",
    "       weighting='natural',\n",
    "       threshold='0.0mJy',\n",
    "       interactive=True)"
   ]
  },
  {
   "cell_type": "code",
   "execution_count": null,
   "metadata": {
    "code_folding": []
   },
   "outputs": [],
   "source": [
    "# In CASA\n",
    "os.system('rm -rf phase_cal.*')\n",
    "tclean(vis='sis14_twhya_calibrated_flagged.ms',\n",
    "       imagename='phase_cal',\n",
    "       field='3',\n",
    "       spw='',\n",
    "       specmode='mfs',\n",
    "       deconvolver='hogbom',\n",
    "       gridder='standard',\n",
    "       imsize=[128,128],\n",
    "       cell=['0.1arcsec'],\n",
    "       weighting='natural',\n",
    "       threshold='0mJy',\n",
    "       niter=5000,\n",
    "       interactive=True)"
   ]
  },
  {
   "cell_type": "code",
   "execution_count": null,
   "metadata": {},
   "outputs": [],
   "source": []
  },
  {
   "cell_type": "code",
   "execution_count": null,
   "metadata": {},
   "outputs": [],
   "source": []
  },
  {
   "cell_type": "code",
   "execution_count": null,
   "metadata": {},
   "outputs": [],
   "source": []
  },
  {
   "cell_type": "code",
   "execution_count": null,
   "metadata": {},
   "outputs": [],
   "source": []
  },
  {
   "cell_type": "markdown",
   "metadata": {},
   "source": [
    "# First_Look_at_Self_Calibration"
   ]
  },
  {
   "cell_type": "markdown",
   "metadata": {},
   "source": [
    "https://casaguides.nrao.edu/index.php?title=First_Look_at_Self_Calibration"
   ]
  },
  {
   "cell_type": "code",
   "execution_count": null,
   "metadata": {},
   "outputs": [],
   "source": [
    "listobs(\"sis14_twhya_calibrated_flagged.ms\")\n",
    "os.system('rm -rf first_image.*')\n",
    "tclean(vis='sis14_twhya_calibrated_flagged.ms',\n",
    "       imagename='first_image',\n",
    "       field='5',\n",
    "       spw='',\n",
    "       specmode='mfs',\n",
    "       deconvolver='hogbom',\n",
    "       nterms=1,\n",
    "       gridder='standard',\n",
    "       imsize=[250,250],\n",
    "       cell=['0.1arcsec'],\n",
    "       weighting='natural',\n",
    "       threshold='0mJy',\n",
    "       niter=5000,\n",
    "       interactive=True,\n",
    "       savemodel='modelcolumn')"
   ]
  },
  {
   "cell_type": "code",
   "execution_count": null,
   "metadata": {},
   "outputs": [],
   "source": [
    "os.system(\"rm -rf phase.cal\")\n",
    "gaincal(vis=\"sis14_twhya_calibrated_flagged.ms\",\n",
    "        caltable=\"phase.cal\",\n",
    "        field=\"5\",\n",
    "        solint=\"30s\",\n",
    "        calmode=\"p\",\n",
    "        refant=\"DV22\",\n",
    "        gaintype=\"G\")"
   ]
  },
  {
   "cell_type": "code",
   "execution_count": null,
   "metadata": {},
   "outputs": [],
   "source": [
    "solint='30s' 求解时间间隔，几倍的积分时间"
   ]
  },
  {
   "cell_type": "code",
   "execution_count": null,
   "metadata": {},
   "outputs": [],
   "source": [
    "gaintype='T' #total\n",
    "gaintype='G' #"
   ]
  }
 ],
 "metadata": {
  "kernelspec": {
   "display_name": "Python 3",
   "language": "python",
   "name": "python3"
  },
  "language_info": {
   "codemirror_mode": {
    "name": "ipython",
    "version": 3
   },
   "file_extension": ".py",
   "mimetype": "text/x-python",
   "name": "python",
   "nbconvert_exporter": "python",
   "pygments_lexer": "ipython3",
   "version": "3.8.5"
  },
  "latex_envs": {
   "LaTeX_envs_menu_present": true,
   "autocomplete": true,
   "bibliofile": "biblio.bib",
   "cite_by": "apalike",
   "current_citInitial": 1,
   "eqLabelWithNumbers": true,
   "eqNumInitial": 1,
   "hotkeys": {
    "equation": "Ctrl-E",
    "itemize": "Ctrl-I"
   },
   "labels_anchors": false,
   "latex_user_defs": false,
   "report_style_numbering": false,
   "user_envs_cfg": false
  },
  "toc": {
   "nav_menu": {},
   "number_sections": true,
   "sideBar": true,
   "skip_h1_title": false,
   "toc_cell": false,
   "toc_position": {},
   "toc_section_display": "block",
   "toc_window_display": false
  }
 },
 "nbformat": 4,
 "nbformat_minor": 2
}
