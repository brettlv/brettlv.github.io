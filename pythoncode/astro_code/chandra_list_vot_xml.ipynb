{
 "cells": [
  {
   "cell_type": "code",
   "execution_count": 1,
   "metadata": {
    "ExecuteTime": {
     "end_time": "2017-12-04T09:23:10.822645Z",
     "start_time": "2017-12-04T09:23:09.486262Z"
    },
    "collapsed": true
   },
   "outputs": [],
   "source": [
    "from astropy.io.votable import parse\n",
    "votable = parse(\"nearest_galaxies_cscresults.vot\")"
   ]
  },
  {
   "cell_type": "code",
   "execution_count": 4,
   "metadata": {
    "ExecuteTime": {
     "end_time": "2017-12-04T09:24:11.561022Z",
     "start_time": "2017-12-04T09:24:11.550048Z"
    },
    "collapsed": false
   },
   "outputs": [
    {
     "name": "stdout",
     "output_type": "stream",
     "text": [
      "col0    col1      col2  \n",
      "        arcs            \n",
      "---- --------- ---------\n",
      "   2     44.82      0.00\n",
      "   2     51.93      0.00\n",
      "   2     54.39      0.00\n",
      "   2     68.18      0.00\n",
      "   2    173.81      0.00\n",
      "   4     44.49      0.00\n",
      "   4    102.54      0.00\n",
      "   4    177.47      0.00\n",
      "   6     25.51      0.00\n",
      "   6     65.00      0.00\n",
      " ...       ...       ...\n",
      " 124     67.47      0.00\n",
      " 124    159.74      0.00\n",
      " 125     32.20      0.00\n",
      " 125     66.02      0.00\n",
      " 125    105.76      0.00\n",
      " 125    107.49      0.00\n",
      " 125    130.55      0.00\n",
      " 125    139.81      0.00\n",
      " 125    157.37      0.00\n",
      " 125    158.78      0.00\n",
      "Length = 443 rows\n"
     ]
    }
   ],
   "source": [
    "for resource in votable.resources:\n",
    "    for table in resource.tables:\n",
    "        print(table)# ... do something with the table ...\n",
    "    "
   ]
  },
  {
   "cell_type": "code",
   "execution_count": 5,
   "metadata": {
    "ExecuteTime": {
     "end_time": "2017-12-04T09:25:51.355306Z",
     "start_time": "2017-12-04T09:25:51.294417Z"
    },
    "collapsed": false
   },
   "outputs": [
    {
     "data": {
      "text/plain": [
       "<Table masked=True length=443>\n",
       " col0    col1      col2  \n",
       "         arcs            \n",
       "int32  float64   float64 \n",
       "----- --------- ---------\n",
       "    2     44.82      0.00\n",
       "    2     51.93      0.00\n",
       "    2     54.39      0.00\n",
       "    2     68.18      0.00\n",
       "    2    173.81      0.00\n",
       "    4     44.49      0.00\n",
       "    4    102.54      0.00\n",
       "    4    177.47      0.00\n",
       "    6     25.51      0.00\n",
       "  ...       ...       ...\n",
       "  124     67.47      0.00\n",
       "  124    159.74      0.00\n",
       "  125     32.20      0.00\n",
       "  125     66.02      0.00\n",
       "  125    105.76      0.00\n",
       "  125    107.49      0.00\n",
       "  125    130.55      0.00\n",
       "  125    139.81      0.00\n",
       "  125    157.37      0.00\n",
       "  125    158.78      0.00"
      ]
     },
     "execution_count": 5,
     "metadata": {},
     "output_type": "execute_result"
    }
   ],
   "source": [
    "table = votable.get_first_table()\n",
    "table"
   ]
  },
  {
   "cell_type": "code",
   "execution_count": null,
   "metadata": {
    "collapsed": true
   },
   "outputs": [],
   "source": []
  }
 ],
 "metadata": {
  "kernelspec": {
   "display_name": "Python 3",
   "language": "python",
   "name": "python3"
  },
  "language_info": {
   "codemirror_mode": {
    "name": "ipython",
    "version": 3
   },
   "file_extension": ".py",
   "mimetype": "text/x-python",
   "name": "python",
   "nbconvert_exporter": "python",
   "pygments_lexer": "ipython3",
   "version": "3.6.0"
  },
  "latex_envs": {
   "LaTeX_envs_menu_present": true,
   "autocomplete": true,
   "bibliofile": "biblio.bib",
   "cite_by": "apalike",
   "current_citInitial": 1,
   "eqLabelWithNumbers": true,
   "eqNumInitial": 1,
   "hotkeys": {
    "equation": "Ctrl-E",
    "itemize": "Ctrl-I"
   },
   "labels_anchors": false,
   "latex_user_defs": false,
   "report_style_numbering": false,
   "user_envs_cfg": false
  },
  "toc": {
   "nav_menu": {},
   "number_sections": true,
   "sideBar": true,
   "skip_h1_title": false,
   "toc_cell": false,
   "toc_position": {},
   "toc_section_display": "block",
   "toc_window_display": false
  }
 },
 "nbformat": 4,
 "nbformat_minor": 2
}
