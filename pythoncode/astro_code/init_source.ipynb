{
 "cells": [
  {
   "cell_type": "code",
   "execution_count": null,
   "metadata": {
    "collapsed": true
   },
   "outputs": [],
   "source": [
    " scp -r 20368/ brettlv@202.127.24.75:/home/brettlv/"
   ]
  },
  {
   "cell_type": "code",
   "execution_count": null,
   "metadata": {
    "collapsed": true
   },
   "outputs": [],
   "source": []
  },
  {
   "cell_type": "code",
   "execution_count": null,
   "metadata": {
    "collapsed": true
   },
   "outputs": [],
   "source": [
    "headas"
   ]
  },
  {
   "cell_type": "code",
   "execution_count": null,
   "metadata": {
    "collapsed": true
   },
   "outputs": [],
   "source": [
    "export HEADAS=/Users/brettlv/src_heasoft/heasoft-6.25/x86_64-apple-darwin16.7.0/\n",
    ". $HEADAS/headas-init.sh\n",
    "source /Users/brettlv/src_heasoft/heasoft-6.25/CALDB/software/tools/caldbinit.sh\n",
    "jupyter notebook\n"
   ]
  },
  {
   "cell_type": "code",
   "execution_count": null,
   "metadata": {
    "collapsed": true
   },
   "outputs": [],
   "source": []
  },
  {
   "cell_type": "code",
   "execution_count": null,
   "metadata": {
    "collapsed": true
   },
   "outputs": [],
   "source": [
    "#xmm\n",
    "export HEADAS=/Users/brettlv/src_heasoft/heasoft-6.25/x86_64-apple-darwin16.7.0/\n",
    ". $HEADAS/headas-init.sh\n",
    ". /Users/brettlv/SAS/xmmsas_20170719_1539/setsas.sh\n",
    "\n"
   ]
  },
  {
   "cell_type": "code",
   "execution_count": null,
   "metadata": {
    "collapsed": true
   },
   "outputs": [],
   "source": [
    "#chandra\n",
    "alias ciao=\"source /Users/brettlv/ciao/ciao-4.10/bin/ciao.bash\" \n",
    "ciao"
   ]
  },
  {
   "cell_type": "code",
   "execution_count": null,
   "metadata": {
    "collapsed": true
   },
   "outputs": [],
   "source": [
    "find_chandra_obsid Mrk1018# 2019-08-18\n",
    "# obsid  sepn   inst grat   time    obsdate    piname     target\n",
    "12868     0.0 ACIS-S NONE   22.7 2010-11-27 Mushotzky \"Mrk 1018\"\n",
    "18789     0.0 ACIS-S NONE   27.2 2016-02-25  Tremblay \"Mrk 1018\"\n",
    "19560     0.0 ACIS-S NONE   48.6 2017-02-17    Krumpe \"Mrk 1018\"\n",
    "20366     0.0 ACIS-S NONE   18.2 2018-01-08    Krumpe    Mrk1018\n",
    "20367     0.0 ACIS-S NONE   17.3 2018-03-03    Krumpe    Mrk1018\n",
    "20368     0.0 ACIS-S NONE   18.2 2018-06-12    Krumpe    Mrk1018"
   ]
  }
 ],
 "metadata": {
  "kernelspec": {
   "display_name": "Python 3",
   "language": "python",
   "name": "python3"
  },
  "language_info": {
   "codemirror_mode": {
    "name": "ipython",
    "version": 3
   },
   "file_extension": ".py",
   "mimetype": "text/x-python",
   "name": "python",
   "nbconvert_exporter": "python",
   "pygments_lexer": "ipython3",
   "version": "3.6.0"
  },
  "latex_envs": {
   "LaTeX_envs_menu_present": true,
   "autocomplete": true,
   "bibliofile": "biblio.bib",
   "cite_by": "apalike",
   "current_citInitial": 1,
   "eqLabelWithNumbers": true,
   "eqNumInitial": 1,
   "hotkeys": {
    "equation": "Ctrl-E",
    "itemize": "Ctrl-I"
   },
   "labels_anchors": false,
   "latex_user_defs": false,
   "report_style_numbering": false,
   "user_envs_cfg": false
  },
  "toc": {
   "nav_menu": {},
   "number_sections": true,
   "sideBar": true,
   "skip_h1_title": false,
   "toc_cell": false,
   "toc_position": {},
   "toc_section_display": "block",
   "toc_window_display": false
  }
 },
 "nbformat": 4,
 "nbformat_minor": 2
}
