{
 "cells": [
  {
   "cell_type": "markdown",
   "metadata": {},
   "source": [
    "# ads"
   ]
  },
  {
   "cell_type": "code",
   "execution_count": 1,
   "metadata": {
    "ExecuteTime": {
     "end_time": "2020-10-12T22:24:41.609404Z",
     "start_time": "2020-10-12T22:24:40.401819Z"
    },
    "collapsed": true
   },
   "outputs": [],
   "source": [
    "import ads"
   ]
  },
  {
   "cell_type": "markdown",
   "metadata": {},
   "source": [
    "https://ads.readthedocs.io/"
   ]
  },
  {
   "cell_type": "markdown",
   "metadata": {},
   "source": [
    "Note: some fields, such as body, can be searched but not returned via fl or sorted on. Also, multivalued fields, such as author, cannot be used for sorting.\n",
    "\n",
    "abstract - the abstract of the record\n",
    "ack - the acknowledgements section of an article\n",
    "aff - an array of the authors' affiliations\n",
    "alternate_bibcode - list of alternate bibcodes for a single record; if a published record also has an arXiv version, the bibcode associated with the arXiv version is here\n",
    "alternate_title - list of alternate titles for a single record (usually if they are in multiple languages)\n",
    "arxiv_class - the arXiv class the pre-print was submitted to\n",
    "author - an array of the author names associated with the record\n",
    "bibcode - the canonical ADS bibcode identifier for this record\n",
    "bibgroup - the bibliographic groups that the bibcode has been associated with\n",
    "bibstem - the abbreviated name of the journal or publication, e.g., ApJ.\n",
    "body* - the full text content of the article\n",
    "citation_count - number of citations the item has received\n",
    "copyright - the copyright applied to the article\n",
    "data - the list of sources that have data related to this bibcode\n",
    "date - the machine-readable version of pubdate, useful for sorting\n",
    "database - database the record is associated with (astronomy, physics, or general). By default, all three databases are searched; to limit to astronomy articles, add fq=database:astronomy to the URL\n",
    "doi- the digital object identifier of the article\n",
    "doctype - the type of document it is (see here for a list of doctypes)\n",
    "first_author - the first author of the article\n",
    "grant - the list of grant IDs and agencies noted within an article\n",
    "id - a non-persistent unique integer for this record, used for fast look-up of a document\n",
    "identifier - an array of alternative identifiers for the record. May contain alternate bibcodes, DOIs and/or arxiv ids.\n",
    "indexstamp - time at which the document was (last) indexed\n",
    "issue - issue the record appeared in\n",
    "keyword - an array of normalized and un-normalized keyword values associated with the record\n",
    "lang* - the language of the article's title\n",
    "orcid_pub - ORCiD iDs supplied by publishers\n",
    "orcid_user - ORCiD iDs supplied by knonwn users in the ADS\n",
    "orcid_other - ORCiD iDs supplied by anonymous users in the ADS\n",
    "page - starting page\n",
    "property - an array of miscellaneous flags associated with the record (see here for a list of properties\n",
    "pub - the canonical name of the publication the record appeared in\n",
    "pubdate - publication date in the form YYYY-MM-DD (DD value will always be \"00\"). This field is stored as a human-readable string, so is useful for being returned via fl, but not for sorting (see date)\n",
    "read_count - number of times the record has been viewed within in a 90-day windows (ads and arxiv)\n",
    "title - the title of the record\n",
    "vizier - the subject tags given to the article by VizieR\n",
    "volume - volume the record appeared in\n",
    "year - the year the article was published"
   ]
  },
  {
   "cell_type": "code",
   "execution_count": null,
   "metadata": {
    "collapsed": true
   },
   "outputs": [],
   "source": []
  },
  {
   "cell_type": "code",
   "execution_count": 2,
   "metadata": {
    "ExecuteTime": {
     "end_time": "2020-10-12T22:24:44.912846Z",
     "start_time": "2020-10-12T22:24:44.908328Z"
    },
    "collapsed": true
   },
   "outputs": [],
   "source": [
    "ads.config.token='bX9G1oehABACYywsa6qKCu9bNb1E9FycyJfqMAou'\n",
    "ADS_API_TOKEN='bX9G1oehABACYywsa6qKCu9bNb1E9FycyJfqMAou'"
   ]
  },
  {
   "cell_type": "code",
   "execution_count": 3,
   "metadata": {
    "ExecuteTime": {
     "end_time": "2020-10-12T22:24:46.907615Z",
     "start_time": "2020-10-12T22:24:46.904426Z"
    },
    "collapsed": true
   },
   "outputs": [],
   "source": [
    "#papers=ads.SearchQuery(q='Changing look AGN',sort='citation_count')"
   ]
  },
  {
   "cell_type": "code",
   "execution_count": 8,
   "metadata": {
    "ExecuteTime": {
     "end_time": "2020-10-12T22:27:58.089540Z",
     "start_time": "2020-10-12T22:25:49.538033Z"
    },
    "collapsed": false
   },
   "outputs": [
    {
     "name": "stderr",
     "output_type": "stream",
     "text": [
      "/Users/brettlv/anaconda3/lib/python3.6/site-packages/ads/utils.py:31: UserWarning: You are lazy loading attributes via 'pubdate', and so are making multiple calls to the API. This will impact your overall rate limits.\n",
      "  UserWarning,\n"
     ]
    },
    {
     "name": "stdout",
     "output_type": "stream",
     "text": [
      "['Possible mechanism for multiple changing-look phenomena in active galactic nuclei'] 2020-09-00 2020A&A...641A.167S\n",
      "\n",
      "['Tracking the year-to-year variation in the spectral energy distribution of the Narrow-line Seyfert 1 Galaxy Mrk 335'] 2020-09-00 2020MNRAS.tmp.2654T\n",
      "\n",
      "['An X-Ray Luminosity-dependent \"Changing-look\" Phenomenon in UGC 3223'] 2020-09-00 2020ApJ...901....1W\n",
      "\n",
      "['Radiation Magnetohydrodynamic Simulations of Sub-Eddington accretion Flows in AGN: Origin of Soft X-ray Excess and Rapid Time Variabilities'] 2020-09-00 2020arXiv200905813I\n",
      "\n",
      "['Host galaxy properties of changing-look AGNs revealed in the MaNGA survey'] 2020-08-00 2020MNRAS.498.3985Y\n",
      "\n",
      "['Two-dimensional correlation analysis of periodicity in active galactic nuclei time series'] 2020-07-00 2020OAst...29...51K\n",
      "\n",
      "['Changing look active galactic nuclei in the MaNGA survey'] 2020-07-00 2020MNRAS.497..192H\n",
      "\n",
      "['The Destruction and Recreation of the X-Ray Corona in a Changing-look Active Galactic Nucleus'] 2020-07-00 2020ApJ...898L...1R\n",
      "\n",
      "['Probing the disk-corona systems and the broad line regions of changing-look quasars with optical and X-ray observations'] 2020-06-00 2020AAS...23612207J\n",
      "\n",
      "['Optical and X-ray discovery of the changing-look AGN IRAS 23226-3843 showing extremely broad and double-peaked Balmer profiles'] 2020-06-00 2020A&A...638A..91K\n",
      "\n",
      "['High-redshift Extreme Variability Quasars from Sloan Digital Sky Survey Multi-Epoch Spectroscopy'] 2020-06-00 2020arXiv200608645G\n",
      "\n",
      "['A flare in the optical spotted in the changing-look Seyfert NGC 3516'] 2020-06-00 2020A&A...638A..13I\n",
      "\n",
      "['Suspended and Restored Activities of a Nearby Supermassive Black Hole'] 2020-06-00 2020AJ....159..245W\n",
      "\n",
      "['Chaotically magnetized atmosphere with dust'] 2020-05-00 2020MNRAS.496.4108S\n",
      "\n",
      "['Large scale Active Galactic Nuclei monitoring for Changing Looks'] 2020-04-00 2020bugm.conf...40H\n",
      "\n",
      "['Tracking the state transitions in changing-look active galactic nuclei through their polarized-light echoes'] 2020-04-00 2020A&A...636A..23M\n",
      "\n",
      "['The relationship between X-ray and optical absorbers in active galactic nuclei'] 2020-03-00 2020MNRAS.493..930J\n",
      "\n",
      "['Changing look quasars from tidal disruption flares'] 2020-03-00 2020arXiv200307365P\n",
      "\n",
      "['X-Ray Spectral Shape Variation in Changing-look Seyfert Galaxy SDSS J155258+273728'] 2020-02-00 2020ApJ...890L..29A\n",
      "\n",
      "['Comparing Black Holes Large and Small'] 2020-02-00 2020nova.pres.6188K\n",
      "\n",
      "['Rapid luminosity decline and subsequent reformation of the innermost dust distribution in the changing-look AGN Mrk 590'] 2020-02-00 2020MNRAS.491.4615K\n",
      "\n",
      "['Initial Results from a Systematic Search for Changing-look Active Galactic Nuclei Selected via Mid-infrared Variability'] 2020-01-00 2020ApJ...889...46S\n",
      "\n",
      "['Spectral changes and BLR kinematics of eruptive changing-look AGN'] 2020-01-00 2020CoSka..50..318O\n",
      "\n",
      "[\"Revisiting old (AGN) friends -- what's changed in their spectral looks\"] 2020-01-00 2020arXiv200104681W\n",
      "\n",
      "['Understanding Broad Mg II Variability in Quasars with Photoionization: Implications for Reverberation Mapping and Changing-look Quasars'] 2020-01-00 2020ApJ...888...58G\n",
      "\n",
      "['From Einstein to Chandra: Dramatic long-term X-ray variability in AGNs'] 2020-01-00 2020AAS...23530433G\n",
      "\n",
      "['Evidence for changing-look AGNs is caused by change of accretion mode'] 2019-12-00 2019arXiv191203972L\n",
      "\n",
      "['Two New “Turn-off” Changing-look Active Galactic Nuclei and Implication on “Partially Obscured” AGNs'] 2019-12-00 2019ApJ...887...15W\n",
      "\n",
      "['An Unusual Mid-infrared Flare in a Type 2 AGN: An Obscured Turning-on AGN or Tidal Disruption Event?'] 2019-11-00 2019ApJ...885..110Y\n",
      "\n",
      "['SDSS J0159 as an outlier in the M<SUB>BH</SUB>-σ space: further clues to support a central tidal disruption event?'] 2019-11-00 2019MNRAS.490L..81Z\n",
      "\n",
      "['Discovery of an Mg II Changing-look Active Galactic Nucleus and Its Implications for a Unification Sequence of Changing-look Active Galactic Nuclei'] 2019-10-00 2019ApJ...883L..44G\n",
      "\n",
      "['A Forward Modeling Approach to AGN Variability--Method Description and Early Applications'] 2019-10-00 2019ApJ...883..139S\n",
      "\n",
      "['The Analogous Structure of Accretion Flows in Supermassive and Stellar Mass Black Holes: New Insights from Faded Changing-look Quasars'] 2019-09-00 2019ApJ...883...76R\n",
      "\n",
      "['1ES 1927+654: An AGN Caught Changing Look on a Timescale of Months'] 2019-09-00 2019ApJ...883...94T\n",
      "\n",
      "['A Wind-based Unification Model for NGC 5548: Spectral Holidays, Nondisk Emission, and Implications for Changing-look Quasars'] 2019-09-00 2019ApJ...882L..30D\n",
      "\n",
      "['A New Class of Changing-look LINERs'] 2019-09-00 2019ApJ...883...31F\n",
      "\n",
      "['Tracing the AGN/X-ray Binary Analogy with Light Curves of Individual Changing-Look AGN'] 2019-09-00 2019arXiv190904676R\n",
      "\n",
      "['A New Population of Highly Energetic Nuclear Transients'] 2019-08-00 2019IAUS..339..131K\n",
      "\n",
      "['PS1-13cbe: the rapid transition of a Seyfert 2 to a Seyfert 1'] 2019-08-00 2019MNRAS.487.4057K\n",
      "\n",
      "['MUSE observations of a changing-look AGN - I. The reappearance of the broad emission lines'] 2019-06-00 2019MNRAS.486..123R\n",
      "\n",
      "['Long-term optical spectral monitoring of a changing-look active galactic nucleus NGC 3516 - I. Continuum and broad-line flux variability'] 2019-06-00 2019MNRAS.485.4790S\n",
      "\n",
      "['Polarization of changing-look quasars'] 2019-05-00 2019A&A...625A..54H\n",
      "\n",
      "['Gemini Imaging of the Host Galaxies of Changing-look Quasars'] 2019-05-00 2019ApJ...876...75C\n",
      "\n",
      "[\"The `Big Dipper': the nature of the extreme variability of the AGN SDSS J2232-0806\"] 2019-05-00 2019MNRAS.485.2573K\n",
      "\n",
      "['Mechanism of the Changing Look phenomenon in Active Galactic Nuclei'] 2019-04-00 2019arXiv190406767S\n",
      "\n",
      "['The Analogous Structure of Accretion Flows in Supermassive and Stellar Mass Black Holes'] 2019-03-00 2019HEAD...1710644R\n",
      "\n",
      "['The ongoing transformation of Seyfert galaxy 1ES 1927+654'] 2019-03-00 2019HEAD...1710101K\n",
      "\n",
      "['Changing-look Quasar Candidates: First Results from Follow-up Spectroscopy of Highly Optically Variable Quasars'] 2019-03-00 2019ApJ...874....8M\n",
      "\n",
      "['New changing look case in NGC 1566'] 2019-02-00 2019MNRAS.483..558O\n",
      "\n",
      "['Discovery of More Changing Look Events in NGC 1566'] 2019-00-00 2019OAP....32...75O\n",
      "\n"
     ]
    }
   ],
   "source": [
    "papers_1=ads.SearchQuery(q='Changing look active galatic nuclei',sort='pubdate')\n",
    "for paper in papers_1:\n",
    "    print(paper.title,paper.pubdate,paper.bibcode)\n",
    "    #print(paper.pubdate)\n",
    "    print()"
   ]
  },
  {
   "cell_type": "code",
   "execution_count": null,
   "metadata": {
    "collapsed": true
   },
   "outputs": [],
   "source": []
  },
  {
   "cell_type": "code",
   "execution_count": null,
   "metadata": {
    "collapsed": true
   },
   "outputs": [],
   "source": []
  },
  {
   "cell_type": "code",
   "execution_count": 59,
   "metadata": {
    "ExecuteTime": {
     "end_time": "2020-09-16T22:24:33.795418Z",
     "start_time": "2020-09-16T22:24:33.789902Z"
    },
    "collapsed": false
   },
   "outputs": [],
   "source": [
    "papers_1.articles?"
   ]
  },
  {
   "cell_type": "code",
   "execution_count": 1,
   "metadata": {
    "ExecuteTime": {
     "end_time": "2019-08-20T16:47:02.118745Z",
     "start_time": "2019-08-20T16:47:00.998276Z"
    },
    "collapsed": true
   },
   "outputs": [],
   "source": [
    "import adstex"
   ]
  },
  {
   "cell_type": "code",
   "execution_count": 2,
   "metadata": {
    "ExecuteTime": {
     "end_time": "2019-08-20T16:47:03.401750Z",
     "start_time": "2019-08-20T16:47:03.396938Z"
    },
    "collapsed": false
   },
   "outputs": [],
   "source": [
    "?adstex"
   ]
  },
  {
   "cell_type": "code",
   "execution_count": null,
   "metadata": {
    "collapsed": true
   },
   "outputs": [],
   "source": []
  },
  {
   "cell_type": "code",
   "execution_count": null,
   "metadata": {
    "collapsed": true
   },
   "outputs": [],
   "source": []
  },
  {
   "cell_type": "markdown",
   "metadata": {},
   "source": [
    "https://pypi.org/project/arxiv/"
   ]
  },
  {
   "cell_type": "markdown",
   "metadata": {
    "collapsed": true
   },
   "source": [
    "https://pypi.org/project/arxiv-checker/"
   ]
  },
  {
   "cell_type": "markdown",
   "metadata": {},
   "source": [
    "# arxiv"
   ]
  },
  {
   "cell_type": "code",
   "execution_count": 29,
   "metadata": {
    "ExecuteTime": {
     "end_time": "2020-10-12T22:43:05.353429Z",
     "start_time": "2020-10-12T22:43:01.384372Z"
    },
    "collapsed": false
   },
   "outputs": [
    {
     "name": "stdout",
     "output_type": "stream",
     "text": [
      "\tChecking http://arxiv.org/list/astro-ph/new\n",
      "No results.\n"
     ]
    }
   ],
   "source": [
    "import arxivchecker #new daily\n",
    "paperstoday = arxivchecker.check_keywords('astro-ph','Changing look AGN')"
   ]
  },
  {
   "cell_type": "code",
   "execution_count": 30,
   "metadata": {
    "ExecuteTime": {
     "end_time": "2020-10-12T22:43:09.718403Z",
     "start_time": "2020-10-12T22:43:05.355876Z"
    },
    "collapsed": false
   },
   "outputs": [
    {
     "name": "stdout",
     "output_type": "stream",
     "text": [
      "\tChecking http://arxiv.org/list/astro-ph/new\n",
      "No results.\n"
     ]
    }
   ],
   "source": [
    "paperstoday = arxivchecker.check_keywords('astro-ph','Changing look')\n",
    "paperstoday "
   ]
  },
  {
   "cell_type": "code",
   "execution_count": 26,
   "metadata": {
    "ExecuteTime": {
     "end_time": "2020-10-12T22:41:46.909537Z",
     "start_time": "2020-10-12T22:41:46.902812Z"
    },
    "collapsed": false
   },
   "outputs": [],
   "source": [
    "arxiv?"
   ]
  },
  {
   "cell_type": "code",
   "execution_count": 33,
   "metadata": {
    "ExecuteTime": {
     "end_time": "2020-10-13T08:52:23.300820Z",
     "start_time": "2020-10-13T08:52:21.063192Z"
    },
    "collapsed": false
   },
   "outputs": [
    {
     "name": "stderr",
     "output_type": "stream",
     "text": [
      "HTTP Error 400 in query\n"
     ]
    }
   ],
   "source": [
    "import arxiv#query num \n",
    "papers_arxiv=arxiv.query(query=\"Changing look\",max_results=1000,sort_by=\"pubdate\",sort_order=\"descending\",)"
   ]
  },
  {
   "cell_type": "code",
   "execution_count": 32,
   "metadata": {
    "ExecuteTime": {
     "end_time": "2020-10-12T22:43:16.455952Z",
     "start_time": "2020-10-12T22:43:16.450603Z"
    },
    "collapsed": false
   },
   "outputs": [],
   "source": [
    "import datetime\n",
    "for i in papers_arxiv:\n",
    "    if datetime.datetime.strptime(i['published'], \"%Y-%m-%dT%H:%M:%SZ\").year>2019:\n",
    "        if (i['title'].find('changing') + i['title'].find('Changing')>-1):\n",
    "            print(i['title'])\n",
    "            print(i['authors'])\n",
    "            print(i['pdf_url'],'\\n')"
   ]
  },
  {
   "cell_type": "code",
   "execution_count": null,
   "metadata": {
    "collapsed": true
   },
   "outputs": [],
   "source": []
  }
 ],
 "metadata": {
  "kernelspec": {
   "display_name": "Python 3",
   "language": "python",
   "name": "python3"
  },
  "language_info": {
   "codemirror_mode": {
    "name": "ipython",
    "version": 3
   },
   "file_extension": ".py",
   "mimetype": "text/x-python",
   "name": "python",
   "nbconvert_exporter": "python",
   "pygments_lexer": "ipython3",
   "version": "3.6.0"
  },
  "latex_envs": {
   "LaTeX_envs_menu_present": true,
   "autocomplete": true,
   "bibliofile": "biblio.bib",
   "cite_by": "apalike",
   "current_citInitial": 1,
   "eqLabelWithNumbers": true,
   "eqNumInitial": 1,
   "hotkeys": {
    "equation": "Ctrl-E",
    "itemize": "Ctrl-I"
   },
   "labels_anchors": false,
   "latex_user_defs": false,
   "report_style_numbering": false,
   "user_envs_cfg": false
  },
  "toc": {
   "nav_menu": {},
   "number_sections": true,
   "sideBar": true,
   "skip_h1_title": false,
   "toc_cell": false,
   "toc_position": {},
   "toc_section_display": "block",
   "toc_window_display": false
  }
 },
 "nbformat": 4,
 "nbformat_minor": 2
}
