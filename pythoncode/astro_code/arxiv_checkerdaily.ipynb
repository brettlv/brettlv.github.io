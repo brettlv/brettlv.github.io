{
 "cells": [
  {
   "cell_type": "code",
   "execution_count": 2,
   "metadata": {
    "ExecuteTime": {
     "end_time": "2020-08-24T21:22:22.381618Z",
     "start_time": "2020-08-24T21:22:21.257853Z"
    },
    "scrolled": false
   },
   "outputs": [],
   "source": [
    "import arxivchecker #new daily\n"
   ]
  },
  {
   "cell_type": "code",
   "execution_count": 7,
   "metadata": {
    "ExecuteTime": {
     "end_time": "2020-04-22T11:42:09.733420Z",
     "start_time": "2020-04-22T11:42:09.725170Z"
    },
    "collapsed": true
   },
   "outputs": [],
   "source": [
    "?arxivchecker.scrape_arxiv"
   ]
  },
  {
   "cell_type": "code",
   "execution_count": 8,
   "metadata": {
    "ExecuteTime": {
     "end_time": "2020-04-22T11:42:28.795390Z",
     "start_time": "2020-04-22T11:42:28.790410Z"
    },
    "collapsed": true
   },
   "outputs": [],
   "source": [
    "?arxivchecker.check_keywords"
   ]
  },
  {
   "cell_type": "code",
   "execution_count": 10,
   "metadata": {
    "ExecuteTime": {
     "end_time": "2019-12-09T22:30:35.773841Z",
     "start_time": "2019-12-09T22:26:46.600594Z"
    }
   },
   "outputs": [
    {
     "name": "stdout",
     "output_type": "stream",
     "text": [
      "\tChecking http://arxiv.org/list/astro-ph/new\n",
      "Found 22 papers\n",
      "10 hits\n",
      "['agn']\n",
      "\n",
      "%%%%%%%%%%%%%%%%%%%%%%%%%%%%%%%%%%%%%%%%%%%%%%%%%%%%%%%%%%%%%%%%%%%%%%%%%%%%%%%%%%%%%%%%%%%%%%\n",
      "%%%                                                                                        %%%\n",
      "%%%    Distortion of Magnetic Fields in a Starless Core VI: Application of Flux  Freezi-    %%%\n",
      "%%%    ng Model and Core Formation of FeSt 1-457                                           %%%\n",
      "%%%                                                                                        %%%\n",
      "%%%    http://arxiv.org/abs/1912.02935                                                     %%%\n",
      "%%%                                                                                        %%%\n",
      "%%%    Ryo Kandori, Kohji Tomisaka, Masao Saito, Motohide Tamura, Tomoaki Matsumoto, Ry-    %%%\n",
      "%%%    o Tazaki, Tetsuya Nagata, Nobuhiko Kusakabe, Yasushi Nakajima, Jungmi Kwon, Taka-    %%%\n",
      "%%%    hiro Nagayama, & Ken'ichi Tatematsu                                                 %%%\n",
      "%%%                                                                                        %%%\n",
      "%%%%%%%%%%%%%%%%%%%%%%%%%%%%%%%%%%%%%%%%%%%%%%%%%%%%%%%%%%%%%%%%%%%%%%%%%%%%%%%%%%%%%%%%%%%%%%\n",
      "\n",
      "\n",
      "9 hits\n",
      "['agn']\n",
      "\n",
      "%%%%%%%%%%%%%%%%%%%%%%%%%%%%%%%%%%%%%%%%%%%%%%%%%%%%%%%%%%%%%%%%%%%%%%%%%%%%%%%%%%%%%%%%%%%%%%\n",
      "%%%                                                                                        %%%\n",
      "%%%    The photon time delay in magnetized vacuum magnetosphere                            %%%\n",
      "%%%                                                                                        %%%\n",
      "%%%    http://arxiv.org/abs/1912.02904                                                     %%%\n",
      "%%%                                                                                        %%%\n",
      "%%%    A.W. Romero Jorge, E. Rodríguez Querts, H. Pérez Rojas, A. Pérez Martínez, L. Cr-    %%%\n",
      "%%%    uz Rodríguez, G. Piccinelli Bocchi, & J. A. Rueda                                   %%%\n",
      "%%%                                                                                        %%%\n",
      "%%%%%%%%%%%%%%%%%%%%%%%%%%%%%%%%%%%%%%%%%%%%%%%%%%%%%%%%%%%%%%%%%%%%%%%%%%%%%%%%%%%%%%%%%%%%%%\n",
      "\n",
      "\n",
      "8 hits\n",
      "['agn']\n",
      "\n",
      "%%%%%%%%%%%%%%%%%%%%%%%%%%%%%%%%%%%%%%%%%%%%%%%%%%%%%%%%%%%%%%%%%%%%%%%%%%%%%%%%%%%%%%%%%%%%%%\n",
      "%%%                                                                                        %%%\n",
      "%%%    Magnetic field kinks and folds in the solar wind                                    %%%\n",
      "%%%                                                                                        %%%\n",
      "%%%    http://arxiv.org/abs/1912.03240                                                     %%%\n",
      "%%%                                                                                        %%%\n",
      "%%%    Anna Tenerani, Marco Velli, Lorenzo Matteini, Victor Réville, Chen Shi, Stuart D-    %%%\n",
      "%%%    . Bale, Justin Kasper, J. W. Bonnell, Anthony W. Case, Thierry Dudok de Wit, Kei-    %%%\n",
      "%%%    th Goetz, Peter R. Harvey, Kristopher G. Klein, Kelly Korreck, Davin Larson, Rob-    %%%\n",
      "%%%    erto Livi, Robert J. MacDowall, David M. Malaspina, Marc Pulupa, Michael Stevens-    %%%\n",
      "%%%    , & Phyllis Whittlesey                                                              %%%\n",
      "%%%                                                                                        %%%\n",
      "%%%%%%%%%%%%%%%%%%%%%%%%%%%%%%%%%%%%%%%%%%%%%%%%%%%%%%%%%%%%%%%%%%%%%%%%%%%%%%%%%%%%%%%%%%%%%%\n",
      "\n",
      "\n",
      "8 hits\n",
      "['agn']\n",
      "\n",
      "%%%%%%%%%%%%%%%%%%%%%%%%%%%%%%%%%%%%%%%%%%%%%%%%%%%%%%%%%%%%%%%%%%%%%%%%%%%%%%%%%%%%%%%%%%%%%%\n",
      "%%%                                                                                        %%%\n",
      "%%%    The BAT AGN Spectroscopic Survey -- XVIII. Searching for Supermassive  Black Hol-    %%%\n",
      "%%%    e Binaries in the X-rays                                                            %%%\n",
      "%%%                                                                                        %%%\n",
      "%%%    http://arxiv.org/abs/1912.02837                                                     %%%\n",
      "%%%                                                                                        %%%\n",
      "%%%    Tingting Liu, Michael Koss, Laura Blecha, Claudio Ricci, Benny Trakhtenbrot, Ric-    %%%\n",
      "%%%    hard Mushotzky, Fiona Harrison, Kohei Ichikawa, Darshan Kakkad, Kyuseok Oh, Mere-    %%%\n",
      "%%%    dith Powell, George C. Privon, Kevin Schawinski, T. Taro Shimizu, Krista Lynne S-    %%%\n",
      "%%%    mith, Daniel Stern, Ezequiel Treister, & C. Megan Urry                              %%%\n",
      "%%%                                                                                        %%%\n",
      "%%%%%%%%%%%%%%%%%%%%%%%%%%%%%%%%%%%%%%%%%%%%%%%%%%%%%%%%%%%%%%%%%%%%%%%%%%%%%%%%%%%%%%%%%%%%%%\n",
      "\n",
      "\n",
      "6 hits\n",
      "['agn']\n",
      "\n",
      "%%%%%%%%%%%%%%%%%%%%%%%%%%%%%%%%%%%%%%%%%%%%%%%%%%%%%%%%%%%%%%%%%%%%%%%%%%%%%%%%%%%%%%%%%%%%%%\n",
      "%%%                                                                                        %%%\n",
      "%%%    Global Simulations of the Vertical Shear Instability with Non-ideal  Magnetohydr-    %%%\n",
      "%%%    odynamical Effects                                                                  %%%\n",
      "%%%                                                                                        %%%\n",
      "%%%    http://arxiv.org/abs/1912.02941                                                     %%%\n",
      "%%%                                                                                        %%%\n",
      "%%%    Can Cui, & Xue-Ning Bai                                                             %%%\n",
      "%%%                                                                                        %%%\n",
      "%%%%%%%%%%%%%%%%%%%%%%%%%%%%%%%%%%%%%%%%%%%%%%%%%%%%%%%%%%%%%%%%%%%%%%%%%%%%%%%%%%%%%%%%%%%%%%\n",
      "\n",
      "\n",
      "5 hits\n",
      "['agn']\n",
      "\n",
      "%%%%%%%%%%%%%%%%%%%%%%%%%%%%%%%%%%%%%%%%%%%%%%%%%%%%%%%%%%%%%%%%%%%%%%%%%%%%%%%%%%%%%%%%%%%%%%\n",
      "%%%                                                                                        %%%\n",
      "%%%    Two Ultra-Faint Milky Way Stellar Systems Discovered in Early Data from  the DEC-    %%%\n",
      "%%%    am Local Volume Exploration Survey                                                  %%%\n",
      "%%%                                                                                        %%%\n",
      "%%%    http://arxiv.org/abs/1912.03301                                                     %%%\n",
      "%%%                                                                                        %%%\n",
      "%%%    S. Mau, W. Cerny, A. B. Pace, Y. Choi, A. Drlica-Wagner, L. Santana-Silva, A. H.-    %%%\n",
      "%%%     Riley, D. Erkal, G. S. Stringfellow, M. Adamów, J. L. Carlin, R. A. Gruendl, D.-    %%%\n",
      "%%%     Hernandez-Lang, N. Kuropatkin, T. S. Li, C. E. Martínez-Vázquez, E. Morganson, -    %%%\n",
      "%%%    B. Mutlu-Pakdil, E. H. Neilsen, D. L. Nidever, K. A. G. Olsen, D. J. Sand, E. J.-    %%%\n",
      "%%%     Tollerud, D. L. Tucker, B. Yanny, A. Zenteno, S. Allam, W. A. Barkhouse, K. Bec-    %%%\n",
      "%%%    htol, E. F. Bell, P. Balaji, D. Crnojević, J. Esteves, P. S. Ferguson, C. Gallar-    %%%\n",
      "%%%    t, A. K. Hughes, D. J. James, P. Jethwa, L. C. Johnson, K. Kuehn, S. Majewski, Y-    %%%\n",
      "%%%    .-Y. Mao, P. Massana, M. McNanna, A. Monachesi, E. O. Nadler, N. E. D. Noël, A. -    %%%\n",
      "%%%    Palmese, F. Paz-Chinchon, A. Pieres, J. Sanchez, N. Shipp, J. D. Simon, M. Soare-    %%%\n",
      "%%%    s-Santos, K. Tavangar, R. P. van der Marel, & A. K. Vivas, et al.                   %%%\n",
      "%%%                                                                                        %%%\n",
      "%%%%%%%%%%%%%%%%%%%%%%%%%%%%%%%%%%%%%%%%%%%%%%%%%%%%%%%%%%%%%%%%%%%%%%%%%%%%%%%%%%%%%%%%%%%%%%\n",
      "\n",
      "\n",
      "4 hits\n",
      "['agn']\n",
      "\n",
      "%%%%%%%%%%%%%%%%%%%%%%%%%%%%%%%%%%%%%%%%%%%%%%%%%%%%%%%%%%%%%%%%%%%%%%%%%%%%%%%%%%%%%%%%%%%%%%\n",
      "%%%                                                                                        %%%\n",
      "%%%    The Final SDSS-IV/SPIDERS X-ray Point Source Spectroscopic Catalogue                %%%\n",
      "%%%                                                                                        %%%\n",
      "%%%    http://arxiv.org/abs/1912.03068                                                     %%%\n",
      "%%%                                                                                        %%%\n",
      "%%%    J. Comparat, A. Merloni, T. Dwelly, M. Salvato, A. Schwope, D. Coffey, J. Wolf, -    %%%\n",
      "%%%    R. Arcodia, T. Liu, J. Buchner, K. Nandra, A. Georgakakis, N. Clerc, M. Brusa, J-    %%%\n",
      "%%%    . R. Brownstein, & D. P. Schneider                                                  %%%\n",
      "%%%                                                                                        %%%\n",
      "%%%%%%%%%%%%%%%%%%%%%%%%%%%%%%%%%%%%%%%%%%%%%%%%%%%%%%%%%%%%%%%%%%%%%%%%%%%%%%%%%%%%%%%%%%%%%%\n",
      "\n",
      "\n",
      "4 hits\n",
      "['agn']\n",
      "\n",
      "%%%%%%%%%%%%%%%%%%%%%%%%%%%%%%%%%%%%%%%%%%%%%%%%%%%%%%%%%%%%%%%%%%%%%%%%%%%%%%%%%%%%%%%%%%%%%%\n",
      "%%%                                                                                        %%%\n",
      "%%%    Switchbacks in the near-Sun magnetic field: long memory and impact on  the turbu-    %%%\n",
      "%%%    lence cascade                                                                       %%%\n",
      "%%%                                                                                        %%%\n",
      "%%%    http://arxiv.org/abs/1912.02856                                                     %%%\n",
      "%%%                                                                                        %%%\n",
      "%%%    Thierry Dudok de Wit, Vladimir V. Krasnoselskikh, Stuart D. Bale, John W. Bonnel-    %%%\n",
      "%%%    l, Trevor A. Bowen, Christopher H. K. Chen, Clara Froment, Keith Goetz, Peter R.-    %%%\n",
      "%%%     Harvey, Vamsee Krishna Jagarlamudi, Andrea Larosa, Robert J. MacDowall, David M-    %%%\n",
      "%%%    . Malaspina, William H. Matthaeus, Marc Pulupa, Marco Velli, & Phyllis L. Whittl-    %%%\n",
      "%%%    esey                                                                                %%%\n",
      "%%%                                                                                        %%%\n",
      "%%%%%%%%%%%%%%%%%%%%%%%%%%%%%%%%%%%%%%%%%%%%%%%%%%%%%%%%%%%%%%%%%%%%%%%%%%%%%%%%%%%%%%%%%%%%%%\n",
      "\n",
      "\n",
      "3 hits\n",
      "['agn']\n",
      "\n",
      "%%%%%%%%%%%%%%%%%%%%%%%%%%%%%%%%%%%%%%%%%%%%%%%%%%%%%%%%%%%%%%%%%%%%%%%%%%%%%%%%%%%%%%%%%%%%%%\n",
      "%%%                                                                                        %%%\n",
      "%%%    The ALMA Frontier Fields survey V: ALMA Stacking of Lyman-Break Galaxies  in Abe-    %%%\n",
      "%%%    ll 2744, Abell 370, Abell S1063, MACSJ0416.1-2403 and MACSJ1149.5+2223              %%%\n",
      "%%%                                                                                        %%%\n",
      "%%%    http://arxiv.org/abs/1912.02916                                                     %%%\n",
      "%%%                                                                                        %%%\n",
      "%%%    R. Carvajal, F. E. Bauer, R. J. Bouwens, P. A. Oesch, J. González-López, T. Angu-    %%%\n",
      "%%%    ita, M. Aravena, R. Demarco, L. Guaita, L. Infante, S. Kim, R. Kneissl, A. M. Ko-    %%%\n",
      "%%%    ekemoer, H. Messias, E. Treister, E. Villard, A. Zitrin, & P. Troncoso              %%%\n",
      "%%%                                                                                        %%%\n",
      "%%%%%%%%%%%%%%%%%%%%%%%%%%%%%%%%%%%%%%%%%%%%%%%%%%%%%%%%%%%%%%%%%%%%%%%%%%%%%%%%%%%%%%%%%%%%%%\n",
      "\n",
      "\n",
      "3 hits\n",
      "['agn']\n",
      "\n",
      "%%%%%%%%%%%%%%%%%%%%%%%%%%%%%%%%%%%%%%%%%%%%%%%%%%%%%%%%%%%%%%%%%%%%%%%%%%%%%%%%%%%%%%%%%%%%%%\n",
      "%%%                                                                                        %%%\n",
      "%%%    No significant evolution of relations between Black hole mass and Galaxy  total -    %%%\n",
      "%%%    stellar mass up to z~2.5                                                            %%%\n",
      "%%%                                                                                        %%%\n",
      "%%%    http://arxiv.org/abs/1912.02824                                                     %%%\n",
      "%%%                                                                                        %%%\n",
      "%%%    Hyewon Suh, Francesca Civano, Benny Trakhtenbrot, Francesco Shankar, Guenther Ha-    %%%\n",
      "%%%    singer, David B. Sanders, & Viola Allevato                                          %%%\n",
      "%%%                                                                                        %%%\n",
      "%%%%%%%%%%%%%%%%%%%%%%%%%%%%%%%%%%%%%%%%%%%%%%%%%%%%%%%%%%%%%%%%%%%%%%%%%%%%%%%%%%%%%%%%%%%%%%\n",
      "\n",
      "\n",
      "2 hits\n",
      "['agn']\n",
      "\n",
      "%%%%%%%%%%%%%%%%%%%%%%%%%%%%%%%%%%%%%%%%%%%%%%%%%%%%%%%%%%%%%%%%%%%%%%%%%%%%%%%%%%%%%%%%%%%%%%\n",
      "%%%                                                                                        %%%\n",
      "%%%    Milky Way Satellite Census -- II. Galaxy-Halo Connection Constraints  Including -    %%%\n",
      "%%%    the Impact of the Large Magellanic Cloud                                            %%%\n",
      "%%%                                                                                        %%%\n",
      "%%%    http://arxiv.org/abs/1912.03303                                                     %%%\n",
      "%%%                                                                                        %%%\n",
      "%%%    E. O. Nadler, R. H. Wechsler, K. Bechtol, Y. -Y. Mao, G. Green, A. Drlica-Wagner-    %%%\n",
      "%%%    , M. McNanna, S. Mau, A. B. Pace, J. D. Simon, A. Kravtsov, S. Dodelson, T. S. L-    %%%\n",
      "%%%    i, A. H. Riley, M. Y. Wang, T. M. C. Abbott, M. Aguena, S. Allam, J. Annis, S. A-    %%%\n",
      "%%%    vila, G. M. Bernstein, E. Bertin, D. Brooks, D. L. Burke, A. Carnero Rosell, M. -    %%%\n",
      "%%%    Carrasco Kind, J. Carretero, M. Costanzi, L. N. da Costa, J. De Vicente, S. Desa-    %%%\n",
      "%%%    i, A. E. Evrard, B. Flaugher, P. Fosalba, J. Frieman, J. García-Bellido, E. Gazt-    %%%\n",
      "%%%    anaga, D. W. Gerdes, D. Gruen, J. Gschwend, G. Gutierrez, W. G. Hartley, S. R. H-    %%%\n",
      "%%%    inton, K. Honscheid, E. Krause, K. Kuehn, N. Kuropatkin, O. Lahav, M. A. G. Maia-    %%%\n",
      "%%%    , J. L. Marshall, F. Menanteau, R. Miquel, A. Palmese, F. Paz-Chinchón, A. A. Pl-    %%%\n",
      "%%%    azas, E. Sanchez, B. Santiago, V. Scarpine, S. Serrano, M. Smith, & M. Soares-Sa-    %%%\n",
      "%%%    ntos, et al.                                                                        %%%\n",
      "%%%                                                                                        %%%\n",
      "%%%%%%%%%%%%%%%%%%%%%%%%%%%%%%%%%%%%%%%%%%%%%%%%%%%%%%%%%%%%%%%%%%%%%%%%%%%%%%%%%%%%%%%%%%%%%%\n",
      "\n",
      "\n",
      "2 hits\n",
      "['agn']\n",
      "\n",
      "%%%%%%%%%%%%%%%%%%%%%%%%%%%%%%%%%%%%%%%%%%%%%%%%%%%%%%%%%%%%%%%%%%%%%%%%%%%%%%%%%%%%%%%%%%%%%%\n",
      "%%%                                                                                        %%%\n",
      "%%%    Milky Way Satellite Census -- I. The Observational Selection Function  for Milky-    %%%\n",
      "%%%     Way Satellites in DES Y3 and Pan-STARRS DR1                                        %%%\n",
      "%%%                                                                                        %%%\n",
      "%%%    http://arxiv.org/abs/1912.03302                                                     %%%\n",
      "%%%                                                                                        %%%\n",
      "%%%    A. Drlica-Wagner, K. Bechtol, S. Mau, M. McNanna, E. O. Nadler, A. B. Pace, T. S-    %%%\n",
      "%%%    . Li, A. Pieres, E. Rozo, J. D. Simon, A. R. Walker, R. H. Wechsler, T. M. C. Ab-    %%%\n",
      "%%%    bott, S. Allam, J. Annis, E. Bertin, D. Brooks, D. L. Burke, A. Carnero Rosell, -    %%%\n",
      "%%%    M. Carrasco Kind, J. Carretero, M. Costanzi, L. N. da Costa, J. De Vicente, S. D-    %%%\n",
      "%%%    esai, H. T. Diehl, P. Doel, T. F. Eifler, S. Everett, B. Flaugher, J. Frieman, J-    %%%\n",
      "%%%    . Garcia-Bellido, E. Gaztanaga, D. Gruen, R. A. Gruendl, J. Gschwend, G. Gutierr-    %%%\n",
      "%%%    ez, K. Honscheid, D. J. James, E. Krause, K. Kuehn, N. Kuropatkin, O. Lahav, M. -    %%%\n",
      "%%%    A. G. Maia, J. L. Marshall, P. Melchior, F. Menanteau, R. Miquel, A. Palmese, A.-    %%%\n",
      "%%%     A. Plazas, E. Sanchez, V. Scarpine, M. Schubnell, S. Serrano, I. Sevilla-Noarbe-    %%%\n",
      "%%%    , M. Smith, E. Suchyta, & G. Tarle                                                  %%%\n",
      "%%%                                                                                        %%%\n",
      "%%%%%%%%%%%%%%%%%%%%%%%%%%%%%%%%%%%%%%%%%%%%%%%%%%%%%%%%%%%%%%%%%%%%%%%%%%%%%%%%%%%%%%%%%%%%%%\n",
      "\n",
      "\n",
      "2 hits\n",
      "['agn']\n",
      "\n",
      "%%%%%%%%%%%%%%%%%%%%%%%%%%%%%%%%%%%%%%%%%%%%%%%%%%%%%%%%%%%%%%%%%%%%%%%%%%%%%%%%%%%%%%%%%%%%%%\n",
      "%%%                                                                                        %%%\n",
      "%%%    CODEX clusters. The Survey, the Catalog, and Cosmology of the X-ray  Luminosity -    %%%\n",
      "%%%    Function                                                                            %%%\n",
      "%%%                                                                                        %%%\n",
      "%%%    http://arxiv.org/abs/1912.03262                                                     %%%\n",
      "%%%                                                                                        %%%\n",
      "%%%    A. Finoguenov, E. Rykoff, N. Clerc, M. Costanzi, S. Hagstotz, J. Ider Chitham, K-    %%%\n",
      "%%%    . Kiiveri, C. C. Kirkpatrick, R. Capasso, J. Comparat, S. Damsted, R. Dupke, G. -    %%%\n",
      "%%%    Erfanianfar, J. Patrick Henry, F. Kaefer, J-P. Kneib, V. Lindholm, E. Rozo, L. v-    %%%\n",
      "%%%    an Waerbeke, & J. Weller                                                            %%%\n",
      "%%%                                                                                        %%%\n",
      "%%%%%%%%%%%%%%%%%%%%%%%%%%%%%%%%%%%%%%%%%%%%%%%%%%%%%%%%%%%%%%%%%%%%%%%%%%%%%%%%%%%%%%%%%%%%%%\n",
      "\n",
      "\n",
      "2 hits\n",
      "['agn']\n",
      "\n",
      "%%%%%%%%%%%%%%%%%%%%%%%%%%%%%%%%%%%%%%%%%%%%%%%%%%%%%%%%%%%%%%%%%%%%%%%%%%%%%%%%%%%%%%%%%%%%%%\n",
      "%%%                                                                                        %%%\n",
      "%%%    Seed Population Pre-Conditioning and Acceleration Observed by Parker  Solar Prob-    %%%\n",
      "%%%    e                                                                                   %%%\n",
      "%%%                                                                                        %%%\n",
      "%%%    http://arxiv.org/abs/1912.02888                                                     %%%\n",
      "%%%                                                                                        %%%\n",
      "%%%    N. A. Schwadron, S. Bale, J. Bonnell, A. Case, E. R. Christian, C. M. S. Cohen, -    %%%\n",
      "%%%    A. C. Cummings, A. J. Davis, R. Dudok de Wit, W. de Wet, M. I. Desai, C. J. Joyc-    %%%\n",
      "%%%    e, K. Goetz, J. Giacalone, M. Gorby, P. Harvey, B. Heber, M. E. Hill, M. Karavol-    %%%\n",
      "%%%    os, J. C. Kasper, K. Korreck, D. Larson, R. Livi, R. A. Leske, O. Malandraki, R.-    %%%\n",
      "%%%     MacDowall, D. Malaspina, W. H. Matthaeus, D. J. McComas, R. L. McNutt Jr., R. A-    %%%\n",
      "%%%    . Mewaldt, D. G. Mitchell, L. Mays, J. T. Niehof, D. Odstrcil, M. Pulupa, B. Pod-    %%%\n",
      "%%%    uval, J. S. Rankin, E. C. Roelof, M. Stevens, E. C. Stone, J. R. Szalay, M. E. W-    %%%\n",
      "%%%    iedenbeck, R. Winslow, & P. Whittlesey                                              %%%\n",
      "%%%                                                                                        %%%\n",
      "%%%%%%%%%%%%%%%%%%%%%%%%%%%%%%%%%%%%%%%%%%%%%%%%%%%%%%%%%%%%%%%%%%%%%%%%%%%%%%%%%%%%%%%%%%%%%%\n",
      "\n",
      "\n",
      "2 hits\n",
      "['agn']\n",
      "\n",
      "%%%%%%%%%%%%%%%%%%%%%%%%%%%%%%%%%%%%%%%%%%%%%%%%%%%%%%%%%%%%%%%%%%%%%%%%%%%%%%%%%%%%%%%%%%%%%%\n",
      "%%%                                                                                        %%%\n",
      "%%%    Crystallization of the outer crust of a non-accreting neutron star                  %%%\n",
      "%%%                                                                                        %%%\n",
      "%%%    http://arxiv.org/abs/1912.02849                                                     %%%\n",
      "%%%                                                                                        %%%\n",
      "%%%    A. F. Fantina, S. De Ridder, N. Chamel, & F. Gulminelli                             %%%\n",
      "%%%                                                                                        %%%\n",
      "%%%%%%%%%%%%%%%%%%%%%%%%%%%%%%%%%%%%%%%%%%%%%%%%%%%%%%%%%%%%%%%%%%%%%%%%%%%%%%%%%%%%%%%%%%%%%%\n",
      "\n",
      "\n",
      "1 hit\n",
      "['agn']\n",
      "\n",
      "%%%%%%%%%%%%%%%%%%%%%%%%%%%%%%%%%%%%%%%%%%%%%%%%%%%%%%%%%%%%%%%%%%%%%%%%%%%%%%%%%%%%%%%%%%%%%%\n",
      "%%%                                                                                        %%%\n",
      "%%%    VLT/XShooter spectroscopy of Lyman Break Analogs: direct method O/H  abundances -    %%%\n",
      "%%%    and nitrogen enhancements                                                           %%%\n",
      "%%%                                                                                        %%%\n",
      "%%%    http://arxiv.org/abs/1912.03239                                                     %%%\n",
      "%%%                                                                                        %%%\n",
      "%%%    M. Loaiza-Agudelo, R.A. Overzier, & T.M. Heckman                                    %%%\n",
      "%%%                                                                                        %%%\n",
      "%%%%%%%%%%%%%%%%%%%%%%%%%%%%%%%%%%%%%%%%%%%%%%%%%%%%%%%%%%%%%%%%%%%%%%%%%%%%%%%%%%%%%%%%%%%%%%\n",
      "\n",
      "\n",
      "1 hit\n",
      "['agn']\n",
      "\n",
      "%%%%%%%%%%%%%%%%%%%%%%%%%%%%%%%%%%%%%%%%%%%%%%%%%%%%%%%%%%%%%%%%%%%%%%%%%%%%%%%%%%%%%%%%%%%%%%\n",
      "%%%                                                                                        %%%\n",
      "%%%    Mass and spin constraint on black holes in long GRBs                                %%%\n",
      "%%%                                                                                        %%%\n",
      "%%%    http://arxiv.org/abs/1912.03116                                                     %%%\n",
      "%%%                                                                                        %%%\n",
      "%%%    Ishika Palit, Agnieszka Janiuk, & Petra Sukova                                      %%%\n",
      "%%%                                                                                        %%%\n",
      "%%%%%%%%%%%%%%%%%%%%%%%%%%%%%%%%%%%%%%%%%%%%%%%%%%%%%%%%%%%%%%%%%%%%%%%%%%%%%%%%%%%%%%%%%%%%%%\n",
      "\n",
      "\n",
      "1 hit\n",
      "['agn']\n",
      "\n",
      "%%%%%%%%%%%%%%%%%%%%%%%%%%%%%%%%%%%%%%%%%%%%%%%%%%%%%%%%%%%%%%%%%%%%%%%%%%%%%%%%%%%%%%%%%%%%%%\n",
      "%%%                                                                                        %%%\n",
      "%%%    Enhanced Energy Transfer Rate in Solar Wind Turbulence Observed near the  Sun fr-    %%%\n",
      "%%%    om Parker Solar Probe                                                               %%%\n",
      "%%%                                                                                        %%%\n",
      "%%%    http://arxiv.org/abs/1912.02959                                                     %%%\n",
      "%%%                                                                                        %%%\n",
      "%%%    Riddhi Bandyopadhyay, M. L. Goldstein, B. A. Maruca, W. H. Matthaeus, T. N. Para-    %%%\n",
      "%%%    shar, D. Ruffolo, R. Chhiber, A. Usmanov, A. Chasapis, R. Qudsi, Stuart D. Bale,-    %%%\n",
      "%%%     J. W. Bonnell, Thierry Dudok de Wit, Keith Goetz, Peter R. Harvey, Robert J. Ma-    %%%\n",
      "%%%    cDowall, David M. Malaspina, Marc Pulupa, J.C. Kasper, K.E. Korreck, A. W. Case,-    %%%\n",
      "%%%     M. Stevens, P. Whittlesey, D. Larson, R. Livi, K.G. Klein, M. Velli, & N. Raoua-    %%%\n",
      "%%%    fi                                                                                  %%%\n",
      "%%%                                                                                        %%%\n",
      "%%%%%%%%%%%%%%%%%%%%%%%%%%%%%%%%%%%%%%%%%%%%%%%%%%%%%%%%%%%%%%%%%%%%%%%%%%%%%%%%%%%%%%%%%%%%%%\n",
      "\n",
      "\n",
      "1 hit\n",
      "['agn']\n",
      "\n",
      "%%%%%%%%%%%%%%%%%%%%%%%%%%%%%%%%%%%%%%%%%%%%%%%%%%%%%%%%%%%%%%%%%%%%%%%%%%%%%%%%%%%%%%%%%%%%%%\n",
      "%%%                                                                                        %%%\n",
      "%%%    Introducing the Search for Intermediate-mass Black-hole In Nearby Galaxy  (SIBLI-    %%%\n",
      "%%%    NG) Survey                                                                          %%%\n",
      "%%%                                                                                        %%%\n",
      "%%%    http://arxiv.org/abs/1912.02860                                                     %%%\n",
      "%%%                                                                                        %%%\n",
      "%%%    Jorge Martínez-Palomera, Paulina Lira, India Bhalla-Ladd, Francisco Förster, & R-    %%%\n",
      "%%%    ichard M. Plotkin                                                                   %%%\n",
      "%%%                                                                                        %%%\n",
      "%%%%%%%%%%%%%%%%%%%%%%%%%%%%%%%%%%%%%%%%%%%%%%%%%%%%%%%%%%%%%%%%%%%%%%%%%%%%%%%%%%%%%%%%%%%%%%\n",
      "\n",
      "\n",
      "1 hit\n",
      "['agn']\n",
      "\n",
      "%%%%%%%%%%%%%%%%%%%%%%%%%%%%%%%%%%%%%%%%%%%%%%%%%%%%%%%%%%%%%%%%%%%%%%%%%%%%%%%%%%%%%%%%%%%%%%\n",
      "%%%                                                                                        %%%\n",
      "%%%    The MUSE view of the planetary nebula NGC 3132                                      %%%\n",
      "%%%                                                                                        %%%\n",
      "%%%    http://arxiv.org/abs/1912.02847                                                     %%%\n",
      "%%%                                                                                        %%%\n",
      "%%%    Ana Monreal-Ibero, & Jeremy R. Walsh                                                %%%\n",
      "%%%                                                                                        %%%\n",
      "%%%%%%%%%%%%%%%%%%%%%%%%%%%%%%%%%%%%%%%%%%%%%%%%%%%%%%%%%%%%%%%%%%%%%%%%%%%%%%%%%%%%%%%%%%%%%%\n",
      "\n",
      "\n",
      "1 hit\n",
      "['agn']\n",
      "\n",
      "%%%%%%%%%%%%%%%%%%%%%%%%%%%%%%%%%%%%%%%%%%%%%%%%%%%%%%%%%%%%%%%%%%%%%%%%%%%%%%%%%%%%%%%%%%%%%%\n",
      "%%%                                                                                        %%%\n",
      "%%%    Spontaneous Freeze Out of Dark Matter From an Early Thermal Phase  Transition       %%%\n",
      "%%%                                                                                        %%%\n",
      "%%%    http://arxiv.org/abs/1912.02828                                                     %%%\n",
      "%%%                                                                                        %%%\n",
      "%%%    Lucien Heurtier, & Herve Partouche                                                  %%%\n",
      "%%%                                                                                        %%%\n",
      "%%%%%%%%%%%%%%%%%%%%%%%%%%%%%%%%%%%%%%%%%%%%%%%%%%%%%%%%%%%%%%%%%%%%%%%%%%%%%%%%%%%%%%%%%%%%%%\n",
      "\n",
      "\n",
      "1 hit\n",
      "['agn']\n",
      "\n",
      "%%%%%%%%%%%%%%%%%%%%%%%%%%%%%%%%%%%%%%%%%%%%%%%%%%%%%%%%%%%%%%%%%%%%%%%%%%%%%%%%%%%%%%%%%%%%%%\n",
      "%%%                                                                                        %%%\n",
      "%%%    XXL Survey groups and clusters in the Hyper Suprime-Cam Survey. Scaling  relatio-    %%%\n",
      "%%%    ns between X-ray properties and weak lensing mass                                   %%%\n",
      "%%%                                                                                        %%%\n",
      "%%%    http://arxiv.org/abs/1912.02827                                                     %%%\n",
      "%%%                                                                                        %%%\n",
      "%%%    Mauro Sereno, Keiichi Umetsu, Stefano Ettori, Dominique Eckert, Fabio Gastaldell-    %%%\n",
      "%%%    o, Paul Giles, Maggie Lieu, Ben Maughan, Nobuhiro Okabe, Mark Birkinshaw, I-Non -    %%%\n",
      "%%%    Chiu, Yutaka Fujita, Satoshi Miyazaki, David Rapetti, Elias Koulouridis, & Margu-    %%%\n",
      "%%%    erite Pierre                                                                        %%%\n",
      "%%%                                                                                        %%%\n",
      "%%%%%%%%%%%%%%%%%%%%%%%%%%%%%%%%%%%%%%%%%%%%%%%%%%%%%%%%%%%%%%%%%%%%%%%%%%%%%%%%%%%%%%%%%%%%%%\n",
      "\n",
      "\n"
     ]
    }
   ],
   "source": [
    "paperstoday = arxivchecker.check_keywords('astro-ph','AGN')"
   ]
  },
  {
   "cell_type": "code",
   "execution_count": 11,
   "metadata": {
    "ExecuteTime": {
     "end_time": "2019-12-09T22:32:25.820770Z",
     "start_time": "2019-12-09T22:30:35.775280Z"
    }
   },
   "outputs": [
    {
     "name": "stdout",
     "output_type": "stream",
     "text": [
      "\tChecking http://arxiv.org/list/?year=19&month=12&archive=astro-ph&show=1000\n",
      "\tParsing data...\n"
     ]
    },
    {
     "data": {
      "text/plain": [
       "343"
      ]
     },
     "execution_count": 11,
     "metadata": {},
     "output_type": "execute_result"
    }
   ],
   "source": [
    "astroph201912=arxivchecker.scrape_arxiv('astro-ph',year=2019,month=12,number=1000)\n",
    "len(astroph201912)"
   ]
  },
  {
   "cell_type": "code",
   "execution_count": null,
   "metadata": {
    "collapsed": true
   },
   "outputs": [],
   "source": [
    "papers=arxivchecker.check_keywords_from_papers(astroph201912,['AGN','XRB','IMBH','ULX','transient'])"
   ]
  },
  {
   "cell_type": "code",
   "execution_count": null,
   "metadata": {
    "collapsed": true
   },
   "outputs": [],
   "source": []
  },
  {
   "cell_type": "code",
   "execution_count": 16,
   "metadata": {
    "ExecuteTime": {
     "end_time": "2019-04-02T16:37:21.683917Z",
     "start_time": "2019-04-02T16:37:21.681017Z"
    },
    "collapsed": true
   },
   "outputs": [],
   "source": [
    "import time"
   ]
  },
  {
   "cell_type": "code",
   "execution_count": 44,
   "metadata": {
    "ExecuteTime": {
     "end_time": "2019-04-02T16:51:51.241314Z",
     "start_time": "2019-04-02T16:51:51.237133Z"
    }
   },
   "outputs": [
    {
     "data": {
      "text/plain": [
       "1554195111.238208"
      ]
     },
     "execution_count": 44,
     "metadata": {},
     "output_type": "execute_result"
    }
   ],
   "source": [
    "time.time()"
   ]
  },
  {
   "cell_type": "code",
   "execution_count": 45,
   "metadata": {
    "ExecuteTime": {
     "end_time": "2019-04-02T16:51:55.682839Z",
     "start_time": "2019-04-02T16:51:55.678851Z"
    }
   },
   "outputs": [
    {
     "data": {
      "text/plain": [
       "time.struct_time(tm_year=2019, tm_mon=4, tm_mday=2, tm_hour=8, tm_min=51, tm_sec=55, tm_wday=1, tm_yday=92, tm_isdst=0)"
      ]
     },
     "execution_count": 45,
     "metadata": {},
     "output_type": "execute_result"
    }
   ],
   "source": [
    "time.gmtime()"
   ]
  },
  {
   "cell_type": "code",
   "execution_count": null,
   "metadata": {
    "ExecuteTime": {
     "end_time": "2019-12-09T22:26:26.279099Z",
     "start_time": "2019-12-09T22:26:26.091103Z"
    }
   },
   "outputs": [],
   "source": []
  },
  {
   "cell_type": "code",
   "execution_count": null,
   "metadata": {
    "collapsed": true
   },
   "outputs": [],
   "source": []
  },
  {
   "cell_type": "code",
   "execution_count": 21,
   "metadata": {
    "ExecuteTime": {
     "end_time": "2019-04-02T16:38:40.637988Z",
     "start_time": "2019-04-02T16:38:31.196772Z"
    }
   },
   "outputs": [
    {
     "name": "stdout",
     "output_type": "stream",
     "text": [
      "\tChecking http://arxiv.org/list/astro-ph/new\n",
      "Found 16 papers\n",
      "5 hits\n",
      "['radio']\n",
      "\n",
      "%%%%%%%%%%%%%%%%%%%%%%%%%%%%%%%%%%%%%%%%%%%%%%%%%%%%%%%%%%%%%%%%%%%%%%%%%%%%%%%%%%%%%%%%%%%%%%\n",
      "%%%                                                                                        %%%\n",
      "%%%    Giant radio galaxies in the LOFAR Two-metre Sky Survey-I                            %%%\n",
      "%%%                                                                                        %%%\n",
      "%%%    http://arxiv.org/abs/1904.00409                                                     %%%\n",
      "%%%                                                                                        %%%\n",
      "%%%    P. Dabhade, H. J. A. Rottgering, J. Bagchi, T. W. Shimwell, M. J. Hardcastle, S.-    %%%\n",
      "%%%     Sankhyayan, R. Morganti, M. Jamrozy, A. Shulevski, & K. J. Duncan                  %%%\n",
      "%%%                                                                                        %%%\n",
      "%%%%%%%%%%%%%%%%%%%%%%%%%%%%%%%%%%%%%%%%%%%%%%%%%%%%%%%%%%%%%%%%%%%%%%%%%%%%%%%%%%%%%%%%%%%%%%\n",
      "\n",
      "\n",
      "4 hits\n",
      "['radio']\n",
      "\n",
      "%%%%%%%%%%%%%%%%%%%%%%%%%%%%%%%%%%%%%%%%%%%%%%%%%%%%%%%%%%%%%%%%%%%%%%%%%%%%%%%%%%%%%%%%%%%%%%\n",
      "%%%                                                                                        %%%\n",
      "%%%    Active galactic nuclei imaging programs of the RadioAstron mission                  %%%\n",
      "%%%                                                                                        %%%\n",
      "%%%    http://arxiv.org/abs/1904.00814                                                     %%%\n",
      "%%%                                                                                        %%%\n",
      "%%%    Gabriele Bruni, Tuomas Savolainen, Jose Luis Gómez, Andrei P. Lobanov, & Yuri Y.-    %%%\n",
      "%%%     Kovalev                                                                            %%%\n",
      "%%%                                                                                        %%%\n",
      "%%%%%%%%%%%%%%%%%%%%%%%%%%%%%%%%%%%%%%%%%%%%%%%%%%%%%%%%%%%%%%%%%%%%%%%%%%%%%%%%%%%%%%%%%%%%%%\n",
      "\n",
      "\n",
      "4 hits\n",
      "['radio']\n",
      "\n",
      "%%%%%%%%%%%%%%%%%%%%%%%%%%%%%%%%%%%%%%%%%%%%%%%%%%%%%%%%%%%%%%%%%%%%%%%%%%%%%%%%%%%%%%%%%%%%%%\n",
      "%%%                                                                                        %%%\n",
      "%%%    Hints about the multiplicity of WR 133 based on multiepoch radio  observations      %%%\n",
      "%%%                                                                                        %%%\n",
      "%%%    http://arxiv.org/abs/1904.00209                                                     %%%\n",
      "%%%                                                                                        %%%\n",
      "%%%    M. De Becker, N. L. Isequilla, & P. Benaglia                                        %%%\n",
      "%%%                                                                                        %%%\n",
      "%%%%%%%%%%%%%%%%%%%%%%%%%%%%%%%%%%%%%%%%%%%%%%%%%%%%%%%%%%%%%%%%%%%%%%%%%%%%%%%%%%%%%%%%%%%%%%\n",
      "\n",
      "\n",
      "4 hits\n",
      "['radio']\n",
      "\n",
      "%%%%%%%%%%%%%%%%%%%%%%%%%%%%%%%%%%%%%%%%%%%%%%%%%%%%%%%%%%%%%%%%%%%%%%%%%%%%%%%%%%%%%%%%%%%%%%\n",
      "%%%                                                                                        %%%\n",
      "%%%    A Space-based Decametric Wavelength Radio Telescope Concept                         %%%\n",
      "%%%                                                                                        %%%\n",
      "%%%    http://arxiv.org/abs/1904.00119                                                     %%%\n",
      "%%%                                                                                        %%%\n",
      "%%%    K. Belov, A. Branch, S. Broschart, J. Castillo-Rogez, S. Chien, L. Clare, R. Den-    %%%\n",
      "%%%    gler, J. Gao, D. Garza, A. Hegedus, S. Hernandez, S. Herzig, T. Imken, H. Kim, S-    %%%\n",
      "%%%    . Mandutianu, A. Romero-Wolf, S. Schaffer, M. Troesch, E.J. Wyatt, & J. Lazio       %%%\n",
      "%%%                                                                                        %%%\n",
      "%%%%%%%%%%%%%%%%%%%%%%%%%%%%%%%%%%%%%%%%%%%%%%%%%%%%%%%%%%%%%%%%%%%%%%%%%%%%%%%%%%%%%%%%%%%%%%\n",
      "\n",
      "\n",
      "2 hits\n",
      "['x-ray']\n",
      "\n",
      "%%%%%%%%%%%%%%%%%%%%%%%%%%%%%%%%%%%%%%%%%%%%%%%%%%%%%%%%%%%%%%%%%%%%%%%%%%%%%%%%%%%%%%%%%%%%%%\n",
      "%%%                                                                                        %%%\n",
      "%%%    Unveiling the nature of compact object in the LMXB MAXI J1957+032 using  Swift-X-    %%%\n",
      "%%%    RT                                                                                  %%%\n",
      "%%%                                                                                        %%%\n",
      "%%%    http://arxiv.org/abs/1904.00914                                                     %%%\n",
      "%%%                                                                                        %%%\n",
      "%%%    Aru Beri, D. Altamirano, R. Wijnands, N. Degenaar, A.S. Parikh, & K. Yamaoka        %%%\n",
      "%%%                                                                                        %%%\n",
      "%%%%%%%%%%%%%%%%%%%%%%%%%%%%%%%%%%%%%%%%%%%%%%%%%%%%%%%%%%%%%%%%%%%%%%%%%%%%%%%%%%%%%%%%%%%%%%\n",
      "\n",
      "\n",
      "2 hits\n",
      "['x-ray']\n",
      "\n",
      "%%%%%%%%%%%%%%%%%%%%%%%%%%%%%%%%%%%%%%%%%%%%%%%%%%%%%%%%%%%%%%%%%%%%%%%%%%%%%%%%%%%%%%%%%%%%%%\n",
      "%%%                                                                                        %%%\n",
      "%%%    On high-energy particles in accretion disk coronae of supermassive black  holes:-    %%%\n",
      "%%%     implications for MeV gamma rays and high-energy neutrinos from AGN  cores          %%%\n",
      "%%%                                                                                        %%%\n",
      "%%%    http://arxiv.org/abs/1904.00554                                                     %%%\n",
      "%%%                                                                                        %%%\n",
      "%%%    Yoshiyuki Inoue, Dmitry Khangulyan, Susumu Inoue, & Akihiro Doi                     %%%\n",
      "%%%                                                                                        %%%\n",
      "%%%%%%%%%%%%%%%%%%%%%%%%%%%%%%%%%%%%%%%%%%%%%%%%%%%%%%%%%%%%%%%%%%%%%%%%%%%%%%%%%%%%%%%%%%%%%%\n",
      "\n",
      "\n",
      "2 hits\n",
      "['radio']\n",
      "\n",
      "%%%%%%%%%%%%%%%%%%%%%%%%%%%%%%%%%%%%%%%%%%%%%%%%%%%%%%%%%%%%%%%%%%%%%%%%%%%%%%%%%%%%%%%%%%%%%%\n",
      "%%%                                                                                        %%%\n",
      "%%%    Polca SARA - Full polarization, direction-dependent calibration and  sparse imag-    %%%\n",
      "%%%    ing for radio interferometry                                                        %%%\n",
      "%%%                                                                                        %%%\n",
      "%%%    http://arxiv.org/abs/1904.00663                                                     %%%\n",
      "%%%                                                                                        %%%\n",
      "%%%    Jasleen Birdi, Audrey Repetti, & Yves Wiaux                                         %%%\n",
      "%%%                                                                                        %%%\n",
      "%%%%%%%%%%%%%%%%%%%%%%%%%%%%%%%%%%%%%%%%%%%%%%%%%%%%%%%%%%%%%%%%%%%%%%%%%%%%%%%%%%%%%%%%%%%%%%\n",
      "\n",
      "\n",
      "2 hits\n",
      "['radio']\n",
      "\n",
      "%%%%%%%%%%%%%%%%%%%%%%%%%%%%%%%%%%%%%%%%%%%%%%%%%%%%%%%%%%%%%%%%%%%%%%%%%%%%%%%%%%%%%%%%%%%%%%\n",
      "%%%                                                                                        %%%\n",
      "%%%    High-Resolution Observations of the Molecular Clouds Associated with the  Huge H-    %%%\n",
      "%%%    II Region CTB 102                                                                   %%%\n",
      "%%%                                                                                        %%%\n",
      "%%%    http://arxiv.org/abs/1904.00529                                                     %%%\n",
      "%%%                                                                                        %%%\n",
      "%%%    Brandon Marshall, Sung-ju Kang, C.R. Kerton, Youngsik Kim, Minho Choi, & Miju Ka-    %%%\n",
      "%%%    ng                                                                                  %%%\n",
      "%%%                                                                                        %%%\n",
      "%%%%%%%%%%%%%%%%%%%%%%%%%%%%%%%%%%%%%%%%%%%%%%%%%%%%%%%%%%%%%%%%%%%%%%%%%%%%%%%%%%%%%%%%%%%%%%\n",
      "\n",
      "\n",
      "2 hits\n",
      "['radio']\n",
      "\n",
      "%%%%%%%%%%%%%%%%%%%%%%%%%%%%%%%%%%%%%%%%%%%%%%%%%%%%%%%%%%%%%%%%%%%%%%%%%%%%%%%%%%%%%%%%%%%%%%\n",
      "%%%                                                                                        %%%\n",
      "%%%    Iridium Satellite Signals: A Case Study in Interference Characterization  and Mi-    %%%\n",
      "%%%    tigation for Radio Astronomy Observations                                           %%%\n",
      "%%%                                                                                        %%%\n",
      "%%%    http://arxiv.org/abs/1904.00502                                                     %%%\n",
      "%%%                                                                                        %%%\n",
      "%%%    Avinash A. Deshpande, & B. M. Lewis                                                 %%%\n",
      "%%%                                                                                        %%%\n",
      "%%%%%%%%%%%%%%%%%%%%%%%%%%%%%%%%%%%%%%%%%%%%%%%%%%%%%%%%%%%%%%%%%%%%%%%%%%%%%%%%%%%%%%%%%%%%%%\n",
      "\n",
      "\n",
      "2 hits\n",
      "['radio']\n",
      "\n",
      "%%%%%%%%%%%%%%%%%%%%%%%%%%%%%%%%%%%%%%%%%%%%%%%%%%%%%%%%%%%%%%%%%%%%%%%%%%%%%%%%%%%%%%%%%%%%%%\n",
      "%%%                                                                                        %%%\n",
      "%%%    A detailed radio study of the energetic, nearby and puzzling GRB 171010A            %%%\n",
      "%%%                                                                                        %%%\n",
      "%%%    http://arxiv.org/abs/1904.00039                                                     %%%\n",
      "%%%                                                                                        %%%\n",
      "%%%    J. S. Bright, A. Horesh, A. J. van der Horst, R. Fender, G. E. Anderson, S. E. M-    %%%\n",
      "%%%    otta, S. B. Cenko, D. A. Green, Y. Perrott, & D. Titterington                       %%%\n",
      "%%%                                                                                        %%%\n",
      "%%%%%%%%%%%%%%%%%%%%%%%%%%%%%%%%%%%%%%%%%%%%%%%%%%%%%%%%%%%%%%%%%%%%%%%%%%%%%%%%%%%%%%%%%%%%%%\n",
      "\n",
      "\n",
      "1 hit\n",
      "['x-ray']\n",
      "\n",
      "%%%%%%%%%%%%%%%%%%%%%%%%%%%%%%%%%%%%%%%%%%%%%%%%%%%%%%%%%%%%%%%%%%%%%%%%%%%%%%%%%%%%%%%%%%%%%%\n",
      "%%%                                                                                        %%%\n",
      "%%%    Automatic method for detection of solar coronal width using extreme  ultra-viole-    %%%\n",
      "%%%    t (EUV) radiation                                                                   %%%\n",
      "%%%                                                                                        %%%\n",
      "%%%    http://arxiv.org/abs/1904.00104                                                     %%%\n",
      "%%%                                                                                        %%%\n",
      "%%%    Najmeh Ahmadi, & Shervin Parsi                                                      %%%\n",
      "%%%                                                                                        %%%\n",
      "%%%%%%%%%%%%%%%%%%%%%%%%%%%%%%%%%%%%%%%%%%%%%%%%%%%%%%%%%%%%%%%%%%%%%%%%%%%%%%%%%%%%%%%%%%%%%%\n",
      "\n",
      "\n",
      "1 hit\n",
      "['x-ray']\n",
      "\n",
      "%%%%%%%%%%%%%%%%%%%%%%%%%%%%%%%%%%%%%%%%%%%%%%%%%%%%%%%%%%%%%%%%%%%%%%%%%%%%%%%%%%%%%%%%%%%%%%\n",
      "%%%                                                                                        %%%\n",
      "%%%    Prospects for Pulsar Studies at MeV Energies                                        %%%\n",
      "%%%                                                                                        %%%\n",
      "%%%    http://arxiv.org/abs/1904.00052                                                     %%%\n",
      "%%%                                                                                        %%%\n",
      "%%%    Alice K. Harding, Matthew Kerr, Marco Ajello, Denis Bernard, Harsha Blumer, Isab-    %%%\n",
      "%%%    elle Grenier, Sylvain Guiriec, Francesco Longo, Antonios Manousakis, Chanda Pres-    %%%\n",
      "%%%    cod-Weinstein, Pablo Saz-Parkinson, Zorawar Wadiasingh, George Younes, Silvia Za-    %%%\n",
      "%%%    ne, & Bing Zhang                                                                    %%%\n",
      "%%%                                                                                        %%%\n",
      "%%%%%%%%%%%%%%%%%%%%%%%%%%%%%%%%%%%%%%%%%%%%%%%%%%%%%%%%%%%%%%%%%%%%%%%%%%%%%%%%%%%%%%%%%%%%%%\n",
      "\n",
      "\n",
      "1 hit\n",
      "['x-ray']\n",
      "\n",
      "%%%%%%%%%%%%%%%%%%%%%%%%%%%%%%%%%%%%%%%%%%%%%%%%%%%%%%%%%%%%%%%%%%%%%%%%%%%%%%%%%%%%%%%%%%%%%%\n",
      "%%%                                                                                        %%%\n",
      "%%%    Major mergers are not the dominant trigger for high-accretion AGNs at z  = 2        %%%\n",
      "%%%                                                                                        %%%\n",
      "%%%    http://arxiv.org/abs/1904.00037                                                     %%%\n",
      "%%%                                                                                        %%%\n",
      "%%%    V. Marian, K. Jahnke, M. Mechtley, S. Cohen, B. Husemann, V. Jones, A. Koekemoer-    %%%\n",
      "%%%    , A. Schulze, A. van der Wel, C. Villforth, & R. Windhorst                          %%%\n",
      "%%%                                                                                        %%%\n",
      "%%%%%%%%%%%%%%%%%%%%%%%%%%%%%%%%%%%%%%%%%%%%%%%%%%%%%%%%%%%%%%%%%%%%%%%%%%%%%%%%%%%%%%%%%%%%%%\n",
      "\n",
      "\n",
      "1 hit\n",
      "['radio']\n",
      "\n",
      "%%%%%%%%%%%%%%%%%%%%%%%%%%%%%%%%%%%%%%%%%%%%%%%%%%%%%%%%%%%%%%%%%%%%%%%%%%%%%%%%%%%%%%%%%%%%%%\n",
      "%%%                                                                                        %%%\n",
      "%%%    SiPMs for cryogenic temperature                                                     %%%\n",
      "%%%                                                                                        %%%\n",
      "%%%    http://arxiv.org/abs/1904.00949                                                     %%%\n",
      "%%%                                                                                        %%%\n",
      "%%%    I. Kochanek                                                                         %%%\n",
      "%%%                                                                                        %%%\n",
      "%%%%%%%%%%%%%%%%%%%%%%%%%%%%%%%%%%%%%%%%%%%%%%%%%%%%%%%%%%%%%%%%%%%%%%%%%%%%%%%%%%%%%%%%%%%%%%\n",
      "\n",
      "\n",
      "1 hit\n",
      "['radio']\n",
      "\n",
      "%%%%%%%%%%%%%%%%%%%%%%%%%%%%%%%%%%%%%%%%%%%%%%%%%%%%%%%%%%%%%%%%%%%%%%%%%%%%%%%%%%%%%%%%%%%%%%\n",
      "%%%                                                                                        %%%\n",
      "%%%    Detection of the PSR J1741+1351 white dwarf companion with the Gran  Telescopio -    %%%\n",
      "%%%    Canarias                                                                            %%%\n",
      "%%%                                                                                        %%%\n",
      "%%%    http://arxiv.org/abs/1904.00331                                                     %%%\n",
      "%%%                                                                                        %%%\n",
      "%%%    D. A. Zyuzin, A. Yu. Kirichenko, A. V. Karpova, Yu. A. Shibanov, S. V. Zharikov,-    %%%\n",
      "%%%     E. Fonseca, & A. Cabrera-Lavers                                                    %%%\n",
      "%%%                                                                                        %%%\n",
      "%%%%%%%%%%%%%%%%%%%%%%%%%%%%%%%%%%%%%%%%%%%%%%%%%%%%%%%%%%%%%%%%%%%%%%%%%%%%%%%%%%%%%%%%%%%%%%\n",
      "\n",
      "\n",
      "1 hit\n",
      "['radio']\n",
      "\n",
      "%%%%%%%%%%%%%%%%%%%%%%%%%%%%%%%%%%%%%%%%%%%%%%%%%%%%%%%%%%%%%%%%%%%%%%%%%%%%%%%%%%%%%%%%%%%%%%\n",
      "%%%                                                                                        %%%\n",
      "%%%    Using evolutionary algorithms to model relativistic jets: Application to  NGC 10-    %%%\n",
      "%%%    52                                                                                  %%%\n",
      "%%%                                                                                        %%%\n",
      "%%%    http://arxiv.org/abs/1904.00106                                                     %%%\n",
      "%%%                                                                                        %%%\n",
      "%%%    C. M. Fromm, Z. Younsi, A. Bazcko, Y. Mizuno, O. Porth, M. Perucho, H. Olivares,-    %%%\n",
      "%%%     A. Nathanail, E. Angelakis, E. Ros, J. A. Zensus, & L. Rezzolla                    %%%\n",
      "%%%                                                                                        %%%\n",
      "%%%%%%%%%%%%%%%%%%%%%%%%%%%%%%%%%%%%%%%%%%%%%%%%%%%%%%%%%%%%%%%%%%%%%%%%%%%%%%%%%%%%%%%%%%%%%%\n",
      "\n",
      "\n"
     ]
    }
   ],
   "source": [
    "paperstoday = arxivchecker.check_keywords('astro-ph', ['radio','x-ray'])"
   ]
  },
  {
   "cell_type": "code",
   "execution_count": 41,
   "metadata": {
    "ExecuteTime": {
     "end_time": "2019-04-02T16:49:26.442307Z",
     "start_time": "2019-04-02T16:49:19.677264Z"
    }
   },
   "outputs": [
    {
     "name": "stdout",
     "output_type": "stream",
     "text": [
      "\tChecking http://arxiv.org/list/?year=19&month=04&archive=astro-ph&show=1000\n",
      "\tParsing data...\n"
     ]
    },
    {
     "data": {
      "text/plain": [
       "89"
      ]
     },
     "execution_count": 41,
     "metadata": {},
     "output_type": "execute_result"
    }
   ],
   "source": [
    "astroph4=arxivchecker.scrape_arxiv('astro-ph',year=2019,month=4,number=1000)\n",
    "len(astroph4)"
   ]
  },
  {
   "cell_type": "markdown",
   "metadata": {},
   "source": [
    "astroph3=arxivchecker.scrape_arxiv('astro-ph',year=2019,month=3,number=10000)\n",
    "len(astroph3)"
   ]
  },
  {
   "cell_type": "code",
   "execution_count": 39,
   "metadata": {
    "ExecuteTime": {
     "end_time": "2019-04-02T16:48:58.471819Z",
     "start_time": "2019-04-02T16:48:58.465596Z"
    }
   },
   "outputs": [
    {
     "name": "stdout",
     "output_type": "stream",
     "text": [
      "No results.\n"
     ]
    }
   ],
   "source": [
    "papersmcmc=arxivchecker.check_keywords_from_papers(astroph3,['mcmc'])"
   ]
  },
  {
   "cell_type": "code",
   "execution_count": null,
   "metadata": {
    "collapsed": true
   },
   "outputs": [],
   "source": [
    "#arxivchecker.check_authors('astro-ph', 'authors.txt') > results.txt\n",
    "#arxivchecker.check_keywords_from_papers(astroph,'Astro2020') > astro2020_201903_papers.txt\n",
    "!mail -s \"Arxiv Mailing\" brettlv@foxmail.com < astro2020whitepaperuptodate20190318.txt"
   ]
  },
  {
   "cell_type": "code",
   "execution_count": null,
   "metadata": {
    "collapsed": true
   },
   "outputs": [],
   "source": [
    "cat:astro-ph.HE"
   ]
  },
  {
   "cell_type": "code",
   "execution_count": 3,
   "metadata": {
    "ExecuteTime": {
     "end_time": "2020-08-24T21:23:02.138803Z",
     "start_time": "2020-08-24T21:23:02.132100Z"
    },
    "collapsed": true
   },
   "outputs": [],
   "source": [
    "arxiv.query?"
   ]
  },
  {
   "cell_type": "code",
   "execution_count": 71,
   "metadata": {
    "ExecuteTime": {
     "end_time": "2020-09-16T22:41:51.990944Z",
     "start_time": "2020-09-16T22:38:21.728310Z"
    }
   },
   "outputs": [],
   "source": [
    "import arxiv#query num \n",
    "papers=arxiv.query(query=\"Changing look\",max_results=10000)"
   ]
  },
  {
   "cell_type": "code",
   "execution_count": 68,
   "metadata": {
    "ExecuteTime": {
     "end_time": "2020-08-25T22:13:42.089007Z",
     "start_time": "2020-08-25T22:13:42.082059Z"
    }
   },
   "outputs": [
    {
     "data": {
      "text/plain": [
       "8000"
      ]
     },
     "execution_count": 68,
     "metadata": {},
     "output_type": "execute_result"
    }
   ],
   "source": [
    "len(papers)"
   ]
  },
  {
   "cell_type": "code",
   "execution_count": 42,
   "metadata": {
    "ExecuteTime": {
     "end_time": "2020-08-25T21:53:03.009364Z",
     "start_time": "2020-08-25T21:53:03.003814Z"
    }
   },
   "outputs": [
    {
     "data": {
      "text/plain": [
       "datetime.datetime(2019, 9, 10, 18, 0, 3)"
      ]
     },
     "execution_count": 42,
     "metadata": {},
     "output_type": "execute_result"
    }
   ],
   "source": [
    "import datetime\n",
    "datetime.datetime.strptime(papers[0]['published'], \"%Y-%m-%dT%H:%M:%SZ\")"
   ]
  },
  {
   "cell_type": "code",
   "execution_count": null,
   "metadata": {
    "collapsed": true
   },
   "outputs": [],
   "source": [
    "def string_toDatetime(st):\n",
    "    print(\"2.把字符串转成datetime: \", datetime.datetime.strptime(st, \"%Y-%m-%d %H:%M:%S\"))"
   ]
  },
  {
   "cell_type": "code",
   "execution_count": 65,
   "metadata": {
    "ExecuteTime": {
     "end_time": "2020-08-25T22:09:35.012302Z",
     "start_time": "2020-08-25T22:09:35.003165Z"
    }
   },
   "outputs": [
    {
     "data": {
      "text/plain": [
       "{'affiliation': 'None',\n",
       " 'arxiv_comment': 'Invited review; to appear in Solar Physics (24 pages, 6 figures)',\n",
       " 'arxiv_primary_category': {'scheme': 'http://arxiv.org/schemas/atom',\n",
       "  'term': 'astro-ph'},\n",
       " 'arxiv_url': 'http://arxiv.org/abs/0801.4213v1',\n",
       " 'author': 'Sarbani Basu',\n",
       " 'author_detail': {'name': 'Sarbani Basu'},\n",
       " 'authors': ['William J. Chaplin', 'Sarbani Basu'],\n",
       " 'doi': '10.1007/s11207-008-9136-5',\n",
       " 'guidislink': True,\n",
       " 'id': 'http://arxiv.org/abs/0801.4213v1',\n",
       " 'journal_reference': None,\n",
       " 'links': [{'href': 'http://dx.doi.org/10.1007/s11207-008-9136-5',\n",
       "   'rel': 'related',\n",
       "   'title': 'doi',\n",
       "   'type': 'text/html'},\n",
       "  {'href': 'http://arxiv.org/abs/0801.4213v1',\n",
       "   'rel': 'alternate',\n",
       "   'type': 'text/html'},\n",
       "  {'href': 'http://arxiv.org/pdf/0801.4213v1',\n",
       "   'rel': 'related',\n",
       "   'title': 'pdf',\n",
       "   'type': 'application/pdf'}],\n",
       " 'pdf_url': 'http://arxiv.org/pdf/0801.4213v1',\n",
       " 'published': '2008-01-28T09:04:06Z',\n",
       " 'published_parsed': time.struct_time(tm_year=2008, tm_mon=1, tm_mday=28, tm_hour=9, tm_min=4, tm_sec=6, tm_wday=0, tm_yday=28, tm_isdst=0),\n",
       " 'summary': 'We review the impact of global helioseismology on key questions concerning\\nthe internal structure and dynamics of the Sun, and consider the exciting\\nchallenges the field faces as it enters a fourth decade of science\\nexploitation. We do so with an eye on the past, looking at the perspectives\\nglobal helioseismology offered in its earlier phases, in particular the\\nmid-to-late 1970s and the 1980s. We look at how modern, higher-quality, longer\\ndatasets coupled with new developments in analysis, have altered, refined, and\\nchanged some of those perspectives, and opened others that were not previously\\navailable for study. We finish by discussing outstanding challenges and\\nquestions for the field.',\n",
       " 'summary_detail': {'base': 'http://export.arxiv.org/api/query?search_query=Changing+look+AND+cat%3Aastro-ph&id_list=&start=0&max_results=1000&sortBy=relevance&sortOrder=descending',\n",
       "  'language': None,\n",
       "  'type': 'text/plain',\n",
       "  'value': 'We review the impact of global helioseismology on key questions concerning\\nthe internal structure and dynamics of the Sun, and consider the exciting\\nchallenges the field faces as it enters a fourth decade of science\\nexploitation. We do so with an eye on the past, looking at the perspectives\\nglobal helioseismology offered in its earlier phases, in particular the\\nmid-to-late 1970s and the 1980s. We look at how modern, higher-quality, longer\\ndatasets coupled with new developments in analysis, have altered, refined, and\\nchanged some of those perspectives, and opened others that were not previously\\navailable for study. We finish by discussing outstanding challenges and\\nquestions for the field.'},\n",
       " 'tags': [{'label': None,\n",
       "   'scheme': 'http://arxiv.org/schemas/atom',\n",
       "   'term': 'astro-ph'}],\n",
       " 'title': 'Perspectives in Global Helioseismology, and the Road Ahead',\n",
       " 'title_detail': {'base': 'http://export.arxiv.org/api/query?search_query=Changing+look+AND+cat%3Aastro-ph&id_list=&start=0&max_results=1000&sortBy=relevance&sortOrder=descending',\n",
       "  'language': None,\n",
       "  'type': 'text/plain',\n",
       "  'value': 'Perspectives in Global Helioseismology, and the Road Ahead'},\n",
       " 'updated': '2008-01-28T09:04:06Z',\n",
       " 'updated_parsed': time.struct_time(tm_year=2008, tm_mon=1, tm_mday=28, tm_hour=9, tm_min=4, tm_sec=6, tm_wday=0, tm_yday=28, tm_isdst=0)}"
      ]
     },
     "execution_count": 65,
     "metadata": {},
     "output_type": "execute_result"
    }
   ],
   "source": [
    "papers[0]"
   ]
  },
  {
   "cell_type": "code",
   "execution_count": 69,
   "metadata": {
    "ExecuteTime": {
     "end_time": "2020-08-25T22:17:10.713745Z",
     "start_time": "2020-08-25T22:17:10.520624Z"
    },
    "scrolled": false
   },
   "outputs": [
    {
     "name": "stdout",
     "output_type": "stream",
     "text": [
      "Tracking the state transitions in changing-look active galactic nuclei\n",
      "  through their polarized-light echoes\n",
      "['F. Marin', 'D. Hutsemékers']\n",
      "http://arxiv.org/pdf/2003.08641v1 \n",
      "\n",
      "A possible mechanism for multiple changing look phenomenon in Active\n",
      "  Galactic Nuclei\n",
      "['M. Sniegowska', 'B. Czerny', 'E. Bon', 'N. Bon']\n",
      "http://arxiv.org/pdf/2007.06441v1 \n",
      "\n",
      "Unsupervised Learning Methods for Visual Place Recognition in Discretely\n",
      "  and Continuously Changing Environments\n",
      "['Stefan Schubert', 'Peer Neubert', 'Peter Protzel']\n",
      "http://arxiv.org/pdf/2001.08960v1 \n",
      "\n",
      "The destruction and recreation of the X-ray corona in a changing-look\n",
      "  Active Galactic Nucleus\n",
      "['C. Ricci', 'E. Kara', 'M. Loewenstein', 'B. Trakhtenbrot', 'I. Arcavi', 'R. Remillard', 'A. C. Fabian', 'K. C. Gendreau', 'Z. Arzoumanian', 'R. Li', 'L. C. Ho', 'C. L. MacLeod', 'E. Cackett', 'D. Altamirano', 'P. Gandhi', 'P. Kosec', 'D. Pasham', 'J. Steiner', 'C. -H. Chan']\n",
      "http://arxiv.org/pdf/2007.07275v1 \n",
      "\n",
      "An X-ray Luminosity-dependent \"Changing-look\" Phenomenon in UGC 3223\n",
      "['J. Wang', 'D. W. Xu', 'J. Y. Wei']\n",
      "http://arxiv.org/pdf/2007.14547v1 \n",
      "\n",
      "The post-maximum behaviour of the changing-look Seyfert galaxy NGC 1566\n",
      "['V. L. Oknyansky', 'H. Winkler', 'S. S. Tsygankov', 'V. M. Lipunov', 'E. S. Gorbovskoy', 'F. van Wyk', 'D. A. H. Buckley', 'B. W. Jiang', 'N. V. Tyurina']\n",
      "http://arxiv.org/pdf/2006.00001v2 \n",
      "\n",
      "Exploiting Event Cameras for Spatio-Temporal Prediction of Fast-Changing\n",
      "  Trajectories\n",
      "['Marco Monforte', 'Ander Arriandiaga', 'Arren Glover', 'Chiara Bartolozzi']\n",
      "http://arxiv.org/pdf/2001.01248v2 \n",
      "\n",
      "A flare in the optical spotted in the changing-look Seyfert NGC 3516\n",
      "['D. Ilic', 'V. Oknyansky', 'L. C. Popovic', 'S. S. Tsygankov', 'A. A. Belinski', 'A. M. Tatarnikov', 'A. V. Dodin', 'N. I. Shatsky', 'N. P. Ikonnikova', 'N. Rakic', 'A. Kovacevic', 'S. Marceta-Mandic', 'M. A. Burlak', 'E. O. Mishin', 'N. V. Metlova', 'S. A. Potanin', 'S. G. Zheltoukhov']\n",
      "http://arxiv.org/pdf/2004.01308v2 \n",
      "\n",
      "Optical and X-ray discovery of the changing-look AGN IRAS23226-3843\n",
      "  showing extremely broad and double-peaked Balmer profiles\n",
      "['W. Kollatschny', 'D. Grupe', 'M. L. Parker', 'M. W. Ochmann', 'N. Schartel', 'E. Herwig', 'S. Komossa', 'E. Romero-Colmenero', 'M. Santos-Lleo']\n",
      "http://arxiv.org/pdf/2004.01711v1 \n",
      "\n",
      "The Changing-look Optical Wind of the Flaring X-ray Transient Swift\n",
      "  J1858.6-0814\n",
      "['T. Muñoz-Darias', 'M. Armas Padilla', 'F. Jiménez-Ibarra', 'G. Panizo-Espinar', 'J. Casares', 'D. Altamirano', 'D. J. K. Buisson', 'N. Castro Segura', 'V. A. Cúneo', 'N. Degenaar', 'F. A. Fogantini', 'C. Knigge', 'D. Mata Sánchez', 'M. Özbey Arabaci', 'J. Sánchez-Sierras', 'M. A. P. Torres', 'J. van den Eijnden', 'F. M. Vincentelli']\n",
      "http://arxiv.org/pdf/2003.12073v1 \n",
      "\n",
      "Observation of state-to-state hyperfine-changing collision in a\n",
      "  Bose-Fermi mixture of $^6$Li and $^{41}$K atoms\n",
      "['Xiao-Qiong Wang', 'Yu-Xuan Wang', 'Xiang-Pei Liu', 'Ran Qi', 'Xing-Can Yao', 'Yu-Ao Chen', 'Jian-Wei Pan']\n",
      "http://arxiv.org/pdf/2001.11652v1 \n",
      "\n"
     ]
    }
   ],
   "source": [
    "for i in papers:\n",
    "    if datetime.datetime.strptime(i['published'], \"%Y-%m-%dT%H:%M:%SZ\").year>2019:\n",
    "        if (i['title'].find('changing') + i['title'].find('Changing')>-1):\n",
    "            print(i['title'])\n",
    "            print(i['authors'])\n",
    "            print(i['pdf_url'],'\\n')"
   ]
  },
  {
   "cell_type": "code",
   "execution_count": null,
   "metadata": {
    "collapsed": true
   },
   "outputs": [],
   "source": []
  },
  {
   "cell_type": "code",
   "execution_count": null,
   "metadata": {
    "collapsed": true
   },
   "outputs": [],
   "source": []
  },
  {
   "cell_type": "code",
   "execution_count": 1,
   "metadata": {
    "ExecuteTime": {
     "end_time": "2019-05-05T15:20:53.550150Z",
     "start_time": "2019-05-05T15:20:44.948578Z"
    }
   },
   "outputs": [],
   "source": []
  },
  {
   "cell_type": "code",
   "execution_count": 2,
   "metadata": {
    "ExecuteTime": {
     "end_time": "2019-05-05T15:21:28.529059Z",
     "start_time": "2019-05-05T15:21:28.516672Z"
    }
   },
   "outputs": [
    {
     "data": {
      "text/plain": [
       "278"
      ]
     },
     "execution_count": 2,
     "metadata": {},
     "output_type": "execute_result"
    }
   ],
   "source": [
    "len(papers)"
   ]
  },
  {
   "cell_type": "code",
   "execution_count": 55,
   "metadata": {
    "ExecuteTime": {
     "end_time": "2019-04-03T22:54:07.928539Z",
     "start_time": "2019-04-03T22:54:07.902391Z"
    }
   },
   "outputs": [
    {
     "data": {
      "text/plain": [
       "[{'affiliation': 'None',\n",
       "  'arxiv_comment': 'Astro2020 Science White Paper',\n",
       "  'arxiv_primary_category': {'scheme': 'http://arxiv.org/schemas/atom',\n",
       "   'term': 'astro-ph.SR'},\n",
       "  'arxiv_url': 'http://arxiv.org/abs/1903.06136v1',\n",
       "  'author': 'Andrew Szentgyorgyi',\n",
       "  'author_detail': {'name': 'Andrew Szentgyorgyi'},\n",
       "  'authors': ['Peregrine McGehee',\n",
       "   'Alan Boss',\n",
       "   'Laird Close',\n",
       "   'Sarah Dodson-Robinson',\n",
       "   'Dimitri Mawet',\n",
       "   'Andrew Szentgyorgyi'],\n",
       "  'doi': None,\n",
       "  'guidislink': True,\n",
       "  'id': 'http://arxiv.org/abs/1903.06136v1',\n",
       "  'journal_reference': None,\n",
       "  'links': [{'href': 'http://arxiv.org/abs/1903.06136v1',\n",
       "    'rel': 'alternate',\n",
       "    'type': 'text/html'},\n",
       "   {'href': 'http://arxiv.org/pdf/1903.06136v1',\n",
       "    'rel': 'related',\n",
       "    'title': 'pdf',\n",
       "    'type': 'application/pdf'}],\n",
       "  'pdf_url': 'http://arxiv.org/pdf/1903.06136v1',\n",
       "  'published': '2019-03-14T17:32:25Z',\n",
       "  'published_parsed': time.struct_time(tm_year=2019, tm_mon=3, tm_mday=14, tm_hour=17, tm_min=32, tm_sec=25, tm_wday=3, tm_yday=73, tm_isdst=0),\n",
       "  'summary': 'The transfer of circumstellar disk mass and momentum onto the protostar and\\nout into the environment occurs via a variety of mechanisms including\\nmagnetospheric accretion, jets, outflows, and disk winds. The interplay of\\nthese processes determine both the conditions under which planet formation\\noccurs and the lifetime of the disk. Metallic emission lines, along with the\\nBalmer series of hydrogen, probe the kinematics of gas within the\\nplanet-forming and central regions of circumstellar disks. High-spectral\\nresolution study of these emission lines provides critical information on mass\\nand momentum loss, turbulence, and disk wind origins.',\n",
       "  'summary_detail': {'base': 'http://export.arxiv.org/api/query?search_query=astro2020+AND+White+Paper&id_list=&start=0&max_results=400',\n",
       "   'language': None,\n",
       "   'type': 'text/plain',\n",
       "   'value': 'The transfer of circumstellar disk mass and momentum onto the protostar and\\nout into the environment occurs via a variety of mechanisms including\\nmagnetospheric accretion, jets, outflows, and disk winds. The interplay of\\nthese processes determine both the conditions under which planet formation\\noccurs and the lifetime of the disk. Metallic emission lines, along with the\\nBalmer series of hydrogen, probe the kinematics of gas within the\\nplanet-forming and central regions of circumstellar disks. High-spectral\\nresolution study of these emission lines provides critical information on mass\\nand momentum loss, turbulence, and disk wind origins.'},\n",
       "  'tags': [{'label': None,\n",
       "    'scheme': 'http://arxiv.org/schemas/atom',\n",
       "    'term': 'astro-ph.SR'},\n",
       "   {'label': None,\n",
       "    'scheme': 'http://arxiv.org/schemas/atom',\n",
       "    'term': 'astro-ph.GA'}],\n",
       "  'title': 'Astro2020 Science White Paper: Dynamical Processes in the Planet-Forming\\n  Environment',\n",
       "  'title_detail': {'base': 'http://export.arxiv.org/api/query?search_query=astro2020+AND+White+Paper&id_list=&start=0&max_results=400',\n",
       "   'language': None,\n",
       "   'type': 'text/plain',\n",
       "   'value': 'Astro2020 Science White Paper: Dynamical Processes in the Planet-Forming\\n  Environment'},\n",
       "  'updated': '2019-03-14T17:32:25Z',\n",
       "  'updated_parsed': time.struct_time(tm_year=2019, tm_mon=3, tm_mday=14, tm_hour=17, tm_min=32, tm_sec=25, tm_wday=3, tm_yday=73, tm_isdst=0)},\n",
       " {'affiliation': 'None',\n",
       "  'arxiv_comment': \"White paper was submitted to the US National Academies' Astro2020\\n  Decadal Survey on Astronomy and Astrophysics\",\n",
       "  'arxiv_primary_category': {'scheme': 'http://arxiv.org/schemas/atom',\n",
       "   'term': 'astro-ph.GA'},\n",
       "  'arxiv_url': 'http://arxiv.org/abs/1903.06810v1',\n",
       "  'author': 'Thomas Williams',\n",
       "  'author_detail': {'name': 'Thomas Williams'},\n",
       "  'authors': ['Christopher Clark',\n",
       "   'Julua Roman-Duval',\n",
       "   'Sarah Sadavoy',\n",
       "   'Simone Bianchi',\n",
       "   'Caroline Bot',\n",
       "   'Viviana Casasola',\n",
       "   'Jérémy Chastenet',\n",
       "   'Asantha Cooray',\n",
       "   'Pieter De Vis',\n",
       "   'Frédéric Galliano',\n",
       "   'Haley Gomez',\n",
       "   'Karl Gordon',\n",
       "   'Benne Holwerda',\n",
       "   'Kate Rowlands',\n",
       "   'Johannes Staguhn',\n",
       "   'Matthew Smith',\n",
       "   'Sébastien Viaene',\n",
       "   'Thomas Williams'],\n",
       "  'doi': None,\n",
       "  'guidislink': True,\n",
       "  'id': 'http://arxiv.org/abs/1903.06810v1',\n",
       "  'journal_reference': None,\n",
       "  'links': [{'href': 'http://arxiv.org/abs/1903.06810v1',\n",
       "    'rel': 'alternate',\n",
       "    'type': 'text/html'},\n",
       "   {'href': 'http://arxiv.org/pdf/1903.06810v1',\n",
       "    'rel': 'related',\n",
       "    'title': 'pdf',\n",
       "    'type': 'application/pdf'}],\n",
       "  'pdf_url': 'http://arxiv.org/pdf/1903.06810v1',\n",
       "  'published': '2019-03-15T21:28:19Z',\n",
       "  'published_parsed': time.struct_time(tm_year=2019, tm_mon=3, tm_mday=15, tm_hour=21, tm_min=28, tm_sec=19, tm_wday=4, tm_yday=74, tm_isdst=0),\n",
       "  'summary': \"We present the severe, systematic uncertainties currently facing our\\nunderstanding of dust emission, which stymie our ability to truly exploit dust\\nas a tool for studying galaxy evolution. We propose a program of study to\\ntackle these uncertainties, describe the necessary facilities, and discuss the\\npotential science gains that will result. This white paper was submitted to the\\nUS National Academies' Astro2020 Decadal Survey on Astronomy and Astrophysics.\",\n",
       "  'summary_detail': {'base': 'http://export.arxiv.org/api/query?search_query=astro2020+AND+White+Paper&id_list=&start=0&max_results=400',\n",
       "   'language': None,\n",
       "   'type': 'text/plain',\n",
       "   'value': \"We present the severe, systematic uncertainties currently facing our\\nunderstanding of dust emission, which stymie our ability to truly exploit dust\\nas a tool for studying galaxy evolution. We propose a program of study to\\ntackle these uncertainties, describe the necessary facilities, and discuss the\\npotential science gains that will result. This white paper was submitted to the\\nUS National Academies' Astro2020 Decadal Survey on Astronomy and Astrophysics.\"},\n",
       "  'tags': [{'label': None,\n",
       "    'scheme': 'http://arxiv.org/schemas/atom',\n",
       "    'term': 'astro-ph.GA'}],\n",
       "  'title': 'Astro2020: Unleashing the Potential of Dust Emission as a Window onto\\n  Galaxy Evolution',\n",
       "  'title_detail': {'base': 'http://export.arxiv.org/api/query?search_query=astro2020+AND+White+Paper&id_list=&start=0&max_results=400',\n",
       "   'language': None,\n",
       "   'type': 'text/plain',\n",
       "   'value': 'Astro2020: Unleashing the Potential of Dust Emission as a Window onto\\n  Galaxy Evolution'},\n",
       "  'updated': '2019-03-15T21:28:19Z',\n",
       "  'updated_parsed': time.struct_time(tm_year=2019, tm_mon=3, tm_mday=15, tm_hour=21, tm_min=28, tm_sec=19, tm_wday=4, tm_yday=74, tm_isdst=0)},\n",
       " {'affiliation': 'None',\n",
       "  'arxiv_comment': 'Submitted for consideration of the Astro2020 US Decadal Survey',\n",
       "  'arxiv_primary_category': {'scheme': 'http://arxiv.org/schemas/atom',\n",
       "   'term': 'astro-ph.HE'},\n",
       "  'arxiv_url': 'http://arxiv.org/abs/1903.04447v1',\n",
       "  'author': 'Nathan Whitehorn',\n",
       "  'author_detail': {'name': 'Nathan Whitehorn'},\n",
       "  'authors': ['Sara Buson',\n",
       "   'Ke Fang',\n",
       "   'Azadeh Keivani',\n",
       "   'Thomas Maccarone',\n",
       "   'Kohta Murase',\n",
       "   'Maria Petropoulou',\n",
       "   'Marcos Santander',\n",
       "   'Ignacio Taboada',\n",
       "   'Nathan Whitehorn'],\n",
       "  'doi': None,\n",
       "  'guidislink': True,\n",
       "  'id': 'http://arxiv.org/abs/1903.04447v1',\n",
       "  'journal_reference': None,\n",
       "  'links': [{'href': 'http://arxiv.org/abs/1903.04447v1',\n",
       "    'rel': 'alternate',\n",
       "    'type': 'text/html'},\n",
       "   {'href': 'http://arxiv.org/pdf/1903.04447v1',\n",
       "    'rel': 'related',\n",
       "    'title': 'pdf',\n",
       "    'type': 'application/pdf'}],\n",
       "  'pdf_url': 'http://arxiv.org/pdf/1903.04447v1',\n",
       "  'published': '2019-03-11T17:16:51Z',\n",
       "  'published_parsed': time.struct_time(tm_year=2019, tm_mon=3, tm_mday=11, tm_hour=17, tm_min=16, tm_sec=51, tm_wday=0, tm_yday=70, tm_isdst=0),\n",
       "  'summary': 'This Astro2020 white paper advocates for a multi-messenger approach that\\ncombines high-energy neutrino and broad multi-wavelength electromagnetic\\nobservations to study AGN during the coming decade. The unique capabilities of\\nthese joint observations promise to solve several long-standing issues in our\\nunderstanding of AGN as powerful cosmic accelerators.',\n",
       "  'summary_detail': {'base': 'http://export.arxiv.org/api/query?search_query=astro2020+AND+White+Paper&id_list=&start=0&max_results=400',\n",
       "   'language': None,\n",
       "   'type': 'text/plain',\n",
       "   'value': 'This Astro2020 white paper advocates for a multi-messenger approach that\\ncombines high-energy neutrino and broad multi-wavelength electromagnetic\\nobservations to study AGN during the coming decade. The unique capabilities of\\nthese joint observations promise to solve several long-standing issues in our\\nunderstanding of AGN as powerful cosmic accelerators.'},\n",
       "  'tags': [{'label': None,\n",
       "    'scheme': 'http://arxiv.org/schemas/atom',\n",
       "    'term': 'astro-ph.HE'}],\n",
       "  'title': 'A Unique Messenger to Probe Active Galactic Nuclei: High-Energy\\n  Neutrinos',\n",
       "  'title_detail': {'base': 'http://export.arxiv.org/api/query?search_query=astro2020+AND+White+Paper&id_list=&start=0&max_results=400',\n",
       "   'language': None,\n",
       "   'type': 'text/plain',\n",
       "   'value': 'A Unique Messenger to Probe Active Galactic Nuclei: High-Energy\\n  Neutrinos'},\n",
       "  'updated': '2019-03-11T17:16:51Z',\n",
       "  'updated_parsed': time.struct_time(tm_year=2019, tm_mon=3, tm_mday=11, tm_hour=17, tm_min=16, tm_sec=51, tm_wday=0, tm_yday=70, tm_isdst=0)},\n",
       " {'affiliation': 'None',\n",
       "  'arxiv_comment': '7pages, 2 figures, submitted for consideration of the Astro2020 US\\n  Decadal Survey',\n",
       "  'arxiv_primary_category': {'scheme': 'http://arxiv.org/schemas/atom',\n",
       "   'term': 'astro-ph.HE'},\n",
       "  'arxiv_url': 'http://arxiv.org/abs/1903.05475v1',\n",
       "  'author': 'J. -C. Bouret',\n",
       "  'author_detail': {'name': 'J. -C. Bouret'},\n",
       "  'authors': ['F. Marin',\n",
       "   'S. Charlot',\n",
       "   'B. Agís González',\n",
       "   'D. Sluse',\n",
       "   'D. Hutsemékers',\n",
       "   'A. Labiano',\n",
       "   'L. Grosset',\n",
       "   'C. Neiner',\n",
       "   'J. -C. Bouret'],\n",
       "  'doi': None,\n",
       "  'guidislink': True,\n",
       "  'id': 'http://arxiv.org/abs/1903.05475v1',\n",
       "  'journal_reference': None,\n",
       "  'links': [{'href': 'http://arxiv.org/abs/1903.05475v1',\n",
       "    'rel': 'alternate',\n",
       "    'type': 'text/html'},\n",
       "   {'href': 'http://arxiv.org/pdf/1903.05475v1',\n",
       "    'rel': 'related',\n",
       "    'title': 'pdf',\n",
       "    'type': 'application/pdf'}],\n",
       "  'pdf_url': 'http://arxiv.org/pdf/1903.05475v1',\n",
       "  'published': '2019-03-13T13:24:16Z',\n",
       "  'published_parsed': time.struct_time(tm_year=2019, tm_mon=3, tm_mday=13, tm_hour=13, tm_min=24, tm_sec=16, tm_wday=2, tm_yday=72, tm_isdst=0),\n",
       "  'summary': 'This Astro2020 white paper summarizes the unknowns of active galactic nuclei\\n(AGN) physics that could be unveiled thanks to a new, space-born, ultraviolet\\nspectropolarimeter. The unique capabilities of high energy polarimetry would\\nhelp us to understand the precise mechanisms of matter and energy transfer and\\nsupermassive black holes growth, together with the impact of AGN feedback on\\ngalaxy evolution.',\n",
       "  'summary_detail': {'base': 'http://export.arxiv.org/api/query?search_query=astro2020+AND+White+Paper&id_list=&start=0&max_results=400',\n",
       "   'language': None,\n",
       "   'type': 'text/plain',\n",
       "   'value': 'This Astro2020 white paper summarizes the unknowns of active galactic nuclei\\n(AGN) physics that could be unveiled thanks to a new, space-born, ultraviolet\\nspectropolarimeter. The unique capabilities of high energy polarimetry would\\nhelp us to understand the precise mechanisms of matter and energy transfer and\\nsupermassive black holes growth, together with the impact of AGN feedback on\\ngalaxy evolution.'},\n",
       "  'tags': [{'label': None,\n",
       "    'scheme': 'http://arxiv.org/schemas/atom',\n",
       "    'term': 'astro-ph.HE'},\n",
       "   {'label': None,\n",
       "    'scheme': 'http://arxiv.org/schemas/atom',\n",
       "    'term': 'astro-ph.IM'},\n",
       "   {'label': None, 'scheme': 'http://arxiv.org/schemas/atom', 'term': '85-06'},\n",
       "   {'label': None, 'scheme': 'http://arxiv.org/schemas/atom', 'term': 'J.2'}],\n",
       "  'title': 'The role of Active Galactic Nuclei in galaxy evolution: insights from\\n  space ultraviolet spectropolarimetry',\n",
       "  'title_detail': {'base': 'http://export.arxiv.org/api/query?search_query=astro2020+AND+White+Paper&id_list=&start=0&max_results=400',\n",
       "   'language': None,\n",
       "   'type': 'text/plain',\n",
       "   'value': 'The role of Active Galactic Nuclei in galaxy evolution: insights from\\n  space ultraviolet spectropolarimetry'},\n",
       "  'updated': '2019-03-13T13:24:16Z',\n",
       "  'updated_parsed': time.struct_time(tm_year=2019, tm_mon=3, tm_mday=13, tm_hour=13, tm_min=24, tm_sec=16, tm_wday=2, tm_yday=72, tm_isdst=0)},\n",
       " {'affiliation': 'Harvard University',\n",
       "  'arxiv_comment': '7 pages, submitted to Astro2020 Science White Paper call',\n",
       "  'arxiv_primary_category': {'scheme': 'http://arxiv.org/schemas/atom',\n",
       "   'term': 'astro-ph.SR'},\n",
       "  'arxiv_url': 'http://arxiv.org/abs/1903.04667v1',\n",
       "  'author': 'Rakesh Yadav',\n",
       "  'author_detail': {'name': 'Rakesh Yadav'},\n",
       "  'authors': ['Adam Burgasser',\n",
       "   'Isabelle Baraffe',\n",
       "   'Matthew Browning',\n",
       "   'Adam Burrows',\n",
       "   'Gilles Chabrier',\n",
       "   'Michelle Creech-Eakman',\n",
       "   'Brice Demory',\n",
       "   'Sergio Dieterich',\n",
       "   'Jacqueline Faherty',\n",
       "   'Daniel Huber',\n",
       "   'Nicolas Lodieu',\n",
       "   'Peter Plavchan',\n",
       "   'R. Michael Rich',\n",
       "   'Didier Saumon',\n",
       "   'Keivan Stassun',\n",
       "   'Amaury Triaud',\n",
       "   'Gerard van Belle',\n",
       "   'Valerie Van Grootel',\n",
       "   'Johanna M. Vos',\n",
       "   'Rakesh Yadav'],\n",
       "  'doi': None,\n",
       "  'guidislink': True,\n",
       "  'id': 'http://arxiv.org/abs/1903.04667v1',\n",
       "  'journal_reference': None,\n",
       "  'links': [{'href': 'http://arxiv.org/abs/1903.04667v1',\n",
       "    'rel': 'alternate',\n",
       "    'type': 'text/html'},\n",
       "   {'href': 'http://arxiv.org/pdf/1903.04667v1',\n",
       "    'rel': 'related',\n",
       "    'title': 'pdf',\n",
       "    'type': 'application/pdf'}],\n",
       "  'pdf_url': 'http://arxiv.org/pdf/1903.04667v1',\n",
       "  'published': '2019-03-12T00:04:38Z',\n",
       "  'published_parsed': time.struct_time(tm_year=2019, tm_mon=3, tm_mday=12, tm_hour=0, tm_min=4, tm_sec=38, tm_wday=1, tm_yday=71, tm_isdst=0),\n",
       "  'summary': 'The lowest-mass stars, brown dwarfs and giant exoplanets span a minimum in\\nthe mass-radius relationship that probes the fundamental physics of extreme\\nstates of matter, magnetism, and fusion. This White Paper outlines scientific\\nopportunities and the necessary resources for modeling and measuring the\\nmass-radius relationship in this regime.',\n",
       "  'summary_detail': {'base': 'http://export.arxiv.org/api/query?search_query=astro2020+AND+White+Paper&id_list=&start=0&max_results=400',\n",
       "   'language': None,\n",
       "   'type': 'text/plain',\n",
       "   'value': 'The lowest-mass stars, brown dwarfs and giant exoplanets span a minimum in\\nthe mass-radius relationship that probes the fundamental physics of extreme\\nstates of matter, magnetism, and fusion. This White Paper outlines scientific\\nopportunities and the necessary resources for modeling and measuring the\\nmass-radius relationship in this regime.'},\n",
       "  'tags': [{'label': None,\n",
       "    'scheme': 'http://arxiv.org/schemas/atom',\n",
       "    'term': 'astro-ph.SR'},\n",
       "   {'label': None,\n",
       "    'scheme': 'http://arxiv.org/schemas/atom',\n",
       "    'term': 'astro-ph.EP'}],\n",
       "  'title': 'Astro2020 Science White Paper: Fundamental Physics with Brown Dwarfs:\\n  The Mass-Radius Relation',\n",
       "  'title_detail': {'base': 'http://export.arxiv.org/api/query?search_query=astro2020+AND+White+Paper&id_list=&start=0&max_results=400',\n",
       "   'language': None,\n",
       "   'type': 'text/plain',\n",
       "   'value': 'Astro2020 Science White Paper: Fundamental Physics with Brown Dwarfs:\\n  The Mass-Radius Relation'},\n",
       "  'updated': '2019-03-12T00:04:38Z',\n",
       "  'updated_parsed': time.struct_time(tm_year=2019, tm_mon=3, tm_mday=12, tm_hour=0, tm_min=4, tm_sec=38, tm_wday=1, tm_yday=71, tm_isdst=0)}]"
      ]
     },
     "execution_count": 55,
     "metadata": {},
     "output_type": "execute_result"
    }
   ],
   "source": [
    "papers[:5]"
   ]
  },
  {
   "cell_type": "code",
   "execution_count": 61,
   "metadata": {
    "ExecuteTime": {
     "end_time": "2019-04-15T10:52:29.079602Z",
     "start_time": "2019-04-15T10:52:29.074947Z"
    }
   },
   "outputs": [
    {
     "data": {
      "text/plain": [
       "259"
      ]
     },
     "execution_count": 61,
     "metadata": {},
     "output_type": "execute_result"
    }
   ],
   "source": [
    "len(papers)"
   ]
  },
  {
   "cell_type": "code",
   "execution_count": 1,
   "metadata": {
    "ExecuteTime": {
     "end_time": "2019-12-09T22:21:51.049044Z",
     "start_time": "2019-12-09T22:21:51.032650Z"
    }
   },
   "outputs": [
    {
     "data": {
      "text/plain": [
       "'/Users/brettlv/blog/brettlv.github.io/pythoncode'"
      ]
     },
     "execution_count": 1,
     "metadata": {},
     "output_type": "execute_result"
    }
   ],
   "source": [
    "pwd"
   ]
  },
  {
   "cell_type": "code",
   "execution_count": 4,
   "metadata": {
    "ExecuteTime": {
     "end_time": "2020-04-22T11:41:20.288402Z",
     "start_time": "2020-04-22T11:41:19.191659Z"
    },
    "collapsed": true
   },
   "outputs": [],
   "source": [
    "import arxiv"
   ]
  },
  {
   "cell_type": "code",
   "execution_count": 2,
   "metadata": {
    "ExecuteTime": {
     "end_time": "2019-12-09T22:23:37.736363Z",
     "start_time": "2019-12-09T22:22:11.832233Z"
    }
   },
   "outputs": [],
   "source": [
    "import os\n",
    "import arxiv#query num \n",
    "papersastro2020=arxiv.query(search_query=\"astro2020 AND White Paper\",max_results=10000)\n",
    "astro2020filename='astro2020uptodate20190315.txt'\n",
    "astro2020filename='astro2020whitepaperuptodate20190315.txt'\n",
    "astro2020filename='astro2020whitepaperuptodate20190318.txt'\n",
    "astro2020filename='astro2020whitepaperuptodate20190505.txt'\n",
    "astro2020filename='astro2020whitepaperuptodate20191109.txt'\n",
    "\n",
    "if os.path.isfile(astro2020filename):\n",
    "    os.remove(astro2020filename)\n",
    "for i in papersastro2020:\n",
    "    with open(astro2020filename,'a') as f:\n",
    "        f.write(i['id']+'\\n'+i['title']+'\\n'+i['summary']+'\\n'+'\\n')"
   ]
  },
  {
   "cell_type": "code",
   "execution_count": 9,
   "metadata": {
    "ExecuteTime": {
     "end_time": "2020-04-22T11:44:06.484150Z",
     "start_time": "2020-04-22T11:44:06.478322Z"
    }
   },
   "outputs": [],
   "source": [
    "?arxiv.query"
   ]
  },
  {
   "cell_type": "code",
   "execution_count": 3,
   "metadata": {
    "ExecuteTime": {
     "end_time": "2019-12-09T22:23:37.744410Z",
     "start_time": "2019-12-09T22:23:37.738506Z"
    }
   },
   "outputs": [
    {
     "data": {
      "text/plain": [
       "393"
      ]
     },
     "execution_count": 3,
     "metadata": {},
     "output_type": "execute_result"
    }
   ],
   "source": [
    "len(papersastro2020)"
   ]
  },
  {
   "cell_type": "code",
   "execution_count": 1,
   "metadata": {
    "ExecuteTime": {
     "end_time": "2020-04-22T11:09:17.395915Z",
     "start_time": "2020-04-22T11:09:17.346088Z"
    }
   },
   "outputs": [
    {
     "data": {
      "text/plain": [
       "'/Users/brettlv/blog/brettlv.github.io/pythoncode'"
      ]
     },
     "execution_count": 1,
     "metadata": {},
     "output_type": "execute_result"
    }
   ],
   "source": [
    "pwd"
   ]
  },
  {
   "cell_type": "markdown",
   "metadata": {
    "ExecuteTime": {
     "end_time": "2019-12-09T22:23:38.085644Z",
     "start_time": "2019-12-09T22:23:37.753610Z"
    }
   },
   "source": [
    "cat astro2020whitepaperuptodate20191109.txt"
   ]
  },
  {
   "cell_type": "code",
   "execution_count": 14,
   "metadata": {
    "ExecuteTime": {
     "end_time": "2020-04-22T22:51:44.912044Z",
     "start_time": "2020-04-22T22:51:44.511663Z"
    }
   },
   "outputs": [
    {
     "name": "stdout",
     "output_type": "stream",
     "text": [
      "astro2020uptodate20190314.txt\r\n",
      "astro2020uptodate20190315.txt\r\n",
      "astro2020whitepaperuptodate20190315.txt\r\n",
      "astro2020whitepaperuptodate20190318.txt\r\n",
      "astro2020whitepaperuptodate20190401.txt\r\n",
      "astro2020whitepaperuptodate20190403.txt\r\n",
      "astro2020whitepaperuptodate20190415.txt\r\n",
      "astro2020whitepaperuptodate20190505.txt\r\n",
      "astro2020whitepaperuptodate20190626.txt\r\n",
      "astro2020whitepaperuptodate20191109.txt\r\n",
      "pos_list.txt\r\n",
      "ra_dec.txt\r\n",
      "ra_dec_tab.txt\r\n",
      "ra_dec_tab_byhand.txt\r\n",
      "searchresult.txt\r\n"
     ]
    }
   ],
   "source": [
    "ls *.txt"
   ]
  },
  {
   "cell_type": "code",
   "execution_count": 32,
   "metadata": {
    "ExecuteTime": {
     "end_time": "2019-03-20T11:25:41.749637Z",
     "start_time": "2019-03-20T11:25:41.587891Z"
    }
   },
   "outputs": [],
   "source": [
    "!mail - brettlv@icloud.com brettlv@foxmail.com < astro2020whitepaperuptodate20190318.txt"
   ]
  },
  {
   "cell_type": "markdown",
   "metadata": {
    "ExecuteTime": {
     "end_time": "2020-04-22T22:52:05.204343Z",
     "start_time": "2020-04-22T22:52:04.691594Z"
    }
   },
   "source": [
    "cat astro2020whitepaperuptodate20191109.txt"
   ]
  },
  {
   "cell_type": "code",
   "execution_count": 21,
   "metadata": {
    "ExecuteTime": {
     "end_time": "2018-11-07T18:34:46.614488Z",
     "start_time": "2018-11-07T18:34:46.598671Z"
    }
   },
   "outputs": [
    {
     "name": "stdout",
     "output_type": "stream",
     "text": [
      "No results.\n"
     ]
    }
   ],
   "source": []
  },
  {
   "cell_type": "code",
   "execution_count": 15,
   "metadata": {
    "ExecuteTime": {
     "end_time": "2019-06-26T14:07:35.890852Z",
     "start_time": "2019-06-26T14:07:34.776245Z"
    }
   },
   "outputs": [],
   "source": [
    "coreshift=arxiv.query(search_query=\"core shift\")"
   ]
  },
  {
   "cell_type": "code",
   "execution_count": 16,
   "metadata": {
    "ExecuteTime": {
     "end_time": "2019-06-26T14:07:36.554046Z",
     "start_time": "2019-06-26T14:07:36.550060Z"
    }
   },
   "outputs": [
    {
     "data": {
      "text/plain": [
       "10"
      ]
     },
     "execution_count": 16,
     "metadata": {},
     "output_type": "execute_result"
    }
   ],
   "source": [
    "len(coreshift)"
   ]
  },
  {
   "cell_type": "code",
   "execution_count": null,
   "metadata": {
    "collapsed": true
   },
   "outputs": [],
   "source": []
  },
  {
   "cell_type": "code",
   "execution_count": null,
   "metadata": {
    "collapsed": true
   },
   "outputs": [],
   "source": []
  },
  {
   "cell_type": "code",
   "execution_count": null,
   "metadata": {
    "collapsed": true
   },
   "outputs": [],
   "source": []
  },
  {
   "cell_type": "code",
   "execution_count": 30,
   "metadata": {
    "ExecuteTime": {
     "end_time": "2019-03-14T22:08:27.009681Z",
     "start_time": "2019-03-14T22:08:26.007836Z"
    }
   },
   "outputs": [
    {
     "data": {
      "text/plain": [
       "[{'affiliation': 'None',\n",
       "  'arxiv_comment': '32 pages',\n",
       "  'arxiv_primary_category': {'scheme': 'http://arxiv.org/schemas/atom',\n",
       "   'term': 'quant-ph'},\n",
       "  'arxiv_url': 'http://arxiv.org/abs/quant-ph/0201082v1',\n",
       "  'author': 'Stephen Blaha',\n",
       "  'author_detail': {'name': 'Stephen Blaha'},\n",
       "  'authors': ['Stephen Blaha'],\n",
       "  'doi': None,\n",
       "  'guidislink': True,\n",
       "  'id': 'http://arxiv.org/abs/quant-ph/0201082v1',\n",
       "  'journal_reference': None,\n",
       "  'links': [{'href': 'http://arxiv.org/abs/quant-ph/0201082v1',\n",
       "    'rel': 'alternate',\n",
       "    'type': 'text/html'},\n",
       "   {'href': 'http://arxiv.org/pdf/quant-ph/0201082v1',\n",
       "    'rel': 'related',\n",
       "    'title': 'pdf',\n",
       "    'type': 'application/pdf'}],\n",
       "  'pdf_url': 'http://arxiv.org/pdf/quant-ph/0201082v1',\n",
       "  'published': '2002-01-18T15:08:05Z',\n",
       "  'published_parsed': time.struct_time(tm_year=2002, tm_mon=1, tm_mday=18, tm_hour=15, tm_min=8, tm_sec=5, tm_wday=4, tm_yday=18, tm_isdst=0),\n",
       "  'summary': 'We show a representation of Quantum Computers defines Quantum Turing Machines\\nwith associated Quantum Grammars. We then create examples of Quantum Grammars.\\nLastly we develop an algebraic approach to high level Quantum Languages using\\nQuantum Assembly language and Quantum C language as examples.',\n",
       "  'summary_detail': {'base': 'http://export.arxiv.org/api/query?search_query=quantum&id_list=&start=0&max_results=10',\n",
       "   'language': None,\n",
       "   'type': 'text/plain',\n",
       "   'value': 'We show a representation of Quantum Computers defines Quantum Turing Machines\\nwith associated Quantum Grammars. We then create examples of Quantum Grammars.\\nLastly we develop an algebraic approach to high level Quantum Languages using\\nQuantum Assembly language and Quantum C language as examples.'},\n",
       "  'tags': [{'label': None,\n",
       "    'scheme': 'http://arxiv.org/schemas/atom',\n",
       "    'term': 'quant-ph'},\n",
       "   {'label': None,\n",
       "    'scheme': 'http://arxiv.org/schemas/atom',\n",
       "    'term': 'cs.PL'}],\n",
       "  'title': 'Quantum Computers and Quantum Computer Languages: Quantum Assembly\\n  Language and Quantum C Language',\n",
       "  'title_detail': {'base': 'http://export.arxiv.org/api/query?search_query=quantum&id_list=&start=0&max_results=10',\n",
       "   'language': None,\n",
       "   'type': 'text/plain',\n",
       "   'value': 'Quantum Computers and Quantum Computer Languages: Quantum Assembly\\n  Language and Quantum C Language'},\n",
       "  'updated': '2002-01-18T15:08:05Z',\n",
       "  'updated_parsed': time.struct_time(tm_year=2002, tm_mon=1, tm_mday=18, tm_hour=15, tm_min=8, tm_sec=5, tm_wday=4, tm_yday=18, tm_isdst=0)},\n",
       " {'affiliation': 'None',\n",
       "  'arxiv_comment': '3 pages, 2 figures. This paper previously appeared in: Proceedings,\\n  International Conference on Quantum Information (ICQI). Rochester, New York,\\n  USA, 2001',\n",
       "  'arxiv_primary_category': {'scheme': 'http://arxiv.org/schemas/atom',\n",
       "   'term': 'quant-ph'},\n",
       "  'arxiv_url': 'http://arxiv.org/abs/quant-ph/0407102v1',\n",
       "  'author': 'Michele Mosca',\n",
       "  'author_detail': {'name': 'Michele Mosca'},\n",
       "  'authors': ['Phillip Kaye', 'Michele Mosca'],\n",
       "  'doi': None,\n",
       "  'guidislink': True,\n",
       "  'id': 'http://arxiv.org/abs/quant-ph/0407102v1',\n",
       "  'journal_reference': 'Phillip Kaye, Michele Mosca, \"Quantum Networks for Generating\\n  Arbitrary Quantum States\", Proceedings, International Conference on Quantum\\n  Information (ICQI). Rochester, New York, USA, 2001',\n",
       "  'links': [{'href': 'http://arxiv.org/abs/quant-ph/0407102v1',\n",
       "    'rel': 'alternate',\n",
       "    'type': 'text/html'},\n",
       "   {'href': 'http://arxiv.org/pdf/quant-ph/0407102v1',\n",
       "    'rel': 'related',\n",
       "    'title': 'pdf',\n",
       "    'type': 'application/pdf'}],\n",
       "  'pdf_url': 'http://arxiv.org/pdf/quant-ph/0407102v1',\n",
       "  'published': '2004-07-14T14:47:27Z',\n",
       "  'published_parsed': time.struct_time(tm_year=2004, tm_mon=7, tm_mday=14, tm_hour=14, tm_min=47, tm_sec=27, tm_wday=2, tm_yday=196, tm_isdst=0),\n",
       "  'summary': 'Quantum protocols often require the generation of specific quantum states. We\\ndescribe a quantum algorithm for generating any prescribed quantum state. For\\nan important subclass of states, including pure symmetric states, this\\nalgorithm is efficient.',\n",
       "  'summary_detail': {'base': 'http://export.arxiv.org/api/query?search_query=quantum&id_list=&start=0&max_results=10',\n",
       "   'language': None,\n",
       "   'type': 'text/plain',\n",
       "   'value': 'Quantum protocols often require the generation of specific quantum states. We\\ndescribe a quantum algorithm for generating any prescribed quantum state. For\\nan important subclass of states, including pure symmetric states, this\\nalgorithm is efficient.'},\n",
       "  'tags': [{'label': None,\n",
       "    'scheme': 'http://arxiv.org/schemas/atom',\n",
       "    'term': 'quant-ph'}],\n",
       "  'title': 'Quantum Networks for Generating Arbitrary Quantum States',\n",
       "  'title_detail': {'base': 'http://export.arxiv.org/api/query?search_query=quantum&id_list=&start=0&max_results=10',\n",
       "   'language': None,\n",
       "   'type': 'text/plain',\n",
       "   'value': 'Quantum Networks for Generating Arbitrary Quantum States'},\n",
       "  'updated': '2004-07-14T14:47:27Z',\n",
       "  'updated_parsed': time.struct_time(tm_year=2004, tm_mon=7, tm_mday=14, tm_hour=14, tm_min=47, tm_sec=27, tm_wday=2, tm_yday=196, tm_isdst=0)},\n",
       " {'affiliation': 'None',\n",
       "  'arxiv_comment': '44 pages, 14 figures. To appear in the Springer Encyclopedia of\\n  Complexity and Systems Science',\n",
       "  'arxiv_primary_category': {'scheme': 'http://arxiv.org/schemas/atom',\n",
       "   'term': 'quant-ph'},\n",
       "  'arxiv_url': 'http://arxiv.org/abs/0804.3401v1',\n",
       "  'author': 'John Watrous',\n",
       "  'author_detail': {'name': 'John Watrous'},\n",
       "  'authors': ['John Watrous'],\n",
       "  'doi': None,\n",
       "  'guidislink': True,\n",
       "  'id': 'http://arxiv.org/abs/0804.3401v1',\n",
       "  'journal_reference': None,\n",
       "  'links': [{'href': 'http://arxiv.org/abs/0804.3401v1',\n",
       "    'rel': 'alternate',\n",
       "    'type': 'text/html'},\n",
       "   {'href': 'http://arxiv.org/pdf/0804.3401v1',\n",
       "    'rel': 'related',\n",
       "    'title': 'pdf',\n",
       "    'type': 'application/pdf'}],\n",
       "  'pdf_url': 'http://arxiv.org/pdf/0804.3401v1',\n",
       "  'published': '2008-04-21T20:07:38Z',\n",
       "  'published_parsed': time.struct_time(tm_year=2008, tm_mon=4, tm_mday=21, tm_hour=20, tm_min=7, tm_sec=38, tm_wday=0, tm_yday=112, tm_isdst=0),\n",
       "  'summary': 'This article surveys quantum computational complexity, with a focus on three\\nfundamental notions: polynomial-time quantum computations, the efficient\\nverification of quantum proofs, and quantum interactive proof systems.\\nProperties of quantum complexity classes based on these notions, such as BQP,\\nQMA, and QIP, are presented. Other topics in quantum complexity, including\\nquantum advice, space-bounded quantum computation, and bounded-depth quantum\\ncircuits, are also discussed.',\n",
       "  'summary_detail': {'base': 'http://export.arxiv.org/api/query?search_query=quantum&id_list=&start=0&max_results=10',\n",
       "   'language': None,\n",
       "   'type': 'text/plain',\n",
       "   'value': 'This article surveys quantum computational complexity, with a focus on three\\nfundamental notions: polynomial-time quantum computations, the efficient\\nverification of quantum proofs, and quantum interactive proof systems.\\nProperties of quantum complexity classes based on these notions, such as BQP,\\nQMA, and QIP, are presented. Other topics in quantum complexity, including\\nquantum advice, space-bounded quantum computation, and bounded-depth quantum\\ncircuits, are also discussed.'},\n",
       "  'tags': [{'label': None,\n",
       "    'scheme': 'http://arxiv.org/schemas/atom',\n",
       "    'term': 'quant-ph'}],\n",
       "  'title': 'Quantum Computational Complexity',\n",
       "  'title_detail': {'base': 'http://export.arxiv.org/api/query?search_query=quantum&id_list=&start=0&max_results=10',\n",
       "   'language': None,\n",
       "   'type': 'text/plain',\n",
       "   'value': 'Quantum Computational Complexity'},\n",
       "  'updated': '2008-04-21T20:07:38Z',\n",
       "  'updated_parsed': time.struct_time(tm_year=2008, tm_mon=4, tm_mday=21, tm_hour=20, tm_min=7, tm_sec=38, tm_wday=0, tm_yday=112, tm_isdst=0)},\n",
       " {'affiliation': 'None',\n",
       "  'arxiv_comment': '4 pages',\n",
       "  'arxiv_primary_category': {'scheme': 'http://arxiv.org/schemas/atom',\n",
       "   'term': 'quant-ph'},\n",
       "  'arxiv_url': 'http://arxiv.org/abs/1311.4939v1',\n",
       "  'author': 'Zeqian Chen',\n",
       "  'author_detail': {'name': 'Zeqian Chen'},\n",
       "  'authors': ['Zeqian Chen'],\n",
       "  'doi': None,\n",
       "  'guidislink': True,\n",
       "  'id': 'http://arxiv.org/abs/1311.4939v1',\n",
       "  'journal_reference': None,\n",
       "  'links': [{'href': 'http://arxiv.org/abs/1311.4939v1',\n",
       "    'rel': 'alternate',\n",
       "    'type': 'text/html'},\n",
       "   {'href': 'http://arxiv.org/pdf/1311.4939v1',\n",
       "    'rel': 'related',\n",
       "    'title': 'pdf',\n",
       "    'type': 'application/pdf'}],\n",
       "  'pdf_url': 'http://arxiv.org/pdf/1311.4939v1',\n",
       "  'published': '2013-11-20T02:23:12Z',\n",
       "  'published_parsed': time.struct_time(tm_year=2013, tm_mon=11, tm_mday=20, tm_hour=2, tm_min=23, tm_sec=12, tm_wday=2, tm_yday=324, tm_isdst=0),\n",
       "  'summary': \"We interpret quantum computing as a geometric evolution process by\\nreformulating finite quantum systems via Connes' noncommutative geometry. In\\nthis formulation, quantum states are represented as noncommutative connections,\\nwhile gauge transformations on the connections play a role of unitary quantum\\noperations. Thereby, a geometrical model for quantum computation is presented,\\nwhich is equivalent to the quantum circuit model. This result shows a geometric\\nway of realizing quantum computing and as such, provides an alternative\\nproposal of building a quantum computer.\",\n",
       "  'summary_detail': {'base': 'http://export.arxiv.org/api/query?search_query=quantum&id_list=&start=0&max_results=10',\n",
       "   'language': None,\n",
       "   'type': 'text/plain',\n",
       "   'value': \"We interpret quantum computing as a geometric evolution process by\\nreformulating finite quantum systems via Connes' noncommutative geometry. In\\nthis formulation, quantum states are represented as noncommutative connections,\\nwhile gauge transformations on the connections play a role of unitary quantum\\noperations. Thereby, a geometrical model for quantum computation is presented,\\nwhich is equivalent to the quantum circuit model. This result shows a geometric\\nway of realizing quantum computing and as such, provides an alternative\\nproposal of building a quantum computer.\"},\n",
       "  'tags': [{'label': None,\n",
       "    'scheme': 'http://arxiv.org/schemas/atom',\n",
       "    'term': 'quant-ph'}],\n",
       "  'title': 'Geometrical perspective on quantum states and quantum computation',\n",
       "  'title_detail': {'base': 'http://export.arxiv.org/api/query?search_query=quantum&id_list=&start=0&max_results=10',\n",
       "   'language': None,\n",
       "   'type': 'text/plain',\n",
       "   'value': 'Geometrical perspective on quantum states and quantum computation'},\n",
       "  'updated': '2013-11-20T02:23:12Z',\n",
       "  'updated_parsed': time.struct_time(tm_year=2013, tm_mon=11, tm_mday=20, tm_hour=2, tm_min=23, tm_sec=12, tm_wday=2, tm_yday=324, tm_isdst=0)},\n",
       " {'affiliation': 'None',\n",
       "  'arxiv_comment': 'This is a preliminary draft. Comments are most welcome',\n",
       "  'arxiv_primary_category': {'scheme': 'http://arxiv.org/schemas/atom',\n",
       "   'term': 'quant-ph'},\n",
       "  'arxiv_url': 'http://arxiv.org/abs/1611.03472v1',\n",
       "  'author': 'Avatar Tulsi',\n",
       "  'author_detail': {'name': 'Avatar Tulsi'},\n",
       "  'authors': ['Avatar Tulsi'],\n",
       "  'doi': None,\n",
       "  'guidislink': True,\n",
       "  'id': 'http://arxiv.org/abs/1611.03472v1',\n",
       "  'journal_reference': None,\n",
       "  'links': [{'href': 'http://arxiv.org/abs/1611.03472v1',\n",
       "    'rel': 'alternate',\n",
       "    'type': 'text/html'},\n",
       "   {'href': 'http://arxiv.org/pdf/1611.03472v1',\n",
       "    'rel': 'related',\n",
       "    'title': 'pdf',\n",
       "    'type': 'application/pdf'}],\n",
       "  'pdf_url': 'http://arxiv.org/pdf/1611.03472v1',\n",
       "  'published': '2016-11-10T20:30:19Z',\n",
       "  'published_parsed': time.struct_time(tm_year=2016, tm_mon=11, tm_mday=10, tm_hour=20, tm_min=30, tm_sec=19, tm_wday=3, tm_yday=315, tm_isdst=0),\n",
       "  'summary': 'Quantum amplitude amplification and quantum phase estimation are two\\nfundamental quantum algorithms. All known quantum algorithms are derived from\\nthese two algorithms. Even the adiabatic quantum algorithms can also be\\nefficiently simulated using quantum phase estimation. We present a universal\\nquantum algorithm which explains these two algorithms as special cases. An\\ninteresting result is that we do not need quantum fourier transform to do\\nquantum phase estimation.',\n",
       "  'summary_detail': {'base': 'http://export.arxiv.org/api/query?search_query=quantum&id_list=&start=0&max_results=10',\n",
       "   'language': None,\n",
       "   'type': 'text/plain',\n",
       "   'value': 'Quantum amplitude amplification and quantum phase estimation are two\\nfundamental quantum algorithms. All known quantum algorithms are derived from\\nthese two algorithms. Even the adiabatic quantum algorithms can also be\\nefficiently simulated using quantum phase estimation. We present a universal\\nquantum algorithm which explains these two algorithms as special cases. An\\ninteresting result is that we do not need quantum fourier transform to do\\nquantum phase estimation.'},\n",
       "  'tags': [{'label': None,\n",
       "    'scheme': 'http://arxiv.org/schemas/atom',\n",
       "    'term': 'quant-ph'}],\n",
       "  'title': 'Universal Quantum Algorithm',\n",
       "  'title_detail': {'base': 'http://export.arxiv.org/api/query?search_query=quantum&id_list=&start=0&max_results=10',\n",
       "   'language': None,\n",
       "   'type': 'text/plain',\n",
       "   'value': 'Universal Quantum Algorithm'},\n",
       "  'updated': '2016-11-10T20:30:19Z',\n",
       "  'updated_parsed': time.struct_time(tm_year=2016, tm_mon=11, tm_mday=10, tm_hour=20, tm_min=30, tm_sec=19, tm_wday=3, tm_yday=315, tm_isdst=0)},\n",
       " {'affiliation': 'None',\n",
       "  'arxiv_comment': 'PlainTeX, 13 pages',\n",
       "  'arxiv_primary_category': {'scheme': 'http://arxiv.org/schemas/atom',\n",
       "   'term': 'q-alg'},\n",
       "  'arxiv_url': 'http://arxiv.org/abs/q-alg/9610034v1',\n",
       "  'author': 'Anatol N. Kirillov',\n",
       "  'author_detail': {'name': 'Anatol N. Kirillov'},\n",
       "  'authors': ['Anatol N. Kirillov'],\n",
       "  'doi': None,\n",
       "  'guidislink': True,\n",
       "  'id': 'http://arxiv.org/abs/q-alg/9610034v1',\n",
       "  'journal_reference': None,\n",
       "  'links': [{'href': 'http://arxiv.org/abs/q-alg/9610034v1',\n",
       "    'rel': 'alternate',\n",
       "    'type': 'text/html'},\n",
       "   {'href': 'http://arxiv.org/pdf/q-alg/9610034v1',\n",
       "    'rel': 'related',\n",
       "    'title': 'pdf',\n",
       "    'type': 'application/pdf'}],\n",
       "  'pdf_url': 'http://arxiv.org/pdf/q-alg/9610034v1',\n",
       "  'published': '1996-10-30T15:57:00Z',\n",
       "  'published_parsed': time.struct_time(tm_year=1996, tm_mon=10, tm_mday=30, tm_hour=15, tm_min=57, tm_sec=0, tm_wday=2, tm_yday=304, tm_isdst=0),\n",
       "  'summary': 'We study the algebraic aspects of (small) quantum equivariant $K$-theory of\\nflag manifold. Lascoux-Sch\\\\\"utzenberger\\'s type formula for quantum double and\\nquantum double dual Grothendieck polynomials and the quantum Cauchy identity\\nfor quantum Grothendieck polynomials are obtained.',\n",
       "  'summary_detail': {'base': 'http://export.arxiv.org/api/query?search_query=quantum&id_list=&start=0&max_results=10',\n",
       "   'language': None,\n",
       "   'type': 'text/plain',\n",
       "   'value': 'We study the algebraic aspects of (small) quantum equivariant $K$-theory of\\nflag manifold. Lascoux-Sch\\\\\"utzenberger\\'s type formula for quantum double and\\nquantum double dual Grothendieck polynomials and the quantum Cauchy identity\\nfor quantum Grothendieck polynomials are obtained.'},\n",
       "  'tags': [{'label': None,\n",
       "    'scheme': 'http://arxiv.org/schemas/atom',\n",
       "    'term': 'q-alg'},\n",
       "   {'label': None,\n",
       "    'scheme': 'http://arxiv.org/schemas/atom',\n",
       "    'term': 'math.QA'}],\n",
       "  'title': 'Quantum Grothendieck polynomials',\n",
       "  'title_detail': {'base': 'http://export.arxiv.org/api/query?search_query=quantum&id_list=&start=0&max_results=10',\n",
       "   'language': None,\n",
       "   'type': 'text/plain',\n",
       "   'value': 'Quantum Grothendieck polynomials'},\n",
       "  'updated': '1996-10-30T15:57:00Z',\n",
       "  'updated_parsed': time.struct_time(tm_year=1996, tm_mon=10, tm_mday=30, tm_hour=15, tm_min=57, tm_sec=0, tm_wday=2, tm_yday=304, tm_isdst=0)},\n",
       " {'affiliation': 'None',\n",
       "  'arxiv_comment': 'inv. talk, 10th Int. Conf. Comput. and Appl. Math., Leuven, Belgium\\n  (2002)',\n",
       "  'arxiv_primary_category': {'scheme': 'http://arxiv.org/schemas/atom',\n",
       "   'term': 'quant-ph'},\n",
       "  'arxiv_url': 'http://arxiv.org/abs/quant-ph/0302169v1',\n",
       "  'author': 'H. Kröger',\n",
       "  'author_detail': {'name': 'H. Kröger'},\n",
       "  'authors': ['H. Kröger'],\n",
       "  'doi': None,\n",
       "  'guidislink': True,\n",
       "  'id': 'http://arxiv.org/abs/quant-ph/0302169v1',\n",
       "  'journal_reference': None,\n",
       "  'links': [{'href': 'http://arxiv.org/abs/quant-ph/0302169v1',\n",
       "    'rel': 'alternate',\n",
       "    'type': 'text/html'},\n",
       "   {'href': 'http://arxiv.org/pdf/quant-ph/0302169v1',\n",
       "    'rel': 'related',\n",
       "    'title': 'pdf',\n",
       "    'type': 'application/pdf'}],\n",
       "  'pdf_url': 'http://arxiv.org/pdf/quant-ph/0302169v1',\n",
       "  'published': '2003-02-21T20:20:47Z',\n",
       "  'published_parsed': time.struct_time(tm_year=2003, tm_mon=2, tm_mday=21, tm_hour=20, tm_min=20, tm_sec=47, tm_wday=4, tm_yday=52, tm_isdst=0),\n",
       "  'summary': 'We discuss the recently proposed quantum action - its interpretation, its\\nmotivation, its mathematical properties and its use in physics: quantum\\nmechanical tunneling, quantum instantons and quantum chaos.',\n",
       "  'summary_detail': {'base': 'http://export.arxiv.org/api/query?search_query=quantum&id_list=&start=0&max_results=10',\n",
       "   'language': None,\n",
       "   'type': 'text/plain',\n",
       "   'value': 'We discuss the recently proposed quantum action - its interpretation, its\\nmotivation, its mathematical properties and its use in physics: quantum\\nmechanical tunneling, quantum instantons and quantum chaos.'},\n",
       "  'tags': [{'label': None,\n",
       "    'scheme': 'http://arxiv.org/schemas/atom',\n",
       "    'term': 'quant-ph'}],\n",
       "  'title': 'Nonlinear Dynamics In Quantum Physics -- Quantum Chaos and Quantum\\n  Instantons',\n",
       "  'title_detail': {'base': 'http://export.arxiv.org/api/query?search_query=quantum&id_list=&start=0&max_results=10',\n",
       "   'language': None,\n",
       "   'type': 'text/plain',\n",
       "   'value': 'Nonlinear Dynamics In Quantum Physics -- Quantum Chaos and Quantum\\n  Instantons'},\n",
       "  'updated': '2003-02-21T20:20:47Z',\n",
       "  'updated_parsed': time.struct_time(tm_year=2003, tm_mon=2, tm_mday=21, tm_hour=20, tm_min=20, tm_sec=47, tm_wday=4, tm_yday=52, tm_isdst=0)},\n",
       " {'affiliation': 'None',\n",
       "  'arxiv_comment': 'Contextual probabilistic viewpoint to quantum cryptography project',\n",
       "  'arxiv_primary_category': {'scheme': 'http://arxiv.org/schemas/atom',\n",
       "   'term': 'quant-ph'},\n",
       "  'arxiv_url': 'http://arxiv.org/abs/quant-ph/0309066v1',\n",
       "  'author': 'Andrei Khrennikov',\n",
       "  'author_detail': {'name': 'Andrei Khrennikov'},\n",
       "  'authors': ['Andrei Khrennikov'],\n",
       "  'doi': '10.1117/12.517850',\n",
       "  'guidislink': True,\n",
       "  'id': 'http://arxiv.org/abs/quant-ph/0309066v1',\n",
       "  'journal_reference': None,\n",
       "  'links': [{'href': 'http://dx.doi.org/10.1117/12.517850',\n",
       "    'rel': 'related',\n",
       "    'title': 'doi',\n",
       "    'type': 'text/html'},\n",
       "   {'href': 'http://arxiv.org/abs/quant-ph/0309066v1',\n",
       "    'rel': 'alternate',\n",
       "    'type': 'text/html'},\n",
       "   {'href': 'http://arxiv.org/pdf/quant-ph/0309066v1',\n",
       "    'rel': 'related',\n",
       "    'title': 'pdf',\n",
       "    'type': 'application/pdf'}],\n",
       "  'pdf_url': 'http://arxiv.org/pdf/quant-ph/0309066v1',\n",
       "  'published': '2003-09-08T09:37:27Z',\n",
       "  'published_parsed': time.struct_time(tm_year=2003, tm_mon=9, tm_mday=8, tm_hour=9, tm_min=37, tm_sec=27, tm_wday=0, tm_yday=251, tm_isdst=0),\n",
       "  'summary': 'We discuss foundation of quantum mechanics (interpretations, superposition,\\nprinciple of complementarity, locality, hidden variables) and quantum\\ninformation theory.',\n",
       "  'summary_detail': {'base': 'http://export.arxiv.org/api/query?search_query=quantum&id_list=&start=0&max_results=10',\n",
       "   'language': None,\n",
       "   'type': 'text/plain',\n",
       "   'value': 'We discuss foundation of quantum mechanics (interpretations, superposition,\\nprinciple of complementarity, locality, hidden variables) and quantum\\ninformation theory.'},\n",
       "  'tags': [{'label': None,\n",
       "    'scheme': 'http://arxiv.org/schemas/atom',\n",
       "    'term': 'quant-ph'}],\n",
       "  'title': 'Probabilistic foundations of quantum mechanics and quantum information',\n",
       "  'title_detail': {'base': 'http://export.arxiv.org/api/query?search_query=quantum&id_list=&start=0&max_results=10',\n",
       "   'language': None,\n",
       "   'type': 'text/plain',\n",
       "   'value': 'Probabilistic foundations of quantum mechanics and quantum information'},\n",
       "  'updated': '2003-09-08T09:37:27Z',\n",
       "  'updated_parsed': time.struct_time(tm_year=2003, tm_mon=9, tm_mday=8, tm_hour=9, tm_min=37, tm_sec=27, tm_wday=0, tm_yday=251, tm_isdst=0)},\n",
       " {'affiliation': 'None',\n",
       "  'arxiv_comment': '14 pages, 6 figures',\n",
       "  'arxiv_primary_category': {'scheme': 'http://arxiv.org/schemas/atom',\n",
       "   'term': 'quant-ph'},\n",
       "  'arxiv_url': 'http://arxiv.org/abs/quant-ph/0504224v1',\n",
       "  'author': 'Gregor Tanner',\n",
       "  'author_detail': {'name': 'Gregor Tanner'},\n",
       "  'authors': ['Gregor Tanner'],\n",
       "  'doi': '10.1007/1-4020-3949-2_6',\n",
       "  'guidislink': True,\n",
       "  'id': 'http://arxiv.org/abs/quant-ph/0504224v1',\n",
       "  'journal_reference': None,\n",
       "  'links': [{'href': 'http://dx.doi.org/10.1007/1-4020-3949-2_6',\n",
       "    'rel': 'related',\n",
       "    'title': 'doi',\n",
       "    'type': 'text/html'},\n",
       "   {'href': 'http://arxiv.org/abs/quant-ph/0504224v1',\n",
       "    'rel': 'alternate',\n",
       "    'type': 'text/html'},\n",
       "   {'href': 'http://arxiv.org/pdf/quant-ph/0504224v1',\n",
       "    'rel': 'related',\n",
       "    'title': 'pdf',\n",
       "    'type': 'application/pdf'}],\n",
       "  'pdf_url': 'http://arxiv.org/pdf/quant-ph/0504224v1',\n",
       "  'published': '2005-04-29T09:41:00Z',\n",
       "  'published_parsed': time.struct_time(tm_year=2005, tm_mon=4, tm_mday=29, tm_hour=9, tm_min=41, tm_sec=0, tm_wday=4, tm_yday=119, tm_isdst=0),\n",
       "  'summary': 'We give a short overview over recent developments on quantum graphs and\\noutline the connection between general quantum graphs and so-called quantum\\nrandom walks.',\n",
       "  'summary_detail': {'base': 'http://export.arxiv.org/api/query?search_query=quantum&id_list=&start=0&max_results=10',\n",
       "   'language': None,\n",
       "   'type': 'text/plain',\n",
       "   'value': 'We give a short overview over recent developments on quantum graphs and\\noutline the connection between general quantum graphs and so-called quantum\\nrandom walks.'},\n",
       "  'tags': [{'label': None,\n",
       "    'scheme': 'http://arxiv.org/schemas/atom',\n",
       "    'term': 'quant-ph'}],\n",
       "  'title': 'From quantum graphs to quantum random walks',\n",
       "  'title_detail': {'base': 'http://export.arxiv.org/api/query?search_query=quantum&id_list=&start=0&max_results=10',\n",
       "   'language': None,\n",
       "   'type': 'text/plain',\n",
       "   'value': 'From quantum graphs to quantum random walks'},\n",
       "  'updated': '2005-04-29T09:41:00Z',\n",
       "  'updated_parsed': time.struct_time(tm_year=2005, tm_mon=4, tm_mday=29, tm_hour=9, tm_min=41, tm_sec=0, tm_wday=4, tm_yday=119, tm_isdst=0)},\n",
       " {'affiliation': 'None',\n",
       "  'arxiv_comment': '64 pages, 3 figures',\n",
       "  'arxiv_primary_category': {'scheme': 'http://arxiv.org/schemas/atom',\n",
       "   'term': 'cs.LO'},\n",
       "  'arxiv_url': 'http://arxiv.org/abs/1610.02500v1',\n",
       "  'author': 'Yong Wang',\n",
       "  'author_detail': {'name': 'Yong Wang'},\n",
       "  'authors': ['Yong Wang'],\n",
       "  'doi': None,\n",
       "  'guidislink': True,\n",
       "  'id': 'http://arxiv.org/abs/1610.02500v1',\n",
       "  'journal_reference': None,\n",
       "  'links': [{'href': 'http://arxiv.org/abs/1610.02500v1',\n",
       "    'rel': 'alternate',\n",
       "    'type': 'text/html'},\n",
       "   {'href': 'http://arxiv.org/pdf/1610.02500v1',\n",
       "    'rel': 'related',\n",
       "    'title': 'pdf',\n",
       "    'type': 'application/pdf'}],\n",
       "  'pdf_url': 'http://arxiv.org/pdf/1610.02500v1',\n",
       "  'published': '2016-10-08T08:48:09Z',\n",
       "  'published_parsed': time.struct_time(tm_year=2016, tm_mon=10, tm_mday=8, tm_hour=8, tm_min=48, tm_sec=9, tm_wday=5, tm_yday=282, tm_isdst=0),\n",
       "  'summary': 'We have unified quantum and classical computing in open quantum systems\\ncalled qACP which is a quantum generalization of process algebra ACP. But, an\\naxiomatization for quantum and classical processes with an assumption of closed\\nquantum systems is still missing. For closed quantum systems, unitary operator,\\nquantum measurement and quantum entanglement are three basic components for\\nquantum computing. This leads to probability unavoidable. Along the solution of\\nqACP to unify quantum and classical computing in open quantum systems, we unify\\nquantum and classical computing with an assumption of closed systems under the\\nframework of ACP-like probabilistic process algebra. This unification make it\\ncan be used widely in verification for quantum and classical computing mixed\\nsystems, such as most quantum communication protocols.',\n",
       "  'summary_detail': {'base': 'http://export.arxiv.org/api/query?search_query=quantum&id_list=&start=0&max_results=10',\n",
       "   'language': None,\n",
       "   'type': 'text/plain',\n",
       "   'value': 'We have unified quantum and classical computing in open quantum systems\\ncalled qACP which is a quantum generalization of process algebra ACP. But, an\\naxiomatization for quantum and classical processes with an assumption of closed\\nquantum systems is still missing. For closed quantum systems, unitary operator,\\nquantum measurement and quantum entanglement are three basic components for\\nquantum computing. This leads to probability unavoidable. Along the solution of\\nqACP to unify quantum and classical computing in open quantum systems, we unify\\nquantum and classical computing with an assumption of closed systems under the\\nframework of ACP-like probabilistic process algebra. This unification make it\\ncan be used widely in verification for quantum and classical computing mixed\\nsystems, such as most quantum communication protocols.'},\n",
       "  'tags': [{'label': None,\n",
       "    'scheme': 'http://arxiv.org/schemas/atom',\n",
       "    'term': 'cs.LO'}],\n",
       "  'title': 'Probabilistic Process Algebra to Unifying Quantum and Classical\\n  Computing in Closed Systems',\n",
       "  'title_detail': {'base': 'http://export.arxiv.org/api/query?search_query=quantum&id_list=&start=0&max_results=10',\n",
       "   'language': None,\n",
       "   'type': 'text/plain',\n",
       "   'value': 'Probabilistic Process Algebra to Unifying Quantum and Classical\\n  Computing in Closed Systems'},\n",
       "  'updated': '2016-10-08T08:48:09Z',\n",
       "  'updated_parsed': time.struct_time(tm_year=2016, tm_mon=10, tm_mday=8, tm_hour=8, tm_min=48, tm_sec=9, tm_wday=5, tm_yday=282, tm_isdst=0)}]"
      ]
     },
     "execution_count": 30,
     "metadata": {},
     "output_type": "execute_result"
    }
   ],
   "source": [
    "import arxiv\n",
    "# Keyword search\n",
    "arxiv.query(search_query=\"quantum\")\n",
    "# Get single record by ID\n",
    "#arxiv.query(id_list=[\"1707.08567\"])\n",
    "# Get multiple records by ID\n",
    "#arxiv.query(id_list=[\"1707.08567\", \"1707.08567\"])"
   ]
  },
  {
   "cell_type": "code",
   "execution_count": 26,
   "metadata": {
    "ExecuteTime": {
     "end_time": "2019-03-14T22:07:12.335332Z",
     "start_time": "2019-03-14T22:07:11.496193Z"
    },
    "scrolled": true
   },
   "outputs": [],
   "source": [
    "import arxiv\n",
    "# Query for a paper of interest, then download\n",
    "paper = arxiv.query(id_list=[\"1811.02127\"])[0]\n",
    "#arxiv.download(paper)\n",
    "# You can skip the query step if you have the paper info!\n"
   ]
  },
  {
   "cell_type": "code",
   "execution_count": 34,
   "metadata": {
    "ExecuteTime": {
     "end_time": "2019-04-02T16:45:31.700779Z",
     "start_time": "2019-04-02T16:45:31.698166Z"
    }
   },
   "outputs": [],
   "source": [
    "#paper"
   ]
  },
  {
   "cell_type": "code",
   "execution_count": 28,
   "metadata": {
    "ExecuteTime": {
     "end_time": "2019-03-14T22:07:26.158492Z",
     "start_time": "2019-03-14T22:07:25.331355Z"
    }
   },
   "outputs": [
    {
     "data": {
      "text/plain": [
       "{'affiliation': 'MPIfR, IEP Hamburg',\n",
       " 'arxiv_comment': '22 pages, 15 figures, 2 tables; accepted to MNRAS',\n",
       " 'arxiv_primary_category': {'scheme': 'http://arxiv.org/schemas/atom',\n",
       "  'term': 'astro-ph.GA'},\n",
       " 'arxiv_url': 'http://arxiv.org/abs/1811.02544v2',\n",
       " 'author': 'A. P. Lobanov',\n",
       " 'author_detail': {'name': 'A. P. Lobanov'},\n",
       " 'authors': ['A. V. Plavin',\n",
       "  'Y. Y. Kovalev',\n",
       "  'A. B. Pushkarev',\n",
       "  'A. P. Lobanov'],\n",
       " 'doi': '10.1093/mnras/stz504',\n",
       " 'guidislink': True,\n",
       " 'id': 'http://arxiv.org/abs/1811.02544v2',\n",
       " 'journal_reference': 'MNRAS 485 (2019) 1822-1842',\n",
       " 'links': [{'href': 'http://dx.doi.org/10.1093/mnras/stz504',\n",
       "   'rel': 'related',\n",
       "   'title': 'doi',\n",
       "   'type': 'text/html'},\n",
       "  {'href': 'http://arxiv.org/abs/1811.02544v2',\n",
       "   'rel': 'alternate',\n",
       "   'type': 'text/html'},\n",
       "  {'href': 'http://arxiv.org/pdf/1811.02544v2',\n",
       "   'rel': 'related',\n",
       "   'title': 'pdf',\n",
       "   'type': 'application/pdf'}],\n",
       " 'pdf_url': 'http://arxiv.org/pdf/1811.02544v2',\n",
       " 'published': '2018-11-06T18:35:09Z',\n",
       " 'published_parsed': time.struct_time(tm_year=2018, tm_mon=11, tm_mday=6, tm_hour=18, tm_min=35, tm_sec=9, tm_wday=1, tm_yday=310, tm_isdst=0),\n",
       " 'summary': 'The apparent position of jet base (core) in radio-loud active galactic nuclei\\nchanges with frequency because of synchrotron self-absorption. Studying this\\n`core shift` effect enables us to reconstruct properties of the jet regions\\nclose to the central engine. We report here results from core shift\\nmeasurements in AGNs observed with global VLBI at 2 and 8 GHz at epochs from\\n1994 to 2016. Our sample contains 40 objects observed at least 10 times during\\nthat period. The core shift is determined using a new automatic procedure\\nintroduced to minimize possible biases. The resulting multiple epoch\\nmeasurements of the core position are employed for examining temporal\\nvariability of the core shift. We argue that the core shift variability is a\\ncommon phenomenon, as established for 33 of 40 AGNs we study. Our analysis\\nshows that the typical offsets between the core positions at 2 and 8 GHz are\\nabout 0.5 mas and they vary in time. Typical variability of the individual core\\npositions is about 0.3 mas. The measurements show a strong dependence between\\nthe core position and its flux density, suggesting that changes in both are\\nlikely related to the nuclear flares injecting denser plasma into the flow. We\\ndetermine that density of emitting relativistic particles significantly\\nincreases during these flares, while relative magnetic field changes less and\\nin the opposite direction.',\n",
       " 'summary_detail': {'base': 'http://export.arxiv.org/api/query?search_query=&id_list=1811.02544&start=0&max_results=10',\n",
       "  'language': None,\n",
       "  'type': 'text/plain',\n",
       "  'value': 'The apparent position of jet base (core) in radio-loud active galactic nuclei\\nchanges with frequency because of synchrotron self-absorption. Studying this\\n`core shift` effect enables us to reconstruct properties of the jet regions\\nclose to the central engine. We report here results from core shift\\nmeasurements in AGNs observed with global VLBI at 2 and 8 GHz at epochs from\\n1994 to 2016. Our sample contains 40 objects observed at least 10 times during\\nthat period. The core shift is determined using a new automatic procedure\\nintroduced to minimize possible biases. The resulting multiple epoch\\nmeasurements of the core position are employed for examining temporal\\nvariability of the core shift. We argue that the core shift variability is a\\ncommon phenomenon, as established for 33 of 40 AGNs we study. Our analysis\\nshows that the typical offsets between the core positions at 2 and 8 GHz are\\nabout 0.5 mas and they vary in time. Typical variability of the individual core\\npositions is about 0.3 mas. The measurements show a strong dependence between\\nthe core position and its flux density, suggesting that changes in both are\\nlikely related to the nuclear flares injecting denser plasma into the flow. We\\ndetermine that density of emitting relativistic particles significantly\\nincreases during these flares, while relative magnetic field changes less and\\nin the opposite direction.'},\n",
       " 'tags': [{'label': None,\n",
       "   'scheme': 'http://arxiv.org/schemas/atom',\n",
       "   'term': 'astro-ph.GA'},\n",
       "  {'label': None,\n",
       "   'scheme': 'http://arxiv.org/schemas/atom',\n",
       "   'term': 'astro-ph.HE'}],\n",
       " 'title': 'Significant core shift variability in parsec-scale jets of active\\n  galactic nuclei',\n",
       " 'title_detail': {'base': 'http://export.arxiv.org/api/query?search_query=&id_list=1811.02544&start=0&max_results=10',\n",
       "  'language': None,\n",
       "  'type': 'text/plain',\n",
       "  'value': 'Significant core shift variability in parsec-scale jets of active\\n  galactic nuclei'},\n",
       " 'updated': '2019-02-18T07:03:46Z',\n",
       " 'updated_parsed': time.struct_time(tm_year=2019, tm_mon=2, tm_mday=18, tm_hour=7, tm_min=3, tm_sec=46, tm_wday=0, tm_yday=49, tm_isdst=0)}"
      ]
     },
     "execution_count": 28,
     "metadata": {},
     "output_type": "execute_result"
    }
   ],
   "source": [
    "#1811.02544 core shift\n",
    "paper = arxiv.query(id_list=[\"1811.02544\"])[0]\n",
    "#arxiv.download(paper)\n",
    "#paper"
   ]
  },
  {
   "cell_type": "code",
   "execution_count": 33,
   "metadata": {
    "ExecuteTime": {
     "end_time": "2019-04-02T16:45:00.346185Z",
     "start_time": "2019-04-02T16:44:10.321978Z"
    }
   },
   "outputs": [
    {
     "data": {
      "text/plain": [
       "'./Proceedings of Workshop AEW10: Concepts in Information Theory and\\n  Communications.pdf'"
      ]
     },
     "execution_count": 33,
     "metadata": {},
     "output_type": "execute_result"
    }
   ],
   "source": [
    "paper = arxiv.query(id_list=[\"1707.08567\"])[0]\n",
    "arxiv.download(paper)"
   ]
  },
  {
   "cell_type": "code",
   "execution_count": 35,
   "metadata": {
    "ExecuteTime": {
     "end_time": "2019-04-02T16:46:08.388398Z",
     "start_time": "2019-04-02T16:46:08.226605Z"
    }
   },
   "outputs": [
    {
     "name": "stdout",
     "output_type": "stream",
     "text": [
      "Proceedings of Workshop AEW10: Concepts in Information Theory and?  Communications.pdf\r\n",
      "bb.pdf\r\n",
      "bb_1.pdf\r\n",
      "bb_4.pdf\r\n",
      "bb_5.pdf\r\n",
      "best_fit.pdf\r\n",
      "compare_evolutions.pdf\r\n",
      "distributionofdistance.pdf\r\n",
      "gwpytest01.pdf\r\n",
      "phase_resampling.pdf\r\n",
      "spin_angles.pdf\r\n"
     ]
    }
   ],
   "source": [
    "ls *.pdf"
   ]
  },
  {
   "cell_type": "code",
   "execution_count": 32,
   "metadata": {
    "ExecuteTime": {
     "end_time": "2019-04-02T16:43:51.093925Z",
     "start_time": "2019-04-02T16:43:50.932553Z"
    }
   },
   "outputs": [
    {
     "name": "stdout",
     "output_type": "stream",
     "text": [
      "bb.pdf                      compare_evolutions.pdf\r\n",
      "bb_1.pdf                    distributionofdistance.pdf\r\n",
      "bb_4.pdf                    gwpytest01.pdf\r\n",
      "bb_5.pdf                    phase_resampling.pdf\r\n",
      "best_fit.pdf                spin_angles.pdf\r\n"
     ]
    }
   ],
   "source": [
    "ls *.pdf"
   ]
  },
  {
   "cell_type": "code",
   "execution_count": 11,
   "metadata": {
    "ExecuteTime": {
     "end_time": "2020-04-22T22:17:35.465400Z",
     "start_time": "2020-04-22T22:17:35.462429Z"
    }
   },
   "outputs": [],
   "source": [
    "from datetime import datetime\n",
    "now = datetime.now() # 获取当前datetime"
   ]
  },
  {
   "cell_type": "code",
   "execution_count": 13,
   "metadata": {
    "ExecuteTime": {
     "end_time": "2020-04-22T22:17:52.315190Z",
     "start_time": "2020-04-22T22:17:52.306714Z"
    }
   },
   "outputs": [
    {
     "data": {
      "text/plain": [
       "2020"
      ]
     },
     "execution_count": 13,
     "metadata": {},
     "output_type": "execute_result"
    }
   ],
   "source": [
    "now.year"
   ]
  },
  {
   "cell_type": "code",
   "execution_count": null,
   "metadata": {
    "collapsed": true
   },
   "outputs": [],
   "source": []
  }
 ],
 "metadata": {
  "kernelspec": {
   "display_name": "Python 3",
   "language": "python",
   "name": "python3"
  },
  "language_info": {
   "codemirror_mode": {
    "name": "ipython",
    "version": 3
   },
   "file_extension": ".py",
   "mimetype": "text/x-python",
   "name": "python",
   "nbconvert_exporter": "python",
   "pygments_lexer": "ipython3",
   "version": "3.8.5"
  },
  "latex_envs": {
   "LaTeX_envs_menu_present": true,
   "autocomplete": true,
   "bibliofile": "biblio.bib",
   "cite_by": "apalike",
   "current_citInitial": 1,
   "eqLabelWithNumbers": true,
   "eqNumInitial": 1,
   "hotkeys": {
    "equation": "Ctrl-E",
    "itemize": "Ctrl-I"
   },
   "labels_anchors": false,
   "latex_user_defs": false,
   "report_style_numbering": false,
   "user_envs_cfg": false
  },
  "toc": {
   "nav_menu": {},
   "number_sections": true,
   "sideBar": true,
   "skip_h1_title": false,
   "toc_cell": false,
   "toc_position": {},
   "toc_section_display": "block",
   "toc_window_display": false
  }
 },
 "nbformat": 4,
 "nbformat_minor": 2
}
