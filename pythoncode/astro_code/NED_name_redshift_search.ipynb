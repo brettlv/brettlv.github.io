{
 "cells": [
  {
   "cell_type": "code",
   "execution_count": 4,
   "metadata": {
    "ExecuteTime": {
     "end_time": "2021-09-13T01:25:49.244811Z",
     "start_time": "2021-09-13T01:25:48.004758Z"
    }
   },
   "outputs": [],
   "source": [
    "import pandas as pd\n",
    "import numpy as np\n",
    "import os\n",
    "import time\n",
    "from astropy import config as _config\n",
    "from astroquery.irsa import Irsa \n",
    "\n",
    "from astroquery.ned import Ned\n"
   ]
  },
  {
   "cell_type": "code",
   "execution_count": 5,
   "metadata": {
    "ExecuteTime": {
     "end_time": "2021-09-13T01:25:56.237364Z",
     "start_time": "2021-09-13T01:25:56.226074Z"
    }
   },
   "outputs": [],
   "source": [
    "LLAGN=pd.read_csv('/Users/brettlv/Downloads/CLAGN_statistic_plot/LLAGN.csv')"
   ]
  },
  {
   "cell_type": "code",
   "execution_count": 6,
   "metadata": {
    "ExecuteTime": {
     "end_time": "2021-09-13T01:26:04.938155Z",
     "start_time": "2021-09-13T01:26:04.924061Z"
    }
   },
   "outputs": [
    {
     "data": {
      "text/plain": [
       "'IC 239'"
      ]
     },
     "execution_count": 6,
     "metadata": {},
     "output_type": "execute_result"
    }
   ],
   "source": [
    "LLAGN[\"Name\"][0]"
   ]
  },
  {
   "cell_type": "code",
   "execution_count": 28,
   "metadata": {
    "ExecuteTime": {
     "end_time": "2021-09-13T01:36:22.475220Z",
     "start_time": "2021-09-13T01:34:02.455054Z"
    }
   },
   "outputs": [],
   "source": [
    "for index,name in enumerate(LLAGN['Name']):\n",
    "    result_table = Ned.query_object(name)\n",
    "    LLAGN.loc[index,'redshift']=result_table['Redshift'].data[0]\n",
    "    "
   ]
  },
  {
   "cell_type": "code",
   "execution_count": 29,
   "metadata": {
    "ExecuteTime": {
     "end_time": "2021-09-13T01:36:22.506589Z",
     "start_time": "2021-09-13T01:36:22.478747Z"
    }
   },
   "outputs": [
    {
     "data": {
      "text/html": [
       "<div>\n",
       "<style scoped>\n",
       "    .dataframe tbody tr th:only-of-type {\n",
       "        vertical-align: middle;\n",
       "    }\n",
       "\n",
       "    .dataframe tbody tr th {\n",
       "        vertical-align: top;\n",
       "    }\n",
       "\n",
       "    .dataframe thead th {\n",
       "        text-align: right;\n",
       "    }\n",
       "</style>\n",
       "<table border=\"1\" class=\"dataframe\">\n",
       "  <thead>\n",
       "    <tr style=\"text-align: right;\">\n",
       "      <th></th>\n",
       "      <th>Name</th>\n",
       "      <th>redshift</th>\n",
       "    </tr>\n",
       "  </thead>\n",
       "  <tbody>\n",
       "    <tr>\n",
       "      <th>0</th>\n",
       "      <td>IC 239</td>\n",
       "      <td>0.003012</td>\n",
       "    </tr>\n",
       "    <tr>\n",
       "      <th>1</th>\n",
       "      <td>IC 1727</td>\n",
       "      <td>0.001151</td>\n",
       "    </tr>\n",
       "    <tr>\n",
       "      <th>2</th>\n",
       "      <td>NGC 147</td>\n",
       "      <td>-0.000644</td>\n",
       "    </tr>\n",
       "    <tr>\n",
       "      <th>3</th>\n",
       "      <td>NGC 185</td>\n",
       "      <td>-0.000674</td>\n",
       "    </tr>\n",
       "    <tr>\n",
       "      <th>4</th>\n",
       "      <td>NGC 205</td>\n",
       "      <td>-0.000804</td>\n",
       "    </tr>\n",
       "    <tr>\n",
       "      <th>...</th>\n",
       "      <td>...</td>\n",
       "      <td>...</td>\n",
       "    </tr>\n",
       "    <tr>\n",
       "      <th>170</th>\n",
       "      <td>NGC 7479</td>\n",
       "      <td>0.007925</td>\n",
       "    </tr>\n",
       "    <tr>\n",
       "      <th>171</th>\n",
       "      <td>NGC 7619</td>\n",
       "      <td>0.012549</td>\n",
       "    </tr>\n",
       "    <tr>\n",
       "      <th>172</th>\n",
       "      <td>NGC 7626</td>\n",
       "      <td>0.011358</td>\n",
       "    </tr>\n",
       "    <tr>\n",
       "      <th>173</th>\n",
       "      <td>NGC 7742</td>\n",
       "      <td>0.005534</td>\n",
       "    </tr>\n",
       "    <tr>\n",
       "      <th>174</th>\n",
       "      <td>NGC 7743</td>\n",
       "      <td>0.000000</td>\n",
       "    </tr>\n",
       "  </tbody>\n",
       "</table>\n",
       "<p>175 rows × 2 columns</p>\n",
       "</div>"
      ],
      "text/plain": [
       "         Name  redshift\n",
       "0      IC 239  0.003012\n",
       "1     IC 1727  0.001151\n",
       "2     NGC 147 -0.000644\n",
       "3     NGC 185 -0.000674\n",
       "4     NGC 205 -0.000804\n",
       "..        ...       ...\n",
       "170  NGC 7479  0.007925\n",
       "171  NGC 7619  0.012549\n",
       "172  NGC 7626  0.011358\n",
       "173  NGC 7742  0.005534\n",
       "174  NGC 7743  0.000000\n",
       "\n",
       "[175 rows x 2 columns]"
      ]
     },
     "execution_count": 29,
     "metadata": {},
     "output_type": "execute_result"
    }
   ],
   "source": [
    "LLAGN[[\"Name\",'redshift']]"
   ]
  },
  {
   "cell_type": "code",
   "execution_count": 31,
   "metadata": {
    "ExecuteTime": {
     "end_time": "2021-09-13T01:44:36.659518Z",
     "start_time": "2021-09-13T01:44:36.649445Z"
    }
   },
   "outputs": [
    {
     "data": {
      "text/html": [
       "<i>Table length=1</i>\n",
       "<table id=\"table4725427360\" class=\"table-striped table-bordered table-condensed\">\n",
       "<thead><tr><th>No.</th><th>Object Name</th><th>RA</th><th>DEC</th><th>Type</th><th>Velocity</th><th>Redshift</th><th>Redshift Flag</th><th>Magnitude and Filter</th><th>Separation</th><th>References</th><th>Notes</th><th>Photometry Points</th><th>Positions</th><th>Redshift Points</th><th>Diameter Points</th><th>Associations</th></tr></thead>\n",
       "<thead><tr><th></th><th></th><th>degrees</th><th>degrees</th><th></th><th>km / s</th><th></th><th></th><th></th><th>arcmin</th><th></th><th></th><th></th><th></th><th></th><th></th><th></th></tr></thead>\n",
       "<thead><tr><th>int32</th><th>bytes30</th><th>float64</th><th>float64</th><th>object</th><th>float64</th><th>float64</th><th>object</th><th>object</th><th>float64</th><th>int32</th><th>int32</th><th>int32</th><th>int32</th><th>int32</th><th>int32</th><th>int32</th></tr></thead>\n",
       "<tr><td>1</td><td>NGC 7743</td><td>356.08808</td><td>9.93408</td><td>G</td><td>0.0</td><td>0.0</td><td>SPEC</td><td>12.38</td><td>--</td><td>301</td><td>16</td><td>128</td><td>33</td><td>20</td><td>8</td><td>0</td></tr>\n",
       "</table>"
      ],
      "text/plain": [
       "<Table length=1>\n",
       " No.  Object Name     RA     ... Redshift Points Diameter Points Associations\n",
       "                   degrees   ...                                             \n",
       "int32   bytes30    float64   ...      int32           int32         int32    \n",
       "----- ----------- ---------- ... --------------- --------------- ------------\n",
       "    1    NGC 7743  356.08808 ...              20               8            0"
      ]
     },
     "execution_count": 31,
     "metadata": {},
     "output_type": "execute_result"
    }
   ],
   "source": [
    "result_table"
   ]
  },
  {
   "cell_type": "code",
   "execution_count": 30,
   "metadata": {
    "ExecuteTime": {
     "end_time": "2021-09-13T01:44:30.706410Z",
     "start_time": "2021-09-13T01:44:30.701218Z"
    }
   },
   "outputs": [
    {
     "name": "stdout",
     "output_type": "stream",
     "text": [
      "0.0\n"
     ]
    }
   ],
   "source": [
    "print(result_table['Redshift'].data[0])"
   ]
  },
  {
   "cell_type": "code",
   "execution_count": 16,
   "metadata": {
    "ExecuteTime": {
     "end_time": "2021-09-13T01:27:27.669430Z",
     "start_time": "2021-09-13T01:27:27.661354Z"
    }
   },
   "outputs": [
    {
     "data": {
      "text/html": [
       "&lt;MaskedColumn name=&apos;Redshift&apos; dtype=&apos;float64&apos; format=&apos;{!r:&gt;10}&apos; description=&apos;Heliocentric redshift for the object, if it exists in NED&apos; length=1&gt;\n",
       "<table>\n",
       "<tr><td>0.003012</td></tr>\n",
       "</table>"
      ],
      "text/plain": [
       "<MaskedColumn name='Redshift' dtype='float64' format='{!r:>10}' description='Heliocentric redshift for the object, if it exists in NED' length=1>\n",
       "  0.003012"
      ]
     },
     "execution_count": 16,
     "metadata": {},
     "output_type": "execute_result"
    }
   ],
   "source": [
    "result_table['Redshift']"
   ]
  },
  {
   "cell_type": "code",
   "execution_count": null,
   "metadata": {},
   "outputs": [],
   "source": []
  },
  {
   "cell_type": "code",
   "execution_count": 20,
   "metadata": {
    "ExecuteTime": {
     "end_time": "2021-09-13T01:29:46.319388Z",
     "start_time": "2021-09-13T01:29:46.309449Z"
    }
   },
   "outputs": [
    {
     "data": {
      "text/html": [
       "&lt;MaskedColumn name=&apos;name&apos; dtype=&apos;int64&apos; length=2&gt;\n",
       "<table>\n",
       "<tr><td>1</td></tr>\n",
       "<tr><td>2</td></tr>\n",
       "</table>"
      ],
      "text/plain": [
       "<MaskedColumn name='name' dtype='int64' length=2>\n",
       "1\n",
       "2"
      ]
     },
     "execution_count": 20,
     "metadata": {},
     "output_type": "execute_result"
    }
   ],
   "source": [
    "from  astropy.table import MaskedColumn\n",
    "\n",
    "col = MaskedColumn(data=[1, 2], name='name')\n",
    "col"
   ]
  },
  {
   "cell_type": "code",
   "execution_count": 21,
   "metadata": {
    "ExecuteTime": {
     "end_time": "2021-09-13T01:29:52.726705Z",
     "start_time": "2021-09-13T01:29:52.714620Z"
    }
   },
   "outputs": [
    {
     "data": {
      "text/html": [
       "&lt;MaskedColumn name=&apos;name&apos; dtype=&apos;int64&apos; length=2&gt;\n",
       "<table>\n",
       "<tr><td>--</td></tr>\n",
       "<tr><td>2</td></tr>\n",
       "</table>"
      ],
      "text/plain": [
       "<MaskedColumn name='name' dtype='int64' length=2>\n",
       "--\n",
       " 2"
      ]
     },
     "execution_count": 21,
     "metadata": {},
     "output_type": "execute_result"
    }
   ],
   "source": [
    "col = MaskedColumn(data=[1, 2], name='name', mask=[True, False])\n",
    "col\n"
   ]
  },
  {
   "cell_type": "code",
   "execution_count": 22,
   "metadata": {
    "ExecuteTime": {
     "end_time": "2021-09-13T01:30:00.948606Z",
     "start_time": "2021-09-13T01:30:00.942565Z"
    }
   },
   "outputs": [
    {
     "data": {
      "text/html": [
       "&lt;MaskedColumn name=&apos;name&apos; dtype=&apos;float64&apos; length=2&gt;\n",
       "<table>\n",
       "<tr><td>1.0</td></tr>\n",
       "<tr><td>2.0</td></tr>\n",
       "</table>"
      ],
      "text/plain": [
       "<MaskedColumn name='name' dtype='float64' length=2>\n",
       "1.0\n",
       "2.0"
      ]
     },
     "execution_count": 22,
     "metadata": {},
     "output_type": "execute_result"
    }
   ],
   "source": [
    "col = MaskedColumn(data=[1, 2], name='name', dtype=float, fill_value=99)\n",
    "col"
   ]
  },
  {
   "cell_type": "code",
   "execution_count": null,
   "metadata": {},
   "outputs": [],
   "source": []
  }
 ],
 "metadata": {
  "kernelspec": {
   "display_name": "Python 3",
   "language": "python",
   "name": "python3"
  },
  "language_info": {
   "codemirror_mode": {
    "name": "ipython",
    "version": 3
   },
   "file_extension": ".py",
   "mimetype": "text/x-python",
   "name": "python",
   "nbconvert_exporter": "python",
   "pygments_lexer": "ipython3",
   "version": "3.8.5"
  },
  "latex_envs": {
   "LaTeX_envs_menu_present": true,
   "autocomplete": true,
   "bibliofile": "biblio.bib",
   "cite_by": "apalike",
   "current_citInitial": 1,
   "eqLabelWithNumbers": true,
   "eqNumInitial": 1,
   "hotkeys": {
    "equation": "Ctrl-E",
    "itemize": "Ctrl-I"
   },
   "labels_anchors": false,
   "latex_user_defs": false,
   "report_style_numbering": false,
   "user_envs_cfg": false
  },
  "toc": {
   "nav_menu": {},
   "number_sections": true,
   "sideBar": true,
   "skip_h1_title": false,
   "toc_cell": false,
   "toc_position": {},
   "toc_section_display": "block",
   "toc_window_display": false
  }
 },
 "nbformat": 4,
 "nbformat_minor": 2
}
