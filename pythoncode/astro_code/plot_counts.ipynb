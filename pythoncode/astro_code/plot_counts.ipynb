{
 "cells": [
  {
   "cell_type": "code",
   "execution_count": 2,
   "metadata": {
    "ExecuteTime": {
     "end_time": "2019-05-21T14:23:15.477921Z",
     "start_time": "2019-05-21T14:23:15.430999Z"
    },
    "collapsed": false
   },
   "outputs": [],
   "source": [
    "import pandas as pd\n",
    "import numpy as np\n",
    "import os\n",
    "import sys\n",
    "import getopt\n",
    "from shutil import copyfile\n",
    "import pandas as pandas\n",
    "from dateutil.parser import parse\n",
    "import matplotlib.pyplot as plt\n",
    "from datetime import datetime\n",
    "import matplotlib\n",
    "#matplotlib.use('MacOSX')\n",
    "import pandas as pd"
   ]
  },
  {
   "cell_type": "code",
   "execution_count": null,
   "metadata": {
    "collapsed": true
   },
   "outputs": [],
   "source": [
    "re.split(r\";|,|\\?\\s|;\\s|,\\s\", text) "
   ]
  },
  {
   "cell_type": "code",
   "execution_count": 4,
   "metadata": {
    "ExecuteTime": {
     "end_time": "2019-05-21T14:24:30.705684Z",
     "start_time": "2019-05-21T14:24:30.696260Z"
    },
    "collapsed": false
   },
   "outputs": [
    {
     "data": {
      "text/plain": [
       "array(['00030955001', '00030955002', '00030955003', '00035166001',\n",
       "       '00035776001', '00035776002', '00035776003', '00035776004',\n",
       "       '00035776005', '00035776006', '00035776007', '00035776008',\n",
       "       '00035776010', '00035776011', '00035776012', '00035776014',\n",
       "       '00035776015', '00035776016', '00035776017', '00035776018',\n",
       "       '00035776019', '00035776020', '00035776021', '00035776023',\n",
       "       '00035776024', '00035776025', '00035776026', '00035776027',\n",
       "       '00035776029', '00035776031', '00035776032', '00035776033',\n",
       "       '00035776034', '00035776035', '00035776036', '00035776037',\n",
       "       '00035776038', '00035776039', '00035776040', '00035776041',\n",
       "       '00035776042', '00035776043', '00035776044', '00035776045',\n",
       "       '00035776046', '00035776047', '00035776049', '00035776050',\n",
       "       '00035776051', '00035776052', '00035776054', '00035776055',\n",
       "       '00035776056', '00035776057', '00035776058', '00049654001',\n",
       "       '00049654002', '00049654004', '00080898001', '00080898002',\n",
       "       '00088207001', '00088207002', '00088207003'],\n",
       "      dtype='<U11')"
      ]
     },
     "execution_count": 4,
     "metadata": {},
     "output_type": "execute_result"
    }
   ],
   "source": [
    "npzfile=np.load(\"radius47.npz\")\n",
    "npzfile['arr_2']"
   ]
  },
  {
   "cell_type": "code",
   "execution_count": 6,
   "metadata": {
    "ExecuteTime": {
     "end_time": "2019-05-24T15:56:15.103380Z",
     "start_time": "2019-05-24T15:56:13.955871Z"
    },
    "collapsed": false
   },
   "outputs": [
    {
     "data": {
      "image/png": "[encoded data removed]",
      "text/plain": [
       "<Figure size 432x288 with 1 Axes>"
      ]
     },
     "metadata": {},
     "output_type": "display_data"
    }
   ],
   "source": [
    "plt.plot(npzfile['arr_0'],npzfile['arr_1'],'.',label='xrt')\n",
    "plt.legend()\n",
    "plt.yscale('log')\n",
    "plt.title('radius 47arcsec')\n",
    "plt.show()# radius 70\" 142\" 260\" all\n",
    "\n"
   ]
  },
  {
   "cell_type": "code",
   "execution_count": null,
   "metadata": {
    "collapsed": true
   },
   "outputs": [],
   "source": []
  }
 ],
 "metadata": {
  "kernelspec": {
   "display_name": "Python 3",
   "language": "python",
   "name": "python3"
  },
  "language_info": {
   "codemirror_mode": {
    "name": "ipython",
    "version": 3
   },
   "file_extension": ".py",
   "mimetype": "text/x-python",
   "name": "python",
   "nbconvert_exporter": "python",
   "pygments_lexer": "ipython3",
   "version": "3.6.0"
  },
  "latex_envs": {
   "LaTeX_envs_menu_present": true,
   "autocomplete": true,
   "bibliofile": "biblio.bib",
   "cite_by": "apalike",
   "current_citInitial": 1,
   "eqLabelWithNumbers": true,
   "eqNumInitial": 1,
   "hotkeys": {
    "equation": "Ctrl-E",
    "itemize": "Ctrl-I"
   },
   "labels_anchors": false,
   "latex_user_defs": false,
   "report_style_numbering": false,
   "user_envs_cfg": false
  },
  "toc": {
   "nav_menu": {},
   "number_sections": true,
   "sideBar": true,
   "skip_h1_title": false,
   "toc_cell": false,
   "toc_position": {},
   "toc_section_display": "block",
   "toc_window_display": false
  }
 },
 "nbformat": 4,
 "nbformat_minor": 2
}
