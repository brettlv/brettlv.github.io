{
 "cells": [
  {
   "cell_type": "code",
   "execution_count": 1,
   "id": "8ff74491",
   "metadata": {
    "ExecuteTime": {
     "end_time": "2022-09-13T07:30:51.492157Z",
     "start_time": "2022-09-13T07:30:51.482975Z"
    }
   },
   "outputs": [],
   "source": [
    "import sys"
   ]
  },
  {
   "cell_type": "code",
   "execution_count": 2,
   "id": "72d95e3e",
   "metadata": {
    "ExecuteTime": {
     "end_time": "2022-09-13T07:30:57.940958Z",
     "start_time": "2022-09-13T07:30:57.913653Z"
    }
   },
   "outputs": [
    {
     "data": {
      "text/plain": [
       "'/Users/lyubing/opt/anaconda2/bin/python2'"
      ]
     },
     "execution_count": 2,
     "metadata": {},
     "output_type": "execute_result"
    }
   ],
   "source": [
    "sys.executable"
   ]
  },
  {
   "cell_type": "code",
   "execution_count": 5,
   "id": "b59f3190",
   "metadata": {
    "ExecuteTime": {
     "end_time": "2022-09-13T07:31:54.859302Z",
     "start_time": "2022-09-13T07:31:49.344556Z"
    }
   },
   "outputs": [
    {
     "name": "stdout",
     "output_type": "stream",
     "text": [
      "Collecting package metadata (current_repodata.json): done\n",
      "Solving environment: done\n",
      "\n",
      "# All requested packages already installed.\n",
      "\n",
      "Retrieving notices: ...working... done\n"
     ]
    }
   ],
   "source": [
    "import sys\n",
    "!conda install --yes --prefix {sys.prefix} scipy"
   ]
  },
  {
   "cell_type": "markdown",
   "id": "70013d6b",
   "metadata": {},
   "source": [
    "Python (2.7.x), Numpy (1.14 at least), Scipy (1.0.0 at least), PyMultiNest (see https://github.com/JohannesBuchner/PyMultiNest for more details), Matplotlib"
   ]
  },
  {
   "cell_type": "code",
   "execution_count": null,
   "id": "bceb38f0",
   "metadata": {},
   "outputs": [],
   "source": []
  },
  {
   "cell_type": "code",
   "execution_count": 8,
   "id": "82e2e1ab",
   "metadata": {
    "ExecuteTime": {
     "end_time": "2022-09-13T07:32:38.605735Z",
     "start_time": "2022-09-13T07:32:34.805342Z"
    }
   },
   "outputs": [
    {
     "name": "stdout",
     "output_type": "stream",
     "text": [
      "Collecting pymultinest\n",
      "\u001b[?25l  Downloading https://files.pythonhosted.org/packages/fd/56/07944b20ff959c7ba83a7886c0419f3723ffcad0213a35966def3419086c/pymultinest-2.11-py2.py3-none-any.whl (50kB)\n",
      "\u001b[K    100% |████████████████████████████████| 51kB 530kB/s ta 0:00:01\n",
      "\u001b[31mtwisted 18.7.0 requires PyHamcrest>=1.9.0, which is not installed.\u001b[0m\n",
      "\u001b[31mgrin 1.2.1 requires argparse>=1.1, which is not installed.\u001b[0m\n",
      "\u001b[?25hInstalling collected packages: pymultinest\n",
      "Successfully installed pymultinest-2.11\n",
      "\u001b[33mYou are using pip version 10.0.1, however version 20.3.4 is available.\n",
      "You should consider upgrading via the 'pip install --upgrade pip' command.\u001b[0m\n"
     ]
    }
   ],
   "source": [
    "import sys\n",
    "#!conda install --yes --prefix {sys.prefix} pymultinest\n",
    "\n",
    "!{sys.executable} -m pip install pymultinest"
   ]
  },
  {
   "cell_type": "code",
   "execution_count": 12,
   "id": "78472a96",
   "metadata": {
    "ExecuteTime": {
     "end_time": "2022-09-13T09:08:55.118330Z",
     "start_time": "2022-09-13T09:08:55.104526Z"
    }
   },
   "outputs": [
    {
     "data": {
      "text/plain": [
       "['The Fast Radio Burst Luminosity Function from the First CHIME FRB Catalog.pdf',\n",
       " '._The Fast Radio Burst Luminosity Function from the First CHIME FRB Catalog.pdf',\n",
       " 'On the FRB luminosity function \\xe2\\x80\\x93 \\xe2\\x80\\x93 II. Event rate density luorui staa704.pdf',\n",
       " '._On the FRB luminosity function \\xe2\\x80\\x93 \\xe2\\x80\\x93 II. Event rate density luorui staa704.pdf',\n",
       " 'On the normalized FRB luminosity function luorui sty2364.pdf',\n",
       " '._On the normalized FRB luminosity function luorui sty2364.pdf',\n",
       " 'frb_normlf',\n",
       " 'frblf_erd']"
      ]
     },
     "execution_count": 12,
     "metadata": {},
     "output_type": "execute_result"
    }
   ],
   "source": [
    "import os\n",
    "\n",
    "os.listdir('/Volumes/ExtremeSSD/Papers_classification/FRB/FRB_LF')"
   ]
  },
  {
   "cell_type": "code",
   "execution_count": 13,
   "id": "2f6ef118",
   "metadata": {
    "ExecuteTime": {
     "end_time": "2022-09-13T09:08:59.854190Z",
     "start_time": "2022-09-13T09:08:59.832838Z"
    }
   },
   "outputs": [
    {
     "data": {
      "text/plain": [
       "['.git',\n",
       " 'README.md',\n",
       " 'condat.sh',\n",
       " 'draw_nor.sh',\n",
       " 'draw_sim.sh',\n",
       " 'draw_upp.sh',\n",
       " 'frb_cat.txt',\n",
       " 'getcondat.py',\n",
       " 'lfdat',\n",
       " 'mcmc_frb.py',\n",
       " 'mcmc_simu.py',\n",
       " 'mn_out',\n",
       " 'mymodel.py',\n",
       " 'mymodel.pyc',\n",
       " 'plots',\n",
       " 'pltnorm.py',\n",
       " 'pltupper.py',\n",
       " 'run_samp.sh',\n",
       " 'run_simu.sh',\n",
       " 'simdat.sh',\n",
       " 'simudat',\n",
       " 'simufrb.py']"
      ]
     },
     "execution_count": 13,
     "metadata": {},
     "output_type": "execute_result"
    }
   ],
   "source": [
    "os.listdir('/Volumes/ExtremeSSD/Papers_classification/FRB/FRB_LF/frb_normlf/')"
   ]
  },
  {
   "cell_type": "code",
   "execution_count": 14,
   "id": "ef2ef76e",
   "metadata": {
    "ExecuteTime": {
     "end_time": "2022-09-13T09:09:09.363641Z",
     "start_time": "2022-09-13T09:09:09.347259Z"
    }
   },
   "outputs": [
    {
     "data": {
      "text/plain": [
       "['.git',\n",
       " '.DS_Store',\n",
       " 'README.md',\n",
       " 'draw_samp.sh',\n",
       " 'draw_sim.sh',\n",
       " 'frb_cat.txt',\n",
       " 'frb_util.py',\n",
       " 'nest_out',\n",
       " 'nest_samp.py',\n",
       " 'nest_simu.py',\n",
       " 'pltpost.py',\n",
       " 'run_samp.sh',\n",
       " 'run_simu.sh',\n",
       " 'simu',\n",
       " 'simudat.sh',\n",
       " 'simufrb.py',\n",
       " 'tel_svy.txt']"
      ]
     },
     "execution_count": 14,
     "metadata": {},
     "output_type": "execute_result"
    }
   ],
   "source": [
    "os.listdir('/Volumes/ExtremeSSD/Papers_classification/FRB/FRB_LF/frblf_erd/')"
   ]
  },
  {
   "cell_type": "code",
   "execution_count": 19,
   "id": "265dac28",
   "metadata": {
    "ExecuteTime": {
     "end_time": "2022-09-13T09:12:53.202601Z",
     "start_time": "2022-09-13T09:12:53.190289Z"
    }
   },
   "outputs": [
    {
     "data": {
      "text/plain": [
       "u'/Volumes/ExtremeSSD/Papers_classification/FRB/FRB_LF/frblf_erd'"
      ]
     },
     "execution_count": 19,
     "metadata": {},
     "output_type": "execute_result"
    }
   ],
   "source": [
    "pwd"
   ]
  },
  {
   "cell_type": "code",
   "execution_count": 20,
   "id": "b1f55693",
   "metadata": {
    "ExecuteTime": {
     "end_time": "2022-09-13T09:12:57.237776Z",
     "start_time": "2022-09-13T09:12:57.076334Z"
    }
   },
   "outputs": [
    {
     "name": "stdout",
     "output_type": "stream",
     "text": [
      "\u001b[31mREADME.md\u001b[m\u001b[m*    \u001b[31mfrb_cat.txt\u001b[m\u001b[m*  \u001b[31mnest_samp.py\u001b[m\u001b[m* \u001b[31mrun_samp.sh\u001b[m\u001b[m*  \u001b[31msimudat.sh\u001b[m\u001b[m*\r\n",
      "\u001b[31mdraw_samp.sh\u001b[m\u001b[m* \u001b[31mfrb_util.py\u001b[m\u001b[m*  \u001b[31mnest_simu.py\u001b[m\u001b[m* \u001b[31mrun_simu.sh\u001b[m\u001b[m*  \u001b[31msimufrb.py\u001b[m\u001b[m*\r\n",
      "\u001b[31mdraw_sim.sh\u001b[m\u001b[m*  \u001b[30m\u001b[43mnest_out\u001b[m\u001b[m/     \u001b[31mpltpost.py\u001b[m\u001b[m*   \u001b[30m\u001b[43msimu\u001b[m\u001b[m/         \u001b[31mtel_svy.txt\u001b[m\u001b[m*\r\n"
     ]
    }
   ],
   "source": [
    "ls"
   ]
  },
  {
   "cell_type": "markdown",
   "id": "6c1eee72",
   "metadata": {},
   "source": [
    "# frb_normlf"
   ]
  },
  {
   "cell_type": "code",
   "execution_count": null,
   "id": "a9106578",
   "metadata": {},
   "outputs": [],
   "source": [
    "\n",
    "FRB mock data simulator and a Bayesian framework to measure the normalized FRB luminosity function"
   ]
  },
  {
   "cell_type": "code",
   "execution_count": null,
   "id": "0bdc5549",
   "metadata": {},
   "outputs": [],
   "source": [
    "Simulate mock FRB data\n",
    "Example:\n",
    " ./simufrb.py -alpha alpha -logls logls -ns Nfrb -thre flux_thre -dnu specwidth -type galaxy_type -o simfrb.txt\n",
    "Options:\n",
    "-alpha      Inputs the power-law index of FRB luminosity function\n",
    "\n",
    "-logls      Inputs the expoential cut-off of FRB luminosity function in logarithmic erg/s\n",
    "\n",
    "-ns       Inputs the FRB number you want to generate\n",
    "\n",
    "-thre      Sets Flux threshold in units of Jy\n",
    "\n",
    "-dnu       Sets the secptral width in units of MHz\n",
    "\n",
    "-type      Chooses host galaxy case among ETG_NE2001, ETG_YMW16, LTG_NE2001, LTG_YMW16, ALG_NE2001, ALG_YMW16 (see Luo et al. 2018a for more details)\n",
    "\n",
    "-o       Outputs the mock data in .txt format\n",
    "\n",
    "Verify the mock data using PyMultiNest\n",
    "./run_simu.sh      Notes: better implement it in cluster where MPI was installed well. The posterior outputs are saved on ./mn_out/\n",
    "\n",
    "./draw_sim.sh      Plot the posterior distribution contours of the mock data, which are made on ./plots/simu/\n",
    "\n",
    "Measure the normalized FRB LF with sample\n",
    "./run_samp.sh      Notes: better implement it in the cluster where MPI was installed well. The posterior outputs are saved on ./mn_out/\n",
    "\n",
    "./draw_samp.sh      Plot the posterior distribution contours of the real FRB sample, which are made on ./plots/normal/ or ./plots/upper/\n",
    "\n",
    ".condat.sh      Get the contour data, which contains the best inferred value and error area of each parameter. The data are located in ./lfdat/\n",
    "\n",
    "Appendix\n",
    "The usage of mcmc_simu.py and mcmc_samp.py\n",
    "\n",
    "Examples:\n",
    "./mcmc_simu.py -f inputfile -o outputfile -g galaxy_type \n",
    "\n",
    "./mcmc_frb.py -upper -f inputfile -o outputfile -g galaxy_type\n",
    "Options:\n",
    "-f       Inputs the FRB catalog\n",
    "\n",
    "-o       Outputs the posterior results with name of\n",
    "\n",
    "-g       Choose host galaxy cases among ETG_NE2001, ETG_YMW16, LTG_NE2001, LTG_YMW16, ALG_NE2001, ALG_YMW16\n",
    "\n",
    "-upper     Bool option, choose uniform prior for L0 or not, the other option is uniform prior for logL0"
   ]
  },
  {
   "cell_type": "code",
   "execution_count": null,
   "id": "fb92eb2b",
   "metadata": {},
   "outputs": [],
   "source": [
    "os.chdir('/Volumes/ExtremeSSD/Papers_classification/FRB/FRB_LF/frb_normlf/')"
   ]
  },
  {
   "cell_type": "code",
   "execution_count": null,
   "id": "ba66da99",
   "metadata": {},
   "outputs": [],
   "source": []
  },
  {
   "cell_type": "code",
   "execution_count": null,
   "id": "fae04f91",
   "metadata": {},
   "outputs": [],
   "source": []
  },
  {
   "cell_type": "code",
   "execution_count": null,
   "id": "cb90b6c7",
   "metadata": {},
   "outputs": [],
   "source": []
  },
  {
   "cell_type": "code",
   "execution_count": null,
   "id": "71c28360",
   "metadata": {},
   "outputs": [],
   "source": []
  },
  {
   "cell_type": "code",
   "execution_count": 21,
   "id": "acff608c",
   "metadata": {
    "ExecuteTime": {
     "end_time": "2022-09-13T09:13:25.345869Z",
     "start_time": "2022-09-13T09:13:23.785010Z"
    }
   },
   "outputs": [],
   "source": [
    "import pymultinest"
   ]
  },
  {
   "cell_type": "markdown",
   "id": "eeae964b",
   "metadata": {},
   "source": [
    "# frblf_erd"
   ]
  },
  {
   "cell_type": "code",
   "execution_count": null,
   "id": "b62729a0",
   "metadata": {},
   "outputs": [],
   "source": [
    "\n",
    "A Bayesian framework to measure the event rate density of FRB luminosity function\n",
    "\n"
   ]
  },
  {
   "cell_type": "code",
   "execution_count": null,
   "id": "48e6e99e",
   "metadata": {},
   "outputs": [],
   "source": [
    "Verify the mock data using PyMultiNest\n",
    "\n",
    "./run_simu.sh      Notes: better implement it in cluster where MPI was installed well. The posterior outputs are saved on ./nest_out/simu/\n",
    "\n",
    "./draw_sim.sh      Plot the posterior distribution contours of the mock data, which are made on ./plots/simu/\n",
    "\n",
    "Measure the quantified FRB LF with sample\n",
    "\n",
    "./run_samp.sh      Notes: better implement it in the cluster where MPI was installed well. The posterior outputs are saved on ./nest_out/samp/\n",
    "\n",
    "./draw_samp.sh      Plot the posterior distribution contours of the real FRB sample, which are saved on ./plots/samp/"
   ]
  },
  {
   "cell_type": "code",
   "execution_count": 23,
   "id": "2f4d1bc5",
   "metadata": {
    "ExecuteTime": {
     "end_time": "2022-09-13T09:21:45.305182Z",
     "start_time": "2022-09-13T09:21:45.295129Z"
    }
   },
   "outputs": [
    {
     "data": {
      "text/plain": [
       "u'/Volumes/ExtremeSSD/Papers_classification/FRB/FRB_LF/frblf_erd'"
      ]
     },
     "execution_count": 23,
     "metadata": {},
     "output_type": "execute_result"
    }
   ],
   "source": [
    "pwd"
   ]
  },
  {
   "cell_type": "code",
   "execution_count": 24,
   "id": "c87d3120",
   "metadata": {
    "ExecuteTime": {
     "end_time": "2022-09-13T09:22:04.643168Z",
     "start_time": "2022-09-13T09:22:04.638532Z"
    }
   },
   "outputs": [],
   "source": [
    "os.chdir('/Volumes/ExtremeSSD/Papers_classification/FRB/FRB_LF/frblf_erd/')"
   ]
  },
  {
   "cell_type": "code",
   "execution_count": 18,
   "id": "98f9d3f8",
   "metadata": {
    "ExecuteTime": {
     "end_time": "2022-09-13T09:12:22.420914Z",
     "start_time": "2022-09-13T09:12:21.599461Z"
    }
   },
   "outputs": [
    {
     "data": {
      "text/plain": [
       "65280"
      ]
     },
     "execution_count": 18,
     "metadata": {},
     "output_type": "execute_result"
    }
   ],
   "source": [
    "os.system('./run_simu.sh')"
   ]
  },
  {
   "cell_type": "code",
   "execution_count": 22,
   "id": "eb9d9176",
   "metadata": {
    "ExecuteTime": {
     "end_time": "2022-09-13T09:14:01.314900Z",
     "start_time": "2022-09-13T09:14:00.763764Z"
    }
   },
   "outputs": [
    {
     "data": {
      "text/plain": [
       "32256"
      ]
     },
     "execution_count": 22,
     "metadata": {},
     "output_type": "execute_result"
    }
   ],
   "source": [
    "os.system('./draw_sim.sh')"
   ]
  },
  {
   "cell_type": "code",
   "execution_count": null,
   "id": "a8c53a50",
   "metadata": {},
   "outputs": [],
   "source": [
    "os.system('./run_samp.sh')"
   ]
  },
  {
   "cell_type": "code",
   "execution_count": null,
   "id": "73d27122",
   "metadata": {},
   "outputs": [],
   "source": [
    "os.system('./draw_samp.sh')"
   ]
  }
 ],
 "metadata": {
  "kernelspec": {
   "display_name": "Python 2",
   "language": "python",
   "name": "py2"
  },
  "language_info": {
   "codemirror_mode": {
    "name": "ipython",
    "version": 2
   },
   "file_extension": ".py",
   "mimetype": "text/x-python",
   "name": "python",
   "nbconvert_exporter": "python",
   "pygments_lexer": "ipython2",
   "version": "2.7.15"
  },
  "latex_envs": {
   "LaTeX_envs_menu_present": true,
   "autoclose": false,
   "autocomplete": true,
   "bibliofile": "biblio.bib",
   "cite_by": "apalike",
   "current_citInitial": 1,
   "eqLabelWithNumbers": true,
   "eqNumInitial": 1,
   "hotkeys": {
    "equation": "Ctrl-E",
    "itemize": "Ctrl-I"
   },
   "labels_anchors": false,
   "latex_user_defs": false,
   "report_style_numbering": false,
   "user_envs_cfg": false
  },
  "toc": {
   "base_numbering": 1,
   "nav_menu": {},
   "number_sections": true,
   "sideBar": true,
   "skip_h1_title": false,
   "title_cell": "Table of Contents",
   "title_sidebar": "Contents",
   "toc_cell": false,
   "toc_position": {},
   "toc_section_display": true,
   "toc_window_display": false
  }
 },
 "nbformat": 4,
 "nbformat_minor": 5
}
