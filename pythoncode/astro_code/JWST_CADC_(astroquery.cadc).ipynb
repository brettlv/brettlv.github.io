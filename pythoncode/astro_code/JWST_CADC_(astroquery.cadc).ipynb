{
 "cells": [
  {
   "cell_type": "code",
   "execution_count": 43,
   "id": "85b157a9",
   "metadata": {
    "ExecuteTime": {
     "end_time": "2022-10-06T08:49:41.572465Z",
     "start_time": "2022-10-06T08:49:41.565976Z"
    }
   },
   "outputs": [],
   "source": []
  },
  {
   "cell_type": "code",
   "execution_count": 1,
   "id": "5eff8efb",
   "metadata": {
    "ExecuteTime": {
     "end_time": "2023-06-08T11:28:18.892999Z",
     "start_time": "2023-06-08T11:28:16.039618Z"
    }
   },
   "outputs": [],
   "source": [
    "from astropy.time import Time\n",
    "from astropy.io import fits\n",
    "from astropy import units as u\n",
    "import time\n",
    "from matplotlib.pyplot import MultipleLocator\n",
    "import matplotlib.dates as mdates\n",
    "\n",
    "def datetime2mjd(x):\n",
    "    mjd_ref=59000\n",
    "    mjd_minus_mdates_num=mdates.date2num(convert_xaxis_time(mjd_ref))-mjd_ref\n",
    "    \n",
    "    x=mdates.date2num(x)\n",
    "    y = x - mjd_minus_mdates_num   \n",
    "    return y\n",
    "\n",
    "def mjd2datetime(x):\n",
    "    mjd_ref=59000\n",
    "    mjd_minus_mdates_num=mdates.date2num(convert_xaxis_time(mjd_ref))-mjd_ref\n",
    "    y= x + mjd_minus_mdates_num\n",
    "    y= mdates.num2date(y)\n",
    "    return y\n",
    "\n",
    "\n",
    "\n",
    "def datenums2mjd(x):\n",
    "    #x=mdates.date2num(x)\n",
    "    mjd_ref=59000\n",
    "    mjd_minus_mdates_num=mdates.date2num(convert_xaxis_time(mjd_ref))-mjd_ref\n",
    "    y = x - mjd_minus_mdates_num   \n",
    "    return y\n",
    "\n",
    "def mjd2numsdate(x):\n",
    "    mjd_ref=59000\n",
    "    mjd_minus_mdates_num=mdates.date2num(convert_xaxis_time(mjd_ref))-mjd_ref\n",
    "    \n",
    "    y= x + mjd_minus_mdates_num\n",
    "    #y= mdates.num2date(y)\n",
    "    return y\n",
    "\n",
    "\n",
    "def convert_xaxis_mjd(time):\n",
    "    return Time(time).mjd   \n",
    "\n",
    "def convert_xaxis_time(mjd):\n",
    "    return Time(mjd,format='mjd').to_datetime()\n",
    "\n",
    "\n",
    "def date2yday(x):\n",
    "    \"\"\"\n",
    "    x is in matplotlib datenums, so they are floats.\n",
    "    \"\"\"\n",
    "    y = x - mdates.date2num(datetime(2018, 1, 1))\n",
    "    return y\n",
    "\n",
    "def yday2date(x):\n",
    "    \"\"\"\n",
    "    return a matplotlib datenum (x is days since start of year of 2018)\n",
    "    \"\"\"\n",
    "    y = x + mdates.date2num(datetime(2018, 1, 1))\n",
    "    return y\n",
    "\n",
    "\n",
    "def convert_partial_year(numbers):\n",
    "    datetimes=[]\n",
    "    for number in numbers:\n",
    "        year = int(number)\n",
    "        d = timedelta(days=(number - year)*(365 + is_leap(year)))\n",
    "        day_one = datetime(year,1,1)\n",
    "        date = d + day_one\n",
    "        datetimes.append(date)\n",
    "    return datetimes\n",
    "\n",
    "\n",
    "def is_leap(year):\n",
    "    if not year%4 and  year%100 or not year%400:\n",
    "        return True\n",
    "    return False\n",
    "\n",
    "\n",
    "def convert_mjd(times):\n",
    "    timesmjd=[]\n",
    "    for i in times:\n",
    "        timesmjd.append(Time(i).mjd)\n",
    "    return timesmjd  \n",
    "\n",
    "\n",
    "def convert_date(times):\n",
    "    timesdate=[]\n",
    "    for i in times:\n",
    "        timesdate.append(Time(i,format='mjd').datetime)\n",
    "    return timesdate\n",
    "\n",
    "def convert_date_single(time):\n",
    "    timedate=Time(time,format='mjd').datetime\n",
    "    return timedate"
   ]
  },
  {
   "cell_type": "code",
   "execution_count": null,
   "id": "a82f95d6",
   "metadata": {},
   "outputs": [],
   "source": []
  },
  {
   "cell_type": "markdown",
   "id": "bbf23f2c",
   "metadata": {},
   "source": [
    "# CADC (astroquery.cadc)"
   ]
  },
  {
   "cell_type": "code",
   "execution_count": 2,
   "id": "826906e7",
   "metadata": {
    "ExecuteTime": {
     "end_time": "2023-06-08T11:28:21.328103Z",
     "start_time": "2023-06-08T11:28:18.894413Z"
    }
   },
   "outputs": [],
   "source": [
    "from astroquery.cadc import Cadc\n",
    "cadc = Cadc()"
   ]
  },
  {
   "cell_type": "code",
   "execution_count": 3,
   "id": "326e2ac8",
   "metadata": {
    "ExecuteTime": {
     "end_time": "2023-06-08T11:28:28.095069Z",
     "start_time": "2023-06-08T11:28:21.329498Z"
    }
   },
   "outputs": [
    {
     "name": "stdout",
     "output_type": "stream",
     "text": [
      "APASS : {'Description': 'The APASS collection at the CADC', 'Bands': ['Optical', 'Infrared|Optical', '']}\n",
      "BLAST : {'Description': 'The BLAST collection at the CADC', 'Bands': ['', 'Millimeter']}\n",
      "BRITE-Constellation : {'Description': 'The BRITE-Constellation collection at the CADC', 'Bands': ['', 'Optical']}\n",
      "CFHT : {'Description': 'The CFHT collection at the CADC', 'Bands': ['Infrared|Optical', 'Infrared|Optical|UV', '', 'Optical', 'Infrared']}\n",
      "CFHTMEGAPIPE : {'Description': 'The CFHTMEGAPIPE collection at the CADC', 'Bands': ['', 'Infrared|Optical', 'Optical']}\n",
      "CFHTTERAPIX : {'Description': 'The CFHTTERAPIX collection at the CADC', 'Bands': ['Infrared|Optical', 'Optical', 'Infrared']}\n",
      "CFHTWIRWOLF : {'Description': 'The CFHTWIRWOLF collection at the CADC', 'Bands': ['Infrared']}\n",
      "CGPS : {'Description': 'The CGPS collection at the CADC', 'Bands': ['Infrared', 'Radio', 'Millimeter', '', 'Millimeter|Infrared']}\n",
      "CHANDRA : {'Description': 'The CHANDRA collection at the CADC', 'Bands': ['X-ray']}\n",
      "DAO : {'Description': 'The DAO collection at the CADC', 'Bands': ['', 'Infrared|Optical', 'Optical|UV', 'Infrared', 'Optical']}\n",
      "DAOCADC : {'Description': 'The DAOCADC collection at the CADC', 'Bands': ['Optical', '']}\n",
      "DAOPLATES : {'Description': 'The DAOPLATES collection at the CADC', 'Bands': ['Optical', '']}\n",
      "DRAO : {'Description': 'The DRAO collection at the CADC', 'Bands': ['Radio']}\n",
      "FUSE : {'Description': 'The FUSE collection at the CADC', 'Bands': ['UV|EUV', '']}\n",
      "GEMINI : {'Description': 'The GEMINI collection at the CADC', 'Bands': ['Infrared|Optical|UV|EUV|X-ray|Ga', 'Infrared', 'Optical', 'Infrared|Optical', 'Optical|UV', '']}\n",
      "GEMINICADC : {'Description': 'The GEMINICADC collection at the CADC', 'Bands': ['', 'Infrared|Optical', 'Infrared']}\n",
      "HST : {'Description': 'The HST collection at the CADC', 'Bands': ['', 'Infrared', 'Optical', 'UV']}\n",
      "HSTHLA : {'Description': 'The HSTHLA collection at the CADC', 'Bands': ['Optical', 'Infrared', 'UV', 'Infrared|Optical', 'Infrared|Optical|UV', 'Optical|UV']}\n",
      "IRIS : {'Description': 'The IRIS collection at the CADC', 'Bands': ['Millimeter|Infrared', 'Infrared']}\n",
      "JCMT : {'Description': 'The JCMT collection at the CADC', 'Bands': ['', 'Millimeter']}\n",
      "JCMTLS : {'Description': 'The JCMTLS collection at the CADC', 'Bands': ['Millimeter', '']}\n",
      "JWST : {'Description': 'The JWST collection at the CADC', 'Bands': ['', 'Infrared']}\n",
      "MACHO : {'Description': 'The MACHO collection at the CADC', 'Bands': ['Optical']}\n",
      "MOST : {'Description': 'The MOST collection at the CADC', 'Bands': ['Optical']}\n",
      "NEOSSAT : {'Description': 'The NEOSSAT collection at the CADC', 'Bands': ['Optical']}\n",
      "NGVS : {'Description': 'The NGVS collection at the CADC', 'Bands': ['Infrared|Optical', '', 'Optical']}\n",
      "NOAO : {'Description': 'The NOAO collection at the CADC', 'Bands': ['Optical', 'Infrared']}\n",
      "OMM : {'Description': 'The OMM collection at the CADC', 'Bands': ['Optical', 'Infrared', '']}\n",
      "RACS : {'Description': 'The RACS collection at the CADC', 'Bands': ['Radio']}\n",
      "SDSS : {'Description': 'The SDSS collection at the CADC', 'Bands': ['Infrared', 'Optical']}\n",
      "SUBARU : {'Description': 'The SUBARU collection at the CADC', 'Bands': ['Optical']}\n",
      "SUBARUCADC : {'Description': 'The SUBARUCADC collection at the CADC', 'Bands': ['Optical', 'Infrared|Optical']}\n",
      "TESS : {'Description': 'The TESS collection at the CADC', 'Bands': ['Optical']}\n",
      "UKIRT : {'Description': 'The UKIRT collection at the CADC', 'Bands': ['Infrared|Optical', '', 'Optical', 'Infrared']}\n",
      "VGPS : {'Description': 'The VGPS collection at the CADC', 'Bands': ['Radio']}\n",
      "VLASS : {'Description': 'The VLASS collection at the CADC', 'Bands': ['', 'Radio']}\n",
      "WALLABY : {'Description': 'The WALLABY collection at the CADC', 'Bands': ['Radio']}\n",
      "XMM : {'Description': 'The XMM collection at the CADC', 'Bands': ['Optical', 'UV', 'X-ray']}\n"
     ]
    }
   ],
   "source": [
    "for collection, details in sorted(cadc.get_collections().items()):\n",
    "    print(f'{collection} : {details}')"
   ]
  },
  {
   "cell_type": "markdown",
   "id": "b719f3c3",
   "metadata": {},
   "source": [
    "## NGC 4151"
   ]
  },
  {
   "cell_type": "code",
   "execution_count": 4,
   "id": "fdd3d869",
   "metadata": {
    "ExecuteTime": {
     "end_time": "2023-06-08T11:28:39.058825Z",
     "start_time": "2023-06-08T11:28:38.986119Z"
    }
   },
   "outputs": [],
   "source": [
    "from astroquery.ipac.ned import Ned\n",
    "result_table = Ned.query_object(\"NGC 4151\")"
   ]
  },
  {
   "cell_type": "code",
   "execution_count": 5,
   "id": "706c0a95",
   "metadata": {
    "ExecuteTime": {
     "end_time": "2023-06-08T11:28:39.376986Z",
     "start_time": "2023-06-08T11:28:39.354301Z"
    }
   },
   "outputs": [
    {
     "data": {
      "text/html": [
       "<div><i>Table length=1</i>\n",
       "<table id=\"table140527192478432\" class=\"table-striped table-bordered table-condensed\">\n",
       "<thead><tr><th>No.</th><th>Object Name</th><th>RA</th><th>DEC</th><th>Type</th><th>Velocity</th><th>Redshift</th><th>Redshift Flag</th><th>Magnitude and Filter</th><th>Separation</th><th>References</th><th>Notes</th><th>Photometry Points</th><th>Positions</th><th>Redshift Points</th><th>Diameter Points</th><th>Associations</th></tr></thead>\n",
       "<thead><tr><th></th><th></th><th>degrees</th><th>degrees</th><th></th><th>km / s</th><th></th><th></th><th></th><th>arcmin</th><th></th><th></th><th></th><th></th><th></th><th></th><th></th></tr></thead>\n",
       "<thead><tr><th>int32</th><th>str30</th><th>float64</th><th>float64</th><th>object</th><th>float64</th><th>float64</th><th>object</th><th>object</th><th>float64</th><th>int32</th><th>int32</th><th>int32</th><th>int32</th><th>int32</th><th>int32</th><th>int32</th></tr></thead>\n",
       "<tr><td>1</td><td>NGC 4151</td><td>182.63574</td><td>39.40573</td><td>G</td><td>997.0</td><td>0.003326</td><td></td><td>11.5</td><td>--</td><td>2394</td><td>51</td><td>558</td><td>90</td><td>77</td><td>18</td><td>2</td></tr>\n",
       "</table></div>"
      ],
      "text/plain": [
       "<Table length=1>\n",
       " No.  Object Name     RA        DEC      Type  ... Positions Redshift Points Diameter Points Associations\n",
       "                   degrees    degrees          ...                                                       \n",
       "int32    str30     float64    float64   object ...   int32        int32           int32         int32    \n",
       "----- ----------- ---------- ---------- ------ ... --------- --------------- --------------- ------------\n",
       "    1    NGC 4151  182.63574   39.40573      G ...        90              77              18            2"
      ]
     },
     "execution_count": 5,
     "metadata": {},
     "output_type": "execute_result"
    }
   ],
   "source": [
    "result_table"
   ]
  },
  {
   "cell_type": "code",
   "execution_count": 6,
   "id": "c4635de0",
   "metadata": {
    "ExecuteTime": {
     "end_time": "2023-06-08T11:28:40.940459Z",
     "start_time": "2023-06-08T11:28:40.929535Z"
    }
   },
   "outputs": [],
   "source": [
    "ra,dec=result_table['RA'].value[0],result_table['DEC'].value[0]"
   ]
  },
  {
   "cell_type": "code",
   "execution_count": 7,
   "id": "00d1a805",
   "metadata": {
    "ExecuteTime": {
     "end_time": "2023-06-08T11:28:41.551389Z",
     "start_time": "2023-06-08T11:28:41.538326Z"
    }
   },
   "outputs": [
    {
     "name": "stdout",
     "output_type": "stream",
     "text": [
      "182.63574 39.40573\n"
     ]
    }
   ],
   "source": [
    "print(ra,dec)"
   ]
  },
  {
   "cell_type": "code",
   "execution_count": 8,
   "id": "c252755b",
   "metadata": {
    "ExecuteTime": {
     "end_time": "2023-06-08T11:28:46.171202Z",
     "start_time": "2023-06-08T11:28:42.579759Z"
    }
   },
   "outputs": [
    {
     "name": "stderr",
     "output_type": "stream",
     "text": [
      "WARNING: InputWarning: Coordinate string is being interpreted as an ICRS coordinate provided in degrees. [astroquery.utils.commons]\n",
      "WARNING:astroquery:InputWarning: Coordinate string is being interpreted as an ICRS coordinate provided in degrees.\n",
      "WARNING: UnitsWarning: The unit 'pix' has been deprecated in the VOUnit standard. [astropy.units.format.utils]\n",
      "WARNING:astroquery:UnitsWarning: The unit 'pix' has been deprecated in the VOUnit standard.\n"
     ]
    },
    {
     "name": "stdout",
     "output_type": "stream",
     "text": [
      "                 observationURI                  sequenceNumber ...      lastModified2          maxLastModified2   \n",
      "                                                                ...                                                \n",
      "------------------------------------------------ -------------- ... ----------------------- -----------------------\n",
      "        caom:JWST/jw01364001001_03103_00002_nrs2             -- ... 2022-12-31T09:41:57.638 2022-12-31T09:41:57.638\n",
      "        caom:JWST/jw01364001001_03103_00002_nrs2             -- ... 2022-12-31T09:41:57.638 2022-12-31T09:41:57.638\n",
      "        caom:JWST/jw01364001001_03101_00007_nrs1             -- ... 2022-12-31T09:42:01.756 2022-12-31T09:42:01.756\n",
      "        caom:JWST/jw01364001001_03101_00007_nrs1             -- ... 2022-12-31T09:42:01.756 2022-12-31T09:42:01.756\n",
      "        caom:JWST/jw01364001001_03101_00005_nrs2             -- ... 2022-12-31T09:42:06.490 2022-12-31T09:42:06.490\n",
      "        caom:JWST/jw01364001001_03101_00005_nrs2             -- ... 2022-12-31T09:42:06.490 2022-12-31T09:42:06.490\n",
      "        caom:JWST/jw01364001001_03101_00012_nrs1             -- ... 2022-12-31T09:42:10.090 2022-12-31T09:42:10.090\n",
      "        caom:JWST/jw01364001001_03101_00012_nrs1             -- ... 2022-12-31T09:42:10.090 2022-12-31T09:42:10.090\n",
      "        caom:JWST/jw01364001001_03103_00005_nrs1             -- ... 2022-12-31T09:42:13.456 2022-12-31T09:42:13.456\n",
      "        caom:JWST/jw01364001001_03103_00005_nrs1             -- ... 2022-12-31T09:42:13.456 2022-12-31T09:42:13.456\n",
      "                                             ...            ... ...                     ...                     ...\n",
      "        caom:JWST/jw01364001001_03103_00012_nrs1             -- ... 2022-12-31T09:44:23.727 2022-12-31T09:44:23.727\n",
      "        caom:JWST/jw01364001001_03103_00009_nrs1             -- ... 2022-12-31T09:44:26.564 2022-12-31T09:44:26.564\n",
      "        caom:JWST/jw01364001001_03103_00009_nrs1             -- ... 2022-12-31T09:44:26.564 2022-12-31T09:44:26.564\n",
      "        caom:JWST/jw01364001001_03103_00010_nrs1             -- ... 2022-12-31T09:44:29.645 2022-12-31T09:44:29.645\n",
      "        caom:JWST/jw01364001001_03103_00010_nrs1             -- ... 2022-12-31T09:44:29.645 2022-12-31T09:44:29.645\n",
      "        caom:JWST/jw01364001001_03103_00002_nrs1             -- ... 2022-12-31T09:44:33.154 2022-12-31T09:44:33.154\n",
      "        caom:JWST/jw01364001001_03103_00002_nrs1             -- ... 2022-12-31T09:44:33.154 2022-12-31T09:44:33.154\n",
      "        caom:JWST/jw01364001001_03101_00004_nrs1             -- ... 2022-12-31T09:44:36.105 2022-12-31T09:44:36.105\n",
      "        caom:JWST/jw01364001001_03101_00004_nrs1             -- ... 2022-12-31T09:44:36.105 2022-12-31T09:44:36.105\n",
      "caom:JWST/jw01364-o001_t001_nirspec_g235h-f170lp             -- ... 2022-12-31T09:46:33.550 2022-12-31T09:46:33.550\n",
      "Length = 97 rows\n"
     ]
    }
   ],
   "source": [
    "result_JWST_NGC_4151 = cadc.query_region('%s %s'%(ra,dec), collection='JWST')\n",
    "print(result_JWST_NGC_4151)  "
   ]
  },
  {
   "cell_type": "code",
   "execution_count": 9,
   "id": "6d8d769d",
   "metadata": {
    "ExecuteTime": {
     "end_time": "2023-06-08T11:28:54.715685Z",
     "start_time": "2023-06-08T11:28:54.605320Z"
    },
    "scrolled": false
   },
   "outputs": [
    {
     "data": {
      "text/html": [
       "<div><i>Table length=97</i>\n",
       "<table id=\"table140526642816288\" class=\"table-striped table-bordered table-condensed\">\n",
       "<thead><tr><th>observationURI</th><th>sequenceNumber</th><th>metaReadGroups</th><th>proposal_keywords</th><th>obsID</th><th>collection</th><th>observationID</th><th>algorithm_name</th><th>type</th><th>intent</th><th>metaRelease</th><th>proposal_title</th><th>target_standard</th><th>target_redshift</th><th>target_moving</th><th>target_keywords</th><th>targetPosition_equinox</th><th>targetPosition_coordinates_cval1</th><th>targetPosition_coordinates_cval2</th><th>telescope_geoLocationX</th><th>telescope_geoLocationY</th><th>targetPosition_coordsys</th><th>telescope_name</th><th>telescope_geoLocationZ</th><th>telescope_keywords</th><th>instrument_keywords</th><th>environment_seeing</th><th>environment_humidity</th><th>environment_elevation</th><th>environment_tau</th><th>environment_wavelengthTau</th><th>environment_ambientTemp</th><th>environment_photometric</th><th>requirements_flag</th><th>instrument_name</th><th>members</th><th>typeCode</th><th>metaProducer</th><th>metaChecksum</th><th>accMetaChecksum</th><th>lastModified</th><th>maxLastModified</th><th>proposal_id</th><th>proposal_pi</th><th>proposal_project</th><th>target_name</th><th>target_targetID</th><th>target_type</th><th>planeURI</th><th>publisherID</th><th>creatorID</th><th>obsID2</th><th>planeID</th><th>productID</th><th>metaReadGroups2</th><th>dataReadGroups</th><th>calibrationLevel</th><th>metaRelease2</th><th>dataRelease</th><th>dataProductType</th><th>provenance_name</th><th>provenance_version</th><th>provenance_reference</th><th>provenance_producer</th><th>provenance_project</th><th>provenance_keywords</th><th>provenance_runID</th><th>provenance_lastExecuted</th><th>provenance_inputs</th><th>metrics_sourceNumberDensity</th><th>metrics_background</th><th>metrics_backgroundStddev</th><th>metrics_fluxDensityLimit</th><th>metrics_magLimit</th><th>position_bounds</th><th>position_bounds_samples</th><th>position_bounds_size</th><th>position_resolution</th><th>position_sampleSize</th><th>position_dimension_naxis1</th><th>position_dimension_naxis2</th><th>quality_flag</th><th>position_resolutionBounds</th><th>position_timeDependent</th><th>energy_bounds_samples</th><th>energy_bounds_lower</th><th>energy_bounds_upper</th><th>energy_bounds_width</th><th>energy_dimension</th><th>energy_resolvingPower</th><th>energy_sampleSize</th><th>energy_bounds</th><th>energy_resolvingPowerBounds</th><th>energy_emBand</th><th>energy_energyBands</th><th>energy_bandpassName</th><th>energy_freqWidth</th><th>energy_freqSampleSize</th><th>energy_restwav</th><th>time_bounds_samples</th><th>time_bounds_lower</th><th>time_bounds_upper</th><th>time_bounds_width</th><th>time_dimension</th><th>time_resolution</th><th>time_sampleSize</th><th>time_exposure</th><th>energy_transition_species</th><th>polarization_dimension</th><th>energy_transition_transition</th><th>custom_bounds_samples</th><th>time_bounds</th><th>time_resolutionBounds</th><th>polarization_states</th><th>custom_ctype</th><th>custom_bounds</th><th>custom_bounds_lower</th><th>custom_bounds_upper</th><th>custom_bounds_width</th><th>custom_dimension</th><th>metaProducer2</th><th>metaChecksum2</th><th>accMetaChecksum2</th><th>lastModified2</th><th>maxLastModified2</th></tr></thead>\n",
       "<thead><tr><th></th><th></th><th></th><th></th><th></th><th></th><th></th><th></th><th></th><th></th><th></th><th></th><th></th><th></th><th></th><th></th><th></th><th>deg</th><th>deg</th><th></th><th></th><th></th><th></th><th></th><th></th><th></th><th>arcsec</th><th></th><th>deg</th><th></th><th>m</th><th>C</th><th></th><th></th><th></th><th></th><th></th><th></th><th></th><th></th><th></th><th></th><th></th><th></th><th></th><th></th><th></th><th></th><th></th><th></th><th></th><th></th><th></th><th></th><th></th><th></th><th></th><th></th><th></th><th></th><th></th><th></th><th></th><th></th><th></th><th></th><th></th><th></th><th></th><th>1 / deg2</th><th>Jy / pix</th><th>Jy / pix</th><th>Jy</th><th></th><th>deg</th><th>deg</th><th>deg</th><th>arcsec</th><th>arcsec</th><th></th><th></th><th></th><th>arcsec</th><th></th><th>m</th><th>m</th><th>m</th><th>m</th><th></th><th></th><th>m</th><th>m</th><th></th><th></th><th></th><th></th><th>Hz</th><th>Hz</th><th>m</th><th>d</th><th>d</th><th>d</th><th>d</th><th></th><th>d</th><th>d</th><th>s</th><th></th><th></th><th></th><th></th><th>d</th><th>d</th><th></th><th></th><th></th><th></th><th></th><th></th><th></th><th></th><th></th><th></th><th></th><th></th></tr></thead>\n",
       "<thead><tr><th>object</th><th>int32</th><th>object</th><th>object</th><th>str36</th><th>str32</th><th>str128</th><th>str32</th><th>str32</th><th>str32</th><th>str23</th><th>str256</th><th>int32</th><th>float64</th><th>int32</th><th>object</th><th>float64</th><th>float64</th><th>float64</th><th>float64</th><th>float64</th><th>str16</th><th>str32</th><th>float64</th><th>object</th><th>object</th><th>float64</th><th>float64</th><th>float64</th><th>float64</th><th>float64</th><th>float64</th><th>int32</th><th>str16</th><th>str32</th><th>object</th><th>str1</th><th>object</th><th>object</th><th>object</th><th>str23</th><th>str23</th><th>str128</th><th>str128</th><th>str32</th><th>str32</th><th>str32</th><th>str32</th><th>object</th><th>object</th><th>object</th><th>str36</th><th>str36</th><th>str64</th><th>object</th><th>object</th><th>int32</th><th>str23</th><th>str23</th><th>str128</th><th>str128</th><th>str32</th><th>str256</th><th>str128</th><th>str256</th><th>object</th><th>str64</th><th>str23</th><th>object</th><th>float64</th><th>float64</th><th>float64</th><th>float64</th><th>float64</th><th>object</th><th>object</th><th>float64</th><th>float64</th><th>float64</th><th>int64</th><th>int64</th><th>str16</th><th>float64[2]</th><th>int32</th><th>object</th><th>float64</th><th>float64</th><th>float64</th><th>int64</th><th>float64</th><th>float64</th><th>float64[2]</th><th>float64[2]</th><th>str32</th><th>str32</th><th>str32</th><th>float64</th><th>float64</th><th>float64</th><th>object</th><th>float64</th><th>float64</th><th>float64</th><th>int64</th><th>float64</th><th>float64</th><th>float64</th><th>str32</th><th>int64</th><th>str32</th><th>object</th><th>float64[2]</th><th>float64[2]</th><th>str32</th><th>str32</th><th>float64[2]</th><th>float64</th><th>float64</th><th>float64</th><th>int64</th><th>object</th><th>object</th><th>object</th><th>str23</th><th>str23</th></tr></thead>\n",
       "<tr><td>caom:JWST/jw01364001001_03103_00002_nrs2</td><td>--</td><td></td><td></td><td>2cc7dfd4-17a8-4a4f-904d-a8a8b4cf05e3</td><td>JWST</td><td>jw01364001001_03103_00002_nrs2</td><td>exposure</td><td>PRIME</td><td>science</td><td>2022-12-09T14:53:45.000</td><td>Nuclear Dynamics of a Nearby Seyfert with NIRSpec Integral Field Spectroscopy</td><td>0</td><td>--</td><td>0</td><td>TARGPROP=NGC-4151</td><td>--</td><td>182.6357641666667</td><td>39.40584166666667</td><td>--</td><td>--</td><td>ICRS</td><td>JWST</td><td>--</td><td>DEC_V1=39.40550102909183|GDSTARID=N56I003171|PCSMODE=FINEGUIDE|RA_V1=182.4266494336588|REFFRAME=ICRS|V3_PA=300.8668078869288|VISITSTATUS=SUCCESSFUL|VISITYPE=PRIME_TARGETED_FIXED</td><td>APERTURE=NRS_FULL_IFU|DETECTOR=NRS2|EXPEND=59922.62066401621|EXPSTART=59922.60951972523|EXPTIME=962.867|EXPTYPE=PRIME|EXP_TYPE=NRS_IFU|FILTER=F170LP|TEMPLATE=NIRSpec IFU Spectroscopy</td><td>--</td><td>--</td><td>--</td><td>--</td><td>--</td><td>--</td><td>1</td><td></td><td>NIRSPEC</td><td></td><td>S</td><td>mast:pyCAOM/2022.6.0</td><td>md5:f3ca1d97133d5185985688eab06f8d61</td><td>md5:020f2831708bbee381dd162aa0ed0bf1</td><td>2022-12-31T09:41:57.638</td><td>2022-12-31T09:41:57.638</td><td>1364</td><td>Bentz, Misty C.</td><td>ERS</td><td>NGC 4151</td><td></td><td></td><td>caom:JWST/jw01364001001_03103_00002_nrs2/jw01364001001_03103_00002_nrs2-CALIBRATED</td><td>ivo://cadc.nrc.ca/mirror/JWST?jw01364001001_03103_00002_nrs2/jw01364001001_03103_00002_nrs2-CALIBRATED</td><td>ivo://archive.stsci.edu/JWST?jw01364001001_03103_00002_nrs2/jw01364001001_03103_00002_nrs2-CALIBRATED</td><td>2cc7dfd4-17a8-4a4f-904d-a8a8b4cf05e3</td><td>b6903fcf-6b23-41e8-af4f-4ecccd39964f</td><td>jw01364001001_03103_00002_nrs2-CALIBRATED</td><td></td><td></td><td>2</td><td>2022-12-09T14:53:45.000</td><td>2022-12-09T18:40:40.000</td><td>image</td><td>CALJWST</td><td>1.8.2</td><td>http://www.stsci.edu/jwst/instrumentation/</td><td>STScI</td><td>JWST</td><td>PRD_VER=PRDOPSSOC-059|SDP_VER=2022_4a</td><td>jwst_1019.pmap</td><td>2022-12-09T18:14:23.000</td><td>caom:JWST/jw01364001001_03103_00002_nrs2/jw01364001001_03103_00002_nrs2-RAW_STANDARD</td><td>--</td><td>--</td><td>--</td><td>--</td><td>--</td><td>polygon 182.63639929 39.405437241 182.63526637 39.405282537 182.635059407 39.406127825 182.636192119 39.406282699</td><td>[182.63639929 39.405437241 2.0 182.63526637 39.405282537 1.0 182.635059407\\n 39.406127825 1.0 182.636192119 39.406282699 0.0]</td><td>0.001244477760706772</td><td>--</td><td>--</td><td>--</td><td>--</td><td></td><td>-- .. --</td><td>0</td><td>[1.7e-06 5e-06]</td><td>1.7e-06</td><td>5e-06</td><td>3.3000000000000006e-06</td><td>--</td><td>--</td><td>--</td><td>1.7e-06 .. 5e-06</td><td>-- .. --</td><td>Infrared</td><td>Infrared</td><td>F170LP</td><td>116390029411764.69</td><td>--</td><td>--</td><td>[59922.60951972523 59922.62066401621]</td><td>59922.60951972523</td><td>59922.62066401621</td><td>0.011144290983793326</td><td>--</td><td>--</td><td>--</td><td>962.867</td><td></td><td>--</td><td></td><td>[]</td><td>59922.60951972523 .. 59922.62066401621</td><td>-- .. --</td><td></td><td></td><td>-- .. --</td><td>--</td><td>--</td><td>--</td><td>--</td><td>mast:pyCAOM/2022.6.0</td><td>md5:8fe9b1692ee2c56e605bcd36bd76530e</td><td>md5:3fabd2b941a0a4994bc6cbf12b969b8f</td><td>2022-12-31T09:41:57.638</td><td>2022-12-31T09:41:57.638</td></tr>\n",
       "<tr><td>caom:JWST/jw01364001001_03103_00002_nrs2</td><td>--</td><td></td><td></td><td>2cc7dfd4-17a8-4a4f-904d-a8a8b4cf05e3</td><td>JWST</td><td>jw01364001001_03103_00002_nrs2</td><td>exposure</td><td>PRIME</td><td>science</td><td>2022-12-09T14:53:45.000</td><td>Nuclear Dynamics of a Nearby Seyfert with NIRSpec Integral Field Spectroscopy</td><td>0</td><td>--</td><td>0</td><td>TARGPROP=NGC-4151</td><td>--</td><td>182.6357641666667</td><td>39.40584166666667</td><td>--</td><td>--</td><td>ICRS</td><td>JWST</td><td>--</td><td>DEC_V1=39.40550102909183|GDSTARID=N56I003171|PCSMODE=FINEGUIDE|RA_V1=182.4266494336588|REFFRAME=ICRS|V3_PA=300.8668078869288|VISITSTATUS=SUCCESSFUL|VISITYPE=PRIME_TARGETED_FIXED</td><td>APERTURE=NRS_FULL_IFU|DETECTOR=NRS2|EXPEND=59922.62066401621|EXPSTART=59922.60951972523|EXPTIME=962.867|EXPTYPE=PRIME|EXP_TYPE=NRS_IFU|FILTER=F170LP|TEMPLATE=NIRSpec IFU Spectroscopy</td><td>--</td><td>--</td><td>--</td><td>--</td><td>--</td><td>--</td><td>1</td><td></td><td>NIRSPEC</td><td></td><td>S</td><td>mast:pyCAOM/2022.6.0</td><td>md5:f3ca1d97133d5185985688eab06f8d61</td><td>md5:020f2831708bbee381dd162aa0ed0bf1</td><td>2022-12-31T09:41:57.638</td><td>2022-12-31T09:41:57.638</td><td>1364</td><td>Bentz, Misty C.</td><td>ERS</td><td>NGC 4151</td><td></td><td></td><td>caom:JWST/jw01364001001_03103_00002_nrs2/jw01364001001_03103_00002_nrs2-RAW_STANDARD</td><td>ivo://cadc.nrc.ca/mirror/JWST?jw01364001001_03103_00002_nrs2/jw01364001001_03103_00002_nrs2-RAW_STANDARD</td><td>ivo://archive.stsci.edu/JWST?jw01364001001_03103_00002_nrs2/jw01364001001_03103_00002_nrs2-RAW_STANDARD</td><td>2cc7dfd4-17a8-4a4f-904d-a8a8b4cf05e3</td><td>468eb94d-a41b-48c6-92d3-d803d64777b8</td><td>jw01364001001_03103_00002_nrs2-RAW_STANDARD</td><td></td><td></td><td>1</td><td>2022-12-09T14:53:45.000</td><td>2022-12-09T18:40:40.000</td><td>image</td><td>CALJWST</td><td></td><td>http://www.stsci.edu/jwst/instrumentation/</td><td>STScI</td><td>JWST</td><td>PRD_VER=PRDOPSSOC-059|SDP_VER=2022_4a</td><td></td><td>2022-12-31T04:42:20.000</td><td></td><td>--</td><td>--</td><td>--</td><td>--</td><td>--</td><td>polygon 182.63639929 39.405437241 182.63526637 39.405282537 182.635059407 39.406127825 182.636192119 39.406282699</td><td>[182.63639929 39.405437241 2.0 182.63526637 39.405282537 1.0 182.635059407\\n 39.406127825 1.0 182.636192119 39.406282699 0.0]</td><td>0.001244477760706772</td><td>--</td><td>--</td><td>--</td><td>--</td><td></td><td>-- .. --</td><td>0</td><td>[1.7e-06 5e-06]</td><td>1.7e-06</td><td>5e-06</td><td>3.3000000000000006e-06</td><td>--</td><td>--</td><td>--</td><td>1.7e-06 .. 5e-06</td><td>-- .. --</td><td>Infrared</td><td>Infrared</td><td>F170LP</td><td>116390029411764.69</td><td>--</td><td>--</td><td>[59922.60951972523 59922.62066401621]</td><td>59922.60951972523</td><td>59922.62066401621</td><td>0.011144290983793326</td><td>--</td><td>--</td><td>--</td><td>962.867</td><td></td><td>--</td><td></td><td>[]</td><td>59922.60951972523 .. 59922.62066401621</td><td>-- .. --</td><td></td><td></td><td>-- .. --</td><td>--</td><td>--</td><td>--</td><td>--</td><td>mast:pyCAOM/2022.6.0</td><td>md5:400fa4ee0048e86b77dc8744e5a90e57</td><td>md5:529e64f2eca4978de960f0fe8a9c9d9c</td><td>2022-12-31T09:41:57.638</td><td>2022-12-31T09:41:57.638</td></tr>\n",
       "<tr><td>caom:JWST/jw01364001001_03101_00007_nrs1</td><td>--</td><td></td><td></td><td>020082fd-eea4-4465-8a44-a57103a58a37</td><td>JWST</td><td>jw01364001001_03101_00007_nrs1</td><td>exposure</td><td>PRIME</td><td>science</td><td>2022-12-09T12:48:02.000</td><td>Nuclear Dynamics of a Nearby Seyfert with NIRSpec Integral Field Spectroscopy</td><td>0</td><td>--</td><td>0</td><td>TARGPROP=NGC-4151</td><td>--</td><td>182.6357641666667</td><td>39.40584166666667</td><td>--</td><td>--</td><td>ICRS</td><td>JWST</td><td>--</td><td>DEC_V1=39.40553789890232|GDSTARID=N56I003171|PCSMODE=FINEGUIDE|RA_V1=182.4266501440881|REFFRAME=ICRS|V3_PA=300.8668756882092|VISITSTATUS=SUCCESSFUL|VISITYPE=PRIME_TARGETED_FIXED</td><td>APERTURE=NRS_FULL_IFU|DETECTOR=NRS1|EXPEND=59922.5333655787|EXPSTART=59922.52222128773|EXPTIME=962.867|EXPTYPE=PRIME|EXP_TYPE=NRS_IFU|FILTER=F170LP|TEMPLATE=NIRSpec IFU Spectroscopy</td><td>--</td><td>--</td><td>--</td><td>--</td><td>--</td><td>--</td><td>1</td><td></td><td>NIRSPEC</td><td></td><td>S</td><td>mast:pyCAOM/2022.6.0</td><td>md5:642ff1d93e3dc579bb43345b8bdcea87</td><td>md5:13ec27fb73836ea7ea5db4fd3b224f7d</td><td>2022-12-31T09:42:01.756</td><td>2022-12-31T09:42:01.756</td><td>1364</td><td>Bentz, Misty C.</td><td>ERS</td><td>NGC 4151</td><td></td><td></td><td>caom:JWST/jw01364001001_03101_00007_nrs1/jw01364001001_03101_00007_nrs1-CALIBRATED</td><td>ivo://cadc.nrc.ca/mirror/JWST?jw01364001001_03101_00007_nrs1/jw01364001001_03101_00007_nrs1-CALIBRATED</td><td>ivo://archive.stsci.edu/JWST?jw01364001001_03101_00007_nrs1/jw01364001001_03101_00007_nrs1-CALIBRATED</td><td>020082fd-eea4-4465-8a44-a57103a58a37</td><td>1df5810a-d320-4f47-a5f8-d49bfc42e08c</td><td>jw01364001001_03101_00007_nrs1-CALIBRATED</td><td></td><td></td><td>2</td><td>2022-12-09T12:48:02.000</td><td>2022-12-09T18:55:43.000</td><td>image</td><td>CALJWST</td><td>1.8.2</td><td>http://www.stsci.edu/jwst/instrumentation/</td><td>STScI</td><td>JWST</td><td>PRD_VER=PRDOPSSOC-059|SDP_VER=2022_4a</td><td>jwst_1027.pmap</td><td>2022-12-31T08:27:02.000</td><td>caom:JWST/jw01364001001_03101_00007_nrs1/jw01364001001_03101_00007_nrs1-RAW_STANDARD</td><td>--</td><td>--</td><td>--</td><td>--</td><td>--</td><td>polygon 182.634999512 39.405223893 182.634999512 39.406279449 182.63658134 39.406279449 182.63658134 39.405223893</td><td>[182.634999512 39.405223893 2.0 182.634999512 39.406279449 1.0\\n 182.63658134 39.406279449 1.0 182.63658134 39.405223893 0.0]</td><td>0.0016149447708768748</td><td>--</td><td>--</td><td>--</td><td>--</td><td></td><td>-- .. --</td><td>0</td><td>[1.7e-06 5e-06]</td><td>1.7e-06</td><td>5e-06</td><td>3.3000000000000006e-06</td><td>--</td><td>--</td><td>--</td><td>1.7e-06 .. 5e-06</td><td>-- .. --</td><td>Infrared</td><td>Infrared</td><td>F170LP</td><td>116390029411764.69</td><td>--</td><td>--</td><td>[59922.52222128773 59922.5333655787]</td><td>59922.52222128773</td><td>59922.5333655787</td><td>0.011144290976517368</td><td>--</td><td>--</td><td>--</td><td>962.867</td><td></td><td>--</td><td></td><td>[]</td><td>59922.52222128773 .. 59922.5333655787</td><td>-- .. --</td><td></td><td></td><td>-- .. --</td><td>--</td><td>--</td><td>--</td><td>--</td><td>mast:pyCAOM/2022.6.0</td><td>md5:b1546fc89fea743e245087c43c493932</td><td>md5:4e17b6101fd74e1b4274cfd5d2a2aead</td><td>2022-12-31T09:42:01.756</td><td>2022-12-31T09:42:01.756</td></tr>\n",
       "<tr><td>caom:JWST/jw01364001001_03101_00007_nrs1</td><td>--</td><td></td><td></td><td>020082fd-eea4-4465-8a44-a57103a58a37</td><td>JWST</td><td>jw01364001001_03101_00007_nrs1</td><td>exposure</td><td>PRIME</td><td>science</td><td>2022-12-09T12:48:02.000</td><td>Nuclear Dynamics of a Nearby Seyfert with NIRSpec Integral Field Spectroscopy</td><td>0</td><td>--</td><td>0</td><td>TARGPROP=NGC-4151</td><td>--</td><td>182.6357641666667</td><td>39.40584166666667</td><td>--</td><td>--</td><td>ICRS</td><td>JWST</td><td>--</td><td>DEC_V1=39.40553789890232|GDSTARID=N56I003171|PCSMODE=FINEGUIDE|RA_V1=182.4266501440881|REFFRAME=ICRS|V3_PA=300.8668756882092|VISITSTATUS=SUCCESSFUL|VISITYPE=PRIME_TARGETED_FIXED</td><td>APERTURE=NRS_FULL_IFU|DETECTOR=NRS1|EXPEND=59922.5333655787|EXPSTART=59922.52222128773|EXPTIME=962.867|EXPTYPE=PRIME|EXP_TYPE=NRS_IFU|FILTER=F170LP|TEMPLATE=NIRSpec IFU Spectroscopy</td><td>--</td><td>--</td><td>--</td><td>--</td><td>--</td><td>--</td><td>1</td><td></td><td>NIRSPEC</td><td></td><td>S</td><td>mast:pyCAOM/2022.6.0</td><td>md5:642ff1d93e3dc579bb43345b8bdcea87</td><td>md5:13ec27fb73836ea7ea5db4fd3b224f7d</td><td>2022-12-31T09:42:01.756</td><td>2022-12-31T09:42:01.756</td><td>1364</td><td>Bentz, Misty C.</td><td>ERS</td><td>NGC 4151</td><td></td><td></td><td>caom:JWST/jw01364001001_03101_00007_nrs1/jw01364001001_03101_00007_nrs1-RAW_STANDARD</td><td>ivo://cadc.nrc.ca/mirror/JWST?jw01364001001_03101_00007_nrs1/jw01364001001_03101_00007_nrs1-RAW_STANDARD</td><td>ivo://archive.stsci.edu/JWST?jw01364001001_03101_00007_nrs1/jw01364001001_03101_00007_nrs1-RAW_STANDARD</td><td>020082fd-eea4-4465-8a44-a57103a58a37</td><td>36456ff7-1d5f-4a8a-a8aa-aae7abbb13eb</td><td>jw01364001001_03101_00007_nrs1-RAW_STANDARD</td><td></td><td></td><td>1</td><td>2022-12-09T12:48:02.000</td><td>2022-12-09T18:55:43.000</td><td>image</td><td>CALJWST</td><td></td><td>http://www.stsci.edu/jwst/instrumentation/</td><td>STScI</td><td>JWST</td><td>PRD_VER=PRDOPSSOC-059|SDP_VER=2022_4a</td><td></td><td>2022-12-31T04:48:18.000</td><td></td><td>--</td><td>--</td><td>--</td><td>--</td><td>--</td><td>polygon 182.634999512 39.405223893 182.634999512 39.406279449 182.63658134 39.406279449 182.63658134 39.405223893</td><td>[182.634999512 39.405223893 2.0 182.634999512 39.406279449 1.0\\n 182.63658134 39.406279449 1.0 182.63658134 39.405223893 0.0]</td><td>0.0016149447708768748</td><td>--</td><td>--</td><td>--</td><td>--</td><td></td><td>-- .. --</td><td>0</td><td>[1.7e-06 5e-06]</td><td>1.7e-06</td><td>5e-06</td><td>3.3000000000000006e-06</td><td>--</td><td>--</td><td>--</td><td>1.7e-06 .. 5e-06</td><td>-- .. --</td><td>Infrared</td><td>Infrared</td><td>F170LP</td><td>116390029411764.69</td><td>--</td><td>--</td><td>[59922.52222128773 59922.5333655787]</td><td>59922.52222128773</td><td>59922.5333655787</td><td>0.011144290976517368</td><td>--</td><td>--</td><td>--</td><td>962.867</td><td></td><td>--</td><td></td><td>[]</td><td>59922.52222128773 .. 59922.5333655787</td><td>-- .. --</td><td></td><td></td><td>-- .. --</td><td>--</td><td>--</td><td>--</td><td>--</td><td>mast:pyCAOM/2022.6.0</td><td>md5:3c6bb3f51aedeaed15b43393af275a4f</td><td>md5:d34bdb5e3d39e07e82da6b416c797b3a</td><td>2022-12-31T09:42:01.756</td><td>2022-12-31T09:42:01.756</td></tr>\n",
       "<tr><td>caom:JWST/jw01364001001_03101_00005_nrs2</td><td>--</td><td></td><td></td><td>bd663233-dcbc-47db-b414-44ed23806097</td><td>JWST</td><td>jw01364001001_03101_00005_nrs2</td><td>exposure</td><td>PRIME</td><td>science</td><td>2022-12-09T12:13:01.000</td><td>Nuclear Dynamics of a Nearby Seyfert with NIRSpec Integral Field Spectroscopy</td><td>0</td><td>--</td><td>0</td><td>TARGPROP=NGC-4151</td><td>--</td><td>182.6357641666667</td><td>39.40584166666667</td><td>--</td><td>--</td><td>ICRS</td><td>JWST</td><td>--</td><td>DEC_V1=39.40554571032802|GDSTARID=N56I003171|PCSMODE=FINEGUIDE|RA_V1=182.4267068924763|REFFRAME=ICRS|V3_PA=300.8668978045571|VISITSTATUS=SUCCESSFUL|VISITYPE=PRIME_TARGETED_FIXED</td><td>APERTURE=NRS_FULL_IFU|DETECTOR=NRS2|EXPEND=59922.50905078703|EXPSTART=59922.49790649606|EXPTIME=962.867|EXPTYPE=PRIME|EXP_TYPE=NRS_IFU|FILTER=F170LP|TEMPLATE=NIRSpec IFU Spectroscopy</td><td>--</td><td>--</td><td>--</td><td>--</td><td>--</td><td>--</td><td>1</td><td></td><td>NIRSPEC</td><td></td><td>S</td><td>mast:pyCAOM/2022.6.0</td><td>md5:5e8f446b39c5a22856cefa81999b2bb0</td><td>md5:45db4de4f73b1c375557db89f8d0b051</td><td>2022-12-31T09:42:06.490</td><td>2022-12-31T09:42:06.490</td><td>1364</td><td>Bentz, Misty C.</td><td>ERS</td><td>NGC 4151</td><td></td><td></td><td>caom:JWST/jw01364001001_03101_00005_nrs2/jw01364001001_03101_00005_nrs2-CALIBRATED</td><td>ivo://cadc.nrc.ca/mirror/JWST?jw01364001001_03101_00005_nrs2/jw01364001001_03101_00005_nrs2-CALIBRATED</td><td>ivo://archive.stsci.edu/JWST?jw01364001001_03101_00005_nrs2/jw01364001001_03101_00005_nrs2-CALIBRATED</td><td>bd663233-dcbc-47db-b414-44ed23806097</td><td>e69ec343-6ef1-44f0-956b-168588355546</td><td>jw01364001001_03101_00005_nrs2-CALIBRATED</td><td></td><td></td><td>2</td><td>2022-12-09T12:13:01.000</td><td>2022-12-09T18:57:58.000</td><td>image</td><td>CALJWST</td><td>1.8.2</td><td>http://www.stsci.edu/jwst/instrumentation/</td><td>STScI</td><td>JWST</td><td>PRD_VER=PRDOPSSOC-059|SDP_VER=2022_4a</td><td>jwst_1027.pmap</td><td>2022-12-31T08:25:24.000</td><td>caom:JWST/jw01364001001_03101_00005_nrs2/jw01364001001_03101_00005_nrs2-RAW_STANDARD</td><td>--</td><td>--</td><td>--</td><td>--</td><td>--</td><td>polygon 182.635056288 39.405231642 182.635056288 39.406287197 182.636638117 39.406287197 182.636638117 39.405231642</td><td>[182.635056288 39.405231642 2.0 182.635056288 39.406287197 1.0\\n 182.636638117 39.406287197 1.0 182.636638117 39.405231642 0.0]</td><td>0.0016149445993059747</td><td>--</td><td>--</td><td>--</td><td>--</td><td></td><td>-- .. --</td><td>0</td><td>[1.7e-06 5e-06]</td><td>1.7e-06</td><td>5e-06</td><td>3.3000000000000006e-06</td><td>--</td><td>--</td><td>--</td><td>1.7e-06 .. 5e-06</td><td>-- .. --</td><td>Infrared</td><td>Infrared</td><td>F170LP</td><td>116390029411764.69</td><td>--</td><td>--</td><td>[59922.49790649606 59922.50905078703]</td><td>59922.49790649606</td><td>59922.50905078703</td><td>0.011144290976517368</td><td>--</td><td>--</td><td>--</td><td>962.867</td><td></td><td>--</td><td></td><td>[]</td><td>59922.49790649606 .. 59922.50905078703</td><td>-- .. --</td><td></td><td></td><td>-- .. --</td><td>--</td><td>--</td><td>--</td><td>--</td><td>mast:pyCAOM/2022.6.0</td><td>md5:4be8d855134c56229890053f31cf562f</td><td>md5:1e89d04cbcf1ec5b6e0376688d683494</td><td>2022-12-31T09:42:06.490</td><td>2022-12-31T09:42:06.490</td></tr>\n",
       "<tr><td>caom:JWST/jw01364001001_03101_00005_nrs2</td><td>--</td><td></td><td></td><td>bd663233-dcbc-47db-b414-44ed23806097</td><td>JWST</td><td>jw01364001001_03101_00005_nrs2</td><td>exposure</td><td>PRIME</td><td>science</td><td>2022-12-09T12:13:01.000</td><td>Nuclear Dynamics of a Nearby Seyfert with NIRSpec Integral Field Spectroscopy</td><td>0</td><td>--</td><td>0</td><td>TARGPROP=NGC-4151</td><td>--</td><td>182.6357641666667</td><td>39.40584166666667</td><td>--</td><td>--</td><td>ICRS</td><td>JWST</td><td>--</td><td>DEC_V1=39.40554571032802|GDSTARID=N56I003171|PCSMODE=FINEGUIDE|RA_V1=182.4267068924763|REFFRAME=ICRS|V3_PA=300.8668978045571|VISITSTATUS=SUCCESSFUL|VISITYPE=PRIME_TARGETED_FIXED</td><td>APERTURE=NRS_FULL_IFU|DETECTOR=NRS2|EXPEND=59922.50905078703|EXPSTART=59922.49790649606|EXPTIME=962.867|EXPTYPE=PRIME|EXP_TYPE=NRS_IFU|FILTER=F170LP|TEMPLATE=NIRSpec IFU Spectroscopy</td><td>--</td><td>--</td><td>--</td><td>--</td><td>--</td><td>--</td><td>1</td><td></td><td>NIRSPEC</td><td></td><td>S</td><td>mast:pyCAOM/2022.6.0</td><td>md5:5e8f446b39c5a22856cefa81999b2bb0</td><td>md5:45db4de4f73b1c375557db89f8d0b051</td><td>2022-12-31T09:42:06.490</td><td>2022-12-31T09:42:06.490</td><td>1364</td><td>Bentz, Misty C.</td><td>ERS</td><td>NGC 4151</td><td></td><td></td><td>caom:JWST/jw01364001001_03101_00005_nrs2/jw01364001001_03101_00005_nrs2-RAW_STANDARD</td><td>ivo://cadc.nrc.ca/mirror/JWST?jw01364001001_03101_00005_nrs2/jw01364001001_03101_00005_nrs2-RAW_STANDARD</td><td>ivo://archive.stsci.edu/JWST?jw01364001001_03101_00005_nrs2/jw01364001001_03101_00005_nrs2-RAW_STANDARD</td><td>bd663233-dcbc-47db-b414-44ed23806097</td><td>6cacf574-973f-49a9-aa8a-7877f55a7c79</td><td>jw01364001001_03101_00005_nrs2-RAW_STANDARD</td><td></td><td></td><td>1</td><td>2022-12-09T12:13:01.000</td><td>2022-12-09T18:57:58.000</td><td>image</td><td>CALJWST</td><td></td><td>http://www.stsci.edu/jwst/instrumentation/</td><td>STScI</td><td>JWST</td><td>PRD_VER=PRDOPSSOC-059|SDP_VER=2022_4a</td><td></td><td>2022-12-31T04:43:28.000</td><td></td><td>--</td><td>--</td><td>--</td><td>--</td><td>--</td><td>polygon 182.635056288 39.405231642 182.635056288 39.406287197 182.636638117 39.406287197 182.636638117 39.405231642</td><td>[182.635056288 39.405231642 2.0 182.635056288 39.406287197 1.0\\n 182.636638117 39.406287197 1.0 182.636638117 39.405231642 0.0]</td><td>0.0016149445993059747</td><td>--</td><td>--</td><td>--</td><td>--</td><td></td><td>-- .. --</td><td>0</td><td>[1.7e-06 5e-06]</td><td>1.7e-06</td><td>5e-06</td><td>3.3000000000000006e-06</td><td>--</td><td>--</td><td>--</td><td>1.7e-06 .. 5e-06</td><td>-- .. --</td><td>Infrared</td><td>Infrared</td><td>F170LP</td><td>116390029411764.69</td><td>--</td><td>--</td><td>[59922.49790649606 59922.50905078703]</td><td>59922.49790649606</td><td>59922.50905078703</td><td>0.011144290976517368</td><td>--</td><td>--</td><td>--</td><td>962.867</td><td></td><td>--</td><td></td><td>[]</td><td>59922.49790649606 .. 59922.50905078703</td><td>-- .. --</td><td></td><td></td><td>-- .. --</td><td>--</td><td>--</td><td>--</td><td>--</td><td>mast:pyCAOM/2022.6.0</td><td>md5:238cb3c151b9073594e998d49d0c408c</td><td>md5:cd9b9b758cd3773f8e1ec492583ef73f</td><td>2022-12-31T09:42:06.490</td><td>2022-12-31T09:42:06.490</td></tr>\n",
       "<tr><td>caom:JWST/jw01364001001_03101_00012_nrs1</td><td>--</td><td></td><td></td><td>20bd729e-dd1e-43de-ab20-08f9402867cf</td><td>JWST</td><td>jw01364001001_03101_00012_nrs1</td><td>exposure</td><td>PRIME</td><td>science</td><td>2022-12-09T14:16:18.000</td><td>Nuclear Dynamics of a Nearby Seyfert with NIRSpec Integral Field Spectroscopy</td><td>0</td><td>--</td><td>0</td><td>TARGPROP=NGC-4151</td><td>--</td><td>182.6357641666667</td><td>39.40584166666667</td><td>--</td><td>--</td><td>ICRS</td><td>JWST</td><td>--</td><td>DEC_V1=39.40555382854158|GDSTARID=N56I003171|PCSMODE=FINEGUIDE|RA_V1=182.4267325593424|REFFRAME=ICRS|V3_PA=300.8669478002219|VISITSTATUS=SUCCESSFUL|VISITYPE=PRIME_TARGETED_FIXED</td><td>APERTURE=NRS_FULL_IFU|DETECTOR=NRS1|EXPEND=59922.59466033565|EXPSTART=59922.58351604467|EXPTIME=962.867|EXPTYPE=PRIME|EXP_TYPE=NRS_IFU|FILTER=F170LP|TEMPLATE=NIRSpec IFU Spectroscopy</td><td>--</td><td>--</td><td>--</td><td>--</td><td>--</td><td>--</td><td>1</td><td></td><td>NIRSPEC</td><td></td><td>S</td><td>mast:pyCAOM/2022.6.0</td><td>md5:2fd65bcbf3bf07cb9d4dfc8573a96dcc</td><td>md5:9a5f1f1a537818527627b7510a4c5b1c</td><td>2022-12-31T09:42:10.090</td><td>2022-12-31T09:42:10.090</td><td>1364</td><td>Bentz, Misty C.</td><td>ERS</td><td>NGC 4151</td><td></td><td></td><td>caom:JWST/jw01364001001_03101_00012_nrs1/jw01364001001_03101_00012_nrs1-CALIBRATED</td><td>ivo://cadc.nrc.ca/mirror/JWST?jw01364001001_03101_00012_nrs1/jw01364001001_03101_00012_nrs1-CALIBRATED</td><td>ivo://archive.stsci.edu/JWST?jw01364001001_03101_00012_nrs1/jw01364001001_03101_00012_nrs1-CALIBRATED</td><td>20bd729e-dd1e-43de-ab20-08f9402867cf</td><td>e7aac204-3322-4ca5-8055-60d5d9b50cf5</td><td>jw01364001001_03101_00012_nrs1-CALIBRATED</td><td></td><td></td><td>2</td><td>2022-12-09T14:16:18.000</td><td>2022-12-09T18:55:54.000</td><td>image</td><td>CALJWST</td><td>1.8.2</td><td>http://www.stsci.edu/jwst/instrumentation/</td><td>STScI</td><td>JWST</td><td>PRD_VER=PRDOPSSOC-059|SDP_VER=2022_4a</td><td>jwst_1027.pmap</td><td>2022-12-31T08:26:23.000</td><td>caom:JWST/jw01364001001_03101_00012_nrs1/jw01364001001_03101_00012_nrs1-RAW_STANDARD</td><td>--</td><td>--</td><td>--</td><td>--</td><td>--</td><td>polygon 182.635081974 39.40523962 182.635081974 39.406295175 182.636663804 39.406295175 182.636663804 39.40523962</td><td>[182.635081974 39.40523962 2.0 182.635081974 39.406295175 1.0\\n 182.636663804 39.406295175 1.0 182.636663804 39.40523962 0.0]</td><td>0.0016149450782009555</td><td>--</td><td>--</td><td>--</td><td>--</td><td></td><td>-- .. --</td><td>0</td><td>[1.7e-06 5e-06]</td><td>1.7e-06</td><td>5e-06</td><td>3.3000000000000006e-06</td><td>--</td><td>--</td><td>--</td><td>1.7e-06 .. 5e-06</td><td>-- .. --</td><td>Infrared</td><td>Infrared</td><td>F170LP</td><td>116390029411764.69</td><td>--</td><td>--</td><td>[59922.58351604467 59922.59466033565]</td><td>59922.58351604467</td><td>59922.59466033565</td><td>0.011144290976517368</td><td>--</td><td>--</td><td>--</td><td>962.867</td><td></td><td>--</td><td></td><td>[]</td><td>59922.58351604467 .. 59922.59466033565</td><td>-- .. --</td><td></td><td></td><td>-- .. --</td><td>--</td><td>--</td><td>--</td><td>--</td><td>mast:pyCAOM/2022.6.0</td><td>md5:db5da24d36e8a7b0decd086a49b40c2b</td><td>md5:0720c6cbfadeeaf4f81f14473c248c48</td><td>2022-12-31T09:42:10.090</td><td>2022-12-31T09:42:10.090</td></tr>\n",
       "<tr><td>caom:JWST/jw01364001001_03101_00012_nrs1</td><td>--</td><td></td><td></td><td>20bd729e-dd1e-43de-ab20-08f9402867cf</td><td>JWST</td><td>jw01364001001_03101_00012_nrs1</td><td>exposure</td><td>PRIME</td><td>science</td><td>2022-12-09T14:16:18.000</td><td>Nuclear Dynamics of a Nearby Seyfert with NIRSpec Integral Field Spectroscopy</td><td>0</td><td>--</td><td>0</td><td>TARGPROP=NGC-4151</td><td>--</td><td>182.6357641666667</td><td>39.40584166666667</td><td>--</td><td>--</td><td>ICRS</td><td>JWST</td><td>--</td><td>DEC_V1=39.40555382854158|GDSTARID=N56I003171|PCSMODE=FINEGUIDE|RA_V1=182.4267325593424|REFFRAME=ICRS|V3_PA=300.8669478002219|VISITSTATUS=SUCCESSFUL|VISITYPE=PRIME_TARGETED_FIXED</td><td>APERTURE=NRS_FULL_IFU|DETECTOR=NRS1|EXPEND=59922.59466033565|EXPSTART=59922.58351604467|EXPTIME=962.867|EXPTYPE=PRIME|EXP_TYPE=NRS_IFU|FILTER=F170LP|TEMPLATE=NIRSpec IFU Spectroscopy</td><td>--</td><td>--</td><td>--</td><td>--</td><td>--</td><td>--</td><td>1</td><td></td><td>NIRSPEC</td><td></td><td>S</td><td>mast:pyCAOM/2022.6.0</td><td>md5:2fd65bcbf3bf07cb9d4dfc8573a96dcc</td><td>md5:9a5f1f1a537818527627b7510a4c5b1c</td><td>2022-12-31T09:42:10.090</td><td>2022-12-31T09:42:10.090</td><td>1364</td><td>Bentz, Misty C.</td><td>ERS</td><td>NGC 4151</td><td></td><td></td><td>caom:JWST/jw01364001001_03101_00012_nrs1/jw01364001001_03101_00012_nrs1-RAW_STANDARD</td><td>ivo://cadc.nrc.ca/mirror/JWST?jw01364001001_03101_00012_nrs1/jw01364001001_03101_00012_nrs1-RAW_STANDARD</td><td>ivo://archive.stsci.edu/JWST?jw01364001001_03101_00012_nrs1/jw01364001001_03101_00012_nrs1-RAW_STANDARD</td><td>20bd729e-dd1e-43de-ab20-08f9402867cf</td><td>b5433681-0145-4d3d-96fd-848b727d0e6b</td><td>jw01364001001_03101_00012_nrs1-RAW_STANDARD</td><td></td><td></td><td>1</td><td>2022-12-09T14:16:18.000</td><td>2022-12-09T18:55:54.000</td><td>image</td><td>CALJWST</td><td></td><td>http://www.stsci.edu/jwst/instrumentation/</td><td>STScI</td><td>JWST</td><td>PRD_VER=PRDOPSSOC-059|SDP_VER=2022_4a</td><td></td><td>2022-12-31T04:46:00.000</td><td></td><td>--</td><td>--</td><td>--</td><td>--</td><td>--</td><td>polygon 182.635081974 39.40523962 182.635081974 39.406295175 182.636663804 39.406295175 182.636663804 39.40523962</td><td>[182.635081974 39.40523962 2.0 182.635081974 39.406295175 1.0\\n 182.636663804 39.406295175 1.0 182.636663804 39.40523962 0.0]</td><td>0.0016149450782009555</td><td>--</td><td>--</td><td>--</td><td>--</td><td></td><td>-- .. --</td><td>0</td><td>[1.7e-06 5e-06]</td><td>1.7e-06</td><td>5e-06</td><td>3.3000000000000006e-06</td><td>--</td><td>--</td><td>--</td><td>1.7e-06 .. 5e-06</td><td>-- .. --</td><td>Infrared</td><td>Infrared</td><td>F170LP</td><td>116390029411764.69</td><td>--</td><td>--</td><td>[59922.58351604467 59922.59466033565]</td><td>59922.58351604467</td><td>59922.59466033565</td><td>0.011144290976517368</td><td>--</td><td>--</td><td>--</td><td>962.867</td><td></td><td>--</td><td></td><td>[]</td><td>59922.58351604467 .. 59922.59466033565</td><td>-- .. --</td><td></td><td></td><td>-- .. --</td><td>--</td><td>--</td><td>--</td><td>--</td><td>mast:pyCAOM/2022.6.0</td><td>md5:10ea5d970e00b70e255f40dc586bd436</td><td>md5:5716b85c3c3a052832fc2179ce5f254f</td><td>2022-12-31T09:42:10.090</td><td>2022-12-31T09:42:10.090</td></tr>\n",
       "<tr><td>caom:JWST/jw01364001001_03103_00005_nrs1</td><td>--</td><td></td><td></td><td>08212b94-f549-4f13-b0a2-249e7da2b6a2</td><td>JWST</td><td>jw01364001001_03103_00005_nrs1</td><td>exposure</td><td>PRIME</td><td>science</td><td>2022-12-09T15:46:16.000</td><td>Nuclear Dynamics of a Nearby Seyfert with NIRSpec Integral Field Spectroscopy</td><td>0</td><td>--</td><td>0</td><td>TARGPROP=NGC-4151</td><td>--</td><td>182.6357641666667</td><td>39.40584166666667</td><td>--</td><td>--</td><td>ICRS</td><td>JWST</td><td>--</td><td>DEC_V1=39.40554521288762|GDSTARID=N56I003171|PCSMODE=FINEGUIDE|RA_V1=182.4267068091501|REFFRAME=ICRS|V3_PA=300.8667815848825|VISITSTATUS=SUCCESSFUL|VISITYPE=PRIME_TARGETED_FIXED</td><td>APERTURE=NRS_FULL_IFU|DETECTOR=NRS1|EXPEND=59922.65713657407|EXPSTART=59922.64599228311|EXPTIME=962.867|EXPTYPE=PRIME|EXP_TYPE=NRS_IFU|FILTER=F170LP|TEMPLATE=NIRSpec IFU Spectroscopy</td><td>--</td><td>--</td><td>--</td><td>--</td><td>--</td><td>--</td><td>1</td><td></td><td>NIRSPEC</td><td></td><td>S</td><td>mast:pyCAOM/2022.6.0</td><td>md5:c5490db099ebc275ec4d6cd5e0496df4</td><td>md5:9712c71e7ae124077d3982f1382780b2</td><td>2022-12-31T09:42:13.456</td><td>2022-12-31T09:42:13.456</td><td>1364</td><td>Bentz, Misty C.</td><td>ERS</td><td>NGC 4151</td><td></td><td></td><td>caom:JWST/jw01364001001_03103_00005_nrs1/jw01364001001_03103_00005_nrs1-CALIBRATED</td><td>ivo://cadc.nrc.ca/mirror/JWST?jw01364001001_03103_00005_nrs1/jw01364001001_03103_00005_nrs1-CALIBRATED</td><td>ivo://archive.stsci.edu/JWST?jw01364001001_03103_00005_nrs1/jw01364001001_03103_00005_nrs1-CALIBRATED</td><td>08212b94-f549-4f13-b0a2-249e7da2b6a2</td><td>496eaa62-10e6-4b4a-9e1b-73720efc2ac3</td><td>jw01364001001_03103_00005_nrs1-CALIBRATED</td><td></td><td></td><td>2</td><td>2022-12-09T15:46:16.000</td><td>2022-12-09T18:44:23.000</td><td>image</td><td>CALJWST</td><td>1.8.2</td><td>http://www.stsci.edu/jwst/instrumentation/</td><td>STScI</td><td>JWST</td><td>PRD_VER=PRDOPSSOC-059|SDP_VER=2022_4a</td><td>jwst_1019.pmap</td><td>2022-12-09T18:14:23.000</td><td>caom:JWST/jw01364001001_03103_00005_nrs1/jw01364001001_03103_00005_nrs1-RAW_STANDARD</td><td>--</td><td>--</td><td>--</td><td>--</td><td>--</td><td>polygon 182.636456799 39.405481499 182.635323878 39.405326794 182.635116914 39.406172083 182.636249627 39.406326957</td><td>[182.636456799 39.405481499 2.0 182.635323878 39.405326794 1.0\\n 182.635116914 39.406172083 1.0 182.636249627 39.406326957 0.0]</td><td>0.0012444784997057247</td><td>--</td><td>--</td><td>--</td><td>--</td><td></td><td>-- .. --</td><td>0</td><td>[1.7e-06 5e-06]</td><td>1.7e-06</td><td>5e-06</td><td>3.3000000000000006e-06</td><td>--</td><td>--</td><td>--</td><td>1.7e-06 .. 5e-06</td><td>-- .. --</td><td>Infrared</td><td>Infrared</td><td>F170LP</td><td>116390029411764.69</td><td>--</td><td>--</td><td>[59922.64599228311 59922.65713657407]</td><td>59922.64599228311</td><td>59922.65713657407</td><td>0.011144290954689495</td><td>--</td><td>--</td><td>--</td><td>962.867</td><td></td><td>--</td><td></td><td>[]</td><td>59922.64599228311 .. 59922.65713657407</td><td>-- .. --</td><td></td><td></td><td>-- .. --</td><td>--</td><td>--</td><td>--</td><td>--</td><td>mast:pyCAOM/2022.6.0</td><td>md5:cef2f7b981daea2768609c46dd0ef22b</td><td>md5:fc3fcbed5e4c3f7bfc64894d78fc5e0a</td><td>2022-12-31T09:42:13.456</td><td>2022-12-31T09:42:13.456</td></tr>\n",
       "<tr><td>...</td><td>...</td><td>...</td><td>...</td><td>...</td><td>...</td><td>...</td><td>...</td><td>...</td><td>...</td><td>...</td><td>...</td><td>...</td><td>...</td><td>...</td><td>...</td><td>...</td><td>...</td><td>...</td><td>...</td><td>...</td><td>...</td><td>...</td><td>...</td><td>...</td><td>...</td><td>...</td><td>...</td><td>...</td><td>...</td><td>...</td><td>...</td><td>...</td><td>...</td><td>...</td><td>...</td><td>...</td><td>...</td><td>...</td><td>...</td><td>...</td><td>...</td><td>...</td><td>...</td><td>...</td><td>...</td><td>...</td><td>...</td><td>...</td><td>...</td><td>...</td><td>...</td><td>...</td><td>...</td><td>...</td><td>...</td><td>...</td><td>...</td><td>...</td><td>...</td><td>...</td><td>...</td><td>...</td><td>...</td><td>...</td><td>...</td><td>...</td><td>...</td><td>...</td><td>...</td><td>...</td><td>...</td><td>...</td><td>...</td><td>...</td><td>...</td><td>...</td><td>...</td><td>...</td><td>...</td><td>...</td><td>...</td><td>...</td><td>...</td><td>...</td><td>...</td><td>...</td><td>...</td><td>...</td><td>...</td><td>...</td><td>...</td><td>...</td><td>...</td><td>...</td><td>...</td><td>...</td><td>...</td><td>...</td><td>...</td><td>...</td><td>...</td><td>...</td><td>...</td><td>...</td><td>...</td><td>...</td><td>...</td><td>...</td><td>...</td><td>...</td><td>...</td><td>...</td><td>...</td><td>...</td><td>...</td><td>...</td><td>...</td><td>...</td><td>...</td><td>...</td><td>...</td><td>...</td><td>...</td><td>...</td></tr>\n",
       "<tr><td>caom:JWST/jw01364001001_03103_00012_nrs1</td><td>--</td><td></td><td></td><td>59d52336-f1cf-4ec1-8523-ab5bbd74740f</td><td>JWST</td><td>jw01364001001_03103_00012_nrs1</td><td>exposure</td><td>PRIME</td><td>science</td><td>2022-12-09T17:49:04.000</td><td>Nuclear Dynamics of a Nearby Seyfert with NIRSpec Integral Field Spectroscopy</td><td>0</td><td>--</td><td>0</td><td>TARGPROP=NGC-4151</td><td>--</td><td>182.6357641666667</td><td>39.40584166666667</td><td>--</td><td>--</td><td>ICRS</td><td>JWST</td><td>--</td><td>DEC_V1=39.40555344846883|GDSTARID=N56I003171|PCSMODE=FINEGUIDE|RA_V1=182.4267325113358|REFFRAME=ICRS|V3_PA=300.8668645378384|VISITSTATUS=SUCCESSFUL|VISITYPE=PRIME_TARGETED_FIXED</td><td>APERTURE=NRS_FULL_IFU|DETECTOR=NRS1|EXPEND=59922.74240907408|EXPSTART=59922.7312647831|EXPTIME=962.867|EXPTYPE=PRIME|EXP_TYPE=NRS_IFU|FILTER=F170LP|TEMPLATE=NIRSpec IFU Spectroscopy</td><td>--</td><td>--</td><td>--</td><td>--</td><td>--</td><td>--</td><td>1</td><td></td><td>NIRSPEC</td><td></td><td>S</td><td>mast:pyCAOM/2022.6.0</td><td>md5:475d2f6e8c84ad225e98c7ec0380b188</td><td>md5:fa0c4cf9e4a83f673dc30abf67ce4e3c</td><td>2022-12-31T09:44:23.727</td><td>2022-12-31T09:44:23.727</td><td>1364</td><td>Bentz, Misty C.</td><td>ERS</td><td>NGC 4151</td><td></td><td></td><td>caom:JWST/jw01364001001_03103_00012_nrs1/jw01364001001_03103_00012_nrs1-RAW_STANDARD</td><td>ivo://cadc.nrc.ca/mirror/JWST?jw01364001001_03103_00012_nrs1/jw01364001001_03103_00012_nrs1-RAW_STANDARD</td><td>ivo://archive.stsci.edu/JWST?jw01364001001_03103_00012_nrs1/jw01364001001_03103_00012_nrs1-RAW_STANDARD</td><td>59d52336-f1cf-4ec1-8523-ab5bbd74740f</td><td>47a1734b-414b-49b2-ae1f-2fa2757f1ea3</td><td>jw01364001001_03103_00012_nrs1-RAW_STANDARD</td><td></td><td></td><td>1</td><td>2022-12-09T17:49:04.000</td><td>2022-12-09T18:49:13.000</td><td>image</td><td>CALJWST</td><td></td><td>http://www.stsci.edu/jwst/instrumentation/</td><td>STScI</td><td>JWST</td><td>PRD_VER=PRDOPSSOC-059|SDP_VER=2022_4a</td><td></td><td>2022-12-31T04:38:03.000</td><td></td><td>--</td><td>--</td><td>--</td><td>--</td><td>--</td><td>polygon 182.636482525 39.4054895 182.635349604 39.405334796 182.635142642 39.406180085 182.636275355 39.406334958</td><td>[182.636482525 39.4054895 2.0 182.635349604 39.405334796 1.0 182.635142642\\n 39.406180085 1.0 182.636275355 39.406334958 0.0]</td><td>0.0012444776702458498</td><td>--</td><td>--</td><td>--</td><td>--</td><td></td><td>-- .. --</td><td>0</td><td>[1.7e-06 5e-06]</td><td>1.7e-06</td><td>5e-06</td><td>3.3000000000000006e-06</td><td>--</td><td>--</td><td>--</td><td>1.7e-06 .. 5e-06</td><td>-- .. --</td><td>Infrared</td><td>Infrared</td><td>F170LP</td><td>116390029411764.69</td><td>--</td><td>--</td><td>[59922.7312647831 59922.74240907408]</td><td>59922.7312647831</td><td>59922.74240907408</td><td>0.011144290983793326</td><td>--</td><td>--</td><td>--</td><td>962.867</td><td></td><td>--</td><td></td><td>[]</td><td>59922.7312647831 .. 59922.74240907408</td><td>-- .. --</td><td></td><td></td><td>-- .. --</td><td>--</td><td>--</td><td>--</td><td>--</td><td>mast:pyCAOM/2022.6.0</td><td>md5:2aa9a3badacb242f76f0a57a1aec41df</td><td>md5:07003b6b75b5c3704ea61fddaf633779</td><td>2022-12-31T09:44:23.727</td><td>2022-12-31T09:44:23.727</td></tr>\n",
       "<tr><td>caom:JWST/jw01364001001_03103_00009_nrs1</td><td>--</td><td></td><td></td><td>f114e3da-d292-4846-a119-b1e0f5e53fce</td><td>JWST</td><td>jw01364001001_03103_00009_nrs1</td><td>exposure</td><td>PRIME</td><td>science</td><td>2022-12-09T16:56:32.000</td><td>Nuclear Dynamics of a Nearby Seyfert with NIRSpec Integral Field Spectroscopy</td><td>0</td><td>--</td><td>0</td><td>TARGPROP=NGC-4151</td><td>--</td><td>182.6357641666667</td><td>39.40584166666667</td><td>--</td><td>--</td><td>ICRS</td><td>JWST</td><td>--</td><td>DEC_V1=39.40559612722328|GDSTARID=N56I003171|PCSMODE=FINEGUIDE|RA_V1=182.4267532696088|REFFRAME=ICRS|V3_PA=300.8670127602391|VISITSTATUS=SUCCESSFUL|VISITYPE=PRIME_TARGETED_FIXED</td><td>APERTURE=NRS_FULL_IFU|DETECTOR=NRS1|EXPEND=59922.70593577546|EXPSTART=59922.69479148449|EXPTIME=962.867|EXPTYPE=PRIME|EXP_TYPE=NRS_IFU|FILTER=F170LP|TEMPLATE=NIRSpec IFU Spectroscopy</td><td>--</td><td>--</td><td>--</td><td>--</td><td>--</td><td>--</td><td>1</td><td></td><td>NIRSPEC</td><td></td><td>S</td><td>mast:pyCAOM/2022.6.0</td><td>md5:4604703db28361ee85fa03307968159c</td><td>md5:f11a7913f9a31a0f5fead6335ffc0703</td><td>2022-12-31T09:44:26.564</td><td>2022-12-31T09:44:26.564</td><td>1364</td><td>Bentz, Misty C.</td><td>ERS</td><td>NGC 4151</td><td></td><td></td><td>caom:JWST/jw01364001001_03103_00009_nrs1/jw01364001001_03103_00009_nrs1-CALIBRATED</td><td>ivo://cadc.nrc.ca/mirror/JWST?jw01364001001_03103_00009_nrs1/jw01364001001_03103_00009_nrs1-CALIBRATED</td><td>ivo://archive.stsci.edu/JWST?jw01364001001_03103_00009_nrs1/jw01364001001_03103_00009_nrs1-CALIBRATED</td><td>f114e3da-d292-4846-a119-b1e0f5e53fce</td><td>c1b7bc4c-7b1b-4021-8f4e-82335152fc74</td><td>jw01364001001_03103_00009_nrs1-CALIBRATED</td><td></td><td></td><td>2</td><td>2022-12-09T16:56:32.000</td><td>2022-12-09T18:39:41.000</td><td>image</td><td>CALJWST</td><td>1.8.2</td><td>http://www.stsci.edu/jwst/instrumentation/</td><td>STScI</td><td>JWST</td><td>PRD_VER=PRDOPSSOC-059|SDP_VER=2022_4a</td><td>jwst_1019.pmap</td><td>2022-12-09T18:14:23.000</td><td>caom:JWST/jw01364001001_03103_00009_nrs1/jw01364001001_03103_00009_nrs1-RAW_STANDARD</td><td>--</td><td>--</td><td>--</td><td>--</td><td>--</td><td>polygon 182.636503411 39.405531759 182.635370489 39.405377058 182.635163529 39.406222347 182.636296244 39.406377217</td><td>[182.636503411 39.405531759 2.0 182.635370489 39.405377058 1.0\\n 182.635163529 39.406222347 1.0 182.636296244 39.406377217 0.0]</td><td>0.0012444781702694236</td><td>--</td><td>--</td><td>--</td><td>--</td><td></td><td>-- .. --</td><td>0</td><td>[1.7e-06 5e-06]</td><td>1.7e-06</td><td>5e-06</td><td>3.3000000000000006e-06</td><td>--</td><td>--</td><td>--</td><td>1.7e-06 .. 5e-06</td><td>-- .. --</td><td>Infrared</td><td>Infrared</td><td>F170LP</td><td>116390029411764.69</td><td>--</td><td>--</td><td>[59922.69479148449 59922.70593577546]</td><td>59922.69479148449</td><td>59922.70593577546</td><td>0.01114429096924141</td><td>--</td><td>--</td><td>--</td><td>962.867</td><td></td><td>--</td><td></td><td>[]</td><td>59922.69479148449 .. 59922.70593577546</td><td>-- .. --</td><td></td><td></td><td>-- .. --</td><td>--</td><td>--</td><td>--</td><td>--</td><td>mast:pyCAOM/2022.6.0</td><td>md5:0f1a19fe11789bee0cfd0e042794a410</td><td>md5:0d870d65eb233408c41d3a3c9b92b8b6</td><td>2022-12-31T09:44:26.564</td><td>2022-12-31T09:44:26.564</td></tr>\n",
       "<tr><td>caom:JWST/jw01364001001_03103_00009_nrs1</td><td>--</td><td></td><td></td><td>f114e3da-d292-4846-a119-b1e0f5e53fce</td><td>JWST</td><td>jw01364001001_03103_00009_nrs1</td><td>exposure</td><td>PRIME</td><td>science</td><td>2022-12-09T16:56:32.000</td><td>Nuclear Dynamics of a Nearby Seyfert with NIRSpec Integral Field Spectroscopy</td><td>0</td><td>--</td><td>0</td><td>TARGPROP=NGC-4151</td><td>--</td><td>182.6357641666667</td><td>39.40584166666667</td><td>--</td><td>--</td><td>ICRS</td><td>JWST</td><td>--</td><td>DEC_V1=39.40559612722328|GDSTARID=N56I003171|PCSMODE=FINEGUIDE|RA_V1=182.4267532696088|REFFRAME=ICRS|V3_PA=300.8670127602391|VISITSTATUS=SUCCESSFUL|VISITYPE=PRIME_TARGETED_FIXED</td><td>APERTURE=NRS_FULL_IFU|DETECTOR=NRS1|EXPEND=59922.70593577546|EXPSTART=59922.69479148449|EXPTIME=962.867|EXPTYPE=PRIME|EXP_TYPE=NRS_IFU|FILTER=F170LP|TEMPLATE=NIRSpec IFU Spectroscopy</td><td>--</td><td>--</td><td>--</td><td>--</td><td>--</td><td>--</td><td>1</td><td></td><td>NIRSPEC</td><td></td><td>S</td><td>mast:pyCAOM/2022.6.0</td><td>md5:4604703db28361ee85fa03307968159c</td><td>md5:f11a7913f9a31a0f5fead6335ffc0703</td><td>2022-12-31T09:44:26.564</td><td>2022-12-31T09:44:26.564</td><td>1364</td><td>Bentz, Misty C.</td><td>ERS</td><td>NGC 4151</td><td></td><td></td><td>caom:JWST/jw01364001001_03103_00009_nrs1/jw01364001001_03103_00009_nrs1-RAW_STANDARD</td><td>ivo://cadc.nrc.ca/mirror/JWST?jw01364001001_03103_00009_nrs1/jw01364001001_03103_00009_nrs1-RAW_STANDARD</td><td>ivo://archive.stsci.edu/JWST?jw01364001001_03103_00009_nrs1/jw01364001001_03103_00009_nrs1-RAW_STANDARD</td><td>f114e3da-d292-4846-a119-b1e0f5e53fce</td><td>4bae88ae-6e0e-49f5-af92-3f58f1bd927d</td><td>jw01364001001_03103_00009_nrs1-RAW_STANDARD</td><td></td><td></td><td>1</td><td>2022-12-09T16:56:32.000</td><td>2022-12-09T18:39:41.000</td><td>image</td><td>CALJWST</td><td></td><td>http://www.stsci.edu/jwst/instrumentation/</td><td>STScI</td><td>JWST</td><td>PRD_VER=PRDOPSSOC-059|SDP_VER=2022_4a</td><td></td><td>2022-12-31T04:38:10.000</td><td></td><td>--</td><td>--</td><td>--</td><td>--</td><td>--</td><td>polygon 182.636503411 39.405531759 182.635370489 39.405377058 182.635163529 39.406222347 182.636296244 39.406377217</td><td>[182.636503411 39.405531759 2.0 182.635370489 39.405377058 1.0\\n 182.635163529 39.406222347 1.0 182.636296244 39.406377217 0.0]</td><td>0.0012444781702694236</td><td>--</td><td>--</td><td>--</td><td>--</td><td></td><td>-- .. --</td><td>0</td><td>[1.7e-06 5e-06]</td><td>1.7e-06</td><td>5e-06</td><td>3.3000000000000006e-06</td><td>--</td><td>--</td><td>--</td><td>1.7e-06 .. 5e-06</td><td>-- .. --</td><td>Infrared</td><td>Infrared</td><td>F170LP</td><td>116390029411764.69</td><td>--</td><td>--</td><td>[59922.69479148449 59922.70593577546]</td><td>59922.69479148449</td><td>59922.70593577546</td><td>0.01114429096924141</td><td>--</td><td>--</td><td>--</td><td>962.867</td><td></td><td>--</td><td></td><td>[]</td><td>59922.69479148449 .. 59922.70593577546</td><td>-- .. --</td><td></td><td></td><td>-- .. --</td><td>--</td><td>--</td><td>--</td><td>--</td><td>mast:pyCAOM/2022.6.0</td><td>md5:7ca1f31f96fdd6f9459361dc4b6c026a</td><td>md5:0e4240e43852281a363be76e0248fbd6</td><td>2022-12-31T09:44:26.564</td><td>2022-12-31T09:44:26.564</td></tr>\n",
       "<tr><td>caom:JWST/jw01364001001_03103_00010_nrs1</td><td>--</td><td></td><td></td><td>99e523d1-4bbd-4016-9480-3b3956ed359f</td><td>JWST</td><td>jw01364001001_03103_00010_nrs1</td><td>exposure</td><td>PRIME</td><td>science</td><td>2022-12-09T17:14:03.000</td><td>Nuclear Dynamics of a Nearby Seyfert with NIRSpec Integral Field Spectroscopy</td><td>0</td><td>--</td><td>0</td><td>TARGPROP=NGC-4151</td><td>--</td><td>182.6357641666667</td><td>39.40584166666667</td><td>--</td><td>--</td><td>ICRS</td><td>JWST</td><td>--</td><td>DEC_V1=39.40556310631188|GDSTARID=N56I003171|PCSMODE=FINEGUIDE|RA_V1=182.4267033642421|REFFRAME=ICRS|V3_PA=300.8669638082775|VISITSTATUS=SUCCESSFUL|VISITYPE=PRIME_TARGETED_FIXED</td><td>APERTURE=NRS_FULL_IFU|DETECTOR=NRS1|EXPEND=59922.71809354167|EXPSTART=59922.70694925069|EXPTIME=962.867|EXPTYPE=PRIME|EXP_TYPE=NRS_IFU|FILTER=F170LP|TEMPLATE=NIRSpec IFU Spectroscopy</td><td>--</td><td>--</td><td>--</td><td>--</td><td>--</td><td>--</td><td>1</td><td></td><td>NIRSPEC</td><td></td><td>S</td><td>mast:pyCAOM/2022.6.0</td><td>md5:ad0e0cebbfc6a1b741c6fa12983416a2</td><td>md5:08e34693b086bbeb73aa0ce383969d64</td><td>2022-12-31T09:44:29.645</td><td>2022-12-31T09:44:29.645</td><td>1364</td><td>Bentz, Misty C.</td><td>ERS</td><td>NGC 4151</td><td></td><td></td><td>caom:JWST/jw01364001001_03103_00010_nrs1/jw01364001001_03103_00010_nrs1-CALIBRATED</td><td>ivo://cadc.nrc.ca/mirror/JWST?jw01364001001_03103_00010_nrs1/jw01364001001_03103_00010_nrs1-CALIBRATED</td><td>ivo://archive.stsci.edu/JWST?jw01364001001_03103_00010_nrs1/jw01364001001_03103_00010_nrs1-CALIBRATED</td><td>99e523d1-4bbd-4016-9480-3b3956ed359f</td><td>e8e5dfa7-5364-4c76-9b00-d6bf581f3551</td><td>jw01364001001_03103_00010_nrs1-CALIBRATED</td><td></td><td></td><td>2</td><td>2022-12-09T17:14:03.000</td><td>2022-12-09T18:30:09.000</td><td>image</td><td>CALJWST</td><td>1.8.2</td><td>http://www.stsci.edu/jwst/instrumentation/</td><td>STScI</td><td>JWST</td><td>PRD_VER=PRDOPSSOC-059|SDP_VER=2022_4a</td><td>jwst_1019.pmap</td><td>2022-12-09T18:14:23.000</td><td>caom:JWST/jw01364001001_03103_00010_nrs1/jw01364001001_03103_00010_nrs1-RAW_STANDARD</td><td>--</td><td>--</td><td>--</td><td>--</td><td>--</td><td>polygon 182.636453407 39.405498877 182.635320485 39.405344175 182.635113525 39.406189464 182.636246239 39.406344335</td><td>[182.636453407 39.405498877 2.0 182.635320485 39.405344175 1.0\\n 182.635113525 39.406189464 1.0 182.636246239 39.406344335 0.0]</td><td>0.0012444780214550663</td><td>--</td><td>--</td><td>--</td><td>--</td><td></td><td>-- .. --</td><td>0</td><td>[1.7e-06 5e-06]</td><td>1.7e-06</td><td>5e-06</td><td>3.3000000000000006e-06</td><td>--</td><td>--</td><td>--</td><td>1.7e-06 .. 5e-06</td><td>-- .. --</td><td>Infrared</td><td>Infrared</td><td>F170LP</td><td>116390029411764.69</td><td>--</td><td>--</td><td>[59922.70694925069 59922.71809354167]</td><td>59922.70694925069</td><td>59922.71809354167</td><td>0.011144290976517368</td><td>--</td><td>--</td><td>--</td><td>962.867</td><td></td><td>--</td><td></td><td>[]</td><td>59922.70694925069 .. 59922.71809354167</td><td>-- .. --</td><td></td><td></td><td>-- .. --</td><td>--</td><td>--</td><td>--</td><td>--</td><td>mast:pyCAOM/2022.6.0</td><td>md5:2b54bb03a5b7509209bd59b031351d58</td><td>md5:6d61929f1b63ca2016578369fbf4965c</td><td>2022-12-31T09:44:29.645</td><td>2022-12-31T09:44:29.645</td></tr>\n",
       "<tr><td>caom:JWST/jw01364001001_03103_00010_nrs1</td><td>--</td><td></td><td></td><td>99e523d1-4bbd-4016-9480-3b3956ed359f</td><td>JWST</td><td>jw01364001001_03103_00010_nrs1</td><td>exposure</td><td>PRIME</td><td>science</td><td>2022-12-09T17:14:03.000</td><td>Nuclear Dynamics of a Nearby Seyfert with NIRSpec Integral Field Spectroscopy</td><td>0</td><td>--</td><td>0</td><td>TARGPROP=NGC-4151</td><td>--</td><td>182.6357641666667</td><td>39.40584166666667</td><td>--</td><td>--</td><td>ICRS</td><td>JWST</td><td>--</td><td>DEC_V1=39.40556310631188|GDSTARID=N56I003171|PCSMODE=FINEGUIDE|RA_V1=182.4267033642421|REFFRAME=ICRS|V3_PA=300.8669638082775|VISITSTATUS=SUCCESSFUL|VISITYPE=PRIME_TARGETED_FIXED</td><td>APERTURE=NRS_FULL_IFU|DETECTOR=NRS1|EXPEND=59922.71809354167|EXPSTART=59922.70694925069|EXPTIME=962.867|EXPTYPE=PRIME|EXP_TYPE=NRS_IFU|FILTER=F170LP|TEMPLATE=NIRSpec IFU Spectroscopy</td><td>--</td><td>--</td><td>--</td><td>--</td><td>--</td><td>--</td><td>1</td><td></td><td>NIRSPEC</td><td></td><td>S</td><td>mast:pyCAOM/2022.6.0</td><td>md5:ad0e0cebbfc6a1b741c6fa12983416a2</td><td>md5:08e34693b086bbeb73aa0ce383969d64</td><td>2022-12-31T09:44:29.645</td><td>2022-12-31T09:44:29.645</td><td>1364</td><td>Bentz, Misty C.</td><td>ERS</td><td>NGC 4151</td><td></td><td></td><td>caom:JWST/jw01364001001_03103_00010_nrs1/jw01364001001_03103_00010_nrs1-RAW_STANDARD</td><td>ivo://cadc.nrc.ca/mirror/JWST?jw01364001001_03103_00010_nrs1/jw01364001001_03103_00010_nrs1-RAW_STANDARD</td><td>ivo://archive.stsci.edu/JWST?jw01364001001_03103_00010_nrs1/jw01364001001_03103_00010_nrs1-RAW_STANDARD</td><td>99e523d1-4bbd-4016-9480-3b3956ed359f</td><td>47f48daa-28ef-4786-8105-b8e498e01845</td><td>jw01364001001_03103_00010_nrs1-RAW_STANDARD</td><td></td><td></td><td>1</td><td>2022-12-09T17:14:03.000</td><td>2022-12-09T18:30:09.000</td><td>image</td><td>CALJWST</td><td></td><td>http://www.stsci.edu/jwst/instrumentation/</td><td>STScI</td><td>JWST</td><td>PRD_VER=PRDOPSSOC-059|SDP_VER=2022_4a</td><td></td><td>2022-12-31T04:38:43.000</td><td></td><td>--</td><td>--</td><td>--</td><td>--</td><td>--</td><td>polygon 182.636453407 39.405498877 182.635320485 39.405344175 182.635113525 39.406189464 182.636246239 39.406344335</td><td>[182.636453407 39.405498877 2.0 182.635320485 39.405344175 1.0\\n 182.635113525 39.406189464 1.0 182.636246239 39.406344335 0.0]</td><td>0.0012444780214550663</td><td>--</td><td>--</td><td>--</td><td>--</td><td></td><td>-- .. --</td><td>0</td><td>[1.7e-06 5e-06]</td><td>1.7e-06</td><td>5e-06</td><td>3.3000000000000006e-06</td><td>--</td><td>--</td><td>--</td><td>1.7e-06 .. 5e-06</td><td>-- .. --</td><td>Infrared</td><td>Infrared</td><td>F170LP</td><td>116390029411764.69</td><td>--</td><td>--</td><td>[59922.70694925069 59922.71809354167]</td><td>59922.70694925069</td><td>59922.71809354167</td><td>0.011144290976517368</td><td>--</td><td>--</td><td>--</td><td>962.867</td><td></td><td>--</td><td></td><td>[]</td><td>59922.70694925069 .. 59922.71809354167</td><td>-- .. --</td><td></td><td></td><td>-- .. --</td><td>--</td><td>--</td><td>--</td><td>--</td><td>mast:pyCAOM/2022.6.0</td><td>md5:5428dcb0e4e1f32d4e71bbc6b2d18f1f</td><td>md5:5282ab2c4b5520ca6ab5c0a4e67f6bbf</td><td>2022-12-31T09:44:29.645</td><td>2022-12-31T09:44:29.645</td></tr>\n",
       "<tr><td>caom:JWST/jw01364001001_03103_00002_nrs1</td><td>--</td><td></td><td></td><td>28cb2f0f-1e67-4de2-958d-114cd6ea07cb</td><td>JWST</td><td>jw01364001001_03103_00002_nrs1</td><td>exposure</td><td>PRIME</td><td>science</td><td>2022-12-09T14:53:45.000</td><td>Nuclear Dynamics of a Nearby Seyfert with NIRSpec Integral Field Spectroscopy</td><td>0</td><td>--</td><td>0</td><td>TARGPROP=NGC-4151</td><td>--</td><td>182.6357641666667</td><td>39.40584166666667</td><td>--</td><td>--</td><td>ICRS</td><td>JWST</td><td>--</td><td>DEC_V1=39.40550102909183|GDSTARID=N56I003171|PCSMODE=FINEGUIDE|RA_V1=182.4266494336588|REFFRAME=ICRS|V3_PA=300.8668078869288|VISITSTATUS=SUCCESSFUL|VISITYPE=PRIME_TARGETED_FIXED</td><td>APERTURE=NRS_FULL_IFU|DETECTOR=NRS1|EXPEND=59922.62066401621|EXPSTART=59922.60951972523|EXPTIME=962.867|EXPTYPE=PRIME|EXP_TYPE=NRS_IFU|FILTER=F170LP|TEMPLATE=NIRSpec IFU Spectroscopy</td><td>--</td><td>--</td><td>--</td><td>--</td><td>--</td><td>--</td><td>1</td><td></td><td>NIRSPEC</td><td></td><td>S</td><td>mast:pyCAOM/2022.6.0</td><td>md5:620e74341b4705351b8cfdd58bd1188e</td><td>md5:636b933f4c7c94b248af1e9e41e15ae9</td><td>2022-12-31T09:44:33.154</td><td>2022-12-31T09:44:33.154</td><td>1364</td><td>Bentz, Misty C.</td><td>ERS</td><td>NGC 4151</td><td></td><td></td><td>caom:JWST/jw01364001001_03103_00002_nrs1/jw01364001001_03103_00002_nrs1-CALIBRATED</td><td>ivo://cadc.nrc.ca/mirror/JWST?jw01364001001_03103_00002_nrs1/jw01364001001_03103_00002_nrs1-CALIBRATED</td><td>ivo://archive.stsci.edu/JWST?jw01364001001_03103_00002_nrs1/jw01364001001_03103_00002_nrs1-CALIBRATED</td><td>28cb2f0f-1e67-4de2-958d-114cd6ea07cb</td><td>b6920666-635e-49bc-a55e-2f47a72314cc</td><td>jw01364001001_03103_00002_nrs1-CALIBRATED</td><td></td><td></td><td>2</td><td>2022-12-09T14:53:45.000</td><td>2022-12-09T18:44:30.000</td><td>image</td><td>CALJWST</td><td>1.8.2</td><td>http://www.stsci.edu/jwst/instrumentation/</td><td>STScI</td><td>JWST</td><td>PRD_VER=PRDOPSSOC-059|SDP_VER=2022_4a</td><td>jwst_1019.pmap</td><td>2022-12-09T18:14:23.000</td><td>caom:JWST/jw01364001001_03103_00002_nrs1/jw01364001001_03103_00002_nrs1-RAW_STANDARD</td><td>--</td><td>--</td><td>--</td><td>--</td><td>--</td><td>polygon 182.63639929 39.405437241 182.63526637 39.405282537 182.635059407 39.406127825 182.636192119 39.406282699</td><td>[182.63639929 39.405437241 2.0 182.63526637 39.405282537 1.0 182.635059407\\n 39.406127825 1.0 182.636192119 39.406282699 0.0]</td><td>0.001244477760706772</td><td>--</td><td>--</td><td>--</td><td>--</td><td></td><td>-- .. --</td><td>0</td><td>[1.7e-06 5e-06]</td><td>1.7e-06</td><td>5e-06</td><td>3.3000000000000006e-06</td><td>--</td><td>--</td><td>--</td><td>1.7e-06 .. 5e-06</td><td>-- .. --</td><td>Infrared</td><td>Infrared</td><td>F170LP</td><td>116390029411764.69</td><td>--</td><td>--</td><td>[59922.60951972523 59922.62066401621]</td><td>59922.60951972523</td><td>59922.62066401621</td><td>0.011144290983793326</td><td>--</td><td>--</td><td>--</td><td>962.867</td><td></td><td>--</td><td></td><td>[]</td><td>59922.60951972523 .. 59922.62066401621</td><td>-- .. --</td><td></td><td></td><td>-- .. --</td><td>--</td><td>--</td><td>--</td><td>--</td><td>mast:pyCAOM/2022.6.0</td><td>md5:79e7dbaccbcf7cce20b91da895a12796</td><td>md5:f44b6d42bd52014ea632e87ac9a123a5</td><td>2022-12-31T09:44:33.154</td><td>2022-12-31T09:44:33.154</td></tr>\n",
       "<tr><td>caom:JWST/jw01364001001_03103_00002_nrs1</td><td>--</td><td></td><td></td><td>28cb2f0f-1e67-4de2-958d-114cd6ea07cb</td><td>JWST</td><td>jw01364001001_03103_00002_nrs1</td><td>exposure</td><td>PRIME</td><td>science</td><td>2022-12-09T14:53:45.000</td><td>Nuclear Dynamics of a Nearby Seyfert with NIRSpec Integral Field Spectroscopy</td><td>0</td><td>--</td><td>0</td><td>TARGPROP=NGC-4151</td><td>--</td><td>182.6357641666667</td><td>39.40584166666667</td><td>--</td><td>--</td><td>ICRS</td><td>JWST</td><td>--</td><td>DEC_V1=39.40550102909183|GDSTARID=N56I003171|PCSMODE=FINEGUIDE|RA_V1=182.4266494336588|REFFRAME=ICRS|V3_PA=300.8668078869288|VISITSTATUS=SUCCESSFUL|VISITYPE=PRIME_TARGETED_FIXED</td><td>APERTURE=NRS_FULL_IFU|DETECTOR=NRS1|EXPEND=59922.62066401621|EXPSTART=59922.60951972523|EXPTIME=962.867|EXPTYPE=PRIME|EXP_TYPE=NRS_IFU|FILTER=F170LP|TEMPLATE=NIRSpec IFU Spectroscopy</td><td>--</td><td>--</td><td>--</td><td>--</td><td>--</td><td>--</td><td>1</td><td></td><td>NIRSPEC</td><td></td><td>S</td><td>mast:pyCAOM/2022.6.0</td><td>md5:620e74341b4705351b8cfdd58bd1188e</td><td>md5:636b933f4c7c94b248af1e9e41e15ae9</td><td>2022-12-31T09:44:33.154</td><td>2022-12-31T09:44:33.154</td><td>1364</td><td>Bentz, Misty C.</td><td>ERS</td><td>NGC 4151</td><td></td><td></td><td>caom:JWST/jw01364001001_03103_00002_nrs1/jw01364001001_03103_00002_nrs1-RAW_STANDARD</td><td>ivo://cadc.nrc.ca/mirror/JWST?jw01364001001_03103_00002_nrs1/jw01364001001_03103_00002_nrs1-RAW_STANDARD</td><td>ivo://archive.stsci.edu/JWST?jw01364001001_03103_00002_nrs1/jw01364001001_03103_00002_nrs1-RAW_STANDARD</td><td>28cb2f0f-1e67-4de2-958d-114cd6ea07cb</td><td>0c48d0d4-2f95-41cd-b2bf-2802bc0c3d02</td><td>jw01364001001_03103_00002_nrs1-RAW_STANDARD</td><td></td><td></td><td>1</td><td>2022-12-09T14:53:45.000</td><td>2022-12-09T18:44:30.000</td><td>image</td><td>CALJWST</td><td></td><td>http://www.stsci.edu/jwst/instrumentation/</td><td>STScI</td><td>JWST</td><td>PRD_VER=PRDOPSSOC-059|SDP_VER=2022_4a</td><td></td><td>2022-12-31T04:41:06.000</td><td></td><td>--</td><td>--</td><td>--</td><td>--</td><td>--</td><td>polygon 182.63639929 39.405437241 182.63526637 39.405282537 182.635059407 39.406127825 182.636192119 39.406282699</td><td>[182.63639929 39.405437241 2.0 182.63526637 39.405282537 1.0 182.635059407\\n 39.406127825 1.0 182.636192119 39.406282699 0.0]</td><td>0.001244477760706772</td><td>--</td><td>--</td><td>--</td><td>--</td><td></td><td>-- .. --</td><td>0</td><td>[1.7e-06 5e-06]</td><td>1.7e-06</td><td>5e-06</td><td>3.3000000000000006e-06</td><td>--</td><td>--</td><td>--</td><td>1.7e-06 .. 5e-06</td><td>-- .. --</td><td>Infrared</td><td>Infrared</td><td>F170LP</td><td>116390029411764.69</td><td>--</td><td>--</td><td>[59922.60951972523 59922.62066401621]</td><td>59922.60951972523</td><td>59922.62066401621</td><td>0.011144290983793326</td><td>--</td><td>--</td><td>--</td><td>962.867</td><td></td><td>--</td><td></td><td>[]</td><td>59922.60951972523 .. 59922.62066401621</td><td>-- .. --</td><td></td><td></td><td>-- .. --</td><td>--</td><td>--</td><td>--</td><td>--</td><td>mast:pyCAOM/2022.6.0</td><td>md5:b31cdbd08ae386271e3db741942e651c</td><td>md5:cd8cba2ca7b20724f631649344ec8828</td><td>2022-12-31T09:44:33.154</td><td>2022-12-31T09:44:33.154</td></tr>\n",
       "<tr><td>caom:JWST/jw01364001001_03101_00004_nrs1</td><td>--</td><td></td><td></td><td>2abcb951-2475-4d23-91b2-be4747d8e964</td><td>JWST</td><td>jw01364001001_03101_00004_nrs1</td><td>exposure</td><td>PRIME</td><td>science</td><td>2022-12-09T11:55:31.000</td><td>Nuclear Dynamics of a Nearby Seyfert with NIRSpec Integral Field Spectroscopy</td><td>0</td><td>--</td><td>0</td><td>TARGPROP=NGC-4151</td><td>--</td><td>182.6357641666667</td><td>39.40584166666667</td><td>--</td><td>--</td><td>ICRS</td><td>JWST</td><td>--</td><td>DEC_V1=39.40555528963691|GDSTARID=N56I003171|PCSMODE=FINEGUIDE|RA_V1=182.4266165802412|REFFRAME=ICRS|V3_PA=300.8668969931988|VISITSTATUS=SUCCESSFUL|VISITYPE=PRIME_TARGETED_FIXED</td><td>APERTURE=NRS_FULL_IFU|DETECTOR=NRS1|EXPEND=59922.49689302083|EXPSTART=59922.48574872986|EXPTIME=962.867|EXPTYPE=PRIME|EXP_TYPE=NRS_IFU|FILTER=F170LP|TEMPLATE=NIRSpec IFU Spectroscopy</td><td>--</td><td>--</td><td>--</td><td>--</td><td>--</td><td>--</td><td>1</td><td></td><td>NIRSPEC</td><td></td><td>S</td><td>mast:pyCAOM/2022.6.0</td><td>md5:c560f29f9234666548affc9406126fb6</td><td>md5:e790c646911a6db6160ff2879e83d5bf</td><td>2022-12-31T09:44:36.105</td><td>2022-12-31T09:44:36.105</td><td>1364</td><td>Bentz, Misty C.</td><td>ERS</td><td>NGC 4151</td><td></td><td></td><td>caom:JWST/jw01364001001_03101_00004_nrs1/jw01364001001_03101_00004_nrs1-CALIBRATED</td><td>ivo://cadc.nrc.ca/mirror/JWST?jw01364001001_03101_00004_nrs1/jw01364001001_03101_00004_nrs1-CALIBRATED</td><td>ivo://archive.stsci.edu/JWST?jw01364001001_03101_00004_nrs1/jw01364001001_03101_00004_nrs1-CALIBRATED</td><td>2abcb951-2475-4d23-91b2-be4747d8e964</td><td>5a11a33a-1bca-4691-9f4b-f4d5e0287a59</td><td>jw01364001001_03101_00004_nrs1-CALIBRATED</td><td></td><td></td><td>2</td><td>2022-12-09T11:55:31.000</td><td>2022-12-09T18:57:00.000</td><td>image</td><td>CALJWST</td><td>1.8.2</td><td>http://www.stsci.edu/jwst/instrumentation/</td><td>STScI</td><td>JWST</td><td>PRD_VER=PRDOPSSOC-059|SDP_VER=2022_4a</td><td>jwst_1027.pmap</td><td>2022-12-31T08:26:02.000</td><td>caom:JWST/jw01364001001_03101_00004_nrs1/jw01364001001_03101_00004_nrs1-RAW_STANDARD</td><td>--</td><td>--</td><td>--</td><td>--</td><td>--</td><td>polygon 182.634966 39.405241224 182.634966 39.40629678 182.636547829 39.40629678 182.636547829 39.405241224</td><td>[182.634966 39.405241224 2.0 182.634966 39.40629678 1.0 182.636547829\\n 39.40629678 1.0 182.636547829 39.405241224 0.0]</td><td>0.0016149451257827484</td><td>--</td><td>--</td><td>--</td><td>--</td><td></td><td>-- .. --</td><td>0</td><td>[1.7e-06 5e-06]</td><td>1.7e-06</td><td>5e-06</td><td>3.3000000000000006e-06</td><td>--</td><td>--</td><td>--</td><td>1.7e-06 .. 5e-06</td><td>-- .. --</td><td>Infrared</td><td>Infrared</td><td>F170LP</td><td>116390029411764.69</td><td>--</td><td>--</td><td>[59922.48574872986 59922.49689302083]</td><td>59922.48574872986</td><td>59922.49689302083</td><td>0.01114429096924141</td><td>--</td><td>--</td><td>--</td><td>962.867</td><td></td><td>--</td><td></td><td>[]</td><td>59922.48574872986 .. 59922.49689302083</td><td>-- .. --</td><td></td><td></td><td>-- .. --</td><td>--</td><td>--</td><td>--</td><td>--</td><td>mast:pyCAOM/2022.6.0</td><td>md5:71096cad88975b89815faa25a33b7ca6</td><td>md5:259403d349333a1cbf3274b37b5c67c6</td><td>2022-12-31T09:44:36.105</td><td>2022-12-31T09:44:36.105</td></tr>\n",
       "<tr><td>caom:JWST/jw01364001001_03101_00004_nrs1</td><td>--</td><td></td><td></td><td>2abcb951-2475-4d23-91b2-be4747d8e964</td><td>JWST</td><td>jw01364001001_03101_00004_nrs1</td><td>exposure</td><td>PRIME</td><td>science</td><td>2022-12-09T11:55:31.000</td><td>Nuclear Dynamics of a Nearby Seyfert with NIRSpec Integral Field Spectroscopy</td><td>0</td><td>--</td><td>0</td><td>TARGPROP=NGC-4151</td><td>--</td><td>182.6357641666667</td><td>39.40584166666667</td><td>--</td><td>--</td><td>ICRS</td><td>JWST</td><td>--</td><td>DEC_V1=39.40555528963691|GDSTARID=N56I003171|PCSMODE=FINEGUIDE|RA_V1=182.4266165802412|REFFRAME=ICRS|V3_PA=300.8668969931988|VISITSTATUS=SUCCESSFUL|VISITYPE=PRIME_TARGETED_FIXED</td><td>APERTURE=NRS_FULL_IFU|DETECTOR=NRS1|EXPEND=59922.49689302083|EXPSTART=59922.48574872986|EXPTIME=962.867|EXPTYPE=PRIME|EXP_TYPE=NRS_IFU|FILTER=F170LP|TEMPLATE=NIRSpec IFU Spectroscopy</td><td>--</td><td>--</td><td>--</td><td>--</td><td>--</td><td>--</td><td>1</td><td></td><td>NIRSPEC</td><td></td><td>S</td><td>mast:pyCAOM/2022.6.0</td><td>md5:c560f29f9234666548affc9406126fb6</td><td>md5:e790c646911a6db6160ff2879e83d5bf</td><td>2022-12-31T09:44:36.105</td><td>2022-12-31T09:44:36.105</td><td>1364</td><td>Bentz, Misty C.</td><td>ERS</td><td>NGC 4151</td><td></td><td></td><td>caom:JWST/jw01364001001_03101_00004_nrs1/jw01364001001_03101_00004_nrs1-RAW_STANDARD</td><td>ivo://cadc.nrc.ca/mirror/JWST?jw01364001001_03101_00004_nrs1/jw01364001001_03101_00004_nrs1-RAW_STANDARD</td><td>ivo://archive.stsci.edu/JWST?jw01364001001_03101_00004_nrs1/jw01364001001_03101_00004_nrs1-RAW_STANDARD</td><td>2abcb951-2475-4d23-91b2-be4747d8e964</td><td>eb918071-a4db-4231-bc04-4bee6e7c5e9a</td><td>jw01364001001_03101_00004_nrs1-RAW_STANDARD</td><td></td><td></td><td>1</td><td>2022-12-09T11:55:31.000</td><td>2022-12-09T18:57:00.000</td><td>image</td><td>CALJWST</td><td></td><td>http://www.stsci.edu/jwst/instrumentation/</td><td>STScI</td><td>JWST</td><td>PRD_VER=PRDOPSSOC-059|SDP_VER=2022_4a</td><td></td><td>2022-12-31T04:44:53.000</td><td></td><td>--</td><td>--</td><td>--</td><td>--</td><td>--</td><td>polygon 182.634966 39.405241224 182.634966 39.40629678 182.636547829 39.40629678 182.636547829 39.405241224</td><td>[182.634966 39.405241224 2.0 182.634966 39.40629678 1.0 182.636547829\\n 39.40629678 1.0 182.636547829 39.405241224 0.0]</td><td>0.0016149451257827484</td><td>--</td><td>--</td><td>--</td><td>--</td><td></td><td>-- .. --</td><td>0</td><td>[1.7e-06 5e-06]</td><td>1.7e-06</td><td>5e-06</td><td>3.3000000000000006e-06</td><td>--</td><td>--</td><td>--</td><td>1.7e-06 .. 5e-06</td><td>-- .. --</td><td>Infrared</td><td>Infrared</td><td>F170LP</td><td>116390029411764.69</td><td>--</td><td>--</td><td>[59922.48574872986 59922.49689302083]</td><td>59922.48574872986</td><td>59922.49689302083</td><td>0.01114429096924141</td><td>--</td><td>--</td><td>--</td><td>962.867</td><td></td><td>--</td><td></td><td>[]</td><td>59922.48574872986 .. 59922.49689302083</td><td>-- .. --</td><td></td><td></td><td>-- .. --</td><td>--</td><td>--</td><td>--</td><td>--</td><td>mast:pyCAOM/2022.6.0</td><td>md5:8f355b181c7b58386c3415cc5a8207a9</td><td>md5:c9f180381fd97af6a5e3225f934e4526</td><td>2022-12-31T09:44:36.105</td><td>2022-12-31T09:44:36.105</td></tr>\n",
       "<tr><td>caom:JWST/jw01364-o001_t001_nirspec_g235h-f170lp</td><td>--</td><td></td><td></td><td>4e55fac2-2924-4475-ab3d-ce03893f8ec8</td><td>JWST</td><td>jw01364-o001_t001_nirspec_g235h-f170lp</td><td>composite</td><td>PRIME</td><td>science</td><td>2022-12-09T14:16:18.000</td><td>Nuclear Dynamics of a Nearby Seyfert with NIRSpec Integral Field Spectroscopy</td><td>0</td><td>--</td><td>0</td><td>TARGPROP=NGC-4151</td><td>--</td><td>182.6357641666667</td><td>39.40584166666667</td><td>--</td><td>--</td><td>ICRS</td><td>JWST</td><td>--</td><td>DEC_V1=39.40552658305651|GDSTARID=N56I003171|PCSMODE=FINEGUIDE|RA_V1=182.4266726214296|REFFRAME=ICRS|V3_PA=300.8669410530874|VISITSTATUS=SUCCESSFUL|VISITYPE=PRIME_TARGETED_FIXED</td><td>APERTURE=NRS_FULL_IFU|DETECTOR=MULTIPLE|EXPEND=59922.59466033565|EXPSTART=59922.44927617199|EXPTIME=23108.808|EXPTYPE=PRIME|EXP_TYPE=NRS_IFU|FILTER=F170LP|TEMPLATE=NIRSpec IFU Spectroscopy</td><td>--</td><td>--</td><td>--</td><td>--</td><td>--</td><td>--</td><td>1</td><td></td><td>NIRSPEC</td><td>caom:JWST/jw01364001001_03101_00001_nrs1 caom:JWST/jw01364001001_03101_00001_nrs2 caom:JWST/jw01364001001_03101_00002_nrs1 caom:JWST/jw01364001001_03101_00002_nrs2 caom:JWST/jw01364001001_03101_00003_nrs1 caom:JWST/jw01364001001_03101_00003_nrs2 caom:JWST/jw01364001001_03101_00004_nrs1 caom:JWST/jw01364001001_03101_00004_nrs2 caom:JWST/jw01364001001_03101_00005_nrs1 caom:JWST/jw01364001001_03101_00005_nrs2 caom:JWST/jw01364001001_03101_00006_nrs1 caom:JWST/jw01364001001_03101_00006_nrs2 caom:JWST/jw01364001001_03101_00007_nrs1 caom:JWST/jw01364001001_03101_00007_nrs2 caom:JWST/jw01364001001_03101_00008_nrs1 caom:JWST/jw01364001001_03101_00008_nrs2 caom:JWST/jw01364001001_03101_00009_nrs1 caom:JWST/jw01364001001_03101_00009_nrs2 caom:JWST/jw01364001001_03101_00010_nrs1 caom:JWST/jw01364001001_03101_00010_nrs2 caom:JWST/jw01364001001_03101_00011_nrs1 caom:JWST/jw01364001001_03101_00011_nrs2 caom:JWST/jw01364001001_03101_00012_nrs1 caom:JWST/jw01364001001_03101_00012_nrs2</td><td>C</td><td>mast:pyCAOM/2022.6.0</td><td>md5:f64e8efcb5f061fb5a9828bd519b822b</td><td>md5:07d26cce0e4345546b642d261e4046f7</td><td>2022-12-31T09:46:33.550</td><td>2022-12-31T09:46:33.550</td><td>1364</td><td>Bentz, Misty C.</td><td>ERS</td><td>NGC 4151</td><td></td><td></td><td>caom:JWST/jw01364-o001_t001_nirspec_g235h-f170lp/jw01364-o001_t001_nirspec_g235h-f170lp-PRODUCT</td><td>ivo://cadc.nrc.ca/mirror/JWST?jw01364-o001_t001_nirspec_g235h-f170lp/jw01364-o001_t001_nirspec_g235h-f170lp-PRODUCT</td><td>ivo://archive.stsci.edu/JWST?jw01364-o001_t001_nirspec_g235h-f170lp/jw01364-o001_t001_nirspec_g235h-f170lp-PRODUCT</td><td>4e55fac2-2924-4475-ab3d-ce03893f8ec8</td><td>a67d71d1-50ce-469a-a3b8-880575a8035a</td><td>jw01364-o001_t001_nirspec_g235h-f170lp-PRODUCT</td><td></td><td></td><td>3</td><td>2022-12-09T14:16:18.000</td><td>2022-12-09T18:58:47.000</td><td>cube</td><td>CALJWST</td><td>1.8.2</td><td>http://www.stsci.edu/jwst/instrumentation/</td><td>STScI</td><td>JWST</td><td>PRD_VER=PRDOPSSOC-059|SDP_VER=2022_4a</td><td>jwst_1027.pmap</td><td>2022-12-31T09:17:24.000</td><td>caom:JWST/jw01364001001_03101_00001_nrs1/jw01364001001_03101_00001_nrs1-CALIBRATED caom:JWST/jw01364001001_03101_00001_nrs2/jw01364001001_03101_00001_nrs2-CALIBRATED caom:JWST/jw01364001001_03101_00002_nrs1/jw01364001001_03101_00002_nrs1-CALIBRATED caom:JWST/jw01364001001_03101_00002_nrs2/jw01364001001_03101_00002_nrs2-CALIBRATED caom:JWST/jw01364001001_03101_00003_nrs1/jw01364001001_03101_00003_nrs1-CALIBRATED caom:JWST/jw01364001001_03101_00003_nrs2/jw01364001001_03101_00003_nrs2-CALIBRATED caom:JWST/jw01364001001_03101_00004_nrs1/jw01364001001_03101_00004_nrs1-CALIBRATED caom:JWST/jw01364001001_03101_00004_nrs2/jw01364001001_03101_00004_nrs2-CALIBRATED caom:JWST/jw01364001001_03101_00005_nrs1/jw01364001001_03101_00005_nrs1-CALIBRATED caom:JWST/jw01364001001_03101_00005_nrs2/jw01364001001_03101_00005_nrs2-CALIBRATED caom:JWST/jw01364001001_03101_00006_nrs1/jw01364001001_03101_00006_nrs1-CALIBRATED caom:JWST/jw01364001001_03101_00006_nrs2/jw01364001001_03101_00006_nrs2-CALIBRATED caom:JWST/jw01364001001_03101_00007_nrs1/jw01364001001_03101_00007_nrs1-CALIBRATED caom:JWST/jw01364001001_03101_00007_nrs2/jw01364001001_03101_00007_nrs2-CALIBRATED caom:JWST/jw01364001001_03101_00008_nrs1/jw01364001001_03101_00008_nrs1-CALIBRATED caom:JWST/jw01364001001_03101_00008_nrs2/jw01364001001_03101_00008_nrs2-CALIBRATED caom:JWST/jw01364001001_03101_00009_nrs1/jw01364001001_03101_00009_nrs1-CALIBRATED caom:JWST/jw01364001001_03101_00009_nrs2/jw01364001001_03101_00009_nrs2-CALIBRATED caom:JWST/jw01364001001_03101_00010_nrs1/jw01364001001_03101_00010_nrs1-CALIBRATED caom:JWST/jw01364001001_03101_00010_nrs2/jw01364001001_03101_00010_nrs2-CALIBRATED caom:JWST/jw01364001001_03101_00011_nrs1/jw01364001001_03101_00011_nrs1-CALIBRATED caom:JWST/jw01364001001_03101_00011_nrs2/jw01364001001_03101_00011_nrs2-CALIBRATED caom:JWST/jw01364001001_03101_00012_nrs1/jw01364001001_03101_00012_nrs1-CALIBRATED caom:JWST/jw01364001001_03101_00012_nrs2/jw01364001001_03101_00012_nrs2-CALIBRATED</td><td>--</td><td>--</td><td>--</td><td>--</td><td>--</td><td>polygon 182.634962427 39.405187605 182.634962427 39.406354272 182.636688061 39.406354272 182.636688061 39.405187605</td><td>[182.634962427 39.405187605 2.0 182.634962427 39.406354272 1.0\\n 182.636688061 39.406354272 1.0 182.636688061 39.405187605 0.0]</td><td>0.0017716999673341235</td><td>--</td><td>--</td><td>--</td><td>--</td><td></td><td>-- .. --</td><td>0</td><td>[1.7e-06 5e-06]</td><td>1.7e-06</td><td>5e-06</td><td>3.3000000000000006e-06</td><td>--</td><td>--</td><td>--</td><td>1.7e-06 .. 5e-06</td><td>-- .. --</td><td>Infrared</td><td>Infrared</td><td>F170LP</td><td>116390029411764.69</td><td>--</td><td>--</td><td>[59922.44927617199 59922.59466033565]</td><td>59922.44927617199</td><td>59922.59466033565</td><td>0.14538416366121965</td><td>--</td><td>--</td><td>--</td><td>23108.808</td><td></td><td>--</td><td></td><td>[]</td><td>59922.44927617199 .. 59922.59466033565</td><td>-- .. --</td><td></td><td></td><td>-- .. --</td><td>--</td><td>--</td><td>--</td><td>--</td><td>mast:pyCAOM/2022.6.0</td><td>md5:3c0213a97aa173f48f48bedae2256ffb</td><td>md5:429c86629d6188187cdc8c769d97e22b</td><td>2022-12-31T09:46:33.550</td><td>2022-12-31T09:46:33.550</td></tr>\n",
       "</table></div>"
      ],
      "text/plain": [
       "<Table length=97>\n",
       "                 observationURI                  sequenceNumber ...      lastModified2          maxLastModified2   \n",
       "                                                                ...                                                \n",
       "                     object                          int32      ...          str23                   str23         \n",
       "------------------------------------------------ -------------- ... ----------------------- -----------------------\n",
       "        caom:JWST/jw01364001001_03103_00002_nrs2             -- ... 2022-12-31T09:41:57.638 2022-12-31T09:41:57.638\n",
       "        caom:JWST/jw01364001001_03103_00002_nrs2             -- ... 2022-12-31T09:41:57.638 2022-12-31T09:41:57.638\n",
       "        caom:JWST/jw01364001001_03101_00007_nrs1             -- ... 2022-12-31T09:42:01.756 2022-12-31T09:42:01.756\n",
       "        caom:JWST/jw01364001001_03101_00007_nrs1             -- ... 2022-12-31T09:42:01.756 2022-12-31T09:42:01.756\n",
       "        caom:JWST/jw01364001001_03101_00005_nrs2             -- ... 2022-12-31T09:42:06.490 2022-12-31T09:42:06.490\n",
       "        caom:JWST/jw01364001001_03101_00005_nrs2             -- ... 2022-12-31T09:42:06.490 2022-12-31T09:42:06.490\n",
       "        caom:JWST/jw01364001001_03101_00012_nrs1             -- ... 2022-12-31T09:42:10.090 2022-12-31T09:42:10.090\n",
       "        caom:JWST/jw01364001001_03101_00012_nrs1             -- ... 2022-12-31T09:42:10.090 2022-12-31T09:42:10.090\n",
       "        caom:JWST/jw01364001001_03103_00005_nrs1             -- ... 2022-12-31T09:42:13.456 2022-12-31T09:42:13.456\n",
       "                                             ...            ... ...                     ...                     ...\n",
       "        caom:JWST/jw01364001001_03103_00012_nrs1             -- ... 2022-12-31T09:44:23.727 2022-12-31T09:44:23.727\n",
       "        caom:JWST/jw01364001001_03103_00009_nrs1             -- ... 2022-12-31T09:44:26.564 2022-12-31T09:44:26.564\n",
       "        caom:JWST/jw01364001001_03103_00009_nrs1             -- ... 2022-12-31T09:44:26.564 2022-12-31T09:44:26.564\n",
       "        caom:JWST/jw01364001001_03103_00010_nrs1             -- ... 2022-12-31T09:44:29.645 2022-12-31T09:44:29.645\n",
       "        caom:JWST/jw01364001001_03103_00010_nrs1             -- ... 2022-12-31T09:44:29.645 2022-12-31T09:44:29.645\n",
       "        caom:JWST/jw01364001001_03103_00002_nrs1             -- ... 2022-12-31T09:44:33.154 2022-12-31T09:44:33.154\n",
       "        caom:JWST/jw01364001001_03103_00002_nrs1             -- ... 2022-12-31T09:44:33.154 2022-12-31T09:44:33.154\n",
       "        caom:JWST/jw01364001001_03101_00004_nrs1             -- ... 2022-12-31T09:44:36.105 2022-12-31T09:44:36.105\n",
       "        caom:JWST/jw01364001001_03101_00004_nrs1             -- ... 2022-12-31T09:44:36.105 2022-12-31T09:44:36.105\n",
       "caom:JWST/jw01364-o001_t001_nirspec_g235h-f170lp             -- ... 2022-12-31T09:46:33.550 2022-12-31T09:46:33.550"
      ]
     },
     "execution_count": 9,
     "metadata": {},
     "output_type": "execute_result"
    }
   ],
   "source": [
    "result_JWST_NGC_4151 "
   ]
  },
  {
   "cell_type": "code",
   "execution_count": 41,
   "id": "7975e172",
   "metadata": {
    "ExecuteTime": {
     "end_time": "2022-10-06T08:45:21.946666Z",
     "start_time": "2022-10-06T08:45:20.359474Z"
    }
   },
   "outputs": [
    {
     "name": "stdout",
     "output_type": "stream",
     "text": [
      "https://ws.cadc-ccda.hia-iha.nrc-cnrc.gc.ca/raven/files/mast:JWST/product/jw01128-o016_s00004_nirspec_f100lp-g140m-s1600a1_x1d.fits\n",
      "https://ws.cadc-ccda.hia-iha.nrc-cnrc.gc.ca/raven/files/mast:JWST/product/jw01128-o016_s00004_nirspec_f100lp-g140m-s1600a1_s2d.fits\n",
      "https://ws.cadc-ccda.hia-iha.nrc-cnrc.gc.ca/raven/files/mast:JWST/product/jw01128-o016_s00004_nirspec_f100lp-g140m-s1600a1_crf.fits\n",
      "https://ws.cadc-ccda.hia-iha.nrc-cnrc.gc.ca/raven/files/mast:JWST/product/jw01128-o016_s00004_nirspec_f100lp-g140m-s1600a1_cal.fits\n"
     ]
    }
   ],
   "source": [
    "urls_NGC_4151 = cadc.get_data_urls(result_JWST_NGC_4151)\n",
    "for url in urls_NGC_4151:\n",
    "    print(url)"
   ]
  },
  {
   "cell_type": "code",
   "execution_count": 48,
   "id": "f6cc66a3",
   "metadata": {
    "ExecuteTime": {
     "end_time": "2022-10-06T08:52:08.894063Z",
     "start_time": "2022-10-06T08:52:05.413109Z"
    }
   },
   "outputs": [
    {
     "name": "stdout",
     "output_type": "stream",
     "text": [
      "[]\n"
     ]
    }
   ],
   "source": [
    "image_list = cadc.get_image_list(result_JWST_NGC_4151,coords, radius)\n",
    "print(image_list)   "
   ]
  },
  {
   "cell_type": "code",
   "execution_count": null,
   "id": "f02b164a",
   "metadata": {},
   "outputs": [],
   "source": []
  },
  {
   "cell_type": "code",
   "execution_count": 46,
   "id": "2bf0d723",
   "metadata": {
    "ExecuteTime": {
     "end_time": "2022-10-06T08:51:24.098157Z",
     "start_time": "2022-10-06T08:51:20.596605Z"
    }
   },
   "outputs": [
    {
     "name": "stdout",
     "output_type": "stream",
     "text": [
      "[]\n"
     ]
    }
   ],
   "source": [
    "coords = '%s %s'%(ra,dec)\n",
    "radius = 0.5*u.deg\n",
    "results = cadc.query_region(coords, radius, collection='JWST')\n",
    "#filtered_results = results[results['time_exposure'] > 120.0]\n",
    "#image_list = cadc.get_image_list(filtered_results, coords, radius)\n",
    "image_list = cadc.get_image_list(results, coords, radius)\n",
    "print(image_list)   "
   ]
  },
  {
   "cell_type": "code",
   "execution_count": null,
   "id": "39105b50",
   "metadata": {},
   "outputs": [],
   "source": []
  },
  {
   "cell_type": "code",
   "execution_count": 15,
   "id": "768b706a",
   "metadata": {
    "ExecuteTime": {
     "end_time": "2023-06-08T11:37:12.709479Z",
     "start_time": "2023-06-08T11:32:18.639114Z"
    }
   },
   "outputs": [
    {
     "name": "stderr",
     "output_type": "stream",
     "text": [
      "/Users/lyubing/opt/anaconda3/lib/python3.9/site-packages/bs4/builder/__init__.py:545: XMLParsedAsHTMLWarning: It looks like you're parsing an XML document using an HTML parser. If this really is an HTML document (maybe it's XHTML?), you can ignore or filter this warning. If it's XML, you should know that using an XML parser will be more reliable. To parse this document as XML, make sure you have the lxml package installed, and pass the keyword argument `features=\"xml\"` into the BeautifulSoup constructor.\n",
      "  warnings.warn(\n"
     ]
    },
    {
     "data": {
      "text/plain": [
       "[Downloaded object from URL https://ws.cadc-ccda.hia-iha.nrc-cnrc.gc.ca/caom2ops/sync?ID=cadc%3ACFHT%2F2417410y.fits.fz&POS=CIRCLE+182.63574172891978+39.40572772909787+0.002777777777777778 with ID 140526647141184,\n",
       " Downloaded object from URL https://ws.cadc-ccda.hia-iha.nrc-cnrc.gc.ca/caom2ops/sync?ID=cadc%3ACFHT%2F2417572y.fits.fz&POS=CIRCLE+182.63574172891978+39.40572772909787+0.002777777777777778 with ID 140526410457920,\n",
       " Downloaded object from URL https://ws.cadc-ccda.hia-iha.nrc-cnrc.gc.ca/caom2ops/sync?ID=cadc%3ACFHT%2F2484623o.fits.fz&POS=CIRCLE+182.63574172891978+39.40572772909787+0.002777777777777778 with ID 140527210202736,\n",
       " Downloaded object from URL https://ws.cadc-ccda.hia-iha.nrc-cnrc.gc.ca/caom2ops/sync?ID=cadc%3ACFHT%2F2480199o.fits.fz&POS=CIRCLE+182.63574172891978+39.40572772909787+0.002777777777777778 with ID 140526411487456,\n",
       " Downloaded object from URL https://ws.cadc-ccda.hia-iha.nrc-cnrc.gc.ca/caom2ops/sync?ID=cadc%3ACFHT%2F429038o.fits&POS=CIRCLE+182.63574172891978+39.40572772909787+0.002777777777777778 with ID 140526411673120,\n",
       " Downloaded object from URL https://ws.cadc-ccda.hia-iha.nrc-cnrc.gc.ca/caom2ops/sync?ID=cadc%3ACFHT%2F429589o.fits&POS=CIRCLE+182.63574172891978+39.40572772909787+0.002777777777777778 with ID 140526411697264,\n",
       " Downloaded object from URL https://ws.cadc-ccda.hia-iha.nrc-cnrc.gc.ca/caom2ops/sync?ID=cadc%3ACFHT%2F1891427o.fits.fz&POS=CIRCLE+182.63574172891978+39.40572772909787+0.002777777777777778 with ID 140526411696640,\n",
       " Downloaded object from URL https://ws.cadc-ccda.hia-iha.nrc-cnrc.gc.ca/caom2ops/sync?ID=cadc%3ACFHT%2F1891427p.fits.fz&POS=CIRCLE+182.63574172891978+39.40572772909787+0.002777777777777778 with ID 140525563535312,\n",
       " Downloaded object from URL https://ws.cadc-ccda.hia-iha.nrc-cnrc.gc.ca/caom2ops/sync?ID=cadc%3ACFHT%2F2417369s.fits.fz&POS=CIRCLE+182.63574172891978+39.40572772909787+0.002777777777777778 with ID 140525564795008,\n",
       " Downloaded object from URL https://ws.cadc-ccda.hia-iha.nrc-cnrc.gc.ca/caom2ops/sync?ID=cadc%3ACFHT%2F2417370s.fits.fz&POS=CIRCLE+182.63574172891978+39.40572772909787+0.002777777777777778 with ID 140525564794864,\n",
       " Downloaded object from URL https://ws.cadc-ccda.hia-iha.nrc-cnrc.gc.ca/caom2ops/sync?ID=cadc%3ACFHT%2F2417375s.fits.fz&POS=CIRCLE+182.63574172891978+39.40572772909787+0.002777777777777778 with ID 140525293093264,\n",
       " Downloaded object from URL https://ws.cadc-ccda.hia-iha.nrc-cnrc.gc.ca/caom2ops/sync?ID=cadc%3ACFHT%2F2417376s.fits.fz&POS=CIRCLE+182.63574172891978+39.40572772909787+0.002777777777777778 with ID 140525292397904,\n",
       " Downloaded object from URL https://ws.cadc-ccda.hia-iha.nrc-cnrc.gc.ca/caom2ops/sync?ID=cadc%3ACFHT%2F2417389s.fits.fz&POS=CIRCLE+182.63574172891978+39.40572772909787+0.002777777777777778 with ID 140525292397232,\n",
       " Downloaded object from URL https://ws.cadc-ccda.hia-iha.nrc-cnrc.gc.ca/caom2ops/sync?ID=cadc%3ACFHT%2F2417391s.fits.fz&POS=CIRCLE+182.63574172891978+39.40572772909787+0.002777777777777778 with ID 140526097579312,\n",
       " Downloaded object from URL https://ws.cadc-ccda.hia-iha.nrc-cnrc.gc.ca/caom2ops/sync?ID=cadc%3ACFHT%2F2417399s.fits.fz&POS=CIRCLE+182.63574172891978+39.40572772909787+0.002777777777777778 with ID 140525562816160,\n",
       " Downloaded object from URL https://ws.cadc-ccda.hia-iha.nrc-cnrc.gc.ca/caom2ops/sync?ID=cadc%3ACFHT%2F2417402s.fits.fz&POS=CIRCLE+182.63574172891978+39.40572772909787+0.002777777777777778 with ID 140525562817552,\n",
       " Downloaded object from URL https://ws.cadc-ccda.hia-iha.nrc-cnrc.gc.ca/caom2ops/sync?ID=cadc%3ACFHT%2F2417405s.fits.fz&POS=CIRCLE+182.63574172891978+39.40572772909787+0.002777777777777778 with ID 140525562817504,\n",
       " Downloaded object from URL https://ws.cadc-ccda.hia-iha.nrc-cnrc.gc.ca/caom2ops/sync?ID=cadc%3ACFHT%2F2417415s.fits.fz&POS=CIRCLE+182.63574172891978+39.40572772909787+0.002777777777777778 with ID 140525292486864,\n",
       " Downloaded object from URL https://ws.cadc-ccda.hia-iha.nrc-cnrc.gc.ca/caom2ops/sync?ID=cadc%3ACFHT%2F2417418s.fits.fz&POS=CIRCLE+182.63574172891978+39.40572772909787+0.002777777777777778 with ID 140525294970384,\n",
       " Downloaded object from URL https://ws.cadc-ccda.hia-iha.nrc-cnrc.gc.ca/caom2ops/sync?ID=cadc%3ACFHT%2F2417419s.fits.fz&POS=CIRCLE+182.63574172891978+39.40572772909787+0.002777777777777778 with ID 140525294971248,\n",
       " Downloaded object from URL https://ws.cadc-ccda.hia-iha.nrc-cnrc.gc.ca/caom2ops/sync?ID=cadc%3ACFHT%2F2417422s.fits.fz&POS=CIRCLE+182.63574172891978+39.40572772909787+0.002777777777777778 with ID 140525294971056,\n",
       " Downloaded object from URL https://ws.cadc-ccda.hia-iha.nrc-cnrc.gc.ca/caom2ops/sync?ID=cadc%3ACFHT%2F2417425s.fits.fz&POS=CIRCLE+182.63574172891978+39.40572772909787+0.002777777777777778 with ID 140525294971440,\n",
       " Downloaded object from URL https://ws.cadc-ccda.hia-iha.nrc-cnrc.gc.ca/caom2ops/sync?ID=cadc%3ACFHT%2F2417427s.fits.fz&POS=CIRCLE+182.63574172891978+39.40572772909787+0.002777777777777778 with ID 140525294971584,\n",
       " Downloaded object from URL https://ws.cadc-ccda.hia-iha.nrc-cnrc.gc.ca/caom2ops/sync?ID=cadc%3ACFHT%2F2417428s.fits.fz&POS=CIRCLE+182.63574172891978+39.40572772909787+0.002777777777777778 with ID 140525294971728,\n",
       " Downloaded object from URL https://ws.cadc-ccda.hia-iha.nrc-cnrc.gc.ca/caom2ops/sync?ID=cadc%3ACFHT%2F2417430s.fits.fz&POS=CIRCLE+182.63574172891978+39.40572772909787+0.002777777777777778 with ID 140525294971872,\n",
       " Downloaded object from URL https://ws.cadc-ccda.hia-iha.nrc-cnrc.gc.ca/caom2ops/sync?ID=cadc%3ACFHT%2F2417433s.fits.fz&POS=CIRCLE+182.63574172891978+39.40572772909787+0.002777777777777778 with ID 140525294972016,\n",
       " Downloaded object from URL https://ws.cadc-ccda.hia-iha.nrc-cnrc.gc.ca/caom2ops/sync?ID=cadc%3ACFHT%2F2417435s.fits.fz&POS=CIRCLE+182.63574172891978+39.40572772909787+0.002777777777777778 with ID 140525294972160,\n",
       " Downloaded object from URL https://ws.cadc-ccda.hia-iha.nrc-cnrc.gc.ca/caom2ops/sync?ID=cadc%3ACFHT%2F2417436s.fits.fz&POS=CIRCLE+182.63574172891978+39.40572772909787+0.002777777777777778 with ID 140525294972304,\n",
       " Downloaded object from URL https://ws.cadc-ccda.hia-iha.nrc-cnrc.gc.ca/caom2ops/sync?ID=cadc%3ACFHT%2F2417438s.fits.fz&POS=CIRCLE+182.63574172891978+39.40572772909787+0.002777777777777778 with ID 140525294972448,\n",
       " Downloaded object from URL https://ws.cadc-ccda.hia-iha.nrc-cnrc.gc.ca/caom2ops/sync?ID=cadc%3ACFHT%2F2417441s.fits.fz&POS=CIRCLE+182.63574172891978+39.40572772909787+0.002777777777777778 with ID 140525294972592,\n",
       " Downloaded object from URL https://ws.cadc-ccda.hia-iha.nrc-cnrc.gc.ca/caom2ops/sync?ID=cadc%3ACFHT%2F2417443s.fits.fz&POS=CIRCLE+182.63574172891978+39.40572772909787+0.002777777777777778 with ID 140525294972736,\n",
       " Downloaded object from URL https://ws.cadc-ccda.hia-iha.nrc-cnrc.gc.ca/caom2ops/sync?ID=cadc%3ACFHT%2F2417444s.fits.fz&POS=CIRCLE+182.63574172891978+39.40572772909787+0.002777777777777778 with ID 140525294972832,\n",
       " Downloaded object from URL https://ws.cadc-ccda.hia-iha.nrc-cnrc.gc.ca/caom2ops/sync?ID=cadc%3ACFHT%2F2417446s.fits.fz&POS=CIRCLE+182.63574172891978+39.40572772909787+0.002777777777777778 with ID 140525565591712,\n",
       " Downloaded object from URL https://ws.cadc-ccda.hia-iha.nrc-cnrc.gc.ca/caom2ops/sync?ID=cadc%3ACFHT%2F2417449s.fits.fz&POS=CIRCLE+182.63574172891978+39.40572772909787+0.002777777777777778 with ID 140525565591856,\n",
       " Downloaded object from URL https://ws.cadc-ccda.hia-iha.nrc-cnrc.gc.ca/caom2ops/sync?ID=cadc%3ACFHT%2F2417465s.fits.fz&POS=CIRCLE+182.63574172891978+39.40572772909787+0.002777777777777778 with ID 140525565592000,\n",
       " Downloaded object from URL https://ws.cadc-ccda.hia-iha.nrc-cnrc.gc.ca/caom2ops/sync?ID=cadc%3ACFHT%2F2417468s.fits.fz&POS=CIRCLE+182.63574172891978+39.40572772909787+0.002777777777777778 with ID 140525565592144,\n",
       " Downloaded object from URL https://ws.cadc-ccda.hia-iha.nrc-cnrc.gc.ca/caom2ops/sync?ID=cadc%3ACFHT%2F2417470s.fits.fz&POS=CIRCLE+182.63574172891978+39.40572772909787+0.002777777777777778 with ID 140525565592288,\n",
       " Downloaded object from URL https://ws.cadc-ccda.hia-iha.nrc-cnrc.gc.ca/caom2ops/sync?ID=cadc%3ACFHT%2F2417471s.fits.fz&POS=CIRCLE+182.63574172891978+39.40572772909787+0.002777777777777778 with ID 140525565592432,\n",
       " Downloaded object from URL https://ws.cadc-ccda.hia-iha.nrc-cnrc.gc.ca/caom2ops/sync?ID=cadc%3ACFHT%2F2417473s.fits.fz&POS=CIRCLE+182.63574172891978+39.40572772909787+0.002777777777777778 with ID 140525565592576,\n",
       " Downloaded object from URL https://ws.cadc-ccda.hia-iha.nrc-cnrc.gc.ca/caom2ops/sync?ID=cadc%3ACFHT%2F2417478s.fits.fz&POS=CIRCLE+182.63574172891978+39.40572772909787+0.002777777777777778 with ID 140525565592720,\n",
       " Downloaded object from URL https://ws.cadc-ccda.hia-iha.nrc-cnrc.gc.ca/caom2ops/sync?ID=cadc%3ACFHT%2F2417479s.fits.fz&POS=CIRCLE+182.63574172891978+39.40572772909787+0.002777777777777778 with ID 140525565592864,\n",
       " Downloaded object from URL https://ws.cadc-ccda.hia-iha.nrc-cnrc.gc.ca/caom2ops/sync?ID=cadc%3ACFHT%2F2417484s.fits.fz&POS=CIRCLE+182.63574172891978+39.40572772909787+0.002777777777777778 with ID 140525565593008,\n",
       " Downloaded object from URL https://ws.cadc-ccda.hia-iha.nrc-cnrc.gc.ca/caom2ops/sync?ID=cadc%3ACFHT%2F2417486s.fits.fz&POS=CIRCLE+182.63574172891978+39.40572772909787+0.002777777777777778 with ID 140525565593152,\n",
       " Downloaded object from URL https://ws.cadc-ccda.hia-iha.nrc-cnrc.gc.ca/caom2ops/sync?ID=cadc%3ACFHT%2F2417487s.fits.fz&POS=CIRCLE+182.63574172891978+39.40572772909787+0.002777777777777778 with ID 140525565593296,\n",
       " Downloaded object from URL https://ws.cadc-ccda.hia-iha.nrc-cnrc.gc.ca/caom2ops/sync?ID=cadc%3ACFHT%2F2417489s.fits.fz&POS=CIRCLE+182.63574172891978+39.40572772909787+0.002777777777777778 with ID 140525565593440,\n",
       " Downloaded object from URL https://ws.cadc-ccda.hia-iha.nrc-cnrc.gc.ca/caom2ops/sync?ID=cadc%3ACFHT%2F2417495s.fits.fz&POS=CIRCLE+182.63574172891978+39.40572772909787+0.002777777777777778 with ID 140525565593584,\n",
       " Downloaded object from URL https://ws.cadc-ccda.hia-iha.nrc-cnrc.gc.ca/caom2ops/sync?ID=cadc%3ACFHT%2F2417496s.fits.fz&POS=CIRCLE+182.63574172891978+39.40572772909787+0.002777777777777778 with ID 140525565593728,\n",
       " Downloaded object from URL https://ws.cadc-ccda.hia-iha.nrc-cnrc.gc.ca/caom2ops/sync?ID=cadc%3ACFHT%2F2417498s.fits.fz&POS=CIRCLE+182.63574172891978+39.40572772909787+0.002777777777777778 with ID 140525565593872,\n",
       " Downloaded object from URL https://ws.cadc-ccda.hia-iha.nrc-cnrc.gc.ca/caom2ops/sync?ID=cadc%3ACFHT%2F2417501s.fits.fz&POS=CIRCLE+182.63574172891978+39.40572772909787+0.002777777777777778 with ID 140525565594016,\n",
       " Downloaded object from URL https://ws.cadc-ccda.hia-iha.nrc-cnrc.gc.ca/caom2ops/sync?ID=cadc%3ACFHT%2F2417503s.fits.fz&POS=CIRCLE+182.63574172891978+39.40572772909787+0.002777777777777778 with ID 140525565594160,\n",
       " Downloaded object from URL https://ws.cadc-ccda.hia-iha.nrc-cnrc.gc.ca/caom2ops/sync?ID=cadc%3ACFHT%2F2417504s.fits.fz&POS=CIRCLE+182.63574172891978+39.40572772909787+0.002777777777777778 with ID 140525565594304,\n",
       " Downloaded object from URL https://ws.cadc-ccda.hia-iha.nrc-cnrc.gc.ca/caom2ops/sync?ID=cadc%3ACFHT%2F2417512s.fits.fz&POS=CIRCLE+182.63574172891978+39.40572772909787+0.002777777777777778 with ID 140525565594448,\n",
       " Downloaded object from URL https://ws.cadc-ccda.hia-iha.nrc-cnrc.gc.ca/caom2ops/sync?ID=cadc%3ACFHT%2F2417514s.fits.fz&POS=CIRCLE+182.63574172891978+39.40572772909787+0.002777777777777778 with ID 140525565594592,\n",
       " Downloaded object from URL https://ws.cadc-ccda.hia-iha.nrc-cnrc.gc.ca/caom2ops/sync?ID=cadc%3ACFHT%2F2417517s.fits.fz&POS=CIRCLE+182.63574172891978+39.40572772909787+0.002777777777777778 with ID 140525565594736,\n",
       " Downloaded object from URL https://ws.cadc-ccda.hia-iha.nrc-cnrc.gc.ca/caom2ops/sync?ID=cadc%3ACFHT%2F2417520s.fits.fz&POS=CIRCLE+182.63574172891978+39.40572772909787+0.002777777777777778 with ID 140525565594880,\n",
       " Downloaded object from URL https://ws.cadc-ccda.hia-iha.nrc-cnrc.gc.ca/caom2ops/sync?ID=cadc%3ACFHT%2F2417522s.fits.fz&POS=CIRCLE+182.63574172891978+39.40572772909787+0.002777777777777778 with ID 140525565595024,\n",
       " Downloaded object from URL https://ws.cadc-ccda.hia-iha.nrc-cnrc.gc.ca/caom2ops/sync?ID=cadc%3ACFHT%2F2417527s.fits.fz&POS=CIRCLE+182.63574172891978+39.40572772909787+0.002777777777777778 with ID 140525565595168,\n",
       " Downloaded object from URL https://ws.cadc-ccda.hia-iha.nrc-cnrc.gc.ca/caom2ops/sync?ID=cadc%3ACFHT%2F2417528s.fits.fz&POS=CIRCLE+182.63574172891978+39.40572772909787+0.002777777777777778 with ID 140525565595312,\n",
       " Downloaded object from URL https://ws.cadc-ccda.hia-iha.nrc-cnrc.gc.ca/caom2ops/sync?ID=cadc%3ACFHT%2F2417530s.fits.fz&POS=CIRCLE+182.63574172891978+39.40572772909787+0.002777777777777778 with ID 140525565595456,\n",
       " Downloaded object from URL https://ws.cadc-ccda.hia-iha.nrc-cnrc.gc.ca/caom2ops/sync?ID=cadc%3ACFHT%2F2417534s.fits.fz&POS=CIRCLE+182.63574172891978+39.40572772909787+0.002777777777777778 with ID 140525565595552,\n",
       " Downloaded object from URL https://ws.cadc-ccda.hia-iha.nrc-cnrc.gc.ca/caom2ops/sync?ID=cadc%3ACFHT%2F2417536s.fits.fz&POS=CIRCLE+182.63574172891978+39.40572772909787+0.002777777777777778 with ID 140525294948512,\n",
       " Downloaded object from URL https://ws.cadc-ccda.hia-iha.nrc-cnrc.gc.ca/caom2ops/sync?ID=cadc%3ACFHT%2F2417537s.fits.fz&POS=CIRCLE+182.63574172891978+39.40572772909787+0.002777777777777778 with ID 140525294948656,\n",
       " Downloaded object from URL https://ws.cadc-ccda.hia-iha.nrc-cnrc.gc.ca/caom2ops/sync?ID=cadc%3ACFHT%2F2417544s.fits.fz&POS=CIRCLE+182.63574172891978+39.40572772909787+0.002777777777777778 with ID 140525294948800,\n",
       " Downloaded object from URL https://ws.cadc-ccda.hia-iha.nrc-cnrc.gc.ca/caom2ops/sync?ID=cadc%3ACFHT%2F2417545s.fits.fz&POS=CIRCLE+182.63574172891978+39.40572772909787+0.002777777777777778 with ID 140525294948944,\n",
       " Downloaded object from URL https://ws.cadc-ccda.hia-iha.nrc-cnrc.gc.ca/caom2ops/sync?ID=cadc%3ACFHT%2F2417547s.fits.fz&POS=CIRCLE+182.63574172891978+39.40572772909787+0.002777777777777778 with ID 140525294949088,\n",
       " Downloaded object from URL https://ws.cadc-ccda.hia-iha.nrc-cnrc.gc.ca/caom2ops/sync?ID=cadc%3ACFHT%2F2417552s.fits.fz&POS=CIRCLE+182.63574172891978+39.40572772909787+0.002777777777777778 with ID 140525294949232,\n",
       " Downloaded object from URL https://ws.cadc-ccda.hia-iha.nrc-cnrc.gc.ca/caom2ops/sync?ID=cadc%3ACFHT%2F2417554s.fits.fz&POS=CIRCLE+182.63574172891978+39.40572772909787+0.002777777777777778 with ID 140525294949376,\n",
       " Downloaded object from URL https://ws.cadc-ccda.hia-iha.nrc-cnrc.gc.ca/caom2ops/sync?ID=cadc%3ACFHT%2F2417555s.fits.fz&POS=CIRCLE+182.63574172891978+39.40572772909787+0.002777777777777778 with ID 140525294949520,\n",
       " Downloaded object from URL https://ws.cadc-ccda.hia-iha.nrc-cnrc.gc.ca/caom2ops/sync?ID=cadc%3ACFHT%2F2417564s.fits.fz&POS=CIRCLE+182.63574172891978+39.40572772909787+0.002777777777777778 with ID 140525294949664,\n",
       " Downloaded object from URL https://ws.cadc-ccda.hia-iha.nrc-cnrc.gc.ca/caom2ops/sync?ID=cadc%3ACFHT%2F2417567s.fits.fz&POS=CIRCLE+182.63574172891978+39.40572772909787+0.002777777777777778 with ID 140525294949808,\n",
       " Downloaded object from URL https://ws.cadc-ccda.hia-iha.nrc-cnrc.gc.ca/caom2ops/sync?ID=cadc%3ACFHT%2F2417569s.fits.fz&POS=CIRCLE+182.63574172891978+39.40572772909787+0.002777777777777778 with ID 140525294949952,\n",
       " Downloaded object from URL https://ws.cadc-ccda.hia-iha.nrc-cnrc.gc.ca/caom2ops/sync?ID=cadc%3ACFHT%2F2417570s.fits.fz&POS=CIRCLE+182.63574172891978+39.40572772909787+0.002777777777777778 with ID 140525294970720,\n",
       " Downloaded object from URL https://ws.cadc-ccda.hia-iha.nrc-cnrc.gc.ca/caom2ops/sync?ID=cadc%3ACFHT%2F2417572s.fits.fz&POS=CIRCLE+182.63574172891978+39.40572772909787+0.002777777777777778 with ID 140525294970576,\n",
       " Downloaded object from URL https://ws.cadc-ccda.hia-iha.nrc-cnrc.gc.ca/caom2ops/sync?ID=cadc%3ACFHT%2F2417575s.fits.fz&POS=CIRCLE+182.63574172891978+39.40572772909787+0.002777777777777778 with ID 140525294970336,\n",
       " Downloaded object from URL https://ws.cadc-ccda.hia-iha.nrc-cnrc.gc.ca/caom2ops/sync?ID=cadc%3ACFHT%2F2417576s.fits.fz&POS=CIRCLE+182.63574172891978+39.40572772909787+0.002777777777777778 with ID 140525294969712,\n",
       " Downloaded object from URL https://ws.cadc-ccda.hia-iha.nrc-cnrc.gc.ca/caom2ops/sync?ID=cadc%3ACFHT%2F2418035s.fits.fz&POS=CIRCLE+182.63574172891978+39.40572772909787+0.002777777777777778 with ID 140525294969424,\n",
       " Downloaded object from URL https://ws.cadc-ccda.hia-iha.nrc-cnrc.gc.ca/caom2ops/sync?ID=cadc%3ACFHT%2F2418036s.fits.fz&POS=CIRCLE+182.63574172891978+39.40572772909787+0.002777777777777778 with ID 140525294969328,\n",
       " Downloaded object from URL https://ws.cadc-ccda.hia-iha.nrc-cnrc.gc.ca/caom2ops/sync?ID=cadc%3ACFHT%2F2418038s.fits.fz&POS=CIRCLE+182.63574172891978+39.40572772909787+0.002777777777777778 with ID 140525294969040,\n",
       " Downloaded object from URL https://ws.cadc-ccda.hia-iha.nrc-cnrc.gc.ca/caom2ops/sync?ID=cadc%3ACFHT%2F2418039s.fits.fz&POS=CIRCLE+182.63574172891978+39.40572772909787+0.002777777777777778 with ID 140525294988064,\n",
       " Downloaded object from URL https://ws.cadc-ccda.hia-iha.nrc-cnrc.gc.ca/caom2ops/sync?ID=cadc%3ACFHT%2F2418042s.fits.fz&POS=CIRCLE+182.63574172891978+39.40572772909787+0.002777777777777778 with ID 140525565578544,\n",
       " Downloaded object from URL https://ws.cadc-ccda.hia-iha.nrc-cnrc.gc.ca/caom2ops/sync?ID=cadc%3ACFHT%2F2418044s.fits.fz&POS=CIRCLE+182.63574172891978+39.40572772909787+0.002777777777777778 with ID 140525295062896,\n",
       " Downloaded object from URL https://ws.cadc-ccda.hia-iha.nrc-cnrc.gc.ca/caom2ops/sync?ID=cadc%3ACFHT%2F2418050s.fits.fz&POS=CIRCLE+182.63574172891978+39.40572772909787+0.002777777777777778 with ID 140525294965760,\n",
       " Downloaded object from URL https://ws.cadc-ccda.hia-iha.nrc-cnrc.gc.ca/caom2ops/sync?ID=cadc%3ACFHT%2F2418052s.fits.fz&POS=CIRCLE+182.63574172891978+39.40572772909787+0.002777777777777778 with ID 140525294965904,\n",
       " Downloaded object from URL https://ws.cadc-ccda.hia-iha.nrc-cnrc.gc.ca/caom2ops/sync?ID=cadc%3ACFHT%2F2418053s.fits.fz&POS=CIRCLE+182.63574172891978+39.40572772909787+0.002777777777777778 with ID 140525294966384,\n",
       " Downloaded object from URL https://ws.cadc-ccda.hia-iha.nrc-cnrc.gc.ca/caom2ops/sync?ID=cadc%3ACFHT%2F2418055s.fits.fz&POS=CIRCLE+182.63574172891978+39.40572772909787+0.002777777777777778 with ID 140525294968784,\n",
       " Downloaded object from URL https://ws.cadc-ccda.hia-iha.nrc-cnrc.gc.ca/caom2ops/sync?ID=cadc%3ACFHT%2F2418062s.fits.fz&POS=CIRCLE+182.63574172891978+39.40572772909787+0.002777777777777778 with ID 140525295158080,\n",
       " Downloaded object from URL https://ws.cadc-ccda.hia-iha.nrc-cnrc.gc.ca/caom2ops/sync?ID=cadc%3ACFHT%2F2418065s.fits.fz&POS=CIRCLE+182.63574172891978+39.40572772909787+0.002777777777777778 with ID 140525295158608,\n",
       " Downloaded object from URL https://ws.cadc-ccda.hia-iha.nrc-cnrc.gc.ca/caom2ops/sync?ID=cadc%3ACFHT%2F2418067s.fits.fz&POS=CIRCLE+182.63574172891978+39.40572772909787+0.002777777777777778 with ID 140525295159616,\n",
       " Downloaded object from URL https://ws.cadc-ccda.hia-iha.nrc-cnrc.gc.ca/caom2ops/sync?ID=cadc%3ACFHT%2F2418068s.fits.fz&POS=CIRCLE+182.63574172891978+39.40572772909787+0.002777777777777778 with ID 140525294949904,\n",
       " Downloaded object from URL https://ws.cadc-ccda.hia-iha.nrc-cnrc.gc.ca/caom2ops/sync?ID=cadc%3ACFHT%2F2418070s.fits.fz&POS=CIRCLE+182.63574172891978+39.40572772909787+0.002777777777777778 with ID 140525294950144,\n",
       " Downloaded object from URL https://ws.cadc-ccda.hia-iha.nrc-cnrc.gc.ca/caom2ops/sync?ID=cadc%3ACFHT%2F2418076s.fits.fz&POS=CIRCLE+182.63574172891978+39.40572772909787+0.002777777777777778 with ID 140525294950288,\n",
       " Downloaded object from URL https://ws.cadc-ccda.hia-iha.nrc-cnrc.gc.ca/caom2ops/sync?ID=cadc%3ACFHT%2F2418077s.fits.fz&POS=CIRCLE+182.63574172891978+39.40572772909787+0.002777777777777778 with ID 140525294950432,\n",
       " Downloaded object from URL https://ws.cadc-ccda.hia-iha.nrc-cnrc.gc.ca/caom2ops/sync?ID=cadc%3ACFHT%2F2418079s.fits.fz&POS=CIRCLE+182.63574172891978+39.40572772909787+0.002777777777777778 with ID 140525294950576,\n",
       " Downloaded object from URL https://ws.cadc-ccda.hia-iha.nrc-cnrc.gc.ca/caom2ops/sync?ID=cadc%3ACFHT%2F2418082s.fits.fz&POS=CIRCLE+182.63574172891978+39.40572772909787+0.002777777777777778 with ID 140525294950720,\n",
       " Downloaded object from URL https://ws.cadc-ccda.hia-iha.nrc-cnrc.gc.ca/caom2ops/sync?ID=cadc%3ACFHT%2F2418084s.fits.fz&POS=CIRCLE+182.63574172891978+39.40572772909787+0.002777777777777778 with ID 140525294950864,\n",
       " Downloaded object from URL https://ws.cadc-ccda.hia-iha.nrc-cnrc.gc.ca/caom2ops/sync?ID=cadc%3ACFHT%2F2418085s.fits.fz&POS=CIRCLE+182.63574172891978+39.40572772909787+0.002777777777777778 with ID 140525294951008,\n",
       " Downloaded object from URL https://ws.cadc-ccda.hia-iha.nrc-cnrc.gc.ca/caom2ops/sync?ID=cadc%3ACFHT%2F2418090s.fits.fz&POS=CIRCLE+182.63574172891978+39.40572772909787+0.002777777777777778 with ID 140525294951152,\n",
       " Downloaded object from URL https://ws.cadc-ccda.hia-iha.nrc-cnrc.gc.ca/caom2ops/sync?ID=cadc%3ACFHT%2F2418092s.fits.fz&POS=CIRCLE+182.63574172891978+39.40572772909787+0.002777777777777778 with ID 140525294951296,\n",
       " Downloaded object from URL https://ws.cadc-ccda.hia-iha.nrc-cnrc.gc.ca/caom2ops/sync?ID=cadc%3ACFHT%2F2418098s.fits.fz&POS=CIRCLE+182.63574172891978+39.40572772909787+0.002777777777777778 with ID 140525294951440,\n",
       " Downloaded object from URL https://ws.cadc-ccda.hia-iha.nrc-cnrc.gc.ca/caom2ops/sync?ID=cadc%3ACFHT%2F2418100s.fits.fz&POS=CIRCLE+182.63574172891978+39.40572772909787+0.002777777777777778 with ID 140525294951584,\n",
       " Downloaded object from URL https://ws.cadc-ccda.hia-iha.nrc-cnrc.gc.ca/caom2ops/sync?ID=cadc%3ACFHT%2F2418101s.fits.fz&POS=CIRCLE+182.63574172891978+39.40572772909787+0.002777777777777778 with ID 140525294951728,\n",
       " Downloaded object from URL https://ws.cadc-ccda.hia-iha.nrc-cnrc.gc.ca/caom2ops/sync?ID=cadc%3ACFHT%2F2418103s.fits.fz&POS=CIRCLE+182.63574172891978+39.40572772909787+0.002777777777777778 with ID 140525294951872,\n",
       " Downloaded object from URL https://ws.cadc-ccda.hia-iha.nrc-cnrc.gc.ca/caom2ops/sync?ID=cadc%3ACFHT%2F2418111s.fits.fz&POS=CIRCLE+182.63574172891978+39.40572772909787+0.002777777777777778 with ID 140525294952016,\n",
       " Downloaded object from URL https://ws.cadc-ccda.hia-iha.nrc-cnrc.gc.ca/caom2ops/sync?ID=cadc%3ACFHT%2F2418114s.fits.fz&POS=CIRCLE+182.63574172891978+39.40572772909787+0.002777777777777778 with ID 140525294952160,\n",
       " Downloaded object from URL https://ws.cadc-ccda.hia-iha.nrc-cnrc.gc.ca/caom2ops/sync?ID=cadc%3ACFHT%2F2418118s.fits.fz&POS=CIRCLE+182.63574172891978+39.40572772909787+0.002777777777777778 with ID 140525294952304,\n",
       " Downloaded object from URL https://ws.cadc-ccda.hia-iha.nrc-cnrc.gc.ca/caom2ops/sync?ID=cadc%3ACFHT%2F2418120s.fits.fz&POS=CIRCLE+182.63574172891978+39.40572772909787+0.002777777777777778 with ID 140525295108208,\n",
       " Downloaded object from URL https://ws.cadc-ccda.hia-iha.nrc-cnrc.gc.ca/caom2ops/sync?ID=cadc%3ACFHT%2F2418122s.fits.fz&POS=CIRCLE+182.63574172891978+39.40572772909787+0.002777777777777778 with ID 140525295108304,\n",
       " Downloaded object from URL https://ws.cadc-ccda.hia-iha.nrc-cnrc.gc.ca/caom2ops/sync?ID=cadc%3ACFHT%2F2418128s.fits.fz&POS=CIRCLE+182.63574172891978+39.40572772909787+0.002777777777777778 with ID 140525295108448,\n",
       " Downloaded object from URL https://ws.cadc-ccda.hia-iha.nrc-cnrc.gc.ca/caom2ops/sync?ID=cadc%3ACFHT%2F2418130s.fits.fz&POS=CIRCLE+182.63574172891978+39.40572772909787+0.002777777777777778 with ID 140525295108592,\n",
       " Downloaded object from URL https://ws.cadc-ccda.hia-iha.nrc-cnrc.gc.ca/caom2ops/sync?ID=cadc%3ACFHT%2F2418136s.fits.fz&POS=CIRCLE+182.63574172891978+39.40572772909787+0.002777777777777778 with ID 140525295108736,\n",
       " Downloaded object from URL https://ws.cadc-ccda.hia-iha.nrc-cnrc.gc.ca/caom2ops/sync?ID=cadc%3ACFHT%2F2418138s.fits.fz&POS=CIRCLE+182.63574172891978+39.40572772909787+0.002777777777777778 with ID 140525295108880,\n",
       " Downloaded object from URL https://ws.cadc-ccda.hia-iha.nrc-cnrc.gc.ca/caom2ops/sync?ID=cadc%3ACFHT%2F2418141s.fits.fz&POS=CIRCLE+182.63574172891978+39.40572772909787+0.002777777777777778 with ID 140525295109024,\n",
       " Downloaded object from URL https://ws.cadc-ccda.hia-iha.nrc-cnrc.gc.ca/caom2ops/sync?ID=cadc%3ACFHT%2F2418143s.fits.fz&POS=CIRCLE+182.63574172891978+39.40572772909787+0.002777777777777778 with ID 140525295109168,\n",
       " Downloaded object from URL https://ws.cadc-ccda.hia-iha.nrc-cnrc.gc.ca/caom2ops/sync?ID=cadc%3ACFHT%2F2418144s.fits.fz&POS=CIRCLE+182.63574172891978+39.40572772909787+0.002777777777777778 with ID 140525295109312,\n",
       " Downloaded object from URL https://ws.cadc-ccda.hia-iha.nrc-cnrc.gc.ca/caom2ops/sync?ID=cadc%3ACFHT%2F2418146s.fits.fz&POS=CIRCLE+182.63574172891978+39.40572772909787+0.002777777777777778 with ID 140525295109456,\n",
       " Downloaded object from URL https://ws.cadc-ccda.hia-iha.nrc-cnrc.gc.ca/caom2ops/sync?ID=cadc%3ACFHT%2F2418149s.fits.fz&POS=CIRCLE+182.63574172891978+39.40572772909787+0.002777777777777778 with ID 140525295109600,\n",
       " Downloaded object from URL https://ws.cadc-ccda.hia-iha.nrc-cnrc.gc.ca/caom2ops/sync?ID=cadc%3ACFHT%2F2418151s.fits.fz&POS=CIRCLE+182.63574172891978+39.40572772909787+0.002777777777777778 with ID 140525295109744,\n",
       " Downloaded object from URL https://ws.cadc-ccda.hia-iha.nrc-cnrc.gc.ca/caom2ops/sync?ID=cadc%3ACFHT%2F2418152s.fits.fz&POS=CIRCLE+182.63574172891978+39.40572772909787+0.002777777777777778 with ID 140525295109888,\n",
       " Downloaded object from URL https://ws.cadc-ccda.hia-iha.nrc-cnrc.gc.ca/caom2ops/sync?ID=cadc%3ACFHT%2F2418154s.fits.fz&POS=CIRCLE+182.63574172891978+39.40572772909787+0.002777777777777778 with ID 140525295110032,\n",
       " Downloaded object from URL https://ws.cadc-ccda.hia-iha.nrc-cnrc.gc.ca/caom2ops/sync?ID=cadc%3ACFHT%2F2418163s.fits.fz&POS=CIRCLE+182.63574172891978+39.40572772909787+0.002777777777777778 with ID 140525295110176,\n",
       " Downloaded object from URL https://ws.cadc-ccda.hia-iha.nrc-cnrc.gc.ca/caom2ops/sync?ID=cadc%3ACFHT%2F2418164s.fits.fz&POS=CIRCLE+182.63574172891978+39.40572772909787+0.002777777777777778 with ID 140525295110320,\n",
       " Downloaded object from URL https://ws.cadc-ccda.hia-iha.nrc-cnrc.gc.ca/caom2ops/sync?ID=cadc%3ACFHT%2F2418166s.fits.fz&POS=CIRCLE+182.63574172891978+39.40572772909787+0.002777777777777778 with ID 140525295110464,\n",
       " Downloaded object from URL https://ws.cadc-ccda.hia-iha.nrc-cnrc.gc.ca/caom2ops/sync?ID=cadc%3ACFHT%2F2418169s.fits.fz&POS=CIRCLE+182.63574172891978+39.40572772909787+0.002777777777777778 with ID 140525295110608,\n",
       " Downloaded object from URL https://ws.cadc-ccda.hia-iha.nrc-cnrc.gc.ca/caom2ops/sync?ID=cadc%3ACFHT%2F2418038g.fits.fz&POS=CIRCLE+182.63574172891978+39.40572772909787+0.002777777777777778 with ID 140525295110752,\n",
       " Downloaded object from URL https://ws.cadc-ccda.hia-iha.nrc-cnrc.gc.ca/caom2ops/sync?ID=cadc%3ACFHT%2F518479o.fits&POS=CIRCLE+182.63574172891978+39.40572772909787+0.002777777777777778 with ID 140525295110896,\n",
       " Downloaded object from URL https://ws.cadc-ccda.hia-iha.nrc-cnrc.gc.ca/caom2ops/sync?ID=cadc%3ACFHT%2F2091315p.fits.fz&POS=CIRCLE+182.63574172891978+39.40572772909787+0.002777777777777778 with ID 140525295111040,\n",
       " Downloaded object from URL https://ws.cadc-ccda.hia-iha.nrc-cnrc.gc.ca/caom2ops/sync?ID=cadc%3ACFHT%2F2483985p.fits.fz&POS=CIRCLE+182.63574172891978+39.40572772909787+0.002777777777777778 with ID 140525295111184,\n",
       " Downloaded object from URL https://ws.cadc-ccda.hia-iha.nrc-cnrc.gc.ca/caom2ops/sync?ID=cadc%3ACFHT%2F429033o.fits&POS=CIRCLE+182.63574172891978+39.40572772909787+0.002777777777777778 with ID 140525295111328,\n",
       " Downloaded object from URL https://ws.cadc-ccda.hia-iha.nrc-cnrc.gc.ca/caom2ops/sync?ID=cadc%3ACFHT%2F429031o.fits&POS=CIRCLE+182.63574172891978+39.40572772909787+0.002777777777777778 with ID 140525295111472,\n",
       " Downloaded object from URL https://ws.cadc-ccda.hia-iha.nrc-cnrc.gc.ca/caom2ops/sync?ID=cadc%3ACFHT%2F429039o.fits&POS=CIRCLE+182.63574172891978+39.40572772909787+0.002777777777777778 with ID 140525295111616,\n",
       " Downloaded object from URL https://ws.cadc-ccda.hia-iha.nrc-cnrc.gc.ca/caom2ops/sync?ID=cadc%3ACFHT%2F429053o.fits&POS=CIRCLE+182.63574172891978+39.40572772909787+0.002777777777777778 with ID 140525295111760,\n",
       " Downloaded object from URL https://ws.cadc-ccda.hia-iha.nrc-cnrc.gc.ca/caom2ops/sync?ID=cadc%3ACFHT%2F429050o.fits&POS=CIRCLE+182.63574172891978+39.40572772909787+0.002777777777777778 with ID 140525295111904,\n",
       " Downloaded object from URL https://ws.cadc-ccda.hia-iha.nrc-cnrc.gc.ca/caom2ops/sync?ID=cadc%3ACFHT%2F429052o.fits&POS=CIRCLE+182.63574172891978+39.40572772909787+0.002777777777777778 with ID 140525295112048,\n",
       " Downloaded object from URL https://ws.cadc-ccda.hia-iha.nrc-cnrc.gc.ca/caom2ops/sync?ID=cadc%3ACFHT%2F429051o.fits&POS=CIRCLE+182.63574172891978+39.40572772909787+0.002777777777777778 with ID 140527211390192,\n",
       " Downloaded object from URL https://ws.cadc-ccda.hia-iha.nrc-cnrc.gc.ca/caom2ops/sync?ID=cadc%3ACFHT%2F429358o.fits&POS=CIRCLE+182.63574172891978+39.40572772909787+0.002777777777777778 with ID 140527211392688,\n",
       " Downloaded object from URL https://ws.cadc-ccda.hia-iha.nrc-cnrc.gc.ca/caom2ops/sync?ID=cadc%3ACFHT%2F429357o.fits&POS=CIRCLE+182.63574172891978+39.40572772909787+0.002777777777777778 with ID 140527211391392,\n",
       " Downloaded object from URL https://ws.cadc-ccda.hia-iha.nrc-cnrc.gc.ca/caom2ops/sync?ID=cadc%3ACFHT%2F429817o.fits&POS=CIRCLE+182.63574172891978+39.40572772909787+0.002777777777777778 with ID 140527211389472,\n",
       " Downloaded object from URL https://ws.cadc-ccda.hia-iha.nrc-cnrc.gc.ca/caom2ops/sync?ID=cadc%3ACFHT%2F429587o.fits&POS=CIRCLE+182.63574172891978+39.40572772909787+0.002777777777777778 with ID 140527211390720,\n",
       " Downloaded object from URL https://ws.cadc-ccda.hia-iha.nrc-cnrc.gc.ca/caom2ops/sync?ID=cadc%3ACFHT%2F429588o.fits&POS=CIRCLE+182.63574172891978+39.40572772909787+0.002777777777777778 with ID 140527211392112,\n",
       " Downloaded object from URL https://ws.cadc-ccda.hia-iha.nrc-cnrc.gc.ca/caom2ops/sync?ID=cadc%3ACFHT%2F435908o.fits&POS=CIRCLE+182.63574172891978+39.40572772909787+0.002777777777777778 with ID 140527211390528,\n",
       " Downloaded object from URL https://ws.cadc-ccda.hia-iha.nrc-cnrc.gc.ca/caom2ops/sync?ID=cadc%3ACFHT%2F435724o.fits&POS=CIRCLE+182.63574172891978+39.40572772909787+0.002777777777777778 with ID 140527211392928,\n",
       " Downloaded object from URL https://ws.cadc-ccda.hia-iha.nrc-cnrc.gc.ca/caom2ops/sync?ID=cadc%3ACFHT%2F435728o.fits&POS=CIRCLE+182.63574172891978+39.40572772909787+0.002777777777777778 with ID 140527211392832,\n",
       " Downloaded object from URL https://ws.cadc-ccda.hia-iha.nrc-cnrc.gc.ca/caom2ops/sync?ID=cadc%3ACFHT%2F435732o.fits&POS=CIRCLE+182.63574172891978+39.40572772909787+0.002777777777777778 with ID 140527211392640,\n",
       " Downloaded object from URL https://ws.cadc-ccda.hia-iha.nrc-cnrc.gc.ca/caom2ops/sync?ID=cadc%3ACFHT%2F435740o.fits&POS=CIRCLE+182.63574172891978+39.40572772909787+0.002777777777777778 with ID 140527211392256,\n",
       " Downloaded object from URL https://ws.cadc-ccda.hia-iha.nrc-cnrc.gc.ca/caom2ops/sync?ID=cadc%3ACFHT%2F435738o.fits&POS=CIRCLE+182.63574172891978+39.40572772909787+0.002777777777777778 with ID 140527211392160,\n",
       " Downloaded object from URL https://ws.cadc-ccda.hia-iha.nrc-cnrc.gc.ca/caom2ops/sync?ID=cadc%3ACFHT%2F435907o.fits&POS=CIRCLE+182.63574172891978+39.40572772909787+0.002777777777777778 with ID 140527211392016,\n",
       " Downloaded object from URL https://ws.cadc-ccda.hia-iha.nrc-cnrc.gc.ca/caom2ops/sync?ID=cadc%3ACFHT%2F435910o.fits&POS=CIRCLE+182.63574172891978+39.40572772909787+0.002777777777777778 with ID 140527211391824,\n",
       " Downloaded object from URL https://ws.cadc-ccda.hia-iha.nrc-cnrc.gc.ca/caom2ops/sync?ID=cadc%3ACFHT%2F435914o.fits&POS=CIRCLE+182.63574172891978+39.40572772909787+0.002777777777777778 with ID 140527211391488,\n",
       " Downloaded object from URL https://ws.cadc-ccda.hia-iha.nrc-cnrc.gc.ca/caom2ops/sync?ID=cadc%3ACFHT%2F435918o.fits&POS=CIRCLE+182.63574172891978+39.40572772909787+0.002777777777777778 with ID 140527211391440,\n",
       " Downloaded object from URL https://ws.cadc-ccda.hia-iha.nrc-cnrc.gc.ca/caom2ops/sync?ID=cadc%3ACFHT%2F435916o.fits&POS=CIRCLE+182.63574172891978+39.40572772909787+0.002777777777777778 with ID 140527211391296,\n",
       " Downloaded object from URL https://ws.cadc-ccda.hia-iha.nrc-cnrc.gc.ca/caom2ops/sync?ID=cadc%3ACFHT%2F435963o.fits&POS=CIRCLE+182.63574172891978+39.40572772909787+0.002777777777777778 with ID 140527211390816,\n",
       " Downloaded object from URL https://ws.cadc-ccda.hia-iha.nrc-cnrc.gc.ca/caom2ops/sync?ID=cadc%3ACFHT%2F435964o.fits&POS=CIRCLE+182.63574172891978+39.40572772909787+0.002777777777777778 with ID 140527211391152,\n",
       " Downloaded object from URL https://ws.cadc-ccda.hia-iha.nrc-cnrc.gc.ca/caom2ops/sync?ID=cadc%3ACFHT%2F2243888o.fits.fz&POS=CIRCLE+182.63574172891978+39.40572772909787+0.002777777777777778 with ID 140527211391008,\n",
       " Downloaded object from URL https://ws.cadc-ccda.hia-iha.nrc-cnrc.gc.ca/caom2ops/sync?ID=cadc%3ACFHT%2F435734o.fits&POS=CIRCLE+182.63574172891978+39.40572772909787+0.002777777777777778 with ID 140527211390576,\n",
       " Downloaded object from URL https://ws.cadc-ccda.hia-iha.nrc-cnrc.gc.ca/caom2ops/sync?ID=cadc%3ACFHT%2F435912o.fits&POS=CIRCLE+182.63574172891978+39.40572772909787+0.002777777777777778 with ID 140527211389760,\n",
       " Downloaded object from URL https://ws.cadc-ccda.hia-iha.nrc-cnrc.gc.ca/caom2ops/sync?ID=cadc%3ACFHT%2F435962o.fits&POS=CIRCLE+182.63574172891978+39.40572772909787+0.002777777777777778 with ID 140527211390048,\n",
       " Downloaded object from URL https://ws.cadc-ccda.hia-iha.nrc-cnrc.gc.ca/caom2ops/sync?ID=cadc%3ACFHT%2F2376956p.fits.fz&POS=CIRCLE+182.63574172891978+39.40572772909787+0.002777777777777778 with ID 140527211390288,\n",
       " Downloaded object from URL https://ws.cadc-ccda.hia-iha.nrc-cnrc.gc.ca/caom2ops/sync?ID=cadc%3ACFHT%2F2484623p.fits.fz&POS=CIRCLE+182.63574172891978+39.40572772909787+0.002777777777777778 with ID 140527211389664,\n",
       " Downloaded object from URL https://ws.cadc-ccda.hia-iha.nrc-cnrc.gc.ca/caom2ops/sync?ID=cadc%3ACFHT%2F2418034a.fits.fz&POS=CIRCLE+182.63574172891978+39.40572772909787+0.002777777777777778 with ID 140527211389328,\n",
       " Downloaded object from URL https://ws.cadc-ccda.hia-iha.nrc-cnrc.gc.ca/caom2ops/sync?ID=cadc%3ACFHT%2F2418037a.fits.fz&POS=CIRCLE+182.63574172891978+39.40572772909787+0.002777777777777778 with ID 140527211389280,\n",
       " Downloaded object from URL https://ws.cadc-ccda.hia-iha.nrc-cnrc.gc.ca/caom2ops/sync?ID=cadc%3ACFHT%2F2418054a.fits.fz&POS=CIRCLE+182.63574172891978+39.40572772909787+0.002777777777777778 with ID 140527211389136,\n",
       " Downloaded object from URL https://ws.cadc-ccda.hia-iha.nrc-cnrc.gc.ca/caom2ops/sync?ID=cadc%3ACFHT%2F2418055o.fits.fz&POS=CIRCLE+182.63574172891978+39.40572772909787+0.002777777777777778 with ID 140527211315312,\n",
       " Downloaded object from URL https://ws.cadc-ccda.hia-iha.nrc-cnrc.gc.ca/caom2ops/sync?ID=cadc%3ACFHT%2F2418057a.fits.fz&POS=CIRCLE+182.63574172891978+39.40572772909787+0.002777777777777778 with ID 140527211315408,\n",
       " Downloaded object from URL https://ws.cadc-ccda.hia-iha.nrc-cnrc.gc.ca/caom2ops/sync?ID=cadc%3ACFHT%2F2418038w.fits.fz&POS=CIRCLE+182.63574172891978+39.40572772909787+0.002777777777777778 with ID 140527211315552,\n",
       " Downloaded object from URL https://ws.cadc-ccda.hia-iha.nrc-cnrc.gc.ca/caom2ops/sync?ID=cadc%3ACFHT%2F2418041a.fits.fz&POS=CIRCLE+182.63574172891978+39.40572772909787+0.002777777777777778 with ID 140527211315696,\n",
       " Downloaded object from URL https://ws.cadc-ccda.hia-iha.nrc-cnrc.gc.ca/caom2ops/sync?ID=cadc%3ACFHT%2F2418045w.fits.fz&POS=CIRCLE+182.63574172891978+39.40572772909787+0.002777777777777778 with ID 140527211315840,\n",
       " Downloaded object from URL https://ws.cadc-ccda.hia-iha.nrc-cnrc.gc.ca/caom2ops/sync?ID=cadc%3ACFHT%2F2418043a.fits.fz&POS=CIRCLE+182.63574172891978+39.40572772909787+0.002777777777777778 with ID 140527211315984,\n",
       " Downloaded object from URL https://ws.cadc-ccda.hia-iha.nrc-cnrc.gc.ca/caom2ops/sync?ID=cadc%3ACFHT%2F2418049a.fits.fz&POS=CIRCLE+182.63574172891978+39.40572772909787+0.002777777777777778 with ID 140527211316128,\n",
       " Downloaded object from URL https://ws.cadc-ccda.hia-iha.nrc-cnrc.gc.ca/caom2ops/sync?ID=cadc%3ACFHT%2F2418046a.fits.fz&POS=CIRCLE+182.63574172891978+39.40572772909787+0.002777777777777778 with ID 140527211316272,\n",
       " Downloaded object from URL https://ws.cadc-ccda.hia-iha.nrc-cnrc.gc.ca/caom2ops/sync?ID=cadc%3ACFHT%2F2418050o.fits.fz&POS=CIRCLE+182.63574172891978+39.40572772909787+0.002777777777777778 with ID 140527211316416,\n",
       " Downloaded object from URL https://ws.cadc-ccda.hia-iha.nrc-cnrc.gc.ca/caom2ops/sync?ID=cadc%3ACFHT%2F2418069a.fits.fz&POS=CIRCLE+182.63574172891978+39.40572772909787+0.002777777777777778 with ID 140527211316560,\n",
       " Downloaded object from URL https://ws.cadc-ccda.hia-iha.nrc-cnrc.gc.ca/caom2ops/sync?ID=cadc%3ACFHT%2F2418078a.fits.fz&POS=CIRCLE+182.63574172891978+39.40572772909787+0.002777777777777778 with ID 140527211316704,\n",
       " Downloaded object from URL https://ws.cadc-ccda.hia-iha.nrc-cnrc.gc.ca/caom2ops/sync?ID=cadc%3ACFHT%2F2418079w.fits.fz&POS=CIRCLE+182.63574172891978+39.40572772909787+0.002777777777777778 with ID 140527211316848,\n",
       " Downloaded object from URL https://ws.cadc-ccda.hia-iha.nrc-cnrc.gc.ca/caom2ops/sync?ID=cadc%3ACFHT%2F2418060a.fits.fz&POS=CIRCLE+182.63574172891978+39.40572772909787+0.002777777777777778 with ID 140527211316992,\n",
       " Downloaded object from URL https://ws.cadc-ccda.hia-iha.nrc-cnrc.gc.ca/caom2ops/sync?ID=cadc%3ACFHT%2F2418053o.fits.fz&POS=CIRCLE+182.63574172891978+39.40572772909787+0.002777777777777778 with ID 140527211317136,\n",
       " Downloaded object from URL https://ws.cadc-ccda.hia-iha.nrc-cnrc.gc.ca/caom2ops/sync?ID=cadc%3ACFHT%2F2418064a.fits.fz&POS=CIRCLE+182.63574172891978+39.40572772909787+0.002777777777777778 with ID 140527211317280,\n",
       " Downloaded object from URL https://ws.cadc-ccda.hia-iha.nrc-cnrc.gc.ca/caom2ops/sync?ID=cadc%3ACFHT%2F2418066a.fits.fz&POS=CIRCLE+182.63574172891978+39.40572772909787+0.002777777777777778 with ID 140527211317424,\n",
       " Downloaded object from URL https://ws.cadc-ccda.hia-iha.nrc-cnrc.gc.ca/caom2ops/sync?ID=cadc%3ACFHT%2F2418065w.fits.fz&POS=CIRCLE+182.63574172891978+39.40572772909787+0.002777777777777778 with ID 140527211317568,\n",
       " Downloaded object from URL https://ws.cadc-ccda.hia-iha.nrc-cnrc.gc.ca/caom2ops/sync?ID=cadc%3ACFHT%2F2418065y.fits.fz&POS=CIRCLE+182.63574172891978+39.40572772909787+0.002777777777777778 with ID 140527211317712,\n",
       " Downloaded object from URL https://ws.cadc-ccda.hia-iha.nrc-cnrc.gc.ca/caom2ops/sync?ID=cadc%3ACFHT%2F2418086a.fits.fz&POS=CIRCLE+182.63574172891978+39.40572772909787+0.002777777777777778 with ID 140527211317856,\n",
       " Downloaded object from URL https://ws.cadc-ccda.hia-iha.nrc-cnrc.gc.ca/caom2ops/sync?ID=cadc%3ACFHT%2F2418087s.fits.fz&POS=CIRCLE+182.63574172891978+39.40572772909787+0.002777777777777778 with ID 140527211318000,\n",
       " Downloaded object from URL https://ws.cadc-ccda.hia-iha.nrc-cnrc.gc.ca/caom2ops/sync?ID=cadc%3ACFHT%2F2418090p.fits.fz&POS=CIRCLE+182.63574172891978+39.40572772909787+0.002777777777777778 with ID 140527211318144,\n",
       " Downloaded object from URL https://ws.cadc-ccda.hia-iha.nrc-cnrc.gc.ca/caom2ops/sync?ID=cadc%3ACFHT%2F2418081a.fits.fz&POS=CIRCLE+182.63574172891978+39.40572772909787+0.002777777777777778 with ID 140527211318288,\n",
       " Downloaded object from URL https://ws.cadc-ccda.hia-iha.nrc-cnrc.gc.ca/caom2ops/sync?ID=cadc%3ACFHT%2F2418091a.fits.fz&POS=CIRCLE+182.63574172891978+39.40572772909787+0.002777777777777778 with ID 140527211318432,\n",
       " Downloaded object from URL https://ws.cadc-ccda.hia-iha.nrc-cnrc.gc.ca/caom2ops/sync?ID=cadc%3ACFHT%2F2418094a.fits.fz&POS=CIRCLE+182.63574172891978+39.40572772909787+0.002777777777777778 with ID 140527211318576,\n",
       " Downloaded object from URL https://ws.cadc-ccda.hia-iha.nrc-cnrc.gc.ca/caom2ops/sync?ID=cadc%3ACFHT%2F2418089a.fits.fz&POS=CIRCLE+182.63574172891978+39.40572772909787+0.002777777777777778 with ID 140527211318720,\n",
       " Downloaded object from URL https://ws.cadc-ccda.hia-iha.nrc-cnrc.gc.ca/caom2ops/sync?ID=cadc%3ACFHT%2F2418107a.fits.fz&POS=CIRCLE+182.63574172891978+39.40572772909787+0.002777777777777778 with ID 140527211318864,\n",
       " Downloaded object from URL https://ws.cadc-ccda.hia-iha.nrc-cnrc.gc.ca/caom2ops/sync?ID=cadc%3ACFHT%2F2418109w.fits.fz&POS=CIRCLE+182.63574172891978+39.40572772909787+0.002777777777777778 with ID 140527211319008,\n",
       " Downloaded object from URL https://ws.cadc-ccda.hia-iha.nrc-cnrc.gc.ca/caom2ops/sync?ID=cadc%3ACFHT%2F2418113a.fits.fz&POS=CIRCLE+182.63574172891978+39.40572772909787+0.002777777777777778 with ID 140527211319152,\n",
       " Downloaded object from URL https://ws.cadc-ccda.hia-iha.nrc-cnrc.gc.ca/caom2ops/sync?ID=cadc%3ACFHT%2F2418117p.fits.fz&POS=CIRCLE+182.63574172891978+39.40572772909787+0.002777777777777778 with ID 140527211487344,\n",
       " Downloaded object from URL https://ws.cadc-ccda.hia-iha.nrc-cnrc.gc.ca/caom2ops/sync?ID=cadc%3ACFHT%2F2418117s.fits.fz&POS=CIRCLE+182.63574172891978+39.40572772909787+0.002777777777777778 with ID 140527211487440,\n",
       " Downloaded object from URL https://ws.cadc-ccda.hia-iha.nrc-cnrc.gc.ca/caom2ops/sync?ID=cadc%3ACFHT%2F2418099a.fits.fz&POS=CIRCLE+182.63574172891978+39.40572772909787+0.002777777777777778 with ID 140527211487584,\n",
       " Downloaded object from URL https://ws.cadc-ccda.hia-iha.nrc-cnrc.gc.ca/caom2ops/sync?ID=cadc%3ACFHT%2F2418102a.fits.fz&POS=CIRCLE+182.63574172891978+39.40572772909787+0.002777777777777778 with ID 140527211487728,\n",
       " Downloaded object from URL https://ws.cadc-ccda.hia-iha.nrc-cnrc.gc.ca/caom2ops/sync?ID=cadc%3ACFHT%2F2418105a.fits.fz&POS=CIRCLE+182.63574172891978+39.40572772909787+0.002777777777777778 with ID 140527211487872,\n",
       " Downloaded object from URL https://ws.cadc-ccda.hia-iha.nrc-cnrc.gc.ca/caom2ops/sync?ID=cadc%3ACFHT%2F2418127a.fits.fz&POS=CIRCLE+182.63574172891978+39.40572772909787+0.002777777777777778 with ID 140527211488016,\n",
       " Downloaded object from URL https://ws.cadc-ccda.hia-iha.nrc-cnrc.gc.ca/caom2ops/sync?ID=cadc%3ACFHT%2F2418124a.fits.fz&POS=CIRCLE+182.63574172891978+39.40572772909787+0.002777777777777778 with ID 140527211488160,\n",
       " Downloaded object from URL https://ws.cadc-ccda.hia-iha.nrc-cnrc.gc.ca/caom2ops/sync?ID=cadc%3ACFHT%2F2418122p.fits.fz&POS=CIRCLE+182.63574172891978+39.40572772909787+0.002777777777777778 with ID 140527211488304,\n",
       " Downloaded object from URL https://ws.cadc-ccda.hia-iha.nrc-cnrc.gc.ca/caom2ops/sync?ID=cadc%3ACFHT%2F2418121a.fits.fz&POS=CIRCLE+182.63574172891978+39.40572772909787+0.002777777777777778 with ID 140527211488448,\n",
       " Downloaded object from URL https://ws.cadc-ccda.hia-iha.nrc-cnrc.gc.ca/caom2ops/sync?ID=cadc%3ACFHT%2F2418142a.fits.fz&POS=CIRCLE+182.63574172891978+39.40572772909787+0.002777777777777778 with ID 140527211488592,\n",
       " Downloaded object from URL https://ws.cadc-ccda.hia-iha.nrc-cnrc.gc.ca/caom2ops/sync?ID=cadc%3ACFHT%2F2418132a.fits.fz&POS=CIRCLE+182.63574172891978+39.40572772909787+0.002777777777777778 with ID 140527211488736,\n",
       " Downloaded object from URL https://ws.cadc-ccda.hia-iha.nrc-cnrc.gc.ca/caom2ops/sync?ID=cadc%3ACFHT%2F2418129a.fits.fz&POS=CIRCLE+182.63574172891978+39.40572772909787+0.002777777777777778 with ID 140527211488880,\n",
       " Downloaded object from URL https://ws.cadc-ccda.hia-iha.nrc-cnrc.gc.ca/caom2ops/sync?ID=cadc%3ACFHT%2F2418145a.fits.fz&POS=CIRCLE+182.63574172891978+39.40572772909787+0.002777777777777778 with ID 140527211489024,\n",
       " Downloaded object from URL https://ws.cadc-ccda.hia-iha.nrc-cnrc.gc.ca/caom2ops/sync?ID=cadc%3ACFHT%2F2418148a.fits.fz&POS=CIRCLE+182.63574172891978+39.40572772909787+0.002777777777777778 with ID 140527211489168,\n",
       " Downloaded object from URL https://ws.cadc-ccda.hia-iha.nrc-cnrc.gc.ca/caom2ops/sync?ID=cadc%3ACFHT%2F2418153a.fits.fz&POS=CIRCLE+182.63574172891978+39.40572772909787+0.002777777777777778 with ID 140527211489312,\n",
       " Downloaded object from URL https://ws.cadc-ccda.hia-iha.nrc-cnrc.gc.ca/caom2ops/sync?ID=cadc%3ACFHT%2F2418150a.fits.fz&POS=CIRCLE+182.63574172891978+39.40572772909787+0.002777777777777778 with ID 140527211489456,\n",
       " Downloaded object from URL https://ws.cadc-ccda.hia-iha.nrc-cnrc.gc.ca/caom2ops/sync?ID=cadc%3ACFHT%2F2418162a.fits.fz&POS=CIRCLE+182.63574172891978+39.40572772909787+0.002777777777777778 with ID 140527211489600,\n",
       " Downloaded object from URL https://ws.cadc-ccda.hia-iha.nrc-cnrc.gc.ca/caom2ops/sync?ID=cadc%3ACFHT%2F2418165a.fits.fz&POS=CIRCLE+182.63574172891978+39.40572772909787+0.002777777777777778 with ID 140527211489744,\n",
       " Downloaded object from URL https://ws.cadc-ccda.hia-iha.nrc-cnrc.gc.ca/caom2ops/sync?ID=cadc%3ACFHT%2F2418160a.fits.fz&POS=CIRCLE+182.63574172891978+39.40572772909787+0.002777777777777778 with ID 140527211489888,\n",
       " Downloaded object from URL https://ws.cadc-ccda.hia-iha.nrc-cnrc.gc.ca/caom2ops/sync?ID=cadc%3ACFHT%2F2418168a.fits.fz&POS=CIRCLE+182.63574172891978+39.40572772909787+0.002777777777777778 with ID 140527211490032,\n",
       " Downloaded object from URL https://ws.cadc-ccda.hia-iha.nrc-cnrc.gc.ca/caom2ops/sync?ID=cadc%3ACFHT%2F2417365a.fits.fz&POS=CIRCLE+182.63574172891978+39.40572772909787+0.002777777777777778 with ID 140527211490176,\n",
       " Downloaded object from URL https://ws.cadc-ccda.hia-iha.nrc-cnrc.gc.ca/caom2ops/sync?ID=cadc%3ACFHT%2F2417372a.fits.fz&POS=CIRCLE+182.63574172891978+39.40572772909787+0.002777777777777778 with ID 140527211490320,\n",
       " Downloaded object from URL https://ws.cadc-ccda.hia-iha.nrc-cnrc.gc.ca/caom2ops/sync?ID=cadc%3ACFHT%2F2417373s.fits.fz&POS=CIRCLE+182.63574172891978+39.40572772909787+0.002777777777777778 with ID 140527211490464,\n",
       " Downloaded object from URL https://ws.cadc-ccda.hia-iha.nrc-cnrc.gc.ca/caom2ops/sync?ID=cadc%3ACFHT%2F2417375o.fits.fz&POS=CIRCLE+182.63574172891978+39.40572772909787+0.002777777777777778 with ID 140527211490608,\n",
       " Downloaded object from URL https://ws.cadc-ccda.hia-iha.nrc-cnrc.gc.ca/caom2ops/sync?ID=cadc%3ACFHT%2F2417374a.fits.fz&POS=CIRCLE+182.63574172891978+39.40572772909787+0.002777777777777778 with ID 140527211490752,\n",
       " Downloaded object from URL https://ws.cadc-ccda.hia-iha.nrc-cnrc.gc.ca/caom2ops/sync?ID=cadc%3ACFHT%2F2417377a.fits.fz&POS=CIRCLE+182.63574172891978+39.40572772909787+0.002777777777777778 with ID 140527211490896,\n",
       " Downloaded object from URL https://ws.cadc-ccda.hia-iha.nrc-cnrc.gc.ca/caom2ops/sync?ID=cadc%3ACFHT%2F2417380a.fits.fz&POS=CIRCLE+182.63574172891978+39.40572772909787+0.002777777777777778 with ID 140527211491040,\n",
       " Downloaded object from URL https://ws.cadc-ccda.hia-iha.nrc-cnrc.gc.ca/caom2ops/sync?ID=cadc%3ACFHT%2F2417381p.fits.fz&POS=CIRCLE+182.63574172891978+39.40572772909787+0.002777777777777778 with ID 140527211491184,\n",
       " Downloaded object from URL https://ws.cadc-ccda.hia-iha.nrc-cnrc.gc.ca/caom2ops/sync?ID=cadc%3ACFHT%2F2417382a.fits.fz&POS=CIRCLE+182.63574172891978+39.40572772909787+0.002777777777777778 with ID 140527211491440,\n",
       " Downloaded object from URL https://ws.cadc-ccda.hia-iha.nrc-cnrc.gc.ca/caom2ops/sync?ID=cadc%3ACFHT%2F2417385a.fits.fz&POS=CIRCLE+182.63574172891978+39.40572772909787+0.002777777777777778 with ID 140527211491536,\n",
       " Downloaded object from URL https://ws.cadc-ccda.hia-iha.nrc-cnrc.gc.ca/caom2ops/sync?ID=cadc%3ACFHT%2F2417386s.fits.fz&POS=CIRCLE+182.63574172891978+39.40572772909787+0.002777777777777778 with ID 140527211491680,\n",
       " Downloaded object from URL https://ws.cadc-ccda.hia-iha.nrc-cnrc.gc.ca/caom2ops/sync?ID=cadc%3ACFHT%2F2417386y.fits.fz&POS=CIRCLE+182.63574172891978+39.40572772909787+0.002777777777777778 with ID 140527211491824,\n",
       " Downloaded object from URL https://ws.cadc-ccda.hia-iha.nrc-cnrc.gc.ca/caom2ops/sync?ID=cadc%3ACFHT%2F2417388a.fits.fz&POS=CIRCLE+182.63574172891978+39.40572772909787+0.002777777777777778 with ID 140527211491968,\n",
       " Downloaded object from URL https://ws.cadc-ccda.hia-iha.nrc-cnrc.gc.ca/caom2ops/sync?ID=cadc%3ACFHT%2F2417396a.fits.fz&POS=CIRCLE+182.63574172891978+39.40572772909787+0.002777777777777778 with ID 140527211492112,\n",
       " Downloaded object from URL https://ws.cadc-ccda.hia-iha.nrc-cnrc.gc.ca/caom2ops/sync?ID=cadc%3ACFHT%2F2417397p.fits.fz&POS=CIRCLE+182.63574172891978+39.40572772909787+0.002777777777777778 with ID 140527211492256,\n",
       " Downloaded object from URL https://ws.cadc-ccda.hia-iha.nrc-cnrc.gc.ca/caom2ops/sync?ID=cadc%3ACFHT%2F2417397s.fits.fz&POS=CIRCLE+182.63574172891978+39.40572772909787+0.002777777777777778 with ID 140527211492400,\n",
       " Downloaded object from URL https://ws.cadc-ccda.hia-iha.nrc-cnrc.gc.ca/caom2ops/sync?ID=cadc%3ACFHT%2F2417398a.fits.fz&POS=CIRCLE+182.63574172891978+39.40572772909787+0.002777777777777778 with ID 140527211492544,\n",
       " Downloaded object from URL https://ws.cadc-ccda.hia-iha.nrc-cnrc.gc.ca/caom2ops/sync?ID=cadc%3ACFHT%2F2417402o.fits.fz&POS=CIRCLE+182.63574172891978+39.40572772909787+0.002777777777777778 with ID 140527211492688,\n",
       " Downloaded object from URL https://ws.cadc-ccda.hia-iha.nrc-cnrc.gc.ca/caom2ops/sync?ID=cadc%3ACFHT%2F2417401a.fits.fz&POS=CIRCLE+182.63574172891978+39.40572772909787+0.002777777777777778 with ID 140527211492832,\n",
       " Downloaded object from URL https://ws.cadc-ccda.hia-iha.nrc-cnrc.gc.ca/caom2ops/sync?ID=cadc%3ACFHT%2F2417404a.fits.fz&POS=CIRCLE+182.63574172891978+39.40572772909787+0.002777777777777778 with ID 140527211492976,\n",
       " Downloaded object from URL https://ws.cadc-ccda.hia-iha.nrc-cnrc.gc.ca/caom2ops/sync?ID=cadc%3ACFHT%2F2417407a.fits.fz&POS=CIRCLE+182.63574172891978+39.40572772909787+0.002777777777777778 with ID 140527211493120,\n",
       " Downloaded object from URL https://ws.cadc-ccda.hia-iha.nrc-cnrc.gc.ca/caom2ops/sync?ID=cadc%3ACFHT%2F2417409a.fits.fz&POS=CIRCLE+182.63574172891978+39.40572772909787+0.002777777777777778 with ID 140527211493264,\n",
       " Downloaded object from URL https://ws.cadc-ccda.hia-iha.nrc-cnrc.gc.ca/caom2ops/sync?ID=cadc%3ACFHT%2F2417411a.fits.fz&POS=CIRCLE+182.63574172891978+39.40572772909787+0.002777777777777778 with ID 140527211493408,\n",
       " Downloaded object from URL https://ws.cadc-ccda.hia-iha.nrc-cnrc.gc.ca/caom2ops/sync?ID=cadc%3ACFHT%2F2417414a.fits.fz&POS=CIRCLE+182.63574172891978+39.40572772909787+0.002777777777777778 with ID 140527211493552,\n",
       " Downloaded object from URL https://ws.cadc-ccda.hia-iha.nrc-cnrc.gc.ca/caom2ops/sync?ID=cadc%3ACFHT%2F2417389w.fits.fz&POS=CIRCLE+182.63574172891978+39.40572772909787+0.002777777777777778 with ID 140527211493696,\n",
       " Downloaded object from URL https://ws.cadc-ccda.hia-iha.nrc-cnrc.gc.ca/caom2ops/sync?ID=cadc%3ACFHT%2F2417390a.fits.fz&POS=CIRCLE+182.63574172891978+39.40572772909787+0.002777777777777778 with ID 140527211493840,\n",
       " Downloaded object from URL https://ws.cadc-ccda.hia-iha.nrc-cnrc.gc.ca/caom2ops/sync?ID=cadc%3ACFHT%2F2417417a.fits.fz&POS=CIRCLE+182.63574172891978+39.40572772909787+0.002777777777777778 with ID 140527211493984,\n",
       " Downloaded object from URL https://ws.cadc-ccda.hia-iha.nrc-cnrc.gc.ca/caom2ops/sync?ID=cadc%3ACFHT%2F2417420a.fits.fz&POS=CIRCLE+182.63574172891978+39.40572772909787+0.002777777777777778 with ID 140527211494128,\n",
       " Downloaded object from URL https://ws.cadc-ccda.hia-iha.nrc-cnrc.gc.ca/caom2ops/sync?ID=cadc%3ACFHT%2F2417421y.fits.fz&POS=CIRCLE+182.63574172891978+39.40572772909787+0.002777777777777778 with ID 140527211494272,\n",
       " Downloaded object from URL https://ws.cadc-ccda.hia-iha.nrc-cnrc.gc.ca/caom2ops/sync?ID=cadc%3ACFHT%2F2417424a.fits.fz&POS=CIRCLE+182.63574172891978+39.40572772909787+0.002777777777777778 with ID 140527211494416,\n",
       " Downloaded object from URL https://ws.cadc-ccda.hia-iha.nrc-cnrc.gc.ca/caom2ops/sync?ID=cadc%3ACFHT%2F2417441w.fits.fz&POS=CIRCLE+182.63574172891978+39.40572772909787+0.002777777777777778 with ID 140527211494560,\n",
       " Downloaded object from URL https://ws.cadc-ccda.hia-iha.nrc-cnrc.gc.ca/caom2ops/sync?ID=cadc%3ACFHT%2F2417440a.fits.fz&POS=CIRCLE+182.63574172891978+39.40572772909787+0.002777777777777778 with ID 140527211494704,\n",
       " Downloaded object from URL https://ws.cadc-ccda.hia-iha.nrc-cnrc.gc.ca/caom2ops/sync?ID=cadc%3ACFHT%2F2417442a.fits.fz&POS=CIRCLE+182.63574172891978+39.40572772909787+0.002777777777777778 with ID 140527211494848,\n",
       " Downloaded object from URL https://ws.cadc-ccda.hia-iha.nrc-cnrc.gc.ca/caom2ops/sync?ID=cadc%3ACFHT%2F2417445a.fits.fz&POS=CIRCLE+182.63574172891978+39.40572772909787+0.002777777777777778 with ID 140527211494992,\n",
       " Downloaded object from URL https://ws.cadc-ccda.hia-iha.nrc-cnrc.gc.ca/caom2ops/sync?ID=cadc%3ACFHT%2F2417446w.fits.fz&POS=CIRCLE+182.63574172891978+39.40572772909787+0.002777777777777778 with ID 140527211495136,\n",
       " Downloaded object from URL https://ws.cadc-ccda.hia-iha.nrc-cnrc.gc.ca/caom2ops/sync?ID=cadc%3ACFHT%2F2417446y.fits.fz&POS=CIRCLE+182.63574172891978+39.40572772909787+0.002777777777777778 with ID 140527211495280,\n",
       " Downloaded object from URL https://ws.cadc-ccda.hia-iha.nrc-cnrc.gc.ca/caom2ops/sync?ID=cadc%3ACFHT%2F2417448a.fits.fz&POS=CIRCLE+182.63574172891978+39.40572772909787+0.002777777777777778 with ID 140527211413616,\n",
       " Downloaded object from URL https://ws.cadc-ccda.hia-iha.nrc-cnrc.gc.ca/caom2ops/sync?ID=cadc%3ACFHT%2F2417451a.fits.fz&POS=CIRCLE+182.63574172891978+39.40572772909787+0.002777777777777778 with ID 140527211413712,\n",
       " Downloaded object from URL https://ws.cadc-ccda.hia-iha.nrc-cnrc.gc.ca/caom2ops/sync?ID=cadc%3ACFHT%2F2417452o.fits.fz&POS=CIRCLE+182.63574172891978+39.40572772909787+0.002777777777777778 with ID 140527211413856,\n",
       " Downloaded object from URL https://ws.cadc-ccda.hia-iha.nrc-cnrc.gc.ca/caom2ops/sync?ID=cadc%3ACFHT%2F2417456a.fits.fz&POS=CIRCLE+182.63574172891978+39.40572772909787+0.002777777777777778 with ID 140527211414000,\n",
       " Downloaded object from URL https://ws.cadc-ccda.hia-iha.nrc-cnrc.gc.ca/caom2ops/sync?ID=cadc%3ACFHT%2F2417453a.fits.fz&POS=CIRCLE+182.63574172891978+39.40572772909787+0.002777777777777778 with ID 140527211414144,\n",
       " Downloaded object from URL https://ws.cadc-ccda.hia-iha.nrc-cnrc.gc.ca/caom2ops/sync?ID=cadc%3ACFHT%2F2417461a.fits.fz&POS=CIRCLE+182.63574172891978+39.40572772909787+0.002777777777777778 with ID 140527211414288,\n",
       " Downloaded object from URL https://ws.cadc-ccda.hia-iha.nrc-cnrc.gc.ca/caom2ops/sync?ID=cadc%3ACFHT%2F2417460s.fits.fz&POS=CIRCLE+182.63574172891978+39.40572772909787+0.002777777777777778 with ID 140527211414432,\n",
       " Downloaded object from URL https://ws.cadc-ccda.hia-iha.nrc-cnrc.gc.ca/caom2ops/sync?ID=cadc%3ACFHT%2F2417463s.fits.fz&POS=CIRCLE+182.63574172891978+39.40572772909787+0.002777777777777778 with ID 140527211414576,\n",
       " Downloaded object from URL https://ws.cadc-ccda.hia-iha.nrc-cnrc.gc.ca/caom2ops/sync?ID=cadc%3ACFHT%2F2417462p.fits.fz&POS=CIRCLE+182.63574172891978+39.40572772909787+0.002777777777777778 with ID 140527211414720,\n",
       " Downloaded object from URL https://ws.cadc-ccda.hia-iha.nrc-cnrc.gc.ca/caom2ops/sync?ID=cadc%3ACFHT%2F2417464a.fits.fz&POS=CIRCLE+182.63574172891978+39.40572772909787+0.002777777777777778 with ID 140527211414864,\n",
       " Downloaded object from URL https://ws.cadc-ccda.hia-iha.nrc-cnrc.gc.ca/caom2ops/sync?ID=cadc%3ACFHT%2F2417467a.fits.fz&POS=CIRCLE+182.63574172891978+39.40572772909787+0.002777777777777778 with ID 140527211415008,\n",
       " Downloaded object from URL https://ws.cadc-ccda.hia-iha.nrc-cnrc.gc.ca/caom2ops/sync?ID=cadc%3ACFHT%2F2417483a.fits.fz&POS=CIRCLE+182.63574172891978+39.40572772909787+0.002777777777777778 with ID 140527211415152,\n",
       " Downloaded object from URL https://ws.cadc-ccda.hia-iha.nrc-cnrc.gc.ca/caom2ops/sync?ID=cadc%3ACFHT%2F2417484p.fits.fz&POS=CIRCLE+182.63574172891978+39.40572772909787+0.002777777777777778 with ID 140527211415296,\n",
       " Downloaded object from URL https://ws.cadc-ccda.hia-iha.nrc-cnrc.gc.ca/caom2ops/sync?ID=cadc%3ACFHT%2F2417484y.fits.fz&POS=CIRCLE+182.63574172891978+39.40572772909787+0.002777777777777778 with ID 140527211415440,\n",
       " Downloaded object from URL https://ws.cadc-ccda.hia-iha.nrc-cnrc.gc.ca/caom2ops/sync?ID=cadc%3ACFHT%2F2417485a.fits.fz&POS=CIRCLE+182.63574172891978+39.40572772909787+0.002777777777777778 with ID 140527211415584,\n",
       " Downloaded object from URL https://ws.cadc-ccda.hia-iha.nrc-cnrc.gc.ca/caom2ops/sync?ID=cadc%3ACFHT%2F2417488a.fits.fz&POS=CIRCLE+182.63574172891978+39.40572772909787+0.002777777777777778 with ID 140527211415728,\n",
       " Downloaded object from URL https://ws.cadc-ccda.hia-iha.nrc-cnrc.gc.ca/caom2ops/sync?ID=cadc%3ACFHT%2F2417492a.fits.fz&POS=CIRCLE+182.63574172891978+39.40572772909787+0.002777777777777778 with ID 140527211415872,\n",
       " Downloaded object from URL https://ws.cadc-ccda.hia-iha.nrc-cnrc.gc.ca/caom2ops/sync?ID=cadc%3ACFHT%2F2417497a.fits.fz&POS=CIRCLE+182.63574172891978+39.40572772909787+0.002777777777777778 with ID 140527211416016,\n",
       " Downloaded object from URL https://ws.cadc-ccda.hia-iha.nrc-cnrc.gc.ca/caom2ops/sync?ID=cadc%3ACFHT%2F2417472a.fits.fz&POS=CIRCLE+182.63574172891978+39.40572772909787+0.002777777777777778 with ID 140527211416160,\n",
       " Downloaded object from URL https://ws.cadc-ccda.hia-iha.nrc-cnrc.gc.ca/caom2ops/sync?ID=cadc%3ACFHT%2F2417475a.fits.fz&POS=CIRCLE+182.63574172891978+39.40572772909787+0.002777777777777778 with ID 140527211416304,\n",
       " Downloaded object from URL https://ws.cadc-ccda.hia-iha.nrc-cnrc.gc.ca/caom2ops/sync?ID=cadc%3ACFHT%2F2417477a.fits.fz&POS=CIRCLE+182.63574172891978+39.40572772909787+0.002777777777777778 with ID 140527211416448,\n",
       " Downloaded object from URL https://ws.cadc-ccda.hia-iha.nrc-cnrc.gc.ca/caom2ops/sync?ID=cadc%3ACFHT%2F2417500a.fits.fz&POS=CIRCLE+182.63574172891978+39.40572772909787+0.002777777777777778 with ID 140527211416592,\n",
       " Downloaded object from URL https://ws.cadc-ccda.hia-iha.nrc-cnrc.gc.ca/caom2ops/sync?ID=cadc%3ACFHT%2F2417502a.fits.fz&POS=CIRCLE+182.63574172891978+39.40572772909787+0.002777777777777778 with ID 140527211416736,\n",
       " Downloaded object from URL https://ws.cadc-ccda.hia-iha.nrc-cnrc.gc.ca/caom2ops/sync?ID=cadc%3ACFHT%2F2417505a.fits.fz&POS=CIRCLE+182.63574172891978+39.40572772909787+0.002777777777777778 with ID 140527211416880,\n",
       " Downloaded object from URL https://ws.cadc-ccda.hia-iha.nrc-cnrc.gc.ca/caom2ops/sync?ID=cadc%3ACFHT%2F2417504y.fits.fz&POS=CIRCLE+182.63574172891978+39.40572772909787+0.002777777777777778 with ID 140527211417024,\n",
       " Downloaded object from URL https://ws.cadc-ccda.hia-iha.nrc-cnrc.gc.ca/caom2ops/sync?ID=cadc%3ACFHT%2F2417508a.fits.fz&POS=CIRCLE+182.63574172891978+39.40572772909787+0.002777777777777778 with ID 140527211417168,\n",
       " Downloaded object from URL https://ws.cadc-ccda.hia-iha.nrc-cnrc.gc.ca/caom2ops/sync?ID=cadc%3ACFHT%2F2417510a.fits.fz&POS=CIRCLE+182.63574172891978+39.40572772909787+0.002777777777777778 with ID 140527211417312,\n",
       " Downloaded object from URL https://ws.cadc-ccda.hia-iha.nrc-cnrc.gc.ca/caom2ops/sync?ID=cadc%3ACFHT%2F2417513a.fits.fz&POS=CIRCLE+182.63574172891978+39.40572772909787+0.002777777777777778 with ID 140527211417456,\n",
       " Downloaded object from URL https://ws.cadc-ccda.hia-iha.nrc-cnrc.gc.ca/caom2ops/sync?ID=cadc%3ACFHT%2F2417543a.fits.fz&POS=CIRCLE+182.63574172891978+39.40572772909787+0.002777777777777778 with ID 140527211462768,\n",
       " Downloaded object from URL https://ws.cadc-ccda.hia-iha.nrc-cnrc.gc.ca/caom2ops/sync?ID=cadc%3ACFHT%2F2417521a.fits.fz&POS=CIRCLE+182.63574172891978+39.40572772909787+0.002777777777777778 with ID 140527211462864,\n",
       " Downloaded object from URL https://ws.cadc-ccda.hia-iha.nrc-cnrc.gc.ca/caom2ops/sync?ID=cadc%3ACFHT%2F2417524a.fits.fz&POS=CIRCLE+182.63574172891978+39.40572772909787+0.002777777777777778 with ID 140527211463008,\n",
       " Downloaded object from URL https://ws.cadc-ccda.hia-iha.nrc-cnrc.gc.ca/caom2ops/sync?ID=cadc%3ACFHT%2F2417525w.fits.fz&POS=CIRCLE+182.63574172891978+39.40572772909787+0.002777777777777778 with ID 140527211463152,\n",
       " Downloaded object from URL https://ws.cadc-ccda.hia-iha.nrc-cnrc.gc.ca/caom2ops/sync?ID=cadc%3ACFHT%2F2417526a.fits.fz&POS=CIRCLE+182.63574172891978+39.40572772909787+0.002777777777777778 with ID 140527211463296,\n",
       " Downloaded object from URL https://ws.cadc-ccda.hia-iha.nrc-cnrc.gc.ca/caom2ops/sync?ID=cadc%3ACFHT%2F2417529a.fits.fz&POS=CIRCLE+182.63574172891978+39.40572772909787+0.002777777777777778 with ID 140527211463440,\n",
       " Downloaded object from URL https://ws.cadc-ccda.hia-iha.nrc-cnrc.gc.ca/caom2ops/sync?ID=cadc%3ACFHT%2F2417535a.fits.fz&POS=CIRCLE+182.63574172891978+39.40572772909787+0.002777777777777778 with ID 140527211463584,\n",
       " Downloaded object from URL https://ws.cadc-ccda.hia-iha.nrc-cnrc.gc.ca/caom2ops/sync?ID=cadc%3ACFHT%2F2417533a.fits.fz&POS=CIRCLE+182.63574172891978+39.40572772909787+0.002777777777777778 with ID 140527211463728,\n",
       " Downloaded object from URL https://ws.cadc-ccda.hia-iha.nrc-cnrc.gc.ca/caom2ops/sync?ID=cadc%3ACFHT%2F2417538a.fits.fz&POS=CIRCLE+182.63574172891978+39.40572772909787+0.002777777777777778 with ID 140527211463872,\n",
       " Downloaded object from URL https://ws.cadc-ccda.hia-iha.nrc-cnrc.gc.ca/caom2ops/sync?ID=cadc%3ACFHT%2F2417542o.fits.fz&POS=CIRCLE+182.63574172891978+39.40572772909787+0.002777777777777778 with ID 140527211464016,\n",
       " Downloaded object from URL https://ws.cadc-ccda.hia-iha.nrc-cnrc.gc.ca/caom2ops/sync?ID=cadc%3ACFHT%2F2417542p.fits.fz&POS=CIRCLE+182.63574172891978+39.40572772909787+0.002777777777777778 with ID 140527211464160,\n",
       " Downloaded object from URL https://ws.cadc-ccda.hia-iha.nrc-cnrc.gc.ca/caom2ops/sync?ID=cadc%3ACFHT%2F2417432a.fits.fz&POS=CIRCLE+182.63574172891978+39.40572772909787+0.002777777777777778 with ID 140527211464304,\n",
       " Downloaded object from URL https://ws.cadc-ccda.hia-iha.nrc-cnrc.gc.ca/caom2ops/sync?ID=cadc%3ACFHT%2F2417557a.fits.fz&POS=CIRCLE+182.63574172891978+39.40572772909787+0.002777777777777778 with ID 140527211464448,\n",
       " Downloaded object from URL https://ws.cadc-ccda.hia-iha.nrc-cnrc.gc.ca/caom2ops/sync?ID=cadc%3ACFHT%2F2417561a.fits.fz&POS=CIRCLE+182.63574172891978+39.40572772909787+0.002777777777777778 with ID 140527211464592,\n",
       " Downloaded object from URL https://ws.cadc-ccda.hia-iha.nrc-cnrc.gc.ca/caom2ops/sync?ID=cadc%3ACFHT%2F2417566a.fits.fz&POS=CIRCLE+182.63574172891978+39.40572772909787+0.002777777777777778 with ID 140527211464736,\n",
       " Downloaded object from URL https://ws.cadc-ccda.hia-iha.nrc-cnrc.gc.ca/caom2ops/sync?ID=cadc%3ACFHT%2F2417568a.fits.fz&POS=CIRCLE+182.63574172891978+39.40572772909787+0.002777777777777778 with ID 140527211464880,\n",
       " Downloaded object from URL https://ws.cadc-ccda.hia-iha.nrc-cnrc.gc.ca/caom2ops/sync?ID=cadc%3ACFHT%2F2417546a.fits.fz&POS=CIRCLE+182.63574172891978+39.40572772909787+0.002777777777777778 with ID 140527211465024,\n",
       " Downloaded object from URL https://ws.cadc-ccda.hia-iha.nrc-cnrc.gc.ca/caom2ops/sync?ID=cadc%3ACFHT%2F2417553a.fits.fz&POS=CIRCLE+182.63574172891978+39.40572772909787+0.002777777777777778 with ID 140527211465168,\n",
       " Downloaded object from URL https://ws.cadc-ccda.hia-iha.nrc-cnrc.gc.ca/caom2ops/sync?ID=cadc%3ACFHT%2F2417559a.fits.fz&POS=CIRCLE+182.63574172891978+39.40572772909787+0.002777777777777778 with ID 140527211465312,\n",
       " Downloaded object from URL https://ws.cadc-ccda.hia-iha.nrc-cnrc.gc.ca/caom2ops/sync?ID=cadc%3ACFHT%2F2417551a.fits.fz&POS=CIRCLE+182.63574172891978+39.40572772909787+0.002777777777777778 with ID 140527211465456,\n",
       " Downloaded object from URL https://ws.cadc-ccda.hia-iha.nrc-cnrc.gc.ca/caom2ops/sync?ID=cadc%3ACFHT%2F2417576y.fits.fz&POS=CIRCLE+182.63574172891978+39.40572772909787+0.002777777777777778 with ID 140527211465600,\n",
       " Downloaded object from URL https://ws.cadc-ccda.hia-iha.nrc-cnrc.gc.ca/caom2ops/sync?ID=cadc%3ACFHT%2F2417571a.fits.fz&POS=CIRCLE+182.63574172891978+39.40572772909787+0.002777777777777778 with ID 140527211465744,\n",
       " Downloaded object from URL https://ws.cadc-ccda.hia-iha.nrc-cnrc.gc.ca/caom2ops/sync?ID=cadc%3ACFHT%2F2417574a.fits.fz&POS=CIRCLE+182.63574172891978+39.40572772909787+0.002777777777777778 with ID 140527211465888,\n",
       " Downloaded object from URL https://ws.cadc-ccda.hia-iha.nrc-cnrc.gc.ca/caom2ops/sync?ID=cadc%3ACFHT%2F2417418y.fits.fz&POS=CIRCLE+182.63574172891978+39.40572772909787+0.002777777777777778 with ID 140527211466032,\n",
       " Downloaded object from URL https://ws.cadc-ccda.hia-iha.nrc-cnrc.gc.ca/caom2ops/sync?ID=cadc%3ACFHT%2F2484529o.fits.fz&POS=CIRCLE+182.63574172891978+39.40572772909787+0.002777777777777778 with ID 140527211466176,\n",
       " Downloaded object from URL https://ws.cadc-ccda.hia-iha.nrc-cnrc.gc.ca/caom2ops/sync?ID=cadc%3ACFHT%2F2484529p.fits.fz&POS=CIRCLE+182.63574172891978+39.40572772909787+0.002777777777777778 with ID 140527211466320,\n",
       " Downloaded object from URL https://ws.cadc-ccda.hia-iha.nrc-cnrc.gc.ca/caom2ops/sync?ID=cadc%3ACFHT%2F2484622o.fits.fz&POS=CIRCLE+182.63574172891978+39.40572772909787+0.002777777777777778 with ID 140527211466464,\n",
       " Downloaded object from URL https://ws.cadc-ccda.hia-iha.nrc-cnrc.gc.ca/caom2ops/sync?ID=cadc%3ACFHT%2F2483985o.fits.fz&POS=CIRCLE+182.63574172891978+39.40572772909787+0.002777777777777778 with ID 140527211466608,\n",
       " Downloaded object from URL https://ws.cadc-ccda.hia-iha.nrc-cnrc.gc.ca/caom2ops/sync?ID=cadc%3ACFHT%2F2376956o.fits.fz&POS=CIRCLE+182.63574172891978+39.40572772909787+0.002777777777777778 with ID 140527211409472,\n",
       " Downloaded object from URL https://ws.cadc-ccda.hia-iha.nrc-cnrc.gc.ca/caom2ops/sync?ID=cadc%3ACFHT%2F429819o.fits&POS=CIRCLE+182.63574172891978+39.40572772909787+0.002777777777777778 with ID 140527211409616,\n",
       " Downloaded object from URL https://ws.cadc-ccda.hia-iha.nrc-cnrc.gc.ca/caom2ops/sync?ID=cadc%3ACFHT%2F478679o.fits&POS=CIRCLE+182.63574172891978+39.40572772909787+0.002777777777777778 with ID 140527211409760,\n",
       " Downloaded object from URL https://ws.cadc-ccda.hia-iha.nrc-cnrc.gc.ca/caom2ops/sync?ID=cadc%3ACFHT%2F2417494a.fits.fz&POS=CIRCLE+182.63574172891978+39.40572772909787+0.002777777777777778 with ID 140527211409904,\n",
       " Downloaded object from URL https://ws.cadc-ccda.hia-iha.nrc-cnrc.gc.ca/caom2ops/sync?ID=cadc%3ACFHT%2F518480o.fits&POS=CIRCLE+182.63574172891978+39.40572772909787+0.002777777777777778 with ID 140527211410048,\n",
       " Downloaded object from URL https://ws.cadc-ccda.hia-iha.nrc-cnrc.gc.ca/caom2ops/sync?ID=cadc%3ACFHT%2F518482o.fits&POS=CIRCLE+182.63574172891978+39.40572772909787+0.002777777777777778 with ID 140527211410192,\n",
       " Downloaded object from URL https://ws.cadc-ccda.hia-iha.nrc-cnrc.gc.ca/caom2ops/sync?ID=cadc%3ACFHT%2F2417421o.fits.fz&POS=CIRCLE+182.63574172891978+39.40572772909787+0.002777777777777778 with ID 140527211410336,\n",
       " Downloaded object from URL https://ws.cadc-ccda.hia-iha.nrc-cnrc.gc.ca/caom2ops/sync?ID=cadc%3ACFHT%2F2417392o.fits.fz&POS=CIRCLE+182.63574172891978+39.40572772909787+0.002777777777777778 with ID 140527211410480,\n",
       " Downloaded object from URL https://ws.cadc-ccda.hia-iha.nrc-cnrc.gc.ca/caom2ops/sync?ID=cadc%3ACFHT%2F2417504o.fits.fz&POS=CIRCLE+182.63574172891978+39.40572772909787+0.002777777777777778 with ID 140527211410624,\n",
       " Downloaded object from URL https://ws.cadc-ccda.hia-iha.nrc-cnrc.gc.ca/caom2ops/sync?ID=cadc%3ACFHT%2F2418035o.fits.fz&POS=CIRCLE+182.63574172891978+39.40572772909787+0.002777777777777778 with ID 140527211410768,\n",
       " Downloaded object from URL https://ws.cadc-ccda.hia-iha.nrc-cnrc.gc.ca/caom2ops/sync?ID=cadc%3ACFHT%2F2418039o.fits.fz&POS=CIRCLE+182.63574172891978+39.40572772909787+0.002777777777777778 with ID 140527211410912,\n",
       " Downloaded object from URL https://ws.cadc-ccda.hia-iha.nrc-cnrc.gc.ca/caom2ops/sync?ID=cadc%3ACFHT%2F2418042o.fits.fz&POS=CIRCLE+182.63574172891978+39.40572772909787+0.002777777777777778 with ID 140527211411056,\n",
       " Downloaded object from URL https://ws.cadc-ccda.hia-iha.nrc-cnrc.gc.ca/caom2ops/sync?ID=cadc%3ACFHT%2F2418061o.fits.fz&POS=CIRCLE+182.63574172891978+39.40572772909787+0.002777777777777778 with ID 140527211411200,\n",
       " Downloaded object from URL https://ws.cadc-ccda.hia-iha.nrc-cnrc.gc.ca/caom2ops/sync?ID=cadc%3ACFHT%2F2418062o.fits.fz&POS=CIRCLE+182.63574172891978+39.40572772909787+0.002777777777777778 with ID 140527211411344,\n",
       " Downloaded object from URL https://ws.cadc-ccda.hia-iha.nrc-cnrc.gc.ca/caom2ops/sync?ID=cadc%3ACFHT%2F2418087o.fits.fz&POS=CIRCLE+182.63574172891978+39.40572772909787+0.002777777777777778 with ID 140527211411488,\n",
       " Downloaded object from URL https://ws.cadc-ccda.hia-iha.nrc-cnrc.gc.ca/caom2ops/sync?ID=cadc%3ACFHT%2F2418100o.fits.fz&POS=CIRCLE+182.63574172891978+39.40572772909787+0.002777777777777778 with ID 140527211411632,\n",
       " Downloaded object from URL https://ws.cadc-ccda.hia-iha.nrc-cnrc.gc.ca/caom2ops/sync?ID=cadc%3ACFHT%2F2418154y.fits.fz&POS=CIRCLE+182.63574172891978+39.40572772909787+0.002777777777777778 with ID 140527211411776,\n",
       " Downloaded object from URL https://ws.cadc-ccda.hia-iha.nrc-cnrc.gc.ca/caom2ops/sync?ID=cadc%3ACFHT%2F518481o.fits&POS=CIRCLE+182.63574172891978+39.40572772909787+0.002777777777777778 with ID 140527211411920,\n",
       " Downloaded object from URL https://ws.cadc-ccda.hia-iha.nrc-cnrc.gc.ca/caom2ops/sync?ID=cadc%3ACFHT%2F435726o.fits&POS=CIRCLE+182.63574172891978+39.40572772909787+0.002777777777777778 with ID 140527211412064,\n",
       " Downloaded object from URL https://ws.cadc-ccda.hia-iha.nrc-cnrc.gc.ca/caom2ops/sync?ID=cadc%3ACFHT%2F435730o.fits&POS=CIRCLE+182.63574172891978+39.40572772909787+0.002777777777777778 with ID 140527211412208,\n",
       " Downloaded object from URL https://ws.cadc-ccda.hia-iha.nrc-cnrc.gc.ca/caom2ops/sync?ID=cadc%3ACFHT%2F2091316p.fits.fz&POS=CIRCLE+182.63574172891978+39.40572772909787+0.002777777777777778 with ID 140527211412352,\n",
       " Downloaded object from URL https://ws.cadc-ccda.hia-iha.nrc-cnrc.gc.ca/caom2ops/sync?ID=cadc%3ACFHT%2F2418134a.fits.fz&POS=CIRCLE+182.63574172891978+39.40572772909787+0.002777777777777778 with ID 140527211412496,\n",
       " Downloaded object from URL https://ws.cadc-ccda.hia-iha.nrc-cnrc.gc.ca/caom2ops/sync?ID=cadc%3ACFHT%2F2418130w.fits.fz&POS=CIRCLE+182.63574172891978+39.40572772909787+0.002777777777777778 with ID 140527211412640,\n",
       " Downloaded object from URL https://ws.cadc-ccda.hia-iha.nrc-cnrc.gc.ca/caom2ops/sync?ID=cadc%3ACFHT%2F2417575y.fits.fz&POS=CIRCLE+182.63574172891978+39.40572772909787+0.002777777777777778 with ID 140527211412784,\n",
       " Downloaded object from URL https://ws.cadc-ccda.hia-iha.nrc-cnrc.gc.ca/caom2ops/sync?ID=cadc%3ACFHT%2F2484622p.fits.fz&POS=CIRCLE+182.63574172891978+39.40572772909787+0.002777777777777778 with ID 140527211412928,\n",
       " Downloaded object from URL https://ws.cadc-ccda.hia-iha.nrc-cnrc.gc.ca/caom2ops/sync?ID=cadc%3ACFHT%2F2418044y.fits.fz&POS=CIRCLE+182.63574172891978+39.40572772909787+0.002777777777777778 with ID 140527211413072,\n",
       " Downloaded object from URL https://ws.cadc-ccda.hia-iha.nrc-cnrc.gc.ca/caom2ops/sync?ID=cadc%3ACFHT%2F2417471y.fits.fz&POS=CIRCLE+182.63574172891978+39.40572772909787+0.002777777777777778 with ID 140527211413216,\n",
       " Downloaded object from URL https://ws.cadc-ccda.hia-iha.nrc-cnrc.gc.ca/caom2ops/sync?ID=cadc%3ACFHT%2F2489569o.fits.fz&POS=CIRCLE+182.63574172891978+39.40572772909787+0.002777777777777778 with ID 140527211413360,\n",
       " Downloaded object from URL https://ws.cadc-ccda.hia-iha.nrc-cnrc.gc.ca/caom2ops/sync?ID=cadc%3ACFHT%2F2489569p.fits.fz&POS=CIRCLE+182.63574172891978+39.40572772909787+0.002777777777777778 with ID 140527211343984,\n",
       " Downloaded object from URL https://ws.cadc-ccda.hia-iha.nrc-cnrc.gc.ca/caom2ops/sync?ID=cadc%3ACFHT%2F2417369y.fits.fz&POS=CIRCLE+182.63574172891978+39.40572772909787+0.002777777777777778 with ID 140527211344080,\n",
       " Downloaded object from URL https://ws.cadc-ccda.hia-iha.nrc-cnrc.gc.ca/caom2ops/sync?ID=cadc%3ACFHT%2F429032o.fits&POS=CIRCLE+182.63574172891978+39.40572772909787+0.002777777777777778 with ID 140527211344224,\n",
       " Downloaded object from URL https://ws.cadc-ccda.hia-iha.nrc-cnrc.gc.ca/caom2ops/sync?ID=cadc%3ACFHT%2F429356o.fits&POS=CIRCLE+182.63574172891978+39.40572772909787+0.002777777777777778 with ID 140527211344368,\n",
       " Downloaded object from URL https://ws.cadc-ccda.hia-iha.nrc-cnrc.gc.ca/caom2ops/sync?ID=cadc%3ACFHT%2F2417393a.fits.fz&POS=CIRCLE+182.63574172891978+39.40572772909787+0.002777777777777778 with ID 140527211344512,\n",
       " Downloaded object from URL https://ws.cadc-ccda.hia-iha.nrc-cnrc.gc.ca/caom2ops/sync?ID=cadc%3ACFHT%2F2091315o.fits.fz&POS=CIRCLE+182.63574172891978+39.40572772909787+0.002777777777777778 with ID 140527211344656,\n",
       " Downloaded object from URL https://ws.cadc-ccda.hia-iha.nrc-cnrc.gc.ca/caom2ops/sync?ID=cadc%3ACFHT%2F478678o.fits&POS=CIRCLE+182.63574172891978+39.40572772909787+0.002777777777777778 with ID 140527211344800,\n",
       " Downloaded object from URL https://ws.cadc-ccda.hia-iha.nrc-cnrc.gc.ca/caom2ops/sync?ID=cadc%3ACFHT%2F2480199p.fits.fz&POS=CIRCLE+182.63574172891978+39.40572772909787+0.002777777777777778 with ID 140527211344944,\n",
       " Downloaded object from URL https://ws.cadc-ccda.hia-iha.nrc-cnrc.gc.ca/caom2ops/sync?ID=cadc%3ACFHT%2F2418137a.fits.fz&POS=CIRCLE+182.63574172891978+39.40572772909787+0.002777777777777778 with ID 140527211345088,\n",
       " Downloaded object from URL https://ws.cadc-ccda.hia-iha.nrc-cnrc.gc.ca/caom2ops/sync?ID=cadc%3ACFHT%2F2418097a.fits.fz&POS=CIRCLE+182.63574172891978+39.40572772909787+0.002777777777777778 with ID 140527211345232,\n",
       " Downloaded object from URL https://ws.cadc-ccda.hia-iha.nrc-cnrc.gc.ca/caom2ops/sync?ID=cadc%3ACFHT%2F2418051a.fits.fz&POS=CIRCLE+182.63574172891978+39.40572772909787+0.002777777777777778 with ID 140527211345376,\n",
       " Downloaded object from URL https://ws.cadc-ccda.hia-iha.nrc-cnrc.gc.ca/caom2ops/sync?ID=cadc%3ACFHT%2F2417563a.fits.fz&POS=CIRCLE+182.63574172891978+39.40572772909787+0.002777777777777778 with ID 140527211345520,\n",
       " Downloaded object from URL https://ws.cadc-ccda.hia-iha.nrc-cnrc.gc.ca/caom2ops/sync?ID=cadc%3ACFHT%2F2417544o.fits.fz&POS=CIRCLE+182.63574172891978+39.40572772909787+0.002777777777777778 with ID 140527211345664,\n",
       " Downloaded object from URL https://ws.cadc-ccda.hia-iha.nrc-cnrc.gc.ca/caom2ops/sync?ID=cadc%3ACFHT%2F2417544p.fits.fz&POS=CIRCLE+182.63574172891978+39.40572772909787+0.002777777777777778 with ID 140527211345808,\n",
       " Downloaded object from URL https://ws.cadc-ccda.hia-iha.nrc-cnrc.gc.ca/caom2ops/sync?ID=cadc%3ACFHT%2F2417544w.fits.fz&POS=CIRCLE+182.63574172891978+39.40572772909787+0.002777777777777778 with ID 140527211345952,\n",
       " Downloaded object from URL https://ws.cadc-ccda.hia-iha.nrc-cnrc.gc.ca/caom2ops/sync?ID=cadc%3ACFHT%2F2417544y.fits.fz&POS=CIRCLE+182.63574172891978+39.40572772909787+0.002777777777777778 with ID 140527211346096,\n",
       " Downloaded object from URL https://ws.cadc-ccda.hia-iha.nrc-cnrc.gc.ca/caom2ops/sync?ID=cadc%3ACFHT%2F2417545o.fits.fz&POS=CIRCLE+182.63574172891978+39.40572772909787+0.002777777777777778 with ID 140527211346240,\n",
       " Downloaded object from URL https://ws.cadc-ccda.hia-iha.nrc-cnrc.gc.ca/caom2ops/sync?ID=cadc%3ACFHT%2F2417545p.fits.fz&POS=CIRCLE+182.63574172891978+39.40572772909787+0.002777777777777778 with ID 140527211346384,\n",
       " Downloaded object from URL https://ws.cadc-ccda.hia-iha.nrc-cnrc.gc.ca/caom2ops/sync?ID=cadc%3ACFHT%2F2417545w.fits.fz&POS=CIRCLE+182.63574172891978+39.40572772909787+0.002777777777777778 with ID 140527211346528,\n",
       " Downloaded object from URL https://ws.cadc-ccda.hia-iha.nrc-cnrc.gc.ca/caom2ops/sync?ID=cadc%3ACFHT%2F2417545y.fits.fz&POS=CIRCLE+182.63574172891978+39.40572772909787+0.002777777777777778 with ID 140527211346672,\n",
       " Downloaded object from URL https://ws.cadc-ccda.hia-iha.nrc-cnrc.gc.ca/caom2ops/sync?ID=cadc%3ACFHT%2F2417547o.fits.fz&POS=CIRCLE+182.63574172891978+39.40572772909787+0.002777777777777778 with ID 140527211346816,\n",
       " Downloaded object from URL https://ws.cadc-ccda.hia-iha.nrc-cnrc.gc.ca/caom2ops/sync?ID=cadc%3ACFHT%2F2417547p.fits.fz&POS=CIRCLE+182.63574172891978+39.40572772909787+0.002777777777777778 with ID 140527211346960,\n",
       " Downloaded object from URL https://ws.cadc-ccda.hia-iha.nrc-cnrc.gc.ca/caom2ops/sync?ID=cadc%3ACFHT%2F2417547w.fits.fz&POS=CIRCLE+182.63574172891978+39.40572772909787+0.002777777777777778 with ID 140527211347104,\n",
       " Downloaded object from URL https://ws.cadc-ccda.hia-iha.nrc-cnrc.gc.ca/caom2ops/sync?ID=cadc%3ACFHT%2F2417547y.fits.fz&POS=CIRCLE+182.63574172891978+39.40572772909787+0.002777777777777778 with ID 140527211347248,\n",
       " Downloaded object from URL https://ws.cadc-ccda.hia-iha.nrc-cnrc.gc.ca/caom2ops/sync?ID=cadc%3ACFHT%2F2417550o.fits.fz&POS=CIRCLE+182.63574172891978+39.40572772909787+0.002777777777777778 with ID 140527211347392,\n",
       " Downloaded object from URL https://ws.cadc-ccda.hia-iha.nrc-cnrc.gc.ca/caom2ops/sync?ID=cadc%3ACFHT%2F2417550p.fits.fz&POS=CIRCLE+182.63574172891978+39.40572772909787+0.002777777777777778 with ID 140527211347536,\n",
       " Downloaded object from URL https://ws.cadc-ccda.hia-iha.nrc-cnrc.gc.ca/caom2ops/sync?ID=cadc%3ACFHT%2F2417550w.fits.fz&POS=CIRCLE+182.63574172891978+39.40572772909787+0.002777777777777778 with ID 140527211347680,\n",
       " Downloaded object from URL https://ws.cadc-ccda.hia-iha.nrc-cnrc.gc.ca/caom2ops/sync?ID=cadc%3ACFHT%2F2417550y.fits.fz&POS=CIRCLE+182.63574172891978+39.40572772909787+0.002777777777777778 with ID 140527211347824,\n",
       " Downloaded object from URL https://ws.cadc-ccda.hia-iha.nrc-cnrc.gc.ca/caom2ops/sync?ID=cadc%3ACFHT%2F2417552o.fits.fz&POS=CIRCLE+182.63574172891978+39.40572772909787+0.002777777777777778 with ID 140527211384944,\n",
       " Downloaded object from URL https://ws.cadc-ccda.hia-iha.nrc-cnrc.gc.ca/caom2ops/sync?ID=cadc%3ACFHT%2F2417554o.fits.fz&POS=CIRCLE+182.63574172891978+39.40572772909787+0.002777777777777778 with ID 140527211385040,\n",
       " Downloaded object from URL https://ws.cadc-ccda.hia-iha.nrc-cnrc.gc.ca/caom2ops/sync?ID=cadc%3ACFHT%2F2417554p.fits.fz&POS=CIRCLE+182.63574172891978+39.40572772909787+0.002777777777777778 with ID 140527211385184,\n",
       " Downloaded object from URL https://ws.cadc-ccda.hia-iha.nrc-cnrc.gc.ca/caom2ops/sync?ID=cadc%3ACFHT%2F2417554w.fits.fz&POS=CIRCLE+182.63574172891978+39.40572772909787+0.002777777777777778 with ID 140527211385328,\n",
       " Downloaded object from URL https://ws.cadc-ccda.hia-iha.nrc-cnrc.gc.ca/caom2ops/sync?ID=cadc%3ACFHT%2F2417554y.fits.fz&POS=CIRCLE+182.63574172891978+39.40572772909787+0.002777777777777778 with ID 140527211385472,\n",
       " Downloaded object from URL https://ws.cadc-ccda.hia-iha.nrc-cnrc.gc.ca/caom2ops/sync?ID=cadc%3ACFHT%2F2417555o.fits.fz&POS=CIRCLE+182.63574172891978+39.40572772909787+0.002777777777777778 with ID 140527211385616,\n",
       " Downloaded object from URL https://ws.cadc-ccda.hia-iha.nrc-cnrc.gc.ca/caom2ops/sync?ID=cadc%3ACFHT%2F2417555p.fits.fz&POS=CIRCLE+182.63574172891978+39.40572772909787+0.002777777777777778 with ID 140527211385760,\n",
       " Downloaded object from URL https://ws.cadc-ccda.hia-iha.nrc-cnrc.gc.ca/caom2ops/sync?ID=cadc%3ACFHT%2F2417555w.fits.fz&POS=CIRCLE+182.63574172891978+39.40572772909787+0.002777777777777778 with ID 140527211385904,\n",
       " Downloaded object from URL https://ws.cadc-ccda.hia-iha.nrc-cnrc.gc.ca/caom2ops/sync?ID=cadc%3ACFHT%2F2417555y.fits.fz&POS=CIRCLE+182.63574172891978+39.40572772909787+0.002777777777777778 with ID 140527211386048,\n",
       " Downloaded object from URL https://ws.cadc-ccda.hia-iha.nrc-cnrc.gc.ca/caom2ops/sync?ID=cadc%3ACFHT%2F2417558o.fits.fz&POS=CIRCLE+182.63574172891978+39.40572772909787+0.002777777777777778 with ID 140527211386192,\n",
       " Downloaded object from URL https://ws.cadc-ccda.hia-iha.nrc-cnrc.gc.ca/caom2ops/sync?ID=cadc%3ACFHT%2F2417558p.fits.fz&POS=CIRCLE+182.63574172891978+39.40572772909787+0.002777777777777778 with ID 140527211386336,\n",
       " Downloaded object from URL https://ws.cadc-ccda.hia-iha.nrc-cnrc.gc.ca/caom2ops/sync?ID=cadc%3ACFHT%2F2417558w.fits.fz&POS=CIRCLE+182.63574172891978+39.40572772909787+0.002777777777777778 with ID 140527211386480,\n",
       " Downloaded object from URL https://ws.cadc-ccda.hia-iha.nrc-cnrc.gc.ca/caom2ops/sync?ID=cadc%3ACFHT%2F2417558y.fits.fz&POS=CIRCLE+182.63574172891978+39.40572772909787+0.002777777777777778 with ID 140527211386624,\n",
       " Downloaded object from URL https://ws.cadc-ccda.hia-iha.nrc-cnrc.gc.ca/caom2ops/sync?ID=cadc%3ACFHT%2F2417560o.fits.fz&POS=CIRCLE+182.63574172891978+39.40572772909787+0.002777777777777778 with ID 140527211386768,\n",
       " Downloaded object from URL https://ws.cadc-ccda.hia-iha.nrc-cnrc.gc.ca/caom2ops/sync?ID=cadc%3ACFHT%2F2417560p.fits.fz&POS=CIRCLE+182.63574172891978+39.40572772909787+0.002777777777777778 with ID 140527211386912,\n",
       " Downloaded object from URL https://ws.cadc-ccda.hia-iha.nrc-cnrc.gc.ca/caom2ops/sync?ID=cadc%3ACFHT%2F2417560w.fits.fz&POS=CIRCLE+182.63574172891978+39.40572772909787+0.002777777777777778 with ID 140527211387056,\n",
       " Downloaded object from URL https://ws.cadc-ccda.hia-iha.nrc-cnrc.gc.ca/caom2ops/sync?ID=cadc%3ACFHT%2F2417560y.fits.fz&POS=CIRCLE+182.63574172891978+39.40572772909787+0.002777777777777778 with ID 140527211387200,\n",
       " Downloaded object from URL https://ws.cadc-ccda.hia-iha.nrc-cnrc.gc.ca/caom2ops/sync?ID=cadc%3ACFHT%2F2417562o.fits.fz&POS=CIRCLE+182.63574172891978+39.40572772909787+0.002777777777777778 with ID 140527211387344,\n",
       " Downloaded object from URL https://ws.cadc-ccda.hia-iha.nrc-cnrc.gc.ca/caom2ops/sync?ID=cadc%3ACFHT%2F2417564o.fits.fz&POS=CIRCLE+182.63574172891978+39.40572772909787+0.002777777777777778 with ID 140527211387488,\n",
       " Downloaded object from URL https://ws.cadc-ccda.hia-iha.nrc-cnrc.gc.ca/caom2ops/sync?ID=cadc%3ACFHT%2F2417564p.fits.fz&POS=CIRCLE+182.63574172891978+39.40572772909787+0.002777777777777778 with ID 140527211387632,\n",
       " Downloaded object from URL https://ws.cadc-ccda.hia-iha.nrc-cnrc.gc.ca/caom2ops/sync?ID=cadc%3ACFHT%2F2417564w.fits.fz&POS=CIRCLE+182.63574172891978+39.40572772909787+0.002777777777777778 with ID 140527211387776,\n",
       " Downloaded object from URL https://ws.cadc-ccda.hia-iha.nrc-cnrc.gc.ca/caom2ops/sync?ID=cadc%3ACFHT%2F2417564y.fits.fz&POS=CIRCLE+182.63574172891978+39.40572772909787+0.002777777777777778 with ID 140527211387920,\n",
       " Downloaded object from URL https://ws.cadc-ccda.hia-iha.nrc-cnrc.gc.ca/caom2ops/sync?ID=cadc%3ACFHT%2F2417567o.fits.fz&POS=CIRCLE+182.63574172891978+39.40572772909787+0.002777777777777778 with ID 140527211388064,\n",
       " Downloaded object from URL https://ws.cadc-ccda.hia-iha.nrc-cnrc.gc.ca/caom2ops/sync?ID=cadc%3ACFHT%2F2417567p.fits.fz&POS=CIRCLE+182.63574172891978+39.40572772909787+0.002777777777777778 with ID 140527211388208,\n",
       " Downloaded object from URL https://ws.cadc-ccda.hia-iha.nrc-cnrc.gc.ca/caom2ops/sync?ID=cadc%3ACFHT%2F2417567w.fits.fz&POS=CIRCLE+182.63574172891978+39.40572772909787+0.002777777777777778 with ID 140527211388352,\n",
       " Downloaded object from URL https://ws.cadc-ccda.hia-iha.nrc-cnrc.gc.ca/caom2ops/sync?ID=cadc%3ACFHT%2F2417567y.fits.fz&POS=CIRCLE+182.63574172891978+39.40572772909787+0.002777777777777778 with ID 140527211388496,\n",
       " Downloaded object from URL https://ws.cadc-ccda.hia-iha.nrc-cnrc.gc.ca/caom2ops/sync?ID=cadc%3ACFHT%2F2417569o.fits.fz&POS=CIRCLE+182.63574172891978+39.40572772909787+0.002777777777777778 with ID 140527211388640,\n",
       " Downloaded object from URL https://ws.cadc-ccda.hia-iha.nrc-cnrc.gc.ca/caom2ops/sync?ID=cadc%3ACFHT%2F2417569p.fits.fz&POS=CIRCLE+182.63574172891978+39.40572772909787+0.002777777777777778 with ID 140527211388784,\n",
       " Downloaded object from URL https://ws.cadc-ccda.hia-iha.nrc-cnrc.gc.ca/caom2ops/sync?ID=cadc%3ACFHT%2F2417569w.fits.fz&POS=CIRCLE+182.63574172891978+39.40572772909787+0.002777777777777778 with ID 140527211307120,\n",
       " Downloaded object from URL https://ws.cadc-ccda.hia-iha.nrc-cnrc.gc.ca/caom2ops/sync?ID=cadc%3ACFHT%2F2417569y.fits.fz&POS=CIRCLE+182.63574172891978+39.40572772909787+0.002777777777777778 with ID 140527211307216,\n",
       " Downloaded object from URL https://ws.cadc-ccda.hia-iha.nrc-cnrc.gc.ca/caom2ops/sync?ID=cadc%3ACFHT%2F2417570o.fits.fz&POS=CIRCLE+182.63574172891978+39.40572772909787+0.002777777777777778 with ID 140527211307360,\n",
       " Downloaded object from URL https://ws.cadc-ccda.hia-iha.nrc-cnrc.gc.ca/caom2ops/sync?ID=cadc%3ACFHT%2F2417570p.fits.fz&POS=CIRCLE+182.63574172891978+39.40572772909787+0.002777777777777778 with ID 140527211307504,\n",
       " Downloaded object from URL https://ws.cadc-ccda.hia-iha.nrc-cnrc.gc.ca/caom2ops/sync?ID=cadc%3ACFHT%2F2417570w.fits.fz&POS=CIRCLE+182.63574172891978+39.40572772909787+0.002777777777777778 with ID 140527211307648,\n",
       " Downloaded object from URL https://ws.cadc-ccda.hia-iha.nrc-cnrc.gc.ca/caom2ops/sync?ID=cadc%3ACFHT%2F2417570y.fits.fz&POS=CIRCLE+182.63574172891978+39.40572772909787+0.002777777777777778 with ID 140527211307792,\n",
       " Downloaded object from URL https://ws.cadc-ccda.hia-iha.nrc-cnrc.gc.ca/caom2ops/sync?ID=cadc%3ACFHT%2F2417572o.fits.fz&POS=CIRCLE+182.63574172891978+39.40572772909787+0.002777777777777778 with ID 140527211307936,\n",
       " Downloaded object from URL https://ws.cadc-ccda.hia-iha.nrc-cnrc.gc.ca/caom2ops/sync?ID=cadc%3ACFHT%2F2417575p.fits.fz&POS=CIRCLE+182.63574172891978+39.40572772909787+0.002777777777777778 with ID 140527211308080,\n",
       " Downloaded object from URL https://ws.cadc-ccda.hia-iha.nrc-cnrc.gc.ca/caom2ops/sync?ID=cadc%3ACFHT%2F2417575w.fits.fz&POS=CIRCLE+182.63574172891978+39.40572772909787+0.002777777777777778 with ID 140527211308224,\n",
       " Downloaded object from URL https://ws.cadc-ccda.hia-iha.nrc-cnrc.gc.ca/caom2ops/sync?ID=cadc%3ACFHT%2F2417576o.fits.fz&POS=CIRCLE+182.63574172891978+39.40572772909787+0.002777777777777778 with ID 140527211308368,\n",
       " Downloaded object from URL https://ws.cadc-ccda.hia-iha.nrc-cnrc.gc.ca/caom2ops/sync?ID=cadc%3ACFHT%2F2417576p.fits.fz&POS=CIRCLE+182.63574172891978+39.40572772909787+0.002777777777777778 with ID 140527211308512,\n",
       " Downloaded object from URL https://ws.cadc-ccda.hia-iha.nrc-cnrc.gc.ca/caom2ops/sync?ID=cadc%3ACFHT%2F2417576w.fits.fz&POS=CIRCLE+182.63574172891978+39.40572772909787+0.002777777777777778 with ID 140527211308656,\n",
       " Downloaded object from URL https://ws.cadc-ccda.hia-iha.nrc-cnrc.gc.ca/caom2ops/sync?ID=cadc%3ACFHT%2F2418035p.fits.fz&POS=CIRCLE+182.63574172891978+39.40572772909787+0.002777777777777778 with ID 140527211308800,\n",
       " Downloaded object from URL https://ws.cadc-ccda.hia-iha.nrc-cnrc.gc.ca/caom2ops/sync?ID=cadc%3ACFHT%2F2418035w.fits.fz&POS=CIRCLE+182.63574172891978+39.40572772909787+0.002777777777777778 with ID 140527211308944,\n",
       " Downloaded object from URL https://ws.cadc-ccda.hia-iha.nrc-cnrc.gc.ca/caom2ops/sync?ID=cadc%3ACFHT%2F2418035y.fits.fz&POS=CIRCLE+182.63574172891978+39.40572772909787+0.002777777777777778 with ID 140527211309088,\n",
       " Downloaded object from URL https://ws.cadc-ccda.hia-iha.nrc-cnrc.gc.ca/caom2ops/sync?ID=cadc%3ACFHT%2F2418036o.fits.fz&POS=CIRCLE+182.63574172891978+39.40572772909787+0.002777777777777778 with ID 140527211309232,\n",
       " Downloaded object from URL https://ws.cadc-ccda.hia-iha.nrc-cnrc.gc.ca/caom2ops/sync?ID=cadc%3ACFHT%2F2418036p.fits.fz&POS=CIRCLE+182.63574172891978+39.40572772909787+0.002777777777777778 with ID 140527211309376,\n",
       " Downloaded object from URL https://ws.cadc-ccda.hia-iha.nrc-cnrc.gc.ca/caom2ops/sync?ID=cadc%3ACFHT%2F2418036w.fits.fz&POS=CIRCLE+182.63574172891978+39.40572772909787+0.002777777777777778 with ID 140527211309520,\n",
       " Downloaded object from URL https://ws.cadc-ccda.hia-iha.nrc-cnrc.gc.ca/caom2ops/sync?ID=cadc%3ACFHT%2F2418036y.fits.fz&POS=CIRCLE+182.63574172891978+39.40572772909787+0.002777777777777778 with ID 140527211309664,\n",
       " Downloaded object from URL https://ws.cadc-ccda.hia-iha.nrc-cnrc.gc.ca/caom2ops/sync?ID=cadc%3ACFHT%2F2418038o.fits.fz&POS=CIRCLE+182.63574172891978+39.40572772909787+0.002777777777777778 with ID 140527211309808,\n",
       " Downloaded object from URL https://ws.cadc-ccda.hia-iha.nrc-cnrc.gc.ca/caom2ops/sync?ID=cadc%3ACFHT%2F2418038p.fits.fz&POS=CIRCLE+182.63574172891978+39.40572772909787+0.002777777777777778 with ID 140527211309952,\n",
       " Downloaded object from URL https://ws.cadc-ccda.hia-iha.nrc-cnrc.gc.ca/caom2ops/sync?ID=cadc%3ACFHT%2F2418038y.fits.fz&POS=CIRCLE+182.63574172891978+39.40572772909787+0.002777777777777778 with ID 140527211310096,\n",
       " Downloaded object from URL https://ws.cadc-ccda.hia-iha.nrc-cnrc.gc.ca/caom2ops/sync?ID=cadc%3ACFHT%2F2418039p.fits.fz&POS=CIRCLE+182.63574172891978+39.40572772909787+0.002777777777777778 with ID 140527211310240,\n",
       " Downloaded object from URL https://ws.cadc-ccda.hia-iha.nrc-cnrc.gc.ca/caom2ops/sync?ID=cadc%3ACFHT%2F2418039w.fits.fz&POS=CIRCLE+182.63574172891978+39.40572772909787+0.002777777777777778 with ID 140527211310384,\n",
       " Downloaded object from URL https://ws.cadc-ccda.hia-iha.nrc-cnrc.gc.ca/caom2ops/sync?ID=cadc%3ACFHT%2F2418042y.fits.fz&POS=CIRCLE+182.63574172891978+39.40572772909787+0.002777777777777778 with ID 140527211310528,\n",
       " Downloaded object from URL https://ws.cadc-ccda.hia-iha.nrc-cnrc.gc.ca/caom2ops/sync?ID=cadc%3ACFHT%2F2418044o.fits.fz&POS=CIRCLE+182.63574172891978+39.40572772909787+0.002777777777777778 with ID 140527211310672,\n",
       " Downloaded object from URL https://ws.cadc-ccda.hia-iha.nrc-cnrc.gc.ca/caom2ops/sync?ID=cadc%3ACFHT%2F2418044p.fits.fz&POS=CIRCLE+182.63574172891978+39.40572772909787+0.002777777777777778 with ID 140527211310816,\n",
       " Downloaded object from URL https://ws.cadc-ccda.hia-iha.nrc-cnrc.gc.ca/caom2ops/sync?ID=cadc%3ACFHT%2F2418044w.fits.fz&POS=CIRCLE+182.63574172891978+39.40572772909787+0.002777777777777778 with ID 140527211310960,\n",
       " Downloaded object from URL https://ws.cadc-ccda.hia-iha.nrc-cnrc.gc.ca/caom2ops/sync?ID=cadc%3ACFHT%2F2418045o.fits.fz&POS=CIRCLE+182.63574172891978+39.40572772909787+0.002777777777777778 with ID 140527211253872,\n",
       " Downloaded object from URL https://ws.cadc-ccda.hia-iha.nrc-cnrc.gc.ca/caom2ops/sync?ID=cadc%3ACFHT%2F2418045p.fits.fz&POS=CIRCLE+182.63574172891978+39.40572772909787+0.002777777777777778 with ID 140527211253968,\n",
       " Downloaded object from URL https://ws.cadc-ccda.hia-iha.nrc-cnrc.gc.ca/caom2ops/sync?ID=cadc%3ACFHT%2F2418045y.fits.fz&POS=CIRCLE+182.63574172891978+39.40572772909787+0.002777777777777778 with ID 140527211254112,\n",
       " Downloaded object from URL https://ws.cadc-ccda.hia-iha.nrc-cnrc.gc.ca/caom2ops/sync?ID=cadc%3ACFHT%2F2418047o.fits.fz&POS=CIRCLE+182.63574172891978+39.40572772909787+0.002777777777777778 with ID 140527211254256,\n",
       " Downloaded object from URL https://ws.cadc-ccda.hia-iha.nrc-cnrc.gc.ca/caom2ops/sync?ID=cadc%3ACFHT%2F2418047s.fits.fz&POS=CIRCLE+182.63574172891978+39.40572772909787+0.002777777777777778 with ID 140527211254400,\n",
       " Downloaded object from URL https://ws.cadc-ccda.hia-iha.nrc-cnrc.gc.ca/caom2ops/sync?ID=cadc%3ACFHT%2F2418047p.fits.fz&POS=CIRCLE+182.63574172891978+39.40572772909787+0.002777777777777778 with ID 140527211254544,\n",
       " Downloaded object from URL https://ws.cadc-ccda.hia-iha.nrc-cnrc.gc.ca/caom2ops/sync?ID=cadc%3ACFHT%2F2418047w.fits.fz&POS=CIRCLE+182.63574172891978+39.40572772909787+0.002777777777777778 with ID 140527211254688,\n",
       " Downloaded object from URL https://ws.cadc-ccda.hia-iha.nrc-cnrc.gc.ca/caom2ops/sync?ID=cadc%3ACFHT%2F2418047y.fits.fz&POS=CIRCLE+182.63574172891978+39.40572772909787+0.002777777777777778 with ID 140527211254832,\n",
       " Downloaded object from URL https://ws.cadc-ccda.hia-iha.nrc-cnrc.gc.ca/caom2ops/sync?ID=cadc%3ACFHT%2F2418050p.fits.fz&POS=CIRCLE+182.63574172891978+39.40572772909787+0.002777777777777778 with ID 140527211254976,\n",
       " Downloaded object from URL https://ws.cadc-ccda.hia-iha.nrc-cnrc.gc.ca/caom2ops/sync?ID=cadc%3ACFHT%2F2418050w.fits.fz&POS=CIRCLE+182.63574172891978+39.40572772909787+0.002777777777777778 with ID 140527211255120,\n",
       " Downloaded object from URL https://ws.cadc-ccda.hia-iha.nrc-cnrc.gc.ca/caom2ops/sync?ID=cadc%3ACFHT%2F2418050y.fits.fz&POS=CIRCLE+182.63574172891978+39.40572772909787+0.002777777777777778 with ID 140527211255264,\n",
       " Downloaded object from URL https://ws.cadc-ccda.hia-iha.nrc-cnrc.gc.ca/caom2ops/sync?ID=cadc%3ACFHT%2F2418052o.fits.fz&POS=CIRCLE+182.63574172891978+39.40572772909787+0.002777777777777778 with ID 140527211255408,\n",
       " Downloaded object from URL https://ws.cadc-ccda.hia-iha.nrc-cnrc.gc.ca/caom2ops/sync?ID=cadc%3ACFHT%2F2418052p.fits.fz&POS=CIRCLE+182.63574172891978+39.40572772909787+0.002777777777777778 with ID 140527211255552,\n",
       " Downloaded object from URL https://ws.cadc-ccda.hia-iha.nrc-cnrc.gc.ca/caom2ops/sync?ID=cadc%3ACFHT%2F2418053w.fits.fz&POS=CIRCLE+182.63574172891978+39.40572772909787+0.002777777777777778 with ID 140527211255696,\n",
       " Downloaded object from URL https://ws.cadc-ccda.hia-iha.nrc-cnrc.gc.ca/caom2ops/sync?ID=cadc%3ACFHT%2F2418053y.fits.fz&POS=CIRCLE+182.63574172891978+39.40572772909787+0.002777777777777778 with ID 140527211255840,\n",
       " Downloaded object from URL https://ws.cadc-ccda.hia-iha.nrc-cnrc.gc.ca/caom2ops/sync?ID=cadc%3ACFHT%2F2418055p.fits.fz&POS=CIRCLE+182.63574172891978+39.40572772909787+0.002777777777777778 with ID 140527211255984,\n",
       " Downloaded object from URL https://ws.cadc-ccda.hia-iha.nrc-cnrc.gc.ca/caom2ops/sync?ID=cadc%3ACFHT%2F2418055w.fits.fz&POS=CIRCLE+182.63574172891978+39.40572772909787+0.002777777777777778 with ID 140527211256128,\n",
       " Downloaded object from URL https://ws.cadc-ccda.hia-iha.nrc-cnrc.gc.ca/caom2ops/sync?ID=cadc%3ACFHT%2F2418055y.fits.fz&POS=CIRCLE+182.63574172891978+39.40572772909787+0.002777777777777778 with ID 140527211256272,\n",
       " Downloaded object from URL https://ws.cadc-ccda.hia-iha.nrc-cnrc.gc.ca/caom2ops/sync?ID=cadc%3ACFHT%2F2418058o.fits.fz&POS=CIRCLE+182.63574172891978+39.40572772909787+0.002777777777777778 with ID 140527211256416,\n",
       " Downloaded object from URL https://ws.cadc-ccda.hia-iha.nrc-cnrc.gc.ca/caom2ops/sync?ID=cadc%3ACFHT%2F2418058p.fits.fz&POS=CIRCLE+182.63574172891978+39.40572772909787+0.002777777777777778 with ID 140527211256560,\n",
       " Downloaded object from URL https://ws.cadc-ccda.hia-iha.nrc-cnrc.gc.ca/caom2ops/sync?ID=cadc%3ACFHT%2F2418058w.fits.fz&POS=CIRCLE+182.63574172891978+39.40572772909787+0.002777777777777778 with ID 140527211256704,\n",
       " Downloaded object from URL https://ws.cadc-ccda.hia-iha.nrc-cnrc.gc.ca/caom2ops/sync?ID=cadc%3ACFHT%2F2418058y.fits.fz&POS=CIRCLE+182.63574172891978+39.40572772909787+0.002777777777777778 with ID 140527211256848,\n",
       " Downloaded object from URL https://ws.cadc-ccda.hia-iha.nrc-cnrc.gc.ca/caom2ops/sync?ID=cadc%3ACFHT%2F2418059o.fits.fz&POS=CIRCLE+182.63574172891978+39.40572772909787+0.002777777777777778 with ID 140527211256992,\n",
       " Downloaded object from URL https://ws.cadc-ccda.hia-iha.nrc-cnrc.gc.ca/caom2ops/sync?ID=cadc%3ACFHT%2F2418059p.fits.fz&POS=CIRCLE+182.63574172891978+39.40572772909787+0.002777777777777778 with ID 140527211257136,\n",
       " Downloaded object from URL https://ws.cadc-ccda.hia-iha.nrc-cnrc.gc.ca/caom2ops/sync?ID=cadc%3ACFHT%2F2418059w.fits.fz&POS=CIRCLE+182.63574172891978+39.40572772909787+0.002777777777777778 with ID 140527211257280,\n",
       " Downloaded object from URL https://ws.cadc-ccda.hia-iha.nrc-cnrc.gc.ca/caom2ops/sync?ID=cadc%3ACFHT%2F2418059y.fits.fz&POS=CIRCLE+182.63574172891978+39.40572772909787+0.002777777777777778 with ID 140527211257424,\n",
       " Downloaded object from URL https://ws.cadc-ccda.hia-iha.nrc-cnrc.gc.ca/caom2ops/sync?ID=cadc%3ACFHT%2F2418061g.fits.fz&POS=CIRCLE+182.63574172891978+39.40572772909787+0.002777777777777778 with ID 140527211257568,\n",
       " Downloaded object from URL https://ws.cadc-ccda.hia-iha.nrc-cnrc.gc.ca/caom2ops/sync?ID=cadc%3ACFHT%2F2418061p.fits.fz&POS=CIRCLE+182.63574172891978+39.40572772909787+0.002777777777777778 with ID 140527211257712,\n",
       " Downloaded object from URL https://ws.cadc-ccda.hia-iha.nrc-cnrc.gc.ca/caom2ops/sync?ID=cadc%3ACFHT%2F2418061w.fits.fz&POS=CIRCLE+182.63574172891978+39.40572772909787+0.002777777777777778 with ID 140527211266160,\n",
       " Downloaded object from URL https://ws.cadc-ccda.hia-iha.nrc-cnrc.gc.ca/caom2ops/sync?ID=cadc%3ACFHT%2F2418061y.fits.fz&POS=CIRCLE+182.63574172891978+39.40572772909787+0.002777777777777778 with ID 140527211266256,\n",
       " Downloaded object from URL https://ws.cadc-ccda.hia-iha.nrc-cnrc.gc.ca/caom2ops/sync?ID=cadc%3ACFHT%2F2418065o.fits.fz&POS=CIRCLE+182.63574172891978+39.40572772909787+0.002777777777777778 with ID 140527211266400,\n",
       " Downloaded object from URL https://ws.cadc-ccda.hia-iha.nrc-cnrc.gc.ca/caom2ops/sync?ID=cadc%3ACFHT%2F2418065p.fits.fz&POS=CIRCLE+182.63574172891978+39.40572772909787+0.002777777777777778 with ID 140527211266544,\n",
       " Downloaded object from URL https://ws.cadc-ccda.hia-iha.nrc-cnrc.gc.ca/caom2ops/sync?ID=cadc%3ACFHT%2F2418067o.fits.fz&POS=CIRCLE+182.63574172891978+39.40572772909787+0.002777777777777778 with ID 140527211266688,\n",
       " Downloaded object from URL https://ws.cadc-ccda.hia-iha.nrc-cnrc.gc.ca/caom2ops/sync?ID=cadc%3ACFHT%2F2418067p.fits.fz&POS=CIRCLE+182.63574172891978+39.40572772909787+0.002777777777777778 with ID 140527211266832,\n",
       " Downloaded object from URL https://ws.cadc-ccda.hia-iha.nrc-cnrc.gc.ca/caom2ops/sync?ID=cadc%3ACFHT%2F2418067w.fits.fz&POS=CIRCLE+182.63574172891978+39.40572772909787+0.002777777777777778 with ID 140527211266976,\n",
       " Downloaded object from URL https://ws.cadc-ccda.hia-iha.nrc-cnrc.gc.ca/caom2ops/sync?ID=cadc%3ACFHT%2F2418067y.fits.fz&POS=CIRCLE+182.63574172891978+39.40572772909787+0.002777777777777778 with ID 140527211267120,\n",
       " Downloaded object from URL https://ws.cadc-ccda.hia-iha.nrc-cnrc.gc.ca/caom2ops/sync?ID=cadc%3ACFHT%2F2418068o.fits.fz&POS=CIRCLE+182.63574172891978+39.40572772909787+0.002777777777777778 with ID 140527211267264,\n",
       " Downloaded object from URL https://ws.cadc-ccda.hia-iha.nrc-cnrc.gc.ca/caom2ops/sync?ID=cadc%3ACFHT%2F2418068p.fits.fz&POS=CIRCLE+182.63574172891978+39.40572772909787+0.002777777777777778 with ID 140527211267408,\n",
       " Downloaded object from URL https://ws.cadc-ccda.hia-iha.nrc-cnrc.gc.ca/caom2ops/sync?ID=cadc%3ACFHT%2F2418068y.fits.fz&POS=CIRCLE+182.63574172891978+39.40572772909787+0.002777777777777778 with ID 140527211267552,\n",
       " Downloaded object from URL https://ws.cadc-ccda.hia-iha.nrc-cnrc.gc.ca/caom2ops/sync?ID=cadc%3ACFHT%2F2418070o.fits.fz&POS=CIRCLE+182.63574172891978+39.40572772909787+0.002777777777777778 with ID 140527211267696,\n",
       " Downloaded object from URL https://ws.cadc-ccda.hia-iha.nrc-cnrc.gc.ca/caom2ops/sync?ID=cadc%3ACFHT%2F2418070p.fits.fz&POS=CIRCLE+182.63574172891978+39.40572772909787+0.002777777777777778 with ID 140527211267840,\n",
       " Downloaded object from URL https://ws.cadc-ccda.hia-iha.nrc-cnrc.gc.ca/caom2ops/sync?ID=cadc%3ACFHT%2F2418070w.fits.fz&POS=CIRCLE+182.63574172891978+39.40572772909787+0.002777777777777778 with ID 140527211267984,\n",
       " Downloaded object from URL https://ws.cadc-ccda.hia-iha.nrc-cnrc.gc.ca/caom2ops/sync?ID=cadc%3ACFHT%2F2418070y.fits.fz&POS=CIRCLE+182.63574172891978+39.40572772909787+0.002777777777777778 with ID 140527211268128,\n",
       " Downloaded object from URL https://ws.cadc-ccda.hia-iha.nrc-cnrc.gc.ca/caom2ops/sync?ID=cadc%3ACFHT%2F2418074o.fits.fz&POS=CIRCLE+182.63574172891978+39.40572772909787+0.002777777777777778 with ID 140527211268272,\n",
       " Downloaded object from URL https://ws.cadc-ccda.hia-iha.nrc-cnrc.gc.ca/caom2ops/sync?ID=cadc%3ACFHT%2F2418074s.fits.fz&POS=CIRCLE+182.63574172891978+39.40572772909787+0.002777777777777778 with ID 140527211268416,\n",
       " Downloaded object from URL https://ws.cadc-ccda.hia-iha.nrc-cnrc.gc.ca/caom2ops/sync?ID=cadc%3ACFHT%2F2418074p.fits.fz&POS=CIRCLE+182.63574172891978+39.40572772909787+0.002777777777777778 with ID 140527211268560,\n",
       " Downloaded object from URL https://ws.cadc-ccda.hia-iha.nrc-cnrc.gc.ca/caom2ops/sync?ID=cadc%3ACFHT%2F2418074w.fits.fz&POS=CIRCLE+182.63574172891978+39.40572772909787+0.002777777777777778 with ID 140527211268704,\n",
       " Downloaded object from URL https://ws.cadc-ccda.hia-iha.nrc-cnrc.gc.ca/caom2ops/sync?ID=cadc%3ACFHT%2F2418076w.fits.fz&POS=CIRCLE+182.63574172891978+39.40572772909787+0.002777777777777778 with ID 140527211268848,\n",
       " Downloaded object from URL https://ws.cadc-ccda.hia-iha.nrc-cnrc.gc.ca/caom2ops/sync?ID=cadc%3ACFHT%2F2418076y.fits.fz&POS=CIRCLE+182.63574172891978+39.40572772909787+0.002777777777777778 with ID 140527211268992,\n",
       " Downloaded object from URL https://ws.cadc-ccda.hia-iha.nrc-cnrc.gc.ca/caom2ops/sync?ID=cadc%3ACFHT%2F2418077o.fits.fz&POS=CIRCLE+182.63574172891978+39.40572772909787+0.002777777777777778 with ID 140527211269136,\n",
       " Downloaded object from URL https://ws.cadc-ccda.hia-iha.nrc-cnrc.gc.ca/caom2ops/sync?ID=cadc%3ACFHT%2F2418077p.fits.fz&POS=CIRCLE+182.63574172891978+39.40572772909787+0.002777777777777778 with ID 140527211269280,\n",
       " Downloaded object from URL https://ws.cadc-ccda.hia-iha.nrc-cnrc.gc.ca/caom2ops/sync?ID=cadc%3ACFHT%2F2418077w.fits.fz&POS=CIRCLE+182.63574172891978+39.40572772909787+0.002777777777777778 with ID 140527211269424,\n",
       " Downloaded object from URL https://ws.cadc-ccda.hia-iha.nrc-cnrc.gc.ca/caom2ops/sync?ID=cadc%3ACFHT%2F2418077y.fits.fz&POS=CIRCLE+182.63574172891978+39.40572772909787+0.002777777777777778 with ID 140527211269568,\n",
       " Downloaded object from URL https://ws.cadc-ccda.hia-iha.nrc-cnrc.gc.ca/caom2ops/sync?ID=cadc%3ACFHT%2F2418079o.fits.fz&POS=CIRCLE+182.63574172891978+39.40572772909787+0.002777777777777778 with ID 140527211269712,\n",
       " Downloaded object from URL https://ws.cadc-ccda.hia-iha.nrc-cnrc.gc.ca/caom2ops/sync?ID=cadc%3ACFHT%2F2418079p.fits.fz&POS=CIRCLE+182.63574172891978+39.40572772909787+0.002777777777777778 with ID 140527211269856,\n",
       " Downloaded object from URL https://ws.cadc-ccda.hia-iha.nrc-cnrc.gc.ca/caom2ops/sync?ID=cadc%3ACFHT%2F2418079y.fits.fz&POS=CIRCLE+182.63574172891978+39.40572772909787+0.002777777777777778 with ID 140527211270000,\n",
       " Downloaded object from URL https://ws.cadc-ccda.hia-iha.nrc-cnrc.gc.ca/caom2ops/sync?ID=cadc%3ACFHT%2F2418082o.fits.fz&POS=CIRCLE+182.63574172891978+39.40572772909787+0.002777777777777778 with ID 140527210737776,\n",
       " Downloaded object from URL https://ws.cadc-ccda.hia-iha.nrc-cnrc.gc.ca/caom2ops/sync?ID=cadc%3ACFHT%2F2418082p.fits.fz&POS=CIRCLE+182.63574172891978+39.40572772909787+0.002777777777777778 with ID 140527210737872,\n",
       " Downloaded object from URL https://ws.cadc-ccda.hia-iha.nrc-cnrc.gc.ca/caom2ops/sync?ID=cadc%3ACFHT%2F2418082w.fits.fz&POS=CIRCLE+182.63574172891978+39.40572772909787+0.002777777777777778 with ID 140527210738016,\n",
       " Downloaded object from URL https://ws.cadc-ccda.hia-iha.nrc-cnrc.gc.ca/caom2ops/sync?ID=cadc%3ACFHT%2F2418082y.fits.fz&POS=CIRCLE+182.63574172891978+39.40572772909787+0.002777777777777778 with ID 140527210738160,\n",
       " Downloaded object from URL https://ws.cadc-ccda.hia-iha.nrc-cnrc.gc.ca/caom2ops/sync?ID=cadc%3ACFHT%2F2418084o.fits.fz&POS=CIRCLE+182.63574172891978+39.40572772909787+0.002777777777777778 with ID 140525294970864,\n",
       " Downloaded object from URL https://ws.cadc-ccda.hia-iha.nrc-cnrc.gc.ca/caom2ops/sync?ID=cadc%3ACFHT%2F2418084p.fits.fz&POS=CIRCLE+182.63574172891978+39.40572772909787+0.002777777777777778 with ID 140525294970816,\n",
       " Downloaded object from URL https://ws.cadc-ccda.hia-iha.nrc-cnrc.gc.ca/caom2ops/sync?ID=cadc%3ACFHT%2F2418084w.fits.fz&POS=CIRCLE+182.63574172891978+39.40572772909787+0.002777777777777778 with ID 140525294969136,\n",
       " Downloaded object from URL https://ws.cadc-ccda.hia-iha.nrc-cnrc.gc.ca/caom2ops/sync?ID=cadc%3ACFHT%2F2418084y.fits.fz&POS=CIRCLE+182.63574172891978+39.40572772909787+0.002777777777777778 with ID 140525294970000,\n",
       " Downloaded object from URL https://ws.cadc-ccda.hia-iha.nrc-cnrc.gc.ca/caom2ops/sync?ID=cadc%3ACFHT%2F2418085y.fits.fz&POS=CIRCLE+182.63574172891978+39.40572772909787+0.002777777777777778 with ID 140525294968992,\n",
       " Downloaded object from URL https://ws.cadc-ccda.hia-iha.nrc-cnrc.gc.ca/caom2ops/sync?ID=cadc%3ACFHT%2F2418087p.fits.fz&POS=CIRCLE+182.63574172891978+39.40572772909787+0.002777777777777778 with ID 140525295158704,\n",
       " Downloaded object from URL https://ws.cadc-ccda.hia-iha.nrc-cnrc.gc.ca/caom2ops/sync?ID=cadc%3ACFHT%2F2418087w.fits.fz&POS=CIRCLE+182.63574172891978+39.40572772909787+0.002777777777777778 with ID 140525295158464,\n",
       " Downloaded object from URL https://ws.cadc-ccda.hia-iha.nrc-cnrc.gc.ca/caom2ops/sync?ID=cadc%3ACFHT%2F2418087y.fits.fz&POS=CIRCLE+182.63574172891978+39.40572772909787+0.002777777777777778 with ID 140525295158992,\n",
       " Downloaded object from URL https://ws.cadc-ccda.hia-iha.nrc-cnrc.gc.ca/caom2ops/sync?ID=cadc%3ACFHT%2F2418090o.fits.fz&POS=CIRCLE+182.63574172891978+39.40572772909787+0.002777777777777778 with ID 140525295159760,\n",
       " Downloaded object from URL https://ws.cadc-ccda.hia-iha.nrc-cnrc.gc.ca/caom2ops/sync?ID=cadc%3ACFHT%2F2418090w.fits.fz&POS=CIRCLE+182.63574172891978+39.40572772909787+0.002777777777777778 with ID 140525295159952,\n",
       " Downloaded object from URL https://ws.cadc-ccda.hia-iha.nrc-cnrc.gc.ca/caom2ops/sync?ID=cadc%3ACFHT%2F2418090y.fits.fz&POS=CIRCLE+182.63574172891978+39.40572772909787+0.002777777777777778 with ID 140525295160912,\n",
       " Downloaded object from URL https://ws.cadc-ccda.hia-iha.nrc-cnrc.gc.ca/caom2ops/sync?ID=cadc%3ACFHT%2F2418092o.fits.fz&POS=CIRCLE+182.63574172891978+39.40572772909787+0.002777777777777778 with ID 140525295159040,\n",
       " Downloaded object from URL https://ws.cadc-ccda.hia-iha.nrc-cnrc.gc.ca/caom2ops/sync?ID=cadc%3ACFHT%2F2418092p.fits.fz&POS=CIRCLE+182.63574172891978+39.40572772909787+0.002777777777777778 with ID 140525295158896,\n",
       " Downloaded object from URL https://ws.cadc-ccda.hia-iha.nrc-cnrc.gc.ca/caom2ops/sync?ID=cadc%3ACFHT%2F2418092w.fits.fz&POS=CIRCLE+182.63574172891978+39.40572772909787+0.002777777777777778 with ID 140525295161200,\n",
       " Downloaded object from URL https://ws.cadc-ccda.hia-iha.nrc-cnrc.gc.ca/caom2ops/sync?ID=cadc%3ACFHT%2F2418092y.fits.fz&POS=CIRCLE+182.63574172891978+39.40572772909787+0.002777777777777778 with ID 140525295161056,\n",
       " Downloaded object from URL https://ws.cadc-ccda.hia-iha.nrc-cnrc.gc.ca/caom2ops/sync?ID=cadc%3ACFHT%2F2418093o.fits.fz&POS=CIRCLE+182.63574172891978+39.40572772909787+0.002777777777777778 with ID 140525295160864,\n",
       " Downloaded object from URL https://ws.cadc-ccda.hia-iha.nrc-cnrc.gc.ca/caom2ops/sync?ID=cadc%3ACFHT%2F2418093p.fits.fz&POS=CIRCLE+182.63574172891978+39.40572772909787+0.002777777777777778 with ID 140525295160720,\n",
       " Downloaded object from URL https://ws.cadc-ccda.hia-iha.nrc-cnrc.gc.ca/caom2ops/sync?ID=cadc%3ACFHT%2F2418093s.fits.fz&POS=CIRCLE+182.63574172891978+39.40572772909787+0.002777777777777778 with ID 140525295160432,\n",
       " Downloaded object from URL https://ws.cadc-ccda.hia-iha.nrc-cnrc.gc.ca/caom2ops/sync?ID=cadc%3ACFHT%2F2418093w.fits.fz&POS=CIRCLE+182.63574172891978+39.40572772909787+0.002777777777777778 with ID 140525295159808,\n",
       " Downloaded object from URL https://ws.cadc-ccda.hia-iha.nrc-cnrc.gc.ca/caom2ops/sync?ID=cadc%3ACFHT%2F2418093y.fits.fz&POS=CIRCLE+182.63574172891978+39.40572772909787+0.002777777777777778 with ID 140525295160624,\n",
       " Downloaded object from URL https://ws.cadc-ccda.hia-iha.nrc-cnrc.gc.ca/caom2ops/sync?ID=cadc%3ACFHT%2F2418095o.fits.fz&POS=CIRCLE+182.63574172891978+39.40572772909787+0.002777777777777778 with ID 140525295159568,\n",
       " Downloaded object from URL https://ws.cadc-ccda.hia-iha.nrc-cnrc.gc.ca/caom2ops/sync?ID=cadc%3ACFHT%2F2418095y.fits.fz&POS=CIRCLE+182.63574172891978+39.40572772909787+0.002777777777777778 with ID 140525295159472,\n",
       " Downloaded object from URL https://ws.cadc-ccda.hia-iha.nrc-cnrc.gc.ca/caom2ops/sync?ID=cadc%3ACFHT%2F2418098o.fits.fz&POS=CIRCLE+182.63574172891978+39.40572772909787+0.002777777777777778 with ID 140525295159328,\n",
       " Downloaded object from URL https://ws.cadc-ccda.hia-iha.nrc-cnrc.gc.ca/caom2ops/sync?ID=cadc%3ACFHT%2F2418098p.fits.fz&POS=CIRCLE+182.63574172891978+39.40572772909787+0.002777777777777778 with ID 140525295158272,\n",
       " Downloaded object from URL https://ws.cadc-ccda.hia-iha.nrc-cnrc.gc.ca/caom2ops/sync?ID=cadc%3ACFHT%2F2418098w.fits.fz&POS=CIRCLE+182.63574172891978+39.40572772909787+0.002777777777777778 with ID 140525295157936,\n",
       " Downloaded object from URL https://ws.cadc-ccda.hia-iha.nrc-cnrc.gc.ca/caom2ops/sync?ID=cadc%3ACFHT%2F2418098y.fits.fz&POS=CIRCLE+182.63574172891978+39.40572772909787+0.002777777777777778 with ID 140525295157888,\n",
       " Downloaded object from URL https://ws.cadc-ccda.hia-iha.nrc-cnrc.gc.ca/caom2ops/sync?ID=cadc%3ACFHT%2F2418100p.fits.fz&POS=CIRCLE+182.63574172891978+39.40572772909787+0.002777777777777778 with ID 140525295157744,\n",
       " Downloaded object from URL https://ws.cadc-ccda.hia-iha.nrc-cnrc.gc.ca/caom2ops/sync?ID=cadc%3ACFHT%2F2418100w.fits.fz&POS=CIRCLE+182.63574172891978+39.40572772909787+0.002777777777777778 with ID 140525295157456,\n",
       " Downloaded object from URL https://ws.cadc-ccda.hia-iha.nrc-cnrc.gc.ca/caom2ops/sync?ID=cadc%3ACFHT%2F2418100y.fits.fz&POS=CIRCLE+182.63574172891978+39.40572772909787+0.002777777777777778 with ID 140525295157600,\n",
       " Downloaded object from URL https://ws.cadc-ccda.hia-iha.nrc-cnrc.gc.ca/caom2ops/sync?ID=cadc%3ACFHT%2F2418101o.fits.fz&POS=CIRCLE+182.63574172891978+39.40572772909787+0.002777777777777778 with ID 140525294967200,\n",
       " Downloaded object from URL https://ws.cadc-ccda.hia-iha.nrc-cnrc.gc.ca/caom2ops/sync?ID=cadc%3ACFHT%2F2418101p.fits.fz&POS=CIRCLE+182.63574172891978+39.40572772909787+0.002777777777777778 with ID 140525294967344,\n",
       " Downloaded object from URL https://ws.cadc-ccda.hia-iha.nrc-cnrc.gc.ca/caom2ops/sync?ID=cadc%3ACFHT%2F2418101w.fits.fz&POS=CIRCLE+182.63574172891978+39.40572772909787+0.002777777777777778 with ID 140525294965856,\n",
       " Downloaded object from URL https://ws.cadc-ccda.hia-iha.nrc-cnrc.gc.ca/caom2ops/sync?ID=cadc%3ACFHT%2F2418101y.fits.fz&POS=CIRCLE+182.63574172891978+39.40572772909787+0.002777777777777778 with ID 140525294966096,\n",
       " Downloaded object from URL https://ws.cadc-ccda.hia-iha.nrc-cnrc.gc.ca/caom2ops/sync?ID=cadc%3ACFHT%2F2418103o.fits.fz&POS=CIRCLE+182.63574172891978+39.40572772909787+0.002777777777777778 with ID 140525294967440,\n",
       " Downloaded object from URL https://ws.cadc-ccda.hia-iha.nrc-cnrc.gc.ca/caom2ops/sync?ID=cadc%3ACFHT%2F2418103p.fits.fz&POS=CIRCLE+182.63574172891978+39.40572772909787+0.002777777777777778 with ID 140525294966432,\n",
       " Downloaded object from URL https://ws.cadc-ccda.hia-iha.nrc-cnrc.gc.ca/caom2ops/sync?ID=cadc%3ACFHT%2F2418103w.fits.fz&POS=CIRCLE+182.63574172891978+39.40572772909787+0.002777777777777778 with ID 140525294966288,\n",
       " Downloaded object from URL https://ws.cadc-ccda.hia-iha.nrc-cnrc.gc.ca/caom2ops/sync?ID=cadc%3ACFHT%2F2418103y.fits.fz&POS=CIRCLE+182.63574172891978+39.40572772909787+0.002777777777777778 with ID 140525294968688,\n",
       " Downloaded object from URL https://ws.cadc-ccda.hia-iha.nrc-cnrc.gc.ca/caom2ops/sync?ID=cadc%3ACFHT%2F2418106o.fits.fz&POS=CIRCLE+182.63574172891978+39.40572772909787+0.002777777777777778 with ID 140525294968496,\n",
       " Downloaded object from URL https://ws.cadc-ccda.hia-iha.nrc-cnrc.gc.ca/caom2ops/sync?ID=cadc%3ACFHT%2F2418108o.fits.fz&POS=CIRCLE+182.63574172891978+39.40572772909787+0.002777777777777778 with ID 140525294968160,\n",
       " Downloaded object from URL https://ws.cadc-ccda.hia-iha.nrc-cnrc.gc.ca/caom2ops/sync?ID=cadc%3ACFHT%2F2418108p.fits.fz&POS=CIRCLE+182.63574172891978+39.40572772909787+0.002777777777777778 with ID 140525294967104,\n",
       " Downloaded object from URL https://ws.cadc-ccda.hia-iha.nrc-cnrc.gc.ca/caom2ops/sync?ID=cadc%3ACFHT%2F2418108w.fits.fz&POS=CIRCLE+182.63574172891978+39.40572772909787+0.002777777777777778 with ID 140525294967776,\n",
       " Downloaded object from URL https://ws.cadc-ccda.hia-iha.nrc-cnrc.gc.ca/caom2ops/sync?ID=cadc%3ACFHT%2F2418108y.fits.fz&POS=CIRCLE+182.63574172891978+39.40572772909787+0.002777777777777778 with ID 140525294967920,\n",
       " Downloaded object from URL https://ws.cadc-ccda.hia-iha.nrc-cnrc.gc.ca/caom2ops/sync?ID=cadc%3ACFHT%2F2418109o.fits.fz&POS=CIRCLE+182.63574172891978+39.40572772909787+0.002777777777777778 with ID 140525294966528,\n",
       " Downloaded object from URL https://ws.cadc-ccda.hia-iha.nrc-cnrc.gc.ca/caom2ops/sync?ID=cadc%3ACFHT%2F2418109p.fits.fz&POS=CIRCLE+182.63574172891978+39.40572772909787+0.002777777777777778 with ID 140525294966480,\n",
       " Downloaded object from URL https://ws.cadc-ccda.hia-iha.nrc-cnrc.gc.ca/caom2ops/sync?ID=cadc%3ACFHT%2F2418109y.fits.fz&POS=CIRCLE+182.63574172891978+39.40572772909787+0.002777777777777778 with ID 140525294966912,\n",
       " Downloaded object from URL https://ws.cadc-ccda.hia-iha.nrc-cnrc.gc.ca/caom2ops/sync?ID=cadc%3ACFHT%2F2418111o.fits.fz&POS=CIRCLE+182.63574172891978+39.40572772909787+0.002777777777777778 with ID 140525294965568,\n",
       " Downloaded object from URL https://ws.cadc-ccda.hia-iha.nrc-cnrc.gc.ca/caom2ops/sync?ID=cadc%3ACFHT%2F2418111p.fits.fz&POS=CIRCLE+182.63574172891978+39.40572772909787+0.002777777777777778 with ID 140525294965616,\n",
       " Downloaded object from URL https://ws.cadc-ccda.hia-iha.nrc-cnrc.gc.ca/caom2ops/sync?ID=cadc%3ACFHT%2F2418111w.fits.fz&POS=CIRCLE+182.63574172891978+39.40572772909787+0.002777777777777778 with ID 140525294965424,\n",
       " Downloaded object from URL https://ws.cadc-ccda.hia-iha.nrc-cnrc.gc.ca/caom2ops/sync?ID=cadc%3ACFHT%2F2418111y.fits.fz&POS=CIRCLE+182.63574172891978+39.40572772909787+0.002777777777777778 with ID 140525294965040,\n",
       " Downloaded object from URL https://ws.cadc-ccda.hia-iha.nrc-cnrc.gc.ca/caom2ops/sync?ID=cadc%3ACFHT%2F2418114o.fits.fz&POS=CIRCLE+182.63574172891978+39.40572772909787+0.002777777777777778 with ID 140525294964944,\n",
       " Downloaded object from URL https://ws.cadc-ccda.hia-iha.nrc-cnrc.gc.ca/caom2ops/sync?ID=cadc%3ACFHT%2F2418114p.fits.fz&POS=CIRCLE+182.63574172891978+39.40572772909787+0.002777777777777778 with ID 140525294964992,\n",
       " Downloaded object from URL https://ws.cadc-ccda.hia-iha.nrc-cnrc.gc.ca/caom2ops/sync?ID=cadc%3ACFHT%2F2418114w.fits.fz&POS=CIRCLE+182.63574172891978+39.40572772909787+0.002777777777777778 with ID 140525295059584,\n",
       " Downloaded object from URL https://ws.cadc-ccda.hia-iha.nrc-cnrc.gc.ca/caom2ops/sync?ID=cadc%3ACFHT%2F2418114y.fits.fz&POS=CIRCLE+182.63574172891978+39.40572772909787+0.002777777777777778 with ID 140525295059104,\n",
       " Downloaded object from URL https://ws.cadc-ccda.hia-iha.nrc-cnrc.gc.ca/caom2ops/sync?ID=cadc%3ACFHT%2F2418117o.fits.fz&POS=CIRCLE+182.63574172891978+39.40572772909787+0.002777777777777778 with ID 140525295061408,\n",
       " Downloaded object from URL https://ws.cadc-ccda.hia-iha.nrc-cnrc.gc.ca/caom2ops/sync?ID=cadc%3ACFHT%2F2418117w.fits.fz&POS=CIRCLE+182.63574172891978+39.40572772909787+0.002777777777777778 with ID 140525295061168,\n",
       " Downloaded object from URL https://ws.cadc-ccda.hia-iha.nrc-cnrc.gc.ca/caom2ops/sync?ID=cadc%3ACFHT%2F2418118w.fits.fz&POS=CIRCLE+182.63574172891978+39.40572772909787+0.002777777777777778 with ID 140525295061744,\n",
       " Downloaded object from URL https://ws.cadc-ccda.hia-iha.nrc-cnrc.gc.ca/caom2ops/sync?ID=cadc%3ACFHT%2F2418118y.fits.fz&POS=CIRCLE+182.63574172891978+39.40572772909787+0.002777777777777778 with ID 140525295060928,\n",
       " Downloaded object from URL https://ws.cadc-ccda.hia-iha.nrc-cnrc.gc.ca/caom2ops/sync?ID=cadc%3ACFHT%2F2418120o.fits.fz&POS=CIRCLE+182.63574172891978+39.40572772909787+0.002777777777777778 with ID 140525295062752,\n",
       " Downloaded object from URL https://ws.cadc-ccda.hia-iha.nrc-cnrc.gc.ca/caom2ops/sync?ID=cadc%3ACFHT%2F2418120p.fits.fz&POS=CIRCLE+182.63574172891978+39.40572772909787+0.002777777777777778 with ID 140525295062704,\n",
       " Downloaded object from URL https://ws.cadc-ccda.hia-iha.nrc-cnrc.gc.ca/caom2ops/sync?ID=cadc%3ACFHT%2F2418120w.fits.fz&POS=CIRCLE+182.63574172891978+39.40572772909787+0.002777777777777778 with ID 140525295062560,\n",
       " Downloaded object from URL https://ws.cadc-ccda.hia-iha.nrc-cnrc.gc.ca/caom2ops/sync?ID=cadc%3ACFHT%2F2418120y.fits.fz&POS=CIRCLE+182.63574172891978+39.40572772909787+0.002777777777777778 with ID 140525295062368,\n",
       " Downloaded object from URL https://ws.cadc-ccda.hia-iha.nrc-cnrc.gc.ca/caom2ops/sync?ID=cadc%3ACFHT%2F2418122o.fits.fz&POS=CIRCLE+182.63574172891978+39.40572772909787+0.002777777777777778 with ID 140525295062224,\n",
       " Downloaded object from URL https://ws.cadc-ccda.hia-iha.nrc-cnrc.gc.ca/caom2ops/sync?ID=cadc%3ACFHT%2F2418122w.fits.fz&POS=CIRCLE+182.63574172891978+39.40572772909787+0.002777777777777778 with ID 140525295061936,\n",
       " Downloaded object from URL https://ws.cadc-ccda.hia-iha.nrc-cnrc.gc.ca/caom2ops/sync?ID=cadc%3ACFHT%2F2418122y.fits.fz&POS=CIRCLE+182.63574172891978+39.40572772909787+0.002777777777777778 with ID 140525295062080,\n",
       " Downloaded object from URL https://ws.cadc-ccda.hia-iha.nrc-cnrc.gc.ca/caom2ops/sync?ID=cadc%3ACFHT%2F2418125o.fits.fz&POS=CIRCLE+182.63574172891978+39.40572772909787+0.002777777777777778 with ID 140525295061648,\n",
       " Downloaded object from URL https://ws.cadc-ccda.hia-iha.nrc-cnrc.gc.ca/caom2ops/sync?ID=cadc%3ACFHT%2F2418125p.fits.fz&POS=CIRCLE+182.63574172891978+39.40572772909787+0.002777777777777778 with ID 140525295060976,\n",
       " Downloaded object from URL https://ws.cadc-ccda.hia-iha.nrc-cnrc.gc.ca/caom2ops/sync?ID=cadc%3ACFHT%2F2418125s.fits.fz&POS=CIRCLE+182.63574172891978+39.40572772909787+0.002777777777777778 with ID 140525295060832,\n",
       " Downloaded object from URL https://ws.cadc-ccda.hia-iha.nrc-cnrc.gc.ca/caom2ops/sync?ID=cadc%3ACFHT%2F2418125w.fits.fz&POS=CIRCLE+182.63574172891978+39.40572772909787+0.002777777777777778 with ID 140525295060448,\n",
       " Downloaded object from URL https://ws.cadc-ccda.hia-iha.nrc-cnrc.gc.ca/caom2ops/sync?ID=cadc%3ACFHT%2F2418125y.fits.fz&POS=CIRCLE+182.63574172891978+39.40572772909787+0.002777777777777778 with ID 140525295060304,\n",
       " Downloaded object from URL https://ws.cadc-ccda.hia-iha.nrc-cnrc.gc.ca/caom2ops/sync?ID=cadc%3ACFHT%2F2418126o.fits.fz&POS=CIRCLE+182.63574172891978+39.40572772909787+0.002777777777777778 with ID 140525295060112,\n",
       " Downloaded object from URL https://ws.cadc-ccda.hia-iha.nrc-cnrc.gc.ca/caom2ops/sync?ID=cadc%3ACFHT%2F2418126p.fits.fz&POS=CIRCLE+182.63574172891978+39.40572772909787+0.002777777777777778 with ID 140525295059728,\n",
       " Downloaded object from URL https://ws.cadc-ccda.hia-iha.nrc-cnrc.gc.ca/caom2ops/sync?ID=cadc%3ACFHT%2F2418126w.fits.fz&POS=CIRCLE+182.63574172891978+39.40572772909787+0.002777777777777778 with ID 140525295059632,\n",
       " Downloaded object from URL https://ws.cadc-ccda.hia-iha.nrc-cnrc.gc.ca/caom2ops/sync?ID=cadc%3ACFHT%2F2418128p.fits.fz&POS=CIRCLE+182.63574172891978+39.40572772909787+0.002777777777777778 with ID 140525295059488,\n",
       " Downloaded object from URL https://ws.cadc-ccda.hia-iha.nrc-cnrc.gc.ca/caom2ops/sync?ID=cadc%3ACFHT%2F2418128w.fits.fz&POS=CIRCLE+182.63574172891978+39.40572772909787+0.002777777777777778 with ID 140525295059296,\n",
       " Downloaded object from URL https://ws.cadc-ccda.hia-iha.nrc-cnrc.gc.ca/caom2ops/sync?ID=cadc%3ACFHT%2F2418128y.fits.fz&POS=CIRCLE+182.63574172891978+39.40572772909787+0.002777777777777778 with ID 140525295059056,\n",
       " Downloaded object from URL https://ws.cadc-ccda.hia-iha.nrc-cnrc.gc.ca/caom2ops/sync?ID=cadc%3ACFHT%2F2418130g.fits.fz&POS=CIRCLE+182.63574172891978+39.40572772909787+0.002777777777777778 with ID 140525295059680,\n",
       " Downloaded object from URL https://ws.cadc-ccda.hia-iha.nrc-cnrc.gc.ca/caom2ops/sync?ID=cadc%3ACFHT%2F2418130o.fits.fz&POS=CIRCLE+182.63574172891978+39.40572772909787+0.002777777777777778 with ID 140525294988256,\n",
       " Downloaded object from URL https://ws.cadc-ccda.hia-iha.nrc-cnrc.gc.ca/caom2ops/sync?ID=cadc%3ACFHT%2F2418130p.fits.fz&POS=CIRCLE+182.63574172891978+39.40572772909787+0.002777777777777778 with ID 140525294988016,\n",
       " Downloaded object from URL https://ws.cadc-ccda.hia-iha.nrc-cnrc.gc.ca/caom2ops/sync?ID=cadc%3ACFHT%2F2418130y.fits.fz&POS=CIRCLE+182.63574172891978+39.40572772909787+0.002777777777777778 with ID 140525294985520,\n",
       " Downloaded object from URL https://ws.cadc-ccda.hia-iha.nrc-cnrc.gc.ca/caom2ops/sync?ID=cadc%3ACFHT%2F2418133o.fits.fz&POS=CIRCLE+182.63574172891978+39.40572772909787+0.002777777777777778 with ID 140525294986576,\n",
       " Downloaded object from URL https://ws.cadc-ccda.hia-iha.nrc-cnrc.gc.ca/caom2ops/sync?ID=cadc%3ACFHT%2F2418133p.fits.fz&POS=CIRCLE+182.63574172891978+39.40572772909787+0.002777777777777778 with ID 140525294985280,\n",
       " Downloaded object from URL https://ws.cadc-ccda.hia-iha.nrc-cnrc.gc.ca/caom2ops/sync?ID=cadc%3ACFHT%2F2418133s.fits.fz&POS=CIRCLE+182.63574172891978+39.40572772909787+0.002777777777777778 with ID 140525294987008,\n",
       " Downloaded object from URL https://ws.cadc-ccda.hia-iha.nrc-cnrc.gc.ca/caom2ops/sync?ID=cadc%3ACFHT%2F2418133w.fits.fz&POS=CIRCLE+182.63574172891978+39.40572772909787+0.002777777777777778 with ID 140525294986336,\n",
       " Downloaded object from URL https://ws.cadc-ccda.hia-iha.nrc-cnrc.gc.ca/caom2ops/sync?ID=cadc%3ACFHT%2F2418133y.fits.fz&POS=CIRCLE+182.63574172891978+39.40572772909787+0.002777777777777778 with ID 140525294988496,\n",
       " Downloaded object from URL https://ws.cadc-ccda.hia-iha.nrc-cnrc.gc.ca/caom2ops/sync?ID=cadc%3ACFHT%2F2418135o.fits.fz&POS=CIRCLE+182.63574172891978+39.40572772909787+0.002777777777777778 with ID 140525294987680,\n",
       " Downloaded object from URL https://ws.cadc-ccda.hia-iha.nrc-cnrc.gc.ca/caom2ops/sync?ID=cadc%3ACFHT%2F2418135p.fits.fz&POS=CIRCLE+182.63574172891978+39.40572772909787+0.002777777777777778 with ID 140525294987872,\n",
       " Downloaded object from URL https://ws.cadc-ccda.hia-iha.nrc-cnrc.gc.ca/caom2ops/sync?ID=cadc%3ACFHT%2F2418135s.fits.fz&POS=CIRCLE+182.63574172891978+39.40572772909787+0.002777777777777778 with ID 140525294989024,\n",
       " Downloaded object from URL https://ws.cadc-ccda.hia-iha.nrc-cnrc.gc.ca/caom2ops/sync?ID=cadc%3ACFHT%2F2418135w.fits.fz&POS=CIRCLE+182.63574172891978+39.40572772909787+0.002777777777777778 with ID 140525294987968,\n",
       " Downloaded object from URL https://ws.cadc-ccda.hia-iha.nrc-cnrc.gc.ca/caom2ops/sync?ID=cadc%3ACFHT%2F2418135y.fits.fz&POS=CIRCLE+182.63574172891978+39.40572772909787+0.002777777777777778 with ID 140525294988640,\n",
       " Downloaded object from URL https://ws.cadc-ccda.hia-iha.nrc-cnrc.gc.ca/caom2ops/sync?ID=cadc%3ACFHT%2F2418136y.fits.fz&POS=CIRCLE+182.63574172891978+39.40572772909787+0.002777777777777778 with ID 140525294988784,\n",
       " Downloaded object from URL https://ws.cadc-ccda.hia-iha.nrc-cnrc.gc.ca/caom2ops/sync?ID=cadc%3ACFHT%2F2418138o.fits.fz&POS=CIRCLE+182.63574172891978+39.40572772909787+0.002777777777777778 with ID 140525294987392,\n",
       " Downloaded object from URL https://ws.cadc-ccda.hia-iha.nrc-cnrc.gc.ca/caom2ops/sync?ID=cadc%3ACFHT%2F2418138p.fits.fz&POS=CIRCLE+182.63574172891978+39.40572772909787+0.002777777777777778 with ID 140525294987344,\n",
       " Downloaded object from URL https://ws.cadc-ccda.hia-iha.nrc-cnrc.gc.ca/caom2ops/sync?ID=cadc%3ACFHT%2F2418138w.fits.fz&POS=CIRCLE+182.63574172891978+39.40572772909787+0.002777777777777778 with ID 140525294987776,\n",
       " Downloaded object from URL https://ws.cadc-ccda.hia-iha.nrc-cnrc.gc.ca/caom2ops/sync?ID=cadc%3ACFHT%2F2418138y.fits.fz&POS=CIRCLE+182.63574172891978+39.40572772909787+0.002777777777777778 with ID 140525294986432,\n",
       " Downloaded object from URL https://ws.cadc-ccda.hia-iha.nrc-cnrc.gc.ca/caom2ops/sync?ID=cadc%3ACFHT%2F2418141o.fits.fz&POS=CIRCLE+182.63574172891978+39.40572772909787+0.002777777777777778 with ID 140525294986480,\n",
       " Downloaded object from URL https://ws.cadc-ccda.hia-iha.nrc-cnrc.gc.ca/caom2ops/sync?ID=cadc%3ACFHT%2F2418141p.fits.fz&POS=CIRCLE+182.63574172891978+39.40572772909787+0.002777777777777778 with ID 140525294986288,\n",
       " Downloaded object from URL https://ws.cadc-ccda.hia-iha.nrc-cnrc.gc.ca/caom2ops/sync?ID=cadc%3ACFHT%2F2418141w.fits.fz&POS=CIRCLE+182.63574172891978+39.40572772909787+0.002777777777777778 with ID 140525294985904,\n",
       " Downloaded object from URL https://ws.cadc-ccda.hia-iha.nrc-cnrc.gc.ca/caom2ops/sync?ID=cadc%3ACFHT%2F2418141y.fits.fz&POS=CIRCLE+182.63574172891978+39.40572772909787+0.002777777777777778 with ID 140525294985808,\n",
       " Downloaded object from URL https://ws.cadc-ccda.hia-iha.nrc-cnrc.gc.ca/caom2ops/sync?ID=cadc%3ACFHT%2F2418143o.fits.fz&POS=CIRCLE+182.63574172891978+39.40572772909787+0.002777777777777778 with ID 140525294985664,\n",
       " Downloaded object from URL https://ws.cadc-ccda.hia-iha.nrc-cnrc.gc.ca/caom2ops/sync?ID=cadc%3ACFHT%2F2418143p.fits.fz&POS=CIRCLE+182.63574172891978+39.40572772909787+0.002777777777777778 with ID 140525294985472,\n",
       " Downloaded object from URL https://ws.cadc-ccda.hia-iha.nrc-cnrc.gc.ca/caom2ops/sync?ID=cadc%3ACFHT%2F2418143w.fits.fz&POS=CIRCLE+182.63574172891978+39.40572772909787+0.002777777777777778 with ID 140525294985856,\n",
       " Downloaded object from URL https://ws.cadc-ccda.hia-iha.nrc-cnrc.gc.ca/caom2ops/sync?ID=cadc%3ACFHT%2F2418143y.fits.fz&POS=CIRCLE+182.63574172891978+39.40572772909787+0.002777777777777778 with ID 140525295095568,\n",
       " Downloaded object from URL https://ws.cadc-ccda.hia-iha.nrc-cnrc.gc.ca/caom2ops/sync?ID=cadc%3ACFHT%2F2418144o.fits.fz&POS=CIRCLE+182.63574172891978+39.40572772909787+0.002777777777777778 with ID 140525295094464,\n",
       " Downloaded object from URL https://ws.cadc-ccda.hia-iha.nrc-cnrc.gc.ca/caom2ops/sync?ID=cadc%3ACFHT%2F2418144p.fits.fz&POS=CIRCLE+182.63574172891978+39.40572772909787+0.002777777777777778 with ID 140525295094704,\n",
       " Downloaded object from URL https://ws.cadc-ccda.hia-iha.nrc-cnrc.gc.ca/caom2ops/sync?ID=cadc%3ACFHT%2F2418144w.fits.fz&POS=CIRCLE+182.63574172891978+39.40572772909787+0.002777777777777778 with ID 140525295091920,\n",
       " Downloaded object from URL https://ws.cadc-ccda.hia-iha.nrc-cnrc.gc.ca/caom2ops/sync?ID=cadc%3ACFHT%2F2418144y.fits.fz&POS=CIRCLE+182.63574172891978+39.40572772909787+0.002777777777777778 with ID 140525295092736,\n",
       " Downloaded object from URL https://ws.cadc-ccda.hia-iha.nrc-cnrc.gc.ca/caom2ops/sync?ID=cadc%3ACFHT%2F2418146y.fits.fz&POS=CIRCLE+182.63574172891978+39.40572772909787+0.002777777777777778 with ID 140525295094032,\n",
       " Downloaded object from URL https://ws.cadc-ccda.hia-iha.nrc-cnrc.gc.ca/caom2ops/sync?ID=cadc%3ACFHT%2F2418149o.fits.fz&POS=CIRCLE+182.63574172891978+39.40572772909787+0.002777777777777778 with ID 140525295093264,\n",
       " Downloaded object from URL https://ws.cadc-ccda.hia-iha.nrc-cnrc.gc.ca/caom2ops/sync?ID=cadc%3ACFHT%2F2418149p.fits.fz&POS=CIRCLE+182.63574172891978+39.40572772909787+0.002777777777777778 with ID 140525295093168,\n",
       " Downloaded object from URL https://ws.cadc-ccda.hia-iha.nrc-cnrc.gc.ca/caom2ops/sync?ID=cadc%3ACFHT%2F2418149w.fits.fz&POS=CIRCLE+182.63574172891978+39.40572772909787+0.002777777777777778 with ID 140525295094848,\n",
       " Downloaded object from URL https://ws.cadc-ccda.hia-iha.nrc-cnrc.gc.ca/caom2ops/sync?ID=cadc%3ACFHT%2F2418149y.fits.fz&POS=CIRCLE+182.63574172891978+39.40572772909787+0.002777777777777778 with ID 140525295093600,\n",
       " Downloaded object from URL https://ws.cadc-ccda.hia-iha.nrc-cnrc.gc.ca/caom2ops/sync?ID=cadc%3ACFHT%2F2418151o.fits.fz&POS=CIRCLE+182.63574172891978+39.40572772909787+0.002777777777777778 with ID 140527210130880,\n",
       " Downloaded object from URL https://ws.cadc-ccda.hia-iha.nrc-cnrc.gc.ca/caom2ops/sync?ID=cadc%3ACFHT%2F2418151p.fits.fz&POS=CIRCLE+182.63574172891978+39.40572772909787+0.002777777777777778 with ID 140527210128960,\n",
       " Downloaded object from URL https://ws.cadc-ccda.hia-iha.nrc-cnrc.gc.ca/caom2ops/sync?ID=cadc%3ACFHT%2F2418151w.fits.fz&POS=CIRCLE+182.63574172891978+39.40572772909787+0.002777777777777778 with ID 140527210127424,\n",
       " Downloaded object from URL https://ws.cadc-ccda.hia-iha.nrc-cnrc.gc.ca/caom2ops/sync?ID=cadc%3ACFHT%2F2418152o.fits.fz&POS=CIRCLE+182.63574172891978+39.40572772909787+0.002777777777777778 with ID 140527210128768,\n",
       " Downloaded object from URL https://ws.cadc-ccda.hia-iha.nrc-cnrc.gc.ca/caom2ops/sync?ID=cadc%3ACFHT%2F2418152p.fits.fz&POS=CIRCLE+182.63574172891978+39.40572772909787+0.002777777777777778 with ID 140527210130544,\n",
       " Downloaded object from URL https://ws.cadc-ccda.hia-iha.nrc-cnrc.gc.ca/caom2ops/sync?ID=cadc%3ACFHT%2F2418152w.fits.fz&POS=CIRCLE+182.63574172891978+39.40572772909787+0.002777777777777778 with ID 140527210129152,\n",
       " Downloaded object from URL https://ws.cadc-ccda.hia-iha.nrc-cnrc.gc.ca/caom2ops/sync?ID=cadc%3ACFHT%2F2418152y.fits.fz&POS=CIRCLE+182.63574172891978+39.40572772909787+0.002777777777777778 with ID 140527210127856,\n",
       " Downloaded object from URL https://ws.cadc-ccda.hia-iha.nrc-cnrc.gc.ca/caom2ops/sync?ID=cadc%3ACFHT%2F2418154o.fits.fz&POS=CIRCLE+182.63574172891978+39.40572772909787+0.002777777777777778 with ID 140527210131360,\n",
       " Downloaded object from URL https://ws.cadc-ccda.hia-iha.nrc-cnrc.gc.ca/caom2ops/sync?ID=cadc%3ACFHT%2F2418154p.fits.fz&POS=CIRCLE+182.63574172891978+39.40572772909787+0.002777777777777778 with ID 140527210131168,\n",
       " Downloaded object from URL https://ws.cadc-ccda.hia-iha.nrc-cnrc.gc.ca/caom2ops/sync?ID=cadc%3ACFHT%2F2418154w.fits.fz&POS=CIRCLE+182.63574172891978+39.40572772909787+0.002777777777777778 with ID 140527210130928,\n",
       " Downloaded object from URL https://ws.cadc-ccda.hia-iha.nrc-cnrc.gc.ca/caom2ops/sync?ID=cadc%3ACFHT%2F2418157o.fits.fz&POS=CIRCLE+182.63574172891978+39.40572772909787+0.002777777777777778 with ID 140527210130592,\n",
       " Downloaded object from URL https://ws.cadc-ccda.hia-iha.nrc-cnrc.gc.ca/caom2ops/sync?ID=cadc%3ACFHT%2F2418157p.fits.fz&POS=CIRCLE+182.63574172891978+39.40572772909787+0.002777777777777778 with ID 140527210130352,\n",
       " Downloaded object from URL https://ws.cadc-ccda.hia-iha.nrc-cnrc.gc.ca/caom2ops/sync?ID=cadc%3ACFHT%2F2418158p.fits.fz&POS=CIRCLE+182.63574172891978+39.40572772909787+0.002777777777777778 with ID 140527210130112,\n",
       " Downloaded object from URL https://ws.cadc-ccda.hia-iha.nrc-cnrc.gc.ca/caom2ops/sync?ID=cadc%3ACFHT%2F2418158w.fits.fz&POS=CIRCLE+182.63574172891978+39.40572772909787+0.002777777777777778 with ID 140527210129872,\n",
       " Downloaded object from URL https://ws.cadc-ccda.hia-iha.nrc-cnrc.gc.ca/caom2ops/sync?ID=cadc%3ACFHT%2F2418158y.fits.fz&POS=CIRCLE+182.63574172891978+39.40572772909787+0.002777777777777778 with ID 140527210128624,\n",
       " Downloaded object from URL https://ws.cadc-ccda.hia-iha.nrc-cnrc.gc.ca/caom2ops/sync?ID=cadc%3ACFHT%2F2418161o.fits.fz&POS=CIRCLE+182.63574172891978+39.40572772909787+0.002777777777777778 with ID 140527210129344,\n",
       " Downloaded object from URL https://ws.cadc-ccda.hia-iha.nrc-cnrc.gc.ca/caom2ops/sync?ID=cadc%3ACFHT%2F2418161p.fits.fz&POS=CIRCLE+182.63574172891978+39.40572772909787+0.002777777777777778 with ID 140527210129440,\n",
       " Downloaded object from URL https://ws.cadc-ccda.hia-iha.nrc-cnrc.gc.ca/caom2ops/sync?ID=cadc%3ACFHT%2F2418161w.fits.fz&POS=CIRCLE+182.63574172891978+39.40572772909787+0.002777777777777778 with ID 140527210129056,\n",
       " Downloaded object from URL https://ws.cadc-ccda.hia-iha.nrc-cnrc.gc.ca/caom2ops/sync?ID=cadc%3ACFHT%2F2418161y.fits.fz&POS=CIRCLE+182.63574172891978+39.40572772909787+0.002777777777777778 with ID 140527210128432,\n",
       " Downloaded object from URL https://ws.cadc-ccda.hia-iha.nrc-cnrc.gc.ca/caom2ops/sync?ID=cadc%3ACFHT%2F2418163o.fits.fz&POS=CIRCLE+182.63574172891978+39.40572772909787+0.002777777777777778 with ID 140527209947920,\n",
       " Downloaded object from URL https://ws.cadc-ccda.hia-iha.nrc-cnrc.gc.ca/caom2ops/sync?ID=cadc%3ACFHT%2F2418163p.fits.fz&POS=CIRCLE+182.63574172891978+39.40572772909787+0.002777777777777778 with ID 140527209947728,\n",
       " Downloaded object from URL https://ws.cadc-ccda.hia-iha.nrc-cnrc.gc.ca/caom2ops/sync?ID=cadc%3ACFHT%2F2418163w.fits.fz&POS=CIRCLE+182.63574172891978+39.40572772909787+0.002777777777777778 with ID 140527209949744,\n",
       " Downloaded object from URL https://ws.cadc-ccda.hia-iha.nrc-cnrc.gc.ca/caom2ops/sync?ID=cadc%3ACFHT%2F2418163y.fits.fz&POS=CIRCLE+182.63574172891978+39.40572772909787+0.002777777777777778 with ID 140527209950224,\n",
       " Downloaded object from URL https://ws.cadc-ccda.hia-iha.nrc-cnrc.gc.ca/caom2ops/sync?ID=cadc%3ACFHT%2F2418164o.fits.fz&POS=CIRCLE+182.63574172891978+39.40572772909787+0.002777777777777778 with ID 140527209951040,\n",
       " Downloaded object from URL https://ws.cadc-ccda.hia-iha.nrc-cnrc.gc.ca/caom2ops/sync?ID=cadc%3ACFHT%2F2418164p.fits.fz&POS=CIRCLE+182.63574172891978+39.40572772909787+0.002777777777777778 with ID 140527209951136,\n",
       " Downloaded object from URL https://ws.cadc-ccda.hia-iha.nrc-cnrc.gc.ca/caom2ops/sync?ID=cadc%3ACFHT%2F2418164w.fits.fz&POS=CIRCLE+182.63574172891978+39.40572772909787+0.002777777777777778 with ID 140527209950848,\n",
       " Downloaded object from URL https://ws.cadc-ccda.hia-iha.nrc-cnrc.gc.ca/caom2ops/sync?ID=cadc%3ACFHT%2F2418164y.fits.fz&POS=CIRCLE+182.63574172891978+39.40572772909787+0.002777777777777778 with ID 140527209950608,\n",
       " Downloaded object from URL https://ws.cadc-ccda.hia-iha.nrc-cnrc.gc.ca/caom2ops/sync?ID=cadc%3ACFHT%2F2418166o.fits.fz&POS=CIRCLE+182.63574172891978+39.40572772909787+0.002777777777777778 with ID 140527209950272,\n",
       " Downloaded object from URL https://ws.cadc-ccda.hia-iha.nrc-cnrc.gc.ca/caom2ops/sync?ID=cadc%3ACFHT%2F2418166p.fits.fz&POS=CIRCLE+182.63574172891978+39.40572772909787+0.002777777777777778 with ID 140527209950032,\n",
       " Downloaded object from URL https://ws.cadc-ccda.hia-iha.nrc-cnrc.gc.ca/caom2ops/sync?ID=cadc%3ACFHT%2F2418169p.fits.fz&POS=CIRCLE+182.63574172891978+39.40572772909787+0.002777777777777778 with ID 140527209949792,\n",
       " Downloaded object from URL https://ws.cadc-ccda.hia-iha.nrc-cnrc.gc.ca/caom2ops/sync?ID=cadc%3ACFHT%2F2418169w.fits.fz&POS=CIRCLE+182.63574172891978+39.40572772909787+0.002777777777777778 with ID 140527209949552,\n",
       " Downloaded object from URL https://ws.cadc-ccda.hia-iha.nrc-cnrc.gc.ca/caom2ops/sync?ID=cadc%3ACFHT%2F2418169y.fits.fz&POS=CIRCLE+182.63574172891978+39.40572772909787+0.002777777777777778 with ID 140527209948496,\n",
       " Downloaded object from URL https://ws.cadc-ccda.hia-iha.nrc-cnrc.gc.ca/caom2ops/sync?ID=cadc%3ACFHT%2F2417366o.fits.fz&POS=CIRCLE+182.63574172891978+39.40572772909787+0.002777777777777778 with ID 140527209949024,\n",
       " Downloaded object from URL https://ws.cadc-ccda.hia-iha.nrc-cnrc.gc.ca/caom2ops/sync?ID=cadc%3ACFHT%2F2417366p.fits.fz&POS=CIRCLE+182.63574172891978+39.40572772909787+0.002777777777777778 with ID 140527209949120,\n",
       " Downloaded object from URL https://ws.cadc-ccda.hia-iha.nrc-cnrc.gc.ca/caom2ops/sync?ID=cadc%3ACFHT%2F2417366s.fits.fz&POS=CIRCLE+182.63574172891978+39.40572772909787+0.002777777777777778 with ID 140527209948304,\n",
       " Downloaded object from URL https://ws.cadc-ccda.hia-iha.nrc-cnrc.gc.ca/caom2ops/sync?ID=cadc%3ACFHT%2F2417366w.fits.fz&POS=CIRCLE+182.63574172891978+39.40572772909787+0.002777777777777778 with ID 140527209948400,\n",
       " Downloaded object from URL https://ws.cadc-ccda.hia-iha.nrc-cnrc.gc.ca/caom2ops/sync?ID=cadc%3ACFHT%2F2417366y.fits.fz&POS=CIRCLE+182.63574172891978+39.40572772909787+0.002777777777777778 with ID 140527209948736,\n",
       " Downloaded object from URL https://ws.cadc-ccda.hia-iha.nrc-cnrc.gc.ca/caom2ops/sync?ID=cadc%3ACFHT%2F2417367o.fits.fz&POS=CIRCLE+182.63574172891978+39.40572772909787+0.002777777777777778 with ID 140527209947440,\n",
       " Downloaded object from URL https://ws.cadc-ccda.hia-iha.nrc-cnrc.gc.ca/caom2ops/sync?ID=cadc%3ACFHT%2F2417367p.fits.fz&POS=CIRCLE+182.63574172891978+39.40572772909787+0.002777777777777778 with ID 140527209947392,\n",
       " Downloaded object from URL https://ws.cadc-ccda.hia-iha.nrc-cnrc.gc.ca/caom2ops/sync?ID=cadc%3ACFHT%2F2417367w.fits.fz&POS=CIRCLE+182.63574172891978+39.40572772909787+0.002777777777777778 with ID 140527210051616,\n",
       " Downloaded object from URL https://ws.cadc-ccda.hia-iha.nrc-cnrc.gc.ca/caom2ops/sync?ID=cadc%3ACFHT%2F2417367s.fits.fz&POS=CIRCLE+182.63574172891978+39.40572772909787+0.002777777777777778 with ID 140527210053536,\n",
       " Downloaded object from URL https://ws.cadc-ccda.hia-iha.nrc-cnrc.gc.ca/caom2ops/sync?ID=cadc%3ACFHT%2F2417369o.fits.fz&POS=CIRCLE+182.63574172891978+39.40572772909787+0.002777777777777778 with ID 140527210051520,\n",
       " Downloaded object from URL https://ws.cadc-ccda.hia-iha.nrc-cnrc.gc.ca/caom2ops/sync?ID=cadc%3ACFHT%2F2417369p.fits.fz&POS=CIRCLE+182.63574172891978+39.40572772909787+0.002777777777777778 with ID 140527210051424,\n",
       " Downloaded object from URL https://ws.cadc-ccda.hia-iha.nrc-cnrc.gc.ca/caom2ops/sync?ID=cadc%3ACFHT%2F2417369w.fits.fz&POS=CIRCLE+182.63574172891978+39.40572772909787+0.002777777777777778 with ID 140527210052960,\n",
       " Downloaded object from URL https://ws.cadc-ccda.hia-iha.nrc-cnrc.gc.ca/caom2ops/sync?ID=cadc%3ACFHT%2F2417370o.fits.fz&POS=CIRCLE+182.63574172891978+39.40572772909787+0.002777777777777778 with ID 140527210050560,\n",
       " Downloaded object from URL https://ws.cadc-ccda.hia-iha.nrc-cnrc.gc.ca/caom2ops/sync?ID=cadc%3ACFHT%2F2417370y.fits.fz&POS=CIRCLE+182.63574172891978+39.40572772909787+0.002777777777777778 with ID 140527210050032,\n",
       " Downloaded object from URL https://ws.cadc-ccda.hia-iha.nrc-cnrc.gc.ca/caom2ops/sync?ID=cadc%3ACFHT%2F2417373y.fits.fz&POS=CIRCLE+182.63574172891978+39.40572772909787+0.002777777777777778 with ID 140527210050992,\n",
       " Downloaded object from URL https://ws.cadc-ccda.hia-iha.nrc-cnrc.gc.ca/caom2ops/sync?ID=cadc%3ACFHT%2F2417375p.fits.fz&POS=CIRCLE+182.63574172891978+39.40572772909787+0.002777777777777778 with ID 140527210053584,\n",
       " Downloaded object from URL https://ws.cadc-ccda.hia-iha.nrc-cnrc.gc.ca/caom2ops/sync?ID=cadc%3ACFHT%2F2417375w.fits.fz&POS=CIRCLE+182.63574172891978+39.40572772909787+0.002777777777777778 with ID 140527210053248,\n",
       " Downloaded object from URL https://ws.cadc-ccda.hia-iha.nrc-cnrc.gc.ca/caom2ops/sync?ID=cadc%3ACFHT%2F2417375y.fits.fz&POS=CIRCLE+182.63574172891978+39.40572772909787+0.002777777777777778 with ID 140527210053008,\n",
       " Downloaded object from URL https://ws.cadc-ccda.hia-iha.nrc-cnrc.gc.ca/caom2ops/sync?ID=cadc%3ACFHT%2F2417376o.fits.fz&POS=CIRCLE+182.63574172891978+39.40572772909787+0.002777777777777778 with ID 140527210052768,\n",
       " Downloaded object from URL https://ws.cadc-ccda.hia-iha.nrc-cnrc.gc.ca/caom2ops/sync?ID=cadc%3ACFHT%2F2417376p.fits.fz&POS=CIRCLE+182.63574172891978+39.40572772909787+0.002777777777777778 with ID 140527210052528,\n",
       " Downloaded object from URL https://ws.cadc-ccda.hia-iha.nrc-cnrc.gc.ca/caom2ops/sync?ID=cadc%3ACFHT%2F2417376w.fits.fz&POS=CIRCLE+182.63574172891978+39.40572772909787+0.002777777777777778 with ID 140527210051280,\n",
       " Downloaded object from URL https://ws.cadc-ccda.hia-iha.nrc-cnrc.gc.ca/caom2ops/sync?ID=cadc%3ACFHT%2F2417376y.fits.fz&POS=CIRCLE+182.63574172891978+39.40572772909787+0.002777777777777778 with ID 140527210052000,\n",
       " Downloaded object from URL https://ws.cadc-ccda.hia-iha.nrc-cnrc.gc.ca/caom2ops/sync?ID=cadc%3ACFHT%2F2417378o.fits.fz&POS=CIRCLE+182.63574172891978+39.40572772909787+0.002777777777777778 with ID 140527210052096,\n",
       " Downloaded object from URL https://ws.cadc-ccda.hia-iha.nrc-cnrc.gc.ca/caom2ops/sync?ID=cadc%3ACFHT%2F2417378p.fits.fz&POS=CIRCLE+182.63574172891978+39.40572772909787+0.002777777777777778 with ID 140527210051712,\n",
       " Downloaded object from URL https://ws.cadc-ccda.hia-iha.nrc-cnrc.gc.ca/caom2ops/sync?ID=cadc%3ACFHT%2F2417378s.fits.fz&POS=CIRCLE+182.63574172891978+39.40572772909787+0.002777777777777778 with ID 140527210051040,\n",
       " Downloaded object from URL https://ws.cadc-ccda.hia-iha.nrc-cnrc.gc.ca/caom2ops/sync?ID=cadc%3ACFHT%2F2417378w.fits.fz&POS=CIRCLE+182.63574172891978+39.40572772909787+0.002777777777777778 with ID 140527210049744,\n",
       " Downloaded object from URL https://ws.cadc-ccda.hia-iha.nrc-cnrc.gc.ca/caom2ops/sync?ID=cadc%3ACFHT%2F2417378y.fits.fz&POS=CIRCLE+182.63574172891978+39.40572772909787+0.002777777777777778 with ID 140527210038512,\n",
       " Downloaded object from URL https://ws.cadc-ccda.hia-iha.nrc-cnrc.gc.ca/caom2ops/sync?ID=cadc%3ACFHT%2F2417381s.fits.fz&POS=CIRCLE+182.63574172891978+39.40572772909787+0.002777777777777778 with ID 140527210041056,\n",
       " Downloaded object from URL https://ws.cadc-ccda.hia-iha.nrc-cnrc.gc.ca/caom2ops/sync?ID=cadc%3ACFHT%2F2417381o.fits.fz&POS=CIRCLE+182.63574172891978+39.40572772909787+0.002777777777777778 with ID 140527210039376,\n",
       " Downloaded object from URL https://ws.cadc-ccda.hia-iha.nrc-cnrc.gc.ca/caom2ops/sync?ID=cadc%3ACFHT%2F2417381w.fits.fz&POS=CIRCLE+182.63574172891978+39.40572772909787+0.002777777777777778 with ID 140527210039328,\n",
       " Downloaded object from URL https://ws.cadc-ccda.hia-iha.nrc-cnrc.gc.ca/caom2ops/sync?ID=cadc%3ACFHT%2F2417381y.fits.fz&POS=CIRCLE+182.63574172891978+39.40572772909787+0.002777777777777778 with ID 140527210039472,\n",
       " Downloaded object from URL https://ws.cadc-ccda.hia-iha.nrc-cnrc.gc.ca/caom2ops/sync?ID=cadc%3ACFHT%2F2417383w.fits.fz&POS=CIRCLE+182.63574172891978+39.40572772909787+0.002777777777777778 with ID 140527210040048,\n",
       " Downloaded object from URL https://ws.cadc-ccda.hia-iha.nrc-cnrc.gc.ca/caom2ops/sync?ID=cadc%3ACFHT%2F2417383y.fits.fz&POS=CIRCLE+182.63574172891978+39.40572772909787+0.002777777777777778 with ID 140527210040240,\n",
       " Downloaded object from URL https://ws.cadc-ccda.hia-iha.nrc-cnrc.gc.ca/caom2ops/sync?ID=cadc%3ACFHT%2F2417384o.fits.fz&POS=CIRCLE+182.63574172891978+39.40572772909787+0.002777777777777778 with ID 140527210041200,\n",
       " Downloaded object from URL https://ws.cadc-ccda.hia-iha.nrc-cnrc.gc.ca/caom2ops/sync?ID=cadc%3ACFHT%2F2417384s.fits.fz&POS=CIRCLE+182.63574172891978+39.40572772909787+0.002777777777777778 with ID 140527210040960,\n",
       " Downloaded object from URL https://ws.cadc-ccda.hia-iha.nrc-cnrc.gc.ca/caom2ops/sync?ID=cadc%3ACFHT%2F2417384p.fits.fz&POS=CIRCLE+182.63574172891978+39.40572772909787+0.002777777777777778 with ID 140527210040768,\n",
       " Downloaded object from URL https://ws.cadc-ccda.hia-iha.nrc-cnrc.gc.ca/caom2ops/sync?ID=cadc%3ACFHT%2F2417384w.fits.fz&POS=CIRCLE+182.63574172891978+39.40572772909787+0.002777777777777778 with ID 140527210040576,\n",
       " Downloaded object from URL https://ws.cadc-ccda.hia-iha.nrc-cnrc.gc.ca/caom2ops/sync?ID=cadc%3ACFHT%2F2417384y.fits.fz&POS=CIRCLE+182.63574172891978+39.40572772909787+0.002777777777777778 with ID 140527210040528,\n",
       " Downloaded object from URL https://ws.cadc-ccda.hia-iha.nrc-cnrc.gc.ca/caom2ops/sync?ID=cadc%3ACFHT%2F2417386o.fits.fz&POS=CIRCLE+182.63574172891978+39.40572772909787+0.002777777777777778 with ID 140527210039856,\n",
       " Downloaded object from URL https://ws.cadc-ccda.hia-iha.nrc-cnrc.gc.ca/caom2ops/sync?ID=cadc%3ACFHT%2F2417386p.fits.fz&POS=CIRCLE+182.63574172891978+39.40572772909787+0.002777777777777778 with ID 140527210038944,\n",
       " Downloaded object from URL https://ws.cadc-ccda.hia-iha.nrc-cnrc.gc.ca/caom2ops/sync?ID=cadc%3ACFHT%2F2417386w.fits.fz&POS=CIRCLE+182.63574172891978+39.40572772909787+0.002777777777777778 with ID 140527210038656,\n",
       " Downloaded object from URL https://ws.cadc-ccda.hia-iha.nrc-cnrc.gc.ca/caom2ops/sync?ID=cadc%3ACFHT%2F2417389o.fits.fz&POS=CIRCLE+182.63574172891978+39.40572772909787+0.002777777777777778 with ID 140527210038368,\n",
       " Downloaded object from URL https://ws.cadc-ccda.hia-iha.nrc-cnrc.gc.ca/caom2ops/sync?ID=cadc%3ACFHT%2F2417389p.fits.fz&POS=CIRCLE+182.63574172891978+39.40572772909787+0.002777777777777778 with ID 140527210038128,\n",
       " Downloaded object from URL https://ws.cadc-ccda.hia-iha.nrc-cnrc.gc.ca/caom2ops/sync?ID=cadc%3ACFHT%2F2417389y.fits.fz&POS=CIRCLE+182.63574172891978+39.40572772909787+0.002777777777777778 with ID 140527210037888,\n",
       " Downloaded object from URL https://ws.cadc-ccda.hia-iha.nrc-cnrc.gc.ca/caom2ops/sync?ID=cadc%3ACFHT%2F2417391o.fits.fz&POS=CIRCLE+182.63574172891978+39.40572772909787+0.002777777777777778 with ID 140527210037648,\n",
       " Downloaded object from URL https://ws.cadc-ccda.hia-iha.nrc-cnrc.gc.ca/caom2ops/sync?ID=cadc%3ACFHT%2F2417391p.fits.fz&POS=CIRCLE+182.63574172891978+39.40572772909787+0.002777777777777778 with ID 140527210037552,\n",
       " Downloaded object from URL https://ws.cadc-ccda.hia-iha.nrc-cnrc.gc.ca/caom2ops/sync?ID=cadc%3ACFHT%2F2417391w.fits.fz&POS=CIRCLE+182.63574172891978+39.40572772909787+0.002777777777777778 with ID 140527210038608,\n",
       " Downloaded object from URL https://ws.cadc-ccda.hia-iha.nrc-cnrc.gc.ca/caom2ops/sync?ID=cadc%3ACFHT%2F2417391y.fits.fz&POS=CIRCLE+182.63574172891978+39.40572772909787+0.002777777777777778 with ID 140527209937888,\n",
       " Downloaded object from URL https://ws.cadc-ccda.hia-iha.nrc-cnrc.gc.ca/caom2ops/sync?ID=cadc%3ACFHT%2F2417392y.fits.fz&POS=CIRCLE+182.63574172891978+39.40572772909787+0.002777777777777778 with ID 140527209935776,\n",
       " Downloaded object from URL https://ws.cadc-ccda.hia-iha.nrc-cnrc.gc.ca/caom2ops/sync?ID=cadc%3ACFHT%2F2417394o.fits.fz&POS=CIRCLE+182.63574172891978+39.40572772909787+0.002777777777777778 with ID 140527209936832,\n",
       " Downloaded object from URL https://ws.cadc-ccda.hia-iha.nrc-cnrc.gc.ca/caom2ops/sync?ID=cadc%3ACFHT%2F2417394s.fits.fz&POS=CIRCLE+182.63574172891978+39.40572772909787+0.002777777777777778 with ID 140527209937168,\n",
       " Downloaded object from URL https://ws.cadc-ccda.hia-iha.nrc-cnrc.gc.ca/caom2ops/sync?ID=cadc%3ACFHT%2F2417394p.fits.fz&POS=CIRCLE+182.63574172891978+39.40572772909787+0.002777777777777778 with ID 140527209938128,\n",
       " Downloaded object from URL https://ws.cadc-ccda.hia-iha.nrc-cnrc.gc.ca/caom2ops/sync?ID=cadc%3ACFHT%2F2417394w.fits.fz&POS=CIRCLE+182.63574172891978+39.40572772909787+0.002777777777777778 with ID 140527209938512,\n",
       " Downloaded object from URL https://ws.cadc-ccda.hia-iha.nrc-cnrc.gc.ca/caom2ops/sync?ID=cadc%3ACFHT%2F2417394y.fits.fz&POS=CIRCLE+182.63574172891978+39.40572772909787+0.002777777777777778 with ID 140527209938800,\n",
       " Downloaded object from URL https://ws.cadc-ccda.hia-iha.nrc-cnrc.gc.ca/caom2ops/sync?ID=cadc%3ACFHT%2F2417397o.fits.fz&POS=CIRCLE+182.63574172891978+39.40572772909787+0.002777777777777778 with ID 140527209938704,\n",
       " Downloaded object from URL https://ws.cadc-ccda.hia-iha.nrc-cnrc.gc.ca/caom2ops/sync?ID=cadc%3ACFHT%2F2417397w.fits.fz&POS=CIRCLE+182.63574172891978+39.40572772909787+0.002777777777777778 with ID 140527209937408,\n",
       " Downloaded object from URL https://ws.cadc-ccda.hia-iha.nrc-cnrc.gc.ca/caom2ops/sync?ID=cadc%3ACFHT%2F2417397y.fits.fz&POS=CIRCLE+182.63574172891978+39.40572772909787+0.002777777777777778 with ID 140527209937648,\n",
       " Downloaded object from URL https://ws.cadc-ccda.hia-iha.nrc-cnrc.gc.ca/caom2ops/sync?ID=cadc%3ACFHT%2F2417399o.fits.fz&POS=CIRCLE+182.63574172891978+39.40572772909787+0.002777777777777778 with ID 140527209936928,\n",
       " Downloaded object from URL https://ws.cadc-ccda.hia-iha.nrc-cnrc.gc.ca/caom2ops/sync?ID=cadc%3ACFHT%2F2417399p.fits.fz&POS=CIRCLE+182.63574172891978+39.40572772909787+0.002777777777777778 with ID 140527209937840,\n",
       " Downloaded object from URL https://ws.cadc-ccda.hia-iha.nrc-cnrc.gc.ca/caom2ops/sync?ID=cadc%3ACFHT%2F2417399w.fits.fz&POS=CIRCLE+182.63574172891978+39.40572772909787+0.002777777777777778 with ID 140527209936736,\n",
       " Downloaded object from URL https://ws.cadc-ccda.hia-iha.nrc-cnrc.gc.ca/caom2ops/sync?ID=cadc%3ACFHT%2F2417399y.fits.fz&POS=CIRCLE+182.63574172891978+39.40572772909787+0.002777777777777778 with ID 140527209936496,\n",
       " Downloaded object from URL https://ws.cadc-ccda.hia-iha.nrc-cnrc.gc.ca/caom2ops/sync?ID=cadc%3ACFHT%2F2417400o.fits.fz&POS=CIRCLE+182.63574172891978+39.40572772909787+0.002777777777777778 with ID 140527209936256,\n",
       " Downloaded object from URL https://ws.cadc-ccda.hia-iha.nrc-cnrc.gc.ca/caom2ops/sync?ID=cadc%3ACFHT%2F2417400s.fits.fz&POS=CIRCLE+182.63574172891978+39.40572772909787+0.002777777777777778 with ID 140527209935920,\n",
       " Downloaded object from URL https://ws.cadc-ccda.hia-iha.nrc-cnrc.gc.ca/caom2ops/sync?ID=cadc%3ACFHT%2F2417400p.fits.fz&POS=CIRCLE+182.63574172891978+39.40572772909787+0.002777777777777778 with ID 140527209935680,\n",
       " Downloaded object from URL https://ws.cadc-ccda.hia-iha.nrc-cnrc.gc.ca/caom2ops/sync?ID=cadc%3ACFHT%2F2417400w.fits.fz&POS=CIRCLE+182.63574172891978+39.40572772909787+0.002777777777777778 with ID 140527209935440,\n",
       " Downloaded object from URL https://ws.cadc-ccda.hia-iha.nrc-cnrc.gc.ca/caom2ops/sync?ID=cadc%3ACFHT%2F2417402y.fits.fz&POS=CIRCLE+182.63574172891978+39.40572772909787+0.002777777777777778 with ID 140527209935200,\n",
       " Downloaded object from URL https://ws.cadc-ccda.hia-iha.nrc-cnrc.gc.ca/caom2ops/sync?ID=cadc%3ACFHT%2F2417405o.fits.fz&POS=CIRCLE+182.63574172891978+39.40572772909787+0.002777777777777778 with ID 140527209934960,\n",
       " Downloaded object from URL https://ws.cadc-ccda.hia-iha.nrc-cnrc.gc.ca/caom2ops/sync?ID=cadc%3ACFHT%2F2417405p.fits.fz&POS=CIRCLE+182.63574172891978+39.40572772909787+0.002777777777777778 with ID 140527209782672,\n",
       " Downloaded object from URL https://ws.cadc-ccda.hia-iha.nrc-cnrc.gc.ca/caom2ops/sync?ID=cadc%3ACFHT%2F2417405w.fits.fz&POS=CIRCLE+182.63574172891978+39.40572772909787+0.002777777777777778 with ID 140527209781952,\n",
       " Downloaded object from URL https://ws.cadc-ccda.hia-iha.nrc-cnrc.gc.ca/caom2ops/sync?ID=cadc%3ACFHT%2F2417405y.fits.fz&POS=CIRCLE+182.63574172891978+39.40572772909787+0.002777777777777778 with ID 140527209782624,\n",
       " Downloaded object from URL https://ws.cadc-ccda.hia-iha.nrc-cnrc.gc.ca/caom2ops/sync?ID=cadc%3ACFHT%2F2417408o.fits.fz&POS=CIRCLE+182.63574172891978+39.40572772909787+0.002777777777777778 with ID 140527209779360,\n",
       " Downloaded object from URL https://ws.cadc-ccda.hia-iha.nrc-cnrc.gc.ca/caom2ops/sync?ID=cadc%3ACFHT%2F2417408p.fits.fz&POS=CIRCLE+182.63574172891978+39.40572772909787+0.002777777777777778 with ID 140527209782192,\n",
       " Downloaded object from URL https://ws.cadc-ccda.hia-iha.nrc-cnrc.gc.ca/caom2ops/sync?ID=cadc%3ACFHT%2F2417408w.fits.fz&POS=CIRCLE+182.63574172891978+39.40572772909787+0.002777777777777778 with ID 140527209783200,\n",
       " Downloaded object from URL https://ws.cadc-ccda.hia-iha.nrc-cnrc.gc.ca/caom2ops/sync?ID=cadc%3ACFHT%2F2417408y.fits.fz&POS=CIRCLE+182.63574172891978+39.40572772909787+0.002777777777777778 with ID 140527209782720,\n",
       " Downloaded object from URL https://ws.cadc-ccda.hia-iha.nrc-cnrc.gc.ca/caom2ops/sync?ID=cadc%3ACFHT%2F2417410o.fits.fz&POS=CIRCLE+182.63574172891978+39.40572772909787+0.002777777777777778 with ID 140527209782528,\n",
       " Downloaded object from URL https://ws.cadc-ccda.hia-iha.nrc-cnrc.gc.ca/caom2ops/sync?ID=cadc%3ACFHT%2F2417410p.fits.fz&POS=CIRCLE+182.63574172891978+39.40572772909787+0.002777777777777778 with ID 140527209782912,\n",
       " Downloaded object from URL https://ws.cadc-ccda.hia-iha.nrc-cnrc.gc.ca/caom2ops/sync?ID=cadc%3ACFHT%2F2417410w.fits.fz&POS=CIRCLE+182.63574172891978+39.40572772909787+0.002777777777777778 with ID 140527209781904,\n",
       " Downloaded object from URL https://ws.cadc-ccda.hia-iha.nrc-cnrc.gc.ca/caom2ops/sync?ID=cadc%3ACFHT%2F2417412o.fits.fz&POS=CIRCLE+182.63574172891978+39.40572772909787+0.002777777777777778 with ID 140527209781664,\n",
       " Downloaded object from URL https://ws.cadc-ccda.hia-iha.nrc-cnrc.gc.ca/caom2ops/sync?ID=cadc%3ACFHT%2F2417412p.fits.fz&POS=CIRCLE+182.63574172891978+39.40572772909787+0.002777777777777778 with ID 140527209781424,\n",
       " Downloaded object from URL https://ws.cadc-ccda.hia-iha.nrc-cnrc.gc.ca/caom2ops/sync?ID=cadc%3ACFHT%2F2417412w.fits.fz&POS=CIRCLE+182.63574172891978+39.40572772909787+0.002777777777777778 with ID 140527209781088,\n",
       " Downloaded object from URL https://ws.cadc-ccda.hia-iha.nrc-cnrc.gc.ca/caom2ops/sync?ID=cadc%3ACFHT%2F2417412y.fits.fz&POS=CIRCLE+182.63574172891978+39.40572772909787+0.002777777777777778 with ID 140527209780848,\n",
       " Downloaded object from URL https://ws.cadc-ccda.hia-iha.nrc-cnrc.gc.ca/caom2ops/sync?ID=cadc%3ACFHT%2F2417413o.fits.fz&POS=CIRCLE+182.63574172891978+39.40572772909787+0.002777777777777778 with ID 140527209780608,\n",
       " Downloaded object from URL https://ws.cadc-ccda.hia-iha.nrc-cnrc.gc.ca/caom2ops/sync?ID=cadc%3ACFHT%2F2417415o.fits.fz&POS=CIRCLE+182.63574172891978+39.40572772909787+0.002777777777777778 with ID 140527209780368,\n",
       " Downloaded object from URL https://ws.cadc-ccda.hia-iha.nrc-cnrc.gc.ca/caom2ops/sync?ID=cadc%3ACFHT%2F2417415p.fits.fz&POS=CIRCLE+182.63574172891978+39.40572772909787+0.002777777777777778 with ID 140527209780176,\n",
       " Downloaded object from URL https://ws.cadc-ccda.hia-iha.nrc-cnrc.gc.ca/caom2ops/sync?ID=cadc%3ACFHT%2F2417415w.fits.fz&POS=CIRCLE+182.63574172891978+39.40572772909787+0.002777777777777778 with ID 140527209781232,\n",
       " Downloaded object from URL https://ws.cadc-ccda.hia-iha.nrc-cnrc.gc.ca/caom2ops/sync?ID=cadc%3ACFHT%2F2417415y.fits.fz&POS=CIRCLE+182.63574172891978+39.40572772909787+0.002777777777777778 with ID 140527209779456,\n",
       " Downloaded object from URL https://ws.cadc-ccda.hia-iha.nrc-cnrc.gc.ca/caom2ops/sync?ID=cadc%3ACFHT%2F2417418o.fits.fz&POS=CIRCLE+182.63574172891978+39.40572772909787+0.002777777777777778 with ID 140527209816752,\n",
       " Downloaded object from URL https://ws.cadc-ccda.hia-iha.nrc-cnrc.gc.ca/caom2ops/sync?ID=cadc%3ACFHT%2F2417418p.fits.fz&POS=CIRCLE+182.63574172891978+39.40572772909787+0.002777777777777778 with ID 140527209819728,\n",
       " Downloaded object from URL https://ws.cadc-ccda.hia-iha.nrc-cnrc.gc.ca/caom2ops/sync?ID=cadc%3ACFHT%2F2417418w.fits.fz&POS=CIRCLE+182.63574172891978+39.40572772909787+0.002777777777777778 with ID 140527209816704,\n",
       " Downloaded object from URL https://ws.cadc-ccda.hia-iha.nrc-cnrc.gc.ca/caom2ops/sync?ID=cadc%3ACFHT%2F2417419o.fits.fz&POS=CIRCLE+182.63574172891978+39.40572772909787+0.002777777777777778 with ID 140527209817232,\n",
       " Downloaded object from URL https://ws.cadc-ccda.hia-iha.nrc-cnrc.gc.ca/caom2ops/sync?ID=cadc%3ACFHT%2F2417419p.fits.fz&POS=CIRCLE+182.63574172891978+39.40572772909787+0.002777777777777778 with ID 140527209818048,\n",
       " Downloaded object from URL https://ws.cadc-ccda.hia-iha.nrc-cnrc.gc.ca/caom2ops/sync?ID=cadc%3ACFHT%2F2417419w.fits.fz&POS=CIRCLE+182.63574172891978+39.40572772909787+0.002777777777777778 with ID 140527209819104,\n",
       " Downloaded object from URL https://ws.cadc-ccda.hia-iha.nrc-cnrc.gc.ca/caom2ops/sync?ID=cadc%3ACFHT%2F2417419y.fits.fz&POS=CIRCLE+182.63574172891978+39.40572772909787+0.002777777777777778 with ID 140527209820064,\n",
       " Downloaded object from URL https://ws.cadc-ccda.hia-iha.nrc-cnrc.gc.ca/caom2ops/sync?ID=cadc%3ACFHT%2F2417421p.fits.fz&POS=CIRCLE+182.63574172891978+39.40572772909787+0.002777777777777778 with ID 140527209816944,\n",
       " Downloaded object from URL https://ws.cadc-ccda.hia-iha.nrc-cnrc.gc.ca/caom2ops/sync?ID=cadc%3ACFHT%2F2417421w.fits.fz&POS=CIRCLE+182.63574172891978+39.40572772909787+0.002777777777777778 with ID 140527209819680,\n",
       " Downloaded object from URL https://ws.cadc-ccda.hia-iha.nrc-cnrc.gc.ca/caom2ops/sync?ID=cadc%3ACFHT%2F2417421s.fits.fz&POS=CIRCLE+182.63574172891978+39.40572772909787+0.002777777777777778 with ID 140527209819488,\n",
       " Downloaded object from URL https://ws.cadc-ccda.hia-iha.nrc-cnrc.gc.ca/caom2ops/sync?ID=cadc%3ACFHT%2F2417422o.fits.fz&POS=CIRCLE+182.63574172891978+39.40572772909787+0.002777777777777778 with ID 140527209819248,\n",
       " Downloaded object from URL https://ws.cadc-ccda.hia-iha.nrc-cnrc.gc.ca/caom2ops/sync?ID=cadc%3ACFHT%2F2417422p.fits.fz&POS=CIRCLE+182.63574172891978+39.40572772909787+0.002777777777777778 with ID 140527209819008,\n",
       " Downloaded object from URL https://ws.cadc-ccda.hia-iha.nrc-cnrc.gc.ca/caom2ops/sync?ID=cadc%3ACFHT%2F2417422w.fits.fz&POS=CIRCLE+182.63574172891978+39.40572772909787+0.002777777777777778 with ID 140527209818672,\n",
       " Downloaded object from URL https://ws.cadc-ccda.hia-iha.nrc-cnrc.gc.ca/caom2ops/sync?ID=cadc%3ACFHT%2F2417425w.fits.fz&POS=CIRCLE+182.63574172891978+39.40572772909787+0.002777777777777778 with ID 140527209818432,\n",
       " Downloaded object from URL https://ws.cadc-ccda.hia-iha.nrc-cnrc.gc.ca/caom2ops/sync?ID=cadc%3ACFHT%2F2417425y.fits.fz&POS=CIRCLE+182.63574172891978+39.40572772909787+0.002777777777777778 with ID 140527209818192,\n",
       " Downloaded object from URL https://ws.cadc-ccda.hia-iha.nrc-cnrc.gc.ca/caom2ops/sync?ID=cadc%3ACFHT%2F2417427o.fits.fz&POS=CIRCLE+182.63574172891978+39.40572772909787+0.002777777777777778 with ID 140527209817952,\n",
       " Downloaded object from URL https://ws.cadc-ccda.hia-iha.nrc-cnrc.gc.ca/caom2ops/sync?ID=cadc%3ACFHT%2F2417427p.fits.fz&POS=CIRCLE+182.63574172891978+39.40572772909787+0.002777777777777778 with ID 140527209817760,\n",
       " Downloaded object from URL https://ws.cadc-ccda.hia-iha.nrc-cnrc.gc.ca/caom2ops/sync?ID=cadc%3ACFHT%2F2417427w.fits.fz&POS=CIRCLE+182.63574172891978+39.40572772909787+0.002777777777777778 with ID 140527209818960,\n",
       " Downloaded object from URL https://ws.cadc-ccda.hia-iha.nrc-cnrc.gc.ca/caom2ops/sync?ID=cadc%3ACFHT%2F2417427y.fits.fz&POS=CIRCLE+182.63574172891978+39.40572772909787+0.002777777777777778 with ID 140527209816416,\n",
       " Downloaded object from URL https://ws.cadc-ccda.hia-iha.nrc-cnrc.gc.ca/caom2ops/sync?ID=cadc%3ACFHT%2F2417428o.fits.fz&POS=CIRCLE+182.63574172891978+39.40572772909787+0.002777777777777778 with ID 140527209817328,\n",
       " Downloaded object from URL https://ws.cadc-ccda.hia-iha.nrc-cnrc.gc.ca/caom2ops/sync?ID=cadc%3ACFHT%2F2417428p.fits.fz&POS=CIRCLE+182.63574172891978+39.40572772909787+0.002777777777777778 with ID 140527209743072,\n",
       " Downloaded object from URL https://ws.cadc-ccda.hia-iha.nrc-cnrc.gc.ca/caom2ops/sync?ID=cadc%3ACFHT%2F2417428w.fits.fz&POS=CIRCLE+182.63574172891978+39.40572772909787+0.002777777777777778 with ID 140527209742928,\n",
       " Downloaded object from URL https://ws.cadc-ccda.hia-iha.nrc-cnrc.gc.ca/caom2ops/sync?ID=cadc%3ACFHT%2F2417428y.fits.fz&POS=CIRCLE+182.63574172891978+39.40572772909787+0.002777777777777778 with ID 140527209743360,\n",
       " Downloaded object from URL https://ws.cadc-ccda.hia-iha.nrc-cnrc.gc.ca/caom2ops/sync?ID=cadc%3ACFHT%2F2417430o.fits.fz&POS=CIRCLE+182.63574172891978+39.40572772909787+0.002777777777777778 with ID 140527209743600,\n",
       " Downloaded object from URL https://ws.cadc-ccda.hia-iha.nrc-cnrc.gc.ca/caom2ops/sync?ID=cadc%3ACFHT%2F2417430p.fits.fz&POS=CIRCLE+182.63574172891978+39.40572772909787+0.002777777777777778 with ID 140527209743792,\n",
       " Downloaded object from URL https://ws.cadc-ccda.hia-iha.nrc-cnrc.gc.ca/caom2ops/sync?ID=cadc%3ACFHT%2F2417430w.fits.fz&POS=CIRCLE+182.63574172891978+39.40572772909787+0.002777777777777778 with ID 140527209745568,\n",
       " Downloaded object from URL https://ws.cadc-ccda.hia-iha.nrc-cnrc.gc.ca/caom2ops/sync?ID=cadc%3ACFHT%2F2417430y.fits.fz&POS=CIRCLE+182.63574172891978+39.40572772909787+0.002777777777777778 with ID 140527209746384,\n",
       " Downloaded object from URL https://ws.cadc-ccda.hia-iha.nrc-cnrc.gc.ca/caom2ops/sync?ID=cadc%3ACFHT%2F2417433o.fits.fz&POS=CIRCLE+182.63574172891978+39.40572772909787+0.002777777777777778 with ID 140527209744464,\n",
       " Downloaded object from URL https://ws.cadc-ccda.hia-iha.nrc-cnrc.gc.ca/caom2ops/sync?ID=cadc%3ACFHT%2F2417433p.fits.fz&POS=CIRCLE+182.63574172891978+39.40572772909787+0.002777777777777778 with ID 140527209746336,\n",
       " Downloaded object from URL https://ws.cadc-ccda.hia-iha.nrc-cnrc.gc.ca/caom2ops/sync?ID=cadc%3ACFHT%2F2417433w.fits.fz&POS=CIRCLE+182.63574172891978+39.40572772909787+0.002777777777777778 with ID 140527209746096,\n",
       " Downloaded object from URL https://ws.cadc-ccda.hia-iha.nrc-cnrc.gc.ca/caom2ops/sync?ID=cadc%3ACFHT%2F2417435w.fits.fz&POS=CIRCLE+182.63574172891978+39.40572772909787+0.002777777777777778 with ID 140527209745760,\n",
       " Downloaded object from URL https://ws.cadc-ccda.hia-iha.nrc-cnrc.gc.ca/caom2ops/sync?ID=cadc%3ACFHT%2F2417435y.fits.fz&POS=CIRCLE+182.63574172891978+39.40572772909787+0.002777777777777778 with ID 140527209745520,\n",
       " Downloaded object from URL https://ws.cadc-ccda.hia-iha.nrc-cnrc.gc.ca/caom2ops/sync?ID=cadc%3ACFHT%2F2417436o.fits.fz&POS=CIRCLE+182.63574172891978+39.40572772909787+0.002777777777777778 with ID 140527209745280,\n",
       " Downloaded object from URL https://ws.cadc-ccda.hia-iha.nrc-cnrc.gc.ca/caom2ops/sync?ID=cadc%3ACFHT%2F2417436p.fits.fz&POS=CIRCLE+182.63574172891978+39.40572772909787+0.002777777777777778 with ID 140527209745040,\n",
       " Downloaded object from URL https://ws.cadc-ccda.hia-iha.nrc-cnrc.gc.ca/caom2ops/sync?ID=cadc%3ACFHT%2F2417436w.fits.fz&POS=CIRCLE+182.63574172891978+39.40572772909787+0.002777777777777778 with ID 140527209744848,\n",
       " Downloaded object from URL https://ws.cadc-ccda.hia-iha.nrc-cnrc.gc.ca/caom2ops/sync?ID=cadc%3ACFHT%2F2417436y.fits.fz&POS=CIRCLE+182.63574172891978+39.40572772909787+0.002777777777777778 with ID 140527209745904,\n",
       " Downloaded object from URL https://ws.cadc-ccda.hia-iha.nrc-cnrc.gc.ca/caom2ops/sync?ID=cadc%3ACFHT%2F2417438o.fits.fz&POS=CIRCLE+182.63574172891978+39.40572772909787+0.002777777777777778 with ID 140527209744128,\n",
       " Downloaded object from URL https://ws.cadc-ccda.hia-iha.nrc-cnrc.gc.ca/caom2ops/sync?ID=cadc%3ACFHT%2F2417438p.fits.fz&POS=CIRCLE+182.63574172891978+39.40572772909787+0.002777777777777778 with ID 140527209744320,\n",
       " Downloaded object from URL https://ws.cadc-ccda.hia-iha.nrc-cnrc.gc.ca/caom2ops/sync?ID=cadc%3ACFHT%2F2417438w.fits.fz&POS=CIRCLE+182.63574172891978+39.40572772909787+0.002777777777777778 with ID 140527209743264,\n",
       " Downloaded object from URL https://ws.cadc-ccda.hia-iha.nrc-cnrc.gc.ca/caom2ops/sync?ID=cadc%3ACFHT%2F2417438y.fits.fz&POS=CIRCLE+182.63574172891978+39.40572772909787+0.002777777777777778 with ID 140527209742880,\n",
       " Downloaded object from URL https://ws.cadc-ccda.hia-iha.nrc-cnrc.gc.ca/caom2ops/sync?ID=cadc%3ACFHT%2F2417441o.fits.fz&POS=CIRCLE+182.63574172891978+39.40572772909787+0.002777777777777778 with ID 140527209742592,\n",
       " Downloaded object from URL https://ws.cadc-ccda.hia-iha.nrc-cnrc.gc.ca/caom2ops/sync?ID=cadc%3ACFHT%2F2417441p.fits.fz&POS=CIRCLE+182.63574172891978+39.40572772909787+0.002777777777777778 with ID 140527209807984,\n",
       " Downloaded object from URL https://ws.cadc-ccda.hia-iha.nrc-cnrc.gc.ca/caom2ops/sync?ID=cadc%3ACFHT%2F2417441y.fits.fz&POS=CIRCLE+182.63574172891978+39.40572772909787+0.002777777777777778 with ID 140527209808272,\n",
       " Downloaded object from URL https://ws.cadc-ccda.hia-iha.nrc-cnrc.gc.ca/caom2ops/sync?ID=cadc%3ACFHT%2F2417443o.fits.fz&POS=CIRCLE+182.63574172891978+39.40572772909787+0.002777777777777778 with ID 140527209809856,\n",
       " Downloaded object from URL https://ws.cadc-ccda.hia-iha.nrc-cnrc.gc.ca/caom2ops/sync?ID=cadc%3ACFHT%2F2417443p.fits.fz&POS=CIRCLE+182.63574172891978+39.40572772909787+0.002777777777777778 with ID 140527209811536,\n",
       " Downloaded object from URL https://ws.cadc-ccda.hia-iha.nrc-cnrc.gc.ca/caom2ops/sync?ID=cadc%3ACFHT%2F2417443w.fits.fz&POS=CIRCLE+182.63574172891978+39.40572772909787+0.002777777777777778 with ID 140527209808608,\n",
       " Downloaded object from URL https://ws.cadc-ccda.hia-iha.nrc-cnrc.gc.ca/caom2ops/sync?ID=cadc%3ACFHT%2F2417443y.fits.fz&POS=CIRCLE+182.63574172891978+39.40572772909787+0.002777777777777778 with ID 140527209808560,\n",
       " Downloaded object from URL https://ws.cadc-ccda.hia-iha.nrc-cnrc.gc.ca/caom2ops/sync?ID=cadc%3ACFHT%2F2417444y.fits.fz&POS=CIRCLE+182.63574172891978+39.40572772909787+0.002777777777777778 with ID 140527209810096,\n",
       " Downloaded object from URL https://ws.cadc-ccda.hia-iha.nrc-cnrc.gc.ca/caom2ops/sync?ID=cadc%3ACFHT%2F2417446o.fits.fz&POS=CIRCLE+182.63574172891978+39.40572772909787+0.002777777777777778 with ID 140527209808800,\n",
       " Downloaded object from URL https://ws.cadc-ccda.hia-iha.nrc-cnrc.gc.ca/caom2ops/sync?ID=cadc%3ACFHT%2F2417446p.fits.fz&POS=CIRCLE+182.63574172891978+39.40572772909787+0.002777777777777778 with ID 140527209811824,\n",
       " Downloaded object from URL https://ws.cadc-ccda.hia-iha.nrc-cnrc.gc.ca/caom2ops/sync?ID=cadc%3ACFHT%2F2417449g.fits.fz&POS=CIRCLE+182.63574172891978+39.40572772909787+0.002777777777777778 with ID 140527209811488,\n",
       " Downloaded object from URL https://ws.cadc-ccda.hia-iha.nrc-cnrc.gc.ca/caom2ops/sync?ID=cadc%3ACFHT%2F2417449o.fits.fz&POS=CIRCLE+182.63574172891978+39.40572772909787+0.002777777777777778 with ID 140527209811248,\n",
       " Downloaded object from URL https://ws.cadc-ccda.hia-iha.nrc-cnrc.gc.ca/caom2ops/sync?ID=cadc%3ACFHT%2F2417449p.fits.fz&POS=CIRCLE+182.63574172891978+39.40572772909787+0.002777777777777778 with ID 140527209811008,\n",
       " Downloaded object from URL https://ws.cadc-ccda.hia-iha.nrc-cnrc.gc.ca/caom2ops/sync?ID=cadc%3ACFHT%2F2417449w.fits.fz&POS=CIRCLE+182.63574172891978+39.40572772909787+0.002777777777777778 with ID 140527209810768,\n",
       " Downloaded object from URL https://ws.cadc-ccda.hia-iha.nrc-cnrc.gc.ca/caom2ops/sync?ID=cadc%3ACFHT%2F2417449y.fits.fz&POS=CIRCLE+182.63574172891978+39.40572772909787+0.002777777777777778 with ID 140527209810240,\n",
       " Downloaded object from URL https://ws.cadc-ccda.hia-iha.nrc-cnrc.gc.ca/caom2ops/sync?ID=cadc%3ACFHT%2F2417452p.fits.fz&POS=CIRCLE+182.63574172891978+39.40572772909787+0.002777777777777778 with ID 140527209811632,\n",
       " Downloaded object from URL https://ws.cadc-ccda.hia-iha.nrc-cnrc.gc.ca/caom2ops/sync?ID=cadc%3ACFHT%2F2417452w.fits.fz&POS=CIRCLE+182.63574172891978+39.40572772909787+0.002777777777777778 with ID 140527209810528,\n",
       " Downloaded object from URL https://ws.cadc-ccda.hia-iha.nrc-cnrc.gc.ca/caom2ops/sync?ID=cadc%3ACFHT%2F2417452y.fits.fz&POS=CIRCLE+182.63574172891978+39.40572772909787+0.002777777777777778 with ID 140527209808992,\n",
       " Downloaded object from URL https://ws.cadc-ccda.hia-iha.nrc-cnrc.gc.ca/caom2ops/sync?ID=cadc%3ACFHT%2F2417454o.fits.fz&POS=CIRCLE+182.63574172891978+39.40572772909787+0.002777777777777778 with ID 140527209809184,\n",
       " Downloaded object from URL https://ws.cadc-ccda.hia-iha.nrc-cnrc.gc.ca/caom2ops/sync?ID=cadc%3ACFHT%2F2417454p.fits.fz&POS=CIRCLE+182.63574172891978+39.40572772909787+0.002777777777777778 with ID 140527209808176,\n",
       " Downloaded object from URL https://ws.cadc-ccda.hia-iha.nrc-cnrc.gc.ca/caom2ops/sync?ID=cadc%3ACFHT%2F2417454w.fits.fz&POS=CIRCLE+182.63574172891978+39.40572772909787+0.002777777777777778 with ID 140527209829280,\n",
       " Downloaded object from URL https://ws.cadc-ccda.hia-iha.nrc-cnrc.gc.ca/caom2ops/sync?ID=cadc%3ACFHT%2F2417454y.fits.fz&POS=CIRCLE+182.63574172891978+39.40572772909787+0.002777777777777778 with ID 140527209828992,\n",
       " Downloaded object from URL https://ws.cadc-ccda.hia-iha.nrc-cnrc.gc.ca/caom2ops/sync?ID=cadc%3ACFHT%2F2417455o.fits.fz&POS=CIRCLE+182.63574172891978+39.40572772909787+0.002777777777777778 with ID 140527209829184,\n",
       " Downloaded object from URL https://ws.cadc-ccda.hia-iha.nrc-cnrc.gc.ca/caom2ops/sync?ID=cadc%3ACFHT%2F2417455p.fits.fz&POS=CIRCLE+182.63574172891978+39.40572772909787+0.002777777777777778 with ID 140527209830336,\n",
       " Downloaded object from URL https://ws.cadc-ccda.hia-iha.nrc-cnrc.gc.ca/caom2ops/sync?ID=cadc%3ACFHT%2F2417457p.fits.fz&POS=CIRCLE+182.63574172891978+39.40572772909787+0.002777777777777778 with ID 140527209829568,\n",
       " Downloaded object from URL https://ws.cadc-ccda.hia-iha.nrc-cnrc.gc.ca/caom2ops/sync?ID=cadc%3ACFHT%2F2417457s.fits.fz&POS=CIRCLE+182.63574172891978+39.40572772909787+0.002777777777777778 with ID 140527209830096,\n",
       " Downloaded object from URL https://ws.cadc-ccda.hia-iha.nrc-cnrc.gc.ca/caom2ops/sync?ID=cadc%3ACFHT%2F2417457w.fits.fz&POS=CIRCLE+182.63574172891978+39.40572772909787+0.002777777777777778 with ID 140527209829952,\n",
       " Downloaded object from URL https://ws.cadc-ccda.hia-iha.nrc-cnrc.gc.ca/caom2ops/sync?ID=cadc%3ACFHT%2F2417457y.fits.fz&POS=CIRCLE+182.63574172891978+39.40572772909787+0.002777777777777778 with ID 140527209828896,\n",
       " Downloaded object from URL https://ws.cadc-ccda.hia-iha.nrc-cnrc.gc.ca/caom2ops/sync?ID=cadc%3ACFHT%2F2417460o.fits.fz&POS=CIRCLE+182.63574172891978+39.40572772909787+0.002777777777777778 with ID 140527209832304,\n",
       " Downloaded object from URL https://ws.cadc-ccda.hia-iha.nrc-cnrc.gc.ca/caom2ops/sync?ID=cadc%3ACFHT%2F2417460p.fits.fz&POS=CIRCLE+182.63574172891978+39.40572772909787+0.002777777777777778 with ID 140527209831968,\n",
       " Downloaded object from URL https://ws.cadc-ccda.hia-iha.nrc-cnrc.gc.ca/caom2ops/sync?ID=cadc%3ACFHT%2F2417460w.fits.fz&POS=CIRCLE+182.63574172891978+39.40572772909787+0.002777777777777778 with ID 140527209831728,\n",
       " Downloaded object from URL https://ws.cadc-ccda.hia-iha.nrc-cnrc.gc.ca/caom2ops/sync?ID=cadc%3ACFHT%2F2417460y.fits.fz&POS=CIRCLE+182.63574172891978+39.40572772909787+0.002777777777777778 with ID 140527209831488,\n",
       " Downloaded object from URL https://ws.cadc-ccda.hia-iha.nrc-cnrc.gc.ca/caom2ops/sync?ID=cadc%3ACFHT%2F2417462o.fits.fz&POS=CIRCLE+182.63574172891978+39.40572772909787+0.002777777777777778 with ID 140527209831248,\n",
       " Downloaded object from URL https://ws.cadc-ccda.hia-iha.nrc-cnrc.gc.ca/caom2ops/sync?ID=cadc%3ACFHT%2F2417462s.fits.fz&POS=CIRCLE+182.63574172891978+39.40572772909787+0.002777777777777778 with ID 140527209830000,\n",
       " Downloaded object from URL https://ws.cadc-ccda.hia-iha.nrc-cnrc.gc.ca/caom2ops/sync?ID=cadc%3ACFHT%2F2417462w.fits.fz&POS=CIRCLE+182.63574172891978+39.40572772909787+0.002777777777777778 with ID 140527209830720,\n",
       " Downloaded object from URL https://ws.cadc-ccda.hia-iha.nrc-cnrc.gc.ca/caom2ops/sync?ID=cadc%3ACFHT%2F2417462y.fits.fz&POS=CIRCLE+182.63574172891978+39.40572772909787+0.002777777777777778 with ID 140527209830816,\n",
       " Downloaded object from URL https://ws.cadc-ccda.hia-iha.nrc-cnrc.gc.ca/caom2ops/sync?ID=cadc%3ACFHT%2F2417463o.fits.fz&POS=CIRCLE+182.63574172891978+39.40572772909787+0.002777777777777778 with ID 140527209830432,\n",
       " Downloaded object from URL https://ws.cadc-ccda.hia-iha.nrc-cnrc.gc.ca/caom2ops/sync?ID=cadc%3ACFHT%2F2417463p.fits.fz&POS=CIRCLE+182.63574172891978+39.40572772909787+0.002777777777777778 with ID 140527209829808,\n",
       " Downloaded object from URL https://ws.cadc-ccda.hia-iha.nrc-cnrc.gc.ca/caom2ops/sync?ID=cadc%3ACFHT%2F2417463w.fits.fz&POS=CIRCLE+182.63574172891978+39.40572772909787+0.002777777777777778 with ID 140527209829136,\n",
       " Downloaded object from URL https://ws.cadc-ccda.hia-iha.nrc-cnrc.gc.ca/caom2ops/sync?ID=cadc%3ACFHT%2F2417463y.fits.fz&POS=CIRCLE+182.63574172891978+39.40572772909787+0.002777777777777778 with ID 140527209803888,\n",
       " Downloaded object from URL https://ws.cadc-ccda.hia-iha.nrc-cnrc.gc.ca/caom2ops/sync?ID=cadc%3ACFHT%2F2417465o.fits.fz&POS=CIRCLE+182.63574172891978+39.40572772909787+0.002777777777777778 with ID 140527209806912,\n",
       " Downloaded object from URL https://ws.cadc-ccda.hia-iha.nrc-cnrc.gc.ca/caom2ops/sync?ID=cadc%3ACFHT%2F2417468o.fits.fz&POS=CIRCLE+182.63574172891978+39.40572772909787+0.002777777777777778 with ID 140527209805520,\n",
       " Downloaded object from URL https://ws.cadc-ccda.hia-iha.nrc-cnrc.gc.ca/caom2ops/sync?ID=cadc%3ACFHT%2F2417468p.fits.fz&POS=CIRCLE+182.63574172891978+39.40572772909787+0.002777777777777778 with ID 140527209807440,\n",
       " Downloaded object from URL https://ws.cadc-ccda.hia-iha.nrc-cnrc.gc.ca/caom2ops/sync?ID=cadc%3ACFHT%2F2417468w.fits.fz&POS=CIRCLE+182.63574172891978+39.40572772909787+0.002777777777777778 with ID 140527209807200,\n",
       " Downloaded object from URL https://ws.cadc-ccda.hia-iha.nrc-cnrc.gc.ca/caom2ops/sync?ID=cadc%3ACFHT%2F2417468y.fits.fz&POS=CIRCLE+182.63574172891978+39.40572772909787+0.002777777777777778 with ID 140527209807344,\n",
       " Downloaded object from URL https://ws.cadc-ccda.hia-iha.nrc-cnrc.gc.ca/caom2ops/sync?ID=cadc%3ACFHT%2F2417470o.fits.fz&POS=CIRCLE+182.63574172891978+39.40572772909787+0.002777777777777778 with ID 140527209805232,\n",
       " Downloaded object from URL https://ws.cadc-ccda.hia-iha.nrc-cnrc.gc.ca/caom2ops/sync?ID=cadc%3ACFHT%2F2417470p.fits.fz&POS=CIRCLE+182.63574172891978+39.40572772909787+0.002777777777777778 with ID 140527209806624,\n",
       " Downloaded object from URL https://ws.cadc-ccda.hia-iha.nrc-cnrc.gc.ca/caom2ops/sync?ID=cadc%3ACFHT%2F2417470w.fits.fz&POS=CIRCLE+182.63574172891978+39.40572772909787+0.002777777777777778 with ID 140527209804656,\n",
       " Downloaded object from URL https://ws.cadc-ccda.hia-iha.nrc-cnrc.gc.ca/caom2ops/sync?ID=cadc%3ACFHT%2F2417470y.fits.fz&POS=CIRCLE+182.63574172891978+39.40572772909787+0.002777777777777778 with ID 140527209804464,\n",
       " Downloaded object from URL https://ws.cadc-ccda.hia-iha.nrc-cnrc.gc.ca/caom2ops/sync?ID=cadc%3ACFHT%2F2417471o.fits.fz&POS=CIRCLE+182.63574172891978+39.40572772909787+0.002777777777777778 with ID 140527209805088,\n",
       " Downloaded object from URL https://ws.cadc-ccda.hia-iha.nrc-cnrc.gc.ca/caom2ops/sync?ID=cadc%3ACFHT%2F2417471p.fits.fz&POS=CIRCLE+182.63574172891978+39.40572772909787+0.002777777777777778 with ID 140527209805424,\n",
       " Downloaded object from URL https://ws.cadc-ccda.hia-iha.nrc-cnrc.gc.ca/caom2ops/sync?ID=cadc%3ACFHT%2F2417471w.fits.fz&POS=CIRCLE+182.63574172891978+39.40572772909787+0.002777777777777778 with ID 140527209805712,\n",
       " Downloaded object from URL https://ws.cadc-ccda.hia-iha.nrc-cnrc.gc.ca/caom2ops/sync?ID=cadc%3ACFHT%2F2417473o.fits.fz&POS=CIRCLE+182.63574172891978+39.40572772909787+0.002777777777777778 with ID 140527209805904,\n",
       " Downloaded object from URL https://ws.cadc-ccda.hia-iha.nrc-cnrc.gc.ca/caom2ops/sync?ID=cadc%3ACFHT%2F2417473p.fits.fz&POS=CIRCLE+182.63574172891978+39.40572772909787+0.002777777777777778 with ID 140527209806144,\n",
       " Downloaded object from URL https://ws.cadc-ccda.hia-iha.nrc-cnrc.gc.ca/caom2ops/sync?ID=cadc%3ACFHT%2F2417473w.fits.fz&POS=CIRCLE+182.63574172891978+39.40572772909787+0.002777777777777778 with ID 140527209806240,\n",
       " Downloaded object from URL https://ws.cadc-ccda.hia-iha.nrc-cnrc.gc.ca/caom2ops/sync?ID=cadc%3ACFHT%2F2417473y.fits.fz&POS=CIRCLE+182.63574172891978+39.40572772909787+0.002777777777777778 with ID 140527209806192,\n",
       " Downloaded object from URL https://ws.cadc-ccda.hia-iha.nrc-cnrc.gc.ca/caom2ops/sync?ID=cadc%3ACFHT%2F2417476o.fits.fz&POS=CIRCLE+182.63574172891978+39.40572772909787+0.002777777777777778 with ID 140527209807296,\n",
       " Downloaded object from URL https://ws.cadc-ccda.hia-iha.nrc-cnrc.gc.ca/caom2ops/sync?ID=cadc%3ACFHT%2F2417476p.fits.fz&POS=CIRCLE+182.63574172891978+39.40572772909787+0.002777777777777778 with ID 140527209807632,\n",
       " Downloaded object from URL https://ws.cadc-ccda.hia-iha.nrc-cnrc.gc.ca/caom2ops/sync?ID=cadc%3ACFHT%2F2417478o.fits.fz&POS=CIRCLE+182.63574172891978+39.40572772909787+0.002777777777777778 with ID 140527209730256,\n",
       " Downloaded object from URL https://ws.cadc-ccda.hia-iha.nrc-cnrc.gc.ca/caom2ops/sync?ID=cadc%3ACFHT%2F2417478p.fits.fz&POS=CIRCLE+182.63574172891978+39.40572772909787+0.002777777777777778 with ID 140527209731168,\n",
       " Downloaded object from URL https://ws.cadc-ccda.hia-iha.nrc-cnrc.gc.ca/caom2ops/sync?ID=cadc%3ACFHT%2F2417478w.fits.fz&POS=CIRCLE+182.63574172891978+39.40572772909787+0.002777777777777778 with ID 140527209730352,\n",
       " Downloaded object from URL https://ws.cadc-ccda.hia-iha.nrc-cnrc.gc.ca/caom2ops/sync?ID=cadc%3ACFHT%2F2417478y.fits.fz&POS=CIRCLE+182.63574172891978+39.40572772909787+0.002777777777777778 with ID 140527209730448,\n",
       " Downloaded object from URL https://ws.cadc-ccda.hia-iha.nrc-cnrc.gc.ca/caom2ops/sync?ID=cadc%3ACFHT%2F2417479o.fits.fz&POS=CIRCLE+182.63574172891978+39.40572772909787+0.002777777777777778 with ID 140527209731456,\n",
       " Downloaded object from URL https://ws.cadc-ccda.hia-iha.nrc-cnrc.gc.ca/caom2ops/sync?ID=cadc%3ACFHT%2F2417479p.fits.fz&POS=CIRCLE+182.63574172891978+39.40572772909787+0.002777777777777778 with ID 140527209731552,\n",
       " Downloaded object from URL https://ws.cadc-ccda.hia-iha.nrc-cnrc.gc.ca/caom2ops/sync?ID=cadc%3ACFHT%2F2417479w.fits.fz&POS=CIRCLE+182.63574172891978+39.40572772909787+0.002777777777777778 with ID 140527209733424,\n",
       " Downloaded object from URL https://ws.cadc-ccda.hia-iha.nrc-cnrc.gc.ca/caom2ops/sync?ID=cadc%3ACFHT%2F2417481o.fits.fz&POS=CIRCLE+182.63574172891978+39.40572772909787+0.002777777777777778 with ID 140527209732080,\n",
       " Downloaded object from URL https://ws.cadc-ccda.hia-iha.nrc-cnrc.gc.ca/caom2ops/sync?ID=cadc%3ACFHT%2F2417481p.fits.fz&POS=CIRCLE+182.63574172891978+39.40572772909787+0.002777777777777778 with ID 140527209731216,\n",
       " Downloaded object from URL https://ws.cadc-ccda.hia-iha.nrc-cnrc.gc.ca/caom2ops/sync?ID=cadc%3ACFHT%2F2417481s.fits.fz&POS=CIRCLE+182.63574172891978+39.40572772909787+0.002777777777777778 with ID 140527209734048,\n",
       " Downloaded object from URL https://ws.cadc-ccda.hia-iha.nrc-cnrc.gc.ca/caom2ops/sync?ID=cadc%3ACFHT%2F2417481w.fits.fz&POS=CIRCLE+182.63574172891978+39.40572772909787+0.002777777777777778 with ID 140527209733808,\n",
       " Downloaded object from URL https://ws.cadc-ccda.hia-iha.nrc-cnrc.gc.ca/caom2ops/sync?ID=cadc%3ACFHT%2F2417481y.fits.fz&POS=CIRCLE+182.63574172891978+39.40572772909787+0.002777777777777778 with ID 140527209733472,\n",
       " Downloaded object from URL https://ws.cadc-ccda.hia-iha.nrc-cnrc.gc.ca/caom2ops/sync?ID=cadc%3ACFHT%2F2417484o.fits.fz&POS=CIRCLE+182.63574172891978+39.40572772909787+0.002777777777777778 with ID 140527209733232,\n",
       " Downloaded object from URL https://ws.cadc-ccda.hia-iha.nrc-cnrc.gc.ca/caom2ops/sync?ID=cadc%3ACFHT%2F2417484w.fits.fz&POS=CIRCLE+182.63574172891978+39.40572772909787+0.002777777777777778 with ID 140527209732992,\n",
       " Downloaded object from URL https://ws.cadc-ccda.hia-iha.nrc-cnrc.gc.ca/caom2ops/sync?ID=cadc%3ACFHT%2F2417486o.fits.fz&POS=CIRCLE+182.63574172891978+39.40572772909787+0.002777777777777778 with ID 140527209732752,\n",
       " Downloaded object from URL https://ws.cadc-ccda.hia-iha.nrc-cnrc.gc.ca/caom2ops/sync?ID=cadc%3ACFHT%2F2417486p.fits.fz&POS=CIRCLE+182.63574172891978+39.40572772909787+0.002777777777777778 with ID 140527209731504,\n",
       " Downloaded object from URL https://ws.cadc-ccda.hia-iha.nrc-cnrc.gc.ca/caom2ops/sync?ID=cadc%3ACFHT%2F2417486w.fits.fz&POS=CIRCLE+182.63574172891978+39.40572772909787+0.002777777777777778 with ID 140527209732224,\n",
       " Downloaded object from URL https://ws.cadc-ccda.hia-iha.nrc-cnrc.gc.ca/caom2ops/sync?ID=cadc%3ACFHT%2F2417487w.fits.fz&POS=CIRCLE+182.63574172891978+39.40572772909787+0.002777777777777778 with ID 140527209732320,\n",
       " Downloaded object from URL https://ws.cadc-ccda.hia-iha.nrc-cnrc.gc.ca/caom2ops/sync?ID=cadc%3ACFHT%2F2417487y.fits.fz&POS=CIRCLE+182.63574172891978+39.40572772909787+0.002777777777777778 with ID 140527209731936,\n",
       " Downloaded object from URL https://ws.cadc-ccda.hia-iha.nrc-cnrc.gc.ca/caom2ops/sync?ID=cadc%3ACFHT%2F2417489o.fits.fz&POS=CIRCLE+182.63574172891978+39.40572772909787+0.002777777777777778 with ID 140527209731264,\n",
       " Downloaded object from URL https://ws.cadc-ccda.hia-iha.nrc-cnrc.gc.ca/caom2ops/sync?ID=cadc%3ACFHT%2F2417489p.fits.fz&POS=CIRCLE+182.63574172891978+39.40572772909787+0.002777777777777778 with ID 140525566510128,\n",
       " Downloaded object from URL https://ws.cadc-ccda.hia-iha.nrc-cnrc.gc.ca/caom2ops/sync?ID=cadc%3ACFHT%2F2417489w.fits.fz&POS=CIRCLE+182.63574172891978+39.40572772909787+0.002777777777777778 with ID 140525566510464,\n",
       " Downloaded object from URL https://ws.cadc-ccda.hia-iha.nrc-cnrc.gc.ca/caom2ops/sync?ID=cadc%3ACFHT%2F2417489y.fits.fz&POS=CIRCLE+182.63574172891978+39.40572772909787+0.002777777777777778 with ID 140525566510848,\n",
       " Downloaded object from URL https://ws.cadc-ccda.hia-iha.nrc-cnrc.gc.ca/caom2ops/sync?ID=cadc%3ACFHT%2F2417493o.fits.fz&POS=CIRCLE+182.63574172891978+39.40572772909787+0.002777777777777778 with ID 140525566510800,\n",
       " Downloaded object from URL https://ws.cadc-ccda.hia-iha.nrc-cnrc.gc.ca/caom2ops/sync?ID=cadc%3ACFHT%2F2417493s.fits.fz&POS=CIRCLE+182.63574172891978+39.40572772909787+0.002777777777777778 with ID 140525566511616,\n",
       " Downloaded object from URL https://ws.cadc-ccda.hia-iha.nrc-cnrc.gc.ca/caom2ops/sync?ID=cadc%3ACFHT%2F2417493p.fits.fz&POS=CIRCLE+182.63574172891978+39.40572772909787+0.002777777777777778 with ID 140525566512672,\n",
       " Downloaded object from URL https://ws.cadc-ccda.hia-iha.nrc-cnrc.gc.ca/caom2ops/sync?ID=cadc%3ACFHT%2F2417493w.fits.fz&POS=CIRCLE+182.63574172891978+39.40572772909787+0.002777777777777778 with ID 140525566510080,\n",
       " Downloaded object from URL https://ws.cadc-ccda.hia-iha.nrc-cnrc.gc.ca/caom2ops/sync?ID=cadc%3ACFHT%2F2417493y.fits.fz&POS=CIRCLE+182.63574172891978+39.40572772909787+0.002777777777777778 with ID 140525566512960,\n",
       " Downloaded object from URL https://ws.cadc-ccda.hia-iha.nrc-cnrc.gc.ca/caom2ops/sync?ID=cadc%3ACFHT%2F2417495o.fits.fz&POS=CIRCLE+182.63574172891978+39.40572772909787+0.002777777777777778 with ID 140525566512720,\n",
       " Downloaded object from URL https://ws.cadc-ccda.hia-iha.nrc-cnrc.gc.ca/caom2ops/sync?ID=cadc%3ACFHT%2F2417495p.fits.fz&POS=CIRCLE+182.63574172891978+39.40572772909787+0.002777777777777778 with ID 140525566512384,\n",
       " Downloaded object from URL https://ws.cadc-ccda.hia-iha.nrc-cnrc.gc.ca/caom2ops/sync?ID=cadc%3ACFHT%2F2417495w.fits.fz&POS=CIRCLE+182.63574172891978+39.40572772909787+0.002777777777777778 with ID 140525566512144,\n",
       " Downloaded object from URL https://ws.cadc-ccda.hia-iha.nrc-cnrc.gc.ca/caom2ops/sync?ID=cadc%3ACFHT%2F2417495y.fits.fz&POS=CIRCLE+182.63574172891978+39.40572772909787+0.002777777777777778 with ID 140525566511904,\n",
       " Downloaded object from URL https://ws.cadc-ccda.hia-iha.nrc-cnrc.gc.ca/caom2ops/sync?ID=cadc%3ACFHT%2F2417496o.fits.fz&POS=CIRCLE+182.63574172891978+39.40572772909787+0.002777777777777778 with ID 140525566511664,\n",
       " Downloaded object from URL https://ws.cadc-ccda.hia-iha.nrc-cnrc.gc.ca/caom2ops/sync?ID=cadc%3ACFHT%2F2417496p.fits.fz&POS=CIRCLE+182.63574172891978+39.40572772909787+0.002777777777777778 with ID 140525566510656,\n",
       " Downloaded object from URL https://ws.cadc-ccda.hia-iha.nrc-cnrc.gc.ca/caom2ops/sync?ID=cadc%3ACFHT%2F2417498w.fits.fz&POS=CIRCLE+182.63574172891978+39.40572772909787+0.002777777777777778 with ID 140525566511280,\n",
       " Downloaded object from URL https://ws.cadc-ccda.hia-iha.nrc-cnrc.gc.ca/caom2ops/sync?ID=cadc%3ACFHT%2F2417498y.fits.fz&POS=CIRCLE+182.63574172891978+39.40572772909787+0.002777777777777778 with ID 140525566511184,\n",
       " Downloaded object from URL https://ws.cadc-ccda.hia-iha.nrc-cnrc.gc.ca/caom2ops/sync?ID=cadc%3ACFHT%2F2417501o.fits.fz&POS=CIRCLE+182.63574172891978+39.40572772909787+0.002777777777777778 with ID 140525566511088,\n",
       " Downloaded object from URL https://ws.cadc-ccda.hia-iha.nrc-cnrc.gc.ca/caom2ops/sync?ID=cadc%3ACFHT%2F2417501p.fits.fz&POS=CIRCLE+182.63574172891978+39.40572772909787+0.002777777777777778 with ID 140525566509648,\n",
       " Downloaded object from URL https://ws.cadc-ccda.hia-iha.nrc-cnrc.gc.ca/caom2ops/sync?ID=cadc%3ACFHT%2F2417501w.fits.fz&POS=CIRCLE+182.63574172891978+39.40572772909787+0.002777777777777778 with ID 140525566509600,\n",
       " Downloaded object from URL https://ws.cadc-ccda.hia-iha.nrc-cnrc.gc.ca/caom2ops/sync?ID=cadc%3ACFHT%2F2417501y.fits.fz&POS=CIRCLE+182.63574172891978+39.40572772909787+0.002777777777777778 with ID 140525566509360,\n",
       " Downloaded object from URL https://ws.cadc-ccda.hia-iha.nrc-cnrc.gc.ca/caom2ops/sync?ID=cadc%3ACFHT%2F2417503o.fits.fz&POS=CIRCLE+182.63574172891978+39.40572772909787+0.002777777777777778 with ID 140525566529696,\n",
       " Downloaded object from URL https://ws.cadc-ccda.hia-iha.nrc-cnrc.gc.ca/caom2ops/sync?ID=cadc%3ACFHT%2F2417503p.fits.fz&POS=CIRCLE+182.63574172891978+39.40572772909787+0.002777777777777778 with ID 140525566531904,\n",
       " Downloaded object from URL https://ws.cadc-ccda.hia-iha.nrc-cnrc.gc.ca/caom2ops/sync?ID=cadc%3ACFHT%2F2417503w.fits.fz&POS=CIRCLE+182.63574172891978+39.40572772909787+0.002777777777777778 with ID 140525566529936,\n",
       " Downloaded object from URL https://ws.cadc-ccda.hia-iha.nrc-cnrc.gc.ca/caom2ops/sync?ID=cadc%3ACFHT%2F2417503y.fits.fz&POS=CIRCLE+182.63574172891978+39.40572772909787+0.002777777777777778 with ID 140525566530368,\n",
       " Downloaded object from URL https://ws.cadc-ccda.hia-iha.nrc-cnrc.gc.ca/caom2ops/sync?ID=cadc%3ACFHT%2F2417504p.fits.fz&POS=CIRCLE+182.63574172891978+39.40572772909787+0.002777777777777778 with ID 140525566530608,\n",
       " Downloaded object from URL https://ws.cadc-ccda.hia-iha.nrc-cnrc.gc.ca/caom2ops/sync?ID=cadc%3ACFHT%2F2417504w.fits.fz&POS=CIRCLE+182.63574172891978+39.40572772909787+0.002777777777777778 with ID 140525566531520,\n",
       " Downloaded object from URL https://ws.cadc-ccda.hia-iha.nrc-cnrc.gc.ca/caom2ops/sync?ID=cadc%3ACFHT%2F2417506g.fits.fz&POS=CIRCLE+182.63574172891978+39.40572772909787+0.002777777777777778 with ID 140525566531760,\n",
       " Downloaded object from URL https://ws.cadc-ccda.hia-iha.nrc-cnrc.gc.ca/caom2ops/sync?ID=cadc%3ACFHT%2F2417506o.fits.fz&POS=CIRCLE+182.63574172891978+39.40572772909787+0.002777777777777778 with ID 140525566532096,\n",
       " Downloaded object from URL https://ws.cadc-ccda.hia-iha.nrc-cnrc.gc.ca/caom2ops/sync?ID=cadc%3ACFHT%2F2417506p.fits.fz&POS=CIRCLE+182.63574172891978+39.40572772909787+0.002777777777777778 with ID 140525566530800,\n",
       " Downloaded object from URL https://ws.cadc-ccda.hia-iha.nrc-cnrc.gc.ca/caom2ops/sync?ID=cadc%3ACFHT%2F2417506w.fits.fz&POS=CIRCLE+182.63574172891978+39.40572772909787+0.002777777777777778 with ID 140525566533440,\n",
       " Downloaded object from URL https://ws.cadc-ccda.hia-iha.nrc-cnrc.gc.ca/caom2ops/sync?ID=cadc%3ACFHT%2F2417506y.fits.fz&POS=CIRCLE+182.63574172891978+39.40572772909787+0.002777777777777778 with ID 140525566533200,\n",
       " Downloaded object from URL https://ws.cadc-ccda.hia-iha.nrc-cnrc.gc.ca/caom2ops/sync?ID=cadc%3ACFHT%2F2417509y.fits.fz&POS=CIRCLE+182.63574172891978+39.40572772909787+0.002777777777777778 with ID 140525566532960,\n",
       " Downloaded object from URL https://ws.cadc-ccda.hia-iha.nrc-cnrc.gc.ca/caom2ops/sync?ID=cadc%3ACFHT%2F2417511o.fits.fz&POS=CIRCLE+182.63574172891978+39.40572772909787+0.002777777777777778 with ID 140525566532720,\n",
       " Downloaded object from URL https://ws.cadc-ccda.hia-iha.nrc-cnrc.gc.ca/caom2ops/sync?ID=cadc%3ACFHT%2F2417511p.fits.fz&POS=CIRCLE+182.63574172891978+39.40572772909787+0.002777777777777778 with ID 140525566532192,\n",
       " Downloaded object from URL https://ws.cadc-ccda.hia-iha.nrc-cnrc.gc.ca/caom2ops/sync?ID=cadc%3ACFHT%2F2417511w.fits.fz&POS=CIRCLE+182.63574172891978+39.40572772909787+0.002777777777777778 with ID 140525566533584,\n",
       " Downloaded object from URL https://ws.cadc-ccda.hia-iha.nrc-cnrc.gc.ca/caom2ops/sync?ID=cadc%3ACFHT%2F2417511y.fits.fz&POS=CIRCLE+182.63574172891978+39.40572772909787+0.002777777777777778 with ID 140525566530992,\n",
       " Downloaded object from URL https://ws.cadc-ccda.hia-iha.nrc-cnrc.gc.ca/caom2ops/sync?ID=cadc%3ACFHT%2F2417512o.fits.fz&POS=CIRCLE+182.63574172891978+39.40572772909787+0.002777777777777778 with ID 140525566530272,\n",
       " Downloaded object from URL https://ws.cadc-ccda.hia-iha.nrc-cnrc.gc.ca/caom2ops/sync?ID=cadc%3ACFHT%2F2417512p.fits.fz&POS=CIRCLE+182.63574172891978+39.40572772909787+0.002777777777777778 with ID 140525566531184,\n",
       " Downloaded object from URL https://ws.cadc-ccda.hia-iha.nrc-cnrc.gc.ca/caom2ops/sync?ID=cadc%3ACFHT%2F2417512w.fits.fz&POS=CIRCLE+182.63574172891978+39.40572772909787+0.002777777777777778 with ID 140525566530080,\n",
       " Downloaded object from URL https://ws.cadc-ccda.hia-iha.nrc-cnrc.gc.ca/caom2ops/sync?ID=cadc%3ACFHT%2F2417512y.fits.fz&POS=CIRCLE+182.63574172891978+39.40572772909787+0.002777777777777778 with ID 140525566529840,\n",
       " Downloaded object from URL https://ws.cadc-ccda.hia-iha.nrc-cnrc.gc.ca/caom2ops/sync?ID=cadc%3ACFHT%2F2417514p.fits.fz&POS=CIRCLE+182.63574172891978+39.40572772909787+0.002777777777777778 with ID 140525566464304,\n",
       " Downloaded object from URL https://ws.cadc-ccda.hia-iha.nrc-cnrc.gc.ca/caom2ops/sync?ID=cadc%3ACFHT%2F2417514w.fits.fz&POS=CIRCLE+182.63574172891978+39.40572772909787+0.002777777777777778 with ID 140525566466032,\n",
       " Downloaded object from URL https://ws.cadc-ccda.hia-iha.nrc-cnrc.gc.ca/caom2ops/sync?ID=cadc%3ACFHT%2F2417514y.fits.fz&POS=CIRCLE+182.63574172891978+39.40572772909787+0.002777777777777778 with ID 140525566464544,\n",
       " Downloaded object from URL https://ws.cadc-ccda.hia-iha.nrc-cnrc.gc.ca/caom2ops/sync?ID=cadc%3ACFHT%2F2417517o.fits.fz&POS=CIRCLE+182.63574172891978+39.40572772909787+0.002777777777777778 with ID 140525566464928,\n",
       " Downloaded object from URL https://ws.cadc-ccda.hia-iha.nrc-cnrc.gc.ca/caom2ops/sync?ID=cadc%3ACFHT%2F2417517p.fits.fz&POS=CIRCLE+182.63574172891978+39.40572772909787+0.002777777777777778 with ID 140525566465456,\n",
       " Downloaded object from URL https://ws.cadc-ccda.hia-iha.nrc-cnrc.gc.ca/caom2ops/sync?ID=cadc%3ACFHT%2F2417517w.fits.fz&POS=CIRCLE+182.63574172891978+39.40572772909787+0.002777777777777778 with ID 140525566466224,\n",
       " Downloaded object from URL https://ws.cadc-ccda.hia-iha.nrc-cnrc.gc.ca/caom2ops/sync?ID=cadc%3ACFHT%2F2417517y.fits.fz&POS=CIRCLE+182.63574172891978+39.40572772909787+0.002777777777777778 with ID 140525566467376,\n",
       " Downloaded object from URL https://ws.cadc-ccda.hia-iha.nrc-cnrc.gc.ca/caom2ops/sync?ID=cadc%3ACFHT%2F2417519o.fits.fz&POS=CIRCLE+182.63574172891978+39.40572772909787+0.002777777777777778 with ID 140525566466464,\n",
       " Downloaded object from URL https://ws.cadc-ccda.hia-iha.nrc-cnrc.gc.ca/caom2ops/sync?ID=cadc%3ACFHT%2F2417520o.fits.fz&POS=CIRCLE+182.63574172891978+39.40572772909787+0.002777777777777778 with ID 140525566465168,\n",
       " Downloaded object from URL https://ws.cadc-ccda.hia-iha.nrc-cnrc.gc.ca/caom2ops/sync?ID=cadc%3ACFHT%2F2417520p.fits.fz&POS=CIRCLE+182.63574172891978+39.40572772909787+0.002777777777777778 with ID 140525566467712,\n",
       " Downloaded object from URL https://ws.cadc-ccda.hia-iha.nrc-cnrc.gc.ca/caom2ops/sync?ID=cadc%3ACFHT%2F2417520w.fits.fz&POS=CIRCLE+182.63574172891978+39.40572772909787+0.002777777777777778 with ID 140525566467472,\n",
       " Downloaded object from URL https://ws.cadc-ccda.hia-iha.nrc-cnrc.gc.ca/caom2ops/sync?ID=cadc%3ACFHT%2F2417520y.fits.fz&POS=CIRCLE+182.63574172891978+39.40572772909787+0.002777777777777778 with ID 140525566467232,\n",
       " Downloaded object from URL https://ws.cadc-ccda.hia-iha.nrc-cnrc.gc.ca/caom2ops/sync?ID=cadc%3ACFHT%2F2417522o.fits.fz&POS=CIRCLE+182.63574172891978+39.40572772909787+0.002777777777777778 with ID 140525566466992,\n",
       " Downloaded object from URL https://ws.cadc-ccda.hia-iha.nrc-cnrc.gc.ca/caom2ops/sync?ID=cadc%3ACFHT%2F2417522p.fits.fz&POS=CIRCLE+182.63574172891978+39.40572772909787+0.002777777777777778 with ID 140525566466944,\n",
       " Downloaded object from URL https://ws.cadc-ccda.hia-iha.nrc-cnrc.gc.ca/caom2ops/sync?ID=cadc%3ACFHT%2F2417522w.fits.fz&POS=CIRCLE+182.63574172891978+39.40572772909787+0.002777777777777778 with ID 140525566466896,\n",
       " Downloaded object from URL https://ws.cadc-ccda.hia-iha.nrc-cnrc.gc.ca/caom2ops/sync?ID=cadc%3ACFHT%2F2417522y.fits.fz&POS=CIRCLE+182.63574172891978+39.40572772909787+0.002777777777777778 with ID 140525566466800,\n",
       " Downloaded object from URL https://ws.cadc-ccda.hia-iha.nrc-cnrc.gc.ca/caom2ops/sync?ID=cadc%3ACFHT%2F2417525o.fits.fz&POS=CIRCLE+182.63574172891978+39.40572772909787+0.002777777777777778 with ID 140525566465792,\n",
       " Downloaded object from URL https://ws.cadc-ccda.hia-iha.nrc-cnrc.gc.ca/caom2ops/sync?ID=cadc%3ACFHT%2F2417525p.fits.fz&POS=CIRCLE+182.63574172891978+39.40572772909787+0.002777777777777778 with ID 140525566465744,\n",
       " Downloaded object from URL https://ws.cadc-ccda.hia-iha.nrc-cnrc.gc.ca/caom2ops/sync?ID=cadc%3ACFHT%2F2417525s.fits.fz&POS=CIRCLE+182.63574172891978+39.40572772909787+0.002777777777777778 with ID 140525566465072,\n",
       " Downloaded object from URL https://ws.cadc-ccda.hia-iha.nrc-cnrc.gc.ca/caom2ops/sync?ID=cadc%3ACFHT%2F2417525y.fits.fz&POS=CIRCLE+182.63574172891978+39.40572772909787+0.002777777777777778 with ID 140525566464160,\n",
       " Downloaded object from URL https://ws.cadc-ccda.hia-iha.nrc-cnrc.gc.ca/caom2ops/sync?ID=cadc%3ACFHT%2F2417527o.fits.fz&POS=CIRCLE+182.63574172891978+39.40572772909787+0.002777777777777778 with ID 140526423067712,\n",
       " Downloaded object from URL https://ws.cadc-ccda.hia-iha.nrc-cnrc.gc.ca/caom2ops/sync?ID=cadc%3ACFHT%2F2417527p.fits.fz&POS=CIRCLE+182.63574172891978+39.40572772909787+0.002777777777777778 with ID 140526423065504,\n",
       " Downloaded object from URL https://ws.cadc-ccda.hia-iha.nrc-cnrc.gc.ca/caom2ops/sync?ID=cadc%3ACFHT%2F2417527w.fits.fz&POS=CIRCLE+182.63574172891978+39.40572772909787+0.002777777777777778 with ID 140526423066848,\n",
       " Downloaded object from URL https://ws.cadc-ccda.hia-iha.nrc-cnrc.gc.ca/caom2ops/sync?ID=cadc%3ACFHT%2F2417527y.fits.fz&POS=CIRCLE+182.63574172891978+39.40572772909787+0.002777777777777778 with ID 140526423064784,\n",
       " Downloaded object from URL https://ws.cadc-ccda.hia-iha.nrc-cnrc.gc.ca/caom2ops/sync?ID=cadc%3ACFHT%2F2417528o.fits.fz&POS=CIRCLE+182.63574172891978+39.40572772909787+0.002777777777777778 with ID 140526423065552,\n",
       " Downloaded object from URL https://ws.cadc-ccda.hia-iha.nrc-cnrc.gc.ca/caom2ops/sync?ID=cadc%3ACFHT%2F2417530o.fits.fz&POS=CIRCLE+182.63574172891978+39.40572772909787+0.002777777777777778 with ID 140526423066320,\n",
       " Downloaded object from URL https://ws.cadc-ccda.hia-iha.nrc-cnrc.gc.ca/caom2ops/sync?ID=cadc%3ACFHT%2F2417530p.fits.fz&POS=CIRCLE+182.63574172891978+39.40572772909787+0.002777777777777778 with ID 140526423066800,\n",
       " Downloaded object from URL https://ws.cadc-ccda.hia-iha.nrc-cnrc.gc.ca/caom2ops/sync?ID=cadc%3ACFHT%2F2417530w.fits.fz&POS=CIRCLE+182.63574172891978+39.40572772909787+0.002777777777777778 with ID 140526423066560,\n",
       " Downloaded object from URL https://ws.cadc-ccda.hia-iha.nrc-cnrc.gc.ca/caom2ops/sync?ID=cadc%3ACFHT%2F2417530y.fits.fz&POS=CIRCLE+182.63574172891978+39.40572772909787+0.002777777777777778 with ID 140526423067520,\n",
       " Downloaded object from URL https://ws.cadc-ccda.hia-iha.nrc-cnrc.gc.ca/caom2ops/sync?ID=cadc%3ACFHT%2F2417534o.fits.fz&POS=CIRCLE+182.63574172891978+39.40572772909787+0.002777777777777778 with ID 140526423066944,\n",
       " Downloaded object from URL https://ws.cadc-ccda.hia-iha.nrc-cnrc.gc.ca/caom2ops/sync?ID=cadc%3ACFHT%2F2417534p.fits.fz&POS=CIRCLE+182.63574172891978+39.40572772909787+0.002777777777777778 with ID 140526423067376,\n",
       " Downloaded object from URL https://ws.cadc-ccda.hia-iha.nrc-cnrc.gc.ca/caom2ops/sync?ID=cadc%3ACFHT%2F2417534y.fits.fz&POS=CIRCLE+182.63574172891978+39.40572772909787+0.002777777777777778 with ID 140526423067184,\n",
       " Downloaded object from URL https://ws.cadc-ccda.hia-iha.nrc-cnrc.gc.ca/caom2ops/sync?ID=cadc%3ACFHT%2F2417536o.fits.fz&POS=CIRCLE+182.63574172891978+39.40572772909787+0.002777777777777778 with ID 140526423065888,\n",
       " Downloaded object from URL https://ws.cadc-ccda.hia-iha.nrc-cnrc.gc.ca/caom2ops/sync?ID=cadc%3ACFHT%2F2417536p.fits.fz&POS=CIRCLE+182.63574172891978+39.40572772909787+0.002777777777777778 with ID 140526423068000,\n",
       " Downloaded object from URL https://ws.cadc-ccda.hia-iha.nrc-cnrc.gc.ca/caom2ops/sync?ID=cadc%3ACFHT%2F2417536w.fits.fz&POS=CIRCLE+182.63574172891978+39.40572772909787+0.002777777777777778 with ID 140526423067472,\n",
       " Downloaded object from URL https://ws.cadc-ccda.hia-iha.nrc-cnrc.gc.ca/caom2ops/sync?ID=cadc%3ACFHT%2F2417536y.fits.fz&POS=CIRCLE+182.63574172891978+39.40572772909787+0.002777777777777778 with ID 140526423066512,\n",
       " Downloaded object from URL https://ws.cadc-ccda.hia-iha.nrc-cnrc.gc.ca/caom2ops/sync?ID=cadc%3ACFHT%2F2417537o.fits.fz&POS=CIRCLE+182.63574172891978+39.40572772909787+0.002777777777777778 with ID 140526423066464,\n",
       " Downloaded object from URL https://ws.cadc-ccda.hia-iha.nrc-cnrc.gc.ca/caom2ops/sync?ID=cadc%3ACFHT%2F2417537p.fits.fz&POS=CIRCLE+182.63574172891978+39.40572772909787+0.002777777777777778 with ID 140526423065792,\n",
       " Downloaded object from URL https://ws.cadc-ccda.hia-iha.nrc-cnrc.gc.ca/caom2ops/sync?ID=cadc%3ACFHT%2F2417537w.fits.fz&POS=CIRCLE+182.63574172891978+39.40572772909787+0.002777777777777778 with ID 140526423064880,\n",
       " Downloaded object from URL https://ws.cadc-ccda.hia-iha.nrc-cnrc.gc.ca/caom2ops/sync?ID=cadc%3ACFHT%2F2417537y.fits.fz&POS=CIRCLE+182.63574172891978+39.40572772909787+0.002777777777777778 with ID 140526423064736,\n",
       " Downloaded object from URL https://ws.cadc-ccda.hia-iha.nrc-cnrc.gc.ca/caom2ops/sync?ID=cadc%3ACFHT%2F2417539o.fits.fz&POS=CIRCLE+182.63574172891978+39.40572772909787+0.002777777777777778 with ID 140526422903056,\n",
       " Downloaded object from URL https://ws.cadc-ccda.hia-iha.nrc-cnrc.gc.ca/caom2ops/sync?ID=cadc%3ACFHT%2F2417539p.fits.fz&POS=CIRCLE+182.63574172891978+39.40572772909787+0.002777777777777778 with ID 140526422901376,\n",
       " Downloaded object from URL https://ws.cadc-ccda.hia-iha.nrc-cnrc.gc.ca/caom2ops/sync?ID=cadc%3ACFHT%2F2417542s.fits.fz&POS=CIRCLE+182.63574172891978+39.40572772909787+0.002777777777777778 with ID 140526422901328,\n",
       " Downloaded object from URL https://ws.cadc-ccda.hia-iha.nrc-cnrc.gc.ca/caom2ops/sync?ID=cadc%3ACFHT%2F2417542w.fits.fz&POS=CIRCLE+182.63574172891978+39.40572772909787+0.002777777777777778 with ID 140526422901712,\n",
       " Downloaded object from URL https://ws.cadc-ccda.hia-iha.nrc-cnrc.gc.ca/caom2ops/sync?ID=cadc%3ACFHT%2F2417408s.fits.fz&POS=CIRCLE+182.63574172891978+39.40572772909787+0.002777777777777778 with ID 140526422902240,\n",
       " Downloaded object from URL https://ws.cadc-ccda.hia-iha.nrc-cnrc.gc.ca/caom2ops/sync?ID=cadc%3ACFHT%2F2417519s.fits.fz&POS=CIRCLE+182.63574172891978+39.40572772909787+0.002777777777777778 with ID 140526422902816,\n",
       " Downloaded object from URL https://ws.cadc-ccda.hia-iha.nrc-cnrc.gc.ca/caom2ops/sync?ID=cadc%3ACFHT%2F2418045s.fits.fz&POS=CIRCLE+182.63574172891978+39.40572772909787+0.002777777777777778 with ID 140526422903296]"
      ]
     },
     "execution_count": 15,
     "metadata": {},
     "output_type": "execute_result"
    }
   ],
   "source": [
    "from astropy import units as u\n",
    "from astropy.coordinates import SkyCoord\n",
    "from astroquery.cadc import Cadc\n",
    "\n",
    "#cadc = Cadc()\n",
    "coords = SkyCoord(ra, dec, unit='deg')\n",
    "radius = 10*u.arcsec #0.01*u.deg\n",
    "readable_objs = cadc.get_images_async(coords, radius, collection='CFHT')\n",
    "readable_objs  "
   ]
  },
  {
   "cell_type": "code",
   "execution_count": 10,
   "id": "4002f9cf",
   "metadata": {
    "ExecuteTime": {
     "end_time": "2023-06-08T11:29:26.277534Z",
     "start_time": "2023-06-08T11:29:26.116836Z"
    }
   },
   "outputs": [
    {
     "name": "stdout",
     "output_type": "stream",
     "text": [
      "zsh:1: no matches found: *.fits\r\n"
     ]
    }
   ],
   "source": [
    "ls *.fits"
   ]
  },
  {
   "cell_type": "code",
   "execution_count": 11,
   "id": "bc235041",
   "metadata": {
    "ExecuteTime": {
     "end_time": "2023-06-08T11:30:15.777463Z",
     "start_time": "2023-06-08T11:30:15.764011Z"
    }
   },
   "outputs": [
    {
     "data": {
      "text/plain": [
       "(182.63574, 39.40573)"
      ]
     },
     "execution_count": 11,
     "metadata": {},
     "output_type": "execute_result"
    }
   ],
   "source": [
    "ra,dec"
   ]
  },
  {
   "cell_type": "code",
   "execution_count": 14,
   "id": "2b6ed0af",
   "metadata": {
    "ExecuteTime": {
     "end_time": "2023-06-08T11:31:53.342712Z",
     "start_time": "2023-06-08T11:31:52.973851Z"
    }
   },
   "outputs": [
    {
     "ename": "NameError",
     "evalue": "name 'SkyCoord' is not defined",
     "output_type": "error",
     "traceback": [
      "\u001b[0;31m---------------------------------------------------------------------------\u001b[0m",
      "\u001b[0;31mNameError\u001b[0m                                 Traceback (most recent call last)",
      "Input \u001b[0;32mIn [14]\u001b[0m, in \u001b[0;36m<cell line: 1>\u001b[0;34m()\u001b[0m\n\u001b[0;32m----> 1\u001b[0m coords \u001b[38;5;241m=\u001b[39m \u001b[43mSkyCoord\u001b[49m(ra, dec, unit\u001b[38;5;241m=\u001b[39m\u001b[38;5;124m'\u001b[39m\u001b[38;5;124mdeg\u001b[39m\u001b[38;5;124m'\u001b[39m)\n\u001b[1;32m      2\u001b[0m \u001b[38;5;66;03m#radius = 30*u.arcsec\u001b[39;00m\n\u001b[1;32m      3\u001b[0m radius \u001b[38;5;241m=\u001b[39m  \u001b[38;5;241m10\u001b[39m\u001b[38;5;241m*\u001b[39mu\u001b[38;5;241m.\u001b[39marcsec \u001b[38;5;66;03m# 0.1*u.deg\u001b[39;00m\n",
      "\u001b[0;31mNameError\u001b[0m: name 'SkyCoord' is not defined"
     ]
    }
   ],
   "source": [
    "coords = SkyCoord(ra, dec, unit='deg')\n",
    "#radius = 30*u.arcsec\n",
    "radius =  10*u.arcsec # 0.1*u.deg\n",
    "readable_objs = cadc.get_images_async(coords, radius, collection='JWST')\n",
    "readable_objs  "
   ]
  },
  {
   "cell_type": "code",
   "execution_count": 56,
   "id": "62bd4ee7",
   "metadata": {
    "ExecuteTime": {
     "end_time": "2022-10-06T09:20:23.685166Z",
     "start_time": "2022-10-06T09:20:23.668894Z"
    }
   },
   "outputs": [
    {
     "data": {
      "text/plain": [
       "(182.63574, 39.40573)"
      ]
     },
     "execution_count": 56,
     "metadata": {},
     "output_type": "execute_result"
    }
   ],
   "source": [
    "ra,dec"
   ]
  },
  {
   "cell_type": "code",
   "execution_count": 59,
   "id": "50bad91d",
   "metadata": {
    "ExecuteTime": {
     "end_time": "2022-10-06T09:21:32.135254Z",
     "start_time": "2022-10-06T09:21:32.124645Z"
    }
   },
   "outputs": [],
   "source": [
    "import astropy.units as u\n",
    "from astropy.coordinates import SkyCoord\n",
    "from astroquery.esa.jwst import Jwst"
   ]
  },
  {
   "cell_type": "code",
   "execution_count": 60,
   "id": "ad3981f9",
   "metadata": {
    "ExecuteTime": {
     "end_time": "2022-10-06T10:04:30.175899Z",
     "start_time": "2022-10-06T10:04:20.292400Z"
    }
   },
   "outputs": [
    {
     "name": "stderr",
     "output_type": "stream",
     "text": [
      "INFO:astroquery:Query finished.\n"
     ]
    },
    {
     "name": "stdout",
     "output_type": "stream",
     "text": [
      "INFO: Query finished. [astroquery.utils.tap.core]\n"
     ]
    },
    {
     "data": {
      "text/html": [
       "<div><i>Table length=24</i>\n",
       "<table id=\"table140309336907296\" class=\"table-striped table-bordered table-condensed\">\n",
       "<thead><tr><th>dist</th><th>observationid</th><th>calibrationlevel</th><th>public</th><th>dataproducttype</th><th>instrument_name</th><th>energy_bandpassname</th><th>target_name</th><th>target_ra</th><th>target_dec</th><th>position_bounds_center</th><th>position_bounds_spoly</th></tr></thead>\n",
       "<thead><tr><th>float64</th><th>object</th><th>int32</th><th>bool</th><th>object</th><th>object</th><th>object</th><th>object</th><th>float64</th><th>float64</th><th>object</th><th>object</th></tr></thead>\n",
       "<tr><td>0.00011524903405725874</td><td>jw01364001001_xx10l_00009_nirspec</td><td>-1</td><td>False</td><td>spectrum</td><td>NIRISS/IFU</td><td>F170LP/G235H</td><td>NGC-4151</td><td>182.6357641666667</td><td>39.40584166666667</td><td>STC-S as Position ICRS GEOCENTER 182.63583615077667 39.40581483242358</td><td>Polygon 182.63579863605682 39.405193833825024 182.6350439648717 39.40586222562879 182.63587364346864 39.406435760166964 182.6366283572583 39.40576757723101</td></tr>\n",
       "<tr><td>0.00011524903405725874</td><td>jw01364001001_xx10n_00011_nirspec</td><td>-1</td><td>False</td><td>spectrum</td><td>NIRISS/IFU</td><td>F170LP/G235H</td><td>NGC-4151</td><td>182.6357641666667</td><td>39.40584166666667</td><td>STC-S as Position ICRS GEOCENTER 182.6357191216581 39.405831343300115</td><td>Polygon 182.63568160864162 39.405210344648914 182.63492693615646 39.40587873569654 182.63575661398738 39.40645227106596 182.6365113290765 39.40578408888614</td></tr>\n",
       "<tr><td>0.00011524903405725874</td><td>jw01364001001_xx104_00004_nirspec</td><td>-1</td><td>False</td><td>spectrum</td><td>NIRISS/IFU</td><td>F170LP/G235H</td><td>NGC-4151</td><td>182.6357641666667</td><td>39.40584166666667</td><td>STC-S as Position ICRS GEOCENTER 182.635727197418 39.40587962505939</td><td>Polygon 182.63568968269644 39.40525862644703 182.63493500976608 39.4059270175468 182.6357646882381 39.40650055285887 182.63651940377247 39.40583237062685</td></tr>\n",
       "<tr><td>0.00011524903405725874</td><td>jw01364001001_xx10o_00012_nirspec</td><td>-1</td><td>False</td><td>spectrum</td><td>NIRISS/IFU</td><td>F170LP/G235H</td><td>NGC-4151</td><td>182.6357641666667</td><td>39.40584166666667</td><td>STC-S as Position ICRS GEOCENTER 182.6357808644266 39.405806834557396</td><td>Polygon 182.63574335236584 39.40518583589227 182.63498868073782 39.40585422733885 182.6358183587853 39.40642776226972 182.63657307301733 39.40575957969095</td></tr>\n",
       "<tr><td>0.00011524903405725874</td><td>jw01364001001_xx105_00005_nirspec</td><td>-1</td><td>False</td><td>spectrum</td><td>NIRISS/IFU</td><td>F170LP/G235H</td><td>NGC-4151</td><td>182.6357641666667</td><td>39.40584166666667</td><td>STC-S as Position ICRS GEOCENTER 182.6357600633411 39.40581883514025</td><td>Polygon 182.63572254798524 39.40519783654686 182.6349678760278 39.40586622785902 182.63579755404666 39.40643976293761 182.63655226860863 39.405771580493315</td></tr>\n",
       "<tr><td>0.00011524903405725874</td><td>jw01364001001_xx107_00007_nirspec</td><td>-1</td><td>False</td><td>spectrum</td><td>NIRISS/IFU</td><td>F170LP/G235H</td><td>NGC-4151</td><td>182.6357641666667</td><td>39.40584166666667</td><td>STC-S as Position ICRS GEOCENTER 182.63572461264783 39.405850230166514</td><td>Polygon 182.6356870939115 39.40522923164485 182.634932421274 39.40589762272795 182.6357620993753 39.40647115805841 182.63651681461627 39.405802975843116</td></tr>\n",
       "<tr><td>...</td><td>...</td><td>...</td><td>...</td><td>...</td><td>...</td><td>...</td><td>...</td><td>...</td><td>...</td><td>...</td><td>...</td></tr>\n",
       "<tr><td>0.00011524903405725874</td><td>jw01364001001_xx10k_00008_nirspec</td><td>-1</td><td>False</td><td>spectrum</td><td>NIRISS/IFU</td><td>F170LP/G235H</td><td>NGC-4151</td><td>182.6357641666667</td><td>39.40584166666667</td><td>STC-S as Position ICRS GEOCENTER 182.63572288710407 39.40583063362468</td><td>Polygon 182.6356853680555 39.40520963511007 182.6349306956139 39.405878026181995 182.6357603734677 39.40645156152471 182.6365150885133 39.4057833793206</td></tr>\n",
       "<tr><td>0.00011524903405725874</td><td>jw01364001001_xx106_00006_nirspec</td><td>-1</td><td>False</td><td>spectrum</td><td>NIRISS/IFU</td><td>F170LP/G235H</td><td>NGC-4151</td><td>182.6357641666667</td><td>39.40584166666667</td><td>STC-S as Position ICRS GEOCENTER 182.6357888762542 39.40585669468413</td><td>Polygon 182.63575136163573 39.405235696077156 182.63499668954475 39.40590408757542 182.63582636825112 39.4064776224494 182.63658108294607 39.40580943981889</td></tr>\n",
       "<tr><td>0.00011524903405725874</td><td>jw01364001001_xx10b_00011_nirspec</td><td>-1</td><td>False</td><td>spectrum</td><td>NIRISS/IFU</td><td>F170LP/G235H</td><td>NGC-4151</td><td>182.6357641666667</td><td>39.40584166666667</td><td>STC-S as Position ICRS GEOCENTER 182.6357191216581 39.405831343300115</td><td>Polygon 182.63568160864162 39.405210344648914 182.63492693615646 39.40587873569654 182.63575661398738 39.40645227106596 182.6365113290765 39.40578408888614</td></tr>\n",
       "<tr><td>0.00011524903405725874</td><td>jw01364001001_xx102_00002_nirspec</td><td>-1</td><td>False</td><td>spectrum</td><td>NIRISS/IFU</td><td>F170LP/G235H</td><td>NGC-4151</td><td>182.6357641666667</td><td>39.40584166666667</td><td>STC-S as Position ICRS GEOCENTER 182.6356848437384 39.405832633924334</td><td>Polygon 182.63564732519114 39.4052116353938 182.6348926523634 39.405880026219975 182.63572232992783 39.40645356183285 182.63647704535958 39.40578537987453</td></tr>\n",
       "<tr><td>0.00011524903405725874</td><td>jw01364001001_xx101_00001_nirspec</td><td>-1</td><td>False</td><td>spectrum</td><td>NIRISS/IFU</td><td>F170LP/G235H</td><td>NGC-4151</td><td>182.6357641666667</td><td>39.40584166666667</td><td>STC-S as Position ICRS GEOCENTER 182.63583873580242 39.405844229348794</td><td>Polygon 182.63580122252407 39.405223230717645 182.63504655104563 39.40589162253808 182.63587623001382 39.406465157057916 182.6366309440963 39.405796974105236</td></tr>\n",
       "<tr><td>0.00011524903405725874</td><td>jw01364001001_xx10c_00012_nirspec</td><td>-1</td><td>False</td><td>spectrum</td><td>NIRISS/IFU</td><td>F170LP/G235H</td><td>NGC-4151</td><td>182.6357641666667</td><td>39.40584166666667</td><td>STC-S as Position ICRS GEOCENTER 182.6357808644266 39.405806834557396</td><td>Polygon 182.63574335236584 39.40518583589227 182.63498868073782 39.40585422733885 182.6358183587853 39.40642776226972 182.63657307301733 39.40575957969095</td></tr>\n",
       "<tr><td>0.00011524903405725874</td><td>jw01364001001_xx10g_00004_nirspec</td><td>-1</td><td>False</td><td>spectrum</td><td>NIRISS/IFU</td><td>F170LP/G235H</td><td>NGC-4151</td><td>182.6357641666667</td><td>39.40584166666667</td><td>STC-S as Position ICRS GEOCENTER 182.635727197418 39.40587962505939</td><td>Polygon 182.63568968269644 39.40525862644703 182.63493500976608 39.4059270175468 182.6357646882381 39.40650055285887 182.63651940377247 39.40583237062685</td></tr>\n",
       "</table></div>"
      ],
      "text/plain": [
       "<Table length=24>\n",
       "         dist          ...\n",
       "       float64         ...\n",
       "---------------------- ...\n",
       "0.00011524903405725874 ...\n",
       "0.00011524903405725874 ...\n",
       "0.00011524903405725874 ...\n",
       "0.00011524903405725874 ...\n",
       "0.00011524903405725874 ...\n",
       "0.00011524903405725874 ...\n",
       "                   ... ...\n",
       "0.00011524903405725874 ...\n",
       "0.00011524903405725874 ...\n",
       "0.00011524903405725874 ...\n",
       "0.00011524903405725874 ...\n",
       "0.00011524903405725874 ...\n",
       "0.00011524903405725874 ...\n",
       "0.00011524903405725874 ..."
      ]
     },
     "execution_count": 60,
     "metadata": {},
     "output_type": "execute_result"
    }
   ],
   "source": [
    "coord = SkyCoord(ra=ra, dec=dec, unit=(u.degree, u.degree), frame='icrs')\n",
    "radius = u.Quantity(10.0, u.arcsec)\n",
    "j = Jwst.cone_search(coordinate=coord, radius=radius, async_job=True)\n",
    "\n",
    "result = j.get_results()\n",
    "result  "
   ]
  },
  {
   "cell_type": "code",
   "execution_count": 62,
   "id": "403f75bb",
   "metadata": {
    "ExecuteTime": {
     "end_time": "2022-10-06T10:07:23.810657Z",
     "start_time": "2022-10-06T10:07:16.938685Z"
    }
   },
   "outputs": [
    {
     "name": "stdout",
     "output_type": "stream",
     "text": [
      "filename\n",
      "--------\n"
     ]
    }
   ],
   "source": [
    "product_list = Jwst.get_product_list(observation_id='jw01364001001_xx10l_00009_nirspec')\n",
    "print(product_list['filename'])  "
   ]
  },
  {
   "cell_type": "code",
   "execution_count": 63,
   "id": "71f72237",
   "metadata": {
    "ExecuteTime": {
     "end_time": "2022-10-06T10:07:30.455484Z",
     "start_time": "2022-10-06T10:07:23.813735Z"
    }
   },
   "outputs": [
    {
     "name": "stdout",
     "output_type": "stream",
     "text": [
      "                       filename                      \n",
      "-----------------------------------------------------\n",
      "     jw01063-o107_20220913t163906_image2_132_asn.json\n",
      "             jw01063107001_02101_00013_nrca3_cal.fits\n",
      "              jw01063107001_02101_00013_nrca3_cal.jpg\n",
      "        jw01063107001_02101_00013_nrca3_cal_thumb.jpg\n",
      "             jw01063107001_02101_00013_nrca3_i2d.fits\n",
      "        jw01063107001_02101_00013_nrca3_o107_crf.fits\n",
      "         jw01063107001_02101_00013_nrca3_o107_crf.jpg\n",
      "                                                  ...\n",
      "     jw01063107001_02101_00013_nrca3_trapsfilled.fits\n",
      "      jw01063107001_02101_00013_nrca3_trapsfilled.jpg\n",
      "jw01063107001_02101_00013_nrca3_trapsfilled_thumb.jpg\n",
      "           jw01063107001_02101_00013_nrca3_uncal.fits\n",
      "            jw01063107001_02101_00013_nrca3_uncal.jpg\n",
      "      jw01063107001_02101_00013_nrca3_uncal_thumb.jpg\n",
      "                     jw01063_20220913t163906_pool.csv\n",
      "Length = 21 rows\n"
     ]
    }
   ],
   "source": [
    "from astroquery.esa.jwst import Jwst\n",
    "product_list = Jwst.get_product_list(observation_id='jw01063107001_02101_00013_nrca3')\n",
    "print(product_list['filename'])  "
   ]
  },
  {
   "cell_type": "code",
   "execution_count": 64,
   "id": "38a1e310",
   "metadata": {
    "ExecuteTime": {
     "end_time": "2022-10-06T10:08:12.677031Z",
     "start_time": "2022-10-06T10:08:05.724011Z"
    }
   },
   "outputs": [
    {
     "name": "stdout",
     "output_type": "stream",
     "text": [
      "                     filename                    \n",
      "-------------------------------------------------\n",
      "jw01023029001_02101_00004_mirimage_c1006_crf.fits\n",
      "      jw01023029001_02101_00004_mirimage_cal.fits\n",
      "      jw01023029001_02101_00004_mirimage_i2d.fits\n",
      " jw01023029001_02101_00004_mirimage_o029_crf.fits\n",
      "     jw01023029001_02101_00004_mirimage_rate.fits\n",
      " jw01023029001_02101_00004_mirimage_rateints.fits\n",
      "    jw01023029001_02101_00004_mirimage_uncal.fits\n"
     ]
    }
   ],
   "source": [
    "from astroquery.esa.jwst import Jwst\n",
    "product_list = Jwst.get_product_list(observation_id='jw01023029001_02101_00004_mirimage', product_type='science')\n",
    "print(product_list['filename'])"
   ]
  },
  {
   "cell_type": "markdown",
   "id": "cc55aed0",
   "metadata": {},
   "source": [
    "# [getting-data-products](https://astroquery.readthedocs.io/en/latest/esa/jwst/jwst.html#getting-data-products)"
   ]
  },
  {
   "cell_type": "code",
   "execution_count": 66,
   "id": "9b3d779d",
   "metadata": {
    "ExecuteTime": {
     "end_time": "2022-10-06T10:11:26.450542Z",
     "start_time": "2022-10-06T10:11:19.651112Z"
    }
   },
   "outputs": [
    {
     "name": "stdout",
     "output_type": "stream",
     "text": [
      "                     filename                    \n",
      "-------------------------------------------------\n",
      "jw01023029001_02101_00004_mirimage_c1006_crf.fits\n",
      "      jw01023029001_02101_00004_mirimage_cal.fits\n",
      "      jw01023029001_02101_00004_mirimage_i2d.fits\n",
      " jw01023029001_02101_00004_mirimage_o029_crf.fits\n",
      "     jw01023029001_02101_00004_mirimage_rate.fits\n",
      " jw01023029001_02101_00004_mirimage_rateints.fits\n",
      "    jw01023029001_02101_00004_mirimage_uncal.fits\n"
     ]
    }
   ],
   "source": [
    "from astroquery.esa.jwst import Jwst\n",
    "product_list = Jwst.get_product_list(observation_id='jw01023029001_02101_00004_mirimage', product_type='science')\n",
    "print(product_list['filename'])"
   ]
  },
  {
   "cell_type": "code",
   "execution_count": null,
   "id": "5bd2f941",
   "metadata": {},
   "outputs": [],
   "source": []
  },
  {
   "cell_type": "code",
   "execution_count": 65,
   "id": "4cf36cd9",
   "metadata": {
    "ExecuteTime": {
     "end_time": "2022-10-06T10:10:18.142498Z",
     "start_time": "2022-10-06T10:09:57.332952Z"
    }
   },
   "outputs": [
    {
     "data": {
      "text/plain": [
       "['jw01076110001_02101_00001_nrcalong',\n",
       " 'jw01076110001_02101_00001_nrcblong',\n",
       " 'jw01076110001_02101_00002_nrcalong',\n",
       " 'jw01076110001_02101_00002_nrcblong',\n",
       " 'jw01076110001_02101_00003_nrcalong',\n",
       " 'jw01076110001_02101_00003_nrcblong',\n",
       " 'jw01076110001_02101_00004_nrcalong',\n",
       " 'jw01076110001_02101_00004_nrcblong']"
      ]
     },
     "execution_count": 65,
     "metadata": {},
     "output_type": "execute_result"
    }
   ],
   "source": [
    "from astroquery.esa.jwst import Jwst\n",
    "observation_id = 'jw01076-o110_s01130_nircam_f444w-grismr'\n",
    "results = Jwst.get_related_observations(observation_id=observation_id)\n",
    "results"
   ]
  },
  {
   "cell_type": "code",
   "execution_count": null,
   "id": "25f8c120",
   "metadata": {},
   "outputs": [],
   "source": []
  },
  {
   "cell_type": "code",
   "execution_count": 68,
   "id": "ed3e28e6",
   "metadata": {
    "ExecuteTime": {
     "end_time": "2022-10-06T10:14:09.785406Z",
     "start_time": "2022-10-06T10:14:06.165789Z"
    }
   },
   "outputs": [
    {
     "name": "stderr",
     "output_type": "stream",
     "text": [
      "INFO:astroquery:Query finished.\n"
     ]
    },
    {
     "name": "stdout",
     "output_type": "stream",
     "text": [
      "INFO: Query finished. [astroquery.utils.tap.core]\n"
     ]
    },
    {
     "data": {
      "text/html": [
       "<div><i>Table length=0</i>\n",
       "<table id=\"table140310695427184\" class=\"table-striped table-bordered table-condensed\">\n",
       "<thead><tr><th>observationid</th><th>artifactid</th><th>filename</th></tr></thead>\n",
       "<thead><tr><th>object</th><th>object</th><th>object</th></tr></thead>\n",
       "</table></div>"
      ],
      "text/plain": [
       "<Table length=0>\n",
       "observationid artifactid filename\n",
       "    object      object    object \n",
       "------------- ---------- --------"
      ]
     },
     "execution_count": 68,
     "metadata": {},
     "output_type": "execute_result"
    }
   ],
   "source": [
    "from astroquery.esa.jwst import Jwst\n",
    "query = \"\"\"select o.observationid, a.artifactid, a.filename\n",
    "from jwst.observation o join jwst.artifact a on a.obsid = o.obsid\n",
    "where o.proposal_id = '01166' and o.intent = 'science'\"\"\"\n",
    "job = Jwst.launch_job(query, async_job=True)\n",
    "\n",
    "results = job.get_results()\n",
    "results  "
   ]
  },
  {
   "cell_type": "markdown",
   "id": "8d8aa112",
   "metadata": {},
   "source": [
    "output_file = Jwst.get_product(artifact_id='6ab73824-6587-4bca-84a8-eb48ac7251be')  \n",
    "output_file = Jwst.get_product(file_name='jw01166091001_02102_00002_nrca3_cal.fits') "
   ]
  },
  {
   "cell_type": "code",
   "execution_count": null,
   "id": "91c20787",
   "metadata": {},
   "outputs": [],
   "source": [
    "from astroquery.esa.jwst import Jwst\n",
    "observation_id = 'jw01122001001_0210r_00001_nrs2'\n",
    "results = Jwst.get_obs_products(observation_id=observation_id, cal_level=2, product_type='science')  "
   ]
  },
  {
   "cell_type": "code",
   "execution_count": null,
   "id": "c4a7701b",
   "metadata": {},
   "outputs": [],
   "source": []
  },
  {
   "cell_type": "markdown",
   "id": "3dbe3317",
   "metadata": {},
   "source": [
    "## Mrk1018"
   ]
  },
  {
   "cell_type": "code",
   "execution_count": 7,
   "id": "b6e8d61e",
   "metadata": {
    "ExecuteTime": {
     "end_time": "2022-10-06T08:32:32.481476Z",
     "start_time": "2022-10-06T08:32:30.560870Z"
    }
   },
   "outputs": [
    {
     "name": "stdout",
     "output_type": "stream",
     "text": [
      "observationURI sequenceNumber ... provenance_lastExecuted custom_ctype\n",
      "                              ...                                     \n",
      "-------------- -------------- ... ----------------------- ------------\n"
     ]
    }
   ],
   "source": [
    "result_JWST = cadc.query_region('02h06m16.0s -00d17m29s', collection='JWST')\n",
    "print(result_JWST)  "
   ]
  },
  {
   "cell_type": "code",
   "execution_count": 8,
   "id": "d4bfe8be",
   "metadata": {
    "ExecuteTime": {
     "end_time": "2022-10-06T08:32:36.184911Z",
     "start_time": "2022-10-06T08:32:36.158047Z"
    }
   },
   "outputs": [
    {
     "data": {
      "text/html": [
       "<div><i>Table length=0</i>\n",
       "<table id=\"table140309334220464\" class=\"table-striped table-bordered table-condensed\">\n",
       "<thead><tr><th>observationURI</th><th>sequenceNumber</th><th>metaReadGroups</th><th>proposal_keywords</th><th>target_standard</th><th>obsID</th><th>collection</th><th>observationID</th><th>algorithm_name</th><th>type</th><th>intent</th><th>metaRelease</th><th>proposal_id</th><th>target_redshift</th><th>target_moving</th><th>target_keywords</th><th>targetPosition_equinox</th><th>targetPosition_coordinates_cval1</th><th>targetPosition_coordinates_cval2</th><th>targetPosition_coordsys</th><th>telescope_geoLocationX</th><th>telescope_geoLocationY</th><th>telescope_geoLocationZ</th><th>telescope_keywords</th><th>instrument_keywords</th><th>environment_seeing</th><th>environment_humidity</th><th>environment_elevation</th><th>environment_tau</th><th>environment_wavelengthTau</th><th>environment_ambientTemp</th><th>environment_photometric</th><th>members</th><th>typeCode</th><th>metaProducer</th><th>metaChecksum</th><th>accMetaChecksum</th><th>telescope_name</th><th>requirements_flag</th><th>instrument_name</th><th>lastModified</th><th>maxLastModified</th><th>proposal_pi</th><th>proposal_project</th><th>proposal_title</th><th>target_name</th><th>target_targetID</th><th>target_type</th><th>planeURI</th><th>publisherID</th><th>creatorID</th><th>obsID2</th><th>planeID</th><th>metaReadGroups2</th><th>dataReadGroups</th><th>calibrationLevel</th><th>provenance_keywords</th><th>provenance_inputs</th><th>productID</th><th>metaRelease2</th><th>dataRelease</th><th>dataProductType</th><th>provenance_name</th><th>provenance_version</th><th>provenance_reference</th><th>provenance_producer</th><th>provenance_project</th><th>provenance_runID</th><th>metrics_sourceNumberDensity</th><th>metrics_background</th><th>metrics_backgroundStddev</th><th>metrics_fluxDensityLimit</th><th>metrics_magLimit</th><th>position_bounds</th><th>position_bounds_samples</th><th>position_bounds_size</th><th>position_resolution</th><th>position_sampleSize</th><th>position_dimension_naxis1</th><th>position_dimension_naxis2</th><th>position_timeDependent</th><th>energy_bounds_samples</th><th>energy_bounds_lower</th><th>energy_bounds_upper</th><th>energy_bounds_width</th><th>energy_dimension</th><th>energy_resolvingPower</th><th>quality_flag</th><th>position_resolutionBounds</th><th>energy_bounds</th><th>energy_sampleSize</th><th>energy_freqWidth</th><th>energy_freqSampleSize</th><th>energy_restwav</th><th>time_bounds_samples</th><th>time_bounds_lower</th><th>time_bounds_upper</th><th>time_bounds_width</th><th>time_dimension</th><th>time_resolution</th><th>time_sampleSize</th><th>time_exposure</th><th>polarization_dimension</th><th>energy_resolvingPowerBounds</th><th>energy_emBand</th><th>energy_energyBands</th><th>energy_bandpassName</th><th>energy_transition_species</th><th>energy_transition_transition</th><th>time_bounds</th><th>time_resolutionBounds</th><th>polarization_states</th><th>custom_bounds_samples</th><th>custom_bounds_lower</th><th>custom_bounds_upper</th><th>custom_bounds_width</th><th>custom_dimension</th><th>metaProducer2</th><th>metaChecksum2</th><th>accMetaChecksum2</th><th>custom_bounds</th><th>lastModified2</th><th>maxLastModified2</th><th>provenance_lastExecuted</th><th>custom_ctype</th></tr></thead>\n",
       "<thead><tr><th></th><th></th><th></th><th></th><th></th><th></th><th></th><th></th><th></th><th></th><th></th><th></th><th></th><th></th><th></th><th></th><th></th><th>deg</th><th>deg</th><th></th><th></th><th></th><th></th><th></th><th></th><th>arcsec</th><th></th><th>deg</th><th></th><th>m</th><th>C</th><th></th><th></th><th></th><th></th><th></th><th></th><th></th><th></th><th></th><th></th><th></th><th></th><th></th><th></th><th></th><th></th><th></th><th></th><th></th><th></th><th></th><th></th><th></th><th></th><th></th><th></th><th></th><th></th><th></th><th></th><th></th><th></th><th></th><th></th><th></th><th></th><th></th><th>1 / deg2</th><th>Jy / pix</th><th>Jy / pix</th><th>Jy</th><th></th><th>deg</th><th>deg</th><th>deg</th><th>arcsec</th><th>arcsec</th><th></th><th></th><th></th><th>m</th><th>m</th><th>m</th><th>m</th><th></th><th></th><th></th><th>arcsec</th><th>m</th><th>m</th><th>Hz</th><th>Hz</th><th>m</th><th>d</th><th>d</th><th>d</th><th>d</th><th></th><th>d</th><th>d</th><th>s</th><th></th><th></th><th></th><th></th><th></th><th></th><th></th><th>d</th><th>d</th><th></th><th></th><th></th><th></th><th></th><th></th><th></th><th></th><th></th><th></th><th></th><th></th><th></th><th></th></tr></thead>\n",
       "<thead><tr><th>object</th><th>int32</th><th>object</th><th>object</th><th>int32</th><th>str36</th><th>str32</th><th>str128</th><th>str32</th><th>str32</th><th>str32</th><th>str23</th><th>str128</th><th>float64</th><th>int32</th><th>object</th><th>float64</th><th>float64</th><th>float64</th><th>str16</th><th>float64</th><th>float64</th><th>float64</th><th>object</th><th>object</th><th>float64</th><th>float64</th><th>float64</th><th>float64</th><th>float64</th><th>float64</th><th>int32</th><th>object</th><th>str1</th><th>object</th><th>object</th><th>object</th><th>str32</th><th>str16</th><th>str32</th><th>str23</th><th>str23</th><th>str128</th><th>str32</th><th>str256</th><th>str32</th><th>str32</th><th>str32</th><th>object</th><th>object</th><th>object</th><th>str36</th><th>str36</th><th>object</th><th>object</th><th>int32</th><th>object</th><th>object</th><th>str64</th><th>str23</th><th>str23</th><th>str128</th><th>str128</th><th>str32</th><th>str256</th><th>str128</th><th>str256</th><th>str64</th><th>float64</th><th>float64</th><th>float64</th><th>float64</th><th>float64</th><th>object</th><th>object</th><th>float64</th><th>float64</th><th>float64</th><th>int64</th><th>int64</th><th>int32</th><th>object</th><th>float64</th><th>float64</th><th>float64</th><th>int64</th><th>float64</th><th>str16</th><th>float64[2]</th><th>float64[2]</th><th>float64</th><th>float64</th><th>float64</th><th>float64</th><th>object</th><th>float64</th><th>float64</th><th>float64</th><th>int64</th><th>float64</th><th>float64</th><th>float64</th><th>int64</th><th>float64[2]</th><th>str32</th><th>str32</th><th>str32</th><th>str32</th><th>str32</th><th>float64[2]</th><th>float64[2]</th><th>str32</th><th>object</th><th>float64</th><th>float64</th><th>float64</th><th>int64</th><th>object</th><th>object</th><th>object</th><th>float64[2]</th><th>str23</th><th>str23</th><th>str23</th><th>str32</th></tr></thead>\n",
       "</table></div>"
      ],
      "text/plain": [
       "<Table length=0>\n",
       "observationURI sequenceNumber ... provenance_lastExecuted custom_ctype\n",
       "                              ...                                     \n",
       "    object         int32      ...          str23             str32    \n",
       "-------------- -------------- ... ----------------------- ------------"
      ]
     },
     "execution_count": 8,
     "metadata": {},
     "output_type": "execute_result"
    }
   ],
   "source": [
    "result_JWST"
   ]
  },
  {
   "cell_type": "code",
   "execution_count": null,
   "id": "7f710321",
   "metadata": {},
   "outputs": [],
   "source": []
  },
  {
   "cell_type": "code",
   "execution_count": null,
   "id": "3b1761cc",
   "metadata": {},
   "outputs": [],
   "source": []
  },
  {
   "cell_type": "code",
   "execution_count": 27,
   "id": "46b53eda",
   "metadata": {
    "ExecuteTime": {
     "end_time": "2022-10-06T08:36:48.506249Z",
     "start_time": "2022-10-06T08:36:46.866651Z"
    }
   },
   "outputs": [
    {
     "name": "stderr",
     "output_type": "stream",
     "text": [
      "WARNING: InputWarning: Coordinate string is being interpreted as an ICRS coordinate. [astroquery.utils.commons]\n",
      "WARNING:astroquery:InputWarning: Coordinate string is being interpreted as an ICRS coordinate.\n"
     ]
    },
    {
     "name": "stdout",
     "output_type": "stream",
     "text": [
      "              observationURI              sequenceNumber ... custom_ctype\n",
      "                                                         ...             \n",
      "----------------------------------------- -------------- ... ------------\n",
      "caom:VLASS/VLASS1.1.T10t04.J020600-003000             -- ...             \n",
      "caom:VLASS/VLASS2.1.T10t04.J020600-003000             -- ...             \n"
     ]
    }
   ],
   "source": [
    "result = cadc.query_region('02h06m16.0s -00d17m29s', collection='VLASS')\n",
    "print(result)  "
   ]
  },
  {
   "cell_type": "code",
   "execution_count": 30,
   "id": "4712c876",
   "metadata": {
    "ExecuteTime": {
     "end_time": "2022-10-06T08:37:11.890787Z",
     "start_time": "2022-10-06T08:37:11.876413Z"
    }
   },
   "outputs": [
    {
     "data": {
      "text/plain": [
       "['observationURI',\n",
       " 'sequenceNumber',\n",
       " 'metaReadGroups',\n",
       " 'proposal_keywords',\n",
       " 'target_standard',\n",
       " 'obsID',\n",
       " 'collection',\n",
       " 'observationID',\n",
       " 'algorithm_name',\n",
       " 'type',\n",
       " 'intent',\n",
       " 'metaRelease',\n",
       " 'proposal_id',\n",
       " 'target_redshift',\n",
       " 'target_moving',\n",
       " 'target_keywords',\n",
       " 'targetPosition_equinox',\n",
       " 'targetPosition_coordinates_cval1',\n",
       " 'targetPosition_coordinates_cval2',\n",
       " 'targetPosition_coordsys',\n",
       " 'telescope_geoLocationX',\n",
       " 'telescope_geoLocationY',\n",
       " 'telescope_geoLocationZ',\n",
       " 'telescope_keywords',\n",
       " 'instrument_keywords',\n",
       " 'environment_seeing',\n",
       " 'environment_humidity',\n",
       " 'environment_elevation',\n",
       " 'environment_tau',\n",
       " 'environment_wavelengthTau',\n",
       " 'environment_ambientTemp',\n",
       " 'environment_photometric',\n",
       " 'members',\n",
       " 'typeCode',\n",
       " 'metaProducer',\n",
       " 'metaChecksum',\n",
       " 'accMetaChecksum',\n",
       " 'telescope_name',\n",
       " 'requirements_flag',\n",
       " 'instrument_name',\n",
       " 'lastModified',\n",
       " 'maxLastModified',\n",
       " 'proposal_pi',\n",
       " 'proposal_project',\n",
       " 'proposal_title',\n",
       " 'target_name',\n",
       " 'target_targetID',\n",
       " 'target_type',\n",
       " 'planeURI',\n",
       " 'publisherID',\n",
       " 'creatorID',\n",
       " 'obsID2',\n",
       " 'planeID',\n",
       " 'metaReadGroups2',\n",
       " 'dataReadGroups',\n",
       " 'calibrationLevel',\n",
       " 'provenance_keywords',\n",
       " 'provenance_inputs',\n",
       " 'productID',\n",
       " 'metaRelease2',\n",
       " 'dataRelease',\n",
       " 'dataProductType',\n",
       " 'provenance_name',\n",
       " 'provenance_version',\n",
       " 'provenance_reference',\n",
       " 'provenance_producer',\n",
       " 'provenance_project',\n",
       " 'provenance_runID',\n",
       " 'metrics_sourceNumberDensity',\n",
       " 'metrics_background',\n",
       " 'metrics_backgroundStddev',\n",
       " 'metrics_fluxDensityLimit',\n",
       " 'metrics_magLimit',\n",
       " 'position_bounds',\n",
       " 'position_bounds_samples',\n",
       " 'position_bounds_size',\n",
       " 'position_resolution',\n",
       " 'position_sampleSize',\n",
       " 'position_dimension_naxis1',\n",
       " 'position_dimension_naxis2',\n",
       " 'position_timeDependent',\n",
       " 'energy_bounds_samples',\n",
       " 'energy_bounds_lower',\n",
       " 'energy_bounds_upper',\n",
       " 'energy_bounds_width',\n",
       " 'energy_dimension',\n",
       " 'energy_resolvingPower',\n",
       " 'quality_flag',\n",
       " 'position_resolutionBounds',\n",
       " 'energy_bounds',\n",
       " 'energy_sampleSize',\n",
       " 'energy_freqWidth',\n",
       " 'energy_freqSampleSize',\n",
       " 'energy_restwav',\n",
       " 'time_bounds_samples',\n",
       " 'time_bounds_lower',\n",
       " 'time_bounds_upper',\n",
       " 'time_bounds_width',\n",
       " 'time_dimension',\n",
       " 'time_resolution',\n",
       " 'time_sampleSize',\n",
       " 'time_exposure',\n",
       " 'polarization_dimension',\n",
       " 'energy_resolvingPowerBounds',\n",
       " 'energy_emBand',\n",
       " 'energy_energyBands',\n",
       " 'energy_bandpassName',\n",
       " 'energy_transition_species',\n",
       " 'energy_transition_transition',\n",
       " 'time_bounds',\n",
       " 'time_resolutionBounds',\n",
       " 'polarization_states',\n",
       " 'custom_bounds_samples',\n",
       " 'custom_bounds_lower',\n",
       " 'custom_bounds_upper',\n",
       " 'custom_bounds_width',\n",
       " 'custom_dimension',\n",
       " 'metaProducer2',\n",
       " 'metaChecksum2',\n",
       " 'accMetaChecksum2',\n",
       " 'custom_bounds',\n",
       " 'lastModified2',\n",
       " 'maxLastModified2',\n",
       " 'provenance_lastExecuted',\n",
       " 'custom_ctype']"
      ]
     },
     "execution_count": 30,
     "metadata": {},
     "output_type": "execute_result"
    }
   ],
   "source": [
    "result.colnames"
   ]
  },
  {
   "cell_type": "code",
   "execution_count": 32,
   "id": "fcb62f26",
   "metadata": {
    "ExecuteTime": {
     "end_time": "2022-10-06T08:39:19.787901Z",
     "start_time": "2022-10-06T08:39:19.774315Z"
    }
   },
   "outputs": [
    {
     "data": {
      "text/plain": [
       "(<MaskedColumn name='target_name' dtype='str32' description='name of intended target' length=2>\n",
       " T10t04\n",
       " T10t04,\n",
       " <MaskedColumn name='time_bounds_samples' dtype='object' unit='d' description='detailed time coverage (Modified Julian Day)' length=2>\n",
       " [58087.169328703705 58087.24982638889]\n",
       "   [59118.40372685185 59118.4249537037])"
      ]
     },
     "execution_count": 32,
     "metadata": {},
     "output_type": "execute_result"
    }
   ],
   "source": [
    "result['target_name'],result['time_bounds_samples']"
   ]
  },
  {
   "cell_type": "code",
   "execution_count": 33,
   "id": "ee59eb81",
   "metadata": {
    "ExecuteTime": {
     "end_time": "2022-10-06T08:39:37.340256Z",
     "start_time": "2022-10-06T08:39:37.328345Z"
    }
   },
   "outputs": [
    {
     "data": {
      "text/html": [
       "&lt;MaskedColumn name=&apos;time_bounds_lower&apos; dtype=&apos;float64&apos; unit=&apos;d&apos; description=&apos;lower bound on time axis (Modified Julian Day)&apos; length=2&gt;\n",
       "<table>\n",
       "<tr><td>58087.169328703705</td></tr>\n",
       "<tr><td>59118.40372685185</td></tr>\n",
       "</table>"
      ],
      "text/plain": [
       "<MaskedColumn name='time_bounds_lower' dtype='float64' unit='d' description='lower bound on time axis (Modified Julian Day)' length=2>\n",
       "58087.169328703705\n",
       " 59118.40372685185"
      ]
     },
     "execution_count": 33,
     "metadata": {},
     "output_type": "execute_result"
    }
   ],
   "source": [
    "result['time_bounds_lower']"
   ]
  },
  {
   "cell_type": "code",
   "execution_count": 35,
   "id": "1f49c088",
   "metadata": {
    "ExecuteTime": {
     "end_time": "2022-10-06T08:41:08.033785Z",
     "start_time": "2022-10-06T08:41:08.012879Z"
    }
   },
   "outputs": [
    {
     "data": {
      "text/plain": [
       "(datetime.datetime(2017, 11, 30, 0, 0, tzinfo=datetime.timezone.utc),\n",
       " datetime.datetime(2020, 9, 26, 0, 0, tzinfo=datetime.timezone.utc))"
      ]
     },
     "execution_count": 35,
     "metadata": {},
     "output_type": "execute_result"
    }
   ],
   "source": [
    "mjd2datetime(58087),mjd2datetime(59118)"
   ]
  },
  {
   "cell_type": "code",
   "execution_count": null,
   "id": "7237e1f9",
   "metadata": {},
   "outputs": [],
   "source": []
  },
  {
   "cell_type": "code",
   "execution_count": 29,
   "id": "21f50744",
   "metadata": {
    "ExecuteTime": {
     "end_time": "2022-10-06T08:36:55.942617Z",
     "start_time": "2022-10-06T08:36:52.521751Z"
    }
   },
   "outputs": [
    {
     "name": "stderr",
     "output_type": "stream",
     "text": [
      "/Users/lyubing/opt/anaconda3/lib/python3.9/site-packages/bs4/builder/__init__.py:545: XMLParsedAsHTMLWarning: It looks like you're parsing an XML document using an HTML parser. If this really is an HTML document (maybe it's XHTML?), you can ignore or filter this warning. If it's XML, you should know that using an XML parser will be more reliable. To parse this document as XML, make sure you have the lxml package installed, and pass the keyword argument `features=\"xml\"` into the BeautifulSoup constructor.\n",
      "  warnings.warn(\n"
     ]
    },
    {
     "name": "stdout",
     "output_type": "stream",
     "text": [
      "https://ws.cadc-ccda.hia-iha.nrc-cnrc.gc.ca/data/pub/VLASS/VLASS1.1.ql.T10t04.J020600-003000.10.2048.v1.I.iter1.image.pbcor.tt0.subim.fits\n",
      "https://ws.cadc-ccda.hia-iha.nrc-cnrc.gc.ca/data/pub/VLASS/VLASS2.1.ql.T10t04.J020600-003000.10.2048.v1.I.iter1.image.pbcor.tt0.subim.fits\n"
     ]
    }
   ],
   "source": [
    "urls = cadc.get_data_urls(result)\n",
    "for url in urls:\n",
    "    print(url) "
   ]
  },
  {
   "cell_type": "code",
   "execution_count": 12,
   "id": "305b8450",
   "metadata": {
    "ExecuteTime": {
     "end_time": "2023-06-08T11:30:42.447134Z",
     "start_time": "2023-06-08T11:30:42.434780Z"
    }
   },
   "outputs": [
    {
     "data": {
      "text/plain": [
       "'/Users/lyubing/blog/brettlv.github.io/pythoncode/astro_code'"
      ]
     },
     "execution_count": 12,
     "metadata": {},
     "output_type": "execute_result"
    }
   ],
   "source": [
    "pwd"
   ]
  },
  {
   "cell_type": "code",
   "execution_count": 13,
   "id": "124b6845",
   "metadata": {
    "ExecuteTime": {
     "end_time": "2023-06-08T11:30:59.280257Z",
     "start_time": "2023-06-08T11:30:59.035272Z"
    }
   },
   "outputs": [],
   "source": [
    "!open ."
   ]
  },
  {
   "cell_type": "code",
   "execution_count": null,
   "id": "42938439",
   "metadata": {},
   "outputs": [],
   "source": []
  }
 ],
 "metadata": {
  "kernelspec": {
   "display_name": "Python 3 (ipykernel)",
   "language": "python",
   "name": "python3"
  },
  "language_info": {
   "codemirror_mode": {
    "name": "ipython",
    "version": 3
   },
   "file_extension": ".py",
   "mimetype": "text/x-python",
   "name": "python",
   "nbconvert_exporter": "python",
   "pygments_lexer": "ipython3",
   "version": "3.9.12"
  },
  "latex_envs": {
   "LaTeX_envs_menu_present": true,
   "autoclose": false,
   "autocomplete": true,
   "bibliofile": "biblio.bib",
   "cite_by": "apalike",
   "current_citInitial": 1,
   "eqLabelWithNumbers": true,
   "eqNumInitial": 1,
   "hotkeys": {
    "equation": "Ctrl-E",
    "itemize": "Ctrl-I"
   },
   "labels_anchors": false,
   "latex_user_defs": false,
   "report_style_numbering": false,
   "user_envs_cfg": false
  },
  "toc": {
   "base_numbering": 1,
   "nav_menu": {},
   "number_sections": true,
   "sideBar": true,
   "skip_h1_title": false,
   "title_cell": "Table of Contents",
   "title_sidebar": "Contents",
   "toc_cell": false,
   "toc_position": {},
   "toc_section_display": true,
   "toc_window_display": false
  }
 },
 "nbformat": 4,
 "nbformat_minor": 5
}
