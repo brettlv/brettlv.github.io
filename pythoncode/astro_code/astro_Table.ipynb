{
 "cells": [
  {
   "cell_type": "code",
   "execution_count": null,
   "metadata": {},
   "outputs": [],
   "source": [
    "from astropy.table import Table"
   ]
  },
  {
   "cell_type": "code",
   "execution_count": 1,
   "metadata": {
    "ExecuteTime": {
     "end_time": "2021-07-23T13:42:26.121689Z",
     "start_time": "2021-07-23T13:42:13.975005Z"
    }
   },
   "outputs": [
    {
     "data": {
      "text/html": [
       "<i>Table length=274</i>\n",
       "<table id=\"table4583292112\" class=\"table-striped table-bordered table-condensed\">\n",
       "<thead><tr><th>SNR</th><th>RAh</th><th>RAm</th><th>RAs</th><th>DE-</th><th>DEd</th><th>DEm</th><th>MajDiam</th><th>---</th><th>MinDiam</th><th>u_MinDiam</th><th>type</th><th>l_S(1GHz)</th><th>S(1GHz)</th><th>u_S(1GHz)</th><th>Sp-Index</th><th>u_Sp-Index</th><th>Names</th></tr></thead>\n",
       "<thead><tr><th></th><th>h</th><th>min</th><th>s</th><th></th><th>deg</th><th>arcmin</th><th>arcmin</th><th></th><th>arcmin</th><th></th><th></th><th></th><th>Jy</th><th></th><th></th><th></th><th></th></tr></thead>\n",
       "<thead><tr><th>str11</th><th>int64</th><th>int64</th><th>int64</th><th>str1</th><th>int64</th><th>int64</th><th>float64</th><th>str1</th><th>float64</th><th>str1</th><th>str2</th><th>str1</th><th>float64</th><th>str1</th><th>float64</th><th>str1</th><th>str26</th></tr></thead>\n",
       "<tr><td>G000.0+00.0</td><td>17</td><td>45</td><td>44</td><td>-</td><td>29</td><td>0</td><td>3.5</td><td>x</td><td>2.5</td><td>--</td><td>S</td><td>--</td><td>100.0</td><td>?</td><td>0.8</td><td>?</td><td>Sgr A East</td></tr>\n",
       "<tr><td>G000.3+00.0</td><td>17</td><td>46</td><td>15</td><td>-</td><td>28</td><td>38</td><td>15.0</td><td>x</td><td>8.0</td><td>--</td><td>S</td><td>--</td><td>22.0</td><td>--</td><td>0.6</td><td>--</td><td>--</td></tr>\n",
       "<tr><td>G000.9+00.1</td><td>17</td><td>47</td><td>21</td><td>-</td><td>28</td><td>9</td><td>8.0</td><td>--</td><td>--</td><td>--</td><td>C</td><td>--</td><td>18.0</td><td>?</td><td>--</td><td>v</td><td>--</td></tr>\n",
       "<tr><td>G001.0-00.1</td><td>17</td><td>48</td><td>30</td><td>-</td><td>28</td><td>9</td><td>8.0</td><td>--</td><td>--</td><td>--</td><td>S</td><td>--</td><td>15.0</td><td>--</td><td>0.6</td><td>?</td><td>--</td></tr>\n",
       "<tr><td>G001.4-00.1</td><td>17</td><td>49</td><td>39</td><td>-</td><td>27</td><td>46</td><td>10.0</td><td>--</td><td>--</td><td>--</td><td>S</td><td>--</td><td>2.0</td><td>?</td><td>--</td><td>?</td><td>--</td></tr>\n",
       "<tr><td>G001.9+00.3</td><td>17</td><td>48</td><td>45</td><td>-</td><td>27</td><td>10</td><td>1.5</td><td>--</td><td>--</td><td>--</td><td>S</td><td>--</td><td>0.6</td><td>--</td><td>0.6</td><td>--</td><td>--</td></tr>\n",
       "<tr><td>G003.7-00.2</td><td>17</td><td>55</td><td>26</td><td>-</td><td>25</td><td>50</td><td>14.0</td><td>x</td><td>11.0</td><td>--</td><td>S</td><td>--</td><td>2.3</td><td>--</td><td>0.65</td><td>--</td><td>--</td></tr>\n",
       "<tr><td>G003.8+00.3</td><td>17</td><td>52</td><td>55</td><td>-</td><td>25</td><td>28</td><td>18.0</td><td>--</td><td>--</td><td>--</td><td>S?</td><td>--</td><td>3.0</td><td>?</td><td>0.6</td><td>--</td><td>--</td></tr>\n",
       "<tr><td>G004.2-03.5</td><td>18</td><td>8</td><td>55</td><td>-</td><td>27</td><td>3</td><td>28.0</td><td>--</td><td>--</td><td>--</td><td>S</td><td>--</td><td>3.2</td><td>?</td><td>0.6</td><td>?</td><td>--</td></tr>\n",
       "<tr><td>...</td><td>...</td><td>...</td><td>...</td><td>...</td><td>...</td><td>...</td><td>...</td><td>...</td><td>...</td><td>...</td><td>...</td><td>...</td><td>...</td><td>...</td><td>...</td><td>...</td><td>...</td></tr>\n",
       "<tr><td>G356.3-00.3</td><td>17</td><td>37</td><td>56</td><td>-</td><td>32</td><td>16</td><td>11.0</td><td>x</td><td>7.0</td><td>--</td><td>S</td><td>--</td><td>3.0</td><td>?</td><td>--</td><td>?</td><td>--</td></tr>\n",
       "<tr><td>G356.3-01.5</td><td>17</td><td>42</td><td>35</td><td>-</td><td>32</td><td>52</td><td>20.0</td><td>x</td><td>15.0</td><td>--</td><td>S</td><td>--</td><td>3.0</td><td>?</td><td>--</td><td>?</td><td>--</td></tr>\n",
       "<tr><td>G357.7-00.1</td><td>17</td><td>40</td><td>29</td><td>-</td><td>30</td><td>58</td><td>8.0</td><td>x</td><td>3.0</td><td>?</td><td>?</td><td>--</td><td>37.0</td><td>--</td><td>0.4</td><td>--</td><td>MSH 17-39</td></tr>\n",
       "<tr><td>G357.7+00.3</td><td>17</td><td>38</td><td>35</td><td>-</td><td>30</td><td>44</td><td>24.0</td><td>--</td><td>--</td><td>--</td><td>S</td><td>--</td><td>10.0</td><td>--</td><td>0.4</td><td>?</td><td>--</td></tr>\n",
       "<tr><td>G358.0+03.8</td><td>17</td><td>26</td><td>0</td><td>-</td><td>28</td><td>36</td><td>38.0</td><td>--</td><td>--</td><td>--</td><td>S</td><td>--</td><td>1.5</td><td>?</td><td>--</td><td>?</td><td>--</td></tr>\n",
       "<tr><td>G358.1+00.1</td><td>17</td><td>37</td><td>0</td><td>-</td><td>29</td><td>59</td><td>20.0</td><td>--</td><td>--</td><td>--</td><td>S</td><td>--</td><td>2.0</td><td>?</td><td>--</td><td>?</td><td>--</td></tr>\n",
       "<tr><td>G358.5-00.9</td><td>17</td><td>46</td><td>10</td><td>-</td><td>30</td><td>40</td><td>17.0</td><td>--</td><td>--</td><td>--</td><td>S</td><td>--</td><td>4.0</td><td>?</td><td>--</td><td>?</td><td>--</td></tr>\n",
       "<tr><td>G359.0-00.9</td><td>17</td><td>46</td><td>50</td><td>-</td><td>30</td><td>16</td><td>23.0</td><td>--</td><td>--</td><td>--</td><td>S</td><td>--</td><td>23.0</td><td>--</td><td>0.5</td><td>--</td><td>--</td></tr>\n",
       "<tr><td>G359.1-00.5</td><td>17</td><td>45</td><td>30</td><td>-</td><td>29</td><td>57</td><td>24.0</td><td>--</td><td>--</td><td>--</td><td>S</td><td>--</td><td>14.0</td><td>--</td><td>0.4</td><td>?</td><td>--</td></tr>\n",
       "<tr><td>G359.1+00.9</td><td>17</td><td>39</td><td>36</td><td>-</td><td>29</td><td>11</td><td>12.0</td><td>x</td><td>11.0</td><td>--</td><td>S</td><td>--</td><td>2.0</td><td>?</td><td>--</td><td>?</td><td>--</td></tr>\n",
       "</table>"
      ],
      "text/plain": [
       "<Table length=274>\n",
       "    SNR      RAh   RAm   RAs  DE-  ... u_S(1GHz) Sp-Index u_Sp-Index   Names   \n",
       "              h    min    s        ...                                         \n",
       "   str11    int64 int64 int64 str1 ...    str1   float64     str1      str26   \n",
       "----------- ----- ----- ----- ---- ... --------- -------- ---------- ----------\n",
       "G000.0+00.0    17    45    44    - ...         ?      0.8          ? Sgr A East\n",
       "G000.3+00.0    17    46    15    - ...        --      0.6         --         --\n",
       "G000.9+00.1    17    47    21    - ...         ?       --          v         --\n",
       "G001.0-00.1    17    48    30    - ...        --      0.6          ?         --\n",
       "G001.4-00.1    17    49    39    - ...         ?       --          ?         --\n",
       "G001.9+00.3    17    48    45    - ...        --      0.6         --         --\n",
       "G003.7-00.2    17    55    26    - ...        --     0.65         --         --\n",
       "G003.8+00.3    17    52    55    - ...         ?      0.6         --         --\n",
       "G004.2-03.5    18     8    55    - ...         ?      0.6          ?         --\n",
       "        ...   ...   ...   ...  ... ...       ...      ...        ...        ...\n",
       "G356.3-00.3    17    37    56    - ...         ?       --          ?         --\n",
       "G356.3-01.5    17    42    35    - ...         ?       --          ?         --\n",
       "G357.7-00.1    17    40    29    - ...        --      0.4         --  MSH 17-39\n",
       "G357.7+00.3    17    38    35    - ...        --      0.4          ?         --\n",
       "G358.0+03.8    17    26     0    - ...         ?       --          ?         --\n",
       "G358.1+00.1    17    37     0    - ...         ?       --          ?         --\n",
       "G358.5-00.9    17    46    10    - ...         ?       --          ?         --\n",
       "G359.0-00.9    17    46    50    - ...        --      0.5         --         --\n",
       "G359.1-00.5    17    45    30    - ...        --      0.4          ?         --\n",
       "G359.1+00.9    17    39    36    - ...         ?       --          ?         --"
      ]
     },
     "execution_count": 1,
     "metadata": {},
     "output_type": "execute_result"
    }
   ],
   "source": [
    "\n",
    "\n",
    "t=Table.read('ftp://cdsarc.u-strasbg.fr/pub/cats/VII/253/snrs.dat',readme='ftp://cdsarc.u-strasbg.fr/pub/cats/VII/253/ReadMe',\n",
    "            format='ascii.cds')\n",
    "\n",
    "t\n",
    "\n",
    "#"
   ]
  },
  {
   "cell_type": "code",
   "execution_count": null,
   "metadata": {},
   "outputs": [],
   "source": []
  },
  {
   "cell_type": "code",
   "execution_count": 2,
   "metadata": {
    "ExecuteTime": {
     "end_time": "2021-07-23T13:43:56.286458Z",
     "start_time": "2021-07-23T13:43:50.412715Z"
    }
   },
   "outputs": [],
   "source": [
    "t2=Table.read('http://ned.ipac.caltech.edu/cgi-bin/datasearch?search_type=Photo_id&&img_stamp=YES&hconst=73.0&omegam=0.27&omegav=0.73&corr_z=1&of=table&objid=170120&objname=LQAC%20017%2B039%20003',format='ascii')"
   ]
  },
  {
   "cell_type": "code",
   "execution_count": 3,
   "metadata": {
    "ExecuteTime": {
     "end_time": "2021-07-23T13:44:00.044598Z",
     "start_time": "2021-07-23T13:44:00.038072Z"
    }
   },
   "outputs": [
    {
     "data": {
      "text/html": [
       "<i>Table length=1</i>\n",
       "<table id=\"table4889480208\" class=\"table-striped table-bordered table-condensed\">\n",
       "<thead><tr><th>col1</th><th>col2</th></tr></thead>\n",
       "<thead><tr><th>str202</th><th>str430</th></tr></thead>\n",
       "<tr><td>Click to zoom in at a position of interest (uses a separate window).  \n",
       "\n",
       "Select zoom factor:  \n",
       "\n",
       " 2X\n",
       " 3X\n",
       " 4X\n",
       " 5X\n",
       " 8X\n",
       " 10X\n",
       " 15X\n",
       " 20X\n",
       " 30X\n",
       " 40X\n",
       " \n",
       "\n",
       "\n",
       "\n",
       "\n",
       "\n",
       "\n",
       "\n",
       "\n",
       "\n",
       "\n",
       "                Postscript version of the SED plot</td><td>Error Bars\n",
       " No Error Bars\n",
       " \n",
       "\n",
       " Point Labels\n",
       " No Point Labels\n",
       " \n",
       "\n",
       " X=log(Freq.)(Hz)\n",
       " X=log(Wave.)(microns)\n",
       " \n",
       "\n",
       " Y=log(Fnu)(Jy)\n",
       " Y=log(Fnu)(W/m2/Hz)\n",
       " Y=log(NuFnu)(Jy-Hz)\n",
       " Y=log(NuFnu)(W/m2)\n",
       " \n",
       "\n",
       " Fixed data range (for comparisons)\n",
       " Autoscale data range\n",
       " \n",
       "\n",
       "\n",
       "\n",
       "\n",
       "\n",
       "\n",
       "\n",
       "\n",
       "  New options   \n",
       "Format tabular data as:\n",
       "\n",
       "\n",
       "HTML Table \n",
       "HTML preformatted text \n",
       "Text (ASCII) table - Bar Separated Values\n",
       "Text (ASCII) table - Tab Separated Values\n",
       "XML VOTable</td></tr>\n",
       "</table>"
      ],
      "text/plain": [
       "<Table length=1>\n",
       "                                                                                                   col1                                                                                                    ...\n",
       "                                                                                                  str202                                                                                                   ...\n",
       "---------------------------------------------------------------------------------------------------------------------------------------------------------------------------------------------------------- ...\n",
       "Click to zoom in at a position of interest (uses a separate window).  \n",
       "\n",
       "Select zoom factor:  \n",
       "\n",
       " 2X\n",
       " 3X\n",
       " 4X\n",
       " 5X\n",
       " 8X\n",
       " 10X\n",
       " 15X\n",
       " 20X\n",
       " 30X\n",
       " 40X\n",
       " \n",
       "\n",
       "\n",
       "\n",
       "\n",
       "\n",
       "\n",
       "\n",
       "\n",
       "\n",
       "\n",
       "                Postscript version of the SED plot ..."
      ]
     },
     "execution_count": 3,
     "metadata": {},
     "output_type": "execute_result"
    }
   ],
   "source": [
    "t2"
   ]
  },
  {
   "cell_type": "code",
   "execution_count": 4,
   "metadata": {
    "ExecuteTime": {
     "end_time": "2021-07-23T13:44:47.077639Z",
     "start_time": "2021-07-23T13:44:47.067509Z"
    }
   },
   "outputs": [],
   "source": [
    "import numpy as np\n",
    "import sys\n",
    "from astropy.table import Table, Column,MaskedColumn\n",
    "from astropy.io import ascii\n",
    "x = np.array([1, 2, 3])\n",
    "y = x ** 2\n",
    "data = Table([x, y], names=[ 'x' ,  'y' ]) \n",
    "ascii.write(data,'values.dat',overwrite=True)"
   ]
  },
  {
   "cell_type": "code",
   "execution_count": 5,
   "metadata": {
    "ExecuteTime": {
     "end_time": "2021-07-23T13:44:54.439556Z",
     "start_time": "2021-07-23T13:44:54.436151Z"
    }
   },
   "outputs": [],
   "source": [
    "more values.dat"
   ]
  },
  {
   "cell_type": "code",
   "execution_count": 6,
   "metadata": {
    "ExecuteTime": {
     "end_time": "2021-07-23T13:45:02.969792Z",
     "start_time": "2021-07-23T13:45:02.964605Z"
    },
    "code_folding": []
   },
   "outputs": [
    {
     "name": "stdout",
     "output_type": "stream",
     "text": [
      "\\begin{table}\n",
      "\\begin{tabular}{cc}\n",
      "x & y \\\\\n",
      "1 & 1 \\\\\n",
      "2 & 4 \\\\\n",
      "3 & 9 \\\\\n",
      "\\end{tabular}\n",
      "\\end{table}\n"
     ]
    }
   ],
   "source": [
    "ascii.write(data,sys.stdout,format='latex')"
   ]
  },
  {
   "cell_type": "code",
   "execution_count": null,
   "metadata": {},
   "outputs": [],
   "source": []
  },
  {
   "cell_type": "code",
   "execution_count": null,
   "metadata": {},
   "outputs": [],
   "source": []
  },
  {
   "cell_type": "code",
   "execution_count": 1,
   "metadata": {
    "ExecuteTime": {
     "end_time": "2023-06-28T09:54:27.951228Z",
     "start_time": "2023-06-28T09:54:27.291414Z"
    }
   },
   "outputs": [],
   "source": [
    "from astropy.io import ascii\n",
    "from astropy.table import Table\n",
    "from astropy.table import QTable"
   ]
  },
  {
   "cell_type": "code",
   "execution_count": 2,
   "metadata": {
    "ExecuteTime": {
     "end_time": "2023-06-28T09:54:29.691811Z",
     "start_time": "2023-06-28T09:54:29.682129Z"
    }
   },
   "outputs": [],
   "source": [
    "sources=\"/Users/lyubing/Downloads/Placing High-Redshift Quasars in Perspective a Catalog of Spectroscopic Properties from the Gemini Near Infrared Spectrograph - Distant Quasar Survey/datafiles/datafile2data.txt\"\n",
    "\n",
    "\n",
    "\n",
    "readmepath='/Users/lyubing/Downloads/Placing High-Redshift Quasars in Perspective a Catalog of Spectroscopic Properties from the Gemini Near Infrared Spectrograph - Distant Quasar Survey/datafiles/Readme.txt'\n",
    "\n",
    "\n",
    "sourcescombine=\"/Users/lyubing/Downloads/Placing High-Redshift Quasars in Perspective a Catalog of Spectroscopic Properties from the Gemini Near Infrared Spectrograph - Distant Quasar Survey/datafiles/datafile2.txt\"\n",
    "\n"
   ]
  },
  {
   "cell_type": "code",
   "execution_count": 3,
   "metadata": {
    "ExecuteTime": {
     "end_time": "2023-06-28T09:55:03.053444Z",
     "start_time": "2023-06-28T09:55:02.866825Z"
    }
   },
   "outputs": [
    {
     "name": "stderr",
     "output_type": "stream",
     "text": [
      "WARNING: UnitsWarning: '[10-7W]' did not parse as cds unit: Syntax error If this is meant to be a custom unit, define it with 'u.def_unit'. To have it recognized inside a file reader or other code, enable it with 'u.add_enabled_units'. For details, see https://docs.astropy.org/en/latest/units/combining_and_defining.html [astropy.units.core]\n"
     ]
    }
   ],
   "source": [
    "data = ascii.read(sourcescombine,\n",
    "                  data_start=87,\n",
    "                  #format='cds',\n",
    "                  #format='ascii.aastex',\n",
    "                  #format='ascii.cds',\n",
    "                  #guess=False, fast_reader=False,                 \n",
    "                 )  \n",
    "#print(data)   \n",
    "\n",
    "table= Table(data)"
   ]
  },
  {
   "cell_type": "code",
   "execution_count": 5,
   "metadata": {
    "ExecuteTime": {
     "end_time": "2023-06-28T09:55:10.354263Z",
     "start_time": "2023-06-28T09:55:10.322703Z"
    }
   },
   "outputs": [
    {
     "data": {
      "text/html": [
       "<div><i>Table length=226</i>\n",
       "<table id=\"table140334606971040\" class=\"table-striped table-bordered table-condensed\">\n",
       "<thead><tr><th>col1</th><th>col2</th><th>col3</th><th>col4</th><th>col5</th><th>col6</th><th>col7</th><th>col8</th><th>col9</th><th>col10</th><th>col11</th><th>col12</th><th>col13</th><th>col14</th><th>col15</th><th>col16</th><th>col17</th><th>col18</th><th>col19</th><th>col20</th><th>col21</th><th>col22</th><th>col23</th><th>col24</th><th>col25</th><th>col26</th><th>col27</th><th>col28</th><th>col29</th><th>col30</th><th>col31</th><th>col32</th><th>col33</th><th>col34</th><th>col35</th><th>col36</th><th>col37</th><th>col38</th><th>col39</th><th>col40</th><th>col41</th><th>col42</th><th>col43</th><th>col44</th><th>col45</th><th>col46</th><th>col47</th><th>col48</th><th>col49</th><th>col50</th><th>col51</th></tr></thead>\n",
       "<thead><tr><th>str4</th><th>str19</th><th>float64</th><th>int64</th><th>int64</th><th>int64</th><th>int64</th><th>int64</th><th>int64</th><th>int64</th><th>int64</th><th>int64</th><th>float64</th><th>float64</th><th>int64</th><th>int64</th><th>int64</th><th>int64</th><th>int64</th><th>int64</th><th>int64</th><th>int64</th><th>int64</th><th>float64</th><th>float64</th><th>int64</th><th>int64</th><th>int64</th><th>int64</th><th>int64</th><th>int64</th><th>int64</th><th>int64</th><th>int64</th><th>float64</th><th>float64</th><th>int64</th><th>int64</th><th>int64</th><th>int64</th><th>int64</th><th>int64</th><th>int64</th><th>int64</th><th>int64</th><th>float64</th><th>float64</th><th>int64</th><th>int64</th><th>float64</th><th>float64</th></tr></thead>\n",
       "<tr><td>SDSS</td><td>J001249.89+285552.6</td><td>3.233</td><td>11874</td><td>3</td><td>5</td><td>3982</td><td>188</td><td>249</td><td>19</td><td>7</td><td>9</td><td>0.445</td><td>2.79</td><td>20646</td><td>1</td><td>1</td><td>4885</td><td>363</td><td>481</td><td>45</td><td>3</td><td>4</td><td>0.00293</td><td>2.07</td><td>21197</td><td>1</td><td>1</td><td>2326</td><td>1</td><td>1</td><td>7</td><td>1</td><td>1</td><td>-0.0112</td><td>1.76</td><td>-99</td><td>-99</td><td>-99</td><td>-99</td><td>-99</td><td>-99</td><td>-99</td><td>-99</td><td>-99</td><td>-99.0</td><td>-99.0</td><td>1300</td><td>2</td><td>-16.52</td><td>46.78</td></tr>\n",
       "<tr><td>SDSS</td><td>J001355.10-012304.0</td><td>3.385</td><td>12275</td><td>4</td><td>5</td><td>3228</td><td>344</td><td>455</td><td>19</td><td>1</td><td>2</td><td>0.0586</td><td>3.18</td><td>21384</td><td>1</td><td>1</td><td>10400</td><td>217</td><td>287</td><td>93</td><td>2</td><td>3</td><td>0.000679</td><td>2.82</td><td>21956</td><td>1</td><td>1</td><td>2141</td><td>1</td><td>1</td><td>12</td><td>1</td><td>1</td><td>-0.0407</td><td>2.86</td><td>-99</td><td>-99</td><td>-99</td><td>-99</td><td>-99</td><td>-99</td><td>-99</td><td>-99</td><td>-99</td><td>-99.0</td><td>-99.0</td><td>1300</td><td>2</td><td>-16.77</td><td>47.31</td></tr>\n",
       "<tr><td>SDSS</td><td>J001453.20+091217.6</td><td>2.34</td><td>-99</td><td>-99</td><td>-99</td><td>-99</td><td>-99</td><td>-99</td><td>5</td><td>-99</td><td>-99</td><td>-99.0</td><td>-99.0</td><td>16253</td><td>5</td><td>7</td><td>5185</td><td>262</td><td>346</td><td>36</td><td>2</td><td>2</td><td>0.0682</td><td>3.32</td><td>16723</td><td>1</td><td>1</td><td>2254</td><td>1</td><td>1</td><td>9</td><td>1</td><td>1</td><td>-0.148</td><td>2.32</td><td>21934</td><td>3</td><td>4</td><td>5403</td><td>68</td><td>90</td><td>294</td><td>1</td><td>1</td><td>0.114</td><td>3.76</td><td>1300</td><td>2</td><td>-16.49</td><td>46.94</td></tr>\n",
       "<tr><td>SDSS</td><td>J001813.30+361058.6</td><td>2.311</td><td>9298</td><td>13</td><td>17</td><td>5129</td><td>983</td><td>1301</td><td>25</td><td>8</td><td>11</td><td>0.186</td><td>3.93</td><td>16162</td><td>1</td><td>1</td><td>4785</td><td>258</td><td>342</td><td>44</td><td>1</td><td>2</td><td>0.0028</td><td>3.29</td><td>16580</td><td>1</td><td>1</td><td>6704</td><td>1</td><td>1</td><td>21</td><td>1</td><td>1</td><td>0.088</td><td>2.85</td><td>21859</td><td>2</td><td>3</td><td>3531</td><td>25</td><td>33</td><td>302</td><td>1</td><td>1</td><td>-0.213</td><td>4.62</td><td>10000</td><td>2</td><td>-16.38</td><td>46.95</td></tr>\n",
       "<tr><td>SDSS</td><td>J001914.46+155555.9</td><td>2.267</td><td>9146</td><td>5</td><td>6</td><td>4380</td><td>327</td><td>433</td><td>23</td><td>1</td><td>1</td><td>0.0154</td><td>3.06</td><td>15907</td><td>1</td><td>1</td><td>4033</td><td>77</td><td>101</td><td>86</td><td>2</td><td>3</td><td>0.22</td><td>4.38</td><td>16358</td><td>1</td><td>1</td><td>1273</td><td>1</td><td>1</td><td>33</td><td>1</td><td>1</td><td>-0.186</td><td>2.89</td><td>21461</td><td>1</td><td>1</td><td>4092</td><td>23</td><td>30</td><td>465</td><td>1</td><td>1</td><td>0.0886</td><td>4.89</td><td>2200</td><td>15</td><td>-16.47</td><td>46.85</td></tr>\n",
       "<tr><td>SDSS</td><td>J002634.46+274015.5</td><td>2.247</td><td>9100</td><td>2</td><td>2</td><td>3158</td><td>150</td><td>198</td><td>36</td><td>1</td><td>1</td><td>-0.633</td><td>4.19</td><td>15788</td><td>13</td><td>17</td><td>4420</td><td>2445</td><td>3235</td><td>67</td><td>2</td><td>3</td><td>-0.0152</td><td>3.48</td><td>16256</td><td>1</td><td>1</td><td>1513</td><td>1</td><td>1</td><td>23</td><td>1</td><td>1</td><td>-0.156</td><td>4.11</td><td>21307</td><td>1</td><td>1</td><td>4275</td><td>31</td><td>41</td><td>577</td><td>1</td><td>1</td><td>-0.0894</td><td>4.28</td><td>4100</td><td>2</td><td>-16.43</td><td>46.86</td></tr>\n",
       "<tr><td>SDSS</td><td>J003416.61+002241.1</td><td>1.631</td><td>-99</td><td>-99</td><td>-99</td><td>-99</td><td>-99</td><td>-99</td><td>-99</td><td>-99</td><td>-99</td><td>-99.0</td><td>-99.0</td><td>12810</td><td>1</td><td>2</td><td>4591</td><td>98</td><td>129</td><td>84</td><td>1</td><td>2</td><td>-0.323</td><td>3.44</td><td>13173</td><td>1</td><td>1</td><td>1609</td><td>1</td><td>1</td><td>12</td><td>1</td><td>1</td><td>-0.445</td><td>3.19</td><td>17267</td><td>1</td><td>1</td><td>4292</td><td>51</td><td>67</td><td>480</td><td>1</td><td>1</td><td>-0.118</td><td>3.89</td><td>2400</td><td>29</td><td>-16.13</td><td>46.27</td></tr>\n",
       "<tr><td>SDSS</td><td>J004719.71+014813.9</td><td>1.591</td><td>-99</td><td>-99</td><td>-99</td><td>-99</td><td>-99</td><td>-99</td><td>-99</td><td>-99</td><td>-99</td><td>-99.0</td><td>-99.0</td><td>12623</td><td>1</td><td>1</td><td>5605</td><td>1132</td><td>1497</td><td>90</td><td>3</td><td>5</td><td>0.102</td><td>3.45</td><td>12973</td><td>1</td><td>1</td><td>990</td><td>1</td><td>1</td><td>38</td><td>1</td><td>1</td><td>-0.292</td><td>3.84</td><td>17009</td><td>1</td><td>1</td><td>3852</td><td>25</td><td>33</td><td>584</td><td>1</td><td>1</td><td>0.225</td><td>4.48</td><td>10000</td><td>2</td><td>-16.21</td><td>46.38</td></tr>\n",
       "<tr><td>SDSS</td><td>J005233.67+014040.8</td><td>2.309</td><td>9246</td><td>6</td><td>8</td><td>3594</td><td>281</td><td>372</td><td>22</td><td>1</td><td>2</td><td>-0.534</td><td>3.44</td><td>16079</td><td>9</td><td>11</td><td>7278</td><td>523</td><td>692</td><td>57</td><td>2</td><td>3</td><td>-0.00111</td><td>2.94</td><td>16568</td><td>1</td><td>1</td><td>3114</td><td>1</td><td>1</td><td>19</td><td>1</td><td>1</td><td>-0.176</td><td>2.96</td><td>21694</td><td>1</td><td>1</td><td>6293</td><td>46</td><td>61</td><td>501</td><td>1</td><td>1</td><td>-0.21</td><td>4.49</td><td>5500</td><td>2</td><td>-16.19</td><td>47.11</td></tr>\n",
       "<tr><td>SDSS</td><td>J010113.72+032427.0</td><td>1.579</td><td>-99</td><td>-99</td><td>-99</td><td>-99</td><td>-99</td><td>-99</td><td>-99</td><td>-99</td><td>-99</td><td>-99.0</td><td>-99.0</td><td>12531</td><td>1</td><td>1</td><td>6484</td><td>173</td><td>228</td><td>61</td><td>1</td><td>1</td><td>0.0124</td><td>3.33</td><td>12915</td><td>1</td><td>1</td><td>704</td><td>1</td><td>1</td><td>24</td><td>1</td><td>1</td><td>-0.49</td><td>4.94</td><td>16910</td><td>2</td><td>3</td><td>6679</td><td>91</td><td>120</td><td>527</td><td>1</td><td>1</td><td>-0.0169</td><td>3.29</td><td>8500</td><td>2</td><td>-15.94</td><td>46.66</td></tr>\n",
       "<tr><td>...</td><td>...</td><td>...</td><td>...</td><td>...</td><td>...</td><td>...</td><td>...</td><td>...</td><td>...</td><td>...</td><td>...</td><td>...</td><td>...</td><td>...</td><td>...</td><td>...</td><td>...</td><td>...</td><td>...</td><td>...</td><td>...</td><td>...</td><td>...</td><td>...</td><td>...</td><td>...</td><td>...</td><td>...</td><td>...</td><td>...</td><td>...</td><td>...</td><td>...</td><td>...</td><td>...</td><td>...</td><td>...</td><td>...</td><td>...</td><td>...</td><td>...</td><td>...</td><td>...</td><td>...</td><td>...</td><td>...</td><td>...</td><td>...</td><td>...</td><td>...</td></tr>\n",
       "<tr><td>SDSS</td><td>J220344.98+235729.3</td><td>2.157</td><td>8795</td><td>1</td><td>1</td><td>4067</td><td>235</td><td>311</td><td>41</td><td>3</td><td>4</td><td>0.00065</td><td>2.97</td><td>15493</td><td>3</td><td>4</td><td>6974</td><td>271</td><td>358</td><td>76</td><td>1</td><td>1</td><td>-0.0511</td><td>2.82</td><td>15806</td><td>1</td><td>1</td><td>1894</td><td>1</td><td>1</td><td>9</td><td>1</td><td>1</td><td>-0.164</td><td>3.0</td><td>20715</td><td>1</td><td>1</td><td>3996</td><td>55</td><td>72</td><td>665</td><td>1</td><td>1</td><td>0.0203</td><td>3.42</td><td>10000</td><td>14</td><td>-16.41</td><td>46.74</td></tr>\n",
       "<tr><td>SDSS</td><td>J222621.45+251545.0</td><td>2.392</td><td>-99</td><td>-99</td><td>-99</td><td>-99</td><td>-99</td><td>-99</td><td>5</td><td>-99</td><td>-99</td><td>-99.0</td><td>-99.0</td><td>16493</td><td>1</td><td>1</td><td>7320</td><td>1309</td><td>1732</td><td>42</td><td>1</td><td>2</td><td>0.00115</td><td>2.97</td><td>16984</td><td>1</td><td>1</td><td>3732</td><td>1</td><td>1</td><td>14</td><td>1</td><td>1</td><td>-0.301</td><td>2.61</td><td>22268</td><td>2</td><td>2</td><td>6891</td><td>23</td><td>31</td><td>395</td><td>1</td><td>1</td><td>-0.2</td><td>4.01</td><td>10000</td><td>16</td><td>-15.79</td><td>47.6</td></tr>\n",
       "<tr><td>SDSS</td><td>J223934.45-004707.2</td><td>2.216</td><td>-99</td><td>-99</td><td>-99</td><td>-99</td><td>-99</td><td>-99</td><td>5</td><td>-99</td><td>-99</td><td>-99.0</td><td>-99.0</td><td>15663</td><td>5</td><td>7</td><td>7031</td><td>3893</td><td>5151</td><td>76</td><td>16</td><td>22</td><td>0.0114</td><td>2.9</td><td>16103</td><td>1</td><td>1</td><td>3965</td><td>1</td><td>1</td><td>20</td><td>1</td><td>1</td><td>0.721</td><td>3.32</td><td>21166</td><td>3</td><td>4</td><td>5044</td><td>101</td><td>134</td><td>495</td><td>1</td><td>1</td><td>0.00823</td><td>3.78</td><td>3800</td><td>2</td><td>-16.39</td><td>46.4</td></tr>\n",
       "<tr><td>SDSS</td><td>J225608.48+010557.8</td><td>2.26</td><td>9141</td><td>7</td><td>10</td><td>4237</td><td>733</td><td>969</td><td>37</td><td>2</td><td>3</td><td>-0.186</td><td>3.26</td><td>15879</td><td>3</td><td>4</td><td>3109</td><td>166</td><td>220</td><td>59</td><td>2</td><td>3</td><td>0.242</td><td>3.31</td><td>16324</td><td>1</td><td>1</td><td>3758</td><td>1</td><td>1</td><td>13</td><td>1</td><td>1</td><td>-0.00259</td><td>2.61</td><td>21451</td><td>1</td><td>1</td><td>3117</td><td>61</td><td>81</td><td>506</td><td>1</td><td>1</td><td>0.0932</td><td>3.8</td><td>9000</td><td>2</td><td>-16.41</td><td>46.41</td></tr>\n",
       "<tr><td>SDSS</td><td>J225627.12+092313.3</td><td>2.291</td><td>9225</td><td>6</td><td>8</td><td>3618</td><td>416</td><td>550</td><td>27</td><td>2</td><td>3</td><td>0.291</td><td>4.18</td><td>16009</td><td>3</td><td>4</td><td>4541</td><td>243</td><td>321</td><td>58</td><td>7</td><td>9</td><td>0.0778</td><td>3.09</td><td>16476</td><td>1</td><td>1</td><td>2047</td><td>1</td><td>1</td><td>13</td><td>1</td><td>1</td><td>-0.0218</td><td>2.61</td><td>21638</td><td>2</td><td>2</td><td>3696</td><td>31</td><td>42</td><td>417</td><td>1</td><td>1</td><td>0.0871</td><td>4.02</td><td>1300</td><td>2</td><td>-16.39</td><td>46.44</td></tr>\n",
       "<tr><td>SDSS</td><td>J230722.21+253803.8</td><td>1.597</td><td>-99</td><td>-99</td><td>-99</td><td>-99</td><td>-99</td><td>-99</td><td>-99</td><td>-99</td><td>-99</td><td>-99.0</td><td>-99.0</td><td>12643</td><td>1</td><td>1</td><td>2720</td><td>175</td><td>232</td><td>50</td><td>23</td><td>31</td><td>0.125</td><td>3.17</td><td>13001</td><td>1</td><td>1</td><td>2150</td><td>1</td><td>1</td><td>13</td><td>1</td><td>1</td><td>-0.174</td><td>2.34</td><td>17063</td><td>1</td><td>1</td><td>2738</td><td>78</td><td>103</td><td>379</td><td>1</td><td>1</td><td>0.081</td><td>4.23</td><td>6100</td><td>2</td><td>-15.98</td><td>46.36</td></tr>\n",
       "<tr><td>SDSS</td><td>J231450.12+182402.8</td><td>2.284</td><td>9198</td><td>7</td><td>10</td><td>3643</td><td>751</td><td>994</td><td>25</td><td>2</td><td>3</td><td>-0.625</td><td>3.56</td><td>15964</td><td>1</td><td>1</td><td>3176</td><td>72</td><td>96</td><td>49</td><td>2</td><td>3</td><td>0.187</td><td>3.27</td><td>16443</td><td>1</td><td>1</td><td>1488</td><td>1</td><td>1</td><td>12</td><td>1</td><td>1</td><td>-0.366</td><td>3.0</td><td>21559</td><td>1</td><td>1</td><td>3198</td><td>25</td><td>32</td><td>400</td><td>1</td><td>1</td><td>0.0856</td><td>4.14</td><td>10000</td><td>2</td><td>-16.45</td><td>46.37</td></tr>\n",
       "<tr><td>SDSS</td><td>J233344.66+290251.5</td><td>3.233</td><td>11841</td><td>8</td><td>10</td><td>3590</td><td>475</td><td>628</td><td>24</td><td>19</td><td>25</td><td>0.258</td><td>3.8</td><td>20438</td><td>5</td><td>7</td><td>4068</td><td>414</td><td>547</td><td>55</td><td>2</td><td>3</td><td>0.0157</td><td>3.17</td><td>21194</td><td>1</td><td>1</td><td>3037</td><td>1</td><td>1</td><td>8</td><td>1</td><td>1</td><td>0.26</td><td>2.64</td><td>-99</td><td>-99</td><td>-99</td><td>-99</td><td>-99</td><td>-99</td><td>-99</td><td>-99</td><td>-99</td><td>-99.0</td><td>-99.0</td><td>10000</td><td>45</td><td>-16.58</td><td>47.48</td></tr>\n",
       "<tr><td>SDSS</td><td>J234817.55+193345.8</td><td>2.227</td><td>8971</td><td>1</td><td>1</td><td>3784</td><td>358</td><td>473</td><td>22</td><td>16</td><td>21</td><td>-0.00307</td><td>4.24</td><td>15614</td><td>3</td><td>4</td><td>5465</td><td>455</td><td>601</td><td>96</td><td>3</td><td>3</td><td>-0.0562</td><td>3.29</td><td>16158</td><td>1</td><td>1</td><td>4399</td><td>1</td><td>1</td><td>19</td><td>1</td><td>1</td><td>-0.211</td><td>2.55</td><td>21046</td><td>1</td><td>1</td><td>3686</td><td>51</td><td>68</td><td>565</td><td>1</td><td>1</td><td>-0.0509</td><td>5.14</td><td>10000</td><td>2</td><td>-16.2</td><td>46.96</td></tr>\n",
       "<tr><td>SDSS</td><td>J235212.85-012029.6</td><td>2.384</td><td>9476</td><td>5</td><td>7</td><td>3267</td><td>313</td><td>414</td><td>16</td><td>2</td><td>3</td><td>-0.953</td><td>4.21</td><td>16444</td><td>5</td><td>7</td><td>5193</td><td>377</td><td>498</td><td>88</td><td>4</td><td>5</td><td>-0.00338</td><td>3.4</td><td>-99</td><td>-99</td><td>-99</td><td>-99</td><td>-99</td><td>-99</td><td>5</td><td>-99</td><td>-99</td><td>-99.0</td><td>-99.0</td><td>22221</td><td>2</td><td>3</td><td>4061</td><td>44</td><td>58</td><td>337</td><td>1</td><td>1</td><td>0.0413</td><td>3.79</td><td>4100</td><td>2</td><td>-16.38</td><td>46.5</td></tr>\n",
       "</table></div>"
      ],
      "text/plain": [
       "<Table length=226>\n",
       "col1         col2          col3   col4  col5  col6  col7  col8 ... col45  col46   col47  col48 col49  col50   col51 \n",
       "str4        str19        float64 int64 int64 int64 int64 int64 ... int64 float64 float64 int64 int64 float64 float64\n",
       "---- ------------------- ------- ----- ----- ----- ----- ----- ... ----- ------- ------- ----- ----- ------- -------\n",
       "SDSS J001249.89+285552.6   3.233 11874     3     5  3982   188 ...   -99   -99.0   -99.0  1300     2  -16.52   46.78\n",
       "SDSS J001355.10-012304.0   3.385 12275     4     5  3228   344 ...   -99   -99.0   -99.0  1300     2  -16.77   47.31\n",
       "SDSS J001453.20+091217.6    2.34   -99   -99   -99   -99   -99 ...     1   0.114    3.76  1300     2  -16.49   46.94\n",
       "SDSS J001813.30+361058.6   2.311  9298    13    17  5129   983 ...     1  -0.213    4.62 10000     2  -16.38   46.95\n",
       "SDSS J001914.46+155555.9   2.267  9146     5     6  4380   327 ...     1  0.0886    4.89  2200    15  -16.47   46.85\n",
       "SDSS J002634.46+274015.5   2.247  9100     2     2  3158   150 ...     1 -0.0894    4.28  4100     2  -16.43   46.86\n",
       "SDSS J003416.61+002241.1   1.631   -99   -99   -99   -99   -99 ...     1  -0.118    3.89  2400    29  -16.13   46.27\n",
       "SDSS J004719.71+014813.9   1.591   -99   -99   -99   -99   -99 ...     1   0.225    4.48 10000     2  -16.21   46.38\n",
       "SDSS J005233.67+014040.8   2.309  9246     6     8  3594   281 ...     1   -0.21    4.49  5500     2  -16.19   47.11\n",
       "SDSS J010113.72+032427.0   1.579   -99   -99   -99   -99   -99 ...     1 -0.0169    3.29  8500     2  -15.94   46.66\n",
       " ...                 ...     ...   ...   ...   ...   ...   ... ...   ...     ...     ...   ...   ...     ...     ...\n",
       "SDSS J220344.98+235729.3   2.157  8795     1     1  4067   235 ...     1  0.0203    3.42 10000    14  -16.41   46.74\n",
       "SDSS J222621.45+251545.0   2.392   -99   -99   -99   -99   -99 ...     1    -0.2    4.01 10000    16  -15.79    47.6\n",
       "SDSS J223934.45-004707.2   2.216   -99   -99   -99   -99   -99 ...     1 0.00823    3.78  3800     2  -16.39    46.4\n",
       "SDSS J225608.48+010557.8    2.26  9141     7    10  4237   733 ...     1  0.0932     3.8  9000     2  -16.41   46.41\n",
       "SDSS J225627.12+092313.3   2.291  9225     6     8  3618   416 ...     1  0.0871    4.02  1300     2  -16.39   46.44\n",
       "SDSS J230722.21+253803.8   1.597   -99   -99   -99   -99   -99 ...     1   0.081    4.23  6100     2  -15.98   46.36\n",
       "SDSS J231450.12+182402.8   2.284  9198     7    10  3643   751 ...     1  0.0856    4.14 10000     2  -16.45   46.37\n",
       "SDSS J233344.66+290251.5   3.233 11841     8    10  3590   475 ...   -99   -99.0   -99.0 10000    45  -16.58   47.48\n",
       "SDSS J234817.55+193345.8   2.227  8971     1     1  3784   358 ...     1 -0.0509    5.14 10000     2   -16.2   46.96\n",
       "SDSS J235212.85-012029.6   2.384  9476     5     7  3267   313 ...     1  0.0413    3.79  4100     2  -16.38    46.5"
      ]
     },
     "execution_count": 5,
     "metadata": {},
     "output_type": "execute_result"
    }
   ],
   "source": [
    "table"
   ]
  },
  {
   "cell_type": "code",
   "execution_count": null,
   "metadata": {},
   "outputs": [],
   "source": []
  }
 ],
 "metadata": {
  "kernelspec": {
   "display_name": "Python 3 (ipykernel)",
   "language": "python",
   "name": "python3"
  },
  "language_info": {
   "codemirror_mode": {
    "name": "ipython",
    "version": 3
   },
   "file_extension": ".py",
   "mimetype": "text/x-python",
   "name": "python",
   "nbconvert_exporter": "python",
   "pygments_lexer": "ipython3",
   "version": "3.9.12"
  },
  "latex_envs": {
   "LaTeX_envs_menu_present": true,
   "autoclose": false,
   "autocomplete": true,
   "bibliofile": "biblio.bib",
   "cite_by": "apalike",
   "current_citInitial": 1,
   "eqLabelWithNumbers": true,
   "eqNumInitial": 1,
   "hotkeys": {
    "equation": "Ctrl-E",
    "itemize": "Ctrl-I"
   },
   "labels_anchors": false,
   "latex_user_defs": false,
   "report_style_numbering": false,
   "user_envs_cfg": false
  },
  "toc": {
   "base_numbering": 1,
   "nav_menu": {},
   "number_sections": true,
   "sideBar": true,
   "skip_h1_title": false,
   "title_cell": "Table of Contents",
   "title_sidebar": "Contents",
   "toc_cell": false,
   "toc_position": {},
   "toc_section_display": "block",
   "toc_window_display": false
  }
 },
 "nbformat": 4,
 "nbformat_minor": 2
}
