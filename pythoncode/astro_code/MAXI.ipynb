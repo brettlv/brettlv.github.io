{
 "cells": [
  {
   "cell_type": "code",
   "execution_count": 97,
   "metadata": {
    "ExecuteTime": {
     "end_time": "2021-09-28T15:26:36.510778Z",
     "start_time": "2021-09-28T15:26:36.504667Z"
    }
   },
   "outputs": [],
   "source": [
    "import os\n",
    "os.chdir('/Users/brettlv/Downloads/MAXI/')"
   ]
  },
  {
   "cell_type": "code",
   "execution_count": 2,
   "metadata": {
    "ExecuteTime": {
     "end_time": "2021-09-28T07:44:27.181038Z",
     "start_time": "2021-09-28T07:44:27.175837Z"
    }
   },
   "outputs": [
    {
     "data": {
      "text/plain": [
       "'/Users/brettlv/blog/brettlv.github.io/pythoncode/astro_code'"
      ]
     },
     "execution_count": 2,
     "metadata": {},
     "output_type": "execute_result"
    }
   ],
   "source": [
    "pwd"
   ]
  },
  {
   "cell_type": "markdown",
   "metadata": {
    "ExecuteTime": {
     "end_time": "2021-09-28T07:39:33.027334Z",
     "start_time": "2021-09-28T07:39:32.869156Z"
    }
   },
   "source": [
    "ls"
   ]
  },
  {
   "cell_type": "code",
   "execution_count": 46,
   "metadata": {
    "ExecuteTime": {
     "end_time": "2021-09-28T08:07:21.070566Z",
     "start_time": "2021-09-28T08:07:21.066927Z"
    }
   },
   "outputs": [],
   "source": [
    "from lxml.html import parse\n",
    "from urllib.request import urlopen\n",
    "from pandas.io.parsers import TextParser\n",
    "from pandas import Series\n",
    "import requests\n",
    "import pandas as pd\n",
    "import re"
   ]
  },
  {
   "cell_type": "code",
   "execution_count": 4,
   "metadata": {
    "ExecuteTime": {
     "end_time": "2021-09-28T07:44:32.393128Z",
     "start_time": "2021-09-28T07:44:32.387448Z"
    }
   },
   "outputs": [],
   "source": [
    "def _unpack(row,kind='td'):\n",
    "    elts=row.findall('.//%s' %kind)\n",
    "    return [val.text_content() for val in elts]\n",
    "\n",
    "def parse_options_data(table):\n",
    "    rows=table.findall('.//tr')\n",
    "    header=_unpack(rows[0],kind='th')\n",
    "    data=[_unpack(r) for r in rows[1:]]\n",
    "    #return data\n",
    "    return TextParser(data,names=header).get_chunk()"
   ]
  },
  {
   "cell_type": "code",
   "execution_count": 5,
   "metadata": {
    "ExecuteTime": {
     "end_time": "2021-09-28T07:44:33.432657Z",
     "start_time": "2021-09-28T07:44:33.429580Z"
    }
   },
   "outputs": [],
   "source": [
    "url_MAXI='http://maxi.riken.jp/top/lc_agn.html'"
   ]
  },
  {
   "cell_type": "code",
   "execution_count": 7,
   "metadata": {
    "ExecuteTime": {
     "end_time": "2021-09-28T07:44:35.991840Z",
     "start_time": "2021-09-28T07:44:35.281178Z"
    }
   },
   "outputs": [],
   "source": [
    "parsedurl=parse(urlopen(url=url_MAXI))\n",
    "doc=parsedurl.getroot()\n",
    "links=doc.findall('.//a')\n",
    "names=doc.findall('.//br')\n"
   ]
  },
  {
   "cell_type": "code",
   "execution_count": 21,
   "metadata": {
    "ExecuteTime": {
     "end_time": "2021-09-28T07:48:35.327351Z",
     "start_time": "2021-09-28T07:48:35.322789Z"
    }
   },
   "outputs": [
    {
     "data": {
      "text/plain": [
       "208"
      ]
     },
     "execution_count": 21,
     "metadata": {},
     "output_type": "execute_result"
    }
   ],
   "source": [
    "len(names)"
   ]
  },
  {
   "cell_type": "markdown",
   "metadata": {
    "ExecuteTime": {
     "end_time": "2021-09-28T07:48:51.287342Z",
     "start_time": "2021-09-28T07:48:51.265953Z"
    }
   },
   "source": [
    "for i in names:\n",
    "    print(i)"
   ]
  },
  {
   "cell_type": "code",
   "execution_count": 10,
   "metadata": {
    "ExecuteTime": {
     "end_time": "2021-09-28T07:44:58.082407Z",
     "start_time": "2021-09-28T07:44:58.078153Z"
    }
   },
   "outputs": [
    {
     "data": {
      "text/plain": [
       "'../star_data/J0209+524/J0209+524.html'"
      ]
     },
     "execution_count": 10,
     "metadata": {},
     "output_type": "execute_result"
    }
   ],
   "source": [
    "links[20].get('href')"
   ]
  },
  {
   "cell_type": "code",
   "execution_count": null,
   "metadata": {},
   "outputs": [],
   "source": []
  },
  {
   "cell_type": "markdown",
   "metadata": {
    "ExecuteTime": {
     "end_time": "2021-09-28T07:53:03.192772Z",
     "start_time": "2021-09-28T07:53:03.168770Z"
    }
   },
   "source": [
    "urllist=[]\n",
    "url_root='http://maxi.riken.jp/'\n",
    "for i in links :\n",
    "    if str(i.get('href')).find('html')>=0 and str(i.get('href')).find('star_data')>=0:\n",
    "        print(i.get('href') )\n",
    "        urllist.append(url_root+str(i.get('href'))[3:])  "
   ]
  },
  {
   "cell_type": "code",
   "execution_count": 53,
   "metadata": {
    "ExecuteTime": {
     "end_time": "2021-09-28T08:12:40.132559Z",
     "start_time": "2021-09-28T08:12:40.127352Z"
    }
   },
   "outputs": [
    {
     "data": {
      "text/plain": [
       "'http://maxi.riken.jp/star_data/J0006+202/J0006+202.html'"
      ]
     },
     "execution_count": 53,
     "metadata": {},
     "output_type": "execute_result"
    }
   ],
   "source": [
    "urllist[0]"
   ]
  },
  {
   "cell_type": "code",
   "execution_count": 37,
   "metadata": {
    "ExecuteTime": {
     "end_time": "2021-09-28T08:03:40.833611Z",
     "start_time": "2021-09-28T08:03:40.830685Z"
    }
   },
   "outputs": [],
   "source": []
  },
  {
   "cell_type": "code",
   "execution_count": 41,
   "metadata": {
    "ExecuteTime": {
     "end_time": "2021-09-28T08:04:01.289684Z",
     "start_time": "2021-09-28T08:04:01.284315Z"
    }
   },
   "outputs": [
    {
     "data": {
      "text/plain": [
       "'http://maxi.riken.jp/star_data/J0006+202/'"
      ]
     },
     "execution_count": 41,
     "metadata": {},
     "output_type": "execute_result"
    }
   ],
   "source": [
    "url_root_i_new"
   ]
  },
  {
   "cell_type": "code",
   "execution_count": 31,
   "metadata": {
    "ExecuteTime": {
     "end_time": "2021-09-28T08:02:03.878395Z",
     "start_time": "2021-09-28T08:02:03.872950Z"
    }
   },
   "outputs": [
    {
     "data": {
      "text/plain": [
       "'http:maxi.riken.jpstar_dataJ0006+202'"
      ]
     },
     "execution_count": 31,
     "metadata": {},
     "output_type": "execute_result"
    }
   ],
   "source": [
    "url_root_i_new"
   ]
  },
  {
   "cell_type": "code",
   "execution_count": 82,
   "metadata": {
    "ExecuteTime": {
     "end_time": "2021-09-28T08:23:36.744666Z",
     "start_time": "2021-09-28T08:23:29.871414Z"
    }
   },
   "outputs": [
    {
     "name": "stdout",
     "output_type": "stream",
     "text": [
      "http://maxi.riken.jp/star_data/J0006+202/J0006+202.html\n"
     ]
    }
   ],
   "source": [
    "print(urllist[0])\n",
    "\n",
    "\n",
    "\n",
    "url_root_i=urllist[0].split('/')\n",
    "url_root_i_new=urllist[0][:-len(url_root_i[-1])]\n",
    "\n",
    "urllist_lc=[]\n",
    "parsedurl_i=parse(urlopen(url=urllist[0]))\n",
    "doc_i=parsedurl.getroot()\n",
    "\n",
    "\n",
    "\n",
    "\n",
    "links_i=doc.findall('.//a')\n",
    "for i in links_i :\n",
    "    if str(i.get('href')).find('1day_all.dat')>=0:\n",
    "        print(i.get('href') )\n",
    "        urllist_lc.append(url_root_i_new+str(i.get('href')))  "
   ]
  },
  {
   "cell_type": "code",
   "execution_count": 55,
   "metadata": {
    "ExecuteTime": {
     "end_time": "2021-09-28T08:14:17.128726Z",
     "start_time": "2021-09-28T08:14:04.842148Z"
    }
   },
   "outputs": [],
   "source": [
    "import bs4\n",
    "import requests\n",
    "from bs4 import BeautifulSoup\n",
    "\n"
   ]
  },
  {
   "cell_type": "code",
   "execution_count": 62,
   "metadata": {
    "ExecuteTime": {
     "end_time": "2021-09-28T08:15:33.134301Z",
     "start_time": "2021-09-28T08:15:33.128830Z"
    }
   },
   "outputs": [
    {
     "data": {
      "text/plain": [
       "'Mrk 335'"
      ]
     },
     "execution_count": 62,
     "metadata": {},
     "output_type": "execute_result"
    }
   ],
   "source": [
    "soup.title.contents[0]"
   ]
  },
  {
   "cell_type": "code",
   "execution_count": 84,
   "metadata": {
    "ExecuteTime": {
     "end_time": "2021-09-28T08:24:43.222075Z",
     "start_time": "2021-09-28T08:24:41.574351Z"
    }
   },
   "outputs": [
    {
     "name": "stdout",
     "output_type": "stream",
     "text": [
      "J0006+202_g_lc_1day_all.dat\n"
     ]
    }
   ],
   "source": [
    "html_content=requests.get(urllist[0]).text\n",
    "soup=BeautifulSoup(html_content,'html.parser')\n",
    "\n",
    "for i in soup.findAll('a'):\n",
    "    if i.get('href').find('1day_all.dat')>=0:\n",
    "        print(i.get('href'))       \n",
    "        url_lc=url_root_i_new+str(i.get('href'))"
   ]
  },
  {
   "cell_type": "code",
   "execution_count": 85,
   "metadata": {
    "ExecuteTime": {
     "end_time": "2021-09-28T08:24:48.284802Z",
     "start_time": "2021-09-28T08:24:48.279991Z"
    }
   },
   "outputs": [
    {
     "data": {
      "text/plain": [
       "'http://maxi.riken.jp/star_data/J0006+202/J0006+202_g_lc_1day_all.dat'"
      ]
     },
     "execution_count": 85,
     "metadata": {},
     "output_type": "execute_result"
    }
   ],
   "source": [
    "url_lc"
   ]
  },
  {
   "cell_type": "markdown",
   "metadata": {
    "ExecuteTime": {
     "end_time": "2021-09-28T08:16:35.356383Z",
     "start_time": "2021-09-28T08:16:35.349872Z"
    }
   },
   "source": [
    "[tag.name for tag in soup.find_all('')]"
   ]
  },
  {
   "cell_type": "code",
   "execution_count": null,
   "metadata": {},
   "outputs": [],
   "source": []
  },
  {
   "cell_type": "markdown",
   "metadata": {},
   "source": [
    "df = pd.read_html('http://newshxmt.ihep.ac.cn/dqjh/394.jhtml', encoding='utf-8', header=0)[0]"
   ]
  },
  {
   "cell_type": "code",
   "execution_count": 87,
   "metadata": {
    "ExecuteTime": {
     "end_time": "2021-09-28T08:28:25.512911Z",
     "start_time": "2021-09-28T08:27:23.388877Z"
    }
   },
   "outputs": [],
   "source": [
    "df = pd.read_csv('http://maxi.riken.jp/star_data/J0006+202/J0006+202_g_lc_1day_all.dat', encoding='utf-8', header=None)[0]"
   ]
  },
  {
   "cell_type": "code",
   "execution_count": 88,
   "metadata": {
    "ExecuteTime": {
     "end_time": "2021-09-28T08:29:58.606731Z",
     "start_time": "2021-09-28T08:29:58.597227Z"
    }
   },
   "outputs": [
    {
     "data": {
      "text/plain": [
       "0       55056.500000 0.040581 0.021283 0.005341 0.0099...\n",
       "1       55057.500000 -0.028320 0.017064 0.013319 0.006...\n",
       "2       55058.500000 0.010407 0.016655 -0.000538 0.005...\n",
       "3       55059.500000 0.006743 0.017407 0.001482 0.0057...\n",
       "4       55060.500000 0.024298 0.016780 0.003467 0.0057...\n",
       "                              ...                        \n",
       "3296    59479.500000 0.005423 0.013524 0.001121 0.0050...\n",
       "3297    59480.500000 -0.014128 0.014235 0.002004 0.005...\n",
       "3298    59481.500000 -0.007743 0.018723 -0.012443 0.00...\n",
       "3299    59482.500000 -0.015798 0.017071 -0.007684 0.00...\n",
       "3300    59483.500000 0.016767 0.023336 -0.012298 0.009...\n",
       "Name: 0, Length: 3301, dtype: object"
      ]
     },
     "execution_count": 88,
     "metadata": {},
     "output_type": "execute_result"
    }
   ],
   "source": [
    "df"
   ]
  },
  {
   "cell_type": "code",
   "execution_count": 91,
   "metadata": {
    "ExecuteTime": {
     "end_time": "2021-09-28T13:32:27.231685Z",
     "start_time": "2021-09-28T13:32:27.224758Z"
    }
   },
   "outputs": [
    {
     "data": {
      "text/plain": [
       "101"
      ]
     },
     "execution_count": 91,
     "metadata": {},
     "output_type": "execute_result"
    }
   ],
   "source": [
    "len(urllist)"
   ]
  },
  {
   "cell_type": "markdown",
   "metadata": {
    "ExecuteTime": {
     "end_time": "2021-09-28T13:39:43.669053Z",
     "start_time": "2021-09-28T13:39:06.873044Z"
    }
   },
   "source": [
    "import os\n",
    "for url_i in urllist:\n",
    "\n",
    "    url_root_i=url_i.split('/')\n",
    "    url_root_i_new=url_i[:-len(url_root_i[-1])]\n",
    "    \n",
    "    html_content=requests.get(url_i).text\n",
    "    soup=BeautifulSoup(html_content,'html.parser')\n",
    "    name=soup.title.contents[0]\n",
    "    \n",
    "    if not os.path.exists('/Users/brettlv/Downloads/MAXI/%s_MAXI_1day_all.dat'%name):\n",
    "        print(name)\n",
    "        for i in soup.findAll('a'):\n",
    "            if i.get('href').find('1day_all.dat')>=0:\n",
    "                print(i.get('href'))       \n",
    "                url_lc=url_root_i_new+str(i.get('href'))\n",
    "                df = pd.read_csv(url_lc, encoding='utf-8', header=None)[0]\n",
    "                df.to_csv('/Users/brettlv/Downloads/MAXI/%s_MAXI_1day_all.dat'%name)"
   ]
  },
  {
   "cell_type": "code",
   "execution_count": 98,
   "metadata": {
    "ExecuteTime": {
     "end_time": "2021-09-28T15:26:47.850731Z",
     "start_time": "2021-09-28T15:26:47.700189Z"
    }
   },
   "outputs": [
    {
     "name": "stdout",
     "output_type": "stream",
     "text": [
      "1ES 0033+595_MAXI_1day_all.dat\r\n",
      "1ES 0120+340_MAXI_1day_all.dat\r\n",
      "1ES 0414+009_MAXI_1day_all.dat\r\n",
      "1ES 0502+675_MAXI_1day_all.dat\r\n",
      "1ES 0647+25.0_MAXI_1day_all.dat\r\n",
      "1ES 1011+496_MAXI_1day_all.dat\r\n",
      "1ES 1101-23.2_MAXI_1day_all.dat\r\n",
      "1ES 1218+304_MAXI_1day_all.dat\r\n",
      "1ES 1426+428_MAXI_1day_all.dat\r\n",
      "1ES 1959+650_MAXI_1day_all.dat\r\n",
      "1ES 2321+419_MAXI_1day_all.dat\r\n",
      "1H 0419-577_MAXI_1day_all.dat\r\n",
      "1H 1934-063_MAXI_1day_all.dat\r\n",
      "1RXS J213623.1-622400_MAXI_1day_all.dat\r\n",
      "2FGL J1931.1+0938_MAXI_1day_all.dat\r\n",
      "2MASX J00341665-7905204_MAXI_1day_all.dat\r\n",
      "2MASX J09594263-3112581_MAXI_1day_all.dat\r\n",
      "2MASX J11454045-1827149_MAXI_1day_all.dat\r\n",
      "2MASX J14104482-4228325_MAXI_1day_all.dat\r\n",
      "2MASX J16115141-6037549_MAXI_1day_all.dat\r\n",
      "2MASX J21383340+3205060_MAXI_1day_all.dat\r\n",
      "3C 111_MAXI_1day_all.dat\r\n",
      "3C 120_MAXI_1day_all.dat\r\n",
      "3C 129_MAXI_1day_all.dat\r\n",
      "3C 273_MAXI_1day_all.dat\r\n",
      "3C 279_MAXI_1day_all.dat\r\n",
      "3C 382_MAXI_1day_all.dat\r\n",
      "3C 390.3_MAXI_1day_all.dat\r\n",
      "3C 454.3_MAXI_1day_all.dat\r\n",
      "3C 66A_MAXI_1day_all.dat\r\n",
      "4C +18.51_MAXI_1day_all.dat\r\n",
      "4C +74.26_MAXI_1day_all.dat\r\n",
      "4C 09.57_MAXI_1day_all.dat\r\n",
      "4C 38.41_MAXI_1day_all.dat\r\n",
      "4C 4.42_MAXI_1day_all.dat\r\n",
      "4C 50.55_MAXI_1day_all.dat\r\n",
      "4U 1344-60_MAXI_1day_all.dat\r\n",
      "AP Lib_MAXI_1day_all.dat\r\n",
      "Ark 120_MAXI_1day_all.dat\r\n",
      "Ark 564_MAXI_1day_all.dat\r\n",
      "Cen A_MAXI_1day_all.dat\r\n",
      "Cyg A_MAXI_1day_all.dat\r\n",
      "ESO 103-035_MAXI_1day_all.dat\r\n",
      "ESO 141-55_MAXI_1day_all.dat\r\n",
      "ESO 533-2_MAXI_1day_all.dat\r\n",
      "ESO 548-81_MAXI_1day_all.dat\r\n",
      "Fairall 49_MAXI_1day_all.dat\r\n",
      "Fairall 9_MAXI_1day_all.dat\r\n",
      "IC 4329A_MAXI_1day_all.dat\r\n",
      "IRAS 05078+1626_MAXI_1day_all.dat\r\n",
      "LEDA 138501_MAXI_1day_all.dat\r\n",
      "M 87_MAXI_1day_all.dat\r\n",
      "MCG +08-11-011_MAXI_1day_all.dat\r\n",
      "MCG -01-13-025_MAXI_1day_all.dat\r\n",
      "MCG -01-24-012_MAXI_1day_all.dat\r\n",
      "MCG -02-08-038_MAXI_1day_all.dat\r\n",
      "MCG -02-12-050_MAXI_1day_all.dat\r\n",
      "MCG -05-23-016_MAXI_1day_all.dat\r\n",
      "MCG -06-30-15_MAXI_1day_all.dat\r\n",
      "MR 2251-178_MAXI_1day_all.dat\r\n",
      "Mrk 110_MAXI_1day_all.dat\r\n",
      "Mrk 1148_MAXI_1day_all.dat\r\n",
      "Mrk 335_MAXI_1day_all.dat\r\n",
      "Mrk 348_MAXI_1day_all.dat\r\n",
      "Mrk 421_MAXI_1day_all.dat\r\n",
      "Mrk 501_MAXI_1day_all.dat\r\n",
      "Mrk 509_MAXI_1day_all.dat\r\n",
      "Mrk 926_MAXI_1day_all.dat\r\n",
      "NGC 1068_MAXI_1day_all.dat\r\n",
      "NGC 1365_MAXI_1day_all.dat\r\n",
      "NGC 2110_MAXI_1day_all.dat\r\n",
      "NGC 2617_MAXI_1day_all.dat\r\n",
      "NGC 2992_MAXI_1day_all.dat\r\n",
      "NGC 3227_MAXI_1day_all.dat\r\n",
      "NGC 3516_MAXI_1day_all.dat\r\n",
      "NGC 3783_MAXI_1day_all.dat\r\n",
      "NGC 4051_MAXI_1day_all.dat\r\n",
      "NGC 4151_MAXI_1day_all.dat\r\n",
      "NGC 5252_MAXI_1day_all.dat\r\n",
      "NGC 5506_MAXI_1day_all.dat\r\n",
      "NGC 5548_MAXI_1day_all.dat\r\n",
      "NGC 5995_MAXI_1day_all.dat\r\n",
      "NGC 6300_MAXI_1day_all.dat\r\n",
      "NGC 6860_MAXI_1day_all.dat\r\n",
      "NGC 7172_MAXI_1day_all.dat\r\n",
      "NGC 7469_MAXI_1day_all.dat\r\n",
      "NGC 7582_MAXI_1day_all.dat\r\n",
      "NGC 7603_MAXI_1day_all.dat\r\n",
      "NGC 931_MAXI_1day_all.dat\r\n",
      "NGC 973_MAXI_1day_all.dat\r\n",
      "OJ 287_MAXI_1day_all.dat\r\n",
      "ON 231_MAXI_1day_all.dat\r\n",
      "PG 1553+113_MAXI_1day_all.dat\r\n",
      "PKS 0521-365_MAXI_1day_all.dat\r\n",
      "PKS 1510-08_MAXI_1day_all.dat\r\n",
      "PKS 2155-304_MAXI_1day_all.dat\r\n",
      "QSO B2356-309_MAXI_1day_all.dat\r\n",
      "RGB J1117+202_MAXI_1day_all.dat\r\n",
      "RGB J1136+676_MAXI_1day_all.dat\r\n",
      "RX J1053.7+4929_MAXI_1day_all.dat\r\n",
      "S5 0716+71_MAXI_1day_all.dat\r\n"
     ]
    }
   ],
   "source": [
    "ls *.dat"
   ]
  },
  {
   "cell_type": "code",
   "execution_count": 96,
   "metadata": {
    "ExecuteTime": {
     "end_time": "2021-09-28T15:20:57.538665Z",
     "start_time": "2021-09-28T15:20:57.378514Z"
    }
   },
   "outputs": [
    {
     "name": "stdout",
     "output_type": "stream",
     "text": [
      "/Users/brettlv/Downloads/MAXI/1ES 0033+595_MAXI_1day_all.dat\r\n",
      "/Users/brettlv/Downloads/MAXI/1ES 0120+340_MAXI_1day_all.dat\r\n",
      "/Users/brettlv/Downloads/MAXI/1ES 0414+009_MAXI_1day_all.dat\r\n",
      "/Users/brettlv/Downloads/MAXI/1ES 0502+675_MAXI_1day_all.dat\r\n",
      "/Users/brettlv/Downloads/MAXI/1ES 0647+25.0_MAXI_1day_all.dat\r\n",
      "/Users/brettlv/Downloads/MAXI/1ES 1011+496_MAXI_1day_all.dat\r\n",
      "/Users/brettlv/Downloads/MAXI/1ES 1101-23.2_MAXI_1day_all.dat\r\n",
      "/Users/brettlv/Downloads/MAXI/1ES 1218+304_MAXI_1day_all.dat\r\n",
      "/Users/brettlv/Downloads/MAXI/1ES 1426+428_MAXI_1day_all.dat\r\n",
      "/Users/brettlv/Downloads/MAXI/1ES 1959+650_MAXI_1day_all.dat\r\n",
      "/Users/brettlv/Downloads/MAXI/1ES 2321+419_MAXI_1day_all.dat\r\n",
      "/Users/brettlv/Downloads/MAXI/1H 0419-577_MAXI_1day_all.dat\r\n",
      "/Users/brettlv/Downloads/MAXI/1H 1934-063_MAXI_1day_all.dat\r\n",
      "/Users/brettlv/Downloads/MAXI/1RXS J213623.1-622400_MAXI_1day_all.dat\r\n",
      "/Users/brettlv/Downloads/MAXI/2FGL J1931.1+0938_MAXI_1day_all.dat\r\n",
      "/Users/brettlv/Downloads/MAXI/2MASX J00341665-7905204_MAXI_1day_all.dat\r\n",
      "/Users/brettlv/Downloads/MAXI/2MASX J09594263-3112581_MAXI_1day_all.dat\r\n",
      "/Users/brettlv/Downloads/MAXI/2MASX J11454045-1827149_MAXI_1day_all.dat\r\n",
      "/Users/brettlv/Downloads/MAXI/2MASX J14104482-4228325_MAXI_1day_all.dat\r\n",
      "/Users/brettlv/Downloads/MAXI/2MASX J16115141-6037549_MAXI_1day_all.dat\r\n",
      "/Users/brettlv/Downloads/MAXI/2MASX J21383340+3205060_MAXI_1day_all.dat\r\n",
      "/Users/brettlv/Downloads/MAXI/3C 111_MAXI_1day_all.dat\r\n",
      "/Users/brettlv/Downloads/MAXI/3C 120_MAXI_1day_all.dat\r\n",
      "/Users/brettlv/Downloads/MAXI/3C 129_MAXI_1day_all.dat\r\n",
      "/Users/brettlv/Downloads/MAXI/3C 273_MAXI_1day_all.dat\r\n",
      "/Users/brettlv/Downloads/MAXI/3C 279_MAXI_1day_all.dat\r\n",
      "/Users/brettlv/Downloads/MAXI/3C 382_MAXI_1day_all.dat\r\n",
      "/Users/brettlv/Downloads/MAXI/3C 390.3_MAXI_1day_all.dat\r\n",
      "/Users/brettlv/Downloads/MAXI/3C 454.3_MAXI_1day_all.dat\r\n",
      "/Users/brettlv/Downloads/MAXI/3C 66A_MAXI_1day_all.dat\r\n",
      "/Users/brettlv/Downloads/MAXI/4C +18.51_MAXI_1day_all.dat\r\n",
      "/Users/brettlv/Downloads/MAXI/4C +74.26_MAXI_1day_all.dat\r\n",
      "/Users/brettlv/Downloads/MAXI/4C 09.57_MAXI_1day_all.dat\r\n",
      "/Users/brettlv/Downloads/MAXI/4C 38.41_MAXI_1day_all.dat\r\n",
      "/Users/brettlv/Downloads/MAXI/4C 4.42_MAXI_1day_all.dat\r\n",
      "/Users/brettlv/Downloads/MAXI/4C 50.55_MAXI_1day_all.dat\r\n",
      "/Users/brettlv/Downloads/MAXI/4U 1344-60_MAXI_1day_all.dat\r\n",
      "/Users/brettlv/Downloads/MAXI/AP Lib_MAXI_1day_all.dat\r\n",
      "/Users/brettlv/Downloads/MAXI/Ark 120_MAXI_1day_all.dat\r\n",
      "/Users/brettlv/Downloads/MAXI/Ark 564_MAXI_1day_all.dat\r\n",
      "/Users/brettlv/Downloads/MAXI/Cen A_MAXI_1day_all.dat\r\n",
      "/Users/brettlv/Downloads/MAXI/Cyg A_MAXI_1day_all.dat\r\n",
      "/Users/brettlv/Downloads/MAXI/ESO 103-035_MAXI_1day_all.dat\r\n",
      "/Users/brettlv/Downloads/MAXI/ESO 141-55_MAXI_1day_all.dat\r\n",
      "/Users/brettlv/Downloads/MAXI/ESO 533-2_MAXI_1day_all.dat\r\n",
      "/Users/brettlv/Downloads/MAXI/ESO 548-81_MAXI_1day_all.dat\r\n",
      "/Users/brettlv/Downloads/MAXI/Fairall 49_MAXI_1day_all.dat\r\n",
      "/Users/brettlv/Downloads/MAXI/Fairall 9_MAXI_1day_all.dat\r\n",
      "/Users/brettlv/Downloads/MAXI/IC 4329A_MAXI_1day_all.dat\r\n",
      "/Users/brettlv/Downloads/MAXI/IRAS 05078+1626_MAXI_1day_all.dat\r\n",
      "/Users/brettlv/Downloads/MAXI/LEDA 138501_MAXI_1day_all.dat\r\n",
      "/Users/brettlv/Downloads/MAXI/M 87_MAXI_1day_all.dat\r\n",
      "/Users/brettlv/Downloads/MAXI/MCG +08-11-011_MAXI_1day_all.dat\r\n",
      "/Users/brettlv/Downloads/MAXI/MCG -01-13-025_MAXI_1day_all.dat\r\n",
      "/Users/brettlv/Downloads/MAXI/MCG -01-24-012_MAXI_1day_all.dat\r\n",
      "/Users/brettlv/Downloads/MAXI/MCG -02-08-038_MAXI_1day_all.dat\r\n",
      "/Users/brettlv/Downloads/MAXI/MCG -02-12-050_MAXI_1day_all.dat\r\n",
      "/Users/brettlv/Downloads/MAXI/MCG -05-23-016_MAXI_1day_all.dat\r\n",
      "/Users/brettlv/Downloads/MAXI/MCG -06-30-15_MAXI_1day_all.dat\r\n",
      "/Users/brettlv/Downloads/MAXI/MR 2251-178_MAXI_1day_all.dat\r\n",
      "/Users/brettlv/Downloads/MAXI/Mrk 110_MAXI_1day_all.dat\r\n",
      "/Users/brettlv/Downloads/MAXI/Mrk 1148_MAXI_1day_all.dat\r\n",
      "/Users/brettlv/Downloads/MAXI/Mrk 335_MAXI_1day_all.dat\r\n",
      "/Users/brettlv/Downloads/MAXI/Mrk 348_MAXI_1day_all.dat\r\n",
      "/Users/brettlv/Downloads/MAXI/Mrk 421_MAXI_1day_all.dat\r\n",
      "/Users/brettlv/Downloads/MAXI/Mrk 501_MAXI_1day_all.dat\r\n",
      "/Users/brettlv/Downloads/MAXI/Mrk 509_MAXI_1day_all.dat\r\n",
      "/Users/brettlv/Downloads/MAXI/Mrk 926_MAXI_1day_all.dat\r\n",
      "/Users/brettlv/Downloads/MAXI/NGC 1068_MAXI_1day_all.dat\r\n",
      "/Users/brettlv/Downloads/MAXI/NGC 1365_MAXI_1day_all.dat\r\n",
      "/Users/brettlv/Downloads/MAXI/NGC 2110_MAXI_1day_all.dat\r\n",
      "/Users/brettlv/Downloads/MAXI/NGC 2617_MAXI_1day_all.dat\r\n",
      "/Users/brettlv/Downloads/MAXI/NGC 2992_MAXI_1day_all.dat\r\n",
      "/Users/brettlv/Downloads/MAXI/NGC 3227_MAXI_1day_all.dat\r\n",
      "/Users/brettlv/Downloads/MAXI/NGC 3516_MAXI_1day_all.dat\r\n",
      "/Users/brettlv/Downloads/MAXI/NGC 3783_MAXI_1day_all.dat\r\n",
      "/Users/brettlv/Downloads/MAXI/NGC 4051_MAXI_1day_all.dat\r\n",
      "/Users/brettlv/Downloads/MAXI/NGC 4151_MAXI_1day_all.dat\r\n",
      "/Users/brettlv/Downloads/MAXI/NGC 5252_MAXI_1day_all.dat\r\n",
      "/Users/brettlv/Downloads/MAXI/NGC 5506_MAXI_1day_all.dat\r\n",
      "/Users/brettlv/Downloads/MAXI/NGC 5548_MAXI_1day_all.dat\r\n",
      "/Users/brettlv/Downloads/MAXI/NGC 5995_MAXI_1day_all.dat\r\n",
      "/Users/brettlv/Downloads/MAXI/NGC 6300_MAXI_1day_all.dat\r\n",
      "/Users/brettlv/Downloads/MAXI/NGC 6860_MAXI_1day_all.dat\r\n",
      "/Users/brettlv/Downloads/MAXI/NGC 7172_MAXI_1day_all.dat\r\n",
      "/Users/brettlv/Downloads/MAXI/NGC 7469_MAXI_1day_all.dat\r\n",
      "/Users/brettlv/Downloads/MAXI/NGC 7582_MAXI_1day_all.dat\r\n",
      "/Users/brettlv/Downloads/MAXI/NGC 7603_MAXI_1day_all.dat\r\n",
      "/Users/brettlv/Downloads/MAXI/NGC 931_MAXI_1day_all.dat\r\n",
      "/Users/brettlv/Downloads/MAXI/NGC 973_MAXI_1day_all.dat\r\n",
      "/Users/brettlv/Downloads/MAXI/OJ 287_MAXI_1day_all.dat\r\n",
      "/Users/brettlv/Downloads/MAXI/ON 231_MAXI_1day_all.dat\r\n",
      "/Users/brettlv/Downloads/MAXI/PG 1553+113_MAXI_1day_all.dat\r\n",
      "/Users/brettlv/Downloads/MAXI/PKS 0521-365_MAXI_1day_all.dat\r\n",
      "/Users/brettlv/Downloads/MAXI/PKS 1510-08_MAXI_1day_all.dat\r\n",
      "/Users/brettlv/Downloads/MAXI/PKS 2155-304_MAXI_1day_all.dat\r\n",
      "/Users/brettlv/Downloads/MAXI/QSO B2356-309_MAXI_1day_all.dat\r\n",
      "/Users/brettlv/Downloads/MAXI/RGB J1117+202_MAXI_1day_all.dat\r\n",
      "/Users/brettlv/Downloads/MAXI/RGB J1136+676_MAXI_1day_all.dat\r\n",
      "/Users/brettlv/Downloads/MAXI/RX J1053.7+4929_MAXI_1day_all.dat\r\n",
      "/Users/brettlv/Downloads/MAXI/S5 0716+71_MAXI_1day_all.dat\r\n"
     ]
    }
   ],
   "source": [
    "ls /Users/brettlv/Downloads/MAXI/*.dat"
   ]
  },
  {
   "cell_type": "code",
   "execution_count": null,
   "metadata": {},
   "outputs": [],
   "source": []
  }
 ],
 "metadata": {
  "kernelspec": {
   "display_name": "Python 3",
   "language": "python",
   "name": "python3"
  },
  "language_info": {
   "codemirror_mode": {
    "name": "ipython",
    "version": 3
   },
   "file_extension": ".py",
   "mimetype": "text/x-python",
   "name": "python",
   "nbconvert_exporter": "python",
   "pygments_lexer": "ipython3",
   "version": "3.8.5"
  },
  "latex_envs": {
   "LaTeX_envs_menu_present": true,
   "autocomplete": true,
   "bibliofile": "biblio.bib",
   "cite_by": "apalike",
   "current_citInitial": 1,
   "eqLabelWithNumbers": true,
   "eqNumInitial": 1,
   "hotkeys": {
    "equation": "Ctrl-E",
    "itemize": "Ctrl-I"
   },
   "labels_anchors": false,
   "latex_user_defs": false,
   "report_style_numbering": false,
   "user_envs_cfg": false
  },
  "toc": {
   "nav_menu": {},
   "number_sections": true,
   "sideBar": true,
   "skip_h1_title": false,
   "toc_cell": false,
   "toc_position": {},
   "toc_section_display": "block",
   "toc_window_display": false
  }
 },
 "nbformat": 4,
 "nbformat_minor": 2
}
