{
 "cells": [
  {
   "cell_type": "code",
   "execution_count": 31,
   "metadata": {
    "ExecuteTime": {
     "end_time": "2019-05-13T10:28:10.778937Z",
     "start_time": "2019-05-13T10:28:09.463027Z"
    },
    "collapsed": true
   },
   "outputs": [],
   "source": [
    "import pyregion,pyavm\n",
    "import matplotlib.pyplot as plt\n",
    "import matplotlib.cm as cm\n",
    "from astropy.io import fits\n",
    "import pyregion\n",
    "\n",
    "# read in the image\n",
    "xray_name = \"/Volumes/Brettlv_G_m/Mrk1018/swift/00030955001_xrt/sw00030955001xpcw2po_cl.evt\"\n",
    "filepath='/Volumes/Brettlv_G_m/Mrk1018/swift/'\n",
    "region_name = \"/Volumes/Brettlv_G_m/Mrk1018/swift/src.reg\"\n",
    "\n",
    "src_name = \"/Volumes/Brettlv_G_m/Mrk1018/swift/src.reg\"\n",
    "bkg_name = \"/Volumes/Brettlv_G_m/Mrk1018/swift/bkg.reg\"\n",
    "\n",
    "f_xray = fits.open(xray_name)\n",
    "rsrc = pyregion.open(src_name)\n",
    "sbkg=pyregion.open(bkg_name)\n",
    "#r = pyregion.open(region_name)"
   ]
  },
  {
   "cell_type": "code",
   "execution_count": 43,
   "metadata": {
    "ExecuteTime": {
     "end_time": "2019-05-13T10:33:48.885193Z",
     "start_time": "2019-05-13T10:33:48.879514Z"
    },
    "collapsed": false
   },
   "outputs": [
    {
     "data": {
      "text/plain": [
       "SIMPLE  =                    T / file does conform to FITS standard             \n",
       "BITPIX  =                    8 / number of bits per data pixel                  \n",
       "NAXIS   =                    0 / number of data axes                            \n",
       "EXTEND  =                    T / FITS dataset may contain extensions            \n",
       "COMMENT   FITS (Flexible Image Transport System) format is defined in 'Astronomy\n",
       "COMMENT   and Astrophysics', volume 376, page 359; bibcode: 2001A&A...376..359H \n",
       "TELESCOP= 'SWIFT   '           / Telescope (mission) name                       \n",
       "INSTRUME= 'XRT     '           / Instrument name                                \n",
       "OBS_ID  = '00030955001'        / Observation ID                                 \n",
       "TARG_ID =                30955 / Target ID                                      \n",
       "SEG_NUM =                    1 / Segment number                                 \n",
       "TIMESYS = 'TT      '           / time measured from                             \n",
       "MJDREFI =                51910 / MJD reference day                              \n",
       "MJDREFF = 7.428703700000000E-04 / MJD reference (fraction of day)               \n",
       "CLOCKAPP=                    F / If clock correction are applied (F/T)          \n",
       "TIMEUNIT= 's       '           / unit for time keywords                         \n",
       "TSTART  = 2.040175202100235E+08 / time start                                    \n",
       "TSTOP   = 2.040461374929834E+08 / time stop                                     \n",
       "DATE-OBS= '2007-06-20T07:31:59' / Start date of observations                    \n",
       "DATE-END= '2007-06-20T15:28:56' / End date of observations                      \n",
       "ORIGIN  = 'NASA/GSFC'          / origin of fits file                            \n",
       "CREATOR = 'extractor v5.35'    / Extractor                                      \n",
       "TLM2FITS= 'V6.4'               / Telemetry converter version number             \n",
       "DATE    = '2019-05-08T14:46:59' / file creation date (YYYY-MM-DDThh:mm:ss UT)   \n",
       "CHECKSUM= 'hbWmhZTmhaTmhYTm'   / HDU checksum updated 2019-05-08T14:46:59       \n",
       "DATASUM = '         0'         / data unit checksum updated 2015-07-07T16:55:52 \n",
       "ATTFLAG = '110     '           / Attitude type flag                             \n",
       "PROCVER = '3.16.09 '           / Processing script version                      \n",
       "SOFTVER = 'Hea_22Oct2018_V6.25_swxrtdas_23Jan18_v3.4.1' / HEASoft and XRTDAS ver\n",
       "CALDBVER= 'x20160609'          / CALDB index version                            \n",
       "REPROC  =                    T / Is this from a bulk reprocessing run?          \n",
       "SEQPNUM =                   10 / Number of times the dataset processed          \n",
       "OBJECT  = 'XMM-LSS4'           / Name of observed object                        \n",
       "RA_OBJ  =            31.588880 / [deg] R.A. Object                              \n",
       "DEC_OBJ =            -0.356978 / [deg] Dec Object                               \n",
       "RA_PNT  =      31.583290103569 / [deg] RA pointing                              \n",
       "DEC_PNT =   -0.362161957104624 / [deg] Dec pointing                             \n",
       "PA_PNT  =     68.1153283608622 / [deg] Position angle (roll)                    \n",
       "UTCFINIT=    -2.03390000000000 / [s] UTCF at TSTART                             \n",
       "NEVENTS =                 6971 / Number of events                               \n",
       "DATAMODE= 'PHOTON  '           / Datamode                                       \n",
       "DETNAM  = 'NONE    '           / Detector                                       \n",
       "ONTIME  = 3.322172500133514E+03 / On-source time                                \n",
       "DEADC   =       9.96015310E-01 / Deadtime correction                            \n",
       "DEADAPP =                    F / Has DEADC been applied to data                 \n",
       "EXPOSURE= 3.308934673549001E+03 / Exposure time                                 \n",
       "LIVETIME= 3.308934673549001E+03 / Deadtime corrected on-source time             \n",
       "TELAPSE = 2.861728295996785E+04 / elapsed time                                  \n",
       "MJD-OBS = 5.427131463419009E+04 / MJD of data start time                        \n",
       "TIMEREF = 'LOCAL   '           / reference time                                 \n",
       "EQUINOX =            2.000E+03 / Equinox of celestial coord system              \n",
       "RADECSYS= 'FK5     '           / celestial coord system                         \n",
       "USER    = 'brett   '           / User name of creator                           \n",
       "FILIN001= 'sw00030955001xpcw2po_uf.evt' / Input file name                       \n",
       "TIMEZERO= 0.000000000000000E+00 / Time Zero                                     \n",
       "HISTORY                                                                         \n",
       "HISTORY START PARAMETER list for xrtscreen_0.5.0 at 2019-05-08T22:46:59         \n",
       "HISTORY                                                                         \n",
       "HISTORY P1 gtiexpr = \"(SUN_ANGLE>=45&&ANG_DIST<=0.15&&MOON_ANGLE>=14)&&(ELV>=28|\n",
       "HISTORY P1 |BR_EARTH>=120)&&((CCDTemp>=-102&&CCDTemp<=-47)&&(Vod1>=29.8&&Vod1<=3\n",
       "HISTORY P1 0.25)&&(Vod2>=29.30&&Vod2<=29.80)&&(Vrd1>=16.40&&Vrd1<=16.80)&&(Vrd2>\n",
       "HISTORY P1 =16.45&&Vrd2<=16.90)&&(Vsub>=-0.1&&Vsub<=0.1)&&(Vbackjun>=-0.1&&Vback\n",
       "HISTORY P1 jun<=0.1)&&(BaseLin1>=0.1&&BaseLin1<=0.4)&&(BaseLin2>=-0.1&&BaseLin2<\n",
       "HISTORY P1 =0.1))&&((STAST_LOSSFCN>=0&&STAST_LOSSFCN<=5.0E-9)||(STAST_LOSSFCN>=1\n",
       "HISTORY P1 &&STAST_LOSSFCN<=5.0E+3))&&(STLOCKFL==1)&&((SETTLED==1&&TEN_ARCMIN==1\n",
       "HISTORY P1 )||(SETTLED==1&&TEN_ARCMIN==0&&SAFEHOLD==0))\"                        \n",
       "HISTORY P2 exprgrade = \"0-12\"                                                   \n",
       "HISTORY P3 expr = \"STATUS==b0\"                                                  \n",
       "HISTORY P4 infile = /Volumes/Brettlv_G_m/Mrk1018/swift/00030955001_xrt/sw0003095\n",
       "HISTORY P4 5001xpcw2po_uf.evt                                                   \n",
       "HISTORY P5 outdir = /Volumes/Brettlv_G_m/Mrk1018/swift/00030955001_xrt          \n",
       "HISTORY P6 clobber = yes                                                        \n",
       "HISTORY P7 chatter = 3                                                          \n",
       "HISTORY P8 history = yes                                                        \n",
       "HISTORY P9 createattgti = yes                                                   \n",
       "HISTORY P10 createinstrgti = yes                                                \n",
       "HISTORY P11 gtiscreen = yes                                                     \n",
       "HISTORY P12 evtscreen = yes                                                     \n",
       "HISTORY P13 acsscreen = no                                                      \n",
       "HISTORY P14 obsmodescreen = yes                                                 \n",
       "HISTORY P15 mode = ql                                                           \n",
       "HISTORY P16 mkffile = /Volumes/Brettlv_G_m/Mrk1018/swift/00030955001_xrt/sw00030\n",
       "HISTORY P16 955001s.mkf                                                         \n",
       "HISTORY P17 gtifile = /Volumes/Brettlv_G_m/Mrk1018/swift/00030955001_xrt/sw00030\n",
       "HISTORY P17 955001xpcw2po_clgti.fits                                            \n",
       "HISTORY P18 usrgtifile = NONE                                                   \n",
       "HISTORY P19 hkrangefile = CALDB                                                 \n",
       "HISTORY P20 timecol = TIME                                                      \n",
       "HISTORY P21 outfile = /Volumes/Brettlv_G_m/Mrk1018/swift/00030955001_xrt/sw00030\n",
       "HISTORY P21 955001xpcw2po_cl.evt                                                \n",
       "HISTORY P22 gtiext = GTI                                                        \n",
       "HISTORY P23 evtrangefile = CALDB                                                \n",
       "HISTORY P24 cleanup = no                                                        \n",
       "HISTORY                                                                         \n",
       "HISTORY END PARAMETER list for xrtscreen_0.5.0                                  \n",
       "HISTORY CALDB HKRANGE file : /Users/brettlv/src_heasoft/heasoft-6.25/CALDB/data/\n",
       "HISTORY swift/xrt/bcf/instrument/swxhkranges0_20010101v011.fits                 \n",
       "HISTORY CALDB EVTRANGE file: /Users/brettlv/src_heasoft/heasoft-6.25/CALDB/data/\n",
       "HISTORY swift/xrt/bcf/instrument/swxevtrange20010101v002.fits                   \n",
       "                                                                                \n",
       "                                                                                \n",
       "                                                                                \n",
       "                                                                                \n",
       "                                                                                \n",
       "                                                                                \n",
       "                                                                                \n",
       "                                                                                \n",
       "                                                                                "
      ]
     },
     "execution_count": 43,
     "metadata": {},
     "output_type": "execute_result"
    }
   ],
   "source": [
    "f_xray[0].header"
   ]
  },
  {
   "cell_type": "code",
   "execution_count": 44,
   "metadata": {
    "ExecuteTime": {
     "end_time": "2019-05-13T10:34:30.774674Z",
     "start_time": "2019-05-13T10:34:30.744471Z"
    },
    "collapsed": false
   },
   "outputs": [
    {
     "name": "stderr",
     "output_type": "stream",
     "text": [
      "WARNING: The following header keyword is invalid or follows an unrecognized non-standard convention:\n",
      "FK5                                                                              [astropy.io.fits.card]\n"
     ]
    },
    {
     "ename": "ValueError",
     "evalue": "WCS should contain celestial component",
     "output_type": "error",
     "traceback": [
      "\u001b[0;31m---------------------------------------------------------------------------\u001b[0m",
      "\u001b[0;31mValueError\u001b[0m                                Traceback (most recent call last)",
      "\u001b[0;32m<ipython-input-44-298b7c26d32b>\u001b[0m in \u001b[0;36m<module>\u001b[0;34m()\u001b[0m\n\u001b[0;32m----> 1\u001b[0;31m \u001b[0mr2\u001b[0m \u001b[0;34m=\u001b[0m \u001b[0mrsrc\u001b[0m\u001b[0;34m.\u001b[0m\u001b[0mas_imagecoord\u001b[0m\u001b[0;34m(\u001b[0m\u001b[0mf_xray\u001b[0m\u001b[0;34m[\u001b[0m\u001b[0;36m0\u001b[0m\u001b[0;34m]\u001b[0m\u001b[0;34m.\u001b[0m\u001b[0mheader\u001b[0m\u001b[0;34m[\u001b[0m\u001b[0;34m'RADECSYS'\u001b[0m\u001b[0;34m]\u001b[0m\u001b[0;34m)\u001b[0m\u001b[0;34m\u001b[0m\u001b[0m\n\u001b[0m",
      "\u001b[0;32m/Users/brettlv/anaconda3/lib/python3.6/site-packages/pyregion/core.py\u001b[0m in \u001b[0;36mas_imagecoord\u001b[0;34m(self, header)\u001b[0m\n\u001b[1;32m     68\u001b[0m         r = RegionParser.sky_to_image(zip(self, comment_list),\n\u001b[1;32m     69\u001b[0m                                       header)\n\u001b[0;32m---> 70\u001b[0;31m         \u001b[0mshape_list\u001b[0m\u001b[0;34m,\u001b[0m \u001b[0mcomment_list\u001b[0m \u001b[0;34m=\u001b[0m \u001b[0mzip\u001b[0m\u001b[0;34m(\u001b[0m\u001b[0;34m*\u001b[0m\u001b[0mlist\u001b[0m\u001b[0;34m(\u001b[0m\u001b[0mr\u001b[0m\u001b[0;34m)\u001b[0m\u001b[0;34m)\u001b[0m\u001b[0;34m\u001b[0m\u001b[0m\n\u001b[0m\u001b[1;32m     71\u001b[0m         \u001b[0;32mreturn\u001b[0m \u001b[0mShapeList\u001b[0m\u001b[0;34m(\u001b[0m\u001b[0mshape_list\u001b[0m\u001b[0;34m,\u001b[0m \u001b[0mcomment_list\u001b[0m\u001b[0;34m=\u001b[0m\u001b[0mcomment_list\u001b[0m\u001b[0;34m)\u001b[0m\u001b[0;34m\u001b[0m\u001b[0m\n\u001b[1;32m     72\u001b[0m \u001b[0;34m\u001b[0m\u001b[0m\n",
      "\u001b[0;32m/Users/brettlv/anaconda3/lib/python3.6/site-packages/pyregion/ds9_region_parser.py\u001b[0m in \u001b[0;36msky_to_image\u001b[0;34m(shape_list, header)\u001b[0m\n\u001b[1;32m    185\u001b[0m                     \u001b[0;34m(\u001b[0m\u001b[0mshape\u001b[0m\u001b[0;34m.\u001b[0m\u001b[0mcoord_format\u001b[0m \u001b[0;32mnot\u001b[0m \u001b[0;32min\u001b[0m \u001b[0mimage_like_coordformats\u001b[0m\u001b[0;34m)\u001b[0m\u001b[0;34m:\u001b[0m\u001b[0;34m\u001b[0m\u001b[0m\n\u001b[1;32m    186\u001b[0m \u001b[0;34m\u001b[0m\u001b[0m\n\u001b[0;32m--> 187\u001b[0;31m                 \u001b[0mnew_coords\u001b[0m \u001b[0;34m=\u001b[0m \u001b[0mconvert_to_imagecoord\u001b[0m\u001b[0;34m(\u001b[0m\u001b[0mshape\u001b[0m\u001b[0;34m,\u001b[0m \u001b[0mheader\u001b[0m\u001b[0;34m)\u001b[0m\u001b[0;34m\u001b[0m\u001b[0m\n\u001b[0m\u001b[1;32m    188\u001b[0m \u001b[0;34m\u001b[0m\u001b[0m\n\u001b[1;32m    189\u001b[0m                 \u001b[0ml1n\u001b[0m \u001b[0;34m=\u001b[0m \u001b[0mcopy\u001b[0m\u001b[0;34m.\u001b[0m\u001b[0mcopy\u001b[0m\u001b[0;34m(\u001b[0m\u001b[0mshape\u001b[0m\u001b[0;34m)\u001b[0m\u001b[0;34m\u001b[0m\u001b[0m\n",
      "\u001b[0;32m/Users/brettlv/anaconda3/lib/python3.6/site-packages/pyregion/wcs_converter.py\u001b[0m in \u001b[0;36mconvert_to_imagecoord\u001b[0;34m(shape, header)\u001b[0m\n\u001b[1;32m     91\u001b[0m             new_coordlist.extend(\n\u001b[1;32m     92\u001b[0m                 \u001b[0mnp\u001b[0m\u001b[0;34m.\u001b[0m\u001b[0masscalar\u001b[0m\u001b[0;34m(\u001b[0m\u001b[0mx\u001b[0m\u001b[0;34m)\u001b[0m\u001b[0;34m\u001b[0m\u001b[0m\n\u001b[0;32m---> 93\u001b[0;31m                 \u001b[0;32mfor\u001b[0m \u001b[0mx\u001b[0m \u001b[0;32min\u001b[0m \u001b[0mold_coordinate\u001b[0m\u001b[0;34m.\u001b[0m\u001b[0mto_pixel\u001b[0m\u001b[0;34m(\u001b[0m\u001b[0mnew_wcs\u001b[0m\u001b[0;34m,\u001b[0m \u001b[0morigin\u001b[0m\u001b[0;34m=\u001b[0m\u001b[0;36m1\u001b[0m\u001b[0;34m)\u001b[0m\u001b[0;34m\u001b[0m\u001b[0m\n\u001b[0m\u001b[1;32m     94\u001b[0m             )\n\u001b[1;32m     95\u001b[0m \u001b[0;34m\u001b[0m\u001b[0m\n",
      "\u001b[0;32m/Users/brettlv/anaconda3/lib/python3.6/site-packages/astropy/coordinates/sky_coordinate.py\u001b[0m in \u001b[0;36mto_pixel\u001b[0;34m(self, wcs, origin, mode)\u001b[0m\n\u001b[1;32m   1410\u001b[0m         \u001b[0mastropy\u001b[0m\u001b[0;34m.\u001b[0m\u001b[0mwcs\u001b[0m\u001b[0;34m.\u001b[0m\u001b[0mutils\u001b[0m\u001b[0;34m.\u001b[0m\u001b[0mskycoord_to_pixel\u001b[0m \u001b[0;34m:\u001b[0m \u001b[0mthe\u001b[0m \u001b[0mimplementation\u001b[0m \u001b[0mof\u001b[0m \u001b[0mthis\u001b[0m \u001b[0mmethod\u001b[0m\u001b[0;34m\u001b[0m\u001b[0m\n\u001b[1;32m   1411\u001b[0m         \"\"\"\n\u001b[0;32m-> 1412\u001b[0;31m         \u001b[0;32mreturn\u001b[0m \u001b[0mskycoord_to_pixel\u001b[0m\u001b[0;34m(\u001b[0m\u001b[0mself\u001b[0m\u001b[0;34m,\u001b[0m \u001b[0mwcs\u001b[0m\u001b[0;34m=\u001b[0m\u001b[0mwcs\u001b[0m\u001b[0;34m,\u001b[0m \u001b[0morigin\u001b[0m\u001b[0;34m=\u001b[0m\u001b[0morigin\u001b[0m\u001b[0;34m,\u001b[0m \u001b[0mmode\u001b[0m\u001b[0;34m=\u001b[0m\u001b[0mmode\u001b[0m\u001b[0;34m)\u001b[0m\u001b[0;34m\u001b[0m\u001b[0m\n\u001b[0m\u001b[1;32m   1413\u001b[0m \u001b[0;34m\u001b[0m\u001b[0m\n\u001b[1;32m   1414\u001b[0m     \u001b[0;34m@\u001b[0m\u001b[0mclassmethod\u001b[0m\u001b[0;34m\u001b[0m\u001b[0m\n",
      "\u001b[0;32m/Users/brettlv/anaconda3/lib/python3.6/site-packages/astropy/wcs/utils.py\u001b[0m in \u001b[0;36mskycoord_to_pixel\u001b[0;34m(coords, wcs, origin, mode)\u001b[0m\n\u001b[1;32m    521\u001b[0m \u001b[0;34m\u001b[0m\u001b[0m\n\u001b[1;32m    522\u001b[0m     \u001b[0;32mif\u001b[0m \u001b[0mwcs\u001b[0m\u001b[0;34m.\u001b[0m\u001b[0mnaxis\u001b[0m \u001b[0;34m!=\u001b[0m \u001b[0;36m2\u001b[0m\u001b[0;34m:\u001b[0m\u001b[0;34m\u001b[0m\u001b[0m\n\u001b[0;32m--> 523\u001b[0;31m         \u001b[0;32mraise\u001b[0m \u001b[0mValueError\u001b[0m\u001b[0;34m(\u001b[0m\u001b[0;34m\"WCS should contain celestial component\"\u001b[0m\u001b[0;34m)\u001b[0m\u001b[0;34m\u001b[0m\u001b[0m\n\u001b[0m\u001b[1;32m    524\u001b[0m \u001b[0;34m\u001b[0m\u001b[0m\n\u001b[1;32m    525\u001b[0m     \u001b[0;31m# Check which frame the WCS uses\u001b[0m\u001b[0;34m\u001b[0m\u001b[0;34m\u001b[0m\u001b[0m\n",
      "\u001b[0;31mValueError\u001b[0m: WCS should contain celestial component"
     ]
    }
   ],
   "source": [
    "r2 = rsrc.as_imagecoord(f_xray[0].header['RADECSYS'])"
   ]
  },
  {
   "cell_type": "code",
   "execution_count": null,
   "metadata": {
    "collapsed": true
   },
   "outputs": [],
   "source": []
  },
  {
   "cell_type": "code",
   "execution_count": null,
   "metadata": {
    "collapsed": true
   },
   "outputs": [],
   "source": []
  },
  {
   "cell_type": "code",
   "execution_count": null,
   "metadata": {
    "collapsed": true
   },
   "outputs": [],
   "source": []
  },
  {
   "cell_type": "code",
   "execution_count": 34,
   "metadata": {
    "ExecuteTime": {
     "end_time": "2019-05-13T10:28:47.849451Z",
     "start_time": "2019-05-13T10:28:47.679740Z"
    },
    "collapsed": false
   },
   "outputs": [
    {
     "name": "stderr",
     "output_type": "stream",
     "text": [
      "WARNING: FITSFixedWarning: RADECSYS= 'FK5 ' / celestial coord system \n",
      "the RADECSYS keyword is deprecated, use RADESYSa. [astropy.wcs.wcs]\n",
      "WARNING: FITSFixedWarning: The WCS transformation has more axes (2) than the image it is associated with (0) [astropy.wcs.wcs]\n"
     ]
    }
   ],
   "source": [
    "try:\n",
    "    from astropy.wcs import WCS\n",
    "    from astropy.visualization.wcsaxes import WCSAxes\n",
    "\n",
    "    wcs = WCS(f_xray[0].header)\n",
    "    fig = plt.figure()\n",
    "    ax = WCSAxes(fig, [0.1, 0.1, 0.8, 0.8], wcs=wcs)\n",
    "    fig.add_axes(ax)\n",
    "except ImportError:\n",
    "    ax = plt.subplot(111)\n",
    "\n",
    "\n",
    "#ax.imshow(f_xray[0].data, cmap=cm.gray, vmin=0., vmax=0.00038, origin=\"lower\")\n",
    "#plt.show()"
   ]
  },
  {
   "cell_type": "code",
   "execution_count": 35,
   "metadata": {
    "ExecuteTime": {
     "end_time": "2019-05-13T10:28:48.784688Z",
     "start_time": "2019-05-13T10:28:48.767383Z"
    },
    "collapsed": false
   },
   "outputs": [
    {
     "ename": "ValueError",
     "evalue": "Data should have at least two dimensions",
     "output_type": "error",
     "traceback": [
      "\u001b[0;31m---------------------------------------------------------------------------\u001b[0m",
      "\u001b[0;31mValueError\u001b[0m                                Traceback (most recent call last)",
      "\u001b[0;32m<ipython-input-35-2b3d9b918948>\u001b[0m in \u001b[0;36m<module>\u001b[0;34m()\u001b[0m\n\u001b[1;32m      1\u001b[0m \u001b[0;32mimport\u001b[0m \u001b[0maplpy\u001b[0m\u001b[0;34m\u001b[0m\u001b[0m\n\u001b[1;32m      2\u001b[0m \u001b[0;32mimport\u001b[0m \u001b[0mos\u001b[0m\u001b[0;34m\u001b[0m\u001b[0m\n\u001b[0;32m----> 3\u001b[0;31m \u001b[0mfig\u001b[0m \u001b[0;34m=\u001b[0m \u001b[0maplpy\u001b[0m\u001b[0;34m.\u001b[0m\u001b[0mFITSFigure\u001b[0m\u001b[0;34m(\u001b[0m\u001b[0mf_xray\u001b[0m\u001b[0;34m)\u001b[0m\u001b[0;34m\u001b[0m\u001b[0m\n\u001b[0m",
      "\u001b[0;32m/Users/brettlv/anaconda3/lib/python3.6/site-packages/aplpy/core.py\u001b[0m in \u001b[0;36m__init__\u001b[0;34m(self, data, hdu, figure, subplot, downsample, north, convention, dimensions, slices, auto_refresh, **kwargs)\u001b[0m\n",
      "\u001b[0;32m/Users/brettlv/anaconda3/lib/python3.6/site-packages/aplpy/decorators.py\u001b[0m in \u001b[0;36m_auto_refresh\u001b[0;34m(f, *args, **kwargs)\u001b[0m\n\u001b[1;32m     23\u001b[0m     \u001b[0mmydata\u001b[0m\u001b[0;34m.\u001b[0m\u001b[0mnesting\u001b[0m \u001b[0;34m=\u001b[0m \u001b[0mgetattr\u001b[0m\u001b[0;34m(\u001b[0m\u001b[0mmydata\u001b[0m\u001b[0;34m,\u001b[0m \u001b[0;34m'nesting'\u001b[0m\u001b[0;34m,\u001b[0m \u001b[0;36m0\u001b[0m\u001b[0;34m)\u001b[0m \u001b[0;34m+\u001b[0m \u001b[0;36m1\u001b[0m\u001b[0;34m\u001b[0m\u001b[0m\n\u001b[1;32m     24\u001b[0m     \u001b[0;32mtry\u001b[0m\u001b[0;34m:\u001b[0m\u001b[0;34m\u001b[0m\u001b[0m\n\u001b[0;32m---> 25\u001b[0;31m         \u001b[0;32mreturn\u001b[0m \u001b[0mf\u001b[0m\u001b[0;34m(\u001b[0m\u001b[0;34m*\u001b[0m\u001b[0margs\u001b[0m\u001b[0;34m,\u001b[0m \u001b[0;34m**\u001b[0m\u001b[0mkwargs\u001b[0m\u001b[0;34m)\u001b[0m\u001b[0;34m\u001b[0m\u001b[0m\n\u001b[0m\u001b[1;32m     26\u001b[0m     \u001b[0;32mfinally\u001b[0m\u001b[0;34m:\u001b[0m\u001b[0;34m\u001b[0m\u001b[0m\n\u001b[1;32m     27\u001b[0m         \u001b[0mmydata\u001b[0m\u001b[0;34m.\u001b[0m\u001b[0mnesting\u001b[0m \u001b[0;34m-=\u001b[0m \u001b[0;36m1\u001b[0m\u001b[0;34m\u001b[0m\u001b[0m\n",
      "\u001b[0;32m/Users/brettlv/anaconda3/lib/python3.6/site-packages/aplpy/core.py\u001b[0m in \u001b[0;36m__init__\u001b[0;34m(self, data, hdu, figure, subplot, downsample, north, convention, dimensions, slices, auto_refresh, **kwargs)\u001b[0m\n\u001b[1;32m    215\u001b[0m         \u001b[0;32melse\u001b[0m\u001b[0;34m:\u001b[0m\u001b[0;34m\u001b[0m\u001b[0m\n\u001b[1;32m    216\u001b[0m             self._data, self._header, self._wcs = self._get_hdu(data, hdu, north, \\\n\u001b[0;32m--> 217\u001b[0;31m                 convention=convention, dimensions=dimensions, slices=slices)\n\u001b[0m\u001b[1;32m    218\u001b[0m             \u001b[0mself\u001b[0m\u001b[0;34m.\u001b[0m\u001b[0m_wcs\u001b[0m\u001b[0;34m.\u001b[0m\u001b[0mnx\u001b[0m \u001b[0;34m=\u001b[0m \u001b[0mself\u001b[0m\u001b[0;34m.\u001b[0m\u001b[0m_header\u001b[0m\u001b[0;34m[\u001b[0m\u001b[0;34m'NAXIS%i'\u001b[0m \u001b[0;34m%\u001b[0m \u001b[0;34m(\u001b[0m\u001b[0mdimensions\u001b[0m\u001b[0;34m[\u001b[0m\u001b[0;36m0\u001b[0m\u001b[0;34m]\u001b[0m \u001b[0;34m+\u001b[0m \u001b[0;36m1\u001b[0m\u001b[0;34m)\u001b[0m\u001b[0;34m]\u001b[0m\u001b[0;34m\u001b[0m\u001b[0m\n\u001b[1;32m    219\u001b[0m             \u001b[0mself\u001b[0m\u001b[0;34m.\u001b[0m\u001b[0m_wcs\u001b[0m\u001b[0;34m.\u001b[0m\u001b[0mny\u001b[0m \u001b[0;34m=\u001b[0m \u001b[0mself\u001b[0m\u001b[0;34m.\u001b[0m\u001b[0m_header\u001b[0m\u001b[0;34m[\u001b[0m\u001b[0;34m'NAXIS%i'\u001b[0m \u001b[0;34m%\u001b[0m \u001b[0;34m(\u001b[0m\u001b[0mdimensions\u001b[0m\u001b[0;34m[\u001b[0m\u001b[0;36m1\u001b[0m\u001b[0;34m]\u001b[0m \u001b[0;34m+\u001b[0m \u001b[0;36m1\u001b[0m\u001b[0;34m)\u001b[0m\u001b[0;34m]\u001b[0m\u001b[0;34m\u001b[0m\u001b[0m\n",
      "\u001b[0;32m/Users/brettlv/anaconda3/lib/python3.6/site-packages/aplpy/core.py\u001b[0m in \u001b[0;36m_get_hdu\u001b[0;34m(self, data, hdu, north, convention, dimensions, slices)\u001b[0m\n\u001b[1;32m    340\u001b[0m         \u001b[0;31m# Check that we have at least 2-dimensional data\u001b[0m\u001b[0;34m\u001b[0m\u001b[0;34m\u001b[0m\u001b[0m\n\u001b[1;32m    341\u001b[0m         \u001b[0;32mif\u001b[0m \u001b[0mhdu\u001b[0m\u001b[0;34m.\u001b[0m\u001b[0mheader\u001b[0m\u001b[0;34m[\u001b[0m\u001b[0;34m'NAXIS'\u001b[0m\u001b[0;34m]\u001b[0m \u001b[0;34m<\u001b[0m \u001b[0;36m2\u001b[0m\u001b[0;34m:\u001b[0m\u001b[0;34m\u001b[0m\u001b[0m\n\u001b[0;32m--> 342\u001b[0;31m             \u001b[0;32mraise\u001b[0m \u001b[0mValueError\u001b[0m\u001b[0;34m(\u001b[0m\u001b[0;34m\"Data should have at least two dimensions\"\u001b[0m\u001b[0;34m)\u001b[0m\u001b[0;34m\u001b[0m\u001b[0m\n\u001b[0m\u001b[1;32m    343\u001b[0m \u001b[0;34m\u001b[0m\u001b[0m\n\u001b[1;32m    344\u001b[0m         \u001b[0;31m# Check dimensions= argument\u001b[0m\u001b[0;34m\u001b[0m\u001b[0;34m\u001b[0m\u001b[0m\n",
      "\u001b[0;31mValueError\u001b[0m: Data should have at least two dimensions"
     ]
    }
   ],
   "source": [
    "import aplpy\n",
    "import os\n",
    "fig = aplpy.FITSFigure(f_xray)"
   ]
  },
  {
   "cell_type": "code",
   "execution_count": null,
   "metadata": {
    "collapsed": true
   },
   "outputs": [],
   "source": []
  },
  {
   "cell_type": "code",
   "execution_count": null,
   "metadata": {
    "collapsed": true
   },
   "outputs": [],
   "source": []
  },
  {
   "cell_type": "code",
   "execution_count": 36,
   "metadata": {
    "ExecuteTime": {
     "end_time": "2019-05-13T10:28:53.120338Z",
     "start_time": "2019-05-13T10:28:53.079033Z"
    },
    "collapsed": false
   },
   "outputs": [
    {
     "name": "stdout",
     "output_type": "stream",
     "text": [
      "Filename: /Volumes/Brettlv_G_m/Mrk1018/swift/00030955001_xrt/sw00030955001xpcw2po_cl.evt\n",
      "No.    Name      Ver    Type      Cards   Dimensions   Format\n",
      "  0  PRIMARY       1 PrimaryHDU     108   ()      \n",
      "  1  EVENTS        1 BinTableHDU    828   2205R x 11C   [1D, 1I, 1I, 1I, 1I, 1I, 1I, 1J, 1J, 1I, 16X]   \n",
      "  2  GTI           1 BinTableHDU     96   6R x 2C   [1D, 1D]   \n",
      "  3  BADPIX        1 BinTableHDU    117   260R x 6C   [1I, 1I, 1I, 1I, I, 16X]   \n",
      "  4  BIASDIFF      1 BinTableHDU    147   75R x 13C   [1D, 1I, 1I, 1I, 1I, 1I, 1I, 1J, 1J, 1J, 1J, 1J, 1J]   \n"
     ]
    }
   ],
   "source": [
    "f_xray.info()"
   ]
  },
  {
   "cell_type": "code",
   "execution_count": 37,
   "metadata": {
    "ExecuteTime": {
     "end_time": "2019-05-13T10:28:54.390322Z",
     "start_time": "2019-05-13T10:28:54.385174Z"
    },
    "collapsed": false
   },
   "outputs": [
    {
     "data": {
      "text/plain": [
       "SIMPLE  =                    T / file does conform to FITS standard             \n",
       "BITPIX  =                    8 / number of bits per data pixel                  \n",
       "NAXIS   =                    0 / number of data axes                            \n",
       "EXTEND  =                    T / FITS dataset may contain extensions            \n",
       "COMMENT   FITS (Flexible Image Transport System) format is defined in 'Astronomy\n",
       "COMMENT   and Astrophysics', volume 376, page 359; bibcode: 2001A&A...376..359H \n",
       "TELESCOP= 'SWIFT   '           / Telescope (mission) name                       \n",
       "INSTRUME= 'XRT     '           / Instrument name                                \n",
       "OBS_ID  = '00030955001'        / Observation ID                                 \n",
       "TARG_ID =                30955 / Target ID                                      \n",
       "SEG_NUM =                    1 / Segment number                                 \n",
       "TIMESYS = 'TT      '           / time measured from                             \n",
       "MJDREFI =                51910 / MJD reference day                              \n",
       "MJDREFF = 7.428703700000000E-04 / MJD reference (fraction of day)               \n",
       "CLOCKAPP=                    F / If clock correction are applied (F/T)          \n",
       "TIMEUNIT= 's       '           / unit for time keywords                         \n",
       "TSTART  = 2.040175202100235E+08 / time start                                    \n",
       "TSTOP   = 2.040461374929834E+08 / time stop                                     \n",
       "DATE-OBS= '2007-06-20T07:31:59' / Start date of observations                    \n",
       "DATE-END= '2007-06-20T15:28:56' / End date of observations                      \n",
       "ORIGIN  = 'NASA/GSFC'          / origin of fits file                            \n",
       "CREATOR = 'extractor v5.35'    / Extractor                                      \n",
       "TLM2FITS= 'V6.4'               / Telemetry converter version number             \n",
       "DATE    = '2019-05-08T14:46:59' / file creation date (YYYY-MM-DDThh:mm:ss UT)   \n",
       "CHECKSUM= 'hbWmhZTmhaTmhYTm'   / HDU checksum updated 2019-05-08T14:46:59       \n",
       "DATASUM = '         0'         / data unit checksum updated 2015-07-07T16:55:52 \n",
       "ATTFLAG = '110     '           / Attitude type flag                             \n",
       "PROCVER = '3.16.09 '           / Processing script version                      \n",
       "SOFTVER = 'Hea_22Oct2018_V6.25_swxrtdas_23Jan18_v3.4.1' / HEASoft and XRTDAS ver\n",
       "CALDBVER= 'x20160609'          / CALDB index version                            \n",
       "REPROC  =                    T / Is this from a bulk reprocessing run?          \n",
       "SEQPNUM =                   10 / Number of times the dataset processed          \n",
       "OBJECT  = 'XMM-LSS4'           / Name of observed object                        \n",
       "RA_OBJ  =            31.588880 / [deg] R.A. Object                              \n",
       "DEC_OBJ =            -0.356978 / [deg] Dec Object                               \n",
       "RA_PNT  =      31.583290103569 / [deg] RA pointing                              \n",
       "DEC_PNT =   -0.362161957104624 / [deg] Dec pointing                             \n",
       "PA_PNT  =     68.1153283608622 / [deg] Position angle (roll)                    \n",
       "UTCFINIT=    -2.03390000000000 / [s] UTCF at TSTART                             \n",
       "NEVENTS =                 6971 / Number of events                               \n",
       "DATAMODE= 'PHOTON  '           / Datamode                                       \n",
       "DETNAM  = 'NONE    '           / Detector                                       \n",
       "ONTIME  = 3.322172500133514E+03 / On-source time                                \n",
       "DEADC   =       9.96015310E-01 / Deadtime correction                            \n",
       "DEADAPP =                    F / Has DEADC been applied to data                 \n",
       "EXPOSURE= 3.308934673549001E+03 / Exposure time                                 \n",
       "LIVETIME= 3.308934673549001E+03 / Deadtime corrected on-source time             \n",
       "TELAPSE = 2.861728295996785E+04 / elapsed time                                  \n",
       "MJD-OBS = 5.427131463419009E+04 / MJD of data start time                        \n",
       "TIMEREF = 'LOCAL   '           / reference time                                 \n",
       "EQUINOX =            2.000E+03 / Equinox of celestial coord system              \n",
       "RADECSYS= 'FK5     '           / celestial coord system                         \n",
       "USER    = 'brett   '           / User name of creator                           \n",
       "FILIN001= 'sw00030955001xpcw2po_uf.evt' / Input file name                       \n",
       "TIMEZERO= 0.000000000000000E+00 / Time Zero                                     \n",
       "HISTORY                                                                         \n",
       "HISTORY START PARAMETER list for xrtscreen_0.5.0 at 2019-05-08T22:46:59         \n",
       "HISTORY                                                                         \n",
       "HISTORY P1 gtiexpr = \"(SUN_ANGLE>=45&&ANG_DIST<=0.15&&MOON_ANGLE>=14)&&(ELV>=28|\n",
       "HISTORY P1 |BR_EARTH>=120)&&((CCDTemp>=-102&&CCDTemp<=-47)&&(Vod1>=29.8&&Vod1<=3\n",
       "HISTORY P1 0.25)&&(Vod2>=29.30&&Vod2<=29.80)&&(Vrd1>=16.40&&Vrd1<=16.80)&&(Vrd2>\n",
       "HISTORY P1 =16.45&&Vrd2<=16.90)&&(Vsub>=-0.1&&Vsub<=0.1)&&(Vbackjun>=-0.1&&Vback\n",
       "HISTORY P1 jun<=0.1)&&(BaseLin1>=0.1&&BaseLin1<=0.4)&&(BaseLin2>=-0.1&&BaseLin2<\n",
       "HISTORY P1 =0.1))&&((STAST_LOSSFCN>=0&&STAST_LOSSFCN<=5.0E-9)||(STAST_LOSSFCN>=1\n",
       "HISTORY P1 &&STAST_LOSSFCN<=5.0E+3))&&(STLOCKFL==1)&&((SETTLED==1&&TEN_ARCMIN==1\n",
       "HISTORY P1 )||(SETTLED==1&&TEN_ARCMIN==0&&SAFEHOLD==0))\"                        \n",
       "HISTORY P2 exprgrade = \"0-12\"                                                   \n",
       "HISTORY P3 expr = \"STATUS==b0\"                                                  \n",
       "HISTORY P4 infile = /Volumes/Brettlv_G_m/Mrk1018/swift/00030955001_xrt/sw0003095\n",
       "HISTORY P4 5001xpcw2po_uf.evt                                                   \n",
       "HISTORY P5 outdir = /Volumes/Brettlv_G_m/Mrk1018/swift/00030955001_xrt          \n",
       "HISTORY P6 clobber = yes                                                        \n",
       "HISTORY P7 chatter = 3                                                          \n",
       "HISTORY P8 history = yes                                                        \n",
       "HISTORY P9 createattgti = yes                                                   \n",
       "HISTORY P10 createinstrgti = yes                                                \n",
       "HISTORY P11 gtiscreen = yes                                                     \n",
       "HISTORY P12 evtscreen = yes                                                     \n",
       "HISTORY P13 acsscreen = no                                                      \n",
       "HISTORY P14 obsmodescreen = yes                                                 \n",
       "HISTORY P15 mode = ql                                                           \n",
       "HISTORY P16 mkffile = /Volumes/Brettlv_G_m/Mrk1018/swift/00030955001_xrt/sw00030\n",
       "HISTORY P16 955001s.mkf                                                         \n",
       "HISTORY P17 gtifile = /Volumes/Brettlv_G_m/Mrk1018/swift/00030955001_xrt/sw00030\n",
       "HISTORY P17 955001xpcw2po_clgti.fits                                            \n",
       "HISTORY P18 usrgtifile = NONE                                                   \n",
       "HISTORY P19 hkrangefile = CALDB                                                 \n",
       "HISTORY P20 timecol = TIME                                                      \n",
       "HISTORY P21 outfile = /Volumes/Brettlv_G_m/Mrk1018/swift/00030955001_xrt/sw00030\n",
       "HISTORY P21 955001xpcw2po_cl.evt                                                \n",
       "HISTORY P22 gtiext = GTI                                                        \n",
       "HISTORY P23 evtrangefile = CALDB                                                \n",
       "HISTORY P24 cleanup = no                                                        \n",
       "HISTORY                                                                         \n",
       "HISTORY END PARAMETER list for xrtscreen_0.5.0                                  \n",
       "HISTORY CALDB HKRANGE file : /Users/brettlv/src_heasoft/heasoft-6.25/CALDB/data/\n",
       "HISTORY swift/xrt/bcf/instrument/swxhkranges0_20010101v011.fits                 \n",
       "HISTORY CALDB EVTRANGE file: /Users/brettlv/src_heasoft/heasoft-6.25/CALDB/data/\n",
       "HISTORY swift/xrt/bcf/instrument/swxevtrange20010101v002.fits                   \n",
       "                                                                                \n",
       "                                                                                \n",
       "                                                                                \n",
       "                                                                                \n",
       "                                                                                \n",
       "                                                                                \n",
       "                                                                                \n",
       "                                                                                \n",
       "                                                                                "
      ]
     },
     "execution_count": 37,
     "metadata": {},
     "output_type": "execute_result"
    }
   ],
   "source": [
    "f_xray[0].header"
   ]
  },
  {
   "cell_type": "code",
   "execution_count": 16,
   "metadata": {
    "ExecuteTime": {
     "end_time": "2019-05-13T10:18:05.689146Z",
     "start_time": "2019-05-13T10:18:05.304130Z"
    },
    "collapsed": false,
    "scrolled": true
   },
   "outputs": [],
   "source": []
  },
  {
   "cell_type": "markdown",
   "metadata": {},
   "source": [
    "import pyregion\n",
    "\n",
    "region_string = \"\"\"\n",
    "# Region file format: DS9 version 4.1\n",
    "# Filename: test01.fits\n",
    "global color=green dashlist=8 3 width=1 font=\"helvetica 10 normal\" select=1 highlite=1 dash=0 fixed=0 edit=1 move=1 delete=1 include=1 source=1\n",
    "fk5\n",
    "circle(11:24:24.230,-59:15:02.20,18.5108\") # color=cyan background\n",
    "box(11:24:39.213,-59:16:53.91,42.804\",23.616\",19.0384) # width=4\n",
    "\"\"\"\n",
    "\n",
    "r = pyregion.parse(region_string)"
   ]
  },
  {
   "cell_type": "code",
   "execution_count": null,
   "metadata": {
    "collapsed": true
   },
   "outputs": [],
   "source": []
  },
  {
   "cell_type": "code",
   "execution_count": 38,
   "metadata": {
    "ExecuteTime": {
     "end_time": "2019-05-13T10:28:59.400089Z",
     "start_time": "2019-05-13T10:28:59.246985Z"
    },
    "collapsed": false
   },
   "outputs": [
    {
     "name": "stdout",
     "output_type": "stream",
     "text": [
      "# Region file format: DS9 version 4.1\r\n",
      "global color=green dashlist=8 3 width=1 font=\"helvetica 10 normal roman\" select=1 highlite=1 dash=0 fixed=0 edit=1 move=1 delete=1 include=1 source=1\r\n",
      "fk5\r\n",
      "circle(2:06:15.982,-0:17:30.372,25.000\")\r\n"
     ]
    }
   ],
   "source": [
    "!cat \"/Volumes/Brettlv_G_m/Mrk1018/swift/src.reg\""
   ]
  },
  {
   "cell_type": "code",
   "execution_count": null,
   "metadata": {
    "collapsed": true
   },
   "outputs": [],
   "source": []
  },
  {
   "cell_type": "code",
   "execution_count": 30,
   "metadata": {
    "ExecuteTime": {
     "end_time": "2019-05-13T10:23:18.441276Z",
     "start_time": "2019-05-13T10:23:18.432370Z"
    },
    "collapsed": false
   },
   "outputs": [
    {
     "data": {
      "text/plain": [
       "('circle',\n",
       " 'fk5',\n",
       " [31.566591666666667, -0.29177, 0.006944444444444445],\n",
       " None,\n",
       " [],\n",
       " {'color': 'green',\n",
       "  'dash': '0 ',\n",
       "  'dashlist': '8 3 ',\n",
       "  'delete': '1 ',\n",
       "  'edit': '1 ',\n",
       "  'fixed': '0 ',\n",
       "  'font': '\"helvetica 10 normal roman\"',\n",
       "  'highlite': '1 ',\n",
       "  'include': '1 ',\n",
       "  'move': '1 ',\n",
       "  'select': '1 ',\n",
       "  'source': '1',\n",
       "  'width': '1 '})"
      ]
     },
     "execution_count": 30,
     "metadata": {},
     "output_type": "execute_result"
    }
   ],
   "source": [
    "r[0].name,r[0].coord_format,r[0].coord_list,r[0].comment,r[0].attr[0],r[0].attr[1]"
   ]
  },
  {
   "cell_type": "code",
   "execution_count": null,
   "metadata": {
    "collapsed": true
   },
   "outputs": [],
   "source": [
    "\n",
    "\n",
    "\n",
    "from pyregion.mpl_helper import properties_func_default\n",
    "\n",
    "\n",
    "# Use custom function for patch attribute\n",
    "def fixed_color(shape, saved_attrs):\n",
    "    attr_list, attr_dict = saved_attrs\n",
    "    attr_dict[\"color\"] = \"red\"\n",
    "    kwargs = properties_func_default(shape, (attr_list, attr_dict))\n",
    "\n",
    "    return kwargs\n",
    "\n",
    "\n",
    "# select region shape with tag==\"Group 1\"\n",
    "r1 = pyregion.ShapeList([rr for rr in r if rr.attr[1].get(\"tag\") == \"Group 1\"])\n",
    "patch_list1, artist_list1 = r1.get_mpl_patches_texts(fixed_color)\n",
    "\n",
    "r2 = pyregion.ShapeList([rr for rr in r if rr.attr[1].get(\"tag\") != \"Group 1\"])\n",
    "patch_list2, artist_list2 = r2.get_mpl_patches_texts()\n",
    "\n",
    "for p in patch_list1 + patch_list2:\n",
    "    ax.add_patch(p)\n",
    "    \n",
    "for t in artist_list1 + artist_list2:\n",
    "    ax.add_artist(t)\n",
    "\n",
    "plt.show()\n"
   ]
  },
  {
   "cell_type": "code",
   "execution_count": null,
   "metadata": {
    "collapsed": true
   },
   "outputs": [],
   "source": [
    "\n"
   ]
  }
 ],
 "metadata": {
  "kernelspec": {
   "display_name": "Python 3",
   "language": "python",
   "name": "python3"
  },
  "language_info": {
   "codemirror_mode": {
    "name": "ipython",
    "version": 3
   },
   "file_extension": ".py",
   "mimetype": "text/x-python",
   "name": "python",
   "nbconvert_exporter": "python",
   "pygments_lexer": "ipython3",
   "version": "3.6.0"
  },
  "latex_envs": {
   "LaTeX_envs_menu_present": true,
   "autocomplete": true,
   "bibliofile": "biblio.bib",
   "cite_by": "apalike",
   "current_citInitial": 1,
   "eqLabelWithNumbers": true,
   "eqNumInitial": 1,
   "hotkeys": {
    "equation": "Ctrl-E",
    "itemize": "Ctrl-I"
   },
   "labels_anchors": false,
   "latex_user_defs": false,
   "report_style_numbering": false,
   "user_envs_cfg": false
  },
  "toc": {
   "nav_menu": {},
   "number_sections": true,
   "sideBar": true,
   "skip_h1_title": false,
   "toc_cell": false,
   "toc_position": {},
   "toc_section_display": "block",
   "toc_window_display": false
  }
 },
 "nbformat": 4,
 "nbformat_minor": 2
}
