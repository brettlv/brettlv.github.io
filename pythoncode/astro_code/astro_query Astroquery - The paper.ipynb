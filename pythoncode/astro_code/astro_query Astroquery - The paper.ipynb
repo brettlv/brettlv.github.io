{
 "cells": [
  {
   "cell_type": "markdown",
   "metadata": {},
   "source": [
    "# [nrao](https://astroquery.readthedocs.io/en/latest/nrao/nrao.html)"
   ]
  },
  {
   "cell_type": "code",
   "execution_count": 2,
   "metadata": {
    "ExecuteTime": {
     "end_time": "2021-08-28T03:48:48.211272Z",
     "start_time": "2021-08-28T03:48:46.180803Z"
    }
   },
   "outputs": [],
   "source": [
    "from astroquery.nrao import Nrao\n",
    "import astropy.units as u\n",
    "import astropy.coordinates as coord"
   ]
  },
  {
   "cell_type": "markdown",
   "metadata": {},
   "source": [
    "result_table = Nrao.query_region(coord.SkyCoord(68.29625,\n",
    "5.35431,  unit=(u.deg, u.deg), frame='icrs'), radius=2*u.arcmin,\n",
    "telescope='historical_vla', start_date='1985-06-30 18:16:49',\n",
    "end_date='1985-06-30 18:20:19', freq_low=1600*u.MHz, freq_up=1700*u.MHz,\n",
    "telescope_config='all', sub_array=1)"
   ]
  },
  {
   "cell_type": "markdown",
   "metadata": {},
   "source": [
    "## MKN1018"
   ]
  },
  {
   "cell_type": "code",
   "execution_count": 3,
   "metadata": {
    "ExecuteTime": {
     "end_time": "2021-08-28T03:49:12.474232Z",
     "start_time": "2021-08-28T03:48:52.074352Z"
    }
   },
   "outputs": [
    {
     "name": "stderr",
     "output_type": "stream",
     "text": [
      "WARNING: InputWarning: Coordinate string is being interpreted as an ICRS coordinate. [astroquery.utils.commons]\n"
     ]
    }
   ],
   "source": [
    "result_table = Nrao.query_region(\"02h06m16.0s -00d17m29s\")"
   ]
  },
  {
   "cell_type": "code",
   "execution_count": 4,
   "metadata": {
    "ExecuteTime": {
     "end_time": "2021-08-28T03:49:12.502617Z",
     "start_time": "2021-08-28T03:49:12.477095Z"
    },
    "scrolled": true
   },
   "outputs": [
    {
     "name": "stdout",
     "output_type": "stream",
     "text": [
      "   Source      Project        Start Time     ...      DEC      ARCH_FILE_ID\n",
      "                                 days        ...    degrees                \n",
      "----------- ------------- ------------------ ... ------------- ------------\n",
      "    MKN1018 AU0020-public 84-Nov-28 05:15:29 ... -00d17'32.28\"    181894544\n",
      "    MKN1018 AU0020-public 84-Nov-28 05:15:29 ... -00d17'32.28\"    181894544\n",
      "    MKN1018 AU0020-public 84-Nov-28 05:28:49 ... -00d17'32.28\"    181894544\n",
      "    MKN1018 AU0020-public 84-Nov-28 05:28:49 ... -00d17'32.28\"    181894544\n",
      "   0203-006 AB0476-public 88-Apr-10 17:25:20 ... -00d17'43.26\"    181862537\n",
      "   0203-006 AB0476-public 88-Apr-10 17:25:20 ... -00d17'43.26\"    181862537\n",
      "   0203-006 AB0540-public 89-Jun-15 13:17:29 ... -00d17'43.26\"    181851122\n",
      "   0203-006 AB0540-public 89-Jun-15 13:17:29 ... -00d17'43.26\"    181851122\n",
      "   0203-006 AB0540-public 89-Jul-25 15:45:29 ... -00d17'43.26\"    181849923\n",
      "   0203-006 AB0540-public 89-Jul-25 15:45:29 ... -00d17'43.26\"    181849923\n",
      "        ...           ...                ... ...           ...          ...\n",
      "HE0203-0031  16B-084-lock 17-Jan-15 00:39:26 ... -00d17'29.10\"    537760068\n",
      "HE0203-0031  16B-084-lock 17-Jan-15 00:39:26 ... -00d17'29.10\"    537760068\n",
      "HE0203-0031  16B-084-lock 17-Jan-15 00:39:26 ... -00d17'29.10\"    537760068\n",
      "HE0203-0031  16B-084-lock 17-Jan-15 00:39:26 ... -00d17'29.10\"    537760068\n",
      "HE0203-0031  16B-084-lock 17-Jan-15 00:39:26 ... -00d17'29.10\"    537760068\n",
      "HE0203-0031  16B-084-lock 17-Jan-15 00:39:26 ... -00d17'29.10\"    537760068\n",
      "HE0203-0031  16B-084-lock 17-Jan-15 00:39:26 ... -00d17'29.10\"    537760068\n",
      "HE0203-0031  16B-084-lock 17-Jan-15 00:39:26 ... -00d17'29.10\"    537760068\n",
      "HE0203-0031  16B-084-lock 17-Jan-15 00:39:26 ... -00d17'29.10\"    537760068\n",
      "HE0203-0031  16B-084-lock 17-Jan-15 00:39:26 ... -00d17'29.10\"    537760068\n",
      "Length = 108 rows\n"
     ]
    }
   ],
   "source": [
    "print(result_table)"
   ]
  },
  {
   "cell_type": "code",
   "execution_count": 5,
   "metadata": {
    "ExecuteTime": {
     "end_time": "2021-08-28T03:50:42.069118Z",
     "start_time": "2021-08-28T03:50:42.065737Z"
    }
   },
   "outputs": [],
   "source": [
    "from astroquery.nrao import Nrao\n",
    "import astropy.units as u\n",
    "import astropy.coordinates as coord"
   ]
  },
  {
   "cell_type": "code",
   "execution_count": 7,
   "metadata": {
    "ExecuteTime": {
     "end_time": "2021-08-28T03:51:26.593424Z",
     "start_time": "2021-08-28T03:51:26.589223Z"
    }
   },
   "outputs": [],
   "source": [
    "coord_mrk1018=coord.SkyCoord(31.5666250,-0.2914444,  unit=(u.deg, u.deg), frame='icrs')"
   ]
  },
  {
   "cell_type": "code",
   "execution_count": 8,
   "metadata": {
    "ExecuteTime": {
     "end_time": "2021-08-28T03:51:38.736946Z",
     "start_time": "2021-08-28T03:51:38.722541Z"
    }
   },
   "outputs": [
    {
     "data": {
      "text/plain": [
       "(31.566625, -0.2914444)"
      ]
     },
     "execution_count": 8,
     "metadata": {},
     "output_type": "execute_result"
    }
   ],
   "source": [
    "coord_mrk1018.ra.deg,coord_mrk1018.dec.deg"
   ]
  },
  {
   "cell_type": "code",
   "execution_count": 9,
   "metadata": {
    "ExecuteTime": {
     "end_time": "2021-08-28T07:56:44.534928Z",
     "start_time": "2021-08-28T07:56:44.530725Z"
    }
   },
   "outputs": [],
   "source": [
    "coord_mrk1018_dms=coord.SkyCoord(\"02h06m16.0s -00d17m29s\", frame='icrs')"
   ]
  },
  {
   "cell_type": "code",
   "execution_count": 10,
   "metadata": {
    "ExecuteTime": {
     "end_time": "2021-08-28T07:57:03.454923Z",
     "start_time": "2021-08-28T07:57:03.448873Z"
    }
   },
   "outputs": [
    {
     "data": {
      "text/plain": [
       "(31.566666666666663, -0.29138888888888886)"
      ]
     },
     "execution_count": 10,
     "metadata": {},
     "output_type": "execute_result"
    }
   ],
   "source": [
    "coord_mrk1018_dms.ra.deg,coord_mrk1018_dms.dec.deg"
   ]
  },
  {
   "cell_type": "code",
   "execution_count": null,
   "metadata": {},
   "outputs": [],
   "source": [
    "'gbt' 'all' 'historical_vla' 'vlba' 'jansky_vla'"
   ]
  },
  {
   "cell_type": "code",
   "execution_count": 14,
   "metadata": {
    "ExecuteTime": {
     "end_time": "2021-08-28T08:01:17.963701Z",
     "start_time": "2021-08-28T08:00:59.079919Z"
    }
   },
   "outputs": [
    {
     "name": "stdout",
     "output_type": "stream",
     "text": [
      "    Source       Project        Start Time     ...      DEC      ARCH_FILE_ID\n",
      "                                   days        ...    degrees                \n",
      "-------------- ------------ ------------------ ... ------------- ------------\n",
      "0206411-002200 13B-370-lock 14-Jan-11 03:00:33 ... -00d22'00.00\"    442731338\n",
      "0206411-002200 13B-370-lock 14-Jan-11 03:00:33 ... -00d22'00.00\"    442731338\n",
      "0206411-002200 13B-370-lock 14-Jan-11 03:00:33 ... -00d22'00.00\"    442731338\n",
      "0206411-002200 13B-370-lock 14-Jan-11 03:00:33 ... -00d22'00.00\"    442731338\n",
      "0206411-002200 13B-370-lock 14-Jan-11 03:00:33 ... -00d22'00.00\"    442731338\n",
      "0206411-002200 13B-370-lock 14-Jan-11 03:00:33 ... -00d22'00.00\"    442731338\n",
      "0206411-002200 13B-370-lock 14-Jan-11 03:00:33 ... -00d22'00.00\"    442731338\n",
      "0206411-002200 13B-370-lock 14-Jan-11 03:00:33 ... -00d22'00.00\"    442731338\n",
      "0206411-002200 13B-370-lock 14-Jan-11 03:00:33 ... -00d22'00.00\"    442731338\n",
      "0206411-002200 13B-370-lock 14-Jan-11 03:00:33 ... -00d22'00.00\"    442731338\n",
      "           ...          ...                ... ...           ...          ...\n",
      "   HE0203-0031 16B-084-lock 17-Jan-15 00:39:26 ... -00d17'29.10\"    537760068\n",
      "   HE0203-0031 16B-084-lock 17-Jan-15 00:39:26 ... -00d17'29.10\"    537760068\n",
      "   HE0203-0031 16B-084-lock 17-Jan-15 00:39:26 ... -00d17'29.10\"    537760068\n",
      "   HE0203-0031 16B-084-lock 17-Jan-15 00:39:26 ... -00d17'29.10\"    537760068\n",
      "   HE0203-0031 16B-084-lock 17-Jan-15 00:39:26 ... -00d17'29.10\"    537760068\n",
      "   HE0203-0031 16B-084-lock 17-Jan-15 00:39:26 ... -00d17'29.10\"    537760068\n",
      "   HE0203-0031 16B-084-lock 17-Jan-15 00:39:26 ... -00d17'29.10\"    537760068\n",
      "   HE0203-0031 16B-084-lock 17-Jan-15 00:39:26 ... -00d17'29.10\"    537760068\n",
      "   HE0203-0031 16B-084-lock 17-Jan-15 00:39:26 ... -00d17'29.10\"    537760068\n",
      "   HE0203-0031 16B-084-lock 17-Jan-15 00:39:26 ... -00d17'29.10\"    537760068\n",
      "Length = 450 rows\n"
     ]
    }
   ],
   "source": [
    "result_table_1 = Nrao.query_region(coord.SkyCoord(31.5666250,\n",
    "-0.2914444,  unit=(u.deg, u.deg), frame='icrs'), radius=10*u.arcmin,\n",
    "telescope='jansky_vla', start_date='2000-01-01 00:00:00',\n",
    "end_date='2021-09-01 00:00:00', freq_low=1.3*u.GHz, freq_up=10*u.GHz,\n",
    "telescope_config='all', sub_array=1)\n",
    "print(result_table_1)"
   ]
  },
  {
   "cell_type": "markdown",
   "metadata": {},
   "source": [
    "# [nvas_vla](https://astroquery.readthedocs.io/en/latest/nvas/nvas.html)\n",
    "\n",
    "This module may be used to retrieve the NVAS VLA archive images."
   ]
  },
  {
   "cell_type": "markdown",
   "metadata": {},
   "source": [
    "## 3c 273"
   ]
  },
  {
   "cell_type": "code",
   "execution_count": null,
   "metadata": {},
   "outputs": [],
   "source": [
    "\"all\", \"L\", \"C\", \"X\", \"U\", \"K\", \"Q\""
   ]
  },
  {
   "cell_type": "code",
   "execution_count": 26,
   "metadata": {
    "ExecuteTime": {
     "end_time": "2021-08-28T08:10:55.025058Z",
     "start_time": "2021-08-28T08:10:55.021686Z"
    }
   },
   "outputs": [],
   "source": [
    "from astroquery.nvas import Nvas\n",
    "import astropy.units as u\n"
   ]
  },
  {
   "cell_type": "code",
   "execution_count": 27,
   "metadata": {
    "ExecuteTime": {
     "end_time": "2021-08-28T08:11:21.841492Z",
     "start_time": "2021-08-28T08:10:57.158923Z"
    }
   },
   "outputs": [
    {
     "name": "stdout",
     "output_type": "stream",
     "text": [
      "3 images found.\n"
     ]
    },
    {
     "name": "stderr",
     "output_type": "stream",
     "text": [
      "WARNING: VerifyWarning: Invalid 'BLANK' keyword in header.  The 'BLANK' keyword is only applicable to integer data, and will be ignored in this HDU. [astropy.io.fits.hdu.image]\n"
     ]
    }
   ],
   "source": [
    "images = Nvas.get_images(\"3c 273\", radius=2*u.arcsec, band=\"L\", max_rms=500)"
   ]
  },
  {
   "cell_type": "code",
   "execution_count": 28,
   "metadata": {
    "ExecuteTime": {
     "end_time": "2021-08-28T08:11:35.777981Z",
     "start_time": "2021-08-28T08:11:35.772642Z"
    }
   },
   "outputs": [
    {
     "name": "stdout",
     "output_type": "stream",
     "text": [
      "Filename: (No file associated with this HDUList)\n",
      "No.    Name      Ver    Type      Cards   Dimensions   Format\n",
      "  0  PRIMARY       1 PrimaryHDU      83   (310, 320, 1, 1)   float32   \n"
     ]
    }
   ],
   "source": [
    "images[0].info()"
   ]
  },
  {
   "cell_type": "code",
   "execution_count": 29,
   "metadata": {
    "ExecuteTime": {
     "end_time": "2021-08-28T08:11:37.838658Z",
     "start_time": "2021-08-28T08:11:37.833382Z"
    }
   },
   "outputs": [
    {
     "data": {
      "text/plain": [
       "[[<astropy.io.fits.hdu.image.PrimaryHDU object at 0x1267e5c70>],\n",
       " [<astropy.io.fits.hdu.image.PrimaryHDU object at 0x126bb3940>],\n",
       " [<astropy.io.fits.hdu.image.PrimaryHDU object at 0x126bb36a0>]]"
      ]
     },
     "execution_count": 29,
     "metadata": {},
     "output_type": "execute_result"
    }
   ],
   "source": [
    "images"
   ]
  },
  {
   "cell_type": "code",
   "execution_count": 30,
   "metadata": {
    "ExecuteTime": {
     "end_time": "2021-08-28T08:11:40.394554Z",
     "start_time": "2021-08-28T08:11:39.938456Z"
    }
   },
   "outputs": [
    {
     "name": "stdout",
     "output_type": "stream",
     "text": [
      "INFO: Setting slices=[0, 0] [aplpy.core]\n"
     ]
    },
    {
     "name": "stderr",
     "output_type": "stream",
     "text": [
      "WARNING: FITSFixedWarning: 'spcfix' made the change 'Changed SPECSYS to 'TOPOCENT''. [astropy.wcs.wcs]\n"
     ]
    },
    {
     "data": {
      "image/png": "[encoded data removed]",
      "text/plain": [
       "<Figure size 720x648 with 1 Axes>"
      ]
     },
     "metadata": {
      "needs_background": "light"
     },
     "output_type": "display_data"
    }
   ],
   "source": [
    "import aplpy\n",
    "fig = aplpy.FITSFigure(images[0])"
   ]
  },
  {
   "cell_type": "code",
   "execution_count": 31,
   "metadata": {
    "ExecuteTime": {
     "end_time": "2021-08-28T08:12:20.347221Z",
     "start_time": "2021-08-28T08:12:15.773881Z"
    }
   },
   "outputs": [],
   "source": [
    "image_urls = Nvas.get_image_list(\"3c 273\", radius=2*u.arcsec, max_rms=500)"
   ]
  },
  {
   "cell_type": "code",
   "execution_count": 32,
   "metadata": {
    "ExecuteTime": {
     "end_time": "2021-08-28T08:12:25.547362Z",
     "start_time": "2021-08-28T08:12:25.542570Z"
    }
   },
   "outputs": [
    {
     "data": {
      "text/plain": [
       "['http://www.vla.nrao.edu/astro/archive/pipeline/position/J114635.6-074005/1.51I4.84_AH0451_1991DEC21_1_141.U1000M.imfits',\n",
       " 'http://www.vla.nrao.edu/astro/archive/pipeline/position/J122906.7+020308/1.58I12.5_GJ0005_1993JUN08_1_473.U14.2M.imfits',\n",
       " 'http://www.vla.nrao.edu/astro/archive/pipeline/position/J122906.7+020308/4.89I0.42_AD0094_1983SEP17_1_497.U47.6S.imfits',\n",
       " 'http://www.vla.nrao.edu/astro/archive/pipeline/position/J122906.7+020308/8.24I0.85_AO0088_1989APR29_1_481.U2.66M.imfits',\n",
       " 'http://www.vla.nrao.edu/astro/archive/pipeline/position/J122906.7+020308/8.46I0.29_TU0099_1988NOV30_1_274.U53.7S.imfits',\n",
       " 'http://www.vla.nrao.edu/astro/archive/pipeline/position/J122906.7+020308/8.49I0.26_AH0721_2000DEC01_1_154.U55.8S.imfits',\n",
       " 'http://www.vla.nrao.edu/astro/archive/pipeline/position/J122906.7+020308/8.49I0.83_POLCA_2003NOV21_1_482.U2.58M.imfits',\n",
       " 'http://www.vla.nrao.edu/astro/archive/pipeline/position/J122906.7+020308/14.9I0.14_AF0339_1998MAR03_1_445.U45.1S.imfits',\n",
       " 'http://www.vla.nrao.edu/astro/archive/pipeline/position/J122906.7+020308/22.4I0.37_TEST_1995NOV15_1_352.U55.6S.imfits',\n",
       " 'http://www.vla.nrao.edu/astro/archive/pipeline/position/J122906.7+020308/43.3I1.79_ACTST_2001NOV13_1_213.U26.8S.imfits',\n",
       " 'http://www.vla.nrao.edu/astro/archive/pipeline/position/J122906.7+020308/43.3I0.24_DWTEST_1994APR17_1_273.U26.6S.imfits',\n",
       " 'http://www.vla.nrao.edu/astro/archive/pipeline/position/J133108.2+303032/1.45I5.42_AH782_2002AUG11_1_213.U3000M.imfits']"
      ]
     },
     "execution_count": 32,
     "metadata": {},
     "output_type": "execute_result"
    }
   ],
   "source": [
    "image_urls"
   ]
  },
  {
   "cell_type": "code",
   "execution_count": 18,
   "metadata": {
    "ExecuteTime": {
     "end_time": "2021-08-28T08:07:02.694052Z",
     "start_time": "2021-08-28T08:07:02.533076Z"
    }
   },
   "outputs": [
    {
     "name": "stdout",
     "output_type": "stream",
     "text": [
      "ls: 3c*: No such file or directory\r\n"
     ]
    }
   ],
   "source": [
    "ls 3c*"
   ]
  },
  {
   "cell_type": "code",
   "execution_count": null,
   "metadata": {
    "collapsed": true
   },
   "outputs": [],
   "source": []
  },
  {
   "cell_type": "code",
   "execution_count": null,
   "metadata": {
    "collapsed": true
   },
   "outputs": [],
   "source": []
  },
  {
   "cell_type": "code",
   "execution_count": null,
   "metadata": {
    "collapsed": true
   },
   "outputs": [],
   "source": []
  },
  {
   "cell_type": "markdown",
   "metadata": {
    "collapsed": true
   },
   "source": [
    "# [NED](https://astroquery.readthedocs.io/en/latest/ned/ned.html)"
   ]
  },
  {
   "cell_type": "code",
   "execution_count": 33,
   "metadata": {
    "ExecuteTime": {
     "end_time": "2021-08-28T08:12:58.526545Z",
     "start_time": "2021-08-28T08:12:43.235504Z"
    }
   },
   "outputs": [
    {
     "name": "stdout",
     "output_type": "stream",
     "text": [
      "No.        Object Name             RA     ... Diameter Points Associations\n",
      "                                degrees   ...                             \n",
      "--- -------------------------- ---------- ... --------------- ------------\n",
      "  1  WISEA J122855.03+020309.1  187.22917 ...               0            0\n",
      "  2 SSTSL2 J122855.02+020313.7  187.22925 ...               0            0\n",
      "  3 SSTSL2 J122855.23+020341.5  187.23013 ...               0            0\n",
      "  4 SSTSL2 J122855.36+020346.9  187.23068 ...               0            0\n",
      "  5 SSTSL2 J122855.64+020239.1  187.23187 ...               0            0\n",
      "  6 SSTSL2 J122855.66+020407.1  187.23194 ...               0            0\n",
      "  7 SSTSL2 J122855.73+020232.2  187.23208 ...               0            0\n",
      "  8 SSTSL2 J122855.75+020245.2  187.23233 ...               0            0\n",
      "  9 SSTSL2 J122855.86+020333.4   187.2325 ...               0            0\n",
      " 10 SSTSL2 J122855.84+020350.7  187.23269 ...               0            0\n",
      "...                        ...        ... ...             ...          ...\n",
      "857 SSTSL2 J122917.56+020216.7  187.32321 ...               0            0\n",
      "858 SSTSL2 J122917.69+020335.2  187.32373 ...               0            0\n",
      "859  WISEA J122917.76+020415.3  187.32375 ...               0            0\n",
      "860   SDSS J122917.72+020356.8  187.32385 ...               3            0\n",
      "861 SSTSL2 J122917.87+020349.7   187.3245 ...               0            0\n",
      "862 SSTSL2 J122918.04+020334.2  187.32519 ...               0            0\n",
      "863 SSTSL2 J122918.24+020330.7    187.326 ...               0            0\n",
      "864   SDSS J122918.38+020323.4   187.3266 ...               4            0\n",
      "865 SSTSL2 J122918.52+020338.9  187.32718 ...               0            0\n",
      "866 SSTSL2 J122918.64+020326.7  187.32767 ...               0            0\n",
      "Length = 866 rows\n"
     ]
    }
   ],
   "source": [
    "import numpy as np\n",
    "from astropy.table import Table,Column\n",
    "from astroquery.vizier import Vizier\n",
    "from astroquery.ned import Ned\n",
    "\n",
    "\n",
    "from astroquery.ned import Ned\n",
    "import astropy.units as u\n",
    "result_table = Ned.query_region(\"3c 273\", radius=0.05 * u.deg)\n",
    "print(result_table)"
   ]
  },
  {
   "cell_type": "code",
   "execution_count": null,
   "metadata": {
    "collapsed": true
   },
   "outputs": [],
   "source": [
    "spectra = Ned.get_spectra('3c 273')\n",
    "image_list = Ned.get_image_list(\"3c 273\", item='spectra')\n",
    "images = Ned.get_images(\"m1\")"
   ]
  },
  {
   "cell_type": "code",
   "execution_count": null,
   "metadata": {
    "collapsed": true
   },
   "outputs": [],
   "source": []
  },
  {
   "cell_type": "code",
   "execution_count": null,
   "metadata": {
    "collapsed": true
   },
   "outputs": [],
   "source": []
  },
  {
   "cell_type": "code",
   "execution_count": null,
   "metadata": {
    "collapsed": true
   },
   "outputs": [],
   "source": []
  },
  {
   "cell_type": "markdown",
   "metadata": {
    "collapsed": true
   },
   "source": [
    "# [vizier](https://astroquery.readthedocs.io/en/latest/vizier/vizier.html)"
   ]
  },
  {
   "cell_type": "code",
   "execution_count": 5,
   "metadata": {
    "ExecuteTime": {
     "end_time": "2019-04-04T10:21:21.070410Z",
     "start_time": "2019-04-04T10:21:15.644764Z"
    }
   },
   "outputs": [
    {
     "name": "stdout",
     "output_type": "stream",
     "text": [
      "{'J/ApJS/119/277': '-3.5<=DE<=8.5, -1.5<RA<13.5 redshift survey (Grogin+, 1998)', 'J/ApJS/213/26': 'Optical light curves of PHL1811 and 3C273 (Fan+, 2014)', 'J/ApJS/229/21': 'VRI monitoring of the QSO 3C 273 in 2005-2016 (Xiong+, 2017)', 'J/A+A/576/A122': '3C 273 high energy spectrum (Esposito+, 2015)', 'J/A+A/601/A35': 'High-fidelity VLA imaging of 3C273 (Perley+, 2017)', 'J/A+A/604/A111': '22GHz image of 3C 273 (Bruni+, 2017)', 'J/MNRAS/392/1181': 'BV(RI)c photometry of 3C 273 (Dai+, 2009)', 'J/MNRAS/459/140': 'M81, LMC and 3C 273/Coma 17-60keV obs. (Mereminskiy+, 2016)'}\n"
     ]
    }
   ],
   "source": [
    "from astroquery.vizier import Vizier\n",
    "catalog_list = Vizier.find_catalogs('3c 273')\n",
    "print({k:v.description for k,v in catalog_list.items()})"
   ]
  },
  {
   "cell_type": "code",
   "execution_count": 6,
   "metadata": {
    "ExecuteTime": {
     "end_time": "2019-04-04T10:21:58.398652Z",
     "start_time": "2019-04-04T10:21:48.700110Z"
    }
   },
   "outputs": [
    {
     "name": "stdout",
     "output_type": "stream",
     "text": [
      "TableList with 15 tables:\n",
      "\t'0:J/ApJS/119/277/table1' with 10 column(s) and 50 row(s) \n",
      "\t'1:J/ApJS/119/277/refs' with 4 column(s) and 50 row(s) \n",
      "\t'2:J/ApJS/119/277/table3' with 9 column(s) and 50 row(s) \n",
      "\t'3:J/ApJS/213/26/table1' with 3 column(s) and 50 row(s) \n",
      "\t'4:J/ApJS/213/26/table3' with 12 column(s) and 50 row(s) \n",
      "\t'5:J/ApJS/229/21/table2' with 4 column(s) and 50 row(s) \n",
      "\t'6:J/ApJS/229/21/table3' with 4 column(s) and 50 row(s) \n",
      "\t'7:J/ApJS/229/21/table4' with 4 column(s) and 50 row(s) \n",
      "\t'8:J/A+A/576/A122/latspect' with 3 column(s) and 47 row(s) \n",
      "\t'9:J/A+A/576/A122/pcaspect' with 3 column(s) and 41 row(s) \n",
      "\t'10:J/A+A/601/A35/table1' with 5 column(s) and 10 row(s) \n",
      "\t'11:J/A+A/601/A35/list' with 9 column(s) and 50 row(s) \n",
      "\t'12:J/A+A/604/A111/list' with 9 column(s) and 1 row(s) \n",
      "\t'13:J/MNRAS/392/1181/table3' with 6 column(s) and 50 row(s) \n",
      "\t'14:J/MNRAS/459/140/table1' with 16 column(s) and 50 row(s) \n"
     ]
    }
   ],
   "source": [
    "catalogs = Vizier.get_catalogs(catalog_list.keys())\n",
    "print(catalogs)"
   ]
  },
  {
   "cell_type": "markdown",
   "metadata": {
    "ExecuteTime": {
     "end_time": "2019-04-04T16:26:24.270439Z",
     "start_time": "2019-04-04T16:26:24.258659Z"
    }
   },
   "source": [
    "# [ADS_NASA](https://astroquery.readthedocs.io/en/latest/nasa_ads/nasa_ads.html)\n"
   ]
  },
  {
   "cell_type": "markdown",
   "metadata": {},
   "source": [
    "## nasa_ads"
   ]
  },
  {
   "cell_type": "code",
   "execution_count": 34,
   "metadata": {
    "ExecuteTime": {
     "end_time": "2021-08-28T08:13:13.320722Z",
     "start_time": "2021-08-28T08:13:13.310857Z"
    }
   },
   "outputs": [],
   "source": [
    "from astroquery import nasa_ads as na"
   ]
  },
  {
   "cell_type": "code",
   "execution_count": 35,
   "metadata": {
    "ExecuteTime": {
     "end_time": "2021-08-28T08:13:16.771814Z",
     "start_time": "2021-08-28T08:13:16.768861Z"
    }
   },
   "outputs": [],
   "source": [
    "# if you don't store your token as an environment variable\n",
    "# or in a file, give it here\n",
    "na.ADS.TOKEN = 'bX9G1oehABACYywsa6qKCu9bNb1E9FycyJfqMAou'"
   ]
  },
  {
   "cell_type": "code",
   "execution_count": 42,
   "metadata": {
    "ExecuteTime": {
     "end_time": "2021-08-28T08:15:52.764512Z",
     "start_time": "2021-08-28T08:15:52.760186Z"
    }
   },
   "outputs": [],
   "source": [
    "# if you don't store your token as an environment variable\n",
    "# or in a file, give it here\n",
    "# na.ADS.TOKEN = 'your-token-goes-here'\n",
    "\n",
    "# by default, the top 10 records are returned, sorted in\n",
    "# reverse chronological order. This can be changed\n",
    "\n",
    "# change the number of rows returned\n",
    "na.ADS.NROWS = 10\n",
    "# change the sort order\n",
    "na.ADS.SORT ='pubdate' #'bibcode desc'\n",
    "# change the fields that are returned (enter as strings in a list)\n",
    "na.ADS.ADS_FIELDS = ['author','title','abstract','pubdate']\n",
    "\n",
    "# the \"^\" makes ADS to return only papers where Persson\n",
    "# is first author"
   ]
  },
  {
   "cell_type": "code",
   "execution_count": 43,
   "metadata": {
    "ExecuteTime": {
     "end_time": "2021-08-28T08:15:54.898545Z",
     "start_time": "2021-08-28T08:15:54.278868Z"
    }
   },
   "outputs": [
    {
     "ename": "KeyError",
     "evalue": "'bibcode'",
     "output_type": "error",
     "traceback": [
      "\u001b[0;31m---------------------------------------------------------------------------\u001b[0m",
      "\u001b[0;31mKeyError\u001b[0m                                  Traceback (most recent call last)",
      "\u001b[0;32m<ipython-input-43-2d4de629da13>\u001b[0m in \u001b[0;36m<module>\u001b[0;34m\u001b[0m\n\u001b[0;32m----> 1\u001b[0;31m \u001b[0mresults\u001b[0m \u001b[0;34m=\u001b[0m \u001b[0mna\u001b[0m\u001b[0;34m.\u001b[0m\u001b[0mADS\u001b[0m\u001b[0;34m.\u001b[0m\u001b[0mquery_simple\u001b[0m\u001b[0;34m(\u001b[0m\u001b[0;34m'Mrk 1018'\u001b[0m\u001b[0;34m)\u001b[0m\u001b[0;34m\u001b[0m\u001b[0;34m\u001b[0m\u001b[0m\n\u001b[0m",
      "\u001b[0;32m~/anaconda3/lib/python3.8/site-packages/astroquery/utils/class_or_instance.py\u001b[0m in \u001b[0;36mf\u001b[0;34m(*args, **kwds)\u001b[0m\n\u001b[1;32m     23\u001b[0m         \u001b[0;32mdef\u001b[0m \u001b[0mf\u001b[0m\u001b[0;34m(\u001b[0m\u001b[0;34m*\u001b[0m\u001b[0margs\u001b[0m\u001b[0;34m,\u001b[0m \u001b[0;34m**\u001b[0m\u001b[0mkwds\u001b[0m\u001b[0;34m)\u001b[0m\u001b[0;34m:\u001b[0m\u001b[0;34m\u001b[0m\u001b[0;34m\u001b[0m\u001b[0m\n\u001b[1;32m     24\u001b[0m             \u001b[0;32mif\u001b[0m \u001b[0mobj\u001b[0m \u001b[0;32mis\u001b[0m \u001b[0;32mnot\u001b[0m \u001b[0;32mNone\u001b[0m\u001b[0;34m:\u001b[0m\u001b[0;34m\u001b[0m\u001b[0;34m\u001b[0m\u001b[0m\n\u001b[0;32m---> 25\u001b[0;31m                 \u001b[0;32mreturn\u001b[0m \u001b[0mself\u001b[0m\u001b[0;34m.\u001b[0m\u001b[0mfn\u001b[0m\u001b[0;34m(\u001b[0m\u001b[0mobj\u001b[0m\u001b[0;34m,\u001b[0m \u001b[0;34m*\u001b[0m\u001b[0margs\u001b[0m\u001b[0;34m,\u001b[0m \u001b[0;34m**\u001b[0m\u001b[0mkwds\u001b[0m\u001b[0;34m)\u001b[0m\u001b[0;34m\u001b[0m\u001b[0;34m\u001b[0m\u001b[0m\n\u001b[0m\u001b[1;32m     26\u001b[0m             \u001b[0;32melse\u001b[0m\u001b[0;34m:\u001b[0m\u001b[0;34m\u001b[0m\u001b[0;34m\u001b[0m\u001b[0m\n\u001b[1;32m     27\u001b[0m                 \u001b[0;32mreturn\u001b[0m \u001b[0mself\u001b[0m\u001b[0;34m.\u001b[0m\u001b[0mfn\u001b[0m\u001b[0;34m(\u001b[0m\u001b[0mcls\u001b[0m\u001b[0;34m,\u001b[0m \u001b[0;34m*\u001b[0m\u001b[0margs\u001b[0m\u001b[0;34m,\u001b[0m \u001b[0;34m**\u001b[0m\u001b[0mkwds\u001b[0m\u001b[0;34m)\u001b[0m\u001b[0;34m\u001b[0m\u001b[0;34m\u001b[0m\u001b[0m\n",
      "\u001b[0;32m~/anaconda3/lib/python3.8/site-packages/astroquery/nasa_ads/core.py\u001b[0m in \u001b[0;36mquery_simple\u001b[0;34m(self, query_string, get_query_payload, get_raw_response, cache)\u001b[0m\n\u001b[1;32m     68\u001b[0m             \u001b[0;32mreturn\u001b[0m \u001b[0mresponse\u001b[0m\u001b[0;34m\u001b[0m\u001b[0;34m\u001b[0m\u001b[0m\n\u001b[1;32m     69\u001b[0m         \u001b[0;31m# parse the XML response into AstroPy Table\u001b[0m\u001b[0;34m\u001b[0m\u001b[0;34m\u001b[0m\u001b[0;34m\u001b[0m\u001b[0m\n\u001b[0;32m---> 70\u001b[0;31m         \u001b[0mresulttable\u001b[0m \u001b[0;34m=\u001b[0m \u001b[0mself\u001b[0m\u001b[0;34m.\u001b[0m\u001b[0m_parse_response\u001b[0m\u001b[0;34m(\u001b[0m\u001b[0mresponse\u001b[0m\u001b[0;34m.\u001b[0m\u001b[0mjson\u001b[0m\u001b[0;34m(\u001b[0m\u001b[0;34m)\u001b[0m\u001b[0;34m)\u001b[0m\u001b[0;34m\u001b[0m\u001b[0;34m\u001b[0m\u001b[0m\n\u001b[0m\u001b[1;32m     71\u001b[0m \u001b[0;34m\u001b[0m\u001b[0m\n\u001b[1;32m     72\u001b[0m         \u001b[0;32mreturn\u001b[0m \u001b[0mresulttable\u001b[0m\u001b[0;34m\u001b[0m\u001b[0;34m\u001b[0m\u001b[0m\n",
      "\u001b[0;32m~/anaconda3/lib/python3.8/site-packages/astroquery/nasa_ads/core.py\u001b[0m in \u001b[0;36m_parse_response\u001b[0;34m(self, response)\u001b[0m\n\u001b[1;32m     75\u001b[0m \u001b[0;34m\u001b[0m\u001b[0m\n\u001b[1;32m     76\u001b[0m         \u001b[0;32mtry\u001b[0m\u001b[0;34m:\u001b[0m\u001b[0;34m\u001b[0m\u001b[0;34m\u001b[0m\u001b[0m\n\u001b[0;32m---> 77\u001b[0;31m             \u001b[0mresponse\u001b[0m\u001b[0;34m[\u001b[0m\u001b[0;34m'response'\u001b[0m\u001b[0;34m]\u001b[0m\u001b[0;34m[\u001b[0m\u001b[0;34m'docs'\u001b[0m\u001b[0;34m]\u001b[0m\u001b[0;34m[\u001b[0m\u001b[0;36m0\u001b[0m\u001b[0;34m]\u001b[0m\u001b[0;34m[\u001b[0m\u001b[0;34m'bibcode'\u001b[0m\u001b[0;34m]\u001b[0m\u001b[0;34m\u001b[0m\u001b[0;34m\u001b[0m\u001b[0m\n\u001b[0m\u001b[1;32m     78\u001b[0m         \u001b[0;32mexcept\u001b[0m \u001b[0mIndexError\u001b[0m\u001b[0;34m:\u001b[0m\u001b[0;34m\u001b[0m\u001b[0;34m\u001b[0m\u001b[0m\n\u001b[1;32m     79\u001b[0m             \u001b[0;32mraise\u001b[0m \u001b[0mRuntimeError\u001b[0m\u001b[0;34m(\u001b[0m\u001b[0;34m'No results returned!'\u001b[0m\u001b[0;34m)\u001b[0m\u001b[0;34m\u001b[0m\u001b[0;34m\u001b[0m\u001b[0m\n",
      "\u001b[0;31mKeyError\u001b[0m: 'bibcode'"
     ]
    }
   ],
   "source": [
    "results = na.ADS.query_simple('Mrk 1018') "
   ]
  },
  {
   "cell_type": "code",
   "execution_count": null,
   "metadata": {
    "collapsed": true
   },
   "outputs": [],
   "source": [
    "results[0].title\n",
    "\n",
    "# to sort after publication date\n",
    "results.sort(['pubdate'])\n",
    "\n",
    "#  get the title of the last hit\n",
    "title = results[-1]['title'][0]\n",
    "\n",
    "# printout the authors of the last hit\n",
    "print(results[-1]['author'])"
   ]
  },
  {
   "cell_type": "code",
   "execution_count": null,
   "metadata": {
    "collapsed": true
   },
   "outputs": [],
   "source": []
  },
  {
   "cell_type": "code",
   "execution_count": 47,
   "metadata": {
    "ExecuteTime": {
     "end_time": "2019-04-19T09:47:41.585986Z",
     "start_time": "2019-04-19T09:47:38.359049Z"
    }
   },
   "outputs": [
    {
     "name": "stdout",
     "output_type": "stream",
     "text": [
      "{\"responseHeader\":{\"status\":0,\"QTime\":370,\"params\":{\"q\":\"star\",\"x-amzn-trace-id\":\"Root=1-5cb928bd-764996c8ee0741fcdc284ad4\",\"fl\":\"bibcode\",\"start\":\"0\",\"rows\":\"10\",\"wt\":\"json\"}},\"response\":{\"numFound\":451856,\"start\":0,\"docs\":[{\"bibcode\":\"2008PhDT.......169R\"},{\"bibcode\":\"2013arXiv1305.3460H\"},{\"bibcode\":\"1965PhDT.........1B\"},{\"bibcode\":\"1970ast2.conf..103P\"},{\"bibcode\":\"1997IJMPB..11...27B\"},{\"bibcode\":\"2009IAUS..254..233P\"},{\"bibcode\":\"1943ASPL....4..207A\"},{\"bibcode\":\"1932SciAm.147..270R\"},{\"bibcode\":\"1937ASPL....3...54R\"},{\"bibcode\":\"1974ASIC....6..235K\"}]}}\r\n"
     ]
    }
   ],
   "source": [
    "!curl -H 'Authorization: Bearer:bX9G1oehABACYywsa6qKCu9bNb1E9FycyJfqMAou' 'https://api.adsabs.harvard.edu/v1/search/query?q=star&fl=bibcode'"
   ]
  },
  {
   "cell_type": "code",
   "execution_count": 50,
   "metadata": {
    "ExecuteTime": {
     "end_time": "2019-04-19T10:00:19.697928Z",
     "start_time": "2019-04-19T10:00:16.795400Z"
    }
   },
   "outputs": [
    {
     "name": "stdout",
     "output_type": "stream",
     "text": [
      "{\"responseHeader\":{\"status\":0,\"QTime\":107,\"params\":{\"q\":\"star\",\"x-amzn-trace-id\":\"Root=1-5cb92bb3-0148aa5edf1b87f2a307493a\",\"fl\":\"id\",\"start\":\"0\",\"rows\":\"10\",\"wt\":\"json\"}},\"response\":{\"numFound\":451856,\"start\":0,\"docs\":[{\"id\":\"2562931\"},{\"id\":\"61377\"},{\"id\":\"1172688\"},{\"id\":\"1219323\"},{\"id\":\"6254140\"},{\"id\":\"12076572\"},{\"id\":\"1097065\"},{\"id\":\"10522500\"},{\"id\":\"1081672\"},{\"id\":\"1295961\"}]}}\r\n"
     ]
    }
   ],
   "source": [
    "!curl -H 'Authorization: Bearer:bX9G1oehABACYywsa6qKCu9bNb1E9FycyJfqMAou' 'https://api.adsabs.harvard.edu/v1/search/query?q=star'"
   ]
  },
  {
   "cell_type": "markdown",
   "metadata": {},
   "source": [
    "## ads"
   ]
  },
  {
   "cell_type": "code",
   "execution_count": 45,
   "metadata": {
    "ExecuteTime": {
     "end_time": "2021-08-28T08:19:43.263125Z",
     "start_time": "2021-08-28T08:19:43.140232Z"
    }
   },
   "outputs": [],
   "source": [
    "import ads"
   ]
  },
  {
   "cell_type": "code",
   "execution_count": 46,
   "metadata": {
    "ExecuteTime": {
     "end_time": "2021-08-28T08:19:43.916171Z",
     "start_time": "2021-08-28T08:19:43.913344Z"
    }
   },
   "outputs": [],
   "source": [
    "ads.config.token = 'bX9G1oehABACYywsa6qKCu9bNb1E9FycyJfqMAou'"
   ]
  },
  {
   "cell_type": "markdown",
   "metadata": {
    "ExecuteTime": {
     "end_time": "2021-08-28T08:21:08.028220Z",
     "start_time": "2021-08-28T08:20:39.209429Z"
    },
    "collapsed": true
   },
   "source": [
    "papers = ads.SearchQuery(q=\"Changing&&Look\", sort=\"citation_count\")\n",
    "for paper in papers:\n",
    "    print(paper.title,paper.pubdate)"
   ]
  },
  {
   "cell_type": "code",
   "execution_count": null,
   "metadata": {},
   "outputs": [],
   "source": []
  },
  {
   "cell_type": "code",
   "execution_count": 53,
   "metadata": {
    "ExecuteTime": {
     "end_time": "2021-08-28T08:22:15.554978Z",
     "start_time": "2021-08-28T08:21:57.870881Z"
    }
   },
   "outputs": [
    {
     "name": "stdout",
     "output_type": "stream",
     "text": [
      "['Broad-band X-ray observations of the 2018 outburst of the changing-look active galactic nucleus NGC 1566'] 2021-10-00\n",
      "['Long-term and multiwavelength evolution of a changing-look AGN Mrk 1018'] 2021-09-00\n",
      "['A Magnetic Disk-outflow Model for Changing Look Active Galactic Nuclei'] 2021-08-00\n",
      "['The bluest changing-look QSO SDSS J224113-012108'] 2021-07-00\n",
      "['Supermassive black hole seed formation and the impact on black hole populations across cosmic time'] 2021-00-00\n",
      "['The BLR physics from the long-term optical monitoring of type-1 AGN'] 2021-00-00\n",
      "['Discovery of new changing look in NGC 1566'] 2021-00-00\n",
      "[\"Revisiting old (AGN) friends - what's changed in their spectral looks\"] 2021-00-00\n",
      "['Local Active Galactic Nuclei with Large Broad-Hα Variability Reside in Red Galaxies'] 2021-07-00\n",
      "['Multiwavelength monitoring and reverberation mapping of a changing look event in the Seyfert galaxy NGC 3516'] 2021-07-00\n"
     ]
    }
   ],
   "source": [
    "papers = ads.SearchQuery(q=\"Changing Look AGN\", sort=\"year\",rows=10)\n",
    "for paper in papers:\n",
    "    print(paper.title,paper.pubdate)"
   ]
  },
  {
   "cell_type": "code",
   "execution_count": null,
   "metadata": {},
   "outputs": [],
   "source": []
  },
  {
   "cell_type": "code",
   "execution_count": 59,
   "metadata": {
    "ExecuteTime": {
     "end_time": "2021-08-28T08:25:21.617305Z",
     "start_time": "2021-08-28T08:24:48.563657Z"
    }
   },
   "outputs": [
    {
     "name": "stdout",
     "output_type": "stream",
     "text": [
      "Broad-band X-ray observations of the 2018 outburst of the changing-look active galactic nucleus NGC 1566 2021-10-00 2021MNRAS.507..687J\n",
      "Long-term and multiwavelength evolution of a changing-look AGN Mrk 1018 2021-09-00 2021MNRAS.506.4188L\n",
      "A Magnetic Disk-outflow Model for Changing Look Active Galactic Nuclei 2021-08-00 2021ApJ...916...61F\n",
      "The bluest changing-look QSO SDSS J224113-012108 2021-07-00 2021arXiv210709214X\n",
      "Supermassive black hole seed formation and the impact on black hole populations across cosmic time 2021-00-00 2021IAUS..356..292D\n",
      "The BLR physics from the long-term optical monitoring of type-1 AGN 2021-00-00 2021IAUS..356..144I\n",
      "Discovery of new changing look in NGC 1566 2021-00-00 2021IAUS..356..127O\n",
      "Revisiting old (AGN) friends - what's changed in their spectral looks 2021-00-00 2021IAUS..356..122W\n",
      "Local Active Galactic Nuclei with Large Broad-Hα Variability Reside in Red Galaxies 2021-07-00 2021ApJ...915...63L\n",
      "Multiwavelength monitoring and reverberation mapping of a changing look event in the Seyfert galaxy NGC 3516 2021-07-00 2021MNRAS.505.1029O\n",
      "The 450 Day X-Ray Monitoring of the Changing-look AGN 1ES 1927+654 2021-07-00 2021ApJS..255....7R\n",
      "Probing Dust Close to Supermassive Black Holes 2021-06-00 2021nova.pres.8037K\n",
      "Searching for changing-state AGNs in massive datasets -- I: applying deep learning and anomaly detection techniques to find AGNs with anomalous variability behaviours 2021-06-00 2021arXiv210607660S\n",
      "The Changing-look Blazar B2 1420+32 2021-06-00 2021ApJ...913..146M\n",
      "X-ray binary accretion states in active galactic nuclei? Sensing the accretion disc of supermassive black holes with mid-infrared nebular lines 2021-07-00 2021MNRAS.504.5726F\n",
      "A systematic search for changing-look quasars in SDSS-II using difference spectra 2021-06-00 2021A&A...650A..33P\n",
      "VizieR Online Data Catalog: The Million Quasars (Milliquas) catalogue, version 7.2 (Flesch, 2021) 2021-05-00 2021yCat.7290....0F\n",
      "Velocity-resolved Reverberation Mapping of Changing-look AGN NGC 2617 2021-05-00 2021ApJ...912...92F\n",
      "Probing the Disk-Corona Systems and Broad-line Regions of Changing-look Quasars with X-Ray and Optical Observations 2021-05-00 2021ApJ...912...20J\n",
      "Jets from young stars 2021-12-00 2021NewAR..9301615R\n"
     ]
    }
   ],
   "source": [
    "papers = ads.SearchQuery(q=\"Changing Look AGN\", sort=\"year\",rows=20)\n",
    "for paper in papers:\n",
    "    print(paper.title[0],paper.pubdate,paper.bibcode)"
   ]
  },
  {
   "cell_type": "code",
   "execution_count": 57,
   "metadata": {
    "ExecuteTime": {
     "end_time": "2021-08-28T08:23:22.966247Z",
     "start_time": "2021-08-28T08:23:22.895007Z"
    }
   },
   "outputs": [],
   "source": [
    "ads.SearchQuery?"
   ]
  },
  {
   "cell_type": "code",
   "execution_count": null,
   "metadata": {
    "collapsed": true
   },
   "outputs": [],
   "source": []
  },
  {
   "cell_type": "markdown",
   "metadata": {},
   "source": [
    "## author"
   ]
  },
  {
   "cell_type": "code",
   "execution_count": 60,
   "metadata": {
    "ExecuteTime": {
     "end_time": "2021-08-28T08:28:33.440934Z",
     "start_time": "2021-08-28T08:28:28.337515Z"
    }
   },
   "outputs": [],
   "source": [
    "people = list(ads.SearchQuery(first_author=\"Wu,Qingwen\"))\n",
    "peoples = list(ads.SearchQuery(author=\"Wu,Qingwen\"))"
   ]
  },
  {
   "cell_type": "code",
   "execution_count": 61,
   "metadata": {
    "ExecuteTime": {
     "end_time": "2021-08-28T08:28:37.499357Z",
     "start_time": "2021-08-28T08:28:37.493534Z"
    }
   },
   "outputs": [
    {
     "data": {
      "text/plain": [
       "(50, 50)"
      ]
     },
     "execution_count": 61,
     "metadata": {},
     "output_type": "execute_result"
    }
   ],
   "source": [
    "len(people),len(peoples)"
   ]
  },
  {
   "cell_type": "code",
   "execution_count": 129,
   "metadata": {
    "ExecuteTime": {
     "end_time": "2019-04-19T10:25:18.531474Z",
     "start_time": "2019-04-19T10:25:17.243334Z"
    }
   },
   "outputs": [
    {
     "name": "stdout",
     "output_type": "stream",
     "text": [
      "<Wu, Qingwen et al. 2000, 2000SPIE.4231..430W>\n",
      "['Structure of a high-precision long-shaped meniscus mirror']\n",
      "['Wu, Qingwen', 'Lu, Zesheng', 'Tao, Jiasheng', 'Xin, Hongwei', 'Gou, Zhijian']\n",
      "The development of a lightweight space optics remote sensor with wide field and high resolution is one of the key projects of the researchers. As the traditional approaches couldn't meet the requirements of the project, some modern strategies and methods should be adopted. A high precision, long shaped meniscus mirror is studied in this paper, and its material selection, shape, lightweight strategies, machining method, multi-point support pattern and structure are described. Fused silica or Zerodur is selected as material of the mirror in connection with specific stiffness, dimension stability, machining and cost. An aspherical long shaped meniscus mirror is designed for the optical system. There are rarities of lightweight patterns, i.e. triangular, rectangular, circular and hexagon, and the open hexagon (honeycomb) lightweight pattern is selected with regard to the mechanical and thermal property of the mirror. The mirror should be supported at the edge. With the computer simulation, 6-point flexural support pattern is employed, and the conflict problem between multi- point constraint and freeing the degrees of freedom (DOF) is solved. While the mirror is under the loads (0 gravity at different directions, temperature level exchanging and specified temperature gradient, etc.), the deformation of its surface profile is also acceptable. Finally, the machining method of the mirror is introduced and the allowable assembly error of the mirror set is presented.\n",
      "<Wu, Qingwen et al. 2013, 2013MNRAS.436.1278W>\n",
      "['Warping of an accretion disc and launching of a jet by a spinning black hole in NGC 4258']\n",
      "['Wu, Qingwen', 'Yan, Hao', 'Yi, Zhu']\n",
      "We fit the most up-to-date broad-band spectral energy distribution from radio to X-rays for NGC 4258 with a coupled accretion-jet model that surrounds a Kerr black hole (BH). Here, both the jet and the warped H<SUB>2</SUB>O maser disc are assumed to be triggered by a spinning BH through the Blandford-Znajek mechanism and the Bardeen-Petterson effect, respectively. The accretion flow consists of an inner radiatively inefficient accretion flow and an outer truncated standard thin disc, where the transition radius R<SUB>tr</SUB> ≃ 3 × 10<SUP>3</SUP>R<SUB>g</SUB> for NGC 4258, based on the width and variability of its narrow Fe Kα line. The hybrid jet formation model, as a variant of the Blandford-Znajek model, is used to model the jet power. Therefore, we can estimate the accretion rate and BH spin through the two observed quantities (i.e. X-ray emission and jet power), where the observed jet power is estimated from the low-frequency radio emission. Using this method, we find that the BH of NGC 4258 should be mildly spinning with dimensionless spin parameter a<SUB>*</SUB> ≃ 0.7 ± 0.2. The outer thin disc mainly radiates at the near-infrared waveband and the jet contributes predominantly at the radio waveband. Using the above-estimated BH spin and the inferred accretion rate at the region of the maser disc based on the physical existence of the H<SUB>2</SUB>O maser, we find that the warp radius is ̃8.6 × 10<SUP>4</SUP>R<SUB>g</SUB> if it is driven by the Bardeen-Petterson effect. This is very consistent with the observational result.\n",
      "<Wu, Qingwen et al. 2018, 2018ApJ...855...46W>\n",
      "['The Possible Submillimeter Bump and Accretion-jet in the Central Supermassive Black Hole of NGC 4993']\n",
      "['Wu, Qingwen', 'Feng, Jianchao', 'Fan, Xuliang']\n",
      "NGC 4993, as a host galaxy of the electromagnetic counterpart of the first gravitational-wave detection of a binary neutron-star merger, was observed by many powerful telescopes from radio to γ-ray wavebands. The weak nuclear activities of NGC 4993 suggest that it is a low-luminosity active galactic nuclei (LLAGNs). We build the multiwaveband spectral energy distributions (SEDs) of NGC 4993 from the literature. We find that the radio spectrum at ̃100-300 GHz is much steeper than that of the low-frequency waveband (e.g., 6-100 GHz), where this break was also found in the supermassive black holes (SMBHs) in our galaxy center (Sgr A*), and in some other nearby AGNs. The radio emission above and below this break may have different physical origins, which provide an opportunity to probe the accretion and jet properties. We model the multiwaveband SEDs of NGC 4993 with an advection-dominated accretion flow (ADAF) jet model. We find that the high-frequency steep radio emission at the millimeter waveband is consistent with the prediction of the ADAF, while the low-frequency flat radio spectrum is better fitted by the jet. Furthermore, the X-ray emission can also be simultaneously explained by the ADAF model. From the model fits, we estimate important parameters of the central engine (e.g., the accretion rate near the horizon of the black hole and the mass-loss rate in the jet) for NGC 4993. This result strengthens the theory that the millimeter, submillimeter, and deep X-ray observations are crucial to understanding the weak or quiescent activities in SMBH systems. Further simultaneous millimeter and X-ray monitoring of this kind of LLAGN will help us to better understand the physical origin of multiwaveband emission.\n",
      "<Wu, Qingwen et al. 2016, 2016MNRAS.455L...1W>\n",
      "['The extension of variability properties in gamma-ray bursts to blazars']\n",
      "['Wu, Qingwen', 'Zhang, Bing', 'Lei, Wei-Hua', 'Zou, Yuan-Chuan', 'Liang, En-Wei', 'Cao, Xinwu']\n",
      "Both gamma-ray bursts (GRBs) and blazars have relativistic jets pointing at a small angle from our line of sight. Several recent studies suggested that these two kinds of sources may share similar jet physics. In this work, we explore the variability properties for GRBs and blazars as a whole. We find that the correlation between minimum variability time-scale (MTS) and Lorentz factor, Γ, as found only in GRBs by Sonbas et al. can be extended to blazars with a joint correlation of MTS∝Γ<SUP>-4.7±0.3</SUP>. The same applies to the MTS∝ L_{γ }^{-1.0± 0.1} correlation as found in GRBs, which can be well extended into blazars as well. These results provide further evidence that the jets in these two kinds of sources are similar despite of the very different mass scale of their central engines. Further investigations of the physical origin of these correlations are needed, which can shed light on the nature of the jet physics.\n",
      "<Wu, Qingwen et al. 2016, 2016ApJ...833...79W>\n",
      "['The Universal “Heartbeat” Oscillations in Black Hole Systems Across the Mass-scale']\n",
      "['Wu, Qingwen', 'Czerny, Bozena', 'Grzedzielski, Mikolaj', 'Janiuk, Agnieszka', 'Gu, Wei-Min', 'Dong, Ai-jun', 'Cao, Xiao-Feng', 'You, Bei', 'Yan, Zhen', 'Sun, Mou-Yuan']\n"
     ]
    },
    {
     "name": "stderr",
     "output_type": "stream",
     "text": [
      "/Users/brettlv/anaconda3/lib/python3.6/site-packages/ads/utils.py:31: UserWarning: You are lazy loading attributes via 'abstract', and so are making multiple calls to the API. This will impact your overall rate limits.\n",
      "  UserWarning,\n"
     ]
    },
    {
     "name": "stdout",
     "output_type": "stream",
     "text": [
      "The hyperluminous X-ray source (HLX-1, peak X-ray luminosity ̃ {10}<SUP>42</SUP> {erg} {{{s}}}<SUP>-1</SUP>) near the spiral galaxy ESO 243-49, which underwent recurrent outbursts within a period of ̃400 days, is possibly the best candidate for an intermediate mass black hole (IMBH). The physical reason for this quasiperiodic variability is still unclear. We explore the possibility of radiation-pressure instability in the accretion disk by modeling the light curve of HLX-1, and find that it can roughly reproduce the duration, period, and amplitude of the recurrent outbursts in HLX-1 with an IMBH of ̃ {10}<SUP>5</SUP> {M}<SUB>☉ </SUB>. Our result provides a possible mechanism to explain the recurrent outbursts in HLX-1. We further find a universal correlation between the outburst duration and the bolometric luminosity for the black hole (BH) sources with a very broad mass range (e.g., X-ray binaries, HLX-1, and active galactic nuclei), which is roughly consistent with the prediction of radiation-pressure instability of the accretion disk. These results imply that “heartbeat” oscillations triggered by radiation-pressure instability may appear in different-scale BH systems.\n"
     ]
    }
   ],
   "source": [
    "for p in people[6:11]:\n",
    "    print(p)\n",
    "    print(p.title)\n",
    "    print(p.author)\n",
    "    print(p.abstract)"
   ]
  },
  {
   "cell_type": "code",
   "execution_count": 62,
   "metadata": {
    "ExecuteTime": {
     "end_time": "2021-08-28T08:29:22.125323Z",
     "start_time": "2021-08-28T08:29:22.111775Z"
    }
   },
   "outputs": [
    {
     "name": "stdout",
     "output_type": "stream",
     "text": [
      "['Wu, Q.', 'Zhang, X. -C.']\n",
      "['Wu, Q.', 'Litz, M.', 'Zhang, X. -C.']\n",
      "['Wu, Q.', 'Zhang, X. -C.']\n",
      "['Wu, Q.', 'Zhang, X. -C.']\n",
      "['Wu, Q.', 'Hewitt, T. D.', 'Zhang, X. -C.']\n",
      "['Wu, Q.', 'Zhang, X. -C.']\n",
      "['Wu, Qingwen', 'Gu, Minfeng']\n",
      "['Wu, Q.', 'Ortland, D. A.', 'Killeen, T. L.', 'Roble, R. G.', 'Hagan, M. E.', 'Liu, H. -L.', 'Solomon, S. C.', 'Xu, Jiyao', 'Skinner, W. R.', 'Niciejewski, R. J.']\n",
      "['Wu, Qingwen', 'Yuan, Feng', 'Cao, Xinwu']\n",
      "['Wu, Q.', 'Zhang, T.', 'Liu, Y.']\n",
      "['Wu, Q.', 'Ortland, D. A.', 'Killeen, T. L.', 'Roble, R. G.', 'Hagan, M. E.', 'Liu, H. -L.', 'Solomon, S. C.', 'Xu, Jiyao', 'Skinner, W. R.', 'Niciejewski, R. J.']\n",
      "['Wu, Q. Z.', 'Wang, Z. F.', 'Gbaguidi, A.', 'Gao, C.', 'Li, L. N.', 'Wang, W.']\n",
      "['Wu, Q. Jackie', 'Thongphiew, Danthai', 'Wang, Zhiheng', 'Mathayomchan, Boonyanit', 'Chankong, Vira', 'Yoo, Sua', 'Lee, W. Robert', 'Yin, Fang-Fang']\n",
      "['Wu, Qingwen']\n",
      "['Wu, Q.', 'Borkovec, M.', 'Sticher, H.']\n",
      "['Wu, Q.', 'Ortland, D. A.', 'Solomon, S. C.', 'Skinner, W. R.', 'Niciejewski, R. J.']\n",
      "['Wu, Q.', 'Killeen, T. L.']\n",
      "['Wu, Qingwen', 'Cao, Xinwu', 'Ho, Luis C.', 'Wang, Ding-Xiong']\n",
      "['Wu, Qingwen', 'Zhang, Bing', 'Lei, Wei-Hua', 'Zou, Yuan-Chuan', 'Liang, En-Wei', 'Cao, Xinwu']\n",
      "['Wu, Q. R.', 'Wang, S. X.', 'Zhang, L.', 'Song, J. X.', 'Yang, H.', 'Meng, Y.']\n",
      "['Wu', 'Yang']\n",
      "['Wu, Q.', 'Sun, F. G.', 'Campbell, P.', 'Zhang, X. -C.']\n",
      "['Wu, Qingwen', 'Cao, Xinwu', 'Wang, Ding-Xiong']\n",
      "['Wu, Qingwen']\n",
      "['Wu, Q.', 'Pan, P.', 'Meng, F. -Y.', 'Li, L. -W.', 'Wu, J.']\n",
      "['Wu, Q.', 'Killeen, T. L.', 'Spencer, N. W.']\n",
      "['Wu, Qingwen', 'Cao, Xinwu']\n",
      "['Wu, Q.', 'Ortland, D. A.', 'Foster, B.', 'Roble, R. G.']\n",
      "['Wu, Qingwen', 'Zou, Yuan-Chuan', 'Cao, Xinwu', 'Wang, Ding-Xiong', 'Chen, Liang']\n",
      "['Wu', 'Liu, Ye', 'He', 'Goh, Suat Hong']\n",
      "['Wu, Q. Y.', 'Chen, Z. G.', 'Wu, R.', 'Xu, G. G.', 'Huang, Z. G.', 'Zhang, F. M.', 'Du, Y. W.']\n",
      "['Wu, Q. Y.', 'Huang, Z. G.', 'Wu, R.', 'Chen, L. J.']\n",
      "['Wu, Qingwen', 'Cao, Xinwu']\n",
      "['Wu, Q.', 'Killeen, T. L.', 'Nozawa, S.', 'McEwen, D.', 'Guo, W.', 'Solomon, S. C.']\n",
      "['Wu, Q.', 'Jin, X.', 'Chen, S.', 'Jiang, X.', 'Hu, Y.', 'Jiang, Q.', 'Wu, L.', 'Li, J.', 'Zheng, Z.', 'Zhang, M.', 'Zhang, H.']\n",
      "['Wu, Qingwen', 'Czerny, Bozena', 'Grzedzielski, Mikolaj', 'Janiuk, Agnieszka', 'Gu, Wei-Min', 'Dong, Ai-jun', 'Cao, Xiao-Feng', 'You, Bei', 'Yan, Zhen', 'Sun, Mou-Yuan']\n",
      "['Wu, Qingwen', 'Cao, Xinwu']\n",
      "['Wu, Q.', 'McEwen, D.', 'Guo, W.', 'Niciejewski, R. J.', 'Roble, R. G.', 'Won, Y. -I.']\n",
      "['Wu', 'Liu, Ye', 'Chen, Ling', 'He', 'Chung, Tai Shung', 'Goh, Suat Hong']\n",
      "['Wu', 'Liu, Ye', 'He', 'Chung', 'Goh']\n",
      "['Wu', 'Qiao', 'Qiu', 'Chong', 'Low, Teck-Seng']\n",
      "['Wu, Q. X.', 'Pairman, D.', 'McNeill, S. J.', 'Barnes, E. J.']\n",
      "['Wu, Qingwen', 'Yan, Hao', 'Yi, Zhu']\n",
      "['Wu, Q.', 'Zhou, J. Y.', 'Huang, X. G.', 'Li, Z. X.', 'Li, Q. X.']\n",
      "['Wu, Q. T.', 'Wei, Z. B.', 'Ouyang, Y.']\n",
      "['Wu, Qingwen', 'Kim, Jongsoo', 'Ryu, Dongsu']\n",
      "['Wu, Qingwen', 'Kim, Jongsoo', 'Ryu, Dongsu', 'Cho, Jungyeon', 'Alexander, Paul']\n",
      "['Wu, Q.', 'Solomon, S. C.', 'Kuo, Y. -H.', 'Killeen, T. L.', 'Xu, Jiyao']\n",
      "['Wu, Q. Jackie', 'Bourland, J. Daniel']\n",
      "['Wu, Q. Q.', 'Huang, L. B.', 'Liang, H.', 'Zhao, Y.', 'Huang, D.', 'Chen, Z. M.']\n"
     ]
    }
   ],
   "source": [
    "for p in people:\n",
    "    print(p.author)"
   ]
  },
  {
   "cell_type": "code",
   "execution_count": 64,
   "metadata": {
    "ExecuteTime": {
     "end_time": "2021-08-28T08:30:32.559480Z",
     "start_time": "2021-08-28T08:30:32.543794Z"
    }
   },
   "outputs": [
    {
     "name": "stdout",
     "output_type": "stream",
     "text": [
      "['An, F. P.', 'Bai, J. Z.', 'Balantekin, A. B.', 'Band, H. R.', 'Beavis, D.', 'Beriguete, W.', 'Bishai, M.', 'Blyth, S.', 'Boddy, K.', 'Brown, R. L.', 'Cai, B.', 'Cao, G. F.', 'Cao, J.', 'Carr, R.', 'Chan, W. T.', 'Chang, J. F.', 'Chang, Y.', 'Chasman, C.', 'Chen, H. S.', 'Chen, H. Y.', 'Chen, S. J.', 'Chen, S. M.', 'Chen, X. C.', 'Chen, X. H.', 'Chen, X. S.', 'Chen, Y.', 'Chen, Y. X.', 'Cherwinka, J. J.', 'Chu, M. C.', 'Cummings, J. P.', 'Deng, Z. Y.', 'Ding, Y. Y.', 'Diwan, M. V.', 'Dong, L.', 'Draeger, E.', 'Du, X. F.', 'Dwyer, D. A.', 'Edwards, W. R.', 'Ely, S. R.', 'Fang, S. D.', 'Fu, J. Y.', 'Fu, Z. W.', 'Ge, L. Q.', 'Ghazikhanian, V.', 'Gill, R. L.', 'Goett, J.', 'Gonchar, M.', 'Gong, G. H.', 'Gong, H.', 'Gornushkin, Y. A.', 'Greenler, L. S.', 'Gu, W. Q.', 'Guan, M. Y.', 'Guo, X. H.', 'Hackenburg, R. W.', 'Hahn, R. L.', 'Hans, S.', 'He, M.', 'He, Q.', 'He, W. S.', 'Heeger, K. M.', 'Heng, Y. K.', 'Hinrichs, P.', 'Ho, T. H.', 'Hor, Y. K.', 'Hsiung, Y. B.', 'Hu, B. Z.', 'Hu, T.', 'Hu, T.', 'Huang, H. X.', 'Huang, H. Z.', 'Huang, P. W.', 'Huang, X.', 'Huang, X. T.', 'Huber, P.', 'Isvan, Z.', 'Jaffe, D. E.', 'Jetter, S.', 'Ji, X. L.', 'Ji, X. P.', 'Jiang, H. J.', 'Jiang, W. Q.', 'Jiao, J. B.', 'Johnson, R. A.', 'Kang, L.', 'Kettell, S. H.', 'Kramer, M.', 'Kwan, K. K.', 'Kwok, M. W.', 'Kwok, T.', 'Lai, C. Y.', 'Lai, W. C.', 'Lai, W. H.', 'Lau, K.', 'Lebanowski, L.', 'Lee, J.', 'Lee, M. K. P.', 'Leitner, R.', 'Leung, J. K. C.', 'Leung, K. Y.', 'Lewis, C. A.', 'Li, B.', 'Li, F.', 'Li, G. S.', 'Li, J.', 'Li, Q. J.', 'Li, S. F.', 'Li, W. D.', 'Li, X. B.', 'Li, X. N.', 'Li, X. Q.', 'Li, Y.', 'Li, Z. B.', 'Liang, H.', 'Liang, J.', 'Lin, C. J.', 'Lin, G. L.', 'Lin, S. K.', 'Lin, S. X.', 'Lin, Y. C.', 'Ling, J. J.', 'Link, J. M.', 'Littenberg, L.', 'Littlejohn, B. R.', 'Liu, B. J.', 'Liu, C.', 'Liu, D. W.', 'Liu, H.', 'Liu, J. C.', 'Liu, J. L.', 'Liu, S.', 'Liu, X.', 'Liu, Y. B.', 'Lu, C.', 'Lu, H. Q.', 'Luk, A.', 'Luk, K. B.', 'Luo, T.', 'Luo, X. L.', 'Ma, L. H.', 'Ma, Q. M.', 'Ma, X. B.', 'Ma, X. Y.', 'Ma, Y. Q.', 'Mayes, B.', 'McDonald, K. T.', 'McFarlane, M. C.', 'McKeown, R. D.', 'Meng, Y.', 'Mohapatra, D.', 'Morgan, J. E.', 'Nakajima, Y.', 'Napolitano, J.', 'Naumov, D.', 'Nemchenok, I.', 'Newsom, C.', 'Ngai, H. Y.', 'Ngai, W. K.', 'Nie, Y. B.', 'Ning, Z.', 'Ochoa-Ricoux, J. P.', 'Oh, D.', 'Olshevski, A.', 'Pagac, A.', 'Patton, S.', 'Pearson, C.', 'Pec, V.', 'Peng, J. C.', 'Piilonen, L. E.', 'Pinsky, L.', 'Pun, C. S. J.', 'Qi, F. Z.', 'Qi, M.', 'Qian, X.', 'Raper, N.', 'Rosero, R.', 'Roskovec, B.', 'Ruan, X. C.', 'Seilhan, B.', 'Shao, B. B.', 'Shih, K.', 'Steiner, H.', 'Stoler, P.', 'Sun, G. X.', 'Sun, J. L.', 'Tam, Y. H.', 'Tanaka, H. K.', 'Tang, X.', 'Themann, H.', 'Torun, Y.', 'Trentalange, S.', 'Tsai, O.', 'Tsang, K. V.', 'Tsang, R. H. M.', 'Tull, C.', 'Viren, B.', 'Virostek, S.', 'Vorobel, V.', 'Wang, C. H.', 'Wang, L. S.', 'Wang, L. Y.', 'Wang, L. Z.', 'Wang, M.', 'Wang, N. Y.', 'Wang, R. G.', 'Wang, T.', 'Wang, W.', 'Wang, X.', 'Wang, X.', 'Wang, Y. F.', 'Wang, Z.', 'Wang, Z.', 'Wang, Z. M.', 'Webber, D. M.', 'Wei, Y. D.', 'Wen, L. J.', 'Wenman, D. L.', 'Whisnant, K.', 'White, C. G.', 'Whitehead, L.', 'Whitten, C. A., Jr.', 'Wilhelmi, J.', 'Wise, T.', 'Wong, H. C.', 'Wong, H. L. H.', 'Wong, J.', 'Worcester, E. T.', 'Wu, F. F.', 'Wu, Q.', 'Xia, D. M.', 'Xiang, S. T.', 'Xiao, Q.', 'Xing, Z. Z.', 'Xu, G.', 'Xu, J.', 'Xu, J.', 'Xu, J. L.', 'Xu, W.', 'Xu, Y.', 'Xue, T.', 'Yang, C. G.', 'Yang, L.', 'Ye, M.', 'Yeh, M.', 'Yeh, Y. S.', 'Yip, K.', 'Young, B. L.', 'Yu, Z. Y.', 'Zhan, L.', 'Zhang, C.', 'Zhang, F. H.', 'Zhang, J. W.', 'Zhang, Q. M.', 'Zhang, K.', 'Zhang, Q. X.', 'Zhang, S. H.', 'Zhang, Y. C.', 'Zhang, Y. H.', 'Zhang, Y. X.', 'Zhang, Z. J.', 'Zhang, Z. P.', 'Zhang, Z. Y.', 'Zhao, J.', 'Zhao, Q. W.', 'Zhao, Y. B.', 'Zheng, L.', 'Zhong, W. L.', 'Zhou, L.', 'Zhou, Z. Y.', 'Zhuang, H. L.', 'Zou, J. H.'] \n",
      "\n",
      "['Event Horizon Telescope Collaboration', 'Akiyama, Kazunori', 'Alberdi, Antxon', 'Alef, Walter', 'Asada, Keiichi', 'Azulay, Rebecca', 'Baczko, Anne-Kathrin', 'Ball, David', 'Baloković, Mislav', 'Barrett, John', 'Bintley, Dan', 'Blackburn, Lindy', 'Boland, Wilfred', 'Bouman, Katherine L.', 'Bower, Geoffrey C.', 'Bremer, Michael', 'Brinkerink, Christiaan D.', 'Brissenden, Roger', 'Britzen, Silke', 'Broderick, Avery E.', 'Broguiere, Dominique', 'Bronzwaer, Thomas', 'Byun, Do-Young', 'Carlstrom, John E.', 'Chael, Andrew', 'Chan, Chi-kwan', 'Chatterjee, Shami', 'Chatterjee, Koushik', 'Chen, Ming-Tang', 'Chen, Yongjun', 'Cho, Ilje', 'Christian, Pierre', 'Conway, John E.', 'Cordes, James M.', 'Crew, Geoffrey B.', 'Cui, Yuzhu', 'Davelaar, Jordy', 'De Laurentis, Mariafelicia', 'Deane, Roger', 'Dempsey, Jessica', 'Desvignes, Gregory', 'Dexter, Jason', 'Doeleman, Sheperd S.', 'Eatough, Ralph P.', 'Falcke, Heino', 'Fish, Vincent L.', 'Fomalont, Ed', 'Fraga-Encinas, Raquel', 'Freeman, William T.', 'Friberg, Per', 'Fromm, Christian M.', 'Gómez, José L.', 'Galison, Peter', 'Gammie, Charles F.', 'García, Roberto', 'Gentaz, Olivier', 'Georgiev, Boris', 'Goddi, Ciriaco', 'Gold, Roman', 'Gu, Minfeng', 'Gurwell, Mark', 'Hada, Kazuhiro', 'Hecht, Michael H.', 'Hesper, Ronald', 'Ho, Luis C.', 'Ho, Paul', 'Honma, Mareki', 'Huang, Chih-Wei L.', 'Huang, Lei', 'Hughes, David H.', 'Ikeda, Shiro', 'Inoue, Makoto', 'Issaoun, Sara', 'James, David J.', 'Jannuzi, Buell T.', 'Janssen, Michael', 'Jeter, Britton', 'Jiang, Wu', 'Johnson, Michael D.', 'Jorstad, Svetlana', 'Jung, Taehyun', 'Karami, Mansour', 'Karuppusamy, Ramesh', 'Kawashima, Tomohisa', 'Keating, Garrett K.', 'Kettenis, Mark', 'Kim, Jae-Young', 'Kim, Junhan', 'Kim, Jongsoo', 'Kino, Motoki', 'Koay, Jun Yi', 'Koch, Patrick M.', 'Koyama, Shoko', 'Kramer, Michael', 'Kramer, Carsten', 'Krichbaum, Thomas P.', 'Kuo, Cheng-Yu', 'Lauer, Tod R.', 'Lee, Sang-Sung', 'Li, Yan-Rong', 'Li, Zhiyuan', 'Lindqvist, Michael', 'Liu, Kuo', 'Liuzzo, Elisabetta', 'Lo, Wen-Ping', 'Lobanov, Andrei P.', 'Loinard, Laurent', 'Lonsdale, Colin', 'Lu, Ru-Sen', 'MacDonald, Nicholas R.', 'Mao, Jirong', 'Markoff, Sera', 'Marrone, Daniel P.', 'Marscher, Alan P.', 'Martí-Vidal, Iván', 'Matsushita, Satoki', 'Matthews, Lynn D.', 'Medeiros, Lia', 'Menten, Karl M.', 'Mizuno, Yosuke', 'Mizuno, Izumi', 'Moran, James M.', 'Moriyama, Kotaro', 'Moscibrodzka, Monika', 'Müller, Cornelia', 'Nagai, Hiroshi', 'Nagar, Neil M.', 'Nakamura, Masanori', 'Narayan, Ramesh', 'Narayanan, Gopal', 'Natarajan, Iniyan', 'Neri, Roberto', 'Ni, Chunchong', 'Noutsos, Aristeidis', 'Okino, Hiroki', 'Olivares, Héctor', 'Ortiz-León, Gisela N.', 'Oyama, Tomoaki', 'Özel, Feryal', 'Palumbo, Daniel C. M.', 'Patel, Nimesh', 'Pen, Ue-Li', 'Pesce, Dominic W.', 'Piétu, Vincent', 'Plambeck, Richard', 'PopStefanija, Aleksandar', 'Porth, Oliver', 'Prather, Ben', 'Preciado-López, Jorge A.', 'Psaltis, Dimitrios', 'Pu, Hung-Yi', 'Ramakrishnan, Venkatessh', 'Rao, Ramprasad', 'Rawlings, Mark G.', 'Raymond, Alexander W.', 'Rezzolla, Luciano', 'Ripperda, Bart', 'Roelofs, Freek', 'Rogers, Alan', 'Ros, Eduardo', 'Rose, Mel', 'Roshanineshat, Arash', 'Rottmann, Helge', 'Roy, Alan L.', 'Ruszczyk, Chet', 'Ryan, Benjamin R.', 'Rygl, Kazi L. J.', 'Sánchez, Salvador', 'Sánchez-Arguelles, David', 'Sasada, Mahito', 'Savolainen, Tuomas', 'Schloerb, F. Peter', 'Schuster, Karl-Friedrich', 'Shao, Lijing', 'Shen, Zhiqiang', 'Small, Des', 'Sohn, Bong Won', 'SooHoo, Jason', 'Tazaki, Fumie', 'Tiede, Paul', 'Tilanus, Remo P. J.', 'Titus, Michael', 'Toma, Kenji', 'Torne, Pablo', 'Trent, Tyler', 'Trippe, Sascha', 'Tsuda, Shuichiro', 'van Bemmel, Ilse', 'van Langevelde, Huib Jan', 'van Rossum, Daniel R.', 'Wagner, Jan', 'Wardle, John', 'Weintroub, Jonathan', 'Wex, Norbert', 'Wharton, Robert', 'Wielgus, Maciek', 'Wong, George N.', 'Wu, Qingwen', 'Young, Ken', 'Young, André', 'Younsi, Ziri', 'Yuan, Feng', 'Yuan, Ye-Fei', 'Zensus, J. Anton', 'Zhao, Guangyao', 'Zhao, Shan-Shan', 'Zhu, Ziyan', 'Algaba, Juan-Carlos', 'Allardi, Alexander', 'Amestica, Rodrigo', 'Anczarski, Jadyn', 'Bach, Uwe', 'Baganoff, Frederick K.', 'Beaudoin, Christopher', 'Benson, Bradford A.', 'Berthold, Ryan', 'Blanchard, Jay M.', 'Blundell, Ray', 'Bustamente, Sandra', 'Cappallo, Roger', 'Castillo-Domínguez, Edgar', 'Chang, Chih-Cheng', 'Chang, Shu-Hao', 'Chang, Song-Chu', 'Chen, Chung-Chen', 'Chilson, Ryan', 'Chuter, Tim C.', 'Córdova Rosado, Rodrigo', 'Coulson, Iain M.', 'Crawford, Thomas M.', 'Crowley, Joseph', 'David, John', 'Derome, Mark', 'Dexter, Matthew', 'Dornbusch, Sven', 'Dudevoir, Kevin A.', 'Dzib, Sergio A.', 'Eckart, Andreas', 'Eckert, Chris', 'Erickson, Neal R.', 'Everett, Wendeline B.', 'Faber, Aaron', 'Farah, Joseph R.', 'Fath, Vernon', 'Folkers, Thomas W.', 'Forbes, David C.', 'Freund, Robert', 'Gómez-Ruiz, Arturo I.', 'Gale, David M.', 'Gao, Feng', 'Geertsema, Gertie', 'Graham, David A.', 'Greer, Christopher H.', 'Grosslein, Ronald', 'Gueth, Frédéric', 'Haggard, Daryl', 'Halverson, Nils W.', 'Han, Chih-Chiang', 'Han, Kuo-Chang', 'Hao, Jinchi', 'Hasegawa, Yutaka', 'Henning, Jason W.', 'Hernández-Gómez, Antonio', 'Herrero-Illana, Rubén', 'Heyminck, Stefan', 'Hirota, Akihiko', 'Hoge, James', 'Huang, Yau-De', 'Impellizzeri, C. M. Violette', 'Jiang, Homin', 'Kamble, Atish', 'Keisler, Ryan', 'Kimura, Kimihiro', 'Kono, Yusuke', 'Kubo, Derek', 'Kuroda, John', 'Lacasse, Richard', 'Laing, Robert A.', 'Leitch, Erik M.', 'Li, Chao-Te', 'Lin, Lupin C. -C.', 'Liu, Ching-Tang', 'Liu, Kuan-Yu', 'Lu, Li-Ming', 'Marson, Ralph G.', 'Martin-Cocher, Pierre L.', 'Massingill, Kyle D.', 'Matulonis, Callie', 'McColl, Martin P.', 'McWhirter, Stephen R.', 'Messias, Hugo', 'Meyer-Zhao, Zheng', 'Michalik, Daniel', 'Montaña, Alfredo', 'Montgomerie, William', 'Mora-Klein, Matias', 'Muders, Dirk', 'Nadolski, Andrew', 'Navarro, Santiago', 'Neilsen, Joseph', 'Nguyen, Chi H.', 'Nishioka, Hiroaki', 'Norton, Timothy', 'Nowak, Michael A.', 'Nystrom, George', 'Ogawa, Hideo', 'Oshiro, Peter', 'Oyama, Tomoaki', 'Parsons, Harriet', 'Paine, Scott N.', 'Peñalver, Juan', 'Phillips, Neil M.', 'Poirier, Michael', 'Pradel, Nicolas', 'Primiani, Rurik A.', 'Raffin, Philippe A.', 'Rahlin, Alexandra S.', 'Reiland, George', 'Risacher, Christopher', 'Ruiz, Ignacio', 'Sáez-Madaín, Alejandro F.', 'Sassella, Remi', 'Schellart, Pim', 'Shaw, Paul', 'Silva, Kevin M.', 'Shiokawa, Hotaka', 'Smith, David R.', 'Snow, William', 'Souccar, Kamal', 'Sousa, Don', 'Sridharan, T. K.', 'Srinivasan, Ranjani', 'Stahm, William', 'Stark, Anthony A.', 'Story, Kyle', 'Timmer, Sjoerd T.', 'Vertatschitsch, Laura', 'Walther, Craig', 'Wei, Ta-Shun', 'Whitehorn, Nathan', 'Whitney, Alan R.', 'Woody, David P.', 'Wouterloot, Jan G. A.', 'Wright, Melvin', 'Yamaguchi, Paul', 'Yu, Chen-Yu', 'Zeballos, Milagros', 'Zhang, Shuo', 'Ziurys, Lucy'] \n",
      "\n",
      "['Boer, D.', 'Diehl, M.', 'Milner, R.', 'Venugopalan, R.', 'Vogelsang, W.', 'Accardi, A.', 'Aschenauer, E.', 'Burkardt, M.', 'Ent, R.', 'Guzey, V.', 'Hasch, D.', 'Kumar, K.', 'Lamont, M. A. C.', 'Li, Y.', 'Marciano, W. J.', 'Marquet, C.', 'Sabatie, F.', 'Stratmann, M.', 'Yuan, F.', 'Abeyratne, S.', 'Ahmed, S.', 'Aidala, C.', 'Alekhin, S.', 'Anselmino, M.', 'Avakian, H.', 'Bacchetta, A.', 'Bartels, J.', 'BC, H.', 'Beebe-Wang, J.', 'Belomestnykh, S.', 'Ben-Zvi, I.', 'Beuf, G.', 'Blumlein, J.', '. Blaskiewicz, M', 'Bogacz, A.', 'Brodsky, S. J.', 'Burton, T.', 'Calaga, R.', 'Chang, X.', 'Cherednikov, I. O.', 'Chevtsov, P.', 'Chirilli, G. A.', 'Ciofi degli Atti, C.', 'Cloet, I. C.', 'Cooper-Sarkar, A.', 'Debbe, R.', 'Derbenev, Ya.', 'Deshpande, A.', 'Dominguez, F.', 'Dumitru, A.', 'Dupre, R.', 'Erdelyi, B.', 'Faroughy, C.', 'Fazio, S.', 'Fedotov, A.', 'Forshaw, J. R.', 'Geraud, R.', 'Gallmeister, K.', 'Gamberg, L.', 'Gao, J. -H.', 'Gassner, D.', 'Gelis, F.', 'Gilfoyle, G. P.', 'Goldstein, G.', 'Golec-Biernat, K.', 'Goncalves, V. P.', 'Gonderinger, M.', 'Guzzi, M.', 'Hagler, P.', 'Hahn, H.', 'Hammons, L.', 'Hao, Y.', 'He, P.', 'Horn, T.', 'Horowitz, W. A.', 'Huang, M.', 'Hutton, A.', 'Jager, B.', 'Jackson, W.', 'Jain, A.', 'Johnson, E. C.', 'Kang, Z. -B.', 'Kaptari, L. P.', 'Kayran, D.', 'Kewisch, J.', 'Koike, Y.', 'Kondratenko, A.', 'Kopeliovich, B. Z.', 'Kovchegov, Y. V.', 'Krafft, G.', 'Kroll, P.', 'Kumano, S.', 'Kumericki, K.', 'Lappi, T.', 'Lautenschlager, T.', 'Li, R.', 'Liang, Z. -T.', 'Litvinenko, V. N.', 'Liuti, S.', 'Luo, Y.', 'Muller, D.', 'Mahler, G.', 'Majumder, A.', 'Manikonda, S.', 'Marhauser, F.', 'McIntyre, G.', 'Meskauskas, M.', 'Meng, W.', 'Metz, A.', 'Mezzetti, C. B.', 'Miller, G. A.', 'Minty, M.', 'Moch, S. -O.', 'Morozov, V.', 'Mosel, U.', 'Motyka, L.', 'Moutarde, H.', 'Mulders, P. J.', 'Musch, B.', 'Nadel-Turonski, P.', 'Nadolsky, P.', 'Olness, F.', 'Ostrumov, P. N.', 'Parker, B.', 'Pasquini, B.', 'Passek-Kumericki, K.', 'Pikin, A.', 'Pilat, F.', 'Pire, B.', 'Pirner, H.', 'Pisano, C.', 'Pozdeyev, E.', 'Prokudin, A.', 'Ptitsyn, V.', 'Qian, X.', 'Qiu, J. -W.', 'Radici, M.', 'Radyushkin, A.', 'Rao, T.', 'Rimmer, R.', 'Ringer, F.', 'Riordan, S.', 'Rogers, T.', 'Rojo, J.', 'Roser, T.', 'Sandapen, R.', 'Sassot, R.', 'Satogata, T.', 'Sayed, H.', 'Schafer, A.', 'Schnell, G.', 'Schweitzer, P.', 'Sheehy, B.', 'Skaritka, J.', 'Soyez, G.', 'Spata, M.', 'Spiesberger, H.', 'Stasto, A. M.', 'Stefanis, N. G.', 'Strikman, M.', 'Sullivan, M.', 'Szymanowski, L.', 'Tanaka, K.', 'Taneja, S.', 'Tepikian, S.', 'Terzic, B.', 'Than, Y.', 'Toll, T.', 'Trbojevic, D.', 'Tsentalovich, E.', 'Tsoupas, N.', 'Tuchin, K.', 'Tuozzolo, J.', 'Ullrich, T.', 'Vossen, A.', 'Wallon, S.', 'Wang, G.', 'Wang, H.', 'Wang, X. -N.', 'Webb, S.', 'Weiss, C.', 'Wu, Q.', 'Xiao, B. -W.', 'Xu, W.', 'Yunn, B.', 'Zelenski, A.', 'Zhang, Y.', 'Zhou, J.', 'Zurita, P.'] \n",
      "\n",
      "['Event Horizon Telescope Collaboration', 'Akiyama, Kazunori', 'Alberdi, Antxon', 'Alef, Walter', 'Asada, Keiichi', 'Azulay, Rebecca', 'Baczko, Anne-Kathrin', 'Ball, David', 'Baloković, Mislav', 'Barrett, John', 'Bintley, Dan', 'Blackburn, Lindy', 'Boland, Wilfred', 'Bouman, Katherine L.', 'Bower, Geoffrey C.', 'Bremer, Michael', 'Brinkerink, Christiaan D.', 'Brissenden, Roger', 'Britzen, Silke', 'Broderick, Avery E.', 'Broguiere, Dominique', 'Bronzwaer, Thomas', 'Byun, Do-Young', 'Carlstrom, John E.', 'Chael, Andrew', 'Chan, Chi-kwan', 'Chatterjee, Shami', 'Chatterjee, Koushik', 'Chen, Ming-Tang', 'Chen, Yongjun', 'Cho, Ilje', 'Christian, Pierre', 'Conway, John E.', 'Cordes, James M.', 'Crew, Geoffrey B.', 'Cui, Yuzhu', 'Davelaar, Jordy', 'De Laurentis, Mariafelicia', 'Deane, Roger', 'Dempsey, Jessica', 'Desvignes, Gregory', 'Dexter, Jason', 'Doeleman, Sheperd S.', 'Eatough, Ralph P.', 'Falcke, Heino', 'Fish, Vincent L.', 'Fomalont, Ed', 'Fraga-Encinas, Raquel', 'Friberg, Per', 'Fromm, Christian M.', 'Gómez, José L.', 'Galison, Peter', 'Gammie, Charles F.', 'García, Roberto', 'Gentaz, Olivier', 'Georgiev, Boris', 'Goddi, Ciriaco', 'Gold, Roman', 'Gu, Minfeng', 'Gurwell, Mark', 'Hada, Kazuhiro', 'Hecht, Michael H.', 'Hesper, Ronald', 'Ho, Luis C.', 'Ho, Paul', 'Honma, Mareki', 'Huang, Chih-Wei L.', 'Huang, Lei', 'Hughes, David H.', 'Ikeda, Shiro', 'Inoue, Makoto', 'Issaoun, Sara', 'James, David J.', 'Jannuzi, Buell T.', 'Janssen, Michael', 'Jeter, Britton', 'Jiang, Wu', 'Johnson, Michael D.', 'Jorstad, Svetlana', 'Jung, Taehyun', 'Karami, Mansour', 'Karuppusamy, Ramesh', 'Kawashima, Tomohisa', 'Keating, Garrett K.', 'Kettenis, Mark', 'Kim, Jae-Young', 'Kim, Junhan', 'Kim, Jongsoo', 'Kino, Motoki', 'Koay, Jun Yi', 'Koch, Patrick M.', 'Koyama, Shoko', 'Kramer, Michael', 'Kramer, Carsten', 'Krichbaum, Thomas P.', 'Kuo, Cheng-Yu', 'Lauer, Tod R.', 'Lee, Sang-Sung', 'Li, Yan-Rong', 'Li, Zhiyuan', 'Lindqvist, Michael', 'Liu, Kuo', 'Liuzzo, Elisabetta', 'Lo, Wen-Ping', 'Lobanov, Andrei P.', 'Loinard, Laurent', 'Lonsdale, Colin', 'Lu, Ru-Sen', 'MacDonald, Nicholas R.', 'Mao, Jirong', 'Markoff, Sera', 'Marrone, Daniel P.', 'Marscher, Alan P.', 'Martí-Vidal, Iván', 'Matsushita, Satoki', 'Matthews, Lynn D.', 'Medeiros, Lia', 'Menten, Karl M.', 'Mizuno, Yosuke', 'Mizuno, Izumi', 'Moran, James M.', 'Moriyama, Kotaro', 'Moscibrodzka, Monika', 'Mul̈ler, Cornelia', 'Nagai, Hiroshi', 'Nagar, Neil M.', 'Nakamura, Masanori', 'Narayan, Ramesh', 'Narayanan, Gopal', 'Natarajan, Iniyan', 'Neri, Roberto', 'Ni, Chunchong', 'Noutsos, Aristeidis', 'Okino, Hiroki', 'Olivares, Héctor', 'Oyama, Tomoaki', 'Özel, Feryal', 'Palumbo, Daniel C. M.', 'Patel, Nimesh', 'Pen, Ue-Li', 'Pesce, Dominic W.', 'Piétu, Vincent', 'Plambeck, Richard', 'PopStefanija, Aleksandar', 'Porth, Oliver', 'Prather, Ben', 'Preciado-López, Jorge A.', 'Psaltis, Dimitrios', 'Pu, Hung-Yi', 'Ramakrishnan, Venkatessh', 'Rao, Ramprasad', 'Rawlings, Mark G.', 'Raymond, Alexander W.', 'Rezzolla, Luciano', 'Ripperda, Bart', 'Roelofs, Freek', 'Rogers, Alan', 'Ros, Eduardo', 'Rose, Mel', 'Roshanineshat, Arash', 'Rottmann, Helge', 'Roy, Alan L.', 'Ruszczyk, Chet', 'Ryan, Benjamin R.', 'Rygl, Kazi L. J.', 'Sánchez, Salvador', 'Sánchez-Arguelles, David', 'Sasada, Mahito', 'Savolainen, Tuomas', 'Schloerb, F. Peter', 'Schuster, Karl-Friedrich', 'Shao, Lijing', 'Shen, Zhiqiang', 'Small, Des', 'Sohn, Bong Won', 'SooHoo, Jason', 'Tazaki, Fumie', 'Tiede, Paul', 'Tilanus, Remo P. J.', 'Titus, Michael', 'Toma, Kenji', 'Torne, Pablo', 'Trent, Tyler', 'Trippe, Sascha', 'Tsuda, Shuichiro', 'van Bemmel, Ilse', 'van Langevelde, Huib Jan', 'van Rossum, Daniel R.', 'Wagner, Jan', 'Wardle, John', 'Weintroub, Jonathan', 'Wex, Norbert', 'Wharton, Robert', 'Wielgus, Maciek', 'Wong, George N.', 'Wu, Qingwen', 'Young, André', 'Young, Ken', 'Younsi, Ziri', 'Yuan, Feng', 'Yuan, Ye-Fei', 'Zensus, J. Anton', 'Zhao, Guangyao', 'Zhao, Shan-Shan', 'Zhu, Ziyan', 'Anczarski, Jadyn', 'Baganoff, Frederick K.', 'Eckart, Andreas', 'Farah, Joseph R.', 'Haggard, Daryl', 'Meyer-Zhao, Zheng', 'Michalik, Daniel', 'Nadolski, Andrew', 'Neilsen, Joseph', 'Nishioka, Hiroaki', 'Nowak, Michael A.', 'Pradel, Nicolas', 'Primiani, Rurik A.', 'Souccar, Kamal', 'Vertatschitsch, Laura', 'Yamaguchi, Paul', 'Zhang, Shuo'] \n",
      "\n",
      "['Event Horizon Telescope Collaboration', 'Akiyama, Kazunori', 'Alberdi, Antxon', 'Alef, Walter', 'Asada, Keiichi', 'Azulay, Rebecca', 'Baczko, Anne-Kathrin', 'Ball, David', 'Baloković, Mislav', 'Barrett, John', 'Bintley, Dan', 'Blackburn, Lindy', 'Boland, Wilfred', 'Bouman, Katherine L.', 'Bower, Geoffrey C.', 'Bremer, Michael', 'Brinkerink, Christiaan D.', 'Brissenden, Roger', 'Britzen, Silke', 'Broderick, Avery E.', 'Broguiere, Dominique', 'Bronzwaer, Thomas', 'Byun, Do-Young', 'Carlstrom, John E.', 'Chael, Andrew', 'Chan, Chi-kwan', 'Chatterjee, Shami', 'Chatterjee, Koushik', 'Chen, Ming-Tang', 'Chen, Yongjun', 'Cho, Ilje', 'Christian, Pierre', 'Conway, John E.', 'Cordes, James M.', 'Crew, Geoffrey B.', 'Cui, Yuzhu', 'Davelaar, Jordy', 'De Laurentis, Mariafelicia', 'Deane, Roger', 'Dempsey, Jessica', 'Desvignes, Gregory', 'Dexter, Jason', 'Doeleman, Sheperd S.', 'Eatough, Ralph P.', 'Falcke, Heino', 'Fish, Vincent L.', 'Fomalont, Ed', 'Fraga-Encinas, Raquel', 'Friberg, Per', 'Fromm, Christian M.', 'Gómez, José L.', 'Galison, Peter', 'Gammie, Charles F.', 'García, Roberto', 'Gentaz, Olivier', 'Georgiev, Boris', 'Goddi, Ciriaco', 'Gold, Roman', 'Gu, Minfeng', 'Gurwell, Mark', 'Hada, Kazuhiro', 'Hecht, Michael H.', 'Hesper, Ronald', 'Ho, Luis C.', 'Ho, Paul', 'Honma, Mareki', 'Huang, Chih-Wei L.', 'Huang, Lei', 'Hughes, David H.', 'Ikeda, Shiro', 'Inoue, Makoto', 'Issaoun, Sara', 'James, David J.', 'Jannuzi, Buell T.', 'Janssen, Michael', 'Jeter, Britton', 'Jiang, Wu', 'Johnson, Michael D.', 'Jorstad, Svetlana', 'Jung, Taehyun', 'Karami, Mansour', 'Karuppusamy, Ramesh', 'Kawashima, Tomohisa', 'Keating, Garrett K.', 'Kettenis, Mark', 'Kim, Jae-Young', 'Kim, Junhan', 'Kim, Jongsoo', 'Kino, Motoki', 'Koay, Jun Yi', 'Koch, Patrick M.', 'Koyama, Shoko', 'Kramer, Michael', 'Kramer, Carsten', 'Krichbaum, Thomas P.', 'Kuo, Cheng-Yu', 'Lauer, Tod R.', 'Lee, Sang-Sung', 'Li, Yan-Rong', 'Li, Zhiyuan', 'Lindqvist, Michael', 'Liu, Kuo', 'Liuzzo, Elisabetta', 'Lo, Wen-Ping', 'Lobanov, Andrei P.', 'Loinard, Laurent', 'Lonsdale, Colin', 'Lu, Ru-Sen', 'MacDonald, Nicholas R.', 'Mao, Jirong', 'Markoff, Sera', 'Marrone, Daniel P.', 'Marscher, Alan P.', 'Martí-Vidal, Iván', 'Matsushita, Satoki', 'Matthews, Lynn D.', 'Medeiros, Lia', 'Menten, Karl M.', 'Mizuno, Yosuke', 'Mizuno, Izumi', 'Moran, James M.', 'Moriyama, Kotaro', 'Moscibrodzka, Monika', 'Müller, Cornelia', 'Nagai, Hiroshi', 'Nagar, Neil M.', 'Nakamura, Masanori', 'Narayan, Ramesh', 'Narayanan, Gopal', 'Natarajan, Iniyan', 'Neri, Roberto', 'Ni, Chunchong', 'Noutsos, Aristeidis', 'Okino, Hiroki', 'Olivares, Héctor', 'Oyama, Tomoaki', 'Özel, Feryal', 'Palumbo, Daniel C. M.', 'Patel, Nimesh', 'Pen, Ue-Li', 'Pesce, Dominic W.', 'Piétu, Vincent', 'Plambeck, Richard', 'PopStefanija, Aleksandar', 'Porth, Oliver', 'Prather, Ben', 'Preciado-López, Jorge A.', 'Psaltis, Dimitrios', 'Pu, Hung-Yi', 'Ramakrishnan, Venkatessh', 'Rao, Ramprasad', 'Rawlings, Mark G.', 'Raymond, Alexander W.', 'Rezzolla, Luciano', 'Ripperda, Bart', 'Roelofs, Freek', 'Rogers, Alan', 'Ros, Eduardo', 'Rose, Mel', 'Roshanineshat, Arash', 'Rottmann, Helge', 'Roy, Alan L.', 'Ruszczyk, Chet', 'Ryan, Benjamin R.', 'Rygl, Kazi L. J.', 'Sánchez, Salvador', 'Sánchez-Arguelles, David', 'Sasada, Mahito', 'Savolainen, Tuomas', 'Schloerb, F. Peter', 'Schuster, Karl-Friedrich', 'Shao, Lijing', 'Shen, Zhiqiang', 'Small, Des', 'Sohn, Bong Won', 'SooHoo, Jason', 'Tazaki, Fumie', 'Tiede, Paul', 'Tilanus, Remo P. J.', 'Titus, Michael', 'Toma, Kenji', 'Torne, Pablo', 'Trent, Tyler', 'Trippe, Sascha', 'Tsuda, Shuichiro', 'van Bemmel, Ilse', 'van Langevelde, Huib Jan', 'van Rossum, Daniel R.', 'Wagner, Jan', 'Wardle, John', 'Weintroub, Jonathan', 'Wex, Norbert', 'Wharton, Robert', 'Wielgus, Maciek', 'Wong, George N.', 'Wu, Qingwen', 'Young, André', 'Young, Ken', 'Younsi, Ziri', 'Yuan, Feng', 'Yuan, Ye-Fei', 'Zensus, J. Anton', 'Zhao, Guangyao', 'Zhao, Shan-Shan', 'Zhu, Ziyan', 'Farah, Joseph R.', 'Meyer-Zhao, Zheng', 'Michalik, Daniel', 'Nadolski, Andrew', 'Nishioka, Hiroaki', 'Pradel, Nicolas', 'Primiani, Rurik A.', 'Souccar, Kamal', 'Vertatschitsch, Laura', 'Yamaguchi, Paul'] \n",
      "\n",
      "['Michael, D. G.', 'Adamson, P.', 'Alexopoulos, T.', 'Allison, W. W. M.', 'Alner, G. J.', 'Anderson, K.', 'Andreopoulos, C.', 'Andrews, M.', 'Andrews, R.', 'Arms, K. E.', 'Armstrong, R.', 'Arroyo, C.', 'Auty, D. J.', 'Avvakumov, S.', 'Ayres, D. S.', 'Baller, B.', 'Barish, B.', 'Barker, M. A.', 'Barnes, P. D., Jr.', 'Barr, G.', 'Barrett, W. L.', 'Beall, E.', 'Becker, B. R.', 'Belias, A.', 'Bergfeld, T.', 'Bernstein, R. H.', 'Bhattacharya, D.', 'Bishai, M.', 'Blake, A.', 'Bocean, V.', 'Bock, B.', 'Bock, G. J.', 'Boehm, J.', 'Boehnlein, D. J.', 'Bogert, D.', 'Border, P. M.', 'Bower, C.', 'Boyd, S.', 'Buckley-Geer, E.', 'Bungau, C.', 'Byon-Wagner, A.', 'Cabrera, A.', 'Chapman, J. D.', 'Chase, T. R.', 'Cherdack, D.', 'Chernichenko, S. K.', 'Childress, S.', 'Choudhary, B. C.', 'Cobb, J. H.', 'Cossairt, J. D.', 'Courant, H.', 'Crane, D. A.', 'Culling, A. J.', 'Dawson, J. W.', 'de Jong, J. K.', 'Demuth, D. M.', 'de Santo, A.', 'Dierckxsens, M.', 'Diwan, M. V.', 'Dorman, M.', 'Drake, G.', 'Drakoulakos, D.', 'Ducar, R.', 'Durkin, T.', 'Erwin, A. R.', 'Escobar, C. O.', 'Evans, J. J.', 'Fackler, O. D.', 'Falk Harris, E.', 'Feldman, G. J.', 'Felt, N.', 'Fields, T. H.', 'Ford, R.', 'Frohne, M. V.', 'Gallagher, H. R.', 'Gebhard, M.', 'Giurgiu, G. A.', 'Godley, A.', 'Gogos, J.', 'Goodman, M. C.', 'Gornushkin, Yu.', 'Gouffon, P.', 'Gran, R.', 'Grashorn, E.', 'Grossman, N.', 'Grudzinski, J. J.', 'Grzelak, K.', 'Guarino, V.', 'Habig, A.', 'Halsall, R.', 'Hanson, J.', 'Harris, D.', 'Harris, P. G.', 'Hartnell, J.', 'Hartouni, E. P.', 'Hatcher, R.', 'Heller, K.', 'Hill, N.', 'Ho, Y.', 'Holin, A.', 'Howcroft, C.', 'Hylen, J.', 'Ignatenko, M.', 'Indurthy, D.', 'Irwin, G. M.', 'Ishitsuka, M.', 'Jaffe, D. E.', 'James, C.', 'Jenner, L.', 'Jensen, D.', 'Joffe-Minor, T.', 'Kafka, T.', 'Kang, H. J.', 'Kasahara, S. M. S.', 'Kilmer, J.', 'Kim, H.', 'Kim, M. S.', 'Koizumi, G.', 'Kopp, S.', 'Kordosky, M.', 'Koskinen, D. J.', 'Kostin, M.', 'Kotelnikov, S. K.', 'Krakauer, D. A.', 'Kreymer, A.', 'Kumaratunga, S.', 'Ladran, A. S.', 'Lang, K.', 'Laughton, C.', 'Lebedev, A.', 'Lee, R.', 'Lee, W. Y.', 'Libkind, M. A.', 'Ling, J.', 'Liu, J.', 'Litchfield, P. J.', 'Litchfield, R. P.', 'Longley, N. P.', 'Lucas, P.', 'Luebke, W.', 'Madani, S.', 'Maher, E.', 'Makeev, V.', 'Mann, W. A.', 'Marchionni, A.', 'Marino, A. D.', 'Marshak, M. L.', 'Marshall, J. S.', 'Mayer, N.', 'McDonald, J.', 'McGowan, A. M.', 'Meier, J. R.', 'Merzon, G. I.', 'Messier, M. D.', 'Milburn, R. H.', 'Miller, J. L.', 'Miller, W. H.', 'Mishra, S. R.', 'Mislivec, A.', 'Miyagawa, P. S.', 'Moore, C. D.', 'Morfín, J.', 'Morse, R.', 'Mualem, L.', 'Mufson, S.', 'Murgia, S.', 'Murtagh, M. J.', 'Musser, J.', 'Naples, D.', 'Nelson, C.', 'Nelson, J. K.', 'Newman, H. B.', 'Nezrick, F.', 'Nichol, R. J.', 'Nicholls, T. C.', 'Ochoa-Ricoux, J. P.', 'Oliver, J.', 'Oliver, W. P.', 'Onuchin, V. A.', 'Osiecki, T.', 'Ospanov, R.', 'Paley, J.', 'Paolone, V.', 'Para, A.', 'Patzak, T.', 'Pavlović, Ž.', 'Pearce, G. F.', 'Pearson, N.', 'Peck, C. W.', 'Perry, C.', 'Peterson, E. A.', 'Petyt, D. A.', 'Ping, H.', 'Piteira, R.', 'Pittam, R.', 'Pla-Dalmau, A.', 'Plunkett, R. K.', 'Price, L. E.', 'Proga, M.', 'Pushka, D. R.', 'Rahman, D.', 'Rameika, R. A.', 'Raufer, T. M.', 'Read, A. L.', 'Rebel, B.', 'Reichenbacher, J.', 'Reyna, D. E.', 'Rosenfeld, C.', 'Rubin, H. A.', 'Ruddick, K.', 'Ryabov, V. A.', 'Saakyan, R.', 'Sanchez, M. C.', 'Saoulidou, N.', 'Schneps, J.', 'Schoessow, P. V.', 'Schreiner, P.', 'Schwienhorst, R.', 'Semenov, V. K.', 'Seun, S. -M.', 'Shanahan, P.', 'Shield, P. D.', 'Smart, W.', 'Smirnitsky, V.', 'Smith, C.', 'Smith, P. N.', 'Sousa, A.', 'Speakman, B.', 'Stamoulis, P.', 'Stefanik, A.', 'Sullivan, P.', 'Swan, J. M.', 'Symes, P. A.', 'Tagg, N.', 'Talaga, R. L.', 'Terekhov, A.', 'Tetteh-Lartey, E.', 'Thomas, J.', 'Thompson, J.', 'Thomson, M. A.', 'Thron, J. L.', 'Tinti, G.', 'Trendler, R.', 'Trevor, J.', 'Trostin, I.', 'Tsarev, V. A.', 'Tzanakos, G.', 'Urheim, J.', 'Vahle, P.', 'Vakili, M.', 'Vaziri, K.', 'Velissaris, C.', 'Verebryusov, V.', 'Viren, B.', 'Wai, L.', 'Ward, C. P.', 'Ward, D. R.', 'Watabe, M.', 'Weber, A.', 'Webb, R. C.', 'Wehmann, A.', 'West, N.', 'White, C.', 'White, R. F.', 'Wojcicki, S. G.', 'Wright, D. M.', 'Wu, Q. K.', 'Yan, W. G.', 'Yang, T.', 'Yumiceva, F. X.', 'Yun, J. C.', 'Zheng, H.', 'Zois, M.', 'Zwaska, R.'] \n",
      "\n",
      "['Wu, Q.', 'Zhang, X. -C.'] \n",
      "\n",
      "['Event Horizon Telescope Collaboration', 'Akiyama, Kazunori', 'Alberdi, Antxon', 'Alef, Walter', 'Asada, Keiichi', 'Azulay, Rebecca', 'Baczko, Anne-Kathrin', 'Ball, David', 'Baloković, Mislav', 'Barrett, John', 'Bintley, Dan', 'Blackburn, Lindy', 'Boland, Wilfred', 'Bouman, Katherine L.', 'Bower, Geoffrey C.', 'Bremer, Michael', 'Brinkerink, Christiaan D.', 'Brissenden, Roger', 'Britzen, Silke', 'Broderick, Avery E.', 'Broguiere, Dominique', 'Bronzwaer, Thomas', 'Byun, Do-Young', 'Carlstrom, John E.', 'Chael, Andrew', 'Chan, Chi-kwan', 'Chatterjee, Shami', 'Chatterjee, Koushik', 'Chen, Ming-Tang', 'Chen, Yongjun', 'Cho, Ilje', 'Christian, Pierre', 'Conway, John E.', 'Cordes, James M.', 'Crew, Geoffrey B.', 'Cui, Yuzhu', 'Davelaar, Jordy', 'De Laurentis, Mariafelicia', 'Deane, Roger', 'Dempsey, Jessica', 'Desvignes, Gregory', 'Dexter, Jason', 'Doeleman, Sheperd S.', 'Eatough, Ralph P.', 'Falcke, Heino', 'Fish, Vincent L.', 'Fomalont, Ed', 'Fraga-Encinas, Raquel', 'Freeman, William T.', 'Friberg, Per', 'Fromm, Christian M.', 'Gómez, José L.', 'Galison, Peter', 'Gammie, Charles F.', 'García, Roberto', 'Gentaz, Olivier', 'Georgiev, Boris', 'Goddi, Ciriaco', 'Gold, Roman', 'Gu, Minfeng', 'Gurwell, Mark', 'Hada, Kazuhiro', 'Hecht, Michael H.', 'Hesper, Ronald', 'Ho, Luis C.', 'Ho, Paul', 'Honma, Mareki', 'Huang, Chih-Wei L.', 'Huang, Lei', 'Hughes, David H.', 'Ikeda, Shiro', 'Inoue, Makoto', 'Issaoun, Sara', 'James, David J.', 'Jannuzi, Buell T.', 'Janssen, Michael', 'Jeter, Britton', 'Jiang, Wu', 'Johnson, Michael D.', 'Jorstad, Svetlana', 'Jung, Taehyun', 'Karami, Mansour', 'Karuppusamy, Ramesh', 'Kawashima, Tomohisa', 'Keating, Garrett K.', 'Kettenis, Mark', 'Kim, Jae-Young', 'Kim, Junhan', 'Kim, Jongsoo', 'Kino, Motoki', 'Koay, Jun Yi', 'Koch, Patrick M.', 'Koyama, Shoko', 'Kramer, Michael', 'Kramer, Carsten', 'Krichbaum, Thomas P.', 'Kuo, Cheng-Yu', 'Lauer, Tod R.', 'Lee, Sang-Sung', 'Li, Yan-Rong', 'Li, Zhiyuan', 'Lindqvist, Michael', 'Liu, Kuo', 'Liuzzo, Elisabetta', 'Lo, Wen-Ping', 'Lobanov, Andrei P.', 'Loinard, Laurent', 'Lonsdale, Colin', 'Lu, Ru-Sen', 'MacDonald, Nicholas R.', 'Mao, Jirong', 'Markoff, Sera', 'Marrone, Daniel P.', 'Marscher, Alan P.', 'Martí-Vidal, Iván', 'Matsushita, Satoki', 'Matthews, Lynn D.', 'Medeiros, Lia', 'Menten, Karl M.', 'Mizuno, Yosuke', 'Mizuno, Izumi', 'Moran, James M.', 'Moriyama, Kotaro', 'Moscibrodzka, Monika', 'Müller, Cornelia', 'Nagai, Hiroshi', 'Nagar, Neil M.', 'Nakamura, Masanori', 'Narayan, Ramesh', 'Narayanan, Gopal', 'Natarajan, Iniyan', 'Neri, Roberto', 'Ni, Chunchong', 'Noutsos, Aristeidis', 'Okino, Hiroki', 'Olivares, Héctor', 'Oyama, Tomoaki', 'Özel, Feryal', 'Palumbo, Daniel C. M.', 'Patel, Nimesh', 'Pen, Ue-Li', 'Pesce, Dominic W.', 'Piétu, Vincent', 'Plambeck, Richard', 'PopStefanija, Aleksandar', 'Porth, Oliver', 'Prather, Ben', 'Preciado-López, Jorge A.', 'Psaltis, Dimitrios', 'Pu, Hung-Yi', 'Ramakrishnan, Venkatessh', 'Rao, Ramprasad', 'Rawlings, Mark G.', 'Raymond, Alexander W.', 'Rezzolla, Luciano', 'Ripperda, Bart', 'Roelofs, Freek', 'Rogers, Alan', 'Ros, Eduardo', 'Rose, Mel', 'Roshanineshat, Arash', 'Rottmann, Helge', 'Roy, Alan L.', 'Ruszczyk, Chet', 'Ryan, Benjamin R.', 'Rygl, Kazi L. J.', 'Sánchez, Salvador', 'Sánchez-Arguelles, David', 'Sasada, Mahito', 'Savolainen, Tuomas', 'Schloerb, F. Peter', 'Schuster, Karl-Friedrich', 'Shao, Lijing', 'Shen, Zhiqiang', 'Small, Des', 'Sohn, Bong Won', 'SooHoo, Jason', 'Tazaki, Fumie', 'Tiede, Paul', 'Tilanus, Remo P. J.', 'Titus, Michael', 'Toma, Kenji', 'Torne, Pablo', 'Trent, Tyler', 'Trippe, Sascha', 'Tsuda, Shuichiro', 'van Bemmel, Ilse', 'van Langevelde, Huib Jan', 'van Rossum, Daniel R.', 'Wagner, Jan', 'Wardle, John', 'Weintroub, Jonathan', 'Wex, Norbert', 'Wharton, Robert', 'Wielgus, Maciek', 'Wong, George N.', 'Wu, Qingwen', 'Young, André', 'Young, Ken', 'Younsi, Ziri', 'Yuan, Feng', 'Yuan, Ye-Fei', 'Zensus, J. Anton', 'Zhao, Guangyao', 'Zhao, Shan-Shan', 'Zhu, Ziyan', 'Farah, Joseph R.', 'Meyer-Zhao, Zheng', 'Michalik, Daniel', 'Nadolski, Andrew', 'Nishioka, Hiroaki', 'Pradel, Nicolas', 'Primiani, Rurik A.', 'Souccar, Kamal', 'Vertatschitsch, Laura', 'Yamaguchi, Paul'] \n",
      "\n",
      "['Drob, D. P.', 'Emmert, J. T.', 'Crowley, G.', 'Picone, J. M.', 'Shepherd, G. G.', 'Skinner, W.', 'Hays, P.', 'Niciejewski, R. J.', 'Larsen, M.', 'She, C. Y.', 'Meriwether, J. W.', 'Hernandez, G.', 'Jarvis, M. J.', 'Sipler, D. P.', 'Tepley, C. A.', \"O'Brien, M. S.\", 'Bowman, J. R.', 'Wu, Q.', 'Murayama, Y.', 'Kawamura, S.', 'Reid, I. M.', 'Vincent, R. A.'] \n",
      "\n",
      "['An, F. P.', 'An, Q.', 'Bai, J. Z.', 'Balantekin, A. B.', 'Band, H. R.', 'Beriguete, W.', 'Bishai, M.', 'Blyth, S.', 'Brown, R. L.', 'Cao, G. F.', 'Cao, J.', 'Carr, R.', 'Chan, W. T.', 'Chang, J. F.', 'Chang, Y.', 'Chasman, C.', 'Chen, H. S.', 'Chen, H. Y.', 'Chen, S. J.', 'Chen, S. M.', 'Chen, X. C.', 'Chen, X. H.', 'Chen, X. S.', 'Chen, Y.', 'Chen, Y. X.', 'Cherwinka, J. J.', 'Chu, M. C.', 'Cummings, J. P.', 'Deng, Z. Y.', 'Ding, Y. Y.', 'Diwan, M. V.', 'Draeger, E.', 'Du, X. F.', 'Dwyer, D.', 'Edwards, W. R.', 'Ely, S. R.', 'Fang, S. D.', 'Fu, J. Y.', 'Fu, Z. W.', 'Ge, L. Q.', 'Gill, R. L.', 'Gonchar, M.', 'Gong, G. H.', 'Gong, H.', 'Gornushkin, Y. A.', 'Gu, W. Q.', 'Guan, M. Y.', 'Guo, X. H.', 'Hackenburg, R. W.', 'Hahn, R. L.', 'Hans, S.', 'F. Hao, H.', 'He, M.', 'He, Q.', 'Heeger, K. M.', 'Heng, Y. K.', 'Hinrichs, P.', 'Hor, Y. K.', 'Hsiung, Y. B.', 'Hu, B. Z.', 'Hu, T.', 'Huang, H. X.', 'Huang, H. Z.', 'Huang, X. T.', 'Huber, P.', 'Issakov, V.', 'Isvan, Z.', 'E. Jaffe, D.', 'Jetter, S.', 'Ji, X. L.', 'Ji, X. P.', 'Jiang, H. J.', 'Jiao, J. B.', 'Johnson, R. A.', 'Kang, L.', 'Kettell, S. H.', 'Kramer, M.', 'Kwan, K. K.', 'Kwok, M. W.', 'Kwok, T.', 'Lai, C. Y.', 'Lai, W. C.', 'Lai, W. H.', 'Lau, K.', 'Lebanowski, L.', 'Lee, J.', 'Lei, R. T.', 'Leitner, R.', 'Leung, J. K. C.', 'Leung, K. Y.', 'Lewis, C. A.', 'Li, F.', 'Li, G. S.', 'Li, Q. J.', 'Li, W. D.', 'Li, X. B.', 'Li, X. N.', 'Li, X. Q.', 'Li, Y.', 'Li, Z. B.', 'Liang, H.', 'Lin, C. J.', 'Lin, G. L.', 'Lin, S. K.', 'Lin, Y. C.', 'Ling, J. J.', 'Link, J. M.', 'Littenberg, L.', 'Littlejohn, B. R.', 'Liu, D. W.', 'Liu, J. C.', 'Liu, J. L.', 'Liu, Y. B.', 'Lu, C.', 'Lu, H. Q.', 'Luk, A.', 'Luk, K. B.', 'Ma, Q. M.', 'Ma, X. B.', 'Ma, X. Y.', 'Ma, Y. Q.', 'McDonald, K. T.', 'McFarlane, M. C.', 'McKeown, R. D.', 'Meng, Y.', 'Mohapatra, D.', 'Nakajima, Y.', 'Napolitano, J.', 'Naumov, D.', 'Nemchenok, I.', 'Ngai, H. Y.', 'Ngai, W. K.', 'Nie, Y. B.', 'Ning, Z.', 'Ochoa-Ricoux, J. P.', 'Olshevski, A.', 'Patton, S.', 'Pec, V.', 'Peng, J. C.', 'Piilonen, L. E.', 'Pinsky, L.', 'Pun, C. S. J.', 'Qi, F. Z.', 'Qi, M.', 'Qian, X.', 'Raper, N.', 'Ren, J.', 'Rosero, R.', 'Roskovec, B.', 'Ruan, X. C.', 'Shao, B. B.', 'Shih, K.', 'Steiner, H.', 'Sun, G. X.', 'Sun, J. L.', 'Tagg, N.', 'Tam, Y. H.', 'Tanaka, H. K.', 'Tang, X.', 'Themann, H.', 'Torun, Y.', 'Trentalange, S.', 'Tsai, O.', 'Tsang, K. V.', 'Tsang, R. H. M.', 'Tull, C. E.', 'Tung, Y. C.', 'Viren, B.', 'Vorobel, V.', 'Wang, C. H.', 'Wang, L. S.', 'Wang, L. Y.', 'Wang, L. Z.', 'Wang, M.', 'Wang, N. Y.', 'Wang, R. G.', 'Wang, W.', 'Wang, X.', 'Wang, Y. F.', 'Wang, Z.', 'Wang, Z.', 'Wang, Z. M.', 'Webber, D. M.', 'Wei, H. Y.', 'Wei, Y. D.', 'Wen, L. J.', 'Whisnant, K.', 'White, C. G.', 'Whitehead, L.', 'Williamson, Y.', 'Wise, T.', 'Wong, H. L. H.', 'Worcester, E. T.', 'Wu, F. F.', 'Wu, Q.', 'Xi, J. B.', 'Xia, D. M.', 'Xing, Z. Z.', 'Xu, J.', 'Xu, J.', 'Xu, J. L.', 'Xu, Y.', 'Xue, T.', 'Yang, C. G.', 'Yang, L.', 'Ye, M.', 'Yeh, M.', 'Yeh, Y. S.', 'Young, B. L.', 'Yu, Z. Y.', 'Zhan, L.', 'Zhang, C.', 'Zhang, F. H.', 'Zhang, J. W.', 'Zhang, Q. M.', 'Zhang, S. H.', 'Zhang, Y. C.', 'Zhang, Y. H.', 'Zhang, Y. X.', 'Zhang, Z. J.', 'Zhang, Z. P.', 'Zhang, Z. Y.', 'Zhao, J.', 'Zhao, Q. W.', 'Zhao, Y. B.', 'Zheng, L.', 'Zhong, W. L.', 'Zhou, L.', 'Zhou, Z. Y.', 'Zhuang, H. L.', 'Zou, J. H.'] \n",
      "\n",
      "['Event Horizon Telescope Collaboration', 'Akiyama, Kazunori', 'Alberdi, Antxon', 'Alef, Walter', 'Asada, Keiichi', 'Azulay, Rebecca', 'Baczko, Anne-Kathrin', 'Ball, David', 'Baloković, Mislav', 'Barrett, John', 'Bintley, Dan', 'Blackburn, Lindy', 'Boland, Wilfred', 'Bouman, Katherine L.', 'Bower, Geoffrey C.', 'Bremer, Michael', 'Brinkerink, Christiaan D.', 'Brissenden, Roger', 'Britzen, Silke', 'Broderick, Avery E.', 'Broguiere, Dominique', 'Bronzwaer, Thomas', 'Byun, Do-Young', 'Carlstrom, John E.', 'Chael, Andrew', 'Chan, Chi-kwan', 'Chatterjee, Shami', 'Chatterjee, Koushik', 'Chen, Ming-Tang', 'Chen, Yongjun', 'Cho, Ilje', 'Christian, Pierre', 'Conway, John E.', 'Cordes, James M.', 'Crew, Geoffrey B.', 'Cui, Yuzhu', 'Davelaar, Jordy', 'De Laurentis, Mariafelicia', 'Deane, Roger', 'Dempsey, Jessica', 'Desvignes, Gregory', 'Dexter, Jason', 'Doeleman, Sheperd S.', 'Eatough, Ralph P.', 'Falcke, Heino', 'Fish, Vincent L.', 'Fomalont, Ed', 'Fraga-Encinas, Raquel', 'Friberg, Per', 'Fromm, Christian M.', 'Gómez, José L.', 'Galison, Peter', 'Gammie, Charles F.', 'García, Roberto', 'Gentaz, Olivier', 'Georgiev, Boris', 'Goddi, Ciriaco', 'Gold, Roman', 'Gu, Minfeng', 'Gurwell, Mark', 'Hada, Kazuhiro', 'Hecht, Michael H.', 'Hesper, Ronald', 'Ho, Luis C.', 'Ho, Paul', 'Honma, Mareki', 'Huang, Chih-Wei L.', 'Huang, Lei', 'Hughes, David H.', 'Ikeda, Shiro', 'Inoue, Makoto', 'Issaoun, Sara', 'James, David J.', 'Jannuzi, Buell T.', 'Janssen, Michael', 'Jeter, Britton', 'Jiang, Wu', 'Johnson, Michael D.', 'Jorstad, Svetlana', 'Jung, Taehyun', 'Karami, Mansour', 'Karuppusamy, Ramesh', 'Kawashima, Tomohisa', 'Keating, Garrett K.', 'Kettenis, Mark', 'Kim, Jae-Young', 'Kim, Junhan', 'Kim, Jongsoo', 'Kino, Motoki', 'Koay, Jun Yi', 'Koch, Patrick M.', 'Koyama, Shoko', 'Kramer, Michael', 'Kramer, Carsten', 'Krichbaum, Thomas P.', 'Kuo, Cheng-Yu', 'Lauer, Tod R.', 'Lee, Sang-Sung', 'Li, Yan-Rong', 'Li, Zhiyuan', 'Lindqvist, Michael', 'Liu, Kuo', 'Liuzzo, Elisabetta', 'Lo, Wen-Ping', 'Lobanov, Andrei P.', 'Loinard, Laurent', 'Lonsdale, Colin', 'Lu, Ru-Sen', 'MacDonald, Nicholas R.', 'Mao, Jirong', 'Markoff, Sera', 'Marrone, Daniel P.', 'Marscher, Alan P.', 'Martí-Vidal, Iván', 'Matsushita, Satoki', 'Matthews, Lynn D.', 'Medeiros, Lia', 'Menten, Karl M.', 'Mizuno, Yosuke', 'Mizuno, Izumi', 'Moran, James M.', 'Moriyama, Kotaro', 'Moscibrodzka, Monika', 'Müller, Cornelia', 'Nagai, Hiroshi', 'Nagar, Neil M.', 'Nakamura, Masanori', 'Narayan, Ramesh', 'Narayanan, Gopal', 'Natarajan, Iniyan', 'Neri, Roberto', 'Ni, Chunchong', 'Noutsos, Aristeidis', 'Okino, Hiroki', 'Olivares, Héctor', 'Ortiz-León, Gisela N.', 'Oyama, Tomoaki', 'Özel, Feryal', 'Palumbo, Daniel C. M.', 'Patel, Nimesh', 'Pen, Ue-Li', 'Pesce, Dominic W.', 'Piétu, Vincent', 'Plambeck, Richard', 'PopStefanija, Aleksandar', 'Porth, Oliver', 'Prather, Ben', 'Preciado-López, Jorge A.', 'Psaltis, Dimitrios', 'Pu, Hung-Yi', 'Ramakrishnan, Venkatessh', 'Rao, Ramprasad', 'Rawlings, Mark G.', 'Raymond, Alexander W.', 'Rezzolla, Luciano', 'Ripperda, Bart', 'Roelofs, Freek', 'Rogers, Alan', 'Ros, Eduardo', 'Rose, Mel', 'Roshanineshat, Arash', 'Rottmann, Helge', 'Roy, Alan L.', 'Ruszczyk, Chet', 'Ryan, Benjamin R.', 'Rygl, Kazi L. J.', 'Sánchez, Salvador', 'Sánchez-Arguelles, David', 'Sasada, Mahito', 'Savolainen, Tuomas', 'Schloerb, F. Peter', 'Schuster, Karl-Friedrich', 'Shao, Lijing', 'Shen, Zhiqiang', 'Small, Des', 'Sohn, Bong Won', 'SooHoo, Jason', 'Tazaki, Fumie', 'Tiede, Paul', 'Tilanus, Remo P. J.', 'Titus, Michael', 'Toma, Kenji', 'Torne, Pablo', 'Trent, Tyler', 'Trippe, Sascha', 'Tsuda, Shuichiro', 'van Bemmel, Ilse', 'van Langevelde, Huib Jan', 'van Rossum, Daniel R.', 'Wagner, Jan', 'Wardle, John', 'Weintroub, Jonathan', 'Wex, Norbert', 'Wharton, Robert', 'Wielgus, Maciek', 'Wong, George N.', 'Wu, Qingwen', 'Young, André', 'Young, Ken', 'Younsi, Ziri', 'Yuan, Feng', 'Yuan, Ye-Fei', 'Zensus, J. Anton', 'Zhao, Guangyao', 'Zhao, Shan-Shan', 'Zhu, Ziyan', 'Algaba, Juan-Carlos', 'Allardi, Alexander', 'Amestica, Rodrigo', 'Bach, Uwe', 'Beaudoin, Christopher', 'Benson, Bradford A.', 'Berthold, Ryan', 'Blanchard, Jay M.', 'Blundell, Ray', 'Bustamente, Sandra', 'Cappallo, Roger', 'Castillo-Domínguez, Edgar', 'Chang, Chih-Cheng', 'Chang, Shu-Hao', 'Chang, Song-Chu', 'Chen, Chung-Chen', 'Chilson, Ryan', 'Chuter, Tim C.', 'Córdova Rosado, Rodrigo', 'Coulson, Iain M.', 'Crawford, Thomas M.', 'Crowley, Joseph', 'David, John', 'Derome, Mark', 'Dexter, Matthew', 'Dornbusch, Sven', 'Dudevoir, Kevin A.', 'Dzib, Sergio A.', 'Eckert, Chris', 'Erickson, Neal R.', 'Everett, Wendeline B.', 'Faber, Aaron', 'Farah, Joseph R.', 'Fath, Vernon', 'Folkers, Thomas W.', 'Forbes, David C.', 'Freund, Robert', 'Gómez-Ruiz, Arturo I.', 'Gale, David M.', 'Gao, Feng', 'Geertsema, Gertie', 'Graham, David A.', 'Greer, Christopher H.', 'Grosslein, Ronald', 'Gueth, Frédéric', 'Halverson, Nils W.', 'Han, Chih-Chiang', 'Han, Kuo-Chang', 'Hao, Jinchi', 'Hasegawa, Yutaka', 'Henning, Jason W.', 'Hernández-Gómez, Antonio', 'Herrero-Illana, Rubén', 'Heyminck, Stefan', 'Hirota, Akihiko', 'Hoge, James', 'Huang, Yau-De', 'Impellizzeri, C. M. Violette', 'Jiang, Homin', 'Kamble, Atish', 'Keisler, Ryan', 'Kimura, Kimihiro', 'Kono, Yusuke', 'Kubo, Derek', 'Kuroda, John', 'Lacasse, Richard', 'Laing, Robert A.', 'Leitch, Erik M.', 'Li, Chao-Te', 'Lin, Lupin C. -C.', 'Liu, Ching-Tang', 'Liu, Kuan-Yu', 'Lu, Li-Ming', 'Marson, Ralph G.', 'Martin-Cocher, Pierre L.', 'Massingill, Kyle D.', 'Matulonis, Callie', 'McColl, Martin P.', 'McWhirter, Stephen R.', 'Messias, Hugo', 'Meyer-Zhao, Zheng', 'Michalik, Daniel', 'Montaña, Alfredo', 'Montgomerie, William', 'Mora-Klein, Matias', 'Muders, Dirk', 'Nadolski, Andrew', 'Navarro, Santiago', 'Nguyen, Chi H.', 'Nishioka, Hiroaki', 'Norton, Timothy', 'Nystrom, George', 'Ogawa, Hideo', 'Oshiro, Peter', 'Oyama, Tomoaki', 'Padin, Stephen', 'Parsons, Harriet', 'Paine, Scott N.', 'Peñalver, Juan', 'Phillips, Neil M.', 'Poirier, Michael', 'Pradel, Nicolas', 'Primiani, Rurik A.', 'Raffin, Philippe A.', 'Rahlin, Alexandra S.', 'Reiland, George', 'Risacher, Christopher', 'Ruiz, Ignacio', 'Sáez-Madaín, Alejandro F.', 'Sassella, Remi', 'Schellart, Pim', 'Shaw, Paul', 'Silva, Kevin M.', 'Shiokawa, Hotaka', 'Smith, David R.', 'Snow, William', 'Souccar, Kamal', 'Sousa, Don', 'Sridharan, T. K.', 'Srinivasan, Ranjani', 'Stahm, William', 'Stark, Antony A.', 'Story, Kyle', 'Timmer, Sjoerd T.', 'Vertatschitsch, Laura', 'Walther, Craig', 'Wei, Ta-Shun', 'Whitehorn, Nathan', 'Whitney, Alan R.', 'Woody, David P.', 'Wouterloot, Jan G. A.', 'Wright, Melvin', 'Yamaguchi, Paul', 'Yu, Chen-Yu', 'Zeballos, Milagros', 'Ziurys, Lucy'] \n",
      "\n",
      "['Event Horizon Telescope Collaboration', 'Akiyama, Kazunori', 'Alberdi, Antxon', 'Alef, Walter', 'Asada, Keiichi', 'Azulay, Rebecca', 'Baczko, Anne-Kathrin', 'Ball, David', 'Baloković, Mislav', 'Barrett, John', 'Bintley, Dan', 'Blackburn, Lindy', 'Boland, Wilfred', 'Bouman, Katherine L.', 'Bower, Geoffrey C.', 'Bremer, Michael', 'Brinkerink, Christiaan D.', 'Brissenden, Roger', 'Britzen, Silke', 'Broderick, Avery E.', 'Broguiere, Dominique', 'Bronzwaer, Thomas', 'Byun, Do-Young', 'Carlstrom, John E.', 'Chael, Andrew', 'Chan, Chi-kwan', 'Chatterjee, Shami', 'Chatterjee, Koushik', 'Chen, Ming-Tang', 'Chen, Yongjun', 'Cho, Ilje', 'Christian, Pierre', 'Conway, John E.', 'Cordes, James M.', 'Crew, Geoffrey B.', 'Cui, Yuzhu', 'Davelaar, Jordy', 'De Laurentis, Mariafelicia', 'Deane, Roger', 'Dempsey, Jessica', 'Desvignes, Gregory', 'Dexter, Jason', 'Doeleman, Sheperd S.', 'Eatough, Ralph P.', 'Falcke, Heino', 'Fish, Vincent L.', 'Fomalont, Ed', 'Fraga-Encinas, Raquel', 'Friberg, Per', 'Fromm, Christian M.', 'Gómez, José L.', 'Galison, Peter', 'Gammie, Charles F.', 'García, Roberto', 'Gentaz, Olivier', 'Georgiev, Boris', 'Goddi, Ciriaco', 'Gold, Roman', 'Gu, Minfeng', 'Gurwell, Mark', 'Hada, Kazuhiro', 'Hecht, Michael H.', 'Hesper, Ronald', 'Ho, Luis C.', 'Ho, Paul', 'Honma, Mareki', 'Huang, Chih-Wei L.', 'Huang, Lei', 'Hughes, David H.', 'Ikeda, Shiro', 'Inoue, Makoto', 'Issaoun, Sara', 'James, David J.', 'Jannuzi, Buell T.', 'Janssen, Michael', 'Jeter, Britton', 'Jiang, Wu', 'Johnson, Michael D.', 'Jorstad, Svetlana', 'Jung, Taehyun', 'Karami, Mansour', 'Karuppusamy, Ramesh', 'Kawashima, Tomohisa', 'Keating, Garrett K.', 'Kettenis, Mark', 'Kim, Jae-Young', 'Kim, Junhan', 'Kim, Jongsoo', 'Kino, Motoki', 'Koay, Jun Yi', 'Koch, Patrick M.', 'Koyama, Shoko', 'Kramer, Michael', 'Kramer, Carsten', 'Krichbaum, Thomas P.', 'Kuo, Cheng-Yu', 'Lauer, Tod R.', 'Lee, Sang-Sung', 'Li, Yan-Rong', 'Li, Zhiyuan', 'Lindqvist, Michael', 'Liu, Kuo', 'Liuzzo, Elisabetta', 'Lo, Wen-Ping', 'Lobanov, Andrei P.', 'Loinard, Laurent', 'Lonsdale, Colin', 'Lu, Ru-Sen', 'MacDonald, Nicholas R.', 'Mao, Jirong', 'Markoff, Sera', 'Marrone, Daniel P.', 'Marscher, Alan P.', 'Martí-Vidal, Iván', 'Matsushita, Satoki', 'Matthews, Lynn D.', 'Medeiros, Lia', 'Menten, Karl M.', 'Mizuno, Yosuke', 'Mizuno, Izumi', 'Moran, James M.', 'Moriyama, Kotaro', 'Moscibrodzka, Monika', 'Müller, Cornelia', 'Nagai, Hiroshi', 'Nagar, Neil M.', 'Nakamura, Masanori', 'Narayan, Ramesh', 'Narayanan, Gopal', 'Natarajan, Iniyan', 'Neri, Roberto', 'Ni, Chunchong', 'Noutsos, Aristeidis', 'Okino, Hiroki', 'Olivares, Héctor', 'Ortiz-León, Gisela N.', 'Oyama, Tomoaki', 'Özel, Feryal', 'Palumbo, Daniel C. M.', 'Patel, Nimesh', 'Pen, Ue-Li', 'Pesce, Dominic W.', 'Piétu, Vincent', 'Plambeck, Richard', 'PopStefanija, Aleksandar', 'Porth, Oliver', 'Prather, Ben', 'Preciado-López, Jorge A.', 'Psaltis, Dimitrios', 'Pu, Hung-Yi', 'Ramakrishnan, Venkatessh', 'Rao, Ramprasad', 'Rawlings, Mark G.', 'Raymond, Alexander W.', 'Rezzolla, Luciano', 'Ripperda, Bart', 'Roelofs, Freek', 'Rogers, Alan', 'Ros, Eduardo', 'Rose, Mel', 'Roshanineshat, Arash', 'Rottmann, Helge', 'Roy, Alan L.', 'Ruszczyk, Chet', 'Ryan, Benjamin R.', 'Rygl, Kazi L. J.', 'Sánchez, Salvador', 'Sánchez-Arguelles, David', 'Sasada, Mahito', 'Savolainen, Tuomas', 'Schloerb, F. Peter', 'Schuster, Karl-Friedrich', 'Shao, Lijing', 'Shen, Zhiqiang', 'Small, Des', 'Sohn, Bong Won', 'SooHoo, Jason', 'Tazaki, Fumie', 'Tiede, Paul', 'Tilanus, Remo P. J.', 'Titus, Michael', 'Toma, Kenji', 'Torne, Pablo', 'Trent, Tyler', 'Trippe, Sascha', 'Tsuda, Shuichiro', 'van Bemmel, Ilse', 'van Langevelde, Huib Jan', 'van Rossum, Daniel R.', 'Wagner, Jan', 'Wardle, John', 'Weintroub, Jonathan', 'Wex, Norbert', 'Wharton, Robert', 'Wielgus, Maciek', 'Wong, George N.', 'Wu, Qingwen', 'Young, André', 'Young, Ken', 'Younsi, Ziri', 'Yuan, Feng', 'Yuan, Ye-Fei', 'Zensus, J. Anton', 'Zhao, Guangyao', 'Zhao, Shan-Shan', 'Zhu, Ziyan', 'Cappallo, Roger', 'Farah, Joseph R.', 'Folkers, Thomas W.', 'Meyer-Zhao, Zheng', 'Michalik, Daniel', 'Nadolski, Andrew', 'Nishioka, Hiroaki', 'Pradel, Nicolas', 'Primiani, Rurik A.', 'Souccar, Kamal', 'Vertatschitsch, Laura', 'Yamaguchi, Paul'] \n",
      "\n",
      "['Wu, Q.', 'Litz, M.', 'Zhang, X. -C.'] \n",
      "\n",
      "['Wu, Q.', 'Zhang, X. -C.'] \n",
      "\n",
      "['Minos Collaboration', 'Michael, D. G.', 'Adamson, P.', 'Alexopoulos, T.', 'Allison, W. W. M.', 'Alner, G. J.', 'Anderson, K.', 'Andreopoulos, C.', 'Andrews, M.', 'Andrews, R.', 'Arroyo, C.', 'Avvakumov, S.', 'Ayres, D. S.', 'Baller, B.', 'Barish, B.', 'Barker, M. A.', 'Barnes, P. D.', 'Barr, G.', 'Barrett, W. L.', 'Beall, E.', 'Bechtol, K.', 'Becker, B. R.', 'Belias, A.', 'Bergfeld, T.', 'Bernstein, R. H.', 'Bhattacharya, D.', 'Bishai, M.', 'Blake, A.', 'Bocean, V.', 'Bock, B.', 'Bock, G. J.', 'Boehm, J.', 'Boehnlein, D. J.', 'Bogert, D.', 'Border, P. M.', 'Bower, C.', 'Boyd, S.', 'Buckley-Geer, E.', 'Byon-Wagner, A.', 'Cabrera, A.', 'Chapman, J. D.', 'Chase, T. R.', 'Chernichenko, S. K.', 'Childress, S.', 'Choudhary, B. C.', 'Cobb, J. H.', 'Coleman, S. J.', 'Cossairt, J. D.', 'Courant, H.', 'Crane, D. A.', 'Culling, A. J.', 'Damiani, D.', 'Dawson, J. W.', 'de Jong, J. K.', 'Demuth, D. M.', 'de Santo, A.', 'Dierckxsens, M.', 'Diwan, M. V.', 'Dorman, M.', 'Drake, G.', 'Ducar, R.', 'Durkin, T.', 'Erwin, A. R.', 'Escobar, C. O.', 'Evans, J. J.', 'Fackler, O. D.', 'Falk Harris, E.', 'Feldman, G. J.', 'Felt, N.', 'Fields, T. H.', 'Ford, R.', 'Frohne, M. V.', 'Gallagher, H. R.', 'Gebhard, M.', 'Godley, A.', 'Gogos, J.', 'Goodman, M. C.', 'Gornushkin, Yu.', 'Gouffon, P.', 'Grashorn, E. W.', 'Grossman, N.', 'Grudzinski, J. J.', 'Grzelak, K.', 'Guarino, V.', 'Habig, A.', 'Halsall, R.', 'Hanson, J.', 'Harris, D.', 'Harris, P. G.', 'Hartnell, J.', 'Hartouni, E. P.', 'Hatcher, R.', 'Heller, K.', 'Hill, N.', 'Ho, Y.', 'Howcroft, C.', 'Hylen, J.', 'Ignatenko, M.', 'Indurthy, D.', 'Irwin, G. M.', 'James, C.', 'Jenner, L.', 'Jensen, D.', 'Joffe-Minor, T.', 'Kafka, T.', 'Kang, H. J.', 'Kasahara, S. M. S.', 'Kilmer, J.', 'Kim, H.', 'Kim, M. S.', 'Koizumi, G.', 'Kopp, S.', 'Kordosky, M.', 'Koskinen, D. J.', 'Kostin, M.', 'Kotelnikov, S. K.', 'Krakauer, D. A.', 'Kumaratunga, S.', 'Ladran, A. S.', 'Lang, K.', 'Laughton, C.', 'Lebedev, A.', 'Lee, R.', 'Lee, W. Y.', 'Libkind, M. A.', 'Liu, J.', 'Litchfield, P. J.', 'Litchfield, R. P.', 'Longley, N. P.', 'Lucas, P.', 'Luebke, W.', 'Madani, S.', 'Maher, E.', 'Makeev, V.', 'Mann, W. A.', 'Marchionni, A.', 'Marino, A. D.', 'Marshak, M. L.', 'Marshall, J. S.', 'McDonald, J.', 'McGowan, A. M.', 'Meier, J. R.', 'Merzon, G. I.', 'Messier, M. D.', 'Milburn, R. H.', 'Miller, J. L.', 'Miller, W. H.', 'Mishra, S. R.', 'Miyagawa, P. S.', 'Moore, C. D.', 'Morfín, J.', 'Morse, R.', 'Mualem, L.', 'Mufson, S.', 'Murgia, S.', 'Murtagh, M. J.', 'Musser, J.', 'Naples, D.', 'Nelson, C.', 'Nelson, J. K.', 'Newman, H. B.', 'Nezrick, F.', 'Nichol, R. J.', 'Nicholls, T. C.', 'Ochoa-Ricoux, J. P.', 'Oliver, J.', 'Oliver, W. P.', 'Onuchin, V. A.', 'Osiecki, T.', 'Ospanov, R.', 'Paley, J.', 'Paolone, V.', 'Para, A.', 'Patzak, T.', 'Pavlović, Ž.', 'Pearce, G. F.', 'Pearson, N.', 'Peck, C. W.', 'Perry, C.', 'Peterson, E. A.', 'Petyt, D. A.', 'Ping, H.', 'Piteira, R.', 'Pla-Dalmau, A.', 'Plunkett, R. K.', 'Price, L. E.', 'Proga, M.', 'Pushka, D. R.', 'Rahman, D.', 'Rameika, R. A.', 'Raufer, T. M.', 'Read, A. L.', 'Rebel, B.', 'Reyna, D. E.', 'Rosenfeld, C.', 'Rubin, H. A.', 'Ruddick, K.', 'Ryabov, V. A.', 'Saakyan, R.', 'Sanchez, M. C.', 'Saoulidou, N.', 'Schneps, J.', 'Schoessow, P. V.', 'Schreiner, P.', 'Schwienhorst, R.', 'Semenov, V. K.', 'Seun, S. -M.', 'Shanahan, P.', 'Shield, P. D.', 'Shivane, R.', 'Smart, W.', 'Smirnitsky, V.', 'Smith, C.', 'Smith, P. N.', 'Sousa, A.', 'Speakman, B.', 'Stamoulis, P.', 'Stefanik, A.', 'Sullivan, P.', 'Swan, J. M.', 'Symes, P. A.', 'Tagg, N.', 'Talaga, R. L.', 'Terekhov, A.', 'Tetteh-Lartey, E.', 'Thomas, J.', 'Thompson, J.', 'Thomson, M. A.', 'Thron, J. L.', 'Trendler, R.', 'Trevor, J.', 'Trostin, I.', 'Tsarev, V. A.', 'Tzanakos, G.', 'Urheim, J.', 'Vahle, P.', 'Vakili, M.', 'Vaziri, K.', 'Velissaris, C.', 'Verebryusov, V.', 'Viren, B.', 'Wai, L.', 'Ward, C. P.', 'Ward, D. R.', 'Watabe, M.', 'Weber, A.', 'Webb, R. C.', 'Wehmann, A.', 'West, N.', 'White, C.', 'White, R. F.', 'Wojcicki, S. G.', 'Wright, D. M.', 'Wu, Q. K.', 'Yan, W. G.', 'Yang, T.', 'Yumiceva, F. X.', 'Yun, J. C.', 'Zheng, H.', 'Zois, M.', 'Zwaska, R.', 'MINOS Collaboration'] \n",
      "\n",
      "['Wu, Q.', 'Zhang, X. -C.'] \n",
      "\n",
      "['Wu, Q.', 'Hewitt, T. D.', 'Zhang, X. -C.'] \n",
      "\n",
      "['Lyubushkin, V.', 'Popov, B.', 'Kim, J. J.', 'Camilleri, L.', 'Levy, J. -M.', 'Mezzetto, M.', 'Naumov, D.', 'Alekhin, S.', 'Astier, P.', 'Autiero, D.', 'Baldisseri, A.', 'Baldo-Ceolin, M.', 'Banner, M.', 'Bassompierre, G.', 'Benslama, K.', 'Besson, N.', 'Bird, I.', 'Blumenfeld, B.', 'Bobisut, F.', 'Bouchez, J.', 'Boyd, S.', 'Bueno, A.', 'Bunyatov, S.', 'Cardini, A.', 'Cattaneo, P. W.', 'Cavasinni, V.', 'Cervera-Villanueva, A.', 'Challis, R.', 'Chukanov, A.', 'Collazuol, G.', 'Conforto, G.', 'Conta, C.', 'Contalbrigo, M.', 'Cousins, R.', 'Daniels, D.', 'Degaudenzi, H.', 'Del Prete, T.', 'de Santo, A.', 'Dignan, T.', 'di Lella, L.', 'Do Couto E Silva, E.', 'Dumarchez, J.', 'Ellis, M.', 'Feldman, G. J.', 'Ferrari, R.', 'Ferrère, D.', 'Flaminio, V.', 'Fraternali, M.', 'Gaillard, J. -M.', 'Gangler, E.', 'Geiser, A.', 'Geppert, D.', 'Gibin, D.', 'Gninenko, S.', 'Godley, A.', 'Gomez-Cadenas, J. -J.', 'Gosset, J.', 'Gößling, C.', 'Gouanère, M.', 'Grant, A.', 'Graziani, G.', 'Guglielmi, A.', 'Hagner, C.', 'Hernando, J.', 'Hubbard, D.', 'Hurst, P.', 'Hyett, N.', 'Iacopini, E.', 'Joseph, C.', 'Juget, F.', 'Kent, N.', 'Kirsanov, M.', 'Klimov, O.', 'Kokkonen, J.', 'Kovzelev, A.', 'Krasnoperov, A.', 'Kulagin, S.', 'Kustov, D.', 'Lacaprara, S.', 'Lachaud, C.', 'Lakić, B.', 'Lanza, A.', 'La Rotonda, L.', 'Laveder, M.', 'Letessier-Selvon, A.', 'Ling, J.', 'Linssen, L.', 'Ljubičić, A.', 'Long, J.', 'Lupi, A.', 'Marchionni, A.', 'Martelli, F.', 'Méchain, X.', 'Mendiburu, J. -P.', 'Meyer, J. -P.', 'Mishra, S. R.', 'Moorhead, G. F.', 'Nédélec, P.', 'Nefedov, Yu.', 'Nguyen-Mau, C.', 'Orestano, D.', 'Pastore, F.', 'Peak, L. S.', 'Pennacchio, E.', 'Pessard, H.', 'Petti, R.', 'Placci, A.', 'Polesello, G.', 'Pollmann, D.', 'Polyarush, A.', 'Poulsen, C.', 'Rebuffi, L.', 'Rico, J.', 'Riemann, P.', 'Roda, C.', 'Rubbia, A.', 'Salvatore, F.', 'Samoylov, O.', 'Schahmaneche, K.', 'Schmidt, B.', 'Schmidt, T.', 'Sconza, A.', 'Seaton, M.', 'Sevior, M.', 'Sillou, D.', 'Soler, F. J. P.', 'Sozzi, G.', 'Steele, D.', 'Stiegler, U.', 'Stipčević, M.', 'Stolarczyk, Th.', 'Tareb-Reyes, M.', 'Taylor, G. N.', 'Tereshchenko, V.', 'Toropin, A.', 'Touchard, A. -M.', 'Tovey, S. N.', 'Tran, M. -T.', 'Tsesmelis, E.', 'Ulrichs, J.', 'Vacavant, L.', 'Valdata-Nappi, M.', 'Valuev, V.', 'Vannucci, F.', 'Varvell, K. E.', 'Veltri, M.', 'Vercesi, V.', 'Vidal-Sitjes, G.', 'Vieira, J. -M.', 'Vinogradova, T.', 'Weber, F. V.', 'Weisse, T.', 'Wilson, F. F.', 'Winton, L. J.', 'Wu, Q.', 'Yabsley, B. D.', 'Zaccone, H.', 'Zuber, K.', 'Zuccon, P.'] \n",
      "\n",
      "['An, F. P.', 'Balantekin, A. B.', 'Band, H. R.', 'Beriguete, W.', 'Bishai, M.', 'Blyth, S.', 'Brown, R. L.', 'Butorov, I.', 'Cao, G. F.', 'Cao, J.', 'Carr, R.', 'Chan, Y. L.', 'Chang, J. F.', 'Chang, Y.', 'Chasman, C.', 'Chen, H. S.', 'Chen, H. Y.', 'Chen, S. J.', 'Chen, S. M.', 'Chen, X. C.', 'Chen, X. H.', 'Chen, Y.', 'Chen, Y. X.', 'Cheng, Y. P.', 'Cherwinka, J. J.', 'Chu, M. C.', 'Cummings, J. P.', 'de Arcos, J.', 'Deng, Z. Y.', 'Ding, Y. Y.', 'Diwan, M. V.', 'Draeger, E.', 'Du, X. F.', 'Dwyer, D. A.', 'Edwards, W. R.', 'Ely, S. R.', 'Fu, J. Y.', 'Ge, L. Q.', 'Gill, R.', 'Gonchar, M.', 'Gong, G. H.', 'Gong, H.', 'Gornushkin, Y. A.', 'Gu, W. Q.', 'Guan, M. Y.', 'Guo, X. H.', 'Hackenburg, R. W.', 'Hahn, R. L.', 'Han, G. H.', 'Hans, S.', 'He, M.', 'Heeger, K. M.', 'Heng, Y. K.', 'Hinrichs, P.', 'Hor, yk.', 'Hsiung, Y. B.', 'Hu, B. Z.', 'Hu, L. J.', 'Hu, L. M.', 'Hu, T.', 'Hu, W.', 'Huang, E. C.', 'Huang, H. X.', 'Huang, H. Z.', 'Huang, X. T.', 'Huber, P.', 'Hussain, G.', 'Isvan, Z.', 'Jaffe, D. E.', 'Jaffke, P.', 'Jetter, S.', 'Ji, X. L.', 'Ji, X. P.', 'Jiang, H. J.', 'Jiao, J. B.', 'Johnson, R. A.', 'Kang, L.', 'Kettell, S. H.', 'Kramer, M.', 'Kwan, K. K.', 'Kwok, M. W.', 'Kwok, T.', 'Lai, W. C.', 'Lai, W. H.', 'Lau, K.', 'Lebanowski, L.', 'Lee, J.', 'Lei, R. T.', 'Leitner, R.', 'Leung, A.', 'Leung, J. K. C.', 'Lewis, C. A.', 'Li, D. J.', 'Li, F.', 'Li, G. S.', 'Li, Q. J.', 'Li, W. D.', 'Li, X. N.', 'Li, X. Q.', 'Li, Y. F.', 'Li, Z. B.', 'Liang, H.', 'Lin, C. J.', 'Lin, G. L.', 'Lin, S. K.', 'Lin, Y. C.', 'Ling, J. J.', 'Link, J. M.', 'Littenberg, L.', 'Littlejohn, B. R.', 'Liu, D. W.', 'Liu, H.', 'Liu, J. C.', 'Liu, J. L.', 'Liu, S. S.', 'Liu, Y. B.', 'Lu, C.', 'Lu, H. Q.', 'Luk, K. B.', 'Ma, Q. M.', 'Ma, X. B.', 'Ma, X. Y.', 'Ma, Y. Q.', 'McDonald, K. T.', 'McFarlane, M. C.', 'McKeown, R. D.', 'Meng, Y.', 'Mitchell, I.', 'Nakajima, Y.', 'Napolitano, J.', 'Naumov, D.', 'Naumova, E.', 'Nemchenok, I.', 'Ngai, H. Y.', 'Ngai, W. K.', 'Ning, Z.', 'Ochoa-Ricoux, J. P.', 'Olshevski, A.', 'Patton, S.', 'Pec, V.', 'Peng, J. C.', 'Piilonen, L. E.', 'Pinsky, L.', 'Pun, C. S. J.', 'Qi, F. Z.', 'Qi, M.', 'Qian, X.', 'Raper, N.', 'Ren, B.', 'Ren, J.', 'Rosero, R.', 'Roskovec, B.', 'Ruan, X. C.', 'Shao, B. B.', 'Steiner, H.', 'Sun, G. X.', 'Sun, J. L.', 'Tam, Y. H.', 'Tanaka, H. K.', 'Tang, X.', 'Themann, H.', 'Trentalange, S.', 'Tsai, O.', 'Tsang, K. V.', 'Tsang, R. H. M.', 'Tull, C. E.', 'Tung, Y. C.', 'Viren, B.', 'Vorobel, V.', 'Wang, C. H.', 'Wang, L. S.', 'Wang, L. Y.', 'Wang, L. Z.', 'Wang, M.', 'Wang, N. Y.', 'Wang, R. G.', 'Wang, W.', 'Wang, W. W.', 'Wang, X.', 'Wang, Y. F.', 'Wang, Z.', 'Wang, Z.', 'Wang, Z. M.', 'Webber, D. M.', 'Wei, H.', 'Wei, Y. D.', 'Wen, L. J.', 'Whisnant, K.', 'White, C. G.', 'Whitehead, L.', 'Wise, T.', 'Wong, H. L. H.', 'Wong, S. C. F.', 'Worcester, E.', 'Wu, Q.', 'Xia, D. M.', 'Xia, J. K.', 'Xia, X.', 'Xing, Z. Z.', 'Xu, J.', 'Xu, J. L.', 'Xu, J. Y.', 'Xu, Y.', 'Xue, T.', 'Yan, J.', 'Yang, C. G.', 'Yang, L.', 'Yang, M. S.', 'Ye, M.', 'Yeh, M.', 'Yeh, Y. S.', 'Young, B. L.', 'Yu, G. Y.', 'Yu, J. Y.', 'Yu, Z. Y.', 'Zang, S. L.', 'Zhan, L.', 'Zhang, C.', 'Zhang, F. H.', 'Zhang, J. W.', 'Zhang, Q. M.', 'Zhang, S. H.', 'Zhang, Y. C.', 'Zhang, Y. H.', 'Zhang, Y. M.', 'Zhang, Y. X.', 'Zhang, Z. J.', 'Zhang, Z. P.', 'Zhang, Z. Y.', 'Zhao, J.', 'Zhao, Q. W.', 'Zhao, Y. B.', 'Zheng, L.', 'Zhong, W. L.', 'Zhou, L.', 'Zhou, Z. Y.', 'Zhuang, H. L.', 'Zou, J. H.', 'Daya Bay Collaboration'] \n",
      "\n",
      "['Wu, Q.', 'Zhang, X. -C.'] \n",
      "\n",
      "['An, F. P.', 'Balantekin, A. B.', 'Band, H. R.', 'Bishai, M.', 'Blyth, S.', 'Cao, D.', 'Cao, G. F.', 'Cao, J.', 'Cen, W. R.', 'Chan, Y. L.', 'Chang, J. F.', 'Chang, L. C.', 'Chang, Y.', 'Chen, H. S.', 'Chen, Q. Y.', 'Chen, S. M.', 'Chen, Y. X.', 'Chen, Y.', 'Cheng, J. -H.', 'Cheng, J.', 'Cheng, Y. P.', 'Cheng, Z. K.', 'Cherwinka, J. J.', 'Chu, M. C.', 'Chukanov, A.', 'Cummings, J. P.', 'de Arcos, J.', 'Deng, Z. Y.', 'Ding, X. F.', 'Ding, Y. Y.', 'Diwan, M. V.', 'Dolgareva, M.', 'Dove, J.', 'Dwyer, D. A.', 'Edwards, W. R.', 'Gill, R.', 'Gonchar, M.', 'Gong, G. H.', 'Gong, H.', 'Grassi, M.', 'Gu, W. Q.', 'Guan, M. Y.', 'Guo, L.', 'Guo, X. H.', 'Guo, Y. H.', 'Guo, Z.', 'Hackenburg, R. W.', 'Han, R.', 'Hans, S.', 'He, M.', 'Heeger, K. M.', 'Heng, Y. K.', 'Higuera, A.', 'Hor, Y. K.', 'Hsiung, Y. B.', 'Hu, B. Z.', 'Hu, T.', 'Hu, W.', 'Huang, E. C.', 'Huang, H. X.', 'Huang, X. T.', 'Huber, P.', 'Huo, W.', 'Hussain, G.', 'Jaffe, D. E.', 'Jaffke, P.', 'Jen, K. L.', 'Jetter, S.', 'Ji, X. P.', 'Ji, X. L.', 'Jiao, J. B.', 'Johnson, R. A.', 'Jones, D.', 'Joshi, J.', 'Kang, L.', 'Kettell, S. H.', 'Kohn, S.', 'Kramer, M.', 'Kwan, K. K.', 'Kwok, M. W.', 'Kwok, T.', 'Langford, T. J.', 'Lau, K.', 'Lebanowski, L.', 'Lee, J.', 'Lee, J. H. C.', 'Lei, R. T.', 'Leitner, R.', 'Leung, J. K. C.', 'Li, C.', 'Li, D. J.', 'Li, F.', 'Li, G. S.', 'Li, Q. J.', 'Li, S.', 'Li, S. C.', 'Li, W. D.', 'Li, X. N.', 'Li, Y. F.', 'Li, Z. B.', 'Liang, H.', 'Lin, C. J.', 'Lin, G. L.', 'Lin, S.', 'Lin, S. K.', 'Lin, Y. -C.', 'Ling, J. J.', 'Link, J. M.', 'Littenberg, L.', 'Littlejohn, B. R.', 'Liu, D. W.', 'Liu, J. L.', 'Liu, J. C.', 'Loh, C. W.', 'Lu, C.', 'Lu, H. Q.', 'Lu, J. S.', 'Luk, K. B.', 'Lv, Z.', 'Ma, Q. M.', 'Ma, X. Y.', 'Ma, X. B.', 'Ma, Y. Q.', 'Malyshkin, Y.', 'Martinez Caicedo, D. A.', 'McDonald, K. T.', 'McKeown, R. D.', 'Mitchell, I.', 'Mooney, M.', 'Nakajima, Y.', 'Napolitano, J.', 'Naumov, D.', 'Naumova, E.', 'Ngai, H. Y.', 'Ning, Z.', 'Ochoa-Ricoux, J. P.', 'Olshevskiy, A.', 'Pan, H. -R.', 'Park, J.', 'Patton, S.', 'Pec, V.', 'Peng, J. C.', 'Pinsky, L.', 'Pun, C. S. J.', 'Qi, F. Z.', 'Qi, M.', 'Qian, X.', 'Raper, N.', 'Ren, J.', 'Rosero, R.', 'Roskovec, B.', 'Ruan, X. C.', 'Steiner, H.', 'Sun, G. X.', 'Sun, J. L.', 'Tang, W.', 'Taychenachev, D.', 'Treskov, K.', 'Tsang, K. V.', 'Tull, C. E.', 'Viaux, N.', 'Viren, B.', 'Vorobel, V.', 'Wang, C. H.', 'Wang, M.', 'Wang, N. Y.', 'Wang, R. G.', 'Wang, W.', 'Wang, X.', 'Wang, Y. F.', 'Wang, Z.', 'Wang, Z.', 'Wang, Z. M.', 'Wei, H. Y.', 'Wen, L. J.', 'Whisnant, K.', 'White, C. G.', 'Whitehead, L.', 'Wise, T.', 'Wong, H. L. H.', 'Wong, S. C. F.', 'Worcester, E.', 'Wu, C. -H.', 'Wu, Q.', 'Wu, W. J.', 'Xia, D. M.', 'Xia, J. K.', 'Xing, Z. Z.', 'Xu, J. Y.', 'Xu, J. L.', 'Xu, Y.', 'Xue, T.', 'Yang, C. G.', 'Yang, H.', 'Yang, L.', 'Yang, M. S.', 'Yang, M. T.', 'Ye, M.', 'Ye, Z.', 'Yeh, M.', 'Young, B. L.', 'Yu, Z. Y.', 'Zeng, S.', 'Zhan, L.', 'Zhang, C.', 'Zhang, H. H.', 'Zhang, J. W.', 'Zhang, Q. M.', 'Zhang, X. T.', 'Zhang, Y. M.', 'Zhang, Y. X.', 'Zhang, Y. M.', 'Zhang, Z. J.', 'Zhang, Z. Y.', 'Zhang, Z. P.', 'Zhao, J.', 'Zhao, Q. W.', 'Zhao, Y. B.', 'Zhong, W. L.', 'Zhou, L.', 'Zhou, N.', 'Zhuang, H. L.', 'Zou, J. H.', 'Daya Bay Collaboration'] \n",
      "\n",
      "['Adam, T.', 'An, F.', 'An, G.', 'An, Q.', 'Anfimov, N.', 'Antonelli, V.', 'Baccolo, G.', 'Baldoncini, M.', 'Baussan, E.', 'Bellato, M.', 'Bezrukov, L.', 'Bick, D.', 'Blyth, S.', 'Boarin, S.', 'Brigatti, A.', 'Brugière, T.', 'Brugnera, R.', 'Buizza Avanzini, M.', 'Busto, J.', 'Cabrera, A.', 'Cai, H.', 'Cai, X.', 'Cammi, A.', 'Cao, D.', 'Cao, G.', 'Cao, J.', 'Chang, J.', 'Chang, Y.', 'Chen, M.', 'Chen, P.', 'Chen, Q.', 'Chen, S.', 'Chen, S.', 'Chen, S.', 'Chen, X.', 'Chen, Y.', 'Cheng, Y.', 'Chiesa, D.', 'Chukanov, A.', 'Clemenza, M.', 'Clerbaux, B.', \"D'Angelo, D.\", 'de Kerret, H.', 'Deng, Z.', 'Deng, Z.', 'Ding, X.', 'Ding, Y.', 'Djurcic, Z.', 'Dmitrievsky, S.', 'Dolgareva, M.', 'Dornic, D.', 'Doroshkevich, E.', 'Dracos, M.', 'Drapier, O.', 'Dusini, S.', 'Díaz, M. A.', 'Enqvist, T.', 'Fan, D.', 'Fang, C.', 'Fang, J.', 'Fang, X.', 'Favart, L.', 'Fedoseev, D.', 'Fiorentini, G.', 'Ford, R.', 'Formozov, A.', 'Gaigher, R.', 'Gan, H.', 'Garfagnini, A.', 'Gaudiot, G.', 'Genster, C.', 'Giammarchi, M.', 'Giuliani, F.', 'Gonchar, M.', 'Gong, G.', 'Gong, H.', 'Gonin, M.', 'Gornushkin, Y.', 'Grassi, M.', 'Grewing, C.', 'Gromov, V.', 'Gu, M.', 'Guan, M.', 'Guarino, V.', 'Guo, W.', 'Guo, X.', 'Guo, Y.', 'Göger-Neff, M.', 'Hackspacher, P.', 'Hagner, C.', 'Han, R.', 'Han, Z.', 'Hao, J.', 'He, M.', 'Hellgartner, D.', 'Heng, Y.', 'Hong, D.', 'Hou, S.', 'Hsiung, Y.', 'Hu, B.', 'Hu, J.', 'Hu, S.', 'Hu, T.', 'Hu, W.', 'Huang, H.', 'Huang, X.', 'Huang, X.', 'Huo, L.', 'Huo, W.', 'Ioannisian, A.', 'Ioannisyan, D.', 'Jeitler, M.', 'Jen, K.', 'Jetter, S.', 'Ji, X.', 'Ji, X.', 'Jian, S.', 'Jiang, D.', 'Jiang, X.', 'Jollet, C.', 'Kaiser, M.', 'Kan, B.', 'Kang, L.', 'Karagounis, M.', 'Kazarian, N.', 'Kettell, S.', 'Korablev, D.', 'Krasnoperov, A.', 'Krokhaleva, S.', 'Krumshteyn, Z.', 'Kruth, A.', 'Kuusiniemi, P.', 'Lachenmaier, T.', 'Lei, L.', 'Lei, R.', 'Lei, X.', 'Leitner, R.', 'Lenz, F.', 'Li, C.', 'Li, F.', 'Li, F.', 'Li, J.', 'Li, N.', 'Li, S.', 'Li, T.', 'Li, W.', 'Li, W.', 'Li, X.', 'Li, X.', 'Li, X.', 'Li, X.', 'Li, Y.', 'Li, Y.', 'Li, Z.', 'Liang, H.', 'Liang, H.', 'Liang, J.', 'Licciardi, M.', 'Lin, G.', 'Lin, S.', 'Lin, T.', 'Lin, Y.', 'Lippi, I.', 'Liu, G.', 'Liu, H.', 'Liu, H.', 'Liu, J.', 'Liu, J.', 'Liu, J.', 'Liu, J.', 'Liu, Q.', 'Liu, Q.', 'Liu, S.', 'Liu, S.', 'Liu, Y.', 'Lombardi, P.', 'Long, Y.', 'Lorenz, S.', 'Lu, C.', 'Lu, F.', 'Lu, H.', 'Lu, J.', 'Lu, J.', 'Lu, J.', 'Lubsandorzhiev, B.', 'Lubsandorzhiev, S.', 'Ludhova, L.', 'Luo, F.', 'Luo, S.', 'Lv, Z.', 'Lyashuk, V.', 'Ma, Q.', 'Ma, S.', 'Ma, X.', 'Ma, X.', 'Malyshkin, Y.', 'Mantovani, F.', 'Mao, Y.', 'Mari, S.', 'Mayilyan, D.', 'McDonough, W.', 'Meng, G.', 'Meregaglia, A.', 'Meroni, E.', 'Mezzetto, M.', 'Min, J.', 'Miramonti, L.', 'Montuschi, M.', 'Morozov, N.', 'Mueller, T.', 'Muralidharan, P.', 'Nastasi, M.', 'Naumov, D.', 'Naumova, E.', 'Nemchenok, I.', 'Ning, Z.', 'Nunokawa, H.', 'Oberauer, L.', 'Ochoa-Ricoux, J. P.', 'Olshevskiy, A.', 'Ortica, F.', 'Pan, H.', 'Paoloni, A.', 'Parkalian, N.', 'Parmeggiano, S.', 'Pec, V.', 'Pelliccia, N.', 'Peng, H.', 'Poussot, P.', 'Pozzi, S.', 'Previtali, E.', 'Prummer, S.', 'Qi, F.', 'Qi, M.', 'Qian, S.', 'Qian, X.', 'Qiao, H.', 'Qin, Z.', 'Ranucci, G.', 'Re, A.', 'Ren, B.', 'Ren, J.', 'Rezinko, T.', 'Ricci, B.', 'Robens, M.', 'Romani, A.', 'Roskovec, B.', 'Ruan, X.', 'Ruan, X.', 'Rybnikov, A.', 'Sadovsky, A.', 'Saggese, P.', 'Salamanna, G.', 'Sawatzki, J.', 'Schuler, J.', 'Selyunin, A.', 'Shi, G.', 'Shi, J.', 'Shi, Y.', 'Sinev, V.', 'Sirignano, C.', 'Sisti, M.', 'Smirnov, O.', 'Soiron, M.', 'Stahl, A.', 'Stanco, L.', 'Steinmann, J.', 'Strati, V.', 'Sun, G.', 'Sun, X.', 'Sun, Y.', 'Sun, Y.', 'Taichenachev, D.', 'Tang, J.', 'Tietzsch, A.', 'Tkachev, I.', 'Trzaska, W. H.', 'Tung, Y.', 'van Waasen, S.', 'Volpe, C.', 'Vorobel, V.', 'Votano, L.', 'Wang, C.', 'Wang, C.', 'Wang, C.', 'Wang, G.', 'Wang, H.', 'Wang, M.', 'Wang, R.', 'Wang, S.', 'Wang, W.', 'Wang, W.', 'Wang, Y.', 'Wang, Y.', 'Wang, Y.', 'Wang, Y.', 'Wang, Z.', 'Wang, Z.', 'Wang, Z.', 'Wang, Z.', 'Wang, Z.', 'Wei, W.', 'Wei, Y.', 'Weifels, M.', 'Wen, L.', 'Wen, Y.', 'Wiebusch, C.', 'Wipperfurth, S.', 'Wong, S. C.', 'Wonsak, B.', 'Wu, C.', 'Wu, Q.', 'Wu, Z.', 'Wurm, M.', 'Wurtz, J.', 'Xi, Y.', 'Xia, D.', 'Xia, J.', 'Xiao, M.', 'Xie, Y.', 'Xu, J.', 'Xu, J.', 'Xu, L.', 'Xu, Y.', 'Yan, B.', 'Yan, X.', 'Yang, C.', 'Yang, C.', 'Yang, H.', 'Yang, L.', 'Yang, M.', 'Yang, Y.', 'Yang, Y.', 'Yang, Y.', 'Yanovich, E.', 'Yao, Y.', 'Ye, M.', 'Ye, X.', 'Yegin, U.', 'Yermia, F.', 'You, Z.', 'Yu, B.', 'Yu, C.', 'Yu, C.', 'Yu, G.', 'Yu, Z.', 'Yuan, Y.', 'Yuan, Z.', 'Zanetti, M.', 'Zeng, P.', 'Zeng, S.', 'Zeng, T.', 'Zhan, L.', 'Zhang, C.', 'Zhang, F.', 'Zhang, G.', 'Zhang, H.', 'Zhang, J.', 'Zhang, J.', 'Zhang, J.', 'Zhang, K.', 'Zhang, P.', 'Zhang, Q.', 'Zhang, T.', 'Zhang, X.', 'Zhang, X.', 'Zhang, Y.', 'Zhang, Y.', 'Zhang, Y.', 'Zhang, Y.', 'Zhang, Y.', 'Zhang, Y.', 'Zhang, Z.', 'Zhang, Z.', 'Zhao, J.', 'Zhao, M.', 'Zhao, T.', 'Zhao, Y.', 'Zheng, H.', 'Zheng, M.', 'Zheng, X.', 'Zheng, Y.', 'Zhong, W.', 'Zhou, G.', 'Zhou, J.', 'Zhou, L.', 'Zhou, N.', 'Zhou, R.', 'Zhou, S.', 'Zhou, W.', 'Zhou, X.', 'Zhou, Y.', 'Zhu, H.', 'Zhu, K.', 'Zhuang, H.', 'Zong, L.', 'Zou, J.'] \n",
      "\n",
      "['Ji, D.', 'Wang, L.', 'Feng, J.', 'Wu, Q.', 'Cheng, H.', 'Zhang, Q.', 'Yang, J.', 'Dong, W.', 'Dai, Y.', 'Gong, D.', 'Zhang, R. -H.', 'Wang, X.', 'Liu, J.', 'Moore, J. C.', 'Chen, D.', 'Zhou, M.'] \n",
      "\n",
      "['Oberheide, J.', 'Forbes, J. M.', 'Häusler, K.', 'Wu, Q.', 'Bruinsma, S. L.'] \n",
      "\n",
      "['Oberheide, J.', 'Wu, Q.', 'Killeen, T. L.', 'Hagan, M. E.', 'Roble, R. G.'] \n",
      "\n",
      "['Bruno, F. Y.', 'Tamai, A.', 'Wu, Q. S.', 'Cucchi, I.', 'Barreteau, C.', 'de la Torre, A.', 'McKeown Walker, S.', 'Riccò, S.', 'Wang, Z.', 'Kim, T. K.', 'Hoesch, M.', 'Shi, M.', 'Plumb, N. C.', 'Giannini, E.', 'Soluyanov, A. A.', 'Baumberger, F.'] \n",
      "\n",
      "['Adamson, P.', 'Andreopoulos, C.', 'Arms, K. E.', 'Armstrong, R.', 'Auty, D. J.', 'Avvakumov, S.', 'Ayres, D. S.', 'Baller, B.', 'Barish, B.', 'Barnes, P. D., Jr.', 'Barr, G.', 'Barrett, W. L.', 'Beall, E.', 'Becker, B. R.', 'Belias, A.', 'Bergfeld, T.', 'Bernstein, R. H.', 'Bhattacharya, D.', 'Bishai, M.', 'Blake, A.', 'Bock, B.', 'Bock, G. J.', 'Boehm, J.', 'Boehnlein, D. J.', 'Bogert, D.', 'Border, P. M.', 'Bower, C.', 'Buckley-Geer, E.', 'Cabrera, A.', 'Chapman, J. D.', 'Cherdack, D.', 'Childress, S.', 'Choudhary, B. C.', 'Cobb, J. H.', 'Coleman, S. J.', 'Culling, A. J.', 'de Jong, J. K.', 'de Santo, A.', 'Dierckxsens, M.', 'Diwan, M. V.', 'Dorman, M.', 'Drakoulakos, D.', 'Durkin, T.', 'Erwin, A. R.', 'Escobar, C. O.', 'Evans, J. J.', 'Harris, E. Falk', 'Feldman, G. J.', 'Fields, T. H.', 'Fitzpatrick, T.', 'Ford, R.', 'Frohne, M. V.', 'Gallagher, H. R.', 'Giurgiu, G. A.', 'Godley, A.', 'Gogos, J.', 'Goodman, M. C.', 'Gouffon, P.', 'Gran, R.', 'Grashorn, E. W.', 'Grossman, N.', 'Grzelak, K.', 'Habig, A.', 'Harris, D.', 'Harris, P. G.', 'Hartnell, J.', 'Hartouni, E. P.', 'Hatcher, R.', 'Heller, K.', 'Holin, A.', 'Howcroft, C.', 'Hylen, J.', 'Indurthy, D.', 'Irwin, G. M.', 'Ishitsuka, M.', 'Jaffe, D. E.', 'James, C.', 'Jenner, L.', 'Jensen, D.', 'Joffe-Minor, T.', 'Kafka, T.', 'Kang, H. J.', 'Kasahara, S. M. S.', 'Kim, M. S.', 'Koizumi, G.', 'Kopp, S.', 'Kordosky, M.', 'Koskinen, D. J.', 'Kotelnikov, S. K.', 'Kreymer, A.', 'Kumaratunga, S.', 'Lang, K.', 'Lebedev, A.', 'Lee, R.', 'Ling, J.', 'Liu, J.', 'Litchfield, P. J.', 'Litchfield, R. P.', 'Lucas, P.', 'Luebke, W.', 'Mann, W. A.', 'Marchionni, A.', 'Marino, A. D.', 'Marshak, M. L.', 'Marshall, J. S.', 'Mayer, N.', 'McGowan, A. M.', 'Meier, J. R.', 'Merzon, G. I.', 'Messier, M. D.', 'Michael, D. G.', 'Milburn, R. H.', 'Miller, J. L.', 'Miller, W. H.', 'Mishra, S. R.', 'Mislivec, A.', 'Miyagawa, P. S.', 'Moore, C. D.', 'Morfín, J.', 'Mualem, L.', 'Mufson, S.', 'Murgia, S.', 'Musser, J.', 'Naples, D.', 'Nelson, J. K.', 'Newman, H. B.', 'Nichol, R. J.', 'Nicholls, T. C.', 'Ochoa-Ricoux, J. P.', 'Oliver, W. P.', 'Osiecki, T.', 'Ospanov, R.', 'Paley, J.', 'Paolone, V.', 'Para, A.', 'Patzak, T.', 'Pavlović, Ž.', 'Pearce, G. F.', 'Peck, C. W.', 'Perry, C.', 'Peterson, E. A.', 'Petyt, D. A.', 'Ping, H.', 'Piteira, R.', 'Pittam, R.', 'Plunkett, R. K.', 'Rahman, D.', 'Rameika, R. A.', 'Raufer, T. M.', 'Rebel, B.', 'Reichenbacher, J.', 'Reyna, D. E.', 'Rosenfeld, C.', 'Rubin, H. A.', 'Ruddick, K.', 'Ryabov, V. A.', 'Saakyan, R.', 'Sanchez, M. C.', 'Saoulidou, N.', 'Saranen, D.', 'Schneps, J.', 'Schreiner, P.', 'Semenov, V. K.', 'Seun, S. -M.', 'Shanahan, P.', 'Smart, W.', 'Smirnitsky, V.', 'Smith, C.', 'Sousa, A.', 'Speakman, B.', 'Stamoulis, P.', 'Symes, P. A.', 'Tagg, N.', 'Talaga, R. L.', 'Tetteh-Lartey, E.', 'Thomas, J.', 'Thompson, J.', 'Thomson, M. A.', 'Thron, J. L.', 'Tinti, G.', 'Trostin, I.', 'Tsarev, V. A.', 'Tzanakos, G.', 'Urheim, J.', 'Vahle, P.', 'Verebryusov, V.', 'Viren, B.', 'Ward, C. P.', 'Ward, D. R.', 'Watabe, M.', 'Weber, A.', 'Webb, R. C.', 'Wehmann, A.', 'West, N.', 'White, C.', 'Wojcicki, S. G.', 'Wright, D. M.', 'Wu, Q. K.', 'Yang, T.', 'Yumiceva, F. X.', 'Zheng, H.', 'Zois, M.', 'Zwaska, R.'] \n",
      "\n",
      "['An, F. P.', 'Balantekin, A. B.', 'Band, H. R.', 'Bishai, M.', 'Blyth, S.', 'Butorov, I.', 'Cao, D.', 'Cao, G. F.', 'Cao, J.', 'Cen, W. R.', 'Chan, Y. L.', 'Chang, J. F.', 'Chang, L. C.', 'Chang, Y.', 'Chen, H. S.', 'Chen, Q. Y.', 'Chen, S. M.', 'Chen, Y. X.', 'Chen, Y.', 'Cheng, J. H.', 'Cheng, J.', 'Cheng, Y. P.', 'Cherwinka, J. J.', 'Chu, M. C.', 'Cummings, J. P.', 'de Arcos, J.', 'Deng, Z. Y.', 'Ding, X. F.', 'Ding, Y. Y.', 'Diwan, M. V.', 'Dove, J.', 'Draeger, E.', 'Dwyer, D. A.', 'Edwards, W. R.', 'Ely, S. R.', 'Gill, R.', 'Gonchar, M.', 'Gong, G. H.', 'Gong, H.', 'Grassi, M.', 'Gu, W. Q.', 'Guan, M. Y.', 'Guo, L.', 'Guo, X. H.', 'Hackenburg, R. W.', 'Han, R.', 'Hans, S.', 'He, M.', 'Heeger, K. M.', 'Heng, Y. K.', 'Higuera, A.', 'Hor, Y. K.', 'Hsiung, Y. B.', 'Hu, B. Z.', 'Hu, L. M.', 'Hu, L. J.', 'Hu, T.', 'Hu, W.', 'Huang, E. C.', 'Huang, H. X.', 'Huang, X. T.', 'Huber, P.', 'Hussain, G.', 'Jaffe, D. E.', 'Jaffke, P.', 'Jen, K. L.', 'Jetter, S.', 'Ji, X. P.', 'Ji, X. L.', 'Jiao, J. B.', 'Johnson, R. A.', 'Kang, L.', 'Kettell, S. H.', 'Kohn, S.', 'Kramer, M.', 'Kwan, K. K.', 'Kwok, M. W.', 'Kwok, T.', 'Langford, T. J.', 'Lau, K.', 'Lebanowski, L.', 'Lee, J.', 'Lei, R. T.', 'Leitner, R.', 'Leung, K. Y.', 'Leung, J. K. C.', 'Lewis, C. A.', 'Li, D. J.', 'Li, F.', 'Li, G. S.', 'Li, Q. J.', 'Li, S. C.', 'Li, W. D.', 'Li, X. N.', 'Li, X. Q.', 'Li, Y. F.', 'Li, Z. B.', 'Liang, H.', 'Lin, C. J.', 'Lin, G. L.', 'Lin, P. Y.', 'Lin, S. K.', 'Ling, J. J.', 'Link, J. M.', 'Littenberg, L.', 'Littlejohn, B. R.', 'Liu, D. W.', 'Liu, H.', 'Liu, J. L.', 'Liu, J. C.', 'Liu, S. S.', 'Lu, C.', 'Lu, H. Q.', 'Lu, J. S.', 'Luk, K. B.', 'Ma, Q. M.', 'Ma, X. Y.', 'Ma, X. B.', 'Ma, Y. Q.', 'Martinez Caicedo, D. A.', 'McDonald, K. T.', 'McKeown, R. D.', 'Meng, Y.', 'Mitchell, I.', 'Monari Kebwaro, J.', 'Nakajima, Y.', 'Napolitano, J.', 'Naumov, D.', 'Naumova, E.', 'Ngai, H. Y.', 'Ning, Z.', 'Ochoa-Ricoux, J. P.', 'Olshevski, A.', 'Pan, H. -R.', 'Park, J.', 'Patton, S.', 'Pec, V.', 'Peng, J. C.', 'Piilonen, L. E.', 'Pinsky, L.', 'Pun, C. S. J.', 'Qi, F. Z.', 'Qi, M.', 'Qian, X.', 'Raper, N.', 'Ren, B.', 'Ren, J.', 'Rosero, R.', 'Roskovec, B.', 'Ruan, X. C.', 'Shao, B. B.', 'Steiner, H.', 'Sun, G. X.', 'Sun, J. L.', 'Tang, W.', 'Taychenachev, D.', 'Tsang, K. V.', 'Tull, C. E.', 'Tung, Y. C.', 'Viaux, N.', 'Viren, B.', 'Vorobel, V.', 'Wang, C. H.', 'Wang, M.', 'Wang, N. Y.', 'Wang, R. G.', 'Wang, W.', 'Wang, W. W.', 'Wang, X.', 'Wang, Y. F.', 'Wang, Z.', 'Wang, Z.', 'Wang, Z. M.', 'Wei, H. Y.', 'Wen, L. J.', 'Whisnant, K.', 'White, C. G.', 'Whitehead, L.', 'Wise, T.', 'Wong, H. L. H.', 'Wong, S. C. F.', 'Worcester, E.', 'Wu, Q.', 'Xia, D. M.', 'Xia, J. K.', 'Xia, X.', 'Xing, Z. Z.', 'Xu, J. Y.', 'Xu, J. L.', 'Xu, J.', 'Xu, Y.', 'Xue, T.', 'Yan, J.', 'Yang, C. G.', 'Yang, L.', 'Yang, M. S.', 'Yang, M. T.', 'Ye, M.', 'Yeh, M.', 'Young, B. L.', 'Yu, G. Y.', 'Yu, Z. Y.', 'Zang, S. L.', 'Zhan, L.', 'Zhang, C.', 'Zhang, H. H.', 'Zhang, J. W.', 'Zhang, Q. M.', 'Zhang, Y. M.', 'Zhang, Y. X.', 'Zhang, Y. M.', 'Zhang, Z. J.', 'Zhang, Z. Y.', 'Zhang, Z. P.', 'Zhao, J.', 'Zhao, Q. W.', 'Zhao, Y. F.', 'Zhao, Y. B.', 'Zheng, L.', 'Zhong, W. L.', 'Zhou, L.', 'Zhou, N.', 'Zhuang, H. L.', 'Zou, J. H.', 'Daya Bay Collaboration'] \n",
      "\n",
      "['An, F. P.', 'Balantekin, A. B.', 'Band, H. R.', 'Bishai, M.', 'Blyth, S.', 'Butorov, I.', 'Cao, G. F.', 'Cao, J.', 'Cen, W. R.', 'Chan, Y. L.', 'Chang, J. F.', 'Chang, L. C.', 'Chang, Y.', 'Chen, H. S.', 'Chen, Q. Y.', 'Chen, S. M.', 'Chen, Y. X.', 'Chen, Y.', 'Cheng, J. H.', 'Cheng, J.', 'Cheng, Y. P.', 'Cherwinka, J. J.', 'Chu, M. C.', 'Cummings, J. P.', 'de Arcos, J.', 'Deng, Z. Y.', 'Ding, X. F.', 'Ding, Y. Y.', 'Diwan, M. V.', 'Draeger, E.', 'Dwyer, D. A.', 'Edwards, W. R.', 'Ely, S. R.', 'Gill, R.', 'Gonchar, M.', 'Gong, G. H.', 'Gong, H.', 'Grassi, M.', 'Gu, W. Q.', 'Guan, M. Y.', 'Guo, L.', 'Guo, X. H.', 'Hackenburg, R. W.', 'Han, R.', 'Hans, S.', 'He, M.', 'Heeger, K. M.', 'Heng, Y. K.', 'Higuera, A.', 'Hor, Y. K.', 'Hsiung, Y. B.', 'Hu, B. Z.', 'Hu, L. M.', 'Hu, L. J.', 'Hu, T.', 'Hu, W.', 'Huang, E. C.', 'Huang, H. X.', 'Huang, X. T.', 'Huber, P.', 'Hussain, G.', 'Jaffe, D. E.', 'Jaffke, P.', 'Jen, K. L.', 'Jetter, S.', 'Ji, X. P.', 'Ji, X. L.', 'Jiao, J. B.', 'Johnson, R. A.', 'Kang, L.', 'Kettell, S. H.', 'Kramer, M.', 'Kwan, K. K.', 'Kwok, M. W.', 'Kwok, T.', 'Langford, T. J.', 'Lau, K.', 'Lebanowski, L.', 'Lee, J.', 'Lei, R. T.', 'Leitner, R.', 'Leung, K. Y.', 'Leung, J. K. C.', 'Lewis, C. A.', 'Li, D. J.', 'Li, F.', 'Li, G. S.', 'Li, Q. J.', 'Li, S. C.', 'Li, W. D.', 'Li, X. N.', 'Li, X. Q.', 'Li, Y. F.', 'Li, Z. B.', 'Liang, H.', 'Lin, C. J.', 'Lin, G. L.', 'Lin, P. Y.', 'Lin, S. K.', 'Ling, J. J.', 'Link, J. M.', 'Littenberg, L.', 'Littlejohn, B. R.', 'Liu, D. W.', 'Liu, H.', 'Liu, J. L.', 'Liu, J. C.', 'Liu, S. S.', 'Lu, C.', 'Lu, H. Q.', 'Lu, J. S.', 'Luk, K. B.', 'Ma, Q. M.', 'Ma, X. Y.', 'Ma, X. B.', 'Ma, Y. Q.', 'Martinez Caicedo, D. A.', 'McDonald, K. T.', 'McKeown, R. D.', 'Meng, Y.', 'Mitchell, I.', 'Monari Kebwaro, J.', 'Nakajima, Y.', 'Napolitano, J.', 'Naumov, D.', 'Naumova, E.', 'Ngai, H. Y.', 'Ning, Z.', 'Ochoa-Ricoux, J. P.', 'Olshevski, A.', 'Park, J.', 'Patton, S.', 'Pec, V.', 'Peng, J. C.', 'Piilonen, L. E.', 'Pinsky, L.', 'Pun, C. S. J.', 'Qi, F. Z.', 'Qi, M.', 'Qian, X.', 'Raper, N.', 'Ren, B.', 'Ren, J.', 'Rosero, R.', 'Roskovec, B.', 'Ruan, X. C.', 'Shao, B. B.', 'Steiner, H.', 'Sun, G. X.', 'Sun, J. L.', 'Tang, W.', 'Taychenachev, D.', 'Themann, H.', 'Tsang, K. V.', 'Tull, C. E.', 'Tung, Y. C.', 'Viaux, N.', 'Viren, B.', 'Vorobel, V.', 'Wang, C. H.', 'Wang, M.', 'Wang, N. Y.', 'Wang, R. G.', 'Wang, W.', 'Wang, W. W.', 'Wang, X.', 'Wang, Y. F.', 'Wang, Z.', 'Wang, Z.', 'Wang, Z. M.', 'Wei, H. Y.', 'Wen, L. J.', 'Whisnant, K.', 'White, C. G.', 'Whitehead, L.', 'Wise, T.', 'Wong, H. L. H.', 'Wong, S. C. F.', 'Worcester, E.', 'Wu, Q.', 'Xia, D. M.', 'Xia, J. K.', 'Xia, X.', 'Xing, Z. Z.', 'Xu, J. Y.', 'Xu, J. L.', 'Xu, J.', 'Xu, Y.', 'Xue, T.', 'Yan, J.', 'Yang, C. G.', 'Yang, L.', 'Yang, M. S.', 'Yang, M. T.', 'Ye, M.', 'Yeh, M.', 'Yeh, Y. S.', 'Young, B. L.', 'Yu, G. Y.', 'Yu, Z. Y.', 'Zang, S. L.', 'Zhan, L.', 'Zhang, C.', 'Zhang, H. H.', 'Zhang, J. W.', 'Zhang, Q. M.', 'Zhang, Y. M.', 'Zhang, Y. X.', 'Zhang, Y. M.', 'Zhang, Z. J.', 'Zhang, Z. Y.', 'Zhang, Z. P.', 'Zhao, J.', 'Zhao, Q. W.', 'Zhao, Y. F.', 'Zhao, Y. B.', 'Zheng, L.', 'Zhong, W. L.', 'Zhou, L.', 'Zhou, N.', 'Zhuang, H. L.', 'Zou, J. H.', 'Daya Bay Collaboration'] \n",
      "\n",
      "['Adey, D.', 'An, F. P.', 'Balantekin, A. B.', 'Band, H. R.', 'Bishai, M.', 'Blyth, S.', 'Cao, D.', 'Cao, G. F.', 'Cao, J.', 'Chan, Y. L.', 'Chang, J. F.', 'Chang, Y.', 'Chen, H. S.', 'Chen, S. M.', 'Chen, Y.', 'Chen, Y. X.', 'Cheng, J.', 'Cheng, Z. K.', 'Cherwinka, J. J.', 'Chu, M. C.', 'Chukanov, A.', 'Cummings, J. P.', 'Deng, F. S.', 'Ding, Y. Y.', 'Diwan, M. V.', 'Dolgareva, M.', 'Dwyer, D. A.', 'Edwards, W. R.', 'Gonchar, M.', 'Gong, G. H.', 'Gong, H.', 'Gu, W. Q.', 'Guo, L.', 'Guo, X. H.', 'Guo, Y. H.', 'Guo, Z.', 'Hackenburg, R. W.', 'Hans, S.', 'He, M.', 'Heeger, K. M.', 'Heng, Y. K.', 'Higuera, A.', 'Hsiung, Y. B.', 'Hu, B. Z.', 'Hu, J. R.', 'Hu, T.', 'Hu, Z. J.', 'Huang, H. X.', 'Huang, X. T.', 'Huang, Y. B.', 'Huber, P.', 'Huo, W.', 'Hussain, G.', 'Jaffe, D. E.', 'Jen, K. L.', 'Ji, X. L.', 'Ji, X. P.', 'Johnson, R. A.', 'Jones, D.', 'Kang, L.', 'Kettell, S. H.', 'Koerner, L. W.', 'Kohn, S.', 'Kramer, M.', 'Langford, T. J.', 'Lebanowski, L.', 'Lee, J.', 'Lee, J. H. C.', 'Lei, R. T.', 'Leitner, R.', 'Leung, J. K. C.', 'Li, C.', 'Li, F.', 'Li, H. L.', 'Li, Q. J.', 'Li, S.', 'Li, S. C.', 'Li, S. J.', 'Li, W. D.', 'Li, X. N.', 'Li, X. Q.', 'Li, Y. F.', 'Li, Z. B.', 'Liang, H.', 'Lin, C. J.', 'Lin, G. L.', 'Lin, S.', 'Lin, S. K.', 'Lin, Y. -C.', 'Ling, J. J.', 'Link, J. M.', 'Littenberg, L.', 'Littlejohn, B. R.', 'Liu, J. C.', 'Liu, J. L.', 'Liu, Y.', 'Liu, Y. H.', 'Loh, C. W.', 'Lu, C.', 'Lu, H. Q.', 'Lu, J. S.', 'Luk, K. B.', 'Ma, X. B.', 'Ma, X. Y.', 'Ma, Y. Q.', 'Malyshkin, Y.', 'Marshall, C.', 'Martinez Caicedo, D. A.', 'McDonald, K. T.', 'McKeown, R. D.', 'Mitchell, I.', 'Mora Lepin, L.', 'Napolitano, J.', 'Naumov, D.', 'Naumova, E.', 'Ochoa-Ricoux, J. P.', 'Olshevskiy, A.', 'Pan, H. -R.', 'Park, J.', 'Patton, S.', 'Pec, V.', 'Peng, J. C.', 'Pinsky, L.', 'Pun, C. S. J.', 'Qi, F. Z.', 'Qi, M.', 'Qian, X.', 'Qiu, R. M.', 'Raper, N.', 'Ren, J.', 'Rosero, R.', 'Roskovec, B.', 'Ruan, X. C.', 'Steiner, H.', 'Sun, J. L.', 'Tang, W.', 'Taychenachev, D.', 'Treskov, K.', 'Tse, W. -H.', 'Tull, C. E.', 'Viren, B.', 'Vorobel, V.', 'Wang, C. H.', 'Wang, J.', 'Wang, M.', 'Wang, N. Y.', 'Wang, R. G.', 'Wang, W.', 'Wang, W.', 'Wang, X.', 'Wang, Y. F.', 'Wang, Z.', 'Wang, Z.', 'Wang, Z. M.', 'Wei, H. Y.', 'Wei, L. H.', 'Wen, L. J.', 'Whisnant, K.', 'White, C. G.', 'Wise, T.', 'Wong, H. L. H.', 'Wong, S. C. F.', 'Worcester, E.', 'Wu, Q.', 'Wu, W. J.', 'Xia, D. M.', 'Xing, Z. Z.', 'Xu, J. L.', 'Xue, T.', 'Yang, C. G.', 'Yang, H.', 'Yang, L.', 'Yang, M. S.', 'Yang, M. T.', 'Yang, Y. Z.', 'Ye, M.', 'Yeh, M.', 'Young, B. L.', 'Yu, H. Z.', 'Yu, Z. Y.', 'Yue, B. B.', 'Zeng, S.', 'Zhan, L.', 'Zhang, C.', 'Zhang, C. C.', 'Zhang, F. Y.', 'Zhang, H. H.', 'Zhang, J. W.', 'Zhang, Q. M.', 'Zhang, R.', 'Zhang, X. F.', 'Zhang, X. T.', 'Zhang, Y. M.', 'Zhang, Y. M.', 'Zhang, Y. X.', 'Zhang, Y. Y.', 'Zhang, Z. J.', 'Zhang, Z. P.', 'Zhang, Z. Y.', 'Zhao, J.', 'Zheng, P.', 'Zhou, L.', 'Zhuang, H. L.', 'Zou, J. H.', 'Daya Bay Collaboration'] \n",
      "\n",
      "['Tamai, A.', 'Wu, Q. S.', 'Cucchi, I.', 'Bruno, F. Y.', 'Riccò, S.', 'Kim, T. K.', 'Hoesch, M.', 'Barreteau, C.', 'Giannini, E.', 'Besnard, C.', 'Soluyanov, A. A.', 'Baumberger, F.'] \n",
      "\n",
      "['An, F. P.', 'An, Q.', 'Bai, J. Z.', 'Balantekin, A. B.', 'Band, H. R.', 'Beriguete, W.', 'Bishai, M.', 'Blyth, S.', 'Brown, R. L.', 'Cao, G. F.', 'Cao, J.', 'Carr, R.', 'Chang, J. F.', 'Chang, Y.', 'Chasman, C.', 'Chen, H. S.', 'Chen, S. J.', 'Chen, S. M.', 'Chen, X. C.', 'Chen, X. H.', 'Chen, X. S.', 'Chen, Y.', 'Cherwinka, J. J.', 'Chu, M. C.', 'Cummings, J. P.', 'Deng, Z. Y.', 'Ding, Y. Y.', 'Diwan, M. V.', 'Draeger, E.', 'Du, X. F.', 'Dwyer, D.', 'Edwards, W. R.', 'Ely, S. R.', 'Fang, S. D.', 'Fu, J. Y.', 'Fu, Z. W.', 'Ge, L. Q.', 'Gill, R. L.', 'Gonchar, M.', 'Gong, G. H.', 'Gong, H.', 'Gornushkin, Y. A.', 'Greenler, L. S.', 'Gu, W. Q.', 'Guan, M. Y.', 'Guo, X. H.', 'Hackenburg, R. W.', 'Hahn, R. L.', 'Hans, S.', 'Hao, H. F.', 'He, M.', 'He, Q.', 'He, W. S.', 'Heeger, K. M.', 'Heng, Y. K.', 'Hinrichs, P.', 'Ho, T. H.', 'Hor, Y. K.', 'Hsiung, Y. B.', 'Hu, B. Z.', 'Hu, T.', 'Hu, T.', 'Huang, H. X.', 'Huang, H. Z.', 'Huang, P. W.', 'Huang, X.', 'Huang, X. T.', 'Huber, P.', 'Jaffe, D. E.', 'Jetter, S.', 'Ji, X. L.', 'Ji, X. P.', 'Jiang, H. J.', 'Jiang, W. Q.', 'Jiao, J. B.', 'Johnson, R. A.', 'Kang, L.', 'Kettell, S. H.', 'Kramer, M.', 'Kwan, K. K.', 'Kwok, M. W.', 'Kwok, T.', 'Lai, C. Y.', 'Lai, W. C.', 'Lai, W. H.', 'Lau, K.', 'Lebanowski, L.', 'Lee, M. K. P.', 'Leitner, R.', 'Leung, J. K. C.', 'Leung, K. Y.', 'Lewis, C. A.', 'Li, F.', 'Li, G. S.', 'Li, J.', 'Li, Q. J.', 'Li, S. F.', 'Li, W. D.', 'Li, X. B.', 'Li, X. N.', 'Li, X. Q.', 'Li, Y.', 'Li, Z. B.', 'Liang, H.', 'Lin, C. J.', 'Lin, G. L.', 'Lin, S. K.', 'Lin, S. X.', 'Lin, Y. C.', 'Ling, J. J.', 'Link, J. M.', 'Littenberg, L.', 'Littlejohn, B. R.', 'Liu, B. J.', 'Liu, D. W.', 'Liu, J. C.', 'Liu, J. L.', 'Liu, S.', 'Liu, X.', 'Liu, Y. B.', 'Lu, C.', 'Lu, H. Q.', 'Luk, A.', 'Luk, K. B.', 'Luo, X. L.', 'Ma, L. H.', 'Ma, Q. M.', 'Ma, X. Y.', 'Ma, Y. Q.', 'Mayes, B.', 'McDonald, K. T.', 'McFarlane, M. C.', 'McKeown, R. D.', 'Meng, Y.', 'Mohapatra, D.', 'Nakajima, Y.', 'Napolitano, J.', 'Naumov, D.', 'Nemchenok, I.', 'Newsom, C.', 'Ngai, H. Y.', 'Ngai, W. K.', 'Nie, Y. B.', 'Ning, Z.', 'Ochoa-Ricoux, J. P.', 'Olshevski, A.', 'Pagac, A.', 'Patton, S.', 'Pec, V.', 'Peng, J. C.', 'Piilonen, L. E.', 'Pinsky, L.', 'Pun, C. S. J.', 'Qi, F. Z.', 'Qi, M.', 'Qian, X.', 'Rosero, R.', 'Roskovec, B.', 'Ruan, X. C.', 'Seilhan, B.', 'Shao, B. B.', 'Shih, K.', 'Steiner, H.', 'Stoler, P.', 'Sun, G. X.', 'Sun, J. L.', 'Sun, Y. H.', 'Tanaka, H. K.', 'Tang, X.', 'Torun, Y.', 'Trentalange, S.', 'Tsai, O.', 'Tsang, K. V.', 'Tsang, R. H. M.', 'Tull, C.', 'Viren, B.', 'Vorobel, V.', 'Wang, C. H.', 'Wang, L. S.', 'Wang, L. Y.', 'Wang, M.', 'Wang, N. Y.', 'Wang, R. G.', 'Wang, W.', 'Wang, X.', 'Wang, Y. F.', 'Wang, Z.', 'Wang, Z.', 'Wang, Z. M.', 'Webber, D. M.', 'Wei, Y. D.', 'Wen, L. J.', 'Wenman, D. L.', 'Whisnant, K.', 'White, C. G.', 'Whitehead, L.', 'Wilhelmi, J.', 'Wise, T.', 'Wong, H. L. H.', 'Wong, J.', 'Wu, F. F.', 'Wu, Q.', 'Xi, J. B.', 'Xia, D. M.', 'Xiao, Q.', 'Xing, Z. Z.', 'Xu, G.', 'Xu, J.', 'Xu, J.', 'Xu, J. L.', 'Xu, Y.', 'Xue, T.', 'Yang, C. G.', 'Yang, L.', 'Ye, M.', 'Yeh, M.', 'Yeh, Y. S.', 'Young, B. L.', 'Yu, Z. Y.', 'Zhan, L.', 'Zhang, C.', 'Zhang, F. H.', 'Zhang, J. W.', 'Zhang, Q. M.', 'Zhang, S. H.', 'Zhang, Y. C.', 'Zhang, Y. H.', 'Zhang, Y. X.', 'Zhang, Z. J.', 'Zhang, Z. P.', 'Zhang, Z. Y.', 'Zhao, H.', 'Zhao, J.', 'Zhao, Q. W.', 'Zhao, Y. B.', 'Zheng, L.', 'Zhong, W. L.', 'Zhou, L.', 'Zhou, Y. Z.', 'Zhou, Z. Y.', 'Zhuang, H. L.', 'Zou, J. H.'] \n",
      "\n",
      "['Porth, Oliver', 'Chatterjee, Koushik', 'Narayan, Ramesh', 'Gammie, Charles F.', 'Mizuno, Yosuke', 'Anninos, Peter', 'Baker, John G.', 'Bugli, Matteo', 'Chan, Chi-kwan', 'Davelaar, Jordy', 'Del Zanna, Luca', 'Etienne, Zachariah B.', 'Fragile, P. Chris', 'Kelly, Bernard J.', 'Liska, Matthew', 'Markoff, Sera', 'McKinney, Jonathan C.', 'Mishra, Bhupendra', 'Noble, Scott C.', 'Olivares, Héctor', 'Prather, Ben', 'Rezzolla, Luciano', 'Ryan, Benjamin R.', 'Stone, James M.', 'Tomei, Niccolò', 'White, Christopher J.', 'Younsi, Ziri', 'Akiyama, Kazunori', 'Alberdi, Antxon', 'Alef, Walter', 'Asada, Keiichi', 'Azulay, Rebecca', 'Baczko, Anne-Kathrin', 'Ball, David', 'Baloković, Mislav', 'Barrett, John', 'Bintley, Dan', 'Blackburn, Lindy', 'Boland, Wilfred', 'Bouman, Katherine L.', 'Bower, Geoffrey C.', 'Bremer, Michael', 'Brinkerink, Christiaan D.', 'Brissenden, Roger', 'Britzen, Silke', 'Broderick, Avery E.', 'Broguiere, Dominique', 'Bronzwaer, Thomas', 'Byun, Do-Young', 'Carlstrom, John E.', 'Chael, Andrew', 'Chatterjee, Shami', 'Chen, Ming-Tang', 'Chen, Yongjun', 'Cho, Ilje', 'Christian, Pierre', 'Conway, John E.', 'Cordes, James M.', 'Geoffrey', 'Crew, B.', 'Cui, Yuzhu', 'De Laurentis, Mariafelicia', 'Deane, Roger', 'Dempsey, Jessica', 'Desvignes, Gregory', 'Doeleman, Sheperd S.', 'Eatough, Ralph P.', 'Falcke, Heino', 'Fish, Vincent L.', 'Fomalont, Ed', 'Fraga-Encinas, Raquel', 'Freeman, Bill', 'Friberg, Per', 'Fromm, Christian M.', 'Gómez, José L.', 'Galison, Peter', 'García, Roberto', 'Gentaz, Olivier', 'Georgiev, Boris', 'Goddi, Ciriaco', 'Gold, Roman', 'Gu, Minfeng', 'Gurwell, Mark', 'Hada, Kazuhiro', 'Hecht, Michael H.', 'Hesper, Ronald', 'Ho, Luis C.', 'Ho, Paul', 'Honma, Mareki', 'Huang, Chih-Wei L.', 'Huang, Lei', 'Hughes, David H.', 'Ikeda, Shiro', 'Inoue, Makoto', 'Issaoun, Sara', 'James, David J.', 'Jannuzi, Buell T.', 'Janssen, Michael', 'Jeter, Britton', 'Jiang, Wu', 'Johnson, Michael D.', 'Jorstad, Svetlana', 'Jung, Taehyun', 'Karami, Mansour', 'Karuppusamy, Ramesh', 'Kawashima, Tomohisa', 'Keating, Garrett K.', 'Kettenis, Mark', 'Kim, Jae-Young', 'Kim, Junhan', 'Kim, Jongsoo', 'Kino, Motoki', 'Koay, Jun Yi', 'Patrick', 'Koch, M.', 'Koyama, Shoko', 'Kramer, Michael', 'Kramer, Carsten', 'Krichbaum, Thomas P.', 'Kuo, Cheng-Yu', 'Lauer, Tod R.', 'Lee, Sang-Sung', 'Li, Yan-Rong', 'Li, Zhiyuan', 'Lindqvist, Michael', 'Liu, Kuo', 'Liuzzo, Elisabetta', 'Lo, Wen-Ping', 'Lobanov, Andrei P.', 'Loinard, Laurent', 'Lonsdale, Colin', 'Lu, Ru-Sen', 'MacDonald, Nicholas R.', 'Mao, Jirong', 'Marrone, Daniel P.', 'Marscher, Alan P.', 'Martí-Vidal, Iván', 'Matsushita, Satoki', 'Matthews, Lynn D.', 'Medeiros, Lia', 'Menten, Karl M.', 'Mizuno, Izumi', 'Moran, James M.', 'Moriyama, Kotaro', 'Moscibrodzka, Monika', 'Müller, Cornelia', 'Nagai, Hiroshi', 'Nagar, Neil M.', 'Nakamura, Masanori', 'Narayanan, Gopal', 'Natarajan, Iniyan', 'Neri, Roberto', 'Ni, Chunchong', 'Noutsos, Aristeidis', 'Okino, Hiroki', 'Oyama, Tomoaki', 'Özel, Feryal', 'Palumbo, Daniel C. M.', 'Patel, Nimesh', 'Pen, Ue-Li', 'Pesce, Dominic W.', 'Piétu, Vincent', 'Plambeck, Richard', 'PopStefanija, Aleksandar', 'Preciado-López, Jorge A.', 'Psaltis, Dimitrios', 'Pu, Hung-Yi', 'Ramakrishnan, Venkatessh', 'Rao, Ramprasad', 'Rawlings, Mark G.', 'Raymond, Alexander W.', 'Ripperda, Bart', 'Roelofs, Freek', 'Rogers, Alan', 'Ros, Eduardo', 'Rose, Mel', 'Roshanineshat, Arash', 'Rottmann, Helge', 'Roy, Alan L.', 'Ruszczyk, Chet', 'Rygl, Kazi L. J.', 'Sánchez, Salvador', 'Sánchez-Arguelles, David', 'Sasada, Mahito', 'Savolainen, Tuomas', 'Schloerb, F. Peter', 'Schuster, Karl-Friedrich', 'Shao, Lijing', 'Shen, Zhiqiang', 'Small, Des', 'Sohn, Bong Won', 'SooHoo, Jason', 'Tazaki, Fumie', 'Tiede, Paul', 'Tilanus, Remo P. J.', 'Titus, Michael', 'Toma, Kenji', 'Torne, Pablo', 'Trent, Tyler', 'Trippe, Sascha', 'Tsuda, Shuichiro', 'van Bemmel, Ilse', 'van Langevelde, Huib Jan', 'van Rossum, Daniel R.', 'Wagner, Jan', 'Wardle, John', 'Weintroub, Jonathan', 'Wex, Norbert', 'Wharton, Robert', 'Wielgus, Maciek', 'Wong, George N.', 'Wu, Qingwen', 'Young, Ken', 'Young, André', 'Yuan, Feng', 'Yuan, Ye-Fei', 'Zensus, J. Anton', 'Zhao, Guangyao', 'Zhao, Shan-Shan', 'Zhu, Ziyan', 'Event Horizon Telescope Collaboration'] \n",
      "\n",
      "['An, F. P.', 'Balantekin, A. B.', 'Band, H. R.', 'Bishai, M.', 'Blyth, S.', 'Cao, D.', 'Cao, G. F.', 'Cao, J.', 'Chan, Y. L.', 'Chang, J. F.', 'Chang, Y.', 'Chen, H. S.', 'Chen, Q. Y.', 'Chen, S. M.', 'Chen, Y. X.', 'Chen, Y.', 'Cheng, J.', 'Cheng, Z. K.', 'Cherwinka, J. J.', 'Chu, M. C.', 'Chukanov, A.', 'Cummings, J. P.', 'Ding, Y. Y.', 'Diwan, M. V.', 'Dolgareva, M.', 'Dove, J.', 'Dwyer, D. A.', 'Edwards, W. R.', 'Gill, R.', 'Gonchar, M.', 'Gong, G. H.', 'Gong, H.', 'Grassi, M.', 'Gu, W. Q.', 'Guo, L.', 'Guo, X. H.', 'Guo, Y. H.', 'Guo, Z.', 'Hackenburg, R. W.', 'Hans, S.', 'He, M.', 'Heeger, K. M.', 'Heng, Y. K.', 'Higuera, A.', 'Hsiung, Y. B.', 'Hu, B. Z.', 'Hu, T.', 'Huang, E. C.', 'Huang, H. X.', 'Huang, X. T.', 'Huang, Y. B.', 'Huber, P.', 'Huo, W.', 'Hussain, G.', 'Jaffe, D. E.', 'Jen, K. L.', 'Ji, X. P.', 'Ji, X. L.', 'Jiao, J. B.', 'Johnson, R. A.', 'Jones, D.', 'Kang, L.', 'Kettell, S. H.', 'Khan, A.', 'Kohn, S.', 'Kramer, M.', 'Kwan, K. K.', 'Kwok, M. W.', 'Langford, T. J.', 'Lau, K.', 'Lebanowski, L.', 'Lee, J.', 'Lee, J. H. C.', 'Lei, R. T.', 'Leitner, R.', 'Leung, J. K. C.', 'Li, C.', 'Li, D. J.', 'Li, F.', 'Li, G. S.', 'Li, Q. J.', 'Li, S.', 'Li, S. C.', 'Li, W. D.', 'Li, X. N.', 'Li, X. Q.', 'Li, Y. F.', 'Li, Z. B.', 'Liang, H.', 'Lin, C. J.', 'Lin, G. L.', 'Lin, S.', 'Lin, S. K.', 'Lin, Y. -C.', 'Ling, J. J.', 'Link, J. M.', 'Littenberg, L.', 'Littlejohn, B. R.', 'Liu, J. L.', 'Liu, J. C.', 'Loh, C. W.', 'Lu, C.', 'Lu, H. Q.', 'Lu, J. S.', 'Luk, K. B.', 'Ma, X. Y.', 'Ma, X. B.', 'Ma, Y. Q.', 'Malyshkin, Y.', 'Martinez Caicedo, D. A.', 'McDonald, K. T.', 'McKeown, R. D.', 'Mitchell, I.', 'Nakajima, Y.', 'Napolitano, J.', 'Naumov, D.', 'Naumova, E.', 'Ngai, H. Y.', 'Ochoa-Ricoux, J. P.', 'Olshevskiy, A.', 'Pan, H. -R.', 'Park, J.', 'Patton, S.', 'Pec, V.', 'Peng, J. C.', 'Pinsky, L.', 'Pun, C. S. J.', 'Qi, F. Z.', 'Qi, M.', 'Qian, X.', 'Qiu, R. M.', 'Raper, N.', 'Ren, J.', 'Rosero, R.', 'Roskovec, B.', 'Ruan, X. C.', 'Steiner, H.', 'Stoler, P.', 'Sun, J. L.', 'Tang, W.', 'Taychenachev, D.', 'Treskov, K.', 'Tsang, K. V.', 'Tull, C. E.', 'Viaux, N.', 'Viren, B.', 'Vorobel, V.', 'Wang, C. H.', 'Wang, M.', 'Wang, N. Y.', 'Wang, R. G.', 'Wang, W.', 'Wang, X.', 'Wang, Y. F.', 'Wang, Z.', 'Wang, Z.', 'Wang, Z. M.', 'Wei, H. Y.', 'Wen, L. J.', 'Whisnant, K.', 'White, C. G.', 'Whitehead, L.', 'Wise, T.', 'Wong, H. L. H.', 'Wong, S. C. F.', 'Worcester, E.', 'Wu, C. -H.', 'Wu, Q.', 'Wu, W. J.', 'Xia, D. M.', 'Xia, J. K.', 'Xing, Z. Z.', 'Xu, J. L.', 'Xu, Y.', 'Xue, T.', 'Yang, C. G.', 'Yang, H.', 'Yang, L.', 'Yang, M. S.', 'Yang, M. T.', 'Yang, Y. Z.', 'Ye, M.', 'Ye, Z.', 'Yeh, M.', 'Young, B. L.', 'Yu, Z. Y.', 'Zeng, S.', 'Zhan, L.', 'Zhang, C.', 'Zhang, C. C.', 'Zhang, H. H.', 'Zhang, J. W.', 'Zhang, Q. M.', 'Zhang, R.', 'Zhang, X. T.', 'Zhang, Y. M.', 'Zhang, Y. X.', 'Zhang, Y. M.', 'Zhang, Z. J.', 'Zhang, Z. Y.', 'Zhang, Z. P.', 'Zhao, J.', 'Zhou, L.', 'Zhuang, H. L.', 'Zou, J. H.', 'Daya Bay Collaboration'] \n",
      "\n",
      "['An, F. P.', 'Balantekin, A. B.', 'Band, H. R.', 'Bishai, M.', 'Blyth, S.', 'Cao, D.', 'Cao, G. F.', 'Cao, J.', 'Cen, W. R.', 'Chan, Y. L.', 'Chang, J. F.', 'Chang, L. C.', 'Chang, Y.', 'Chen, H. S.', 'Chen, Q. Y.', 'Chen, S. M.', 'Chen, Y. X.', 'Chen, Y.', 'Cheng, J. -H.', 'Cheng, J.', 'Cheng, Y. P.', 'Cheng, Z. K.', 'Cherwinka, J. J.', 'Chu, M. C.', 'Chukanov, A.', 'Cummings, J. P.', 'de Arcos, J.', 'Deng, Z. Y.', 'Ding, X. F.', 'Ding, Y. Y.', 'Diwan, M. V.', 'Dolgareva, M.', 'Dove, J.', 'Dwyer, D. A.', 'Edwards, W. R.', 'Gill, R.', 'Gonchar, M.', 'Gong, G. H.', 'Gong, H.', 'Grassi, M.', 'Gu, W. Q.', 'Guan, M. Y.', 'Guo, L.', 'Guo, R. P.', 'Guo, X. H.', 'Guo, Z.', 'Hackenburg, R. W.', 'Han, R.', 'Hans, S.', 'He, M.', 'Heeger, K. M.', 'Heng, Y. K.', 'Higuera, A.', 'Hor, Y. K.', 'Hsiung, Y. B.', 'Hu, B. Z.', 'Hu, T.', 'Hu, W.', 'Huang, E. C.', 'Huang, H. X.', 'Huang, X. T.', 'Huber, P.', 'Huo, W.', 'Hussain, G.', 'Jaffe, D. E.', 'Jaffke, P.', 'Jen, K. L.', 'Jetter, S.', 'Ji, X. P.', 'Ji, X. L.', 'Jiao, J. B.', 'Johnson, R. A.', 'Jones, D.', 'Joshi, J.', 'Kang, L.', 'Kettell, S. H.', 'Kohn, S.', 'Kramer, M.', 'Kwan, K. K.', 'Kwok, M. W.', 'Kwok, T.', 'Langford, T. J.', 'Lau, K.', 'Lebanowski, L.', 'Lee, J.', 'Lee, J. H. C.', 'Lei, R. T.', 'Leitner, R.', 'Li, C.', 'Li, D. J.', 'Li, F.', 'Li, G. S.', 'Li, Q. J.', 'Li, S.', 'Li, S. C.', 'Li, W. D.', 'Li, X. N.', 'Li, Y. F.', 'Li, Z. B.', 'Liang, H.', 'Lin, C. J.', 'Lin, G. L.', 'Lin, S.', 'Lin, S. K.', 'Lin, Y. -C.', 'Ling, J. J.', 'Link, J. M.', 'Littenberg, L.', 'Littlejohn, B. R.', 'Liu, D. W.', 'Liu, J. L.', 'Liu, J. C.', 'Loh, C. W.', 'Lu, C.', 'Lu, H. Q.', 'Lu, J. S.', 'Luk, K. B.', 'Lv, Z.', 'Ma, Q. M.', 'Ma, X. Y.', 'Ma, X. B.', 'Ma, Y. Q.', 'Malyshkin, Y.', 'Martinez Caicedo, D. A.', 'McDonald, K. T.', 'McKeown, R. D.', 'Mitchell, I.', 'Mooney, M.', 'Nakajima, Y.', 'Napolitano, J.', 'Naumov, D.', 'Naumova, E.', 'Ngai, H. Y.', 'Ning, Z.', 'Ochoa-Ricoux, J. P.', 'Olshevskiy, A.', 'Pan, H. -R.', 'Park, J.', 'Patton, S.', 'Pec, V.', 'Peng, J. C.', 'Pinsky, L.', 'Pun, C. S. J.', 'Qi, F. Z.', 'Qi, M.', 'Qian, X.', 'Raper, N.', 'Ren, J.', 'Rosero, R.', 'Roskovec, B.', 'Ruan, X. C.', 'Steiner, H.', 'Sun, G. X.', 'Sun, J. L.', 'Tang, W.', 'Taychenachev, D.', 'Treskov, K.', 'Tsang, K. V.', 'Tull, C. E.', 'Viaux, N.', 'Viren, B.', 'Vorobel, V.', 'Wang, C. H.', 'Wang, M.', 'Wang, N. Y.', 'Wang, R. G.', 'Wang, W.', 'Wang, X.', 'Wang, Y. F.', 'Wang, Z.', 'Wang, Z.', 'Wang, Z. M.', 'Wei, H. Y.', 'Wen, L. J.', 'Whisnant, K.', 'White, C. G.', 'Whitehead, L.', 'Wise, T.', 'Wong, H. L. H.', 'Wong, S. C. F.', 'Worcester, E.', 'Wu, C. -H.', 'Wu, Q.', 'Wu, W. J.', 'Xia, D. M.', 'Xia, J. K.', 'Xing, Z. Z.', 'Xu, J. Y.', 'Xu, J. L.', 'Xu, Y.', 'Xue, T.', 'Yang, C. G.', 'Yang, H.', 'Yang, L.', 'Yang, M. S.', 'Yang, M. T.', 'Ye, M.', 'Ye, Z.', 'Yeh, M.', 'Young, B. L.', 'Yu, Z. Y.', 'Zeng, S.', 'Zhan, L.', 'Zhang, C.', 'Zhang, H. H.', 'Zhang, J. W.', 'Zhang, Q. M.', 'Zhang, X. T.', 'Zhang, Y. M.', 'Zhang, Y. X.', 'Zhang, Y. M.', 'Zhang, Z. J.', 'Zhang, Z. Y.', 'Zhang, Z. P.', 'Zhao, J.', 'Zhao, Q. W.', 'Zhao, Y. B.', 'Zhong, W. L.', 'Zhou, L.', 'Zhou, N.', 'Zhuang, H. L.', 'Zou, J. H.', 'Daya Bay Collaboration'] \n",
      "\n",
      "['Bakker, H. J.', 'Cho, G. C.', 'Kurz, H.', 'Wu, Q.', 'Zhang, X. -C.'] \n",
      "\n",
      "['Killeen, T. L.', 'Wu, Q.', 'Solomon, S. C.', 'Ortland, D. A.', 'Skinner, W. R.', 'Niciejewski, R. J.', 'Gell, D. A.'] \n",
      "\n",
      "['Wu, Qingwen', 'Gu, Minfeng'] \n",
      "\n",
      "['An, F. P.', 'Balantekin, A. B.', 'Band, H. R.', 'Beriguete, W.', 'Bishai, M.', 'Blyth, S.', 'Butorov, I.', 'Cao, G. F.', 'Cao, J.', 'Chan, Y. L.', 'Chang, J. F.', 'Chang, L. C.', 'Chang, Y.', 'Chasman, C.', 'Chen, H.', 'Chen, Q. Y.', 'Chen, S. M.', 'Chen, X.', 'Chen, X.', 'Chen, Y. X.', 'Chen, Y.', 'Cheng, Y. P.', 'Cherwinka, J. J.', 'Chu, M. C.', 'Cummings, J. P.', 'de Arcos, J.', 'Deng, Z. Y.', 'Ding, Y. Y.', 'Diwan, M. V.', 'Draeger, E.', 'Du, X. F.', 'Dwyer, D. A.', 'Edwards, W. R.', 'Ely, S. R.', 'Fu, J. Y.', 'Ge, L. Q.', 'Gill, R.', 'Gonchar, M.', 'Gong, G. H.', 'Gong, H.', 'Grassi, M.', 'Gu, W. Q.', 'Guan, M. Y.', 'Guo, X. H.', 'Hackenburg, R. W.', 'Han, G. H.', 'Hans, S.', 'He, M.', 'Heeger, K. M.', 'Heng, Y. K.', 'Hinrichs, P.', 'Hor, Y. K.', 'Hsiung, Y. B.', 'Hu, B. Z.', 'Hu, L. M.', 'Hu, L. J.', 'Hu, T.', 'Hu, W.', 'Huang, E. C.', 'Huang, H.', 'Huang, X. T.', 'Huber, P.', 'Hussain, G.', 'Isvan, Z.', 'Jaffe, D. E.', 'Jaffke, P.', 'Jen, K. L.', 'Jetter, S.', 'Ji, X. P.', 'Ji, X. L.', 'Jiang, H. J.', 'Jiao, J. B.', 'Johnson, R. A.', 'Kang, L.', 'Kettell, S. H.', 'Kramer, M.', 'Kwan, K. K.', 'Kwok, M. W.', 'Kwok, T.', 'Lai, W. C.', 'Lau, K.', 'Lebanowski, L.', 'Lee, J.', 'Lei, R. T.', 'Leitner, R.', 'Leung, A.', 'Leung, J. K. C.', 'Lewis, C. A.', 'Li, D. J.', 'Li, F.', 'Li, G. S.', 'Li, Q. J.', 'Li, W. D.', 'Li, X. N.', 'Li, X. Q.', 'Li, Y. F.', 'Li, Z. B.', 'Liang, H.', 'Lin, C. J.', 'Lin, G. L.', 'Lin, P. Y.', 'Lin, S. K.', 'Lin, Y. C.', 'Ling, J. J.', 'Link, J. M.', 'Littenberg, L.', 'Littlejohn, B. R.', 'Liu, D. W.', 'Liu, H.', 'Liu, J. L.', 'Liu, J. C.', 'Liu, S. S.', 'Liu, Y. B.', 'Lu, C.', 'Lu, H. Q.', 'Luk, K. B.', 'Ma, Q. M.', 'Ma, X. Y.', 'Ma, X. B.', 'Ma, Y. Q.', 'McDonald, K. T.', 'McFarlane, M. C.', 'McKeown, R. D.', 'Meng, Y.', 'Mitchell, I.', 'Monari Kebwaro, J.', 'Nakajima, Y.', 'Napolitano, J.', 'Naumov, D.', 'Naumova, E.', 'Nemchenok, I.', 'Ngai, H. Y.', 'Ning, Z.', 'Ochoa-Ricoux, J. P.', 'Olshevski, A.', 'Patton, S.', 'Pec, V.', 'Peng, J. C.', 'Piilonen, L. E.', 'Pinsky, L.', 'Pun, C. S. J.', 'Qi, F. Z.', 'Qi, M.', 'Qian, X.', 'Raper, N.', 'Ren, B.', 'Ren, J.', 'Rosero, R.', 'Roskovec, B.', 'Ruan, X. C.', 'Shao, B. B.', 'Steiner, H.', 'Sun, G. X.', 'Sun, J. L.', 'Tam, Y. H.', 'Tang, X.', 'Themann, H.', 'Tsang, K. V.', 'Tsang, R. H. M.', 'Tull, C. E.', 'Tung, Y. C.', 'Viren, B.', 'Vorobel, V.', 'Wang, C. H.', 'Wang, L. S.', 'Wang, L. Y.', 'Wang, M.', 'Wang, N. Y.', 'Wang, R. G.', 'Wang, W.', 'Wang, W. W.', 'Wang, X.', 'Wang, Y. F.', 'Wang, Z.', 'Wang, Z.', 'Wang, Z. M.', 'Webber, D. M.', 'Wei, H. Y.', 'Wei, Y. D.', 'Wen, L. J.', 'Whisnant, K.', 'White, C. G.', 'Whitehead, L.', 'Wise, T.', 'Wong, H. L. H.', 'Wong, S. C. F.', 'Worcester, E.', 'Wu, Q.', 'Xia, D. M.', 'Xia, J. K.', 'Xia, X.', 'Xing, Z. Z.', 'Xu, J. Y.', 'Xu, J. L.', 'Xu, J.', 'Xu, Y.', 'Xue, T.', 'Yan, J.', 'Yang, C. C.', 'Yang, L.', 'Yang, M. S.', 'Yang, M. T.', 'Ye, M.', 'Yeh, M.', 'Yeh, Y. S.', 'Young, B. L.', 'Yu, G. Y.', 'Yu, J. Y.', 'Yu, Z. Y.', 'Zang, S. L.', 'Zeng, B.', 'Zhan, L.', 'Zhang, C.', 'Zhang, F. H.', 'Zhang, J. W.', 'Zhang, Q. M.', 'Zhang, Q.', 'Zhang, S. H.', 'Zhang, Y. C.', 'Zhang, Y. M.', 'Zhang, Y. H.', 'Zhang, Y. X.', 'Zhang, Z. J.', 'Zhang, Z. Y.', 'Zhang, Z. P.', 'Zhao, J.', 'Zhao, Q. W.', 'Zhao, Y.', 'Zhao, Y. B.', 'Zheng, L.', 'Zhong, W. L.', 'Zhou, L.', 'Zhou, Z. Y.', 'Zhuang, H. L.', 'Zou, J. H.', 'Daya Bay Collaboration'] \n",
      "\n",
      "['Peng, L. -M.', 'Zhang, Z. L.', 'Xue, Z. Q.', 'Wu, Q. D.', 'Gu, Z. N.', 'Pettifor, D. G.'] \n",
      "\n",
      "['Aschenauer, E. C.', 'Baker, M. D.', 'Bazilevsky, A.', 'Boyle, K.', 'Belomestnykh, S.', 'Ben-Zvi, I.', 'Brooks, S.', 'Brutus, C.', 'Burton, T.', 'Fazio, S.', 'Fedotov, A.', 'Gassner, D.', 'Hao, Y.', 'Jing, Y.', 'Kayran, D.', 'Kiselev, A.', 'Lamont, M. A. C.', 'Lee, J. -H.', 'Litvinenko, V. N.', 'Liu, C.', 'Ludlam, T.', 'Mahler, G.', 'McIntyre, G.', 'Meng, W.', 'Meot, F.', 'Miller, T.', 'Minty, M.', 'Parker, B.', 'Petti, R.', 'Pinayev, I.', 'Ptitsyn, V.', 'Roser, T.', 'Stratmann, M.', 'Sichtermann, E.', 'Skaritka, J.', 'Tchoubar, O.', 'Thieberger, P.', 'Toll, T.', 'Trbojevic, D.', 'Tsoupas, N.', 'Tuozzolo, J.', 'Ullrich, T.', 'Wang, E.', 'Wang, G.', 'Wu, Q.', 'Xu, W.', 'Zheng, L.'] \n",
      "\n",
      "['Lü, Jing', 'Zou, Yuan-Chuan', 'Lei, Wei-Hua', 'Zhang, Bing', 'Wu, Qingwen', 'Wang, Ding-Xiong', 'Liang, En-Wei', 'Lü, Hou-Jun'] \n",
      "\n",
      "['Xu, W.', 'Luo, X. S.', 'Pan, Y. P.', 'Zhang, L.', 'Tang, A. H.', 'Shen, J. L.', 'Zhang, Y.', 'Li, K. H.', 'Wu, Q. H.', 'Yang, D. W.', 'Zhang, Y. Y.', 'Xue, J.', 'Li, W. Q.', 'Li, Q. Q.', 'Tang, L.', 'Lu, S. H.', 'Liang, T.', 'Tong, Y. A.', 'Liu, P.', 'Zhang, Q.', 'Xiong, Z. Q.', 'Shi, X. J.', 'Wu, L. H.', 'Shi, W. Q.', 'Tian, K.', 'Zhong, X. H.', 'Shi, K.', 'Tang, Q. Y.', 'Zhang, L. J.', 'Huang, J. L.', 'He, C. E.', 'Kuang, F. H.', 'Zhu, B.', 'Liu, H.', 'Jin, X.', 'Xin, Y. J.', 'Shi, X. K.', 'Du, E. Z.', 'Dore, A. J.', 'Tang, S.', 'Collett, J. L., Jr.', 'Goulding, K.', 'Sun, Y. X.', 'Ren, J.', 'Zhang, F. S.', 'Liu, X. J.'] \n",
      "\n",
      "['Morton, D. C.', 'Wu, Q. X.', 'Drake, G. W. F.'] \n",
      "\n",
      "['Wu, R. Q.', 'Peng, G. W.', 'Liu, L.', 'Feng, Y. P.', 'Huang, Z. G.', 'Wu, Q. Y.'] \n",
      "\n",
      "['Grimmer, J. C.', 'Jonckheere, R.', 'Enkelmann, E.', 'Ratschbacher, L.', 'Hacker, B. R.', 'Blythe, A. E.', 'Wagner, G. A.', 'Wu, Q.', 'Liu, S.', 'Dong, S.'] \n",
      "\n",
      "['Cai, Y.', 'Brener, I.', 'Lopata, J.', 'Wynn, J.', 'Pfeiffer, L.', 'Stark, J. B.', 'Wu, Q.', 'Zhang, X. C.', 'Federici, J. F.'] \n",
      "\n",
      "['Wu, Q.', 'Ortland, D. A.', 'Killeen, T. L.', 'Roble, R. G.', 'Hagan, M. E.', 'Liu, H. -L.', 'Solomon, S. C.', 'Xu, Jiyao', 'Skinner, W. R.', 'Niciejewski, R. J.'] \n",
      "\n",
      "['Lee, J. H.', 'Blair, J.', 'Tamma, V. A.', 'Wu, Q.', 'Rhee, S. J.', 'Summers, C. J.', 'Park, W.'] \n",
      "\n",
      "['An, F. P.', 'Bai, J. Z.', 'Balantekin, A. B.', 'Band, H. R.', 'Beavis, D.', 'Beriguete, W.', 'Bishai, M.', 'Blyth, S.', 'Brown, R. L.', 'Butorov, I.', 'Cao, D.', 'Cao, G. F.', 'Cao, J.', 'Carr, R.', 'Cen, W. R.', 'Chan, W. T.', 'Chan, Y. L.', 'Chang, J. F.', 'Chang, L. C.', 'Chang, Y.', 'Chasman, C.', 'Chen, H. Y.', 'Chen, H. S.', 'Chen, M. J.', 'Chen, Q. Y.', 'Chen, S. J.', 'Chen, S. M.', 'Chen, X. C.', 'Chen, X. H.', 'Chen, X. S.', 'Chen, Y. X.', 'Chen, Y.', 'Cheng, J. H.', 'Cheng, J.', 'Cheng, Y. P.', 'Cherwinka, J. J.', 'Chidzik, S.', 'Chow, K.', 'Chu, M. C.', 'Cummings, J. P.', 'de Arcos, J.', 'Deng, Z. Y.', 'Ding, X. F.', 'Ding, Y. Y.', 'Diwan, M. V.', 'Dong, L.', 'Dove, J.', 'Draeger, E.', 'Du, X. F.', 'Dwyer, D. A.', 'Edwards, W. R.', 'Ely, S. R.', 'Fang, S. D.', 'Fu, J. Y.', 'Fu, Z. W.', 'Ge, L. Q.', 'Ghazikhanian, V.', 'Gill, R.', 'Goett, J.', 'Gonchar, M.', 'Gong, G. H.', 'Gong, H.', 'Gornushkin, Y. A.', 'Grassi, M.', 'Greenler, L. S.', 'Gu, W. Q.', 'Guan, M. Y.', 'Guo, R. P.', 'Guo, X. H.', 'Hackenburg, R. W.', 'Hahn, R. L.', 'Han, R.', 'Hans, S.', 'He, M.', 'He, Q.', 'He, W. S.', 'Heeger, K. M.', 'Heng, Y. K.', 'Higuera, A.', 'Hinrichs, P.', 'Ho, T. H.', 'Hoff, M.', 'Hor, Y. K.', 'Hsiung, Y. B.', 'Hu, B. Z.', 'Hu, L. M.', 'Hu, L. J.', 'Hu, T.', 'Hu, W.', 'Huang, E. C.', 'Huang, H. Z.', 'Huang, H. X.', 'Huang, P. W.', 'Huang, X.', 'Huang, X. T.', 'Huber, P.', 'Hussain, G.', 'Isvan, Z.', 'Jaffe, D. E.', 'Jaffke, P.', 'Jen, K. L.', 'Jetter, S.', 'Ji, X. P.', 'Ji, X. L.', 'Jiang, H. J.', 'Jiang, W. Q.', 'Jiao, J. B.', 'Johnson, R. A.', 'Joseph, J.', 'Kang, L.', 'Kettell, S. H.', 'Kohn, S.', 'Kramer, M.', 'Kwan, K. K.', 'Kwok, M. W.', 'Kwok, T.', 'Lai, C. Y.', 'Lai, W. C.', 'Lai, W. H.', 'Langford, T. J.', 'Lau, K.', 'Lebanowski, L.', 'Lee, J.', 'Lee, M. K. P.', 'Lei, R. T.', 'Leitner, R.', 'Leung, J. K. C.', 'Lewis, C. A.', 'Li, B.', 'Li, C.', 'Li, D. J.', 'Li, F.', 'Li, G. S.', 'Li, J.', 'Li, N. Y.', 'Li, Q. J.', 'Li, S. F.', 'Li, S. C.', 'Li, W. D.', 'Li, X. B.', 'Li, X. N.', 'Li, X. Q.', 'Li, Y.', 'Li, Y. F.', 'Li, Z. B.', 'Liang, H.', 'Liang, J.', 'Lin, C. J.', 'Lin, G. L.', 'Lin, P. Y.', 'Lin, S. X.', 'Lin, S. K.', 'Lin, Y. C.', 'Ling, J. J.', 'Link, J. M.', 'Littenberg, L.', 'Littlejohn, B. R.', 'Liu, B. J.', 'Liu, C.', 'Liu, D. W.', 'Liu, H.', 'Liu, J. L.', 'Liu, J. C.', 'Liu, S.', 'Liu, S. S.', 'Liu, X.', 'Liu, Y. B.', 'Lu, C.', 'Lu, H. Q.', 'Lu, J. S.', 'Luk, A.', 'Luk, K. B.', 'Luo, T.', 'Luo, X. L.', 'Ma, L. H.', 'Ma, Q. M.', 'Ma, X. Y.', 'Ma, X. B.', 'Ma, Y. Q.', 'Mayes, B.', 'McDonald, K. T.', 'McFarlane, M. C.', 'McKeown, R. D.', 'Meng, Y.', 'Mitchell, I.', 'Mohapatra, D.', 'Monari Kebwaro, J.', 'Morgan, J. E.', 'Nakajima, Y.', 'Napolitano, J.', 'Naumov, D.', 'Naumova, E.', 'Newsom, C.', 'Ngai, H. Y.', 'Ngai, W. K.', 'Nie, Y. B.', 'Ning, Z.', 'Ochoa-Ricoux, J. P.', 'Olshevskiy, A.', 'Pagac, A.', 'Pan, H. -R.', 'Patton, S.', 'Pearson, C.', 'Pec, V.', 'Peng, J. C.', 'Piilonen, L. E.', 'Pinsky, L.', 'Pun, C. S. J.', 'Qi, F. Z.', 'Qi, M.', 'Qian, X.', 'Raper, N.', 'Ren, B.', 'Ren, J.', 'Rosero, R.', 'Roskovec, B.', 'Ruan, X. C.', 'Sands, W. R.', 'Seilhan, B.', 'Shao, B. B.', 'Shih, K.', 'Song, W. Y.', 'Steiner, H.', 'Stoler, P.', 'Stuart, M.', 'Sun, G. X.', 'Sun, J. L.', 'Tagg, N.', 'Tam, Y. H.', 'Tanaka, H. K.', 'Tang, W.', 'Tang, X.', 'Taychenachev, D.', 'Themann, H.', 'Torun, Y.', 'Trentalange, S.', 'Tsai, O.', 'Tsang, K. V.', 'Tsang, R. H. M.', 'Tull, C. E.', 'Tung, Y. C.', 'Viaux, N.', 'Viren, B.', 'Virostek, S.', 'Vorobel, V.', 'Wang, C. H.', 'Wang, L. S.', 'Wang, L. Y.', 'Wang, L. Z.', 'Wang, M.', 'Wang, N. Y.', 'Wang, R. G.', 'Wang, T.', 'Wang, W.', 'Wang, W. W.', 'Wang, X. T.', 'Wang, X.', 'Wang, Y. F.', 'Wang, Z.', 'Wang, Z.', 'Wang, Z. M.', 'Webber, D. M.', 'Wei, H. Y.', 'Wei, Y. D.', 'Wen, L. J.', 'Wenman, D. L.', 'Whisnant, K.', 'White, C. G.', 'Whitehead, L.', 'Whitten, C. A.', 'Wilhelmi, J.', 'Wise, T.', 'Wong, H. C.', 'Wong, H. L. H.', 'Wong, J.', 'Wong, S. C. F.', 'Worcester, E.', 'Wu, F. F.', 'Wu, Q.', 'Xia, D. M.', 'Xia, J. K.', 'Xiang, S. T.', 'Xiao, Q.', 'Xing, Z. Z.', 'Xu, G.', 'Xu, J. Y.', 'Xu, J. L.', 'Xu, J.', 'Xu, W.', 'Xu, Y.', 'Xue, T.', 'Yan, J.', 'Yang, C. G.', 'Yang, L.', 'Yang, M. S.', 'Yang, M. T.', 'Ye, M.', 'Yeh, M.', 'Yeh, Y. S.', 'Yip, K.', 'Young, B. L.', 'Yu, G. Y.', 'Yu, Z. Y.', 'Zeng, S.', 'Zhan, L.', 'Zhang, C.', 'Zhang, F. H.', 'Zhang, H. H.', 'Zhang, J. W.', 'Zhang, K.', 'Zhang, Q. X.', 'Zhang, Q. M.', 'Zhang, S. H.', 'Zhang, X. T.', 'Zhang, Y. C.', 'Zhang, Y. H.', 'Zhang, Y. M.', 'Zhang, Y. X.', 'Zhang, Y. M.', 'Zhang, Z. J.', 'Zhang, Z. Y.', 'Zhang, Z. P.', 'Zhao, J.', 'Zhao, Q. W.', 'Zhao, Y. F.', 'Zhao, Y. B.', 'Zheng, L.', 'Zhong, W. L.', 'Zhou, L.', 'Zhou, N.', 'Zhou, Z. Y.', 'Zhuang, H. L.', 'Zimmerman, S.', 'Zou, J. H.'] \n",
      "\n"
     ]
    }
   ],
   "source": [
    "for p in peoples:\n",
    "    print(p.author,'\\n')"
   ]
  },
  {
   "cell_type": "code",
   "execution_count": null,
   "metadata": {
    "collapsed": true
   },
   "outputs": [],
   "source": []
  },
  {
   "cell_type": "code",
   "execution_count": null,
   "metadata": {
    "collapsed": true
   },
   "outputs": [],
   "source": []
  },
  {
   "cell_type": "markdown",
   "metadata": {},
   "source": [
    "# WISE"
   ]
  },
  {
   "cell_type": "code",
   "execution_count": 67,
   "metadata": {
    "ExecuteTime": {
     "end_time": "2021-08-28T08:35:27.434005Z",
     "start_time": "2021-08-28T08:35:23.620183Z"
    },
    "scrolled": true
   },
   "outputs": [
    {
     "data": {
      "text/plain": [
       "{'allwise_p3as_psd': 'AllWISE Source Catalog',\n",
       " 'allwise_p3as_mep': 'AllWISE Multiepoch Photometry Table',\n",
       " 'allwise_p3as_psr': 'AllWISE Reject Table',\n",
       " 'allwise_p3as_cdd': 'AllWISE Atlas Metadata Table',\n",
       " 'allwise_p3am_xrf': 'AllWISE Frame Cross-Reference Table',\n",
       " 'allwise_p3al_lod': 'AllWISE Atlas Inventory Table',\n",
       " 'allwise_p3am_cdd': 'AllWISE Atlas Image Inventory Table',\n",
       " 'allwise_mfpos': 'AllWISE Refined Pointing Information for the Single-exposure Images',\n",
       " 'neowiser_p1bs_psd': 'NEOWISE-R Single Exposure (L1b) Source Table',\n",
       " 'neowiser_p1ba_mch': 'NEOWISE-R Known Solar System Object Possible Association List ( Caution )',\n",
       " 'neowiser_p1bs_frm': 'NEOWISE-R Single Exposure (L1b) Frame Metadata Table',\n",
       " 'neowiser_p1bl_lod': 'NEOWISE-R Single Exposure (L1b) Scan Inventory Table',\n",
       " 'neowiser_p1bm_frm': 'NEOWISE-R Single Exposure (L1b) Image Inventory Table',\n",
       " 'allsky_4band_p3as_psd': 'WISE All-Sky Source Catalog',\n",
       " 'allsky_4band_p1bs_psd': 'WISE All-Sky Single Exposure (L1b) Source Table',\n",
       " 'allsky_4band_p1ba_mch': 'WISE All-Sky Known Solar System Object Possible Association List ( Caution )',\n",
       " 'allsky_4band_p3as_psr': 'WISE All-Sky Reject Table',\n",
       " 'allsky_4band_p3as_cdd': 'WISE All-Sky Atlas Metadata Table',\n",
       " 'allsky_4band_p3am_xrf': 'WISE All-Sky Frame Cross-Reference Table',\n",
       " 'allsky_4band_p1bs_frm': 'WISE All-Sky Single Exposure (L1b) Frame Metadata Table',\n",
       " 'allsky_4band_p1bl_lod': 'WISE All-Sky Single Exposure (L1b) Scan Inventory Table',\n",
       " 'allsky_4band_p3al_lod': 'WISE All-Sky Atlas Inventory Table',\n",
       " 'allsky_4band_p1bm_frm': 'WISE All-Sky Single Exposure (L1b) Image Inventory Table',\n",
       " 'allsky_4band_p3am_cdd': 'WISE All-Sky Atlas Image Inventory Table',\n",
       " 'allsky_3band_p3as_psd': 'WISE 3-Band Cryo Source Working Database ( Readme)',\n",
       " 'allsky_3band_p1bs_psd': 'WISE 3-Band Cryo Single Exposure (L1b) Source Table',\n",
       " 'allsky_3band_p1ba_mch': 'WISE 3-Band Cryo Known Solar System Object Possible Association List ( Caution )',\n",
       " 'allsky_3band_p3as_cdd': 'WISE 3-Band Cryo Atlas Metadata Table',\n",
       " 'allsky_3band_p3am_xrf': 'WISE 3-Band Cryo Frame Cross-Reference Table',\n",
       " 'allsky_3band_p1bs_frm': 'WISE 3-Band Cryo Single Exposure (L1b) Frame Metadata Table',\n",
       " 'allsky_3band_p1bl_lod': 'WISE 3-Band Cryo Single Exposure (L1b) Scan Inventory Table',\n",
       " 'allsky_3band_p3al_lod': 'WISE 3-Band Cryo Atlas Inventory Table',\n",
       " 'allsky_3band_p1bm_frm': 'WISE 3-Band Cryo Single Exposure (L1b) Image Inventory Table',\n",
       " 'allsky_3band_p3am_cdd': 'WISE 3-Band Cryo Atlas Image Inventory Table',\n",
       " 'allsky_2band_p1bs_psd': 'WISE Post-Cryo Single Exposure (L1b) Source Table',\n",
       " 'allsky_2band_p1bs_frm': 'WISE Post-Cryo Single Exposure (L1b) Frame Metadata Table',\n",
       " 'allsky_2band_p1ba_mch': 'WISE Post-Cryo Single Exposure (L1b) Known SSO Possible Association List ( Caution )',\n",
       " 'allsky_2band_p1bl_lod': 'WISE Post-Cryo Single Exposure (L1b) Scan Inventory Table',\n",
       " 'allsky_2band_p1bm_frm': 'WISE Post-Cryo Single Exposure (L1b) Image Inventory Table',\n",
       " 'catwise_2020': 'CatWISE2020 Catalog',\n",
       " 'catwise_2020_reject': 'CatWISE2020 Reject Table',\n",
       " 'catwise_prelim': 'CatWISE Preliminary Catalog',\n",
       " 'catwise_prelim_reject': 'CatWISE Preliminary Reject Table',\n",
       " 'unwise_2019': 'unWISE Catalog',\n",
       " 'neowisesbpropv2': 'NEOWISE Derived Diameters and Albedos of Solar System Small Bodies Catalog v2',\n",
       " 'prelim_2band_p1bs_psd': 'WISE Preliminary Post-Cryo Single Exposure (L1b)  Source Table (Superseded)',\n",
       " 'prelim_2band_p1ba_mch': 'WISE Preliminary Post-Cryo Solar System Object Possible Association List ( Caution , Superseded)',\n",
       " 'prelim_2band_p1bs_frm': 'WISE Preliminary Post-Cryo Single Exposure (L1b) Frame Metadata Table (Superseded)',\n",
       " 'prelim_2band_p1bl_lod': 'WISE Preliminary Post-Cryo Single Exposure (L1b) Scan Inventory Table (Superseded)',\n",
       " 'prelim_2band_p1bm_frm': 'WISE Preliminary Post-Cryo Single Exposure (L1b) Image Inventory Table (Superseded)',\n",
       " 'prelim_p3as_psd': 'WISE Preliminary Release Source Catalog (Superseded)',\n",
       " 'prelim_p1bs_psd': 'WISE Preliminary Release Single Exposure (L1b) Source Table (Superseded)',\n",
       " 'prelim_p1ba_mch': 'WISE Preliminary Release Known Solar System Object Possible Association List ( Caution , Superseded)',\n",
       " 'prelim_p3as_cdd': 'WISE Preliminary Release Atlas Metadata Table (Superseded)',\n",
       " 'prelim_p3am_xrf': 'WISE Preliminary Release Frame Cross-Reference Table (Superseded)',\n",
       " 'prelim_p1bs_frm': 'WISE Preliminary Release Single Exposure (L1b) Frame Metadata Table (Superseded)',\n",
       " 'prelim_p1bl_lod': 'WISE Preliminary Release Single Exposure (L1b) Scan Inventory Table (Superseded)',\n",
       " 'prelim_p3al_lod': 'WISE Preliminary Release Atlas Inventory Table (Superseded)',\n",
       " 'prelim_p1bm_frm': 'WISE Preliminary Release Single Exposure (L1b) Image Inventory Table (Superseded)',\n",
       " 'prelim_p3am_cdd': 'WISE Preliminary Release Atlas Image Inventory Table (Superseded)',\n",
       " 'fp_psc': '2MASS All-Sky Point Source Catalog (PSC)',\n",
       " 'fp_xsc': '2MASS All-Sky Extended Source Catalog (XSC)',\n",
       " 'lga_v2': 'The 2MASS Large Galaxy Atlas',\n",
       " 'fp_scan_dat': '2MASS All-Sky Survey Scan Info (Read Me!)',\n",
       " 'fp_coadd_dat': '2MASS All-Sky Survey Atlas Image Info',\n",
       " 'pt_src_rej': '2MASS Survey Point Source Reject Table',\n",
       " 'wsdb_info': '2MASS Survey Merged Point Source Information Table',\n",
       " 'wsdb_link': '2MASS Survey Merged Point Source Link Table',\n",
       " 'ext_src_rej': '2MASS Survey Extended Source Reject Table',\n",
       " 'ewsdbf_info': '2MASS Survey Merged Extended Source Information Table',\n",
       " 'ewsdbf_link': '2MASS Survey Merged Extended Source Link Table',\n",
       " 'pscan_dat': '2MASS Survey Scan Info',\n",
       " 'coadd_dat': '2MASS Survey Atlas Image Info',\n",
       " 'pt_src_6x2': '2MASS 6X w/LMC/SMC Point Source Working Database / Catalog ( Read Me! )',\n",
       " 'sixxf_info': '2MASS 6X w/LMC/SMC Merged Point Source Information Table',\n",
       " 'sixxf_link': '2MASS 6X w/LMC/SMC Merged Point Source Link Table',\n",
       " 'ext_src_6x2': '2MASS 6X w/LMC/SMC Extended Source Working Database / Catalog ( Read Me! )',\n",
       " 'esixxf_info': '2MASS 6X w/LMC/SMC Merged Extended Source Information Table',\n",
       " 'esixxf_link': '2MASS 6X w/LMC/SMC Merged Extended Source Link Table',\n",
       " 'pscan_dat_6x2': '2MASS 6X w/LMC/SMC Scan Info',\n",
       " 'coadd_dat_6x2': '2MASS 6X w/LMC/SMC Atlas Image Info',\n",
       " 'pt_src_c': '2MASS Calibration Point Source Working Database',\n",
       " 'cf_info': '2MASS Calibration Merged Point Source Information Table',\n",
       " 'cf_link': '2MASS Calibration Merged Point Source Link Table',\n",
       " 'ext_src_c': '2MASS Calibration Extended Source Working Database',\n",
       " 'ecf_info': '2MASS Calibration Merged Extended Source Information Table',\n",
       " 'ecf_link': '2MASS Calibration Merged Extended Source Link Table',\n",
       " 'pscan_dat_c': '2MASS Calibration Scan Info',\n",
       " 'coadd_dat_c': '2MASS Calibration Atlas Image Info',\n",
       " 'deepcal_src': '2MASS Combined Calibration Field Source Table',\n",
       " 'pt_src_sc': '2MASS LMC/SMC Calibration Point Source Working Database',\n",
       " 'scf_info': '2MASS LMC/SMC Calibration Merged Point Source Information Table',\n",
       " 'scf_link': '2MASS LMC/SMC Calibration Merged Point Source Link Table',\n",
       " 'ext_src_sc': '2MASS LMC/SMC Calibration Extended Source Working Database',\n",
       " 'escf_info': '2MASS LMC/SMC Calibration Merged Extended Source Information Table',\n",
       " 'escf_link': '2MASS LMC/SMC Calibration Merged Extended Source Link Table',\n",
       " 'pscan_dat_sc': '2MASS LMC/SMC Calibration Scan Info',\n",
       " 'coadd_dat_sc': '2MASS LMC/SMC Calibration Atlas Image Info',\n",
       " 'pt_src_cat': '2MASS Second Incremental Release Point Source Catalog (PSC)',\n",
       " 'ext_src_cat': '2MASS Second Incremental Release Extended Source Catalog (XSC)',\n",
       " 'scan_dat_2': '2MASS Second Incremental Release Survey Scan Info',\n",
       " 'pt_src_cat1': '2MASS First Incremental Release Point Source Catalog (PSC)',\n",
       " 'ext_src_cat1': '2MASS First Incremental Release Extended Source Catalog (XSC)',\n",
       " 'scan_dat': '2MASS First Incremental Release Survey Scan Info',\n",
       " 'pts_samp_cat': '2MASS Sampler Point Source Catalog (PSC)',\n",
       " 'exts_samp_cat': '2MASS Sampler Extended Source Catalog (XSC)',\n",
       " 'slphotdr4': 'SEIP Source List',\n",
       " 'slicovv2': 'SEIP IRAC Coverage Table',\n",
       " 'slmcovv2': 'SEIP MIPS Coverage Table',\n",
       " 'sltracev2': 'SEIP Traceback Table',\n",
       " 'irs_enhv211': 'IRS Enhanced Products',\n",
       " 'a1763t2': 'Abell 1763 Source Catalog',\n",
       " 'a1763t3': 'Abell 1763 MIPS 70 micron Catalog',\n",
       " 'dr4_clouds_full': \"C2D Fall '07 Full CLOUDS Catalog (CHA_II, LUP, OPH, PER, SER)\",\n",
       " 'dr4_clouds_hrel': \"C2D Fall '07 High Reliability (HREL) CLOUDS Catalog (CHA_II, LUP, OPH, PER, SER)\",\n",
       " 'dr4_clouds_ysoc': \"C2D Fall '07 candidate Young Stellar Objects (YSO) CLOUDS Catalog (CHA_II, LUP, OPH, PER, SER)\",\n",
       " 'dr4_off_cloud_full': \"C2D Fall '07 Full OFF-CLOUD Catalog (CHA_II, LUP, OPH, PER, SER)\",\n",
       " 'dr4_off_cloud_hrel': \"C2D Fall '07 High Reliability (HREL) OFF-CLOUD Catalog (CHA_II, LUP, OPH, PER, SER)\",\n",
       " 'dr4_off_cloud_ysoc': \"C2D Fall '07 candidate Young Stellar Objects (YSO) OFF-CLOUD Catalog (CHA_II, LUP, OPH, PER, SER)\",\n",
       " 'dr4_cores_full': \"C2D Fall '07 Full CORES Catalog\",\n",
       " 'dr4_cores_hrel': \"C2D Fall '07 High Reliability (HREL) CORES Catalog\",\n",
       " 'dr4_cores_ysoc': \"C2D Fall '07 candidate Young Stellar Objects (YSO) CORES Catalog\",\n",
       " 'dr4_stars_full': \"C2D Fall '07 Full STARS Catalog\",\n",
       " 'dr4_stars_hrel': \"C2D Fall '07 High Reliability (HREL) STARS Catalog\",\n",
       " 'dr4_stars_ysoc': \"C2D Fall '07 candidate Young Stellar Objects (YSO) STARS Catalog\",\n",
       " 'dr4_MM': \"C2D Fall '07 Millimeter (MM) Sources Catalog (OPH, PER, SER Clouds)\",\n",
       " 'dr4_trans1_full': \"C2D Fall '07 Perseus Epoch 1 Transient Sources FULL Catalog\",\n",
       " 'dr4_trans2_full': \"C2D Fall '07 Perseus Epoch 2 Transient Sources FULL Catalog\",\n",
       " 'clash36_v2': 'CLASH 3.6 micron Catalog',\n",
       " 'clash45_v2': 'CLASH 4.5 micron Catalog',\n",
       " 'clash58_v2': 'CLASH 5.8 micron Catalog',\n",
       " 'clash80_v2': 'CLASH 8.0 micron Catalog',\n",
       " 'csi2264t1': 'CSI 2264 Object Table',\n",
       " 'csi2264t2': 'CSI 2264 CoRoT Light Curves',\n",
       " 'csi2264t3': 'CSI 2264 Spitzer Light Curves',\n",
       " 'cygx_arch': 'Cygnus-X Archive',\n",
       " 'cygx_cat': 'Cygnus-X Catalog',\n",
       " 'deepdrillcdfsi12': 'DeepDrill CDFS 2-band Catalog (highly reliable)',\n",
       " 'deepdrillcdfsi1': 'DeepDrill CDFS 3.6 micron Catalog',\n",
       " 'deepdrillcdfsi2': 'DeepDrill CDFS 4.5 micron Catalog',\n",
       " 'deepdrilles1i12': 'DeepDrill ELAIS S1 2-band Catalog (highly reliable)',\n",
       " 'deepdrilles1i1': 'DeepDrill ELAIS S1 3.6 micron Catalog',\n",
       " 'deepdrilles1i2': 'DeepDrill ELAIS S1 4.5 micron Catalog',\n",
       " 'deepdrillxmmi12': 'DeepDrill XMM-LSS 2-band Catalog (highly reliable)',\n",
       " 'deepdrillxmmi1': 'DeepDrill XMM-LSS 3.6 micron Catalog',\n",
       " 'deepdrillxmmi2': 'DeepDrill XMM-LSS 4.5 micron Catalog',\n",
       " 'deepdrillshark': 'DeepDrill SHARK Simulated Lightcone Catalog',\n",
       " 'dustingsfull': 'DUSTiNGS Full Catalog',\n",
       " 'dustingsgsc': 'DUSTiNGS Good Source Catalog',\n",
       " 'feps_phot': 'FEPS Photometry Catalog',\n",
       " 'xfls_i1m': 'Extragalactic FLS IRAC Channel 1 Main Field Catalog',\n",
       " 'xfls_i2m': 'Extragalactic FLS IRAC Channel 2 Main Field Catalog',\n",
       " 'xfls_i3m': 'Extragalactic FLS IRAC Channel 3 Main Field Catalog',\n",
       " 'xfls_i4m': 'Extragalactic FLS IRAC Channel 4 Main Field Catalog',\n",
       " 'xfls_i1v': 'Extragalactic FLS IRAC Channel 1 Verification Field Catalog',\n",
       " 'xfls_i2v': 'Extragalactic FLS IRAC Channel 2 Verification Field Catalog',\n",
       " 'xfls_i3v': 'Extragalactic FLS IRAC Channel 3 Verification Field Catalog',\n",
       " 'xfls_i4v': 'Extragalactic FLS IRAC Channel 4 Verification Field Catalog',\n",
       " 'xfls_iallm': 'Extragalactic FLS IRAC Bandmerged Main Field Catalog',\n",
       " 'xfls_iallv': 'Extragalactic FLS IRAC Bandmerged Verification Field Catalog',\n",
       " 'xfls_m1t2': 'Extragalactic FLS MIPS 24 micron Extended Source Catalog',\n",
       " 'xfls_m1t4': 'Extragalactic FLS MIPS 24 micron Calibration Star Catalog',\n",
       " 'xfls_m1t5': 'Extragalactic FLS MIPS 24 micron Point Source Catalog',\n",
       " 'xfls_m2': 'Extragalactic FLS MIPS 70 micron Catalog',\n",
       " 'xfls_m3': 'Extragalactic FLS MIPS 160 micron Catalog',\n",
       " 'xfls_kpno': 'Extragalactic FLS KPNO R-band Source List',\n",
       " 'fls_release_v2_mmt_spectra': 'FLS MMT/Hectospec Spectroscopic Catalog (V2)',\n",
       " 'fls_release_v2_photom': 'FLS SDSS and MIPS Astrometric and Photometric Catalog (V2)',\n",
       " 'fls_release_v2_sdss_spectra': 'FLS SDSS Spectroscopic Catalog (V2)',\n",
       " 'xfls_w2': 'Extragalactic FLS WIYN/Hydra Spectroscopic Catalog',\n",
       " 'xfls_w3': 'Extragalactic FLS WIYN/Hydra Line Strength and Equivalent Width Catalog',\n",
       " 'xfls_w4': 'Extragalactic FLS WIYN/Hydra Line Ratios and Extinction Catalog',\n",
       " 'galcen_psc': 'Point Source in a Spitzer/IRAC Survey of the Galactic Center (Ramirez et al. 2008)',\n",
       " 'glimpse_s07_ar': \"GLIMPSE I Spring '07 Archive (more complete, less reliable)\",\n",
       " 'glimpse_s07': \"GLIMPSE I Spring '07 Catalog (highly reliable)\",\n",
       " 'glimpse2_v2arc': \"GLIMPSE II Spring '08 Archive (more complete, less reliable)\",\n",
       " 'glimpse2_v2cat': \"GLIMPSE II Spring '08 Catalog (highly reliable)\",\n",
       " 'glimpse2ep1a08': \"GLIMPSE II Epoch 1 December '08 Archive (more complete, less reliable)\",\n",
       " 'glimpse2ep1c08': \"GLIMPSE II Epoch 1 December '08 Catalog (highly reliable)\",\n",
       " 'glimpse2ep2a09': \"GLIMPSE II Epoch 2 November '09 Archive (more complete, less reliable)\",\n",
       " 'glimpse2ep2mra09': \"GLIMPSE II Epoch 2 November '09 More Reliable Archive (more reliable)\",\n",
       " 'glimpse2sub': 'GLIMPSEII Subarray Source List',\n",
       " 'glimpse3d_v2arc': 'GLIMPSE 3D, 2007-2009 Archive (more complete, less reliable),(Erratum)',\n",
       " 'glimpse3d_v1cat_tbl': 'GLIMPSE 3D, 2007-2009 Catalog (highly reliable)',\n",
       " 'glimpse3dep1a': 'GLIMPSE 3D Epoch 1 Archive (more complete, less reliable)',\n",
       " 'glimpse3dep1c': 'GLIMPSE 3D Epoch 1 Catalog (highly reliable)',\n",
       " 'glimpse3dep2a': 'GLIMPSE 3D Epoch 2 Archive (more complete, less reliable)',\n",
       " 'glimpse3dep2mra': 'GLIMPSE 3D Epoch 2 More Reliable Archive (more complete, less reliable)',\n",
       " 'glimpse360a': 'GLIMPSE360 Archive (more complete, less reliable)',\n",
       " 'glimpse360c': 'GLIMPSE360 Catalog (highly reliable)',\n",
       " 'velcara': 'Vela-Carina Archive (more complete, less reliable)',\n",
       " 'velcarc': 'Vela-Carina Catalog (highly reliable)',\n",
       " 'deepglimpsea': 'Deep GLIMPSE Archive (more complete, less reliable)',\n",
       " 'deepglimpsec': 'Deep GLIMPSE Catalog (highly reliable)',\n",
       " 'glimpsepropa': 'GLIMPSE Proper Archive (more complete, less reliable)',\n",
       " 'glimpsepropc': 'GLIMPSE Proper Catalog (highly reliable)',\n",
       " 'apoglimpsea': 'APOGLIMPSE Archive (more complete, less reliable)',\n",
       " 'apoglimpsec': 'APOGLIMPSE Catalog (highly reliable)',\n",
       " 'glimpsesmoga': 'SMOG Archive (more complete, less reliable)',\n",
       " 'glimpsesmogc': 'SMOG Catalog (highly reliable)',\n",
       " 'glimpsecygxa': 'GLIMPSE Cygnus-X Archive (more complete, less reliable)',\n",
       " 'glimpsecygxc': 'GLIMPSE Cygnus-X Catalog (highly reliable)',\n",
       " 'goodsn_mips24': 'GOODS-N MIPS 24 micron Photometry Catalog',\n",
       " 'goods_mips24': 'GOODS-S MIPS 24 micron Photometry Catalog',\n",
       " 'goodsnirs16': 'GOODS-N IRS 16 micron Photometry Catalog',\n",
       " 'goodssirs16': 'GOODS-S IRS 16 micron Photometry Catalog',\n",
       " 'm31irac': 'M31 IRAC Catalog',\n",
       " 'mipslg': 'MIPS Local Galaxies Catalog',\n",
       " 'mipsgala': 'MIPSGAL Archive',\n",
       " 'mipsgalc': 'MIPSGAL Catalog',\n",
       " 's4gcat': 'Spitzer Survey of Stellar Structure in Galaxies (S4G)',\n",
       " 'safires70': 'Spitzer Archival Far-Infrared Extragalactic Survey (SAFIRES) MIPS 70 micron Catalog',\n",
       " 'safires160': 'Spitzer Archival Far-Infrared Extragalactic Survey (SAFIRES) MIPS 160 micron Catalog',\n",
       " 'sagearciracv2': \"SAGE Winter '08 IRAC Epoch 1 and Epoch 2 Archive (more complete, less reliable)\",\n",
       " 'sagecatiracv2': \"SAGE Winter '08 IRAC Epoch 1 and Epoch 2 Catalog (more reliable)\",\n",
       " 'sage_ar_irac': 'SAGE IRAC Single Frame + Mosaic Photometry Archive (more complete, less reliable)',\n",
       " 'sage_cat_irac': 'SAGE IRAC Single Frame + Mosaic Photometry Catalog (more reliable)',\n",
       " 'sage_ar_irac_e1e2': 'SAGE IRAC Epoch 1 and Epoch 2 Archive (more complete, less reliable)',\n",
       " 'sage_cat_irac_e1e2': 'SAGE IRAC Epoch 1 and Epoch 2 Catalog (more reliable)',\n",
       " 'sage_ar_irac_match': 'SAGE IRAC Matched Epoch Catalog (more complete, less reliable)',\n",
       " 'sage_cat_irac_match': 'SAGE IRAC Matched Epoch Archive (more reliable)',\n",
       " 'sage_ar_irac_off': 'SAGE IRAC Offset Position Epoch 1 and Epoch 2 Archive (more complete, less reliable)',\n",
       " 'sage_cat_irac_off': 'SAGE IRAC Offset Position Epoch 1 and Epoch 2 Catalog (more reliable)',\n",
       " 'sagecatmips24v2': \"SAGE Winter '08 MIPS 24 um Epoch 1 and Epoch 2 Catalog (more reliable)\",\n",
       " 'sage_cat_m24': 'SAGE MIPS 24 um Epoch 1 and Epoch 2 Catalog (more reliable)',\n",
       " 'sage_full_m24': 'SAGE MIPS 24 um Epoch 1 and Epoch 2 Full List (more complete, less reliable)',\n",
       " 'sage_cat_m24_match': 'SAGE MIPS 24 um Matched Epoch Catalog (more reliable)',\n",
       " 'sage_full_m24_match': 'SAGE MIPS 24 um Matched Epoch Full List (more complete, less reliable)',\n",
       " 'sage_cat_m70': 'SAGE MIPS 70 um Combined Epoch Catalog (more reliable)',\n",
       " 'sage_full_m70': 'SAGE MIPS 70 um Combined Epoch Full List (more complete, less reliable)',\n",
       " 'sage_cat_m160': 'SAGE MIPS 160 um Combined Epoch Catalog (more reliable)',\n",
       " 'sage_full_m160': 'SAGE MIPS 160 um Combined Epoch Catalog (more complete, less reliable)',\n",
       " 'sagefull': 'SAGE-Var LMC Full Catalog',\n",
       " 'sagevar': 'SAGE-Var LMC Variable Catalog',\n",
       " 'sagesmc_iracadr3': 'SAGE-SMC IRAC Single Frame + Mosaic Photometry Archive v1.5',\n",
       " 'sagesmc_iraccdr3': 'SAGE-SMC IRAC Single Frame + Mosaic Photometry Catalog v1.5',\n",
       " 'sagesmc_iracep1a': 'SAGE-SMC IRAC Epoch 1 Archive (less reliable)',\n",
       " 'sagesmc_iracep1c': 'SAGE-SMC IRAC Epoch 1 Catalog (more reliable)',\n",
       " 'sagesmc_iraca': 'SAGE-SMC IRAC Epoch 0, Epoch 1, and Epoch 2 Archive (less reliable)',\n",
       " 'sagesmc_iracc': 'SAGE-SMC IRAC Epoch 0, Epoch 1, and Epoch 2 Catalog (more reliable)',\n",
       " 'sagesmc_mips24ep1c': 'SAGE-SMC MIPS 24um Epoch 1 Catalog (more reliable)',\n",
       " 'sagesmc_mips24ep1f': 'SAGE-SMC MIPS 24um Epoch 1 Full List (less reliable)',\n",
       " 'sagesmc_mips24f': 'SAGE-SMC MIPS 24 um Epoch 0, Epoch 1, and Epoch 2 Full List (more complete, less reliable)',\n",
       " 'sagesmc_mips24c': 'SAGE-SMC MIPS 24 um Epoch 0, Epoch 1, and Epoch 2 Catalog (more reliable)',\n",
       " 'sagesmc_mips70f': 'SAGE-SMC MIPS 70um Combined Epoch Full List (more complete, less reliable)',\n",
       " 'sagesmc_mips70c': 'SAGE-SMC MIPS 70um Combined Epoch Catalog (more reliable)',\n",
       " 'sagesmc_mips160f': 'SAGE-SMC MIPS 160um Combined Epoch Full List (more complete, less reliable)',\n",
       " 'sagesmc_mips160c': 'SAGE-SMC MIPS 160um Combined Epoch Catalog (more reliable)',\n",
       " 'sagesmcfull': 'SAGE-Var SMC Full Catalog',\n",
       " 'sagesmcvar': 'SAGE-Var SMC Variable Catalog',\n",
       " 'ssid2': 'SAGE-Spec ID Search',\n",
       " 'sass_v3': 'SASS October 2011 Catalog',\n",
       " 'scosmos_irac_0407': 'S-COSMOS IRAC 4-channel Photometry Catalog June 2007 (README)',\n",
       " 'scosmos_mips_24_go2': 'S-COSMOS MIPS 24um MAIN Photometry Catalog June 2007 (Aug 2008: Important Flux-correction Note)',\n",
       " 'scosmos_mips_24_go2_deep': 'S-COSMOS MIPS 24um DEEP Photometry Catalog June 2007 (Aug 2008: Important Flux-correction Note)',\n",
       " 'scosmos_mips_70_v3': 'S-COSMOS MIPS 70um Photometry Catalog v3 Jan 2009',\n",
       " 'scosmos_mips_160_v3': 'S-COSMOS MIPS 160um Photometry Catalog v3 Jan 2009',\n",
       " 'sdwfs_ch1_stack': \"SDWFS Aug'09 DR1.1 IRAC 3.6um-Selected Total Coadd Stack\",\n",
       " 'sdwfs_ch2_stack': \"SDWFS Aug '09 DR1.1 IRAC 4.5um-Selected Total Coadd Stack\",\n",
       " 'sdwfs_ch3_stack': \"SDWFS Aug '09 DR1.1 IRAC 5.8um-Selected Total Coadd Stack\",\n",
       " 'sdwfs_ch4_stack': \"SDWFS Aug '09 DR1.1 IRAC 8.0um-Selected Total Coadd Stack\",\n",
       " 'sdwfs_ch1_epoch1': \"SDWFS Aug '09 DR1.1 IRAC 3.6um-Selected 3x30sec Coadd, epoch 1 (Jan '04)\",\n",
       " 'sdwfs_ch2_epoch1': \"SDWFS Aug '09 DR1.1 IRAC 4.5um-Selected 3x30sec Coadd, epoch 1 (Jan '04)\",\n",
       " 'sdwfs_ch3_epoch1': \"SDWFS Aug '09 DR1.1 IRAC 5.8um-Selected 3x30sec Coadd, epoch 1 (Jan '04)\",\n",
       " 'sdwfs_ch4_epoch1': \"SDWFS Aug '09 DR1.1 IRAC 8.0um-Selected 3x30sec Coadd, epoch 1 (Jan '04)\",\n",
       " 'sdwfs_ch1_epoch2': \"SDWFS Aug '09 DR1.1 IRAC 3.6um-Selected 3x30sec Coadd, epoch 2 (Aug '07)\",\n",
       " 'sdwfs_ch2_epoch2': \"SDWFS Aug '09 DR1.1 IRAC 4.5um-Selected 3x30sec Coadd, epoch 2 (Aug '07)\",\n",
       " 'sdwfs_ch3_epoch2': \"SDWFS Aug '09 DR1.1 IRAC 5.8um-Selected 3x30sec Coadd, epoch 2 (Aug '07)\",\n",
       " 'sdwfs_ch4_epoch2': \"SDWFS Aug '09 DR1.1 IRAC 8.0um-Selected 3x30sec Coadd, epoch 2 (Aug '07)\",\n",
       " 'sdwfs_ch1_epoch3': \"SDWFS Aug '09 DR1.1 IRAC 3.6um-Selected 3x30sec Coadd, epoch 3 (Feb '08)\",\n",
       " 'sdwfs_ch2_epoch3': \"SDWFS Aug '09 DR1.1 IRAC 4.5um-Selected 3x30sec Coadd, epoch 3 (Feb '08)\",\n",
       " 'sdwfs_ch3_epoch3': \"SDWFS Aug '09 DR1.1 IRAC 5.8um-Selected 3x30sec Coadd, epoch 3 (Feb '08)\",\n",
       " 'sdwfs_ch4_epoch3': \"SDWFS Aug '09 DR1.1 IRAC 8.0um-Selected 3x30sec Coadd, epoch 3 (Feb '08)\",\n",
       " 'sdwfs_ch1_epoch4': \"SDWFS Aug '09 DR1.1 IRAC 3.6um-Selected 3x30sec Coadd, epoch 4 (Mar '08)\",\n",
       " 'sdwfs_ch2_epoch4': \"SDWFS Aug '09 DR1.1 IRAC 4.5um-Selected 3x30sec Coadd, epoch 4 (Mar '08)\",\n",
       " 'sdwfs_ch3_epoch4': \"SDWFS Aug '09 DR1.1 IRAC 5.8um-Selected 3x30sec Coadd, epoch 4 (Mar '08)\",\n",
       " 'sdwfs_ch4_epoch4': \"SDWFS Aug '09 DR1.1 IRAC 8.0um-Selected 3x30sec Coadd, epoch 4 (Mar '08)\",\n",
       " 'sdwfs_lcurve': 'SDWFS Light Curve Catalog',\n",
       " 'sdwfs_var': 'SDWFS Variability Catalog',\n",
       " 'sepm24': 'SEP MIPS 24 micron Point Source Catalog',\n",
       " 'sepm70': 'SEP MIPS 70 micron Point Source Catalog',\n",
       " 'sepmext': 'SEP MIPS Extended Source Catalog',\n",
       " 'sep_mw': 'SEP Multiwavelength Photometric Catalog',\n",
       " 'servscdfsi1': 'SERVS CDFS 3.6 micron Catalog',\n",
       " 'servscdfsi2': 'SERVS CDFS 4.5 micron Catalog',\n",
       " 'servscdfsi12': 'SERVS CDFS 2-band Catalog (highly reliable)',\n",
       " 'servseni1': 'SERVS ELAIS N1 3.6 micron Catalog',\n",
       " 'servseni2': 'SERVS ELAIS N1 4.5 micron Catalog',\n",
       " 'servseni12': 'SERVS ELAIS N1 2-band Catalog (highly reliable)',\n",
       " 'servsesi1': 'SERVS ELAIS S1 3.6 micron Catalog',\n",
       " 'servsesi2': 'SERVS ELAIS S1 4.5 micron Catalog',\n",
       " 'servsesi12': 'SERVS ELAIS S1 2-band Catalog (highly reliable)',\n",
       " 'servslhi1': 'SERVS Lockman Hole 3.6 micron Catalog',\n",
       " 'servslhi2': 'SERVS Lockman Hole 4.5 micron Catalog',\n",
       " 'servslhi12': 'SERVS Lockman Hole 2-band Catalog (highly reliable)',\n",
       " 'servsxmmi1': 'SERVS XMM-LSS 3.6 micron Catalog',\n",
       " 'servsxmmi2': 'SERVS XMM-LSS 4.5 micron Catalog',\n",
       " 'servsxmmi12': 'SERVS XMM-LSS 2-band Catalog (highly reliable)',\n",
       " 'shelacomb': 'SHELA Combined Epoch IRAC Catalog',\n",
       " 'shelaep1': 'SHELA Epoch 1 IRAC Catalog',\n",
       " 'shelaep2': 'SHELA Epoch 2 IRAC Catalog',\n",
       " 'shelaep3': 'SHELA Epoch 3 IRAC Catalog',\n",
       " 'shelasdss': 'SHELA-SDSS Stripe 82 Catalog',\n",
       " 'simple': 'SIMPLE Photometry Catalog',\n",
       " 'smuvs': 'SMUVS Source Catalog',\n",
       " 'spiesch1': 'SpIES 3.6 micron-only Catalog',\n",
       " 'spiesch2': 'SpIES 4.5 micron-only Catalog',\n",
       " 'spiesch12': 'SpIES Dual-band Catalog',\n",
       " 'spuds_irac': 'SpUDS IRAC Catalog',\n",
       " 'spuds_mips': 'SpUDS MIPS Catalog',\n",
       " 'ssdf1': 'SSDF IRAC Ch1 Catalog',\n",
       " 'ssdf2': 'SSDF IRAC Ch2 Catalog',\n",
       " 'chandra_cat_f05': \"SWIRE CDFS Region Fall '05  Spitzer Catalog\",\n",
       " 'chandra_24_cat_f05': \"SWIRE CDFS Region 24um Fall '05 Spitzer Catalog\",\n",
       " 'chandra_70_cat_f05': \"SWIRE CDFS Region 70um Fall '05 Spitzer Catalog\",\n",
       " 'chandra_160_cat_f05': \"SWIRE CDFS Region 160um Fall '05 SWIRE Spitzer Catalog\",\n",
       " 'elaisn1_cat_s05': \"SWIRE ELAIS N1 Region Spring '05 Spitzer Catalog\",\n",
       " 'elaisn1_24_cat_s05': \"SWIRE ELAIS N1 Region 24um Spring '05 Spitzer Catalog\",\n",
       " 'elaisn1_70_cat_s05': \"SWIRE ELAIS N1 Region 70um Spring '05 Spitzer Catalog\",\n",
       " 'elaisn1_160_cat_s05': \"SWIRE ELAIS N1 Region 160um Spring '05 Spitzer Catalog\",\n",
       " 'elaisn2_cat_s05': \"SWIRE ELAIS N2 Region Spring '05 Spitzer Catalog\",\n",
       " 'elaisn2_24_cat_s05': \"SWIRE ELAIS N2 Region 24um Spring '05 Spitzer Catalog\",\n",
       " 'elaisn2_70_cat_s05': \"SWIRE ELAIS N2 Region 70um Spring '05 Spitzer Catalog\",\n",
       " 'elaisn2_160_cat_s05': \"SWIRE ELAIS N2 Region 160um Spring '05 Spitzer Catalog\",\n",
       " 'elaiss1_cat_f05': \"SWIRE ELAIS S1 Region Fall '05 SWIRE Spitzer Catalog\",\n",
       " 'elaiss1_24_cat_f05': \"SWIRE ELAIS S1 Region 24um Fall '05 Spitzer Catalog\",\n",
       " 'elaiss1_70_cat_f05': \"SWIRE ELAIS S1 Region 70um Fall '05 Spitzer Catalog\",\n",
       " 'elaiss1_160_cat_f05': \"SWIRE ELAIS S1 Region 160um Fall '05 Spitzer Catalog\",\n",
       " 'lockman_cat_s05': \"SWIRE Lockman Region Spring '05 SWIRE Spitzer Catalog\",\n",
       " 'swire_lhisod': 'SWIRE Lockman Hole ISOCAM Deep Field Catalog',\n",
       " 'swire_lhisos': 'SWIRE Lockman Hole ISOCAM Shallow Field Catalog',\n",
       " 'lockman_24_cat_s05': \"SWIRE Lockman Region 24um Spring '05 Spitzer Catalog\",\n",
       " 'lockman_70_cat_s05': \"SWIRE Lockman Region 70um Spring '05 Spitzer Catalog\",\n",
       " 'lockman_160_cat_s05': \"SWIRE Lockman Region 160um Spring '05 Spitzer Catalog\",\n",
       " 'xmm_cat_s05': \"SWIRE XMM_LSS Region Spring '05 Spitzer Catalog\",\n",
       " 'xmm_24_cat_s05': \"SWIRE XMM_LSS Region 24um Spring '05 Spitzer Catalog\",\n",
       " 'xmm_70_cat_s05': \"SWIRE XMM_LSS Region 70um Spring '05 Spitzer Catalog\",\n",
       " 'xmm_160_cat_s05': \"SWIRE XMM_LSS Region 160um Spring '05 Spitzer Catalog\",\n",
       " 'taurus_2008_2_1': 'Taurus Catalog October 2008 v2.1',\n",
       " 'ysoggd1215obj': 'YSOVAR GGD 12-15 Object Table',\n",
       " 'ysoggd1215lc': 'YSOVAR GGD 12-15 Light Curve Table',\n",
       " 'ysoi20050obj': 'YSOVAR IRAS 20050+2720 Object Table',\n",
       " 'ysoi20050lc': 'YSOVAR IRAS 20050+2720 Light Curve Table',\n",
       " 'ysol1688obj': 'YSOVAR L1688 Object Table',\n",
       " 'ysol1688lc': 'YSOVAR L1688 Light Curve Table',\n",
       " 'yson1333obj': 'YSOVAR NGC1333 Object Table',\n",
       " 'yson1333lc': 'YSOVAR NGC1333 Light Curve Table',\n",
       " 'ercscbm': 'Planck ERCSC Bandmerged Catalog',\n",
       " 'planckphz': 'Planck List of High Redshift Source Candidates',\n",
       " 'com_pccs_pcnt': 'Planck Multi-frequency Catalogue of Non-thermal Sources',\n",
       " 'com_pccs2_030': 'Planck PCCS2 30GHz Catalog',\n",
       " 'com_pccs2_044': 'Planck PCCS2 44GHz Catalog',\n",
       " 'com_pccs2_070': 'Planck PCCS2 70GHz Catalog',\n",
       " 'com_pccs2_100': 'Planck PCCS2 100GHz Catalog',\n",
       " 'com_pccs2_143': 'Planck PCCS2 143GHz Catalog',\n",
       " 'com_pccs2_217': 'Planck PCCS2 217GHz Catalog',\n",
       " 'com_pccs2_353': 'Planck PCCS2 353GHz Catalog',\n",
       " 'com_pccs2_545': 'Planck PCCS2 545GHz Catalog',\n",
       " 'com_pccs2_857': 'Planck PCCS2 857GHz Catalog',\n",
       " 'com_pccs2e_100': 'Planck PCCS2E 100GHz Catalog (lower reliability)',\n",
       " 'com_pccs2e_143': 'Planck PCCS2E 143GHz Catalog (lower reliability)',\n",
       " 'com_pccs2e_217': 'Planck PCCS2E 217GHz Catalog (lower reliability)',\n",
       " 'com_pccs2e_353': 'Planck PCCS2E 353GHz Catalog (lower reliability)',\n",
       " 'com_pccs2e_545': 'Planck PCCS2E 545GHz Catalog (lower reliability)',\n",
       " 'com_pccs2e_857': 'Planck PCCS2E 857GHz Catalog (lower reliability)',\n",
       " 'com_pccs2_sz_mmf1': 'Planck PR2 Sunyaev-Zeldovich Cluster MMF1 List',\n",
       " 'com_pccs2_sz_mmf3': 'Planck PR2 Sunyaev-Zeldovich Cluster MMF3 List',\n",
       " 'com_pccs2_sz_pws': 'Planck PR2 Sunyaev-Zeldovich Cluster PwS List',\n",
       " 'com_pccs2_sz_union': 'Planck PR2 Sunyaev-Zeldovich Cluster UNION List',\n",
       " 'com_pccs2_gcc': 'Planck Catalog of Galactic Cold Clumps',\n",
       " 'com_pccs1_030': 'Planck PCCS 30GHz Catalog',\n",
       " 'com_pccs1_044': 'Planck PCCS 44GHz Catalog',\n",
       " 'com_pccs1_070': 'Planck PCCS 70GHz Catalog',\n",
       " 'com_pccs1_100': 'Planck PCCS 100GHz Catalog',\n",
       " 'com_pccs1_143': 'Planck PCCS 143GHz Catalog',\n",
       " 'com_pccs1_217': 'Planck PCCS 217GHz Catalog',\n",
       " 'com_pccs1_353': 'Planck PCCS 353GHz Catalog',\n",
       " 'com_pccs1_545': 'Planck PCCS 545GHz Catalog',\n",
       " 'com_pccs1_857': 'Planck PCCS 857GHz Catalog',\n",
       " 'com_pccs1_sz_mmf1': 'Planck Sunyaev-Zeldovich Cluster MMF1 List',\n",
       " 'com_pccs1_sz_mmf3': 'Planck Sunyaev-Zeldovich Cluster MMF3 List',\n",
       " 'com_pccs1_sz_pws': 'Planck Sunyaev-Zeldovich Cluster PwS List',\n",
       " 'com_pccs1_sz_union2': 'Planck Sunyaev-Zeldovich Cluster UNION List v2.1',\n",
       " 'ercsc_f030_e': 'Planck ERCSC 30GHz Catalog',\n",
       " 'ercsc_f044_e': 'Planck ERCSC 44GHz Catalog',\n",
       " 'ercsc_f070_e': 'Planck ERCSC 70GHz Catalog',\n",
       " 'ercsc_f100_e': 'Planck ERCSC 100GHz Catalog',\n",
       " 'ercsc_f143_e': 'Planck ERCSC 143GHz Catalog',\n",
       " 'ercsc_f217_e': 'Planck ERCSC 217GHz Catalog',\n",
       " 'ercsc_f353_e': 'Planck ERCSC 353GHz Catalog',\n",
       " 'ercsc_f545_e': 'Planck ERCSC 545GHz Catalog',\n",
       " 'ercsc_f857_e': 'Planck ERCSC 857GHz Catalog',\n",
       " 'ecc': 'Planck Early Cold Core Source List (ECC)',\n",
       " 'esz': 'Planck Early Sunyaev-Zeldovich Cluster List (ESZ)',\n",
       " 'ppsc_70': 'PACS Point Source Catalog: 70 microns',\n",
       " 'ppsc_100': 'PACS Point Source Catalog: 100 microns',\n",
       " 'ppsc_160': 'PACS Point Source Catalog: 160 microns',\n",
       " 'ppsc_extsl': 'PACS Point Source Catalog: Extended Source List',\n",
       " 'ppsc_obstbl': 'PACS Point Source Catalog: Observation Table',\n",
       " 'ppsc_rejsl': 'PACS Point Source Catalog: Rejected Source List',\n",
       " 'spsc250': 'SPIRE Point Source Catalog: 250 microns',\n",
       " 'spsc350': 'SPIRE Point Source Catalog: 350 microns',\n",
       " 'spsc500': 'SPIRE Point Source Catalog: 500 microns',\n",
       " 'spscxid': 'SPIRE Point Source Catalog Cross-Reference Matrix',\n",
       " 'acmccat': 'ACMC Catalog',\n",
       " 'dunes': 'DUNES Catalog',\n",
       " 'hgoodsn': 'GOODS North Catalog',\n",
       " 'hgoodss': 'GOODS South Catalog',\n",
       " 'hatlas': 'H-ATLAS Catalog',\n",
       " 'hatlasall': 'H-ATLAS All Potential Counterparts Catalog',\n",
       " 'heritagelphot': 'HERITAGE LMC Band-Matched Catalog',\n",
       " 'heritagelclass': 'HERITAGE LMC Band-Matched Classification Table',\n",
       " 'heritagel100': 'HERITAGE LMC PACS 100 micron Catalog',\n",
       " 'heritagel160': 'HERITAGE LMC PACS 160 micron Catalog',\n",
       " 'heritagel250': 'HERITAGE LMC SPIRE 250 micron Catalog',\n",
       " 'heritagel350': 'HERITAGE LMC SPIRE 350 micron Catalog',\n",
       " 'heritagel500': 'HERITAGE LMC SPIRE 500 micron Catalog',\n",
       " 'heritagesphot': 'HERITAGE SMC Band-Matched Catalog',\n",
       " 'heritagesclass': 'HERITAGE SMC Band-Matched Classification Table',\n",
       " 'heritages100': 'HERITAGE SMC PACS 100 micron Catalog',\n",
       " 'heritages160': 'HERITAGE SMC PACS 160 micron Catalog',\n",
       " 'heritages250': 'HERITAGE SMC SPIRE 250 micron Catalog',\n",
       " 'heritages350': 'HERITAGE SMC SPIRE 350 micron Catalog',\n",
       " 'heritages500': 'HERITAGE SMC SPIRE 500 micron Catalog',\n",
       " 'hermesdr4xid250': 'HerMES DR4 Band-merged Catalog (250 micron positions)',\n",
       " 'hermespacsxid24': 'HerMES DR4 PACS Catalog (24 micron positions)',\n",
       " 'hermescosmosxidp': 'HerMES DR4 COSMOS-XID+ Catalog (24 micron positions)',\n",
       " 'hermesscat250': 'HerMES 250 micron StarFinder Catalog',\n",
       " 'hermesscat250sxt': 'HerMES 250 micron SUSSEXtractor Catalog',\n",
       " 'hermesscat350': 'HerMES 350 micron StarFinder Catalog',\n",
       " 'hermesscat350sxt': 'HerMES 350 micron SUSSEXtractor Catalog',\n",
       " 'hermesscat500': 'HerMES 500 micron StarFinder Catalog',\n",
       " 'hermesscat500sxt': 'HerMES 500 micron SUSSEXtractor Catalog',\n",
       " 'hermesxid24': 'HerMES Band-merged Catalog (24 micron positions)',\n",
       " 'higal70': 'Hi-GAL 70 micron Photometric Catalog',\n",
       " 'higal160': 'Hi-GAL 160 micron Photometric Catalog',\n",
       " 'higal250': 'Hi-GAL 250 micron Photometric Catalog',\n",
       " 'higal350': 'Hi-GAL 350 micron Photometric Catalog',\n",
       " 'higal500': 'Hi-GAL 500 micron Photometric Catalog',\n",
       " 'hopsdata': 'Herschel Orion Protostars Survey SED Data Catalog',\n",
       " 'hopsfits': 'Herschel Orion Protostars Survey SED Fits Catalog',\n",
       " 'hpdpsso': 'HPDP SSO Table',\n",
       " 'pep100': 'PEP PACS 100 micron Catalog',\n",
       " 'pep160': 'PEP PACS 160 micron Catalog',\n",
       " 'pepprior': 'PEP PACS Extractions Using MIPS 24 micron Priors',\n",
       " 'pepgoodss70': 'PEP PACS 70 micron GOODS-S Catalog',\n",
       " 'pepxid': 'PEP PACS and MIPS Cross-IDs Catalog',\n",
       " 'pep250': 'PEP SPIRE 250 micron Catalog',\n",
       " 'pep350': 'PEP SPIRE 350 micron Catalog',\n",
       " 'pep500': 'PEP SPIRE 500 micron Catalog',\n",
       " 'peplh24': 'PEP Lockman Hole MIPS 24 micron Comparison Catalog',\n",
       " 'gaia_dr2_source': 'Gaia Source Catalogue (DR2)',\n",
       " 'gaia_dr2_sso_observation': 'Gaia Solar System Object Observation Table (DR2)',\n",
       " 'gaia_dr2_sso_source': 'Gaia Solar System Object Source Table (DR2)',\n",
       " 'gaia_dr2_cepheid': 'Gaia Cepheid Table (DR2)',\n",
       " 'gaia_dr2_classifier_def': 'Gaia Classifier Table (DR2)',\n",
       " 'gaia_dr2_classifier_result': 'Gaia Classifier Result Table (DR2)',\n",
       " 'gaia_dr2_long_period_variable': 'Gaia Long Period Variable Table (DR2)',\n",
       " 'gaia_dr2_rotation_modulation': 'Gaia Rotation Modulation Table (DR2)',\n",
       " 'gaia_dr2_rrlyrae': 'Gaia RR Lyrae Table (DR2)',\n",
       " 'gaia_dr2_short_timescale': 'Gaia Short Time Scale Variable Table (DR2)',\n",
       " 'gaia_dr2_time_series_stats': 'Gaia Time Series Statistics Table (DR2)',\n",
       " 'gaia_dr2_allwise_bnbr': 'Gaia AllWISE Best Neighbour Table (DR2)',\n",
       " 'gaia_dr2_allwise_nbh': 'Gaia AllWISE Neighbourhood Table (DR2)',\n",
       " 'gaia_dr2_apassdr9_bnbr': 'Gaia APASS DR9 Best Neighbour Table (DR2)',\n",
       " 'gaia_dr2_apassdr9_nbh': 'Gaia APASS DR9 Neighbourhood Table (DR2)',\n",
       " 'gaia_dr2_gsc23_bnbr': 'GSC2.3 Best Neighbour Table (DR2)',\n",
       " 'gaia_dr2_gsc23_nbh': 'GSC2.3 Neighbourhood Table (DR2)',\n",
       " 'gaia_dr2_hipparcos2_bnbr': 'Gaia Hipparcos-2 Best Neighbour Table (DR2)',\n",
       " 'gaia_dr2_hipparcos2_nbh': 'Gaia Hipparcos-2 Neighbourhood Table (DR2)',\n",
       " 'gaia_dr2_panstarrs1_bnbr': 'Gaia Pan-STARRS1 Best Neighbour Table (DR2)',\n",
       " 'gaia_dr2_panstarrs1_nbh': 'Gaia Pan-STARRS1 Neighbourhood Table (DR2)',\n",
       " 'gaia_dr2_ppmxl_bnbr': 'Gaia PPMXL Best Neighbour Table (DR2)',\n",
       " 'gaia_dr2_ppmxl_nbh': 'Gaia PPMXL Neighbourhood Table (DR2)',\n",
       " 'gaia_dr2_ravedr5_bnbr': 'Gaia RAVE DR5 Best Neighbour Table (DR2)',\n",
       " 'gaia_dr2_ravedr5_nbh': 'Gaia RAVE DR5 Neighbourhood Table (DR2)',\n",
       " 'gaia_dr2_sdssdr9_bnbr': 'Gaia SDSS DR9 Best Neighbour Table (DR2)',\n",
       " 'gaia_dr2_sdssdr9_nbh': 'Gaia SDSS DR9 Neighbourhood Table (DR2)',\n",
       " 'gaia_dr2_tmass_bnbr': 'Gaia 2MASS Best Neighbour Table (DR2)',\n",
       " 'gaia_dr2_tmass_nbh': 'Gaia 2MASS Neighbourhood Table (DR2)',\n",
       " 'gaia_dr2_tycho2_bnbr': 'Gaia Tycho-2 Best Neighbour Table (DR2)',\n",
       " 'gaia_dr2_tycho2_nbh': 'Gaia Tycho-2 Neighbourhood Table (DR2)',\n",
       " 'gaia_dr2_urat1_bnbr': 'Gaia URAT1 Best Neighbour Table (DR2)',\n",
       " 'gaia_dr2_urat1_nbh': 'Gaia URAT1 Neighbourhood Table (DR2)',\n",
       " 'gaia_dr2_allwise_agn_gdr2_xid': 'Gaia AllWISE-Gaia DR2 Cross-ID Table (DR2)',\n",
       " 'gaia_dr2_iers_gdr2_xid': 'IERS-Gaia DR2 Cross-ID Table (DR2)',\n",
       " 'gaia_dr2_sso_orbit_residuals': 'Gaia SSO Orbit Residuals Table (DR2)',\n",
       " 'gaia_dr2_sso_orbits': 'Gaia SSO Orbits Table (DR2)',\n",
       " 'gaia_dr2_dr1_nbh': 'Gaia DR1 Neighbourhood Table (DR2)',\n",
       " 'gaia_dr2_epoch_photometry': 'Gaia Epoch Photometry (DR2)',\n",
       " 'gaia_source_dr1': 'Gaia Catalogue (DR1)',\n",
       " 'gaia_tgas_source': 'Tycho-Gaia Astrometric Solution (TGAS) Source Table (DR1)',\n",
       " 'gaia_pho_var_t_ser': 'Gaia G-band Time Series of Variable Sources (DR1)',\n",
       " 'gaia_pho_var_t_ser_stat_par': 'Gaia Statistical Parameters for G-band Time Series of Variable (DR1)',\n",
       " 'gaia_cepheid': 'Gaia Cepheid Table (DR1)',\n",
       " 'gaia_rrlyrae': 'Gaia RR Lyrae Table (DR1)',\n",
       " 'gaia_variablesummary': 'Gaia Summary of Variables (DR1)',\n",
       " 'gaia_qso_icrf2_01_01': 'Gaia QSO Table (DR1)',\n",
       " 'gaia_allwise_best_neighbour': 'Gaia AllWISE Best Neighbor Cross-Reference (DR1)',\n",
       " 'gaia_allwise_neighbourhood': 'Gaia AllWISE Neighborhood Cross-Reference (DR1)',\n",
       " 'gaia_ppmxl_best_neighbour': 'Gaia PPMXL Best Neighbor Cross-Reference (DR1)',\n",
       " 'gaia_ppmxl_neighbourhood': 'Gaia PPMXL Neighborhood Cross-Reference (DR1)',\n",
       " 'gaia_tmass_best_neighbour': 'Gaia 2MASS Best Neighbor Cross-Reference (DR1)',\n",
       " 'gaia_tmass_neighbourhood': 'Gaia 2MASS Neighborhood Cross-Reference (DR1)',\n",
       " 'gaia_ucac4_best_neighbour': 'Gaia UCAC4 Best Neighbor Cross-Reference (DR1)',\n",
       " 'gaia_ucac4_neighbourhood': 'Gaia UCAC4 Neighborhood Cross-Reference (DR1)',\n",
       " 'gaia_urat1_best_neighbour': 'Gaia URAT1 Best Neighbor Cross-Reference (DR1)',\n",
       " 'gaia_urat1_neighbourhood': 'Gaia URAT1 Neighborhood Cross-Reference (DR1)',\n",
       " 'cosmos2015': 'COSMOS2015 Catalog',\n",
       " 'cosmos_chandra_2016': 'Chandra-COSMOS Legacy Survey Point Source Catalog',\n",
       " 'cosmos_chandraxid': 'Chandra-COSMOS Legacy Survey Multiwavelength Catalog',\n",
       " 'cosmos_chandra_bsc21': 'Chandra-COSMOS Bright Source Catalog v2.1',\n",
       " 'acs_iphot_sep07': 'COSMOS ACS I-band photometry catalog September 2007',\n",
       " 'cosmos_deimos': 'COSMOS DEIMOS Catalog',\n",
       " 'galex_emphot_v3': 'GALEX/COSMOS Prior-based Photometry Catalog June 2008',\n",
       " 'cosmosenvmc': 'COSMOS Mass Complete Environment Catalog',\n",
       " 'cosmosenvall': 'COSMOS Total Environment Catalog',\n",
       " 'cosmosgmrt325': 'COSMOS GMRT 325 MHz Catalog',\n",
       " 'cosmosgmrt610': 'COSMOS GMRT 610 MHz Catalog',\n",
       " 'cosmos_ib_phot': 'COSMOS Intermediate and Broad Band Photometry Catalog 2008',\n",
       " 'cosmos_phot': 'COSMOS Photometry Catalog January 2006',\n",
       " 'cosmos_sc4k': 'Slicing COSMOS with 4K Lyman-alpha emitters (SC4K) Catalog',\n",
       " 'cosmos_vla3ghz': 'COSMOS VLA 3GHz Catalog',\n",
       " 'cosmos_3ghzagn': 'COSMOS VLA 3GHz AGN Catalog',\n",
       " 'cosmos_3ghzcp': 'COSMOS VLA 3GHz Multiwavelength Counterpart Catalog',\n",
       " 'cosmos_zphot_mag25': 'COSMOS Photometric Redshift Catalog Fall 2008 (README - mag 25 limited)',\n",
       " 'cosmos_morph_cassata_1_1': 'COSMOS Cassata Morphology Catalog v1.1',\n",
       " 'cosmos_morph_tasca_1_1': 'COSMOS Tasca Morphology Catalog v1.1',\n",
       " 'morphology_2005': 'COSMOS Morphology Catalog 2005',\n",
       " 'cosmos_morph_col_1': 'COSMOS Zamojski Morphology Catalog v1.0',\n",
       " 'cosmos_morph_zurich_1': 'COSMOS Zurich Structure and Morphology Catalog v1.0',\n",
       " 'scosmos_mips_24_go3': 'S-COSMOS MIPS 24 Photometry Catalog October 2008',\n",
       " 'cosmos_vla_deep_may2010': 'COSMOS VLA Deep Catalog May 2010',\n",
       " 'cosmos327': 'COSMOS VLA 327 MHz Catalog',\n",
       " 'cosmoswlsc': 'COSMOS Weak Lensing Source Catalog',\n",
       " 'cosmos_xmm_2': 'COSMOS XMM Point-like Source Catalog v2.0',\n",
       " 'cosmos_xraygrp': 'COSMOS X-ray Group Catalog - Gozaliasl (2019)',\n",
       " 'cosmos_xgroups': 'COSMOS X-ray Group Catalog - George (2011)',\n",
       " 'cosmos_xgal': 'COSMOS X-ray Group Member Catalog',\n",
       " 'ztf_objects_dr6': 'ZTF DR6 Objects',\n",
       " 'ztf_objects_dr5': 'ZTF DR5 Objects',\n",
       " 'ztf_objects_dr4': 'ZTF DR4 Objects',\n",
       " 'ztf_objects_dr3': 'ZTF DR3 Objects',\n",
       " 'ztf_objects_dr2': 'ZTF DR2 Objects',\n",
       " 'ztf_objects_dr1': 'ZTF DR1 Objects',\n",
       " 'ptf_lightcurves': 'PTF Lightcurve Table',\n",
       " 'ptf_sources': 'PTF Sources Catalog',\n",
       " 'ptf_objects': 'PTF Objects',\n",
       " 'ptfphotcalcat': 'PTF Photometric Calibrator Catalog',\n",
       " 'irasfsc': 'IRAS Faint Source Catalog v2.0 (FSC)',\n",
       " 'iraspsc': 'IRAS Point Source Catalog v2.1 (PSC)',\n",
       " 'irasgal': 'IRAS Cataloged Galaxies and Quasars',\n",
       " 'irasssc': 'IRAS Serendipitous Survey Catalog',\n",
       " 'irassss': 'IRAS Small Scale Structure Catalog',\n",
       " 'iras_ao': 'IRAS Additional Observations (AO) Catalog',\n",
       " 'irasfscr': 'IRAS Faint Source Catalog Rejects',\n",
       " 'iraspscr': 'IRAS Point Source Catalog Rejects',\n",
       " 'iraspscw': 'IRAS PSC joined with WSDB',\n",
       " 'iraspsch': 'IRAS PSC joined with HCON and WSDB',\n",
       " 'irascatalog': 'IRAS 1.2-Jy Redshift Survey',\n",
       " 'comsight': 'IRAS Asteroid and Comet Survey',\n",
       " 'astsight': 'IRAS Minor Planet Survey',\n",
       " 'summary': 'IRAS Large Galaxies Catalog',\n",
       " 'msxc6': 'The Midcourse Space Experiment (MSXC6)',\n",
       " 'msxc6_rej': 'The Midcourse Space Experiment (MSXC6) Rejects',\n",
       " 'akari_fis': 'AKARI/FIS Bright Source Catalogue',\n",
       " 'akari_irc': 'AKARI/IRC Point Source Catalogue',\n",
       " 'akariastflux': 'AKARI Asteroid Flux Catalog',\n",
       " 'bolocamv21': 'BOLOCAM Galactic Plane Survey Catalog v2.1',\n",
       " 'bolocam_gps_v1_0_1': 'BOLOCAM Galactic Plane Survey Catalog',\n",
       " 'bolocamdist': 'BOLOCAM Galactic Plane Survey Distance Catalog',\n",
       " 'usno_b1': 'USNO-B1 (United States Naval Observatory B1.0 Catalog)',\n",
       " 'ucac4_sources': 'USNO CCD Astrograph Catalog (UCAC4)',\n",
       " 'ucac5': 'USNO CCD Astrograph Catalog (UCAC5)',\n",
       " 'urat1': 'The First USNO Robotic Astrometric Telescope Catalog (URAT1)',\n",
       " 'cosmodc2mockv1_heavy': 'CosmoDC2MockV1 Catalog - stellar mass > 10^7 Msun',\n",
       " 'cosmodc2mockv1_new': 'CosmoDC2MockV1 Catalog - unabridged',\n",
       " 'cosmodc2mockv1': 'CosmoDC2MockV1 Catalog - unabridged, spatially partitioned',\n",
       " 'ppmxl': 'PPMXL: A Proper Motion Catalog Combining USNO-B and 2MASS',\n",
       " 'brava': 'BRAVA Catalog',\n",
       " 'gpipsdr4': 'GPIPS DR4 Unique Star Catalog',\n",
       " 'musyc_photz': 'MUSYC Photometric Redshift Catalog',\n",
       " 'musyc_phot': 'MUSYC Photometry Catalog',\n",
       " 'z0mgsdr1index': 'z0MGS DR1 Index',\n",
       " 'z0mgsdr1simple': 'z0MGS DR1 7.5 arcsec Simple Index',\n",
       " 'contributed.z0mgs_images': 'z0MGS DR1 Image',\n",
       " 'wisegalhii': 'WISE Catalog of Galactic HII Regions v2.2',\n",
       " 'denis3': 'DENIS 3rd Release (Sep. 2005)'}"
      ]
     },
     "execution_count": 67,
     "metadata": {},
     "output_type": "execute_result"
    }
   ],
   "source": [
    "from astroquery.irsa import Irsa\n",
    "Irsa.list_catalogs()  "
   ]
  },
  {
   "cell_type": "code",
   "execution_count": null,
   "metadata": {},
   "outputs": [],
   "source": []
  },
  {
   "cell_type": "code",
   "execution_count": null,
   "metadata": {},
   "outputs": [],
   "source": []
  },
  {
   "cell_type": "markdown",
   "metadata": {},
   "source": [
    "# aplpy"
   ]
  },
  {
   "cell_type": "code",
   "execution_count": null,
   "metadata": {},
   "outputs": [],
   "source": [
    "from astropy.utils.data import get_pkg_data_filename\n",
    "import aplpy\n",
    "\n",
    "\n",
    "image_pathdir=''\n",
    "fits_image_filename = os.path.join(image_pathdir,'1205857264_initial-0000-XX-image.fits')\n",
    "\n",
    "fig = aplpy.FITSFigure(fits_image_filename, dimensions=[0, 1], figsize=(6, 6))\n",
    "#slices=['x','y',0,0],\n",
    "fig.show_colorscale()\n",
    "#fig.add_grid()\n",
    "\n",
    "fig.add_colorbar()\n",
    "fig.show_colorscale()\n",
    "\n",
    "fig.colorbar.set_location('top')\n",
    "fig.colorbar.set_pad(0.05)\n",
    "fig.colorbar.set_font(size='medium', weight='medium', \\\n",
    "                      stretch='normal', family='sans-serif', \\\n",
    "                      style='normal', variant='normal')\n",
    "\n",
    "fig.colorbar.set_axis_label_text('Flux Density (Jy/beam)')\n",
    "fig.colorbar.set_axis_label_pad(10)\n",
    "fig.colorbar.set_axis_label_rotation(0)\n",
    "fig.colorbar.set_axis_label_font(size=10, weight='bold')\n",
    "fig.colorbar.set_width(0.1)  # arbitrary units, default is 0.2\n",
    "\n",
    "\n",
    "\n",
    "#fig.add_scalebar(0.2)\n",
    "#fig.scalebar.show(0.2)  # length in degrees\n",
    "\n",
    "#fig.scalebar.set_length(15 * u.arcminute)\n",
    "\n",
    "fig.axis_labels.set_font(size='medium', weight='medium', \\\n",
    "                         stretch='normal', family='sans-serif', \\\n",
    "                         style='normal', variant='normal')\n",
    "\n",
    "#fig.show_circles(33.23, 55.33, radius=0.3,)#x_world, y_world, radius\n",
    "\n",
    "#fig.ticks.set_xspacing(0.25)  # degrees\n",
    "#fig.ticks.set_yspacing(2.0)  # degrees\n",
    "\n",
    "fig.ticks.set_minor_frequency(5)\n",
    "\n",
    "fig.tick_labels.set_font(size='large')\n",
    "fig.axis_labels.set_font(size='large')\n",
    "#fig.axis_labels.set_xtext('Right Ascension (J2000)')\n",
    "#fig.axis_labels.set_ytext('Declination (J2000)')\n",
    "#fig.set_system_latex(True)\n",
    "#fig.set_theme('publication')\n",
    "fig.savefig('aplpy_%s.png'%(fits_image_filename.split('/')[-1],),\n",
    "            dpi=400,transparent=False,)"
   ]
  }
 ],
 "metadata": {
  "kernelspec": {
   "display_name": "Python 3",
   "language": "python",
   "name": "python3"
  },
  "language_info": {
   "codemirror_mode": {
    "name": "ipython",
    "version": 3
   },
   "file_extension": ".py",
   "mimetype": "text/x-python",
   "name": "python",
   "nbconvert_exporter": "python",
   "pygments_lexer": "ipython3",
   "version": "3.8.5"
  },
  "latex_envs": {
   "LaTeX_envs_menu_present": true,
   "autocomplete": true,
   "bibliofile": "biblio.bib",
   "cite_by": "apalike",
   "current_citInitial": 1,
   "eqLabelWithNumbers": true,
   "eqNumInitial": 1,
   "hotkeys": {
    "equation": "Ctrl-E",
    "itemize": "Ctrl-I"
   },
   "labels_anchors": false,
   "latex_user_defs": false,
   "report_style_numbering": false,
   "user_envs_cfg": false
  },
  "toc": {
   "nav_menu": {},
   "number_sections": true,
   "sideBar": true,
   "skip_h1_title": false,
   "toc_cell": false,
   "toc_position": {
    "height": "451px",
    "left": "0px",
    "right": "1043px",
    "top": "158px",
    "width": "212px"
   },
   "toc_section_display": "block",
   "toc_window_display": true
  }
 },
 "nbformat": 4,
 "nbformat_minor": 2
}
