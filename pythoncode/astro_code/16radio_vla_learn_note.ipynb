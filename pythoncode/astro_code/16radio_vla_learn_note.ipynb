{
 "cells": [
  {
   "cell_type": "markdown",
   "metadata": {},
   "source": [
    "learn note radio 16"
   ]
  },
  {
   "cell_type": "markdown",
   "metadata": {},
   "source": [
    "#  emission"
   ]
  },
  {
   "cell_type": "markdown",
   "metadata": {},
   "source": [
    "## Black body emission \n",
    "\n",
    "has a characteristic shape"
   ]
  },
  {
   "cell_type": "markdown",
   "metadata": {},
   "source": [
    "## Bremsstrahlung (a.k.a. free-free) emission\n",
    "\n",
    "optically thin, thermal emission from ionized gas : HII regions etc  \n",
    "good for estimating density & temperature of ionized gas"
   ]
  },
  {
   "cell_type": "markdown",
   "metadata": {},
   "source": [
    "## Synchrotron emission\n",
    "\n",
    "nonthermal (usu: relativistic) electrons in a B field can get particle energies, n and B\n",
    "\n",
    "\n",
    "Synchrotron emission is polarized! Gives info on B field  \n",
    "\n",
    "5 GHz mostly synchrotron from moderate-z active galaxies"
   ]
  },
  {
   "cell_type": "markdown",
   "metadata": {
    "collapsed": true
   },
   "source": []
  },
  {
   "cell_type": "markdown",
   "metadata": {},
   "source": [
    "# Digression - some definitions\n",
    "## Too Many Kinds of Temperature:\n",
    "\n",
    "### physical T\n",
    "### excitation $T_ex$\n",
    "### receiver $T_rec$\n",
    "### system $T_{sys}$\n",
    "### antenna $T_A$\n",
    "### brightness $T_B$\n",
    "\n",
    "Planck function:\n",
    "$$B(\\nu,T)=B_{\\nu}(T)=\\frac{2h\\nu^3}{c^2}\\frac{1}{e^{h\\nu/k_BT}-1}$$\n",
    "\n",
    "Maxwell-Boltzmann velocity dist:\n",
    "$$f(v)=4\\pi n (\\frac{m}{2\\pi k_B T})^{3/2}v^2e^{-mv^2/2k_BT}$$\n",
    "\n",
    "relative populations of two energy levels in al collection of atoms/molecules/icons\n",
    "$$n_2/n_1=(g_2/g_1)e^{-h\\nu_0/KT_{ex}}$$\n",
    "\n",
    "when $h\\nu \\ll k_BT$:\n",
    "$$B_{\\nu}(T)\\simeq \\frac{2\\nu^2}{c^2}k_BT$$\n",
    "define $T_B$ as a scaled version of specific intensity\n",
    "$$I_{\\nu}=\\frac{2\\nu^2}{c^2}k_BT_B$$\n",
    "\n",
    "nonthermal radiation: T is not meaningful  \n",
    "thermal radiation $\\tau<1$,low $\\nu : T_B<T$  \n",
    "\n",
    "$kT_A$:  \n",
    "power delivered by a thermal source at input of receiver \n",
    "$T_A$ is a measure of how bright source is& how it couples to telescope beam.   \n",
    "$T_A<T_B$ because of eff\n",
    "\n",
    "\n",
    "\n",
    "\n",
    "\n",
    "\n"
   ]
  },
  {
   "cell_type": "code",
   "execution_count": null,
   "metadata": {
    "collapsed": true
   },
   "outputs": [],
   "source": []
  },
  {
   "cell_type": "code",
   "execution_count": null,
   "metadata": {
    "collapsed": true
   },
   "outputs": [],
   "source": []
  }
 ],
 "metadata": {
  "kernelspec": {
   "display_name": "Python 3",
   "language": "python",
   "name": "python3"
  },
  "language_info": {
   "codemirror_mode": {
    "name": "ipython",
    "version": 3
   },
   "file_extension": ".py",
   "mimetype": "text/x-python",
   "name": "python",
   "nbconvert_exporter": "python",
   "pygments_lexer": "ipython3",
   "version": "3.6.0"
  },
  "latex_envs": {
   "LaTeX_envs_menu_present": true,
   "autocomplete": true,
   "bibliofile": "biblio.bib",
   "cite_by": "apalike",
   "current_citInitial": 1,
   "eqLabelWithNumbers": true,
   "eqNumInitial": 1,
   "hotkeys": {
    "equation": "Ctrl-E",
    "itemize": "Ctrl-I"
   },
   "labels_anchors": false,
   "latex_user_defs": false,
   "report_style_numbering": false,
   "user_envs_cfg": false
  },
  "toc": {
   "nav_menu": {},
   "number_sections": true,
   "sideBar": true,
   "skip_h1_title": false,
   "toc_cell": false,
   "toc_position": {},
   "toc_section_display": "block",
   "toc_window_display": false
  }
 },
 "nbformat": 4,
 "nbformat_minor": 2
}
