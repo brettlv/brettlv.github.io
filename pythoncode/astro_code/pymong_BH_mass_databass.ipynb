{
 "cells": [
  {
   "cell_type": "markdown",
   "metadata": {},
   "source": [
    "# init"
   ]
  },
  {
   "cell_type": "code",
   "execution_count": 1,
   "metadata": {
    "ExecuteTime": {
     "end_time": "2021-10-10T05:41:24.155603Z",
     "start_time": "2021-10-10T05:41:22.209141Z"
    }
   },
   "outputs": [],
   "source": [
    "from bson.objectid import ObjectId\n",
    "from bson.json_util import loads \n",
    "from bson.json_util import dumps \n",
    "\n",
    "import pandas as pd\n",
    "import numpy as np\n",
    "import pymongo\n",
    "import json\n",
    "from astropy.table import Table"
   ]
  },
  {
   "cell_type": "code",
   "execution_count": 2,
   "metadata": {
    "ExecuteTime": {
     "end_time": "2021-10-10T05:41:24.162093Z",
     "start_time": "2021-10-10T05:41:24.158310Z"
    }
   },
   "outputs": [],
   "source": [
    "def drop_index(data):\n",
    "    data=data.reset_index(drop=True)\n",
    "    return data"
   ]
  },
  {
   "cell_type": "code",
   "execution_count": 3,
   "metadata": {
    "ExecuteTime": {
     "end_time": "2021-10-10T05:41:24.709203Z",
     "start_time": "2021-10-10T05:41:24.684198Z"
    }
   },
   "outputs": [],
   "source": [
    "import pymongo\n",
    "#mon=pymongo.Connection('localhost',port=27017)\n",
    "#mongod\n",
    "import datetime\n",
    "from pymongo import MongoClient\n",
    "\n",
    "client = MongoClient('localhost', 27017)\n",
    "mass_db = client[\"mass_db\"]\n",
    "mycol_mass_db = mass_db[\"sites\"]\n",
    "\n",
    "#db = client['test-database']\n",
    "#collection = db['test-collection']"
   ]
  },
  {
   "cell_type": "code",
   "execution_count": 4,
   "metadata": {
    "ExecuteTime": {
     "end_time": "2021-10-10T05:41:26.404692Z",
     "start_time": "2021-10-10T05:41:26.401510Z"
    }
   },
   "outputs": [],
   "source": [
    "post = {\"author\": \"Brettlv\",\n",
    "         \"text\": \"BH_mass_databass\",\n",
    "         \"tags\": [\"mongodb\", \"python\", \"pymongo\"],\n",
    "         \"date\": datetime.datetime.utcnow()}"
   ]
  },
  {
   "cell_type": "markdown",
   "metadata": {
    "ExecuteTime": {
     "end_time": "2021-09-16T11:12:07.727646Z",
     "start_time": "2021-09-16T11:12:07.710180Z"
    }
   },
   "source": [
    "posts = mass_db.posts\n",
    "post_id = posts.insert_one(post).inserted_id"
   ]
  },
  {
   "cell_type": "code",
   "execution_count": null,
   "metadata": {},
   "outputs": [],
   "source": []
  },
  {
   "cell_type": "code",
   "execution_count": null,
   "metadata": {},
   "outputs": [],
   "source": []
  },
  {
   "cell_type": "code",
   "execution_count": 5,
   "metadata": {
    "ExecuteTime": {
     "end_time": "2021-10-10T05:41:28.660000Z",
     "start_time": "2021-10-10T05:41:28.628713Z"
    }
   },
   "outputs": [
    {
     "name": "stdout",
     "output_type": "stream",
     "text": [
      "集合已存在！\n",
      "集合已存在！\n"
     ]
    }
   ],
   "source": [
    "collist_mass_db = mass_db.list_collection_names()\n",
    "# collist = mydb.collection_names()\n",
    "if \"sites\" in collist_mass_db:   # 判断 sites 集合是否存在\n",
    "    print(\"集合已存在！\")\n",
    "    \n",
    "collist_posts = mass_db.list_collection_names()    \n",
    "if \"posts\" in collist_posts:   # 判断 sites 集合是否存在\n",
    "    print(\"集合已存在！\")    "
   ]
  },
  {
   "cell_type": "code",
   "execution_count": 6,
   "metadata": {
    "ExecuteTime": {
     "end_time": "2021-10-10T05:41:30.797925Z",
     "start_time": "2021-10-10T05:41:30.792354Z"
    }
   },
   "outputs": [
    {
     "name": "stdout",
     "output_type": "stream",
     "text": [
      "posts\n",
      "sites\n"
     ]
    }
   ],
   "source": [
    "for coll in mass_db.list_collection_names():\n",
    "    print(coll)"
   ]
  },
  {
   "cell_type": "code",
   "execution_count": 7,
   "metadata": {
    "ExecuteTime": {
     "end_time": "2021-10-10T05:41:34.149471Z",
     "start_time": "2021-10-10T05:41:34.134901Z"
    }
   },
   "outputs": [
    {
     "name": "stdout",
     "output_type": "stream",
     "text": [
      "{'name': 'CLAGN', 'sizeOnDisk': 77824.0, 'empty': False}\n",
      "{'name': 'admin', 'sizeOnDisk': 49152.0, 'empty': False}\n",
      "{'name': 'local', 'sizeOnDisk': 110592.0, 'empty': False}\n",
      "{'name': 'mass_db', 'sizeOnDisk': 167936.0, 'empty': False}\n",
      "{'name': 'test-database', 'sizeOnDisk': 106496.0, 'empty': False}\n"
     ]
    }
   ],
   "source": [
    "for db in client.list_databases():\n",
    "    print(db)"
   ]
  },
  {
   "cell_type": "markdown",
   "metadata": {
    "ExecuteTime": {
     "end_time": "2021-09-17T08:30:01.460718Z",
     "start_time": "2021-09-17T08:30:01.453659Z"
    }
   },
   "source": [
    "mycol_mass_db.find().count()"
   ]
  },
  {
   "cell_type": "markdown",
   "metadata": {
    "ExecuteTime": {
     "end_time": "2021-09-17T08:29:44.727412Z",
     "start_time": "2021-09-17T08:29:44.682158Z"
    }
   },
   "source": [
    "for i in mycol_mass_db.find():\n",
    "    print(i)"
   ]
  },
  {
   "cell_type": "markdown",
   "metadata": {
    "ExecuteTime": {
     "end_time": "2021-09-17T08:28:40.107305Z",
     "start_time": "2021-09-17T08:28:40.078703Z"
    }
   },
   "source": [
    "print(\"mass count is =\", mycol_mass_db.count_documents())"
   ]
  },
  {
   "cell_type": "code",
   "execution_count": null,
   "metadata": {},
   "outputs": [],
   "source": []
  },
  {
   "cell_type": "markdown",
   "metadata": {},
   "source": [
    "# loadsource"
   ]
  },
  {
   "cell_type": "markdown",
   "metadata": {},
   "source": [
    "## CLAGN "
   ]
  },
  {
   "cell_type": "code",
   "execution_count": 132,
   "metadata": {
    "ExecuteTime": {
     "end_time": "2021-09-19T02:17:27.417958Z",
     "start_time": "2021-09-19T02:17:27.124618Z"
    }
   },
   "outputs": [],
   "source": [
    "CLAGN_statistic_2021_liu=pd.read_excel('/Users/brettlv/blog/IHEP_sync/data/data_clagn/CLAGN_with_RA_Dec_Liuhaov2.xlsx',sheet_name='statistic_paper',header=None)\n",
    "#CLAGN_list_2021_liu=CLAGN_list_2020[1:]\n",
    "CLAGN_statistic_2021_liu.columns=['Name','z','type1or2','type','ref1','logM','ref2','']\n",
    "#CLAGN_statistic_2021_liu\n",
    "#CLAGN_statistic_2021_liu=CLAGN_statistic_2021_liu[CLAGN_statistic_2021_liu['logM']!=' - ']"
   ]
  },
  {
   "cell_type": "code",
   "execution_count": 133,
   "metadata": {
    "ExecuteTime": {
     "end_time": "2021-09-19T02:17:27.772159Z",
     "start_time": "2021-09-19T02:17:27.752377Z"
    }
   },
   "outputs": [
    {
     "name": "stderr",
     "output_type": "stream",
     "text": [
      "<ipython-input-133-a422c5107e64>:2: SettingWithCopyWarning: \n",
      "A value is trying to be set on a copy of a slice from a DataFrame.\n",
      "Try using .loc[row_indexer,col_indexer] = value instead\n",
      "\n",
      "See the caveats in the documentation: https://pandas.pydata.org/pandas-docs/stable/user_guide/indexing.html#returning-a-view-versus-a-copy\n",
      "  CLAGN_statistic_2021_liu_select['Name']=CLAGN_statistic_2021_liu_select['Name'].str.replace(' ','').str.strip()\n",
      "<ipython-input-133-a422c5107e64>:3: SettingWithCopyWarning: \n",
      "A value is trying to be set on a copy of a slice from a DataFrame.\n",
      "Try using .loc[row_indexer,col_indexer] = value instead\n",
      "\n",
      "See the caveats in the documentation: https://pandas.pydata.org/pandas-docs/stable/user_guide/indexing.html#returning-a-view-versus-a-copy\n",
      "  CLAGN_statistic_2021_liu_select['Note']='Liuetal2021'\n"
     ]
    }
   ],
   "source": [
    "CLAGN_statistic_2021_liu_select=CLAGN_statistic_2021_liu[['Name','z','logM']]\n",
    "CLAGN_statistic_2021_liu_select['Name']=CLAGN_statistic_2021_liu_select['Name'].str.replace(' ','').str.strip()\n",
    "CLAGN_statistic_2021_liu_select['Note']='Liuetal2021'"
   ]
  },
  {
   "cell_type": "code",
   "execution_count": 134,
   "metadata": {
    "ExecuteTime": {
     "end_time": "2021-09-19T02:17:29.568035Z",
     "start_time": "2021-09-19T02:17:29.560367Z"
    }
   },
   "outputs": [
    {
     "data": {
      "text/plain": [
       "Index(['Name', 'z', 'logM', 'Note'], dtype='object')"
      ]
     },
     "execution_count": 134,
     "metadata": {},
     "output_type": "execute_result"
    }
   ],
   "source": [
    "CLAGN_statistic_2021_liu_select.columns"
   ]
  },
  {
   "cell_type": "markdown",
   "metadata": {
    "ExecuteTime": {
     "end_time": "2021-09-16T11:14:45.768249Z",
     "start_time": "2021-09-16T11:14:45.743464Z"
    }
   },
   "source": [
    "CLAGN_statistic_2021_liu_select"
   ]
  },
  {
   "cell_type": "markdown",
   "metadata": {
    "ExecuteTime": {
     "end_time": "2021-09-18T05:38:19.797775Z",
     "start_time": "2021-09-18T05:38:19.765951Z"
    }
   },
   "source": [
    "zarten_CLAGN_statistic = json.loads(CLAGN_statistic_2021_liu_select.T.to_json()).values()\n",
    "mycol_mass_db.insert_many(zarten_CLAGN_statistic)"
   ]
  },
  {
   "cell_type": "code",
   "execution_count": 21,
   "metadata": {
    "ExecuteTime": {
     "end_time": "2021-09-18T05:37:58.405628Z",
     "start_time": "2021-09-18T05:37:58.399058Z"
    }
   },
   "outputs": [
    {
     "name": "stdout",
     "output_type": "stream",
     "text": [
      "mycol_mass_db count is =  0\n"
     ]
    },
    {
     "name": "stderr",
     "output_type": "stream",
     "text": [
      "<ipython-input-21-045be7178bcc>:1: DeprecationWarning: count is deprecated. Use estimated_document_count or count_documents instead. Please note that $where must be replaced by $expr, $near must be replaced by $geoWithin with $center, and $nearSphere must be replaced by $geoWithin with $centerSphere\n",
      "  print(\"mycol_mass_db count is = \", mycol_mass_db.count())\n"
     ]
    }
   ],
   "source": [
    "print(\"mycol_mass_db count is = \", mycol_mass_db.count())"
   ]
  },
  {
   "cell_type": "code",
   "execution_count": 135,
   "metadata": {
    "ExecuteTime": {
     "end_time": "2021-09-19T02:17:39.489541Z",
     "start_time": "2021-09-19T02:17:39.479947Z"
    }
   },
   "outputs": [],
   "source": [
    "nomass_CLAGN=CLAGN_statistic_2021_liu_select[CLAGN_statistic_2021_liu_select['logM']==' - ']\n",
    "nomass_CLAGN=drop_index(nomass_CLAGN)"
   ]
  },
  {
   "cell_type": "markdown",
   "metadata": {},
   "source": [
    "## nomassCLAGN"
   ]
  },
  {
   "cell_type": "code",
   "execution_count": 24,
   "metadata": {
    "ExecuteTime": {
     "end_time": "2021-09-18T05:38:34.469721Z",
     "start_time": "2021-09-18T05:38:34.459439Z"
    }
   },
   "outputs": [
    {
     "name": "stdout",
     "output_type": "stream",
     "text": [
      "3C390.3\n",
      "Mrk372\n",
      "Mrk609\n",
      "Mrk728\n",
      "Mrk883\n",
      "Mrk993\n",
      "Mrk1494\n",
      "NGC1346\n",
      "NGC2622\n",
      "NGC4939\n",
      "NGC5683\n",
      "WISEAJ004339.35+134436.3\n",
      "2MASXJ08284278+5444333\n",
      "2MASSJ09270231+0433080\n",
      "2MASXJ11180325+4506463\n",
      "WISEAJ112637.73+513423.0\n",
      "SDSSJ125258.72+591832.7\n",
      "SDSSJ130716.99+450645.3\n",
      "SDSSJ131737.93+102427.7\n",
      "2MASSJ14345529+5723449\n",
      "SDSSJ154953.60+112148.3\n",
      "2MASXJ16050519+4526348\n",
      "SDSSJ162752.18+541912.5\n",
      "SDSSJ171353.85+273626.8\n",
      "2MASXJ20075129-1108346\n"
     ]
    }
   ],
   "source": [
    "for name in nomass_CLAGN['Name']:\n",
    "    print(name)"
   ]
  },
  {
   "cell_type": "code",
   "execution_count": 97,
   "metadata": {
    "ExecuteTime": {
     "end_time": "2021-09-18T09:49:09.022639Z",
     "start_time": "2021-09-18T09:49:09.010987Z"
    }
   },
   "outputs": [],
   "source": [
    "from astropy.io.votable import parse\n",
    "from astropy.io.votable import parse_single_table\n",
    "\n",
    "\n",
    "nomass_CLAGN_votable = parse_single_table(\"/Users/brettlv/Downloads/CLAGN_statistic_plot/CLAGN/nomass_CLAGN_velocity.xml\")\n",
    "\n",
    "#nomass_CLAGN_votable = parse(\"/Users/brettlv/Downloads/CLAGN_statistic_plot/CLAGN/nomass_CLAGN_velocity.xml\")\n",
    "#nomass_CLAGN_velocity=Table.read('')\n",
    "#nomass_CLAGN_velocity"
   ]
  },
  {
   "cell_type": "code",
   "execution_count": 99,
   "metadata": {
    "ExecuteTime": {
     "end_time": "2021-09-18T09:49:56.137158Z",
     "start_time": "2021-09-18T09:49:56.134246Z"
    }
   },
   "outputs": [],
   "source": [
    "data_nomass_CLAGN_votable = nomass_CLAGN_votable.array"
   ]
  },
  {
   "cell_type": "code",
   "execution_count": 104,
   "metadata": {
    "ExecuteTime": {
     "end_time": "2021-09-18T10:01:37.146231Z",
     "start_time": "2021-09-18T10:01:37.137649Z"
    }
   },
   "outputs": [
    {
     "data": {
      "text/plain": [
       "masked_array(data=[(b'2MASXJ15495361+1121481', [237.47343, 11.36339], b'fG.cgi?n=a115&o=2MASXJ15495361+1121481', b'fG.cgi?n=a102&o=2MASXJ15495361+1121481', b'fG.cgi?n=a110&o=2MASXJ15495361+1121481', b'fG.cgi?n=a007&o=2MASXJ15495361+1121481', b'fG.cgi?n=a107&z=g,d,r&o=2MASXJ15495361+1121481', b'fG.cgi?n=a106&o=2MASXJ15495361+1121481', b'fG.cgi?n=a103&o=2MASXJ15495361+1121481', b'fG.cgi?n=a001&o=2MASXJ15495361+1121481', b'fG.cgi?n=a002&o=2MASXJ15495361+1121481', b'fG.cgi?n=a108&o=2MASXJ15495361+1121481', b'fG.cgi?n=a101&o=2MASXJ15495361+1121481', b'fG.cgi?n=a113&o=2MASXJ15495361+1121481', b'fG.cgi?n=a004&o=2MASXJ15495361+1121481', b'fG.cgi?n=a005&o=2MASXJ15495361+1121481', b'fG.cgi?n=a006&o=2MASXJ15495361+1121481', b'fG.cgi?n=a112&o=2MASXJ15495361+1121481', b'fG.cgi?n=a003&z=g,d,r&o=2MASXJ15495361+1121481', b'fG.cgi?n=a009&z=g,d,r&o=2MASXJ15495361+1121481', b'fG.cgi?n=a010&z=g,d,r&o=2MASXJ15495361+1121481', b'fG.cgi?n=a011&o=2MASXJ15495361+1121481', b'fG.cgi?n=a104&o=2MASXJ15495361+1121481'),\n",
       "                   (b'2MASXJ16275221+5419126', [246.9676, 54.32021], b'fG.cgi?n=a115&o=2MASXJ16275221+5419126', b'fG.cgi?n=a102&o=2MASXJ16275221+5419126', b'fG.cgi?n=a110&o=2MASXJ16275221+5419126', b'fG.cgi?n=a007&o=2MASXJ16275221+5419126', b'fG.cgi?n=a107&z=g,d,r&o=2MASXJ16275221+5419126', b'fG.cgi?n=a106&o=2MASXJ16275221+5419126', b'fG.cgi?n=a103&o=2MASXJ16275221+5419126', b'fG.cgi?n=a001&o=2MASXJ16275221+5419126', b'fG.cgi?n=a002&o=2MASXJ16275221+5419126', b'fG.cgi?n=a108&o=2MASXJ16275221+5419126', b'fG.cgi?n=a101&o=2MASXJ16275221+5419126', b'fG.cgi?n=a113&o=2MASXJ16275221+5419126', b'fG.cgi?n=a004&o=2MASXJ16275221+5419126', b'fG.cgi?n=a005&o=2MASXJ16275221+5419126', b'fG.cgi?n=a006&o=2MASXJ16275221+5419126', b'fG.cgi?n=a112&o=2MASXJ16275221+5419126', b'fG.cgi?n=a003&z=g,d,r&o=2MASXJ16275221+5419126', b'fG.cgi?n=a009&z=g,d,r&o=2MASXJ16275221+5419126', b'fG.cgi?n=a010&z=g,d,r&o=2MASXJ16275221+5419126', b'fG.cgi?n=a011&o=2MASXJ16275221+5419126', b'fG.cgi?n=a104&o=2MASXJ16275221+5419126'),\n",
       "                   (b'IC1854', [42.3361, 19.30393], b'fG.cgi?n=a115&o=IC1854', b'fG.cgi?n=a102&o=IC1854', b'fG.cgi?n=a110&o=IC1854', b'fG.cgi?n=a007&o=IC1854', b'fG.cgi?n=a107&z=g,d,r&o=IC1854', b'fG.cgi?n=a106&o=IC1854', b'fG.cgi?n=a103&o=IC1854', b'fG.cgi?n=a001&o=IC1854', b'fG.cgi?n=a002&o=IC1854', b'fG.cgi?n=a108&o=IC1854', b'fG.cgi?n=a101&o=IC1854', b'fG.cgi?n=a113&o=IC1854', b'fG.cgi?n=a004&o=IC1854', b'fG.cgi?n=a005&o=IC1854', b'fG.cgi?n=a006&o=IC1854', b'fG.cgi?n=a112&o=IC1854', b'fG.cgi?n=a003&z=g,d,r&o=IC1854', b'fG.cgi?n=a009&z=g,d,r&o=IC1854', b'fG.cgi?n=a010&z=g,d,r&o=IC1854', b'fG.cgi?n=a011&o=IC1854', b'fG.cgi?n=a104&o=IC1854'),\n",
       "                   (b'NGC1346', [52.55534, -5.54339], b'fG.cgi?n=a115&o=NGC1346', b'fG.cgi?n=a102&o=NGC1346', b'fG.cgi?n=a110&o=NGC1346', b'fG.cgi?n=a007&o=NGC1346', b'fG.cgi?n=a107&z=g,d,r&o=NGC1346', b'fG.cgi?n=a106&o=NGC1346', b'fG.cgi?n=a103&o=NGC1346', b'fG.cgi?n=a001&o=NGC1346', b'fG.cgi?n=a002&o=NGC1346', b'fG.cgi?n=a108&o=NGC1346', b'fG.cgi?n=a101&o=NGC1346', b'fG.cgi?n=a113&o=NGC1346', b'fG.cgi?n=a004&o=NGC1346', b'fG.cgi?n=a005&o=NGC1346', b'fG.cgi?n=a006&o=NGC1346', b'fG.cgi?n=a112&o=NGC1346', b'fG.cgi?n=a003&z=g,d,r&o=NGC1346', b'fG.cgi?n=a009&z=g,d,r&o=NGC1346', b'fG.cgi?n=a010&z=g,d,r&o=NGC1346', b'fG.cgi?n=a011&o=NGC1346', b'fG.cgi?n=a104&o=NGC1346'),\n",
       "                   (b'NGC2622', [129.54568, 24.89531], b'fG.cgi?n=a115&o=NGC2622', b'fG.cgi?n=a102&o=NGC2622', b'fG.cgi?n=a110&o=NGC2622', b'fG.cgi?n=a007&o=NGC2622', b'fG.cgi?n=a107&z=g,d,r&o=NGC2622', b'fG.cgi?n=a106&o=NGC2622', b'fG.cgi?n=a103&o=NGC2622', b'fG.cgi?n=a001&o=NGC2622', b'fG.cgi?n=a002&o=NGC2622', b'fG.cgi?n=a108&o=NGC2622', b'fG.cgi?n=a101&o=NGC2622', b'fG.cgi?n=a113&o=NGC2622', b'fG.cgi?n=a004&o=NGC2622', b'fG.cgi?n=a005&o=NGC2622', b'fG.cgi?n=a006&o=NGC2622', b'fG.cgi?n=a112&o=NGC2622', b'fG.cgi?n=a003&z=g,d,r&o=NGC2622', b'fG.cgi?n=a009&z=g,d,r&o=NGC2622', b'fG.cgi?n=a010&z=g,d,r&o=NGC2622', b'fG.cgi?n=a011&o=NGC2622', b'fG.cgi?n=a104&o=NGC2622'),\n",
       "                   (b'NGC5683', [218.71862, 48.66196], b'fG.cgi?n=a115&o=NGC5683', b'fG.cgi?n=a102&o=NGC5683', b'fG.cgi?n=a110&o=NGC5683', b'fG.cgi?n=a007&o=NGC5683', b'fG.cgi?n=a107&z=g,d,r&o=NGC5683', b'fG.cgi?n=a106&o=NGC5683', b'fG.cgi?n=a103&o=NGC5683', b'fG.cgi?n=a001&o=NGC5683', b'fG.cgi?n=a002&o=NGC5683', b'fG.cgi?n=a108&o=NGC5683', b'fG.cgi?n=a101&o=NGC5683', b'fG.cgi?n=a113&o=NGC5683', b'fG.cgi?n=a004&o=NGC5683', b'fG.cgi?n=a005&o=NGC5683', b'fG.cgi?n=a006&o=NGC5683', b'fG.cgi?n=a112&o=NGC5683', b'fG.cgi?n=a003&z=g,d,r&o=NGC5683', b'fG.cgi?n=a009&z=g,d,r&o=NGC5683', b'fG.cgi?n=a010&z=g,d,r&o=NGC5683', b'fG.cgi?n=a011&o=NGC5683', b'fG.cgi?n=a104&o=NGC5683'),\n",
       "                   (b'PGC012801', [51.3557, -6.14391], b'fG.cgi?n=a115&o=PGC012801', b'fG.cgi?n=a102&o=PGC012801', b'fG.cgi?n=a110&o=PGC012801', b'fG.cgi?n=a007&o=PGC012801', b'fG.cgi?n=a107&z=g,d,r&o=PGC012801', b'fG.cgi?n=a106&o=PGC012801', b'fG.cgi?n=a103&o=PGC012801', b'fG.cgi?n=a001&o=PGC012801', b'fG.cgi?n=a002&o=PGC012801', b'fG.cgi?n=a108&o=PGC012801', b'fG.cgi?n=a101&o=PGC012801', b'fG.cgi?n=a113&o=PGC012801', b'fG.cgi?n=a004&o=PGC012801', b'fG.cgi?n=a005&o=PGC012801', b'fG.cgi?n=a006&o=PGC012801', b'fG.cgi?n=a112&o=PGC012801', b'fG.cgi?n=a003&z=g,d,r&o=PGC012801', b'fG.cgi?n=a009&z=g,d,r&o=PGC012801', b'fG.cgi?n=a010&z=g,d,r&o=PGC012801', b'fG.cgi?n=a011&o=PGC012801', b'fG.cgi?n=a104&o=PGC012801'),\n",
       "                   (b'PGC033214', [165.25747, 11.04696], b'fG.cgi?n=a115&o=PGC033214', b'fG.cgi?n=a102&o=PGC033214', b'fG.cgi?n=a110&o=PGC033214', b'fG.cgi?n=a007&o=PGC033214', b'fG.cgi?n=a107&z=g,d,r&o=PGC033214', b'fG.cgi?n=a106&o=PGC033214', b'fG.cgi?n=a103&o=PGC033214', b'fG.cgi?n=a001&o=PGC033214', b'fG.cgi?n=a002&o=PGC033214', b'fG.cgi?n=a108&o=PGC033214', b'fG.cgi?n=a101&o=PGC033214', b'fG.cgi?n=a113&o=PGC033214', b'fG.cgi?n=a004&o=PGC033214', b'fG.cgi?n=a005&o=PGC033214', b'fG.cgi?n=a006&o=PGC033214', b'fG.cgi?n=a112&o=PGC033214', b'fG.cgi?n=a003&z=g,d,r&o=PGC033214', b'fG.cgi?n=a009&z=g,d,r&o=PGC033214', b'fG.cgi?n=a010&z=g,d,r&o=PGC033214', b'fG.cgi?n=a011&o=PGC033214', b'fG.cgi?n=a104&o=PGC033214'),\n",
       "                   (b'PGC053662', [225.4117, 10.4205], b'fG.cgi?n=a115&o=PGC053662', b'fG.cgi?n=a102&o=PGC053662', b'fG.cgi?n=a110&o=PGC053662', b'fG.cgi?n=a007&o=PGC053662', b'fG.cgi?n=a107&z=g,d,r&o=PGC053662', b'fG.cgi?n=a106&o=PGC053662', b'fG.cgi?n=a103&o=PGC053662', b'fG.cgi?n=a001&o=PGC053662', b'fG.cgi?n=a002&o=PGC053662', b'fG.cgi?n=a108&o=PGC053662', b'fG.cgi?n=a101&o=PGC053662', b'fG.cgi?n=a113&o=PGC053662', b'fG.cgi?n=a004&o=PGC053662', b'fG.cgi?n=a005&o=PGC053662', b'fG.cgi?n=a006&o=PGC053662', b'fG.cgi?n=a112&o=PGC053662', b'fG.cgi?n=a003&z=g,d,r&o=PGC053662', b'fG.cgi?n=a009&z=g,d,r&o=PGC053662', b'fG.cgi?n=a010&z=g,d,r&o=PGC053662', b'fG.cgi?n=a011&o=PGC053662', b'fG.cgi?n=a104&o=PGC053662'),\n",
       "                   (b'PGC057026', [241.27162, 45.443], b'fG.cgi?n=a115&o=PGC057026', b'fG.cgi?n=a102&o=PGC057026', b'fG.cgi?n=a110&o=PGC057026', b'fG.cgi?n=a007&o=PGC057026', b'fG.cgi?n=a107&z=g,d,r&o=PGC057026', b'fG.cgi?n=a106&o=PGC057026', b'fG.cgi?n=a103&o=PGC057026', b'fG.cgi?n=a001&o=PGC057026', b'fG.cgi?n=a002&o=PGC057026', b'fG.cgi?n=a108&o=PGC057026', b'fG.cgi?n=a101&o=PGC057026', b'fG.cgi?n=a113&o=PGC057026', b'fG.cgi?n=a004&o=PGC057026', b'fG.cgi?n=a005&o=PGC057026', b'fG.cgi?n=a006&o=PGC057026', b'fG.cgi?n=a112&o=PGC057026', b'fG.cgi?n=a003&z=g,d,r&o=PGC057026', b'fG.cgi?n=a009&z=g,d,r&o=PGC057026', b'fG.cgi?n=a010&z=g,d,r&o=PGC057026', b'fG.cgi?n=a011&o=PGC057026', b'fG.cgi?n=a104&o=PGC057026'),\n",
       "                   (b'PGC058359', [247.4705, 24.44396], b'fG.cgi?n=a115&o=PGC058359', b'fG.cgi?n=a102&o=PGC058359', b'fG.cgi?n=a110&o=PGC058359', b'fG.cgi?n=a007&o=PGC058359', b'fG.cgi?n=a107&z=g,d,r&o=PGC058359', b'fG.cgi?n=a106&o=PGC058359', b'fG.cgi?n=a103&o=PGC058359', b'fG.cgi?n=a001&o=PGC058359', b'fG.cgi?n=a002&o=PGC058359', b'fG.cgi?n=a108&o=PGC058359', b'fG.cgi?n=a101&o=PGC058359', b'fG.cgi?n=a113&o=PGC058359', b'fG.cgi?n=a004&o=PGC058359', b'fG.cgi?n=a005&o=PGC058359', b'fG.cgi?n=a006&o=PGC058359', b'fG.cgi?n=a112&o=PGC058359', b'fG.cgi?n=a003&z=g,d,r&o=PGC058359', b'fG.cgi?n=a009&z=g,d,r&o=PGC058359', b'fG.cgi?n=a010&z=g,d,r&o=PGC058359', b'fG.cgi?n=a011&o=PGC058359', b'fG.cgi?n=a104&o=PGC058359'),\n",
       "                   (b'PGC139560', [169.51347, 45.11306], b'fG.cgi?n=a115&o=PGC139560', b'fG.cgi?n=a102&o=PGC139560', b'fG.cgi?n=a110&o=PGC139560', b'fG.cgi?n=a007&o=PGC139560', b'fG.cgi?n=a107&z=g,d,r&o=PGC139560', b'fG.cgi?n=a106&o=PGC139560', b'fG.cgi?n=a103&o=PGC139560', b'fG.cgi?n=a001&o=PGC139560', b'fG.cgi?n=a002&o=PGC139560', b'fG.cgi?n=a108&o=PGC139560', b'fG.cgi?n=a101&o=PGC139560', b'fG.cgi?n=a113&o=PGC139560', b'fG.cgi?n=a004&o=PGC139560', b'fG.cgi?n=a005&o=PGC139560', b'fG.cgi?n=a006&o=PGC139560', b'fG.cgi?n=a112&o=PGC139560', b'fG.cgi?n=a003&z=g,d,r&o=PGC139560', b'fG.cgi?n=a009&z=g,d,r&o=PGC139560', b'fG.cgi?n=a010&z=g,d,r&o=PGC139560', b'fG.cgi?n=a011&o=PGC139560', b'fG.cgi?n=a104&o=PGC139560'),\n",
       "                   (b'PGC165838', [301.96372, -11.14297], b'fG.cgi?n=a115&o=PGC165838', b'fG.cgi?n=a102&o=PGC165838', b'fG.cgi?n=a110&o=PGC165838', b'fG.cgi?n=a007&o=PGC165838', b'fG.cgi?n=a107&z=g,d,r&o=PGC165838', b'fG.cgi?n=a106&o=PGC165838', b'fG.cgi?n=a103&o=PGC165838', b'fG.cgi?n=a001&o=PGC165838', b'fG.cgi?n=a002&o=PGC165838', b'fG.cgi?n=a108&o=PGC165838', b'fG.cgi?n=a101&o=PGC165838', b'fG.cgi?n=a113&o=PGC165838', b'fG.cgi?n=a004&o=PGC165838', b'fG.cgi?n=a005&o=PGC165838', b'fG.cgi?n=a006&o=PGC165838', b'fG.cgi?n=a112&o=PGC165838', b'fG.cgi?n=a003&z=g,d,r&o=PGC165838', b'fG.cgi?n=a009&z=g,d,r&o=PGC165838', b'fG.cgi?n=a010&z=g,d,r&o=PGC165838', b'fG.cgi?n=a011&o=PGC165838', b'fG.cgi?n=a104&o=PGC165838'),\n",
       "                   (b'PGC2588950', [193.24479, 59.3092], b'fG.cgi?n=a115&o=PGC2588950', b'fG.cgi?n=a102&o=PGC2588950', b'fG.cgi?n=a110&o=PGC2588950', b'fG.cgi?n=a007&o=PGC2588950', b'fG.cgi?n=a107&z=g,d,r&o=PGC2588950', b'fG.cgi?n=a106&o=PGC2588950', b'fG.cgi?n=a103&o=PGC2588950', b'fG.cgi?n=a001&o=PGC2588950', b'fG.cgi?n=a002&o=PGC2588950', b'fG.cgi?n=a108&o=PGC2588950', b'fG.cgi?n=a101&o=PGC2588950', b'fG.cgi?n=a113&o=PGC2588950', b'fG.cgi?n=a004&o=PGC2588950', b'fG.cgi?n=a005&o=PGC2588950', b'fG.cgi?n=a006&o=PGC2588950', b'fG.cgi?n=a112&o=PGC2588950', b'fG.cgi?n=a003&z=g,d,r&o=PGC2588950', b'fG.cgi?n=a009&z=g,d,r&o=PGC2588950', b'fG.cgi?n=a010&z=g,d,r&o=PGC2588950', b'fG.cgi?n=a011&o=PGC2588950', b'fG.cgi?n=a104&o=PGC2588950'),\n",
       "                   (b'SDSSJ130716.99+450645.2', [196.82085, 45.11267], b'fG.cgi?n=a115&o=SDSSJ130716.99+450645.2', b'fG.cgi?n=a102&o=SDSSJ130716.99+450645.2', b'fG.cgi?n=a110&o=SDSSJ130716.99+450645.2', b'fG.cgi?n=a007&o=SDSSJ130716.99+450645.2', b'fG.cgi?n=a107&z=g,d,r&o=SDSSJ130716.99+450645.2', b'fG.cgi?n=a106&o=SDSSJ130716.99+450645.2', b'fG.cgi?n=a103&o=SDSSJ130716.99+450645.2', b'fG.cgi?n=a001&o=SDSSJ130716.99+450645.2', b'fG.cgi?n=a002&o=SDSSJ130716.99+450645.2', b'fG.cgi?n=a108&o=SDSSJ130716.99+450645.2', b'fG.cgi?n=a101&o=SDSSJ130716.99+450645.2', b'fG.cgi?n=a113&o=SDSSJ130716.99+450645.2', b'fG.cgi?n=a004&o=SDSSJ130716.99+450645.2', b'fG.cgi?n=a005&o=SDSSJ130716.99+450645.2', b'fG.cgi?n=a006&o=SDSSJ130716.99+450645.2', b'fG.cgi?n=a112&o=SDSSJ130716.99+450645.2', b'fG.cgi?n=a003&z=g,d,r&o=SDSSJ130716.99+450645.2', b'fG.cgi?n=a009&z=g,d,r&o=SDSSJ130716.99+450645.2', b'fG.cgi?n=a010&z=g,d,r&o=SDSSJ130716.99+450645.2', b'fG.cgi?n=a011&o=SDSSJ130716.99+450645.2', b'fG.cgi?n=a104&o=SDSSJ130716.99+450645.2'),\n",
       "                   (b'SDSSJ131737.93+102427.7', [199.40803, 10.40782], b'fG.cgi?n=a115&o=SDSSJ131737.93+102427.7', b'fG.cgi?n=a102&o=SDSSJ131737.93+102427.7', b'fG.cgi?n=a110&o=SDSSJ131737.93+102427.7', b'fG.cgi?n=a007&o=SDSSJ131737.93+102427.7', b'fG.cgi?n=a107&z=g,d,r&o=SDSSJ131737.93+102427.7', b'fG.cgi?n=a106&o=SDSSJ131737.93+102427.7', b'fG.cgi?n=a103&o=SDSSJ131737.93+102427.7', b'fG.cgi?n=a001&o=SDSSJ131737.93+102427.7', b'fG.cgi?n=a002&o=SDSSJ131737.93+102427.7', b'fG.cgi?n=a108&o=SDSSJ131737.93+102427.7', b'fG.cgi?n=a101&o=SDSSJ131737.93+102427.7', b'fG.cgi?n=a113&o=SDSSJ131737.93+102427.7', b'fG.cgi?n=a004&o=SDSSJ131737.93+102427.7', b'fG.cgi?n=a005&o=SDSSJ131737.93+102427.7', b'fG.cgi?n=a006&o=SDSSJ131737.93+102427.7', b'fG.cgi?n=a112&o=SDSSJ131737.93+102427.7', b'fG.cgi?n=a003&z=g,d,r&o=SDSSJ131737.93+102427.7', b'fG.cgi?n=a009&z=g,d,r&o=SDSSJ131737.93+102427.7', b'fG.cgi?n=a010&z=g,d,r&o=SDSSJ131737.93+102427.7', b'fG.cgi?n=a011&o=SDSSJ131737.93+102427.7', b'fG.cgi?n=a104&o=SDSSJ131737.93+102427.7'),\n",
       "                   (b'SDSSJ171353.85+273626.8', [258.47444, 27.60744], b'fG.cgi?n=a115&o=SDSSJ171353.85+273626.8', b'fG.cgi?n=a102&o=SDSSJ171353.85+273626.8', b'fG.cgi?n=a110&o=SDSSJ171353.85+273626.8', b'fG.cgi?n=a007&o=SDSSJ171353.85+273626.8', b'fG.cgi?n=a107&z=g,d,r&o=SDSSJ171353.85+273626.8', b'fG.cgi?n=a106&o=SDSSJ171353.85+273626.8', b'fG.cgi?n=a103&o=SDSSJ171353.85+273626.8', b'fG.cgi?n=a001&o=SDSSJ171353.85+273626.8', b'fG.cgi?n=a002&o=SDSSJ171353.85+273626.8', b'fG.cgi?n=a108&o=SDSSJ171353.85+273626.8', b'fG.cgi?n=a101&o=SDSSJ171353.85+273626.8', b'fG.cgi?n=a113&o=SDSSJ171353.85+273626.8', b'fG.cgi?n=a004&o=SDSSJ171353.85+273626.8', b'fG.cgi?n=a005&o=SDSSJ171353.85+273626.8', b'fG.cgi?n=a006&o=SDSSJ171353.85+273626.8', b'fG.cgi?n=a112&o=SDSSJ171353.85+273626.8', b'fG.cgi?n=a003&z=g,d,r&o=SDSSJ171353.85+273626.8', b'fG.cgi?n=a009&z=g,d,r&o=SDSSJ171353.85+273626.8', b'fG.cgi?n=a010&z=g,d,r&o=SDSSJ171353.85+273626.8', b'fG.cgi?n=a011&o=SDSSJ171353.85+273626.8', b'fG.cgi?n=a104&o=SDSSJ171353.85+273626.8'),\n",
       "                   (b'UGC00987', [21.38114, 32.13619], b'fG.cgi?n=a115&o=UGC00987', b'fG.cgi?n=a102&o=UGC00987', b'fG.cgi?n=a110&o=UGC00987', b'fG.cgi?n=a007&o=UGC00987', b'fG.cgi?n=a107&z=g,d,r&o=UGC00987', b'fG.cgi?n=a106&o=UGC00987', b'fG.cgi?n=a103&o=UGC00987', b'fG.cgi?n=a001&o=UGC00987', b'fG.cgi?n=a002&o=UGC00987', b'fG.cgi?n=a108&o=UGC00987', b'fG.cgi?n=a101&o=UGC00987', b'fG.cgi?n=a113&o=UGC00987', b'fG.cgi?n=a004&o=UGC00987', b'fG.cgi?n=a005&o=UGC00987', b'fG.cgi?n=a006&o=UGC00987', b'fG.cgi?n=a112&o=UGC00987', b'fG.cgi?n=a003&z=g,d,r&o=UGC00987', b'fG.cgi?n=a009&z=g,d,r&o=UGC00987', b'fG.cgi?n=a010&z=g,d,r&o=UGC00987', b'fG.cgi?n=a011&o=UGC00987', b'fG.cgi?n=a104&o=UGC00987')],\n",
       "             mask=[(False, [False, False], False, False, False, False, False, False, False, False, False, False, False, False, False, False, False, False, False, False, False, False, False),\n",
       "                   (False, [False, False], False, False, False, False, False, False, False, False, False, False, False, False, False, False, False, False, False, False, False, False, False),\n",
       "                   (False, [False, False], False, False, False, False, False, False, False, False, False, False, False, False, False, False, False, False, False, False, False, False, False),\n",
       "                   (False, [False, False], False, False, False, False, False, False, False, False, False, False, False, False, False, False, False, False, False, False, False, False, False),\n",
       "                   (False, [False, False], False, False, False, False, False, False, False, False, False, False, False, False, False, False, False, False, False, False, False, False, False),\n",
       "                   (False, [False, False], False, False, False, False, False, False, False, False, False, False, False, False, False, False, False, False, False, False, False, False, False),\n",
       "                   (False, [False, False], False, False, False, False, False, False, False, False, False, False, False, False, False, False, False, False, False, False, False, False, False),\n",
       "                   (False, [False, False], False, False, False, False, False, False, False, False, False, False, False, False, False, False, False, False, False, False, False, False, False),\n",
       "                   (False, [False, False], False, False, False, False, False, False, False, False, False, False, False, False, False, False, False, False, False, False, False, False, False),\n",
       "                   (False, [False, False], False, False, False, False, False, False, False, False, False, False, False, False, False, False, False, False, False, False, False, False, False),\n",
       "                   (False, [False, False], False, False, False, False, False, False, False, False, False, False, False, False, False, False, False, False, False, False, False, False, False),\n",
       "                   (False, [False, False], False, False, False, False, False, False, False, False, False, False, False, False, False, False, False, False, False, False, False, False, False),\n",
       "                   (False, [False, False], False, False, False, False, False, False, False, False, False, False, False, False, False, False, False, False, False, False, False, False, False),\n",
       "                   (False, [False, False], False, False, False, False, False, False, False, False, False, False, False, False, False, False, False, False, False, False, False, False, False),\n",
       "                   (False, [False, False], False, False, False, False, False, False, False, False, False, False, False, False, False, False, False, False, False, False, False, False, False),\n",
       "                   (False, [False, False], False, False, False, False, False, False, False, False, False, False, False, False, False, False, False, False, False, False, False, False, False),\n",
       "                   (False, [False, False], False, False, False, False, False, False, False, False, False, False, False, False, False, False, False, False, False, False, False, False, False),\n",
       "                   (False, [False, False], False, False, False, False, False, False, False, False, False, False, False, False, False, False, False, False, False, False, False, False, False)],\n",
       "       fill_value=(b'N/A', [1.e+20, 1.e+20], '?', '?', '?', '?', '?', '?', '?', '?', '?', '?', '?', '?', '?', '?', '?', '?', '?', '?', '?', '?', '?'),\n",
       "            dtype=(numpy.record, [('objname', 'S30'), ('j2000', '<f8', (2,)), (('link', 'LINK1'), 'O'), (('link 2', 'LINK2'), 'O'), (('link 3', 'LINK3'), 'O'), (('link 4', 'LINK4'), 'O'), (('link 5', 'LINK5'), 'O'), (('link 6', 'LINK6'), 'O'), (('link 7', 'LINK7'), 'O'), (('link 8', 'LINK8'), 'O'), (('link 9', 'LINK9'), 'O'), (('link 10', 'LINK10'), 'O'), (('link 11', 'LINK11'), 'O'), (('link 12', 'LINK12'), 'O'), (('link 13', 'LINK13'), 'O'), (('link 14', 'LINK14'), 'O'), (('link 15', 'LINK15'), 'O'), (('link 16', 'LINK16'), 'O'), (('link 17', 'LINK17'), 'O'), (('link 18', 'LINK18'), 'O'), (('link 19', 'LINK19'), 'O'), (('link 20', 'LINK20'), 'O'), (('link 21', 'LINK21'), 'O')]))"
      ]
     },
     "execution_count": 104,
     "metadata": {},
     "output_type": "execute_result"
    }
   ],
   "source": [
    "data_nomass_CLAGN_votable"
   ]
  },
  {
   "cell_type": "code",
   "execution_count": 101,
   "metadata": {
    "ExecuteTime": {
     "end_time": "2021-09-18T10:01:09.819768Z",
     "start_time": "2021-09-18T10:01:09.800279Z"
    }
   },
   "outputs": [
    {
     "data": {
      "text/plain": [
       "masked_array(data=[b'2MASXJ15495361+1121481', b'2MASXJ16275221+5419126',\n",
       "                   b'IC1854', b'NGC1346', b'NGC2622', b'NGC5683',\n",
       "                   b'PGC012801', b'PGC033214', b'PGC053662', b'PGC057026',\n",
       "                   b'PGC058359', b'PGC139560', b'PGC165838',\n",
       "                   b'PGC2588950', b'SDSSJ130716.99+450645.2',\n",
       "                   b'SDSSJ131737.93+102427.7', b'SDSSJ171353.85+273626.8',\n",
       "                   b'UGC00987'],\n",
       "             mask=[False, False, False, False, False, False, False, False,\n",
       "                   False, False, False, False, False, False, False, False,\n",
       "                   False, False],\n",
       "       fill_value=b'N/A',\n",
       "            dtype='|S30')"
      ]
     },
     "execution_count": 101,
     "metadata": {},
     "output_type": "execute_result"
    }
   ],
   "source": [
    "data_nomass_CLAGN_votable['objname']"
   ]
  },
  {
   "cell_type": "code",
   "execution_count": null,
   "metadata": {},
   "outputs": [],
   "source": []
  },
  {
   "cell_type": "code",
   "execution_count": null,
   "metadata": {},
   "outputs": [],
   "source": []
  },
  {
   "cell_type": "code",
   "execution_count": null,
   "metadata": {},
   "outputs": [],
   "source": []
  },
  {
   "cell_type": "code",
   "execution_count": 116,
   "metadata": {
    "ExecuteTime": {
     "end_time": "2021-09-18T10:31:03.599248Z",
     "start_time": "2021-09-18T10:31:03.588104Z"
    }
   },
   "outputs": [
    {
     "name": "stdout",
     "output_type": "stream",
     "text": [
      "3C390.3\n",
      "Mrk728\n",
      "NGC4939\n",
      "NGC5683\n"
     ]
    }
   ],
   "source": [
    "for i in nomass_CLAGN['Name']:\n",
    "    if i in BAT_pd['Name'].values:\n",
    "        print(i)"
   ]
  },
  {
   "cell_type": "code",
   "execution_count": 117,
   "metadata": {
    "ExecuteTime": {
     "end_time": "2021-09-18T10:34:01.577836Z",
     "start_time": "2021-09-18T10:34:01.568843Z"
    }
   },
   "outputs": [
    {
     "name": "stdout",
     "output_type": "stream",
     "text": [
      "3C390.3\n",
      "Mrk728\n",
      "NGC4939\n",
      "NGC5683\n"
     ]
    }
   ],
   "source": [
    "for i in nomass_CLAGN['Name']:\n",
    "    if i in BAT_lit['Name'].values:\n",
    "        print(i)"
   ]
  },
  {
   "cell_type": "markdown",
   "metadata": {},
   "source": [
    "## Check CLAGN Name"
   ]
  },
  {
   "cell_type": "code",
   "execution_count": 140,
   "metadata": {
    "ExecuteTime": {
     "end_time": "2021-09-19T02:19:03.742222Z",
     "start_time": "2021-09-19T02:19:03.717979Z"
    }
   },
   "outputs": [
    {
     "name": "stdout",
     "output_type": "stream",
     "text": [
      "1H0419-577 BAT\n",
      "3C390.3 BAT\n",
      "Fairall9 BAT\n",
      "HE1136-2304 BAT\n",
      "Mrk6 BAT\n",
      "Mrk590 BAT\n",
      "Mrk728 BAT\n",
      "Mrk926 BAT\n",
      "Mrk1018 BAT\n",
      "NGC1365 BAT\n",
      "NGC1566 BAT\n",
      "NGC2992 BAT\n",
      "NGC3516 BAT\n",
      "NGC4051 BAT\n",
      "NGC4151 BAT\n",
      "NGC4388 BAT\n",
      "NGC4395 BAT\n",
      "NGC4507 BAT\n",
      "NGC4939 BAT\n",
      "NGC5548 BAT\n",
      "NGC5683 BAT\n",
      "NGC6300 BAT\n",
      "NGC7469 BAT\n",
      "NGC7582 BAT\n"
     ]
    }
   ],
   "source": [
    "for i in CLAGN_statistic_2021_liu_select['Name']:\n",
    "    if i in BAT_pd['Name'].values:\n",
    "        print(i,'BAT')\n",
    "        \n",
    "    elif i in LLAGN['Name'].values:\n",
    "        print(i,'LLAGN')\n",
    "        \n",
    "    \n",
    "    elif i in BAT_corona_parameter_select['Name'].values:\n",
    "        print(i,'BAT_cor')\n",
    "    "
   ]
  },
  {
   "cell_type": "code",
   "execution_count": null,
   "metadata": {},
   "outputs": [],
   "source": []
  },
  {
   "cell_type": "markdown",
   "metadata": {
    "code_folding": []
   },
   "source": [
    "## myquery_nomassclagn"
   ]
  },
  {
   "cell_type": "code",
   "execution_count": 90,
   "metadata": {
    "ExecuteTime": {
     "end_time": "2021-09-18T08:53:31.930473Z",
     "start_time": "2021-09-18T08:53:31.906051Z"
    }
   },
   "outputs": [
    {
     "name": "stdout",
     "output_type": "stream",
     "text": [
      "{'_id': ObjectId('61457ff4003f629b7cd39d99'), 'Name': 'NGC4939', 'logM': 7.52, 'Type': 2.0, 'Note': 'BAT_I', 'reference': '2017ApJ...850...74K'}\n"
     ]
    }
   ],
   "source": [
    "for name in nomass_CLAGN['Name']:\n",
    "    myquery_nomassclagn= {\"Name\":name.strip()} \n",
    "    for x in mycol_mass_db.find(myquery_nomassclagn):\n",
    "        if x['logM']!=' - ':\n",
    "            print(x)"
   ]
  },
  {
   "cell_type": "code",
   "execution_count": 114,
   "metadata": {
    "ExecuteTime": {
     "end_time": "2021-09-18T10:12:21.696846Z",
     "start_time": "2021-09-18T10:12:21.691927Z"
    }
   },
   "outputs": [
    {
     "data": {
      "text/plain": [
       "(8.301029995663981, 9.301029995663981)"
      ]
     },
     "execution_count": 114,
     "metadata": {},
     "output_type": "execute_result"
    }
   ],
   "source": [
    "np.log10(2.00E+08),np.log10(2.00E+09)"
   ]
  },
  {
   "cell_type": "markdown",
   "metadata": {},
   "source": [
    "## delete all "
   ]
  },
  {
   "cell_type": "markdown",
   "metadata": {
    "ExecuteTime": {
     "end_time": "2021-09-18T05:37:06.923229Z",
     "start_time": "2021-09-18T05:37:06.885128Z"
    }
   },
   "source": [
    "x = mycol_mass_db.delete_many({})#删除所有\n",
    "print(x.deleted_count, \"个文档已删除\")"
   ]
  },
  {
   "cell_type": "markdown",
   "metadata": {},
   "source": [
    "## delete blank mass"
   ]
  },
  {
   "cell_type": "markdown",
   "metadata": {
    "ExecuteTime": {
     "end_time": "2021-09-17T08:30:38.740916Z",
     "start_time": "2021-09-17T08:30:38.722980Z"
    }
   },
   "source": [
    "myquery_0 = { 'logM': ' - '}#删除所有 'logM' 字段中' - '的文档:\n",
    "x = mycol_mass_db.delete_many(myquery_0)\n",
    "print(x.deleted_count, \"个文档已删除\")"
   ]
  },
  {
   "cell_type": "code",
   "execution_count": 22,
   "metadata": {
    "ExecuteTime": {
     "end_time": "2021-09-17T08:30:40.605396Z",
     "start_time": "2021-09-17T08:30:40.599494Z"
    }
   },
   "outputs": [
    {
     "name": "stdout",
     "output_type": "stream",
     "text": [
      "{'_id': ObjectId('6143279bb96dceca98da608a'), 'Name': '1ES 1927+654', 'z': 0.017, 'logM': 7.3, 'Note': 'Liuetal2021', 'Type': 'CLAGN'}\n",
      "{'_id': ObjectId('6143279bb96dceca98da608b'), 'Name': '1H 0419-577', 'z': 0.104, 'logM': 8.58, 'Note': 'Liuetal2021', 'Type': 'CLAGN'}\n",
      "{'_id': ObjectId('6143279bb96dceca98da608d'), 'Name': 'ESO 362-G18', 'z': 0.012, 'logM': 7.65, 'Note': 'Liuetal2021', 'Type': 'CLAGN'}\n",
      "{'_id': ObjectId('6143279bb96dceca98da608e'), 'Name': 'Fairall 9', 'z': 0.046, 'logM': 8.41, 'Note': 'Liuetal2021', 'Type': 'CLAGN'}\n",
      "{'_id': ObjectId('6143279bb96dceca98da608f'), 'Name': 'HE 1136-2304', 'z': 0.027, 'logM': 7.58, 'Note': 'Liuetal2021', 'Type': 'CLAGN'}\n"
     ]
    }
   ],
   "source": [
    "for x in mycol_mass_db.find({'Note': 'Liuetal2021'})[:5]:\n",
    "    print(x)"
   ]
  },
  {
   "cell_type": "code",
   "execution_count": 45,
   "metadata": {
    "ExecuteTime": {
     "end_time": "2021-09-16T11:18:13.247430Z",
     "start_time": "2021-09-16T11:18:13.230555Z"
    }
   },
   "outputs": [
    {
     "data": {
      "text/plain": [
       "<pymongo.results.UpdateResult at 0x11b57a640>"
      ]
     },
     "execution_count": 45,
     "metadata": {},
     "output_type": "execute_result"
    }
   ],
   "source": [
    "myquery_1 = {'Note': 'Liuetal2021'}\n",
    "newvalues_1 = { \"$set\": { \"Type\": \"CLAGN\" } }\n",
    "mycol_mass_db.update_many(myquery_1, newvalues_1)"
   ]
  },
  {
   "cell_type": "markdown",
   "metadata": {},
   "source": [
    "## count CLAGN"
   ]
  },
  {
   "cell_type": "code",
   "execution_count": 47,
   "metadata": {
    "ExecuteTime": {
     "end_time": "2021-09-16T11:18:38.734521Z",
     "start_time": "2021-09-16T11:18:38.729415Z"
    }
   },
   "outputs": [
    {
     "name": "stdout",
     "output_type": "stream",
     "text": [
      "mycol_mass_db count is =  116\n"
     ]
    },
    {
     "name": "stderr",
     "output_type": "stream",
     "text": [
      "<ipython-input-47-22a4998150ef>:1: DeprecationWarning: count is deprecated. Use estimated_document_count or count_documents instead. Please note that $where must be replaced by $expr, $near must be replaced by $geoWithin with $center, and $nearSphere must be replaced by $geoWithin with $centerSphere\n",
      "  print(\"mycol_mass_db count is = \", mycol_mass_db.count({\"Type\": \"CLAGN\" }))\n"
     ]
    }
   ],
   "source": [
    "print(\"mycol_mass_db count is = \", mycol_mass_db.count({\"Type\": \"CLAGN\" }))"
   ]
  },
  {
   "cell_type": "code",
   "execution_count": null,
   "metadata": {},
   "outputs": [],
   "source": []
  },
  {
   "cell_type": "code",
   "execution_count": null,
   "metadata": {},
   "outputs": [],
   "source": []
  },
  {
   "cell_type": "code",
   "execution_count": null,
   "metadata": {},
   "outputs": [],
   "source": []
  },
  {
   "cell_type": "code",
   "execution_count": null,
   "metadata": {},
   "outputs": [],
   "source": []
  },
  {
   "cell_type": "markdown",
   "metadata": {},
   "source": [
    "## LLAGN"
   ]
  },
  {
   "cell_type": "code",
   "execution_count": 136,
   "metadata": {
    "ExecuteTime": {
     "end_time": "2021-09-19T02:17:56.789222Z",
     "start_time": "2021-09-19T02:17:56.768780Z"
    }
   },
   "outputs": [
    {
     "name": "stdout",
     "output_type": "stream",
     "text": [
      "Index(['Name', 'logM', 'reference'], dtype='object')\n"
     ]
    }
   ],
   "source": [
    "LLAGN=pd.read_csv('/Users/brettlv/Downloads/CLAGN_statistic_plot/Source_lists/LLAGNtable.txt',delimiter='\\t',header=0)\n",
    "#CLAGN_list_2021_liu=CLAGN_list_2020[1:]\n",
    "LLAGN.columns=['Name', 'lg(L2-10keV)', 'Sigma_dis', 'logM', 'lg(LEdd)',\n",
    "       'lg(Lbol)', 'lg(Lbol/LEdd)', 'Unnamed: 7', 'Unnamed: 8', 'Unnamed: 9']\n",
    "\n",
    "LLAGN['reference']='2009ApJ...699..626H'\n",
    "LLAGN_select=LLAGN[['Name','logM','reference']]\n",
    "print(LLAGN_select.columns)"
   ]
  },
  {
   "cell_type": "markdown",
   "metadata": {
    "ExecuteTime": {
     "end_time": "2021-09-16T11:18:53.886971Z",
     "start_time": "2021-09-16T11:18:53.869017Z"
    }
   },
   "source": [
    "#LLAGN['Name'].to_csv('/Users/brettlv/Downloads/CLAGN_statistic_plot/Source_lists/LLAGN_Name.txt',index=False)\n",
    "\n",
    "zarten_LLAGN = json.loads(LLAGN_select.T.to_json()).values()\n",
    "mycol_mass_db.insert_many(zarten_LLAGN)\n",
    "\n",
    "myquery_LLAGN = {'reference': '2009ApJ...699..626H'}\n",
    "newvalues_LLAGN = { \"$set\": { \"Type\": \"LLAGN\" } }\n",
    "mycol_mass_db.update_many(myquery_LLAGN, newvalues_LLAGN)\n",
    "\n",
    "myquery_LLAGN = {\"reference\": \"2009ApJ...699..626H\"} #LLAGN\n",
    "for x in mycol_mass_db.find(myquery_LLAGN)[:5]:\n",
    "    print(x)"
   ]
  },
  {
   "cell_type": "markdown",
   "metadata": {
    "ExecuteTime": {
     "end_time": "2021-09-16T11:50:03.471055Z",
     "start_time": "2021-09-16T11:50:03.464582Z"
    }
   },
   "source": [
    "print(\"LLAGN count is = \", mycol_mass_db.count({\"reference\": \"2009ApJ...699..626H\" }))"
   ]
  },
  {
   "cell_type": "code",
   "execution_count": 118,
   "metadata": {
    "ExecuteTime": {
     "end_time": "2021-09-18T10:35:28.753175Z",
     "start_time": "2021-09-18T10:35:28.715939Z"
    }
   },
   "outputs": [],
   "source": [
    "LLAGN_gu2009=pd.read_excel('/Users/brettlv/blog/IHEP_sync/data/AGNmass/LLAGN_QSO/LLAGN_Gu2009.xlsx')"
   ]
  },
  {
   "cell_type": "code",
   "execution_count": 128,
   "metadata": {
    "ExecuteTime": {
     "end_time": "2021-09-19T01:20:47.704751Z",
     "start_time": "2021-09-19T01:20:47.691818Z"
    }
   },
   "outputs": [
    {
     "data": {
      "text/plain": [
       "Index(['Name', 'z', 'Sat', '(2–10 keV)', 'log L2−10keV', 'References',\n",
       "       '∗ log MBH', 'References.1', 'Type', 'logM'],\n",
       "      dtype='object')"
      ]
     },
     "execution_count": 128,
     "metadata": {},
     "output_type": "execute_result"
    }
   ],
   "source": [
    "LLAGN_gu2009.columns"
   ]
  },
  {
   "cell_type": "code",
   "execution_count": 131,
   "metadata": {
    "ExecuteTime": {
     "end_time": "2021-09-19T01:21:21.896111Z",
     "start_time": "2021-09-19T01:21:21.881072Z"
    }
   },
   "outputs": [
    {
     "data": {
      "text/html": [
       "<div>\n",
       "<style scoped>\n",
       "    .dataframe tbody tr th:only-of-type {\n",
       "        vertical-align: middle;\n",
       "    }\n",
       "\n",
       "    .dataframe tbody tr th {\n",
       "        vertical-align: top;\n",
       "    }\n",
       "\n",
       "    .dataframe thead th {\n",
       "        text-align: right;\n",
       "    }\n",
       "</style>\n",
       "<table border=\"1\" class=\"dataframe\">\n",
       "  <thead>\n",
       "    <tr style=\"text-align: right;\">\n",
       "      <th></th>\n",
       "      <th>Name</th>\n",
       "      <th>∗ log MBH</th>\n",
       "      <th>Type</th>\n",
       "    </tr>\n",
       "  </thead>\n",
       "  <tbody>\n",
       "    <tr>\n",
       "      <th>0</th>\n",
       "      <td>NGC 1275</td>\n",
       "      <td>8.51</td>\n",
       "      <td>Seyfert galaxies</td>\n",
       "    </tr>\n",
       "    <tr>\n",
       "      <th>1</th>\n",
       "      <td>NGC 2639</td>\n",
       "      <td>8.02</td>\n",
       "      <td>Seyfert galaxies</td>\n",
       "    </tr>\n",
       "    <tr>\n",
       "      <th>2</th>\n",
       "      <td>NGC 2655</td>\n",
       "      <td>7.77</td>\n",
       "      <td>Seyfert galaxies</td>\n",
       "    </tr>\n",
       "    <tr>\n",
       "      <th>3</th>\n",
       "      <td>NGC 2685</td>\n",
       "      <td>7.15</td>\n",
       "      <td>Seyfert galaxies</td>\n",
       "    </tr>\n",
       "    <tr>\n",
       "      <th>4</th>\n",
       "      <td>NGC 3031</td>\n",
       "      <td>7.80b</td>\n",
       "      <td>Seyfert galaxies</td>\n",
       "    </tr>\n",
       "    <tr>\n",
       "      <th>5</th>\n",
       "      <td>NGC 3147</td>\n",
       "      <td>8.79</td>\n",
       "      <td>Seyfert galaxies</td>\n",
       "    </tr>\n",
       "    <tr>\n",
       "      <th>6</th>\n",
       "      <td>NGC 3227</td>\n",
       "      <td>7.59c</td>\n",
       "      <td>Seyfert galaxies</td>\n",
       "    </tr>\n",
       "    <tr>\n",
       "      <th>7</th>\n",
       "      <td>NGC 3486</td>\n",
       "      <td>6.14</td>\n",
       "      <td>Seyfert galaxies</td>\n",
       "    </tr>\n",
       "    <tr>\n",
       "      <th>8</th>\n",
       "      <td>NGC 3516</td>\n",
       "      <td>7.36c</td>\n",
       "      <td>Seyfert galaxies</td>\n",
       "    </tr>\n",
       "    <tr>\n",
       "      <th>9</th>\n",
       "      <td>NGC 3941</td>\n",
       "      <td>8.15</td>\n",
       "      <td>Seyfert galaxies</td>\n",
       "    </tr>\n",
       "    <tr>\n",
       "      <th>10</th>\n",
       "      <td>NGC 4051</td>\n",
       "      <td>6.11c</td>\n",
       "      <td>Seyfert galaxies</td>\n",
       "    </tr>\n",
       "    <tr>\n",
       "      <th>11</th>\n",
       "      <td>NGC 4138</td>\n",
       "      <td>7.75</td>\n",
       "      <td>Seyfert galaxies</td>\n",
       "    </tr>\n",
       "    <tr>\n",
       "      <th>12</th>\n",
       "      <td>NGC 4151</td>\n",
       "      <td>7.18c</td>\n",
       "      <td>Seyfert galaxies</td>\n",
       "    </tr>\n",
       "    <tr>\n",
       "      <th>13</th>\n",
       "      <td>NGC 4168</td>\n",
       "      <td>7.95</td>\n",
       "      <td>Seyfert galaxies</td>\n",
       "    </tr>\n",
       "    <tr>\n",
       "      <th>14</th>\n",
       "      <td>NGC 4258</td>\n",
       "      <td>7.61d</td>\n",
       "      <td>Seyfert galaxies</td>\n",
       "    </tr>\n",
       "    <tr>\n",
       "      <th>15</th>\n",
       "      <td>NGC 4388</td>\n",
       "      <td>6.8</td>\n",
       "      <td>Seyfert galaxies</td>\n",
       "    </tr>\n",
       "    <tr>\n",
       "      <th>16</th>\n",
       "      <td>NGC 4395</td>\n",
       "      <td>5.04b</td>\n",
       "      <td>Seyfert galaxies</td>\n",
       "    </tr>\n",
       "    <tr>\n",
       "      <th>17</th>\n",
       "      <td>NGC 4477</td>\n",
       "      <td>7.92</td>\n",
       "      <td>Seyfert galaxies</td>\n",
       "    </tr>\n",
       "    <tr>\n",
       "      <th>18</th>\n",
       "      <td>NGC 4501</td>\n",
       "      <td>7.9</td>\n",
       "      <td>Seyfert galaxies</td>\n",
       "    </tr>\n",
       "    <tr>\n",
       "      <th>19</th>\n",
       "      <td>NGC 4565</td>\n",
       "      <td>7.7</td>\n",
       "      <td>Seyfert galaxies</td>\n",
       "    </tr>\n",
       "    <tr>\n",
       "      <th>20</th>\n",
       "      <td>NGC 4579</td>\n",
       "      <td>7.78</td>\n",
       "      <td>Seyfert galaxies</td>\n",
       "    </tr>\n",
       "    <tr>\n",
       "      <th>21</th>\n",
       "      <td>NGC 4639</td>\n",
       "      <td>6.85</td>\n",
       "      <td>Seyfert galaxies</td>\n",
       "    </tr>\n",
       "    <tr>\n",
       "      <th>22</th>\n",
       "      <td>NGC 4698</td>\n",
       "      <td>7.84</td>\n",
       "      <td>Seyfert galaxies</td>\n",
       "    </tr>\n",
       "    <tr>\n",
       "      <th>23</th>\n",
       "      <td>NGC 4725</td>\n",
       "      <td>7.49</td>\n",
       "      <td>Seyfert galaxies</td>\n",
       "    </tr>\n",
       "    <tr>\n",
       "      <th>24</th>\n",
       "      <td>NGC 5033</td>\n",
       "      <td>7.3</td>\n",
       "      <td>Seyfert galaxies</td>\n",
       "    </tr>\n",
       "    <tr>\n",
       "      <th>25</th>\n",
       "      <td>NGC 5273</td>\n",
       "      <td>6.51</td>\n",
       "      <td>Seyfert galaxies</td>\n",
       "    </tr>\n",
       "    <tr>\n",
       "      <th>26</th>\n",
       "      <td>NGC 5548</td>\n",
       "      <td>8.03</td>\n",
       "      <td>Seyfert galaxies</td>\n",
       "    </tr>\n",
       "    <tr>\n",
       "      <th>27</th>\n",
       "      <td>NGC 7479</td>\n",
       "      <td>7.07</td>\n",
       "      <td>Seyfert galaxies</td>\n",
       "    </tr>\n",
       "    <tr>\n",
       "      <th>28</th>\n",
       "      <td>NGC 0315</td>\n",
       "      <td>9.24</td>\n",
       "      <td>LINERs</td>\n",
       "    </tr>\n",
       "    <tr>\n",
       "      <th>29</th>\n",
       "      <td>UGC 08696</td>\n",
       "      <td>7.74</td>\n",
       "      <td>LINERs</td>\n",
       "    </tr>\n",
       "    <tr>\n",
       "      <th>30</th>\n",
       "      <td>IC 1459</td>\n",
       "      <td>9.00b</td>\n",
       "      <td>LINERs</td>\n",
       "    </tr>\n",
       "    <tr>\n",
       "      <th>31</th>\n",
       "      <td>NGC 1553</td>\n",
       "      <td>8</td>\n",
       "      <td>LINERs</td>\n",
       "    </tr>\n",
       "    <tr>\n",
       "      <th>32</th>\n",
       "      <td>3C 218</td>\n",
       "      <td>8.99</td>\n",
       "      <td>LINERs</td>\n",
       "    </tr>\n",
       "    <tr>\n",
       "      <th>33</th>\n",
       "      <td>NGC 266</td>\n",
       "      <td>7.90e</td>\n",
       "      <td>LINERs</td>\n",
       "    </tr>\n",
       "    <tr>\n",
       "      <th>34</th>\n",
       "      <td>NGC 2681</td>\n",
       "      <td>7.2</td>\n",
       "      <td>LINERs</td>\n",
       "    </tr>\n",
       "    <tr>\n",
       "      <th>35</th>\n",
       "      <td>NGC 3125</td>\n",
       "      <td>5.65</td>\n",
       "      <td>LINERs</td>\n",
       "    </tr>\n",
       "    <tr>\n",
       "      <th>36</th>\n",
       "      <td>NGC 3169</td>\n",
       "      <td>7.95</td>\n",
       "      <td>LINERs</td>\n",
       "    </tr>\n",
       "    <tr>\n",
       "      <th>37</th>\n",
       "      <td>NGC 3226</td>\n",
       "      <td>8.24</td>\n",
       "      <td>LINERs</td>\n",
       "    </tr>\n",
       "    <tr>\n",
       "      <th>38</th>\n",
       "      <td>NGC 3718</td>\n",
       "      <td>7.97</td>\n",
       "      <td>LINERs</td>\n",
       "    </tr>\n",
       "    <tr>\n",
       "      <th>39</th>\n",
       "      <td>NGC 4143</td>\n",
       "      <td>8.31</td>\n",
       "      <td>LINERs</td>\n",
       "    </tr>\n",
       "    <tr>\n",
       "      <th>40</th>\n",
       "      <td>NGC 4261</td>\n",
       "      <td>8.94</td>\n",
       "      <td>LINERs</td>\n",
       "    </tr>\n",
       "    <tr>\n",
       "      <th>41</th>\n",
       "      <td>NGC 4278</td>\n",
       "      <td>9.20b</td>\n",
       "      <td>LINERs</td>\n",
       "    </tr>\n",
       "    <tr>\n",
       "      <th>42</th>\n",
       "      <td>NGC 4374</td>\n",
       "      <td>8.8</td>\n",
       "      <td>LINERs</td>\n",
       "    </tr>\n",
       "    <tr>\n",
       "      <th>43</th>\n",
       "      <td>NGC 4410A</td>\n",
       "      <td>8.83</td>\n",
       "      <td>LINERs</td>\n",
       "    </tr>\n",
       "    <tr>\n",
       "      <th>44</th>\n",
       "      <td>NGC 4457</td>\n",
       "      <td>7</td>\n",
       "      <td>LINERs</td>\n",
       "    </tr>\n",
       "    <tr>\n",
       "      <th>45</th>\n",
       "      <td>NGC 4494</td>\n",
       "      <td>7.6</td>\n",
       "      <td>LINERs</td>\n",
       "    </tr>\n",
       "    <tr>\n",
       "      <th>46</th>\n",
       "      <td>NGC 4548</td>\n",
       "      <td>7.51</td>\n",
       "      <td>LINERs</td>\n",
       "    </tr>\n",
       "    <tr>\n",
       "      <th>47</th>\n",
       "      <td>NGC 4552</td>\n",
       "      <td>8.5</td>\n",
       "      <td>LINERs</td>\n",
       "    </tr>\n",
       "    <tr>\n",
       "      <th>48</th>\n",
       "      <td>NGC 4594</td>\n",
       "      <td>9.04b</td>\n",
       "      <td>LINERs</td>\n",
       "    </tr>\n",
       "    <tr>\n",
       "      <th>49</th>\n",
       "      <td>NGC 4736</td>\n",
       "      <td>7.42</td>\n",
       "      <td>LINERs</td>\n",
       "    </tr>\n",
       "    <tr>\n",
       "      <th>50</th>\n",
       "      <td>NGC 5746</td>\n",
       "      <td>7.49</td>\n",
       "      <td>LINERs</td>\n",
       "    </tr>\n",
       "    <tr>\n",
       "      <th>51</th>\n",
       "      <td>NGC 6240</td>\n",
       "      <td>9.11</td>\n",
       "      <td>LINERs</td>\n",
       "    </tr>\n",
       "    <tr>\n",
       "      <th>52</th>\n",
       "      <td>NGC 6251</td>\n",
       "      <td>8.73f</td>\n",
       "      <td>LINERs</td>\n",
       "    </tr>\n",
       "    <tr>\n",
       "      <th>53</th>\n",
       "      <td>NGC 6500</td>\n",
       "      <td>8.28</td>\n",
       "      <td>LINERs</td>\n",
       "    </tr>\n",
       "    <tr>\n",
       "      <th>54</th>\n",
       "      <td>NGC 7130</td>\n",
       "      <td>7.54</td>\n",
       "      <td>LINERs</td>\n",
       "    </tr>\n",
       "  </tbody>\n",
       "</table>\n",
       "</div>"
      ],
      "text/plain": [
       "         Name ∗ log MBH              Type\n",
       "0    NGC 1275      8.51  Seyfert galaxies\n",
       "1    NGC 2639      8.02  Seyfert galaxies\n",
       "2    NGC 2655      7.77  Seyfert galaxies\n",
       "3    NGC 2685      7.15  Seyfert galaxies\n",
       "4    NGC 3031     7.80b  Seyfert galaxies\n",
       "5    NGC 3147      8.79  Seyfert galaxies\n",
       "6    NGC 3227     7.59c  Seyfert galaxies\n",
       "7    NGC 3486      6.14  Seyfert galaxies\n",
       "8    NGC 3516     7.36c  Seyfert galaxies\n",
       "9    NGC 3941      8.15  Seyfert galaxies\n",
       "10   NGC 4051     6.11c  Seyfert galaxies\n",
       "11   NGC 4138      7.75  Seyfert galaxies\n",
       "12   NGC 4151     7.18c  Seyfert galaxies\n",
       "13   NGC 4168      7.95  Seyfert galaxies\n",
       "14   NGC 4258     7.61d  Seyfert galaxies\n",
       "15   NGC 4388       6.8  Seyfert galaxies\n",
       "16   NGC 4395     5.04b  Seyfert galaxies\n",
       "17   NGC 4477      7.92  Seyfert galaxies\n",
       "18   NGC 4501       7.9  Seyfert galaxies\n",
       "19   NGC 4565       7.7  Seyfert galaxies\n",
       "20   NGC 4579      7.78  Seyfert galaxies\n",
       "21   NGC 4639      6.85  Seyfert galaxies\n",
       "22   NGC 4698      7.84  Seyfert galaxies\n",
       "23   NGC 4725      7.49  Seyfert galaxies\n",
       "24   NGC 5033       7.3  Seyfert galaxies\n",
       "25   NGC 5273      6.51  Seyfert galaxies\n",
       "26   NGC 5548      8.03  Seyfert galaxies\n",
       "27   NGC 7479      7.07  Seyfert galaxies\n",
       "28   NGC 0315      9.24            LINERs\n",
       "29  UGC 08696      7.74            LINERs\n",
       "30    IC 1459     9.00b            LINERs\n",
       "31   NGC 1553         8            LINERs\n",
       "32     3C 218      8.99            LINERs\n",
       "33    NGC 266     7.90e            LINERs\n",
       "34   NGC 2681       7.2            LINERs\n",
       "35   NGC 3125      5.65            LINERs\n",
       "36   NGC 3169      7.95            LINERs\n",
       "37   NGC 3226      8.24            LINERs\n",
       "38   NGC 3718      7.97            LINERs\n",
       "39   NGC 4143      8.31            LINERs\n",
       "40   NGC 4261      8.94            LINERs\n",
       "41   NGC 4278     9.20b            LINERs\n",
       "42   NGC 4374       8.8            LINERs\n",
       "43  NGC 4410A      8.83            LINERs\n",
       "44   NGC 4457         7            LINERs\n",
       "45   NGC 4494       7.6            LINERs\n",
       "46   NGC 4548      7.51            LINERs\n",
       "47   NGC 4552       8.5            LINERs\n",
       "48   NGC 4594     9.04b            LINERs\n",
       "49   NGC 4736      7.42            LINERs\n",
       "50   NGC 5746      7.49            LINERs\n",
       "51   NGC 6240      9.11            LINERs\n",
       "52   NGC 6251     8.73f            LINERs\n",
       "53   NGC 6500      8.28            LINERs\n",
       "54   NGC 7130      7.54            LINERs"
      ]
     },
     "execution_count": 131,
     "metadata": {},
     "output_type": "execute_result"
    }
   ],
   "source": [
    "LLAGN_gu2009[['Name','∗ log MBH','Type']]"
   ]
  },
  {
   "cell_type": "code",
   "execution_count": 126,
   "metadata": {
    "ExecuteTime": {
     "end_time": "2021-09-18T10:42:32.002846Z",
     "start_time": "2021-09-18T10:42:31.978228Z"
    }
   },
   "outputs": [
    {
     "ename": "AttributeError",
     "evalue": "'int' object has no attribute 'find'",
     "output_type": "error",
     "traceback": [
      "\u001b[0;31m---------------------------------------------------------------------------\u001b[0m",
      "\u001b[0;31mAttributeError\u001b[0m                            Traceback (most recent call last)",
      "\u001b[0;32m<ipython-input-126-5ff4b292a74f>\u001b[0m in \u001b[0;36m<module>\u001b[0;34m\u001b[0m\n\u001b[1;32m      3\u001b[0m         \u001b[0mLLAGN_gu2009\u001b[0m\u001b[0;34m.\u001b[0m\u001b[0mloc\u001b[0m\u001b[0;34m[\u001b[0m\u001b[0mindex\u001b[0m\u001b[0;34m,\u001b[0m\u001b[0;34m'logM'\u001b[0m\u001b[0;34m]\u001b[0m\u001b[0;34m=\u001b[0m\u001b[0mi\u001b[0m\u001b[0;34m\u001b[0m\u001b[0;34m\u001b[0m\u001b[0m\n\u001b[1;32m      4\u001b[0m \u001b[0;34m\u001b[0m\u001b[0m\n\u001b[0;32m----> 5\u001b[0;31m     \u001b[0;32melif\u001b[0m \u001b[0mi\u001b[0m\u001b[0;34m.\u001b[0m\u001b[0mfind\u001b[0m\u001b[0;34m(\u001b[0m\u001b[0;34m'b'\u001b[0m\u001b[0;34m)\u001b[0m\u001b[0;34m>\u001b[0m\u001b[0;36m0\u001b[0m\u001b[0;34m:\u001b[0m\u001b[0;34m\u001b[0m\u001b[0;34m\u001b[0m\u001b[0m\n\u001b[0m\u001b[1;32m      6\u001b[0m         \u001b[0mLLAGN_gu2009\u001b[0m\u001b[0;34m.\u001b[0m\u001b[0mloc\u001b[0m\u001b[0;34m[\u001b[0m\u001b[0mindex\u001b[0m\u001b[0;34m,\u001b[0m\u001b[0;34m'logM'\u001b[0m\u001b[0;34m]\u001b[0m\u001b[0;34m=\u001b[0m\u001b[0mi\u001b[0m\u001b[0;34m.\u001b[0m\u001b[0msplit\u001b[0m\u001b[0;34m(\u001b[0m\u001b[0;34m'b'\u001b[0m\u001b[0;34m)\u001b[0m\u001b[0;34m[\u001b[0m\u001b[0;36m0\u001b[0m\u001b[0;34m]\u001b[0m\u001b[0;34m\u001b[0m\u001b[0;34m\u001b[0m\u001b[0m\n\u001b[1;32m      7\u001b[0m \u001b[0;34m\u001b[0m\u001b[0m\n",
      "\u001b[0;31mAttributeError\u001b[0m: 'int' object has no attribute 'find'"
     ]
    }
   ],
   "source": [
    "for index,i in enumerate(LLAGN_gu2009['∗ log MBH']):\n",
    "    if type(i)==float:\n",
    "        LLAGN_gu2009.loc[index,'logM']=i  \n",
    "        \n",
    "    elif i.find('b')>0:\n",
    "        LLAGN_gu2009.loc[index,'logM']=i.split('b')[0]\n",
    "            \n",
    "    elif i.find('c')>0:\n",
    "        LLAGN_gu2009.loc[index,'logM']=i.split('c')[0]\n",
    "        \n",
    "    elif i.find('d')>0:\n",
    "        LLAGN_gu2009.loc[index,'logM']=i.split('d')[0]        \n",
    "    \n",
    "    elif i.find('e')>0:\n",
    "        LLAGN_gu2009.loc[index,'logM']=i.split('e')[0]        \n",
    "        \n",
    "    elif i.find('f')>0:\n",
    "        LLAGN_gu2009.loc[index,'logM']=i.split('f')[0] \n"
   ]
  },
  {
   "cell_type": "markdown",
   "metadata": {},
   "source": [
    "## count LLAGN"
   ]
  },
  {
   "cell_type": "code",
   "execution_count": 23,
   "metadata": {
    "ExecuteTime": {
     "end_time": "2021-09-17T08:32:54.898389Z",
     "start_time": "2021-09-17T08:32:54.878209Z"
    }
   },
   "outputs": [
    {
     "name": "stdout",
     "output_type": "stream",
     "text": [
      "LLAGN mass count is = 0\n"
     ]
    }
   ],
   "source": [
    "print(\"LLAGN mass count is =\", mycol_mass_db.count_documents({\"reference\": \"2009ApJ...699..626H\" }))"
   ]
  },
  {
   "cell_type": "code",
   "execution_count": 26,
   "metadata": {
    "ExecuteTime": {
     "end_time": "2021-09-17T08:34:09.663108Z",
     "start_time": "2021-09-17T08:34:09.655947Z"
    }
   },
   "outputs": [
    {
     "data": {
      "text/plain": [
       "0"
      ]
     },
     "execution_count": 26,
     "metadata": {},
     "output_type": "execute_result"
    }
   ],
   "source": [
    "x=mycol_mass_db.delete_many({\"reference\": \"2009ApJ...699..626H\" })\n",
    "x.deleted_count"
   ]
  },
  {
   "cell_type": "markdown",
   "metadata": {},
   "source": [
    "## BAT source"
   ]
  },
  {
   "cell_type": "code",
   "execution_count": 26,
   "metadata": {
    "ExecuteTime": {
     "end_time": "2021-09-18T05:39:09.265507Z",
     "start_time": "2021-09-18T05:39:09.016440Z"
    }
   },
   "outputs": [
    {
     "name": "stderr",
     "output_type": "stream",
     "text": [
      "WARNING: UnitsWarning: '[10-7W]' did not parse as cds unit: Invalid character at col 0 If this is meant to be a custom unit, define it with 'u.def_unit'. To have it recognized inside a file reader or other code, enable it with 'u.add_enabled_units'. For details, see https://docs.astropy.org/en/latest/units/combining_and_defining.html [astropy.units.core]\n",
      "WARNING: UnitsWarning: '[Msun]' did not parse as cds unit: Invalid character at col 0 If this is meant to be a custom unit, define it with 'u.def_unit'. To have it recognized inside a file reader or other code, enable it with 'u.add_enabled_units'. For details, see https://docs.astropy.org/en/latest/units/combining_and_defining.html [astropy.units.core]\n"
     ]
    }
   ],
   "source": [
    "BATname_1=Table.read('/Users/brettlv/blog/IHEP_sync/data/AGNmass/Swift_BAT_AGN_Spectroscopic_Survey_I/table2.dat',\n",
    "                      readme=\"/Users/brettlv/blog/IHEP_sync/data/AGNmass/Swift_BAT_AGN_Spectroscopic_Survey_I/ReadMe\",\n",
    "                      format=\"ascii.cds\",)\n",
    "\n",
    "BATmass_1=Table.read('/Users/brettlv/blog/IHEP_sync/data/AGNmass/Swift_BAT_AGN_Spectroscopic_Survey_I/table4.dat',\n",
    "                      readme=\"/Users/brettlv/blog/IHEP_sync/data/AGNmass/Swift_BAT_AGN_Spectroscopic_Survey_I/ReadMe\",\n",
    "                      format=\"ascii.cds\",)"
   ]
  },
  {
   "cell_type": "markdown",
   "metadata": {},
   "source": [
    "### CNAME logM"
   ]
  },
  {
   "cell_type": "code",
   "execution_count": 32,
   "metadata": {
    "ExecuteTime": {
     "end_time": "2021-09-18T05:40:26.997326Z",
     "start_time": "2021-09-18T05:40:26.985430Z"
    }
   },
   "outputs": [],
   "source": [
    "BAT_pd=pd.DataFrame([])\n",
    "BAT_pd['Name']=BATname_1['CName']\n",
    "BAT_pd['Name']=BAT_pd['Name'].str.replace(' ','')\n",
    "BAT_pd['Name']=BAT_pd['Name'].str.strip()\n",
    "BAT_pd['logM']=BATmass_1['logMbh']\n",
    "BAT_pd['Type']=BATname_1['Type']\n",
    "BAT_pd['Note']='BAT_I'\n",
    "BAT_pd['reference']='2017ApJ...850...74K'"
   ]
  },
  {
   "cell_type": "code",
   "execution_count": 37,
   "metadata": {
    "ExecuteTime": {
     "end_time": "2021-09-18T05:41:14.157616Z",
     "start_time": "2021-09-18T05:41:14.151044Z"
    }
   },
   "outputs": [
    {
     "name": "stdout",
     "output_type": "stream",
     "text": [
      "201\n",
      "440\n"
     ]
    }
   ],
   "source": [
    "BAT_pd_select=BAT_pd[BAT_pd['logM']>0]\n",
    "print(len(BAT_pd_select))\n",
    "\n",
    "BAT_pd_noselect=BAT_pd[BAT_pd['logM']==0]\n",
    "print(len(BAT_pd_noselect))"
   ]
  },
  {
   "cell_type": "code",
   "execution_count": 29,
   "metadata": {
    "ExecuteTime": {
     "end_time": "2021-09-17T08:34:46.705536Z",
     "start_time": "2021-09-17T08:34:46.700307Z"
    }
   },
   "outputs": [
    {
     "data": {
      "text/plain": [
       "Index(['Name', 'logM', 'Type', 'Note', 'reference'], dtype='object')"
      ]
     },
     "execution_count": 29,
     "metadata": {},
     "output_type": "execute_result"
    }
   ],
   "source": [
    "BAT_pd.columns"
   ]
  },
  {
   "cell_type": "code",
   "execution_count": 38,
   "metadata": {
    "ExecuteTime": {
     "end_time": "2021-09-18T05:58:12.542836Z",
     "start_time": "2021-09-18T05:58:12.501766Z"
    }
   },
   "outputs": [
    {
     "data": {
      "text/plain": [
       "<pymongo.results.InsertManyResult at 0x121c78600>"
      ]
     },
     "execution_count": 38,
     "metadata": {},
     "output_type": "execute_result"
    }
   ],
   "source": [
    "zarten_BAT_I = json.loads(BAT_pd_select.T.to_json()).values()\n",
    "mycol_mass_db.insert_many(zarten_BAT_I)"
   ]
  },
  {
   "cell_type": "markdown",
   "metadata": {},
   "source": [
    "### logM literature"
   ]
  },
  {
   "cell_type": "code",
   "execution_count": 39,
   "metadata": {
    "ExecuteTime": {
     "end_time": "2021-09-18T05:58:45.127623Z",
     "start_time": "2021-09-18T05:58:45.106821Z"
    }
   },
   "outputs": [],
   "source": [
    "BAT_lit=pd.DataFrame([])\n",
    "BAT_lit['Name']=BATname_1['CName']\n",
    "BAT_lit['Name']=BAT_lit['Name'].str.replace(' ','')\n",
    "BAT_lit['Name']=BAT_lit['Name'].str.strip()\n",
    "\n",
    "BAT_lit['logM']=BATmass_1['logMbhlit']\n",
    "BAT_lit['Type']=BATname_1['Type']\n",
    "BAT_lit['Note']='BAT_I_lit'\n",
    "BAT_lit['reference']='2017ApJ...850...74K'"
   ]
  },
  {
   "cell_type": "code",
   "execution_count": 40,
   "metadata": {
    "ExecuteTime": {
     "end_time": "2021-09-18T05:58:51.989056Z",
     "start_time": "2021-09-18T05:58:51.982551Z"
    }
   },
   "outputs": [],
   "source": [
    "BAT_lit_select=BAT_lit[BAT_lit['logM']>0]\n",
    "BAT_lit_select=drop_index(BAT_lit_select)"
   ]
  },
  {
   "cell_type": "code",
   "execution_count": 43,
   "metadata": {
    "ExecuteTime": {
     "end_time": "2021-09-18T05:59:02.481862Z",
     "start_time": "2021-09-18T05:59:02.477072Z"
    }
   },
   "outputs": [
    {
     "data": {
      "text/plain": [
       "(641, 641, 201, 15)"
      ]
     },
     "execution_count": 43,
     "metadata": {},
     "output_type": "execute_result"
    }
   ],
   "source": [
    "len(BAT_pd),len(BAT_lit),len(BAT_pd_select),len(BAT_lit_select)"
   ]
  },
  {
   "cell_type": "code",
   "execution_count": 41,
   "metadata": {
    "ExecuteTime": {
     "end_time": "2021-09-18T05:58:55.219783Z",
     "start_time": "2021-09-18T05:58:55.210545Z"
    }
   },
   "outputs": [
    {
     "data": {
      "text/plain": [
       "<pymongo.results.InsertManyResult at 0x123798200>"
      ]
     },
     "execution_count": 41,
     "metadata": {},
     "output_type": "execute_result"
    }
   ],
   "source": [
    "zarten_BAT_lit_select = json.loads(BAT_lit_select.T.to_json()).values()\n",
    "mycol_mass_db.insert_many(zarten_BAT_lit_select)"
   ]
  },
  {
   "cell_type": "markdown",
   "metadata": {
    "ExecuteTime": {
     "end_time": "2021-09-17T08:35:53.972449Z",
     "start_time": "2021-09-17T08:35:53.953528Z"
    }
   },
   "source": [
    "myquery_BAT_0 = { 'logM': 0.0}#删除所有 'logM' 字段中' - '的文档:\n",
    "x = mycol_mass_db.delete_many(myquery_BAT_0)\n",
    "print(x.deleted_count, \"个文档已删除\")"
   ]
  },
  {
   "cell_type": "code",
   "execution_count": 8,
   "metadata": {
    "ExecuteTime": {
     "end_time": "2021-10-10T05:41:51.056431Z",
     "start_time": "2021-10-10T05:41:51.027438Z"
    }
   },
   "outputs": [
    {
     "name": "stdout",
     "output_type": "stream",
     "text": [
      "BAT_I count is = 216\n"
     ]
    },
    {
     "name": "stderr",
     "output_type": "stream",
     "text": [
      "<ipython-input-8-5f0e71df3e8b>:1: DeprecationWarning: count is deprecated. Use Collection.count_documents instead.\n",
      "  print(\"BAT_I count is =\", mycol_mass_db.find({\"reference\": \"2017ApJ...850...74K\"}).count())\n"
     ]
    }
   ],
   "source": [
    "print(\"BAT_I count is =\", mycol_mass_db.find({\"reference\": \"2017ApJ...850...74K\"}).count())"
   ]
  },
  {
   "cell_type": "code",
   "execution_count": 9,
   "metadata": {
    "ExecuteTime": {
     "end_time": "2021-10-10T05:41:55.761433Z",
     "start_time": "2021-10-10T05:41:55.715952Z"
    }
   },
   "outputs": [
    {
     "name": "stdout",
     "output_type": "stream",
     "text": [
      "{'_id': ObjectId('61457ff4003f629b7cd39d14'), 'Name': '2MASXJ00004876-0709117', 'logM': 7.97, 'Type': 1.9, 'Note': 'BAT_I', 'reference': '2017ApJ...850...74K'}\n",
      "{'_id': ObjectId('61457ff4003f629b7cd39d15'), 'Name': '2MASXJ00032742+2739173', 'logM': 7.85, 'Type': 2.0, 'Note': 'BAT_I', 'reference': '2017ApJ...850...74K'}\n",
      "{'_id': ObjectId('61457ff4003f629b7cd39d16'), 'Name': '2MASXJ00091156-0036551', 'logM': 8.91, 'Type': 2.0, 'Note': 'BAT_I', 'reference': '2017ApJ...850...74K'}\n",
      "{'_id': ObjectId('61457ff4003f629b7cd39d17'), 'Name': '2MASXJ00210753-1910056', 'logM': 9.16, 'Type': 1.9, 'Note': 'BAT_I', 'reference': '2017ApJ...850...74K'}\n",
      "{'_id': ObjectId('61457ff4003f629b7cd39d18'), 'Name': 'NGC235A', 'logM': 8.6, 'Type': 1.9, 'Note': 'BAT_I', 'reference': '2017ApJ...850...74K'}\n",
      "{'_id': ObjectId('61457ff4003f629b7cd39d19'), 'Name': 'Mrk348', 'logM': 7.61, 'Type': 1.9, 'Note': 'BAT_I', 'reference': '2017ApJ...850...74K'}\n",
      "{'_id': ObjectId('61457ff4003f629b7cd39d1a'), 'Name': 'ESO195-IG021NED03', 'logM': 8.42, 'Type': 2.0, 'Note': 'BAT_I', 'reference': '2017ApJ...850...74K'}\n",
      "{'_id': ObjectId('61457ff4003f629b7cd39d1b'), 'Name': 'MCG-07-03-007', 'logM': 8.56, 'Type': 2.0, 'Note': 'BAT_I', 'reference': '2017ApJ...850...74K'}\n",
      "{'_id': ObjectId('61457ff4003f629b7cd39d1c'), 'Name': 'ESO243-G026', 'logM': 7.5, 'Type': 2.0, 'Note': 'BAT_I', 'reference': '2017ApJ...850...74K'}\n",
      "{'_id': ObjectId('61457ff4003f629b7cd39d1d'), 'Name': '2MASXJ01073963-1139117', 'logM': 8.08, 'Type': 2.0, 'Note': 'BAT_I', 'reference': '2017ApJ...850...74K'}\n",
      "{'_id': ObjectId('61457ff4003f629b7cd39d1e'), 'Name': 'IC1657', 'logM': 7.3, 'Type': 2.0, 'Note': 'BAT_I', 'reference': '2017ApJ...850...74K'}\n",
      "{'_id': ObjectId('61457ff4003f629b7cd39d1f'), 'Name': 'NGC454E', 'logM': 8.52, 'Type': 2.0, 'Note': 'BAT_I', 'reference': '2017ApJ...850...74K'}\n",
      "{'_id': ObjectId('61457ff4003f629b7cd39d20'), 'Name': 'MCG+08-03-018', 'logM': 8.41, 'Type': 2.0, 'Note': 'BAT_I', 'reference': '2017ApJ...850...74K'}\n",
      "{'_id': ObjectId('61457ff4003f629b7cd39d21'), 'Name': 'NGC526A', 'logM': 8.17, 'Type': 2.0, 'Note': 'BAT_I', 'reference': '2017ApJ...850...74K'}\n",
      "{'_id': ObjectId('61457ff4003f629b7cd39d22'), 'Name': 'NGC513', 'logM': 7.89, 'Type': 2.0, 'Note': 'BAT_I', 'reference': '2017ApJ...850...74K'}\n",
      "{'_id': ObjectId('61457ff4003f629b7cd39d23'), 'Name': 'Mrk359', 'logM': 7.03, 'Type': 1.5, 'Note': 'BAT_I', 'reference': '2017ApJ...850...74K'}\n",
      "{'_id': ObjectId('61457ff4003f629b7cd39d24'), 'Name': 'ESO244-IG030', 'logM': 7.39, 'Type': 2.0, 'Note': 'BAT_I', 'reference': '2017ApJ...850...74K'}\n",
      "{'_id': ObjectId('61457ff4003f629b7cd39d25'), 'Name': 'ESO353-G009', 'logM': 7.69, 'Type': 2.0, 'Note': 'BAT_I', 'reference': '2017ApJ...850...74K'}\n",
      "{'_id': ObjectId('61457ff4003f629b7cd39d26'), 'Name': 'NGC612', 'logM': 8.99, 'Type': 2.0, 'Note': 'BAT_I', 'reference': '2017ApJ...850...74K'}\n",
      "{'_id': ObjectId('61457ff4003f629b7cd39d27'), 'Name': 'ESO297-018', 'logM': 8.45, 'Type': 2.0, 'Note': 'BAT_I', 'reference': '2017ApJ...850...74K'}\n",
      "{'_id': ObjectId('61457ff4003f629b7cd39d28'), 'Name': '2MASXJ01392400+2924067', 'logM': 8.08, 'Type': 1.9, 'Note': 'BAT_I', 'reference': '2017ApJ...850...74K'}\n",
      "{'_id': ObjectId('61457ff4003f629b7cd39d29'), 'Name': 'ESO354-G004', 'logM': 8.46, 'Type': 1.2, 'Note': 'BAT_I', 'reference': '2017ApJ...850...74K'}\n",
      "{'_id': ObjectId('61457ff4003f629b7cd39d2a'), 'Name': 'NGC788', 'logM': 8.21, 'Type': 2.0, 'Note': 'BAT_I', 'reference': '2017ApJ...850...74K'}\n",
      "{'_id': ObjectId('61457ff4003f629b7cd39d2b'), 'Name': 'Mrk590', 'logM': 8.54, 'Type': 1.5, 'Note': 'BAT_I', 'reference': '2017ApJ...850...74K'}\n",
      "{'_id': ObjectId('61457ff4003f629b7cd39d2c'), 'Name': '3C062', 'logM': 8.43, 'Type': 2.0, 'Note': 'BAT_I', 'reference': '2017ApJ...850...74K'}\n",
      "{'_id': ObjectId('61457ff4003f629b7cd39d2d'), 'Name': 'NGC973', 'logM': 8.86, 'Type': 2.0, 'Note': 'BAT_I', 'reference': '2017ApJ...850...74K'}\n",
      "{'_id': ObjectId('61457ff4003f629b7cd39d2e'), 'Name': 'NGC1052', 'logM': 8.96, 'Type': 1.9, 'Note': 'BAT_I', 'reference': '2017ApJ...850...74K'}\n",
      "{'_id': ObjectId('61457ff4003f629b7cd39d2f'), 'Name': '2MASXJ02420381+0510061', 'logM': 9.23, 'Type': 2.0, 'Note': 'BAT_I', 'reference': '2017ApJ...850...74K'}\n",
      "{'_id': ObjectId('61457ff4003f629b7cd39d30'), 'Name': '2MASXJ02485937+2630391', 'logM': 9.15, 'Type': 2.0, 'Note': 'BAT_I', 'reference': '2017ApJ...850...74K'}\n",
      "{'_id': ObjectId('61457ff4003f629b7cd39d31'), 'Name': 'NGC1125', 'logM': 7.34, 'Type': 2.0, 'Note': 'BAT_I', 'reference': '2017ApJ...850...74K'}\n",
      "{'_id': ObjectId('61457ff4003f629b7cd39d32'), 'Name': 'MCG-02-08-014', 'logM': 7.79, 'Type': 2.0, 'Note': 'BAT_I', 'reference': '2017ApJ...850...74K'}\n",
      "{'_id': ObjectId('61457ff4003f629b7cd39d33'), 'Name': 'NGC1142', 'logM': 9.25, 'Type': 2.0, 'Note': 'BAT_I', 'reference': '2017ApJ...850...74K'}\n",
      "{'_id': ObjectId('61457ff4003f629b7cd39d34'), 'Name': 'NGC1194', 'logM': 8.12, 'Type': 2.0, 'Note': 'BAT_I', 'reference': '2017ApJ...850...74K'}\n",
      "{'_id': ObjectId('61457ff4003f629b7cd39d35'), 'Name': 'NGC1229', 'logM': 8.27, 'Type': 2.0, 'Note': 'BAT_I', 'reference': '2017ApJ...850...74K'}\n",
      "{'_id': ObjectId('61457ff4003f629b7cd39d36'), 'Name': 'MCG+00-09-042', 'logM': 7.82, 'Type': 2.0, 'Note': 'BAT_I', 'reference': '2017ApJ...850...74K'}\n",
      "{'_id': ObjectId('61457ff4003f629b7cd39d37'), 'Name': '2MASXJ03252346-5635443', 'logM': 9.1, 'Type': 0.0, 'Note': 'BAT_I', 'reference': '2017ApJ...850...74K'}\n",
      "{'_id': ObjectId('61457ff4003f629b7cd39d38'), 'Name': 'MCG-01-09-045', 'logM': 7.07, 'Type': 2.0, 'Note': 'BAT_I', 'reference': '2017ApJ...850...74K'}\n",
      "{'_id': ObjectId('61457ff4003f629b7cd39d39'), 'Name': '2MASXJ03534246+3714077', 'logM': 8.54, 'Type': 2.0, 'Note': 'BAT_I', 'reference': '2017ApJ...850...74K'}\n",
      "{'_id': ObjectId('61457ff4003f629b7cd39d3a'), 'Name': 'ESO549-G049', 'logM': 8.07, 'Type': 1.9, 'Note': 'BAT_I', 'reference': '2017ApJ...850...74K'}\n",
      "{'_id': ObjectId('61457ff4003f629b7cd39d3b'), 'Name': 'NGC1566', 'logM': 7.74, 'Type': 1.5, 'Note': 'BAT_I', 'reference': '2017ApJ...850...74K'}\n",
      "{'_id': ObjectId('61457ff4003f629b7cd39d3c'), 'Name': '2MASXJ04332716-5843346', 'logM': 8.5, 'Type': 2.0, 'Note': 'BAT_I', 'reference': '2017ApJ...850...74K'}\n",
      "{'_id': ObjectId('61457ff4003f629b7cd39d3d'), 'Name': '2MASXJ04440903+2813003', 'logM': 8.17, 'Type': 2.0, 'Note': 'BAT_I', 'reference': '2017ApJ...850...74K'}\n",
      "{'_id': ObjectId('61457ff4003f629b7cd39d3e'), 'Name': 'UGC3157', 'logM': 8.04, 'Type': 1.9, 'Note': 'BAT_I', 'reference': '2017ApJ...850...74K'}\n",
      "{'_id': ObjectId('61457ff4003f629b7cd39d3f'), 'Name': 'CGCG420-015', 'logM': 8.31, 'Type': 2.0, 'Note': 'BAT_I', 'reference': '2017ApJ...850...74K'}\n",
      "{'_id': ObjectId('61457ff4003f629b7cd39d40'), 'Name': 'CGCG468-002NED01', 'logM': 8.59, 'Type': 1.9, 'Note': 'BAT_I', 'reference': '2017ApJ...850...74K'}\n",
      "{'_id': ObjectId('61457ff4003f629b7cd39d41'), 'Name': 'ESO553-G022', 'logM': 8.28, 'Type': 2.0, 'Note': 'BAT_I', 'reference': '2017ApJ...850...74K'}\n",
      "{'_id': ObjectId('61457ff4003f629b7cd39d42'), 'Name': '2MASXJ05151978+1854515', 'logM': 9.09, 'Type': 2.0, 'Note': 'BAT_I', 'reference': '2017ApJ...850...74K'}\n",
      "{'_id': ObjectId('61457ff4003f629b7cd39d43'), 'Name': 'ESO553-G043', 'logM': 8.05, 'Type': 2.0, 'Note': 'BAT_I', 'reference': '2017ApJ...850...74K'}\n",
      "{'_id': ObjectId('61457ff4003f629b7cd39d44'), 'Name': 'NGC2110', 'logM': 9.25, 'Type': 2.0, 'Note': 'BAT_I', 'reference': '2017ApJ...850...74K'}\n",
      "{'_id': ObjectId('61457ff4003f629b7cd39d45'), 'Name': 'UGC03386', 'logM': 8.94, 'Type': 2.0, 'Note': 'BAT_I', 'reference': '2017ApJ...850...74K'}\n",
      "{'_id': ObjectId('61457ff4003f629b7cd39d46'), 'Name': 'VIIZw073', 'logM': 7.61, 'Type': 2.0, 'Note': 'BAT_I', 'reference': '2017ApJ...850...74K'}\n",
      "{'_id': ObjectId('61457ff4003f629b7cd39d47'), 'Name': '2MASXJ06411806+3249313', 'logM': 8.12, 'Type': 2.0, 'Note': 'BAT_I', 'reference': '2017ApJ...850...74K'}\n",
      "{'_id': ObjectId('61457ff4003f629b7cd39d48'), 'Name': 'UGC03601', 'logM': 8.6, 'Type': 1.9, 'Note': 'BAT_I', 'reference': '2017ApJ...850...74K'}\n",
      "{'_id': ObjectId('61457ff4003f629b7cd39d49'), 'Name': '2MASXJ06561197-4919499', 'logM': 8.61, 'Type': 2.0, 'Note': 'BAT_I', 'reference': '2017ApJ...850...74K'}\n",
      "{'_id': ObjectId('61457ff4003f629b7cd39d4a'), 'Name': '2MASXJ07084326-4642494', 'logM': 8.25, 'Type': 2.0, 'Note': 'BAT_I', 'reference': '2017ApJ...850...74K'}\n",
      "{'_id': ObjectId('61457ff4003f629b7cd39d4b'), 'Name': 'MCG+06-16-028', 'logM': 7.34, 'Type': 1.9, 'Note': 'BAT_I', 'reference': '2017ApJ...850...74K'}\n",
      "{'_id': ObjectId('61457ff4003f629b7cd39d4c'), 'Name': 'UGC03995A', 'logM': 7.81, 'Type': 2.0, 'Note': 'BAT_I', 'reference': '2017ApJ...850...74K'}\n",
      "{'_id': ObjectId('61457ff4003f629b7cd39d4d'), 'Name': 'Mrk10', 'logM': 9.0, 'Type': 1.5, 'Note': 'BAT_I', 'reference': '2017ApJ...850...74K'}\n",
      "{'_id': ObjectId('61457ff4003f629b7cd39d4e'), 'Name': 'B30749+460A', 'logM': 8.69, 'Type': 1.9, 'Note': 'BAT_I', 'reference': '2017ApJ...850...74K'}\n",
      "{'_id': ObjectId('61457ff4003f629b7cd39d4f'), 'Name': '2MASXJ07595347+2323241', 'logM': 8.4, 'Type': 1.9, 'Note': 'BAT_I', 'reference': '2017ApJ...850...74K'}\n",
      "{'_id': ObjectId('61457ff4003f629b7cd39d50'), 'Name': 'IC0486', 'logM': 8.02, 'Type': 1.9, 'Note': 'BAT_I', 'reference': '2017ApJ...850...74K'}\n",
      "{'_id': ObjectId('61457ff4003f629b7cd39d51'), 'Name': 'MCG+02-21-013', 'logM': 8.21, 'Type': 2.0, 'Note': 'BAT_I', 'reference': '2017ApJ...850...74K'}\n",
      "{'_id': ObjectId('61457ff4003f629b7cd39d52'), 'Name': '2MASXJ08045299-0108476', 'logM': 8.45, 'Type': 2.0, 'Note': 'BAT_I', 'reference': '2017ApJ...850...74K'}\n",
      "{'_id': ObjectId('61457ff4003f629b7cd39d53'), 'Name': 'Mrk622', 'logM': 7.51, 'Type': 2.0, 'Note': 'BAT_I', 'reference': '2017ApJ...850...74K'}\n",
      "{'_id': ObjectId('61457ff4003f629b7cd39d54'), 'Name': 'Fairall272', 'logM': 8.14, 'Type': 2.0, 'Note': 'BAT_I', 'reference': '2017ApJ...850...74K'}\n",
      "{'_id': ObjectId('61457ff4003f629b7cd39d55'), 'Name': '4C+29.30', 'logM': 8.77, 'Type': 2.0, 'Note': 'BAT_I', 'reference': '2017ApJ...850...74K'}\n",
      "{'_id': ObjectId('61457ff4003f629b7cd39d56'), 'Name': '2MASXJ08434495+3549421', 'logM': 8.45, 'Type': 2.0, 'Note': 'BAT_I', 'reference': '2017ApJ...850...74K'}\n",
      "{'_id': ObjectId('61457ff4003f629b7cd39d57'), 'Name': 'MCG+11-11-032', 'logM': 8.35, 'Type': 2.0, 'Note': 'BAT_I', 'reference': '2017ApJ...850...74K'}\n",
      "{'_id': ObjectId('61457ff4003f629b7cd39d58'), 'Name': 'Mrk18', 'logM': 7.85, 'Type': 1.9, 'Note': 'BAT_I', 'reference': '2017ApJ...850...74K'}\n",
      "{'_id': ObjectId('61457ff4003f629b7cd39d59'), 'Name': 'NGC2788A', 'logM': 8.71, 'Type': 2.0, 'Note': 'BAT_I', 'reference': '2017ApJ...850...74K'}\n",
      "{'_id': ObjectId('61457ff4003f629b7cd39d5a'), 'Name': '2MASXJ09112999+4528060', 'logM': 7.61, 'Type': 2.0, 'Note': 'BAT_I', 'reference': '2017ApJ...850...74K'}\n",
      "{'_id': ObjectId('61457ff4003f629b7cd39d5b'), 'Name': 'SBS0915+556', 'logM': 7.72, 'Type': 2.0, 'Note': 'BAT_I', 'reference': '2017ApJ...850...74K'}\n",
      "{'_id': ObjectId('61457ff4003f629b7cd39d5c'), 'Name': 'IC2461', 'logM': 7.1, 'Type': 2.0, 'Note': 'BAT_I', 'reference': '2017ApJ...850...74K'}\n",
      "{'_id': ObjectId('61457ff4003f629b7cd39d5d'), 'Name': 'MCG-01-24-012', 'logM': 7.88, 'Type': 2.0, 'Note': 'BAT_I', 'reference': '2017ApJ...850...74K'}\n",
      "{'_id': ObjectId('61457ff4003f629b7cd39d5e'), 'Name': 'NGC2885', 'logM': 8.58, 'Type': 1.2, 'Note': 'BAT_I', 'reference': '2017ApJ...850...74K'}\n",
      "{'_id': ObjectId('61457ff4003f629b7cd39d5f'), 'Name': 'CGCG312-012', 'logM': 8.17, 'Type': 2.0, 'Note': 'BAT_I', 'reference': '2017ApJ...850...74K'}\n",
      "{'_id': ObjectId('61457ff4003f629b7cd39d60'), 'Name': 'MCG+10-14-025', 'logM': 8.35, 'Type': 1.9, 'Note': 'BAT_I', 'reference': '2017ApJ...850...74K'}\n",
      "{'_id': ObjectId('61457ff4003f629b7cd39d61'), 'Name': 'VIIZw292', 'logM': 9.15, 'Type': 2.0, 'Note': 'BAT_I', 'reference': '2017ApJ...850...74K'}\n",
      "{'_id': ObjectId('61457ff4003f629b7cd39d62'), 'Name': 'NGC3035', 'logM': 7.69, 'Type': 1.9, 'Note': 'BAT_I', 'reference': '2017ApJ...850...74K'}\n",
      "{'_id': ObjectId('61457ff4003f629b7cd39d63'), 'Name': 'M81', 'logM': 8.16, 'Type': 1.9, 'Note': 'BAT_I', 'reference': '2017ApJ...850...74K'}\n",
      "{'_id': ObjectId('61457ff4003f629b7cd39d64'), 'Name': 'NGC3081', 'logM': 8.41, 'Type': 2.0, 'Note': 'BAT_I', 'reference': '2017ApJ...850...74K'}\n",
      "{'_id': ObjectId('61457ff4003f629b7cd39d65'), 'Name': 'NGC3079', 'logM': 8.27, 'Type': 2.0, 'Note': 'BAT_I', 'reference': '2017ApJ...850...74K'}\n",
      "{'_id': ObjectId('61457ff4003f629b7cd39d66'), 'Name': 'ESO317-G038', 'logM': 7.41, 'Type': 2.0, 'Note': 'BAT_I', 'reference': '2017ApJ...850...74K'}\n",
      "{'_id': ObjectId('61457ff4003f629b7cd39d67'), 'Name': 'ESO436-G034', 'logM': 8.07, 'Type': 2.0, 'Note': 'BAT_I', 'reference': '2017ApJ...850...74K'}\n",
      "{'_id': ObjectId('61457ff4003f629b7cd39d68'), 'Name': '2MASXJ10402231-4625264', 'logM': 8.52, 'Type': 2.0, 'Note': 'BAT_I', 'reference': '2017ApJ...850...74K'}\n",
      "{'_id': ObjectId('61457ff4003f629b7cd39d69'), 'Name': 'MCG+06-24-008', 'logM': 7.17, 'Type': 2.0, 'Note': 'BAT_I', 'reference': '2017ApJ...850...74K'}\n",
      "{'_id': ObjectId('61457ff4003f629b7cd39d6a'), 'Name': 'UGC05881', 'logM': 8.15, 'Type': 2.0, 'Note': 'BAT_I', 'reference': '2017ApJ...850...74K'}\n",
      "{'_id': ObjectId('61457ff4003f629b7cd39d6b'), 'Name': 'Mrk417', 'logM': 8.15, 'Type': 2.0, 'Note': 'BAT_I', 'reference': '2017ApJ...850...74K'}\n",
      "{'_id': ObjectId('61457ff4003f629b7cd39d6c'), 'Name': 'NGC3431', 'logM': 8.12, 'Type': 2.0, 'Note': 'BAT_I', 'reference': '2017ApJ...850...74K'}\n",
      "{'_id': ObjectId('61457ff4003f629b7cd39d6d'), 'Name': '2MASXJ10523297+1036205', 'logM': 9.04, 'Type': 1.9, 'Note': 'BAT_I', 'reference': '2017ApJ...850...74K'}\n",
      "{'_id': ObjectId('61457ff4003f629b7cd39d6e'), 'Name': '2MASXJ10594361+6504063', 'logM': 8.45, 'Type': 2.0, 'Note': 'BAT_I', 'reference': '2017ApJ...850...74K'}\n",
      "{'_id': ObjectId('61457ff4003f629b7cd39d6f'), 'Name': 'CGCG291-028', 'logM': 8.36, 'Type': 2.0, 'Note': 'BAT_I', 'reference': '2017ApJ...850...74K'}\n",
      "{'_id': ObjectId('61457ff4003f629b7cd39d70'), 'Name': 'IC2637', 'logM': 8.52, 'Type': 1.5, 'Note': 'BAT_I', 'reference': '2017ApJ...850...74K'}\n",
      "{'_id': ObjectId('61457ff4003f629b7cd39d71'), 'Name': 'NGC3588NED02', 'logM': 8.24, 'Type': 2.0, 'Note': 'BAT_I', 'reference': '2017ApJ...850...74K'}\n",
      "{'_id': ObjectId('61457ff4003f629b7cd39d72'), 'Name': 'MCG+09-19-015NED02', 'logM': 8.58, 'Type': 2.0, 'Note': 'BAT_I', 'reference': '2017ApJ...850...74K'}\n",
      "{'_id': ObjectId('61457ff4003f629b7cd39d73'), 'Name': 'ARP151', 'logM': 8.02, 'Type': 1.2, 'Note': 'BAT_I', 'reference': '2017ApJ...850...74K'}\n",
      "{'_id': ObjectId('61457ff4003f629b7cd39d74'), 'Name': 'Mrk423', 'logM': 8.18, 'Type': 2.0, 'Note': 'BAT_I', 'reference': '2017ApJ...850...74K'}\n",
      "{'_id': ObjectId('61457ff4003f629b7cd39d75'), 'Name': 'NGC3718', 'logM': 9.53, 'Type': 1.9, 'Note': 'BAT_I', 'reference': '2017ApJ...850...74K'}\n",
      "{'_id': ObjectId('61457ff4003f629b7cd39d76'), 'Name': 'IC2921', 'logM': 8.63, 'Type': 1.2, 'Note': 'BAT_I', 'reference': '2017ApJ...850...74K'}\n",
      "{'_id': ObjectId('61457ff4003f629b7cd39d77'), 'Name': '2MASXJ11363009+6737042', 'logM': 8.95, 'Type': 0.0, 'Note': 'BAT_I', 'reference': '2017ApJ...850...74K'}\n",
      "{'_id': ObjectId('61457ff4003f629b7cd39d78'), 'Name': '2MASXJ11383367+2523532', 'logM': 7.82, 'Type': 2.0, 'Note': 'BAT_I', 'reference': '2017ApJ...850...74K'}\n",
      "{'_id': ObjectId('61457ff4003f629b7cd39d79'), 'Name': 'SDSSJ113915.13+253557.9', 'logM': 8.87, 'Type': 2.0, 'Note': 'BAT_I', 'reference': '2017ApJ...850...74K'}\n",
      "{'_id': ObjectId('61457ff4003f629b7cd39d7a'), 'Name': 'HE1136-2304', 'logM': 7.62, 'Type': 1.9, 'Note': 'BAT_I', 'reference': '2017ApJ...850...74K'}\n",
      "{'_id': ObjectId('61457ff4003f629b7cd39d7b'), 'Name': 'MCG+10-17-061', 'logM': 8.61, 'Type': 2.0, 'Note': 'BAT_I', 'reference': '2017ApJ...850...74K'}\n",
      "{'_id': ObjectId('61457ff4003f629b7cd39d7c'), 'Name': 'SDSSJ114921.52+532013.4', 'logM': 8.68, 'Type': 1.5, 'Note': 'BAT_I', 'reference': '2017ApJ...850...74K'}\n",
      "{'_id': ObjectId('61457ff4003f629b7cd39d7d'), 'Name': 'NGC3998', 'logM': 9.93, 'Type': 1.9, 'Note': 'BAT_I', 'reference': '2017ApJ...850...74K'}\n",
      "{'_id': ObjectId('61457ff4003f629b7cd39d7e'), 'Name': 'IC0751', 'logM': 8.6, 'Type': 2.0, 'Note': 'BAT_I', 'reference': '2017ApJ...850...74K'}\n",
      "{'_id': ObjectId('61457ff4003f629b7cd39d7f'), 'Name': '2MASXJ12005792+0648226', 'logM': 8.31, 'Type': 2.0, 'Note': 'BAT_I', 'reference': '2017ApJ...850...74K'}\n",
      "{'_id': ObjectId('61457ff4003f629b7cd39d80'), 'Name': 'LEDA38038', 'logM': 7.98, 'Type': 2.0, 'Note': 'BAT_I', 'reference': '2017ApJ...850...74K'}\n",
      "{'_id': ObjectId('61457ff4003f629b7cd39d81'), 'Name': 'ARK347', 'logM': 8.18, 'Type': 2.0, 'Note': 'BAT_I', 'reference': '2017ApJ...850...74K'}\n",
      "{'_id': ObjectId('61457ff4003f629b7cd39d82'), 'Name': 'UGC07064', 'logM': 7.53, 'Type': 1.9, 'Note': 'BAT_I', 'reference': '2017ApJ...850...74K'}\n",
      "{'_id': ObjectId('61457ff4003f629b7cd39d83'), 'Name': '2MASXJ12055599+4959561', 'logM': 8.88, 'Type': 1.5, 'Note': 'BAT_I', 'reference': '2017ApJ...850...74K'}\n",
      "{'_id': ObjectId('61457ff4003f629b7cd39d84'), 'Name': 'NGC4102', 'logM': 8.75, 'Type': 2.0, 'Note': 'BAT_I', 'reference': '2017ApJ...850...74K'}\n",
      "{'_id': ObjectId('61457ff4003f629b7cd39d85'), 'Name': 'B21204+34', 'logM': 8.55, 'Type': 2.0, 'Note': 'BAT_I', 'reference': '2017ApJ...850...74K'}\n",
      "{'_id': ObjectId('61457ff4003f629b7cd39d86'), 'Name': 'Mrk198', 'logM': 7.82, 'Type': 2.0, 'Note': 'BAT_I', 'reference': '2017ApJ...850...74K'}\n",
      "{'_id': ObjectId('61457ff4003f629b7cd39d87'), 'Name': 'NGC4138', 'logM': 7.3, 'Type': 2.0, 'Note': 'BAT_I', 'reference': '2017ApJ...850...74K'}\n",
      "{'_id': ObjectId('61457ff4003f629b7cd39d88'), 'Name': '2MASXJ12111425-3933268', 'logM': 8.57, 'Type': 2.0, 'Note': 'BAT_I', 'reference': '2017ApJ...850...74K'}\n",
      "{'_id': ObjectId('61457ff4003f629b7cd39d89'), 'Name': 'CGCG187-022', 'logM': 7.75, 'Type': 2.0, 'Note': 'BAT_I', 'reference': '2017ApJ...850...74K'}\n",
      "{'_id': ObjectId('61457ff4003f629b7cd39d8a'), 'Name': 'Was49b', 'logM': 8.33, 'Type': 2.0, 'Note': 'BAT_I', 'reference': '2017ApJ...850...74K'}\n",
      "{'_id': ObjectId('61457ff4003f629b7cd39d8b'), 'Name': 'NGC4235', 'logM': 8.0, 'Type': 1.2, 'Note': 'BAT_I', 'reference': '2017ApJ...850...74K'}\n",
      "{'_id': ObjectId('61457ff4003f629b7cd39d8c'), 'Name': 'M106', 'logM': 7.57, 'Type': 1.9, 'Note': 'BAT_I', 'reference': '2017ApJ...850...74K'}\n",
      "{'_id': ObjectId('61457ff4003f629b7cd39d8d'), 'Name': 'NGC4388', 'logM': 6.99, 'Type': 2.0, 'Note': 'BAT_I', 'reference': '2017ApJ...850...74K'}\n",
      "{'_id': ObjectId('61457ff4003f629b7cd39d8e'), 'Name': 'NGC4507', 'logM': 7.9, 'Type': 1.9, 'Note': 'BAT_I', 'reference': '2017ApJ...850...74K'}\n",
      "{'_id': ObjectId('61457ff4003f629b7cd39d8f'), 'Name': '2MASXJ12384342+0927362', 'logM': 8.89, 'Type': 2.0, 'Note': 'BAT_I', 'reference': '2017ApJ...850...74K'}\n",
      "{'_id': ObjectId('61457ff4003f629b7cd39d90'), 'Name': 'ESO506-G027', 'logM': 8.99, 'Type': 2.0, 'Note': 'BAT_I', 'reference': '2017ApJ...850...74K'}\n",
      "{'_id': ObjectId('61457ff4003f629b7cd39d91'), 'Name': 'LEDA170194', 'logM': 8.16, 'Type': 2.0, 'Note': 'BAT_I', 'reference': '2017ApJ...850...74K'}\n",
      "{'_id': ObjectId('61457ff4003f629b7cd39d92'), 'Name': 'Mrk653', 'logM': 8.05, 'Type': 2.0, 'Note': 'BAT_I', 'reference': '2017ApJ...850...74K'}\n",
      "{'_id': ObjectId('61457ff4003f629b7cd39d93'), 'Name': 'NGC4619', 'logM': 7.96, 'Type': 1.9, 'Note': 'BAT_I', 'reference': '2017ApJ...850...74K'}\n",
      "{'_id': ObjectId('61457ff4003f629b7cd39d94'), 'Name': 'KUG1238+278A', 'logM': 8.22, 'Type': 1.9, 'Note': 'BAT_I', 'reference': '2017ApJ...850...74K'}\n",
      "{'_id': ObjectId('61457ff4003f629b7cd39d95'), 'Name': 'NGC4686', 'logM': 9.8, 'Type': 2.0, 'Note': 'BAT_I', 'reference': '2017ApJ...850...74K'}\n",
      "{'_id': ObjectId('61457ff4003f629b7cd39d96'), 'Name': 'ESO323-32', 'logM': 7.56, 'Type': 2.0, 'Note': 'BAT_I', 'reference': '2017ApJ...850...74K'}\n",
      "{'_id': ObjectId('61457ff4003f629b7cd39d97'), 'Name': '2MASXJ13000533+1632151', 'logM': 9.19, 'Type': 2.0, 'Note': 'BAT_I', 'reference': '2017ApJ...850...74K'}\n",
      "{'_id': ObjectId('61457ff4003f629b7cd39d98'), 'Name': 'NGC4941', 'logM': 7.03, 'Type': 2.0, 'Note': 'BAT_I', 'reference': '2017ApJ...850...74K'}\n",
      "{'_id': ObjectId('61457ff4003f629b7cd39d99'), 'Name': 'NGC4939', 'logM': 7.52, 'Type': 2.0, 'Note': 'BAT_I', 'reference': '2017ApJ...850...74K'}\n",
      "{'_id': ObjectId('61457ff4003f629b7cd39d9a'), 'Name': 'NGC4992', 'logM': 8.54, 'Type': 2.0, 'Note': 'BAT_I', 'reference': '2017ApJ...850...74K'}\n",
      "{'_id': ObjectId('61457ff4003f629b7cd39d9b'), 'Name': '2MASXJ13105723+0837387', 'logM': 9.02, 'Type': 2.0, 'Note': 'BAT_I', 'reference': '2017ApJ...850...74K'}\n",
      "{'_id': ObjectId('61457ff4003f629b7cd39d9c'), 'Name': 'NGC5033', 'logM': 7.86, 'Type': 1.9, 'Note': 'BAT_I', 'reference': '2017ApJ...850...74K'}\n",
      "{'_id': ObjectId('61457ff4003f629b7cd39d9d'), 'Name': 'UGC08327NED02', 'logM': 8.67, 'Type': 2.0, 'Note': 'BAT_I', 'reference': '2017ApJ...850...74K'}\n",
      "{'_id': ObjectId('61457ff4003f629b7cd39d9e'), 'Name': 'NGC5100NED02', 'logM': 8.51, 'Type': 2.0, 'Note': 'BAT_I', 'reference': '2017ApJ...850...74K'}\n",
      "{'_id': ObjectId('61457ff4003f629b7cd39d9f'), 'Name': 'ESO509-G038', 'logM': 8.56, 'Type': 1.5, 'Note': 'BAT_I', 'reference': '2017ApJ...850...74K'}\n",
      "{'_id': ObjectId('61457ff4003f629b7cd39da0'), 'Name': 'ESO509-IG066NED01', 'logM': 8.17, 'Type': 1.9, 'Note': 'BAT_I', 'reference': '2017ApJ...850...74K'}\n",
      "{'_id': ObjectId('61457ff4003f629b7cd39da1'), 'Name': 'NGC5231', 'logM': 7.95, 'Type': 2.0, 'Note': 'BAT_I', 'reference': '2017ApJ...850...74K'}\n",
      "{'_id': ObjectId('61457ff4003f629b7cd39da2'), 'Name': 'NGC5252', 'logM': 8.87, 'Type': 2.0, 'Note': 'BAT_I', 'reference': '2017ApJ...850...74K'}\n",
      "{'_id': ObjectId('61457ff4003f629b7cd39da3'), 'Name': 'NGC5283', 'logM': 8.87, 'Type': 2.0, 'Note': 'BAT_I', 'reference': '2017ApJ...850...74K'}\n",
      "{'_id': ObjectId('61457ff4003f629b7cd39da4'), 'Name': 'Mrk268', 'logM': 8.54, 'Type': 1.9, 'Note': 'BAT_I', 'reference': '2017ApJ...850...74K'}\n",
      "{'_id': ObjectId('61457ff4003f629b7cd39da5'), 'Name': 'NGC5273', 'logM': 7.11, 'Type': 1.5, 'Note': 'BAT_I', 'reference': '2017ApJ...850...74K'}\n",
      "{'_id': ObjectId('61457ff4003f629b7cd39da6'), 'Name': 'CGCG102-048', 'logM': 8.26, 'Type': 2.0, 'Note': 'BAT_I', 'reference': '2017ApJ...850...74K'}\n",
      "{'_id': ObjectId('61457ff4003f629b7cd39da7'), 'Name': 'NGC5290', 'logM': 7.76, 'Type': 2.0, 'Note': 'BAT_I', 'reference': '2017ApJ...850...74K'}\n",
      "{'_id': ObjectId('61457ff4003f629b7cd39da8'), 'Name': '2MASXJ13471874+0210579', 'logM': 8.82, 'Type': 0.0, 'Note': 'BAT_I', 'reference': '2017ApJ...850...74K'}\n",
      "{'_id': ObjectId('61457ff4003f629b7cd39da9'), 'Name': '2MASXJ13532820-1123055', 'logM': 8.13, 'Type': 2.0, 'Note': 'BAT_I', 'reference': '2017ApJ...850...74K'}\n",
      "{'_id': ObjectId('61457ff4003f629b7cd39daa'), 'Name': '2MASXJ14104482-4228325', 'logM': 8.27, 'Type': 2.0, 'Note': 'BAT_I', 'reference': '2017ApJ...850...74K'}\n",
      "{'_id': ObjectId('61457ff4003f629b7cd39dab'), 'Name': 'IGRJ14175-4641', 'logM': 8.8, 'Type': 2.0, 'Note': 'BAT_I', 'reference': '2017ApJ...850...74K'}\n",
      "{'_id': ObjectId('61457ff4003f629b7cd39dac'), 'Name': '2MASXJ14174289+6141523', 'logM': 9.31, 'Type': 1.9, 'Note': 'BAT_I', 'reference': '2017ApJ...850...74K'}\n",
      "{'_id': ObjectId('61457ff4003f629b7cd39dad'), 'Name': '[HB89]1415+259', 'logM': 9.31, 'Type': 0.0, 'Note': 'BAT_I', 'reference': '2017ApJ...850...74K'}\n",
      "{'_id': ObjectId('61457ff4003f629b7cd39dae'), 'Name': 'NGC5610', 'logM': 7.81, 'Type': 2.0, 'Note': 'BAT_I', 'reference': '2017ApJ...850...74K'}\n",
      "{'_id': ObjectId('61457ff4003f629b7cd39daf'), 'Name': '1ES1426+428', 'logM': 8.87, 'Type': 0.0, 'Note': 'BAT_I', 'reference': '2017ApJ...850...74K'}\n",
      "{'_id': ObjectId('61457ff4003f629b7cd39db0'), 'Name': 'NGC5674', 'logM': 7.65, 'Type': 2.0, 'Note': 'BAT_I', 'reference': '2017ApJ...850...74K'}\n",
      "{'_id': ObjectId('61457ff4003f629b7cd39db1'), 'Name': '2MASXJ14391186+1415215', 'logM': 8.39, 'Type': 2.0, 'Note': 'BAT_I', 'reference': '2017ApJ...850...74K'}\n",
      "{'_id': ObjectId('61457ff4003f629b7cd39db2'), 'Name': 'NGC5728', 'logM': 8.07, 'Type': 1.9, 'Note': 'BAT_I', 'reference': '2017ApJ...850...74K'}\n",
      "{'_id': ObjectId('61457ff4003f629b7cd39db3'), 'Name': 'CGCG164-019', 'logM': 7.11, 'Type': 1.9, 'Note': 'BAT_I', 'reference': '2017ApJ...850...74K'}\n",
      "{'_id': ObjectId('61457ff4003f629b7cd39db4'), 'Name': '2MASXJ15064412+0351444', 'logM': 7.49, 'Type': 2.0, 'Note': 'BAT_I', 'reference': '2017ApJ...850...74K'}\n",
      "{'_id': ObjectId('61457ff4003f629b7cd39db5'), 'Name': 'Mrk1393', 'logM': 8.61, 'Type': 1.9, 'Note': 'BAT_I', 'reference': '2017ApJ...850...74K'}\n",
      "{'_id': ObjectId('61457ff4003f629b7cd39db6'), 'Name': 'NGC5899', 'logM': 8.66, 'Type': 2.0, 'Note': 'BAT_I', 'reference': '2017ApJ...850...74K'}\n",
      "{'_id': ObjectId('61457ff4003f629b7cd39db7'), 'Name': '2MASXJ15462424+6929102', 'logM': 9.18, 'Type': 2.0, 'Note': 'BAT_I', 'reference': '2017ApJ...850...74K'}\n",
      "{'_id': ObjectId('61457ff4003f629b7cd39db8'), 'Name': 'NGC5995', 'logM': 8.64, 'Type': 1.9, 'Note': 'BAT_I', 'reference': '2017ApJ...850...74K'}\n",
      "{'_id': ObjectId('61457ff4003f629b7cd39db9'), 'Name': '4C+23.42', 'logM': 9.43, 'Type': 1.9, 'Note': 'BAT_I', 'reference': '2017ApJ...850...74K'}\n",
      "{'_id': ObjectId('61457ff4003f629b7cd39dba'), 'Name': 'SDSSJ155334.73+261441.4', 'logM': 8.57, 'Type': 1.9, 'Note': 'BAT_I', 'reference': '2017ApJ...850...74K'}\n",
      "{'_id': ObjectId('61457ff4003f629b7cd39dbb'), 'Name': 'CGCG367-009', 'logM': 9.82, 'Type': 2.0, 'Note': 'BAT_I', 'reference': '2017ApJ...850...74K'}\n",
      "{'_id': ObjectId('61457ff4003f629b7cd39dbc'), 'Name': '2MASXJ16303265+3923031', 'logM': 7.96, 'Type': 2.0, 'Note': 'BAT_I', 'reference': '2017ApJ...850...74K'}\n",
      "{'_id': ObjectId('61457ff4003f629b7cd39dbd'), 'Name': '2MASXJ16311554+2352577', 'logM': 8.74, 'Type': 2.0, 'Note': 'BAT_I', 'reference': '2017ApJ...850...74K'}\n",
      "{'_id': ObjectId('61457ff4003f629b7cd39dbe'), 'Name': 'NGC6232', 'logM': 7.43, 'Type': 2.0, 'Note': 'BAT_I', 'reference': '2017ApJ...850...74K'}\n",
      "{'_id': ObjectId('61457ff4003f629b7cd39dbf'), 'Name': 'LEDA214543', 'logM': 9.83, 'Type': 2.0, 'Note': 'BAT_I', 'reference': '2017ApJ...850...74K'}\n",
      "{'_id': ObjectId('61457ff4003f629b7cd39dc0'), 'Name': '2MASXJ16531506+2349431', 'logM': 8.23, 'Type': 2.0, 'Note': 'BAT_I', 'reference': '2017ApJ...850...74K'}\n",
      "{'_id': ObjectId('61457ff4003f629b7cd39dc1'), 'Name': 'ARP102B', 'logM': 8.92, 'Type': 2.0, 'Note': 'BAT_I', 'reference': '2017ApJ...850...74K'}\n",
      "{'_id': ObjectId('61457ff4003f629b7cd39dc2'), 'Name': 'UGC11185NED02', 'logM': 8.11, 'Type': 2.0, 'Note': 'BAT_I', 'reference': '2017ApJ...850...74K'}\n",
      "{'_id': ObjectId('61457ff4003f629b7cd39dc3'), 'Name': '2MASXJ18241083+1846088', 'logM': 7.98, 'Type': 1.9, 'Note': 'BAT_I', 'reference': '2017ApJ...850...74K'}\n",
      "{'_id': ObjectId('61457ff4003f629b7cd39dc4'), 'Name': '2MASXJ18263239+3251300', 'logM': 7.72, 'Type': 2.0, 'Note': 'BAT_I', 'reference': '2017ApJ...850...74K'}\n",
      "{'_id': ObjectId('61457ff4003f629b7cd39dc5'), 'Name': '2MASXJ18305065+0928414', 'logM': 8.39, 'Type': 2.0, 'Note': 'BAT_I', 'reference': '2017ApJ...850...74K'}\n",
      "{'_id': ObjectId('61457ff4003f629b7cd39dc6'), 'Name': 'Fairall49', 'logM': 8.17, 'Type': 1.9, 'Note': 'BAT_I', 'reference': '2017ApJ...850...74K'}\n",
      "{'_id': ObjectId('61457ff4003f629b7cd39dc7'), 'Name': 'ESO025-G002', 'logM': 8.15, 'Type': 1.0, 'Note': 'BAT_I', 'reference': '2017ApJ...850...74K'}\n",
      "{'_id': ObjectId('61457ff4003f629b7cd39dc8'), 'Name': 'ESO231-G026', 'logM': 8.81, 'Type': 2.0, 'Note': 'BAT_I', 'reference': '2017ApJ...850...74K'}\n",
      "{'_id': ObjectId('61457ff4003f629b7cd39dc9'), 'Name': '2MASXJ19471938+4449425', 'logM': 9.01, 'Type': 2.0, 'Note': 'BAT_I', 'reference': '2017ApJ...850...74K'}\n",
      "{'_id': ObjectId('61457ff4003f629b7cd39dca'), 'Name': '3C403', 'logM': 9.15, 'Type': 2.0, 'Note': 'BAT_I', 'reference': '2017ApJ...850...74K'}\n",
      "{'_id': ObjectId('61457ff4003f629b7cd39dcb'), 'Name': '2MASXJ20005575-1810274', 'logM': 8.07, 'Type': 1.9, 'Note': 'BAT_I', 'reference': '2017ApJ...850...74K'}\n",
      "{'_id': ObjectId('61457ff4003f629b7cd39dcc'), 'Name': '2MASXJ20101740+4800214', 'logM': 9.48, 'Type': 2.0, 'Note': 'BAT_I', 'reference': '2017ApJ...850...74K'}\n",
      "{'_id': ObjectId('61457ff4003f629b7cd39dcd'), 'Name': 'ESO234-IG063', 'logM': 8.11, 'Type': 2.0, 'Note': 'BAT_I', 'reference': '2017ApJ...850...74K'}\n",
      "{'_id': ObjectId('61457ff4003f629b7cd39dce'), 'Name': '3C433', 'logM': 9.12, 'Type': 1.9, 'Note': 'BAT_I', 'reference': '2017ApJ...850...74K'}\n",
      "{'_id': ObjectId('61457ff4003f629b7cd39dcf'), 'Name': 'NGC7130', 'logM': 7.61, 'Type': 1.9, 'Note': 'BAT_I', 'reference': '2017ApJ...850...74K'}\n",
      "{'_id': ObjectId('61457ff4003f629b7cd39dd0'), 'Name': 'NGC7172', 'logM': 8.45, 'Type': 2.0, 'Note': 'BAT_I', 'reference': '2017ApJ...850...74K'}\n",
      "{'_id': ObjectId('61457ff4003f629b7cd39dd1'), 'Name': '2MASXJ22140917-2557487', 'logM': 8.17, 'Type': 2.0, 'Note': 'BAT_I', 'reference': '2017ApJ...850...74K'}\n",
      "{'_id': ObjectId('61457ff4003f629b7cd39dd2'), 'Name': '2MASXJ22194971+2613277', 'logM': 8.28, 'Type': 1.5, 'Note': 'BAT_I', 'reference': '2017ApJ...850...74K'}\n",
      "{'_id': ObjectId('61457ff4003f629b7cd39dd3'), 'Name': 'MCG+02-57-002', 'logM': 9.43, 'Type': 1.9, 'Note': 'BAT_I', 'reference': '2017ApJ...850...74K'}\n",
      "{'_id': ObjectId('61457ff4003f629b7cd39dd4'), 'Name': 'ESO533-G050', 'logM': 7.84, 'Type': 2.0, 'Note': 'BAT_I', 'reference': '2017ApJ...850...74K'}\n",
      "{'_id': ObjectId('61457ff4003f629b7cd39dd5'), 'Name': 'NGC7314', 'logM': 7.24, 'Type': 1.9, 'Note': 'BAT_I', 'reference': '2017ApJ...850...74K'}\n",
      "{'_id': ObjectId('61457ff4003f629b7cd39dd6'), 'Name': 'Mrk915', 'logM': 7.76, 'Type': 1.9, 'Note': 'BAT_I', 'reference': '2017ApJ...850...74K'}\n",
      "{'_id': ObjectId('61457ff4003f629b7cd39dd7'), 'Name': '3C452', 'logM': 8.99, 'Type': 1.9, 'Note': 'BAT_I', 'reference': '2017ApJ...850...74K'}\n",
      "{'_id': ObjectId('61457ff4003f629b7cd39dd8'), 'Name': 'UGC12282', 'logM': 9.8, 'Type': 2.0, 'Note': 'BAT_I', 'reference': '2017ApJ...850...74K'}\n",
      "{'_id': ObjectId('61457ff4003f629b7cd39dd9'), 'Name': 'NGC7479', 'logM': 7.53, 'Type': 1.9, 'Note': 'BAT_I', 'reference': '2017ApJ...850...74K'}\n",
      "{'_id': ObjectId('61457ff4003f629b7cd39dda'), 'Name': '2MASXJ23222444-0645375', 'logM': 8.27, 'Type': 2.0, 'Note': 'BAT_I', 'reference': '2017ApJ...850...74K'}\n",
      "{'_id': ObjectId('61457ff4003f629b7cd39ddb'), 'Name': '2MASXJ23272195+1524375', 'logM': 9.02, 'Type': 0.0, 'Note': 'BAT_I', 'reference': '2017ApJ...850...74K'}\n",
      "{'_id': ObjectId('61457ff4003f629b7cd39ddc'), 'Name': 'UGC12741', 'logM': 8.69, 'Type': 2.0, 'Note': 'BAT_I', 'reference': '2017ApJ...850...74K'}\n",
      "{'_id': ObjectId('6145801f003f629b7cd39ddd'), 'Name': 'NGC1068', 'logM': 6.93, 'Type': 1.9, 'Note': 'BAT_I_lit', 'reference': '2017ApJ...850...74K'}\n",
      "{'_id': ObjectId('6145801f003f629b7cd39dde'), 'Name': 'NGC1194', 'logM': 7.83, 'Type': 2.0, 'Note': 'BAT_I_lit', 'reference': '2017ApJ...850...74K'}\n",
      "{'_id': ObjectId('6145801f003f629b7cd39ddf'), 'Name': 'M81', 'logM': 7.9, 'Type': 1.9, 'Note': 'BAT_I_lit', 'reference': '2017ApJ...850...74K'}\n",
      "{'_id': ObjectId('6145801f003f629b7cd39de0'), 'Name': 'NGC3079', 'logM': 6.38, 'Type': 2.0, 'Note': 'BAT_I_lit', 'reference': '2017ApJ...850...74K'}\n",
      "{'_id': ObjectId('6145801f003f629b7cd39de1'), 'Name': 'NGC3227', 'logM': 7.18, 'Type': 1.5, 'Note': 'BAT_I_lit', 'reference': '2017ApJ...850...74K'}\n",
      "{'_id': ObjectId('6145801f003f629b7cd39de2'), 'Name': 'NGC3393', 'logM': 7.52, 'Type': 2.0, 'Note': 'BAT_I_lit', 'reference': '2017ApJ...850...74K'}\n",
      "{'_id': ObjectId('6145801f003f629b7cd39de3'), 'Name': 'NGC3998', 'logM': 8.93, 'Type': 1.9, 'Note': 'BAT_I_lit', 'reference': '2017ApJ...850...74K'}\n",
      "{'_id': ObjectId('6145801f003f629b7cd39de4'), 'Name': 'NGC4151', 'logM': 7.58, 'Type': 1.5, 'Note': 'BAT_I_lit', 'reference': '2017ApJ...850...74K'}\n",
      "{'_id': ObjectId('6145801f003f629b7cd39de5'), 'Name': 'M106', 'logM': 7.56, 'Type': 1.9, 'Note': 'BAT_I_lit', 'reference': '2017ApJ...850...74K'}\n",
      "{'_id': ObjectId('6145801f003f629b7cd39de6'), 'Name': 'NGC4388', 'logM': 6.94, 'Type': 2.0, 'Note': 'BAT_I_lit', 'reference': '2017ApJ...850...74K'}\n",
      "{'_id': ObjectId('6145801f003f629b7cd39de7'), 'Name': 'CenA', 'logM': 7.77, 'Type': 2.0, 'Note': 'BAT_I_lit', 'reference': '2017ApJ...850...74K'}\n",
      "{'_id': ObjectId('6145801f003f629b7cd39de8'), 'Name': 'NGC5252', 'logM': 9.0, 'Type': 2.0, 'Note': 'BAT_I_lit', 'reference': '2017ApJ...850...74K'}\n",
      "{'_id': ObjectId('6145801f003f629b7cd39de9'), 'Name': 'NGC6240', 'logM': 9.2, 'Type': 1.9, 'Note': 'BAT_I_lit', 'reference': '2017ApJ...850...74K'}\n",
      "{'_id': ObjectId('6145801f003f629b7cd39dea'), 'Name': 'CygnusA', 'logM': 9.43, 'Type': 2.0, 'Note': 'BAT_I_lit', 'reference': '2017ApJ...850...74K'}\n",
      "{'_id': ObjectId('6145801f003f629b7cd39deb'), 'Name': 'NGC7582', 'logM': 7.74, 'Type': 2.0, 'Note': 'BAT_I_lit', 'reference': '2017ApJ...850...74K'}\n"
     ]
    }
   ],
   "source": [
    "myquery_BAT_I= {\"reference\": \"2017ApJ...850...74K\"} #BAT_I\n",
    "for x in mycol_mass_db.find(myquery_BAT_I):\n",
    "    print(x)"
   ]
  },
  {
   "cell_type": "code",
   "execution_count": null,
   "metadata": {},
   "outputs": [],
   "source": []
  },
  {
   "cell_type": "markdown",
   "metadata": {},
   "source": [
    "## BAT_corona_parameter"
   ]
  },
  {
   "cell_type": "code",
   "execution_count": 10,
   "metadata": {
    "ExecuteTime": {
     "end_time": "2021-10-10T05:42:04.457689Z",
     "start_time": "2021-10-10T05:42:04.388170Z"
    }
   },
   "outputs": [],
   "source": [
    "BAT_corona_parameter=pd.read_excel('/Users/brettlv/blog/IHEP_sync/data/AGNmass/2021MNRAS.506.4960H_table4.xlsx',header=0)\n",
    "BAT_corona_parameter=BAT_corona_parameter[BAT_corona_parameter['Object'].notnull()]\n",
    "BAT_corona_parameter=drop_index(BAT_corona_parameter)"
   ]
  },
  {
   "cell_type": "code",
   "execution_count": 11,
   "metadata": {
    "ExecuteTime": {
     "end_time": "2021-10-10T05:42:04.876250Z",
     "start_time": "2021-10-10T05:42:04.865210Z"
    }
   },
   "outputs": [
    {
     "data": {
      "text/plain": [
       "Index(['Object', 'Type', 'Redshift', 'log(MBH)', 'log(λe)', 'nH', 'Unnamed: 6',\n",
       "       'Efold', 'R', 'Unnamed: 9', 'χ2/d.o.f.', 'Ref.', '2021MNRAS.506.4960H'],\n",
       "      dtype='object')"
      ]
     },
     "execution_count": 11,
     "metadata": {},
     "output_type": "execute_result"
    }
   ],
   "source": [
    "BAT_corona_parameter.columns"
   ]
  },
  {
   "cell_type": "code",
   "execution_count": 60,
   "metadata": {
    "ExecuteTime": {
     "end_time": "2021-09-18T06:03:32.833164Z",
     "start_time": "2021-09-18T06:03:32.800603Z"
    }
   },
   "outputs": [],
   "source": [
    "for index in range(len(BAT_corona_parameter['log(MBH)'])):\n",
    "    if BAT_corona_parameter.loc[index,'log(MBH)'].find('+')>0:\n",
    "        logMbh=float(BAT_corona_parameter.loc[index,'log(MBH)'].split('+')[0])\n",
    "    elif BAT_corona_parameter.loc[index,'log(MBH)'].find('±')>0:\n",
    "        logMbh=float(BAT_corona_parameter.loc[index,'log(MBH)'].split('±')[0])\n",
    "           \n",
    "    BAT_corona_parameter.loc[index,'logM']=logMbh    \n",
    "    BAT_corona_parameter.loc[index,'Name']=BAT_corona_parameter.loc[index,'Object'].replace(' ','').strip()\n"
   ]
  },
  {
   "cell_type": "code",
   "execution_count": 61,
   "metadata": {
    "ExecuteTime": {
     "end_time": "2021-09-18T06:03:41.504897Z",
     "start_time": "2021-09-18T06:03:41.498583Z"
    }
   },
   "outputs": [
    {
     "name": "stderr",
     "output_type": "stream",
     "text": [
      "<ipython-input-61-8557aaedc80e>:4: SettingWithCopyWarning: \n",
      "A value is trying to be set on a copy of a slice from a DataFrame.\n",
      "Try using .loc[row_indexer,col_indexer] = value instead\n",
      "\n",
      "See the caveats in the documentation: https://pandas.pydata.org/pandas-docs/stable/user_guide/indexing.html#returning-a-view-versus-a-copy\n",
      "  BAT_corona_parameter_select['reference']='2021MNRAS.506.4960H'\n",
      "<ipython-input-61-8557aaedc80e>:5: SettingWithCopyWarning: \n",
      "A value is trying to be set on a copy of a slice from a DataFrame.\n",
      "Try using .loc[row_indexer,col_indexer] = value instead\n",
      "\n",
      "See the caveats in the documentation: https://pandas.pydata.org/pandas-docs/stable/user_guide/indexing.html#returning-a-view-versus-a-copy\n",
      "  BAT_corona_parameter_select['Note']='BAT_corona'\n"
     ]
    }
   ],
   "source": [
    "BAT_corona_parameter_select=BAT_corona_parameter[['Name','Type','Redshift','logM']]\n",
    "#BAT_corona_parameter_select=BAT_corona_parameter_select['Name'].str.replace(' ','')\n",
    "#BAT_corona_parameter_select=BAT_corona_parameter_select['Name'].strip()\n",
    "BAT_corona_parameter_select['reference']='2021MNRAS.506.4960H'\n",
    "BAT_corona_parameter_select['Note']='BAT_corona'"
   ]
  },
  {
   "cell_type": "code",
   "execution_count": 62,
   "metadata": {
    "ExecuteTime": {
     "end_time": "2021-09-18T06:03:44.507161Z",
     "start_time": "2021-09-18T06:03:44.501973Z"
    }
   },
   "outputs": [
    {
     "data": {
      "text/plain": [
       "Index(['Name', 'Type', 'Redshift', 'logM', 'reference', 'Note'], dtype='object')"
      ]
     },
     "execution_count": 62,
     "metadata": {},
     "output_type": "execute_result"
    }
   ],
   "source": [
    "BAT_corona_parameter_select.columns"
   ]
  },
  {
   "cell_type": "markdown",
   "metadata": {
    "ExecuteTime": {
     "end_time": "2021-09-18T06:03:47.585568Z",
     "start_time": "2021-09-18T06:03:47.573968Z"
    }
   },
   "source": [
    "zarten_BAT_corona = json.loads(BAT_corona_parameter_select.T.to_json()).values()\n",
    "mycol_mass_db.insert_many(zarten_BAT_corona)"
   ]
  },
  {
   "cell_type": "code",
   "execution_count": null,
   "metadata": {},
   "outputs": [],
   "source": []
  },
  {
   "cell_type": "code",
   "execution_count": null,
   "metadata": {},
   "outputs": [],
   "source": []
  },
  {
   "cell_type": "code",
   "execution_count": 91,
   "metadata": {
    "ExecuteTime": {
     "end_time": "2021-09-18T08:55:35.285918Z",
     "start_time": "2021-09-18T08:55:35.272848Z"
    }
   },
   "outputs": [
    {
     "data": {
      "text/plain": [
       "0               Mrk1501\n",
       "1               Mrk1148\n",
       "2              Fairall9\n",
       "3                Mrk359\n",
       "4                NGC931\n",
       "5               NGC1052\n",
       "6               NGC1068\n",
       "7                 3C109\n",
       "8                 3C120\n",
       "9                Ark120\n",
       "10            ESO362−18\n",
       "11                 Mrk3\n",
       "12       IRAS09149−6206\n",
       "13              NGC3227\n",
       "14              NGC3998\n",
       "15              NGC4151\n",
       "16               Mrk766\n",
       "17                3C273\n",
       "18              NGC4579\n",
       "19              NGC4593\n",
       "20              NGC4785\n",
       "21               Mrk273\n",
       "22               Mrk841\n",
       "23              Mrk1392\n",
       "24                3C382\n",
       "25    SwiftJ2127.4+5654\n",
       "26              IIZw171\n",
       "27              NGC7314\n",
       "28               Mrk915\n",
       "29           MR2251−178\n",
       "30              NGC7469\n",
       "31               Mrk926\n",
       "32              NGC7582\n",
       "Name: Name, dtype: object"
      ]
     },
     "execution_count": 91,
     "metadata": {},
     "output_type": "execute_result"
    }
   ],
   "source": [
    "BAT_corona_parameter_select['Name']"
   ]
  },
  {
   "cell_type": "code",
   "execution_count": null,
   "metadata": {},
   "outputs": [],
   "source": []
  },
  {
   "cell_type": "markdown",
   "metadata": {},
   "source": [
    "# QSO"
   ]
  },
  {
   "cell_type": "code",
   "execution_count": null,
   "metadata": {},
   "outputs": [],
   "source": []
  },
  {
   "cell_type": "markdown",
   "metadata": {},
   "source": [
    "# EVQ"
   ]
  },
  {
   "cell_type": "code",
   "execution_count": null,
   "metadata": {},
   "outputs": [],
   "source": []
  },
  {
   "cell_type": "code",
   "execution_count": null,
   "metadata": {},
   "outputs": [],
   "source": []
  },
  {
   "cell_type": "markdown",
   "metadata": {},
   "source": [
    "# count"
   ]
  },
  {
   "cell_type": "code",
   "execution_count": 66,
   "metadata": {
    "ExecuteTime": {
     "end_time": "2021-09-18T06:06:51.899554Z",
     "start_time": "2021-09-18T06:06:51.877535Z"
    }
   },
   "outputs": [
    {
     "name": "stdout",
     "output_type": "stream",
     "text": [
      "BAT_I mass count is = 201\n"
     ]
    }
   ],
   "source": [
    "print(\"BAT_I mass count is =\", mycol_mass_db.count_documents({\"Note\": \"BAT_I\"}))"
   ]
  },
  {
   "cell_type": "code",
   "execution_count": 67,
   "metadata": {
    "ExecuteTime": {
     "end_time": "2021-09-18T06:06:54.577627Z",
     "start_time": "2021-09-18T06:06:54.571175Z"
    }
   },
   "outputs": [
    {
     "name": "stdout",
     "output_type": "stream",
     "text": [
      "BAT_I_lit mass count is = 15\n"
     ]
    }
   ],
   "source": [
    "print(\"BAT_I_lit mass count is =\", mycol_mass_db.count_documents({\"Note\": \"BAT_I_lit\"}))"
   ]
  },
  {
   "cell_type": "code",
   "execution_count": 68,
   "metadata": {
    "ExecuteTime": {
     "end_time": "2021-09-18T06:06:55.031373Z",
     "start_time": "2021-09-18T06:06:55.025110Z"
    }
   },
   "outputs": [
    {
     "name": "stdout",
     "output_type": "stream",
     "text": [
      "BAT mass count is = 216\n"
     ]
    }
   ],
   "source": [
    "print(\"BAT mass count is =\", mycol_mass_db.count_documents({\"reference\": \"2017ApJ...850...74K\"}))"
   ]
  },
  {
   "cell_type": "code",
   "execution_count": 69,
   "metadata": {
    "ExecuteTime": {
     "end_time": "2021-09-18T06:07:20.285570Z",
     "start_time": "2021-09-18T06:07:20.279779Z"
    }
   },
   "outputs": [
    {
     "name": "stdout",
     "output_type": "stream",
     "text": [
      "CLAGN mass count is = 141\n"
     ]
    }
   ],
   "source": [
    "print(\"CLAGN mass count is =\", mycol_mass_db.count_documents({\"Note\": \"Liuetal2021\"}))"
   ]
  },
  {
   "cell_type": "code",
   "execution_count": 70,
   "metadata": {
    "ExecuteTime": {
     "end_time": "2021-09-18T06:07:27.894730Z",
     "start_time": "2021-09-18T06:07:27.888101Z"
    }
   },
   "outputs": [
    {
     "name": "stdout",
     "output_type": "stream",
     "text": [
      "LLAGN mass count is = 0\n"
     ]
    }
   ],
   "source": [
    "print(\"LLAGN mass count is =\", mycol_mass_db.count_documents({\"Type\": \"LLAGN\"}))"
   ]
  },
  {
   "cell_type": "code",
   "execution_count": 74,
   "metadata": {
    "ExecuteTime": {
     "end_time": "2021-09-18T06:11:57.648870Z",
     "start_time": "2021-09-18T06:11:57.641999Z"
    }
   },
   "outputs": [
    {
     "name": "stdout",
     "output_type": "stream",
     "text": [
      "LLAGN mass count is = 43\n"
     ]
    }
   ],
   "source": [
    "print(\"CLAGN mass >8 count is =\", mycol_mass_db.count_documents({\"Note\": \"Liuetal2021\",\"logM\": {\"$gt\":8}}))"
   ]
  },
  {
   "cell_type": "code",
   "execution_count": 76,
   "metadata": {
    "ExecuteTime": {
     "end_time": "2021-09-18T06:12:22.985535Z",
     "start_time": "2021-09-18T06:12:22.971844Z"
    }
   },
   "outputs": [
    {
     "name": "stdout",
     "output_type": "stream",
     "text": [
      "CLAGN mass <8 count is = 62\n"
     ]
    }
   ],
   "source": [
    "print(\"CLAGN mass <8 count is =\", mycol_mass_db.count_documents({\"Note\": \"Liuetal2021\",\"logM\": {\"$lt\":8}}))"
   ]
  },
  {
   "cell_type": "code",
   "execution_count": 79,
   "metadata": {
    "ExecuteTime": {
     "end_time": "2021-09-18T06:13:06.842115Z",
     "start_time": "2021-09-18T06:13:06.836627Z"
    }
   },
   "outputs": [
    {
     "name": "stdout",
     "output_type": "stream",
     "text": [
      "CLAGN no mass count is = 25\n"
     ]
    }
   ],
   "source": [
    "print(\"CLAGN no mass count is =\", mycol_mass_db.count_documents({\"Note\": \"Liuetal2021\",\"logM\": \" - \"}))\n",
    "                                                                  \n",
    "                                                                  "
   ]
  },
  {
   "cell_type": "code",
   "execution_count": null,
   "metadata": {},
   "outputs": [],
   "source": []
  },
  {
   "cell_type": "code",
   "execution_count": 80,
   "metadata": {
    "ExecuteTime": {
     "end_time": "2021-09-18T06:13:12.529552Z",
     "start_time": "2021-09-18T06:13:12.523650Z"
    }
   },
   "outputs": [
    {
     "name": "stdout",
     "output_type": "stream",
     "text": [
      "BAT_corona_parameter mass count is = 33\n"
     ]
    }
   ],
   "source": [
    "print(\"BAT_corona_parameter mass count is =\", mycol_mass_db.count_documents({\"reference\": \"2021MNRAS.506.4960H\"}))"
   ]
  },
  {
   "cell_type": "markdown",
   "metadata": {
    "ExecuteTime": {
     "end_time": "2021-09-18T06:13:59.952802Z",
     "start_time": "2021-09-18T06:13:59.945294Z"
    }
   },
   "source": [
    "mycol_mass_db.find({\"logM\": {\"$gt\": 9}}).count()"
   ]
  },
  {
   "cell_type": "markdown",
   "metadata": {
    "ExecuteTime": {
     "end_time": "2021-09-17T08:52:42.219074Z",
     "start_time": "2021-09-17T08:52:42.212253Z"
    }
   },
   "source": [
    "mycol_mass_db.find({\"logM\": {\"$lt\": 9}}).count()"
   ]
  },
  {
   "cell_type": "markdown",
   "metadata": {
    "ExecuteTime": {
     "end_time": "2021-09-17T08:53:03.883283Z",
     "start_time": "2021-09-17T08:53:03.875104Z"
    }
   },
   "source": [
    "mycol_mass_db.find({\"logM\": {\"$eq\": 9}}).count()"
   ]
  },
  {
   "cell_type": "code",
   "execution_count": 12,
   "metadata": {
    "ExecuteTime": {
     "end_time": "2021-10-10T05:42:27.514950Z",
     "start_time": "2021-10-10T05:42:27.457469Z"
    }
   },
   "outputs": [],
   "source": [
    "import pprint\n",
    "for x in mycol_mass_db.find({\"logM\": {\"$gt\": 10}}).sort(\"Name\"):\n",
    "    pprint.pprint(x)"
   ]
  },
  {
   "cell_type": "code",
   "execution_count": 13,
   "metadata": {
    "ExecuteTime": {
     "end_time": "2021-10-10T05:42:37.725443Z",
     "start_time": "2021-10-10T05:42:37.127876Z"
    }
   },
   "outputs": [
    {
     "name": "stdout",
     "output_type": "stream",
     "text": [
      "{'Name': '1ES1426+428',\n",
      " 'Note': 'BAT_I',\n",
      " 'Type': 0.0,\n",
      " '_id': ObjectId('61457ff4003f629b7cd39daf'),\n",
      " 'logM': 8.87,\n",
      " 'reference': '2017ApJ...850...74K'}\n",
      "{'Name': '1ES1927+654',\n",
      " 'Note': 'Liuetal2021',\n",
      " '_id': ObjectId('61457b4b003f629b7cd39c87'),\n",
      " 'logM': 7.3,\n",
      " 'z': 0.017}\n",
      "{'Name': '1H0419-577',\n",
      " 'Note': 'Liuetal2021',\n",
      " '_id': ObjectId('61457b4b003f629b7cd39c88'),\n",
      " 'logM': 8.58,\n",
      " 'z': 0.104}\n",
      "{'Name': '2MASSJ01264811-0839481',\n",
      " 'Note': 'Liuetal2021',\n",
      " '_id': ObjectId('61457b4b003f629b7cd39cb7'),\n",
      " 'logM': 8.08,\n",
      " 'z': 0.198}\n",
      "{'Name': '2MASSJ07451198+3809114',\n",
      " 'Note': 'Liuetal2021',\n",
      " '_id': ObjectId('61457b4b003f629b7cd39cbe'),\n",
      " 'logM': 9.1,\n",
      " 'z': 0.236}\n",
      "{'Name': '2MASSJ10022021+4509276',\n",
      " 'Note': 'Liuetal2021',\n",
      " '_id': ObjectId('61457b4b003f629b7cd39cd0'),\n",
      " 'logM': 8.7,\n",
      " 'z': 0.401}\n",
      "{'Name': '2MASSJ11132967+5313393',\n",
      " 'Note': 'Liuetal2021',\n",
      " '_id': ObjectId('61457b4b003f629b7cd39cda'),\n",
      " 'logM': 7.8,\n",
      " 'z': 0.239}\n",
      "{'Name': '2MASSJ12335916+0842112',\n",
      " 'Note': 'Liuetal2021',\n",
      " '_id': ObjectId('61457b4b003f629b7cd39ce6'),\n",
      " 'logM': 8.7,\n",
      " 'z': 0.256}\n",
      "{'Name': '2MASSJ14284671+1723530',\n",
      " 'Note': 'Liuetal2021',\n",
      " '_id': ObjectId('61457b4b003f629b7cd39cf1'),\n",
      " 'logM': 7.6,\n",
      " 'z': 0.104}\n",
      "{'Name': '2MASSJ15361278+0342457',\n",
      " 'Note': 'Liuetal2021',\n",
      " '_id': ObjectId('61457b4b003f629b7cd39cf7'),\n",
      " 'logM': 8.2,\n",
      " 'z': 0.365}\n",
      "{'Name': '2MASSJ15373408+4613585',\n",
      " 'Note': 'Liuetal2021',\n",
      " '_id': ObjectId('61457b4b003f629b7cd39cf8'),\n",
      " 'logM': 8,\n",
      " 'z': 0.378}\n",
      "{'Name': '2MASSJ16011122+4745095',\n",
      " 'Note': 'Liuetal2021',\n",
      " '_id': ObjectId('61457b4b003f629b7cd39cff'),\n",
      " 'logM': 7.9,\n",
      " 'z': 0.297}\n",
      "{'Name': '2MASSJ16171142+0638333',\n",
      " 'Note': 'Liuetal2021',\n",
      " '_id': ObjectId('61457b4b003f629b7cd39d01'),\n",
      " 'logM': 8,\n",
      " 'z': 0.229}\n",
      "{'Name': '2MASSJ21020044+0005020',\n",
      " 'Note': 'Liuetal2021',\n",
      " '_id': ObjectId('61457b4b003f629b7cd39d0a'),\n",
      " 'logM': 8,\n",
      " 'z': 0.329}\n",
      "{'Name': '2MASSJ22053771-0711147',\n",
      " 'Note': 'Liuetal2021',\n",
      " '_id': ObjectId('61457b4b003f629b7cd39d0c'),\n",
      " 'logM': 8,\n",
      " 'z': 0.295}\n",
      "{'Name': '2MASXJ00004876-0709117',\n",
      " 'Note': 'BAT_I',\n",
      " 'Type': 1.9,\n",
      " '_id': ObjectId('61457ff4003f629b7cd39d14'),\n",
      " 'logM': 7.97,\n",
      " 'reference': '2017ApJ...850...74K'}\n",
      "{'Name': '2MASXJ00032742+2739173',\n",
      " 'Note': 'BAT_I',\n",
      " 'Type': 2.0,\n",
      " '_id': ObjectId('61457ff4003f629b7cd39d15'),\n",
      " 'logM': 7.85,\n",
      " 'reference': '2017ApJ...850...74K'}\n",
      "{'Name': '2MASXJ00091156-0036551',\n",
      " 'Note': 'BAT_I',\n",
      " 'Type': 2.0,\n",
      " '_id': ObjectId('61457ff4003f629b7cd39d16'),\n",
      " 'logM': 8.91,\n",
      " 'reference': '2017ApJ...850...74K'}\n",
      "{'Name': '2MASXJ00210753-1910056',\n",
      " 'Note': 'BAT_I',\n",
      " 'Type': 1.9,\n",
      " '_id': ObjectId('61457ff4003f629b7cd39d17'),\n",
      " 'logM': 9.16,\n",
      " 'reference': '2017ApJ...850...74K'}\n",
      "{'Name': '2MASXJ01073963-1139117',\n",
      " 'Note': 'BAT_I',\n",
      " 'Type': 2.0,\n",
      " '_id': ObjectId('61457ff4003f629b7cd39d1d'),\n",
      " 'logM': 8.08,\n",
      " 'reference': '2017ApJ...850...74K'}\n",
      "{'Name': '2MASXJ01392400+2924067',\n",
      " 'Note': 'BAT_I',\n",
      " 'Type': 1.9,\n",
      " '_id': ObjectId('61457ff4003f629b7cd39d28'),\n",
      " 'logM': 8.08,\n",
      " 'reference': '2017ApJ...850...74K'}\n",
      "{'Name': '2MASXJ02420381+0510061',\n",
      " 'Note': 'BAT_I',\n",
      " 'Type': 2.0,\n",
      " '_id': ObjectId('61457ff4003f629b7cd39d2f'),\n",
      " 'logM': 9.23,\n",
      " 'reference': '2017ApJ...850...74K'}\n",
      "{'Name': '2MASXJ02485937+2630391',\n",
      " 'Note': 'BAT_I',\n",
      " 'Type': 2.0,\n",
      " '_id': ObjectId('61457ff4003f629b7cd39d30'),\n",
      " 'logM': 9.15,\n",
      " 'reference': '2017ApJ...850...74K'}\n",
      "{'Name': '2MASXJ03252346-5635443',\n",
      " 'Note': 'BAT_I',\n",
      " 'Type': 0.0,\n",
      " '_id': ObjectId('61457ff4003f629b7cd39d37'),\n",
      " 'logM': 9.1,\n",
      " 'reference': '2017ApJ...850...74K'}\n",
      "{'Name': '2MASXJ03534246+3714077',\n",
      " 'Note': 'BAT_I',\n",
      " 'Type': 2.0,\n",
      " '_id': ObjectId('61457ff4003f629b7cd39d39'),\n",
      " 'logM': 8.54,\n",
      " 'reference': '2017ApJ...850...74K'}\n",
      "{'Name': '2MASXJ04332716-5843346',\n",
      " 'Note': 'BAT_I',\n",
      " 'Type': 2.0,\n",
      " '_id': ObjectId('61457ff4003f629b7cd39d3c'),\n",
      " 'logM': 8.5,\n",
      " 'reference': '2017ApJ...850...74K'}\n",
      "{'Name': '2MASXJ04440903+2813003',\n",
      " 'Note': 'BAT_I',\n",
      " 'Type': 2.0,\n",
      " '_id': ObjectId('61457ff4003f629b7cd39d3d'),\n",
      " 'logM': 8.17,\n",
      " 'reference': '2017ApJ...850...74K'}\n",
      "{'Name': '2MASXJ05151978+1854515',\n",
      " 'Note': 'BAT_I',\n",
      " 'Type': 2.0,\n",
      " '_id': ObjectId('61457ff4003f629b7cd39d42'),\n",
      " 'logM': 9.09,\n",
      " 'reference': '2017ApJ...850...74K'}\n",
      "{'Name': '2MASXJ06411806+3249313',\n",
      " 'Note': 'BAT_I',\n",
      " 'Type': 2.0,\n",
      " '_id': ObjectId('61457ff4003f629b7cd39d47'),\n",
      " 'logM': 8.12,\n",
      " 'reference': '2017ApJ...850...74K'}\n",
      "{'Name': '2MASXJ06561197-4919499',\n",
      " 'Note': 'BAT_I',\n",
      " 'Type': 2.0,\n",
      " '_id': ObjectId('61457ff4003f629b7cd39d49'),\n",
      " 'logM': 8.61,\n",
      " 'reference': '2017ApJ...850...74K'}\n",
      "{'Name': '2MASXJ07084326-4642494',\n",
      " 'Note': 'BAT_I',\n",
      " 'Type': 2.0,\n",
      " '_id': ObjectId('61457ff4003f629b7cd39d4a'),\n",
      " 'logM': 8.25,\n",
      " 'reference': '2017ApJ...850...74K'}\n",
      "{'Name': '2MASXJ07595347+2323241',\n",
      " 'Note': 'BAT_I',\n",
      " 'Type': 1.9,\n",
      " '_id': ObjectId('61457ff4003f629b7cd39d4f'),\n",
      " 'logM': 8.4,\n",
      " 'reference': '2017ApJ...850...74K'}\n",
      "{'Name': '2MASXJ08045299-0108476',\n",
      " 'Note': 'BAT_I',\n",
      " 'Type': 2.0,\n",
      " '_id': ObjectId('61457ff4003f629b7cd39d52'),\n",
      " 'logM': 8.45,\n",
      " 'reference': '2017ApJ...850...74K'}\n",
      "{'Name': '2MASXJ08434495+3549421',\n",
      " 'Note': 'BAT_I',\n",
      " 'Type': 2.0,\n",
      " '_id': ObjectId('61457ff4003f629b7cd39d56'),\n",
      " 'logM': 8.45,\n",
      " 'reference': '2017ApJ...850...74K'}\n",
      "{'Name': '2MASXJ09112999+4528060',\n",
      " 'Note': 'BAT_I',\n",
      " 'Type': 2.0,\n",
      " '_id': ObjectId('61457ff4003f629b7cd39d5a'),\n",
      " 'logM': 7.61,\n",
      " 'reference': '2017ApJ...850...74K'}\n",
      "{'Name': '2MASXJ09381221+0743398',\n",
      " 'Note': 'Liuetal2021',\n",
      " '_id': ObjectId('61457b4b003f629b7cd39ccd'),\n",
      " 'logM': 7.5,\n",
      " 'z': 0.022}\n",
      "{'Name': '2MASXJ09483841+4030436',\n",
      " 'Note': 'Liuetal2021',\n",
      " '_id': ObjectId('61457b4b003f629b7cd39ccf'),\n",
      " 'logM': 7.5,\n",
      " 'z': 0.047}\n",
      "{'Name': '2MASXJ10215228+4645158',\n",
      " 'Note': 'Liuetal2021',\n",
      " '_id': ObjectId('61457b4b003f629b7cd39cd3'),\n",
      " 'logM': 8.32,\n",
      " 'z': 0.204}\n",
      "{'Name': '2MASXJ10402231-4625264',\n",
      " 'Note': 'BAT_I',\n",
      " 'Type': 2.0,\n",
      " '_id': ObjectId('61457ff4003f629b7cd39d68'),\n",
      " 'logM': 8.52,\n",
      " 'reference': '2017ApJ...850...74K'}\n",
      "{'Name': '2MASXJ10520355+1519294',\n",
      " 'Note': 'Liuetal2021',\n",
      " '_id': ObjectId('61457b4b003f629b7cd39cd5'),\n",
      " 'logM': 7.9,\n",
      " 'z': 0.303}\n",
      "{'Name': '2MASXJ10523297+1036205',\n",
      " 'Note': 'BAT_I',\n",
      " 'Type': 1.9,\n",
      " '_id': ObjectId('61457ff4003f629b7cd39d6d'),\n",
      " 'logM': 9.04,\n",
      " 'reference': '2017ApJ...850...74K'}\n",
      "{'Name': '2MASXJ10594361+6504063',\n",
      " 'Note': 'BAT_I',\n",
      " 'Type': 2.0,\n",
      " '_id': ObjectId('61457ff4003f629b7cd39d6e'),\n",
      " 'logM': 8.45,\n",
      " 'reference': '2017ApJ...850...74K'}\n",
      "{'Name': '2MASXJ11363009+6737042',\n",
      " 'Note': 'BAT_I',\n",
      " 'Type': 0.0,\n",
      " '_id': ObjectId('61457ff4003f629b7cd39d77'),\n",
      " 'logM': 8.95,\n",
      " 'reference': '2017ApJ...850...74K'}\n",
      "{'Name': '2MASXJ11383367+2523532',\n",
      " 'Note': 'BAT_I',\n",
      " 'Type': 2.0,\n",
      " '_id': ObjectId('61457ff4003f629b7cd39d78'),\n",
      " 'logM': 7.82,\n",
      " 'reference': '2017ApJ...850...74K'}\n",
      "{'Name': '2MASXJ12005792+0648226',\n",
      " 'Note': 'BAT_I',\n",
      " 'Type': 2.0,\n",
      " '_id': ObjectId('61457ff4003f629b7cd39d7f'),\n",
      " 'logM': 8.31,\n",
      " 'reference': '2017ApJ...850...74K'}\n",
      "{'Name': '2MASXJ12055599+4959561',\n",
      " 'Note': 'BAT_I',\n",
      " 'Type': 1.5,\n",
      " '_id': ObjectId('61457ff4003f629b7cd39d83'),\n",
      " 'logM': 8.88,\n",
      " 'reference': '2017ApJ...850...74K'}\n",
      "{'Name': '2MASXJ12111425-3933268',\n",
      " 'Note': 'BAT_I',\n",
      " 'Type': 2.0,\n",
      " '_id': ObjectId('61457ff4003f629b7cd39d88'),\n",
      " 'logM': 8.57,\n",
      " 'reference': '2017ApJ...850...74K'}\n",
      "{'Name': '2MASXJ12384342+0927362',\n",
      " 'Note': 'BAT_I',\n",
      " 'Type': 2.0,\n",
      " '_id': ObjectId('61457ff4003f629b7cd39d8f'),\n",
      " 'logM': 8.89,\n",
      " 'reference': '2017ApJ...850...74K'}\n",
      "{'Name': '2MASXJ13000533+1632151',\n",
      " 'Note': 'BAT_I',\n",
      " 'Type': 2.0,\n",
      " '_id': ObjectId('61457ff4003f629b7cd39d97'),\n",
      " 'logM': 9.19,\n",
      " 'reference': '2017ApJ...850...74K'}\n",
      "{'Name': '2MASXJ13105723+0837387',\n",
      " 'Note': 'BAT_I',\n",
      " 'Type': 2.0,\n",
      " '_id': ObjectId('61457ff4003f629b7cd39d9b'),\n",
      " 'logM': 9.02,\n",
      " 'reference': '2017ApJ...850...74K'}\n",
      "{'Name': '2MASXJ13471874+0210579',\n",
      " 'Note': 'BAT_I',\n",
      " 'Type': 0.0,\n",
      " '_id': ObjectId('61457ff4003f629b7cd39da8'),\n",
      " 'logM': 8.82,\n",
      " 'reference': '2017ApJ...850...74K'}\n",
      "{'Name': '2MASXJ13532820-1123055',\n",
      " 'Note': 'BAT_I',\n",
      " 'Type': 2.0,\n",
      " '_id': ObjectId('61457ff4003f629b7cd39da9'),\n",
      " 'logM': 8.13,\n",
      " 'reference': '2017ApJ...850...74K'}\n",
      "{'Name': '2MASXJ14104482-4228325',\n",
      " 'Note': 'BAT_I',\n",
      " 'Type': 2.0,\n",
      " '_id': ObjectId('61457ff4003f629b7cd39daa'),\n",
      " 'logM': 8.27,\n",
      " 'reference': '2017ApJ...850...74K'}\n",
      "{'Name': '2MASXJ14174289+6141523',\n",
      " 'Note': 'BAT_I',\n",
      " 'Type': 1.9,\n",
      " '_id': ObjectId('61457ff4003f629b7cd39dac'),\n",
      " 'logM': 9.31,\n",
      " 'reference': '2017ApJ...850...74K'}\n",
      "{'Name': '2MASXJ14391186+1415215',\n",
      " 'Note': 'BAT_I',\n",
      " 'Type': 2.0,\n",
      " '_id': ObjectId('61457ff4003f629b7cd39db1'),\n",
      " 'logM': 8.39,\n",
      " 'reference': '2017ApJ...850...74K'}\n",
      "{'Name': '2MASXJ15064412+0351444',\n",
      " 'Note': 'BAT_I',\n",
      " 'Type': 2.0,\n",
      " '_id': ObjectId('61457ff4003f629b7cd39db4'),\n",
      " 'logM': 7.49,\n",
      " 'reference': '2017ApJ...850...74K'}\n",
      "{'Name': '2MASXJ15462424+6929102',\n",
      " 'Note': 'BAT_I',\n",
      " 'Type': 2.0,\n",
      " '_id': ObjectId('61457ff4003f629b7cd39db7'),\n",
      " 'logM': 9.18,\n",
      " 'reference': '2017ApJ...850...74K'}\n",
      "{'Name': '2MASXJ16303265+3923031',\n",
      " 'Note': 'BAT_I',\n",
      " 'Type': 2.0,\n",
      " '_id': ObjectId('61457ff4003f629b7cd39dbc'),\n",
      " 'logM': 7.96,\n",
      " 'reference': '2017ApJ...850...74K'}\n",
      "{'Name': '2MASXJ16311554+2352577',\n",
      " 'Note': 'BAT_I',\n",
      " 'Type': 2.0,\n",
      " '_id': ObjectId('61457ff4003f629b7cd39dbd'),\n",
      " 'logM': 8.74,\n",
      " 'reference': '2017ApJ...850...74K'}\n",
      "{'Name': '2MASXJ16531506+2349431',\n",
      " 'Note': 'BAT_I',\n",
      " 'Type': 2.0,\n",
      " '_id': ObjectId('61457ff4003f629b7cd39dc0'),\n",
      " 'logM': 8.23,\n",
      " 'reference': '2017ApJ...850...74K'}\n",
      "{'Name': '2MASXJ18241083+1846088',\n",
      " 'Note': 'BAT_I',\n",
      " 'Type': 1.9,\n",
      " '_id': ObjectId('61457ff4003f629b7cd39dc3'),\n",
      " 'logM': 7.98,\n",
      " 'reference': '2017ApJ...850...74K'}\n",
      "{'Name': '2MASXJ18263239+3251300',\n",
      " 'Note': 'BAT_I',\n",
      " 'Type': 2.0,\n",
      " '_id': ObjectId('61457ff4003f629b7cd39dc4'),\n",
      " 'logM': 7.72,\n",
      " 'reference': '2017ApJ...850...74K'}\n",
      "{'Name': '2MASXJ18305065+0928414',\n",
      " 'Note': 'BAT_I',\n",
      " 'Type': 2.0,\n",
      " '_id': ObjectId('61457ff4003f629b7cd39dc5'),\n",
      " 'logM': 8.39,\n",
      " 'reference': '2017ApJ...850...74K'}\n",
      "{'Name': '2MASXJ19471938+4449425',\n",
      " 'Note': 'BAT_I',\n",
      " 'Type': 2.0,\n",
      " '_id': ObjectId('61457ff4003f629b7cd39dc9'),\n",
      " 'logM': 9.01,\n",
      " 'reference': '2017ApJ...850...74K'}\n",
      "{'Name': '2MASXJ20005575-1810274',\n",
      " 'Note': 'BAT_I',\n",
      " 'Type': 1.9,\n",
      " '_id': ObjectId('61457ff4003f629b7cd39dcb'),\n",
      " 'logM': 8.07,\n",
      " 'reference': '2017ApJ...850...74K'}\n",
      "{'Name': '2MASXJ20101740+4800214',\n",
      " 'Note': 'BAT_I',\n",
      " 'Type': 2.0,\n",
      " '_id': ObjectId('61457ff4003f629b7cd39dcc'),\n",
      " 'logM': 9.48,\n",
      " 'reference': '2017ApJ...850...74K'}\n",
      "{'Name': '2MASXJ22140917-2557487',\n",
      " 'Note': 'BAT_I',\n",
      " 'Type': 2.0,\n",
      " '_id': ObjectId('61457ff4003f629b7cd39dd1'),\n",
      " 'logM': 8.17,\n",
      " 'reference': '2017ApJ...850...74K'}\n",
      "{'Name': '2MASXJ22194971+2613277',\n",
      " 'Note': 'BAT_I',\n",
      " 'Type': 1.5,\n",
      " '_id': ObjectId('61457ff4003f629b7cd39dd2'),\n",
      " 'logM': 8.28,\n",
      " 'reference': '2017ApJ...850...74K'}\n",
      "{'Name': '2MASXJ23222444-0645375',\n",
      " 'Note': 'BAT_I',\n",
      " 'Type': 2.0,\n",
      " '_id': ObjectId('61457ff4003f629b7cd39dda'),\n",
      " 'logM': 8.27,\n",
      " 'reference': '2017ApJ...850...74K'}\n",
      "{'Name': '2MASXJ23272195+1524375',\n",
      " 'Note': 'BAT_I',\n",
      " 'Type': 0.0,\n",
      " '_id': ObjectId('61457ff4003f629b7cd39ddb'),\n",
      " 'logM': 9.02,\n",
      " 'reference': '2017ApJ...850...74K'}\n",
      "{'Name': '3C062',\n",
      " 'Note': 'BAT_I',\n",
      " 'Type': 2.0,\n",
      " '_id': ObjectId('61457ff4003f629b7cd39d2c'),\n",
      " 'logM': 8.43,\n",
      " 'reference': '2017ApJ...850...74K'}\n",
      "{'Name': '3C109',\n",
      " 'Note': 'BAT_corona',\n",
      " 'Redshift': '0.305 60',\n",
      " 'Type': 'S1.8',\n",
      " '_id': ObjectId('61458143003f629b7cd39df3'),\n",
      " 'logM': 8.3,\n",
      " 'reference': '2021MNRAS.506.4960H'}\n",
      "{'Name': '3C120',\n",
      " 'Note': 'BAT_corona',\n",
      " 'Redshift': '0.033 01',\n",
      " 'Type': 'S1',\n",
      " '_id': ObjectId('61458143003f629b7cd39df4'),\n",
      " 'logM': 7.75,\n",
      " 'reference': '2021MNRAS.506.4960H'}\n",
      "{'Name': '3C273',\n",
      " 'Note': 'BAT_corona',\n",
      " 'Redshift': '0.158 34',\n",
      " 'Type': 'S1',\n",
      " '_id': ObjectId('61458143003f629b7cd39dfd'),\n",
      " 'logM': 8.84,\n",
      " 'reference': '2021MNRAS.506.4960H'}\n",
      "{'Name': '3C382',\n",
      " 'Note': 'BAT_corona',\n",
      " 'Redshift': '0.057 87',\n",
      " 'Type': 'S1',\n",
      " '_id': ObjectId('61458143003f629b7cd39e04'),\n",
      " 'logM': 8.01,\n",
      " 'reference': '2021MNRAS.506.4960H'}\n",
      "{'Name': '3C403',\n",
      " 'Note': 'BAT_I',\n",
      " 'Type': 2.0,\n",
      " '_id': ObjectId('61457ff4003f629b7cd39dca'),\n",
      " 'logM': 9.15,\n",
      " 'reference': '2017ApJ...850...74K'}\n",
      "{'Name': '3C433',\n",
      " 'Note': 'BAT_I',\n",
      " 'Type': 1.9,\n",
      " '_id': ObjectId('61457ff4003f629b7cd39dce'),\n",
      " 'logM': 9.12,\n",
      " 'reference': '2017ApJ...850...74K'}\n",
      "{'Name': '3C452',\n",
      " 'Note': 'BAT_I',\n",
      " 'Type': 1.9,\n",
      " '_id': ObjectId('61457ff4003f629b7cd39dd7'),\n",
      " 'logM': 8.99,\n",
      " 'reference': '2017ApJ...850...74K'}\n",
      "{'Name': '4C+23.42',\n",
      " 'Note': 'BAT_I',\n",
      " 'Type': 1.9,\n",
      " '_id': ObjectId('61457ff4003f629b7cd39db9'),\n",
      " 'logM': 9.43,\n",
      " 'reference': '2017ApJ...850...74K'}\n",
      "{'Name': '4C+29.30',\n",
      " 'Note': 'BAT_I',\n",
      " 'Type': 2.0,\n",
      " '_id': ObjectId('61457ff4003f629b7cd39d55'),\n",
      " 'logM': 8.77,\n",
      " 'reference': '2017ApJ...850...74K'}\n",
      "{'Name': 'ARK347',\n",
      " 'Note': 'BAT_I',\n",
      " 'Type': 2.0,\n",
      " '_id': ObjectId('61457ff4003f629b7cd39d81'),\n",
      " 'logM': 8.18,\n",
      " 'reference': '2017ApJ...850...74K'}\n",
      "{'Name': 'ARP102B',\n",
      " 'Note': 'BAT_I',\n",
      " 'Type': 2.0,\n",
      " '_id': ObjectId('61457ff4003f629b7cd39dc1'),\n",
      " 'logM': 8.92,\n",
      " 'reference': '2017ApJ...850...74K'}\n",
      "{'Name': 'ARP151',\n",
      " 'Note': 'BAT_I',\n",
      " 'Type': 1.2,\n",
      " '_id': ObjectId('61457ff4003f629b7cd39d73'),\n",
      " 'logM': 8.02,\n",
      " 'reference': '2017ApJ...850...74K'}\n",
      "{'Name': 'Ark120',\n",
      " 'Note': 'BAT_corona',\n",
      " 'Redshift': '0.032 71',\n",
      " 'Type': 'S1',\n",
      " '_id': ObjectId('61458143003f629b7cd39df5'),\n",
      " 'logM': 8.07,\n",
      " 'reference': '2021MNRAS.506.4960H'}\n",
      "{'Name': 'B21204+34',\n",
      " 'Note': 'BAT_I',\n",
      " 'Type': 2.0,\n",
      " '_id': ObjectId('61457ff4003f629b7cd39d85'),\n",
      " 'logM': 8.55,\n",
      " 'reference': '2017ApJ...850...74K'}\n",
      "{'Name': 'B30749+460A',\n",
      " 'Note': 'BAT_I',\n",
      " 'Type': 1.9,\n",
      " '_id': ObjectId('61457ff4003f629b7cd39d4e'),\n",
      " 'logM': 8.69,\n",
      " 'reference': '2017ApJ...850...74K'}\n",
      "{'Name': 'CGCG102-048',\n",
      " 'Note': 'BAT_I',\n",
      " 'Type': 2.0,\n",
      " '_id': ObjectId('61457ff4003f629b7cd39da6'),\n",
      " 'logM': 8.26,\n",
      " 'reference': '2017ApJ...850...74K'}\n",
      "{'Name': 'CGCG164-019',\n",
      " 'Note': 'BAT_I',\n",
      " 'Type': 1.9,\n",
      " '_id': ObjectId('61457ff4003f629b7cd39db3'),\n",
      " 'logM': 7.11,\n",
      " 'reference': '2017ApJ...850...74K'}\n",
      "{'Name': 'CGCG187-022',\n",
      " 'Note': 'BAT_I',\n",
      " 'Type': 2.0,\n",
      " '_id': ObjectId('61457ff4003f629b7cd39d89'),\n",
      " 'logM': 7.75,\n",
      " 'reference': '2017ApJ...850...74K'}\n",
      "{'Name': 'CGCG291-028',\n",
      " 'Note': 'BAT_I',\n",
      " 'Type': 2.0,\n",
      " '_id': ObjectId('61457ff4003f629b7cd39d6f'),\n",
      " 'logM': 8.36,\n",
      " 'reference': '2017ApJ...850...74K'}\n",
      "{'Name': 'CGCG312-012',\n",
      " 'Note': 'BAT_I',\n",
      " 'Type': 2.0,\n",
      " '_id': ObjectId('61457ff4003f629b7cd39d5f'),\n",
      " 'logM': 8.17,\n",
      " 'reference': '2017ApJ...850...74K'}\n",
      "{'Name': 'CGCG367-009',\n",
      " 'Note': 'BAT_I',\n",
      " 'Type': 2.0,\n",
      " '_id': ObjectId('61457ff4003f629b7cd39dbb'),\n",
      " 'logM': 9.82,\n",
      " 'reference': '2017ApJ...850...74K'}\n",
      "{'Name': 'CGCG420-015',\n",
      " 'Note': 'BAT_I',\n",
      " 'Type': 2.0,\n",
      " '_id': ObjectId('61457ff4003f629b7cd39d3f'),\n",
      " 'logM': 8.31,\n",
      " 'reference': '2017ApJ...850...74K'}\n",
      "{'Name': 'CGCG468-002NED01',\n",
      " 'Note': 'BAT_I',\n",
      " 'Type': 1.9,\n",
      " '_id': ObjectId('61457ff4003f629b7cd39d40'),\n",
      " 'logM': 8.59,\n",
      " 'reference': '2017ApJ...850...74K'}\n",
      "{'Name': 'CenA',\n",
      " 'Note': 'BAT_I_lit',\n",
      " 'Type': 2.0,\n",
      " '_id': ObjectId('6145801f003f629b7cd39de7'),\n",
      " 'logM': 7.77,\n",
      " 'reference': '2017ApJ...850...74K'}\n",
      "{'Name': 'CygnusA',\n",
      " 'Note': 'BAT_I_lit',\n",
      " 'Type': 2.0,\n",
      " '_id': ObjectId('6145801f003f629b7cd39dea'),\n",
      " 'logM': 9.43,\n",
      " 'reference': '2017ApJ...850...74K'}\n",
      "{'Name': 'ESO025-G002',\n",
      " 'Note': 'BAT_I',\n",
      " 'Type': 1.0,\n",
      " '_id': ObjectId('61457ff4003f629b7cd39dc7'),\n",
      " 'logM': 8.15,\n",
      " 'reference': '2017ApJ...850...74K'}\n",
      "{'Name': 'ESO195-IG021NED03',\n",
      " 'Note': 'BAT_I',\n",
      " 'Type': 2.0,\n",
      " '_id': ObjectId('61457ff4003f629b7cd39d1a'),\n",
      " 'logM': 8.42,\n",
      " 'reference': '2017ApJ...850...74K'}\n",
      "{'Name': 'ESO231-G026',\n",
      " 'Note': 'BAT_I',\n",
      " 'Type': 2.0,\n",
      " '_id': ObjectId('61457ff4003f629b7cd39dc8'),\n",
      " 'logM': 8.81,\n",
      " 'reference': '2017ApJ...850...74K'}\n",
      "{'Name': 'ESO234-IG063',\n",
      " 'Note': 'BAT_I',\n",
      " 'Type': 2.0,\n",
      " '_id': ObjectId('61457ff4003f629b7cd39dcd'),\n",
      " 'logM': 8.11,\n",
      " 'reference': '2017ApJ...850...74K'}\n",
      "{'Name': 'ESO243-G026',\n",
      " 'Note': 'BAT_I',\n",
      " 'Type': 2.0,\n",
      " '_id': ObjectId('61457ff4003f629b7cd39d1c'),\n",
      " 'logM': 7.5,\n",
      " 'reference': '2017ApJ...850...74K'}\n",
      "{'Name': 'ESO244-IG030',\n",
      " 'Note': 'BAT_I',\n",
      " 'Type': 2.0,\n",
      " '_id': ObjectId('61457ff4003f629b7cd39d24'),\n",
      " 'logM': 7.39,\n",
      " 'reference': '2017ApJ...850...74K'}\n",
      "{'Name': 'ESO297-018',\n",
      " 'Note': 'BAT_I',\n",
      " 'Type': 2.0,\n",
      " '_id': ObjectId('61457ff4003f629b7cd39d27'),\n",
      " 'logM': 8.45,\n",
      " 'reference': '2017ApJ...850...74K'}\n",
      "{'Name': 'ESO317-G038',\n",
      " 'Note': 'BAT_I',\n",
      " 'Type': 2.0,\n",
      " '_id': ObjectId('61457ff4003f629b7cd39d66'),\n",
      " 'logM': 7.41,\n",
      " 'reference': '2017ApJ...850...74K'}\n",
      "{'Name': 'ESO323-32',\n",
      " 'Note': 'BAT_I',\n",
      " 'Type': 2.0,\n",
      " '_id': ObjectId('61457ff4003f629b7cd39d96'),\n",
      " 'logM': 7.56,\n",
      " 'reference': '2017ApJ...850...74K'}\n",
      "{'Name': 'ESO353-G009',\n",
      " 'Note': 'BAT_I',\n",
      " 'Type': 2.0,\n",
      " '_id': ObjectId('61457ff4003f629b7cd39d25'),\n",
      " 'logM': 7.69,\n",
      " 'reference': '2017ApJ...850...74K'}\n",
      "{'Name': 'ESO354-G004',\n",
      " 'Note': 'BAT_I',\n",
      " 'Type': 1.2,\n",
      " '_id': ObjectId('61457ff4003f629b7cd39d29'),\n",
      " 'logM': 8.46,\n",
      " 'reference': '2017ApJ...850...74K'}\n",
      "{'Name': 'ESO362-G18',\n",
      " 'Note': 'Liuetal2021',\n",
      " '_id': ObjectId('61457b4b003f629b7cd39c8a'),\n",
      " 'logM': 7.65,\n",
      " 'z': 0.012}\n",
      "{'Name': 'ESO362−18',\n",
      " 'Note': 'BAT_corona',\n",
      " 'Redshift': '0.012 44',\n",
      " 'Type': 'S1',\n",
      " '_id': ObjectId('61458143003f629b7cd39df6'),\n",
      " 'logM': 6.25,\n",
      " 'reference': '2021MNRAS.506.4960H'}\n",
      "{'Name': 'ESO436-G034',\n",
      " 'Note': 'BAT_I',\n",
      " 'Type': 2.0,\n",
      " '_id': ObjectId('61457ff4003f629b7cd39d67'),\n",
      " 'logM': 8.07,\n",
      " 'reference': '2017ApJ...850...74K'}\n",
      "{'Name': 'ESO506-G027',\n",
      " 'Note': 'BAT_I',\n",
      " 'Type': 2.0,\n",
      " '_id': ObjectId('61457ff4003f629b7cd39d90'),\n",
      " 'logM': 8.99,\n",
      " 'reference': '2017ApJ...850...74K'}\n",
      "{'Name': 'ESO509-G038',\n",
      " 'Note': 'BAT_I',\n",
      " 'Type': 1.5,\n",
      " '_id': ObjectId('61457ff4003f629b7cd39d9f'),\n",
      " 'logM': 8.56,\n",
      " 'reference': '2017ApJ...850...74K'}\n",
      "{'Name': 'ESO509-IG066NED01',\n",
      " 'Note': 'BAT_I',\n",
      " 'Type': 1.9,\n",
      " '_id': ObjectId('61457ff4003f629b7cd39da0'),\n",
      " 'logM': 8.17,\n",
      " 'reference': '2017ApJ...850...74K'}\n",
      "{'Name': 'ESO533-G050',\n",
      " 'Note': 'BAT_I',\n",
      " 'Type': 2.0,\n",
      " '_id': ObjectId('61457ff4003f629b7cd39dd4'),\n",
      " 'logM': 7.84,\n",
      " 'reference': '2017ApJ...850...74K'}\n",
      "{'Name': 'ESO549-G049',\n",
      " 'Note': 'BAT_I',\n",
      " 'Type': 1.9,\n",
      " '_id': ObjectId('61457ff4003f629b7cd39d3a'),\n",
      " 'logM': 8.07,\n",
      " 'reference': '2017ApJ...850...74K'}\n",
      "{'Name': 'ESO553-G022',\n",
      " 'Note': 'BAT_I',\n",
      " 'Type': 2.0,\n",
      " '_id': ObjectId('61457ff4003f629b7cd39d41'),\n",
      " 'logM': 8.28,\n",
      " 'reference': '2017ApJ...850...74K'}\n",
      "{'Name': 'ESO553-G043',\n",
      " 'Note': 'BAT_I',\n",
      " 'Type': 2.0,\n",
      " '_id': ObjectId('61457ff4003f629b7cd39d43'),\n",
      " 'logM': 8.05,\n",
      " 'reference': '2017ApJ...850...74K'}\n",
      "{'Name': 'Fairall272',\n",
      " 'Note': 'BAT_I',\n",
      " 'Type': 2.0,\n",
      " '_id': ObjectId('61457ff4003f629b7cd39d54'),\n",
      " 'logM': 8.14,\n",
      " 'reference': '2017ApJ...850...74K'}\n",
      "{'Name': 'Fairall49',\n",
      " 'Note': 'BAT_I',\n",
      " 'Type': 1.9,\n",
      " '_id': ObjectId('61457ff4003f629b7cd39dc6'),\n",
      " 'logM': 8.17,\n",
      " 'reference': '2017ApJ...850...74K'}\n",
      "{'Name': 'Fairall9',\n",
      " 'Note': 'Liuetal2021',\n",
      " '_id': ObjectId('61457b4b003f629b7cd39c8b'),\n",
      " 'logM': 8.41,\n",
      " 'z': 0.046}\n",
      "{'Name': 'Fairall9',\n",
      " 'Note': 'BAT_corona',\n",
      " 'Redshift': '0.047 02',\n",
      " 'Type': 'S1.2',\n",
      " '_id': ObjectId('61458143003f629b7cd39dee'),\n",
      " 'logM': 8.3,\n",
      " 'reference': '2021MNRAS.506.4960H'}\n",
      "{'Name': 'HE1136-2304',\n",
      " 'Note': 'Liuetal2021',\n",
      " '_id': ObjectId('61457b4b003f629b7cd39c8c'),\n",
      " 'logM': 7.58,\n",
      " 'z': 0.027}\n",
      "{'Name': 'HE1136-2304',\n",
      " 'Note': 'BAT_I',\n",
      " 'Type': 1.9,\n",
      " '_id': ObjectId('61457ff4003f629b7cd39d7a'),\n",
      " 'logM': 7.62,\n",
      " 'reference': '2017ApJ...850...74K'}\n",
      "{'Name': 'IC0486',\n",
      " 'Note': 'BAT_I',\n",
      " 'Type': 1.9,\n",
      " '_id': ObjectId('61457ff4003f629b7cd39d50'),\n",
      " 'logM': 8.02,\n",
      " 'reference': '2017ApJ...850...74K'}\n",
      "{'Name': 'IC0751',\n",
      " 'Note': 'BAT_I',\n",
      " 'Type': 2.0,\n",
      " '_id': ObjectId('61457ff4003f629b7cd39d7e'),\n",
      " 'logM': 8.6,\n",
      " 'reference': '2017ApJ...850...74K'}\n",
      "{'Name': 'IC1657',\n",
      " 'Note': 'BAT_I',\n",
      " 'Type': 2.0,\n",
      " '_id': ObjectId('61457ff4003f629b7cd39d1e'),\n",
      " 'logM': 7.3,\n",
      " 'reference': '2017ApJ...850...74K'}\n",
      "{'Name': 'IC2461',\n",
      " 'Note': 'BAT_I',\n",
      " 'Type': 2.0,\n",
      " '_id': ObjectId('61457ff4003f629b7cd39d5c'),\n",
      " 'logM': 7.1,\n",
      " 'reference': '2017ApJ...850...74K'}\n",
      "{'Name': 'IC2637',\n",
      " 'Note': 'BAT_I',\n",
      " 'Type': 1.5,\n",
      " '_id': ObjectId('61457ff4003f629b7cd39d70'),\n",
      " 'logM': 8.52,\n",
      " 'reference': '2017ApJ...850...74K'}\n",
      "{'Name': 'IC2921',\n",
      " 'Note': 'BAT_I',\n",
      " 'Type': 1.2,\n",
      " '_id': ObjectId('61457ff4003f629b7cd39d76'),\n",
      " 'logM': 8.63,\n",
      " 'reference': '2017ApJ...850...74K'}\n",
      "{'Name': 'IC751',\n",
      " 'Note': 'Liuetal2021',\n",
      " '_id': ObjectId('61457b4b003f629b7cd39c8d'),\n",
      " 'logM': 8.5,\n",
      " 'z': 0.032}\n",
      "{'Name': 'IGRJ14175-4641',\n",
      " 'Note': 'BAT_I',\n",
      " 'Type': 2.0,\n",
      " '_id': ObjectId('61457ff4003f629b7cd39dab'),\n",
      " 'logM': 8.8,\n",
      " 'reference': '2017ApJ...850...74K'}\n",
      "{'Name': 'IIZw171',\n",
      " 'Note': 'BAT_corona',\n",
      " 'Redshift': '0.070 00',\n",
      " 'Type': 'S1',\n",
      " '_id': ObjectId('61458143003f629b7cd39e06'),\n",
      " 'logM': 7.33,\n",
      " 'reference': '2021MNRAS.506.4960H'}\n",
      "{'Name': 'IRAS09149−6206',\n",
      " 'Note': 'BAT_corona',\n",
      " 'Redshift': '0.057 30',\n",
      " 'Type': 'S1',\n",
      " '_id': ObjectId('61458143003f629b7cd39df8'),\n",
      " 'logM': 8.48,\n",
      " 'reference': '2021MNRAS.506.4960H'}\n",
      "{'Name': 'IRAS23226-3843',\n",
      " 'Note': 'Liuetal2021',\n",
      " '_id': ObjectId('61457b4b003f629b7cd39c8e'),\n",
      " 'logM': 8.23,\n",
      " 'z': 0.036}\n",
      "{'Name': 'KUG1238+278A',\n",
      " 'Note': 'BAT_I',\n",
      " 'Type': 1.9,\n",
      " '_id': ObjectId('61457ff4003f629b7cd39d94'),\n",
      " 'logM': 8.22,\n",
      " 'reference': '2017ApJ...850...74K'}\n",
      "{'Name': 'LEDA170194',\n",
      " 'Note': 'BAT_I',\n",
      " 'Type': 2.0,\n",
      " '_id': ObjectId('61457ff4003f629b7cd39d91'),\n",
      " 'logM': 8.16,\n",
      " 'reference': '2017ApJ...850...74K'}\n",
      "{'Name': 'LEDA214543',\n",
      " 'Note': 'BAT_I',\n",
      " 'Type': 2.0,\n",
      " '_id': ObjectId('61457ff4003f629b7cd39dbf'),\n",
      " 'logM': 9.83,\n",
      " 'reference': '2017ApJ...850...74K'}\n",
      "{'Name': 'LEDA38038',\n",
      " 'Note': 'BAT_I',\n",
      " 'Type': 2.0,\n",
      " '_id': ObjectId('61457ff4003f629b7cd39d80'),\n",
      " 'logM': 7.98,\n",
      " 'reference': '2017ApJ...850...74K'}\n",
      "{'Name': 'M106',\n",
      " 'Note': 'BAT_I',\n",
      " 'Type': 1.9,\n",
      " '_id': ObjectId('61457ff4003f629b7cd39d8c'),\n",
      " 'logM': 7.57,\n",
      " 'reference': '2017ApJ...850...74K'}\n",
      "{'Name': 'M106',\n",
      " 'Note': 'BAT_I_lit',\n",
      " 'Type': 1.9,\n",
      " '_id': ObjectId('6145801f003f629b7cd39de5'),\n",
      " 'logM': 7.56,\n",
      " 'reference': '2017ApJ...850...74K'}\n",
      "{'Name': 'M81',\n",
      " 'Note': 'BAT_I',\n",
      " 'Type': 1.9,\n",
      " '_id': ObjectId('61457ff4003f629b7cd39d63'),\n",
      " 'logM': 8.16,\n",
      " 'reference': '2017ApJ...850...74K'}\n",
      "{'Name': 'M81',\n",
      " 'Note': 'BAT_I_lit',\n",
      " 'Type': 1.9,\n",
      " '_id': ObjectId('6145801f003f629b7cd39ddf'),\n",
      " 'logM': 7.9,\n",
      " 'reference': '2017ApJ...850...74K'}\n",
      "{'Name': 'MCG+00-09-042',\n",
      " 'Note': 'BAT_I',\n",
      " 'Type': 2.0,\n",
      " '_id': ObjectId('61457ff4003f629b7cd39d36'),\n",
      " 'logM': 7.82,\n",
      " 'reference': '2017ApJ...850...74K'}\n",
      "{'Name': 'MCG+02-21-013',\n",
      " 'Note': 'BAT_I',\n",
      " 'Type': 2.0,\n",
      " '_id': ObjectId('61457ff4003f629b7cd39d51'),\n",
      " 'logM': 8.21,\n",
      " 'reference': '2017ApJ...850...74K'}\n",
      "{'Name': 'MCG+02-57-002',\n",
      " 'Note': 'BAT_I',\n",
      " 'Type': 1.9,\n",
      " '_id': ObjectId('61457ff4003f629b7cd39dd3'),\n",
      " 'logM': 9.43,\n",
      " 'reference': '2017ApJ...850...74K'}\n"
     ]
    },
    {
     "name": "stdout",
     "output_type": "stream",
     "text": [
      "{'Name': 'MCG+06-16-028',\n",
      " 'Note': 'BAT_I',\n",
      " 'Type': 1.9,\n",
      " '_id': ObjectId('61457ff4003f629b7cd39d4b'),\n",
      " 'logM': 7.34,\n",
      " 'reference': '2017ApJ...850...74K'}\n",
      "{'Name': 'MCG+06-24-008',\n",
      " 'Note': 'BAT_I',\n",
      " 'Type': 2.0,\n",
      " '_id': ObjectId('61457ff4003f629b7cd39d69'),\n",
      " 'logM': 7.17,\n",
      " 'reference': '2017ApJ...850...74K'}\n",
      "{'Name': 'MCG+08-03-018',\n",
      " 'Note': 'BAT_I',\n",
      " 'Type': 2.0,\n",
      " '_id': ObjectId('61457ff4003f629b7cd39d20'),\n",
      " 'logM': 8.41,\n",
      " 'reference': '2017ApJ...850...74K'}\n",
      "{'Name': 'MCG+09-19-015NED02',\n",
      " 'Note': 'BAT_I',\n",
      " 'Type': 2.0,\n",
      " '_id': ObjectId('61457ff4003f629b7cd39d72'),\n",
      " 'logM': 8.58,\n",
      " 'reference': '2017ApJ...850...74K'}\n",
      "{'Name': 'MCG+10-14-025',\n",
      " 'Note': 'BAT_I',\n",
      " 'Type': 1.9,\n",
      " '_id': ObjectId('61457ff4003f629b7cd39d60'),\n",
      " 'logM': 8.35,\n",
      " 'reference': '2017ApJ...850...74K'}\n",
      "{'Name': 'MCG+10-17-061',\n",
      " 'Note': 'BAT_I',\n",
      " 'Type': 2.0,\n",
      " '_id': ObjectId('61457ff4003f629b7cd39d7b'),\n",
      " 'logM': 8.61,\n",
      " 'reference': '2017ApJ...850...74K'}\n",
      "{'Name': 'MCG+11-11-032',\n",
      " 'Note': 'BAT_I',\n",
      " 'Type': 2.0,\n",
      " '_id': ObjectId('61457ff4003f629b7cd39d57'),\n",
      " 'logM': 8.35,\n",
      " 'reference': '2017ApJ...850...74K'}\n",
      "{'Name': 'MCG-01-09-045',\n",
      " 'Note': 'BAT_I',\n",
      " 'Type': 2.0,\n",
      " '_id': ObjectId('61457ff4003f629b7cd39d38'),\n",
      " 'logM': 7.07,\n",
      " 'reference': '2017ApJ...850...74K'}\n",
      "{'Name': 'MCG-01-24-012',\n",
      " 'Note': 'BAT_I',\n",
      " 'Type': 2.0,\n",
      " '_id': ObjectId('61457ff4003f629b7cd39d5d'),\n",
      " 'logM': 7.88,\n",
      " 'reference': '2017ApJ...850...74K'}\n",
      "{'Name': 'MCG-02-08-014',\n",
      " 'Note': 'BAT_I',\n",
      " 'Type': 2.0,\n",
      " '_id': ObjectId('61457ff4003f629b7cd39d32'),\n",
      " 'logM': 7.79,\n",
      " 'reference': '2017ApJ...850...74K'}\n",
      "{'Name': 'MCG-07-03-007',\n",
      " 'Note': 'BAT_I',\n",
      " 'Type': 2.0,\n",
      " '_id': ObjectId('61457ff4003f629b7cd39d1b'),\n",
      " 'logM': 8.56,\n",
      " 'reference': '2017ApJ...850...74K'}\n",
      "{'Name': 'MR2251−178',\n",
      " 'Note': 'BAT_corona',\n",
      " 'Redshift': '0.063 98',\n",
      " 'Type': 'S1.5',\n",
      " '_id': ObjectId('61458143003f629b7cd39e09'),\n",
      " 'logM': 7.82,\n",
      " 'reference': '2021MNRAS.506.4960H'}\n",
      "{'Name': 'Mrk10',\n",
      " 'Note': 'BAT_I',\n",
      " 'Type': 1.5,\n",
      " '_id': ObjectId('61457ff4003f629b7cd39d4d'),\n",
      " 'logM': 9.0,\n",
      " 'reference': '2017ApJ...850...74K'}\n",
      "{'Name': 'Mrk1018',\n",
      " 'Note': 'Liuetal2021',\n",
      " '_id': ObjectId('61457b4b003f629b7cd39c98'),\n",
      " 'logM': 7.84,\n",
      " 'z': 0.043}\n",
      "{'Name': 'Mrk1148',\n",
      " 'Note': 'BAT_corona',\n",
      " 'Redshift': '0.064 00',\n",
      " 'Type': 'S1.5',\n",
      " '_id': ObjectId('61458143003f629b7cd39ded'),\n",
      " 'logM': 8.69,\n",
      " 'reference': '2021MNRAS.506.4960H'}\n",
      "{'Name': 'Mrk1392',\n",
      " 'Note': 'BAT_corona',\n",
      " 'Redshift': '0.036 14',\n",
      " 'Type': 'S1.8',\n",
      " '_id': ObjectId('61458143003f629b7cd39e03'),\n",
      " 'logM': 6.88,\n",
      " 'reference': '2021MNRAS.506.4960H'}\n",
      "{'Name': 'Mrk1393',\n",
      " 'Note': 'BAT_I',\n",
      " 'Type': 1.9,\n",
      " '_id': ObjectId('61457ff4003f629b7cd39db5'),\n",
      " 'logM': 8.61,\n",
      " 'reference': '2017ApJ...850...74K'}\n",
      "{'Name': 'Mrk1501',\n",
      " 'Note': 'BAT_corona',\n",
      " 'Redshift': '0.089 34',\n",
      " 'Type': 'S1.2',\n",
      " '_id': ObjectId('61458143003f629b7cd39dec'),\n",
      " 'logM': 8.07,\n",
      " 'reference': '2021MNRAS.506.4960H'}\n",
      "{'Name': 'Mrk18',\n",
      " 'Note': 'BAT_I',\n",
      " 'Type': 1.9,\n",
      " '_id': ObjectId('61457ff4003f629b7cd39d58'),\n",
      " 'logM': 7.85,\n",
      " 'reference': '2017ApJ...850...74K'}\n",
      "{'Name': 'Mrk198',\n",
      " 'Note': 'BAT_I',\n",
      " 'Type': 2.0,\n",
      " '_id': ObjectId('61457ff4003f629b7cd39d86'),\n",
      " 'logM': 7.82,\n",
      " 'reference': '2017ApJ...850...74K'}\n",
      "{'Name': 'Mrk268',\n",
      " 'Note': 'BAT_I',\n",
      " 'Type': 1.9,\n",
      " '_id': ObjectId('61457ff4003f629b7cd39da4'),\n",
      " 'logM': 8.54,\n",
      " 'reference': '2017ApJ...850...74K'}\n",
      "{'Name': 'Mrk273',\n",
      " 'Note': 'BAT_corona',\n",
      " 'Redshift': '0.037 78',\n",
      " 'Type': 'S2',\n",
      " '_id': ObjectId('61458143003f629b7cd39e01'),\n",
      " 'logM': 9.02,\n",
      " 'reference': '2021MNRAS.506.4960H'}\n",
      "{'Name': 'Mrk3',\n",
      " 'Note': 'BAT_corona',\n",
      " 'Redshift': '0.013 51',\n",
      " 'Type': 'S2',\n",
      " '_id': ObjectId('61458143003f629b7cd39df7'),\n",
      " 'logM': 8.95,\n",
      " 'reference': '2021MNRAS.506.4960H'}\n",
      "{'Name': 'Mrk348',\n",
      " 'Note': 'BAT_I',\n",
      " 'Type': 1.9,\n",
      " '_id': ObjectId('61457ff4003f629b7cd39d19'),\n",
      " 'logM': 7.61,\n",
      " 'reference': '2017ApJ...850...74K'}\n",
      "{'Name': 'Mrk359',\n",
      " 'Note': 'BAT_I',\n",
      " 'Type': 1.5,\n",
      " '_id': ObjectId('61457ff4003f629b7cd39d23'),\n",
      " 'logM': 7.03,\n",
      " 'reference': '2017ApJ...850...74K'}\n",
      "{'Name': 'Mrk359',\n",
      " 'Note': 'BAT_corona',\n",
      " 'Redshift': '0.017 39',\n",
      " 'Type': 'S1.5',\n",
      " '_id': ObjectId('61458143003f629b7cd39def'),\n",
      " 'logM': 7.03,\n",
      " 'reference': '2021MNRAS.506.4960H'}\n",
      "{'Name': 'Mrk417',\n",
      " 'Note': 'BAT_I',\n",
      " 'Type': 2.0,\n",
      " '_id': ObjectId('61457ff4003f629b7cd39d6b'),\n",
      " 'logM': 8.15,\n",
      " 'reference': '2017ApJ...850...74K'}\n",
      "{'Name': 'Mrk423',\n",
      " 'Note': 'BAT_I',\n",
      " 'Type': 2.0,\n",
      " '_id': ObjectId('61457ff4003f629b7cd39d74'),\n",
      " 'logM': 8.18,\n",
      " 'reference': '2017ApJ...850...74K'}\n",
      "{'Name': 'Mrk530',\n",
      " 'Note': 'Liuetal2021',\n",
      " '_id': ObjectId('61457b4b003f629b7cd39c91'),\n",
      " 'logM': 8.06,\n",
      " 'z': 0.029}\n",
      "{'Name': 'Mrk590',\n",
      " 'Note': 'Liuetal2021',\n",
      " '_id': ObjectId('61457b4b003f629b7cd39c92'),\n",
      " 'logM': 7.5,\n",
      " 'z': 0.026}\n",
      "{'Name': 'Mrk590',\n",
      " 'Note': 'BAT_I',\n",
      " 'Type': 1.5,\n",
      " '_id': ObjectId('61457ff4003f629b7cd39d2b'),\n",
      " 'logM': 8.54,\n",
      " 'reference': '2017ApJ...850...74K'}\n",
      "{'Name': 'Mrk6',\n",
      " 'Note': 'Liuetal2021',\n",
      " '_id': ObjectId('61457b4b003f629b7cd39c8f'),\n",
      " 'logM': 8.18,\n",
      " 'z': 0.02}\n",
      "{'Name': 'Mrk622',\n",
      " 'Note': 'BAT_I',\n",
      " 'Type': 2.0,\n",
      " '_id': ObjectId('61457ff4003f629b7cd39d53'),\n",
      " 'logM': 7.51,\n",
      " 'reference': '2017ApJ...850...74K'}\n",
      "{'Name': 'Mrk653',\n",
      " 'Note': 'BAT_I',\n",
      " 'Type': 2.0,\n",
      " '_id': ObjectId('61457ff4003f629b7cd39d92'),\n",
      " 'logM': 8.05,\n",
      " 'reference': '2017ApJ...850...74K'}\n",
      "{'Name': 'Mrk766',\n",
      " 'Note': 'BAT_corona',\n",
      " 'Redshift': '0.012 93',\n",
      " 'Type': 'S1',\n",
      " '_id': ObjectId('61458143003f629b7cd39dfc'),\n",
      " 'logM': 6.82,\n",
      " 'reference': '2021MNRAS.506.4960H'}\n",
      "{'Name': 'Mrk841',\n",
      " 'Note': 'BAT_corona',\n",
      " 'Redshift': '0.036 42',\n",
      " 'Type': 'S1.5',\n",
      " '_id': ObjectId('61458143003f629b7cd39e02'),\n",
      " 'logM': 8.76,\n",
      " 'reference': '2021MNRAS.506.4960H'}\n",
      "{'Name': 'Mrk915',\n",
      " 'Note': 'BAT_I',\n",
      " 'Type': 1.9,\n",
      " '_id': ObjectId('61457ff4003f629b7cd39dd6'),\n",
      " 'logM': 7.76,\n",
      " 'reference': '2017ApJ...850...74K'}\n",
      "{'Name': 'Mrk915',\n",
      " 'Note': 'BAT_corona',\n",
      " 'Redshift': '0.024 11',\n",
      " 'Type': 'S1',\n",
      " '_id': ObjectId('61458143003f629b7cd39e08'),\n",
      " 'logM': 7.76,\n",
      " 'reference': '2021MNRAS.506.4960H'}\n",
      "{'Name': 'Mrk926',\n",
      " 'Note': 'Liuetal2021',\n",
      " '_id': ObjectId('61457b4b003f629b7cd39c96'),\n",
      " 'logM': 8.05,\n",
      " 'z': 0.047}\n",
      "{'Name': 'Mrk926',\n",
      " 'Note': 'BAT_corona',\n",
      " 'Redshift': '0.046 86',\n",
      " 'Type': 'S1.5',\n",
      " '_id': ObjectId('61458143003f629b7cd39e0b'),\n",
      " 'logM': 8.36,\n",
      " 'reference': '2021MNRAS.506.4960H'}\n",
      "{'Name': 'NGC1052',\n",
      " 'Note': 'BAT_I',\n",
      " 'Type': 1.9,\n",
      " '_id': ObjectId('61457ff4003f629b7cd39d2e'),\n",
      " 'logM': 8.96,\n",
      " 'reference': '2017ApJ...850...74K'}\n",
      "{'Name': 'NGC1052',\n",
      " 'Note': 'BAT_corona',\n",
      " 'Redshift': '0.005 04',\n",
      " 'Type': 'S2',\n",
      " '_id': ObjectId('61458143003f629b7cd39df1'),\n",
      " 'logM': 8.96,\n",
      " 'reference': '2021MNRAS.506.4960H'}\n",
      "{'Name': 'NGC1068',\n",
      " 'Note': 'BAT_I_lit',\n",
      " 'Type': 1.9,\n",
      " '_id': ObjectId('6145801f003f629b7cd39ddd'),\n",
      " 'logM': 6.93,\n",
      " 'reference': '2017ApJ...850...74K'}\n",
      "{'Name': 'NGC1068',\n",
      " 'Note': 'BAT_corona',\n",
      " 'Redshift': '0.003 79',\n",
      " 'Type': 'S2',\n",
      " '_id': ObjectId('61458143003f629b7cd39df2'),\n",
      " 'logM': 6.75,\n",
      " 'reference': '2021MNRAS.506.4960H'}\n",
      "{'Name': 'NGC1097',\n",
      " 'Note': 'Liuetal2021',\n",
      " '_id': ObjectId('61457b4b003f629b7cd39c9b'),\n",
      " 'logM': 8.08,\n",
      " 'z': 0.004}\n",
      "{'Name': 'NGC1125',\n",
      " 'Note': 'BAT_I',\n",
      " 'Type': 2.0,\n",
      " '_id': ObjectId('61457ff4003f629b7cd39d31'),\n",
      " 'logM': 7.34,\n",
      " 'reference': '2017ApJ...850...74K'}\n",
      "{'Name': 'NGC1142',\n",
      " 'Note': 'BAT_I',\n",
      " 'Type': 2.0,\n",
      " '_id': ObjectId('61457ff4003f629b7cd39d33'),\n",
      " 'logM': 9.25,\n",
      " 'reference': '2017ApJ...850...74K'}\n",
      "{'Name': 'NGC1194',\n",
      " 'Note': 'BAT_I',\n",
      " 'Type': 2.0,\n",
      " '_id': ObjectId('61457ff4003f629b7cd39d34'),\n",
      " 'logM': 8.12,\n",
      " 'reference': '2017ApJ...850...74K'}\n",
      "{'Name': 'NGC1194',\n",
      " 'Note': 'BAT_I_lit',\n",
      " 'Type': 2.0,\n",
      " '_id': ObjectId('6145801f003f629b7cd39dde'),\n",
      " 'logM': 7.83,\n",
      " 'reference': '2017ApJ...850...74K'}\n",
      "{'Name': 'NGC1229',\n",
      " 'Note': 'BAT_I',\n",
      " 'Type': 2.0,\n",
      " '_id': ObjectId('61457ff4003f629b7cd39d35'),\n",
      " 'logM': 8.27,\n",
      " 'reference': '2017ApJ...850...74K'}\n",
      "{'Name': 'NGC1365',\n",
      " 'Note': 'Liuetal2021',\n",
      " '_id': ObjectId('61457b4b003f629b7cd39c9d'),\n",
      " 'logM': 6.65,\n",
      " 'z': 0.005}\n",
      "{'Name': 'NGC1566',\n",
      " 'Note': 'Liuetal2021',\n",
      " '_id': ObjectId('61457b4b003f629b7cd39c9e'),\n",
      " 'logM': 6.92,\n",
      " 'z': 0.005}\n",
      "{'Name': 'NGC1566',\n",
      " 'Note': 'BAT_I',\n",
      " 'Type': 1.5,\n",
      " '_id': ObjectId('61457ff4003f629b7cd39d3b'),\n",
      " 'logM': 7.74,\n",
      " 'reference': '2017ApJ...850...74K'}\n",
      "{'Name': 'NGC2110',\n",
      " 'Note': 'BAT_I',\n",
      " 'Type': 2.0,\n",
      " '_id': ObjectId('61457ff4003f629b7cd39d44'),\n",
      " 'logM': 9.25,\n",
      " 'reference': '2017ApJ...850...74K'}\n",
      "{'Name': 'NGC235A',\n",
      " 'Note': 'BAT_I',\n",
      " 'Type': 1.9,\n",
      " '_id': ObjectId('61457ff4003f629b7cd39d18'),\n",
      " 'logM': 8.6,\n",
      " 'reference': '2017ApJ...850...74K'}\n",
      "{'Name': 'NGC2617',\n",
      " 'Note': 'Liuetal2021',\n",
      " '_id': ObjectId('61457b4b003f629b7cd39c9f'),\n",
      " 'logM': 7.5,\n",
      " 'z': 0.014}\n",
      "{'Name': 'NGC2788A',\n",
      " 'Note': 'BAT_I',\n",
      " 'Type': 2.0,\n",
      " '_id': ObjectId('61457ff4003f629b7cd39d59'),\n",
      " 'logM': 8.71,\n",
      " 'reference': '2017ApJ...850...74K'}\n",
      "{'Name': 'NGC2885',\n",
      " 'Note': 'BAT_I',\n",
      " 'Type': 1.2,\n",
      " '_id': ObjectId('61457ff4003f629b7cd39d5e'),\n",
      " 'logM': 8.58,\n",
      " 'reference': '2017ApJ...850...74K'}\n",
      "{'Name': 'NGC2992',\n",
      " 'Note': 'Liuetal2021',\n",
      " '_id': ObjectId('61457b4b003f629b7cd39ca1'),\n",
      " 'logM': 7.48,\n",
      " 'z': 0.008}\n",
      "{'Name': 'NGC3035',\n",
      " 'Note': 'BAT_I',\n",
      " 'Type': 1.9,\n",
      " '_id': ObjectId('61457ff4003f629b7cd39d62'),\n",
      " 'logM': 7.69,\n",
      " 'reference': '2017ApJ...850...74K'}\n",
      "{'Name': 'NGC3065',\n",
      " 'Note': 'Liuetal2021',\n",
      " '_id': ObjectId('61457b4b003f629b7cd39ca2'),\n",
      " 'logM': 7.95,\n",
      " 'z': 0.007}\n",
      "{'Name': 'NGC3079',\n",
      " 'Note': 'BAT_I',\n",
      " 'Type': 2.0,\n",
      " '_id': ObjectId('61457ff4003f629b7cd39d65'),\n",
      " 'logM': 8.27,\n",
      " 'reference': '2017ApJ...850...74K'}\n",
      "{'Name': 'NGC3079',\n",
      " 'Note': 'BAT_I_lit',\n",
      " 'Type': 2.0,\n",
      " '_id': ObjectId('6145801f003f629b7cd39de0'),\n",
      " 'logM': 6.38,\n",
      " 'reference': '2017ApJ...850...74K'}\n",
      "{'Name': 'NGC3081',\n",
      " 'Note': 'BAT_I',\n",
      " 'Type': 2.0,\n",
      " '_id': ObjectId('61457ff4003f629b7cd39d64'),\n",
      " 'logM': 8.41,\n",
      " 'reference': '2017ApJ...850...74K'}\n",
      "{'Name': 'NGC3227',\n",
      " 'Note': 'BAT_I_lit',\n",
      " 'Type': 1.5,\n",
      " '_id': ObjectId('6145801f003f629b7cd39de1'),\n",
      " 'logM': 7.18,\n",
      " 'reference': '2017ApJ...850...74K'}\n",
      "{'Name': 'NGC3227',\n",
      " 'Note': 'BAT_corona',\n",
      " 'Redshift': '0.003 86',\n",
      " 'Type': 'S2',\n",
      " '_id': ObjectId('61458143003f629b7cd39df9'),\n",
      " 'logM': 7.18,\n",
      " 'reference': '2021MNRAS.506.4960H'}\n",
      "{'Name': 'NGC3393',\n",
      " 'Note': 'BAT_I_lit',\n",
      " 'Type': 2.0,\n",
      " '_id': ObjectId('6145801f003f629b7cd39de2'),\n",
      " 'logM': 7.52,\n",
      " 'reference': '2017ApJ...850...74K'}\n",
      "{'Name': 'NGC3431',\n",
      " 'Note': 'BAT_I',\n",
      " 'Type': 2.0,\n",
      " '_id': ObjectId('61457ff4003f629b7cd39d6c'),\n",
      " 'logM': 8.12,\n",
      " 'reference': '2017ApJ...850...74K'}\n",
      "{'Name': 'NGC3516',\n",
      " 'Note': 'Liuetal2021',\n",
      " '_id': ObjectId('61457b4b003f629b7cd39ca3'),\n",
      " 'logM': 7.49,\n",
      " 'z': 0.009}\n",
      "{'Name': 'NGC3588NED02',\n",
      " 'Note': 'BAT_I',\n",
      " 'Type': 2.0,\n",
      " '_id': ObjectId('61457ff4003f629b7cd39d71'),\n",
      " 'logM': 8.24,\n",
      " 'reference': '2017ApJ...850...74K'}\n",
      "{'Name': 'NGC3718',\n",
      " 'Note': 'BAT_I',\n",
      " 'Type': 1.9,\n",
      " '_id': ObjectId('61457ff4003f629b7cd39d75'),\n",
      " 'logM': 9.53,\n",
      " 'reference': '2017ApJ...850...74K'}\n",
      "{'Name': 'NGC3998',\n",
      " 'Note': 'BAT_I',\n",
      " 'Type': 1.9,\n",
      " '_id': ObjectId('61457ff4003f629b7cd39d7d'),\n",
      " 'logM': 9.93,\n",
      " 'reference': '2017ApJ...850...74K'}\n",
      "{'Name': 'NGC3998',\n",
      " 'Note': 'BAT_I_lit',\n",
      " 'Type': 1.9,\n",
      " '_id': ObjectId('6145801f003f629b7cd39de3'),\n",
      " 'logM': 8.93,\n",
      " 'reference': '2017ApJ...850...74K'}\n",
      "{'Name': 'NGC3998',\n",
      " 'Note': 'BAT_corona',\n",
      " 'Redshift': '0.003 50',\n",
      " 'Type': 'S1',\n",
      " '_id': ObjectId('61458143003f629b7cd39dfa'),\n",
      " 'logM': 8.91,\n",
      " 'reference': '2021MNRAS.506.4960H'}\n",
      "{'Name': 'NGC4051',\n",
      " 'Note': 'Liuetal2021',\n",
      " '_id': ObjectId('61457b4b003f629b7cd39ca4'),\n",
      " 'logM': 6.36,\n",
      " 'z': 0.002}\n",
      "{'Name': 'NGC4102',\n",
      " 'Note': 'BAT_I',\n",
      " 'Type': 2.0,\n",
      " '_id': ObjectId('61457ff4003f629b7cd39d84'),\n",
      " 'logM': 8.75,\n",
      " 'reference': '2017ApJ...850...74K'}\n",
      "{'Name': 'NGC4138',\n",
      " 'Note': 'BAT_I',\n",
      " 'Type': 2.0,\n",
      " '_id': ObjectId('61457ff4003f629b7cd39d87'),\n",
      " 'logM': 7.3,\n",
      " 'reference': '2017ApJ...850...74K'}\n",
      "{'Name': 'NGC4151',\n",
      " 'Note': 'Liuetal2021',\n",
      " '_id': ObjectId('61457b4b003f629b7cd39ca5'),\n",
      " 'logM': 7.56,\n",
      " 'z': 0.003}\n",
      "{'Name': 'NGC4151',\n",
      " 'Note': 'BAT_I_lit',\n",
      " 'Type': 1.5,\n",
      " '_id': ObjectId('6145801f003f629b7cd39de4'),\n",
      " 'logM': 7.58,\n",
      " 'reference': '2017ApJ...850...74K'}\n",
      "{'Name': 'NGC4151',\n",
      " 'Note': 'BAT_corona',\n",
      " 'Redshift': '0.003 32',\n",
      " 'Type': 'S1.5',\n",
      " '_id': ObjectId('61458143003f629b7cd39dfb'),\n",
      " 'logM': 7.55,\n",
      " 'reference': '2021MNRAS.506.4960H'}\n",
      "{'Name': 'NGC4235',\n",
      " 'Note': 'BAT_I',\n",
      " 'Type': 1.2,\n",
      " '_id': ObjectId('61457ff4003f629b7cd39d8b'),\n",
      " 'logM': 8.0,\n",
      " 'reference': '2017ApJ...850...74K'}\n",
      "{'Name': 'NGC4388',\n",
      " 'Note': 'Liuetal2021',\n",
      " '_id': ObjectId('61457b4b003f629b7cd39ca6'),\n",
      " 'logM': 6.92,\n",
      " 'z': 0.008}\n",
      "{'Name': 'NGC4388',\n",
      " 'Note': 'BAT_I',\n",
      " 'Type': 2.0,\n",
      " '_id': ObjectId('61457ff4003f629b7cd39d8d'),\n",
      " 'logM': 6.99,\n",
      " 'reference': '2017ApJ...850...74K'}\n",
      "{'Name': 'NGC4388',\n",
      " 'Note': 'BAT_I_lit',\n",
      " 'Type': 2.0,\n",
      " '_id': ObjectId('6145801f003f629b7cd39de6'),\n",
      " 'logM': 6.94,\n",
      " 'reference': '2017ApJ...850...74K'}\n",
      "{'Name': 'NGC4395',\n",
      " 'Note': 'Liuetal2021',\n",
      " '_id': ObjectId('61457b4b003f629b7cd39ca7'),\n",
      " 'logM': 5.56,\n",
      " 'z': 0.001}\n",
      "{'Name': 'NGC4507',\n",
      " 'Note': 'Liuetal2021',\n",
      " '_id': ObjectId('61457b4b003f629b7cd39ca8'),\n",
      " 'logM': 7.65,\n",
      " 'z': 0.012}\n",
      "{'Name': 'NGC4507',\n",
      " 'Note': 'BAT_I',\n",
      " 'Type': 1.9,\n",
      " '_id': ObjectId('61457ff4003f629b7cd39d8e'),\n",
      " 'logM': 7.9,\n",
      " 'reference': '2017ApJ...850...74K'}\n",
      "{'Name': 'NGC454',\n",
      " 'Note': 'Liuetal2021',\n",
      " '_id': ObjectId('61457b4b003f629b7cd39c9a'),\n",
      " 'logM': 6.23,\n",
      " 'z': 0.012}\n",
      "{'Name': 'NGC454E',\n",
      " 'Note': 'BAT_I',\n",
      " 'Type': 2.0,\n",
      " '_id': ObjectId('61457ff4003f629b7cd39d1f'),\n",
      " 'logM': 8.52,\n",
      " 'reference': '2017ApJ...850...74K'}\n",
      "{'Name': 'NGC4579',\n",
      " 'Note': 'BAT_corona',\n",
      " 'Redshift': '0.005 06',\n",
      " 'Type': 'S2',\n",
      " '_id': ObjectId('61458143003f629b7cd39dfe'),\n",
      " 'logM': 7.77,\n",
      " 'reference': '2021MNRAS.506.4960H'}\n",
      "{'Name': 'NGC4593',\n",
      " 'Note': 'BAT_corona',\n",
      " 'Redshift': '0.009 00',\n",
      " 'Type': 'S1',\n",
      " '_id': ObjectId('61458143003f629b7cd39dff'),\n",
      " 'logM': 6.88,\n",
      " 'reference': '2021MNRAS.506.4960H'}\n",
      "{'Name': 'NGC4619',\n",
      " 'Note': 'BAT_I',\n",
      " 'Type': 1.9,\n",
      " '_id': ObjectId('61457ff4003f629b7cd39d93'),\n",
      " 'logM': 7.96,\n",
      " 'reference': '2017ApJ...850...74K'}\n",
      "{'Name': 'NGC4686',\n",
      " 'Note': 'BAT_I',\n",
      " 'Type': 2.0,\n",
      " '_id': ObjectId('61457ff4003f629b7cd39d95'),\n",
      " 'logM': 9.8,\n",
      " 'reference': '2017ApJ...850...74K'}\n",
      "{'Name': 'NGC4785',\n",
      " 'Note': 'BAT_corona',\n",
      " 'Redshift': '0.012 27',\n",
      " 'Type': 'S2',\n",
      " '_id': ObjectId('61458143003f629b7cd39e00'),\n",
      " 'logM': 7.99,\n",
      " 'reference': '2021MNRAS.506.4960H'}\n",
      "{'Name': 'NGC4939',\n",
      " 'Note': 'BAT_I',\n",
      " 'Type': 2.0,\n",
      " '_id': ObjectId('61457ff4003f629b7cd39d99'),\n",
      " 'logM': 7.52,\n",
      " 'reference': '2017ApJ...850...74K'}\n",
      "{'Name': 'NGC4941',\n",
      " 'Note': 'BAT_I',\n",
      " 'Type': 2.0,\n",
      " '_id': ObjectId('61457ff4003f629b7cd39d98'),\n",
      " 'logM': 7.03,\n",
      " 'reference': '2017ApJ...850...74K'}\n",
      "{'Name': 'NGC4992',\n",
      " 'Note': 'BAT_I',\n",
      " 'Type': 2.0,\n",
      " '_id': ObjectId('61457ff4003f629b7cd39d9a'),\n",
      " 'logM': 8.54,\n",
      " 'reference': '2017ApJ...850...74K'}\n",
      "{'Name': 'NGC5033',\n",
      " 'Note': 'BAT_I',\n",
      " 'Type': 1.9,\n",
      " '_id': ObjectId('61457ff4003f629b7cd39d9c'),\n",
      " 'logM': 7.86,\n",
      " 'reference': '2017ApJ...850...74K'}\n",
      "{'Name': 'NGC5100NED02',\n",
      " 'Note': 'BAT_I',\n",
      " 'Type': 2.0,\n",
      " '_id': ObjectId('61457ff4003f629b7cd39d9e'),\n",
      " 'logM': 8.51,\n",
      " 'reference': '2017ApJ...850...74K'}\n",
      "{'Name': 'NGC513',\n",
      " 'Note': 'BAT_I',\n",
      " 'Type': 2.0,\n",
      " '_id': ObjectId('61457ff4003f629b7cd39d22'),\n",
      " 'logM': 7.89,\n",
      " 'reference': '2017ApJ...850...74K'}\n",
      "{'Name': 'NGC5231',\n",
      " 'Note': 'BAT_I',\n",
      " 'Type': 2.0,\n",
      " '_id': ObjectId('61457ff4003f629b7cd39da1'),\n",
      " 'logM': 7.95,\n",
      " 'reference': '2017ApJ...850...74K'}\n",
      "{'Name': 'NGC5252',\n",
      " 'Note': 'BAT_I',\n",
      " 'Type': 2.0,\n",
      " '_id': ObjectId('61457ff4003f629b7cd39da2'),\n",
      " 'logM': 8.87,\n",
      " 'reference': '2017ApJ...850...74K'}\n",
      "{'Name': 'NGC5252',\n",
      " 'Note': 'BAT_I_lit',\n",
      " 'Type': 2.0,\n",
      " '_id': ObjectId('6145801f003f629b7cd39de8'),\n",
      " 'logM': 9.0,\n",
      " 'reference': '2017ApJ...850...74K'}\n",
      "{'Name': 'NGC526A',\n",
      " 'Note': 'BAT_I',\n",
      " 'Type': 2.0,\n",
      " '_id': ObjectId('61457ff4003f629b7cd39d21'),\n",
      " 'logM': 8.17,\n",
      " 'reference': '2017ApJ...850...74K'}\n",
      "{'Name': 'NGC5273',\n",
      " 'Note': 'BAT_I',\n",
      " 'Type': 1.5,\n",
      " '_id': ObjectId('61457ff4003f629b7cd39da5'),\n",
      " 'logM': 7.11,\n",
      " 'reference': '2017ApJ...850...74K'}\n",
      "{'Name': 'NGC5283',\n",
      " 'Note': 'BAT_I',\n",
      " 'Type': 2.0,\n",
      " '_id': ObjectId('61457ff4003f629b7cd39da3'),\n"
     ]
    },
    {
     "name": "stdout",
     "output_type": "stream",
     "text": [
      " 'logM': 8.87,\n",
      " 'reference': '2017ApJ...850...74K'}\n",
      "{'Name': 'NGC5290',\n",
      " 'Note': 'BAT_I',\n",
      " 'Type': 2.0,\n",
      " '_id': ObjectId('61457ff4003f629b7cd39da7'),\n",
      " 'logM': 7.76,\n",
      " 'reference': '2017ApJ...850...74K'}\n",
      "{'Name': 'NGC5548',\n",
      " 'Note': 'Liuetal2021',\n",
      " '_id': ObjectId('61457b4b003f629b7cd39caa'),\n",
      " 'logM': 7.51,\n",
      " 'z': 0.017}\n",
      "{'Name': 'NGC5610',\n",
      " 'Note': 'BAT_I',\n",
      " 'Type': 2.0,\n",
      " '_id': ObjectId('61457ff4003f629b7cd39dae'),\n",
      " 'logM': 7.81,\n",
      " 'reference': '2017ApJ...850...74K'}\n",
      "{'Name': 'NGC5674',\n",
      " 'Note': 'BAT_I',\n",
      " 'Type': 2.0,\n",
      " '_id': ObjectId('61457ff4003f629b7cd39db0'),\n",
      " 'logM': 7.65,\n",
      " 'reference': '2017ApJ...850...74K'}\n",
      "{'Name': 'NGC5728',\n",
      " 'Note': 'BAT_I',\n",
      " 'Type': 1.9,\n",
      " '_id': ObjectId('61457ff4003f629b7cd39db2'),\n",
      " 'logM': 8.07,\n",
      " 'reference': '2017ApJ...850...74K'}\n",
      "{'Name': 'NGC5899',\n",
      " 'Note': 'BAT_I',\n",
      " 'Type': 2.0,\n",
      " '_id': ObjectId('61457ff4003f629b7cd39db6'),\n",
      " 'logM': 8.66,\n",
      " 'reference': '2017ApJ...850...74K'}\n",
      "{'Name': 'NGC5995',\n",
      " 'Note': 'BAT_I',\n",
      " 'Type': 1.9,\n",
      " '_id': ObjectId('61457ff4003f629b7cd39db8'),\n",
      " 'logM': 8.64,\n",
      " 'reference': '2017ApJ...850...74K'}\n",
      "{'Name': 'NGC612',\n",
      " 'Note': 'BAT_I',\n",
      " 'Type': 2.0,\n",
      " '_id': ObjectId('61457ff4003f629b7cd39d26'),\n",
      " 'logM': 8.99,\n",
      " 'reference': '2017ApJ...850...74K'}\n",
      "{'Name': 'NGC6232',\n",
      " 'Note': 'BAT_I',\n",
      " 'Type': 2.0,\n",
      " '_id': ObjectId('61457ff4003f629b7cd39dbe'),\n",
      " 'logM': 7.43,\n",
      " 'reference': '2017ApJ...850...74K'}\n",
      "{'Name': 'NGC6240',\n",
      " 'Note': 'BAT_I_lit',\n",
      " 'Type': 1.9,\n",
      " '_id': ObjectId('6145801f003f629b7cd39de9'),\n",
      " 'logM': 9.2,\n",
      " 'reference': '2017ApJ...850...74K'}\n",
      "{'Name': 'NGC6300',\n",
      " 'Note': 'Liuetal2021',\n",
      " '_id': ObjectId('61457b4b003f629b7cd39cac'),\n",
      " 'logM': 7,\n",
      " 'z': 0.004}\n",
      "{'Name': 'NGC7130',\n",
      " 'Note': 'BAT_I',\n",
      " 'Type': 1.9,\n",
      " '_id': ObjectId('61457ff4003f629b7cd39dcf'),\n",
      " 'logM': 7.61,\n",
      " 'reference': '2017ApJ...850...74K'}\n",
      "{'Name': 'NGC7172',\n",
      " 'Note': 'BAT_I',\n",
      " 'Type': 2.0,\n",
      " '_id': ObjectId('61457ff4003f629b7cd39dd0'),\n",
      " 'logM': 8.45,\n",
      " 'reference': '2017ApJ...850...74K'}\n",
      "{'Name': 'NGC7314',\n",
      " 'Note': 'BAT_I',\n",
      " 'Type': 1.9,\n",
      " '_id': ObjectId('61457ff4003f629b7cd39dd5'),\n",
      " 'logM': 7.24,\n",
      " 'reference': '2017ApJ...850...74K'}\n",
      "{'Name': 'NGC7314',\n",
      " 'Note': 'BAT_corona',\n",
      " 'Redshift': '0.004 76',\n",
      " 'Type': 'S1',\n",
      " '_id': ObjectId('61458143003f629b7cd39e07'),\n",
      " 'logM': 7.24,\n",
      " 'reference': '2021MNRAS.506.4960H'}\n",
      "{'Name': 'NGC7469',\n",
      " 'Note': 'Liuetal2021',\n",
      " '_id': ObjectId('61457b4b003f629b7cd39cad'),\n",
      " 'logM': 7.32,\n",
      " 'z': 0.016}\n",
      "{'Name': 'NGC7469',\n",
      " 'Note': 'BAT_corona',\n",
      " 'Redshift': '0.016 32',\n",
      " 'Type': 'S1',\n",
      " '_id': ObjectId('61458143003f629b7cd39e0a'),\n",
      " 'logM': 6.96,\n",
      " 'reference': '2021MNRAS.506.4960H'}\n",
      "{'Name': 'NGC7479',\n",
      " 'Note': 'BAT_I',\n",
      " 'Type': 1.9,\n",
      " '_id': ObjectId('61457ff4003f629b7cd39dd9'),\n",
      " 'logM': 7.53,\n",
      " 'reference': '2017ApJ...850...74K'}\n",
      "{'Name': 'NGC7582',\n",
      " 'Note': 'Liuetal2021',\n",
      " '_id': ObjectId('61457b4b003f629b7cd39cae'),\n",
      " 'logM': 7.74,\n",
      " 'z': 0.005}\n",
      "{'Name': 'NGC7582',\n",
      " 'Note': 'BAT_I_lit',\n",
      " 'Type': 2.0,\n",
      " '_id': ObjectId('6145801f003f629b7cd39deb'),\n",
      " 'logM': 7.74,\n",
      " 'reference': '2017ApJ...850...74K'}\n",
      "{'Name': 'NGC7582',\n",
      " 'Note': 'BAT_corona',\n",
      " 'Redshift': '0.005 25',\n",
      " 'Type': 'S1',\n",
      " '_id': ObjectId('61458143003f629b7cd39e0c'),\n",
      " 'logM': 7.67,\n",
      " 'reference': '2021MNRAS.506.4960H'}\n",
      "{'Name': 'NGC7674',\n",
      " 'Note': 'Liuetal2021',\n",
      " '_id': ObjectId('61457b4b003f629b7cd39caf'),\n",
      " 'logM': 7.56,\n",
      " 'z': 0.029}\n",
      "{'Name': 'NGC788',\n",
      " 'Note': 'BAT_I',\n",
      " 'Type': 2.0,\n",
      " '_id': ObjectId('61457ff4003f629b7cd39d2a'),\n",
      " 'logM': 8.21,\n",
      " 'reference': '2017ApJ...850...74K'}\n",
      "{'Name': 'NGC931',\n",
      " 'Note': 'BAT_corona',\n",
      " 'Redshift': '0.016 65',\n",
      " 'Type': 'S1',\n",
      " '_id': ObjectId('61458143003f629b7cd39df0'),\n",
      " 'logM': 7.64,\n",
      " 'reference': '2021MNRAS.506.4960H'}\n",
      "{'Name': 'NGC973',\n",
      " 'Note': 'BAT_I',\n",
      " 'Type': 2.0,\n",
      " '_id': ObjectId('61457ff4003f629b7cd39d2d'),\n",
      " 'logM': 8.86,\n",
      " 'reference': '2017ApJ...850...74K'}\n",
      "{'Name': 'PG1535+547',\n",
      " 'Note': 'Liuetal2021',\n",
      " '_id': ObjectId('61457b4b003f629b7cd39cb0'),\n",
      " 'logM': 7.34,\n",
      " 'z': 0.039}\n",
      "{'Name': 'SBS0915+556',\n",
      " 'Note': 'BAT_I',\n",
      " 'Type': 2.0,\n",
      " '_id': ObjectId('61457ff4003f629b7cd39d5b'),\n",
      " 'logM': 7.72,\n",
      " 'reference': '2017ApJ...850...74K'}\n",
      "{'Name': 'SDSSJ002311.06+003517.5',\n",
      " 'Note': 'Liuetal2021',\n",
      " '_id': ObjectId('61457b4b003f629b7cd39cb5'),\n",
      " 'logM': 8.2,\n",
      " 'z': 0.422}\n",
      "{'Name': 'SDSSJ015957.62+003310.5',\n",
      " 'Note': 'Liuetal2021',\n",
      " '_id': ObjectId('61457b4b003f629b7cd39cb9'),\n",
      " 'logM': 8.15,\n",
      " 'z': 0.312}\n",
      "{'Name': 'SDSSJ022556.07+003026.7',\n",
      " 'Note': 'Liuetal2021',\n",
      " '_id': ObjectId('61457b4b003f629b7cd39cba'),\n",
      " 'logM': 8.2,\n",
      " 'z': 0.504}\n",
      "{'Name': 'SDSSJ022652.24-003916.5',\n",
      " 'Note': 'Liuetal2021',\n",
      " '_id': ObjectId('61457b4b003f629b7cd39cbb'),\n",
      " 'logM': 8.6,\n",
      " 'z': 0.625}\n",
      "{'Name': 'SDSSJ030510.60-010431.6',\n",
      " 'Note': 'Liuetal2021',\n",
      " '_id': ObjectId('61457b4b003f629b7cd39cbc'),\n",
      " 'logM': 7.35,\n",
      " 'z': 0.045}\n",
      "{'Name': 'SDSSJ080020.98+263648.8',\n",
      " 'Note': 'Liuetal2021',\n",
      " '_id': ObjectId('61457b4b003f629b7cd39cbf'),\n",
      " 'logM': 7.12,\n",
      " 'z': 0.027}\n",
      "{'Name': 'SDSSJ081319.34+460849.5',\n",
      " 'Note': 'Liuetal2021',\n",
      " '_id': ObjectId('61457b4b003f629b7cd39cc0'),\n",
      " 'logM': 7.6,\n",
      " 'z': 0.054}\n",
      "{'Name': 'SDSSJ081726.41+101210.1',\n",
      " 'Note': 'Liuetal2021',\n",
      " '_id': ObjectId('61457b4b003f629b7cd39cc1'),\n",
      " 'logM': 7.5,\n",
      " 'z': 0.046}\n",
      "{'Name': 'SDSSJ082323.89+422048.3',\n",
      " 'Note': 'Liuetal2021',\n",
      " '_id': ObjectId('61457b4b003f629b7cd39cc2'),\n",
      " 'logM': 8.09,\n",
      " 'z': 0.152}\n",
      "{'Name': 'SDSSJ082942.67+415436.9',\n",
      " 'Note': 'Liuetal2021',\n",
      " '_id': ObjectId('61457b4b003f629b7cd39cc4'),\n",
      " 'logM': 8.49,\n",
      " 'z': 0.126}\n",
      "{'Name': 'SDSSJ090902.35+133019.4',\n",
      " 'Note': 'Liuetal2021',\n",
      " '_id': ObjectId('61457b4b003f629b7cd39cc8'),\n",
      " 'logM': 7.3,\n",
      " 'z': 0.05}\n",
      "{'Name': 'SDSSJ091531.04+481407.7',\n",
      " 'Note': 'Liuetal2021',\n",
      " '_id': ObjectId('61457b4b003f629b7cd39cca'),\n",
      " 'logM': 7.79,\n",
      " 'z': 0.1}\n",
      "{'Name': 'SDSSJ094810.92+005057.8',\n",
      " 'Note': 'Liuetal2021',\n",
      " '_id': ObjectId('61457b4b003f629b7cd39cce'),\n",
      " 'logM': 7.4,\n",
      " 'z': 0.624}\n",
      "{'Name': 'SDSSJ101152.98+544206.4',\n",
      " 'Note': 'Liuetal2021',\n",
      " '_id': ObjectId('61457b4b003f629b7cd39cd2'),\n",
      " 'logM': 8.4,\n",
      " 'z': 0.246}\n",
      "{'Name': 'SDSSJ104705.16+544405.8',\n",
      " 'Note': 'Liuetal2021',\n",
      " '_id': ObjectId('61457b4b003f629b7cd39cd4'),\n",
      " 'logM': 7.56,\n",
      " 'z': 0.215}\n",
      "{'Name': 'SDSSJ111536.57+054449.7',\n",
      " 'Note': 'Liuetal2021',\n",
      " '_id': ObjectId('61457b4b003f629b7cd39cdb'),\n",
      " 'logM': 7.57,\n",
      " 'z': 0.09}\n",
      "{'Name': 'SDSSJ113355.93+670107.0',\n",
      " 'Note': 'Liuetal2021',\n",
      " '_id': ObjectId('61457b4b003f629b7cd39ce0'),\n",
      " 'logM': 8.17,\n",
      " 'z': 0.04}\n",
      "{'Name': 'SDSSJ113915.13+253557.9',\n",
      " 'Note': 'BAT_I',\n",
      " 'Type': 2.0,\n",
      " '_id': ObjectId('61457ff4003f629b7cd39d79'),\n",
      " 'logM': 8.87,\n",
      " 'reference': '2017ApJ...850...74K'}\n",
      "{'Name': 'SDSSJ114921.52+532013.4',\n",
      " 'Note': 'BAT_I',\n",
      " 'Type': 1.5,\n",
      " '_id': ObjectId('61457ff4003f629b7cd39d7c'),\n",
      " 'logM': 8.68,\n",
      " 'reference': '2017ApJ...850...74K'}\n",
      "{'Name': 'SDSSJ120447.91+170256.8',\n",
      " 'Note': 'Liuetal2021',\n",
      " '_id': ObjectId('61457b4b003f629b7cd39ce3'),\n",
      " 'logM': 8,\n",
      " 'z': 0.298}\n",
      "{'Name': 'SDSSJ120544.68+342252.4',\n",
      " 'Note': 'Liuetal2021',\n",
      " '_id': ObjectId('61457b4b003f629b7cd39ce4'),\n",
      " 'logM': 9.73,\n",
      " 'z': 2.068}\n",
      "{'Name': 'SDSSJ122550.30+510846.3',\n",
      " 'Note': 'Liuetal2021',\n",
      " '_id': ObjectId('61457b4b003f629b7cd39ce5'),\n",
      " 'logM': 8.62,\n",
      " 'z': 0.168}\n",
      "{'Name': 'SDSSJ125403.78+491452.8',\n",
      " 'Note': 'Liuetal2021',\n",
      " '_id': ObjectId('61457b4b003f629b7cd39ce8'),\n",
      " 'logM': 8.26,\n",
      " 'z': 0.067}\n",
      "{'Name': 'SDSSJ131615.95+301552.2',\n",
      " 'Note': 'Liuetal2021',\n",
      " '_id': ObjectId('61457b4b003f629b7cd39ceb'),\n",
      " 'logM': 7.06,\n",
      " 'z': 0.049}\n",
      "{'Name': 'SDSSJ132457.29+480241.2',\n",
      " 'Note': 'Liuetal2021',\n",
      " '_id': ObjectId('61457b4b003f629b7cd39cee'),\n",
      " 'logM': 8,\n",
      " 'z': 0.272}\n",
      "{'Name': 'SDSSJ141324.27+530527.0',\n",
      " 'Note': 'Liuetal2021',\n",
      " '_id': ObjectId('61457b4b003f629b7cd39cf0'),\n",
      " 'logM': 8.2,\n",
      " 'z': 0.456}\n",
      "{'Name': 'SDSSJ152533.60+292012.1',\n",
      " 'Note': 'Liuetal2021',\n",
      " '_id': ObjectId('61457b4b003f629b7cd39cf4'),\n",
      " 'logM': 8,\n",
      " 'z': 0.449}\n",
      "{'Name': 'SDSSJ153308.02+443208.4',\n",
      " 'Note': 'Liuetal2021',\n",
      " '_id': ObjectId('61457b4b003f629b7cd39cf5'),\n",
      " 'logM': 7.6,\n",
      " 'z': 0.037}\n",
      "{'Name': 'SDSSJ155334.73+261441.4',\n",
      " 'Note': 'BAT_I',\n",
      " 'Type': 1.9,\n",
      " '_id': ObjectId('61457ff4003f629b7cd39dba'),\n",
      " 'logM': 8.57,\n",
      " 'reference': '2017ApJ...850...74K'}\n",
      "{'Name': 'SDSSJ155440.25+362952.0',\n",
      " 'Note': 'Liuetal2021',\n",
      " '_id': ObjectId('61457b4b003f629b7cd39cfe'),\n",
      " 'logM': 8,\n",
      " 'z': 0.237}\n",
      "{'Name': 'SDSSJ162501.43+241547.3',\n",
      " 'Note': 'Liuetal2021',\n",
      " '_id': ObjectId('61457b4b003f629b7cd39d03'),\n",
      " 'logM': 6.66,\n",
      " 'z': 0.05}\n",
      "{'Name': 'SDSSJ163629.66+410222.4',\n",
      " 'Note': 'Liuetal2021',\n",
      " '_id': ObjectId('61457b4b003f629b7cd39d05'),\n",
      " 'logM': 7,\n",
      " 'z': 0.047}\n",
      "{'Name': 'SDSSJ163852.93+282707.8',\n",
      " 'Note': 'Liuetal2021',\n",
      " '_id': ObjectId('61457b4b003f629b7cd39d06'),\n",
      " 'logM': 9.09,\n",
      " 'z': 2.185}\n",
      "{'Name': 'SDSSJ172322.31+550413.8',\n",
      " 'Note': 'Liuetal2021',\n",
      " '_id': ObjectId('61457b4b003f629b7cd39d08'),\n",
      " 'logM': 8.57,\n",
      " 'z': 0.295}\n",
      "{'Name': 'SDSSJ214613.31+000930.8',\n",
      " 'Note': 'Liuetal2021',\n",
      " '_id': ObjectId('61457b4b003f629b7cd39d0b'),\n",
      " 'logM': 8.3,\n",
      " 'z': 0.622}\n",
      "{'Name': 'SDSSJ222153.87+003054.2',\n",
      " 'Note': 'Liuetal2021',\n",
      " '_id': ObjectId('61457b4b003f629b7cd39d0d'),\n",
      " 'logM': 6.46,\n",
      " 'z': 0.124}\n",
      "{'Name': 'SDSSJ222818.76+220102.9',\n",
      " 'Note': 'Liuetal2021',\n",
      " '_id': ObjectId('61457b4b003f629b7cd39d0e'),\n",
      " 'logM': 9.37,\n",
      " 'z': 2.217}\n",
      "{'Name': 'SDSSJ224448.72+004347.1',\n",
      " 'Note': 'Liuetal2021',\n",
      " '_id': ObjectId('61457b4b003f629b7cd39d0f'),\n",
      " 'logM': 7.8,\n",
      " 'z': 0.637}\n",
      "{'Name': 'SDSSJ225240.37+010958.7',\n",
      " 'Note': 'Liuetal2021',\n",
      " '_id': ObjectId('61457b4b003f629b7cd39d10'),\n",
      " 'logM': 8.2,\n",
      " 'z': 0.533}\n",
      "{'Name': 'SDSSJ233317.38-002303.4',\n",
      " 'Note': 'Liuetal2021',\n",
      " '_id': ObjectId('61457b4b003f629b7cd39d11'),\n",
      " 'logM': 8.3,\n",
      " 'z': 0.513}\n",
      "{'Name': 'SDSSJ233602.98+001728.7',\n",
      " 'Note': 'Liuetal2021',\n",
      " '_id': ObjectId('61457b4b003f629b7cd39d12'),\n",
      " 'logM': 8.26,\n",
      " 'z': 0.243}\n",
      "{'Name': 'SDSSJ235107.43-091318.0',\n",
      " 'Note': 'Liuetal2021',\n",
      " '_id': ObjectId('61457b4b003f629b7cd39d13'),\n",
      " 'logM': 7.9,\n",
      " 'z': 0.354}\n",
      "{'Name': 'SwiftJ2127.4+5654',\n",
      " 'Note': 'BAT_corona',\n",
      " 'Redshift': '0.014 70',\n",
      " 'Type': 'NLS1',\n",
      " '_id': ObjectId('61458143003f629b7cd39e05'),\n",
      " 'logM': 6.34,\n",
      " 'reference': '2021MNRAS.506.4960H'}\n",
      "{'Name': 'UGC03386',\n",
      " 'Note': 'BAT_I',\n",
      " 'Type': 2.0,\n",
      " '_id': ObjectId('61457ff4003f629b7cd39d45'),\n",
      " 'logM': 8.94,\n",
      " 'reference': '2017ApJ...850...74K'}\n",
      "{'Name': 'UGC03601',\n",
      " 'Note': 'BAT_I',\n",
      " 'Type': 1.9,\n",
      " '_id': ObjectId('61457ff4003f629b7cd39d48'),\n",
      " 'logM': 8.6,\n",
      " 'reference': '2017ApJ...850...74K'}\n",
      "{'Name': 'UGC03995A',\n",
      " 'Note': 'BAT_I',\n",
      " 'Type': 2.0,\n",
      " '_id': ObjectId('61457ff4003f629b7cd39d4c'),\n",
      " 'logM': 7.81,\n",
      " 'reference': '2017ApJ...850...74K'}\n",
      "{'Name': 'UGC05881',\n",
      " 'Note': 'BAT_I',\n",
      " 'Type': 2.0,\n",
      " '_id': ObjectId('61457ff4003f629b7cd39d6a'),\n",
      " 'logM': 8.15,\n",
      " 'reference': '2017ApJ...850...74K'}\n",
      "{'Name': 'UGC07064',\n",
      " 'Note': 'BAT_I',\n",
      " 'Type': 1.9,\n",
      " '_id': ObjectId('61457ff4003f629b7cd39d82'),\n",
      " 'logM': 7.53,\n",
      " 'reference': '2017ApJ...850...74K'}\n",
      "{'Name': 'UGC08327NED02',\n",
      " 'Note': 'BAT_I',\n",
      " 'Type': 2.0,\n",
      " '_id': ObjectId('61457ff4003f629b7cd39d9d'),\n",
      " 'logM': 8.67,\n",
      " 'reference': '2017ApJ...850...74K'}\n",
      "{'Name': 'UGC11185NED02',\n",
      " 'Note': 'BAT_I',\n",
      " 'Type': 2.0,\n",
      " '_id': ObjectId('61457ff4003f629b7cd39dc2'),\n",
      " 'logM': 8.11,\n",
      " 'reference': '2017ApJ...850...74K'}\n",
      "{'Name': 'UGC12282',\n",
      " 'Note': 'BAT_I',\n",
      " 'Type': 2.0,\n",
      " '_id': ObjectId('61457ff4003f629b7cd39dd8'),\n",
      " 'logM': 9.8,\n",
      " 'reference': '2017ApJ...850...74K'}\n",
      "{'Name': 'UGC12741',\n",
      " 'Note': 'BAT_I',\n",
      " 'Type': 2.0,\n",
      " '_id': ObjectId('61457ff4003f629b7cd39ddc'),\n",
      " 'logM': 8.69,\n",
      " 'reference': '2017ApJ...850...74K'}\n",
      "{'Name': 'UGC3157',\n",
      " 'Note': 'BAT_I',\n",
      " 'Type': 1.9,\n",
      " '_id': ObjectId('61457ff4003f629b7cd39d3e'),\n",
      " 'logM': 8.04,\n",
      " 'reference': '2017ApJ...850...74K'}\n",
      "{'Name': 'UGC3223',\n",
      " 'Note': 'Liuetal2021',\n",
      " '_id': ObjectId('61457b4b003f629b7cd39cb1'),\n",
      " 'logM': 7.99,\n",
      " 'z': 0.016}\n",
      "{'Name': 'UGC4203',\n",
      " 'Note': 'Liuetal2021',\n",
      " '_id': ObjectId('61457b4b003f629b7cd39cb2'),\n",
      " 'logM': 6.78,\n",
      " 'z': 0.014}\n",
      "{'Name': 'VIIZw073',\n",
      " 'Note': 'BAT_I',\n",
      " 'Type': 2.0,\n",
      " '_id': ObjectId('61457ff4003f629b7cd39d46'),\n",
      " 'logM': 7.61,\n",
      " 'reference': '2017ApJ...850...74K'}\n",
      "{'Name': 'VIIZw292',\n",
      " 'Note': 'BAT_I',\n",
      " 'Type': 2.0,\n",
      " '_id': ObjectId('61457ff4003f629b7cd39d61'),\n",
      " 'logM': 9.15,\n",
      " 'reference': '2017ApJ...850...74K'}\n",
      "{'Name': 'WISEAJ000236.24-002724.6',\n",
      " 'Note': 'Liuetal2021',\n",
      " '_id': ObjectId('61457b4b003f629b7cd39cb3'),\n",
      " 'logM': 8.74,\n",
      " 'z': 0.291}\n",
      "{'Name': 'WISEAJ000904.54-103428.6',\n",
      " 'Note': 'Liuetal2021',\n",
      " '_id': ObjectId('61457b4b003f629b7cd39cb4'),\n",
      " 'logM': 8,\n",
      " 'z': 0.241}\n",
      "{'Name': 'WISEAJ013458.36-091435.4',\n",
      " 'Note': 'Liuetal2021',\n",
      " '_id': ObjectId('61457b4b003f629b7cd39cb8'),\n",
      " 'logM': 8.2,\n",
      " 'z': 0.443}\n",
      "{'Name': 'WISEAJ035301.02-062326.2',\n",
      " 'Note': 'Liuetal2021',\n",
      " '_id': ObjectId('61457b4b003f629b7cd39cbd'),\n",
      " 'logM': 7.6,\n",
      " 'z': 0.076}\n",
      "{'Name': 'WISEAJ083132.25+364617.0',\n",
      " 'Note': 'Liuetal2021',\n",
      " '_id': ObjectId('61457b4b003f629b7cd39cc5'),\n",
      " 'logM': 8.59,\n",
      " 'z': 0.195}\n",
      "{'Name': 'WISEAJ084748.28+182440.0',\n",
      " 'Note': 'Liuetal2021',\n",
      " '_id': ObjectId('61457b4b003f629b7cd39cc6'),\n",
      " 'logM': 7.7,\n",
      " 'z': 0.085}\n",
      "{'Name': 'WISEAJ084957.78+274728.8',\n",
      " 'Note': 'Liuetal2021',\n",
      " '_id': ObjectId('61457b4b003f629b7cd39cc7'),\n",
      " 'logM': 7.9,\n",
      " 'z': 0.299}\n",
      "{'Name': 'WISEAJ090932.02+474730.7',\n",
      " 'Note': 'Liuetal2021',\n",
      " '_id': ObjectId('61457b4b003f629b7cd39cc9'),\n",
      " 'logM': 7.35,\n",
      " 'z': 0.117}\n",
      "{'Name': 'WISEAJ093730.32+260232.1',\n",
      " 'Note': 'Liuetal2021',\n",
      " '_id': ObjectId('61457b4b003f629b7cd39ccc'),\n",
      " 'logM': 7.83,\n",
      " 'z': 0.162}\n",
      "{'Name': 'WISEAJ100323.46+352503.8',\n",
      " 'Note': 'Liuetal2021',\n",
      " '_id': ObjectId('61457b4b003f629b7cd39cd1'),\n",
      " 'logM': 8,\n",
      " 'z': 0.119}\n",
      "{'Name': 'WISEAJ110057.70-005304.4',\n",
      " 'Note': 'Liuetal2021',\n",
      " '_id': ObjectId('61457b4b003f629b7cd39cd6'),\n",
      " 'logM': 8.2,\n",
      " 'z': 0.379}\n",
      "{'Name': 'WISEAJ110423.23+634305.2',\n",
      " 'Note': 'Liuetal2021',\n",
      " '_id': ObjectId('61457b4b003f629b7cd39cd8'),\n",
      " 'logM': 6.8,\n",
      " 'z': 0.164}\n",
      "{'Name': 'WISEAJ110455.17+011856.6',\n",
      " 'Note': 'Liuetal2021',\n",
      " '_id': ObjectId('61457b4b003f629b7cd39cd7'),\n",
      " 'logM': 8.2,\n",
      " 'z': 0.575}\n",
      "{'Name': 'WISEAJ111025.44-000334.1',\n",
      " 'Note': 'Liuetal2021',\n",
      " '_id': ObjectId('61457b4b003f629b7cd39cd9'),\n",
      " 'logM': 7.6,\n",
      " 'z': 0.219}\n",
      "{'Name': 'WISEAJ111829.66+320400.0',\n",
      " 'Note': 'Liuetal2021',\n",
      " '_id': ObjectId('61457b4b003f629b7cd39cdc'),\n",
      " 'logM': 7.7,\n",
      " 'z': 0.366}\n",
      "{'Name': 'WISEAJ113229.14+035729.1',\n",
      " 'Note': 'Liuetal2021',\n",
      " '_id': ObjectId('61457b4b003f629b7cd39cdf'),\n",
      " 'logM': 7.93,\n",
      " 'z': 0.091}\n",
      "{'Name': 'WISEAJ115039.31+363258.3',\n",
      " 'Note': 'Liuetal2021',\n",
      " '_id': ObjectId('61457b4b003f629b7cd39ce1'),\n",
      " 'logM': 7.9,\n",
      " 'z': 0.34}\n",
      "{'Name': 'WISEAJ115227.47+320959.3',\n",
      " 'Note': 'Liuetal2021',\n",
      " '_id': ObjectId('61457b4b003f629b7cd39ce2'),\n",
      " 'logM': 8.1,\n",
      " 'z': 0.374}\n",
      "{'Name': 'WISEAJ125916.74+551507.1',\n",
      " 'Note': 'Liuetal2021',\n",
      " '_id': ObjectId('61457b4b003f629b7cd39ce9'),\n",
      " 'logM': 7.9,\n",
      " 'z': 0.199}\n",
      "{'Name': 'WISEAJ131930.75+675355.4',\n",
      " 'Note': 'Liuetal2021',\n",
      " '_id': ObjectId('61457b4b003f629b7cd39ced'),\n",
      " 'logM': 7.51,\n",
      " 'z': 0.166}\n",
      "{'Name': 'WISEAJ135855.82+493414.0',\n",
      " 'Note': 'Liuetal2021',\n",
      " '_id': ObjectId('61457b4b003f629b7cd39cef'),\n",
      " 'logM': 6.9,\n",
      " 'z': 0.116}\n",
      "{'Name': 'WISEAJ144754.23+283324.1',\n",
      " 'Note': 'Liuetal2021',\n",
      " '_id': ObjectId('61457b4b003f629b7cd39cf3'),\n",
      " 'logM': 8,\n",
      " 'z': 0.163}\n",
      "{'Name': 'WISEAJ153355.99+011029.7',\n",
      " 'Note': 'Liuetal2021',\n",
      " '_id': ObjectId('61457b4b003f629b7cd39cf6'),\n",
      " 'logM': 7.9,\n",
      " 'z': 0.143}\n",
      "{'Name': 'WISEAJ154507.52+170950.8',\n",
      " 'Note': 'Liuetal2021',\n",
      " '_id': ObjectId('61457b4b003f629b7cd39cf9'),\n",
      " 'logM': 7.4,\n",
      " 'z': 0.048}\n",
      "{'Name': 'WISEAJ154529.63+251127.9',\n",
      " 'Note': 'Liuetal2021',\n",
      " '_id': ObjectId('61457b4b003f629b7cd39cfa'),\n",
      " 'logM': 8.12,\n",
      " 'z': 0.117}\n",
      "{'Name': 'WISEAJ155017.23+413902.4',\n",
      " 'Note': 'Liuetal2021',\n",
      " '_id': ObjectId('61457b4b003f629b7cd39cfc'),\n",
      " 'logM': 8.27,\n",
      " 'z': 0.22}\n",
      "{'Name': 'WISEAJ155258.27+273728.5',\n",
      " 'Note': 'Liuetal2021',\n",
      " '_id': ObjectId('61457b4b003f629b7cd39cfd'),\n",
      " 'logM': 8.09,\n",
      " 'z': 0.086}\n",
      "{'Name': 'WISEAJ162415.02+455130.2',\n",
      " 'Note': 'Liuetal2021',\n",
      " '_id': ObjectId('61457b4b003f629b7cd39d02'),\n",
      " 'logM': 8.1,\n",
      " 'z': 0.481}\n",
      "{'Name': 'Was49b',\n",
      " 'Note': 'BAT_I',\n",
      " 'Type': 2.0,\n",
      " '_id': ObjectId('61457ff4003f629b7cd39d8a'),\n",
      " 'logM': 8.33,\n",
      " 'reference': '2017ApJ...850...74K'}\n",
      "{'Name': '[HB89]1415+259',\n",
      " 'Note': 'BAT_I',\n",
      " 'Type': 0.0,\n",
      " '_id': ObjectId('61457ff4003f629b7cd39dad'),\n",
      " 'logM': 9.31,\n",
      " 'reference': '2017ApJ...850...74K'}\n"
     ]
    }
   ],
   "source": [
    "import pprint\n",
    "for x in mycol_mass_db.find({\"logM\": {\"$lt\": 10}}).sort(\"Name\"):\n",
    "    pprint.pprint(x)"
   ]
  },
  {
   "cell_type": "code",
   "execution_count": null,
   "metadata": {},
   "outputs": [],
   "source": []
  },
  {
   "cell_type": "code",
   "execution_count": 85,
   "metadata": {
    "ExecuteTime": {
     "end_time": "2021-09-18T06:14:56.102003Z",
     "start_time": "2021-09-18T06:14:55.991799Z"
    }
   },
   "outputs": [
    {
     "name": "stdout",
     "output_type": "stream",
     "text": [
      "1ES1426+428 8.87 BAT_I\n",
      "1ES1927+654 7.3 Liuetal2021\n",
      "1H0419-577 8.58 Liuetal2021\n",
      "2MASSJ01264811-0839481 8.08 Liuetal2021\n",
      "2MASSJ07451198+3809114 9.1 Liuetal2021\n",
      "2MASSJ09270231+0433080  -  Liuetal2021\n",
      "2MASSJ10022021+4509276 8.7 Liuetal2021\n",
      "2MASSJ11132967+5313393 7.8 Liuetal2021\n",
      "2MASSJ12335916+0842112 8.7 Liuetal2021\n",
      "2MASSJ14284671+1723530 7.6 Liuetal2021\n",
      "2MASSJ14345529+5723449  -  Liuetal2021\n",
      "2MASSJ15361278+0342457 8.2 Liuetal2021\n",
      "2MASSJ15373408+4613585 8 Liuetal2021\n",
      "2MASSJ16011122+4745095 7.9 Liuetal2021\n",
      "2MASSJ16171142+0638333 8 Liuetal2021\n",
      "2MASSJ21020044+0005020 8 Liuetal2021\n",
      "2MASSJ22053771-0711147 8 Liuetal2021\n",
      "2MASXJ00004876-0709117 7.97 BAT_I\n",
      "2MASXJ00032742+2739173 7.85 BAT_I\n",
      "2MASXJ00091156-0036551 8.91 BAT_I\n",
      "2MASXJ00210753-1910056 9.16 BAT_I\n",
      "2MASXJ01073963-1139117 8.08 BAT_I\n",
      "2MASXJ01392400+2924067 8.08 BAT_I\n",
      "2MASXJ02420381+0510061 9.23 BAT_I\n",
      "2MASXJ02485937+2630391 9.15 BAT_I\n",
      "2MASXJ03252346-5635443 9.1 BAT_I\n",
      "2MASXJ03534246+3714077 8.54 BAT_I\n",
      "2MASXJ04332716-5843346 8.5 BAT_I\n",
      "2MASXJ04440903+2813003 8.17 BAT_I\n",
      "2MASXJ05151978+1854515 9.09 BAT_I\n",
      "2MASXJ06411806+3249313 8.12 BAT_I\n",
      "2MASXJ06561197-4919499 8.61 BAT_I\n",
      "2MASXJ07084326-4642494 8.25 BAT_I\n",
      "2MASXJ07595347+2323241 8.4 BAT_I\n",
      "2MASXJ08045299-0108476 8.45 BAT_I\n",
      "2MASXJ08284278+5444333  -  Liuetal2021\n",
      "2MASXJ08434495+3549421 8.45 BAT_I\n",
      "2MASXJ09112999+4528060 7.61 BAT_I\n",
      "2MASXJ09381221+0743398 7.5 Liuetal2021\n",
      "2MASXJ09483841+4030436 7.5 Liuetal2021\n",
      "2MASXJ10215228+4645158 8.32 Liuetal2021\n",
      "2MASXJ10402231-4625264 8.52 BAT_I\n",
      "2MASXJ10520355+1519294 7.9 Liuetal2021\n",
      "2MASXJ10523297+1036205 9.04 BAT_I\n",
      "2MASXJ10594361+6504063 8.45 BAT_I\n",
      "2MASXJ11180325+4506463  -  Liuetal2021\n",
      "2MASXJ11363009+6737042 8.95 BAT_I\n",
      "2MASXJ11383367+2523532 7.82 BAT_I\n",
      "2MASXJ12005792+0648226 8.31 BAT_I\n",
      "2MASXJ12055599+4959561 8.88 BAT_I\n",
      "2MASXJ12111425-3933268 8.57 BAT_I\n",
      "2MASXJ12384342+0927362 8.89 BAT_I\n",
      "2MASXJ13000533+1632151 9.19 BAT_I\n",
      "2MASXJ13105723+0837387 9.02 BAT_I\n",
      "2MASXJ13471874+0210579 8.82 BAT_I\n",
      "2MASXJ13532820-1123055 8.13 BAT_I\n",
      "2MASXJ14104482-4228325 8.27 BAT_I\n",
      "2MASXJ14174289+6141523 9.31 BAT_I\n",
      "2MASXJ14391186+1415215 8.39 BAT_I\n",
      "2MASXJ15064412+0351444 7.49 BAT_I\n",
      "2MASXJ15462424+6929102 9.18 BAT_I\n",
      "2MASXJ16050519+4526348  -  Liuetal2021\n",
      "2MASXJ16303265+3923031 7.96 BAT_I\n",
      "2MASXJ16311554+2352577 8.74 BAT_I\n",
      "2MASXJ16531506+2349431 8.23 BAT_I\n",
      "2MASXJ18241083+1846088 7.98 BAT_I\n",
      "2MASXJ18263239+3251300 7.72 BAT_I\n",
      "2MASXJ18305065+0928414 8.39 BAT_I\n",
      "2MASXJ19471938+4449425 9.01 BAT_I\n",
      "2MASXJ20005575-1810274 8.07 BAT_I\n",
      "2MASXJ20075129-1108346  -  Liuetal2021\n",
      "2MASXJ20101740+4800214 9.48 BAT_I\n",
      "2MASXJ22140917-2557487 8.17 BAT_I\n",
      "2MASXJ22194971+2613277 8.28 BAT_I\n",
      "2MASXJ23222444-0645375 8.27 BAT_I\n",
      "2MASXJ23272195+1524375 9.02 BAT_I\n",
      "3C062 8.43 BAT_I\n",
      "3C109 8.3 BAT_corona\n",
      "3C120 7.75 BAT_corona\n",
      "3C273 8.84 BAT_corona\n",
      "3C382 8.01 BAT_corona\n",
      "3C390.3  -  Liuetal2021\n",
      "3C403 9.15 BAT_I\n",
      "3C433 9.12 BAT_I\n",
      "3C452 8.99 BAT_I\n",
      "4C+23.42 9.43 BAT_I\n",
      "4C+29.30 8.77 BAT_I\n",
      "ARK347 8.18 BAT_I\n",
      "ARP102B 8.92 BAT_I\n",
      "ARP151 8.02 BAT_I\n",
      "Ark120 8.07 BAT_corona\n",
      "B21204+34 8.55 BAT_I\n",
      "B30749+460A 8.69 BAT_I\n",
      "CGCG102-048 8.26 BAT_I\n",
      "CGCG164-019 7.11 BAT_I\n",
      "CGCG187-022 7.75 BAT_I\n",
      "CGCG291-028 8.36 BAT_I\n",
      "CGCG312-012 8.17 BAT_I\n",
      "CGCG367-009 9.82 BAT_I\n",
      "CGCG420-015 8.31 BAT_I\n",
      "CGCG468-002NED01 8.59 BAT_I\n",
      "CenA 7.77 BAT_I_lit\n",
      "CygnusA 9.43 BAT_I_lit\n",
      "ESO025-G002 8.15 BAT_I\n",
      "ESO195-IG021NED03 8.42 BAT_I\n",
      "ESO231-G026 8.81 BAT_I\n",
      "ESO234-IG063 8.11 BAT_I\n",
      "ESO243-G026 7.5 BAT_I\n",
      "ESO244-IG030 7.39 BAT_I\n",
      "ESO297-018 8.45 BAT_I\n",
      "ESO317-G038 7.41 BAT_I\n",
      "ESO323-32 7.56 BAT_I\n",
      "ESO353-G009 7.69 BAT_I\n",
      "ESO354-G004 8.46 BAT_I\n",
      "ESO362-G18 7.65 Liuetal2021\n",
      "ESO362−18 6.25 BAT_corona\n",
      "ESO436-G034 8.07 BAT_I\n",
      "ESO506-G027 8.99 BAT_I\n",
      "ESO509-G038 8.56 BAT_I\n",
      "ESO509-IG066NED01 8.17 BAT_I\n",
      "ESO533-G050 7.84 BAT_I\n",
      "ESO549-G049 8.07 BAT_I\n",
      "ESO553-G022 8.28 BAT_I\n",
      "ESO553-G043 8.05 BAT_I\n",
      "Fairall272 8.14 BAT_I\n",
      "Fairall49 8.17 BAT_I\n",
      "Fairall9 8.41 Liuetal2021\n",
      "Fairall9 8.3 BAT_corona\n",
      "HE1136-2304 7.58 Liuetal2021\n",
      "HE1136-2304 7.62 BAT_I\n",
      "IC0486 8.02 BAT_I\n",
      "IC0751 8.6 BAT_I\n",
      "IC1657 7.3 BAT_I\n",
      "IC2461 7.1 BAT_I\n",
      "IC2637 8.52 BAT_I\n",
      "IC2921 8.63 BAT_I\n",
      "IC751 8.5 Liuetal2021\n",
      "IGRJ14175-4641 8.8 BAT_I\n",
      "IIZw171 7.33 BAT_corona\n",
      "IRAS09149−6206 8.48 BAT_corona\n",
      "IRAS23226-3843 8.23 Liuetal2021\n",
      "KUG1238+278A 8.22 BAT_I\n",
      "LEDA170194 8.16 BAT_I\n",
      "LEDA214543 9.83 BAT_I\n",
      "LEDA38038 7.98 BAT_I\n",
      "M106 7.57 BAT_I\n",
      "M106 7.56 BAT_I_lit\n",
      "M81 8.16 BAT_I\n",
      "M81 7.9 BAT_I_lit\n",
      "MCG+00-09-042 7.82 BAT_I\n",
      "MCG+02-21-013 8.21 BAT_I\n",
      "MCG+02-57-002 9.43 BAT_I\n",
      "MCG+06-16-028 7.34 BAT_I\n",
      "MCG+06-24-008 7.17 BAT_I\n",
      "MCG+08-03-018 8.41 BAT_I\n",
      "MCG+09-19-015NED02 8.58 BAT_I\n",
      "MCG+10-14-025 8.35 BAT_I\n",
      "MCG+10-17-061 8.61 BAT_I\n",
      "MCG+11-11-032 8.35 BAT_I\n",
      "MCG-01-09-045 7.07 BAT_I\n",
      "MCG-01-24-012 7.88 BAT_I\n",
      "MCG-02-08-014 7.79 BAT_I\n",
      "MCG-07-03-007 8.56 BAT_I\n",
      "MR2251−178 7.82 BAT_corona\n",
      "Mrk10 9.0 BAT_I\n",
      "Mrk1018 7.84 Liuetal2021\n",
      "Mrk1148 8.69 BAT_corona\n",
      "Mrk1392 6.88 BAT_corona\n",
      "Mrk1393 8.61 BAT_I\n",
      "Mrk1494  -  Liuetal2021\n",
      "Mrk1501 8.07 BAT_corona\n",
      "Mrk18 7.85 BAT_I\n",
      "Mrk198 7.82 BAT_I\n",
      "Mrk268 8.54 BAT_I\n",
      "Mrk273 9.02 BAT_corona\n",
      "Mrk3 8.95 BAT_corona\n",
      "Mrk348 7.61 BAT_I\n",
      "Mrk359 7.03 BAT_I\n",
      "Mrk359 7.03 BAT_corona\n",
      "Mrk372  -  Liuetal2021\n",
      "Mrk417 8.15 BAT_I\n",
      "Mrk423 8.18 BAT_I\n",
      "Mrk530 8.06 Liuetal2021\n",
      "Mrk590 7.5 Liuetal2021\n",
      "Mrk590 8.54 BAT_I\n",
      "Mrk6 8.18 Liuetal2021\n",
      "Mrk609  -  Liuetal2021\n",
      "Mrk622 7.51 BAT_I\n",
      "Mrk653 8.05 BAT_I\n",
      "Mrk728  -  Liuetal2021\n",
      "Mrk766 6.82 BAT_corona\n",
      "Mrk841 8.76 BAT_corona\n",
      "Mrk883  -  Liuetal2021\n",
      "Mrk915 7.76 BAT_I\n",
      "Mrk915 7.76 BAT_corona\n",
      "Mrk926 8.05 Liuetal2021\n",
      "Mrk926 8.36 BAT_corona\n",
      "Mrk993  -  Liuetal2021\n",
      "NGC1052 8.96 BAT_I\n",
      "NGC1052 8.96 BAT_corona\n",
      "NGC1068 6.93 BAT_I_lit\n",
      "NGC1068 6.75 BAT_corona\n",
      "NGC1097 8.08 Liuetal2021\n",
      "NGC1125 7.34 BAT_I\n",
      "NGC1142 9.25 BAT_I\n",
      "NGC1194 8.12 BAT_I\n",
      "NGC1194 7.83 BAT_I_lit\n",
      "NGC1229 8.27 BAT_I\n",
      "NGC1346  -  Liuetal2021\n",
      "NGC1365 6.65 Liuetal2021\n",
      "NGC1566 6.92 Liuetal2021\n",
      "NGC1566 7.74 BAT_I\n",
      "NGC2110 9.25 BAT_I\n",
      "NGC235A 8.6 BAT_I\n",
      "NGC2617 7.5 Liuetal2021\n",
      "NGC2622  -  Liuetal2021\n",
      "NGC2788A 8.71 BAT_I\n",
      "NGC2885 8.58 BAT_I\n",
      "NGC2992 7.48 Liuetal2021\n",
      "NGC3035 7.69 BAT_I\n",
      "NGC3065 7.95 Liuetal2021\n",
      "NGC3079 8.27 BAT_I\n",
      "NGC3079 6.38 BAT_I_lit\n",
      "NGC3081 8.41 BAT_I\n",
      "NGC3227 7.18 BAT_I_lit\n",
      "NGC3227 7.18 BAT_corona\n",
      "NGC3393 7.52 BAT_I_lit\n",
      "NGC3431 8.12 BAT_I\n",
      "NGC3516 7.49 Liuetal2021\n",
      "NGC3588NED02 8.24 BAT_I\n",
      "NGC3718 9.53 BAT_I\n",
      "NGC3998 9.93 BAT_I\n",
      "NGC3998 8.93 BAT_I_lit\n",
      "NGC3998 8.91 BAT_corona\n",
      "NGC4051 6.36 Liuetal2021\n",
      "NGC4102 8.75 BAT_I\n",
      "NGC4138 7.3 BAT_I\n",
      "NGC4151 7.56 Liuetal2021\n",
      "NGC4151 7.58 BAT_I_lit\n",
      "NGC4151 7.55 BAT_corona\n",
      "NGC4235 8.0 BAT_I\n",
      "NGC4388 6.92 Liuetal2021\n",
      "NGC4388 6.99 BAT_I\n",
      "NGC4388 6.94 BAT_I_lit\n",
      "NGC4395 5.56 Liuetal2021\n",
      "NGC4507 7.65 Liuetal2021\n",
      "NGC4507 7.9 BAT_I\n",
      "NGC454 6.23 Liuetal2021\n",
      "NGC454E 8.52 BAT_I\n",
      "NGC4579 7.77 BAT_corona\n",
      "NGC4593 6.88 BAT_corona\n",
      "NGC4619 7.96 BAT_I\n",
      "NGC4686 9.8 BAT_I\n",
      "NGC4785 7.99 BAT_corona\n",
      "NGC4939  -  Liuetal2021\n",
      "NGC4939 7.52 BAT_I\n",
      "NGC4941 7.03 BAT_I\n",
      "NGC4992 8.54 BAT_I\n",
      "NGC5033 7.86 BAT_I\n",
      "NGC5100NED02 8.51 BAT_I\n",
      "NGC513 7.89 BAT_I\n",
      "NGC5231 7.95 BAT_I\n",
      "NGC5252 8.87 BAT_I\n",
      "NGC5252 9.0 BAT_I_lit\n",
      "NGC526A 8.17 BAT_I\n",
      "NGC5273 7.11 BAT_I\n",
      "NGC5283 8.87 BAT_I\n",
      "NGC5290 7.76 BAT_I\n",
      "NGC5548 7.51 Liuetal2021\n",
      "NGC5610 7.81 BAT_I\n",
      "NGC5674 7.65 BAT_I\n",
      "NGC5683  -  Liuetal2021\n",
      "NGC5728 8.07 BAT_I\n",
      "NGC5899 8.66 BAT_I\n",
      "NGC5995 8.64 BAT_I\n",
      "NGC612 8.99 BAT_I\n",
      "NGC6232 7.43 BAT_I\n",
      "NGC6240 9.2 BAT_I_lit\n",
      "NGC6300 7 Liuetal2021\n",
      "NGC7130 7.61 BAT_I\n",
      "NGC7172 8.45 BAT_I\n",
      "NGC7314 7.24 BAT_I\n",
      "NGC7314 7.24 BAT_corona\n",
      "NGC7469 7.32 Liuetal2021\n",
      "NGC7469 6.96 BAT_corona\n",
      "NGC7479 7.53 BAT_I\n",
      "NGC7582 7.74 Liuetal2021\n",
      "NGC7582 7.74 BAT_I_lit\n",
      "NGC7582 7.67 BAT_corona\n",
      "NGC7674 7.56 Liuetal2021\n",
      "NGC788 8.21 BAT_I\n",
      "NGC931 7.64 BAT_corona\n",
      "NGC973 8.86 BAT_I\n",
      "PG1535+547 7.34 Liuetal2021\n",
      "SBS0915+556 7.72 BAT_I\n",
      "SDSSJ002311.06+003517.5 8.2 Liuetal2021\n",
      "SDSSJ015957.62+003310.5 8.15 Liuetal2021\n",
      "SDSSJ022556.07+003026.7 8.2 Liuetal2021\n",
      "SDSSJ022652.24-003916.5 8.6 Liuetal2021\n",
      "SDSSJ030510.60-010431.6 7.35 Liuetal2021\n",
      "SDSSJ080020.98+263648.8 7.12 Liuetal2021\n",
      "SDSSJ081319.34+460849.5 7.6 Liuetal2021\n",
      "SDSSJ081726.41+101210.1 7.5 Liuetal2021\n",
      "SDSSJ082323.89+422048.3 8.09 Liuetal2021\n",
      "SDSSJ082942.67+415436.9 8.49 Liuetal2021\n",
      "SDSSJ090902.35+133019.4 7.3 Liuetal2021\n",
      "SDSSJ091531.04+481407.7 7.79 Liuetal2021\n",
      "SDSSJ094810.92+005057.8 7.4 Liuetal2021\n",
      "SDSSJ101152.98+544206.4 8.4 Liuetal2021\n",
      "SDSSJ104705.16+544405.8 7.56 Liuetal2021\n",
      "SDSSJ111536.57+054449.7 7.57 Liuetal2021\n",
      "SDSSJ113355.93+670107.0 8.17 Liuetal2021\n",
      "SDSSJ113915.13+253557.9 8.87 BAT_I\n",
      "SDSSJ114921.52+532013.4 8.68 BAT_I\n",
      "SDSSJ120447.91+170256.8 8 Liuetal2021\n",
      "SDSSJ120544.68+342252.4 9.73 Liuetal2021\n",
      "SDSSJ122550.30+510846.3 8.62 Liuetal2021\n",
      "SDSSJ125258.72+591832.7  -  Liuetal2021\n",
      "SDSSJ125403.78+491452.8 8.26 Liuetal2021\n",
      "SDSSJ130716.99+450645.3  -  Liuetal2021\n",
      "SDSSJ131615.95+301552.2 7.06 Liuetal2021\n",
      "SDSSJ131737.93+102427.7  -  Liuetal2021\n",
      "SDSSJ132457.29+480241.2 8 Liuetal2021\n",
      "SDSSJ141324.27+530527.0 8.2 Liuetal2021\n",
      "SDSSJ152533.60+292012.1 8 Liuetal2021\n",
      "SDSSJ153308.02+443208.4 7.6 Liuetal2021\n",
      "SDSSJ154953.60+112148.3  -  Liuetal2021\n",
      "SDSSJ155334.73+261441.4 8.57 BAT_I\n",
      "SDSSJ155440.25+362952.0 8 Liuetal2021\n",
      "SDSSJ162501.43+241547.3 6.66 Liuetal2021\n",
      "SDSSJ162752.18+541912.5  -  Liuetal2021\n",
      "SDSSJ163629.66+410222.4 7 Liuetal2021\n",
      "SDSSJ163852.93+282707.8 9.09 Liuetal2021\n",
      "SDSSJ171353.85+273626.8  -  Liuetal2021\n",
      "SDSSJ172322.31+550413.8 8.57 Liuetal2021\n",
      "SDSSJ214613.31+000930.8 8.3 Liuetal2021\n",
      "SDSSJ222153.87+003054.2 6.46 Liuetal2021\n",
      "SDSSJ222818.76+220102.9 9.37 Liuetal2021\n",
      "SDSSJ224448.72+004347.1 7.8 Liuetal2021\n",
      "SDSSJ225240.37+010958.7 8.2 Liuetal2021\n",
      "SDSSJ233317.38-002303.4 8.3 Liuetal2021\n",
      "SDSSJ233602.98+001728.7 8.26 Liuetal2021\n",
      "SDSSJ235107.43-091318.0 7.9 Liuetal2021\n",
      "SwiftJ2127.4+5654 6.34 BAT_corona\n",
      "UGC03386 8.94 BAT_I\n",
      "UGC03601 8.6 BAT_I\n",
      "UGC03995A 7.81 BAT_I\n",
      "UGC05881 8.15 BAT_I\n",
      "UGC07064 7.53 BAT_I\n",
      "UGC08327NED02 8.67 BAT_I\n",
      "UGC11185NED02 8.11 BAT_I\n",
      "UGC12282 9.8 BAT_I\n",
      "UGC12741 8.69 BAT_I\n",
      "UGC3157 8.04 BAT_I\n",
      "UGC3223 7.99 Liuetal2021\n",
      "UGC4203 6.78 Liuetal2021\n",
      "VIIZw073 7.61 BAT_I\n",
      "VIIZw292 9.15 BAT_I\n",
      "WISEAJ000236.24-002724.6 8.74 Liuetal2021\n",
      "WISEAJ000904.54-103428.6 8 Liuetal2021\n",
      "WISEAJ004339.35+134436.3  -  Liuetal2021\n",
      "WISEAJ013458.36-091435.4 8.2 Liuetal2021\n",
      "WISEAJ035301.02-062326.2 7.6 Liuetal2021\n",
      "WISEAJ083132.25+364617.0 8.59 Liuetal2021\n",
      "WISEAJ084748.28+182440.0 7.7 Liuetal2021\n",
      "WISEAJ084957.78+274728.8 7.9 Liuetal2021\n",
      "WISEAJ090932.02+474730.7 7.35 Liuetal2021\n",
      "WISEAJ093730.32+260232.1 7.83 Liuetal2021\n",
      "WISEAJ100323.46+352503.8 8 Liuetal2021\n",
      "WISEAJ110057.70-005304.4 8.2 Liuetal2021\n",
      "WISEAJ110423.23+634305.2 6.8 Liuetal2021\n",
      "WISEAJ110455.17+011856.6 8.2 Liuetal2021\n",
      "WISEAJ111025.44-000334.1 7.6 Liuetal2021\n",
      "WISEAJ111829.66+320400.0 7.7 Liuetal2021\n",
      "WISEAJ112637.73+513423.0  -  Liuetal2021\n",
      "WISEAJ113229.14+035729.1 7.93 Liuetal2021\n",
      "WISEAJ115039.31+363258.3 7.9 Liuetal2021\n",
      "WISEAJ115227.47+320959.3 8.1 Liuetal2021\n",
      "WISEAJ125916.74+551507.1 7.9 Liuetal2021\n",
      "WISEAJ131930.75+675355.4 7.51 Liuetal2021\n",
      "WISEAJ135855.82+493414.0 6.9 Liuetal2021\n",
      "WISEAJ144754.23+283324.1 8 Liuetal2021\n",
      "WISEAJ153355.99+011029.7 7.9 Liuetal2021\n",
      "WISEAJ154507.52+170950.8 7.4 Liuetal2021\n",
      "WISEAJ154529.63+251127.9 8.12 Liuetal2021\n",
      "WISEAJ155017.23+413902.4 8.27 Liuetal2021\n",
      "WISEAJ155258.27+273728.5 8.09 Liuetal2021\n",
      "WISEAJ162415.02+455130.2 8.1 Liuetal2021\n",
      "Was49b 8.33 BAT_I\n",
      "[HB89]1415+259 9.31 BAT_I\n"
     ]
    }
   ],
   "source": [
    "for x in mycol_mass_db.find().sort(\"Name\"):\n",
    "    print(x['Name'],x['logM'],x['Note'])"
   ]
  },
  {
   "cell_type": "code",
   "execution_count": 15,
   "metadata": {
    "ExecuteTime": {
     "end_time": "2021-10-10T05:43:11.329454Z",
     "start_time": "2021-10-10T05:43:11.315408Z"
    }
   },
   "outputs": [
    {
     "name": "stdout",
     "output_type": "stream",
     "text": [
      "mass count is = 2\n"
     ]
    }
   ],
   "source": [
    "print(\"mass count is =\", mycol_mass_db.count_documents({\"Name\": \"NGC4939\"}))"
   ]
  },
  {
   "cell_type": "markdown",
   "metadata": {},
   "source": [
    "# find"
   ]
  },
  {
   "cell_type": "code",
   "execution_count": 16,
   "metadata": {
    "ExecuteTime": {
     "end_time": "2021-10-10T05:43:59.595825Z",
     "start_time": "2021-10-10T05:43:59.590555Z"
    }
   },
   "outputs": [
    {
     "name": "stdout",
     "output_type": "stream",
     "text": [
      "{'_id': ObjectId('61457b4b003f629b7cd39ca9'), 'Name': 'NGC4939', 'z': 0.01, 'logM': ' - ', 'Note': 'Liuetal2021'}\n",
      "{'_id': ObjectId('61457ff4003f629b7cd39d99'), 'Name': 'NGC4939', 'logM': 7.52, 'Type': 2.0, 'Note': 'BAT_I', 'reference': '2017ApJ...850...74K'}\n"
     ]
    }
   ],
   "source": [
    "for x in mycol_mass_db.find({\"Name\": \"NGC4939\"}):\n",
    "    print(x)"
   ]
  },
  {
   "cell_type": "code",
   "execution_count": null,
   "metadata": {},
   "outputs": [],
   "source": []
  }
 ],
 "metadata": {
  "kernelspec": {
   "display_name": "Python 3",
   "language": "python",
   "name": "python3"
  },
  "language_info": {
   "codemirror_mode": {
    "name": "ipython",
    "version": 3
   },
   "file_extension": ".py",
   "mimetype": "text/x-python",
   "name": "python",
   "nbconvert_exporter": "python",
   "pygments_lexer": "ipython3",
   "version": "3.8.5"
  },
  "latex_envs": {
   "LaTeX_envs_menu_present": true,
   "autocomplete": true,
   "bibliofile": "biblio.bib",
   "cite_by": "apalike",
   "current_citInitial": 1,
   "eqLabelWithNumbers": true,
   "eqNumInitial": 1,
   "hotkeys": {
    "equation": "Ctrl-E",
    "itemize": "Ctrl-I"
   },
   "labels_anchors": false,
   "latex_user_defs": false,
   "report_style_numbering": false,
   "user_envs_cfg": false
  },
  "toc": {
   "nav_menu": {},
   "number_sections": true,
   "sideBar": true,
   "skip_h1_title": false,
   "toc_cell": false,
   "toc_position": {
    "height": "508px",
    "left": "0px",
    "right": "1043px",
    "top": "158px",
    "width": "212px"
   },
   "toc_section_display": "block",
   "toc_window_display": true
  }
 },
 "nbformat": 4,
 "nbformat_minor": 2
}
