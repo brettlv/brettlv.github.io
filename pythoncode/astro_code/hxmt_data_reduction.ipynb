{
 "cells": [
  {
   "cell_type": "code",
   "execution_count": null,
   "metadata": {
    "collapsed": true
   },
   "outputs": [],
   "source": [
    "# herspgen"
   ]
  },
  {
   "cell_type": "code",
   "execution_count": null,
   "metadata": {
    "collapsed": true
   },
   "outputs": [],
   "source": [
    "import os\n",
    "import numpy as np\n",
    "for i in np.arange(18): \n",
    "    if i!=16:\n",
    "        #os.system('herspgen phafile=hespec_g%d_%d.pha '%(i,i)+'attfile=../ACS/HXMT_P010133000101_Att_FFFFFF_V1_L1P.FITS outfile=hersp%d.fits '%i+'ra=-1 dec=-91')\n",
    "        print('herspgen phafile=hespec_g%d_%d.pha '%(i,i)+'attfile=../ACS/HXMT_P010133000101_Att_FFFFFF_V1_L1P.FITS outfile=hersp%d.fits '%i+'ra=-1 dec=-91')"
   ]
  },
  {
   "cell_type": "code",
   "execution_count": null,
   "metadata": {
    "collapsed": true
   },
   "outputs": [],
   "source": []
  },
  {
   "cell_type": "code",
   "execution_count": 1,
   "metadata": {
    "ExecuteTime": {
     "end_time": "2019-07-27T17:42:09.830126Z",
     "start_time": "2019-07-27T17:42:08.716286Z"
    },
    "collapsed": true
   },
   "outputs": [],
   "source": [
    "import pyfits"
   ]
  },
  {
   "cell_type": "code",
   "execution_count": 2,
   "metadata": {
    "ExecuteTime": {
     "end_time": "2019-07-27T17:42:22.024533Z",
     "start_time": "2019-07-27T17:42:22.006382Z"
    },
    "collapsed": false
   },
   "outputs": [
    {
     "name": "stderr",
     "output_type": "stream",
     "text": [
      "/Users/brettlv/anaconda3/lib/python3.6/site-packages/pyfits/card.py:704: UserWarning: The following header keyword is invalid or follows an unrecognized non-standard convention:\n",
      "CORVALUE = '8,INDEF'                                                            \n",
      "  self._image)\n",
      "/Users/brettlv/anaconda3/lib/python3.6/site-packages/pyfits/card.py:704: UserWarning: The following header keyword is invalid or follows an unrecognized non-standard convention:\n",
      "ELVVALUE = '10,INDEF'                                                           \n",
      "  self._image)\n",
      "/Users/brettlv/anaconda3/lib/python3.6/site-packages/pyfits/card.py:704: UserWarning: The following header keyword is invalid or follows an unrecognized non-standard convention:\n",
      "SAA_FLAG = '0'                                                                  \n",
      "  self._image)\n",
      "/Users/brettlv/anaconda3/lib/python3.6/site-packages/pyfits/card.py:704: UserWarning: The following header keyword is invalid or follows an unrecognized non-standard convention:\n",
      "T_SAAVAL = '300,INDEF'                                                          \n",
      "  self._image)\n",
      "/Users/brettlv/anaconda3/lib/python3.6/site-packages/pyfits/card.py:704: UserWarning: The following header keyword is invalid or follows an unrecognized non-standard convention:\n",
      "TN_SAAVA = '300,INDEF'                                                          \n",
      "  self._image)\n",
      "/Users/brettlv/anaconda3/lib/python3.6/site-packages/pyfits/card.py:704: UserWarning: The following header keyword is invalid or follows an unrecognized non-standard convention:\n",
      "MOON_ANG = '30,INDEF'                                                           \n",
      "  self._image)\n",
      "/Users/brettlv/anaconda3/lib/python3.6/site-packages/pyfits/card.py:704: UserWarning: The following header keyword is invalid or follows an unrecognized non-standard convention:\n",
      "ANG_DIST = 'INDEF,0.05'                                                         \n",
      "  self._image)\n"
     ]
    }
   ],
   "source": [
    "hdu=pyfits.open('/Users/brettlv/helcnet.fits')"
   ]
  },
  {
   "cell_type": "code",
   "execution_count": null,
   "metadata": {
    "collapsed": true
   },
   "outputs": [],
   "source": []
  },
  {
   "cell_type": "code",
   "execution_count": 10,
   "metadata": {
    "ExecuteTime": {
     "end_time": "2019-07-27T17:45:56.648383Z",
     "start_time": "2019-07-27T17:45:56.625555Z"
    },
    "collapsed": false
   },
   "outputs": [
    {
     "name": "stderr",
     "output_type": "stream",
     "text": [
      "/Users/brettlv/anaconda3/lib/python3.6/site-packages/pyfits/card.py:704: UserWarning: The following header keyword is invalid or follows an unrecognized non-standard convention:\n",
      "CORVALUE = '8,INDEF'                                                            \n",
      "  self._image)\n",
      "/Users/brettlv/anaconda3/lib/python3.6/site-packages/pyfits/card.py:704: UserWarning: The following header keyword is invalid or follows an unrecognized non-standard convention:\n",
      "ELVVALUE = '10,INDEF'                                                           \n",
      "  self._image)\n",
      "/Users/brettlv/anaconda3/lib/python3.6/site-packages/pyfits/card.py:704: UserWarning: The following header keyword is invalid or follows an unrecognized non-standard convention:\n",
      "SAA_FLAG = '0'                                                                  \n",
      "  self._image)\n",
      "/Users/brettlv/anaconda3/lib/python3.6/site-packages/pyfits/card.py:704: UserWarning: The following header keyword is invalid or follows an unrecognized non-standard convention:\n",
      "T_SAAVAL = '300,INDEF'                                                          \n",
      "  self._image)\n",
      "/Users/brettlv/anaconda3/lib/python3.6/site-packages/pyfits/card.py:704: UserWarning: The following header keyword is invalid or follows an unrecognized non-standard convention:\n",
      "TN_SAAVA = '300,INDEF'                                                          \n",
      "  self._image)\n",
      "/Users/brettlv/anaconda3/lib/python3.6/site-packages/pyfits/card.py:704: UserWarning: The following header keyword is invalid or follows an unrecognized non-standard convention:\n",
      "MOON_ANG = '30,INDEF'                                                           \n",
      "  self._image)\n",
      "/Users/brettlv/anaconda3/lib/python3.6/site-packages/pyfits/card.py:704: UserWarning: The following header keyword is invalid or follows an unrecognized non-standard convention:\n",
      "ANG_DIST = 'INDEF,0.05'                                                         \n",
      "  self._image)\n"
     ]
    }
   ],
   "source": [
    "hdu=pyfits.open('/Users/brettlv/helc_g0_0-17.lc')"
   ]
  },
  {
   "cell_type": "code",
   "execution_count": 11,
   "metadata": {
    "ExecuteTime": {
     "end_time": "2019-07-27T17:45:57.409195Z",
     "start_time": "2019-07-27T17:45:57.403620Z"
    },
    "collapsed": false
   },
   "outputs": [
    {
     "name": "stdout",
     "output_type": "stream",
     "text": [
      "Filename: /Users/brettlv/helc_g0_0-17.lc\n",
      "No.    Name         Type      Cards   Dimensions   Format\n",
      "0    PRIMARY     PrimaryHDU       6   ()              \n",
      "1    COUNTS      BinTableHDU    188   164R x 5C    [1D, 1E, 1E, 1E, 1E]   \n",
      "2    GTI0        BinTableHDU     15   2R x 2C      [1D, 1D]   \n",
      "3    GTI1        BinTableHDU     15   2R x 2C      [1D, 1D]   \n",
      "4    GTI2        BinTableHDU     15   2R x 2C      [1D, 1D]   \n",
      "5    GTI3        BinTableHDU     15   2R x 2C      [1D, 1D]   \n",
      "6    GTIDesc     BinTableHDU     30   18R x 7C     [1I, 1B, 1B, 1E, 1E, 1B, 1X]   \n"
     ]
    }
   ],
   "source": [
    "hdu.info()"
   ]
  },
  {
   "cell_type": "code",
   "execution_count": 12,
   "metadata": {
    "ExecuteTime": {
     "end_time": "2019-07-27T17:46:00.104867Z",
     "start_time": "2019-07-27T17:46:00.073581Z"
    },
    "collapsed": false
   },
   "outputs": [
    {
     "data": {
      "text/plain": [
       "ColDefs(\n",
       "    name = 'TIME'; format = '1D'; unit = 's'\n",
       "    name = 'COUNTS'; format = '1E'; unit = 'counts'\n",
       "    name = 'FRACEXP'; format = '1E'\n",
       "    name = 'ERROR'; format = '1E'; unit = 'counts'\n",
       "    name = 'DEADC'; format = '1E'\n",
       ")"
      ]
     },
     "execution_count": 12,
     "metadata": {},
     "output_type": "execute_result"
    }
   ],
   "source": [
    "hdu[1].data.columns"
   ]
  },
  {
   "cell_type": "code",
   "execution_count": 14,
   "metadata": {
    "ExecuteTime": {
     "end_time": "2019-07-27T17:46:27.597753Z",
     "start_time": "2019-07-27T17:46:27.564680Z"
    },
    "collapsed": false
   },
   "outputs": [
    {
     "data": {
      "text/plain": [
       "[<matplotlib.lines.Line2D at 0x107f2f7f0>]"
      ]
     },
     "execution_count": 14,
     "metadata": {},
     "output_type": "execute_result"
    }
   ],
   "source": [
    "import matplotlib.pyplot as plt\n",
    "\n",
    "plt.plot(hdu[1].data['TIME'],hdu[1].data['COUNTs'])"
   ]
  },
  {
   "cell_type": "code",
   "execution_count": 15,
   "metadata": {
    "ExecuteTime": {
     "end_time": "2019-07-27T17:46:28.983596Z",
     "start_time": "2019-07-27T17:46:28.806829Z"
    },
    "collapsed": false
   },
   "outputs": [
    {
     "data": {
      "image/png": "[encoded data removed]",
      "text/plain": [
       "<Figure size 432x288 with 1 Axes>"
      ]
     },
     "metadata": {},
     "output_type": "display_data"
    }
   ],
   "source": [
    "plt.show()"
   ]
  },
  {
   "cell_type": "code",
   "execution_count": null,
   "metadata": {
    "collapsed": true
   },
   "outputs": [],
   "source": []
  }
 ],
 "metadata": {
  "kernelspec": {
   "display_name": "Python 3",
   "language": "python",
   "name": "python3"
  },
  "language_info": {
   "codemirror_mode": {
    "name": "ipython",
    "version": 3
   },
   "file_extension": ".py",
   "mimetype": "text/x-python",
   "name": "python",
   "nbconvert_exporter": "python",
   "pygments_lexer": "ipython3",
   "version": "3.6.0"
  },
  "latex_envs": {
   "LaTeX_envs_menu_present": true,
   "autocomplete": true,
   "bibliofile": "biblio.bib",
   "cite_by": "apalike",
   "current_citInitial": 1,
   "eqLabelWithNumbers": true,
   "eqNumInitial": 1,
   "hotkeys": {
    "equation": "Ctrl-E",
    "itemize": "Ctrl-I"
   },
   "labels_anchors": false,
   "latex_user_defs": false,
   "report_style_numbering": false,
   "user_envs_cfg": false
  },
  "toc": {
   "nav_menu": {},
   "number_sections": true,
   "sideBar": true,
   "skip_h1_title": false,
   "toc_cell": false,
   "toc_position": {},
   "toc_section_display": "block",
   "toc_window_display": false
  }
 },
 "nbformat": 4,
 "nbformat_minor": 2
}
