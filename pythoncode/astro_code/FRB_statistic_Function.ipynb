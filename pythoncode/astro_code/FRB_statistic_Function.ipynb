{
 "cells": [
  {
   "cell_type": "code",
   "execution_count": 1,
   "id": "a212bc21",
   "metadata": {
    "ExecuteTime": {
     "end_time": "2022-09-01T07:07:23.463028Z",
     "start_time": "2022-09-01T07:07:22.441189Z"
    }
   },
   "outputs": [],
   "source": [
    "from astropy.io import fits\n",
    "import time\n",
    "#import urllib2# python2\n",
    "import urllib#python3\n",
    "\n",
    "import datetime\n",
    "#from itertools import ifilter python2\n",
    "from collections import Counter, defaultdict\n",
    "import xml.etree.ElementTree as ET\n",
    "import h5py\n",
    "from bs4 import BeautifulSoup\n",
    "import matplotlib.pylab as plt\n",
    "import pandas as pd\n",
    "import numpy as np\n",
    "#import bibtexparser\n",
    "import astropy.coordinates as coord\n",
    "from astropy import units as u\n",
    "from astropy.coordinates import SkyCoord\n",
    "\n",
    "pd.set_option('mode.chained_assignment','warn')"
   ]
  },
  {
   "cell_type": "code",
   "execution_count": 17,
   "id": "70038678",
   "metadata": {
    "ExecuteTime": {
     "end_time": "2022-09-01T07:22:59.702684Z",
     "start_time": "2022-09-01T07:22:59.696389Z"
    }
   },
   "outputs": [],
   "source": [
    "def drop_index(data):\n",
    "    data=data.reset_index(drop=True)\n",
    "    return data"
   ]
  },
  {
   "cell_type": "code",
   "execution_count": null,
   "id": "4656c28b",
   "metadata": {},
   "outputs": [],
   "source": []
  },
  {
   "cell_type": "code",
   "execution_count": 34,
   "id": "4341721a",
   "metadata": {
    "ExecuteTime": {
     "end_time": "2022-09-01T07:29:20.948732Z",
     "start_time": "2022-09-01T07:29:20.944993Z"
    }
   },
   "outputs": [],
   "source": [
    "FRB_cat_path='/Volumes/ExtremeSSD/Papers_classification/FRB/FRB_statistic/FRBcatalogue220807.csv'"
   ]
  },
  {
   "cell_type": "code",
   "execution_count": 35,
   "id": "20dccc65",
   "metadata": {
    "ExecuteTime": {
     "end_time": "2022-09-01T07:29:21.289118Z",
     "start_time": "2022-09-01T07:29:21.264014Z"
    }
   },
   "outputs": [],
   "source": [
    "FRB_cat_220807=pd.read_csv(FRB_cat_path)"
   ]
  },
  {
   "cell_type": "code",
   "execution_count": 36,
   "id": "d2bb3032",
   "metadata": {
    "ExecuteTime": {
     "end_time": "2022-09-01T07:29:21.760687Z",
     "start_time": "2022-09-01T07:29:21.749089Z"
    }
   },
   "outputs": [
    {
     "data": {
      "text/plain": [
       "Index(['frb', 'utc', 'mjd', 'telescope', 'ra', 'dec', 'l', 'b', 'frequency',\n",
       "       'dm', 'flux', 'width', 'fluence', 'snr', 'reference', 'redshift'],\n",
       "      dtype='object')"
      ]
     },
     "execution_count": 36,
     "metadata": {},
     "output_type": "execute_result"
    }
   ],
   "source": [
    "FRB_cat_220807.columns"
   ]
  },
  {
   "cell_type": "code",
   "execution_count": 37,
   "id": "beda10bd",
   "metadata": {
    "ExecuteTime": {
     "end_time": "2022-09-01T07:29:22.506768Z",
     "start_time": "2022-09-01T07:29:22.482287Z"
    }
   },
   "outputs": [
    {
     "data": {
      "text/html": [
       "<div>\n",
       "<style scoped>\n",
       "    .dataframe tbody tr th:only-of-type {\n",
       "        vertical-align: middle;\n",
       "    }\n",
       "\n",
       "    .dataframe tbody tr th {\n",
       "        vertical-align: top;\n",
       "    }\n",
       "\n",
       "    .dataframe thead th {\n",
       "        text-align: right;\n",
       "    }\n",
       "</style>\n",
       "<table border=\"1\" class=\"dataframe\">\n",
       "  <thead>\n",
       "    <tr style=\"text-align: right;\">\n",
       "      <th></th>\n",
       "      <th>frb</th>\n",
       "      <th>utc</th>\n",
       "      <th>mjd</th>\n",
       "      <th>telescope</th>\n",
       "      <th>ra</th>\n",
       "      <th>dec</th>\n",
       "      <th>l</th>\n",
       "      <th>b</th>\n",
       "      <th>frequency</th>\n",
       "      <th>dm</th>\n",
       "      <th>flux</th>\n",
       "      <th>width</th>\n",
       "      <th>fluence</th>\n",
       "      <th>snr</th>\n",
       "      <th>reference</th>\n",
       "      <th>redshift</th>\n",
       "    </tr>\n",
       "  </thead>\n",
       "  <tbody>\n",
       "    <tr>\n",
       "      <th>0</th>\n",
       "      <td>FRB 20010125A</td>\n",
       "      <td>2001-01-25 0:29:16</td>\n",
       "      <td>51934.02032</td>\n",
       "      <td>Parkes</td>\n",
       "      <td>19:06:53</td>\n",
       "      <td>-40:37:14</td>\n",
       "      <td>356.64</td>\n",
       "      <td>-20.02</td>\n",
       "      <td>-</td>\n",
       "      <td>790.3</td>\n",
       "      <td>0.54</td>\n",
       "      <td>-</td>\n",
       "      <td>-</td>\n",
       "      <td>-</td>\n",
       "      <td>https://www.wis-tns.org/object/20010125a</td>\n",
       "      <td>0.7083</td>\n",
       "    </tr>\n",
       "    <tr>\n",
       "      <th>1</th>\n",
       "      <td>FRB 20010305A</td>\n",
       "      <td>2001-03-05 12:29:16</td>\n",
       "      <td>51973.52032</td>\n",
       "      <td>Parkes</td>\n",
       "      <td>4:57:20</td>\n",
       "      <td>-52:36:25</td>\n",
       "      <td>260.07</td>\n",
       "      <td>-38.35</td>\n",
       "      <td>1374</td>\n",
       "      <td>350.0</td>\n",
       "      <td>0.42</td>\n",
       "      <td>9</td>\n",
       "      <td>3.78</td>\n",
       "      <td>10.2</td>\n",
       "      <td>https://arxiv.org/abs/2004.04601</td>\n",
       "      <td>0.341</td>\n",
       "    </tr>\n",
       "    <tr>\n",
       "      <th>2</th>\n",
       "      <td>FRB 20010312A</td>\n",
       "      <td>2001-03-12 11:06:48</td>\n",
       "      <td>51980.46306</td>\n",
       "      <td>Parkes</td>\n",
       "      <td>5:26:55</td>\n",
       "      <td>-64:56:19</td>\n",
       "      <td>274.72</td>\n",
       "      <td>-33.30</td>\n",
       "      <td>-</td>\n",
       "      <td>1187.0</td>\n",
       "      <td>0.25</td>\n",
       "      <td>-</td>\n",
       "      <td>-</td>\n",
       "      <td>-</td>\n",
       "      <td>https://www.wis-tns.org/object/20010312a</td>\n",
       "      <td>1.0897</td>\n",
       "    </tr>\n",
       "    <tr>\n",
       "      <th>3</th>\n",
       "      <td>FRB 20010621A</td>\n",
       "      <td>2001-06-21 13:02:11</td>\n",
       "      <td>52081.54318</td>\n",
       "      <td>Parkes</td>\n",
       "      <td>18:52:05</td>\n",
       "      <td>-8:29:35</td>\n",
       "      <td>25.43</td>\n",
       "      <td>-4.00</td>\n",
       "      <td>-</td>\n",
       "      <td>745.0</td>\n",
       "      <td>0.41</td>\n",
       "      <td>-</td>\n",
       "      <td>-</td>\n",
       "      <td>-</td>\n",
       "      <td>https://www.wis-tns.org/object/20010621a</td>\n",
       "      <td>0.4454</td>\n",
       "    </tr>\n",
       "    <tr>\n",
       "      <th>4</th>\n",
       "      <td>FRB 20010724A</td>\n",
       "      <td>2001-07-24 19:50:02</td>\n",
       "      <td>52114.82641</td>\n",
       "      <td>Parkes</td>\n",
       "      <td>1:18:06</td>\n",
       "      <td>-75:12:18</td>\n",
       "      <td>300.65</td>\n",
       "      <td>-41.81</td>\n",
       "      <td>-</td>\n",
       "      <td>375.0</td>\n",
       "      <td>30</td>\n",
       "      <td>-</td>\n",
       "      <td>-</td>\n",
       "      <td>-</td>\n",
       "      <td>https://www.wis-tns.org/object/20010724a</td>\n",
       "      <td>0.369</td>\n",
       "    </tr>\n",
       "  </tbody>\n",
       "</table>\n",
       "</div>"
      ],
      "text/plain": [
       "             frb                  utc          mjd telescope        ra  \\\n",
       "0  FRB 20010125A   2001-01-25 0:29:16  51934.02032    Parkes  19:06:53   \n",
       "1  FRB 20010305A  2001-03-05 12:29:16  51973.52032    Parkes   4:57:20   \n",
       "2  FRB 20010312A  2001-03-12 11:06:48  51980.46306    Parkes   5:26:55   \n",
       "3  FRB 20010621A  2001-06-21 13:02:11  52081.54318    Parkes  18:52:05   \n",
       "4  FRB 20010724A  2001-07-24 19:50:02  52114.82641    Parkes   1:18:06   \n",
       "\n",
       "         dec       l      b frequency      dm  flux width fluence   snr  \\\n",
       "0  -40:37:14  356.64 -20.02         -   790.3  0.54     -       -     -   \n",
       "1  -52:36:25  260.07 -38.35      1374   350.0  0.42     9    3.78  10.2   \n",
       "2  -64:56:19  274.72 -33.30         -  1187.0  0.25     -       -     -   \n",
       "3   -8:29:35   25.43  -4.00         -   745.0  0.41     -       -     -   \n",
       "4  -75:12:18  300.65 -41.81         -   375.0    30     -       -     -   \n",
       "\n",
       "                                  reference redshift  \n",
       "0  https://www.wis-tns.org/object/20010125a   0.7083  \n",
       "1          https://arxiv.org/abs/2004.04601    0.341  \n",
       "2  https://www.wis-tns.org/object/20010312a   1.0897  \n",
       "3  https://www.wis-tns.org/object/20010621a   0.4454  \n",
       "4  https://www.wis-tns.org/object/20010724a    0.369  "
      ]
     },
     "execution_count": 37,
     "metadata": {},
     "output_type": "execute_result"
    }
   ],
   "source": [
    "FRB_cat_220807.head()"
   ]
  },
  {
   "cell_type": "code",
   "execution_count": 6,
   "id": "0158407f",
   "metadata": {
    "ExecuteTime": {
     "end_time": "2022-09-01T07:08:00.202968Z",
     "start_time": "2022-09-01T07:07:59.840122Z"
    }
   },
   "outputs": [],
   "source": [
    "from astropy.cosmology import FlatLambdaCDM,Planck13,Planck15,z_at_value\n",
    "from astropy import units as u\n",
    "from astropy.cosmology import LambdaCDM\n",
    "cosmo = LambdaCDM(H0=70, Om0=0.27, Ode0=0.73)\n",
    "#cosmo=FlatLambdaCDM(H0=73,Om0=0.3)"
   ]
  },
  {
   "cell_type": "code",
   "execution_count": 38,
   "id": "83f65b24",
   "metadata": {
    "ExecuteTime": {
     "end_time": "2022-09-01T07:29:26.318738Z",
     "start_time": "2022-09-01T07:29:26.301984Z"
    }
   },
   "outputs": [
    {
     "data": {
      "text/plain": [
       "dtype('O')"
      ]
     },
     "execution_count": 38,
     "metadata": {},
     "output_type": "execute_result"
    }
   ],
   "source": [
    "FRB_cat_220807['redshift'].dtype"
   ]
  },
  {
   "cell_type": "code",
   "execution_count": 39,
   "id": "dffd491a",
   "metadata": {
    "ExecuteTime": {
     "end_time": "2022-09-01T07:29:32.731573Z",
     "start_time": "2022-09-01T07:29:32.721492Z"
    }
   },
   "outputs": [],
   "source": [
    "FRB_cat_220807_select_redshift=FRB_cat_220807[FRB_cat_220807['redshift'].notnull()]\n",
    "FRB_cat_220807_select_redshift=FRB_cat_220807_select_redshift[FRB_cat_220807_select_redshift['redshift']!='-']\n",
    "FRB_cat_220807_select_redshift=drop_index(FRB_cat_220807_select_redshift)"
   ]
  },
  {
   "cell_type": "code",
   "execution_count": 40,
   "id": "afc08342",
   "metadata": {
    "ExecuteTime": {
     "end_time": "2022-09-01T07:29:33.501390Z",
     "start_time": "2022-09-01T07:29:33.487089Z"
    }
   },
   "outputs": [
    {
     "data": {
      "text/plain": [
       "(811, 806)"
      ]
     },
     "execution_count": 40,
     "metadata": {},
     "output_type": "execute_result"
    }
   ],
   "source": [
    "len(FRB_cat_220807),len(FRB_cat_220807_select_redshift)"
   ]
  },
  {
   "cell_type": "markdown",
   "id": "6f6af44c",
   "metadata": {
    "ExecuteTime": {
     "end_time": "2022-09-01T07:24:05.955666Z",
     "start_time": "2022-09-01T07:24:05.929307Z"
    }
   },
   "source": [
    "FRB_cat_220807_select_redshift"
   ]
  },
  {
   "cell_type": "code",
   "execution_count": 41,
   "id": "58c63b35",
   "metadata": {
    "ExecuteTime": {
     "end_time": "2022-09-01T07:29:55.723572Z",
     "start_time": "2022-09-01T07:29:55.625023Z"
    }
   },
   "outputs": [
    {
     "data": {
      "text/plain": [
       "\"    if isinstance(redshift,float):\\n        FRB_cat_220807_select_redshift.loc[index,'D_cm']=cosmo.luminosity_distance(z=redshift).to(u.cm).value\\n    else:\\n        FRB_cat_220807_select_redshift.loc[index,'D_cm']=0\""
      ]
     },
     "execution_count": 41,
     "metadata": {},
     "output_type": "execute_result"
    }
   ],
   "source": [
    "for index, redshift in enumerate(FRB_cat_220807_select_redshift['redshift']):\n",
    "    FRB_cat_220807_select_redshift.loc[index,'D_cm']=cosmo.luminosity_distance(z=redshift).to(u.cm).value\n",
    "\n",
    "'''    if isinstance(redshift,float):\n",
    "        FRB_cat_220807_select_redshift.loc[index,'D_cm']=cosmo.luminosity_distance(z=redshift).to(u.cm).value\n",
    "    else:\n",
    "        FRB_cat_220807_select_redshift.loc[index,'D_cm']=0'''"
   ]
  },
  {
   "cell_type": "code",
   "execution_count": null,
   "id": "ef5506a1",
   "metadata": {},
   "outputs": [],
   "source": []
  },
  {
   "cell_type": "code",
   "execution_count": 44,
   "id": "e1a59ac8",
   "metadata": {
    "ExecuteTime": {
     "end_time": "2022-09-01T07:30:40.844419Z",
     "start_time": "2022-09-01T07:30:40.833098Z"
    }
   },
   "outputs": [],
   "source": [
    "FRB_cat_220807_select_redshift_flux=FRB_cat_220807_select_redshift[FRB_cat_220807_select_redshift['flux']!='-']\n",
    "FRB_cat_220807_select_redshift_flux=drop_index(FRB_cat_220807_select_redshift_flux)"
   ]
  },
  {
   "cell_type": "code",
   "execution_count": 45,
   "id": "0e017e12",
   "metadata": {
    "ExecuteTime": {
     "end_time": "2022-09-01T07:30:48.764120Z",
     "start_time": "2022-09-01T07:30:48.750981Z"
    }
   },
   "outputs": [
    {
     "data": {
      "text/plain": [
       "651"
      ]
     },
     "execution_count": 45,
     "metadata": {},
     "output_type": "execute_result"
    }
   ],
   "source": [
    "len(FRB_cat_220807_select_redshift_flux)"
   ]
  },
  {
   "cell_type": "code",
   "execution_count": 49,
   "id": "acb092ca",
   "metadata": {
    "ExecuteTime": {
     "end_time": "2022-09-01T07:32:17.978779Z",
     "start_time": "2022-09-01T07:32:17.976660Z"
    }
   },
   "outputs": [
    {
     "data": {
      "text/plain": [
       "dtype('O')"
      ]
     },
     "execution_count": 49,
     "metadata": {},
     "output_type": "execute_result"
    }
   ],
   "source": [
    "FRB_cat_220807_select_redshift_flux['flux'].dtype"
   ]
  },
  {
   "cell_type": "code",
   "execution_count": null,
   "id": "142d1b7f",
   "metadata": {},
   "outputs": [],
   "source": []
  },
  {
   "cell_type": "code",
   "execution_count": 56,
   "id": "1a169f39",
   "metadata": {
    "ExecuteTime": {
     "end_time": "2022-09-01T07:37:29.837855Z",
     "start_time": "2022-09-01T07:37:29.789332Z"
    }
   },
   "outputs": [],
   "source": [
    "for index,flux in enumerate(FRB_cat_220807_select_redshift_flux['flux']):\n",
    "    d_cm=FRB_cat_220807_select_redshift_flux.loc[index,'D_cm']\n",
    "    FRB_cat_220807_select_redshift_flux.loc[index,'Lum']=4*np.pi*d_cm**2*float(flux)*1.0e-23"
   ]
  },
  {
   "cell_type": "code",
   "execution_count": 57,
   "id": "a6a160dd",
   "metadata": {
    "ExecuteTime": {
     "end_time": "2022-09-01T07:37:30.731371Z",
     "start_time": "2022-09-01T07:37:30.699433Z"
    }
   },
   "outputs": [
    {
     "data": {
      "text/html": [
       "<div>\n",
       "<style scoped>\n",
       "    .dataframe tbody tr th:only-of-type {\n",
       "        vertical-align: middle;\n",
       "    }\n",
       "\n",
       "    .dataframe tbody tr th {\n",
       "        vertical-align: top;\n",
       "    }\n",
       "\n",
       "    .dataframe thead th {\n",
       "        text-align: right;\n",
       "    }\n",
       "</style>\n",
       "<table border=\"1\" class=\"dataframe\">\n",
       "  <thead>\n",
       "    <tr style=\"text-align: right;\">\n",
       "      <th></th>\n",
       "      <th>frb</th>\n",
       "      <th>utc</th>\n",
       "      <th>mjd</th>\n",
       "      <th>telescope</th>\n",
       "      <th>ra</th>\n",
       "      <th>dec</th>\n",
       "      <th>l</th>\n",
       "      <th>b</th>\n",
       "      <th>frequency</th>\n",
       "      <th>dm</th>\n",
       "      <th>flux</th>\n",
       "      <th>width</th>\n",
       "      <th>fluence</th>\n",
       "      <th>snr</th>\n",
       "      <th>reference</th>\n",
       "      <th>redshift</th>\n",
       "      <th>D_cm</th>\n",
       "      <th>Lum</th>\n",
       "    </tr>\n",
       "  </thead>\n",
       "  <tbody>\n",
       "    <tr>\n",
       "      <th>0</th>\n",
       "      <td>FRB 20010125A</td>\n",
       "      <td>2001-01-25 0:29:16</td>\n",
       "      <td>51934.02032</td>\n",
       "      <td>Parkes</td>\n",
       "      <td>19:06:53</td>\n",
       "      <td>-40:37:14</td>\n",
       "      <td>356.64</td>\n",
       "      <td>-20.02</td>\n",
       "      <td>-</td>\n",
       "      <td>790.30</td>\n",
       "      <td>0.54</td>\n",
       "      <td>-</td>\n",
       "      <td>-</td>\n",
       "      <td>-</td>\n",
       "      <td>https://www.wis-tns.org/object/20010125a</td>\n",
       "      <td>0.7083</td>\n",
       "      <td>1.352520e+28</td>\n",
       "      <td>1.241341e+34</td>\n",
       "    </tr>\n",
       "    <tr>\n",
       "      <th>1</th>\n",
       "      <td>FRB 20010305A</td>\n",
       "      <td>2001-03-05 12:29:16</td>\n",
       "      <td>51973.52032</td>\n",
       "      <td>Parkes</td>\n",
       "      <td>4:57:20</td>\n",
       "      <td>-52:36:25</td>\n",
       "      <td>260.07</td>\n",
       "      <td>-38.35</td>\n",
       "      <td>1374</td>\n",
       "      <td>350.00</td>\n",
       "      <td>0.42</td>\n",
       "      <td>9</td>\n",
       "      <td>3.78</td>\n",
       "      <td>10.2</td>\n",
       "      <td>https://arxiv.org/abs/2004.04601</td>\n",
       "      <td>0.341</td>\n",
       "      <td>5.599974e+27</td>\n",
       "      <td>1.655126e+33</td>\n",
       "    </tr>\n",
       "    <tr>\n",
       "      <th>2</th>\n",
       "      <td>FRB 20010312A</td>\n",
       "      <td>2001-03-12 11:06:48</td>\n",
       "      <td>51980.46306</td>\n",
       "      <td>Parkes</td>\n",
       "      <td>5:26:55</td>\n",
       "      <td>-64:56:19</td>\n",
       "      <td>274.72</td>\n",
       "      <td>-33.30</td>\n",
       "      <td>-</td>\n",
       "      <td>1187.00</td>\n",
       "      <td>0.25</td>\n",
       "      <td>-</td>\n",
       "      <td>-</td>\n",
       "      <td>-</td>\n",
       "      <td>https://www.wis-tns.org/object/20010312a</td>\n",
       "      <td>1.0897</td>\n",
       "      <td>2.311794e+28</td>\n",
       "      <td>1.678990e+34</td>\n",
       "    </tr>\n",
       "    <tr>\n",
       "      <th>3</th>\n",
       "      <td>FRB 20010621A</td>\n",
       "      <td>2001-06-21 13:02:11</td>\n",
       "      <td>52081.54318</td>\n",
       "      <td>Parkes</td>\n",
       "      <td>18:52:05</td>\n",
       "      <td>-8:29:35</td>\n",
       "      <td>25.43</td>\n",
       "      <td>-4.00</td>\n",
       "      <td>-</td>\n",
       "      <td>745.00</td>\n",
       "      <td>0.41</td>\n",
       "      <td>-</td>\n",
       "      <td>-</td>\n",
       "      <td>-</td>\n",
       "      <td>https://www.wis-tns.org/object/20010621a</td>\n",
       "      <td>0.4454</td>\n",
       "      <td>7.686325e+27</td>\n",
       "      <td>3.043906e+33</td>\n",
       "    </tr>\n",
       "    <tr>\n",
       "      <th>4</th>\n",
       "      <td>FRB 20010724A</td>\n",
       "      <td>2001-07-24 19:50:02</td>\n",
       "      <td>52114.82641</td>\n",
       "      <td>Parkes</td>\n",
       "      <td>1:18:06</td>\n",
       "      <td>-75:12:18</td>\n",
       "      <td>300.65</td>\n",
       "      <td>-41.81</td>\n",
       "      <td>-</td>\n",
       "      <td>375.00</td>\n",
       "      <td>30</td>\n",
       "      <td>-</td>\n",
       "      <td>-</td>\n",
       "      <td>-</td>\n",
       "      <td>https://www.wis-tns.org/object/20010724a</td>\n",
       "      <td>0.369</td>\n",
       "      <td>6.144765e+27</td>\n",
       "      <td>1.423448e+35</td>\n",
       "    </tr>\n",
       "    <tr>\n",
       "      <th>...</th>\n",
       "      <td>...</td>\n",
       "      <td>...</td>\n",
       "      <td>...</td>\n",
       "      <td>...</td>\n",
       "      <td>...</td>\n",
       "      <td>...</td>\n",
       "      <td>...</td>\n",
       "      <td>...</td>\n",
       "      <td>...</td>\n",
       "      <td>...</td>\n",
       "      <td>...</td>\n",
       "      <td>...</td>\n",
       "      <td>...</td>\n",
       "      <td>...</td>\n",
       "      <td>...</td>\n",
       "      <td>...</td>\n",
       "      <td>...</td>\n",
       "      <td>...</td>\n",
       "    </tr>\n",
       "    <tr>\n",
       "      <th>646</th>\n",
       "      <td>FRB 20201020A</td>\n",
       "      <td>2020-10-20 12:12:19</td>\n",
       "      <td>59142.50855</td>\n",
       "      <td>WSRT/Apertif</td>\n",
       "      <td>13:51:24.672</td>\n",
       "      <td>+49:02:05.80</td>\n",
       "      <td>99.06</td>\n",
       "      <td>65.22</td>\n",
       "      <td>1370</td>\n",
       "      <td>398.59</td>\n",
       "      <td>14</td>\n",
       "      <td>2.14</td>\n",
       "      <td>3.4</td>\n",
       "      <td>53.34</td>\n",
       "      <td>https://www.wis-tns.org/object/20201020a</td>\n",
       "      <td>0.4012</td>\n",
       "      <td>6.784888e+27</td>\n",
       "      <td>8.098849e+34</td>\n",
       "    </tr>\n",
       "    <tr>\n",
       "      <th>647</th>\n",
       "      <td>FRB 20210404B</td>\n",
       "      <td>2021-04-04 7:46:46</td>\n",
       "      <td>59308.32414</td>\n",
       "      <td>ASKAP</td>\n",
       "      <td>5:08:03.55</td>\n",
       "      <td>+26:03:39.1</td>\n",
       "      <td>177.77</td>\n",
       "      <td>-8.52</td>\n",
       "      <td>1271.5</td>\n",
       "      <td>414.00</td>\n",
       "      <td>4.5</td>\n",
       "      <td>-</td>\n",
       "      <td>11</td>\n",
       "      <td>12.2</td>\n",
       "      <td>https://arxiv.org/abs/2106.11993</td>\n",
       "      <td>0.2478</td>\n",
       "      <td>3.870852e+27</td>\n",
       "      <td>8.472966e+33</td>\n",
       "    </tr>\n",
       "    <tr>\n",
       "      <th>648</th>\n",
       "      <td>FRB 20210415A</td>\n",
       "      <td>2021-04-15 12:23:19</td>\n",
       "      <td>59319.51619</td>\n",
       "      <td>Stockert</td>\n",
       "      <td>5:08:03.50</td>\n",
       "      <td>+26:03:37.8</td>\n",
       "      <td>177.77</td>\n",
       "      <td>-8.52</td>\n",
       "      <td>1380</td>\n",
       "      <td>412.80</td>\n",
       "      <td>215</td>\n",
       "      <td>1.5</td>\n",
       "      <td>334</td>\n",
       "      <td>85</td>\n",
       "      <td>https://www.astronomerstelegram.org/?read=14556</td>\n",
       "      <td>0.2467</td>\n",
       "      <td>3.851255e+27</td>\n",
       "      <td>4.007309e+35</td>\n",
       "    </tr>\n",
       "    <tr>\n",
       "      <th>649</th>\n",
       "      <td>FRB 20210518A</td>\n",
       "      <td>2021-05-18 1:26:12</td>\n",
       "      <td>59352.05986</td>\n",
       "      <td>ATA</td>\n",
       "      <td>5:08:03.50</td>\n",
       "      <td>+26:03:37.8</td>\n",
       "      <td>177.77</td>\n",
       "      <td>-8.52</td>\n",
       "      <td>1500</td>\n",
       "      <td>411.72</td>\n",
       "      <td>43</td>\n",
       "      <td>2.8</td>\n",
       "      <td>120</td>\n",
       "      <td>20</td>\n",
       "      <td>https://www.astronomerstelegram.org/?read=14676</td>\n",
       "      <td>0.2456</td>\n",
       "      <td>3.831677e+27</td>\n",
       "      <td>7.933343e+34</td>\n",
       "    </tr>\n",
       "    <tr>\n",
       "      <th>650</th>\n",
       "      <td>FRB 20220414A</td>\n",
       "      <td>2022-04-14 17:26:40</td>\n",
       "      <td>59683.72685</td>\n",
       "      <td>Tianlai</td>\n",
       "      <td>13:04:21</td>\n",
       "      <td>+48:18:05</td>\n",
       "      <td>117.02</td>\n",
       "      <td>68.68</td>\n",
       "      <td>747.5</td>\n",
       "      <td>208.10</td>\n",
       "      <td>128.4</td>\n",
       "      <td>2.2</td>\n",
       "      <td>204</td>\n",
       "      <td>15.1</td>\n",
       "      <td>https://www.wis-tns.org/object/20220414a</td>\n",
       "      <td>0.2169</td>\n",
       "      <td>3.327905e+27</td>\n",
       "      <td>1.786967e+35</td>\n",
       "    </tr>\n",
       "  </tbody>\n",
       "</table>\n",
       "<p>651 rows × 18 columns</p>\n",
       "</div>"
      ],
      "text/plain": [
       "               frb                  utc          mjd     telescope  \\\n",
       "0    FRB 20010125A   2001-01-25 0:29:16  51934.02032        Parkes   \n",
       "1    FRB 20010305A  2001-03-05 12:29:16  51973.52032        Parkes   \n",
       "2    FRB 20010312A  2001-03-12 11:06:48  51980.46306        Parkes   \n",
       "3    FRB 20010621A  2001-06-21 13:02:11  52081.54318        Parkes   \n",
       "4    FRB 20010724A  2001-07-24 19:50:02  52114.82641        Parkes   \n",
       "..             ...                  ...          ...           ...   \n",
       "646  FRB 20201020A  2020-10-20 12:12:19  59142.50855  WSRT/Apertif   \n",
       "647  FRB 20210404B   2021-04-04 7:46:46  59308.32414         ASKAP   \n",
       "648  FRB 20210415A  2021-04-15 12:23:19  59319.51619      Stockert   \n",
       "649  FRB 20210518A   2021-05-18 1:26:12  59352.05986           ATA   \n",
       "650  FRB 20220414A  2022-04-14 17:26:40  59683.72685       Tianlai   \n",
       "\n",
       "               ra           dec       l      b frequency       dm   flux  \\\n",
       "0        19:06:53     -40:37:14  356.64 -20.02         -   790.30   0.54   \n",
       "1         4:57:20     -52:36:25  260.07 -38.35      1374   350.00   0.42   \n",
       "2         5:26:55     -64:56:19  274.72 -33.30         -  1187.00   0.25   \n",
       "3        18:52:05      -8:29:35   25.43  -4.00         -   745.00   0.41   \n",
       "4         1:18:06     -75:12:18  300.65 -41.81         -   375.00     30   \n",
       "..            ...           ...     ...    ...       ...      ...    ...   \n",
       "646  13:51:24.672  +49:02:05.80   99.06  65.22      1370   398.59     14   \n",
       "647    5:08:03.55   +26:03:39.1  177.77  -8.52    1271.5   414.00    4.5   \n",
       "648    5:08:03.50   +26:03:37.8  177.77  -8.52      1380   412.80    215   \n",
       "649    5:08:03.50   +26:03:37.8  177.77  -8.52      1500   411.72     43   \n",
       "650      13:04:21     +48:18:05  117.02  68.68     747.5   208.10  128.4   \n",
       "\n",
       "    width fluence    snr                                        reference  \\\n",
       "0       -       -      -         https://www.wis-tns.org/object/20010125a   \n",
       "1       9    3.78   10.2                 https://arxiv.org/abs/2004.04601   \n",
       "2       -       -      -         https://www.wis-tns.org/object/20010312a   \n",
       "3       -       -      -         https://www.wis-tns.org/object/20010621a   \n",
       "4       -       -      -         https://www.wis-tns.org/object/20010724a   \n",
       "..    ...     ...    ...                                              ...   \n",
       "646  2.14     3.4  53.34         https://www.wis-tns.org/object/20201020a   \n",
       "647     -      11   12.2                 https://arxiv.org/abs/2106.11993   \n",
       "648   1.5     334     85  https://www.astronomerstelegram.org/?read=14556   \n",
       "649   2.8     120     20  https://www.astronomerstelegram.org/?read=14676   \n",
       "650   2.2     204   15.1         https://www.wis-tns.org/object/20220414a   \n",
       "\n",
       "    redshift          D_cm           Lum  \n",
       "0     0.7083  1.352520e+28  1.241341e+34  \n",
       "1      0.341  5.599974e+27  1.655126e+33  \n",
       "2     1.0897  2.311794e+28  1.678990e+34  \n",
       "3     0.4454  7.686325e+27  3.043906e+33  \n",
       "4      0.369  6.144765e+27  1.423448e+35  \n",
       "..       ...           ...           ...  \n",
       "646   0.4012  6.784888e+27  8.098849e+34  \n",
       "647   0.2478  3.870852e+27  8.472966e+33  \n",
       "648   0.2467  3.851255e+27  4.007309e+35  \n",
       "649   0.2456  3.831677e+27  7.933343e+34  \n",
       "650   0.2169  3.327905e+27  1.786967e+35  \n",
       "\n",
       "[651 rows x 18 columns]"
      ]
     },
     "execution_count": 57,
     "metadata": {},
     "output_type": "execute_result"
    }
   ],
   "source": [
    "FRB_cat_220807_select_redshift_flux"
   ]
  },
  {
   "cell_type": "code",
   "execution_count": 60,
   "id": "e0489b4e",
   "metadata": {
    "ExecuteTime": {
     "end_time": "2022-09-01T07:38:12.638625Z",
     "start_time": "2022-09-01T07:38:12.626160Z"
    }
   },
   "outputs": [
    {
     "data": {
      "text/plain": [
       "651"
      ]
     },
     "execution_count": 60,
     "metadata": {},
     "output_type": "execute_result"
    }
   ],
   "source": [
    "len(FRB_cat_220807_select_redshift_flux['Lum'])"
   ]
  },
  {
   "cell_type": "code",
   "execution_count": 166,
   "id": "33d56114",
   "metadata": {
    "ExecuteTime": {
     "end_time": "2022-09-06T06:18:13.504937Z",
     "start_time": "2022-09-06T06:18:13.422375Z"
    }
   },
   "outputs": [
    {
     "data": {
      "text/plain": [
       "<function matplotlib.pyplot.show(close=None, block=None)>"
      ]
     },
     "execution_count": 166,
     "metadata": {},
     "output_type": "execute_result"
    },
    {
     "data": {
      "image/png": "[encoded data removed]",
      "text/plain": [
       "<Figure size 432x288 with 1 Axes>"
      ]
     },
     "metadata": {
      "needs_background": "light"
     },
     "output_type": "display_data"
    }
   ],
   "source": [
    "bins=np.logspace(30, 36, 35)\n",
    "plt.hist(FRB_cat_220807_select_redshift_flux['Lum'],bins=bins)\n",
    "#plt.xlim(0,9e35)\n",
    "plt.show"
   ]
  },
  {
   "cell_type": "code",
   "execution_count": null,
   "id": "a20400e1",
   "metadata": {},
   "outputs": [],
   "source": []
  },
  {
   "cell_type": "code",
   "execution_count": 88,
   "id": "a0203c10",
   "metadata": {
    "ExecuteTime": {
     "end_time": "2022-09-01T08:35:42.451539Z",
     "start_time": "2022-09-01T08:35:42.438973Z"
    }
   },
   "outputs": [],
   "source": [
    "FRB_cat_220807_select_redshift_flux['logLum']=np.log10(FRB_cat_220807_select_redshift_flux['Lum'])"
   ]
  },
  {
   "cell_type": "code",
   "execution_count": 157,
   "id": "f005291c",
   "metadata": {
    "ExecuteTime": {
     "end_time": "2022-09-06T06:17:14.544215Z",
     "start_time": "2022-09-06T06:17:14.472144Z"
    }
   },
   "outputs": [
    {
     "data": {
      "text/plain": [
       "<function matplotlib.pyplot.show(close=None, block=None)>"
      ]
     },
     "execution_count": 157,
     "metadata": {},
     "output_type": "execute_result"
    },
    {
     "data": {
      "image/png": "[encoded data removed]",
      "text/plain": [
       "<Figure size 432x288 with 1 Axes>"
      ]
     },
     "metadata": {
      "needs_background": "light"
     },
     "output_type": "display_data"
    }
   ],
   "source": [
    "\n",
    "plt.hist(FRB_cat_220807_select_redshift_flux['logLum'],bins=30)\n",
    "plt.show"
   ]
  },
  {
   "cell_type": "code",
   "execution_count": null,
   "id": "424cff41",
   "metadata": {},
   "outputs": [],
   "source": [
    "from scipy import optimize\n",
    "p , e = optimize.curve_fit(piecewise_linear, x, y)\n",
    "\n",
    "xd = np.linspace(0, 15, 100)\n",
    "plt.plot(x, y, \"o\")\n",
    "plt.plot(xd, piecewise_linear(xd, *p))"
   ]
  },
  {
   "cell_type": "code",
   "execution_count": null,
   "id": "af88e52d",
   "metadata": {},
   "outputs": [],
   "source": []
  },
  {
   "cell_type": "code",
   "execution_count": 97,
   "id": "d467a213",
   "metadata": {
    "ExecuteTime": {
     "end_time": "2022-09-01T08:44:57.701226Z",
     "start_time": "2022-09-01T08:44:57.692861Z"
    }
   },
   "outputs": [],
   "source": [
    "FRB_cat_220807_select_redshift_flux['Redshift']= pd.to_numeric(FRB_cat_220807_select_redshift_flux['redshift'], downcast=\"float\")\n"
   ]
  },
  {
   "cell_type": "code",
   "execution_count": 138,
   "id": "5bb8b1f5",
   "metadata": {
    "ExecuteTime": {
     "end_time": "2022-09-06T06:07:57.860920Z",
     "start_time": "2022-09-06T06:07:57.792856Z"
    }
   },
   "outputs": [
    {
     "data": {
      "text/plain": [
       "<function matplotlib.pyplot.show(close=None, block=None)>"
      ]
     },
     "execution_count": 138,
     "metadata": {},
     "output_type": "execute_result"
    },
    {
     "data": {
      "image/png": "[encoded data removed]",
      "text/plain": [
       "<Figure size 432x288 with 1 Axes>"
      ]
     },
     "metadata": {
      "needs_background": "light"
     },
     "output_type": "display_data"
    }
   ],
   "source": [
    "plt.hist(FRB_cat_220807_select_redshift_flux['Redshift'],bins=20)\n",
    "plt.show"
   ]
  },
  {
   "cell_type": "code",
   "execution_count": 171,
   "id": "81df2dcc",
   "metadata": {
    "ExecuteTime": {
     "end_time": "2022-09-06T06:57:11.969112Z",
     "start_time": "2022-09-06T06:57:11.878895Z"
    }
   },
   "outputs": [
    {
     "data": {
      "text/plain": [
       "<function matplotlib.pyplot.show(close=None, block=None)>"
      ]
     },
     "execution_count": 171,
     "metadata": {},
     "output_type": "execute_result"
    },
    {
     "data": {
      "image/png": "[encoded data removed]",
      "text/plain": [
       "<Figure size 432x288 with 1 Axes>"
      ]
     },
     "metadata": {
      "needs_background": "light"
     },
     "output_type": "display_data"
    }
   ],
   "source": [
    "fig, axs = plt.subplots(nrows=1, ncols=1, constrained_layout=True)\n",
    "axs.plot(FRB_cat_220807_select_redshift_flux['Redshift'], FRB_cat_220807_select_redshift_flux['logLum'], 's', mfc='c', mec='k',)\n",
    "axs.set_xlabel('z')\n",
    "axs.set_ylabel('logL')\n",
    "plt.show"
   ]
  },
  {
   "cell_type": "code",
   "execution_count": null,
   "id": "4d934c1f",
   "metadata": {},
   "outputs": [],
   "source": []
  },
  {
   "cell_type": "code",
   "execution_count": null,
   "id": "3282a677",
   "metadata": {},
   "outputs": [],
   "source": []
  },
  {
   "cell_type": "code",
   "execution_count": null,
   "id": "7a015891",
   "metadata": {},
   "outputs": [],
   "source": []
  },
  {
   "cell_type": "code",
   "execution_count": 71,
   "id": "46f6dedc",
   "metadata": {
    "ExecuteTime": {
     "end_time": "2022-09-01T07:40:42.628759Z",
     "start_time": "2022-09-01T07:40:42.424965Z"
    }
   },
   "outputs": [],
   "source": [
    "!open /Volumes/ExtremeSSD/Papers_classification/FRB/FRB_statistic/"
   ]
  },
  {
   "cell_type": "markdown",
   "id": "fb3173d9",
   "metadata": {},
   "source": [
    "# Schechter luminosity function"
   ]
  },
  {
   "cell_type": "markdown",
   "id": "ded8e9b0",
   "metadata": {},
   "source": [
    "$\\phi (L) = \\frac{d N}{d L d V} = \\phi_{*} (\\frac{L}{L_{*}})^{\\alpha} e^{-\\frac{L}{L_{*}}}$ "
   ]
  },
  {
   "cell_type": "code",
   "execution_count": 87,
   "id": "4c21d865",
   "metadata": {
    "ExecuteTime": {
     "end_time": "2022-09-01T08:31:58.833027Z",
     "start_time": "2022-09-01T08:31:58.827569Z"
    }
   },
   "outputs": [],
   "source": [
    "def Schechter_luminosity_function(L,L_star,P_star,Alpha):\n",
    "    '''\n",
    "    Schechter luminosity function in LUMINOSITY  \n",
    "    number per dex\n",
    "    '''\n",
    "    ratio = L/L_star\n",
    "    f = P_star* np.exp(-ratio) *(ratio)**Alpha\n",
    "    return f"
   ]
  },
  {
   "cell_type": "code",
   "execution_count": 100,
   "id": "a12d025c",
   "metadata": {
    "ExecuteTime": {
     "end_time": "2022-09-01T08:47:15.597514Z",
     "start_time": "2022-09-01T08:47:14.555997Z"
    }
   },
   "outputs": [],
   "source": [
    "z_range = np.linspace(0.1, 2.0, 100)\n",
    "m_star = Linear1D(-1.03, -20.485)\n",
    "phi_star = Exponential1D(0.00312608, -43.4294)\n",
    "alpha, mag_lim = -1.29, 30\n",
    "sky_area = Quantity(2.381, \"deg2\")\n",
    "cosmology = FlatLambdaCDM(H0=70, Om0=0.3)\n",
    "redshift, magnitude = schechter_lf(z_range, m_star, phi_star, alpha,\n",
    "                                   mag_lim, sky_area, cosmology, noise=True)"
   ]
  },
  {
   "cell_type": "code",
   "execution_count": 101,
   "id": "4d252a11",
   "metadata": {
    "ExecuteTime": {
     "end_time": "2022-09-01T08:47:21.651462Z",
     "start_time": "2022-09-01T08:47:21.637670Z"
    }
   },
   "outputs": [
    {
     "data": {
      "text/plain": [
       "(<Linear1D(slope=-1.03, intercept=-20.485)>,\n",
       " <Exponential1D(amplitude=0.00312608, tau=-43.4294)>)"
      ]
     },
     "execution_count": 101,
     "metadata": {},
     "output_type": "execute_result"
    }
   ],
   "source": [
    "m_star,phi_star"
   ]
  },
  {
   "cell_type": "code",
   "execution_count": null,
   "id": "9abe9fb2",
   "metadata": {},
   "outputs": [],
   "source": [
    "def "
   ]
  },
  {
   "cell_type": "code",
   "execution_count": null,
   "id": "cc47a1c6",
   "metadata": {},
   "outputs": [],
   "source": [
    "bins = np.linspace(31, 36, 35)\n",
    "z_min, z_max=0.1,2.0\n",
    "\n",
    "z = np.linspace(z_min, z_max, 100)\n",
    "# SkyPy simulated galaxies\n",
    "z_mask = np.logical_and(redshift >= z_min, redshift < z_max)\n",
    "\n",
    "dV_dz = (cosmology.differential_comoving_volume(z) * sky_area).to_value('Mpc3')\n",
    "dV = np.trapz(dV_dz, z)\n",
    "dM = (np.max(bins)-np.min(bins)) / (np.size(bins)-1)\n",
    "phi_skypy = np.histogram(magnitude[z_mask], bins=bins)[0] / dV / dM"
   ]
  },
  {
   "cell_type": "code",
   "execution_count": null,
   "id": "dfcc4ee2",
   "metadata": {},
   "outputs": [],
   "source": []
  },
  {
   "cell_type": "code",
   "execution_count": 148,
   "id": "2a492c2b",
   "metadata": {
    "ExecuteTime": {
     "end_time": "2022-09-06T06:13:11.005735Z",
     "start_time": "2022-09-06T06:13:10.841410Z"
    }
   },
   "outputs": [
    {
     "data": {
      "text/plain": [
       "[<matplotlib.lines.Line2D at 0x2a1689790>]"
      ]
     },
     "execution_count": 148,
     "metadata": {},
     "output_type": "execute_result"
    },
    {
     "data": {
      "image/png": "[encoded data removed]",
      "text/plain": [
       "<Figure size 432x288 with 4 Axes>"
      ]
     },
     "metadata": {
      "needs_background": "light"
     },
     "output_type": "display_data"
    }
   ],
   "source": [
    "x_plot_lin=np.linspace(0,10,100)\n",
    "L_stars=1\n",
    "phi_stars=1\n",
    "alphas=1.5\n",
    "y_plot= phi_stars*(x_plot_lin/L_stars)**alphas*np.exp(-1*x_plot_lin/L_stars)\n",
    "\n",
    "fig, axs = plt.subplots(nrows=2, ncols=2, constrained_layout=True)\n",
    "axs[0][0].plot([1,2],[2,3])\n",
    "axs[0][1].plot(x_plot_lin,1.2+x_plot_lin*0.6+x_plot_lin**2*0.3,color='black')\n",
    "axs[1][0].plot(np.linspace(0,10,100),np.sin(np.linspace(0,10,100)),color='red')\n",
    "axs[1][1].plot(x_plot_lin,y_plot,color='red')\n",
    "\n"
   ]
  },
  {
   "cell_type": "markdown",
   "id": "015081ad",
   "metadata": {},
   "source": [
    "# skypy"
   ]
  },
  {
   "cell_type": "code",
   "execution_count": 77,
   "id": "44a846ef",
   "metadata": {
    "ExecuteTime": {
     "end_time": "2022-09-01T08:12:10.408701Z",
     "start_time": "2022-09-01T08:11:46.199617Z"
    }
   },
   "outputs": [
    {
     "name": "stdout",
     "output_type": "stream",
     "text": [
      "Collecting skypy\n",
      "  Downloading skypy-0.5.tar.gz (1.7 MB)\n",
      "\u001b[K     |████████████████████████████████| 1.7 MB 404 kB/s eta 0:00:01\n",
      "\u001b[?25h  Installing build dependencies ... \u001b[?25ldone\n",
      "\u001b[?25h  Getting requirements to build wheel ... \u001b[?25ldone\n",
      "\u001b[?25h    Preparing wheel metadata ... \u001b[?25ldone\n",
      "\u001b[?25hRequirement already satisfied: scipy in /Users/lyubing/opt/anaconda3/lib/python3.9/site-packages (from skypy) (1.7.3)\n",
      "Requirement already satisfied: pyyaml in /Users/lyubing/opt/anaconda3/lib/python3.9/site-packages (from skypy) (6.0)\n",
      "Requirement already satisfied: astropy>=4 in /Users/lyubing/opt/anaconda3/lib/python3.9/site-packages (from skypy) (5.0.4)\n",
      "Requirement already satisfied: networkx in /Users/lyubing/opt/anaconda3/lib/python3.9/site-packages (from skypy) (2.7.1)\n",
      "Requirement already satisfied: numpy in /Users/lyubing/opt/anaconda3/lib/python3.9/site-packages (from skypy) (1.21.5)\n",
      "Requirement already satisfied: packaging>=19.0 in /Users/lyubing/opt/anaconda3/lib/python3.9/site-packages (from astropy>=4->skypy) (21.3)\n",
      "Requirement already satisfied: pyerfa>=2.0 in /Users/lyubing/opt/anaconda3/lib/python3.9/site-packages (from astropy>=4->skypy) (2.0.0)\n",
      "Requirement already satisfied: pyparsing!=3.0.5,>=2.0.2 in /Users/lyubing/opt/anaconda3/lib/python3.9/site-packages (from packaging>=19.0->astropy>=4->skypy) (3.0.4)\n",
      "Building wheels for collected packages: skypy\n",
      "  Building wheel for skypy (PEP 517) ... \u001b[?25ldone\n",
      "\u001b[?25h  Created wheel for skypy: filename=skypy-0.5-py3-none-any.whl size=1610955 sha256=7efa7b34caf52fb86c1512dab7e10c8f89ce948dcc9b68d36af17ab2c62e2124\n",
      "  Stored in directory: /Users/lyubing/Library/Caches/pip/wheels/45/97/88/f41383dc82022d6f05c1be4a61e1de08bbac4990a06ef413e7\n",
      "Successfully built skypy\n",
      "Installing collected packages: skypy\n",
      "Successfully installed skypy-0.5\n",
      "Note: you may need to restart the kernel to use updated packages.\n"
     ]
    }
   ],
   "source": [
    "pip install skypy"
   ]
  },
  {
   "cell_type": "code",
   "execution_count": 168,
   "id": "b1c80511",
   "metadata": {
    "ExecuteTime": {
     "end_time": "2022-09-06T06:56:17.795665Z",
     "start_time": "2022-09-06T06:56:17.373495Z"
    }
   },
   "outputs": [],
   "source": [
    "from astropy.cosmology import FlatLambdaCDM\n",
    "from astropy.modeling.models import Linear1D, Exponential1D\n",
    "from astropy.table import Table\n",
    "from astropy.units import Quantity\n",
    "from matplotlib import pyplot as plt\n",
    "import numpy as np\n",
    "from skypy.galaxies import schechter_lf\n",
    "\n",
    "z_range = np.linspace(0.2, 1.0, 100)\n",
    "m_star = Linear1D(-1.03, -20.485)\n",
    "phi_star = Exponential1D(0.00312608, -43.4294)\n",
    "alpha, mag_lim = -1.29, 30\n",
    "sky_area = Quantity(2.381, \"deg2\")\n",
    "cosmology = FlatLambdaCDM(H0=70, Om0=0.3)\n",
    "redshift, magnitude = schechter_lf(z_range, m_star, phi_star, alpha,\n",
    "                                   mag_lim, sky_area, cosmology, noise=True)"
   ]
  },
  {
   "cell_type": "code",
   "execution_count": 150,
   "id": "dca5d623",
   "metadata": {
    "ExecuteTime": {
     "end_time": "2022-09-06T06:13:16.473039Z",
     "start_time": "2022-09-06T06:13:16.462745Z"
    }
   },
   "outputs": [
    {
     "data": {
      "text/plain": [
       "<Linear1D(slope=-1.03, intercept=-20.485)>"
      ]
     },
     "execution_count": 150,
     "metadata": {},
     "output_type": "execute_result"
    }
   ],
   "source": [
    "m_star"
   ]
  },
  {
   "cell_type": "code",
   "execution_count": 151,
   "id": "b80bdcd2",
   "metadata": {
    "ExecuteTime": {
     "end_time": "2022-09-06T06:13:17.142535Z",
     "start_time": "2022-09-06T06:13:17.134141Z"
    }
   },
   "outputs": [
    {
     "data": {
      "text/plain": [
       "<Exponential1D(amplitude=0.00312608, tau=-43.4294)>"
      ]
     },
     "execution_count": 151,
     "metadata": {},
     "output_type": "execute_result"
    }
   ],
   "source": [
    "phi_star"
   ]
  },
  {
   "cell_type": "code",
   "execution_count": 152,
   "id": "8d4d54b8",
   "metadata": {
    "ExecuteTime": {
     "end_time": "2022-09-06T06:13:23.283064Z",
     "start_time": "2022-09-06T06:13:23.274695Z"
    }
   },
   "outputs": [
    {
     "data": {
      "text/plain": [
       "(-1.29, 30)"
      ]
     },
     "execution_count": 152,
     "metadata": {},
     "output_type": "execute_result"
    }
   ],
   "source": [
    "alpha, mag_lim"
   ]
  },
  {
   "cell_type": "code",
   "execution_count": 153,
   "id": "6fb5fc63",
   "metadata": {
    "ExecuteTime": {
     "end_time": "2022-09-06T06:13:38.161074Z",
     "start_time": "2022-09-06T06:13:38.146858Z"
    }
   },
   "outputs": [
    {
     "data": {
      "text/plain": [
       "(array([0.67302787, 0.81580981, 0.44231188, ..., 0.84240218, 0.60780969,\n",
       "        0.62937683]),\n",
       " array([-15.85402898, -14.43495725, -13.28099692, ..., -13.97680251,\n",
       "        -15.7357502 , -15.51439269]))"
      ]
     },
     "execution_count": 153,
     "metadata": {},
     "output_type": "execute_result"
    }
   ],
   "source": [
    "redshift, magnitude"
   ]
  },
  {
   "cell_type": "code",
   "execution_count": 154,
   "id": "88b7a581",
   "metadata": {
    "ExecuteTime": {
     "end_time": "2022-09-06T06:14:02.021698Z",
     "start_time": "2022-09-06T06:14:01.946011Z"
    }
   },
   "outputs": [
    {
     "data": {
      "text/plain": [
       "(array([32402., 43341., 54042., 62719., 71574., 77654., 83757., 88099.,\n",
       "        92397., 95163.]),\n",
       " array([0.20000186, 0.28000146, 0.36000106, 0.44000066, 0.52000026,\n",
       "        0.59999986, 0.67999946, 0.75999906, 0.83999866, 0.91999826,\n",
       "        0.99999785]),\n",
       " <BarContainer object of 10 artists>)"
      ]
     },
     "execution_count": 154,
     "metadata": {},
     "output_type": "execute_result"
    },
    {
     "data": {
      "image/png": "[encoded data removed]",
      "text/plain": [
       "<Figure size 432x288 with 1 Axes>"
      ]
     },
     "metadata": {
      "needs_background": "light"
     },
     "output_type": "display_data"
    }
   ],
   "source": [
    "plt.hist(redshift)"
   ]
  },
  {
   "cell_type": "code",
   "execution_count": 155,
   "id": "d46fb03b",
   "metadata": {
    "ExecuteTime": {
     "end_time": "2022-09-06T06:14:12.147935Z",
     "start_time": "2022-09-06T06:14:12.071924Z"
    }
   },
   "outputs": [
    {
     "data": {
      "text/plain": [
       "(array([  1020.,  11258.,  32576.,  58386.,  90126., 131109., 187541.,\n",
       "        133091.,  46225.,   9816.]),\n",
       " array([-23.33080274, -21.99481503, -20.65882732, -19.32283962,\n",
       "        -17.98685191, -16.6508642 , -15.3148765 , -13.97888879,\n",
       "        -12.64290108, -11.30691338,  -9.97092567]),\n",
       " <BarContainer object of 10 artists>)"
      ]
     },
     "execution_count": 155,
     "metadata": {},
     "output_type": "execute_result"
    },
    {
     "data": {
      "image/png": "[encoded data removed]",
      "text/plain": [
       "<Figure size 432x288 with 1 Axes>"
      ]
     },
     "metadata": {
      "needs_background": "light"
     },
     "output_type": "display_data"
    }
   ],
   "source": [
    "plt.hist(magnitude)"
   ]
  },
  {
   "cell_type": "code",
   "execution_count": null,
   "id": "71390b64",
   "metadata": {},
   "outputs": [],
   "source": []
  },
  {
   "cell_type": "code",
   "execution_count": null,
   "id": "8dfb0911",
   "metadata": {},
   "outputs": [],
   "source": []
  },
  {
   "cell_type": "code",
   "execution_count": null,
   "id": "316f457e",
   "metadata": {},
   "outputs": [],
   "source": []
  },
  {
   "cell_type": "code",
   "execution_count": null,
   "id": "d06183e3",
   "metadata": {},
   "outputs": [],
   "source": []
  },
  {
   "cell_type": "code",
   "execution_count": null,
   "id": "a66c9f08",
   "metadata": {},
   "outputs": [],
   "source": []
  },
  {
   "cell_type": "code",
   "execution_count": null,
   "id": "ea4a40cc",
   "metadata": {},
   "outputs": [],
   "source": []
  },
  {
   "cell_type": "code",
   "execution_count": null,
   "id": "450f4382",
   "metadata": {},
   "outputs": [],
   "source": []
  },
  {
   "cell_type": "code",
   "execution_count": 169,
   "id": "3153de72",
   "metadata": {
    "ExecuteTime": {
     "end_time": "2022-09-06T06:56:23.308396Z",
     "start_time": "2022-09-06T06:56:23.050764Z"
    }
   },
   "outputs": [
    {
     "data": {
      "text/plain": [
       "<function matplotlib.pyplot.show(close=None, block=None)>"
      ]
     },
     "execution_count": 169,
     "metadata": {},
     "output_type": "execute_result"
    },
    {
     "data": {
      "image/png": "[encoded data removed]",
      "text/plain": [
       "<Figure size 432x288 with 1 Axes>"
      ]
     },
     "metadata": {
      "needs_background": "light"
     },
     "output_type": "display_data"
    }
   ],
   "source": [
    "fig, axs = plt.subplots(nrows=1, ncols=1, constrained_layout=True)\n",
    "axs.plot(redshift, magnitude, 's', mfc='c', mec='k',)\n",
    "axs.set_xlabel('z')\n",
    "axs.set_ylabel('magnitude')\n",
    "plt.show"
   ]
  },
  {
   "cell_type": "code",
   "execution_count": null,
   "id": "ea004a8b",
   "metadata": {},
   "outputs": [],
   "source": []
  },
  {
   "cell_type": "code",
   "execution_count": null,
   "id": "8366c52c",
   "metadata": {},
   "outputs": [],
   "source": []
  },
  {
   "cell_type": "code",
   "execution_count": 102,
   "id": "4259a537",
   "metadata": {
    "ExecuteTime": {
     "end_time": "2022-09-01T12:42:56.590977Z",
     "start_time": "2022-09-01T12:42:56.568190Z"
    }
   },
   "outputs": [
    {
     "data": {
      "text/html": [
       "<div><i>Table length=26</i>\n",
       "<table id=\"table10743190384\" class=\"table-striped table-bordered table-condensed\">\n",
       "<thead><tr><th>MB-</th><th>MB+</th><th>MB_0.2_0.4</th><th>phi_0.2_0.4</th><th>dphi_0.2_0.4</th><th>MB_0.4_0.6</th><th>phi_0.4_0.6</th><th>dphi_0.4_0.6</th><th>MB_0.6_0.8</th><th>phi_0.6_0.8</th><th>dphi_0.6_0.8</th><th>MB_0.8_1.0</th><th>phi_0.8_1.0</th><th>dphi_0.8_1.0</th></tr></thead>\n",
       "<thead><tr><th>float32</th><th>float32</th><th>float32</th><th>float32</th><th>float32</th><th>float32</th><th>float32</th><th>float32</th><th>float32</th><th>float32</th><th>float32</th><th>float32</th><th>float32</th><th>float32</th></tr></thead>\n",
       "<tr><td>-24.5</td><td>-23.0</td><td>-23.29</td><td>-7.05</td><td>0.34</td><td>-23.42</td><td>-6.39</td><td>0.26</td><td>-23.2</td><td>-5.75</td><td>0.14</td><td>-23.34</td><td>-5.45</td><td>0.09</td></tr>\n",
       "<tr><td>-23.0</td><td>-22.7</td><td>-22.79</td><td>-5.56</td><td>0.21</td><td>-22.81</td><td>-5.02</td><td>0.11</td><td>-22.82</td><td>-4.64</td><td>0.06</td><td>-22.83</td><td>-4.44</td><td>0.05</td></tr>\n",
       "<tr><td>-22.7</td><td>-22.4</td><td>-22.56</td><td>-5.19</td><td>0.17</td><td>-22.54</td><td>-4.55</td><td>0.07</td><td>-22.52</td><td>-4.18</td><td>0.05</td><td>-22.53</td><td>-3.99</td><td>0.04</td></tr>\n",
       "<tr><td>-22.4</td><td>-22.1</td><td>-22.21</td><td>-4.66</td><td>0.11</td><td>-22.22</td><td>-4.14</td><td>0.06</td><td>-22.23</td><td>-3.83</td><td>0.04</td><td>-22.23</td><td>-3.59</td><td>0.03</td></tr>\n",
       "<tr><td>-22.1</td><td>-21.8</td><td>-21.91</td><td>-4.13</td><td>0.06</td><td>-21.93</td><td>-3.7</td><td>0.04</td><td>-21.93</td><td>-3.51</td><td>0.03</td><td>-21.94</td><td>-3.27</td><td>0.02</td></tr>\n",
       "<tr><td>-21.8</td><td>-21.5</td><td>-21.62</td><td>-3.63</td><td>0.05</td><td>-21.63</td><td>-3.38</td><td>0.03</td><td>-21.64</td><td>-3.23</td><td>0.02</td><td>-21.64</td><td>-3.08</td><td>0.02</td></tr>\n",
       "<tr><td>...</td><td>...</td><td>...</td><td>...</td><td>...</td><td>...</td><td>...</td><td>...</td><td>...</td><td>...</td><td>...</td><td>...</td><td>...</td><td>...</td></tr>\n",
       "<tr><td>-17.3</td><td>-17.0</td><td>-17.16</td><td>-2.06</td><td>0.02</td><td>--</td><td>--</td><td>--</td><td>--</td><td>--</td><td>--</td><td>--</td><td>--</td><td>--</td></tr>\n",
       "<tr><td>-17.0</td><td>-16.7</td><td>-16.86</td><td>-2.01</td><td>0.02</td><td>--</td><td>--</td><td>--</td><td>--</td><td>--</td><td>--</td><td>--</td><td>--</td><td>--</td></tr>\n",
       "<tr><td>-16.7</td><td>-16.4</td><td>-16.56</td><td>-1.98</td><td>0.02</td><td>--</td><td>--</td><td>--</td><td>--</td><td>--</td><td>--</td><td>--</td><td>--</td><td>--</td></tr>\n",
       "<tr><td>-16.4</td><td>-16.1</td><td>-16.26</td><td>-1.92</td><td>0.03</td><td>--</td><td>--</td><td>--</td><td>--</td><td>--</td><td>--</td><td>--</td><td>--</td><td>--</td></tr>\n",
       "<tr><td>-16.1</td><td>-15.8</td><td>-15.97</td><td>-1.87</td><td>0.04</td><td>--</td><td>--</td><td>--</td><td>--</td><td>--</td><td>--</td><td>--</td><td>--</td><td>--</td></tr>\n",
       "<tr><td>-15.8</td><td>-15.5</td><td>-15.69</td><td>-1.83</td><td>0.07</td><td>--</td><td>--</td><td>--</td><td>--</td><td>--</td><td>--</td><td>--</td><td>--</td><td>--</td></tr>\n",
       "</table></div>"
      ],
      "text/plain": [
       "<Table length=26>\n",
       "  MB-     MB+   MB_0.2_0.4 phi_0.2_0.4 dphi_0.2_0.4 ... dphi_0.6_0.8 MB_0.8_1.0 phi_0.8_1.0 dphi_0.8_1.0\n",
       "float32 float32  float32     float32     float32    ...   float32     float32     float32     float32   \n",
       "------- ------- ---------- ----------- ------------ ... ------------ ---------- ----------- ------------\n",
       "  -24.5   -23.0     -23.29       -7.05         0.34 ...         0.14     -23.34       -5.45         0.09\n",
       "  -23.0   -22.7     -22.79       -5.56         0.21 ...         0.06     -22.83       -4.44         0.05\n",
       "  -22.7   -22.4     -22.56       -5.19         0.17 ...         0.05     -22.53       -3.99         0.04\n",
       "  -22.4   -22.1     -22.21       -4.66         0.11 ...         0.04     -22.23       -3.59         0.03\n",
       "  -22.1   -21.8     -21.91       -4.13         0.06 ...         0.03     -21.94       -3.27         0.02\n",
       "  -21.8   -21.5     -21.62       -3.63         0.05 ...         0.02     -21.64       -3.08         0.02\n",
       "    ...     ...        ...         ...          ... ...          ...        ...         ...          ...\n",
       "  -17.3   -17.0     -17.16       -2.06         0.02 ...           --         --          --           --\n",
       "  -17.0   -16.7     -16.86       -2.01         0.02 ...           --         --          --           --\n",
       "  -16.7   -16.4     -16.56       -1.98         0.02 ...           --         --          --           --\n",
       "  -16.4   -16.1     -16.26       -1.92         0.03 ...           --         --          --           --\n",
       "  -16.1   -15.8     -15.97       -1.87         0.04 ...           --         --          --           --\n",
       "  -15.8   -15.5     -15.69       -1.83         0.07 ...           --         --          --           --"
      ]
     },
     "execution_count": 102,
     "metadata": {},
     "output_type": "execute_result"
    }
   ],
   "source": [
    "data"
   ]
  },
  {
   "cell_type": "code",
   "execution_count": 106,
   "id": "d62afef1",
   "metadata": {
    "ExecuteTime": {
     "end_time": "2022-09-06T05:53:22.908251Z",
     "start_time": "2022-09-06T05:53:22.887890Z"
    }
   },
   "outputs": [],
   "source": [
    "data = Table.read(\"/Users/lyubing/Downloads/skypy/lopez_sanjuan+17_B1.ecsv\", format='ascii.ecsv')\n"
   ]
  },
  {
   "cell_type": "code",
   "execution_count": 108,
   "id": "1f410b1f",
   "metadata": {
    "ExecuteTime": {
     "end_time": "2022-09-06T05:53:30.917188Z",
     "start_time": "2022-09-06T05:53:30.900459Z"
    }
   },
   "outputs": [
    {
     "data": {
      "text/html": [
       "<div><i>Table length=26</i>\n",
       "<table id=\"table10740960512\" class=\"table-striped table-bordered table-condensed\">\n",
       "<thead><tr><th>MB-</th><th>MB+</th><th>MB_0.2_0.4</th><th>phi_0.2_0.4</th><th>dphi_0.2_0.4</th><th>MB_0.4_0.6</th><th>phi_0.4_0.6</th><th>dphi_0.4_0.6</th><th>MB_0.6_0.8</th><th>phi_0.6_0.8</th><th>dphi_0.6_0.8</th><th>MB_0.8_1.0</th><th>phi_0.8_1.0</th><th>dphi_0.8_1.0</th></tr></thead>\n",
       "<thead><tr><th>float32</th><th>float32</th><th>float32</th><th>float32</th><th>float32</th><th>float32</th><th>float32</th><th>float32</th><th>float32</th><th>float32</th><th>float32</th><th>float32</th><th>float32</th><th>float32</th></tr></thead>\n",
       "<tr><td>-24.5</td><td>-23.0</td><td>-23.29</td><td>-7.05</td><td>0.34</td><td>-23.42</td><td>-6.39</td><td>0.26</td><td>-23.2</td><td>-5.75</td><td>0.14</td><td>-23.34</td><td>-5.45</td><td>0.09</td></tr>\n",
       "<tr><td>-23.0</td><td>-22.7</td><td>-22.79</td><td>-5.56</td><td>0.21</td><td>-22.81</td><td>-5.02</td><td>0.11</td><td>-22.82</td><td>-4.64</td><td>0.06</td><td>-22.83</td><td>-4.44</td><td>0.05</td></tr>\n",
       "<tr><td>-22.7</td><td>-22.4</td><td>-22.56</td><td>-5.19</td><td>0.17</td><td>-22.54</td><td>-4.55</td><td>0.07</td><td>-22.52</td><td>-4.18</td><td>0.05</td><td>-22.53</td><td>-3.99</td><td>0.04</td></tr>\n",
       "<tr><td>-22.4</td><td>-22.1</td><td>-22.21</td><td>-4.66</td><td>0.11</td><td>-22.22</td><td>-4.14</td><td>0.06</td><td>-22.23</td><td>-3.83</td><td>0.04</td><td>-22.23</td><td>-3.59</td><td>0.03</td></tr>\n",
       "<tr><td>-22.1</td><td>-21.8</td><td>-21.91</td><td>-4.13</td><td>0.06</td><td>-21.93</td><td>-3.7</td><td>0.04</td><td>-21.93</td><td>-3.51</td><td>0.03</td><td>-21.94</td><td>-3.27</td><td>0.02</td></tr>\n",
       "<tr><td>-21.8</td><td>-21.5</td><td>-21.62</td><td>-3.63</td><td>0.05</td><td>-21.63</td><td>-3.38</td><td>0.03</td><td>-21.64</td><td>-3.23</td><td>0.02</td><td>-21.64</td><td>-3.08</td><td>0.02</td></tr>\n",
       "<tr><td>...</td><td>...</td><td>...</td><td>...</td><td>...</td><td>...</td><td>...</td><td>...</td><td>...</td><td>...</td><td>...</td><td>...</td><td>...</td><td>...</td></tr>\n",
       "<tr><td>-17.3</td><td>-17.0</td><td>-17.16</td><td>-2.06</td><td>0.02</td><td>--</td><td>--</td><td>--</td><td>--</td><td>--</td><td>--</td><td>--</td><td>--</td><td>--</td></tr>\n",
       "<tr><td>-17.0</td><td>-16.7</td><td>-16.86</td><td>-2.01</td><td>0.02</td><td>--</td><td>--</td><td>--</td><td>--</td><td>--</td><td>--</td><td>--</td><td>--</td><td>--</td></tr>\n",
       "<tr><td>-16.7</td><td>-16.4</td><td>-16.56</td><td>-1.98</td><td>0.02</td><td>--</td><td>--</td><td>--</td><td>--</td><td>--</td><td>--</td><td>--</td><td>--</td><td>--</td></tr>\n",
       "<tr><td>-16.4</td><td>-16.1</td><td>-16.26</td><td>-1.92</td><td>0.03</td><td>--</td><td>--</td><td>--</td><td>--</td><td>--</td><td>--</td><td>--</td><td>--</td><td>--</td></tr>\n",
       "<tr><td>-16.1</td><td>-15.8</td><td>-15.97</td><td>-1.87</td><td>0.04</td><td>--</td><td>--</td><td>--</td><td>--</td><td>--</td><td>--</td><td>--</td><td>--</td><td>--</td></tr>\n",
       "<tr><td>-15.8</td><td>-15.5</td><td>-15.69</td><td>-1.83</td><td>0.07</td><td>--</td><td>--</td><td>--</td><td>--</td><td>--</td><td>--</td><td>--</td><td>--</td><td>--</td></tr>\n",
       "</table></div>"
      ],
      "text/plain": [
       "<Table length=26>\n",
       "  MB-     MB+   MB_0.2_0.4 phi_0.2_0.4 dphi_0.2_0.4 ... phi_0.6_0.8 dphi_0.6_0.8 MB_0.8_1.0 phi_0.8_1.0 dphi_0.8_1.0\n",
       "float32 float32  float32     float32     float32    ...   float32     float32     float32     float32     float32   \n",
       "------- ------- ---------- ----------- ------------ ... ----------- ------------ ---------- ----------- ------------\n",
       "  -24.5   -23.0     -23.29       -7.05         0.34 ...       -5.75         0.14     -23.34       -5.45         0.09\n",
       "  -23.0   -22.7     -22.79       -5.56         0.21 ...       -4.64         0.06     -22.83       -4.44         0.05\n",
       "  -22.7   -22.4     -22.56       -5.19         0.17 ...       -4.18         0.05     -22.53       -3.99         0.04\n",
       "  -22.4   -22.1     -22.21       -4.66         0.11 ...       -3.83         0.04     -22.23       -3.59         0.03\n",
       "  -22.1   -21.8     -21.91       -4.13         0.06 ...       -3.51         0.03     -21.94       -3.27         0.02\n",
       "  -21.8   -21.5     -21.62       -3.63         0.05 ...       -3.23         0.02     -21.64       -3.08         0.02\n",
       "    ...     ...        ...         ...          ... ...         ...          ...        ...         ...          ...\n",
       "  -17.3   -17.0     -17.16       -2.06         0.02 ...          --           --         --          --           --\n",
       "  -17.0   -16.7     -16.86       -2.01         0.02 ...          --           --         --          --           --\n",
       "  -16.7   -16.4     -16.56       -1.98         0.02 ...          --           --         --          --           --\n",
       "  -16.4   -16.1     -16.26       -1.92         0.03 ...          --           --         --          --           --\n",
       "  -16.1   -15.8     -15.97       -1.87         0.04 ...          --           --         --          --           --\n",
       "  -15.8   -15.5     -15.69       -1.83         0.07 ...          --           --         --          --           --"
      ]
     },
     "execution_count": 108,
     "metadata": {},
     "output_type": "execute_result"
    }
   ],
   "source": [
    "data"
   ]
  },
  {
   "cell_type": "code",
   "execution_count": 139,
   "id": "53fdb8ac",
   "metadata": {
    "ExecuteTime": {
     "end_time": "2022-09-06T06:11:06.650326Z",
     "start_time": "2022-09-06T06:11:06.643560Z"
    }
   },
   "outputs": [
    {
     "data": {
      "text/plain": [
       "array([-16.55097266, -17.26917551, -22.06173259, ..., -15.35767331,\n",
       "       -19.21485631, -16.0391576 ])"
      ]
     },
     "execution_count": 139,
     "metadata": {},
     "output_type": "execute_result"
    }
   ],
   "source": [
    "magnitude"
   ]
  },
  {
   "cell_type": "markdown",
   "id": "9d93b558",
   "metadata": {
    "ExecuteTime": {
     "end_time": "2022-09-06T05:55:31.933159Z",
     "start_time": "2022-09-06T05:55:31.921809Z"
    }
   },
   "source": [
    "z_min, z_max=0.2,0.4\n",
    "data[f'phi_{z_min:.1f}_{z_max:.1f}']"
   ]
  },
  {
   "cell_type": "markdown",
   "id": "74783df4",
   "metadata": {},
   "source": [
    "$\\phi (L) = \\frac{d N}{d L d V} = \\phi_{*} (\\frac{L}{L_{*}})^{\\alpha} e^{-\\frac{L}{L_{*}}}$ "
   ]
  },
  {
   "cell_type": "code",
   "execution_count": 125,
   "id": "da01c7da",
   "metadata": {
    "ExecuteTime": {
     "end_time": "2022-09-06T06:04:47.212588Z",
     "start_time": "2022-09-06T06:04:47.204296Z"
    }
   },
   "outputs": [],
   "source": []
  },
  {
   "cell_type": "code",
   "execution_count": null,
   "id": "a3c6f437",
   "metadata": {},
   "outputs": [],
   "source": []
  },
  {
   "cell_type": "code",
   "execution_count": null,
   "id": "50e25e39",
   "metadata": {},
   "outputs": [],
   "source": []
  },
  {
   "cell_type": "code",
   "execution_count": null,
   "id": "84e683d4",
   "metadata": {},
   "outputs": [],
   "source": []
  },
  {
   "cell_type": "code",
   "execution_count": 107,
   "id": "624b590e",
   "metadata": {
    "ExecuteTime": {
     "end_time": "2022-09-06T05:53:25.872866Z",
     "start_time": "2022-09-06T05:53:25.563662Z"
    }
   },
   "outputs": [
    {
     "data": {
      "image/png": "[encoded data removed]",
      "text/plain": [
       "<Figure size 432x288 with 4 Axes>"
      ]
     },
     "metadata": {
      "needs_background": "light"
     },
     "output_type": "display_data"
    }
   ],
   "source": [
    "fig, ((a1, a2), (a3, a4)) = plt.subplots(nrows=2, ncols=2, constrained_layout=True)\n",
    "bins = np.linspace(-24, -14, 35)\n",
    "z_slices = ((0.2, 0.4), (0.4, 0.6), (0.6, 0.8), (0.8, 1.0))\n",
    "\n",
    "for ax, (z_min, z_max) in zip([a1, a2, a3, a4], z_slices):\n",
    "\n",
    "    # Redshift grid\n",
    "    z = np.linspace(z_min, z_max, 100)\n",
    "\n",
    "    # SkyPy simulated galaxies\n",
    "    z_mask = np.logical_and(redshift >= z_min, redshift < z_max)\n",
    "    dV_dz = (cosmology.differential_comoving_volume(z) * sky_area).to_value('Mpc3')\n",
    "    dV = np.trapz(dV_dz, z)\n",
    "    dM = (np.max(bins)-np.min(bins)) / (np.size(bins)-1)\n",
    "    phi_skypy = np.histogram(magnitude[z_mask], bins=bins)[0] / dV / dM\n",
    "\n",
    "    # ALHAMBRA Survey star-forming galaxies (López-Sanjuan et al. 2017)\n",
    "    M_data = data[f'MB_{z_min:.1f}_{z_max:.1f}']\n",
    "    phi_data = 10 ** data[f'phi_{z_min:.1f}_{z_max:.1f}']\n",
    "\n",
    "    # Median-redshift Schechter function\n",
    "    L = 10 ** (0.4 * (m_star(z) - bins[:, np.newaxis]))\n",
    "    phi_model_z = 0.4 * np.log(10) * phi_star(z) * L ** (alpha+1) * np.exp(-L)\n",
    "    phi_model = np.median(phi_model_z, axis=1)\n",
    "\n",
    "    # Plotting\n",
    "    ax.step(bins[:-1], phi_skypy, where='post', label='SkyPy', color='r', zorder=3)\n",
    "    ax.plot(M_data, phi_data, 's', mfc='c', mec='k', label='López-Sanjuan+17')\n",
    "    ax.plot(bins, phi_model, label='Model', color='b')\n",
    "    ax.text(-14.3, 5e-7, r'${:.2f} \\leq z < {:.2f}$'.format(z_min, z_max))\n",
    "    ax.set_xlabel(r'$M_B$')\n",
    "    ax.set_ylabel(r'$\\log_{10} \\Phi \\, [\\mathrm{Mpc}^{-3} \\, \\mathrm{mag}^{-1}]$')\n",
    "    ax.set_yscale('log')\n",
    "    ax.set_xlim([-14, -24])\n",
    "    ax.set_ylim([3e-7, 3e-2])\n",
    "\n",
    "a1.legend(loc=6, fontsize='small', frameon=False)\n",
    "plt.show()"
   ]
  },
  {
   "cell_type": "code",
   "execution_count": null,
   "id": "e3456634",
   "metadata": {},
   "outputs": [],
   "source": []
  },
  {
   "cell_type": "code",
   "execution_count": null,
   "id": "b80aa813",
   "metadata": {},
   "outputs": [],
   "source": []
  },
  {
   "cell_type": "code",
   "execution_count": null,
   "id": "692cbadd",
   "metadata": {},
   "outputs": [],
   "source": []
  },
  {
   "cell_type": "code",
   "execution_count": null,
   "id": "e662e2e6",
   "metadata": {},
   "outputs": [],
   "source": []
  },
  {
   "cell_type": "code",
   "execution_count": 72,
   "id": "5a2df383",
   "metadata": {
    "ExecuteTime": {
     "end_time": "2022-09-01T07:44:37.699306Z",
     "start_time": "2022-09-01T07:44:37.583524Z"
    }
   },
   "outputs": [],
   "source": [
    "import scipy\n",
    "import scipy.stats\n",
    "\n",
    "import matplotlib\n",
    "import matplotlib.pyplot as plt\n",
    "class Distribution(object):\n",
    "    \n",
    "    def __init__(self,dist_names_list = []):\n",
    "        self.dist_names = ['norm','lognorm','expon']\n",
    "        self.dist_results = []\n",
    "        self.params = {}\n",
    "        \n",
    "        self.DistributionName = \"\"\n",
    "        self.PValue = 0\n",
    "        self.Param = None\n",
    "        \n",
    "        self.isFitted = False\n",
    "        \n",
    "        \n",
    "    def Fit(self, y):\n",
    "        self.dist_results = []\n",
    "        self.params = {}\n",
    "        for dist_name in self.dist_names:\n",
    "            dist = getattr(scipy.stats, dist_name)\n",
    "            param = dist.fit(y)\n",
    "            \n",
    "            self.params[dist_name] = param\n",
    "            #Applying the Kolmogorov-Smirnov test\n",
    "            D, p = scipy.stats.kstest(y, dist_name, args=param);\n",
    "            self.dist_results.append((dist_name,p))\n",
    "\n",
    "        #select the best fitted distribution\n",
    "        sel_dist,p = (max(self.dist_results,key=lambda item:item[1]))\n",
    "        #store the name of the best fit and its p value\n",
    "        self.DistributionName = sel_dist\n",
    "        self.PValue = p\n",
    "        \n",
    "        self.isFitted = True\n",
    "        return self.DistributionName,self.PValue\n",
    "    \n",
    "    def Random(self, n = 1):\n",
    "        if self.isFitted:\n",
    "            dist_name = self.DistributionName\n",
    "            param = self.params[dist_name]\n",
    "            #initiate the scipy distribution\n",
    "            dist = getattr(scipy.stats, dist_name)\n",
    "            return dist.rvs(*param[:-2], loc=param[-2], scale=param[-1], size=n)\n",
    "        else:\n",
    "            raise ValueError('Must first run the Fit method.')\n",
    "            \n",
    "    def Plot(self,y):\n",
    "        x = self.Random(n=len(y))\n",
    "        plt.hist(x, alpha=0.5, label='Fitted')\n",
    "        plt.hist(y, alpha=0.5, label='Actual')\n",
    "        plt.legend(loc='upper right')"
   ]
  },
  {
   "cell_type": "code",
   "execution_count": 74,
   "id": "f41c040e",
   "metadata": {
    "ExecuteTime": {
     "end_time": "2022-09-01T07:45:41.995061Z",
     "start_time": "2022-09-01T07:45:41.815746Z"
    }
   },
   "outputs": [
    {
     "data": {
      "image/png": "[encoded data removed]",
      "text/plain": [
       "<Figure size 432x288 with 1 Axes>"
      ]
     },
     "metadata": {
      "needs_background": "light"
     },
     "output_type": "display_data"
    }
   ],
   "source": [
    "from scipy.stats import norm\n",
    "r = norm.rvs(size=5000)\n",
    "\n",
    "dst = Distribution()\n",
    "dst.Fit(r)\n",
    "dst.Plot(r)"
   ]
  },
  {
   "cell_type": "code",
   "execution_count": 73,
   "id": "5f236dcc",
   "metadata": {
    "ExecuteTime": {
     "end_time": "2022-09-01T07:45:05.447198Z",
     "start_time": "2022-09-01T07:45:05.303466Z"
    }
   },
   "outputs": [
    {
     "data": {
      "image/png": "[encoded data removed]",
      "text/plain": [
       "<Figure size 432x288 with 1 Axes>"
      ]
     },
     "metadata": {
      "needs_background": "light"
     },
     "output_type": "display_data"
    }
   ],
   "source": [
    "from scipy.stats import expon\n",
    "r = expon.rvs(size=5000) #exponential\n",
    "dst = Distribution()\n",
    "dst.Fit(r)\n",
    "dst.Plot(r)"
   ]
  },
  {
   "cell_type": "code",
   "execution_count": 75,
   "id": "11902eda",
   "metadata": {
    "ExecuteTime": {
     "end_time": "2022-09-01T07:49:15.046193Z",
     "start_time": "2022-09-01T07:49:14.936456Z"
    }
   },
   "outputs": [
    {
     "data": {
      "image/png": "[encoded data removed]",
      "text/plain": [
       "<Figure size 432x288 with 1 Axes>"
      ]
     },
     "metadata": {
      "needs_background": "light"
     },
     "output_type": "display_data"
    }
   ],
   "source": [
    "from scipy.stats import expon\n",
    "dst = Distribution()\n",
    "\n",
    "dst.Fit(FRB_cat_220807_select_redshift_flux['Lum'])\n",
    "dst.Plot(FRB_cat_220807_select_redshift_flux['Lum'])"
   ]
  },
  {
   "cell_type": "code",
   "execution_count": null,
   "id": "02ebb1c4",
   "metadata": {},
   "outputs": [],
   "source": []
  }
 ],
 "metadata": {
  "kernelspec": {
   "display_name": "Python 3 (ipykernel)",
   "language": "python",
   "name": "python3"
  },
  "language_info": {
   "codemirror_mode": {
    "name": "ipython",
    "version": 3
   },
   "file_extension": ".py",
   "mimetype": "text/x-python",
   "name": "python",
   "nbconvert_exporter": "python",
   "pygments_lexer": "ipython3",
   "version": "3.9.12"
  },
  "latex_envs": {
   "LaTeX_envs_menu_present": true,
   "autoclose": false,
   "autocomplete": true,
   "bibliofile": "biblio.bib",
   "cite_by": "apalike",
   "current_citInitial": 1,
   "eqLabelWithNumbers": true,
   "eqNumInitial": 1,
   "hotkeys": {
    "equation": "Ctrl-E",
    "itemize": "Ctrl-I"
   },
   "labels_anchors": false,
   "latex_user_defs": false,
   "report_style_numbering": false,
   "user_envs_cfg": false
  },
  "toc": {
   "base_numbering": 1,
   "nav_menu": {},
   "number_sections": true,
   "sideBar": true,
   "skip_h1_title": false,
   "title_cell": "Table of Contents",
   "title_sidebar": "Contents",
   "toc_cell": false,
   "toc_position": {},
   "toc_section_display": true,
   "toc_window_display": false
  }
 },
 "nbformat": 4,
 "nbformat_minor": 5
}
