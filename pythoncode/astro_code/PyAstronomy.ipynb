{
 "cells": [
  {
   "cell_type": "code",
   "execution_count": null,
   "id": "da0219e1",
   "metadata": {
    "ExecuteTime": {
     "end_time": "2022-09-20T09:12:02.391983Z",
     "start_time": "2022-09-20T09:12:02.366058Z"
    }
   },
   "outputs": [],
   "source": [
    "import matplotlib as mpl\n",
    "import matplotlib.pyplot as plt\n",
    "from pylab import cm\n",
    "\n",
    "import os\n",
    "from collections import OrderedDict\n",
    "from adjustText import adjust_text\n",
    "\n",
    "%matplotlib inline\n",
    "%config InlineBackend.figure_format='svg'\n",
    "# Edit the font, font size, and axes width\n",
    "mpl.rcParams['font.family'] = 'Times New Roman' #'Avenir'\n",
    "plt.rcParams['font.size'] = 18\n",
    "plt.rcParams['axes.linewidth'] = 2"
   ]
  },
  {
   "cell_type": "markdown",
   "id": "d8498a60",
   "metadata": {},
   "source": [
    "# [The Generalized Lomb-Scargle Periodogram (GLS)](https://pyastronomy.readthedocs.io/en/latest/pyTimingDoc/pyPeriodDoc/gls.html)"
   ]
  },
  {
   "cell_type": "code",
   "execution_count": null,
   "id": "f01aa076",
   "metadata": {
    "ExecuteTime": {
     "end_time": "2022-09-20T09:05:51.196854Z",
     "start_time": "2022-09-20T09:05:50.353582Z"
    }
   },
   "outputs": [],
   "source": [
    "from __future__ import print_function, division\n",
    "import numpy as np\n",
    "import matplotlib.pylab as plt\n",
    "from PyAstronomy.pyTiming import pyPeriod"
   ]
  },
  {
   "cell_type": "code",
   "execution_count": null,
   "id": "2af2a07b",
   "metadata": {
    "ExecuteTime": {
     "end_time": "2022-09-20T08:46:24.309178Z",
     "start_time": "2022-09-20T08:46:24.081696Z"
    }
   },
   "outputs": [],
   "source": [
    "# Create some evenly sampled data including a periodic term.\n",
    "# Number of data points, input frequency, amplitude of input signal,\n",
    "# and standard deviation of noise.\n",
    "N = 1000\n",
    "f = 0.1\n",
    "A = 0.15\n",
    "sig = 0.2\n",
    "\n",
    "time = np.arange(float(N))\n",
    "flux = A * np.sin(2. * np.pi*time*f)\n",
    "# Adding the noise\n",
    "flux += np.random.normal(0, sig, time.size)\n",
    "\n",
    "# Compute the GLS periodogram with default options.\n",
    "clp = pyPeriod.Gls((time, flux))\n",
    "\n",
    "# Print helpful information to screen\n",
    "clp.info()\n",
    "\n",
    "# and plot power vs. frequency.\n",
    "plt.xlabel(\"Frequency\")\n",
    "plt.ylabel(\"Power\")\n",
    "plt.plot(clp.freq, clp.power, 'b.-')\n",
    "plt.show()"
   ]
  },
  {
   "cell_type": "code",
   "execution_count": null,
   "id": "c31ca5ab",
   "metadata": {
    "ExecuteTime": {
     "end_time": "2022-09-20T08:47:18.046853Z",
     "start_time": "2022-09-20T08:47:17.966467Z"
    }
   },
   "outputs": [],
   "source": [
    "plt.xlabel(\"time\")\n",
    "plt.ylabel(\"flux\")\n",
    "plt.plot(time, flux, 'b.-')\n",
    "plt.show()"
   ]
  },
  {
   "cell_type": "code",
   "execution_count": null,
   "id": "91036f22",
   "metadata": {},
   "outputs": [],
   "source": []
  },
  {
   "cell_type": "markdown",
   "id": "54486fea",
   "metadata": {},
   "source": [
    "## False-Alarm-Probability"
   ]
  },
  {
   "cell_type": "code",
   "execution_count": null,
   "id": "cf0c3a21",
   "metadata": {
    "ExecuteTime": {
     "end_time": "2022-09-20T08:51:33.178797Z",
     "start_time": "2022-09-20T08:51:32.914533Z"
    }
   },
   "outputs": [],
   "source": [
    "from __future__ import print_function, division\n",
    "import numpy as np\n",
    "import matplotlib.pylab as plt\n",
    "from PyAstronomy.pyTiming import pyPeriod\n",
    "\n",
    "# Create some evenly sampled data including a periodic term.\n",
    "# Number of data points, input frequency, amplitude of input signal,\n",
    "# and standard deviation of noise.\n",
    "N = 1000\n",
    "f = 0.1\n",
    "A = 0.05\n",
    "sig = 0.2\n",
    "\n",
    "time = np.arange(float(N))\n",
    "flux = A * np.sin(2. * np.pi*time*f)\n",
    "# Adding the noise\n",
    "flux += np.random.normal(0, sig, time.size)\n",
    "# Adding an error column\n",
    "err = np.ones(N)*sig\n",
    "\n",
    "# Compute the GLS periodogram with default options.\n",
    "# Choose Zechmeister-Kuerster normalization explicitly\n",
    "clp = pyPeriod.Gls((time, flux, err), norm=\"ZK\")\n",
    "\n",
    "# Print helpful information to screen\n",
    "clp.info()\n",
    "\n",
    "# Define FAP levels of 10%, 5%, and 1%\n",
    "fapLevels = np.array([0.1, 0.05, 0.01,])\n",
    "# Obtain the associated power thresholds\n",
    "plevels = clp.powerLevel(fapLevels)\n",
    "\n",
    "# and plot power vs. frequency.\n",
    "plt.xlabel(\"Frequency\")\n",
    "plt.ylabel(\"Power\")\n",
    "plt.plot(clp.freq, clp.power, 'b.-')\n",
    "# Add the FAP levels to the plot\n",
    "for i in range(len(fapLevels)):\n",
    "    plt.plot([min(clp.freq), max(clp.freq)], [plevels[i]]*2, '--',\n",
    "             label=\"FAP = %4.1f%%\" % (fapLevels[i]*100))\n",
    "plt.legend()\n",
    "\n",
    "plt.show()"
   ]
  },
  {
   "cell_type": "code",
   "execution_count": null,
   "id": "a4e79c99",
   "metadata": {
    "ExecuteTime": {
     "end_time": "2022-09-20T08:52:24.863037Z",
     "start_time": "2022-09-20T08:52:24.592503Z"
    }
   },
   "outputs": [],
   "source": [
    "from __future__ import print_function, division\n",
    "import numpy as np\n",
    "import matplotlib.pylab as plt\n",
    "from PyAstronomy.pyTiming import pyPeriod\n",
    "\n",
    "# Create some evenly sampled data including a periodic term.\n",
    "# Number of data points, input frequency, amplitude of input signal,\n",
    "# and standard deviation of noise.\n",
    "N = 1000\n",
    "f = 0.1\n",
    "A = 0.05\n",
    "sig = 0.25\n",
    "\n",
    "time = np.arange(float(N))\n",
    "flux = A * np.sin(2. * np.pi*time*f)\n",
    "# Adding the noise\n",
    "flux += np.random.normal(0, sig, time.size)\n",
    "# Adding an error column\n",
    "err = np.ones(N)*sig\n",
    "\n",
    "# Compute the GLS periodogram with default options.\n",
    "# Choose Zechmeister-Kuerster normalization explicitly\n",
    "clp = pyPeriod.Gls((time, flux, err), norm=\"ZK\")\n",
    "\n",
    "# Print helpful information to screen\n",
    "clp.info()\n",
    "\n",
    "# Define FAP levels of 10%, 5%, and 1%\n",
    "fapLevels = np.array([0.1, 0.05, 0.01,0.001])\n",
    "# Obtain the associated power thresholds\n",
    "plevels = clp.powerLevel(fapLevels)\n",
    "\n",
    "# and plot power vs. frequency.\n",
    "plt.xlabel(\"Frequency\")\n",
    "plt.ylabel(\"Power\")\n",
    "plt.plot(clp.freq, clp.power, 'b.-')\n",
    "# Add the FAP levels to the plot\n",
    "for i in range(len(fapLevels)):\n",
    "    plt.plot([min(clp.freq), max(clp.freq)], [plevels[i]]*2, '--',\n",
    "             label=\"FAP = %4.1f%%\" % (fapLevels[i]*100))\n",
    "plt.legend()\n",
    "\n",
    "plt.show()"
   ]
  },
  {
   "cell_type": "code",
   "execution_count": null,
   "id": "c1e36600",
   "metadata": {
    "ExecuteTime": {
     "end_time": "2022-09-20T11:00:28.307127Z",
     "start_time": "2022-09-20T11:00:27.998937Z"
    }
   },
   "outputs": [],
   "source": [
    "from __future__ import print_function, division\n",
    "import numpy as np\n",
    "import matplotlib.pylab as plt\n",
    "from PyAstronomy.pyTiming import pyPeriod\n",
    "\n",
    "# Create some evenly sampled data including a periodic term.\n",
    "# Number of data points, input frequency, amplitude of input signal,\n",
    "# and standard deviation of noise.\n",
    "N = 1000\n",
    "f = 0.171\n",
    "A = 0.5\n",
    "sig = 0.2\n",
    "\n",
    "time = np.arange(float(N))\n",
    "flux = A * np.sin(2. * np.pi*time*f)\n",
    "# Adding the noise\n",
    "flux += np.random.normal(0, sig, time.size)\n",
    "# Adding an error column\n",
    "err = np.ones(N)*sig\n",
    "\n",
    "# Compute the GLS periodogram with default options.\n",
    "# Choose Zechmeister-Kuerster normalization explicitly\n",
    "clp = pyPeriod.Gls((time, flux, err), norm=\"ZK\")\n",
    "\n",
    "# Get index associated with highest power\n",
    "ifmax = np.argmax(clp.power)\n",
    "# and highest power and associated frequency\n",
    "pmax = clp.power[ifmax]\n",
    "fmax = clp.freq[ifmax]\n",
    "# Convert frequency into period\n",
    "hpp = 1./fmax\n",
    "print(\"Highest-power period: \", hpp)\n",
    "\n",
    "# Calculate sine wave associated with 'best-fit' frequency\n",
    "bestSine = clp.sinmod(time)\n",
    "\n",
    "plt.subplot(2, 1, 1)\n",
    "plt.title(\"Data and sine asscoiated with highest-power frequency\")\n",
    "plt.plot(time, flux, 'b.')\n",
    "plt.plot(time, bestSine, 'r--')\n",
    "\n",
    "plt.subplot(2, 1, 2)\n",
    "plt.title(\"Folded data\")\n",
    "plt.plot(time/hpp-np.floor(time/hpp), flux, 'b.')\n",
    "plt.show()"
   ]
  },
  {
   "cell_type": "code",
   "execution_count": null,
   "id": "8d5ccda4",
   "metadata": {
    "ExecuteTime": {
     "end_time": "2022-09-20T08:56:44.248605Z",
     "start_time": "2022-09-20T08:56:44.239603Z"
    }
   },
   "outputs": [],
   "source": [
    "print(ifmax ,pmax ,fmax,fmax**(-1) )"
   ]
  },
  {
   "cell_type": "code",
   "execution_count": null,
   "id": "f45c130a",
   "metadata": {
    "ExecuteTime": {
     "end_time": "2022-09-20T08:57:56.326673Z",
     "start_time": "2022-09-20T08:57:56.218028Z"
    }
   },
   "outputs": [],
   "source": [
    "np.floor?"
   ]
  },
  {
   "cell_type": "markdown",
   "id": "49d9efa0",
   "metadata": {},
   "source": [
    "## unevenly"
   ]
  },
  {
   "cell_type": "code",
   "execution_count": null,
   "id": "638703e5",
   "metadata": {
    "ExecuteTime": {
     "end_time": "2022-09-20T11:00:38.547703Z",
     "start_time": "2022-09-20T11:00:38.309379Z"
    }
   },
   "outputs": [],
   "source": [
    "time = np.random.uniform(54000., 56000., 1000)\n",
    "flux = 0.15 * np.sin(2. * np.pi * time / 10.)\n",
    "\n",
    "error = 0.5 * np.ones(time.size)\n",
    "flux += np.random.normal(0, error)\n",
    "\n",
    "gls = pyPeriod.Gls((time, flux, error), verbose=True)\n",
    "\n",
    "maxPower = gls.pmax\n",
    "print(\"GLS maximum power: \", maxPower)\n",
    "print(\"GLS statistics of maximum power peak: \", gls.stats(maxPower))\n"
   ]
  },
  {
   "cell_type": "code",
   "execution_count": null,
   "id": "66a32f95",
   "metadata": {
    "ExecuteTime": {
     "end_time": "2022-09-20T11:00:39.596602Z",
     "start_time": "2022-09-20T11:00:39.397981Z"
    }
   },
   "outputs": [],
   "source": [
    "plt.xlabel(\"Frequency\")\n",
    "plt.ylabel(\"Power\")\n",
    "plt.plot(gls.freq, gls.power, 'b.-')\n",
    "plt.show()"
   ]
  },
  {
   "cell_type": "code",
   "execution_count": null,
   "id": "a6c64fb3",
   "metadata": {
    "ExecuteTime": {
     "end_time": "2022-09-20T11:00:41.457003Z",
     "start_time": "2022-09-20T11:00:41.449714Z"
    }
   },
   "outputs": [],
   "source": [
    "gls"
   ]
  },
  {
   "cell_type": "code",
   "execution_count": null,
   "id": "45434f9f",
   "metadata": {
    "ExecuteTime": {
     "end_time": "2022-09-20T11:00:43.290183Z",
     "start_time": "2022-09-20T11:00:42.637004Z"
    }
   },
   "outputs": [],
   "source": [
    "gls.plot(block=True) #block=True period"
   ]
  },
  {
   "cell_type": "markdown",
   "id": "34a0e913",
   "metadata": {
    "ExecuteTime": {
     "end_time": "2022-09-20T09:13:10.472115Z",
     "start_time": "2022-09-20T09:13:10.459990Z"
    }
   },
   "source": [
    "gls_pnorm=gls.pnorm('wrms')"
   ]
  },
  {
   "cell_type": "code",
   "execution_count": null,
   "id": "8179cb36",
   "metadata": {},
   "outputs": [],
   "source": []
  }
 ],
 "metadata": {
  "kernelspec": {
   "display_name": "Python 3 (ipykernel)",
   "language": "python",
   "name": "python3"
  },
  "language_info": {
   "codemirror_mode": {
    "name": "ipython",
    "version": 3
   },
   "file_extension": ".py",
   "mimetype": "text/x-python",
   "name": "python",
   "nbconvert_exporter": "python",
   "pygments_lexer": "ipython3",
   "version": "3.9.12"
  },
  "latex_envs": {
   "LaTeX_envs_menu_present": true,
   "autoclose": false,
   "autocomplete": true,
   "bibliofile": "biblio.bib",
   "cite_by": "apalike",
   "current_citInitial": 1,
   "eqLabelWithNumbers": true,
   "eqNumInitial": 1,
   "hotkeys": {
    "equation": "Ctrl-E",
    "itemize": "Ctrl-I"
   },
   "labels_anchors": false,
   "latex_user_defs": false,
   "report_style_numbering": false,
   "user_envs_cfg": false
  },
  "toc": {
   "base_numbering": 1,
   "nav_menu": {},
   "number_sections": true,
   "sideBar": true,
   "skip_h1_title": false,
   "title_cell": "Table of Contents",
   "title_sidebar": "Contents",
   "toc_cell": false,
   "toc_position": {},
   "toc_section_display": true,
   "toc_window_display": true
  }
 },
 "nbformat": 4,
 "nbformat_minor": 5
}
