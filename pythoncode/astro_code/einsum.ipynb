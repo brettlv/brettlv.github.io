{
 "cells": [
  {
   "cell_type": "code",
   "execution_count": 2,
   "metadata": {
    "ExecuteTime": {
     "end_time": "2019-07-02T13:55:01.174476Z",
     "start_time": "2019-07-02T13:55:00.832804Z"
    },
    "collapsed": true
   },
   "outputs": [],
   "source": [
    "import numpy as np"
   ]
  },
  {
   "cell_type": "code",
   "execution_count": 3,
   "metadata": {
    "ExecuteTime": {
     "end_time": "2019-07-02T13:55:01.255822Z",
     "start_time": "2019-07-02T13:55:01.245252Z"
    },
    "collapsed": false
   },
   "outputs": [],
   "source": [
    "N = 10\n",
    "C = np.random.rand(N, N)\n",
    "I = np.random.rand(N, N, N, N)\n",
    "\n",
    "def naive(I, C):\n",
    "    # N^8 scaling\n",
    "    return np.einsum('pi,qj,ijkl,rk,sl->pqrs', C, C, I, C, C)\n",
    "\n",
    "def optimized(I, C):\n",
    "    # N^5 scaling\n",
    "    K = np.einsum('pi,ijkl->pjkl', C, I)\n",
    "    K = np.einsum('qj,pjkl->pqkl', C, K)\n",
    "    K = np.einsum('rk,pqkl->pqrl', C, K)\n",
    "    K = np.einsum('sl,pqrl->pqrs', C, K)\n",
    "    return K"
   ]
  },
  {
   "cell_type": "code",
   "execution_count": 5,
   "metadata": {
    "ExecuteTime": {
     "end_time": "2019-07-02T13:55:34.805821Z",
     "start_time": "2019-07-02T13:55:33.531810Z"
    },
    "collapsed": false
   },
   "outputs": [
    {
     "data": {
      "text/plain": [
       "True"
      ]
     },
     "execution_count": 5,
     "metadata": {},
     "output_type": "execute_result"
    }
   ],
   "source": [
    "np.allclose(naive(I, C), optimized(I, C))"
   ]
  },
  {
   "cell_type": "code",
   "execution_count": 6,
   "metadata": {
    "ExecuteTime": {
     "end_time": "2019-07-02T13:55:48.458379Z",
     "start_time": "2019-07-02T13:55:44.317614Z"
    },
    "collapsed": false
   },
   "outputs": [
    {
     "name": "stdout",
     "output_type": "stream",
     "text": [
      "1 loop, best of 3: 965 ms per loop\n"
     ]
    }
   ],
   "source": [
    "%timeit naive(I, C)"
   ]
  },
  {
   "cell_type": "code",
   "execution_count": 7,
   "metadata": {
    "ExecuteTime": {
     "end_time": "2019-07-02T13:56:23.517354Z",
     "start_time": "2019-07-02T13:56:20.949979Z"
    },
    "collapsed": false
   },
   "outputs": [
    {
     "name": "stdout",
     "output_type": "stream",
     "text": [
      "1000 loops, best of 3: 600 µs per loop\n"
     ]
    }
   ],
   "source": [
    "%timeit optimized(I, C)"
   ]
  },
  {
   "cell_type": "code",
   "execution_count": 4,
   "metadata": {
    "ExecuteTime": {
     "end_time": "2019-07-02T13:55:17.573944Z",
     "start_time": "2019-07-02T13:55:17.565490Z"
    },
    "collapsed": false
   },
   "outputs": [
    {
     "ename": "SyntaxError",
     "evalue": "invalid syntax (<ipython-input-4-f4aeaa6f540a>, line 5)",
     "output_type": "error",
     "traceback": [
      "\u001b[0;36m  File \u001b[0;32m\"<ipython-input-4-f4aeaa6f540a>\"\u001b[0;36m, line \u001b[0;32m5\u001b[0m\n\u001b[0;31m    1 loops, best of 3: 934 ms per loop\u001b[0m\n\u001b[0m          ^\u001b[0m\n\u001b[0;31mSyntaxError\u001b[0m\u001b[0;31m:\u001b[0m invalid syntax\n"
     ]
    }
   ],
   "source": [
    "True\n",
    "\n",
    "1 loops, best of 3: 934 ms per loop\n",
    "\n",
    "1000 loops, best of 3: 527 us per loop"
   ]
  },
  {
   "cell_type": "code",
   "execution_count": 9,
   "metadata": {
    "ExecuteTime": {
     "end_time": "2019-07-02T13:59:38.582558Z",
     "start_time": "2019-07-02T13:59:33.495734Z"
    },
    "collapsed": false
   },
   "outputs": [
    {
     "name": "stdout",
     "output_type": "stream",
     "text": [
      "The slowest run took 9.71 times longer than the fastest. This could mean that an intermediate result is being cached.\n",
      "1000 loops, best of 3: 1.17 ms per loop\n"
     ]
    }
   ],
   "source": [
    "from opt_einsum import contract\n",
    "\n",
    "%timeit contract('pi,qj,ijkl,rk,sl->pqrs', C, C, I, C, C)"
   ]
  },
  {
   "cell_type": "code",
   "execution_count": null,
   "metadata": {
    "collapsed": true
   },
   "outputs": [],
   "source": []
  }
 ],
 "metadata": {
  "kernelspec": {
   "display_name": "Python 3",
   "language": "python",
   "name": "python3"
  },
  "language_info": {
   "codemirror_mode": {
    "name": "ipython",
    "version": 3
   },
   "file_extension": ".py",
   "mimetype": "text/x-python",
   "name": "python",
   "nbconvert_exporter": "python",
   "pygments_lexer": "ipython3",
   "version": "3.6.0"
  },
  "latex_envs": {
   "LaTeX_envs_menu_present": true,
   "autocomplete": true,
   "bibliofile": "biblio.bib",
   "cite_by": "apalike",
   "current_citInitial": 1,
   "eqLabelWithNumbers": true,
   "eqNumInitial": 1,
   "hotkeys": {
    "equation": "Ctrl-E",
    "itemize": "Ctrl-I"
   },
   "labels_anchors": false,
   "latex_user_defs": false,
   "report_style_numbering": false,
   "user_envs_cfg": false
  },
  "toc": {
   "nav_menu": {},
   "number_sections": true,
   "sideBar": true,
   "skip_h1_title": false,
   "toc_cell": false,
   "toc_position": {},
   "toc_section_display": "block",
   "toc_window_display": false
  }
 },
 "nbformat": 4,
 "nbformat_minor": 2
}
