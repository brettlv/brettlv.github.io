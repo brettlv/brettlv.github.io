{
 "cells": [
  {
   "cell_type": "code",
   "execution_count": null,
   "metadata": {
    "collapsed": true
   },
   "outputs": [],
   "source": []
  },
  {
   "cell_type": "markdown",
   "metadata": {},
   "source": [
    "<font  color=black size=\"5\" >Paper Summary </font> "
   ]
  },
  {
   "cell_type": "markdown",
   "metadata": {
    "ExecuteTime": {
     "end_time": "2018-08-15T17:06:23.751246Z",
     "start_time": "2018-08-15T17:06:23.603040Z"
    }
   },
   "source": [
    "RXJ0806+1527"
   ]
  },
  {
   "cell_type": "markdown",
   "metadata": {
    "ExecuteTime": {
     "end_time": "2018-08-15T16:28:10.580868Z",
     "start_time": "2018-08-15T16:28:10.571885Z"
    }
   },
   "source": [
    "\n",
    "\n",
    "# Spectral Analysis K.Reinsch 2007\n",
    "\n",
    "\n",
    "## abstract\n",
    "Luminous soft X-ray sources 100% modulated\n",
    "ROSAT All-Sky Survey\n",
    "period 321.54s\n",
    "\n",
    "could be progenitor of <font color=red>AM CVn stars </font>\n",
    "(semi-detached accreting binaries with helium-rich donors and orbital periods 10~65min)\n",
    "\n",
    "NLTE model analysis(originally from (Israel et al 2002):\n",
    "optical spectrum a blue continuum with weak emission lines\n",
    "derived abundance ratio(He/H)~0.1 \n",
    "low surface gravity log(g)=6\n",
    "\n",
    "flux implies a distance d~2kpc\n",
    "donor must have about solar composition\n",
    "\n",
    "\n",
    "spectral energy distribution dominated by two black-body like components with temperature ~40000K and ~750000K\n",
    "optical weak emission line wavelengths corresponding to HeI and HeII transitions \n",
    "blue continuum(Israel et al 2002,2003)"
   ]
  },
  {
   "cell_type": "markdown",
   "metadata": {
    "ExecuteTime": {
     "end_time": "2018-08-15T16:28:22.956181Z",
     "start_time": "2018-08-15T16:28:22.950087Z"
    }
   },
   "source": [
    "## Several model:\n",
    "\n",
    "### double-degenerate polar model(Cropper et al 1998)\n",
    "\n",
    "### direct-impact accretor model(Marsh&Steeghs 2002;Ramsay et al 2002b)\n",
    "\n",
    "secondary fills Roche Lobe and mass transfer  \n",
    "binary's compact geometry leads to accretion stream directly impacting primary and no accretion disk form\n",
    "\n",
    "### unipolar inductor model(Wu et al 2002)\n",
    "\n",
    "a magnetized,more massive primary WD spinning asynchronously with respect to orbit induces an E field in secondary WD   \n",
    "X-rays produced by resistive dissipation in primary's atmosphere.\n",
    "\n",
    "both assume orbit period of an ultra-compact binary\n",
    "\n",
    "\n",
    "### an intermediate polar model(Norton et al 2004)\n",
    "in favor of spin of the white dwarf\n",
    "\n",
    "\n",
    "## Discussion:\n",
    "if continuum from primary component with typical mass 0.6 solor mass,Tbb~350000K\n",
    "d~2kpc\n",
    "\n",
    "$T_{eff}~750000K \\\\  R_{spot}~100km \\\\ f_{accr}~10^{-4} \\\\ L_x~10^{34}erg/s$\n",
    "\n"
   ]
  },
  {
   "cell_type": "markdown",
   "metadata": {},
   "source": []
  },
  {
   "cell_type": "markdown",
   "metadata": {},
   "source": [
    "#  Turn-on of mass transfer in AM CVN: Christopher 2006\n",
    "\n",
    "## abstract\n",
    "evolution calculations mass transfer in AM CVn binaries\n",
    "mass transfer rate $\\dot{M}$>0 and $\\dot{\\nu}>0$ last $10^3-10^6 yrs$\n",
    "\n",
    "\n",
    "for accretion model,we predict $\\ddot{\\nu} \\approx 10^{-28}Hz \\cdot s^{-2}$ \n",
    "\n",
    "total 20 yr baseline timing observations can prove $\\ddot{\\nu}$ at this level\n"
   ]
  },
  {
   "cell_type": "markdown",
   "metadata": {},
   "source": [
    "Parameters  \n",
    "\n",
    "name | period | $\\dot{\\nu}(Hz \\cdot s^{-1})$ \n",
    "-----|------- | -----------------------------\n",
    "RX J0806| 321s  | 3.6e-16\n",
    "RX J1914 |  569s | 7e-18 "
   ]
  },
  {
   "cell_type": "markdown",
   "metadata": {
    "ExecuteTime": {
     "end_time": "2018-08-24T13:07:15.421536Z",
     "start_time": "2018-08-24T13:07:15.351301Z"
    }
   },
   "source": [
    "UI model predict $\\dot{\\nu}>0$,  \n",
    "assuming $R_L=R_2$,accretion model predict $\\dot{\\nu}<0$,however this constraint requires a large mass transfer rate  \n",
    "$\\dot{M}\\approx 10^{-7}-10^{-5}M_{\\odot}yr^{-1}$\n",
    "\n",
    "if $\\dot{M}$ << equilibrium value,observing $\\dot{\\nu}>0$ is possible."
   ]
  },
  {
   "cell_type": "markdown",
   "metadata": {},
   "source": [
    "we assume conservative mass transfer,circular orbits, and GW emission is the only source of orbital angular momentum, J loss.  \n",
    "we use prescription of Ritter(1988) to calculate $\\dot{M}$ when $R_L \\ge R_2$ and of Kolb&Ritter(1990) when $R_L \\le R_2$  \n",
    "\n",
    "$\\dot{\\nu}=-3\\nu[\\frac{\\dot{J}}{J}-(1-q)\\frac{\\dot{M}_2}{M_2}]$  \n",
    "$q=M_2/M_1$and $\\dot{M}_2=-\\dot{M}<0$,$\\dot{J}/J<0$\n",
    "\n"
   ]
  },
  {
   "cell_type": "code",
   "execution_count": null,
   "metadata": {
    "collapsed": true
   },
   "outputs": [],
   "source": []
  },
  {
   "cell_type": "code",
   "execution_count": null,
   "metadata": {
    "collapsed": true
   },
   "outputs": [],
   "source": []
  },
  {
   "cell_type": "code",
   "execution_count": null,
   "metadata": {
    "collapsed": true
   },
   "outputs": [],
   "source": []
  },
  {
   "cell_type": "code",
   "execution_count": null,
   "metadata": {
    "collapsed": true
   },
   "outputs": [],
   "source": []
  },
  {
   "cell_type": "code",
   "execution_count": null,
   "metadata": {
    "collapsed": true
   },
   "outputs": [],
   "source": []
  }
 ],
 "metadata": {
  "kernelspec": {
   "display_name": "Python 3",
   "language": "python",
   "name": "python3"
  },
  "language_info": {
   "codemirror_mode": {
    "name": "ipython",
    "version": 3
   },
   "file_extension": ".py",
   "mimetype": "text/x-python",
   "name": "python",
   "nbconvert_exporter": "python",
   "pygments_lexer": "ipython3",
   "version": "3.6.0"
  },
  "latex_envs": {
   "LaTeX_envs_menu_present": true,
   "autocomplete": true,
   "bibliofile": "biblio.bib",
   "cite_by": "apalike",
   "current_citInitial": 1,
   "eqLabelWithNumbers": true,
   "eqNumInitial": 1,
   "hotkeys": {
    "equation": "Ctrl-E",
    "itemize": "Ctrl-I"
   },
   "labels_anchors": false,
   "latex_user_defs": false,
   "report_style_numbering": false,
   "user_envs_cfg": false
  },
  "toc": {
   "nav_menu": {},
   "number_sections": true,
   "sideBar": true,
   "skip_h1_title": false,
   "toc_cell": false,
   "toc_position": {},
   "toc_section_display": "block",
   "toc_window_display": false
  }
 },
 "nbformat": 4,
 "nbformat_minor": 2
}
