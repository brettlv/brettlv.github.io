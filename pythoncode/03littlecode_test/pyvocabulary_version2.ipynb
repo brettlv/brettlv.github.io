{
 "cells": [
  {
   "cell_type": "code",
   "execution_count": 1,
   "metadata": {
    "ExecuteTime": {
     "end_time": "2023-09-05T09:02:00.331348Z",
     "start_time": "2023-09-05T09:01:59.448084Z"
    }
   },
   "outputs": [],
   "source": [
    "import numpy as np\n",
    "from numpy import cov,corrcoef\n",
    "import matplotlib.pyplot as plt\n",
    "import astropy.units as u\n",
    "from scipy.optimize import curve_fit\n",
    "import scipy\n",
    "import pandas as pd\n",
    "import tkinter as tk\n",
    "\n",
    "%matplotlib inline"
   ]
  },
  {
   "cell_type": "code",
   "execution_count": 2,
   "metadata": {
    "ExecuteTime": {
     "end_time": "2023-09-05T09:02:01.546866Z",
     "start_time": "2023-09-05T09:02:00.767333Z"
    }
   },
   "outputs": [],
   "source": [
    "vocabulary=pd.read_excel('./vocabulary20000.xlsx',header=None)#,sheet_name='')#20200 words in vocabulary\n",
    "\n",
    "vocabulary.columns=['num','words','a','b']\n",
    "\n",
    "num=vocabulary['num']\n",
    "words=vocabulary['words']"
   ]
  },
  {
   "cell_type": "code",
   "execution_count": null,
   "metadata": {
    "ExecuteTime": {
     "end_time": "2023-09-05T08:47:42.618979Z",
     "start_time": "2023-09-05T08:47:42.609553Z"
    }
   },
   "outputs": [],
   "source": [
    " "
   ]
  },
  {
   "cell_type": "markdown",
   "metadata": {
    "ExecuteTime": {
     "end_time": "2023-09-05T08:48:20.379764Z",
     "start_time": "2023-09-05T08:48:13.719359Z"
    }
   },
   "source": [
    "global inputnumber\n",
    "#inputnumber=0\n",
    "\n",
    "class App(tk.Frame):\n",
    "    global inputnumber\n",
    "    def __init__(self, master=None):\n",
    "        \n",
    "        super().__init__(master)\n",
    "        self.pack()\n",
    "\n",
    "        self.entrythingy = tk.Entry()\n",
    "        self.entrythingy.pack()\n",
    "\n",
    "        # here is the application variable\n",
    "        self.contents = tk.IntVar()\n",
    "        # set it to some value\n",
    "        self.contents.set(\"\")\n",
    "        # tell the entry widget to watch this variable\n",
    "        self.entrythingy[\"textvariable\"] = self.contents\n",
    "\n",
    "        # and here we get a callback when the user hits return.\n",
    "        # we will have the program print out the value of the\n",
    "        # application variable when the user hits return\n",
    "        self.entrythingy.bind('<Key-Return>',\n",
    "                              self.print_contents)\n",
    "\n",
    "    def print_contents(self, event):\n",
    "        global inputnumber\n",
    "        inputnumber=int(self.contents.get())\n",
    "        #np.savetxt('inputnumber.txt',intnumber)\n",
    "        print(\"Initial Number ---->\",\n",
    "              self.contents.get())\n",
    "        root.destroy()\n",
    "        \n",
    "        \n",
    "root = tk.Tk()\n",
    "root.resizable(False,False)\n",
    "root.geometry(\"400x300+10+10\")\n",
    "root.title('请输入一个3000-18000的 整数 为您的预估词汇量 ')\n",
    "app = App(master=root)\n",
    "app.mainloop()"
   ]
  },
  {
   "cell_type": "code",
   "execution_count": null,
   "metadata": {
    "ExecuteTime": {
     "end_time": "2023-09-05T08:48:35.965567Z",
     "start_time": "2023-09-05T08:48:35.958961Z"
    }
   },
   "outputs": [],
   "source": [
    "app.quit()"
   ]
  },
  {
   "cell_type": "code",
   "execution_count": 3,
   "metadata": {
    "ExecuteTime": {
     "end_time": "2023-09-05T09:02:16.641995Z",
     "start_time": "2023-09-05T09:02:16.259023Z"
    }
   },
   "outputs": [
    {
     "ename": "NameError",
     "evalue": "name 'inputnumber' is not defined",
     "output_type": "error",
     "traceback": [
      "\u001b[0;31m---------------------------------------------------------------------------\u001b[0m",
      "\u001b[0;31mNameError\u001b[0m                                 Traceback (most recent call last)",
      "Input \u001b[0;32mIn [3]\u001b[0m, in \u001b[0;36m<cell line: 2>\u001b[0;34m()\u001b[0m\n\u001b[1;32m      1\u001b[0m \u001b[38;5;66;03m#inputnumber=np.loadtxt('inputnumber.txt')\u001b[39;00m\n\u001b[0;32m----> 2\u001b[0m inputnumber\u001b[38;5;241m=\u001b[39m\u001b[38;5;28mint\u001b[39m(\u001b[43minputnumber\u001b[49m)\n\u001b[1;32m      3\u001b[0m \u001b[38;5;28;01mif\u001b[39;00m inputnumber \u001b[38;5;241m>\u001b[39m\u001b[38;5;241m3000\u001b[39m \u001b[38;5;129;01mand\u001b[39;00m inputnumber \u001b[38;5;241m<\u001b[39m \u001b[38;5;241m18000\u001b[39m: \n\u001b[1;32m      4\u001b[0m     init_num\u001b[38;5;241m=\u001b[39minputnumber\n",
      "\u001b[0;31mNameError\u001b[0m: name 'inputnumber' is not defined"
     ]
    }
   ],
   "source": [
    "#inputnumber=np.loadtxt('inputnumber.txt')\n",
    "inputnumber=int(inputnumber)\n",
    "if inputnumber >3000 and inputnumber < 18000: \n",
    "    init_num=inputnumber\n",
    "    \n",
    "print(init_num)    "
   ]
  },
  {
   "cell_type": "code",
   "execution_count": null,
   "metadata": {
    "ExecuteTime": {
     "end_time": "2023-09-05T08:48:43.797157Z",
     "start_time": "2023-09-05T08:48:43.787491Z"
    }
   },
   "outputs": [],
   "source": []
  },
  {
   "cell_type": "code",
   "execution_count": 4,
   "metadata": {
    "ExecuteTime": {
     "end_time": "2023-09-05T09:02:18.834202Z",
     "start_time": "2023-09-05T09:02:18.827331Z"
    }
   },
   "outputs": [],
   "source": [
    "#词汇量范围<20000\n",
    "time=10#自定义测试次数\n",
    "init_num=5000#自定义初始词汇量   "
   ]
  },
  {
   "cell_type": "code",
   "execution_count": 17,
   "metadata": {
    "ExecuteTime": {
     "end_time": "2023-09-05T09:08:02.518905Z",
     "start_time": "2023-09-05T09:07:50.656969Z"
    }
   },
   "outputs": [],
   "source": [
    "class Application(tk.Frame):\n",
    "   \n",
    "    def __init__(self, master=None,result=0):\n",
    "        tk.Frame.__init__(self, master)\n",
    "        self.pack()\n",
    "        self.createWidgets()\n",
    "        \n",
    "        \n",
    "    def createWidgets(self):\n",
    "        \n",
    "        self.word=tk.Button(self)\n",
    "        self.word[\"text\"]=\"%s\"%(words[numoftest])\n",
    "        self.word.pack(side=\"top\")\n",
    "        \n",
    "        self.hi_yes = tk.Button(self)\n",
    "        self.hi_yes[\"text\"] = \"Known\\n(click me)\"\n",
    "        self.hi_yes[\"command\"] = self.say_yes\n",
    "        self.hi_yes.pack(side=\"left\")\n",
    "        \n",
    "        self.hi_no = tk.Button(self)\n",
    "        self.hi_no[\"text\"] = \"UnKnown\\n(click me)\"\n",
    "        self.hi_no[\"command\"] = self.say_no\n",
    "        self.hi_no.pack(side=\"right\")\n",
    "        \n",
    "        self.wordnum = tk.Button(self)\n",
    "        self.wordnum[\"text\"] = \"Num: %s\"%(numoftest)\n",
    "        #self.wordnum[\"command\"] = self.say_no\n",
    "        self.wordnum.pack(side=\"bottom\",expand =True,pady=10)\n",
    "        \n",
    "        #self.QUIT = tk.Button(self, text=\"Next Word\", fg=\"red\",\n",
    "        #                                    command=root.destroy)\n",
    "        #self.QUIT.pack(side=\"bottom\")\n",
    "        \n",
    "    \n",
    "    \n",
    "    def say_yes(self):\n",
    "        #result=1\n",
    "        global has_been_called\n",
    "        has_been_called=True\n",
    "        #return 1\n",
    "        #print(\"oh! You get it\")\n",
    "        root.destroy()        \n",
    "    def say_no(self):\n",
    "        global has_been_called\n",
    "        has_been_called=False \n",
    "        #result=0\n",
    "        #return 0\n",
    "        #print(\"em,try more \")\n",
    "        root.destroy()\n",
    "\n",
    "\n",
    "\n",
    "\n",
    "'''\n",
    "numoftest=init_num+np.random.randint(1,10)\n",
    "root = tk.Tk()\n",
    "app = Application(master=root)\n",
    "app.mainloop()\n",
    "\n",
    "'''\n",
    "\n",
    "\n",
    "has_been_called=False \n",
    "results=np.zeros((time,2))\n",
    "numoftest=init_num+np.random.randint(1,50)\n",
    "#numoftestorigin=1000\n",
    "#result=0\n",
    "\n",
    "for i in np.arange(time):  \n",
    "    root = tk.Tk()\n",
    "    #root.withdraw()\n",
    "    root.resizable(False,False)\n",
    "    root.geometry(\"400x300+10+10\")\n",
    "    root.title('词汇量测试%d/%d'%(i,time))\n",
    "    #width=root.winfo_screenmmwidth\n",
    "    #height=root.winfo_screenheight    \n",
    "    #root.deiconify()\n",
    "    app = Application(master=root)\n",
    "    app.mainloop()\n",
    "    \n",
    "    if has_been_called:        \n",
    "        results[i]=np.array([numoftest,1])\n",
    "               \n",
    "        \n",
    "        numoftest=np.around(numoftest+np.random.randint(30,100)*np.random.randint(1,3)+np.random.randint(10,50))               \n",
    "    else:\n",
    "        results[i]=np.array([numoftest,0])\n",
    "       \n",
    "        numoftest=np.around(numoftest -np.random.randint(10,100)*np.random.randint(1,3)-np.random.randint(10,50))\n",
    "    \n",
    "    root.quit()              \n",
    "#print(results[0:time])   \n",
    "    "
   ]
  },
  {
   "cell_type": "code",
   "execution_count": 16,
   "metadata": {
    "ExecuteTime": {
     "end_time": "2023-09-05T09:07:24.615339Z",
     "start_time": "2023-09-05T09:07:24.608498Z"
    }
   },
   "outputs": [],
   "source": []
  },
  {
   "cell_type": "code",
   "execution_count": null,
   "metadata": {},
   "outputs": [],
   "source": []
  },
  {
   "cell_type": "code",
   "execution_count": null,
   "metadata": {},
   "outputs": [],
   "source": []
  },
  {
   "cell_type": "code",
   "execution_count": 18,
   "metadata": {
    "ExecuteTime": {
     "end_time": "2023-09-05T09:08:10.878699Z",
     "start_time": "2023-09-05T09:08:10.870768Z"
    }
   },
   "outputs": [
    {
     "data": {
      "text/plain": [
       "20204"
      ]
     },
     "execution_count": 18,
     "metadata": {},
     "output_type": "execute_result"
    }
   ],
   "source": [
    "num.size"
   ]
  },
  {
   "cell_type": "code",
   "execution_count": 19,
   "metadata": {
    "ExecuteTime": {
     "end_time": "2023-09-05T09:08:11.567859Z",
     "start_time": "2023-09-05T09:08:11.421388Z"
    }
   },
   "outputs": [
    {
     "name": "stdout",
     "output_type": "stream",
     "text": [
      "Your vocabulary is 5722.0\n"
     ]
    },
    {
     "data": {
      "image/png": "[encoded data removed]",
      "text/plain": [
       "<Figure size 432x288 with 1 Axes>"
      ]
     },
     "metadata": {
      "needs_background": "light"
     },
     "output_type": "display_data"
    }
   ],
   "source": [
    "wordnum=results[:,0]\n",
    "yesorno=results[:,1]\n",
    "correct=np.sum(yesorno==1)\n",
    "correctrate=correct/time\n",
    "correctrateper=format(correctrate,'.2%')\n",
    "vocabularynum=np.around(np.mean(wordnum[-10:]))\n",
    "\n",
    "plt.plot(wordnum,'.') \n",
    "plt.title(\"Your correctness rate is %s \"%correctrateper)\n",
    "plt.xlabel('time of test')\n",
    "plt.ylabel('number of words')\n",
    "print(\"Your vocabulary is %s\"%vocabularynum)"
   ]
  },
  {
   "cell_type": "code",
   "execution_count": 20,
   "metadata": {
    "ExecuteTime": {
     "end_time": "2023-09-05T09:08:12.404821Z",
     "start_time": "2023-09-05T09:08:12.282248Z"
    },
    "scrolled": false
   },
   "outputs": [
    {
     "data": {
      "text/plain": [
       "Text(0.5, 0, 'number of words')"
      ]
     },
     "execution_count": 20,
     "metadata": {},
     "output_type": "execute_result"
    },
    {
     "data": {
      "image/png": "[encoded data removed]",
      "text/plain": [
       "<Figure size 432x288 with 1 Axes>"
      ]
     },
     "metadata": {
      "needs_background": "light"
     },
     "output_type": "display_data"
    }
   ],
   "source": [
    "plt.plot(wordnum,yesorno,'.') \n",
    "plt.ylabel('correct or not')\n",
    "plt.xlabel('number of words')"
   ]
  },
  {
   "cell_type": "code",
   "execution_count": null,
   "metadata": {},
   "outputs": [],
   "source": []
  },
  {
   "cell_type": "code",
   "execution_count": null,
   "metadata": {},
   "outputs": [],
   "source": []
  },
  {
   "cell_type": "code",
   "execution_count": null,
   "metadata": {},
   "outputs": [],
   "source": []
  }
 ],
 "metadata": {
  "kernelspec": {
   "display_name": "Python 3 (ipykernel)",
   "language": "python",
   "name": "python3"
  },
  "language_info": {
   "codemirror_mode": {
    "name": "ipython",
    "version": 3
   },
   "file_extension": ".py",
   "mimetype": "text/x-python",
   "name": "python",
   "nbconvert_exporter": "python",
   "pygments_lexer": "ipython3",
   "version": "3.9.12"
  },
  "latex_envs": {
   "LaTeX_envs_menu_present": true,
   "autoclose": false,
   "autocomplete": true,
   "bibliofile": "biblio.bib",
   "cite_by": "apalike",
   "current_citInitial": 1,
   "eqLabelWithNumbers": true,
   "eqNumInitial": 1,
   "hotkeys": {
    "equation": "Ctrl-E",
    "itemize": "Ctrl-I"
   },
   "labels_anchors": false,
   "latex_user_defs": false,
   "report_style_numbering": false,
   "user_envs_cfg": false
  },
  "toc": {
   "base_numbering": 1,
   "nav_menu": {},
   "number_sections": true,
   "sideBar": true,
   "skip_h1_title": false,
   "title_cell": "Table of Contents",
   "title_sidebar": "Contents",
   "toc_cell": false,
   "toc_position": {},
   "toc_section_display": "block",
   "toc_window_display": false
  }
 },
 "nbformat": 4,
 "nbformat_minor": 2
}
