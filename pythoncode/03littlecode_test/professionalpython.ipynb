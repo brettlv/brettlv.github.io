{
 "cells": [
  {
   "cell_type": "markdown",
   "metadata": {},
   "source": [
    "# Decoration\n",
    "## understand decoration"
   ]
  },
  {
   "cell_type": "code",
   "execution_count": null,
   "metadata": {
    "ExecuteTime": {
     "end_time": "2019-03-15T16:43:41.412336Z",
     "start_time": "2019-03-15T16:43:41.406597Z"
    },
    "collapsed": true
   },
   "outputs": [],
   "source": [
    "def decorated_by(func):\n",
    "    func.__doc__+='\\nDecorated by decorated_by.'\n",
    "    return func"
   ]
  },
  {
   "cell_type": "code",
   "execution_count": null,
   "metadata": {
    "ExecuteTime": {
     "end_time": "2019-03-15T16:45:26.513758Z",
     "start_time": "2019-03-15T16:45:26.510088Z"
    },
    "collapsed": true
   },
   "outputs": [],
   "source": [
    "def add(x,y):\n",
    "    '''return sum of x and y'''\n",
    "    return x+y\n",
    "add=decorated_by(add)"
   ]
  },
  {
   "cell_type": "code",
   "execution_count": null,
   "metadata": {
    "ExecuteTime": {
     "end_time": "2019-03-15T16:45:30.063403Z",
     "start_time": "2019-03-15T16:45:30.058606Z"
    },
    "collapsed": false
   },
   "outputs": [],
   "source": [
    "help(add)"
   ]
  },
  {
   "cell_type": "code",
   "execution_count": null,
   "metadata": {
    "ExecuteTime": {
     "end_time": "2019-03-15T16:50:17.584655Z",
     "start_time": "2019-03-15T16:50:17.522210Z"
    },
    "collapsed": false
   },
   "outputs": [],
   "source": [
    "@also_decorated_by\n",
    "@decorated_by\n",
    "def add(x,y):\n",
    "    '''return sum of x and y'''\n",
    "    return x+y"
   ]
  },
  {
   "cell_type": "code",
   "execution_count": null,
   "metadata": {
    "ExecuteTime": {
     "end_time": "2019-03-15T16:47:52.710719Z",
     "start_time": "2019-03-15T16:47:52.706917Z"
    },
    "collapsed": false
   },
   "outputs": [],
   "source": [
    "help(add)"
   ]
  },
  {
   "cell_type": "code",
   "execution_count": null,
   "metadata": {
    "ExecuteTime": {
     "end_time": "2019-03-15T17:03:22.748360Z",
     "start_time": "2019-03-15T17:03:22.742162Z"
    },
    "collapsed": true
   },
   "outputs": [],
   "source": [
    "class Registry(object):\n",
    "    def __init__(self):\n",
    "        self._functions=[]\n",
    "    def register(self,decorated):\n",
    "        self._functions.append(decorated)\n",
    "        return decorated\n",
    "    def run_all(self,*args,**kwargs):\n",
    "        return_values=[]\n",
    "        for func in self._functions:\n",
    "            return_values.append(func(*args,**kwargs))\n",
    "        return return_values"
   ]
  },
  {
   "cell_type": "code",
   "execution_count": null,
   "metadata": {
    "ExecuteTime": {
     "end_time": "2019-03-15T17:04:49.373226Z",
     "start_time": "2019-03-15T17:04:49.367603Z"
    },
    "collapsed": true
   },
   "outputs": [],
   "source": [
    "a=Registry()\n",
    "b=Registry()\n",
    "@a.register\n",
    "def foo(x=3):\n",
    "    return x\n",
    "\n",
    "@b.register\n",
    "def bar(x=4):\n",
    "    return x\n",
    "\n",
    "@a.register\n",
    "@b.register\n",
    "def baz(x=5):\n",
    "    return x"
   ]
  },
  {
   "cell_type": "code",
   "execution_count": null,
   "metadata": {
    "ExecuteTime": {
     "end_time": "2019-03-15T17:05:20.987123Z",
     "start_time": "2019-03-15T17:05:20.982780Z"
    },
    "collapsed": false
   },
   "outputs": [],
   "source": [
    "a.run_all(),b.run_all(),a.run_all(4)"
   ]
  },
  {
   "cell_type": "markdown",
   "metadata": {},
   "source": [
    "#### int check"
   ]
  },
  {
   "cell_type": "code",
   "execution_count": 4,
   "metadata": {
    "ExecuteTime": {
     "end_time": "2019-03-15T17:32:27.692083Z",
     "start_time": "2019-03-15T17:32:27.686202Z"
    },
    "collapsed": true
   },
   "outputs": [],
   "source": [
    "def requires_ints(decorated):\n",
    "    def inner(*args,**kwargs):\n",
    "        kwarg_values=[i for i in kwargs.values()]\n",
    "        \n",
    "        for arg in list(args) + kwarg_values:\n",
    "            if not isinstance(arg,int):\n",
    "                raise TypeError('%s only accept integers' %decorated.__name__)\n",
    "        return decorated(*args,**kwargs)\n",
    "    return inner"
   ]
  },
  {
   "cell_type": "code",
   "execution_count": 5,
   "metadata": {
    "ExecuteTime": {
     "end_time": "2019-03-15T17:32:28.338808Z",
     "start_time": "2019-03-15T17:32:28.335653Z"
    },
    "collapsed": false
   },
   "outputs": [],
   "source": [
    "@requires_ints\n",
    "def fool(x,y):\n",
    "    return x+y"
   ]
  },
  {
   "cell_type": "code",
   "execution_count": 6,
   "metadata": {
    "ExecuteTime": {
     "end_time": "2019-03-15T17:32:28.936992Z",
     "start_time": "2019-03-15T17:32:28.933119Z"
    },
    "collapsed": false
   },
   "outputs": [
    {
     "name": "stdout",
     "output_type": "stream",
     "text": [
      "Help on function inner in module __main__:\n",
      "\n",
      "inner(*args, **kwargs)\n",
      "\n"
     ]
    }
   ],
   "source": [
    "help(fool)"
   ]
  },
  {
   "cell_type": "code",
   "execution_count": 11,
   "metadata": {
    "ExecuteTime": {
     "end_time": "2019-03-15T17:33:02.102938Z",
     "start_time": "2019-03-15T17:33:02.099525Z"
    },
    "collapsed": false
   },
   "outputs": [],
   "source": [
    "fool(1,2);\n"
   ]
  },
  {
   "cell_type": "code",
   "execution_count": 12,
   "metadata": {
    "ExecuteTime": {
     "end_time": "2019-03-15T17:33:05.727770Z",
     "start_time": "2019-03-15T17:33:05.719057Z"
    },
    "collapsed": false
   },
   "outputs": [
    {
     "ename": "TypeError",
     "evalue": "fool only accept integers",
     "output_type": "error",
     "traceback": [
      "\u001b[0;31m---------------------------------------------------------------------------\u001b[0m",
      "\u001b[0;31mTypeError\u001b[0m                                 Traceback (most recent call last)",
      "\u001b[0;32m<ipython-input-12-dd81cd67f578>\u001b[0m in \u001b[0;36m<module>\u001b[0;34m()\u001b[0m\n\u001b[0;32m----> 1\u001b[0;31m \u001b[0mfool\u001b[0m\u001b[0;34m(\u001b[0m\u001b[0;36m1\u001b[0m\u001b[0;34m,\u001b[0m\u001b[0;36m2.1\u001b[0m\u001b[0;34m)\u001b[0m\u001b[0;34m\u001b[0m\u001b[0m\n\u001b[0m",
      "\u001b[0;32m<ipython-input-4-6734b21fdb48>\u001b[0m in \u001b[0;36minner\u001b[0;34m(*args, **kwargs)\u001b[0m\n\u001b[1;32m      5\u001b[0m         \u001b[0;32mfor\u001b[0m \u001b[0marg\u001b[0m \u001b[0;32min\u001b[0m \u001b[0mlist\u001b[0m\u001b[0;34m(\u001b[0m\u001b[0margs\u001b[0m\u001b[0;34m)\u001b[0m \u001b[0;34m+\u001b[0m \u001b[0mkwarg_values\u001b[0m\u001b[0;34m:\u001b[0m\u001b[0;34m\u001b[0m\u001b[0m\n\u001b[1;32m      6\u001b[0m             \u001b[0;32mif\u001b[0m \u001b[0;32mnot\u001b[0m \u001b[0misinstance\u001b[0m\u001b[0;34m(\u001b[0m\u001b[0marg\u001b[0m\u001b[0;34m,\u001b[0m\u001b[0mint\u001b[0m\u001b[0;34m)\u001b[0m\u001b[0;34m:\u001b[0m\u001b[0;34m\u001b[0m\u001b[0m\n\u001b[0;32m----> 7\u001b[0;31m                 \u001b[0;32mraise\u001b[0m \u001b[0mTypeError\u001b[0m\u001b[0;34m(\u001b[0m\u001b[0;34m'%s only accept integers'\u001b[0m \u001b[0;34m%\u001b[0m\u001b[0mdecorated\u001b[0m\u001b[0;34m.\u001b[0m\u001b[0m__name__\u001b[0m\u001b[0;34m)\u001b[0m\u001b[0;34m\u001b[0m\u001b[0m\n\u001b[0m\u001b[1;32m      8\u001b[0m         \u001b[0;32mreturn\u001b[0m \u001b[0mdecorated\u001b[0m\u001b[0;34m(\u001b[0m\u001b[0;34m*\u001b[0m\u001b[0margs\u001b[0m\u001b[0;34m,\u001b[0m\u001b[0;34m**\u001b[0m\u001b[0mkwargs\u001b[0m\u001b[0;34m)\u001b[0m\u001b[0;34m\u001b[0m\u001b[0m\n\u001b[1;32m      9\u001b[0m     \u001b[0;32mreturn\u001b[0m \u001b[0minner\u001b[0m\u001b[0;34m\u001b[0m\u001b[0m\n",
      "\u001b[0;31mTypeError\u001b[0m: fool only accept integers"
     ]
    }
   ],
   "source": [
    "fool(1,2.1)"
   ]
  },
  {
   "cell_type": "code",
   "execution_count": null,
   "metadata": {
    "collapsed": true
   },
   "outputs": [],
   "source": []
  },
  {
   "cell_type": "code",
   "execution_count": 18,
   "metadata": {
    "ExecuteTime": {
     "end_time": "2019-03-15T17:31:17.252480Z",
     "start_time": "2019-03-15T17:31:17.249536Z"
    },
    "collapsed": true
   },
   "outputs": [],
   "source": [
    "def g(x):\n",
    "    return x"
   ]
  },
  {
   "cell_type": "code",
   "execution_count": null,
   "metadata": {
    "ExecuteTime": {
     "end_time": "2019-03-15T17:22:14.103898Z",
     "start_time": "2019-03-15T17:22:14.097038Z"
    },
    "collapsed": false
   },
   "outputs": [],
   "source": [
    "import scipy\n",
    "import numpy as np\n",
    "x=np.arange(10)\n",
    "np.trapz(g(x))"
   ]
  },
  {
   "cell_type": "code",
   "execution_count": 14,
   "metadata": {
    "ExecuteTime": {
     "end_time": "2019-03-15T18:25:20.559441Z",
     "start_time": "2019-03-15T18:25:20.498947Z"
    },
    "collapsed": true
   },
   "outputs": [],
   "source": [
    "import docx,xlrd,xlwt"
   ]
  },
  {
   "cell_type": "code",
   "execution_count": 16,
   "metadata": {
    "ExecuteTime": {
     "end_time": "2019-03-15T18:26:34.482059Z",
     "start_time": "2019-03-15T18:26:34.476735Z"
    },
    "collapsed": true
   },
   "outputs": [],
   "source": [
    "import openpyxl,PIL"
   ]
  },
  {
   "cell_type": "code",
   "execution_count": null,
   "metadata": {
    "collapsed": true
   },
   "outputs": [],
   "source": []
  }
 ],
 "metadata": {
  "kernelspec": {
   "display_name": "Python 3",
   "language": "python",
   "name": "python3"
  },
  "language_info": {
   "codemirror_mode": {
    "name": "ipython",
    "version": 3
   },
   "file_extension": ".py",
   "mimetype": "text/x-python",
   "name": "python",
   "nbconvert_exporter": "python",
   "pygments_lexer": "ipython3",
   "version": "3.6.0"
  },
  "latex_envs": {
   "LaTeX_envs_menu_present": true,
   "autocomplete": true,
   "bibliofile": "biblio.bib",
   "cite_by": "apalike",
   "current_citInitial": 1,
   "eqLabelWithNumbers": true,
   "eqNumInitial": 1,
   "hotkeys": {
    "equation": "Ctrl-E",
    "itemize": "Ctrl-I"
   },
   "labels_anchors": false,
   "latex_user_defs": false,
   "report_style_numbering": false,
   "user_envs_cfg": false
  },
  "toc": {
   "nav_menu": {},
   "number_sections": true,
   "sideBar": true,
   "skip_h1_title": false,
   "toc_cell": false,
   "toc_position": {},
   "toc_section_display": "block",
   "toc_window_display": false
  }
 },
 "nbformat": 4,
 "nbformat_minor": 2
}
