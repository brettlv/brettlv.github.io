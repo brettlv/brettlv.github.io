{
 "cells": [
  {
   "cell_type": "markdown",
   "id": "0c7fec52",
   "metadata": {},
   "source": [
    "[matplotlib 中文问题](https://zhuanlan.zhihu.com/p/566430362)"
   ]
  },
  {
   "cell_type": "code",
   "execution_count": 2,
   "id": "b2ca7187",
   "metadata": {
    "ExecuteTime": {
     "end_time": "2023-06-12T08:26:40.105112Z",
     "start_time": "2023-06-12T08:26:40.093467Z"
    }
   },
   "outputs": [
    {
     "name": "stdout",
     "output_type": "stream",
     "text": [
      "/Users/lyubing/.matplotlib\n"
     ]
    }
   ],
   "source": [
    "import matplotlib as mpl\n",
    "print(mpl.get_cachedir())\n",
    "# /Users/xiewenwen/.matplotlib"
   ]
  },
  {
   "cell_type": "markdown",
   "id": "c4193ce8",
   "metadata": {},
   "source": [
    "fc-cache -fv"
   ]
  },
  {
   "cell_type": "code",
   "execution_count": 3,
   "id": "a5d4fe5b",
   "metadata": {
    "ExecuteTime": {
     "end_time": "2023-06-12T08:26:40.871157Z",
     "start_time": "2023-06-12T08:26:40.400971Z"
    }
   },
   "outputs": [
    {
     "data": {
      "image/png": "[encoded data removed]",
      "text/plain": [
       "<Figure size 432x288 with 1 Axes>"
      ]
     },
     "metadata": {
      "needs_background": "light"
     },
     "output_type": "display_data"
    }
   ],
   "source": [
    "import matplotlib as mpl\n",
    "import matplotlib.pyplot as plt\n",
    "\n",
    "def plot_demo():\n",
    "    #print(mpl.get_cachedir())\n",
    "    # 绘制折线图\n",
    "    plt.rcParams[\"font.sans-serif\"] = [\"SimHei\"]  # 设置字体\n",
    "    plt.rcParams[\"axes.unicode_minus\"] = False  # 正常显示负号\n",
    "    year = [2017, 2018, 2019, 2020]\n",
    "    people = [20, 40, 60, 70]\n",
    "    # 生成图表\n",
    "    plt.plot(year, people)\n",
    "    plt.xlabel('年份')\n",
    "    plt.ylabel('人口')\n",
    "    plt.title('人口增长')\n",
    "    # 设置纵坐标刻度\n",
    "    plt.yticks([0, 20, 40, 60, 80])\n",
    "    # 设置填充选项：参数分别对应横坐标，纵坐标，纵坐标填充起始值，填充颜色\n",
    "    plt.fill_between(year, people, 20, color='green')\n",
    "    # 显示图表\n",
    "    # plt.savefig(\"./plt.png\")\n",
    "    plt.show()\n",
    "\n",
    "plot_demo()"
   ]
  },
  {
   "cell_type": "code",
   "execution_count": null,
   "id": "f9c80e78",
   "metadata": {},
   "outputs": [],
   "source": []
  },
  {
   "cell_type": "code",
   "execution_count": null,
   "id": "72295f1b",
   "metadata": {},
   "outputs": [],
   "source": []
  }
 ],
 "metadata": {
  "kernelspec": {
   "display_name": "Python 3 (ipykernel)",
   "language": "python",
   "name": "python3"
  },
  "language_info": {
   "codemirror_mode": {
    "name": "ipython",
    "version": 3
   },
   "file_extension": ".py",
   "mimetype": "text/x-python",
   "name": "python",
   "nbconvert_exporter": "python",
   "pygments_lexer": "ipython3",
   "version": "3.9.12"
  },
  "latex_envs": {
   "LaTeX_envs_menu_present": true,
   "autoclose": false,
   "autocomplete": true,
   "bibliofile": "biblio.bib",
   "cite_by": "apalike",
   "current_citInitial": 1,
   "eqLabelWithNumbers": true,
   "eqNumInitial": 1,
   "hotkeys": {
    "equation": "Ctrl-E",
    "itemize": "Ctrl-I"
   },
   "labels_anchors": false,
   "latex_user_defs": false,
   "report_style_numbering": false,
   "user_envs_cfg": false
  },
  "toc": {
   "base_numbering": 1,
   "nav_menu": {},
   "number_sections": true,
   "sideBar": true,
   "skip_h1_title": false,
   "title_cell": "Table of Contents",
   "title_sidebar": "Contents",
   "toc_cell": false,
   "toc_position": {},
   "toc_section_display": true,
   "toc_window_display": false
  }
 },
 "nbformat": 4,
 "nbformat_minor": 5
}
