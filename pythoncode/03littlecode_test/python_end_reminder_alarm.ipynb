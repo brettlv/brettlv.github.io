{
 "cells": [
  {
   "cell_type": "code",
   "execution_count": null,
   "id": "b515252b",
   "metadata": {},
   "outputs": [],
   "source": []
  },
  {
   "cell_type": "code",
   "execution_count": null,
   "id": "252debb6",
   "metadata": {},
   "outputs": [],
   "source": []
  },
  {
   "cell_type": "markdown",
   "id": "cbf640cd",
   "metadata": {
    "ExecuteTime": {
     "end_time": "2022-10-24T02:33:54.953230Z",
     "start_time": "2022-10-24T02:33:53.628685Z"
    }
   },
   "source": [
    "#Install a pip package in the current Jupyter kernel\n",
    "import sys\n",
    "!{sys.executable} -m pip install winsound # for windows"
   ]
  },
  {
   "cell_type": "markdown",
   "id": "69defa3b",
   "metadata": {},
   "source": [
    "import winsound\n",
    "duration = 1000  # 持续时间/ms\n",
    "frequency = 500  # 频率/Hz\n",
    "winsound.Beep(frequency, duration)"
   ]
  },
  {
   "cell_type": "code",
   "execution_count": null,
   "id": "e29be59a",
   "metadata": {},
   "outputs": [],
   "source": []
  },
  {
   "cell_type": "code",
   "execution_count": null,
   "id": "011ccc2c",
   "metadata": {},
   "outputs": [],
   "source": []
  },
  {
   "cell_type": "code",
   "execution_count": null,
   "id": "5cdd7818",
   "metadata": {},
   "outputs": [],
   "source": []
  },
  {
   "cell_type": "code",
   "execution_count": null,
   "id": "ab1c0192",
   "metadata": {},
   "outputs": [],
   "source": []
  },
  {
   "cell_type": "code",
   "execution_count": null,
   "id": "e7544c04",
   "metadata": {
    "ExecuteTime": {
     "end_time": "2022-10-24T02:24:11.018737Z",
     "start_time": "2022-10-24T02:24:06.671120Z"
    }
   },
   "outputs": [],
   "source": [
    "# Install a pip package in the current Jupyter kernel\n",
    "import sys\n",
    "!{sys.executable} -m pip install playsound"
   ]
  },
  {
   "cell_type": "code",
   "execution_count": 2,
   "id": "22abdb9e",
   "metadata": {
    "ExecuteTime": {
     "end_time": "2022-10-24T04:28:01.855702Z",
     "start_time": "2022-10-24T04:27:55.798386Z"
    }
   },
   "outputs": [],
   "source": [
    "import pyttsx3\n",
    "engine = pyttsx3.init()  # 创建engine并初始化\n",
    "#engine.say(\"结束\")\n",
    "for i in range(3):\n",
    "    engine.say(\"Program Ending\")    \n",
    "engine.runAndWait()  # 等待语音播报完毕"
   ]
  },
  {
   "cell_type": "code",
   "execution_count": null,
   "id": "dbf9662f",
   "metadata": {},
   "outputs": [],
   "source": []
  },
  {
   "cell_type": "code",
   "execution_count": null,
   "id": "40c1c84f",
   "metadata": {
    "ExecuteTime": {
     "end_time": "2022-10-24T02:25:09.861119Z",
     "start_time": "2022-10-24T02:24:59.691645Z"
    }
   },
   "outputs": [],
   "source": [
    "# !pip install playsound\n",
    "from playsound import playsound\n",
    "import time\n",
    "\n",
    "def main():\n",
    "    for i in range(10):\n",
    "        time.sleep(1)\n",
    "\n",
    "if __name__ == \"__main__\":\n",
    "\ttry:\n",
    "\t\tmain()\n",
    "\t\t#播放程序成功执行完成提示音\n",
    "\t\tplaysound('succeessful.mp3')\n",
    "\texcept:\n",
    "\t\t#播放程序报错中断执行提示音\n",
    "\t\tplaysound('erro.mp3')"
   ]
  },
  {
   "cell_type": "code",
   "execution_count": null,
   "id": "5f0e3578",
   "metadata": {},
   "outputs": [],
   "source": []
  },
  {
   "cell_type": "code",
   "execution_count": null,
   "id": "8df0f7cd",
   "metadata": {},
   "outputs": [],
   "source": [
    "在Linux(和Mac)上"
   ]
  },
  {
   "cell_type": "code",
   "execution_count": null,
   "id": "d2cda307",
   "metadata": {
    "ExecuteTime": {
     "end_time": "2022-10-24T02:32:35.289637Z",
     "start_time": "2022-10-24T02:32:35.262947Z"
    }
   },
   "outputs": [],
   "source": [
    "import os\n",
    "duration = 1  # second\n",
    "freq = 440  # Hz\n",
    "os.system('play --no-show-progress --null --channels 1 synth %s sine %f' % (duration, freq))"
   ]
  },
  {
   "cell_type": "code",
   "execution_count": null,
   "id": "bbe67bce",
   "metadata": {},
   "outputs": [],
   "source": [
    "在Mac上\n",
    "如果你在终端上使用Mac，也许在Windows上也能做同样的事情，但我只知道Mac的情况："
   ]
  },
  {
   "cell_type": "code",
   "execution_count": null,
   "id": "0d1f6878",
   "metadata": {
    "ExecuteTime": {
     "start_time": "2022-10-24T02:36:15.362Z"
    }
   },
   "outputs": [],
   "source": [
    "import os\n",
    "os.system('say \"your program has finished\"')"
   ]
  },
  {
   "cell_type": "code",
   "execution_count": null,
   "id": "4cc5346d",
   "metadata": {},
   "outputs": [],
   "source": [
    "在Linux上"
   ]
  },
  {
   "cell_type": "code",
   "execution_count": null,
   "id": "49d97d6b",
   "metadata": {
    "ExecuteTime": {
     "end_time": "2022-10-24T02:31:35.609352Z",
     "start_time": "2022-10-24T02:31:35.581900Z"
    }
   },
   "outputs": [],
   "source": [
    "import os\n",
    "os.system('spd-say \"your program has finished\"')"
   ]
  },
  {
   "cell_type": "code",
   "execution_count": null,
   "id": "03309d19",
   "metadata": {},
   "outputs": [],
   "source": []
  },
  {
   "cell_type": "code",
   "execution_count": null,
   "id": "d97c7aa4",
   "metadata": {},
   "outputs": [],
   "source": []
  },
  {
   "cell_type": "code",
   "execution_count": null,
   "id": "85984d30",
   "metadata": {},
   "outputs": [],
   "source": []
  },
  {
   "cell_type": "code",
   "execution_count": null,
   "id": "df18d8e7",
   "metadata": {},
   "outputs": [],
   "source": []
  },
  {
   "cell_type": "code",
   "execution_count": null,
   "id": "9875759f",
   "metadata": {},
   "outputs": [],
   "source": []
  },
  {
   "cell_type": "code",
   "execution_count": null,
   "id": "98ec6ded",
   "metadata": {},
   "outputs": [],
   "source": []
  },
  {
   "cell_type": "code",
   "execution_count": null,
   "id": "7b721ec8",
   "metadata": {},
   "outputs": [],
   "source": []
  },
  {
   "cell_type": "code",
   "execution_count": null,
   "id": "1e10fa88",
   "metadata": {},
   "outputs": [],
   "source": [
    "1.使用playsound库\n",
    "# !pip install playsound\n",
    "from playsound import playsound\n",
    "# 件名称/路径不能出现中文-播放完成停止，或主动中断程序\n",
    "playsound('start.mp3')\n",
    "----------------------------------------------------\n",
    "2.使用pygame库\n",
    "\n",
    "# !pip install pygame\n",
    "from pygame import mixer \n",
    "import time\n",
    "# 音频初始化\n",
    "mixer.init()\n",
    "# 加载音频文件路径 (路径必须真实存在，音频文件格式支持mp3/ogg等格式)\n",
    "# 件名称/路径可以出现中文\n",
    "mixer.music.load('音频怪物 - 典狱司.mp3')\n",
    "mixer.music.play()\n",
    "#控制文件播放时长，可选择播放音频的一段内容\n",
    "time.sleep(5)\n",
    "mixer.music.stop()\n",
    "\n",
    "----------------------------------------------------\n",
    "3.打开系统自带播放器，然后播放MP3，弹窗麻烦复杂\n",
    "\n",
    "import os\n",
    "#会弹出音频播放器的播放界面，件名称/路径不支持中文\n",
    "# 成功打开返回0，失败返回1 打开播放器程序执行完毕，关闭音乐播放在播放器内操作\n",
    "os.system('start.mp3')\n",
    "\n",
    "----------------------------------------------------\n",
    "4.使用mp3play库（仅支持python2，对python3不支持）\n",
    "# 本人电脑里只有 python3程序没有具体执行过\n",
    "import mp3play\n",
    "import time\n",
    "\n",
    "clip = mp3play.load('xx.mp3')\n",
    "clip.play()\n",
    "time.sleep(5) \n",
    "clip.stop()"
   ]
  }
 ],
 "metadata": {
  "kernelspec": {
   "display_name": "Python 3 (ipykernel)",
   "language": "python",
   "name": "python3"
  },
  "language_info": {
   "codemirror_mode": {
    "name": "ipython",
    "version": 3
   },
   "file_extension": ".py",
   "mimetype": "text/x-python",
   "name": "python",
   "nbconvert_exporter": "python",
   "pygments_lexer": "ipython3",
   "version": "3.9.12"
  },
  "latex_envs": {
   "LaTeX_envs_menu_present": true,
   "autoclose": false,
   "autocomplete": true,
   "bibliofile": "biblio.bib",
   "cite_by": "apalike",
   "current_citInitial": 1,
   "eqLabelWithNumbers": true,
   "eqNumInitial": 1,
   "hotkeys": {
    "equation": "Ctrl-E",
    "itemize": "Ctrl-I"
   },
   "labels_anchors": false,
   "latex_user_defs": false,
   "report_style_numbering": false,
   "user_envs_cfg": false
  },
  "toc": {
   "base_numbering": 1,
   "nav_menu": {},
   "number_sections": true,
   "sideBar": true,
   "skip_h1_title": false,
   "title_cell": "Table of Contents",
   "title_sidebar": "Contents",
   "toc_cell": false,
   "toc_position": {},
   "toc_section_display": true,
   "toc_window_display": false
  }
 },
 "nbformat": 4,
 "nbformat_minor": 5
}
