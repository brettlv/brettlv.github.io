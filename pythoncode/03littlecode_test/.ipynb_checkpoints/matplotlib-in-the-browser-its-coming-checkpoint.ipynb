{
 "cells": [
  {
   "cell_type": "code",
   "execution_count": 3,
   "id": "762a8373",
   "metadata": {
    "ExecuteTime": {
     "end_time": "2022-09-15T07:22:40.010376Z",
     "start_time": "2022-09-15T07:22:29.777360Z"
    }
   },
   "outputs": [
    {
     "name": "stdout",
     "output_type": "stream",
     "text": [
      "Collecting package metadata (current_repodata.json): done\n",
      "Solving environment: failed with initial frozen solve. Retrying with flexible solve.\n",
      "Collecting package metadata (repodata.json): done\n",
      "Solving environment: failed with initial frozen solve. Retrying with flexible solve.\n",
      "\n",
      "PackagesNotFoundError: The following packages are not available from current channels:\n",
      "\n",
      "  - serve_figure\n",
      "\n",
      "Current channels:\n",
      "\n",
      "  - https://repo.anaconda.com/pkgs/main/osx-64\n",
      "  - https://repo.anaconda.com/pkgs/main/noarch\n",
      "  - https://repo.anaconda.com/pkgs/r/osx-64\n",
      "  - https://repo.anaconda.com/pkgs/r/noarch\n",
      "\n",
      "To search for alternate channels that may provide the conda package you're\n",
      "looking for, navigate to\n",
      "\n",
      "    https://anaconda.org\n",
      "\n",
      "and use the search bar at the top of the page.\n",
      "\n",
      "\n"
     ]
    }
   ],
   "source": [
    "# Install a conda package in the current Jupyter kernel\n",
    "import sys\n",
    "!conda install --yes --prefix {sys.prefix} serve_figure\n",
    "\n",
    "# Install a pip package in the current Jupyter kernel\n",
    "# import sys\n",
    "\n",
    "#python -m pip install <package>\n"
   ]
  },
  {
   "cell_type": "code",
   "execution_count": 4,
   "id": "65cf9261",
   "metadata": {
    "ExecuteTime": {
     "end_time": "2022-09-15T07:22:57.475010Z",
     "start_time": "2022-09-15T07:22:56.262499Z"
    }
   },
   "outputs": [
    {
     "name": "stdout",
     "output_type": "stream",
     "text": [
      "\u001b[31mERROR: Could not find a version that satisfies the requirement serve_figure (from versions: none)\u001b[0m\r\n",
      "\u001b[31mERROR: No matching distribution found for serve_figure\u001b[0m\r\n"
     ]
    }
   ],
   "source": [
    "!{sys.executable} -m pip install serve_figure"
   ]
  },
  {
   "cell_type": "code",
   "execution_count": null,
   "id": "a327f8d5",
   "metadata": {},
   "outputs": [],
   "source": [
    "matplotlib-in-the-browser-its-coming"
   ]
  },
  {
   "cell_type": "code",
   "execution_count": null,
   "id": "da26fe48",
   "metadata": {},
   "outputs": [],
   "source": []
  },
  {
   "cell_type": "code",
   "execution_count": null,
   "id": "4960b47f",
   "metadata": {},
   "outputs": [],
   "source": []
  },
  {
   "cell_type": "markdown",
   "id": "4fabfc38",
   "metadata": {
    "ExecuteTime": {
     "end_time": "2022-09-15T07:20:39.220908Z",
     "start_time": "2022-09-15T07:20:37.998497Z"
    }
   },
   "source": [
    "pip install serve_figure"
   ]
  },
  {
   "cell_type": "code",
   "execution_count": null,
   "id": "c5396391",
   "metadata": {},
   "outputs": [],
   "source": []
  },
  {
   "cell_type": "code",
   "execution_count": 1,
   "id": "07e425a5",
   "metadata": {
    "ExecuteTime": {
     "end_time": "2022-09-15T07:20:28.854427Z",
     "start_time": "2022-09-15T07:20:28.517699Z"
    }
   },
   "outputs": [
    {
     "ename": "ModuleNotFoundError",
     "evalue": "No module named 'serve_figure'",
     "output_type": "error",
     "traceback": [
      "\u001b[0;31m---------------------------------------------------------------------------\u001b[0m",
      "\u001b[0;31mModuleNotFoundError\u001b[0m                       Traceback (most recent call last)",
      "Input \u001b[0;32mIn [1]\u001b[0m, in \u001b[0;36m<cell line: 1>\u001b[0;34m()\u001b[0m\n\u001b[0;32m----> 1\u001b[0m \u001b[38;5;28;01mimport\u001b[39;00m \u001b[38;5;21;01mserve_figure\u001b[39;00m\n\u001b[1;32m      3\u001b[0m \u001b[38;5;28;01mimport\u001b[39;00m \u001b[38;5;21;01mnumpy\u001b[39;00m \u001b[38;5;28;01mas\u001b[39;00m \u001b[38;5;21;01mnp\u001b[39;00m\n\u001b[1;32m      4\u001b[0m \u001b[38;5;28;01mfrom\u001b[39;00m \u001b[38;5;21;01mnumpy\u001b[39;00m \u001b[38;5;28;01mimport\u001b[39;00m ma\n",
      "\u001b[0;31mModuleNotFoundError\u001b[0m: No module named 'serve_figure'"
     ]
    }
   ],
   "source": [
    "import serve_figure\n",
    "import numpy as np\n",
    "from numpy import ma\n",
    "from matplotlib import pyplot as plt\n",
    "\n",
    "n = 12\n",
    "x = np.linspace(-1.5,1.5,n)\n",
    "y = np.linspace(-1.5,1.5,n*2)\n",
    "X,Y = np.meshgrid(x,y);\n",
    "Qx = np.cos(Y) - np.cos(X)\n",
    "Qz = np.sin(Y) + np.sin(X)\n",
    "Qx = (Qx + 1.1)\n",
    "Z = np.sqrt(X**2 + Y**2)/5;\n",
    "Z = (Z - Z.min()) / (Z.max() - Z.min())\n",
    "\n",
    "# The color array can include masked values:\n",
    "Zm = ma.masked_where(np.fabs(Qz) < 0.5*np.amax(Qz), Z)\n",
    "\n",
    "fig = plt.figure()\n",
    "ax = fig.add_subplot(121)\n",
    "ax.set_axis_bgcolor(\"#bdb76b\")\n",
    "ax.pcolormesh(Qx,Qz,Z, shading='gouraud')\n",
    "ax.set_title('Without masked values')\n",
    "\n",
    "ax = fig.add_subplot(122)\n",
    "ax.set_axis_bgcolor(\"#bdb76b\")\n",
    "col = ax.pcolormesh(Qx,Qz,Zm,shading='gouraud')\n",
    "ax.set_title('With masked values')\n",
    "\n",
    "serve_figure.serve_figure(fig, port=8888)"
   ]
  },
  {
   "cell_type": "code",
   "execution_count": null,
   "id": "fc9b17cf",
   "metadata": {},
   "outputs": [],
   "source": []
  }
 ],
 "metadata": {
  "kernelspec": {
   "display_name": "Python 3 (ipykernel)",
   "language": "python",
   "name": "python3"
  },
  "language_info": {
   "codemirror_mode": {
    "name": "ipython",
    "version": 3
   },
   "file_extension": ".py",
   "mimetype": "text/x-python",
   "name": "python",
   "nbconvert_exporter": "python",
   "pygments_lexer": "ipython3",
   "version": "3.9.12"
  },
  "latex_envs": {
   "LaTeX_envs_menu_present": true,
   "autoclose": false,
   "autocomplete": true,
   "bibliofile": "biblio.bib",
   "cite_by": "apalike",
   "current_citInitial": 1,
   "eqLabelWithNumbers": true,
   "eqNumInitial": 1,
   "hotkeys": {
    "equation": "Ctrl-E",
    "itemize": "Ctrl-I"
   },
   "labels_anchors": false,
   "latex_user_defs": false,
   "report_style_numbering": false,
   "user_envs_cfg": false
  },
  "toc": {
   "base_numbering": 1,
   "nav_menu": {},
   "number_sections": true,
   "sideBar": true,
   "skip_h1_title": false,
   "title_cell": "Table of Contents",
   "title_sidebar": "Contents",
   "toc_cell": false,
   "toc_position": {},
   "toc_section_display": true,
   "toc_window_display": false
  }
 },
 "nbformat": 4,
 "nbformat_minor": 5
}
