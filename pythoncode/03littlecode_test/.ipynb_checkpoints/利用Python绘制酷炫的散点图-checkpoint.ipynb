{
 "cells": [
  {
   "cell_type": "code",
   "execution_count": null,
   "metadata": {},
   "outputs": [],
   "source": [
    "利用Python绘制酷炫的散点图"
   ]
  },
  {
   "cell_type": "code",
   "execution_count": 2,
   "metadata": {
    "ExecuteTime": {
     "end_time": "2021-08-30T09:48:32.845239Z",
     "start_time": "2021-08-30T09:48:32.669852Z"
    }
   },
   "outputs": [
    {
     "data": {
      "text/plain": [
       "'/Users/brettlv/blog/brettlv.github.io/pythoncode/littlecode_test/简单散点图.html'"
      ]
     },
     "execution_count": 2,
     "metadata": {},
     "output_type": "execute_result"
    }
   ],
   "source": [
    "import pyecharts.options as opts\n",
    "from pyecharts.charts import Scatter\n",
    "\n",
    "data = [\n",
    "    [10.0, 8.04],\n",
    "    [8.0, 6.95],\n",
    "    [13.0, 7.58],\n",
    "    [9.0, 8.81],\n",
    "    [11.0, 8.33],\n",
    "    [14.0, 9.96],\n",
    "    [6.0, 7.24],\n",
    "    [4.0, 4.26],\n",
    "    [12.0, 10.84],\n",
    "    [7.0, 4.82],\n",
    "    [5.0, 5.68],\n",
    "]\n",
    "data.sort(key=lambda x: x[0])\n",
    "x_data = [d[0] for d in data]\n",
    "y_data = [d[1] for d in data]\n",
    "\n",
    "(\n",
    "    Scatter(init_opts=opts.InitOpts(width=\"1200px\", height=\"600px\"))\n",
    "    .add_xaxis(xaxis_data=x_data)\n",
    "    .add_yaxis(\n",
    "        series_name=\"\",\n",
    "        y_axis=y_data,\n",
    "        symbol_size=20,\n",
    "        label_opts=opts.LabelOpts(is_show=False),\n",
    "    )\n",
    "    .set_series_opts()\n",
    "    .set_global_opts(\n",
    "        xaxis_opts=opts.AxisOpts(\n",
    "            type_=\"value\", splitline_opts=opts.SplitLineOpts(is_show=True)\n",
    "        ),\n",
    "        yaxis_opts=opts.AxisOpts(\n",
    "            type_=\"value\",\n",
    "            axistick_opts=opts.AxisTickOpts(is_show=True),\n",
    "            splitline_opts=opts.SplitLineOpts(is_show=True),\n",
    "        ),\n",
    "        tooltip_opts=opts.TooltipOpts(is_show=False),\n",
    "    )\n",
    "    .render(\"简单散点图.html\")\n",
    ")"
   ]
  },
  {
   "cell_type": "code",
   "execution_count": 3,
   "metadata": {
    "ExecuteTime": {
     "end_time": "2021-08-30T09:50:11.765998Z",
     "start_time": "2021-08-30T09:50:11.743344Z"
    }
   },
   "outputs": [
    {
     "name": "stdout",
     "output_type": "stream",
     "text": [
      "[[113, '哈士奇'], [31, '萨摩耶'], [140, '泰迪'], [105, '金毛'], [132, '牧羊犬'], [90, '吉娃娃'], [78, '柯基']]\n"
     ]
    }
   ],
   "source": [
    "from pyecharts import options as opts\n",
    "from pyecharts.charts import Scatter\n",
    "from pyecharts.commons.utils import JsCode\n",
    "from pyecharts.faker import Faker\n",
    "\n",
    "c = (\n",
    "    Scatter()\n",
    "    .add_xaxis(Faker.choose())\n",
    "    .add_yaxis(\n",
    "        \"类别1\",\n",
    "        [list(z) for z in zip(Faker.values(), Faker.choose())],\n",
    "        label_opts=opts.LabelOpts(\n",
    "            formatter=JsCode(\n",
    "                \"function(params){return params.value[1] +' : '+ params.value[2];}\"\n",
    "            )\n",
    "        ),\n",
    "    )\n",
    "    .set_global_opts(\n",
    "        title_opts=opts.TitleOpts(title=\"多维度数据\"),\n",
    "        tooltip_opts=opts.TooltipOpts(\n",
    "            formatter=JsCode(\n",
    "                \"function (params) {return params.name + ' : ' + params.value[2];}\"\n",
    "            )\n",
    "        ),\n",
    "        visualmap_opts=opts.VisualMapOpts(\n",
    "            type_=\"color\", max_=150, min_=20, dimension=1\n",
    "        ),\n",
    "    )\n",
    "    .render(\"多维数据散点图.html\")\n",
    ")\n",
    "print([list(z) for z in zip(Faker.values(), Faker.choose())])"
   ]
  },
  {
   "cell_type": "code",
   "execution_count": 4,
   "metadata": {
    "ExecuteTime": {
     "end_time": "2021-08-30T09:54:10.565906Z",
     "start_time": "2021-08-30T09:54:10.556428Z"
    }
   },
   "outputs": [],
   "source": [
    "\n",
    "from pyecharts import options as opts\n",
    "from pyecharts.charts import Scatter\n",
    "from pyecharts.faker import Faker\n",
    "\n",
    "c = (\n",
    "    Scatter()\n",
    "    .add_xaxis(Faker.choose())\n",
    "    .add_yaxis(\"A\", Faker.values())\n",
    "    .set_global_opts(\n",
    "        title_opts=opts.TitleOpts(title=\"标题\"),\n",
    "        xaxis_opts=opts.AxisOpts(splitline_opts=opts.SplitLineOpts(is_show=True)),\n",
    "        yaxis_opts=opts.AxisOpts(splitline_opts=opts.SplitLineOpts(is_show=True)),\n",
    "    )\n",
    "    .render(\"分割线.html\")\n",
    ")"
   ]
  },
  {
   "cell_type": "code",
   "execution_count": 5,
   "metadata": {
    "ExecuteTime": {
     "end_time": "2021-08-30T09:54:54.610046Z",
     "start_time": "2021-08-30T09:54:54.600901Z"
    }
   },
   "outputs": [],
   "source": [
    "from pyecharts import options as opts\n",
    "from pyecharts.charts import Scatter\n",
    "from pyecharts.faker import Faker\n",
    "\n",
    "c = (\n",
    "    Scatter()\n",
    "    .add_xaxis(Faker.choose())\n",
    "    .add_yaxis(\"1\", Faker.values())\n",
    "    .add_yaxis(\"2\", Faker.values())\n",
    "    .set_global_opts(\n",
    "        title_opts=opts.TitleOpts(title=\"标题\"),\n",
    "        visualmap_opts=opts.VisualMapOpts(type_=\"size\", max_=150, min_=20),\n",
    "    )\n",
    "    .render(\"凸出大小散点图.html\")\n",
    ")"
   ]
  },
  {
   "cell_type": "code",
   "execution_count": 6,
   "metadata": {
    "ExecuteTime": {
     "end_time": "2021-08-30T09:55:37.300486Z",
     "start_time": "2021-08-30T09:55:37.293510Z"
    }
   },
   "outputs": [],
   "source": [
    "from pyecharts import options as opts\n",
    "from pyecharts.charts import EffectScatter\n",
    "from pyecharts.faker import Faker\n",
    "\n",
    "c = (\n",
    "    EffectScatter()\n",
    "    .add_xaxis(Faker.choose())\n",
    "    .add_yaxis(\"\", Faker.values())\n",
    "    .set_global_opts(title_opts=opts.TitleOpts(title=\"散点图\"))\n",
    "    .render(\"动态散点图.html\")\n",
    ")"
   ]
  },
  {
   "cell_type": "code",
   "execution_count": 7,
   "metadata": {
    "ExecuteTime": {
     "end_time": "2021-08-30T09:59:37.598026Z",
     "start_time": "2021-08-30T09:59:37.588732Z"
    }
   },
   "outputs": [],
   "source": [
    "from pyecharts import options as opts\n",
    "from pyecharts.charts import EffectScatter\n",
    "from pyecharts.faker import Faker\n",
    "from pyecharts.globals import SymbolType\n",
    "\n",
    "c = (\n",
    "    EffectScatter()\n",
    "    .add_xaxis(Faker.choose())\n",
    "    .add_yaxis(\"\", Faker.values(), symbol=SymbolType.ARROW)\n",
    "    .set_global_opts(title_opts=opts.TitleOpts(title=\"标题\"))\n",
    "    .render(\"箭头动态散点图.html\")\n",
    ")"
   ]
  },
  {
   "cell_type": "code",
   "execution_count": null,
   "metadata": {},
   "outputs": [],
   "source": []
  }
 ],
 "metadata": {
  "kernelspec": {
   "display_name": "Python 3",
   "language": "python",
   "name": "python3"
  },
  "language_info": {
   "codemirror_mode": {
    "name": "ipython",
    "version": 3
   },
   "file_extension": ".py",
   "mimetype": "text/x-python",
   "name": "python",
   "nbconvert_exporter": "python",
   "pygments_lexer": "ipython3",
   "version": "3.8.5"
  },
  "latex_envs": {
   "LaTeX_envs_menu_present": true,
   "autocomplete": true,
   "bibliofile": "biblio.bib",
   "cite_by": "apalike",
   "current_citInitial": 1,
   "eqLabelWithNumbers": true,
   "eqNumInitial": 1,
   "hotkeys": {
    "equation": "Ctrl-E",
    "itemize": "Ctrl-I"
   },
   "labels_anchors": false,
   "latex_user_defs": false,
   "report_style_numbering": false,
   "user_envs_cfg": false
  },
  "toc": {
   "nav_menu": {},
   "number_sections": true,
   "sideBar": true,
   "skip_h1_title": false,
   "toc_cell": false,
   "toc_position": {},
   "toc_section_display": "block",
   "toc_window_display": false
  }
 },
 "nbformat": 4,
 "nbformat_minor": 2
}
