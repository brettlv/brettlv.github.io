{
 "cells": [
  {
   "cell_type": "code",
   "execution_count": null,
   "id": "2d1eacc4",
   "metadata": {},
   "outputs": [],
   "source": [
    "# Importing libraries\n",
    "import sketch\n",
    "import pandas as pd\n",
    "file = \"D://7 Datasciense//DS_visilization//altair//airports.csv\"\n",
    "# Reading the data (using twitter data as an example)\n",
    "df = pd.read_csv(file)\n",
    "print(df)"
   ]
  },
  {
   "cell_type": "code",
   "execution_count": null,
   "id": "a3e81766",
   "metadata": {},
   "outputs": [],
   "source": []
  },
  {
   "cell_type": "code",
   "execution_count": null,
   "id": "a8b82d5a",
   "metadata": {},
   "outputs": [],
   "source": [
    "# 问表单有哪些项目\n",
    "df.sketch.ask(\"Which columns are category type?\")"
   ]
  },
  {
   "cell_type": "code",
   "execution_count": null,
   "id": "f4d83259",
   "metadata": {},
   "outputs": [],
   "source": []
  },
  {
   "cell_type": "code",
   "execution_count": null,
   "id": "53280654",
   "metadata": {},
   "outputs": [],
   "source": [
    "# 描述表单的形状行和列的大小\n",
    "df.sketch.ask(\"What is the shape of the dataframe\")"
   ]
  },
  {
   "cell_type": "code",
   "execution_count": null,
   "id": "d3e2b242",
   "metadata": {},
   "outputs": [],
   "source": [
    "# 请用一段代码实现可视化\n",
    "df.sketch.howto(\"Visualize the emotions\")"
   ]
  }
 ],
 "metadata": {
  "kernelspec": {
   "display_name": "Python 3 (ipykernel)",
   "language": "python",
   "name": "python3"
  },
  "language_info": {
   "codemirror_mode": {
    "name": "ipython",
    "version": 3
   },
   "file_extension": ".py",
   "mimetype": "text/x-python",
   "name": "python",
   "nbconvert_exporter": "python",
   "pygments_lexer": "ipython3",
   "version": "3.9.12"
  },
  "latex_envs": {
   "LaTeX_envs_menu_present": true,
   "autoclose": false,
   "autocomplete": true,
   "bibliofile": "biblio.bib",
   "cite_by": "apalike",
   "current_citInitial": 1,
   "eqLabelWithNumbers": true,
   "eqNumInitial": 1,
   "hotkeys": {
    "equation": "Ctrl-E",
    "itemize": "Ctrl-I"
   },
   "labels_anchors": false,
   "latex_user_defs": false,
   "report_style_numbering": false,
   "user_envs_cfg": false
  },
  "toc": {
   "base_numbering": 1,
   "nav_menu": {},
   "number_sections": true,
   "sideBar": true,
   "skip_h1_title": false,
   "title_cell": "Table of Contents",
   "title_sidebar": "Contents",
   "toc_cell": false,
   "toc_position": {},
   "toc_section_display": true,
   "toc_window_display": false
  }
 },
 "nbformat": 4,
 "nbformat_minor": 5
}
