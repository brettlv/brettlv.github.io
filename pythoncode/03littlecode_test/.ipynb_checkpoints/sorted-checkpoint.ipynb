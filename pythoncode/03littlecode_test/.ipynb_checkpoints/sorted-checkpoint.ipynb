{
 "cells": [
  {
   "cell_type": "markdown",
   "id": "ed3f4da0",
   "metadata": {},
   "source": [
    "# python-sort/"
   ]
  },
  {
   "cell_type": "code",
   "execution_count": 39,
   "id": "2d18eb14",
   "metadata": {
    "ExecuteTime": {
     "end_time": "2022-09-13T06:45:20.324740Z",
     "start_time": "2022-09-13T06:45:20.312978Z"
    }
   },
   "outputs": [
    {
     "data": {
      "text/plain": [
       "['h', 'hh', 'hhhh', 'hhhhh']"
      ]
     },
     "execution_count": 39,
     "metadata": {},
     "output_type": "execute_result"
    }
   ],
   "source": [
    "different_lengths = ['hhhh', 'hh', 'hhhhh','h']\n",
    "sorted(different_lengths)\n"
   ]
  },
  {
   "cell_type": "code",
   "execution_count": 13,
   "id": "514489ce",
   "metadata": {
    "ExecuteTime": {
     "end_time": "2022-09-13T06:11:28.261301Z",
     "start_time": "2022-09-13T06:11:28.251574Z"
    }
   },
   "outputs": [
    {
     "data": {
      "text/plain": [
       "['hhhhha', 'hhhhhb', 'hhhhhc', 'hhhhhd']"
      ]
     },
     "execution_count": 13,
     "metadata": {},
     "output_type": "execute_result"
    }
   ],
   "source": [
    "very_similar_strs = ['hhhhhd', 'hhhhha', 'hhhhhc','hhhhhb']\n",
    "sorted(very_similar_strs)"
   ]
  },
  {
   "cell_type": "code",
   "execution_count": 12,
   "id": "c761cbec",
   "metadata": {
    "ExecuteTime": {
     "end_time": "2022-09-13T06:11:10.831526Z",
     "start_time": "2022-09-13T06:11:10.819073Z"
    }
   },
   "outputs": [
    {
     "data": {
      "text/plain": [
       "[1, 3, 6, 9]"
      ]
     },
     "execution_count": 12,
     "metadata": {},
     "output_type": "execute_result"
    }
   ],
   "source": [
    "names_with_case = ['harry', 'Suzy', 'al', 'Mark']\n",
    "sorted(names_with_case, reverse=True)\n",
    "\n",
    "similar_values = [False, 1, 'A' == 'B', 1 <= 0]\n",
    "sorted(similar_values, reverse=True)\n",
    "\n",
    "numbers = [6, 9, 3, 1]\n",
    "sorted(numbers, reverse=False)"
   ]
  },
  {
   "cell_type": "code",
   "execution_count": null,
   "id": "f0824483",
   "metadata": {},
   "outputs": [],
   "source": []
  },
  {
   "cell_type": "code",
   "execution_count": 9,
   "id": "8c919b09",
   "metadata": {
    "ExecuteTime": {
     "end_time": "2022-09-13T06:09:56.765923Z",
     "start_time": "2022-09-13T06:09:56.743520Z"
    }
   },
   "outputs": [
    {
     "name": "stdout",
     "output_type": "stream",
     "text": [
      "['Mark', 'Suzy', 'al', 'harry']\n",
      "['al', 'harry', 'Mark', 'Suzy']\n"
     ]
    }
   ],
   "source": [
    "names_with_case = ['harry', 'Suzy', 'al', 'Mark']\n",
    "print(sorted(names_with_case))\n",
    "\n",
    "print(sorted(names_with_case, key=str.lower))"
   ]
  },
  {
   "cell_type": "code",
   "execution_count": 11,
   "id": "7a6a7d82",
   "metadata": {
    "ExecuteTime": {
     "end_time": "2022-09-13T06:10:39.906475Z",
     "start_time": "2022-09-13T06:10:39.895426Z"
    }
   },
   "outputs": [
    {
     "name": "stdout",
     "output_type": "stream",
     "text": [
      "5\n"
     ]
    },
    {
     "data": {
      "text/plain": [
       "['pie', 'book', 'banana', 'Washington']"
      ]
     },
     "execution_count": 11,
     "metadata": {},
     "output_type": "execute_result"
    }
   ],
   "source": [
    "word = 'paper'\n",
    "print(len(word))\n",
    "\n",
    "words = ['banana', 'pie', 'Washington', 'book']\n",
    "sorted(words, key=len)"
   ]
  },
  {
   "cell_type": "code",
   "execution_count": null,
   "id": "7e873127",
   "metadata": {},
   "outputs": [],
   "source": []
  },
  {
   "cell_type": "code",
   "execution_count": 22,
   "id": "ba809f8e",
   "metadata": {
    "ExecuteTime": {
     "end_time": "2022-09-13T06:16:17.479294Z",
     "start_time": "2022-09-13T06:16:17.467636Z"
    }
   },
   "outputs": [
    {
     "data": {
      "text/plain": [
       "['aa', 'ab', 'ac', 'ba', 'ca', 'cb']"
      ]
     },
     "execution_count": 22,
     "metadata": {},
     "output_type": "execute_result"
    }
   ],
   "source": [
    "words = [\"aa\", \"ab\", \"ac\", \"ba\", \"cb\", \"ca\"]\n",
    "sorted(words)"
   ]
  },
  {
   "cell_type": "code",
   "execution_count": 20,
   "id": "58e1d7d1",
   "metadata": {
    "ExecuteTime": {
     "end_time": "2022-09-13T06:15:58.072138Z",
     "start_time": "2022-09-13T06:15:58.060810Z"
    }
   },
   "outputs": [
    {
     "data": {
      "text/plain": [
       "['banana', 'Washington', 'pie', 'book']"
      ]
     },
     "execution_count": 20,
     "metadata": {},
     "output_type": "execute_result"
    }
   ],
   "source": [
    "def select_second_character(word):\n",
    "    return word[1]\n",
    "\n",
    "def select_third_character(word):\n",
    "    return word[2]\n",
    "\n",
    "\n",
    "sorted(words, key=select_second_character)"
   ]
  },
  {
   "cell_type": "code",
   "execution_count": 21,
   "id": "037c1a84",
   "metadata": {
    "ExecuteTime": {
     "end_time": "2022-09-13T06:15:58.416628Z",
     "start_time": "2022-09-13T06:15:58.406293Z"
    }
   },
   "outputs": [
    {
     "data": {
      "text/plain": [
       "['pie', 'banana', 'book', 'Washington']"
      ]
     },
     "execution_count": 21,
     "metadata": {},
     "output_type": "execute_result"
    }
   ],
   "source": [
    "sorted(words, key=select_third_character)"
   ]
  },
  {
   "cell_type": "code",
   "execution_count": 41,
   "id": "d33c145c",
   "metadata": {
    "ExecuteTime": {
     "end_time": "2022-09-13T06:46:16.401073Z",
     "start_time": "2022-09-13T06:46:16.387457Z"
    }
   },
   "outputs": [
    {
     "data": {
      "text/plain": [
       "['banana', 'pie', 'book', 'Washington']"
      ]
     },
     "execution_count": 41,
     "metadata": {},
     "output_type": "execute_result"
    }
   ],
   "source": [
    "def reverse_word(word):\n",
    "    return word[::-1]\n",
    "\n",
    "words = ['banana', 'pie', 'Washington', 'book']\n",
    "sorted(words, key=reverse_word)"
   ]
  },
  {
   "cell_type": "code",
   "execution_count": 40,
   "id": "73a7777c",
   "metadata": {
    "ExecuteTime": {
     "end_time": "2022-09-13T06:45:59.849731Z",
     "start_time": "2022-09-13T06:45:59.838487Z"
    }
   },
   "outputs": [
    {
     "data": {
      "text/plain": [
       "['banana', 'pie', 'book', 'Washington']"
      ]
     },
     "execution_count": 40,
     "metadata": {},
     "output_type": "execute_result"
    }
   ],
   "source": [
    "words = ['banana', 'pie', 'Washington', 'book']\n",
    "sorted(words, key=lambda x: x[::-1])"
   ]
  },
  {
   "cell_type": "code",
   "execution_count": 42,
   "id": "c27b6cc3",
   "metadata": {
    "ExecuteTime": {
     "end_time": "2022-09-13T06:46:34.697335Z",
     "start_time": "2022-09-13T06:46:34.687654Z"
    }
   },
   "outputs": [
    {
     "data": {
      "text/plain": [
       "['Washington', 'book', 'pie', 'banana']"
      ]
     },
     "execution_count": 42,
     "metadata": {},
     "output_type": "execute_result"
    }
   ],
   "source": [
    "words = ['banana', 'pie', 'Washington', 'book']\n",
    "sorted(words, key=lambda x: x[::-1], reverse=True)\n"
   ]
  },
  {
   "cell_type": "code",
   "execution_count": 43,
   "id": "37cbf068",
   "metadata": {
    "ExecuteTime": {
     "end_time": "2022-09-13T06:46:49.654513Z",
     "start_time": "2022-09-13T06:46:49.637894Z"
    }
   },
   "outputs": [
    {
     "data": {
      "text/plain": [
       "[StudentFinal(name='Patty', grade=94),\n",
       " StudentFinal(name='Bill', grade=90),\n",
       " StudentFinal(name='Bart', grade=89)]"
      ]
     },
     "execution_count": 43,
     "metadata": {},
     "output_type": "execute_result"
    }
   ],
   "source": [
    "from collections import namedtuple\n",
    "\n",
    "StudentFinal = namedtuple('StudentFinal', 'name grade')\n",
    "bill = StudentFinal('Bill', 90)\n",
    "patty = StudentFinal('Patty', 94)\n",
    "bart = StudentFinal('Bart', 89)\n",
    "students = [bill, patty, bart]\n",
    "sorted(students, key=lambda x: getattr(x, 'grade'), reverse=True)\n"
   ]
  },
  {
   "cell_type": "code",
   "execution_count": 44,
   "id": "70aa1d66",
   "metadata": {
    "ExecuteTime": {
     "end_time": "2022-09-13T06:47:57.406105Z",
     "start_time": "2022-09-13T06:47:57.394202Z"
    }
   },
   "outputs": [
    {
     "data": {
      "text/plain": [
       "['what goes around comes around',\n",
       " 'when in rome',\n",
       " 'all is fair in love and war']"
      ]
     },
     "execution_count": 44,
     "metadata": {},
     "output_type": "execute_result"
    }
   ],
   "source": [
    "phrases = ['when in rome', \n",
    "    'what goes around comes around', \n",
    "    'all is fair in love and war'\n",
    "    ]\n",
    "phrases.sort(key=lambda x: x.split()[2][1], reverse=True)\n",
    "phrases"
   ]
  },
  {
   "cell_type": "code",
   "execution_count": null,
   "id": "ce593321",
   "metadata": {},
   "outputs": [],
   "source": []
  },
  {
   "cell_type": "markdown",
   "id": "4975f531",
   "metadata": {},
   "source": [
    "# sort-python-dictionary/"
   ]
  },
  {
   "cell_type": "code",
   "execution_count": 18,
   "id": "a27abc89",
   "metadata": {
    "ExecuteTime": {
     "end_time": "2022-09-13T06:14:36.835167Z",
     "start_time": "2022-09-13T06:14:36.821756Z"
    }
   },
   "outputs": [
    {
     "data": {
      "text/plain": [
       "[(1, 'Jill'), (2, 'Jack'), (3, 'Jim'), (4, 'Jane')]"
      ]
     },
     "execution_count": 18,
     "metadata": {},
     "output_type": "execute_result"
    }
   ],
   "source": [
    "people = {3: \"Jim\", 2: \"Jack\", 4: \"Jane\", 1: \"Jill\"}\n",
    "sorted(people.items())"
   ]
  },
  {
   "cell_type": "code",
   "execution_count": 16,
   "id": "1fa91ebe",
   "metadata": {
    "ExecuteTime": {
     "end_time": "2022-09-13T06:13:32.670302Z",
     "start_time": "2022-09-13T06:13:32.661101Z"
    }
   },
   "outputs": [
    {
     "name": "stdout",
     "output_type": "stream",
     "text": [
      "[(2, 'Jack'), (4, 'Jane'), (1, 'Jill'), (3, 'Jim')]\n",
      "{2: 'Jack', 4: 'Jane', 1: 'Jill', 3: 'Jim'}\n"
     ]
    }
   ],
   "source": [
    "people = {3: \"Jim\", 2: \"Jack\", 4: \"Jane\", 1: \"Jill\"}\n",
    "sorted_people = sorted(people.items(), key=lambda item: item[1])\n",
    "\n",
    "print(sorted_people)\n",
    "sorted_people_dict = {}\n",
    "for key, value in sorted_people:\n",
    "    sorted_people_dict[key] = value\n",
    "\n",
    "\n",
    "print(sorted_people_dict)\n"
   ]
  },
  {
   "cell_type": "code",
   "execution_count": null,
   "id": "449d10ce",
   "metadata": {},
   "outputs": [],
   "source": []
  },
  {
   "cell_type": "code",
   "execution_count": 23,
   "id": "4d218c89",
   "metadata": {
    "ExecuteTime": {
     "end_time": "2022-09-13T06:16:52.129846Z",
     "start_time": "2022-09-13T06:16:52.120919Z"
    }
   },
   "outputs": [
    {
     "data": {
      "text/plain": [
       "{2: 'Jack', 4: 'Jane', 1: 'Jill', 3: 'Jim'}"
      ]
     },
     "execution_count": 23,
     "metadata": {},
     "output_type": "execute_result"
    }
   ],
   "source": [
    "people = {3: \"Jim\", 2: \"Jack\", 4: \"Jane\", 1: \"Jill\"}\n",
    "\n",
    "# Sort by key\n",
    "dict(sorted(people.items()))\n",
    "\n",
    "\n",
    "# Sort by value\n",
    "dict(sorted(people.items(), key=lambda item: item[1]))\n"
   ]
  },
  {
   "cell_type": "code",
   "execution_count": null,
   "id": "22cf23d4",
   "metadata": {},
   "outputs": [],
   "source": []
  },
  {
   "cell_type": "code",
   "execution_count": 17,
   "id": "2f99bb3d",
   "metadata": {
    "ExecuteTime": {
     "end_time": "2022-09-13T06:14:07.332401Z",
     "start_time": "2022-09-13T06:14:07.316933Z"
    }
   },
   "outputs": [
    {
     "data": {
      "text/plain": [
       "[(2, 'Jack'), (4, 'Jane'), (1, 'Jill'), (3, 'Jim')]"
      ]
     },
     "execution_count": 17,
     "metadata": {},
     "output_type": "execute_result"
    }
   ],
   "source": [
    "people = {3: \"Jim\", 2: \"Jack\", 4: \"Jane\", 1: \"Jill\"}\n",
    "\n",
    "# Sort key\n",
    "def value_getter(item):\n",
    "    return item[1]\n",
    "\n",
    "\n",
    "sorted(people.items(), key=value_getter)\n",
    "\n",
    "\n",
    "# Or with a lambda function\n",
    "sorted(people.items(), key=lambda item: item[1])"
   ]
  },
  {
   "cell_type": "code",
   "execution_count": null,
   "id": "fb29ae72",
   "metadata": {},
   "outputs": [],
   "source": []
  },
  {
   "cell_type": "code",
   "execution_count": null,
   "id": "46770a89",
   "metadata": {},
   "outputs": [],
   "source": []
  },
  {
   "cell_type": "code",
   "execution_count": null,
   "id": "82b6af8d",
   "metadata": {},
   "outputs": [],
   "source": []
  },
  {
   "cell_type": "code",
   "execution_count": 14,
   "id": "3a9a8612",
   "metadata": {
    "ExecuteTime": {
     "end_time": "2022-09-13T06:12:56.907600Z",
     "start_time": "2022-09-13T06:12:56.888978Z"
    }
   },
   "outputs": [
    {
     "data": {
      "text/plain": [
       "[(2, 'Jack'), (4, 'Jane'), (1, 'Jill'), (3, 'Jim')]"
      ]
     },
     "execution_count": 14,
     "metadata": {},
     "output_type": "execute_result"
    }
   ],
   "source": [
    "# With a normal function\n",
    "def value_getter(item):\n",
    "    return item[1]\n",
    "\n",
    "sorted(people.items(), key=value_getter)\n",
    "\n",
    "# With a lambda function\n",
    "sorted(people.items(), key=lambda item: item[1])"
   ]
  },
  {
   "cell_type": "code",
   "execution_count": null,
   "id": "059379fd",
   "metadata": {},
   "outputs": [],
   "source": []
  },
  {
   "cell_type": "code",
   "execution_count": null,
   "id": "8b1c591b",
   "metadata": {},
   "outputs": [],
   "source": []
  },
  {
   "cell_type": "code",
   "execution_count": 8,
   "id": "8d770d12",
   "metadata": {
    "ExecuteTime": {
     "end_time": "2022-09-13T06:08:54.406218Z",
     "start_time": "2022-09-13T06:08:54.390575Z"
    }
   },
   "outputs": [
    {
     "name": "stdout",
     "output_type": "stream",
     "text": [
      "[(193, {'name': 'John', 'age': 30, 'skills': {'python': 8, 'js': 7}}), (483, {'name': 'Anna', 'age': 24, 'skills': {'js': 10}}), (765, {'name': 'Penelope', 'age': 76, 'skills': {'python': 8, 'go': 5}}), (746, {'name': 'Jane', 'age': 58, 'skills': {'js': 2, 'python': 5}}), (209, {'name': 'Bill', 'age': 15, 'skills': {'python': 6}}), (277, {'name': 'Beatriz', 'age': 26, 'skills': {'python': 2, 'js': 4}}), (109, {'name': 'Jill', 'age': 83, 'skills': {'java': 10}}), (984, {'name': 'Jack', 'age': 28, 'skills': {'c': 8, 'assembly': 7}}), (598, {'name': 'Sylvia', 'age': 62, 'skills': {'bash': 8, 'java': 7}})]\n"
     ]
    }
   ],
   "source": [
    "data = {\n",
    "    193: {\"name\": \"John\", \"age\": 30, \"skills\": {\"python\": 8, \"js\": 7}},\n",
    "    209: {\"name\": \"Bill\", \"age\": 15, \"skills\": {\"python\": 6}},\n",
    "    746: {\"name\": \"Jane\", \"age\": 58, \"skills\": {\"js\": 2, \"python\": 5}},\n",
    "    109: {\"name\": \"Jill\", \"age\": 83, \"skills\": {\"java\": 10}},\n",
    "    984: {\"name\": \"Jack\", \"age\": 28, \"skills\": {\"c\": 8, \"assembly\": 7}},\n",
    "    765: {\"name\": \"Penelope\", \"age\": 76, \"skills\": {\"python\": 8, \"go\": 5}},\n",
    "    598: {\"name\": \"Sylvia\", \"age\": 62, \"skills\": {\"bash\": 8, \"java\": 7}},\n",
    "    483: {\"name\": \"Anna\", \"age\": 24, \"skills\": {\"js\": 10}},\n",
    "    277: {\"name\": \"Beatriz\", \"age\": 26, \"skills\": {\"python\": 2, \"js\": 4}},\n",
    "}\n",
    "\n",
    "def get_relevant_skills(item):\n",
    "    \"\"\"Get the sum of Python and JavaScript skill\"\"\"\n",
    "    skills = item[1][\"skills\"]\n",
    "\n",
    "    # Return default value that is equivalent to no skill\n",
    "    return skills.get(\"python\", 0) + skills.get(\"js\", 0)\n",
    "\n",
    "print(sorted(data.items(), key=get_relevant_skills, reverse=True))"
   ]
  },
  {
   "cell_type": "code",
   "execution_count": 7,
   "id": "5b1f841a",
   "metadata": {
    "ExecuteTime": {
     "end_time": "2022-09-13T06:08:19.557682Z",
     "start_time": "2022-09-13T06:08:19.545307Z"
    }
   },
   "outputs": [
    {
     "data": {
      "text/plain": [
       "['banana', 'pie', 'book', 'Washington']"
      ]
     },
     "execution_count": 7,
     "metadata": {},
     "output_type": "execute_result"
    }
   ],
   "source": [
    "def reverse_word(word):\n",
    "    return word[::-1]\n",
    "\n",
    "words = ['banana', 'pie', 'Washington', 'book']\n",
    "sorted(words, key=reverse_word)"
   ]
  },
  {
   "cell_type": "code",
   "execution_count": null,
   "id": "6e38f7dd",
   "metadata": {},
   "outputs": [],
   "source": []
  },
  {
   "cell_type": "code",
   "execution_count": null,
   "id": "f9d74788",
   "metadata": {},
   "outputs": [],
   "source": []
  },
  {
   "cell_type": "code",
   "execution_count": null,
   "id": "1ce8f3a6",
   "metadata": {},
   "outputs": [],
   "source": []
  },
  {
   "cell_type": "code",
   "execution_count": 4,
   "id": "961a71ce",
   "metadata": {
    "ExecuteTime": {
     "end_time": "2022-09-13T06:06:05.864350Z",
     "start_time": "2022-09-13T06:06:05.853265Z"
    }
   },
   "outputs": [
    {
     "data": {
      "text/plain": [
       "{2: 'Jack', 4: 'Jane', 1: 'Jill', 3: 'Jim'}"
      ]
     },
     "execution_count": 4,
     "metadata": {},
     "output_type": "execute_result"
    }
   ],
   "source": [
    "people = {3: \"Jim\", 2: \"Jack\", 4: \"Jane\", 1: \"Jill\"}\n",
    "sorted_people = sorted(people.items(), key=lambda item: item[1])\n",
    "dict(sorted_people)"
   ]
  },
  {
   "cell_type": "code",
   "execution_count": null,
   "id": "cd8a06fc",
   "metadata": {},
   "outputs": [],
   "source": []
  },
  {
   "cell_type": "code",
   "execution_count": 2,
   "id": "59bcad0b",
   "metadata": {
    "ExecuteTime": {
     "end_time": "2022-09-13T06:05:35.741189Z",
     "start_time": "2022-09-13T06:05:35.729380Z"
    }
   },
   "outputs": [
    {
     "data": {
      "text/plain": [
       "'name'"
      ]
     },
     "execution_count": 2,
     "metadata": {},
     "output_type": "execute_result"
    }
   ],
   "source": [
    "item = (\"name\", \"Guido\")\n",
    "\n",
    "from operator import itemgetter\n",
    "\n",
    "getter = itemgetter(0)\n",
    "getter(item)\n",
    "\n"
   ]
  },
  {
   "cell_type": "code",
   "execution_count": 3,
   "id": "cec34deb",
   "metadata": {
    "ExecuteTime": {
     "end_time": "2022-09-13T06:05:37.248801Z",
     "start_time": "2022-09-13T06:05:37.240948Z"
    }
   },
   "outputs": [
    {
     "data": {
      "text/plain": [
       "'Guido'"
      ]
     },
     "execution_count": 3,
     "metadata": {},
     "output_type": "execute_result"
    }
   ],
   "source": [
    "getter = itemgetter(1)\n",
    "getter(item)"
   ]
  },
  {
   "cell_type": "code",
   "execution_count": 25,
   "id": "28b8ad6c",
   "metadata": {
    "ExecuteTime": {
     "end_time": "2022-09-13T06:18:12.246844Z",
     "start_time": "2022-09-13T06:18:12.231341Z"
    }
   },
   "outputs": [
    {
     "data": {
      "text/plain": [
       "[('apple', 3), ('banana', 5), ('kiwi', 0), ('orange', 15)]"
      ]
     },
     "execution_count": 25,
     "metadata": {},
     "output_type": "execute_result"
    }
   ],
   "source": [
    "from operator import itemgetter\n",
    "\n",
    "fruit_inventory = [\n",
    "    (\"banana\", 5), (\"orange\", 15), (\"apple\", 3), (\"kiwi\", 0)\n",
    "]\n",
    "\n",
    "# Sort by key\n",
    "sorted(fruit_inventory, key=itemgetter(0))\n",
    "\n",
    "\n"
   ]
  },
  {
   "cell_type": "code",
   "execution_count": 26,
   "id": "9edf0980",
   "metadata": {
    "ExecuteTime": {
     "end_time": "2022-09-13T06:18:14.900060Z",
     "start_time": "2022-09-13T06:18:14.891693Z"
    }
   },
   "outputs": [
    {
     "data": {
      "text/plain": [
       "[('kiwi', 0), ('apple', 3), ('banana', 5), ('orange', 15)]"
      ]
     },
     "execution_count": 26,
     "metadata": {},
     "output_type": "execute_result"
    }
   ],
   "source": [
    "# Sort by value\n",
    "sorted(fruit_inventory, key=itemgetter(1))\n"
   ]
  },
  {
   "cell_type": "code",
   "execution_count": 27,
   "id": "3f9c3a1b",
   "metadata": {
    "ExecuteTime": {
     "end_time": "2022-09-13T06:18:16.514143Z",
     "start_time": "2022-09-13T06:18:16.487801Z"
    }
   },
   "outputs": [
    {
     "ename": "IndexError",
     "evalue": "tuple index out of range",
     "output_type": "error",
     "traceback": [
      "\u001b[0;31m---------------------------------------------------------------------------\u001b[0m",
      "\u001b[0;31mIndexError\u001b[0m                                Traceback (most recent call last)",
      "Input \u001b[0;32mIn [27]\u001b[0m, in \u001b[0;36m<cell line: 1>\u001b[0;34m()\u001b[0m\n\u001b[0;32m----> 1\u001b[0m \u001b[38;5;28;43msorted\u001b[39;49m\u001b[43m(\u001b[49m\u001b[43mfruit_inventory\u001b[49m\u001b[43m,\u001b[49m\u001b[43m \u001b[49m\u001b[43mkey\u001b[49m\u001b[38;5;241;43m=\u001b[39;49m\u001b[43mitemgetter\u001b[49m\u001b[43m(\u001b[49m\u001b[38;5;241;43m2\u001b[39;49m\u001b[43m)\u001b[49m\u001b[43m)\u001b[49m\n",
      "\u001b[0;31mIndexError\u001b[0m: tuple index out of range"
     ]
    }
   ],
   "source": [
    "sorted(fruit_inventory, key=itemgetter(2))"
   ]
  },
  {
   "cell_type": "code",
   "execution_count": 28,
   "id": "3ffe7c94",
   "metadata": {
    "ExecuteTime": {
     "end_time": "2022-09-13T06:18:39.353371Z",
     "start_time": "2022-09-13T06:18:39.341670Z"
    }
   },
   "outputs": [
    {
     "data": {
      "text/plain": [
       "[(2, 'Jack'), (4, 'Jane'), (1, 'Jill'), (3, 'Jim')]"
      ]
     },
     "execution_count": 28,
     "metadata": {},
     "output_type": "execute_result"
    }
   ],
   "source": [
    "people = {3: \"Jim\", 2: \"Jack\", 4: \"Jane\", 1: \"Jill\"}\n",
    "\n",
    "from operator import itemgetter\n",
    "sorted(people.items(), key=itemgetter(1))"
   ]
  },
  {
   "cell_type": "code",
   "execution_count": 29,
   "id": "cabcd44b",
   "metadata": {
    "ExecuteTime": {
     "end_time": "2022-09-13T06:19:05.022260Z",
     "start_time": "2022-09-13T06:19:00.969060Z"
    }
   },
   "outputs": [
    {
     "name": "stdout",
     "output_type": "stream",
     "text": [
      "sorted_with_lambda_time=2.39 seconds\n",
      "sorted_with_itemgetter_time=1.65 seconds\n",
      "itemgetter is 1.45 times faster\n"
     ]
    }
   ],
   "source": [
    "# compare_lambda_vs_getter.py\n",
    "\n",
    "from timeit import timeit\n",
    "\n",
    "dict_to_order = {\n",
    "    1: \"requests\",\n",
    "    2: \"pip\",\n",
    "    3: \"jinja\",\n",
    "    4: \"setuptools\",\n",
    "    5: \"pandas\",\n",
    "    6: \"numpy\",\n",
    "    7: \"black\",\n",
    "    8: \"pillow\",\n",
    "    9: \"pyparsing\",\n",
    "    10: \"boto3\",\n",
    "    11: \"botocore\",\n",
    "    12: \"urllib3\",\n",
    "    13: \"s3transfer\",\n",
    "    14: \"six\",\n",
    "    15: \"python-dateutil\",\n",
    "    16: \"pyyaml\",\n",
    "    17: \"idna\",\n",
    "    18: \"certifi\",\n",
    "    19: \"typing-extensions\",\n",
    "    20: \"charset-normalizer\",\n",
    "    21: \"awscli\",\n",
    "    22: \"wheel\",\n",
    "    23: \"rsa\",\n",
    "}\n",
    "\n",
    "sorted_with_lambda = \"sorted(dict_to_order.items(), key=lambda item: item[1])\"\n",
    "sorted_with_itemgetter = \"sorted(dict_to_order.items(), key=itemgetter(1))\"\n",
    "\n",
    "sorted_with_lambda_time = timeit(stmt=sorted_with_lambda, globals=globals())\n",
    "sorted_with_itemgetter_time = timeit(\n",
    "    stmt=sorted_with_itemgetter,\n",
    "    setup=\"from operator import itemgetter\",\n",
    "    globals=globals(),\n",
    ")\n",
    "\n",
    "print(\n",
    "    f\"\"\"\\\n",
    "{sorted_with_lambda_time=:.2f} seconds\n",
    "{sorted_with_itemgetter_time=:.2f} seconds\n",
    "itemgetter is {(\n",
    "    sorted_with_lambda_time / sorted_with_itemgetter_time\n",
    "):.2f} times faster\"\"\"\n",
    ")"
   ]
  },
  {
   "cell_type": "code",
   "execution_count": 31,
   "id": "1e638309",
   "metadata": {
    "ExecuteTime": {
     "end_time": "2022-09-13T06:39:02.112077Z",
     "start_time": "2022-09-13T06:39:02.103868Z"
    }
   },
   "outputs": [],
   "source": [
    "# Dictionary\n",
    "people_dict = {3: \"Jim\", 2: \"Jack\", 4: \"Jane\", 1: \"Jill\"}\n",
    "\n",
    "# List of tuples\n",
    "people_list = [\n",
    "    (3, \"Jim\"),\n",
    "    (2, \"Jack\"),\n",
    "    (4, \"Jane\"),\n",
    "    (1, \"Jill\")\n",
    "]\n",
    "\n",
    "# List of dictionaries\n",
    "people_list_dict = [\n",
    "    {\"id\": 3, \"name\": \"Jim\"},\n",
    "    {\"id\": 2, \"name\": \"Jack\"},\n",
    "    {\"id\": 4, \"name\": \"Jane\"},\n",
    "    {\"id\": 1, \"name\": \"Jill\"},\n",
    "]"
   ]
  },
  {
   "cell_type": "code",
   "execution_count": 32,
   "id": "5eceec84",
   "metadata": {
    "ExecuteTime": {
     "end_time": "2022-09-13T06:39:11.106883Z",
     "start_time": "2022-09-13T06:39:11.093476Z"
    }
   },
   "outputs": [
    {
     "data": {
      "text/plain": [
       "({3: 'Jim', 2: 'Jack', 4: 'Jane', 1: 'Jill'},\n",
       " [(3, 'Jim'), (2, 'Jack'), (4, 'Jane'), (1, 'Jill')],\n",
       " [{'id': 3, 'name': 'Jim'},\n",
       "  {'id': 2, 'name': 'Jack'},\n",
       "  {'id': 4, 'name': 'Jane'},\n",
       "  {'id': 1, 'name': 'Jill'}])"
      ]
     },
     "execution_count": 32,
     "metadata": {},
     "output_type": "execute_result"
    }
   ],
   "source": [
    "people_dict,people_list,people_list_dict"
   ]
  },
  {
   "cell_type": "code",
   "execution_count": 33,
   "id": "a5274886",
   "metadata": {
    "ExecuteTime": {
     "end_time": "2022-09-13T06:40:11.564852Z",
     "start_time": "2022-09-13T06:40:11.556674Z"
    }
   },
   "outputs": [],
   "source": [
    "people = {\n",
    "    3: {\"priority\": 2, \"name\": \"Jim\"},\n",
    "    2: {\"priority\": 4, \"name\": \"Jack\"},\n",
    "    4: {\"priority\": 1, \"name\": \"Jane\"},\n",
    "    1: {\"priority\": 2, \"name\": \"Jill\"}\n",
    "}"
   ]
  },
  {
   "cell_type": "code",
   "execution_count": 35,
   "id": "53153731",
   "metadata": {
    "ExecuteTime": {
     "end_time": "2022-09-13T06:40:42.760804Z",
     "start_time": "2022-09-13T06:40:41.300914Z"
    }
   },
   "outputs": [
    {
     "name": "stdout",
     "output_type": "stream",
     "text": [
      "\u001b[31mERROR: Could not find a version that satisfies the requirement samples (from versions: none)\u001b[0m\n",
      "\u001b[31mERROR: No matching distribution found for samples\u001b[0m\n",
      "Note: you may need to restart the kernel to use updated packages.\n"
     ]
    }
   ],
   "source": [
    "pip install samples"
   ]
  },
  {
   "cell_type": "code",
   "execution_count": 34,
   "id": "25cece48",
   "metadata": {
    "ExecuteTime": {
     "end_time": "2022-09-13T06:40:27.822225Z",
     "start_time": "2022-09-13T06:40:27.792403Z"
    }
   },
   "outputs": [
    {
     "ename": "ModuleNotFoundError",
     "evalue": "No module named 'samples'",
     "output_type": "error",
     "traceback": [
      "\u001b[0;31m---------------------------------------------------------------------------\u001b[0m",
      "\u001b[0;31mModuleNotFoundError\u001b[0m                       Traceback (most recent call last)",
      "Input \u001b[0;32mIn [34]\u001b[0m, in \u001b[0;36m<cell line: 4>\u001b[0;34m()\u001b[0m\n\u001b[1;32m      1\u001b[0m \u001b[38;5;66;03m# compare_sorting_dict_vs_list.py\u001b[39;00m\n\u001b[1;32m      3\u001b[0m \u001b[38;5;28;01mfrom\u001b[39;00m \u001b[38;5;21;01mtimeit\u001b[39;00m \u001b[38;5;28;01mimport\u001b[39;00m timeit\n\u001b[0;32m----> 4\u001b[0m \u001b[38;5;28;01mfrom\u001b[39;00m \u001b[38;5;21;01msamples\u001b[39;00m \u001b[38;5;28;01mimport\u001b[39;00m dictionary_of_dictionaries, list_of_dictionaries\n\u001b[1;32m      6\u001b[0m sorting_list \u001b[38;5;241m=\u001b[39m \u001b[38;5;124m\"\u001b[39m\u001b[38;5;124msorted(list_of_dictionaries, key=lambda item:item[\u001b[39m\u001b[38;5;124m'\u001b[39m\u001b[38;5;124mage\u001b[39m\u001b[38;5;124m'\u001b[39m\u001b[38;5;124m])\u001b[39m\u001b[38;5;124m\"\u001b[39m\n\u001b[1;32m      7\u001b[0m sorting_dict \u001b[38;5;241m=\u001b[39m \u001b[38;5;124m\"\"\"\u001b[39m\n\u001b[1;32m      8\u001b[0m \u001b[38;5;124mdict(\u001b[39m\n\u001b[1;32m      9\u001b[0m \u001b[38;5;124m    sorted(\u001b[39m\n\u001b[0;32m   (...)\u001b[0m\n\u001b[1;32m     12\u001b[0m \u001b[38;5;124m)\u001b[39m\n\u001b[1;32m     13\u001b[0m \u001b[38;5;124m\"\"\"\u001b[39m\n",
      "\u001b[0;31mModuleNotFoundError\u001b[0m: No module named 'samples'"
     ]
    }
   ],
   "source": [
    "# compare_sorting_dict_vs_list.py\n",
    "\n",
    "from timeit import timeit\n",
    "from samples import dictionary_of_dictionaries, list_of_dictionaries\n",
    "\n",
    "sorting_list = \"sorted(list_of_dictionaries, key=lambda item:item['age'])\"\n",
    "sorting_dict = \"\"\"\n",
    "dict(\n",
    "    sorted(\n",
    "        dictionary_of_dictionaries.items(), key=lambda item: item[1]['age']\n",
    "    )\n",
    ")\n",
    "\"\"\"\n",
    "\n",
    "sorting_list_time = timeit(stmt=sorting_list, globals=globals())\n",
    "sorting_dict_time = timeit(stmt=sorting_dict, globals=globals())\n",
    "\n",
    "print(\n",
    "    f\"\"\"\\\n",
    "{sorting_list_time=:.2f} seconds\n",
    "{sorting_dict_time=:.2f} seconds\n",
    "list is {(sorting_dict_time/sorting_list_time):.2f} times faster\"\"\"\n",
    ")"
   ]
  },
  {
   "cell_type": "code",
   "execution_count": 36,
   "id": "2fd44e7d",
   "metadata": {
    "ExecuteTime": {
     "end_time": "2022-09-13T06:41:12.328259Z",
     "start_time": "2022-09-13T06:41:12.288130Z"
    }
   },
   "outputs": [
    {
     "ename": "ModuleNotFoundError",
     "evalue": "No module named 'samples'",
     "output_type": "error",
     "traceback": [
      "\u001b[0;31m---------------------------------------------------------------------------\u001b[0m",
      "\u001b[0;31mModuleNotFoundError\u001b[0m                       Traceback (most recent call last)",
      "Input \u001b[0;32mIn [36]\u001b[0m, in \u001b[0;36m<cell line: 4>\u001b[0;34m()\u001b[0m\n\u001b[1;32m      1\u001b[0m \u001b[38;5;66;03m# compare_lookup_dict_vs_list.py\u001b[39;00m\n\u001b[1;32m      3\u001b[0m \u001b[38;5;28;01mfrom\u001b[39;00m \u001b[38;5;21;01mtimeit\u001b[39;00m \u001b[38;5;28;01mimport\u001b[39;00m timeit\n\u001b[0;32m----> 4\u001b[0m \u001b[38;5;28;01mfrom\u001b[39;00m \u001b[38;5;21;01msamples\u001b[39;00m \u001b[38;5;28;01mimport\u001b[39;00m dictionary_of_dictionaries, list_of_dictionaries\n\u001b[1;32m      6\u001b[0m lookups \u001b[38;5;241m=\u001b[39m [\u001b[38;5;241m15\u001b[39m, \u001b[38;5;241m18\u001b[39m, \u001b[38;5;241m19\u001b[39m, \u001b[38;5;241m16\u001b[39m, \u001b[38;5;241m6\u001b[39m, \u001b[38;5;241m12\u001b[39m, \u001b[38;5;241m5\u001b[39m, \u001b[38;5;241m3\u001b[39m, \u001b[38;5;241m9\u001b[39m, \u001b[38;5;241m20\u001b[39m, \u001b[38;5;241m2\u001b[39m, \u001b[38;5;241m10\u001b[39m, \u001b[38;5;241m13\u001b[39m, \u001b[38;5;241m17\u001b[39m, \u001b[38;5;241m4\u001b[39m, \u001b[38;5;241m14\u001b[39m, \u001b[38;5;241m11\u001b[39m, \u001b[38;5;241m7\u001b[39m, \u001b[38;5;241m8\u001b[39m]\n\u001b[1;32m      8\u001b[0m list_setup \u001b[38;5;241m=\u001b[39m \u001b[38;5;124m\"\"\"\u001b[39m\n\u001b[1;32m      9\u001b[0m \u001b[38;5;124mdef get_key_from_list(key):\u001b[39m\n\u001b[1;32m     10\u001b[0m \u001b[38;5;124m    for item in list_of_dictionaries:\u001b[39m\n\u001b[1;32m     11\u001b[0m \u001b[38;5;124m        if item[\u001b[39m\u001b[38;5;124m\"\u001b[39m\u001b[38;5;124mid\u001b[39m\u001b[38;5;124m\"\u001b[39m\u001b[38;5;124m] == key:\u001b[39m\n\u001b[1;32m     12\u001b[0m \u001b[38;5;124m            return item\u001b[39m\n\u001b[1;32m     13\u001b[0m \u001b[38;5;124m\"\"\"\u001b[39m\n",
      "\u001b[0;31mModuleNotFoundError\u001b[0m: No module named 'samples'"
     ]
    }
   ],
   "source": [
    "# compare_lookup_dict_vs_list.py\n",
    "\n",
    "from timeit import timeit\n",
    "from samples import dictionary_of_dictionaries, list_of_dictionaries\n",
    "\n",
    "lookups = [15, 18, 19, 16, 6, 12, 5, 3, 9, 20, 2, 10, 13, 17, 4, 14, 11, 7, 8]\n",
    "\n",
    "list_setup = \"\"\"\n",
    "def get_key_from_list(key):\n",
    "    for item in list_of_dictionaries:\n",
    "        if item[\"id\"] == key:\n",
    "            return item\n",
    "\"\"\"\n",
    "\n",
    "lookup_list = \"\"\"\n",
    "for key in lookups:\n",
    "    get_key_from_list(key)\n",
    "\"\"\"\n",
    "\n",
    "lookup_dict = \"\"\"\n",
    "for key in lookups:\n",
    "    dictionary_of_dictionaries[key]\n",
    "\"\"\"\n",
    "\n",
    "lookup_list_time = timeit(stmt=lookup_list, setup=list_setup, globals=globals())\n",
    "lookup_dict_time = timeit(stmt=lookup_dict, globals=globals())\n",
    "\n",
    "print(\n",
    "    f\"\"\"\\\n",
    "{lookup_list_time=:.2f} seconds\n",
    "{lookup_dict_time=:.2f} seconds\n",
    "dict is {(lookup_list_time / lookup_dict_time):.2f} times faster\"\"\"\n",
    ")"
   ]
  },
  {
   "cell_type": "code",
   "execution_count": 37,
   "id": "16ac3cea",
   "metadata": {
    "ExecuteTime": {
     "end_time": "2022-09-13T06:43:59.858523Z",
     "start_time": "2022-09-13T06:43:58.677350Z"
    }
   },
   "outputs": [
    {
     "name": "stdout",
     "output_type": "stream",
     "text": [
      "\u001b[31mERROR: Could not find a version that satisfies the requirement samples (from versions: none)\u001b[0m\r\n",
      "\u001b[31mERROR: No matching distribution found for samples\u001b[0m\r\n"
     ]
    }
   ],
   "source": [
    "import sys\n",
    "!{sys.executable} -m pip install samples"
   ]
  },
  {
   "cell_type": "code",
   "execution_count": 38,
   "id": "446c8767",
   "metadata": {
    "ExecuteTime": {
     "end_time": "2022-09-13T06:44:32.155638Z",
     "start_time": "2022-09-13T06:44:21.304412Z"
    }
   },
   "outputs": [
    {
     "name": "stdout",
     "output_type": "stream",
     "text": [
      "Collecting package metadata (current_repodata.json): done\n",
      "Solving environment: failed with initial frozen solve. Retrying with flexible solve.\n",
      "Collecting package metadata (repodata.json): done\n",
      "Solving environment: failed with initial frozen solve. Retrying with flexible solve.\n",
      "\n",
      "PackagesNotFoundError: The following packages are not available from current channels:\n",
      "\n",
      "  - samples\n",
      "\n",
      "Current channels:\n",
      "\n",
      "  - https://repo.anaconda.com/pkgs/main/osx-64\n",
      "  - https://repo.anaconda.com/pkgs/main/noarch\n",
      "  - https://repo.anaconda.com/pkgs/r/osx-64\n",
      "  - https://repo.anaconda.com/pkgs/r/noarch\n",
      "\n",
      "To search for alternate channels that may provide the conda package you're\n",
      "looking for, navigate to\n",
      "\n",
      "    https://anaconda.org\n",
      "\n",
      "and use the search bar at the top of the page.\n",
      "\n",
      "\n"
     ]
    }
   ],
   "source": [
    "import sys\n",
    "!conda install --yes --prefix {sys.prefix} samples"
   ]
  },
  {
   "cell_type": "markdown",
   "id": "06fe8d5d",
   "metadata": {},
   "source": [
    "# plotly"
   ]
  },
  {
   "cell_type": "code",
   "execution_count": null,
   "id": "77a184f7",
   "metadata": {},
   "outputs": [],
   "source": [
    "orderedDF = df.sort_values(\n",
    "  by=col_label, \n",
    "  ascending=True)"
   ]
  },
  {
   "cell_type": "code",
   "execution_count": null,
   "id": "c7beca76",
   "metadata": {},
   "outputs": [],
   "source": [
    "fig = px.box(\n",
    "    orderedDF,\n",
    "    x=selected_x,\n",
    "    y=selected_y,\n",
    "    points='all',\n",
    "    hover_data=hover_data,\n",
    "    color=colour_by,\n",
    "    width=800,\n",
    "    height=600,\n",
    "    labels={\n",
    "        selected_y: \"{} {}\".format(selected_y_gene, selected_y),\n",
    "        selected_x: \"{} {}\".format(selected_x_gene, selected_x),\n",
    "# I think it should go here\n",
    "        sort=False\n",
    "    }\n",
    "    )"
   ]
  }
 ],
 "metadata": {
  "kernelspec": {
   "display_name": "Python 3 (ipykernel)",
   "language": "python",
   "name": "python3"
  },
  "language_info": {
   "codemirror_mode": {
    "name": "ipython",
    "version": 3
   },
   "file_extension": ".py",
   "mimetype": "text/x-python",
   "name": "python",
   "nbconvert_exporter": "python",
   "pygments_lexer": "ipython3",
   "version": "3.9.12"
  },
  "latex_envs": {
   "LaTeX_envs_menu_present": true,
   "autoclose": false,
   "autocomplete": true,
   "bibliofile": "biblio.bib",
   "cite_by": "apalike",
   "current_citInitial": 1,
   "eqLabelWithNumbers": true,
   "eqNumInitial": 1,
   "hotkeys": {
    "equation": "Ctrl-E",
    "itemize": "Ctrl-I"
   },
   "labels_anchors": false,
   "latex_user_defs": false,
   "report_style_numbering": false,
   "user_envs_cfg": false
  },
  "toc": {
   "base_numbering": 1,
   "nav_menu": {},
   "number_sections": true,
   "sideBar": true,
   "skip_h1_title": false,
   "title_cell": "Table of Contents",
   "title_sidebar": "Contents",
   "toc_cell": false,
   "toc_position": {},
   "toc_section_display": true,
   "toc_window_display": true
  }
 },
 "nbformat": 4,
 "nbformat_minor": 5
}
