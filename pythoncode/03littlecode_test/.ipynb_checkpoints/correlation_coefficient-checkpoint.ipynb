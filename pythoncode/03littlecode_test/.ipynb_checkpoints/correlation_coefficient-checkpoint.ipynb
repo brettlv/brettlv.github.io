{
 "cells": [
  {
   "cell_type": "markdown",
   "metadata": {},
   "source": [
    "[本文结合Python的scipy.stats](https://mp.weixin.qq.com/s/qjuSeoodOaom51lcRRBh1g)"
   ]
  },
  {
   "cell_type": "markdown",
   "metadata": {},
   "source": [
    "简单梳理皮尔逊Pearson、斯皮尔曼Spearman、肯德尔等级Kendallta三个相关系数的运用场景；及Python中如何计算三个相关系数。"
   ]
  },
  {
   "cell_type": "code",
   "execution_count": null,
   "metadata": {},
   "outputs": [],
   "source": [
    "1、统计学中常见变量类型\n",
    "方便下文理解，先简单梳理下统计学中常用的变量类别"
   ]
  },
  {
   "cell_type": "code",
   "execution_count": null,
   "metadata": {},
   "outputs": [],
   "source": [
    "2、皮尔逊相关系数(Pearson)"
   ]
  },
  {
   "cell_type": "markdown",
   "metadata": {},
   "source": [
    "scipy.stats.pearsonr(x, y)\n",
    "The Pearson correlation coefficient measures the linear relationship between two datasets 「衡量两组数据的线性相关性」.\n",
    "\n",
    "The calculation of the p-value relies on the assumption that each dataset is normally distributed「假设两组数据服从正态分布，即数据必须是连续型数据(continuous)」.\n",
    "\n",
    "Like other correlation coefficients, this one varies between -1 and +1 with 0 implying no correlation. Correlations of -1 or +1 imply an exact linear relationship. Positive correlations imply that as x increases, so does y. Negative correlations imply that as x increases, y decreases.「pearson相关系数范围为-1到1、负值为负相关、0为不相关、正值为正相关下图能很好的展示这种关系👇👇」"
   ]
  },
  {
   "cell_type": "code",
   "execution_count": 2,
   "metadata": {
    "ExecuteTime": {
     "end_time": "2021-09-22T06:52:49.350758Z",
     "start_time": "2021-09-22T06:52:49.333030Z"
    }
   },
   "outputs": [
    {
     "name": "stdout",
     "output_type": "stream",
     "text": [
      "Pearson correlation：0.8660254037844386\n",
      "p-value：0.011724811003954649\n"
     ]
    }
   ],
   "source": [
    "from scipy import stats\n",
    "import numpy as np\n",
    "a = np.array([0, 0, 0, 1, 1, 1, 1])\n",
    "b = np.arange(7)\n",
    "c,p = stats.pearsonr(a, b)\n",
    "print('Pearson correlation：%s'%c)\n",
    "print('p-value：%s'%p)"
   ]
  },
  {
   "cell_type": "code",
   "execution_count": null,
   "metadata": {},
   "outputs": [],
   "source": [
    "3、斯皮尔曼相关系数(Spearman)\n",
    "使用前提：皮尔逊Pearson相关系数使用前提条件中，任何一个条件不满足时可以考虑使用该系数；\n",
    "\n",
    "Spearman与Pearson相关系数计算很类似，只是Spearman计算需要将两个变量转化为序数，以下为scipy中描述，"
   ]
  },
  {
   "cell_type": "markdown",
   "metadata": {},
   "source": [
    "scipy.stats.spearmanr(a, b=None, axis=0, nan_policy='propagate')\n",
    "Calculate a Spearman correlation coefficient with associated p-value.The Spearman rank-order correlation coefficient is a nonparametric measure of the monotonicity of the relationship between two datasets「两个变量成对取值并排序取秩」. Unlike the Pearson correlation, the Spearman correlation does not assume that both datasets are normally distributed「假设两组数据不需要服从正态分布」.\n",
    "\n",
    "Like other correlation coefficients, this one varies between -1 and +1 with 0 implying no correlation. Correlations of -1 or +1 imply an exact monotonic relationship. Positive correlations imply that as x increases, so does y. Negative correlations imply that as x increases, y decreases「相关系数范围为-1到1、负值为负相关、0为不相关」.\n",
    "\n",
    "The p-value roughly indicates the probability of an uncorrelated system producing datasets that have a Spearman correlation at least as extreme as the one computed from these datasets. The p-values are not entirely reliable but are probably reasonable for datasets larger than 500 or so「数据集元素大小大于500可能才靠谱」."
   ]
  },
  {
   "cell_type": "code",
   "execution_count": 3,
   "metadata": {
    "ExecuteTime": {
     "end_time": "2021-09-22T06:53:34.287536Z",
     "start_time": "2021-09-22T06:53:34.268972Z"
    }
   },
   "outputs": [
    {
     "name": "stdout",
     "output_type": "stream",
     "text": [
      "Spearman correlation：0.8207826816681233\n",
      "p-value：0.08858700531354381\n"
     ]
    }
   ],
   "source": [
    "#使用Python scipy\n",
    "from scipy import stats\n",
    "s,p1 = stats.spearmanr([1,2,3,4,5], [5,6,7,8,7])\n",
    "print('Spearman correlation：%s'%s)\n",
    "print('p-value：%s'%p1)"
   ]
  },
  {
   "cell_type": "code",
   "execution_count": null,
   "metadata": {},
   "outputs": [],
   "source": [
    "4、肯德尔相关系数(Kendallta)\n",
    "使用前提：和前两者比完全不一样，衡量有序分类型数据的序数相关性，以下为scipy中描述，"
   ]
  },
  {
   "cell_type": "markdown",
   "metadata": {},
   "source": [
    "scipy.stats.kendalltau(x, y, initial_lexsort=None, nan_policy='propagate', method='auto')\n",
    "\n",
    "Calculate Kendall’s tau, a correlation measure for ordinal data「评估有序分类变量(ordinal data)的相关性」.Kendall’s tau is a measure of the correspondence between two rankings「衡量两组变量的等级相关性」. Values close to 1 indicate strong agreement, values close to -1 indicate strong disagreement「相关系数1为极度相关、-1极度不相关」."
   ]
  },
  {
   "cell_type": "code",
   "execution_count": 4,
   "metadata": {
    "ExecuteTime": {
     "end_time": "2021-09-22T06:54:35.870990Z",
     "start_time": "2021-09-22T06:54:35.858676Z"
    }
   },
   "outputs": [
    {
     "name": "stdout",
     "output_type": "stream",
     "text": [
      "Kendallta correlatio：-0.4714045207910316\n",
      "p-value：0.2827454599327748\n"
     ]
    }
   ],
   "source": [
    "from scipy import stats\n",
    "x1 = [12, 2, 1, 12, 2]\n",
    "x2 = [1, 4, 7, 1, 0]\n",
    "k, p2 = stats.kendalltau(x1, x2)\n",
    "print('Kendallta correlatio：%s'%k)\n",
    "print('p-value：%s'%p2)"
   ]
  },
  {
   "cell_type": "code",
   "execution_count": null,
   "metadata": {},
   "outputs": [],
   "source": []
  }
 ],
 "metadata": {
  "kernelspec": {
   "display_name": "Python 3",
   "language": "python",
   "name": "python3"
  },
  "language_info": {
   "codemirror_mode": {
    "name": "ipython",
    "version": 3
   },
   "file_extension": ".py",
   "mimetype": "text/x-python",
   "name": "python",
   "nbconvert_exporter": "python",
   "pygments_lexer": "ipython3",
   "version": "3.8.5"
  },
  "latex_envs": {
   "LaTeX_envs_menu_present": true,
   "autocomplete": true,
   "bibliofile": "biblio.bib",
   "cite_by": "apalike",
   "current_citInitial": 1,
   "eqLabelWithNumbers": true,
   "eqNumInitial": 1,
   "hotkeys": {
    "equation": "Ctrl-E",
    "itemize": "Ctrl-I"
   },
   "labels_anchors": false,
   "latex_user_defs": false,
   "report_style_numbering": false,
   "user_envs_cfg": false
  },
  "toc": {
   "nav_menu": {},
   "number_sections": true,
   "sideBar": true,
   "skip_h1_title": false,
   "toc_cell": false,
   "toc_position": {},
   "toc_section_display": "block",
   "toc_window_display": false
  }
 },
 "nbformat": 4,
 "nbformat_minor": 2
}
