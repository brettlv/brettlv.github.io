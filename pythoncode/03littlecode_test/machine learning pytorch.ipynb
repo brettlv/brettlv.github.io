{
 "cells": [
  {
   "cell_type": "markdown",
   "metadata": {},
   "source": [
    "# pytorch"
   ]
  },
  {
   "cell_type": "code",
   "execution_count": null,
   "metadata": {},
   "outputs": [],
   "source": []
  },
  {
   "cell_type": "markdown",
   "metadata": {},
   "source": [
    "## 关系拟合 (回归)"
   ]
  },
  {
   "cell_type": "code",
   "execution_count": null,
   "metadata": {
    "ExecuteTime": {
     "end_time": "2023-04-11T11:10:36.329751Z",
     "start_time": "2023-04-11T11:10:35.747887Z"
    },
    "scrolled": true
   },
   "outputs": [],
   "source": [
    "\"\"\"\n",
    "View more, visit my tutorial page: https://mofanpy.com/tutorials/\n",
    "My Youtube Channel: https://www.youtube.com/user/MorvanZhou\n",
    "Dependencies:\n",
    "torch: 0.4\n",
    "matplotlib\n",
    "\"\"\"\n",
    "import torch\n",
    "import torch.nn.functional as F\n",
    "import matplotlib.pyplot as plt\n",
    "\n",
    "# torch.manual_seed(1)    # reproducible\n",
    "\n",
    "x = torch.unsqueeze(torch.linspace(-1, 1, 100), dim=1)  # x data (tensor), shape=(100, 1)\n",
    "y = x.pow(2) + 0.2*torch.rand(x.size())                 # noisy y data (tensor), shape=(100, 1)\n",
    "\n",
    "# torch can only train on Variable, so convert them to Variable\n",
    "# The code below is deprecated in Pytorch 0.4. Now, autograd directly supports tensors\n",
    "# x, y = Variable(x), Variable(y)\n",
    "\n",
    "# plt.scatter(x.data.numpy(), y.data.numpy())\n",
    "# plt.show()\n",
    "\n",
    "\n",
    "class Net(torch.nn.Module):\n",
    "    def __init__(self, n_feature, n_hidden, n_output):\n",
    "        super(Net, self).__init__()\n",
    "        self.hidden = torch.nn.Linear(n_feature, n_hidden)   # hidden layer\n",
    "        self.predict = torch.nn.Linear(n_hidden, n_output)   # output layer\n",
    "\n",
    "    def forward(self, x):\n",
    "        x = F.relu(self.hidden(x))      # activation function for hidden layer\n",
    "        x = self.predict(x)             # linear output\n",
    "        return x\n",
    "\n",
    "net = Net(n_feature=1, n_hidden=10, n_output=1)     # define the network\n",
    "print(net)  # net architecture\n",
    "\n",
    "optimizer = torch.optim.SGD(net.parameters(), lr=0.2)\n",
    "loss_func = torch.nn.MSELoss()  # this is for regression mean squared loss\n",
    "\n"
   ]
  },
  {
   "cell_type": "code",
   "execution_count": null,
   "metadata": {
    "ExecuteTime": {
     "end_time": "2023-01-11T14:21:12.072033Z",
     "start_time": "2023-01-11T14:21:03.633889Z"
    }
   },
   "outputs": [],
   "source": [
    "import matplotlib.pyplot as plt\n",
    "\n",
    "plt.ion()   # 画图\n",
    "plt.show()\n",
    "#plt.ion()   # something about plotting\n",
    "\n",
    "for t in range(200):\n",
    "    prediction = net(x)     # input x and predict based on x\n",
    "\n",
    "    loss = loss_func(prediction, y)     # must be (1. nn output, 2. target)\n",
    "\n",
    "    optimizer.zero_grad()   # clear gradients for next train\n",
    "    loss.backward()         # backpropagation, compute gradients\n",
    "    optimizer.step()        # apply gradients\n",
    "\n",
    "    if t % 5 == 0:\n",
    "        # plot and show learning process\n",
    "        plt.cla()\n",
    "        plt.scatter(x.data.numpy(), y.data.numpy())\n",
    "        plt.plot(x.data.numpy(), prediction.data.numpy(), 'r-', lw=5)\n",
    "        plt.text(0.5, 0, 'Loss=%.4f' % loss.data.numpy(), fontdict={'size': 20, 'color':  'red'})\n",
    "        plt.pause(0.1)\n",
    "\n",
    "plt.ioff()\n",
    "plt.show()"
   ]
  },
  {
   "cell_type": "code",
   "execution_count": null,
   "metadata": {
    "ExecuteTime": {
     "end_time": "2023-01-11T14:19:49.570858Z",
     "start_time": "2023-01-11T14:19:49.381163Z"
    }
   },
   "outputs": [],
   "source": [
    "ls *.png"
   ]
  },
  {
   "cell_type": "markdown",
   "metadata": {
    "collapsed": true
   },
   "source": [
    "## 区分类型 (分类)"
   ]
  },
  {
   "cell_type": "code",
   "execution_count": null,
   "metadata": {},
   "outputs": [],
   "source": []
  },
  {
   "cell_type": "code",
   "execution_count": null,
   "metadata": {},
   "outputs": [],
   "source": []
  },
  {
   "cell_type": "markdown",
   "metadata": {},
   "source": [
    "# pytorch learning hands-on"
   ]
  },
  {
   "cell_type": "code",
   "execution_count": null,
   "metadata": {
    "ExecuteTime": {
     "end_time": "2023-05-14T12:58:39.782561Z",
     "start_time": "2023-05-14T12:58:39.776251Z"
    }
   },
   "outputs": [],
   "source": [
    "import torch;\n",
    "torch.__version__"
   ]
  },
  {
   "cell_type": "markdown",
   "metadata": {},
   "source": [
    "## getting_started"
   ]
  },
  {
   "cell_type": "code",
   "execution_count": null,
   "metadata": {
    "ExecuteTime": {
     "end_time": "2023-04-11T11:10:07.465011Z",
     "start_time": "2023-04-11T11:10:07.456776Z"
    }
   },
   "outputs": [],
   "source": [
    "import torch\n",
    "import numpy as np"
   ]
  },
  {
   "cell_type": "code",
   "execution_count": null,
   "metadata": {
    "ExecuteTime": {
     "end_time": "2023-03-27T06:58:41.782534Z",
     "start_time": "2023-03-27T06:58:41.729200Z"
    }
   },
   "outputs": [],
   "source": [
    "uninitialized = torch.Tensor(3, 2)\n",
    "rand_initialized = torch.rand(3, 2)\n",
    "\n",
    "print(uninitialized)\n",
    "print(rand_initialized)"
   ]
  },
  {
   "cell_type": "code",
   "execution_count": null,
   "metadata": {},
   "outputs": [],
   "source": []
  },
  {
   "cell_type": "code",
   "execution_count": null,
   "metadata": {},
   "outputs": [],
   "source": []
  },
  {
   "cell_type": "code",
   "execution_count": null,
   "metadata": {
    "ExecuteTime": {
     "end_time": "2023-03-27T06:59:08.234735Z",
     "start_time": "2023-03-27T06:59:08.223704Z"
    }
   },
   "outputs": [],
   "source": [
    "# Shape of the tensor\n",
    "size = rand_initialized.size()\n",
    "print(size)\n",
    "\n",
    "# Numpy like API for shape\n",
    "shape = rand_initialized.shape\n",
    "print(shape)\n",
    "\n",
    "# Both are same\n",
    "print(shape == size)\n",
    "\n",
    "# indexing through the shape object, same as python tuple\n",
    "print(shape[0])\n",
    "print(shape[1])"
   ]
  },
  {
   "cell_type": "code",
   "execution_count": null,
   "metadata": {
    "ExecuteTime": {
     "end_time": "2023-03-27T06:59:30.499408Z",
     "start_time": "2023-03-27T06:59:30.476826Z"
    }
   },
   "outputs": [],
   "source": [
    "# Operations\n",
    "x = torch.ones(3, 2)\n",
    "\n",
    "# normal operators\n",
    "y = torch.ones(3, 2) * 2\n",
    "y = y + 2\n",
    "z = torch.ones(2, 1)\n",
    "# x -> 3x2\n",
    "# y -> 3x2\n",
    "# z -> 2x1\n",
    "x_y = x * y  # element wise mul -> 3x2\n",
    "x_y_z = x_y @ z  # matrix multiplication, (3x2) . (2x1) -> a 3x1 matrix\n",
    "print(x)\n",
    "print(y)\n",
    "print(z)\n",
    "print(x_y)\n",
    "print(x_y_z)"
   ]
  },
  {
   "cell_type": "code",
   "execution_count": null,
   "metadata": {
    "ExecuteTime": {
     "end_time": "2023-03-27T06:59:31.066327Z",
     "start_time": "2023-03-27T06:59:31.054403Z"
    }
   },
   "outputs": [],
   "source": [
    "# Addition 1 + 2 > 3\n",
    "z = x + y  # using operators\n",
    "print(z)\n",
    "\n",
    "z = x.add(y)  # using pytorch function, torch.add does the same\n",
    "print(z)"
   ]
  },
  {
   "cell_type": "code",
   "execution_count": null,
   "metadata": {
    "ExecuteTime": {
     "end_time": "2023-03-27T06:59:31.505112Z",
     "start_time": "2023-03-27T06:59:31.493799Z"
    }
   },
   "outputs": [],
   "source": [
    "z = x.add_(y)  # in place addition.\n",
    "print(z)\n",
    "print(x)  # value after addition"
   ]
  },
  {
   "cell_type": "code",
   "execution_count": null,
   "metadata": {
    "ExecuteTime": {
     "end_time": "2023-03-27T06:59:31.937452Z",
     "start_time": "2023-03-27T06:59:31.913987Z"
    }
   },
   "outputs": [],
   "source": [
    "# multiplication\n",
    "x = torch.rand(2, 3)\n",
    "y = torch.rand(3, 4)\n",
    "x.matmul(y)  # tensor of size 2x4"
   ]
  },
  {
   "cell_type": "code",
   "execution_count": null,
   "metadata": {
    "ExecuteTime": {
     "end_time": "2023-03-27T06:59:32.414209Z",
     "start_time": "2023-03-27T06:59:32.408370Z"
    }
   },
   "outputs": [],
   "source": [
    "# number of elements in a tensor\n",
    "x = torch.rand(2, 3)\n",
    "print(x.numel())"
   ]
  },
  {
   "cell_type": "code",
   "execution_count": null,
   "metadata": {
    "ExecuteTime": {
     "end_time": "2023-03-27T06:59:33.008119Z",
     "start_time": "2023-03-27T06:59:32.992892Z"
    }
   },
   "outputs": [],
   "source": [
    "# Slicing, joining, indexing and mutating\n",
    "# pythonic indexing\n",
    "x = torch.rand(2, 3, 4)\n",
    "x_with_2n3_dimension = x[1, :, :]\n",
    "scalar_x = x[1, 1, 1]  # first value from each dimension\n",
    "scalar_x"
   ]
  },
  {
   "cell_type": "code",
   "execution_count": null,
   "metadata": {
    "ExecuteTime": {
     "end_time": "2023-03-27T06:59:33.724789Z",
     "start_time": "2023-03-27T06:59:33.710277Z"
    }
   },
   "outputs": [],
   "source": [
    "# numpy like slicing\n",
    "x = torch.rand(2, 3)\n",
    "print(x[:, 1:])  # skipping first column\n",
    "print(x[:-1, :])  # skipping last row"
   ]
  },
  {
   "cell_type": "code",
   "execution_count": null,
   "metadata": {
    "ExecuteTime": {
     "end_time": "2023-03-27T06:59:34.134446Z",
     "start_time": "2023-03-27T06:59:34.124007Z"
    }
   },
   "outputs": [],
   "source": [
    "# transpose\n",
    "x = torch.rand(2, 3)\n",
    "print(x)\n",
    "print(x.t())  # size 3x2"
   ]
  },
  {
   "cell_type": "code",
   "execution_count": null,
   "metadata": {
    "ExecuteTime": {
     "end_time": "2023-03-27T06:59:34.499085Z",
     "start_time": "2023-03-27T06:59:34.490105Z"
    }
   },
   "outputs": [],
   "source": [
    "# concatenation and stacking\n",
    "x = torch.rand(2, 3)\n",
    "concat = torch.cat((x, x))\n",
    "print(concat)  # Concatenates 2 tensors on default zeroth dimension"
   ]
  },
  {
   "cell_type": "code",
   "execution_count": null,
   "metadata": {
    "ExecuteTime": {
     "end_time": "2023-03-27T06:59:34.833811Z",
     "start_time": "2023-03-27T06:59:34.825860Z"
    }
   },
   "outputs": [],
   "source": [
    "x = torch.rand(2, 3)\n",
    "concat = torch.cat((x, x), dim=1)\n",
    "print(concat)  # Concatenates 2 tensors on first dimension"
   ]
  },
  {
   "cell_type": "code",
   "execution_count": null,
   "metadata": {
    "ExecuteTime": {
     "end_time": "2023-03-27T06:59:35.183743Z",
     "start_time": "2023-03-27T06:59:35.170989Z"
    }
   },
   "outputs": [],
   "source": [
    "x = torch.rand(2, 3)\n",
    "stacked = torch.stack((x, x), dim=0)\n",
    "print(stacked)  # concatenated a tensor to new dimension, returns 2x2x3 tensor"
   ]
  },
  {
   "cell_type": "code",
   "execution_count": null,
   "metadata": {
    "ExecuteTime": {
     "end_time": "2023-03-27T06:59:35.562757Z",
     "start_time": "2023-03-27T06:59:35.552159Z"
    }
   },
   "outputs": [],
   "source": [
    "\n",
    "# split: you can use chunk as well\n",
    "x = torch.rand(2, 3)\n",
    "splitted = x.split(split_size=2, dim=0)  # get 2 tensors of 2 x 2 and 1 x 2 size\n",
    "print(splitted)"
   ]
  },
  {
   "cell_type": "code",
   "execution_count": null,
   "metadata": {
    "ExecuteTime": {
     "end_time": "2023-03-27T06:59:35.933931Z",
     "start_time": "2023-03-27T06:59:35.923867Z"
    }
   },
   "outputs": [],
   "source": [
    "\n",
    "# squeeze and unsqueeze\n",
    "x = torch.rand(3, 2, 1)  # a tensor of size 3 x 2 x 1\n",
    "squeezed = x.squeeze()\n",
    "print(squeezed)  # remove the 1 sized demension"
   ]
  },
  {
   "cell_type": "code",
   "execution_count": null,
   "metadata": {
    "ExecuteTime": {
     "end_time": "2023-03-27T06:59:36.248438Z",
     "start_time": "2023-03-27T06:59:36.237787Z"
    }
   },
   "outputs": [],
   "source": [
    "x = torch.rand(3)\n",
    "with_fake_dimension = x.unsqueeze(0)\n",
    "print(with_fake_dimension)  # added a fake zeroth dimension"
   ]
  },
  {
   "cell_type": "code",
   "execution_count": null,
   "metadata": {
    "ExecuteTime": {
     "end_time": "2023-03-27T07:25:07.585954Z",
     "start_time": "2023-03-27T07:25:07.575883Z"
    }
   },
   "outputs": [],
   "source": [
    "x=torch.ones(2,2)\n",
    "xv=x.view(-1)\n",
    "xn=x.numpy()"
   ]
  },
  {
   "cell_type": "code",
   "execution_count": null,
   "metadata": {
    "ExecuteTime": {
     "end_time": "2023-03-27T07:25:12.222798Z",
     "start_time": "2023-03-27T07:25:12.211731Z"
    }
   },
   "outputs": [],
   "source": [
    "x"
   ]
  },
  {
   "cell_type": "code",
   "execution_count": null,
   "metadata": {
    "ExecuteTime": {
     "end_time": "2023-03-27T07:25:14.840773Z",
     "start_time": "2023-03-27T07:25:14.827690Z"
    }
   },
   "outputs": [],
   "source": [
    "xv"
   ]
  },
  {
   "cell_type": "code",
   "execution_count": null,
   "metadata": {
    "ExecuteTime": {
     "end_time": "2023-03-27T07:25:16.926042Z",
     "start_time": "2023-03-27T07:25:16.912753Z"
    }
   },
   "outputs": [],
   "source": [
    "xn"
   ]
  },
  {
   "cell_type": "code",
   "execution_count": null,
   "metadata": {},
   "outputs": [],
   "source": []
  },
  {
   "cell_type": "code",
   "execution_count": null,
   "metadata": {
    "ExecuteTime": {
     "end_time": "2023-03-27T06:59:36.534048Z",
     "start_time": "2023-03-27T06:59:36.524430Z"
    }
   },
   "outputs": [],
   "source": [
    "# to numpy\n",
    "th_tensor = torch.rand(3, 2)\n",
    "np_tensor = th_tensor.numpy()\n",
    "print(type(th_tensor), type(np_tensor))"
   ]
  },
  {
   "cell_type": "code",
   "execution_count": null,
   "metadata": {
    "ExecuteTime": {
     "end_time": "2023-03-27T06:59:36.892817Z",
     "start_time": "2023-03-27T06:59:36.880599Z"
    }
   },
   "outputs": [],
   "source": [
    "\n",
    "# from numpy\n",
    "np_tensor = np.random.rand(3, 2)\n",
    "th_tensor = torch.from_numpy(np_tensor)\n",
    "print(type(np_tensor), type(th_tensor))"
   ]
  },
  {
   "cell_type": "code",
   "execution_count": null,
   "metadata": {
    "ExecuteTime": {
     "end_time": "2023-03-27T06:59:37.519730Z",
     "start_time": "2023-03-27T06:59:37.507510Z"
    }
   },
   "outputs": [],
   "source": [
    "# more fun with th-np conversion\n",
    "th_arange = torch.arange(1, 4)\n",
    "np_arange = np.arange(1, 4)\n",
    "print('would torch-numpy bridge work -> ', th_arange.numpy() == np_arange)\n",
    "\n"
   ]
  },
  {
   "cell_type": "code",
   "execution_count": null,
   "metadata": {
    "ExecuteTime": {
     "end_time": "2023-03-27T06:59:39.452835Z",
     "start_time": "2023-03-27T06:59:39.441556Z"
    }
   },
   "outputs": [],
   "source": [
    "# GPU (CUDA) tensors\n",
    "x = torch.rand(4, 3)\n",
    "y = torch.rand(4, 3)\n",
    "if torch.cuda.is_available():\n",
    "    x = x.cuda()\n",
    "    y = y.cuda()\n",
    "    z = x + y  # operation executed on GPU\n",
    "else:\n",
    "    print('No GPU available')"
   ]
  },
  {
   "cell_type": "code",
   "execution_count": null,
   "metadata": {
    "ExecuteTime": {
     "end_time": "2023-03-27T06:59:40.420101Z",
     "start_time": "2023-03-27T06:59:40.404746Z"
    }
   },
   "outputs": [],
   "source": [
    "#this saving and loading method is not the recommended one.\n",
    "#check here for more info pytorch.org/docs/master/notes/serialization.html\n",
    "#saving model\n",
    "x = torch.rand(3, 2)\n",
    "torch.save(x, 'path')\n",
    "print(x)\n",
    "#load\n",
    "x = torch.load('path')\n",
    "#Find more operations here: http://pytorch.org/docs/master/torch.html\n",
    "print(x)"
   ]
  },
  {
   "cell_type": "code",
   "execution_count": null,
   "metadata": {
    "ExecuteTime": {
     "end_time": "2023-03-27T06:59:42.183086Z",
     "start_time": "2023-03-27T06:59:42.171271Z"
    }
   },
   "outputs": [],
   "source": [
    "pwd"
   ]
  },
  {
   "cell_type": "code",
   "execution_count": null,
   "metadata": {
    "ExecuteTime": {
     "end_time": "2023-03-27T06:59:43.076124Z",
     "start_time": "2023-03-27T06:59:42.907028Z"
    }
   },
   "outputs": [],
   "source": [
    "ls ./path"
   ]
  },
  {
   "cell_type": "markdown",
   "metadata": {
    "ExecuteTime": {
     "end_time": "2023-02-20T14:52:55.377498Z",
     "start_time": "2023-02-20T14:52:55.225661Z"
    }
   },
   "source": [
    "## A Simple Neural Network"
   ]
  },
  {
   "cell_type": "markdown",
   "metadata": {},
   "source": [
    "## 数据集"
   ]
  },
  {
   "cell_type": "code",
   "execution_count": null,
   "metadata": {
    "ExecuteTime": {
     "end_time": "2023-04-11T11:09:57.879213Z",
     "start_time": "2023-04-11T11:09:57.855548Z"
    }
   },
   "outputs": [],
   "source": [
    "import numpy as np\n",
    "\n",
    "def binary_encoder(input_size):\n",
    "    def wrapper(num):\n",
    "        ret = [int(i) for i in '{0:b}'.format(num)]\n",
    "        return [0] * (input_size - len(ret)) + ret\n",
    "    return wrapper\n",
    "\n",
    "\n",
    "def decoder(array):\n",
    "    ret = 0\n",
    "    for i in array:\n",
    "        ret = ret * 2 + int(i)\n",
    "    return ret\n",
    "\n",
    "\n",
    "def training_test_gen(x, y):\n",
    "    assert len(x) == len(y)\n",
    "    indices = np.random.permutation(range(len(x)))\n",
    "    split_size = int(0.9 * len(indices))\n",
    "    trX = x[indices[:split_size]]\n",
    "    trY = y[indices[:split_size]]\n",
    "    teX = x[indices[split_size:]]\n",
    "    teY = y[indices[split_size:]]\n",
    "    return trX, trY, teX, teY\n",
    "\n",
    "\n",
    "def get_pytorch_data(input_size=10, limit=1000):\n",
    "    x = []\n",
    "    y = []\n",
    "    encoder = binary_encoder(input_size)\n",
    "    for i in range(limit):\n",
    "        x.append(encoder(i))\n",
    "        if i % 15 == 0:\n",
    "            y.append(0)\n",
    "        elif i % 5 == 0:\n",
    "            y.append(1)\n",
    "        elif i % 3 == 0:\n",
    "            y.append(2)\n",
    "        else:\n",
    "            y.append(3)\n",
    "    return training_test_gen(np.array(x), np.array(y))\n",
    "\n",
    "\n",
    "def get_numpy_data(input_size=10, limit=1000):\n",
    "    x = []\n",
    "    y = []\n",
    "    encoder = binary_encoder(input_size)\n",
    "    for i in range(limit):\n",
    "        x.append(encoder(i))\n",
    "        if i % 15 == 0:\n",
    "            y.append([1, 0, 0, 0])\n",
    "        elif i % 5 == 0:\n",
    "            y.append([0, 1, 0, 0])\n",
    "        elif i % 3 == 0:\n",
    "            y.append([0, 0, 1, 0])\n",
    "        else:\n",
    "            y.append([0, 0, 0, 1])\n",
    "    return training_test_gen(np.array(x), np.array(y))\n",
    "\n",
    "\n",
    "def check_fizbuz(i):\n",
    "    if i % 15 == 0:\n",
    "        return 'fizbuz'\n",
    "    elif i % 5 == 0:\n",
    "        return 'buz'\n",
    "    elif i % 3 == 0:\n",
    "        return 'fiz'\n",
    "    else:\n",
    "        return 'number'"
   ]
  },
  {
   "cell_type": "code",
   "execution_count": null,
   "metadata": {
    "ExecuteTime": {
     "end_time": "2023-04-11T11:40:44.403735Z",
     "start_time": "2023-04-11T11:40:44.394612Z"
    }
   },
   "outputs": [],
   "source": [
    "binary_encoder(2)(2)"
   ]
  },
  {
   "cell_type": "code",
   "execution_count": null,
   "metadata": {
    "ExecuteTime": {
     "end_time": "2023-04-11T11:37:37.046367Z",
     "start_time": "2023-04-11T11:37:37.039892Z"
    }
   },
   "outputs": [],
   "source": [
    "decoder((1,0,1,0))"
   ]
  },
  {
   "cell_type": "code",
   "execution_count": null,
   "metadata": {},
   "outputs": [],
   "source": []
  },
  {
   "cell_type": "code",
   "execution_count": null,
   "metadata": {
    "ExecuteTime": {
     "end_time": "2023-03-27T07:43:01.549280Z",
     "start_time": "2023-03-27T07:43:01.535783Z"
    }
   },
   "outputs": [],
   "source": [
    "epochs = 5\n",
    "batches = 64\n",
    "lr = 0.01\n",
    "input_size = 10\n",
    "output_size = 4\n",
    "hidden_size = 100"
   ]
  },
  {
   "cell_type": "code",
   "execution_count": null,
   "metadata": {
    "ExecuteTime": {
     "end_time": "2023-03-27T07:43:16.377591Z",
     "start_time": "2023-03-27T07:43:16.355477Z"
    }
   },
   "outputs": [],
   "source": [
    "trX, trY, teX, teY = get_numpy_data(input_size)\n",
    "device = 'cuda' if torch.cuda.is_available() else 'cpu'\n",
    "dtype = torch.float64\n",
    "\n",
    "\n",
    "x = torch.from_numpy(trX).to(device=device, dtype=dtype)\n",
    "y = torch.from_numpy(trY).to(device=device, dtype=dtype)\n",
    "\n",
    "print(x.grad, x.grad_fn, x)\n",
    "# None None tensor([[...]])"
   ]
  },
  {
   "cell_type": "code",
   "execution_count": null,
   "metadata": {
    "ExecuteTime": {
     "end_time": "2023-03-27T07:43:45.183352Z",
     "start_time": "2023-03-27T07:43:45.157330Z"
    }
   },
   "outputs": [],
   "source": [
    "w1 = torch.randn(input_size, hidden_size, requires_grad=True, device=device, dtype=dtype)\n",
    "w2 = torch.randn(hidden_size, output_size, requires_grad=True, device=device, dtype=dtype)\n",
    "\n",
    "print(w1.grad, w1.grad_fn, w1)\n",
    "# None None tensor([[...]])\n",
    "\n",
    "b1 = torch.zeros(1, hidden_size, requires_grad=True, device=device, dtype=dtype)\n",
    "b2 = torch.zeros(1, output_size, requires_grad=True, device=device, dtype=dtype)"
   ]
  },
  {
   "cell_type": "code",
   "execution_count": null,
   "metadata": {
    "ExecuteTime": {
     "end_time": "2023-04-11T12:06:51.807188Z",
     "start_time": "2023-04-11T12:06:51.802065Z"
    }
   },
   "outputs": [],
   "source": [
    "no_of_batches = int(len(trX) / batches)\n",
    "print(no_of_batches,len(trX),batches)"
   ]
  },
  {
   "cell_type": "code",
   "execution_count": null,
   "metadata": {},
   "outputs": [],
   "source": []
  },
  {
   "cell_type": "code",
   "execution_count": null,
   "metadata": {},
   "outputs": [],
   "source": [
    "no_of_batches = int(len(trX) / batches)\n",
    "for epoch in range(epochs):\n",
    "    for batch in range(no_of_batches):\n",
    "        start = batch * batches\n",
    "        end = start + batches\n",
    "        x_ = x[start:end]\n",
    "        y_ = y[start:end]\n",
    "\n",
    "        a2 = x_.matmul(w1)\n",
    "        a2 = a2.add(b1)\n",
    "\n",
    "        print(a2.grad, a2.grad_fn, a2)\n",
    "        # None <AddBackward0 object at 0x7f5f3b9253c8> tensor([[...]])\n",
    "\n",
    "        h2 = a2.sigmoid()\n",
    "\n",
    "        a3 = h2.matmul(w2)\n",
    "        a3 = a3.add(b2)\n",
    "        hyp = a3.sigmoid()\n",
    "\n",
    "        error = hyp - y_\n",
    "        output = error.pow(2).sum() / 2.0\n",
    "        output.backward()\n",
    "\n",
    "        print(x.grad, x.grad_fn, x)\n",
    "        # None None tensor([[...]])\n",
    "        print(w1.grad, w1.grad_fn, w1)\n",
    "        # tensor([[...]], None, tensor([[...]]\n",
    "        print(a2.grad, a2.grad_fn, a2)\n",
    "        # None <AddBackward0 object at 0x7f5f3d42c780> tensor([[...]])\n",
    "\n",
    "        # Direct manipulation of data outside autograd is not allowed\n",
    "        # when grad flag is True\n",
    "        with torch.no_grad():\n",
    "            w1 -= lr * w1.grad\n",
    "            w2 -= lr * w2.grad\n",
    "            b1 -= lr * b1.grad\n",
    "            b2 -= lr * b2.grad\n",
    "        # Making gradients zero. This is essential otherwise, gradient\n",
    "        # from next iteration accumulates\n",
    "        w1.grad.zero_()\n",
    "        w2.grad.zero_()\n",
    "        b1.grad.zero_()\n",
    "        b2.grad.zero_()\n",
    "    if epoch % 10:\n",
    "        print(epoch, output.item())\n",
    "\n",
    "# traversing the graph using .grad_fn\n",
    "print(output.grad_fn)\n",
    "# <DivBackward0 object at 0x7eff00ae3ef0>\n",
    "print(output.grad_fn.next_functions[0][0])\n",
    "# <SumBackward0 object at 0x7eff017b4128>\n",
    "print(output.grad_fn.next_functions[0][0].next_functions[0][0])\n",
    "# <PowBackward0 object at 0x7eff017b4128>\n"
   ]
  },
  {
   "cell_type": "code",
   "execution_count": null,
   "metadata": {},
   "outputs": [],
   "source": [
    "# test\n",
    "with torch.no_grad():\n",
    "    x = torch.from_numpy(teX).to(device=device, dtype=dtype)\n",
    "    y = torch.from_numpy(teY).to(device=device, dtype=dtype)\n",
    "\n",
    "    a2 = x.matmul(w1)\n",
    "    a2 = a2.add(b1)\n",
    "    h2 = a2.sigmoid()\n",
    "\n",
    "    a3 = h2.matmul(w2)\n",
    "    a3 = a3.add(b2)\n",
    "    hyp = a3.sigmoid()\n",
    "    error = hyp - y\n",
    "    output = error.pow(2).sum() / 2.\n",
    "    outli = ['fizbuz', 'buz', 'fiz', 'number']\n",
    "    for i in range(len(teX)):\n",
    "        num = decoder(teX[i])\n",
    "        print(\n",
    "            'Number: {} -- Actual: {} -- Prediction: {}'.format(\n",
    "                num, check_fizbuz(num), outli[hyp[i].max(0)[1].item()]))\n",
    "    print('Test loss: ', output.item() / len(x))\n",
    "    accuracy = hyp.max(1)[1] == y.max(1)[1]\n",
    "    print('accuracy: ', accuracy.sum().item() / len(accuracy))"
   ]
  },
  {
   "cell_type": "code",
   "execution_count": null,
   "metadata": {},
   "outputs": [],
   "source": []
  },
  {
   "cell_type": "code",
   "execution_count": null,
   "metadata": {},
   "outputs": [],
   "source": []
  },
  {
   "cell_type": "code",
   "execution_count": null,
   "metadata": {},
   "outputs": [],
   "source": []
  },
  {
   "cell_type": "markdown",
   "metadata": {},
   "source": [
    "## 图2.4"
   ]
  },
  {
   "cell_type": "code",
   "execution_count": null,
   "metadata": {
    "ExecuteTime": {
     "end_time": "2023-03-27T08:02:58.170059Z",
     "start_time": "2023-03-27T08:02:58.127204Z"
    }
   },
   "outputs": [],
   "source": [
    "import torch\n",
    "inputs = torch.FloatTensor([2])\n",
    "weight = torch.rand(1, requires_grad=True)\n",
    "bias = torch.ones(1, requires_grad=True)\n",
    "t = inputs * weight\n",
    "out = t + bias\n",
    "out.backward()"
   ]
  },
  {
   "cell_type": "code",
   "execution_count": null,
   "metadata": {
    "ExecuteTime": {
     "end_time": "2023-03-27T08:03:02.679739Z",
     "start_time": "2023-03-27T08:03:02.667751Z"
    }
   },
   "outputs": [],
   "source": [
    "weight.grad"
   ]
  },
  {
   "cell_type": "code",
   "execution_count": null,
   "metadata": {
    "ExecuteTime": {
     "end_time": "2023-03-27T08:03:03.416971Z",
     "start_time": "2023-03-27T08:03:03.403943Z"
    }
   },
   "outputs": [],
   "source": [
    "bias.grad"
   ]
  },
  {
   "cell_type": "markdown",
   "metadata": {},
   "source": [
    "## FizBuzNet"
   ]
  },
  {
   "cell_type": "code",
   "execution_count": null,
   "metadata": {
    "ExecuteTime": {
     "end_time": "2023-04-11T11:14:13.109631Z",
     "start_time": "2023-04-11T11:14:13.103494Z"
    }
   },
   "outputs": [],
   "source": [
    "import torch.nn\n",
    "import torch\n",
    "from torch import nn\n",
    "import torch.optim as optim\n",
    "import numpy as np\n",
    "import time"
   ]
  },
  {
   "cell_type": "markdown",
   "metadata": {
    "ExecuteTime": {
     "end_time": "2023-04-11T11:25:52.984904Z",
     "start_time": "2023-04-11T11:25:52.978419Z"
    }
   },
   "source": [
    "### 2.4.1"
   ]
  },
  {
   "cell_type": "code",
   "execution_count": null,
   "metadata": {
    "ExecuteTime": {
     "end_time": "2023-04-11T11:13:39.277704Z",
     "start_time": "2023-04-11T11:13:39.268548Z"
    }
   },
   "outputs": [],
   "source": [
    "class FizBuzNet(nn.Module):\n",
    "    \"\"\"\n",
    "    2 layer network for predicting fiz or buz\n",
    "    param: input_size -> int\n",
    "    param: output_size -> int\n",
    "    \"\"\"\n",
    "\n",
    "    def __init__(self, input_size, hidden_size, output_size):\n",
    "        super(FizBuzNet, self).__init__()\n",
    "        self.hidden = nn.Linear(input_size, hidden_size)\n",
    "        self.out = nn.Linear(hidden_size, output_size)\n",
    "\n",
    "    def forward(self, batch):\n",
    "        hidden = self.hidden(batch)\n",
    "        activated = torch.sigmoid(hidden)\n",
    "        out = self.out(activated)\n",
    "        return out"
   ]
  },
  {
   "cell_type": "code",
   "execution_count": null,
   "metadata": {
    "ExecuteTime": {
     "end_time": "2023-04-11T11:15:15.527572Z",
     "start_time": "2023-04-11T11:15:15.516550Z"
    }
   },
   "outputs": [],
   "source": [
    "class Linear(torch.nn.Module):\n",
    "    def __init__(self, in_features, out_features, bias):\n",
    "        super(Linear, self).__init__()\n",
    "        self.in_features = in_features\n",
    "        self.out_features = out_features\n",
    "        self.weight = torch.nn.Parameter(torch.Tensor(out_features, in_features))\n",
    "        self.bias = torch.nn.Parameter(torch.Tensor(out_features))\n",
    "\n",
    "    def forward(self, input):\n",
    "        return input.matmul(self.weight.t()) + self.bias"
   ]
  },
  {
   "cell_type": "code",
   "execution_count": null,
   "metadata": {
    "ExecuteTime": {
     "end_time": "2023-04-11T11:28:44.567698Z",
     "start_time": "2023-04-11T11:28:44.550499Z"
    }
   },
   "outputs": [],
   "source": [
    "trX, trY, teX, teY = get_pytorch_data(input_size, limit=1000)\n",
    "if torch.cuda.is_available():\n",
    "    xtype = torch.cuda.FloatTensor\n",
    "    ytype = torch.cuda.LongTensor\n",
    "else:\n",
    "    xtype = torch.FloatTensor\n",
    "    ytype = torch.LongTensor\n",
    "x = torch.from_numpy(trX).type(xtype)\n",
    "y = torch.from_numpy(trY).type(ytype)"
   ]
  },
  {
   "cell_type": "code",
   "execution_count": null,
   "metadata": {
    "ExecuteTime": {
     "end_time": "2023-04-11T11:33:15.046400Z",
     "start_time": "2023-04-11T11:33:15.039722Z"
    }
   },
   "outputs": [],
   "source": [
    "epochs"
   ]
  },
  {
   "cell_type": "code",
   "execution_count": null,
   "metadata": {
    "ExecuteTime": {
     "end_time": "2023-04-11T11:32:41.095945Z",
     "start_time": "2023-04-11T11:32:41.019517Z"
    }
   },
   "outputs": [],
   "source": [
    "net = FizBuzNet(input_size, hidden_size, output_size)\n",
    "loss_fn = nn.CrossEntropyLoss()\n",
    "optimizer = optim.Adam(net.parameters(), lr=lr)\n",
    "total_time = []\n",
    "no_of_batches = int(len(trX) / batches)\n",
    "for epoch in range(epochs):\n",
    "    for batch in range(no_of_batches):\n",
    "        start = batch * batches\n",
    "        end = start + batches\n",
    "        x_ = x[start:end]\n",
    "        y_ = y[start:end]\n",
    "        start = time.time()\n",
    "        hyp = net(x_)\n",
    "        loss = loss_fn(hyp, y_)\n",
    "        optimizer.zero_grad()\n",
    "        loss.backward()\n",
    "        total_time.append(time.time() - start)\n",
    "        optimizer.step()\n",
    "    if epoch % 10:\n",
    "        print(epoch, loss.item())\n",
    "total_sum = sum(total_time)\n",
    "total_len = len(total_time)\n",
    "print(total_sum, total_len, total_sum / total_len)\n",
    "\n",
    "\n",
    "# Test\n",
    "with torch.no_grad():\n",
    "    x = torch.from_numpy(teX).type(xtype)\n",
    "    y = torch.from_numpy(teY).type(ytype)\n",
    "    hyp = net(x)\n",
    "    output = loss_fn(hyp, y)\n",
    "    outli = ['fizbuz', 'buz', 'fiz', 'number']\n",
    "    for i in range(len(teX)):\n",
    "        num = decoder(teX[i])\n",
    "        print(\n",
    "            'Number: {} -- Actual: {} -- Prediction: {}'.format(\n",
    "                num, check_fizbuz(num), outli[hyp[i].max(0)[1].item()]))\n",
    "    print('Test loss: ', output.item() / len(x))\n",
    "    accuracy = hyp.max(1)[1] == y\n",
    "    print('accuracy: ', accuracy.sum().item() / len(accuracy))\n",
    "\n",
    "torch.save(net.state_dict(), 'fizbuz_model.pth')"
   ]
  },
  {
   "cell_type": "code",
   "execution_count": null,
   "metadata": {
    "ExecuteTime": {
     "end_time": "2023-04-11T11:14:28.013556Z",
     "start_time": "2023-04-11T11:14:27.859123Z"
    }
   },
   "outputs": [],
   "source": [
    "ls *.pth"
   ]
  },
  {
   "cell_type": "markdown",
   "metadata": {},
   "source": [
    "## 3.DLWorkFlow"
   ]
  },
  {
   "cell_type": "code",
   "execution_count": null,
   "metadata": {
    "ExecuteTime": {
     "end_time": "2023-05-14T12:43:57.992786Z",
     "start_time": "2023-05-14T12:43:56.325633Z"
    }
   },
   "outputs": [],
   "source": [
    "from dataclasses import dataclass\n",
    "from torch.utils.data import Dataset, DataLoader\n",
    "\n",
    "\n",
    "@dataclass(eq=False)\n",
    "class FizBuzDataset(Dataset):\n",
    "    \"\"\" Dataset class sublcassed from torch's dataset utility\n",
    "    Args:\n",
    "            input_size (int): input size of a datapoint or in this case, the binary size\n",
    "            start (int): whole number from where the dataset starts counting, exclusive\n",
    "            end (int): whole number till where the dataset keeps counting, inclusive\n",
    "    \"\"\"\n",
    "    input_size: int = 10\n",
    "    start: int = 0\n",
    "    end: int = 1000\n",
    "\n",
    "    def encoder(self, num):\n",
    "        ret = [int(i) for i in '{0:b}'.format(num)]\n",
    "        return [0] * (self.input_size - len(ret)) + ret\n",
    "\n",
    "    def __getitem__(self, idx):\n",
    "        idx += self.start\n",
    "        x = self.encoder(idx)\n",
    "        if idx % 15 == 0:\n",
    "            y = [1, 0, 0, 0]\n",
    "        elif idx % 5 == 0:\n",
    "            y = [0, 1, 0, 0]\n",
    "        elif idx % 3 == 0:\n",
    "            y = [0, 0, 1, 0]\n",
    "        else:\n",
    "            y = [0, 0, 0, 1]\n",
    "        return x, y\n",
    "\n",
    "    def __len__(self):\n",
    "        \"\"\" setting the length to a limit. Theoretically fizbuz dataset can have\n",
    "        infinitily long dataset but dataloaders fetches len(dataset) to loop decide\n",
    "        what's the length. Returning any number from this function sets that as the\n",
    "        length of the dataset\n",
    "        \"\"\"\n",
    "        return self.end - self.start\n",
    "\n",
    "\n",
    "\n"
   ]
  },
  {
   "cell_type": "code",
   "execution_count": null,
   "metadata": {
    "ExecuteTime": {
     "end_time": "2023-05-14T12:44:39.805874Z",
     "start_time": "2023-05-14T12:44:39.797999Z"
    }
   },
   "outputs": [],
   "source": [
    "dataset = FizBuzDataset()"
   ]
  },
  {
   "cell_type": "code",
   "execution_count": null,
   "metadata": {
    "ExecuteTime": {
     "end_time": "2023-05-14T12:47:27.526181Z",
     "start_time": "2023-05-14T12:47:27.518022Z"
    }
   },
   "outputs": [],
   "source": [
    "num=22\n",
    "ret = [int(i) for i in '{0:b}'.format(num)]\n",
    "print(ret)"
   ]
  },
  {
   "cell_type": "code",
   "execution_count": null,
   "metadata": {
    "ExecuteTime": {
     "end_time": "2023-05-14T12:47:35.048711Z",
     "start_time": "2023-05-14T12:47:35.041715Z"
    }
   },
   "outputs": [],
   "source": [
    "dataset.encoder(num)"
   ]
  },
  {
   "cell_type": "code",
   "execution_count": null,
   "metadata": {
    "ExecuteTime": {
     "end_time": "2023-05-14T12:51:51.058441Z",
     "start_time": "2023-05-14T12:51:51.050692Z"
    }
   },
   "outputs": [],
   "source": [
    "len(dataset)"
   ]
  },
  {
   "cell_type": "code",
   "execution_count": null,
   "metadata": {
    "ExecuteTime": {
     "end_time": "2023-05-14T12:50:12.310250Z",
     "start_time": "2023-05-14T12:50:12.298816Z"
    }
   },
   "outputs": [],
   "source": [
    "#if __name__ == '__main__':\n",
    "dataset = FizBuzDataset()\n",
    "for i in range(len(dataset)):\n",
    "    x, y = dataset[i]"
   ]
  },
  {
   "cell_type": "code",
   "execution_count": null,
   "metadata": {
    "ExecuteTime": {
     "end_time": "2023-05-14T12:50:57.857557Z",
     "start_time": "2023-05-14T12:50:57.849426Z"
    }
   },
   "outputs": [],
   "source": [
    "dataset"
   ]
  },
  {
   "cell_type": "code",
   "execution_count": null,
   "metadata": {
    "ExecuteTime": {
     "end_time": "2023-05-14T12:50:19.746976Z",
     "start_time": "2023-05-14T12:50:19.735303Z"
    }
   },
   "outputs": [],
   "source": [
    "x,y"
   ]
  },
  {
   "cell_type": "code",
   "execution_count": null,
   "metadata": {
    "ExecuteTime": {
     "end_time": "2023-05-14T12:53:23.707116Z",
     "start_time": "2023-05-14T12:53:23.702041Z"
    }
   },
   "outputs": [],
   "source": [
    "dataloader = DataLoader(dataset, batch_size=10, shuffle=True, num_workers=4)"
   ]
  },
  {
   "cell_type": "code",
   "execution_count": null,
   "metadata": {
    "ExecuteTime": {
     "end_time": "2023-05-14T12:53:39.299154Z",
     "start_time": "2023-05-14T12:53:39.290811Z"
    }
   },
   "outputs": [],
   "source": [
    "dataloader"
   ]
  },
  {
   "cell_type": "markdown",
   "metadata": {
    "ExecuteTime": {
     "end_time": "2023-05-14T12:55:31.517470Z",
     "start_time": "2023-05-14T12:55:31.504440Z"
    }
   },
   "source": [
    "for data in iter(dataset):\n",
    "    yield collate_fn(data)"
   ]
  },
  {
   "cell_type": "markdown",
   "metadata": {
    "ExecuteTime": {
     "end_time": "2023-05-14T12:52:28.135775Z",
     "start_time": "2023-05-14T12:52:27.040884Z"
    }
   },
   "source": [
    "dataloader = DataLoader(dataset, batch_size=10, shuffle=True, num_workers=4)\n",
    "for batch in dataloader:\n",
    "    print(batch)"
   ]
  },
  {
   "cell_type": "code",
   "execution_count": null,
   "metadata": {
    "ExecuteTime": {
     "end_time": "2023-05-14T12:58:05.661557Z",
     "start_time": "2023-05-14T12:58:01.887815Z"
    }
   },
   "outputs": [],
   "source": [
    "#Install a pip package in the current Jupyter kernel\n",
    "import sys\n",
    "#!{sys.executable} -m pip install torchvision\n",
    "\n",
    "#pip install torchvision"
   ]
  },
  {
   "cell_type": "code",
   "execution_count": null,
   "metadata": {
    "ExecuteTime": {
     "end_time": "2023-05-14T13:01:01.415694Z",
     "start_time": "2023-05-14T13:00:09.862653Z"
    }
   },
   "outputs": [],
   "source": [
    "!{sys.executable} -m pip install torchtext"
   ]
  },
  {
   "cell_type": "markdown",
   "metadata": {},
   "source": [
    "## pip"
   ]
  },
  {
   "cell_type": "code",
   "execution_count": null,
   "metadata": {
    "ExecuteTime": {
     "end_time": "2023-05-29T13:41:53.824548Z",
     "start_time": "2023-05-29T13:41:51.299261Z"
    }
   },
   "outputs": [],
   "source": [
    "#Install a pip package in the current Jupyter kernel\n",
    "import sys\n",
    "\n",
    "#!{sys.executable} -m pip install mglearn #torchvision\n",
    "#!{sys.executable} -m pip install pydotplus #torchvision\n",
    "#!{sys.executable} -m pip install graphviz #torchvision\n",
    "!{sys.executable} -m pip install pyparsing #torchvision\n"
   ]
  },
  {
   "cell_type": "code",
   "execution_count": null,
   "metadata": {},
   "outputs": [],
   "source": []
  },
  {
   "cell_type": "markdown",
   "metadata": {},
   "source": [
    "## 4.computer vision"
   ]
  },
  {
   "cell_type": "code",
   "execution_count": null,
   "metadata": {},
   "outputs": [],
   "source": [
    "cnn"
   ]
  },
  {
   "cell_type": "code",
   "execution_count": null,
   "metadata": {},
   "outputs": [],
   "source": []
  },
  {
   "cell_type": "code",
   "execution_count": null,
   "metadata": {},
   "outputs": [],
   "source": []
  },
  {
   "cell_type": "code",
   "execution_count": null,
   "metadata": {},
   "outputs": [],
   "source": []
  },
  {
   "cell_type": "markdown",
   "metadata": {},
   "source": [
    "## 5.SequentialDataProcessing"
   ]
  },
  {
   "cell_type": "code",
   "execution_count": null,
   "metadata": {},
   "outputs": [],
   "source": [
    "rnn"
   ]
  },
  {
   "cell_type": "markdown",
   "metadata": {},
   "source": [
    "### 5.5 分类器"
   ]
  },
  {
   "cell_type": "markdown",
   "metadata": {},
   "source": [
    "## 6.GenerativeNetworks"
   ]
  },
  {
   "cell_type": "code",
   "execution_count": null,
   "metadata": {},
   "outputs": [],
   "source": [
    "自回归模型\n",
    "\n"
   ]
  },
  {
   "cell_type": "code",
   "execution_count": null,
   "metadata": {},
   "outputs": [],
   "source": [
    "生成对抗网络 GAN"
   ]
  },
  {
   "cell_type": "code",
   "execution_count": null,
   "metadata": {},
   "outputs": [],
   "source": []
  },
  {
   "cell_type": "markdown",
   "metadata": {},
   "source": [
    "## 7.ReinforcementLearning"
   ]
  },
  {
   "cell_type": "code",
   "execution_count": null,
   "metadata": {},
   "outputs": [],
   "source": [
    "无监督学习"
   ]
  },
  {
   "cell_type": "markdown",
   "metadata": {},
   "source": [
    "### 马尔可夫决策树 MDP\n"
   ]
  },
  {
   "cell_type": "code",
   "execution_count": null,
   "metadata": {},
   "outputs": [],
   "source": []
  },
  {
   "cell_type": "code",
   "execution_count": null,
   "metadata": {},
   "outputs": [],
   "source": []
  },
  {
   "cell_type": "code",
   "execution_count": null,
   "metadata": {},
   "outputs": [],
   "source": []
  },
  {
   "cell_type": "markdown",
   "metadata": {},
   "source": [
    "## 8.PyTorchInProduction"
   ]
  },
  {
   "cell_type": "markdown",
   "metadata": {},
   "source": []
  },
  {
   "cell_type": "code",
   "execution_count": null,
   "metadata": {},
   "outputs": [],
   "source": [
    "Flask"
   ]
  },
  {
   "cell_type": "code",
   "execution_count": null,
   "metadata": {},
   "outputs": [],
   "source": [
    "gunicorn"
   ]
  },
  {
   "cell_type": "code",
   "execution_count": null,
   "metadata": {},
   "outputs": [],
   "source": [
    "netron"
   ]
  },
  {
   "cell_type": "code",
   "execution_count": null,
   "metadata": {},
   "outputs": [],
   "source": []
  },
  {
   "cell_type": "markdown",
   "metadata": {},
   "source": [
    "# pytorch machinelearning"
   ]
  },
  {
   "cell_type": "markdown",
   "metadata": {},
   "source": [
    "## 2.4.2 PCA reduce"
   ]
  },
  {
   "cell_type": "code",
   "execution_count": null,
   "metadata": {
    "ExecuteTime": {
     "end_time": "2023-05-29T12:58:45.560837Z",
     "start_time": "2023-05-29T12:58:43.784779Z"
    }
   },
   "outputs": [],
   "source": [
    "from sklearn.datasets import load_iris  \n",
    "data=load_iris()  \t\n",
    "y=data.target  \n",
    "x=data.data  \n",
    "n_components=2\n",
    "\n",
    "from sklearn.decomposition import PCA  \n",
    "pca=PCA(n_components=n_components)  \n",
    "reduced_x=pca.fit_transform(x)  "
   ]
  },
  {
   "cell_type": "code",
   "execution_count": null,
   "metadata": {
    "ExecuteTime": {
     "end_time": "2023-05-29T12:58:59.879556Z",
     "start_time": "2023-05-29T12:58:59.870160Z"
    }
   },
   "outputs": [],
   "source": [
    "y"
   ]
  },
  {
   "cell_type": "markdown",
   "metadata": {
    "ExecuteTime": {
     "end_time": "2023-05-29T12:58:52.808518Z",
     "start_time": "2023-05-29T12:58:52.788035Z"
    }
   },
   "source": [
    "x"
   ]
  },
  {
   "cell_type": "markdown",
   "metadata": {
    "ExecuteTime": {
     "end_time": "2023-05-29T12:58:50.286727Z",
     "start_time": "2023-05-29T12:58:50.266485Z"
    }
   },
   "source": [
    "reduced_x"
   ]
  },
  {
   "cell_type": "code",
   "execution_count": null,
   "metadata": {
    "ExecuteTime": {
     "end_time": "2023-05-29T12:59:57.849471Z",
     "start_time": "2023-05-29T12:59:57.707688Z"
    }
   },
   "outputs": [],
   "source": [
    "import matplotlib.pyplot as plt  \n",
    "red_x,red_y=[],[]  \n",
    "blue_x,blue_y=[],[]  \n",
    "green_x,green_y=[],[]  \n",
    "for i in range(len(reduced_x)):  \n",
    "    if y[i] ==0:  \n",
    "        red_x.append(reduced_x[i][0])  \n",
    "        red_y.append(reduced_x[i][1])  \n",
    "  \n",
    "    elif y[i]==1:  \n",
    "        blue_x.append(reduced_x[i][0])  \n",
    "        blue_y.append(reduced_x[i][1])    \n",
    "    else:  \n",
    "       green_x.append(reduced_x[i][0])  \n",
    "       green_y.append(reduced_x[i][1])   \n",
    "        \n",
    "plt.scatter(red_x,red_y,c='r',marker='x',label='Class 1')  \n",
    "plt.scatter(blue_x,blue_y,c='b',marker='D',label='Class 2')  \n",
    "plt.scatter(green_x,green_y,c='g',marker='.',label='Class 3')  \n",
    "plt.legend()\n",
    "plt.show() "
   ]
  },
  {
   "cell_type": "code",
   "execution_count": null,
   "metadata": {},
   "outputs": [],
   "source": []
  },
  {
   "cell_type": "code",
   "execution_count": null,
   "metadata": {
    "ExecuteTime": {
     "end_time": "2023-05-29T13:09:40.532911Z",
     "start_time": "2023-05-29T13:09:38.132643Z"
    }
   },
   "outputs": [],
   "source": [
    "import pandas as pd\n",
    "from sklearn.model_selection import train_test_split\n",
    "from sklearn.datasets import load_iris\n",
    "import mglearn\n",
    "import matplotlib.pyplot as plt\n",
    "import numpy as np\n",
    "#导入数据集\n"
   ]
  },
  {
   "cell_type": "code",
   "execution_count": null,
   "metadata": {},
   "outputs": [],
   "source": [
    "##"
   ]
  },
  {
   "cell_type": "code",
   "execution_count": null,
   "metadata": {
    "ExecuteTime": {
     "end_time": "2023-05-29T13:18:04.296324Z",
     "start_time": "2023-05-29T13:18:04.287065Z"
    }
   },
   "outputs": [],
   "source": [
    "iris_dataset['data'].shape"
   ]
  },
  {
   "cell_type": "code",
   "execution_count": null,
   "metadata": {
    "ExecuteTime": {
     "end_time": "2023-05-29T13:15:02.435120Z",
     "start_time": "2023-05-29T13:15:01.811742Z"
    }
   },
   "outputs": [],
   "source": [
    "iris_dataset = load_iris()\n",
    "X_train, X_test, y_train, y_test = train_test_split(iris_dataset['data'], iris_dataset['target'], random_state=0)\n",
    "iris_dataframe = pd.DataFrame(X_train, columns=iris_dataset.feature_names)\n",
    "\n",
    "grr = pd.plotting.scatter_matrix(iris_dataframe, c=y_train, figsize=(15, 15), marker='o', hist_kwds={'bins': 20}, s=60, alpha=.8,\n",
    "                        cmap=mglearn.cm3)\n",
    "plt.show()"
   ]
  },
  {
   "cell_type": "code",
   "execution_count": null,
   "metadata": {
    "ExecuteTime": {
     "end_time": "2023-05-29T13:16:28.397066Z",
     "start_time": "2023-05-29T13:16:28.381241Z"
    }
   },
   "outputs": [],
   "source": [
    "from sklearn.neighbors import KNeighborsClassifier\n",
    "#调用sklearn库中的KNN模型\n",
    "knn=KNeighborsClassifier(n_neighbors=3)\n",
    "knn.fit(X_train, y_train)\n",
    "\n"
   ]
  },
  {
   "cell_type": "code",
   "execution_count": null,
   "metadata": {
    "ExecuteTime": {
     "end_time": "2023-05-29T13:17:10.039236Z",
     "start_time": "2023-05-29T13:17:10.026853Z"
    }
   },
   "outputs": [],
   "source": [
    "y_pred=knn.predict(X_test)\n",
    "print(\"Test set predictions:\\n {}\".format(y_pred))\n",
    "print(\"Test set score: {:.3f}\".format(np.mean(y_pred==y_test)))"
   ]
  },
  {
   "cell_type": "code",
   "execution_count": null,
   "metadata": {
    "ExecuteTime": {
     "end_time": "2023-05-29T13:19:09.884723Z",
     "start_time": "2023-05-29T13:19:09.872310Z"
    }
   },
   "outputs": [],
   "source": [
    "from sklearn.neighbors import KNeighborsClassifier\n",
    "#调用sklearn库中的KNN模型\n",
    "knn5=KNeighborsClassifier(n_neighbors=2)\n",
    "knn5.fit(X_train, y_train)"
   ]
  },
  {
   "cell_type": "code",
   "execution_count": null,
   "metadata": {
    "ExecuteTime": {
     "end_time": "2023-05-29T13:19:10.261536Z",
     "start_time": "2023-05-29T13:19:10.251360Z"
    }
   },
   "outputs": [],
   "source": [
    "y_pred=knn5.predict(X_test)\n",
    "print(\"Test set predictions:\\n {}\".format(y_pred))\n",
    "print(\"Test set score: {:.3f}\".format(np.mean(y_pred==y_test)))"
   ]
  },
  {
   "cell_type": "markdown",
   "metadata": {},
   "source": [
    "## def plot_decision_regions"
   ]
  },
  {
   "cell_type": "code",
   "execution_count": null,
   "metadata": {
    "ExecuteTime": {
     "end_time": "2023-05-29T14:17:07.381375Z",
     "start_time": "2023-05-29T14:17:07.357751Z"
    }
   },
   "outputs": [],
   "source": [
    "# coding: utf-8\n",
    "from sklearn import datasets\n",
    "import numpy as np\n",
    "from sklearn.model_selection import train_test_split\n",
    "from matplotlib.colors import ListedColormap\n",
    "import matplotlib.pyplot as plt\n",
    "import matplotlib\n",
    "from distutils.version import LooseVersion\n",
    "from sklearn.tree import DecisionTreeClassifier\n",
    "\n",
    "def plot_decision_regions(X, y, classifier, test_idx=None, resolution=0.02):\n",
    "    # setup marker generator and color map\n",
    "    markers = ('s', 'x', 'o', '^', 'v')\n",
    "    colors = ('red', 'blue', 'lightgreen', 'gray', 'cyan')\n",
    "    cmap = ListedColormap(colors[:len(np.unique(y))])\n",
    "\n",
    "    # plot the decision surface\n",
    "    x1_min, x1_max = X[:, 0].min() - 1, X[:, 0].max() + 1\n",
    "    x2_min, x2_max = X[:, 1].min() - 1, X[:, 1].max() + 1\n",
    "    xx1, xx2 = np.meshgrid(np.arange(x1_min, x1_max, resolution),\n",
    "                           np.arange(x2_min, x2_max, resolution))\n",
    "    Z = classifier.predict(np.array([xx1.ravel(), xx2.ravel()]).T)\n",
    "    Z = Z.reshape(xx1.shape)\n",
    "    plt.contourf(xx1, xx2, Z, alpha=0.3, cmap=cmap)\n",
    "    plt.xlim(xx1.min(), xx1.max())\n",
    "    plt.ylim(xx2.min(), xx2.max())\n",
    "\n",
    "    for idx, cl in enumerate(np.unique(y)):\n",
    "        plt.scatter(x=X[y == cl, 0],\n",
    "                    y=X[y == cl, 1],\n",
    "                    alpha=0.8,\n",
    "                    color=colors[idx],\n",
    "                    marker=markers[idx],\n",
    "                    label=cl,\n",
    "                    edgecolor='black')\n",
    "\n",
    "    # highlight test examples\n",
    "    if test_idx:\n",
    "        # plot all examples\n",
    "        X_test, y_test = X[test_idx, :], y[test_idx]\n",
    "\n",
    "        if LooseVersion(matplotlib.__version__) < LooseVersion('0.3.4'):\n",
    "            plt.scatter(X_test[:, 0],\n",
    "                        X_test[:, 1],\n",
    "                        c='',\n",
    "                        edgecolor='black',\n",
    "                        alpha=1.0,\n",
    "                        linewidth=1,\n",
    "                        marker='o',\n",
    "                        s=100,\n",
    "                        label='test set')\n",
    "        else:\n",
    "            plt.scatter(X_test[:, 0],\n",
    "                        X_test[:, 1],\n",
    "                        c='none',\n",
    "                        edgecolor='black',\n",
    "                        alpha=1.0,\n",
    "                        linewidth=1,\n",
    "                        marker='o',\n",
    "                        s=100,\n",
    "                        label='test set')\n",
    "\n"
   ]
  },
  {
   "cell_type": "markdown",
   "metadata": {},
   "source": [
    "## DecisionTreeClassifier"
   ]
  },
  {
   "cell_type": "code",
   "execution_count": null,
   "metadata": {
    "ExecuteTime": {
     "end_time": "2023-05-29T13:39:16.677786Z",
     "start_time": "2023-05-29T13:39:16.505052Z"
    }
   },
   "outputs": [],
   "source": [
    "iris = datasets.load_iris()\n",
    "X = iris.data[:, [2, 3]]\n",
    "y = iris.target\n",
    "X_train, X_test, y_train, y_test = train_test_split(X, y, test_size=0.3, random_state=1, stratify=y)\n",
    "\n",
    "tree_model = DecisionTreeClassifier(criterion='gini',max_depth=4,random_state=1)\n",
    "tree_model.fit(X_train, y_train)\n",
    "X_combined = np.vstack((X_train, X_test))\n",
    "y_combined = np.hstack((y_train, y_test))\n",
    "plot_decision_regions(X_combined,y_combined,classifier=tree_model,test_idx=range(105,150))\n",
    "\n",
    "plt.xlabel('petal length [cm]')\n",
    "plt.ylabel('petal width [cm]')\n",
    "plt.legend(loc='upper left')\n",
    "plt.tight_layout()\n",
    "plt.show()"
   ]
  },
  {
   "cell_type": "code",
   "execution_count": null,
   "metadata": {
    "ExecuteTime": {
     "end_time": "2023-05-29T13:44:19.425894Z",
     "start_time": "2023-05-29T13:44:19.060520Z"
    }
   },
   "outputs": [],
   "source": [
    "from sklearn import datasets\n",
    "import numpy as np\n",
    "from sklearn.model_selection import train_test_split\n",
    "from sklearn.tree import DecisionTreeClassifier\n",
    "from pydotplus import graph_from_dot_data\n",
    "from sklearn.tree import export_graphviz\n",
    "\n",
    "tree_model = DecisionTreeClassifier(criterion='gini',max_depth=4,random_state=1)\n",
    "\n",
    "iris = datasets.load_iris()\n",
    "X = iris.data[:, [2, 3]]\n",
    "y = iris.target\n",
    "X_train, X_test, y_train, y_test = train_test_split(X, y, test_size=0.3, random_state=1, stratify=y)\n",
    "\n",
    "tree_model.fit(X_train, y_train)\n",
    "X_combined = np.vstack((X_train, X_test))\n",
    "dot_data = export_graphviz(tree_model,\n",
    "              filled=True,\n",
    "              rounded=True,\n",
    "              class_names=['Setosa',\n",
    "                      'Versicolor',\n",
    "                      'Virginica'],\n",
    "              feature_names=['petal length',\n",
    "                     'petal width'],\n",
    "             out_file=None)\n",
    "graph = graph_from_dot_data(dot_data)\n",
    "graph.write_png('tree.png')"
   ]
  },
  {
   "cell_type": "markdown",
   "metadata": {},
   "source": [
    "## svm"
   ]
  },
  {
   "cell_type": "code",
   "execution_count": null,
   "metadata": {
    "ExecuteTime": {
     "end_time": "2023-05-29T14:13:55.580185Z",
     "start_time": "2023-05-29T14:13:55.480048Z"
    }
   },
   "outputs": [],
   "source": [
    "import matplotlib.pyplot as plt  \n",
    "import numpy as np  \n",
    "np.random.seed(1)  \n",
    "X_xor = np.random.randn(200, 2)  \n",
    "y_xor = np.logical_xor(X_xor[:, 0] > 0,X_xor[:, 1] > 0)  \n",
    "y_xor = np.where(y_xor, 1, -1)  \n",
    "plt.scatter(X_xor[y_xor == 1, 0],X_xor[y_xor == 1, 1],c='b', marker='x',label='1')  \n",
    "plt.scatter(X_xor[y_xor == -1, 0],X_xor[y_xor == -1, 1],c='r',marker='s', label='-1')  \n",
    "plt.xlim([-3, 3])  \n",
    "plt.ylim([-3, 3])  \n",
    "plt.legend(loc='best')  \n",
    "plt.tight_layout()  \n",
    "plt.show() \n"
   ]
  },
  {
   "cell_type": "code",
   "execution_count": null,
   "metadata": {
    "ExecuteTime": {
     "end_time": "2023-05-29T14:14:28.026274Z",
     "start_time": "2023-05-29T14:14:28.017066Z"
    }
   },
   "outputs": [],
   "source": [
    "X_xor.shape"
   ]
  },
  {
   "cell_type": "markdown",
   "metadata": {
    "ExecuteTime": {
     "end_time": "2023-05-29T14:16:56.647036Z",
     "start_time": "2023-05-29T14:16:56.643265Z"
    }
   },
   "source": [
    "## def plot_decision_regions1"
   ]
  },
  {
   "cell_type": "code",
   "execution_count": null,
   "metadata": {
    "ExecuteTime": {
     "end_time": "2023-05-29T14:17:44.065585Z",
     "start_time": "2023-05-29T14:17:44.051652Z"
    }
   },
   "outputs": [],
   "source": [
    "import matplotlib.pyplot as plt  \n",
    "import numpy as np  \n",
    "from matplotlib.colors import ListedColormap  \n",
    "def plot_decision_regions1(x,y,model,resolution=0.02):  \n",
    "\tmarkers = ('s','x','o','^','v')  \n",
    "\tcolors = ('red','blue','lightgreen','gray','cyan')  \n",
    "\tcmap = ListedColormap(colors[:len(np.unique(y))])  \n",
    "\tx1_min,x1_max = x[:,0].min() - 1,x[:,0].max() + 1  \n",
    "\tx2_min,x2_max = x[:,1].min() - 1,x[:,1].max() + 1  \n",
    "\txx1,xx2 = np.meshgrid(np.arange(x1_min,x1_max,resolution),  \n",
    "\t\t                  np.arange(x2_min,x2_max,resolution))  \n",
    "\tz = model.predict(np.array([xx1.ravel(),xx2.ravel()]).T)  \n",
    "\tz = z.reshape(xx1.shape)  \n",
    "\tplt.contourf(xx1,xx2,z,alpha=0.4,cmap=cmap)  \n",
    "\tplt.xlim(xx1.min(),xx1.max())  \n",
    "\tplt.ylim(xx2.min(),xx2.max())  \n",
    "\tfor idx,cl in enumerate(np.unique(y)):  \n",
    "\t    plt.scatter(x=x[y == cl,0],y=x[y == cl,1],  \n",
    "\t\t            alpha=0.8,c=cmap(idx),  \n",
    "\t                marker=markers[idx],label=cl)  \n",
    "\tplt.xlabel(\"x1\")  \n",
    "\tplt.ylabel(\"x2\")  \n",
    "\tplt.show()  "
   ]
  },
  {
   "cell_type": "code",
   "execution_count": null,
   "metadata": {
    "ExecuteTime": {
     "end_time": "2023-05-29T14:18:13.421033Z",
     "start_time": "2023-05-29T14:18:13.415650Z"
    }
   },
   "outputs": [],
   "source": [
    "import sklearn"
   ]
  },
  {
   "cell_type": "code",
   "execution_count": null,
   "metadata": {
    "ExecuteTime": {
     "end_time": "2023-05-29T14:18:50.263918Z",
     "start_time": "2023-05-29T14:18:48.902012Z"
    }
   },
   "outputs": [],
   "source": [
    "if __name__ == \"__main__\":  \n",
    "    x_xor = np.random.randn(200,2)  \n",
    "    #将数据集变成一个异或的数据集  \n",
    "    y_xor = np.logical_xor(x_xor[:,0] > 0,x_xor[:,1] > 0)  \n",
    "    y_xor = np.where(y_xor,1,-1)  \n",
    "    svm = sklearn.svm.SVC(kernel=\"rbf\", random_state=0, gamma=0.1, C=1.0)  \n",
    "    svm.fit(x_xor, y_xor)  \n",
    "    plot_decision_regions1(x_xor, y_xor, svm) "
   ]
  },
  {
   "cell_type": "code",
   "execution_count": null,
   "metadata": {
    "ExecuteTime": {
     "end_time": "2023-05-29T14:19:51.756297Z",
     "start_time": "2023-05-29T14:19:51.514303Z"
    }
   },
   "outputs": [],
   "source": [
    "if __name__ == \"__main__\":  \n",
    "    x_xor = np.random.randn(200,2)  \n",
    "    #将数据集变成一个异或的数据集  \n",
    "    y_xor = np.logical_xor(x_xor[:,0] > 0,x_xor[:,1] > 0)  \n",
    "    y_xor = np.where(y_xor,1,-1)  \n",
    "    svm = sklearn.svm.SVC(kernel=\"poly\", degree=2,gamma=1,coef0=0)  \n",
    "    svm.fit(x_xor, y_xor)  \n",
    "    plot_decision_regions1(x_xor, y_xor, svm) "
   ]
  },
  {
   "cell_type": "markdown",
   "metadata": {},
   "source": [
    "## 6.1 linear regression"
   ]
  },
  {
   "cell_type": "code",
   "execution_count": null,
   "metadata": {
    "ExecuteTime": {
     "end_time": "2023-05-31T04:38:31.760582Z",
     "start_time": "2023-05-31T04:38:31.755307Z"
    }
   },
   "outputs": [],
   "source": [
    "# 线性回归示例\n",
    "import numpy as np\n",
    "import matplotlib.pyplot as plt\n",
    "from sklearn.linear_model import LinearRegression\n",
    "\n",
    "\n",
    "#plt.rcParams['font.sans-serif'] = ['SimHei']  # 用来正常显示中文\n",
    "plt.rcParams['axes.unicode_minus'] = False  # 用来正常显示负号"
   ]
  },
  {
   "cell_type": "code",
   "execution_count": null,
   "metadata": {
    "ExecuteTime": {
     "end_time": "2023-05-31T04:38:32.172373Z",
     "start_time": "2023-05-31T04:38:32.159241Z"
    }
   },
   "outputs": [],
   "source": [
    "# 载入数据\n",
    "def load_data(filename):\n",
    "\n",
    "    xys = []\n",
    "    with open(filename, 'r') as f:\n",
    "        for line in f:\n",
    "            xys.append(map(float, line.strip().split()))\n",
    "        xs, ys = zip(*xys)\n",
    "        xs = np.expand_dims(xs, axis=1)\n",
    "        ys = np.expand_dims(ys, axis=1)\n",
    "        return np.asarray(xs), np.asarray(ys)\n",
    "\n",
    "\n",
    "class LinearClassifier(object):\n",
    "\n",
    "    def __init__(self):\n",
    "        self.w = np.zeros((2, 1), dtype=float)\n",
    "\n",
    "    # 训练模型，求取模型参数\n",
    "    def train(self, x_train, y_train):\n",
    "        x_train = np.concatenate([x_train, np.ones_like(x_train)], axis=1).T\n",
    "        w1 = np.linalg.inv(np.dot(x_train, x_train.T))\n",
    "        w2 = np.dot(x_train, y_train)\n",
    "        self.w = np.dot(w1, w2)\n",
    "        return self.w\n",
    "\n",
    "    # 预测数据\n",
    "    def predict(self,x_test):\n",
    "        x_test = np.concatenate([x_test, np.ones_like(x_test)], axis=1).T\n",
    "        y_test_pred = np.dot(self.w.T, x_test)\n",
    "        return y_test_pred.T\n"
   ]
  },
  {
   "cell_type": "code",
   "execution_count": null,
   "metadata": {
    "ExecuteTime": {
     "end_time": "2023-05-31T04:38:32.522527Z",
     "start_time": "2023-05-31T04:38:32.515784Z"
    }
   },
   "outputs": [],
   "source": [
    "pwd"
   ]
  },
  {
   "cell_type": "code",
   "execution_count": null,
   "metadata": {
    "ExecuteTime": {
     "end_time": "2023-05-31T04:38:32.952060Z",
     "start_time": "2023-05-31T04:38:32.945512Z"
    }
   },
   "outputs": [],
   "source": [
    "'/Users/lyubing/Downloads/机器学习应用实战094095-01/9787302597452 机器学习应用实战/'"
   ]
  },
  {
   "cell_type": "code",
   "execution_count": null,
   "metadata": {
    "ExecuteTime": {
     "end_time": "2023-05-31T04:38:33.785216Z",
     "start_time": "2023-05-31T04:38:33.341887Z"
    }
   },
   "outputs": [],
   "source": [
    "if __name__ == '__main__':\n",
    "\n",
    "    #X_train, y_train = load_data('../../../dataset/第6章/linear_regression_dataset/train.txt')\n",
    "    #X_test, y_test = load_data('../../../dataset/第6章/linear_regression_dataset/test.txt')\n",
    "    X_train, y_train = load_data('/Users/lyubing/Downloads/机器学习应用实战094095-01/9787302597452 机器学习应用实战/dataset/第6章/linear_regression_dataset/train.txt')\n",
    "    X_test, y_test = load_data('/Users/lyubing/Downloads/机器学习应用实战094095-01/9787302597452 机器学习应用实战/dataset/第6章/linear_regression_dataset/test.txt')\n",
    "\n",
    "    # 使用最小二乘法拟合线性方程\n",
    "    LinearClassifier = LinearClassifier()\n",
    "    LinearClassifier.train(X_train, y_train)\n",
    "\n",
    "    y_test_pred = LinearClassifier.predict(X_test)\n",
    "\n",
    "    #绘制拟合图像\n",
    "    plt.figure(figsize=(6, 5))\n",
    "\n",
    "    plt.subplot(111)\n",
    "    plt.scatter(X_test, y_test, color=\"steelblue\", edgecolors=\"white\", linewidth=2)  # 绘制样本点\n",
    "    plt.plot(X_test, y_test_pred, color=\"black\", linewidth=2)  # 绘制拟合的模型\n",
    "    plt.title(u'线性回归')\n",
    "    plt.xlabel('x', fontsize=13)\n",
    "    plt.ylabel('y', fontsize=13)\n",
    "\n",
    "    plt.show()\n",
    "\n",
    "    # 调用scikit-learn中的API拟合线性方程\n",
    "    regr = LinearRegression()\n",
    "    regr.fit(X_train, y_train)\n",
    "    y_test_pred = regr.predict(X_test)\n",
    "\n",
    "    #绘制拟合图像\n",
    "    plt.figure(figsize=(6, 5))\n",
    "\n",
    "    plt.subplot(111)\n",
    "    plt.scatter(X_test, y_test, color=\"steelblue\", edgecolors=\"white\", linewidth=2)  # 绘制样本点\n",
    "    plt.plot(X_test, y_test_pred, color=\"black\", linewidth=2)  # 绘制拟合的模型\n",
    "    plt.title(u'线性回归')\n",
    "    plt.xlabel('x', fontsize=13)\n",
    "    plt.ylabel('y', fontsize=13)\n",
    "\n",
    "    plt.show()"
   ]
  },
  {
   "cell_type": "code",
   "execution_count": null,
   "metadata": {
    "ExecuteTime": {
     "end_time": "2023-05-31T04:45:00.074234Z",
     "start_time": "2023-05-31T04:45:00.065191Z"
    }
   },
   "outputs": [],
   "source": [
    "# 多项式回归示例\n",
    "\n",
    "import numpy as np\n",
    "import matplotlib.pyplot as plt\n",
    "from sklearn.linear_model import LinearRegression\n",
    "from sklearn.preprocessing import PolynomialFeatures\n",
    "\n",
    "plt.rcParams['font.sans-serif'] = ['SimHei']  # 用来正常显示中文\n",
    "plt.rcParams['axes.unicode_minus'] = False  # 用来正常显示负号\n",
    "\n",
    "# 载入数据\n",
    "def load_data(filename):\n",
    "    xys = []\n",
    "    with open(filename, 'r') as f:\n",
    "        for line in f:\n",
    "            xys.append(map(float, line.strip().split()))\n",
    "        xs, ys = zip(*xys)\n",
    "        xs = np.expand_dims(xs, axis=1)\n",
    "        ys = np.expand_dims(ys, axis=1)\n",
    "        return np.asarray(xs), np.asarray(ys)"
   ]
  },
  {
   "cell_type": "code",
   "execution_count": null,
   "metadata": {
    "ExecuteTime": {
     "end_time": "2023-05-31T04:46:43.629291Z",
     "start_time": "2023-05-31T04:46:43.443593Z"
    }
   },
   "outputs": [],
   "source": [
    "if __name__ == '__main__':\n",
    "    X_train, y_train = load_data('/Users/lyubing/Downloads/机器学习应用实战094095-01/9787302597452 机器学习应用实战/dataset/第6章/polynomial_regression_dataset/train.txt')\n",
    "    X_test, y_test = load_data('/Users/lyubing/Downloads/机器学习应用实战094095-01/9787302597452 机器学习应用实战/dataset/第6章/polynomial_regression_dataset/test.txt')\n",
    "\n",
    "    # 建立模型\n",
    "    quadratic = PolynomialFeatures(degree=2)\n",
    "    X_train_quad = quadratic.fit_transform(X_train)\n",
    "    X_test_quad = quadratic.fit_transform(X_test)\n",
    "\n",
    "    regr = LinearRegression()\n",
    "    regr.fit(X_train_quad, y_train)\n",
    "    y_test_pred = regr.predict(X_test_quad)\n",
    "\n",
    "    # 绘制图像\n",
    "    plt.scatter(X_test, y_test, color='steelblue', edgecolors='white')\n",
    "\n",
    "    test_sort_idx = X_test.flatten().argsort()\n",
    "    plt.plot(X_test[test_sort_idx], y_test_pred[test_sort_idx],\n",
    "             color='black',\n",
    "             lw=2,\n",
    "             linestyle='-')\n",
    "\n",
    "    plt.title(u\"多项式回归\")\n",
    "    plt.xlabel('x', fontsize=13)\n",
    "    plt.ylabel('y', fontsize=13)\n",
    "    plt.show()"
   ]
  },
  {
   "cell_type": "code",
   "execution_count": null,
   "metadata": {
    "ExecuteTime": {
     "end_time": "2023-05-31T04:49:06.847119Z",
     "start_time": "2023-05-31T04:49:06.694654Z"
    }
   },
   "outputs": [],
   "source": [
    "if __name__ == '__main__':\n",
    "    X_train, y_train = load_data('/Users/lyubing/Downloads/机器学习应用实战094095-01/9787302597452 机器学习应用实战/dataset/第6章/polynomial_regression_dataset/train.txt')\n",
    "    X_test, y_test = load_data('/Users/lyubing/Downloads/机器学习应用实战094095-01/9787302597452 机器学习应用实战/dataset/第6章/polynomial_regression_dataset/test.txt')\n",
    "\n",
    "    # 建立模型\n",
    "    quadratic = PolynomialFeatures(degree=4)\n",
    "    X_train_quad = quadratic.fit_transform(X_train)\n",
    "    X_test_quad = quadratic.fit_transform(X_test)\n",
    "\n",
    "    regr = LinearRegression()\n",
    "    regr.fit(X_train_quad, y_train)\n",
    "    y_test_pred = regr.predict(X_test_quad)\n",
    "\n",
    "    # 绘制图像\n",
    "    plt.scatter(X_test, y_test, color='steelblue', edgecolors='white')\n",
    "\n",
    "    test_sort_idx = X_test.flatten().argsort()\n",
    "    plt.plot(X_test[test_sort_idx], y_test_pred[test_sort_idx],\n",
    "             color='black',\n",
    "             lw=2,\n",
    "             linestyle='-')\n",
    "\n",
    "    plt.title(u\"多项式回归\")\n",
    "    plt.xlabel('x', fontsize=13)\n",
    "    plt.ylabel('y', fontsize=13)\n",
    "    plt.show()"
   ]
  },
  {
   "cell_type": "markdown",
   "metadata": {},
   "source": [
    "## 6.6.3 正则化回归"
   ]
  },
  {
   "cell_type": "code",
   "execution_count": null,
   "metadata": {
    "ExecuteTime": {
     "end_time": "2023-06-12T08:07:53.211672Z",
     "start_time": "2023-06-12T08:07:53.191831Z"
    }
   },
   "outputs": [],
   "source": [
    "pwd"
   ]
  },
  {
   "cell_type": "code",
   "execution_count": null,
   "metadata": {
    "ExecuteTime": {
     "end_time": "2023-06-12T08:08:24.657039Z",
     "start_time": "2023-06-12T08:08:24.371511Z"
    }
   },
   "outputs": [],
   "source": [
    "# 正则化回归示例\n",
    "\n",
    "import matplotlib.pyplot as plt\n",
    "import numpy as np\n",
    "from sklearn.linear_model import Ridge\n",
    "from sklearn.linear_model import Lasso\n",
    "from sklearn.linear_model import ElasticNet\n",
    "from sklearn.preprocessing import PolynomialFeatures\n",
    "\n",
    "\n",
    "# 载入数据\n",
    "def load_data(filename):\n",
    "    xys = []\n",
    "    with open(filename, 'r') as f:\n",
    "        for line in f:\n",
    "            xys.append(map(float, line.strip().split()))\n",
    "        xs, ys = zip(*xys)\n",
    "        xs = np.expand_dims(xs, axis=1)\n",
    "        ys = np.expand_dims(ys, axis=1)\n",
    "        return np.asarray(xs), np.asarray(ys)\n",
    "\n",
    "\n",
    "if __name__ == '__main__':\n",
    "    X_train, y_train = load_data('/Users/lyubing/Downloads/机器学习应用实战094095-01/9787302597452 机器学习应用实战/dataset/第6章/polynomial_regression_dataset/train.txt')\n",
    "    X_test, y_test = load_data('/Users/lyubing/Downloads/机器学习应用实战094095-01/9787302597452 机器学习应用实战/dataset/第6章/polynomial_regression_dataset/test.txt')\n",
    "\n",
    "    quadratic = PolynomialFeatures(degree=2)\n",
    "    ridge = Ridge(alpha=0.1)\n",
    "\n",
    "    # 初始化岭回归拟合数据\n",
    "    X_quad = quadratic.fit_transform(X_train)\n",
    "    ridge.fit(X_quad, y_train)\n",
    "    y_pred = ridge.predict(quadratic.fit_transform(X_test))\n",
    "    # 绘制拟合图像\n",
    "    idx = X_test.squeeze().argsort()\n",
    "    plt.scatter(X_test[idx], y_test[idx], c='steelblue', edgecolor='white', s=70)\n",
    "    plt.plot(X_test[idx], y_pred[idx], color='black', lw=2)\n",
    "    plt.xlabel('x')\n",
    "    plt.ylabel('y')\n",
    "    plt.title('Ridge Regression')\n",
    "    plt.show()\n",
    "\n",
    "    # 初始化初始化最小绝对收缩与选择算子拟合数据\n",
    "    quadratic = PolynomialFeatures(degree=2)\n",
    "    lasso = Lasso(alpha=0.1)\n",
    "    X_quad = quadratic.fit_transform(X_train)\n",
    "    lasso.fit(X_quad, y_train)\n",
    "    y_pred = lasso.predict(quadratic.fit_transform(X_test))\n",
    "    # 绘制拟合图像\n",
    "    idx = X_test.squeeze().argsort()\n",
    "    plt.scatter(X_test[idx], y_test[idx], c='steelblue', edgecolor='white', s=70)\n",
    "    plt.plot(X_test[idx], y_pred[idx], color='black', lw=2)\n",
    "    plt.xlabel('x')\n",
    "    plt.ylabel('y')\n",
    "    plt.title('Lasso Regression')\n",
    "    plt.show()\n",
    "\n",
    "    # 初始化弹性网络拟合数据\n",
    "    quadratic = PolynomialFeatures(degree=2)\n",
    "    elanet = ElasticNet(alpha=0.1)\n",
    "    X_quad = quadratic.fit_transform(X_train)\n",
    "    elanet.fit(X_quad, y_train)\n",
    "    y_pred = elanet.predict(quadratic.fit_transform(X_test))\n",
    "    # 绘制拟合图像\n",
    "    idx = X_test.squeeze().argsort()\n",
    "    plt.scatter(X_test[idx], y_test[idx], c='steelblue', edgecolor='white', s=70)\n",
    "    plt.plot(X_test[idx], y_pred[idx], color='black', lw=2)\n",
    "    plt.xlabel('x')\n",
    "    plt.ylabel('y')\n",
    "    plt.title('Elanet Regression')\n",
    "    plt.show()"
   ]
  },
  {
   "cell_type": "code",
   "execution_count": null,
   "metadata": {},
   "outputs": [],
   "source": []
  },
  {
   "cell_type": "markdown",
   "metadata": {},
   "source": [
    "## 6.6.4 随机森林回归"
   ]
  },
  {
   "cell_type": "code",
   "execution_count": null,
   "metadata": {
    "ExecuteTime": {
     "end_time": "2023-06-12T08:09:06.245384Z",
     "start_time": "2023-06-12T08:09:00.776152Z"
    }
   },
   "outputs": [],
   "source": [
    "# 随机森林回归示例\n",
    "\n",
    "import numpy as np\n",
    "import matplotlib.pyplot as plt\n",
    "from sklearn.ensemble import RandomForestRegressor\n",
    "\n",
    "plt.rcParams['font.sans-serif'] = ['SimHei']  # 用来正常显示中文\n",
    "plt.rcParams['axes.unicode_minus'] = False  # 用来正常显示负号\n",
    "\n",
    "# 载入数据\n",
    "def load_data(filename):\n",
    "    xys = []\n",
    "    with open(filename, 'r') as f:\n",
    "        for line in f:\n",
    "            xys.append(map(float, line.strip().split()))\n",
    "        xs, ys = zip(*xys)\n",
    "        xs = np.expand_dims(xs, axis=1)\n",
    "        return np.asarray(xs), np.asarray(ys)\n",
    "\n",
    "\n",
    "if __name__ == '__main__':\n",
    "\n",
    "    X_train, y_train = load_data('/Users/lyubing/Downloads/机器学习应用实战094095-01/9787302597452 机器学习应用实战/dataset/第6章/random_forest_dataset/train.txt')\n",
    "    X_test, y_test = load_data('/Users/lyubing/Downloads/机器学习应用实战094095-01/9787302597452 机器学习应用实战/dataset/第6章/random_forest_dataset/test.txt')\n",
    "\n",
    "    forest = RandomForestRegressor(n_estimators=1000,  # 森林中树的数目\n",
    "                                   criterion='mse',  # 特征评价标准,这里选择mse作为回归模型的评价标准，也可选择绝对值差（mae）等。\n",
    "                                   random_state=1,  # 随机发生器种子数\n",
    "                                   n_jobs=-1)  # n_jobs为设定工作的core数量，等于-1的时候，表示cpu里的所有core进行工作。\n",
    "\n",
    "    forest.fit(X_train, y_train)\n",
    "    y_test_pred = forest.predict(X_test)\n",
    "\n",
    "    # 绘制图像\n",
    "    plt.figure(figsize=(6, 5))\n",
    "    plt.subplot(111)\n",
    "    test_sort_idx = X_test.flatten().argsort()\n",
    "    plt.scatter(X_test, y_test, label='testing points', color='steelblue', edgecolor='white', s=70)\n",
    "    plt.plot(X_test[test_sort_idx], forest.predict(X_test[test_sort_idx]),\n",
    "             color='black',\n",
    "             lw=2)\n",
    "    plt.xlabel('x', fontsize=13)\n",
    "    plt.ylabel('y', fontsize=13)\n",
    "    plt.title(u'随机森林回归')\n",
    "    plt.tight_layout()\n",
    "\n",
    "    plt.show()\n"
   ]
  },
  {
   "cell_type": "markdown",
   "metadata": {},
   "source": [
    "## 6.7 "
   ]
  },
  {
   "cell_type": "code",
   "execution_count": 3,
   "metadata": {
    "ExecuteTime": {
     "end_time": "2023-06-12T08:27:18.048951Z",
     "start_time": "2023-06-12T08:27:12.996575Z"
    }
   },
   "outputs": [
    {
     "data": {
      "image/png": "[encoded data removed]",
      "text/plain": [
       "<Figure size 900x900 with 30 Axes>"
      ]
     },
     "metadata": {
      "needs_background": "light"
     },
     "output_type": "display_data"
    },
    {
     "data": {
      "image/png": "[encoded data removed]",
      "text/plain": [
       "<Figure size 432x288 with 2 Axes>"
      ]
     },
     "metadata": {
      "needs_background": "light"
     },
     "output_type": "display_data"
    },
    {
     "name": "stderr",
     "output_type": "stream",
     "text": [
      "/Users/lyubing/opt/anaconda3/lib/python3.9/site-packages/sklearn/ensemble/_forest.py:400: FutureWarning: Criterion 'mse' was deprecated in v1.0 and will be removed in version 1.2. Use `criterion='squared_error'` which is equivalent.\n",
      "  warn(\n"
     ]
    },
    {
     "name": "stdout",
     "output_type": "stream",
     "text": [
      "mse_test=50.92 r2_test=0.44\n"
     ]
    },
    {
     "data": {
      "image/png": "[encoded data removed]",
      "text/plain": [
       "<Figure size 432x288 with 1 Axes>"
      ]
     },
     "metadata": {
      "needs_background": "light"
     },
     "output_type": "display_data"
    }
   ],
   "source": [
    "import pandas as pd\n",
    "import matplotlib.pyplot as plt\n",
    "import seaborn as sns\n",
    "import numpy as np\n",
    "from sklearn.model_selection import train_test_split\n",
    "from sklearn.ensemble import RandomForestRegressor\n",
    "from sklearn.metrics import r2_score\n",
    "from sklearn.metrics import mean_squared_error\n",
    "\n",
    "\n",
    "plt.rcParams['font.sans-serif'] = ['SimHei']  # 用来正常显示中文\n",
    "plt.rcParams['axes.unicode_minus'] = False  # 用来正常显示负号\n",
    "\n",
    "if __name__ == '__main__':\n",
    "\n",
    "\t# 加载住房数据集\n",
    "\tdf = pd.read_csv('/Users/lyubing/Downloads/机器学习应用实战094095-01/9787302597452 机器学习应用实战/dataset/第6章/housing_dataset/housing.data.txt', header=None, sep='\\s+')\n",
    "\n",
    "\tdf.columns = ['CRIM', 'ZN', 'INDUS', 'CHAS', 'NOX', 'RM', 'AGE',\n",
    "\t\t\t\t  'DIS', 'RAD', 'TAX', 'PTRATIO', 'B', 'LSTAT', 'MEDV']\n",
    "\n",
    "\t# 绘制散点图\n",
    "\tcols = ['LSTAT', 'INDUS', 'NOX', 'RM', 'MEDV']\n",
    "\tsns.pairplot(df[cols], height=2.5)\n",
    "\tplt.tight_layout()\n",
    "\tplt.show()\n",
    "\n",
    "\t# 绘制关联矩阵\n",
    "\tcm = np.corrcoef(df[cols].values.T)\n",
    "\thm = sns.heatmap(cm,\n",
    "               \t\t cbar=True,\n",
    "                 \t annot=True,\n",
    "               \t\t square=True,\n",
    "                 \t fmt='.2f',\n",
    "                \t annot_kws={'size': 15},\n",
    "                \t yticklabels=cols,\n",
    "               \t\t xticklabels=cols)\n",
    "\tplt.show()\n",
    "\n",
    "\t# 划分训练集和测试集\n",
    "\tX = df['RM'].values\n",
    "\ty = df['MEDV'].values\n",
    "\tX_train, X_test, y_train, y_test = train_test_split(X, y, test_size=0.4, random_state=1)\n",
    "\n",
    "\t# 建立随机森林模型\n",
    "\tforest = RandomForestRegressor(n_estimators=1000, criterion='mse', random_state = 1, n_jobs = -1)\n",
    "\t# 训练\n",
    "\tforest.fit(X_train[:, np.newaxis], y_train)\n",
    "\t# 预测\n",
    "\ty_test_pred = forest.predict(X_test[:, np.newaxis])\n",
    "\n",
    "\t# 评估模型\n",
    "\tmse_test = mean_squared_error(y_test, y_test_pred)\n",
    "\tr2_test = r2_score(y_test, y_test_pred)\n",
    "\tprint(\"mse_test={:.2f} r2_test={:.2f}\".format(mse_test, r2_test))\n",
    "\n",
    "\t# 绘制残差图\n",
    "\tplt.scatter(y_test_pred,\n",
    "\t\t\t\ty_test_pred - y_test,\n",
    "\t\t\t\tc='steelblue',\n",
    "\t\t\t\tedgecolor='white',\n",
    "\t\t\t\tmarker='s',\n",
    "\t\t\t\ts=35,\n",
    "\t\t\t\talpha=0.9,\n",
    "\t\t\t\tlabel=u'测试样本')\n",
    "\tplt.xlabel(u'预测值')\n",
    "\tplt.ylabel(u'残差图')\n",
    "\tplt.legend(loc='upper left')\n",
    "\tplt.hlines(y=0, xmin=-10, xmax=50, lw=2, color='black')\n",
    "\tplt.xlim([10, 48])\n",
    "\tplt.title(u'残差图')\n",
    "\tplt.tight_layout()\n",
    "\tplt.show()\n",
    "\n",
    "\n"
   ]
  },
  {
   "cell_type": "code",
   "execution_count": null,
   "metadata": {},
   "outputs": [],
   "source": []
  }
 ],
 "metadata": {
  "celltoolbar": "Raw Cell Format",
  "kernelspec": {
   "display_name": "Python 3 (ipykernel)",
   "language": "python",
   "name": "python3"
  },
  "language_info": {
   "codemirror_mode": {
    "name": "ipython",
    "version": 3
   },
   "file_extension": ".py",
   "mimetype": "text/x-python",
   "name": "python",
   "nbconvert_exporter": "python",
   "pygments_lexer": "ipython3",
   "version": "3.9.12"
  },
  "latex_envs": {
   "LaTeX_envs_menu_present": true,
   "autoclose": false,
   "autocomplete": true,
   "bibliofile": "biblio.bib",
   "cite_by": "apalike",
   "current_citInitial": 1,
   "eqLabelWithNumbers": true,
   "eqNumInitial": 1,
   "hotkeys": {
    "equation": "Ctrl-E",
    "itemize": "Ctrl-I"
   },
   "labels_anchors": false,
   "latex_user_defs": false,
   "report_style_numbering": false,
   "user_envs_cfg": false
  },
  "toc": {
   "base_numbering": 1,
   "nav_menu": {},
   "number_sections": true,
   "sideBar": true,
   "skip_h1_title": false,
   "title_cell": "Table of Contents",
   "title_sidebar": "Contents",
   "toc_cell": false,
   "toc_position": {
    "height": "calc(100% - 180px)",
    "left": "10px",
    "top": "150px",
    "width": "290.594px"
   },
   "toc_section_display": "block",
   "toc_window_display": true
  }
 },
 "nbformat": 4,
 "nbformat_minor": 2
}
