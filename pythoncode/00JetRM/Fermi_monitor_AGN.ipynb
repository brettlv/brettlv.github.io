{
 "cells": [
  {
   "cell_type": "markdown",
   "metadata": {},
   "source": [
    "# import"
   ]
  },
  {
   "cell_type": "code",
   "execution_count": 1,
   "metadata": {
    "ExecuteTime": {
     "end_time": "2022-07-12T11:56:54.989720Z",
     "start_time": "2022-07-12T11:56:53.329146Z"
    }
   },
   "outputs": [],
   "source": [
    "import pandas as pd\n",
    "import numpy as np\n",
    "\n",
    "import time\n",
    "import os\n",
    "import sys\n",
    "\n",
    "from astropy import config as _config\n",
    "from astroquery.irsa import Irsa   \n",
    "from astropy import units as u\n",
    "from astropy.coordinates import SkyCoord\n"
   ]
  },
  {
   "cell_type": "code",
   "execution_count": 2,
   "metadata": {
    "ExecuteTime": {
     "end_time": "2022-07-12T11:56:56.465151Z",
     "start_time": "2022-07-12T11:56:54.992350Z"
    }
   },
   "outputs": [],
   "source": [
    "import numpy as np\n",
    "import pandas as pd\n",
    "\n",
    "\n",
    "\n",
    "\n",
    "from astropy.table import Table\n",
    "from astropy.io import fits\n",
    "from astropy import units as u\n",
    "from astropy import constants \n",
    "from astropy.coordinates import SkyCoord\n",
    "from astropy.visualization import hist\n",
    "from astroML.datasets import fetch_imaging_sample, fetch_sdss_S82standards\n",
    "from astroML.crossmatch import crossmatch_angular"
   ]
  },
  {
   "cell_type": "markdown",
   "metadata": {},
   "source": [
    "## bandpass transmission curves"
   ]
  },
  {
   "cell_type": "code",
   "execution_count": null,
   "metadata": {},
   "outputs": [],
   "source": [
    "V and R-filter bandpass transmission curves\n",
    "that I used for the Steward Observatory blazar monitoring program"
   ]
  },
  {
   "cell_type": "code",
   "execution_count": 15,
   "metadata": {
    "ExecuteTime": {
     "end_time": "2022-07-11T09:28:17.656405Z",
     "start_time": "2022-07-11T09:28:17.649238Z"
    }
   },
   "outputs": [],
   "source": [
    "Fermi_monitor_AGN_V=fits.open('/Users/brettlv/Downloads/Fermi AGN optical monitoring program at Steward Observatory/V.fits')"
   ]
  },
  {
   "cell_type": "code",
   "execution_count": 16,
   "metadata": {
    "ExecuteTime": {
     "end_time": "2022-07-11T09:28:17.666476Z",
     "start_time": "2022-07-11T09:28:17.659468Z"
    }
   },
   "outputs": [],
   "source": [
    "Fermi_monitor_AGN_R=fits.open('/Users/brettlv/Downloads/Fermi AGN optical monitoring program at Steward Observatory/R.fits')\n"
   ]
  },
  {
   "cell_type": "code",
   "execution_count": 5,
   "metadata": {
    "ExecuteTime": {
     "end_time": "2022-07-10T09:18:02.879157Z",
     "start_time": "2022-07-10T09:18:02.875327Z"
    }
   },
   "outputs": [
    {
     "name": "stdout",
     "output_type": "stream",
     "text": [
      "Filename: /Users/brettlv/Downloads/Fermi AGN optical monitoring program at Steward Observatory/V.fits\n",
      "No.    Name      Ver    Type      Cards   Dimensions   Format\n",
      "  0  PRIMARY       1 PrimaryHDU      86   (61,)   float32   \n"
     ]
    }
   ],
   "source": [
    "Fermi_monitor_AGN_V.info()"
   ]
  },
  {
   "cell_type": "code",
   "execution_count": 10,
   "metadata": {
    "ExecuteTime": {
     "end_time": "2022-07-10T09:18:56.265318Z",
     "start_time": "2022-07-10T09:18:56.258014Z"
    }
   },
   "outputs": [
    {
     "data": {
      "text/plain": [
       "SIMPLE  =                    T  /  FITS STANDARD                                \n",
       "BITPIX  =                  -32  /  FITS BITS/PIXEL                              \n",
       "NAXIS   =                    1  /  NUMBER OF AXES                               \n",
       "NAXIS1  =                   61  /                                               \n",
       "OBJECT  = 'AR UMA  '            /                                               \n",
       "ORIGIN  = 'KPNO-IRAF'           /                                               \n",
       "DATE    = '2013-09-09T09:48:51'                                                 \n",
       "IRAFNAME= '2hv     '            /  NAME OF IRAF IMAGE FILE                      \n",
       "IRAF-MAX=           5.812800E4  /  DATA MAX                                     \n",
       "IRAF-MIN=           4.275000E3  /  DATA MIN                                     \n",
       "IRAF-BPX=                   32  /  DATA BITS/PIXEL                              \n",
       "IRAFTYPE= 'REAL    '            /  PIXEL TYPE                                   \n",
       "DATE-OBS= '03/04/97' /                                                          \n",
       "UT      = ' 3:01:21.00'         /                                               \n",
       "INSTRUME= 'UA/STSCI SPECTROPOLARIMETER' /                                       \n",
       "CRPIX1  =                   1. /                                                \n",
       "CDELT1  =                   4. /                                                \n",
       "CCDPICNO=                    1 /                                                \n",
       "APERTURE=                    3 /                                                \n",
       "SHUTTER =                   -1 /                                                \n",
       "DEWTEMP =                 -125 /                                                \n",
       "SLOSHED =                    0 /                                                \n",
       "AIRMASS =                1.240 /                                                \n",
       "MESSAGE =  '                                ' /                                 \n",
       "EXPTIME =                 600. /                                                \n",
       "WAVE1   =                    4 /                                                \n",
       "TIME1   = '03:01:21' /                                                          \n",
       "EXPTIME1=                  150 /                                                \n",
       "WAVE2   =                   12 /                                                \n",
       "TIME2   = '03:03:58' /                                                          \n",
       "EXPTIME2=                  150 /                                                \n",
       "WAVE3   =                    0 /                                                \n",
       "TIME3   = '03:06:50'                                                            \n",
       "EXPTIME3=                  150 /                                                \n",
       "WAVE4   =                    8 /                                                \n",
       "TIME4   = '03:09:26'                                                            \n",
       "EXPTIME4=                  150 /                                                \n",
       "WAVE5   =                    0 /                                                \n",
       "TIME5   = '00:00:00' /                                                          \n",
       "EXPTIME5=                    0 /                                                \n",
       "WAVE6   =                    0 /                                                \n",
       "TIME6   = '00:00:00' /                                                          \n",
       "EXPTIME6=                    0 /                                                \n",
       "WAVE7   =                    0 /                                                \n",
       "TIME7   = '00:00:00' /                                                          \n",
       "EXPTIME7=                    0 /                                                \n",
       "WAVE8   =                    0 /                                                \n",
       "TIME8   = '00:00:00' /                                                          \n",
       "EXPTIME8=                    0 /                                                \n",
       "WCSDIM  =                    1                                                  \n",
       "CTYPE1  = 'LINEAR  '                                                            \n",
       "CD1_1   =                 100.                                                  \n",
       "LTM1_1  =                   1.                                                  \n",
       "WAT0_001= 'system=equispec'                                                     \n",
       "DCLOG1  = 'Transform'                                                           \n",
       "DC-FLAG =                    0                                                  \n",
       "CRVAL1  =                3000.                                                  \n",
       "WAT1_001= 'wtype=linear label=Wavelength units=Angstroms'                       \n",
       "APNUM1  = '1 1 35.16 46.16'                                                     \n",
       "BANDID1 = 'spectrum: background fit, weights variance, clean no'                \n",
       "CA-FLAG =                   -1                                                  \n",
       "DISPAXIS=                    1                                                  \n",
       "PC-FLAG =                   -1                                                  \n",
       "ABRATIO =             1.216677                                                  \n",
       "HISTORY New copy of b001.imh[2:1196,*]                                          \n",
       "HISTORY New copy of b001                                                        \n",
       "HISTORY New copy of tmp$mask615lc                                               \n",
       "HISTORY New copy of tmp$mask615lc                                               \n",
       "HISTORY New copy of tmp$cmask615mc                                              \n",
       "HISTORY New copy of clb001                                                      \n",
       "HISTORY New copy of clb001                                                      \n",
       "HISTORY New copy of tclb001                                                     \n",
       "HISTORY New copy of tclb001                                                     \n",
       "HISTORY New copy of aruma_1.va.0001                                             \n",
       "HISTORY New copy of aruma_1.va.0001                                             \n",
       "HISTORY New copy of aruma_1.v.0001                                              \n",
       "HISTORY New copy of aruma_1.v.0001                                              \n",
       "HISTORY New copy of aruma_1.v                                                   \n",
       "HISTORY New copy of home$spol/apr97/3apr97/aruma_1.v                            \n",
       "HISTORY New copy of aruma_1.v                                                   \n",
       "HISTORY New copy of one[1:61]                                                   \n",
       "HISTORY New copy of one61                                                       \n",
       "HISTORY New copy of home$temp/2hv.imh                                           \n",
       "HISTORY New copy of /home/schmidt/polar/2holer/2hv                              \n",
       "HISTORY New copy of /home/schmidt/polar/2holer/2hv                              \n",
       "HISTORY New copy of 2hv.imh                                                     "
      ]
     },
     "execution_count": 10,
     "metadata": {},
     "output_type": "execute_result"
    }
   ],
   "source": [
    "Fermi_monitor_AGN_V[0].header"
   ]
  },
  {
   "cell_type": "code",
   "execution_count": null,
   "metadata": {},
   "outputs": [],
   "source": []
  },
  {
   "cell_type": "code",
   "execution_count": 7,
   "metadata": {
    "ExecuteTime": {
     "end_time": "2022-07-10T09:18:21.082155Z",
     "start_time": "2022-07-10T09:18:21.063070Z"
    }
   },
   "outputs": [
    {
     "data": {
      "text/plain": [
       "array([0.  , 0.  , 0.  , 0.  , 0.  , 0.  , 0.  , 0.  , 0.  , 0.  , 0.  ,\n",
       "       0.  , 0.  , 0.  , 0.  , 0.  , 0.  , 0.  , 0.01, 0.06, 0.37, 0.64,\n",
       "       0.73, 0.76, 0.75, 0.74, 0.71, 0.66, 0.61, 0.54, 0.47, 0.39, 0.31,\n",
       "       0.24, 0.18, 0.12, 0.08, 0.05, 0.03, 0.02, 0.01, 0.01, 0.  , 0.  ,\n",
       "       0.  , 0.  , 0.  , 0.  , 0.  , 0.  , 0.  , 0.  , 0.  , 0.  , 0.  ,\n",
       "       0.  , 0.  , 0.  , 0.  , 0.  , 0.  ], dtype=float32)"
      ]
     },
     "execution_count": 7,
     "metadata": {},
     "output_type": "execute_result"
    }
   ],
   "source": [
    "Fermi_monitor_AGN_V[0].data"
   ]
  },
  {
   "cell_type": "code",
   "execution_count": 8,
   "metadata": {
    "ExecuteTime": {
     "end_time": "2022-07-10T09:18:33.739763Z",
     "start_time": "2022-07-10T09:18:33.735769Z"
    }
   },
   "outputs": [
    {
     "name": "stdout",
     "output_type": "stream",
     "text": [
      "Filename: /Users/brettlv/Downloads/Fermi AGN optical monitoring program at Steward Observatory/R.fits\n",
      "No.    Name      Ver    Type      Cards   Dimensions   Format\n",
      "  0  PRIMARY       1 PrimaryHDU      87   (61,)   float32   \n"
     ]
    }
   ],
   "source": [
    "Fermi_monitor_AGN_R.info()"
   ]
  },
  {
   "cell_type": "code",
   "execution_count": 9,
   "metadata": {
    "ExecuteTime": {
     "end_time": "2022-07-10T09:18:41.660014Z",
     "start_time": "2022-07-10T09:18:41.643890Z"
    }
   },
   "outputs": [
    {
     "data": {
      "text/plain": [
       "array([0.        , 0.        , 0.        , 0.        , 0.        ,\n",
       "       0.        , 0.        , 0.        , 0.        , 0.        ,\n",
       "       0.        , 0.        , 0.        , 0.        , 0.        ,\n",
       "       0.        , 0.        , 0.        , 0.        , 0.        ,\n",
       "       0.        , 0.        , 0.        , 0.        , 0.01408451,\n",
       "       0.12676059, 0.50704235, 0.8169015 , 0.9577467 , 0.98591566,\n",
       "       1.0000001 , 0.97183114, 0.9577467 , 0.92957765, 0.8873241 ,\n",
       "       0.8591551 , 0.8169015 , 0.7746481 , 0.73239446, 0.67605644,\n",
       "       0.6338029 , 0.5774649 , 0.50704235, 0.4507043 , 0.39436626,\n",
       "       0.33802822, 0.2957747 , 0.25352117, 0.21126765, 0.18309861,\n",
       "       0.15492961, 0.12676059, 0.09859157, 0.08450706, 0.05633804,\n",
       "       0.04225353, 0.04225353, 0.02816902, 0.02816902, 0.01408451,\n",
       "       0.01408451], dtype=float32)"
      ]
     },
     "execution_count": 9,
     "metadata": {},
     "output_type": "execute_result"
    }
   ],
   "source": [
    "Fermi_monitor_AGN_R[0].data"
   ]
  },
  {
   "cell_type": "code",
   "execution_count": 13,
   "metadata": {
    "ExecuteTime": {
     "end_time": "2022-07-10T09:19:46.419748Z",
     "start_time": "2022-07-10T09:19:46.415030Z"
    }
   },
   "outputs": [
    {
     "data": {
      "text/plain": [
       "61"
      ]
     },
     "execution_count": 13,
     "metadata": {},
     "output_type": "execute_result"
    }
   ],
   "source": [
    "Fermi_monitor_AGN_R[0].data.size"
   ]
  },
  {
   "cell_type": "code",
   "execution_count": 14,
   "metadata": {
    "ExecuteTime": {
     "end_time": "2022-07-10T09:19:55.416404Z",
     "start_time": "2022-07-10T09:19:55.411221Z"
    }
   },
   "outputs": [
    {
     "data": {
      "text/plain": [
       "61"
      ]
     },
     "execution_count": 14,
     "metadata": {},
     "output_type": "execute_result"
    }
   ],
   "source": [
    "Fermi_monitor_AGN_V[0].data.size"
   ]
  },
  {
   "cell_type": "markdown",
   "metadata": {},
   "source": [
    "# download"
   ]
  },
  {
   "cell_type": "code",
   "execution_count": 15,
   "metadata": {
    "ExecuteTime": {
     "end_time": "2022-07-10T09:22:46.696001Z",
     "start_time": "2022-07-10T09:22:46.690755Z"
    }
   },
   "outputs": [
    {
     "data": {
      "text/plain": [
       "'/Users/brettlv/blog/brettlv.github.io/pythoncode/changinglookAGN'"
      ]
     },
     "execution_count": 15,
     "metadata": {},
     "output_type": "execute_result"
    }
   ],
   "source": [
    "pwd"
   ]
  },
  {
   "cell_type": "markdown",
   "metadata": {},
   "source": [
    "## Rphot"
   ]
  },
  {
   "cell_type": "markdown",
   "metadata": {
    "ExecuteTime": {
     "end_time": "2022-07-10T09:23:09.560268Z",
     "start_time": "2022-07-10T09:23:05.562499Z"
    }
   },
   "source": [
    "import pandas as pd\n",
    "\n",
    "all_tables = pd.read_html(\n",
    "    \"http://james.as.arizona.edu/~psmith/Fermi/DATA/Objects/Rphot_Cycle10.html\")\n",
    "\n",
    "table"
   ]
  },
  {
   "cell_type": "markdown",
   "metadata": {
    "ExecuteTime": {
     "end_time": "2022-07-10T09:27:58.167689Z",
     "start_time": "2022-07-10T09:27:58.147299Z"
    }
   },
   "source": [
    "all_tables[0]"
   ]
  },
  {
   "cell_type": "markdown",
   "metadata": {
    "ExecuteTime": {
     "end_time": "2022-07-10T09:28:08.048422Z",
     "start_time": "2022-07-10T09:28:08.042277Z"
    }
   },
   "source": [
    "all_tables[0].iloc[0]"
   ]
  },
  {
   "cell_type": "markdown",
   "metadata": {
    "ExecuteTime": {
     "end_time": "2022-07-10T11:24:23.881792Z",
     "start_time": "2022-07-10T11:22:48.154077Z"
    }
   },
   "source": [
    "for cycle in np.arange(10):\n",
    "    num=cycle+1\n",
    "    all_tables = pd.read_html(\n",
    "    \"http://james.as.arizona.edu/~psmith/Fermi/DATA/Objects/Rphot_Cycle%d.html\"%(num))\n",
    "    \n",
    "    table=all_tables[0]\n",
    "    table.columns=table.iloc[0]\n",
    "\n",
    "    if not os.path.exists('Rphot_Cycle%d.xlsx'%num):\n",
    "        with pd.ExcelWriter('Rphot_Cycle%d.xlsx'%num) as writer:\n",
    "            table[2:].to_excel(writer,index=False,)\n",
    "            time.sleep(2+np.random.randint(5,10))"
   ]
  },
  {
   "cell_type": "code",
   "execution_count": null,
   "metadata": {},
   "outputs": [],
   "source": []
  },
  {
   "cell_type": "code",
   "execution_count": 54,
   "metadata": {
    "ExecuteTime": {
     "end_time": "2022-07-10T09:32:09.240729Z",
     "start_time": "2022-07-10T09:32:08.931223Z"
    }
   },
   "outputs": [],
   "source": []
  },
  {
   "cell_type": "markdown",
   "metadata": {
    "ExecuteTime": {
     "end_time": "2022-07-10T09:32:12.023107Z",
     "start_time": "2022-07-10T09:32:11.850073Z"
    }
   },
   "source": [
    "Rphot_Cycle10=pd.read_excel('Rphot_Cycle10.xlsx')"
   ]
  },
  {
   "cell_type": "markdown",
   "metadata": {
    "ExecuteTime": {
     "end_time": "2022-07-10T09:32:12.173861Z",
     "start_time": "2022-07-10T09:32:12.147699Z"
    },
    "scrolled": true
   },
   "source": [
    "Rphot_Cycle10"
   ]
  },
  {
   "cell_type": "code",
   "execution_count": null,
   "metadata": {},
   "outputs": [],
   "source": []
  },
  {
   "cell_type": "code",
   "execution_count": null,
   "metadata": {},
   "outputs": [],
   "source": []
  },
  {
   "cell_type": "markdown",
   "metadata": {},
   "source": [
    "# Sources"
   ]
  },
  {
   "cell_type": "markdown",
   "metadata": {},
   "source": [
    "## root_data_dir"
   ]
  },
  {
   "cell_type": "code",
   "execution_count": 10,
   "metadata": {
    "ExecuteTime": {
     "end_time": "2022-07-11T07:39:55.356551Z",
     "start_time": "2022-07-11T07:39:55.353856Z"
    }
   },
   "outputs": [],
   "source": [
    "root_data_dir='/Users/brettlv/Downloads/Fermi AGN optical monitoring program at Steward Observatory/Sources'"
   ]
  },
  {
   "cell_type": "code",
   "execution_count": 3,
   "metadata": {
    "ExecuteTime": {
     "end_time": "2022-07-11T07:38:50.079914Z",
     "start_time": "2022-07-11T07:38:50.076397Z"
    }
   },
   "outputs": [],
   "source": [
    "sources_individual_url='http://james.as.arizona.edu/~psmith/Fermi/DATA/individual.html'"
   ]
  },
  {
   "cell_type": "code",
   "execution_count": 11,
   "metadata": {
    "ExecuteTime": {
     "end_time": "2022-07-11T07:40:17.312738Z",
     "start_time": "2022-07-11T07:40:17.308830Z"
    }
   },
   "outputs": [],
   "source": [
    "root_url='http://james.as.arizona.edu/~psmith/Fermi/DATA/'\n",
    "root_obj_url='http://james.as.arizona.edu/~psmith/Fermi/DATA/Objects/'#pmn_j0017.html"
   ]
  },
  {
   "cell_type": "code",
   "execution_count": 4,
   "metadata": {
    "ExecuteTime": {
     "end_time": "2022-07-11T07:38:56.067994Z",
     "start_time": "2022-07-11T07:38:55.047501Z"
    }
   },
   "outputs": [
    {
     "name": "stdout",
     "output_type": "stream",
     "text": [
      "pmn_j0017\n",
      "pks0106\n",
      "mg1_j021114\n",
      "3c66a\n",
      "4c28.07\n",
      "ao0235\n",
      "1h0323\n",
      "cta26\n",
      "pks0402\n",
      "pks0420\n",
      "pks0454\n",
      "pks0458\n",
      "pks0502\n",
      "mg1_j050533\n",
      "txs0506\n",
      "pks0507\n",
      "ver_j0521\n",
      "pks0528\n",
      "txs0536\n",
      "txs0552\n",
      "b2_0619\n",
      "b3_0650\n",
      "s5_0716\n",
      "4c14.23\n",
      "pks0735\n",
      "pks0736\n",
      "bzu_j0742\n",
      "sdss_j0844\n",
      "pks0805\n",
      "oj248\n",
      "oj287\n",
      "pks0906\n",
      "pmn_j0948\n",
      "s4_0954\n",
      "s4_1030\n",
      "s5_1044\n",
      "mrk421\n",
      "pks1118\n",
      "pks1124\n",
      "pks1127\n",
      "ton599\n",
      "on325\n",
      "wcom\n",
      "h1219\n",
      "pks1222\n",
      "3c273\n",
      "s3_1227\n",
      "mg1_j123931\n",
      "pks1244\n",
      "3c279\n",
      "b3_1343\n",
      "pks1406\n",
      "h1426\n",
      "pks1441\n",
      "pks1502\n",
      "pks1510\n",
      "b2_1520\n",
      "pg1553\n",
      "b2_1633\n",
      "3c345\n",
      "mrk501\n",
      "gb6_b1700\n",
      "nrao530\n",
      "pks1749\n",
      "s5_1803\n",
      "s4_1800\n",
      "b2_1846\n",
      "1es1959\n",
      "pks2023\n",
      "pks2032\n",
      "pks2155\n",
      "txs2159\n",
      "bllac\n",
      "cta102\n",
      "pks2233\n",
      "b3_2247\n",
      "pmn_j2250\n",
      "3c454.3\n",
      "pmn_j2345\n",
      "1es2344\n"
     ]
    }
   ],
   "source": [
    "import requests\n",
    "r=requests.get(sources_individual_url)\n",
    "demo=r.text\n",
    "\n",
    "\n",
    "from bs4 import BeautifulSoup\n",
    "\n",
    "sources_individual=[]\n",
    "soup=BeautifulSoup(demo,\"html.parser\")\n",
    "for link in soup.find_all('a'):\n",
    "    if link.get('href'):\n",
    "        if link.get('href').startswith('Objects'):\n",
    "            name_i=link.get('href')[8:-5]\n",
    "            if name_i not in sources_individual:\n",
    "                sources_individual.append(name_i)\n",
    "                print(name_i)"
   ]
  },
  {
   "cell_type": "code",
   "execution_count": 5,
   "metadata": {
    "ExecuteTime": {
     "end_time": "2022-07-11T07:39:00.538116Z",
     "start_time": "2022-07-11T07:39:00.530629Z"
    }
   },
   "outputs": [
    {
     "data": {
      "text/plain": [
       "80"
      ]
     },
     "execution_count": 5,
     "metadata": {},
     "output_type": "execute_result"
    }
   ],
   "source": [
    "len(sources_individual)"
   ]
  },
  {
   "cell_type": "code",
   "execution_count": 6,
   "metadata": {
    "ExecuteTime": {
     "end_time": "2022-07-11T07:39:02.143104Z",
     "start_time": "2022-07-11T07:39:02.138001Z"
    }
   },
   "outputs": [
    {
     "data": {
      "text/plain": [
       "'http://james.as.arizona.edu/~psmith/Fermi/DATA/individual.html'"
      ]
     },
     "execution_count": 6,
     "metadata": {},
     "output_type": "execute_result"
    }
   ],
   "source": [
    "sources_individual_url"
   ]
  },
  {
   "cell_type": "markdown",
   "metadata": {
    "ExecuteTime": {
     "end_time": "2022-07-10T14:00:25.739898Z",
     "start_time": "2022-07-10T14:00:25.193767Z"
    }
   },
   "source": [
    "r=requests.get(sources_individual_url)\n",
    "demo=r.text\n",
    "\n",
    "sources_individual_Name=[]\n",
    "soup=BeautifulSoup(demo,\"html.parser\")\n",
    "for link in soup.find_all('a'):\n",
    "    if link.get('href'):\n",
    "        if link.get('href').startswith('Objects'):\n",
    "            name_i=link.get('href')[8:-5]\n",
    "            print(name_i)"
   ]
  },
  {
   "cell_type": "code",
   "execution_count": 7,
   "metadata": {
    "ExecuteTime": {
     "end_time": "2022-07-11T07:39:18.670737Z",
     "start_time": "2022-07-11T07:39:12.527843Z"
    }
   },
   "outputs": [
    {
     "name": "stdout",
     "output_type": "stream",
     "text": [
      "PMN J0017-0512\n",
      "PKS 0106+013\n",
      "MG1 J021114+1051\n",
      "3C 66A\n",
      "4C 28.07\n",
      "AO 0235+164\n",
      "1H 0323+342\n",
      "CTA 26\n",
      "PKS 0402-362\n",
      "PKS 0420-014\n",
      "PKS 0454-234\n",
      "PKS 0458-02\n",
      "PKS 0502+049\n",
      "MG1 J050533+0415\n",
      "TXS 0506+056\n",
      "PKS 0507+179\n",
      "VER J0521+211\n",
      "PKS 0528+134\n",
      "TXS 0536+145\n",
      "TXS 0552+398\n",
      "B2 0619+33\n",
      "B3 0650+453\n",
      "S5 0716+714\n",
      "4C 14.23\n",
      "PKS 0735+178\n",
      "PKS 0736+01\n",
      "BZU J0742+5444\n",
      "SDSS J084411+5312\n",
      "PKS 0805-077\n",
      "OJ 248\n",
      "OJ 287\n",
      "PKS 0906+015\n",
      "PMN J0948+0022\n",
      "S4 0954+658\n",
      "S4 1030+61\n",
      "S5 1044+71\n",
      "Mrk 421\n",
      "PKS 1118-056\n",
      "PKS 1124-186\n",
      "PKS 1127-145\n",
      "Ton 599\n",
      "ON 325\n",
      "W Com\n",
      "H1219+305\n",
      "PKS 1222+216\n",
      "3C 273\n",
      "S3 1227+25\n",
      "MG1 J123931+0443\n",
      "PKS 1244-255\n",
      "3C 279\n",
      "B3 1343+451\n",
      "PKS 1406-076\n",
      "H1426+428\n",
      "PKS 1441+252\n",
      "PKS 1502+106\n",
      "PKS 1510-08\n",
      "B2 1520+31\n",
      "PG 1553+113\n",
      "B2 1633+382\n",
      "3C 345\n",
      "Mrk 501\n",
      "GB6 B1700+6834\n",
      "NRAO 530\n",
      "PKS 1749+096\n",
      "S5 1803+78\n",
      "S4 1800+44\n",
      "B2 1846+32A\n",
      "1ES 1959+650\n",
      "PKS 2023-07\n",
      "PKS 2032+107\n",
      "PKS 2155-304\n",
      "TXS 2159+505\n",
      "BL Lac\n",
      "CTA 102\n",
      "PKS 2233-148\n",
      "B3 2247+381\n",
      "PMN J2250-2806\n",
      "3C 454.3\n",
      "PMN J2345-1555\n",
      "1ES 2344+514\n"
     ]
    }
   ],
   "source": [
    "import requests\n",
    "from bs4 import BeautifulSoup\n",
    "\n",
    "r=requests.get(sources_individual_url)\n",
    "demo=r.text\n",
    "\n",
    "\n",
    "sources_individual_Name=[]\n",
    "soup=BeautifulSoup(demo,\"html.parser\")\n",
    "for link in soup.find_all('a'):\n",
    "    if link.get('href'):\n",
    "        if link.get('href').startswith('Objects'):\n",
    "            #name_i=link.get('href')[8:-5]\n",
    "            Name_i=link.get_text()\n",
    "            if Name_i not in sources_individual:\n",
    "                sources_individual_Name.append(Name_i)\n",
    "                print(Name_i)"
   ]
  },
  {
   "cell_type": "code",
   "execution_count": null,
   "metadata": {},
   "outputs": [],
   "source": []
  },
  {
   "cell_type": "code",
   "execution_count": 8,
   "metadata": {
    "ExecuteTime": {
     "end_time": "2022-07-11T07:39:18.701697Z",
     "start_time": "2022-07-11T07:39:18.673368Z"
    }
   },
   "outputs": [
    {
     "name": "stdout",
     "output_type": "stream",
     "text": [
      "pmn_j0017 PMN J0017-0512\n",
      "pks0106 PKS 0106+013\n",
      "mg1_j021114 MG1 J021114+1051\n",
      "3c66a 3C 66A\n",
      "4c28.07 4C 28.07\n",
      "ao0235 AO 0235+164\n",
      "1h0323 1H 0323+342\n",
      "cta26 CTA 26\n",
      "pks0402 PKS 0402-362\n",
      "pks0420 PKS 0420-014\n",
      "pks0454 PKS 0454-234\n",
      "pks0458 PKS 0458-02\n",
      "pks0502 PKS 0502+049\n",
      "mg1_j050533 MG1 J050533+0415\n",
      "txs0506 TXS 0506+056\n",
      "pks0507 PKS 0507+179\n",
      "ver_j0521 VER J0521+211\n",
      "pks0528 PKS 0528+134\n",
      "txs0536 TXS 0536+145\n",
      "txs0552 TXS 0552+398\n",
      "b2_0619 B2 0619+33\n",
      "b3_0650 B3 0650+453\n",
      "s5_0716 S5 0716+714\n",
      "4c14.23 4C 14.23\n",
      "pks0735 PKS 0735+178\n",
      "pks0736 PKS 0736+01\n",
      "bzu_j0742 BZU J0742+5444\n",
      "sdss_j0844 SDSS J084411+5312\n",
      "pks0805 PKS 0805-077\n",
      "oj248 OJ 248\n",
      "oj287 OJ 287\n",
      "pks0906 PKS 0906+015\n",
      "pmn_j0948 PMN J0948+0022\n",
      "s4_0954 S4 0954+658\n",
      "s4_1030 S4 1030+61\n",
      "s5_1044 S5 1044+71\n",
      "mrk421 Mrk 421\n",
      "pks1118 PKS 1118-056\n",
      "pks1124 PKS 1124-186\n",
      "pks1127 PKS 1127-145\n",
      "ton599 Ton 599\n",
      "on325 ON 325\n",
      "wcom W Com\n",
      "h1219 H1219+305\n",
      "pks1222 PKS 1222+216\n",
      "3c273 3C 273\n",
      "s3_1227 S3 1227+25\n",
      "mg1_j123931 MG1 J123931+0443\n",
      "pks1244 PKS 1244-255\n",
      "3c279 3C 279\n",
      "b3_1343 B3 1343+451\n",
      "pks1406 PKS 1406-076\n",
      "h1426 H1426+428\n",
      "pks1441 PKS 1441+252\n",
      "pks1502 PKS 1502+106\n",
      "pks1510 PKS 1510-08\n",
      "b2_1520 B2 1520+31\n",
      "pg1553 PG 1553+113\n",
      "b2_1633 B2 1633+382\n",
      "3c345 3C 345\n",
      "mrk501 Mrk 501\n",
      "gb6_b1700 GB6 B1700+6834\n",
      "nrao530 NRAO 530\n",
      "pks1749 PKS 1749+096\n",
      "s5_1803 S5 1803+78\n",
      "s4_1800 S4 1800+44\n",
      "b2_1846 B2 1846+32A\n",
      "1es1959 1ES 1959+650\n",
      "pks2023 PKS 2023-07\n",
      "pks2032 PKS 2032+107\n",
      "pks2155 PKS 2155-304\n",
      "txs2159 TXS 2159+505\n",
      "bllac BL Lac\n",
      "cta102 CTA 102\n",
      "pks2233 PKS 2233-148\n",
      "b3_2247 B3 2247+381\n",
      "pmn_j2250 PMN J2250-2806\n",
      "3c454.3 3C 454.3\n",
      "pmn_j2345 PMN J2345-1555\n",
      "1es2344 1ES 2344+514\n"
     ]
    }
   ],
   "source": [
    "for url_name_,Name_ in zip(sources_individual,sources_individual_Name):\n",
    "    print(url_name_,Name_)"
   ]
  },
  {
   "cell_type": "code",
   "execution_count": 9,
   "metadata": {
    "ExecuteTime": {
     "end_time": "2022-07-11T07:39:18.712120Z",
     "start_time": "2022-07-11T07:39:18.705203Z"
    }
   },
   "outputs": [
    {
     "data": {
      "text/plain": [
       "80"
      ]
     },
     "execution_count": 9,
     "metadata": {},
     "output_type": "execute_result"
    }
   ],
   "source": [
    "len(sources_individual_Name)"
   ]
  },
  {
   "cell_type": "code",
   "execution_count": null,
   "metadata": {},
   "outputs": [],
   "source": []
  },
  {
   "cell_type": "markdown",
   "metadata": {},
   "source": []
  },
  {
   "cell_type": "code",
   "execution_count": 99,
   "metadata": {
    "ExecuteTime": {
     "end_time": "2022-07-10T12:22:29.080346Z",
     "start_time": "2022-07-10T12:22:29.075396Z"
    }
   },
   "outputs": [],
   "source": []
  },
  {
   "cell_type": "code",
   "execution_count": 13,
   "metadata": {
    "ExecuteTime": {
     "end_time": "2022-07-11T07:40:39.295085Z",
     "start_time": "2022-07-11T07:40:39.290456Z"
    }
   },
   "outputs": [],
   "source": [
    "for i in sources_individual:\n",
    "    source_dir='%s/%s'%(root_data_dir,i)\n",
    "    if not os.path.exists(source_dir):\n",
    "        os.mkdir(source_dir)"
   ]
  },
  {
   "cell_type": "code",
   "execution_count": 12,
   "metadata": {
    "ExecuteTime": {
     "end_time": "2022-07-11T07:40:33.262055Z",
     "start_time": "2022-07-11T07:40:32.565408Z"
    }
   },
   "outputs": [
    {
     "name": "stdout",
     "output_type": "stream",
     "text": [
      "3c273_pol.html\n",
      "3c273_pol_2.html\n",
      "3c273_pol_3.html\n",
      "3c273_pol_4.html\n",
      "3c273_pol_5.html\n",
      "3c273_pol_6.html\n",
      "3c273_pol_7.html\n",
      "3c273_pol_8.html\n",
      "3c273_pol_9.html\n",
      "3c273_pol_10.html\n"
     ]
    }
   ],
   "source": [
    "url_source='http://james.as.arizona.edu/~psmith/Fermi/DATA/Objects/3c273.html'\n",
    "r=requests.get(url_source)\n",
    "demo_source=r.text\n",
    "i='3c273'\n",
    "soup=BeautifulSoup(demo_source,\"html.parser\")\n",
    "for link in soup.find_all('a'):\n",
    "    if link.get('href'):\n",
    "        #print(link.get('href'))\n",
    "        if link.get('href').startswith(i+'_pol'):\n",
    "            name_i=link.get('href')\n",
    "            print(name_i)"
   ]
  },
  {
   "cell_type": "code",
   "execution_count": null,
   "metadata": {},
   "outputs": [],
   "source": []
  },
  {
   "cell_type": "code",
   "execution_count": null,
   "metadata": {},
   "outputs": [],
   "source": []
  },
  {
   "cell_type": "code",
   "execution_count": null,
   "metadata": {},
   "outputs": [],
   "source": []
  },
  {
   "cell_type": "code",
   "execution_count": null,
   "metadata": {},
   "outputs": [],
   "source": []
  },
  {
   "cell_type": "markdown",
   "metadata": {},
   "source": [
    "## Available Polarimetry"
   ]
  },
  {
   "cell_type": "code",
   "execution_count": 25,
   "metadata": {
    "ExecuteTime": {
     "end_time": "2022-07-11T12:45:15.997458Z",
     "start_time": "2022-07-11T12:41:36.872487Z"
    }
   },
   "outputs": [
    {
     "name": "stdout",
     "output_type": "stream",
     "text": [
      "http://james.as.arizona.edu/~psmith/Fermi/DATA/Objects/pmn_j0017.html\n",
      "http://james.as.arizona.edu/~psmith/Fermi/DATA/Objects/pks0106.html\n",
      "http://james.as.arizona.edu/~psmith/Fermi/DATA/Objects/mg1_j021114.html\n",
      "http://james.as.arizona.edu/~psmith/Fermi/DATA/Objects/3c66a.html\n",
      "http://james.as.arizona.edu/~psmith/Fermi/DATA/Objects/4c28.07.html\n",
      "http://james.as.arizona.edu/~psmith/Fermi/DATA/Objects/ao0235.html\n",
      "http://james.as.arizona.edu/~psmith/Fermi/DATA/Objects/1h0323.html\n",
      "http://james.as.arizona.edu/~psmith/Fermi/DATA/Objects/cta26.html\n",
      "http://james.as.arizona.edu/~psmith/Fermi/DATA/Objects/pks0402.html\n",
      "http://james.as.arizona.edu/~psmith/Fermi/DATA/Objects/pks0420.html\n",
      "http://james.as.arizona.edu/~psmith/Fermi/DATA/Objects/pks0454.html\n",
      "http://james.as.arizona.edu/~psmith/Fermi/DATA/Objects/pks0458.html\n",
      "http://james.as.arizona.edu/~psmith/Fermi/DATA/Objects/pks0502.html\n",
      "http://james.as.arizona.edu/~psmith/Fermi/DATA/Objects/mg1_j050533.html\n",
      "http://james.as.arizona.edu/~psmith/Fermi/DATA/Objects/txs0506.html\n",
      "http://james.as.arizona.edu/~psmith/Fermi/DATA/Objects/pks0507.html\n",
      "http://james.as.arizona.edu/~psmith/Fermi/DATA/Objects/ver_j0521.html\n",
      "http://james.as.arizona.edu/~psmith/Fermi/DATA/Objects/pks0528.html\n",
      "http://james.as.arizona.edu/~psmith/Fermi/DATA/Objects/txs0536.html\n",
      "http://james.as.arizona.edu/~psmith/Fermi/DATA/Objects/txs0552.html\n",
      "http://james.as.arizona.edu/~psmith/Fermi/DATA/Objects/b2_0619.html\n",
      "http://james.as.arizona.edu/~psmith/Fermi/DATA/Objects/b3_0650.html\n",
      "http://james.as.arizona.edu/~psmith/Fermi/DATA/Objects/s5_0716.html\n",
      "http://james.as.arizona.edu/~psmith/Fermi/DATA/Objects/4c14.23.html\n",
      "http://james.as.arizona.edu/~psmith/Fermi/DATA/Objects/pks0735.html\n",
      "http://james.as.arizona.edu/~psmith/Fermi/DATA/Objects/pks0736.html\n",
      "http://james.as.arizona.edu/~psmith/Fermi/DATA/Objects/bzu_j0742.html\n",
      "http://james.as.arizona.edu/~psmith/Fermi/DATA/Objects/sdss_j0844.html\n",
      "http://james.as.arizona.edu/~psmith/Fermi/DATA/Objects/pks0805.html\n",
      "http://james.as.arizona.edu/~psmith/Fermi/DATA/Objects/oj248.html\n",
      "http://james.as.arizona.edu/~psmith/Fermi/DATA/Objects/oj287.html\n",
      "http://james.as.arizona.edu/~psmith/Fermi/DATA/Objects/pks0906.html\n",
      "http://james.as.arizona.edu/~psmith/Fermi/DATA/Objects/pmn_j0948.html\n",
      "http://james.as.arizona.edu/~psmith/Fermi/DATA/Objects/s4_0954.html\n",
      "http://james.as.arizona.edu/~psmith/Fermi/DATA/Objects/s4_1030.html\n",
      "http://james.as.arizona.edu/~psmith/Fermi/DATA/Objects/s5_1044.html\n",
      "http://james.as.arizona.edu/~psmith/Fermi/DATA/Objects/mrk421.html\n",
      "http://james.as.arizona.edu/~psmith/Fermi/DATA/Objects/pks1118.html\n",
      "http://james.as.arizona.edu/~psmith/Fermi/DATA/Objects/pks1124.html\n",
      "http://james.as.arizona.edu/~psmith/Fermi/DATA/Objects/pks1127.html\n",
      "http://james.as.arizona.edu/~psmith/Fermi/DATA/Objects/ton599.html\n",
      "http://james.as.arizona.edu/~psmith/Fermi/DATA/Objects/on325.html\n",
      "http://james.as.arizona.edu/~psmith/Fermi/DATA/Objects/wcom.html\n",
      "http://james.as.arizona.edu/~psmith/Fermi/DATA/Objects/h1219.html\n",
      "http://james.as.arizona.edu/~psmith/Fermi/DATA/Objects/pks1222.html\n",
      "http://james.as.arizona.edu/~psmith/Fermi/DATA/Objects/3c273.html\n",
      "http://james.as.arizona.edu/~psmith/Fermi/DATA/Objects/s3_1227.html\n",
      "http://james.as.arizona.edu/~psmith/Fermi/DATA/Objects/mg1_j123931.html\n",
      "http://james.as.arizona.edu/~psmith/Fermi/DATA/Objects/pks1244.html\n",
      "http://james.as.arizona.edu/~psmith/Fermi/DATA/Objects/3c279.html\n",
      "http://james.as.arizona.edu/~psmith/Fermi/DATA/Objects/b3_1343.html\n",
      "http://james.as.arizona.edu/~psmith/Fermi/DATA/Objects/pks1406.html\n",
      "http://james.as.arizona.edu/~psmith/Fermi/DATA/Objects/h1426.html\n",
      "http://james.as.arizona.edu/~psmith/Fermi/DATA/Objects/pks1441.html\n",
      "http://james.as.arizona.edu/~psmith/Fermi/DATA/Objects/pks1502.html\n",
      "http://james.as.arizona.edu/~psmith/Fermi/DATA/Objects/pks1510.html\n",
      "http://james.as.arizona.edu/~psmith/Fermi/DATA/Objects/b2_1520.html\n",
      "http://james.as.arizona.edu/~psmith/Fermi/DATA/Objects/pg1553.html\n",
      "http://james.as.arizona.edu/~psmith/Fermi/DATA/Objects/b2_1633.html\n",
      "http://james.as.arizona.edu/~psmith/Fermi/DATA/Objects/3c345.html\n",
      "http://james.as.arizona.edu/~psmith/Fermi/DATA/Objects/mrk501.html\n",
      "http://james.as.arizona.edu/~psmith/Fermi/DATA/Objects/gb6_b1700.html\n",
      "http://james.as.arizona.edu/~psmith/Fermi/DATA/Objects/nrao530.html\n",
      "http://james.as.arizona.edu/~psmith/Fermi/DATA/Objects/pks1749.html\n",
      "http://james.as.arizona.edu/~psmith/Fermi/DATA/Objects/s5_1803.html\n",
      "http://james.as.arizona.edu/~psmith/Fermi/DATA/Objects/s4_1800.html\n",
      "http://james.as.arizona.edu/~psmith/Fermi/DATA/Objects/b2_1846.html\n",
      "http://james.as.arizona.edu/~psmith/Fermi/DATA/Objects/1es1959.html\n",
      "http://james.as.arizona.edu/~psmith/Fermi/DATA/Objects/pks2023.html\n",
      "http://james.as.arizona.edu/~psmith/Fermi/DATA/Objects/pks2032.html\n",
      "http://james.as.arizona.edu/~psmith/Fermi/DATA/Objects/pks2155.html\n",
      "http://james.as.arizona.edu/~psmith/Fermi/DATA/Objects/txs2159.html\n",
      "http://james.as.arizona.edu/~psmith/Fermi/DATA/Objects/bllac.html\n",
      "http://james.as.arizona.edu/~psmith/Fermi/DATA/Objects/cta102.html\n",
      "http://james.as.arizona.edu/~psmith/Fermi/DATA/Objects/pks2233.html\n",
      "http://james.as.arizona.edu/~psmith/Fermi/DATA/Objects/b3_2247.html\n",
      "http://james.as.arizona.edu/~psmith/Fermi/DATA/Objects/pmn_j2250.html\n",
      "http://james.as.arizona.edu/~psmith/Fermi/DATA/Objects/3c454.3.html\n",
      "http://james.as.arizona.edu/~psmith/Fermi/DATA/Objects/pmn_j2345.html\n",
      "http://james.as.arizona.edu/~psmith/Fermi/DATA/Objects/1es2344.html\n"
     ]
    }
   ],
   "source": [
    "for i in sources_individual:\n",
    "    url_source=root_obj_url+i+'.html'\n",
    "    print(url_source)\n",
    "    \n",
    "    r=requests.get(url_source)\n",
    "    demo_source=r.text\n",
    "\n",
    "    soup=BeautifulSoup(demo_source,\"html.parser\")\n",
    "    for link in soup.find_all('a'):\n",
    "        if link.get('href'):\n",
    "            #print(link.get('href'))\n",
    "            if link.get('href').startswith(i+'_pol'):\n",
    "                name_i=link.get('href')\n",
    "                #print(name_i)  \n",
    "                \n",
    "                name_save_i=name_i[:-5]\n",
    "                save_name_path_i='%s/%s/%s.xlsx'%(root_data_dir,i,name_save_i)\n",
    "                \n",
    "               \n",
    "                if not os.path.exists(save_name_path_i):\n",
    "                    try:                       \n",
    "                        all_tables = pd.read_html(root_obj_url+name_i)\n",
    "                        table=all_tables[0]\n",
    "                        table.columns=table.iloc[0]\n",
    "                    \n",
    "                        print(root_obj_url+name_i)\n",
    "                        print(save_name_path_i)\n",
    "                        \n",
    "                        with pd.ExcelWriter(save_name_path_i) as writer:\n",
    "                            table[2:].to_excel(writer,index=False,)\n",
    "                            time.sleep(5+np.random.randint(5,10))\n",
    "                            \n",
    "                    except Exception:\n",
    "                        print(i,'************')                       "
   ]
  },
  {
   "cell_type": "code",
   "execution_count": null,
   "metadata": {},
   "outputs": [],
   "source": []
  },
  {
   "cell_type": "markdown",
   "metadata": {},
   "source": [
    "## Available Photometry"
   ]
  },
  {
   "cell_type": "code",
   "execution_count": 33,
   "metadata": {
    "ExecuteTime": {
     "end_time": "2022-07-12T06:12:02.374374Z",
     "start_time": "2022-07-12T06:06:09.772376Z"
    }
   },
   "outputs": [
    {
     "name": "stdout",
     "output_type": "stream",
     "text": [
      "http://james.as.arizona.edu/~psmith/Fermi/DATA/Objects/pmn_j0017.html\n",
      "http://james.as.arizona.edu/~psmith/Fermi/DATA/Objects/pks0106.html\n",
      "http://james.as.arizona.edu/~psmith/Fermi/DATA/Objects/mg1_j021114.html\n",
      "http://james.as.arizona.edu/~psmith/Fermi/DATA/Objects/3c66a.html\n",
      "http://james.as.arizona.edu/~psmith/Fermi/DATA/Objects/4c28.07.html\n",
      "http://james.as.arizona.edu/~psmith/Fermi/DATA/Objects/ao0235.html\n",
      "http://james.as.arizona.edu/~psmith/Fermi/DATA/Objects/1h0323.html\n",
      "http://james.as.arizona.edu/~psmith/Fermi/DATA/Objects/cta26.html\n",
      "http://james.as.arizona.edu/~psmith/Fermi/DATA/Objects/pks0402.html\n",
      "http://james.as.arizona.edu/~psmith/Fermi/DATA/Objects/pks0420.html\n",
      "http://james.as.arizona.edu/~psmith/Fermi/DATA/Objects/pks0454.html\n",
      "http://james.as.arizona.edu/~psmith/Fermi/DATA/Objects/pks0458.html\n",
      "http://james.as.arizona.edu/~psmith/Fermi/DATA/Objects/pks0502.html\n",
      "http://james.as.arizona.edu/~psmith/Fermi/DATA/Objects/mg1_j050533.html\n",
      "http://james.as.arizona.edu/~psmith/Fermi/DATA/Objects/txs0506.html\n",
      "http://james.as.arizona.edu/~psmith/Fermi/DATA/Objects/pks0507.html\n",
      "http://james.as.arizona.edu/~psmith/Fermi/DATA/Objects/ver_j0521.html\n",
      "http://james.as.arizona.edu/~psmith/Fermi/DATA/Objects/pks0528.html\n",
      "http://james.as.arizona.edu/~psmith/Fermi/DATA/Objects/txs0536.html\n",
      "http://james.as.arizona.edu/~psmith/Fermi/DATA/Objects/txs0552.html\n",
      "http://james.as.arizona.edu/~psmith/Fermi/DATA/Objects/b2_0619.html\n",
      "http://james.as.arizona.edu/~psmith/Fermi/DATA/Objects/b3_0650.html\n",
      "http://james.as.arizona.edu/~psmith/Fermi/DATA/Objects/s5_0716.html\n",
      "http://james.as.arizona.edu/~psmith/Fermi/DATA/Objects/4c14.23.html\n",
      "http://james.as.arizona.edu/~psmith/Fermi/DATA/Objects/pks0735.html\n",
      "http://james.as.arizona.edu/~psmith/Fermi/DATA/Objects/pks0736.html\n",
      "http://james.as.arizona.edu/~psmith/Fermi/DATA/Objects/bzu_j0742.html\n",
      "http://james.as.arizona.edu/~psmith/Fermi/DATA/Objects/sdss_j0844.html\n",
      "http://james.as.arizona.edu/~psmith/Fermi/DATA/Objects/pks0805.html\n",
      "http://james.as.arizona.edu/~psmith/Fermi/DATA/Objects/oj248.html\n",
      "http://james.as.arizona.edu/~psmith/Fermi/DATA/Objects/oj287.html\n",
      "http://james.as.arizona.edu/~psmith/Fermi/DATA/Objects/pks0906.html\n",
      "http://james.as.arizona.edu/~psmith/Fermi/DATA/Objects/pmn_j0948.html\n",
      "http://james.as.arizona.edu/~psmith/Fermi/DATA/Objects/s4_0954.html\n",
      "http://james.as.arizona.edu/~psmith/Fermi/DATA/Objects/s4_1030.html\n",
      "http://james.as.arizona.edu/~psmith/Fermi/DATA/Objects/s5_1044.html\n",
      "http://james.as.arizona.edu/~psmith/Fermi/DATA/Objects/mrk421.html\n",
      "http://james.as.arizona.edu/~psmith/Fermi/DATA/Objects/pks1118.html\n",
      "http://james.as.arizona.edu/~psmith/Fermi/DATA/Objects/pks1124.html\n",
      "http://james.as.arizona.edu/~psmith/Fermi/DATA/Objects/pks1127.html\n",
      "http://james.as.arizona.edu/~psmith/Fermi/DATA/Objects/ton599.html\n",
      "http://james.as.arizona.edu/~psmith/Fermi/DATA/Objects/on325.html\n",
      "http://james.as.arizona.edu/~psmith/Fermi/DATA/Objects/wcom.html\n",
      "http://james.as.arizona.edu/~psmith/Fermi/DATA/Objects/h1219.html\n",
      "http://james.as.arizona.edu/~psmith/Fermi/DATA/Objects/pks1222.html\n",
      "http://james.as.arizona.edu/~psmith/Fermi/DATA/Objects/3c273.html\n",
      "http://james.as.arizona.edu/~psmith/Fermi/DATA/Objects/s3_1227.html\n",
      "http://james.as.arizona.edu/~psmith/Fermi/DATA/Objects/mg1_j123931.html\n",
      "http://james.as.arizona.edu/~psmith/Fermi/DATA/Objects/pks1244.html\n",
      "http://james.as.arizona.edu/~psmith/Fermi/DATA/Objects/3c279.html\n",
      "http://james.as.arizona.edu/~psmith/Fermi/DATA/Objects/b3_1343.html\n",
      "http://james.as.arizona.edu/~psmith/Fermi/DATA/Objects/pks1406.html\n",
      "http://james.as.arizona.edu/~psmith/Fermi/DATA/Objects/h1426.html\n",
      "http://james.as.arizona.edu/~psmith/Fermi/DATA/Objects/pks1441.html\n",
      "http://james.as.arizona.edu/~psmith/Fermi/DATA/Objects/pks1502.html\n",
      "http://james.as.arizona.edu/~psmith/Fermi/DATA/Objects/pks1510.html\n",
      "http://james.as.arizona.edu/~psmith/Fermi/DATA/Objects/b2_1520.html\n",
      "http://james.as.arizona.edu/~psmith/Fermi/DATA/Objects/pg1553.html\n",
      "http://james.as.arizona.edu/~psmith/Fermi/DATA/Objects/b2_1633.html\n",
      "http://james.as.arizona.edu/~psmith/Fermi/DATA/Objects/3c345.html\n",
      "http://james.as.arizona.edu/~psmith/Fermi/DATA/Objects/mrk501.html\n",
      "http://james.as.arizona.edu/~psmith/Fermi/DATA/Objects/gb6_b1700.html\n",
      "http://james.as.arizona.edu/~psmith/Fermi/DATA/Objects/nrao530.html\n",
      "http://james.as.arizona.edu/~psmith/Fermi/DATA/Objects/pks1749.html\n",
      "http://james.as.arizona.edu/~psmith/Fermi/DATA/Objects/s5_1803.html\n",
      "http://james.as.arizona.edu/~psmith/Fermi/DATA/Objects/s4_1800.html\n",
      "http://james.as.arizona.edu/~psmith/Fermi/DATA/Objects/b2_1846.html\n",
      "http://james.as.arizona.edu/~psmith/Fermi/DATA/Objects/1es1959.html\n",
      "http://james.as.arizona.edu/~psmith/Fermi/DATA/Objects/pks2023.html\n",
      "http://james.as.arizona.edu/~psmith/Fermi/DATA/Objects/pks2032.html\n",
      "http://james.as.arizona.edu/~psmith/Fermi/DATA/Objects/pks2155.html\n",
      "http://james.as.arizona.edu/~psmith/Fermi/DATA/Objects/txs2159.html\n",
      "http://james.as.arizona.edu/~psmith/Fermi/DATA/Objects/bllac.html\n",
      "http://james.as.arizona.edu/~psmith/Fermi/DATA/Objects/cta102.html\n",
      "http://james.as.arizona.edu/~psmith/Fermi/DATA/Objects/pks2233.html\n",
      "http://james.as.arizona.edu/~psmith/Fermi/DATA/Objects/b3_2247.html\n",
      "http://james.as.arizona.edu/~psmith/Fermi/DATA/Objects/pmn_j2250.html\n",
      "http://james.as.arizona.edu/~psmith/Fermi/DATA/Objects/3c454.3.html\n",
      "http://james.as.arizona.edu/~psmith/Fermi/DATA/Objects/pmn_j2345.html\n",
      "http://james.as.arizona.edu/~psmith/Fermi/DATA/Objects/1es2344.html\n"
     ]
    }
   ],
   "source": [
    "#if link.get('href').startswith(i+'_phot'):\n",
    "for i in sources_individual:\n",
    "    url_source=root_obj_url+i+'.html'\n",
    "    print(url_source)\n",
    "    \n",
    "    r=requests.get(url_source)\n",
    "    demo_source=r.text\n",
    "    time.sleep(1+np.random.randint(1,3))\n",
    "    \n",
    "    soup=BeautifulSoup(demo_source,\"html.parser\")\n",
    "    for link in soup.find_all('a'):\n",
    "        if link.get('href'):\n",
    "            #print(link.get('href'))\n",
    "            if link.get('href').startswith(i+'_phot'):\n",
    "                name_i=link.get('href')\n",
    "                #print(name_i)  \n",
    "                \n",
    "                name_save_i=name_i[:-5]\n",
    "                save_name_path_i='%s/%s/%s.xlsx'%(root_data_dir,i,name_save_i)\n",
    "                \n",
    "               \n",
    "                if not os.path.exists(save_name_path_i):\n",
    "                    try:                       \n",
    "                        all_tables = pd.read_html(root_obj_url+name_i)\n",
    "                        table=all_tables[0]\n",
    "                        table.columns=table.iloc[0]\n",
    "                    \n",
    "                        print(root_obj_url+name_i)\n",
    "                        print(save_name_path_i)\n",
    "                        \n",
    "                        with pd.ExcelWriter(save_name_path_i) as writer:\n",
    "                            table[2:].to_excel(writer,index=False,)\n",
    "                            time.sleep(10+np.random.randint(5,10))\n",
    "                            \n",
    "                    except Exception:\n",
    "                        print(i,'************')                                             "
   ]
  },
  {
   "cell_type": "markdown",
   "metadata": {},
   "source": [
    "## spec"
   ]
  },
  {
   "cell_type": "code",
   "execution_count": 30,
   "metadata": {
    "ExecuteTime": {
     "end_time": "2022-07-11T13:02:01.353144Z",
     "start_time": "2022-07-11T13:02:00.824023Z"
    }
   },
   "outputs": [
    {
     "name": "stdout",
     "output_type": "stream",
     "text": [
      "http://james.as.arizona.edu/~psmith/Fermi/DATA/Objects/3c273.html\n",
      "http://james.as.arizona.edu/~psmith/Fermi/DATA/Objects/3c273.tar.gz\n",
      "/Users/brettlv/Downloads/Fermi AGN optical monitoring program at Steward Observatory/Sources/3c273/3c273.tar.gz\n",
      "wget -c -O /Users/brettlv/Downloads/Fermi AGN optical monitoring program at Steward Observatory/Sources/3c273/3c273.tar.gz http://james.as.arizona.edu/~psmith/Fermi/DATA/Objects/3c273.tar.gz\n",
      "http://james.as.arizona.edu/~psmith/Fermi/DATA/Objects/3c273_2.tar.gz\n",
      "/Users/brettlv/Downloads/Fermi AGN optical monitoring program at Steward Observatory/Sources/3c273/3c273_2.tar.gz\n",
      "wget -c -O /Users/brettlv/Downloads/Fermi AGN optical monitoring program at Steward Observatory/Sources/3c273/3c273_2.tar.gz http://james.as.arizona.edu/~psmith/Fermi/DATA/Objects/3c273_2.tar.gz\n",
      "http://james.as.arizona.edu/~psmith/Fermi/DATA/Objects/3c273_3.tar.gz\n",
      "/Users/brettlv/Downloads/Fermi AGN optical monitoring program at Steward Observatory/Sources/3c273/3c273_3.tar.gz\n",
      "wget -c -O /Users/brettlv/Downloads/Fermi AGN optical monitoring program at Steward Observatory/Sources/3c273/3c273_3.tar.gz http://james.as.arizona.edu/~psmith/Fermi/DATA/Objects/3c273_3.tar.gz\n",
      "http://james.as.arizona.edu/~psmith/Fermi/DATA/Objects/3c273_4.tar.gz\n",
      "/Users/brettlv/Downloads/Fermi AGN optical monitoring program at Steward Observatory/Sources/3c273/3c273_4.tar.gz\n",
      "wget -c -O /Users/brettlv/Downloads/Fermi AGN optical monitoring program at Steward Observatory/Sources/3c273/3c273_4.tar.gz http://james.as.arizona.edu/~psmith/Fermi/DATA/Objects/3c273_4.tar.gz\n",
      "http://james.as.arizona.edu/~psmith/Fermi/DATA/Objects/3c273_5.tar.gz\n",
      "/Users/brettlv/Downloads/Fermi AGN optical monitoring program at Steward Observatory/Sources/3c273/3c273_5.tar.gz\n",
      "wget -c -O /Users/brettlv/Downloads/Fermi AGN optical monitoring program at Steward Observatory/Sources/3c273/3c273_5.tar.gz http://james.as.arizona.edu/~psmith/Fermi/DATA/Objects/3c273_5.tar.gz\n",
      "http://james.as.arizona.edu/~psmith/Fermi/DATA/Objects/3c273_6.tar.gz\n",
      "/Users/brettlv/Downloads/Fermi AGN optical monitoring program at Steward Observatory/Sources/3c273/3c273_6.tar.gz\n",
      "wget -c -O /Users/brettlv/Downloads/Fermi AGN optical monitoring program at Steward Observatory/Sources/3c273/3c273_6.tar.gz http://james.as.arizona.edu/~psmith/Fermi/DATA/Objects/3c273_6.tar.gz\n",
      "http://james.as.arizona.edu/~psmith/Fermi/DATA/Objects/3c273_7.tar.gz\n",
      "/Users/brettlv/Downloads/Fermi AGN optical monitoring program at Steward Observatory/Sources/3c273/3c273_7.tar.gz\n",
      "wget -c -O /Users/brettlv/Downloads/Fermi AGN optical monitoring program at Steward Observatory/Sources/3c273/3c273_7.tar.gz http://james.as.arizona.edu/~psmith/Fermi/DATA/Objects/3c273_7.tar.gz\n",
      "http://james.as.arizona.edu/~psmith/Fermi/DATA/Objects/3c273_8.tar.gz\n",
      "/Users/brettlv/Downloads/Fermi AGN optical monitoring program at Steward Observatory/Sources/3c273/3c273_8.tar.gz\n",
      "wget -c -O /Users/brettlv/Downloads/Fermi AGN optical monitoring program at Steward Observatory/Sources/3c273/3c273_8.tar.gz http://james.as.arizona.edu/~psmith/Fermi/DATA/Objects/3c273_8.tar.gz\n",
      "http://james.as.arizona.edu/~psmith/Fermi/DATA/Objects/3c273_9.tar.gz\n",
      "/Users/brettlv/Downloads/Fermi AGN optical monitoring program at Steward Observatory/Sources/3c273/3c273_9.tar.gz\n",
      "wget -c -O /Users/brettlv/Downloads/Fermi AGN optical monitoring program at Steward Observatory/Sources/3c273/3c273_9.tar.gz http://james.as.arizona.edu/~psmith/Fermi/DATA/Objects/3c273_9.tar.gz\n",
      "http://james.as.arizona.edu/~psmith/Fermi/DATA/Objects/3c273_10.tar.gz\n",
      "/Users/brettlv/Downloads/Fermi AGN optical monitoring program at Steward Observatory/Sources/3c273/3c273_10.tar.gz\n",
      "wget -c -O /Users/brettlv/Downloads/Fermi AGN optical monitoring program at Steward Observatory/Sources/3c273/3c273_10.tar.gz http://james.as.arizona.edu/~psmith/Fermi/DATA/Objects/3c273_10.tar.gz\n"
     ]
    }
   ],
   "source": [
    "i='3c273'\n",
    "url_source=root_obj_url+i+'.html'\n",
    "print(url_source)\n",
    "\n",
    "r=requests.get(url_source)\n",
    "demo_source=r.text\n",
    "\n",
    "soup=BeautifulSoup(demo_source,\"html.parser\")\n",
    "for link in soup.find_all('a'):\n",
    "    if link.get('href'):\n",
    "        #print(link.get('href'))\n",
    "        if link.get('href').startswith(i) and link.get('href').endswith('.tar.gz'):\n",
    "            name_i=link.get('href')   \n",
    "            spec_url=root_obj_url+name_i\n",
    "            save_name_path_i=os.path.join(root_data_dir,i,name_i)\n",
    "            print(spec_url)\n",
    "            print(save_name_path_i)\n",
    "            cmd='wget -c -O %s %s'%(save_name_path_i,spec_url)\n",
    "            print(cmd)"
   ]
  },
  {
   "cell_type": "code",
   "execution_count": 28,
   "metadata": {
    "ExecuteTime": {
     "end_time": "2022-07-11T12:57:59.197162Z",
     "start_time": "2022-07-11T12:57:59.186957Z"
    }
   },
   "outputs": [
    {
     "data": {
      "text/plain": [
       "'/Users/brettlv/Downloads/Fermi AGN optical monitoring program at Steward Observatory/Sources'"
      ]
     },
     "execution_count": 28,
     "metadata": {},
     "output_type": "execute_result"
    }
   ],
   "source": [
    "root_data_dir"
   ]
  },
  {
   "cell_type": "markdown",
   "metadata": {},
   "source": [
    "### tar_spec"
   ]
  },
  {
   "cell_type": "markdown",
   "metadata": {},
   "source": [
    "# individual "
   ]
  },
  {
   "cell_type": "markdown",
   "metadata": {},
   "source": [
    "## pks1510"
   ]
  },
  {
   "cell_type": "code",
   "execution_count": 34,
   "metadata": {
    "ExecuteTime": {
     "end_time": "2022-07-12T07:41:05.130637Z",
     "start_time": "2022-07-12T07:41:05.040654Z"
    }
   },
   "outputs": [],
   "source": [
    "source_name='pks1510'"
   ]
  },
  {
   "cell_type": "code",
   "execution_count": null,
   "metadata": {},
   "outputs": [],
   "source": [
    "datatypes=['phot','pol']"
   ]
  },
  {
   "cell_type": "code",
   "execution_count": null,
   "metadata": {},
   "outputs": [],
   "source": [
    "def read_data_fermi_monitor(source_name,datatype,data_dir): \n",
    "    data_file_dir=os.path.join(data_dir,source_name)\n",
    "    files=os.listdir(data_file_dir)\n",
    "    for file in files:\n",
    "        if file.startswith(source_name+'_'+datatype):\n",
    "            \n",
    "        "
   ]
  },
  {
   "cell_type": "code",
   "execution_count": null,
   "metadata": {},
   "outputs": [],
   "source": []
  },
  {
   "cell_type": "code",
   "execution_count": null,
   "metadata": {},
   "outputs": [],
   "source": []
  },
  {
   "cell_type": "code",
   "execution_count": null,
   "metadata": {},
   "outputs": [],
   "source": []
  },
  {
   "cell_type": "markdown",
   "metadata": {},
   "source": [
    "# Table of Comparison Stars"
   ]
  },
  {
   "cell_type": "code",
   "execution_count": 63,
   "metadata": {
    "ExecuteTime": {
     "end_time": "2022-07-10T11:33:09.593773Z",
     "start_time": "2022-07-10T11:32:58.637409Z"
    }
   },
   "outputs": [],
   "source": [
    "all_tables = pd.read_html(\n",
    "    \"http://james.as.arizona.edu/~psmith/Fermi/DATA/comp_table.html\"\n",
    ")\n",
    "\n",
    "table=all_tables[0]\n",
    "table.columns=table.iloc[0]\n",
    "save_name='Comparison_Stars_table'\n",
    "\n",
    "if not os.path.exists('%s.xlsx'%save_name):\n",
    "    with pd.ExcelWriter('%s.xlsx'%save_name) as writer:\n",
    "        table[2:].to_excel(writer,index=False,)\n",
    "        time.sleep(2+np.random.randint(5,10))"
   ]
  },
  {
   "cell_type": "code",
   "execution_count": 64,
   "metadata": {
    "ExecuteTime": {
     "end_time": "2022-07-10T11:34:46.834459Z",
     "start_time": "2022-07-10T11:34:46.810058Z"
    }
   },
   "outputs": [],
   "source": [
    "Comparison_Stars_table=pd.read_excel('Comparison_Stars_table.xlsx')"
   ]
  },
  {
   "cell_type": "code",
   "execution_count": 65,
   "metadata": {
    "ExecuteTime": {
     "end_time": "2022-07-10T11:34:49.944096Z",
     "start_time": "2022-07-10T11:34:49.917979Z"
    }
   },
   "outputs": [
    {
     "data": {
      "text/html": [
       "<div>\n",
       "<style scoped>\n",
       "    .dataframe tbody tr th:only-of-type {\n",
       "        vertical-align: middle;\n",
       "    }\n",
       "\n",
       "    .dataframe tbody tr th {\n",
       "        vertical-align: top;\n",
       "    }\n",
       "\n",
       "    .dataframe thead th {\n",
       "        text-align: right;\n",
       "    }\n",
       "</style>\n",
       "<table border=\"1\" class=\"dataframe\">\n",
       "  <thead>\n",
       "    <tr style=\"text-align: right;\">\n",
       "      <th></th>\n",
       "      <th>Object</th>\n",
       "      <th>Comp Star</th>\n",
       "      <th>V</th>\n",
       "      <th>σ(V)</th>\n",
       "      <th>R</th>\n",
       "      <th>σ(R)</th>\n",
       "      <th>Reference</th>\n",
       "    </tr>\n",
       "  </thead>\n",
       "  <tbody>\n",
       "    <tr>\n",
       "      <th>0</th>\n",
       "      <td>3C 66A</td>\n",
       "      <td>A</td>\n",
       "      <td>13.65</td>\n",
       "      <td>0.02</td>\n",
       "      <td>13.36</td>\n",
       "      <td>0.01</td>\n",
       "      <td>Smith &amp; Balonek (1998)</td>\n",
       "    </tr>\n",
       "    <tr>\n",
       "      <th>1</th>\n",
       "      <td>NaN</td>\n",
       "      <td>NaN</td>\n",
       "      <td>NaN</td>\n",
       "      <td>NaN</td>\n",
       "      <td>NaN</td>\n",
       "      <td>NaN</td>\n",
       "      <td>NaN</td>\n",
       "    </tr>\n",
       "    <tr>\n",
       "      <th>2</th>\n",
       "      <td>AO 0235+164</td>\n",
       "      <td>4</td>\n",
       "      <td>13.04</td>\n",
       "      <td>0.01</td>\n",
       "      <td>12.68</td>\n",
       "      <td>0.03</td>\n",
       "      <td>Gonzalez-Perez, et al. (2001)</td>\n",
       "    </tr>\n",
       "    <tr>\n",
       "      <th>3</th>\n",
       "      <td>NaN</td>\n",
       "      <td>8</td>\n",
       "      <td>15.03</td>\n",
       "      <td>0.01</td>\n",
       "      <td>14.20</td>\n",
       "      <td>0.01</td>\n",
       "      <td>Gonzalez-Perez, et al. (2001)</td>\n",
       "    </tr>\n",
       "    <tr>\n",
       "      <th>4</th>\n",
       "      <td>NaN</td>\n",
       "      <td>2</td>\n",
       "      <td>12.72</td>\n",
       "      <td>0.01</td>\n",
       "      <td>12.14</td>\n",
       "      <td>0.01</td>\n",
       "      <td>Gonzalez-Perez, et al. (2001)</td>\n",
       "    </tr>\n",
       "    <tr>\n",
       "      <th>...</th>\n",
       "      <td>...</td>\n",
       "      <td>...</td>\n",
       "      <td>...</td>\n",
       "      <td>...</td>\n",
       "      <td>...</td>\n",
       "      <td>...</td>\n",
       "      <td>...</td>\n",
       "    </tr>\n",
       "    <tr>\n",
       "      <th>78</th>\n",
       "      <td>3C 454.3</td>\n",
       "      <td>3</td>\n",
       "      <td>14.40</td>\n",
       "      <td>0.01</td>\n",
       "      <td>13.95</td>\n",
       "      <td>0.01</td>\n",
       "      <td>Gonzalez-Perez, et al. (2001)</td>\n",
       "    </tr>\n",
       "    <tr>\n",
       "      <th>79</th>\n",
       "      <td>NaN</td>\n",
       "      <td>4</td>\n",
       "      <td>13.83</td>\n",
       "      <td>0.03</td>\n",
       "      <td>13.23</td>\n",
       "      <td>0.02</td>\n",
       "      <td>Smith &amp; Balonek (1998)</td>\n",
       "    </tr>\n",
       "    <tr>\n",
       "      <th>80</th>\n",
       "      <td>NaN</td>\n",
       "      <td>8</td>\n",
       "      <td>13.62</td>\n",
       "      <td>0.03</td>\n",
       "      <td>13.10</td>\n",
       "      <td>0.03</td>\n",
       "      <td>Smith &amp; Balonek (1998)</td>\n",
       "    </tr>\n",
       "    <tr>\n",
       "      <th>81</th>\n",
       "      <td>NaN</td>\n",
       "      <td>NaN</td>\n",
       "      <td>NaN</td>\n",
       "      <td>NaN</td>\n",
       "      <td>NaN</td>\n",
       "      <td>NaN</td>\n",
       "      <td>NaN</td>\n",
       "    </tr>\n",
       "    <tr>\n",
       "      <th>82</th>\n",
       "      <td>1ES 2344+514</td>\n",
       "      <td>A</td>\n",
       "      <td>12.61</td>\n",
       "      <td>0.04</td>\n",
       "      <td>12.25</td>\n",
       "      <td>0.04</td>\n",
       "      <td>Fiorucci et al. (1998)</td>\n",
       "    </tr>\n",
       "  </tbody>\n",
       "</table>\n",
       "<p>83 rows × 7 columns</p>\n",
       "</div>"
      ],
      "text/plain": [
       "          Object Comp Star      V  σ(V)      R  σ(R)  \\\n",
       "0         3C 66A         A  13.65  0.02  13.36  0.01   \n",
       "1            NaN       NaN    NaN   NaN    NaN   NaN   \n",
       "2    AO 0235+164         4  13.04  0.01  12.68  0.03   \n",
       "3            NaN         8  15.03  0.01  14.20  0.01   \n",
       "4            NaN         2  12.72  0.01  12.14  0.01   \n",
       "..           ...       ...    ...   ...    ...   ...   \n",
       "78      3C 454.3         3  14.40  0.01  13.95  0.01   \n",
       "79           NaN         4  13.83  0.03  13.23  0.02   \n",
       "80           NaN         8  13.62  0.03  13.10  0.03   \n",
       "81           NaN       NaN    NaN   NaN    NaN   NaN   \n",
       "82  1ES 2344+514         A  12.61  0.04  12.25  0.04   \n",
       "\n",
       "                        Reference  \n",
       "0          Smith & Balonek (1998)  \n",
       "1                             NaN  \n",
       "2   Gonzalez-Perez, et al. (2001)  \n",
       "3   Gonzalez-Perez, et al. (2001)  \n",
       "4   Gonzalez-Perez, et al. (2001)  \n",
       "..                            ...  \n",
       "78  Gonzalez-Perez, et al. (2001)  \n",
       "79         Smith & Balonek (1998)  \n",
       "80         Smith & Balonek (1998)  \n",
       "81                            NaN  \n",
       "82         Fiorucci et al. (1998)  \n",
       "\n",
       "[83 rows x 7 columns]"
      ]
     },
     "execution_count": 65,
     "metadata": {},
     "output_type": "execute_result"
    }
   ],
   "source": [
    "Comparison_Stars_table"
   ]
  },
  {
   "cell_type": "code",
   "execution_count": 80,
   "metadata": {
    "ExecuteTime": {
     "end_time": "2022-07-10T11:41:08.900604Z",
     "start_time": "2022-07-10T11:41:08.897103Z"
    }
   },
   "outputs": [],
   "source": [
    "Sources_Comparison_Stars=[]\n",
    "for i in Comparison_Stars_table['Object']:\n",
    "    if i not in Sources_Comparison_Stars and isinstance(i,(str)):\n",
    "        Sources_Comparison_Stars.append(i)"
   ]
  },
  {
   "cell_type": "code",
   "execution_count": 81,
   "metadata": {
    "ExecuteTime": {
     "end_time": "2022-07-10T11:41:10.456060Z",
     "start_time": "2022-07-10T11:41:10.451093Z"
    },
    "scrolled": true
   },
   "outputs": [
    {
     "data": {
      "text/plain": [
       "['3C 66A',\n",
       " 'AO 0235+164',\n",
       " 'CTA 26',\n",
       " 'PKS 0528+134',\n",
       " 'S5 0716+714',\n",
       " 'PKS 0735+178',\n",
       " 'PKS 0736+01',\n",
       " 'OJ 248',\n",
       " 'OJ 287',\n",
       " 'Mrk 421',\n",
       " 'Ton 599',\n",
       " 'ON 325',\n",
       " 'H 1219+305',\n",
       " 'W Com',\n",
       " 'PKS 1222+216',\n",
       " '3C 273',\n",
       " '3C 279',\n",
       " 'H 1426+428',\n",
       " 'PKS 1510-08',\n",
       " '3C 345',\n",
       " 'B2 1633+382',\n",
       " 'Mrk 501',\n",
       " '1ES 1959+650',\n",
       " 'PKS 2155-304',\n",
       " 'BL Lac',\n",
       " 'CTA 102',\n",
       " '3C 454.3',\n",
       " '1ES 2344+514']"
      ]
     },
     "execution_count": 81,
     "metadata": {},
     "output_type": "execute_result"
    }
   ],
   "source": [
    "Sources_Comparison_Stars"
   ]
  },
  {
   "cell_type": "code",
   "execution_count": 82,
   "metadata": {
    "ExecuteTime": {
     "end_time": "2022-07-10T11:45:18.282211Z",
     "start_time": "2022-07-10T11:45:18.268750Z"
    }
   },
   "outputs": [
    {
     "data": {
      "text/plain": [
       "28"
      ]
     },
     "execution_count": 82,
     "metadata": {},
     "output_type": "execute_result"
    }
   ],
   "source": [
    "len(Sources_Comparison_Stars)"
   ]
  },
  {
   "cell_type": "markdown",
   "metadata": {},
   "source": [
    "# Photometric filter transmission curves"
   ]
  },
  {
   "cell_type": "code",
   "execution_count": 57,
   "metadata": {
    "ExecuteTime": {
     "end_time": "2022-07-10T11:12:57.329617Z",
     "start_time": "2022-07-10T11:12:21.457693Z"
    }
   },
   "outputs": [
    {
     "name": "stdout",
     "output_type": "stream",
     "text": [
      " -------------- Configure PyA's data path ------------------------\n",
      "  Why do you get this message?\n",
      "    Most probably PyA tries to save permanent data on your\n",
      "    system for the first time. This may be the case when, e.g.,\n",
      "    a table is downloaded and saved. These data are stored\n",
      "    under PyA's 'data path', i.e., a regular directory on\n",
      "    your disk, which PyA can access.\n",
      "  Is anything else saved to the disk?\n",
      "    The location of the data path\n",
      "    directory will be written to the file '.pyaConfigWhere' in\n",
      "    your home directory, so that you need not provide it\n",
      "    again.\n",
      "  Can I delete it?\n",
      "    Yes, you are free to delete anything of this at any time.\n",
      "  What is a valid data path?\n",
      "    You may provide any existing or non-existing path, although\n",
      "    it is strongly encouraged to use a fresh directory to avoid any\n",
      "    confusion. The given path needs to be absolute, to uniquely\n",
      "    identify it.\n",
      " -----------------------------------------------------------------\n",
      "\n",
      "Configure PyA's data path now (y/n)? y\n",
      "\n",
      "  Configure data path now.\n",
      "\n",
      "Please provide a directory where PyA can store data (may already exist):\n",
      "Press enter to accept default; use 'exit' to abort.\n",
      "  Path (default = /Users/brettlv/PyAData): \n",
      "PyA data path configured successfully. Using path: \n",
      "  /Users/brettlv/PyAData\n",
      "PyA download info:\n",
      "  - Downloading from URL: http://irsa.ipac.caltech.edu/data/SPITZER/docs/irac/calibrationfiles/spectralresponse/080924ch1trans_full.txt\n",
      "  - Downloaded 7.551 kb\n",
      "    to file: /Users/brettlv/PyAData/pyasl/resBased/080924ch1trans_full.txt\n",
      "PyA download info:\n",
      "  - Downloading from URL: http://irsa.ipac.caltech.edu/data/SPITZER/docs/irac/calibrationfiles/spectralresponse/080924ch2trans_full.txt\n",
      "  - Downloaded 7.741 kb\n",
      "    to file: /Users/brettlv/PyAData/pyasl/resBased/080924ch2trans_full.txt\n",
      "PyA download info:\n",
      "  - Downloading from URL: http://irsa.ipac.caltech.edu/data/SPITZER/docs/irac/calibrationfiles/spectralresponse/080924ch3trans_full.txt\n",
      "  - Downloaded 6.031 kb\n",
      "    to file: /Users/brettlv/PyAData/pyasl/resBased/080924ch3trans_full.txt\n",
      "PyA download info:\n",
      "  - Downloading from URL: http://irsa.ipac.caltech.edu/data/SPITZER/docs/irac/calibrationfiles/spectralresponse/080924ch4trans_full.txt\n",
      "  - Downloaded 6.797 kb\n",
      "    to file: /Users/brettlv/PyAData/pyasl/resBased/080924ch4trans_full.txt\n",
      "PyA download info:\n",
      "  - Downloading from URL: http://irsa.ipac.caltech.edu/data/SPITZER/docs/irac/calibrationfiles/spectralresponse/080924ch1trans_sub.txt\n",
      "  - Downloaded 7.554 kb\n",
      "    to file: /Users/brettlv/PyAData/pyasl/resBased/080924ch1trans_sub.txt\n",
      "PyA download info:\n",
      "  - Downloading from URL: http://irsa.ipac.caltech.edu/data/SPITZER/docs/irac/calibrationfiles/spectralresponse/080924ch2trans_sub.txt\n",
      "  - Downloaded 7.744 kb\n",
      "    to file: /Users/brettlv/PyAData/pyasl/resBased/080924ch2trans_sub.txt\n",
      "PyA download info:\n",
      "  - Downloading from URL: http://irsa.ipac.caltech.edu/data/SPITZER/docs/irac/calibrationfiles/spectralresponse/080924ch3trans_sub.txt\n",
      "  - Downloaded 6.034 kb\n",
      "    to file: /Users/brettlv/PyAData/pyasl/resBased/080924ch3trans_sub.txt\n",
      "PyA download info:\n",
      "  - Downloading from URL: http://irsa.ipac.caltech.edu/data/SPITZER/docs/irac/calibrationfiles/spectralresponse/080924ch4trans_sub.txt\n",
      "  - Downloaded 6.8 kb\n",
      "    to file: /Users/brettlv/PyAData/pyasl/resBased/080924ch4trans_sub.txt\n",
      "Available bands:  ['Bessel b', 'Bessel i', 'Bessel r', 'Bessel u', 'Bessel v', 'IRAC3.6_full', 'IRAC3.6_sub', 'IRAC4.5_full', 'IRAC4.5_sub', 'IRAC5.8_full', 'IRAC5.8_sub', 'IRAC8.0_full', 'IRAC8.0_sub', 'Johnson B', 'Johnson U', 'Johnson V']\n"
     ]
    },
    {
     "data": {
      "image/png": "[encoded data removed]",
      "text/plain": [
       "<Figure size 432x288 with 1 Axes>"
      ]
     },
     "metadata": {
      "needs_background": "light"
     },
     "output_type": "display_data"
    },
    {
     "data": {
      "image/png": "[encoded data removed]",
      "text/plain": [
       "<Figure size 432x288 with 1 Axes>"
      ]
     },
     "metadata": {
      "needs_background": "light"
     },
     "output_type": "display_data"
    }
   ],
   "source": [
    "from __future__ import print_function\n",
    "from PyAstronomy import pyasl\n",
    "import numpy as np\n",
    "import matplotlib.pylab as plt\n",
    "# Import six for Python 2/3 compatibility\n",
    "import six\n",
    "\n",
    "# Get transmission curve object\n",
    "tcs = pyasl.TransmissionCurves()\n",
    "\n",
    "# Add passbands from Spitzer IRAC\n",
    "tcs.addSpitzerIRACPassbands()\n",
    "\n",
    "print(\"Available bands: \", tcs.availableBands())\n",
    "\n",
    "# Wavelength axis\n",
    "wvl = np.linspace(3000, 10000, 10000)\n",
    "\n",
    "# Plot transmission curves for Bessel b, v, and r bands\n",
    "for (b, c) in six.iteritems({\"b\": \"b\", \"v\": \"k\", \"r\": \"r\"}):\n",
    "    tc = tcs.getTransCurve(\"Bessel \" + b)\n",
    "    trans = tc(wvl)\n",
    "    plt.plot(wvl, trans, c+'-', label=\"Bessel \" + b)\n",
    "\n",
    "# Plot transmission curves for Johnson U, B, and V bands\n",
    "for (b, c) in six.iteritems({\"U\": \"m\", \"B\": \"b\", \"V\": \"k\"}):\n",
    "    tc = tcs.getTransCurve(\"Johnson \" + b)\n",
    "    trans = tc(wvl)\n",
    "    plt.plot(wvl, trans, c+'--', label=\"Johnson \" + b)\n",
    "\n",
    "plt.legend()\n",
    "plt.xlabel(\"Wavelength [$\\AA$]\")\n",
    "plt.ylabel(\"Transmission\")\n",
    "plt.show()\n",
    "\n",
    "\n",
    "# Create Planck spectrum ...\n",
    "wvl = np.arange(3000., 10000., 1.0)\n",
    "spec = pyasl.planck(T=5777., lam=wvl*1e-10)\n",
    "# ... and convolve with Johnson V band\n",
    "vbs = tcs.convolveWith(wvl, spec, \"Johnson V\")\n",
    "\n",
    "plt.plot(wvl, spec, 'b-', label='Input spectrum')\n",
    "plt.plot(wvl, vbs, 'r--', label='Convolution with Johnson V band')\n",
    "plt.legend()\n",
    "plt.show()"
   ]
  },
  {
   "cell_type": "code",
   "execution_count": null,
   "metadata": {},
   "outputs": [],
   "source": []
  }
 ],
 "metadata": {
  "kernelspec": {
   "display_name": "Python 3",
   "language": "python",
   "name": "python3"
  },
  "language_info": {
   "codemirror_mode": {
    "name": "ipython",
    "version": 3
   },
   "file_extension": ".py",
   "mimetype": "text/x-python",
   "name": "python",
   "nbconvert_exporter": "python",
   "pygments_lexer": "ipython3",
   "version": "3.8.5"
  },
  "latex_envs": {
   "LaTeX_envs_menu_present": true,
   "autocomplete": true,
   "bibliofile": "biblio.bib",
   "cite_by": "apalike",
   "current_citInitial": 1,
   "eqLabelWithNumbers": true,
   "eqNumInitial": 1,
   "hotkeys": {
    "equation": "Ctrl-E",
    "itemize": "Ctrl-I"
   },
   "labels_anchors": false,
   "latex_user_defs": false,
   "report_style_numbering": false,
   "user_envs_cfg": false
  },
  "toc": {
   "nav_menu": {},
   "number_sections": true,
   "sideBar": true,
   "skip_h1_title": false,
   "toc_cell": false,
   "toc_position": {
    "height": "752.848px",
    "left": "0px",
    "right": "1670.52px",
    "top": "160.137px",
    "width": "211.98px"
   },
   "toc_section_display": "block",
   "toc_window_display": true
  }
 },
 "nbformat": 4,
 "nbformat_minor": 2
}
