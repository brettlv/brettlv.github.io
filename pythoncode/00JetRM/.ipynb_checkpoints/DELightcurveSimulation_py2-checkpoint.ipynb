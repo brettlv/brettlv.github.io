{
 "cells": [
  {
   "cell_type": "markdown",
   "id": "379bbc42",
   "metadata": {
    "ExecuteTime": {
     "end_time": "2022-10-05T14:32:59.719976Z",
     "start_time": "2022-10-05T14:32:59.713093Z"
    }
   },
   "source": [
    "# [DELightcurveSimulation](https://github.com/samconnolly/DELightcurveSimulation)"
   ]
  },
  {
   "cell_type": "code",
   "execution_count": null,
   "id": "2ebbb474",
   "metadata": {
    "ExecuteTime": {
     "end_time": "2022-10-05T14:46:26.461218Z",
     "start_time": "2022-10-05T14:46:26.301160Z"
    }
   },
   "outputs": [],
   "source": [
    "!echo $PATH"
   ]
  },
  {
   "cell_type": "code",
   "execution_count": null,
   "id": "7cce3af7",
   "metadata": {
    "ExecuteTime": {
     "end_time": "2022-10-05T14:46:27.410612Z",
     "start_time": "2022-10-05T14:46:27.248114Z"
    }
   },
   "outputs": [],
   "source": [
    "!type python"
   ]
  },
  {
   "cell_type": "markdown",
   "id": "51d32b20",
   "metadata": {
    "ExecuteTime": {
     "end_time": "2022-10-05T14:45:42.332199Z",
     "start_time": "2022-10-05T14:45:42.317025Z"
    }
   },
   "source": [
    "/Users/lyubing/opt/anaconda2/bin/python"
   ]
  },
  {
   "cell_type": "code",
   "execution_count": null,
   "id": "77952d61",
   "metadata": {
    "ExecuteTime": {
     "end_time": "2022-10-05T14:46:32.164001Z",
     "start_time": "2022-10-05T14:46:31.993027Z"
    }
   },
   "outputs": [],
   "source": [
    "ls /Users/lyubing/opt/anaconda3/envs/py2/share/jupyter/kernels/python2"
   ]
  },
  {
   "cell_type": "code",
   "execution_count": null,
   "id": "62060f3c",
   "metadata": {
    "ExecuteTime": {
     "end_time": "2022-10-05T14:46:41.287546Z",
     "start_time": "2022-10-05T14:46:41.122616Z"
    }
   },
   "outputs": [],
   "source": [
    "cat /Users/lyubing/opt/anaconda3/envs/py2/share/jupyter/kernels/python2/kernel.json"
   ]
  },
  {
   "cell_type": "code",
   "execution_count": null,
   "id": "9d2ab4c8",
   "metadata": {
    "ExecuteTime": {
     "end_time": "2022-10-05T14:48:23.490147Z",
     "start_time": "2022-10-05T14:48:21.295170Z"
    }
   },
   "outputs": [],
   "source": [
    "!{sys.executable} -m pip install numpy"
   ]
  },
  {
   "cell_type": "code",
   "execution_count": null,
   "id": "0d72a200",
   "metadata": {
    "ExecuteTime": {
     "end_time": "2022-10-05T14:48:40.460259Z",
     "start_time": "2022-10-05T14:48:40.268513Z"
    }
   },
   "outputs": [],
   "source": [
    "ls /Users/lyubing/opt/anaconda2/lib/python2.7/site-packages"
   ]
  },
  {
   "cell_type": "code",
   "execution_count": null,
   "id": "d7ffc976",
   "metadata": {
    "ExecuteTime": {
     "end_time": "2022-10-05T14:47:38.207641Z",
     "start_time": "2022-10-05T14:47:38.199969Z"
    }
   },
   "outputs": [],
   "source": [
    "import sys\n",
    "print(sys.executable)"
   ]
  },
  {
   "cell_type": "code",
   "execution_count": 1,
   "id": "e2069485",
   "metadata": {
    "ExecuteTime": {
     "end_time": "2022-10-05T14:51:20.174540Z",
     "start_time": "2022-10-05T14:51:20.148276Z"
    }
   },
   "outputs": [
    {
     "data": {
      "text/plain": [
       "u'/Users/lyubing/blog/brettlv.github.io/pythoncode/00JetRM'"
      ]
     },
     "execution_count": 1,
     "metadata": {},
     "output_type": "execute_result"
    }
   ],
   "source": [
    "pwd"
   ]
  },
  {
   "cell_type": "code",
   "execution_count": null,
   "id": "7a552b21",
   "metadata": {
    "ExecuteTime": {
     "end_time": "2022-10-05T14:51:06.104494Z",
     "start_time": "2022-10-05T14:51:06.096897Z"
    }
   },
   "outputs": [],
   "source": [
    "import os\n",
    "#os.chdir('/Users/lyubing/opt/anaconda2/lib/python2.7/site-packages/')\n",
    "pwd_path='/Users/lyubing/blog/brettlv.github.io/pythoncode/00JetRM'"
   ]
  },
  {
   "cell_type": "code",
   "execution_count": null,
   "id": "355274be",
   "metadata": {
    "ExecuteTime": {
     "end_time": "2022-10-05T14:50:27.767223Z",
     "start_time": "2022-10-05T14:50:27.588752Z"
    }
   },
   "outputs": [],
   "source": [
    "cat DELCgen.py"
   ]
  },
  {
   "cell_type": "code",
   "execution_count": 2,
   "id": "e3039e7c",
   "metadata": {
    "ExecuteTime": {
     "end_time": "2022-10-05T15:19:16.855113Z",
     "start_time": "2022-10-05T15:19:15.198476Z"
    }
   },
   "outputs": [],
   "source": [
    "#------- Input parameters -------\n",
    "import scipy.stats as st\n",
    "from DELCgen import *"
   ]
  },
  {
   "cell_type": "code",
   "execution_count": 3,
   "id": "dc951a11",
   "metadata": {
    "ExecuteTime": {
     "end_time": "2022-10-05T15:19:17.456198Z",
     "start_time": "2022-10-05T15:19:17.440519Z"
    }
   },
   "outputs": [
    {
     "ename": "SyntaxError",
     "evalue": "invalid syntax (<ipython-input-3-a56fe2e493b0>, line 1)",
     "output_type": "error",
     "traceback": [
      "\u001b[0;36m  File \u001b[0;32m\"<ipython-input-3-a56fe2e493b0>\"\u001b[0;36m, line \u001b[0;32m1\u001b[0m\n\u001b[0;31m    Plot_Lightcurve() - Plot the lightcurve\u001b[0m\n\u001b[0m                               ^\u001b[0m\n\u001b[0;31mSyntaxError\u001b[0m\u001b[0;31m:\u001b[0m invalid syntax\n"
     ]
    }
   ],
   "source": [
    "Plot_Lightcurve() - Plot the lightcurve\n",
    "Plot_Periodogram() - Plot the lightcurve's periodogram, and PSD model if fitted\n",
    "Plot_PDF() - Plot the lightcurve's probability density function, and PDF model if fitted\n",
    "Plot_Stats() - Plot the lightcurve, its periodogram and PDF, and PSD and PDF models if fitted"
   ]
  },
  {
   "cell_type": "code",
   "execution_count": 4,
   "id": "19028809",
   "metadata": {
    "ExecuteTime": {
     "end_time": "2022-10-05T15:19:18.280320Z",
     "start_time": "2022-10-05T15:19:18.156960Z"
    }
   },
   "outputs": [
    {
     "name": "stdout",
     "output_type": "stream",
     "text": [
      "Read 1170 lines of data\n"
     ]
    },
    {
     "data": {
      "image/png": "[encoded data removed]",
      "text/plain": [
       "<Figure size 432x288 with 1 Axes>"
      ]
     },
     "metadata": {
      "needs_background": "light"
     },
     "output_type": "display_data"
    }
   ],
   "source": [
    "# File Route\n",
    "route = \"/Users/lyubing/Downloads/Timing/DELightcurveSimulation/\"\n",
    "datfile = \"NGC4051.dat\"\n",
    "\n",
    "# Bending power law params\n",
    "A,v_bend,a_low,a_high,c = 0.03, 2.3e-4, 1.1, 2.2, 0 \n",
    "# Probability density function params\n",
    "kappa,theta,lnmu,lnsig,weight = 5.67, 5.96, 2.14, 0.31,0.82\n",
    "# Simulation params\n",
    "RedNoiseL,RandomSeed,aliasTbin, tbin = 100,12,1,100 \n",
    "\n",
    "#--------- Commands ---------------\n",
    "\n",
    "# load data lightcurve\n",
    "datalc = Load_Lightcurve(route+datfile,tbin)\n",
    "\n",
    "# plot the data lightcurve and its PDF and PSD\n",
    "datalc.Plot_Lightcurve()"
   ]
  },
  {
   "cell_type": "code",
   "execution_count": 5,
   "id": "fa9fb775",
   "metadata": {
    "ExecuteTime": {
     "end_time": "2022-10-05T15:19:21.036267Z",
     "start_time": "2022-10-05T15:19:20.534935Z"
    }
   },
   "outputs": [
    {
     "data": {
      "image/png": "[encoded data removed]",
      "text/plain": [
       "<Figure size 432x288 with 1 Axes>"
      ]
     },
     "metadata": {
      "needs_background": "light"
     },
     "output_type": "display_data"
    }
   ],
   "source": [
    "datalc.Plot_Periodogram()"
   ]
  },
  {
   "cell_type": "code",
   "execution_count": 6,
   "id": "712e9ff6",
   "metadata": {
    "ExecuteTime": {
     "end_time": "2022-10-05T15:19:21.128508Z",
     "start_time": "2022-10-05T15:19:21.040381Z"
    }
   },
   "outputs": [
    {
     "name": "stderr",
     "output_type": "stream",
     "text": [
      "/Users/lyubing/opt/anaconda2/lib/python2.7/site-packages/matplotlib/axes/_axes.py:6571: UserWarning: The 'normed' kwarg is deprecated, and has been replaced by the 'density' kwarg.\n",
      "  warnings.warn(\"The 'normed' kwarg is deprecated, and has been \"\n"
     ]
    },
    {
     "data": {
      "image/png": "[encoded data removed]",
      "text/plain": [
       "<Figure size 432x288 with 1 Axes>"
      ]
     },
     "metadata": {
      "needs_background": "light"
     },
     "output_type": "display_data"
    }
   ],
   "source": [
    "datalc.Plot_PDF()"
   ]
  },
  {
   "cell_type": "code",
   "execution_count": 7,
   "id": "e8289169",
   "metadata": {
    "ExecuteTime": {
     "end_time": "2022-10-05T15:19:21.676120Z",
     "start_time": "2022-10-05T15:19:21.320899Z"
    }
   },
   "outputs": [
    {
     "data": {
      "image/png": "[encoded data removed]",
      "text/plain": [
       "<Figure size 432x288 with 3 Axes>"
      ]
     },
     "metadata": {
      "needs_background": "light"
     },
     "output_type": "display_data"
    }
   ],
   "source": [
    "datalc.Plot_Stats()"
   ]
  },
  {
   "cell_type": "code",
   "execution_count": null,
   "id": "b10c79f7",
   "metadata": {},
   "outputs": [],
   "source": []
  },
  {
   "cell_type": "code",
   "execution_count": null,
   "id": "8f727cea",
   "metadata": {},
   "outputs": [],
   "source": []
  },
  {
   "cell_type": "code",
   "execution_count": 8,
   "id": "beb027f2",
   "metadata": {
    "ExecuteTime": {
     "end_time": "2022-10-05T15:19:22.721494Z",
     "start_time": "2022-10-05T15:19:22.706131Z"
    }
   },
   "outputs": [
    {
     "data": {
      "text/plain": [
       "<function DELCgen.BendingPL>"
      ]
     },
     "execution_count": 8,
     "metadata": {},
     "output_type": "execute_result"
    }
   ],
   "source": [
    "BendingPL"
   ]
  },
  {
   "cell_type": "code",
   "execution_count": 9,
   "id": "a68bdf2f",
   "metadata": {
    "ExecuteTime": {
     "end_time": "2022-10-05T15:19:59.653018Z",
     "start_time": "2022-10-05T15:19:23.926370Z"
    }
   },
   "outputs": [
    {
     "name": "stdout",
     "output_type": "stream",
     "text": [
      "Fitting PSD for standard deviation estimation...\n"
     ]
    },
    {
     "name": "stderr",
     "output_type": "stream",
     "text": [
      "/Users/lyubing/opt/anaconda2/lib/python2.7/site-packages/DELCgen.py:394: RuntimeWarning: invalid value encountered in log\n",
      "  p = 2.0 * np.sum( np.log(psd[:-1]) + (periodogram[1][:-1]/psd[:-1]) )\n",
      "/Users/lyubing/opt/anaconda2/lib/python2.7/site-packages/DELCgen.py:395: RuntimeWarning: invalid value encountered in log\n",
      "  p_nq = np.log(np.pi * periodogram[1][-1]*psd[-1]) \\\n",
      "/Users/lyubing/opt/anaconda2/lib/python2.7/site-packages/DELCgen.py:237: RuntimeWarning: invalid value encountered in power\n",
      "  denom = 1 + (v/v_bend)**(a_high-a_low)\n",
      "/Users/lyubing/opt/anaconda2/lib/python2.7/site-packages/numpy/core/fromnumeric.py:83: RuntimeWarning: invalid value encountered in reduce\n",
      "  return ufunc.reduce(obj, axis, dtype, out, **passkwargs)\n",
      "/Users/lyubing/opt/anaconda2/lib/python2.7/site-packages/DELCgen.py:237: RuntimeWarning: overflow encountered in power\n",
      "  denom = 1 + (v/v_bend)**(a_high-a_low)\n",
      "/Users/lyubing/opt/anaconda2/lib/python2.7/site-packages/DELCgen.py:236: RuntimeWarning: overflow encountered in power\n",
      "  numer = v**-a_low\n",
      "/Users/lyubing/opt/anaconda2/lib/python2.7/site-packages/DELCgen.py:238: RuntimeWarning: invalid value encountered in divide\n",
      "  out = A * (numer/denom) + c\n"
     ]
    },
    {
     "data": {
      "text/plain": [
       "10.709825772303585"
      ]
     },
     "execution_count": 9,
     "metadata": {},
     "output_type": "execute_result"
    }
   ],
   "source": [
    "# estimate underlying variance od data light curve\n",
    "datalc.STD_Estimate()"
   ]
  },
  {
   "cell_type": "code",
   "execution_count": 10,
   "id": "f3671057",
   "metadata": {
    "ExecuteTime": {
     "end_time": "2022-10-05T15:19:59.868213Z",
     "start_time": "2022-10-05T15:19:59.656830Z"
    }
   },
   "outputs": [
    {
     "name": "stdout",
     "output_type": "stream",
     "text": [
      "PDF not fitted, fitting using defaults (gamma + lognorm)\n"
     ]
    },
    {
     "name": "stderr",
     "output_type": "stream",
     "text": [
      "/Users/lyubing/opt/anaconda2/lib/python2.7/site-packages/DELCgen.py:946: VisibleDeprecationWarning: Passing `normed=True` on non-uniform bins has always been broken, and computes neither the probability density function nor the probability mass function. The result is only correct if the bins are uniform, when density=True will produce the same result anyway. The argument will be removed in a future version of numpy.\n",
      "  hist = np.array(np.histogram(self.flux,bins=nbins,normed=True))\n"
     ]
    }
   ],
   "source": [
    "# simulate artificial light curve with Emmanoulopoulos method, using the PSD and PDF of the data\n",
    "delc = datalc.Simulate_DE_Lightcurve() # defaults to bending PL and mix of gamma and lognormal dist."
   ]
  },
  {
   "cell_type": "code",
   "execution_count": 27,
   "id": "5a19512e",
   "metadata": {
    "ExecuteTime": {
     "end_time": "2022-10-05T15:26:33.812512Z",
     "start_time": "2022-10-05T15:26:33.795019Z"
    }
   },
   "outputs": [],
   "source": [
    "Simulate_TK_Lightcurve?"
   ]
  },
  {
   "cell_type": "code",
   "execution_count": 44,
   "id": "81a5a48a",
   "metadata": {
    "ExecuteTime": {
     "end_time": "2022-10-05T15:30:03.985504Z",
     "start_time": "2022-10-05T15:30:03.970142Z"
    }
   },
   "outputs": [],
   "source": [
    "# simulate artificial light curve with Timmer & Koenig method\n",
    "tklc = Simulate_TK_Lightcurve(#datalc,\n",
    "                              BendingPL, (A,v_bend,a_low,a_high,c),\n",
    "                              datalc,\n",
    "                              RedNoiseL,aliasTbin,RandomSeed,\n",
    "                              \n",
    "                             )"
   ]
  },
  {
   "cell_type": "code",
   "execution_count": 45,
   "id": "e537f573",
   "metadata": {
    "ExecuteTime": {
     "end_time": "2022-10-05T15:30:17.172532Z",
     "start_time": "2022-10-05T15:30:17.035568Z"
    }
   },
   "outputs": [
    {
     "ename": "ValueError",
     "evalue": "x and y must be the same size",
     "output_type": "error",
     "traceback": [
      "\u001b[0;31m---------------------------------------------------------------------------\u001b[0m",
      "\u001b[0;31mValueError\u001b[0m                                Traceback (most recent call last)",
      "\u001b[0;32m<ipython-input-45-380239afd97d>\u001b[0m in \u001b[0;36m<module>\u001b[0;34m()\u001b[0m\n\u001b[0;32m----> 1\u001b[0;31m \u001b[0mtklc\u001b[0m\u001b[0;34m.\u001b[0m\u001b[0mPlot_Lightcurve\u001b[0m\u001b[0;34m(\u001b[0m\u001b[0;34m)\u001b[0m\u001b[0;34m\u001b[0m\u001b[0m\n\u001b[0m",
      "\u001b[0;32m/Users/lyubing/opt/anaconda2/lib/python2.7/site-packages/DELCgen.pyc\u001b[0m in \u001b[0;36mPlot_Lightcurve\u001b[0;34m(self)\u001b[0m\n\u001b[1;32m   1128\u001b[0m         '''\n\u001b[1;32m   1129\u001b[0m         \u001b[0;31m#plt.errorbar(self.time,self.flux,yerr=self.errors,)\u001b[0m\u001b[0;34m\u001b[0m\u001b[0;34m\u001b[0m\u001b[0m\n\u001b[0;32m-> 1130\u001b[0;31m         \u001b[0mplt\u001b[0m\u001b[0;34m.\u001b[0m\u001b[0mscatter\u001b[0m\u001b[0;34m(\u001b[0m\u001b[0mself\u001b[0m\u001b[0;34m.\u001b[0m\u001b[0mtime\u001b[0m\u001b[0;34m,\u001b[0m\u001b[0mself\u001b[0m\u001b[0;34m.\u001b[0m\u001b[0mflux\u001b[0m\u001b[0;34m)\u001b[0m\u001b[0;34m\u001b[0m\u001b[0m\n\u001b[0m\u001b[1;32m   1131\u001b[0m         \u001b[0mplt\u001b[0m\u001b[0;34m.\u001b[0m\u001b[0mtitle\u001b[0m\u001b[0;34m(\u001b[0m\u001b[0;34m\"Lightcurve\"\u001b[0m\u001b[0;34m)\u001b[0m\u001b[0;34m\u001b[0m\u001b[0m\n\u001b[1;32m   1132\u001b[0m         plt.subplots_adjust(left=0.05,right=0.95,top=0.95,bottom=0.05,\n",
      "\u001b[0;32m/Users/lyubing/opt/anaconda2/lib/python2.7/site-packages/matplotlib/pyplot.pyc\u001b[0m in \u001b[0;36mscatter\u001b[0;34m(x, y, s, c, marker, cmap, norm, vmin, vmax, alpha, linewidths, verts, edgecolors, hold, data, **kwargs)\u001b[0m\n\u001b[1;32m   3473\u001b[0m                          \u001b[0mvmin\u001b[0m\u001b[0;34m=\u001b[0m\u001b[0mvmin\u001b[0m\u001b[0;34m,\u001b[0m \u001b[0mvmax\u001b[0m\u001b[0;34m=\u001b[0m\u001b[0mvmax\u001b[0m\u001b[0;34m,\u001b[0m \u001b[0malpha\u001b[0m\u001b[0;34m=\u001b[0m\u001b[0malpha\u001b[0m\u001b[0;34m,\u001b[0m\u001b[0;34m\u001b[0m\u001b[0m\n\u001b[1;32m   3474\u001b[0m                          \u001b[0mlinewidths\u001b[0m\u001b[0;34m=\u001b[0m\u001b[0mlinewidths\u001b[0m\u001b[0;34m,\u001b[0m \u001b[0mverts\u001b[0m\u001b[0;34m=\u001b[0m\u001b[0mverts\u001b[0m\u001b[0;34m,\u001b[0m\u001b[0;34m\u001b[0m\u001b[0m\n\u001b[0;32m-> 3475\u001b[0;31m                          edgecolors=edgecolors, data=data, **kwargs)\n\u001b[0m\u001b[1;32m   3476\u001b[0m     \u001b[0;32mfinally\u001b[0m\u001b[0;34m:\u001b[0m\u001b[0;34m\u001b[0m\u001b[0m\n\u001b[1;32m   3477\u001b[0m         \u001b[0max\u001b[0m\u001b[0;34m.\u001b[0m\u001b[0m_hold\u001b[0m \u001b[0;34m=\u001b[0m \u001b[0mwashold\u001b[0m\u001b[0;34m\u001b[0m\u001b[0m\n",
      "\u001b[0;32m/Users/lyubing/opt/anaconda2/lib/python2.7/site-packages/matplotlib/__init__.pyc\u001b[0m in \u001b[0;36minner\u001b[0;34m(ax, *args, **kwargs)\u001b[0m\n\u001b[1;32m   1865\u001b[0m                         \u001b[0;34m\"the Matplotlib list!)\"\u001b[0m \u001b[0;34m%\u001b[0m \u001b[0;34m(\u001b[0m\u001b[0mlabel_namer\u001b[0m\u001b[0;34m,\u001b[0m \u001b[0mfunc\u001b[0m\u001b[0;34m.\u001b[0m\u001b[0m__name__\u001b[0m\u001b[0;34m)\u001b[0m\u001b[0;34m,\u001b[0m\u001b[0;34m\u001b[0m\u001b[0m\n\u001b[1;32m   1866\u001b[0m                         RuntimeWarning, stacklevel=2)\n\u001b[0;32m-> 1867\u001b[0;31m             \u001b[0;32mreturn\u001b[0m \u001b[0mfunc\u001b[0m\u001b[0;34m(\u001b[0m\u001b[0max\u001b[0m\u001b[0;34m,\u001b[0m \u001b[0;34m*\u001b[0m\u001b[0margs\u001b[0m\u001b[0;34m,\u001b[0m \u001b[0;34m**\u001b[0m\u001b[0mkwargs\u001b[0m\u001b[0;34m)\u001b[0m\u001b[0;34m\u001b[0m\u001b[0m\n\u001b[0m\u001b[1;32m   1868\u001b[0m \u001b[0;34m\u001b[0m\u001b[0m\n\u001b[1;32m   1869\u001b[0m         inner.__doc__ = _add_data_doc(inner.__doc__,\n",
      "\u001b[0;32m/Users/lyubing/opt/anaconda2/lib/python2.7/site-packages/matplotlib/axes/_axes.pyc\u001b[0m in \u001b[0;36mscatter\u001b[0;34m(self, x, y, s, c, marker, cmap, norm, vmin, vmax, alpha, linewidths, verts, edgecolors, **kwargs)\u001b[0m\n\u001b[1;32m   4255\u001b[0m         \u001b[0my\u001b[0m \u001b[0;34m=\u001b[0m \u001b[0mnp\u001b[0m\u001b[0;34m.\u001b[0m\u001b[0mma\u001b[0m\u001b[0;34m.\u001b[0m\u001b[0mravel\u001b[0m\u001b[0;34m(\u001b[0m\u001b[0my\u001b[0m\u001b[0;34m)\u001b[0m\u001b[0;34m\u001b[0m\u001b[0m\n\u001b[1;32m   4256\u001b[0m         \u001b[0;32mif\u001b[0m \u001b[0mx\u001b[0m\u001b[0;34m.\u001b[0m\u001b[0msize\u001b[0m \u001b[0;34m!=\u001b[0m \u001b[0my\u001b[0m\u001b[0;34m.\u001b[0m\u001b[0msize\u001b[0m\u001b[0;34m:\u001b[0m\u001b[0;34m\u001b[0m\u001b[0m\n\u001b[0;32m-> 4257\u001b[0;31m             \u001b[0;32mraise\u001b[0m \u001b[0mValueError\u001b[0m\u001b[0;34m(\u001b[0m\u001b[0;34m\"x and y must be the same size\"\u001b[0m\u001b[0;34m)\u001b[0m\u001b[0;34m\u001b[0m\u001b[0m\n\u001b[0m\u001b[1;32m   4258\u001b[0m \u001b[0;34m\u001b[0m\u001b[0m\n\u001b[1;32m   4259\u001b[0m         \u001b[0;32mif\u001b[0m \u001b[0ms\u001b[0m \u001b[0;32mis\u001b[0m \u001b[0mNone\u001b[0m\u001b[0;34m:\u001b[0m\u001b[0;34m\u001b[0m\u001b[0m\n",
      "\u001b[0;31mValueError\u001b[0m: x and y must be the same size"
     ]
    },
    {
     "data": {
      "image/png": "[encoded data removed]",
      "text/plain": [
       "<Figure size 432x288 with 1 Axes>"
      ]
     },
     "metadata": {
      "needs_background": "light"
     },
     "output_type": "display_data"
    }
   ],
   "source": [
    "tklc.Plot_Lightcurve()"
   ]
  },
  {
   "cell_type": "code",
   "execution_count": 42,
   "id": "a9134aa0",
   "metadata": {
    "ExecuteTime": {
     "end_time": "2022-10-05T15:29:36.620999Z",
     "start_time": "2022-10-05T15:29:36.603877Z"
    }
   },
   "outputs": [],
   "source": [
    "Simulate_DE_Lightcurve?"
   ]
  },
  {
   "cell_type": "code",
   "execution_count": 21,
   "id": "a2ae16b7",
   "metadata": {
    "ExecuteTime": {
     "end_time": "2022-10-05T15:23:54.229743Z",
     "start_time": "2022-10-05T15:23:54.213401Z"
    }
   },
   "outputs": [],
   "source": [
    "Simulate_DE_Lightcurve?"
   ]
  },
  {
   "cell_type": "code",
   "execution_count": 35,
   "id": "4a17ba68",
   "metadata": {
    "ExecuteTime": {
     "end_time": "2022-10-05T15:28:32.315045Z",
     "start_time": "2022-10-05T15:28:32.234673Z"
    }
   },
   "outputs": [],
   "source": [
    "# simulate artificial light curve with Emmanoulopoulos method, scipy distribution\n",
    "delc2 = Simulate_DE_Lightcurve(BendingPL, (A,v_bend,a_low,a_high,c),\n",
    "                                ([st.gamma,st.lognorm],[[kappa,0, theta],\\\n",
    "                                    [lnsig,0, np.exp(lnmu)]],[weight,1-weight]),\n",
    "                               lightcurve=datalc,\n",
    "                              )\n",
    "\n"
   ]
  },
  {
   "cell_type": "code",
   "execution_count": 39,
   "id": "7af58a7d",
   "metadata": {
    "ExecuteTime": {
     "end_time": "2022-10-05T15:29:09.310017Z",
     "start_time": "2022-10-05T15:29:09.229225Z"
    }
   },
   "outputs": [],
   "source": [
    "# simulate artificial light curve with Emmanoulopoulos method, custom distribution\n",
    "delc3 = Simulate_DE_Lightcurve(BendingPL, (A,v_bend,a_low,a_high,c),\n",
    "                                ([[st.gamma,st.lognorm],[[kappa, theta],\\\n",
    "                                  [lnmu, lnsig]],[weight,1-weight]]),\n",
    "                               #MixtureDist,\n",
    "                               lightcurve=datalc)                                \n"
   ]
  },
  {
   "cell_type": "code",
   "execution_count": 34,
   "id": "e858beb3",
   "metadata": {
    "ExecuteTime": {
     "end_time": "2022-10-05T15:28:00.602331Z",
     "start_time": "2022-10-05T15:28:00.030617Z"
    }
   },
   "outputs": [
    {
     "data": {
      "image/png": "[encoded data removed]",
      "text/plain": [
       "<Figure size 432x288 with 6 Axes>"
      ]
     },
     "metadata": {
      "needs_background": "light"
     },
     "output_type": "display_data"
    }
   ],
   "source": [
    "# plot lightcurves and their PSDs ands PDFs for comparison\n",
    "#Comparison_Plots([datalc,tklc,delc])\n",
    "\n",
    "Comparison_Plots([datalc,delc])"
   ]
  },
  {
   "cell_type": "code",
   "execution_count": 12,
   "id": "37b69ded",
   "metadata": {
    "ExecuteTime": {
     "end_time": "2022-10-05T15:20:20.219858Z",
     "start_time": "2022-10-05T15:20:20.192952Z"
    }
   },
   "outputs": [],
   "source": [
    "# Save lightcurve and Periodogram as text files\n",
    "delc.Save_Lightcurve('lightcurve.dat')\n",
    "delc.Save_Periodogram('periodogram.dat')"
   ]
  },
  {
   "cell_type": "code",
   "execution_count": null,
   "id": "4ccbc9d5",
   "metadata": {},
   "outputs": [],
   "source": []
  }
 ],
 "metadata": {
  "kernelspec": {
   "display_name": "Python 2",
   "language": "python",
   "name": "py2"
  },
  "language_info": {
   "codemirror_mode": {
    "name": "ipython",
    "version": 2
   },
   "file_extension": ".py",
   "mimetype": "text/x-python",
   "name": "python",
   "nbconvert_exporter": "python",
   "pygments_lexer": "ipython2",
   "version": "2.7.15"
  },
  "latex_envs": {
   "LaTeX_envs_menu_present": true,
   "autoclose": false,
   "autocomplete": true,
   "bibliofile": "biblio.bib",
   "cite_by": "apalike",
   "current_citInitial": 1,
   "eqLabelWithNumbers": true,
   "eqNumInitial": 1,
   "hotkeys": {
    "equation": "Ctrl-E",
    "itemize": "Ctrl-I"
   },
   "labels_anchors": false,
   "latex_user_defs": false,
   "report_style_numbering": false,
   "user_envs_cfg": false
  },
  "toc": {
   "base_numbering": 1,
   "nav_menu": {},
   "number_sections": true,
   "sideBar": true,
   "skip_h1_title": false,
   "title_cell": "Table of Contents",
   "title_sidebar": "Contents",
   "toc_cell": false,
   "toc_position": {},
   "toc_section_display": true,
   "toc_window_display": false
  }
 },
 "nbformat": 4,
 "nbformat_minor": 5
}
