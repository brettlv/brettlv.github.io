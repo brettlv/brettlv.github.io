{
 "cells": [
  {
   "cell_type": "code",
   "execution_count": 1,
   "id": "fd34aa19",
   "metadata": {
    "ExecuteTime": {
     "end_time": "2022-09-14T06:21:05.353267Z",
     "start_time": "2022-09-14T06:21:05.342824Z"
    }
   },
   "outputs": [],
   "source": [
    "github_root_url='https://github.com'\n",
    "nbviewer_root_url='https://nbviewer.org/github'\n",
    "github_url='https://github.com/QiaoyaWu/sdss4_dr16q_tutorial/blob/main/op/5808-56325-0560.pdf'\n",
    "nbviewer_url='https://nbviewer.org/github/QiaoyaWu/sdss4_dr16q_tutorial/blob/main/op/5808-56325-0560.pdf'"
   ]
  },
  {
   "cell_type": "code",
   "execution_count": 7,
   "id": "c8094e38",
   "metadata": {
    "ExecuteTime": {
     "end_time": "2022-09-14T06:23:07.751675Z",
     "start_time": "2022-09-14T06:23:07.743670Z"
    }
   },
   "outputs": [
    {
     "data": {
      "text/html": [
       "\n",
       "        <iframe\n",
       "            width=\"700\"\n",
       "            height=\"450\"\n",
       "            src=\"https://nbviewer.org/github/QiaoyaWu/sdss4_dr16q_tutorial/blob/main/op/5808-56325-0560.pdf\"\n",
       "            frameborder=\"0\"\n",
       "            allowfullscreen\n",
       "            \n",
       "        ></iframe>\n",
       "        "
      ],
      "text/plain": [
       "<IPython.lib.display.IFrame at 0x7faa38f5f3d0>"
      ]
     },
     "execution_count": 7,
     "metadata": {},
     "output_type": "execute_result"
    }
   ],
   "source": [
    "from IPython.display import IFrame\n",
    "IFrame(nbviewer_url, width=700, height=450)"
   ]
  },
  {
   "cell_type": "code",
   "execution_count": 9,
   "id": "e803544d",
   "metadata": {
    "ExecuteTime": {
     "end_time": "2022-09-14T06:24:04.083370Z",
     "start_time": "2022-09-14T06:24:03.855275Z"
    }
   },
   "outputs": [],
   "source": [
    "!open /Users/lyubing/Downloads/sdss4_dr16q_tutorial/"
   ]
  },
  {
   "cell_type": "code",
   "execution_count": null,
   "id": "36d341e5",
   "metadata": {},
   "outputs": [],
   "source": []
  }
 ],
 "metadata": {
  "kernelspec": {
   "display_name": "Python 3 (ipykernel)",
   "language": "python",
   "name": "python3"
  },
  "language_info": {
   "codemirror_mode": {
    "name": "ipython",
    "version": 3
   },
   "file_extension": ".py",
   "mimetype": "text/x-python",
   "name": "python",
   "nbconvert_exporter": "python",
   "pygments_lexer": "ipython3",
   "version": "3.9.12"
  },
  "latex_envs": {
   "LaTeX_envs_menu_present": true,
   "autoclose": false,
   "autocomplete": true,
   "bibliofile": "biblio.bib",
   "cite_by": "apalike",
   "current_citInitial": 1,
   "eqLabelWithNumbers": true,
   "eqNumInitial": 1,
   "hotkeys": {
    "equation": "Ctrl-E",
    "itemize": "Ctrl-I"
   },
   "labels_anchors": false,
   "latex_user_defs": false,
   "report_style_numbering": false,
   "user_envs_cfg": false
  },
  "toc": {
   "base_numbering": 1,
   "nav_menu": {},
   "number_sections": true,
   "sideBar": true,
   "skip_h1_title": false,
   "title_cell": "Table of Contents",
   "title_sidebar": "Contents",
   "toc_cell": false,
   "toc_position": {},
   "toc_section_display": true,
   "toc_window_display": false
  }
 },
 "nbformat": 4,
 "nbformat_minor": 5
}
