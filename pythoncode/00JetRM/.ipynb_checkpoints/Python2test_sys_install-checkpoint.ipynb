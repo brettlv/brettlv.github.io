{
 "cells": [
  {
   "cell_type": "code",
   "execution_count": 1,
   "id": "3f5bc98b",
   "metadata": {
    "ExecuteTime": {
     "end_time": "2022-09-09T02:08:58.524325Z",
     "start_time": "2022-09-09T02:08:58.517685Z"
    }
   },
   "outputs": [],
   "source": [
    "import sys"
   ]
  },
  {
   "cell_type": "code",
   "execution_count": 2,
   "id": "fb20b0f9",
   "metadata": {
    "ExecuteTime": {
     "end_time": "2022-09-09T02:09:04.839124Z",
     "start_time": "2022-09-09T02:09:00.513766Z"
    }
   },
   "outputs": [
    {
     "name": "stdout",
     "output_type": "stream",
     "text": [
      "Collecting package metadata (current_repodata.json): done\n",
      "Solving environment: done\n",
      "\n",
      "\n",
      "==> WARNING: A newer version of conda exists. <==\n",
      "  current version: 4.12.0\n",
      "  latest version: 4.14.0\n",
      "\n",
      "Please update conda by running\n",
      "\n",
      "    $ conda update -n base -c defaults conda\n",
      "\n",
      "\n",
      "\n",
      "# All requested packages already installed.\n",
      "\n"
     ]
    }
   ],
   "source": [
    "# Install a conda package in the current Jupyter kernel\n",
    "import sys\n",
    "!conda install --yes --prefix {sys.prefix} numpy"
   ]
  },
  {
   "cell_type": "code",
   "execution_count": 3,
   "id": "1b4d9e11",
   "metadata": {
    "ExecuteTime": {
     "end_time": "2022-09-09T02:09:21.870330Z",
     "start_time": "2022-09-09T02:09:07.601248Z"
    }
   },
   "outputs": [],
   "source": [
    "import numpy"
   ]
  },
  {
   "cell_type": "code",
   "execution_count": null,
   "id": "c8f81007",
   "metadata": {
    "ExecuteTime": {
     "start_time": "2022-09-09T01:45:27.598Z"
    }
   },
   "outputs": [],
   "source": []
  },
  {
   "cell_type": "code",
   "execution_count": 4,
   "id": "c9f13eff",
   "metadata": {
    "ExecuteTime": {
     "end_time": "2022-09-09T02:09:24.426750Z",
     "start_time": "2022-09-09T02:09:21.874113Z"
    }
   },
   "outputs": [
    {
     "name": "stdout",
     "output_type": "stream",
     "text": [
      "Requirement already satisfied: numpy in /Users/lyubing/opt/anaconda2/lib/python2.7/site-packages (1.15.1)\n",
      "\u001b[31mtwisted 18.7.0 requires PyHamcrest>=1.9.0, which is not installed.\u001b[0m\n",
      "\u001b[31mgrin 1.2.1 requires argparse>=1.1, which is not installed.\u001b[0m\n",
      "\u001b[33mYou are using pip version 10.0.1, however version 20.3.4 is available.\n",
      "You should consider upgrading via the 'pip install --upgrade pip' command.\u001b[0m\n"
     ]
    }
   ],
   "source": [
    "import sys\n",
    "!{sys.executable} -m pip install numpy\n",
    "#python -m pip install <package>"
   ]
  },
  {
   "cell_type": "code",
   "execution_count": 5,
   "id": "afa78d43",
   "metadata": {
    "ExecuteTime": {
     "end_time": "2022-09-09T02:10:00.351219Z",
     "start_time": "2022-09-09T02:09:24.432612Z"
    }
   },
   "outputs": [
    {
     "name": "stdout",
     "output_type": "stream",
     "text": [
      "Python 2.7.15 |Anaconda, Inc.| (default, May  1 2018, 18:37:05) \n",
      "[GCC 4.2.1 Compatible Clang 4.0.1 (tags/RELEASE_401/final)] on darwin\n",
      "Type \"help\", \"copyright\", \"credits\" or \"license\" for more information.\n",
      ">>> \n",
      "KeyboardInterrupt\n",
      ">>> \n",
      ">>> "
     ]
    }
   ],
   "source": [
    "!{sys.executable}"
   ]
  },
  {
   "cell_type": "code",
   "execution_count": null,
   "id": "4a7fc007",
   "metadata": {},
   "outputs": [],
   "source": [
    "Python2(ipykernel_py2)"
   ]
  },
  {
   "cell_type": "code",
   "execution_count": 8,
   "id": "d8086961",
   "metadata": {
    "ExecuteTime": {
     "end_time": "2022-09-09T02:10:03.574270Z",
     "start_time": "2022-09-09T02:10:03.422246Z"
    }
   },
   "outputs": [
    {
     "name": "stdout",
     "output_type": "stream",
     "text": [
      "/Users/lyubing/opt/anaconda3/bin/python\r\n"
     ]
    }
   ],
   "source": [
    "!which python"
   ]
  },
  {
   "cell_type": "code",
   "execution_count": 11,
   "id": "fdd69252",
   "metadata": {
    "ExecuteTime": {
     "end_time": "2022-09-09T02:10:20.390153Z",
     "start_time": "2022-09-09T02:10:20.229824Z"
    }
   },
   "outputs": [],
   "source": [
    "!which python2"
   ]
  },
  {
   "cell_type": "code",
   "execution_count": 13,
   "id": "ab9bcd31",
   "metadata": {
    "ExecuteTime": {
     "end_time": "2022-09-09T02:10:39.397407Z",
     "start_time": "2022-09-09T02:10:39.246950Z"
    }
   },
   "outputs": [
    {
     "name": "stdout",
     "output_type": "stream",
     "text": [
      "/bin/sh: python2: command not found\r\n"
     ]
    }
   ],
   "source": [
    "!python2 -v"
   ]
  },
  {
   "cell_type": "markdown",
   "id": "a126698e",
   "metadata": {
    "ExecuteTime": {
     "end_time": "2022-09-09T02:10:12.884875Z",
     "start_time": "2022-09-09T02:10:12.858983Z"
    }
   },
   "source": [
    "import python"
   ]
  },
  {
   "cell_type": "code",
   "execution_count": 18,
   "id": "6e743e48",
   "metadata": {
    "ExecuteTime": {
     "end_time": "2022-09-09T02:13:29.513354Z",
     "start_time": "2022-09-09T02:13:19.744706Z"
    }
   },
   "outputs": [
    {
     "name": "stdout",
     "output_type": "stream",
     "text": [
      "Collecting package metadata (current_repodata.json): done\n",
      "Solving environment: done\n",
      "\n",
      "\n",
      "==> WARNING: A newer version of conda exists. <==\n",
      "  current version: 4.12.0\n",
      "  latest version: 4.14.0\n",
      "\n",
      "Please update conda by running\n",
      "\n",
      "    $ conda update -n base -c defaults conda\n",
      "\n",
      "\n",
      "\n",
      "## Package Plan ##\n",
      "\n",
      "  environment location: /Users/lyubing/opt/anaconda2\n",
      "\n",
      "  added / updated specs:\n",
      "    - astroml\n",
      "\n",
      "\n",
      "The following packages will be downloaded:\n",
      "\n",
      "    package                    |            build\n",
      "    ---------------------------|-----------------\n",
      "    astroml-0.4.1              |             py_0          87 KB  astropy\n",
      "    ------------------------------------------------------------\n",
      "                                           Total:          87 KB\n",
      "\n",
      "The following NEW packages will be INSTALLED:\n",
      "\n",
      "  astroml            astropy/noarch::astroml-0.4.1-py_0\n",
      "\n",
      "\n",
      "\n",
      "Downloading and Extracting Packages\n",
      "astroml-0.4.1        | 87 KB     | ##################################### | 100% \n",
      "Preparing transaction: done\n",
      "Verifying transaction: done\n",
      "Executing transaction: done\n"
     ]
    }
   ],
   "source": [
    "# Install a conda package in the current Jupyter kernel\n",
    "import sys\n",
    "!conda install --yes --prefix {sys.prefix} -c astropy astroML"
   ]
  },
  {
   "cell_type": "code",
   "execution_count": 6,
   "id": "0f056953",
   "metadata": {
    "ExecuteTime": {
     "end_time": "2022-09-09T02:35:02.516202Z",
     "start_time": "2022-09-09T02:35:02.369879Z"
    }
   },
   "outputs": [
    {
     "name": "stdout",
     "output_type": "stream",
     "text": [
      "/Users/lyubing/opt/anaconda3/bin/python\r\n"
     ]
    }
   ],
   "source": [
    "!which python"
   ]
  },
  {
   "cell_type": "code",
   "execution_count": 23,
   "id": "bbac156a",
   "metadata": {
    "ExecuteTime": {
     "end_time": "2022-09-09T02:21:42.781083Z",
     "start_time": "2022-09-09T02:21:41.300243Z"
    }
   },
   "outputs": [
    {
     "name": "stdout",
     "output_type": "stream",
     "text": [
      "Requirement already satisfied: numpy in /Users/lyubing/opt/anaconda2/lib/python2.7/site-packages (1.15.1)\n",
      "\u001b[31mtwisted 18.7.0 requires PyHamcrest>=1.9.0, which is not installed.\u001b[0m\n",
      "\u001b[31mgrin 1.2.1 requires argparse>=1.1, which is not installed.\u001b[0m\n",
      "\u001b[33mYou are using pip version 10.0.1, however version 20.3.4 is available.\n",
      "You should consider upgrading via the 'pip install --upgrade pip' command.\u001b[0m\n"
     ]
    }
   ],
   "source": [
    "# Install a pip package in the current Jupyter kernel\n",
    "import sys\n",
    "!{sys.executable} -m pip install numpy"
   ]
  },
  {
   "cell_type": "code",
   "execution_count": 24,
   "id": "7b5395f9",
   "metadata": {
    "ExecuteTime": {
     "end_time": "2022-09-09T02:21:49.337704Z",
     "start_time": "2022-09-09T02:21:47.899071Z"
    }
   },
   "outputs": [
    {
     "name": "stdout",
     "output_type": "stream",
     "text": [
      "Requirement already satisfied: astroML in /Users/lyubing/opt/anaconda2/lib/python2.7/site-packages (0.4.1)\n",
      "Requirement already satisfied: matplotlib>=0.99 in /Users/lyubing/opt/anaconda2/lib/python2.7/site-packages (from astroML) (2.2.3)\n",
      "Requirement already satisfied: numpy>=1.4 in /Users/lyubing/opt/anaconda2/lib/python2.7/site-packages (from astroML) (1.15.1)\n",
      "Requirement already satisfied: scikit-learn>=0.18 in /Users/lyubing/opt/anaconda2/lib/python2.7/site-packages (from astroML) (0.19.2)\n",
      "Requirement already satisfied: scipy>=0.11 in /Users/lyubing/opt/anaconda2/lib/python2.7/site-packages (from astroML) (1.1.0)\n",
      "Requirement already satisfied: astropy>=1.2 in /Users/lyubing/opt/anaconda2/lib/python2.7/site-packages (from astroML) (2.0.8)\n",
      "Requirement already satisfied: cycler>=0.10 in /Users/lyubing/opt/anaconda2/lib/python2.7/site-packages (from matplotlib>=0.99->astroML) (0.10.0)\n",
      "Requirement already satisfied: pyparsing!=2.0.4,!=2.1.2,!=2.1.6,>=2.0.1 in /Users/lyubing/opt/anaconda2/lib/python2.7/site-packages (from matplotlib>=0.99->astroML) (2.2.0)\n",
      "Requirement already satisfied: python-dateutil>=2.1 in /Users/lyubing/opt/anaconda2/lib/python2.7/site-packages (from matplotlib>=0.99->astroML) (2.7.3)\n",
      "Requirement already satisfied: pytz in /Users/lyubing/opt/anaconda2/lib/python2.7/site-packages (from matplotlib>=0.99->astroML) (2018.5)\n",
      "Requirement already satisfied: six>=1.10 in /Users/lyubing/opt/anaconda2/lib/python2.7/site-packages (from matplotlib>=0.99->astroML) (1.11.0)\n",
      "Requirement already satisfied: kiwisolver>=1.0.1 in /Users/lyubing/opt/anaconda2/lib/python2.7/site-packages (from matplotlib>=0.99->astroML) (1.0.1)\n",
      "Requirement already satisfied: backports.functools_lru_cache in /Users/lyubing/opt/anaconda2/lib/python2.7/site-packages (from matplotlib>=0.99->astroML) (1.5)\n",
      "Requirement already satisfied: subprocess32 in /Users/lyubing/opt/anaconda2/lib/python2.7/site-packages (from matplotlib>=0.99->astroML) (3.5.2)\n",
      "Requirement already satisfied: pytest>=2.8 in /Users/lyubing/opt/anaconda2/lib/python2.7/site-packages (from astropy>=1.2->astroML) (3.8.0)\n",
      "Requirement already satisfied: setuptools in /Users/lyubing/opt/anaconda2/lib/python2.7/site-packages (from kiwisolver>=1.0.1->matplotlib>=0.99->astroML) (40.2.0)\n",
      "Requirement already satisfied: py>=1.5.0 in /Users/lyubing/opt/anaconda2/lib/python2.7/site-packages (from pytest>=2.8->astropy>=1.2->astroML) (1.6.0)\n",
      "Requirement already satisfied: attrs>=17.4.0 in /Users/lyubing/opt/anaconda2/lib/python2.7/site-packages (from pytest>=2.8->astropy>=1.2->astroML) (18.2.0)\n",
      "Requirement already satisfied: more-itertools>=4.0.0 in /Users/lyubing/opt/anaconda2/lib/python2.7/site-packages (from pytest>=2.8->astropy>=1.2->astroML) (4.3.0)\n",
      "Requirement already satisfied: atomicwrites>=1.0 in /Users/lyubing/opt/anaconda2/lib/python2.7/site-packages (from pytest>=2.8->astropy>=1.2->astroML) (1.2.1)\n",
      "Requirement already satisfied: pluggy>=0.7 in /Users/lyubing/opt/anaconda2/lib/python2.7/site-packages (from pytest>=2.8->astropy>=1.2->astroML) (0.7.1)\n",
      "Requirement already satisfied: funcsigs in /Users/lyubing/opt/anaconda2/lib/python2.7/site-packages (from pytest>=2.8->astropy>=1.2->astroML) (1.0.2)\n",
      "Requirement already satisfied: pathlib2>=2.2.0 in /Users/lyubing/opt/anaconda2/lib/python2.7/site-packages (from pytest>=2.8->astropy>=1.2->astroML) (2.3.2)\n",
      "Requirement already satisfied: scandir in /Users/lyubing/opt/anaconda2/lib/python2.7/site-packages (from pathlib2>=2.2.0->pytest>=2.8->astropy>=1.2->astroML) (1.9.0)\n",
      "\u001b[31mtwisted 18.7.0 requires PyHamcrest>=1.9.0, which is not installed.\u001b[0m\n",
      "\u001b[31mgrin 1.2.1 requires argparse>=1.1, which is not installed.\u001b[0m\n",
      "\u001b[33mYou are using pip version 10.0.1, however version 20.3.4 is available.\n",
      "You should consider upgrading via the 'pip install --upgrade pip' command.\u001b[0m\n"
     ]
    }
   ],
   "source": [
    "# Install a pip package in the current Jupyter kernel\n",
    "import sys\n",
    "!{sys.executable} -m pip install astroML\n"
   ]
  },
  {
   "cell_type": "code",
   "execution_count": 25,
   "id": "b80e9971",
   "metadata": {
    "ExecuteTime": {
     "end_time": "2022-09-09T02:22:17.371755Z",
     "start_time": "2022-09-09T02:22:17.223848Z"
    }
   },
   "outputs": [
    {
     "name": "stdout",
     "output_type": "stream",
     "text": [
      "/Users/lyubing/opt/anaconda3/bin:/Users/lyubing/opt/anaconda3/condabin:/opt/homebrew/bin:/opt/homebrew/sbin:/usr/local/bin:/usr/bin:/bin:/usr/sbin:/sbin:/Library/TeX/texbin:/opt/X11/bin:/Library/Apple/usr/bin\r\n"
     ]
    }
   ],
   "source": [
    "!echo $PATH"
   ]
  },
  {
   "cell_type": "code",
   "execution_count": 26,
   "id": "664b1b3a",
   "metadata": {
    "ExecuteTime": {
     "end_time": "2022-09-09T02:22:46.167910Z",
     "start_time": "2022-09-09T02:22:46.020751Z"
    }
   },
   "outputs": [
    {
     "name": "stdout",
     "output_type": "stream",
     "text": [
      "python is /Users/lyubing/opt/anaconda3/bin/python\r\n"
     ]
    }
   ],
   "source": [
    "!type python"
   ]
  },
  {
   "cell_type": "code",
   "execution_count": 27,
   "id": "bc67c6ee",
   "metadata": {
    "ExecuteTime": {
     "end_time": "2022-09-09T02:22:55.854888Z",
     "start_time": "2022-09-09T02:22:55.711135Z"
    }
   },
   "outputs": [
    {
     "name": "stdout",
     "output_type": "stream",
     "text": [
      "type is a shell builtin\r\n"
     ]
    }
   ],
   "source": [
    "!type type"
   ]
  },
  {
   "cell_type": "code",
   "execution_count": 28,
   "id": "b632fbb5",
   "metadata": {
    "ExecuteTime": {
     "end_time": "2022-09-09T02:22:59.510578Z",
     "start_time": "2022-09-09T02:22:59.359639Z"
    }
   },
   "outputs": [
    {
     "name": "stdout",
     "output_type": "stream",
     "text": [
      "ls is /bin/ls\r\n"
     ]
    }
   ],
   "source": [
    "!type ls"
   ]
  },
  {
   "cell_type": "code",
   "execution_count": 29,
   "id": "f8b223a3",
   "metadata": {
    "ExecuteTime": {
     "end_time": "2022-09-09T02:23:11.600221Z",
     "start_time": "2022-09-09T02:23:11.451491Z"
    }
   },
   "outputs": [
    {
     "name": "stdout",
     "output_type": "stream",
     "text": [
      "python is /Users/lyubing/opt/anaconda3/bin/python\r\n"
     ]
    }
   ],
   "source": [
    "!type -a python"
   ]
  },
  {
   "cell_type": "code",
   "execution_count": 2,
   "id": "7470d6f9",
   "metadata": {
    "ExecuteTime": {
     "end_time": "2022-09-09T02:34:50.205225Z",
     "start_time": "2022-09-09T02:34:50.056510Z"
    }
   },
   "outputs": [
    {
     "name": "stdout",
     "output_type": "stream",
     "text": [
      "conda is /Users/lyubing/opt/anaconda3/bin/conda\r\n",
      "conda is /Users/lyubing/opt/anaconda3/condabin/conda\r\n",
      "conda is /opt/homebrew/bin/conda\r\n"
     ]
    }
   ],
   "source": [
    "!type -a conda"
   ]
  },
  {
   "cell_type": "code",
   "execution_count": 3,
   "id": "806381b8",
   "metadata": {
    "ExecuteTime": {
     "end_time": "2022-09-09T02:34:51.548874Z",
     "start_time": "2022-09-09T02:34:51.400303Z"
    }
   },
   "outputs": [
    {
     "name": "stdout",
     "output_type": "stream",
     "text": [
      "pip is /Users/lyubing/opt/anaconda3/bin/pip\r\n"
     ]
    }
   ],
   "source": [
    "!type -a pip"
   ]
  },
  {
   "cell_type": "code",
   "execution_count": 4,
   "id": "4112c3a0",
   "metadata": {
    "ExecuteTime": {
     "end_time": "2022-09-09T02:34:52.259957Z",
     "start_time": "2022-09-09T02:34:52.231011Z"
    }
   },
   "outputs": [
    {
     "data": {
      "text/plain": [
       "['',\n",
       " '/Users/lyubing/opt/anaconda2/lib/python27.zip',\n",
       " '/Users/lyubing/opt/anaconda2/lib/python2.7',\n",
       " '/Users/lyubing/opt/anaconda2/lib/python2.7/plat-darwin',\n",
       " '/Users/lyubing/opt/anaconda2/lib/python2.7/plat-mac',\n",
       " '/Users/lyubing/opt/anaconda2/lib/python2.7/plat-mac/lib-scriptpackages',\n",
       " '/Users/lyubing/opt/anaconda2/lib/python2.7/lib-tk',\n",
       " '/Users/lyubing/opt/anaconda2/lib/python2.7/lib-old',\n",
       " '/Users/lyubing/opt/anaconda2/lib/python2.7/lib-dynload',\n",
       " '/Users/lyubing/opt/anaconda2/lib/python2.7/site-packages',\n",
       " '/Users/lyubing/opt/anaconda2/lib/python2.7/site-packages/aeosa',\n",
       " '/Users/lyubing/opt/anaconda2/lib/python2.7/site-packages',\n",
       " '/Users/lyubing/opt/anaconda2/lib/python2.7/site-packages/IPython/extensions',\n",
       " '/Users/lyubing/.ipython']"
      ]
     },
     "execution_count": 4,
     "metadata": {},
     "output_type": "execute_result"
    }
   ],
   "source": [
    "import sys\n",
    "sys.path"
   ]
  },
  {
   "cell_type": "code",
   "execution_count": 5,
   "id": "f71ee63a",
   "metadata": {
    "ExecuteTime": {
     "end_time": "2022-09-09T02:34:55.380315Z",
     "start_time": "2022-09-09T02:34:54.777572Z"
    }
   },
   "outputs": [
    {
     "data": {
      "text/plain": [
       "['/Users/lyubing/opt/anaconda2/lib/python2.7/site-packages/numpy']"
      ]
     },
     "execution_count": 5,
     "metadata": {},
     "output_type": "execute_result"
    }
   ],
   "source": [
    "import numpy\n",
    "numpy.__path__"
   ]
  },
  {
   "cell_type": "code",
   "execution_count": 34,
   "id": "a77f83c2",
   "metadata": {
    "ExecuteTime": {
     "end_time": "2022-09-09T02:24:21.233351Z",
     "start_time": "2022-09-09T02:24:19.660619Z"
    }
   },
   "outputs": [
    {
     "name": "stdout",
     "output_type": "stream",
     "text": [
      "# conda environments:\r\n",
      "#\r\n",
      "                         /Users/lyubing/opt/anaconda2\r\n",
      "base                  *  /Users/lyubing/opt/anaconda3\r\n",
      "py2                      /Users/lyubing/opt/anaconda3/envs/py2\r\n",
      "py310                    /Users/lyubing/opt/anaconda3/envs/py310\r\n",
      "\r\n"
     ]
    }
   ],
   "source": [
    "!conda env list"
   ]
  },
  {
   "cell_type": "code",
   "execution_count": 35,
   "id": "fef94448",
   "metadata": {
    "ExecuteTime": {
     "end_time": "2022-09-09T02:24:38.512721Z",
     "start_time": "2022-09-09T02:24:37.169716Z"
    }
   },
   "outputs": [
    {
     "name": "stdout",
     "output_type": "stream",
     "text": [
      "Available kernels:\r\n",
      "  py2        /Users/lyubing/Library/Jupyter/kernels/py2\r\n",
      "  py310      /Users/lyubing/Library/Jupyter/kernels/py310\r\n",
      "  python3    /Users/lyubing/Library/Jupyter/kernels/python3\r\n"
     ]
    }
   ],
   "source": [
    "!jupyter kernelspec list"
   ]
  },
  {
   "cell_type": "code",
   "execution_count": 7,
   "id": "8a836d6e",
   "metadata": {
    "ExecuteTime": {
     "end_time": "2022-09-09T02:35:09.163730Z",
     "start_time": "2022-09-09T02:35:09.145925Z"
    }
   },
   "outputs": [
    {
     "data": {
      "text/plain": [
       "'/Users/lyubing/opt/anaconda2/bin/python2'"
      ]
     },
     "execution_count": 7,
     "metadata": {},
     "output_type": "execute_result"
    }
   ],
   "source": [
    "sys.executable"
   ]
  },
  {
   "cell_type": "code",
   "execution_count": 8,
   "id": "3a9895a7",
   "metadata": {
    "ExecuteTime": {
     "end_time": "2022-09-09T02:35:32.011396Z",
     "start_time": "2022-09-09T02:35:31.854938Z"
    }
   },
   "outputs": [
    {
     "name": "stdout",
     "output_type": "stream",
     "text": [
      "Python 2.7.15 :: Anaconda, Inc.\r\n"
     ]
    }
   ],
   "source": [
    "!/Users/lyubing/opt/anaconda2/bin/python2 --version"
   ]
  },
  {
   "cell_type": "code",
   "execution_count": null,
   "id": "abd8acf2",
   "metadata": {},
   "outputs": [],
   "source": []
  }
 ],
 "metadata": {
  "kernelspec": {
   "display_name": "Python 2",
   "language": "python",
   "name": "py2"
  },
  "language_info": {
   "codemirror_mode": {
    "name": "ipython",
    "version": 2
   },
   "file_extension": ".py",
   "mimetype": "text/x-python",
   "name": "python",
   "nbconvert_exporter": "python",
   "pygments_lexer": "ipython2",
   "version": "2.7.15"
  },
  "latex_envs": {
   "LaTeX_envs_menu_present": true,
   "autoclose": false,
   "autocomplete": true,
   "bibliofile": "biblio.bib",
   "cite_by": "apalike",
   "current_citInitial": 1,
   "eqLabelWithNumbers": true,
   "eqNumInitial": 1,
   "hotkeys": {
    "equation": "Ctrl-E",
    "itemize": "Ctrl-I"
   },
   "labels_anchors": false,
   "latex_user_defs": false,
   "report_style_numbering": false,
   "user_envs_cfg": false
  },
  "toc": {
   "base_numbering": 1,
   "nav_menu": {},
   "number_sections": true,
   "sideBar": true,
   "skip_h1_title": false,
   "title_cell": "Table of Contents",
   "title_sidebar": "Contents",
   "toc_cell": false,
   "toc_position": {},
   "toc_section_display": true,
   "toc_window_display": false
  }
 },
 "nbformat": 4,
 "nbformat_minor": 5
}
