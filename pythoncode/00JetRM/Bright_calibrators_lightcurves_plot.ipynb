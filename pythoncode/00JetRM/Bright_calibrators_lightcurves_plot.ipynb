{
 "cells": [
  {
   "cell_type": "code",
   "execution_count": null,
   "metadata": {},
   "outputs": [],
   "source": [
    "1mm"
   ]
  },
  {
   "cell_type": "code",
   "execution_count": null,
   "metadata": {},
   "outputs": [],
   "source": [
    "21cm 1.4GHz"
   ]
  },
  {
   "cell_type": "code",
   "execution_count": null,
   "metadata": {},
   "outputs": [],
   "source": []
  },
  {
   "cell_type": "code",
   "execution_count": null,
   "metadata": {
    "ExecuteTime": {
     "end_time": "2022-07-04T14:26:37.794503Z",
     "start_time": "2022-07-04T14:26:37.789904Z"
    }
   },
   "outputs": [],
   "source": [
    "freq=3e8/1e-3\n",
    "print(freq/1e9,'GHz')"
   ]
  },
  {
   "cell_type": "code",
   "execution_count": null,
   "metadata": {
    "ExecuteTime": {
     "end_time": "2022-07-04T14:26:29.306351Z",
     "start_time": "2022-07-04T14:26:29.302188Z"
    }
   },
   "outputs": [],
   "source": [
    "freq=3e8/21e-2\n",
    "print(freq/1e9,'GHz')"
   ]
  },
  {
   "cell_type": "code",
   "execution_count": null,
   "metadata": {
    "ExecuteTime": {
     "end_time": "2022-07-04T14:27:41.139245Z",
     "start_time": "2022-07-04T14:27:41.135251Z"
    }
   },
   "outputs": [],
   "source": [
    "freq=3e8/850e-6\n",
    "print(freq/1e9,'GHz')"
   ]
  },
  {
   "cell_type": "code",
   "execution_count": null,
   "metadata": {
    "ExecuteTime": {
     "end_time": "2022-09-19T08:13:36.093618Z",
     "start_time": "2022-09-19T08:13:32.459748Z"
    }
   },
   "outputs": [],
   "source": [
    "import sys\n",
    "!{sys.executable} -m pip install astroquery #pyfftw"
   ]
  },
  {
   "cell_type": "markdown",
   "metadata": {},
   "source": [
    "# import "
   ]
  },
  {
   "cell_type": "code",
   "execution_count": null,
   "metadata": {
    "ExecuteTime": {
     "end_time": "2022-11-01T07:37:23.611600Z",
     "start_time": "2022-11-01T07:37:22.756338Z"
    }
   },
   "outputs": [],
   "source": [
    "import pandas as pd\n",
    "import numpy as np\n",
    "\n",
    "import time\n",
    "import os\n",
    "import sys\n",
    "\n",
    "from astropy import config as _config\n",
    "from astroquery.ipac.irsa import Irsa   \n",
    "from astropy import units as u\n",
    "from astropy.coordinates import SkyCoord\n"
   ]
  },
  {
   "cell_type": "code",
   "execution_count": null,
   "metadata": {
    "ExecuteTime": {
     "end_time": "2022-11-01T07:37:24.999528Z",
     "start_time": "2022-11-01T07:37:23.612883Z"
    }
   },
   "outputs": [],
   "source": [
    "#import numpy as np\n",
    "#import pandas as pd\n",
    "\n",
    "from astropy.table import Table\n",
    "from astropy.io import fits\n",
    "from astropy import units as u\n",
    "from astropy import constants \n",
    "from astropy.coordinates import SkyCoord\n",
    "from astropy.visualization import hist\n",
    "from astroML.datasets import fetch_imaging_sample, fetch_sdss_S82standards\n",
    "from astroML.crossmatch import crossmatch_angular"
   ]
  },
  {
   "cell_type": "markdown",
   "metadata": {
    "ExecuteTime": {
     "end_time": "2022-08-23T13:19:54.172574Z",
     "start_time": "2022-08-23T13:19:47.724514Z"
    }
   },
   "source": [
    "import sys\n",
    "!{sys.executable} -m pip install adjustText"
   ]
  },
  {
   "cell_type": "code",
   "execution_count": null,
   "metadata": {
    "ExecuteTime": {
     "end_time": "2022-11-01T07:37:25.019494Z",
     "start_time": "2022-11-01T07:37:25.000462Z"
    }
   },
   "outputs": [],
   "source": [
    "import matplotlib as mpl\n",
    "import matplotlib.pyplot as plt\n",
    "from pylab import cm\n",
    "from collections import OrderedDict\n",
    "#from adjustText import adjust_text\n",
    "\n",
    "%matplotlib inline\n",
    "%config InlineBackend.figure_format='svg'\n",
    "# Edit the font, font size, and axes width\n",
    "mpl.rcParams['font.family'] = 'Avenir'\n",
    "plt.rcParams['font.size'] = 18\n",
    "plt.rcParams['axes.linewidth'] = 2"
   ]
  },
  {
   "cell_type": "code",
   "execution_count": null,
   "metadata": {
    "ExecuteTime": {
     "end_time": "2022-11-01T07:37:25.025065Z",
     "start_time": "2022-11-01T07:37:25.021316Z"
    }
   },
   "outputs": [],
   "source": [
    "#from adjustText import adjust_text\n",
    "import matplotlib as mpl\n",
    "def set_ax_tick(ax):\n",
    "    ax.xaxis.set_tick_params(which='major', size=10, width=2, direction='in', top='on',)\n",
    "    ax.xaxis.set_tick_params(which='minor', size=5, width=2, direction='in', top='on')\n",
    "    ax.yaxis.set_tick_params(which='major', size=10, width=2, direction='in', right='on')\n",
    "    ax.yaxis.set_tick_params(which='minor', size=5, width=2, direction='in', right='on')\n",
    "\n",
    "def set_ax_locator(ax,xma=1,xmi=0.2,yma=1,ymi=0.2):\n",
    "    ax.xaxis.set_major_locator(mpl.ticker.MultipleLocator(xma))\n",
    "    ax.xaxis.set_minor_locator(mpl.ticker.MultipleLocator(xmi))\n",
    "    ax.yaxis.set_major_locator(mpl.ticker.MultipleLocator(yma))\n",
    "    ax.yaxis.set_minor_locator(mpl.ticker.MultipleLocator(ymi)) "
   ]
  },
  {
   "cell_type": "code",
   "execution_count": null,
   "metadata": {
    "ExecuteTime": {
     "end_time": "2022-11-01T07:37:25.029784Z",
     "start_time": "2022-11-01T07:37:25.026398Z"
    }
   },
   "outputs": [],
   "source": [
    "import pandas as pd\n",
    "import numpy as np\n",
    "import os\n",
    "\n",
    "def get_obsids(path):\n",
    "    dirname=os.listdir(path)\n",
    "    obsids=[]\n",
    "    for i in dirname:\n",
    "        if i.isdigit():\n",
    "            obsids.append(i)\n",
    "    obsids.sort()        \n",
    "    return obsids\n",
    "\n",
    "def drop_index(data):\n",
    "    data=data.reset_index(drop=True)\n",
    "    return data\n",
    "\n",
    "def get_info(data,label,label_err=None):\n",
    "    return min(data[label]),max(data[label]),np.mean(data[label])\n",
    "    "
   ]
  },
  {
   "cell_type": "markdown",
   "metadata": {},
   "source": [
    "## time_convert"
   ]
  },
  {
   "cell_type": "code",
   "execution_count": null,
   "metadata": {
    "ExecuteTime": {
     "end_time": "2022-10-17T05:18:16.174056Z",
     "start_time": "2022-10-17T05:18:16.164883Z"
    }
   },
   "outputs": [],
   "source": [
    "from astropy.time import Time\n",
    "from astropy.io import fits\n",
    "import time\n",
    "import datetime\n",
    "from matplotlib.pyplot import MultipleLocator\n",
    "import matplotlib.dates as mdates\n",
    "\n",
    "def datetime2mjd(x):\n",
    "    mjd_ref=59000\n",
    "    mjd_minus_mdates_num=mdates.date2num(convert_xaxis_time(mjd_ref))-mjd_ref\n",
    "    \n",
    "    x=mdates.date2num(x)\n",
    "    y = x - mjd_minus_mdates_num   \n",
    "    return y\n",
    "\n",
    "def mjd2datetime(x):\n",
    "    mjd_ref=59000\n",
    "    mjd_minus_mdates_num=mdates.date2num(convert_xaxis_time(mjd_ref))-mjd_ref\n",
    "    y= x + mjd_minus_mdates_num\n",
    "    y= mdates.num2date(y)\n",
    "    return y\n",
    "\n",
    "\n",
    "\n",
    "def datenums2mjd(x):\n",
    "    #x=mdates.date2num(x)\n",
    "    mjd_ref=59000\n",
    "    mjd_minus_mdates_num=mdates.date2num(convert_xaxis_time(mjd_ref))-mjd_ref\n",
    "    y = x - mjd_minus_mdates_num   \n",
    "    return y\n",
    "\n",
    "def mjd2numsdate(x):\n",
    "    mjd_ref=59000\n",
    "    mjd_minus_mdates_num=mdates.date2num(convert_xaxis_time(mjd_ref))-mjd_ref\n",
    "    \n",
    "    y= x + mjd_minus_mdates_num\n",
    "    #y= mdates.num2date(y)\n",
    "    return y\n",
    "\n",
    "\n",
    "def convert_xaxis_mjd(time):\n",
    "    return Time(time).mjd   \n",
    "\n",
    "def convert_xaxis_time(mjd):\n",
    "    return Time(mjd,format='mjd').to_datetime()\n",
    "\n",
    "\n",
    "def date2yday(x):\n",
    "    \"\"\"\n",
    "    x is in matplotlib datenums, so they are floats.\n",
    "    \"\"\"\n",
    "    y = x - mdates.date2num(datetime(2018, 1, 1))\n",
    "    return y\n",
    "\n",
    "def yday2date(x):\n",
    "    \"\"\"\n",
    "    return a matplotlib datenum (x is days since start of year of 2018)\n",
    "    \"\"\"\n",
    "    y = x + mdates.date2num(datetime(2018, 1, 1))\n",
    "    return y\n",
    "\n",
    "\n",
    "def convert_partial_year(numbers):\n",
    "    datetimes=[]\n",
    "    for number in numbers:\n",
    "        year = int(number)\n",
    "        d = timedelta(days=(number - year)*(365 + is_leap(year)))\n",
    "        day_one = datetime(year,1,1)\n",
    "        date = d + day_one\n",
    "        datetimes.append(date)\n",
    "    return datetimes\n",
    "\n",
    "\n",
    "def is_leap(year):\n",
    "    if not year%4 and  year%100 or not year%400:\n",
    "        return True\n",
    "    return False\n",
    "\n",
    "\n",
    "def convert_mjd(times):\n",
    "    timesmjd=[]\n",
    "    for i in times:\n",
    "        timesmjd.append(Time(i).mjd)\n",
    "    return timesmjd  \n",
    "\n",
    "\n",
    "def convert_date(times):\n",
    "    timesdate=[]\n",
    "    for i in times:\n",
    "        timesdate.append(Time(i,format='mjd').datetime)\n",
    "    return timesdate\n",
    "\n",
    "def convert_date_single(time):\n",
    "    timedate=Time(time,format='mjd').datetime\n",
    "    return timedate"
   ]
  },
  {
   "cell_type": "code",
   "execution_count": null,
   "metadata": {
    "ExecuteTime": {
     "end_time": "2022-10-17T05:18:16.179409Z",
     "start_time": "2022-10-17T05:18:16.175498Z"
    }
   },
   "outputs": [],
   "source": [
    "def plot_secax(ax,mi_interval=365,ma_interval=365*2,rotation=30,):\n",
    "    secax1 = ax.secondary_xaxis('top', functions=(mjd2numsdate,datenums2mjd))\n",
    "    secax1.xaxis.set_major_formatter(mdates.DateFormatter(\"%Y-%m\"))\n",
    "    secax1.xaxis.set_major_locator(mdates.DayLocator(interval=ma_interval))\n",
    "    secax1.xaxis.set_minor_locator(mdates.DayLocator(interval=mi_interval))\n",
    "    secax1.xaxis.set_tick_params(which='major', size=10, width=2, direction='out')\n",
    "    secax1.xaxis.set_tick_params(which='minor', size=5, width=2, direction='out')\n",
    "    secax1.xaxis.set_tick_params(which='major', size=10, width=2, direction='out', rotation=rotation,)"
   ]
  },
  {
   "cell_type": "code",
   "execution_count": null,
   "metadata": {
    "ExecuteTime": {
     "end_time": "2022-09-27T08:51:25.758023Z",
     "start_time": "2022-09-27T08:51:25.743294Z"
    }
   },
   "outputs": [],
   "source": [
    "convert_xaxis_mjd(datetime.datetime(2015, 1, 11, 0, 0))"
   ]
  },
  {
   "cell_type": "code",
   "execution_count": null,
   "metadata": {},
   "outputs": [],
   "source": []
  },
  {
   "cell_type": "code",
   "execution_count": null,
   "metadata": {},
   "outputs": [],
   "source": []
  },
  {
   "cell_type": "code",
   "execution_count": null,
   "metadata": {},
   "outputs": [],
   "source": []
  },
  {
   "cell_type": "markdown",
   "metadata": {},
   "source": [
    "# Fermi sources"
   ]
  },
  {
   "cell_type": "code",
   "execution_count": null,
   "metadata": {
    "ExecuteTime": {
     "end_time": "2022-09-27T08:51:28.383825Z",
     "start_time": "2022-09-27T08:51:28.377176Z"
    }
   },
   "outputs": [],
   "source": [
    "sources_individual_url='http://james.as.arizona.edu/~psmith/Fermi/DATA/individual.html'"
   ]
  },
  {
   "cell_type": "code",
   "execution_count": null,
   "metadata": {
    "ExecuteTime": {
     "end_time": "2022-09-27T08:51:30.221346Z",
     "start_time": "2022-09-27T08:51:28.865885Z"
    }
   },
   "outputs": [],
   "source": [
    "import requests\n",
    "r=requests.get(sources_individual_url)\n",
    "demo=r.text\n",
    "\n",
    "\n",
    "from bs4 import BeautifulSoup\n",
    "\n",
    "sources_individual=[]\n",
    "soup=BeautifulSoup(demo,\"html.parser\")\n",
    "for link in soup.find_all('a'):\n",
    "    if link.get('href'):\n",
    "        if link.get('href').startswith('Objects'):\n",
    "            name_i=link.get('href')[8:-5]\n",
    "            if name_i not in sources_individual:\n",
    "                sources_individual.append(name_i)\n",
    "                #print(name_i)"
   ]
  },
  {
   "cell_type": "code",
   "execution_count": null,
   "metadata": {
    "ExecuteTime": {
     "end_time": "2022-09-27T08:51:32.082521Z",
     "start_time": "2022-09-27T08:51:30.222602Z"
    }
   },
   "outputs": [],
   "source": [
    "import requests\n",
    "from bs4 import BeautifulSoup\n",
    "\n",
    "r=requests.get(sources_individual_url)\n",
    "demo=r.text\n",
    "\n",
    "\n",
    "sources_individual_Name=[]\n",
    "soup=BeautifulSoup(demo,\"html.parser\")\n",
    "for link in soup.find_all('a'):\n",
    "    if link.get('href'):\n",
    "        if link.get('href').startswith('Objects'):\n",
    "            #name_i=link.get('href')[8:-5]\n",
    "            Name_i=link.get_text()\n",
    "            if Name_i not in sources_individual:\n",
    "                sources_individual_Name.append(Name_i)\n",
    "                #print(Name_i)"
   ]
  },
  {
   "cell_type": "code",
   "execution_count": null,
   "metadata": {
    "ExecuteTime": {
     "end_time": "2022-09-27T08:51:32.092893Z",
     "start_time": "2022-09-27T08:51:32.085708Z"
    }
   },
   "outputs": [],
   "source": [
    "len(sources_individual),len(sources_individual_Name)"
   ]
  },
  {
   "cell_type": "markdown",
   "metadata": {
    "ExecuteTime": {
     "end_time": "2022-09-27T08:51:32.103407Z",
     "start_time": "2022-09-27T08:51:32.097407Z"
    }
   },
   "source": [
    "for url_name_,Name_ in zip(sources_individual,sources_individual_Name):\n",
    "    print(url_name_,Name_)"
   ]
  },
  {
   "cell_type": "code",
   "execution_count": null,
   "metadata": {
    "ExecuteTime": {
     "end_time": "2022-09-27T08:51:32.107679Z",
     "start_time": "2022-09-27T08:51:32.104946Z"
    }
   },
   "outputs": [],
   "source": [
    "Source_Name_dict = dict(zip(sources_individual,sources_individual_Name))#nametoName\n",
    "Source_name_dict = dict(zip(sources_individual_Name,sources_individual))"
   ]
  },
  {
   "cell_type": "code",
   "execution_count": null,
   "metadata": {},
   "outputs": [],
   "source": []
  },
  {
   "cell_type": "code",
   "execution_count": null,
   "metadata": {
    "ExecuteTime": {
     "end_time": "2022-10-17T05:18:54.273163Z",
     "start_time": "2022-10-17T05:18:54.265879Z"
    }
   },
   "outputs": [],
   "source": [
    "import json\n",
    "import numpy as np\n",
    "import pickle\n",
    "\n",
    "with open('Source_Name_dict_pickle.json', \"rb\") as f:# load dict\n",
    "    Source_Name_dict_load_pickle = pickle.load(f)\n",
    "\n"
   ]
  },
  {
   "cell_type": "code",
   "execution_count": null,
   "metadata": {
    "ExecuteTime": {
     "end_time": "2022-10-17T05:18:54.775480Z",
     "start_time": "2022-10-17T05:18:54.769190Z"
    }
   },
   "outputs": [],
   "source": [
    "Source_Name_dict_load_pickle_Name2url  = dict(zip(Source_Name_dict_load_pickle .values(), Source_Name_dict_load_pickle .keys())) \n",
    "Source_Name_dict = Source_Name_dict_load_pickle \n",
    "Source_name_dict =Source_Name_dict_load_pickle_Name2url"
   ]
  },
  {
   "cell_type": "code",
   "execution_count": null,
   "metadata": {
    "ExecuteTime": {
     "end_time": "2022-08-24T02:27:25.644406Z",
     "start_time": "2022-08-24T02:27:25.629172Z"
    }
   },
   "outputs": [],
   "source": [
    "Source_Name_dict_load_pickle"
   ]
  },
  {
   "cell_type": "code",
   "execution_count": null,
   "metadata": {
    "ExecuteTime": {
     "end_time": "2022-08-24T02:31:05.893964Z",
     "start_time": "2022-08-24T02:31:05.878461Z"
    }
   },
   "outputs": [],
   "source": [
    "Source_Name_dict_load_pickle_Name2url"
   ]
  },
  {
   "cell_type": "code",
   "execution_count": null,
   "metadata": {
    "ExecuteTime": {
     "end_time": "2022-07-13T06:53:37.320430Z",
     "start_time": "2022-07-13T06:53:37.311887Z"
    }
   },
   "outputs": [],
   "source": [
    "Source_Name_dict "
   ]
  },
  {
   "cell_type": "markdown",
   "metadata": {},
   "source": [
    "for i,j in zip(Fermi_AGN_list_name_redshift_T[Fermi_AGN_list_name_redshift_T.columns[0]],Fermi_AGN_list_name_redshift_T[Fermi_AGN_list_name_redshift_T.columns[2]]):\n",
    "    print(i,j)"
   ]
  },
  {
   "cell_type": "markdown",
   "metadata": {},
   "source": [
    "## root_dir"
   ]
  },
  {
   "cell_type": "code",
   "execution_count": null,
   "metadata": {
    "ExecuteTime": {
     "end_time": "2022-10-17T05:20:02.548146Z",
     "start_time": "2022-10-17T05:20:02.536553Z"
    }
   },
   "outputs": [],
   "source": [
    "#root_dir='/Users/brettlv/Downloads/Fermi AGN optical monitoring program at Steward Observatory/'\n",
    "#root_data_dir='/Users/brettlv/Downloads/Fermi AGN optical monitoring program at Steward Observatory/Sources/'\n",
    "#data_root_dir='/Volumes/ExtremeSSD/00PKU_SCI/Fermi_AGN_optical_monitoring_program_at_Steward_Observatory/'\n",
    "root_dir='/Volumes/ExtremeSSD/00PKU_SCI/Fermi_AGN_optical_monitoring_program_at_Steward_Observatory/'\n",
    "root_data_dir='/Volumes/ExtremeSSD/00PKU_SCI/Fermi_AGN_optical_monitoring_program_at_Steward_Observatory/Sources/'\n",
    "Rphot_dir='/Volumes/ExtremeSSD/00PKU_SCI/Fermi_AGN_optical_monitoring_program_at_Steward_Observatory/Rphot/'\n",
    "\n",
    "lag_data_dir='/Volumes/ExtremeSSD/00PKU_SCI/FermiAGN_lag/lag_data'\n",
    "data_dir_3C273='/Volumes/ExtremeSSD/00PKU_SCI/FermiAGN_lag/lag_data/A 10yr reverberation mapping campaign for 3C273——J_ApJ_876_49/'\n",
    "data_3C273_dir_mojave='/Volumes/ExtremeSSD/data_source/data_AGN/3C273/3C273/'\n",
    "\n",
    "data_dir_PKS1510='/Volumes/ExtremeSSD/00PKU_SCI/FermiAGN_lag/lag_data/PKS 1510-089 spectroscopic light curvesJ_A+A_642_A59/'\n",
    "lagdata_dir_PKS1510='/Volumes/ExtremeSSD/00PKU_SCI/FermiAGN_lag/lag_data_PKS1510/'\n",
    "\n",
    "lagdata_dir_PKS0736='/Volumes/ExtremeSSD/00PKU_SCI/FermiAGN_lag/PKS0736+017/lagdata_PKS0736'\n",
    "\n",
    "lagdata_dir_3C273='/Volumes/ExtremeSSD/00PKU_SCI/FermiAGN_lag/3C273/lagdata_3C273'"
   ]
  },
  {
   "cell_type": "code",
   "execution_count": null,
   "metadata": {
    "ExecuteTime": {
     "end_time": "2022-08-24T03:11:42.547946Z",
     "start_time": "2022-08-24T03:11:42.538111Z"
    }
   },
   "outputs": [],
   "source": [
    "root_dir,root_data_dir"
   ]
  },
  {
   "cell_type": "markdown",
   "metadata": {
    "ExecuteTime": {
     "end_time": "2022-08-24T03:11:47.343519Z",
     "start_time": "2022-08-24T03:11:47.329375Z"
    }
   },
   "source": [
    "Fermi_monitor_AGN_R[0].header"
   ]
  },
  {
   "cell_type": "markdown",
   "metadata": {
    "ExecuteTime": {
     "end_time": "2022-08-24T03:11:47.697684Z",
     "start_time": "2022-08-24T03:11:47.685351Z"
    }
   },
   "source": [
    "Fermi_monitor_AGN_V[0].header"
   ]
  },
  {
   "cell_type": "code",
   "execution_count": null,
   "metadata": {
    "ExecuteTime": {
     "end_time": "2022-07-13T06:54:12.786359Z",
     "start_time": "2022-07-13T06:54:12.711350Z"
    }
   },
   "outputs": [],
   "source": [
    "Fermi_monitor_AGN_V[0].data,Fermi_monitor_AGN_R[0].data"
   ]
  },
  {
   "cell_type": "markdown",
   "metadata": {},
   "source": [
    "## read R V response"
   ]
  },
  {
   "cell_type": "code",
   "execution_count": null,
   "metadata": {
    "ExecuteTime": {
     "end_time": "2022-10-17T05:20:05.984843Z",
     "start_time": "2022-10-17T05:20:05.947498Z"
    }
   },
   "outputs": [],
   "source": [
    "Fermi_monitor_AGN_V=fits.open('%s/V.fits'%root_dir)\n",
    "Fermi_monitor_AGN_R=fits.open('%s/R.fits'%root_dir)"
   ]
  },
  {
   "cell_type": "markdown",
   "metadata": {
    "ExecuteTime": {
     "end_time": "2022-10-17T05:21:41.280858Z",
     "start_time": "2022-10-17T05:21:41.265237Z"
    }
   },
   "source": [
    "Fermi_monitor_AGN_R[0].header"
   ]
  },
  {
   "cell_type": "code",
   "execution_count": null,
   "metadata": {},
   "outputs": [],
   "source": [
    "len(Fermi_monitor_AGN_V)"
   ]
  },
  {
   "cell_type": "markdown",
   "metadata": {},
   "source": [
    "## plot R V response"
   ]
  },
  {
   "cell_type": "code",
   "execution_count": null,
   "metadata": {
    "ExecuteTime": {
     "end_time": "2022-10-17T05:21:49.317352Z",
     "start_time": "2022-10-17T05:21:49.308387Z"
    }
   },
   "outputs": [],
   "source": [
    "# Fermi_monitor_lambdas\n",
    "Fermi_monitir_lambdas=np.linspace(3000,9000,61)\n",
    "Fermi_monitir_lambdas"
   ]
  },
  {
   "cell_type": "code",
   "execution_count": null,
   "metadata": {
    "ExecuteTime": {
     "end_time": "2022-09-27T08:52:15.058553Z",
     "start_time": "2022-09-27T08:52:15.045184Z"
    }
   },
   "outputs": [],
   "source": [
    "len(Fermi_monitor_AGN_V[0].data),len(Fermi_monitor_AGN_R[0].data)"
   ]
  },
  {
   "cell_type": "code",
   "execution_count": null,
   "metadata": {
    "ExecuteTime": {
     "end_time": "2022-10-17T05:21:55.280522Z",
     "start_time": "2022-10-17T05:21:54.937694Z"
    }
   },
   "outputs": [],
   "source": [
    "fig = plt.figure(figsize=(8,8))\n",
    "fig.subplots_adjust(hspace=0.0, wspace = 0.0)\n",
    "ax = fig.add_subplot(111)\n",
    "\n",
    "ax.plot(Fermi_monitir_lambdas,Fermi_monitor_AGN_V[0].data,color='red',marker='o',label='V')\n",
    "ax.plot(Fermi_monitir_lambdas,Fermi_monitor_AGN_R[0].data,color='blue',marker='o',label='R')\n",
    "\n",
    "#set_ax_locator(ax,xma=0.2,xmi=0.1,yma=10,ymi=5)\n",
    "set_ax_tick(ax)\n",
    "\n",
    "#ax.set_xlabel('Type')\n",
    "#ax2.set_xlabel('Type')\n",
    "ax.set_xlabel(r'$\\lambda(\\AA)$')\n",
    "ax.set_ylabel(r'response function')\n",
    "\n",
    "\n",
    "ax.xaxis.set_tick_params(which='major', size=10, width=2, rotation=45,)\n",
    "handles, labels = ax.get_legend_handles_labels()\n",
    "# remove the errorbars\n",
    "#hdl = [h[0] for h in handles]\n",
    "hdl = handles\n",
    "labels_dict=dict(zip(labels, hdl)) #key,values\n",
    "by_label=OrderedDict(sorted(labels_dict.items(),key=lambda t:t[0]))\n",
    "\n",
    "ax.legend(by_label.values(), by_label.keys(), bbox_to_anchor=(0.01, 0.99),\n",
    "          loc=2, numpoints=1,ncol=1,fontsize=11.)\n",
    "\n",
    "# use them in the legend\n",
    "#by_label = OrderedDict(zip(labels, handles)) \n",
    "#ax.legend(by_label.values(), by_label.keys(), bbox_to_anchor=(0.0, 0.9),loc=2, numpoints=1, fontsize=11. )\n",
    "\n",
    "\n",
    "#ax.semilogy()\n",
    "#ax.semilogx()\n",
    "\n",
    "#ax.set_xlim(0.0,0.6)\n",
    "#plt.legend()\n",
    "#fig.savefig('tansmission_curve_V_R.png', dpi=400, transparent=False, bbox_inches='tight')\n"
   ]
  },
  {
   "cell_type": "code",
   "execution_count": null,
   "metadata": {
    "ExecuteTime": {
     "end_time": "2022-10-17T05:22:29.071740Z",
     "start_time": "2022-10-17T05:22:29.053832Z"
    }
   },
   "outputs": [],
   "source": [
    "6000/4862-1"
   ]
  },
  {
   "cell_type": "code",
   "execution_count": null,
   "metadata": {
    "ExecuteTime": {
     "end_time": "2022-10-17T06:03:21.657698Z",
     "start_time": "2022-10-17T06:03:21.646226Z"
    }
   },
   "outputs": [],
   "source": [
    "4862*(1+0.361),4862*(1+0.45)"
   ]
  },
  {
   "cell_type": "code",
   "execution_count": null,
   "metadata": {
    "ExecuteTime": {
     "end_time": "2022-09-19T11:55:49.602402Z",
     "start_time": "2022-09-19T11:55:49.381326Z"
    }
   },
   "outputs": [],
   "source": [
    "!open /Users/lyubing/blog/brettlv.github.io/pythoncode/00JetRM"
   ]
  },
  {
   "cell_type": "markdown",
   "metadata": {},
   "source": [
    "# def get_data_name"
   ]
  },
  {
   "cell_type": "markdown",
   "metadata": {},
   "source": [
    "## def get_poldata_name(root_dir,name_i)"
   ]
  },
  {
   "cell_type": "code",
   "execution_count": null,
   "metadata": {
    "ExecuteTime": {
     "end_time": "2022-10-17T05:24:13.227808Z",
     "start_time": "2022-10-17T05:24:13.209974Z"
    }
   },
   "outputs": [],
   "source": [
    "def get_poldata_name(root_dir,name_i):\n",
    "    \n",
    "    source_Name_i=name_i.strip()\n",
    "    \n",
    "    if source_Name_i.startswith('PKS') or source_Name_i.startswith('1ES') or source_Name_i.startswith('1H'):\n",
    "        source_Name_i_Rband=source_Name_i.replace(' ','')\n",
    "    \n",
    "    else:\n",
    "        source_Name_i_Rband=source_Name_i\n",
    "        \n",
    "    source_name_i=Source_name_dict[source_Name_i]\n",
    "    #source_name=Source_name_dict[source_Name]  \n",
    "    \n",
    "    pol_path_fig=os.path.join(root_dir,source_name_i+'_pol_lc.png')\n",
    "       \n",
    "    \n",
    "    \n",
    "    Poldata_i=pd.DataFrame([])\n",
    "    \n",
    "    for i in range(10):\n",
    "        \n",
    "        if i==0:\n",
    "            prefix=''\n",
    "        else:\n",
    "            prefix='_%d'%(i+1)\n",
    "        \n",
    "        Polpath=os.path.join(root_data_dir,source_name_i,'%s_pol'%source_name_i+prefix+'.xlsx')\n",
    "        if os.path.exists(Polpath):\n",
    "            Poldata=pd.read_excel(Polpath)\n",
    "            Poldata_select=Poldata[[Poldata.columns[3],Poldata.columns[9],Poldata.columns[10]]]\n",
    "            Poldata_i=Poldata_i.append(Poldata_select,ignore_index=True)\n",
    "\n",
    "                 \n",
    "    return  Poldata_i           "
   ]
  },
  {
   "cell_type": "code",
   "execution_count": null,
   "metadata": {
    "ExecuteTime": {
     "end_time": "2022-10-17T06:29:18.616897Z",
     "start_time": "2022-10-17T06:29:18.337402Z"
    }
   },
   "outputs": [],
   "source": [
    "name_i= 'PKS 1510-08' \n",
    "# sourcename='pks1510'\n",
    "# SourceName='PKS 1510-08'\n",
    "#source_name_i=Source_name_dict[source_Name_i]\n",
    "#source_Name_i=Source_Name_dict[source_name_i]  \n",
    "Poldata_i= get_poldata_name(root_dir,name_i)\n",
    "Poldata_i['mjd']=Poldata_i['JD']- 2400000.5\n",
    "Poldata_i=Poldata_i.sort_values('mjd')\n",
    "print(name_i)\n",
    "#Poldata_i.to_csv('%s/%s_pol.csv'%(root_dir,name_i),index=False)"
   ]
  },
  {
   "cell_type": "code",
   "execution_count": null,
   "metadata": {
    "ExecuteTime": {
     "end_time": "2022-10-17T06:29:27.584725Z",
     "start_time": "2022-10-17T06:29:27.574731Z"
    }
   },
   "outputs": [],
   "source": [
    "Poldata_i.columns"
   ]
  },
  {
   "cell_type": "code",
   "execution_count": null,
   "metadata": {
    "ExecuteTime": {
     "end_time": "2022-10-17T06:30:35.880221Z",
     "start_time": "2022-10-17T06:30:35.867945Z"
    }
   },
   "outputs": [],
   "source": [
    "get_info(Poldata_i,Poldata_i.columns[3])"
   ]
  },
  {
   "cell_type": "code",
   "execution_count": null,
   "metadata": {
    "ExecuteTime": {
     "end_time": "2022-10-17T06:30:37.952630Z",
     "start_time": "2022-10-17T06:30:37.938258Z"
    }
   },
   "outputs": [],
   "source": [
    "get_info(Poldata_i,Poldata_i.columns[1])"
   ]
  },
  {
   "cell_type": "code",
   "execution_count": null,
   "metadata": {},
   "outputs": [],
   "source": []
  },
  {
   "cell_type": "code",
   "execution_count": null,
   "metadata": {
    "ExecuteTime": {
     "end_time": "2022-10-17T06:27:05.469820Z",
     "start_time": "2022-10-17T06:27:05.458828Z"
    }
   },
   "outputs": [],
   "source": [
    "len(Sources_spec_select)"
   ]
  },
  {
   "cell_type": "code",
   "execution_count": null,
   "metadata": {
    "ExecuteTime": {
     "end_time": "2022-10-17T06:27:33.313442Z",
     "start_time": "2022-10-17T06:27:33.301159Z"
    }
   },
   "outputs": [],
   "source": [
    "for name_i in Sources_spec_select:\n",
    "    if not os.path.exists('%s/specnum_selectgt50/%s_pol.csv'%(root_dir,name_i)):   \n",
    "        Poldata_i= get_poldata_name(root_dir,name_i)\n",
    "        Poldata_i['mjd']=Poldata_i['JD']- 2400000.5\n",
    "        Poldata_i=Poldata_i.sort_values('mjd')\n",
    "        print(name_i)\n",
    "        Poldata_i.to_csv('%s/specnum_selectgt50/%s_pol.csv'%(root_dir,name_i),index=False)    "
   ]
  },
  {
   "cell_type": "code",
   "execution_count": null,
   "metadata": {
    "ExecuteTime": {
     "end_time": "2022-10-17T05:25:25.624975Z",
     "start_time": "2022-10-17T05:25:25.613536Z"
    }
   },
   "outputs": [],
   "source": []
  },
  {
   "cell_type": "code",
   "execution_count": null,
   "metadata": {},
   "outputs": [],
   "source": []
  },
  {
   "cell_type": "code",
   "execution_count": null,
   "metadata": {
    "ExecuteTime": {
     "end_time": "2022-10-17T05:25:35.688135Z",
     "start_time": "2022-10-17T05:25:35.673533Z"
    }
   },
   "outputs": [],
   "source": [
    "def get_pol_pa_data_name(root_dir,name_i):\n",
    "    \n",
    "    source_Name_i=name_i.strip()\n",
    "    \n",
    "    if source_Name_i.startswith('PKS') or source_Name_i.startswith('1ES') or source_Name_i.startswith('1H'):\n",
    "        source_Name_i_Rband=source_Name_i.replace(' ','')\n",
    "    \n",
    "    else:\n",
    "        source_Name_i_Rband=source_Name_i\n",
    "        \n",
    "    source_name_i=Source_name_dict[source_Name_i]\n",
    "    #source_name=Source_name_dict[source_Name]  \n",
    "    \n",
    "    pol_path_fig=os.path.join(root_dir,source_name_i+'_pol_lc.png')\n",
    "       \n",
    "    \n",
    "    \n",
    "    Poldata_i=pd.DataFrame([])\n",
    "    \n",
    "    for i in range(10):\n",
    "        \n",
    "        if i==0:\n",
    "            prefix=''\n",
    "        else:\n",
    "            prefix='_%d'%(i+1)\n",
    "        \n",
    "        Polpath=os.path.join(root_data_dir,source_name_i,'%s_pol'%source_name_i+prefix+'.xlsx')\n",
    "        if os.path.exists(Polpath):\n",
    "            Poldata=pd.read_excel(Polpath)\n",
    "            Poldata_select=Poldata[[Poldata.columns[3],Poldata.columns[11],Poldata.columns[12]]]\n",
    "            Poldata_i=Poldata_i.append(Poldata_select,ignore_index=True)                \n",
    "    return  Poldata_i           "
   ]
  },
  {
   "cell_type": "code",
   "execution_count": null,
   "metadata": {
    "ExecuteTime": {
     "end_time": "2022-10-17T05:25:37.167824Z",
     "start_time": "2022-10-17T05:25:36.890637Z"
    }
   },
   "outputs": [],
   "source": [
    "name_i= 'PKS 1510-08' \n",
    "# sourcename='pks1510'\n",
    "# SourceName='PKS 1510-08'\n",
    "#source_name_i=Source_name_dict[source_Name_i]\n",
    "#source_Name_i=Source_Name_dict[source_name_i]  \n",
    "Pol_PA_data_i= get_pol_pa_data_name(root_dir,name_i)"
   ]
  },
  {
   "cell_type": "code",
   "execution_count": null,
   "metadata": {
    "ExecuteTime": {
     "end_time": "2022-10-17T05:25:57.269630Z",
     "start_time": "2022-10-17T05:25:57.254814Z"
    }
   },
   "outputs": [],
   "source": [
    "Pol_PA_data_i['mjd']=Pol_PA_data_i['JD']- 2400000.5\n",
    "Pol_PA_data_i=Pol_PA_data_i.sort_values('mjd')\n",
    "print(name_i)\n",
    "print(Pol_PA_data_i.columns)\n",
    "#Pol_PA_data_i.to_csv('%s/%s_pol_pa.csv'%(root_dir,name_i),index=False)"
   ]
  },
  {
   "cell_type": "markdown",
   "metadata": {},
   "source": [
    "## def get_Vdata_name(root_dir,name_i)"
   ]
  },
  {
   "cell_type": "code",
   "execution_count": null,
   "metadata": {
    "ExecuteTime": {
     "end_time": "2022-10-17T05:28:10.966163Z",
     "start_time": "2022-10-17T05:28:10.950294Z"
    }
   },
   "outputs": [],
   "source": [
    "def get_Vdata_name(root_dir,name_i):\n",
    "    \n",
    "    source_Name_i=name_i.strip()   \n",
    "    \n",
    "    if source_Name_i.startswith('PKS') or source_Name_i.startswith('1ES') or source_Name_i.startswith('1H'):\n",
    "        source_Name_i_Rband=source_Name_i.replace(' ','')\n",
    "    \n",
    "    else:\n",
    "        source_Name_i_Rband=source_Name_i\n",
    "        \n",
    "    source_name_i=Source_name_dict[source_Name_i]\n",
    "    #source_name=Source_name_dict[source_Name]  \n",
    "    \n",
    "  \n",
    "    Poldata_i=pd.DataFrame([])\n",
    "    \n",
    "    for i in range(10):\n",
    "        if i==0:\n",
    "            prefix=''\n",
    "        else:\n",
    "            prefix='_%d'%(i+1)\n",
    "        \n",
    "        Polpath=os.path.join(root_data_dir,source_name_i,'%s_phot'%source_name_i+prefix+'.xlsx')\n",
    "        if os.path.exists(Polpath):\n",
    "            Poldata=pd.read_excel(Polpath)  \n",
    "            Poldata_select=Poldata[[Poldata.columns[3],Poldata.columns[7],Poldata.columns[8]]]\n",
    "            Poldata_i=Poldata_i.append(Poldata_select,ignore_index=True)\n",
    "            \n",
    "            #Poldata['JD']- 2400000.5,\n",
    "            #y=Poldata['V'],\n",
    "            #yerr=Poldata['σ(V)'],\n",
    "\n",
    "    return  Poldata_i             \n"
   ]
  },
  {
   "cell_type": "code",
   "execution_count": null,
   "metadata": {
    "ExecuteTime": {
     "end_time": "2022-10-17T05:28:11.778719Z",
     "start_time": "2022-10-17T05:28:11.541929Z"
    }
   },
   "outputs": [],
   "source": [
    "name_i= 'PKS 1510-08' \n",
    "Vdata_i=get_Vdata_name(root_dir,name_i)\n",
    "Vdata_i['mjd']=Vdata_i['JD']- 2400000.5\n",
    "Vdata_i=Vdata_i.sort_values('mjd')\n",
    "print(name_i)\n",
    "#Vdata_i.to_csv('%s/%s_V.csv'%(root_dir,name_i),index=False)"
   ]
  },
  {
   "cell_type": "code",
   "execution_count": null,
   "metadata": {
    "ExecuteTime": {
     "end_time": "2022-10-17T05:28:19.285414Z",
     "start_time": "2022-10-17T05:28:19.274874Z"
    }
   },
   "outputs": [],
   "source": [
    "print(Vdata_i.columns)"
   ]
  },
  {
   "cell_type": "markdown",
   "metadata": {},
   "source": [
    "## def get_Rdata_name(root_dir,name_i)"
   ]
  },
  {
   "cell_type": "code",
   "execution_count": null,
   "metadata": {
    "ExecuteTime": {
     "end_time": "2022-10-17T05:29:22.401411Z",
     "start_time": "2022-10-17T05:29:22.384573Z"
    }
   },
   "outputs": [],
   "source": [
    "def get_Rdata_name(root_dir,name_i):\n",
    "    source_Name_i=name_i.strip()\n",
    "    \n",
    "    if source_Name_i.startswith('PKS') or source_Name_i.startswith('1ES') or source_Name_i.startswith('1H'):\n",
    "        source_Name_i_Rband=source_Name_i.replace(' ','')\n",
    "    \n",
    "    else:\n",
    "        source_Name_i_Rband=source_Name_i\n",
    "        \n",
    "    source_name_i=Source_name_dict[source_Name_i]\n",
    "    #source_name=Source_name_dict[source_Name]  \n",
    "    #Rband_num=0 \n",
    "\n",
    "    Rphot_i=pd.DataFrame([])\n",
    "    \n",
    "    for i in range(10):\n",
    "        Rphot=pd.read_excel(os.path.join(Rphot_dir,'Rphot_Cycle%d.xlsx'%(i+1)))\n",
    "        Rphot_name= Rphot[Rphot['Object']==source_Name_i_Rband]   \n",
    "        \n",
    "        #x=Rphot_name['JD']- 2400000.5,\n",
    "        #y=Rphot_name['R'],\n",
    "        #yerr=Rphot_name['σ(R)'],\n",
    "        Rphot_select=Rphot_name[[Rphot_name.columns[3],Rphot_name.columns[7],Rphot_name.columns[8]]]\n",
    "        Rphot_i=Rphot_i.append(Rphot_select,ignore_index=True)\n",
    "        \n",
    "\n",
    "    return  Rphot_i             \n",
    " "
   ]
  },
  {
   "cell_type": "code",
   "execution_count": null,
   "metadata": {
    "ExecuteTime": {
     "end_time": "2022-10-17T05:29:42.320991Z",
     "start_time": "2022-10-17T05:29:40.983817Z"
    }
   },
   "outputs": [],
   "source": [
    "name_i= 'PKS 1510-08' \n",
    "Rphot_i =get_Rdata_name(root_dir,name_i)\n",
    "\n",
    "Rphot_i['mjd']=Rphot_i['JD']- 2400000.5\n",
    "Rphot_i=Rphot_i.sort_values('mjd')\n",
    "print(name_i)\n",
    "print(Rphot_i.columns)\n",
    "#Rphot_i.to_csv('%s/%s_R.csv'%(root_dir,name_i),index=False)\n"
   ]
  },
  {
   "cell_type": "code",
   "execution_count": null,
   "metadata": {
    "ExecuteTime": {
     "end_time": "2022-10-17T05:29:45.440031Z",
     "start_time": "2022-10-17T05:29:45.430313Z"
    }
   },
   "outputs": [],
   "source": [
    "len(Rphot_i)"
   ]
  },
  {
   "cell_type": "code",
   "execution_count": null,
   "metadata": {},
   "outputs": [],
   "source": []
  },
  {
   "cell_type": "markdown",
   "metadata": {},
   "source": [
    "# Fermi_AGN_list_ned"
   ]
  },
  {
   "cell_type": "code",
   "execution_count": null,
   "metadata": {
    "ExecuteTime": {
     "end_time": "2022-10-17T07:51:27.399243Z",
     "start_time": "2022-10-17T07:51:25.317988Z"
    }
   },
   "outputs": [],
   "source": [
    "Fermimonitor_website_AGN_list=pd.read_html('http://james.as.arizona.edu/~psmith/Fermi/Objects/targets.html',header=0)[0]"
   ]
  },
  {
   "cell_type": "code",
   "execution_count": null,
   "metadata": {
    "ExecuteTime": {
     "end_time": "2022-10-17T07:51:28.007049Z",
     "start_time": "2022-10-17T07:51:27.987204Z"
    }
   },
   "outputs": [],
   "source": [
    "Fermimonitor_website_AGN_list"
   ]
  },
  {
   "cell_type": "code",
   "execution_count": null,
   "metadata": {},
   "outputs": [],
   "source": []
  },
  {
   "cell_type": "code",
   "execution_count": null,
   "metadata": {
    "ExecuteTime": {
     "end_time": "2022-10-17T06:14:28.989063Z",
     "start_time": "2022-10-17T06:14:28.932025Z"
    }
   },
   "outputs": [],
   "source": [
    "Fermi_AGN_list=pd.read_excel('%s/FermiAGN_namelist_ned.xlsx'%root_dir,header=0,skiprows=[1,2],sheet_name='Sheet1')\n",
    "Fermi_AGN_list_name_redshift=Fermi_AGN_list[['      Input Object Name       ',' Redshift ']]"
   ]
  },
  {
   "cell_type": "code",
   "execution_count": null,
   "metadata": {
    "ExecuteTime": {
     "end_time": "2022-10-17T06:14:29.444389Z",
     "start_time": "2022-10-17T06:14:29.433718Z"
    }
   },
   "outputs": [],
   "source": [
    "Fermi_AGN_list.columns"
   ]
  },
  {
   "cell_type": "code",
   "execution_count": null,
   "metadata": {
    "ExecuteTime": {
     "end_time": "2022-10-17T06:10:44.075468Z",
     "start_time": "2022-10-17T06:10:44.056357Z"
    }
   },
   "outputs": [],
   "source": [
    "Fermi_AGN_list_name_redshift"
   ]
  },
  {
   "cell_type": "code",
   "execution_count": null,
   "metadata": {
    "ExecuteTime": {
     "end_time": "2022-10-17T06:14:47.777196Z",
     "start_time": "2022-10-17T06:14:47.732152Z"
    }
   },
   "outputs": [],
   "source": [
    "for i in range(len(Fermi_AGN_list_name_redshift)):\n",
    "    if isinstance(Fermi_AGN_list_name_redshift.iloc[i][1],(int,float)):        \n",
    "        Fermi_AGN_list_name_redshift.loc[i,'z_value']=Fermi_AGN_list_name_redshift.iloc[i][1]\n",
    "    else:\n",
    "        Fermi_AGN_list_name_redshift.loc[i,'z_value']=0        "
   ]
  },
  {
   "cell_type": "code",
   "execution_count": null,
   "metadata": {
    "ExecuteTime": {
     "end_time": "2022-10-17T06:15:06.121954Z",
     "start_time": "2022-10-17T06:15:06.111843Z"
    }
   },
   "outputs": [],
   "source": [
    "Fermi_AGN_list_name_redshift_T=Fermi_AGN_list_name_redshift[Fermi_AGN_list_name_redshift['z_value']>0]\n",
    "Fermi_AGN_list_name_redshift_T=Fermi_AGN_list_name_redshift_T.sort_values('z_value')\n",
    "Fermi_AGN_list_name_redshift_T=drop_index(Fermi_AGN_list_name_redshift_T)"
   ]
  },
  {
   "cell_type": "code",
   "execution_count": null,
   "metadata": {
    "ExecuteTime": {
     "end_time": "2022-10-17T06:15:11.610053Z",
     "start_time": "2022-10-17T06:15:11.588998Z"
    }
   },
   "outputs": [],
   "source": [
    "Fermi_AGN_list_name_redshift_T"
   ]
  },
  {
   "cell_type": "code",
   "execution_count": null,
   "metadata": {
    "ExecuteTime": {
     "end_time": "2022-07-13T06:54:41.618393Z",
     "start_time": "2022-07-13T06:54:41.614343Z"
    }
   },
   "outputs": [],
   "source": [
    "7000/6563-1"
   ]
  },
  {
   "cell_type": "markdown",
   "metadata": {},
   "source": [
    "## z<0.1"
   ]
  },
  {
   "cell_type": "code",
   "execution_count": null,
   "metadata": {
    "ExecuteTime": {
     "end_time": "2022-10-17T06:15:33.050721Z",
     "start_time": "2022-10-17T06:15:33.038715Z"
    }
   },
   "outputs": [],
   "source": [
    "Fermi_AGN_z_lt0dot1=Fermi_AGN_list_name_redshift_T[Fermi_AGN_list_name_redshift_T['z_value']<0.1]\n",
    "Fermi_AGN_z_lt0dot4=Fermi_AGN_list_name_redshift_T[Fermi_AGN_list_name_redshift_T['z_value']<0.4]\n",
    "\n",
    "Fermi_AGN_z_lt0dot1=drop_index(Fermi_AGN_z_lt0dot1)\n",
    "Fermi_AGN_z_lt0dot4=drop_index(Fermi_AGN_z_lt0dot4)"
   ]
  },
  {
   "cell_type": "code",
   "execution_count": null,
   "metadata": {
    "ExecuteTime": {
     "end_time": "2022-10-17T06:15:42.485193Z",
     "start_time": "2022-10-17T06:15:42.468234Z"
    }
   },
   "outputs": [],
   "source": [
    "Fermi_AGN_z_lt0dot1"
   ]
  },
  {
   "cell_type": "code",
   "execution_count": null,
   "metadata": {
    "ExecuteTime": {
     "end_time": "2022-10-17T06:15:53.458212Z",
     "start_time": "2022-10-17T06:15:53.439088Z"
    }
   },
   "outputs": [],
   "source": [
    "Fermi_AGN_z_lt0dot4"
   ]
  },
  {
   "cell_type": "code",
   "execution_count": null,
   "metadata": {
    "ExecuteTime": {
     "end_time": "2022-07-13T07:03:40.960213Z",
     "start_time": "2022-07-13T07:03:40.954357Z"
    }
   },
   "outputs": [],
   "source": [
    "root_data_dir"
   ]
  },
  {
   "cell_type": "code",
   "execution_count": null,
   "metadata": {
    "ExecuteTime": {
     "end_time": "2022-07-13T07:10:02.347600Z",
     "start_time": "2022-07-13T07:10:02.342090Z"
    }
   },
   "outputs": [],
   "source": [
    "Fermi_AGN_z_lt0dot1[Fermi_AGN_z_lt0dot1.columns[0]].values"
   ]
  },
  {
   "cell_type": "code",
   "execution_count": null,
   "metadata": {
    "ExecuteTime": {
     "end_time": "2022-07-13T07:11:17.467606Z",
     "start_time": "2022-07-13T07:11:17.462178Z"
    }
   },
   "outputs": [],
   "source": [
    "spec_info=pd.DataFrame([],columns=Fermi_AGN_z_lt0dot1[Fermi_AGN_z_lt0dot1.columns[0]].values)\n",
    "#spec_info.columns=Fermi_AGN_z_lt0dot1[Fermi_AGN_z_lt0dot1.columns[0]].values"
   ]
  },
  {
   "cell_type": "code",
   "execution_count": null,
   "metadata": {
    "ExecuteTime": {
     "end_time": "2022-07-13T07:11:21.466762Z",
     "start_time": "2022-07-13T07:11:21.456682Z"
    }
   },
   "outputs": [],
   "source": [
    "spec_info"
   ]
  },
  {
   "cell_type": "markdown",
   "metadata": {},
   "source": [
    "## 3C"
   ]
  },
  {
   "cell_type": "code",
   "execution_count": null,
   "metadata": {
    "ExecuteTime": {
     "end_time": "2022-08-24T02:31:58.547525Z",
     "start_time": "2022-08-24T02:31:58.540769Z"
    }
   },
   "outputs": [],
   "source": [
    "Fermi_3C_sources=['3C 273','3C 279','3C 345','3C 454.3','3C 66A']"
   ]
  },
  {
   "cell_type": "code",
   "execution_count": null,
   "metadata": {
    "ExecuteTime": {
     "end_time": "2022-07-15T08:44:31.123032Z",
     "start_time": "2022-07-15T08:44:30.996999Z"
    }
   },
   "outputs": [],
   "source": [
    "for i in Fermi_3C_sources:\n",
    "    #url_source=root_obj_url+i+'.html'\n",
    "    #print(url_source)\n",
    "    #print(i)\n",
    "    source_Name_i=i.strip()\n",
    "    source_name_i=Source_name_dict[source_Name_i]\n",
    "    #source_name=Source_name_dict[source_Name]  \n",
    "    spec_num=0\n",
    "    save_path_dir=os.path.join(root_data_dir,source_name_i)\n",
    "    #print(save_path_dir)\n",
    "    #os.chdir(save_path_dir)\n",
    "    for file in os.listdir(save_path_dir):\n",
    "        if os.path.isdir(os.path.join(save_path_dir,file)):\n",
    "            #print(file)\n",
    "            specfiles=os.listdir(os.path.join(save_path_dir,file))\n",
    "            for specfile in specfiles:\n",
    "                if specfile.find('spec')>0 and specfile.endswith('.fits'):\n",
    "                    spec_num=spec_num+1    \n",
    "                    #print(specfile[-11:-5])\n",
    "    print(source_Name_i,spec_num)        \n"
   ]
  },
  {
   "cell_type": "code",
   "execution_count": null,
   "metadata": {},
   "outputs": [],
   "source": [
    "3C 273"
   ]
  },
  {
   "cell_type": "code",
   "execution_count": null,
   "metadata": {
    "ExecuteTime": {
     "end_time": "2022-07-15T09:28:22.717971Z",
     "start_time": "2022-07-15T09:28:22.713582Z"
    }
   },
   "outputs": [],
   "source": [
    "146.8*(1+0.158339)"
   ]
  },
  {
   "cell_type": "markdown",
   "metadata": {},
   "source": [
    "### 3C273"
   ]
  },
  {
   "cell_type": "code",
   "execution_count": null,
   "metadata": {
    "ExecuteTime": {
     "end_time": "2022-07-17T13:00:48.000278Z",
     "start_time": "2022-07-17T13:00:47.684121Z"
    }
   },
   "outputs": [],
   "source": [
    "#source_name='pks1510'\n",
    "source_Name='3C 273'\n",
    "#source_Name=Source_Name_dict[source_name]\n",
    "source_name=Source_name_dict[source_Name]\n",
    "\n",
    "\n",
    "source_z=Fermi_AGN_list_name_redshift_T[Fermi_AGN_list_name_redshift_T['      Input Object Name       '].str.strip()==source_Name]['z_value']\n",
    "datatypes=['phot','pol']\n",
    "\n",
    "print(source_name,source_Name,source_z.values[0])\n",
    "\n",
    "spec_path=os.path.join(root_data_dir,source_name,source_name,'3c273.fc.spec_081124.fits')\n",
    "spec_path_fig=spec_path+'.png'\n",
    "\n",
    "date_spec_path=spec_path.split('.')[-2]\n",
    "spec_hdul=fits.open(spec_path)\n",
    "print(len(spec_hdul[0].data))\n",
    "\n",
    "\n",
    "fig = plt.figure(figsize=(12,8))\n",
    "fig.subplots_adjust(hspace=0.0, wspace = 0.0)\n",
    "ax = fig.add_subplot(111)\n",
    "\n",
    "\n",
    "lambda_spec=np.linspace(4000,7550,len(spec_hdul[0].data))\n",
    "\n",
    "ax.plot(lambda_spec/(1+source_z.values[0]),spec_hdul[0].data,color='red',marker='o',label=date_spec_path)\n",
    "#ax.plot(Fermi_monitir_lambdas,Fermi_monitor_AGN_R[0].data,color='blue',marker='o',label='R')\n",
    "\n",
    "#set_ax_locator(ax,xma=0.2,xmi=0.1,yma=10,ymi=5)\n",
    "set_ax_tick(ax)\n",
    "\n",
    "#ax.set_xlabel('Type')\n",
    "#ax2.set_xlabel('Type')\n",
    "ax.set_xlabel(r'$\\lambda/(1+z)(\\AA)$')\n",
    "ax.set_ylabel(r'flux')\n",
    "\n",
    "ax.set_title(source_Name)\n",
    "\n",
    "ax.xaxis.set_tick_params(which='major', size=10, width=2, rotation=45,)\n",
    "handles, labels = ax.get_legend_handles_labels()\n",
    "# remove the errorbars\n",
    "#hdl = [h[0] for h in handles]\n",
    "hdl = handles\n",
    "labels_dict=dict(zip(labels, hdl)) #key,values\n",
    "by_label=OrderedDict(sorted(labels_dict.items(),key=lambda t:t[0]))\n",
    "\n",
    "ax.legend(by_label.values(), by_label.keys(), bbox_to_anchor=(0.01, 0.99),\n",
    "          loc=2, numpoints=1,ncol=1,fontsize=11.)\n",
    "\n",
    "# use them in the legend\n",
    "#by_label = OrderedDict(zip(labels, handles)) \n",
    "#ax.legend(by_label.values(), by_label.keys(), bbox_to_anchor=(0.0, 0.9),loc=2, numpoints=1, fontsize=11. )\n",
    "\n",
    "\n",
    "#ax.semilogy()\n",
    "#ax.semilogx()\n",
    "\n",
    "#ax.set_xlim(5000,7400)\n",
    "#plt.legend()\n",
    "#spec_path_fig\n",
    "\n",
    "#fig.savefig(spec_path_fig, dpi=400, transparent=False, bbox_inches='tight')\n",
    "#fig.savefig('tansmission_curve_V_R.png', dpi=400, transparent=False, bbox_inches='tight')\n"
   ]
  },
  {
   "cell_type": "code",
   "execution_count": null,
   "metadata": {},
   "outputs": [],
   "source": []
  },
  {
   "cell_type": "code",
   "execution_count": null,
   "metadata": {},
   "outputs": [],
   "source": []
  },
  {
   "cell_type": "code",
   "execution_count": null,
   "metadata": {},
   "outputs": [],
   "source": []
  },
  {
   "cell_type": "markdown",
   "metadata": {},
   "source": [
    "## spec_Num"
   ]
  },
  {
   "cell_type": "code",
   "execution_count": null,
   "metadata": {
    "ExecuteTime": {
     "end_time": "2022-10-19T13:03:14.384554Z",
     "start_time": "2022-10-19T13:03:14.375505Z"
    }
   },
   "outputs": [],
   "source": [
    "len(Fermi_AGN_z_lt0dot4)"
   ]
  },
  {
   "cell_type": "code",
   "execution_count": null,
   "metadata": {
    "ExecuteTime": {
     "end_time": "2022-10-17T06:18:06.759454Z",
     "start_time": "2022-10-17T06:18:06.747891Z"
    }
   },
   "outputs": [],
   "source": [
    "Fermi_AGN_z_lt0dot4.columns"
   ]
  },
  {
   "cell_type": "code",
   "execution_count": null,
   "metadata": {
    "ExecuteTime": {
     "end_time": "2022-10-19T13:07:02.502547Z",
     "start_time": "2022-10-19T13:07:02.437689Z"
    }
   },
   "outputs": [],
   "source": [
    "Sources_spec_select_nofcfile=[]\n",
    "for index,i in enumerate(Fermi_AGN_z_lt0dot4[Fermi_AGN_z_lt0dot4.columns[0]]):\n",
    "    #url_source=root_obj_url+i+'.html'\n",
    "    #print(url_source)\n",
    "    #print(i)\n",
    "    source_Name_i=i.strip()\n",
    "    source_name_i=Source_name_dict[source_Name_i]\n",
    "    source_redshift=Fermi_AGN_z_lt0dot4['z_value'][index]\n",
    "    \n",
    "    #source_name=Source_name_dict[source_Name]  \n",
    "    spec_num=0\n",
    "    save_path_dir=os.path.join(root_data_dir,source_name_i)\n",
    "    #print(save_path_dir)\n",
    "    #os.chdir(save_path_dir)\n",
    "    for file in os.listdir(save_path_dir):\n",
    "        if os.path.isdir(os.path.join(save_path_dir,file)):\n",
    "            #print(file)\n",
    "            specfiles=os.listdir(os.path.join(save_path_dir,file))\n",
    "            for specfile in specfiles:\n",
    "                if specfile.find('.fc.spec')>0 and specfile.endswith('.fits'):\n",
    "                    spec_num=spec_num+1    \n",
    "                    #print(specfile[-11:-5])\n",
    "    if spec_num==0:\n",
    "        Sources_spec_select_nofcfile.append(source_Name_i)\n",
    "        print(source_Name_i,',',source_redshift,',',spec_num)    \n",
    "        \n"
   ]
  },
  {
   "cell_type": "code",
   "execution_count": null,
   "metadata": {
    "ExecuteTime": {
     "end_time": "2022-10-19T13:07:44.357851Z",
     "start_time": "2022-10-19T13:07:44.349045Z"
    }
   },
   "outputs": [],
   "source": [
    "Sources_spec_select_nofcfile"
   ]
  },
  {
   "cell_type": "code",
   "execution_count": null,
   "metadata": {
    "ExecuteTime": {
     "end_time": "2022-10-19T14:01:41.506881Z",
     "start_time": "2022-10-19T14:01:41.475967Z"
    }
   },
   "outputs": [],
   "source": [
    "Sources_spec_select_nofcfile_withspecfile=[]\n",
    "for index,i in enumerate(Sources_spec_select_nofcfile):\n",
    "    #url_source=root_obj_url+i+'.html'\n",
    "    #print(url_source)\n",
    "    #print(i)\n",
    "    source_Name_i=i.strip()\n",
    "    source_name_i=Source_name_dict[source_Name_i]\n",
    "    source_redshift=Fermi_AGN_z_lt0dot4['z_value'][index]\n",
    "    \n",
    "    #source_name=Source_name_dict[source_Name]  \n",
    "    spec_num=0\n",
    "    save_path_dir=os.path.join(root_data_dir,source_name_i)\n",
    "    #print(save_path_dir)\n",
    "    #os.chdir(save_path_dir)\n",
    "    for file in os.listdir(save_path_dir):\n",
    "        if os.path.isdir(os.path.join(save_path_dir,file)):\n",
    "            #print(file)\n",
    "            specfiles=os.listdir(os.path.join(save_path_dir,file))\n",
    "            for specfile in specfiles:\n",
    "                if specfile.find('.spec')>0 and specfile.endswith('.fits'):\n",
    "                    spec_num=spec_num+1  \n",
    "                    \n",
    "                    #print(specfile[-11:-5])\n",
    "    if spec_num>0:\n",
    "        print(source_Name_i,',',source_redshift,',',spec_num)  \n",
    "        Sources_spec_select_nofcfile_withspecfile.append(source_Name_i)\n"
   ]
  },
  {
   "cell_type": "code",
   "execution_count": null,
   "metadata": {
    "ExecuteTime": {
     "end_time": "2022-10-19T14:01:47.299245Z",
     "start_time": "2022-10-19T14:01:47.289199Z"
    }
   },
   "outputs": [],
   "source": [
    "Sources_spec_select_nofcfile_withspecfile"
   ]
  },
  {
   "cell_type": "code",
   "execution_count": null,
   "metadata": {},
   "outputs": [],
   "source": []
  },
  {
   "cell_type": "code",
   "execution_count": null,
   "metadata": {
    "ExecuteTime": {
     "end_time": "2022-10-19T13:07:26.582263Z",
     "start_time": "2022-10-19T13:07:26.513470Z"
    }
   },
   "outputs": [],
   "source": [
    "Sources_spec_select_fc=[]\n",
    "for index,i in enumerate(Fermi_AGN_z_lt0dot4[Fermi_AGN_z_lt0dot4.columns[0]]):\n",
    "    #url_source=root_obj_url+i+'.html'\n",
    "    #print(url_source)\n",
    "    #print(i)\n",
    "    source_Name_i=i.strip()\n",
    "    source_name_i=Source_name_dict[source_Name_i]\n",
    "    source_redshift=Fermi_AGN_z_lt0dot4['z_value'][index]\n",
    "    \n",
    "    #source_name=Source_name_dict[source_Name]  \n",
    "    spec_num=0\n",
    "    save_path_dir=os.path.join(root_data_dir,source_name_i)\n",
    "    #print(save_path_dir)\n",
    "    #os.chdir(save_path_dir)\n",
    "    for file in os.listdir(save_path_dir):\n",
    "        if os.path.isdir(os.path.join(save_path_dir,file)):\n",
    "            #print(file)\n",
    "            specfiles=os.listdir(os.path.join(save_path_dir,file))\n",
    "            for specfile in specfiles:\n",
    "                if specfile.find('.fc.spec')>0 and specfile.endswith('.fits'):\n",
    "                    spec_num=spec_num+1    \n",
    "                    #print(specfile[-11:-5])\n",
    "    if spec_num>0:\n",
    "        Sources_spec_select_fc.append(source_Name_i)\n",
    "        print(source_Name_i,',',source_redshift,',',spec_num)    \n",
    "        \n"
   ]
  },
  {
   "cell_type": "code",
   "execution_count": null,
   "metadata": {},
   "outputs": [],
   "source": [
    "Mrk 421 , 0.030021 , 605\n",
    "Mrk 501 , 0.032983 , 484\n",
    "1ES 2344+514 , 0.044 , 82\n",
    "1ES 1959+650 , 0.048 , 150\n",
    "BL Lac , 0.0686 , 720\n",
    "PKS 2155-304 , 0.1167 , 192\n",
    "ON 325 , 0.129 , 1\n",
    "H1426+428 , 0.129265 , 35\n",
    "3C 273 , 0.158339 , 301\n",
    "H1219+305 , 0.183599 , 34\n",
    "PKS 0736+01 , 0.18941 , 64\n",
    "OJ 287 , 0.3056 , 343\n",
    "S5 0716+714 , 0.31 , 158\n",
    "PKS 1749+096 , 0.322 , 3\n",
    "PKS 1510-08 , 0.36 , 376\n",
    "3C 66A , 0.37 , 355"
   ]
  },
  {
   "cell_type": "code",
   "execution_count": null,
   "metadata": {},
   "outputs": [],
   "source": []
  },
  {
   "cell_type": "code",
   "execution_count": null,
   "metadata": {},
   "outputs": [],
   "source": []
  },
  {
   "cell_type": "code",
   "execution_count": null,
   "metadata": {
    "ExecuteTime": {
     "end_time": "2022-10-17T06:24:16.361926Z",
     "start_time": "2022-10-17T06:24:16.351065Z"
    }
   },
   "outputs": [],
   "source": [
    "Sources_spec_select"
   ]
  },
  {
   "cell_type": "code",
   "execution_count": null,
   "metadata": {},
   "outputs": [],
   "source": []
  },
  {
   "cell_type": "code",
   "execution_count": null,
   "metadata": {},
   "outputs": [],
   "source": []
  },
  {
   "cell_type": "code",
   "execution_count": null,
   "metadata": {},
   "outputs": [],
   "source": []
  },
  {
   "cell_type": "markdown",
   "metadata": {},
   "source": [
    "Name spec_NUM\n",
    "PKS 1510-08 451\n",
    "Mrk 421 843\n",
    "Mrk 501 609\n",
    "1ES 2344+514 238\n",
    "1ES 1959+650 195\n",
    "1H 0323+342 3\n",
    "BL Lac 757"
   ]
  },
  {
   "cell_type": "markdown",
   "metadata": {},
   "source": [
    "## Rband_num"
   ]
  },
  {
   "cell_type": "code",
   "execution_count": null,
   "metadata": {
    "ExecuteTime": {
     "end_time": "2022-08-24T01:59:43.593402Z",
     "start_time": "2022-08-24T01:59:43.504817Z"
    }
   },
   "outputs": [],
   "source": [
    "i=0\n",
    "Rphot=pd.read_excel(os.path.join(Rphot_dir,'Rphot_Cycle%d.xlsx'%(i+1)))"
   ]
  },
  {
   "cell_type": "code",
   "execution_count": null,
   "metadata": {
    "ExecuteTime": {
     "end_time": "2022-08-24T01:59:43.886799Z",
     "start_time": "2022-08-24T01:59:43.876457Z"
    }
   },
   "outputs": [],
   "source": [
    "Rphot['Object'][0]"
   ]
  },
  {
   "cell_type": "code",
   "execution_count": null,
   "metadata": {
    "ExecuteTime": {
     "end_time": "2022-07-13T07:45:55.128218Z",
     "start_time": "2022-07-13T07:45:55.123262Z"
    }
   },
   "outputs": [],
   "source": [
    "for name_i in Fermi_AGN_z_lt0dot1[Fermi_AGN_z_lt0dot1.columns[0]]:\n",
    "    #url_source=root_obj_url+i+'.html'\n",
    "    #print(url_source)\n",
    "    #print(i)\n",
    "    source_Name_i=name_i.strip()\n",
    "    source_name_i=Source_name_dict[source_Name_i]\n",
    "    print(source_Name_i)"
   ]
  },
  {
   "cell_type": "code",
   "execution_count": null,
   "metadata": {
    "ExecuteTime": {
     "end_time": "2022-07-13T07:50:09.013118Z",
     "start_time": "2022-07-13T07:50:00.234985Z"
    }
   },
   "outputs": [],
   "source": [
    "for name_i in Fermi_AGN_z_lt0dot1[Fermi_AGN_z_lt0dot1.columns[0]]:\n",
    "    #url_source=root_obj_url+i+'.html'\n",
    "    #print(url_source)\n",
    "    #print(i)\n",
    "    source_Name_i=name_i.strip()\n",
    "    \n",
    "    if source_Name_i.startswith('PKS') or source_Name_i.startswith('1ES') or source_Name_i.startswith('1H'):\n",
    "        source_Name_i_Rband=source_Name_i.replace(' ','')\n",
    "    \n",
    "    else:\n",
    "        source_Name_i_Rband=source_Name_i\n",
    "        \n",
    "    source_name_i=Source_name_dict[source_Name_i]\n",
    "    #source_name=Source_name_dict[source_Name]  \n",
    "    Rband_num=0 \n",
    "    \n",
    "    for i in range(10):\n",
    "        Rphot=pd.read_excel(os.path.join(Rphot_dir,'Rphot_Cycle%d.xlsx'%(i+1)))\n",
    "        Rphot_name= Rphot[Rphot['Object']==source_Name_i_Rband]   \n",
    "        Rband_num=len(Rphot_name)+Rband_num\n",
    "    print(source_Name_i,Rband_num)          \n",
    "        "
   ]
  },
  {
   "cell_type": "markdown",
   "metadata": {},
   "source": [
    "## Rbandplot"
   ]
  },
  {
   "cell_type": "code",
   "execution_count": null,
   "metadata": {
    "ExecuteTime": {
     "end_time": "2022-07-13T09:06:22.340220Z",
     "start_time": "2022-07-13T09:05:45.363109Z"
    }
   },
   "outputs": [],
   "source": [
    "for name_i in Fermi_AGN_z_lt0dot1[Fermi_AGN_z_lt0dot1.columns[0]]:\n",
    "    #url_source=root_obj_url+i+'.html'\n",
    "    #print(url_source)\n",
    "    #print(i)\n",
    "    source_Name_i=name_i.strip()\n",
    "    \n",
    "    if source_Name_i.startswith('PKS') or source_Name_i.startswith('1ES') or source_Name_i.startswith('1H'):\n",
    "        source_Name_i_Rband=source_Name_i.replace(' ','')\n",
    "    \n",
    "    else:\n",
    "        source_Name_i_Rband=source_Name_i\n",
    "        \n",
    "    source_name_i=Source_name_dict[source_Name_i]\n",
    "    #source_name=Source_name_dict[source_Name]  \n",
    "    #Rband_num=0 \n",
    "    pol_path_fig=os.path.join(root_dir,source_name_i+'_Rphot_lc.png')\n",
    "    \n",
    "    fig = plt.figure(figsize=(12,8))\n",
    "    fig.subplots_adjust(hspace=0.0, wspace = 0.0)\n",
    "    ax = fig.add_subplot(111) \n",
    "    \n",
    "    for i in range(10):\n",
    "        Rphot=pd.read_excel(os.path.join(Rphot_dir,'Rphot_Cycle%d.xlsx'%(i+1)))\n",
    "        Rphot_name= Rphot[Rphot['Object']==source_Name_i_Rband]   \n",
    "        \n",
    "        ax.errorbar(x=Rphot_name['JD']- 2400000.5,\n",
    "                    y=Rphot_name['R'],\n",
    "                    yerr=Rphot_name['σ(R)'],\n",
    "                    color='red',marker='o',label='R')\n",
    "\n",
    "    set_ax_tick(ax)\n",
    "    plot_secax(ax,mi_interval=365,ma_interval=365*2)\n",
    "    \n",
    "    bottom, top = ax.set_ylim() \n",
    "    if bottom< top:\n",
    "        ax.set_ylim(top,bottom)\n",
    "        \n",
    "    #ax.set_xlabel('Type')\n",
    "    #ax2.set_xlabel('Type')\n",
    "    ax.set_xlabel(r'MJD(Day)')\n",
    "    ax.set_ylabel(r'R (mag)')\n",
    "\n",
    "    ax.set_title(source_Name_i)\n",
    "\n",
    "    ax.xaxis.set_tick_params(which='major', size=10, width=2, rotation=45,)\n",
    "    handles, labels = ax.get_legend_handles_labels()\n",
    "    # remove the errorbars\n",
    "    #hdl = [h[0] for h in handles]\n",
    "    hdl = handles\n",
    "    labels_dict=dict(zip(labels, hdl)) #key,values\n",
    "    by_label=OrderedDict(sorted(labels_dict.items(),key=lambda t:t[0]))\n",
    "\n",
    "    ax.legend(by_label.values(), by_label.keys(), bbox_to_anchor=(0.01, 0.99),\n",
    "          loc=2, numpoints=1,ncol=1,fontsize=11.)\n",
    "\n",
    "    # use them in the legend\n",
    "    #by_label = OrderedDict(zip(labels, handles)) \n",
    "    #ax.legend(by_label.values(), by_label.keys(), bbox_to_anchor=(0.0, 0.9),loc=2, numpoints=1, fontsize=11. )\n",
    "    #ax.semilogy()\n",
    "    #ax.semilogx()\n",
    "    #ax.set_xlim(0.0,0.6)\n",
    "    #plt.legend()\n",
    "    #spec_path_fig\n",
    "    fig.savefig(pol_path_fig, dpi=400, transparent=False, bbox_inches='tight')        \n",
    "        "
   ]
  },
  {
   "cell_type": "code",
   "execution_count": null,
   "metadata": {
    "ExecuteTime": {
     "end_time": "2022-07-18T09:22:52.268116Z",
     "start_time": "2022-07-18T09:22:23.643482Z"
    }
   },
   "outputs": [],
   "source": [
    "#for name_i in Fermi_AGN_z_lt0dot1[Fermi_AGN_z_lt0dot1.columns[0]]:\n",
    "for name_i in Fermi_3C_sources:\n",
    "    #url_source=root_obj_url+i+'.html'\n",
    "    #print(url_source)\n",
    "    #print(i)\n",
    "    source_Name_i=name_i.strip()\n",
    "    \n",
    "    if source_Name_i.startswith('PKS') or source_Name_i.startswith('1ES') or source_Name_i.startswith('1H'):\n",
    "        source_Name_i_Rband=source_Name_i.replace(' ','')\n",
    "    \n",
    "    else:\n",
    "        source_Name_i_Rband=source_Name_i\n",
    "        \n",
    "    source_name_i=Source_name_dict[source_Name_i]\n",
    "    #source_name=Source_name_dict[source_Name]  \n",
    "    #Rband_num=0 \n",
    "    pol_path_fig=os.path.join(root_dir,source_name_i+'_Rphot_lc.png')\n",
    "    \n",
    "    fig = plt.figure(figsize=(12,8))\n",
    "    fig.subplots_adjust(hspace=0.0, wspace = 0.0)\n",
    "    ax = fig.add_subplot(111) \n",
    "    \n",
    "    for i in range(10):\n",
    "        Rphot=pd.read_excel(os.path.join(Rphot_dir,'Rphot_Cycle%d.xlsx'%(i+1)))\n",
    "        Rphot_name= Rphot[Rphot['Object']==source_Name_i_Rband]   \n",
    "        \n",
    "        ax.errorbar(x=Rphot_name['JD']- 2400000.5,\n",
    "                    y=Rphot_name['R'],\n",
    "                    yerr=Rphot_name['σ(R)'],\n",
    "                    color='red',marker='o',label='R')\n",
    "\n",
    "    set_ax_tick(ax)\n",
    "    plot_secax(ax,mi_interval=365,ma_interval=365*2)\n",
    "    \n",
    "    bottom, top = ax.set_ylim() \n",
    "    if bottom< top:\n",
    "        ax.set_ylim(top,bottom)\n",
    "        \n",
    "    #ax.set_xlabel('Type')\n",
    "    #ax2.set_xlabel('Type')\n",
    "    ax.set_xlabel(r'MJD(Day)')\n",
    "    ax.set_ylabel(r'R (mag)')\n",
    "\n",
    "    ax.set_title(source_Name_i)\n",
    "\n",
    "    ax.xaxis.set_tick_params(which='major', size=10, width=2, rotation=45,)\n",
    "    handles, labels = ax.get_legend_handles_labels()\n",
    "    # remove the errorbars\n",
    "    #hdl = [h[0] for h in handles]\n",
    "    hdl = handles\n",
    "    labels_dict=dict(zip(labels, hdl)) #key,values\n",
    "    by_label=OrderedDict(sorted(labels_dict.items(),key=lambda t:t[0]))\n",
    "\n",
    "    ax.legend(by_label.values(), by_label.keys(), bbox_to_anchor=(0.01, 0.99),\n",
    "          loc=2, numpoints=1,ncol=1,fontsize=11.)\n",
    "\n",
    "    # use them in the legend\n",
    "    #by_label = OrderedDict(zip(labels, handles)) \n",
    "    #ax.legend(by_label.values(), by_label.keys(), bbox_to_anchor=(0.0, 0.9),loc=2, numpoints=1, fontsize=11. )\n",
    "    #ax.semilogy()\n",
    "    #ax.semilogx()\n",
    "    #ax.set_xlim(0.0,0.6)\n",
    "    #plt.legend()\n",
    "    #spec_path_fig\n",
    "    fig.savefig(pol_path_fig, dpi=400, transparent=False, bbox_inches='tight')        \n",
    "        "
   ]
  },
  {
   "cell_type": "markdown",
   "metadata": {},
   "source": [
    "### Sources_select=['PKS 1510-08']"
   ]
  },
  {
   "cell_type": "code",
   "execution_count": null,
   "metadata": {
    "ExecuteTime": {
     "end_time": "2022-08-24T03:55:44.647786Z",
     "start_time": "2022-08-24T03:55:42.144163Z"
    }
   },
   "outputs": [],
   "source": [
    "#for name_i in Fermi_AGN_z_lt0dot1[Fermi_AGN_z_lt0dot1.columns[0]]:\n",
    "for name_i in Sources_select:\n",
    "    #url_source=root_obj_url+i+'.html'\n",
    "    #print(url_source)\n",
    "    #print(i)\n",
    "    source_Name_i=name_i.strip()\n",
    "    \n",
    "    if source_Name_i.startswith('PKS') or source_Name_i.startswith('1ES') or source_Name_i.startswith('1H'):\n",
    "        source_Name_i_Rband=source_Name_i.replace(' ','')\n",
    "    \n",
    "    else:\n",
    "        source_Name_i_Rband=source_Name_i\n",
    "        \n",
    "    source_name_i=Source_name_dict[source_Name_i]\n",
    "    #source_name=Source_name_dict[source_Name]  \n",
    "    #Rband_num=0 \n",
    "    pol_path_fig=os.path.join(root_dir,source_name_i+'_Rphot_lc.png')\n",
    "    \n",
    "    fig = plt.figure(figsize=(12,8))\n",
    "    fig.subplots_adjust(hspace=0.0, wspace = 0.0)\n",
    "    ax = fig.add_subplot(111) \n",
    "    \n",
    "    for i in range(10):\n",
    "        Rphot=pd.read_excel(os.path.join(Rphot_dir,'Rphot_Cycle%d.xlsx'%(i+1)))\n",
    "        Rphot_name= Rphot[Rphot['Object']==source_Name_i_Rband]   \n",
    "        \n",
    "        ax.errorbar(x=Rphot_name['JD']- 2400000.5,\n",
    "                    y=Rphot_name['R'],\n",
    "                    yerr=Rphot_name['σ(R)'],\n",
    "                    color='red',marker='o',label='R')\n",
    "\n",
    "    set_ax_tick(ax)\n",
    "    plot_secax(ax,mi_interval=365,ma_interval=365*2)\n",
    "    \n",
    "    bottom, top = ax.set_ylim() \n",
    "    if bottom< top:\n",
    "        ax.set_ylim(top,bottom)\n",
    "        \n",
    "    #ax.set_xlabel('Type')\n",
    "    #ax2.set_xlabel('Type')\n",
    "    ax.set_xlabel(r'MJD(Day)')\n",
    "    ax.set_ylabel(r'R (mag)')\n",
    "\n",
    "    ax.set_title(source_Name_i)\n",
    "\n",
    "    ax.xaxis.set_tick_params(which='major', size=10, width=2, rotation=45,)\n",
    "    handles, labels = ax.get_legend_handles_labels()\n",
    "    # remove the errorbars\n",
    "    #hdl = [h[0] for h in handles]\n",
    "    hdl = handles\n",
    "    labels_dict=dict(zip(labels, hdl)) #key,values\n",
    "    by_label=OrderedDict(sorted(labels_dict.items(),key=lambda t:t[0]))\n",
    "\n",
    "    ax.legend(by_label.values(), by_label.keys(), bbox_to_anchor=(0.01, 0.99),\n",
    "          loc=2, numpoints=1,ncol=1,fontsize=11.)\n",
    "\n",
    "    # use them in the legend\n",
    "    #by_label = OrderedDict(zip(labels, handles)) \n",
    "    #ax.legend(by_label.values(), by_label.keys(), bbox_to_anchor=(0.0, 0.9),loc=2, numpoints=1, fontsize=11. )\n",
    "    #ax.semilogy()\n",
    "    #ax.semilogx()\n",
    "    #ax.set_xlim(0.0,0.6)\n",
    "    #plt.legend()\n",
    "    #spec_path_fig\n",
    "    fig.savefig(pol_path_fig, dpi=400, transparent=False, bbox_inches='tight')        \n",
    "        "
   ]
  },
  {
   "cell_type": "markdown",
   "metadata": {},
   "source": [
    "## poloarization"
   ]
  },
  {
   "cell_type": "code",
   "execution_count": null,
   "metadata": {
    "ExecuteTime": {
     "end_time": "2022-08-24T05:25:05.711589Z",
     "start_time": "2022-08-24T05:25:05.677732Z"
    }
   },
   "outputs": [],
   "source": [
    "source_name_i='pks1510'\n",
    "prefix=''\n",
    "Poldata=pd.read_excel(os.path.join(root_data_dir,source_name_i,'%s_pol'%source_name_i+prefix+'.xlsx'))\n",
    "print(Poldata.columns[3],Poldata.columns[9],Poldata.columns[10])"
   ]
  },
  {
   "cell_type": "markdown",
   "metadata": {
    "ExecuteTime": {
     "end_time": "2022-08-24T02:41:51.587742Z",
     "start_time": "2022-08-24T02:41:51.562592Z"
    }
   },
   "source": [
    "Poldata[[Poldata.columns[3],Poldata.columns[9],Poldata.columns[10]]]"
   ]
  },
  {
   "cell_type": "code",
   "execution_count": null,
   "metadata": {
    "ExecuteTime": {
     "end_time": "2022-08-24T05:25:08.791724Z",
     "start_time": "2022-08-24T05:25:08.778257Z"
    }
   },
   "outputs": [],
   "source": [
    "Poldata.columns"
   ]
  },
  {
   "cell_type": "code",
   "execution_count": null,
   "metadata": {},
   "outputs": [],
   "source": []
  },
  {
   "cell_type": "code",
   "execution_count": null,
   "metadata": {},
   "outputs": [],
   "source": []
  },
  {
   "cell_type": "code",
   "execution_count": null,
   "metadata": {
    "ExecuteTime": {
     "end_time": "2022-08-24T02:32:09.878037Z",
     "start_time": "2022-08-24T02:32:09.867483Z"
    }
   },
   "outputs": [],
   "source": [
    "Fermi_3C_sources"
   ]
  },
  {
   "cell_type": "code",
   "execution_count": null,
   "metadata": {
    "ExecuteTime": {
     "end_time": "2022-07-18T03:44:34.442799Z",
     "start_time": "2022-07-18T03:44:14.761399Z"
    }
   },
   "outputs": [],
   "source": [
    "#for name_i in Fermi_AGN_z_lt0dot1[Fermi_AGN_z_lt0dot1.columns[0]]:\n",
    "for name_i in Fermi_3C_sources:\n",
    "    #url_source=root_obj_url+i+'.html'\n",
    "    #print(url_source)\n",
    "    #print(i)\n",
    "    source_Name_i=name_i.strip()\n",
    "    \n",
    "    if source_Name_i.startswith('PKS') or source_Name_i.startswith('1ES') or source_Name_i.startswith('1H'):\n",
    "        source_Name_i_Rband=source_Name_i.replace(' ','')\n",
    "    \n",
    "    else:\n",
    "        source_Name_i_Rband=source_Name_i\n",
    "        \n",
    "    source_name_i=Source_name_dict[source_Name_i]\n",
    "    #source_name=Source_name_dict[source_Name]  \n",
    "    \n",
    "    pol_path_fig=os.path.join(root_dir,source_name_i+'_pol_lc.png')\n",
    "    \n",
    "    fig = plt.figure(figsize=(12,8))\n",
    "    fig.subplots_adjust(hspace=0.0, wspace = 0.0)\n",
    "    ax = fig.add_subplot(111)    \n",
    "    \n",
    "    for i in range(10):\n",
    "        if i==0:\n",
    "            prefix=''\n",
    "        else:\n",
    "            prefix='_%d'%(i+1)\n",
    "        \n",
    "        Polpath=os.path.join(root_data_dir,source_name_i,'%s_pol'%source_name_i+prefix+'.xlsx')\n",
    "        if os.path.exists(Polpath):\n",
    "            Poldata=pd.read_excel(Polpath)              \n",
    "            ax.errorbar(x=Poldata['JD']- 2400000.5,\n",
    "                    #y=Poldata['P (%)'],\n",
    "                    #yerr=Poldata['σ(P) (%)'],\n",
    "                    y=Poldata[Poldata.columns[9]],\n",
    "                    yerr=Poldata[Poldata.columns[10]],    \n",
    "                    color='red',marker='o',label='P (%)')\n",
    "\n",
    "    set_ax_tick(ax)\n",
    "    plot_secax(ax,mi_interval=365,ma_interval=365*2)\n",
    "    #ax.set_xlabel('Type')\n",
    "    #ax2.set_xlabel('Type')\n",
    "    ax.set_xlabel(r'MJD(Day)')\n",
    "    ax.set_ylabel(r'polarization degree')\n",
    "\n",
    "    ax.set_title(source_Name_i)\n",
    "\n",
    "    ax.xaxis.set_tick_params(which='major', size=10, width=2, rotation=45,)\n",
    "    handles, labels = ax.get_legend_handles_labels()\n",
    "    # remove the errorbars\n",
    "    #hdl = [h[0] for h in handles]\n",
    "    hdl = handles\n",
    "    labels_dict=dict(zip(labels, hdl)) #key,values\n",
    "    by_label=OrderedDict(sorted(labels_dict.items(),key=lambda t:t[0]))\n",
    "\n",
    "    ax.legend(by_label.values(), by_label.keys(), bbox_to_anchor=(0.01, 0.99),\n",
    "          loc=2, numpoints=1,ncol=1,fontsize=11.)\n",
    "\n",
    "    # use them in the legend\n",
    "    #by_label = OrderedDict(zip(labels, handles)) \n",
    "    #ax.legend(by_label.values(), by_label.keys(), bbox_to_anchor=(0.0, 0.9),loc=2, numpoints=1, fontsize=11. )\n",
    "    #ax.semilogy()\n",
    "    #ax.semilogx()\n",
    "    #ax.set_xlim(0.0,0.6)\n",
    "    #plt.legend()\n",
    "    #spec_path_fig\n",
    "    ax.set_xlim(54800,57200)\n",
    "    fig.savefig(pol_path_fig, dpi=400, transparent=False, bbox_inches='tight')\n",
    "        #fig.savefig('tansmission_curve_V_R.png', dpi=400, transparent=False, bbox_inches='tight')\n"
   ]
  },
  {
   "cell_type": "markdown",
   "metadata": {},
   "source": [
    "### PKS 1510-08"
   ]
  },
  {
   "cell_type": "code",
   "execution_count": null,
   "metadata": {
    "ExecuteTime": {
     "end_time": "2022-08-24T02:34:14.815021Z",
     "start_time": "2022-08-24T02:34:14.807926Z"
    }
   },
   "outputs": [],
   "source": [
    "Sources_select=['PKS 1510-08']"
   ]
  },
  {
   "cell_type": "code",
   "execution_count": null,
   "metadata": {
    "ExecuteTime": {
     "end_time": "2022-08-24T02:38:17.323088Z",
     "start_time": "2022-08-24T02:38:15.653967Z"
    }
   },
   "outputs": [],
   "source": [
    "#for name_i in Fermi_AGN_z_lt0dot1[Fermi_AGN_z_lt0dot1.columns[0]]:\n",
    "for name_i in Sources_select:\n",
    "    #url_source=root_obj_url+i+'.html'\n",
    "    #print(url_source)\n",
    "    #print(i)\n",
    "    source_Name_i=name_i.strip()\n",
    "    \n",
    "    if source_Name_i.startswith('PKS') or source_Name_i.startswith('1ES') or source_Name_i.startswith('1H'):\n",
    "        source_Name_i_Rband=source_Name_i.replace(' ','')\n",
    "    \n",
    "    else:\n",
    "        source_Name_i_Rband=source_Name_i\n",
    "        \n",
    "    source_name_i=Source_name_dict[source_Name_i]\n",
    "    #source_name=Source_name_dict[source_Name]  \n",
    "    \n",
    "    pol_path_fig=os.path.join(root_dir,source_name_i+'_pol_lc.png')\n",
    "    \n",
    "    fig = plt.figure(figsize=(12,8))\n",
    "    fig.subplots_adjust(hspace=0.0, wspace = 0.0)\n",
    "    ax = fig.add_subplot(111)    \n",
    "    \n",
    "    for i in range(10):\n",
    "        if i==0:\n",
    "            prefix=''\n",
    "        else:\n",
    "            prefix='_%d'%(i+1)\n",
    "        \n",
    "        Polpath=os.path.join(root_data_dir,source_name_i,'%s_pol'%source_name_i+prefix+'.xlsx')\n",
    "        if os.path.exists(Polpath):\n",
    "            Poldata=pd.read_excel(Polpath)              \n",
    "            ax.errorbar(x=Poldata['JD']- 2400000.5,\n",
    "                    #y=Poldata['P (%)'],\n",
    "                    #yerr=Poldata['σ(P) (%)'],\n",
    "                    y=Poldata[Poldata.columns[9]],\n",
    "                    yerr=Poldata[Poldata.columns[10]],    \n",
    "                    color='red',marker='o',label='P (%)')\n",
    "\n",
    "    set_ax_tick(ax)\n",
    "    plot_secax(ax,mi_interval=365,ma_interval=365*2)\n",
    "    #ax.set_xlabel('Type')\n",
    "    #ax2.set_xlabel('Type')\n",
    "    ax.set_xlabel(r'MJD(Day)')\n",
    "    ax.set_ylabel(r'polarization degree')\n",
    "\n",
    "    ax.set_title(source_Name_i)\n",
    "\n",
    "    ax.xaxis.set_tick_params(which='major', size=10, width=2, rotation=45,)\n",
    "    handles, labels = ax.get_legend_handles_labels()\n",
    "    # remove the errorbars\n",
    "    #hdl = [h[0] for h in handles]\n",
    "    hdl = handles\n",
    "    labels_dict=dict(zip(labels, hdl)) #key,values\n",
    "    by_label=OrderedDict(sorted(labels_dict.items(),key=lambda t:t[0]))\n",
    "\n",
    "    ax.legend(by_label.values(), by_label.keys(), bbox_to_anchor=(0.01, 0.99),\n",
    "          loc=2, numpoints=1,ncol=1,fontsize=11.)\n",
    "\n",
    "    # use them in the legend\n",
    "    #by_label = OrderedDict(zip(labels, handles)) \n",
    "    #ax.legend(by_label.values(), by_label.keys(), bbox_to_anchor=(0.0, 0.9),loc=2, numpoints=1, fontsize=11. )\n",
    "    #ax.semilogy()\n",
    "    #ax.semilogx()\n",
    "    #ax.set_xlim(0.0,0.6)\n",
    "    #plt.legend()\n",
    "    #spec_path_fig\n",
    "    #ax.set_xlim(54800,57200)\n",
    "    fig.savefig(pol_path_fig, dpi=400, transparent=False, bbox_inches='tight')\n",
    "        #fig.savefig('tansmission_curve_V_R.png', dpi=400, transparent=False, bbox_inches='tight')\n"
   ]
  },
  {
   "cell_type": "code",
   "execution_count": null,
   "metadata": {},
   "outputs": [],
   "source": []
  },
  {
   "cell_type": "code",
   "execution_count": null,
   "metadata": {},
   "outputs": [],
   "source": []
  },
  {
   "cell_type": "markdown",
   "metadata": {},
   "source": [
    "## Vphot"
   ]
  },
  {
   "cell_type": "code",
   "execution_count": null,
   "metadata": {
    "ExecuteTime": {
     "end_time": "2022-07-13T08:26:50.239006Z",
     "start_time": "2022-07-13T08:26:24.573141Z"
    }
   },
   "outputs": [],
   "source": [
    "for name_i in Fermi_AGN_z_lt0dot1[Fermi_AGN_z_lt0dot1.columns[0]]:\n",
    "    #url_source=root_obj_url+i+'.html'\n",
    "    #print(url_source)\n",
    "    #print(i)\n",
    "    source_Name_i=name_i.strip()\n",
    "    \n",
    "    if source_Name_i.startswith('PKS') or source_Name_i.startswith('1ES') or source_Name_i.startswith('1H'):\n",
    "        source_Name_i_Rband=source_Name_i.replace(' ','')\n",
    "    \n",
    "    else:\n",
    "        source_Name_i_Rband=source_Name_i\n",
    "        \n",
    "    source_name_i=Source_name_dict[source_Name_i]\n",
    "    #source_name=Source_name_dict[source_Name]  \n",
    "    \n",
    "    pol_path_fig=os.path.join(root_dir,source_name_i+'_Vphot_lc.png')\n",
    "    \n",
    "    fig = plt.figure(figsize=(12,8))\n",
    "    fig.subplots_adjust(hspace=0.0, wspace = 0.0)\n",
    "    ax = fig.add_subplot(111)    \n",
    "    \n",
    "    for i in range(10):\n",
    "        if i==0:\n",
    "            prefix=''\n",
    "        else:\n",
    "            prefix='_%d'%(i+1)\n",
    "        \n",
    "        Polpath=os.path.join(root_data_dir,source_name_i,'%s_phot'%source_name_i+prefix+'.xlsx')\n",
    "        if os.path.exists(Polpath):\n",
    "            Poldata=pd.read_excel(Polpath)        \n",
    "            ax.errorbar(x=Poldata['JD']- 2400000.5,\n",
    "                    y=Poldata['V'],\n",
    "                    yerr=Poldata['σ(V)'],\n",
    "                    color='red',marker='o',label='V')\n",
    "\n",
    "    set_ax_tick(ax)\n",
    "    plot_secax(ax,mi_interval=365,ma_interval=365*2)\n",
    "    \n",
    "    bottom, top = ax.set_ylim() \n",
    "    if bottom< top:\n",
    "        ax.set_ylim(top,bottom)\n",
    "        \n",
    "    #ax.set_xlabel('Type')\n",
    "    #ax2.set_xlabel('Type')\n",
    "    ax.set_xlabel(r'MJD(Day)')\n",
    "    ax.set_ylabel(r'V (mag)')\n",
    "\n",
    "    ax.set_title(source_Name_i)\n",
    "\n",
    "    ax.xaxis.set_tick_params(which='major', size=10, width=2, rotation=45,)\n",
    "    handles, labels = ax.get_legend_handles_labels()\n",
    "    # remove the errorbars\n",
    "    #hdl = [h[0] for h in handles]\n",
    "    hdl = handles\n",
    "    labels_dict=dict(zip(labels, hdl)) #key,values\n",
    "    by_label=OrderedDict(sorted(labels_dict.items(),key=lambda t:t[0]))\n",
    "\n",
    "    ax.legend(by_label.values(), by_label.keys(), bbox_to_anchor=(0.01, 0.99),\n",
    "          loc=2, numpoints=1,ncol=1,fontsize=11.)\n",
    "\n",
    "    # use them in the legend\n",
    "    #by_label = OrderedDict(zip(labels, handles)) \n",
    "    #ax.legend(by_label.values(), by_label.keys(), bbox_to_anchor=(0.0, 0.9),loc=2, numpoints=1, fontsize=11. )\n",
    "    #ax.semilogy()\n",
    "    #ax.semilogx()\n",
    "    #ax.set_xlim(0.0,0.6)\n",
    "    #plt.legend()\n",
    "    #spec_path_fig\n",
    "    fig.savefig(pol_path_fig, dpi=400, transparent=False, bbox_inches='tight')\n",
    "        #fig.savefig('tansmission_curve_V_R.png', dpi=400, transparent=False, bbox_inches='tight')\n"
   ]
  },
  {
   "cell_type": "code",
   "execution_count": null,
   "metadata": {
    "ExecuteTime": {
     "end_time": "2022-07-18T09:26:31.868928Z",
     "start_time": "2022-07-18T09:26:10.587585Z"
    }
   },
   "outputs": [],
   "source": [
    "#for name_i in Fermi_AGN_z_lt0dot1[Fermi_AGN_z_lt0dot1.columns[0]]:\n",
    "for name_i in Fermi_3C_sources:    \n",
    "    #url_source=root_obj_url+i+'.html'\n",
    "    #print(url_source)\n",
    "    #print(i)\n",
    "    source_Name_i=name_i.strip()\n",
    "    \n",
    "    if source_Name_i.startswith('PKS') or source_Name_i.startswith('1ES') or source_Name_i.startswith('1H'):\n",
    "        source_Name_i_Rband=source_Name_i.replace(' ','')\n",
    "    \n",
    "    else:\n",
    "        source_Name_i_Rband=source_Name_i\n",
    "        \n",
    "    source_name_i=Source_name_dict[source_Name_i]\n",
    "    #source_name=Source_name_dict[source_Name]  \n",
    "    \n",
    "    pol_path_fig=os.path.join(root_dir,source_name_i+'_Vphot_lc.png')\n",
    "    \n",
    "    fig = plt.figure(figsize=(12,8))\n",
    "    fig.subplots_adjust(hspace=0.0, wspace = 0.0)\n",
    "    ax = fig.add_subplot(111)    \n",
    "    \n",
    "    for i in range(10):\n",
    "        if i==0:\n",
    "            prefix=''\n",
    "        else:\n",
    "            prefix='_%d'%(i+1)\n",
    "        \n",
    "        Polpath=os.path.join(root_data_dir,source_name_i,'%s_phot'%source_name_i+prefix+'.xlsx')\n",
    "        if os.path.exists(Polpath):\n",
    "            Poldata=pd.read_excel(Polpath)        \n",
    "            ax.errorbar(x=Poldata['JD']- 2400000.5,\n",
    "                    #y=Poldata['V'],\n",
    "                    #yerr=Poldata['σ(V)'],\n",
    "                        y=Poldata[Poldata.columns[7]],\n",
    "                        yerr=Poldata[Poldata.columns[8]],\n",
    "                        \n",
    "                        \n",
    "                    color='red',marker='o',label='V')\n",
    "\n",
    "    set_ax_tick(ax)\n",
    "    plot_secax(ax,mi_interval=365,ma_interval=365*2)\n",
    "    \n",
    "    bottom, top = ax.set_ylim() \n",
    "    if bottom< top:\n",
    "        ax.set_ylim(top,bottom)\n",
    "        \n",
    "    #ax.set_xlabel('Type')\n",
    "    #ax2.set_xlabel('Type')\n",
    "    ax.set_xlabel(r'MJD(Day)')\n",
    "    ax.set_ylabel(r'V (mag)')\n",
    "\n",
    "    ax.set_title(source_Name_i)\n",
    "\n",
    "    ax.xaxis.set_tick_params(which='major', size=10, width=2, rotation=45,)\n",
    "    handles, labels = ax.get_legend_handles_labels()\n",
    "    # remove the errorbars\n",
    "    #hdl = [h[0] for h in handles]\n",
    "    hdl = handles\n",
    "    labels_dict=dict(zip(labels, hdl)) #key,values\n",
    "    by_label=OrderedDict(sorted(labels_dict.items(),key=lambda t:t[0]))\n",
    "\n",
    "    ax.legend(by_label.values(), by_label.keys(), bbox_to_anchor=(0.01, 0.99),\n",
    "          loc=2, numpoints=1,ncol=1,fontsize=11.)\n",
    "\n",
    "    # use them in the legend\n",
    "    #by_label = OrderedDict(zip(labels, handles)) \n",
    "    #ax.legend(by_label.values(), by_label.keys(), bbox_to_anchor=(0.0, 0.9),loc=2, numpoints=1, fontsize=11. )\n",
    "    #ax.semilogy()\n",
    "    #ax.semilogx()\n",
    "    #ax.set_xlim(0.0,0.6)\n",
    "    #plt.legend()\n",
    "    #spec_path_fig\n",
    "    fig.savefig(pol_path_fig, dpi=400, transparent=False, bbox_inches='tight')\n",
    "        #fig.savefig('tansmission_curve_V_R.png', dpi=400, transparent=False, bbox_inches='tight')\n"
   ]
  },
  {
   "cell_type": "markdown",
   "metadata": {},
   "source": [
    "### Sources_select=['PKS 1510-08']"
   ]
  },
  {
   "cell_type": "code",
   "execution_count": null,
   "metadata": {
    "ExecuteTime": {
     "end_time": "2022-08-24T03:02:58.767482Z",
     "start_time": "2022-08-24T03:02:57.132752Z"
    }
   },
   "outputs": [],
   "source": [
    "#for name_i in Fermi_AGN_z_lt0dot1[Fermi_AGN_z_lt0dot1.columns[0]]:\n",
    "for name_i in Sources_select:    \n",
    "    #url_source=root_obj_url+i+'.html'\n",
    "    #print(url_source)\n",
    "    #print(i)\n",
    "    source_Name_i=name_i.strip()\n",
    "    \n",
    "    if source_Name_i.startswith('PKS') or source_Name_i.startswith('1ES') or source_Name_i.startswith('1H'):\n",
    "        source_Name_i_Rband=source_Name_i.replace(' ','')\n",
    "    \n",
    "    else:\n",
    "        source_Name_i_Rband=source_Name_i\n",
    "        \n",
    "    source_name_i=Source_name_dict[source_Name_i]\n",
    "    #source_name=Source_name_dict[source_Name]  \n",
    "    \n",
    "    pol_path_fig=os.path.join(root_dir,source_name_i+'_Vphot_lc.png')\n",
    "    \n",
    "    fig = plt.figure(figsize=(12,8))\n",
    "    fig.subplots_adjust(hspace=0.0, wspace = 0.0)\n",
    "    ax = fig.add_subplot(111)    \n",
    "    \n",
    "    for i in range(10):\n",
    "        if i==0:\n",
    "            prefix=''\n",
    "        else:\n",
    "            prefix='_%d'%(i+1)\n",
    "        \n",
    "        Polpath=os.path.join(root_data_dir,source_name_i,'%s_phot'%source_name_i+prefix+'.xlsx')\n",
    "        if os.path.exists(Polpath):\n",
    "            Poldata=pd.read_excel(Polpath)        \n",
    "            ax.errorbar(x=Poldata['JD']- 2400000.5,\n",
    "                    #y=Poldata['V'],\n",
    "                    #yerr=Poldata['σ(V)'],\n",
    "                    y=Poldata[Poldata.columns[7]],\n",
    "                    yerr=Poldata[Poldata.columns[8]],                      \n",
    "                    color='red',marker='o',label='V')\n",
    "\n",
    "    set_ax_tick(ax)\n",
    "    plot_secax(ax,mi_interval=365,ma_interval=365*2)\n",
    "    \n",
    "    bottom, top = ax.set_ylim() \n",
    "    if bottom< top:\n",
    "        ax.set_ylim(top,bottom)\n",
    "        \n",
    "    #ax.set_xlabel('Type')\n",
    "    #ax2.set_xlabel('Type')\n",
    "    ax.set_xlabel(r'MJD(Day)')\n",
    "    ax.set_ylabel(r'V (mag)')\n",
    "\n",
    "    ax.set_title(source_Name_i)\n",
    "\n",
    "    ax.xaxis.set_tick_params(which='major', size=10, width=2, rotation=45,)\n",
    "    handles, labels = ax.get_legend_handles_labels()\n",
    "    # remove the errorbars\n",
    "    #hdl = [h[0] for h in handles]\n",
    "    hdl = handles\n",
    "    labels_dict=dict(zip(labels, hdl)) #key,values\n",
    "    by_label=OrderedDict(sorted(labels_dict.items(),key=lambda t:t[0]))\n",
    "\n",
    "    ax.legend(by_label.values(), by_label.keys(), bbox_to_anchor=(0.01, 0.99),\n",
    "          loc=2, numpoints=1,ncol=1,fontsize=11.)\n",
    "\n",
    "    # use them in the legend\n",
    "    #by_label = OrderedDict(zip(labels, handles)) \n",
    "    #ax.legend(by_label.values(), by_label.keys(), bbox_to_anchor=(0.0, 0.9),loc=2, numpoints=1, fontsize=11. )\n",
    "    #ax.semilogy()\n",
    "    #ax.semilogx()\n",
    "    #ax.set_xlim(0.0,0.6)\n",
    "    #plt.legend()\n",
    "    #spec_path_fig\n",
    "    fig.savefig(pol_path_fig, dpi=400, transparent=False, bbox_inches='tight')\n",
    "        #fig.savefig('tansmission_curve_V_R.png', dpi=400, transparent=False, bbox_inches='tight')\n"
   ]
  },
  {
   "cell_type": "code",
   "execution_count": null,
   "metadata": {},
   "outputs": [],
   "source": []
  },
  {
   "cell_type": "markdown",
   "metadata": {},
   "source": [
    "## spec"
   ]
  },
  {
   "cell_type": "markdown",
   "metadata": {},
   "source": [
    "The spectra span the range of 4000-7550 Å with a dispersion 4 Å/pixel. Depending on the width of the slit used for the observation, the resolution is typically between 16-24 Å"
   ]
  },
  {
   "cell_type": "code",
   "execution_count": null,
   "metadata": {
    "ExecuteTime": {
     "end_time": "2022-07-13T06:55:22.407621Z",
     "start_time": "2022-07-13T06:55:22.403296Z"
    }
   },
   "outputs": [],
   "source": [
    "Fermi_AGN_list_name_redshift_T.columns"
   ]
  },
  {
   "cell_type": "code",
   "execution_count": null,
   "metadata": {
    "ExecuteTime": {
     "end_time": "2022-07-13T06:55:27.135783Z",
     "start_time": "2022-07-13T06:55:27.131571Z"
    }
   },
   "outputs": [],
   "source": [
    "Fermi_AGN_list_name_redshift_T.iloc[0][0]"
   ]
  },
  {
   "cell_type": "markdown",
   "metadata": {},
   "source": [
    "### pks1510"
   ]
  },
  {
   "cell_type": "code",
   "execution_count": null,
   "metadata": {
    "ExecuteTime": {
     "end_time": "2022-08-24T02:57:15.821912Z",
     "start_time": "2022-08-24T02:57:15.699992Z"
    }
   },
   "outputs": [],
   "source": [
    "#source_name='pks1510'\n",
    "source_Name='PKS 1510-08'\n",
    "#source_Name=Source_Name_dict[source_name]\n",
    "source_name=Source_name_dict[source_Name]\n",
    "\n",
    "\n",
    "source_z=Fermi_AGN_list_name_redshift_T[Fermi_AGN_list_name_redshift_T['      Input Object Name       '].str.strip()==source_Name]['z_value']\n",
    "datatypes=['phot','pol']\n",
    "\n",
    "print(source_name,source_Name,source_z.values[0])\n",
    "\n",
    "spec_path=os.path.join(root_data_dir,source_name,source_name,'pks1510.fc.spec_081229.fits')\n",
    "spec_path_fig=spec_path+'.png'\n",
    "\n",
    "date_spec_path=spec_path.split('.')[-2]\n",
    "spec_hdul=fits.open(spec_path)\n",
    "print(len(spec_hdul[0].data))\n",
    "\n",
    "\n",
    "fig = plt.figure(figsize=(6,4))\n",
    "fig.subplots_adjust(hspace=0.0, wspace = 0.0)\n",
    "ax = fig.add_subplot(111)\n",
    "\n",
    "\n",
    "lambda_spec=np.linspace(4000,7550,len(spec_hdul[0].data))\n",
    "\n",
    "ax.plot(lambda_spec/(1+source_z.values[0]),spec_hdul[0].data,color='red',marker='o',label=date_spec_path)\n",
    "#ax.plot(Fermi_monitir_lambdas,Fermi_monitor_AGN_R[0].data,color='blue',marker='o',label='R')\n",
    "\n",
    "#set_ax_locator(ax,xma=0.2,xmi=0.1,yma=10,ymi=5)\n",
    "set_ax_tick(ax)\n",
    "\n",
    "#ax.set_xlabel('Type')\n",
    "#ax2.set_xlabel('Type')\n",
    "ax.set_xlabel(r'$\\lambda/(1+z)(\\AA)$')\n",
    "ax.set_ylabel(r'flux')\n",
    "\n",
    "ax.set_title(source_Name+' z=%.3e'%source_z.values[0])\n",
    "\n",
    "ax.xaxis.set_tick_params(which='major', size=10, width=2, rotation=45,)\n",
    "handles, labels = ax.get_legend_handles_labels()\n",
    "# remove the errorbars\n",
    "#hdl = [h[0] for h in handles]\n",
    "hdl = handles\n",
    "labels_dict=dict(zip(labels, hdl)) #key,values\n",
    "by_label=OrderedDict(sorted(labels_dict.items(),key=lambda t:t[0]))\n",
    "\n",
    "ax.legend(by_label.values(), by_label.keys(), bbox_to_anchor=(0.01, 0.99),\n",
    "          loc=2, numpoints=1,ncol=1,fontsize=11.)\n",
    "\n",
    "# use them in the legend\n",
    "#by_label = OrderedDict(zip(labels, handles)) \n",
    "#ax.legend(by_label.values(), by_label.keys(), bbox_to_anchor=(0.0, 0.9),loc=2, numpoints=1, fontsize=11. )\n",
    "\n",
    "\n",
    "#ax.semilogy()\n",
    "#ax.semilogx()\n",
    "\n",
    "#ax.set_xlim(5000,7400)\n",
    "#plt.legend()\n",
    "#spec_path_fig\n",
    "\n",
    "#fig.savefig(spec_path_fig, dpi=400, transparent=False, bbox_inches='tight')\n",
    "#fig.savefig('tansmission_curve_V_R.png', dpi=400, transparent=False, bbox_inches='tight')\n"
   ]
  },
  {
   "cell_type": "code",
   "execution_count": null,
   "metadata": {
    "ExecuteTime": {
     "end_time": "2022-08-24T02:55:55.242528Z",
     "start_time": "2022-08-24T02:55:55.121566Z"
    },
    "scrolled": false
   },
   "outputs": [],
   "source": [
    "#z_pks1510 = 0.361\n",
    "#source_name='pks1510'\n",
    "source_Name='PKS 1510-08'\n",
    "#source_Name=Source_Name_dict[source_name]\n",
    "source_name=Source_name_dict[source_Name]\n",
    "\n",
    "\n",
    "source_z=0.361\n",
    "datatypes=['phot','pol']\n",
    "\n",
    "print(source_name,source_Name,source_z)\n",
    "\n",
    "spec_path=os.path.join(root_data_dir,source_name,source_name,'pks1510.fc.spec_081229.fits')\n",
    "spec_path_fig=spec_path+'.png'\n",
    "\n",
    "date_spec_path=spec_path.split('.')[-2]\n",
    "spec_hdul=fits.open(spec_path)\n",
    "print(len(spec_hdul[0].data))\n",
    "\n",
    "\n",
    "\n",
    "fig = plt.figure(figsize=(6,4))\n",
    "fig.subplots_adjust(hspace=0.0, wspace = 0.0)\n",
    "ax = fig.add_subplot(111)\n",
    "\n",
    "\n",
    "lambda_spec=np.linspace(4000,7550,len(spec_hdul[0].data))\n",
    "\n",
    "ax.plot(lambda_spec/(1+source_z),spec_hdul[0].data,color='red',marker='o',label=date_spec_path)\n",
    "#ax.plot(Fermi_monitir_lambdas,Fermi_monitor_AGN_R[0].data,color='blue',marker='o',label='R')\n",
    "\n",
    "#set_ax_locator(ax,xma=0.2,xmi=0.1,yma=10,ymi=5)\n",
    "set_ax_tick(ax)\n",
    "\n",
    "#ax.set_xlabel('Type')\n",
    "#ax2.set_xlabel('Type')\n",
    "ax.set_xlabel(r'$\\lambda/(1+z)(\\AA)$')\n",
    "ax.set_ylabel(r'flux')\n",
    "\n",
    "ax.set_title(source_Name+' z=%.3f'%source_z)\n",
    "\n",
    "ax.xaxis.set_tick_params(which='major', size=10, width=2, rotation=45,)\n",
    "handles, labels = ax.get_legend_handles_labels()\n",
    "# remove the errorbars\n",
    "#hdl = [h[0] for h in handles]\n",
    "hdl = handles\n",
    "labels_dict=dict(zip(labels, hdl)) #key,values\n",
    "by_label=OrderedDict(sorted(labels_dict.items(),key=lambda t:t[0]))\n",
    "\n",
    "ax.legend(by_label.values(), by_label.keys(), bbox_to_anchor=(0.01, 0.99),\n",
    "          loc=2, numpoints=1,ncol=1,fontsize=11.)\n",
    "\n",
    "# use them in the legend\n",
    "#by_label = OrderedDict(zip(labels, handles)) \n",
    "#ax.legend(by_label.values(), by_label.keys(), bbox_to_anchor=(0.0, 0.9),loc=2, numpoints=1, fontsize=11. )\n",
    "\n",
    "\n",
    "#ax.semilogy()\n",
    "#ax.semilogx()\n",
    "#ax.set_xlim(4200,5400)\n",
    "#plt.legend()\n",
    "#spec_path_fig\n",
    "\n",
    "#fig.savefig(spec_path_fig, dpi=400, transparent=False, bbox_inches='tight')\n",
    "#fig.savefig('tansmission_curve_V_R.png', dpi=400, transparent=False, bbox_inches='tight')\n"
   ]
  },
  {
   "cell_type": "code",
   "execution_count": null,
   "metadata": {},
   "outputs": [],
   "source": []
  },
  {
   "cell_type": "code",
   "execution_count": null,
   "metadata": {},
   "outputs": [],
   "source": []
  },
  {
   "cell_type": "code",
   "execution_count": null,
   "metadata": {},
   "outputs": [],
   "source": []
  },
  {
   "cell_type": "code",
   "execution_count": null,
   "metadata": {},
   "outputs": [],
   "source": []
  },
  {
   "cell_type": "markdown",
   "metadata": {},
   "source": [
    "### z_pks1510 = 0.361"
   ]
  },
  {
   "cell_type": "code",
   "execution_count": null,
   "metadata": {
    "ExecuteTime": {
     "end_time": "2022-07-15T08:47:31.596397Z",
     "start_time": "2022-07-15T08:47:30.866696Z"
    }
   },
   "outputs": [],
   "source": [
    "#z_pks1510 = 0.361\n",
    "\n",
    "#source_name='pks1510'\n",
    "source_Name='PKS 1510-08'\n",
    "#source_Name=Source_Name_dict[source_name]\n",
    "source_name=Source_name_dict[source_Name]\n",
    "\n",
    "\n",
    "source_z=0.361\n",
    "datatypes=['phot','pol']\n",
    "\n",
    "print(source_name,source_Name,source_z)\n",
    "\n",
    "spec_path=os.path.join(root_data_dir,source_name,source_name,'pks1510.fc.spec_081229.fits')\n",
    "spec_path_fig=spec_path+'_z=0.361_.png'\n",
    "\n",
    "date_spec_path=spec_path.split('.')[-2]\n",
    "spec_hdul=fits.open(spec_path)\n",
    "print(len(spec_hdul[0].data))\n",
    "\n",
    "\n",
    "\n",
    "fig = plt.figure(figsize=(6,4))\n",
    "fig.subplots_adjust(hspace=0.0, wspace = 0.0)\n",
    "ax = fig.add_subplot(111)\n",
    "\n",
    "\n",
    "lambda_spec=np.linspace(4000,7550,len(spec_hdul[0].data))\n",
    "\n",
    "ax.plot(lambda_spec/(1+source_z),spec_hdul[0].data,color='red',marker='o',label=date_spec_path)\n",
    "#ax.plot(Fermi_monitir_lambdas,Fermi_monitor_AGN_R[0].data,color='blue',marker='o',label='R')\n",
    "\n",
    "#set_ax_locator(ax,xma=0.2,xmi=0.1,yma=10,ymi=5)\n",
    "set_ax_tick(ax)\n",
    "\n",
    "#ax.set_xlabel('Type')\n",
    "#ax2.set_xlabel('Type')\n",
    "ax.set_xlabel(r'$\\lambda/(1+z)(\\AA)$')\n",
    "ax.set_ylabel(r'flux')\n",
    "\n",
    "ax.set_title(source_Name+' z=%.3f'%source_z)\n",
    "\n",
    "ax.xaxis.set_tick_params(which='major', size=10, width=2, rotation=45,)\n",
    "handles, labels = ax.get_legend_handles_labels()\n",
    "# remove the errorbars\n",
    "#hdl = [h[0] for h in handles]\n",
    "hdl = handles\n",
    "labels_dict=dict(zip(labels, hdl)) #key,values\n",
    "by_label=OrderedDict(sorted(labels_dict.items(),key=lambda t:t[0]))\n",
    "\n",
    "ax.legend(by_label.values(), by_label.keys(), bbox_to_anchor=(0.01, 0.99),\n",
    "          loc=2, numpoints=1,ncol=1,fontsize=11.)\n",
    "\n",
    "# use them in the legend\n",
    "#by_label = OrderedDict(zip(labels, handles)) \n",
    "#ax.legend(by_label.values(), by_label.keys(), bbox_to_anchor=(0.0, 0.9),loc=2, numpoints=1, fontsize=11. )\n",
    "\n",
    "\n",
    "#ax.semilogy()\n",
    "#ax.semilogx()\n",
    "\n",
    "ax.set_xlim(4200,5400)\n",
    "#plt.legend()\n",
    "#spec_path_fig\n",
    "\n",
    "fig.savefig(spec_path_fig, dpi=400, transparent=False, bbox_inches='tight')\n",
    "#fig.savefig('tansmission_curve_V_R.png', dpi=400, transparent=False, bbox_inches='tight')\n"
   ]
  },
  {
   "cell_type": "code",
   "execution_count": null,
   "metadata": {
    "ExecuteTime": {
     "end_time": "2022-07-15T11:31:41.625286Z",
     "start_time": "2022-07-15T11:31:41.200702Z"
    }
   },
   "outputs": [],
   "source": [
    "#z_pks1510 = 0.361\n",
    "\n",
    "#source_name='pks1510'\n",
    "source_Name='PKS 1510-08'\n",
    "#source_Name=Source_Name_dict[source_name]\n",
    "source_name=Source_name_dict[source_Name]\n",
    "\n",
    "\n",
    "source_z=0.361\n",
    "datatypes=['phot','pol']\n",
    "\n",
    "print(source_name,source_Name,source_z)\n",
    "\n",
    "spec_path=os.path.join(root_data_dir,source_name,source_name,'pks1510.fc.spec_081229.fits')\n",
    "spec_path_fig=spec_path+'_z=0.361_.png'\n",
    "\n",
    "date_spec_path=spec_path.split('.')[-2]\n",
    "spec_hdul=fits.open(spec_path)\n",
    "print(len(spec_hdul[0].data))\n",
    "\n",
    "\n",
    "\n",
    "fig = plt.figure(figsize=(6,4))\n",
    "fig.subplots_adjust(hspace=0.0, wspace = 0.0)\n",
    "ax = fig.add_subplot(111)\n",
    "\n",
    "\n",
    "lambda_spec=np.linspace(4000,7550,len(spec_hdul[0].data))\n",
    "\n",
    "ax.plot(lambda_spec/(1+source_z),spec_hdul[0].data,color='red',marker='o',label=date_spec_path)\n",
    "#ax.plot(Fermi_monitir_lambdas,Fermi_monitor_AGN_R[0].data,color='blue',marker='o',label='R')\n",
    "\n",
    "#set_ax_locator(ax,xma=0.2,xmi=0.1,yma=10,ymi=5)\n",
    "set_ax_tick(ax)\n",
    "\n",
    "#ax.set_xlabel('Type')\n",
    "#ax2.set_xlabel('Type')\n",
    "ax.set_xlabel(r'$\\lambda/(1+z)(\\AA)$')\n",
    "ax.set_ylabel(r'flux')\n",
    "\n",
    "ax.set_title(source_Name+' z=%.3f'%source_z)\n",
    "\n",
    "ax.xaxis.set_tick_params(which='major', size=10, width=2, rotation=45,)\n",
    "handles, labels = ax.get_legend_handles_labels()\n",
    "# remove the errorbars\n",
    "#hdl = [h[0] for h in handles]\n",
    "hdl = handles\n",
    "labels_dict=dict(zip(labels, hdl)) #key,values\n",
    "by_label=OrderedDict(sorted(labels_dict.items(),key=lambda t:t[0]))\n",
    "\n",
    "ax.legend(by_label.values(), by_label.keys(), bbox_to_anchor=(0.01, 0.99),\n",
    "          loc=2, numpoints=1,ncol=1,fontsize=11.)\n",
    "\n",
    "# use them in the legend\n",
    "#by_label = OrderedDict(zip(labels, handles)) \n",
    "#ax.legend(by_label.values(), by_label.keys(), bbox_to_anchor=(0.0, 0.9),loc=2, numpoints=1, fontsize=11. )\n",
    "\n",
    "\n",
    "#ax.semilogy()\n",
    "#ax.semilogx()\n",
    "\n",
    "#ax.set_xlim(4200,5400)\n",
    "#plt.legend()\n",
    "#spec_path_fig\n",
    "\n",
    "#fig.savefig(spec_path_fig, dpi=400, transparent=False, bbox_inches='tight')\n",
    "#fig.savefig('tansmission_curve_V_R.png', dpi=400, transparent=False, bbox_inches='tight')\n"
   ]
  },
  {
   "cell_type": "markdown",
   "metadata": {},
   "source": [
    "### Mrk 421"
   ]
  },
  {
   "cell_type": "code",
   "execution_count": null,
   "metadata": {
    "ExecuteTime": {
     "end_time": "2022-07-13T07:00:26.982302Z",
     "start_time": "2022-07-13T07:00:26.962992Z"
    }
   },
   "outputs": [],
   "source": [
    "#source_name='pks1510'\n",
    "source_Name='Mrk 421'\n",
    "#source_Name=Source_Name_dict[source_name]\n",
    "source_name=Source_name_dict[source_Name]\n",
    "\n",
    "source_z=Fermi_AGN_list_name_redshift_T[Fermi_AGN_list_name_redshift_T['      Input Object Name       '].str.strip()==source_Name]['z_value']\n",
    "datatypes=['phot','pol']\n",
    "\n",
    "print(source_name,source_Name,source_z.values[0])\n",
    "\n",
    "spec_path=os.path.join(root_data_dir,source_name,source_name,'mrk421.fc.spec_081004.fits')\n",
    "spec_path_fig=spec_path+'.png'\n",
    "date_spec_path=spec_path.split('.')[-2]\n",
    "spec_hdul=fits.open(spec_path)\n",
    "print(len(spec_hdul[0].data))"
   ]
  },
  {
   "cell_type": "code",
   "execution_count": null,
   "metadata": {
    "ExecuteTime": {
     "end_time": "2022-07-13T07:00:39.767963Z",
     "start_time": "2022-07-13T07:00:38.392127Z"
    }
   },
   "outputs": [],
   "source": [
    "fig = plt.figure(figsize=(12,8))\n",
    "fig.subplots_adjust(hspace=0.0, wspace = 0.0)\n",
    "ax = fig.add_subplot(111)\n",
    "\n",
    "\n",
    "lambda_spec=np.linspace(4000,7550,len(spec_hdul[0].data))\n",
    "ax.plot(lambda_spec/(1+source_z.values[0]),spec_hdul[0].data,color='red',marker='o',label=date_spec_path)\n",
    "#ax.plot(Fermi_monitir_lambdas,Fermi_monitor_AGN_R[0].data,color='blue',marker='o',label='R')\n",
    "\n",
    "#set_ax_locator(ax,xma=0.2,xmi=0.1,yma=10,ymi=5)\n",
    "set_ax_tick(ax)\n",
    "\n",
    "#ax.set_xlabel('Type')\n",
    "#ax2.set_xlabel('Type')\n",
    "ax.set_xlabel(r'$\\lambda/(1+z)(\\AA)$')\n",
    "ax.set_ylabel(r'flux')\n",
    "\n",
    "ax.set_title(source_Name)\n",
    "\n",
    "ax.xaxis.set_tick_params(which='major', size=10, width=2, rotation=45,)\n",
    "handles, labels = ax.get_legend_handles_labels()\n",
    "# remove the errorbars\n",
    "#hdl = [h[0] for h in handles]\n",
    "hdl = handles\n",
    "labels_dict=dict(zip(labels, hdl)) #key,values\n",
    "by_label=OrderedDict(sorted(labels_dict.items(),key=lambda t:t[0]))\n",
    "\n",
    "ax.legend(by_label.values(), by_label.keys(), bbox_to_anchor=(0.01, 0.99),\n",
    "          loc=2, numpoints=1,ncol=1,fontsize=11.)\n",
    "\n",
    "# use them in the legend\n",
    "#by_label = OrderedDict(zip(labels, handles)) \n",
    "#ax.legend(by_label.values(), by_label.keys(), bbox_to_anchor=(0.0, 0.9),loc=2, numpoints=1, fontsize=11. )\n",
    "\n",
    "\n",
    "#ax.semilogy()\n",
    "#ax.semilogx()\n",
    "fig.savefig(spec_path_fig, dpi=400, transparent=False, bbox_inches='tight')\n",
    "\n",
    "#ax.set_xlim(0.0,0.6)\n",
    "#plt.legend()\n",
    "#fig.savefig('tansmission_curve_V_R.png', dpi=400, transparent=False, bbox_inches='tight')\n"
   ]
  },
  {
   "cell_type": "markdown",
   "metadata": {},
   "source": [
    "### Mrk 501"
   ]
  },
  {
   "cell_type": "code",
   "execution_count": null,
   "metadata": {
    "ExecuteTime": {
     "end_time": "2022-07-13T07:01:10.773318Z",
     "start_time": "2022-07-13T07:01:10.751483Z"
    }
   },
   "outputs": [],
   "source": [
    "#source_name='pks1510'\n",
    "source_Name='Mrk 501'\n",
    "#source_Name=Source_Name_dict[source_name]\n",
    "source_name=Source_name_dict[source_Name]\n",
    "\n",
    "source_z=Fermi_AGN_list_name_redshift_T[Fermi_AGN_list_name_redshift_T['      Input Object Name       '].str.strip()==source_Name]['z_value']\n",
    "datatypes=['phot','pol']\n",
    "\n",
    "print(source_name,source_Name,source_z.values[0])\n",
    "\n",
    "spec_path=os.path.join(root_data_dir,source_name,source_name,'mrk501.fc.spec_081006.fits')\n",
    "spec_path_fig=spec_path+'.png'\n",
    "date_spec_path=spec_path.split('.')[-2]\n",
    "\n",
    "spec_hdul=fits.open(spec_path)\n",
    "print(len(spec_hdul[0].data))\n",
    "\n"
   ]
  },
  {
   "cell_type": "code",
   "execution_count": null,
   "metadata": {
    "ExecuteTime": {
     "end_time": "2022-07-13T07:01:14.519091Z",
     "start_time": "2022-07-13T07:01:13.329919Z"
    }
   },
   "outputs": [],
   "source": [
    "fig = plt.figure(figsize=(12,8))\n",
    "fig.subplots_adjust(hspace=0.0, wspace = 0.0)\n",
    "ax = fig.add_subplot(111)\n",
    "\n",
    "\n",
    "lambda_spec=np.linspace(4000,7550,len(spec_hdul[0].data))\n",
    "ax.plot(lambda_spec/(1+source_z.values[0]),spec_hdul[0].data,color='red',marker='o',label=date_spec_path)\n",
    "#ax.plot(Fermi_monitir_lambdas,Fermi_monitor_AGN_R[0].data,color='blue',marker='o',label='R')\n",
    "\n",
    "#set_ax_locator(ax,xma=0.2,xmi=0.1,yma=10,ymi=5)\n",
    "set_ax_tick(ax)\n",
    "\n",
    "#ax.set_xlabel('Type')\n",
    "#ax2.set_xlabel('Type')\n",
    "ax.set_xlabel(r'$\\lambda/(1+z)(\\AA)$')\n",
    "ax.set_ylabel(r'flux')\n",
    "\n",
    "ax.set_title(source_Name)\n",
    "\n",
    "ax.xaxis.set_tick_params(which='major', size=10, width=2, rotation=45,)\n",
    "handles, labels = ax.get_legend_handles_labels()\n",
    "# remove the errorbars\n",
    "#hdl = [h[0] for h in handles]\n",
    "hdl = handles\n",
    "labels_dict=dict(zip(labels, hdl)) #key,values\n",
    "by_label=OrderedDict(sorted(labels_dict.items(),key=lambda t:t[0]))\n",
    "\n",
    "ax.legend(by_label.values(), by_label.keys(), bbox_to_anchor=(0.01, 0.99),\n",
    "          loc=2, numpoints=1,ncol=1,fontsize=11.)\n",
    "\n",
    "# use them in the legend\n",
    "#by_label = OrderedDict(zip(labels, handles)) \n",
    "#ax.legend(by_label.values(), by_label.keys(), bbox_to_anchor=(0.0, 0.9),loc=2, numpoints=1, fontsize=11. )\n",
    "\n",
    "\n",
    "#ax.semilogy()\n",
    "#ax.semilogx()\n",
    "fig.savefig(spec_path_fig, dpi=400, transparent=False, bbox_inches='tight')\n",
    "\n",
    "#ax.set_xlim(0.0,0.6)\n",
    "#plt.legend()\n",
    "#fig.savefig('tansmission_curve_V_R.png', dpi=400, transparent=False, bbox_inches='tight')\n"
   ]
  },
  {
   "cell_type": "code",
   "execution_count": null,
   "metadata": {},
   "outputs": [],
   "source": []
  },
  {
   "cell_type": "markdown",
   "metadata": {},
   "source": [
    "## 1ES 2344+514"
   ]
  },
  {
   "cell_type": "code",
   "execution_count": null,
   "metadata": {
    "ExecuteTime": {
     "end_time": "2022-07-13T07:01:20.763611Z",
     "start_time": "2022-07-13T07:01:20.738505Z"
    }
   },
   "outputs": [],
   "source": [
    "#source_name='pks1510'\n",
    "source_Name='1ES 2344+514'\n",
    "#source_Name=Source_Name_dict[source_name]\n",
    "source_name=Source_name_dict[source_Name]\n",
    "\n",
    "source_z=Fermi_AGN_list_name_redshift_T[Fermi_AGN_list_name_redshift_T['      Input Object Name       '].str.strip()==source_Name]['z_value']\n",
    "datatypes=['phot','pol']\n",
    "\n",
    "print(source_name,source_Name,source_z.values[0])\n",
    "\n",
    "spec_path=os.path.join(root_data_dir,source_name,source_name,'1es2344.spec_081003.fits')\n",
    "spec_path_fig=spec_path+'.png'\n",
    "date_spec_path=spec_path.split('.')[-2]\n",
    "\n",
    "spec_hdul=fits.open(spec_path)\n",
    "print(len(spec_hdul[0].data))\n",
    "\n"
   ]
  },
  {
   "cell_type": "code",
   "execution_count": null,
   "metadata": {
    "ExecuteTime": {
     "end_time": "2022-07-13T07:01:24.106102Z",
     "start_time": "2022-07-13T07:01:22.933713Z"
    }
   },
   "outputs": [],
   "source": [
    "fig = plt.figure(figsize=(12,8))\n",
    "fig.subplots_adjust(hspace=0.0, wspace = 0.0)\n",
    "ax = fig.add_subplot(111)\n",
    "\n",
    "\n",
    "lambda_spec=np.linspace(4000,7550,len(spec_hdul[0].data))\n",
    "ax.plot(lambda_spec/(1+source_z.values[0]),spec_hdul[0].data,color='red',marker='o',label=date_spec_path)\n",
    "#ax.plot(Fermi_monitir_lambdas,Fermi_monitor_AGN_R[0].data,color='blue',marker='o',label='R')\n",
    "\n",
    "#set_ax_locator(ax,xma=0.2,xmi=0.1,yma=10,ymi=5)\n",
    "set_ax_tick(ax)\n",
    "\n",
    "#ax.set_xlabel('Type')\n",
    "#ax2.set_xlabel('Type')\n",
    "ax.set_xlabel(r'$\\lambda/(1+z)(\\AA)$')\n",
    "ax.set_ylabel(r'flux')\n",
    "\n",
    "ax.set_title(source_Name)\n",
    "\n",
    "ax.xaxis.set_tick_params(which='major', size=10, width=2, rotation=45,)\n",
    "handles, labels = ax.get_legend_handles_labels()\n",
    "# remove the errorbars\n",
    "#hdl = [h[0] for h in handles]\n",
    "hdl = handles\n",
    "labels_dict=dict(zip(labels, hdl)) #key,values\n",
    "by_label=OrderedDict(sorted(labels_dict.items(),key=lambda t:t[0]))\n",
    "\n",
    "ax.legend(by_label.values(), by_label.keys(), bbox_to_anchor=(0.01, 0.99),\n",
    "          loc=2, numpoints=1,ncol=1,fontsize=11.)\n",
    "\n",
    "# use them in the legend\n",
    "#by_label = OrderedDict(zip(labels, handles)) \n",
    "#ax.legend(by_label.values(), by_label.keys(), bbox_to_anchor=(0.0, 0.9),loc=2, numpoints=1, fontsize=11. )\n",
    "\n",
    "\n",
    "#ax.semilogy()\n",
    "#ax.semilogx()\n",
    "fig.savefig(spec_path_fig, dpi=400, transparent=False, bbox_inches='tight')\n",
    "\n",
    "#ax.set_xlim(0.0,0.6)\n",
    "#plt.legend()\n",
    "#fig.savefig('tansmission_curve_V_R.png', dpi=400, transparent=False, bbox_inches='tight')\n"
   ]
  },
  {
   "cell_type": "code",
   "execution_count": null,
   "metadata": {},
   "outputs": [],
   "source": []
  },
  {
   "cell_type": "code",
   "execution_count": null,
   "metadata": {},
   "outputs": [],
   "source": []
  },
  {
   "cell_type": "markdown",
   "metadata": {},
   "source": [
    "## 1ES 1959+650"
   ]
  },
  {
   "cell_type": "code",
   "execution_count": null,
   "metadata": {
    "ExecuteTime": {
     "end_time": "2022-07-13T07:01:29.748580Z",
     "start_time": "2022-07-13T07:01:29.728631Z"
    }
   },
   "outputs": [],
   "source": [
    "#source_name='pks1510'\n",
    "source_Name='1ES 1959+650'\n",
    "#source_Name=Source_Name_dict[source_name]\n",
    "source_name=Source_name_dict[source_Name]\n",
    "\n",
    "source_z=Fermi_AGN_list_name_redshift_T[Fermi_AGN_list_name_redshift_T['      Input Object Name       '].str.strip()==source_Name]['z_value']\n",
    "datatypes=['phot','pol']\n",
    "\n",
    "print(source_name,source_Name,source_z.values[0])\n",
    "\n",
    "spec_path=os.path.join(root_data_dir,source_name,source_name,'1es1959.spec_081004.fits')\n",
    "spec_path_fig=spec_path+'.png'\n",
    "date_spec_path=spec_path.split('.')[-2]\n",
    "\n",
    "spec_hdul=fits.open(spec_path)\n",
    "print(len(spec_hdul[0].data))\n",
    "\n"
   ]
  },
  {
   "cell_type": "code",
   "execution_count": null,
   "metadata": {
    "ExecuteTime": {
     "end_time": "2022-07-13T07:01:36.829408Z",
     "start_time": "2022-07-13T07:01:35.638060Z"
    }
   },
   "outputs": [],
   "source": [
    "fig = plt.figure(figsize=(12,8))\n",
    "fig.subplots_adjust(hspace=0.0, wspace = 0.0)\n",
    "ax = fig.add_subplot(111)\n",
    "\n",
    "\n",
    "lambda_spec=np.linspace(4000,7550,len(spec_hdul[0].data))\n",
    "ax.plot(lambda_spec/(1+source_z.values[0]),spec_hdul[0].data,color='red',marker='o',label=date_spec_path)\n",
    "#ax.plot(Fermi_monitir_lambdas,Fermi_monitor_AGN_R[0].data,color='blue',marker='o',label='R')\n",
    "\n",
    "#set_ax_locator(ax,xma=0.2,xmi=0.1,yma=10,ymi=5)\n",
    "set_ax_tick(ax)\n",
    "\n",
    "#ax.set_xlabel('Type')\n",
    "#ax2.set_xlabel('Type')\n",
    "ax.set_xlabel(r'$\\lambda/(1+z)(\\AA)$')\n",
    "ax.set_ylabel(r'flux')\n",
    "\n",
    "ax.set_title(source_Name)\n",
    "\n",
    "ax.xaxis.set_tick_params(which='major', size=10, width=2, rotation=45,)\n",
    "handles, labels = ax.get_legend_handles_labels()\n",
    "# remove the errorbars\n",
    "#hdl = [h[0] for h in handles]\n",
    "hdl = handles\n",
    "labels_dict=dict(zip(labels, hdl)) #key,values\n",
    "by_label=OrderedDict(sorted(labels_dict.items(),key=lambda t:t[0]))\n",
    "\n",
    "ax.legend(by_label.values(), by_label.keys(), bbox_to_anchor=(0.01, 0.99),\n",
    "          loc=2, numpoints=1,ncol=1,fontsize=11.)\n",
    "\n",
    "# use them in the legend\n",
    "#by_label = OrderedDict(zip(labels, handles)) \n",
    "#ax.legend(by_label.values(), by_label.keys(), bbox_to_anchor=(0.0, 0.9),loc=2, numpoints=1, fontsize=11. )\n",
    "\n",
    "\n",
    "#ax.semilogy()\n",
    "#ax.semilogx()\n",
    "fig.savefig(spec_path_fig, dpi=400, transparent=False, bbox_inches='tight')\n",
    "\n",
    "#ax.set_xlim(0.0,0.6)\n",
    "#plt.legend()\n",
    "#fig.savefig('tansmission_curve_V_R.png', dpi=400, transparent=False, bbox_inches='tight')\n"
   ]
  },
  {
   "cell_type": "code",
   "execution_count": null,
   "metadata": {},
   "outputs": [],
   "source": []
  },
  {
   "cell_type": "markdown",
   "metadata": {},
   "source": [
    "## 1H 0323+342"
   ]
  },
  {
   "cell_type": "code",
   "execution_count": null,
   "metadata": {
    "ExecuteTime": {
     "end_time": "2022-07-15T09:07:42.306863Z",
     "start_time": "2022-07-15T09:07:40.900357Z"
    }
   },
   "outputs": [],
   "source": [
    "#source_name='pks1510'\n",
    "source_Name='1H 0323+342'\n",
    "#source_Name=Source_Name_dict[source_name]\n",
    "source_name=Source_name_dict[source_Name]\n",
    "\n",
    "source_z=Fermi_AGN_list_name_redshift_T[Fermi_AGN_list_name_redshift_T['      Input Object Name       '].str.strip()==source_Name]['z_value']\n",
    "datatypes=['phot','pol']\n",
    "\n",
    "print(source_name,source_Name,source_z.values[0])\n",
    "\n",
    "spec_path=os.path.join(root_data_dir,source_name,source_name+'_6','1h0323.spec_130905.fits')\n",
    "spec_path_fig=spec_path+'.png'\n",
    "date_spec_path=spec_path.split('.')[-2]\n",
    "\n",
    "spec_hdul=fits.open(spec_path)\n",
    "print(len(spec_hdul[0].data))\n",
    "\n",
    "fig = plt.figure(figsize=(12,8))\n",
    "fig.subplots_adjust(hspace=0.0, wspace = 0.0)\n",
    "ax = fig.add_subplot(111)\n",
    "\n",
    "\n",
    "lambda_spec=np.linspace(4000,7550,len(spec_hdul[0].data))\n",
    "ax.plot(lambda_spec/(1+source_z.values[0]),spec_hdul[0].data,color='red',marker='o',label=date_spec_path)\n",
    "#ax.plot(Fermi_monitir_lambdas,Fermi_monitor_AGN_R[0].data,color='blue',marker='o',label='R')\n",
    "\n",
    "#set_ax_locator(ax,xma=0.2,xmi=0.1,yma=10,ymi=5)\n",
    "set_ax_tick(ax)\n",
    "\n",
    "#ax.set_xlabel('Type')\n",
    "#ax2.set_xlabel('Type')\n",
    "ax.set_xlabel(r'$\\lambda/(1+z)(\\AA)$')\n",
    "ax.set_ylabel(r'flux')\n",
    "\n",
    "ax.set_title(source_Name)\n",
    "\n",
    "ax.xaxis.set_tick_params(which='major', size=10, width=2, rotation=45,)\n",
    "handles, labels = ax.get_legend_handles_labels()\n",
    "# remove the errorbars\n",
    "#hdl = [h[0] for h in handles]\n",
    "hdl = handles\n",
    "labels_dict=dict(zip(labels, hdl)) #key,values\n",
    "by_label=OrderedDict(sorted(labels_dict.items(),key=lambda t:t[0]))\n",
    "\n",
    "ax.legend(by_label.values(), by_label.keys(), bbox_to_anchor=(0.01, 0.99),\n",
    "          loc=2, numpoints=1,ncol=1,fontsize=11.)\n",
    "\n",
    "# use them in the legend\n",
    "#by_label = OrderedDict(zip(labels, handles)) \n",
    "#ax.legend(by_label.values(), by_label.keys(), bbox_to_anchor=(0.0, 0.9),loc=2, numpoints=1, fontsize=11. )\n",
    "\n",
    "\n",
    "#ax.semilogy()\n",
    "#ax.semilogx()\n",
    "fig.savefig(spec_path_fig, dpi=400, transparent=False, bbox_inches='tight')\n",
    "\n",
    "#ax.set_xlim(0.0,0.6)\n",
    "#plt.legend()\n",
    "#fig.savefig('tansmission_curve_V_R.png', dpi=400, transparent=False, bbox_inches='tight')\n",
    "\n"
   ]
  },
  {
   "cell_type": "code",
   "execution_count": null,
   "metadata": {
    "ExecuteTime": {
     "end_time": "2022-07-15T09:07:48.692945Z",
     "start_time": "2022-07-15T09:07:47.478926Z"
    }
   },
   "outputs": [],
   "source": [
    "#source_name='pks1510'\n",
    "source_Name='1H 0323+342'\n",
    "#source_Name=Source_Name_dict[source_name]\n",
    "source_name=Source_name_dict[source_Name]\n",
    "\n",
    "source_z=Fermi_AGN_list_name_redshift_T[Fermi_AGN_list_name_redshift_T['      Input Object Name       '].str.strip()==source_Name]['z_value']\n",
    "datatypes=['phot','pol']\n",
    "\n",
    "print(source_name,source_Name,source_z.values[0])\n",
    "\n",
    "spec_path=os.path.join(root_data_dir,source_name,source_name+'_6','1h0323.spec_130906.fits')\n",
    "spec_path_fig=spec_path+'.png'\n",
    "date_spec_path=spec_path.split('.')[-2]\n",
    "\n",
    "spec_hdul=fits.open(spec_path)\n",
    "print(len(spec_hdul[0].data))\n",
    "\n",
    "fig = plt.figure(figsize=(12,8))\n",
    "fig.subplots_adjust(hspace=0.0, wspace = 0.0)\n",
    "ax = fig.add_subplot(111)\n",
    "\n",
    "\n",
    "lambda_spec=np.linspace(4000,7550,len(spec_hdul[0].data))\n",
    "ax.plot(lambda_spec/(1+source_z.values[0]),spec_hdul[0].data,color='red',marker='o',label=date_spec_path)\n",
    "#ax.plot(Fermi_monitir_lambdas,Fermi_monitor_AGN_R[0].data,color='blue',marker='o',label='R')\n",
    "\n",
    "#set_ax_locator(ax,xma=0.2,xmi=0.1,yma=10,ymi=5)\n",
    "set_ax_tick(ax)\n",
    "\n",
    "#ax.set_xlabel('Type')\n",
    "#ax2.set_xlabel('Type')\n",
    "ax.set_xlabel(r'$\\lambda/(1+z)(\\AA)$')\n",
    "ax.set_ylabel(r'flux')\n",
    "\n",
    "ax.set_title(source_Name)\n",
    "\n",
    "ax.xaxis.set_tick_params(which='major', size=10, width=2, rotation=45,)\n",
    "handles, labels = ax.get_legend_handles_labels()\n",
    "# remove the errorbars\n",
    "#hdl = [h[0] for h in handles]\n",
    "hdl = handles\n",
    "labels_dict=dict(zip(labels, hdl)) #key,values\n",
    "by_label=OrderedDict(sorted(labels_dict.items(),key=lambda t:t[0]))\n",
    "\n",
    "ax.legend(by_label.values(), by_label.keys(), bbox_to_anchor=(0.01, 0.99),\n",
    "          loc=2, numpoints=1,ncol=1,fontsize=11.)\n",
    "\n",
    "# use them in the legend\n",
    "#by_label = OrderedDict(zip(labels, handles)) \n",
    "#ax.legend(by_label.values(), by_label.keys(), bbox_to_anchor=(0.0, 0.9),loc=2, numpoints=1, fontsize=11. )\n",
    "\n",
    "\n",
    "#ax.semilogy()\n",
    "#ax.semilogx()\n",
    "fig.savefig(spec_path_fig, dpi=400, transparent=False, bbox_inches='tight')\n",
    "\n",
    "#ax.set_xlim(0.0,0.6)\n",
    "#plt.legend()\n",
    "#fig.savefig('tansmission_curve_V_R.png', dpi=400, transparent=False, bbox_inches='tight')\n",
    "\n"
   ]
  },
  {
   "cell_type": "code",
   "execution_count": null,
   "metadata": {},
   "outputs": [],
   "source": []
  },
  {
   "cell_type": "code",
   "execution_count": null,
   "metadata": {
    "ExecuteTime": {
     "end_time": "2022-07-15T09:08:12.543340Z",
     "start_time": "2022-07-15T09:08:11.259411Z"
    }
   },
   "outputs": [],
   "source": [
    "#source_name='pks1510'\n",
    "source_Name='1H 0323+342'\n",
    "#source_Name=Source_Name_dict[source_name]\n",
    "source_name=Source_name_dict[source_Name]\n",
    "\n",
    "source_z=Fermi_AGN_list_name_redshift_T[Fermi_AGN_list_name_redshift_T['      Input Object Name       '].str.strip()==source_Name]['z_value']\n",
    "datatypes=['phot','pol']\n",
    "\n",
    "print(source_name,source_Name,source_z.values[0])\n",
    "\n",
    "spec_path=os.path.join(root_data_dir,source_name,source_name+'_6','1h0323.spec_131005.fits')\n",
    "spec_path_fig=spec_path+'.png'\n",
    "date_spec_path=spec_path.split('.')[-2]\n",
    "\n",
    "spec_hdul=fits.open(spec_path)\n",
    "print(len(spec_hdul[0].data))\n",
    "\n",
    "fig = plt.figure(figsize=(12,8))\n",
    "fig.subplots_adjust(hspace=0.0, wspace = 0.0)\n",
    "ax = fig.add_subplot(111)\n",
    "\n",
    "\n",
    "lambda_spec=np.linspace(4000,7550,len(spec_hdul[0].data))\n",
    "ax.plot(lambda_spec/(1+source_z.values[0]),spec_hdul[0].data,color='red',marker='o',label=date_spec_path)\n",
    "#ax.plot(Fermi_monitir_lambdas,Fermi_monitor_AGN_R[0].data,color='blue',marker='o',label='R')\n",
    "\n",
    "#set_ax_locator(ax,xma=0.2,xmi=0.1,yma=10,ymi=5)\n",
    "set_ax_tick(ax)\n",
    "\n",
    "#ax.set_xlabel('Type')\n",
    "#ax2.set_xlabel('Type')\n",
    "ax.set_xlabel(r'$\\lambda/(1+z)(\\AA)$')\n",
    "ax.set_ylabel(r'flux')\n",
    "\n",
    "ax.set_title(source_Name)\n",
    "\n",
    "ax.xaxis.set_tick_params(which='major', size=10, width=2, rotation=45,)\n",
    "handles, labels = ax.get_legend_handles_labels()\n",
    "# remove the errorbars\n",
    "#hdl = [h[0] for h in handles]\n",
    "hdl = handles\n",
    "labels_dict=dict(zip(labels, hdl)) #key,values\n",
    "by_label=OrderedDict(sorted(labels_dict.items(),key=lambda t:t[0]))\n",
    "\n",
    "ax.legend(by_label.values(), by_label.keys(), bbox_to_anchor=(0.01, 0.99),\n",
    "          loc=2, numpoints=1,ncol=1,fontsize=11.)\n",
    "\n",
    "# use them in the legend\n",
    "#by_label = OrderedDict(zip(labels, handles)) \n",
    "#ax.legend(by_label.values(), by_label.keys(), bbox_to_anchor=(0.0, 0.9),loc=2, numpoints=1, fontsize=11. )\n",
    "\n",
    "\n",
    "#ax.semilogy()\n",
    "#ax.semilogx()\n",
    "fig.savefig(spec_path_fig, dpi=400, transparent=False, bbox_inches='tight')\n",
    "\n",
    "#ax.set_xlim(0.0,0.6)\n",
    "#plt.legend()\n",
    "#fig.savefig('tansmission_curve_V_R.png', dpi=400, transparent=False, bbox_inches='tight')\n",
    "\n"
   ]
  },
  {
   "cell_type": "markdown",
   "metadata": {},
   "source": [
    "## BL Lac"
   ]
  },
  {
   "cell_type": "code",
   "execution_count": null,
   "metadata": {
    "ExecuteTime": {
     "end_time": "2022-07-13T07:01:55.486280Z",
     "start_time": "2022-07-13T07:01:55.455772Z"
    }
   },
   "outputs": [],
   "source": [
    "#source_name='pks1510'\n",
    "source_Name='BL Lac'\n",
    "#source_Name=Source_Name_dict[source_name]\n",
    "source_name=Source_name_dict[source_Name]\n",
    "\n",
    "source_z=Fermi_AGN_list_name_redshift_T[Fermi_AGN_list_name_redshift_T['      Input Object Name       '].str.strip()==source_Name]['z_value']\n",
    "datatypes=['phot','pol']\n",
    "\n",
    "print(source_name,source_Name,source_z.values[0])\n",
    "\n",
    "spec_path=os.path.join(root_data_dir,source_name,source_name,'bllac.fc.spec_081004.fits')\n",
    "spec_path_fig=spec_path+'.png'\n",
    "date_spec_path=spec_path.split('.')[-2]\n",
    "\n",
    "spec_hdul=fits.open(spec_path)\n",
    "print(len(spec_hdul[0].data))\n",
    "\n"
   ]
  },
  {
   "cell_type": "code",
   "execution_count": null,
   "metadata": {
    "ExecuteTime": {
     "end_time": "2022-07-13T07:01:57.399130Z",
     "start_time": "2022-07-13T07:01:56.352990Z"
    }
   },
   "outputs": [],
   "source": [
    "fig = plt.figure(figsize=(12,8))\n",
    "fig.subplots_adjust(hspace=0.0, wspace = 0.0)\n",
    "ax = fig.add_subplot(111)\n",
    "\n",
    "\n",
    "lambda_spec=np.linspace(4000,7550,len(spec_hdul[0].data))\n",
    "ax.plot(lambda_spec/(1+source_z.values[0]),spec_hdul[0].data,color='red',marker='o',label=date_spec_path)\n",
    "#ax.plot(Fermi_monitir_lambdas,Fermi_monitor_AGN_R[0].data,color='blue',marker='o',label='R')\n",
    "\n",
    "#set_ax_locator(ax,xma=0.2,xmi=0.1,yma=10,ymi=5)\n",
    "set_ax_tick(ax)\n",
    "\n",
    "#ax.set_xlabel('Type')\n",
    "#ax2.set_xlabel('Type')\n",
    "ax.set_xlabel(r'$\\lambda/(1+z)(\\AA)$')\n",
    "ax.set_ylabel(r'flux')\n",
    "ax.set_xlim(6000,7000)\n",
    "ax.set_title(source_Name)\n",
    "\n",
    "ax.xaxis.set_tick_params(which='major', size=10, width=2, rotation=45,)\n",
    "handles, labels = ax.get_legend_handles_labels()\n",
    "# remove the errorbars\n",
    "#hdl = [h[0] for h in handles]\n",
    "hdl = handles\n",
    "labels_dict=dict(zip(labels, hdl)) #key,values\n",
    "by_label=OrderedDict(sorted(labels_dict.items(),key=lambda t:t[0]))\n",
    "\n",
    "ax.legend(by_label.values(), by_label.keys(), bbox_to_anchor=(0.01, 0.99),\n",
    "          loc=2, numpoints=1,ncol=1,fontsize=11.)\n",
    "\n",
    "# use them in the legend\n",
    "#by_label = OrderedDict(zip(labels, handles)) \n",
    "#ax.legend(by_label.values(), by_label.keys(), bbox_to_anchor=(0.0, 0.9),loc=2, numpoints=1, fontsize=11. )\n",
    "\n",
    "\n",
    "#ax.semilogy()\n",
    "#ax.semilogx()\n",
    "fig.savefig(spec_path_fig, dpi=400, transparent=False, bbox_inches='tight')\n",
    "\n",
    "#ax.set_xlim(0.0,0.6)\n",
    "#plt.legend()\n",
    "#fig.savefig('tansmission_curve_V_R.png', dpi=400, transparent=False, bbox_inches='tight')\n"
   ]
  },
  {
   "cell_type": "code",
   "execution_count": null,
   "metadata": {},
   "outputs": [],
   "source": []
  },
  {
   "cell_type": "code",
   "execution_count": null,
   "metadata": {},
   "outputs": [],
   "source": []
  },
  {
   "cell_type": "code",
   "execution_count": null,
   "metadata": {},
   "outputs": [],
   "source": []
  },
  {
   "cell_type": "code",
   "execution_count": null,
   "metadata": {},
   "outputs": [],
   "source": []
  },
  {
   "cell_type": "code",
   "execution_count": null,
   "metadata": {
    "ExecuteTime": {
     "end_time": "2022-07-11T12:15:43.378209Z",
     "start_time": "2022-07-11T12:15:43.373181Z"
    }
   },
   "outputs": [],
   "source": [
    "#Fermi_AGN_list_redshift=Fermi_AGN_list_name_redshift.dropna(axis = 0)\n",
    "#Fermi_AGN_list_redshift=drop_index(Fermi_AGN_list_redshift)"
   ]
  },
  {
   "cell_type": "code",
   "execution_count": null,
   "metadata": {
    "ExecuteTime": {
     "end_time": "2022-07-11T12:17:31.985578Z",
     "start_time": "2022-07-11T12:17:31.980142Z"
    }
   },
   "outputs": [],
   "source": [
    "len(Fermi_AGN_list_redshift)"
   ]
  },
  {
   "cell_type": "code",
   "execution_count": null,
   "metadata": {
    "ExecuteTime": {
     "end_time": "2022-07-11T12:16:31.787753Z",
     "start_time": "2022-07-11T12:16:31.780903Z"
    }
   },
   "outputs": [],
   "source": [
    "Fermi_AGN_list_redshift.iloc[2][1]"
   ]
  },
  {
   "cell_type": "code",
   "execution_count": null,
   "metadata": {},
   "outputs": [],
   "source": []
  },
  {
   "cell_type": "code",
   "execution_count": null,
   "metadata": {
    "ExecuteTime": {
     "end_time": "2022-07-11T12:25:49.730022Z",
     "start_time": "2022-07-11T12:25:49.542869Z"
    }
   },
   "outputs": [],
   "source": [
    "plt.hist(Fermi_AGN_list_name_redshift_T[' Redshift '])"
   ]
  },
  {
   "cell_type": "code",
   "execution_count": null,
   "metadata": {
    "ExecuteTime": {
     "end_time": "2022-07-11T12:26:18.530008Z",
     "start_time": "2022-07-11T12:26:18.363920Z"
    },
    "scrolled": true
   },
   "outputs": [],
   "source": [
    "plt.hist(5100*(1+Fermi_AGN_list_name_redshift_T[' Redshift ']))"
   ]
  },
  {
   "cell_type": "code",
   "execution_count": null,
   "metadata": {
    "ExecuteTime": {
     "end_time": "2022-07-11T12:28:14.016812Z",
     "start_time": "2022-07-11T12:28:13.690286Z"
    }
   },
   "outputs": [],
   "source": [
    "plt.hist(4861*(1+Fermi_AGN_list_name_redshift_T[' Redshift ']))"
   ]
  },
  {
   "cell_type": "code",
   "execution_count": null,
   "metadata": {
    "ExecuteTime": {
     "end_time": "2022-07-11T12:28:30.830755Z",
     "start_time": "2022-07-11T12:28:30.616338Z"
    }
   },
   "outputs": [],
   "source": [
    "plt.hist(6563*(1+Fermi_AGN_list_name_redshift_T[' Redshift ']))"
   ]
  },
  {
   "cell_type": "markdown",
   "metadata": {},
   "source": [
    "# Halpha Hbeta"
   ]
  },
  {
   "cell_type": "code",
   "execution_count": null,
   "metadata": {
    "ExecuteTime": {
     "end_time": "2022-07-12T07:06:30.498799Z",
     "start_time": "2022-07-12T07:06:30.475449Z"
    }
   },
   "outputs": [],
   "source": [
    "z_3c273=0.158339\n",
    "6563*(1+z_3c273),4861*(1+z_3c273)"
   ]
  },
  {
   "cell_type": "code",
   "execution_count": null,
   "metadata": {
    "ExecuteTime": {
     "end_time": "2022-07-12T07:18:05.604017Z",
     "start_time": "2022-07-12T07:18:05.597710Z"
    }
   },
   "outputs": [],
   "source": [
    "7000/6563-1"
   ]
  },
  {
   "cell_type": "code",
   "execution_count": null,
   "metadata": {
    "ExecuteTime": {
     "end_time": "2022-07-13T12:37:55.612589Z",
     "start_time": "2022-07-13T12:37:55.606721Z"
    }
   },
   "outputs": [],
   "source": [
    "6563/4861-1"
   ]
  },
  {
   "cell_type": "code",
   "execution_count": null,
   "metadata": {
    "ExecuteTime": {
     "end_time": "2022-07-13T12:38:36.234107Z",
     "start_time": "2022-07-13T12:38:36.222586Z"
    }
   },
   "outputs": [],
   "source": [
    "4861*(1+0.361),6563*(1+0.006815)"
   ]
  },
  {
   "cell_type": "markdown",
   "metadata": {},
   "source": [
    "# SMA"
   ]
  },
  {
   "cell_type": "code",
   "execution_count": null,
   "metadata": {
    "ExecuteTime": {
     "end_time": "2022-07-11T12:32:12.504762Z",
     "start_time": "2022-07-11T12:32:12.499972Z"
    }
   },
   "outputs": [],
   "source": [
    "sma_url='http://sma1.sma.hawaii.edu/callist/callist.html'"
   ]
  },
  {
   "cell_type": "code",
   "execution_count": null,
   "metadata": {
    "ExecuteTime": {
     "end_time": "2022-07-11T12:32:29.069265Z",
     "start_time": "2022-07-11T12:32:24.781214Z"
    }
   },
   "outputs": [],
   "source": [
    "all_tables = pd.read_html(sma_url)\n",
    "sma_table=all_tables[3] "
   ]
  },
  {
   "cell_type": "code",
   "execution_count": null,
   "metadata": {
    "ExecuteTime": {
     "end_time": "2022-07-11T12:36:15.304911Z",
     "start_time": "2022-07-11T12:36:15.211267Z"
    }
   },
   "outputs": [],
   "source": [
    "sma_table"
   ]
  },
  {
   "cell_type": "code",
   "execution_count": null,
   "metadata": {
    "ExecuteTime": {
     "end_time": "2022-07-11T12:36:45.970062Z",
     "start_time": "2022-07-11T12:36:45.965256Z"
    }
   },
   "outputs": [],
   "source": [
    "sma_table.columns[0],sma_table.columns[1]"
   ]
  },
  {
   "cell_type": "code",
   "execution_count": null,
   "metadata": {
    "ExecuteTime": {
     "end_time": "2022-07-11T12:38:01.312081Z",
     "start_time": "2022-07-11T12:38:01.299367Z"
    }
   },
   "outputs": [],
   "source": [
    "sma_table[('Source Name', 'common')]"
   ]
  },
  {
   "cell_type": "code",
   "execution_count": null,
   "metadata": {
    "ExecuteTime": {
     "end_time": "2022-07-11T12:38:24.108065Z",
     "start_time": "2022-07-11T12:38:23.895178Z"
    }
   },
   "outputs": [],
   "source": [
    "if not os.path.exists('%s/sma_info.xlsx'%root_dir):\n",
    "    sma_table.to_excel('%s/sma_info.xlsx'%root_dir,header=0)"
   ]
  },
  {
   "cell_type": "code",
   "execution_count": null,
   "metadata": {},
   "outputs": [],
   "source": []
  },
  {
   "cell_type": "markdown",
   "metadata": {},
   "source": [
    "# VLA/VLAB"
   ]
  },
  {
   "cell_type": "code",
   "execution_count": null,
   "metadata": {
    "ExecuteTime": {
     "end_time": "2022-07-12T06:51:30.240079Z",
     "start_time": "2022-07-12T06:51:30.234315Z"
    }
   },
   "outputs": [],
   "source": [
    "calsources_url='https://www.aoc.nrao.edu/~smyers/calibration/calsources.shtml'"
   ]
  },
  {
   "cell_type": "code",
   "execution_count": null,
   "metadata": {},
   "outputs": [],
   "source": []
  },
  {
   "cell_type": "code",
   "execution_count": null,
   "metadata": {
    "ExecuteTime": {
     "end_time": "2022-07-12T06:46:58.835151Z",
     "start_time": "2022-07-12T06:46:58.802263Z"
    }
   },
   "outputs": [],
   "source": [
    "VLA_calibrator_C_url='https://www.aoc.nrao.edu/~smyers/calibration/C_band.shtml'"
   ]
  },
  {
   "cell_type": "markdown",
   "metadata": {},
   "source": [
    "## Master Calibration Database"
   ]
  },
  {
   "cell_type": "code",
   "execution_count": null,
   "metadata": {
    "ExecuteTime": {
     "end_time": "2022-07-12T06:51:04.308926Z",
     "start_time": "2022-07-12T06:51:04.283017Z"
    }
   },
   "outputs": [],
   "source": [
    "master_url='https://www.aoc.nrao.edu/~smyers/calibration/master.shtml'"
   ]
  },
  {
   "cell_type": "markdown",
   "metadata": {},
   "source": [
    "# mojava 15"
   ]
  },
  {
   "cell_type": "code",
   "execution_count": null,
   "metadata": {
    "ExecuteTime": {
     "end_time": "2022-08-25T03:12:19.242578Z",
     "start_time": "2022-08-25T03:12:19.231551Z"
    }
   },
   "outputs": [],
   "source": [
    "lag_data_dir"
   ]
  },
  {
   "cell_type": "code",
   "execution_count": null,
   "metadata": {
    "ExecuteTime": {
     "end_time": "2022-08-25T03:14:19.446286Z",
     "start_time": "2022-08-25T03:14:19.395309Z"
    }
   },
   "outputs": [],
   "source": [
    "data_PKS1510_dir_mojave=lag_data_dir\n",
    "mojave_15GHz_PKS1510=pd.read_excel('%s/VLBA_PKS1510_089.xlsx'%data_PKS1510_dir_mojave,sheet_name='Sheet1')\n",
    "mojave_15GHz_PKS1510=mojave_15GHz_PKS1510[mojave_15GHz_PKS1510['VLBA I'].notnull()]\n",
    "mojave_15GHz_PKS1510=mojave_15GHz_PKS1510[mojave_15GHz_PKS1510['VLBA Code'].notnull()]\n",
    "\n",
    "mojave_15GHz_PKS1510.columns=['Epoch', 'VLBA Code', 'VLBA I', 'VLBA P', 'VLBA percentage', 'VLBA degree',\n",
    "                            'I Image (Nat. Weight)', 'Tapered I Image',\n",
    "                            'Tapered I Image (Widefield)', 'Visibility',\n",
    "                            'Stokes I Radplot', 'Pol.','note']\n",
    "\n",
    "\n",
    "mojave_15GHz_PKS1510['mjd']=convert_mjd(mojave_15GHz_PKS1510['Epoch'])\n",
    "mojave_15GHz_PKS1510['flux']=mojave_15GHz_PKS1510['VLBA I']/1000\n",
    "mojave_15GHz_PKS1510['err']=mojave_15GHz_PKS1510['flux']*0.05\n",
    "mojave_15GHz_PKS1510=drop_index(mojave_15GHz_PKS1510)"
   ]
  },
  {
   "cell_type": "code",
   "execution_count": null,
   "metadata": {
    "ExecuteTime": {
     "end_time": "2022-08-25T03:14:25.756862Z",
     "start_time": "2022-08-25T03:14:25.729139Z"
    }
   },
   "outputs": [],
   "source": [
    "mojave_15GHz_PKS1510"
   ]
  },
  {
   "cell_type": "code",
   "execution_count": null,
   "metadata": {
    "ExecuteTime": {
     "end_time": "2022-08-25T03:15:07.964063Z",
     "start_time": "2022-08-25T03:15:07.945019Z"
    }
   },
   "outputs": [],
   "source": [
    "mojave_15GHz_PKS1510[['mjd','flux','err']].to_csv('%s/%s_VLBA_I_Jy.csv'%(root_dir,name_i),index=False)"
   ]
  },
  {
   "cell_type": "code",
   "execution_count": null,
   "metadata": {},
   "outputs": [],
   "source": []
  },
  {
   "cell_type": "code",
   "execution_count": null,
   "metadata": {
    "ExecuteTime": {
     "end_time": "2022-08-25T03:19:25.250166Z",
     "start_time": "2022-08-25T03:19:25.237857Z"
    }
   },
   "outputs": [],
   "source": [
    "mojave_15GHz_PKS1510_Pol=mojave_15GHz_PKS1510[mojave_15GHz_PKS1510['VLBA percentage'].notnull()]\n",
    "mojave_15GHz_PKS1510_Pol=drop_index(mojave_15GHz_PKS1510_Pol)\n",
    "mojave_15GHz_PKS1510_Pol['VLBA percentage error']=mojave_15GHz_PKS1510_Pol['VLBA percentage']*0.05"
   ]
  },
  {
   "cell_type": "code",
   "execution_count": null,
   "metadata": {
    "ExecuteTime": {
     "end_time": "2022-08-25T03:19:25.541684Z",
     "start_time": "2022-08-25T03:19:25.527536Z"
    }
   },
   "outputs": [],
   "source": [
    "mojave_15GHz_PKS1510_Pol[['mjd','VLBA percentage','VLBA percentage error']].to_csv('%s/%s_VLBA_Pol.csv'%(root_dir,name_i),index=False)"
   ]
  },
  {
   "cell_type": "code",
   "execution_count": null,
   "metadata": {},
   "outputs": [],
   "source": []
  },
  {
   "cell_type": "code",
   "execution_count": null,
   "metadata": {
    "ExecuteTime": {
     "end_time": "2022-08-25T03:38:01.886822Z",
     "start_time": "2022-08-25T03:38:01.863874Z"
    }
   },
   "outputs": [],
   "source": [
    "mojave_15GHz_PKS1510_Pol_PA=mojave_15GHz_PKS1510[mojave_15GHz_PKS1510['VLBA degree'].notnull()]\n",
    "mojave_15GHz_PKS1510_Pol_PA=drop_index(mojave_15GHz_PKS1510_Pol_PA)\n",
    "mojave_15GHz_PKS1510_Pol_PA['VLBA degree error']=mojave_15GHz_PKS1510_Pol_PA['VLBA degree']*0.05\n",
    "\n",
    "mojave_15GHz_PKS1510_Pol_PA[['mjd','VLBA degree','VLBA degree error']].to_csv('%s/%s_VLBA_Pol_PA.csv'%(root_dir,name_i),index=False)"
   ]
  },
  {
   "cell_type": "code",
   "execution_count": null,
   "metadata": {},
   "outputs": [],
   "source": []
  },
  {
   "cell_type": "code",
   "execution_count": null,
   "metadata": {},
   "outputs": [],
   "source": []
  },
  {
   "cell_type": "code",
   "execution_count": null,
   "metadata": {},
   "outputs": [],
   "source": []
  },
  {
   "cell_type": "code",
   "execution_count": null,
   "metadata": {
    "ExecuteTime": {
     "end_time": "2022-08-24T05:42:43.154324Z",
     "start_time": "2022-08-24T05:42:43.136951Z"
    }
   },
   "outputs": [],
   "source": [
    "import pandas as pd\n",
    "import warnings\n",
    "warnings.filterwarnings('ignore')\n",
    "df1 = pd.DataFrame({'A': ['A0', 'A1', 'A2', 'A3'],\n",
    "                    'B': ['B0', 'B1', 'B2', 'B3'],\n",
    "                    'C': ['C0', 'C1', 'C2', 'C3'],\n",
    "                    'D': ['D0', 'D1', 'D2', 'D3'],\n",
    "                    'E': ['E0', 'E1', 'E2', 'E3']\n",
    "                   })\n",
    "df2 = pd.DataFrame({ 'A': ['A4', 'A5', 'A6', 'A7'],\n",
    "                     'B': ['B4', 'B5', 'B6', 'B7'],\n",
    "                     'C': ['C4', 'C5', 'C6', 'C7'],\n",
    "                     'D': ['D4', 'D5', 'D6', 'D7'],\n",
    "                     'F': ['F4', 'F5', 'F6', 'F7']\n",
    "                   })\n"
   ]
  },
  {
   "cell_type": "code",
   "execution_count": null,
   "metadata": {
    "ExecuteTime": {
     "end_time": "2022-08-24T05:43:39.224811Z",
     "start_time": "2022-08-24T05:43:39.208591Z"
    }
   },
   "outputs": [],
   "source": [
    "pd.concat([df1,df2],ignore_index=True)"
   ]
  },
  {
   "cell_type": "code",
   "execution_count": null,
   "metadata": {
    "ExecuteTime": {
     "end_time": "2022-09-14T06:17:05.063469Z",
     "start_time": "2022-09-14T06:17:05.044237Z"
    }
   },
   "outputs": [],
   "source": [
    "pwd"
   ]
  },
  {
   "cell_type": "code",
   "execution_count": null,
   "metadata": {},
   "outputs": [],
   "source": []
  }
 ],
 "metadata": {
  "kernelspec": {
   "display_name": "Python 3 (ipykernel)",
   "language": "python",
   "name": "python3"
  },
  "language_info": {
   "codemirror_mode": {
    "name": "ipython",
    "version": 3
   },
   "file_extension": ".py",
   "mimetype": "text/x-python",
   "name": "python",
   "nbconvert_exporter": "python",
   "pygments_lexer": "ipython3",
   "version": "3.9.12"
  },
  "latex_envs": {
   "LaTeX_envs_menu_present": true,
   "autoclose": false,
   "autocomplete": true,
   "bibliofile": "biblio.bib",
   "cite_by": "apalike",
   "current_citInitial": 1,
   "eqLabelWithNumbers": true,
   "eqNumInitial": 1,
   "hotkeys": {
    "equation": "Ctrl-E",
    "itemize": "Ctrl-I"
   },
   "labels_anchors": false,
   "latex_user_defs": false,
   "report_style_numbering": false,
   "user_envs_cfg": false
  },
  "toc": {
   "base_numbering": 1,
   "nav_menu": {},
   "number_sections": true,
   "sideBar": true,
   "skip_h1_title": false,
   "title_cell": "Table of Contents",
   "title_sidebar": "Contents",
   "toc_cell": false,
   "toc_position": {
    "height": "473.273px",
    "left": "0px",
    "right": "1670.52px",
    "top": "135.711px",
    "width": "211.953px"
   },
   "toc_section_display": "block",
   "toc_window_display": true
  }
 },
 "nbformat": 4,
 "nbformat_minor": 2
}
