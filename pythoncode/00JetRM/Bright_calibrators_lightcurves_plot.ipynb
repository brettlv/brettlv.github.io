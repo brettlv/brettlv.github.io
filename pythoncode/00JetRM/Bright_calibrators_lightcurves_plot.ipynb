{
 "cells": [
  {
   "cell_type": "code",
   "execution_count": null,
   "metadata": {},
   "outputs": [],
   "source": [
    "1mm"
   ]
  },
  {
   "cell_type": "code",
   "execution_count": null,
   "metadata": {},
   "outputs": [],
   "source": [
    "21cm 1.4GHz"
   ]
  },
  {
   "cell_type": "code",
   "execution_count": null,
   "metadata": {},
   "outputs": [],
   "source": []
  },
  {
   "cell_type": "code",
   "execution_count": null,
   "metadata": {
    "ExecuteTime": {
     "end_time": "2022-07-04T14:26:37.794503Z",
     "start_time": "2022-07-04T14:26:37.789904Z"
    }
   },
   "outputs": [],
   "source": [
    "freq=3e8/1e-3\n",
    "print(freq/1e9,'GHz')"
   ]
  },
  {
   "cell_type": "code",
   "execution_count": null,
   "metadata": {
    "ExecuteTime": {
     "end_time": "2022-07-04T14:26:29.306351Z",
     "start_time": "2022-07-04T14:26:29.302188Z"
    }
   },
   "outputs": [],
   "source": [
    "freq=3e8/21e-2\n",
    "print(freq/1e9,'GHz')"
   ]
  },
  {
   "cell_type": "code",
   "execution_count": null,
   "metadata": {
    "ExecuteTime": {
     "end_time": "2022-07-04T14:27:41.139245Z",
     "start_time": "2022-07-04T14:27:41.135251Z"
    }
   },
   "outputs": [],
   "source": [
    "freq=3e8/850e-6\n",
    "print(freq/1e9,'GHz')"
   ]
  },
  {
   "cell_type": "code",
   "execution_count": null,
   "metadata": {
    "ExecuteTime": {
     "end_time": "2022-09-19T08:13:36.093618Z",
     "start_time": "2022-09-19T08:13:32.459748Z"
    }
   },
   "outputs": [],
   "source": [
    "import sys\n",
    "!{sys.executable} -m pip install astroquery #pyfftw"
   ]
  },
  {
   "cell_type": "markdown",
   "metadata": {},
   "source": [
    "# import "
   ]
  },
  {
   "cell_type": "code",
   "execution_count": 1,
   "metadata": {
    "ExecuteTime": {
     "end_time": "2022-09-27T08:51:18.194317Z",
     "start_time": "2022-09-27T08:51:16.868833Z"
    }
   },
   "outputs": [],
   "source": [
    "import pandas as pd\n",
    "import numpy as np\n",
    "\n",
    "import time\n",
    "import os\n",
    "import sys\n",
    "\n",
    "from astropy import config as _config\n",
    "from astroquery.ipac.irsa import Irsa   \n",
    "from astropy import units as u\n",
    "from astropy.coordinates import SkyCoord\n"
   ]
  },
  {
   "cell_type": "code",
   "execution_count": 2,
   "metadata": {
    "ExecuteTime": {
     "end_time": "2022-09-27T08:51:19.310350Z",
     "start_time": "2022-09-27T08:51:18.195572Z"
    }
   },
   "outputs": [],
   "source": [
    "#import numpy as np\n",
    "#import pandas as pd\n",
    "\n",
    "from astropy.table import Table\n",
    "from astropy.io import fits\n",
    "from astropy import units as u\n",
    "from astropy import constants \n",
    "from astropy.coordinates import SkyCoord\n",
    "from astropy.visualization import hist\n",
    "from astroML.datasets import fetch_imaging_sample, fetch_sdss_S82standards\n",
    "from astroML.crossmatch import crossmatch_angular"
   ]
  },
  {
   "cell_type": "markdown",
   "metadata": {
    "ExecuteTime": {
     "end_time": "2022-08-23T13:19:54.172574Z",
     "start_time": "2022-08-23T13:19:47.724514Z"
    }
   },
   "source": [
    "import sys\n",
    "!{sys.executable} -m pip install adjustText"
   ]
  },
  {
   "cell_type": "code",
   "execution_count": 3,
   "metadata": {
    "ExecuteTime": {
     "end_time": "2022-09-27T08:51:21.321572Z",
     "start_time": "2022-09-27T08:51:21.291128Z"
    }
   },
   "outputs": [],
   "source": [
    "import matplotlib as mpl\n",
    "import matplotlib.pyplot as plt\n",
    "\n",
    "from pylab import cm\n",
    "\n",
    "import os\n",
    "from collections import OrderedDict\n",
    "from adjustText import adjust_text\n",
    "\n",
    "%matplotlib inline\n",
    "%config InlineBackend.figure_format='svg'\n",
    "# Edit the font, font size, and axes width\n",
    "mpl.rcParams['font.family'] = 'Avenir'\n",
    "plt.rcParams['font.size'] = 18\n",
    "plt.rcParams['axes.linewidth'] = 2"
   ]
  },
  {
   "cell_type": "code",
   "execution_count": 4,
   "metadata": {
    "ExecuteTime": {
     "end_time": "2022-09-27T08:51:22.342953Z",
     "start_time": "2022-09-27T08:51:22.326718Z"
    }
   },
   "outputs": [],
   "source": [
    "#from adjustText import adjust_text\n",
    "import matplotlib as mpl\n",
    "def set_ax_tick(ax):\n",
    "    ax.xaxis.set_tick_params(which='major', size=10, width=2, direction='in', top='on',)\n",
    "    ax.xaxis.set_tick_params(which='minor', size=5, width=2, direction='in', top='on')\n",
    "    ax.yaxis.set_tick_params(which='major', size=10, width=2, direction='in', right='on')\n",
    "    ax.yaxis.set_tick_params(which='minor', size=5, width=2, direction='in', right='on')\n",
    "\n",
    "def set_ax_locator(ax,xma=1,xmi=0.2,yma=1,ymi=0.2):\n",
    "    ax.xaxis.set_major_locator(mpl.ticker.MultipleLocator(xma))\n",
    "    ax.xaxis.set_minor_locator(mpl.ticker.MultipleLocator(xmi))\n",
    "    ax.yaxis.set_major_locator(mpl.ticker.MultipleLocator(yma))\n",
    "    ax.yaxis.set_minor_locator(mpl.ticker.MultipleLocator(ymi)) "
   ]
  },
  {
   "cell_type": "code",
   "execution_count": 5,
   "metadata": {
    "ExecuteTime": {
     "end_time": "2022-09-27T08:51:22.672597Z",
     "start_time": "2022-09-27T08:51:22.660910Z"
    }
   },
   "outputs": [],
   "source": [
    "import pandas as pd\n",
    "import numpy as np\n",
    "import os\n",
    "\n",
    "def get_obsids(path):\n",
    "    dirname=os.listdir(path)\n",
    "    obsids=[]\n",
    "    for i in dirname:\n",
    "        if i.isdigit():\n",
    "            obsids.append(i)\n",
    "    obsids.sort()        \n",
    "    return obsids\n",
    "\n",
    "def drop_index(data):\n",
    "    data=data.reset_index(drop=True)\n",
    "    return data"
   ]
  },
  {
   "cell_type": "markdown",
   "metadata": {},
   "source": [
    "## time_convert"
   ]
  },
  {
   "cell_type": "code",
   "execution_count": 6,
   "metadata": {
    "ExecuteTime": {
     "end_time": "2022-09-27T08:51:23.704727Z",
     "start_time": "2022-09-27T08:51:23.683170Z"
    }
   },
   "outputs": [],
   "source": [
    "from astropy.time import Time\n",
    "from astropy.io import fits\n",
    "import time\n",
    "import datetime\n",
    "from matplotlib.pyplot import MultipleLocator\n",
    "import matplotlib.dates as mdates\n",
    "\n",
    "def datetime2mjd(x):\n",
    "    mjd_ref=59000\n",
    "    mjd_minus_mdates_num=mdates.date2num(convert_xaxis_time(mjd_ref))-mjd_ref\n",
    "    \n",
    "    x=mdates.date2num(x)\n",
    "    y = x - mjd_minus_mdates_num   \n",
    "    return y\n",
    "\n",
    "def mjd2datetime(x):\n",
    "    mjd_ref=59000\n",
    "    mjd_minus_mdates_num=mdates.date2num(convert_xaxis_time(mjd_ref))-mjd_ref\n",
    "    y= x + mjd_minus_mdates_num\n",
    "    y= mdates.num2date(y)\n",
    "    return y\n",
    "\n",
    "\n",
    "\n",
    "def datenums2mjd(x):\n",
    "    #x=mdates.date2num(x)\n",
    "    mjd_ref=59000\n",
    "    mjd_minus_mdates_num=mdates.date2num(convert_xaxis_time(mjd_ref))-mjd_ref\n",
    "    y = x - mjd_minus_mdates_num   \n",
    "    return y\n",
    "\n",
    "def mjd2numsdate(x):\n",
    "    mjd_ref=59000\n",
    "    mjd_minus_mdates_num=mdates.date2num(convert_xaxis_time(mjd_ref))-mjd_ref\n",
    "    \n",
    "    y= x + mjd_minus_mdates_num\n",
    "    #y= mdates.num2date(y)\n",
    "    return y\n",
    "\n",
    "\n",
    "def convert_xaxis_mjd(time):\n",
    "    return Time(time).mjd   \n",
    "\n",
    "def convert_xaxis_time(mjd):\n",
    "    return Time(mjd,format='mjd').to_datetime()\n",
    "\n",
    "\n",
    "def date2yday(x):\n",
    "    \"\"\"\n",
    "    x is in matplotlib datenums, so they are floats.\n",
    "    \"\"\"\n",
    "    y = x - mdates.date2num(datetime(2018, 1, 1))\n",
    "    return y\n",
    "\n",
    "def yday2date(x):\n",
    "    \"\"\"\n",
    "    return a matplotlib datenum (x is days since start of year of 2018)\n",
    "    \"\"\"\n",
    "    y = x + mdates.date2num(datetime(2018, 1, 1))\n",
    "    return y\n",
    "\n",
    "\n",
    "def convert_partial_year(numbers):\n",
    "    datetimes=[]\n",
    "    for number in numbers:\n",
    "        year = int(number)\n",
    "        d = timedelta(days=(number - year)*(365 + is_leap(year)))\n",
    "        day_one = datetime(year,1,1)\n",
    "        date = d + day_one\n",
    "        datetimes.append(date)\n",
    "    return datetimes\n",
    "\n",
    "\n",
    "def is_leap(year):\n",
    "    if not year%4 and  year%100 or not year%400:\n",
    "        return True\n",
    "    return False\n",
    "\n",
    "\n",
    "def convert_mjd(times):\n",
    "    timesmjd=[]\n",
    "    for i in times:\n",
    "        timesmjd.append(Time(i).mjd)\n",
    "    return timesmjd  \n",
    "\n",
    "\n",
    "def convert_date(times):\n",
    "    timesdate=[]\n",
    "    for i in times:\n",
    "        timesdate.append(Time(i,format='mjd').datetime)\n",
    "    return timesdate\n",
    "\n",
    "def convert_date_single(time):\n",
    "    timedate=Time(time,format='mjd').datetime\n",
    "    return timedate"
   ]
  },
  {
   "cell_type": "code",
   "execution_count": 7,
   "metadata": {
    "ExecuteTime": {
     "end_time": "2022-09-27T08:51:24.386165Z",
     "start_time": "2022-09-27T08:51:24.376017Z"
    }
   },
   "outputs": [],
   "source": [
    "def plot_secax(ax,mi_interval=365,ma_interval=365*2,rotation=30,):\n",
    "    secax1 = ax.secondary_xaxis('top', functions=(mjd2numsdate,datenums2mjd))\n",
    "    secax1.xaxis.set_major_formatter(mdates.DateFormatter(\"%Y-%m\"))\n",
    "    secax1.xaxis.set_major_locator(mdates.DayLocator(interval=ma_interval))\n",
    "    secax1.xaxis.set_minor_locator(mdates.DayLocator(interval=mi_interval))\n",
    "    secax1.xaxis.set_tick_params(which='major', size=10, width=2, direction='out')\n",
    "    secax1.xaxis.set_tick_params(which='minor', size=5, width=2, direction='out')\n",
    "    secax1.xaxis.set_tick_params(which='major', size=10, width=2, direction='out', rotation=rotation,)"
   ]
  },
  {
   "cell_type": "code",
   "execution_count": 8,
   "metadata": {
    "ExecuteTime": {
     "end_time": "2022-09-27T08:51:25.758023Z",
     "start_time": "2022-09-27T08:51:25.743294Z"
    }
   },
   "outputs": [
    {
     "data": {
      "text/plain": [
       "57033.0"
      ]
     },
     "execution_count": 8,
     "metadata": {},
     "output_type": "execute_result"
    }
   ],
   "source": [
    "convert_xaxis_mjd(datetime.datetime(2015, 1, 11, 0, 0))"
   ]
  },
  {
   "cell_type": "code",
   "execution_count": null,
   "metadata": {},
   "outputs": [],
   "source": []
  },
  {
   "cell_type": "code",
   "execution_count": null,
   "metadata": {},
   "outputs": [],
   "source": []
  },
  {
   "cell_type": "code",
   "execution_count": null,
   "metadata": {},
   "outputs": [],
   "source": []
  },
  {
   "cell_type": "markdown",
   "metadata": {},
   "source": [
    "# Fermi sources"
   ]
  },
  {
   "cell_type": "code",
   "execution_count": 9,
   "metadata": {
    "ExecuteTime": {
     "end_time": "2022-09-27T08:51:28.383825Z",
     "start_time": "2022-09-27T08:51:28.377176Z"
    }
   },
   "outputs": [],
   "source": [
    "sources_individual_url='http://james.as.arizona.edu/~psmith/Fermi/DATA/individual.html'"
   ]
  },
  {
   "cell_type": "code",
   "execution_count": 10,
   "metadata": {
    "ExecuteTime": {
     "end_time": "2022-09-27T08:51:30.221346Z",
     "start_time": "2022-09-27T08:51:28.865885Z"
    }
   },
   "outputs": [],
   "source": [
    "import requests\n",
    "r=requests.get(sources_individual_url)\n",
    "demo=r.text\n",
    "\n",
    "\n",
    "from bs4 import BeautifulSoup\n",
    "\n",
    "sources_individual=[]\n",
    "soup=BeautifulSoup(demo,\"html.parser\")\n",
    "for link in soup.find_all('a'):\n",
    "    if link.get('href'):\n",
    "        if link.get('href').startswith('Objects'):\n",
    "            name_i=link.get('href')[8:-5]\n",
    "            if name_i not in sources_individual:\n",
    "                sources_individual.append(name_i)\n",
    "                #print(name_i)"
   ]
  },
  {
   "cell_type": "code",
   "execution_count": 11,
   "metadata": {
    "ExecuteTime": {
     "end_time": "2022-09-27T08:51:32.082521Z",
     "start_time": "2022-09-27T08:51:30.222602Z"
    }
   },
   "outputs": [],
   "source": [
    "import requests\n",
    "from bs4 import BeautifulSoup\n",
    "\n",
    "r=requests.get(sources_individual_url)\n",
    "demo=r.text\n",
    "\n",
    "\n",
    "sources_individual_Name=[]\n",
    "soup=BeautifulSoup(demo,\"html.parser\")\n",
    "for link in soup.find_all('a'):\n",
    "    if link.get('href'):\n",
    "        if link.get('href').startswith('Objects'):\n",
    "            #name_i=link.get('href')[8:-5]\n",
    "            Name_i=link.get_text()\n",
    "            if Name_i not in sources_individual:\n",
    "                sources_individual_Name.append(Name_i)\n",
    "                #print(Name_i)"
   ]
  },
  {
   "cell_type": "code",
   "execution_count": 12,
   "metadata": {
    "ExecuteTime": {
     "end_time": "2022-09-27T08:51:32.092893Z",
     "start_time": "2022-09-27T08:51:32.085708Z"
    }
   },
   "outputs": [
    {
     "data": {
      "text/plain": [
       "(80, 80)"
      ]
     },
     "execution_count": 12,
     "metadata": {},
     "output_type": "execute_result"
    }
   ],
   "source": [
    "len(sources_individual),len(sources_individual_Name)"
   ]
  },
  {
   "cell_type": "markdown",
   "metadata": {
    "ExecuteTime": {
     "end_time": "2022-09-27T08:51:32.103407Z",
     "start_time": "2022-09-27T08:51:32.097407Z"
    }
   },
   "source": [
    "for url_name_,Name_ in zip(sources_individual,sources_individual_Name):\n",
    "    print(url_name_,Name_)"
   ]
  },
  {
   "cell_type": "code",
   "execution_count": 14,
   "metadata": {
    "ExecuteTime": {
     "end_time": "2022-09-27T08:51:32.107679Z",
     "start_time": "2022-09-27T08:51:32.104946Z"
    }
   },
   "outputs": [],
   "source": [
    "Source_Name_dict = dict(zip(sources_individual,sources_individual_Name))#nametoName\n",
    "Source_name_dict = dict(zip(sources_individual_Name,sources_individual))"
   ]
  },
  {
   "cell_type": "code",
   "execution_count": null,
   "metadata": {},
   "outputs": [],
   "source": []
  },
  {
   "cell_type": "code",
   "execution_count": null,
   "metadata": {
    "ExecuteTime": {
     "end_time": "2022-08-23T13:21:34.548205Z",
     "start_time": "2022-08-23T13:21:34.537827Z"
    }
   },
   "outputs": [],
   "source": [
    "import json\n",
    "import numpy as np\n",
    "import pickle\n",
    "\n",
    "with open('Source_Name_dict_pickle.json', \"rb\") as f:# load dict\n",
    "    Source_Name_dict_load_pickle = pickle.load(f)\n",
    "\n",
    "Source_Name_dict_load_pickle_Name2url  = dict(zip(Source_Name_dict_load_pickle .values(), Source_Name_dict_load_pickle .keys()))     "
   ]
  },
  {
   "cell_type": "code",
   "execution_count": null,
   "metadata": {
    "ExecuteTime": {
     "end_time": "2022-08-24T02:27:25.644406Z",
     "start_time": "2022-08-24T02:27:25.629172Z"
    }
   },
   "outputs": [],
   "source": [
    "Source_Name_dict_load_pickle"
   ]
  },
  {
   "cell_type": "code",
   "execution_count": null,
   "metadata": {
    "ExecuteTime": {
     "end_time": "2022-08-24T02:31:05.893964Z",
     "start_time": "2022-08-24T02:31:05.878461Z"
    }
   },
   "outputs": [],
   "source": [
    "Source_Name_dict_load_pickle_Name2url"
   ]
  },
  {
   "cell_type": "code",
   "execution_count": null,
   "metadata": {
    "ExecuteTime": {
     "end_time": "2022-07-13T06:53:37.320430Z",
     "start_time": "2022-07-13T06:53:37.311887Z"
    }
   },
   "outputs": [],
   "source": [
    "Source_Name_dict "
   ]
  },
  {
   "cell_type": "markdown",
   "metadata": {},
   "source": [
    "for i,j in zip(Fermi_AGN_list_name_redshift_T[Fermi_AGN_list_name_redshift_T.columns[0]],Fermi_AGN_list_name_redshift_T[Fermi_AGN_list_name_redshift_T.columns[2]]):\n",
    "    print(i,j)"
   ]
  },
  {
   "cell_type": "markdown",
   "metadata": {},
   "source": [
    "## root_dir"
   ]
  },
  {
   "cell_type": "code",
   "execution_count": 15,
   "metadata": {
    "ExecuteTime": {
     "end_time": "2022-09-27T08:51:43.882207Z",
     "start_time": "2022-09-27T08:51:43.873368Z"
    }
   },
   "outputs": [],
   "source": [
    "#root_dir='/Users/brettlv/Downloads/Fermi AGN optical monitoring program at Steward Observatory/'\n",
    "#root_data_dir='/Users/brettlv/Downloads/Fermi AGN optical monitoring program at Steward Observatory/Sources/'\n",
    "\n",
    "#data_root_dir='/Volumes/ExtremeSSD/00PKU_SCI/Fermi_AGN_optical_monitoring_program_at_Steward_Observatory/'\n",
    "root_dir='/Volumes/ExtremeSSD/00PKU_SCI/Fermi_AGN_optical_monitoring_program_at_Steward_Observatory/'\n",
    "root_data_dir='/Volumes/ExtremeSSD/00PKU_SCI/Fermi_AGN_optical_monitoring_program_at_Steward_Observatory/Sources/'\n",
    "Rphot_dir='/Volumes/ExtremeSSD/00PKU_SCI/Fermi_AGN_optical_monitoring_program_at_Steward_Observatory/Rphot/'\n",
    "\n",
    "\n",
    "sources_individual_url='http://james.as.arizona.edu/~psmith/Fermi/DATA/individual.html'\n",
    "root_url='http://james.as.arizona.edu/~psmith/Fermi/DATA/'\n",
    "root_obj_url='http://james.as.arizona.edu/~psmith/Fermi/DATA/Objects/'#pmn_j0017.html\n",
    "\n",
    "lag_data_dir='/Volumes/ExtremeSSD/00PKU_SCI/FermiAGN_lag/lag_data'"
   ]
  },
  {
   "cell_type": "code",
   "execution_count": null,
   "metadata": {
    "ExecuteTime": {
     "end_time": "2022-08-24T03:11:42.547946Z",
     "start_time": "2022-08-24T03:11:42.538111Z"
    }
   },
   "outputs": [],
   "source": [
    "root_dir,root_data_dir"
   ]
  },
  {
   "cell_type": "markdown",
   "metadata": {
    "ExecuteTime": {
     "end_time": "2022-08-24T03:11:47.343519Z",
     "start_time": "2022-08-24T03:11:47.329375Z"
    }
   },
   "source": [
    "Fermi_monitor_AGN_R[0].header"
   ]
  },
  {
   "cell_type": "markdown",
   "metadata": {
    "ExecuteTime": {
     "end_time": "2022-08-24T03:11:47.697684Z",
     "start_time": "2022-08-24T03:11:47.685351Z"
    }
   },
   "source": [
    "Fermi_monitor_AGN_V[0].header"
   ]
  },
  {
   "cell_type": "code",
   "execution_count": null,
   "metadata": {
    "ExecuteTime": {
     "end_time": "2022-07-13T06:54:12.786359Z",
     "start_time": "2022-07-13T06:54:12.711350Z"
    }
   },
   "outputs": [],
   "source": [
    "Fermi_monitor_AGN_V[0].data,Fermi_monitor_AGN_R[0].data"
   ]
  },
  {
   "cell_type": "markdown",
   "metadata": {},
   "source": [
    "## read R V response"
   ]
  },
  {
   "cell_type": "code",
   "execution_count": 16,
   "metadata": {
    "ExecuteTime": {
     "end_time": "2022-09-27T08:51:46.556288Z",
     "start_time": "2022-09-27T08:51:46.518781Z"
    }
   },
   "outputs": [],
   "source": [
    "Fermi_monitor_AGN_V=fits.open('%s/V.fits'%root_dir)\n",
    "Fermi_monitor_AGN_R=fits.open('%s/R.fits'%root_dir)"
   ]
  },
  {
   "cell_type": "code",
   "execution_count": null,
   "metadata": {},
   "outputs": [],
   "source": [
    "len(Fermi_monitor_AGN_V)"
   ]
  },
  {
   "cell_type": "markdown",
   "metadata": {},
   "source": [
    "## plot R V response"
   ]
  },
  {
   "cell_type": "code",
   "execution_count": 19,
   "metadata": {
    "ExecuteTime": {
     "end_time": "2022-09-27T08:52:08.950017Z",
     "start_time": "2022-09-27T08:52:08.930236Z"
    }
   },
   "outputs": [
    {
     "data": {
      "text/plain": [
       "array([3000., 3100., 3200., 3300., 3400., 3500., 3600., 3700., 3800.,\n",
       "       3900., 4000., 4100., 4200., 4300., 4400., 4500., 4600., 4700.,\n",
       "       4800., 4900., 5000., 5100., 5200., 5300., 5400., 5500., 5600.,\n",
       "       5700., 5800., 5900., 6000., 6100., 6200., 6300., 6400., 6500.,\n",
       "       6600., 6700., 6800., 6900., 7000., 7100., 7200., 7300., 7400.,\n",
       "       7500., 7600., 7700., 7800., 7900., 8000., 8100., 8200., 8300.,\n",
       "       8400., 8500., 8600., 8700., 8800., 8900., 9000.])"
      ]
     },
     "execution_count": 19,
     "metadata": {},
     "output_type": "execute_result"
    }
   ],
   "source": [
    "# Fermi_monitor_lambdas\n",
    "Fermi_monitir_lambdas=np.linspace(3000,9000,61)\n",
    "Fermi_monitir_lambdas"
   ]
  },
  {
   "cell_type": "code",
   "execution_count": 20,
   "metadata": {
    "ExecuteTime": {
     "end_time": "2022-09-27T08:52:15.058553Z",
     "start_time": "2022-09-27T08:52:15.045184Z"
    }
   },
   "outputs": [
    {
     "data": {
      "text/plain": [
       "(61, 61)"
      ]
     },
     "execution_count": 20,
     "metadata": {},
     "output_type": "execute_result"
    }
   ],
   "source": [
    "len(Fermi_monitor_AGN_V[0].data),len(Fermi_monitor_AGN_R[0].data)"
   ]
  },
  {
   "cell_type": "code",
   "execution_count": 21,
   "metadata": {
    "ExecuteTime": {
     "end_time": "2022-09-27T08:52:17.071079Z",
     "start_time": "2022-09-27T08:52:16.811712Z"
    }
   },
   "outputs": [
    {
     "data": {
      "text/plain": [
       "<matplotlib.legend.Legend at 0x7fea2909b610>"
      ]
     },
     "execution_count": 21,
     "metadata": {},
     "output_type": "execute_result"
    },
    {
     "data": {
      "image/svg+xml": [
       "<?xml version=\"1.0\" encoding=\"utf-8\" standalone=\"no\"?>\n",
       "<!DOCTYPE svg PUBLIC \"-//W3C//DTD SVG 1.1//EN\"\n",
       "  \"http://www.w3.org/Graphics/SVG/1.1/DTD/svg11.dtd\">\n",
       "<svg xmlns:xlink=\"http://www.w3.org/1999/xlink\" width=\"512.82839pt\" height=\"517.630474pt\" viewBox=\"0 0 512.82839 517.630474\" xmlns=\"http://www.w3.org/2000/svg\" version=\"1.1\">\n",
       " <metadata>\n",
       "  <rdf:RDF xmlns:dc=\"http://purl.org/dc/elements/1.1/\" xmlns:cc=\"http://creativecommons.org/ns#\" xmlns:rdf=\"http://www.w3.org/1999/02/22-rdf-syntax-ns#\">\n",
       "   <cc:Work>\n",
       "    <dc:type rdf:resource=\"http://purl.org/dc/dcmitype/StillImage\"/>\n",
       "    <dc:date>2022-09-27T16:52:17.045787</dc:date>\n",
       "    <dc:format>image/svg+xml</dc:format>\n",
       "    <dc:creator>\n",
       "     <cc:Agent>\n",
       "      <dc:title>Matplotlib v3.5.1, https://matplotlib.org/</dc:title>\n",
       "     </cc:Agent>\n",
       "    </dc:creator>\n",
       "   </cc:Work>\n",
       "  </rdf:RDF>\n",
       " </metadata>\n",
       " <defs>\n",
       "  <style type=\"text/css\">*{stroke-linejoin: round; stroke-linecap: butt}</style>\n",
       " </defs>\n",
       " <g id=\"figure_1\">\n",
       "  <g id=\"patch_1\">\n",
       "   <path d=\"M 0 517.630474 \n",
       "L 512.82839 517.630474 \n",
       "L 512.82839 0 \n",
       "L 0 0 \n",
       "L 0 517.630474 \n",
       "z\n",
       "\" style=\"fill: none\"/>\n",
       "  </g>\n",
       "  <g id=\"axes_1\">\n",
       "   <g id=\"patch_2\">\n",
       "    <path d=\"M 58.724063 442.08 \n",
       "L 505.124062 442.08 \n",
       "L 505.124062 7.2 \n",
       "L 58.724063 7.2 \n",
       "z\n",
       "\" style=\"fill: #ffffff\"/>\n",
       "   </g>\n",
       "   <g id=\"matplotlib.axis_1\">\n",
       "    <g id=\"xtick_1\">\n",
       "     <g id=\"line2d_1\">\n",
       "      <defs>\n",
       "       <path id=\"m19e7cbc073\" d=\"M 0 0 \n",
       "L 0 -10 \n",
       "\" style=\"stroke: #000000; stroke-width: 2\"/>\n",
       "      </defs>\n",
       "      <g>\n",
       "       <use xlink:href=\"#m19e7cbc073\" x=\"79.014972\" y=\"442.08\" style=\"stroke: #000000; stroke-width: 2\"/>\n",
       "      </g>\n",
       "     </g>\n",
       "     <g id=\"line2d_2\">\n",
       "      <defs>\n",
       "       <path id=\"m931b1a0cb7\" d=\"M 0 0 \n",
       "L 0 10 \n",
       "\" style=\"stroke: #000000; stroke-width: 2\"/>\n",
       "      </defs>\n",
       "      <g>\n",
       "       <use xlink:href=\"#m931b1a0cb7\" x=\"79.014972\" y=\"7.2\" style=\"stroke: #000000; stroke-width: 2\"/>\n",
       "      </g>\n",
       "     </g>\n",
       "     <g id=\"text_1\">\n",
       "      <!-- 3000 -->\n",
       "      <g transform=\"translate(67.841248 483.50523)rotate(-45)scale(0.18 -0.18)\">\n",
       "       <defs>\n",
       "        <path id=\"Avenir-Book-33\" d=\"M 1306 2586 \n",
       "L 1542 2586 \n",
       "Q 1741 2586 1923 2630 \n",
       "Q 2106 2675 2240 2774 \n",
       "Q 2374 2874 2454 3034 \n",
       "Q 2534 3194 2534 3418 \n",
       "Q 2534 3782 2313 3984 \n",
       "Q 2093 4186 1696 4186 \n",
       "Q 1408 4186 1190 4058 \n",
       "Q 973 3930 832 3686 \n",
       "L 429 3891 \n",
       "Q 634 4256 950 4432 \n",
       "Q 1267 4608 1683 4608 \n",
       "Q 1952 4608 2189 4531 \n",
       "Q 2426 4454 2605 4304 \n",
       "Q 2784 4154 2889 3933 \n",
       "Q 2995 3712 2995 3430 \n",
       "Q 2995 3245 2934 3078 \n",
       "Q 2874 2912 2768 2777 \n",
       "Q 2662 2643 2521 2544 \n",
       "Q 2381 2445 2227 2394 \n",
       "L 2246 2381 \n",
       "Q 2438 2342 2598 2236 \n",
       "Q 2758 2131 2873 1977 \n",
       "Q 2989 1824 3053 1632 \n",
       "Q 3117 1440 3117 1229 \n",
       "Q 3117 915 3001 672 \n",
       "Q 2886 429 2688 262 \n",
       "Q 2490 96 2227 9 \n",
       "Q 1965 -77 1670 -77 \n",
       "Q 1171 -77 800 140 \n",
       "Q 429 358 243 838 \n",
       "L 730 986 \n",
       "Q 845 659 1072 502 \n",
       "Q 1299 346 1709 346 \n",
       "Q 1901 346 2073 410 \n",
       "Q 2246 474 2377 592 \n",
       "Q 2509 710 2582 876 \n",
       "Q 2656 1043 2656 1242 \n",
       "Q 2656 1498 2560 1674 \n",
       "Q 2464 1850 2304 1958 \n",
       "Q 2144 2067 1936 2115 \n",
       "Q 1728 2163 1504 2163 \n",
       "L 1306 2163 \n",
       "L 1306 2586 \n",
       "z\n",
       "\" transform=\"scale(0.015625)\"/>\n",
       "        <path id=\"Avenir-Book-30\" d=\"M 1779 4186 \n",
       "Q 1408 4186 1193 3987 \n",
       "Q 979 3789 870 3494 \n",
       "Q 762 3200 733 2867 \n",
       "Q 704 2534 704 2266 \n",
       "Q 704 1997 733 1664 \n",
       "Q 762 1331 870 1036 \n",
       "Q 979 742 1193 544 \n",
       "Q 1408 346 1779 346 \n",
       "Q 2150 346 2364 544 \n",
       "Q 2579 742 2688 1036 \n",
       "Q 2797 1331 2825 1664 \n",
       "Q 2854 1997 2854 2266 \n",
       "Q 2854 2534 2825 2867 \n",
       "Q 2797 3200 2688 3494 \n",
       "Q 2579 3789 2364 3987 \n",
       "Q 2150 4186 1779 4186 \n",
       "z\n",
       "M 1779 4608 \n",
       "Q 2266 4608 2566 4384 \n",
       "Q 2867 4160 3033 3814 \n",
       "Q 3200 3469 3257 3056 \n",
       "Q 3315 2643 3315 2266 \n",
       "Q 3315 1888 3257 1475 \n",
       "Q 3200 1062 3033 716 \n",
       "Q 2867 371 2566 147 \n",
       "Q 2266 -77 1779 -77 \n",
       "Q 1293 -77 992 147 \n",
       "Q 691 371 524 716 \n",
       "Q 358 1062 300 1475 \n",
       "Q 243 1888 243 2266 \n",
       "Q 243 2643 300 3056 \n",
       "Q 358 3469 524 3814 \n",
       "Q 691 4160 992 4384 \n",
       "Q 1293 4608 1779 4608 \n",
       "z\n",
       "\" transform=\"scale(0.015625)\"/>\n",
       "       </defs>\n",
       "       <use xlink:href=\"#Avenir-Book-33\"/>\n",
       "       <use xlink:href=\"#Avenir-Book-30\" x=\"55.599991\"/>\n",
       "       <use xlink:href=\"#Avenir-Book-30\" x=\"111.199982\"/>\n",
       "       <use xlink:href=\"#Avenir-Book-30\" x=\"166.799973\"/>\n",
       "      </g>\n",
       "     </g>\n",
       "    </g>\n",
       "    <g id=\"xtick_2\">\n",
       "     <g id=\"line2d_3\">\n",
       "      <g>\n",
       "       <use xlink:href=\"#m19e7cbc073\" x=\"146.651335\" y=\"442.08\" style=\"stroke: #000000; stroke-width: 2\"/>\n",
       "      </g>\n",
       "     </g>\n",
       "     <g id=\"line2d_4\">\n",
       "      <g>\n",
       "       <use xlink:href=\"#m931b1a0cb7\" x=\"146.651335\" y=\"7.2\" style=\"stroke: #000000; stroke-width: 2\"/>\n",
       "      </g>\n",
       "     </g>\n",
       "     <g id=\"text_2\">\n",
       "      <!-- 4000 -->\n",
       "      <g transform=\"translate(135.477612 483.50523)rotate(-45)scale(0.18 -0.18)\">\n",
       "       <defs>\n",
       "        <path id=\"Avenir-Book-34\" d=\"M 2202 4070 \n",
       "L 2189 4070 \n",
       "L 627 1498 \n",
       "L 2202 1498 \n",
       "L 2202 4070 \n",
       "z\n",
       "M 2662 1498 \n",
       "L 3315 1498 \n",
       "L 3315 1075 \n",
       "L 2662 1075 \n",
       "L 2662 0 \n",
       "L 2202 0 \n",
       "L 2202 1075 \n",
       "L 243 1075 \n",
       "L 243 1600 \n",
       "L 2074 4531 \n",
       "L 2662 4531 \n",
       "L 2662 1498 \n",
       "z\n",
       "\" transform=\"scale(0.015625)\"/>\n",
       "       </defs>\n",
       "       <use xlink:href=\"#Avenir-Book-34\"/>\n",
       "       <use xlink:href=\"#Avenir-Book-30\" x=\"55.599991\"/>\n",
       "       <use xlink:href=\"#Avenir-Book-30\" x=\"111.199982\"/>\n",
       "       <use xlink:href=\"#Avenir-Book-30\" x=\"166.799973\"/>\n",
       "      </g>\n",
       "     </g>\n",
       "    </g>\n",
       "    <g id=\"xtick_3\">\n",
       "     <g id=\"line2d_5\">\n",
       "      <g>\n",
       "       <use xlink:href=\"#m19e7cbc073\" x=\"214.287699\" y=\"442.08\" style=\"stroke: #000000; stroke-width: 2\"/>\n",
       "      </g>\n",
       "     </g>\n",
       "     <g id=\"line2d_6\">\n",
       "      <g>\n",
       "       <use xlink:href=\"#m931b1a0cb7\" x=\"214.287699\" y=\"7.2\" style=\"stroke: #000000; stroke-width: 2\"/>\n",
       "      </g>\n",
       "     </g>\n",
       "     <g id=\"text_3\">\n",
       "      <!-- 5000 -->\n",
       "      <g transform=\"translate(203.113975 483.50523)rotate(-45)scale(0.18 -0.18)\">\n",
       "       <defs>\n",
       "        <path id=\"Avenir-Book-35\" d=\"M 2976 4109 \n",
       "L 1120 4109 \n",
       "L 1094 2746 \n",
       "Q 1242 2803 1395 2828 \n",
       "Q 1549 2854 1702 2854 \n",
       "Q 2022 2854 2284 2745 \n",
       "Q 2547 2637 2736 2441 \n",
       "Q 2925 2246 3030 1980 \n",
       "Q 3136 1715 3136 1402 \n",
       "Q 3136 1075 3021 803 \n",
       "Q 2906 531 2701 336 \n",
       "Q 2496 141 2217 32 \n",
       "Q 1939 -77 1613 -77 \n",
       "Q 1184 -77 838 128 \n",
       "Q 493 333 307 730 \n",
       "L 762 928 \n",
       "Q 890 659 1120 502 \n",
       "Q 1350 346 1651 346 \n",
       "Q 1869 346 2054 426 \n",
       "Q 2240 506 2377 640 \n",
       "Q 2515 774 2595 960 \n",
       "Q 2675 1146 2675 1357 \n",
       "Q 2675 1594 2592 1792 \n",
       "Q 2509 1990 2361 2134 \n",
       "Q 2214 2278 2009 2355 \n",
       "Q 1805 2432 1562 2432 \n",
       "Q 1318 2432 1078 2365 \n",
       "Q 838 2298 621 2182 \n",
       "L 666 4531 \n",
       "L 2976 4531 \n",
       "L 2976 4109 \n",
       "z\n",
       "\" transform=\"scale(0.015625)\"/>\n",
       "       </defs>\n",
       "       <use xlink:href=\"#Avenir-Book-35\"/>\n",
       "       <use xlink:href=\"#Avenir-Book-30\" x=\"55.599991\"/>\n",
       "       <use xlink:href=\"#Avenir-Book-30\" x=\"111.199982\"/>\n",
       "       <use xlink:href=\"#Avenir-Book-30\" x=\"166.799973\"/>\n",
       "      </g>\n",
       "     </g>\n",
       "    </g>\n",
       "    <g id=\"xtick_4\">\n",
       "     <g id=\"line2d_7\">\n",
       "      <g>\n",
       "       <use xlink:href=\"#m19e7cbc073\" x=\"281.924062\" y=\"442.08\" style=\"stroke: #000000; stroke-width: 2\"/>\n",
       "      </g>\n",
       "     </g>\n",
       "     <g id=\"line2d_8\">\n",
       "      <g>\n",
       "       <use xlink:href=\"#m931b1a0cb7\" x=\"281.924062\" y=\"7.2\" style=\"stroke: #000000; stroke-width: 2\"/>\n",
       "      </g>\n",
       "     </g>\n",
       "     <g id=\"text_4\">\n",
       "      <!-- 6000 -->\n",
       "      <g transform=\"translate(270.750339 483.50523)rotate(-45)scale(0.18 -0.18)\">\n",
       "       <defs>\n",
       "        <path id=\"Avenir-Book-36\" d=\"M 768 1325 \n",
       "Q 768 1107 841 928 \n",
       "Q 915 749 1049 617 \n",
       "Q 1184 486 1369 416 \n",
       "Q 1555 346 1779 346 \n",
       "Q 2003 346 2188 416 \n",
       "Q 2374 486 2508 617 \n",
       "Q 2643 749 2716 928 \n",
       "Q 2790 1107 2790 1325 \n",
       "Q 2790 1542 2716 1721 \n",
       "Q 2643 1901 2508 2029 \n",
       "Q 2374 2157 2188 2230 \n",
       "Q 2003 2304 1779 2304 \n",
       "Q 1555 2304 1369 2230 \n",
       "Q 1184 2157 1049 2029 \n",
       "Q 915 1901 841 1721 \n",
       "Q 768 1542 768 1325 \n",
       "z\n",
       "M 1229 2586 \n",
       "L 1242 2573 \n",
       "Q 1350 2650 1532 2688 \n",
       "Q 1715 2726 1869 2726 \n",
       "Q 2163 2726 2416 2620 \n",
       "Q 2669 2515 2854 2329 \n",
       "Q 3040 2144 3145 1888 \n",
       "Q 3251 1632 3251 1325 \n",
       "Q 3251 1011 3142 755 \n",
       "Q 3034 499 2835 313 \n",
       "Q 2637 128 2368 25 \n",
       "Q 2099 -77 1779 -77 \n",
       "Q 1459 -77 1190 25 \n",
       "Q 922 128 723 313 \n",
       "Q 525 499 416 755 \n",
       "Q 307 1011 307 1325 \n",
       "Q 307 1702 419 1984 \n",
       "Q 531 2266 698 2541 \n",
       "L 1920 4531 \n",
       "L 2464 4531 \n",
       "L 1229 2586 \n",
       "z\n",
       "\" transform=\"scale(0.015625)\"/>\n",
       "       </defs>\n",
       "       <use xlink:href=\"#Avenir-Book-36\"/>\n",
       "       <use xlink:href=\"#Avenir-Book-30\" x=\"55.599991\"/>\n",
       "       <use xlink:href=\"#Avenir-Book-30\" x=\"111.199982\"/>\n",
       "       <use xlink:href=\"#Avenir-Book-30\" x=\"166.799973\"/>\n",
       "      </g>\n",
       "     </g>\n",
       "    </g>\n",
       "    <g id=\"xtick_5\">\n",
       "     <g id=\"line2d_9\">\n",
       "      <g>\n",
       "       <use xlink:href=\"#m19e7cbc073\" x=\"349.560426\" y=\"442.08\" style=\"stroke: #000000; stroke-width: 2\"/>\n",
       "      </g>\n",
       "     </g>\n",
       "     <g id=\"line2d_10\">\n",
       "      <g>\n",
       "       <use xlink:href=\"#m931b1a0cb7\" x=\"349.560426\" y=\"7.2\" style=\"stroke: #000000; stroke-width: 2\"/>\n",
       "      </g>\n",
       "     </g>\n",
       "     <g id=\"text_5\">\n",
       "      <!-- 7000 -->\n",
       "      <g transform=\"translate(338.386703 483.50523)rotate(-45)scale(0.18 -0.18)\">\n",
       "       <defs>\n",
       "        <path id=\"Avenir-Book-37\" d=\"M 3034 4109 \n",
       "L 1210 0 \n",
       "L 691 0 \n",
       "L 2554 4109 \n",
       "L 346 4109 \n",
       "L 346 4531 \n",
       "L 3034 4531 \n",
       "L 3034 4109 \n",
       "z\n",
       "\" transform=\"scale(0.015625)\"/>\n",
       "       </defs>\n",
       "       <use xlink:href=\"#Avenir-Book-37\"/>\n",
       "       <use xlink:href=\"#Avenir-Book-30\" x=\"55.599991\"/>\n",
       "       <use xlink:href=\"#Avenir-Book-30\" x=\"111.199982\"/>\n",
       "       <use xlink:href=\"#Avenir-Book-30\" x=\"166.799973\"/>\n",
       "      </g>\n",
       "     </g>\n",
       "    </g>\n",
       "    <g id=\"xtick_6\">\n",
       "     <g id=\"line2d_11\">\n",
       "      <g>\n",
       "       <use xlink:href=\"#m19e7cbc073\" x=\"417.19679\" y=\"442.08\" style=\"stroke: #000000; stroke-width: 2\"/>\n",
       "      </g>\n",
       "     </g>\n",
       "     <g id=\"line2d_12\">\n",
       "      <g>\n",
       "       <use xlink:href=\"#m931b1a0cb7\" x=\"417.19679\" y=\"7.2\" style=\"stroke: #000000; stroke-width: 2\"/>\n",
       "      </g>\n",
       "     </g>\n",
       "     <g id=\"text_6\">\n",
       "      <!-- 8000 -->\n",
       "      <g transform=\"translate(406.023066 483.50523)rotate(-45)scale(0.18 -0.18)\">\n",
       "       <defs>\n",
       "        <path id=\"Avenir-Book-38\" d=\"M 2752 1274 \n",
       "Q 2752 1472 2681 1641 \n",
       "Q 2611 1811 2486 1936 \n",
       "Q 2362 2061 2179 2131 \n",
       "Q 1997 2202 1779 2202 \n",
       "Q 1555 2202 1376 2131 \n",
       "Q 1197 2061 1072 1936 \n",
       "Q 947 1811 876 1641 \n",
       "Q 806 1472 806 1274 \n",
       "Q 806 1075 876 905 \n",
       "Q 947 736 1072 611 \n",
       "Q 1197 486 1376 416 \n",
       "Q 1555 346 1779 346 \n",
       "Q 1997 346 2179 416 \n",
       "Q 2362 486 2486 611 \n",
       "Q 2611 736 2681 905 \n",
       "Q 2752 1075 2752 1274 \n",
       "z\n",
       "M 2586 3386 \n",
       "Q 2586 3558 2525 3705 \n",
       "Q 2464 3853 2355 3958 \n",
       "Q 2246 4064 2099 4125 \n",
       "Q 1952 4186 1779 4186 \n",
       "Q 1606 4186 1459 4125 \n",
       "Q 1312 4064 1203 3958 \n",
       "Q 1094 3853 1033 3705 \n",
       "Q 973 3558 973 3386 \n",
       "Q 973 3213 1033 3065 \n",
       "Q 1094 2918 1203 2812 \n",
       "Q 1312 2707 1459 2646 \n",
       "Q 1606 2586 1779 2586 \n",
       "Q 1952 2586 2099 2646 \n",
       "Q 2246 2707 2355 2812 \n",
       "Q 2464 2918 2525 3065 \n",
       "Q 2586 3213 2586 3386 \n",
       "z\n",
       "M 1190 2413 \n",
       "Q 1043 2464 918 2563 \n",
       "Q 794 2662 704 2796 \n",
       "Q 614 2931 563 3091 \n",
       "Q 512 3251 512 3424 \n",
       "Q 512 3693 614 3913 \n",
       "Q 717 4134 889 4288 \n",
       "Q 1062 4442 1292 4525 \n",
       "Q 1523 4608 1779 4608 \n",
       "Q 2035 4608 2265 4525 \n",
       "Q 2496 4442 2669 4288 \n",
       "Q 2842 4134 2944 3913 \n",
       "Q 3046 3693 3046 3424 \n",
       "Q 3046 3251 2995 3091 \n",
       "Q 2944 2931 2854 2796 \n",
       "Q 2765 2662 2640 2563 \n",
       "Q 2515 2464 2368 2413 \n",
       "L 2368 2400 \n",
       "Q 2752 2298 2982 1978 \n",
       "Q 3213 1658 3213 1210 \n",
       "Q 3213 915 3094 678 \n",
       "Q 2976 442 2781 272 \n",
       "Q 2586 102 2326 12 \n",
       "Q 2067 -77 1779 -77 \n",
       "Q 1491 -77 1232 12 \n",
       "Q 973 102 777 272 \n",
       "Q 582 442 464 678 \n",
       "Q 346 915 346 1210 \n",
       "Q 346 1658 576 1978 \n",
       "Q 806 2298 1190 2400 \n",
       "L 1190 2413 \n",
       "z\n",
       "\" transform=\"scale(0.015625)\"/>\n",
       "       </defs>\n",
       "       <use xlink:href=\"#Avenir-Book-38\"/>\n",
       "       <use xlink:href=\"#Avenir-Book-30\" x=\"55.599991\"/>\n",
       "       <use xlink:href=\"#Avenir-Book-30\" x=\"111.199982\"/>\n",
       "       <use xlink:href=\"#Avenir-Book-30\" x=\"166.799973\"/>\n",
       "      </g>\n",
       "     </g>\n",
       "    </g>\n",
       "    <g id=\"xtick_7\">\n",
       "     <g id=\"line2d_13\">\n",
       "      <g>\n",
       "       <use xlink:href=\"#m19e7cbc073\" x=\"484.833153\" y=\"442.08\" style=\"stroke: #000000; stroke-width: 2\"/>\n",
       "      </g>\n",
       "     </g>\n",
       "     <g id=\"line2d_14\">\n",
       "      <g>\n",
       "       <use xlink:href=\"#m931b1a0cb7\" x=\"484.833153\" y=\"7.2\" style=\"stroke: #000000; stroke-width: 2\"/>\n",
       "      </g>\n",
       "     </g>\n",
       "     <g id=\"text_7\">\n",
       "      <!-- 9000 -->\n",
       "      <g transform=\"translate(473.65943 483.50523)rotate(-45)scale(0.18 -0.18)\">\n",
       "       <defs>\n",
       "        <path id=\"Avenir-Book-39\" d=\"M 2790 3206 \n",
       "Q 2790 3424 2716 3603 \n",
       "Q 2643 3782 2508 3910 \n",
       "Q 2374 4038 2188 4112 \n",
       "Q 2003 4186 1779 4186 \n",
       "Q 1555 4186 1369 4112 \n",
       "Q 1184 4038 1049 3910 \n",
       "Q 915 3782 841 3603 \n",
       "Q 768 3424 768 3206 \n",
       "Q 768 2989 841 2809 \n",
       "Q 915 2630 1049 2499 \n",
       "Q 1184 2368 1369 2297 \n",
       "Q 1555 2227 1779 2227 \n",
       "Q 2003 2227 2188 2297 \n",
       "Q 2374 2368 2508 2499 \n",
       "Q 2643 2630 2716 2809 \n",
       "Q 2790 2989 2790 3206 \n",
       "z\n",
       "M 2330 1946 \n",
       "L 2317 1958 \n",
       "Q 2208 1882 2025 1843 \n",
       "Q 1843 1805 1690 1805 \n",
       "Q 1395 1805 1142 1910 \n",
       "Q 890 2016 704 2201 \n",
       "Q 518 2387 412 2643 \n",
       "Q 307 2899 307 3206 \n",
       "Q 307 3520 416 3776 \n",
       "Q 525 4032 723 4217 \n",
       "Q 922 4403 1190 4505 \n",
       "Q 1459 4608 1779 4608 \n",
       "Q 2099 4608 2368 4505 \n",
       "Q 2637 4403 2835 4217 \n",
       "Q 3034 4032 3142 3776 \n",
       "Q 3251 3520 3251 3206 \n",
       "Q 3251 2829 3139 2547 \n",
       "Q 3027 2266 2861 1990 \n",
       "L 1638 0 \n",
       "L 1094 0 \n",
       "L 2330 1946 \n",
       "z\n",
       "\" transform=\"scale(0.015625)\"/>\n",
       "       </defs>\n",
       "       <use xlink:href=\"#Avenir-Book-39\"/>\n",
       "       <use xlink:href=\"#Avenir-Book-30\" x=\"55.599991\"/>\n",
       "       <use xlink:href=\"#Avenir-Book-30\" x=\"111.199982\"/>\n",
       "       <use xlink:href=\"#Avenir-Book-30\" x=\"166.799973\"/>\n",
       "      </g>\n",
       "     </g>\n",
       "    </g>\n",
       "    <g id=\"text_8\">\n",
       "     <!-- $\\lambda(\\AA)$ -->\n",
       "     <g transform=\"translate(263.384062 505.247037)scale(0.18 -0.18)\">\n",
       "      <defs>\n",
       "       <path id=\"DejaVuSans-Oblique-3bb\" d=\"M 2350 4316 \n",
       "L 3125 0 \n",
       "L 2516 0 \n",
       "L 2038 2588 \n",
       "L 328 0 \n",
       "L -281 0 \n",
       "L 1903 3356 \n",
       "L 1794 3975 \n",
       "Q 1725 4369 1391 4369 \n",
       "L 1091 4369 \n",
       "L 1184 4863 \n",
       "L 1550 4856 \n",
       "Q 2253 4847 2350 4316 \n",
       "z\n",
       "\" transform=\"scale(0.015625)\"/>\n",
       "       <path id=\"DejaVuSans-28\" d=\"M 1984 4856 \n",
       "Q 1566 4138 1362 3434 \n",
       "Q 1159 2731 1159 2009 \n",
       "Q 1159 1288 1364 580 \n",
       "Q 1569 -128 1984 -844 \n",
       "L 1484 -844 \n",
       "Q 1016 -109 783 600 \n",
       "Q 550 1309 550 2009 \n",
       "Q 550 2706 781 3412 \n",
       "Q 1013 4119 1484 4856 \n",
       "L 1984 4856 \n",
       "z\n",
       "\" transform=\"scale(0.015625)\"/>\n",
       "       <path id=\"DejaVuSans-Oblique-c5\" d=\"M 3188 5081 \n",
       "Q 3188 5278 3048 5417 \n",
       "Q 2909 5556 2713 5556 \n",
       "Q 2513 5556 2377 5420 \n",
       "Q 2241 5284 2241 5081 \n",
       "Q 2241 4884 2377 4746 \n",
       "Q 2513 4609 2713 4609 \n",
       "Q 2909 4609 3048 4746 \n",
       "Q 3188 4884 3188 5081 \n",
       "z\n",
       "M 2203 4397 \n",
       "Q 2034 4513 1945 4689 \n",
       "Q 1856 4866 1856 5081 \n",
       "Q 1856 5438 2106 5689 \n",
       "Q 2356 5941 2713 5941 \n",
       "Q 3069 5941 3320 5689 \n",
       "Q 3572 5438 3572 5081 \n",
       "Q 3572 4834 3458 4643 \n",
       "Q 3344 4453 3128 4341 \n",
       "L 3938 0 \n",
       "L 3278 0 \n",
       "L 3084 1197 \n",
       "L 984 1197 \n",
       "L 325 0 \n",
       "L -341 0 \n",
       "L 2203 4397 \n",
       "z\n",
       "M 2584 4044 \n",
       "L 1275 1722 \n",
       "L 2988 1722 \n",
       "L 2584 4044 \n",
       "z\n",
       "\" transform=\"scale(0.015625)\"/>\n",
       "       <path id=\"DejaVuSans-29\" d=\"M 513 4856 \n",
       "L 1013 4856 \n",
       "Q 1481 4119 1714 3412 \n",
       "Q 1947 2706 1947 2009 \n",
       "Q 1947 1309 1714 600 \n",
       "Q 1481 -109 1013 -844 \n",
       "L 513 -844 \n",
       "Q 928 -128 1133 580 \n",
       "Q 1338 1288 1338 2009 \n",
       "Q 1338 2731 1133 3434 \n",
       "Q 928 4138 513 4856 \n",
       "z\n",
       "\" transform=\"scale(0.015625)\"/>\n",
       "      </defs>\n",
       "      <use xlink:href=\"#DejaVuSans-Oblique-3bb\" transform=\"translate(0 0.171875)\"/>\n",
       "      <use xlink:href=\"#DejaVuSans-28\" transform=\"translate(59.179688 0.171875)\"/>\n",
       "      <use xlink:href=\"#DejaVuSans-Oblique-c5\" transform=\"translate(98.193359 0.171875)\"/>\n",
       "      <use xlink:href=\"#DejaVuSans-29\" transform=\"translate(166.601562 0.171875)\"/>\n",
       "     </g>\n",
       "    </g>\n",
       "   </g>\n",
       "   <g id=\"matplotlib.axis_2\">\n",
       "    <g id=\"ytick_1\">\n",
       "     <g id=\"line2d_15\">\n",
       "      <defs>\n",
       "       <path id=\"mde447736ad\" d=\"M 0 0 \n",
       "L 10 0 \n",
       "\" style=\"stroke: #000000; stroke-width: 2\"/>\n",
       "      </defs>\n",
       "      <g>\n",
       "       <use xlink:href=\"#mde447736ad\" x=\"58.724063\" y=\"422.312727\" style=\"stroke: #000000; stroke-width: 2\"/>\n",
       "      </g>\n",
       "     </g>\n",
       "     <g id=\"line2d_16\">\n",
       "      <defs>\n",
       "       <path id=\"m0050fe2ba1\" d=\"M 0 0 \n",
       "L -10 0 \n",
       "\" style=\"stroke: #000000; stroke-width: 2\"/>\n",
       "      </defs>\n",
       "      <g>\n",
       "       <use xlink:href=\"#m0050fe2ba1\" x=\"505.124062\" y=\"422.312727\" style=\"stroke: #000000; stroke-width: 2\"/>\n",
       "      </g>\n",
       "     </g>\n",
       "     <g id=\"text_9\">\n",
       "      <!-- 0.0 -->\n",
       "      <g transform=\"translate(30.206875 429.116165)scale(0.18 -0.18)\">\n",
       "       <defs>\n",
       "        <path id=\"Avenir-Book-2e\" d=\"M 1235 307 \n",
       "Q 1235 173 1139 67 \n",
       "Q 1043 -38 890 -38 \n",
       "Q 736 -38 640 67 \n",
       "Q 544 173 544 307 \n",
       "Q 544 442 640 547 \n",
       "Q 736 653 890 653 \n",
       "Q 1043 653 1139 547 \n",
       "Q 1235 442 1235 307 \n",
       "z\n",
       "\" transform=\"scale(0.015625)\"/>\n",
       "       </defs>\n",
       "       <use xlink:href=\"#Avenir-Book-30\"/>\n",
       "       <use xlink:href=\"#Avenir-Book-2e\" x=\"55.599991\"/>\n",
       "       <use xlink:href=\"#Avenir-Book-30\" x=\"83.399979\"/>\n",
       "      </g>\n",
       "     </g>\n",
       "    </g>\n",
       "    <g id=\"ytick_2\">\n",
       "     <g id=\"line2d_17\">\n",
       "      <g>\n",
       "       <use xlink:href=\"#mde447736ad\" x=\"58.724063\" y=\"343.243646\" style=\"stroke: #000000; stroke-width: 2\"/>\n",
       "      </g>\n",
       "     </g>\n",
       "     <g id=\"line2d_18\">\n",
       "      <g>\n",
       "       <use xlink:href=\"#m0050fe2ba1\" x=\"505.124062\" y=\"343.243646\" style=\"stroke: #000000; stroke-width: 2\"/>\n",
       "      </g>\n",
       "     </g>\n",
       "     <g id=\"text_10\">\n",
       "      <!-- 0.2 -->\n",
       "      <g transform=\"translate(30.206875 350.047083)scale(0.18 -0.18)\">\n",
       "       <defs>\n",
       "        <path id=\"Avenir-Book-32\" d=\"M 3187 0 \n",
       "L 307 0 \n",
       "L 307 531 \n",
       "L 2112 2368 \n",
       "Q 2214 2470 2316 2585 \n",
       "Q 2419 2701 2502 2829 \n",
       "Q 2586 2957 2637 3097 \n",
       "Q 2688 3238 2688 3392 \n",
       "Q 2688 3578 2621 3725 \n",
       "Q 2554 3872 2432 3974 \n",
       "Q 2310 4077 2150 4131 \n",
       "Q 1990 4186 1811 4186 \n",
       "Q 1466 4186 1222 3994 \n",
       "Q 979 3802 909 3475 \n",
       "L 422 3526 \n",
       "Q 518 4032 886 4320 \n",
       "Q 1254 4608 1779 4608 \n",
       "Q 2054 4608 2300 4534 \n",
       "Q 2547 4461 2736 4313 \n",
       "Q 2925 4166 3037 3945 \n",
       "Q 3149 3725 3149 3430 \n",
       "Q 3149 3168 3069 2950 \n",
       "Q 2989 2733 2861 2541 \n",
       "Q 2733 2349 2569 2176 \n",
       "Q 2406 2003 2234 1837 \n",
       "L 806 422 \n",
       "L 3187 422 \n",
       "L 3187 0 \n",
       "z\n",
       "\" transform=\"scale(0.015625)\"/>\n",
       "       </defs>\n",
       "       <use xlink:href=\"#Avenir-Book-30\"/>\n",
       "       <use xlink:href=\"#Avenir-Book-2e\" x=\"55.599991\"/>\n",
       "       <use xlink:href=\"#Avenir-Book-32\" x=\"83.399979\"/>\n",
       "      </g>\n",
       "     </g>\n",
       "    </g>\n",
       "    <g id=\"ytick_3\">\n",
       "     <g id=\"line2d_19\">\n",
       "      <g>\n",
       "       <use xlink:href=\"#mde447736ad\" x=\"58.724063\" y=\"264.174564\" style=\"stroke: #000000; stroke-width: 2\"/>\n",
       "      </g>\n",
       "     </g>\n",
       "     <g id=\"line2d_20\">\n",
       "      <g>\n",
       "       <use xlink:href=\"#m0050fe2ba1\" x=\"505.124062\" y=\"264.174564\" style=\"stroke: #000000; stroke-width: 2\"/>\n",
       "      </g>\n",
       "     </g>\n",
       "     <g id=\"text_11\">\n",
       "      <!-- 0.4 -->\n",
       "      <g transform=\"translate(30.206875 270.978002)scale(0.18 -0.18)\">\n",
       "       <use xlink:href=\"#Avenir-Book-30\"/>\n",
       "       <use xlink:href=\"#Avenir-Book-2e\" x=\"55.599991\"/>\n",
       "       <use xlink:href=\"#Avenir-Book-34\" x=\"83.399979\"/>\n",
       "      </g>\n",
       "     </g>\n",
       "    </g>\n",
       "    <g id=\"ytick_4\">\n",
       "     <g id=\"line2d_21\">\n",
       "      <g>\n",
       "       <use xlink:href=\"#mde447736ad\" x=\"58.724063\" y=\"185.105483\" style=\"stroke: #000000; stroke-width: 2\"/>\n",
       "      </g>\n",
       "     </g>\n",
       "     <g id=\"line2d_22\">\n",
       "      <g>\n",
       "       <use xlink:href=\"#m0050fe2ba1\" x=\"505.124062\" y=\"185.105483\" style=\"stroke: #000000; stroke-width: 2\"/>\n",
       "      </g>\n",
       "     </g>\n",
       "     <g id=\"text_12\">\n",
       "      <!-- 0.6 -->\n",
       "      <g transform=\"translate(30.206875 191.90892)scale(0.18 -0.18)\">\n",
       "       <use xlink:href=\"#Avenir-Book-30\"/>\n",
       "       <use xlink:href=\"#Avenir-Book-2e\" x=\"55.599991\"/>\n",
       "       <use xlink:href=\"#Avenir-Book-36\" x=\"83.399979\"/>\n",
       "      </g>\n",
       "     </g>\n",
       "    </g>\n",
       "    <g id=\"ytick_5\">\n",
       "     <g id=\"line2d_23\">\n",
       "      <g>\n",
       "       <use xlink:href=\"#mde447736ad\" x=\"58.724063\" y=\"106.036401\" style=\"stroke: #000000; stroke-width: 2\"/>\n",
       "      </g>\n",
       "     </g>\n",
       "     <g id=\"line2d_24\">\n",
       "      <g>\n",
       "       <use xlink:href=\"#m0050fe2ba1\" x=\"505.124062\" y=\"106.036401\" style=\"stroke: #000000; stroke-width: 2\"/>\n",
       "      </g>\n",
       "     </g>\n",
       "     <g id=\"text_13\">\n",
       "      <!-- 0.8 -->\n",
       "      <g transform=\"translate(30.206875 112.839839)scale(0.18 -0.18)\">\n",
       "       <use xlink:href=\"#Avenir-Book-30\"/>\n",
       "       <use xlink:href=\"#Avenir-Book-2e\" x=\"55.599991\"/>\n",
       "       <use xlink:href=\"#Avenir-Book-38\" x=\"83.399979\"/>\n",
       "      </g>\n",
       "     </g>\n",
       "    </g>\n",
       "    <g id=\"ytick_6\">\n",
       "     <g id=\"line2d_25\">\n",
       "      <g>\n",
       "       <use xlink:href=\"#mde447736ad\" x=\"58.724063\" y=\"26.96732\" style=\"stroke: #000000; stroke-width: 2\"/>\n",
       "      </g>\n",
       "     </g>\n",
       "     <g id=\"line2d_26\">\n",
       "      <g>\n",
       "       <use xlink:href=\"#m0050fe2ba1\" x=\"505.124062\" y=\"26.96732\" style=\"stroke: #000000; stroke-width: 2\"/>\n",
       "      </g>\n",
       "     </g>\n",
       "     <g id=\"text_14\">\n",
       "      <!-- 1.0 -->\n",
       "      <g transform=\"translate(30.206875 33.770757)scale(0.18 -0.18)\">\n",
       "       <defs>\n",
       "        <path id=\"Avenir-Book-31\" d=\"M 2227 0 \n",
       "L 1766 0 \n",
       "L 1766 3955 \n",
       "L 954 3238 \n",
       "L 666 3584 \n",
       "L 1818 4531 \n",
       "L 2227 4531 \n",
       "L 2227 0 \n",
       "z\n",
       "\" transform=\"scale(0.015625)\"/>\n",
       "       </defs>\n",
       "       <use xlink:href=\"#Avenir-Book-31\"/>\n",
       "       <use xlink:href=\"#Avenir-Book-2e\" x=\"55.599991\"/>\n",
       "       <use xlink:href=\"#Avenir-Book-30\" x=\"83.399979\"/>\n",
       "      </g>\n",
       "     </g>\n",
       "    </g>\n",
       "    <g id=\"text_15\">\n",
       "     <!-- response function -->\n",
       "     <g transform=\"translate(21.023438 295.981875)rotate(-90)scale(0.18 -0.18)\">\n",
       "      <defs>\n",
       "       <path id=\"Avenir-Book-72\" d=\"M 506 2061 \n",
       "Q 506 2259 496 2464 \n",
       "Q 486 2669 480 2995 \n",
       "L 896 2995 \n",
       "L 896 2438 \n",
       "L 909 2438 \n",
       "Q 954 2560 1037 2672 \n",
       "Q 1120 2784 1238 2873 \n",
       "Q 1357 2963 1513 3017 \n",
       "Q 1670 3072 1869 3072 \n",
       "Q 2048 3072 2182 3034 \n",
       "L 2099 2618 \n",
       "Q 2016 2650 1856 2650 \n",
       "Q 1613 2650 1440 2557 \n",
       "Q 1267 2464 1152 2320 \n",
       "Q 1037 2176 982 2009 \n",
       "Q 928 1843 928 1690 \n",
       "L 928 0 \n",
       "L 506 0 \n",
       "L 506 2061 \n",
       "z\n",
       "\" transform=\"scale(0.015625)\"/>\n",
       "       <path id=\"Avenir-Book-65\" d=\"M 2790 1728 \n",
       "Q 2790 2157 2534 2422 \n",
       "Q 2278 2688 1818 2688 \n",
       "Q 1613 2688 1421 2608 \n",
       "Q 1229 2528 1085 2393 \n",
       "Q 941 2259 854 2086 \n",
       "Q 768 1914 768 1728 \n",
       "L 2790 1728 \n",
       "z\n",
       "M 755 1382 \n",
       "Q 774 1158 864 960 \n",
       "Q 954 762 1101 618 \n",
       "Q 1248 474 1440 390 \n",
       "Q 1632 307 1856 307 \n",
       "Q 2195 307 2441 464 \n",
       "Q 2688 621 2816 826 \n",
       "L 3142 557 \n",
       "Q 2874 218 2550 70 \n",
       "Q 2227 -77 1856 -77 \n",
       "Q 1523 -77 1238 41 \n",
       "Q 954 160 749 371 \n",
       "Q 544 582 425 870 \n",
       "Q 307 1158 307 1498 \n",
       "Q 307 1837 422 2125 \n",
       "Q 538 2413 742 2624 \n",
       "Q 947 2835 1222 2953 \n",
       "Q 1498 3072 1818 3072 \n",
       "Q 2157 3072 2425 2950 \n",
       "Q 2694 2829 2876 2627 \n",
       "Q 3059 2426 3155 2154 \n",
       "Q 3251 1882 3251 1574 \n",
       "L 3251 1382 \n",
       "L 755 1382 \n",
       "z\n",
       "\" transform=\"scale(0.015625)\"/>\n",
       "       <path id=\"Avenir-Book-73\" d=\"M 2048 2285 \n",
       "Q 1952 2470 1792 2579 \n",
       "Q 1632 2688 1402 2688 \n",
       "Q 1293 2688 1181 2662 \n",
       "Q 1069 2637 979 2582 \n",
       "Q 890 2528 835 2445 \n",
       "Q 781 2362 781 2240 \n",
       "Q 781 2029 928 1933 \n",
       "Q 1075 1837 1370 1766 \n",
       "L 1798 1664 \n",
       "Q 2112 1594 2320 1379 \n",
       "Q 2528 1165 2528 845 \n",
       "Q 2528 602 2429 426 \n",
       "Q 2330 250 2166 138 \n",
       "Q 2003 26 1792 -25 \n",
       "Q 1581 -77 1363 -77 \n",
       "Q 1018 -77 720 54 \n",
       "Q 422 186 211 506 \n",
       "L 576 755 \n",
       "Q 704 550 899 428 \n",
       "Q 1094 307 1363 307 \n",
       "Q 1491 307 1619 336 \n",
       "Q 1747 365 1846 425 \n",
       "Q 1946 486 2006 582 \n",
       "Q 2067 678 2067 806 \n",
       "Q 2067 1030 1900 1129 \n",
       "Q 1734 1229 1498 1286 \n",
       "L 1088 1382 \n",
       "Q 1011 1402 880 1446 \n",
       "Q 749 1491 624 1580 \n",
       "Q 499 1670 409 1814 \n",
       "Q 320 1958 320 2170 \n",
       "Q 320 2400 413 2573 \n",
       "Q 506 2746 662 2854 \n",
       "Q 819 2963 1017 3017 \n",
       "Q 1216 3072 1427 3072 \n",
       "Q 1741 3072 2009 2950 \n",
       "Q 2278 2829 2426 2534 \n",
       "L 2048 2285 \n",
       "z\n",
       "\" transform=\"scale(0.015625)\"/>\n",
       "       <path id=\"Avenir-Book-70\" d=\"M 3194 1498 \n",
       "Q 3194 1747 3114 1964 \n",
       "Q 3034 2182 2886 2342 \n",
       "Q 2739 2502 2531 2595 \n",
       "Q 2323 2688 2061 2688 \n",
       "Q 1798 2688 1580 2595 \n",
       "Q 1363 2502 1203 2342 \n",
       "Q 1043 2182 953 1964 \n",
       "Q 864 1747 864 1498 \n",
       "Q 864 1248 953 1030 \n",
       "Q 1043 813 1203 653 \n",
       "Q 1363 493 1580 400 \n",
       "Q 1798 307 2061 307 \n",
       "Q 2323 307 2531 400 \n",
       "Q 2739 493 2886 653 \n",
       "Q 3034 813 3114 1030 \n",
       "Q 3194 1248 3194 1498 \n",
       "z\n",
       "M 461 2995 \n",
       "L 883 2995 \n",
       "L 883 2496 \n",
       "L 896 2496 \n",
       "Q 998 2650 1139 2758 \n",
       "Q 1280 2867 1433 2937 \n",
       "Q 1587 3008 1750 3040 \n",
       "Q 1914 3072 2061 3072 \n",
       "Q 2413 3072 2704 2953 \n",
       "Q 2995 2835 3206 2624 \n",
       "Q 3418 2413 3536 2125 \n",
       "Q 3654 1837 3654 1498 \n",
       "Q 3654 1158 3536 870 \n",
       "Q 3418 582 3206 371 \n",
       "Q 2995 160 2704 41 \n",
       "Q 2413 -77 2061 -77 \n",
       "Q 1914 -77 1750 -45 \n",
       "Q 1587 -13 1433 57 \n",
       "Q 1280 128 1139 237 \n",
       "Q 998 346 896 499 \n",
       "L 883 499 \n",
       "L 883 -1843 \n",
       "L 461 -1843 \n",
       "L 461 2995 \n",
       "z\n",
       "\" transform=\"scale(0.015625)\"/>\n",
       "       <path id=\"Avenir-Book-6f\" d=\"M 3027 1498 \n",
       "Q 3027 1747 2947 1964 \n",
       "Q 2867 2182 2720 2342 \n",
       "Q 2573 2502 2365 2595 \n",
       "Q 2157 2688 1894 2688 \n",
       "Q 1632 2688 1424 2595 \n",
       "Q 1216 2502 1072 2342 \n",
       "Q 928 2182 848 1964 \n",
       "Q 768 1747 768 1498 \n",
       "Q 768 1248 848 1030 \n",
       "Q 928 813 1072 653 \n",
       "Q 1216 493 1424 400 \n",
       "Q 1632 307 1894 307 \n",
       "Q 2157 307 2365 400 \n",
       "Q 2573 493 2720 653 \n",
       "Q 2867 813 2947 1030 \n",
       "Q 3027 1248 3027 1498 \n",
       "z\n",
       "M 3488 1498 \n",
       "Q 3488 1158 3369 870 \n",
       "Q 3251 582 3040 371 \n",
       "Q 2829 160 2537 41 \n",
       "Q 2246 -77 1894 -77 \n",
       "Q 1549 -77 1257 41 \n",
       "Q 966 160 755 371 \n",
       "Q 544 582 425 870 \n",
       "Q 307 1158 307 1498 \n",
       "Q 307 1837 425 2125 \n",
       "Q 544 2413 755 2624 \n",
       "Q 966 2835 1257 2953 \n",
       "Q 1549 3072 1894 3072 \n",
       "Q 2246 3072 2537 2953 \n",
       "Q 2829 2835 3040 2624 \n",
       "Q 3251 2413 3369 2125 \n",
       "Q 3488 1837 3488 1498 \n",
       "z\n",
       "\" transform=\"scale(0.015625)\"/>\n",
       "       <path id=\"Avenir-Book-6e\" d=\"M 864 2995 \n",
       "Q 877 2874 880 2755 \n",
       "Q 883 2637 883 2515 \n",
       "L 896 2515 \n",
       "Q 966 2637 1075 2739 \n",
       "Q 1184 2842 1318 2915 \n",
       "Q 1453 2989 1603 3030 \n",
       "Q 1754 3072 1901 3072 \n",
       "Q 2477 3072 2752 2768 \n",
       "Q 3027 2464 3027 1901 \n",
       "L 3027 0 \n",
       "L 2605 0 \n",
       "L 2605 1658 \n",
       "Q 2605 2157 2432 2422 \n",
       "Q 2259 2688 1792 2688 \n",
       "Q 1760 2688 1613 2662 \n",
       "Q 1466 2637 1302 2521 \n",
       "Q 1139 2406 1011 2176 \n",
       "Q 883 1946 883 1536 \n",
       "L 883 0 \n",
       "L 461 0 \n",
       "L 461 2336 \n",
       "Q 461 2458 451 2643 \n",
       "Q 442 2829 429 2995 \n",
       "L 864 2995 \n",
       "z\n",
       "\" transform=\"scale(0.015625)\"/>\n",
       "       <path id=\"Avenir-Book-20\" transform=\"scale(0.015625)\"/>\n",
       "       <path id=\"Avenir-Book-66\" d=\"M 1856 2611 \n",
       "L 1146 2611 \n",
       "L 1146 0 \n",
       "L 723 0 \n",
       "L 723 2611 \n",
       "L 90 2611 \n",
       "L 90 2995 \n",
       "L 723 2995 \n",
       "L 723 3814 \n",
       "Q 723 4410 998 4662 \n",
       "Q 1274 4915 1728 4915 \n",
       "Q 1818 4915 1910 4902 \n",
       "Q 2003 4890 2093 4870 \n",
       "L 2016 4486 \n",
       "Q 1939 4506 1856 4518 \n",
       "Q 1773 4531 1690 4531 \n",
       "Q 1517 4531 1408 4473 \n",
       "Q 1299 4416 1241 4310 \n",
       "Q 1184 4205 1165 4064 \n",
       "Q 1146 3923 1146 3763 \n",
       "L 1146 2995 \n",
       "L 1856 2995 \n",
       "L 1856 2611 \n",
       "z\n",
       "\" transform=\"scale(0.015625)\"/>\n",
       "       <path id=\"Avenir-Book-75\" d=\"M 2624 0 \n",
       "Q 2611 122 2608 240 \n",
       "Q 2605 358 2605 480 \n",
       "L 2592 480 \n",
       "Q 2522 358 2413 256 \n",
       "Q 2304 154 2169 80 \n",
       "Q 2035 6 1884 -35 \n",
       "Q 1734 -77 1587 -77 \n",
       "Q 1011 -77 736 227 \n",
       "Q 461 531 461 1094 \n",
       "L 461 2995 \n",
       "L 883 2995 \n",
       "L 883 1338 \n",
       "Q 883 1088 921 896 \n",
       "Q 960 704 1053 573 \n",
       "Q 1146 442 1302 374 \n",
       "Q 1459 307 1696 307 \n",
       "Q 1728 307 1875 332 \n",
       "Q 2022 358 2185 473 \n",
       "Q 2349 589 2477 819 \n",
       "Q 2605 1050 2605 1459 \n",
       "L 2605 2995 \n",
       "L 3027 2995 \n",
       "L 3027 659 \n",
       "Q 3027 538 3036 352 \n",
       "Q 3046 166 3059 0 \n",
       "L 2624 0 \n",
       "z\n",
       "\" transform=\"scale(0.015625)\"/>\n",
       "       <path id=\"Avenir-Book-63\" d=\"M 2643 2291 \n",
       "Q 2534 2458 2339 2573 \n",
       "Q 2144 2688 1894 2688 \n",
       "Q 1632 2694 1424 2604 \n",
       "Q 1216 2515 1069 2355 \n",
       "Q 922 2195 845 1974 \n",
       "Q 768 1754 768 1498 \n",
       "Q 768 1242 845 1021 \n",
       "Q 922 800 1069 640 \n",
       "Q 1216 480 1424 390 \n",
       "Q 1632 301 1894 307 \n",
       "Q 2144 307 2339 422 \n",
       "Q 2534 538 2643 704 \n",
       "L 2989 442 \n",
       "Q 2765 179 2483 54 \n",
       "Q 2202 -70 1894 -77 \n",
       "Q 1530 -83 1235 35 \n",
       "Q 941 154 733 365 \n",
       "Q 525 576 416 867 \n",
       "Q 307 1158 307 1498 \n",
       "Q 307 1837 416 2128 \n",
       "Q 525 2419 733 2630 \n",
       "Q 941 2842 1235 2960 \n",
       "Q 1530 3078 1894 3072 \n",
       "Q 2202 3066 2483 2941 \n",
       "Q 2765 2816 2989 2554 \n",
       "L 2643 2291 \n",
       "z\n",
       "\" transform=\"scale(0.015625)\"/>\n",
       "       <path id=\"Avenir-Book-74\" d=\"M 2010 2611 \n",
       "L 1146 2611 \n",
       "L 1146 845 \n",
       "Q 1146 678 1178 572 \n",
       "Q 1210 467 1267 409 \n",
       "Q 1325 352 1405 329 \n",
       "Q 1485 307 1581 307 \n",
       "Q 1690 307 1805 339 \n",
       "Q 1920 371 2016 422 \n",
       "L 2035 32 \n",
       "Q 1798 -77 1466 -77 \n",
       "Q 1344 -77 1213 -45 \n",
       "Q 1082 -13 973 76 \n",
       "Q 864 166 793 320 \n",
       "Q 723 474 723 723 \n",
       "L 723 2611 \n",
       "L 90 2611 \n",
       "L 90 2995 \n",
       "L 723 2995 \n",
       "L 723 3840 \n",
       "L 1146 3840 \n",
       "L 1146 2995 \n",
       "L 2010 2995 \n",
       "L 2010 2611 \n",
       "z\n",
       "\" transform=\"scale(0.015625)\"/>\n",
       "       <path id=\"Avenir-Book-69\" d=\"M 1075 4147 \n",
       "Q 1075 4013 979 3926 \n",
       "Q 883 3840 768 3840 \n",
       "Q 653 3840 557 3926 \n",
       "Q 461 4013 461 4147 \n",
       "Q 461 4282 557 4368 \n",
       "Q 653 4454 768 4454 \n",
       "Q 883 4454 979 4368 \n",
       "Q 1075 4282 1075 4147 \n",
       "z\n",
       "M 979 0 \n",
       "L 557 0 \n",
       "L 557 2995 \n",
       "L 979 2995 \n",
       "L 979 0 \n",
       "z\n",
       "\" transform=\"scale(0.015625)\"/>\n",
       "      </defs>\n",
       "      <use xlink:href=\"#Avenir-Book-72\"/>\n",
       "      <use xlink:href=\"#Avenir-Book-65\" x=\"31.449997\"/>\n",
       "      <use xlink:href=\"#Avenir-Book-73\" x=\"87.049988\"/>\n",
       "      <use xlink:href=\"#Avenir-Book-70\" x=\"129.649979\"/>\n",
       "      <use xlink:href=\"#Avenir-Book-6f\" x=\"190.749969\"/>\n",
       "      <use xlink:href=\"#Avenir-Book-6e\" x=\"250.049957\"/>\n",
       "      <use xlink:href=\"#Avenir-Book-73\" x=\"305.649948\"/>\n",
       "      <use xlink:href=\"#Avenir-Book-65\" x=\"348.249939\"/>\n",
       "      <use xlink:href=\"#Avenir-Book-20\" x=\"403.84993\"/>\n",
       "      <use xlink:href=\"#Avenir-Book-66\" x=\"431.649918\"/>\n",
       "      <use xlink:href=\"#Avenir-Book-75\" x=\"461.249908\"/>\n",
       "      <use xlink:href=\"#Avenir-Book-6e\" x=\"516.849899\"/>\n",
       "      <use xlink:href=\"#Avenir-Book-63\" x=\"572.44989\"/>\n",
       "      <use xlink:href=\"#Avenir-Book-74\" x=\"620.649887\"/>\n",
       "      <use xlink:href=\"#Avenir-Book-69\" x=\"653.849884\"/>\n",
       "      <use xlink:href=\"#Avenir-Book-6f\" x=\"677.849869\"/>\n",
       "      <use xlink:href=\"#Avenir-Book-6e\" x=\"737.149857\"/>\n",
       "     </g>\n",
       "    </g>\n",
       "   </g>\n",
       "   <g id=\"line2d_27\">\n",
       "    <path d=\"M 79.014972 422.312727 \n",
       "L 85.778608 422.312727 \n",
       "L 92.542244 422.312727 \n",
       "L 99.305881 422.312727 \n",
       "L 106.069517 422.312727 \n",
       "L 112.833153 422.312727 \n",
       "L 119.59679 422.312727 \n",
       "L 126.360426 422.312727 \n",
       "L 133.124062 422.312727 \n",
       "L 139.887699 422.312727 \n",
       "L 146.651335 422.312727 \n",
       "L 153.414972 422.312727 \n",
       "L 160.178608 422.312727 \n",
       "L 166.942244 422.312727 \n",
       "L 173.705881 422.312727 \n",
       "L 180.469517 422.312727 \n",
       "L 187.233153 422.312727 \n",
       "L 193.99679 422.312727 \n",
       "L 200.760426 418.359273 \n",
       "L 207.524062 398.592003 \n",
       "L 214.287699 276.034925 \n",
       "L 221.051335 169.291672 \n",
       "L 227.814972 133.710572 \n",
       "L 234.578608 121.850221 \n",
       "L 241.342244 125.803672 \n",
       "L 248.105881 129.757122 \n",
       "L 254.869517 141.617496 \n",
       "L 261.633153 161.384748 \n",
       "L 268.39679 181.152023 \n",
       "L 275.160426 208.826199 \n",
       "L 281.924062 236.500386 \n",
       "L 288.687699 268.128024 \n",
       "L 295.451335 299.75565 \n",
       "L 302.214972 327.429832 \n",
       "L 308.978608 351.150551 \n",
       "L 315.742244 374.871279 \n",
       "L 322.505881 390.685095 \n",
       "L 329.269517 402.545457 \n",
       "L 336.033153 410.452365 \n",
       "L 342.79679 414.405819 \n",
       "L 349.560426 418.359273 \n",
       "L 356.324062 418.359273 \n",
       "L 363.087699 422.312727 \n",
       "L 369.851335 422.312727 \n",
       "L 376.614972 422.312727 \n",
       "L 383.378608 422.312727 \n",
       "L 390.142244 422.312727 \n",
       "L 396.905881 422.312727 \n",
       "L 403.669517 422.312727 \n",
       "L 410.433153 422.312727 \n",
       "L 417.19679 422.312727 \n",
       "L 423.960426 422.312727 \n",
       "L 430.724063 422.312727 \n",
       "L 437.487699 422.312727 \n",
       "L 444.251335 422.312727 \n",
       "L 451.014972 422.312727 \n",
       "L 457.778608 422.312727 \n",
       "L 464.542244 422.312727 \n",
       "L 471.305881 422.312727 \n",
       "L 478.069517 422.312727 \n",
       "L 484.833153 422.312727 \n",
       "\" clip-path=\"url(#p162d16e0e8)\" style=\"fill: none; stroke: #ff0000; stroke-width: 1.5; stroke-linecap: square\"/>\n",
       "    <defs>\n",
       "     <path id=\"m3d01808e9d\" d=\"M 0 3 \n",
       "C 0.795609 3 1.55874 2.683901 2.12132 2.12132 \n",
       "C 2.683901 1.55874 3 0.795609 3 0 \n",
       "C 3 -0.795609 2.683901 -1.55874 2.12132 -2.12132 \n",
       "C 1.55874 -2.683901 0.795609 -3 0 -3 \n",
       "C -0.795609 -3 -1.55874 -2.683901 -2.12132 -2.12132 \n",
       "C -2.683901 -1.55874 -3 -0.795609 -3 0 \n",
       "C -3 0.795609 -2.683901 1.55874 -2.12132 2.12132 \n",
       "C -1.55874 2.683901 -0.795609 3 0 3 \n",
       "z\n",
       "\" style=\"stroke: #ff0000\"/>\n",
       "    </defs>\n",
       "    <g clip-path=\"url(#p162d16e0e8)\">\n",
       "     <use xlink:href=\"#m3d01808e9d\" x=\"79.014972\" y=\"422.312727\" style=\"fill: #ff0000; stroke: #ff0000\"/>\n",
       "     <use xlink:href=\"#m3d01808e9d\" x=\"85.778608\" y=\"422.312727\" style=\"fill: #ff0000; stroke: #ff0000\"/>\n",
       "     <use xlink:href=\"#m3d01808e9d\" x=\"92.542244\" y=\"422.312727\" style=\"fill: #ff0000; stroke: #ff0000\"/>\n",
       "     <use xlink:href=\"#m3d01808e9d\" x=\"99.305881\" y=\"422.312727\" style=\"fill: #ff0000; stroke: #ff0000\"/>\n",
       "     <use xlink:href=\"#m3d01808e9d\" x=\"106.069517\" y=\"422.312727\" style=\"fill: #ff0000; stroke: #ff0000\"/>\n",
       "     <use xlink:href=\"#m3d01808e9d\" x=\"112.833153\" y=\"422.312727\" style=\"fill: #ff0000; stroke: #ff0000\"/>\n",
       "     <use xlink:href=\"#m3d01808e9d\" x=\"119.59679\" y=\"422.312727\" style=\"fill: #ff0000; stroke: #ff0000\"/>\n",
       "     <use xlink:href=\"#m3d01808e9d\" x=\"126.360426\" y=\"422.312727\" style=\"fill: #ff0000; stroke: #ff0000\"/>\n",
       "     <use xlink:href=\"#m3d01808e9d\" x=\"133.124062\" y=\"422.312727\" style=\"fill: #ff0000; stroke: #ff0000\"/>\n",
       "     <use xlink:href=\"#m3d01808e9d\" x=\"139.887699\" y=\"422.312727\" style=\"fill: #ff0000; stroke: #ff0000\"/>\n",
       "     <use xlink:href=\"#m3d01808e9d\" x=\"146.651335\" y=\"422.312727\" style=\"fill: #ff0000; stroke: #ff0000\"/>\n",
       "     <use xlink:href=\"#m3d01808e9d\" x=\"153.414972\" y=\"422.312727\" style=\"fill: #ff0000; stroke: #ff0000\"/>\n",
       "     <use xlink:href=\"#m3d01808e9d\" x=\"160.178608\" y=\"422.312727\" style=\"fill: #ff0000; stroke: #ff0000\"/>\n",
       "     <use xlink:href=\"#m3d01808e9d\" x=\"166.942244\" y=\"422.312727\" style=\"fill: #ff0000; stroke: #ff0000\"/>\n",
       "     <use xlink:href=\"#m3d01808e9d\" x=\"173.705881\" y=\"422.312727\" style=\"fill: #ff0000; stroke: #ff0000\"/>\n",
       "     <use xlink:href=\"#m3d01808e9d\" x=\"180.469517\" y=\"422.312727\" style=\"fill: #ff0000; stroke: #ff0000\"/>\n",
       "     <use xlink:href=\"#m3d01808e9d\" x=\"187.233153\" y=\"422.312727\" style=\"fill: #ff0000; stroke: #ff0000\"/>\n",
       "     <use xlink:href=\"#m3d01808e9d\" x=\"193.99679\" y=\"422.312727\" style=\"fill: #ff0000; stroke: #ff0000\"/>\n",
       "     <use xlink:href=\"#m3d01808e9d\" x=\"200.760426\" y=\"418.359273\" style=\"fill: #ff0000; stroke: #ff0000\"/>\n",
       "     <use xlink:href=\"#m3d01808e9d\" x=\"207.524062\" y=\"398.592003\" style=\"fill: #ff0000; stroke: #ff0000\"/>\n",
       "     <use xlink:href=\"#m3d01808e9d\" x=\"214.287699\" y=\"276.034925\" style=\"fill: #ff0000; stroke: #ff0000\"/>\n",
       "     <use xlink:href=\"#m3d01808e9d\" x=\"221.051335\" y=\"169.291672\" style=\"fill: #ff0000; stroke: #ff0000\"/>\n",
       "     <use xlink:href=\"#m3d01808e9d\" x=\"227.814972\" y=\"133.710572\" style=\"fill: #ff0000; stroke: #ff0000\"/>\n",
       "     <use xlink:href=\"#m3d01808e9d\" x=\"234.578608\" y=\"121.850221\" style=\"fill: #ff0000; stroke: #ff0000\"/>\n",
       "     <use xlink:href=\"#m3d01808e9d\" x=\"241.342244\" y=\"125.803672\" style=\"fill: #ff0000; stroke: #ff0000\"/>\n",
       "     <use xlink:href=\"#m3d01808e9d\" x=\"248.105881\" y=\"129.757122\" style=\"fill: #ff0000; stroke: #ff0000\"/>\n",
       "     <use xlink:href=\"#m3d01808e9d\" x=\"254.869517\" y=\"141.617496\" style=\"fill: #ff0000; stroke: #ff0000\"/>\n",
       "     <use xlink:href=\"#m3d01808e9d\" x=\"261.633153\" y=\"161.384748\" style=\"fill: #ff0000; stroke: #ff0000\"/>\n",
       "     <use xlink:href=\"#m3d01808e9d\" x=\"268.39679\" y=\"181.152023\" style=\"fill: #ff0000; stroke: #ff0000\"/>\n",
       "     <use xlink:href=\"#m3d01808e9d\" x=\"275.160426\" y=\"208.826199\" style=\"fill: #ff0000; stroke: #ff0000\"/>\n",
       "     <use xlink:href=\"#m3d01808e9d\" x=\"281.924062\" y=\"236.500386\" style=\"fill: #ff0000; stroke: #ff0000\"/>\n",
       "     <use xlink:href=\"#m3d01808e9d\" x=\"288.687699\" y=\"268.128024\" style=\"fill: #ff0000; stroke: #ff0000\"/>\n",
       "     <use xlink:href=\"#m3d01808e9d\" x=\"295.451335\" y=\"299.75565\" style=\"fill: #ff0000; stroke: #ff0000\"/>\n",
       "     <use xlink:href=\"#m3d01808e9d\" x=\"302.214972\" y=\"327.429832\" style=\"fill: #ff0000; stroke: #ff0000\"/>\n",
       "     <use xlink:href=\"#m3d01808e9d\" x=\"308.978608\" y=\"351.150551\" style=\"fill: #ff0000; stroke: #ff0000\"/>\n",
       "     <use xlink:href=\"#m3d01808e9d\" x=\"315.742244\" y=\"374.871279\" style=\"fill: #ff0000; stroke: #ff0000\"/>\n",
       "     <use xlink:href=\"#m3d01808e9d\" x=\"322.505881\" y=\"390.685095\" style=\"fill: #ff0000; stroke: #ff0000\"/>\n",
       "     <use xlink:href=\"#m3d01808e9d\" x=\"329.269517\" y=\"402.545457\" style=\"fill: #ff0000; stroke: #ff0000\"/>\n",
       "     <use xlink:href=\"#m3d01808e9d\" x=\"336.033153\" y=\"410.452365\" style=\"fill: #ff0000; stroke: #ff0000\"/>\n",
       "     <use xlink:href=\"#m3d01808e9d\" x=\"342.79679\" y=\"414.405819\" style=\"fill: #ff0000; stroke: #ff0000\"/>\n",
       "     <use xlink:href=\"#m3d01808e9d\" x=\"349.560426\" y=\"418.359273\" style=\"fill: #ff0000; stroke: #ff0000\"/>\n",
       "     <use xlink:href=\"#m3d01808e9d\" x=\"356.324062\" y=\"418.359273\" style=\"fill: #ff0000; stroke: #ff0000\"/>\n",
       "     <use xlink:href=\"#m3d01808e9d\" x=\"363.087699\" y=\"422.312727\" style=\"fill: #ff0000; stroke: #ff0000\"/>\n",
       "     <use xlink:href=\"#m3d01808e9d\" x=\"369.851335\" y=\"422.312727\" style=\"fill: #ff0000; stroke: #ff0000\"/>\n",
       "     <use xlink:href=\"#m3d01808e9d\" x=\"376.614972\" y=\"422.312727\" style=\"fill: #ff0000; stroke: #ff0000\"/>\n",
       "     <use xlink:href=\"#m3d01808e9d\" x=\"383.378608\" y=\"422.312727\" style=\"fill: #ff0000; stroke: #ff0000\"/>\n",
       "     <use xlink:href=\"#m3d01808e9d\" x=\"390.142244\" y=\"422.312727\" style=\"fill: #ff0000; stroke: #ff0000\"/>\n",
       "     <use xlink:href=\"#m3d01808e9d\" x=\"396.905881\" y=\"422.312727\" style=\"fill: #ff0000; stroke: #ff0000\"/>\n",
       "     <use xlink:href=\"#m3d01808e9d\" x=\"403.669517\" y=\"422.312727\" style=\"fill: #ff0000; stroke: #ff0000\"/>\n",
       "     <use xlink:href=\"#m3d01808e9d\" x=\"410.433153\" y=\"422.312727\" style=\"fill: #ff0000; stroke: #ff0000\"/>\n",
       "     <use xlink:href=\"#m3d01808e9d\" x=\"417.19679\" y=\"422.312727\" style=\"fill: #ff0000; stroke: #ff0000\"/>\n",
       "     <use xlink:href=\"#m3d01808e9d\" x=\"423.960426\" y=\"422.312727\" style=\"fill: #ff0000; stroke: #ff0000\"/>\n",
       "     <use xlink:href=\"#m3d01808e9d\" x=\"430.724063\" y=\"422.312727\" style=\"fill: #ff0000; stroke: #ff0000\"/>\n",
       "     <use xlink:href=\"#m3d01808e9d\" x=\"437.487699\" y=\"422.312727\" style=\"fill: #ff0000; stroke: #ff0000\"/>\n",
       "     <use xlink:href=\"#m3d01808e9d\" x=\"444.251335\" y=\"422.312727\" style=\"fill: #ff0000; stroke: #ff0000\"/>\n",
       "     <use xlink:href=\"#m3d01808e9d\" x=\"451.014972\" y=\"422.312727\" style=\"fill: #ff0000; stroke: #ff0000\"/>\n",
       "     <use xlink:href=\"#m3d01808e9d\" x=\"457.778608\" y=\"422.312727\" style=\"fill: #ff0000; stroke: #ff0000\"/>\n",
       "     <use xlink:href=\"#m3d01808e9d\" x=\"464.542244\" y=\"422.312727\" style=\"fill: #ff0000; stroke: #ff0000\"/>\n",
       "     <use xlink:href=\"#m3d01808e9d\" x=\"471.305881\" y=\"422.312727\" style=\"fill: #ff0000; stroke: #ff0000\"/>\n",
       "     <use xlink:href=\"#m3d01808e9d\" x=\"478.069517\" y=\"422.312727\" style=\"fill: #ff0000; stroke: #ff0000\"/>\n",
       "     <use xlink:href=\"#m3d01808e9d\" x=\"484.833153\" y=\"422.312727\" style=\"fill: #ff0000; stroke: #ff0000\"/>\n",
       "    </g>\n",
       "   </g>\n",
       "   <g id=\"line2d_28\">\n",
       "    <path d=\"M 79.014972 422.312727 \n",
       "L 85.778608 422.312727 \n",
       "L 92.542244 422.312727 \n",
       "L 99.305881 422.312727 \n",
       "L 106.069517 422.312727 \n",
       "L 112.833153 422.312727 \n",
       "L 119.59679 422.312727 \n",
       "L 126.360426 422.312727 \n",
       "L 133.124062 422.312727 \n",
       "L 139.887699 422.312727 \n",
       "L 146.651335 422.312727 \n",
       "L 153.414972 422.312727 \n",
       "L 160.178608 422.312727 \n",
       "L 166.942244 422.312727 \n",
       "L 173.705881 422.312727 \n",
       "L 180.469517 422.312727 \n",
       "L 187.233153 422.312727 \n",
       "L 193.99679 422.312727 \n",
       "L 200.760426 422.312727 \n",
       "L 207.524062 422.312727 \n",
       "L 214.287699 422.312727 \n",
       "L 221.051335 422.312727 \n",
       "L 227.814972 422.312727 \n",
       "L 234.578608 422.312727 \n",
       "L 241.342244 416.744481 \n",
       "L 248.105881 372.198511 \n",
       "L 254.869517 221.855863 \n",
       "L 261.633153 99.354469 \n",
       "L 268.39679 43.671974 \n",
       "L 275.160426 32.535499 \n",
       "L 281.924062 26.967273 \n",
       "L 288.687699 38.103748 \n",
       "L 295.451335 43.671974 \n",
       "L 302.214972 54.808473 \n",
       "L 308.978608 71.513222 \n",
       "L 315.742244 82.649697 \n",
       "L 322.505881 99.354469 \n",
       "L 329.269517 116.05917 \n",
       "L 336.033153 132.763942 \n",
       "L 342.79679 155.036917 \n",
       "L 349.560426 171.741665 \n",
       "L 356.324062 194.01464 \n",
       "L 363.087699 221.855863 \n",
       "L 369.851335 244.12885 \n",
       "L 376.614972 266.401836 \n",
       "L 383.378608 288.674822 \n",
       "L 390.142244 305.379559 \n",
       "L 396.905881 322.084295 \n",
       "L 403.669517 338.789032 \n",
       "L 410.433153 349.925531 \n",
       "L 417.19679 361.062018 \n",
       "L 423.960426 372.198511 \n",
       "L 430.724063 383.335004 \n",
       "L 437.487699 388.903251 \n",
       "L 444.251335 400.039743 \n",
       "L 451.014972 405.607989 \n",
       "L 457.778608 405.607989 \n",
       "L 464.542244 411.176235 \n",
       "L 471.305881 411.176235 \n",
       "L 478.069517 416.744481 \n",
       "L 484.833153 416.744481 \n",
       "\" clip-path=\"url(#p162d16e0e8)\" style=\"fill: none; stroke: #0000ff; stroke-width: 1.5; stroke-linecap: square\"/>\n",
       "    <defs>\n",
       "     <path id=\"m40f534d88d\" d=\"M 0 3 \n",
       "C 0.795609 3 1.55874 2.683901 2.12132 2.12132 \n",
       "C 2.683901 1.55874 3 0.795609 3 0 \n",
       "C 3 -0.795609 2.683901 -1.55874 2.12132 -2.12132 \n",
       "C 1.55874 -2.683901 0.795609 -3 0 -3 \n",
       "C -0.795609 -3 -1.55874 -2.683901 -2.12132 -2.12132 \n",
       "C -2.683901 -1.55874 -3 -0.795609 -3 0 \n",
       "C -3 0.795609 -2.683901 1.55874 -2.12132 2.12132 \n",
       "C -1.55874 2.683901 -0.795609 3 0 3 \n",
       "z\n",
       "\" style=\"stroke: #0000ff\"/>\n",
       "    </defs>\n",
       "    <g clip-path=\"url(#p162d16e0e8)\">\n",
       "     <use xlink:href=\"#m40f534d88d\" x=\"79.014972\" y=\"422.312727\" style=\"fill: #0000ff; stroke: #0000ff\"/>\n",
       "     <use xlink:href=\"#m40f534d88d\" x=\"85.778608\" y=\"422.312727\" style=\"fill: #0000ff; stroke: #0000ff\"/>\n",
       "     <use xlink:href=\"#m40f534d88d\" x=\"92.542244\" y=\"422.312727\" style=\"fill: #0000ff; stroke: #0000ff\"/>\n",
       "     <use xlink:href=\"#m40f534d88d\" x=\"99.305881\" y=\"422.312727\" style=\"fill: #0000ff; stroke: #0000ff\"/>\n",
       "     <use xlink:href=\"#m40f534d88d\" x=\"106.069517\" y=\"422.312727\" style=\"fill: #0000ff; stroke: #0000ff\"/>\n",
       "     <use xlink:href=\"#m40f534d88d\" x=\"112.833153\" y=\"422.312727\" style=\"fill: #0000ff; stroke: #0000ff\"/>\n",
       "     <use xlink:href=\"#m40f534d88d\" x=\"119.59679\" y=\"422.312727\" style=\"fill: #0000ff; stroke: #0000ff\"/>\n",
       "     <use xlink:href=\"#m40f534d88d\" x=\"126.360426\" y=\"422.312727\" style=\"fill: #0000ff; stroke: #0000ff\"/>\n",
       "     <use xlink:href=\"#m40f534d88d\" x=\"133.124062\" y=\"422.312727\" style=\"fill: #0000ff; stroke: #0000ff\"/>\n",
       "     <use xlink:href=\"#m40f534d88d\" x=\"139.887699\" y=\"422.312727\" style=\"fill: #0000ff; stroke: #0000ff\"/>\n",
       "     <use xlink:href=\"#m40f534d88d\" x=\"146.651335\" y=\"422.312727\" style=\"fill: #0000ff; stroke: #0000ff\"/>\n",
       "     <use xlink:href=\"#m40f534d88d\" x=\"153.414972\" y=\"422.312727\" style=\"fill: #0000ff; stroke: #0000ff\"/>\n",
       "     <use xlink:href=\"#m40f534d88d\" x=\"160.178608\" y=\"422.312727\" style=\"fill: #0000ff; stroke: #0000ff\"/>\n",
       "     <use xlink:href=\"#m40f534d88d\" x=\"166.942244\" y=\"422.312727\" style=\"fill: #0000ff; stroke: #0000ff\"/>\n",
       "     <use xlink:href=\"#m40f534d88d\" x=\"173.705881\" y=\"422.312727\" style=\"fill: #0000ff; stroke: #0000ff\"/>\n",
       "     <use xlink:href=\"#m40f534d88d\" x=\"180.469517\" y=\"422.312727\" style=\"fill: #0000ff; stroke: #0000ff\"/>\n",
       "     <use xlink:href=\"#m40f534d88d\" x=\"187.233153\" y=\"422.312727\" style=\"fill: #0000ff; stroke: #0000ff\"/>\n",
       "     <use xlink:href=\"#m40f534d88d\" x=\"193.99679\" y=\"422.312727\" style=\"fill: #0000ff; stroke: #0000ff\"/>\n",
       "     <use xlink:href=\"#m40f534d88d\" x=\"200.760426\" y=\"422.312727\" style=\"fill: #0000ff; stroke: #0000ff\"/>\n",
       "     <use xlink:href=\"#m40f534d88d\" x=\"207.524062\" y=\"422.312727\" style=\"fill: #0000ff; stroke: #0000ff\"/>\n",
       "     <use xlink:href=\"#m40f534d88d\" x=\"214.287699\" y=\"422.312727\" style=\"fill: #0000ff; stroke: #0000ff\"/>\n",
       "     <use xlink:href=\"#m40f534d88d\" x=\"221.051335\" y=\"422.312727\" style=\"fill: #0000ff; stroke: #0000ff\"/>\n",
       "     <use xlink:href=\"#m40f534d88d\" x=\"227.814972\" y=\"422.312727\" style=\"fill: #0000ff; stroke: #0000ff\"/>\n",
       "     <use xlink:href=\"#m40f534d88d\" x=\"234.578608\" y=\"422.312727\" style=\"fill: #0000ff; stroke: #0000ff\"/>\n",
       "     <use xlink:href=\"#m40f534d88d\" x=\"241.342244\" y=\"416.744481\" style=\"fill: #0000ff; stroke: #0000ff\"/>\n",
       "     <use xlink:href=\"#m40f534d88d\" x=\"248.105881\" y=\"372.198511\" style=\"fill: #0000ff; stroke: #0000ff\"/>\n",
       "     <use xlink:href=\"#m40f534d88d\" x=\"254.869517\" y=\"221.855863\" style=\"fill: #0000ff; stroke: #0000ff\"/>\n",
       "     <use xlink:href=\"#m40f534d88d\" x=\"261.633153\" y=\"99.354469\" style=\"fill: #0000ff; stroke: #0000ff\"/>\n",
       "     <use xlink:href=\"#m40f534d88d\" x=\"268.39679\" y=\"43.671974\" style=\"fill: #0000ff; stroke: #0000ff\"/>\n",
       "     <use xlink:href=\"#m40f534d88d\" x=\"275.160426\" y=\"32.535499\" style=\"fill: #0000ff; stroke: #0000ff\"/>\n",
       "     <use xlink:href=\"#m40f534d88d\" x=\"281.924062\" y=\"26.967273\" style=\"fill: #0000ff; stroke: #0000ff\"/>\n",
       "     <use xlink:href=\"#m40f534d88d\" x=\"288.687699\" y=\"38.103748\" style=\"fill: #0000ff; stroke: #0000ff\"/>\n",
       "     <use xlink:href=\"#m40f534d88d\" x=\"295.451335\" y=\"43.671974\" style=\"fill: #0000ff; stroke: #0000ff\"/>\n",
       "     <use xlink:href=\"#m40f534d88d\" x=\"302.214972\" y=\"54.808473\" style=\"fill: #0000ff; stroke: #0000ff\"/>\n",
       "     <use xlink:href=\"#m40f534d88d\" x=\"308.978608\" y=\"71.513222\" style=\"fill: #0000ff; stroke: #0000ff\"/>\n",
       "     <use xlink:href=\"#m40f534d88d\" x=\"315.742244\" y=\"82.649697\" style=\"fill: #0000ff; stroke: #0000ff\"/>\n",
       "     <use xlink:href=\"#m40f534d88d\" x=\"322.505881\" y=\"99.354469\" style=\"fill: #0000ff; stroke: #0000ff\"/>\n",
       "     <use xlink:href=\"#m40f534d88d\" x=\"329.269517\" y=\"116.05917\" style=\"fill: #0000ff; stroke: #0000ff\"/>\n",
       "     <use xlink:href=\"#m40f534d88d\" x=\"336.033153\" y=\"132.763942\" style=\"fill: #0000ff; stroke: #0000ff\"/>\n",
       "     <use xlink:href=\"#m40f534d88d\" x=\"342.79679\" y=\"155.036917\" style=\"fill: #0000ff; stroke: #0000ff\"/>\n",
       "     <use xlink:href=\"#m40f534d88d\" x=\"349.560426\" y=\"171.741665\" style=\"fill: #0000ff; stroke: #0000ff\"/>\n",
       "     <use xlink:href=\"#m40f534d88d\" x=\"356.324062\" y=\"194.01464\" style=\"fill: #0000ff; stroke: #0000ff\"/>\n",
       "     <use xlink:href=\"#m40f534d88d\" x=\"363.087699\" y=\"221.855863\" style=\"fill: #0000ff; stroke: #0000ff\"/>\n",
       "     <use xlink:href=\"#m40f534d88d\" x=\"369.851335\" y=\"244.12885\" style=\"fill: #0000ff; stroke: #0000ff\"/>\n",
       "     <use xlink:href=\"#m40f534d88d\" x=\"376.614972\" y=\"266.401836\" style=\"fill: #0000ff; stroke: #0000ff\"/>\n",
       "     <use xlink:href=\"#m40f534d88d\" x=\"383.378608\" y=\"288.674822\" style=\"fill: #0000ff; stroke: #0000ff\"/>\n",
       "     <use xlink:href=\"#m40f534d88d\" x=\"390.142244\" y=\"305.379559\" style=\"fill: #0000ff; stroke: #0000ff\"/>\n",
       "     <use xlink:href=\"#m40f534d88d\" x=\"396.905881\" y=\"322.084295\" style=\"fill: #0000ff; stroke: #0000ff\"/>\n",
       "     <use xlink:href=\"#m40f534d88d\" x=\"403.669517\" y=\"338.789032\" style=\"fill: #0000ff; stroke: #0000ff\"/>\n",
       "     <use xlink:href=\"#m40f534d88d\" x=\"410.433153\" y=\"349.925531\" style=\"fill: #0000ff; stroke: #0000ff\"/>\n",
       "     <use xlink:href=\"#m40f534d88d\" x=\"417.19679\" y=\"361.062018\" style=\"fill: #0000ff; stroke: #0000ff\"/>\n",
       "     <use xlink:href=\"#m40f534d88d\" x=\"423.960426\" y=\"372.198511\" style=\"fill: #0000ff; stroke: #0000ff\"/>\n",
       "     <use xlink:href=\"#m40f534d88d\" x=\"430.724063\" y=\"383.335004\" style=\"fill: #0000ff; stroke: #0000ff\"/>\n",
       "     <use xlink:href=\"#m40f534d88d\" x=\"437.487699\" y=\"388.903251\" style=\"fill: #0000ff; stroke: #0000ff\"/>\n",
       "     <use xlink:href=\"#m40f534d88d\" x=\"444.251335\" y=\"400.039743\" style=\"fill: #0000ff; stroke: #0000ff\"/>\n",
       "     <use xlink:href=\"#m40f534d88d\" x=\"451.014972\" y=\"405.607989\" style=\"fill: #0000ff; stroke: #0000ff\"/>\n",
       "     <use xlink:href=\"#m40f534d88d\" x=\"457.778608\" y=\"405.607989\" style=\"fill: #0000ff; stroke: #0000ff\"/>\n",
       "     <use xlink:href=\"#m40f534d88d\" x=\"464.542244\" y=\"411.176235\" style=\"fill: #0000ff; stroke: #0000ff\"/>\n",
       "     <use xlink:href=\"#m40f534d88d\" x=\"471.305881\" y=\"411.176235\" style=\"fill: #0000ff; stroke: #0000ff\"/>\n",
       "     <use xlink:href=\"#m40f534d88d\" x=\"478.069517\" y=\"416.744481\" style=\"fill: #0000ff; stroke: #0000ff\"/>\n",
       "     <use xlink:href=\"#m40f534d88d\" x=\"484.833153\" y=\"416.744481\" style=\"fill: #0000ff; stroke: #0000ff\"/>\n",
       "    </g>\n",
       "   </g>\n",
       "   <g id=\"patch_3\">\n",
       "    <path d=\"M 58.724063 442.08 \n",
       "L 58.724063 7.2 \n",
       "\" style=\"fill: none; stroke: #000000; stroke-width: 2; stroke-linejoin: miter; stroke-linecap: square\"/>\n",
       "   </g>\n",
       "   <g id=\"patch_4\">\n",
       "    <path d=\"M 505.124062 442.08 \n",
       "L 505.124062 7.2 \n",
       "\" style=\"fill: none; stroke: #000000; stroke-width: 2; stroke-linejoin: miter; stroke-linecap: square\"/>\n",
       "   </g>\n",
       "   <g id=\"patch_5\">\n",
       "    <path d=\"M 58.724062 442.08 \n",
       "L 505.124062 442.08 \n",
       "\" style=\"fill: none; stroke: #000000; stroke-width: 2; stroke-linejoin: miter; stroke-linecap: square\"/>\n",
       "   </g>\n",
       "   <g id=\"patch_6\">\n",
       "    <path d=\"M 58.724062 7.2 \n",
       "L 505.124062 7.2 \n",
       "\" style=\"fill: none; stroke: #000000; stroke-width: 2; stroke-linejoin: miter; stroke-linecap: square\"/>\n",
       "   </g>\n",
       "   <g id=\"legend_1\">\n",
       "    <g id=\"patch_7\">\n",
       "     <path d=\"M 70.888063 54.314737 \n",
       "L 112.808375 54.314737 \n",
       "Q 115.008375 54.314737 115.008375 52.114737 \n",
       "L 115.008375 19.2488 \n",
       "Q 115.008375 17.0488 112.808375 17.0488 \n",
       "L 70.888063 17.0488 \n",
       "Q 68.688063 17.0488 68.688063 19.2488 \n",
       "L 68.688063 52.114737 \n",
       "Q 68.688063 54.314737 70.888063 54.314737 \n",
       "z\n",
       "\" style=\"fill: #ffffff; opacity: 0.8; stroke: #cccccc; stroke-linejoin: miter\"/>\n",
       "    </g>\n",
       "    <g id=\"line2d_29\">\n",
       "     <path d=\"M 73.088063 25.914113 \n",
       "L 84.088063 25.914113 \n",
       "L 95.088063 25.914113 \n",
       "\" style=\"fill: none; stroke: #0000ff; stroke-width: 1.5; stroke-linecap: square\"/>\n",
       "     <g>\n",
       "      <use xlink:href=\"#m40f534d88d\" x=\"84.088063\" y=\"25.914113\" style=\"fill: #0000ff; stroke: #0000ff\"/>\n",
       "     </g>\n",
       "    </g>\n",
       "    <g id=\"text_16\">\n",
       "     <!-- R -->\n",
       "     <g transform=\"translate(103.888063 29.764113)scale(0.11 -0.11)\">\n",
       "      <defs>\n",
       "       <path id=\"Avenir-Book-52\" d=\"M 1075 2528 \n",
       "L 1894 2528 \n",
       "Q 2202 2528 2416 2592 \n",
       "Q 2630 2656 2758 2761 \n",
       "Q 2886 2867 2944 3011 \n",
       "Q 3002 3155 3002 3322 \n",
       "Q 3002 3482 2944 3626 \n",
       "Q 2886 3770 2758 3878 \n",
       "Q 2630 3987 2416 4048 \n",
       "Q 2202 4109 1894 4109 \n",
       "L 1075 4109 \n",
       "L 1075 2528 \n",
       "z\n",
       "M 1075 0 \n",
       "L 614 0 \n",
       "L 614 4531 \n",
       "L 2010 4531 \n",
       "Q 2701 4531 3101 4230 \n",
       "Q 3501 3930 3501 3322 \n",
       "Q 3501 2848 3203 2525 \n",
       "Q 2906 2202 2342 2150 \n",
       "L 3648 0 \n",
       "L 3085 0 \n",
       "L 1843 2106 \n",
       "L 1075 2106 \n",
       "L 1075 0 \n",
       "z\n",
       "\" transform=\"scale(0.015625)\"/>\n",
       "      </defs>\n",
       "      <use xlink:href=\"#Avenir-Book-52\"/>\n",
       "     </g>\n",
       "    </g>\n",
       "    <g id=\"line2d_30\">\n",
       "     <path d=\"M 73.088063 42.897081 \n",
       "L 84.088063 42.897081 \n",
       "L 95.088063 42.897081 \n",
       "\" style=\"fill: none; stroke: #ff0000; stroke-width: 1.5; stroke-linecap: square\"/>\n",
       "     <g>\n",
       "      <use xlink:href=\"#m3d01808e9d\" x=\"84.088063\" y=\"42.897081\" style=\"fill: #ff0000; stroke: #ff0000\"/>\n",
       "     </g>\n",
       "    </g>\n",
       "    <g id=\"text_17\">\n",
       "     <!-- V -->\n",
       "     <g transform=\"translate(103.888063 46.747081)scale(0.11 -0.11)\">\n",
       "      <defs>\n",
       "       <path id=\"Avenir-Book-56\" d=\"M 1933 691 \n",
       "L 1946 691 \n",
       "L 3430 4531 \n",
       "L 3930 4531 \n",
       "L 2163 0 \n",
       "L 1702 0 \n",
       "L -19 4531 \n",
       "L 493 4531 \n",
       "L 1933 691 \n",
       "z\n",
       "\" transform=\"scale(0.015625)\"/>\n",
       "      </defs>\n",
       "      <use xlink:href=\"#Avenir-Book-56\"/>\n",
       "     </g>\n",
       "    </g>\n",
       "   </g>\n",
       "  </g>\n",
       " </g>\n",
       " <defs>\n",
       "  <clipPath id=\"p162d16e0e8\">\n",
       "   <rect x=\"58.724063\" y=\"7.2\" width=\"446.4\" height=\"434.88\"/>\n",
       "  </clipPath>\n",
       " </defs>\n",
       "</svg>\n"
      ],
      "text/plain": [
       "<Figure size 576x576 with 1 Axes>"
      ]
     },
     "metadata": {
      "needs_background": "light"
     },
     "output_type": "display_data"
    }
   ],
   "source": [
    "fig = plt.figure(figsize=(8,8))\n",
    "fig.subplots_adjust(hspace=0.0, wspace = 0.0)\n",
    "ax = fig.add_subplot(111)\n",
    "\n",
    "ax.plot(Fermi_monitir_lambdas,Fermi_monitor_AGN_V[0].data,color='red',marker='o',label='V')\n",
    "ax.plot(Fermi_monitir_lambdas,Fermi_monitor_AGN_R[0].data,color='blue',marker='o',label='R')\n",
    "\n",
    "#set_ax_locator(ax,xma=0.2,xmi=0.1,yma=10,ymi=5)\n",
    "set_ax_tick(ax)\n",
    "\n",
    "#ax.set_xlabel('Type')\n",
    "#ax2.set_xlabel('Type')\n",
    "ax.set_xlabel(r'$\\lambda(\\AA)$')\n",
    "ax.set_ylabel(r'response function')\n",
    "\n",
    "\n",
    "ax.xaxis.set_tick_params(which='major', size=10, width=2, rotation=45,)\n",
    "handles, labels = ax.get_legend_handles_labels()\n",
    "# remove the errorbars\n",
    "#hdl = [h[0] for h in handles]\n",
    "hdl = handles\n",
    "labels_dict=dict(zip(labels, hdl)) #key,values\n",
    "by_label=OrderedDict(sorted(labels_dict.items(),key=lambda t:t[0]))\n",
    "\n",
    "ax.legend(by_label.values(), by_label.keys(), bbox_to_anchor=(0.01, 0.99),\n",
    "          loc=2, numpoints=1,ncol=1,fontsize=11.)\n",
    "\n",
    "# use them in the legend\n",
    "#by_label = OrderedDict(zip(labels, handles)) \n",
    "#ax.legend(by_label.values(), by_label.keys(), bbox_to_anchor=(0.0, 0.9),loc=2, numpoints=1, fontsize=11. )\n",
    "\n",
    "\n",
    "#ax.semilogy()\n",
    "#ax.semilogx()\n",
    "\n",
    "#ax.set_xlim(0.0,0.6)\n",
    "#plt.legend()\n",
    "#fig.savefig('tansmission_curve_V_R.png', dpi=400, transparent=False, bbox_inches='tight')\n"
   ]
  },
  {
   "cell_type": "code",
   "execution_count": null,
   "metadata": {
    "ExecuteTime": {
     "end_time": "2022-09-19T11:55:41.044869Z",
     "start_time": "2022-09-19T11:55:41.034874Z"
    }
   },
   "outputs": [],
   "source": [
    "pwd"
   ]
  },
  {
   "cell_type": "code",
   "execution_count": null,
   "metadata": {
    "ExecuteTime": {
     "end_time": "2022-09-19T11:55:49.602402Z",
     "start_time": "2022-09-19T11:55:49.381326Z"
    }
   },
   "outputs": [],
   "source": [
    "!open /Users/lyubing/blog/brettlv.github.io/pythoncode/00JetRM"
   ]
  },
  {
   "cell_type": "markdown",
   "metadata": {},
   "source": [
    "# def get_data_name"
   ]
  },
  {
   "cell_type": "markdown",
   "metadata": {},
   "source": [
    "## def get_poldata_name(root_dir,name_i)"
   ]
  },
  {
   "cell_type": "code",
   "execution_count": null,
   "metadata": {
    "ExecuteTime": {
     "end_time": "2022-08-24T03:09:06.230836Z",
     "start_time": "2022-08-24T03:09:06.215580Z"
    }
   },
   "outputs": [],
   "source": [
    "def get_poldata_name(root_dir,name_i):\n",
    "    \n",
    "    source_Name_i=name_i.strip()\n",
    "    \n",
    "    if source_Name_i.startswith('PKS') or source_Name_i.startswith('1ES') or source_Name_i.startswith('1H'):\n",
    "        source_Name_i_Rband=source_Name_i.replace(' ','')\n",
    "    \n",
    "    else:\n",
    "        source_Name_i_Rband=source_Name_i\n",
    "        \n",
    "    source_name_i=Source_name_dict[source_Name_i]\n",
    "    #source_name=Source_name_dict[source_Name]  \n",
    "    \n",
    "    pol_path_fig=os.path.join(root_dir,source_name_i+'_pol_lc.png')\n",
    "       \n",
    "    \n",
    "    \n",
    "    Poldata_i=pd.DataFrame([])\n",
    "    \n",
    "    for i in range(10):\n",
    "        \n",
    "        if i==0:\n",
    "            prefix=''\n",
    "        else:\n",
    "            prefix='_%d'%(i+1)\n",
    "        \n",
    "        Polpath=os.path.join(root_data_dir,source_name_i,'%s_pol'%source_name_i+prefix+'.xlsx')\n",
    "        if os.path.exists(Polpath):\n",
    "            Poldata=pd.read_excel(Polpath)\n",
    "            Poldata_select=Poldata[[Poldata.columns[3],Poldata.columns[9],Poldata.columns[10]]]\n",
    "            Poldata_i=Poldata_i.append(Poldata_select,ignore_index=True)\n",
    "\n",
    "                 \n",
    "    return  Poldata_i           "
   ]
  },
  {
   "cell_type": "code",
   "execution_count": null,
   "metadata": {
    "ExecuteTime": {
     "end_time": "2022-08-24T02:45:16.248979Z",
     "start_time": "2022-08-24T02:45:15.972775Z"
    }
   },
   "outputs": [],
   "source": [
    "name_i= 'PKS 1510-08' \n",
    "# sourcename='pks1510'\n",
    "# SourceName='PKS 1510-08'\n",
    "#source_name_i=Source_name_dict[source_Name_i]\n",
    "#source_Name_i=Source_Name_dict[source_name_i]  \n",
    "Poldata_i= get_poldata_name(root_dir,name_i)\n",
    "\n"
   ]
  },
  {
   "cell_type": "code",
   "execution_count": null,
   "metadata": {},
   "outputs": [],
   "source": [
    "Poldata_i['mjd']=Poldata_i['JD']- 2400000.5\n",
    "Poldata_i=Poldata_i.sort_values('mjd')\n",
    "print(name_i)\n",
    "Poldata_i.to_csv('%s/%s_pol.csv'%(root_dir,name_i),index=False)"
   ]
  },
  {
   "cell_type": "code",
   "execution_count": null,
   "metadata": {
    "ExecuteTime": {
     "end_time": "2022-08-24T03:11:31.582810Z",
     "start_time": "2022-08-24T03:11:31.572646Z"
    }
   },
   "outputs": [],
   "source": [
    "Poldata_i.columns"
   ]
  },
  {
   "cell_type": "code",
   "execution_count": null,
   "metadata": {},
   "outputs": [],
   "source": []
  },
  {
   "cell_type": "code",
   "execution_count": null,
   "metadata": {
    "ExecuteTime": {
     "end_time": "2022-08-24T06:23:01.984695Z",
     "start_time": "2022-08-24T06:23:01.968781Z"
    }
   },
   "outputs": [],
   "source": [
    "def get_pol_pa_data_name(root_dir,name_i):\n",
    "    \n",
    "    source_Name_i=name_i.strip()\n",
    "    \n",
    "    if source_Name_i.startswith('PKS') or source_Name_i.startswith('1ES') or source_Name_i.startswith('1H'):\n",
    "        source_Name_i_Rband=source_Name_i.replace(' ','')\n",
    "    \n",
    "    else:\n",
    "        source_Name_i_Rband=source_Name_i\n",
    "        \n",
    "    source_name_i=Source_name_dict[source_Name_i]\n",
    "    #source_name=Source_name_dict[source_Name]  \n",
    "    \n",
    "    pol_path_fig=os.path.join(root_dir,source_name_i+'_pol_lc.png')\n",
    "       \n",
    "    \n",
    "    \n",
    "    Poldata_i=pd.DataFrame([])\n",
    "    \n",
    "    for i in range(10):\n",
    "        \n",
    "        if i==0:\n",
    "            prefix=''\n",
    "        else:\n",
    "            prefix='_%d'%(i+1)\n",
    "        \n",
    "        Polpath=os.path.join(root_data_dir,source_name_i,'%s_pol'%source_name_i+prefix+'.xlsx')\n",
    "        if os.path.exists(Polpath):\n",
    "            Poldata=pd.read_excel(Polpath)\n",
    "            Poldata_select=Poldata[[Poldata.columns[3],Poldata.columns[11],Poldata.columns[12]]]\n",
    "            Poldata_i=Poldata_i.append(Poldata_select,ignore_index=True)                \n",
    "    return  Poldata_i           "
   ]
  },
  {
   "cell_type": "code",
   "execution_count": null,
   "metadata": {
    "ExecuteTime": {
     "end_time": "2022-08-24T06:23:32.915436Z",
     "start_time": "2022-08-24T06:23:32.624448Z"
    }
   },
   "outputs": [],
   "source": [
    "name_i= 'PKS 1510-08' \n",
    "# sourcename='pks1510'\n",
    "# SourceName='PKS 1510-08'\n",
    "#source_name_i=Source_name_dict[source_Name_i]\n",
    "#source_Name_i=Source_Name_dict[source_name_i]  \n",
    "Pol_PA_data_i= get_pol_pa_data_name(root_dir,name_i)\n",
    "\n"
   ]
  },
  {
   "cell_type": "code",
   "execution_count": null,
   "metadata": {
    "ExecuteTime": {
     "end_time": "2022-08-24T06:24:21.429028Z",
     "start_time": "2022-08-24T06:24:21.406503Z"
    }
   },
   "outputs": [],
   "source": [
    "Pol_PA_data_i\n",
    "\n",
    "Pol_PA_data_i['mjd']=Pol_PA_data_i['JD']- 2400000.5\n",
    "Pol_PA_data_i=Pol_PA_data_i.sort_values('mjd')\n",
    "print(name_i)\n",
    "Pol_PA_data_i.to_csv('%s/%s_pol_pa.csv'%(root_dir,name_i),index=False)"
   ]
  },
  {
   "cell_type": "markdown",
   "metadata": {},
   "source": [
    "## def get_Vdata_name(root_dir,name_i)"
   ]
  },
  {
   "cell_type": "code",
   "execution_count": null,
   "metadata": {
    "ExecuteTime": {
     "end_time": "2022-08-24T02:59:43.026732Z",
     "start_time": "2022-08-24T02:59:43.009539Z"
    }
   },
   "outputs": [],
   "source": [
    "def get_Vdata_name(root_dir,name_i):\n",
    "    \n",
    "    source_Name_i=name_i.strip()   \n",
    "    \n",
    "    if source_Name_i.startswith('PKS') or source_Name_i.startswith('1ES') or source_Name_i.startswith('1H'):\n",
    "        source_Name_i_Rband=source_Name_i.replace(' ','')\n",
    "    \n",
    "    else:\n",
    "        source_Name_i_Rband=source_Name_i\n",
    "        \n",
    "    source_name_i=Source_name_dict[source_Name_i]\n",
    "    #source_name=Source_name_dict[source_Name]  \n",
    "    \n",
    "  \n",
    "    Poldata_i=pd.DataFrame([])\n",
    "    \n",
    "    for i in range(10):\n",
    "        if i==0:\n",
    "            prefix=''\n",
    "        else:\n",
    "            prefix='_%d'%(i+1)\n",
    "        \n",
    "        Polpath=os.path.join(root_data_dir,source_name_i,'%s_phot'%source_name_i+prefix+'.xlsx')\n",
    "        if os.path.exists(Polpath):\n",
    "            Poldata=pd.read_excel(Polpath)  \n",
    "            Poldata_select=Poldata[[Poldata.columns[3],Poldata.columns[7],Poldata.columns[8]]]\n",
    "            Poldata_i=Poldata_i.append(Poldata_select,ignore_index=True)\n",
    "            \n",
    "            #Poldata['JD']- 2400000.5,\n",
    "            #y=Poldata['V'],\n",
    "            #yerr=Poldata['σ(V)'],\n",
    "\n",
    "    return  Poldata_i             \n"
   ]
  },
  {
   "cell_type": "code",
   "execution_count": null,
   "metadata": {
    "ExecuteTime": {
     "end_time": "2022-08-24T03:00:15.022733Z",
     "start_time": "2022-08-24T03:00:14.807589Z"
    }
   },
   "outputs": [],
   "source": [
    "name_i= 'PKS 1510-08' \n",
    "Vdata_i=get_Vdata_name(root_dir,name_i)"
   ]
  },
  {
   "cell_type": "code",
   "execution_count": null,
   "metadata": {},
   "outputs": [],
   "source": [
    "Vdata_i['mjd']=Vdata_i['JD']- 2400000.5\n",
    "Vdata_i=Vdata_i.sort_values('mjd')\n",
    "print(name_i)\n",
    "Vdata_i.to_csv('%s/%s_V.csv'%(root_dir,name_i),index=False)"
   ]
  },
  {
   "cell_type": "code",
   "execution_count": null,
   "metadata": {
    "ExecuteTime": {
     "end_time": "2022-08-24T03:11:14.364590Z",
     "start_time": "2022-08-24T03:11:14.353839Z"
    }
   },
   "outputs": [],
   "source": [
    "Vdata_i.columns"
   ]
  },
  {
   "cell_type": "markdown",
   "metadata": {},
   "source": [
    "## def get_Rdata_name(root_dir,name_i)"
   ]
  },
  {
   "cell_type": "code",
   "execution_count": null,
   "metadata": {
    "ExecuteTime": {
     "end_time": "2022-08-24T04:04:05.416310Z",
     "start_time": "2022-08-24T04:04:05.398448Z"
    }
   },
   "outputs": [],
   "source": [
    "def get_Rdata_name(root_dir,name_i):\n",
    "    source_Name_i=name_i.strip()\n",
    "    \n",
    "    if source_Name_i.startswith('PKS') or source_Name_i.startswith('1ES') or source_Name_i.startswith('1H'):\n",
    "        source_Name_i_Rband=source_Name_i.replace(' ','')\n",
    "    \n",
    "    else:\n",
    "        source_Name_i_Rband=source_Name_i\n",
    "        \n",
    "    source_name_i=Source_name_dict[source_Name_i]\n",
    "    #source_name=Source_name_dict[source_Name]  \n",
    "    #Rband_num=0 \n",
    "\n",
    "    Rphot_i=pd.DataFrame([])\n",
    "    \n",
    "    for i in range(10):\n",
    "        Rphot=pd.read_excel(os.path.join(Rphot_dir,'Rphot_Cycle%d.xlsx'%(i+1)))\n",
    "        Rphot_name= Rphot[Rphot['Object']==source_Name_i_Rband]   \n",
    "        \n",
    "        #x=Rphot_name['JD']- 2400000.5,\n",
    "        #y=Rphot_name['R'],\n",
    "        #yerr=Rphot_name['σ(R)'],\n",
    "        Rphot_select=Rphot_name[[Rphot_name.columns[3],Rphot_name.columns[7],Rphot_name.columns[8]]]\n",
    "        Rphot_i=Rphot_i.append(Rphot_select,ignore_index=True)\n",
    "        \n",
    "\n",
    "    return  Rphot_i             \n",
    " "
   ]
  },
  {
   "cell_type": "code",
   "execution_count": null,
   "metadata": {
    "ExecuteTime": {
     "end_time": "2022-08-24T04:04:07.207313Z",
     "start_time": "2022-08-24T04:04:06.082284Z"
    }
   },
   "outputs": [],
   "source": [
    "name_i= 'PKS 1510-08' \n",
    "Rphot_i =get_Rdata_name(root_dir,name_i)"
   ]
  },
  {
   "cell_type": "code",
   "execution_count": null,
   "metadata": {
    "ExecuteTime": {
     "end_time": "2022-08-24T04:04:16.803357Z",
     "start_time": "2022-08-24T04:04:16.791131Z"
    }
   },
   "outputs": [],
   "source": [
    "Rphot_i.columns"
   ]
  },
  {
   "cell_type": "code",
   "execution_count": null,
   "metadata": {
    "ExecuteTime": {
     "end_time": "2022-08-24T04:04:17.974184Z",
     "start_time": "2022-08-24T04:04:17.951430Z"
    }
   },
   "outputs": [],
   "source": [
    "Rphot_i['mjd']=Rphot_i['JD']- 2400000.5\n",
    "Rphot_i=Rphot_i.sort_values('mjd')\n",
    "print(name_i)\n",
    "Rphot_i.to_csv('%s/%s_R.csv'%(root_dir,name_i),index=False)"
   ]
  },
  {
   "cell_type": "code",
   "execution_count": null,
   "metadata": {
    "ExecuteTime": {
     "end_time": "2022-08-24T05:21:52.243658Z",
     "start_time": "2022-08-24T05:21:52.235422Z"
    }
   },
   "outputs": [],
   "source": [
    "len(Rphot_i)"
   ]
  },
  {
   "cell_type": "code",
   "execution_count": null,
   "metadata": {},
   "outputs": [],
   "source": []
  },
  {
   "cell_type": "markdown",
   "metadata": {},
   "source": [
    "# Fermi_AGN_list_ned"
   ]
  },
  {
   "cell_type": "code",
   "execution_count": null,
   "metadata": {
    "ExecuteTime": {
     "end_time": "2022-08-24T01:58:51.373185Z",
     "start_time": "2022-08-24T01:58:51.156043Z"
    }
   },
   "outputs": [],
   "source": [
    "Fermi_AGN_list=pd.read_excel('%s/FermiAGN_namelist_ned.xlsx'%root_dir,header=0,skiprows=[1,2])"
   ]
  },
  {
   "cell_type": "code",
   "execution_count": null,
   "metadata": {
    "ExecuteTime": {
     "end_time": "2022-08-24T01:58:52.388092Z",
     "start_time": "2022-08-24T01:58:52.368463Z"
    }
   },
   "outputs": [],
   "source": [
    "Fermi_AGN_list.columns"
   ]
  },
  {
   "cell_type": "code",
   "execution_count": null,
   "metadata": {
    "ExecuteTime": {
     "end_time": "2022-08-24T01:58:53.506705Z",
     "start_time": "2022-08-24T01:58:53.493413Z"
    }
   },
   "outputs": [],
   "source": [
    "Fermi_AGN_list_name_redshift=Fermi_AGN_list[['      Input Object Name       ',' Redshift ']]"
   ]
  },
  {
   "cell_type": "code",
   "execution_count": null,
   "metadata": {
    "ExecuteTime": {
     "end_time": "2022-08-24T01:58:54.424252Z",
     "start_time": "2022-08-24T01:58:54.404535Z"
    }
   },
   "outputs": [],
   "source": [
    "Fermi_AGN_list_name_redshift"
   ]
  },
  {
   "cell_type": "code",
   "execution_count": null,
   "metadata": {
    "ExecuteTime": {
     "end_time": "2022-08-24T01:59:04.804590Z",
     "start_time": "2022-08-24T01:59:04.702523Z"
    }
   },
   "outputs": [],
   "source": [
    "for i in range(len(Fermi_AGN_list_name_redshift)):\n",
    "    if isinstance(Fermi_AGN_list_name_redshift.iloc[i][1],(int,float)):\n",
    "        \n",
    "        Fermi_AGN_list_name_redshift.loc[i,'z_value']=Fermi_AGN_list_name_redshift.iloc[i][1]\n",
    "    else:\n",
    "        Fermi_AGN_list_name_redshift.loc[i,'z_value']=0\n",
    "        \n",
    "        "
   ]
  },
  {
   "cell_type": "code",
   "execution_count": null,
   "metadata": {
    "ExecuteTime": {
     "end_time": "2022-08-24T01:59:06.818074Z",
     "start_time": "2022-08-24T01:59:06.806483Z"
    }
   },
   "outputs": [],
   "source": [
    "Fermi_AGN_list_name_redshift_T=Fermi_AGN_list_name_redshift[Fermi_AGN_list_name_redshift['z_value']>0]\n",
    "Fermi_AGN_list_name_redshift_T=drop_index(Fermi_AGN_list_name_redshift_T)"
   ]
  },
  {
   "cell_type": "code",
   "execution_count": null,
   "metadata": {
    "ExecuteTime": {
     "end_time": "2022-08-24T01:59:07.347912Z",
     "start_time": "2022-08-24T01:59:07.342207Z"
    }
   },
   "outputs": [],
   "source": [
    "Fermi_AGN_list_name_redshift_T=Fermi_AGN_list_name_redshift_T.sort_values('z_value')"
   ]
  },
  {
   "cell_type": "code",
   "execution_count": null,
   "metadata": {
    "ExecuteTime": {
     "end_time": "2022-07-13T06:54:41.618393Z",
     "start_time": "2022-07-13T06:54:41.614343Z"
    }
   },
   "outputs": [],
   "source": [
    "7000/6563-1"
   ]
  },
  {
   "cell_type": "markdown",
   "metadata": {},
   "source": [
    "## z<0.1"
   ]
  },
  {
   "cell_type": "code",
   "execution_count": null,
   "metadata": {
    "ExecuteTime": {
     "end_time": "2022-07-13T06:54:51.164537Z",
     "start_time": "2022-07-13T06:54:51.160617Z"
    }
   },
   "outputs": [],
   "source": [
    "Fermi_AGN_z_lt0dot1=Fermi_AGN_list_name_redshift_T[Fermi_AGN_list_name_redshift_T['z_value']<0.1]"
   ]
  },
  {
   "cell_type": "code",
   "execution_count": null,
   "metadata": {
    "ExecuteTime": {
     "end_time": "2022-07-13T07:02:43.381681Z",
     "start_time": "2022-07-13T07:02:43.378853Z"
    }
   },
   "outputs": [],
   "source": [
    "Fermi_AGN_z_lt0dot1=drop_index(Fermi_AGN_z_lt0dot1)"
   ]
  },
  {
   "cell_type": "code",
   "execution_count": null,
   "metadata": {
    "ExecuteTime": {
     "end_time": "2022-07-13T07:02:47.046853Z",
     "start_time": "2022-07-13T07:02:47.037155Z"
    }
   },
   "outputs": [],
   "source": [
    "Fermi_AGN_z_lt0dot1"
   ]
  },
  {
   "cell_type": "code",
   "execution_count": null,
   "metadata": {
    "ExecuteTime": {
     "end_time": "2022-07-13T07:03:40.960213Z",
     "start_time": "2022-07-13T07:03:40.954357Z"
    }
   },
   "outputs": [],
   "source": [
    "root_data_dir"
   ]
  },
  {
   "cell_type": "code",
   "execution_count": null,
   "metadata": {
    "ExecuteTime": {
     "end_time": "2022-07-13T07:10:02.347600Z",
     "start_time": "2022-07-13T07:10:02.342090Z"
    }
   },
   "outputs": [],
   "source": [
    "Fermi_AGN_z_lt0dot1[Fermi_AGN_z_lt0dot1.columns[0]].values"
   ]
  },
  {
   "cell_type": "code",
   "execution_count": null,
   "metadata": {
    "ExecuteTime": {
     "end_time": "2022-07-13T07:11:17.467606Z",
     "start_time": "2022-07-13T07:11:17.462178Z"
    }
   },
   "outputs": [],
   "source": [
    "spec_info=pd.DataFrame([],columns=Fermi_AGN_z_lt0dot1[Fermi_AGN_z_lt0dot1.columns[0]].values)\n",
    "#spec_info.columns=Fermi_AGN_z_lt0dot1[Fermi_AGN_z_lt0dot1.columns[0]].values"
   ]
  },
  {
   "cell_type": "code",
   "execution_count": null,
   "metadata": {
    "ExecuteTime": {
     "end_time": "2022-07-13T07:11:21.466762Z",
     "start_time": "2022-07-13T07:11:21.456682Z"
    }
   },
   "outputs": [],
   "source": [
    "spec_info"
   ]
  },
  {
   "cell_type": "markdown",
   "metadata": {},
   "source": [
    "## 3C"
   ]
  },
  {
   "cell_type": "code",
   "execution_count": null,
   "metadata": {
    "ExecuteTime": {
     "end_time": "2022-08-24T02:31:58.547525Z",
     "start_time": "2022-08-24T02:31:58.540769Z"
    }
   },
   "outputs": [],
   "source": [
    "Fermi_3C_sources=['3C 273','3C 279','3C 345','3C 454.3','3C 66A']"
   ]
  },
  {
   "cell_type": "code",
   "execution_count": null,
   "metadata": {
    "ExecuteTime": {
     "end_time": "2022-07-15T08:44:31.123032Z",
     "start_time": "2022-07-15T08:44:30.996999Z"
    }
   },
   "outputs": [],
   "source": [
    "for i in Fermi_3C_sources:\n",
    "    #url_source=root_obj_url+i+'.html'\n",
    "    #print(url_source)\n",
    "    #print(i)\n",
    "    source_Name_i=i.strip()\n",
    "    source_name_i=Source_name_dict[source_Name_i]\n",
    "    #source_name=Source_name_dict[source_Name]  \n",
    "    spec_num=0\n",
    "    save_path_dir=os.path.join(root_data_dir,source_name_i)\n",
    "    #print(save_path_dir)\n",
    "    #os.chdir(save_path_dir)\n",
    "    for file in os.listdir(save_path_dir):\n",
    "        if os.path.isdir(os.path.join(save_path_dir,file)):\n",
    "            #print(file)\n",
    "            specfiles=os.listdir(os.path.join(save_path_dir,file))\n",
    "            for specfile in specfiles:\n",
    "                if specfile.find('spec')>0 and specfile.endswith('.fits'):\n",
    "                    spec_num=spec_num+1    \n",
    "                    #print(specfile[-11:-5])\n",
    "    print(source_Name_i,spec_num)        \n"
   ]
  },
  {
   "cell_type": "code",
   "execution_count": null,
   "metadata": {},
   "outputs": [],
   "source": [
    "3C 273"
   ]
  },
  {
   "cell_type": "code",
   "execution_count": null,
   "metadata": {
    "ExecuteTime": {
     "end_time": "2022-07-15T09:28:22.717971Z",
     "start_time": "2022-07-15T09:28:22.713582Z"
    }
   },
   "outputs": [],
   "source": [
    "146.8*(1+0.158339)"
   ]
  },
  {
   "cell_type": "markdown",
   "metadata": {},
   "source": [
    "### 3C273"
   ]
  },
  {
   "cell_type": "code",
   "execution_count": null,
   "metadata": {
    "ExecuteTime": {
     "end_time": "2022-07-17T13:00:48.000278Z",
     "start_time": "2022-07-17T13:00:47.684121Z"
    }
   },
   "outputs": [],
   "source": [
    "#source_name='pks1510'\n",
    "source_Name='3C 273'\n",
    "#source_Name=Source_Name_dict[source_name]\n",
    "source_name=Source_name_dict[source_Name]\n",
    "\n",
    "\n",
    "source_z=Fermi_AGN_list_name_redshift_T[Fermi_AGN_list_name_redshift_T['      Input Object Name       '].str.strip()==source_Name]['z_value']\n",
    "datatypes=['phot','pol']\n",
    "\n",
    "print(source_name,source_Name,source_z.values[0])\n",
    "\n",
    "spec_path=os.path.join(root_data_dir,source_name,source_name,'3c273.fc.spec_081124.fits')\n",
    "spec_path_fig=spec_path+'.png'\n",
    "\n",
    "date_spec_path=spec_path.split('.')[-2]\n",
    "spec_hdul=fits.open(spec_path)\n",
    "print(len(spec_hdul[0].data))\n",
    "\n",
    "\n",
    "fig = plt.figure(figsize=(12,8))\n",
    "fig.subplots_adjust(hspace=0.0, wspace = 0.0)\n",
    "ax = fig.add_subplot(111)\n",
    "\n",
    "\n",
    "lambda_spec=np.linspace(4000,7550,len(spec_hdul[0].data))\n",
    "\n",
    "ax.plot(lambda_spec/(1+source_z.values[0]),spec_hdul[0].data,color='red',marker='o',label=date_spec_path)\n",
    "#ax.plot(Fermi_monitir_lambdas,Fermi_monitor_AGN_R[0].data,color='blue',marker='o',label='R')\n",
    "\n",
    "#set_ax_locator(ax,xma=0.2,xmi=0.1,yma=10,ymi=5)\n",
    "set_ax_tick(ax)\n",
    "\n",
    "#ax.set_xlabel('Type')\n",
    "#ax2.set_xlabel('Type')\n",
    "ax.set_xlabel(r'$\\lambda/(1+z)(\\AA)$')\n",
    "ax.set_ylabel(r'flux')\n",
    "\n",
    "ax.set_title(source_Name)\n",
    "\n",
    "ax.xaxis.set_tick_params(which='major', size=10, width=2, rotation=45,)\n",
    "handles, labels = ax.get_legend_handles_labels()\n",
    "# remove the errorbars\n",
    "#hdl = [h[0] for h in handles]\n",
    "hdl = handles\n",
    "labels_dict=dict(zip(labels, hdl)) #key,values\n",
    "by_label=OrderedDict(sorted(labels_dict.items(),key=lambda t:t[0]))\n",
    "\n",
    "ax.legend(by_label.values(), by_label.keys(), bbox_to_anchor=(0.01, 0.99),\n",
    "          loc=2, numpoints=1,ncol=1,fontsize=11.)\n",
    "\n",
    "# use them in the legend\n",
    "#by_label = OrderedDict(zip(labels, handles)) \n",
    "#ax.legend(by_label.values(), by_label.keys(), bbox_to_anchor=(0.0, 0.9),loc=2, numpoints=1, fontsize=11. )\n",
    "\n",
    "\n",
    "#ax.semilogy()\n",
    "#ax.semilogx()\n",
    "\n",
    "#ax.set_xlim(5000,7400)\n",
    "#plt.legend()\n",
    "#spec_path_fig\n",
    "\n",
    "#fig.savefig(spec_path_fig, dpi=400, transparent=False, bbox_inches='tight')\n",
    "#fig.savefig('tansmission_curve_V_R.png', dpi=400, transparent=False, bbox_inches='tight')\n"
   ]
  },
  {
   "cell_type": "code",
   "execution_count": null,
   "metadata": {},
   "outputs": [],
   "source": []
  },
  {
   "cell_type": "code",
   "execution_count": null,
   "metadata": {},
   "outputs": [],
   "source": []
  },
  {
   "cell_type": "code",
   "execution_count": null,
   "metadata": {},
   "outputs": [],
   "source": []
  },
  {
   "cell_type": "markdown",
   "metadata": {},
   "source": [
    "## spec_Num"
   ]
  },
  {
   "cell_type": "code",
   "execution_count": null,
   "metadata": {
    "ExecuteTime": {
     "end_time": "2022-07-13T07:32:56.940547Z",
     "start_time": "2022-07-13T07:32:56.764514Z"
    }
   },
   "outputs": [],
   "source": [
    "for i in Fermi_AGN_z_lt0dot1[Fermi_AGN_z_lt0dot1.columns[0]]:\n",
    "    #url_source=root_obj_url+i+'.html'\n",
    "    #print(url_source)\n",
    "    #print(i)\n",
    "    source_Name_i=i.strip()\n",
    "    source_name_i=Source_name_dict[source_Name_i]\n",
    "    #source_name=Source_name_dict[source_Name]  \n",
    "    spec_num=0\n",
    "    save_path_dir=os.path.join(root_data_dir,source_name_i)\n",
    "    #print(save_path_dir)\n",
    "    #os.chdir(save_path_dir)\n",
    "    for file in os.listdir(save_path_dir):\n",
    "        if os.path.isdir(os.path.join(save_path_dir,file)):\n",
    "            #print(file)\n",
    "            specfiles=os.listdir(os.path.join(save_path_dir,file))\n",
    "            for specfile in specfiles:\n",
    "                if specfile.find('spec')>0 and specfile.endswith('.fits'):\n",
    "                    spec_num=spec_num+1    \n",
    "                    #print(specfile[-11:-5])\n",
    "    print(source_Name_i,spec_num)        \n"
   ]
  },
  {
   "cell_type": "markdown",
   "metadata": {},
   "source": [
    "Name spec_NUM\n",
    "PKS 1510-08 451\n",
    "Mrk 421 843\n",
    "Mrk 501 609\n",
    "1ES 2344+514 238\n",
    "1ES 1959+650 195\n",
    "1H 0323+342 3\n",
    "BL Lac 757"
   ]
  },
  {
   "cell_type": "markdown",
   "metadata": {},
   "source": [
    "## Rband_num"
   ]
  },
  {
   "cell_type": "code",
   "execution_count": null,
   "metadata": {
    "ExecuteTime": {
     "end_time": "2022-08-24T01:59:43.593402Z",
     "start_time": "2022-08-24T01:59:43.504817Z"
    }
   },
   "outputs": [],
   "source": [
    "i=0\n",
    "Rphot=pd.read_excel(os.path.join(Rphot_dir,'Rphot_Cycle%d.xlsx'%(i+1)))"
   ]
  },
  {
   "cell_type": "code",
   "execution_count": null,
   "metadata": {
    "ExecuteTime": {
     "end_time": "2022-08-24T01:59:43.886799Z",
     "start_time": "2022-08-24T01:59:43.876457Z"
    }
   },
   "outputs": [],
   "source": [
    "Rphot['Object'][0]"
   ]
  },
  {
   "cell_type": "code",
   "execution_count": null,
   "metadata": {
    "ExecuteTime": {
     "end_time": "2022-07-13T07:45:55.128218Z",
     "start_time": "2022-07-13T07:45:55.123262Z"
    }
   },
   "outputs": [],
   "source": [
    "for name_i in Fermi_AGN_z_lt0dot1[Fermi_AGN_z_lt0dot1.columns[0]]:\n",
    "    #url_source=root_obj_url+i+'.html'\n",
    "    #print(url_source)\n",
    "    #print(i)\n",
    "    source_Name_i=name_i.strip()\n",
    "    source_name_i=Source_name_dict[source_Name_i]\n",
    "    print(source_Name_i)"
   ]
  },
  {
   "cell_type": "code",
   "execution_count": null,
   "metadata": {
    "ExecuteTime": {
     "end_time": "2022-07-13T07:50:09.013118Z",
     "start_time": "2022-07-13T07:50:00.234985Z"
    }
   },
   "outputs": [],
   "source": [
    "for name_i in Fermi_AGN_z_lt0dot1[Fermi_AGN_z_lt0dot1.columns[0]]:\n",
    "    #url_source=root_obj_url+i+'.html'\n",
    "    #print(url_source)\n",
    "    #print(i)\n",
    "    source_Name_i=name_i.strip()\n",
    "    \n",
    "    if source_Name_i.startswith('PKS') or source_Name_i.startswith('1ES') or source_Name_i.startswith('1H'):\n",
    "        source_Name_i_Rband=source_Name_i.replace(' ','')\n",
    "    \n",
    "    else:\n",
    "        source_Name_i_Rband=source_Name_i\n",
    "        \n",
    "    source_name_i=Source_name_dict[source_Name_i]\n",
    "    #source_name=Source_name_dict[source_Name]  \n",
    "    Rband_num=0 \n",
    "    \n",
    "    for i in range(10):\n",
    "        Rphot=pd.read_excel(os.path.join(Rphot_dir,'Rphot_Cycle%d.xlsx'%(i+1)))\n",
    "        Rphot_name= Rphot[Rphot['Object']==source_Name_i_Rband]   \n",
    "        Rband_num=len(Rphot_name)+Rband_num\n",
    "    print(source_Name_i,Rband_num)          \n",
    "        "
   ]
  },
  {
   "cell_type": "markdown",
   "metadata": {},
   "source": [
    "## Rbandplot"
   ]
  },
  {
   "cell_type": "code",
   "execution_count": null,
   "metadata": {
    "ExecuteTime": {
     "end_time": "2022-07-13T09:06:22.340220Z",
     "start_time": "2022-07-13T09:05:45.363109Z"
    }
   },
   "outputs": [],
   "source": [
    "for name_i in Fermi_AGN_z_lt0dot1[Fermi_AGN_z_lt0dot1.columns[0]]:\n",
    "    #url_source=root_obj_url+i+'.html'\n",
    "    #print(url_source)\n",
    "    #print(i)\n",
    "    source_Name_i=name_i.strip()\n",
    "    \n",
    "    if source_Name_i.startswith('PKS') or source_Name_i.startswith('1ES') or source_Name_i.startswith('1H'):\n",
    "        source_Name_i_Rband=source_Name_i.replace(' ','')\n",
    "    \n",
    "    else:\n",
    "        source_Name_i_Rband=source_Name_i\n",
    "        \n",
    "    source_name_i=Source_name_dict[source_Name_i]\n",
    "    #source_name=Source_name_dict[source_Name]  \n",
    "    #Rband_num=0 \n",
    "    pol_path_fig=os.path.join(root_dir,source_name_i+'_Rphot_lc.png')\n",
    "    \n",
    "    fig = plt.figure(figsize=(12,8))\n",
    "    fig.subplots_adjust(hspace=0.0, wspace = 0.0)\n",
    "    ax = fig.add_subplot(111) \n",
    "    \n",
    "    for i in range(10):\n",
    "        Rphot=pd.read_excel(os.path.join(Rphot_dir,'Rphot_Cycle%d.xlsx'%(i+1)))\n",
    "        Rphot_name= Rphot[Rphot['Object']==source_Name_i_Rband]   \n",
    "        \n",
    "        ax.errorbar(x=Rphot_name['JD']- 2400000.5,\n",
    "                    y=Rphot_name['R'],\n",
    "                    yerr=Rphot_name['σ(R)'],\n",
    "                    color='red',marker='o',label='R')\n",
    "\n",
    "    set_ax_tick(ax)\n",
    "    plot_secax(ax,mi_interval=365,ma_interval=365*2)\n",
    "    \n",
    "    bottom, top = ax.set_ylim() \n",
    "    if bottom< top:\n",
    "        ax.set_ylim(top,bottom)\n",
    "        \n",
    "    #ax.set_xlabel('Type')\n",
    "    #ax2.set_xlabel('Type')\n",
    "    ax.set_xlabel(r'MJD(Day)')\n",
    "    ax.set_ylabel(r'R (mag)')\n",
    "\n",
    "    ax.set_title(source_Name_i)\n",
    "\n",
    "    ax.xaxis.set_tick_params(which='major', size=10, width=2, rotation=45,)\n",
    "    handles, labels = ax.get_legend_handles_labels()\n",
    "    # remove the errorbars\n",
    "    #hdl = [h[0] for h in handles]\n",
    "    hdl = handles\n",
    "    labels_dict=dict(zip(labels, hdl)) #key,values\n",
    "    by_label=OrderedDict(sorted(labels_dict.items(),key=lambda t:t[0]))\n",
    "\n",
    "    ax.legend(by_label.values(), by_label.keys(), bbox_to_anchor=(0.01, 0.99),\n",
    "          loc=2, numpoints=1,ncol=1,fontsize=11.)\n",
    "\n",
    "    # use them in the legend\n",
    "    #by_label = OrderedDict(zip(labels, handles)) \n",
    "    #ax.legend(by_label.values(), by_label.keys(), bbox_to_anchor=(0.0, 0.9),loc=2, numpoints=1, fontsize=11. )\n",
    "    #ax.semilogy()\n",
    "    #ax.semilogx()\n",
    "    #ax.set_xlim(0.0,0.6)\n",
    "    #plt.legend()\n",
    "    #spec_path_fig\n",
    "    fig.savefig(pol_path_fig, dpi=400, transparent=False, bbox_inches='tight')        \n",
    "        "
   ]
  },
  {
   "cell_type": "code",
   "execution_count": null,
   "metadata": {
    "ExecuteTime": {
     "end_time": "2022-07-18T09:22:52.268116Z",
     "start_time": "2022-07-18T09:22:23.643482Z"
    }
   },
   "outputs": [],
   "source": [
    "#for name_i in Fermi_AGN_z_lt0dot1[Fermi_AGN_z_lt0dot1.columns[0]]:\n",
    "for name_i in Fermi_3C_sources:\n",
    "    #url_source=root_obj_url+i+'.html'\n",
    "    #print(url_source)\n",
    "    #print(i)\n",
    "    source_Name_i=name_i.strip()\n",
    "    \n",
    "    if source_Name_i.startswith('PKS') or source_Name_i.startswith('1ES') or source_Name_i.startswith('1H'):\n",
    "        source_Name_i_Rband=source_Name_i.replace(' ','')\n",
    "    \n",
    "    else:\n",
    "        source_Name_i_Rband=source_Name_i\n",
    "        \n",
    "    source_name_i=Source_name_dict[source_Name_i]\n",
    "    #source_name=Source_name_dict[source_Name]  \n",
    "    #Rband_num=0 \n",
    "    pol_path_fig=os.path.join(root_dir,source_name_i+'_Rphot_lc.png')\n",
    "    \n",
    "    fig = plt.figure(figsize=(12,8))\n",
    "    fig.subplots_adjust(hspace=0.0, wspace = 0.0)\n",
    "    ax = fig.add_subplot(111) \n",
    "    \n",
    "    for i in range(10):\n",
    "        Rphot=pd.read_excel(os.path.join(Rphot_dir,'Rphot_Cycle%d.xlsx'%(i+1)))\n",
    "        Rphot_name= Rphot[Rphot['Object']==source_Name_i_Rband]   \n",
    "        \n",
    "        ax.errorbar(x=Rphot_name['JD']- 2400000.5,\n",
    "                    y=Rphot_name['R'],\n",
    "                    yerr=Rphot_name['σ(R)'],\n",
    "                    color='red',marker='o',label='R')\n",
    "\n",
    "    set_ax_tick(ax)\n",
    "    plot_secax(ax,mi_interval=365,ma_interval=365*2)\n",
    "    \n",
    "    bottom, top = ax.set_ylim() \n",
    "    if bottom< top:\n",
    "        ax.set_ylim(top,bottom)\n",
    "        \n",
    "    #ax.set_xlabel('Type')\n",
    "    #ax2.set_xlabel('Type')\n",
    "    ax.set_xlabel(r'MJD(Day)')\n",
    "    ax.set_ylabel(r'R (mag)')\n",
    "\n",
    "    ax.set_title(source_Name_i)\n",
    "\n",
    "    ax.xaxis.set_tick_params(which='major', size=10, width=2, rotation=45,)\n",
    "    handles, labels = ax.get_legend_handles_labels()\n",
    "    # remove the errorbars\n",
    "    #hdl = [h[0] for h in handles]\n",
    "    hdl = handles\n",
    "    labels_dict=dict(zip(labels, hdl)) #key,values\n",
    "    by_label=OrderedDict(sorted(labels_dict.items(),key=lambda t:t[0]))\n",
    "\n",
    "    ax.legend(by_label.values(), by_label.keys(), bbox_to_anchor=(0.01, 0.99),\n",
    "          loc=2, numpoints=1,ncol=1,fontsize=11.)\n",
    "\n",
    "    # use them in the legend\n",
    "    #by_label = OrderedDict(zip(labels, handles)) \n",
    "    #ax.legend(by_label.values(), by_label.keys(), bbox_to_anchor=(0.0, 0.9),loc=2, numpoints=1, fontsize=11. )\n",
    "    #ax.semilogy()\n",
    "    #ax.semilogx()\n",
    "    #ax.set_xlim(0.0,0.6)\n",
    "    #plt.legend()\n",
    "    #spec_path_fig\n",
    "    fig.savefig(pol_path_fig, dpi=400, transparent=False, bbox_inches='tight')        \n",
    "        "
   ]
  },
  {
   "cell_type": "markdown",
   "metadata": {},
   "source": [
    "### Sources_select=['PKS 1510-08']"
   ]
  },
  {
   "cell_type": "code",
   "execution_count": null,
   "metadata": {
    "ExecuteTime": {
     "end_time": "2022-08-24T03:55:44.647786Z",
     "start_time": "2022-08-24T03:55:42.144163Z"
    }
   },
   "outputs": [],
   "source": [
    "#for name_i in Fermi_AGN_z_lt0dot1[Fermi_AGN_z_lt0dot1.columns[0]]:\n",
    "for name_i in Sources_select:\n",
    "    #url_source=root_obj_url+i+'.html'\n",
    "    #print(url_source)\n",
    "    #print(i)\n",
    "    source_Name_i=name_i.strip()\n",
    "    \n",
    "    if source_Name_i.startswith('PKS') or source_Name_i.startswith('1ES') or source_Name_i.startswith('1H'):\n",
    "        source_Name_i_Rband=source_Name_i.replace(' ','')\n",
    "    \n",
    "    else:\n",
    "        source_Name_i_Rband=source_Name_i\n",
    "        \n",
    "    source_name_i=Source_name_dict[source_Name_i]\n",
    "    #source_name=Source_name_dict[source_Name]  \n",
    "    #Rband_num=0 \n",
    "    pol_path_fig=os.path.join(root_dir,source_name_i+'_Rphot_lc.png')\n",
    "    \n",
    "    fig = plt.figure(figsize=(12,8))\n",
    "    fig.subplots_adjust(hspace=0.0, wspace = 0.0)\n",
    "    ax = fig.add_subplot(111) \n",
    "    \n",
    "    for i in range(10):\n",
    "        Rphot=pd.read_excel(os.path.join(Rphot_dir,'Rphot_Cycle%d.xlsx'%(i+1)))\n",
    "        Rphot_name= Rphot[Rphot['Object']==source_Name_i_Rband]   \n",
    "        \n",
    "        ax.errorbar(x=Rphot_name['JD']- 2400000.5,\n",
    "                    y=Rphot_name['R'],\n",
    "                    yerr=Rphot_name['σ(R)'],\n",
    "                    color='red',marker='o',label='R')\n",
    "\n",
    "    set_ax_tick(ax)\n",
    "    plot_secax(ax,mi_interval=365,ma_interval=365*2)\n",
    "    \n",
    "    bottom, top = ax.set_ylim() \n",
    "    if bottom< top:\n",
    "        ax.set_ylim(top,bottom)\n",
    "        \n",
    "    #ax.set_xlabel('Type')\n",
    "    #ax2.set_xlabel('Type')\n",
    "    ax.set_xlabel(r'MJD(Day)')\n",
    "    ax.set_ylabel(r'R (mag)')\n",
    "\n",
    "    ax.set_title(source_Name_i)\n",
    "\n",
    "    ax.xaxis.set_tick_params(which='major', size=10, width=2, rotation=45,)\n",
    "    handles, labels = ax.get_legend_handles_labels()\n",
    "    # remove the errorbars\n",
    "    #hdl = [h[0] for h in handles]\n",
    "    hdl = handles\n",
    "    labels_dict=dict(zip(labels, hdl)) #key,values\n",
    "    by_label=OrderedDict(sorted(labels_dict.items(),key=lambda t:t[0]))\n",
    "\n",
    "    ax.legend(by_label.values(), by_label.keys(), bbox_to_anchor=(0.01, 0.99),\n",
    "          loc=2, numpoints=1,ncol=1,fontsize=11.)\n",
    "\n",
    "    # use them in the legend\n",
    "    #by_label = OrderedDict(zip(labels, handles)) \n",
    "    #ax.legend(by_label.values(), by_label.keys(), bbox_to_anchor=(0.0, 0.9),loc=2, numpoints=1, fontsize=11. )\n",
    "    #ax.semilogy()\n",
    "    #ax.semilogx()\n",
    "    #ax.set_xlim(0.0,0.6)\n",
    "    #plt.legend()\n",
    "    #spec_path_fig\n",
    "    fig.savefig(pol_path_fig, dpi=400, transparent=False, bbox_inches='tight')        \n",
    "        "
   ]
  },
  {
   "cell_type": "markdown",
   "metadata": {},
   "source": [
    "## poloarization"
   ]
  },
  {
   "cell_type": "code",
   "execution_count": null,
   "metadata": {
    "ExecuteTime": {
     "end_time": "2022-08-24T05:25:05.711589Z",
     "start_time": "2022-08-24T05:25:05.677732Z"
    }
   },
   "outputs": [],
   "source": [
    "source_name_i='pks1510'\n",
    "prefix=''\n",
    "Poldata=pd.read_excel(os.path.join(root_data_dir,source_name_i,'%s_pol'%source_name_i+prefix+'.xlsx'))\n",
    "print(Poldata.columns[3],Poldata.columns[9],Poldata.columns[10])"
   ]
  },
  {
   "cell_type": "markdown",
   "metadata": {
    "ExecuteTime": {
     "end_time": "2022-08-24T02:41:51.587742Z",
     "start_time": "2022-08-24T02:41:51.562592Z"
    }
   },
   "source": [
    "Poldata[[Poldata.columns[3],Poldata.columns[9],Poldata.columns[10]]]"
   ]
  },
  {
   "cell_type": "code",
   "execution_count": null,
   "metadata": {
    "ExecuteTime": {
     "end_time": "2022-08-24T05:25:08.791724Z",
     "start_time": "2022-08-24T05:25:08.778257Z"
    }
   },
   "outputs": [],
   "source": [
    "Poldata.columns"
   ]
  },
  {
   "cell_type": "code",
   "execution_count": null,
   "metadata": {},
   "outputs": [],
   "source": []
  },
  {
   "cell_type": "code",
   "execution_count": null,
   "metadata": {},
   "outputs": [],
   "source": []
  },
  {
   "cell_type": "code",
   "execution_count": null,
   "metadata": {
    "ExecuteTime": {
     "end_time": "2022-08-24T02:32:09.878037Z",
     "start_time": "2022-08-24T02:32:09.867483Z"
    }
   },
   "outputs": [],
   "source": [
    "Fermi_3C_sources"
   ]
  },
  {
   "cell_type": "code",
   "execution_count": null,
   "metadata": {
    "ExecuteTime": {
     "end_time": "2022-07-18T03:44:34.442799Z",
     "start_time": "2022-07-18T03:44:14.761399Z"
    }
   },
   "outputs": [],
   "source": [
    "#for name_i in Fermi_AGN_z_lt0dot1[Fermi_AGN_z_lt0dot1.columns[0]]:\n",
    "for name_i in Fermi_3C_sources:\n",
    "    #url_source=root_obj_url+i+'.html'\n",
    "    #print(url_source)\n",
    "    #print(i)\n",
    "    source_Name_i=name_i.strip()\n",
    "    \n",
    "    if source_Name_i.startswith('PKS') or source_Name_i.startswith('1ES') or source_Name_i.startswith('1H'):\n",
    "        source_Name_i_Rband=source_Name_i.replace(' ','')\n",
    "    \n",
    "    else:\n",
    "        source_Name_i_Rband=source_Name_i\n",
    "        \n",
    "    source_name_i=Source_name_dict[source_Name_i]\n",
    "    #source_name=Source_name_dict[source_Name]  \n",
    "    \n",
    "    pol_path_fig=os.path.join(root_dir,source_name_i+'_pol_lc.png')\n",
    "    \n",
    "    fig = plt.figure(figsize=(12,8))\n",
    "    fig.subplots_adjust(hspace=0.0, wspace = 0.0)\n",
    "    ax = fig.add_subplot(111)    \n",
    "    \n",
    "    for i in range(10):\n",
    "        if i==0:\n",
    "            prefix=''\n",
    "        else:\n",
    "            prefix='_%d'%(i+1)\n",
    "        \n",
    "        Polpath=os.path.join(root_data_dir,source_name_i,'%s_pol'%source_name_i+prefix+'.xlsx')\n",
    "        if os.path.exists(Polpath):\n",
    "            Poldata=pd.read_excel(Polpath)              \n",
    "            ax.errorbar(x=Poldata['JD']- 2400000.5,\n",
    "                    #y=Poldata['P (%)'],\n",
    "                    #yerr=Poldata['σ(P) (%)'],\n",
    "                    y=Poldata[Poldata.columns[9]],\n",
    "                    yerr=Poldata[Poldata.columns[10]],    \n",
    "                    color='red',marker='o',label='P (%)')\n",
    "\n",
    "    set_ax_tick(ax)\n",
    "    plot_secax(ax,mi_interval=365,ma_interval=365*2)\n",
    "    #ax.set_xlabel('Type')\n",
    "    #ax2.set_xlabel('Type')\n",
    "    ax.set_xlabel(r'MJD(Day)')\n",
    "    ax.set_ylabel(r'polarization degree')\n",
    "\n",
    "    ax.set_title(source_Name_i)\n",
    "\n",
    "    ax.xaxis.set_tick_params(which='major', size=10, width=2, rotation=45,)\n",
    "    handles, labels = ax.get_legend_handles_labels()\n",
    "    # remove the errorbars\n",
    "    #hdl = [h[0] for h in handles]\n",
    "    hdl = handles\n",
    "    labels_dict=dict(zip(labels, hdl)) #key,values\n",
    "    by_label=OrderedDict(sorted(labels_dict.items(),key=lambda t:t[0]))\n",
    "\n",
    "    ax.legend(by_label.values(), by_label.keys(), bbox_to_anchor=(0.01, 0.99),\n",
    "          loc=2, numpoints=1,ncol=1,fontsize=11.)\n",
    "\n",
    "    # use them in the legend\n",
    "    #by_label = OrderedDict(zip(labels, handles)) \n",
    "    #ax.legend(by_label.values(), by_label.keys(), bbox_to_anchor=(0.0, 0.9),loc=2, numpoints=1, fontsize=11. )\n",
    "    #ax.semilogy()\n",
    "    #ax.semilogx()\n",
    "    #ax.set_xlim(0.0,0.6)\n",
    "    #plt.legend()\n",
    "    #spec_path_fig\n",
    "    ax.set_xlim(54800,57200)\n",
    "    fig.savefig(pol_path_fig, dpi=400, transparent=False, bbox_inches='tight')\n",
    "        #fig.savefig('tansmission_curve_V_R.png', dpi=400, transparent=False, bbox_inches='tight')\n"
   ]
  },
  {
   "cell_type": "markdown",
   "metadata": {},
   "source": [
    "### PKS 1510-08"
   ]
  },
  {
   "cell_type": "code",
   "execution_count": null,
   "metadata": {
    "ExecuteTime": {
     "end_time": "2022-08-24T02:34:14.815021Z",
     "start_time": "2022-08-24T02:34:14.807926Z"
    }
   },
   "outputs": [],
   "source": [
    "Sources_select=['PKS 1510-08']"
   ]
  },
  {
   "cell_type": "code",
   "execution_count": null,
   "metadata": {
    "ExecuteTime": {
     "end_time": "2022-08-24T02:38:17.323088Z",
     "start_time": "2022-08-24T02:38:15.653967Z"
    }
   },
   "outputs": [],
   "source": [
    "#for name_i in Fermi_AGN_z_lt0dot1[Fermi_AGN_z_lt0dot1.columns[0]]:\n",
    "for name_i in Sources_select:\n",
    "    #url_source=root_obj_url+i+'.html'\n",
    "    #print(url_source)\n",
    "    #print(i)\n",
    "    source_Name_i=name_i.strip()\n",
    "    \n",
    "    if source_Name_i.startswith('PKS') or source_Name_i.startswith('1ES') or source_Name_i.startswith('1H'):\n",
    "        source_Name_i_Rband=source_Name_i.replace(' ','')\n",
    "    \n",
    "    else:\n",
    "        source_Name_i_Rband=source_Name_i\n",
    "        \n",
    "    source_name_i=Source_name_dict[source_Name_i]\n",
    "    #source_name=Source_name_dict[source_Name]  \n",
    "    \n",
    "    pol_path_fig=os.path.join(root_dir,source_name_i+'_pol_lc.png')\n",
    "    \n",
    "    fig = plt.figure(figsize=(12,8))\n",
    "    fig.subplots_adjust(hspace=0.0, wspace = 0.0)\n",
    "    ax = fig.add_subplot(111)    \n",
    "    \n",
    "    for i in range(10):\n",
    "        if i==0:\n",
    "            prefix=''\n",
    "        else:\n",
    "            prefix='_%d'%(i+1)\n",
    "        \n",
    "        Polpath=os.path.join(root_data_dir,source_name_i,'%s_pol'%source_name_i+prefix+'.xlsx')\n",
    "        if os.path.exists(Polpath):\n",
    "            Poldata=pd.read_excel(Polpath)              \n",
    "            ax.errorbar(x=Poldata['JD']- 2400000.5,\n",
    "                    #y=Poldata['P (%)'],\n",
    "                    #yerr=Poldata['σ(P) (%)'],\n",
    "                    y=Poldata[Poldata.columns[9]],\n",
    "                    yerr=Poldata[Poldata.columns[10]],    \n",
    "                    color='red',marker='o',label='P (%)')\n",
    "\n",
    "    set_ax_tick(ax)\n",
    "    plot_secax(ax,mi_interval=365,ma_interval=365*2)\n",
    "    #ax.set_xlabel('Type')\n",
    "    #ax2.set_xlabel('Type')\n",
    "    ax.set_xlabel(r'MJD(Day)')\n",
    "    ax.set_ylabel(r'polarization degree')\n",
    "\n",
    "    ax.set_title(source_Name_i)\n",
    "\n",
    "    ax.xaxis.set_tick_params(which='major', size=10, width=2, rotation=45,)\n",
    "    handles, labels = ax.get_legend_handles_labels()\n",
    "    # remove the errorbars\n",
    "    #hdl = [h[0] for h in handles]\n",
    "    hdl = handles\n",
    "    labels_dict=dict(zip(labels, hdl)) #key,values\n",
    "    by_label=OrderedDict(sorted(labels_dict.items(),key=lambda t:t[0]))\n",
    "\n",
    "    ax.legend(by_label.values(), by_label.keys(), bbox_to_anchor=(0.01, 0.99),\n",
    "          loc=2, numpoints=1,ncol=1,fontsize=11.)\n",
    "\n",
    "    # use them in the legend\n",
    "    #by_label = OrderedDict(zip(labels, handles)) \n",
    "    #ax.legend(by_label.values(), by_label.keys(), bbox_to_anchor=(0.0, 0.9),loc=2, numpoints=1, fontsize=11. )\n",
    "    #ax.semilogy()\n",
    "    #ax.semilogx()\n",
    "    #ax.set_xlim(0.0,0.6)\n",
    "    #plt.legend()\n",
    "    #spec_path_fig\n",
    "    #ax.set_xlim(54800,57200)\n",
    "    fig.savefig(pol_path_fig, dpi=400, transparent=False, bbox_inches='tight')\n",
    "        #fig.savefig('tansmission_curve_V_R.png', dpi=400, transparent=False, bbox_inches='tight')\n"
   ]
  },
  {
   "cell_type": "code",
   "execution_count": null,
   "metadata": {},
   "outputs": [],
   "source": []
  },
  {
   "cell_type": "code",
   "execution_count": null,
   "metadata": {},
   "outputs": [],
   "source": []
  },
  {
   "cell_type": "markdown",
   "metadata": {},
   "source": [
    "## Vphot"
   ]
  },
  {
   "cell_type": "code",
   "execution_count": null,
   "metadata": {
    "ExecuteTime": {
     "end_time": "2022-07-13T08:26:50.239006Z",
     "start_time": "2022-07-13T08:26:24.573141Z"
    }
   },
   "outputs": [],
   "source": [
    "for name_i in Fermi_AGN_z_lt0dot1[Fermi_AGN_z_lt0dot1.columns[0]]:\n",
    "    #url_source=root_obj_url+i+'.html'\n",
    "    #print(url_source)\n",
    "    #print(i)\n",
    "    source_Name_i=name_i.strip()\n",
    "    \n",
    "    if source_Name_i.startswith('PKS') or source_Name_i.startswith('1ES') or source_Name_i.startswith('1H'):\n",
    "        source_Name_i_Rband=source_Name_i.replace(' ','')\n",
    "    \n",
    "    else:\n",
    "        source_Name_i_Rband=source_Name_i\n",
    "        \n",
    "    source_name_i=Source_name_dict[source_Name_i]\n",
    "    #source_name=Source_name_dict[source_Name]  \n",
    "    \n",
    "    pol_path_fig=os.path.join(root_dir,source_name_i+'_Vphot_lc.png')\n",
    "    \n",
    "    fig = plt.figure(figsize=(12,8))\n",
    "    fig.subplots_adjust(hspace=0.0, wspace = 0.0)\n",
    "    ax = fig.add_subplot(111)    \n",
    "    \n",
    "    for i in range(10):\n",
    "        if i==0:\n",
    "            prefix=''\n",
    "        else:\n",
    "            prefix='_%d'%(i+1)\n",
    "        \n",
    "        Polpath=os.path.join(root_data_dir,source_name_i,'%s_phot'%source_name_i+prefix+'.xlsx')\n",
    "        if os.path.exists(Polpath):\n",
    "            Poldata=pd.read_excel(Polpath)        \n",
    "            ax.errorbar(x=Poldata['JD']- 2400000.5,\n",
    "                    y=Poldata['V'],\n",
    "                    yerr=Poldata['σ(V)'],\n",
    "                    color='red',marker='o',label='V')\n",
    "\n",
    "    set_ax_tick(ax)\n",
    "    plot_secax(ax,mi_interval=365,ma_interval=365*2)\n",
    "    \n",
    "    bottom, top = ax.set_ylim() \n",
    "    if bottom< top:\n",
    "        ax.set_ylim(top,bottom)\n",
    "        \n",
    "    #ax.set_xlabel('Type')\n",
    "    #ax2.set_xlabel('Type')\n",
    "    ax.set_xlabel(r'MJD(Day)')\n",
    "    ax.set_ylabel(r'V (mag)')\n",
    "\n",
    "    ax.set_title(source_Name_i)\n",
    "\n",
    "    ax.xaxis.set_tick_params(which='major', size=10, width=2, rotation=45,)\n",
    "    handles, labels = ax.get_legend_handles_labels()\n",
    "    # remove the errorbars\n",
    "    #hdl = [h[0] for h in handles]\n",
    "    hdl = handles\n",
    "    labels_dict=dict(zip(labels, hdl)) #key,values\n",
    "    by_label=OrderedDict(sorted(labels_dict.items(),key=lambda t:t[0]))\n",
    "\n",
    "    ax.legend(by_label.values(), by_label.keys(), bbox_to_anchor=(0.01, 0.99),\n",
    "          loc=2, numpoints=1,ncol=1,fontsize=11.)\n",
    "\n",
    "    # use them in the legend\n",
    "    #by_label = OrderedDict(zip(labels, handles)) \n",
    "    #ax.legend(by_label.values(), by_label.keys(), bbox_to_anchor=(0.0, 0.9),loc=2, numpoints=1, fontsize=11. )\n",
    "    #ax.semilogy()\n",
    "    #ax.semilogx()\n",
    "    #ax.set_xlim(0.0,0.6)\n",
    "    #plt.legend()\n",
    "    #spec_path_fig\n",
    "    fig.savefig(pol_path_fig, dpi=400, transparent=False, bbox_inches='tight')\n",
    "        #fig.savefig('tansmission_curve_V_R.png', dpi=400, transparent=False, bbox_inches='tight')\n"
   ]
  },
  {
   "cell_type": "code",
   "execution_count": null,
   "metadata": {
    "ExecuteTime": {
     "end_time": "2022-07-18T09:26:31.868928Z",
     "start_time": "2022-07-18T09:26:10.587585Z"
    }
   },
   "outputs": [],
   "source": [
    "#for name_i in Fermi_AGN_z_lt0dot1[Fermi_AGN_z_lt0dot1.columns[0]]:\n",
    "for name_i in Fermi_3C_sources:    \n",
    "    #url_source=root_obj_url+i+'.html'\n",
    "    #print(url_source)\n",
    "    #print(i)\n",
    "    source_Name_i=name_i.strip()\n",
    "    \n",
    "    if source_Name_i.startswith('PKS') or source_Name_i.startswith('1ES') or source_Name_i.startswith('1H'):\n",
    "        source_Name_i_Rband=source_Name_i.replace(' ','')\n",
    "    \n",
    "    else:\n",
    "        source_Name_i_Rband=source_Name_i\n",
    "        \n",
    "    source_name_i=Source_name_dict[source_Name_i]\n",
    "    #source_name=Source_name_dict[source_Name]  \n",
    "    \n",
    "    pol_path_fig=os.path.join(root_dir,source_name_i+'_Vphot_lc.png')\n",
    "    \n",
    "    fig = plt.figure(figsize=(12,8))\n",
    "    fig.subplots_adjust(hspace=0.0, wspace = 0.0)\n",
    "    ax = fig.add_subplot(111)    \n",
    "    \n",
    "    for i in range(10):\n",
    "        if i==0:\n",
    "            prefix=''\n",
    "        else:\n",
    "            prefix='_%d'%(i+1)\n",
    "        \n",
    "        Polpath=os.path.join(root_data_dir,source_name_i,'%s_phot'%source_name_i+prefix+'.xlsx')\n",
    "        if os.path.exists(Polpath):\n",
    "            Poldata=pd.read_excel(Polpath)        \n",
    "            ax.errorbar(x=Poldata['JD']- 2400000.5,\n",
    "                    #y=Poldata['V'],\n",
    "                    #yerr=Poldata['σ(V)'],\n",
    "                        y=Poldata[Poldata.columns[7]],\n",
    "                        yerr=Poldata[Poldata.columns[8]],\n",
    "                        \n",
    "                        \n",
    "                    color='red',marker='o',label='V')\n",
    "\n",
    "    set_ax_tick(ax)\n",
    "    plot_secax(ax,mi_interval=365,ma_interval=365*2)\n",
    "    \n",
    "    bottom, top = ax.set_ylim() \n",
    "    if bottom< top:\n",
    "        ax.set_ylim(top,bottom)\n",
    "        \n",
    "    #ax.set_xlabel('Type')\n",
    "    #ax2.set_xlabel('Type')\n",
    "    ax.set_xlabel(r'MJD(Day)')\n",
    "    ax.set_ylabel(r'V (mag)')\n",
    "\n",
    "    ax.set_title(source_Name_i)\n",
    "\n",
    "    ax.xaxis.set_tick_params(which='major', size=10, width=2, rotation=45,)\n",
    "    handles, labels = ax.get_legend_handles_labels()\n",
    "    # remove the errorbars\n",
    "    #hdl = [h[0] for h in handles]\n",
    "    hdl = handles\n",
    "    labels_dict=dict(zip(labels, hdl)) #key,values\n",
    "    by_label=OrderedDict(sorted(labels_dict.items(),key=lambda t:t[0]))\n",
    "\n",
    "    ax.legend(by_label.values(), by_label.keys(), bbox_to_anchor=(0.01, 0.99),\n",
    "          loc=2, numpoints=1,ncol=1,fontsize=11.)\n",
    "\n",
    "    # use them in the legend\n",
    "    #by_label = OrderedDict(zip(labels, handles)) \n",
    "    #ax.legend(by_label.values(), by_label.keys(), bbox_to_anchor=(0.0, 0.9),loc=2, numpoints=1, fontsize=11. )\n",
    "    #ax.semilogy()\n",
    "    #ax.semilogx()\n",
    "    #ax.set_xlim(0.0,0.6)\n",
    "    #plt.legend()\n",
    "    #spec_path_fig\n",
    "    fig.savefig(pol_path_fig, dpi=400, transparent=False, bbox_inches='tight')\n",
    "        #fig.savefig('tansmission_curve_V_R.png', dpi=400, transparent=False, bbox_inches='tight')\n"
   ]
  },
  {
   "cell_type": "markdown",
   "metadata": {},
   "source": [
    "### Sources_select=['PKS 1510-08']"
   ]
  },
  {
   "cell_type": "code",
   "execution_count": null,
   "metadata": {
    "ExecuteTime": {
     "end_time": "2022-08-24T03:02:58.767482Z",
     "start_time": "2022-08-24T03:02:57.132752Z"
    }
   },
   "outputs": [],
   "source": [
    "#for name_i in Fermi_AGN_z_lt0dot1[Fermi_AGN_z_lt0dot1.columns[0]]:\n",
    "for name_i in Sources_select:    \n",
    "    #url_source=root_obj_url+i+'.html'\n",
    "    #print(url_source)\n",
    "    #print(i)\n",
    "    source_Name_i=name_i.strip()\n",
    "    \n",
    "    if source_Name_i.startswith('PKS') or source_Name_i.startswith('1ES') or source_Name_i.startswith('1H'):\n",
    "        source_Name_i_Rband=source_Name_i.replace(' ','')\n",
    "    \n",
    "    else:\n",
    "        source_Name_i_Rband=source_Name_i\n",
    "        \n",
    "    source_name_i=Source_name_dict[source_Name_i]\n",
    "    #source_name=Source_name_dict[source_Name]  \n",
    "    \n",
    "    pol_path_fig=os.path.join(root_dir,source_name_i+'_Vphot_lc.png')\n",
    "    \n",
    "    fig = plt.figure(figsize=(12,8))\n",
    "    fig.subplots_adjust(hspace=0.0, wspace = 0.0)\n",
    "    ax = fig.add_subplot(111)    \n",
    "    \n",
    "    for i in range(10):\n",
    "        if i==0:\n",
    "            prefix=''\n",
    "        else:\n",
    "            prefix='_%d'%(i+1)\n",
    "        \n",
    "        Polpath=os.path.join(root_data_dir,source_name_i,'%s_phot'%source_name_i+prefix+'.xlsx')\n",
    "        if os.path.exists(Polpath):\n",
    "            Poldata=pd.read_excel(Polpath)        \n",
    "            ax.errorbar(x=Poldata['JD']- 2400000.5,\n",
    "                    #y=Poldata['V'],\n",
    "                    #yerr=Poldata['σ(V)'],\n",
    "                    y=Poldata[Poldata.columns[7]],\n",
    "                    yerr=Poldata[Poldata.columns[8]],                      \n",
    "                    color='red',marker='o',label='V')\n",
    "\n",
    "    set_ax_tick(ax)\n",
    "    plot_secax(ax,mi_interval=365,ma_interval=365*2)\n",
    "    \n",
    "    bottom, top = ax.set_ylim() \n",
    "    if bottom< top:\n",
    "        ax.set_ylim(top,bottom)\n",
    "        \n",
    "    #ax.set_xlabel('Type')\n",
    "    #ax2.set_xlabel('Type')\n",
    "    ax.set_xlabel(r'MJD(Day)')\n",
    "    ax.set_ylabel(r'V (mag)')\n",
    "\n",
    "    ax.set_title(source_Name_i)\n",
    "\n",
    "    ax.xaxis.set_tick_params(which='major', size=10, width=2, rotation=45,)\n",
    "    handles, labels = ax.get_legend_handles_labels()\n",
    "    # remove the errorbars\n",
    "    #hdl = [h[0] for h in handles]\n",
    "    hdl = handles\n",
    "    labels_dict=dict(zip(labels, hdl)) #key,values\n",
    "    by_label=OrderedDict(sorted(labels_dict.items(),key=lambda t:t[0]))\n",
    "\n",
    "    ax.legend(by_label.values(), by_label.keys(), bbox_to_anchor=(0.01, 0.99),\n",
    "          loc=2, numpoints=1,ncol=1,fontsize=11.)\n",
    "\n",
    "    # use them in the legend\n",
    "    #by_label = OrderedDict(zip(labels, handles)) \n",
    "    #ax.legend(by_label.values(), by_label.keys(), bbox_to_anchor=(0.0, 0.9),loc=2, numpoints=1, fontsize=11. )\n",
    "    #ax.semilogy()\n",
    "    #ax.semilogx()\n",
    "    #ax.set_xlim(0.0,0.6)\n",
    "    #plt.legend()\n",
    "    #spec_path_fig\n",
    "    fig.savefig(pol_path_fig, dpi=400, transparent=False, bbox_inches='tight')\n",
    "        #fig.savefig('tansmission_curve_V_R.png', dpi=400, transparent=False, bbox_inches='tight')\n"
   ]
  },
  {
   "cell_type": "code",
   "execution_count": null,
   "metadata": {},
   "outputs": [],
   "source": []
  },
  {
   "cell_type": "markdown",
   "metadata": {},
   "source": [
    "## spec"
   ]
  },
  {
   "cell_type": "markdown",
   "metadata": {},
   "source": [
    "The spectra span the range of 4000-7550 Å with a dispersion 4 Å/pixel. Depending on the width of the slit used for the observation, the resolution is typically between 16-24 Å"
   ]
  },
  {
   "cell_type": "code",
   "execution_count": null,
   "metadata": {
    "ExecuteTime": {
     "end_time": "2022-07-13T06:55:22.407621Z",
     "start_time": "2022-07-13T06:55:22.403296Z"
    }
   },
   "outputs": [],
   "source": [
    "Fermi_AGN_list_name_redshift_T.columns"
   ]
  },
  {
   "cell_type": "code",
   "execution_count": null,
   "metadata": {
    "ExecuteTime": {
     "end_time": "2022-07-13T06:55:27.135783Z",
     "start_time": "2022-07-13T06:55:27.131571Z"
    }
   },
   "outputs": [],
   "source": [
    "Fermi_AGN_list_name_redshift_T.iloc[0][0]"
   ]
  },
  {
   "cell_type": "markdown",
   "metadata": {},
   "source": [
    "### pks1510"
   ]
  },
  {
   "cell_type": "code",
   "execution_count": null,
   "metadata": {
    "ExecuteTime": {
     "end_time": "2022-08-24T02:57:15.821912Z",
     "start_time": "2022-08-24T02:57:15.699992Z"
    }
   },
   "outputs": [],
   "source": [
    "#source_name='pks1510'\n",
    "source_Name='PKS 1510-08'\n",
    "#source_Name=Source_Name_dict[source_name]\n",
    "source_name=Source_name_dict[source_Name]\n",
    "\n",
    "\n",
    "source_z=Fermi_AGN_list_name_redshift_T[Fermi_AGN_list_name_redshift_T['      Input Object Name       '].str.strip()==source_Name]['z_value']\n",
    "datatypes=['phot','pol']\n",
    "\n",
    "print(source_name,source_Name,source_z.values[0])\n",
    "\n",
    "spec_path=os.path.join(root_data_dir,source_name,source_name,'pks1510.fc.spec_081229.fits')\n",
    "spec_path_fig=spec_path+'.png'\n",
    "\n",
    "date_spec_path=spec_path.split('.')[-2]\n",
    "spec_hdul=fits.open(spec_path)\n",
    "print(len(spec_hdul[0].data))\n",
    "\n",
    "\n",
    "fig = plt.figure(figsize=(6,4))\n",
    "fig.subplots_adjust(hspace=0.0, wspace = 0.0)\n",
    "ax = fig.add_subplot(111)\n",
    "\n",
    "\n",
    "lambda_spec=np.linspace(4000,7550,len(spec_hdul[0].data))\n",
    "\n",
    "ax.plot(lambda_spec/(1+source_z.values[0]),spec_hdul[0].data,color='red',marker='o',label=date_spec_path)\n",
    "#ax.plot(Fermi_monitir_lambdas,Fermi_monitor_AGN_R[0].data,color='blue',marker='o',label='R')\n",
    "\n",
    "#set_ax_locator(ax,xma=0.2,xmi=0.1,yma=10,ymi=5)\n",
    "set_ax_tick(ax)\n",
    "\n",
    "#ax.set_xlabel('Type')\n",
    "#ax2.set_xlabel('Type')\n",
    "ax.set_xlabel(r'$\\lambda/(1+z)(\\AA)$')\n",
    "ax.set_ylabel(r'flux')\n",
    "\n",
    "ax.set_title(source_Name+' z=%.3e'%source_z.values[0])\n",
    "\n",
    "ax.xaxis.set_tick_params(which='major', size=10, width=2, rotation=45,)\n",
    "handles, labels = ax.get_legend_handles_labels()\n",
    "# remove the errorbars\n",
    "#hdl = [h[0] for h in handles]\n",
    "hdl = handles\n",
    "labels_dict=dict(zip(labels, hdl)) #key,values\n",
    "by_label=OrderedDict(sorted(labels_dict.items(),key=lambda t:t[0]))\n",
    "\n",
    "ax.legend(by_label.values(), by_label.keys(), bbox_to_anchor=(0.01, 0.99),\n",
    "          loc=2, numpoints=1,ncol=1,fontsize=11.)\n",
    "\n",
    "# use them in the legend\n",
    "#by_label = OrderedDict(zip(labels, handles)) \n",
    "#ax.legend(by_label.values(), by_label.keys(), bbox_to_anchor=(0.0, 0.9),loc=2, numpoints=1, fontsize=11. )\n",
    "\n",
    "\n",
    "#ax.semilogy()\n",
    "#ax.semilogx()\n",
    "\n",
    "#ax.set_xlim(5000,7400)\n",
    "#plt.legend()\n",
    "#spec_path_fig\n",
    "\n",
    "#fig.savefig(spec_path_fig, dpi=400, transparent=False, bbox_inches='tight')\n",
    "#fig.savefig('tansmission_curve_V_R.png', dpi=400, transparent=False, bbox_inches='tight')\n"
   ]
  },
  {
   "cell_type": "code",
   "execution_count": null,
   "metadata": {
    "ExecuteTime": {
     "end_time": "2022-08-24T02:55:55.242528Z",
     "start_time": "2022-08-24T02:55:55.121566Z"
    },
    "scrolled": false
   },
   "outputs": [],
   "source": [
    "#z_pks1510 = 0.361\n",
    "#source_name='pks1510'\n",
    "source_Name='PKS 1510-08'\n",
    "#source_Name=Source_Name_dict[source_name]\n",
    "source_name=Source_name_dict[source_Name]\n",
    "\n",
    "\n",
    "source_z=0.361\n",
    "datatypes=['phot','pol']\n",
    "\n",
    "print(source_name,source_Name,source_z)\n",
    "\n",
    "spec_path=os.path.join(root_data_dir,source_name,source_name,'pks1510.fc.spec_081229.fits')\n",
    "spec_path_fig=spec_path+'.png'\n",
    "\n",
    "date_spec_path=spec_path.split('.')[-2]\n",
    "spec_hdul=fits.open(spec_path)\n",
    "print(len(spec_hdul[0].data))\n",
    "\n",
    "\n",
    "\n",
    "fig = plt.figure(figsize=(6,4))\n",
    "fig.subplots_adjust(hspace=0.0, wspace = 0.0)\n",
    "ax = fig.add_subplot(111)\n",
    "\n",
    "\n",
    "lambda_spec=np.linspace(4000,7550,len(spec_hdul[0].data))\n",
    "\n",
    "ax.plot(lambda_spec/(1+source_z),spec_hdul[0].data,color='red',marker='o',label=date_spec_path)\n",
    "#ax.plot(Fermi_monitir_lambdas,Fermi_monitor_AGN_R[0].data,color='blue',marker='o',label='R')\n",
    "\n",
    "#set_ax_locator(ax,xma=0.2,xmi=0.1,yma=10,ymi=5)\n",
    "set_ax_tick(ax)\n",
    "\n",
    "#ax.set_xlabel('Type')\n",
    "#ax2.set_xlabel('Type')\n",
    "ax.set_xlabel(r'$\\lambda/(1+z)(\\AA)$')\n",
    "ax.set_ylabel(r'flux')\n",
    "\n",
    "ax.set_title(source_Name+' z=%.3f'%source_z)\n",
    "\n",
    "ax.xaxis.set_tick_params(which='major', size=10, width=2, rotation=45,)\n",
    "handles, labels = ax.get_legend_handles_labels()\n",
    "# remove the errorbars\n",
    "#hdl = [h[0] for h in handles]\n",
    "hdl = handles\n",
    "labels_dict=dict(zip(labels, hdl)) #key,values\n",
    "by_label=OrderedDict(sorted(labels_dict.items(),key=lambda t:t[0]))\n",
    "\n",
    "ax.legend(by_label.values(), by_label.keys(), bbox_to_anchor=(0.01, 0.99),\n",
    "          loc=2, numpoints=1,ncol=1,fontsize=11.)\n",
    "\n",
    "# use them in the legend\n",
    "#by_label = OrderedDict(zip(labels, handles)) \n",
    "#ax.legend(by_label.values(), by_label.keys(), bbox_to_anchor=(0.0, 0.9),loc=2, numpoints=1, fontsize=11. )\n",
    "\n",
    "\n",
    "#ax.semilogy()\n",
    "#ax.semilogx()\n",
    "#ax.set_xlim(4200,5400)\n",
    "#plt.legend()\n",
    "#spec_path_fig\n",
    "\n",
    "#fig.savefig(spec_path_fig, dpi=400, transparent=False, bbox_inches='tight')\n",
    "#fig.savefig('tansmission_curve_V_R.png', dpi=400, transparent=False, bbox_inches='tight')\n"
   ]
  },
  {
   "cell_type": "code",
   "execution_count": null,
   "metadata": {},
   "outputs": [],
   "source": []
  },
  {
   "cell_type": "code",
   "execution_count": null,
   "metadata": {},
   "outputs": [],
   "source": []
  },
  {
   "cell_type": "code",
   "execution_count": null,
   "metadata": {},
   "outputs": [],
   "source": []
  },
  {
   "cell_type": "code",
   "execution_count": null,
   "metadata": {},
   "outputs": [],
   "source": []
  },
  {
   "cell_type": "markdown",
   "metadata": {},
   "source": [
    "### z_pks1510 = 0.361"
   ]
  },
  {
   "cell_type": "code",
   "execution_count": null,
   "metadata": {
    "ExecuteTime": {
     "end_time": "2022-07-15T08:47:31.596397Z",
     "start_time": "2022-07-15T08:47:30.866696Z"
    }
   },
   "outputs": [],
   "source": [
    "#z_pks1510 = 0.361\n",
    "\n",
    "#source_name='pks1510'\n",
    "source_Name='PKS 1510-08'\n",
    "#source_Name=Source_Name_dict[source_name]\n",
    "source_name=Source_name_dict[source_Name]\n",
    "\n",
    "\n",
    "source_z=0.361\n",
    "datatypes=['phot','pol']\n",
    "\n",
    "print(source_name,source_Name,source_z)\n",
    "\n",
    "spec_path=os.path.join(root_data_dir,source_name,source_name,'pks1510.fc.spec_081229.fits')\n",
    "spec_path_fig=spec_path+'_z=0.361_.png'\n",
    "\n",
    "date_spec_path=spec_path.split('.')[-2]\n",
    "spec_hdul=fits.open(spec_path)\n",
    "print(len(spec_hdul[0].data))\n",
    "\n",
    "\n",
    "\n",
    "fig = plt.figure(figsize=(6,4))\n",
    "fig.subplots_adjust(hspace=0.0, wspace = 0.0)\n",
    "ax = fig.add_subplot(111)\n",
    "\n",
    "\n",
    "lambda_spec=np.linspace(4000,7550,len(spec_hdul[0].data))\n",
    "\n",
    "ax.plot(lambda_spec/(1+source_z),spec_hdul[0].data,color='red',marker='o',label=date_spec_path)\n",
    "#ax.plot(Fermi_monitir_lambdas,Fermi_monitor_AGN_R[0].data,color='blue',marker='o',label='R')\n",
    "\n",
    "#set_ax_locator(ax,xma=0.2,xmi=0.1,yma=10,ymi=5)\n",
    "set_ax_tick(ax)\n",
    "\n",
    "#ax.set_xlabel('Type')\n",
    "#ax2.set_xlabel('Type')\n",
    "ax.set_xlabel(r'$\\lambda/(1+z)(\\AA)$')\n",
    "ax.set_ylabel(r'flux')\n",
    "\n",
    "ax.set_title(source_Name+' z=%.3f'%source_z)\n",
    "\n",
    "ax.xaxis.set_tick_params(which='major', size=10, width=2, rotation=45,)\n",
    "handles, labels = ax.get_legend_handles_labels()\n",
    "# remove the errorbars\n",
    "#hdl = [h[0] for h in handles]\n",
    "hdl = handles\n",
    "labels_dict=dict(zip(labels, hdl)) #key,values\n",
    "by_label=OrderedDict(sorted(labels_dict.items(),key=lambda t:t[0]))\n",
    "\n",
    "ax.legend(by_label.values(), by_label.keys(), bbox_to_anchor=(0.01, 0.99),\n",
    "          loc=2, numpoints=1,ncol=1,fontsize=11.)\n",
    "\n",
    "# use them in the legend\n",
    "#by_label = OrderedDict(zip(labels, handles)) \n",
    "#ax.legend(by_label.values(), by_label.keys(), bbox_to_anchor=(0.0, 0.9),loc=2, numpoints=1, fontsize=11. )\n",
    "\n",
    "\n",
    "#ax.semilogy()\n",
    "#ax.semilogx()\n",
    "\n",
    "ax.set_xlim(4200,5400)\n",
    "#plt.legend()\n",
    "#spec_path_fig\n",
    "\n",
    "fig.savefig(spec_path_fig, dpi=400, transparent=False, bbox_inches='tight')\n",
    "#fig.savefig('tansmission_curve_V_R.png', dpi=400, transparent=False, bbox_inches='tight')\n"
   ]
  },
  {
   "cell_type": "code",
   "execution_count": null,
   "metadata": {
    "ExecuteTime": {
     "end_time": "2022-07-15T11:31:41.625286Z",
     "start_time": "2022-07-15T11:31:41.200702Z"
    }
   },
   "outputs": [],
   "source": [
    "#z_pks1510 = 0.361\n",
    "\n",
    "#source_name='pks1510'\n",
    "source_Name='PKS 1510-08'\n",
    "#source_Name=Source_Name_dict[source_name]\n",
    "source_name=Source_name_dict[source_Name]\n",
    "\n",
    "\n",
    "source_z=0.361\n",
    "datatypes=['phot','pol']\n",
    "\n",
    "print(source_name,source_Name,source_z)\n",
    "\n",
    "spec_path=os.path.join(root_data_dir,source_name,source_name,'pks1510.fc.spec_081229.fits')\n",
    "spec_path_fig=spec_path+'_z=0.361_.png'\n",
    "\n",
    "date_spec_path=spec_path.split('.')[-2]\n",
    "spec_hdul=fits.open(spec_path)\n",
    "print(len(spec_hdul[0].data))\n",
    "\n",
    "\n",
    "\n",
    "fig = plt.figure(figsize=(6,4))\n",
    "fig.subplots_adjust(hspace=0.0, wspace = 0.0)\n",
    "ax = fig.add_subplot(111)\n",
    "\n",
    "\n",
    "lambda_spec=np.linspace(4000,7550,len(spec_hdul[0].data))\n",
    "\n",
    "ax.plot(lambda_spec/(1+source_z),spec_hdul[0].data,color='red',marker='o',label=date_spec_path)\n",
    "#ax.plot(Fermi_monitir_lambdas,Fermi_monitor_AGN_R[0].data,color='blue',marker='o',label='R')\n",
    "\n",
    "#set_ax_locator(ax,xma=0.2,xmi=0.1,yma=10,ymi=5)\n",
    "set_ax_tick(ax)\n",
    "\n",
    "#ax.set_xlabel('Type')\n",
    "#ax2.set_xlabel('Type')\n",
    "ax.set_xlabel(r'$\\lambda/(1+z)(\\AA)$')\n",
    "ax.set_ylabel(r'flux')\n",
    "\n",
    "ax.set_title(source_Name+' z=%.3f'%source_z)\n",
    "\n",
    "ax.xaxis.set_tick_params(which='major', size=10, width=2, rotation=45,)\n",
    "handles, labels = ax.get_legend_handles_labels()\n",
    "# remove the errorbars\n",
    "#hdl = [h[0] for h in handles]\n",
    "hdl = handles\n",
    "labels_dict=dict(zip(labels, hdl)) #key,values\n",
    "by_label=OrderedDict(sorted(labels_dict.items(),key=lambda t:t[0]))\n",
    "\n",
    "ax.legend(by_label.values(), by_label.keys(), bbox_to_anchor=(0.01, 0.99),\n",
    "          loc=2, numpoints=1,ncol=1,fontsize=11.)\n",
    "\n",
    "# use them in the legend\n",
    "#by_label = OrderedDict(zip(labels, handles)) \n",
    "#ax.legend(by_label.values(), by_label.keys(), bbox_to_anchor=(0.0, 0.9),loc=2, numpoints=1, fontsize=11. )\n",
    "\n",
    "\n",
    "#ax.semilogy()\n",
    "#ax.semilogx()\n",
    "\n",
    "#ax.set_xlim(4200,5400)\n",
    "#plt.legend()\n",
    "#spec_path_fig\n",
    "\n",
    "#fig.savefig(spec_path_fig, dpi=400, transparent=False, bbox_inches='tight')\n",
    "#fig.savefig('tansmission_curve_V_R.png', dpi=400, transparent=False, bbox_inches='tight')\n"
   ]
  },
  {
   "cell_type": "markdown",
   "metadata": {},
   "source": [
    "### Mrk 421"
   ]
  },
  {
   "cell_type": "code",
   "execution_count": null,
   "metadata": {
    "ExecuteTime": {
     "end_time": "2022-07-13T07:00:26.982302Z",
     "start_time": "2022-07-13T07:00:26.962992Z"
    }
   },
   "outputs": [],
   "source": [
    "#source_name='pks1510'\n",
    "source_Name='Mrk 421'\n",
    "#source_Name=Source_Name_dict[source_name]\n",
    "source_name=Source_name_dict[source_Name]\n",
    "\n",
    "source_z=Fermi_AGN_list_name_redshift_T[Fermi_AGN_list_name_redshift_T['      Input Object Name       '].str.strip()==source_Name]['z_value']\n",
    "datatypes=['phot','pol']\n",
    "\n",
    "print(source_name,source_Name,source_z.values[0])\n",
    "\n",
    "spec_path=os.path.join(root_data_dir,source_name,source_name,'mrk421.fc.spec_081004.fits')\n",
    "spec_path_fig=spec_path+'.png'\n",
    "date_spec_path=spec_path.split('.')[-2]\n",
    "spec_hdul=fits.open(spec_path)\n",
    "print(len(spec_hdul[0].data))"
   ]
  },
  {
   "cell_type": "code",
   "execution_count": null,
   "metadata": {
    "ExecuteTime": {
     "end_time": "2022-07-13T07:00:39.767963Z",
     "start_time": "2022-07-13T07:00:38.392127Z"
    }
   },
   "outputs": [],
   "source": [
    "fig = plt.figure(figsize=(12,8))\n",
    "fig.subplots_adjust(hspace=0.0, wspace = 0.0)\n",
    "ax = fig.add_subplot(111)\n",
    "\n",
    "\n",
    "lambda_spec=np.linspace(4000,7550,len(spec_hdul[0].data))\n",
    "ax.plot(lambda_spec/(1+source_z.values[0]),spec_hdul[0].data,color='red',marker='o',label=date_spec_path)\n",
    "#ax.plot(Fermi_monitir_lambdas,Fermi_monitor_AGN_R[0].data,color='blue',marker='o',label='R')\n",
    "\n",
    "#set_ax_locator(ax,xma=0.2,xmi=0.1,yma=10,ymi=5)\n",
    "set_ax_tick(ax)\n",
    "\n",
    "#ax.set_xlabel('Type')\n",
    "#ax2.set_xlabel('Type')\n",
    "ax.set_xlabel(r'$\\lambda/(1+z)(\\AA)$')\n",
    "ax.set_ylabel(r'flux')\n",
    "\n",
    "ax.set_title(source_Name)\n",
    "\n",
    "ax.xaxis.set_tick_params(which='major', size=10, width=2, rotation=45,)\n",
    "handles, labels = ax.get_legend_handles_labels()\n",
    "# remove the errorbars\n",
    "#hdl = [h[0] for h in handles]\n",
    "hdl = handles\n",
    "labels_dict=dict(zip(labels, hdl)) #key,values\n",
    "by_label=OrderedDict(sorted(labels_dict.items(),key=lambda t:t[0]))\n",
    "\n",
    "ax.legend(by_label.values(), by_label.keys(), bbox_to_anchor=(0.01, 0.99),\n",
    "          loc=2, numpoints=1,ncol=1,fontsize=11.)\n",
    "\n",
    "# use them in the legend\n",
    "#by_label = OrderedDict(zip(labels, handles)) \n",
    "#ax.legend(by_label.values(), by_label.keys(), bbox_to_anchor=(0.0, 0.9),loc=2, numpoints=1, fontsize=11. )\n",
    "\n",
    "\n",
    "#ax.semilogy()\n",
    "#ax.semilogx()\n",
    "fig.savefig(spec_path_fig, dpi=400, transparent=False, bbox_inches='tight')\n",
    "\n",
    "#ax.set_xlim(0.0,0.6)\n",
    "#plt.legend()\n",
    "#fig.savefig('tansmission_curve_V_R.png', dpi=400, transparent=False, bbox_inches='tight')\n"
   ]
  },
  {
   "cell_type": "markdown",
   "metadata": {},
   "source": [
    "### Mrk 501"
   ]
  },
  {
   "cell_type": "code",
   "execution_count": null,
   "metadata": {
    "ExecuteTime": {
     "end_time": "2022-07-13T07:01:10.773318Z",
     "start_time": "2022-07-13T07:01:10.751483Z"
    }
   },
   "outputs": [],
   "source": [
    "#source_name='pks1510'\n",
    "source_Name='Mrk 501'\n",
    "#source_Name=Source_Name_dict[source_name]\n",
    "source_name=Source_name_dict[source_Name]\n",
    "\n",
    "source_z=Fermi_AGN_list_name_redshift_T[Fermi_AGN_list_name_redshift_T['      Input Object Name       '].str.strip()==source_Name]['z_value']\n",
    "datatypes=['phot','pol']\n",
    "\n",
    "print(source_name,source_Name,source_z.values[0])\n",
    "\n",
    "spec_path=os.path.join(root_data_dir,source_name,source_name,'mrk501.fc.spec_081006.fits')\n",
    "spec_path_fig=spec_path+'.png'\n",
    "date_spec_path=spec_path.split('.')[-2]\n",
    "\n",
    "spec_hdul=fits.open(spec_path)\n",
    "print(len(spec_hdul[0].data))\n",
    "\n"
   ]
  },
  {
   "cell_type": "code",
   "execution_count": null,
   "metadata": {
    "ExecuteTime": {
     "end_time": "2022-07-13T07:01:14.519091Z",
     "start_time": "2022-07-13T07:01:13.329919Z"
    }
   },
   "outputs": [],
   "source": [
    "fig = plt.figure(figsize=(12,8))\n",
    "fig.subplots_adjust(hspace=0.0, wspace = 0.0)\n",
    "ax = fig.add_subplot(111)\n",
    "\n",
    "\n",
    "lambda_spec=np.linspace(4000,7550,len(spec_hdul[0].data))\n",
    "ax.plot(lambda_spec/(1+source_z.values[0]),spec_hdul[0].data,color='red',marker='o',label=date_spec_path)\n",
    "#ax.plot(Fermi_monitir_lambdas,Fermi_monitor_AGN_R[0].data,color='blue',marker='o',label='R')\n",
    "\n",
    "#set_ax_locator(ax,xma=0.2,xmi=0.1,yma=10,ymi=5)\n",
    "set_ax_tick(ax)\n",
    "\n",
    "#ax.set_xlabel('Type')\n",
    "#ax2.set_xlabel('Type')\n",
    "ax.set_xlabel(r'$\\lambda/(1+z)(\\AA)$')\n",
    "ax.set_ylabel(r'flux')\n",
    "\n",
    "ax.set_title(source_Name)\n",
    "\n",
    "ax.xaxis.set_tick_params(which='major', size=10, width=2, rotation=45,)\n",
    "handles, labels = ax.get_legend_handles_labels()\n",
    "# remove the errorbars\n",
    "#hdl = [h[0] for h in handles]\n",
    "hdl = handles\n",
    "labels_dict=dict(zip(labels, hdl)) #key,values\n",
    "by_label=OrderedDict(sorted(labels_dict.items(),key=lambda t:t[0]))\n",
    "\n",
    "ax.legend(by_label.values(), by_label.keys(), bbox_to_anchor=(0.01, 0.99),\n",
    "          loc=2, numpoints=1,ncol=1,fontsize=11.)\n",
    "\n",
    "# use them in the legend\n",
    "#by_label = OrderedDict(zip(labels, handles)) \n",
    "#ax.legend(by_label.values(), by_label.keys(), bbox_to_anchor=(0.0, 0.9),loc=2, numpoints=1, fontsize=11. )\n",
    "\n",
    "\n",
    "#ax.semilogy()\n",
    "#ax.semilogx()\n",
    "fig.savefig(spec_path_fig, dpi=400, transparent=False, bbox_inches='tight')\n",
    "\n",
    "#ax.set_xlim(0.0,0.6)\n",
    "#plt.legend()\n",
    "#fig.savefig('tansmission_curve_V_R.png', dpi=400, transparent=False, bbox_inches='tight')\n"
   ]
  },
  {
   "cell_type": "code",
   "execution_count": null,
   "metadata": {},
   "outputs": [],
   "source": []
  },
  {
   "cell_type": "markdown",
   "metadata": {},
   "source": [
    "## 1ES 2344+514"
   ]
  },
  {
   "cell_type": "code",
   "execution_count": null,
   "metadata": {
    "ExecuteTime": {
     "end_time": "2022-07-13T07:01:20.763611Z",
     "start_time": "2022-07-13T07:01:20.738505Z"
    }
   },
   "outputs": [],
   "source": [
    "#source_name='pks1510'\n",
    "source_Name='1ES 2344+514'\n",
    "#source_Name=Source_Name_dict[source_name]\n",
    "source_name=Source_name_dict[source_Name]\n",
    "\n",
    "source_z=Fermi_AGN_list_name_redshift_T[Fermi_AGN_list_name_redshift_T['      Input Object Name       '].str.strip()==source_Name]['z_value']\n",
    "datatypes=['phot','pol']\n",
    "\n",
    "print(source_name,source_Name,source_z.values[0])\n",
    "\n",
    "spec_path=os.path.join(root_data_dir,source_name,source_name,'1es2344.spec_081003.fits')\n",
    "spec_path_fig=spec_path+'.png'\n",
    "date_spec_path=spec_path.split('.')[-2]\n",
    "\n",
    "spec_hdul=fits.open(spec_path)\n",
    "print(len(spec_hdul[0].data))\n",
    "\n"
   ]
  },
  {
   "cell_type": "code",
   "execution_count": null,
   "metadata": {
    "ExecuteTime": {
     "end_time": "2022-07-13T07:01:24.106102Z",
     "start_time": "2022-07-13T07:01:22.933713Z"
    }
   },
   "outputs": [],
   "source": [
    "fig = plt.figure(figsize=(12,8))\n",
    "fig.subplots_adjust(hspace=0.0, wspace = 0.0)\n",
    "ax = fig.add_subplot(111)\n",
    "\n",
    "\n",
    "lambda_spec=np.linspace(4000,7550,len(spec_hdul[0].data))\n",
    "ax.plot(lambda_spec/(1+source_z.values[0]),spec_hdul[0].data,color='red',marker='o',label=date_spec_path)\n",
    "#ax.plot(Fermi_monitir_lambdas,Fermi_monitor_AGN_R[0].data,color='blue',marker='o',label='R')\n",
    "\n",
    "#set_ax_locator(ax,xma=0.2,xmi=0.1,yma=10,ymi=5)\n",
    "set_ax_tick(ax)\n",
    "\n",
    "#ax.set_xlabel('Type')\n",
    "#ax2.set_xlabel('Type')\n",
    "ax.set_xlabel(r'$\\lambda/(1+z)(\\AA)$')\n",
    "ax.set_ylabel(r'flux')\n",
    "\n",
    "ax.set_title(source_Name)\n",
    "\n",
    "ax.xaxis.set_tick_params(which='major', size=10, width=2, rotation=45,)\n",
    "handles, labels = ax.get_legend_handles_labels()\n",
    "# remove the errorbars\n",
    "#hdl = [h[0] for h in handles]\n",
    "hdl = handles\n",
    "labels_dict=dict(zip(labels, hdl)) #key,values\n",
    "by_label=OrderedDict(sorted(labels_dict.items(),key=lambda t:t[0]))\n",
    "\n",
    "ax.legend(by_label.values(), by_label.keys(), bbox_to_anchor=(0.01, 0.99),\n",
    "          loc=2, numpoints=1,ncol=1,fontsize=11.)\n",
    "\n",
    "# use them in the legend\n",
    "#by_label = OrderedDict(zip(labels, handles)) \n",
    "#ax.legend(by_label.values(), by_label.keys(), bbox_to_anchor=(0.0, 0.9),loc=2, numpoints=1, fontsize=11. )\n",
    "\n",
    "\n",
    "#ax.semilogy()\n",
    "#ax.semilogx()\n",
    "fig.savefig(spec_path_fig, dpi=400, transparent=False, bbox_inches='tight')\n",
    "\n",
    "#ax.set_xlim(0.0,0.6)\n",
    "#plt.legend()\n",
    "#fig.savefig('tansmission_curve_V_R.png', dpi=400, transparent=False, bbox_inches='tight')\n"
   ]
  },
  {
   "cell_type": "code",
   "execution_count": null,
   "metadata": {},
   "outputs": [],
   "source": []
  },
  {
   "cell_type": "code",
   "execution_count": null,
   "metadata": {},
   "outputs": [],
   "source": []
  },
  {
   "cell_type": "markdown",
   "metadata": {},
   "source": [
    "## 1ES 1959+650"
   ]
  },
  {
   "cell_type": "code",
   "execution_count": null,
   "metadata": {
    "ExecuteTime": {
     "end_time": "2022-07-13T07:01:29.748580Z",
     "start_time": "2022-07-13T07:01:29.728631Z"
    }
   },
   "outputs": [],
   "source": [
    "#source_name='pks1510'\n",
    "source_Name='1ES 1959+650'\n",
    "#source_Name=Source_Name_dict[source_name]\n",
    "source_name=Source_name_dict[source_Name]\n",
    "\n",
    "source_z=Fermi_AGN_list_name_redshift_T[Fermi_AGN_list_name_redshift_T['      Input Object Name       '].str.strip()==source_Name]['z_value']\n",
    "datatypes=['phot','pol']\n",
    "\n",
    "print(source_name,source_Name,source_z.values[0])\n",
    "\n",
    "spec_path=os.path.join(root_data_dir,source_name,source_name,'1es1959.spec_081004.fits')\n",
    "spec_path_fig=spec_path+'.png'\n",
    "date_spec_path=spec_path.split('.')[-2]\n",
    "\n",
    "spec_hdul=fits.open(spec_path)\n",
    "print(len(spec_hdul[0].data))\n",
    "\n"
   ]
  },
  {
   "cell_type": "code",
   "execution_count": null,
   "metadata": {
    "ExecuteTime": {
     "end_time": "2022-07-13T07:01:36.829408Z",
     "start_time": "2022-07-13T07:01:35.638060Z"
    }
   },
   "outputs": [],
   "source": [
    "fig = plt.figure(figsize=(12,8))\n",
    "fig.subplots_adjust(hspace=0.0, wspace = 0.0)\n",
    "ax = fig.add_subplot(111)\n",
    "\n",
    "\n",
    "lambda_spec=np.linspace(4000,7550,len(spec_hdul[0].data))\n",
    "ax.plot(lambda_spec/(1+source_z.values[0]),spec_hdul[0].data,color='red',marker='o',label=date_spec_path)\n",
    "#ax.plot(Fermi_monitir_lambdas,Fermi_monitor_AGN_R[0].data,color='blue',marker='o',label='R')\n",
    "\n",
    "#set_ax_locator(ax,xma=0.2,xmi=0.1,yma=10,ymi=5)\n",
    "set_ax_tick(ax)\n",
    "\n",
    "#ax.set_xlabel('Type')\n",
    "#ax2.set_xlabel('Type')\n",
    "ax.set_xlabel(r'$\\lambda/(1+z)(\\AA)$')\n",
    "ax.set_ylabel(r'flux')\n",
    "\n",
    "ax.set_title(source_Name)\n",
    "\n",
    "ax.xaxis.set_tick_params(which='major', size=10, width=2, rotation=45,)\n",
    "handles, labels = ax.get_legend_handles_labels()\n",
    "# remove the errorbars\n",
    "#hdl = [h[0] for h in handles]\n",
    "hdl = handles\n",
    "labels_dict=dict(zip(labels, hdl)) #key,values\n",
    "by_label=OrderedDict(sorted(labels_dict.items(),key=lambda t:t[0]))\n",
    "\n",
    "ax.legend(by_label.values(), by_label.keys(), bbox_to_anchor=(0.01, 0.99),\n",
    "          loc=2, numpoints=1,ncol=1,fontsize=11.)\n",
    "\n",
    "# use them in the legend\n",
    "#by_label = OrderedDict(zip(labels, handles)) \n",
    "#ax.legend(by_label.values(), by_label.keys(), bbox_to_anchor=(0.0, 0.9),loc=2, numpoints=1, fontsize=11. )\n",
    "\n",
    "\n",
    "#ax.semilogy()\n",
    "#ax.semilogx()\n",
    "fig.savefig(spec_path_fig, dpi=400, transparent=False, bbox_inches='tight')\n",
    "\n",
    "#ax.set_xlim(0.0,0.6)\n",
    "#plt.legend()\n",
    "#fig.savefig('tansmission_curve_V_R.png', dpi=400, transparent=False, bbox_inches='tight')\n"
   ]
  },
  {
   "cell_type": "code",
   "execution_count": null,
   "metadata": {},
   "outputs": [],
   "source": []
  },
  {
   "cell_type": "markdown",
   "metadata": {},
   "source": [
    "## 1H 0323+342"
   ]
  },
  {
   "cell_type": "code",
   "execution_count": null,
   "metadata": {
    "ExecuteTime": {
     "end_time": "2022-07-15T09:07:42.306863Z",
     "start_time": "2022-07-15T09:07:40.900357Z"
    }
   },
   "outputs": [],
   "source": [
    "#source_name='pks1510'\n",
    "source_Name='1H 0323+342'\n",
    "#source_Name=Source_Name_dict[source_name]\n",
    "source_name=Source_name_dict[source_Name]\n",
    "\n",
    "source_z=Fermi_AGN_list_name_redshift_T[Fermi_AGN_list_name_redshift_T['      Input Object Name       '].str.strip()==source_Name]['z_value']\n",
    "datatypes=['phot','pol']\n",
    "\n",
    "print(source_name,source_Name,source_z.values[0])\n",
    "\n",
    "spec_path=os.path.join(root_data_dir,source_name,source_name+'_6','1h0323.spec_130905.fits')\n",
    "spec_path_fig=spec_path+'.png'\n",
    "date_spec_path=spec_path.split('.')[-2]\n",
    "\n",
    "spec_hdul=fits.open(spec_path)\n",
    "print(len(spec_hdul[0].data))\n",
    "\n",
    "fig = plt.figure(figsize=(12,8))\n",
    "fig.subplots_adjust(hspace=0.0, wspace = 0.0)\n",
    "ax = fig.add_subplot(111)\n",
    "\n",
    "\n",
    "lambda_spec=np.linspace(4000,7550,len(spec_hdul[0].data))\n",
    "ax.plot(lambda_spec/(1+source_z.values[0]),spec_hdul[0].data,color='red',marker='o',label=date_spec_path)\n",
    "#ax.plot(Fermi_monitir_lambdas,Fermi_monitor_AGN_R[0].data,color='blue',marker='o',label='R')\n",
    "\n",
    "#set_ax_locator(ax,xma=0.2,xmi=0.1,yma=10,ymi=5)\n",
    "set_ax_tick(ax)\n",
    "\n",
    "#ax.set_xlabel('Type')\n",
    "#ax2.set_xlabel('Type')\n",
    "ax.set_xlabel(r'$\\lambda/(1+z)(\\AA)$')\n",
    "ax.set_ylabel(r'flux')\n",
    "\n",
    "ax.set_title(source_Name)\n",
    "\n",
    "ax.xaxis.set_tick_params(which='major', size=10, width=2, rotation=45,)\n",
    "handles, labels = ax.get_legend_handles_labels()\n",
    "# remove the errorbars\n",
    "#hdl = [h[0] for h in handles]\n",
    "hdl = handles\n",
    "labels_dict=dict(zip(labels, hdl)) #key,values\n",
    "by_label=OrderedDict(sorted(labels_dict.items(),key=lambda t:t[0]))\n",
    "\n",
    "ax.legend(by_label.values(), by_label.keys(), bbox_to_anchor=(0.01, 0.99),\n",
    "          loc=2, numpoints=1,ncol=1,fontsize=11.)\n",
    "\n",
    "# use them in the legend\n",
    "#by_label = OrderedDict(zip(labels, handles)) \n",
    "#ax.legend(by_label.values(), by_label.keys(), bbox_to_anchor=(0.0, 0.9),loc=2, numpoints=1, fontsize=11. )\n",
    "\n",
    "\n",
    "#ax.semilogy()\n",
    "#ax.semilogx()\n",
    "fig.savefig(spec_path_fig, dpi=400, transparent=False, bbox_inches='tight')\n",
    "\n",
    "#ax.set_xlim(0.0,0.6)\n",
    "#plt.legend()\n",
    "#fig.savefig('tansmission_curve_V_R.png', dpi=400, transparent=False, bbox_inches='tight')\n",
    "\n"
   ]
  },
  {
   "cell_type": "code",
   "execution_count": null,
   "metadata": {
    "ExecuteTime": {
     "end_time": "2022-07-15T09:07:48.692945Z",
     "start_time": "2022-07-15T09:07:47.478926Z"
    }
   },
   "outputs": [],
   "source": [
    "#source_name='pks1510'\n",
    "source_Name='1H 0323+342'\n",
    "#source_Name=Source_Name_dict[source_name]\n",
    "source_name=Source_name_dict[source_Name]\n",
    "\n",
    "source_z=Fermi_AGN_list_name_redshift_T[Fermi_AGN_list_name_redshift_T['      Input Object Name       '].str.strip()==source_Name]['z_value']\n",
    "datatypes=['phot','pol']\n",
    "\n",
    "print(source_name,source_Name,source_z.values[0])\n",
    "\n",
    "spec_path=os.path.join(root_data_dir,source_name,source_name+'_6','1h0323.spec_130906.fits')\n",
    "spec_path_fig=spec_path+'.png'\n",
    "date_spec_path=spec_path.split('.')[-2]\n",
    "\n",
    "spec_hdul=fits.open(spec_path)\n",
    "print(len(spec_hdul[0].data))\n",
    "\n",
    "fig = plt.figure(figsize=(12,8))\n",
    "fig.subplots_adjust(hspace=0.0, wspace = 0.0)\n",
    "ax = fig.add_subplot(111)\n",
    "\n",
    "\n",
    "lambda_spec=np.linspace(4000,7550,len(spec_hdul[0].data))\n",
    "ax.plot(lambda_spec/(1+source_z.values[0]),spec_hdul[0].data,color='red',marker='o',label=date_spec_path)\n",
    "#ax.plot(Fermi_monitir_lambdas,Fermi_monitor_AGN_R[0].data,color='blue',marker='o',label='R')\n",
    "\n",
    "#set_ax_locator(ax,xma=0.2,xmi=0.1,yma=10,ymi=5)\n",
    "set_ax_tick(ax)\n",
    "\n",
    "#ax.set_xlabel('Type')\n",
    "#ax2.set_xlabel('Type')\n",
    "ax.set_xlabel(r'$\\lambda/(1+z)(\\AA)$')\n",
    "ax.set_ylabel(r'flux')\n",
    "\n",
    "ax.set_title(source_Name)\n",
    "\n",
    "ax.xaxis.set_tick_params(which='major', size=10, width=2, rotation=45,)\n",
    "handles, labels = ax.get_legend_handles_labels()\n",
    "# remove the errorbars\n",
    "#hdl = [h[0] for h in handles]\n",
    "hdl = handles\n",
    "labels_dict=dict(zip(labels, hdl)) #key,values\n",
    "by_label=OrderedDict(sorted(labels_dict.items(),key=lambda t:t[0]))\n",
    "\n",
    "ax.legend(by_label.values(), by_label.keys(), bbox_to_anchor=(0.01, 0.99),\n",
    "          loc=2, numpoints=1,ncol=1,fontsize=11.)\n",
    "\n",
    "# use them in the legend\n",
    "#by_label = OrderedDict(zip(labels, handles)) \n",
    "#ax.legend(by_label.values(), by_label.keys(), bbox_to_anchor=(0.0, 0.9),loc=2, numpoints=1, fontsize=11. )\n",
    "\n",
    "\n",
    "#ax.semilogy()\n",
    "#ax.semilogx()\n",
    "fig.savefig(spec_path_fig, dpi=400, transparent=False, bbox_inches='tight')\n",
    "\n",
    "#ax.set_xlim(0.0,0.6)\n",
    "#plt.legend()\n",
    "#fig.savefig('tansmission_curve_V_R.png', dpi=400, transparent=False, bbox_inches='tight')\n",
    "\n"
   ]
  },
  {
   "cell_type": "code",
   "execution_count": null,
   "metadata": {},
   "outputs": [],
   "source": []
  },
  {
   "cell_type": "code",
   "execution_count": null,
   "metadata": {
    "ExecuteTime": {
     "end_time": "2022-07-15T09:08:12.543340Z",
     "start_time": "2022-07-15T09:08:11.259411Z"
    }
   },
   "outputs": [],
   "source": [
    "#source_name='pks1510'\n",
    "source_Name='1H 0323+342'\n",
    "#source_Name=Source_Name_dict[source_name]\n",
    "source_name=Source_name_dict[source_Name]\n",
    "\n",
    "source_z=Fermi_AGN_list_name_redshift_T[Fermi_AGN_list_name_redshift_T['      Input Object Name       '].str.strip()==source_Name]['z_value']\n",
    "datatypes=['phot','pol']\n",
    "\n",
    "print(source_name,source_Name,source_z.values[0])\n",
    "\n",
    "spec_path=os.path.join(root_data_dir,source_name,source_name+'_6','1h0323.spec_131005.fits')\n",
    "spec_path_fig=spec_path+'.png'\n",
    "date_spec_path=spec_path.split('.')[-2]\n",
    "\n",
    "spec_hdul=fits.open(spec_path)\n",
    "print(len(spec_hdul[0].data))\n",
    "\n",
    "fig = plt.figure(figsize=(12,8))\n",
    "fig.subplots_adjust(hspace=0.0, wspace = 0.0)\n",
    "ax = fig.add_subplot(111)\n",
    "\n",
    "\n",
    "lambda_spec=np.linspace(4000,7550,len(spec_hdul[0].data))\n",
    "ax.plot(lambda_spec/(1+source_z.values[0]),spec_hdul[0].data,color='red',marker='o',label=date_spec_path)\n",
    "#ax.plot(Fermi_monitir_lambdas,Fermi_monitor_AGN_R[0].data,color='blue',marker='o',label='R')\n",
    "\n",
    "#set_ax_locator(ax,xma=0.2,xmi=0.1,yma=10,ymi=5)\n",
    "set_ax_tick(ax)\n",
    "\n",
    "#ax.set_xlabel('Type')\n",
    "#ax2.set_xlabel('Type')\n",
    "ax.set_xlabel(r'$\\lambda/(1+z)(\\AA)$')\n",
    "ax.set_ylabel(r'flux')\n",
    "\n",
    "ax.set_title(source_Name)\n",
    "\n",
    "ax.xaxis.set_tick_params(which='major', size=10, width=2, rotation=45,)\n",
    "handles, labels = ax.get_legend_handles_labels()\n",
    "# remove the errorbars\n",
    "#hdl = [h[0] for h in handles]\n",
    "hdl = handles\n",
    "labels_dict=dict(zip(labels, hdl)) #key,values\n",
    "by_label=OrderedDict(sorted(labels_dict.items(),key=lambda t:t[0]))\n",
    "\n",
    "ax.legend(by_label.values(), by_label.keys(), bbox_to_anchor=(0.01, 0.99),\n",
    "          loc=2, numpoints=1,ncol=1,fontsize=11.)\n",
    "\n",
    "# use them in the legend\n",
    "#by_label = OrderedDict(zip(labels, handles)) \n",
    "#ax.legend(by_label.values(), by_label.keys(), bbox_to_anchor=(0.0, 0.9),loc=2, numpoints=1, fontsize=11. )\n",
    "\n",
    "\n",
    "#ax.semilogy()\n",
    "#ax.semilogx()\n",
    "fig.savefig(spec_path_fig, dpi=400, transparent=False, bbox_inches='tight')\n",
    "\n",
    "#ax.set_xlim(0.0,0.6)\n",
    "#plt.legend()\n",
    "#fig.savefig('tansmission_curve_V_R.png', dpi=400, transparent=False, bbox_inches='tight')\n",
    "\n"
   ]
  },
  {
   "cell_type": "markdown",
   "metadata": {},
   "source": [
    "## BL Lac"
   ]
  },
  {
   "cell_type": "code",
   "execution_count": null,
   "metadata": {
    "ExecuteTime": {
     "end_time": "2022-07-13T07:01:55.486280Z",
     "start_time": "2022-07-13T07:01:55.455772Z"
    }
   },
   "outputs": [],
   "source": [
    "#source_name='pks1510'\n",
    "source_Name='BL Lac'\n",
    "#source_Name=Source_Name_dict[source_name]\n",
    "source_name=Source_name_dict[source_Name]\n",
    "\n",
    "source_z=Fermi_AGN_list_name_redshift_T[Fermi_AGN_list_name_redshift_T['      Input Object Name       '].str.strip()==source_Name]['z_value']\n",
    "datatypes=['phot','pol']\n",
    "\n",
    "print(source_name,source_Name,source_z.values[0])\n",
    "\n",
    "spec_path=os.path.join(root_data_dir,source_name,source_name,'bllac.fc.spec_081004.fits')\n",
    "spec_path_fig=spec_path+'.png'\n",
    "date_spec_path=spec_path.split('.')[-2]\n",
    "\n",
    "spec_hdul=fits.open(spec_path)\n",
    "print(len(spec_hdul[0].data))\n",
    "\n"
   ]
  },
  {
   "cell_type": "code",
   "execution_count": null,
   "metadata": {
    "ExecuteTime": {
     "end_time": "2022-07-13T07:01:57.399130Z",
     "start_time": "2022-07-13T07:01:56.352990Z"
    }
   },
   "outputs": [],
   "source": [
    "fig = plt.figure(figsize=(12,8))\n",
    "fig.subplots_adjust(hspace=0.0, wspace = 0.0)\n",
    "ax = fig.add_subplot(111)\n",
    "\n",
    "\n",
    "lambda_spec=np.linspace(4000,7550,len(spec_hdul[0].data))\n",
    "ax.plot(lambda_spec/(1+source_z.values[0]),spec_hdul[0].data,color='red',marker='o',label=date_spec_path)\n",
    "#ax.plot(Fermi_monitir_lambdas,Fermi_monitor_AGN_R[0].data,color='blue',marker='o',label='R')\n",
    "\n",
    "#set_ax_locator(ax,xma=0.2,xmi=0.1,yma=10,ymi=5)\n",
    "set_ax_tick(ax)\n",
    "\n",
    "#ax.set_xlabel('Type')\n",
    "#ax2.set_xlabel('Type')\n",
    "ax.set_xlabel(r'$\\lambda/(1+z)(\\AA)$')\n",
    "ax.set_ylabel(r'flux')\n",
    "ax.set_xlim(6000,7000)\n",
    "ax.set_title(source_Name)\n",
    "\n",
    "ax.xaxis.set_tick_params(which='major', size=10, width=2, rotation=45,)\n",
    "handles, labels = ax.get_legend_handles_labels()\n",
    "# remove the errorbars\n",
    "#hdl = [h[0] for h in handles]\n",
    "hdl = handles\n",
    "labels_dict=dict(zip(labels, hdl)) #key,values\n",
    "by_label=OrderedDict(sorted(labels_dict.items(),key=lambda t:t[0]))\n",
    "\n",
    "ax.legend(by_label.values(), by_label.keys(), bbox_to_anchor=(0.01, 0.99),\n",
    "          loc=2, numpoints=1,ncol=1,fontsize=11.)\n",
    "\n",
    "# use them in the legend\n",
    "#by_label = OrderedDict(zip(labels, handles)) \n",
    "#ax.legend(by_label.values(), by_label.keys(), bbox_to_anchor=(0.0, 0.9),loc=2, numpoints=1, fontsize=11. )\n",
    "\n",
    "\n",
    "#ax.semilogy()\n",
    "#ax.semilogx()\n",
    "fig.savefig(spec_path_fig, dpi=400, transparent=False, bbox_inches='tight')\n",
    "\n",
    "#ax.set_xlim(0.0,0.6)\n",
    "#plt.legend()\n",
    "#fig.savefig('tansmission_curve_V_R.png', dpi=400, transparent=False, bbox_inches='tight')\n"
   ]
  },
  {
   "cell_type": "code",
   "execution_count": null,
   "metadata": {},
   "outputs": [],
   "source": []
  },
  {
   "cell_type": "code",
   "execution_count": null,
   "metadata": {},
   "outputs": [],
   "source": []
  },
  {
   "cell_type": "code",
   "execution_count": null,
   "metadata": {},
   "outputs": [],
   "source": []
  },
  {
   "cell_type": "code",
   "execution_count": null,
   "metadata": {},
   "outputs": [],
   "source": []
  },
  {
   "cell_type": "code",
   "execution_count": null,
   "metadata": {
    "ExecuteTime": {
     "end_time": "2022-07-11T12:15:43.378209Z",
     "start_time": "2022-07-11T12:15:43.373181Z"
    }
   },
   "outputs": [],
   "source": [
    "#Fermi_AGN_list_redshift=Fermi_AGN_list_name_redshift.dropna(axis = 0)\n",
    "#Fermi_AGN_list_redshift=drop_index(Fermi_AGN_list_redshift)"
   ]
  },
  {
   "cell_type": "code",
   "execution_count": null,
   "metadata": {
    "ExecuteTime": {
     "end_time": "2022-07-11T12:17:31.985578Z",
     "start_time": "2022-07-11T12:17:31.980142Z"
    }
   },
   "outputs": [],
   "source": [
    "len(Fermi_AGN_list_redshift)"
   ]
  },
  {
   "cell_type": "code",
   "execution_count": null,
   "metadata": {
    "ExecuteTime": {
     "end_time": "2022-07-11T12:16:31.787753Z",
     "start_time": "2022-07-11T12:16:31.780903Z"
    }
   },
   "outputs": [],
   "source": [
    "Fermi_AGN_list_redshift.iloc[2][1]"
   ]
  },
  {
   "cell_type": "code",
   "execution_count": null,
   "metadata": {},
   "outputs": [],
   "source": []
  },
  {
   "cell_type": "code",
   "execution_count": null,
   "metadata": {
    "ExecuteTime": {
     "end_time": "2022-07-11T12:25:49.730022Z",
     "start_time": "2022-07-11T12:25:49.542869Z"
    }
   },
   "outputs": [],
   "source": [
    "plt.hist(Fermi_AGN_list_name_redshift_T[' Redshift '])"
   ]
  },
  {
   "cell_type": "code",
   "execution_count": null,
   "metadata": {
    "ExecuteTime": {
     "end_time": "2022-07-11T12:26:18.530008Z",
     "start_time": "2022-07-11T12:26:18.363920Z"
    },
    "scrolled": true
   },
   "outputs": [],
   "source": [
    "plt.hist(5100*(1+Fermi_AGN_list_name_redshift_T[' Redshift ']))"
   ]
  },
  {
   "cell_type": "code",
   "execution_count": null,
   "metadata": {
    "ExecuteTime": {
     "end_time": "2022-07-11T12:28:14.016812Z",
     "start_time": "2022-07-11T12:28:13.690286Z"
    }
   },
   "outputs": [],
   "source": [
    "plt.hist(4861*(1+Fermi_AGN_list_name_redshift_T[' Redshift ']))"
   ]
  },
  {
   "cell_type": "code",
   "execution_count": null,
   "metadata": {
    "ExecuteTime": {
     "end_time": "2022-07-11T12:28:30.830755Z",
     "start_time": "2022-07-11T12:28:30.616338Z"
    }
   },
   "outputs": [],
   "source": [
    "plt.hist(6563*(1+Fermi_AGN_list_name_redshift_T[' Redshift ']))"
   ]
  },
  {
   "cell_type": "markdown",
   "metadata": {},
   "source": [
    "# Halpha Hbeta"
   ]
  },
  {
   "cell_type": "code",
   "execution_count": null,
   "metadata": {
    "ExecuteTime": {
     "end_time": "2022-07-12T07:06:30.498799Z",
     "start_time": "2022-07-12T07:06:30.475449Z"
    }
   },
   "outputs": [],
   "source": [
    "z_3c273=0.158339\n",
    "6563*(1+z_3c273),4861*(1+z_3c273)"
   ]
  },
  {
   "cell_type": "code",
   "execution_count": null,
   "metadata": {
    "ExecuteTime": {
     "end_time": "2022-07-12T07:18:05.604017Z",
     "start_time": "2022-07-12T07:18:05.597710Z"
    }
   },
   "outputs": [],
   "source": [
    "7000/6563-1"
   ]
  },
  {
   "cell_type": "code",
   "execution_count": null,
   "metadata": {
    "ExecuteTime": {
     "end_time": "2022-07-13T12:37:55.612589Z",
     "start_time": "2022-07-13T12:37:55.606721Z"
    }
   },
   "outputs": [],
   "source": [
    "6563/4861-1"
   ]
  },
  {
   "cell_type": "code",
   "execution_count": null,
   "metadata": {
    "ExecuteTime": {
     "end_time": "2022-07-13T12:38:36.234107Z",
     "start_time": "2022-07-13T12:38:36.222586Z"
    }
   },
   "outputs": [],
   "source": [
    "4861*(1+0.361),6563*(1+0.006815)"
   ]
  },
  {
   "cell_type": "markdown",
   "metadata": {},
   "source": [
    "# SMA"
   ]
  },
  {
   "cell_type": "code",
   "execution_count": null,
   "metadata": {
    "ExecuteTime": {
     "end_time": "2022-07-11T12:32:12.504762Z",
     "start_time": "2022-07-11T12:32:12.499972Z"
    }
   },
   "outputs": [],
   "source": [
    "sma_url='http://sma1.sma.hawaii.edu/callist/callist.html'"
   ]
  },
  {
   "cell_type": "code",
   "execution_count": null,
   "metadata": {
    "ExecuteTime": {
     "end_time": "2022-07-11T12:32:29.069265Z",
     "start_time": "2022-07-11T12:32:24.781214Z"
    }
   },
   "outputs": [],
   "source": [
    "all_tables = pd.read_html(sma_url)\n",
    "sma_table=all_tables[3] "
   ]
  },
  {
   "cell_type": "code",
   "execution_count": null,
   "metadata": {
    "ExecuteTime": {
     "end_time": "2022-07-11T12:36:15.304911Z",
     "start_time": "2022-07-11T12:36:15.211267Z"
    }
   },
   "outputs": [],
   "source": [
    "sma_table"
   ]
  },
  {
   "cell_type": "code",
   "execution_count": null,
   "metadata": {
    "ExecuteTime": {
     "end_time": "2022-07-11T12:36:45.970062Z",
     "start_time": "2022-07-11T12:36:45.965256Z"
    }
   },
   "outputs": [],
   "source": [
    "sma_table.columns[0],sma_table.columns[1]"
   ]
  },
  {
   "cell_type": "code",
   "execution_count": null,
   "metadata": {
    "ExecuteTime": {
     "end_time": "2022-07-11T12:38:01.312081Z",
     "start_time": "2022-07-11T12:38:01.299367Z"
    }
   },
   "outputs": [],
   "source": [
    "sma_table[('Source Name', 'common')]"
   ]
  },
  {
   "cell_type": "code",
   "execution_count": null,
   "metadata": {
    "ExecuteTime": {
     "end_time": "2022-07-11T12:38:24.108065Z",
     "start_time": "2022-07-11T12:38:23.895178Z"
    }
   },
   "outputs": [],
   "source": [
    "if not os.path.exists('%s/sma_info.xlsx'%root_dir):\n",
    "    sma_table.to_excel('%s/sma_info.xlsx'%root_dir,header=0)"
   ]
  },
  {
   "cell_type": "code",
   "execution_count": null,
   "metadata": {},
   "outputs": [],
   "source": []
  },
  {
   "cell_type": "markdown",
   "metadata": {},
   "source": [
    "# VLA/VLAB"
   ]
  },
  {
   "cell_type": "code",
   "execution_count": null,
   "metadata": {
    "ExecuteTime": {
     "end_time": "2022-07-12T06:51:30.240079Z",
     "start_time": "2022-07-12T06:51:30.234315Z"
    }
   },
   "outputs": [],
   "source": [
    "calsources_url='https://www.aoc.nrao.edu/~smyers/calibration/calsources.shtml'"
   ]
  },
  {
   "cell_type": "code",
   "execution_count": null,
   "metadata": {},
   "outputs": [],
   "source": []
  },
  {
   "cell_type": "code",
   "execution_count": null,
   "metadata": {
    "ExecuteTime": {
     "end_time": "2022-07-12T06:46:58.835151Z",
     "start_time": "2022-07-12T06:46:58.802263Z"
    }
   },
   "outputs": [],
   "source": [
    "VLA_calibrator_C_url='https://www.aoc.nrao.edu/~smyers/calibration/C_band.shtml'"
   ]
  },
  {
   "cell_type": "markdown",
   "metadata": {},
   "source": [
    "## Master Calibration Database"
   ]
  },
  {
   "cell_type": "code",
   "execution_count": null,
   "metadata": {
    "ExecuteTime": {
     "end_time": "2022-07-12T06:51:04.308926Z",
     "start_time": "2022-07-12T06:51:04.283017Z"
    }
   },
   "outputs": [],
   "source": [
    "master_url='https://www.aoc.nrao.edu/~smyers/calibration/master.shtml'"
   ]
  },
  {
   "cell_type": "markdown",
   "metadata": {},
   "source": [
    "# mojava 15"
   ]
  },
  {
   "cell_type": "code",
   "execution_count": null,
   "metadata": {
    "ExecuteTime": {
     "end_time": "2022-08-25T03:12:19.242578Z",
     "start_time": "2022-08-25T03:12:19.231551Z"
    }
   },
   "outputs": [],
   "source": [
    "lag_data_dir"
   ]
  },
  {
   "cell_type": "code",
   "execution_count": null,
   "metadata": {
    "ExecuteTime": {
     "end_time": "2022-08-25T03:14:19.446286Z",
     "start_time": "2022-08-25T03:14:19.395309Z"
    }
   },
   "outputs": [],
   "source": [
    "data_PKS1510_dir_mojave=lag_data_dir\n",
    "mojave_15GHz_PKS1510=pd.read_excel('%s/VLBA_PKS1510_089.xlsx'%data_PKS1510_dir_mojave,sheet_name='Sheet1')\n",
    "mojave_15GHz_PKS1510=mojave_15GHz_PKS1510[mojave_15GHz_PKS1510['VLBA I'].notnull()]\n",
    "mojave_15GHz_PKS1510=mojave_15GHz_PKS1510[mojave_15GHz_PKS1510['VLBA Code'].notnull()]\n",
    "\n",
    "mojave_15GHz_PKS1510.columns=['Epoch', 'VLBA Code', 'VLBA I', 'VLBA P', 'VLBA percentage', 'VLBA degree',\n",
    "                            'I Image (Nat. Weight)', 'Tapered I Image',\n",
    "                            'Tapered I Image (Widefield)', 'Visibility',\n",
    "                            'Stokes I Radplot', 'Pol.','note']\n",
    "\n",
    "\n",
    "mojave_15GHz_PKS1510['mjd']=convert_mjd(mojave_15GHz_PKS1510['Epoch'])\n",
    "mojave_15GHz_PKS1510['flux']=mojave_15GHz_PKS1510['VLBA I']/1000\n",
    "mojave_15GHz_PKS1510['err']=mojave_15GHz_PKS1510['flux']*0.05\n",
    "mojave_15GHz_PKS1510=drop_index(mojave_15GHz_PKS1510)"
   ]
  },
  {
   "cell_type": "code",
   "execution_count": null,
   "metadata": {
    "ExecuteTime": {
     "end_time": "2022-08-25T03:14:25.756862Z",
     "start_time": "2022-08-25T03:14:25.729139Z"
    }
   },
   "outputs": [],
   "source": [
    "mojave_15GHz_PKS1510"
   ]
  },
  {
   "cell_type": "code",
   "execution_count": null,
   "metadata": {
    "ExecuteTime": {
     "end_time": "2022-08-25T03:15:07.964063Z",
     "start_time": "2022-08-25T03:15:07.945019Z"
    }
   },
   "outputs": [],
   "source": [
    "mojave_15GHz_PKS1510[['mjd','flux','err']].to_csv('%s/%s_VLBA_I_Jy.csv'%(root_dir,name_i),index=False)"
   ]
  },
  {
   "cell_type": "code",
   "execution_count": null,
   "metadata": {},
   "outputs": [],
   "source": []
  },
  {
   "cell_type": "code",
   "execution_count": null,
   "metadata": {
    "ExecuteTime": {
     "end_time": "2022-08-25T03:19:25.250166Z",
     "start_time": "2022-08-25T03:19:25.237857Z"
    }
   },
   "outputs": [],
   "source": [
    "mojave_15GHz_PKS1510_Pol=mojave_15GHz_PKS1510[mojave_15GHz_PKS1510['VLBA percentage'].notnull()]\n",
    "mojave_15GHz_PKS1510_Pol=drop_index(mojave_15GHz_PKS1510_Pol)\n",
    "mojave_15GHz_PKS1510_Pol['VLBA percentage error']=mojave_15GHz_PKS1510_Pol['VLBA percentage']*0.05"
   ]
  },
  {
   "cell_type": "code",
   "execution_count": null,
   "metadata": {
    "ExecuteTime": {
     "end_time": "2022-08-25T03:19:25.541684Z",
     "start_time": "2022-08-25T03:19:25.527536Z"
    }
   },
   "outputs": [],
   "source": [
    "mojave_15GHz_PKS1510_Pol[['mjd','VLBA percentage','VLBA percentage error']].to_csv('%s/%s_VLBA_Pol.csv'%(root_dir,name_i),index=False)"
   ]
  },
  {
   "cell_type": "code",
   "execution_count": null,
   "metadata": {},
   "outputs": [],
   "source": []
  },
  {
   "cell_type": "code",
   "execution_count": null,
   "metadata": {
    "ExecuteTime": {
     "end_time": "2022-08-25T03:38:01.886822Z",
     "start_time": "2022-08-25T03:38:01.863874Z"
    }
   },
   "outputs": [],
   "source": [
    "mojave_15GHz_PKS1510_Pol_PA=mojave_15GHz_PKS1510[mojave_15GHz_PKS1510['VLBA degree'].notnull()]\n",
    "mojave_15GHz_PKS1510_Pol_PA=drop_index(mojave_15GHz_PKS1510_Pol_PA)\n",
    "mojave_15GHz_PKS1510_Pol_PA['VLBA degree error']=mojave_15GHz_PKS1510_Pol_PA['VLBA degree']*0.05\n",
    "\n",
    "mojave_15GHz_PKS1510_Pol_PA[['mjd','VLBA degree','VLBA degree error']].to_csv('%s/%s_VLBA_Pol_PA.csv'%(root_dir,name_i),index=False)"
   ]
  },
  {
   "cell_type": "code",
   "execution_count": null,
   "metadata": {},
   "outputs": [],
   "source": []
  },
  {
   "cell_type": "code",
   "execution_count": null,
   "metadata": {},
   "outputs": [],
   "source": []
  },
  {
   "cell_type": "code",
   "execution_count": null,
   "metadata": {},
   "outputs": [],
   "source": []
  },
  {
   "cell_type": "code",
   "execution_count": null,
   "metadata": {
    "ExecuteTime": {
     "end_time": "2022-08-24T05:42:43.154324Z",
     "start_time": "2022-08-24T05:42:43.136951Z"
    }
   },
   "outputs": [],
   "source": [
    "import pandas as pd\n",
    "import warnings\n",
    "warnings.filterwarnings('ignore')\n",
    "df1 = pd.DataFrame({'A': ['A0', 'A1', 'A2', 'A3'],\n",
    "                    'B': ['B0', 'B1', 'B2', 'B3'],\n",
    "                    'C': ['C0', 'C1', 'C2', 'C3'],\n",
    "                    'D': ['D0', 'D1', 'D2', 'D3'],\n",
    "                    'E': ['E0', 'E1', 'E2', 'E3']\n",
    "                   })\n",
    "df2 = pd.DataFrame({ 'A': ['A4', 'A5', 'A6', 'A7'],\n",
    "                     'B': ['B4', 'B5', 'B6', 'B7'],\n",
    "                     'C': ['C4', 'C5', 'C6', 'C7'],\n",
    "                     'D': ['D4', 'D5', 'D6', 'D7'],\n",
    "                     'F': ['F4', 'F5', 'F6', 'F7']\n",
    "                   })\n"
   ]
  },
  {
   "cell_type": "code",
   "execution_count": null,
   "metadata": {
    "ExecuteTime": {
     "end_time": "2022-08-24T05:43:39.224811Z",
     "start_time": "2022-08-24T05:43:39.208591Z"
    }
   },
   "outputs": [],
   "source": [
    "pd.concat([df1,df2],ignore_index=True)"
   ]
  },
  {
   "cell_type": "code",
   "execution_count": null,
   "metadata": {
    "ExecuteTime": {
     "end_time": "2022-09-14T06:17:05.063469Z",
     "start_time": "2022-09-14T06:17:05.044237Z"
    }
   },
   "outputs": [],
   "source": [
    "pwd"
   ]
  },
  {
   "cell_type": "code",
   "execution_count": null,
   "metadata": {},
   "outputs": [],
   "source": []
  }
 ],
 "metadata": {
  "kernelspec": {
   "display_name": "Python 3 (ipykernel)",
   "language": "python",
   "name": "python3"
  },
  "language_info": {
   "codemirror_mode": {
    "name": "ipython",
    "version": 3
   },
   "file_extension": ".py",
   "mimetype": "text/x-python",
   "name": "python",
   "nbconvert_exporter": "python",
   "pygments_lexer": "ipython3",
   "version": "3.9.12"
  },
  "latex_envs": {
   "LaTeX_envs_menu_present": true,
   "autoclose": false,
   "autocomplete": true,
   "bibliofile": "biblio.bib",
   "cite_by": "apalike",
   "current_citInitial": 1,
   "eqLabelWithNumbers": true,
   "eqNumInitial": 1,
   "hotkeys": {
    "equation": "Ctrl-E",
    "itemize": "Ctrl-I"
   },
   "labels_anchors": false,
   "latex_user_defs": false,
   "report_style_numbering": false,
   "user_envs_cfg": false
  },
  "toc": {
   "base_numbering": 1,
   "nav_menu": {},
   "number_sections": true,
   "sideBar": true,
   "skip_h1_title": false,
   "title_cell": "Table of Contents",
   "title_sidebar": "Contents",
   "toc_cell": false,
   "toc_position": {
    "height": "473.273px",
    "left": "0px",
    "right": "1670.52px",
    "top": "135.711px",
    "width": "211.953px"
   },
   "toc_section_display": "block",
   "toc_window_display": true
  }
 },
 "nbformat": 4,
 "nbformat_minor": 2
}
