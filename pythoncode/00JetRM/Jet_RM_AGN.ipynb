{
 "cells": [
  {
   "cell_type": "markdown",
   "metadata": {},
   "source": [
    "# import"
   ]
  },
  {
   "cell_type": "code",
   "execution_count": 3,
   "metadata": {
    "ExecuteTime": {
     "end_time": "2022-08-26T11:52:01.408638Z",
     "start_time": "2022-08-26T11:52:00.129638Z"
    }
   },
   "outputs": [],
   "source": [
    "import matplotlib as mpl\n",
    "import matplotlib.pyplot as plt\n",
    "from pylab import cm\n",
    "\n",
    "import os\n",
    "from collections import OrderedDict\n",
    "from adjustText import adjust_text\n",
    "\n",
    "%matplotlib inline\n",
    "%config InlineBackend.figure_format='svg'\n",
    "# Edit the font, font size, and axes width\n",
    "mpl.rcParams['font.family'] = 'Avenir'\n",
    "plt.rcParams['font.size'] = 18\n",
    "plt.rcParams['axes.linewidth'] = 2"
   ]
  },
  {
   "cell_type": "code",
   "execution_count": 4,
   "metadata": {
    "ExecuteTime": {
     "end_time": "2022-08-26T11:52:01.677941Z",
     "start_time": "2022-08-26T11:52:01.410408Z"
    }
   },
   "outputs": [],
   "source": [
    "from astropy.time import Time\n",
    "from astropy.time import TimeYearDayTime\n",
    "from datetime import datetime\n",
    "from time import strftime,strptime\n",
    "import calendar\n",
    "from dateutil.parser import parse"
   ]
  },
  {
   "cell_type": "code",
   "execution_count": null,
   "metadata": {
    "ExecuteTime": {
     "end_time": "2022-08-05T01:45:07.512544Z",
     "start_time": "2022-08-05T01:45:07.144019Z"
    }
   },
   "outputs": [],
   "source": []
  },
  {
   "cell_type": "code",
   "execution_count": 5,
   "metadata": {
    "ExecuteTime": {
     "end_time": "2022-08-26T11:52:02.132362Z",
     "start_time": "2022-08-26T11:52:01.679520Z"
    }
   },
   "outputs": [],
   "source": [
    "import numpy as np\n",
    "import pandas as pd\n",
    "import os\n",
    "from astropy.table import Table"
   ]
  },
  {
   "cell_type": "code",
   "execution_count": 6,
   "metadata": {
    "ExecuteTime": {
     "end_time": "2022-08-26T11:52:02.582342Z",
     "start_time": "2022-08-26T11:52:02.134155Z"
    }
   },
   "outputs": [],
   "source": [
    "from scipy.stats import spearmanr#\n",
    "from scipy.stats.stats import pearsonr"
   ]
  },
  {
   "cell_type": "code",
   "execution_count": 7,
   "metadata": {
    "ExecuteTime": {
     "end_time": "2022-08-26T11:52:02.782640Z",
     "start_time": "2022-08-26T11:52:02.583448Z"
    }
   },
   "outputs": [],
   "source": [
    "from astropy.cosmology import FlatLambdaCDM,Planck13,Planck15,z_at_value\n",
    "from astropy import units as u\n",
    "from astropy.cosmology import LambdaCDM\n",
    "cosmo = LambdaCDM(H0=70, Om0=0.27, Ode0=0.73)\n",
    "#cosmo=FlatLambdaCDM(H0=73,Om0=0.3)"
   ]
  },
  {
   "cell_type": "code",
   "execution_count": 8,
   "metadata": {
    "ExecuteTime": {
     "end_time": "2022-08-26T11:52:02.786874Z",
     "start_time": "2022-08-26T11:52:02.783769Z"
    }
   },
   "outputs": [],
   "source": [
    "import pandas as pd\n",
    "import numpy as np\n",
    "import os\n",
    "\n",
    "def get_obsids(path):\n",
    "    dirname=os.listdir(path)\n",
    "    obsids=[]\n",
    "    for i in dirname:\n",
    "        if i.isdigit():\n",
    "            obsids.append(i)\n",
    "    obsids.sort()        \n",
    "    return obsids\n",
    "\n",
    "def drop_index(data):\n",
    "    data=data.reset_index(drop=True)\n",
    "    return data"
   ]
  },
  {
   "cell_type": "code",
   "execution_count": 9,
   "metadata": {
    "ExecuteTime": {
     "end_time": "2022-08-26T11:52:02.794023Z",
     "start_time": "2022-08-26T11:52:02.788304Z"
    }
   },
   "outputs": [],
   "source": [
    "from adjustText import adjust_text\n",
    "import matplotlib as mpl\n",
    "def set_ax_tick(ax):\n",
    "    ax.xaxis.set_tick_params(which='major', size=10, width=2, direction='in', top='on',)\n",
    "    ax.xaxis.set_tick_params(which='minor', size=5, width=2, direction='in', top='on')\n",
    "    ax.yaxis.set_tick_params(which='major', size=10, width=2, direction='in', right='on')\n",
    "    ax.yaxis.set_tick_params(which='minor', size=5, width=2, direction='in', right='on')\n",
    "\n",
    "def set_ax_locator(ax,xma=1,xmi=0.2,yma=1,ymi=0.2):\n",
    "    ax.xaxis.set_major_locator(mpl.ticker.MultipleLocator(xma))\n",
    "    ax.xaxis.set_minor_locator(mpl.ticker.MultipleLocator(xmi))\n",
    "    ax.yaxis.set_major_locator(mpl.ticker.MultipleLocator(yma))\n",
    "    ax.yaxis.set_minor_locator(mpl.ticker.MultipleLocator(ymi))\n",
    "    \n",
    "def plot_secax(ax,mi_interval=365,ma_interval=365*2,rotation=30,):\n",
    "    secax1 = ax.secondary_xaxis('top', functions=(mjd2numsdate,datenums2mjd))\n",
    "    secax1.xaxis.set_major_formatter(mdates.DateFormatter(\"%Y-%m\"))\n",
    "    secax1.xaxis.set_major_locator(mdates.DayLocator(interval=ma_interval))\n",
    "    secax1.xaxis.set_minor_locator(mdates.DayLocator(interval=mi_interval))\n",
    "    secax1.xaxis.set_tick_params(which='major', size=10, width=2, direction='out')\n",
    "    secax1.xaxis.set_tick_params(which='minor', size=5, width=2, direction='out')\n",
    "    secax1.xaxis.set_tick_params(which='major', size=10, width=2, direction='out', rotation=rotation,)    "
   ]
  },
  {
   "cell_type": "code",
   "execution_count": 10,
   "metadata": {
    "ExecuteTime": {
     "end_time": "2022-08-26T11:52:02.796867Z",
     "start_time": "2022-08-26T11:52:02.795122Z"
    }
   },
   "outputs": [],
   "source": [
    "from astropy import units as u\n",
    "from astropy import constants "
   ]
  },
  {
   "cell_type": "markdown",
   "metadata": {},
   "source": [
    "## time_convert"
   ]
  },
  {
   "cell_type": "code",
   "execution_count": 11,
   "metadata": {
    "ExecuteTime": {
     "end_time": "2022-08-26T11:52:02.806536Z",
     "start_time": "2022-08-26T11:52:02.799047Z"
    }
   },
   "outputs": [],
   "source": [
    "from astropy.time import Time\n",
    "from astropy.io import fits\n",
    "import time\n",
    "from matplotlib.pyplot import MultipleLocator\n",
    "import matplotlib.dates as mdates\n",
    "\n",
    "def datetime2mjd(x):\n",
    "    mjd_ref=59000\n",
    "    mjd_minus_mdates_num=mdates.date2num(convert_xaxis_time(mjd_ref))-mjd_ref\n",
    "    \n",
    "    x=mdates.date2num(x)\n",
    "    y = x - mjd_minus_mdates_num   \n",
    "    return y\n",
    "\n",
    "def mjd2datetime(x):\n",
    "    mjd_ref=59000\n",
    "    mjd_minus_mdates_num=mdates.date2num(convert_xaxis_time(mjd_ref))-mjd_ref\n",
    "    y= x + mjd_minus_mdates_num\n",
    "    y= mdates.num2date(y)\n",
    "    return y\n",
    "\n",
    "\n",
    "\n",
    "def datenums2mjd(x):\n",
    "    #x=mdates.date2num(x)\n",
    "    mjd_ref=59000\n",
    "    mjd_minus_mdates_num=mdates.date2num(convert_xaxis_time(mjd_ref))-mjd_ref\n",
    "    y = x - mjd_minus_mdates_num   \n",
    "    return y\n",
    "\n",
    "def mjd2numsdate(x):\n",
    "    mjd_ref=59000\n",
    "    mjd_minus_mdates_num=mdates.date2num(convert_xaxis_time(mjd_ref))-mjd_ref\n",
    "    \n",
    "    y= x + mjd_minus_mdates_num\n",
    "    #y= mdates.num2date(y)\n",
    "    return y\n",
    "\n",
    "\n",
    "def convert_xaxis_mjd(time):\n",
    "    return Time(time).mjd   \n",
    "\n",
    "def convert_xaxis_time(mjd):\n",
    "    return Time(mjd,format='mjd').to_datetime()\n",
    "\n",
    "\n",
    "def date2yday(x):\n",
    "    \"\"\"\n",
    "    x is in matplotlib datenums, so they are floats.\n",
    "    \"\"\"\n",
    "    y = x - mdates.date2num(datetime(2018, 1, 1))\n",
    "    return y\n",
    "\n",
    "def yday2date(x):\n",
    "    \"\"\"\n",
    "    return a matplotlib datenum (x is days since start of year of 2018)\n",
    "    \"\"\"\n",
    "    y = x + mdates.date2num(datetime(2018, 1, 1))\n",
    "    return y\n",
    "\n",
    "\n",
    "def convert_partial_year(numbers):\n",
    "    datetimes=[]\n",
    "    for number in numbers:\n",
    "        year = int(number)\n",
    "        d = timedelta(days=(number - year)*(365 + is_leap(year)))\n",
    "        day_one = datetime(year,1,1)\n",
    "        date = d + day_one\n",
    "        datetimes.append(date)\n",
    "    return datetimes\n",
    "\n",
    "\n",
    "def is_leap(year):\n",
    "    if not year%4 and  year%100 or not year%400:\n",
    "        return True\n",
    "    return False\n",
    "\n",
    "\n",
    "def convert_mjd(times):\n",
    "    timesmjd=[]\n",
    "    for i in times:\n",
    "        timesmjd.append(Time(i).mjd)\n",
    "    return timesmjd  \n",
    "\n",
    "\n",
    "def convert_date(times):\n",
    "    timesdate=[]\n",
    "    for i in times:\n",
    "        timesdate.append(Time(i,format='mjd').datetime)\n",
    "    return timesdate\n",
    "\n",
    "def convert_date_single(time):\n",
    "    timedate=Time(time,format='mjd').datetime\n",
    "    return timedate"
   ]
  },
  {
   "cell_type": "code",
   "execution_count": 12,
   "metadata": {
    "ExecuteTime": {
     "end_time": "2022-08-26T11:52:02.856798Z",
     "start_time": "2022-08-26T11:52:02.850797Z"
    }
   },
   "outputs": [
    {
     "data": {
      "text/plain": [
       "(datetime.datetime(2020, 6, 1, 0, 0, tzinfo=datetime.timezone.utc),\n",
       " datetime.datetime(2020, 5, 30, 0, 0, tzinfo=datetime.timezone.utc))"
      ]
     },
     "execution_count": 12,
     "metadata": {},
     "output_type": "execute_result"
    }
   ],
   "source": [
    "mjd2datetime(59001),mjd2datetime(59001-2)"
   ]
  },
  {
   "cell_type": "code",
   "execution_count": 13,
   "metadata": {
    "ExecuteTime": {
     "end_time": "2022-08-26T11:52:03.101304Z",
     "start_time": "2022-08-26T11:52:03.089779Z"
    }
   },
   "outputs": [
    {
     "data": {
      "text/plain": [
       "58999.0"
      ]
     },
     "execution_count": 13,
     "metadata": {},
     "output_type": "execute_result"
    }
   ],
   "source": [
    "datetime2mjd(datetime(2020, 5, 30, 0, 0))"
   ]
  },
  {
   "cell_type": "code",
   "execution_count": null,
   "metadata": {
    "ExecuteTime": {
     "end_time": "2022-08-05T01:44:01.705908Z",
     "start_time": "2022-08-05T01:44:01.696366Z"
    }
   },
   "outputs": [],
   "source": [
    "convert_date_single(55000),convert_date_single(57100)"
   ]
  },
  {
   "cell_type": "code",
   "execution_count": null,
   "metadata": {
    "ExecuteTime": {
     "end_time": "2022-08-05T01:44:06.140632Z",
     "start_time": "2022-08-05T01:44:06.135814Z"
    }
   },
   "outputs": [],
   "source": [
    "convert_date_single(54800),convert_date_single(57200)"
   ]
  },
  {
   "cell_type": "code",
   "execution_count": null,
   "metadata": {},
   "outputs": [],
   "source": [
    "ax.set_xlim(54800,57200)"
   ]
  },
  {
   "cell_type": "markdown",
   "metadata": {},
   "source": [
    "## MJD"
   ]
  },
  {
   "cell_type": "markdown",
   "metadata": {
    "ExecuteTime": {
     "end_time": "2022-07-18T13:07:03.800622Z",
     "start_time": "2022-07-18T13:07:03.776545Z"
    }
   },
   "source": [
    "MJD=JD-2400000.5"
   ]
  },
  {
   "cell_type": "code",
   "execution_count": null,
   "metadata": {
    "ExecuteTime": {
     "end_time": "2022-07-15T13:09:38.562724Z",
     "start_time": "2022-07-15T13:09:38.559274Z"
    }
   },
   "outputs": [],
   "source": [
    "R_BRL=551.5*u.Mpc\n",
    "print(R_BRL.to(u.lightyear))"
   ]
  },
  {
   "cell_type": "code",
   "execution_count": null,
   "metadata": {
    "ExecuteTime": {
     "end_time": "2022-07-17T12:39:36.568273Z",
     "start_time": "2022-07-17T12:39:36.561818Z"
    }
   },
   "outputs": [],
   "source": [
    "Mass_3C273=4.1e8\n",
    "Rg_3C273= constants.G*Mass_3C273*u.solMass/constants.c**2\n",
    "print(Rg_3C273.to(u.cm))"
   ]
  },
  {
   "cell_type": "code",
   "execution_count": null,
   "metadata": {
    "ExecuteTime": {
     "end_time": "2022-07-17T12:39:53.110446Z",
     "start_time": "2022-07-17T12:39:53.105667Z"
    }
   },
   "outputs": [],
   "source": [
    "z_3C273=0.158339\n",
    "d_3C273=782.7*u.Mpc"
   ]
  },
  {
   "cell_type": "code",
   "execution_count": null,
   "metadata": {
    "ExecuteTime": {
     "end_time": "2022-07-17T12:40:54.478757Z",
     "start_time": "2022-07-17T12:40:54.473996Z"
    }
   },
   "outputs": [],
   "source": [
    "190/(1+z_3C273)/365*u.lightyear.to(u.cm)/6.0541627e13"
   ]
  },
  {
   "cell_type": "code",
   "execution_count": null,
   "metadata": {
    "ExecuteTime": {
     "end_time": "2022-07-18T06:10:37.531646Z",
     "start_time": "2022-07-18T06:10:37.432415Z"
    }
   },
   "outputs": [],
   "source": []
  },
  {
   "cell_type": "markdown",
   "metadata": {},
   "source": [
    "## table_BAT150m"
   ]
  },
  {
   "cell_type": "code",
   "execution_count": null,
   "metadata": {
    "ExecuteTime": {
     "end_time": "2022-07-18T06:15:17.969932Z",
     "start_time": "2022-07-18T06:15:11.939960Z"
    }
   },
   "outputs": [],
   "source": [
    "url_BAT150m='https://science.clemson.edu/ctagn/bat-150-month-catalog/'\n",
    "table_BAT150m=pd.read_html(url_BAT150m)\n",
    "table_BAT150m[1].to_csv('/Users/brettlv/Downloads/BAT_150month_catalog.csv',index=False)\n",
    "\n",
    "url_BAT150m_data_ctagn='https://science.clemson.edu/ctagn/ctagn/'\n",
    "table_BAT150m_ctagn=pd.read_html(url_BAT150m_data_ctagn)\n",
    "table_BAT150m_ctagn[0].to_csv('/Users/brettlv/Downloads/BAT_150month_data_CTAGN.csv',index=False)\n",
    "\n",
    "url_BAT150m_data='https://science.clemson.edu/ctagn/data/'\n",
    "table_BAT150m_data=pd.read_html(url_BAT150m_data)\n",
    "table_BAT150m_data[0].to_csv('/Users/brettlv/Downloads/BAT_150month_data.csv',index=False)"
   ]
  },
  {
   "cell_type": "code",
   "execution_count": null,
   "metadata": {
    "ExecuteTime": {
     "end_time": "2022-07-18T06:17:27.480544Z",
     "start_time": "2022-07-18T06:17:13.424199Z"
    }
   },
   "outputs": [],
   "source": []
  },
  {
   "cell_type": "markdown",
   "metadata": {},
   "source": [
    "## magnitude System"
   ]
  },
  {
   "cell_type": "code",
   "execution_count": null,
   "metadata": {},
   "outputs": [],
   "source": [
    "AB magnitude System\n",
    "This magnitude system is defined such that, when monochromatic flux f is measured in erg sec^-1 cm^-2 Hz^-1,\n",
    "m(AB) = -2.5 log(f) - 48.60"
   ]
  },
  {
   "cell_type": "code",
   "execution_count": null,
   "metadata": {},
   "outputs": [],
   "source": [
    "Conversion from AB magnitudes to Johnson magnitudes:\n",
    "The following formulae convert between the AB magnitude systems and those based on Alpha Lyra:\n",
    "     V\t=  V(AB) + 0.044\t(+/- 0.004)\n",
    "     B\t=  B(AB) + 0.163\t(+/- 0.004)\n",
    "    Bj\t= Bj(AB) + 0.139\t(+/- INDEF)\n",
    "     R\t=  R(AB) +-0.055\t(+/- INDEF)\n",
    "     I\t=  I(AB) +-0.309\t(+/- INDEF)\n",
    "     g\t=  g(AB) + 0.013\t(+/- 0.002)\n",
    "     r\t=  r(AB) + 0.226\t(+/- 0.003)\n",
    "     i\t=  i(AB) + 0.296\t(+/- 0.005)\n",
    "    Rc\t= Rc(AB) +-0.117\t(+/- 0.006)\n",
    "    Ic\t= Ic(AB) +-0.342\t(+/- 0.008)\n",
    "Source: Frei & Gunn 1995"
   ]
  },
  {
   "cell_type": "markdown",
   "metadata": {},
   "source": [
    "## clip_linear_fit"
   ]
  },
  {
   "cell_type": "code",
   "execution_count": null,
   "metadata": {
    "ExecuteTime": {
     "end_time": "2022-08-05T01:51:56.055185Z",
     "start_time": "2022-08-05T01:51:56.021853Z"
    }
   },
   "outputs": [],
   "source": [
    "import numpy as np\n",
    "import matplotlib.pyplot as plt\n",
    "from astropy.stats import sigma_clip\n",
    "from astropy.modeling import models, fitting"
   ]
  },
  {
   "cell_type": "code",
   "execution_count": null,
   "metadata": {
    "ExecuteTime": {
     "end_time": "2022-07-20T14:15:20.104523Z",
     "start_time": "2022-07-20T14:15:19.229468Z"
    }
   },
   "outputs": [],
   "source": [
    "# define a model for a line\n",
    "line_orig = models.Linear1D(slope=1.0, intercept=0.5)\n",
    "\n",
    "# generate x, y data non-uniformly spaced in x\n",
    "# add noise to y measurements\n",
    "npts = 30\n",
    "np.random.seed(10)\n",
    "x = np.random.uniform(0.0, 10.0, npts)\n",
    "y = line_orig(x)\n",
    "yunc = np.absolute(np.random.normal(0.5, 2.5, npts))\n",
    "y += np.random.normal(0.0, yunc, npts)\n",
    "\n",
    "# make true outliers\n",
    "y[3] = line_orig(x[3]) + 6 * yunc[3]\n",
    "y[10] = line_orig(x[10]) - 4 * yunc[10]\n",
    "\n",
    "# initialize a linear fitter\n",
    "fit = fitting.LinearLSQFitter()\n",
    "\n",
    "# initialize the outlier removal fitter\n",
    "or_fit = fitting.FittingWithOutlierRemoval(fit, sigma_clip, niter=3, sigma=3.0)\n",
    "\n",
    "# initialize a linear model\n",
    "line_init = models.Linear1D()\n",
    "\n",
    "# fit the data with the fitter\n",
    "fitted_line, mask = or_fit(line_init, x, y, weights=1.0/yunc)\n",
    "filtered_data = np.ma.masked_array(y, mask=mask)\n",
    "\n",
    "# plot\n",
    "plt.figure()\n",
    "plt.errorbar(x, y, yerr=yunc, fmt=\"ko\", fillstyle=\"none\", label=\"Clipped Data\")\n",
    "plt.errorbar(x, filtered_data, fmt=\"ko\", label=\"Fitted Data\")\n",
    "#plt.plot(x, line_orig(x), 'b-', label='Simulation Model')\n",
    "plt.plot(x, fitted_line(x), 'k-', label='Fitted Model')\n",
    "plt.xlim(-2,12)\n",
    "plt.ylim(-5,25)\n",
    "\n",
    "plt.xlabel('x')\n",
    "plt.ylabel('y')\n",
    "plt.legend()\n",
    "plt.show()"
   ]
  },
  {
   "cell_type": "markdown",
   "metadata": {},
   "source": [
    "### fit_wu2004"
   ]
  },
  {
   "cell_type": "code",
   "execution_count": null,
   "metadata": {
    "ExecuteTime": {
     "end_time": "2022-08-04T12:02:19.955719Z",
     "start_time": "2022-08-04T12:02:19.863414Z"
    }
   },
   "outputs": [],
   "source": [
    "Wu2004_LHbeta_L5100.columns[4],Wu2004_LHbeta_L5100.columns[5]"
   ]
  },
  {
   "cell_type": "code",
   "execution_count": null,
   "metadata": {
    "ExecuteTime": {
     "end_time": "2022-07-28T11:43:26.961503Z",
     "start_time": "2022-07-28T11:43:26.859737Z"
    }
   },
   "outputs": [],
   "source": [
    "xdatas=[]\n",
    "ydatas=[]\n",
    "for i in range(len(Wu2004_LHbeta_L5100)):\n",
    "    flux_and_err=Wu2004_LHbeta_L5100.loc[i,Wu2004_LHbeta_L5100.columns[4]]\n",
    "    flux=flux_and_err.split('$\\pm$')[0]\n",
    "    err_flux=flux_and_err.split('$\\pm$')[1]   \n",
    "    \n",
    "    flux_and_err_Hbeta=Wu2004_LHbeta_L5100.loc[i,Wu2004_LHbeta_L5100.columns[5]]\n",
    "    flux_Hbeta=flux_and_err_Hbeta.split('$\\pm$')[0]\n",
    "    err_flux_Hbeta=flux_and_err_Hbeta.split('$\\pm$')[1]   \n",
    "    \n",
    "    xdatas.append(np.log10(float(flux))+42)\n",
    "                #xerr=float(err_flux),\n",
    "    ydatas.append(np.log10(float(flux_Hbeta))+42)\n",
    "    \n",
    "xdatas=np.array(xdatas)\n",
    "ydatas=np.array(ydatas)    "
   ]
  },
  {
   "cell_type": "code",
   "execution_count": null,
   "metadata": {
    "ExecuteTime": {
     "end_time": "2022-07-28T11:43:27.795646Z",
     "start_time": "2022-07-28T11:43:27.788951Z"
    }
   },
   "outputs": [],
   "source": []
  },
  {
   "cell_type": "code",
   "execution_count": null,
   "metadata": {
    "ExecuteTime": {
     "end_time": "2022-07-28T11:43:43.276579Z",
     "start_time": "2022-07-28T11:43:42.864725Z"
    }
   },
   "outputs": [],
   "source": [
    "fit = fitting.LinearLSQFitter()\n",
    "\n",
    "# initialize the outlier removal fitter\n",
    "or_fit = fitting.FittingWithOutlierRemoval(fit, sigma_clip, niter=3, sigma=3.0)\n",
    "\n",
    "# initialize a linear model\n",
    "line_init = models.Linear1D()\n",
    "\n",
    "# fit the data with the fitter\n",
    "fitted_line, mask = or_fit(line_init, xdatas, ydatas, weights=1.0/np.ones(len(xdatas)))\n",
    "filtered_data = np.ma.masked_array(ydatas, mask=mask)\n",
    "\n",
    "# plot\n",
    "plt.figure()\n",
    "plt.errorbar(xdatas, ydatas, yerr=0, fmt=\"ko\", fillstyle=\"none\", label=\"Clipped Data\")\n",
    "plt.errorbar(xdatas, filtered_data, fmt=\"ko\", label=\"Fitted Data\")\n",
    "#plt.plot(x, line_orig(x), 'b-', label='Simulation Model')\n",
    "plt.plot(xdatas, fitted_line(xdatas), 'k-', label='Fitted Model')\n",
    "#plt.xlim(-2,12)\n",
    "#plt.ylim(-5,25)\n",
    "plt.plot(xdatas, xdatas*1.02747111-3.04154998, 'r-', label='Fitted Model 1')\n",
    "\n",
    "\n",
    "plt.xlabel('x')\n",
    "plt.ylabel('y')\n",
    "plt.legend()\n",
    "plt.show()"
   ]
  },
  {
   "cell_type": "code",
   "execution_count": null,
   "metadata": {
    "ExecuteTime": {
     "end_time": "2022-07-28T11:43:49.424232Z",
     "start_time": "2022-07-28T11:43:49.416768Z"
    }
   },
   "outputs": [],
   "source": [
    "fitted_line"
   ]
  },
  {
   "cell_type": "markdown",
   "metadata": {},
   "source": [
    "### fit_3C273"
   ]
  },
  {
   "cell_type": "code",
   "execution_count": null,
   "metadata": {
    "ExecuteTime": {
     "end_time": "2022-07-28T12:40:07.725799Z",
     "start_time": "2022-07-28T12:40:07.718460Z"
    }
   },
   "outputs": [],
   "source": [
    "data_3C273_select=data_3C273[data_3C273[data_3C273.colnames[1]]>0]"
   ]
  },
  {
   "cell_type": "markdown",
   "metadata": {
    "ExecuteTime": {
     "end_time": "2022-07-28T12:40:12.172114Z",
     "start_time": "2022-07-28T12:40:12.151496Z"
    }
   },
   "source": [
    "data_3C273_select"
   ]
  },
  {
   "cell_type": "code",
   "execution_count": null,
   "metadata": {
    "ExecuteTime": {
     "end_time": "2022-07-28T12:50:07.881612Z",
     "start_time": "2022-07-28T12:50:07.873509Z"
    }
   },
   "outputs": [],
   "source": [
    "flux_label=data_3C273_select.colnames[1]\n",
    "e_flux_label=data_3C273_select.colnames[2]\n",
    "flux_label_1=data_3C273_select.colnames[3]\n",
    "e_flux_label_1=data_3C273_select.colnames[4]\n",
    "print(flux_label,e_flux_label)\n",
    "print(flux_label_1,e_flux_label_1)\n",
    "\n",
    "flux_scale_5100=4*np.pi*(D_cm_3C273.value)**2*1.0e-15\n",
    "flux_scale_Hbeta=4*np.pi*(D_cm_3C273.value)**2*1.0e-13\n",
    "\n",
    "xdatas=np.log10(data_3C273_select[flux_label]*flux_scale_5100*5100)\n",
    "ydatas =np.log10(data_3C273_select[flux_label_1]*flux_scale_Hbeta)\n",
    "\n",
    "xdatas=np.array(xdatas)\n",
    "ydatas=np.array(ydatas)"
   ]
  },
  {
   "cell_type": "code",
   "execution_count": null,
   "metadata": {
    "ExecuteTime": {
     "end_time": "2022-07-28T14:13:00.155701Z",
     "start_time": "2022-07-28T14:13:00.145773Z"
    }
   },
   "outputs": [],
   "source": [
    "x=np.log10(data_3C273_select[flux_label]*flux_scale_5100*5100)\n",
    "y=np.log10(data_3C273_select[flux_label_1]*flux_scale_Hbeta)\n",
    "spearmanr(x,y),pearsonr(x,y)"
   ]
  },
  {
   "cell_type": "code",
   "execution_count": null,
   "metadata": {
    "ExecuteTime": {
     "end_time": "2022-07-28T12:50:15.890870Z",
     "start_time": "2022-07-28T12:50:15.648228Z"
    }
   },
   "outputs": [],
   "source": [
    "fit = fitting.LinearLSQFitter()\n",
    "\n",
    "# initialize the outlier removal fitter\n",
    "or_fit = fitting.FittingWithOutlierRemoval(fit, sigma_clip, niter=3, sigma=3.0)\n",
    "\n",
    "# initialize a linear model\n",
    "line_init = models.Linear1D()\n",
    "\n",
    "# fit the data with the fitter\n",
    "fitted_line_3C273, mask = or_fit(line_init, xdatas, ydatas, weights=1.0/np.ones(len(xdatas)))\n",
    "filtered_data = np.ma.masked_array(ydatas, mask=mask)\n",
    "\n",
    "# plot\n",
    "plt.figure()\n",
    "plt.errorbar(xdatas, ydatas, yerr=0, fmt=\"ko\", fillstyle=\"none\", label=\"Clipped Data\")\n",
    "plt.errorbar(xdatas, filtered_data, fmt=\"ko\", label=\"Fitted Data\")\n",
    "#plt.plot(x, line_orig(x), 'b-', label='Simulation Model')\n",
    "plt.plot(xdatas, fitted_line_3C273(xdatas), 'k-', label='Fitted Model')\n",
    "#plt.xlim(-2,12)\n",
    "#plt.ylim(-5,25)\n",
    "#plt.plot(xdatas, xdatas*1.02747111-3.04154998, 'r-', label='Fitted Model 1')\n",
    "\n",
    "\n",
    "plt.xlabel('x')\n",
    "plt.ylabel('y')\n",
    "plt.legend()\n",
    "plt.show()"
   ]
  },
  {
   "cell_type": "code",
   "execution_count": null,
   "metadata": {
    "ExecuteTime": {
     "end_time": "2022-07-28T12:42:17.546322Z",
     "start_time": "2022-07-28T12:42:17.541306Z"
    }
   },
   "outputs": [],
   "source": [
    "fitted_line_3C273"
   ]
  },
  {
   "cell_type": "markdown",
   "metadata": {},
   "source": [
    "### fit_PKS1510"
   ]
  },
  {
   "cell_type": "markdown",
   "metadata": {
    "ExecuteTime": {
     "end_time": "2022-07-28T14:18:40.310565Z",
     "start_time": "2022-07-28T14:18:40.297900Z"
    }
   },
   "source": [
    "data_PKS1510"
   ]
  },
  {
   "cell_type": "code",
   "execution_count": null,
   "metadata": {
    "ExecuteTime": {
     "end_time": "2022-07-28T14:20:03.863724Z",
     "start_time": "2022-07-28T14:20:03.860309Z"
    }
   },
   "outputs": [],
   "source": [
    "xdatas=np.log10(np.array(data_PKS1510[flux_label_PKS1510])*flux_scale_5100_PKS1510*5100)\n",
    "ydatas=np.log10(np.array(data_PKS1510[flux_label_1_PKS1510])*flux_scale_Hbeta_PKS1510)"
   ]
  },
  {
   "cell_type": "code",
   "execution_count": null,
   "metadata": {
    "ExecuteTime": {
     "end_time": "2022-07-28T14:20:04.307446Z",
     "start_time": "2022-07-28T14:20:04.302955Z"
    }
   },
   "outputs": [],
   "source": [
    "len(xdatas),len(ydatas)"
   ]
  },
  {
   "cell_type": "code",
   "execution_count": null,
   "metadata": {
    "ExecuteTime": {
     "end_time": "2022-07-28T14:20:13.483356Z",
     "start_time": "2022-07-28T14:20:13.212950Z"
    }
   },
   "outputs": [],
   "source": [
    "fit = fitting.LinearLSQFitter()\n",
    "\n",
    "# initialize the outlier removal fitter\n",
    "or_fit = fitting.FittingWithOutlierRemoval(fit, sigma_clip, niter=3, sigma=3.0)\n",
    "\n",
    "# initialize a linear model\n",
    "line_init = models.Linear1D()\n",
    "\n",
    "# fit the data with the fitter\n",
    "fitted_line_PKS1510, mask = or_fit(line_init, xdatas, ydatas, weights=1.0/np.ones(len(xdatas)))\n",
    "filtered_data = np.ma.masked_array(ydatas, mask=mask)\n",
    "\n",
    "# plot\n",
    "plt.figure()\n",
    "plt.errorbar(xdatas, ydatas, yerr=0, fmt=\"ko\", fillstyle=\"none\", label=\"Clipped Data\")\n",
    "plt.errorbar(xdatas, filtered_data, fmt=\"ko\", label=\"Fitted Data\")\n",
    "#plt.plot(x, line_orig(x), 'b-', label='Simulation Model')\n",
    "plt.plot(xdatas, fitted_line_PKS1510(xdatas), 'k-', label='Fitted Model')\n",
    "#plt.xlim(-2,12)\n",
    "#plt.ylim(-5,25)\n",
    "#plt.plot(xdatas, xdatas*1.02747111-3.04154998, 'r-', label='Fitted Model 1')\n",
    "\n",
    "\n",
    "plt.xlabel('x')\n",
    "plt.ylabel('y')\n",
    "plt.legend()\n",
    "plt.show()    "
   ]
  },
  {
   "cell_type": "code",
   "execution_count": null,
   "metadata": {
    "ExecuteTime": {
     "end_time": "2022-07-28T14:21:04.941363Z",
     "start_time": "2022-07-28T14:21:04.934497Z"
    }
   },
   "outputs": [],
   "source": [
    "spearmanr(xdatas,ydatas),pearsonr(xdatas,ydatas)"
   ]
  },
  {
   "cell_type": "code",
   "execution_count": null,
   "metadata": {
    "ExecuteTime": {
     "end_time": "2022-07-28T14:20:20.620421Z",
     "start_time": "2022-07-28T14:20:20.614877Z"
    }
   },
   "outputs": [],
   "source": [
    "fitted_line_PKS1510"
   ]
  },
  {
   "cell_type": "code",
   "execution_count": null,
   "metadata": {},
   "outputs": [],
   "source": []
  },
  {
   "cell_type": "markdown",
   "metadata": {},
   "source": [
    "# root_dir "
   ]
  },
  {
   "cell_type": "code",
   "execution_count": 14,
   "metadata": {
    "ExecuteTime": {
     "end_time": "2022-08-26T11:52:06.771910Z",
     "start_time": "2022-08-26T11:52:06.762588Z"
    }
   },
   "outputs": [],
   "source": [
    "#root_dir='/Users/brettlv/Downloads/Fermi_AGN_optical_monitoring_program_at_Steward_Observatory/'\n",
    "#root_data_dir='/Users/brettlv/Downloads/Fermi_AGN_optical_monitoring_program_at_Steward_Observatory/Sources/'\n",
    "#Rphot_dir='/Users/brettlv/Downloads/Fermi_AGN_optical_monitoring_program_at_Steward_Observatory/Rphot/'\n",
    "\n",
    "root_dir='/Volumes/ExtremeSSD/00PKU_SCI/Fermi_AGN_optical_monitoring_program_at_Steward_Observatory/'\n",
    "root_data_dir='/Volumes/ExtremeSSD/00PKU_SCI/Fermi_AGN_optical_monitoring_program_at_Steward_Observatory/Sources/'\n",
    "Rphot_dir='/Volumes/ExtremeSSD/00PKU_SCI/Fermi_AGN_optical_monitoring_program_at_Steward_Observatory/Rphot/'\n",
    "\n",
    "\n",
    "\n",
    "lag_data_dir='/Volumes/ExtremeSSD/00PKU_SCI/FermiAGN_lag/lag_data'\n",
    "data_dir_3C273='/Volumes/ExtremeSSD/00PKU_SCI/FermiAGN_lag/lag_data/A 10yr reverberation mapping campaign for 3C273——J_ApJ_876_49/'\n",
    "data_3C273_dir_mojave='/Volumes/ExtremeSSD/data_source/data_AGN/3C273/3C273/'"
   ]
  },
  {
   "cell_type": "code",
   "execution_count": null,
   "metadata": {},
   "outputs": [],
   "source": []
  },
  {
   "cell_type": "code",
   "execution_count": null,
   "metadata": {},
   "outputs": [],
   "source": []
  },
  {
   "cell_type": "code",
   "execution_count": null,
   "metadata": {
    "ExecuteTime": {
     "end_time": "2022-08-17T12:03:33.824037Z",
     "start_time": "2022-08-17T12:03:33.560487Z"
    }
   },
   "outputs": [],
   "source": [
    "!open /Volumes/ExtremeSSD/data_source/data_AGN/3C273/3C273/"
   ]
  },
  {
   "cell_type": "markdown",
   "metadata": {},
   "source": [
    "# Sources"
   ]
  },
  {
   "cell_type": "code",
   "execution_count": null,
   "metadata": {
    "ExecuteTime": {
     "end_time": "2022-08-05T01:52:15.999419Z",
     "start_time": "2022-08-05T01:52:15.530606Z"
    }
   },
   "outputs": [],
   "source": [
    "Fermi_AGN_list=pd.read_excel('%s/FermiAGN_namelist_ned.xlsx'%root_dir,header=0,skiprows=[1,2])\n",
    "Fermi_AGN_list_name_redshift=Fermi_AGN_list[['      Input Object Name       ',' Redshift ']]\n",
    "\n",
    "for i in range(len(Fermi_AGN_list_name_redshift)):\n",
    "    if isinstance(Fermi_AGN_list_name_redshift.iloc[i][1],(int,float)):\n",
    "        \n",
    "        Fermi_AGN_list_name_redshift.loc[i,'z_value']=Fermi_AGN_list_name_redshift.iloc[i][1]\n",
    "    else:\n",
    "        Fermi_AGN_list_name_redshift.loc[i,'z_value']=0\n",
    "        \n",
    "Fermi_AGN_list_name_redshift_T=Fermi_AGN_list_name_redshift[Fermi_AGN_list_name_redshift['z_value']>0]\n",
    "Fermi_AGN_list_name_redshift_T=drop_index(Fermi_AGN_list_name_redshift_T)        "
   ]
  },
  {
   "cell_type": "code",
   "execution_count": null,
   "metadata": {
    "ExecuteTime": {
     "end_time": "2022-08-05T01:54:06.614959Z",
     "start_time": "2022-08-05T01:54:06.612216Z"
    }
   },
   "outputs": [],
   "source": [
    "sources_individual_url='http://james.as.arizona.edu/~psmith/Fermi/DATA/individual.html'"
   ]
  },
  {
   "cell_type": "code",
   "execution_count": null,
   "metadata": {
    "ExecuteTime": {
     "end_time": "2022-08-05T01:54:08.670508Z",
     "start_time": "2022-08-05T01:54:07.275093Z"
    },
    "scrolled": false
   },
   "outputs": [],
   "source": [
    "import requests\n",
    "r=requests.get(sources_individual_url)\n",
    "demo=r.text\n",
    "\n",
    "\n",
    "from bs4 import BeautifulSoup\n",
    "\n",
    "sources_individual=[]\n",
    "soup=BeautifulSoup(demo,\"html.parser\")\n",
    "for link in soup.find_all('a'):\n",
    "    if link.get('href'):\n",
    "        if link.get('href').startswith('Objects'):\n",
    "            name_i=link.get('href')[8:-5]\n",
    "            if name_i not in sources_individual:\n",
    "                sources_individual.append(name_i)\n",
    "                #print(name_i)"
   ]
  },
  {
   "cell_type": "code",
   "execution_count": null,
   "metadata": {
    "ExecuteTime": {
     "end_time": "2022-08-05T01:54:09.484553Z",
     "start_time": "2022-08-05T01:54:08.821400Z"
    }
   },
   "outputs": [],
   "source": [
    "import requests\n",
    "from bs4 import BeautifulSoup\n",
    "\n",
    "r=requests.get(sources_individual_url)\n",
    "demo=r.text\n",
    "\n",
    "\n",
    "sources_individual_Name=[]\n",
    "soup=BeautifulSoup(demo,\"html.parser\")\n",
    "for link in soup.find_all('a'):\n",
    "    if link.get('href'):\n",
    "        if link.get('href').startswith('Objects'):\n",
    "            #name_i=link.get('href')[8:-5]\n",
    "            Name_i=link.get_text()\n",
    "            if Name_i not in sources_individual:\n",
    "                sources_individual_Name.append(Name_i)\n",
    "                #print(Name_i)"
   ]
  },
  {
   "cell_type": "code",
   "execution_count": null,
   "metadata": {
    "ExecuteTime": {
     "end_time": "2022-08-05T01:54:12.576167Z",
     "start_time": "2022-08-05T01:54:12.573138Z"
    }
   },
   "outputs": [],
   "source": [
    "Source_Name_dict = dict(zip(sources_individual,sources_individual_Name))\n",
    "\n",
    "Source_name_dict = dict(zip(sources_individual_Name,sources_individual))"
   ]
  },
  {
   "cell_type": "code",
   "execution_count": null,
   "metadata": {
    "ExecuteTime": {
     "end_time": "2022-07-28T03:32:57.832665Z",
     "start_time": "2022-07-28T03:32:57.824686Z"
    }
   },
   "outputs": [],
   "source": [
    "Source_Name_dict "
   ]
  },
  {
   "cell_type": "code",
   "execution_count": null,
   "metadata": {
    "ExecuteTime": {
     "end_time": "2022-08-05T01:54:17.049510Z",
     "start_time": "2022-08-05T01:54:17.040795Z"
    }
   },
   "outputs": [],
   "source": [
    "from __future__ import unicode_literals\n",
    "import json\n",
    "import numpy as np\n",
    "import pickle\n",
    "\n",
    "class JsonEncoder(json.JSONEncoder):\n",
    "\n",
    "    def default(self, obj):\n",
    "        if isinstance(obj, np.integer):\n",
    "            return int(obj)\n",
    "        elif isinstance(obj, np.floating):\n",
    "            return float(obj)\n",
    "        elif isinstance(obj, np.ndarray):\n",
    "            return obj.tolist()\n",
    "        #elif isinstance(obj, datetime):                                 \n",
    "            #return obj.__str__()\n",
    "        else:\n",
    "            return super(JsonEncoder, self).default(obj)\n",
    "'''————————————————\n",
    "版权声明：本文为CSDN博主「疯狂的小猪oO」的原创文章，遵循CC 4.0 BY-SA版权协议，转载请附上原文出处链接及本声明。\n",
    "原文链接：https://blog.csdn.net/u014657795/article/details/85868413\n",
    "'''    \n",
    "\n"
   ]
  },
  {
   "cell_type": "markdown",
   "metadata": {},
   "source": [
    "## load local Source_name_dict"
   ]
  },
  {
   "cell_type": "markdown",
   "metadata": {
    "ExecuteTime": {
     "end_time": "2022-08-05T01:54:21.762110Z",
     "start_time": "2022-08-05T01:54:21.758454Z"
    }
   },
   "source": [
    "import json\n",
    "import numpy as np\n",
    "import pickle\n",
    "\n",
    "with open(\"Source_Name_dict_pickle.json\", \"wb\") as f:# writr dict\n",
    "    pickle.dump(Source_Name_dict , f,pickle.HIGHEST_PROTOCOL)\n"
   ]
  },
  {
   "cell_type": "code",
   "execution_count": null,
   "metadata": {
    "ExecuteTime": {
     "end_time": "2022-08-05T01:54:24.635269Z",
     "start_time": "2022-08-05T01:54:24.631948Z"
    }
   },
   "outputs": [],
   "source": [
    "with open('Source_Name_dict_pickle.json', \"rb\") as f:# load dict\n",
    "    Source_Name_dict_load_pickle = pickle.load(f)"
   ]
  },
  {
   "cell_type": "code",
   "execution_count": null,
   "metadata": {
    "ExecuteTime": {
     "end_time": "2022-08-05T01:54:33.131009Z",
     "start_time": "2022-08-05T01:54:33.127954Z"
    }
   },
   "outputs": [],
   "source": [
    "Source_Name_dict_load_pickle_Name2url  = dict(zip(Source_Name_dict_load_pickle .values(), Source_Name_dict_load_pickle .keys())) "
   ]
  },
  {
   "cell_type": "markdown",
   "metadata": {
    "ExecuteTime": {
     "end_time": "2022-08-05T01:54:41.254129Z",
     "start_time": "2022-08-05T01:54:41.248384Z"
    }
   },
   "source": [
    "Source_Name_dict_load_pickle "
   ]
  },
  {
   "cell_type": "code",
   "execution_count": null,
   "metadata": {
    "ExecuteTime": {
     "end_time": "2022-08-04T02:37:54.609540Z",
     "start_time": "2022-08-04T02:37:54.572598Z"
    }
   },
   "outputs": [],
   "source": [
    "Source_Name_dict_load_pickle_Name2url"
   ]
  },
  {
   "cell_type": "code",
   "execution_count": null,
   "metadata": {
    "ExecuteTime": {
     "end_time": "2022-08-04T02:43:46.646269Z",
     "start_time": "2022-08-04T02:43:46.633577Z"
    }
   },
   "outputs": [],
   "source": [
    "'%.3e'%10**9.06"
   ]
  },
  {
   "cell_type": "code",
   "execution_count": null,
   "metadata": {},
   "outputs": [],
   "source": []
  },
  {
   "cell_type": "code",
   "execution_count": null,
   "metadata": {},
   "outputs": [],
   "source": []
  },
  {
   "cell_type": "markdown",
   "metadata": {},
   "source": [
    "# 3C 273"
   ]
  },
  {
   "cell_type": "markdown",
   "metadata": {},
   "source": [
    "## Zhangzhixiang 2019"
   ]
  },
  {
   "cell_type": "code",
   "execution_count": null,
   "metadata": {
    "ExecuteTime": {
     "end_time": "2022-07-22T14:34:55.926339Z",
     "start_time": "2022-07-22T14:34:55.757242Z"
    }
   },
   "outputs": [],
   "source": [
    "cat '/Volumes/ExtremeSSD/00PKU_SCI/FermiAGN_lag/lag_data/A 10yr reverberation mapping campaign for 3C273——J_ApJ_876_49/ReadMe'"
   ]
  },
  {
   "cell_type": "code",
   "execution_count": null,
   "metadata": {
    "ExecuteTime": {
     "end_time": "2022-08-05T01:55:10.155684Z",
     "start_time": "2022-08-05T01:55:09.964488Z"
    }
   },
   "outputs": [],
   "source": [
    "table_3C273_path=os.path.join(data_dir_3C273,'table1.dat')\n",
    "readme_3C273_path=os.path.join(data_dir_3C273,'ReadMe')\n",
    "data_3C273=Table.read(table_3C273_path,\n",
    "                      readme=readme_3C273_path,\n",
    "                      format=\"ascii.cds\",)"
   ]
  },
  {
   "cell_type": "code",
   "execution_count": null,
   "metadata": {
    "ExecuteTime": {
     "end_time": "2022-08-05T04:45:03.275242Z",
     "start_time": "2022-08-05T04:45:03.263765Z"
    }
   },
   "outputs": [],
   "source": [
    "data_3C273['mjd1']=data_3C273['JD1']-2400000.5"
   ]
  },
  {
   "cell_type": "code",
   "execution_count": null,
   "metadata": {
    "ExecuteTime": {
     "end_time": "2022-08-05T02:03:39.397967Z",
     "start_time": "2022-08-05T02:03:39.393278Z"
    }
   },
   "outputs": [],
   "source": [
    "data_3C273.colnames"
   ]
  },
  {
   "cell_type": "code",
   "execution_count": null,
   "metadata": {
    "ExecuteTime": {
     "end_time": "2022-07-28T03:31:36.100708Z",
     "start_time": "2022-07-28T03:31:36.092996Z"
    }
   },
   "outputs": [],
   "source": [
    "readme_3C273_path"
   ]
  },
  {
   "cell_type": "code",
   "execution_count": null,
   "metadata": {
    "ExecuteTime": {
     "end_time": "2022-07-28T03:31:38.395637Z",
     "start_time": "2022-07-28T03:31:38.301110Z"
    }
   },
   "outputs": [],
   "source": [
    "min(data_3C273[data_3C273.colnames[1]]),max(data_3C273[data_3C273.colnames[1]])"
   ]
  },
  {
   "cell_type": "code",
   "execution_count": null,
   "metadata": {
    "ExecuteTime": {
     "end_time": "2022-07-28T03:31:45.122950Z",
     "start_time": "2022-07-28T03:31:44.994013Z"
    }
   },
   "outputs": [],
   "source": [
    "min(data_3C273[data_3C273.colnames[3]]),max(data_3C273[data_3C273.colnames[3]])"
   ]
  },
  {
   "cell_type": "markdown",
   "metadata": {
    "ExecuteTime": {
     "end_time": "2022-07-22T13:39:53.738598Z",
     "start_time": "2022-07-22T13:39:53.725442Z"
    }
   },
   "source": [
    "## Liyanrong_decomposition"
   ]
  },
  {
   "cell_type": "code",
   "execution_count": null,
   "metadata": {
    "ExecuteTime": {
     "end_time": "2022-08-11T12:48:22.798538Z",
     "start_time": "2022-08-11T12:48:22.769775Z"
    }
   },
   "outputs": [],
   "source": [
    "Jet3C273_decomp=pd.read_csv('/Volumes/ExtremeSSD/00PKU_SCI/FermiAGN_lag/lag_data/3C273_jet.txt',header=None,delimiter='\\s')\n",
    "Disk3C273_decomp=pd.read_csv('/Volumes/ExtremeSSD/00PKU_SCI/FermiAGN_lag/lag_data/3C273_disk.txt',header=None,delimiter='\\s')\n"
   ]
  },
  {
   "cell_type": "code",
   "execution_count": null,
   "metadata": {
    "ExecuteTime": {
     "end_time": "2022-08-11T12:48:23.794904Z",
     "start_time": "2022-08-11T12:48:23.791468Z"
    }
   },
   "outputs": [],
   "source": [
    "Jet3C273_decomp.columns=['JD-2450000','Jetflux_V','err_Jetflux_V']\n",
    "Disk3C273_decomp.columns=['JD-2450000','Diskflux_V','err_Diskflux_V']\n"
   ]
  },
  {
   "cell_type": "code",
   "execution_count": null,
   "metadata": {
    "ExecuteTime": {
     "end_time": "2022-08-11T12:48:41.621148Z",
     "start_time": "2022-08-11T12:48:41.609573Z"
    }
   },
   "outputs": [],
   "source": [
    "Jet3C273_decomp['mjd']=Jet3C273_decomp['JD-2450000']+50000-0.5\n",
    "Disk3C273_decomp['mjd']=Disk3C273_decomp['JD-2450000']+50000-0.5"
   ]
  },
  {
   "cell_type": "code",
   "execution_count": null,
   "metadata": {
    "ExecuteTime": {
     "end_time": "2022-08-11T12:48:42.911503Z",
     "start_time": "2022-08-11T12:48:42.888150Z"
    }
   },
   "outputs": [],
   "source": [
    "Disk3C273_decomp"
   ]
  },
  {
   "cell_type": "code",
   "execution_count": null,
   "metadata": {
    "ExecuteTime": {
     "end_time": "2022-08-11T12:48:47.758889Z",
     "start_time": "2022-08-11T12:48:47.744169Z"
    }
   },
   "outputs": [],
   "source": [
    "Jet3C273_decomp"
   ]
  },
  {
   "cell_type": "markdown",
   "metadata": {},
   "source": [
    "### plot_decomp"
   ]
  },
  {
   "cell_type": "code",
   "execution_count": null,
   "metadata": {
    "ExecuteTime": {
     "end_time": "2022-08-11T12:59:26.589223Z",
     "start_time": "2022-08-11T12:59:22.166178Z"
    }
   },
   "outputs": [],
   "source": [
    "fig, ax = plt.subplots(1, 1,figsize=(8*1.5,6*1.5))\n",
    "\n",
    "'''for i in range(len(table_ATCA_3C273_5GHz)):\n",
    "    flux_and_err=table_ATCA_3C273_5GHz.loc[i,'Flux Density (Jy)']\n",
    "    flux=flux_and_err.split('±')[0]\n",
    "    err_flux=flux_and_err.split('±')[1]   \n",
    "    ax.errorbar(table_ATCA_3C273_5GHz.loc[i,'mjd'],float(flux),float(err_flux),\n",
    "              ls=':',marker='.',markersize=10,color='r',label='VLA 5GHz')\n",
    "'''\n",
    "\n",
    "ax.errorbar(mojave_15GHz_3c273['mjd'],mojave_15GHz_3c273['flux'],#*1.2,\n",
    "            fmt='.',label='VLBA_15GHz')\n",
    "\n",
    "ax.errorbar(ovro_40m_3C273['mjd'],ovro_40m_3C273['flux'],ovro_40m_3C273['flux err'],\n",
    "            fmt='.',label='OVRO_15GHz')\n",
    "    \n",
    "\n",
    "set_ax_tick(ax) \n",
    "ax.set_title('3C 273')\n",
    "ax.set_xlabel(r'MJD(d)')\n",
    "ax.set_ylabel(r'Flux')\n",
    "\n",
    "\n",
    "ax.xaxis.set_tick_params(which='major', size=10, width=2, rotation=0,)\n",
    "handles, labels = ax.get_legend_handles_labels()\n",
    "# remove the errorbars\n",
    "#hdl = [h[0] for h in handles]\n",
    "hdl = handles\n",
    "labels_dict=dict(zip(labels, hdl)) #key,values\n",
    "by_label=OrderedDict(sorted(labels_dict.items(),key=lambda t:t[0]))\n",
    "#by_label = OrderedDict(zip(labels, handles))\n",
    "\n",
    "ax.legend(by_label.values(), by_label.keys(), bbox_to_anchor=(0.0, 0.99),\n",
    "          loc=2, numpoints=1,ncol=1,fontsize=11.)\n",
    "\n",
    "\n",
    "ax2=ax.twinx()\n",
    "#ax2.errorbar(data_3C273['JD1']-2400000.5,data_3C273['F5100'],label='5100')\n",
    "#ax2.errorbar(data_3C273['JD1']-2400000.5,data_3C273['FHbeta'],label='Hbeta')\n",
    "ax2.errorbar(Disk3C273_decomp['mjd'],\n",
    "            Disk3C273_decomp['Diskflux_V'],\n",
    "            yerr=Disk3C273_decomp['err_Diskflux_V'],\n",
    "                            label='Disk_decomp')\n",
    "\n",
    "ax2.errorbar(Jet3C273_decomp['mjd'],Jet3C273_decomp['Jetflux_V'],\n",
    "            yerr=Jet3C273_decomp['err_Jetflux_V'],label='Jet_decomp')\n",
    "\n",
    "\n",
    "ax2.xaxis.set_tick_params(which='major', size=10, width=2, rotation=0,)\n",
    "handles, labels = ax2.get_legend_handles_labels()\n",
    "# remove the errorbars\n",
    "#hdl = [h[0] for h in handles]\n",
    "hdl = handles\n",
    "labels_dict=dict(zip(labels, hdl)) #key,values\n",
    "by_label=OrderedDict(sorted(labels_dict.items(),key=lambda t:t[0]))\n",
    "#by_label = OrderedDict(zip(labels, handles))\n",
    "\n",
    "ax2.legend(by_label.values(), by_label.keys(), bbox_to_anchor=(0.79, 0.99),\n",
    "          loc=2, numpoints=1,ncol=1,fontsize=11.)\n",
    "\n",
    "plot_secax(ax,mi_interval=365,ma_interval=365*2,rotation=30)    \n",
    "fig.tight_layout()\n",
    "\n",
    "range_l,range_r=(55000-200,59250)\n",
    "ax.set_xlim(range_l,range_r)\n",
    "plt.savefig('/Users/brettlv/Downloads/3C273_decomp_lc_radio_optical_%d_%d.png'%(range_l,range_r),dpi=400)\n"
   ]
  },
  {
   "cell_type": "code",
   "execution_count": null,
   "metadata": {
    "ExecuteTime": {
     "end_time": "2022-08-05T06:11:47.446254Z",
     "start_time": "2022-08-05T06:11:47.427716Z"
    }
   },
   "outputs": [],
   "source": [
    "Disk3C273_decomp.columns"
   ]
  },
  {
   "cell_type": "code",
   "execution_count": null,
   "metadata": {
    "ExecuteTime": {
     "end_time": "2022-08-05T06:11:52.699525Z",
     "start_time": "2022-08-05T06:11:52.695083Z"
    }
   },
   "outputs": [],
   "source": [
    "Jet3C273_decomp.columns"
   ]
  },
  {
   "cell_type": "code",
   "execution_count": null,
   "metadata": {},
   "outputs": [],
   "source": []
  },
  {
   "cell_type": "code",
   "execution_count": null,
   "metadata": {},
   "outputs": [],
   "source": []
  },
  {
   "cell_type": "markdown",
   "metadata": {},
   "source": [
    "## info_3C273"
   ]
  },
  {
   "cell_type": "code",
   "execution_count": null,
   "metadata": {
    "ExecuteTime": {
     "end_time": "2022-08-05T01:55:15.902739Z",
     "start_time": "2022-08-05T01:55:15.893462Z"
    }
   },
   "outputs": [],
   "source": [
    "source_Name='3C 273'\n",
    "source_name=Source_name_dict[source_Name]\n",
    "source_z=Fermi_AGN_list_name_redshift_T[Fermi_AGN_list_name_redshift_T['      Input Object Name       '].str.strip()==source_Name]['z_value']\n",
    "D_cm_3C273=cosmo.luminosity_distance(source_z.values[0]).to(u.cm)"
   ]
  },
  {
   "cell_type": "markdown",
   "metadata": {},
   "source": [
    "## flux_scale_zhang3c273"
   ]
  },
  {
   "cell_type": "code",
   "execution_count": null,
   "metadata": {
    "ExecuteTime": {
     "end_time": "2022-08-05T02:10:12.274393Z",
     "start_time": "2022-08-05T02:10:12.271129Z"
    }
   },
   "outputs": [],
   "source": [
    "flux_scale_5100=4*np.pi*(D_cm_3C273.value)**2*1.0e-15\n",
    "flux_scale_Hbeta=4*np.pi*(D_cm_3C273.value)**2*1.0e-13"
   ]
  },
  {
   "cell_type": "code",
   "execution_count": null,
   "metadata": {
    "ExecuteTime": {
     "end_time": "2022-08-05T02:10:16.559407Z",
     "start_time": "2022-08-05T02:10:16.555712Z"
    }
   },
   "outputs": [],
   "source": [
    "D_cm_3C273.value"
   ]
  },
  {
   "cell_type": "markdown",
   "metadata": {},
   "source": [
    "log H 1.126 0.004 log 5100 6.89 0.20 L L ()( ) ( )( ) a =  +-  ( ) 5\n",
    "log H 0.947 0.002 log 5100 0.45 0.09 , L L ()( ) ( )( ) b =  +-  ( )"
   ]
  },
  {
   "cell_type": "markdown",
   "metadata": {},
   "source": [
    "## Wu2004load L5100_LHbeta"
   ]
  },
  {
   "cell_type": "code",
   "execution_count": null,
   "metadata": {
    "ExecuteTime": {
     "end_time": "2022-08-05T01:55:25.080141Z",
     "start_time": "2022-08-05T01:55:25.069106Z"
    }
   },
   "outputs": [],
   "source": [
    "Wu2004_LHbeta_L5100=pd.read_csv('/Users/brettlv/Downloads/JetRM_plot/Wu2004_LHbeta_L5100.py',delimiter='&')#SMA"
   ]
  },
  {
   "cell_type": "code",
   "execution_count": null,
   "metadata": {
    "ExecuteTime": {
     "end_time": "2022-07-28T03:32:27.975428Z",
     "start_time": "2022-07-28T03:32:27.964362Z"
    }
   },
   "outputs": [],
   "source": [
    "Wu2004_LHbeta_L5100.iloc[0]#.columns"
   ]
  },
  {
   "cell_type": "markdown",
   "metadata": {
    "ExecuteTime": {
     "end_time": "2022-07-28T03:32:28.441816Z",
     "start_time": "2022-07-28T03:32:28.434640Z"
    }
   },
   "source": [
    "12- 16 F5.2   10-17W/m2/nm   F5100    [14/24.1]? Continuum flux at 5100{AA},\n",
    "                                        in 10^-15^erg/s/cm^2^/{AA}\n",
    "18- 21 F4.2   10-17W/m2/nm e_F5100    [0.2/0.3]? Uncertainty in F5100\n",
    "23- 27 F5.2   10-16W/m2      FHbeta   [15.5/19.7]? H{beta} emission-line flux,\n",
    "                                        in 10^-13^erg/s/cm^2^\n",
    "29- 32 F4.2   10-16W/m2    e_FHbeta   [0.15/0.3]? Uncertainty in FHbeta"
   ]
  },
  {
   "cell_type": "code",
   "execution_count": null,
   "metadata": {
    "ExecuteTime": {
     "end_time": "2022-07-28T11:44:51.252120Z",
     "start_time": "2022-07-28T11:44:51.246694Z"
    }
   },
   "outputs": [],
   "source": [
    "fitted_line"
   ]
  },
  {
   "cell_type": "markdown",
   "metadata": {},
   "source": [
    "## plot LHbeta-L5100"
   ]
  },
  {
   "cell_type": "code",
   "execution_count": null,
   "metadata": {
    "ExecuteTime": {
     "end_time": "2022-07-28T12:32:03.358438Z",
     "start_time": "2022-07-28T12:32:02.300391Z"
    }
   },
   "outputs": [],
   "source": [
    "fig, ax = plt.subplots(1, 1,figsize=(6,6))\n",
    "\n",
    "'''for i in range(len(Wu2004_LHbeta_L5100)):\n",
    "    flux_and_err=Wu2004_LHbeta_L5100.loc[i,Wu2004_LHbeta_L5100.columns[4]]\n",
    "    flux=flux_and_err.split('$\\pm$')[0]\n",
    "    err_flux=flux_and_err.split('$\\pm$')[1]   \n",
    "    \n",
    "    flux_and_err_Hbeta=Wu2004_LHbeta_L5100.loc[i,Wu2004_LHbeta_L5100.columns[5]]\n",
    "    flux_Hbeta=flux_and_err_Hbeta.split('$\\pm$')[0]\n",
    "    err_flux_Hbeta=flux_and_err_Hbeta.split('$\\pm$')[1]   \n",
    "    \n",
    "    ax.errorbar(x=np.log10(float(flux))+42,\n",
    "                #xerr=float(err_flux),\n",
    "                y=np.log10(float(flux_Hbeta))+42,\n",
    "                #yerr=float(err_flux_Hbeta),\n",
    "              ls=':',marker='.',markersize=10,color='grey',label='Wu2004')\n",
    "'''\n",
    "flux_label=data_3C273.colnames[1]\n",
    "e_flux_label=data_3C273.colnames[2]\n",
    "flux_label_1=data_3C273.colnames[3]\n",
    "e_flux_label_1=data_3C273.colnames[4]\n",
    "print(flux_label,e_flux_label)\n",
    "print(flux_label_1,e_flux_label_1)\n",
    "\n",
    "\n",
    "\n",
    "ax.errorbar(x=np.log10(data_3C273[flux_label]*flux_scale_5100*5100),\n",
    "            #xerr=np.log10(data_3C273[e_flux_label]*flux_scale*5100),\n",
    "            y=np.log10(data_3C273[flux_label_1]*flux_scale_Hbeta),\n",
    "            #yerr=np.log10(data_3C273[e_flux_label_1]*flux_scale*4861),\n",
    "            fmt='.',label='3C 273')\n",
    "\n",
    "\n",
    "\n",
    "slope=1.02747111\n",
    "offset=3.04154998\n",
    "\n",
    "L5100_linspace=np.linspace(45.6,46)    \n",
    "Lhbeta= L5100_linspace*slope-offset\n",
    "ax.plot(L5100_linspace,Lhbeta,label='Wu2004 logLHbeta=logL5100*%.2f -%.2f'%(slope,offset))\n",
    "\n",
    "\n",
    "slope=0.947\n",
    "offset=0.45\n",
    "Lhbeta= L5100_linspace*slope-offset\n",
    "ax.plot(L5100_linspace,Lhbeta,label='Rakshit2020 logLHbeta=logL5100*%.2f -%.2f'%(slope,offset))\n",
    "\n",
    "    \n",
    "ax.set_xlabel(r'log$L_{5100\\AA} (\\mathrm{erg\\, s^{-1}})$')\n",
    "ax.set_ylabel(r'log$L_{H\\beta} (\\mathrm{erg\\, s^{-1}})$')\n",
    "\n",
    "\n",
    "#ax.semilogx()\n",
    "#ax.semilogy()\n",
    "ax.set_title('3C 273')\n",
    "ax.xaxis.set_tick_params(which='major', size=10, width=2, rotation=0,)\n",
    "handles, labels = ax.get_legend_handles_labels()\n",
    "# remove the errorbars\n",
    "#hdl = [h[0] for h in handles]\n",
    "hdl = handles\n",
    "labels_dict=dict(zip(labels, hdl)) #key,values\n",
    "by_label=OrderedDict(sorted(labels_dict.items(),key=lambda t:t[0]))\n",
    "#by_label = OrderedDict(zip(labels, handles))\n",
    "\n",
    "ax.legend(by_label.values(), by_label.keys(), bbox_to_anchor=(0.01, 0.99),\n",
    "          loc=2, numpoints=1,ncol=1,fontsize=11.)\n",
    "\n",
    "ax.set_xlim(45.5,46)\n",
    "ax.set_ylim(44.0-0.2,44.5-0.2)\n",
    "\n",
    "#plot_secax(ax,mi_interval=365,ma_interval=365*2,rotation=30)    \n",
    "set_ax_tick(ax)\n",
    "fig.tight_layout()\n",
    "plt.savefig('/Users/brettlv/Downloads/3C273_Hbeta_L5100.png',dpi=400)\n"
   ]
  },
  {
   "cell_type": "code",
   "execution_count": null,
   "metadata": {
    "ExecuteTime": {
     "end_time": "2022-07-28T03:55:27.704866Z",
     "start_time": "2022-07-28T03:55:26.512001Z"
    }
   },
   "outputs": [],
   "source": [
    "fig, ax = plt.subplots(1, 1,figsize=(8,8))\n",
    "\n",
    "for i in range(len(Wu2004_LHbeta_L5100)):\n",
    "    flux_and_err=Wu2004_LHbeta_L5100.loc[i,Wu2004_LHbeta_L5100.columns[4]]\n",
    "    flux=flux_and_err.split('$\\pm$')[0]\n",
    "    err_flux=flux_and_err.split('$\\pm$')[1]   \n",
    "    \n",
    "    flux_and_err_Hbeta=Wu2004_LHbeta_L5100.loc[i,Wu2004_LHbeta_L5100.columns[5]]\n",
    "    flux_Hbeta=flux_and_err_Hbeta.split('$\\pm$')[0]\n",
    "    err_flux_Hbeta=flux_and_err_Hbeta.split('$\\pm$')[1]   \n",
    "    \n",
    "    ax.errorbar(x=np.log10(float(flux))+42,\n",
    "                #xerr=float(err_flux),\n",
    "                y=np.log10(float(flux_Hbeta))+42,\n",
    "                #yerr=float(err_flux_Hbeta),\n",
    "              ls=':',marker='.',markersize=10,color='grey',label='Wu2004')\n",
    "\n",
    "flux_label=data_3C273.colnames[1]\n",
    "e_flux_label=data_3C273.colnames[2]\n",
    "flux_label_1=data_3C273.colnames[3]\n",
    "e_flux_label_1=data_3C273.colnames[4]\n",
    "print(flux_label,e_flux_label)\n",
    "print(flux_label_1,e_flux_label_1)\n",
    "\n",
    "\n",
    "\n",
    "\n",
    "ax.errorbar(x=np.log10(data_3C273[flux_label]*flux_scale_5100*5100),\n",
    "            #xerr=np.log10(data_3C273[e_flux_label]*flux_scale*5100),\n",
    "            y=np.log10(data_3C273[flux_label_1]*flux_scale_Hbeta),\n",
    "            #yerr=np.log10(data_3C273[e_flux_label_1]*flux_scale*4861),\n",
    "            fmt='.',label='3C 273')\n",
    "\n",
    "slope=1.02747111\n",
    "offset=3.04154998\n",
    "\n",
    "L5100_linspace=np.linspace(41,46)    \n",
    "Lhbeta= L5100_linspace*slope-offset\n",
    "ax.plot(L5100_linspace,Lhbeta,label='logLHbeta=logL5100*%.2f -%.2f'%(slope,offset))\n",
    "\n",
    "slope=0.947\n",
    "offset=0.45\n",
    "Lhbeta= L5100_linspace*slope-offset\n",
    "ax.plot(L5100_linspace,Lhbeta,label='Rakshit2020 logLHbeta=logL5100*%.2f -%.2f'%(slope,offset))\n",
    " \n",
    "    \n",
    "ax.set_xlabel(r'log$L_{5100\\AA} (\\mathrm{erg\\, s^{-1}})$')\n",
    "ax.set_ylabel(r'log$L_{H\\beta} (\\mathrm{erg\\, s^{-1}})$')\n",
    "\n",
    "\n",
    "#ax.semilogx()\n",
    "#ax.semilogy()\n",
    "ax.set_title('3C 273')\n",
    "ax.xaxis.set_tick_params(which='major', size=10, width=2, rotation=0,)\n",
    "handles, labels = ax.get_legend_handles_labels()\n",
    "# remove the errorbars\n",
    "#hdl = [h[0] for h in handles]\n",
    "hdl = handles\n",
    "labels_dict=dict(zip(labels, hdl)) #key,values\n",
    "#by_label=OrderedDict(sorted(labels_dict.items(),key=lambda t:t[0]))\n",
    "by_label = OrderedDict(zip(labels, handles))\n",
    "\n",
    "ax.legend(by_label.values(), by_label.keys(), bbox_to_anchor=(0.35, 0.19),\n",
    "          loc=2, numpoints=1,ncol=1,fontsize=11.)\n",
    "\n",
    "#ax.set_xlim(40,47)\n",
    "#ax.set_ylim(39,46)\n",
    "\n",
    "#plot_secax(ax,mi_interval=365,ma_interval=365*2,rotation=30)    \n",
    "set_ax_tick(ax)\n",
    "fig.tight_layout()\n",
    "plt.savefig('/Users/brettlv/Downloads/AGN_Hbeta_L5100.png',dpi=400)\n"
   ]
  },
  {
   "cell_type": "code",
   "execution_count": null,
   "metadata": {},
   "outputs": [],
   "source": []
  },
  {
   "cell_type": "code",
   "execution_count": null,
   "metadata": {},
   "outputs": [],
   "source": []
  },
  {
   "cell_type": "code",
   "execution_count": null,
   "metadata": {
    "ExecuteTime": {
     "end_time": "2022-07-20T13:05:44.027942Z",
     "start_time": "2022-07-20T13:05:44.022277Z"
    }
   },
   "outputs": [],
   "source": [
    "data_3C273['mjd']=data_3C273['JD1']-2400000.5"
   ]
  },
  {
   "cell_type": "code",
   "execution_count": null,
   "metadata": {
    "ExecuteTime": {
     "end_time": "2022-07-20T13:57:41.511596Z",
     "start_time": "2022-07-20T13:57:37.610826Z"
    }
   },
   "outputs": [],
   "source": [
    "fig, ax = plt.subplots(1, 1,figsize=(8,6))\n",
    "\n",
    "for i in range(4):\n",
    "    flux_label=data_3C273.colnames[i*2+1]\n",
    "    e_flux_label=data_3C273.colnames[i*2+2]\n",
    "    \n",
    "    ax.errorbar(data_3C273['mjd'],data_3C273[flux_label],data_3C273[e_flux_label],\n",
    "                 fmt='.',label=flux_label)\n",
    "\n",
    "ax.errorbar(mojave_15GHz_3c273['mjd'],mojave_15GHz_3c273['flux'],\n",
    "            fmt='.',label='VLBA_15GHz')\n",
    "\n",
    "ax.errorbar(ovro_40m_3C273['mjd'],ovro_40m_3C273['flux'],ovro_40m_3C273['flux err'],\n",
    "            fmt='.',label='OVRO_15GHz')\n",
    "    \n",
    "    \n",
    "ax.set_xlim(54000,58500)\n",
    "\n",
    "    \n",
    "ax.set_xlabel(r'MJD(d)')\n",
    "ax.set_ylabel(r'Flux')\n",
    "\n",
    "ax.xaxis.set_tick_params(which='major', size=10, width=2, rotation=0,)\n",
    "handles, labels = ax.get_legend_handles_labels()\n",
    "# remove the errorbars\n",
    "#hdl = [h[0] for h in handles]\n",
    "hdl = handles\n",
    "labels_dict=dict(zip(labels, hdl)) #key,values\n",
    "by_label=OrderedDict(sorted(labels_dict.items(),key=lambda t:t[0]))\n",
    "#by_label = OrderedDict(zip(labels, handles))\n",
    "\n",
    "ax.legend(by_label.values(), by_label.keys(), bbox_to_anchor=(0.99, 0.99),\n",
    "          loc=2, numpoints=1,ncol=1,fontsize=11.)\n",
    "\n",
    "plot_secax(ax,mi_interval=365,ma_interval=365*2,rotation=30)    \n",
    "set_ax_tick(ax)\n",
    "fig.tight_layout()\n",
    "plt.savefig('/Users/brettlv/Downloads/zhang_line_lc_origin.png',dpi=400)\n"
   ]
  },
  {
   "cell_type": "code",
   "execution_count": null,
   "metadata": {},
   "outputs": [],
   "source": []
  },
  {
   "cell_type": "code",
   "execution_count": null,
   "metadata": {
    "ExecuteTime": {
     "end_time": "2022-07-20T14:19:34.426810Z",
     "start_time": "2022-07-20T14:19:32.586968Z"
    }
   },
   "outputs": [],
   "source": [
    "x=data_3C273['mjd']\n",
    "y=data_3C273['F5100']\n",
    "yunc=np.ones(len(x))\n",
    "\n",
    "fit = fitting.LinearLSQFitter()\n",
    "\n",
    "# initialize the outlier removal fitter\n",
    "or_fit = fitting.FittingWithOutlierRemoval(fit, sigma_clip, niter=3, sigma=3.0)\n",
    "\n",
    "# initialize a linear model\n",
    "line_init = models.Linear1D()\n",
    "\n",
    "# fit the data with the fitter\n",
    "fitted_line, mask = or_fit(line_init, x, y, weights=1.0/yunc)\n",
    "filtered_data = np.ma.masked_array(y, mask=mask)\n",
    "\n",
    "# plot\n",
    "fig, ax = plt.subplots(1, 1,figsize=(8,6))\n",
    "ax.errorbar(x, y, yerr=yunc, fmt=\"ko\", fillstyle=\"none\", label=\"Clipped Data\")\n",
    "ax.errorbar(x, filtered_data, fmt=\"ko\", label=\"Fitted Data\")\n",
    "#plt.plot(x, line_orig(x), 'b-', label='Simulation Model')\n",
    "ax.plot(x, fitted_line(x), 'k-', label='Fitted Model')\n",
    "#plt.xlim(-2,12)\n",
    "#plt.ylim(-5,25)\n",
    "\n",
    "plot_secax(ax,mi_interval=365,ma_interval=365*2,rotation=30)    \n",
    "set_ax_tick(ax)\n",
    "\n",
    "plt.xlabel('MJD')\n",
    "plt.ylabel('F5100')\n",
    "plt.legend()\n",
    "plt.show()"
   ]
  },
  {
   "cell_type": "markdown",
   "metadata": {},
   "source": [
    "## OVRO"
   ]
  },
  {
   "cell_type": "code",
   "execution_count": 15,
   "metadata": {
    "ExecuteTime": {
     "end_time": "2022-08-26T11:52:17.333396Z",
     "start_time": "2022-08-26T11:52:17.313747Z"
    }
   },
   "outputs": [],
   "source": [
    "ovro_40m_3C273=pd.read_csv('%s/J1229+0203_OVRO_40m.csv'%data_3C273_dir_mojave)"
   ]
  },
  {
   "cell_type": "code",
   "execution_count": 18,
   "metadata": {
    "ExecuteTime": {
     "end_time": "2022-08-26T11:52:46.252883Z",
     "start_time": "2022-08-26T11:52:46.246067Z"
    }
   },
   "outputs": [
    {
     "data": {
      "text/plain": [
       "(15.89112284, 31.58120904)"
      ]
     },
     "execution_count": 18,
     "metadata": {},
     "output_type": "execute_result"
    }
   ],
   "source": [
    "min(ovro_40m_3C273['flux']),max(ovro_40m_3C273['flux'])"
   ]
  },
  {
   "cell_type": "code",
   "execution_count": null,
   "metadata": {},
   "outputs": [],
   "source": []
  },
  {
   "cell_type": "markdown",
   "metadata": {},
   "source": [
    "## mojave_15GHz"
   ]
  },
  {
   "cell_type": "code",
   "execution_count": null,
   "metadata": {
    "ExecuteTime": {
     "end_time": "2022-08-11T12:52:15.005340Z",
     "start_time": "2022-08-11T12:52:14.508871Z"
    }
   },
   "outputs": [],
   "source": [
    "mojave_15GHz_3c273=pd.read_excel('%s/VLBA_3c273.xlsx'%data_3C273_dir_mojave,sheet_name='Sheet2')\n",
    "mojave_15GHz_3c273=mojave_15GHz_3c273[mojave_15GHz_3c273['VLBA I'].notnull()]\n",
    "mojave_15GHz_3c273=mojave_15GHz_3c273[mojave_15GHz_3c273['VLBA Code'].notnull()]\n",
    "\n",
    "mojave_15GHz_3c273.columns=['Epoch', 'VLBA Code', 'VLBA I', 'VLBA P', 'VLBA percentage', 'VLBA degree',\n",
    "                           'I Image (Nat. Weight)', 'Tapered I Image',\n",
    "                           'Tapered I Image (Widefield)', 'Visibility', \n",
    "                            'Stokes I Radplot', 'Pol.','note']\n",
    "\n",
    "\n",
    "mojave_15GHz_3c273['mjd']=convert_mjd(mojave_15GHz_3c273['Epoch'])\n",
    "mojave_15GHz_3c273['flux']=mojave_15GHz_3c273['VLBA I']/1000\n",
    "mojave_15GHz_3c273['err']=0\n"
   ]
  },
  {
   "cell_type": "code",
   "execution_count": null,
   "metadata": {
    "ExecuteTime": {
     "end_time": "2022-08-04T13:15:13.771535Z",
     "start_time": "2022-08-04T13:15:13.513899Z"
    }
   },
   "outputs": [],
   "source": [
    "mojave_15GHz_3c273"
   ]
  },
  {
   "cell_type": "code",
   "execution_count": null,
   "metadata": {
    "ExecuteTime": {
     "end_time": "2022-08-04T13:15:17.429108Z",
     "start_time": "2022-08-04T13:15:17.406877Z"
    }
   },
   "outputs": [],
   "source": [
    "mojave_15GHz_3c273[['mjd','flux','err']]"
   ]
  },
  {
   "cell_type": "code",
   "execution_count": null,
   "metadata": {},
   "outputs": [],
   "source": []
  },
  {
   "cell_type": "code",
   "execution_count": null,
   "metadata": {},
   "outputs": [],
   "source": []
  },
  {
   "cell_type": "markdown",
   "metadata": {},
   "source": [
    "## Liyanrong 2020 UVOT"
   ]
  },
  {
   "cell_type": "code",
   "execution_count": null,
   "metadata": {
    "ExecuteTime": {
     "end_time": "2022-07-18T13:08:01.614274Z",
     "start_time": "2022-07-18T13:08:01.559437Z"
    }
   },
   "outputs": [],
   "source": [
    "data_3C273_UVOT=pd.read_excel(os.path.join(data_dir_3C273,'..','UVOT_3C273.xlsx'))"
   ]
  },
  {
   "cell_type": "code",
   "execution_count": null,
   "metadata": {
    "ExecuteTime": {
     "end_time": "2022-07-19T07:13:49.822945Z",
     "start_time": "2022-07-19T07:13:49.813554Z"
    }
   },
   "outputs": [],
   "source": [
    "data_3C273_UVOT['mjd']=data_3C273_UVOT['JD-2,450,000']+50000-0.5"
   ]
  },
  {
   "cell_type": "code",
   "execution_count": null,
   "metadata": {
    "ExecuteTime": {
     "end_time": "2022-07-19T07:13:54.897939Z",
     "start_time": "2022-07-19T07:13:54.869997Z"
    }
   },
   "outputs": [],
   "source": [
    "data_3C273_UVOT"
   ]
  },
  {
   "cell_type": "code",
   "execution_count": null,
   "metadata": {
    "ExecuteTime": {
     "end_time": "2022-07-18T12:28:30.089888Z",
     "start_time": "2022-07-18T12:28:30.077856Z"
    }
   },
   "outputs": [],
   "source": [
    "root_dir.replace(' ','_')"
   ]
  },
  {
   "cell_type": "markdown",
   "metadata": {},
   "source": [
    "## SMA_3C273"
   ]
  },
  {
   "cell_type": "code",
   "execution_count": null,
   "metadata": {
    "ExecuteTime": {
     "end_time": "2022-08-05T01:56:49.280212Z",
     "start_time": "2022-08-05T01:56:49.267392Z"
    }
   },
   "outputs": [],
   "source": [
    "SMA_3c273=pd.read_csv(os.path.join(lag_data_dir,'SMA_3C273.py'),delimiter='\\s+')#SMA"
   ]
  },
  {
   "cell_type": "code",
   "execution_count": null,
   "metadata": {
    "ExecuteTime": {
     "end_time": "2022-08-05T01:56:50.637968Z",
     "start_time": "2022-08-05T01:56:50.633747Z"
    }
   },
   "outputs": [],
   "source": [
    "SMA_3c273.columns"
   ]
  },
  {
   "cell_type": "code",
   "execution_count": null,
   "metadata": {
    "ExecuteTime": {
     "end_time": "2022-07-21T06:56:43.018101Z",
     "start_time": "2022-07-21T06:56:42.999808Z"
    }
   },
   "outputs": [],
   "source": [
    "day=SMA_3c273['day']\n",
    "month=SMA_3c273['month']\n",
    "year=SMA_3c273['year']\n",
    "time=SMA_3c273['time']\n",
    "\n",
    "month_number=[]\n",
    "for i in month.values:\n",
    "    month_number.append(strptime(i,'%b').tm_mon)\n",
    "    \n",
    "h=[]\n",
    "m=[]\n",
    "for i in time.values:\n",
    "    h.append(i.split(\":\")[0])\n",
    "    m.append(i.split(\":\")[1])\n",
    "\n",
    "SMA_3c273['mon_num']=month_number\n",
    "SMA_3c273['hour']=h\n",
    "SMA_3c273['minute']=m\n",
    "\n",
    "##############################\n",
    "#day=SMA_3c273['day']\n",
    "month_num=SMA_3c273['mon_num']\n",
    "#year=SMA_3c273['year']\n",
    "hour=SMA_3c273['hour']\n",
    "minute=SMA_3c273['minute']\n"
   ]
  },
  {
   "cell_type": "code",
   "execution_count": null,
   "metadata": {
    "ExecuteTime": {
     "end_time": "2022-07-21T06:56:43.891730Z",
     "start_time": "2022-07-21T06:56:43.746505Z"
    }
   },
   "outputs": [],
   "source": [
    "times=[]\n",
    "for i,(d_,m_,y_,h_,mi_) in enumerate(zip(day,month_num,year,hour,minute)):                 \n",
    "    times.append(Time(datetime(y_,m_,d_,int(h_),int(mi_),0),scale='ut1').mjd)\n",
    "    \n",
    "'''\n",
    "timesut=[]\n",
    "for i,(d_,m_,y_,h_,mi_) in enumerate(zip(day,month_num,year,hour,minute)):                 \n",
    "    timesut.append(Time(datetime(y_,m_,d_,h_,mi_,0),scale='ut1'))  \n",
    "'''    \n",
    "SMA_3c273['mjd']=times"
   ]
  },
  {
   "cell_type": "markdown",
   "metadata": {
    "ExecuteTime": {
     "end_time": "2022-07-19T07:08:17.305309Z",
     "start_time": "2022-07-19T07:08:17.289605Z"
    }
   },
   "source": [
    "convert_date_single(52657.272917)"
   ]
  },
  {
   "cell_type": "code",
   "execution_count": null,
   "metadata": {
    "ExecuteTime": {
     "end_time": "2022-07-21T06:56:45.028517Z",
     "start_time": "2022-07-21T06:56:45.005433Z"
    }
   },
   "outputs": [],
   "source": [
    "SMA_3c273"
   ]
  },
  {
   "cell_type": "code",
   "execution_count": null,
   "metadata": {
    "ExecuteTime": {
     "end_time": "2022-07-21T06:56:52.732926Z",
     "start_time": "2022-07-21T06:56:52.728433Z"
    }
   },
   "outputs": [],
   "source": [
    "SMA_3c273_1mm=SMA_3c273[SMA_3c273['BAND']=='1mm']\n",
    "SMA_3c273_850=SMA_3c273[SMA_3c273['BAND']=='850']"
   ]
  },
  {
   "cell_type": "code",
   "execution_count": null,
   "metadata": {
    "ExecuteTime": {
     "end_time": "2022-07-21T06:57:11.132420Z",
     "start_time": "2022-07-21T06:57:11.127945Z"
    }
   },
   "outputs": [],
   "source": [
    "len(SMA_3c273),len(SMA_3c273_1mm),len(SMA_3c273_850)"
   ]
  },
  {
   "cell_type": "code",
   "execution_count": null,
   "metadata": {
    "ExecuteTime": {
     "end_time": "2022-07-21T06:56:53.174230Z",
     "start_time": "2022-07-21T06:56:53.147009Z"
    }
   },
   "outputs": [],
   "source": [
    "SMA_3c273_850"
   ]
  },
  {
   "cell_type": "markdown",
   "metadata": {},
   "source": [
    "## ATCA_calibrator"
   ]
  },
  {
   "cell_type": "code",
   "execution_count": null,
   "metadata": {
    "ExecuteTime": {
     "end_time": "2022-07-20T14:43:17.360612Z",
     "start_time": "2022-07-20T14:43:17.326829Z"
    }
   },
   "outputs": [],
   "source": [
    "ATCA_3C273_url='https://www.narrabri.atnf.csiro.au/calibrators/calibrator_database_viewcal?source=1226+023&detailed=true'"
   ]
  },
  {
   "cell_type": "code",
   "execution_count": null,
   "metadata": {
    "ExecuteTime": {
     "end_time": "2022-07-21T01:20:55.915257Z",
     "start_time": "2022-07-21T01:20:46.951567Z"
    }
   },
   "outputs": [],
   "source": [
    "table_ATCA_3C273=pd.read_html(ATCA_3C273_url)"
   ]
  },
  {
   "cell_type": "code",
   "execution_count": null,
   "metadata": {
    "ExecuteTime": {
     "end_time": "2022-07-21T01:21:19.693639Z",
     "start_time": "2022-07-21T01:21:19.685700Z"
    }
   },
   "outputs": [],
   "source": [
    "len(table_ATCA_3C273),table_ATCA_3C273,table_ATCA_3C273[18]"
   ]
  },
  {
   "cell_type": "code",
   "execution_count": null,
   "metadata": {
    "ExecuteTime": {
     "end_time": "2022-08-05T01:57:24.073409Z",
     "start_time": "2022-08-05T01:57:24.019122Z"
    }
   },
   "outputs": [],
   "source": [
    "table_ATCA_3C273_origin=pd.read_excel(os.path.join(lag_data_dir,'3C273_ATCA_calitrator_origin.xlsx'))"
   ]
  },
  {
   "cell_type": "code",
   "execution_count": null,
   "metadata": {
    "ExecuteTime": {
     "end_time": "2022-08-05T01:57:25.286070Z",
     "start_time": "2022-08-05T01:57:25.279811Z"
    }
   },
   "outputs": [],
   "source": [
    "table_ATCA_3C273_origin.columns"
   ]
  },
  {
   "cell_type": "markdown",
   "metadata": {
    "ExecuteTime": {
     "end_time": "2022-07-21T07:07:08.748055Z",
     "start_time": "2022-07-21T07:07:08.732283Z"
    }
   },
   "source": [
    "table_ATCA_3C273_origin[table_ATCA_3C273_origin['Epoch'].str.startswith('Band')]"
   ]
  },
  {
   "cell_type": "code",
   "execution_count": null,
   "metadata": {
    "ExecuteTime": {
     "end_time": "2022-07-21T07:12:42.762196Z",
     "start_time": "2022-07-21T07:12:42.757176Z"
    }
   },
   "outputs": [],
   "source": [
    "table_ATCA_3C273_origin.columns"
   ]
  },
  {
   "cell_type": "markdown",
   "metadata": {
    "ExecuteTime": {
     "end_time": "2022-07-21T07:10:49.814694Z",
     "start_time": "2022-07-21T07:10:49.809305Z"
    }
   },
   "source": [
    "table_ATCA_3C273_origin.iloc[0]"
   ]
  },
  {
   "cell_type": "code",
   "execution_count": null,
   "metadata": {
    "ExecuteTime": {
     "end_time": "2022-08-05T01:59:09.539232Z",
     "start_time": "2022-08-05T01:59:09.533118Z"
    }
   },
   "outputs": [],
   "source": [
    "if isinstance(table_ATCA_3C273_origin.loc[2,'Closure Phase'],str):\n",
    "    print(table_ATCA_3C273_origin.loc[2,'Closure Phase'])"
   ]
  },
  {
   "cell_type": "markdown",
   "metadata": {
    "ExecuteTime": {
     "end_time": "2022-07-21T07:23:25.721267Z",
     "start_time": "2022-07-21T07:23:25.656756Z"
    }
   },
   "source": [
    "table_ATCA_3C273=pd.DataFrame([])\n",
    "\n",
    "for i in range(len(table_ATCA_3C273_origin)):\n",
    "    if isinstance(table_ATCA_3C273_origin.loc[i,'Closure Phase'],str):\n",
    "        row_table=table_ATCA_3C273_origin.iloc[i]\n",
    "        print(i)\n",
    "    else:\n",
    "        print(table_ATCA_3C273_origin.loc[i,'Closure Phase'])"
   ]
  },
  {
   "cell_type": "markdown",
   "metadata": {
    "ExecuteTime": {
     "end_time": "2022-07-21T07:28:48.036721Z",
     "start_time": "2022-07-21T07:28:48.023754Z"
    }
   },
   "source": [
    "i=3\n",
    "row_table = pd.DataFrame(\n",
    "           [\n",
    "            table_ATCA_3C273_origin.loc[i-1,table_ATCA_3C273_origin.columns[0]],\n",
    "            table_ATCA_3C273_origin.loc[i-1,table_ATCA_3C273_origin.columns[1]],\n",
    "            table_ATCA_3C273_origin.loc[i-1,table_ATCA_3C273_origin.columns[2]],\n",
    "            table_ATCA_3C273_origin.loc[i-1,table_ATCA_3C273_origin.columns[3]],       \n",
    "            table_ATCA_3C273_origin.loc[i,table_ATCA_3C273_origin.columns[0]],\n",
    "            table_ATCA_3C273_origin.loc[i,table_ATCA_3C273_origin.columns[1]],\n",
    "            table_ATCA_3C273_origin.loc[i,table_ATCA_3C273_origin.columns[2]],\n",
    "            table_ATCA_3C273_origin.loc[i,table_ATCA_3C273_origin.columns[3]],\n",
    "            table_ATCA_3C273_origin.loc[i,table_ATCA_3C273_origin.columns[8]]\n",
    "           ],            \n",
    "            )#columns=table_ATCA_3C273_origin.columns"
   ]
  },
  {
   "cell_type": "code",
   "execution_count": null,
   "metadata": {
    "ExecuteTime": {
     "end_time": "2022-07-21T07:28:48.755545Z",
     "start_time": "2022-07-21T07:28:48.744166Z"
    }
   },
   "outputs": [],
   "source": [
    "row_table.T"
   ]
  },
  {
   "cell_type": "code",
   "execution_count": null,
   "metadata": {
    "ExecuteTime": {
     "end_time": "2022-08-05T01:59:47.408499Z",
     "start_time": "2022-08-05T01:59:46.802847Z"
    }
   },
   "outputs": [],
   "source": [
    "table_ATCA_3C273=pd.DataFrame([])\n",
    "\n",
    "for i in range(len(table_ATCA_3C273_origin)):\n",
    "    if isinstance(table_ATCA_3C273_origin.loc[i,'Closure Phase'],str):\n",
    "        row_table=table_ATCA_3C273_origin.iloc[i]\n",
    "        #print(i)\n",
    "    \n",
    "    else:\n",
    "        print(i)\n",
    "        \n",
    "        row_table = pd.DataFrame(\n",
    "           [\n",
    "            table_ATCA_3C273_origin.loc[i-1,table_ATCA_3C273_origin.columns[0]],\n",
    "            table_ATCA_3C273_origin.loc[i-1,table_ATCA_3C273_origin.columns[1]],\n",
    "            table_ATCA_3C273_origin.loc[i-1,table_ATCA_3C273_origin.columns[2]],\n",
    "            table_ATCA_3C273_origin.loc[i-1,table_ATCA_3C273_origin.columns[3]],       \n",
    "            table_ATCA_3C273_origin.loc[i,table_ATCA_3C273_origin.columns[0]],\n",
    "            table_ATCA_3C273_origin.loc[i,table_ATCA_3C273_origin.columns[1]],\n",
    "            table_ATCA_3C273_origin.loc[i,table_ATCA_3C273_origin.columns[2]],\n",
    "            table_ATCA_3C273_origin.loc[i,table_ATCA_3C273_origin.columns[3]],\n",
    "            table_ATCA_3C273_origin.loc[i,table_ATCA_3C273_origin.columns[8]],\n",
    "           ])\n",
    "            \n",
    "        row_table=row_table.T\n",
    "        row_table.columns= table_ATCA_3C273_origin.columns   \n",
    "            \n",
    "        \n",
    "    table_ATCA_3C273=table_ATCA_3C273.append(row_table,ignore_index=True)        \n",
    "          \n",
    "        \n",
    "    \n",
    "    "
   ]
  },
  {
   "cell_type": "code",
   "execution_count": null,
   "metadata": {},
   "outputs": [],
   "source": []
  },
  {
   "cell_type": "code",
   "execution_count": null,
   "metadata": {
    "ExecuteTime": {
     "end_time": "2022-07-21T08:46:09.849746Z",
     "start_time": "2022-07-21T08:46:09.801479Z"
    }
   },
   "outputs": [],
   "source": [
    "year=[]\n",
    "month=[]\n",
    "day=[]\n",
    "\n",
    "for i in table_ATCA_3C273['Epoch'].values:\n",
    "    year.append(i.split(\"-\")[0])\n",
    "    month.append(strptime(i.split(\"-\")[1],'%b').tm_mon)\n",
    "    day.append(i.split(\"-\")[2])\n",
    "    \n",
    "    \n",
    "times=[]\n",
    "for i,(d_,m_,y_,) in enumerate(zip(day,month,year)):                 \n",
    "    times.append(Time(datetime(int(y_),m_,int(d_),0,0,0),scale='ut1').mjd)\n",
    "    \n",
    "'''\n",
    "timesut=[]\n",
    "for i,(d_,m_,y_,h_,mi_) in enumerate(zip(day,month_num,year,hour,minute)):                 \n",
    "    timesut.append(Time(datetime(y_,m_,d_,h_,mi_,0),scale='ut1'))  \n",
    "'''    \n",
    "table_ATCA_3C273['mjd']=times  m  "
   ]
  },
  {
   "cell_type": "markdown",
   "metadata": {
    "ExecuteTime": {
     "end_time": "2022-07-21T08:46:12.271102Z",
     "start_time": "2022-07-21T08:46:12.190131Z"
    }
   },
   "source": [
    "table_ATCA_3C273.to_excel(os.path.join(lag_data_dir,'3C273_ATCA_calitrator_modified.xlsx'),index=False)"
   ]
  },
  {
   "cell_type": "code",
   "execution_count": null,
   "metadata": {
    "ExecuteTime": {
     "end_time": "2022-07-21T08:47:53.650387Z",
     "start_time": "2022-07-21T08:47:53.644875Z"
    }
   },
   "outputs": [],
   "source": []
  },
  {
   "cell_type": "code",
   "execution_count": null,
   "metadata": {
    "ExecuteTime": {
     "end_time": "2022-08-05T02:00:48.939681Z",
     "start_time": "2022-08-05T02:00:48.880071Z"
    }
   },
   "outputs": [],
   "source": [
    "table_ATCA_3C273=pd.read_excel(os.path.join(lag_data_dir,'3C273_ATCA_calitrator_modified.xlsx'))"
   ]
  },
  {
   "cell_type": "code",
   "execution_count": null,
   "metadata": {
    "ExecuteTime": {
     "end_time": "2022-08-05T02:00:51.603805Z",
     "start_time": "2022-08-05T02:00:51.599146Z"
    }
   },
   "outputs": [],
   "source": [
    "table_ATCA_3C273.columns"
   ]
  },
  {
   "cell_type": "code",
   "execution_count": null,
   "metadata": {
    "ExecuteTime": {
     "end_time": "2022-08-05T02:00:55.776888Z",
     "start_time": "2022-08-05T02:00:55.770254Z"
    }
   },
   "outputs": [],
   "source": [
    "table_ATCA_3C273_5GHz=table_ATCA_3C273[abs(table_ATCA_3C273['Frequency']-5000)<1000]\n",
    "table_ATCA_3C273_5GHz=drop_index(table_ATCA_3C273_5GHz)"
   ]
  },
  {
   "cell_type": "markdown",
   "metadata": {},
   "source": [
    "## plot 3C 273"
   ]
  },
  {
   "cell_type": "code",
   "execution_count": null,
   "metadata": {
    "ExecuteTime": {
     "end_time": "2022-08-05T02:17:38.667197Z",
     "start_time": "2022-08-05T02:17:36.497884Z"
    }
   },
   "outputs": [],
   "source": [
    "fig, ax = plt.subplots(1, 1,figsize=(8,6))\n",
    "\n",
    "'''for i in range(len(table_ATCA_3C273_5GHz)):\n",
    "    flux_and_err=table_ATCA_3C273_5GHz.loc[i,'Flux Density (Jy)']\n",
    "    flux=flux_and_err.split('±')[0]\n",
    "    err_flux=flux_and_err.split('±')[1]   \n",
    "    ax.errorbar(table_ATCA_3C273_5GHz.loc[i,'mjd'],float(flux),float(err_flux),\n",
    "              ls=':',marker='.',markersize=10,color='r',label='VLA 5GHz')\n",
    "'''\n",
    "\n",
    "ax.errorbar(mojave_15GHz_3c273['mjd'],mojave_15GHz_3c273['flux']*1.2,\n",
    "            fmt='.',label='VLBA_15GHz')\n",
    "\n",
    "ax.errorbar(ovro_40m_3C273['mjd'],ovro_40m_3C273['flux'],ovro_40m_3C273['flux err'],\n",
    "            fmt='.',label='OVRO_15GHz')\n",
    "    \n",
    "\n",
    "set_ax_tick(ax) \n",
    "ax.set_title('3C 273')\n",
    "ax.set_xlabel(r'MJD(d)')\n",
    "ax.set_ylabel(r'Flux')\n",
    "\n",
    "\n",
    "ax.xaxis.set_tick_params(which='major', size=10, width=2, rotation=0,)\n",
    "handles, labels = ax.get_legend_handles_labels()\n",
    "# remove the errorbars\n",
    "#hdl = [h[0] for h in handles]\n",
    "hdl = handles\n",
    "labels_dict=dict(zip(labels, hdl)) #key,values\n",
    "by_label=OrderedDict(sorted(labels_dict.items(),key=lambda t:t[0]))\n",
    "#by_label = OrderedDict(zip(labels, handles))\n",
    "\n",
    "ax.legend(by_label.values(), by_label.keys(), bbox_to_anchor=(0.0, 0.99),\n",
    "          loc=2, numpoints=1,ncol=1,fontsize=11.)\n",
    "\n",
    "\n",
    "ax2=ax.twinx()\n",
    "ax2.errorbar(data_3C273['JD1']-2400000.5,data_3C273['F5100'],label='5100')\n",
    "ax2.errorbar(data_3C273['JD1']-2400000.5,data_3C273['FHbeta'],label='Hbeta')\n",
    "\n",
    "ax2.xaxis.set_tick_params(which='major', size=10, width=2, rotation=0,)\n",
    "handles, labels = ax2.get_legend_handles_labels()\n",
    "# remove the errorbars\n",
    "#hdl = [h[0] for h in handles]\n",
    "hdl = handles\n",
    "labels_dict=dict(zip(labels, hdl)) #key,values\n",
    "by_label=OrderedDict(sorted(labels_dict.items(),key=lambda t:t[0]))\n",
    "#by_label = OrderedDict(zip(labels, handles))\n",
    "\n",
    "ax2.legend(by_label.values(), by_label.keys(), bbox_to_anchor=(0.79, 0.99),\n",
    "          loc=2, numpoints=1,ncol=1,fontsize=11.)\n",
    "\n",
    "plot_secax(ax,mi_interval=365,ma_interval=365*2,rotation=30)    \n",
    "fig.tight_layout()\n",
    "\n",
    "range_l,range_r=(57000-200,58250)\n",
    "ax.set_xlim(range_l,range_r)\n",
    "plt.savefig('/Users/brettlv/Downloads/3C273_lc_radio_optical_%d_%d.png'%(range_l,range_r),dpi=400)\n"
   ]
  },
  {
   "cell_type": "code",
   "execution_count": null,
   "metadata": {
    "ExecuteTime": {
     "end_time": "2022-08-05T02:05:14.716564Z",
     "start_time": "2022-08-05T02:05:14.711526Z"
    }
   },
   "outputs": [],
   "source": [
    "data_3C273.colnames"
   ]
  },
  {
   "cell_type": "markdown",
   "metadata": {},
   "source": [
    "# PKS1510-089"
   ]
  },
  {
   "cell_type": "code",
   "execution_count": null,
   "metadata": {
    "ExecuteTime": {
     "end_time": "2022-08-05T02:18:30.612458Z",
     "start_time": "2022-08-05T02:18:30.608608Z"
    }
   },
   "outputs": [],
   "source": [
    "D_cm_PKS1510=cosmo.luminosity_distance(0.361).to(u.cm)\n",
    "flux_scale_5100_PKS1510=4*np.pi*(D_cm_PKS1510.value)**2*1.0e-15\n",
    "flux_scale_Hbeta_PKS1510=4*np.pi*(D_cm_PKS1510.value)**2*1.0e-15"
   ]
  },
  {
   "cell_type": "code",
   "execution_count": null,
   "metadata": {},
   "outputs": [],
   "source": []
  },
  {
   "cell_type": "markdown",
   "metadata": {},
   "source": [
    "## SMA_1510"
   ]
  },
  {
   "cell_type": "code",
   "execution_count": null,
   "metadata": {
    "ExecuteTime": {
     "end_time": "2022-07-22T04:07:58.490386Z",
     "start_time": "2022-07-22T04:07:58.469766Z"
    }
   },
   "outputs": [],
   "source": [
    "SMA_PKS1510=pd.read_csv(os.path.join(lag_data_dir,'SMA_PKS1510.py'),skiprows=1,delimiter='\\s+')#SMA"
   ]
  },
  {
   "cell_type": "code",
   "execution_count": null,
   "metadata": {
    "ExecuteTime": {
     "end_time": "2022-07-22T04:07:59.166272Z",
     "start_time": "2022-07-22T04:07:59.131362Z"
    }
   },
   "outputs": [],
   "source": [
    "SMA_PKS1510"
   ]
  },
  {
   "cell_type": "code",
   "execution_count": null,
   "metadata": {
    "ExecuteTime": {
     "end_time": "2022-07-22T04:08:00.461312Z",
     "start_time": "2022-07-22T04:08:00.446390Z"
    }
   },
   "outputs": [],
   "source": [
    "day=SMA_PKS1510['day']\n",
    "month=SMA_PKS1510['month']\n",
    "year=SMA_PKS1510['year']\n",
    "time=SMA_PKS1510['time']\n",
    "\n",
    "month_number=[]\n",
    "for i in month.values:\n",
    "    month_number.append(strptime(i,'%b').tm_mon)\n",
    "\n",
    "h=[]\n",
    "m=[]\n",
    "for i in time.values:\n",
    "    h.append(i.split(\":\")[0])\n",
    "    m.append(i.split(\":\")[1])\n",
    "\n",
    "SMA_PKS1510['mon_num']=month_number\n",
    "SMA_PKS1510['hour']=h\n",
    "SMA_PKS1510['minute']=m\n",
    "\n",
    "##############################\n",
    "#day=SMA_PKS1510['day']\n",
    "month_num=SMA_PKS1510['mon_num']\n",
    "#year=SMA_PKS1510['year']\n",
    "hour=SMA_PKS1510['hour']\n",
    "minute=SMA_PKS1510['minute']"
   ]
  },
  {
   "cell_type": "code",
   "execution_count": null,
   "metadata": {
    "ExecuteTime": {
     "end_time": "2022-07-22T04:08:02.091447Z",
     "start_time": "2022-07-22T04:08:02.034097Z"
    }
   },
   "outputs": [],
   "source": [
    "times=[]\n",
    "for i,(d_,m_,y_,h_,mi_) in enumerate(zip(day,month_num,year,hour,minute)):\n",
    "    times.append(Time(datetime(y_,m_,d_,int(h_),int(mi_),0),scale='ut1').mjd)\n",
    "\n",
    "'''\n",
    "    timesut=[]\n",
    "    for i,(d_,m_,y_,h_,mi_) in enumerate(zip(day,month_num,year,hour,minute)):\n",
    "    timesut.append(Time(datetime(y_,m_,d_,h_,mi_,0),scale='ut1'))\n",
    "    '''\n",
    "SMA_PKS1510['mjd']=times"
   ]
  },
  {
   "cell_type": "code",
   "execution_count": null,
   "metadata": {
    "ExecuteTime": {
     "end_time": "2022-07-22T04:08:02.929005Z",
     "start_time": "2022-07-22T04:08:02.919677Z"
    }
   },
   "outputs": [],
   "source": [
    "SMA_PKS1510_1mm=SMA_PKS1510[SMA_PKS1510['BAND']=='1mm']\n",
    "SMA_PKS1510_850=SMA_PKS1510[SMA_PKS1510['BAND']=='850']"
   ]
  },
  {
   "cell_type": "code",
   "execution_count": null,
   "metadata": {
    "ExecuteTime": {
     "end_time": "2022-07-22T04:08:03.661030Z",
     "start_time": "2022-07-22T04:08:03.656709Z"
    }
   },
   "outputs": [],
   "source": [
    "len(SMA_PKS1510),len(SMA_PKS1510_1mm),len(SMA_PKS1510_850)"
   ]
  },
  {
   "cell_type": "code",
   "execution_count": null,
   "metadata": {
    "ExecuteTime": {
     "end_time": "2022-07-22T04:08:06.796865Z",
     "start_time": "2022-07-22T04:08:06.790941Z"
    }
   },
   "outputs": [],
   "source": [
    "SMA_PKS1510_1mm.columns"
   ]
  },
  {
   "cell_type": "code",
   "execution_count": null,
   "metadata": {
    "ExecuteTime": {
     "end_time": "2022-07-21T13:17:11.453396Z",
     "start_time": "2022-07-21T13:17:11.449165Z"
    }
   },
   "outputs": [],
   "source": [
    "1e-3*300e9"
   ]
  },
  {
   "cell_type": "code",
   "execution_count": null,
   "metadata": {
    "ExecuteTime": {
     "end_time": "2022-08-04T13:12:06.599997Z",
     "start_time": "2022-08-04T13:12:04.408921Z"
    }
   },
   "outputs": [],
   "source": [
    "fig, ax = plt.subplots(1, 1,figsize=(8,6))\n",
    "\n",
    "ax.errorbar(SMA_PKS1510_1mm['mjd'],SMA_PKS1510_1mm['FLUX(JY)'],SMA_PKS1510_1mm['ERROR'],\n",
    "              ls=':',marker='.',markersize=10,color='r',label='SMA 300GHz')\n",
    "    \n",
    "set_ax_tick(ax)  \n",
    "ax.set_title('PKS1510-089')\n",
    "ax.set_xlabel(r'MJD(d)')\n",
    "ax.set_ylabel(r'Flux')\n",
    "\n",
    "\n",
    "\n",
    "ax.xaxis.set_tick_params(which='major', size=10, width=2, rotation=0,)\n",
    "handles, labels = ax.get_legend_handles_labels()\n",
    "# remove the errorbars\n",
    "#hdl = [h[0] for h in handles]\n",
    "hdl = handles\n",
    "labels_dict=dict(zip(labels, hdl)) #key,values\n",
    "by_label=OrderedDict(sorted(labels_dict.items(),key=lambda t:t[0]))\n",
    "#by_label = OrderedDict(zip(labels, handles))\n",
    "\n",
    "ax.legend(by_label.values(), by_label.keys(), bbox_to_anchor=(0.99, 0.99),\n",
    "          loc=2, numpoints=1,ncol=1,fontsize=11.)\n",
    "\n",
    "plot_secax(ax,mi_interval=365,ma_interval=365*2,rotation=30)    \n",
    "\n",
    "ax.set_xlim(54800,57200)\n",
    "#save_lc_img_path='/Users/brettlv/Downloads/PKS1510_plot/SMA_calibrator_300GHz.png'\n",
    "save_lc_img_path='/Users/brettlv/Downloads/PKS1510_plot/SMA_calibrator_300GHz_54800_57200.png'\n",
    "plt.savefig(save_lc_img_path,dpi=400, transparent=False, bbox_inches='tight')\n",
    "plt.close()"
   ]
  },
  {
   "cell_type": "code",
   "execution_count": null,
   "metadata": {},
   "outputs": [],
   "source": []
  },
  {
   "cell_type": "markdown",
   "metadata": {},
   "source": [
    "## Spectroscopic_PKS1510"
   ]
  },
  {
   "cell_type": "code",
   "execution_count": null,
   "metadata": {
    "ExecuteTime": {
     "end_time": "2022-08-05T02:18:58.714172Z",
     "start_time": "2022-08-05T02:18:58.711424Z"
    }
   },
   "outputs": [],
   "source": [
    "data_dir_PKS1510='/Volumes/ExtremeSSD/00PKU_SCI/FermiAGN_lag/lag_data/PKS 1510-089 spectroscopic light curvesJ_A+A_642_A59/'"
   ]
  },
  {
   "cell_type": "code",
   "execution_count": null,
   "metadata": {
    "ExecuteTime": {
     "end_time": "2022-08-05T02:19:00.867081Z",
     "start_time": "2022-08-05T02:19:00.848152Z"
    }
   },
   "outputs": [],
   "source": [
    "table_PKS1510_path=os.path.join(data_dir_PKS1510,'table1.dat')\n",
    "readme_PKS1510_path=os.path.join(data_dir_PKS1510,'ReadMe')\n",
    "data_PKS1510=Table.read(table_PKS1510_path,\n",
    "                      readme=readme_PKS1510_path,\n",
    "                      format=\"ascii.cds\",)\n"
   ]
  },
  {
   "cell_type": "code",
   "execution_count": null,
   "metadata": {
    "ExecuteTime": {
     "end_time": "2022-07-28T13:40:37.445583Z",
     "start_time": "2022-07-28T13:40:37.440791Z"
    }
   },
   "outputs": [],
   "source": [
    "readme_PKS1510_path"
   ]
  },
  {
   "cell_type": "code",
   "execution_count": null,
   "metadata": {
    "ExecuteTime": {
     "end_time": "2022-08-05T02:45:08.842645Z",
     "start_time": "2022-08-05T02:45:08.678473Z"
    }
   },
   "outputs": [],
   "source": [
    "cat '/Volumes/ExtremeSSD/00PKU_SCI/FermiAGN_lag/lag_data/PKS 1510-089 spectroscopic light curvesJ_A+A_642_A59/ReadMe'"
   ]
  },
  {
   "cell_type": "code",
   "execution_count": null,
   "metadata": {
    "ExecuteTime": {
     "end_time": "2022-08-04T13:17:17.626083Z",
     "start_time": "2022-08-04T13:17:17.610254Z"
    }
   },
   "outputs": [],
   "source": [
    "data_PKS1510.columns"
   ]
  },
  {
   "cell_type": "code",
   "execution_count": null,
   "metadata": {
    "ExecuteTime": {
     "end_time": "2022-08-04T13:25:42.258174Z",
     "start_time": "2022-08-04T13:25:42.244818Z"
    }
   },
   "outputs": [],
   "source": [
    "data_PKS1510"
   ]
  },
  {
   "cell_type": "markdown",
   "metadata": {
    "ExecuteTime": {
     "end_time": "2022-08-05T02:19:14.891521Z",
     "start_time": "2022-08-05T02:19:14.849334Z"
    }
   },
   "source": [
    "for i in data_PKS1510['FHb']*flux_scale_Hbeta_PKS1510:\n",
    "    print(i)"
   ]
  },
  {
   "cell_type": "code",
   "execution_count": null,
   "metadata": {
    "ExecuteTime": {
     "end_time": "2022-08-04T13:26:37.544785Z",
     "start_time": "2022-08-04T13:26:37.540069Z"
    }
   },
   "outputs": [],
   "source": [
    "data_PKS1510['MJD'][0]"
   ]
  },
  {
   "cell_type": "code",
   "execution_count": null,
   "metadata": {
    "ExecuteTime": {
     "end_time": "2022-08-04T13:28:10.583364Z",
     "start_time": "2022-08-04T13:28:10.577609Z"
    }
   },
   "outputs": [],
   "source": [
    "flux_scale_Hbeta_PKS1510"
   ]
  },
  {
   "cell_type": "code",
   "execution_count": null,
   "metadata": {
    "ExecuteTime": {
     "end_time": "2022-08-04T13:30:37.634412Z",
     "start_time": "2022-08-04T13:30:32.699507Z"
    }
   },
   "outputs": [],
   "source": []
  },
  {
   "cell_type": "code",
   "execution_count": null,
   "metadata": {},
   "outputs": [],
   "source": []
  },
  {
   "cell_type": "markdown",
   "metadata": {},
   "source": [
    "### plot LHbeta_L5100"
   ]
  },
  {
   "cell_type": "code",
   "execution_count": null,
   "metadata": {
    "ExecuteTime": {
     "end_time": "2022-07-28T13:41:06.041847Z",
     "start_time": "2022-07-28T13:41:06.036697Z"
    }
   },
   "outputs": [],
   "source": [
    "data_PKS1510.colnames"
   ]
  },
  {
   "cell_type": "code",
   "execution_count": null,
   "metadata": {
    "ExecuteTime": {
     "end_time": "2022-08-05T02:26:20.810241Z",
     "start_time": "2022-08-05T02:26:20.805480Z"
    }
   },
   "outputs": [],
   "source": [
    "flux_label_PKS1510=data_PKS1510.colnames[1]\n",
    "e_flux_label_PKS1510=data_PKS1510.colnames[2]\n",
    "flux_label_1_PKS1510=data_PKS1510.colnames[3]\n",
    "e_flux_label_1_PKS1510=data_PKS1510.colnames[4]\n",
    "print(flux_label_PKS1510,e_flux_label_PKS1510)\n",
    "print(flux_label_1_PKS1510,e_flux_label_1_PKS1510)"
   ]
  },
  {
   "cell_type": "code",
   "execution_count": null,
   "metadata": {
    "ExecuteTime": {
     "end_time": "2022-08-05T02:26:21.775328Z",
     "start_time": "2022-08-05T02:26:21.770457Z"
    }
   },
   "outputs": [],
   "source": [
    "D_cm_PKS1510.value"
   ]
  },
  {
   "cell_type": "code",
   "execution_count": null,
   "metadata": {
    "ExecuteTime": {
     "end_time": "2022-08-05T02:26:25.587912Z",
     "start_time": "2022-08-05T02:26:25.572947Z"
    }
   },
   "outputs": [],
   "source": [
    "x=np.log10(data_PKS1510[flux_label_PKS1510]*flux_scale_5100_PKS1510*5100)\n",
    "y=np.log10(data_PKS1510[flux_label_1_PKS1510]*flux_scale_Hbeta_PKS1510)\n",
    "spearmanr(x,y),pearsonr(x,y)"
   ]
  },
  {
   "cell_type": "code",
   "execution_count": null,
   "metadata": {
    "ExecuteTime": {
     "end_time": "2022-08-04T13:23:24.650208Z",
     "start_time": "2022-08-04T13:23:24.645023Z"
    }
   },
   "outputs": [],
   "source": [
    "flux_label_1_PKS1510"
   ]
  },
  {
   "cell_type": "code",
   "execution_count": null,
   "metadata": {
    "ExecuteTime": {
     "end_time": "2022-08-05T03:19:34.659772Z",
     "start_time": "2022-08-05T03:19:33.405523Z"
    }
   },
   "outputs": [],
   "source": [
    "fig, ax = plt.subplots(1, 1,figsize=(10,6))\n",
    "\n",
    "'''for i in range(len(Wu2004_LHbeta_L5100)):\n",
    "    flux_and_err=Wu2004_LHbeta_L5100.loc[i,Wu2004_LHbeta_L5100.columns[4]]\n",
    "    flux=flux_and_err.split('$\\pm$')[0]\n",
    "    err_flux=flux_and_err.split('$\\pm$')[1]\n",
    "    \n",
    "    flux_and_err_Hbeta=Wu2004_LHbeta_L5100.loc[i,Wu2004_LHbeta_L5100.columns[5]]\n",
    "    flux_Hbeta=flux_and_err_Hbeta.split('$\\pm$')[0]\n",
    "    err_flux_Hbeta=flux_and_err_Hbeta.split('$\\pm$')[1]\n",
    "    \n",
    "    ax.errorbar(x=np.log10(float(flux))+42,\n",
    "    #xerr=float(err_flux),\n",
    "    y=np.log10(float(flux_Hbeta))+42,\n",
    "    #yerr=float(err_flux_Hbeta),\n",
    "    ls=':',marker='.',markersize=10,color='grey',label='Wu2004')\n",
    "    '''\n",
    "\n",
    "\n",
    "\n",
    "\n",
    "ax.errorbar(x=np.log10(data_PKS1510[flux_label_PKS1510]*flux_scale_5100_PKS1510*5100),\n",
    "            #xerr=np.log10(data_PKS1510[e_flux_label]*flux_scale*5100),\n",
    "            y=np.log10(data_PKS1510[flux_label_1_PKS1510]*flux_scale_Hbeta_PKS1510),\n",
    "            #yerr=np.log10(data_PKS1510[e_flux_label_1]*flux_scale*4861),\n",
    "            fmt='.',label='PKS 1510-089')\n",
    "\n",
    "\n",
    "\n",
    "slope=1.02747111\n",
    "offset=3.04154998\n",
    "\n",
    "L5100_linspace=np.linspace(45.0,46)\n",
    "Lhbeta= L5100_linspace*slope-offset\n",
    "ax.plot(L5100_linspace,Lhbeta,label='Wu2004 logLHbeta=logL5100*%.3f -%.2f'%(slope,offset))\n",
    "\n",
    "L5100_linspace=np.linspace(45.0,46)\n",
    "Lhbeta= L5100_linspace*slope-offset-0.5\n",
    "ax.plot(L5100_linspace,Lhbeta,label='Wu2004 NTD=2')\n",
    "\n",
    "\n",
    "\n",
    "slope=0.947\n",
    "offset=0.45\n",
    "Lhbeta= L5100_linspace*slope-offset\n",
    "ax.plot(L5100_linspace,Lhbeta,ls='-.',label='Rakshit2020 logLHbeta=logL5100*%.3f -%.2f'%(slope,offset))\n",
    "\n",
    "\n",
    "\n",
    "slope=0.947\n",
    "offset=0.45\n",
    "Lhbeta= L5100_linspace*slope-offset-0.5\n",
    "ax.plot(L5100_linspace,Lhbeta,ls='--',label='Rakshit2020 NTD=2 ')\n",
    "\n",
    "\n",
    "\n",
    "ax.set_xlabel(r'log$L_{5100\\AA} (\\mathrm{erg\\, s^{-1}})$')\n",
    "ax.set_ylabel(r'log$L_{H\\beta} (\\mathrm{erg\\, s^{-1}})$')\n",
    "\n",
    "\n",
    "#ax.semilogx()\n",
    "#ax.semilogy()\n",
    "\n",
    "ax.set_title('PKS 1510-089')\n",
    "ax.xaxis.set_tick_params(which='major', size=10, width=2, rotation=0,)\n",
    "handles, labels = ax.get_legend_handles_labels()\n",
    "# remove the errorbars\n",
    "#hdl = [h[0] for h in handles]\n",
    "hdl = handles\n",
    "labels_dict=dict(zip(labels, hdl)) #key,values\n",
    "by_label=OrderedDict(sorted(labels_dict.items(),key=lambda t:t[0]))\n",
    "#by_label = OrderedDict(zip(labels, handles))\n",
    "\n",
    "ax.legend(by_label.values(), by_label.keys(), bbox_to_anchor=(0.01, 0.99),\n",
    "          loc=2, numpoints=1,ncol=1,fontsize=11.)\n",
    "\n",
    "ax.set_xlim(45.0,46.2)\n",
    "ax.set_ylim(43,43.5)\n",
    "\n",
    "#plot_secax(ax,mi_interval=365,ma_interval=365*2,rotation=30)\n",
    "set_ax_tick(ax)\n",
    "fig.tight_layout()\n",
    "plt.savefig('/Users/brettlv/Downloads/PKS1510_Hbeta_L5100.png',dpi=400)\n",
    "\n"
   ]
  },
  {
   "cell_type": "code",
   "execution_count": null,
   "metadata": {},
   "outputs": [],
   "source": []
  },
  {
   "cell_type": "code",
   "execution_count": null,
   "metadata": {},
   "outputs": [],
   "source": []
  },
  {
   "cell_type": "code",
   "execution_count": null,
   "metadata": {},
   "outputs": [],
   "source": []
  },
  {
   "cell_type": "code",
   "execution_count": null,
   "metadata": {},
   "outputs": [],
   "source": []
  },
  {
   "cell_type": "markdown",
   "metadata": {},
   "source": [
    "### plot NTD"
   ]
  },
  {
   "cell_type": "code",
   "execution_count": null,
   "metadata": {},
   "outputs": [],
   "source": [
    "fig, ax = plt.subplots(1, 1,figsize=(6,6))\n",
    "\n",
    "'''for i in range(len(Wu2004_LHbeta_L5100)):\n",
    "    flux_and_err=Wu2004_LHbeta_L5100.loc[i,Wu2004_LHbeta_L5100.columns[4]]\n",
    "    flux=flux_and_err.split('$\\pm$')[0]\n",
    "    err_flux=flux_and_err.split('$\\pm$')[1]\n",
    "    \n",
    "    flux_and_err_Hbeta=Wu2004_LHbeta_L5100.loc[i,Wu2004_LHbeta_L5100.columns[5]]\n",
    "    flux_Hbeta=flux_and_err_Hbeta.split('$\\pm$')[0]\n",
    "    err_flux_Hbeta=flux_and_err_Hbeta.split('$\\pm$')[1]\n",
    "    \n",
    "    ax.errorbar(x=np.log10(float(flux))+42,\n",
    "    #xerr=float(err_flux),\n",
    "    y=np.log10(float(flux_Hbeta))+42,\n",
    "    #yerr=float(err_flux_Hbeta),\n",
    "    ls=':',marker='.',markersize=10,color='grey',label='Wu2004')\n",
    "    '''\n",
    "\n",
    "\n",
    "for i in range(len(data_PKS1510)):\n",
    "    l5100= np.log10(data_PKS1510.loc[i,flux_label_PKS1510]*flux_scale_5100_PKS1510*5100\n",
    "    lHb= np.log10(data_PKS1510[flux_label_1_PKS1510]*flux_scale_Hbeta_PKS1510)\n",
    "                    \n",
    "    ax.errorbar(x=),\n",
    "            #xerr=np.log10(data_PKS1510[e_flux_label]*flux_scale*5100),\n",
    "            y=np.log10(data_PKS1510[flux_label_1_PKS1510]*flux_scale_Hbeta_PKS1510),\n",
    "            #yerr=np.log10(data_PKS1510[e_flux_label_1]*flux_scale*4861),\n",
    "            fmt='.',label='PKS 1510-089')\n",
    "\n",
    "\n",
    "\n",
    "'''slope=1.02747111\n",
    "offset=3.04154998\n",
    "L5100_linspace=np.linspace(45.0,46)\n",
    "Lhbeta= L5100_linspace*slope-offset\n",
    "ax.plot(L5100_linspace,Lhbeta,label='Wu2004 logLHbeta=logL5100*%.2f -%.2f'%(slope,offset))\n",
    "\n",
    "\n",
    "slope=0.947\n",
    "offset=0.45\n",
    "Lhbeta= L5100_linspace*slope-offset\n",
    "ax.plot(L5100_linspace,Lhbeta,ls='-.',label='Rakshit2020 logLHbeta=logL5100*%.2f -%.2f'%(slope,offset))\n",
    "'''\n",
    "\n",
    "\n",
    "\n",
    "\n",
    "\n",
    "ax.set_xlabel(r'log$L_{5100\\AA} (\\mathrm{erg\\, s^{-1}})$')\n",
    "ax.set_ylabel(r'log$L_{H\\beta} (\\mathrm{erg\\, s^{-1}})$')\n",
    "\n",
    "\n",
    "#ax.semilogx()\n",
    "#ax.semilogy()\n",
    "\n",
    "ax.set_title('PKS 1510-089')\n",
    "ax.xaxis.set_tick_params(which='major', size=10, width=2, rotation=0,)\n",
    "handles, labels = ax.get_legend_handles_labels()\n",
    "# remove the errorbars\n",
    "#hdl = [h[0] for h in handles]\n",
    "hdl = handles\n",
    "labels_dict=dict(zip(labels, hdl)) #key,values\n",
    "by_label=OrderedDict(sorted(labels_dict.items(),key=lambda t:t[0]))\n",
    "#by_label = OrderedDict(zip(labels, handles))\n",
    "\n",
    "ax.legend(by_label.values(), by_label.keys(), bbox_to_anchor=(0.01, 0.99),\n",
    "          loc=2, numpoints=1,ncol=1,fontsize=11.)\n",
    "\n",
    "#ax.set_xlim(45.5,46)\n",
    "#ax.set_ylim(44.0-0.2,44.5-0.2)\n",
    "\n",
    "#plot_secax(ax,mi_interval=365,ma_interval=365*2,rotation=30)\n",
    "set_ax_tick(ax)\n",
    "fig.tight_layout()\n",
    "plt.savefig('/Users/brettlv/Downloads/PKS1510_NTD_L5100.png',dpi=400)\n",
    "\n"
   ]
  },
  {
   "cell_type": "code",
   "execution_count": null,
   "metadata": {},
   "outputs": [],
   "source": []
  },
  {
   "cell_type": "code",
   "execution_count": null,
   "metadata": {},
   "outputs": [],
   "source": []
  },
  {
   "cell_type": "code",
   "execution_count": null,
   "metadata": {},
   "outputs": [],
   "source": []
  },
  {
   "cell_type": "code",
   "execution_count": null,
   "metadata": {
    "ExecuteTime": {
     "end_time": "2022-08-05T02:30:33.303334Z",
     "start_time": "2022-08-05T02:30:33.297088Z"
    }
   },
   "outputs": [],
   "source": [
    "slope=0.947\n",
    "offset=0.45\n",
    "Lhbeta= L5100_linspace*slope-offset\n",
    "L5100_linspace,Lhbeta"
   ]
  },
  {
   "cell_type": "markdown",
   "metadata": {},
   "source": [
    "## ATCA"
   ]
  },
  {
   "cell_type": "code",
   "execution_count": null,
   "metadata": {
    "ExecuteTime": {
     "end_time": "2022-07-21T08:31:53.176106Z",
     "start_time": "2022-07-21T08:31:53.073687Z"
    }
   },
   "outputs": [],
   "source": [
    "table_ATCA_PKS1510_origin=pd.read_excel(os.path.join(lag_data_dir,'PKS1510_ATCA_origin.xlsx'))"
   ]
  },
  {
   "cell_type": "code",
   "execution_count": null,
   "metadata": {
    "ExecuteTime": {
     "end_time": "2022-07-21T08:33:58.235675Z",
     "start_time": "2022-07-21T08:33:58.231586Z"
    }
   },
   "outputs": [],
   "source": [
    "table_ATCA_PKS1510_origin.columns"
   ]
  },
  {
   "cell_type": "code",
   "execution_count": null,
   "metadata": {
    "ExecuteTime": {
     "end_time": "2022-07-21T08:34:26.921690Z",
     "start_time": "2022-07-21T08:34:26.407756Z"
    }
   },
   "outputs": [],
   "source": [
    "table_ATCA_PKS1510=pd.DataFrame([])\n",
    "\n",
    "for i in range(len(table_ATCA_PKS1510_origin)):\n",
    "    if isinstance(table_ATCA_PKS1510_origin.loc[i,'Closure Phase'],str):\n",
    "        row_table=table_ATCA_PKS1510_origin.iloc[i]\n",
    "    #print(i)\n",
    "\n",
    "    else:\n",
    "        print(i)\n",
    "        \n",
    "        row_table = pd.DataFrame(\n",
    "                                 [\n",
    "                                  table_ATCA_PKS1510_origin.loc[i-1,table_ATCA_PKS1510_origin.columns[0]],\n",
    "                                  table_ATCA_PKS1510_origin.loc[i-1,table_ATCA_PKS1510_origin.columns[1]],\n",
    "                                  table_ATCA_PKS1510_origin.loc[i-1,table_ATCA_PKS1510_origin.columns[2]],\n",
    "                                  table_ATCA_PKS1510_origin.loc[i-1,table_ATCA_PKS1510_origin.columns[3]],\n",
    "                                  table_ATCA_PKS1510_origin.loc[i,table_ATCA_PKS1510_origin.columns[0]],\n",
    "                                  table_ATCA_PKS1510_origin.loc[i,table_ATCA_PKS1510_origin.columns[1]],\n",
    "                                  table_ATCA_PKS1510_origin.loc[i,table_ATCA_PKS1510_origin.columns[2]],\n",
    "                                  table_ATCA_PKS1510_origin.loc[i,table_ATCA_PKS1510_origin.columns[3]],\n",
    "                                  table_ATCA_PKS1510_origin.loc[i,table_ATCA_PKS1510_origin.columns[8]],\n",
    "                                  ])\n",
    "                                  \n",
    "        row_table=row_table.T\n",
    "        row_table.columns= table_ATCA_PKS1510_origin.columns\n",
    "\n",
    "    table_ATCA_PKS1510=table_ATCA_PKS1510.append(row_table,ignore_index=True)"
   ]
  },
  {
   "cell_type": "code",
   "execution_count": null,
   "metadata": {
    "ExecuteTime": {
     "end_time": "2022-07-21T08:39:54.391175Z",
     "start_time": "2022-07-21T08:39:54.372134Z"
    }
   },
   "outputs": [],
   "source": [
    "table_ATCA_PKS1510['Epoch'][0].split('-')"
   ]
  },
  {
   "cell_type": "code",
   "execution_count": null,
   "metadata": {
    "ExecuteTime": {
     "end_time": "2022-07-21T08:41:34.795816Z",
     "start_time": "2022-07-21T08:41:34.790969Z"
    }
   },
   "outputs": [],
   "source": [
    "strptime('Nov','%b').tm_mon"
   ]
  },
  {
   "cell_type": "code",
   "execution_count": null,
   "metadata": {},
   "outputs": [],
   "source": []
  },
  {
   "cell_type": "code",
   "execution_count": null,
   "metadata": {
    "ExecuteTime": {
     "end_time": "2022-07-21T08:42:18.549729Z",
     "start_time": "2022-07-21T08:42:18.543177Z"
    }
   },
   "outputs": [],
   "source": [
    "year=[]\n",
    "month=[]\n",
    "day=[]\n",
    "\n",
    "for i in table_ATCA_PKS1510['Epoch'].values:\n",
    "    year.append(i.split(\"-\")[0])\n",
    "    month.append(strptime(i.split(\"-\")[1],'%b').tm_mon)\n",
    "    day.append(i.split(\"-\")[2])"
   ]
  },
  {
   "cell_type": "code",
   "execution_count": null,
   "metadata": {
    "ExecuteTime": {
     "end_time": "2022-07-21T08:44:05.353960Z",
     "start_time": "2022-07-21T08:44:05.293825Z"
    }
   },
   "outputs": [],
   "source": [
    "times=[]\n",
    "for i,(d_,m_,y_,) in enumerate(zip(day,month,year)):                 \n",
    "    times.append(Time(datetime(int(y_),m_,int(d_),0,0,0),scale='ut1').mjd)\n",
    "    \n",
    "'''\n",
    "timesut=[]\n",
    "for i,(d_,m_,y_,h_,mi_) in enumerate(zip(day,month_num,year,hour,minute)):                 \n",
    "    timesut.append(Time(datetime(y_,m_,d_,h_,mi_,0),scale='ut1'))  \n",
    "'''    \n",
    "table_ATCA_PKS1510['mjd']=times"
   ]
  },
  {
   "cell_type": "code",
   "execution_count": null,
   "metadata": {
    "ExecuteTime": {
     "end_time": "2022-07-21T13:36:21.087046Z",
     "start_time": "2022-07-21T13:36:21.071536Z"
    }
   },
   "outputs": [],
   "source": [
    "table_ATCA_PKS1510.columns"
   ]
  },
  {
   "cell_type": "markdown",
   "metadata": {
    "ExecuteTime": {
     "end_time": "2022-07-22T04:11:47.061886Z",
     "start_time": "2022-07-22T04:11:47.033834Z"
    }
   },
   "source": [
    "table_ATCA_PKS1510.to_excel(os.path.join(lag_data_dir,'PKS1510_ATCA_calitrator_modified.xlsx'),index=False)"
   ]
  },
  {
   "cell_type": "code",
   "execution_count": null,
   "metadata": {
    "ExecuteTime": {
     "end_time": "2022-07-22T04:12:51.607505Z",
     "start_time": "2022-07-22T04:12:51.556219Z"
    }
   },
   "outputs": [],
   "source": [
    "table_ATCA_PKS1510=pd.read_excel(os.path.join(lag_data_dir,'PKS1510_ATCA_calitrator_modified.xlsx'))"
   ]
  },
  {
   "cell_type": "code",
   "execution_count": null,
   "metadata": {
    "ExecuteTime": {
     "end_time": "2022-07-22T04:12:52.385757Z",
     "start_time": "2022-07-22T04:12:52.379776Z"
    }
   },
   "outputs": [],
   "source": [
    "table_ATCA_PKS1510_5GHz=table_ATCA_PKS1510[abs(table_ATCA_PKS1510['Frequency']-5000)<1000]\n",
    "\n",
    "table_ATCA_PKS1510_5GHz=drop_index(table_ATCA_PKS1510_5GHz)"
   ]
  },
  {
   "cell_type": "code",
   "execution_count": null,
   "metadata": {
    "ExecuteTime": {
     "end_time": "2022-07-22T04:13:33.109928Z",
     "start_time": "2022-07-22T04:13:31.407211Z"
    }
   },
   "outputs": [],
   "source": [
    "fig, ax = plt.subplots(1, 1,figsize=(8,6))\n",
    "\n",
    "for i in range(len(table_ATCA_PKS1510_5GHz)):\n",
    "    flux_and_err=table_ATCA_PKS1510_5GHz.loc[i,'Flux Density (Jy)']\n",
    "    flux=flux_and_err.split('±')[0]\n",
    "    err_flux=flux_and_err.split('±')[1]\n",
    "    #print(flux,err_flux)\n",
    "    ax.errorbar(table_ATCA_PKS1510_5GHz.loc[i,'mjd'],float(flux),float(err_flux),\n",
    "              ls=':',marker='.',markersize=10,color='r',label='VLA 5GHz')\n",
    "    \n",
    "set_ax_tick(ax)  \n",
    "ax.set_title('PKS1510-089')\n",
    "ax.set_xlabel(r'MJD(d)')\n",
    "ax.set_ylabel(r'Flux')\n",
    "\n",
    "ax.xaxis.set_tick_params(which='major', size=10, width=2, rotation=0,)\n",
    "handles, labels = ax.get_legend_handles_labels()\n",
    "# remove the errorbars\n",
    "#hdl = [h[0] for h in handles]\n",
    "hdl = handles\n",
    "labels_dict=dict(zip(labels, hdl)) #key,values\n",
    "by_label=OrderedDict(sorted(labels_dict.items(),key=lambda t:t[0]))\n",
    "#by_label = OrderedDict(zip(labels, handles))\n",
    "\n",
    "ax.legend(by_label.values(), by_label.keys(), bbox_to_anchor=(0.99, 0.99),\n",
    "          loc=2, numpoints=1,ncol=1,fontsize=11.)\n",
    "\n",
    "plot_secax(ax,mi_interval=365,ma_interval=365*2,rotation=30)    \n",
    "\n",
    "ax.set_xlim(54800,57200)\n",
    "#save_lc_img_path='/Users/brettlv/Downloads/PKS1510_plot/ATCA_calibrator_VLA_lc_5GHz.png'\n",
    "save_lc_img_path='/Users/brettlv/Downloads/PKS1510_plot/ATCA_calibrator_VLA_lc_5GHz_54800_57200.png'\n",
    "\n",
    "plt.savefig(save_lc_img_path,dpi=400, transparent=False, bbox_inches='tight')\n",
    "plt.close()"
   ]
  },
  {
   "cell_type": "markdown",
   "metadata": {},
   "source": [
    "## mojave_15GHz_VLBA"
   ]
  },
  {
   "cell_type": "code",
   "execution_count": 19,
   "metadata": {
    "ExecuteTime": {
     "end_time": "2022-08-26T11:52:59.774676Z",
     "start_time": "2022-08-26T11:52:59.769379Z"
    }
   },
   "outputs": [],
   "source": [
    "data_PKS1510_dir_mojave=lag_data_dir"
   ]
  },
  {
   "cell_type": "code",
   "execution_count": 20,
   "metadata": {
    "ExecuteTime": {
     "end_time": "2022-08-26T11:53:00.579453Z",
     "start_time": "2022-08-26T11:53:00.281157Z"
    }
   },
   "outputs": [],
   "source": [
    "mojave_15GHz_PKS1510=pd.read_excel('%s/VLBA_PKS1510_089.xlsx'%data_PKS1510_dir_mojave,sheet_name='Sheet1')\n",
    "mojave_15GHz_PKS1510=mojave_15GHz_PKS1510[mojave_15GHz_PKS1510['VLBA I'].notnull()]\n",
    "mojave_15GHz_PKS1510=mojave_15GHz_PKS1510[mojave_15GHz_PKS1510['VLBA Code'].notnull()]\n",
    "\n",
    "mojave_15GHz_PKS1510.columns=['Epoch', 'VLBA Code', 'VLBA I', 'VLBA P', 'VLBA percentage', 'VLBA degree',\n",
    "                            'I Image (Nat. Weight)', 'Tapered I Image',\n",
    "                            'Tapered I Image (Widefield)', 'Visibility',\n",
    "                            'Stokes I Radplot', 'Pol.','note']\n",
    "\n",
    "\n",
    "mojave_15GHz_PKS1510['mjd']=convert_mjd(mojave_15GHz_PKS1510['Epoch'])\n",
    "mojave_15GHz_PKS1510['flux']=mojave_15GHz_PKS1510['VLBA I']/1000\n",
    "mojave_15GHz_PKS1510['err']=0\n",
    "mojave_15GHz_PKS1510=drop_index(mojave_15GHz_PKS1510)"
   ]
  },
  {
   "cell_type": "code",
   "execution_count": 21,
   "metadata": {
    "ExecuteTime": {
     "end_time": "2022-08-26T11:53:16.266400Z",
     "start_time": "2022-08-26T11:53:16.257256Z"
    }
   },
   "outputs": [
    {
     "data": {
      "text/plain": [
       "(0.95, 6.684)"
      ]
     },
     "execution_count": 21,
     "metadata": {},
     "output_type": "execute_result"
    }
   ],
   "source": [
    "min(mojave_15GHz_PKS1510['flux']),max(mojave_15GHz_PKS1510['flux'])"
   ]
  },
  {
   "cell_type": "markdown",
   "metadata": {
    "ExecuteTime": {
     "end_time": "2022-07-21T13:51:24.953690Z",
     "start_time": "2022-07-21T13:51:24.948093Z"
    }
   },
   "source": [
    "mojave_15GHz_PKS1510.iloc[83]#.columns"
   ]
  },
  {
   "cell_type": "code",
   "execution_count": null,
   "metadata": {
    "ExecuteTime": {
     "end_time": "2022-08-04T13:15:32.909101Z",
     "start_time": "2022-08-04T13:15:32.903427Z"
    }
   },
   "outputs": [],
   "source": [
    "mojave_15GHz_PKS1510.iloc[0]['VLBA P']"
   ]
  },
  {
   "cell_type": "markdown",
   "metadata": {
    "ExecuteTime": {
     "end_time": "2022-07-21T13:55:47.137935Z",
     "start_time": "2022-07-21T13:55:47.101144Z"
    }
   },
   "source": [
    "mojave_15GHz_PKS1510.loc[0,'VLBA P']"
   ]
  },
  {
   "cell_type": "code",
   "execution_count": null,
   "metadata": {
    "ExecuteTime": {
     "end_time": "2022-08-04T13:15:36.198960Z",
     "start_time": "2022-08-04T13:15:36.172278Z"
    }
   },
   "outputs": [],
   "source": [
    "mojave_15GHz_PKS1510"
   ]
  },
  {
   "cell_type": "code",
   "execution_count": null,
   "metadata": {
    "ExecuteTime": {
     "end_time": "2022-08-05T03:11:13.888195Z",
     "start_time": "2022-08-05T03:11:13.883446Z"
    }
   },
   "outputs": [],
   "source": [
    "mojave_15GHz_PKS1510.columns"
   ]
  },
  {
   "cell_type": "markdown",
   "metadata": {},
   "source": [
    "### pol"
   ]
  },
  {
   "cell_type": "code",
   "execution_count": null,
   "metadata": {
    "ExecuteTime": {
     "end_time": "2022-07-22T04:27:35.663329Z",
     "start_time": "2022-07-22T04:27:33.643402Z"
    }
   },
   "outputs": [],
   "source": [
    "fig, ax = plt.subplots(1, 1,figsize=(8,6))\n",
    "\n",
    "for i in range(len(mojave_15GHz_PKS1510)):\n",
    "    if isinstance(mojave_15GHz_PKS1510.loc[i,'VLBA P'],(int,float)):\n",
    "        ax.errorbar(mojave_15GHz_PKS1510.loc[i,'mjd'],\n",
    "                     mojave_15GHz_PKS1510.loc[i,'VLBA P'],\n",
    "                     \n",
    "                    color='b',marker='*',markersize=10,label='mojave_15GHz_P_flux')\n",
    "\n",
    "\n",
    "\n",
    "\n",
    "ax2=ax.twinx()\n",
    "for i in range(len(mojave_15GHz_PKS1510)):\n",
    "    if isinstance(mojave_15GHz_PKS1510.loc[i,'VLBA percentage'],(int,float)):\n",
    "    #if mojave_15GHz_PKS1510.loc[i,'VLBA P']!='no data':\n",
    "        #print(mojave_15GHz_PKS1510.loc[i,'mjd'],mojave_15GHz_PKS1510.loc[i,'VLBA P'])\n",
    "        \n",
    "        ax2.errorbar(mojave_15GHz_PKS1510.loc[i,'mjd'],\n",
    "                    mojave_15GHz_PKS1510.loc[i,'VLBA percentage'],\n",
    "                   color='r',marker='.',markersize=10,label='mojave_15GHz_Pol percentage')\n",
    "\n",
    "\n",
    "\n",
    "#set_ax_tick(ax) \n",
    "\n",
    "ax.set_title('PKS1510-089')\n",
    "ax.set_xlabel(r'MJD(d)')\n",
    "ax.set_ylabel(r'Flux(mJy)')\n",
    "ax2.set_ylabel(r'Pol(deg)')\n",
    "\n",
    "ax.xaxis.set_tick_params(which='major', size=10, width=2, rotation=0,)\n",
    "handles, labels = ax.get_legend_handles_labels()\n",
    "# remove the errorbars\n",
    "#hdl = [h[0] for h in handles]\n",
    "hdl = handles\n",
    "labels_dict=dict(zip(labels, hdl)) #key,values\n",
    "by_label=OrderedDict(sorted(labels_dict.items(),key=lambda t:t[0]))\n",
    "#by_label = OrderedDict(zip(labels, handles))\n",
    "\n",
    "ax.legend(by_label.values(), by_label.keys(), bbox_to_anchor=(0.01, 0.99),\n",
    "          loc=2, numpoints=1,ncol=1,fontsize=11.)\n",
    "\n",
    "\n",
    "#ax2.xaxis.set_tick_params(which='major', size=10, width=2, rotation=0,)\n",
    "handles, labels = ax2.get_legend_handles_labels()\n",
    "# remove the errorbars\n",
    "#hdl = [h[0] for h in handles]\n",
    "hdl = handles\n",
    "labels_dict=dict(zip(labels, hdl)) #key,values\n",
    "by_label=OrderedDict(sorted(labels_dict.items(),key=lambda t:t[0]))\n",
    "#by_label = OrderedDict(zip(labels, handles))\n",
    "\n",
    "ax2.legend(by_label.values(), by_label.keys(), bbox_to_anchor=(0.56, 0.99),\n",
    "          loc=2, numpoints=1,ncol=1,fontsize=11.)\n",
    "\n",
    "plot_secax(ax,mi_interval=365,ma_interval=365*2,rotation=30)    \n",
    "\n",
    "ax.set_xlim(54800,57200)\n",
    "#save_lc_img_path='/Users/brettlv/Downloads/PKS1510_plot/Mojave_15GHz_pol_lc.png'\n",
    "save_lc_img_path='/Users/brettlv/Downloads/PKS1510_plot/Mojave_15GHz_pol_lc_54800_57200.png'\n",
    "\n",
    "ax.xaxis.set_tick_params(which='major', size=10, width=2, direction='in', )\n",
    "ax.xaxis.set_tick_params(which='minor', size=5, width=2, direction='in',)\n",
    "ax.yaxis.set_tick_params(which='major', size=10, width=2, direction='in')\n",
    "ax.yaxis.set_tick_params(which='minor', size=5, width=2, direction='in',)\n",
    "\n",
    "ax2.yaxis.set_tick_params(which='major', size=10, width=2, direction='in')\n",
    "ax2.yaxis.set_tick_params(which='minor', size=5, width=2, direction='in',)\n",
    "\n",
    "\n",
    "\n",
    "plt.savefig(save_lc_img_path,dpi=400, transparent=False, bbox_inches='tight')\n",
    "plt.close()"
   ]
  },
  {
   "cell_type": "markdown",
   "metadata": {},
   "source": [
    "### I"
   ]
  },
  {
   "cell_type": "code",
   "execution_count": null,
   "metadata": {
    "ExecuteTime": {
     "end_time": "2022-08-04T13:15:45.559328Z",
     "start_time": "2022-08-04T13:15:42.651541Z"
    }
   },
   "outputs": [],
   "source": [
    "fig, ax = plt.subplots(1, 1,figsize=(8,6))\n",
    "\n",
    "ax.errorbar(mojave_15GHz_PKS1510['mjd'],mojave_15GHz_PKS1510['flux'],mojave_15GHz_PKS1510['err'],\n",
    "              ls=':',marker='.',markersize=10,color='r',label='mojave_15GHz')\n",
    "\n",
    "\n",
    "set_ax_tick(ax)  \n",
    "ax.set_title('PKS1510-089')\n",
    "ax.set_xlabel(r'MJD(d)')\n",
    "ax.set_ylabel(r'Flux(mJy)')\n",
    "\n",
    "ax.xaxis.set_tick_params(which='major', size=10, width=2, rotation=0,)\n",
    "handles, labels = ax.get_legend_handles_labels()\n",
    "# remove the errorbars\n",
    "#hdl = [h[0] for h in handles]\n",
    "hdl = handles\n",
    "labels_dict=dict(zip(labels, hdl)) #key,values\n",
    "by_label=OrderedDict(sorted(labels_dict.items(),key=lambda t:t[0]))\n",
    "#by_label = OrderedDict(zip(labels, handles))\n",
    "\n",
    "ax.legend(by_label.values(), by_label.keys(), bbox_to_anchor=(0.99, 0.99),\n",
    "          loc=2, numpoints=1,ncol=1,fontsize=11.)\n",
    "\n",
    "plot_secax(ax,mi_interval=180,ma_interval=360,rotation=30)    \n",
    "\n",
    "ax.set_xlim(54800,57200)\n",
    "\n",
    "\n",
    "ax2=\n",
    "\n",
    "\n",
    "\n",
    "save_lc_img_path='/Users/brettlv/Downloads/PKS1510_plot/Mojave_15GHz_I_lc_54800_57200.png'\n",
    "\n",
    "#save_lc_img_path='/Users/brettlv/Downloads/PKS1510_plot/Mojave_15GHz_I_lc.png'\n",
    "plt.savefig(save_lc_img_path,dpi=400, transparent=False, bbox_inches='tight')\n",
    "plt.close()"
   ]
  },
  {
   "cell_type": "code",
   "execution_count": null,
   "metadata": {},
   "outputs": [],
   "source": []
  },
  {
   "cell_type": "markdown",
   "metadata": {},
   "source": [
    "## plot_lc_PKS1510"
   ]
  },
  {
   "cell_type": "code",
   "execution_count": null,
   "metadata": {
    "ExecuteTime": {
     "end_time": "2022-08-05T03:10:51.354842Z",
     "start_time": "2022-08-05T03:10:46.699385Z"
    }
   },
   "outputs": [],
   "source": [
    "fig, ax = plt.subplots(1, 1,figsize=(8,6))\n",
    "\n",
    "#x=np.log10(data_PKS1510[flux_label_PKS1510]*flux_scale_5100_PKS1510*5100)\n",
    "#y=np.log10(data_PKS1510[flux_label_1_PKS1510]*flux_scale_Hbeta_PKS1510)\n",
    "\n",
    "ax.errorbar(mojave_15GHz_PKS1510['mjd'],mojave_15GHz_PKS1510['flux'],mojave_15GHz_PKS1510['err'],\n",
    "              ls=':',marker='.',markersize=10,color='black',label='mojave_15GHz')\n",
    "\n",
    "ax.xaxis.set_tick_params(which='major', size=10, width=2, rotation=0,)\n",
    "handles, labels = ax.get_legend_handles_labels()\n",
    "# remove the errorbars\n",
    "#hdl = [h[0] for h in handles]\n",
    "hdl = handles\n",
    "labels_dict=dict(zip(labels, hdl)) #key,values\n",
    "by_label=OrderedDict(sorted(labels_dict.items(),key=lambda t:t[0]))\n",
    "#by_label = OrderedDict(zip(labels, handles))\n",
    "\n",
    "ax.legend(by_label.values(), by_label.keys(), bbox_to_anchor=(0.01, 0.99),\n",
    "          loc=2, numpoints=1,ncol=1,fontsize=11.)\n",
    "\n",
    "set_ax_tick(ax) \n",
    "plot_secax(ax,mi_interval=180,ma_interval=360,rotation=30)\n",
    "\n",
    "ax2=ax.twinx()\n",
    "\n",
    "\n",
    "for i in range(len(data_PKS1510)):\n",
    "    \n",
    "    ax2.errorbar(data_PKS1510['MJD'][i],data_PKS1510['F5100'][i]*flux_scale_5100_PKS1510*5100,\n",
    "              ls=':',marker='.',color='r',markersize=10,label='5100')\n",
    "\n",
    "for i in range(len(data_PKS1510)):\n",
    "    #print(data_PKS1510['MJD'][i],data_PKS1510['FHb'][i]*flux_scale_Hbeta_PKS1510)    \n",
    "    ax2.errorbar(data_PKS1510['MJD'][i],data_PKS1510['FHb'][i]*flux_scale_Hbeta_PKS1510,\n",
    "              ls=':',marker='.',color='blue',markersize=10,label='Hbeta')\n",
    "\n",
    "\n",
    " \n",
    "\n",
    "ax.set_title('PKS1510-089')\n",
    "ax2.set_xlabel(r'MJD(d)')\n",
    "ax2.set_ylabel(r'Flux($\\mathrm{erg s^{-1}}$)')\n",
    "ax.set_ylabel(r'Flux($\\mathrm{Jy}$)')\n",
    "\n",
    "ax2.xaxis.set_tick_params(which='major', size=10, width=2, rotation=0,)\n",
    "handles, labels = ax2.get_legend_handles_labels()\n",
    "# remove the errorbars\n",
    "#hdl = [h[0] for h in handles]\n",
    "hdl = handles\n",
    "labels_dict=dict(zip(labels, hdl)) #key,values\n",
    "by_label=OrderedDict(sorted(labels_dict.items(),key=lambda t:t[0]))\n",
    "#by_label = OrderedDict(zip(labels, handles))\n",
    "\n",
    "ax2.legend(by_label.values(), by_label.keys(), bbox_to_anchor=(0.79, 0.99),\n",
    "          loc=2, numpoints=1,ncol=1,fontsize=11.)\n",
    "\n",
    "ax2.semilogy()\n",
    "\n",
    "set_ax_tick(ax2) \n",
    "\n",
    "    \n",
    "range_l,range_r=(54800-200,56550)\n",
    "\n",
    "ax.set_xlim(range_l,range_r)\n",
    "\n",
    "save_lc_img_path='/Users/brettlv/Downloads/PKS1510_plot/Spec_PKS1510_lc_%d_%d.png'%(range_l,range_r)\n",
    "#save_lc_img_path='/Users/brettlv/Downloads/PKS1510_plot/Mojave_15GHz_I_lc.png'\n",
    "plt.savefig(save_lc_img_path,dpi=400, transparent=False, bbox_inches='tight')\n",
    "#plt.close()\n",
    "\n",
    "\n"
   ]
  },
  {
   "cell_type": "markdown",
   "metadata": {},
   "source": [
    "# get_data_name(sourcename)"
   ]
  },
  {
   "cell_type": "code",
   "execution_count": null,
   "metadata": {},
   "outputs": [],
   "source": []
  },
  {
   "cell_type": "code",
   "execution_count": null,
   "metadata": {
    "ExecuteTime": {
     "end_time": "2022-07-18T13:18:42.955940Z",
     "start_time": "2022-07-18T13:18:42.950251Z"
    }
   },
   "outputs": [],
   "source": [
    "def get_Rdata_name(name_i):\n",
    "    Rdata_source=pd.DataFrame([])\n",
    "    source_Name_i=name_i.strip()\n",
    "    \n",
    "    if source_Name_i.startswith('PKS') or \\\n",
    "    source_Name_i.startswith('1ES') or \\\n",
    "    source_Name_i.startswith('1H') or \\\n",
    "    source_Name_i.startswith('AO'):\n",
    "        source_Name_i_Rband=source_Name_i.replace(' ','')\n",
    "    \n",
    "    else:\n",
    "        source_Name_i_Rband=source_Name_i\n",
    "        \n",
    "    source_name_i=Source_name_dict[source_Name_i]\n",
    "    #source_name=Source_name_dict[source_Name]  \n",
    "    #Rband_num=0     \n",
    "    for i in range(10):\n",
    "        Rphot=pd.read_excel(os.path.join(Rphot_dir,'Rphot_Cycle%d.xlsx'%(i+1)))\n",
    "        Rphot_name= Rphot[Rphot['Object']==source_Name_i_Rband]\n",
    "        Rdata_source=Rdata_source.append(Rphot_name,ignore_index=True)\n",
    "        \n",
    "    Rdata_source['mjd']=Rdata_source['JD']-2400000.5\n",
    "        \n",
    "    return Rdata_source\n",
    "    "
   ]
  },
  {
   "cell_type": "code",
   "execution_count": null,
   "metadata": {
    "ExecuteTime": {
     "end_time": "2022-07-18T13:18:43.454847Z",
     "start_time": "2022-07-18T13:18:43.448749Z"
    }
   },
   "outputs": [],
   "source": [
    "def get_Vdata_name(name_i):\n",
    "    \n",
    "    Rdata_source=pd.DataFrame([])\n",
    "    source_Name_i=name_i.strip()\n",
    "    \n",
    "    if source_Name_i.startswith('PKS') or source_Name_i.startswith('1ES') or source_Name_i.startswith('1H'):\n",
    "        source_Name_i_Rband=source_Name_i.replace(' ','')\n",
    "    \n",
    "    else:\n",
    "        source_Name_i_Rband=source_Name_i\n",
    "        \n",
    "    source_name_i=Source_name_dict[source_Name_i]\n",
    "    #source_name=Source_name_dict[source_Name]  \n",
    "       \n",
    "    \n",
    "    for i in range(10):\n",
    "        if i==0:\n",
    "            prefix=''\n",
    "        else:\n",
    "            prefix='_%d'%(i+1)\n",
    "        \n",
    "        Polpath=os.path.join(root_data_dir,source_name_i,'%s_phot'%source_name_i+prefix+'.xlsx')\n",
    "        \n",
    "        if os.path.exists(Polpath):\n",
    "            Poldata=pd.read_excel(Polpath)  \n",
    "            Rdata_source=Rdata_source.append(Poldata,ignore_index=True)\n",
    "        \n",
    "    \n",
    "    Rdata_source['mjd']=Rdata_source['JD']-2400000.5\n",
    "        \n",
    "    return Rdata_source\n",
    "    "
   ]
  },
  {
   "cell_type": "code",
   "execution_count": null,
   "metadata": {
    "ExecuteTime": {
     "end_time": "2022-07-18T13:18:44.025274Z",
     "start_time": "2022-07-18T13:18:44.018054Z"
    }
   },
   "outputs": [],
   "source": [
    "def get_Poldata_name(name_i):\n",
    "    \n",
    "    Rdata_source=pd.DataFrame([])\n",
    "    source_Name_i=name_i.strip()\n",
    "\n",
    "        \n",
    "    source_name_i=Source_name_dict[source_Name_i]\n",
    "    #source_name=Source_name_dict[source_Name]  \n",
    "    \n",
    "    for i in range(10):\n",
    "        if i==0:\n",
    "            prefix=''\n",
    "        else:\n",
    "            prefix='_%d'%(i+1)\n",
    "        \n",
    "        Polpath=os.path.join(root_data_dir,source_name_i,'%s_pol'%source_name_i+prefix+'.xlsx')\n",
    "        if os.path.exists(Polpath):\n",
    "            Poldata=pd.read_excel(Polpath)    \n",
    "            Rdata_source=Rdata_source.append(Poldata,ignore_index=True)\n",
    "        \n",
    "    \n",
    "    Rdata_source['mjd']=Rdata_source['JD']-2400000.5\n",
    "        \n",
    "    return Rdata_source\n",
    "    "
   ]
  },
  {
   "cell_type": "code",
   "execution_count": null,
   "metadata": {
    "ExecuteTime": {
     "end_time": "2022-07-18T13:16:36.902751Z",
     "start_time": "2022-07-18T13:16:36.899764Z"
    }
   },
   "outputs": [],
   "source": [
    "source_Name='3C 273'\n",
    "name_i=source_Name\n",
    "\n",
    "source_Name_i=name_i.strip()\n",
    "\n",
    "source_name_i=Source_name_dict[source_Name_i]"
   ]
  },
  {
   "cell_type": "code",
   "execution_count": null,
   "metadata": {
    "ExecuteTime": {
     "end_time": "2022-07-18T13:18:47.361659Z",
     "start_time": "2022-07-18T13:18:47.310955Z"
    }
   },
   "outputs": [],
   "source": [
    "prefix=''\n",
    "Polpath=os.path.join(root_data_dir,source_name_i,'%s_pol'%source_name_i+prefix+'.xlsx')\n",
    "if os.path.exists(Polpath):\n",
    "    Poldata=pd.read_excel(Polpath)    "
   ]
  },
  {
   "cell_type": "code",
   "execution_count": null,
   "metadata": {
    "ExecuteTime": {
     "end_time": "2022-07-18T13:18:47.767951Z",
     "start_time": "2022-07-18T13:18:47.763407Z"
    }
   },
   "outputs": [],
   "source": [
    "Polpath"
   ]
  },
  {
   "cell_type": "markdown",
   "metadata": {
    "ExecuteTime": {
     "end_time": "2022-07-18T13:18:49.598106Z",
     "start_time": "2022-07-18T13:18:49.565278Z"
    }
   },
   "source": [
    "Poldata"
   ]
  },
  {
   "cell_type": "code",
   "execution_count": null,
   "metadata": {
    "ExecuteTime": {
     "end_time": "2022-07-18T13:18:58.125961Z",
     "start_time": "2022-07-18T13:18:56.733217Z"
    }
   },
   "outputs": [],
   "source": [
    "source_Name='3C 273'\n",
    "Rband_data_source=get_Rdata_name(source_Name)"
   ]
  },
  {
   "cell_type": "code",
   "execution_count": null,
   "metadata": {
    "ExecuteTime": {
     "end_time": "2022-07-18T13:19:01.637317Z",
     "start_time": "2022-07-18T13:19:01.613950Z"
    }
   },
   "outputs": [],
   "source": [
    "Rdata_source"
   ]
  },
  {
   "cell_type": "markdown",
   "metadata": {
    "ExecuteTime": {
     "end_time": "2022-07-18T13:05:28.568776Z",
     "start_time": "2022-07-18T13:05:28.561379Z"
    }
   },
   "source": [
    "Lum_Rdata_source=Rdata_source"
   ]
  },
  {
   "cell_type": "markdown",
   "metadata": {
    "ExecuteTime": {
     "end_time": "2022-07-18T13:05:35.026145Z",
     "start_time": "2022-07-18T13:05:34.987957Z"
    }
   },
   "source": [
    "Lum_Rdata_source"
   ]
  },
  {
   "cell_type": "code",
   "execution_count": null,
   "metadata": {
    "ExecuteTime": {
     "end_time": "2022-07-18T13:19:11.922754Z",
     "start_time": "2022-07-18T13:19:11.742178Z"
    }
   },
   "outputs": [],
   "source": [
    "source_Name='3C 273'\n",
    "Poldata_source=get_Poldata_name(source_Name)"
   ]
  },
  {
   "cell_type": "code",
   "execution_count": null,
   "metadata": {
    "ExecuteTime": {
     "end_time": "2022-07-18T13:19:13.029362Z",
     "start_time": "2022-07-18T13:19:12.998637Z"
    }
   },
   "outputs": [],
   "source": [
    "Poldata_source"
   ]
  },
  {
   "cell_type": "code",
   "execution_count": null,
   "metadata": {
    "ExecuteTime": {
     "end_time": "2022-07-18T13:19:15.760527Z",
     "start_time": "2022-07-18T13:19:15.565011Z"
    }
   },
   "outputs": [],
   "source": [
    "source_Name='3C 273'\n",
    "Vdata_source=get_Vdata_name(source_Name)"
   ]
  },
  {
   "cell_type": "code",
   "execution_count": null,
   "metadata": {
    "ExecuteTime": {
     "end_time": "2022-07-18T13:19:19.871360Z",
     "start_time": "2022-07-18T13:19:19.834054Z"
    }
   },
   "outputs": [],
   "source": [
    "Vdata_source"
   ]
  },
  {
   "cell_type": "code",
   "execution_count": null,
   "metadata": {},
   "outputs": [],
   "source": []
  },
  {
   "cell_type": "markdown",
   "metadata": {},
   "source": [
    "# def write_lagfile"
   ]
  },
  {
   "cell_type": "code",
   "execution_count": null,
   "metadata": {
    "ExecuteTime": {
     "end_time": "2022-08-05T03:29:12.496689Z",
     "start_time": "2022-08-05T03:29:12.490339Z"
    }
   },
   "outputs": [],
   "source": [
    "def write_lagfile(rootdir,sourcename,labelname1,labelname2,dataname1,dataname2,rangemin,rangemax):\n",
    "    #sourcename=sourcename_origin.strip().replace(' ','')\n",
    "    \n",
    "    if not os.path.exists(os.path.join(rootdir,sourcename)):\n",
    "        os.mkdir(os.path.join(rootdir,sourcename))\n",
    "        \n",
    "    data1= dataname1[dataname1['t']>=rangemin]\n",
    "    data1= data1[data1['t']<=rangemax]   \n",
    "    path_data1=os.path.join(rootdir,sourcename,labelname1+labelname2+'_%d_%d.csv'%(rangemin,rangemax))\n",
    "    #if os.path.exists(path_data1):\n",
    "        #os.remove(path_data1)\n",
    "    data1.to_csv(path_data1,index=False,header=False,sep=',')\n",
    "    \n",
    "    data2= dataname2[dataname2['t']>=rangemin]\n",
    "    data2= data2[data2['t']<=rangemax]    \n",
    "    path_data2=os.path.join(rootdir,sourcename,labelname2+labelname1+'_%d_%d.csv'%(rangemin,rangemax))\n",
    "    #if os.path.exists(path_data2):\n",
    "        #os.remove(path_data2)            \n",
    "    data2.to_csv(path_data2,index=False,header=False,sep=',')  \n",
    "    return path_data1,path_data2    "
   ]
  },
  {
   "cell_type": "code",
   "execution_count": null,
   "metadata": {
    "ExecuteTime": {
     "end_time": "2022-08-05T03:29:13.206262Z",
     "start_time": "2022-08-05T03:29:13.202262Z"
    }
   },
   "outputs": [],
   "source": [
    "def get_lagfile(rootdir,sourcename,labelname1,labelname2,dataname1,dataname2,rangemin,rangemax):\n",
    "    #sourcename=sourcename_origin.strip().replace(' ','')\n",
    "    #data1= dataname1[dataname1['t']>rangemin]\n",
    "    #data1= data1[data1['t']<rangemax]   \n",
    "    path_data1=os.path.join(rootdir,sourcename,labelname1+labelname2+'_%d_%d.csv'%(rangemin,rangemax))\n",
    "    #data1.to_csv(path_data1,index=False,header=False,sep=',')\n",
    "    \n",
    "    #data2= dataname2[dataname2['t']>rangemin]\n",
    "    #data2= data2[data2['t']<rangemax]    \n",
    "    path_data2=os.path.join(rootdir,sourcename,labelname2+labelname1+'_%d_%d.csv'%(rangemin,rangemax))\n",
    "    #data2.to_csv(path_data2,index=False,header=False,sep=',')  \n",
    "    return path_data1,path_data2 "
   ]
  },
  {
   "cell_type": "code",
   "execution_count": null,
   "metadata": {
    "ExecuteTime": {
     "end_time": "2022-08-05T03:29:16.359487Z",
     "start_time": "2022-08-05T03:29:16.352779Z"
    }
   },
   "outputs": [],
   "source": [
    "def write_javelin_lagfile(rootdir,sourcename,labelname1,labelname2,dataname1,dataname2,rangemin,rangemax):\n",
    "    #sourcename=sourcename_origin.strip().replace(' ','')\n",
    "    \n",
    "    if not os.path.exists(os.path.join(rootdir,sourcename)):\n",
    "        os.mkdir(os.path.join(rootdir,sourcename))\n",
    "        \n",
    "    data1= dataname1[dataname1['t']>=rangemin]\n",
    "    data1= data1[data1['t']<=rangemax]   \n",
    "    data1=data1.sort_values('t')\n",
    "    path_data1=os.path.join(rootdir,sourcename,labelname1+labelname2+'_%d_%d.csv'%(rangemin,rangemax))\n",
    "    if os.path.exists(path_data1):\n",
    "        os.remove(path_data1)\n",
    "    data1.to_csv(path_data1,index=False,header=False,sep=' ')\n",
    "    \n",
    "    data2= dataname2[dataname2['t']>=rangemin]\n",
    "    data2= data2[data2['t']<=rangemax] \n",
    "    data2=data2.sort_values('t')\n",
    "    path_data2=os.path.join(rootdir,sourcename,labelname2+labelname1+'_%d_%d.csv'%(rangemin,rangemax))\n",
    "    if os.path.exists(path_data2):\n",
    "        os.remove(path_data2)    \n",
    "    data2.to_csv(path_data2,index=False,header=False,sep=' ')  \n",
    "    return path_data1,path_data2    "
   ]
  },
  {
   "cell_type": "markdown",
   "metadata": {},
   "source": [
    "# def fermi_monitor_mag_to_flux"
   ]
  },
  {
   "cell_type": "markdown",
   "metadata": {},
   "source": [
    "The adopted conversion from flux density (in mJy = 10-26 erg cm-2 s-1 Hz-1) to V apparent magnitude \n",
    "is given by V = 15 - 2.5 log (Fν/3.64)."
   ]
  },
  {
   "cell_type": "code",
   "execution_count": null,
   "metadata": {
    "ExecuteTime": {
     "end_time": "2022-07-18T13:19:30.312295Z",
     "start_time": "2022-07-18T13:19:30.308632Z"
    }
   },
   "outputs": [],
   "source": [
    "def fermi_monitor_mag_to_flux(data,maglabel_w1,e_maglabel_w1,D_cm):    \n",
    "    data['logL_V']= (15-data[maglabel_w1])/2.5+np.log10(3.64)+np.log10(4*np.pi*D_cm**2) -26\n",
    "    #data['logL_W2']= (-48.6-data[maglabel_w2]-3.339)/2.5+np.log10(4*np.pi*D_cm**2)\n",
    "    data['e_logL_V'] =   data[e_maglabel_w1]/2.5\n",
    "    #data['e_logL_W2'] =   data[e_maglabel_w2]/2.5\n",
    "    return data"
   ]
  },
  {
   "cell_type": "markdown",
   "metadata": {},
   "source": [
    "# CCF"
   ]
  },
  {
   "cell_type": "markdown",
   "metadata": {},
   "source": [
    "## def run_ccf"
   ]
  },
  {
   "cell_type": "code",
   "execution_count": null,
   "metadata": {
    "ExecuteTime": {
     "end_time": "2022-08-05T03:25:54.353000Z",
     "start_time": "2022-08-05T03:25:54.344669Z"
    }
   },
   "outputs": [],
   "source": [
    "def run_ccf(rootdir,sourcename,labelname1,labelname2,dataname1,dataname2,rangemin,rangemax,lagrangel=-10,lagrangeh=30):\n",
    "    #command='python ccf_ngc1566_cpython.py %s %s %s %s %d %d %d %d'%(path_data1,path_data2,labelname1,labelname2,rangemin,rangemax,lagrangel,lagrangeh)\n",
    "    os.chdir(rootdir)\n",
    "    \n",
    "    source_path=os.path.join(rootdir,sourcename)\n",
    "    \n",
    "    path_data1,path_data2=write_lagfile(rootdir,sourcename,labelname1,labelname2,dataname1,dataname2,rangemin,rangemax)\n",
    "    command='python CCF_cpython.py %s %s %d %d %d %d %s'%(path_data1,path_data2,rangemin,rangemax,lagrangel,lagrangeh,source_path)\n",
    "    print(command)\n",
    "    os.system(command)  "
   ]
  },
  {
   "cell_type": "markdown",
   "metadata": {},
   "source": [
    "## def plot_ccf"
   ]
  },
  {
   "cell_type": "code",
   "execution_count": null,
   "metadata": {
    "ExecuteTime": {
     "end_time": "2022-08-05T03:25:56.997315Z",
     "start_time": "2022-08-05T03:25:56.992748Z"
    }
   },
   "outputs": [],
   "source": [
    "def plot_ccf(rootdir,sourcename,labelname1,labelname2,dataname1,dataname2,rangemin,rangemax,lagrangel=-10,lagrangeh=30):\n",
    "    #command='python ccf_ngc1566_cpython.py %s %s %s %s %d %d %d %d'%(path_data1,path_data2,labelname1,labelname2,rangemin,rangemax,lagrangel,lagrangeh)\n",
    "    os.chdir(rootdir)\n",
    "    source_path=os.path.join(rootdir,sourcename)\n",
    "    path_data1,path_data2=write_lagfile(rootdir,sourcename,labelname1,labelname2,dataname1,dataname2,rangemin,rangemax)\n",
    "    command='python2 CCF_plot.py %s %s %d %d %d %d %s'%(path_data1,path_data2,rangemin,rangemax,lagrangel,lagrangeh,source_path)\n",
    "    print(command)\n",
    "    os.system(command)    "
   ]
  },
  {
   "cell_type": "code",
   "execution_count": null,
   "metadata": {},
   "outputs": [],
   "source": []
  },
  {
   "cell_type": "code",
   "execution_count": null,
   "metadata": {},
   "outputs": [],
   "source": []
  },
  {
   "cell_type": "code",
   "execution_count": null,
   "metadata": {
    "ExecuteTime": {
     "end_time": "2022-08-05T03:25:59.323987Z",
     "start_time": "2022-08-05T03:25:59.320175Z"
    }
   },
   "outputs": [],
   "source": [
    "rootdir_ccf='%s/00CCF/'%root_dir\n",
    "if not os.path.exists(rootdir_ccf):\n",
    "    os.mkdir(rootdir_ccf)\n",
    "    print(rootdir_ccf)"
   ]
  },
  {
   "cell_type": "code",
   "execution_count": null,
   "metadata": {
    "ExecuteTime": {
     "end_time": "2022-08-05T03:26:01.421985Z",
     "start_time": "2022-08-05T03:26:01.417017Z"
    }
   },
   "outputs": [],
   "source": [
    "print(rootdir_ccf)"
   ]
  },
  {
   "cell_type": "markdown",
   "metadata": {},
   "source": [
    "## 3C 273"
   ]
  },
  {
   "cell_type": "code",
   "execution_count": null,
   "metadata": {
    "ExecuteTime": {
     "end_time": "2022-08-05T03:50:39.941007Z",
     "start_time": "2022-08-05T03:50:39.932873Z"
    }
   },
   "outputs": [],
   "source": [
    "source_Name='3C 273'\n",
    "source_name=Source_name_dict[source_Name]\n",
    "source_z=Fermi_AGN_list_name_redshift_T[Fermi_AGN_list_name_redshift_T['      Input Object Name       '].str.strip()==source_Name]['z_value']\n",
    "D_cm=cosmo.luminosity_distance(source_z.values[0]).to(u.cm)"
   ]
  },
  {
   "cell_type": "code",
   "execution_count": null,
   "metadata": {
    "ExecuteTime": {
     "end_time": "2022-07-18T13:19:53.698018Z",
     "start_time": "2022-07-18T13:19:53.577091Z"
    }
   },
   "outputs": [],
   "source": [
    "Vdata_source=get_Vdata_name(source_Name)\n",
    "maglabel_w1=Vdata_source.columns[7]\n",
    "e_maglabel_w1=Vdata_source.columns[8]\n",
    "Lum_Vdata_source=fermi_monitor_mag_to_flux(Vdata_source,maglabel_w1,e_maglabel_w1,D_cm.value) "
   ]
  },
  {
   "cell_type": "code",
   "execution_count": null,
   "metadata": {
    "ExecuteTime": {
     "end_time": "2022-07-18T13:34:12.593303Z",
     "start_time": "2022-07-18T13:34:12.588100Z"
    }
   },
   "outputs": [],
   "source": [
    "lag_Vdata_source=Lum_Vdata_source[['mjd','logL_V','e_logL_V']]\n",
    "lag_Vdata_source.columns=['t','flux','flux_err']\n",
    "lag_Vdata_source=lag_Vdata_source.sort_values(['t'])"
   ]
  },
  {
   "cell_type": "code",
   "execution_count": null,
   "metadata": {
    "ExecuteTime": {
     "end_time": "2022-07-18T13:31:25.616653Z",
     "start_time": "2022-07-18T13:31:23.795903Z"
    }
   },
   "outputs": [],
   "source": [
    "Rdata_source=get_Rdata_name(source_Name)\n",
    "\n",
    "maglabel_w1=Rdata_source.columns[7]\n",
    "e_maglabel_w1=Rdata_source.columns[8]\n",
    "Lum_Rdata_source=fermi_monitor_mag_to_flux(Rdata_source,maglabel_w1,e_maglabel_w1,D_cm.value) "
   ]
  },
  {
   "cell_type": "markdown",
   "metadata": {
    "ExecuteTime": {
     "end_time": "2022-07-18T13:33:26.402561Z",
     "start_time": "2022-07-18T13:33:26.397247Z"
    }
   },
   "source": [
    "Lum_Rdata_source.columns"
   ]
  },
  {
   "cell_type": "code",
   "execution_count": null,
   "metadata": {
    "ExecuteTime": {
     "end_time": "2022-07-18T13:34:05.589919Z",
     "start_time": "2022-07-18T13:34:05.584230Z"
    }
   },
   "outputs": [],
   "source": [
    "lag_Rdata_source=Lum_Rdata_source[['mjd','logL_V','e_logL_V']]\n",
    "lag_Rdata_source.columns=['t','flux','flux_err']\n",
    "lag_Rdata_source=lag_Rdata_source.sort_values(['t'])"
   ]
  },
  {
   "cell_type": "code",
   "execution_count": null,
   "metadata": {},
   "outputs": [],
   "source": []
  },
  {
   "cell_type": "code",
   "execution_count": null,
   "metadata": {
    "ExecuteTime": {
     "end_time": "2022-07-18T13:19:54.115399Z",
     "start_time": "2022-07-18T13:19:54.108719Z"
    }
   },
   "outputs": [],
   "source": []
  },
  {
   "cell_type": "code",
   "execution_count": null,
   "metadata": {
    "ExecuteTime": {
     "end_time": "2022-07-18T13:21:34.806098Z",
     "start_time": "2022-07-18T13:21:34.800096Z"
    }
   },
   "outputs": [],
   "source": [
    "len(lag_Vdata_source)"
   ]
  },
  {
   "cell_type": "markdown",
   "metadata": {},
   "source": [
    "lag_Vdata_source"
   ]
  },
  {
   "cell_type": "code",
   "execution_count": null,
   "metadata": {
    "ExecuteTime": {
     "end_time": "2022-07-18T13:19:58.792244Z",
     "start_time": "2022-07-18T13:19:58.630159Z"
    }
   },
   "outputs": [],
   "source": [
    "source_Name='3C 273'\n",
    "Poldata_source=get_Poldata_name(source_Name)\n",
    "Poldata_source['snr']=Poldata_source[Poldata_source.columns[9]]/Poldata_source[Poldata_source.columns[10]]"
   ]
  },
  {
   "cell_type": "code",
   "execution_count": null,
   "metadata": {
    "ExecuteTime": {
     "end_time": "2022-07-18T13:20:10.403680Z",
     "start_time": "2022-07-18T13:20:10.398481Z"
    }
   },
   "outputs": [],
   "source": [
    "Poldata_source_snr=Poldata_source[Poldata_source['snr']>5]"
   ]
  },
  {
   "cell_type": "markdown",
   "metadata": {
    "ExecuteTime": {
     "end_time": "2022-07-18T13:20:14.946539Z",
     "start_time": "2022-07-18T13:20:14.913746Z"
    }
   },
   "source": [
    "Poldata_source_snr"
   ]
  },
  {
   "cell_type": "code",
   "execution_count": null,
   "metadata": {
    "ExecuteTime": {
     "end_time": "2022-07-18T13:21:18.843554Z",
     "start_time": "2022-07-18T13:21:18.838444Z"
    }
   },
   "outputs": [],
   "source": [
    "lag_Poldata_source=Poldata_source_snr[['mjd',Poldata_source.columns[9],Poldata_source.columns[10]]]\n",
    "lag_Poldata_source.columns=['t','Pol','Pol_err']\n",
    "lag_Poldata_source=lag_Poldata_source.sort_values(['t'])"
   ]
  },
  {
   "cell_type": "code",
   "execution_count": null,
   "metadata": {
    "ExecuteTime": {
     "end_time": "2022-07-18T13:21:24.465180Z",
     "start_time": "2022-07-18T13:21:24.460711Z"
    }
   },
   "outputs": [],
   "source": [
    "len(lag_Poldata_source)"
   ]
  },
  {
   "cell_type": "markdown",
   "metadata": {
    "ExecuteTime": {
     "end_time": "2022-07-18T12:20:20.675720Z",
     "start_time": "2022-07-18T12:20:20.662186Z"
    }
   },
   "source": [
    "lag_Poldata_source"
   ]
  },
  {
   "cell_type": "code",
   "execution_count": null,
   "metadata": {},
   "outputs": [],
   "source": []
  },
  {
   "cell_type": "code",
   "execution_count": null,
   "metadata": {
    "ExecuteTime": {
     "end_time": "2022-07-18T13:23:02.045872Z",
     "start_time": "2022-07-18T13:21:44.994093Z"
    }
   },
   "outputs": [],
   "source": [
    "labelname1=\"V\"\n",
    "labelname2=\"Pol\"\n",
    "dataname1=lag_Vdata_source\n",
    "dataname2=lag_Poldata_source\n",
    "\n",
    "sourcename_label='3C273'\n",
    "rangemin,rangemax=54500,58500\n",
    "lagrangel=-300\n",
    "lagrangeh=300\n",
    "\n",
    "run_ccf(rootdir_ccf,sourcename_label,labelname1,labelname2,dataname1,dataname2,rangemin,rangemax,lagrangel,lagrangeh)\n",
    "#plot_ccf(rootdir_ccf,sourcename,labelname1,labelname2,dataname1,dataname2,rangemin,rangemax,lagrangel,lagrangeh)"
   ]
  },
  {
   "cell_type": "code",
   "execution_count": null,
   "metadata": {
    "ExecuteTime": {
     "end_time": "2022-07-18T13:28:18.130513Z",
     "start_time": "2022-07-18T13:28:14.019627Z"
    }
   },
   "outputs": [],
   "source": [
    "plot_ccf(rootdir_ccf,sourcename_label,labelname1,labelname2,dataname1,dataname2,rangemin,rangemax,lagrangel,lagrangeh)"
   ]
  },
  {
   "cell_type": "code",
   "execution_count": null,
   "metadata": {},
   "outputs": [],
   "source": []
  },
  {
   "cell_type": "code",
   "execution_count": null,
   "metadata": {
    "ExecuteTime": {
     "end_time": "2022-07-18T14:11:20.604649Z",
     "start_time": "2022-07-18T14:08:15.113207Z"
    }
   },
   "outputs": [],
   "source": [
    "labelname1=\"V\"\n",
    "labelname2=\"R\"\n",
    "dataname1=lag_Vdata_source\n",
    "dataname2=lag_Rdata_source\n",
    "\n",
    "sourcename_label='3C273'\n",
    "rangemin,rangemax=54500,58500\n",
    "lagrangel=-100\n",
    "lagrangeh=100\n",
    "\n",
    "run_ccf(rootdir_ccf,sourcename_label,labelname1,labelname2,dataname1,dataname2,rangemin,rangemax,lagrangel,lagrangeh)\n",
    "#plot_ccf(rootdir_ccf,sourcename,labelname1,labelname2,dataname1,dataname2,rangemin,rangemax,lagrangel,lagrangeh)"
   ]
  },
  {
   "cell_type": "code",
   "execution_count": null,
   "metadata": {
    "ExecuteTime": {
     "end_time": "2022-07-18T14:11:24.594112Z",
     "start_time": "2022-07-18T14:11:20.612780Z"
    }
   },
   "outputs": [],
   "source": [
    "plot_ccf(rootdir_ccf,sourcename_label,labelname1,labelname2,dataname1,dataname2,rangemin,rangemax,lagrangel,lagrangeh)"
   ]
  },
  {
   "cell_type": "markdown",
   "metadata": {},
   "source": [
    "###  L5100_LHbeta_Jet_lag"
   ]
  },
  {
   "cell_type": "code",
   "execution_count": null,
   "metadata": {
    "ExecuteTime": {
     "end_time": "2022-08-05T04:43:37.625391Z",
     "start_time": "2022-08-05T04:43:37.612613Z"
    }
   },
   "outputs": [],
   "source": [
    "data_3C273.colnames"
   ]
  },
  {
   "cell_type": "code",
   "execution_count": null,
   "metadata": {
    "ExecuteTime": {
     "end_time": "2022-08-05T04:47:59.613939Z",
     "start_time": "2022-08-05T04:47:59.605934Z"
    }
   },
   "outputs": [],
   "source": [
    "lag_5100_source=data_3C273[['mjd1','F5100','e_F5100']].to_pandas()\n",
    "lag_5100_source.columns=['t','flux','flux_err']\n",
    "lag_5100_source=lag_5100_source.sort_values(['t'])"
   ]
  },
  {
   "cell_type": "code",
   "execution_count": null,
   "metadata": {
    "ExecuteTime": {
     "end_time": "2022-08-05T04:48:17.931314Z",
     "start_time": "2022-08-05T04:48:17.923711Z"
    }
   },
   "outputs": [],
   "source": [
    "lag_Hbeta_source=data_3C273[['mjd1','FHbeta','e_FHbeta']].to_pandas()\n",
    "lag_Hbeta_source.columns=['t','flux','flux_err']\n",
    "lag_Hbeta_source=lag_Hbeta_source.sort_values(['t'])"
   ]
  },
  {
   "cell_type": "code",
   "execution_count": null,
   "metadata": {
    "ExecuteTime": {
     "end_time": "2022-08-05T04:48:20.055559Z",
     "start_time": "2022-08-05T04:48:20.050457Z"
    }
   },
   "outputs": [],
   "source": [
    "lag_15GHz_3c273=mojave_15GHz_3c273[['mjd','flux','err']]\n",
    "lag_15GHz_3c273.columns=['t','flux','err']\n",
    "lag_15GHz_3c273=lag_15GHz_3c273.sort_values('t')"
   ]
  },
  {
   "cell_type": "code",
   "execution_count": null,
   "metadata": {
    "ExecuteTime": {
     "end_time": "2022-08-05T04:52:05.877789Z",
     "start_time": "2022-08-05T04:52:05.871616Z"
    }
   },
   "outputs": [],
   "source": [
    "lag_15GHz_3c273_ovro=ovro_40m_3C273[['mjd','flux','flux err']]\n",
    "lag_15GHz_3c273_ovro.columns=['t','flux','err']\n",
    "lag_15GHz_3c273_ovro=lag_15GHz_3c273_ovro.sort_values('t')"
   ]
  },
  {
   "cell_type": "code",
   "execution_count": null,
   "metadata": {
    "ExecuteTime": {
     "end_time": "2022-08-05T06:19:22.285797Z",
     "start_time": "2022-08-05T06:19:22.281351Z"
    }
   },
   "outputs": [],
   "source": [
    "Jet3C273_decomp.columns"
   ]
  },
  {
   "cell_type": "code",
   "execution_count": null,
   "metadata": {
    "ExecuteTime": {
     "end_time": "2022-08-05T06:20:24.124100Z",
     "start_time": "2022-08-05T06:20:24.117934Z"
    }
   },
   "outputs": [],
   "source": [
    "lag_Jetdecomp_3c273=Jet3C273_decomp[['mjd','Jetflux_V','err_Jetflux_V']]\n",
    "lag_Jetdecomp_3c273.columns=['t','flux','err']\n",
    "lag_Jetdecomp_3c273=lag_Jetdecomp_3c273.sort_values('t')"
   ]
  },
  {
   "cell_type": "code",
   "execution_count": null,
   "metadata": {
    "ExecuteTime": {
     "end_time": "2022-08-05T06:27:06.196528Z",
     "start_time": "2022-08-05T06:27:06.191061Z"
    }
   },
   "outputs": [],
   "source": [
    "lag_Diskdecomp_3c273=Disk3C273_decomp[['mjd','Diskflux_V','err_Diskflux_V']]\n",
    "lag_Diskdecomp_3c273.columns=['t','flux','err']\n",
    "lag_Diskdecomp_3c273=lag_Diskdecomp_3c273.sort_values('t')"
   ]
  },
  {
   "cell_type": "code",
   "execution_count": null,
   "metadata": {},
   "outputs": [],
   "source": []
  },
  {
   "cell_type": "code",
   "execution_count": null,
   "metadata": {
    "ExecuteTime": {
     "end_time": "2022-08-05T06:32:02.104278Z",
     "start_time": "2022-08-05T06:31:07.948925Z"
    }
   },
   "outputs": [],
   "source": [
    "labelname1=\"Diskdecomp\"\n",
    "labelname2=\"Hbeta\"\n",
    "dataname1=lag_Diskdecomp_3c273\n",
    "dataname2=lag_Hbeta_source\n",
    "\n",
    "sourcename_label='3C273'\n",
    "rangemin,rangemax=56800,58200\n",
    "lagrangel=0\n",
    "lagrangeh=400\n",
    "\n",
    "run_ccf(rootdir_ccf,sourcename_label,labelname1,labelname2,dataname1,dataname2,rangemin,rangemax,lagrangel,lagrangeh)\n",
    "#plot_ccf(rootdir_ccf,sourcename,labelname1,labelname2,dataname1,dataname2,rangemin,rangemax,lagrangel,lagrangeh)a"
   ]
  },
  {
   "cell_type": "code",
   "execution_count": null,
   "metadata": {
    "ExecuteTime": {
     "end_time": "2022-08-05T06:32:05.236961Z",
     "start_time": "2022-08-05T06:32:02.106856Z"
    },
    "scrolled": true
   },
   "outputs": [],
   "source": [
    "plot_ccf(rootdir_ccf,sourcename_label,labelname1,labelname2,dataname1,dataname2,rangemin,rangemax,lagrangel,lagrangeh)"
   ]
  },
  {
   "cell_type": "code",
   "execution_count": null,
   "metadata": {},
   "outputs": [],
   "source": []
  },
  {
   "cell_type": "code",
   "execution_count": null,
   "metadata": {},
   "outputs": [],
   "source": []
  },
  {
   "cell_type": "code",
   "execution_count": null,
   "metadata": {
    "ExecuteTime": {
     "end_time": "2022-08-05T04:53:55.594706Z",
     "start_time": "2022-08-05T04:52:59.425142Z"
    }
   },
   "outputs": [],
   "source": [
    "labelname1=\"5100\"\n",
    "labelname2=\"Hbeta\"\n",
    "dataname1=lag_5100_source\n",
    "dataname2=lag_Hbeta_source\n",
    "\n",
    "sourcename_label='3C273'\n",
    "rangemin,rangemax=56800,58200\n",
    "lagrangel=0\n",
    "lagrangeh=400\n",
    "\n",
    "run_ccf(rootdir_ccf,sourcename_label,labelname1,labelname2,dataname1,dataname2,rangemin,rangemax,lagrangel,lagrangeh)\n",
    "#plot_ccf(rootdir_ccf,sourcename,labelname1,labelname2,dataname1,dataname2,rangemin,rangemax,lagrangel,lagrangeh)a"
   ]
  },
  {
   "cell_type": "code",
   "execution_count": null,
   "metadata": {
    "ExecuteTime": {
     "end_time": "2022-08-05T04:53:59.112456Z",
     "start_time": "2022-08-05T04:53:55.597963Z"
    }
   },
   "outputs": [],
   "source": [
    "plot_ccf(rootdir_ccf,sourcename_label,labelname1,labelname2,dataname1,dataname2,rangemin,rangemax,lagrangel,lagrangeh)"
   ]
  },
  {
   "cell_type": "code",
   "execution_count": null,
   "metadata": {},
   "outputs": [],
   "source": []
  },
  {
   "cell_type": "code",
   "execution_count": null,
   "metadata": {
    "ExecuteTime": {
     "end_time": "2022-08-05T04:57:07.861695Z",
     "start_time": "2022-08-05T04:56:45.770661Z"
    }
   },
   "outputs": [],
   "source": [
    "labelname1=\"5100\"\n",
    "labelname2=\"15GHz_vlba\"\n",
    "dataname1=lag_5100_source\n",
    "dataname2=lag_15GHz_3c273\n",
    "\n",
    "sourcename_label='3C273'\n",
    "rangemin,rangemax=56800,58200\n",
    "lagrangel=200\n",
    "lagrangeh=800\n",
    "\n",
    "run_ccf(rootdir_ccf,sourcename_label,labelname1,labelname2,dataname1,dataname2,rangemin,rangemax,lagrangel,lagrangeh)\n",
    "#plot_ccf(rootdir_ccf,sourcename,labelname1,labelname2,dataname1,dataname2,rangemin,rangemax,lagrangel,lagrangeh)a"
   ]
  },
  {
   "cell_type": "code",
   "execution_count": null,
   "metadata": {
    "ExecuteTime": {
     "end_time": "2022-08-05T04:57:11.332525Z",
     "start_time": "2022-08-05T04:57:07.864093Z"
    }
   },
   "outputs": [],
   "source": [
    "plot_ccf(rootdir_ccf,sourcename_label,labelname1,labelname2,dataname1,dataname2,rangemin,rangemax,lagrangel,lagrangeh)"
   ]
  },
  {
   "cell_type": "code",
   "execution_count": null,
   "metadata": {},
   "outputs": [],
   "source": []
  },
  {
   "cell_type": "code",
   "execution_count": null,
   "metadata": {
    "ExecuteTime": {
     "end_time": "2022-08-05T05:00:20.062032Z",
     "start_time": "2022-08-05T04:59:12.008851Z"
    }
   },
   "outputs": [],
   "source": [
    "labelname1=\"5100\"\n",
    "labelname2=\"15GHz_ovro\"\n",
    "dataname1=lag_5100_source\n",
    "dataname2=lag_15GHz_3c273_ovro\n",
    "\n",
    "sourcename_label='3C273'\n",
    "rangemin,rangemax=56800,58200\n",
    "lagrangel=200\n",
    "lagrangeh=1000\n",
    "\n",
    "run_ccf(rootdir_ccf,sourcename_label,labelname1,labelname2,dataname1,dataname2,rangemin,rangemax,lagrangel,lagrangeh)\n",
    "#plot_ccf(rootdir_ccf,sourcename,labelname1,labelname2,dataname1,dataname2,rangemin,rangemax,lagrangel,lagrangeh)a"
   ]
  },
  {
   "cell_type": "code",
   "execution_count": null,
   "metadata": {
    "ExecuteTime": {
     "end_time": "2022-08-05T05:00:23.195455Z",
     "start_time": "2022-08-05T05:00:20.064747Z"
    }
   },
   "outputs": [],
   "source": [
    "plot_ccf(rootdir_ccf,sourcename_label,labelname1,labelname2,dataname1,dataname2,rangemin,rangemax,lagrangel,lagrangeh)"
   ]
  },
  {
   "cell_type": "code",
   "execution_count": null,
   "metadata": {},
   "outputs": [],
   "source": []
  },
  {
   "cell_type": "code",
   "execution_count": null,
   "metadata": {
    "ExecuteTime": {
     "end_time": "2022-08-05T06:24:26.667158Z",
     "start_time": "2022-08-05T06:23:59.071977Z"
    }
   },
   "outputs": [],
   "source": [
    "labelname1=\"Jetdecomp\"\n",
    "labelname2=\"15GHz_vlba\"\n",
    "dataname1=lag_Jetdecomp_3c273\n",
    "dataname2=lag_15GHz_3c273\n",
    "\n",
    "sourcename_label='3C273'\n",
    "rangemin,rangemax=56800,58200\n",
    "lagrangel=200\n",
    "lagrangeh=1000\n",
    "\n",
    "run_ccf(rootdir_ccf,sourcename_label,labelname1,labelname2,dataname1,dataname2,rangemin,rangemax,lagrangel,lagrangeh)\n",
    "#plot_ccf(rootdir_ccf,sourcename,labelname1,labelname2,dataname1,dataname2,rangemin,rangemax,lagrangel,lagrangeh)a"
   ]
  },
  {
   "cell_type": "code",
   "execution_count": null,
   "metadata": {
    "ExecuteTime": {
     "end_time": "2022-08-05T06:24:31.926629Z",
     "start_time": "2022-08-05T06:24:29.149686Z"
    }
   },
   "outputs": [],
   "source": [
    "plot_ccf(rootdir_ccf,sourcename_label,labelname1,labelname2,dataname1,dataname2,rangemin,rangemax,lagrangel,lagrangeh)"
   ]
  },
  {
   "cell_type": "code",
   "execution_count": null,
   "metadata": {},
   "outputs": [],
   "source": []
  },
  {
   "cell_type": "code",
   "execution_count": null,
   "metadata": {},
   "outputs": [],
   "source": []
  },
  {
   "cell_type": "code",
   "execution_count": null,
   "metadata": {
    "ExecuteTime": {
     "end_time": "2022-08-05T06:22:46.454421Z",
     "start_time": "2022-08-05T06:21:34.684348Z"
    }
   },
   "outputs": [],
   "source": [
    "labelname1=\"Jetdecomp\"\n",
    "labelname2=\"15GHz_ovro\"\n",
    "dataname1=lag_Jetdecomp_3c273\n",
    "dataname2=lag_15GHz_3c273_ovro\n",
    "\n",
    "sourcename_label='3C273'\n",
    "rangemin,rangemax=56800,58200\n",
    "lagrangel=200\n",
    "lagrangeh=1000\n",
    "\n",
    "run_ccf(rootdir_ccf,sourcename_label,labelname1,labelname2,dataname1,dataname2,rangemin,rangemax,lagrangel,lagrangeh)\n",
    "#plot_ccf(rootdir_ccf,sourcename,labelname1,labelname2,dataname1,dataname2,rangemin,rangemax,lagrangel,lagrangeh)a"
   ]
  },
  {
   "cell_type": "code",
   "execution_count": null,
   "metadata": {
    "ExecuteTime": {
     "end_time": "2022-08-05T06:22:49.174821Z",
     "start_time": "2022-08-05T06:22:46.457269Z"
    }
   },
   "outputs": [],
   "source": [
    "plot_ccf(rootdir_ccf,sourcename_label,labelname1,labelname2,dataname1,dataname2,rangemin,rangemax,lagrangel,lagrangeh)"
   ]
  },
  {
   "cell_type": "code",
   "execution_count": null,
   "metadata": {},
   "outputs": [],
   "source": []
  },
  {
   "cell_type": "code",
   "execution_count": null,
   "metadata": {},
   "outputs": [],
   "source": []
  },
  {
   "cell_type": "markdown",
   "metadata": {},
   "source": [
    "## PKS 1510"
   ]
  },
  {
   "cell_type": "code",
   "execution_count": null,
   "metadata": {
    "ExecuteTime": {
     "end_time": "2022-08-05T03:35:57.318854Z",
     "start_time": "2022-08-05T03:35:57.312291Z"
    }
   },
   "outputs": [],
   "source": [
    "mojave_15GHz_PKS1510.columns"
   ]
  },
  {
   "cell_type": "code",
   "execution_count": null,
   "metadata": {
    "ExecuteTime": {
     "end_time": "2022-08-05T03:45:07.574404Z",
     "start_time": "2022-08-05T03:45:07.568505Z"
    }
   },
   "outputs": [],
   "source": [
    "lag_5100_PKS1510=data_PKS1510[['MJD','F5100','e_F5100']].to_pandas()\n",
    "lag_5100_PKS1510.columns=['t','flux','err']\n",
    "\n",
    "lag_Hbeta_PKS1510=data_PKS1510[['MJD','FHb','e_FHb']].to_pandas()\n",
    "lag_Hbeta_PKS1510.columns=['t','flux','err']"
   ]
  },
  {
   "cell_type": "code",
   "execution_count": null,
   "metadata": {
    "ExecuteTime": {
     "end_time": "2022-08-05T03:47:21.802041Z",
     "start_time": "2022-08-05T03:47:21.796479Z"
    }
   },
   "outputs": [],
   "source": [
    "lag_15GHz_PKS1510=mojave_15GHz_PKS1510[['mjd','flux','err']]\n",
    "lag_15GHz_PKS1510.columns=['t','flux','err']\n",
    "lag_15GHz_PKS1510=lag_15GHz_PKS1510.sort_values('t')"
   ]
  },
  {
   "cell_type": "code",
   "execution_count": null,
   "metadata": {
    "ExecuteTime": {
     "end_time": "2022-08-05T03:45:11.479365Z",
     "start_time": "2022-08-05T03:45:11.464818Z"
    }
   },
   "outputs": [],
   "source": [
    "lag_15GHz_PKS1510"
   ]
  },
  {
   "cell_type": "code",
   "execution_count": null,
   "metadata": {},
   "outputs": [],
   "source": []
  },
  {
   "cell_type": "code",
   "execution_count": null,
   "metadata": {},
   "outputs": [],
   "source": []
  },
  {
   "cell_type": "code",
   "execution_count": null,
   "metadata": {
    "ExecuteTime": {
     "end_time": "2022-08-05T03:38:54.459545Z",
     "start_time": "2022-08-05T03:37:41.776539Z"
    }
   },
   "outputs": [],
   "source": [
    "labelname1=\"5100\"\n",
    "labelname2=\"Hbeta\"\n",
    "dataname1=lag_5100_PKS1510\n",
    "dataname2=lag_Hbeta_PKS1510\n",
    "\n",
    "sourcename_label='PKS1510'\n",
    "rangemin,rangemax=(54800-200,56550)\n",
    "lagrangel=0\n",
    "lagrangeh=300\n",
    "\n",
    "run_ccf(rootdir_ccf,sourcename_label,labelname1,labelname2,dataname1,dataname2,rangemin,rangemax,lagrangel,lagrangeh)\n",
    "#plot_ccf(rootdir_ccf,sourcename_label,labelname1,labelname2,dataname1,dataname2,rangemin,rangemax,lagrangel,lagrangeh)"
   ]
  },
  {
   "cell_type": "code",
   "execution_count": null,
   "metadata": {
    "ExecuteTime": {
     "end_time": "2022-08-05T03:43:54.067590Z",
     "start_time": "2022-08-05T03:43:50.195649Z"
    }
   },
   "outputs": [],
   "source": [
    "plot_ccf(rootdir_ccf,sourcename_label,labelname1,labelname2,dataname1,dataname2,rangemin,rangemax,lagrangel,lagrangeh)"
   ]
  },
  {
   "cell_type": "code",
   "execution_count": null,
   "metadata": {
    "ExecuteTime": {
     "end_time": "2022-08-05T03:48:20.798466Z",
     "start_time": "2022-08-05T03:47:33.608501Z"
    }
   },
   "outputs": [],
   "source": [
    "labelname1=\"5100\"\n",
    "labelname2=\"15GHz\"\n",
    "dataname1=lag_5100_PKS1510\n",
    "dataname2=lag_15GHz_PKS1510\n",
    "\n",
    "sourcename_label='PKS1510'\n",
    "rangemin,rangemax=(54800-200,56550)\n",
    "lagrangel=0\n",
    "lagrangeh=500\n",
    "\n",
    "run_ccf(rootdir_ccf,sourcename_label,labelname1,labelname2,dataname1,dataname2,rangemin,rangemax,lagrangel,lagrangeh)\n",
    "#plot_ccf(rootdir_ccf,sourcename_label,labelname1,labelname2,dataname1,dataname2,rangemin,rangemax,lagrangel,lagrangeh)"
   ]
  },
  {
   "cell_type": "code",
   "execution_count": null,
   "metadata": {
    "ExecuteTime": {
     "end_time": "2022-08-05T03:48:27.220893Z",
     "start_time": "2022-08-05T03:48:23.834035Z"
    }
   },
   "outputs": [],
   "source": [
    "plot_ccf(rootdir_ccf,sourcename_label,labelname1,labelname2,dataname1,dataname2,rangemin,rangemax,lagrangel,lagrangeh)"
   ]
  },
  {
   "cell_type": "code",
   "execution_count": null,
   "metadata": {},
   "outputs": [],
   "source": []
  },
  {
   "cell_type": "markdown",
   "metadata": {},
   "source": [
    "# Javelin"
   ]
  },
  {
   "cell_type": "markdown",
   "metadata": {},
   "source": [
    "## def run_javelin"
   ]
  },
  {
   "cell_type": "code",
   "execution_count": null,
   "metadata": {},
   "outputs": [],
   "source": [
    "def run_javelin(rootdir_javelin,sourcename,labelname1,labelname2,dataname1,dataname2,rangemin,rangemax,lagrangel=-10,lagrangeh=30,widthl=0,widthh=200):\n",
    "    #command='python ccf_ngc1566_cpython.py %s %s %s %s %d %d %d %d'%(path_data1,path_data2,labelname1,labelname2,rangemin,rangemax,lagrangel,lagrangeh)\n",
    "    os.chdir(rootdir_javelin)\n",
    "    \n",
    "    source_path=os.path.join(rootdir_javelin,sourcename)\n",
    "    path_data1,path_data2=write_javelin_lagfile(rootdir_javelin,sourcename,labelname1,labelname2,dataname1,dataname2,rangemin,rangemax)\n",
    "    command='python javelin_spec.py %s %s %d %d %d %d %d %d %s'%(path_data1,path_data2,rangemin,rangemax,lagrangel,lagrangeh,widthl,widthh,source_path)\n",
    "    print(command)\n",
    "    os.system(command)  "
   ]
  },
  {
   "cell_type": "code",
   "execution_count": null,
   "metadata": {
    "ExecuteTime": {
     "end_time": "2022-07-18T12:29:59.820119Z",
     "start_time": "2022-07-18T12:29:59.814301Z"
    }
   },
   "outputs": [],
   "source": [
    "rootdir_javelin='%s/00Javelin/'%root_dir\n",
    "if not os.path.exists(rootdir_javelin):\n",
    "    os.mkdir(rootdir_javelin)\n",
    "    print(rootdir_javelin)\n",
    "    "
   ]
  },
  {
   "cell_type": "code",
   "execution_count": null,
   "metadata": {
    "ExecuteTime": {
     "end_time": "2022-07-18T12:30:00.229729Z",
     "start_time": "2022-07-18T12:30:00.223547Z"
    }
   },
   "outputs": [],
   "source": [
    "print(rootdir_javelin)"
   ]
  },
  {
   "cell_type": "markdown",
   "metadata": {},
   "source": [
    "# plot_lag_correlation"
   ]
  },
  {
   "cell_type": "code",
   "execution_count": null,
   "metadata": {
    "ExecuteTime": {
     "end_time": "2022-07-28T03:29:04.113120Z",
     "start_time": "2022-07-28T03:29:04.109504Z"
    }
   },
   "outputs": [],
   "source": [
    "plot_laged_lum=pd.DataFrame([])\n",
    "#plot_laged_lum.columns=['time1','Lum1','time2','flux2']"
   ]
  },
  {
   "cell_type": "code",
   "execution_count": null,
   "metadata": {
    "ExecuteTime": {
     "end_time": "2022-07-28T12:22:08.924836Z",
     "start_time": "2022-07-28T12:22:08.919470Z"
    }
   },
   "outputs": [],
   "source": [
    "def get_laged_lum_correlation(time1,Lum1,time2,Lum2,timebin=1):\n",
    "    time1s=[]\n",
    "    Lum1s=[]\n",
    "    time2s=[]\n",
    "    Lum2s=[]\n",
    "    \n",
    "    plot_laged_lum=pd.DataFrame([])    \n",
    "    for index_,(time_,lum_) in enumerate(zip(time1,Lum1)):\n",
    "        \n",
    "        mjd_near_i=np.argmin(abs(time2-time_))  \n",
    "        mjd_near=time2[mjd_near_i] \n",
    "        \n",
    "        Lum2_near=Lum2[mjd_near_i]\n",
    "             \n",
    "        if abs(mjd_near-time_)<timebin:\n",
    "            time1s.append(time_)\n",
    "            Lum1s.append(lum_)\n",
    "            \n",
    "            time2s.append(mjd_near)\n",
    "            Lum2s.append(Lum2_near)\n",
    "            \n",
    "            \n",
    "    return  time1s,Lum1s,time2s,Lum2s      "
   ]
  },
  {
   "cell_type": "code",
   "execution_count": null,
   "metadata": {
    "ExecuteTime": {
     "end_time": "2022-07-28T12:09:30.912373Z",
     "start_time": "2022-07-28T12:09:30.869876Z"
    }
   },
   "outputs": [],
   "source": [
    "laged_data_3C273=data_3C273.copy()\n",
    "laged_data_3C273['lag_JD1']=laged_data_3C273['JD1']-194.9"
   ]
  },
  {
   "cell_type": "code",
   "execution_count": null,
   "metadata": {
    "ExecuteTime": {
     "end_time": "2022-07-28T12:22:46.885290Z",
     "start_time": "2022-07-28T12:22:46.877816Z"
    }
   },
   "outputs": [],
   "source": [
    "laged_data_3C273.colnames"
   ]
  },
  {
   "cell_type": "code",
   "execution_count": null,
   "metadata": {
    "ExecuteTime": {
     "end_time": "2022-07-28T12:49:25.359348Z",
     "start_time": "2022-07-28T12:49:24.918012Z"
    }
   },
   "outputs": [],
   "source": [
    "time1=laged_data_3C273[laged_data_3C273.colnames[0]]\n",
    "Lum1=laged_data_3C273[laged_data_3C273.colnames[1]]\n",
    "time2=laged_data_3C273['lag_JD1']\n",
    "Lum2=laged_data_3C273[laged_data_3C273.colnames[3]]\n",
    "time1s,Lum1s,time2s,Lum2s=get_laged_lum_correlation(time1,Lum1,time2,Lum2,timebin=9)"
   ]
  },
  {
   "cell_type": "markdown",
   "metadata": {},
   "source": [
    "## plot_3C273"
   ]
  },
  {
   "cell_type": "code",
   "execution_count": null,
   "metadata": {
    "ExecuteTime": {
     "end_time": "2022-07-28T12:49:29.576746Z",
     "start_time": "2022-07-28T12:49:28.574720Z"
    }
   },
   "outputs": [],
   "source": [
    "fig, ax = plt.subplots(1, 1,figsize=(6,6))\n",
    "\n",
    "'''for i in range(len(Wu2004_LHbeta_L5100)):\n",
    "    flux_and_err=Wu2004_LHbeta_L5100.loc[i,Wu2004_LHbeta_L5100.columns[4]]\n",
    "    flux=flux_and_err.split('$\\pm$')[0]\n",
    "    err_flux=flux_and_err.split('$\\pm$')[1]   \n",
    "    \n",
    "    flux_and_err_Hbeta=Wu2004_LHbeta_L5100.loc[i,Wu2004_LHbeta_L5100.columns[5]]\n",
    "    flux_Hbeta=flux_and_err_Hbeta.split('$\\pm$')[0]\n",
    "    err_flux_Hbeta=flux_and_err_Hbeta.split('$\\pm$')[1]   \n",
    "    \n",
    "    ax.errorbar(x=np.log10(float(flux))+42,\n",
    "                #xerr=float(err_flux),\n",
    "                y=np.log10(float(flux_Hbeta))+42,\n",
    "                #yerr=float(err_flux_Hbeta),\n",
    "              ls=':',marker='.',markersize=10,color='grey',label='Wu2004')\n",
    "'''\n",
    "flux_label=data_3C273.colnames[1]\n",
    "e_flux_label=data_3C273.colnames[2]\n",
    "flux_label_1=data_3C273.colnames[3]\n",
    "e_flux_label_1=data_3C273.colnames[4]\n",
    "print(flux_label,e_flux_label)\n",
    "print(flux_label_1,e_flux_label_1)\n",
    "\n",
    "flux_scale_5100=4*np.pi*(D_cm_3C273.value)**2*1.0e-15\n",
    "flux_scale_Hbeta=4*np.pi*(D_cm_3C273.value)**2*1.0e-13\n",
    "\n",
    "\n",
    "for time1s_,Lum1s_,time2s_,Lum2s_ in zip(time1s,Lum1s,time2s,Lum2s):    \n",
    "    ax.errorbar(x=np.log10(Lum1s_*flux_scale_5100*5100),\n",
    "            #xerr=np.log10(data_3C273[e_flux_label]*flux_scale*5100),\n",
    "            y=np.log10(Lum2s_*flux_scale_Hbeta),\n",
    "            #yerr=np.log10(data_3C273[e_flux_label_1]*flux_scale*4861),\n",
    "            fmt='.',label='L5100 Vs (Hbeta-194.9d)',\n",
    "               color='grey')\n",
    "\n",
    "\n",
    "slope=1.02747111\n",
    "offset=3.04154998\n",
    "\n",
    "L5100_linspace=np.linspace(45.6,46)    \n",
    "Lhbeta= L5100_linspace*slope-offset\n",
    "ax.plot(L5100_linspace,Lhbeta,label='Wu2004 logLHbeta=logL5100*%.2f -%.2f'%(slope,offset))\n",
    "\n",
    "\n",
    "slope=0.947\n",
    "offset=0.45\n",
    "Lhbeta= L5100_linspace*slope-offset\n",
    "ax.plot(L5100_linspace,Lhbeta,label='Rakshit2020 logLHbeta=logL5100*%.2f -%.2f'%(slope,offset))\n",
    "\n",
    "    \n",
    "ax.set_xlabel(r'log$L_{5100\\AA} (\\mathrm{erg\\, s^{-1}})$')\n",
    "ax.set_ylabel(r'log$L_{H\\beta} (\\mathrm{erg\\, s^{-1}})$')\n",
    "\n",
    "\n",
    "#ax.semilogx()\n",
    "#ax.semilogy()\n",
    "ax.set_title('3C 273')\n",
    "ax.xaxis.set_tick_params(which='major', size=10, width=2, rotation=0,)\n",
    "handles, labels = ax.get_legend_handles_labels()\n",
    "# remove the errorbars\n",
    "#hdl = [h[0] for h in handles]\n",
    "hdl = handles\n",
    "labels_dict=dict(zip(labels, hdl)) #key,values\n",
    "by_label=OrderedDict(sorted(labels_dict.items(),key=lambda t:t[0]))\n",
    "#by_label = OrderedDict(zip(labels, handles))\n",
    "\n",
    "ax.legend(by_label.values(), by_label.keys(), bbox_to_anchor=(0.01, 0.99),\n",
    "          loc=2, numpoints=1,ncol=1,fontsize=11.)\n",
    "\n",
    "ax.set_xlim(45.5,46)\n",
    "ax.set_ylim(44.0-0.2,44.5-0.2)\n",
    "\n",
    "#plot_secax(ax,mi_interval=365,ma_interval=365*2,rotation=30)    \n",
    "set_ax_tick(ax)\n",
    "fig.tight_layout()\n",
    "plt.savefig('/Users/brettlv/Downloads/3C273_laged_Hbeta_L5100.png',dpi=400)\n"
   ]
  },
  {
   "cell_type": "markdown",
   "metadata": {},
   "source": [
    "## clip_fit_3C273"
   ]
  },
  {
   "cell_type": "code",
   "execution_count": null,
   "metadata": {
    "ExecuteTime": {
     "end_time": "2022-07-28T12:49:36.293872Z",
     "start_time": "2022-07-28T12:49:36.290203Z"
    }
   },
   "outputs": [],
   "source": [
    "xdatas=np.log10(np.array(Lum1s)*flux_scale_5100*5100)\n",
    "            #xerr=np.log10(data_3C273[e_flux_label]*flux_scale*5100),\n",
    "ydatas=np.log10(np.array(Lum2s)*flux_scale_Hbeta)"
   ]
  },
  {
   "cell_type": "code",
   "execution_count": null,
   "metadata": {
    "ExecuteTime": {
     "end_time": "2022-07-28T12:49:47.770408Z",
     "start_time": "2022-07-28T12:49:47.758665Z"
    }
   },
   "outputs": [],
   "source": [
    "spearmanr(xdatas,ydatas),pearsonr(xdatas,ydatas)"
   ]
  },
  {
   "cell_type": "code",
   "execution_count": null,
   "metadata": {
    "ExecuteTime": {
     "end_time": "2022-07-28T12:47:50.045511Z",
     "start_time": "2022-07-28T12:47:50.041118Z"
    }
   },
   "outputs": [],
   "source": [
    "len(xdatas),len(ydatas)"
   ]
  },
  {
   "cell_type": "code",
   "execution_count": null,
   "metadata": {
    "ExecuteTime": {
     "end_time": "2022-07-28T12:47:51.270978Z",
     "start_time": "2022-07-28T12:47:51.079789Z"
    }
   },
   "outputs": [],
   "source": [
    "fit = fitting.LinearLSQFitter()\n",
    "\n",
    "# initialize the outlier removal fitter\n",
    "or_fit = fitting.FittingWithOutlierRemoval(fit, sigma_clip, niter=3, sigma=3.0)\n",
    "\n",
    "# initialize a linear model\n",
    "line_init = models.Linear1D()\n",
    "\n",
    "# fit the data with the fitter\n",
    "fitted_line_3C273_lag, mask = or_fit(line_init, xdatas, ydatas, weights=1.0/np.ones(len(xdatas)))\n",
    "filtered_data = np.ma.masked_array(ydatas, mask=mask)\n",
    "\n",
    "# plot\n",
    "fig, ax = plt.subplots(1, 1,figsize=(6,6))\n",
    "plt.errorbar(xdatas, ydatas, yerr=0, fmt=\"ko\", fillstyle=\"none\", label=\"Clipped Data\")\n",
    "plt.errorbar(xdatas, filtered_data, fmt=\"ko\", label=\"Fitted Data\")\n",
    "#plt.plot(x, line_orig(x), 'b-', label='Simulation Model')\n",
    "plt.plot(xdatas, fitted_line_3C273_lag(xdatas), 'k-', label='Fitted Model')\n",
    "#plt.xlim(-2,12)\n",
    "#plt.ylim(-5,25)\n",
    "#plt.plot(xdatas, xdatas*1.02747111-3.04154998, 'r-', label='Fitted Model 1')\n",
    "\n",
    "\n",
    "plt.xlabel('x')\n",
    "plt.ylabel('y')\n",
    "plt.legend()\n",
    "plt.show()"
   ]
  },
  {
   "cell_type": "code",
   "execution_count": null,
   "metadata": {},
   "outputs": [],
   "source": []
  },
  {
   "cell_type": "code",
   "execution_count": null,
   "metadata": {
    "ExecuteTime": {
     "end_time": "2022-07-28T12:47:53.654639Z",
     "start_time": "2022-07-28T12:47:53.649588Z"
    }
   },
   "outputs": [],
   "source": [
    "fitted_line_3C273_lag"
   ]
  },
  {
   "cell_type": "code",
   "execution_count": null,
   "metadata": {
    "ExecuteTime": {
     "end_time": "2022-07-28T12:09:47.490446Z",
     "start_time": "2022-07-28T12:09:47.484412Z"
    }
   },
   "outputs": [],
   "source": [
    "laged_data_3C273.colnames"
   ]
  },
  {
   "cell_type": "code",
   "execution_count": null,
   "metadata": {
    "ExecuteTime": {
     "end_time": "2022-07-28T11:48:27.709091Z",
     "start_time": "2022-07-28T11:48:27.702890Z"
    }
   },
   "outputs": [],
   "source": [
    "time_label=data_3C273.colnames[0]\n",
    "flux_label=data_3C273.colnames[1]\n",
    "e_flux_label=data_3C273.colnames[2]\n",
    "flux_label_1=data_3C273.colnames[3]\n",
    "e_flux_label_1=data_3C273.colnames[4]\n",
    "print(time_label)\n",
    "print(flux_label,e_flux_label)\n",
    "print(flux_label_1,e_flux_label_1)"
   ]
  },
  {
   "cell_type": "code",
   "execution_count": null,
   "metadata": {},
   "outputs": [],
   "source": [
    "fig, ax = plt.subplots(1, 1,figsize=(6,6))\n",
    "\n",
    "'''for i in range(len(Wu2004_LHbeta_L5100)):\n",
    "    flux_and_err=Wu2004_LHbeta_L5100.loc[i,Wu2004_LHbeta_L5100.columns[4]]\n",
    "    flux=flux_and_err.split('$\\pm$')[0]\n",
    "    err_flux=flux_and_err.split('$\\pm$')[1]   \n",
    "    \n",
    "    flux_and_err_Hbeta=Wu2004_LHbeta_L5100.loc[i,Wu2004_LHbeta_L5100.columns[5]]\n",
    "    flux_Hbeta=flux_and_err_Hbeta.split('$\\pm$')[0]\n",
    "    err_flux_Hbeta=flux_and_err_Hbeta.split('$\\pm$')[1]   \n",
    "    \n",
    "    ax.errorbar(x=np.log10(float(flux))+42,\n",
    "                #xerr=float(err_flux),\n",
    "                y=np.log10(float(flux_Hbeta))+42,\n",
    "                #yerr=float(err_flux_Hbeta),\n",
    "              ls=':',marker='.',markersize=10,color='grey',label='Wu2004')\n",
    "'''\n",
    "flux_label=data_3C273.colnames[1]\n",
    "e_flux_label=data_3C273.colnames[2]\n",
    "flux_label_1=data_3C273.colnames[3]\n",
    "e_flux_label_1=data_3C273.colnames[4]\n",
    "print(flux_label,e_flux_label)\n",
    "print(flux_label_1,e_flux_label_1)\n",
    "\n",
    "flux_scale_5100=4*np.pi*(D_cm_3C273.value)**2*1.0e-15\n",
    "flux_scale_Hbeta=4*np.pi*(D_cm_3C273.value)**2*1.0e-13\n",
    "\n",
    "\n",
    "ax.errorbar(x=np.log10(data_3C273[flux_label]*flux_scale_5100*5100),\n",
    "            #xerr=np.log10(data_3C273[e_flux_label]*flux_scale*5100),\n",
    "            y=np.log10(data_3C273[flux_label_1]*flux_scale_Hbeta),\n",
    "            #yerr=np.log10(data_3C273[e_flux_label_1]*flux_scale*4861),\n",
    "            fmt='.',label='3C 273')\n",
    "\n",
    "\n",
    "\n",
    "slope=1.02747111\n",
    "offset=3.04154998\n",
    "\n",
    "L5100_linspace=np.linspace(45.6,46)    \n",
    "Lhbeta= L5100_linspace*slope-offset\n",
    "ax.plot(L5100_linspace,Lhbeta,label='Wu2004 logLHbeta=logL5100*%.2f -%.2f'%(slope,offset))\n",
    "\n",
    "\n",
    "slope=0.947\n",
    "offset=0.45\n",
    "Lhbeta= L5100_linspace*slope-offset\n",
    "ax.plot(L5100_linspace,Lhbeta,label='Rakshit2020 logLHbeta=logL5100*%.2f -%.2f'%(slope,offset))\n",
    "\n",
    "    \n",
    "ax.set_xlabel(r'log$L_{5100\\AA} (\\mathrm{erg\\, s^{-1}})$')\n",
    "ax.set_ylabel(r'log$L_{H\\beta} (\\mathrm{erg\\, s^{-1}})$')\n",
    "\n",
    "\n",
    "#ax.semilogx()\n",
    "#ax.semilogy()\n",
    "ax.set_title('3C 273')\n",
    "ax.xaxis.set_tick_params(which='major', size=10, width=2, rotation=0,)\n",
    "handles, labels = ax.get_legend_handles_labels()\n",
    "# remove the errorbars\n",
    "#hdl = [h[0] for h in handles]\n",
    "hdl = handles\n",
    "labels_dict=dict(zip(labels, hdl)) #key,values\n",
    "by_label=OrderedDict(sorted(labels_dict.items(),key=lambda t:t[0]))\n",
    "#by_label = OrderedDict(zip(labels, handles))\n",
    "\n",
    "ax.legend(by_label.values(), by_label.keys(), bbox_to_anchor=(0.01, 0.99),\n",
    "          loc=2, numpoints=1,ncol=1,fontsize=11.)\n",
    "\n",
    "ax.set_xlim(45.5,46)\n",
    "ax.set_ylim(44.0,44.2)\n",
    "\n",
    "#plot_secax(ax,mi_interval=365,ma_interval=365*2,rotation=30)    \n",
    "set_ax_tick(ax)\n",
    "fig.tight_layout()\n",
    "plt.savefig('/Users/brettlv/Downloads/3C273_Hbeta_L5100.png',dpi=400)\n"
   ]
  },
  {
   "cell_type": "markdown",
   "metadata": {},
   "source": [
    "## plot_PKS1510"
   ]
  },
  {
   "cell_type": "code",
   "execution_count": null,
   "metadata": {
    "ExecuteTime": {
     "end_time": "2022-07-28T13:56:36.584083Z",
     "start_time": "2022-07-28T13:56:36.573134Z"
    }
   },
   "outputs": [],
   "source": [
    "laged_data_PKS1510.colnames"
   ]
  },
  {
   "cell_type": "code",
   "execution_count": null,
   "metadata": {
    "ExecuteTime": {
     "end_time": "2022-07-28T13:57:02.376526Z",
     "start_time": "2022-07-28T13:57:02.371861Z"
    }
   },
   "outputs": [],
   "source": [
    "laged_data_PKS1510=data_PKS1510.copy()\n",
    "laged_data_PKS1510['lag_MJD']=laged_data_PKS1510['MJD']-61.1"
   ]
  },
  {
   "cell_type": "code",
   "execution_count": null,
   "metadata": {
    "ExecuteTime": {
     "end_time": "2022-07-28T13:57:49.379792Z",
     "start_time": "2022-07-28T13:57:49.376158Z"
    }
   },
   "outputs": [],
   "source": [
    "print(laged_data_PKS1510.colnames)"
   ]
  },
  {
   "cell_type": "code",
   "execution_count": null,
   "metadata": {
    "ExecuteTime": {
     "end_time": "2022-07-28T14:02:42.379867Z",
     "start_time": "2022-07-28T14:02:42.348102Z"
    }
   },
   "outputs": [],
   "source": [
    "time1=laged_data_PKS1510[laged_data_PKS1510.colnames[0]]\n",
    "Lum1=laged_data_PKS1510[laged_data_PKS1510.colnames[1]]\n",
    "time2=laged_data_PKS1510['lag_MJD']\n",
    "Lum2=laged_data_PKS1510[laged_data_PKS1510.colnames[3]]\n",
    "time1s,Lum1s,time2s,Lum2s=get_laged_lum_correlation(time1,Lum1,time2,Lum2,timebin=0.5)\n"
   ]
  },
  {
   "cell_type": "code",
   "execution_count": null,
   "metadata": {
    "ExecuteTime": {
     "end_time": "2022-07-28T14:02:42.869444Z",
     "start_time": "2022-07-28T14:02:42.864780Z"
    }
   },
   "outputs": [],
   "source": [
    "len(time1s),len(Lum1s),len(time2s),len(Lum2s),"
   ]
  },
  {
   "cell_type": "markdown",
   "metadata": {
    "ExecuteTime": {
     "end_time": "2022-07-28T13:58:32.423512Z",
     "start_time": "2022-07-28T13:58:32.409890Z"
    }
   },
   "source": [
    "time1s,Lum1s,time2s,Lum2s"
   ]
  },
  {
   "cell_type": "code",
   "execution_count": null,
   "metadata": {
    "ExecuteTime": {
     "end_time": "2022-07-28T14:03:17.938979Z",
     "start_time": "2022-07-28T14:03:16.558581Z"
    }
   },
   "outputs": [],
   "source": [
    "fig, ax = plt.subplots(1, 1,figsize=(6,6))\n",
    "\n",
    "for time1s_,Lum1s_,time2s_,Lum2s_ in zip(time1s,Lum1s,time2s,Lum2s):\n",
    "    ax.errorbar(x=np.log10(Lum1s_*flux_scale_5100_PKS1510*5100),\n",
    "                #xerr=np.log10(data_PKS1510[e_flux_label]*flux_scale*5100),\n",
    "                y=np.log10(Lum2s_*flux_scale_Hbeta_PKS1510),\n",
    "                #yerr=np.log10(data_PKS1510[e_flux_label_1]*flux_scale*4861),\n",
    "                fmt='.',label='L5100 Vs (Hbeta-61.1d)',\n",
    "                color='grey')\n",
    "\n",
    "\n",
    "slope=1.02747111\n",
    "offset=3.04154998\n",
    "\n",
    "L5100_linspace=np.linspace(45,46)\n",
    "Lhbeta= L5100_linspace*slope-offset\n",
    "ax.plot(L5100_linspace,Lhbeta,label='Wu2004 logLHbeta=logL5100*%.2f -%.2f'%(slope,offset))\n",
    "\n",
    "\n",
    "slope=0.947\n",
    "offset=0.45\n",
    "Lhbeta= L5100_linspace*slope-offset\n",
    "ax.plot(L5100_linspace,Lhbeta,label='Rakshit2020 logLHbeta=logL5100*%.2f -%.2f'%(slope,offset))\n",
    "\n",
    "\n",
    "ax.set_xlabel(r'log$L_{5100\\AA} (\\mathrm{erg\\, s^{-1}})$')\n",
    "ax.set_ylabel(r'log$L_{H\\beta} (\\mathrm{erg\\, s^{-1}})$')\n",
    "\n",
    "\n",
    "#ax.semilogx()\n",
    "#ax.semilogy()\n",
    "ax.set_title('PKS 1510')\n",
    "ax.xaxis.set_tick_params(which='major', size=10, width=2, rotation=0,)\n",
    "handles, labels = ax.get_legend_handles_labels()\n",
    "# remove the errorbars\n",
    "#hdl = [h[0] for h in handles]\n",
    "hdl = handles\n",
    "labels_dict=dict(zip(labels, hdl)) #key,values\n",
    "by_label=OrderedDict(sorted(labels_dict.items(),key=lambda t:t[0]))\n",
    "#by_label = OrderedDict(zip(labels, handles))\n",
    "\n",
    "ax.legend(by_label.values(), by_label.keys(), bbox_to_anchor=(0.01, 0.99),\n",
    "          loc=2, numpoints=1,ncol=1,fontsize=11.)\n",
    "\n",
    "ax.set_xlim(45.,46)\n",
    "ax.set_ylim(43.0-0.2,44.0-0.2)\n",
    "\n",
    "#plot_secax(ax,mi_interval=365,ma_interval=365*2,rotation=30)\n",
    "set_ax_tick(ax)\n",
    "fig.tight_layout()\n",
    "plt.savefig('/Users/brettlv/Downloads/PKS1510_laged_Hbeta_L5100.png',dpi=400)"
   ]
  },
  {
   "cell_type": "markdown",
   "metadata": {},
   "source": [
    "## clip_fit PKS1510"
   ]
  },
  {
   "cell_type": "code",
   "execution_count": null,
   "metadata": {
    "ExecuteTime": {
     "end_time": "2022-07-28T14:05:14.658397Z",
     "start_time": "2022-07-28T14:05:14.655052Z"
    }
   },
   "outputs": [],
   "source": [
    "xdatas=np.log10(np.array(Lum1s)*flux_scale_5100_PKS1510*5100)\n",
    "            #xerr=np.log10(data_3C273[e_flux_label]*flux_scale*5100),\n",
    "ydatas=np.log10(np.array(Lum2s)*flux_scale_Hbeta_PKS1510)"
   ]
  },
  {
   "cell_type": "code",
   "execution_count": null,
   "metadata": {
    "ExecuteTime": {
     "end_time": "2022-07-28T14:05:15.575124Z",
     "start_time": "2022-07-28T14:05:15.558135Z"
    }
   },
   "outputs": [],
   "source": [
    "spearmanr(xdatas,ydatas),pearsonr(xdatas,ydatas)"
   ]
  },
  {
   "cell_type": "code",
   "execution_count": null,
   "metadata": {
    "ExecuteTime": {
     "end_time": "2022-07-28T14:07:05.143719Z",
     "start_time": "2022-07-28T14:07:04.959903Z"
    }
   },
   "outputs": [],
   "source": [
    "fit = fitting.LinearLSQFitter()\n",
    "\n",
    "# initialize the outlier removal fitter\n",
    "or_fit = fitting.FittingWithOutlierRemoval(fit, sigma_clip, niter=3, sigma=2.5)\n",
    "\n",
    "# initialize a linear model\n",
    "line_init = models.Linear1D()\n",
    "\n",
    "# fit the data with the fitter\n",
    "fitted_line_PKS1510_lag, mask = or_fit(line_init, xdatas, ydatas, weights=1.0/np.ones(len(xdatas)))\n",
    "filtered_data = np.ma.masked_array(ydatas, mask=mask)\n",
    "\n",
    "# plot\n",
    "fig, ax = plt.subplots(1, 1,figsize=(6,6))\n",
    "plt.errorbar(xdatas, ydatas, yerr=0, fmt=\"ko\", fillstyle=\"none\", label=\"Clipped Data\")\n",
    "plt.errorbar(xdatas, filtered_data, fmt=\"ko\", label=\"Fitted Data\")\n",
    "#plt.plot(x, line_orig(x), 'b-', label='Simulation Model')\n",
    "plt.plot(xdatas, fitted_line_PKS1510_lag(xdatas), 'k-', label='Fitted Model')\n",
    "#plt.xlim(-2,12)\n",
    "#plt.ylim(-5,25)\n",
    "#plt.plot(xdatas, xdatas*1.02747111-3.04154998, 'r-', label='Fitted Model 1')\n",
    "\n",
    "\n",
    "plt.xlabel('x')\n",
    "plt.ylabel('y')\n",
    "plt.legend()\n",
    "plt.show()"
   ]
  },
  {
   "cell_type": "code",
   "execution_count": null,
   "metadata": {
    "ExecuteTime": {
     "end_time": "2022-07-28T14:07:05.909142Z",
     "start_time": "2022-07-28T14:07:05.903634Z"
    }
   },
   "outputs": [],
   "source": [
    "fitted_line_PKS1510_lag"
   ]
  },
  {
   "cell_type": "markdown",
   "metadata": {},
   "source": []
  },
  {
   "cell_type": "code",
   "execution_count": null,
   "metadata": {},
   "outputs": [],
   "source": []
  },
  {
   "cell_type": "markdown",
   "metadata": {},
   "source": [
    "# MICA2"
   ]
  },
  {
   "cell_type": "code",
   "execution_count": null,
   "metadata": {},
   "outputs": [],
   "source": [
    "def likelihood_probability(Con,Radio,Hbeta)"
   ]
  }
 ],
 "metadata": {
  "kernelspec": {
   "display_name": "Python 3 (ipykernel)",
   "language": "python",
   "name": "python3"
  },
  "language_info": {
   "codemirror_mode": {
    "name": "ipython",
    "version": 3
   },
   "file_extension": ".py",
   "mimetype": "text/x-python",
   "name": "python",
   "nbconvert_exporter": "python",
   "pygments_lexer": "ipython3",
   "version": "3.9.12"
  },
  "latex_envs": {
   "LaTeX_envs_menu_present": true,
   "autoclose": false,
   "autocomplete": true,
   "bibliofile": "biblio.bib",
   "cite_by": "apalike",
   "current_citInitial": 1,
   "eqLabelWithNumbers": true,
   "eqNumInitial": 1,
   "hotkeys": {
    "equation": "Ctrl-E",
    "itemize": "Ctrl-I"
   },
   "labels_anchors": false,
   "latex_user_defs": false,
   "report_style_numbering": false,
   "user_envs_cfg": false
  },
  "toc": {
   "base_numbering": 1,
   "nav_menu": {},
   "number_sections": true,
   "sideBar": true,
   "skip_h1_title": false,
   "title_cell": "Table of Contents",
   "title_sidebar": "Contents",
   "toc_cell": false,
   "toc_position": {
    "height": "439.273px",
    "left": "0px",
    "right": "1043.03px",
    "top": "135.711px",
    "width": "211.969px"
   },
   "toc_section_display": "block",
   "toc_window_display": true
  }
 },
 "nbformat": 4,
 "nbformat_minor": 2
}
