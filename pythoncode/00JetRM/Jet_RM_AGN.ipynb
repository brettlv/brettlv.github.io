{
 "cells": [
  {
   "cell_type": "markdown",
   "metadata": {},
   "source": [
    "# import"
   ]
  },
  {
   "cell_type": "code",
   "execution_count": null,
   "metadata": {
    "ExecuteTime": {
     "end_time": "2022-10-20T15:07:53.975786Z",
     "start_time": "2022-10-20T15:07:53.406470Z"
    }
   },
   "outputs": [],
   "source": [
    "import matplotlib as mpl\n",
    "import matplotlib.pyplot as plt\n",
    "from pylab import cm\n",
    "\n",
    "import os\n",
    "from collections import OrderedDict\n",
    "from adjustText import adjust_text\n",
    "\n",
    "%matplotlib inline\n",
    "%config InlineBackend.figure_format='svg'\n",
    "# Edit the font, font size, and axes width\n",
    "mpl.rcParams['font.family'] = 'Times New Roman' #'Avenir'\n",
    "plt.rcParams['font.size'] = 18\n",
    "plt.rcParams['axes.linewidth'] = 2"
   ]
  },
  {
   "cell_type": "code",
   "execution_count": null,
   "metadata": {
    "ExecuteTime": {
     "end_time": "2022-10-20T15:07:54.277535Z",
     "start_time": "2022-10-20T15:07:54.082582Z"
    }
   },
   "outputs": [],
   "source": [
    "from astropy.time import Time\n",
    "from astropy.time import TimeYearDayTime\n",
    "from datetime import datetime\n",
    "from time import strftime,strptime\n",
    "import calendar\n",
    "from dateutil.parser import parse"
   ]
  },
  {
   "cell_type": "code",
   "execution_count": null,
   "metadata": {
    "ExecuteTime": {
     "end_time": "2022-10-20T15:07:55.098939Z",
     "start_time": "2022-10-20T15:07:54.676959Z"
    }
   },
   "outputs": [],
   "source": [
    "import numpy as np\n",
    "import pandas as pd\n",
    "import os\n",
    "from astropy.table import Table"
   ]
  },
  {
   "cell_type": "code",
   "execution_count": null,
   "metadata": {
    "ExecuteTime": {
     "end_time": "2022-10-20T15:07:55.448129Z",
     "start_time": "2022-10-20T15:07:55.135965Z"
    }
   },
   "outputs": [],
   "source": [
    "from scipy.stats import spearmanr#\n",
    "from scipy.stats import pearsonr"
   ]
  },
  {
   "cell_type": "code",
   "execution_count": null,
   "metadata": {
    "ExecuteTime": {
     "end_time": "2022-10-20T15:07:56.074714Z",
     "start_time": "2022-10-20T15:07:55.834827Z"
    }
   },
   "outputs": [],
   "source": [
    "from astropy.cosmology import FlatLambdaCDM,Planck13,Planck15,z_at_value\n",
    "from astropy import units as u\n",
    "from astropy import constants \n",
    "from astropy.cosmology import LambdaCDM\n",
    "cosmo = LambdaCDM(H0=70, Om0=0.27, Ode0=0.73)\n",
    "#cosmo=FlatLambdaCDM(H0=73,Om0=0.3)"
   ]
  },
  {
   "cell_type": "code",
   "execution_count": null,
   "metadata": {
    "ExecuteTime": {
     "end_time": "2022-10-20T15:07:56.828549Z",
     "start_time": "2022-10-20T15:07:56.813799Z"
    }
   },
   "outputs": [],
   "source": [
    "import pandas as pd\n",
    "import numpy as np\n",
    "import os\n",
    "\n",
    "def get_obsids(path):\n",
    "    dirname=os.listdir(path)\n",
    "    obsids=[]\n",
    "    for i in dirname:\n",
    "        if i.isdigit():\n",
    "            obsids.append(i)\n",
    "    obsids.sort()        \n",
    "    return obsids\n",
    "\n",
    "def drop_index(data):\n",
    "    data=data.reset_index(drop=True)\n",
    "    return data\n",
    "\n",
    "def get_info(data,label,label_err=None):\n",
    "    return min(data[label]),max(data[label]),np.mean(data[label])\n",
    "    "
   ]
  },
  {
   "cell_type": "code",
   "execution_count": null,
   "metadata": {
    "ExecuteTime": {
     "end_time": "2022-10-20T15:07:57.482022Z",
     "start_time": "2022-10-20T15:07:57.463623Z"
    }
   },
   "outputs": [],
   "source": [
    "from adjustText import adjust_text\n",
    "import matplotlib as mpl\n",
    "def set_ax_tick(ax):\n",
    "    ax.xaxis.set_tick_params(which='major', size=10, width=2, direction='in', top='on',)\n",
    "    ax.xaxis.set_tick_params(which='minor', size=5, width=2, direction='in', top='on')\n",
    "    ax.yaxis.set_tick_params(which='major', size=10, width=2, direction='in', right='on')\n",
    "    ax.yaxis.set_tick_params(which='minor', size=5, width=2, direction='in', right='on')\n",
    "\n",
    "def set_ax_locator(ax,xma=1,xmi=0.2,yma=1,ymi=0.2):\n",
    "    ax.xaxis.set_major_locator(mpl.ticker.MultipleLocator(xma))\n",
    "    ax.xaxis.set_minor_locator(mpl.ticker.MultipleLocator(xmi))\n",
    "    ax.yaxis.set_major_locator(mpl.ticker.MultipleLocator(yma))\n",
    "    ax.yaxis.set_minor_locator(mpl.ticker.MultipleLocator(ymi))\n",
    "    \n",
    "def plot_secax(ax,mi_interval=365,ma_interval=365*2,rotation=30,):\n",
    "    secax1 = ax.secondary_xaxis('top', functions=(mjd2numsdate,datenums2mjd))\n",
    "    secax1.xaxis.set_major_formatter(mdates.DateFormatter(\"%Y-%m\"))\n",
    "    secax1.xaxis.set_major_locator(mdates.DayLocator(interval=ma_interval))\n",
    "    secax1.xaxis.set_minor_locator(mdates.DayLocator(interval=mi_interval))\n",
    "    secax1.xaxis.set_tick_params(which='major', size=10, width=2, direction='out')\n",
    "    secax1.xaxis.set_tick_params(which='minor', size=5, width=2, direction='out')\n",
    "    secax1.xaxis.set_tick_params(which='major', size=10, width=2, direction='out', rotation=rotation,)    \n",
    "    \n",
    "def set_ax_legend(ax,bbox_to_anchor=(0.01, 0.99)):\n",
    "    ax.xaxis.set_tick_params(which='major', size=10, width=2, rotation=0,)\n",
    "    handles, labels = ax.get_legend_handles_labels()\n",
    "    # remove the errorbars\n",
    "    #hdl = [h[0] for h in handles]\n",
    "    hdl = handles\n",
    "    labels_dict=dict(zip(labels, hdl)) #key,values\n",
    "    by_label=OrderedDict(sorted(labels_dict.items(),key=lambda t:t[0]))\n",
    "    #by_label = OrderedDict(zip(labels, handles))\n",
    "    ax.legend(by_label.values(), by_label.keys(), bbox_to_anchor=bbox_to_anchor,\n",
    "              loc=2, numpoints=1,ncol=1,fontsize=11.)\n",
    "\n",
    "def set_mag_ylim(ax):\n",
    "    bottom, top = ax.set_ylim()\n",
    "    if bottom< top:\n",
    "        ax.set_ylim(top,bottom)   \n",
    "        \n",
    "        \n",
    "def set_mag_xlim(ax):\n",
    "    bottom, top = ax.set_xlim()\n",
    "    if bottom< top:\n",
    "        ax.set_xlim(top,bottom)         "
   ]
  },
  {
   "cell_type": "markdown",
   "metadata": {},
   "source": [
    "## def get_quasi_sim_lum_correlation"
   ]
  },
  {
   "cell_type": "code",
   "execution_count": null,
   "metadata": {
    "ExecuteTime": {
     "end_time": "2022-10-20T15:07:58.589398Z",
     "start_time": "2022-10-20T15:07:58.575249Z"
    }
   },
   "outputs": [],
   "source": [
    "def get_quasi_sim_lum_correlation(time1,Lum1,time2,Lum2,timebin=1):\n",
    "    time1s=[]\n",
    "    Lum1s=[]\n",
    "    time2s=[]\n",
    "    Lum2s=[]\n",
    "    \n",
    "    plot_laged_lum=pd.DataFrame([])    \n",
    "    for index_,(time_,lum_) in enumerate(zip(time1,Lum1)):\n",
    "        \n",
    "        mjd_near_i=np.argmin(abs(time2-time_))  \n",
    "        mjd_near=time2[mjd_near_i]        \n",
    "        Lum2_near=Lum2[mjd_near_i]\n",
    "             \n",
    "        if abs(mjd_near-time_)<timebin:\n",
    "            time1s.append(time_)\n",
    "            Lum1s.append(lum_)\n",
    "            \n",
    "            time2s.append(mjd_near)\n",
    "            Lum2s.append(Lum2_near)                    \n",
    "    return  np.array(time1s),np.array(Lum1s),np.array(time2s),np.array(Lum2s)      "
   ]
  },
  {
   "cell_type": "markdown",
   "metadata": {
    "ExecuteTime": {
     "end_time": "2022-10-06T03:02:33.912038Z",
     "start_time": "2022-10-06T03:02:33.875695Z"
    }
   },
   "source": [
    "time1s,Lum1s,time2s,Lum2s=get_quasi_sim_lum_correlation(time1,Lum1,time2,Lum2,timebin=1)"
   ]
  },
  {
   "cell_type": "markdown",
   "metadata": {},
   "source": [
    "## def get_quasi_sim_lum3"
   ]
  },
  {
   "cell_type": "code",
   "execution_count": null,
   "metadata": {
    "ExecuteTime": {
     "end_time": "2022-10-20T15:08:00.117822Z",
     "start_time": "2022-10-20T15:08:00.101857Z"
    }
   },
   "outputs": [],
   "source": [
    "def get_quasi_sim_lum3(time1,Lum1,time2,Lum2,time3,Lum3,timebin=1):\n",
    "    time1s=[]\n",
    "    Lum1s=[]\n",
    "    time2s=[]\n",
    "    Lum2s=[]\n",
    "    time3s=[]\n",
    "    Lum3s=[]\n",
    "    \n",
    "    plot_laged_lum=pd.DataFrame([])    \n",
    "    for index_,(time_,lum_) in enumerate(zip(time1,Lum1)):       \n",
    "        mjd_near_i=np.argmin(abs(time2-time_))  \n",
    "        mjd_near=time2[mjd_near_i]         \n",
    "        Lum2_near=Lum2[mjd_near_i]\n",
    "        \n",
    "        mjd_near_i3=np.argmin(abs(time3-time_))  \n",
    "        mjd_near3=time3[mjd_near_i3]         \n",
    "        Lum3_near=Lum3[mjd_near_i3]\n",
    "        \n",
    "        if abs(mjd_near-time_)<timebin and abs(mjd_near3-time_)<timebin:\n",
    "            time1s.append(time_)\n",
    "            Lum1s.append(lum_)           \n",
    "            time2s.append(mjd_near)\n",
    "            Lum2s.append(Lum2_near)           \n",
    "            time3s.append(mjd_near3)\n",
    "            Lum3s.append(Lum3_near) \n",
    "            \n",
    "    return  np.array(time1s),np.array(Lum1s),np.array(time2s),np.array(Lum2s),np.array(time3s),np.array(Lum3s)            "
   ]
  },
  {
   "cell_type": "markdown",
   "metadata": {},
   "source": [
    "time1s,Lum1s,time2s,Lum2s,time3s,Lum3s=get_quasi_sim_lum3(time1,Lum1,time2,Lum2,time3,Lum3,timebin=1)"
   ]
  },
  {
   "cell_type": "markdown",
   "metadata": {},
   "source": [
    "## def get_lag_correlation"
   ]
  },
  {
   "cell_type": "code",
   "execution_count": null,
   "metadata": {
    "ExecuteTime": {
     "end_time": "2022-10-20T15:08:02.148147Z",
     "start_time": "2022-10-20T15:08:02.139253Z"
    }
   },
   "outputs": [],
   "source": [
    "def get_lag_correlation(t1,y1,t2,y2,lagtime,timebin=2):\n",
    "    lagged_t2=t2-lagtime   \n",
    "    new_t1,new_y1,new_t2,new_y2= get_quasi_sim_lum_correlation(t1,y1,lagged_t2,y2,timebin=timebin)\n",
    "    return new_t1,new_y1,new_t2,new_y2"
   ]
  },
  {
   "cell_type": "markdown",
   "metadata": {},
   "source": [
    "## time_convert"
   ]
  },
  {
   "cell_type": "code",
   "execution_count": null,
   "metadata": {
    "ExecuteTime": {
     "end_time": "2022-10-20T15:08:27.264259Z",
     "start_time": "2022-10-20T15:08:27.243702Z"
    }
   },
   "outputs": [],
   "source": [
    "from astropy.time import Time\n",
    "from astropy.io import fits\n",
    "import time\n",
    "from matplotlib.pyplot import MultipleLocator\n",
    "import matplotlib.dates as mdates\n",
    "\n",
    "def datetime2mjd(x):\n",
    "    mjd_ref=59000\n",
    "    mjd_minus_mdates_num=mdates.date2num(convert_xaxis_time(mjd_ref))-mjd_ref\n",
    "    \n",
    "    x=mdates.date2num(x)\n",
    "    y = x - mjd_minus_mdates_num   \n",
    "    return y\n",
    "\n",
    "def mjd2datetime(x):\n",
    "    mjd_ref=59000\n",
    "    mjd_minus_mdates_num=mdates.date2num(convert_xaxis_time(mjd_ref))-mjd_ref\n",
    "    y= x + mjd_minus_mdates_num\n",
    "    y= mdates.num2date(y)\n",
    "    return y\n",
    "\n",
    "\n",
    "\n",
    "def datenums2mjd(x):\n",
    "    #x=mdates.date2num(x)\n",
    "    mjd_ref=59000\n",
    "    mjd_minus_mdates_num=mdates.date2num(convert_xaxis_time(mjd_ref))-mjd_ref\n",
    "    y = x - mjd_minus_mdates_num   \n",
    "    return y\n",
    "\n",
    "def mjd2numsdate(x):\n",
    "    mjd_ref=59000\n",
    "    mjd_minus_mdates_num=mdates.date2num(convert_xaxis_time(mjd_ref))-mjd_ref\n",
    "    \n",
    "    y= x + mjd_minus_mdates_num\n",
    "    #y= mdates.num2date(y)\n",
    "    return y\n",
    "\n",
    "\n",
    "def convert_xaxis_mjd(time):\n",
    "    return Time(time).mjd   \n",
    "\n",
    "def convert_xaxis_time(mjd):\n",
    "    return Time(mjd,format='mjd').to_datetime()\n",
    "\n",
    "\n",
    "def date2yday(x):\n",
    "    \"\"\"\n",
    "    x is in matplotlib datenums, so they are floats.\n",
    "    \"\"\"\n",
    "    y = x - mdates.date2num(datetime(2018, 1, 1))\n",
    "    return y\n",
    "\n",
    "def yday2date(x):\n",
    "    \"\"\"\n",
    "    return a matplotlib datenum (x is days since start of year of 2018)\n",
    "    \"\"\"\n",
    "    y = x + mdates.date2num(datetime(2018, 1, 1))\n",
    "    return y\n",
    "\n",
    "\n",
    "def convert_partial_year(numbers):\n",
    "    datetimes=[]\n",
    "    for number in numbers:\n",
    "        year = int(number)\n",
    "        d = timedelta(days=(number - year)*(365 + is_leap(year)))\n",
    "        day_one = datetime(year,1,1)\n",
    "        date = d + day_one\n",
    "        datetimes.append(date)\n",
    "    return datetimes\n",
    "\n",
    "\n",
    "def is_leap(year):\n",
    "    if not year%4 and  year%100 or not year%400:\n",
    "        return True\n",
    "    return False\n",
    "\n",
    "\n",
    "def convert_mjd(times):\n",
    "    timesmjd=[]\n",
    "    for i in times:\n",
    "        timesmjd.append(Time(i).mjd)\n",
    "    return timesmjd  \n",
    "\n",
    "\n",
    "def convert_date(times):\n",
    "    timesdate=[]\n",
    "    for i in times:\n",
    "        timesdate.append(Time(i,format='mjd').datetime)\n",
    "    return timesdate\n",
    "\n",
    "def convert_date_single(time):\n",
    "    timedate=Time(time,format='mjd').datetime\n",
    "    return timedate"
   ]
  },
  {
   "cell_type": "code",
   "execution_count": null,
   "metadata": {
    "ExecuteTime": {
     "end_time": "2022-10-07T11:15:56.102475Z",
     "start_time": "2022-10-07T11:15:56.088873Z"
    }
   },
   "outputs": [],
   "source": [
    "mjd2datetime(57000),mjd2datetime(58000)"
   ]
  },
  {
   "cell_type": "code",
   "execution_count": null,
   "metadata": {
    "ExecuteTime": {
     "end_time": "2022-09-09T02:31:17.613330Z",
     "start_time": "2022-09-09T02:31:17.607771Z"
    }
   },
   "outputs": [],
   "source": [
    "mjd2datetime(59001),mjd2datetime(59001-2)"
   ]
  },
  {
   "cell_type": "code",
   "execution_count": null,
   "metadata": {
    "ExecuteTime": {
     "end_time": "2022-08-26T11:52:03.101304Z",
     "start_time": "2022-08-26T11:52:03.089779Z"
    }
   },
   "outputs": [],
   "source": [
    "datetime2mjd(datetime(2020, 5, 30, 0, 0))"
   ]
  },
  {
   "cell_type": "code",
   "execution_count": null,
   "metadata": {
    "ExecuteTime": {
     "end_time": "2022-08-05T01:44:01.705908Z",
     "start_time": "2022-08-05T01:44:01.696366Z"
    }
   },
   "outputs": [],
   "source": [
    "convert_date_single(55000),convert_date_single(57100)"
   ]
  },
  {
   "cell_type": "code",
   "execution_count": null,
   "metadata": {
    "ExecuteTime": {
     "end_time": "2022-08-05T01:44:06.140632Z",
     "start_time": "2022-08-05T01:44:06.135814Z"
    }
   },
   "outputs": [],
   "source": [
    "convert_date_single(54800),convert_date_single(57200)"
   ]
  },
  {
   "cell_type": "code",
   "execution_count": null,
   "metadata": {},
   "outputs": [],
   "source": [
    "ax.set_xlim(54800,57200)"
   ]
  },
  {
   "cell_type": "code",
   "execution_count": null,
   "metadata": {
    "ExecuteTime": {
     "end_time": "2022-10-25T02:46:42.280819Z",
     "start_time": "2022-10-25T02:46:42.265464Z"
    }
   },
   "outputs": [],
   "source": [
    "d=1*u.kpc\n",
    "L=1.0e34*u.erg/u.s"
   ]
  },
  {
   "cell_type": "code",
   "execution_count": null,
   "metadata": {
    "ExecuteTime": {
     "end_time": "2022-10-25T02:47:45.176238Z",
     "start_time": "2022-10-25T02:47:45.157826Z"
    }
   },
   "outputs": [],
   "source": [
    "F=L/4/np.pi/(d.to(u.cm).value)**2"
   ]
  },
  {
   "cell_type": "code",
   "execution_count": null,
   "metadata": {
    "ExecuteTime": {
     "end_time": "2022-10-25T02:47:47.633329Z",
     "start_time": "2022-10-25T02:47:47.617635Z"
    }
   },
   "outputs": [],
   "source": [
    "F"
   ]
  },
  {
   "cell_type": "markdown",
   "metadata": {},
   "source": [
    "## MJD=JD-2400000.5"
   ]
  },
  {
   "cell_type": "markdown",
   "metadata": {
    "ExecuteTime": {
     "end_time": "2022-07-18T13:07:03.800622Z",
     "start_time": "2022-07-18T13:07:03.776545Z"
    }
   },
   "source": [
    "MJD=JD-2400000.5"
   ]
  },
  {
   "cell_type": "code",
   "execution_count": null,
   "metadata": {
    "ExecuteTime": {
     "end_time": "2022-07-15T13:09:38.562724Z",
     "start_time": "2022-07-15T13:09:38.559274Z"
    }
   },
   "outputs": [],
   "source": [
    "R_BRL=551.5*u.Mpc\n",
    "print(R_BRL.to(u.lightyear))"
   ]
  },
  {
   "cell_type": "code",
   "execution_count": null,
   "metadata": {
    "ExecuteTime": {
     "end_time": "2022-07-17T12:39:36.568273Z",
     "start_time": "2022-07-17T12:39:36.561818Z"
    }
   },
   "outputs": [],
   "source": [
    "Mass_3C273=4.1e8\n",
    "Rg_3C273= constants.G*Mass_3C273*u.solMass/constants.c**2\n",
    "print(Rg_3C273.to(u.cm))"
   ]
  },
  {
   "cell_type": "code",
   "execution_count": null,
   "metadata": {
    "ExecuteTime": {
     "end_time": "2022-07-17T12:39:53.110446Z",
     "start_time": "2022-07-17T12:39:53.105667Z"
    }
   },
   "outputs": [],
   "source": [
    "z_3C273=0.158339\n",
    "d_3C273=782.7*u.Mpc"
   ]
  },
  {
   "cell_type": "code",
   "execution_count": null,
   "metadata": {
    "ExecuteTime": {
     "end_time": "2022-07-17T12:40:54.478757Z",
     "start_time": "2022-07-17T12:40:54.473996Z"
    }
   },
   "outputs": [],
   "source": [
    "190/(1+z_3C273)/365*u.lightyear.to(u.cm)/6.0541627e13"
   ]
  },
  {
   "cell_type": "markdown",
   "metadata": {},
   "source": [
    "## SO get_data"
   ]
  },
  {
   "cell_type": "code",
   "execution_count": null,
   "metadata": {
    "ExecuteTime": {
     "end_time": "2022-10-20T15:08:34.640153Z",
     "start_time": "2022-10-20T15:08:34.620693Z"
    }
   },
   "outputs": [],
   "source": [
    "def get_Rdata_name(name_i):\n",
    "    Rdata_source=pd.DataFrame([])\n",
    "    source_Name_i=name_i.strip()\n",
    "    \n",
    "    if source_Name_i.startswith('PKS') or \\\n",
    "    source_Name_i.startswith('1ES') or \\\n",
    "    source_Name_i.startswith('1H') or \\\n",
    "    source_Name_i.startswith('AO'):\n",
    "        source_Name_i_Rband=source_Name_i.replace(' ','')\n",
    "    \n",
    "    else:\n",
    "        source_Name_i_Rband=source_Name_i\n",
    "        \n",
    "    source_name_i=Source_name_dict[source_Name_i]\n",
    "    #source_name=Source_name_dict[source_Name]  \n",
    "    #Rband_num=0     \n",
    "    for i in range(10):\n",
    "        Rphot=pd.read_excel(os.path.join(Rphot_dir,'Rphot_Cycle%d.xlsx'%(i+1)))\n",
    "        Rphot_name= Rphot[Rphot['Object']==source_Name_i_Rband]\n",
    "        Rdata_source=Rdata_source.append(Rphot_name,ignore_index=True)\n",
    "        \n",
    "    Rdata_source['mjd']=Rdata_source['JD']-2400000.5\n",
    "        \n",
    "    return Rdata_source\n",
    "    \n",
    "\n",
    "def get_Vdata_name(name_i):\n",
    "    \n",
    "    Rdata_source=pd.DataFrame([])\n",
    "    source_Name_i=name_i.strip()\n",
    "    \n",
    "    if source_Name_i.startswith('PKS') or source_Name_i.startswith('1ES') or source_Name_i.startswith('1H'):\n",
    "        source_Name_i_Rband=source_Name_i.replace(' ','')\n",
    "    \n",
    "    else:\n",
    "        source_Name_i_Rband=source_Name_i\n",
    "        \n",
    "    source_name_i=Source_name_dict[source_Name_i]\n",
    "    #source_name=Source_name_dict[source_Name]  \n",
    "       \n",
    "    \n",
    "    for i in range(10):\n",
    "        if i==0:\n",
    "            prefix=''\n",
    "        else:\n",
    "            prefix='_%d'%(i+1)\n",
    "        \n",
    "        Polpath=os.path.join(root_data_dir,source_name_i,'%s_phot'%source_name_i+prefix+'.xlsx')\n",
    "        \n",
    "        if os.path.exists(Polpath):\n",
    "            Poldata=pd.read_excel(Polpath)  \n",
    "            Rdata_source=Rdata_source.append(Poldata,ignore_index=True)\n",
    "        \n",
    "    \n",
    "    Rdata_source['mjd']=Rdata_source['JD']-2400000.5\n",
    "        \n",
    "    return Rdata_source\n",
    "    \n",
    "\n",
    "def get_Poldata_name(name_i):\n",
    "    \n",
    "    Rdata_source=pd.DataFrame([])\n",
    "    source_Name_i=name_i.strip()\n",
    "\n",
    "        \n",
    "    source_name_i=Source_name_dict[source_Name_i]\n",
    "    #source_name=Source_name_dict[source_Name]  \n",
    "    \n",
    "    for i in range(10):\n",
    "        if i==0:\n",
    "            prefix=''\n",
    "        else:\n",
    "            prefix='_%d'%(i+1)\n",
    "        \n",
    "        Polpath=os.path.join(root_data_dir,source_name_i,'%s_pol'%source_name_i+prefix+'.xlsx')\n",
    "        if os.path.exists(Polpath):\n",
    "            Poldata=pd.read_excel(Polpath)    \n",
    "            Rdata_source=Rdata_source.append(Poldata,ignore_index=True)\n",
    "        \n",
    "    \n",
    "    Rdata_source['mjd']=Rdata_source['JD']-2400000.5\n",
    "        \n",
    "    return Rdata_source\n",
    "    "
   ]
  },
  {
   "cell_type": "markdown",
   "metadata": {},
   "source": [
    "## def fermi_monitor_mag_to_flux"
   ]
  },
  {
   "cell_type": "markdown",
   "metadata": {},
   "source": [
    "The adopted conversion from flux density (in mJy = 10-26 erg cm-2 s-1 Hz-1) to V apparent magnitude \n",
    "is given by V = 15 - 2.5 log (Fν/3.64)."
   ]
  },
  {
   "cell_type": "code",
   "execution_count": null,
   "metadata": {
    "ExecuteTime": {
     "end_time": "2022-10-20T15:08:37.479367Z",
     "start_time": "2022-10-20T15:08:37.466611Z"
    }
   },
   "outputs": [],
   "source": [
    "def fermi_monitor_Vmag_to_flux(data,maglabel_w1,e_maglabel_w1,D_cm):    \n",
    "    data['logL_V']= (15-data[maglabel_w1])/2.5+np.log10(3.64)+np.log10(4*np.pi*D_cm.value**2) -26\n",
    "    #data['logL_W2']= (-48.6-data[maglabel_w2]-3.339)/2.5+np.log10(4*np.pi*D_cm**2)\n",
    "    data['e_logL_V'] =   data[e_maglabel_w1]/2.5\n",
    "    #data['e_logL_W2'] =   data[e_maglabel_w2]/2.5\n",
    "    return data\n",
    "    \n",
    "    # flux density averaged between 5400-5600 Å\n",
    "\n",
    "def fermi_monitor_Rmag_to_flux(data,maglabel_w1,e_maglabel_w1,D_cm):    \n",
    "    data['logL_R']= (15-data[maglabel_w1])/2.5+np.log10(3.08)+np.log10(4*np.pi*D_cm.value**2) -26 #\n",
    "    #data['logL_W2']= (-48.6-data[maglabel_w2]-3.339)/2.5+np.log10(4*np.pi*D_cm**2)\n",
    "    data['e_logL_R'] =   data[e_maglabel_w1]/2.5\n",
    "    #data['e_logL_W2'] =   data[e_maglabel_w2]/2.5\n",
    "    return data\n",
    "\n",
    "     #Flux density in mJy at approximately 6400 Angstroms."
   ]
  },
  {
   "cell_type": "markdown",
   "metadata": {},
   "source": [
    "## magnitude System"
   ]
  },
  {
   "cell_type": "code",
   "execution_count": null,
   "metadata": {},
   "outputs": [],
   "source": [
    "AB magnitude System\n",
    "This magnitude system is defined such that, when monochromatic flux f is measured in erg sec^-1 cm^-2 Hz^-1,\n",
    "m(AB) = -2.5 log(f) - 48.60"
   ]
  },
  {
   "cell_type": "code",
   "execution_count": null,
   "metadata": {},
   "outputs": [],
   "source": [
    "Conversion from AB magnitudes to Johnson magnitudes:\n",
    "The following formulae convert between the AB magnitude systems and those based on Alpha Lyra:\n",
    "     V\t=  V(AB) + 0.044\t(+/- 0.004)\n",
    "     B\t=  B(AB) + 0.163\t(+/- 0.004)\n",
    "    Bj\t= Bj(AB) + 0.139\t(+/- INDEF)\n",
    "     R\t=  R(AB) +-0.055\t(+/- INDEF)\n",
    "     I\t=  I(AB) +-0.309\t(+/- INDEF)\n",
    "     g\t=  g(AB) + 0.013\t(+/- 0.002)\n",
    "     r\t=  r(AB) + 0.226\t(+/- 0.003)\n",
    "     i\t=  i(AB) + 0.296\t(+/- 0.005)\n",
    "    Rc\t= Rc(AB) +-0.117\t(+/- 0.006)\n",
    "    Ic\t= Ic(AB) +-0.342\t(+/- 0.008)\n",
    "Source: Frei & Gunn 1995"
   ]
  },
  {
   "cell_type": "markdown",
   "metadata": {},
   "source": [
    "## clip_linear_fit"
   ]
  },
  {
   "cell_type": "code",
   "execution_count": null,
   "metadata": {
    "ExecuteTime": {
     "end_time": "2022-10-20T15:08:40.894952Z",
     "start_time": "2022-10-20T15:08:40.865849Z"
    }
   },
   "outputs": [],
   "source": [
    "import numpy as np\n",
    "import matplotlib.pyplot as plt\n",
    "from astropy.stats import sigma_clip\n",
    "from astropy.modeling import models, fitting"
   ]
  },
  {
   "cell_type": "markdown",
   "metadata": {
    "ExecuteTime": {
     "end_time": "2022-09-09T02:34:31.497338Z",
     "start_time": "2022-09-09T02:34:31.349077Z"
    }
   },
   "source": [
    "!which python2"
   ]
  },
  {
   "cell_type": "markdown",
   "metadata": {},
   "source": [
    "### fit_wu2004"
   ]
  },
  {
   "cell_type": "code",
   "execution_count": null,
   "metadata": {
    "ExecuteTime": {
     "end_time": "2022-08-04T12:02:19.955719Z",
     "start_time": "2022-08-04T12:02:19.863414Z"
    }
   },
   "outputs": [],
   "source": [
    "Wu2004_LHbeta_L5100.columns[4],Wu2004_LHbeta_L5100.columns[5]"
   ]
  },
  {
   "cell_type": "code",
   "execution_count": null,
   "metadata": {
    "ExecuteTime": {
     "end_time": "2022-07-28T11:43:26.961503Z",
     "start_time": "2022-07-28T11:43:26.859737Z"
    }
   },
   "outputs": [],
   "source": [
    "xdatas=[]\n",
    "ydatas=[]\n",
    "\n",
    "for i in range(len(Wu2004_LHbeta_L5100)):\n",
    "    flux_and_err=Wu2004_LHbeta_L5100.loc[i,Wu2004_LHbeta_L5100.columns[4]]\n",
    "    flux=flux_and_err.split('$\\pm$')[0]\n",
    "    err_flux=flux_and_err.split('$\\pm$')[1]   \n",
    "    \n",
    "    flux_and_err_Hbeta=Wu2004_LHbeta_L5100.loc[i,Wu2004_LHbeta_L5100.columns[5]]\n",
    "    flux_Hbeta=flux_and_err_Hbeta.split('$\\pm$')[0]\n",
    "    err_flux_Hbeta=flux_and_err_Hbeta.split('$\\pm$')[1]   \n",
    "    \n",
    "    xdatas.append(np.log10(float(flux))+42)\n",
    "                #xerr=float(err_flux),\n",
    "    ydatas.append(np.log10(float(flux_Hbeta))+42)\n",
    "    \n",
    "xdatas=np.array(xdatas)\n",
    "ydatas=np.array(ydatas)    \n",
    "\n",
    "fit = fitting.LinearLSQFitter()\n",
    "# initialize the outlier removal fitter\n",
    "or_fit = fitting.FittingWithOutlierRemoval(fit, sigma_clip, niter=3, sigma=3.0)\n",
    "\n",
    "# initialize a linear model\n",
    "line_init = models.Linear1D()\n",
    "\n",
    "# fit the data with the fitter\n",
    "fitted_line, mask = or_fit(line_init, xdatas, ydatas, weights=1.0/np.ones(len(xdatas)))\n",
    "filtered_data = np.ma.masked_array(ydatas, mask=mask)\n",
    "\n",
    "# plot\n",
    "plt.figure()\n",
    "plt.errorbar(xdatas, ydatas, yerr=0, fmt=\"ko\", fillstyle=\"none\", label=\"Clipped Data\")\n",
    "plt.errorbar(xdatas, filtered_data, fmt=\"ko\", label=\"Fitted Data\")\n",
    "#plt.plot(x, line_orig(x), 'b-', label='Simulation Model')\n",
    "plt.plot(xdatas, fitted_line(xdatas), 'k-', label='Fitted Model')\n",
    "#plt.xlim(-2,12)\n",
    "#plt.ylim(-5,25)\n",
    "#plt.plot(xdatas, xdatas*1.02747111-3.04154998, 'r-', label='Fitted Model 1')\n",
    "\n",
    "plt.xlabel('x')\n",
    "plt.ylabel('y')\n",
    "plt.legend()\n",
    "plt.show()"
   ]
  },
  {
   "cell_type": "code",
   "execution_count": null,
   "metadata": {
    "ExecuteTime": {
     "end_time": "2022-07-28T11:43:49.424232Z",
     "start_time": "2022-07-28T11:43:49.416768Z"
    }
   },
   "outputs": [],
   "source": [
    "fitted_line"
   ]
  },
  {
   "cell_type": "markdown",
   "metadata": {},
   "source": [
    "### fit_3C273"
   ]
  },
  {
   "cell_type": "code",
   "execution_count": null,
   "metadata": {
    "ExecuteTime": {
     "end_time": "2022-10-28T06:25:48.162977Z",
     "start_time": "2022-10-28T06:25:48.146171Z"
    }
   },
   "outputs": [],
   "source": [
    "data_3C273.colnames[1]"
   ]
  },
  {
   "cell_type": "code",
   "execution_count": null,
   "metadata": {
    "ExecuteTime": {
     "end_time": "2022-10-28T06:35:52.194879Z",
     "start_time": "2022-10-28T06:35:52.160195Z"
    }
   },
   "outputs": [],
   "source": [
    "data_3C273[data_3C273[data_3C273.colnames[1]]<=0]"
   ]
  },
  {
   "cell_type": "code",
   "execution_count": null,
   "metadata": {
    "ExecuteTime": {
     "end_time": "2022-10-28T06:26:16.386906Z",
     "start_time": "2022-10-28T06:26:16.370420Z"
    }
   },
   "outputs": [],
   "source": [
    "data_3C273_select=data_3C273[data_3C273[data_3C273.colnames[1]]>0]"
   ]
  },
  {
   "cell_type": "code",
   "execution_count": null,
   "metadata": {
    "ExecuteTime": {
     "end_time": "2022-10-28T06:26:30.843272Z",
     "start_time": "2022-10-28T06:26:30.832372Z"
    }
   },
   "outputs": [],
   "source": [
    "len(data_3C273),len(data_3C273_select)"
   ]
  },
  {
   "cell_type": "code",
   "execution_count": null,
   "metadata": {
    "ExecuteTime": {
     "end_time": "2022-10-28T06:34:15.801567Z",
     "start_time": "2022-10-28T06:34:15.786506Z"
    }
   },
   "outputs": [],
   "source": [
    "x=np.log10(data_3C273_select[flux_label]*flux_scale_5100_3C273*5100)\n",
    "y=np.log10(data_3C273_select[flux_label_1]*flux_scale_Hbeta_3C273)\n",
    "spearmanr(x,y),pearsonr(x,y)"
   ]
  },
  {
   "cell_type": "code",
   "execution_count": null,
   "metadata": {
    "ExecuteTime": {
     "end_time": "2022-10-28T06:35:16.953906Z",
     "start_time": "2022-10-28T06:35:16.940333Z"
    }
   },
   "outputs": [],
   "source": [
    "spearmanr(data_3C273['logL5100'],data_3C273['logLHb']),pearsonr(data_3C273['logL5100'],data_3C273['logLHb'])"
   ]
  },
  {
   "cell_type": "code",
   "execution_count": null,
   "metadata": {
    "ExecuteTime": {
     "end_time": "2022-10-28T06:35:20.291111Z",
     "start_time": "2022-10-28T06:35:20.277979Z"
    }
   },
   "outputs": [],
   "source": [
    "spearmanr(pd_3C273_fitting_result_good['logL5100'],np.log10(pd_3C273_fitting_result_good['LHebta']))"
   ]
  },
  {
   "cell_type": "code",
   "execution_count": null,
   "metadata": {},
   "outputs": [],
   "source": []
  },
  {
   "cell_type": "code",
   "execution_count": null,
   "metadata": {
    "ExecuteTime": {
     "end_time": "2022-10-28T06:33:24.284301Z",
     "start_time": "2022-10-28T06:33:24.148227Z"
    }
   },
   "outputs": [],
   "source": [
    "flux_label=data_3C273_select.colnames[1]\n",
    "e_flux_label=data_3C273_select.colnames[2]\n",
    "flux_label_1=data_3C273_select.colnames[3]\n",
    "e_flux_label_1=data_3C273_select.colnames[4]\n",
    "\n",
    "print(flux_label,e_flux_label)\n",
    "print(flux_label_1,e_flux_label_1)\n",
    "\n",
    "#flux_scale_5100=4*np.pi*(D_cm_3C273.value)**2*1.0e-15\n",
    "#flux_scale_Hbeta=4*np.pi*(D_cm_3C273.value)**2*1.0e-13\n",
    "\n",
    "xdatas=np.log10(data_3C273_select[flux_label]*flux_scale_5100_3C273*5100)\n",
    "ydatas =np.log10(data_3C273_select[flux_label_1]*flux_scale_Hbeta_3C273)\n",
    "\n",
    "xdatas=np.array(xdatas)\n",
    "ydatas=np.array(ydatas)\n",
    "\n",
    "fit = fitting.LinearLSQFitter()\n",
    "\n",
    "# initialize the outlier removal fitter\n",
    "or_fit = fitting.FittingWithOutlierRemoval(fit, sigma_clip, niter=3, sigma=5.0)\n",
    "\n",
    "# initialize a linear model\n",
    "line_init = models.Linear1D()\n",
    "\n",
    "# fit the data with the fitter\n",
    "fitted_line_3C273, mask = or_fit(line_init, xdatas, ydatas, weights=1.0/np.ones(len(xdatas)))\n",
    "filtered_data = np.ma.masked_array(ydatas, mask=mask)\n",
    "\n",
    "# plot\n",
    "plt.figure()\n",
    "plt.errorbar(xdatas, ydatas, yerr=0, fmt=\"ko\", fillstyle=\"none\", label=\"Clipped Data\")\n",
    "plt.errorbar(xdatas, filtered_data, fmt=\"ko\", label=\"Fitted Data\")\n",
    "#plt.plot(x, line_orig(x), 'b-', label='Simulation Model')\n",
    "plt.plot(xdatas, fitted_line_3C273(xdatas), 'k-', label='Fitted Model')\n",
    "#plt.xlim(-2,12)\n",
    "#plt.ylim(-5,25)\n",
    "#plt.plot(xdatas, xdatas*1.02747111-3.04154998, 'r-', label='Fitted Model 1')\n",
    "\n",
    "\n",
    "plt.xlabel('L5100')\n",
    "plt.ylabel('LHbeta')\n",
    "plt.legend()\n",
    "plt.show()"
   ]
  },
  {
   "cell_type": "code",
   "execution_count": null,
   "metadata": {
    "ExecuteTime": {
     "end_time": "2022-10-28T06:33:25.264284Z",
     "start_time": "2022-10-28T06:33:25.253561Z"
    }
   },
   "outputs": [],
   "source": [
    "fitted_line_3C273"
   ]
  },
  {
   "cell_type": "markdown",
   "metadata": {},
   "source": [
    "### fit_3C273_fitgood"
   ]
  },
  {
   "cell_type": "code",
   "execution_count": null,
   "metadata": {
    "ExecuteTime": {
     "end_time": "2022-10-28T06:33:04.431049Z",
     "start_time": "2022-10-28T06:33:04.332163Z"
    }
   },
   "outputs": [],
   "source": [
    "xdatas=pd_3C273_fitting_result_good['logL5100']\n",
    "ydatas = np.log10(pd_3C273_fitting_result_good['LHebta'])\n",
    "\n",
    "xdatas=np.array(xdatas)\n",
    "ydatas=np.array(ydatas)\n",
    "\n",
    "fit = fitting.LinearLSQFitter()\n",
    "\n",
    "# initialize the outlier removal fitter\n",
    "or_fit = fitting.FittingWithOutlierRemoval(fit, sigma_clip, niter=3, sigma=5.0)\n",
    "\n",
    "# initialize a linear model\n",
    "line_init = models.Linear1D()\n",
    "\n",
    "# fit the data with the fitter\n",
    "fitted_line_3C273_SO, mask = or_fit(line_init, xdatas, ydatas, weights=1.0/np.ones(len(xdatas)))\n",
    "filtered_data = np.ma.masked_array(ydatas, mask=mask)\n",
    "\n",
    "# plot\n",
    "plt.figure()\n",
    "plt.errorbar(xdatas, ydatas, yerr=0, fmt=\"ko\", fillstyle=\"none\", label=\"Clipped Data\")\n",
    "plt.errorbar(xdatas, filtered_data, fmt=\"ko\", label=\"Fitted Data\")\n",
    "#plt.plot(x, line_orig(x), 'b-', label='Simulation Model')\n",
    "plt.plot(xdatas, fitted_line_3C273_SO(xdatas), 'k-', label='Fitted Model')\n",
    "#plt.xlim(-2,12)\n",
    "#plt.ylim(-5,25)\n",
    "#plt.plot(xdatas, xdatas*1.02747111-3.04154998, 'r-', label='Fitted Model 1')\n",
    "\n",
    "plt.xlabel('L5100')\n",
    "plt.ylabel('LHbeta')\n",
    "plt.legend()\n",
    "plt.show()"
   ]
  },
  {
   "cell_type": "code",
   "execution_count": null,
   "metadata": {
    "ExecuteTime": {
     "end_time": "2022-10-28T06:33:08.231077Z",
     "start_time": "2022-10-28T06:33:08.219834Z"
    }
   },
   "outputs": [],
   "source": [
    "fitted_line_3C273_SO"
   ]
  },
  {
   "cell_type": "code",
   "execution_count": null,
   "metadata": {},
   "outputs": [],
   "source": []
  },
  {
   "cell_type": "markdown",
   "metadata": {},
   "source": [
    "### fit_PKS1510"
   ]
  },
  {
   "cell_type": "markdown",
   "metadata": {
    "ExecuteTime": {
     "end_time": "2022-07-28T14:18:40.310565Z",
     "start_time": "2022-07-28T14:18:40.297900Z"
    }
   },
   "source": [
    "data_PKS1510"
   ]
  },
  {
   "cell_type": "code",
   "execution_count": null,
   "metadata": {},
   "outputs": [],
   "source": [
    "len(xdatas),len(ydatas)"
   ]
  },
  {
   "cell_type": "code",
   "execution_count": null,
   "metadata": {
    "ExecuteTime": {
     "end_time": "2022-07-28T14:20:03.863724Z",
     "start_time": "2022-07-28T14:20:03.860309Z"
    }
   },
   "outputs": [],
   "source": [
    "xdatas=np.log10(np.array(data_PKS1510[flux_label_PKS1510])*flux_scale_5100_PKS1510*5100)\n",
    "ydatas=np.log10(np.array(data_PKS1510[flux_label_1_PKS1510])*flux_scale_Hbeta_PKS1510)\n",
    "\n",
    "fit = fitting.LinearLSQFitter()\n",
    "\n",
    "# initialize the outlier removal fitter\n",
    "or_fit = fitting.FittingWithOutlierRemoval(fit, sigma_clip, niter=3, sigma=3.0)\n",
    "\n",
    "# initialize a linear model\n",
    "line_init = models.Linear1D()\n",
    "\n",
    "# fit the data with the fitter\n",
    "fitted_line_PKS1510, mask = or_fit(line_init, xdatas, ydatas, weights=1.0/np.ones(len(xdatas)))\n",
    "filtered_data = np.ma.masked_array(ydatas, mask=mask)\n",
    "\n",
    "# plot\n",
    "plt.figure()\n",
    "plt.errorbar(xdatas, ydatas, yerr=0, fmt=\"ko\", fillstyle=\"none\", label=\"Clipped Data\")\n",
    "plt.errorbar(xdatas, filtered_data, fmt=\"ko\", label=\"Fitted Data\")\n",
    "#plt.plot(x, line_orig(x), 'b-', label='Simulation Model')\n",
    "plt.plot(xdatas, fitted_line_PKS1510(xdatas), 'k-', label='Fitted Model')\n",
    "#plt.xlim(-2,12)\n",
    "#plt.ylim(-5,25)\n",
    "#plt.plot(xdatas, xdatas*1.02747111-3.04154998, 'r-', label='Fitted Model 1')\n",
    "\n",
    "\n",
    "plt.xlabel('x')\n",
    "plt.ylabel('y')\n",
    "plt.legend()\n",
    "plt.show()    "
   ]
  },
  {
   "cell_type": "code",
   "execution_count": null,
   "metadata": {
    "ExecuteTime": {
     "end_time": "2022-07-28T14:21:04.941363Z",
     "start_time": "2022-07-28T14:21:04.934497Z"
    }
   },
   "outputs": [],
   "source": [
    "spearmanr(xdatas,ydatas),pearsonr(xdatas,ydatas)"
   ]
  },
  {
   "cell_type": "code",
   "execution_count": null,
   "metadata": {
    "ExecuteTime": {
     "end_time": "2022-07-28T14:20:20.620421Z",
     "start_time": "2022-07-28T14:20:20.614877Z"
    }
   },
   "outputs": [],
   "source": [
    "fitted_line_PKS1510"
   ]
  },
  {
   "cell_type": "code",
   "execution_count": null,
   "metadata": {},
   "outputs": [],
   "source": []
  },
  {
   "cell_type": "code",
   "execution_count": null,
   "metadata": {},
   "outputs": [],
   "source": []
  },
  {
   "cell_type": "code",
   "execution_count": null,
   "metadata": {},
   "outputs": [],
   "source": []
  },
  {
   "cell_type": "markdown",
   "metadata": {},
   "source": [
    "# root_dir "
   ]
  },
  {
   "cell_type": "code",
   "execution_count": null,
   "metadata": {
    "ExecuteTime": {
     "end_time": "2022-11-01T02:44:54.135867Z",
     "start_time": "2022-11-01T02:44:54.124275Z"
    }
   },
   "outputs": [],
   "source": [
    "root_dir='/Volumes/ExtremeSSD/00PKU_SCI/Fermi_AGN_optical_monitoring_program_at_Steward_Observatory/'\n",
    "root_data_dir='/Volumes/ExtremeSSD/00PKU_SCI/Fermi_AGN_optical_monitoring_program_at_Steward_Observatory/Sources/'\n",
    "Rphot_dir='/Volumes/ExtremeSSD/00PKU_SCI/Fermi_AGN_optical_monitoring_program_at_Steward_Observatory/Rphot/'\n",
    "\n",
    "lag_data_dir='/Volumes/ExtremeSSD/00PKU_SCI/FermiAGN_lag/lag_data'\n",
    "data_dir_3C273='/Volumes/ExtremeSSD/00PKU_SCI/FermiAGN_lag/lag_data/A 10yr reverberation mapping campaign for 3C273——J_ApJ_876_49/'\n",
    "data_3C273_dir_mojave='/Volumes/ExtremeSSD/data_source/data_AGN/3C273/3C273/'\n",
    "\n",
    "data_dir_PKS1510='/Volumes/ExtremeSSD/00PKU_SCI/FermiAGN_lag/lag_data/PKS 1510-089 spectroscopic light curvesJ_A+A_642_A59/'\n",
    "lagdata_dir_PKS1510='/Volumes/ExtremeSSD/00PKU_SCI/FermiAGN_lag/lag_data_PKS1510/'\n",
    "\n",
    "lagdata_dir_PKS0736='/Volumes/ExtremeSSD/00PKU_SCI/FermiAGN_lag/PKS0736+017/lagdata_PKS0736'\n",
    "\n",
    "lagdata_dir_3C273='/Volumes/ExtremeSSD/00PKU_SCI/FermiAGN_lag/3C273/lagdata_3C273'"
   ]
  },
  {
   "cell_type": "code",
   "execution_count": null,
   "metadata": {},
   "outputs": [],
   "source": []
  },
  {
   "cell_type": "code",
   "execution_count": null,
   "metadata": {
    "ExecuteTime": {
     "end_time": "2022-09-19T12:26:11.419760Z",
     "start_time": "2022-09-19T12:26:11.405151Z"
    }
   },
   "outputs": [],
   "source": [
    "data_dir_PKS1510,lagdata_dir_PKS1510"
   ]
  },
  {
   "cell_type": "code",
   "execution_count": null,
   "metadata": {
    "ExecuteTime": {
     "end_time": "2022-09-19T12:30:54.037352Z",
     "start_time": "2022-09-19T12:30:54.028741Z"
    }
   },
   "outputs": [],
   "source": [
    "root_dir"
   ]
  },
  {
   "cell_type": "code",
   "execution_count": null,
   "metadata": {
    "ExecuteTime": {
     "end_time": "2022-09-19T12:30:59.087304Z",
     "start_time": "2022-09-19T12:30:58.898990Z"
    }
   },
   "outputs": [],
   "source": [
    "ls /Volumes/ExtremeSSD/00PKU_SCI/Fermi_AGN_optical_monitoring_program_at_Steward_Observatory/"
   ]
  },
  {
   "cell_type": "markdown",
   "metadata": {
    "ExecuteTime": {
     "end_time": "2022-09-19T12:31:26.884458Z",
     "start_time": "2022-09-19T12:31:26.869489Z"
    }
   },
   "source": [
    "os.listdir(root_data_dir)"
   ]
  },
  {
   "cell_type": "code",
   "execution_count": null,
   "metadata": {
    "ExecuteTime": {
     "end_time": "2022-09-19T12:31:15.671986Z",
     "start_time": "2022-09-19T12:31:15.663596Z"
    }
   },
   "outputs": [],
   "source": [
    "lag_data_dir"
   ]
  },
  {
   "cell_type": "code",
   "execution_count": null,
   "metadata": {
    "ExecuteTime": {
     "end_time": "2022-08-17T12:03:33.824037Z",
     "start_time": "2022-08-17T12:03:33.560487Z"
    }
   },
   "outputs": [],
   "source": [
    "!open /Volumes/ExtremeSSD/data_source/data_AGN/3C273/3C273/"
   ]
  },
  {
   "cell_type": "markdown",
   "metadata": {},
   "source": [
    "# Sources"
   ]
  },
  {
   "cell_type": "markdown",
   "metadata": {},
   "source": [
    "## Fermi_AGN_list"
   ]
  },
  {
   "cell_type": "code",
   "execution_count": null,
   "metadata": {
    "ExecuteTime": {
     "end_time": "2022-10-20T15:08:53.700176Z",
     "start_time": "2022-10-20T15:08:53.449873Z"
    }
   },
   "outputs": [],
   "source": [
    "Fermi_AGN_list=pd.read_excel('%s/FermiAGN_namelist_ned.xlsx'%root_dir,header=0,skiprows=[1,2])\n",
    "Fermi_AGN_list_name_redshift=Fermi_AGN_list[['      Input Object Name       ',' Redshift ']]\n",
    "\n",
    "for i in range(len(Fermi_AGN_list_name_redshift)):\n",
    "    if isinstance(Fermi_AGN_list_name_redshift.iloc[i][1],(int,float)):\n",
    "        \n",
    "        Fermi_AGN_list_name_redshift.loc[i,'z_value']=Fermi_AGN_list_name_redshift.iloc[i][1]\n",
    "    else:\n",
    "        Fermi_AGN_list_name_redshift.loc[i,'z_value']=0\n",
    "        \n",
    "Fermi_AGN_list_name_redshift_T=Fermi_AGN_list_name_redshift[Fermi_AGN_list_name_redshift['z_value']>0]\n",
    "Fermi_AGN_list_name_redshift_T=drop_index(Fermi_AGN_list_name_redshift_T)        "
   ]
  },
  {
   "cell_type": "code",
   "execution_count": null,
   "metadata": {
    "ExecuteTime": {
     "end_time": "2022-09-19T12:32:05.836483Z",
     "start_time": "2022-09-19T12:32:05.829004Z"
    }
   },
   "outputs": [],
   "source": [
    "sources_individual_url='http://james.as.arizona.edu/~psmith/Fermi/DATA/individual.html'"
   ]
  },
  {
   "cell_type": "code",
   "execution_count": null,
   "metadata": {
    "ExecuteTime": {
     "end_time": "2022-09-19T12:32:08.352126Z",
     "start_time": "2022-09-19T12:32:06.729646Z"
    },
    "scrolled": false
   },
   "outputs": [],
   "source": [
    "import requests\n",
    "r=requests.get(sources_individual_url)\n",
    "demo=r.text\n",
    "\n",
    "\n",
    "from bs4 import BeautifulSoup\n",
    "\n",
    "sources_individual=[]\n",
    "soup=BeautifulSoup(demo,\"html.parser\")\n",
    "for link in soup.find_all('a'):\n",
    "    if link.get('href'):\n",
    "        if link.get('href').startswith('Objects'):\n",
    "            name_i=link.get('href')[8:-5]\n",
    "            if name_i not in sources_individual:\n",
    "                sources_individual.append(name_i)\n",
    "                #print(name_i)"
   ]
  },
  {
   "cell_type": "code",
   "execution_count": null,
   "metadata": {
    "ExecuteTime": {
     "end_time": "2022-09-19T12:32:09.164454Z",
     "start_time": "2022-09-19T12:32:08.353612Z"
    }
   },
   "outputs": [],
   "source": [
    "import requests\n",
    "from bs4 import BeautifulSoup\n",
    "\n",
    "r=requests.get(sources_individual_url)\n",
    "demo=r.text\n",
    "\n",
    "\n",
    "sources_individual_Name=[]\n",
    "soup=BeautifulSoup(demo,\"html.parser\")\n",
    "for link in soup.find_all('a'):\n",
    "    if link.get('href'):\n",
    "        if link.get('href').startswith('Objects'):\n",
    "            #name_i=link.get('href')[8:-5]\n",
    "            Name_i=link.get_text()\n",
    "            if Name_i not in sources_individual:\n",
    "                sources_individual_Name.append(Name_i)\n",
    "                #print(Name_i)"
   ]
  },
  {
   "cell_type": "markdown",
   "metadata": {
    "ExecuteTime": {
     "end_time": "2022-09-19T12:32:09.169343Z",
     "start_time": "2022-09-19T12:32:09.166804Z"
    }
   },
   "source": [
    "Source_Name_dict = dict(zip(sources_individual,sources_individual_Name))\n",
    "Source_name_dict = dict(zip(sources_individual_Name,sources_individual))"
   ]
  },
  {
   "cell_type": "code",
   "execution_count": null,
   "metadata": {
    "ExecuteTime": {
     "end_time": "2022-10-06T02:27:54.131408Z",
     "start_time": "2022-10-06T02:27:54.114097Z"
    }
   },
   "outputs": [],
   "source": [
    "from __future__ import unicode_literals\n",
    "import json\n",
    "import numpy as np\n",
    "import pickle\n",
    "\n",
    "class JsonEncoder(json.JSONEncoder):\n",
    "    def default(self, obj):\n",
    "        if isinstance(obj, np.integer):\n",
    "            return int(obj)\n",
    "        elif isinstance(obj, np.floating):\n",
    "            return float(obj)\n",
    "        elif isinstance(obj, np.ndarray):\n",
    "            return obj.tolist()\n",
    "        #elif isinstance(obj, datetime):                                 \n",
    "            #return obj.__str__()\n",
    "        else:\n",
    "            return super(JsonEncoder, self).default(obj)\n",
    "'''————————————————\n",
    "版权声明：本文为CSDN博主「疯狂的小猪oO」的原创文章，遵循CC 4.0 BY-SA版权协议，转载请附上原文出处链接及本声明。\n",
    "原文链接：https://blog.csdn.net/u014657795/article/details/85868413\n",
    "'''"
   ]
  },
  {
   "cell_type": "markdown",
   "metadata": {},
   "source": [
    "## write local dict"
   ]
  },
  {
   "cell_type": "markdown",
   "metadata": {
    "ExecuteTime": {
     "end_time": "2022-08-05T01:54:21.762110Z",
     "start_time": "2022-08-05T01:54:21.758454Z"
    }
   },
   "source": [
    "import json\n",
    "import numpy as np\n",
    "import pickle\n",
    "\n",
    "with open(\"Source_Name_dict_pickle.json\", \"wb\") as f:# writr dict\n",
    "    pickle.dump(Source_Name_dict , f,pickle.HIGHEST_PROTOCOL)\n"
   ]
  },
  {
   "cell_type": "markdown",
   "metadata": {},
   "source": [
    "## load local Source_name_dict"
   ]
  },
  {
   "cell_type": "code",
   "execution_count": null,
   "metadata": {
    "ExecuteTime": {
     "end_time": "2022-10-20T15:09:03.773151Z",
     "start_time": "2022-10-20T15:09:03.765163Z"
    }
   },
   "outputs": [],
   "source": [
    "from __future__ import unicode_literals\n",
    "import json\n",
    "import numpy as np\n",
    "import pickle\n",
    "\n",
    "with open('Source_Name_dict_pickle.json', \"rb\") as f:# load dict\n",
    "    Source_Name_dict_load_pickle = pickle.load(f)"
   ]
  },
  {
   "cell_type": "code",
   "execution_count": null,
   "metadata": {
    "ExecuteTime": {
     "end_time": "2022-10-20T15:09:04.204881Z",
     "start_time": "2022-10-20T15:09:04.197052Z"
    }
   },
   "outputs": [],
   "source": [
    "Source_Name_dict_load_pickle_Name2url  = dict(zip(Source_Name_dict_load_pickle .values(), Source_Name_dict_load_pickle .keys())) \n",
    "Source_Name_dict = Source_Name_dict_load_pickle \n",
    "Source_name_dict =Source_Name_dict_load_pickle_Name2url"
   ]
  },
  {
   "cell_type": "markdown",
   "metadata": {
    "ExecuteTime": {
     "end_time": "2022-10-06T02:28:33.299684Z",
     "start_time": "2022-10-06T02:28:33.285630Z"
    }
   },
   "source": [
    "Source_Name_dict"
   ]
  },
  {
   "cell_type": "markdown",
   "metadata": {},
   "source": [
    "## RadioAGN_RM"
   ]
  },
  {
   "cell_type": "code",
   "execution_count": null,
   "metadata": {
    "ExecuteTime": {
     "end_time": "2022-10-27T11:35:58.613591Z",
     "start_time": "2022-10-27T11:35:58.566696Z"
    }
   },
   "outputs": [],
   "source": [
    "RadioAGN_RM=pd.read_excel('%s/RadioLoudAGNRM.xlsx'%root_dir,header=0)"
   ]
  },
  {
   "cell_type": "code",
   "execution_count": null,
   "metadata": {
    "ExecuteTime": {
     "end_time": "2022-10-27T11:38:28.547301Z",
     "start_time": "2022-10-27T11:38:28.531064Z"
    }
   },
   "outputs": [],
   "source": [
    "from astropy import units as u\n",
    "from astropy.coordinates import SkyCoord\n",
    "\n",
    "RadioAGN_RM_coord=SkyCoord(RadioAGN_RM['RA'],RadioAGN_RM['Dec'], unit=(u.hourangle, u.deg),frame=\"icrs\",) "
   ]
  },
  {
   "cell_type": "code",
   "execution_count": null,
   "metadata": {
    "ExecuteTime": {
     "end_time": "2022-10-27T11:38:28.837441Z",
     "start_time": "2022-10-27T11:38:28.829009Z"
    }
   },
   "outputs": [],
   "source": [
    "RadioAGN_RM['Ra_deg']=RadioAGN_RM_coord.ra.deg\n",
    "RadioAGN_RM['Dec_deg']=RadioAGN_RM_coord.dec.deg"
   ]
  },
  {
   "cell_type": "code",
   "execution_count": null,
   "metadata": {
    "ExecuteTime": {
     "end_time": "2022-10-27T11:40:45.303979Z",
     "start_time": "2022-10-27T11:40:45.288434Z"
    }
   },
   "outputs": [],
   "source": [
    "for index, name in enumerate(RadioAGN_RM['Name']):\n",
    "    print('%.5f'%RadioAGN_RM.loc[index,'Ra_deg'],',','%.5f'%RadioAGN_RM.loc[index,'Dec_deg'])"
   ]
  },
  {
   "cell_type": "code",
   "execution_count": null,
   "metadata": {},
   "outputs": [],
   "source": [
    "103.05104 , 74.42708\n",
    "256.17242 , 60.74181\n",
    "278.76412 , 32.69633\n",
    "332.97454 , 18.69719\n",
    "280.53746 , 79.77142\n",
    "68.29625 , 5.35433\n",
    "187.27792 , 2.05239\n",
    "228.21054 , -9.09994\n",
    "2.62921 , 10.97486\n",
    "166.05704 , 76.98278\n",
    "114.82512 , 1.61794\n",
    "63.81000 , -40.39472\n",
    "51.17150 , 34.17942\n",
    "255.03871 , 68.50194"
   ]
  },
  {
   "cell_type": "code",
   "execution_count": null,
   "metadata": {},
   "outputs": [],
   "source": []
  },
  {
   "cell_type": "code",
   "execution_count": null,
   "metadata": {},
   "outputs": [],
   "source": []
  },
  {
   "cell_type": "markdown",
   "metadata": {
    "ExecuteTime": {
     "end_time": "2022-10-11T01:49:54.414523Z",
     "start_time": "2022-10-11T01:49:54.385921Z"
    }
   },
   "source": [
    "os.chdir('/User/lyubing/blog/brettlv.github.io/pythoncode/00JetRM/')"
   ]
  },
  {
   "cell_type": "markdown",
   "metadata": {},
   "source": [
    "## Wu2004load L5100_LHbeta"
   ]
  },
  {
   "cell_type": "code",
   "execution_count": null,
   "metadata": {
    "ExecuteTime": {
     "end_time": "2022-10-20T15:09:25.364601Z",
     "start_time": "2022-10-20T15:09:25.346676Z"
    }
   },
   "outputs": [],
   "source": [
    "Wu2004_LHbeta_L5100=pd.read_csv('/Users/lyubing/IHEPBox/JetRM_plot/Wu2004_LHbeta_L5100.py',delimiter='&')\n",
    "Wu2004_LHbeta_L5100.columns#.iloc[0]#.columns"
   ]
  },
  {
   "cell_type": "markdown",
   "metadata": {},
   "source": [
    "## Rakshit et al. (2020)"
   ]
  },
  {
   "cell_type": "markdown",
   "metadata": {},
   "source": [
    "$$ log H\\alpha= 1.126 \\pm 0.004 * log 5100- 6.89\\pm 0.20  $$\n",
    "\n",
    "$$ log H\\beta= 0.947  \\pm 0.002 * log 5100- 0.45\\pm 0.09 $$\n",
    "\n",
    "$$log H\\beta= 1.057  \\pm 0.002 * log 5100- 4.41\\pm 0.1 (adopt) $$  \n",
    " \n"
   ]
  },
  {
   "cell_type": "markdown",
   "metadata": {},
   "source": [
    "# 3C 273"
   ]
  },
  {
   "cell_type": "markdown",
   "metadata": {},
   "source": [
    "## info_3C273"
   ]
  },
  {
   "cell_type": "code",
   "execution_count": null,
   "metadata": {
    "ExecuteTime": {
     "end_time": "2022-10-27T13:32:00.849802Z",
     "start_time": "2022-10-27T13:32:00.822904Z"
    }
   },
   "outputs": [],
   "source": [
    "source_Name='3C 273'\n",
    "source_name=Source_name_dict[source_Name]\n",
    "source_z=Fermi_AGN_list_name_redshift_T[Fermi_AGN_list_name_redshift_T['      Input Object Name       '].str.strip()==source_Name]['z_value']\n",
    "D_cm_3C273=cosmo.luminosity_distance(source_z.values[0]).to(u.cm)\n",
    "print(source_z.values[0],D_cm_3C273)"
   ]
  },
  {
   "cell_type": "markdown",
   "metadata": {},
   "source": [
    "## Zhangzhixiang 2019"
   ]
  },
  {
   "cell_type": "markdown",
   "metadata": {},
   "source": [
    "12- 16 F5.2   10-17W/m2/nm   F5100    [14/24.1]? Continuum flux at 5100{AA},\n",
    "                                        in 10^-15^erg/s/cm^2^/{AA}\n",
    "18- 21 F4.2   10-17W/m2/nm e_F5100    [0.2/0.3]? Uncertainty in F5100\n",
    "23- 27 F5.2   10-16W/m2      FHbeta   [15.5/19.7]? H{beta} emission-line flux,\n",
    "                                        in 10^-13^erg/s/cm^2^\n",
    "29- 32 F4.2   10-16W/m2    e_FHbeta   [0.15/0.3]? Uncertainty in FHbeta"
   ]
  },
  {
   "cell_type": "markdown",
   "metadata": {},
   "source": [
    "### flux_scale_zhang3c273"
   ]
  },
  {
   "cell_type": "code",
   "execution_count": null,
   "metadata": {
    "ExecuteTime": {
     "end_time": "2022-10-27T13:32:03.591565Z",
     "start_time": "2022-10-27T13:32:03.582415Z"
    }
   },
   "outputs": [],
   "source": [
    "flux_scale_5100_3C273=4*np.pi*(D_cm_3C273.value)**2*1.0e-15 # erg s^-1 A^-1\n",
    "flux_scale_Hbeta_3C273=4*np.pi*(D_cm_3C273.value)**2*1.0e-13 # erg s^-1\n",
    "print(D_cm_3C273.value)"
   ]
  },
  {
   "cell_type": "code",
   "execution_count": null,
   "metadata": {
    "ExecuteTime": {
     "end_time": "2022-10-28T06:36:20.073868Z",
     "start_time": "2022-10-28T06:36:19.878264Z"
    }
   },
   "outputs": [],
   "source": [
    "cat '/Volumes/ExtremeSSD/00PKU_SCI/FermiAGN_lag/lag_data/A 10yr reverberation mapping campaign for 3C273——J_ApJ_876_49/ReadMe'"
   ]
  },
  {
   "cell_type": "code",
   "execution_count": null,
   "metadata": {
    "ExecuteTime": {
     "end_time": "2022-10-13T07:19:29.528860Z",
     "start_time": "2022-10-13T07:19:29.511119Z"
    }
   },
   "outputs": [],
   "source": [
    "data_dir_3C273"
   ]
  },
  {
   "cell_type": "code",
   "execution_count": null,
   "metadata": {
    "ExecuteTime": {
     "end_time": "2022-10-20T15:09:52.671404Z",
     "start_time": "2022-10-20T15:09:52.597581Z"
    }
   },
   "outputs": [],
   "source": [
    "table_3C273_path=os.path.join(data_dir_3C273,'table1.dat')\n",
    "readme_3C273_path=os.path.join(data_dir_3C273,'ReadMe')\n",
    "data_3C273=Table.read(table_3C273_path,\n",
    "                      readme=readme_3C273_path,\n",
    "                      format=\"ascii.cds\",)\n",
    "\n",
    "data_3C273['mjd2']=data_3C273['JD2']-2400000.5\n",
    "data_3C273['mjd1']=data_3C273['JD1']-2400000.5\n",
    "data_3C273['mjd']=data_3C273['JD1']-2400000.5"
   ]
  },
  {
   "cell_type": "code",
   "execution_count": null,
   "metadata": {
    "ExecuteTime": {
     "end_time": "2022-10-14T02:55:32.018820Z",
     "start_time": "2022-10-14T02:55:32.008677Z"
    }
   },
   "outputs": [],
   "source": [
    "data_3C273.colnames"
   ]
  },
  {
   "cell_type": "markdown",
   "metadata": {},
   "source": [
    "## 3C 273 NTD"
   ]
  },
  {
   "cell_type": "code",
   "execution_count": null,
   "metadata": {
    "ExecuteTime": {
     "end_time": "2022-10-20T15:10:01.088795Z",
     "start_time": "2022-10-20T15:10:01.071244Z"
    }
   },
   "outputs": [],
   "source": [
    "data_3C273['L5100']= data_3C273['F5100']*flux_scale_5100_3C273*5100 #4*np.pi*D_cm_3C273**2*\n",
    "data_3C273['logL5100']=np.log10(data_3C273['L5100'])\n",
    "data_3C273['LHb']=data_3C273['FHbeta']*flux_scale_Hbeta_3C273 #4*np.pi*D_cm_3C273**2*\n",
    "data_3C273['logLHb']=np.log10(data_3C273['LHb'])\n",
    "data_3C273['logLp']= (data_3C273['logLHb']+4.41)/1.057\n",
    "data_3C273['Lp']=10**(data_3C273['logLp'])\n",
    "data_3C273['NTD']=data_3C273['L5100']/data_3C273['Lp']\n",
    "data_3C273['L5100minusLp']=data_3C273['L5100']-data_3C273['Lp']"
   ]
  },
  {
   "cell_type": "markdown",
   "metadata": {},
   "source": [
    "## 3C273_fitting_SO"
   ]
  },
  {
   "cell_type": "code",
   "execution_count": null,
   "metadata": {
    "ExecuteTime": {
     "end_time": "2022-10-28T06:30:36.911712Z",
     "start_time": "2022-10-28T06:30:36.887666Z"
    }
   },
   "outputs": [],
   "source": [
    "pd_3C273_fitting_result =pd.read_csv('/Users/lyubing/IHEPBox/code_of_python/qsofitmore/examples/3C273_fitting_result.txt',header=None)\n",
    "pd_3C273_fitting_result.columns=['file','logL5100','LHebta','Hb_fwhm','Hb_line_red_chi2']\n",
    "\n",
    "pd_3C273_fitting_result_notgood=pd_3C273_fitting_result[pd_3C273_fitting_result['Hb_fwhm']==0]\n",
    "pd_3C273_fitting_result_notgood=drop_index(pd_3C273_fitting_result_notgood)\n",
    "\n",
    "\n",
    "pd_3C273_fitting_result_good=pd_3C273_fitting_result[pd_3C273_fitting_result['Hb_fwhm']!=0]\n",
    "pd_3C273_fitting_result_good=pd_3C273_fitting_result_good[pd_3C273_fitting_result_good['Hb_line_red_chi2']>0.7]\n",
    "pd_3C273_fitting_result_good=pd_3C273_fitting_result_good[pd_3C273_fitting_result_good['Hb_line_red_chi2']<1.2]\n",
    "pd_3C273_fitting_result_good=drop_index(pd_3C273_fitting_result_good)"
   ]
  },
  {
   "cell_type": "markdown",
   "metadata": {
    "ExecuteTime": {
     "end_time": "2022-10-28T03:35:25.012601Z",
     "start_time": "2022-10-28T03:35:24.985931Z"
    }
   },
   "source": [
    "pd_3C273_fitting_result_good"
   ]
  },
  {
   "cell_type": "code",
   "execution_count": null,
   "metadata": {
    "ExecuteTime": {
     "end_time": "2022-10-28T06:30:45.873085Z",
     "start_time": "2022-10-28T06:30:45.859134Z"
    }
   },
   "outputs": [],
   "source": [
    "pd_3C273_fitting_result_good['logLp']= (np.log10(pd_3C273_fitting_result_good['LHebta'])+4.41)/1.057\n",
    "pd_3C273_fitting_result_good['Lp']= 10**pd_3C273_fitting_result_good['logLp']\n",
    "pd_3C273_fitting_result_good['L5100'] =10** pd_3C273_fitting_result_good['logL5100']\n",
    "pd_3C273_fitting_result_good['NTD'] = pd_3C273_fitting_result_good['L5100']/pd_3C273_fitting_result_good['Lp']"
   ]
  },
  {
   "cell_type": "code",
   "execution_count": null,
   "metadata": {
    "ExecuteTime": {
     "end_time": "2022-10-28T03:37:41.866354Z",
     "start_time": "2022-10-28T03:37:41.796195Z"
    }
   },
   "outputs": [],
   "source": [
    "get_info(data_3C273,'NTD')"
   ]
  },
  {
   "cell_type": "code",
   "execution_count": null,
   "metadata": {
    "ExecuteTime": {
     "end_time": "2022-10-28T03:35:47.440942Z",
     "start_time": "2022-10-28T03:35:47.433506Z"
    }
   },
   "outputs": [],
   "source": [
    "get_info(pd_3C273_fitting_result_good,'NTD')"
   ]
  },
  {
   "cell_type": "code",
   "execution_count": null,
   "metadata": {},
   "outputs": [],
   "source": []
  },
  {
   "cell_type": "code",
   "execution_count": null,
   "metadata": {},
   "outputs": [],
   "source": []
  },
  {
   "cell_type": "markdown",
   "metadata": {},
   "source": [
    "## Pol3C273"
   ]
  },
  {
   "cell_type": "code",
   "execution_count": null,
   "metadata": {
    "ExecuteTime": {
     "end_time": "2022-10-21T05:19:21.934760Z",
     "start_time": "2022-10-21T05:19:21.670079Z"
    }
   },
   "outputs": [],
   "source": [
    "source_Name='3C 273'\n",
    "Poldata_source_3C273=get_Poldata_name(source_Name)\n",
    "Poldata_source_3C273['snr']=Poldata_source_3C273[Poldata_source_3C273.columns[9]]/Poldata_source_3C273[Poldata_source_3C273.columns[10]]\n",
    "Poldata_source_3C273_snr=Poldata_source_3C273[Poldata_source_3C273['snr']>5]\n",
    "Poldata_source_3C273_snr=drop_index(Poldata_source_3C273_snr)"
   ]
  },
  {
   "cell_type": "code",
   "execution_count": null,
   "metadata": {},
   "outputs": [],
   "source": []
  },
  {
   "cell_type": "code",
   "execution_count": null,
   "metadata": {
    "ExecuteTime": {
     "end_time": "2022-10-14T02:56:44.279368Z",
     "start_time": "2022-10-14T02:56:44.212979Z"
    }
   },
   "outputs": [],
   "source": [
    "get_info(data_3C273,'NTD')"
   ]
  },
  {
   "cell_type": "markdown",
   "metadata": {},
   "source": [
    "### plot_sim_VandF5100"
   ]
  },
  {
   "cell_type": "code",
   "execution_count": null,
   "metadata": {
    "ExecuteTime": {
     "end_time": "2022-10-20T15:11:29.966693Z",
     "start_time": "2022-10-20T15:11:29.767176Z"
    }
   },
   "outputs": [],
   "source": [
    "time1,Lum1,time2,Lum2=data_3C273['mjd'],data_3C273['F5100'],data_3C273['mjd2'],data_3C273['Vmag']\n",
    "time1s,Lum1s,time2s,Lum2s=get_quasi_sim_lum_correlation(time1,Lum1,time2,Lum2,timebin=1)\n",
    "\n",
    "figure_n=1\n",
    "fig = plt.figure(figsize=(6,figure_n*4))\n",
    "fig.subplots_adjust(hspace=0.0, wspace = 0.0)\n",
    "\n",
    "ax = fig.add_subplot(figure_n,1,1)\n",
    "ax.scatter(np.log10(Lum1s*flux_scale_5100_3C273*5100),Lum2s)\n",
    "set_mag_ylim(ax)\n",
    "ax.set_ylabel('V(mag)')\n",
    "ax.set_xlabel('log L5100')\n",
    "#ax.semilogx()\n",
    "set_ax_tick(ax)"
   ]
  },
  {
   "cell_type": "code",
   "execution_count": null,
   "metadata": {
    "ExecuteTime": {
     "end_time": "2022-10-06T03:13:46.229807Z",
     "start_time": "2022-10-06T03:13:46.073943Z"
    }
   },
   "outputs": [],
   "source": [
    "fig = plt.figure(figsize=(8,6))"
   ]
  },
  {
   "cell_type": "code",
   "execution_count": null,
   "metadata": {
    "ExecuteTime": {
     "end_time": "2022-10-06T03:21:00.821004Z",
     "start_time": "2022-10-06T03:21:00.811645Z"
    }
   },
   "outputs": [],
   "source": [
    "pearsonr(Lum1s,-Lum2s)"
   ]
  },
  {
   "cell_type": "code",
   "execution_count": null,
   "metadata": {},
   "outputs": [],
   "source": []
  },
  {
   "cell_type": "code",
   "execution_count": null,
   "metadata": {
    "ExecuteTime": {
     "end_time": "2022-10-06T03:05:31.973431Z",
     "start_time": "2022-10-06T03:05:31.963641Z"
    }
   },
   "outputs": [],
   "source": [
    "data_3C273.colnames"
   ]
  },
  {
   "cell_type": "code",
   "execution_count": null,
   "metadata": {
    "ExecuteTime": {
     "end_time": "2022-09-19T12:35:16.741458Z",
     "start_time": "2022-09-19T12:35:16.721788Z"
    }
   },
   "outputs": [],
   "source": [
    "readme_3C273_path"
   ]
  },
  {
   "cell_type": "code",
   "execution_count": null,
   "metadata": {
    "ExecuteTime": {
     "end_time": "2022-09-19T12:35:24.492891Z",
     "start_time": "2022-09-19T12:35:24.425106Z"
    }
   },
   "outputs": [],
   "source": [
    "min(data_3C273[data_3C273.colnames[1]]),max(data_3C273[data_3C273.colnames[1]])"
   ]
  },
  {
   "cell_type": "code",
   "execution_count": null,
   "metadata": {
    "ExecuteTime": {
     "end_time": "2022-09-19T12:35:24.886794Z",
     "start_time": "2022-09-19T12:35:24.820361Z"
    }
   },
   "outputs": [],
   "source": [
    "min(data_3C273[data_3C273.colnames[3]]),max(data_3C273[data_3C273.colnames[3]])"
   ]
  },
  {
   "cell_type": "markdown",
   "metadata": {
    "ExecuteTime": {
     "end_time": "2022-07-22T13:39:53.738598Z",
     "start_time": "2022-07-22T13:39:53.725442Z"
    }
   },
   "source": [
    "## Liyanrong_decomposition"
   ]
  },
  {
   "cell_type": "code",
   "execution_count": null,
   "metadata": {
    "ExecuteTime": {
     "end_time": "2022-10-20T15:11:48.483602Z",
     "start_time": "2022-10-20T15:11:48.435281Z"
    }
   },
   "outputs": [],
   "source": [
    "Jet3C273_decomp=pd.read_csv('%s/3C273_jet.txt'%lagdata_dir_3C273,header=None,delimiter='\\s',engine='python')\n",
    "Disk3C273_decomp=pd.read_csv('%s/3C273_disk.txt'%lagdata_dir_3C273,header=None,delimiter='\\s',engine='python')\n",
    "\n",
    "Jet3C273_decomp.columns=['JD-2450000','Jetflux_V','err_Jetflux_V']\n",
    "Disk3C273_decomp.columns=['JD-2450000','Diskflux_V','err_Diskflux_V']\n",
    "\n",
    "Jet3C273_decomp['mjd']=Jet3C273_decomp['JD-2450000']+50000-0.5\n",
    "Disk3C273_decomp['mjd']=Disk3C273_decomp['JD-2450000']+50000-0.5"
   ]
  },
  {
   "cell_type": "markdown",
   "metadata": {
    "ExecuteTime": {
     "end_time": "2022-10-06T02:30:44.310010Z",
     "start_time": "2022-10-06T02:30:44.286240Z"
    }
   },
   "source": [
    "Disk3C273_decomp"
   ]
  },
  {
   "cell_type": "markdown",
   "metadata": {
    "ExecuteTime": {
     "end_time": "2022-10-06T02:30:48.723348Z",
     "start_time": "2022-10-06T02:30:48.703566Z"
    }
   },
   "source": [
    "Jet3C273_decomp"
   ]
  },
  {
   "cell_type": "markdown",
   "metadata": {},
   "source": [
    "### plot_decomp_lc"
   ]
  },
  {
   "cell_type": "code",
   "execution_count": null,
   "metadata": {
    "ExecuteTime": {
     "end_time": "2022-10-07T08:46:34.274805Z",
     "start_time": "2022-10-07T08:46:32.388463Z"
    }
   },
   "outputs": [],
   "source": [
    "fig, ax = plt.subplots(1, 1,figsize=(8*1.5,6*1.5))\n",
    "\n",
    "'''for i in range(len(table_ATCA_3C273_5GHz)):\n",
    "    flux_and_err=table_ATCA_3C273_5GHz.loc[i,'Flux Density (Jy)']\n",
    "    flux=flux_and_err.split('±')[0]\n",
    "    err_flux=flux_and_err.split('±')[1]   \n",
    "    ax.errorbar(table_ATCA_3C273_5GHz.loc[i,'mjd'],float(flux),float(err_flux),\n",
    "              ls=':',marker='.',markersize=10,color='r',label='VLA 5GHz')\n",
    "'''\n",
    "\n",
    "lag_radio_optcal=509.2\n",
    "\n",
    "ax.errorbar(mojave_15GHz_3c273['mjd']-lag_radio_optcal,mojave_15GHz_3c273['flux'],#*1.2,\n",
    "            fmt='+',label='VLBA_15GHz lagged %d d'%lag_radio_optcal)\n",
    "\n",
    "ax.errorbar(ovro_40m_3C273['mjd']-lag_radio_optcal,ovro_40m_3C273['flux'],ovro_40m_3C273['flux err'],\n",
    "            fmt='d',label='OVRO_15GHz lagged %d d'%lag_radio_optcal)\n",
    "    \n",
    "\n",
    "set_ax_tick(ax) \n",
    "ax.set_title('3C 273')\n",
    "ax.set_xlabel(r'MJD(d)')\n",
    "ax.set_ylabel(r'Flux')\n",
    "\n",
    "\n",
    "ax.xaxis.set_tick_params(which='major', size=10, width=2, rotation=0,)\n",
    "handles, labels = ax.get_legend_handles_labels()\n",
    "# remove the errorbars\n",
    "#hdl = [h[0] for h in handles]\n",
    "hdl = handles\n",
    "labels_dict=dict(zip(labels, hdl)) #key,values\n",
    "by_label=OrderedDict(sorted(labels_dict.items(),key=lambda t:t[0]))\n",
    "#by_label = OrderedDict(zip(labels, handles))\n",
    "\n",
    "ax.legend(by_label.values(), by_label.keys(), bbox_to_anchor=(0.0, 0.99),\n",
    "          loc=2, numpoints=1,ncol=1,fontsize=11.)\n",
    "\n",
    "\n",
    "ax2=ax.twinx()\n",
    "#ax2.errorbar(data_3C273['JD1']-2400000.5,data_3C273['F5100'],label='5100')\n",
    "#ax2.errorbar(data_3C273['JD1']-2400000.5,data_3C273['FHbeta'],label='Hbeta')\n",
    "ax2.errorbar(Disk3C273_decomp['mjd'],\n",
    "            Disk3C273_decomp['Diskflux_V'],\n",
    "            yerr=Disk3C273_decomp['err_Diskflux_V'],\n",
    "                            label='Disk_decomp')\n",
    "\n",
    "ax2.errorbar(Jet3C273_decomp['mjd'],Jet3C273_decomp['Jetflux_V'],\n",
    "            yerr=Jet3C273_decomp['err_Jetflux_V'],label='Jet_decomp')\n",
    "\n",
    "'''ax2.errorbar(Jet3C273_decomp['mjd'],Jet3C273_decomp['Jetflux_V']#+Disk3C273_decomp['Diskflux_V'],\n",
    "             #yerr=Jet3C273_decomp['err_Jetflux_V'],\n",
    "             label='Jet+Disk')\n",
    "'''\n",
    "\n",
    "\n",
    "\n",
    "ax2.xaxis.set_tick_params(which='major', size=10, width=2, rotation=0,)\n",
    "handles, labels = ax2.get_legend_handles_labels()\n",
    "# remove the errorbars\n",
    "#hdl = [h[0] for h in handles]\n",
    "hdl = handles\n",
    "labels_dict=dict(zip(labels, hdl)) #key,values\n",
    "by_label=OrderedDict(sorted(labels_dict.items(),key=lambda t:t[0]))\n",
    "#by_label = OrderedDict(zip(labels, handles))\n",
    "\n",
    "ax2.legend(by_label.values(), by_label.keys(), bbox_to_anchor=(0.79, 0.99),\n",
    "          loc=2, numpoints=1,ncol=1,fontsize=11.)\n",
    "\n",
    "plot_secax(ax,mi_interval=365,ma_interval=365*2,rotation=30)    \n",
    "fig.tight_layout()\n",
    "range_l,range_r=(54000+1,59250-1)\n",
    "ax.set_xlim(range_l,range_r)\n",
    "plt.savefig('/Users/lyubing/IHEPBox/JetRM_plot/3C273_plot/3C273_decomp_lc_radio_optical_%d_%d.png'%(range_l,range_r),dpi=400)\n"
   ]
  },
  {
   "cell_type": "code",
   "execution_count": null,
   "metadata": {
    "ExecuteTime": {
     "end_time": "2022-10-06T10:42:06.252524Z",
     "start_time": "2022-10-06T10:42:06.239248Z"
    }
   },
   "outputs": [],
   "source": [
    "data_3C273.colnames"
   ]
  },
  {
   "cell_type": "markdown",
   "metadata": {},
   "source": [
    "### plot lagged_Hbeta_L5100"
   ]
  },
  {
   "cell_type": "code",
   "execution_count": null,
   "metadata": {
    "ExecuteTime": {
     "end_time": "2022-10-13T12:02:49.393389Z",
     "start_time": "2022-10-13T12:02:49.152296Z"
    }
   },
   "outputs": [],
   "source": [
    "time1=data_3C273['mjd']\n",
    "Lum1=data_3C273['F5100']\n",
    "time2=Disk3C273_decomp['mjd']\n",
    "Lum2=Disk3C273_decomp['Diskflux_V']\n",
    "time3=Jet3C273_decomp['mjd']\n",
    "Lum3=Jet3C273_decomp['Jetflux_V']\n",
    "\n",
    "time1s,Lum1s,time2s,Lum2s,time3s,Lum3s=get_quasi_sim_lum3(time1,Lum1,time2,Lum2,time3,Lum3,timebin=10)"
   ]
  },
  {
   "cell_type": "code",
   "execution_count": null,
   "metadata": {
    "ExecuteTime": {
     "end_time": "2022-10-13T12:02:50.116154Z",
     "start_time": "2022-10-13T12:02:50.105331Z"
    }
   },
   "outputs": [],
   "source": [
    "np.mean(Lum2)/(np.mean(Lum2)+np.mean(Lum3))"
   ]
  },
  {
   "cell_type": "code",
   "execution_count": null,
   "metadata": {
    "ExecuteTime": {
     "end_time": "2022-10-13T12:04:14.977400Z",
     "start_time": "2022-10-13T12:04:14.956100Z"
    }
   },
   "outputs": [],
   "source": [
    "Lum1s_Disk=[]\n",
    "for i in range(len(time1s)):\n",
    "    Lum1s_Disk.append(Lum1s[i]* Lum2[i]/(Lum2[i]+Lum3[i]))\n",
    "Lum1s_Disk=np.array(Lum1s_Disk)\n",
    "\n",
    "Lum1s_Jet=[]\n",
    "for i in range(len(time1s)):\n",
    "    Lum1s_Jet.append(Lum1s[i]* Lum3[i]/(Lum2[i]+Lum3[i]))\n",
    "Lum1s_Jet=np.array(Lum1s_Jet)"
   ]
  },
  {
   "cell_type": "code",
   "execution_count": null,
   "metadata": {
    "ExecuteTime": {
     "end_time": "2022-10-07T06:28:00.286704Z",
     "start_time": "2022-10-07T06:28:00.282306Z"
    }
   },
   "outputs": [],
   "source": []
  },
  {
   "cell_type": "markdown",
   "metadata": {
    "ExecuteTime": {
     "end_time": "2022-10-07T06:01:51.803415Z",
     "start_time": "2022-10-07T06:01:51.786292Z"
    }
   },
   "source": [
    "time1s"
   ]
  },
  {
   "cell_type": "markdown",
   "metadata": {
    "ExecuteTime": {
     "end_time": "2022-10-07T06:05:32.714062Z",
     "start_time": "2022-10-07T06:05:32.708541Z"
    }
   },
   "source": [
    "### lag_F5100_Disk"
   ]
  },
  {
   "cell_type": "code",
   "execution_count": null,
   "metadata": {
    "ExecuteTime": {
     "end_time": "2022-10-13T12:04:24.163240Z",
     "start_time": "2022-10-13T12:04:24.151262Z"
    }
   },
   "outputs": [],
   "source": [
    "data_Lum1s_Disk = {'t': time1s, 'flux': Lum1s_Disk,}\n",
    "lag_F5100_Disk = pd.DataFrame(data_Lum1s_Disk,columns=['t','flux'])\n",
    "lag_F5100_Disk['e_flux']=0.27"
   ]
  },
  {
   "cell_type": "markdown",
   "metadata": {},
   "source": [
    "### lag_F5100_Jet"
   ]
  },
  {
   "cell_type": "code",
   "execution_count": null,
   "metadata": {
    "ExecuteTime": {
     "end_time": "2022-10-13T12:04:25.893712Z",
     "start_time": "2022-10-13T12:04:25.882250Z"
    }
   },
   "outputs": [],
   "source": [
    "data_Lum1s_Jet = {'t': time1s, 'flux': Lum1s_Jet,}\n",
    "lag_F5100_Jet = pd.DataFrame(data_Lum1s_Jet,columns=['t','flux'])\n",
    "lag_F5100_Jet['e_flux']=0.27"
   ]
  },
  {
   "cell_type": "markdown",
   "metadata": {
    "ExecuteTime": {
     "end_time": "2022-10-06T14:18:17.049207Z",
     "start_time": "2022-10-06T14:18:17.029801Z"
    }
   },
   "source": [
    "### plot decomp_F5100"
   ]
  },
  {
   "cell_type": "code",
   "execution_count": null,
   "metadata": {
    "ExecuteTime": {
     "end_time": "2022-10-13T13:08:25.325978Z",
     "start_time": "2022-10-13T13:08:24.845974Z"
    }
   },
   "outputs": [],
   "source": [
    "lagtime=194.9 #170\n",
    "#lagtime=170 #170\n",
    "\n",
    "t2=data_3C273['mjd']\n",
    "y2=data_3C273['FHbeta']\n",
    "\n",
    "t2_data= np.array(t2[~t2.mask])\n",
    "y2_data= np.array(y2[~y2.mask])\n",
    "\n",
    "#new_t1,new_y1,new_t2,new_y2=get_lag_correlation(time1s,Lum1s_Disk,t2_data,y2_data,lagtime,timebin=5)\n",
    "new_t1,new_y1,new_t2,new_y2=get_quasi_sim_lum_correlation(time1s,Lum1s_Disk,t2_data,y2_data, timebin=1)\n",
    "\n",
    "fig, ax = plt.subplots(1, 1,figsize=(6,6))\n",
    "ax.errorbar(x=np.log10(new_y1*flux_scale_5100_3C273*5100),\n",
    "            #xerr=np.log10(data_3C273[e_flux_label]*flux_scale*5100),\n",
    "            y=np.log10(new_y2*flux_scale_Hbeta_3C273),\n",
    "            #yerr=np.log10(data_3C273[e_flux_label_1]*flux_scale*4861),\n",
    "            fmt='*',label='F5100_diskcomponent',zorder=0)\n",
    "\n",
    "\n",
    "'''for i in range(len(Wu2004_LHbeta_L5100)):\n",
    "    flux_and_err=Wu2004_LHbeta_L5100.loc[i,Wu2004_LHbeta_L5100.columns[4]]\n",
    "    flux=flux_and_err.split('$\\pm$')[0]\n",
    "    err_flux=flux_and_err.split('$\\pm$')[1]   \n",
    "    \n",
    "    flux_and_err_Hbeta=Wu2004_LHbeta_L5100.loc[i,Wu2004_LHbeta_L5100.columns[5]]\n",
    "    flux_Hbeta=flux_and_err_Hbeta.split('$\\pm$')[0]\n",
    "    err_flux_Hbeta=flux_and_err_Hbeta.split('$\\pm$')[1]   \n",
    "    \n",
    "    ax.errorbar(x=np.log10(float(flux))+42,\n",
    "                #xerr=float(err_flux),\n",
    "                y=np.log10(float(flux_Hbeta))+42,\n",
    "                #yerr=float(err_flux_Hbeta),\n",
    "              ls=':',marker='.',markersize=10,color='grey',label='Wu2004')\n",
    "'''\n",
    "\n",
    "flux_label=data_3C273.colnames[1]\n",
    "e_flux_label=data_3C273.colnames[2]\n",
    "flux_label_1=data_3C273.colnames[3]\n",
    "e_flux_label_1=data_3C273.colnames[4]\n",
    "print(flux_label,e_flux_label)\n",
    "print(flux_label_1,e_flux_label_1)\n",
    "ax.errorbar(x=np.log10(data_3C273[flux_label]*flux_scale_5100_3C273*5100),\n",
    "            #xerr=np.log10(data_3C273[e_flux_label]*flux_scale*5100),\n",
    "            y=np.log10(data_3C273[flux_label_1]*flux_scale_Hbeta_3C273),\n",
    "            #yerr=np.log10(data_3C273[e_flux_label_1]*flux_scale*4861),\n",
    "            fmt='.',label='F5100_total',zorder=1)\n",
    "\n",
    "\n",
    "\n",
    "slope=1.02747111\n",
    "offset=3.04154998\n",
    "\n",
    "L5100_linspace=np.linspace(45.6,46)    \n",
    "Lhbeta= L5100_linspace*slope-offset\n",
    "ax.plot(L5100_linspace,Lhbeta,label='Wu2004 logLHbeta=logL5100*%.3f -%.2f'%(slope,offset))\n",
    "\n",
    "\n",
    "slope=0.947\n",
    "offset=0.45\n",
    "Lhbeta= L5100_linspace*slope-offset\n",
    "#ax.plot(L5100_linspace,Lhbeta,label='Rakshit2020 logLHbeta=logL5100*%.3f -%.2f'%(slope,offset))\n",
    "\n",
    "\n",
    "slope=1.057\n",
    "offset=4.41\n",
    "Lhbeta= L5100_linspace*slope-offset\n",
    "ax.plot(L5100_linspace,Lhbeta,label='Rakshit2020 logLHbeta=logL5100*%.3f -%.2f'%(slope,offset))\n",
    "\n",
    "\n",
    "    \n",
    "ax.set_xlabel(r'log$L_{5100\\AA} (\\mathrm{erg\\, s^{-1}})$')\n",
    "ax.set_ylabel(r'log$L_{H\\beta} (\\mathrm{erg\\, s^{-1}})$')\n",
    "\n",
    "\n",
    "#ax.semilogx()\n",
    "#ax.semilogy()\n",
    "ax.set_title('3C 273')\n",
    "ax.xaxis.set_tick_params(which='major', size=10, width=2, rotation=0,)\n",
    "handles, labels = ax.get_legend_handles_labels()\n",
    "# remove the errorbars\n",
    "#hdl = [h[0] for h in handles]\n",
    "hdl = handles\n",
    "labels_dict=dict(zip(labels, hdl)) #key,values\n",
    "by_label=OrderedDict(sorted(labels_dict.items(),key=lambda t:t[0]))\n",
    "#by_label = OrderedDict(zip(labels, handles))\n",
    "\n",
    "ax.legend(by_label.values(), by_label.keys(), bbox_to_anchor=(0.01, 0.99),\n",
    "          loc=2, numpoints=1,ncol=1,fontsize=11.)\n",
    "\n",
    "ax.set_xlim(45.5,46)\n",
    "ax.set_ylim(44.0-0.2,44.5-0.2)\n",
    "\n",
    "#plot_secax(ax,mi_interval=365,ma_interval=365*2,rotation=30)    \n",
    "set_ax_tick(ax)\n",
    "fig.tight_layout()\n",
    "plt.savefig('/Users/lyubing/IHEPBox/JetRM_plot/3C273_plot/3C273_Hbeta_L5100.png',dpi=400)\n",
    "\n"
   ]
  },
  {
   "cell_type": "markdown",
   "metadata": {},
   "source": [
    "### plot_lag_decomp_F5100"
   ]
  },
  {
   "cell_type": "code",
   "execution_count": null,
   "metadata": {
    "ExecuteTime": {
     "end_time": "2022-10-13T13:08:43.029417Z",
     "start_time": "2022-10-13T13:08:42.567680Z"
    }
   },
   "outputs": [],
   "source": [
    "lagtime=194.9 #170\n",
    "#lagtime=170 #170\n",
    "\n",
    "t2=data_3C273['mjd']\n",
    "y2=data_3C273['FHbeta']\n",
    "t2_data= np.array(t2[~t2.mask])\n",
    "y2_data= np.array(y2[~y2.mask])\n",
    "\n",
    "new_t1,new_y1,new_t2,new_y2=get_lag_correlation(time1s,Lum1s_Disk,t2_data,y2_data,lagtime,timebin=10)\n",
    "\n",
    "fig, ax = plt.subplots(1, 1,figsize=(6,6))\n",
    "ax.errorbar(x=np.log10(new_y1*flux_scale_5100_3C273*5100),\n",
    "            #xerr=np.log10(data_3C273[e_flux_label]*flux_scale*5100),\n",
    "            y=np.log10(new_y2*flux_scale_Hbeta_3C273),\n",
    "            #yerr=np.log10(data_3C273[e_flux_label_1]*flux_scale*4861),\n",
    "            fmt='*',label='L5100_diskcomponent Hbeta lagged %d days'%lagtime,zorder=0)\n",
    "\n",
    "\n",
    "\n",
    "'''for i in range(len(Wu2004_LHbeta_L5100)):\n",
    "    flux_and_err=Wu2004_LHbeta_L5100.loc[i,Wu2004_LHbeta_L5100.columns[4]]\n",
    "    flux=flux_and_err.split('$\\pm$')[0]\n",
    "    err_flux=flux_and_err.split('$\\pm$')[1]   \n",
    "    \n",
    "    flux_and_err_Hbeta=Wu2004_LHbeta_L5100.loc[i,Wu2004_LHbeta_L5100.columns[5]]\n",
    "    flux_Hbeta=flux_and_err_Hbeta.split('$\\pm$')[0]\n",
    "    err_flux_Hbeta=flux_and_err_Hbeta.split('$\\pm$')[1]   \n",
    "    \n",
    "    ax.errorbar(x=np.log10(float(flux))+42,\n",
    "                #xerr=float(err_flux),\n",
    "                y=np.log10(float(flux_Hbeta))+42,\n",
    "                #yerr=float(err_flux_Hbeta),\n",
    "              ls=':',marker='.',markersize=10,color='grey',label='Wu2004')\n",
    "'''\n",
    "\n",
    "flux_label=data_3C273.colnames[1]\n",
    "e_flux_label=data_3C273.colnames[2]\n",
    "flux_label_1=data_3C273.colnames[3]\n",
    "e_flux_label_1=data_3C273.colnames[4]\n",
    "print(flux_label,e_flux_label)\n",
    "print(flux_label_1,e_flux_label_1)\n",
    "\n",
    "\n",
    "t1=data_3C273['mjd']\n",
    "y1=data_3C273['F5100']\n",
    "t1_data= np.array(t1[~t1.mask])\n",
    "y1_data= np.array(y1[~y1.mask])\n",
    "\n",
    "\n",
    "new_t1_5100Total,new_y1_5100Total,new_t2_5100Total,new_y2_5100Total=get_lag_correlation(t1_data,y1_data,t2_data,y2_data,lagtime,timebin=10)\n",
    "\n",
    "ax.errorbar(x=np.log10(new_y1_5100Total*flux_scale_5100_3C273*5100),\n",
    "            #xerr=np.log10(data_3C273[e_flux_label]*flux_scale*5100),\n",
    "            y=np.log10(new_y2_5100Total*flux_scale_Hbeta_3C273),\n",
    "            #yerr=np.log10(data_3C273[e_flux_label_1]*flux_scale*4861),\n",
    "            fmt='.',label='L5100_total Hbeta lagged %d days'%lagtime,zorder=1)\n",
    "\n",
    "\n",
    "\n",
    "slope=1.02747111\n",
    "offset=3.04154998\n",
    "\n",
    "L5100_linspace=np.linspace(45.6,46)    \n",
    "Lhbeta= L5100_linspace*slope-offset\n",
    "ax.plot(L5100_linspace,Lhbeta,label='Wu2004 logLHbeta=logL5100*%.3f -%.2f'%(slope,offset))\n",
    "\n",
    "\n",
    "slope=0.947\n",
    "offset=0.45\n",
    "Lhbeta= L5100_linspace*slope-offset\n",
    "#ax.plot(L5100_linspace,Lhbeta,label='Rakshit2020 logLHbeta=logL5100*%.3f -%.2f'%(slope,offset))\n",
    "\n",
    "\n",
    "slope=1.057\n",
    "offset=4.41\n",
    "Lhbeta= L5100_linspace*slope-offset\n",
    "ax.plot(L5100_linspace,Lhbeta,label='Rakshit2020 logLHbeta=logL5100*%.3f -%.2f'%(slope,offset))\n",
    "\n",
    "\n",
    "    \n",
    "ax.set_xlabel(r'log$L_{5100\\AA} (\\mathrm{erg\\, s^{-1}})$')\n",
    "ax.set_ylabel(r'log$L_{H\\beta} (\\mathrm{erg\\, s^{-1}})$')\n",
    "\n",
    "\n",
    "#ax.semilogx()\n",
    "#ax.semilogy()\n",
    "ax.set_title('3C 273')\n",
    "ax.xaxis.set_tick_params(which='major', size=10, width=2, rotation=0,)\n",
    "handles, labels = ax.get_legend_handles_labels()\n",
    "# remove the errorbars\n",
    "#hdl = [h[0] for h in handles]\n",
    "hdl = handles\n",
    "labels_dict=dict(zip(labels, hdl)) #key,values\n",
    "by_label=OrderedDict(sorted(labels_dict.items(),key=lambda t:t[0]))\n",
    "#by_label = OrderedDict(zip(labels, handles))\n",
    "\n",
    "ax.legend(by_label.values(), by_label.keys(), bbox_to_anchor=(0.01, 0.99),\n",
    "          loc=2, numpoints=1,ncol=1,fontsize=11.)\n",
    "\n",
    "ax.set_xlim(45.5,46)\n",
    "ax.set_ylim(44.0-0.2,44.5-0.2)\n",
    "\n",
    "#plot_secax(ax,mi_interval=365,ma_interval=365*2,rotation=30)    \n",
    "set_ax_tick(ax)\n",
    "fig.tight_layout()\n",
    "plt.savefig('/Users/lyubing/IHEPBox/JetRM_plot/3C273_plot/3C273_Hbeta_L5100_lagged_%d.png'%lagtime,dpi=400)\n",
    "\n"
   ]
  },
  {
   "cell_type": "code",
   "execution_count": null,
   "metadata": {
    "ExecuteTime": {
     "end_time": "2022-10-07T05:48:35.379591Z",
     "start_time": "2022-10-07T05:48:35.367739Z"
    }
   },
   "outputs": [],
   "source": [
    "np.log10(0.75)"
   ]
  },
  {
   "cell_type": "code",
   "execution_count": null,
   "metadata": {
    "ExecuteTime": {
     "end_time": "2022-10-06T14:12:28.738101Z",
     "start_time": "2022-10-06T14:12:28.126880Z"
    }
   },
   "outputs": [],
   "source": [
    "fig, ax = plt.subplots(1, 1,figsize=(8,8))\n",
    "\n",
    "for i in range(len(Wu2004_LHbeta_L5100)):\n",
    "    flux_and_err=Wu2004_LHbeta_L5100.loc[i,Wu2004_LHbeta_L5100.columns[4]]\n",
    "    flux=flux_and_err.split('$\\pm$')[0]\n",
    "    err_flux=flux_and_err.split('$\\pm$')[1]   \n",
    "    \n",
    "    flux_and_err_Hbeta=Wu2004_LHbeta_L5100.loc[i,Wu2004_LHbeta_L5100.columns[5]]\n",
    "    flux_Hbeta=flux_and_err_Hbeta.split('$\\pm$')[0]\n",
    "    err_flux_Hbeta=flux_and_err_Hbeta.split('$\\pm$')[1]   \n",
    "    \n",
    "    ax.errorbar(x=np.log10(float(flux))+42,\n",
    "                #xerr=float(err_flux),\n",
    "                y=np.log10(float(flux_Hbeta))+42,\n",
    "                #yerr=float(err_flux_Hbeta),\n",
    "              ls=':',marker='.',markersize=10,color='grey',label='Wu2004')\n",
    "\n",
    "flux_label=data_3C273.colnames[1]\n",
    "e_flux_label=data_3C273.colnames[2]\n",
    "flux_label_1=data_3C273.colnames[3]\n",
    "e_flux_label_1=data_3C273.colnames[4]\n",
    "print(flux_label,e_flux_label)\n",
    "print(flux_label_1,e_flux_label_1)\n",
    "\n",
    "\n",
    "\n",
    "\n",
    "ax.errorbar(x=np.log10(new_y1*flux_scale_5100*5100),\n",
    "            #xerr=np.log10(data_3C273[e_flux_label]*flux_scale*5100),\n",
    "            y=np.log10(new_y2*flux_scale_Hbeta),\n",
    "            #yerr=np.log10(data_3C273[e_flux_label_1]*flux_scale*4861),\n",
    "            fmt='.',label='3C 273')\n",
    "\n",
    "slope=1.02747111\n",
    "offset=3.04154998\n",
    "\n",
    "L5100_linspace=np.linspace(41,46)    \n",
    "Lhbeta= L5100_linspace*slope-offset\n",
    "ax.plot(L5100_linspace,Lhbeta,label='logLHbeta=logL5100*%.3f -%.2f'%(slope,offset))\n",
    "\n",
    "'''slope=0.947\n",
    "offset=0.45\n",
    "Lhbeta= L5100_linspace*slope-offset\n",
    "ax.plot(L5100_linspace,Lhbeta,label='Rakshit2020 logLHbeta=logL5100*%.3f -%.2f'%(slope,offset))\n",
    "''' \n",
    "slope=1.057\n",
    "offset=4.41\n",
    "Lhbeta= L5100_linspace*slope-offset\n",
    "ax.plot(L5100_linspace,Lhbeta,label='Rakshit2020 logLHbeta=logL5100*%.3f -%.2f'%(slope,offset))\n",
    "\n",
    "\n",
    "ax.set_xlabel(r'log$L_{5100\\AA} (\\mathrm{erg\\, s^{-1}})$')\n",
    "ax.set_ylabel(r'log$L_{H\\beta} (\\mathrm{erg\\, s^{-1}})$')\n",
    "\n",
    "\n",
    "#ax.semilogx()\n",
    "#ax.semilogy()\n",
    "#ax.set_title('3C 273')\n",
    "ax.xaxis.set_tick_params(which='major', size=10, width=2, rotation=0,)\n",
    "handles, labels = ax.get_legend_handles_labels()\n",
    "# remove the errorbars\n",
    "#hdl = [h[0] for h in handles]\n",
    "hdl = handles\n",
    "labels_dict=dict(zip(labels, hdl)) #key,values\n",
    "#by_label=OrderedDict(sorted(labels_dict.items(),key=lambda t:t[0]))\n",
    "by_label = OrderedDict(zip(labels, handles))\n",
    "\n",
    "ax.legend(by_label.values(), by_label.keys(), bbox_to_anchor=(0.35, 0.19),\n",
    "          loc=2, numpoints=1,ncol=1,fontsize=11.)\n",
    "\n",
    "#ax.set_xlim(40,47)\n",
    "#ax.set_ylim(39,46)\n",
    "\n",
    "#plot_secax(ax,mi_interval=365,ma_interval=365*2,rotation=30)    \n",
    "set_ax_tick(ax)\n",
    "fig.tight_layout()\n",
    "plt.savefig('/Users/lyubing/IHEPBox/JetRM_plot/AGN_Hbeta_L5100_lag_3C273.png',dpi=400)\n"
   ]
  },
  {
   "cell_type": "code",
   "execution_count": null,
   "metadata": {},
   "outputs": [],
   "source": []
  },
  {
   "cell_type": "code",
   "execution_count": null,
   "metadata": {},
   "outputs": [],
   "source": []
  },
  {
   "cell_type": "code",
   "execution_count": null,
   "metadata": {},
   "outputs": [],
   "source": []
  },
  {
   "cell_type": "code",
   "execution_count": null,
   "metadata": {},
   "outputs": [],
   "source": []
  },
  {
   "cell_type": "code",
   "execution_count": null,
   "metadata": {},
   "outputs": [],
   "source": []
  },
  {
   "cell_type": "code",
   "execution_count": null,
   "metadata": {
    "ExecuteTime": {
     "end_time": "2022-10-06T13:35:34.600572Z",
     "start_time": "2022-10-06T13:35:33.104005Z"
    }
   },
   "outputs": [],
   "source": [
    "fig, ax = plt.subplots(1, 1,figsize=(8*1.5,6*1.5))\n",
    "\n",
    "'''for i in range(len(table_ATCA_3C273_5GHz)):\n",
    "    flux_and_err=table_ATCA_3C273_5GHz.loc[i,'Flux Density (Jy)']\n",
    "    flux=flux_and_err.split('±')[0]\n",
    "    err_flux=flux_and_err.split('±')[1]   \n",
    "    ax.errorbar(table_ATCA_3C273_5GHz.loc[i,'mjd'],float(flux),float(err_flux),\n",
    "              ls=':',marker='.',markersize=10,color='r',label='VLA 5GHz')\n",
    "'''\n",
    "\n",
    "ax.errorbar(time1s,Lum1s_Disk,#*1.2,\n",
    "            color='grey',ls='-.',\n",
    "            fmt='.',label='F5100_disk',zorder=1)\n",
    "\n",
    "\n",
    "ax.errorbar(t2_data-194.9,y2_data,#*1.2,\n",
    "            color='r',ls='-.',\n",
    "            fmt='.',label='FHbeta',zorder=0)    \n",
    "\n",
    "\n",
    "set_ax_tick(ax)\n",
    "set_ax_legend(ax)\n",
    "ax.set_title('3C 273')\n",
    "ax.set_xlabel(r'MJD(d)')\n",
    "ax.set_ylabel(r'Flux')\n",
    "\n",
    "\n",
    "\n",
    "plot_secax(ax,mi_interval=365,ma_interval=365*2,rotation=30)    \n",
    "fig.tight_layout()\n",
    "range_l,range_r=(54000,58500)\n",
    "ax.set_xlim(range_l,range_r)\n",
    "plt.savefig('/Users/lyubing/IHEPBox/JetRM_plot/3C273_plot/3C273_decomp_Ldisk_5100_LHbeta_%d_%d.png'%(range_l,range_r),dpi=400)\n"
   ]
  },
  {
   "cell_type": "code",
   "execution_count": null,
   "metadata": {},
   "outputs": [],
   "source": []
  },
  {
   "cell_type": "code",
   "execution_count": null,
   "metadata": {},
   "outputs": [],
   "source": []
  },
  {
   "cell_type": "code",
   "execution_count": null,
   "metadata": {},
   "outputs": [],
   "source": []
  },
  {
   "cell_type": "code",
   "execution_count": null,
   "metadata": {
    "ExecuteTime": {
     "end_time": "2022-10-06T13:38:50.958062Z",
     "start_time": "2022-10-06T13:38:50.946556Z"
    }
   },
   "outputs": [],
   "source": [
    "len(t2_data),len(y2_data),len(time1s),len(Lum1s_Disk)"
   ]
  },
  {
   "cell_type": "code",
   "execution_count": null,
   "metadata": {},
   "outputs": [],
   "source": []
  },
  {
   "cell_type": "code",
   "execution_count": null,
   "metadata": {},
   "outputs": [],
   "source": []
  },
  {
   "cell_type": "markdown",
   "metadata": {
    "ExecuteTime": {
     "end_time": "2022-10-06T13:25:45.103600Z",
     "start_time": "2022-10-06T13:25:45.042262Z"
    }
   },
   "source": [
    "for i,j,k,h in zip(time1s,Lum1s_Disk,t2_data,y2_data):\n",
    "    print(i,j,k,h)"
   ]
  },
  {
   "cell_type": "code",
   "execution_count": null,
   "metadata": {},
   "outputs": [],
   "source": []
  },
  {
   "cell_type": "code",
   "execution_count": null,
   "metadata": {
    "ExecuteTime": {
     "end_time": "2022-10-06T11:39:32.885228Z",
     "start_time": "2022-10-06T11:39:31.055114Z"
    }
   },
   "outputs": [],
   "source": [
    "fig, ax = plt.subplots(1, 1,figsize=(8*1.5,6*1.5))\n",
    "\n",
    "'''for i in range(len(table_ATCA_3C273_5GHz)):\n",
    "    flux_and_err=table_ATCA_3C273_5GHz.loc[i,'Flux Density (Jy)']\n",
    "    flux=flux_and_err.split('±')[0]\n",
    "    err_flux=flux_and_err.split('±')[1]   \n",
    "    ax.errorbar(table_ATCA_3C273_5GHz.loc[i,'mjd'],float(flux),float(err_flux),\n",
    "              ls=':',marker='.',markersize=10,color='r',label='VLA 5GHz')\n",
    "'''\n",
    "\n",
    "ax.errorbar(time1s,Lum1s,#*1.2,\n",
    "            color='grey',\n",
    "            fmt='.',label='F5100',zorder=1)\n",
    "\n",
    "for i in range(len(time1s)):\n",
    "    \n",
    "    ax.errorbar(time1s[i],Lum1s[i]* Lum2[i]/(Lum2[i]+Lum3[i]),#*1.2,\n",
    "            color='r',\n",
    "            fmt='.',label='F5100_disk',zorder=1)\n",
    "\n",
    "ax.errorbar(time1,Lum1,#*1.2,\n",
    "            color='grey',\n",
    "            fmt='.',label='F5100',zorder=0)    \n",
    "\n",
    "ax.errorbar(Disk3C273_decomp['mjd'],\n",
    "            Disk3C273_decomp['Diskflux_V']*10*5,\n",
    "            yerr=Disk3C273_decomp['err_Diskflux_V'],\n",
    "                            label='Disk_decomp')\n",
    "\n",
    "'''ax.errorbar(Jet3C273_decomp['mjd'],Jet3C273_decomp['Jetflux_V']*50,\n",
    "            yerr=Jet3C273_decomp['err_Jetflux_V'],label='Jet_decomp')\n",
    "'''\n",
    "\n",
    "set_ax_tick(ax)\n",
    "set_ax_legend(ax)\n",
    "ax.set_title('3C 273')\n",
    "ax.set_xlabel(r'MJD(d)')\n",
    "ax.set_ylabel(r'Flux')\n",
    "\n",
    "\n",
    "\n",
    "plot_secax(ax,mi_interval=365,ma_interval=365*2,rotation=30)    \n",
    "fig.tight_layout()\n",
    "range_l,range_r=(54000,58500)\n",
    "ax.set_xlim(range_l,range_r)\n",
    "plt.savefig('/Users/lyubing/IHEPBox/JetRM_plot/3C273_plot/3C273_decomp_Jet_disk_%d_%d.png'%(range_l,range_r),dpi=400)\n"
   ]
  },
  {
   "cell_type": "code",
   "execution_count": null,
   "metadata": {
    "ExecuteTime": {
     "end_time": "2022-10-06T10:48:44.636879Z",
     "start_time": "2022-10-06T10:48:44.622541Z"
    }
   },
   "outputs": [],
   "source": [
    "Disk3C273_decomp['mjd'],Jet3C273_decomp['mjd']"
   ]
  },
  {
   "cell_type": "code",
   "execution_count": null,
   "metadata": {},
   "outputs": [],
   "source": []
  },
  {
   "cell_type": "code",
   "execution_count": null,
   "metadata": {
    "ExecuteTime": {
     "end_time": "2022-10-06T03:03:57.312900Z",
     "start_time": "2022-10-06T03:03:57.301219Z"
    }
   },
   "outputs": [],
   "source": [
    "get_info(ovro_40m_3C273,label='mjd')"
   ]
  },
  {
   "cell_type": "code",
   "execution_count": null,
   "metadata": {
    "ExecuteTime": {
     "end_time": "2022-10-06T03:04:19.440036Z",
     "start_time": "2022-10-06T03:04:19.429552Z"
    }
   },
   "outputs": [],
   "source": [
    "get_info(mojave_15GHz_3c273,label='mjd')"
   ]
  },
  {
   "cell_type": "code",
   "execution_count": null,
   "metadata": {},
   "outputs": [],
   "source": []
  },
  {
   "cell_type": "code",
   "execution_count": null,
   "metadata": {
    "ExecuteTime": {
     "end_time": "2022-09-23T02:36:17.608282Z",
     "start_time": "2022-09-23T02:36:17.592205Z"
    }
   },
   "outputs": [],
   "source": [
    "time_l,time_r=(55000,58000)\n",
    "mask_time_jet=np.logical_and(Jet3C273_decomp['mjd']>time_l,Jet3C273_decomp['mjd']<time_r)\n",
    "Jet3C273_decomp_select=Jet3C273_decomp[mask_time_jet]\n",
    "\n",
    "mask_time_disk=np.logical_and(Disk3C273_decomp['mjd']>time_l,Disk3C273_decomp['mjd']<time_r)\n",
    "Disk3C273_decomp_select=Disk3C273_decomp[mask_time_disk]"
   ]
  },
  {
   "cell_type": "code",
   "execution_count": null,
   "metadata": {
    "ExecuteTime": {
     "end_time": "2022-09-23T02:36:23.605982Z",
     "start_time": "2022-09-23T02:36:23.593874Z"
    }
   },
   "outputs": [],
   "source": [
    "np.mean(Jet3C273_decomp_select['Jetflux_V']),np.mean(Disk3C273_decomp_select['Diskflux_V'])"
   ]
  },
  {
   "cell_type": "code",
   "execution_count": null,
   "metadata": {
    "ExecuteTime": {
     "end_time": "2022-09-23T02:36:47.003894Z",
     "start_time": "2022-09-23T02:36:46.994231Z"
    }
   },
   "outputs": [],
   "source": [
    "0.058/(0.058+0.236)"
   ]
  },
  {
   "cell_type": "code",
   "execution_count": null,
   "metadata": {
    "ExecuteTime": {
     "end_time": "2022-09-23T02:32:04.581643Z",
     "start_time": "2022-09-23T02:32:04.572940Z"
    }
   },
   "outputs": [],
   "source": [
    "0.071/(0.071+0.224)"
   ]
  },
  {
   "cell_type": "code",
   "execution_count": null,
   "metadata": {},
   "outputs": [],
   "source": []
  },
  {
   "cell_type": "code",
   "execution_count": null,
   "metadata": {},
   "outputs": [],
   "source": []
  },
  {
   "cell_type": "code",
   "execution_count": null,
   "metadata": {
    "ExecuteTime": {
     "end_time": "2022-08-05T06:11:47.446254Z",
     "start_time": "2022-08-05T06:11:47.427716Z"
    }
   },
   "outputs": [],
   "source": [
    "Disk3C273_decomp.columns"
   ]
  },
  {
   "cell_type": "code",
   "execution_count": null,
   "metadata": {
    "ExecuteTime": {
     "end_time": "2022-08-05T06:11:52.699525Z",
     "start_time": "2022-08-05T06:11:52.695083Z"
    }
   },
   "outputs": [],
   "source": [
    "Jet3C273_decomp.columns"
   ]
  },
  {
   "cell_type": "code",
   "execution_count": null,
   "metadata": {},
   "outputs": [],
   "source": []
  },
  {
   "cell_type": "code",
   "execution_count": null,
   "metadata": {},
   "outputs": [],
   "source": []
  },
  {
   "cell_type": "markdown",
   "metadata": {},
   "source": [
    "## plot LHbeta-L5100"
   ]
  },
  {
   "cell_type": "code",
   "execution_count": null,
   "metadata": {
    "ExecuteTime": {
     "end_time": "2022-10-28T07:12:45.712545Z",
     "start_time": "2022-10-28T07:12:45.701888Z"
    }
   },
   "outputs": [],
   "source": [
    "flux_label_3C273=data_3C273.colnames[1]\n",
    "e_flux_label_3C273=data_3C273.colnames[2]\n",
    "flux_label_1_3C273=data_3C273.colnames[3]\n",
    "e_flux_label_1_3C273=data_3C273.colnames[4]\n",
    "print(flux_label_3C273,e_flux_label_3C273)\n",
    "print(flux_label_1_3C273,e_flux_label_1_3C273)"
   ]
  },
  {
   "cell_type": "markdown",
   "metadata": {
    "ExecuteTime": {
     "end_time": "2022-10-27T13:35:08.989454Z",
     "start_time": "2022-10-27T13:35:08.970012Z"
    }
   },
   "source": [
    "pd_3C273_fitting_result_good"
   ]
  },
  {
   "cell_type": "code",
   "execution_count": null,
   "metadata": {
    "ExecuteTime": {
     "end_time": "2022-10-27T13:35:13.941052Z",
     "start_time": "2022-10-27T13:35:13.455862Z"
    }
   },
   "outputs": [],
   "source": [
    "fig, ax = plt.subplots(1, 1,figsize=(6,6))\n",
    "\n",
    "'''for i in range(len(Wu2004_LHbeta_L5100)):\n",
    "    flux_and_err=Wu2004_LHbeta_L5100.loc[i,Wu2004_LHbeta_L5100.columns[4]]\n",
    "    flux=flux_and_err.split('$\\pm$')[0]\n",
    "    err_flux=flux_and_err.split('$\\pm$')[1]   \n",
    "    \n",
    "    flux_and_err_Hbeta=Wu2004_LHbeta_L5100.loc[i,Wu2004_LHbeta_L5100.columns[5]]\n",
    "    flux_Hbeta=flux_and_err_Hbeta.split('$\\pm$')[0]\n",
    "    err_flux_Hbeta=flux_and_err_Hbeta.split('$\\pm$')[1]   \n",
    "    \n",
    "    ax.errorbar(x=np.log10(float(flux))+42,\n",
    "                #xerr=float(err_flux),\n",
    "                y=np.log10(float(flux_Hbeta))+42,\n",
    "                #yerr=float(err_flux_Hbeta),\n",
    "              ls=':',marker='.',markersize=10,color='grey',label='Wu2004')\n",
    "'''\n",
    "\n",
    "flux_label=data_3C273.colnames[1]\n",
    "e_flux_label=data_3C273.colnames[2]\n",
    "flux_label_1=data_3C273.colnames[3]\n",
    "e_flux_label_1=data_3C273.colnames[4]\n",
    "\n",
    "print(flux_label,e_flux_label)\n",
    "print(flux_label_1,e_flux_label_1)\n",
    "ax.errorbar(x=np.log10(data_3C273[flux_label]*flux_scale_5100_3C273*5100),\n",
    "            #xerr=np.log10(data_3C273[e_flux_label]*flux_scale*5100),\n",
    "            y=np.log10(data_3C273[flux_label_1]*flux_scale_Hbeta_3C273),\n",
    "            #yerr=np.log10(data_3C273[e_flux_label_1]*flux_scale*4861),\n",
    "            fmt='.',label='3C 273')\n",
    "\n",
    "ax.errorbar(x=pd_3C273_fitting_result_good['logL5100'],\n",
    "            #xerr=np.log10(data_3C273[e_flux_label]*flux_scale*5100),\n",
    "            y=np.log10(pd_3C273_fitting_result_good['LHebta']),\n",
    "            #yerr=np.log10(data_3C273[e_flux_label_1]*flux_scale*4861),\n",
    "            fmt='.',label='SO_fitting')\n",
    "\n",
    "\n",
    "\n",
    "slope=1.02747111\n",
    "offset=3.04154998\n",
    "\n",
    "L5100_linspace=np.linspace(45.6,46)    \n",
    "Lhbeta= L5100_linspace*slope-offset\n",
    "ax.plot(L5100_linspace,Lhbeta,label='Wu2004 logLHbeta=logL5100*%.3f -%.2f'%(slope,offset))\n",
    "\n",
    "\n",
    "slope=0.947\n",
    "offset=0.45\n",
    "Lhbeta= L5100_linspace*slope-offset\n",
    "ax.plot(L5100_linspace,Lhbeta,label='Rakshit2020 logLHbeta=logL5100*%.3f -%.2f'%(slope,offset))\n",
    "\n",
    "\n",
    "slope=1.057\n",
    "offset=4.41\n",
    "Lhbeta= L5100_linspace*slope-offset\n",
    "ax.plot(L5100_linspace,Lhbeta,label='Rakshit2020 logLHbeta=logL5100*%.3f -%.2f'%(slope,offset))\n",
    "\n",
    "\n",
    "    \n",
    "ax.set_xlabel(r'log$L_{5100\\AA} (\\mathrm{erg\\, s^{-1}})$')\n",
    "ax.set_ylabel(r'log$L_{H\\beta} (\\mathrm{erg\\, s^{-1}})$')\n",
    "\n",
    "\n",
    "#ax.semilogx()\n",
    "#ax.semilogy()\n",
    "ax.set_title('3C 273')\n",
    "ax.xaxis.set_tick_params(which='major', size=10, width=2, rotation=0,)\n",
    "handles, labels = ax.get_legend_handles_labels()\n",
    "# remove the errorbars\n",
    "#hdl = [h[0] for h in handles]\n",
    "hdl = handles\n",
    "labels_dict=dict(zip(labels, hdl)) #key,values\n",
    "by_label=OrderedDict(sorted(labels_dict.items(),key=lambda t:t[0]))\n",
    "#by_label = OrderedDict(zip(labels, handles))\n",
    "\n",
    "ax.legend(by_label.values(), by_label.keys(), bbox_to_anchor=(0.01, 0.99),\n",
    "          loc=2, numpoints=1,ncol=1,fontsize=11.)\n",
    "\n",
    "ax.set_xlim(45.5,46)\n",
    "ax.set_ylim(44.0-0.2,44.9-0.2)\n",
    "\n",
    "#plot_secax(ax,mi_interval=365,ma_interval=365*2,rotation=30)    \n",
    "set_ax_tick(ax)\n",
    "fig.tight_layout()\n",
    "plt.savefig('/Users/lyubing/IHEPBox/JetRM_plot/3C273_plot/3C273_Hbeta_L5100.png',dpi=400)\n"
   ]
  },
  {
   "cell_type": "markdown",
   "metadata": {},
   "source": [
    "## Monitoring_AGNs_Du"
   ]
  },
  {
   "cell_type": "code",
   "execution_count": null,
   "metadata": {
    "ExecuteTime": {
     "end_time": "2022-10-28T06:48:03.378953Z",
     "start_time": "2022-10-28T06:48:03.358236Z"
    }
   },
   "outputs": [],
   "source": [
    "Monitoring_AGNs_Du=pd.read_csv('/Users/lyubing/IHEPBox/data/Mrk6_lc_data/Mrk6.txt',delimiter='\\s+',header=None)\n",
    "Monitoring_AGNs_Du.columns=['Na','me','jd','F5100','e_F5100','FHb','e_FHb']\n",
    "Monitoring_AGNs_Du['Name']=Monitoring_AGNs_Du['Na']+Monitoring_AGNs_Du['me']"
   ]
  },
  {
   "cell_type": "code",
   "execution_count": null,
   "metadata": {
    "ExecuteTime": {
     "end_time": "2022-10-28T07:00:54.172372Z",
     "start_time": "2022-10-28T07:00:54.158287Z"
    }
   },
   "outputs": [],
   "source": [
    "D_cm_3C120= cosmo.luminosity_distance(0.033).to(u.cm)\n",
    "flux_scale_5100_3C120=4*np.pi*(D_cm_3C120.value)**2*1.0e-15 # erg s^-1 A^-1\n",
    "flux_scale_Hbeta_3C120=4*np.pi*(D_cm_3C120.value)**2*1.0e-13 # erg s^-1\n",
    "print(D_cm_3C120.value)\n",
    "\n",
    "\n",
    "D_cm_Mrk6= cosmo.luminosity_distance(0.0188).to(u.cm)\n",
    "flux_scale_5100_Mrk6=4*np.pi*(D_cm_Mrk6.value)**2*1.0e-15 # erg s^-1 A^-1\n",
    "flux_scale_Hbeta_Mrk6=4*np.pi*(D_cm_Mrk6.value)**2*1.0e-13 # erg s^-1\n",
    "print(D_cm_Mrk6.value)"
   ]
  },
  {
   "cell_type": "code",
   "execution_count": null,
   "metadata": {},
   "outputs": [],
   "source": []
  },
  {
   "cell_type": "code",
   "execution_count": null,
   "metadata": {
    "ExecuteTime": {
     "end_time": "2022-10-28T06:55:18.576918Z",
     "start_time": "2022-10-28T06:55:18.563438Z"
    }
   },
   "outputs": [],
   "source": [
    "Monitoring_AGNs_Du_info=Table.read('/Users/lyubing/IHEPBox/data/data_emissionline_RM_lag/Monitoring AGNs with H{beta} Asymmetry. I/J_ApJ_869_142/table1.dat',\n",
    "                                  readme='/Users/lyubing/IHEPBox/data/data_emissionline_RM_lag/Monitoring AGNs with H{beta} Asymmetry. I/J_ApJ_869_142/ReadMe',\n",
    "                                  format=\"ascii.cds\")"
   ]
  },
  {
   "cell_type": "code",
   "execution_count": null,
   "metadata": {
    "ExecuteTime": {
     "end_time": "2022-10-28T06:55:23.469305Z",
     "start_time": "2022-10-28T06:55:23.455520Z"
    }
   },
   "outputs": [],
   "source": [
    "Monitoring_AGNs_Du_info"
   ]
  },
  {
   "cell_type": "code",
   "execution_count": null,
   "metadata": {
    "ExecuteTime": {
     "end_time": "2022-10-28T06:51:13.708993Z",
     "start_time": "2022-10-28T06:51:13.700336Z"
    }
   },
   "outputs": [],
   "source": [
    "Monitoring_AGNs_Du.columns"
   ]
  },
  {
   "cell_type": "code",
   "execution_count": null,
   "metadata": {
    "ExecuteTime": {
     "end_time": "2022-10-28T06:48:29.119030Z",
     "start_time": "2022-10-28T06:48:29.109890Z"
    }
   },
   "outputs": [],
   "source": [
    "Monitoring_AGNs_Du_name=[]\n",
    "for i in Monitoring_AGNs_Du['Name']:\n",
    "    if i not in Monitoring_AGNs_Du_name:\n",
    "        Monitoring_AGNs_Du_name.append(i)"
   ]
  },
  {
   "cell_type": "code",
   "execution_count": null,
   "metadata": {
    "ExecuteTime": {
     "end_time": "2022-10-28T06:48:33.367680Z",
     "start_time": "2022-10-28T06:48:33.358107Z"
    }
   },
   "outputs": [],
   "source": [
    "Monitoring_AGNs_Du_name"
   ]
  },
  {
   "cell_type": "code",
   "execution_count": null,
   "metadata": {
    "ExecuteTime": {
     "end_time": "2022-10-28T06:50:12.335499Z",
     "start_time": "2022-10-28T06:50:12.308066Z"
    }
   },
   "outputs": [],
   "source": [
    "Mrk6_Monitoring_AGNs_Du=Monitoring_AGNs_Du[Monitoring_AGNs_Du['Name']=='Mrk6']\n",
    "Mrk6_Monitoring_AGNs_Du['mjd']=Mrk6_Monitoring_AGNs_Du['jd']+2457700-2400000.5\n",
    "Mrk6_Monitoring_AGNs_Du=drop_index(Mrk6_Monitoring_AGNs_Du)"
   ]
  },
  {
   "cell_type": "code",
   "execution_count": null,
   "metadata": {
    "ExecuteTime": {
     "end_time": "2022-10-28T06:50:09.912902Z",
     "start_time": "2022-10-28T06:50:09.871889Z"
    }
   },
   "outputs": [],
   "source": [
    "p3C120_Monitoring_AGNs_Du=Monitoring_AGNs_Du[Monitoring_AGNs_Du['Name']=='3C120']\n",
    "p3C120_Monitoring_AGNs_Du['mjd']=p3C120_Monitoring_AGNs_Du['jd']+2457700-2400000.5\n",
    "p3C120_Monitoring_AGNs_Du=drop_index(p3C120_Monitoring_AGNs_Du)"
   ]
  },
  {
   "cell_type": "markdown",
   "metadata": {
    "ExecuteTime": {
     "end_time": "2022-10-28T06:50:18.041198Z",
     "start_time": "2022-10-28T06:50:18.018481Z"
    }
   },
   "source": [
    "Ark120_Monitoring_AGNs_Du=Monitoring_AGNs_Du[Monitoring_AGNs_Du['Name']=='Ark120']\n",
    "Ark120_Monitoring_AGNs_Du['mjd']=Ark120_Monitoring_AGNs_Du['jd']+2457700-2400000.5\n",
    "Ark120_Monitoring_AGNs_Du=drop_index(Ark120_Monitoring_AGNs_Du)"
   ]
  },
  {
   "cell_type": "markdown",
   "metadata": {
    "ExecuteTime": {
     "end_time": "2022-10-28T06:50:49.308871Z",
     "start_time": "2022-10-28T06:50:49.287970Z"
    }
   },
   "source": [
    "SBS1518p593_Monitoring_AGNs_Du=Monitoring_AGNs_Du[Monitoring_AGNs_Du['Name']=='SBS1518+593']\n",
    "SBS1518p593_Monitoring_AGNs_Du['mjd']=SBS1518p593_Monitoring_AGNs_Du['jd']+2457700-2400000.5\n",
    "SBS1518p593_Monitoring_AGNs_Du=drop_index(SBS1518p593_Monitoring_AGNs_Du)"
   ]
  },
  {
   "cell_type": "code",
   "execution_count": null,
   "metadata": {},
   "outputs": [],
   "source": []
  },
  {
   "cell_type": "markdown",
   "metadata": {},
   "source": [
    "### plot allRM"
   ]
  },
  {
   "cell_type": "code",
   "execution_count": null,
   "metadata": {
    "ExecuteTime": {
     "end_time": "2022-10-28T07:18:24.145764Z",
     "start_time": "2022-10-28T07:18:23.454165Z"
    }
   },
   "outputs": [],
   "source": [
    "fig, ax = plt.subplots(1, 1,figsize=(8,8))\n",
    "\n",
    "for i in range(len(Wu2004_LHbeta_L5100)):\n",
    "    flux_and_err=Wu2004_LHbeta_L5100.loc[i,Wu2004_LHbeta_L5100.columns[4]]\n",
    "    flux=flux_and_err.split('$\\pm$')[0]\n",
    "    err_flux=flux_and_err.split('$\\pm$')[1]   \n",
    "    \n",
    "    flux_and_err_Hbeta=Wu2004_LHbeta_L5100.loc[i,Wu2004_LHbeta_L5100.columns[5]]\n",
    "    flux_Hbeta=flux_and_err_Hbeta.split('$\\pm$')[0]\n",
    "    err_flux_Hbeta=flux_and_err_Hbeta.split('$\\pm$')[1]   \n",
    "    \n",
    "    ax.errorbar(x=np.log10(float(flux))+42,\n",
    "                #xerr=float(err_flux),\n",
    "                y=np.log10(float(flux_Hbeta))+42,\n",
    "                #yerr=float(err_flux_Hbeta),\n",
    "              ls=':',marker='.',markersize=10,color='grey',label='Wu2004')\n",
    "\n",
    "\n",
    "ax.errorbar(x=np.log10(data_3C273[flux_label_1_3C273]*flux_scale_5100_3C273*5100),\n",
    "            #xerr=np.log10(data_3C273[e_flux_label]*flux_scale*5100),\n",
    "            y=np.log10(data_3C273[flux_label_1_3C273]*flux_scale_Hbeta_3C273),\n",
    "            #yerr=np.log10(data_3C273[e_flux_label_1]*flux_scale*4861),\n",
    "            fmt='.',label='3C 273 zhang2019')\n",
    "\n",
    "ax.errorbar(x=pd_3C273_fitting_result_good['logL5100'],\n",
    "            #xerr=np.log10(data_3C273[e_flux_label]*flux_scale*5100),\n",
    "            y=np.log10(pd_3C273_fitting_result_good['LHebta']),\n",
    "            #yerr=np.log10(data_3C273[e_flux_label_1]*flux_scale*4861),\n",
    "            fmt='+',label='3C 273 SO_fitting')\n",
    "\n",
    "\n",
    "ax.errorbar(x= np.log10(Mrk6_Monitoring_AGNs_Du['F5100']*flux_scale_5100_Mrk6*5100),\n",
    "            #xerr=np.log10(data_3C273[e_flux_label]*flux_scale*5100),\n",
    "            y=np.log10(Mrk6_Monitoring_AGNs_Du['FHb']*flux_scale_Hbeta_Mrk6),\n",
    "            #yerr=np.log10(data_3C273[e_flux_label_1]*flux_scale*4861),\n",
    "            fmt='.',label='Mrk6')\n",
    "\n",
    "ax.errorbar(x= np.log10(p3C120_Monitoring_AGNs_Du['F5100']*flux_scale_5100_3C120*5100),\n",
    "            #xerr=np.log10(data_3C273[e_flux_label]*flux_scale*5100),\n",
    "            y=np.log10(p3C120_Monitoring_AGNs_Du['FHb']*flux_scale_Hbeta_3C120),\n",
    "            #yerr=np.log10(data_3C273[e_flux_label_1]*flux_scale*4861),\n",
    "            fmt='.',label='3C120')\n",
    "\n",
    "\n",
    "#dataplot=RMdata_PKS0736#_select\n",
    "dataplot=RMdata_PKS0736\n",
    "ax.errorbar(x=np.log10(dataplot[flux_label_PKS0736]*flux_scale_5100_PKS0736*5100),\n",
    "            #xerr=np.log10(RMdata_PKS0736[e_flux_label]*flux_scale*5100),\n",
    "            y=np.log10(dataplot[flux_label_1_PKS0736]*flux_scale_Hbeta_PKS0736),\n",
    "            #yerr=np.log10(RMdata_PKS0736[e_flux_label_1]*flux_scale*4861),\n",
    "            fmt='^',label='PKS 0736+017')\n",
    "\n",
    "dataplot=data_PKS1510#_select\n",
    "ax.errorbar(x=np.log10(dataplot[flux_label_PKS1510]*flux_scale_5100_PKS1510*5100),\n",
    "            #xerr=np.log10(data_PKS1510[e_flux_label]*flux_scale*5100),\n",
    "            y=np.log10(dataplot[flux_label_1_PKS1510]*flux_scale_Hbeta_PKS1510),\n",
    "            #yerr=np.log10(data_PKS1510[e_flux_label_1]*flux_scale*4861),\n",
    "            fmt='v',label='PKS 1510-089')\n",
    "\n",
    "slope=1.02747111\n",
    "offset=3.04154998\n",
    "L5100_linspace=np.linspace(41,46)    \n",
    "Lhbeta= L5100_linspace*slope-offset\n",
    "ax.plot(L5100_linspace,Lhbeta,label='logLHbeta=logL5100*%.3f -%.2f'%(slope,offset),color='grey')\n",
    "\n",
    "'''slope=0.947\n",
    "offset=0.45\n",
    "Lhbeta= L5100_linspace*slope-offset\n",
    "ax.plot(L5100_linspace,Lhbeta,label='Rakshit2020 logLHbeta=logL5100*%.3f -%.2f'%(slope,offset))\n",
    "''' \n",
    "\n",
    "slope=1.057\n",
    "offset=4.41\n",
    "Lhbeta= L5100_linspace*slope-offset\n",
    "ax.plot(L5100_linspace,Lhbeta,label='Rakshit2020 logLHbeta=logL5100*%.3f -%.2f'%(slope,offset))\n",
    "\n",
    "\n",
    "ax.set_xlabel(r'log$L_{5100\\AA} (\\mathrm{erg\\, s^{-1}})$')\n",
    "ax.set_ylabel(r'log$L_{H\\beta} (\\mathrm{erg\\, s^{-1}})$')\n",
    "\n",
    "\n",
    "#ax.semilogx()\n",
    "#ax.semilogy()\n",
    "#ax.set_title('3C 273')\n",
    "ax.xaxis.set_tick_params(which='major', size=10, width=2, rotation=0,)\n",
    "handles, labels = ax.get_legend_handles_labels()\n",
    "# remove the errorbars\n",
    "#hdl = [h[0] for h in handles]\n",
    "hdl = handles\n",
    "labels_dict=dict(zip(labels, hdl)) #key,values\n",
    "#by_label=OrderedDict(sorted(labels_dict.items(),key=lambda t:t[0]))\n",
    "by_label = OrderedDict(zip(labels, handles))\n",
    "\n",
    "\n",
    "set_ax_legend(ax,bbox_to_anchor=(0.05, 0.95))\n",
    "#ax.set_xlim(40,47)\n",
    "#ax.set_ylim(39,46)\n",
    "\n",
    "#plot_secax(ax,mi_interval=365,ma_interval=365*2,rotation=30)    \n",
    "set_ax_tick(ax)\n",
    "fig.tight_layout()\n",
    "plt.savefig('/Users/lyubing/IHEPBox/JetRM_plot/AGN_Hbeta_L5100.png',dpi=400)"
   ]
  },
  {
   "cell_type": "code",
   "execution_count": null,
   "metadata": {},
   "outputs": [],
   "source": []
  },
  {
   "cell_type": "code",
   "execution_count": null,
   "metadata": {},
   "outputs": [],
   "source": []
  },
  {
   "cell_type": "code",
   "execution_count": null,
   "metadata": {
    "ExecuteTime": {
     "end_time": "2022-07-20T13:05:44.027942Z",
     "start_time": "2022-07-20T13:05:44.022277Z"
    }
   },
   "outputs": [],
   "source": []
  },
  {
   "cell_type": "code",
   "execution_count": null,
   "metadata": {
    "ExecuteTime": {
     "end_time": "2022-07-20T13:57:41.511596Z",
     "start_time": "2022-07-20T13:57:37.610826Z"
    }
   },
   "outputs": [],
   "source": [
    "fig, ax = plt.subplots(1, 1,figsize=(8,6))\n",
    "\n",
    "for i in range(4):\n",
    "    flux_label=data_3C273.colnames[i*2+1]\n",
    "    e_flux_label=data_3C273.colnames[i*2+2]\n",
    "    \n",
    "    ax.errorbar(data_3C273['mjd'],data_3C273[flux_label],data_3C273[e_flux_label],\n",
    "                 fmt='.',label=flux_label)\n",
    "\n",
    "ax.errorbar(mojave_15GHz_3c273['mjd'],mojave_15GHz_3c273['flux'],\n",
    "            fmt='.',label='VLBA_15GHz')\n",
    "\n",
    "ax.errorbar(ovro_40m_3C273['mjd'],ovro_40m_3C273['flux'],ovro_40m_3C273['flux err'],\n",
    "            fmt='.',label='OVRO_15GHz')\n",
    "    \n",
    "    \n",
    "ax.set_xlim(54000,58500)\n",
    "\n",
    "    \n",
    "ax.set_xlabel(r'MJD(d)')\n",
    "ax.set_ylabel(r'Flux')\n",
    "\n",
    "ax.xaxis.set_tick_params(which='major', size=10, width=2, rotation=0,)\n",
    "handles, labels = ax.get_legend_handles_labels()\n",
    "# remove the errorbars\n",
    "#hdl = [h[0] for h in handles]\n",
    "hdl = handles\n",
    "labels_dict=dict(zip(labels, hdl)) #key,values\n",
    "by_label=OrderedDict(sorted(labels_dict.items(),key=lambda t:t[0]))\n",
    "#by_label = OrderedDict(zip(labels, handles))\n",
    "\n",
    "ax.legend(by_label.values(), by_label.keys(), bbox_to_anchor=(0.99, 0.99),\n",
    "          loc=2, numpoints=1,ncol=1,fontsize=11.)\n",
    "\n",
    "plot_secax(ax,mi_interval=365,ma_interval=365*2,rotation=30)    \n",
    "set_ax_tick(ax)\n",
    "fig.tight_layout()\n",
    "plt.savefig('/Users/lyubing/IHEPBox/JetRM_plot/zhang_line_lc_origin.png',dpi=400)\n"
   ]
  },
  {
   "cell_type": "code",
   "execution_count": null,
   "metadata": {},
   "outputs": [],
   "source": []
  },
  {
   "cell_type": "code",
   "execution_count": null,
   "metadata": {
    "ExecuteTime": {
     "end_time": "2022-07-20T14:19:34.426810Z",
     "start_time": "2022-07-20T14:19:32.586968Z"
    }
   },
   "outputs": [],
   "source": [
    "x=data_3C273['mjd']\n",
    "y=data_3C273['F5100']\n",
    "yunc=np.ones(len(x))\n",
    "\n",
    "fit = fitting.LinearLSQFitter()\n",
    "\n",
    "# initialize the outlier removal fitter\n",
    "or_fit = fitting.FittingWithOutlierRemoval(fit, sigma_clip, niter=3, sigma=3.0)\n",
    "\n",
    "# initialize a linear model\n",
    "line_init = models.Linear1D()\n",
    "\n",
    "# fit the data with the fitter\n",
    "fitted_line, mask = or_fit(line_init, x, y, weights=1.0/yunc)\n",
    "filtered_data = np.ma.masked_array(y, mask=mask)\n",
    "\n",
    "# plot\n",
    "fig, ax = plt.subplots(1, 1,figsize=(8,6))\n",
    "ax.errorbar(x, y, yerr=yunc, fmt=\"ko\", fillstyle=\"none\", label=\"Clipped Data\")\n",
    "ax.errorbar(x, filtered_data, fmt=\"ko\", label=\"Fitted Data\")\n",
    "#plt.plot(x, line_orig(x), 'b-', label='Simulation Model')\n",
    "ax.plot(x, fitted_line(x), 'k-', label='Fitted Model')\n",
    "#plt.xlim(-2,12)\n",
    "#plt.ylim(-5,25)\n",
    "\n",
    "plot_secax(ax,mi_interval=365,ma_interval=365*2,rotation=30)    \n",
    "set_ax_tick(ax)\n",
    "\n",
    "plt.xlabel('MJD')\n",
    "plt.ylabel('F5100')\n",
    "plt.legend()\n",
    "plt.show()"
   ]
  },
  {
   "cell_type": "markdown",
   "metadata": {},
   "source": [
    "## OVRO"
   ]
  },
  {
   "cell_type": "code",
   "execution_count": null,
   "metadata": {
    "ExecuteTime": {
     "end_time": "2022-10-13T07:24:25.365719Z",
     "start_time": "2022-10-13T07:24:25.342784Z"
    }
   },
   "outputs": [],
   "source": [
    "data_3C273_dir_mojave"
   ]
  },
  {
   "cell_type": "code",
   "execution_count": null,
   "metadata": {
    "ExecuteTime": {
     "end_time": "2022-10-20T15:12:00.079043Z",
     "start_time": "2022-10-20T15:12:00.063189Z"
    }
   },
   "outputs": [],
   "source": [
    "ovro_40m_3C273=pd.read_csv('%s/J1229+0203_OVRO_40m.csv'%data_3C273_dir_mojave)"
   ]
  },
  {
   "cell_type": "code",
   "execution_count": null,
   "metadata": {
    "ExecuteTime": {
     "end_time": "2022-10-21T05:43:00.376880Z",
     "start_time": "2022-10-21T05:43:00.368292Z"
    }
   },
   "outputs": [],
   "source": [
    "ovro_40m_3C273.columns"
   ]
  },
  {
   "cell_type": "code",
   "execution_count": null,
   "metadata": {
    "ExecuteTime": {
     "end_time": "2022-10-20T15:12:12.159699Z",
     "start_time": "2022-10-20T15:12:12.151274Z"
    }
   },
   "outputs": [],
   "source": [
    "min_3C273,max_3C273,mean_3C273=get_info(ovro_40m_3C273,'flux')\n",
    "for i in [min_3C273,max_3C273,mean_3C273]:\n",
    "    Li=4*np.pi*D_cm_3C273.value**2*15e9*1e-23*i#erg/s\n",
    "    print(Li)"
   ]
  },
  {
   "cell_type": "code",
   "execution_count": null,
   "metadata": {
    "ExecuteTime": {
     "end_time": "2022-10-21T05:42:41.659781Z",
     "start_time": "2022-10-21T05:42:41.652367Z"
    }
   },
   "outputs": [],
   "source": [
    "ovro_40m_3C273.columns"
   ]
  },
  {
   "cell_type": "code",
   "execution_count": null,
   "metadata": {
    "ExecuteTime": {
     "end_time": "2022-10-13T13:33:14.340171Z",
     "start_time": "2022-10-13T13:33:14.330066Z"
    }
   },
   "outputs": [],
   "source": [
    "len(ovro_40m_3C273)"
   ]
  },
  {
   "cell_type": "code",
   "execution_count": null,
   "metadata": {
    "ExecuteTime": {
     "end_time": "2022-10-13T13:34:32.751872Z",
     "start_time": "2022-10-13T13:34:32.741380Z"
    }
   },
   "outputs": [],
   "source": [
    "(max(ovro_40m_3C273['mjd'])-min(ovro_40m_3C273['mjd']))/760"
   ]
  },
  {
   "cell_type": "code",
   "execution_count": null,
   "metadata": {
    "ExecuteTime": {
     "end_time": "2022-10-13T13:31:35.398856Z",
     "start_time": "2022-10-13T13:31:35.386201Z"
    }
   },
   "outputs": [],
   "source": [
    "min(ovro_40m_3C273['flux']),max(ovro_40m_3C273['flux'])"
   ]
  },
  {
   "cell_type": "markdown",
   "metadata": {},
   "source": [
    "## mojave_15GHz"
   ]
  },
  {
   "cell_type": "code",
   "execution_count": null,
   "metadata": {
    "ExecuteTime": {
     "end_time": "2022-10-20T15:12:36.163779Z",
     "start_time": "2022-10-20T15:12:36.090237Z"
    }
   },
   "outputs": [],
   "source": [
    "mojave_15GHz_3c273=pd.read_excel('%s/VLBA_3c273.xlsx'%data_3C273_dir_mojave,sheet_name='Sheet2')\n",
    "mojave_15GHz_3c273=mojave_15GHz_3c273[mojave_15GHz_3c273['VLBA I'].notnull()]\n",
    "mojave_15GHz_3c273=mojave_15GHz_3c273[mojave_15GHz_3c273['VLBA Code'].notnull()]\n",
    "\n",
    "mojave_15GHz_3c273.columns=['Epoch', 'VLBA Code', 'VLBA I', 'VLBA P', 'VLBA percentage', 'VLBA degree',\n",
    "                           'I Image (Nat. Weight)', 'Tapered I Image',\n",
    "                           'Tapered I Image (Widefield)', 'Visibility', \n",
    "                            'Stokes I Radplot', 'Pol.','note']\n",
    "\n",
    "\n",
    "mojave_15GHz_3c273['mjd']=convert_mjd(mojave_15GHz_3c273['Epoch'])\n",
    "mojave_15GHz_3c273['flux']=mojave_15GHz_3c273['VLBA I']/1000\n",
    "mojave_15GHz_3c273['err']=0"
   ]
  },
  {
   "cell_type": "code",
   "execution_count": null,
   "metadata": {
    "ExecuteTime": {
     "end_time": "2022-08-04T13:15:13.771535Z",
     "start_time": "2022-08-04T13:15:13.513899Z"
    }
   },
   "outputs": [],
   "source": [
    "mojave_15GHz_3c273"
   ]
  },
  {
   "cell_type": "code",
   "execution_count": null,
   "metadata": {
    "ExecuteTime": {
     "end_time": "2022-08-04T13:15:17.429108Z",
     "start_time": "2022-08-04T13:15:17.406877Z"
    }
   },
   "outputs": [],
   "source": [
    "mojave_15GHz_3c273[['mjd','flux','err']]"
   ]
  },
  {
   "cell_type": "code",
   "execution_count": null,
   "metadata": {
    "ExecuteTime": {
     "end_time": "2022-10-13T07:24:57.638313Z",
     "start_time": "2022-10-13T07:24:57.629453Z"
    }
   },
   "outputs": [],
   "source": [
    "lag_data_dir"
   ]
  },
  {
   "cell_type": "markdown",
   "metadata": {},
   "source": [
    "## SMARTS_3C273"
   ]
  },
  {
   "cell_type": "code",
   "execution_count": null,
   "metadata": {
    "ExecuteTime": {
     "end_time": "2022-10-20T15:12:43.468724Z",
     "start_time": "2022-10-20T15:12:43.413864Z"
    }
   },
   "outputs": [],
   "source": [
    "SMARTS_3C273=Table.read('%s/3C273.tab.txt'%lagdata_dir_3C273,format='ascii')\n",
    "\n",
    "\n",
    "SMARTS_3C273B=SMARTS_3C273[['col1','col3','col4']]\n",
    "SMARTS_3C273B=SMARTS_3C273B[SMARTS_3C273B['col3']!=999.0]\n",
    "SMARTS_3C273B['mjd']=SMARTS_3C273B['col1']-2400000.5\n",
    "#SMARTS_3C273B=drop_index(SMARTS_3C273B)\n",
    "\n",
    "SMARTS_3C273V=SMARTS_3C273[['col5','col6','col7']]\n",
    "SMARTS_3C273V=SMARTS_3C273V[SMARTS_3C273V['col6']!=999.0]\n",
    "SMARTS_3C273V['mjd']=SMARTS_3C273V['col5']-2400000.5\n",
    "#SMARTS_3C273V=drop_index(SMARTS_3C273V)\n",
    "\n",
    "SMARTS_3C273R=SMARTS_3C273[['col8','col9','col10']]\n",
    "SMARTS_3C273R=SMARTS_3C273R[SMARTS_3C273R['col9']!=999.0]\n",
    "SMARTS_3C273R['mjd']=SMARTS_3C273R['col8']-2400000.5\n",
    "\n",
    "SMARTS_3C273J=SMARTS_3C273[['col11','col12','col13']]\n",
    "SMARTS_3C273J=SMARTS_3C273J[SMARTS_3C273J['col12']!=999.0]\n",
    "SMARTS_3C273J['mjd']=SMARTS_3C273J['col11']-2400000.5\n",
    "#SMARTS_3C273J=drop_index(SMARTS_3C273J)\n",
    "\n",
    "SMARTS_3C273K=SMARTS_3C273[['col14','col15','col16']]\n",
    "SMARTS_3C273K=SMARTS_3C273K[SMARTS_3C273K['col15']!=999.0]\n",
    "SMARTS_3C273K['mjd']=SMARTS_3C273K['col14']-2400000.5\n",
    "#SMARTS_3C273K=drop_index(SMARTS_3C273K)\n",
    "\n",
    "SMARTS_3C273_all_label=['B','V','R','J','K']\n",
    "SMARTS_3C273_all=[SMARTS_3C273B,SMARTS_3C273V,SMARTS_3C273R,SMARTS_3C273J,SMARTS_3C273K]"
   ]
  },
  {
   "cell_type": "code",
   "execution_count": null,
   "metadata": {
    "ExecuteTime": {
     "end_time": "2022-10-20T15:12:45.205692Z",
     "start_time": "2022-10-20T15:12:45.200687Z"
    }
   },
   "outputs": [],
   "source": [
    "for i in SMARTS_3C273_all:\n",
    "    print(len(i))"
   ]
  },
  {
   "cell_type": "markdown",
   "metadata": {},
   "source": [
    "### plot_SMART_lc"
   ]
  },
  {
   "cell_type": "code",
   "execution_count": null,
   "metadata": {
    "ExecuteTime": {
     "end_time": "2022-10-20T15:12:54.458213Z",
     "start_time": "2022-10-20T15:12:54.446467Z"
    }
   },
   "outputs": [],
   "source": [
    "get_info(SMARTS_3C273V,'mjd')"
   ]
  },
  {
   "cell_type": "code",
   "execution_count": null,
   "metadata": {
    "ExecuteTime": {
     "end_time": "2022-10-13T08:06:02.442549Z",
     "start_time": "2022-10-13T08:06:00.328937Z"
    }
   },
   "outputs": [],
   "source": [
    "figure_n= 5\n",
    "fig = plt.figure(figsize=(12,figure_n*3))\n",
    "fig.subplots_adjust(hspace=0.0, wspace = 0.0)\n",
    "\n",
    "plot_i=1\n",
    "for i in range(5):\n",
    "    data1=SMARTS_3C273_all[i]\n",
    "    label1=SMARTS_3C273_all_label[i]\n",
    "    time1=data1['mjd']\n",
    "    Lum1=data1[data1.colnames[1]]\n",
    "\n",
    "    if plot_i==1:\n",
    "        ax = fig.add_subplot(figure_n,1,plot_i)\n",
    "        ax.errorbar(time1,Lum1,\n",
    "           ls=':',marker='.',color='r',markersize=10,label='%s'%(label1))\n",
    "        set_ax_legend(ax)\n",
    "        set_ax_tick(ax)\n",
    "        set_mag_ylim(ax)\n",
    "        plot_i=plot_i+1\n",
    "\n",
    "\n",
    "    else:\n",
    "        ax1 = fig.add_subplot(figure_n,1,plot_i,sharex=ax)\n",
    "        ax1.errorbar(time1,Lum1,\n",
    "           ls=':',marker='.',color='r',markersize=10,label='%s'%(label1))\n",
    "        set_ax_legend(ax1)\n",
    "        set_ax_tick(ax1)\n",
    "        set_mag_ylim(ax1)\n",
    "        plot_i=plot_i+1\n",
    "\n",
    "range_l,range_r=(54500+1,57900-1)\n",
    "#range_l,range_r=(55900+1,56100-1)\n",
    "ax.set_xlim(range_l,range_r)\n",
    "plot_secax(ax,mi_interval=365,ma_interval=365*2,rotation=30)\n",
    "\n",
    "save_lc_img_path='/Users/lyubing/IHEPBox/JetRM_plot/3C273_plot/3C273_SMARTS_lc_%d_%d.png'%(range_l,range_r)\n",
    "plt.savefig(save_lc_img_path,dpi=400, transparent=False, bbox_inches='tight')\n",
    "#plt.close()"
   ]
  },
  {
   "cell_type": "code",
   "execution_count": null,
   "metadata": {},
   "outputs": [],
   "source": []
  },
  {
   "cell_type": "markdown",
   "metadata": {},
   "source": [
    "### plot_color_lc"
   ]
  },
  {
   "cell_type": "code",
   "execution_count": null,
   "metadata": {
    "ExecuteTime": {
     "end_time": "2022-10-13T08:07:43.123359Z",
     "start_time": "2022-10-13T08:07:39.869343Z"
    }
   },
   "outputs": [],
   "source": [
    "figure_n= 10\n",
    "fig = plt.figure(figsize=(12,figure_n*3))\n",
    "fig.subplots_adjust(hspace=0.0, wspace = 0.0)\n",
    "\n",
    "plot_i=1\n",
    "for i in range(5):\n",
    "    for j in range(5):\n",
    "        if i<j:\n",
    "            index_pair=[i,j]\n",
    "\n",
    "            data1=SMARTS_3C273_all[index_pair[0]]\n",
    "            \n",
    "            label1=SMARTS_3C273_all_label[index_pair[0]]\n",
    "            time1=data1['mjd']\n",
    "            Lum1=data1[data1.colnames[1]]\n",
    "\n",
    "            data2=SMARTS_3C273_all[index_pair[1]]\n",
    "            label2=SMARTS_3C273_all_label[index_pair[1]]\n",
    "            time2=data2['mjd']\n",
    "            Lum2=data2[data2.colnames[1]]\n",
    "\n",
    "            time1s,Lum1s,time2s,Lum2s = get_quasi_sim_lum_correlation(time1,Lum1,time2,Lum2,timebin=1.0)\n",
    "\n",
    "            if plot_i==1:\n",
    "                ax = fig.add_subplot(figure_n,1,plot_i)\n",
    "            \n",
    "                ax.errorbar(time1s,Lum1s-Lum2s,\n",
    "                   ls=':',marker='.',color='r',markersize=10,label='%s-%s'%(label1,label2))\n",
    "                set_ax_legend(ax)\n",
    "                set_ax_tick(ax)\n",
    "                #set_mag_ylim(ax)\n",
    "                plot_i=plot_i+1\n",
    "                \n",
    "\n",
    "            else:\n",
    "                ax1 = fig.add_subplot(figure_n,1,plot_i,sharex=ax)\n",
    "                ax1.errorbar(time1s,Lum1s-Lum2s,\n",
    "                   ls=':',marker='.',color='r',markersize=10,label='%s-%s'%(label1,label2))\n",
    "                set_ax_legend(ax1)\n",
    "                set_ax_tick(ax1)\n",
    "                #set_mag_ylim(ax1)\n",
    "                plot_i=plot_i+1\n",
    "                \n",
    "\n",
    "            \n",
    "\n",
    "range_l,range_r=(54500+1,57900-1)\n",
    "#range_l,range_r=(55900+1,56100-1)\n",
    "ax.set_xlim(range_l,range_r)\n",
    "plot_secax(ax,mi_interval=365,ma_interval=365*2,rotation=30)\n",
    "\n",
    "save_lc_img_path='/Users/lyubing/IHEPBox/JetRM_plot/3C273_plot/3C273_SMARTS_color_%d_%d.png'%(range_l,range_r)\n",
    "plt.savefig(save_lc_img_path,dpi=400, transparent=False, bbox_inches='tight')\n",
    "#plt.close()"
   ]
  },
  {
   "cell_type": "markdown",
   "metadata": {},
   "source": [
    "### color_Mag"
   ]
  },
  {
   "cell_type": "code",
   "execution_count": null,
   "metadata": {
    "ExecuteTime": {
     "end_time": "2022-10-13T08:09:03.529996Z",
     "start_time": "2022-10-13T08:09:02.002170Z"
    },
    "scrolled": false
   },
   "outputs": [],
   "source": [
    "figure_n= 10\n",
    "fig = plt.figure(figsize=(4,figure_n*3))\n",
    "fig.subplots_adjust(hspace=0.3, wspace = 0.0)\n",
    "\n",
    "plot_i=1\n",
    "\n",
    "\n",
    "\n",
    "for i in range(5):\n",
    "    for j in range(5):\n",
    "        if i<j:\n",
    "            index_pair=[i,j]\n",
    "\n",
    "            data1=SMARTS_3C273_all[index_pair[0]]\n",
    "            label1=SMARTS_3C273_all_label[index_pair[0]]\n",
    "            time1=data1['mjd']\n",
    "            Lum1=data1[data1.colnames[1]]\n",
    "\n",
    "            data2=SMARTS_3C273_all[index_pair[1]]\n",
    "            label2=SMARTS_3C273_all_label[index_pair[1]]\n",
    "            time2=data2['mjd']\n",
    "            Lum2=data2[data2.colnames[1]]\n",
    "\n",
    "            time1s,Lum1s,time2s,Lum2s = get_quasi_sim_lum_correlation(time1,Lum1,time2,Lum2,timebin=0.1)\n",
    "\n",
    "            if plot_i==1:\n",
    "                ax = fig.add_subplot(figure_n,1,plot_i)\n",
    "            \n",
    "                ax.errorbar(Lum1s,Lum1s-Lum2s,\n",
    "                   ls=':',marker='.',color='r',markersize=10,label='%s-%s'%(label1,label2))\n",
    "                \n",
    "                set_ax_tick(ax)\n",
    "                ax.set_xlabel(label1)\n",
    "                set_ax_legend(ax)\n",
    "                set_mag_xlim(ax)\n",
    "                #set_mag_ylim(ax)\n",
    "                \n",
    "\n",
    "            else:\n",
    "                ax1 = fig.add_subplot(figure_n,1,plot_i)\n",
    "                ax1.errorbar(Lum1s,Lum1s-Lum2s,\n",
    "                   ls=':',marker='.',color='r',markersize=10,label='%s-%s'%(label1,label2))\n",
    "                \n",
    "                set_ax_tick(ax1)\n",
    "                ax1.set_xlabel(label1)\n",
    "                set_ax_legend(ax1)\n",
    "                set_mag_xlim(ax1)\n",
    "                #set_mag_ylim(ax1)\n",
    "                \n",
    "            plot_i=plot_i+1\n",
    "            \n",
    "range_l,range_r=(54500+1,57900-1)\n",
    "#ax.set_xlim(range_l,range_r)\n",
    "#plot_secax(ax,mi_interval=30,ma_interval=90,rotation=30)\n",
    "#ax.set_xlim(13.3,11)\n",
    "save_lc_img_path='/Users/lyubing/IHEPBox/JetRM_plot/3C273_plot/3C273_SMARTS_Mag_color_%d_%d.png'%(range_l,range_r)\n",
    "#save_lc_img_path='/Users/brettlv/Downloads/3C273_plot/Mojave_15GHz_I_lc.png'\n",
    "plt.savefig(save_lc_img_path,dpi=400, transparent=False, bbox_inches='tight')\n",
    "#plt.close()"
   ]
  },
  {
   "cell_type": "markdown",
   "metadata": {},
   "source": [
    "#### -1"
   ]
  },
  {
   "cell_type": "code",
   "execution_count": null,
   "metadata": {
    "ExecuteTime": {
     "end_time": "2022-10-13T08:31:42.707880Z",
     "start_time": "2022-10-13T08:31:42.031668Z"
    }
   },
   "outputs": [],
   "source": [
    "figure_n= 4\n",
    "fig = plt.figure(figsize=(4,figure_n*3))\n",
    "fig.subplots_adjust(hspace=0.3, wspace = 0.0)\n",
    "\n",
    "plot_i=1\n",
    "for i in range(5):\n",
    "    for j in range(5):\n",
    "        if i-j==-1:\n",
    "            index_pair=[i,j]\n",
    "\n",
    "            data1=SMARTS_3C273_all[index_pair[0]]\n",
    "            label1=SMARTS_3C273_all_label[index_pair[0]]\n",
    "            time1=data1['mjd']\n",
    "            Lum1=data1[data1.colnames[1]]\n",
    "\n",
    "            data2=SMARTS_3C273_all[index_pair[1]]\n",
    "            label2=SMARTS_3C273_all_label[index_pair[1]]\n",
    "            time2=data2['mjd']\n",
    "            Lum2=data2[data2.colnames[1]]\n",
    "\n",
    "            time1s,Lum1s,time2s,Lum2s = get_quasi_sim_lum_correlation(time1,Lum1,time2,Lum2,timebin=0.1)\n",
    "\n",
    "            if plot_i==1:\n",
    "                ax = fig.add_subplot(figure_n,1,plot_i)\n",
    "            \n",
    "                ax.errorbar(Lum1s,Lum1s-Lum2s,\n",
    "                   ls=':',marker='.',color='r',markersize=10,label='%s-%s'%(label1,label2))\n",
    "                \n",
    "                set_ax_tick(ax)\n",
    "                ax.set_xlabel(label1)\n",
    "                set_ax_legend(ax)\n",
    "                set_mag_xlim(ax)\n",
    "                #set_mag_ylim(ax)\n",
    "                \n",
    "\n",
    "            else:\n",
    "                ax1 = fig.add_subplot(figure_n,1,plot_i)\n",
    "                ax1.errorbar(Lum1s,Lum1s-Lum2s,\n",
    "                   ls=':',marker='.',color='r',markersize=10,label='%s-%s'%(label1,label2))\n",
    "                \n",
    "                set_ax_tick(ax1)\n",
    "                ax1.set_xlabel(label1)\n",
    "                set_ax_legend(ax1)\n",
    "                set_mag_xlim(ax1)\n",
    "                #set_mag_ylim(ax1)\n",
    "                \n",
    "            plot_i=plot_i+1\n",
    "            \n",
    "range_l,range_r=(54500+1,55300-1)\n",
    "#ax.set_xlim(range_l,range_r)\n",
    "#plot_secax(ax,mi_interval=30,ma_interval=90,rotation=30)\n",
    "#ax.set_xlim(13.3,11)\n",
    "save_lc_img_path='/Users/lyubing/IHEPBox/JetRM_plot/3C273_plot/3C273_SMARTS_Mag_color_1_%d_%d.png'%(range_l,range_r)\n",
    "#save_lc_img_path='/Users/brettlv/Downloads/3C273_plot/Mojave_15GHz_I_lc.png'\n",
    "plt.savefig(save_lc_img_path,dpi=400, transparent=False, bbox_inches='tight')\n",
    "#plt.close()"
   ]
  },
  {
   "cell_type": "code",
   "execution_count": null,
   "metadata": {},
   "outputs": [],
   "source": []
  },
  {
   "cell_type": "markdown",
   "metadata": {},
   "source": [
    "## Liyanrong 2020 UVOT"
   ]
  },
  {
   "cell_type": "code",
   "execution_count": null,
   "metadata": {},
   "outputs": [],
   "source": [
    "lagdata_dir_3C273"
   ]
  },
  {
   "cell_type": "code",
   "execution_count": null,
   "metadata": {
    "ExecuteTime": {
     "end_time": "2022-10-20T15:13:07.593228Z",
     "start_time": "2022-10-20T15:13:07.546427Z"
    }
   },
   "outputs": [],
   "source": [
    "data_3C273_UVOT=pd.read_excel(os.path.join(lagdata_dir_3C273,'UVOT_3C273.xlsx'))\n",
    "data_3C273_UVOT['mjd']=data_3C273_UVOT['JD-2,450,000']+50000-0.5"
   ]
  },
  {
   "cell_type": "code",
   "execution_count": null,
   "metadata": {
    "ExecuteTime": {
     "end_time": "2022-10-20T15:13:11.375358Z",
     "start_time": "2022-10-20T15:13:11.365207Z"
    }
   },
   "outputs": [],
   "source": [
    "data_3C273_UVOT.columns"
   ]
  },
  {
   "cell_type": "markdown",
   "metadata": {},
   "source": [
    "## SMA_3C273"
   ]
  },
  {
   "cell_type": "markdown",
   "metadata": {
    "ExecuteTime": {
     "end_time": "2022-10-13T07:29:28.244665Z",
     "start_time": "2022-10-13T07:29:28.229781Z"
    }
   },
   "source": [
    "SMA_3c273=pd.read_csv(os.path.join(lagdata_dir_3C273,'SMA_3C273.py'),delimiter='\\s+')#SMA"
   ]
  },
  {
   "cell_type": "markdown",
   "metadata": {
    "ExecuteTime": {
     "end_time": "2022-10-13T07:26:44.712234Z",
     "start_time": "2022-10-13T07:26:44.703607Z"
    }
   },
   "source": [
    "SMA_3c273.columns"
   ]
  },
  {
   "cell_type": "markdown",
   "metadata": {
    "ExecuteTime": {
     "end_time": "2022-10-13T07:29:29.717961Z",
     "start_time": "2022-10-13T07:29:29.692802Z"
    }
   },
   "source": [
    "day=SMA_3c273['day']\n",
    "month=SMA_3c273['month']\n",
    "year=SMA_3c273['year']\n",
    "time=SMA_3c273['time']\n",
    "\n",
    "month_number=[]\n",
    "for i in month.values:\n",
    "    month_number.append(strptime(i,'%b').tm_mon)\n",
    "    \n",
    "h=[]\n",
    "m=[]\n",
    "for i in time.values:\n",
    "    h.append(i.split(\":\")[0])\n",
    "    m.append(i.split(\":\")[1])\n",
    "\n",
    "SMA_3c273['mon_num']=month_number\n",
    "SMA_3c273['hour']=h\n",
    "SMA_3c273['minute']=m\n",
    "\n",
    "##############################\n",
    "#day=SMA_3c273['day']\n",
    "month_num=SMA_3c273['mon_num']\n",
    "#year=SMA_3c273['year']\n",
    "hour=SMA_3c273['hour']\n",
    "minute=SMA_3c273['minute']\n"
   ]
  },
  {
   "cell_type": "markdown",
   "metadata": {
    "ExecuteTime": {
     "end_time": "2022-10-13T07:29:33.616602Z",
     "start_time": "2022-10-13T07:29:33.534845Z"
    }
   },
   "source": [
    "times=[]\n",
    "for i,(d_,m_,y_,h_,mi_) in enumerate(zip(day,month_num,year,hour,minute)):                 \n",
    "    times.append(Time(datetime(y_,m_,d_,int(h_),int(mi_),0),scale='ut1').mjd)\n",
    "    \n",
    "'''\n",
    "timesut=[]\n",
    "for i,(d_,m_,y_,h_,mi_) in enumerate(zip(day,month_num,year,hour,minute)):                 \n",
    "    timesut.append(Time(datetime(y_,m_,d_,h_,mi_,0),scale='ut1'))  \n",
    "'''    \n",
    "SMA_3c273['mjd']=times"
   ]
  },
  {
   "cell_type": "code",
   "execution_count": null,
   "metadata": {
    "ExecuteTime": {
     "end_time": "2022-10-13T07:29:40.691805Z",
     "start_time": "2022-10-13T07:29:40.664320Z"
    }
   },
   "outputs": [],
   "source": [
    "SMA_3c273"
   ]
  },
  {
   "cell_type": "markdown",
   "metadata": {
    "ExecuteTime": {
     "end_time": "2022-07-19T07:08:17.305309Z",
     "start_time": "2022-07-19T07:08:17.289605Z"
    }
   },
   "source": [
    "convert_date_single(52657.272917)"
   ]
  },
  {
   "cell_type": "code",
   "execution_count": null,
   "metadata": {},
   "outputs": [],
   "source": []
  },
  {
   "cell_type": "markdown",
   "metadata": {},
   "source": [
    "### SMA_3C273_modifed"
   ]
  },
  {
   "cell_type": "markdown",
   "metadata": {
    "ExecuteTime": {
     "end_time": "2022-10-13T07:30:33.123267Z",
     "start_time": "2022-10-13T07:30:32.958317Z"
    }
   },
   "source": [
    "SMA_3c273.to_excel(os.path.join(lagdata_dir_3C273,'3C273_SMA_calitrator_modified.xlsx'),index=False)"
   ]
  },
  {
   "cell_type": "code",
   "execution_count": null,
   "metadata": {
    "ExecuteTime": {
     "end_time": "2022-10-20T15:13:17.702031Z",
     "start_time": "2022-10-20T15:13:17.565441Z"
    }
   },
   "outputs": [],
   "source": [
    "SMA_3c273=pd.read_excel(os.path.join(lagdata_dir_3C273,'3C273_SMA_calitrator_modified.xlsx'))"
   ]
  },
  {
   "cell_type": "code",
   "execution_count": null,
   "metadata": {
    "ExecuteTime": {
     "end_time": "2022-10-20T15:13:18.689745Z",
     "start_time": "2022-10-20T15:13:18.681058Z"
    }
   },
   "outputs": [],
   "source": [
    "SMA_3c273_1mm=SMA_3c273[SMA_3c273['BAND']=='1mm']\n",
    "SMA_3c273_850=SMA_3c273[SMA_3c273['BAND']=='850']\n",
    "\n",
    "SMA_3c273_1mm=drop_index(SMA_3c273_1mm)\n",
    "SMA_3c273_850=drop_index(SMA_3c273_850)"
   ]
  },
  {
   "cell_type": "code",
   "execution_count": null,
   "metadata": {
    "ExecuteTime": {
     "end_time": "2022-10-20T15:13:19.627626Z",
     "start_time": "2022-10-20T15:13:19.616742Z"
    }
   },
   "outputs": [],
   "source": [
    "len(SMA_3c273),len(SMA_3c273_1mm),len(SMA_3c273_850)"
   ]
  },
  {
   "cell_type": "markdown",
   "metadata": {
    "ExecuteTime": {
     "end_time": "2022-10-13T07:32:10.237649Z",
     "start_time": "2022-10-13T07:32:10.208813Z"
    }
   },
   "source": [
    "SMA_3c273_1mm"
   ]
  },
  {
   "cell_type": "markdown",
   "metadata": {},
   "source": [
    "## ATCA_calibrator"
   ]
  },
  {
   "cell_type": "markdown",
   "metadata": {
    "ExecuteTime": {
     "end_time": "2022-07-20T14:43:17.360612Z",
     "start_time": "2022-07-20T14:43:17.326829Z"
    }
   },
   "source": [
    "ATCA_3C273_url='https://www.narrabri.atnf.csiro.au/calibrators/calibrator_database_viewcal?source=1226+023&detailed=true'\n",
    "\n",
    "table_ATCA_3C273=pd.read_html(ATCA_3C273_url)"
   ]
  },
  {
   "cell_type": "code",
   "execution_count": null,
   "metadata": {
    "ExecuteTime": {
     "end_time": "2022-07-21T01:21:19.693639Z",
     "start_time": "2022-07-21T01:21:19.685700Z"
    }
   },
   "outputs": [],
   "source": [
    "len(table_ATCA_3C273),table_ATCA_3C273,table_ATCA_3C273[18]"
   ]
  },
  {
   "cell_type": "code",
   "execution_count": null,
   "metadata": {
    "ExecuteTime": {
     "end_time": "2022-09-16T01:23:09.163436Z",
     "start_time": "2022-09-16T01:23:09.112905Z"
    }
   },
   "outputs": [],
   "source": [
    "os.listdir(lag_data_dir)"
   ]
  },
  {
   "cell_type": "markdown",
   "metadata": {
    "ExecuteTime": {
     "end_time": "2022-08-05T01:57:24.073409Z",
     "start_time": "2022-08-05T01:57:24.019122Z"
    }
   },
   "source": [
    "table_ATCA_3C273_origin=pd.read_excel(os.path.join(lag_data_dir,'3C273_ATCA_calitrator_origin.xlsx'))"
   ]
  },
  {
   "cell_type": "code",
   "execution_count": null,
   "metadata": {
    "ExecuteTime": {
     "end_time": "2022-08-05T01:57:25.286070Z",
     "start_time": "2022-08-05T01:57:25.279811Z"
    }
   },
   "outputs": [],
   "source": [
    "table_ATCA_3C273_origin.columns"
   ]
  },
  {
   "cell_type": "markdown",
   "metadata": {
    "ExecuteTime": {
     "end_time": "2022-07-21T07:07:08.748055Z",
     "start_time": "2022-07-21T07:07:08.732283Z"
    }
   },
   "source": [
    "table_ATCA_3C273_origin[table_ATCA_3C273_origin['Epoch'].str.startswith('Band')]"
   ]
  },
  {
   "cell_type": "code",
   "execution_count": null,
   "metadata": {
    "ExecuteTime": {
     "end_time": "2022-07-21T07:12:42.762196Z",
     "start_time": "2022-07-21T07:12:42.757176Z"
    }
   },
   "outputs": [],
   "source": [
    "table_ATCA_3C273_origin.columns"
   ]
  },
  {
   "cell_type": "markdown",
   "metadata": {
    "ExecuteTime": {
     "end_time": "2022-07-21T07:10:49.814694Z",
     "start_time": "2022-07-21T07:10:49.809305Z"
    }
   },
   "source": [
    "table_ATCA_3C273_origin.iloc[0]"
   ]
  },
  {
   "cell_type": "markdown",
   "metadata": {
    "ExecuteTime": {
     "end_time": "2022-08-05T01:59:09.539232Z",
     "start_time": "2022-08-05T01:59:09.533118Z"
    }
   },
   "source": [
    "if isinstance(table_ATCA_3C273_origin.loc[2,'Closure Phase'],str):\n",
    "    print(table_ATCA_3C273_origin.loc[2,'Closure Phase'])"
   ]
  },
  {
   "cell_type": "markdown",
   "metadata": {
    "ExecuteTime": {
     "end_time": "2022-07-21T07:23:25.721267Z",
     "start_time": "2022-07-21T07:23:25.656756Z"
    }
   },
   "source": [
    "table_ATCA_3C273=pd.DataFrame([])\n",
    "\n",
    "for i in range(len(table_ATCA_3C273_origin)):\n",
    "    if isinstance(table_ATCA_3C273_origin.loc[i,'Closure Phase'],str):\n",
    "        row_table=table_ATCA_3C273_origin.iloc[i]\n",
    "        print(i)\n",
    "    else:\n",
    "        print(table_ATCA_3C273_origin.loc[i,'Closure Phase'])"
   ]
  },
  {
   "cell_type": "markdown",
   "metadata": {
    "ExecuteTime": {
     "end_time": "2022-07-21T07:28:48.036721Z",
     "start_time": "2022-07-21T07:28:48.023754Z"
    }
   },
   "source": [
    "i=3\n",
    "row_table = pd.DataFrame(\n",
    "           [\n",
    "            table_ATCA_3C273_origin.loc[i-1,table_ATCA_3C273_origin.columns[0]],\n",
    "            table_ATCA_3C273_origin.loc[i-1,table_ATCA_3C273_origin.columns[1]],\n",
    "            table_ATCA_3C273_origin.loc[i-1,table_ATCA_3C273_origin.columns[2]],\n",
    "            table_ATCA_3C273_origin.loc[i-1,table_ATCA_3C273_origin.columns[3]],       \n",
    "            table_ATCA_3C273_origin.loc[i,table_ATCA_3C273_origin.columns[0]],\n",
    "            table_ATCA_3C273_origin.loc[i,table_ATCA_3C273_origin.columns[1]],\n",
    "            table_ATCA_3C273_origin.loc[i,table_ATCA_3C273_origin.columns[2]],\n",
    "            table_ATCA_3C273_origin.loc[i,table_ATCA_3C273_origin.columns[3]],\n",
    "            table_ATCA_3C273_origin.loc[i,table_ATCA_3C273_origin.columns[8]]\n",
    "           ],            \n",
    "            )#columns=table_ATCA_3C273_origin.columns"
   ]
  },
  {
   "cell_type": "code",
   "execution_count": null,
   "metadata": {
    "ExecuteTime": {
     "end_time": "2022-07-21T07:28:48.755545Z",
     "start_time": "2022-07-21T07:28:48.744166Z"
    }
   },
   "outputs": [],
   "source": [
    "row_table.T"
   ]
  },
  {
   "cell_type": "markdown",
   "metadata": {
    "ExecuteTime": {
     "end_time": "2022-08-05T01:59:47.408499Z",
     "start_time": "2022-08-05T01:59:46.802847Z"
    }
   },
   "source": [
    "table_ATCA_3C273=pd.DataFrame([])\n",
    "\n",
    "for i in range(len(table_ATCA_3C273_origin)):\n",
    "    if isinstance(table_ATCA_3C273_origin.loc[i,'Closure Phase'],str):\n",
    "        row_table=table_ATCA_3C273_origin.iloc[i]\n",
    "        #print(i)\n",
    "    \n",
    "    else:\n",
    "        print(i)\n",
    "        \n",
    "        row_table = pd.DataFrame(\n",
    "           [\n",
    "            table_ATCA_3C273_origin.loc[i-1,table_ATCA_3C273_origin.columns[0]],\n",
    "            table_ATCA_3C273_origin.loc[i-1,table_ATCA_3C273_origin.columns[1]],\n",
    "            table_ATCA_3C273_origin.loc[i-1,table_ATCA_3C273_origin.columns[2]],\n",
    "            table_ATCA_3C273_origin.loc[i-1,table_ATCA_3C273_origin.columns[3]],       \n",
    "            table_ATCA_3C273_origin.loc[i,table_ATCA_3C273_origin.columns[0]],\n",
    "            table_ATCA_3C273_origin.loc[i,table_ATCA_3C273_origin.columns[1]],\n",
    "            table_ATCA_3C273_origin.loc[i,table_ATCA_3C273_origin.columns[2]],\n",
    "            table_ATCA_3C273_origin.loc[i,table_ATCA_3C273_origin.columns[3]],\n",
    "            table_ATCA_3C273_origin.loc[i,table_ATCA_3C273_origin.columns[8]],\n",
    "           ])\n",
    "            \n",
    "        row_table=row_table.T\n",
    "        row_table.columns= table_ATCA_3C273_origin.columns   \n",
    "            \n",
    "        \n",
    "    table_ATCA_3C273=table_ATCA_3C273.append(row_table,ignore_index=True)        \n",
    "          \n",
    "        \n",
    "    \n",
    "    "
   ]
  },
  {
   "cell_type": "markdown",
   "metadata": {
    "ExecuteTime": {
     "end_time": "2022-07-21T08:46:09.849746Z",
     "start_time": "2022-07-21T08:46:09.801479Z"
    }
   },
   "source": [
    "year=[]\n",
    "month=[]\n",
    "day=[]\n",
    "\n",
    "for i in table_ATCA_3C273['Epoch'].values:\n",
    "    year.append(i.split(\"-\")[0])\n",
    "    month.append(strptime(i.split(\"-\")[1],'%b').tm_mon)\n",
    "    day.append(i.split(\"-\")[2])\n",
    "    \n",
    "    \n",
    "times=[]\n",
    "for i,(d_,m_,y_,) in enumerate(zip(day,month,year)):                 \n",
    "    times.append(Time(datetime(int(y_),m_,int(d_),0,0,0),scale='ut1').mjd)\n",
    "    \n",
    "'''\n",
    "timesut=[]\n",
    "for i,(d_,m_,y_,h_,mi_) in enumerate(zip(day,month_num,year,hour,minute)):                 \n",
    "    timesut.append(Time(datetime(y_,m_,d_,h_,mi_,0),scale='ut1'))  \n",
    "'''    \n",
    "table_ATCA_3C273['mjd']=times   "
   ]
  },
  {
   "cell_type": "markdown",
   "metadata": {
    "ExecuteTime": {
     "end_time": "2022-07-21T08:46:12.271102Z",
     "start_time": "2022-07-21T08:46:12.190131Z"
    }
   },
   "source": [
    "table_ATCA_3C273.to_excel(os.path.join(lag_data_dir,'3C273_ATCA_calitrator_modified.xlsx'),index=False)"
   ]
  },
  {
   "cell_type": "markdown",
   "metadata": {},
   "source": [
    "### ATCA_modified"
   ]
  },
  {
   "cell_type": "code",
   "execution_count": null,
   "metadata": {
    "ExecuteTime": {
     "end_time": "2022-10-20T15:14:17.470193Z",
     "start_time": "2022-10-20T15:14:17.399366Z"
    }
   },
   "outputs": [],
   "source": [
    "table_ATCA_3C273=pd.read_excel(os.path.join(lagdata_dir_3C273,'3C273_ATCA_calitrator_modified.xlsx'))"
   ]
  },
  {
   "cell_type": "code",
   "execution_count": null,
   "metadata": {
    "ExecuteTime": {
     "end_time": "2022-10-20T15:14:19.292952Z",
     "start_time": "2022-10-20T15:14:19.285092Z"
    }
   },
   "outputs": [],
   "source": [
    "table_ATCA_3C273.columns"
   ]
  },
  {
   "cell_type": "code",
   "execution_count": null,
   "metadata": {
    "ExecuteTime": {
     "end_time": "2022-10-20T15:14:32.728500Z",
     "start_time": "2022-10-20T15:14:32.718812Z"
    }
   },
   "outputs": [],
   "source": [
    "table_ATCA_3C273_5GHz=table_ATCA_3C273[abs(table_ATCA_3C273['Frequency']-5000)<1000]\n",
    "table_ATCA_3C273_5GHz=drop_index(table_ATCA_3C273_5GHz)"
   ]
  },
  {
   "cell_type": "code",
   "execution_count": null,
   "metadata": {
    "ExecuteTime": {
     "end_time": "2022-10-20T15:14:33.396709Z",
     "start_time": "2022-10-20T15:14:33.374738Z"
    }
   },
   "outputs": [],
   "source": [
    "for i in range(len(table_ATCA_3C273_5GHz)):\n",
    "    flux_density_err=table_ATCA_3C273_5GHz.loc[i,'Flux Density (Jy)']\n",
    "    table_ATCA_3C273_5GHz.loc[i,'flux']= float(flux_density_err.split('± ')[0])\n",
    "    table_ATCA_3C273_5GHz.loc[i,'e_flux']= float(flux_density_err.split('± ')[1])"
   ]
  },
  {
   "cell_type": "code",
   "execution_count": null,
   "metadata": {
    "ExecuteTime": {
     "end_time": "2022-10-20T15:15:20.931942Z",
     "start_time": "2022-10-20T15:15:20.906717Z"
    }
   },
   "outputs": [],
   "source": [
    "table_ATCA_3C273_5GHz[['mjd','Frequency','Spectral Index','flux','e_flux']]"
   ]
  },
  {
   "cell_type": "markdown",
   "metadata": {},
   "source": [
    "## Fermi"
   ]
  },
  {
   "cell_type": "code",
   "execution_count": null,
   "metadata": {
    "ExecuteTime": {
     "end_time": "2022-10-20T15:15:28.895414Z",
     "start_time": "2022-10-20T15:15:28.844616Z"
    }
   },
   "outputs": [],
   "source": [
    "Fermi_3C273=pd.read_csv(os.path.join(lagdata_dir_3C273,'4FGL_J1229.0+0202_daily_10_7_2022.csv'),header=0)\n",
    "Fermi_3C273=Fermi_3C273[Fermi_3C273['TS']>4]\n",
    "Fermi_3C273=drop_index(Fermi_3C273)\n",
    "Fermi_3C273['mjd']=Fermi_3C273['Julian Date']-2400000.5\n",
    "\n",
    "Fermi_3C273['Photon Flux [0.1-100 GeV](photons cm-2 s-1)']=pd.to_numeric(Fermi_3C273['Photon Flux [0.1-100 GeV](photons cm-2 s-1)'])\n",
    "Fermi_3C273['Photon Flux Error(photons cm-2 s-1)']=pd.to_numeric(Fermi_3C273['Photon Flux Error(photons cm-2 s-1)'])\n"
   ]
  },
  {
   "cell_type": "code",
   "execution_count": null,
   "metadata": {
    "ExecuteTime": {
     "end_time": "2022-10-14T03:17:49.759086Z",
     "start_time": "2022-10-14T03:17:49.749890Z"
    }
   },
   "outputs": [],
   "source": [
    "get_info(Fermi_3C273,'Photon Flux [0.1-100 GeV](photons cm-2 s-1)')"
   ]
  },
  {
   "cell_type": "code",
   "execution_count": null,
   "metadata": {
    "ExecuteTime": {
     "end_time": "2022-10-14T06:51:15.155015Z",
     "start_time": "2022-10-14T06:51:15.136231Z"
    }
   },
   "outputs": [],
   "source": [
    "min_3C273,max_3C273,mean_3C273=get_info(Fermi_3C273,'Photon Flux [0.1-100 GeV](photons cm-2 s-1)')\n",
    "for i in [min_3C273,max_3C273,mean_3C273]:\n",
    "    Li=4*np.pi*D_cm_3C273.value**2*i#*#15e9*1e-23*i#erg/s\n",
    "    print(Li)"
   ]
  },
  {
   "cell_type": "code",
   "execution_count": null,
   "metadata": {},
   "outputs": [],
   "source": []
  },
  {
   "cell_type": "code",
   "execution_count": null,
   "metadata": {
    "ExecuteTime": {
     "end_time": "2022-10-13T07:33:45.362007Z",
     "start_time": "2022-10-13T07:33:45.354998Z"
    }
   },
   "outputs": [],
   "source": [
    "Fermi_3C273.columns"
   ]
  },
  {
   "cell_type": "code",
   "execution_count": null,
   "metadata": {
    "ExecuteTime": {
     "end_time": "2022-10-13T07:34:11.570136Z",
     "start_time": "2022-10-13T07:34:11.551306Z"
    }
   },
   "outputs": [],
   "source": [
    "get_info(Fermi_3C273,'mjd')"
   ]
  },
  {
   "cell_type": "code",
   "execution_count": null,
   "metadata": {},
   "outputs": [],
   "source": []
  },
  {
   "cell_type": "markdown",
   "metadata": {},
   "source": [
    "## plot 3C 273"
   ]
  },
  {
   "cell_type": "code",
   "execution_count": null,
   "metadata": {
    "ExecuteTime": {
     "end_time": "2022-10-13T07:45:55.084742Z",
     "start_time": "2022-10-13T07:45:52.605327Z"
    }
   },
   "outputs": [],
   "source": [
    "figure_n= 3\n",
    "\n",
    "fig = plt.figure(figsize=(6,figure_n*3))\n",
    "fig.subplots_adjust(hspace=0.0, wspace = 0.0)\n",
    "\n",
    "ax = fig.add_subplot(figure_n,1,1)\n",
    "\n",
    "'''for i in range(len(table_ATCA_3C273_5GHz)):\n",
    "    flux_and_err=table_ATCA_3C273_5GHz.loc[i,'Flux Density (Jy)']\n",
    "    flux=flux_and_err.split('±')[0]\n",
    "    err_flux=flux_and_err.split('±')[1]   \n",
    "    ax.errorbar(table_ATCA_3C273_5GHz.loc[i,'mjd'],float(flux),float(err_flux),\n",
    "              ls=':',marker='.',markersize=10,color='r',label='VLA 5GHz')\n",
    "'''\n",
    "\n",
    "ax.errorbar(mojave_15GHz_3c273['mjd'],mojave_15GHz_3c273['flux']*1.2,\n",
    "            fmt='.',label='VLBA_15GHz')\n",
    "\n",
    "ax.errorbar(ovro_40m_3C273['mjd'],ovro_40m_3C273['flux'],ovro_40m_3C273['flux err'],\n",
    "            fmt='.',label='OVRO_15GHz')\n",
    "    \n",
    "\n",
    "\n",
    "\n",
    "\n",
    "\n",
    "\n",
    "ax2= fig.add_subplot(figure_n,1,2,sharex=ax)\n",
    "\n",
    "ax2.errorbar(data_3C273['JD1']-2400000.5,data_3C273['F5100'],fmt='.',ls='-.',label='5100')\n",
    "ax2.errorbar(data_3C273['JD1']-2400000.5,data_3C273['FHbeta'],fmt='.',ls='-.',label='Hbeta')\n",
    "ax2.errorbar(data_3C273['JD1']-2400000.5,data_3C273['FHgamma'],fmt='.',ls='-.',label='Hgamma')\n",
    "\n",
    "\n",
    "\n",
    "ax3= fig.add_subplot(figure_n,1,3,sharex=ax)\n",
    "\n",
    "ax3.errorbar(Fermi_3C273['mjd'],\n",
    "             Fermi_3C273['Photon Flux [0.1-100 GeV](photons cm-2 s-1)'],\n",
    "             yerr=Fermi_3C273['Photon Flux Error(photons cm-2 s-1)'],  \n",
    "             fmt='.',ls='-.',\n",
    "             label='fermi')\n",
    "\n",
    "set_ax_legend(ax)\n",
    "set_ax_legend(ax2,bbox_to_anchor=(0.71, 0.99))\n",
    "set_ax_legend(ax3)\n",
    "set_ax_tick(ax)\n",
    "set_ax_tick(ax2)\n",
    "set_ax_tick(ax3)\n",
    "\n",
    "\n",
    "ax.set_title('3C 273')\n",
    "ax3.set_xlabel(r'MJD(d)')\n",
    "ax.set_ylabel(r'Flux')\n",
    "ax3.semilogy()\n",
    "\n",
    "\n",
    "plot_secax(ax,mi_interval=365,ma_interval=365*2,rotation=30)    \n",
    "fig.tight_layout()\n",
    "\n",
    "range_l,range_r=(54600-200,59850)\n",
    "ax.set_xlim(range_l,range_r)\n",
    "plt.savefig('/Users/lyubing/IHEPBox/JetRM_plot/3C273_plot/3C273_lc_radio_optical_%d_%d.png'%(range_l,range_r),dpi=400)\n"
   ]
  },
  {
   "cell_type": "code",
   "execution_count": null,
   "metadata": {
    "ExecuteTime": {
     "end_time": "2022-10-13T07:39:49.870031Z",
     "start_time": "2022-10-13T07:39:49.859926Z"
    }
   },
   "outputs": [],
   "source": [
    "data_3C273.colnames"
   ]
  },
  {
   "cell_type": "markdown",
   "metadata": {},
   "source": [
    "# PKS1510-089"
   ]
  },
  {
   "cell_type": "code",
   "execution_count": null,
   "metadata": {
    "ExecuteTime": {
     "end_time": "2022-10-13T07:56:55.300517Z",
     "start_time": "2022-10-13T07:56:55.293042Z"
    }
   },
   "outputs": [],
   "source": [
    "from astropy import constants as const\n",
    "lightday=const.c.value*24*60*60 #in unit of m"
   ]
  },
  {
   "cell_type": "code",
   "execution_count": null,
   "metadata": {
    "ExecuteTime": {
     "end_time": "2022-10-13T07:56:55.839490Z",
     "start_time": "2022-10-13T07:56:55.829302Z"
    }
   },
   "outputs": [],
   "source": [
    "const.c.value"
   ]
  },
  {
   "cell_type": "code",
   "execution_count": null,
   "metadata": {
    "ExecuteTime": {
     "end_time": "2022-09-23T10:45:36.830604Z",
     "start_time": "2022-09-23T10:45:36.822809Z"
    }
   },
   "outputs": [],
   "source": [
    "print('r_blr in unit  lightday:', r_blr_unit_m.value/lightday)"
   ]
  },
  {
   "cell_type": "code",
   "execution_count": null,
   "metadata": {
    "ExecuteTime": {
     "end_time": "2022-09-23T10:46:11.701740Z",
     "start_time": "2022-09-23T10:46:11.691813Z"
    }
   },
   "outputs": [],
   "source": [
    "(1+0.361)*93.77"
   ]
  },
  {
   "cell_type": "code",
   "execution_count": null,
   "metadata": {
    "ExecuteTime": {
     "end_time": "2022-09-23T11:12:43.977751Z",
     "start_time": "2022-09-23T11:12:43.966990Z"
    }
   },
   "outputs": [],
   "source": [
    "61/(1+0.361)"
   ]
  },
  {
   "cell_type": "code",
   "execution_count": null,
   "metadata": {
    "ExecuteTime": {
     "end_time": "2022-09-23T11:13:53.826984Z",
     "start_time": "2022-09-23T11:13:53.817180Z"
    }
   },
   "outputs": [],
   "source": [
    "'%.2e'%(127.62097/44.8*5.71e7)"
   ]
  },
  {
   "cell_type": "code",
   "execution_count": null,
   "metadata": {
    "ExecuteTime": {
     "end_time": "2022-09-23T11:14:09.302756Z",
     "start_time": "2022-09-23T11:14:09.293527Z"
    }
   },
   "outputs": [],
   "source": [
    "'%.2e'%10**8.5"
   ]
  },
  {
   "cell_type": "code",
   "execution_count": null,
   "metadata": {
    "ExecuteTime": {
     "end_time": "2022-09-23T11:42:48.323148Z",
     "start_time": "2022-09-23T11:42:48.312551Z"
    }
   },
   "outputs": [],
   "source": [
    "2.2e15/r_blr_unit_m.value"
   ]
  },
  {
   "cell_type": "code",
   "execution_count": null,
   "metadata": {
    "ExecuteTime": {
     "end_time": "2022-09-23T11:53:08.214365Z",
     "start_time": "2022-09-23T11:53:08.204541Z"
    }
   },
   "outputs": [],
   "source": [
    "'%.2e'%(lightday*10) #m"
   ]
  },
  {
   "cell_type": "code",
   "execution_count": null,
   "metadata": {},
   "outputs": [],
   "source": []
  },
  {
   "cell_type": "code",
   "execution_count": null,
   "metadata": {
    "ExecuteTime": {
     "end_time": "2022-09-23T11:56:29.903856Z",
     "start_time": "2022-09-23T11:56:29.885385Z"
    }
   },
   "outputs": [],
   "source": [
    "#Mass_BH_PKS1510=10**8.5*u.solMass #sol_mass\n",
    "Mass_BH_PKS1510s=[10**8.5,7.32e7]*u.solMass #sol_mass\n",
    "\n",
    "for Mass_BH_PKS1510 in Mass_BH_PKS1510s:\n",
    "    Rg=  (const.G*Mass_BH_PKS1510)/(const.c)**2\n",
    "    Rg_unit_m=Rg.to(u.m)\n",
    "\n",
    "    print('10lightday in unit Rg for BH of %.2e solor mass :'%Mass_BH_PKS1510.value,10*lightday/Rg_unit_m.value)\n",
    "\n",
    "    \n",
    "    Ldisk=5.9e45\n",
    "    r_blr=10**17*(Ldisk/1e45)**(0.5)*u.cm\n",
    "    r_blr_unit_m=r_blr.to(u.m)\n",
    "\n",
    "    r_TD=10**18*(Ldisk/1e45)**(0.5)*u.cm\n",
    "    r_TD_unit_m =r_TD.to(u.m)\n",
    "\n",
    "\n",
    "    print('r_blr in unit Rg for BH of %.2e solor mass :'%Mass_BH_PKS1510.value,r_blr_unit_m/Rg_unit_m)\n",
    "    print('r_TD in unit Rg for BH of %.2e solor mass :'%Mass_BH_PKS1510.value,r_TD_unit_m/Rg_unit_m)\n",
    "    \n",
    "    print('r_blr 44lightday in unit Rg for BH of %.2e solor mass :'%Mass_BH_PKS1510.value ,44.81*lightday/Rg_unit_m.value)\n",
    "    print()\n"
   ]
  },
  {
   "cell_type": "code",
   "execution_count": null,
   "metadata": {
    "ExecuteTime": {
     "end_time": "2022-09-23T10:50:52.908491Z",
     "start_time": "2022-09-23T10:50:52.896429Z"
    }
   },
   "outputs": [],
   "source": [
    "6.82e13/lightday"
   ]
  },
  {
   "cell_type": "code",
   "execution_count": null,
   "metadata": {
    "ExecuteTime": {
     "end_time": "2022-09-23T10:04:27.855053Z",
     "start_time": "2022-09-23T10:04:27.843805Z"
    }
   },
   "outputs": [],
   "source": [
    "'%.3e'%(1*u.lightyear.to(u.m)/365.0)"
   ]
  },
  {
   "cell_type": "code",
   "execution_count": null,
   "metadata": {
    "ExecuteTime": {
     "end_time": "2022-09-23T10:13:24.742681Z",
     "start_time": "2022-09-23T10:13:24.736040Z"
    }
   },
   "outputs": [],
   "source": []
  },
  {
   "cell_type": "code",
   "execution_count": null,
   "metadata": {
    "ExecuteTime": {
     "end_time": "2022-09-23T10:13:25.530517Z",
     "start_time": "2022-09-23T10:13:25.521891Z"
    }
   },
   "outputs": [],
   "source": [
    "lightday"
   ]
  },
  {
   "cell_type": "code",
   "execution_count": null,
   "metadata": {
    "ExecuteTime": {
     "end_time": "2022-09-23T10:13:27.923962Z",
     "start_time": "2022-09-23T10:13:27.914916Z"
    }
   },
   "outputs": [],
   "source": [
    "'%.3e'%lightday"
   ]
  },
  {
   "cell_type": "code",
   "execution_count": null,
   "metadata": {
    "ExecuteTime": {
     "end_time": "2022-09-23T10:13:29.422878Z",
     "start_time": "2022-09-23T10:13:29.413521Z"
    }
   },
   "outputs": [],
   "source": []
  },
  {
   "cell_type": "code",
   "execution_count": null,
   "metadata": {
    "ExecuteTime": {
     "end_time": "2022-09-23T10:13:30.776259Z",
     "start_time": "2022-09-23T10:13:30.764264Z"
    }
   },
   "outputs": [],
   "source": []
  },
  {
   "cell_type": "code",
   "execution_count": null,
   "metadata": {
    "ExecuteTime": {
     "end_time": "2022-09-23T10:13:31.465876Z",
     "start_time": "2022-09-23T10:13:31.454531Z"
    }
   },
   "outputs": [],
   "source": [
    "r_blr.to(u.m).value/Rg_unit_m.value"
   ]
  },
  {
   "cell_type": "code",
   "execution_count": null,
   "metadata": {
    "ExecuteTime": {
     "end_time": "2022-09-23T10:14:42.664225Z",
     "start_time": "2022-09-23T10:14:42.653592Z"
    }
   },
   "outputs": [],
   "source": [
    "1*u.pc.to(u.m)"
   ]
  },
  {
   "cell_type": "code",
   "execution_count": null,
   "metadata": {
    "ExecuteTime": {
     "end_time": "2022-09-23T10:15:05.995136Z",
     "start_time": "2022-09-23T10:15:05.984675Z"
    }
   },
   "outputs": [],
   "source": [
    "r_blr.to(u.pc)"
   ]
  },
  {
   "cell_type": "code",
   "execution_count": null,
   "metadata": {
    "ExecuteTime": {
     "end_time": "2022-09-23T10:15:30.602173Z",
     "start_time": "2022-09-23T10:15:30.591051Z"
    }
   },
   "outputs": [],
   "source": [
    "r_TD=10**18*5.9**(0.5)*u.cm\n",
    "r_TD.to(u.m)"
   ]
  },
  {
   "cell_type": "code",
   "execution_count": null,
   "metadata": {
    "ExecuteTime": {
     "end_time": "2022-09-23T10:15:37.371624Z",
     "start_time": "2022-09-23T10:15:37.360189Z"
    }
   },
   "outputs": [],
   "source": [
    "r_TD.to(u.pc)"
   ]
  },
  {
   "cell_type": "code",
   "execution_count": null,
   "metadata": {},
   "outputs": [],
   "source": []
  },
  {
   "cell_type": "code",
   "execution_count": null,
   "metadata": {},
   "outputs": [],
   "source": []
  },
  {
   "cell_type": "markdown",
   "metadata": {},
   "source": [
    "## SMA_1510"
   ]
  },
  {
   "cell_type": "markdown",
   "metadata": {
    "ExecuteTime": {
     "end_time": "2022-09-19T12:46:45.503058Z",
     "start_time": "2022-09-19T12:46:45.485548Z"
    }
   },
   "source": [
    "SMA_PKS1510=pd.read_csv(os.path.join(lagdata_dir_PKS1510,'SMA_PKS1510.py'),skiprows=1,delimiter='\\s+')#SMA"
   ]
  },
  {
   "cell_type": "markdown",
   "metadata": {
    "ExecuteTime": {
     "end_time": "2022-09-19T12:46:46.894138Z",
     "start_time": "2022-09-19T12:46:46.869720Z"
    }
   },
   "source": [
    "SMA_PKS1510"
   ]
  },
  {
   "cell_type": "markdown",
   "metadata": {
    "ExecuteTime": {
     "end_time": "2022-09-16T01:26:21.449811Z",
     "start_time": "2022-09-16T01:26:21.428557Z"
    }
   },
   "source": [
    "day=SMA_PKS1510['day']\n",
    "month=SMA_PKS1510['month']\n",
    "year=SMA_PKS1510['year']\n",
    "time=SMA_PKS1510['time']\n",
    "\n",
    "month_number=[]\n",
    "for i in month.values:\n",
    "    month_number.append(strptime(i,'%b').tm_mon)\n",
    "\n",
    "h=[]\n",
    "m=[]\n",
    "for i in time.values:\n",
    "    h.append(i.split(\":\")[0])\n",
    "    m.append(i.split(\":\")[1])\n",
    "\n",
    "SMA_PKS1510['mon_num']=month_number\n",
    "SMA_PKS1510['hour']=h\n",
    "SMA_PKS1510['minute']=m\n",
    "\n",
    "##############################\n",
    "#day=SMA_PKS1510['day']\n",
    "month_num=SMA_PKS1510['mon_num']\n",
    "#year=SMA_PKS1510['year']\n",
    "hour=SMA_PKS1510['hour']\n",
    "minute=SMA_PKS1510['minute']"
   ]
  },
  {
   "cell_type": "markdown",
   "metadata": {
    "ExecuteTime": {
     "end_time": "2022-09-16T01:26:23.545181Z",
     "start_time": "2022-09-16T01:26:23.501281Z"
    }
   },
   "source": [
    "times=[]\n",
    "for i,(d_,m_,y_,h_,mi_) in enumerate(zip(day,month_num,year,hour,minute)):\n",
    "    times.append(Time(datetime(y_,m_,d_,int(h_),int(mi_),0),scale='ut1').mjd)\n",
    "\n",
    "'''\n",
    "    timesut=[]\n",
    "    for i,(d_,m_,y_,h_,mi_) in enumerate(zip(day,month_num,year,hour,minute)):\n",
    "    timesut.append(Time(datetime(y_,m_,d_,h_,mi_,0),scale='ut1'))\n",
    "    '''\n",
    "SMA_PKS1510['mjd']=times"
   ]
  },
  {
   "cell_type": "markdown",
   "metadata": {
    "ExecuteTime": {
     "end_time": "2022-09-16T01:27:19.043487Z",
     "start_time": "2022-09-16T01:27:19.022704Z"
    }
   },
   "source": [
    "SMA_PKS1510.to_csv(os.path.join(lag_data_dir,'SMA_PKS1510_modified.csv'),index=False)"
   ]
  },
  {
   "cell_type": "markdown",
   "metadata": {},
   "source": [
    "###  SMA_PKS1510_load"
   ]
  },
  {
   "cell_type": "code",
   "execution_count": null,
   "metadata": {
    "ExecuteTime": {
     "end_time": "2022-10-20T15:15:58.926123Z",
     "start_time": "2022-10-20T15:15:58.909989Z"
    }
   },
   "outputs": [],
   "source": [
    "SMA_PKS1510_load=pd.read_csv(os.path.join(lagdata_dir_PKS1510,'SMA_PKS1510_modified.csv'))"
   ]
  },
  {
   "cell_type": "code",
   "execution_count": null,
   "metadata": {
    "ExecuteTime": {
     "end_time": "2022-10-20T15:15:59.348812Z",
     "start_time": "2022-10-20T15:15:59.340976Z"
    }
   },
   "outputs": [],
   "source": [
    "SMA_PKS1510_1mm=SMA_PKS1510_load[SMA_PKS1510_load['BAND']=='1mm'] #1mm 300GHz\n",
    "SMA_PKS1510_850=SMA_PKS1510_load[SMA_PKS1510_load['BAND']=='850'] #850mum 350GHz\n",
    "SMA_PKS1510_1mm=drop_index(SMA_PKS1510_1mm)\n",
    "SMA_PKS1510_850=drop_index(SMA_PKS1510_850)"
   ]
  },
  {
   "cell_type": "code",
   "execution_count": null,
   "metadata": {
    "ExecuteTime": {
     "end_time": "2022-10-20T15:16:00.982369Z",
     "start_time": "2022-10-20T15:16:00.973490Z"
    }
   },
   "outputs": [],
   "source": [
    "len(SMA_PKS1510_load),len(SMA_PKS1510_1mm),len(SMA_PKS1510_850)"
   ]
  },
  {
   "cell_type": "code",
   "execution_count": null,
   "metadata": {
    "ExecuteTime": {
     "end_time": "2022-09-16T02:14:27.752821Z",
     "start_time": "2022-09-16T02:14:27.743039Z"
    }
   },
   "outputs": [],
   "source": [
    "SMA_PKS1510_1mm.columns"
   ]
  },
  {
   "cell_type": "code",
   "execution_count": null,
   "metadata": {
    "ExecuteTime": {
     "end_time": "2022-09-16T02:14:28.194069Z",
     "start_time": "2022-09-16T02:14:28.187152Z"
    }
   },
   "outputs": [],
   "source": [
    "'%.1e GHz'%(3e8/1e-3/1e9),'%.1e GHz'%(3e8/850e-6/1e9)"
   ]
  },
  {
   "cell_type": "code",
   "execution_count": null,
   "metadata": {
    "ExecuteTime": {
     "end_time": "2022-09-16T02:14:33.099820Z",
     "start_time": "2022-09-16T02:14:31.900709Z"
    }
   },
   "outputs": [],
   "source": [
    "fig, ax = plt.subplots(1, 1,figsize=(8,6))\n",
    "\n",
    "ax.errorbar(SMA_PKS1510_1mm['mjd'],SMA_PKS1510_1mm['FLUX(JY)'],SMA_PKS1510_1mm['ERROR'],\n",
    "              ls=':',marker='.',markersize=10,color='r',label='SMA 300GHz')\n",
    "\n",
    "ax.errorbar(SMA_PKS1510_850['mjd'],SMA_PKS1510_850['FLUX(JY)'],SMA_PKS1510_850['ERROR'],\n",
    "              ls=':',marker='.',markersize=10,color='b',label='SMA 350GHz')\n",
    "\n",
    "    \n",
    "set_ax_tick(ax)  \n",
    "ax.set_title('PKS1510-089')\n",
    "ax.set_xlabel(r'MJD(d)')\n",
    "ax.set_ylabel(r'Flux')\n",
    "\n",
    "\n",
    "\n",
    "set_ax_legend(ax,bbox_to_anchor=(0.01,0.99))\n",
    "\n",
    "plot_secax(ax,mi_interval=365,ma_interval=365*2,rotation=30)    \n",
    "\n",
    "\n",
    "rangemin,rangemax=(54800,57200)\n",
    "ax.set_xlim(rangemin,rangemax)\n",
    "#save_lc_img_path='/Users/brettlv/Downloads/PKS1510_plot/SMA_calibrator_300GHz.png'\n",
    "save_lc_img_path='/Users/lyubing/IHEPBox/JetRM_plot/PKS1510_plot/SMA_calibrator_300GHz_%d_%d.png'%(rangemin,rangemax)\n",
    "plt.savefig(save_lc_img_path,dpi=400, transparent=False, bbox_inches='tight')\n",
    "#plt.close()"
   ]
  },
  {
   "cell_type": "markdown",
   "metadata": {},
   "source": [
    "## [SMARTS optical](http://www.astro.yale.edu/smarts/glast/home.php)"
   ]
  },
  {
   "cell_type": "code",
   "execution_count": null,
   "metadata": {
    "ExecuteTime": {
     "end_time": "2022-10-20T15:16:06.459806Z",
     "start_time": "2022-10-20T15:16:06.390570Z"
    }
   },
   "outputs": [],
   "source": [
    "SMARTS_PKS1510=Table.read('%s/1510-089.tab'%lagdata_dir_PKS1510,format='ascii')"
   ]
  },
  {
   "cell_type": "code",
   "execution_count": null,
   "metadata": {
    "ExecuteTime": {
     "end_time": "2022-09-30T06:05:51.860672Z",
     "start_time": "2022-09-30T06:05:51.853648Z"
    }
   },
   "outputs": [],
   "source": [
    "#B\t    B        B          V  \t    V        V          R  \t    R        R          J  \t    J        J          K  \t    K        K            \n",
    "#    JD start        JD start      mag      err      JD start      mag      err      JD start      mag      err      JD start      mag      err      JD start      mag      err"
   ]
  },
  {
   "cell_type": "code",
   "execution_count": null,
   "metadata": {
    "ExecuteTime": {
     "end_time": "2022-09-30T06:07:16.169379Z",
     "start_time": "2022-09-30T06:07:16.153951Z"
    }
   },
   "outputs": [],
   "source": [
    "SMARTS_PKS1510#.colnames"
   ]
  },
  {
   "cell_type": "code",
   "execution_count": null,
   "metadata": {},
   "outputs": [],
   "source": [
    "os.listdir(lagdata_dir_PKS1510)"
   ]
  },
  {
   "cell_type": "markdown",
   "metadata": {},
   "source": [
    "### SMARTS_PKS1510_all"
   ]
  },
  {
   "cell_type": "code",
   "execution_count": null,
   "metadata": {
    "ExecuteTime": {
     "end_time": "2022-10-20T15:16:11.713053Z",
     "start_time": "2022-10-20T15:16:11.690845Z"
    }
   },
   "outputs": [],
   "source": [
    "SMARTS_PKS1510B=SMARTS_PKS1510[['col1','col3','col4']]\n",
    "SMARTS_PKS1510B=SMARTS_PKS1510B[SMARTS_PKS1510B['col3']!=999.0]\n",
    "SMARTS_PKS1510B['mjd']=SMARTS_PKS1510B['col1']-2400000.5\n",
    "#SMARTS_PKS1510B=drop_index(SMARTS_PKS1510B)\n",
    "\n",
    "SMARTS_PKS1510V=SMARTS_PKS1510[['col5','col6','col7']]\n",
    "SMARTS_PKS1510V=SMARTS_PKS1510V[SMARTS_PKS1510V['col6']!=999.0]\n",
    "SMARTS_PKS1510V['mjd']=SMARTS_PKS1510V['col5']-2400000.5\n",
    "#SMARTS_PKS1510V=drop_index(SMARTS_PKS1510V)\n",
    "\n",
    "SMARTS_PKS1510R=SMARTS_PKS1510[['col8','col9','col10']]\n",
    "SMARTS_PKS1510R=SMARTS_PKS1510R[SMARTS_PKS1510R['col9']!=999.0]\n",
    "SMARTS_PKS1510R['mjd']=SMARTS_PKS1510R['col8']-2400000.5\n",
    "\n",
    "SMARTS_PKS1510J=SMARTS_PKS1510[['col11','col12','col13']]\n",
    "SMARTS_PKS1510J=SMARTS_PKS1510J[SMARTS_PKS1510J['col12']!=999.0]\n",
    "SMARTS_PKS1510J['mjd']=SMARTS_PKS1510J['col11']-2400000.5\n",
    "#SMARTS_PKS1510J=drop_index(SMARTS_PKS1510J)\n",
    "\n",
    "SMARTS_PKS1510K=SMARTS_PKS1510[['col14','col15','col16']]\n",
    "SMARTS_PKS1510K=SMARTS_PKS1510K[SMARTS_PKS1510K['col15']!=999.0]\n",
    "SMARTS_PKS1510K['mjd']=SMARTS_PKS1510K['col14']-2400000.5\n",
    "#SMARTS_PKS1510K=drop_index(SMARTS_PKS1510K)\n",
    "\n",
    "SMARTS_PKS1510_all_label=['B','V','R','J','K']\n",
    "SMARTS_PKS1510_all=[SMARTS_PKS1510B,SMARTS_PKS1510V,SMARTS_PKS1510R,SMARTS_PKS1510J,SMARTS_PKS1510K]"
   ]
  },
  {
   "cell_type": "code",
   "execution_count": null,
   "metadata": {
    "ExecuteTime": {
     "end_time": "2022-10-20T15:16:17.117901Z",
     "start_time": "2022-10-20T15:16:17.110334Z"
    }
   },
   "outputs": [],
   "source": [
    "for i in SMARTS_PKS1510_all:\n",
    "    print(len(i))"
   ]
  },
  {
   "cell_type": "markdown",
   "metadata": {},
   "source": [
    "## plot_mag_SMARTs"
   ]
  },
  {
   "cell_type": "code",
   "execution_count": null,
   "metadata": {
    "ExecuteTime": {
     "end_time": "2022-10-07T10:31:19.773159Z",
     "start_time": "2022-10-07T10:31:09.097225Z"
    }
   },
   "outputs": [],
   "source": [
    "figure_n= 5\n",
    "\n",
    "fig = plt.figure(figsize=(12,figure_n*3))\n",
    "fig.subplots_adjust(hspace=0.0, wspace = 0.0)\n",
    "\n",
    "ax = fig.add_subplot(figure_n,1,1)\n",
    "\n",
    "plotdata=SMARTS_PKS1510B\n",
    "\n",
    "for i in range(len(plotdata)):\n",
    "    colnames=plotdata.colnames\n",
    "    ax.errorbar(plotdata['mjd'][i],\n",
    "                plotdata[colnames[1]][i],\n",
    "                yerr=plotdata[colnames[2]][i],\n",
    "               ls=':',marker='.',color='r',markersize=10,label='B-SMARTs')\n",
    "\n",
    "\n",
    "        \n",
    "ax1 = fig.add_subplot(figure_n,1,2,sharex=ax)\n",
    "plotdata=SMARTS_PKS1510V\n",
    "for i in range(len(plotdata)):\n",
    "    colnames=plotdata.colnames\n",
    "    ax1.errorbar(plotdata['mjd'][i],\n",
    "                plotdata[colnames[1]][i],\n",
    "                yerr=plotdata[colnames[2]][i],\n",
    "               ls=':',marker='.',color='r',markersize=10,label='V-SMARTs')\n",
    "\n",
    "\n",
    "ax2 = fig.add_subplot(figure_n,1,3,sharex=ax)\n",
    "plotdata=SMARTS_PKS1510R\n",
    "for i in range(len(plotdata)):\n",
    "    colnames=plotdata.colnames\n",
    "    ax2.errorbar(plotdata['mjd'][i],\n",
    "                plotdata[colnames[1]][i],\n",
    "                yerr=plotdata[colnames[2]][i],\n",
    "               ls=':',marker='.',color='r',markersize=10,label='R-SMARTs')\n",
    "\n",
    "\n",
    "ax3 = fig.add_subplot(figure_n,1,4,sharex=ax)\n",
    "plotdata=SMARTS_PKS1510J\n",
    "for i in range(len(plotdata)):\n",
    "    colnames=plotdata.colnames\n",
    "    ax3.errorbar(plotdata['mjd'][i],\n",
    "                plotdata[colnames[1]][i],\n",
    "                yerr=plotdata[colnames[2]][i],\n",
    "               ls=':',marker='.',color='r',markersize=10,label='J-SMARTs')\n",
    "    \n",
    "    \n",
    "ax4 = fig.add_subplot(figure_n,1,5,sharex=ax)\n",
    "plotdata=SMARTS_PKS1510K\n",
    "for i in range(len(plotdata)):\n",
    "    colnames=plotdata.colnames\n",
    "    ax4.errorbar(plotdata['mjd'][i],\n",
    "                plotdata[colnames[1]][i],\n",
    "                yerr=plotdata[colnames[2]][i],\n",
    "               ls=':',marker='.',color='r',markersize=10,label='K-SMARTs')    \n",
    "\n",
    "axs=[ax,ax1,ax2,ax3,ax4]\n",
    "\n",
    "for ax_i in axs:\n",
    "    \n",
    "    set_ax_legend(ax_i,bbox_to_anchor=(0.01, 0.99))\n",
    "    set_mag_ylim(ax_i)\n",
    "    set_ax_tick(ax_i)\n",
    "    \n",
    "plot_secax(ax,mi_interval=30,ma_interval=90,rotation=30) \n",
    "\n",
    "#range_l,range_r=(54930+1,54970-1)\n",
    "#range_l,range_r=(54500+1,55100-1)\n",
    "range_l,range_r=(54500+1,55300-1)\n",
    "\n",
    "ax.set_xlim(range_l,range_r)\n",
    "#ax.set_ylim(0.1,9.9)\n",
    "save_lc_img_path='/Users/lyubing/IHEPBox/JetRM_plot/PKS1510_plot/PKS1510_SMARTS_%d_%d.png'%(range_l,range_r)\n",
    "#save_lc_img_path='/Users/brettlv/Downloads/PKS1510_plot/Mojave_15GHz_I_lc.png'\n",
    "plt.savefig(save_lc_img_path,dpi=400, transparent=False, bbox_inches='tight')\n",
    "#plt.close()\n"
   ]
  },
  {
   "cell_type": "markdown",
   "metadata": {},
   "source": [
    "## plot-color-lc"
   ]
  },
  {
   "cell_type": "code",
   "execution_count": null,
   "metadata": {
    "ExecuteTime": {
     "end_time": "2022-09-30T06:45:20.300133Z",
     "start_time": "2022-09-30T06:45:20.288684Z"
    }
   },
   "outputs": [],
   "source": [
    "band_num=4\n",
    "for i in range(band_num):\n",
    "    for j in range(band_num):\n",
    "        if i<j:\n",
    "            print(i,j)"
   ]
  },
  {
   "cell_type": "code",
   "execution_count": null,
   "metadata": {
    "ExecuteTime": {
     "end_time": "2022-09-30T06:45:12.420540Z",
     "start_time": "2022-09-30T06:45:12.410260Z"
    }
   },
   "outputs": [],
   "source": [
    "band_num=5\n",
    "for i in range(band_num):\n",
    "    for j in range(band_num):\n",
    "        if i<j:\n",
    "            print(i,j)"
   ]
  },
  {
   "cell_type": "code",
   "execution_count": null,
   "metadata": {
    "ExecuteTime": {
     "end_time": "2022-09-30T06:46:02.668318Z",
     "start_time": "2022-09-30T06:46:02.658069Z"
    }
   },
   "outputs": [],
   "source": [
    "band_num=5\n",
    "for i in range(band_num):\n",
    "    for j in range(band_num):\n",
    "        if i-j==-1:\n",
    "            print(i,j)"
   ]
  },
  {
   "cell_type": "markdown",
   "metadata": {},
   "source": [
    "### (54500+1,55300-1) "
   ]
  },
  {
   "cell_type": "code",
   "execution_count": null,
   "metadata": {
    "ExecuteTime": {
     "end_time": "2022-10-07T10:31:37.998672Z",
     "start_time": "2022-10-07T10:31:33.883477Z"
    },
    "scrolled": false
   },
   "outputs": [],
   "source": [
    "figure_n= 10\n",
    "fig = plt.figure(figsize=(12,figure_n*3))\n",
    "fig.subplots_adjust(hspace=0.0, wspace = 0.0)\n",
    "\n",
    "plot_i=1\n",
    "for i in range(5):\n",
    "    for j in range(5):\n",
    "        if i<j:\n",
    "            index_pair=[i,j]\n",
    "\n",
    "            data1=SMARTS_PKS1510_all[index_pair[0]]\n",
    "            label1=SMARTS_PKS1510_all_label[index_pair[0]]\n",
    "            time1=data1['mjd']\n",
    "            Lum1=data1[data1.colnames[1]]\n",
    "\n",
    "            data2=SMARTS_PKS1510_all[index_pair[1]]\n",
    "            label2=SMARTS_PKS1510_all_label[index_pair[1]]\n",
    "            time2=data2['mjd']\n",
    "            Lum2=data2[data2.colnames[1]]\n",
    "\n",
    "            time1s,Lum1s,time2s,Lum2s = get_quasi_sim_lum_correlation(time1,Lum1,time2,Lum2,timebin=1.0)\n",
    "\n",
    "            if plot_i==1:\n",
    "                ax = fig.add_subplot(figure_n,1,plot_i)\n",
    "            \n",
    "                ax.errorbar(time1s,Lum1s-Lum2s,\n",
    "                   ls=':',marker='.',color='r',markersize=10,label='%s-%s'%(label1,label2))\n",
    "                set_ax_legend(ax)\n",
    "                set_ax_tick(ax)\n",
    "                set_mag_ylim(ax)\n",
    "                \n",
    "\n",
    "            else:\n",
    "                ax1 = fig.add_subplot(figure_n,1,plot_i,sharex=ax)           \n",
    "                ax1.errorbar(time1s,Lum1s-Lum2s,\n",
    "                   ls=':',marker='.',color='r',markersize=10,label='%s-%s'%(label1,label2))\n",
    "                set_ax_legend(ax1)\n",
    "                set_ax_tick(ax1)\n",
    "                #set_mag_ylim(ax1)\n",
    "                \n",
    "\n",
    "            plot_i=plot_i+1\n",
    "\n",
    "range_l,range_r=(54500+1,55300-1) \n",
    "#range_l,range_r=(55900+1,56100-1) \n",
    "ax.set_xlim(range_l,range_r)\n",
    "plot_secax(ax,mi_interval=30,ma_interval=90,rotation=30) \n",
    "\n",
    "save_lc_img_path='/Users/lyubing/IHEPBox/JetRM_plot/PKS1510_plot/PKS1510_SMARTS_color_%d_%d.png'%(range_l,range_r)\n",
    "#save_lc_img_path='/Users/brettlv/Downloads/PKS1510_plot/Mojave_15GHz_I_lc.png'\n",
    "plt.savefig(save_lc_img_path,dpi=400, transparent=False, bbox_inches='tight')\n",
    "#plt.close()\n",
    "\n"
   ]
  },
  {
   "cell_type": "markdown",
   "metadata": {},
   "source": [
    "### (55900+1,56100-1) "
   ]
  },
  {
   "cell_type": "code",
   "execution_count": null,
   "metadata": {
    "ExecuteTime": {
     "end_time": "2022-09-30T07:39:11.559850Z",
     "start_time": "2022-09-30T07:39:08.428285Z"
    },
    "scrolled": false
   },
   "outputs": [],
   "source": [
    "figure_n= 10\n",
    "fig = plt.figure(figsize=(12,figure_n*3))\n",
    "fig.subplots_adjust(hspace=0.0, wspace = 0.0)\n",
    "\n",
    "plot_i=1\n",
    "for i in range(5):\n",
    "    for j in range(5):\n",
    "        if i<j:\n",
    "            index_pair=[i,j]\n",
    "\n",
    "            data1=SMARTS_PKS1510_all[index_pair[0]]\n",
    "            label1=SMARTS_PKS1510_all_label[index_pair[0]]\n",
    "            time1=data1['mjd']\n",
    "            Lum1=data1[data1.colnames[1]]\n",
    "\n",
    "            data2=SMARTS_PKS1510_all[index_pair[1]]\n",
    "            label2=SMARTS_PKS1510_all_label[index_pair[1]]\n",
    "            time2=data2['mjd']\n",
    "            Lum2=data2[data2.colnames[1]]\n",
    "\n",
    "            time1s,Lum1s,time2s,Lum2s = get_quasi_sim_lum_correlation(time1,Lum1,time2,Lum2,timebin=1.0)\n",
    "\n",
    "            if plot_i==1:\n",
    "                ax = fig.add_subplot(figure_n,1,plot_i)\n",
    "            \n",
    "                ax.errorbar(time1s,Lum1s-Lum2s,\n",
    "                   ls=':',marker='.',color='r',markersize=10,label='%s-%s'%(label1,label2))\n",
    "                set_ax_legend(ax)\n",
    "                set_ax_tick(ax)\n",
    "                set_mag_ylim(ax)\n",
    "                \n",
    "\n",
    "            else:\n",
    "                ax1 = fig.add_subplot(figure_n,1,plot_i,sharex=ax)           \n",
    "                ax1.errorbar(time1s,Lum1s-Lum2s,\n",
    "                   ls=':',marker='.',color='r',markersize=10,label='%s-%s'%(label1,label2))\n",
    "                set_ax_legend(ax1)\n",
    "                set_ax_tick(ax1)\n",
    "                #set_mag_ylim(ax1)\n",
    "                \n",
    "\n",
    "            plot_i=plot_i+1\n",
    "\n",
    "#range_l,range_r=(54500+1,55300-1) \n",
    "range_l,range_r=(55900+1,56100-1) \n",
    "ax.set_xlim(range_l,range_r)\n",
    "plot_secax(ax,mi_interval=30,ma_interval=90,rotation=30) \n",
    "\n",
    "save_lc_img_path='/Users/lyubing/IHEPBox/JetRM_plot/PKS1510_plot/PKS1510_SMARTS_color_%d_%d.png'%(range_l,range_r)\n",
    "#save_lc_img_path='/Users/brettlv/Downloads/PKS1510_plot/Mojave_15GHz_I_lc.png'\n",
    "plt.savefig(save_lc_img_path,dpi=400, transparent=False, bbox_inches='tight')\n",
    "#plt.close()\n",
    "\n"
   ]
  },
  {
   "cell_type": "markdown",
   "metadata": {},
   "source": [
    "### colorall (57100+1,57300-1) "
   ]
  },
  {
   "cell_type": "code",
   "execution_count": null,
   "metadata": {},
   "outputs": [],
   "source": [
    "figure_n= 10\n",
    "fig = plt.figure(figsize=(12,figure_n*3))\n",
    "fig.subplots_adjust(hspace=0.0, wspace = 0.0)\n",
    "\n",
    "plot_i=1\n",
    "for i in range(5):\n",
    "    for j in range(5):\n",
    "        if i<j:\n",
    "            index_pair=[i,j]\n",
    "\n",
    "            data1=SMARTS_PKS1510_all[index_pair[0]]\n",
    "            label1=SMARTS_PKS1510_all_label[index_pair[0]]\n",
    "            time1=data1['mjd']\n",
    "            Lum1=data1[data1.colnames[1]]\n",
    "\n",
    "            data2=SMARTS_PKS1510_all[index_pair[1]]\n",
    "            label2=SMARTS_PKS1510_all_label[index_pair[1]]\n",
    "            time2=data2['mjd']\n",
    "            Lum2=data2[data2.colnames[1]]\n",
    "\n",
    "            time1s,Lum1s,time2s,Lum2s = get_quasi_sim_lum_correlation(time1,Lum1,time2,Lum2,timebin=1.0)\n",
    "\n",
    "            if plot_i==1:\n",
    "                ax = fig.add_subplot(figure_n,1,plot_i)\n",
    "            \n",
    "                ax.errorbar(time1s,Lum1s-Lum2s,\n",
    "                   ls=':',marker='.',color='r',markersize=10,label='%s-%s'%(label1,label2))\n",
    "                set_ax_legend(ax)\n",
    "                set_ax_tick(ax)\n",
    "                set_mag_ylim(ax)\n",
    "                \n",
    "\n",
    "            else:\n",
    "                ax1 = fig.add_subplot(figure_n,1,plot_i,sharex=ax)           \n",
    "                ax1.errorbar(time1s,Lum1s-Lum2s,\n",
    "                   ls=':',marker='.',color='r',markersize=10,label='%s-%s'%(label1,label2))\n",
    "                set_ax_legend(ax1)\n",
    "                set_ax_tick(ax1)\n",
    "                #set_mag_ylim(ax1)\n",
    "                \n",
    "\n",
    "            plot_i=plot_i+1\n",
    "\n",
    "#range_l,range_r=(54500+1,55300-1) \n",
    "range_l,range_r=(57100+1,57300-1) \n",
    "ax.set_xlim(range_l,range_r)\n",
    "plot_secax(ax,mi_interval=30,ma_interval=90,rotation=30) \n",
    "\n",
    "save_lc_img_path='/Users/lyubing/IHEPBox/JetRM_plot/PKS1510_plot/PKS1510_SMARTS_color_%d_%d.png'%(range_l,range_r)\n",
    "#save_lc_img_path='/Users/brettlv/Downloads/PKS1510_plot/Mojave_15GHz_I_lc.png'\n",
    "plt.savefig(save_lc_img_path,dpi=400, transparent=False, bbox_inches='tight')\n",
    "#plt.close()\n",
    "\n"
   ]
  },
  {
   "cell_type": "markdown",
   "metadata": {},
   "source": [
    "### -1"
   ]
  },
  {
   "cell_type": "code",
   "execution_count": null,
   "metadata": {
    "ExecuteTime": {
     "end_time": "2022-09-30T07:03:10.390213Z",
     "start_time": "2022-09-30T07:03:07.406215Z"
    }
   },
   "outputs": [],
   "source": [
    "figure_n= 4\n",
    "fig = plt.figure(figsize=(12,figure_n*3))\n",
    "fig.subplots_adjust(hspace=0.0, wspace = 0.0)\n",
    "\n",
    "plot_i=1\n",
    "for i in range(5):\n",
    "    for j in range(5):\n",
    "        if i-j==-1:\n",
    "            index_pair=[i,j]\n",
    "\n",
    "            data1=SMARTS_PKS1510_all[index_pair[0]]\n",
    "            label1=SMARTS_PKS1510_all_label[index_pair[0]]\n",
    "            time1=data1['mjd']\n",
    "            Lum1=data1[data1.colnames[1]]\n",
    "\n",
    "            data2=SMARTS_PKS1510_all[index_pair[1]]\n",
    "            label2=SMARTS_PKS1510_all_label[index_pair[1]]\n",
    "            time2=data2['mjd']\n",
    "            Lum2=data2[data2.colnames[1]]\n",
    "\n",
    "            time1s,Lum1s,time2s,Lum2s = get_quasi_sim_lum_correlation(time1,Lum1,time2,Lum2,timebin=0.1)\n",
    "\n",
    "            if plot_i==1:\n",
    "                ax = fig.add_subplot(figure_n,1,plot_i)\n",
    "            \n",
    "                ax.errorbar(time1s,Lum1s-Lum2s,\n",
    "                   ls=':',marker='.',color='r',markersize=10,label='%s-%s'%(label1,label2))\n",
    "                set_ax_legend(ax)\n",
    "                set_ax_tick(ax)\n",
    "                set_mag_ylim(ax)\n",
    "                \n",
    "\n",
    "            else:\n",
    "                ax1 = fig.add_subplot(figure_n,1,plot_i,sharex=ax)           \n",
    "                ax1.errorbar(time1s,Lum1s-Lum2s,\n",
    "                   ls=':',marker='.',color='r',markersize=10,label='%s-%s'%(label1,label2))\n",
    "                set_ax_legend(ax1)\n",
    "                set_ax_tick(ax1)\n",
    "                #set_mag_ylim(ax1)\n",
    "                \n",
    "\n",
    "            plot_i=plot_i+1\n",
    "range_l,range_r=(54500+1,55300-1)    \n",
    "ax.set_xlim(range_l,range_r)\n",
    "plot_secax(ax,mi_interval=30,ma_interval=90,rotation=30) \n",
    "\n",
    "save_lc_img_path='/Users/lyubing/IHEPBox/JetRM_plot/PKS1510_plot/PKS1510_SMARTS_color_1_%d_%d.png'%(range_l,range_r)\n",
    "#save_lc_img_path='/Users/brettlv/Downloads/PKS1510_plot/Mojave_15GHz_I_lc.png'\n",
    "plt.savefig(save_lc_img_path,dpi=400, transparent=False, bbox_inches='tight')\n",
    "#plt.close()\n",
    "\n"
   ]
  },
  {
   "cell_type": "code",
   "execution_count": null,
   "metadata": {},
   "outputs": [],
   "source": []
  },
  {
   "cell_type": "code",
   "execution_count": null,
   "metadata": {},
   "outputs": [],
   "source": []
  },
  {
   "cell_type": "code",
   "execution_count": null,
   "metadata": {},
   "outputs": [],
   "source": [
    "## lag"
   ]
  },
  {
   "cell_type": "code",
   "execution_count": null,
   "metadata": {
    "ExecuteTime": {
     "end_time": "2022-09-23T07:03:29.740919Z",
     "start_time": "2022-09-23T07:03:29.728718Z"
    }
   },
   "outputs": [],
   "source": [
    "SMARTS_PKS1510V.colnames"
   ]
  },
  {
   "cell_type": "code",
   "execution_count": null,
   "metadata": {
    "ExecuteTime": {
     "end_time": "2022-09-23T07:05:27.067151Z",
     "start_time": "2022-09-23T07:05:27.052451Z"
    }
   },
   "outputs": [],
   "source": [
    "table_SMARTS_PKS1510V=SMARTS_PKS1510V.to_pandas()\n",
    "table_SMARTS_PKS1510V=fermi_monitor_Vmag_to_flux(table_SMARTS_PKS1510V,table_SMARTS_PKS1510V.columns[1],table_SMARTS_PKS1510V.columns[2],D_cm_PKS1510)\n"
   ]
  },
  {
   "cell_type": "code",
   "execution_count": null,
   "metadata": {
    "ExecuteTime": {
     "end_time": "2022-09-23T07:07:43.687581Z",
     "start_time": "2022-09-23T07:07:43.662321Z"
    }
   },
   "outputs": [],
   "source": [
    "table_SMARTS_PKS1510V"
   ]
  },
  {
   "cell_type": "code",
   "execution_count": null,
   "metadata": {},
   "outputs": [],
   "source": []
  },
  {
   "cell_type": "markdown",
   "metadata": {
    "ExecuteTime": {
     "end_time": "2022-09-19T13:14:37.194240Z",
     "start_time": "2022-09-19T13:14:37.183352Z"
    }
   },
   "source": [
    "SMARTS_PKS1510V"
   ]
  },
  {
   "cell_type": "code",
   "execution_count": null,
   "metadata": {
    "ExecuteTime": {
     "end_time": "2022-09-23T07:07:12.248794Z",
     "start_time": "2022-09-23T07:07:12.225817Z"
    }
   },
   "outputs": [],
   "source": [
    "SMARTS_PKS1510R.colnames"
   ]
  },
  {
   "cell_type": "code",
   "execution_count": null,
   "metadata": {
    "ExecuteTime": {
     "end_time": "2022-09-23T07:07:28.428327Z",
     "start_time": "2022-09-23T07:07:28.414509Z"
    }
   },
   "outputs": [],
   "source": [
    "table_SMARTS_PKS1510R=SMARTS_PKS1510R.to_pandas()\n",
    "table_SMARTS_PKS1510R=fermi_monitor_Rmag_to_flux(table_SMARTS_PKS1510R,table_SMARTS_PKS1510R.columns[1],table_SMARTS_PKS1510R.columns[2],D_cm_PKS1510)\n"
   ]
  },
  {
   "cell_type": "markdown",
   "metadata": {
    "ExecuteTime": {
     "end_time": "2022-09-23T07:07:49.946480Z",
     "start_time": "2022-09-23T07:07:49.925015Z"
    }
   },
   "source": [
    "table_SMARTS_PKS1510R"
   ]
  },
  {
   "cell_type": "code",
   "execution_count": null,
   "metadata": {},
   "outputs": [],
   "source": []
  },
  {
   "cell_type": "code",
   "execution_count": null,
   "metadata": {},
   "outputs": [],
   "source": []
  },
  {
   "cell_type": "code",
   "execution_count": null,
   "metadata": {},
   "outputs": [],
   "source": []
  },
  {
   "cell_type": "code",
   "execution_count": null,
   "metadata": {},
   "outputs": [],
   "source": []
  },
  {
   "cell_type": "code",
   "execution_count": null,
   "metadata": {
    "ExecuteTime": {
     "end_time": "2022-09-19T13:13:18.908800Z",
     "start_time": "2022-09-19T13:13:18.896254Z"
    }
   },
   "outputs": [],
   "source": [
    "get_info(SMARTS_PKS1510R,'col9',label_err=None)"
   ]
  },
  {
   "cell_type": "code",
   "execution_count": null,
   "metadata": {},
   "outputs": [],
   "source": []
  },
  {
   "cell_type": "code",
   "execution_count": null,
   "metadata": {},
   "outputs": [],
   "source": []
  },
  {
   "cell_type": "code",
   "execution_count": null,
   "metadata": {},
   "outputs": [],
   "source": []
  },
  {
   "cell_type": "code",
   "execution_count": null,
   "metadata": {},
   "outputs": [],
   "source": []
  },
  {
   "cell_type": "code",
   "execution_count": null,
   "metadata": {
    "ExecuteTime": {
     "end_time": "2022-09-19T13:59:18.578572Z",
     "start_time": "2022-09-19T13:59:18.332689Z"
    }
   },
   "outputs": [],
   "source": [
    "!open /Users/lyubing/IHEPBox/JetRM_plot/PKS1510_plot"
   ]
  },
  {
   "cell_type": "code",
   "execution_count": null,
   "metadata": {},
   "outputs": [],
   "source": []
  },
  {
   "cell_type": "code",
   "execution_count": null,
   "metadata": {},
   "outputs": [],
   "source": []
  },
  {
   "cell_type": "markdown",
   "metadata": {},
   "source": [
    "## plot_color_mag"
   ]
  },
  {
   "cell_type": "markdown",
   "metadata": {},
   "source": [
    "### -1"
   ]
  },
  {
   "cell_type": "code",
   "execution_count": null,
   "metadata": {
    "ExecuteTime": {
     "end_time": "2022-10-07T11:08:43.038967Z",
     "start_time": "2022-10-07T11:08:42.308482Z"
    }
   },
   "outputs": [],
   "source": [
    "figure_n= 4\n",
    "fig = plt.figure(figsize=(4,figure_n*3))\n",
    "fig.subplots_adjust(hspace=0.3, wspace = 0.0)\n",
    "\n",
    "plot_i=1\n",
    "for i in range(5):\n",
    "    for j in range(5):\n",
    "        if i-j==-1:\n",
    "            index_pair=[i,j]\n",
    "\n",
    "            data1=SMARTS_PKS1510_all[index_pair[0]]\n",
    "            label1=SMARTS_PKS1510_all_label[index_pair[0]]\n",
    "            time1=data1['mjd']\n",
    "            Lum1=data1[data1.colnames[1]]\n",
    "\n",
    "            data2=SMARTS_PKS1510_all[index_pair[1]]\n",
    "            label2=SMARTS_PKS1510_all_label[index_pair[1]]\n",
    "            time2=data2['mjd']\n",
    "            Lum2=data2[data2.colnames[1]]\n",
    "\n",
    "            time1s,Lum1s,time2s,Lum2s = get_quasi_sim_lum_correlation(time1,Lum1,time2,Lum2,timebin=0.1)\n",
    "\n",
    "            if plot_i==1:\n",
    "                ax = fig.add_subplot(figure_n,1,plot_i)\n",
    "            \n",
    "                ax.errorbar(Lum1s,Lum1s-Lum2s,\n",
    "                   ls=':',marker='.',color='r',markersize=10,label='%s-%s'%(label1,label2))\n",
    "                \n",
    "                set_ax_tick(ax)\n",
    "                ax.set_xlabel(label1)\n",
    "                set_ax_legend(ax)\n",
    "                set_mag_xlim(ax)\n",
    "                #set_mag_ylim(ax)\n",
    "                \n",
    "\n",
    "            else:\n",
    "                ax1 = fig.add_subplot(figure_n,1,plot_i)           \n",
    "                ax1.errorbar(Lum1s,Lum1s-Lum2s,\n",
    "                   ls=':',marker='.',color='r',markersize=10,label='%s-%s'%(label1,label2))\n",
    "                \n",
    "                set_ax_tick(ax1)\n",
    "                ax1.set_xlabel(label1)\n",
    "                set_ax_legend(ax1)\n",
    "                set_mag_xlim(ax1)\n",
    "                #set_mag_ylim(ax1)\n",
    "                \n",
    "            plot_i=plot_i+1\n",
    "            \n",
    "range_l,range_r=(54500+1,55300-1)    \n",
    "#ax.set_xlim(range_l,range_r)\n",
    "#plot_secax(ax,mi_interval=30,ma_interval=90,rotation=30) \n",
    "\n",
    "save_lc_img_path='/Users/lyubing/IHEPBox/JetRM_plot/PKS1510_plot/PKS1510_SMARTS_Mag_color_1_%d_%d.png'%(range_l,range_r)\n",
    "#save_lc_img_path='/Users/brettlv/Downloads/PKS1510_plot/Mojave_15GHz_I_lc.png'\n",
    "plt.savefig(save_lc_img_path,dpi=400, transparent=False, bbox_inches='tight')\n",
    "#plt.close()\n",
    "\n"
   ]
  },
  {
   "cell_type": "markdown",
   "metadata": {},
   "source": [
    "### colorall"
   ]
  },
  {
   "cell_type": "code",
   "execution_count": null,
   "metadata": {
    "ExecuteTime": {
     "end_time": "2022-10-07T10:58:10.894760Z",
     "start_time": "2022-10-07T10:58:09.195528Z"
    },
    "scrolled": false
   },
   "outputs": [],
   "source": [
    "figure_n= 10\n",
    "fig = plt.figure(figsize=(4,figure_n*3))\n",
    "fig.subplots_adjust(hspace=0.3, wspace = 0.0)\n",
    "\n",
    "plot_i=1\n",
    "for i in range(5):\n",
    "    for j in range(5):\n",
    "        if i<j:\n",
    "            index_pair=[i,j]\n",
    "\n",
    "            data1=SMARTS_PKS1510_all[index_pair[0]]\n",
    "            label1=SMARTS_PKS1510_all_label[index_pair[0]]\n",
    "            time1=data1['mjd']\n",
    "            Lum1=data1[data1.colnames[1]]\n",
    "\n",
    "            data2=SMARTS_PKS1510_all[index_pair[1]]\n",
    "            label2=SMARTS_PKS1510_all_label[index_pair[1]]\n",
    "            time2=data2['mjd']\n",
    "            Lum2=data2[data2.colnames[1]]\n",
    "\n",
    "            time1s,Lum1s,time2s,Lum2s = get_quasi_sim_lum_correlation(time1,Lum1,time2,Lum2,timebin=0.1)\n",
    "\n",
    "            if plot_i==1:\n",
    "                ax = fig.add_subplot(figure_n,1,plot_i)\n",
    "            \n",
    "                ax.errorbar(Lum1s,Lum1s-Lum2s,\n",
    "                   ls=':',marker='.',color='r',markersize=10,label='%s-%s'%(label1,label2))\n",
    "                \n",
    "                set_ax_tick(ax)\n",
    "                ax.set_xlabel(label1)\n",
    "                set_ax_legend(ax)\n",
    "                set_mag_xlim(ax)\n",
    "                #set_mag_ylim(ax)\n",
    "                \n",
    "\n",
    "            else:\n",
    "                ax1 = fig.add_subplot(figure_n,1,plot_i)           \n",
    "                ax1.errorbar(Lum1s,Lum1s-Lum2s,\n",
    "                   ls=':',marker='.',color='r',markersize=10,label='%s-%s'%(label1,label2))\n",
    "                \n",
    "                set_ax_tick(ax1)\n",
    "                ax1.set_xlabel(label1)\n",
    "                set_ax_legend(ax1)\n",
    "                set_mag_xlim(ax1)\n",
    "                #set_mag_ylim(ax1)\n",
    "                \n",
    "            plot_i=plot_i+1\n",
    "            \n",
    "range_l,range_r=(54500+1,55300-1)    \n",
    "#ax.set_xlim(range_l,range_r)\n",
    "#plot_secax(ax,mi_interval=30,ma_interval=90,rotation=30) \n",
    "\n",
    "save_lc_img_path='/Users/lyubing/IHEPBox/JetRM_plot/PKS1510_plot/PKS1510_SMARTS_Mag_color_%d_%d.png'%(range_l,range_r)\n",
    "#save_lc_img_path='/Users/brettlv/Downloads/PKS1510_plot/Mojave_15GHz_I_lc.png'\n",
    "plt.savefig(save_lc_img_path,dpi=400, transparent=False, bbox_inches='tight')\n",
    "#plt.close()\n",
    "\n"
   ]
  },
  {
   "cell_type": "code",
   "execution_count": null,
   "metadata": {},
   "outputs": [],
   "source": []
  },
  {
   "cell_type": "code",
   "execution_count": null,
   "metadata": {},
   "outputs": [],
   "source": []
  },
  {
   "cell_type": "markdown",
   "metadata": {},
   "source": [
    "## Spectroscopic_PKS1510"
   ]
  },
  {
   "cell_type": "markdown",
   "metadata": {},
   "source": [
    "### flux_scale_PKS1510"
   ]
  },
  {
   "cell_type": "code",
   "execution_count": null,
   "metadata": {
    "ExecuteTime": {
     "end_time": "2022-10-20T15:16:48.138186Z",
     "start_time": "2022-10-20T15:16:48.129635Z"
    }
   },
   "outputs": [],
   "source": [
    "D_cm_PKS1510=cosmo.luminosity_distance(0.361).to(u.cm)\n",
    "flux_scale_5100_PKS1510=4*np.pi*(D_cm_PKS1510.value)**2*1.0e-15 # erg s−1 cm−2 Å−1\n",
    "flux_scale_Hbeta_PKS1510=4*np.pi*(D_cm_PKS1510.value)**2*1.0e-15 #erg s−1 cm−2"
   ]
  },
  {
   "cell_type": "code",
   "execution_count": null,
   "metadata": {
    "ExecuteTime": {
     "end_time": "2022-10-20T15:16:28.557929Z",
     "start_time": "2022-10-20T15:16:28.536290Z"
    }
   },
   "outputs": [],
   "source": [
    "table_PKS1510_path=os.path.join(data_dir_PKS1510,'table1.dat')\n",
    "readme_PKS1510_path=os.path.join(data_dir_PKS1510,'ReadMe')\n",
    "data_PKS1510=Table.read(table_PKS1510_path,\n",
    "                      readme=readme_PKS1510_path,\n",
    "                      format=\"ascii.cds\",)\n"
   ]
  },
  {
   "cell_type": "code",
   "execution_count": null,
   "metadata": {
    "ExecuteTime": {
     "end_time": "2022-09-19T12:53:22.181365Z",
     "start_time": "2022-09-19T12:53:22.172966Z"
    }
   },
   "outputs": [],
   "source": [
    "readme_PKS1510_path"
   ]
  },
  {
   "cell_type": "code",
   "execution_count": null,
   "metadata": {
    "ExecuteTime": {
     "end_time": "2022-09-19T12:53:24.919011Z",
     "start_time": "2022-09-19T12:53:24.755767Z"
    }
   },
   "outputs": [],
   "source": [
    "cat '/Volumes/ExtremeSSD/00PKU_SCI/FermiAGN_lag/lag_data/PKS 1510-089 spectroscopic light curvesJ_A+A_642_A59/ReadMe'"
   ]
  },
  {
   "cell_type": "markdown",
   "metadata": {},
   "source": [
    "## PKS1510_NTD"
   ]
  },
  {
   "cell_type": "code",
   "execution_count": null,
   "metadata": {
    "ExecuteTime": {
     "end_time": "2022-10-20T15:17:10.943190Z",
     "start_time": "2022-10-20T15:17:10.930090Z"
    }
   },
   "outputs": [],
   "source": [
    "data_PKS1510['L5100']= data_PKS1510['F5100']*flux_scale_5100_PKS1510*5100 #4*np.pi*D_cm_PKS1510**2*\n",
    "data_PKS1510['logL5100']=np.log10(data_PKS1510['L5100'])\n",
    "data_PKS1510['LHb']=data_PKS1510['FHb']*flux_scale_Hbeta_PKS1510 #4*np.pi*D_cm_PKS1510**2*\n",
    "data_PKS1510['logLHb']=np.log10(data_PKS1510['LHb'])\n",
    "data_PKS1510['logLp']= (data_PKS1510['logLHb']+4.41)/1.057\n",
    "data_PKS1510['Lp']=10**(data_PKS1510['logLp'])\n",
    "data_PKS1510['NTD']=data_PKS1510['L5100']/data_PKS1510['Lp']\n",
    "data_PKS1510['L5100minusLp']=data_PKS1510['L5100']-data_PKS1510['Lp']"
   ]
  },
  {
   "cell_type": "markdown",
   "metadata": {},
   "source": [
    "## Pol_PKS1510"
   ]
  },
  {
   "cell_type": "code",
   "execution_count": null,
   "metadata": {
    "ExecuteTime": {
     "end_time": "2022-10-21T03:32:25.163993Z",
     "start_time": "2022-10-21T03:32:24.887425Z"
    }
   },
   "outputs": [],
   "source": [
    "source_Name='PKS 1510-08'\n",
    "Poldata_source_PKS1510=get_Poldata_name(source_Name)\n",
    "Poldata_source_PKS1510['snr']=Poldata_source_PKS1510[Poldata_source_PKS1510.columns[9]]/Poldata_source_PKS1510[Poldata_source_PKS1510.columns[10]]\n",
    "Poldata_source_PKS1510_snr=Poldata_source_PKS1510[Poldata_source_PKS1510['snr']>5]\n",
    "Poldata_source_PKS1510_snr=drop_index(Poldata_source_PKS1510_snr)"
   ]
  },
  {
   "cell_type": "code",
   "execution_count": null,
   "metadata": {
    "ExecuteTime": {
     "end_time": "2022-10-21T03:32:27.597732Z",
     "start_time": "2022-10-21T03:32:27.566690Z"
    }
   },
   "outputs": [],
   "source": [
    "Poldata_source_PKS1510_snr"
   ]
  },
  {
   "cell_type": "code",
   "execution_count": null,
   "metadata": {},
   "outputs": [],
   "source": []
  },
  {
   "cell_type": "code",
   "execution_count": null,
   "metadata": {},
   "outputs": [],
   "source": []
  },
  {
   "cell_type": "code",
   "execution_count": null,
   "metadata": {
    "ExecuteTime": {
     "end_time": "2022-10-14T03:01:55.933728Z",
     "start_time": "2022-10-14T03:01:55.923759Z"
    }
   },
   "outputs": [],
   "source": [
    "range_l_mask_time_PKS1510,range_r_mask_time_PKS1510=(55000,57100)\n",
    "mask_time_PKS1510=np.logical_and(data_PKS1510['MJD']>=range_l_mask_time_PKS1510,data_PKS1510['MJD']<range_r_mask_time_PKS1510)\n",
    "data_PKS1510_select=data_PKS1510[mask_time_PKS1510]"
   ]
  },
  {
   "cell_type": "code",
   "execution_count": null,
   "metadata": {
    "ExecuteTime": {
     "end_time": "2022-10-14T03:02:00.074618Z",
     "start_time": "2022-10-14T03:02:00.064658Z"
    }
   },
   "outputs": [],
   "source": [
    "get_info(data_PKS1510,'NTD')"
   ]
  },
  {
   "cell_type": "code",
   "execution_count": null,
   "metadata": {
    "ExecuteTime": {
     "end_time": "2022-10-14T03:02:06.121693Z",
     "start_time": "2022-10-14T03:02:06.111614Z"
    }
   },
   "outputs": [],
   "source": [
    "get_info(data_PKS1510_select,'NTD')"
   ]
  },
  {
   "cell_type": "markdown",
   "metadata": {},
   "source": [
    "### plot LHbeta_L5100"
   ]
  },
  {
   "cell_type": "code",
   "execution_count": null,
   "metadata": {
    "ExecuteTime": {
     "end_time": "2022-10-13T14:14:22.237887Z",
     "start_time": "2022-10-13T14:14:22.227378Z"
    }
   },
   "outputs": [],
   "source": [
    "data_PKS1510.colnames"
   ]
  },
  {
   "cell_type": "code",
   "execution_count": null,
   "metadata": {
    "ExecuteTime": {
     "end_time": "2022-09-16T01:38:24.683764Z",
     "start_time": "2022-09-16T01:38:24.672816Z"
    }
   },
   "outputs": [],
   "source": [
    "D_cm_PKS1510.value"
   ]
  },
  {
   "cell_type": "code",
   "execution_count": null,
   "metadata": {
    "ExecuteTime": {
     "end_time": "2022-10-28T07:11:24.794060Z",
     "start_time": "2022-10-28T07:11:24.783106Z"
    }
   },
   "outputs": [],
   "source": [
    "flux_label_PKS1510=data_PKS1510.colnames[1]\n",
    "e_flux_label_PKS1510=data_PKS1510.colnames[2]\n",
    "flux_label_1_PKS1510=data_PKS1510.colnames[3]\n",
    "e_flux_label_1_PKS1510=data_PKS1510.colnames[4]\n",
    "print(flux_label_PKS1510,e_flux_label_PKS1510)\n",
    "print(flux_label_1_PKS1510,e_flux_label_1_PKS1510)"
   ]
  },
  {
   "cell_type": "code",
   "execution_count": null,
   "metadata": {
    "ExecuteTime": {
     "end_time": "2022-10-13T14:03:10.277850Z",
     "start_time": "2022-10-13T14:03:09.776080Z"
    }
   },
   "outputs": [],
   "source": [
    "fig, ax = plt.subplots(1, 1,figsize=(6,6))\n",
    "\n",
    "'''for i in range(len(Wu2004_LHbeta_L5100)):\n",
    "    flux_and_err=Wu2004_LHbeta_L5100.loc[i,Wu2004_LHbeta_L5100.columns[4]]\n",
    "    flux=flux_and_err.split('$\\pm$')[0]\n",
    "    err_flux=flux_and_err.split('$\\pm$')[1]\n",
    "    \n",
    "    flux_and_err_Hbeta=Wu2004_LHbeta_L5100.loc[i,Wu2004_LHbeta_L5100.columns[5]]\n",
    "    flux_Hbeta=flux_and_err_Hbeta.split('$\\pm$')[0]\n",
    "    err_flux_Hbeta=flux_and_err_Hbeta.split('$\\pm$')[1]\n",
    "    \n",
    "    ax.errorbar(x=np.log10(float(flux))+42,\n",
    "    #xerr=float(err_flux),\n",
    "    y=np.log10(float(flux_Hbeta))+42,\n",
    "    #yerr=float(err_flux_Hbeta),\n",
    "    ls=':',marker='.',markersize=10,color='grey',label='Wu2004')\n",
    "    '''\n",
    "\n",
    "dataplot=data_PKS1510_select\n",
    "ax.errorbar(x=np.log10(dataplot[flux_label_PKS1510]*flux_scale_5100_PKS1510*5100),\n",
    "            #xerr=np.log10(data_PKS1510[e_flux_label]*flux_scale*5100),\n",
    "            y=np.log10(dataplot[flux_label_1_PKS1510]*flux_scale_Hbeta_PKS1510),\n",
    "            #yerr=np.log10(data_PKS1510[e_flux_label_1]*flux_scale*4861),\n",
    "            fmt='.',label='PKS 1510-089')\n",
    "\n",
    "\n",
    "\n",
    "\n",
    "L5100_linspace=np.linspace(45.0,46)\n",
    "\n",
    "slope=1.02747111\n",
    "offset=3.04154998\n",
    "Lhbeta= L5100_linspace*slope-offset\n",
    "ax.plot(L5100_linspace,Lhbeta,label='Wu2004 logLHbeta=logL5100*%.3f -%.2f'%(slope,offset))\n",
    "Lhbeta= L5100_linspace*slope-offset-0.5\n",
    "ax.plot(L5100_linspace,Lhbeta,label='Wu2004 NTD=2')\n",
    "\n",
    "\n",
    "\n",
    "'''slope=0.947\n",
    "offset=0.45\n",
    "Lhbeta= L5100_linspace*slope-offset\n",
    "ax.plot(L5100_linspace,Lhbeta,ls='-.',label='Rakshit2020 logLHbeta=logL5100*%.3f -%.2f'%(slope,offset))\n",
    "Lhbeta= L5100_linspace*slope-offset-0.5\n",
    "ax.plot(L5100_linspace,Lhbeta,ls='--',label='Rakshit2020 NTD=2 ')\n",
    "'''\n",
    "\n",
    "\n",
    "\n",
    "slope=1.057\n",
    "offset=4.41\n",
    "Lhbeta= L5100_linspace*slope-offset\n",
    "ax.plot(L5100_linspace,Lhbeta,ls='-.',label='Rakshit2020 logLHbeta=logL5100*%.3f -%.2f'%(slope,offset))\n",
    "Lhbeta= L5100_linspace*slope-offset-0.5\n",
    "ax.plot(L5100_linspace,Lhbeta,ls='--',label='Rakshit2020 NTD=2 ')\n",
    "\n",
    "\n",
    "\n",
    "\n",
    "ax.set_xlabel(r'log$L_{5100\\AA} (\\mathrm{erg\\, s^{-1}})$')\n",
    "ax.set_ylabel(r'log$L_{H\\beta} (\\mathrm{erg\\, s^{-1}})$')\n",
    "\n",
    "\n",
    "#ax.semilogx()\n",
    "#ax.semilogy()\n",
    "\n",
    "ax.set_title('PKS 1510-089')\n",
    "set_ax_legend(ax)\n",
    "\n",
    "ax.set_xlim(45.0-0.1,46.1)\n",
    "ax.set_ylim(43.1,44.15)\n",
    "set_ax_locator(ax,0.5,0.1,0.2,0.1)\n",
    "\n",
    "#plot_secax(ax,mi_interval=365,ma_interval=365*2,rotation=30)\n",
    "set_ax_tick(ax)\n",
    "fig.tight_layout()\n",
    "plt.savefig('/Users/lyubing/IHEPBox/JetRM_plot/PKS1510_Hbeta_L5100_range_%d_%d.png'%(range_l_mask_time_PKS1510,range_r_mask_time_PKS1510),dpi=400)\n",
    "\n"
   ]
  },
  {
   "cell_type": "code",
   "execution_count": null,
   "metadata": {
    "ExecuteTime": {
     "end_time": "2022-09-16T01:40:30.995104Z",
     "start_time": "2022-09-16T01:40:30.977748Z"
    }
   },
   "outputs": [],
   "source": [
    "x=np.log10(data_PKS1510[flux_label_PKS1510]*flux_scale_5100_PKS1510*5100)\n",
    "y=np.log10(data_PKS1510[flux_label_1_PKS1510]*flux_scale_Hbeta_PKS1510)\n",
    "spearmanr(x,y),pearsonr(x,y)"
   ]
  },
  {
   "cell_type": "markdown",
   "metadata": {},
   "source": [
    "### plot lag_LHbeta_L5100"
   ]
  },
  {
   "cell_type": "code",
   "execution_count": null,
   "metadata": {},
   "outputs": [],
   "source": []
  },
  {
   "cell_type": "code",
   "execution_count": null,
   "metadata": {},
   "outputs": [],
   "source": []
  },
  {
   "cell_type": "code",
   "execution_count": null,
   "metadata": {},
   "outputs": [],
   "source": []
  },
  {
   "cell_type": "code",
   "execution_count": null,
   "metadata": {},
   "outputs": [],
   "source": []
  },
  {
   "cell_type": "markdown",
   "metadata": {
    "ExecuteTime": {
     "end_time": "2022-09-16T01:41:38.225045Z",
     "start_time": "2022-09-16T01:41:38.208763Z"
    }
   },
   "source": [
    "data_PKS1510"
   ]
  },
  {
   "cell_type": "markdown",
   "metadata": {},
   "source": [
    "### plot NTD"
   ]
  },
  {
   "cell_type": "code",
   "execution_count": null,
   "metadata": {
    "ExecuteTime": {
     "end_time": "2022-09-23T03:27:11.509880Z",
     "start_time": "2022-09-23T03:27:11.498071Z"
    }
   },
   "outputs": [],
   "source": [
    "flux_label_PKS1510,flux_label_1_PKS1510"
   ]
  },
  {
   "cell_type": "code",
   "execution_count": null,
   "metadata": {
    "ExecuteTime": {
     "end_time": "2022-10-13T14:10:34.349462Z",
     "start_time": "2022-10-13T14:10:33.488676Z"
    }
   },
   "outputs": [],
   "source": [
    "fig, ax = plt.subplots(1, 1,figsize=(6,6))\n",
    "\n",
    "'''for i in range(len(Wu2004_LHbeta_L5100)):\n",
    "    flux_and_err=Wu2004_LHbeta_L5100.loc[i,Wu2004_LHbeta_L5100.columns[4]]\n",
    "    flux=flux_and_err.split('$\\pm$')[0]\n",
    "    err_flux=flux_and_err.split('$\\pm$')[1]\n",
    "    \n",
    "    flux_and_err_Hbeta=Wu2004_LHbeta_L5100.loc[i,Wu2004_LHbeta_L5100.columns[5]]\n",
    "    flux_Hbeta=flux_and_err_Hbeta.split('$\\pm$')[0]\n",
    "    err_flux_Hbeta=flux_and_err_Hbeta.split('$\\pm$')[1]\n",
    "    \n",
    "    ax.errorbar(x=np.log10(float(flux))+42,\n",
    "    #xerr=float(err_flux),\n",
    "    y=np.log10(float(flux_Hbeta))+42,\n",
    "    #yerr=float(err_flux_Hbeta),\n",
    "    ls=':',marker='.',markersize=10,color='grey',label='Wu2004')\n",
    "    '''\n",
    "\n",
    "\n",
    "for i in range(len(data_PKS1510)):\n",
    "    L5100=data_PKS1510[flux_label_PKS1510][i]*flux_scale_5100_PKS1510*5100\n",
    "    logL5100= np.log10(L5100)\n",
    "    \n",
    "    LHb=data_PKS1510[flux_label_1_PKS1510][i]*flux_scale_Hbeta_PKS1510\n",
    "    logLHb= np.log10(LHb)\n",
    "    logL_p= (logLHb+4.41)/1.057 # log 𝐿H𝛽 = „1.057±0.002” log 𝐿5100‚„−4.41±0.10”.\n",
    "    NTD= 10**(logL5100-logL_p)\n",
    "    if NTD >2 :\n",
    "        color='blue'\n",
    "    else:\n",
    "        color='black'\n",
    "    ax.errorbar(\n",
    "            x=logL5100,\n",
    "            y=NTD,           \n",
    "            #yerr=np.log10(data_PKS1510[e_flux_label_1]*flux_scale*4861),\n",
    "            fmt='.',label='PKS 1510-089',color=color)\n",
    "\n",
    "\n",
    "\n",
    "'''slope=1.02747111\n",
    "offset=3.04154998\n",
    "L5100_linspace=np.linspace(45.0,46)\n",
    "Lhbeta= L5100_linspace*slope-offset\n",
    "ax.plot(L5100_linspace,Lhbeta,label='Wu2004 logLHbeta=logL5100*%.2f -%.2f'%(slope,offset))\n",
    "\n",
    "\n",
    "slope=0.947\n",
    "offset=0.45\n",
    "Lhbeta= L5100_linspace*slope-offset\n",
    "ax.plot(L5100_linspace,Lhbeta,ls='-.',label='Rakshit2020 logLHbeta=logL5100*%.2f -%.2f'%(slope,offset))\n",
    "\n",
    "\n",
    "slope=1.057\n",
    "offset=4.41\n",
    "Lhbeta= L5100_linspace*slope-offset\n",
    "ax.plot(L5100_linspace,Lhbeta,ls='-.',label='Rakshit2020 logLHbeta=logL5100*%.2f -%.2f'%(slope,offset))\n",
    "\n",
    "\n",
    "'''\n",
    "\n",
    "\n",
    "\n",
    "\n",
    "\n",
    "ax.set_xlabel(r'log$L_{5100\\AA} (\\mathrm{erg\\, s^{-1}})$')\n",
    "ax.set_ylabel(r'NTD')\n",
    "#ax.set_ylabel(r'log$L_{H\\beta} (\\mathrm{erg\\, s^{-1}})$')\n",
    "\n",
    "\n",
    "#ax.semilogx()\n",
    "#ax.semilogy()\n",
    "\n",
    "ax.set_title('PKS 1510-089')\n",
    "ax.xaxis.set_tick_params(which='major', size=10, width=2, rotation=0,)\n",
    "handles, labels = ax.get_legend_handles_labels()\n",
    "# remove the errorbars\n",
    "#hdl = [h[0] for h in handles]\n",
    "hdl = handles\n",
    "labels_dict=dict(zip(labels, hdl)) #key,values\n",
    "by_label=OrderedDict(sorted(labels_dict.items(),key=lambda t:t[0]))\n",
    "#by_label = OrderedDict(zip(labels, handles))\n",
    "\n",
    "ax.legend(by_label.values(), by_label.keys(), bbox_to_anchor=(0.01, 0.99),\n",
    "          loc=2, numpoints=1,ncol=1,fontsize=11.)\n",
    "\n",
    "#ax.set_xlim(45.5,46)\n",
    "#ax.set_ylim(44.0-0.2,44.5-0.2)\n",
    "\n",
    "#plot_secax(ax,mi_interval=365,ma_interval=365*2,rotation=30)\n",
    "set_ax_tick(ax)\n",
    "fig.tight_layout()\n",
    "plt.savefig('/Users/lyubing/IHEPBox/JetRM_plot/PKS1510_NTD_L5100.png',dpi=400)"
   ]
  },
  {
   "cell_type": "code",
   "execution_count": null,
   "metadata": {},
   "outputs": [],
   "source": []
  },
  {
   "cell_type": "code",
   "execution_count": null,
   "metadata": {
    "ExecuteTime": {
     "end_time": "2022-09-08T06:14:23.355141Z",
     "start_time": "2022-09-08T06:14:23.346281Z"
    }
   },
   "outputs": [],
   "source": [
    "lag_data_dir"
   ]
  },
  {
   "cell_type": "code",
   "execution_count": null,
   "metadata": {
    "ExecuteTime": {
     "end_time": "2022-09-08T06:14:40.181467Z",
     "start_time": "2022-09-08T06:14:39.986383Z"
    }
   },
   "outputs": [],
   "source": [
    "!open '/Volumes/ExtremeSSD/00PKU_SCI/FermiAGN_lag/lag_data/'"
   ]
  },
  {
   "cell_type": "markdown",
   "metadata": {},
   "source": [
    "## BU_VLBA"
   ]
  },
  {
   "cell_type": "markdown",
   "metadata": {
    "ExecuteTime": {
     "end_time": "2022-09-29T14:19:08.789465Z",
     "start_time": "2022-09-29T14:19:08.743463Z"
    }
   },
   "source": [
    "table_BUVLBA_PKS1510=pd.read_excel(os.path.join(lagdata_dir_PKS1510,'BU_VLBA_GLAST_PKS1510-089.xlsx'))\n",
    "#table_UMRAO_PKS1510['mjd']=table_UMRAO_PKS1510['Julian_Day']-2400000.5"
   ]
  },
  {
   "cell_type": "markdown",
   "metadata": {
    "ExecuteTime": {
     "end_time": "2022-09-29T14:19:11.170472Z",
     "start_time": "2022-09-29T14:19:11.153015Z"
    }
   },
   "source": [
    "table_BUVLBA_PKS1510"
   ]
  },
  {
   "cell_type": "markdown",
   "metadata": {
    "ExecuteTime": {
     "end_time": "2022-09-29T14:21:57.280121Z",
     "start_time": "2022-09-29T14:21:57.257345Z"
    }
   },
   "source": [
    "day=table_BUVLBA_PKS1510['day']\n",
    "month=table_BUVLBA_PKS1510['month']\n",
    "year=table_BUVLBA_PKS1510['year']\n",
    "#time=table_BUVLBA_PKS1510['time']\n",
    "month_number=[]\n",
    "for i in month.values:\n",
    "    print(i,(strptime(i[:3],'%b').tm_mon))\n",
    "    month_number.append(strptime(i[:3],'%b').tm_mon)\n",
    "\n",
    "table_BUVLBA_PKS1510['mon_num']=month_number\n",
    "##############################\n",
    "#day=table_BUVLBA_PKS1510['day']\n",
    "month_num=table_BUVLBA_PKS1510['mon_num']\n",
    "#year=table_BUVLBA_PKS1510['year']\n",
    "\n",
    "times=[]\n",
    "for i,(d_,m_,y_,) in enumerate(zip(day,month_num,year,)):\n",
    "    times.append(Time(datetime(y_,m_,d_,0,0,0),scale='ut1').mjd)\n",
    "\n",
    "'''\n",
    "    timesut=[]\n",
    "    for i,(d_,m_,y_,h_,mi_) in enumerate(zip(day,month_num,year,hour,minute)):\n",
    "    timesut.append(Time(datetime(y_,m_,d_,h_,mi_,0),scale='ut1'))\n",
    "    '''\n",
    "table_BUVLBA_PKS1510['mjd']=times"
   ]
  },
  {
   "cell_type": "markdown",
   "metadata": {
    "ExecuteTime": {
     "end_time": "2022-09-29T14:26:03.636354Z",
     "start_time": "2022-09-29T14:26:03.577561Z"
    }
   },
   "source": [
    "table_BUVLBA_PKS1510.to_csv(os.path.join(lagdata_dir_PKS1510,'BU_VLBA_GLAST_PKS1510-089_modified.csv'),index=False)"
   ]
  },
  {
   "cell_type": "markdown",
   "metadata": {},
   "source": [
    "### read_modified"
   ]
  },
  {
   "cell_type": "code",
   "execution_count": null,
   "metadata": {
    "ExecuteTime": {
     "end_time": "2022-10-20T15:18:05.359484Z",
     "start_time": "2022-10-20T15:18:05.320259Z"
    }
   },
   "outputs": [],
   "source": [
    "table_BUVLBA_PKS1510_modified=pd.read_csv(os.path.join(lagdata_dir_PKS1510,'BU_VLBA_GLAST_PKS1510-089_modified.csv'))\n",
    "table_BUVLBA_PKS1510_modified=table_BUVLBA_PKS1510_modified[table_BUVLBA_PKS1510_modified['select']==1]\n",
    "table_BUVLBA_PKS1510_modified=drop_index(table_BUVLBA_PKS1510_modified)"
   ]
  },
  {
   "cell_type": "code",
   "execution_count": null,
   "metadata": {
    "ExecuteTime": {
     "end_time": "2022-10-20T15:18:23.797310Z",
     "start_time": "2022-10-20T15:18:23.788470Z"
    }
   },
   "outputs": [],
   "source": [
    "table_BUVLBA_PKS1510_modified.columns"
   ]
  },
  {
   "cell_type": "code",
   "execution_count": null,
   "metadata": {
    "ExecuteTime": {
     "end_time": "2022-10-20T15:18:30.729978Z",
     "start_time": "2022-10-20T15:18:30.705701Z"
    }
   },
   "outputs": [],
   "source": [
    "table_BUVLBA_PKS1510_modified"
   ]
  },
  {
   "cell_type": "code",
   "execution_count": null,
   "metadata": {
    "ExecuteTime": {
     "end_time": "2022-09-29T14:41:26.581221Z",
     "start_time": "2022-09-29T14:41:26.558696Z"
    }
   },
   "outputs": [],
   "source": [
    "table_BUVLBA_PKS1510_modified['I-peak(mJy)'][1]"
   ]
  },
  {
   "cell_type": "code",
   "execution_count": null,
   "metadata": {
    "ExecuteTime": {
     "end_time": "2022-10-20T15:18:55.124070Z",
     "start_time": "2022-10-20T15:18:55.114416Z"
    }
   },
   "outputs": [],
   "source": [
    "table_BUVLBA_PKS1510_modified['P-(mJy)']=pd.to_numeric(table_BUVLBA_PKS1510_modified['P-peak(mJy)'])\n",
    "table_BUVLBA_PKS1510_modified['EVPA(deg.)']=pd.to_numeric(table_BUVLBA_PKS1510_modified['EVPA(deg.)'])"
   ]
  },
  {
   "cell_type": "markdown",
   "metadata": {
    "ExecuteTime": {
     "end_time": "2022-09-29T14:44:59.869357Z",
     "start_time": "2022-09-29T14:44:59.858343Z"
    }
   },
   "source": [
    "table_BUVLBA_PKS1510_modified['P-(mJy)']"
   ]
  },
  {
   "cell_type": "code",
   "execution_count": null,
   "metadata": {},
   "outputs": [],
   "source": []
  },
  {
   "cell_type": "code",
   "execution_count": null,
   "metadata": {
    "ExecuteTime": {
     "end_time": "2022-09-29T14:23:24.936473Z",
     "start_time": "2022-09-29T14:23:24.924238Z"
    }
   },
   "outputs": [],
   "source": [
    "Time(datetime(2015,1,1,0,0,0),scale='ut1').mjd,Time(datetime(2015,1,1,0,0,0),scale='utc').mjd"
   ]
  },
  {
   "cell_type": "code",
   "execution_count": null,
   "metadata": {},
   "outputs": [],
   "source": []
  },
  {
   "cell_type": "code",
   "execution_count": null,
   "metadata": {},
   "outputs": [],
   "source": []
  },
  {
   "cell_type": "markdown",
   "metadata": {},
   "source": [
    "## UMRAO"
   ]
  },
  {
   "cell_type": "code",
   "execution_count": null,
   "metadata": {
    "ExecuteTime": {
     "end_time": "2022-10-20T15:19:01.841582Z",
     "start_time": "2022-10-20T15:19:01.775242Z"
    }
   },
   "outputs": [],
   "source": [
    "table_UMRAO_PKS1510=pd.read_excel(os.path.join(lagdata_dir_PKS1510,'UMRAO.xlsx'))\n",
    "table_UMRAO_PKS1510['mjd']=table_UMRAO_PKS1510['Julian_Day']-2400000.5"
   ]
  },
  {
   "cell_type": "code",
   "execution_count": null,
   "metadata": {
    "ExecuteTime": {
     "end_time": "2022-10-20T15:19:09.080943Z",
     "start_time": "2022-10-20T15:19:09.071655Z"
    }
   },
   "outputs": [],
   "source": [
    "table_UMRAO_PKS1510.columns"
   ]
  },
  {
   "cell_type": "code",
   "execution_count": null,
   "metadata": {
    "ExecuteTime": {
     "end_time": "2022-10-20T15:19:15.681295Z",
     "start_time": "2022-10-20T15:19:15.672645Z"
    }
   },
   "outputs": [],
   "source": [
    "table_UMRAO_PKS1510_14dot5GHz=table_UMRAO_PKS1510[table_UMRAO_PKS1510['Freq.']==14.5]"
   ]
  },
  {
   "cell_type": "code",
   "execution_count": null,
   "metadata": {},
   "outputs": [],
   "source": []
  },
  {
   "cell_type": "code",
   "execution_count": null,
   "metadata": {},
   "outputs": [],
   "source": []
  },
  {
   "cell_type": "code",
   "execution_count": null,
   "metadata": {},
   "outputs": [],
   "source": []
  },
  {
   "cell_type": "markdown",
   "metadata": {},
   "source": [
    "## OVRO_extractdata"
   ]
  },
  {
   "cell_type": "code",
   "execution_count": null,
   "metadata": {
    "ExecuteTime": {
     "end_time": "2022-09-19T12:54:33.362591Z",
     "start_time": "2022-09-19T12:54:33.351271Z"
    }
   },
   "outputs": [],
   "source": [
    "data_dir_PKS1510"
   ]
  },
  {
   "cell_type": "code",
   "execution_count": null,
   "metadata": {
    "ExecuteTime": {
     "end_time": "2022-10-20T15:19:19.000350Z",
     "start_time": "2022-10-20T15:19:18.982938Z"
    }
   },
   "outputs": [],
   "source": [
    "table_OVRO_PKS1510_extract=pd.read_csv(os.path.join(lagdata_dir_PKS1510,'PKS1510_webdigit.csv'),header=None)\n",
    "table_OVRO_PKS1510_extract.columns=['mjd','flux_15GHZ_ovro']\n",
    "table_OVRO_PKS1510_extract['err']=table_OVRO_PKS1510_extract['flux_15GHZ_ovro']*0.05"
   ]
  },
  {
   "cell_type": "code",
   "execution_count": null,
   "metadata": {
    "ExecuteTime": {
     "end_time": "2022-10-21T05:44:15.824434Z",
     "start_time": "2022-10-21T05:44:15.814962Z"
    }
   },
   "outputs": [],
   "source": [
    "table_OVRO_PKS1510_extract.columns"
   ]
  },
  {
   "cell_type": "code",
   "execution_count": null,
   "metadata": {
    "ExecuteTime": {
     "end_time": "2022-10-20T15:19:24.137559Z",
     "start_time": "2022-10-20T15:19:24.126451Z"
    }
   },
   "outputs": [],
   "source": [
    "min_PKS1510,max_PKS1510,mean_PKS1510=get_info(table_OVRO_PKS1510_extract,'flux_15GHZ_ovro')\n",
    "for i in [min_PKS1510,max_PKS1510,mean_PKS1510]:\n",
    "    Li=4*np.pi*D_cm_PKS1510.value**2*15e9*1e-23*i#erg/s\n",
    "    print(Li)"
   ]
  },
  {
   "cell_type": "code",
   "execution_count": null,
   "metadata": {
    "ExecuteTime": {
     "end_time": "2022-09-19T12:56:13.267514Z",
     "start_time": "2022-09-19T12:56:13.173808Z"
    }
   },
   "outputs": [],
   "source": [
    "fig, ax = plt.subplots(1, 1,figsize=(12,3))\n",
    "ax.errorbar(table_OVRO_PKS1510_extract[table_OVRO_PKS1510_extract.columns[0]],\n",
    "           table_OVRO_PKS1510_extract[table_OVRO_PKS1510_extract.columns[1]],\n",
    "           #table_OVRO_PKS1510_extract[table_OVRO_PKS1510_extract.columns[0]],\n",
    "            ls='',marker='.',label='OVRO_15GHz'\n",
    "            )\n",
    "\n",
    "set_ax_tick(ax)\n",
    "set_ax_legend(ax)\n",
    "ax.set_xlabel(r'$\\mathrm{MJD(d)}$')\n",
    "ax.set_ylabel(r'$\\mathrm{Jy}$')\n",
    "plt.show()"
   ]
  },
  {
   "cell_type": "code",
   "execution_count": null,
   "metadata": {},
   "outputs": [],
   "source": []
  },
  {
   "cell_type": "markdown",
   "metadata": {},
   "source": [
    "## ATCA"
   ]
  },
  {
   "cell_type": "markdown",
   "metadata": {
    "ExecuteTime": {
     "end_time": "2022-10-20T15:19:32.564858Z",
     "start_time": "2022-10-20T15:19:31.873527Z"
    }
   },
   "source": [
    "table_ATCA_PKS1510_origin=pd.read_excel(os.path.join(lagdata_dir_PKS1510,'PKS1510_ATCA_origin.xlsx'))"
   ]
  },
  {
   "cell_type": "code",
   "execution_count": null,
   "metadata": {
    "ExecuteTime": {
     "end_time": "2022-07-21T08:33:58.235675Z",
     "start_time": "2022-07-21T08:33:58.231586Z"
    }
   },
   "outputs": [],
   "source": [
    "table_ATCA_PKS1510_origin.columns"
   ]
  },
  {
   "cell_type": "markdown",
   "metadata": {
    "ExecuteTime": {
     "end_time": "2022-07-21T08:34:26.921690Z",
     "start_time": "2022-07-21T08:34:26.407756Z"
    }
   },
   "source": [
    "table_ATCA_PKS1510=pd.DataFrame([])\n",
    "for i in range(len(table_ATCA_PKS1510_origin)):\n",
    "    if isinstance(table_ATCA_PKS1510_origin.loc[i,'Closure Phase'],str):\n",
    "        row_table=table_ATCA_PKS1510_origin.iloc[i]\n",
    "    #print(i)\n",
    "\n",
    "    else:\n",
    "        print(i)\n",
    "        \n",
    "        row_table = pd.DataFrame(\n",
    "                                 [\n",
    "                                  table_ATCA_PKS1510_origin.loc[i-1,table_ATCA_PKS1510_origin.columns[0]],\n",
    "                                  table_ATCA_PKS1510_origin.loc[i-1,table_ATCA_PKS1510_origin.columns[1]],\n",
    "                                  table_ATCA_PKS1510_origin.loc[i-1,table_ATCA_PKS1510_origin.columns[2]],\n",
    "                                  table_ATCA_PKS1510_origin.loc[i-1,table_ATCA_PKS1510_origin.columns[3]],\n",
    "                                  table_ATCA_PKS1510_origin.loc[i,table_ATCA_PKS1510_origin.columns[0]],\n",
    "                                  table_ATCA_PKS1510_origin.loc[i,table_ATCA_PKS1510_origin.columns[1]],\n",
    "                                  table_ATCA_PKS1510_origin.loc[i,table_ATCA_PKS1510_origin.columns[2]],\n",
    "                                  table_ATCA_PKS1510_origin.loc[i,table_ATCA_PKS1510_origin.columns[3]],\n",
    "                                  table_ATCA_PKS1510_origin.loc[i,table_ATCA_PKS1510_origin.columns[8]],\n",
    "                                  ])\n",
    "                                  \n",
    "        row_table=row_table.T\n",
    "        row_table.columns= table_ATCA_PKS1510_origin.columns\n",
    "\n",
    "    table_ATCA_PKS1510=table_ATCA_PKS1510.append(row_table,ignore_index=True)"
   ]
  },
  {
   "cell_type": "code",
   "execution_count": null,
   "metadata": {
    "ExecuteTime": {
     "end_time": "2022-07-21T08:39:54.391175Z",
     "start_time": "2022-07-21T08:39:54.372134Z"
    }
   },
   "outputs": [],
   "source": [
    "table_ATCA_PKS1510['Epoch'][0].split('-')"
   ]
  },
  {
   "cell_type": "code",
   "execution_count": null,
   "metadata": {
    "ExecuteTime": {
     "end_time": "2022-07-21T08:41:34.795816Z",
     "start_time": "2022-07-21T08:41:34.790969Z"
    }
   },
   "outputs": [],
   "source": [
    "strptime('Nov','%b').tm_mon"
   ]
  },
  {
   "cell_type": "markdown",
   "metadata": {
    "ExecuteTime": {
     "end_time": "2022-07-21T08:42:18.549729Z",
     "start_time": "2022-07-21T08:42:18.543177Z"
    }
   },
   "source": [
    "year=[]\n",
    "month=[]\n",
    "day=[]\n",
    "\n",
    "for i in table_ATCA_PKS1510['Epoch'].values:\n",
    "    year.append(i.split(\"-\")[0])\n",
    "    month.append(strptime(i.split(\"-\")[1],'%b').tm_mon)\n",
    "    day.append(i.split(\"-\")[2])\n",
    "\n",
    "times=[]\n",
    "for i,(d_,m_,y_,) in enumerate(zip(day,month,year)):                 \n",
    "    times.append(Time(datetime(int(y_),m_,int(d_),0,0,0),scale='ut1').mjd)\n",
    "    \n",
    "'''\n",
    "timesut=[]\n",
    "for i,(d_,m_,y_,h_,mi_) in enumerate(zip(day,month_num,year,hour,minute)):                 \n",
    "    timesut.append(Time(datetime(y_,m_,d_,h_,mi_,0),scale='ut1'))  \n",
    "'''    \n",
    "table_ATCA_PKS1510['mjd']=times"
   ]
  },
  {
   "cell_type": "code",
   "execution_count": null,
   "metadata": {
    "ExecuteTime": {
     "end_time": "2022-07-21T13:36:21.087046Z",
     "start_time": "2022-07-21T13:36:21.071536Z"
    }
   },
   "outputs": [],
   "source": [
    "table_ATCA_PKS1510.columns"
   ]
  },
  {
   "cell_type": "markdown",
   "metadata": {
    "ExecuteTime": {
     "end_time": "2022-07-22T04:11:47.061886Z",
     "start_time": "2022-07-22T04:11:47.033834Z"
    }
   },
   "source": [
    "table_ATCA_PKS1510.to_excel(os.path.join(lag_data_dir,'PKS1510_ATCA_calitrator_modified.xlsx'),index=False)"
   ]
  },
  {
   "cell_type": "markdown",
   "metadata": {},
   "source": [
    "### table_ATCA_PKS1510_load"
   ]
  },
  {
   "cell_type": "code",
   "execution_count": null,
   "metadata": {
    "ExecuteTime": {
     "end_time": "2022-10-20T15:19:54.557065Z",
     "start_time": "2022-10-20T15:19:54.493015Z"
    }
   },
   "outputs": [],
   "source": [
    "table_ATCA_PKS1510=pd.read_excel(os.path.join(lagdata_dir_PKS1510,'PKS1510_ATCA_calitrator_modified.xlsx'))"
   ]
  },
  {
   "cell_type": "code",
   "execution_count": null,
   "metadata": {
    "ExecuteTime": {
     "end_time": "2022-10-20T15:20:33.174277Z",
     "start_time": "2022-10-20T15:20:33.162095Z"
    }
   },
   "outputs": [],
   "source": [
    "table_ATCA_PKS1510_5GHz=table_ATCA_PKS1510[abs(table_ATCA_PKS1510['Frequency']-5000)<1000]\n",
    "table_ATCA_PKS1510_5GHz=drop_index(table_ATCA_PKS1510_5GHz)"
   ]
  },
  {
   "cell_type": "code",
   "execution_count": null,
   "metadata": {
    "ExecuteTime": {
     "end_time": "2022-09-16T02:39:49.753421Z",
     "start_time": "2022-09-16T02:39:49.743563Z"
    }
   },
   "outputs": [],
   "source": [
    "table_ATCA_PKS1510_5GHz.columns"
   ]
  },
  {
   "cell_type": "code",
   "execution_count": null,
   "metadata": {
    "ExecuteTime": {
     "end_time": "2022-10-20T15:20:35.853154Z",
     "start_time": "2022-10-20T15:20:35.832829Z"
    }
   },
   "outputs": [],
   "source": [
    "for i in range(len(table_ATCA_PKS1510_5GHz)):\n",
    "    flux_density_err=table_ATCA_PKS1510_5GHz.loc[i,'Flux Density (Jy)']\n",
    "    table_ATCA_PKS1510_5GHz.loc[i,'flux']= float(flux_density_err.split('± ')[0])\n",
    "    table_ATCA_PKS1510_5GHz.loc[i,'e_flux']= float(flux_density_err.split('± ')[1])"
   ]
  },
  {
   "cell_type": "code",
   "execution_count": null,
   "metadata": {
    "ExecuteTime": {
     "end_time": "2022-10-20T15:20:36.563992Z",
     "start_time": "2022-10-20T15:20:36.553614Z"
    }
   },
   "outputs": [],
   "source": [
    "lagtable_ATCA_PKS1510_5GHz=table_ATCA_PKS1510_5GHz[['mjd','flux','e_flux']]\n",
    "lagtable_ATCA_PKS1510_5GHz.columns=['t','flux','e_flux']\n",
    "lagtable_ATCA_PKS1510_5GHz=lagtable_ATCA_PKS1510_5GHz.sort_values('t')"
   ]
  },
  {
   "cell_type": "markdown",
   "metadata": {
    "ExecuteTime": {
     "end_time": "2022-09-16T02:44:54.032105Z",
     "start_time": "2022-09-16T02:44:54.008257Z"
    }
   },
   "source": [
    "lagtable_ATCA_PKS1510_5GHz"
   ]
  },
  {
   "cell_type": "code",
   "execution_count": null,
   "metadata": {},
   "outputs": [],
   "source": []
  },
  {
   "cell_type": "code",
   "execution_count": null,
   "metadata": {
    "ExecuteTime": {
     "end_time": "2022-07-22T04:13:33.109928Z",
     "start_time": "2022-07-22T04:13:31.407211Z"
    }
   },
   "outputs": [],
   "source": [
    "fig, ax = plt.subplots(1, 1,figsize=(8,6))\n",
    "\n",
    "for i in range(len(table_ATCA_PKS1510_5GHz)):\n",
    "    flux_and_err=table_ATCA_PKS1510_5GHz.loc[i,'Flux Density (Jy)']\n",
    "    flux=flux_and_err.split('±')[0]\n",
    "    err_flux=flux_and_err.split('±')[1]\n",
    "    #print(flux,err_flux)\n",
    "    ax.errorbar(table_ATCA_PKS1510_5GHz.loc[i,'mjd'],float(flux),float(err_flux),\n",
    "              ls=':',marker='.',markersize=10,color='r',label='VLA 5GHz')\n",
    "    \n",
    "set_ax_tick(ax)  \n",
    "ax.set_title('PKS1510-089')\n",
    "ax.set_xlabel(r'MJD(d)')\n",
    "ax.set_ylabel(r'Flux')\n",
    "\n",
    "ax.xaxis.set_tick_params(which='major', size=10, width=2, rotation=0,)\n",
    "handles, labels = ax.get_legend_handles_labels()\n",
    "# remove the errorbars\n",
    "#hdl = [h[0] for h in handles]\n",
    "hdl = handles\n",
    "labels_dict=dict(zip(labels, hdl)) #key,values\n",
    "by_label=OrderedDict(sorted(labels_dict.items(),key=lambda t:t[0]))\n",
    "#by_label = OrderedDict(zip(labels, handles))\n",
    "\n",
    "ax.legend(by_label.values(), by_label.keys(), bbox_to_anchor=(0.99, 0.99),\n",
    "          loc=2, numpoints=1,ncol=1,fontsize=11.)\n",
    "\n",
    "plot_secax(ax,mi_interval=365,ma_interval=365*2,rotation=30)    \n",
    "\n",
    "ax.set_xlim(54800+1,57200-1)\n",
    "#save_lc_img_path='/Users/brettlv/Downloads/PKS1510_plot/ATCA_calibrator_VLA_lc_5GHz.png'\n",
    "save_lc_img_path='/Users/brettlv/Downloads/PKS1510_plot/ATCA_calibrator_VLA_lc_5GHz_54800_57200.png'\n",
    "\n",
    "plt.savefig(save_lc_img_path,dpi=400, transparent=False, bbox_inches='tight')\n",
    "plt.close()"
   ]
  },
  {
   "cell_type": "markdown",
   "metadata": {},
   "source": [
    "## mojave_15GHz_VLBA"
   ]
  },
  {
   "cell_type": "code",
   "execution_count": null,
   "metadata": {
    "ExecuteTime": {
     "end_time": "2022-10-20T15:21:16.819100Z",
     "start_time": "2022-10-20T15:21:16.742410Z"
    }
   },
   "outputs": [],
   "source": [
    "data_PKS1510_dir_mojave=lagdata_dir_PKS1510\n",
    "mojave_15GHz_PKS1510=pd.read_excel('%s/VLBA_PKS1510_089.xlsx'%data_PKS1510_dir_mojave,sheet_name='Sheet1')\n",
    "mojave_15GHz_PKS1510=mojave_15GHz_PKS1510[mojave_15GHz_PKS1510['VLBA I'].notnull()]\n",
    "mojave_15GHz_PKS1510=mojave_15GHz_PKS1510[mojave_15GHz_PKS1510['VLBA Code'].notnull()]\n",
    "\n",
    "mojave_15GHz_PKS1510.columns=['Epoch', 'VLBA Code', 'VLBA I', 'VLBA P', 'VLBA percentage', 'VLBA degree',\n",
    "                            'I Image (Nat. Weight)', 'Tapered I Image',\n",
    "                            'Tapered I Image (Widefield)', 'Visibility',\n",
    "                            'Stokes I Radplot', 'Pol.','note']\n",
    "\n",
    "\n",
    "mojave_15GHz_PKS1510['mjd']=convert_mjd(mojave_15GHz_PKS1510['Epoch'])\n",
    "mojave_15GHz_PKS1510['flux']=mojave_15GHz_PKS1510['VLBA I']/1000 #mJy2Jy\n",
    "mojave_15GHz_PKS1510['err']=mojave_15GHz_PKS1510['flux']*0.05 #uncertainty\n",
    "mojave_15GHz_PKS1510=drop_index(mojave_15GHz_PKS1510)"
   ]
  },
  {
   "cell_type": "code",
   "execution_count": null,
   "metadata": {
    "ExecuteTime": {
     "end_time": "2022-10-20T15:21:41.251128Z",
     "start_time": "2022-10-20T15:21:41.242148Z"
    }
   },
   "outputs": [],
   "source": [
    "get_info(mojave_15GHz_PKS1510,'flux')"
   ]
  },
  {
   "cell_type": "markdown",
   "metadata": {
    "ExecuteTime": {
     "end_time": "2022-07-21T13:51:24.953690Z",
     "start_time": "2022-07-21T13:51:24.948093Z"
    }
   },
   "source": [
    "mojave_15GHz_PKS1510.iloc[83]#.columns"
   ]
  },
  {
   "cell_type": "code",
   "execution_count": null,
   "metadata": {
    "ExecuteTime": {
     "end_time": "2022-10-20T15:21:48.514743Z",
     "start_time": "2022-10-20T15:21:48.503770Z"
    }
   },
   "outputs": [],
   "source": [
    "mojave_15GHz_PKS1510.columns"
   ]
  },
  {
   "cell_type": "markdown",
   "metadata": {},
   "source": [
    "### pol"
   ]
  },
  {
   "cell_type": "code",
   "execution_count": null,
   "metadata": {
    "ExecuteTime": {
     "end_time": "2022-09-29T14:45:48.669268Z",
     "start_time": "2022-09-29T14:45:48.657551Z"
    }
   },
   "outputs": [],
   "source": [
    "table_BUVLBA_PKS1510_modified.columns"
   ]
  },
  {
   "cell_type": "code",
   "execution_count": null,
   "metadata": {
    "ExecuteTime": {
     "end_time": "2022-09-29T14:35:28.808704Z",
     "start_time": "2022-09-29T14:35:28.796277Z"
    }
   },
   "outputs": [],
   "source": [
    "table_BUVLBA_PKS1510_modified['P-peak(mJy)'][0]"
   ]
  },
  {
   "cell_type": "code",
   "execution_count": null,
   "metadata": {
    "ExecuteTime": {
     "end_time": "2022-09-29T14:46:41.988055Z",
     "start_time": "2022-09-29T14:46:40.386067Z"
    }
   },
   "outputs": [],
   "source": [
    "fig, ax = plt.subplots(1, 1,figsize=(8,6))\n",
    "\n",
    "for i in range(len(mojave_15GHz_PKS1510)):\n",
    "    if isinstance(mojave_15GHz_PKS1510.loc[i,'VLBA P'],(int,float)):\n",
    "        ax.errorbar(mojave_15GHz_PKS1510.loc[i,'mjd'],\n",
    "                     mojave_15GHz_PKS1510.loc[i,'VLBA P'],\n",
    "                     \n",
    "                    color='grey',marker='.',markersize=10,label='mojave_15GHz_P_flux')\n",
    "\n",
    "\n",
    "\n",
    "ax2=ax.twinx()\n",
    "for i in range(len(mojave_15GHz_PKS1510)):\n",
    "    if isinstance(mojave_15GHz_PKS1510.loc[i,'VLBA percentage'],(int,float)):\n",
    "    #if mojave_15GHz_PKS1510.loc[i,'VLBA P']!='no data':\n",
    "        #print(mojave_15GHz_PKS1510.loc[i,'mjd'],mojave_15GHz_PKS1510.loc[i,'VLBA P'])        \n",
    "        ax2.errorbar(mojave_15GHz_PKS1510.loc[i,'mjd'],\n",
    "                    mojave_15GHz_PKS1510.loc[i,'VLBA percentage'],\n",
    "                   color='r',marker='*',markersize=10,label='mojave_15GHz_Pol percentage')\n",
    "\n",
    "       \n",
    "        \n",
    "for i in range(len(table_BUVLBA_PKS1510_modified)):\n",
    "    #if isinstance(table_BUVLBA_PKS1510_modified.loc[i,'I-peak(mJy)'],(int,float)) and isinstance(table_BUVLBA_PKS1510_modified.loc[i,'P-(mJy)'],(int,float)):\n",
    "    #if mojave_15GHz_PKS1510.loc[i,'VLBA P']!='no data':\n",
    "        #print(mojave_15GHz_PKS1510.loc[i,'mjd'],mojave_15GHz_PKS1510.loc[i,'VLBA P'])        \n",
    "    ax2.errorbar(table_BUVLBA_PKS1510_modified.loc[i,'mjd'],\n",
    "                    table_BUVLBA_PKS1510_modified.loc[i,'P-(mJy)']/table_BUVLBA_PKS1510_modified.loc[i,'I-peak(mJy)']*100,\n",
    "                     color='b',marker='*',markersize=10,label='VLBA_Pol percentage')\n",
    "\n",
    "\n",
    "#set_ax_tick(ax) \n",
    "\n",
    "ax.set_title('PKS1510-089')\n",
    "ax.set_xlabel(r'MJD(d)')\n",
    "ax.set_ylabel(r'Flux(mJy)')\n",
    "ax2.set_ylabel(r'Pol degree(%)')\n",
    "\n",
    "ax.xaxis.set_tick_params(which='major', size=10, width=2, rotation=0,)\n",
    "handles, labels = ax.get_legend_handles_labels()\n",
    "# remove the errorbars\n",
    "#hdl = [h[0] for h in handles]\n",
    "hdl = handles\n",
    "labels_dict=dict(zip(labels, hdl)) #key,values\n",
    "by_label=OrderedDict(sorted(labels_dict.items(),key=lambda t:t[0]))\n",
    "#by_label = OrderedDict(zip(labels, handles))\n",
    "\n",
    "ax.legend(by_label.values(), by_label.keys(), bbox_to_anchor=(0.01, 0.99),\n",
    "          loc=2, numpoints=1,ncol=1,fontsize=11.)\n",
    "\n",
    "\n",
    "#ax2.xaxis.set_tick_params(which='major', size=10, width=2, rotation=0,)\n",
    "handles, labels = ax2.get_legend_handles_labels()\n",
    "# remove the errorbars\n",
    "#hdl = [h[0] for h in handles]\n",
    "hdl = handles\n",
    "labels_dict=dict(zip(labels, hdl)) #key,values\n",
    "by_label=OrderedDict(sorted(labels_dict.items(),key=lambda t:t[0]))\n",
    "#by_label = OrderedDict(zip(labels, handles))\n",
    "\n",
    "ax2.legend(by_label.values(), by_label.keys(), bbox_to_anchor=(0.56, 0.99),\n",
    "          loc=2, numpoints=1,ncol=1,fontsize=11.)\n",
    "\n",
    "plot_secax(ax,mi_interval=365,ma_interval=365*2,rotation=30)    \n",
    "\n",
    "\n",
    "ax.xaxis.set_tick_params(which='major', size=10, width=2, direction='in', )\n",
    "ax.xaxis.set_tick_params(which='minor', size=5, width=2, direction='in',)\n",
    "ax.yaxis.set_tick_params(which='major', size=10, width=2, direction='in')\n",
    "ax.yaxis.set_tick_params(which='minor', size=5, width=2, direction='in',)\n",
    "\n",
    "ax2.yaxis.set_tick_params(which='major', size=10, width=2, direction='in')\n",
    "ax2.yaxis.set_tick_params(which='minor', size=5, width=2, direction='in',)\n",
    "\n",
    "#ax_2.set_ylim(0.1,9.9)\n",
    "#ax.set_xlim(54800,57200)\n",
    "#save_lc_img_path='/Users/brettlv/Downloads/PKS1510_plot/Mojave_15GHz_pol_lc.png'\n",
    "#save_lc_img_path='/Users/brettlv/Downloads/PKS1510_plot/Mojave_15GHz_pol_lc_54800_57200.png'\n",
    "\n",
    "range_l,range_r=(54800+1,57200-1)\n",
    "ax.set_xlim(range_l,range_r)\n",
    "\n",
    "save_lc_img_path='/Users/lyubing/IHEPBox/JetRM_plot/PKS1510_plot/PKS1510_VLBA_pol_%d_%d.png'%(range_l,range_r)\n",
    "plt.savefig(save_lc_img_path,dpi=400, transparent=False, bbox_inches='tight')\n",
    "#plt.close()"
   ]
  },
  {
   "cell_type": "markdown",
   "metadata": {},
   "source": [
    "### Pol_PA"
   ]
  },
  {
   "cell_type": "code",
   "execution_count": null,
   "metadata": {
    "ExecuteTime": {
     "end_time": "2022-09-30T08:44:50.425425Z",
     "start_time": "2022-09-30T08:44:46.236690Z"
    }
   },
   "outputs": [],
   "source": [
    "\n",
    "fig = plt.figure(figsize=(15,9))\n",
    "fig.subplots_adjust(hspace=0.0, wspace = 0.0)\n",
    "ax = fig.add_subplot(3,1,1)\n",
    "\n",
    "for i in range(len(mojave_15GHz_PKS1510)):\n",
    "    if isinstance(mojave_15GHz_PKS1510.loc[i,'VLBA P'],(int,float)):\n",
    "        ax.errorbar(mojave_15GHz_PKS1510.loc[i,'mjd'],\n",
    "                    mojave_15GHz_PKS1510.loc[i,'VLBA percentage'],\n",
    "                   color='r',marker='.',markersize=10,label='mojave_15GHz_Pol percentage')\n",
    "\n",
    "for i in range(len(table_BUVLBA_PKS1510_modified)):\n",
    "    #if isinstance(table_BUVLBA_PKS1510_modified.loc[i,'I-peak(mJy)'],(int,float)) and isinstance(table_BUVLBA_PKS1510_modified.loc[i,'P-(mJy)'],(int,float)):\n",
    "    #if mojave_15GHz_PKS1510.loc[i,'VLBA P']!='no data':\n",
    "        #print(mojave_15GHz_PKS1510.loc[i,'mjd'],mojave_15GHz_PKS1510.loc[i,'VLBA P'])        \n",
    "    ax.errorbar(table_BUVLBA_PKS1510_modified.loc[i,'mjd'],\n",
    "                    table_BUVLBA_PKS1510_modified.loc[i,'P-(mJy)']/table_BUVLBA_PKS1510_modified.loc[i,'I-peak(mJy)']*100,\n",
    "                     color='b',marker='.',markersize=10,label='VLBA_Pol percentage')\n",
    "\n",
    "    \n",
    "\n",
    "#ax2=ax.twinx()\n",
    "ax2=fig.add_subplot(3,1,2,sharex=ax)\n",
    "\n",
    "for i in range(len(mojave_15GHz_PKS1510)):\n",
    "    if isinstance(mojave_15GHz_PKS1510.loc[i,'VLBA degree'],(int,float)):\n",
    "    #if mojave_15GHz_PKS1510.loc[i,'VLBA P']!='no data':\n",
    "        #print(mojave_15GHz_PKS1510.loc[i,'mjd'],mojave_15GHz_PKS1510.loc[i,'VLBA P'])        \n",
    "        ax2.errorbar(mojave_15GHz_PKS1510.loc[i,'mjd'],\n",
    "                    mojave_15GHz_PKS1510.loc[i,'VLBA degree'],\n",
    "                    color='r',marker='*',markersize=10,label='mojave_15GHz_Pol_PA')\n",
    "\n",
    "       \n",
    "        \n",
    "for i in range(len(table_BUVLBA_PKS1510_modified)):\n",
    "    #if isinstance(table_BUVLBA_PKS1510_modified.loc[i,'I-peak(mJy)'],(int,float)) and isinstance(table_BUVLBA_PKS1510_modified.loc[i,'P-(mJy)'],(int,float)):\n",
    "    #if mojave_15GHz_PKS1510.loc[i,'VLBA P']!='no data':\n",
    "        #print(mojave_15GHz_PKS1510.loc[i,'mjd'],mojave_15GHz_PKS1510.loc[i,'VLBA P'])        \n",
    "    ax2.errorbar(table_BUVLBA_PKS1510_modified.loc[i,'mjd'],\n",
    "                    table_BUVLBA_PKS1510_modified.loc[i,'EVPA(deg.)'],\n",
    "                     color='b',marker='*',markersize=10,label='VLBA_Pol_PA')\n",
    "\n",
    "ax3=fig.add_subplot(3,1,3,sharex=ax)\n",
    "ax3.errorbar(mojave_15GHz_PKS1510['mjd'],mojave_15GHz_PKS1510['flux'],mojave_15GHz_PKS1510['err'],\n",
    "              ls=':',marker='.',markersize=10,color='r',label='mojave_15GHz')\n",
    "\n",
    "ax3.errorbar(table_BUVLBA_PKS1510_modified['mjd'],table_BUVLBA_PKS1510_modified['I-peak(mJy)']/1000,\n",
    "             #table_BUVLBA_PKS1510_modified['err'],\n",
    "              ls=':',marker='.',markersize=10,color='b',label='VLBA')\n",
    "\n",
    "\n",
    "ax3.errorbar(table_OVRO_PKS1510_extract[table_OVRO_PKS1510_extract.columns[0]],\n",
    "           table_OVRO_PKS1510_extract[table_OVRO_PKS1510_extract.columns[1]],\n",
    "           #table_OVRO_PKS1510_extract[table_OVRO_PKS1510_extract.columns[0]],\n",
    "            ls='',marker='.',label='OVRO_15GHz'\n",
    "            )\n",
    "\n",
    "#set_ax_tick(ax) \n",
    "\n",
    "ax.set_title('PKS1510-089')\n",
    "ax.set_xlabel(r'MJD(d)')\n",
    "ax.set_ylabel(r'Pol (%)')\n",
    "ax2.set_ylabel(r'Pol_PA (degree)')\n",
    "\n",
    "\n",
    "\n",
    "\n",
    "set_ax_legend(ax)\n",
    "set_ax_legend(ax2)\n",
    "set_ax_legend(ax3)\n",
    "\n",
    "plot_secax(ax,mi_interval=180,ma_interval=360,rotation=30)    \n",
    "\n",
    "\n",
    "set_ax_tick(ax)\n",
    "set_ax_tick(ax2)\n",
    "set_ax_tick(ax3)\n",
    "\n",
    "#ax_2.set_ylim(0.1,9.9)\n",
    "#ax.set_xlim(54800,57200)\n",
    "#save_lc_img_path='/Users/brettlv/Downloads/PKS1510_plot/Mojave_15GHz_pol_lc.png'\n",
    "#save_lc_img_path='/Users/brettlv/Downloads/PKS1510_plot/Mojave_15GHz_pol_lc_54800_57200.png'\n",
    "\n",
    "range_l,range_r=(54800+1,57200-1)\n",
    "ax.set_xlim(range_l,range_r)\n",
    "\n",
    "save_lc_img_path='/Users/lyubing/IHEPBox/JetRM_plot/PKS1510_plot/PKS1510_VLBA_pol_PA_I_%d_%d.png'%(range_l,range_r)\n",
    "plt.savefig(save_lc_img_path,dpi=400, transparent=False, bbox_inches='tight')\n",
    "#plt.close()"
   ]
  },
  {
   "cell_type": "code",
   "execution_count": null,
   "metadata": {
    "ExecuteTime": {
     "end_time": "2022-09-30T03:35:35.624188Z",
     "start_time": "2022-09-30T03:35:34.984218Z"
    }
   },
   "outputs": [],
   "source": [
    "!open /Users/lyubing/IHEPBox/JetRM_plot/PKS1510_plot/"
   ]
  },
  {
   "cell_type": "code",
   "execution_count": null,
   "metadata": {},
   "outputs": [],
   "source": []
  },
  {
   "cell_type": "markdown",
   "metadata": {},
   "source": [
    "### I"
   ]
  },
  {
   "cell_type": "code",
   "execution_count": null,
   "metadata": {
    "ExecuteTime": {
     "end_time": "2022-09-29T15:00:21.732832Z",
     "start_time": "2022-09-29T15:00:20.161215Z"
    }
   },
   "outputs": [],
   "source": [
    "fig, ax = plt.subplots(1, 1,figsize=(8,6))\n",
    "\n",
    "ax.errorbar(mojave_15GHz_PKS1510['mjd'],mojave_15GHz_PKS1510['flux'],mojave_15GHz_PKS1510['err'],\n",
    "              ls=':',marker='.',markersize=10,color='r',label='mojave_15GHz')\n",
    "\n",
    "ax.errorbar(table_BUVLBA_PKS1510_modified['mjd'],table_BUVLBA_PKS1510_modified['I-peak(mJy)']/1000,\n",
    "             #table_BUVLBA_PKS1510_modified['err'],\n",
    "              ls=':',marker='.',markersize=10,color='b',label='VLBA')\n",
    "\n",
    "\n",
    "\n",
    "set_ax_tick(ax)  \n",
    "ax.set_title('PKS1510-089')\n",
    "ax.set_xlabel(r'MJD(d)')\n",
    "ax.set_ylabel(r'Flux(Jy)')\n",
    "\n",
    "ax.xaxis.set_tick_params(which='major', size=10, width=2, rotation=0,)\n",
    "handles, labels = ax.get_legend_handles_labels()\n",
    "# remove the errorbars\n",
    "#hdl = [h[0] for h in handles]\n",
    "hdl = handles\n",
    "labels_dict=dict(zip(labels, hdl)) #key,values\n",
    "by_label=OrderedDict(sorted(labels_dict.items(),key=lambda t:t[0]))\n",
    "#by_label = OrderedDict(zip(labels, handles))\n",
    "\n",
    "ax.legend(by_label.values(), by_label.keys(), bbox_to_anchor=(0.99, 0.99),\n",
    "          loc=2, numpoints=1,ncol=1,fontsize=11.)\n",
    "\n",
    "plot_secax(ax,mi_interval=180,ma_interval=360,rotation=30)    \n",
    "\n",
    "range_l,range_r=(54800+1,57200-1)\n",
    "ax.set_xlim(range_l,range_r)\n",
    "\n",
    "save_lc_img_path='/Users/lyubing/IHEPBox/JetRM_plot/PKS1510_plot/PKS1510_VLBA_I_%d_%d.png'%(range_l,range_r)\n",
    "#save_lc_img_path='/Users/brettlv/Downloads/PKS1510_plot/Mojave_15GHz_I_lc.png'\n",
    "plt.savefig(save_lc_img_path,dpi=400, transparent=False, bbox_inches='tight')\n",
    "#plt.close()"
   ]
  },
  {
   "cell_type": "code",
   "execution_count": null,
   "metadata": {
    "ExecuteTime": {
     "end_time": "2022-09-09T05:51:12.372500Z",
     "start_time": "2022-09-09T05:51:12.362172Z"
    }
   },
   "outputs": [],
   "source": [
    "data_PKS1510.colnames"
   ]
  },
  {
   "cell_type": "markdown",
   "metadata": {},
   "source": [
    "## PKS1510_Fermi"
   ]
  },
  {
   "cell_type": "code",
   "execution_count": null,
   "metadata": {
    "ExecuteTime": {
     "end_time": "2022-10-20T15:21:58.788774Z",
     "start_time": "2022-10-20T15:21:58.723903Z"
    }
   },
   "outputs": [],
   "source": [
    "data_PKS1510_Fermi=pd.read_csv('%s/4FGL_J1512.8-0906_daily_9_15_2022.csv'%lagdata_dir_PKS1510)\n",
    "data_PKS1510_Fermi['mjd']=data_PKS1510_Fermi['Julian Date']-2400000.5\n",
    "data_PKS1510_Fermi=data_PKS1510_Fermi[data_PKS1510_Fermi['TS']>4]\n",
    "\n",
    "data_PKS1510_Fermi['Photon Flux [0.1-100 GeV](photons cm-2 s-1)']=pd.to_numeric(data_PKS1510_Fermi['Photon Flux [0.1-100 GeV](photons cm-2 s-1)'])\n",
    "data_PKS1510_Fermi['Photon Flux Error(photons cm-2 s-1)']=pd.to_numeric(data_PKS1510_Fermi['Photon Flux Error(photons cm-2 s-1)'])\n",
    "\n",
    "data_PKS1510_Fermi=drop_index(data_PKS1510_Fermi)\n"
   ]
  },
  {
   "cell_type": "code",
   "execution_count": null,
   "metadata": {
    "ExecuteTime": {
     "end_time": "2022-10-14T03:18:44.493940Z",
     "start_time": "2022-10-14T03:18:44.482520Z"
    }
   },
   "outputs": [],
   "source": [
    "data_PKS1510_Fermi.columns"
   ]
  },
  {
   "cell_type": "code",
   "execution_count": null,
   "metadata": {
    "ExecuteTime": {
     "end_time": "2022-10-14T03:23:32.385443Z",
     "start_time": "2022-10-14T03:23:32.370676Z"
    }
   },
   "outputs": [],
   "source": [
    "range_l_mask_time_PKS1510,range_r_mask_time_PKS1510=(55000,57100)\n",
    "mask_time_PKS1510_fermi=np.logical_and(data_PKS1510_Fermi['mjd']>=range_l_mask_time_PKS1510,data_PKS1510_Fermi['mjd']<range_r_mask_time_PKS1510)\n",
    "data_PKS1510_Fermi_select=data_PKS1510_Fermi[mask_time_PKS1510_fermi]"
   ]
  },
  {
   "cell_type": "code",
   "execution_count": null,
   "metadata": {
    "ExecuteTime": {
     "end_time": "2022-10-14T03:20:11.060398Z",
     "start_time": "2022-10-14T03:20:11.049789Z"
    }
   },
   "outputs": [],
   "source": [
    "get_info(data_PKS1510_Fermi,'Photon Flux [0.1-100 GeV](photons cm-2 s-1)')"
   ]
  },
  {
   "cell_type": "code",
   "execution_count": null,
   "metadata": {
    "ExecuteTime": {
     "end_time": "2022-10-14T06:49:05.048752Z",
     "start_time": "2022-10-14T06:49:05.032968Z"
    }
   },
   "outputs": [],
   "source": [
    "min_PKS1510,max_PKS1510,mean_PKS1510=get_info(data_PKS1510_Fermi,'Photon Flux [0.1-100 GeV](photons cm-2 s-1)')\n",
    "for i in [min_PKS1510,max_PKS1510,mean_PKS1510]:\n",
    "    Li=4*np.pi*D_cm_PKS1510.value**2*i#*#15e9*1e-23*i#erg/s\n",
    "    print(Li)"
   ]
  },
  {
   "cell_type": "code",
   "execution_count": null,
   "metadata": {
    "ExecuteTime": {
     "end_time": "2022-10-14T03:23:37.791554Z",
     "start_time": "2022-10-14T03:23:37.780352Z"
    }
   },
   "outputs": [],
   "source": [
    "get_info(data_PKS1510_Fermi_select,'Photon Flux [0.1-100 GeV](photons cm-2 s-1)')"
   ]
  },
  {
   "cell_type": "code",
   "execution_count": null,
   "metadata": {
    "ExecuteTime": {
     "end_time": "2022-10-14T06:49:14.855982Z",
     "start_time": "2022-10-14T06:49:14.844091Z"
    }
   },
   "outputs": [],
   "source": [
    "min_PKS1510,max_PKS1510,mean_PKS1510=get_info(data_PKS1510_Fermi_select,'Photon Flux [0.1-100 GeV](photons cm-2 s-1)')\n",
    "for i in [min_PKS1510,max_PKS1510,mean_PKS1510]:\n",
    "    Li=4*np.pi*D_cm_PKS1510.value**2*i#*#15e9*1e-23*i#erg/s\n",
    "    print(Li)"
   ]
  },
  {
   "cell_type": "code",
   "execution_count": null,
   "metadata": {
    "ExecuteTime": {
     "end_time": "2022-10-14T03:26:11.376782Z",
     "start_time": "2022-10-14T03:26:11.367339Z"
    }
   },
   "outputs": [],
   "source": [
    "1/2.51"
   ]
  },
  {
   "cell_type": "code",
   "execution_count": null,
   "metadata": {},
   "outputs": [],
   "source": []
  },
  {
   "cell_type": "code",
   "execution_count": null,
   "metadata": {
    "ExecuteTime": {
     "end_time": "2022-09-16T02:17:35.304924Z",
     "start_time": "2022-09-16T02:17:35.292687Z"
    }
   },
   "outputs": [],
   "source": [
    "for i in data_PKS1510_Fermi['Photon Flux [0.1-100 GeV](photons cm-2 s-1)']:\n",
    "    if not float(i): #isinstance(i,float):\n",
    "        print(i)"
   ]
  },
  {
   "cell_type": "markdown",
   "metadata": {},
   "source": [
    "## PKS1510_V_FERMI_monitor"
   ]
  },
  {
   "cell_type": "code",
   "execution_count": null,
   "metadata": {
    "ExecuteTime": {
     "end_time": "2022-10-21T03:27:13.017714Z",
     "start_time": "2022-10-21T03:27:12.978935Z"
    }
   },
   "outputs": [],
   "source": [
    "data_PKS1510_V=pd.read_csv('%s/PKS 1510-08_V.csv'%lagdata_dir_PKS1510)\n",
    "data_PKS1510_V=fermi_monitor_Vmag_to_flux(data_PKS1510_V,data_PKS1510_V.columns[1],data_PKS1510_V.columns[2],D_cm_PKS1510)\n"
   ]
  },
  {
   "cell_type": "code",
   "execution_count": null,
   "metadata": {
    "ExecuteTime": {
     "end_time": "2022-10-21T03:27:14.340249Z",
     "start_time": "2022-10-21T03:27:14.323984Z"
    }
   },
   "outputs": [],
   "source": [
    "data_PKS1510_V.columns[1],data_PKS1510_V.columns[2]"
   ]
  },
  {
   "cell_type": "code",
   "execution_count": null,
   "metadata": {
    "ExecuteTime": {
     "end_time": "2022-09-22T14:50:56.629647Z",
     "start_time": "2022-09-22T14:50:56.618695Z"
    }
   },
   "outputs": [],
   "source": [
    "data_PKS1510_V.columns"
   ]
  },
  {
   "cell_type": "markdown",
   "metadata": {},
   "source": [
    "## PKS1510_Rband"
   ]
  },
  {
   "cell_type": "code",
   "execution_count": null,
   "metadata": {
    "ExecuteTime": {
     "end_time": "2022-10-21T03:27:17.628003Z",
     "start_time": "2022-10-21T03:27:17.603735Z"
    }
   },
   "outputs": [],
   "source": [
    "data_PKS1510_R=pd.read_csv('%s/PKS 1510-08_R.csv'%lagdata_dir_PKS1510)\n",
    "data_PKS1510_R=fermi_monitor_Rmag_to_flux(data_PKS1510_R,data_PKS1510_R.columns[1],data_PKS1510_R.columns[2],D_cm_PKS1510)"
   ]
  },
  {
   "cell_type": "code",
   "execution_count": null,
   "metadata": {
    "ExecuteTime": {
     "end_time": "2022-10-21T03:27:18.341174Z",
     "start_time": "2022-10-21T03:27:18.325328Z"
    }
   },
   "outputs": [],
   "source": [
    "lagdata_PKS1510_R=data_PKS1510_R[['mjd','logL_R','e_logL_R']]\n",
    "lagdata_PKS1510_R.columns=['t','logL_R','e_logL_R']\n",
    "lagdata_PKS1510_R=lagdata_PKS1510_R.sort_values('t')"
   ]
  },
  {
   "cell_type": "code",
   "execution_count": null,
   "metadata": {},
   "outputs": [],
   "source": []
  },
  {
   "cell_type": "markdown",
   "metadata": {},
   "source": [
    "## lagdata_PKS1510"
   ]
  },
  {
   "cell_type": "markdown",
   "metadata": {},
   "source": [
    "### lagdata_Fermi_PKS1510"
   ]
  },
  {
   "cell_type": "code",
   "execution_count": null,
   "metadata": {
    "ExecuteTime": {
     "end_time": "2022-10-21T03:27:32.374762Z",
     "start_time": "2022-10-21T03:27:32.358356Z"
    }
   },
   "outputs": [],
   "source": [
    "lagdata_PKS1510_Fermi=data_PKS1510_Fermi[['mjd','Photon Flux [0.1-100 GeV](photons cm-2 s-1)','Photon Flux Error(photons cm-2 s-1)']]\n",
    "lagdata_PKS1510_Fermi.columns=['t','flux','e_flux'] #0.1-100 GeV"
   ]
  },
  {
   "cell_type": "code",
   "execution_count": null,
   "metadata": {
    "ExecuteTime": {
     "end_time": "2022-10-21T03:27:38.064300Z",
     "start_time": "2022-10-21T03:27:38.010619Z"
    }
   },
   "outputs": [],
   "source": [
    "lagdata_PKS1510_Fermi['flux']=pd.to_numeric(lagdata_PKS1510_Fermi['flux'])*1e7\n",
    "lagdata_PKS1510_Fermi['e_flux']=pd.to_numeric(lagdata_PKS1510_Fermi['e_flux'])*1e7\n",
    "lagdata_PKS1510_Fermi=lagdata_PKS1510_Fermi.sort_values('t')\n",
    "lagdata_PKS1510_Fermi=drop_index(lagdata_PKS1510_Fermi)"
   ]
  },
  {
   "cell_type": "markdown",
   "metadata": {
    "ExecuteTime": {
     "end_time": "2022-09-16T01:53:10.243955Z",
     "start_time": "2022-09-16T01:53:10.235343Z"
    }
   },
   "source": [
    "for i in lagdata_PKS1510_Fermi['flux']:\n",
    "    if not isinstance(i,float):\n",
    "        print(i)"
   ]
  },
  {
   "cell_type": "code",
   "execution_count": null,
   "metadata": {
    "ExecuteTime": {
     "end_time": "2022-09-19T11:55:00.668910Z",
     "start_time": "2022-09-19T11:55:00.653458Z"
    }
   },
   "outputs": [],
   "source": [
    "pwd"
   ]
  },
  {
   "cell_type": "code",
   "execution_count": null,
   "metadata": {
    "ExecuteTime": {
     "end_time": "2022-09-19T11:54:58.232055Z",
     "start_time": "2022-09-19T11:54:58.075958Z"
    }
   },
   "outputs": [],
   "source": [
    "!open "
   ]
  },
  {
   "cell_type": "code",
   "execution_count": null,
   "metadata": {
    "ExecuteTime": {
     "end_time": "2022-09-17T13:51:27.232776Z",
     "start_time": "2022-09-17T13:51:27.222847Z"
    }
   },
   "outputs": [],
   "source": []
  },
  {
   "cell_type": "markdown",
   "metadata": {},
   "source": [
    "### stingray Lightcurve"
   ]
  },
  {
   "cell_type": "markdown",
   "metadata": {},
   "source": [
    "A Lightcurve object has the following properties :\n",
    "\n",
    "time : numpy array of time values\n",
    "\n",
    "counts : numpy array of counts per bin values\n",
    "\n",
    "counts_err: numpy array with the uncertainties on the values in counts\n",
    "\n",
    "countrate : numpy array of counts per second\n",
    "\n",
    "countrate_err: numpy array of the uncertainties on the values in countrate\n",
    "\n",
    "n : Number of data points in the lightcurve\n",
    "\n",
    "dt : Time resolution of the light curve\n",
    "\n",
    "tseg : Total duration of the light curve\n",
    "\n",
    "tstart : Start time of the light curve\n",
    "\n",
    "meancounts: The mean counts of the light curve\n",
    "\n",
    "meanrate: The mean count rate of the light curve\n",
    "\n",
    "mjdref: MJD reference date (tstart / 86400 gives the date in MJD at the start of the observation)\n",
    "\n",
    "gti:Good Time Intervals. They indicate the “safe” time intervals to be used during the analysis of the light curve.\n",
    "\n",
    "err_dist: Statistic of the Lightcurve, it is used to calculate the uncertainties and other statistical values appropriately. It propagates to Spectrum classes\n",
    "\n"
   ]
  },
  {
   "cell_type": "code",
   "execution_count": null,
   "metadata": {
    "ExecuteTime": {
     "end_time": "2022-09-17T13:44:19.057104Z",
     "start_time": "2022-09-17T13:44:18.972015Z"
    }
   },
   "outputs": [],
   "source": []
  },
  {
   "cell_type": "code",
   "execution_count": null,
   "metadata": {},
   "outputs": [],
   "source": []
  },
  {
   "cell_type": "code",
   "execution_count": null,
   "metadata": {
    "ExecuteTime": {
     "end_time": "2022-09-09T02:51:39.480721Z",
     "start_time": "2022-09-09T02:51:39.314683Z"
    }
   },
   "outputs": [],
   "source": [
    "ls /Volumes/ExtremeSSD/00PKU_SCI/FermiAGN_lag/lag_data_PKS1510"
   ]
  },
  {
   "cell_type": "code",
   "execution_count": null,
   "metadata": {
    "ExecuteTime": {
     "end_time": "2022-09-09T03:02:11.439463Z",
     "start_time": "2022-09-09T03:02:11.424395Z"
    }
   },
   "outputs": [],
   "source": []
  },
  {
   "cell_type": "markdown",
   "metadata": {},
   "source": [
    "### lag_PKS1510_15GHz_combine"
   ]
  },
  {
   "cell_type": "code",
   "execution_count": null,
   "metadata": {
    "ExecuteTime": {
     "end_time": "2022-09-23T03:29:32.309478Z",
     "start_time": "2022-09-23T03:29:32.297756Z"
    }
   },
   "outputs": [],
   "source": [
    "lag_15GHz_PKS1510=mojave_15GHz_PKS1510[['mjd','flux','err']]\n",
    "lag_15GHz_PKS1510.columns=['t','flux','err']\n",
    "lag_15GHz_PKS1510=lag_15GHz_PKS1510.sort_values('t')\n",
    "lag_mojave15GHz_PKS1510=drop_index(lag_15GHz_PKS1510)"
   ]
  },
  {
   "cell_type": "code",
   "execution_count": null,
   "metadata": {
    "ExecuteTime": {
     "end_time": "2022-09-23T03:29:33.119742Z",
     "start_time": "2022-09-23T03:29:33.111173Z"
    }
   },
   "outputs": [],
   "source": [
    "lag_PKS1510_ovro=table_OVRO_PKS1510_extract[['mjd','flux_15GHZ_ovro','err']]\n",
    "lag_PKS1510_ovro.columns=['t','flux','err']"
   ]
  },
  {
   "cell_type": "code",
   "execution_count": null,
   "metadata": {
    "ExecuteTime": {
     "end_time": "2022-09-23T03:29:34.123515Z",
     "start_time": "2022-09-23T03:29:34.112661Z"
    }
   },
   "outputs": [],
   "source": [
    "lag_PKS1510_15GHz_combine=pd.concat([lag_mojave15GHz_PKS1510,lag_PKS1510_ovro])\n",
    "lag_PKS1510_15GHz_combine=lag_PKS1510_15GHz_combine.sort_values('t')\n",
    "lag_PKS1510_15GHz_combine=drop_index(lag_PKS1510_15GHz_combine)"
   ]
  },
  {
   "cell_type": "markdown",
   "metadata": {
    "ExecuteTime": {
     "end_time": "2022-09-09T06:30:18.818195Z",
     "start_time": "2022-09-09T06:30:18.799716Z"
    }
   },
   "source": [
    "lag_PKS1510_15GHz_combine"
   ]
  },
  {
   "cell_type": "markdown",
   "metadata": {},
   "source": [
    "### lag_PKS1510_line"
   ]
  },
  {
   "cell_type": "code",
   "execution_count": null,
   "metadata": {
    "ExecuteTime": {
     "end_time": "2022-09-09T02:56:29.659700Z",
     "start_time": "2022-09-09T02:56:29.648938Z"
    }
   },
   "outputs": [],
   "source": [
    "data_PKS1510.colnames"
   ]
  },
  {
   "cell_type": "code",
   "execution_count": null,
   "metadata": {
    "ExecuteTime": {
     "end_time": "2022-09-23T03:29:36.723262Z",
     "start_time": "2022-09-23T03:29:36.713870Z"
    }
   },
   "outputs": [],
   "source": [
    "lag_PKS1510_5100=data_PKS1510[['MJD','F5100','e_F5100',]]\n",
    "lag_PKS1510_5100=lag_PKS1510_5100.to_pandas()\n",
    "lag_PKS1510_5100.columns=['t','flux','err']"
   ]
  },
  {
   "cell_type": "code",
   "execution_count": null,
   "metadata": {
    "ExecuteTime": {
     "end_time": "2022-09-23T03:29:37.169790Z",
     "start_time": "2022-09-23T03:29:37.158180Z"
    }
   },
   "outputs": [],
   "source": [
    "lag_PKS1510_5100D=data_PKS1510[['MJD','F5100D','e_F5100D',]]\n",
    "lag_PKS1510_5100D=lag_PKS1510_5100D.to_pandas()\n",
    "lag_PKS1510_5100D.columns=['t','flux','err']"
   ]
  },
  {
   "cell_type": "code",
   "execution_count": null,
   "metadata": {
    "ExecuteTime": {
     "end_time": "2022-09-23T03:29:37.686630Z",
     "start_time": "2022-09-23T03:29:37.675989Z"
    }
   },
   "outputs": [],
   "source": [
    "lag_PKS1510_FHb=data_PKS1510[['MJD','FHb','e_FHb',]]\n",
    "lag_PKS1510_FHb=lag_PKS1510_FHb.to_pandas()\n",
    "lag_PKS1510_FHb.columns=['t','flux','err']"
   ]
  },
  {
   "cell_type": "code",
   "execution_count": null,
   "metadata": {
    "ExecuteTime": {
     "end_time": "2022-09-23T03:29:38.184487Z",
     "start_time": "2022-09-23T03:29:38.174244Z"
    }
   },
   "outputs": [],
   "source": [
    "lag_PKS1510_FHbD=data_PKS1510[['MJD','FHbD','e_FHbD',]]\n",
    "lag_PKS1510_FHbD=lag_PKS1510_FHbD.to_pandas()\n",
    "lag_PKS1510_FHbD.columns=['t','flux','err']"
   ]
  },
  {
   "cell_type": "code",
   "execution_count": null,
   "metadata": {
    "ExecuteTime": {
     "end_time": "2022-09-23T03:29:46.019042Z",
     "start_time": "2022-09-23T03:29:46.010059Z"
    }
   },
   "outputs": [],
   "source": [
    "lag_PKS1510_L5100minusLp=data_PKS1510[['MJD','L5100minusLp','e_F5100']]\n",
    "lag_PKS1510_L5100minusLp=lag_PKS1510_L5100minusLp.to_pandas()\n",
    "lag_PKS1510_L5100minusLp.columns=['t','flux','err']"
   ]
  },
  {
   "cell_type": "markdown",
   "metadata": {},
   "source": [
    "### lag_PKS1510_pol"
   ]
  },
  {
   "cell_type": "code",
   "execution_count": null,
   "metadata": {
    "ExecuteTime": {
     "end_time": "2022-10-14T06:27:56.817490Z",
     "start_time": "2022-10-14T06:27:56.797276Z"
    }
   },
   "outputs": [],
   "source": [
    "data_PKS1510_Pol_optical=pd.read_csv('%s/PKS 1510-08_pol.csv'%lagdata_dir_PKS1510)\n",
    "data_PKS1510_Pol_optical.columns=['JD','Pol_Optical','e_Pol_Optical','t']\n",
    "\n",
    "lagdata_PKS1510_Pol_optical=data_PKS1510_Pol_optical[['t','Pol_Optical','e_Pol_Optical']]\n",
    "lagdata_PKS1510_Pol_optical=lagdata_PKS1510_Pol_optical.sort_values('t')"
   ]
  },
  {
   "cell_type": "code",
   "execution_count": null,
   "metadata": {
    "ExecuteTime": {
     "end_time": "2022-10-14T06:27:58.002490Z",
     "start_time": "2022-10-14T06:27:57.985936Z"
    }
   },
   "outputs": [],
   "source": [
    "data_PKS1510_Pol_pa_optical=pd.read_csv('%s/PKS 1510-08_pol_pa.csv'%lagdata_dir_PKS1510)\n",
    "data_PKS1510_Pol_pa_optical.columns=['JD','Pol_PA_Optical','e_Pol_PA_Optical','t']\n",
    "lagdata_PKS1510_Pol_pa_optical=data_PKS1510_Pol_pa_optical[['t','Pol_PA_Optical','e_Pol_PA_Optical']]\n",
    "lagdata_PKS1510_Pol_pa_optical=lagdata_PKS1510_Pol_pa_optical.sort_values('t')"
   ]
  },
  {
   "cell_type": "code",
   "execution_count": null,
   "metadata": {
    "ExecuteTime": {
     "end_time": "2022-09-23T06:28:30.076224Z",
     "start_time": "2022-09-23T06:28:30.059486Z"
    }
   },
   "outputs": [],
   "source": [
    "data_PKS1510_VLBA_Pol=pd.read_csv('%s/PKS 1510-08_VLBA_Pol.csv'%lagdata_dir_PKS1510)\n",
    "#data_PKS1510_VLBA_I_Jy.columns\n",
    "data_PKS1510_VLBA_Pol.columns=['t','Pol_15GHz','e_Pol_15GHz']\n",
    "#lagdata_PKS1510_VLBA_I_Jy=data_PKS1510_VLBA_I_Jy[['t','I','e_I']]\n",
    "lagdata_PKS1510_VLBA_Pol=data_PKS1510_VLBA_Pol.sort_values('t')"
   ]
  },
  {
   "cell_type": "code",
   "execution_count": null,
   "metadata": {
    "ExecuteTime": {
     "end_time": "2022-09-23T06:28:30.577675Z",
     "start_time": "2022-09-23T06:28:30.560684Z"
    }
   },
   "outputs": [],
   "source": [
    "data_PKS1510_VLBA_Pol_PA=pd.read_csv('%s/PKS 1510-08_VLBA_Pol_PA.csv'%lagdata_dir_PKS1510)\n",
    "#data_PKS1510_VLBA_I_Jy.columns\n",
    "data_PKS1510_VLBA_Pol_PA.columns=['t','Pol_PA_15GHz','e_Pol_PA_15GHz']\n",
    "#lagdata_PKS1510_VLBA_I_Jy=data_PKS1510_VLBA_I_Jy[['t','I','e_I']]\n",
    "lagdata_PKS1510_VLBA_Pol_PA=data_PKS1510_VLBA_Pol_PA.sort_values('t')"
   ]
  },
  {
   "cell_type": "code",
   "execution_count": null,
   "metadata": {
    "ExecuteTime": {
     "end_time": "2022-10-14T06:28:03.416985Z",
     "start_time": "2022-10-14T06:28:03.405561Z"
    }
   },
   "outputs": [],
   "source": [
    "get_info(lagdata_PKS1510_Pol_optical,'Pol_Optical')"
   ]
  },
  {
   "cell_type": "code",
   "execution_count": null,
   "metadata": {
    "ExecuteTime": {
     "end_time": "2022-09-09T06:51:33.138475Z",
     "start_time": "2022-09-09T06:51:33.128936Z"
    }
   },
   "outputs": [],
   "source": [
    "1-1/2.51"
   ]
  },
  {
   "cell_type": "code",
   "execution_count": null,
   "metadata": {
    "ExecuteTime": {
     "end_time": "2022-09-09T06:52:33.262212Z",
     "start_time": "2022-09-09T06:52:33.252281Z"
    }
   },
   "outputs": [],
   "source": [
    "6.13e44*0.4"
   ]
  },
  {
   "cell_type": "code",
   "execution_count": null,
   "metadata": {
    "ExecuteTime": {
     "end_time": "2022-09-09T06:52:39.521953Z",
     "start_time": "2022-09-09T06:52:39.512487Z"
    }
   },
   "outputs": [],
   "source": [
    "6.13e44*0.33"
   ]
  },
  {
   "cell_type": "code",
   "execution_count": null,
   "metadata": {
    "ExecuteTime": {
     "end_time": "2022-09-09T07:36:07.960166Z",
     "start_time": "2022-09-09T07:36:07.952609Z"
    }
   },
   "outputs": [],
   "source": [
    "mean_NTD=1.67\n",
    "print('Disk and Jet contribution %.2f %.2f'%(1/mean_NTD,1-1/mean_NTD))"
   ]
  },
  {
   "cell_type": "markdown",
   "metadata": {},
   "source": [
    "###  lag_PKS1510_V"
   ]
  },
  {
   "cell_type": "code",
   "execution_count": null,
   "metadata": {
    "ExecuteTime": {
     "end_time": "2022-09-23T07:26:00.335363Z",
     "start_time": "2022-09-23T07:26:00.323200Z"
    }
   },
   "outputs": [],
   "source": [
    "lagdata_PKS1510_V=data_PKS1510_V[['mjd','logL_V','e_logL_V']]\n",
    "lagdata_PKS1510_V.columns=['t','logL_V','e_logL_V']\n",
    "lagdata_PKS1510_V=lagdata_PKS1510_V.sort_values('t')\n",
    "lagdata_PKS1510_V=drop_index(lagdata_PKS1510_V)"
   ]
  },
  {
   "cell_type": "code",
   "execution_count": null,
   "metadata": {
    "ExecuteTime": {
     "end_time": "2022-09-23T07:11:11.664835Z",
     "start_time": "2022-09-23T07:11:11.650404Z"
    }
   },
   "outputs": [],
   "source": [
    "lagdata_SMARTS_PKS1510V=table_SMARTS_PKS1510V[['mjd', 'logL_V', 'e_logL_V']]\n",
    "lagdata_SMARTS_PKS1510V.columns=['t', 'logL_V', 'e_logL_V']\n",
    "lagdata_SMARTS_PKS1510V=lagdata_SMARTS_PKS1510V.sort_values('t')\n",
    "lagdata_SMARTS_PKS1510V=drop_index(lagdata_SMARTS_PKS1510V)"
   ]
  },
  {
   "cell_type": "code",
   "execution_count": null,
   "metadata": {
    "ExecuteTime": {
     "end_time": "2022-09-23T07:26:31.238122Z",
     "start_time": "2022-09-23T07:26:31.224911Z"
    }
   },
   "outputs": [],
   "source": [
    "lagdata_PKS1510_combineV=pd.concat([lagdata_SMARTS_PKS1510V,lagdata_PKS1510_V])\n",
    "lagdata_PKS1510_combineV=lagdata_PKS1510_combineV.sort_values('t')\n",
    "lagdata_PKS1510_combineV=drop_index(lagdata_PKS1510_combineV)"
   ]
  },
  {
   "cell_type": "code",
   "execution_count": null,
   "metadata": {},
   "outputs": [],
   "source": []
  },
  {
   "cell_type": "code",
   "execution_count": null,
   "metadata": {},
   "outputs": [],
   "source": []
  },
  {
   "cell_type": "markdown",
   "metadata": {},
   "source": [
    "## plot_lc_PKS1510"
   ]
  },
  {
   "cell_type": "markdown",
   "metadata": {},
   "source": [
    "### line"
   ]
  },
  {
   "cell_type": "code",
   "execution_count": null,
   "metadata": {
    "ExecuteTime": {
     "end_time": "2022-09-23T06:40:54.904706Z",
     "start_time": "2022-09-23T06:40:51.746941Z"
    },
    "scrolled": false
   },
   "outputs": [],
   "source": [
    "figure_n= 8\n",
    "\n",
    "fig = plt.figure(figsize=(12,figure_n*3))\n",
    "fig.subplots_adjust(hspace=0.0, wspace = 0.0)\n",
    "\n",
    "ax = fig.add_subplot(figure_n,1,1)\n",
    "\n",
    "for i in range(len(data_PKS1510)):\n",
    "    \n",
    "    ax.errorbar(data_PKS1510['MJD'][i],data_PKS1510['F5100'][i]*flux_scale_5100_PKS1510*5100,\n",
    "              ls=':',marker='.',color='r',markersize=10,label='5100')\n",
    "ax.set_title('PKS1510-089')\n",
    "ax.set_xlabel(r'MJD(d)')\n",
    "ax.set_ylabel(r'Flux($\\mathrm{erg s^{-1}}$)')\n",
    "    \n",
    "##########################################    \n",
    "ax2 = fig.add_subplot(figure_n,1,2,sharex=ax)\n",
    "for i in range(len(data_PKS1510)):\n",
    "    #print(data_PKS1510['MJD'][i],data_PKS1510['FHb'][i]*flux_scale_Hbeta_PKS1510)    \n",
    "    ax2.errorbar(data_PKS1510['MJD'][i],data_PKS1510['FHb'][i]*flux_scale_Hbeta_PKS1510,\n",
    "              ls=':',marker='.',color='blue',markersize=10,label='Hbeta')\n",
    "\n",
    "ax2.set_ylabel(r'Flux($\\mathrm{erg s^{-1}}$)')\n",
    "    \n",
    "\n",
    "#x=np.log10(data_PKS1510[flux_label_PKS1510]*flux_scale_5100_PKS1510*5100)\n",
    "#y=np.log10(data_PKS1510[flux_label_1_PKS1510]*flux_scale_Hbeta_PKS1510)\n",
    "##########################################\n",
    "ax3 = fig.add_subplot(figure_n,1,3,sharex=ax)\n",
    "ax3.errorbar(data_PKS1510['MJD'],data_PKS1510['L5100minusLp'],\n",
    "              ls=':',marker='.',markersize=10,color='grey',label='Non-thermal')\n",
    "ax3.set_ylabel(r'Flux($\\mathrm{erg s^{-1}}$)')\n",
    "\n",
    "##########################################\n",
    "ax3_1 = fig.add_subplot(figure_n,1,4,sharex=ax)\n",
    "ax3_1.errorbar(lagtable_ATCA_PKS1510_5GHz['t'],lagtable_ATCA_PKS1510_5GHz['flux'],lagtable_ATCA_PKS1510_5GHz['e_flux'],\n",
    "              ls=':',marker='*',markersize=10,color='grey',label='VLA_5GHz')\n",
    "\n",
    "ax3_1.set_ylabel(r'Flux($Jy$)')\n",
    "\n",
    "##########################################\n",
    "ax3_2 = fig.add_subplot(figure_n,1,5,sharex=ax)\n",
    "ax3_2.errorbar(mojave_15GHz_PKS1510['mjd'],mojave_15GHz_PKS1510['flux'],mojave_15GHz_PKS1510['err'],\n",
    "              ls='',marker='*',markersize=10,color='grey',label='mojave_15GHz')\n",
    "ax3_2.errorbar(table_OVRO_PKS1510_extract['mjd'],table_OVRO_PKS1510_extract['flux_15GHZ_ovro'],\n",
    "            #mojave_15GHz_PKS1510['err'],\n",
    "            ls='',marker='.',markersize=10,color='black',label='ovro_15GHz')\n",
    "ax3_2.set_ylabel(r'Flux($Jy$)')\n",
    "\n",
    "##########################################\n",
    "ax3_3 = fig.add_subplot(figure_n,1,6,sharex=ax)\n",
    "ax3_3.errorbar(SMA_PKS1510_1mm['mjd'],SMA_PKS1510_1mm['FLUX(JY)'],SMA_PKS1510_1mm['ERROR'],\n",
    "              ls=':',marker='.',markersize=10,color='r',label='SMA 300GHz')\n",
    "ax3_3.errorbar(SMA_PKS1510_850['mjd'],SMA_PKS1510_850['FLUX(JY)'],SMA_PKS1510_850['ERROR'],\n",
    "              ls=':',marker='.',markersize=10,color='b',label='SMA 350GHz')\n",
    "\n",
    "ax3_3.set_ylabel(r'Flux($Jy$)')\n",
    "\n",
    "##########################################\n",
    "ax3_4 = fig.add_subplot(figure_n,1,figure_n-1,sharex=ax)\n",
    "ax3_4.errorbar(lagdata_PKS1510_Fermi['t'],\n",
    "               lagdata_PKS1510_Fermi['flux'],\n",
    "               lagdata_PKS1510_Fermi['e_flux'],\n",
    "              ls=':',marker='.',markersize=10,color='grey',label='Fermi')\n",
    "ax3_4.set_ylabel(r'Flux(photons cm-2 s-1)')\n",
    "\n",
    "\n",
    "##########################################\n",
    "ax4 = fig.add_subplot(figure_n,1,figure_n,sharex=ax)\n",
    "ax4.errorbar(data_PKS1510['MJD'],data_PKS1510['NTD'],\n",
    "              ls=':',marker='.',markersize=10,color='grey',label='NTD')\n",
    "ax4.set_ylabel(r'NTD')\n",
    "\n",
    "\n",
    "\n",
    "set_ax_tick(ax) \n",
    "set_ax_tick(ax2) \n",
    "set_ax_tick(ax3) \n",
    "set_ax_tick(ax3_1) \n",
    "set_ax_tick(ax3_2) \n",
    "set_ax_tick(ax3_3) \n",
    "set_ax_tick(ax3_4) \n",
    "set_ax_tick(ax4) \n",
    "\n",
    "set_ax_legend(ax,bbox_to_anchor=(0.01, 0.99))\n",
    "set_ax_legend(ax2,bbox_to_anchor=(0.01, 0.99))\n",
    "set_ax_legend(ax3,bbox_to_anchor=(0.01, 0.99))\n",
    "set_ax_legend(ax3_1,bbox_to_anchor=(0.01, 0.99))\n",
    "set_ax_legend(ax3_2,bbox_to_anchor=(0.01, 0.99))\n",
    "set_ax_legend(ax3_3,bbox_to_anchor=(0.01, 0.99))\n",
    "set_ax_legend(ax3_4,bbox_to_anchor=(0.01, 0.99))\n",
    "set_ax_legend(ax4,bbox_to_anchor=(0.01, 0.99))\n",
    "\n",
    "\n",
    "plot_secax(ax,mi_interval=180,ma_interval=360,rotation=30) \n",
    "\n",
    "range_l,range_r=(54800+1,55300-1)\n",
    "\n",
    "ax.set_xlim(range_l,range_r)\n",
    "\n",
    "save_lc_img_path='/Users/lyubing/IHEPBox/JetRM_plot/PKS1510_plot/Spec_PKS1510_lc_%d_%d.png'%(range_l,range_r)\n",
    "#save_lc_img_path='/Users/brettlv/Downloads/PKS1510_plot/Mojave_15GHz_I_lc.png'\n",
    "plt.savefig(save_lc_img_path,dpi=400, transparent=False, bbox_inches='tight')\n",
    "#plt.close()\n",
    "\n",
    "\n"
   ]
  },
  {
   "cell_type": "code",
   "execution_count": null,
   "metadata": {},
   "outputs": [],
   "source": []
  },
  {
   "cell_type": "code",
   "execution_count": null,
   "metadata": {
    "ExecuteTime": {
     "end_time": "2022-09-16T05:02:40.506217Z",
     "start_time": "2022-09-16T05:02:38.400850Z"
    }
   },
   "outputs": [],
   "source": [
    "figure_n= 3\n",
    "\n",
    "fig = plt.figure(figsize=(12,figure_n*3))\n",
    "fig.subplots_adjust(hspace=0.0, wspace = 0.0)\n",
    "\n",
    "ax = fig.add_subplot(figure_n,1,1)\n",
    "\n",
    "for i in range(len(data_PKS1510)):   \n",
    "    ax.errorbar(data_PKS1510['MJD'][i],data_PKS1510['F5100'][i]*flux_scale_5100_PKS1510*5100,\n",
    "              ls=':',marker='.',color='r',markersize=10,label='5100')\n",
    "ax.set_title('PKS1510-089')\n",
    "ax.set_xlabel(r'MJD(d)')\n",
    "ax.set_ylabel(r'Flux($\\mathrm{erg s^{-1}}$)')\n",
    "    \n",
    "ax2 = fig.add_subplot(figure_n,1,2,sharex=ax)    \n",
    "data_plot=lag_PKS1510_15GHz_combine\n",
    "ax2.errorbar(data_plot[data_plot.columns[0]],\n",
    "             data_plot[data_plot.columns[1]],\n",
    "             data_plot[data_plot.columns[2]]\n",
    "             , marker = 'o', linestyle = ':', color = 'cyan', \n",
    "             label = '15GHz' )\n",
    "ax2.set_ylabel(r'Flux ($\\mathrm{Jy}$)')\n",
    "    \n",
    "    \n",
    "ax3 = fig.add_subplot(figure_n,1,figure_n,sharex=ax)    \n",
    "data_plot=lagdata_PKS1510_Pol_optical\n",
    "ax3.errorbar(data_plot[data_plot.columns[0]],\n",
    "             data_plot[data_plot.columns[1]],\n",
    "             data_plot[data_plot.columns[2]]\n",
    "             , marker = 'o', linestyle = ':', color = 'r', \n",
    "             label = data_plot.columns[1] )\n",
    "ax3.set_ylabel(r'degree')\n",
    "\n",
    "##########################################\n",
    "\n",
    "\n",
    "\n",
    "\n",
    "set_ax_tick(ax) \n",
    "set_ax_tick(ax2) \n",
    "set_ax_tick(ax3) \n",
    "\n",
    "set_ax_legend(ax,bbox_to_anchor=(0.01, 0.99))\n",
    "set_ax_legend(ax2,bbox_to_anchor=(0.01, 0.99))\n",
    "set_ax_legend(ax3,bbox_to_anchor=(0.01, 0.99))\n",
    "\n",
    "\n",
    "plot_secax(ax,mi_interval=180,ma_interval=360,rotation=30) \n",
    "\n",
    "range_l,range_r=(54800+1,55300-1)\n",
    "ax.set_xlim(range_l,range_r)\n",
    "save_lc_img_path='/Users/lyubing/IHEPBox/JetRM_plot/PKS1510_plot/Spec_PKS1510_lc3_%d_%d.png'%(range_l,range_r)\n",
    "#save_lc_img_path='/Users/brettlv/Downloads/PKS1510_plot/Mojave_15GHz_I_lc.png'\n",
    "plt.savefig(save_lc_img_path,dpi=400, transparent=False, bbox_inches='tight')\n",
    "#plt.close()\n",
    "\n",
    "\n"
   ]
  },
  {
   "cell_type": "code",
   "execution_count": null,
   "metadata": {
    "ExecuteTime": {
     "end_time": "2022-09-16T05:30:17.624967Z",
     "start_time": "2022-09-16T05:30:17.613588Z"
    }
   },
   "outputs": [],
   "source": [
    "min(data_PKS1510['MJD']),max(data_PKS1510['MJD'])"
   ]
  },
  {
   "cell_type": "markdown",
   "metadata": {
    "ExecuteTime": {
     "end_time": "2022-09-16T05:01:06.883547Z",
     "start_time": "2022-09-16T05:01:06.872021Z"
    }
   },
   "source": [
    "data_PKS1510['MJD'][:10]"
   ]
  },
  {
   "cell_type": "markdown",
   "metadata": {
    "ExecuteTime": {
     "end_time": "2022-09-16T05:01:24.245796Z",
     "start_time": "2022-09-16T05:01:24.234372Z"
    }
   },
   "source": [
    "lagdata_PKS1510_Pol_optical['t'][:10]"
   ]
  },
  {
   "cell_type": "code",
   "execution_count": null,
   "metadata": {
    "ExecuteTime": {
     "end_time": "2022-09-16T05:10:05.622368Z",
     "start_time": "2022-09-16T05:10:05.612459Z"
    }
   },
   "outputs": [],
   "source": [
    "lag_PKS1510_15GHz_combine.columns"
   ]
  },
  {
   "cell_type": "markdown",
   "metadata": {},
   "source": [
    "### fit_radio_lc"
   ]
  },
  {
   "cell_type": "code",
   "execution_count": null,
   "metadata": {
    "ExecuteTime": {
     "end_time": "2022-09-26T12:16:51.481301Z",
     "start_time": "2022-09-26T12:16:51.473193Z"
    }
   },
   "outputs": [],
   "source": [
    "from astropy.modeling import Fittable1DModel, Parameter\n",
    "from astropy.modeling import models\n",
    "from astropy.modeling.models import Linear1D,Gaussian1D\n",
    "from astropy.modeling.models import custom_model\n",
    "from astropy.modeling.models import Const1D"
   ]
  },
  {
   "cell_type": "code",
   "execution_count": null,
   "metadata": {
    "ExecuteTime": {
     "end_time": "2022-09-23T06:21:34.514273Z",
     "start_time": "2022-09-23T06:21:34.479183Z"
    }
   },
   "outputs": [],
   "source": [
    "range_l,range_r=(54928,55300-1)\n",
    "t=lag_PKS1510_15GHz_combine['t']\n",
    "mask_range=np.logical_and(t >= range_l, t < range_r)\n",
    "\n",
    "lag_PKS1510_15GHz_combine_select=lag_PKS1510_15GHz_combine[mask_range]\n",
    "\n",
    "t_fit=lag_PKS1510_15GHz_combine_select['t']-54800\n",
    "flux_fit=lag_PKS1510_15GHz_combine_select['flux']\n",
    "\n",
    "#lag_PKS1510_15GHz_combine_select\n",
    "\n",
    "gauss1 = models.Gaussian1D(amplitude=3., mean=200, stddev=1.,\n",
    "                              bounds={\"mean\": (150, 250.0),\"amplitude\":(0.1,10),\"stddev\":(1,1000)}\n",
    "                          )\n",
    "\n",
    "gauss2 = models.Gaussian1D(amplitude=3., mean=400, stddev=1.,\n",
    "                              bounds={\"mean\": (350, 450.0),\"amplitude\":(1,5),\"stddev\":(1,1000)}\n",
    "                          )\n",
    "\n",
    "#linear1 = LineModel(slope=-0.1, intercept=2.0)\n",
    "linear1 = Linear1D(slope=0.1, intercept=2.0,\n",
    "                 bounds={\"slope\": (-0.1, 0.1)}\n",
    "                )\n",
    "\n",
    "func_combine=gauss1+gauss2#+linear1\n",
    "fit_g_combine = fitting.LevMarLSQFitter()\n",
    "g_combine  = fit_g_combine(func_combine, t_fit,flux_fit)"
   ]
  },
  {
   "cell_type": "code",
   "execution_count": null,
   "metadata": {
    "ExecuteTime": {
     "end_time": "2022-09-23T06:21:49.818055Z",
     "start_time": "2022-09-23T06:21:49.805400Z"
    }
   },
   "outputs": [],
   "source": [
    "print(g_combine)"
   ]
  },
  {
   "cell_type": "code",
   "execution_count": null,
   "metadata": {
    "ExecuteTime": {
     "end_time": "2022-09-23T06:22:15.432944Z",
     "start_time": "2022-09-23T06:22:15.291802Z"
    }
   },
   "outputs": [],
   "source": [
    "figure_n= 2\n",
    "\n",
    "fig = plt.figure(figsize=(6,figure_n*3))\n",
    "fig.subplots_adjust(hspace=0.0, wspace = 0.0)\n",
    "\n",
    "ax = fig.add_subplot(figure_n,1,1)\n",
    "ax.scatter(t_fit+54800,flux_fit,color='r',marker='.')\n",
    "ax.plot(t_fit+54800,g_combine(t_fit),color='grey',marker='.')\n",
    "ax.set_ylabel('15GHz(Jy)')\n",
    "\n",
    "ax2 = fig.add_subplot(figure_n,1,2,sharex=ax)\n",
    "ax2.plot(t_fit+54800,(flux_fit-g_combine(t_fit))/flux_fit,color='grey',marker='.')\n",
    "ax2.set_ylabel('residual')\n",
    "\n",
    "ax2.set_xlabel('MJD')\n",
    "set_ax_tick(ax)\n",
    "set_ax_tick(ax2)\n",
    "plt.show()\n"
   ]
  },
  {
   "cell_type": "code",
   "execution_count": null,
   "metadata": {
    "ExecuteTime": {
     "end_time": "2022-09-26T12:16:45.419431Z",
     "start_time": "2022-09-26T12:16:45.410256Z"
    }
   },
   "outputs": [],
   "source": []
  },
  {
   "cell_type": "code",
   "execution_count": null,
   "metadata": {
    "ExecuteTime": {
     "end_time": "2022-09-26T12:26:32.273001Z",
     "start_time": "2022-09-26T12:26:32.261172Z"
    }
   },
   "outputs": [],
   "source": [
    "@custom_model\n",
    "def const3d(x, y, z, amp=1):\n",
    "    return amp\n",
    "\n",
    "@custom_model\n",
    "def const1d(x, amp=1):\n",
    "    return amp\n",
    "\n",
    "class subflareModel(Fittable1DModel):\n",
    "    F0 = Parameter()\n",
    "    t0 = Parameter()\n",
    "    Tr = Parameter()\n",
    "    Td = Parameter()\n",
    "    #Fb = Parameter()\n",
    "    \n",
    "    linear = True\n",
    "\n",
    "    @staticmethod\n",
    "    def evaluate(t,F0,t0,Tr,Td):\n",
    "        return 2*F0*(np.exp((t0-t)/Tr)+np.exp((t-t0)/Td))**(-1.0)#+Fb\n",
    "    \n"
   ]
  },
  {
   "cell_type": "code",
   "execution_count": null,
   "metadata": {
    "ExecuteTime": {
     "end_time": "2022-09-26T12:25:56.811503Z",
     "start_time": "2022-09-26T12:25:56.758029Z"
    }
   },
   "outputs": [],
   "source": [
    "range_l,range_r=(54928,55300-1)\n",
    "t=lag_PKS1510_15GHz_combine['t']\n",
    "mask_range=np.logical_and(t >= range_l, t < range_r)\n",
    "\n",
    "lag_PKS1510_15GHz_combine_select=lag_PKS1510_15GHz_combine[mask_range]\n",
    "\n",
    "t_fit=lag_PKS1510_15GHz_combine_select['t']#-54800\n",
    "flux_fit=lag_PKS1510_15GHz_combine_select['flux']\n",
    "\n",
    "\n",
    "smodel_1=subflareModel(1,55000,1,2)\n",
    "smodel_2=subflareModel(1,55200,1,2)\n",
    "const1D=Const1D(1)\n",
    "#Const1D = custom_model(const1d)\n",
    "#Const3D = custom_model(const3d)\n",
    "\n",
    "smodel=smodel_1+smodel_2+const1D\n",
    "fit_lightcurve = fitting.LevMarLSQFitter()\n",
    "fit_lc = fit_lightcurve(smodel, t_fit, flux_fit)\n"
   ]
  },
  {
   "cell_type": "code",
   "execution_count": null,
   "metadata": {
    "ExecuteTime": {
     "end_time": "2022-09-26T12:25:57.759009Z",
     "start_time": "2022-09-26T12:25:57.749219Z"
    }
   },
   "outputs": [],
   "source": [
    "fit_lc "
   ]
  },
  {
   "cell_type": "code",
   "execution_count": null,
   "metadata": {
    "ExecuteTime": {
     "end_time": "2022-09-26T12:26:02.065289Z",
     "start_time": "2022-09-26T12:26:01.932317Z"
    }
   },
   "outputs": [],
   "source": [
    "figure_n= 2\n",
    "\n",
    "fig = plt.figure(figsize=(6,figure_n*3))\n",
    "fig.subplots_adjust(hspace=0.0, wspace = 0.0)\n",
    "\n",
    "ax = fig.add_subplot(figure_n,1,1)\n",
    "ax.scatter(t_fit,flux_fit,color='r',marker='.')\n",
    "#ax.plot(t_fit,fit_lc(t_fit),color='grey',marker='.')\n",
    "t_lin=np.linspace(54900,55300,100)\n",
    "ax.plot(t_lin,fit_lc(t_lin),color='grey',marker='.',ls='',label='fit')\n",
    "ax.set_ylabel('15GHz(Jy)')\n",
    "\n",
    "ax2 = fig.add_subplot(figure_n,1,2,sharex=ax)\n",
    "ax2.plot(t_fit,(flux_fit-fit_lc(t_fit))/flux_fit,color='grey',marker='.')\n",
    "ax2.set_ylabel('residual')\n",
    "\n",
    "ax2.set_xlabel('MJD')\n",
    "set_ax_tick(ax)\n",
    "set_ax_tick(ax2)\n",
    "plt.show()\n"
   ]
  },
  {
   "cell_type": "code",
   "execution_count": null,
   "metadata": {
    "ExecuteTime": {
     "end_time": "2022-09-26T12:37:22.567651Z",
     "start_time": "2022-09-26T12:37:22.561542Z"
    }
   },
   "outputs": [],
   "source": [
    "import sys"
   ]
  },
  {
   "cell_type": "code",
   "execution_count": null,
   "metadata": {
    "ExecuteTime": {
     "end_time": "2022-09-26T12:37:25.049935Z",
     "start_time": "2022-09-26T12:37:25.039830Z"
    }
   },
   "outputs": [],
   "source": [
    "pwd"
   ]
  },
  {
   "cell_type": "code",
   "execution_count": null,
   "metadata": {
    "ExecuteTime": {
     "end_time": "2022-09-26T12:37:20.014577Z",
     "start_time": "2022-09-26T12:37:20.003111Z"
    }
   },
   "outputs": [],
   "source": [
    "%cd /Users/lyubing/blog/brettlv.github.io/pythoncode/00JetRM"
   ]
  },
  {
   "cell_type": "markdown",
   "metadata": {
    "ExecuteTime": {
     "end_time": "2022-09-16T05:49:47.058079Z",
     "start_time": "2022-09-16T05:49:47.031743Z"
    }
   },
   "source": [
    "### fit_Fermi_lc"
   ]
  },
  {
   "cell_type": "code",
   "execution_count": null,
   "metadata": {
    "ExecuteTime": {
     "end_time": "2022-09-26T12:37:28.570019Z",
     "start_time": "2022-09-26T12:37:27.793292Z"
    }
   },
   "outputs": [],
   "source": [
    "from stingray import Lightcurve"
   ]
  },
  {
   "cell_type": "code",
   "execution_count": null,
   "metadata": {
    "ExecuteTime": {
     "end_time": "2022-09-26T12:37:39.392619Z",
     "start_time": "2022-09-26T12:37:39.380093Z"
    }
   },
   "outputs": [],
   "source": [
    "lc_fermi = Lightcurve(np.array(lagdata_PKS1510_Fermi['t']), np.array(lagdata_PKS1510_Fermi['flux']),dt=3, skip_checks=True)"
   ]
  },
  {
   "cell_type": "code",
   "execution_count": null,
   "metadata": {
    "ExecuteTime": {
     "end_time": "2022-09-26T12:38:57.480183Z",
     "start_time": "2022-09-26T12:38:57.408997Z"
    }
   },
   "outputs": [],
   "source": [
    "lc_fermi.plot(labels=('MJd', \"Flux [0.1-100 GeV]\"),  # (xlabel, ylabel)\n",
    "        #axis=(0, 1000, -50, 150),  # (xmin, xmax, ymin, ymax)\n",
    "        axis=(54600, 55100,0,100),\n",
    "        title=\"PKS1510-089 Fermi\",\n",
    "        marker='c:')\n",
    "        #marker = 'k', save=True, filename=\"lightcurve.png\" "
   ]
  },
  {
   "cell_type": "code",
   "execution_count": null,
   "metadata": {
    "ExecuteTime": {
     "end_time": "2022-09-26T12:37:52.964556Z",
     "start_time": "2022-09-26T12:37:52.955210Z"
    }
   },
   "outputs": [],
   "source": [
    "lc_fermi.dt"
   ]
  },
  {
   "cell_type": "code",
   "execution_count": null,
   "metadata": {},
   "outputs": [],
   "source": [
    "#lc_fermi.\n",
    "\n",
    "lc_fermi_rebinned_30 = lc_fermi.rebin(31)\n",
    "\n",
    "lc_fermi_rebinned_30.plot( \n",
    "        title=\"PKS1510-089 Fermi\",\n",
    "        marker='c:')\n",
    "\n",
    "lc_fermi_rebinned_30.dt\n",
    "\n",
    "lc_fermi_rebinned_30.counts\n",
    "\n",
    "\n",
    "\n",
    "time = np.hstack([np.arange(0, 10, 0.1), np.arange(10, 20, 0.3)]) # uneven time resolution\n",
    "counts = np.random.poisson(100, size=len(time))\n",
    "\n",
    "lc = Lightcurve(time, counts, dt=1.0, skip_checks=True)\n",
    "lc.plot(marker='c:')"
   ]
  },
  {
   "cell_type": "code",
   "execution_count": null,
   "metadata": {
    "ExecuteTime": {
     "end_time": "2022-09-26T12:54:09.570243Z",
     "start_time": "2022-09-26T12:54:09.560560Z"
    }
   },
   "outputs": [],
   "source": [
    "lc_fermi.time"
   ]
  },
  {
   "cell_type": "code",
   "execution_count": null,
   "metadata": {},
   "outputs": [],
   "source": []
  },
  {
   "cell_type": "code",
   "execution_count": null,
   "metadata": {
    "ExecuteTime": {
     "end_time": "2022-09-27T01:15:23.968139Z",
     "start_time": "2022-09-27T01:15:23.917131Z"
    }
   },
   "outputs": [],
   "source": [
    "t_mask_fermi= np.logical_and(lc_fermi.time>54900,lc_fermi.time<54960,)\n",
    "t_fit_fermi=lc_fermi.time[t_mask_fermi]\n",
    "flux_fit_fermi=lc_fermi.countrate[t_mask_fermi]\n",
    "\n",
    "\n",
    "smodel_1=subflareModel(1,54920,1,2)\n",
    "smodel_2=subflareModel(1,54950,1,2)\n",
    "const1D=Const1D(1)\n",
    "#Const1D = custom_model(const1d)\n",
    "#Const3D = custom_model(const3d)\n",
    "\n",
    "smodel=smodel_1+smodel_2+const1D\n",
    "fit_lightcurve = fitting.LevMarLSQFitter()\n",
    "fit_lc_fermi = fit_lightcurve(smodel, t_fit_fermi, flux_fit_fermi)\n"
   ]
  },
  {
   "cell_type": "code",
   "execution_count": null,
   "metadata": {
    "ExecuteTime": {
     "end_time": "2022-09-27T01:15:25.098821Z",
     "start_time": "2022-09-27T01:15:25.086558Z"
    }
   },
   "outputs": [],
   "source": [
    "fit_lc_fermi"
   ]
  },
  {
   "cell_type": "code",
   "execution_count": null,
   "metadata": {
    "ExecuteTime": {
     "end_time": "2022-09-27T01:15:25.884490Z",
     "start_time": "2022-09-27T01:15:25.721258Z"
    }
   },
   "outputs": [],
   "source": [
    "figure_n= 2\n",
    "\n",
    "fig = plt.figure(figsize=(6,figure_n*3))\n",
    "fig.subplots_adjust(hspace=0.0, wspace = 0.0)\n",
    "\n",
    "ax = fig.add_subplot(figure_n,1,1)\n",
    "ax.scatter(t_fit_fermi,flux_fit_fermi,color='r',marker='.')\n",
    "#ax.plot(t_fit,fit_lc(t_fit),color='grey',marker='.')\n",
    "t_lin=np.linspace(54900,54960,100)\n",
    "ax.plot(t_lin,fit_lc_fermi(t_lin),color='grey',marker='.',ls=':',label='fit')\n",
    "ax.set_ylabel('15GHz(Jy)')\n",
    "\n",
    "ax2 = fig.add_subplot(figure_n,1,2,sharex=ax)\n",
    "ax2.plot(t_fit_fermi,(flux_fit_fermi-fit_lc_fermi(t_fit_fermi))/flux_fit_fermi,color='grey',marker='.')\n",
    "ax2.set_ylabel('residual')\n",
    "\n",
    "ax2.set_xlabel('MJD')\n",
    "set_ax_tick(ax)\n",
    "ax.xaxis.set_tick_params(which='major', size=10, width=2, direction='in', top='on',labelsize=0)\n",
    "set_ax_tick(ax2)\n",
    "set_ax_locator(ax,10,5,4,2)\n",
    "\n",
    "plt.show()\n"
   ]
  },
  {
   "cell_type": "code",
   "execution_count": null,
   "metadata": {},
   "outputs": [],
   "source": []
  },
  {
   "cell_type": "code",
   "execution_count": null,
   "metadata": {},
   "outputs": [],
   "source": []
  },
  {
   "cell_type": "code",
   "execution_count": null,
   "metadata": {},
   "outputs": [],
   "source": []
  },
  {
   "cell_type": "code",
   "execution_count": null,
   "metadata": {
    "ExecuteTime": {
     "end_time": "2022-09-23T06:28:48.277986Z",
     "start_time": "2022-09-23T06:28:45.998408Z"
    }
   },
   "outputs": [],
   "source": [
    "figure_n= 3\n",
    "\n",
    "fig = plt.figure(figsize=(12,figure_n*5))\n",
    "fig.subplots_adjust(hspace=0.0, wspace = 0.0)\n",
    "\n",
    "ax = fig.add_subplot(figure_n,1,1)\n",
    "\n",
    "for i in range(len(data_PKS1510)):   \n",
    "    ax.errorbar(data_PKS1510['MJD'][i],data_PKS1510['F5100'][i]#*flux_scale_5100_PKS1510*5100\n",
    "                ,ls=':',marker='.',color='r',markersize=10,label='5100')\n",
    "    \n",
    "\n",
    "    \n",
    "ax.set_title('PKS1510-089')\n",
    "ax.set_xlabel(r'MJD(d)')\n",
    "#ax.set_ylabel(r'Flux($\\mathrm{erg s^{-1}}$)')\n",
    "ax.set_ylabel(r'Flux($\\mathrm{}$)')    \n",
    "    \n",
    "ax2 = fig.add_subplot(figure_n,1,2,sharex=ax) \n",
    "for i in range(len(data_PKS1510)):   \n",
    "    ax2.errorbar(data_PKS1510['MJD'][i],data_PKS1510['FHb'][i]#*flux_scale_5100_PKS1510*5100\n",
    "                ,ls=':',marker='.',color='b',markersize=10,label='Hb')\n",
    "\n",
    "    \n",
    "    \n",
    "ax3 = fig.add_subplot(figure_n,1,figure_n,sharex=ax)    \n",
    "data_plot=lagdata_PKS1510_Pol_optical\n",
    "ax3.errorbar(data_plot[data_plot.columns[0]],\n",
    "             data_plot[data_plot.columns[1]],\n",
    "             data_plot[data_plot.columns[2]]\n",
    "             , marker = 'o', linestyle = ':', color = 'r', \n",
    "             label = data_plot.columns[1] )\n",
    "ax3.set_ylabel(r'degree')\n",
    "\n",
    "##########################################\n",
    "radio_lag_optical=66\n",
    "ax.scatter(t_fit+54800-radio_lag_optical,flux_fit,color='grey',marker='.',label='15GHz lagged %d day'%radio_lag_optical)\n",
    "ax.plot(t_fit+54800,g_combine(t_fit+radio_lag_optical),color='grey',marker='.')\n",
    "ax.plot(t_fit+54800-radio_lag_optical,g_combine(t_fit),color='grey',marker='.')\n",
    "\n",
    "\n",
    "\n",
    "set_ax_tick(ax) \n",
    "set_ax_tick(ax2) \n",
    "set_ax_tick(ax3) \n",
    "\n",
    "set_ax_legend(ax,bbox_to_anchor=(0.01, 0.99))\n",
    "set_ax_legend(ax2,bbox_to_anchor=(0.01, 0.99))\n",
    "set_ax_legend(ax3,bbox_to_anchor=(0.01, 0.99))\n",
    "\n",
    "\n",
    "plot_secax(ax,mi_interval=180,ma_interval=360,rotation=30) \n",
    "\n",
    "range_l,range_r=(54800+1,55300-1)\n",
    "ax.set_xlim(range_l,range_r)\n",
    "save_lc_img_path='/Users/lyubing/IHEPBox/JetRM_plot/PKS1510_plot/Spec_PKS1510_lc2_%d_%d.png'%(range_l,range_r)\n",
    "#save_lc_img_path='/Users/brettlv/Downloads/PKS1510_plot/Mojave_15GHz_I_lc.png'\n",
    "plt.savefig(save_lc_img_path,dpi=400, transparent=False, bbox_inches='tight')\n",
    "#plt.close()\n",
    "\n",
    "\n"
   ]
  },
  {
   "cell_type": "code",
   "execution_count": null,
   "metadata": {},
   "outputs": [],
   "source": []
  },
  {
   "cell_type": "code",
   "execution_count": null,
   "metadata": {},
   "outputs": [],
   "source": []
  },
  {
   "cell_type": "code",
   "execution_count": null,
   "metadata": {},
   "outputs": [],
   "source": []
  },
  {
   "cell_type": "code",
   "execution_count": null,
   "metadata": {
    "ExecuteTime": {
     "end_time": "2022-09-16T06:16:50.903769Z",
     "start_time": "2022-09-16T06:16:50.893554Z"
    }
   },
   "outputs": [],
   "source": [
    "lagdata_PKS1510_Pol_optical.columns"
   ]
  },
  {
   "cell_type": "markdown",
   "metadata": {
    "ExecuteTime": {
     "end_time": "2022-09-16T06:19:30.303682Z",
     "start_time": "2022-09-16T06:19:30.284209Z"
    }
   },
   "source": [
    "data_PKS1510"
   ]
  },
  {
   "cell_type": "code",
   "execution_count": null,
   "metadata": {},
   "outputs": [],
   "source": [
    "lagdata_a"
   ]
  },
  {
   "cell_type": "code",
   "execution_count": null,
   "metadata": {
    "ExecuteTime": {
     "end_time": "2022-09-16T06:26:39.646692Z",
     "start_time": "2022-09-16T06:26:39.480619Z"
    }
   },
   "outputs": [],
   "source": [
    "radio_lag_optical=66\n",
    "\n",
    "for i in range(len(data_PKS1510)):   \n",
    "    t_i=data_PKS1510['MJD'][i]\n",
    "    L5100_i=data_PKS1510['F5100'][i]*flux_scale_5100_PKS1510*5100\n",
    "    logL5100_i=np.log10(L5100_i)\n",
    "    \n",
    "    contri_from_Jet=g_combine(t_i-54800+radio_lag_optical)\n",
    "    \n",
    "    pol_t_i_index=  np.argmin(abs(lagdata_PKS1510_Pol_optical['t']-t_i))\n",
    "    pol_t_i=lagdata_PKS1510_Pol_optical.loc[pol_t_i_index,'t']\n",
    "    \n",
    "    if abs(pol_t_i-t_i)<1:\n",
    "        Pol_t_i=lagdata_PKS1510_Pol_optical.loc[pol_t_i_index,'Pol_Optical']\n",
    "    else:\n",
    "        Pol_t_i=0\n",
    "    print(t_i,L5100_i,contri_from_Jet,pol_t_i,Pol_t_i)    \n",
    "        "
   ]
  },
  {
   "cell_type": "markdown",
   "metadata": {
    "ExecuteTime": {
     "end_time": "2022-09-16T06:25:38.951674Z",
     "start_time": "2022-09-16T06:25:38.930195Z"
    }
   },
   "source": [
    "lagdata_PKS1510_Pol_optical"
   ]
  },
  {
   "cell_type": "code",
   "execution_count": null,
   "metadata": {
    "ExecuteTime": {
     "end_time": "2022-09-16T06:23:48.700137Z",
     "start_time": "2022-09-16T06:23:48.688494Z"
    }
   },
   "outputs": [],
   "source": [
    "g_combine()"
   ]
  },
  {
   "cell_type": "code",
   "execution_count": null,
   "metadata": {},
   "outputs": [],
   "source": []
  },
  {
   "cell_type": "code",
   "execution_count": null,
   "metadata": {},
   "outputs": [],
   "source": []
  },
  {
   "cell_type": "markdown",
   "metadata": {},
   "source": [
    "range_l,range_r=(54828,55300-1)\n",
    "\n",
    "t=lag_PKS1510_5100['t']\n",
    "mask_range=np.logical_and(t >= range_l, t < range_r)\n",
    "\n",
    "lag_PKS1510_5100_select=lag_PKS1510_5100[mask_range]\n",
    "\n",
    "t_fit=lag_PKS1510_5100_select['t']-54800\n",
    "flux_fit=lag_PKS1510_5100_select['flux']\n",
    "\n",
    "\n",
    "gauss1 = models.Gaussian1D(amplitude=3., mean=150, stddev=1.,\n",
    "                              bounds={\"mean\": (50, 200.0),\"amplitude\":(0.1,10),\"stddev\":(1,1000)}\n",
    "                          )\n",
    "\n",
    "gauss2 = models.Gaussian1D(amplitude=3., mean=400, stddev=1.,\n",
    "                              bounds={\"mean\": (350, 450.0),\"amplitude\":(1,5),\"stddev\":(1,1000)}\n",
    "                          )\n",
    "\n",
    "#linear1 = LineModel(slope=-0.1, intercept=2.0)\n",
    "linear1 = Linear1D(slope=0.1, intercept=2.0,\n",
    "                 bounds={\"slope\": (-0.1, 0.1)}\n",
    "                )\n",
    "\n",
    "func_combine=gauss1#+linear1#+gauss2#+linear1\n",
    "fit_g_combine = fitting.LevMarLSQFitter()\n",
    "g_combine  = fit_g_combine(func_combine, t_fit,flux_fit)\n",
    "print(g_combine)\n",
    "\n",
    "\n",
    "\n",
    "figure_n= 2\n",
    "\n",
    "fig = plt.figure(figsize=(6,figure_n*3))\n",
    "fig.subplots_adjust(hspace=0.0, wspace = 0.0)\n",
    "\n",
    "ax = fig.add_subplot(figure_n,1,1)\n",
    "ax.scatter(t_fit,flux_fit,color='r',marker='.')\n",
    "ax.set_ylabel('F5100 ')\n",
    "\n",
    "ax2 = fig.add_subplot(figure_n,1,2,sharex=ax)\n",
    "ax2.plot(t_fit,(flux_fit-g_combine(t_fit))/flux_fit,color='grey',marker='.')\n",
    "ax2.set_ylabel('residual')\n",
    "M\n",
    "set_ax_tick(ax)\n",
    "set_ax_tick(ax2)\n",
    "plt.show()\n"
   ]
  },
  {
   "cell_type": "code",
   "execution_count": null,
   "metadata": {},
   "outputs": [],
   "source": []
  },
  {
   "cell_type": "code",
   "execution_count": null,
   "metadata": {
    "ExecuteTime": {
     "end_time": "2022-09-16T02:58:50.501586Z",
     "start_time": "2022-09-16T02:58:50.184914Z"
    }
   },
   "outputs": [],
   "source": [
    "!open /Users/lyubing/IHEPBox/JetRM_plot/PKS1510_plot/"
   ]
  },
  {
   "cell_type": "markdown",
   "metadata": {},
   "source": [
    "### Pol_PKS1510_plot"
   ]
  },
  {
   "cell_type": "code",
   "execution_count": null,
   "metadata": {
    "ExecuteTime": {
     "end_time": "2022-09-16T03:51:59.993466Z",
     "start_time": "2022-09-16T03:51:57.124095Z"
    }
   },
   "outputs": [],
   "source": [
    "figure_n= 6\n",
    "\n",
    "fig = plt.figure(figsize=(12,figure_n*3))\n",
    "fig.subplots_adjust(hspace=0.0, wspace = 0.0)\n",
    "\n",
    "ax = fig.add_subplot(figure_n,1,1)\n",
    "\n",
    "for i in range(len(data_PKS1510)):\n",
    "    \n",
    "    ax.errorbar(data_PKS1510['MJD'][i],data_PKS1510['F5100'][i]*flux_scale_5100_PKS1510*5100,\n",
    "              ls=':',marker='.',color='r',markersize=10,label='5100')\n",
    "\n",
    "    \n",
    "ax_0 = fig.add_subplot(figure_n,1,2)\n",
    "for i in range(len(data_PKS1510)):\n",
    "    #print(data_PKS1510['MJD'][i],data_PKS1510['FHb'][i]*flux_scale_Hbeta_PKS1510)    \n",
    "    ax_0.errorbar(data_PKS1510['MJD'][i],data_PKS1510['FHb'][i]*flux_scale_Hbeta_PKS1510,\n",
    "              ls=':',marker='.',color='blue',markersize=10,label='Hbeta')\n",
    "\n",
    "    \n",
    "ax.set_title('PKS1510-089')\n",
    "ax.set_xlabel(r'MJD(d)')\n",
    "ax.set_ylabel(r'Flux($\\mathrm{erg s^{-1}}$)')\n",
    "  \n",
    "ax_1 = fig.add_subplot(figure_n,1,figure_n-3)\n",
    "data_plot=lagdata_PKS1510_V  \n",
    "ax_1.errorbar(data_plot[data_plot.columns[0]],\n",
    "             data_plot[data_plot.columns[1]],\n",
    "             data_plot[data_plot.columns[2]]\n",
    "             , marker = 'o', linestyle = ':', color = 'r', \n",
    "             label = data_plot.columns[1] )\n",
    "\n",
    "\n",
    "ax2 = fig.add_subplot(figure_n,1,figure_n-2)    \n",
    "data_plot=lagdata_PKS1510_Pol_optical\n",
    "ax2.errorbar(data_plot[data_plot.columns[0]],\n",
    "             data_plot[data_plot.columns[1]],\n",
    "             data_plot[data_plot.columns[2]]\n",
    "             , marker = 'o', linestyle = ':', color = 'r', \n",
    "             label = data_plot.columns[1] )\n",
    "\n",
    "\n",
    "    \n",
    "##########################################    \n",
    "ax3 = fig.add_subplot(figure_n,1,figure_n,sharex=ax)\n",
    "ax3.errorbar(mojave_15GHz_PKS1510['mjd'],mojave_15GHz_PKS1510['flux'],mojave_15GHz_PKS1510['err'],\n",
    "              ls='',marker='*',markersize=10,color='grey',label='mojave_15GHz')\n",
    "ax3.errorbar(table_OVRO_PKS1510_extract['mjd'],table_OVRO_PKS1510_extract['flux_15GHZ_ovro'],\n",
    "            #mojave_15GHz_PKS1510['err'],\n",
    "            ls='',marker='.',markersize=10,color='black',label='ovro_15GHz')\n",
    "ax3.set_ylabel(r'Flux($Jy$)')\n",
    "    \n",
    "    \n",
    "    \n",
    "\n",
    "#x=np.log10(data_PKS1510[flux_label_PKS1510]*flux_scale_5100_PKS1510*5100)\n",
    "#y=np.log10(data_PKS1510[flux_label_1_PKS1510]*flux_scale_Hbeta_PKS1510)\n",
    "##########################################\n",
    "#ax4 = fig.add_subplot(figure_n,1,4,sharex=ax)\n",
    "data_plot=lagdata_PKS1510_VLBA_Pol\n",
    "ax3.errorbar(data_plot[data_plot.columns[0]],\n",
    "             data_plot[data_plot.columns[1]],\n",
    "             data_plot[data_plot.columns[2]]\n",
    "             , marker = 'o', linestyle = ':', color = 'cyan', \n",
    "             label = data_plot.columns[1] )\n",
    "\n",
    "\n",
    "##########################################\n",
    "\n",
    "ax4 = fig.add_subplot(figure_n,1,figure_n-1,sharex=ax)\n",
    "ax4.errorbar(lagdata_PKS1510_Fermi['t'],\n",
    "               lagdata_PKS1510_Fermi['flux'],\n",
    "               lagdata_PKS1510_Fermi['e_flux'],\n",
    "              ls=':',marker='.',markersize=10,color='grey',label='Fermi')\n",
    "ax4.set_ylabel(r'Flux(photons cm-2 s-1)')\n",
    "\n",
    "\n",
    "\n",
    "#ax.semilogy()\n",
    "set_ax_tick(ax) \n",
    "set_ax_tick(ax_0) \n",
    "set_ax_tick(ax_1) \n",
    "set_ax_tick(ax2) \n",
    "set_ax_tick(ax3) \n",
    "set_ax_tick(ax4) \n",
    "\n",
    "set_ax_legend(ax,bbox_to_anchor=(0.01, 0.99))\n",
    "set_ax_legend(ax_0,bbox_to_anchor=(0.01, 0.99))\n",
    "set_ax_legend(ax_1,bbox_to_anchor=(0.01, 0.99))\n",
    "set_ax_legend(ax2,bbox_to_anchor=(0.01, 0.99))\n",
    "set_ax_legend(ax3,bbox_to_anchor=(0.01, 0.99))\n",
    "set_ax_legend(ax4,bbox_to_anchor=(0.01, 0.99))\n",
    "\n",
    "\n",
    "plot_secax(ax,mi_interval=180,ma_interval=360,rotation=30) \n",
    "\n",
    "range_l,range_r=(54800+1,55409)\n",
    "\n",
    "ax.set_xlim(range_l,range_r)\n",
    "\n",
    "save_lc_img_path='/Users/lyubing/IHEPBox/JetRM_plot/PKS1510_plot/Spec_PKS1510_pol_%d_%d.png'%(range_l,range_r)\n",
    "#save_lc_img_path='/Users/brettlv/Downloads/PKS1510_plot/Mojave_15GHz_I_lc.png'\n",
    "plt.savefig(save_lc_img_path,dpi=400, transparent=False, bbox_inches='tight')\n",
    "#plt.close()\n",
    "\n",
    "\n"
   ]
  },
  {
   "cell_type": "code",
   "execution_count": null,
   "metadata": {
    "ExecuteTime": {
     "end_time": "2022-09-19T14:44:06.977356Z",
     "start_time": "2022-09-19T14:44:06.969724Z"
    }
   },
   "outputs": [],
   "source": [
    "table_UMRAO_PKS1510_14dot5GHz.columns"
   ]
  },
  {
   "cell_type": "markdown",
   "metadata": {},
   "source": [
    "### optical_plot"
   ]
  },
  {
   "cell_type": "code",
   "execution_count": null,
   "metadata": {
    "ExecuteTime": {
     "end_time": "2022-09-30T07:10:21.168026Z",
     "start_time": "2022-09-30T07:10:14.758389Z"
    }
   },
   "outputs": [],
   "source": [
    "figure_n= 4\n",
    "\n",
    "fig = plt.figure(figsize=(12,figure_n*3))\n",
    "fig.subplots_adjust(hspace=0.0, wspace = 0.0)\n",
    "\n",
    "ax = fig.add_subplot(figure_n,1,1)\n",
    "\n",
    "for i in range(len(SMARTS_PKS1510)):\n",
    "    if SMARTS_PKS1510['col9'][i]!=999:\n",
    "        ax.errorbar(SMARTS_PKS1510['col8'][i]-2400000.5,\n",
    "                SMARTS_PKS1510['col9'][i],\n",
    "                yerr=SMARTS_PKS1510['col10'][i],\n",
    "               ls=':',marker='.',color='r',markersize=10,label='R-SMARTs')\n",
    "\n",
    "ax.errorbar(data_PKS1510_R[data_PKS1510_R.columns[3]],\n",
    "                          data_PKS1510_R[data_PKS1510_R.columns[1]],\n",
    "                          yerr= data_PKS1510_R[data_PKS1510_R.columns[2]],\n",
    "                          ls=':',marker='p',color='grey',markersize=6,label='R'\n",
    "                                               )\n",
    "            \n",
    "    \n",
    "ax_0 = fig.add_subplot(figure_n,1,2,sharex=ax)\n",
    "for i in range(len(SMARTS_PKS1510)):\n",
    "    if SMARTS_PKS1510['col6'][i]!=999:\n",
    "        ax_0.errorbar(SMARTS_PKS1510['col5'][i]-2400000.5,\n",
    "                SMARTS_PKS1510['col6'][i],\n",
    "                yerr=SMARTS_PKS1510['col7'][i],\n",
    "               ls=':',marker='.',color='b',markersize=10,label='V-SMARTs')\n",
    "\n",
    "ax_0.errorbar(data_PKS1510_V[data_PKS1510_V.columns[3]],\n",
    "                          data_PKS1510_V[data_PKS1510_V.columns[1]],\n",
    "                          yerr= data_PKS1510_V[data_PKS1510_V.columns[2]],\n",
    "                          ls=':',marker='p',color='grey',markersize=6,label='V'\n",
    "                                               )\n",
    "ax_2=ax_0.twinx()\n",
    "radio_lag_optical=66\n",
    "ax_2.scatter(t_fit+54800-radio_lag_optical,flux_fit,color='grey',marker='.',label='15GHz lagged %d day'%radio_lag_optical)\n",
    "ax_2.plot(t_fit+54800,g_combine(t_fit+radio_lag_optical),color='grey',marker='.')\n",
    "ax_2.plot(t_fit+54800-radio_lag_optical,g_combine(t_fit),color='grey',marker='.')\n",
    "\n",
    "\n",
    "\n",
    "\n",
    "ax3_4 = fig.add_subplot(figure_n,1,3,sharex=ax)\n",
    "ax3_4.errorbar(lagdata_PKS1510_Fermi['t'],\n",
    "               lagdata_PKS1510_Fermi['flux'],\n",
    "               lagdata_PKS1510_Fermi['e_flux'],\n",
    "              ls=':',marker='.',markersize=10,color='grey',label='Fermi')\n",
    "ax3_4.set_ylabel(r'Flux(photons cm-2 s-1)')\n",
    "\n",
    "\n",
    "ax3_2 = fig.add_subplot(figure_n,1,4,sharex=ax)\n",
    "ax3_2.errorbar(mojave_15GHz_PKS1510['mjd'],mojave_15GHz_PKS1510['flux'],mojave_15GHz_PKS1510['err'],\n",
    "              ls='',marker='*',markersize=10,color='grey',label='mojave_15GHz')\n",
    "ax3_2.errorbar(table_OVRO_PKS1510_extract['mjd'],table_OVRO_PKS1510_extract['flux_15GHZ_ovro'],\n",
    "            #mojave_15GHz_PKS1510['err'],\n",
    "            ls='',marker='.',markersize=10,color='black',label='ovro_15GHz')\n",
    "\n",
    "ax3_2.errorbar(table_UMRAO_PKS1510_14dot5GHz['mjd'],\n",
    "               table_UMRAO_PKS1510_14dot5GHz['S'],\n",
    "               table_UMRAO_PKS1510_14dot5GHz['SigS'],\n",
    "               ls='',marker='^',markersize=10,color='grey',label='UMRAO_14.5GHz')\n",
    "ax3_2.set_ylabel(r'Flux($Jy$)')\n",
    "        \n",
    "\n",
    "\n",
    "\n",
    "\n",
    "ax.set_title('PKS1510-089')\n",
    "ax.set_ylabel(r'$\\mathrm{Mag}$')\n",
    "ax_0.set_ylabel(r'$\\mathrm{Mag}$')\n",
    "ax3_2.set_xlabel(r'MJD(d)')\n",
    "\n",
    "bottom, top = ax.set_ylim()\n",
    "if bottom< top:\n",
    "    ax.set_ylim(top,bottom)\n",
    "    \n",
    "bottom, top = ax_0.set_ylim()\n",
    "if bottom< top:\n",
    "    ax_0.set_ylim(top,bottom)\n",
    "\n",
    "#ax.semilogy()\n",
    "set_ax_tick(ax) \n",
    "#set_ax_tick(ax_0) \n",
    "#set_ax_tick(ax_2) \n",
    "set_ax_tick(ax3_2) \n",
    "set_ax_tick(ax3_4) \n",
    "\n",
    "set_ax_legend(ax,bbox_to_anchor=(0.01, 0.99))\n",
    "set_ax_legend(ax_0,bbox_to_anchor=(0.01, 0.99))\n",
    "set_ax_legend(ax_2,bbox_to_anchor=(0.61, 0.99))\n",
    "\n",
    "set_ax_legend(ax3_2,bbox_to_anchor=(0.01, 0.99))\n",
    "set_ax_legend(ax3_4,bbox_to_anchor=(0.01, 0.99))\n",
    "\n",
    "\n",
    "plot_secax(ax,mi_interval=30,ma_interval=90,rotation=30) \n",
    "\n",
    "#range_l,range_r=(54930+1,54970-1)\n",
    "range_l,range_r=(54500+1,55300-1)\n",
    "\n",
    "ax.set_xlim(range_l,range_r)\n",
    "ax_2.set_ylim(0.1,9.9)\n",
    "\n",
    "save_lc_img_path='/Users/lyubing/IHEPBox/JetRM_plot/PKS1510_plot/PKS1510_SMARTS_%d_%d.png'%(range_l,range_r)\n",
    "#save_lc_img_path='/Users/brettlv/Downloads/PKS1510_plot/Mojave_15GHz_I_lc.png'\n",
    "plt.savefig(save_lc_img_path,dpi=400, transparent=False, bbox_inches='tight')\n",
    "#plt.close()\n",
    "\n",
    "\n"
   ]
  },
  {
   "cell_type": "code",
   "execution_count": null,
   "metadata": {
    "ExecuteTime": {
     "end_time": "2022-09-23T07:28:34.756878Z",
     "start_time": "2022-09-23T07:28:27.942700Z"
    }
   },
   "outputs": [],
   "source": [
    "figure_n= 4\n",
    "\n",
    "fig = plt.figure(figsize=(12,figure_n*3))\n",
    "fig.subplots_adjust(hspace=0.0, wspace = 0.0)\n",
    "\n",
    "ax = fig.add_subplot(figure_n,1,1)\n",
    "\n",
    "for i in range(len(SMARTS_PKS1510)):\n",
    "    if SMARTS_PKS1510['col9'][i]!=999:\n",
    "        ax.errorbar(SMARTS_PKS1510['col8'][i]-2400000.5,\n",
    "                SMARTS_PKS1510['col9'][i],\n",
    "                yerr=SMARTS_PKS1510['col10'][i],\n",
    "               ls=':',marker='.',color='r',markersize=10,label='R-SMARTs')\n",
    "\n",
    "ax.errorbar(data_PKS1510_R[data_PKS1510_R.columns[3]],\n",
    "                          data_PKS1510_R[data_PKS1510_R.columns[1]],\n",
    "                          yerr= data_PKS1510_R[data_PKS1510_R.columns[2]],\n",
    "                          ls=':',marker='p',color='grey',markersize=6,label='R'\n",
    "                                               )\n",
    "            \n",
    "    \n",
    "ax_0 = fig.add_subplot(figure_n,1,2,sharex=ax)\n",
    "for i in range(len(SMARTS_PKS1510)):\n",
    "    if SMARTS_PKS1510['col6'][i]!=999:\n",
    "        ax_0.errorbar(SMARTS_PKS1510['col5'][i]-2400000.5,\n",
    "                SMARTS_PKS1510['col6'][i],\n",
    "                yerr=SMARTS_PKS1510['col7'][i],\n",
    "               ls=':',marker='.',color='b',markersize=10,label='V-SMARTs')\n",
    "\n",
    "ax_0.errorbar(data_PKS1510_V[data_PKS1510_V.columns[3]],\n",
    "                          data_PKS1510_V[data_PKS1510_V.columns[1]],\n",
    "                          yerr= data_PKS1510_V[data_PKS1510_V.columns[2]],\n",
    "                          ls=':',marker='p',color='grey',markersize=6,label='V'\n",
    "                                               )\n",
    "'''ax_2=ax_0.twinx()\n",
    "radio_lag_optical=66\n",
    "ax_2.scatter(t_fit+54800-radio_lag_optical,flux_fit,color='grey',marker='.',label='15GHz lagged %d day'%radio_lag_optical)\n",
    "ax_2.plot(t_fit+54800,g_combine(t_fit+radio_lag_optical),color='grey',marker='.')\n",
    "ax_2.plot(t_fit+54800-radio_lag_optical,g_combine(t_fit),color='grey',marker='.')\n",
    "'''\n",
    "\n",
    "\n",
    "\n",
    "ax3_4 = fig.add_subplot(figure_n,1,3,sharex=ax)\n",
    "ax3_4.errorbar(lagdata_PKS1510_Fermi['t'],\n",
    "               lagdata_PKS1510_Fermi['flux'],\n",
    "               lagdata_PKS1510_Fermi['e_flux'],\n",
    "              ls=':',marker='.',markersize=10,color='grey',label='Fermi')\n",
    "ax3_4.set_ylabel(r'Flux(photons cm-2 s-1)')\n",
    "\n",
    "\n",
    "ax3_2 = fig.add_subplot(figure_n,1,4,sharex=ax)\n",
    "ax3_2.errorbar(mojave_15GHz_PKS1510['mjd'],mojave_15GHz_PKS1510['flux'],mojave_15GHz_PKS1510['err'],\n",
    "              ls='',marker='*',markersize=10,color='grey',label='mojave_15GHz')\n",
    "ax3_2.errorbar(table_OVRO_PKS1510_extract['mjd'],table_OVRO_PKS1510_extract['flux_15GHZ_ovro'],\n",
    "            #mojave_15GHz_PKS1510['err'],\n",
    "            ls='',marker='.',markersize=10,color='black',label='ovro_15GHz')\n",
    "\n",
    "ax3_2.errorbar(table_UMRAO_PKS1510_14dot5GHz['mjd'],\n",
    "               table_UMRAO_PKS1510_14dot5GHz['S'],\n",
    "               table_UMRAO_PKS1510_14dot5GHz['SigS'],\n",
    "               ls='',marker='^',markersize=10,color='grey',label='UMRAO_14.5GHz')\n",
    "ax3_2.set_ylabel(r'Flux($Jy$)')\n",
    "        \n",
    "\n",
    "\n",
    "\n",
    "\n",
    "ax.set_title('PKS1510-089')\n",
    "\n",
    "ax.set_ylabel(r'$\\mathrm{Mag}$')\n",
    "ax_0.set_ylabel(r'$\\mathrm{Mag}$')\n",
    "ax3_2.set_xlabel(r'MJD(d)')\n",
    "\n",
    "bottom, top = ax.set_ylim()\n",
    "if bottom< top:\n",
    "    ax.set_ylim(top,bottom)\n",
    "    \n",
    "bottom, top = ax_0.set_ylim()\n",
    "if bottom< top:\n",
    "    ax_0.set_ylim(top,bottom)\n",
    "\n",
    "#ax.semilogy()\n",
    "set_ax_tick(ax) \n",
    "#set_ax_tick(ax_0) \n",
    "#set_ax_tick(ax_2) \n",
    "set_ax_tick(ax3_2) \n",
    "set_ax_tick(ax3_4) \n",
    "\n",
    "set_ax_legend(ax,bbox_to_anchor=(0.01, 0.99))\n",
    "set_ax_legend(ax_0,bbox_to_anchor=(0.01, 0.99))\n",
    "set_ax_legend(ax_2,bbox_to_anchor=(0.61, 0.99))\n",
    "\n",
    "set_ax_legend(ax3_2,bbox_to_anchor=(0.01, 0.99))\n",
    "set_ax_legend(ax3_4,bbox_to_anchor=(0.01, 0.99))\n",
    "\n",
    "\n",
    "plot_secax(ax,mi_interval=60,ma_interval=180,rotation=30) \n",
    "\n",
    "range_l,range_r=(55000+1,56600-1)\n",
    "\n",
    "ax.set_xlim(range_l,range_r)\n",
    "ax_2.set_ylim(0.1,9.9)\n",
    "\n",
    "save_lc_img_path='/Users/lyubing/IHEPBox/JetRM_plot/PKS1510_plot/PKS1510_SMARTS_%d_%d.png'%(range_l,range_r)\n",
    "#save_lc_img_path='/Users/brettlv/Downloads/PKS1510_plot/Mojave_15GHz_I_lc.png'\n",
    "plt.savefig(save_lc_img_path,dpi=400, transparent=False, bbox_inches='tight')\n",
    "#plt.close()\n",
    "\n",
    "\n"
   ]
  },
  {
   "cell_type": "code",
   "execution_count": null,
   "metadata": {},
   "outputs": [],
   "source": []
  },
  {
   "cell_type": "markdown",
   "metadata": {},
   "source": [
    "# PKS 0736"
   ]
  },
  {
   "cell_type": "markdown",
   "metadata": {},
   "source": [
    "## RMdata_PKS0736_SO"
   ]
  },
  {
   "cell_type": "code",
   "execution_count": null,
   "metadata": {
    "ExecuteTime": {
     "end_time": "2022-10-21T03:27:59.263115Z",
     "start_time": "2022-10-21T03:27:59.250643Z"
    }
   },
   "outputs": [],
   "source": [
    "D_cm_PKS0736=cosmo.luminosity_distance(0.189).to(u.cm)\n",
    "flux_scale_5100_PKS0736=4*np.pi*(D_cm_PKS0736.value)**2*1.0e-15 # erg s−1 cm−2 Å−1\n",
    "flux_scale_Hbeta_PKS0736=4*np.pi*(D_cm_PKS0736.value)**2*1.0e-15 #erg s−1 cm−2"
   ]
  },
  {
   "cell_type": "code",
   "execution_count": null,
   "metadata": {
    "ExecuteTime": {
     "end_time": "2022-10-21T03:28:05.156162Z",
     "start_time": "2022-10-21T03:28:05.090597Z"
    }
   },
   "outputs": [],
   "source": [
    "RMdata_PKS0736=Table.read(os.path.join(lagdata_dir_PKS0736,'lightcurve_table.dat'),format='ascii')\n",
    "data_PKS0736=RMdata_PKS0736"
   ]
  },
  {
   "cell_type": "code",
   "execution_count": null,
   "metadata": {
    "ExecuteTime": {
     "end_time": "2022-10-21T03:28:08.845335Z",
     "start_time": "2022-10-21T03:28:08.833810Z"
    },
    "scrolled": true
   },
   "outputs": [],
   "source": [
    "RMdata_PKS0736.colnames"
   ]
  },
  {
   "cell_type": "code",
   "execution_count": null,
   "metadata": {
    "ExecuteTime": {
     "end_time": "2022-10-14T02:51:12.625308Z",
     "start_time": "2022-10-14T02:51:12.615942Z"
    }
   },
   "outputs": [],
   "source": [
    "range_l_mask_time_PKS0736,range_r_mask_time_PKS0736=(57285,58250)\n",
    "mask_time_PKS0736=np.logical_and(RMdata_PKS0736['MJD']>=range_l_mask_time_PKS0736,RMdata_PKS0736['MJD']<range_r_mask_time_PKS0736)\n",
    "RMdata_PKS0736_select=RMdata_PKS0736[mask_time_PKS0736]"
   ]
  },
  {
   "cell_type": "code",
   "execution_count": null,
   "metadata": {
    "ExecuteTime": {
     "end_time": "2022-10-14T02:51:21.639196Z",
     "start_time": "2022-10-14T02:51:21.629137Z"
    }
   },
   "outputs": [],
   "source": [
    "RMdata_PKS0736_select.colnames"
   ]
  },
  {
   "cell_type": "code",
   "execution_count": null,
   "metadata": {
    "ExecuteTime": {
     "end_time": "2022-10-28T07:11:54.960231Z",
     "start_time": "2022-10-28T07:11:54.949783Z"
    }
   },
   "outputs": [],
   "source": [
    "flux_label_PKS0736=RMdata_PKS0736.colnames[2]\n",
    "e_flux_label_PKS0736=RMdata_PKS0736.colnames[3]\n",
    "flux_label_1_PKS0736=RMdata_PKS0736.colnames[4]\n",
    "e_flux_label_1_PKS0736=RMdata_PKS0736.colnames[5]\n",
    "print(flux_label_PKS0736,e_flux_label_PKS0736)\n",
    "print(flux_label_1_PKS0736,e_flux_label_1_PKS0736)"
   ]
  },
  {
   "cell_type": "markdown",
   "metadata": {},
   "source": [
    "## Pol_PKS0736"
   ]
  },
  {
   "cell_type": "code",
   "execution_count": null,
   "metadata": {
    "ExecuteTime": {
     "end_time": "2022-10-21T05:19:47.480884Z",
     "start_time": "2022-10-21T05:19:47.361259Z"
    }
   },
   "outputs": [],
   "source": [
    "source_Name='PKS 0736+01'\n",
    "Poldata_source_PKS0736=get_Poldata_name(source_Name)\n",
    "Poldata_source_PKS0736['snr']=Poldata_source_PKS0736[Poldata_source_PKS0736.columns[9]]/Poldata_source_PKS0736[Poldata_source_PKS0736.columns[10]]\n",
    "Poldata_source_PKS0736_snr=Poldata_source_PKS0736[Poldata_source_PKS0736['snr']>5]\n",
    "Poldata_source_PKS0736_snr=drop_index(Poldata_source_PKS0736_snr)"
   ]
  },
  {
   "cell_type": "code",
   "execution_count": null,
   "metadata": {
    "ExecuteTime": {
     "end_time": "2022-10-21T03:28:31.749994Z",
     "start_time": "2022-10-21T03:28:31.735086Z"
    }
   },
   "outputs": [],
   "source": [
    "Poldata_source_PKS0736_snr.columns"
   ]
  },
  {
   "cell_type": "code",
   "execution_count": null,
   "metadata": {
    "ExecuteTime": {
     "end_time": "2022-10-21T05:32:11.912503Z",
     "start_time": "2022-10-21T05:32:11.897946Z"
    }
   },
   "outputs": [],
   "source": [
    "data_PKS0736.colnames,data_3C273.colnames,data_PKS1510.colnames"
   ]
  },
  {
   "cell_type": "code",
   "execution_count": null,
   "metadata": {},
   "outputs": [],
   "source": []
  },
  {
   "cell_type": "code",
   "execution_count": null,
   "metadata": {},
   "outputs": [],
   "source": []
  },
  {
   "cell_type": "code",
   "execution_count": null,
   "metadata": {},
   "outputs": [],
   "source": []
  },
  {
   "cell_type": "code",
   "execution_count": null,
   "metadata": {},
   "outputs": [],
   "source": []
  },
  {
   "cell_type": "code",
   "execution_count": null,
   "metadata": {},
   "outputs": [],
   "source": []
  },
  {
   "cell_type": "code",
   "execution_count": null,
   "metadata": {
    "ExecuteTime": {
     "end_time": "2022-10-14T06:37:32.469051Z",
     "start_time": "2022-10-14T06:37:32.457107Z"
    }
   },
   "outputs": [],
   "source": [
    "get_info(Poldata_source_PKS0736_snr,'P (%)')"
   ]
  },
  {
   "cell_type": "markdown",
   "metadata": {},
   "source": [
    "## PKS0736NTD"
   ]
  },
  {
   "cell_type": "code",
   "execution_count": null,
   "metadata": {
    "ExecuteTime": {
     "end_time": "2022-10-14T02:54:13.340793Z",
     "start_time": "2022-10-14T02:54:13.326446Z"
    }
   },
   "outputs": [],
   "source": [
    "data_PKS0736.colnames"
   ]
  },
  {
   "cell_type": "code",
   "execution_count": null,
   "metadata": {
    "ExecuteTime": {
     "end_time": "2022-10-21T03:28:41.590591Z",
     "start_time": "2022-10-21T03:28:41.576168Z"
    }
   },
   "outputs": [],
   "source": [
    "data_PKS0736['L5100']= data_PKS0736['flux5100']*flux_scale_5100_PKS0736*5100 #4*np.pi*D_cm_PKS0736**2*\n",
    "data_PKS0736['logL5100']=np.log10(data_PKS0736['L5100'])\n",
    "data_PKS0736['LHb']=data_PKS0736['fhbeta']*flux_scale_Hbeta_PKS0736 #4*np.pi*D_cm_PKS0736**2*\n",
    "data_PKS0736['logLHb']=np.log10(data_PKS0736['LHb'])\n",
    "data_PKS0736['logLp']= (data_PKS0736['logLHb']+4.41)/1.057\n",
    "data_PKS0736['Lp']=10**(data_PKS0736['logLp'])\n",
    "data_PKS0736['NTD']=data_PKS0736['L5100']/data_PKS0736['Lp']\n",
    "data_PKS0736['L5100minusLp']=data_PKS0736['L5100']-data_PKS0736['Lp']"
   ]
  },
  {
   "cell_type": "code",
   "execution_count": null,
   "metadata": {
    "ExecuteTime": {
     "end_time": "2022-10-14T03:04:21.526216Z",
     "start_time": "2022-10-14T03:04:21.508922Z"
    }
   },
   "outputs": [],
   "source": [
    "get_info(RMdata_PKS0736,'NTD')"
   ]
  },
  {
   "cell_type": "code",
   "execution_count": null,
   "metadata": {
    "ExecuteTime": {
     "end_time": "2022-10-14T03:04:23.583038Z",
     "start_time": "2022-10-14T03:04:23.569216Z"
    }
   },
   "outputs": [],
   "source": [
    "get_info(RMdata_PKS0736_select,'NTD')"
   ]
  },
  {
   "cell_type": "code",
   "execution_count": null,
   "metadata": {},
   "outputs": [],
   "source": []
  },
  {
   "cell_type": "code",
   "execution_count": null,
   "metadata": {},
   "outputs": [],
   "source": []
  },
  {
   "cell_type": "markdown",
   "metadata": {},
   "source": [
    "### plot_Hbeta_H5100"
   ]
  },
  {
   "cell_type": "code",
   "execution_count": null,
   "metadata": {
    "ExecuteTime": {
     "end_time": "2022-10-13T15:17:21.584737Z",
     "start_time": "2022-10-13T15:17:21.080993Z"
    }
   },
   "outputs": [],
   "source": [
    "fig, ax = plt.subplots(1, 1,figsize=(6,6))\n",
    "\n",
    "'''for i in range(len(Wu2004_LHbeta_L5100)):\n",
    "    flux_and_err=Wu2004_LHbeta_L5100.loc[i,Wu2004_LHbeta_L5100.columns[4]]\n",
    "    flux=flux_and_err.split('$\\pm$')[0]\n",
    "    err_flux=flux_and_err.split('$\\pm$')[1]\n",
    "    \n",
    "    flux_and_err_Hbeta=Wu2004_LHbeta_L5100.loc[i,Wu2004_LHbeta_L5100.columns[5]]\n",
    "    flux_Hbeta=flux_and_err_Hbeta.split('$\\pm$')[0]\n",
    "    err_flux_Hbeta=flux_and_err_Hbeta.split('$\\pm$')[1]\n",
    "    \n",
    "    ax.errorbar(x=np.log10(float(flux))+42,\n",
    "    #xerr=float(err_flux),\n",
    "    y=np.log10(float(flux_Hbeta))+42,\n",
    "    #yerr=float(err_flux_Hbeta),\n",
    "    ls=':',marker='.',markersize=10,color='grey',label='Wu2004')\n",
    "    '''\n",
    "\n",
    "dataplot=RMdata_PKS0736#_select\n",
    "ax.errorbar(x=np.log10(dataplot[flux_label_PKS0736]*flux_scale_5100_PKS0736*5100),\n",
    "            #xerr=np.log10(RMdata_PKS0736[e_flux_label]*flux_scale*5100),\n",
    "            y=np.log10(dataplot[flux_label_1_PKS0736]*flux_scale_Hbeta_PKS0736),\n",
    "            #yerr=np.log10(RMdata_PKS0736[e_flux_label_1]*flux_scale*4861),\n",
    "            fmt='.',label='PKS 0736+017')\n",
    "\n",
    "\n",
    "\n",
    "\n",
    "L5100_linspace=np.linspace(44.0,45.4)\n",
    "\n",
    "slope=1.02747111\n",
    "offset=3.04154998\n",
    "Lhbeta= L5100_linspace*slope-offset\n",
    "ax.plot(L5100_linspace,Lhbeta,label='Wu2004 logLHbeta=logL5100*%.3f -%.2f'%(slope,offset))\n",
    "Lhbeta= L5100_linspace*slope-offset-0.5\n",
    "ax.plot(L5100_linspace,Lhbeta,label='Wu2004 NTD=2')\n",
    "\n",
    "\n",
    "\n",
    "'''slope=0.947\n",
    "offset=0.45\n",
    "Lhbeta= L5100_linspace*slope-offset\n",
    "ax.plot(L5100_linspace,Lhbeta,ls='-.',label='Rakshit2020 logLHbeta=logL5100*%.3f -%.2f'%(slope,offset))\n",
    "Lhbeta= L5100_linspace*slope-offset-0.5\n",
    "ax.plot(L5100_linspace,Lhbeta,ls='--',label='Rakshit2020 NTD=2 ')\n",
    "'''\n",
    "\n",
    "\n",
    "\n",
    "slope=1.057\n",
    "offset=4.41\n",
    "Lhbeta= L5100_linspace*slope-offset\n",
    "ax.plot(L5100_linspace,Lhbeta,ls='-.',label='Rakshit2020 logLHbeta=logL5100*%.3f -%.2f'%(slope,offset))\n",
    "Lhbeta= L5100_linspace*slope-offset-0.5\n",
    "ax.plot(L5100_linspace,Lhbeta,ls='--',label='Rakshit2020 NTD=2 ')\n",
    "\n",
    "\n",
    "\n",
    "\n",
    "ax.set_xlabel(r'log$L_{5100\\AA} (\\mathrm{erg\\, s^{-1}})$')\n",
    "ax.set_ylabel(r'log$L_{H\\beta} (\\mathrm{erg\\, s^{-1}})$')\n",
    "\n",
    "\n",
    "#ax.semilogx()\n",
    "#ax.semilogy()\n",
    "\n",
    "ax.set_title('PKS 0736+017')\n",
    "set_ax_legend(ax)\n",
    "\n",
    "ax.set_xlim(44.0-0.1,45.8)\n",
    "ax.set_ylim(42.0,42.85)\n",
    "\n",
    "set_ax_locator(ax,0.5,0.1,0.2,0.1)\n",
    "\n",
    "#plot_secax(ax,mi_interval=365,ma_interval=365*2,rotation=30)\n",
    "set_ax_tick(ax)\n",
    "fig.tight_layout()\n",
    "plt.savefig('/Users/lyubing/IHEPBox/JetRM_plot/PKS0736_Hbeta_L5100_range_%d_%d.png'%(range_l_mask_time_PKS0736,range_r_mask_time_PKS0736),dpi=400)\n"
   ]
  },
  {
   "cell_type": "code",
   "execution_count": null,
   "metadata": {
    "ExecuteTime": {
     "end_time": "2022-10-13T15:20:37.437451Z",
     "start_time": "2022-10-13T15:20:36.974943Z"
    }
   },
   "outputs": [],
   "source": [
    "fig, ax = plt.subplots(1, 1,figsize=(6,6))\n",
    "\n",
    "'''for i in range(len(Wu2004_LHbeta_L5100)):\n",
    "    flux_and_err=Wu2004_LHbeta_L5100.loc[i,Wu2004_LHbeta_L5100.columns[4]]\n",
    "    flux=flux_and_err.split('$\\pm$')[0]\n",
    "    err_flux=flux_and_err.split('$\\pm$')[1]\n",
    "    \n",
    "    flux_and_err_Hbeta=Wu2004_LHbeta_L5100.loc[i,Wu2004_LHbeta_L5100.columns[5]]\n",
    "    flux_Hbeta=flux_and_err_Hbeta.split('$\\pm$')[0]\n",
    "    err_flux_Hbeta=flux_and_err_Hbeta.split('$\\pm$')[1]\n",
    "    \n",
    "    ax.errorbar(x=np.log10(float(flux))+42,\n",
    "    #xerr=float(err_flux),\n",
    "    y=np.log10(float(flux_Hbeta))+42,\n",
    "    #yerr=float(err_flux_Hbeta),\n",
    "    ls=':',marker='.',markersize=10,color='grey',label='Wu2004')\n",
    "    '''\n",
    "\n",
    "\n",
    "for i in range(len(RMdata_PKS0736)):\n",
    "    L5100=RMdata_PKS0736[flux_label_PKS0736][i]*flux_scale_5100_PKS0736*5100\n",
    "    logL5100= np.log10(L5100)\n",
    "    \n",
    "    LHb=RMdata_PKS0736[flux_label_1_PKS0736][i]*flux_scale_Hbeta_PKS0736\n",
    "    logLHb= np.log10(LHb)\n",
    "    logL_p= (logLHb+4.41)/1.057 # log 𝐿H𝛽 = „1.057±0.002” log 𝐿5100‚„−4.41±0.10”.\n",
    "    NTD= 10**(logL5100-logL_p)\n",
    "    if NTD >2 :\n",
    "        color='blue'\n",
    "    else:\n",
    "        color='black'\n",
    "    ax.errorbar(\n",
    "            x=logL5100,\n",
    "            y=NTD,\n",
    "            #yerr=np.log10(RMdata_PKS0736[e_flux_label_1]*flux_scale*4861),\n",
    "            fmt='.',label='PKS 0736-089',color=color)\n",
    "\n",
    "\n",
    "\n",
    "'''slope=1.02747111\n",
    "offset=3.04154998\n",
    "L5100_linspace=np.linspace(45.0,46)\n",
    "Lhbeta= L5100_linspace*slope-offset\n",
    "ax.plot(L5100_linspace,Lhbeta,label='Wu2004 logLHbeta=logL5100*%.2f -%.2f'%(slope,offset))\n",
    "\n",
    "\n",
    "slope=0.947\n",
    "offset=0.45\n",
    "Lhbeta= L5100_linspace*slope-offset\n",
    "ax.plot(L5100_linspace,Lhbeta,ls='-.',label='Rakshit2020 logLHbeta=logL5100*%.2f -%.2f'%(slope,offset))\n",
    "\n",
    "\n",
    "slope=1.057\n",
    "offset=4.41\n",
    "Lhbeta= L5100_linspace*slope-offset\n",
    "ax.plot(L5100_linspace,Lhbeta,ls='-.',label='Rakshit2020 logLHbeta=logL5100*%.2f -%.2f'%(slope,offset))\n",
    "\n",
    "\n",
    "'''\n",
    "\n",
    "\n",
    "\n",
    "\n",
    "\n",
    "ax.set_xlabel(r'log$L_{5100\\AA} (\\mathrm{erg\\, s^{-1}})$')\n",
    "ax.set_ylabel(r'NTD')\n",
    "#ax.set_ylabel(r'log$L_{H\\beta} (\\mathrm{erg\\, s^{-1}})$')\n",
    "\n",
    "\n",
    "#ax.semilogx()\n",
    "#ax.semilogy()\n",
    "\n",
    "ax.set_title('PKS 0736+017')\n",
    "ax.xaxis.set_tick_params(which='major', size=10, width=2, rotation=0,)\n",
    "handles, labels = ax.get_legend_handles_labels()\n",
    "# remove the errorbars\n",
    "#hdl = [h[0] for h in handles]\n",
    "hdl = handles\n",
    "labels_dict=dict(zip(labels, hdl)) #key,values\n",
    "by_label=OrderedDict(sorted(labels_dict.items(),key=lambda t:t[0]))\n",
    "#by_label = OrderedDict(zip(labels, handles))\n",
    "\n",
    "ax.legend(by_label.values(), by_label.keys(), bbox_to_anchor=(0.01, 0.99),\n",
    "          loc=2, numpoints=1,ncol=1,fontsize=11.)\n",
    "\n",
    "#ax.set_xlim(45.5,46)\n",
    "#ax.set_ylim(44.0-0.2,44.5-0.2)\n",
    "\n",
    "#plot_secax(ax,mi_interval=365,ma_interval=365*2,rotation=30)\n",
    "set_ax_tick(ax)\n",
    "fig.tight_layout()\n",
    "plt.savefig('/Users/lyubing/IHEPBox/JetRM_plot/PKS0736_NTD_L5100.png',dpi=400)"
   ]
  },
  {
   "cell_type": "code",
   "execution_count": null,
   "metadata": {
    "ExecuteTime": {
     "end_time": "2022-10-13T15:29:32.357558Z",
     "start_time": "2022-10-13T15:29:32.342250Z"
    }
   },
   "outputs": [],
   "source": [
    "RMdata_PKS0736.colnames"
   ]
  },
  {
   "cell_type": "markdown",
   "metadata": {},
   "source": [
    "### plot_lag_Hbeta_H5100"
   ]
  },
  {
   "cell_type": "code",
   "execution_count": null,
   "metadata": {
    "ExecuteTime": {
     "end_time": "2022-10-13T15:35:15.358919Z",
     "start_time": "2022-10-13T15:35:14.909447Z"
    }
   },
   "outputs": [],
   "source": [
    "lagtime=66.4*(1+0.189) \n",
    "\n",
    "\n",
    "t1_PKS0736=RMdata_PKS0736['MJD']\n",
    "y1_PKS0736=RMdata_PKS0736['flux5100']\n",
    "#t1_data= np.array(t1[~t1.mask])\n",
    "#y1_data= np.array(y1[~y1.mask])\n",
    "\n",
    "\n",
    "t2_PKS0736=RMdata_PKS0736['MJD']\n",
    "y2_PKS0736=RMdata_PKS0736['fhbeta']\n",
    "#t2_data= np.array(t2[~t2.mask])\n",
    "#y2_data= np.array(y2[~y2.mask])\n",
    "\n",
    "new_t1,new_y1,new_t2,new_y2=get_lag_correlation(t1_PKS0736,y1_PKS0736,t2_PKS0736,y2_PKS0736,lagtime,timebin=10)\n",
    "\n",
    "fig, ax = plt.subplots(1, 1,figsize=(6,6))\n",
    "ax.errorbar(x=np.log10(new_y1*flux_scale_5100_PKS0736*5100),\n",
    "            #xerr=np.log10(RMdata_PKS0736[e_flux_label]*flux_scale*5100),\n",
    "            y=np.log10(new_y2*flux_scale_Hbeta_PKS0736),\n",
    "            #yerr=np.log10(RMdata_PKS0736[e_flux_label_1]*flux_scale*4861),\n",
    "            fmt='*',label='L5100_Hbeta lagged %d days'%lagtime,zorder=0)\n",
    "\n",
    "\n",
    "slope=1.02747111\n",
    "offset=3.04154998\n",
    "\n",
    "L5100_linspace=np.linspace(44.0,45.4)\n",
    "Lhbeta= L5100_linspace*slope-offset\n",
    "ax.plot(L5100_linspace,Lhbeta,label='Wu2004 logLHbeta=logL5100*%.3f -%.2f'%(slope,offset))\n",
    "\n",
    "\n",
    "slope=0.947\n",
    "offset=0.45\n",
    "Lhbeta= L5100_linspace*slope-offset\n",
    "#ax.plot(L5100_linspace,Lhbeta,label='Rakshit2020 logLHbeta=logL5100*%.3f -%.2f'%(slope,offset))\n",
    "\n",
    "\n",
    "slope=1.057\n",
    "offset=4.41\n",
    "Lhbeta= L5100_linspace*slope-offset\n",
    "ax.plot(L5100_linspace,Lhbeta,label='Rakshit2020 logLHbeta=logL5100*%.3f -%.2f'%(slope,offset))\n",
    "\n",
    "\n",
    "    \n",
    "ax.set_xlabel(r'log$L_{5100\\AA} (\\mathrm{erg\\, s^{-1}})$')\n",
    "ax.set_ylabel(r'log$L_{H\\beta} (\\mathrm{erg\\, s^{-1}})$')\n",
    "\n",
    "\n",
    "#ax.semilogx()\n",
    "#ax.semilogy()\n",
    "ax.set_title('3C 273')\n",
    "ax.xaxis.set_tick_params(which='major', size=10, width=2, rotation=0,)\n",
    "handles, labels = ax.get_legend_handles_labels()\n",
    "# remove the errorbars\n",
    "#hdl = [h[0] for h in handles]\n",
    "hdl = handles\n",
    "labels_dict=dict(zip(labels, hdl)) #key,values\n",
    "by_label=OrderedDict(sorted(labels_dict.items(),key=lambda t:t[0]))\n",
    "#by_label = OrderedDict(zip(labels, handles))\n",
    "\n",
    "ax.legend(by_label.values(), by_label.keys(), bbox_to_anchor=(0.01, 0.99),\n",
    "          loc=2, numpoints=1,ncol=1,fontsize=11.)\n",
    "\n",
    "#ax.set_xlim(45.5,46)\n",
    "#ax.set_ylim(44.0-0.2,44.5-0.2)\n",
    "\n",
    "#plot_secax(ax,mi_interval=365,ma_interval=365*2,rotation=30)\n",
    "set_ax_tick(ax)\n",
    "fig.tight_layout()\n",
    "plt.savefig('/Users/lyubing/IHEPBox/JetRM_plot/PKS0736_plot/PKS0736_Hbeta_L5100_lagged_%d.png'%lagtime,dpi=400)"
   ]
  },
  {
   "cell_type": "markdown",
   "metadata": {},
   "source": [
    "## SMARTS_PKS0736"
   ]
  },
  {
   "cell_type": "code",
   "execution_count": null,
   "metadata": {
    "ExecuteTime": {
     "end_time": "2022-10-13T08:43:53.125483Z",
     "start_time": "2022-10-13T08:43:53.104108Z"
    }
   },
   "outputs": [],
   "source": [
    "SMARTS_PKS0736=Table.read('%s/0736+01.tab.txt'%lagdata_dir_PKS0736,format='ascii')"
   ]
  },
  {
   "cell_type": "code",
   "execution_count": null,
   "metadata": {},
   "outputs": [],
   "source": [
    "#B\t    B        B          V  \t    V        V          R  \t    R        R          J  \t    J        J          K  \t    K        K            \n",
    "#    JD start        JD start      mag      err      JD start      mag      err      JD start      mag      err      JD start      mag      err      JD start      mag      err"
   ]
  },
  {
   "cell_type": "markdown",
   "metadata": {},
   "source": [
    "### SMARTS_PKS0736_all"
   ]
  },
  {
   "cell_type": "code",
   "execution_count": null,
   "metadata": {
    "ExecuteTime": {
     "end_time": "2022-10-13T08:43:54.846894Z",
     "start_time": "2022-10-13T08:43:54.829212Z"
    }
   },
   "outputs": [],
   "source": [
    "SMARTS_PKS0736B=SMARTS_PKS0736[['col1','col3','col4']]\n",
    "SMARTS_PKS0736B=SMARTS_PKS0736B[SMARTS_PKS0736B['col3']!=999.0]\n",
    "SMARTS_PKS0736B['mjd']=SMARTS_PKS0736B['col1']-2400000.5\n",
    "#SMARTS_PKS0736B=drop_index(SMARTS_PKS0736B)\n",
    "\n",
    "SMARTS_PKS0736V=SMARTS_PKS0736[['col5','col6','col7']]\n",
    "SMARTS_PKS0736V=SMARTS_PKS0736V[SMARTS_PKS0736V['col6']!=999.0]\n",
    "SMARTS_PKS0736V['mjd']=SMARTS_PKS0736V['col5']-2400000.5\n",
    "#SMARTS_PKS0736V=drop_index(SMARTS_PKS0736V)\n",
    "\n",
    "SMARTS_PKS0736R=SMARTS_PKS0736[['col8','col9','col10']]\n",
    "SMARTS_PKS0736R=SMARTS_PKS0736R[SMARTS_PKS0736R['col9']!=999.0]\n",
    "SMARTS_PKS0736R['mjd']=SMARTS_PKS0736R['col8']-2400000.5\n",
    "\n",
    "SMARTS_PKS0736J=SMARTS_PKS0736[['col11','col12','col13']]\n",
    "SMARTS_PKS0736J=SMARTS_PKS0736J[SMARTS_PKS0736J['col12']!=999.0]\n",
    "SMARTS_PKS0736J['mjd']=SMARTS_PKS0736J['col11']-2400000.5\n",
    "#SMARTS_PKS0736J=drop_index(SMARTS_PKS0736J)\n",
    "\n",
    "SMARTS_PKS0736K=SMARTS_PKS0736[['col14','col15','col16']]\n",
    "SMARTS_PKS0736K=SMARTS_PKS0736K[SMARTS_PKS0736K['col15']!=999.0]\n",
    "SMARTS_PKS0736K['mjd']=SMARTS_PKS0736K['col14']-2400000.5\n",
    "#SMARTS_PKS0736K=drop_index(SMARTS_PKS0736K)\n",
    "\n"
   ]
  },
  {
   "cell_type": "markdown",
   "metadata": {
    "ExecuteTime": {
     "end_time": "2022-10-13T08:44:09.021749Z",
     "start_time": "2022-10-13T08:44:09.014815Z"
    }
   },
   "source": [
    "SMARTS_PKS0736_all_label=['B','V','R','J','K']\n",
    "SMARTS_PKS0736_all=[SMARTS_PKS0736B,SMARTS_PKS0736V,SMARTS_PKS0736R,SMARTS_PKS0736J,SMARTS_PKS0736K]"
   ]
  },
  {
   "cell_type": "code",
   "execution_count": null,
   "metadata": {
    "ExecuteTime": {
     "end_time": "2022-10-13T08:44:21.784023Z",
     "start_time": "2022-10-13T08:44:21.777031Z"
    }
   },
   "outputs": [],
   "source": [
    "SMARTS_PKS0736_all_label=['B','R','J',]\n",
    "SMARTS_PKS0736_all=[SMARTS_PKS0736B,SMARTS_PKS0736R,SMARTS_PKS0736J]"
   ]
  },
  {
   "cell_type": "code",
   "execution_count": null,
   "metadata": {
    "ExecuteTime": {
     "end_time": "2022-10-13T08:44:22.253232Z",
     "start_time": "2022-10-13T08:44:22.248111Z"
    }
   },
   "outputs": [],
   "source": [
    "for i in SMARTS_PKS0736_all:\n",
    "    print(len(i))"
   ]
  },
  {
   "cell_type": "markdown",
   "metadata": {
    "ExecuteTime": {
     "end_time": "2022-10-06T15:09:25.897840Z",
     "start_time": "2022-10-06T15:09:25.886881Z"
    }
   },
   "source": [
    "SMARTS_PKS0736.colnames"
   ]
  },
  {
   "cell_type": "code",
   "execution_count": null,
   "metadata": {
    "ExecuteTime": {
     "end_time": "2022-10-07T04:20:11.727805Z",
     "start_time": "2022-10-07T04:20:11.712465Z"
    }
   },
   "outputs": [],
   "source": [
    "SMARTS_PKS0736"
   ]
  },
  {
   "cell_type": "markdown",
   "metadata": {},
   "source": [
    "### plot_mag_color"
   ]
  },
  {
   "cell_type": "code",
   "execution_count": null,
   "metadata": {
    "ExecuteTime": {
     "end_time": "2022-10-07T10:59:33.658371Z",
     "start_time": "2022-10-07T10:59:33.170067Z"
    }
   },
   "outputs": [],
   "source": [
    "figure_n= 3\n",
    "fig = plt.figure(figsize=(4,figure_n*3))\n",
    "fig.subplots_adjust(hspace=0.3, wspace = 0.0)\n",
    "\n",
    "plot_i=1\n",
    "for i in range(3):\n",
    "    for j in range(3):\n",
    "        if i<j:\n",
    "            index_pair=[i,j]\n",
    "\n",
    "            data1=SMARTS_PKS0736_all[index_pair[0]]\n",
    "            \n",
    "            label1=SMARTS_PKS0736_all_label[index_pair[0]]\n",
    "            time1=data1['mjd']\n",
    "            Lum1=data1[data1.colnames[1]]\n",
    "\n",
    "            data2=SMARTS_PKS0736_all[index_pair[1]]\n",
    "            label2=SMARTS_PKS0736_all_label[index_pair[1]]\n",
    "            time2=data2['mjd']\n",
    "            Lum2=data2[data2.colnames[1]]\n",
    "\n",
    "            time1s,Lum1s,time2s,Lum2s = get_quasi_sim_lum_correlation(time1,Lum1,time2,Lum2,timebin=1.0)\n",
    "\n",
    "            if plot_i==1:\n",
    "                ax = fig.add_subplot(figure_n,1,plot_i)\n",
    "            \n",
    "                ax.errorbar(Lum1s,Lum1s-Lum2s,\n",
    "                   ls=':',marker='.',color='r',markersize=10,label='%s-%s'%(label1,label2))\n",
    "                \n",
    "                set_ax_legend(ax)\n",
    "                set_ax_tick(ax)\n",
    "                #set_mag_ylim(ax)\n",
    "                \n",
    "                ax.set_xlabel(label1)\n",
    "                set_mag_xlim(ax)\n",
    "\n",
    "            else:\n",
    "                ax1 = fig.add_subplot(figure_n,1,plot_i)\n",
    "                ax1.errorbar(Lum1s,Lum1s-Lum2s,\n",
    "                   ls=':',marker='.',color='r',markersize=10,label='%s-%s'%(label1,label2))\n",
    "                set_ax_legend(ax1)\n",
    "                set_ax_tick(ax1)\n",
    "                \n",
    "                ax1.set_xlabel(label1)\n",
    "                set_mag_xlim(ax1)\n",
    "                #set_mag_ylim(ax1)\n",
    "                \n",
    "\n",
    "            plot_i=plot_i+1\n",
    "\n",
    "range_l,range_r=(56500+1,58300-1)\n",
    "#range_l,range_r=(55900+1,56100-1)\n",
    "ax.set_xlim(18,14)\n",
    "#plot_secax(ax,mi_interval=30,ma_interval=90,rotation=30)\n",
    "save_lc_img_path='/Users/lyubing/IHEPBox/JetRM_plot/PKS0736_plot/PKS0736_SMARTS_Mag_color_%d_%d.png'%(range_l,range_r)\n",
    "plt.savefig(save_lc_img_path,dpi=400, transparent=False, bbox_inches='tight')\n",
    "#plt.close()\n"
   ]
  },
  {
   "cell_type": "markdown",
   "metadata": {},
   "source": [
    "### plot_color_lc"
   ]
  },
  {
   "cell_type": "code",
   "execution_count": null,
   "metadata": {
    "ExecuteTime": {
     "end_time": "2022-10-07T11:00:00.855788Z",
     "start_time": "2022-10-07T10:59:56.704170Z"
    }
   },
   "outputs": [],
   "source": [
    "figure_n= 3\n",
    "fig = plt.figure(figsize=(12,figure_n*3))\n",
    "fig.subplots_adjust(hspace=0.0, wspace = 0.0)\n",
    "\n",
    "plot_i=1\n",
    "for i in range(3):\n",
    "    for j in range(3):\n",
    "        if i<j:\n",
    "            index_pair=[i,j]\n",
    "\n",
    "            data1=SMARTS_PKS0736_all[index_pair[0]]\n",
    "            \n",
    "            label1=SMARTS_PKS0736_all_label[index_pair[0]]\n",
    "            time1=data1['mjd']\n",
    "            Lum1=data1[data1.colnames[1]]\n",
    "\n",
    "            data2=SMARTS_PKS0736_all[index_pair[1]]\n",
    "            label2=SMARTS_PKS0736_all_label[index_pair[1]]\n",
    "            time2=data2['mjd']\n",
    "            Lum2=data2[data2.colnames[1]]\n",
    "\n",
    "            time1s,Lum1s,time2s,Lum2s = get_quasi_sim_lum_correlation(time1,Lum1,time2,Lum2,timebin=1.0)\n",
    "\n",
    "            if plot_i==1:\n",
    "                ax = fig.add_subplot(figure_n,1,plot_i)\n",
    "            \n",
    "                ax.errorbar(time1s,Lum1s-Lum2s,\n",
    "                   ls=':',marker='.',color='r',markersize=10,label='%s-%s'%(label1,label2))\n",
    "                set_ax_legend(ax)\n",
    "                set_ax_tick(ax)\n",
    "                set_mag_ylim(ax)\n",
    "                \n",
    "\n",
    "            else:\n",
    "                ax1 = fig.add_subplot(figure_n,1,plot_i,sharex=ax)\n",
    "                ax1.errorbar(time1s,Lum1s-Lum2s,\n",
    "                   ls=':',marker='.',color='r',markersize=10,label='%s-%s'%(label1,label2))\n",
    "                set_ax_legend(ax1)\n",
    "                set_ax_tick(ax1)\n",
    "                #set_mag_ylim(ax1)\n",
    "                \n",
    "\n",
    "            plot_i=plot_i+1\n",
    "\n",
    "range_l,range_r=(56500+1,58300-1)\n",
    "#range_l,range_r=(55900+1,56100-1)\n",
    "ax.set_xlim(range_l,range_r)\n",
    "plot_secax(ax,mi_interval=30,ma_interval=90,rotation=30)\n",
    "\n",
    "save_lc_img_path='/Users/lyubing/IHEPBox/JetRM_plot/PKS0736_plot/PKS0736_SMARTS_color_%d_%d.png'%(range_l,range_r)\n",
    "plt.savefig(save_lc_img_path,dpi=400, transparent=False, bbox_inches='tight')\n",
    "#plt.close()\n"
   ]
  },
  {
   "cell_type": "code",
   "execution_count": null,
   "metadata": {},
   "outputs": [],
   "source": []
  },
  {
   "cell_type": "markdown",
   "metadata": {},
   "source": [
    "## ovro_PKS0736"
   ]
  },
  {
   "cell_type": "code",
   "execution_count": null,
   "metadata": {
    "ExecuteTime": {
     "end_time": "2022-10-21T05:45:21.269865Z",
     "start_time": "2022-10-21T05:45:21.232412Z"
    }
   },
   "outputs": [],
   "source": [
    "table_OVRO_PKS0736_extract=pd.read_csv(os.path.join(lagdata_dir_PKS0736,'PKS0736_ovro_extract.csv'),header=None)\n",
    "table_OVRO_PKS0736_extract.columns=['mjd','flux_15GHZ_ovro']\n",
    "table_OVRO_PKS0736_extract['err']=table_OVRO_PKS0736_extract['flux_15GHZ_ovro']*0.05"
   ]
  },
  {
   "cell_type": "code",
   "execution_count": null,
   "metadata": {
    "ExecuteTime": {
     "end_time": "2022-10-21T05:45:23.385214Z",
     "start_time": "2022-10-21T05:45:23.375338Z"
    }
   },
   "outputs": [],
   "source": [
    "table_OVRO_PKS0736_extract.columns"
   ]
  },
  {
   "cell_type": "code",
   "execution_count": null,
   "metadata": {
    "ExecuteTime": {
     "end_time": "2022-10-14T03:45:00.728030Z",
     "start_time": "2022-10-14T03:45:00.717443Z"
    }
   },
   "outputs": [],
   "source": [
    "min_PKS0736,max_PKS0736,mean_PKS0736=get_info(table_OVRO_PKS0736_extract,'flux_15GHZ_ovro')\n",
    "for i in [min_PKS0736,max_PKS0736,mean_PKS0736]:\n",
    "    Li=4*np.pi*D_cm_PKS0736.value**2*15e9*1e-23*i#erg/s\n",
    "    print(Li)"
   ]
  },
  {
   "cell_type": "code",
   "execution_count": null,
   "metadata": {
    "ExecuteTime": {
     "end_time": "2022-10-14T03:38:41.764974Z",
     "start_time": "2022-10-14T03:38:41.755476Z"
    }
   },
   "outputs": [],
   "source": [
    "1.44/0.33*1e44"
   ]
  },
  {
   "cell_type": "code",
   "execution_count": null,
   "metadata": {
    "ExecuteTime": {
     "end_time": "2022-10-14T03:47:14.677265Z",
     "start_time": "2022-10-14T03:47:14.668242Z"
    }
   },
   "outputs": [],
   "source": [
    "5.52/9"
   ]
  },
  {
   "cell_type": "code",
   "execution_count": null,
   "metadata": {
    "ExecuteTime": {
     "end_time": "2022-10-14T03:48:47.518609Z",
     "start_time": "2022-10-14T03:48:47.508376Z"
    }
   },
   "outputs": [],
   "source": [
    "21.51/9"
   ]
  },
  {
   "cell_type": "code",
   "execution_count": null,
   "metadata": {
    "ExecuteTime": {
     "end_time": "2022-10-14T03:51:57.030580Z",
     "start_time": "2022-10-14T03:51:57.021281Z"
    }
   },
   "outputs": [],
   "source": [
    "10**45.86,10**45.72,"
   ]
  },
  {
   "cell_type": "code",
   "execution_count": null,
   "metadata": {
    "ExecuteTime": {
     "end_time": "2022-10-14T03:52:50.690746Z",
     "start_time": "2022-10-14T03:52:50.682145Z"
    }
   },
   "outputs": [],
   "source": [
    "194/(1+0.158)"
   ]
  },
  {
   "cell_type": "markdown",
   "metadata": {},
   "source": [
    "## Fermi_PKS0736"
   ]
  },
  {
   "cell_type": "code",
   "execution_count": null,
   "metadata": {
    "ExecuteTime": {
     "end_time": "2022-10-13T08:47:11.512813Z",
     "start_time": "2022-10-13T08:47:11.491922Z"
    }
   },
   "outputs": [],
   "source": [
    "Fermi_PKS0736=pd.read_csv(os.path.join(lagdata_dir_PKS0736,'4FGL_J0739.2+0137_weekly_9_22_2022.csv'),header=0)\n",
    "Fermi_PKS0736=Fermi_PKS0736[Fermi_PKS0736['TS']>4]\n",
    "Fermi_PKS0736=drop_index(Fermi_PKS0736)\n",
    "Fermi_PKS0736['mjd']=Fermi_PKS0736['Julian Date']-2400000.5\n",
    "\n",
    "Fermi_PKS0736['Photon Flux [0.1-100 GeV](photons cm-2 s-1)']=pd.to_numeric(Fermi_PKS0736['Photon Flux [0.1-100 GeV](photons cm-2 s-1)'])\n",
    "Fermi_PKS0736['Photon Flux Error(photons cm-2 s-1)']=pd.to_numeric(Fermi_PKS0736['Photon Flux Error(photons cm-2 s-1)'])"
   ]
  },
  {
   "cell_type": "code",
   "execution_count": null,
   "metadata": {
    "ExecuteTime": {
     "end_time": "2022-10-14T03:30:46.101897Z",
     "start_time": "2022-10-14T03:30:46.089486Z"
    }
   },
   "outputs": [],
   "source": [
    "range_l_mask_time_PKS0736,range_r_mask_time_PKS0736=(57285,58250)\n",
    "mask_time_PKS0736_Fermi=np.logical_and(Fermi_PKS0736['mjd']>=range_l_mask_time_PKS0736,Fermi_PKS0736['mjd']<range_r_mask_time_PKS0736)\n",
    "Fermi_PKS0736_select=Fermi_PKS0736[mask_time_PKS0736_Fermi]"
   ]
  },
  {
   "cell_type": "code",
   "execution_count": null,
   "metadata": {
    "ExecuteTime": {
     "end_time": "2022-10-14T03:27:20.829482Z",
     "start_time": "2022-10-14T03:27:20.819404Z"
    }
   },
   "outputs": [],
   "source": [
    "get_info(Fermi_PKS0736,'Photon Flux [0.1-100 GeV](photons cm-2 s-1)')"
   ]
  },
  {
   "cell_type": "code",
   "execution_count": null,
   "metadata": {
    "ExecuteTime": {
     "end_time": "2022-10-14T06:47:17.677508Z",
     "start_time": "2022-10-14T06:47:17.659833Z"
    }
   },
   "outputs": [],
   "source": [
    "min_PKS0736,max_PKS0736,mean_PKS0736=get_info(Fermi_PKS0736,'Photon Flux [0.1-100 GeV](photons cm-2 s-1)')\n",
    "for i in [min_PKS0736,max_PKS0736,mean_PKS0736]:\n",
    "    Li=4*np.pi*D_cm_PKS0736.value**2*i#*#15e9*1e-23*i#erg/s\n",
    "    print(Li)"
   ]
  },
  {
   "cell_type": "code",
   "execution_count": null,
   "metadata": {
    "ExecuteTime": {
     "end_time": "2022-10-14T03:30:54.105496Z",
     "start_time": "2022-10-14T03:30:54.096477Z"
    }
   },
   "outputs": [],
   "source": [
    "get_info(Fermi_PKS0736_select,'Photon Flux [0.1-100 GeV](photons cm-2 s-1)')"
   ]
  },
  {
   "cell_type": "code",
   "execution_count": null,
   "metadata": {
    "ExecuteTime": {
     "end_time": "2022-10-14T06:44:29.234475Z",
     "start_time": "2022-10-14T06:44:29.217203Z"
    }
   },
   "outputs": [],
   "source": [
    "min_PKS0736,max_PKS0736,mean_PKS0736=get_info(Fermi_PKS0736_select,'Photon Flux [0.1-100 GeV](photons cm-2 s-1)')\n",
    "for i in [min_PKS0736,max_PKS0736,mean_PKS0736]:\n",
    "    Li=4*np.pi*D_cm_PKS0736.value**2*i#*#15e9*1e-23*i#erg/s\n",
    "    print(Li)"
   ]
  },
  {
   "cell_type": "markdown",
   "metadata": {
    "ExecuteTime": {
     "end_time": "2022-10-06T15:22:46.518501Z",
     "start_time": "2022-10-06T15:22:46.497345Z"
    }
   },
   "source": [
    "for i in Fermi_PKS0736['Photon Flux Error(photons cm-2 s-1)']:\n",
    "    print(i)"
   ]
  },
  {
   "cell_type": "markdown",
   "metadata": {
    "ExecuteTime": {
     "end_time": "2022-10-06T15:22:23.387516Z",
     "start_time": "2022-10-06T15:22:23.365931Z"
    }
   },
   "source": [
    "for i in Fermi_PKS0736['Photon Flux [0.1-100 GeV](photons cm-2 s-1)']:\n",
    "    print(i)"
   ]
  },
  {
   "cell_type": "markdown",
   "metadata": {},
   "source": [
    "## plot_PKS0736"
   ]
  },
  {
   "cell_type": "code",
   "execution_count": null,
   "metadata": {
    "ExecuteTime": {
     "end_time": "2022-10-13T08:58:56.108627Z",
     "start_time": "2022-10-13T08:58:50.773781Z"
    }
   },
   "outputs": [],
   "source": [
    "figure_n= 5\n",
    "\n",
    "fig = plt.figure(figsize=(12,figure_n*3))\n",
    "fig.subplots_adjust(hspace=0.0, wspace = 0.0)\n",
    "\n",
    "ax = fig.add_subplot(figure_n,1,1)\n",
    "\n",
    "for i in range(len(SMARTS_PKS0736)):\n",
    "    if SMARTS_PKS0736['col9'][i]!=999:\n",
    "        ax.errorbar(SMARTS_PKS0736['col8'][i]-2400000.5,\n",
    "                SMARTS_PKS0736['col9'][i],\n",
    "                yerr=SMARTS_PKS0736['col10'][i],\n",
    "               ls=':',marker='.',color='r',markersize=10,label='R-SMARTs')\n",
    "\n",
    "           \n",
    "ax1 = fig.add_subplot(figure_n,1,2,sharex=ax)\n",
    "for i in range(len(SMARTS_PKS0736)):\n",
    "    if SMARTS_PKS0736['col6'][i]!=999:\n",
    "        ax1.errorbar(SMARTS_PKS0736['col5'][i]-2400000.5,\n",
    "                SMARTS_PKS0736['col6'][i],\n",
    "                yerr=SMARTS_PKS0736['col7'][i],\n",
    "               ls=':',marker='.',color='b',markersize=10,label='V-SMARTs')\n",
    "        \n",
    "ax1.errorbar(RMdata_PKS0736['MJD'],\n",
    "             RMdata_PKS0736['V'],\n",
    "             ls=':',marker='*',color='grey',markersize=10,label='V')\n",
    "       \n",
    "\n",
    "    \n",
    "        \n",
    "ax2 = fig.add_subplot(figure_n,1,3,sharex=ax)        \n",
    "ax2.errorbar(RMdata_PKS0736['MJD'],\n",
    "             RMdata_PKS0736['flux5100'],\n",
    "             ls=':',marker='.',color='b',markersize=10,label='flux5100')\n",
    "       \n",
    "ax2.errorbar(RMdata_PKS0736['MJD'],\n",
    "             RMdata_PKS0736['fhbeta'],\n",
    "             ls=':',marker='d',color='r',markersize=10,label='fhbeta')\n",
    "    \n",
    "    \n",
    "    \n",
    "ax3 = fig.add_subplot(figure_n,1,4,sharex=ax)\n",
    "ax3.errorbar(table_OVRO_PKS0736_extract['mjd'],\n",
    "             table_OVRO_PKS0736_extract['flux_15GHZ_ovro'],\n",
    "             yerr=table_OVRO_PKS0736_extract['err'],\n",
    "               ls=':',marker='.',color='b',markersize=10,label='15GHz')\n",
    "\n",
    "\n",
    "ax4 = fig.add_subplot(figure_n,1,5,sharex=ax)\n",
    "ax4.errorbar(Fermi_PKS0736['mjd'],\n",
    "             Fermi_PKS0736['Photon Flux [0.1-100 GeV](photons cm-2 s-1)'],         \n",
    "             yerr=Fermi_PKS0736['Photon Flux Error(photons cm-2 s-1)'],\n",
    "             \n",
    "             \n",
    "            ls=':',marker='.',color='b',markersize=10,label='Fermi')\n",
    "\n",
    "\n",
    "        \n",
    "\n",
    "\n",
    "\n",
    "\n",
    "ax.set_title('PKS0736')\n",
    "ax.set_ylabel(r'$\\mathrm{Mag}$')\n",
    "ax1.set_ylabel(r'$\\mathrm{Mag}$')\n",
    "ax4.set_xlabel(r'MJD(d)')\n",
    "\n",
    "set_mag_ylim(ax)\n",
    "set_mag_ylim(ax1)\n",
    "\n",
    "\n",
    "#ax.semilogy()\n",
    "set_ax_tick(ax)\n",
    "set_ax_tick(ax1)\n",
    "set_ax_tick(ax2)\n",
    "set_ax_tick(ax3)\n",
    "set_ax_tick(ax4)\n",
    "\n",
    "set_ax_legend(ax,bbox_to_anchor=(0.01, 0.99))\n",
    "set_ax_legend(ax1,bbox_to_anchor=(0.01, 0.99))\n",
    "set_ax_legend(ax2,bbox_to_anchor=(0.01, 0.99))\n",
    "set_ax_legend(ax3,bbox_to_anchor=(0.01, 0.99))\n",
    "set_ax_legend(ax4,bbox_to_anchor=(0.01, 0.99))\n",
    "\n",
    "\n",
    "plot_secax(ax,mi_interval=30,ma_interval=90,rotation=30)\n",
    "\n",
    "#range_l,range_r=(54930+1,54970-1)\n",
    "range_l,range_r=(56500+1,58300-1)\n",
    "\n",
    "ax.set_xlim(range_l,range_r)\n",
    "#ax.set_ylim(0.1,9.9)\n",
    "\n",
    "save_lc_img_path='/Users/lyubing/IHEPBox/JetRM_plot/PKS0736_SMARTS_%d_%d.png'%(range_l,range_r)\n",
    "#save_lc_img_path='/Users/brettlv/Downloads/PKS0736_plot/Mojave_15GHz_I_lc.png'\n",
    "plt.savefig(save_lc_img_path,dpi=400, transparent=False, bbox_inches='tight')\n",
    "#plt.close()\n",
    "\n",
    "\n"
   ]
  },
  {
   "cell_type": "code",
   "execution_count": null,
   "metadata": {
    "ExecuteTime": {
     "end_time": "2022-10-07T08:39:41.999387Z",
     "start_time": "2022-10-07T08:39:41.766404Z"
    }
   },
   "outputs": [],
   "source": [
    "!open /Users/lyubing/IHEPBox/JetRM_plot"
   ]
  },
  {
   "cell_type": "code",
   "execution_count": null,
   "metadata": {},
   "outputs": [],
   "source": []
  },
  {
   "cell_type": "code",
   "execution_count": null,
   "metadata": {},
   "outputs": [],
   "source": []
  },
  {
   "cell_type": "markdown",
   "metadata": {},
   "source": []
  },
  {
   "cell_type": "code",
   "execution_count": null,
   "metadata": {
    "ExecuteTime": {
     "end_time": "2022-10-07T06:06:04.128310Z",
     "start_time": "2022-10-07T06:06:04.119773Z"
    }
   },
   "outputs": [],
   "source": [
    "source_Name='3C 273'\n",
    "name_i=source_Name\n",
    "source_Name_i=name_i.strip()\n",
    "source_name_i=Source_name_dict[source_Name_i]"
   ]
  },
  {
   "cell_type": "code",
   "execution_count": null,
   "metadata": {
    "ExecuteTime": {
     "end_time": "2022-07-18T13:18:47.361659Z",
     "start_time": "2022-07-18T13:18:47.310955Z"
    }
   },
   "outputs": [],
   "source": [
    "prefix=''\n",
    "Polpath=os.path.join(root_data_dir,source_name_i,'%s_pol'%source_name_i+prefix+'.xlsx')\n",
    "if os.path.exists(Polpath):\n",
    "    Poldata=pd.read_excel(Polpath)    "
   ]
  },
  {
   "cell_type": "code",
   "execution_count": null,
   "metadata": {
    "ExecuteTime": {
     "end_time": "2022-07-18T13:18:47.767951Z",
     "start_time": "2022-07-18T13:18:47.763407Z"
    }
   },
   "outputs": [],
   "source": [
    "Polpath"
   ]
  },
  {
   "cell_type": "markdown",
   "metadata": {
    "ExecuteTime": {
     "end_time": "2022-07-18T13:18:49.598106Z",
     "start_time": "2022-07-18T13:18:49.565278Z"
    }
   },
   "source": [
    "Poldata"
   ]
  },
  {
   "cell_type": "code",
   "execution_count": null,
   "metadata": {
    "ExecuteTime": {
     "end_time": "2022-07-18T13:18:58.125961Z",
     "start_time": "2022-07-18T13:18:56.733217Z"
    }
   },
   "outputs": [],
   "source": [
    "source_Name='3C 273'\n",
    "Rband_data_source_3C273=get_Rdata_name(source_Name)"
   ]
  },
  {
   "cell_type": "code",
   "execution_count": null,
   "metadata": {
    "ExecuteTime": {
     "end_time": "2022-07-18T13:19:01.637317Z",
     "start_time": "2022-07-18T13:19:01.613950Z"
    }
   },
   "outputs": [],
   "source": [
    "Rdata_source_3C273"
   ]
  },
  {
   "cell_type": "code",
   "execution_count": null,
   "metadata": {
    "ExecuteTime": {
     "end_time": "2022-07-18T13:19:11.922754Z",
     "start_time": "2022-07-18T13:19:11.742178Z"
    }
   },
   "outputs": [],
   "source": [
    "source_Name='3C 273'\n",
    "Poldata_source_3C273=get_Poldata_name(source_Name)"
   ]
  },
  {
   "cell_type": "code",
   "execution_count": null,
   "metadata": {
    "ExecuteTime": {
     "end_time": "2022-07-18T13:19:13.029362Z",
     "start_time": "2022-07-18T13:19:12.998637Z"
    }
   },
   "outputs": [],
   "source": [
    "Poldata_source_3C273"
   ]
  },
  {
   "cell_type": "code",
   "execution_count": null,
   "metadata": {
    "ExecuteTime": {
     "end_time": "2022-07-18T13:19:15.760527Z",
     "start_time": "2022-07-18T13:19:15.565011Z"
    }
   },
   "outputs": [],
   "source": [
    "source_Name='3C 273'\n",
    "Vdata_source_3C273=get_Vdata_name(source_Name)"
   ]
  },
  {
   "cell_type": "code",
   "execution_count": null,
   "metadata": {
    "ExecuteTime": {
     "end_time": "2022-07-18T13:19:19.871360Z",
     "start_time": "2022-07-18T13:19:19.834054Z"
    }
   },
   "outputs": [],
   "source": [
    "Vdata_source_3C273"
   ]
  },
  {
   "cell_type": "code",
   "execution_count": null,
   "metadata": {},
   "outputs": [],
   "source": []
  },
  {
   "cell_type": "markdown",
   "metadata": {},
   "source": [
    "# def write_lagfile"
   ]
  },
  {
   "cell_type": "code",
   "execution_count": null,
   "metadata": {
    "ExecuteTime": {
     "end_time": "2022-10-07T06:06:23.325223Z",
     "start_time": "2022-10-07T06:06:23.308403Z"
    }
   },
   "outputs": [],
   "source": [
    "def write_lagfile(rootdir,sourcename,labelname1,labelname2,dataname1,dataname2,rangemin,rangemax):\n",
    "    #sourcename=sourcename_origin.strip().replace(' ','')\n",
    "    \n",
    "    if not os.path.exists(os.path.join(rootdir,sourcename)):\n",
    "        os.mkdir(os.path.join(rootdir,sourcename))\n",
    "        \n",
    "    data1= dataname1[dataname1['t']>=rangemin]\n",
    "    data1= data1[data1['t']<=rangemax]   \n",
    "    path_data1=os.path.join(rootdir,sourcename,labelname1+labelname2+'_%d_%d.csv'%(rangemin,rangemax))\n",
    "    #if os.path.exists(path_data1):\n",
    "        #os.remove(path_data1)\n",
    "    data1.to_csv(path_data1,index=False,header=False,sep=',')\n",
    "    \n",
    "    data2= dataname2[dataname2['t']>=rangemin]\n",
    "    data2= data2[data2['t']<=rangemax]    \n",
    "    path_data2=os.path.join(rootdir,sourcename,labelname2+labelname1+'_%d_%d.csv'%(rangemin,rangemax))\n",
    "    #if os.path.exists(path_data2):\n",
    "        #os.remove(path_data2)            \n",
    "    data2.to_csv(path_data2,index=False,header=False,sep=',')  \n",
    "    return path_data1,path_data2    "
   ]
  },
  {
   "cell_type": "code",
   "execution_count": null,
   "metadata": {
    "ExecuteTime": {
     "end_time": "2022-10-07T06:06:25.209848Z",
     "start_time": "2022-10-07T06:06:25.192530Z"
    }
   },
   "outputs": [],
   "source": [
    "def get_lagfile(rootdir,sourcename,labelname1,labelname2,dataname1,dataname2,rangemin,rangemax):\n",
    "    #sourcename=sourcename_origin.strip().replace(' ','')\n",
    "    #data1= dataname1[dataname1['t']>rangemin]\n",
    "    #data1= data1[data1['t']<rangemax]   \n",
    "    path_data1=os.path.join(rootdir,sourcename,labelname1+labelname2+'_%d_%d.csv'%(rangemin,rangemax))\n",
    "    #data1.to_csv(path_data1,index=False,header=False,sep=',')\n",
    "    \n",
    "    #data2= dataname2[dataname2['t']>rangemin]\n",
    "    #data2= data2[data2['t']<rangemax]    \n",
    "    path_data2=os.path.join(rootdir,sourcename,labelname2+labelname1+'_%d_%d.csv'%(rangemin,rangemax))\n",
    "    #data2.to_csv(path_data2,index=False,header=False,sep=',')  \n",
    "    return path_data1,path_data2 "
   ]
  },
  {
   "cell_type": "code",
   "execution_count": null,
   "metadata": {
    "ExecuteTime": {
     "end_time": "2022-10-07T06:06:27.759584Z",
     "start_time": "2022-10-07T06:06:27.743299Z"
    }
   },
   "outputs": [],
   "source": [
    "def write_javelin_lagfile(rootdir,sourcename,labelname1,labelname2,dataname1,dataname2,rangemin,rangemax):\n",
    "    #sourcename=sourcename_origin.strip().replace(' ','')\n",
    "    \n",
    "    if not os.path.exists(os.path.join(rootdir,sourcename)):\n",
    "        os.mkdir(os.path.join(rootdir,sourcename))\n",
    "        \n",
    "    data1= dataname1[dataname1['t']>=rangemin]\n",
    "    data1= data1[data1['t']<=rangemax]   \n",
    "    data1=data1.sort_values('t')\n",
    "    path_data1=os.path.join(rootdir,sourcename,labelname1+labelname2+'_%d_%d.csv'%(rangemin,rangemax))\n",
    "    if os.path.exists(path_data1):\n",
    "        os.remove(path_data1)\n",
    "    data1.to_csv(path_data1,index=False,header=False,sep=' ')\n",
    "    \n",
    "    data2= dataname2[dataname2['t']>=rangemin]\n",
    "    data2= data2[data2['t']<=rangemax] \n",
    "    data2=data2.sort_values('t')\n",
    "    path_data2=os.path.join(rootdir,sourcename,labelname2+labelname1+'_%d_%d.csv'%(rangemin,rangemax))\n",
    "    if os.path.exists(path_data2):\n",
    "        os.remove(path_data2)    \n",
    "    data2.to_csv(path_data2,index=False,header=False,sep=' ')  \n",
    "    return path_data1,path_data2    "
   ]
  },
  {
   "cell_type": "code",
   "execution_count": null,
   "metadata": {},
   "outputs": [],
   "source": []
  },
  {
   "cell_type": "code",
   "execution_count": null,
   "metadata": {},
   "outputs": [],
   "source": []
  },
  {
   "cell_type": "markdown",
   "metadata": {},
   "source": [
    "# CCF"
   ]
  },
  {
   "cell_type": "markdown",
   "metadata": {},
   "source": [
    "## def run_ccf"
   ]
  },
  {
   "cell_type": "code",
   "execution_count": null,
   "metadata": {
    "ExecuteTime": {
     "end_time": "2022-10-07T06:06:35.217644Z",
     "start_time": "2022-10-07T06:06:35.205927Z"
    }
   },
   "outputs": [],
   "source": [
    "def run_ccf(rootdir,sourcename,labelname1,labelname2,dataname1,dataname2,rangemin,rangemax,lagrangel=-10,lagrangeh=30):\n",
    "    #command='python ccf_ngc1566_cpython.py %s %s %s %s %d %d %d %d'%(path_data1,path_data2,labelname1,labelname2,rangemin,rangemax,lagrangel,lagrangeh)\n",
    "    os.chdir(rootdir)\n",
    "    \n",
    "    source_path=os.path.join(rootdir,sourcename)\n",
    "    \n",
    "    path_data1,path_data2=write_lagfile(rootdir,sourcename,labelname1,labelname2,dataname1,dataname2,rangemin,rangemax)\n",
    "    command='/Users/lyubing/opt/anaconda2/bin/python2 CCF_cpython.py %s %s %s %s %d %d %d %d %s'%(path_data1,path_data2,labelname1,labelname2,rangemin,rangemax,lagrangel,lagrangeh,source_path)\n",
    "    print(command)\n",
    "    os.system(command)  "
   ]
  },
  {
   "cell_type": "markdown",
   "metadata": {},
   "source": [
    "## def plot_ccf"
   ]
  },
  {
   "cell_type": "code",
   "execution_count": null,
   "metadata": {
    "ExecuteTime": {
     "end_time": "2022-10-07T06:06:37.795122Z",
     "start_time": "2022-10-07T06:06:37.786368Z"
    }
   },
   "outputs": [],
   "source": [
    "def plot_ccf(rootdir,sourcename,labelname1,labelname2,dataname1,dataname2,rangemin,rangemax,lagrangel=-10,lagrangeh=30):\n",
    "    #command='python ccf_ngc1566_cpython.py %s %s %s %s %d %d %d %d'%(path_data1,path_data2,labelname1,labelname2,rangemin,rangemax,lagrangel,lagrangeh)\n",
    "    os.chdir(rootdir)\n",
    "    source_path=os.path.join(rootdir,sourcename)\n",
    "    path_data1,path_data2=write_lagfile(rootdir,sourcename,labelname1,labelname2,dataname1,dataname2,rangemin,rangemax)\n",
    "    command='python CCF_plot.py %s %s %s %s %d %d %d %d %s'%(path_data1,path_data2,labelname1,labelname2,rangemin,rangemax,lagrangel,lagrangeh,source_path)\n",
    "    print(command)\n",
    "    os.system(command)    "
   ]
  },
  {
   "cell_type": "code",
   "execution_count": null,
   "metadata": {},
   "outputs": [],
   "source": []
  },
  {
   "cell_type": "code",
   "execution_count": null,
   "metadata": {
    "ExecuteTime": {
     "end_time": "2022-10-07T06:06:40.689447Z",
     "start_time": "2022-10-07T06:06:40.681468Z"
    }
   },
   "outputs": [],
   "source": [
    "rootdir_ccf='%s/00CCF/'%root_dir\n",
    "if not os.path.exists(rootdir_ccf):\n",
    "    os.mkdir(rootdir_ccf)\n",
    "    print(rootdir_ccf)"
   ]
  },
  {
   "cell_type": "code",
   "execution_count": null,
   "metadata": {
    "ExecuteTime": {
     "end_time": "2022-10-07T06:06:41.192339Z",
     "start_time": "2022-10-07T06:06:41.185398Z"
    }
   },
   "outputs": [],
   "source": [
    "print(rootdir_ccf)"
   ]
  },
  {
   "cell_type": "code",
   "execution_count": null,
   "metadata": {
    "ExecuteTime": {
     "end_time": "2022-10-07T06:06:42.910495Z",
     "start_time": "2022-10-07T06:06:42.706439Z"
    }
   },
   "outputs": [],
   "source": [
    "ls /Volumes/ExtremeSSD/00PKU_SCI/Fermi_AGN_optical_monitoring_program_at_Steward_Observatory//00CCF/"
   ]
  },
  {
   "cell_type": "code",
   "execution_count": null,
   "metadata": {},
   "outputs": [],
   "source": []
  },
  {
   "cell_type": "markdown",
   "metadata": {},
   "source": [
    "## 3C 273"
   ]
  },
  {
   "cell_type": "code",
   "execution_count": null,
   "metadata": {
    "ExecuteTime": {
     "end_time": "2022-10-14T06:30:19.553751Z",
     "start_time": "2022-10-14T06:30:19.331595Z"
    }
   },
   "outputs": [],
   "source": [
    "source_Name='3C 273'\n",
    "source_name=Source_name_dict[source_Name]\n",
    "source_z=Fermi_AGN_list_name_redshift_T[Fermi_AGN_list_name_redshift_T['      Input Object Name       '].str.strip()==source_Name]['z_value']\n",
    "D_cm_3C273=cosmo.luminosity_distance(source_z.values[0]).to(u.cm)\n",
    "\n",
    "Vdata_source=get_Vdata_name(source_Name)\n",
    "maglabel_w1=Vdata_source.columns[7]\n",
    "e_maglabel_w1=Vdata_source.columns[8]\n",
    "Lum_Vdata_source=fermi_monitor_Vmag_to_flux(Vdata_source,maglabel_w1,e_maglabel_w1,D_cm_3C273) "
   ]
  },
  {
   "cell_type": "code",
   "execution_count": null,
   "metadata": {
    "ExecuteTime": {
     "end_time": "2022-10-14T06:31:05.159629Z",
     "start_time": "2022-10-14T06:31:03.787859Z"
    }
   },
   "outputs": [],
   "source": [
    "Rdata_source=get_Rdata_name(source_Name)\n",
    "maglabel_w1=Rdata_source.columns[7]\n",
    "e_maglabel_w1=Rdata_source.columns[8]\n",
    "Lum_Rdata_source=fermi_monitor_Rmag_to_flux(Rdata_source,maglabel_w1,e_maglabel_w1,D_cm_3C273) "
   ]
  },
  {
   "cell_type": "markdown",
   "metadata": {},
   "source": [
    "### lag V R Pol"
   ]
  },
  {
   "cell_type": "code",
   "execution_count": null,
   "metadata": {
    "ExecuteTime": {
     "end_time": "2022-10-14T06:31:25.125978Z",
     "start_time": "2022-10-14T06:31:25.110595Z"
    }
   },
   "outputs": [],
   "source": [
    "lag_Vdata_source=Lum_Vdata_source[['mjd','logL_V','e_logL_V']]\n",
    "lag_Vdata_source.columns=['t','flux','flux_err']\n",
    "lag_Vdata_source=lag_Vdata_source.sort_values(['t'])"
   ]
  },
  {
   "cell_type": "code",
   "execution_count": null,
   "metadata": {
    "ExecuteTime": {
     "end_time": "2022-10-14T06:31:25.644073Z",
     "start_time": "2022-10-14T06:31:25.631375Z"
    }
   },
   "outputs": [],
   "source": [
    "lag_Rdata_source=Lum_Rdata_source[['mjd','logL_R','e_logL_R']]\n",
    "lag_Rdata_source.columns=['t','flux','flux_err']\n",
    "lag_Rdata_source=lag_Rdata_source.sort_values(['t'])"
   ]
  },
  {
   "cell_type": "code",
   "execution_count": null,
   "metadata": {},
   "outputs": [],
   "source": []
  },
  {
   "cell_type": "code",
   "execution_count": null,
   "metadata": {
    "ExecuteTime": {
     "end_time": "2022-07-18T13:19:54.115399Z",
     "start_time": "2022-07-18T13:19:54.108719Z"
    }
   },
   "outputs": [],
   "source": []
  },
  {
   "cell_type": "code",
   "execution_count": null,
   "metadata": {
    "ExecuteTime": {
     "end_time": "2022-07-18T13:21:34.806098Z",
     "start_time": "2022-07-18T13:21:34.800096Z"
    }
   },
   "outputs": [],
   "source": [
    "len(lag_Vdata_source)"
   ]
  },
  {
   "cell_type": "markdown",
   "metadata": {},
   "source": [
    "lag_Vdata_source"
   ]
  },
  {
   "cell_type": "code",
   "execution_count": null,
   "metadata": {
    "ExecuteTime": {
     "end_time": "2022-10-14T06:31:34.756910Z",
     "start_time": "2022-10-14T06:31:34.504206Z"
    }
   },
   "outputs": [],
   "source": [
    "source_Name='3C 273'\n",
    "Poldata_source=get_Poldata_name(source_Name)\n",
    "Poldata_source['snr']=Poldata_source[Poldata_source.columns[9]]/Poldata_source[Poldata_source.columns[10]]\n",
    "Poldata_source_snr=Poldata_source[Poldata_source['snr']>5]"
   ]
  },
  {
   "cell_type": "code",
   "execution_count": null,
   "metadata": {
    "ExecuteTime": {
     "end_time": "2022-10-14T06:31:46.437027Z",
     "start_time": "2022-10-14T06:31:46.424913Z"
    }
   },
   "outputs": [],
   "source": [
    "Poldata_source_snr.columns"
   ]
  },
  {
   "cell_type": "code",
   "execution_count": null,
   "metadata": {
    "ExecuteTime": {
     "end_time": "2022-10-14T06:32:07.985324Z",
     "start_time": "2022-10-14T06:32:07.974650Z"
    }
   },
   "outputs": [],
   "source": [
    "get_info(Poldata_source_snr,'P (%)')"
   ]
  },
  {
   "cell_type": "code",
   "execution_count": null,
   "metadata": {
    "ExecuteTime": {
     "end_time": "2022-10-07T06:11:41.411998Z",
     "start_time": "2022-10-07T06:11:41.399632Z"
    }
   },
   "outputs": [],
   "source": [
    "lag_Poldata_source=Poldata_source_snr[['mjd',Poldata_source.columns[9],Poldata_source.columns[10]]]\n",
    "lag_Poldata_source.columns=['t','Pol','Pol_err']\n",
    "lag_Poldata_source=lag_Poldata_source.sort_values(['t'])"
   ]
  },
  {
   "cell_type": "code",
   "execution_count": null,
   "metadata": {
    "ExecuteTime": {
     "end_time": "2022-10-07T06:11:44.064556Z",
     "start_time": "2022-10-07T06:11:44.053936Z"
    }
   },
   "outputs": [],
   "source": [
    "len(lag_Poldata_source)"
   ]
  },
  {
   "cell_type": "code",
   "execution_count": null,
   "metadata": {},
   "outputs": [],
   "source": []
  },
  {
   "cell_type": "code",
   "execution_count": null,
   "metadata": {},
   "outputs": [],
   "source": []
  },
  {
   "cell_type": "markdown",
   "metadata": {
    "ExecuteTime": {
     "end_time": "2022-07-18T12:20:20.675720Z",
     "start_time": "2022-07-18T12:20:20.662186Z"
    }
   },
   "source": [
    "lag_Poldata_source"
   ]
  },
  {
   "cell_type": "code",
   "execution_count": null,
   "metadata": {},
   "outputs": [],
   "source": []
  },
  {
   "cell_type": "code",
   "execution_count": null,
   "metadata": {
    "ExecuteTime": {
     "end_time": "2022-07-18T13:23:02.045872Z",
     "start_time": "2022-07-18T13:21:44.994093Z"
    }
   },
   "outputs": [],
   "source": [
    "labelname1=\"V\"\n",
    "labelname2=\"Pol\"\n",
    "dataname1=lag_Vdata_source\n",
    "dataname2=lag_Poldata_source\n",
    "\n",
    "sourcename_label='3C273'\n",
    "rangemin,rangemax=54500,58500\n",
    "lagrangel=-300\n",
    "lagrangeh=300\n",
    "\n",
    "run_ccf(rootdir_ccf,sourcename_label,labelname1,labelname2,dataname1,dataname2,rangemin,rangemax,lagrangel,lagrangeh)\n",
    "#plot_ccf(rootdir_ccf,sourcename,labelname1,labelname2,dataname1,dataname2,rangemin,rangemax,lagrangel,lagrangeh)"
   ]
  },
  {
   "cell_type": "code",
   "execution_count": null,
   "metadata": {
    "ExecuteTime": {
     "end_time": "2022-07-18T13:28:18.130513Z",
     "start_time": "2022-07-18T13:28:14.019627Z"
    }
   },
   "outputs": [],
   "source": [
    "plot_ccf(rootdir_ccf,sourcename_label,labelname1,labelname2,dataname1,dataname2,rangemin,rangemax,lagrangel,lagrangeh)"
   ]
  },
  {
   "cell_type": "code",
   "execution_count": null,
   "metadata": {},
   "outputs": [],
   "source": []
  },
  {
   "cell_type": "code",
   "execution_count": null,
   "metadata": {
    "ExecuteTime": {
     "end_time": "2022-07-18T14:11:20.604649Z",
     "start_time": "2022-07-18T14:08:15.113207Z"
    }
   },
   "outputs": [],
   "source": [
    "labelname1=\"V\"\n",
    "labelname2=\"R\"\n",
    "dataname1=lag_Vdata_source\n",
    "dataname2=lag_Rdata_source\n",
    "\n",
    "sourcename_label='3C273'\n",
    "rangemin,rangemax=54500,58500\n",
    "lagrangel=-100\n",
    "lagrangeh=100\n",
    "\n",
    "run_ccf(rootdir_ccf,sourcename_label,labelname1,labelname2,dataname1,dataname2,rangemin,rangemax,lagrangel,lagrangeh)\n",
    "#plot_ccf(rootdir_ccf,sourcename,labelname1,labelname2,dataname1,dataname2,rangemin,rangemax,lagrangel,lagrangeh)"
   ]
  },
  {
   "cell_type": "code",
   "execution_count": null,
   "metadata": {
    "ExecuteTime": {
     "end_time": "2022-07-18T14:11:24.594112Z",
     "start_time": "2022-07-18T14:11:20.612780Z"
    }
   },
   "outputs": [],
   "source": [
    "plot_ccf(rootdir_ccf,sourcename_label,labelname1,labelname2,dataname1,dataname2,rangemin,rangemax,lagrangel,lagrangeh)"
   ]
  },
  {
   "cell_type": "markdown",
   "metadata": {},
   "source": [
    "###  L5100_LHbeta_Jet_lag"
   ]
  },
  {
   "cell_type": "code",
   "execution_count": null,
   "metadata": {
    "ExecuteTime": {
     "end_time": "2022-08-05T04:43:37.625391Z",
     "start_time": "2022-08-05T04:43:37.612613Z"
    }
   },
   "outputs": [],
   "source": [
    "data_3C273.colnames"
   ]
  },
  {
   "cell_type": "code",
   "execution_count": null,
   "metadata": {
    "ExecuteTime": {
     "end_time": "2022-10-07T06:12:46.977502Z",
     "start_time": "2022-10-07T06:12:46.959435Z"
    }
   },
   "outputs": [],
   "source": [
    "lag_5100_source=data_3C273[['mjd1','F5100','e_F5100']].to_pandas()\n",
    "lag_5100_source.columns=['t','flux','flux_err']\n",
    "lag_5100_source=lag_5100_source.sort_values(['t'])"
   ]
  },
  {
   "cell_type": "code",
   "execution_count": null,
   "metadata": {
    "ExecuteTime": {
     "end_time": "2022-10-07T06:12:48.630679Z",
     "start_time": "2022-10-07T06:12:48.616436Z"
    }
   },
   "outputs": [],
   "source": [
    "lag_Hbeta_source=data_3C273[['mjd1','FHbeta','e_FHbeta']].to_pandas()\n",
    "lag_Hbeta_source.columns=['t','flux','flux_err']\n",
    "lag_Hbeta_source=lag_Hbeta_source.sort_values(['t'])"
   ]
  },
  {
   "cell_type": "code",
   "execution_count": null,
   "metadata": {
    "ExecuteTime": {
     "end_time": "2022-10-07T06:12:50.622477Z",
     "start_time": "2022-10-07T06:12:50.609520Z"
    }
   },
   "outputs": [],
   "source": [
    "lag_15GHz_3c273=mojave_15GHz_3c273[['mjd','flux','err']]\n",
    "lag_15GHz_3c273.columns=['t','flux','err']\n",
    "lag_15GHz_3c273=lag_15GHz_3c273.sort_values('t')"
   ]
  },
  {
   "cell_type": "code",
   "execution_count": null,
   "metadata": {
    "ExecuteTime": {
     "end_time": "2022-10-07T06:12:51.248071Z",
     "start_time": "2022-10-07T06:12:51.236649Z"
    }
   },
   "outputs": [],
   "source": [
    "lag_15GHz_3c273_ovro=ovro_40m_3C273[['mjd','flux','flux err']]\n",
    "lag_15GHz_3c273_ovro.columns=['t','flux','err']\n",
    "lag_15GHz_3c273_ovro=lag_15GHz_3c273_ovro.sort_values('t')"
   ]
  },
  {
   "cell_type": "code",
   "execution_count": null,
   "metadata": {
    "ExecuteTime": {
     "end_time": "2022-08-05T06:19:22.285797Z",
     "start_time": "2022-08-05T06:19:22.281351Z"
    }
   },
   "outputs": [],
   "source": [
    "Jet3C273_decomp.columns"
   ]
  },
  {
   "cell_type": "code",
   "execution_count": null,
   "metadata": {
    "ExecuteTime": {
     "end_time": "2022-10-07T11:19:21.591037Z",
     "start_time": "2022-10-07T11:19:21.581377Z"
    }
   },
   "outputs": [],
   "source": [
    "lag_Jetdecomp_3c273=Jet3C273_decomp[['mjd','Jetflux_V','err_Jetflux_V']]\n",
    "lag_Jetdecomp_3c273.columns=['t','flux','err']\n",
    "lag_Jetdecomp_3c273=lag_Jetdecomp_3c273.sort_values('t')"
   ]
  },
  {
   "cell_type": "code",
   "execution_count": null,
   "metadata": {
    "ExecuteTime": {
     "end_time": "2022-10-07T11:19:22.563961Z",
     "start_time": "2022-10-07T11:19:22.548063Z"
    }
   },
   "outputs": [],
   "source": [
    "lag_Diskdecomp_3c273=Disk3C273_decomp[['mjd','Diskflux_V','err_Diskflux_V']]\n",
    "lag_Diskdecomp_3c273.columns=['t','flux','err']\n",
    "lag_Diskdecomp_3c273=lag_Diskdecomp_3c273.sort_values('t')"
   ]
  },
  {
   "cell_type": "code",
   "execution_count": null,
   "metadata": {
    "ExecuteTime": {
     "end_time": "2022-10-07T06:17:50.351952Z",
     "start_time": "2022-10-07T06:17:50.340782Z"
    }
   },
   "outputs": [],
   "source": [
    "get_info(lag_F5100_Disk,'t')"
   ]
  },
  {
   "cell_type": "code",
   "execution_count": null,
   "metadata": {
    "ExecuteTime": {
     "end_time": "2022-10-07T06:33:09.496782Z",
     "start_time": "2022-10-07T06:33:09.485983Z"
    }
   },
   "outputs": [],
   "source": [
    "get_info(lag_5100_source,'t')"
   ]
  },
  {
   "cell_type": "markdown",
   "metadata": {},
   "source": [
    "### Diskcomp_Hbeta"
   ]
  },
  {
   "cell_type": "code",
   "execution_count": null,
   "metadata": {
    "ExecuteTime": {
     "end_time": "2022-10-07T10:23:47.897888Z",
     "start_time": "2022-10-07T10:20:58.643150Z"
    }
   },
   "outputs": [],
   "source": [
    "labelname1=\"F_Diskdecomp_3c273\"\n",
    "labelname2=\"Hbeta\"\n",
    "dataname1=lag_Diskdecomp_3c273\n",
    "dataname2=lag_Hbeta_source\n",
    "\n",
    "sourcename_label='3C273'\n",
    "#rangemin,rangemax=54790,58200\n",
    "rangemin,rangemax=54000,58200\n",
    "lagrangel=0\n",
    "lagrangeh=300\n",
    "\n",
    "run_ccf(rootdir_ccf,sourcename_label,labelname1,labelname2,dataname1,dataname2,rangemin,rangemax,lagrangel,lagrangeh)\n",
    "plot_ccf(rootdir_ccf,sourcename_label,labelname1,labelname2,dataname1,dataname2,rangemin,rangemax,lagrangel,lagrangeh)"
   ]
  },
  {
   "cell_type": "code",
   "execution_count": null,
   "metadata": {},
   "outputs": [],
   "source": []
  },
  {
   "cell_type": "markdown",
   "metadata": {},
   "source": [
    "### F5100_disk_Hbeta"
   ]
  },
  {
   "cell_type": "code",
   "execution_count": null,
   "metadata": {
    "ExecuteTime": {
     "end_time": "2022-10-07T06:40:38.179184Z",
     "start_time": "2022-10-07T06:38:29.279653Z"
    }
   },
   "outputs": [],
   "source": [
    "labelname1=\"F5100_Diskdecomp\"\n",
    "labelname2=\"Hbeta\"\n",
    "dataname1=lag_F5100_Disk\n",
    "dataname2=lag_Hbeta_source\n",
    "\n",
    "sourcename_label='3C273'\n",
    "#rangemin,rangemax=54790,58200\n",
    "rangemin,rangemax=55000,58200\n",
    "lagrangel=0\n",
    "lagrangeh=300\n",
    "\n",
    "run_ccf(rootdir_ccf,sourcename_label,labelname1,labelname2,dataname1,dataname2,rangemin,rangemax,lagrangel,lagrangeh)\n",
    "plot_ccf(rootdir_ccf,sourcename_label,labelname1,labelname2,dataname1,dataname2,rangemin,rangemax,lagrangel,lagrangeh)"
   ]
  },
  {
   "cell_type": "code",
   "execution_count": null,
   "metadata": {
    "ExecuteTime": {
     "end_time": "2022-10-07T06:16:02.889594Z",
     "start_time": "2022-10-07T06:16:02.624692Z"
    }
   },
   "outputs": [],
   "source": [
    "!open /Volumes/ExtremeSSD/00PKU_SCI/Fermi_AGN_optical_monitoring_program_at_Steward_Observatory//00CCF/3C273"
   ]
  },
  {
   "cell_type": "markdown",
   "metadata": {},
   "source": [
    "###  F5100_FHbeta"
   ]
  },
  {
   "cell_type": "code",
   "execution_count": null,
   "metadata": {
    "ExecuteTime": {
     "end_time": "2022-08-05T04:53:55.594706Z",
     "start_time": "2022-08-05T04:52:59.425142Z"
    }
   },
   "outputs": [],
   "source": [
    "labelname1=\"5100\"\n",
    "labelname2=\"Hbeta\"\n",
    "dataname1=lag_5100_source\n",
    "dataname2=lag_Hbeta_source\n",
    "\n",
    "sourcename_label='3C273'\n",
    "rangemin,rangemax=56800,58200\n",
    "lagrangel=0\n",
    "lagrangeh=400\n",
    "\n",
    "run_ccf(rootdir_ccf,sourcename_label,labelname1,labelname2,dataname1,dataname2,rangemin,rangemax,lagrangel,lagrangeh)\n",
    "plot_ccf(rootdir_ccf,sourcename_label,labelname1,labelname2,dataname1,dataname2,rangemin,rangemax,lagrangel,lagrangeh)"
   ]
  },
  {
   "cell_type": "code",
   "execution_count": null,
   "metadata": {
    "ExecuteTime": {
     "end_time": "2022-08-05T04:53:59.112456Z",
     "start_time": "2022-08-05T04:53:55.597963Z"
    }
   },
   "outputs": [],
   "source": []
  },
  {
   "cell_type": "markdown",
   "metadata": {},
   "source": [
    "### F5100_Jet_radio"
   ]
  },
  {
   "cell_type": "code",
   "execution_count": null,
   "metadata": {
    "ExecuteTime": {
     "end_time": "2022-10-07T10:20:01.723787Z",
     "start_time": "2022-10-07T10:13:58.303363Z"
    }
   },
   "outputs": [],
   "source": [
    "labelname1=\"F5100_Jetcomp\"\n",
    "labelname2=\"15GHz\"\n",
    "dataname1=lag_F5100_Jet\n",
    "dataname2=lag_15GHz_3c273_ovro\n",
    "\n",
    "sourcename_label='3C273'\n",
    "rangemin,rangemax=55000,58200\n",
    "lagrangel=200\n",
    "lagrangeh=1000\n",
    "\n",
    "run_ccf(rootdir_ccf,sourcename_label,labelname1,labelname2,dataname1,dataname2,rangemin,rangemax,lagrangel,lagrangeh)\n",
    "plot_ccf(rootdir_ccf,sourcename_label,labelname1,labelname2,dataname1,dataname2,rangemin,rangemax,lagrangel,lagrangeh)"
   ]
  },
  {
   "cell_type": "markdown",
   "metadata": {},
   "source": [
    "### Jetcomp_radio"
   ]
  },
  {
   "cell_type": "code",
   "execution_count": null,
   "metadata": {
    "ExecuteTime": {
     "end_time": "2022-10-07T11:25:08.033005Z",
     "start_time": "2022-10-07T11:19:26.492930Z"
    }
   },
   "outputs": [],
   "source": [
    "labelname1=\"Jetcomp\"\n",
    "labelname2=\"15GHz\"\n",
    "dataname1=lag_Jetdecomp_3c273\n",
    "dataname2=lag_15GHz_3c273_ovro\n",
    "\n",
    "sourcename_label='3C273'\n",
    "rangemin,rangemax=55000,58200\n",
    "lagrangel=200\n",
    "lagrangeh=1000\n",
    "\n",
    "run_ccf(rootdir_ccf,sourcename_label,labelname1,labelname2,dataname1,dataname2,rangemin,rangemax,lagrangel,lagrangeh)\n",
    "plot_ccf(rootdir_ccf,sourcename_label,labelname1,labelname2,dataname1,dataname2,rangemin,rangemax,lagrangel,lagrangeh)"
   ]
  },
  {
   "cell_type": "code",
   "execution_count": null,
   "metadata": {},
   "outputs": [],
   "source": []
  },
  {
   "cell_type": "code",
   "execution_count": null,
   "metadata": {},
   "outputs": [],
   "source": []
  },
  {
   "cell_type": "code",
   "execution_count": null,
   "metadata": {
    "ExecuteTime": {
     "end_time": "2022-08-05T05:00:20.062032Z",
     "start_time": "2022-08-05T04:59:12.008851Z"
    }
   },
   "outputs": [],
   "source": [
    "labelname1=\"5100\"\n",
    "labelname2=\"15GHz_ovro\"\n",
    "dataname1=lag_5100_source\n",
    "dataname2=lag_15GHz_3c273_ovro\n",
    "\n",
    "sourcename_label='3C273'\n",
    "rangemin,rangemax=56800,58200\n",
    "lagrangel=200\n",
    "lagrangeh=1000\n",
    "\n",
    "run_ccf(rootdir_ccf,sourcename_label,labelname1,labelname2,dataname1,dataname2,rangemin,rangemax,lagrangel,lagrangeh)\n",
    "#plot_ccf(rootdir_ccf,sourcename,labelname1,labelname2,dataname1,dataname2,rangemin,rangemax,lagrangel,lagrangeh)a"
   ]
  },
  {
   "cell_type": "code",
   "execution_count": null,
   "metadata": {
    "ExecuteTime": {
     "end_time": "2022-08-05T05:00:23.195455Z",
     "start_time": "2022-08-05T05:00:20.064747Z"
    }
   },
   "outputs": [],
   "source": [
    "plot_ccf(rootdir_ccf,sourcename_label,labelname1,labelname2,dataname1,dataname2,rangemin,rangemax,lagrangel,lagrangeh)"
   ]
  },
  {
   "cell_type": "code",
   "execution_count": null,
   "metadata": {},
   "outputs": [],
   "source": []
  },
  {
   "cell_type": "code",
   "execution_count": null,
   "metadata": {
    "ExecuteTime": {
     "end_time": "2022-10-07T10:20:01.738552Z",
     "start_time": "2022-10-07T10:20:01.725399Z"
    }
   },
   "outputs": [],
   "source": [
    "labelname1=\"Jetdecomp\"\n",
    "labelname2=\"15GHz_vlba\"\n",
    "dataname1=lag_Jetdecomp_3c273\n",
    "dataname2=lag_15GHz_3c273\n",
    "\n",
    "sourcename_label='3C273'\n",
    "rangemin,rangemax=55000,58200\n",
    "lagrangel=200\n",
    "lagrangeh=1000\n",
    "\n",
    "run_ccf(rootdir_ccf,sourcename_label,labelname1,labelname2,dataname1,dataname2,rangemin,rangemax,lagrangel,lagrangeh)\n",
    "plot_ccf(rootdir_ccf,sourcename_label,labelname1,labelname2,dataname1,dataname2,rangemin,rangemax,lagrangel,lagrangeh)"
   ]
  },
  {
   "cell_type": "code",
   "execution_count": null,
   "metadata": {
    "ExecuteTime": {
     "end_time": "2022-08-05T06:24:31.926629Z",
     "start_time": "2022-08-05T06:24:29.149686Z"
    }
   },
   "outputs": [],
   "source": []
  },
  {
   "cell_type": "code",
   "execution_count": null,
   "metadata": {},
   "outputs": [],
   "source": []
  },
  {
   "cell_type": "code",
   "execution_count": null,
   "metadata": {},
   "outputs": [],
   "source": []
  },
  {
   "cell_type": "code",
   "execution_count": null,
   "metadata": {
    "ExecuteTime": {
     "end_time": "2022-08-05T06:22:46.454421Z",
     "start_time": "2022-08-05T06:21:34.684348Z"
    }
   },
   "outputs": [],
   "source": [
    "labelname1=\"Jetdecomp\"\n",
    "labelname2=\"15GHz_ovro\"\n",
    "dataname1=lag_Jetdecomp_3c273\n",
    "dataname2=lag_15GHz_3c273_ovro\n",
    "\n",
    "sourcename_label='3C273'\n",
    "rangemin,rangemax=56800,58200\n",
    "lagrangel=200\n",
    "lagrangeh=1000\n",
    "\n",
    "run_ccf(rootdir_ccf,sourcename_label,labelname1,labelname2,dataname1,dataname2,rangemin,rangemax,lagrangel,lagrangeh)\n",
    "#plot_ccf(rootdir_ccf,sourcename,labelname1,labelname2,dataname1,dataname2,rangemin,rangemax,lagrangel,lagrangeh)a"
   ]
  },
  {
   "cell_type": "code",
   "execution_count": null,
   "metadata": {
    "ExecuteTime": {
     "end_time": "2022-08-05T06:22:49.174821Z",
     "start_time": "2022-08-05T06:22:46.457269Z"
    }
   },
   "outputs": [],
   "source": [
    "plot_ccf(rootdir_ccf,sourcename_label,labelname1,labelname2,dataname1,dataname2,rangemin,rangemax,lagrangel,lagrangeh)"
   ]
  },
  {
   "cell_type": "code",
   "execution_count": null,
   "metadata": {},
   "outputs": [],
   "source": []
  },
  {
   "cell_type": "code",
   "execution_count": null,
   "metadata": {},
   "outputs": [],
   "source": []
  },
  {
   "cell_type": "markdown",
   "metadata": {},
   "source": [
    "## PKS 1510"
   ]
  },
  {
   "cell_type": "code",
   "execution_count": null,
   "metadata": {
    "ExecuteTime": {
     "end_time": "2022-09-09T03:00:24.443376Z",
     "start_time": "2022-09-09T03:00:24.290347Z"
    }
   },
   "outputs": [],
   "source": [
    "!which python"
   ]
  },
  {
   "cell_type": "code",
   "execution_count": null,
   "metadata": {
    "ExecuteTime": {
     "end_time": "2022-09-16T03:04:17.180682Z",
     "start_time": "2022-09-16T03:04:17.169283Z"
    }
   },
   "outputs": [],
   "source": [
    "rootdir_ccf"
   ]
  },
  {
   "cell_type": "code",
   "execution_count": null,
   "metadata": {
    "ExecuteTime": {
     "end_time": "2022-09-16T03:04:25.574282Z",
     "start_time": "2022-09-16T03:04:25.289857Z"
    }
   },
   "outputs": [],
   "source": [
    "!open /Volumes/ExtremeSSD/00PKU_SCI/Fermi_AGN_optical_monitoring_program_at_Steward_Observatory//00CCF/"
   ]
  },
  {
   "cell_type": "code",
   "execution_count": null,
   "metadata": {
    "ExecuteTime": {
     "end_time": "2022-09-16T03:05:55.680522Z",
     "start_time": "2022-09-16T03:05:40.062785Z"
    }
   },
   "outputs": [],
   "source": [
    "labelname1=\"5100\"\n",
    "labelname2=\"Hbeta\"\n",
    "dataname1=lag_PKS1510_5100\n",
    "dataname2=lag_PKS1510_FHb\n",
    "\n",
    "sourcename_label='PKS1510'\n",
    "rangemin,rangemax=(54800-200,55500)\n",
    "lagrangel=0\n",
    "lagrangeh=180\n",
    "\n",
    "run_ccf(rootdir_ccf,sourcename_label,labelname1,labelname2,dataname1,dataname2,rangemin,rangemax,lagrangel,lagrangeh)\n",
    "plot_ccf(rootdir_ccf,sourcename_label,labelname1,labelname2,dataname1,dataname2,rangemin,rangemax,lagrangel,lagrangeh)"
   ]
  },
  {
   "cell_type": "code",
   "execution_count": null,
   "metadata": {
    "ExecuteTime": {
     "end_time": "2022-09-09T03:13:13.119041Z",
     "start_time": "2022-09-09T03:13:10.975140Z"
    }
   },
   "outputs": [],
   "source": [
    "plot_ccf(rootdir_ccf,sourcename_label,labelname1,labelname2,dataname1,dataname2,rangemin,rangemax,lagrangel,lagrangeh)"
   ]
  },
  {
   "cell_type": "code",
   "execution_count": null,
   "metadata": {},
   "outputs": [],
   "source": []
  },
  {
   "cell_type": "code",
   "execution_count": null,
   "metadata": {},
   "outputs": [],
   "source": []
  },
  {
   "cell_type": "code",
   "execution_count": null,
   "metadata": {},
   "outputs": [],
   "source": []
  },
  {
   "cell_type": "code",
   "execution_count": null,
   "metadata": {
    "ExecuteTime": {
     "end_time": "2022-09-16T03:06:17.762968Z",
     "start_time": "2022-09-16T03:06:03.604142Z"
    }
   },
   "outputs": [],
   "source": [
    "labelname1=\"5100D\"\n",
    "labelname2=\"HbetaD\"\n",
    "dataname1=lag_PKS1510_5100D\n",
    "dataname2=lag_PKS1510_FHbD\n",
    "\n",
    "sourcename_label='PKS1510'\n",
    "rangemin,rangemax=(54800-200,55500)\n",
    "lagrangel=0\n",
    "lagrangeh=180\n",
    "\n",
    "run_ccf(rootdir_ccf,sourcename_label,labelname1,labelname2,dataname1,dataname2,rangemin,rangemax,lagrangel,lagrangeh)\n",
    "plot_ccf(rootdir_ccf,sourcename_label,labelname1,labelname2,dataname1,dataname2,rangemin,rangemax,lagrangel,lagrangeh)"
   ]
  },
  {
   "cell_type": "code",
   "execution_count": null,
   "metadata": {
    "ExecuteTime": {
     "end_time": "2022-09-09T03:15:01.835181Z",
     "start_time": "2022-09-09T03:14:59.582436Z"
    }
   },
   "outputs": [],
   "source": [
    "plot_ccf(rootdir_ccf,sourcename_label,labelname1,labelname2,dataname1,dataname2,rangemin,rangemax,lagrangel,lagrangeh)"
   ]
  },
  {
   "cell_type": "code",
   "execution_count": null,
   "metadata": {},
   "outputs": [],
   "source": []
  },
  {
   "cell_type": "code",
   "execution_count": null,
   "metadata": {},
   "outputs": [],
   "source": []
  },
  {
   "cell_type": "code",
   "execution_count": null,
   "metadata": {
    "ExecuteTime": {
     "end_time": "2022-09-16T05:03:45.432651Z",
     "start_time": "2022-09-16T05:03:33.372483Z"
    }
   },
   "outputs": [],
   "source": [
    "labelname1=\"5100\"\n",
    "labelname2=\"15GHz\"\n",
    "dataname1=lag_PKS1510_5100\n",
    "dataname2=lag_PKS1510_15GHz_combine\n",
    "\n",
    "# lag_mojave15GHz_PKS1510,lag_PKS1510_ovro\n",
    "\n",
    "sourcename_label='PKS1510'\n",
    "rangemin,rangemax=(54800+1,55300-1) #(54800,55500)\n",
    "lagrangel=0\n",
    "lagrangeh=180\n",
    "\n",
    "run_ccf(rootdir_ccf,sourcename_label,labelname1,labelname2,dataname1,dataname2,rangemin,rangemax,lagrangel,lagrangeh)\n",
    "plot_ccf(rootdir_ccf,sourcename_label,labelname1,labelname2,dataname1,dataname2,rangemin,rangemax,lagrangel,lagrangeh)"
   ]
  },
  {
   "cell_type": "code",
   "execution_count": null,
   "metadata": {},
   "outputs": [],
   "source": []
  },
  {
   "cell_type": "code",
   "execution_count": null,
   "metadata": {},
   "outputs": [],
   "source": []
  },
  {
   "cell_type": "code",
   "execution_count": null,
   "metadata": {
    "ExecuteTime": {
     "end_time": "2022-09-09T03:17:43.891171Z",
     "start_time": "2022-09-09T03:17:41.772920Z"
    }
   },
   "outputs": [],
   "source": [
    "plot_ccf(rootdir_ccf,sourcename_label,labelname1,labelname2,dataname1,dataname2,rangemin,rangemax,lagrangel,lagrangeh)"
   ]
  },
  {
   "cell_type": "code",
   "execution_count": null,
   "metadata": {},
   "outputs": [],
   "source": []
  },
  {
   "cell_type": "code",
   "execution_count": null,
   "metadata": {},
   "outputs": [],
   "source": []
  },
  {
   "cell_type": "code",
   "execution_count": null,
   "metadata": {},
   "outputs": [],
   "source": []
  },
  {
   "cell_type": "code",
   "execution_count": null,
   "metadata": {},
   "outputs": [],
   "source": []
  },
  {
   "cell_type": "code",
   "execution_count": null,
   "metadata": {
    "ExecuteTime": {
     "end_time": "2022-09-16T03:11:30.004488Z",
     "start_time": "2022-09-16T03:11:12.572289Z"
    }
   },
   "outputs": [],
   "source": [
    "labelname1=\"FHbD\"\n",
    "labelname2=\"15GHz\"\n",
    "dataname1=lag_PKS1510_FHbD\n",
    "dataname2=lag_PKS1510_15GHz_combine\n",
    "\n",
    "# lag_mojave15GHz_PKS1510,lag_PKS1510_ovro\n",
    "\n",
    "sourcename_label='PKS1510'\n",
    "rangemin,rangemax=(54800,55500)\n",
    "lagrangel=-200\n",
    "lagrangeh=200\n",
    "\n",
    "run_ccf(rootdir_ccf,sourcename_label,labelname1,labelname2,dataname1,dataname2,rangemin,rangemax,lagrangel,lagrangeh)\n",
    "plot_ccf(rootdir_ccf,sourcename_label,labelname1,labelname2,dataname1,dataname2,rangemin,rangemax,lagrangel,lagrangeh)\n"
   ]
  },
  {
   "cell_type": "code",
   "execution_count": null,
   "metadata": {
    "ExecuteTime": {
     "end_time": "2022-09-16T03:13:50.420094Z",
     "start_time": "2022-09-16T03:13:32.824753Z"
    }
   },
   "outputs": [],
   "source": [
    "labelname2=\"FHbD\"\n",
    "labelname1=\"15GHz\"\n",
    "dataname2=lag_PKS1510_FHbD\n",
    "dataname1=lag_PKS1510_15GHz_combine\n",
    "\n",
    "# lag_mojave15GHz_PKS1510,lag_PKS1510_ovro\n",
    "\n",
    "sourcename_label='PKS1510'\n",
    "rangemin,rangemax=(54800,55500)\n",
    "lagrangel=-200\n",
    "lagrangeh=200\n",
    "\n",
    "run_ccf(rootdir_ccf,sourcename_label,labelname1,labelname2,dataname1,dataname2,rangemin,rangemax,lagrangel,lagrangeh)\n",
    "plot_ccf(rootdir_ccf,sourcename_label,labelname1,labelname2,dataname1,dataname2,rangemin,rangemax,lagrangel,lagrangeh)\n"
   ]
  },
  {
   "cell_type": "code",
   "execution_count": null,
   "metadata": {},
   "outputs": [],
   "source": []
  },
  {
   "cell_type": "code",
   "execution_count": null,
   "metadata": {},
   "outputs": [],
   "source": []
  },
  {
   "cell_type": "code",
   "execution_count": null,
   "metadata": {},
   "outputs": [],
   "source": []
  },
  {
   "cell_type": "code",
   "execution_count": null,
   "metadata": {
    "ExecuteTime": {
     "end_time": "2022-09-09T06:31:45.654763Z",
     "start_time": "2022-09-09T06:31:26.892590Z"
    }
   },
   "outputs": [],
   "source": [
    "labelname1=\"Nonthermal\"\n",
    "labelname2=\"Combine_15GHz\"\n",
    "dataname1=lag_PKS1510_L5100minusLp\n",
    "dataname2=lag_PKS1510_15GHz_combine\n",
    "\n",
    "# lag_mojave15GHz_PKS1510,lag_PKS1510_ovro\n",
    "\n",
    "sourcename_label='PKS1510'\n",
    "rangemin,rangemax=(54800-200,55500)\n",
    "lagrangel=-200\n",
    "lagrangeh=200\n",
    "\n",
    "run_ccf(rootdir_ccf,sourcename_label,labelname1,labelname2,dataname1,dataname2,rangemin,rangemax,lagrangel,lagrangeh)\n",
    "plot_ccf(rootdir_ccf,sourcename_label,labelname1,labelname2,dataname1,dataname2,rangemin,rangemax,lagrangel,lagrangeh)\n"
   ]
  },
  {
   "cell_type": "code",
   "execution_count": null,
   "metadata": {},
   "outputs": [],
   "source": []
  },
  {
   "cell_type": "code",
   "execution_count": null,
   "metadata": {},
   "outputs": [],
   "source": []
  },
  {
   "cell_type": "markdown",
   "metadata": {},
   "source": [
    "### Fermi-V lag"
   ]
  },
  {
   "cell_type": "code",
   "execution_count": null,
   "metadata": {
    "ExecuteTime": {
     "end_time": "2022-09-23T07:18:26.140954Z",
     "start_time": "2022-09-23T07:18:11.787216Z"
    }
   },
   "outputs": [],
   "source": [
    "labelname1=\"Fermi\"\n",
    "labelname2=\"V\"\n",
    "dataname1=lagdata_PKS1510_Fermi\n",
    "dataname2=lagdata_SMARTS_PKS1510V\n",
    "\n",
    "# lag_mojave15GHz_PKS1510,lag_PKS1510_ovro\n",
    "\n",
    "sourcename_label='PKS1510'\n",
    "rangemin,rangemax=(54900,55100)\n",
    "lagrangel=-50\n",
    "lagrangeh=50\n",
    "run_ccf(rootdir_ccf,sourcename_label,labelname1,labelname2,dataname1,dataname2,rangemin,rangemax,lagrangel,lagrangeh)\n",
    "plot_ccf(rootdir_ccf,sourcename_label,labelname1,labelname2,dataname1,dataname2,rangemin,rangemax,lagrangel,lagrangeh)\n"
   ]
  },
  {
   "cell_type": "code",
   "execution_count": null,
   "metadata": {},
   "outputs": [],
   "source": []
  },
  {
   "cell_type": "code",
   "execution_count": null,
   "metadata": {},
   "outputs": [],
   "source": [
    "labelname1=\"Fermi\"\n",
    "labelname2=\"CombineV\"\n",
    "dataname1=lagdata_PKS1510_Fermi\n",
    "dataname2=lagdata_PKS1510_combineV\n",
    "\n",
    "# lag_mojave15GHz_PKS1510,lag_PKS1510_ovro\n",
    "\n",
    "sourcename_label='PKS1510'\n",
    "rangemin,rangemax=(55500,56900)\n",
    "lagrangel=-100\n",
    "lagrangeh=100\n",
    "run_ccf(rootdir_ccf,sourcename_label,labelname1,labelname2,dataname1,dataname2,rangemin,rangemax,lagrangel,lagrangeh)\n",
    "plot_ccf(rootdir_ccf,sourcename_label,labelname1,labelname2,dataname1,dataname2,rangemin,rangemax,lagrangel,lagrangeh)\n"
   ]
  },
  {
   "cell_type": "code",
   "execution_count": null,
   "metadata": {},
   "outputs": [],
   "source": []
  },
  {
   "cell_type": "code",
   "execution_count": null,
   "metadata": {
    "ExecuteTime": {
     "end_time": "2022-09-30T06:53:14.685285Z",
     "start_time": "2022-09-30T06:52:58.601976Z"
    }
   },
   "outputs": [],
   "source": [
    "labelname1=\"Fermi\"\n",
    "labelname2=\"CombineV\"\n",
    "dataname1=lagdata_PKS1510_Fermi\n",
    "dataname2=lagdata_PKS1510_combineV\n",
    "\n",
    "# lag_mojave15GHz_PKS1510,lag_PKS1510_ovro\n",
    "\n",
    "sourcename_label='PKS1510'\n",
    "rangemin,rangemax=(55900,56100)\n",
    "lagrangel=-50\n",
    "lagrangeh=50\n",
    "run_ccf(rootdir_ccf,sourcename_label,labelname1,labelname2,dataname1,dataname2,rangemin,rangemax,lagrangel,lagrangeh)\n",
    "plot_ccf(rootdir_ccf,sourcename_label,labelname1,labelname2,dataname1,dataname2,rangemin,rangemax,lagrangel,lagrangeh)\n"
   ]
  },
  {
   "cell_type": "code",
   "execution_count": null,
   "metadata": {},
   "outputs": [],
   "source": []
  },
  {
   "cell_type": "code",
   "execution_count": null,
   "metadata": {},
   "outputs": [],
   "source": []
  },
  {
   "cell_type": "code",
   "execution_count": null,
   "metadata": {
    "ExecuteTime": {
     "end_time": "2022-09-23T08:42:17.517662Z",
     "start_time": "2022-09-23T08:42:01.248944Z"
    }
   },
   "outputs": [],
   "source": [
    "labelname1=\"Fermi\"\n",
    "labelname2=\"CombineV\"\n",
    "dataname1=lagdata_PKS1510_Fermi\n",
    "dataname2=lagdata_PKS1510_combineV\n",
    "\n",
    "# lag_mojave15GHz_PKS1510,lag_PKS1510_ovro\n",
    "\n",
    "sourcename_label='PKS1510'\n",
    "rangemin,rangemax=(57000,57230)\n",
    "lagrangel=-50\n",
    "lagrangeh=50\n",
    "run_ccf(rootdir_ccf,sourcename_label,labelname1,labelname2,dataname1,dataname2,rangemin,rangemax,lagrangel,lagrangeh)\n",
    "plot_ccf(rootdir_ccf,sourcename_label,labelname1,labelname2,dataname1,dataname2,rangemin,rangemax,lagrangel,lagrangeh)\n"
   ]
  },
  {
   "cell_type": "code",
   "execution_count": null,
   "metadata": {},
   "outputs": [],
   "source": []
  },
  {
   "cell_type": "markdown",
   "metadata": {},
   "source": [
    "# Javelin"
   ]
  },
  {
   "cell_type": "markdown",
   "metadata": {},
   "source": [
    "## def run_javelin"
   ]
  },
  {
   "cell_type": "code",
   "execution_count": null,
   "metadata": {},
   "outputs": [],
   "source": [
    "def run_javelin(rootdir_javelin,sourcename,labelname1,labelname2,dataname1,dataname2,rangemin,rangemax,lagrangel=-10,lagrangeh=30,widthl=0,widthh=200):\n",
    "    #command='python ccf_ngc1566_cpython.py %s %s %s %s %d %d %d %d'%(path_data1,path_data2,labelname1,labelname2,rangemin,rangemax,lagrangel,lagrangeh)\n",
    "    os.chdir(rootdir_javelin)\n",
    "    \n",
    "    source_path=os.path.join(rootdir_javelin,sourcename)\n",
    "    path_data1,path_data2=write_javelin_lagfile(rootdir_javelin,sourcename,labelname1,labelname2,dataname1,dataname2,rangemin,rangemax)\n",
    "    command='python javelin_spec.py %s %s %d %d %d %d %d %d %s'%(path_data1,path_data2,rangemin,rangemax,lagrangel,lagrangeh,widthl,widthh,source_path)\n",
    "    print(command)\n",
    "    os.system(command)  "
   ]
  },
  {
   "cell_type": "code",
   "execution_count": null,
   "metadata": {
    "ExecuteTime": {
     "end_time": "2022-07-18T12:29:59.820119Z",
     "start_time": "2022-07-18T12:29:59.814301Z"
    }
   },
   "outputs": [],
   "source": [
    "rootdir_javelin='%s/00Javelin/'%root_dir\n",
    "if not os.path.exists(rootdir_javelin):\n",
    "    os.mkdir(rootdir_javelin)\n",
    "    print(rootdir_javelin)\n",
    "    "
   ]
  },
  {
   "cell_type": "code",
   "execution_count": null,
   "metadata": {
    "ExecuteTime": {
     "end_time": "2022-07-18T12:30:00.229729Z",
     "start_time": "2022-07-18T12:30:00.223547Z"
    }
   },
   "outputs": [],
   "source": [
    "print(rootdir_javelin)"
   ]
  },
  {
   "cell_type": "markdown",
   "metadata": {},
   "source": [
    "# plot_lag_correlation"
   ]
  },
  {
   "cell_type": "code",
   "execution_count": null,
   "metadata": {
    "ExecuteTime": {
     "end_time": "2022-07-28T03:29:04.113120Z",
     "start_time": "2022-07-28T03:29:04.109504Z"
    }
   },
   "outputs": [],
   "source": [
    "plot_laged_lum=pd.DataFrame([])\n",
    "#plot_laged_lum.columns=['time1','Lum1','time2','flux2']"
   ]
  },
  {
   "cell_type": "code",
   "execution_count": null,
   "metadata": {
    "ExecuteTime": {
     "end_time": "2022-09-29T15:07:01.688060Z",
     "start_time": "2022-09-29T15:07:01.660282Z"
    }
   },
   "outputs": [],
   "source": [
    "laged_data_3C273.colnames"
   ]
  },
  {
   "cell_type": "code",
   "execution_count": null,
   "metadata": {
    "ExecuteTime": {
     "end_time": "2022-07-28T12:09:30.912373Z",
     "start_time": "2022-07-28T12:09:30.869876Z"
    }
   },
   "outputs": [],
   "source": [
    "laged_data_3C273=data_3C273.copy()\n",
    "laged_data_3C273['lag_JD1']=laged_data_3C273['JD1']-194.9\n",
    "\n",
    "time1=laged_data_3C273[laged_data_3C273.colnames[0]]\n",
    "Lum1=laged_data_3C273[laged_data_3C273.colnames[1]]\n",
    "time2=laged_data_3C273['lag_JD1']\n",
    "Lum2=laged_data_3C273[laged_data_3C273.colnames[3]]\n",
    "time1s,Lum1s,time2s,Lum2s=get_quasi_sim_lum_correlation(time1,Lum1,time2,Lum2,timebin=1)"
   ]
  },
  {
   "cell_type": "markdown",
   "metadata": {},
   "source": [
    "## plot_3C273"
   ]
  },
  {
   "cell_type": "code",
   "execution_count": null,
   "metadata": {
    "ExecuteTime": {
     "end_time": "2022-07-28T12:49:29.576746Z",
     "start_time": "2022-07-28T12:49:28.574720Z"
    }
   },
   "outputs": [],
   "source": [
    "fig, ax = plt.subplots(1, 1,figsize=(6,6))\n",
    "\n",
    "'''for i in range(len(Wu2004_LHbeta_L5100)):\n",
    "    flux_and_err=Wu2004_LHbeta_L5100.loc[i,Wu2004_LHbeta_L5100.columns[4]]\n",
    "    flux=flux_and_err.split('$\\pm$')[0]\n",
    "    err_flux=flux_and_err.split('$\\pm$')[1]   \n",
    "    \n",
    "    flux_and_err_Hbeta=Wu2004_LHbeta_L5100.loc[i,Wu2004_LHbeta_L5100.columns[5]]\n",
    "    flux_Hbeta=flux_and_err_Hbeta.split('$\\pm$')[0]\n",
    "    err_flux_Hbeta=flux_and_err_Hbeta.split('$\\pm$')[1]   \n",
    "    \n",
    "    ax.errorbar(x=np.log10(float(flux))+42,\n",
    "                #xerr=float(err_flux),\n",
    "                y=np.log10(float(flux_Hbeta))+42,\n",
    "                #yerr=float(err_flux_Hbeta),\n",
    "              ls=':',marker='.',markersize=10,color='grey',label='Wu2004')\n",
    "'''\n",
    "flux_label=data_3C273.colnames[1]\n",
    "e_flux_label=data_3C273.colnames[2]\n",
    "flux_label_1=data_3C273.colnames[3]\n",
    "e_flux_label_1=data_3C273.colnames[4]\n",
    "print(flux_label,e_flux_label)\n",
    "print(flux_label_1,e_flux_label_1)\n",
    "\n",
    "flux_scale_5100=4*np.pi*(D_cm_3C273.value)**2*1.0e-15\n",
    "flux_scale_Hbeta=4*np.pi*(D_cm_3C273.value)**2*1.0e-13\n",
    "\n",
    "\n",
    "for time1s_,Lum1s_,time2s_,Lum2s_ in zip(time1s,Lum1s,time2s,Lum2s):    \n",
    "    ax.errorbar(x=np.log10(Lum1s_*flux_scale_5100*5100),\n",
    "            #xerr=np.log10(data_3C273[e_flux_label]*flux_scale*5100),\n",
    "            y=np.log10(Lum2s_*flux_scale_Hbeta),\n",
    "            #yerr=np.log10(data_3C273[e_flux_label_1]*flux_scale*4861),\n",
    "            fmt='.',label='L5100 Vs (Hbeta-194.9d)',\n",
    "               color='grey')\n",
    "\n",
    "\n",
    "slope=1.02747111\n",
    "offset=3.04154998\n",
    "\n",
    "L5100_linspace=np.linspace(45.6,46)    \n",
    "Lhbeta= L5100_linspace*slope-offset\n",
    "ax.plot(L5100_linspace,Lhbeta,label='Wu2004 logLHbeta=logL5100*%.2f -%.2f'%(slope,offset))\n",
    "\n",
    "\n",
    "slope=0.947\n",
    "offset=0.45\n",
    "Lhbeta= L5100_linspace*slope-offset\n",
    "ax.plot(L5100_linspace,Lhbeta,label='Rakshit2020 logLHbeta=logL5100*%.2f -%.2f'%(slope,offset))\n",
    "\n",
    "    \n",
    "ax.set_xlabel(r'log$L_{5100\\AA} (\\mathrm{erg\\, s^{-1}})$')\n",
    "ax.set_ylabel(r'log$L_{H\\beta} (\\mathrm{erg\\, s^{-1}})$')\n",
    "\n",
    "\n",
    "#ax.semilogx()\n",
    "#ax.semilogy()\n",
    "ax.set_title('3C 273')\n",
    "ax.xaxis.set_tick_params(which='major', size=10, width=2, rotation=0,)\n",
    "handles, labels = ax.get_legend_handles_labels()\n",
    "# remove the errorbars\n",
    "#hdl = [h[0] for h in handles]\n",
    "hdl = handles\n",
    "labels_dict=dict(zip(labels, hdl)) #key,values\n",
    "by_label=OrderedDict(sorted(labels_dict.items(),key=lambda t:t[0]))\n",
    "#by_label = OrderedDict(zip(labels, handles))\n",
    "\n",
    "ax.legend(by_label.values(), by_label.keys(), bbox_to_anchor=(0.01, 0.99),\n",
    "          loc=2, numpoints=1,ncol=1,fontsize=11.)\n",
    "\n",
    "ax.set_xlim(45.5,46)\n",
    "ax.set_ylim(44.0-0.2,44.5-0.2)\n",
    "\n",
    "#plot_secax(ax,mi_interval=365,ma_interval=365*2,rotation=30)    \n",
    "set_ax_tick(ax)\n",
    "fig.tight_layout()\n",
    "plt.savefig('/Users/brettlv/Downloads/3C273_laged_Hbeta_L5100.png',dpi=400)\n"
   ]
  },
  {
   "cell_type": "markdown",
   "metadata": {},
   "source": [
    "## clip_fit_3C273"
   ]
  },
  {
   "cell_type": "code",
   "execution_count": null,
   "metadata": {
    "ExecuteTime": {
     "end_time": "2022-07-28T12:49:36.293872Z",
     "start_time": "2022-07-28T12:49:36.290203Z"
    }
   },
   "outputs": [],
   "source": [
    "xdatas=np.log10(np.array(Lum1s)*flux_scale_5100*5100)\n",
    "            #xerr=np.log10(data_3C273[e_flux_label]*flux_scale*5100),\n",
    "ydatas=np.log10(np.array(Lum2s)*flux_scale_Hbeta)"
   ]
  },
  {
   "cell_type": "code",
   "execution_count": null,
   "metadata": {
    "ExecuteTime": {
     "end_time": "2022-07-28T12:49:47.770408Z",
     "start_time": "2022-07-28T12:49:47.758665Z"
    }
   },
   "outputs": [],
   "source": [
    "spearmanr(xdatas,ydatas),pearsonr(xdatas,ydatas)"
   ]
  },
  {
   "cell_type": "code",
   "execution_count": null,
   "metadata": {
    "ExecuteTime": {
     "end_time": "2022-07-28T12:47:50.045511Z",
     "start_time": "2022-07-28T12:47:50.041118Z"
    }
   },
   "outputs": [],
   "source": [
    "len(xdatas),len(ydatas)"
   ]
  },
  {
   "cell_type": "code",
   "execution_count": null,
   "metadata": {
    "ExecuteTime": {
     "end_time": "2022-07-28T12:47:51.270978Z",
     "start_time": "2022-07-28T12:47:51.079789Z"
    }
   },
   "outputs": [],
   "source": [
    "fit = fitting.LinearLSQFitter()\n",
    "\n",
    "# initialize the outlier removal fitter\n",
    "or_fit = fitting.FittingWithOutlierRemoval(fit, sigma_clip, niter=3, sigma=3.0)\n",
    "\n",
    "# initialize a linear model\n",
    "line_init = models.Linear1D()\n",
    "\n",
    "# fit the data with the fitter\n",
    "fitted_line_3C273_lag, mask = or_fit(line_init, xdatas, ydatas, weights=1.0/np.ones(len(xdatas)))\n",
    "filtered_data = np.ma.masked_array(ydatas, mask=mask)\n",
    "\n",
    "# plot\n",
    "fig, ax = plt.subplots(1, 1,figsize=(6,6))\n",
    "plt.errorbar(xdatas, ydatas, yerr=0, fmt=\"ko\", fillstyle=\"none\", label=\"Clipped Data\")\n",
    "plt.errorbar(xdatas, filtered_data, fmt=\"ko\", label=\"Fitted Data\")\n",
    "#plt.plot(x, line_orig(x), 'b-', label='Simulation Model')\n",
    "plt.plot(xdatas, fitted_line_3C273_lag(xdatas), 'k-', label='Fitted Model')\n",
    "#plt.xlim(-2,12)\n",
    "#plt.ylim(-5,25)\n",
    "#plt.plot(xdatas, xdatas*1.02747111-3.04154998, 'r-', label='Fitted Model 1')\n",
    "\n",
    "\n",
    "plt.xlabel('x')\n",
    "plt.ylabel('y')\n",
    "plt.legend()\n",
    "plt.show()"
   ]
  },
  {
   "cell_type": "code",
   "execution_count": null,
   "metadata": {},
   "outputs": [],
   "source": []
  },
  {
   "cell_type": "code",
   "execution_count": null,
   "metadata": {
    "ExecuteTime": {
     "end_time": "2022-07-28T12:47:53.654639Z",
     "start_time": "2022-07-28T12:47:53.649588Z"
    }
   },
   "outputs": [],
   "source": [
    "fitted_line_3C273_lag"
   ]
  },
  {
   "cell_type": "code",
   "execution_count": null,
   "metadata": {
    "ExecuteTime": {
     "end_time": "2022-07-28T12:09:47.490446Z",
     "start_time": "2022-07-28T12:09:47.484412Z"
    }
   },
   "outputs": [],
   "source": [
    "laged_data_3C273.colnames"
   ]
  },
  {
   "cell_type": "code",
   "execution_count": null,
   "metadata": {
    "ExecuteTime": {
     "end_time": "2022-07-28T11:48:27.709091Z",
     "start_time": "2022-07-28T11:48:27.702890Z"
    }
   },
   "outputs": [],
   "source": [
    "time_label=data_3C273.colnames[0]\n",
    "flux_label=data_3C273.colnames[1]\n",
    "e_flux_label=data_3C273.colnames[2]\n",
    "flux_label_1=data_3C273.colnames[3]\n",
    "e_flux_label_1=data_3C273.colnames[4]\n",
    "print(time_label)\n",
    "print(flux_label,e_flux_label)\n",
    "print(flux_label_1,e_flux_label_1)"
   ]
  },
  {
   "cell_type": "code",
   "execution_count": null,
   "metadata": {},
   "outputs": [],
   "source": [
    "fig, ax = plt.subplots(1, 1,figsize=(6,6))\n",
    "\n",
    "'''for i in range(len(Wu2004_LHbeta_L5100)):\n",
    "    flux_and_err=Wu2004_LHbeta_L5100.loc[i,Wu2004_LHbeta_L5100.columns[4]]\n",
    "    flux=flux_and_err.split('$\\pm$')[0]\n",
    "    err_flux=flux_and_err.split('$\\pm$')[1]   \n",
    "    \n",
    "    flux_and_err_Hbeta=Wu2004_LHbeta_L5100.loc[i,Wu2004_LHbeta_L5100.columns[5]]\n",
    "    flux_Hbeta=flux_and_err_Hbeta.split('$\\pm$')[0]\n",
    "    err_flux_Hbeta=flux_and_err_Hbeta.split('$\\pm$')[1]   \n",
    "    \n",
    "    ax.errorbar(x=np.log10(float(flux))+42,\n",
    "                #xerr=float(err_flux),\n",
    "                y=np.log10(float(flux_Hbeta))+42,\n",
    "                #yerr=float(err_flux_Hbeta),\n",
    "              ls=':',marker='.',markersize=10,color='grey',label='Wu2004')\n",
    "'''\n",
    "flux_label=data_3C273.colnames[1]\n",
    "e_flux_label=data_3C273.colnames[2]\n",
    "flux_label_1=data_3C273.colnames[3]\n",
    "e_flux_label_1=data_3C273.colnames[4]\n",
    "print(flux_label,e_flux_label)\n",
    "print(flux_label_1,e_flux_label_1)\n",
    "\n",
    "flux_scale_5100=4*np.pi*(D_cm_3C273.value)**2*1.0e-15\n",
    "flux_scale_Hbeta=4*np.pi*(D_cm_3C273.value)**2*1.0e-13\n",
    "\n",
    "\n",
    "ax.errorbar(x=np.log10(data_3C273[flux_label]*flux_scale_5100*5100),\n",
    "            #xerr=np.log10(data_3C273[e_flux_label]*flux_scale*5100),\n",
    "            y=np.log10(data_3C273[flux_label_1]*flux_scale_Hbeta),\n",
    "            #yerr=np.log10(data_3C273[e_flux_label_1]*flux_scale*4861),\n",
    "            fmt='.',label='3C 273')\n",
    "\n",
    "\n",
    "\n",
    "slope=1.02747111\n",
    "offset=3.04154998\n",
    "\n",
    "L5100_linspace=np.linspace(45.6,46)    \n",
    "Lhbeta= L5100_linspace*slope-offset\n",
    "ax.plot(L5100_linspace,Lhbeta,label='Wu2004 logLHbeta=logL5100*%.2f -%.2f'%(slope,offset))\n",
    "\n",
    "\n",
    "slope=0.947\n",
    "offset=0.45\n",
    "Lhbeta= L5100_linspace*slope-offset\n",
    "ax.plot(L5100_linspace,Lhbeta,label='Rakshit2020 logLHbeta=logL5100*%.2f -%.2f'%(slope,offset))\n",
    "\n",
    "    \n",
    "ax.set_xlabel(r'log$L_{5100\\AA} (\\mathrm{erg\\, s^{-1}})$')\n",
    "ax.set_ylabel(r'log$L_{H\\beta} (\\mathrm{erg\\, s^{-1}})$')\n",
    "\n",
    "\n",
    "#ax.semilogx()\n",
    "#ax.semilogy()\n",
    "ax.set_title('3C 273')\n",
    "ax.xaxis.set_tick_params(which='major', size=10, width=2, rotation=0,)\n",
    "handles, labels = ax.get_legend_handles_labels()\n",
    "# remove the errorbars\n",
    "#hdl = [h[0] for h in handles]\n",
    "hdl = handles\n",
    "labels_dict=dict(zip(labels, hdl)) #key,values\n",
    "by_label=OrderedDict(sorted(labels_dict.items(),key=lambda t:t[0]))\n",
    "#by_label = OrderedDict(zip(labels, handles))\n",
    "\n",
    "ax.legend(by_label.values(), by_label.keys(), bbox_to_anchor=(0.01, 0.99),\n",
    "          loc=2, numpoints=1,ncol=1,fontsize=11.)\n",
    "\n",
    "ax.set_xlim(45.5,46)\n",
    "ax.set_ylim(44.0,44.2)\n",
    "\n",
    "#plot_secax(ax,mi_interval=365,ma_interval=365*2,rotation=30)    \n",
    "set_ax_tick(ax)\n",
    "fig.tight_layout()\n",
    "plt.savefig('/Users/brettlv/Downloads/3C273_Hbeta_L5100.png',dpi=400)\n"
   ]
  },
  {
   "cell_type": "markdown",
   "metadata": {},
   "source": [
    "## plot_PKS1510"
   ]
  },
  {
   "cell_type": "code",
   "execution_count": null,
   "metadata": {
    "ExecuteTime": {
     "end_time": "2022-07-28T13:56:36.584083Z",
     "start_time": "2022-07-28T13:56:36.573134Z"
    }
   },
   "outputs": [],
   "source": [
    "laged_data_PKS1510.colnames"
   ]
  },
  {
   "cell_type": "code",
   "execution_count": null,
   "metadata": {
    "ExecuteTime": {
     "end_time": "2022-07-28T13:57:02.376526Z",
     "start_time": "2022-07-28T13:57:02.371861Z"
    }
   },
   "outputs": [],
   "source": [
    "laged_data_PKS1510=data_PKS1510.copy()\n",
    "laged_data_PKS1510['lag_MJD']=laged_data_PKS1510['MJD']-61.1"
   ]
  },
  {
   "cell_type": "code",
   "execution_count": null,
   "metadata": {
    "ExecuteTime": {
     "end_time": "2022-07-28T13:57:49.379792Z",
     "start_time": "2022-07-28T13:57:49.376158Z"
    }
   },
   "outputs": [],
   "source": [
    "print(laged_data_PKS1510.colnames)"
   ]
  },
  {
   "cell_type": "code",
   "execution_count": null,
   "metadata": {
    "ExecuteTime": {
     "end_time": "2022-07-28T14:02:42.379867Z",
     "start_time": "2022-07-28T14:02:42.348102Z"
    }
   },
   "outputs": [],
   "source": [
    "time1=laged_data_PKS1510[laged_data_PKS1510.colnames[0]]\n",
    "Lum1=laged_data_PKS1510[laged_data_PKS1510.colnames[1]]\n",
    "time2=laged_data_PKS1510['lag_MJD']\n",
    "Lum2=laged_data_PKS1510[laged_data_PKS1510.colnames[3]]\n",
    "time1s,Lum1s,time2s,Lum2s=get_laged_lum_correlation(time1,Lum1,time2,Lum2,timebin=0.5)\n"
   ]
  },
  {
   "cell_type": "code",
   "execution_count": null,
   "metadata": {
    "ExecuteTime": {
     "end_time": "2022-07-28T14:02:42.869444Z",
     "start_time": "2022-07-28T14:02:42.864780Z"
    }
   },
   "outputs": [],
   "source": [
    "len(time1s),len(Lum1s),len(time2s),len(Lum2s),"
   ]
  },
  {
   "cell_type": "markdown",
   "metadata": {
    "ExecuteTime": {
     "end_time": "2022-07-28T13:58:32.423512Z",
     "start_time": "2022-07-28T13:58:32.409890Z"
    }
   },
   "source": [
    "time1s,Lum1s,time2s,Lum2s"
   ]
  },
  {
   "cell_type": "code",
   "execution_count": null,
   "metadata": {
    "ExecuteTime": {
     "end_time": "2022-07-28T14:03:17.938979Z",
     "start_time": "2022-07-28T14:03:16.558581Z"
    }
   },
   "outputs": [],
   "source": [
    "fig, ax = plt.subplots(1, 1,figsize=(6,6))\n",
    "\n",
    "for time1s_,Lum1s_,time2s_,Lum2s_ in zip(time1s,Lum1s,time2s,Lum2s):\n",
    "    ax.errorbar(x=np.log10(Lum1s_*flux_scale_5100_PKS1510*5100),\n",
    "                #xerr=np.log10(data_PKS1510[e_flux_label]*flux_scale*5100),\n",
    "                y=np.log10(Lum2s_*flux_scale_Hbeta_PKS1510),\n",
    "                #yerr=np.log10(data_PKS1510[e_flux_label_1]*flux_scale*4861),\n",
    "                fmt='.',label='L5100 Vs (Hbeta-61.1d)',\n",
    "                color='grey')\n",
    "\n",
    "\n",
    "slope=1.02747111\n",
    "offset=3.04154998\n",
    "\n",
    "L5100_linspace=np.linspace(45,46)\n",
    "Lhbeta= L5100_linspace*slope-offset\n",
    "ax.plot(L5100_linspace,Lhbeta,label='Wu2004 logLHbeta=logL5100*%.2f -%.2f'%(slope,offset))\n",
    "\n",
    "\n",
    "slope=0.947\n",
    "offset=0.45\n",
    "Lhbeta= L5100_linspace*slope-offset\n",
    "ax.plot(L5100_linspace,Lhbeta,label='Rakshit2020 logLHbeta=logL5100*%.2f -%.2f'%(slope,offset))\n",
    "\n",
    "\n",
    "ax.set_xlabel(r'log$L_{5100\\AA} (\\mathrm{erg\\, s^{-1}})$')\n",
    "ax.set_ylabel(r'log$L_{H\\beta} (\\mathrm{erg\\, s^{-1}})$')\n",
    "\n",
    "\n",
    "#ax.semilogx()\n",
    "#ax.semilogy()\n",
    "ax.set_title('PKS 1510')\n",
    "ax.xaxis.set_tick_params(which='major', size=10, width=2, rotation=0,)\n",
    "handles, labels = ax.get_legend_handles_labels()\n",
    "# remove the errorbars\n",
    "#hdl = [h[0] for h in handles]\n",
    "hdl = handles\n",
    "labels_dict=dict(zip(labels, hdl)) #key,values\n",
    "by_label=OrderedDict(sorted(labels_dict.items(),key=lambda t:t[0]))\n",
    "#by_label = OrderedDict(zip(labels, handles))\n",
    "\n",
    "ax.legend(by_label.values(), by_label.keys(), bbox_to_anchor=(0.01, 0.99),\n",
    "          loc=2, numpoints=1,ncol=1,fontsize=11.)\n",
    "\n",
    "ax.set_xlim(45.,46)\n",
    "ax.set_ylim(43.0-0.2,44.0-0.2)\n",
    "\n",
    "#plot_secax(ax,mi_interval=365,ma_interval=365*2,rotation=30)\n",
    "set_ax_tick(ax)\n",
    "fig.tight_layout()\n",
    "plt.savefig('/Users/brettlv/Downloads/PKS1510_laged_Hbeta_L5100.png',dpi=400)"
   ]
  },
  {
   "cell_type": "markdown",
   "metadata": {},
   "source": [
    "## clip_fit PKS1510"
   ]
  },
  {
   "cell_type": "code",
   "execution_count": null,
   "metadata": {
    "ExecuteTime": {
     "end_time": "2022-07-28T14:05:14.658397Z",
     "start_time": "2022-07-28T14:05:14.655052Z"
    }
   },
   "outputs": [],
   "source": [
    "xdatas=np.log10(np.array(Lum1s)*flux_scale_5100_PKS1510*5100)\n",
    "            #xerr=np.log10(data_3C273[e_flux_label]*flux_scale*5100),\n",
    "ydatas=np.log10(np.array(Lum2s)*flux_scale_Hbeta_PKS1510)"
   ]
  },
  {
   "cell_type": "code",
   "execution_count": null,
   "metadata": {
    "ExecuteTime": {
     "end_time": "2022-07-28T14:05:15.575124Z",
     "start_time": "2022-07-28T14:05:15.558135Z"
    }
   },
   "outputs": [],
   "source": [
    "spearmanr(xdatas,ydatas),pearsonr(xdatas,ydatas)"
   ]
  },
  {
   "cell_type": "code",
   "execution_count": null,
   "metadata": {
    "ExecuteTime": {
     "end_time": "2022-07-28T14:07:05.143719Z",
     "start_time": "2022-07-28T14:07:04.959903Z"
    }
   },
   "outputs": [],
   "source": [
    "fit = fitting.LinearLSQFitter()\n",
    "\n",
    "# initialize the outlier removal fitter\n",
    "or_fit = fitting.FittingWithOutlierRemoval(fit, sigma_clip, niter=3, sigma=2.5)\n",
    "\n",
    "# initialize a linear model\n",
    "line_init = models.Linear1D()\n",
    "\n",
    "# fit the data with the fitter\n",
    "fitted_line_PKS1510_lag, mask = or_fit(line_init, xdatas, ydatas, weights=1.0/np.ones(len(xdatas)))\n",
    "filtered_data = np.ma.masked_array(ydatas, mask=mask)\n",
    "\n",
    "# plot\n",
    "fig, ax = plt.subplots(1, 1,figsize=(6,6))\n",
    "plt.errorbar(xdatas, ydatas, yerr=0, fmt=\"ko\", fillstyle=\"none\", label=\"Clipped Data\")\n",
    "plt.errorbar(xdatas, filtered_data, fmt=\"ko\", label=\"Fitted Data\")\n",
    "#plt.plot(x, line_orig(x), 'b-', label='Simulation Model')\n",
    "plt.plot(xdatas, fitted_line_PKS1510_lag(xdatas), 'k-', label='Fitted Model')\n",
    "#plt.xlim(-2,12)\n",
    "#plt.ylim(-5,25)\n",
    "#plt.plot(xdatas, xdatas*1.02747111-3.04154998, 'r-', label='Fitted Model 1')\n",
    "\n",
    "\n",
    "plt.xlabel('x')\n",
    "plt.ylabel('y')\n",
    "plt.legend()\n",
    "plt.show()"
   ]
  },
  {
   "cell_type": "code",
   "execution_count": null,
   "metadata": {
    "ExecuteTime": {
     "end_time": "2022-07-28T14:07:05.909142Z",
     "start_time": "2022-07-28T14:07:05.903634Z"
    }
   },
   "outputs": [],
   "source": [
    "fitted_line_PKS1510_lag"
   ]
  },
  {
   "cell_type": "markdown",
   "metadata": {},
   "source": []
  },
  {
   "cell_type": "code",
   "execution_count": null,
   "metadata": {},
   "outputs": [],
   "source": []
  },
  {
   "cell_type": "markdown",
   "metadata": {},
   "source": [
    "# MICA2"
   ]
  },
  {
   "cell_type": "code",
   "execution_count": null,
   "metadata": {},
   "outputs": [],
   "source": [
    "def likelihood_probability(Con,Radio,Hbeta)"
   ]
  },
  {
   "cell_type": "code",
   "execution_count": null,
   "metadata": {},
   "outputs": [],
   "source": []
  },
  {
   "cell_type": "markdown",
   "metadata": {},
   "source": [
    "# PlotALl"
   ]
  },
  {
   "cell_type": "code",
   "execution_count": null,
   "metadata": {
    "ExecuteTime": {
     "end_time": "2022-10-21T07:31:33.192911Z",
     "start_time": "2022-10-21T07:31:33.090484Z"
    }
   },
   "outputs": [],
   "source": []
  },
  {
   "cell_type": "markdown",
   "metadata": {},
   "source": [
    "## NTD_Pol"
   ]
  },
  {
   "cell_type": "code",
   "execution_count": null,
   "metadata": {
    "ExecuteTime": {
     "end_time": "2022-10-21T08:19:52.417964Z",
     "start_time": "2022-10-21T08:19:52.228028Z"
    }
   },
   "outputs": [],
   "source": [
    "t1_PKS0736=Poldata_source_PKS0736_snr['mjd']\n",
    "y1_PKS0736=Poldata_source_PKS0736_snr['P (%)']\n",
    "t2_PKS0736= data_PKS0736['MJD']\n",
    "y2_PKS0736=data_PKS0736['NTD']\n",
    "t1s_PKS0736,y1s_PKS0736,t2s_PKS0736,y2s_PKS0736=get_quasi_sim_lum_correlation(t1_PKS0736,y1_PKS0736,t2_PKS0736,y2_PKS0736,timebin=1)\n",
    "\n",
    "t1_PKS1510=Poldata_source_PKS1510_snr['mjd']\n",
    "y1_PKS1510=Poldata_source_PKS1510_snr['P (%)']\n",
    "t2_PKS1510= data_PKS1510['MJD']\n",
    "y2_PKS1510=data_PKS1510['NTD']\n",
    "t1s_PKS1510,y1s_PKS1510,t2s_PKS1510,y2s_PKS1510=get_quasi_sim_lum_correlation(t1_PKS1510,y1_PKS1510,t2_PKS1510,y2_PKS1510,timebin=1)\n",
    "\n",
    "t1_3C273=Poldata_source_3C273_snr['mjd']\n",
    "y1_3C273=Poldata_source_3C273_snr['P (%)']\n",
    "t2_3C273= data_3C273['mjd']\n",
    "y2_3C273=data_3C273['NTD']\n",
    "t1s_3C273,y1s_3C273,t2s_3C273,y2s_3C273=get_quasi_sim_lum_correlation(t1_3C273,y1_3C273,t2_3C273,y2_3C273,timebin=1)\n",
    "\n",
    "print('3C273',spearmanr(y1s_3C273,y2s_3C273))\n",
    "print('PKS0736',spearmanr(y1s_PKS0736,y2s_PKS0736))\n",
    "print('PKS1510',spearmanr(y1s_PKS1510,y2s_PKS1510))\n",
    "\n",
    "\n",
    "\n",
    "fig, ax = plt.subplots(1, 1,figsize=(6,6))\n",
    "\n",
    "'''for i in range(len(Wu2004_LHbeta_L5100)):\n",
    "    flux_and_err=Wu2004_LHbeta_L5100.loc[i,Wu2004_LHbeta_L5100.columns[4]]\n",
    "    flux=flux_and_err.split('$\\pm$')[0]\n",
    "    err_flux=flux_and_err.split('$\\pm$')[1]\n",
    "    \n",
    "    flux_and_err_Hbeta=Wu2004_LHbeta_L5100.loc[i,Wu2004_LHbeta_L5100.columns[5]]\n",
    "    flux_Hbeta=flux_and_err_Hbeta.split('$\\pm$')[0]\n",
    "    err_flux_Hbeta=flux_and_err_Hbeta.split('$\\pm$')[1]\n",
    "    \n",
    "    ax.errorbar(x=np.log10(float(flux))+42,\n",
    "    #xerr=float(err_flux),\n",
    "    y=np.log10(float(flux_Hbeta))+42,\n",
    "    #yerr=float(err_flux_Hbeta),\n",
    "    ls=':',marker='.',markersize=10,color='grey',label='Wu2004')\n",
    "    '''\n",
    "\n",
    "ax.errorbar(x=y1s_PKS0736,\n",
    "            #xerr=np.log10(RMdata_PKS0736[e_flux_label]*flux_scale*5100),\n",
    "            y=y2s_PKS0736,\n",
    "            #yerr=np.log10(RMdata_PKS0736[e_flux_label_1]*flux_scale*4861),\n",
    "            fmt='.',label='PKS 0736+017')\n",
    "\n",
    "\n",
    "ax.errorbar(x=y1s_PKS1510,\n",
    "            #xerr=np.log10(RMdata_PKS0736[e_flux_label]*flux_scale*5100),\n",
    "            y=y2s_PKS1510,\n",
    "            #yerr=np.log10(RMdata_PKS0736[e_flux_label_1]*flux_scale*4861),\n",
    "            fmt='.',label='PKS 1510-089')\n",
    "\n",
    "ax.errorbar(x=y1s_3C273,\n",
    "            #xerr=np.log10(RMdata_PKS0736[e_flux_label]*flux_scale*5100),\n",
    "            y=y2s_3C273,\n",
    "            #yerr=np.log10(RMdata_PKS0736[e_flux_label_1]*flux_scale*4861),\n",
    "            fmt='.',label='3C 273')\n",
    "\n",
    "ax.set_xlabel(r'Pol(deg)')\n",
    "ax.set_ylabel(r'NTD')\n",
    "\n",
    "#ax.set_xlabel(r'log$L_{5100\\AA} (\\mathrm{erg\\, s^{-1}})$')\n",
    "#ax.set_ylabel(r'log$L_{H\\beta} (\\mathrm{erg\\, s^{-1}})$')\n",
    "\n",
    "\n",
    "#ax.semilogx()\n",
    "#ax.semilogy()\n",
    "\n",
    "#ax.set_title('PKS 0736+017')\n",
    "set_ax_legend(ax)\n",
    "\n",
    "#ax.set_xlim(44.0-0.1,45.8)\n",
    "#ax.set_ylim(42.0,42.85)\n",
    "\n",
    "#set_ax_locator(ax,0.5,0.1,0.2,0.1)\n",
    "\n",
    "#plot_secax(ax,mi_interval=365,ma_interval=365*2,rotation=30)\n",
    "set_ax_tick(ax)\n",
    "fig.tight_layout()\n",
    "#plt.savefig('/Users/lyubing/IHEPBox/JetRM_plot/PKS0736_Hbeta_L5100_range_%d_%d.png'%(range_l_mask_time_PKS0736,range_r_mask_time_PKS0736),dpi=400)\n"
   ]
  },
  {
   "cell_type": "markdown",
   "metadata": {},
   "source": [
    "## Lradio_NTD"
   ]
  },
  {
   "cell_type": "code",
   "execution_count": null,
   "metadata": {
    "ExecuteTime": {
     "end_time": "2022-10-21T08:20:22.351684Z",
     "start_time": "2022-10-21T08:20:21.735421Z"
    }
   },
   "outputs": [],
   "source": [
    "t1_PKS0736=table_OVRO_PKS0736_extract['mjd']\n",
    "y1_PKS0736=table_OVRO_PKS0736_extract['flux_15GHZ_ovro']\n",
    "t2_PKS0736= data_PKS0736['MJD']\n",
    "y2_PKS0736=data_PKS0736['NTD']\n",
    "t1s_PKS0736,y1s_PKS0736,t2s_PKS0736,y2s_PKS0736=get_quasi_sim_lum_correlation(t1_PKS0736,y1_PKS0736,t2_PKS0736,y2_PKS0736,timebin=1)\n",
    "\n",
    "t1_PKS1510=table_OVRO_PKS1510_extract['mjd']\n",
    "y1_PKS1510=table_OVRO_PKS1510_extract['flux_15GHZ_ovro']\n",
    "t2_PKS1510= data_PKS1510['MJD']\n",
    "y2_PKS1510=data_PKS1510['NTD']\n",
    "t1s_PKS1510,y1s_PKS1510,t2s_PKS1510,y2s_PKS1510=get_quasi_sim_lum_correlation(t1_PKS1510,y1_PKS1510,t2_PKS1510,y2_PKS1510,timebin=1)\n",
    "\n",
    "t1_3C273=ovro_40m_3C273['mjd']\n",
    "y1_3C273=ovro_40m_3C273['flux']\n",
    "t2_3C273= data_3C273['mjd']\n",
    "y2_3C273=data_3C273['NTD']\n",
    "t1s_3C273,y1s_3C273,t2s_3C273,y2s_3C273=get_quasi_sim_lum_correlation(t1_3C273,y1_3C273,t2_3C273,y2_3C273,timebin=1)\n",
    "\n",
    "print('3C273',spearmanr(y1s_3C273,y2s_3C273))\n",
    "print('PKS0736',spearmanr(y1s_PKS0736,y2s_PKS0736))\n",
    "print('PKS1510',spearmanr(y1s_PKS1510,y2s_PKS1510))\n",
    "\n",
    "\n",
    "fig, ax = plt.subplots(1, 1,figsize=(6,6))\n",
    "\n",
    "'''for i in range(len(Wu2004_LHbeta_L5100)):\n",
    "    flux_and_err=Wu2004_LHbeta_L5100.loc[i,Wu2004_LHbeta_L5100.columns[4]]\n",
    "    flux=flux_and_err.split('$\\pm$')[0]\n",
    "    err_flux=flux_and_err.split('$\\pm$')[1]\n",
    "    \n",
    "    flux_and_err_Hbeta=Wu2004_LHbeta_L5100.loc[i,Wu2004_LHbeta_L5100.columns[5]]\n",
    "    flux_Hbeta=flux_and_err_Hbeta.split('$\\pm$')[0]\n",
    "    err_flux_Hbeta=flux_and_err_Hbeta.split('$\\pm$')[1]\n",
    "    \n",
    "    ax.errorbar(x=np.log10(float(flux))+42,\n",
    "    #xerr=float(err_flux),\n",
    "    y=np.log10(float(flux_Hbeta))+42,\n",
    "    #yerr=float(err_flux_Hbeta),\n",
    "    ls=':',marker='.',markersize=10,color='grey',label='Wu2004')\n",
    "    '''\n",
    "\n",
    "ax.errorbar(x=y1s_PKS0736,#*4*np.pi*D_cm_PKS0736**2*1e-23*15*10**9,\n",
    "            #xerr=np.log10(RMdata_PKS0736[e_flux_label]*flux_scale*5100),\n",
    "            y=y2s_PKS0736,\n",
    "            #yerr=np.log10(RMdata_PKS0736[e_flux_label_1]*flux_scale*4861),\n",
    "            fmt='.',label='PKS 0736+017')\n",
    "\n",
    "\n",
    "ax.errorbar(x=y1s_PKS1510,#*4*np.pi*D_cm_PKS1510**2*1e-23*15*10**9,\n",
    "            #xerr=np.log10(RMdata_PKS0736[e_flux_label]*flux_scale*5100),\n",
    "            y=y2s_PKS1510,\n",
    "            #yerr=np.log10(RMdata_PKS0736[e_flux_label_1]*flux_scale*4861),\n",
    "            fmt='.',label='PKS 1510-089')\n",
    "\n",
    "ax.errorbar(x=y1s_3C273,#*4*np.pi*D_cm_3C273**2*1e-23*15*10**9,\n",
    "            #xerr=np.log10(RMdata_PKS0736[e_flux_label]*flux_scale*5100),\n",
    "            y=y2s_3C273,\n",
    "            #yerr=np.log10(RMdata_PKS0736[e_flux_label_1]*flux_scale*4861),\n",
    "            fmt='.',label='3C 273')\n",
    "\n",
    "ax.set_xlabel(r'$F_{15GHz}$')\n",
    "ax.set_ylabel(r'NTD')\n",
    "\n",
    "#ax.set_xlabel(r'log$L_{5100\\AA} (\\mathrm{erg\\, s^{-1}})$')\n",
    "#ax.set_ylabel(r'log$L_{H\\beta} (\\mathrm{erg\\, s^{-1}})$')\n",
    "\n",
    "\n",
    "#ax.semilogx()\n",
    "#ax.semilogy()\n",
    "\n",
    "#ax.set_title('PKS 0736+017')\n",
    "set_ax_legend(ax)\n",
    "\n",
    "#ax.set_xlim(44.0-0.1,45.8)\n",
    "#ax.set_ylim(42.0,42.85)\n",
    "\n",
    "#set_ax_locator(ax,0.5,0.1,0.2,0.1)\n",
    "\n",
    "#plot_secax(ax,mi_interval=365,ma_interval=365*2,rotation=30)\n",
    "set_ax_tick(ax)\n",
    "fig.tight_layout()\n",
    "#plt.savefig('/Users/lyubing/IHEPBox/JetRM_plot/PKS0736_Hbeta_L5100_range_%d_%d.png'%(range_l_mask_time_PKS0736,range_r_mask_time_PKS0736),dpi=400)\n"
   ]
  },
  {
   "cell_type": "code",
   "execution_count": null,
   "metadata": {},
   "outputs": [],
   "source": []
  },
  {
   "cell_type": "code",
   "execution_count": null,
   "metadata": {
    "ExecuteTime": {
     "end_time": "2022-10-21T08:22:16.762234Z",
     "start_time": "2022-10-21T08:22:16.489931Z"
    }
   },
   "outputs": [],
   "source": [
    "t1_PKS0736=table_OVRO_PKS0736_extract['mjd']\n",
    "y1_PKS0736=table_OVRO_PKS0736_extract['flux_15GHZ_ovro']\n",
    "t2_PKS0736= data_PKS0736['MJD']\n",
    "y2_PKS0736=data_PKS0736['NTD']\n",
    "t1s_PKS0736,y1s_PKS0736,t2s_PKS0736,y2s_PKS0736=get_quasi_sim_lum_correlation(t1_PKS0736,y1_PKS0736,t2_PKS0736,y2_PKS0736,timebin=1)\n",
    "\n",
    "t1_PKS1510=table_OVRO_PKS1510_extract['mjd']\n",
    "y1_PKS1510=table_OVRO_PKS1510_extract['flux_15GHZ_ovro']\n",
    "t2_PKS1510= data_PKS1510['MJD']\n",
    "y2_PKS1510=data_PKS1510['NTD']\n",
    "t1s_PKS1510,y1s_PKS1510,t2s_PKS1510,y2s_PKS1510=get_quasi_sim_lum_correlation(t1_PKS1510,y1_PKS1510,t2_PKS1510,y2_PKS1510,timebin=1)\n",
    "\n",
    "t1_3C273=ovro_40m_3C273['mjd']\n",
    "y1_3C273=ovro_40m_3C273['flux']\n",
    "t2_3C273= data_3C273['mjd']\n",
    "y2_3C273=data_3C273['NTD']\n",
    "t1s_3C273,y1s_3C273,t2s_3C273,y2s_3C273=get_quasi_sim_lum_correlation(t1_3C273,y1_3C273,t2_3C273,y2_3C273,timebin=1)\n",
    "\n",
    "print('3C273',spearmanr(y1s_3C273,y2s_3C273))\n",
    "print('PKS0736',spearmanr(y1s_PKS0736,y2s_PKS0736))\n",
    "print('PKS1510',spearmanr(y1s_PKS1510,y2s_PKS1510))\n",
    "\n",
    "\n",
    "fig, ax = plt.subplots(1, 1,figsize=(6,6))\n",
    "\n",
    "'''for i in range(len(Wu2004_LHbeta_L5100)):\n",
    "    flux_and_err=Wu2004_LHbeta_L5100.loc[i,Wu2004_LHbeta_L5100.columns[4]]\n",
    "    flux=flux_and_err.split('$\\pm$')[0]\n",
    "    err_flux=flux_and_err.split('$\\pm$')[1]\n",
    "    \n",
    "    flux_and_err_Hbeta=Wu2004_LHbeta_L5100.loc[i,Wu2004_LHbeta_L5100.columns[5]]\n",
    "    flux_Hbeta=flux_and_err_Hbeta.split('$\\pm$')[0]\n",
    "    err_flux_Hbeta=flux_and_err_Hbeta.split('$\\pm$')[1]\n",
    "    \n",
    "    ax.errorbar(x=np.log10(float(flux))+42,\n",
    "    #xerr=float(err_flux),\n",
    "    y=np.log10(float(flux_Hbeta))+42,\n",
    "    #yerr=float(err_flux_Hbeta),\n",
    "    ls=':',marker='.',markersize=10,color='grey',label='Wu2004')\n",
    "    '''\n",
    "\n",
    "ax.errorbar(x=y1s_3C273,#*4*np.pi*D_cm_3C273**2*1e-23*15*10**9,\n",
    "            #xerr=np.log10(RMdata_PKS0736[e_flux_label]*flux_scale*5100),\n",
    "            y=y2s_3C273,\n",
    "            #yerr=np.log10(RMdata_PKS0736[e_flux_label_1]*flux_scale*4861),\n",
    "            fmt='.',label='3C 273')\n",
    "\n",
    "ax.set_xlabel(r'$F_{15GHz}$')\n",
    "ax.set_ylabel(r'NTD')\n",
    "\n",
    "#ax.set_xlabel(r'log$L_{5100\\AA} (\\mathrm{erg\\, s^{-1}})$')\n",
    "#ax.set_ylabel(r'log$L_{H\\beta} (\\mathrm{erg\\, s^{-1}})$')\n",
    "\n",
    "\n",
    "#ax.semilogx()\n",
    "#ax.semilogy()\n",
    "\n",
    "#ax.set_title('PKS 0736+017')\n",
    "set_ax_legend(ax)\n",
    "\n",
    "#ax.set_xlim(44.0-0.1,45.8)\n",
    "#ax.set_ylim(42.0,42.85)\n",
    "\n",
    "#set_ax_locator(ax,0.5,0.1,0.2,0.1)\n",
    "\n",
    "#plot_secax(ax,mi_interval=365,ma_interval=365*2,rotation=30)\n",
    "set_ax_tick(ax)\n",
    "fig.tight_layout()\n",
    "#plt.savefig('/Users/lyubing/IHEPBox/JetRM_plot/PKS0736_Hbeta_L5100_range_%d_%d.png'%(range_l_mask_time_PKS0736,range_r_mask_time_PKS0736),dpi=400)\n"
   ]
  },
  {
   "cell_type": "code",
   "execution_count": null,
   "metadata": {},
   "outputs": [],
   "source": []
  },
  {
   "cell_type": "code",
   "execution_count": null,
   "metadata": {},
   "outputs": [],
   "source": []
  },
  {
   "cell_type": "code",
   "execution_count": null,
   "metadata": {
    "ExecuteTime": {
     "end_time": "2022-10-14T07:26:18.308451Z",
     "start_time": "2022-10-14T07:26:18.298911Z"
    }
   },
   "outputs": [],
   "source": [
    "P_disk=[0.75,0.6,0.4]\n",
    "Pol_mean=[0.28,3.6,5.58]\n",
    "Lradio_mean=[]\n",
    "Name=['3C273','PKS1510','PKS0736']"
   ]
  },
  {
   "cell_type": "code",
   "execution_count": null,
   "metadata": {
    "ExecuteTime": {
     "end_time": "2022-10-14T07:27:56.849073Z",
     "start_time": "2022-10-14T07:27:56.772102Z"
    }
   },
   "outputs": [],
   "source": [
    "figure_n= 1\n",
    "\n",
    "fig = plt.figure(figsize=(4,figure_n*4))\n",
    "fig.subplots_adjust(hspace=0.0, wspace = 0.0)\n",
    "\n",
    "ax = fig.add_subplot(figure_n,1,1)\n",
    "ax.scatter(Pol_mean,P_disk)\n",
    "\n",
    "set_ax_tick(ax)\n",
    "ax.set_xlabel('Pol degree mean')\n",
    "ax.set_ylabel('Disk contribution')"
   ]
  },
  {
   "cell_type": "code",
   "execution_count": null,
   "metadata": {
    "ExecuteTime": {
     "end_time": "2022-10-14T15:02:13.266076Z",
     "start_time": "2022-10-14T15:02:13.170196Z"
    }
   },
   "outputs": [],
   "source": [
    "path='/Users/lyubing/Downloads/SDSS-DR12Q-BH.dat'\n",
    "with open(path,'r') as f:\n",
    "    lines=f.readlines()"
   ]
  },
  {
   "cell_type": "code",
   "execution_count": null,
   "metadata": {
    "ExecuteTime": {
     "end_time": "2022-10-14T15:02:13.865684Z",
     "start_time": "2022-10-14T15:02:13.738483Z"
    }
   },
   "outputs": [],
   "source": [
    "       "
   ]
  },
  {
   "cell_type": "code",
   "execution_count": null,
   "metadata": {
    "ExecuteTime": {
     "end_time": "2022-10-14T15:18:07.758750Z",
     "start_time": "2022-10-14T15:18:07.750571Z"
    }
   },
   "outputs": [],
   "source": [
    "lines[Format_start-2]"
   ]
  },
  {
   "cell_type": "code",
   "execution_count": null,
   "metadata": {
    "ExecuteTime": {
     "end_time": "2022-10-14T15:17:55.154819Z",
     "start_time": "2022-10-14T15:17:55.146663Z"
    }
   },
   "outputs": [],
   "source": [
    "lines[Format_start-2].find('Label')"
   ]
  },
  {
   "cell_type": "code",
   "execution_count": null,
   "metadata": {
    "ExecuteTime": {
     "end_time": "2022-10-14T15:18:13.403134Z",
     "start_time": "2022-10-14T15:18:13.393497Z"
    }
   },
   "outputs": [],
   "source": [
    "lines[Format_start-2].find('Explanations')"
   ]
  },
  {
   "cell_type": "code",
   "execution_count": null,
   "metadata": {
    "ExecuteTime": {
     "end_time": "2022-10-14T15:18:22.492231Z",
     "start_time": "2022-10-14T15:18:22.482760Z"
    }
   },
   "outputs": [],
   "source": [
    "lines[Format_start-2][22:33]"
   ]
  },
  {
   "cell_type": "code",
   "execution_count": null,
   "metadata": {
    "ExecuteTime": {
     "end_time": "2022-10-14T15:13:41.851883Z",
     "start_time": "2022-10-14T15:13:41.841361Z"
    }
   },
   "outputs": [],
   "source": [
    "lines[Format_start:Format_end]"
   ]
  },
  {
   "cell_type": "code",
   "execution_count": null,
   "metadata": {},
   "outputs": [],
   "source": []
  },
  {
   "cell_type": "code",
   "execution_count": null,
   "metadata": {
    "ExecuteTime": {
     "end_time": "2022-10-14T15:20:27.046174Z",
     "start_time": "2022-10-14T15:20:20.354064Z"
    }
   },
   "outputs": [],
   "source": [
    "\n",
    "\n",
    "    "
   ]
  },
  {
   "cell_type": "code",
   "execution_count": null,
   "metadata": {
    "ExecuteTime": {
     "end_time": "2022-10-14T15:24:19.536553Z",
     "start_time": "2022-10-14T15:24:19.515527Z"
    }
   },
   "outputs": [],
   "source": []
  },
  {
   "cell_type": "code",
   "execution_count": null,
   "metadata": {},
   "outputs": [],
   "source": []
  },
  {
   "cell_type": "code",
   "execution_count": null,
   "metadata": {},
   "outputs": [],
   "source": []
  },
  {
   "cell_type": "code",
   "execution_count": null,
   "metadata": {
    "ExecuteTime": {
     "end_time": "2022-10-14T15:27:05.303384Z",
     "start_time": "2022-10-14T15:27:05.285648Z"
    }
   },
   "outputs": [],
   "source": [
    "def read_dat_path(path):\n",
    "    path='/Users/lyubing/Downloads/SDSS-DR12Q-BH.dat'\n",
    "    with open(path,'r') as f:\n",
    "        lines=f.readlines()\n",
    "        \n",
    "    Format_start,Format_end=0,0\n",
    "    Format_line=0\n",
    "    for index,line in enumerate(lines):\n",
    "        if line.startswith('   Bytes Format')>0:\n",
    "            Format_start=index+2\n",
    "        if line.startswith('Note')>0:\n",
    "            Format_end=index-2\n",
    "        if line.startswith('--')>0:\n",
    "            Format_line=index\n",
    "              \n",
    "    print(Format_start,Format_end,Format_line)    \n",
    "\n",
    "    columns=[]\n",
    "    for i in lines[Format_start:Format_end+1]:\n",
    "        columns_i=i[lines[Format_start-2].find('Label'):lines[Format_start-2].find('Explanations')]\n",
    "        print(i[lines[Format_start-2].find('Label'):lines[Format_start-2].find('Explanations')])\n",
    "        columns.append(i[lines[Format_start-2].find('Label'):lines[Format_start-2].find('Explanations')])    \n",
    "    \n",
    "    newpath='%s_new.txt'%(path.split('.')[0])\n",
    "    with open(newpath,'w+') as f:\n",
    "        for i in lines[Format_line+1:]:\n",
    "            f.write(i)  \n",
    "            \n",
    "    table = Table.read(newpath,format='ascii')\n",
    "    pd_table=table.to_pandas()\n",
    "    pd_table.columns=columns   \n",
    "    return pd_table"
   ]
  },
  {
   "cell_type": "code",
   "execution_count": null,
   "metadata": {
    "ExecuteTime": {
     "end_time": "2022-10-14T15:27:41.139372Z",
     "start_time": "2022-10-14T15:27:34.358408Z"
    }
   },
   "outputs": [],
   "source": [
    "path='/Users/lyubing/Downloads/SDSS-DR12Q-BH.dat'\n",
    "pd_table=read_dat_path(path)"
   ]
  },
  {
   "cell_type": "code",
   "execution_count": null,
   "metadata": {
    "ExecuteTime": {
     "end_time": "2022-10-14T15:27:42.060206Z",
     "start_time": "2022-10-14T15:27:42.035092Z"
    }
   },
   "outputs": [],
   "source": [
    "pd_table"
   ]
  },
  {
   "cell_type": "code",
   "execution_count": null,
   "metadata": {},
   "outputs": [],
   "source": []
  }
 ],
 "metadata": {
  "kernelspec": {
   "display_name": "Python 3 (ipykernel)",
   "language": "python",
   "name": "python3"
  },
  "language_info": {
   "codemirror_mode": {
    "name": "ipython",
    "version": 3
   },
   "file_extension": ".py",
   "mimetype": "text/x-python",
   "name": "python",
   "nbconvert_exporter": "python",
   "pygments_lexer": "ipython3",
   "version": "3.9.12"
  },
  "latex_envs": {
   "LaTeX_envs_menu_present": true,
   "autoclose": false,
   "autocomplete": true,
   "bibliofile": "biblio.bib",
   "cite_by": "apalike",
   "current_citInitial": 1,
   "eqLabelWithNumbers": true,
   "eqNumInitial": 1,
   "hotkeys": {
    "equation": "Ctrl-E",
    "itemize": "Ctrl-I"
   },
   "labels_anchors": false,
   "latex_user_defs": false,
   "report_style_numbering": false,
   "user_envs_cfg": false
  },
  "toc": {
   "base_numbering": 1,
   "nav_menu": {},
   "number_sections": true,
   "sideBar": true,
   "skip_h1_title": false,
   "title_cell": "Table of Contents",
   "title_sidebar": "Contents",
   "toc_cell": false,
   "toc_position": {
    "height": "439.273px",
    "left": "0px",
    "right": "1043.03px",
    "top": "135.711px",
    "width": "232.938px"
   },
   "toc_section_display": "block",
   "toc_window_display": true
  }
 },
 "nbformat": 4,
 "nbformat_minor": 2
}
