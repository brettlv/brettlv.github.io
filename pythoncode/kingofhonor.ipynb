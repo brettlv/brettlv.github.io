{
 "cells": [
  {
   "cell_type": "code",
   "execution_count": null,
   "metadata": {
    "collapsed": true
   },
   "outputs": [],
   "source": [
    "import requests"
   ]
  },
  {
   "cell_type": "code",
   "execution_count": null,
   "metadata": {
    "collapsed": true
   },
   "outputs": [],
   "source": [
    "headers = {\n",
    "     \"user-agent\": '\"你自己的user-agent\"\n",
    " }\n",
    " url =“抓取网页的目标url”\n",
    " requestResult = requests.get(url, headers=headers)\n",
    "\n",
    " resultJson = json.loads(requestResult.text)\n",
    " print(type(resultJson))\n",
    " heros = []\n",
    "\n",
    " for li in resultJson:\n",
    "     hero = {}\n",
    "     hero['ename'] = li['ename']\n",
    "     hero['cname'] = li['cname']\n",
    "     hero['skin_name'] = li['skin_name']\n",
    "     hero['skin_name'] = str(hero['skin_name']).split('|')[::-1]\n",
    "\n",
    "     _ename = str(hero['ename'])\n",
    "\n",
    "     index = 1\n",
    "     smallImages = []\n",
    "     bigImages = []\n",
    "     # 获取某个英雄的所有皮肤和高清大图\n",
    "     for item in hero['skin_name']:\n",
    "         # url是分析得出，并且需要拼接好\n",
    "         singleSmallImage ='某个英雄的所有皮肤中的相对应的一个url‘\n",
    "         smallImages.append(singleSmallImage)\n",
    "         singleBigImage =‘某个英雄的高清皮肤中的相对应的一个url'\n",
    "         bigImages.append(singleBigImage)\n",
    "\n",
    "         hero['smallimages'] = smallImages\n",
    "         hero['bigimages'] = bigImages\n",
    "         index = index + 1\n",
    "     _imgurl = '这个是英雄默认皮肤的url'\n",
    "     hero['img'] = _imgurl\n",
    "     heros.append(hero)\n",
    "\n",
    "     heroTag = {'totalhero': heros}\n",
    "        \n",
    "        \n",
    "        "
   ]
  },
  {
   "cell_type": "code",
   "execution_count": null,
   "metadata": {
    "collapsed": true
   },
   "outputs": [],
   "source": [
    "with open('hero_json.json', 'w', encoding='utf-8') as fp:\n",
    "    json.dump(data, fp, ensure_ascii=False)\n",
    "    return 'ok'"
   ]
  }
 ],
 "metadata": {
  "kernelspec": {
   "display_name": "Python 3",
   "language": "python",
   "name": "python3"
  },
  "language_info": {
   "codemirror_mode": {
    "name": "ipython",
    "version": 3
   },
   "file_extension": ".py",
   "mimetype": "text/x-python",
   "name": "python",
   "nbconvert_exporter": "python",
   "pygments_lexer": "ipython3",
   "version": "3.6.0"
  },
  "latex_envs": {
   "LaTeX_envs_menu_present": true,
   "autocomplete": true,
   "bibliofile": "biblio.bib",
   "cite_by": "apalike",
   "current_citInitial": 1,
   "eqLabelWithNumbers": true,
   "eqNumInitial": 1,
   "hotkeys": {
    "equation": "Ctrl-E",
    "itemize": "Ctrl-I"
   },
   "labels_anchors": false,
   "latex_user_defs": false,
   "report_style_numbering": false,
   "user_envs_cfg": false
  },
  "toc": {
   "nav_menu": {},
   "number_sections": true,
   "sideBar": true,
   "skip_h1_title": false,
   "toc_cell": false,
   "toc_position": {},
   "toc_section_display": "block",
   "toc_window_display": false
  }
 },
 "nbformat": 4,
 "nbformat_minor": 2
}
