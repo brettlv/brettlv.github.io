{
 "cells": [
  {
   "cell_type": "code",
   "execution_count": 114,
   "metadata": {
    "ExecuteTime": {
     "end_time": "2020-06-22T12:34:53.898007Z",
     "start_time": "2020-06-22T12:34:53.129201Z"
    },
    "collapsed": true
   },
   "outputs": [],
   "source": [
    "from astropy.io import fits\n",
    "import time\n",
    "#import urllib2# python2\n",
    "import urllib#python3\n",
    "\n",
    "import datetime\n",
    "#from itertools import ifilter python2\n",
    "from collections import Counter, defaultdict\n",
    "import xml.etree.ElementTree as ET\n",
    "import h5py\n",
    "from bs4 import BeautifulSoup\n",
    "import matplotlib.pylab as plt\n",
    "import pandas as pd\n",
    "import numpy as np\n",
    "import bibtexparser\n",
    "\n",
    "pd.set_option('mode.chained_assignment','warn')"
   ]
  },
  {
   "cell_type": "code",
   "execution_count": 115,
   "metadata": {
    "ExecuteTime": {
     "end_time": "2020-06-22T12:34:56.076306Z",
     "start_time": "2020-06-22T12:34:56.060365Z"
    },
    "collapsed": true
   },
   "outputs": [],
   "source": [
    "%matplotlib inline\n",
    "%config InlineBackend.figure_format = \"retina\"\n",
    "from matplotlib import rcParams\n",
    "#rcParams[\"savefig.dpi\"] = 300"
   ]
  },
  {
   "cell_type": "markdown",
   "metadata": {},
   "source": [
    "# imX,stX,gleamX,bssX,superX,"
   ]
  },
  {
   "cell_type": "markdown",
   "metadata": {},
   "source": [
    "# gleam data"
   ]
  },
  {
   "cell_type": "code",
   "execution_count": 4,
   "metadata": {
    "ExecuteTime": {
     "end_time": "2020-05-25T10:57:07.908858Z",
     "start_time": "2020-05-25T10:57:07.902241Z"
    },
    "collapsed": false
   },
   "outputs": [],
   "source": [
    "gleam=fits.open('/Users/brettlv/Downloads/mwa_paper/GLEAM_EGC_v2.fits')"
   ]
  },
  {
   "cell_type": "markdown",
   "metadata": {
    "ExecuteTime": {
     "end_time": "2020-04-24T16:15:32.683156Z",
     "start_time": "2020-04-24T16:15:32.364516Z"
    }
   },
   "source": [
    "gleam.info()"
   ]
  },
  {
   "cell_type": "markdown",
   "metadata": {
    "ExecuteTime": {
     "end_time": "2020-04-24T16:19:30.192913Z",
     "start_time": "2020-04-24T16:19:30.179480Z"
    }
   },
   "source": [
    "gleam[0].header"
   ]
  },
  {
   "cell_type": "markdown",
   "metadata": {
    "ExecuteTime": {
     "end_time": "2020-04-24T16:20:02.618391Z",
     "start_time": "2020-04-24T16:20:02.484218Z"
    }
   },
   "source": [
    "gleam[1].header"
   ]
  },
  {
   "cell_type": "code",
   "execution_count": 7,
   "metadata": {
    "ExecuteTime": {
     "end_time": "2020-04-24T16:16:41.723664Z",
     "start_time": "2020-04-24T16:16:41.313087Z"
    },
    "collapsed": false
   },
   "outputs": [
    {
     "data": {
      "text/plain": [
       "ColDefs(\n",
       "    name = 'Name'; format = '20A'\n",
       "    name = 'background_wide'; format = 'E'; unit = 'Jy/beam'\n",
       "    name = 'local_rms_wide'; format = 'E'; unit = 'Jy/beam'\n",
       "    name = 'ra_str'; format = '11A'; unit = 'h:m:s'\n",
       "    name = 'dec_str'; format = '12A'; unit = 'd:m:s'\n",
       "    name = 'RAJ2000'; format = 'E'; unit = 'deg'\n",
       "    name = 'err_RAJ2000'; format = 'D'; unit = 'deg'\n",
       "    name = 'DEJ2000'; format = 'E'; unit = 'deg'\n",
       "    name = 'err_DEJ2000'; format = 'D'; unit = 'deg'\n",
       "    name = 'peak_flux_wide'; format = 'E'; unit = 'Jy/beam'\n",
       "    name = 'err_peak_flux_wide'; format = 'E'; unit = 'Jy/beam'\n",
       "    name = 'int_flux_wide'; format = 'E'; unit = 'Jy'\n",
       "    name = 'err_int_flux_wide'; format = 'E'; unit = 'Jy'\n",
       "    name = 'a_wide'; format = 'E'; unit = 'arcsec'\n",
       "    name = 'err_a_wide'; format = 'E'; unit = 'arcsec'\n",
       "    name = 'b_wide'; format = 'E'; unit = 'arcsec'\n",
       "    name = 'err_b_wide'; format = 'E'; unit = 'arcsec'\n",
       "    name = 'pa_wide'; format = 'E'; unit = 'deg'\n",
       "    name = 'err_pa_wide'; format = 'E'; unit = 'deg'\n",
       "    name = 'residual_mean_wide'; format = 'E'; unit = 'Jy/beam'\n",
       "    name = 'residual_std_wide'; format = 'E'; unit = 'Jy/beam'\n",
       "    name = 'err_abs_flux_pct'; format = 'E'; unit = '%'\n",
       "    name = 'err_fit_flux_pct'; format = 'E'; unit = '%'\n",
       "    name = 'psf_a_wide'; format = 'E'; unit = 'arcsec'\n",
       "    name = 'psf_b_wide'; format = 'E'; unit = 'arcsec'\n",
       "    name = 'psf_pa_wide'; format = 'E'; unit = 'deg'\n",
       "    name = 'background_076'; format = 'E'; unit = 'Jy/beam'\n",
       "    name = 'local_rms_076'; format = 'E'; unit = 'Jy/beam'\n",
       "    name = 'peak_flux_076'; format = 'E'; unit = 'Jy/beam'\n",
       "    name = 'err_peak_flux_076'; format = 'E'; unit = 'Jy/beam'\n",
       "    name = 'int_flux_076'; format = 'E'; unit = 'Jy'\n",
       "    name = 'err_int_flux_076'; format = 'E'; unit = 'Jy'\n",
       "    name = 'a_076'; format = 'E'; unit = 'arcsec'\n",
       "    name = 'b_076'; format = 'E'; unit = 'arcsec'\n",
       "    name = 'pa_076'; format = 'E'; unit = 'degree'\n",
       "    name = 'residual_mean_076'; format = 'E'; unit = 'Jy/beam'\n",
       "    name = 'residual_std_076'; format = 'E'; unit = 'Jy/beam'\n",
       "    name = 'psf_a_076'; format = 'E'; unit = 'arcsec'\n",
       "    name = 'psf_b_076'; format = 'E'; unit = 'arcsec'\n",
       "    name = 'psf_pa_076'; format = 'E'; unit = 'deg'\n",
       "    name = 'background_084'; format = 'E'; unit = 'Jy/beam'\n",
       "    name = 'local_rms_084'; format = 'E'; unit = 'Jy/beam'\n",
       "    name = 'peak_flux_084'; format = 'E'; unit = 'Jy/beam'\n",
       "    name = 'err_peak_flux_084'; format = 'E'; unit = 'Jy/beam'\n",
       "    name = 'int_flux_084'; format = 'E'; unit = 'Jy'\n",
       "    name = 'err_int_flux_084'; format = 'E'; unit = 'Jy'\n",
       "    name = 'a_084'; format = 'E'; unit = 'arcsec'\n",
       "    name = 'b_084'; format = 'E'; unit = 'arcsec'\n",
       "    name = 'pa_084'; format = 'E'; unit = 'degree'\n",
       "    name = 'residual_mean_084'; format = 'E'; unit = 'Jy/beam'\n",
       "    name = 'residual_std_084'; format = 'E'; unit = 'Jy/beam'\n",
       "    name = 'psf_a_084'; format = 'E'; unit = 'arcsec'\n",
       "    name = 'psf_b_084'; format = 'E'; unit = 'arcsec'\n",
       "    name = 'psf_pa_084'; format = 'E'; unit = 'deg'\n",
       "    name = 'background_092'; format = 'E'; unit = 'Jy/beam'\n",
       "    name = 'local_rms_092'; format = 'E'; unit = 'Jy/beam'\n",
       "    name = 'peak_flux_092'; format = 'E'; unit = 'Jy/beam'\n",
       "    name = 'err_peak_flux_092'; format = 'E'; unit = 'Jy/beam'\n",
       "    name = 'int_flux_092'; format = 'E'; unit = 'Jy'\n",
       "    name = 'err_int_flux_092'; format = 'E'; unit = 'Jy'\n",
       "    name = 'a_092'; format = 'E'; unit = 'arcsec'\n",
       "    name = 'b_092'; format = 'E'; unit = 'arcsec'\n",
       "    name = 'pa_092'; format = 'E'; unit = 'degree'\n",
       "    name = 'residual_mean_092'; format = 'E'; unit = 'Jy/beam'\n",
       "    name = 'residual_std_092'; format = 'E'; unit = 'Jy/beam'\n",
       "    name = 'psf_a_092'; format = 'E'; unit = 'arcsec'\n",
       "    name = 'psf_b_092'; format = 'E'; unit = 'arcsec'\n",
       "    name = 'psf_pa_092'; format = 'E'; unit = 'deg'\n",
       "    name = 'background_099'; format = 'E'; unit = 'Jy/beam'\n",
       "    name = 'local_rms_099'; format = 'E'; unit = 'Jy/beam'\n",
       "    name = 'peak_flux_099'; format = 'E'; unit = 'Jy/beam'\n",
       "    name = 'err_peak_flux_099'; format = 'E'; unit = 'Jy/beam'\n",
       "    name = 'int_flux_099'; format = 'E'; unit = 'Jy'\n",
       "    name = 'err_int_flux_099'; format = 'E'; unit = 'Jy'\n",
       "    name = 'a_099'; format = 'E'; unit = 'arcsec'\n",
       "    name = 'b_099'; format = 'E'; unit = 'arcsec'\n",
       "    name = 'pa_099'; format = 'E'; unit = 'degree'\n",
       "    name = 'residual_mean_099'; format = 'E'; unit = 'Jy/beam'\n",
       "    name = 'residual_std_099'; format = 'E'; unit = 'Jy/beam'\n",
       "    name = 'psf_a_099'; format = 'E'; unit = 'arcsec'\n",
       "    name = 'psf_b_099'; format = 'E'; unit = 'arcsec'\n",
       "    name = 'psf_pa_099'; format = 'E'; unit = 'deg'\n",
       "    name = 'background_107'; format = 'E'; unit = 'Jy/beam'\n",
       "    name = 'local_rms_107'; format = 'E'; unit = 'Jy/beam'\n",
       "    name = 'peak_flux_107'; format = 'E'; unit = 'Jy/beam'\n",
       "    name = 'err_peak_flux_107'; format = 'E'; unit = 'Jy/beam'\n",
       "    name = 'int_flux_107'; format = 'E'; unit = 'Jy'\n",
       "    name = 'err_int_flux_107'; format = 'E'; unit = 'Jy'\n",
       "    name = 'a_107'; format = 'E'; unit = 'arcsec'\n",
       "    name = 'b_107'; format = 'E'; unit = 'arcsec'\n",
       "    name = 'pa_107'; format = 'E'; unit = 'degree'\n",
       "    name = 'residual_mean_107'; format = 'E'; unit = 'Jy/beam'\n",
       "    name = 'residual_std_107'; format = 'E'; unit = 'Jy/beam'\n",
       "    name = 'psf_a_107'; format = 'E'; unit = 'arcsec'\n",
       "    name = 'psf_b_107'; format = 'E'; unit = 'arcsec'\n",
       "    name = 'psf_pa_107'; format = 'E'; unit = 'deg'\n",
       "    name = 'background_115'; format = 'E'; unit = 'Jy/beam'\n",
       "    name = 'local_rms_115'; format = 'E'; unit = 'Jy/beam'\n",
       "    name = 'peak_flux_115'; format = 'E'; unit = 'Jy/beam'\n",
       "    name = 'err_peak_flux_115'; format = 'E'; unit = 'Jy/beam'\n",
       "    name = 'int_flux_115'; format = 'E'; unit = 'Jy'\n",
       "    name = 'err_int_flux_115'; format = 'E'; unit = 'Jy'\n",
       "    name = 'a_115'; format = 'E'; unit = 'arcsec'\n",
       "    name = 'b_115'; format = 'E'; unit = 'arcsec'\n",
       "    name = 'pa_115'; format = 'E'; unit = 'degree'\n",
       "    name = 'residual_mean_115'; format = 'E'; unit = 'Jy/beam'\n",
       "    name = 'residual_std_115'; format = 'E'; unit = 'Jy/beam'\n",
       "    name = 'psf_a_115'; format = 'E'; unit = 'arcsec'\n",
       "    name = 'psf_b_115'; format = 'E'; unit = 'arcsec'\n",
       "    name = 'psf_pa_115'; format = 'E'; unit = 'deg'\n",
       "    name = 'background_122'; format = 'E'; unit = 'Jy/beam'\n",
       "    name = 'local_rms_122'; format = 'E'; unit = 'Jy/beam'\n",
       "    name = 'peak_flux_122'; format = 'E'; unit = 'Jy/beam'\n",
       "    name = 'err_peak_flux_122'; format = 'E'; unit = 'Jy/beam'\n",
       "    name = 'int_flux_122'; format = 'E'; unit = 'Jy'\n",
       "    name = 'err_int_flux_122'; format = 'E'; unit = 'Jy'\n",
       "    name = 'a_122'; format = 'E'; unit = 'arcsec'\n",
       "    name = 'b_122'; format = 'E'; unit = 'arcsec'\n",
       "    name = 'pa_122'; format = 'E'; unit = 'degree'\n",
       "    name = 'residual_mean_122'; format = 'E'; unit = 'Jy/beam'\n",
       "    name = 'residual_std_122'; format = 'E'; unit = 'Jy/beam'\n",
       "    name = 'psf_a_122'; format = 'E'; unit = 'arcsec'\n",
       "    name = 'psf_b_122'; format = 'E'; unit = 'arcsec'\n",
       "    name = 'psf_pa_122'; format = 'E'; unit = 'deg'\n",
       "    name = 'background_130'; format = 'E'; unit = 'Jy/beam'\n",
       "    name = 'local_rms_130'; format = 'E'; unit = 'Jy/beam'\n",
       "    name = 'peak_flux_130'; format = 'E'; unit = 'Jy/beam'\n",
       "    name = 'err_peak_flux_130'; format = 'E'; unit = 'Jy/beam'\n",
       "    name = 'int_flux_130'; format = 'E'; unit = 'Jy'\n",
       "    name = 'err_int_flux_130'; format = 'E'; unit = 'Jy'\n",
       "    name = 'a_130'; format = 'E'; unit = 'arcsec'\n",
       "    name = 'b_130'; format = 'E'; unit = 'arcsec'\n",
       "    name = 'pa_130'; format = 'E'; unit = 'degree'\n",
       "    name = 'residual_mean_130'; format = 'E'; unit = 'Jy/beam'\n",
       "    name = 'residual_std_130'; format = 'E'; unit = 'Jy/beam'\n",
       "    name = 'psf_a_130'; format = 'E'; unit = 'arcsec'\n",
       "    name = 'psf_b_130'; format = 'E'; unit = 'arcsec'\n",
       "    name = 'psf_pa_130'; format = 'E'; unit = 'deg'\n",
       "    name = 'background_143'; format = 'E'; unit = 'Jy/beam'\n",
       "    name = 'local_rms_143'; format = 'E'; unit = 'Jy/beam'\n",
       "    name = 'peak_flux_143'; format = 'E'; unit = 'Jy/beam'\n",
       "    name = 'err_peak_flux_143'; format = 'E'; unit = 'Jy/beam'\n",
       "    name = 'int_flux_143'; format = 'E'; unit = 'Jy'\n",
       "    name = 'err_int_flux_143'; format = 'E'; unit = 'Jy'\n",
       "    name = 'a_143'; format = 'E'; unit = 'arcsec'\n",
       "    name = 'b_143'; format = 'E'; unit = 'arcsec'\n",
       "    name = 'pa_143'; format = 'E'; unit = 'degree'\n",
       "    name = 'residual_mean_143'; format = 'E'; unit = 'Jy/beam'\n",
       "    name = 'residual_std_143'; format = 'E'; unit = 'Jy/beam'\n",
       "    name = 'psf_a_143'; format = 'E'; unit = 'arcsec'\n",
       "    name = 'psf_b_143'; format = 'E'; unit = 'arcsec'\n",
       "    name = 'psf_pa_143'; format = 'E'; unit = 'deg'\n",
       "    name = 'background_151'; format = 'E'; unit = 'Jy/beam'\n",
       "    name = 'local_rms_151'; format = 'E'; unit = 'Jy/beam'\n",
       "    name = 'peak_flux_151'; format = 'E'; unit = 'Jy/beam'\n",
       "    name = 'err_peak_flux_151'; format = 'E'; unit = 'Jy/beam'\n",
       "    name = 'int_flux_151'; format = 'E'; unit = 'Jy'\n",
       "    name = 'err_int_flux_151'; format = 'E'; unit = 'Jy'\n",
       "    name = 'a_151'; format = 'E'; unit = 'arcsec'\n",
       "    name = 'b_151'; format = 'E'; unit = 'arcsec'\n",
       "    name = 'pa_151'; format = 'E'; unit = 'degree'\n",
       "    name = 'residual_mean_151'; format = 'E'; unit = 'Jy/beam'\n",
       "    name = 'residual_std_151'; format = 'E'; unit = 'Jy/beam'\n",
       "    name = 'psf_a_151'; format = 'E'; unit = 'arcsec'\n",
       "    name = 'psf_b_151'; format = 'E'; unit = 'arcsec'\n",
       "    name = 'psf_pa_151'; format = 'E'; unit = 'deg'\n",
       "    name = 'background_158'; format = 'E'; unit = 'Jy/beam'\n",
       "    name = 'local_rms_158'; format = 'E'; unit = 'Jy/beam'\n",
       "    name = 'peak_flux_158'; format = 'E'; unit = 'Jy/beam'\n",
       "    name = 'err_peak_flux_158'; format = 'E'; unit = 'Jy/beam'\n",
       "    name = 'int_flux_158'; format = 'E'; unit = 'Jy'\n",
       "    name = 'err_int_flux_158'; format = 'E'; unit = 'Jy'\n",
       "    name = 'a_158'; format = 'E'; unit = 'arcsec'\n",
       "    name = 'b_158'; format = 'E'; unit = 'arcsec'\n",
       "    name = 'pa_158'; format = 'E'; unit = 'degree'\n",
       "    name = 'residual_mean_158'; format = 'E'; unit = 'Jy/beam'\n",
       "    name = 'residual_std_158'; format = 'E'; unit = 'Jy/beam'\n",
       "    name = 'psf_a_158'; format = 'E'; unit = 'arcsec'\n",
       "    name = 'psf_b_158'; format = 'E'; unit = 'arcsec'\n",
       "    name = 'psf_pa_158'; format = 'E'; unit = 'deg'\n",
       "    name = 'background_166'; format = 'E'; unit = 'Jy/beam'\n",
       "    name = 'local_rms_166'; format = 'E'; unit = 'Jy/beam'\n",
       "    name = 'peak_flux_166'; format = 'E'; unit = 'Jy/beam'\n",
       "    name = 'err_peak_flux_166'; format = 'E'; unit = 'Jy/beam'\n",
       "    name = 'int_flux_166'; format = 'E'; unit = 'Jy'\n",
       "    name = 'err_int_flux_166'; format = 'E'; unit = 'Jy'\n",
       "    name = 'a_166'; format = 'E'; unit = 'arcsec'\n",
       "    name = 'b_166'; format = 'E'; unit = 'arcsec'\n",
       "    name = 'pa_166'; format = 'E'; unit = 'degree'\n",
       "    name = 'residual_mean_166'; format = 'E'; unit = 'Jy/beam'\n",
       "    name = 'residual_std_166'; format = 'E'; unit = 'Jy/beam'\n",
       "    name = 'psf_a_166'; format = 'E'; unit = 'arcsec'\n",
       "    name = 'psf_b_166'; format = 'E'; unit = 'arcsec'\n",
       "    name = 'psf_pa_166'; format = 'E'; unit = 'deg'\n",
       "    name = 'background_174'; format = 'E'; unit = 'Jy/beam'\n",
       "    name = 'local_rms_174'; format = 'E'; unit = 'Jy/beam'\n",
       "    name = 'peak_flux_174'; format = 'E'; unit = 'Jy/beam'\n",
       "    name = 'err_peak_flux_174'; format = 'E'; unit = 'Jy/beam'\n",
       "    name = 'int_flux_174'; format = 'E'; unit = 'Jy'\n",
       "    name = 'err_int_flux_174'; format = 'E'; unit = 'Jy'\n",
       "    name = 'a_174'; format = 'E'; unit = 'arcsec'\n",
       "    name = 'b_174'; format = 'E'; unit = 'arcsec'\n",
       "    name = 'pa_174'; format = 'E'; unit = 'degree'\n",
       "    name = 'residual_mean_174'; format = 'E'; unit = 'Jy/beam'\n",
       "    name = 'residual_std_174'; format = 'E'; unit = 'Jy/beam'\n",
       "    name = 'psf_a_174'; format = 'E'; unit = 'arcsec'\n",
       "    name = 'psf_b_174'; format = 'E'; unit = 'arcsec'\n",
       "    name = 'psf_pa_174'; format = 'E'; unit = 'deg'\n",
       "    name = 'background_181'; format = 'E'; unit = 'Jy/beam'\n",
       "    name = 'local_rms_181'; format = 'E'; unit = 'Jy/beam'\n",
       "    name = 'peak_flux_181'; format = 'E'; unit = 'Jy/beam'\n",
       "    name = 'err_peak_flux_181'; format = 'E'; unit = 'Jy/beam'\n",
       "    name = 'int_flux_181'; format = 'E'; unit = 'Jy'\n",
       "    name = 'err_int_flux_181'; format = 'E'; unit = 'Jy'\n",
       "    name = 'a_181'; format = 'E'; unit = 'arcsec'\n",
       "    name = 'b_181'; format = 'E'; unit = 'arcsec'\n",
       "    name = 'pa_181'; format = 'E'; unit = 'degree'\n",
       "    name = 'residual_mean_181'; format = 'E'; unit = 'Jy/beam'\n",
       "    name = 'residual_std_181'; format = 'E'; unit = 'Jy/beam'\n",
       "    name = 'psf_a_181'; format = 'E'; unit = 'arcsec'\n",
       "    name = 'psf_b_181'; format = 'E'; unit = 'arcsec'\n",
       "    name = 'psf_pa_181'; format = 'E'; unit = 'deg'\n",
       "    name = 'background_189'; format = 'E'; unit = 'Jy/beam'\n",
       "    name = 'local_rms_189'; format = 'E'; unit = 'Jy/beam'\n",
       "    name = 'peak_flux_189'; format = 'E'; unit = 'Jy/beam'\n",
       "    name = 'err_peak_flux_189'; format = 'E'; unit = 'Jy/beam'\n",
       "    name = 'int_flux_189'; format = 'E'; unit = 'Jy'\n",
       "    name = 'err_int_flux_189'; format = 'E'; unit = 'Jy'\n",
       "    name = 'a_189'; format = 'E'; unit = 'arcsec'\n",
       "    name = 'b_189'; format = 'E'; unit = 'arcsec'\n",
       "    name = 'pa_189'; format = 'E'; unit = 'degree'\n",
       "    name = 'residual_mean_189'; format = 'E'; unit = 'Jy/beam'\n",
       "    name = 'residual_std_189'; format = 'E'; unit = 'Jy/beam'\n",
       "    name = 'psf_a_189'; format = 'E'; unit = 'arcsec'\n",
       "    name = 'psf_b_189'; format = 'E'; unit = 'arcsec'\n",
       "    name = 'psf_pa_189'; format = 'E'; unit = 'deg'\n",
       "    name = 'background_197'; format = 'E'; unit = 'Jy/beam'\n",
       "    name = 'local_rms_197'; format = 'E'; unit = 'Jy/beam'\n",
       "    name = 'peak_flux_197'; format = 'E'; unit = 'Jy/beam'\n",
       "    name = 'err_peak_flux_197'; format = 'E'; unit = 'Jy/beam'\n",
       "    name = 'int_flux_197'; format = 'E'; unit = 'Jy'\n",
       "    name = 'err_int_flux_197'; format = 'E'; unit = 'Jy'\n",
       "    name = 'a_197'; format = 'E'; unit = 'arcsec'\n",
       "    name = 'b_197'; format = 'E'; unit = 'arcsec'\n",
       "    name = 'pa_197'; format = 'E'; unit = 'degree'\n",
       "    name = 'residual_mean_197'; format = 'E'; unit = 'Jy/beam'\n",
       "    name = 'residual_std_197'; format = 'E'; unit = 'Jy/beam'\n",
       "    name = 'psf_a_197'; format = 'E'; unit = 'arcsec'\n",
       "    name = 'psf_b_197'; format = 'E'; unit = 'arcsec'\n",
       "    name = 'psf_pa_197'; format = 'E'; unit = 'deg'\n",
       "    name = 'background_204'; format = 'E'; unit = 'Jy/beam'\n",
       "    name = 'local_rms_204'; format = 'E'; unit = 'Jy/beam'\n",
       "    name = 'peak_flux_204'; format = 'E'; unit = 'Jy/beam'\n",
       "    name = 'err_peak_flux_204'; format = 'E'; unit = 'Jy/beam'\n",
       "    name = 'int_flux_204'; format = 'E'; unit = 'Jy'\n",
       "    name = 'err_int_flux_204'; format = 'E'; unit = 'Jy'\n",
       "    name = 'a_204'; format = 'E'; unit = 'arcsec'\n",
       "    name = 'b_204'; format = 'E'; unit = 'arcsec'\n",
       "    name = 'pa_204'; format = 'E'; unit = 'degree'\n",
       "    name = 'residual_mean_204'; format = 'E'; unit = 'Jy/beam'\n",
       "    name = 'residual_std_204'; format = 'E'; unit = 'Jy/beam'\n",
       "    name = 'psf_a_204'; format = 'E'; unit = 'arcsec'\n",
       "    name = 'psf_b_204'; format = 'E'; unit = 'arcsec'\n",
       "    name = 'psf_pa_204'; format = 'E'; unit = 'deg'\n",
       "    name = 'background_212'; format = 'E'; unit = 'Jy/beam'\n",
       "    name = 'local_rms_212'; format = 'E'; unit = 'Jy/beam'\n",
       "    name = 'peak_flux_212'; format = 'E'; unit = 'Jy/beam'\n",
       "    name = 'err_peak_flux_212'; format = 'E'; unit = 'Jy/beam'\n",
       "    name = 'int_flux_212'; format = 'E'; unit = 'Jy'\n",
       "    name = 'err_int_flux_212'; format = 'E'; unit = 'Jy'\n",
       "    name = 'a_212'; format = 'E'; unit = 'arcsec'\n",
       "    name = 'b_212'; format = 'E'; unit = 'arcsec'\n",
       "    name = 'pa_212'; format = 'E'; unit = 'degree'\n",
       "    name = 'residual_mean_212'; format = 'E'; unit = 'Jy/beam'\n",
       "    name = 'residual_std_212'; format = 'E'; unit = 'Jy/beam'\n",
       "    name = 'psf_a_212'; format = 'E'; unit = 'arcsec'\n",
       "    name = 'psf_b_212'; format = 'E'; unit = 'arcsec'\n",
       "    name = 'psf_pa_212'; format = 'E'; unit = 'deg'\n",
       "    name = 'background_220'; format = 'E'; unit = 'Jy/beam'\n",
       "    name = 'local_rms_220'; format = 'E'; unit = 'Jy/beam'\n",
       "    name = 'peak_flux_220'; format = 'E'; unit = 'Jy/beam'\n",
       "    name = 'err_peak_flux_220'; format = 'E'; unit = 'Jy/beam'\n",
       "    name = 'int_flux_220'; format = 'E'; unit = 'Jy'\n",
       "    name = 'err_int_flux_220'; format = 'E'; unit = 'Jy'\n",
       "    name = 'a_220'; format = 'E'; unit = 'arcsec'\n",
       "    name = 'b_220'; format = 'E'; unit = 'arcsec'\n",
       "    name = 'pa_220'; format = 'E'; unit = 'degree'\n",
       "    name = 'residual_mean_220'; format = 'E'; unit = 'Jy/beam'\n",
       "    name = 'residual_std_220'; format = 'E'; unit = 'Jy/beam'\n",
       "    name = 'psf_a_220'; format = 'E'; unit = 'arcsec'\n",
       "    name = 'psf_b_220'; format = 'E'; unit = 'arcsec'\n",
       "    name = 'psf_pa_220'; format = 'E'; unit = 'deg'\n",
       "    name = 'background_227'; format = 'E'; unit = 'Jy/beam'\n",
       "    name = 'local_rms_227'; format = 'E'; unit = 'Jy/beam'\n",
       "    name = 'peak_flux_227'; format = 'E'; unit = 'Jy/beam'\n",
       "    name = 'err_peak_flux_227'; format = 'E'; unit = 'Jy/beam'\n",
       "    name = 'int_flux_227'; format = 'E'; unit = 'Jy'\n",
       "    name = 'err_int_flux_227'; format = 'E'; unit = 'Jy'\n",
       "    name = 'a_227'; format = 'E'; unit = 'arcsec'\n",
       "    name = 'b_227'; format = 'E'; unit = 'arcsec'\n",
       "    name = 'pa_227'; format = 'E'; unit = 'degree'\n",
       "    name = 'residual_mean_227'; format = 'E'; unit = 'Jy/beam'\n",
       "    name = 'residual_std_227'; format = 'E'; unit = 'Jy/beam'\n",
       "    name = 'psf_a_227'; format = 'E'; unit = 'arcsec'\n",
       "    name = 'psf_b_227'; format = 'E'; unit = 'arcsec'\n",
       "    name = 'psf_pa_227'; format = 'E'; unit = 'deg'\n",
       "    name = 'alpha'; format = 'E'\n",
       "    name = 'err_alpha'; format = 'E'\n",
       "    name = 'reduced_chi2'; format = 'E'\n",
       "    name = 'int_flux_fit_200'; format = 'D'; unit = 'Jy'\n",
       "    name = 'err_int_flux_fit_200'; format = 'D'; unit = 'Jy'\n",
       ")"
      ]
     },
     "execution_count": 7,
     "metadata": {},
     "output_type": "execute_result"
    }
   ],
   "source": [
    "gleam[1].columns"
   ]
  },
  {
   "cell_type": "code",
   "execution_count": null,
   "metadata": {
    "collapsed": true
   },
   "outputs": [],
   "source": []
  },
  {
   "cell_type": "markdown",
   "metadata": {},
   "source": [
    "## gleamdata alpha_select"
   ]
  },
  {
   "cell_type": "code",
   "execution_count": 5,
   "metadata": {
    "ExecuteTime": {
     "end_time": "2020-05-25T11:00:35.625485Z",
     "start_time": "2020-05-25T11:00:32.436223Z"
    },
    "collapsed": false
   },
   "outputs": [
    {
     "name": "stderr",
     "output_type": "stream",
     "text": [
      "/Users/brettlv/anaconda3/lib/python3.6/site-packages/ipykernel/__main__.py:2: RuntimeWarning: invalid value encountered in greater\n",
      "  from ipykernel import kernelapp as app\n",
      "/Users/brettlv/anaconda3/lib/python3.6/site-packages/ipykernel/__main__.py:3: RuntimeWarning: invalid value encountered in less\n",
      "  app.launch_new_instance()\n"
     ]
    }
   ],
   "source": [
    "gleamdata=gleam[1].data\n",
    "gleamdata_alpha_select_1=gleamdata[gleamdata['alpha']>0.2]#mean -0.8\n",
    "gleamdata_alpha_select_2=gleamdata[gleamdata['alpha']<-1.8]#mean -0.8"
   ]
  },
  {
   "cell_type": "markdown",
   "metadata": {},
   "source": [
    "## gleam sight of view"
   ]
  },
  {
   "cell_type": "code",
   "execution_count": 10,
   "metadata": {
    "ExecuteTime": {
     "end_time": "2020-05-25T12:16:05.938061Z",
     "start_time": "2020-05-25T12:16:00.592828Z"
    },
    "collapsed": false
   },
   "outputs": [
    {
     "data": {
      "text/plain": [
       "Text(0.5, 1.0, 'gleam sight of view')"
      ]
     },
     "execution_count": 10,
     "metadata": {},
     "output_type": "execute_result"
    },
    {
     "data": {
      "image/png": "[encoded data removed]",
      "text/plain": [
       "<Figure size 432x288 with 1 Axes>"
      ]
     },
     "metadata": {
      "image/png": {
       "height": 263,
       "width": 379
      }
     },
     "output_type": "display_data"
    }
   ],
   "source": [
    "plt.scatter(gleamdata['RAJ2000'],gleamdata['DEJ2000'])\n",
    "plt.title('gleam sight of view')"
   ]
  },
  {
   "cell_type": "markdown",
   "metadata": {
    "ExecuteTime": {
     "end_time": "2020-04-24T16:51:10.532030Z",
     "start_time": "2020-04-24T16:51:09.802093Z"
    }
   },
   "source": [
    "plt.hist(gleamdata['alpha'],range=(-2,0.5),bins=100)"
   ]
  },
  {
   "cell_type": "code",
   "execution_count": 30,
   "metadata": {
    "ExecuteTime": {
     "end_time": "2020-04-24T16:55:32.235132Z",
     "start_time": "2020-04-24T16:55:31.689450Z"
    },
    "collapsed": false
   },
   "outputs": [
    {
     "data": {
      "text/plain": [
       "(array([  0.,   0.,   0.,   0.,   0.,   0.,   0.,   0.,   0.,   0.,   0.,\n",
       "          0.,   0.,   0.,   0.,   0.,   0.,   0.,   0.,   0.,   0.,   0.,\n",
       "          0.,   0.,   0.,   0.,   0.,   0.,   0.,   0.,   0.,   0.,   0.,\n",
       "         53.,  88., 113.,  86.,  93.,  84.,  74.,  55.,  53.,  58.,  73.,\n",
       "         56.,  58.,  58.,  38.,  47.,  48.,  43.,  39.,  43.,  42.,  41.,\n",
       "         34.,  30.,  33.,  26.,  23.,  38.,  24.,  20.,  23.,  22.,  22.,\n",
       "         23.,  26.,  14.,  24.,  15.,  25.,  15.,  13.,  20.,  14.,  18.,\n",
       "         12.,  14.,  15.,  17.,   9.,   9.,   9.,   6.,  12.,  12.,   9.,\n",
       "          9.,  11.,   7.,   9.,  16.,   5.,   8.,  11.,   8.,   2.,   4.,\n",
       "          8.]),\n",
       " array([-0.2  , -0.188, -0.176, -0.164, -0.152, -0.14 , -0.128, -0.116,\n",
       "        -0.104, -0.092, -0.08 , -0.068, -0.056, -0.044, -0.032, -0.02 ,\n",
       "        -0.008,  0.004,  0.016,  0.028,  0.04 ,  0.052,  0.064,  0.076,\n",
       "         0.088,  0.1  ,  0.112,  0.124,  0.136,  0.148,  0.16 ,  0.172,\n",
       "         0.184,  0.196,  0.208,  0.22 ,  0.232,  0.244,  0.256,  0.268,\n",
       "         0.28 ,  0.292,  0.304,  0.316,  0.328,  0.34 ,  0.352,  0.364,\n",
       "         0.376,  0.388,  0.4  ,  0.412,  0.424,  0.436,  0.448,  0.46 ,\n",
       "         0.472,  0.484,  0.496,  0.508,  0.52 ,  0.532,  0.544,  0.556,\n",
       "         0.568,  0.58 ,  0.592,  0.604,  0.616,  0.628,  0.64 ,  0.652,\n",
       "         0.664,  0.676,  0.688,  0.7  ,  0.712,  0.724,  0.736,  0.748,\n",
       "         0.76 ,  0.772,  0.784,  0.796,  0.808,  0.82 ,  0.832,  0.844,\n",
       "         0.856,  0.868,  0.88 ,  0.892,  0.904,  0.916,  0.928,  0.94 ,\n",
       "         0.952,  0.964,  0.976,  0.988,  1.   ], dtype=float32),\n",
       " <a list of 100 Patch objects>)"
      ]
     },
     "execution_count": 30,
     "metadata": {},
     "output_type": "execute_result"
    },
    {
     "data": {
      "image/png": "[encoded data removed]",
      "text/plain": [
       "<Figure size 432x288 with 1 Axes>"
      ]
     },
     "metadata": {},
     "output_type": "display_data"
    }
   ],
   "source": [
    "plt.hist(gleamdata_alpha_select_1['alpha'],range=(-0.2,1),bins=100)"
   ]
  },
  {
   "cell_type": "code",
   "execution_count": 31,
   "metadata": {
    "ExecuteTime": {
     "end_time": "2020-04-24T16:55:49.521982Z",
     "start_time": "2020-04-24T16:55:48.936542Z"
    },
    "collapsed": false
   },
   "outputs": [
    {
     "data": {
      "text/plain": [
       "(array([ 0.,  0.,  1.,  0.,  0.,  1.,  0.,  1.,  0.,  0.,  1.,  0.,  0.,\n",
       "         1.,  0.,  0.,  1.,  2.,  0.,  1.,  1.,  1.,  0.,  1.,  1.,  0.,\n",
       "         0.,  0.,  0.,  1.,  1.,  2.,  1.,  2.,  0.,  3.,  0.,  1.,  0.,\n",
       "         2.,  0.,  0.,  0.,  1.,  1.,  2.,  0.,  0.,  3.,  1.,  0.,  4.,\n",
       "         2.,  0.,  3.,  3.,  3.,  2.,  3.,  2.,  1.,  1.,  1.,  1.,  1.,\n",
       "         3.,  3.,  1.,  3.,  3.,  0.,  2.,  2.,  3.,  6.,  3.,  6.,  2.,\n",
       "         5.,  4.,  3.,  2.,  6.,  7.,  5.,  4.,  3.,  7.,  4.,  8.,  5.,\n",
       "         2.,  4.,  8.,  8.,  4., 11., 10.,  6., 10.]),\n",
       " array([-2.5  , -2.493, -2.486, -2.479, -2.472, -2.465, -2.458, -2.451,\n",
       "        -2.444, -2.437, -2.43 , -2.423, -2.416, -2.409, -2.402, -2.395,\n",
       "        -2.388, -2.381, -2.374, -2.367, -2.36 , -2.353, -2.346, -2.339,\n",
       "        -2.332, -2.325, -2.318, -2.311, -2.304, -2.297, -2.29 , -2.283,\n",
       "        -2.276, -2.269, -2.262, -2.255, -2.248, -2.241, -2.234, -2.227,\n",
       "        -2.22 , -2.213, -2.206, -2.199, -2.192, -2.185, -2.178, -2.171,\n",
       "        -2.164, -2.157, -2.15 , -2.143, -2.136, -2.129, -2.122, -2.115,\n",
       "        -2.108, -2.101, -2.094, -2.087, -2.08 , -2.073, -2.066, -2.059,\n",
       "        -2.052, -2.045, -2.038, -2.031, -2.024, -2.017, -2.01 , -2.003,\n",
       "        -1.996, -1.989, -1.982, -1.975, -1.968, -1.961, -1.954, -1.947,\n",
       "        -1.94 , -1.933, -1.926, -1.919, -1.912, -1.905, -1.898, -1.891,\n",
       "        -1.884, -1.877, -1.87 , -1.863, -1.856, -1.849, -1.842, -1.835,\n",
       "        -1.828, -1.821, -1.814, -1.807, -1.8  ], dtype=float32),\n",
       " <a list of 100 Patch objects>)"
      ]
     },
     "execution_count": 31,
     "metadata": {},
     "output_type": "execute_result"
    },
    {
     "data": {
      "image/png": "[encoded data removed]",
      "text/plain": [
       "<Figure size 432x288 with 1 Axes>"
      ]
     },
     "metadata": {},
     "output_type": "display_data"
    }
   ],
   "source": [
    "plt.hist(gleamdata_alpha_select_2['alpha'],range=(-2.5,-1.8),bins=100)"
   ]
  },
  {
   "cell_type": "code",
   "execution_count": 25,
   "metadata": {
    "ExecuteTime": {
     "end_time": "2020-04-24T16:51:49.269625Z",
     "start_time": "2020-04-24T16:51:49.264628Z"
    },
    "collapsed": false
   },
   "outputs": [
    {
     "data": {
      "text/plain": [
       "(2208, 244)"
      ]
     },
     "execution_count": 25,
     "metadata": {},
     "output_type": "execute_result"
    }
   ],
   "source": [
    "gleamdata_alpha_select_1.size,gleamdata_alpha_select_2.size"
   ]
  },
  {
   "cell_type": "markdown",
   "metadata": {
    "ExecuteTime": {
     "end_time": "2020-04-24T16:53:31.284059Z",
     "start_time": "2020-04-24T16:53:31.238988Z"
    }
   },
   "source": [
    "gleamdata_alpha_select_2['Name']"
   ]
  },
  {
   "cell_type": "code",
   "execution_count": null,
   "metadata": {
    "collapsed": true
   },
   "outputs": [],
   "source": []
  },
  {
   "cell_type": "code",
   "execution_count": 36,
   "metadata": {
    "ExecuteTime": {
     "end_time": "2020-04-25T17:20:55.519957Z",
     "start_time": "2020-04-25T17:20:55.413172Z"
    },
    "collapsed": true
   },
   "outputs": [],
   "source": [
    "?fetch_sdss_S82standards"
   ]
  },
  {
   "cell_type": "markdown",
   "metadata": {},
   "source": [
    "## SDSS imaging data"
   ]
  },
  {
   "cell_type": "code",
   "execution_count": 46,
   "metadata": {
    "ExecuteTime": {
     "end_time": "2020-04-26T07:56:57.905037Z",
     "start_time": "2020-04-26T07:56:57.754495Z"
    },
    "collapsed": true
   },
   "outputs": [],
   "source": [
    "# Author: Jake VanderPlas <vanderplas@astro.washington.edu>\n",
    "# License: BSD\n",
    "#   The figure is an example from astroML: see http://astroML.github.com\n",
    "import os\n",
    "import sys\n",
    "from time import time\n",
    "\n",
    "import numpy as np\n",
    "from matplotlib import pyplot as plt\n",
    "\n",
    "from astropy.visualization import hist\n",
    "\n",
    "from astroML.datasets import fetch_imaging_sample, fetch_sdss_S82standards\n",
    "from astroML.crossmatch import crossmatch_angular\n",
    "\n",
    "# get imaging data\n",
    "#image_data = fetch_imaging_sample()\n",
    "image_data_fit=fits.open('/Users/brettlv/astroML_data/sgSDSSimagingSample.fit')\n",
    "image_data=image_data_fit[1].data\n",
    "imX = np.empty((len(image_data), 2), dtype=np.float64)\n",
    "imX[:, 0] = image_data['ra']\n",
    "imX[:, 1] = image_data['dec']\n"
   ]
  },
  {
   "cell_type": "code",
   "execution_count": 116,
   "metadata": {
    "ExecuteTime": {
     "end_time": "2020-04-26T08:43:44.591862Z",
     "start_time": "2020-04-26T08:43:44.580613Z"
    },
    "collapsed": false
   },
   "outputs": [
    {
     "data": {
      "text/plain": [
       "ColDefs(\n",
       "    name = 'ra'; format = '1D'; dim = '(1)'\n",
       "    name = 'dec'; format = '1D'; dim = '(1)'\n",
       "    name = 'run'; format = '1I'; null = -99; dim = '(1)'\n",
       "    name = 'rExtSFD'; format = '1D'; dim = '(1)'\n",
       "    name = 'uRaw'; format = '1D'; dim = '(1)'\n",
       "    name = 'gRaw'; format = '1D'; dim = '(1)'\n",
       "    name = 'rRaw'; format = '1D'; dim = '(1)'\n",
       "    name = 'iRaw'; format = '1D'; dim = '(1)'\n",
       "    name = 'zRaw'; format = '1D'; dim = '(1)'\n",
       "    name = 'uErr'; format = '1D'; dim = '(1)'\n",
       "    name = 'gErr'; format = '1D'; dim = '(1)'\n",
       "    name = 'rErr'; format = '1D'; dim = '(1)'\n",
       "    name = 'iErr'; format = '1D'; dim = '(1)'\n",
       "    name = 'zErr'; format = '1D'; dim = '(1)'\n",
       "    name = 'uRawPSF'; format = '1D'; dim = '(1)'\n",
       "    name = 'gRawPSF'; format = '1D'; dim = '(1)'\n",
       "    name = 'rRawPSF'; format = '1D'; dim = '(1)'\n",
       "    name = 'iRawPSF'; format = '1D'; dim = '(1)'\n",
       "    name = 'zRawPSF'; format = '1D'; dim = '(1)'\n",
       "    name = 'upsfErr'; format = '1D'; dim = '(1)'\n",
       "    name = 'gpsfErr'; format = '1D'; dim = '(1)'\n",
       "    name = 'rpsfErr'; format = '1D'; dim = '(1)'\n",
       "    name = 'ipsfErr'; format = '1D'; dim = '(1)'\n",
       "    name = 'zpsfErr'; format = '1D'; dim = '(1)'\n",
       "    name = 'type'; format = '1I'; null = -99; dim = '(1)'\n",
       "    name = 'ISOLATED'; format = '1J'; null = -99; dim = '(1)'\n",
       ")"
      ]
     },
     "execution_count": 116,
     "metadata": {},
     "output_type": "execute_result"
    }
   ],
   "source": [
    "image_data_fit[1].data.columns"
   ]
  },
  {
   "cell_type": "markdown",
   "metadata": {},
   "source": [
    "## SDSS Stripe 82 standard stars data"
   ]
  },
  {
   "cell_type": "code",
   "execution_count": 98,
   "metadata": {
    "ExecuteTime": {
     "end_time": "2020-04-26T08:30:26.369848Z",
     "start_time": "2020-04-26T08:30:19.468525Z"
    },
    "collapsed": false
   },
   "outputs": [
    {
     "name": "stderr",
     "output_type": "stream",
     "text": [
      "/Users/brettlv/anaconda3/lib/python3.6/site-packages/ipykernel/__main__.py:4: FutureWarning: read_table is deprecated, use read_csv instead.\n"
     ]
    },
    {
     "name": "stdout",
     "output_type": "stream",
     "text": [
      "Int64Index([ 0,  1,  2,  3,  4,  5,  6,  7,  8,  9, 10, 11, 12, 13, 14, 15, 16,\n",
      "            17, 18, 19, 20, 21, 22, 23, 24, 25, 26, 27, 28, 29, 30, 31, 32, 33,\n",
      "            34, 35, 36],\n",
      "           dtype='int64')\n"
     ]
    }
   ],
   "source": [
    "# get standard stars\n",
    "#standards_data = fetch_sdss_S82standards()\n",
    "import pandas as pd\n",
    "standards_data=pd.read_table('/Users/brettlv/astroML_data/stripe82calibStars_v2.6.dat',header=None,skiprows=range(0, 41),sep='\\s+')\n",
    "print(standards_data.columns)"
   ]
  },
  {
   "cell_type": "code",
   "execution_count": null,
   "metadata": {
    "collapsed": true
   },
   "outputs": [],
   "source": [
    "### This is file stripe82calibStars_v2.6.dat created by ZI on Mar 8,2007\n",
    "###\n",
    "### A catalog of 1,006,849 candidate standard stars from SDSS stripe 82\n",
    "###  0) every line starts with the string CALIBSTARS\n",
    "###  1) RA Dec RArms Decrms: the mean position and its rms per coordinate,\n",
    "###     this is J2000, decimal degrees for RA and Dec, and arcsec for rms\n",
    "###     NB: standard errors can be computed as rms/sqrt(Ntot)\n",
    "###  2) Ntot: the total number of epochs\n",
    "###  3) Ar: the Schlegel, Finkbeiner & Davis (1998) ISM extinction value in\n",
    "###     the r band; extinction in other bands can be computed as [Rv=3.1]:\n",
    "###     Am = Cm*Ar, with Cm=(1.873, 1.377, 0.758, 0.537) for m=(ugiz)\n",
    "###  4) and then in each band (ugriz, in this order):\n",
    "###       (Nobs mmed mmu msig mrms mchi2), which are:\n",
    "###       the total number of observations in this band\n",
    "###       the median magnitude\n",
    "###       the mean magnitude\n",
    "###       the standard error for the mean (1.25 larger for the median)\n",
    "###       the root-mean-square scatter\n",
    "###       chi2 per degree of freedom (computed using the mean magnitude)"
   ]
  },
  {
   "cell_type": "code",
   "execution_count": 99,
   "metadata": {
    "ExecuteTime": {
     "end_time": "2020-04-26T08:30:32.941167Z",
     "start_time": "2020-04-26T08:30:32.635274Z"
    },
    "collapsed": false
   },
   "outputs": [],
   "source": [
    "standards_data.rename(columns={0:'CALIBSTARS',1:'RA',2:'DEC',3:'RArms', 4:'Decrms',5:'Ntot_epochs'}, inplace = True)"
   ]
  },
  {
   "cell_type": "code",
   "execution_count": 100,
   "metadata": {
    "ExecuteTime": {
     "end_time": "2020-04-26T08:30:35.013154Z",
     "start_time": "2020-04-26T08:30:35.005508Z"
    },
    "collapsed": false
   },
   "outputs": [
    {
     "data": {
      "text/plain": [
       "1006849"
      ]
     },
     "execution_count": 100,
     "metadata": {},
     "output_type": "execute_result"
    }
   ],
   "source": [
    "len(standards_data)"
   ]
  },
  {
   "cell_type": "code",
   "execution_count": 101,
   "metadata": {
    "ExecuteTime": {
     "end_time": "2020-04-26T08:30:35.893923Z",
     "start_time": "2020-04-26T08:30:35.837472Z"
    },
    "collapsed": false
   },
   "outputs": [
    {
     "data": {
      "text/html": [
       "<div>\n",
       "<style scoped>\n",
       "    .dataframe tbody tr th:only-of-type {\n",
       "        vertical-align: middle;\n",
       "    }\n",
       "\n",
       "    .dataframe tbody tr th {\n",
       "        vertical-align: top;\n",
       "    }\n",
       "\n",
       "    .dataframe thead th {\n",
       "        text-align: right;\n",
       "    }\n",
       "</style>\n",
       "<table border=\"1\" class=\"dataframe\">\n",
       "  <thead>\n",
       "    <tr style=\"text-align: right;\">\n",
       "      <th></th>\n",
       "      <th>CALIBSTARS</th>\n",
       "      <th>RA</th>\n",
       "      <th>DEC</th>\n",
       "      <th>RArms</th>\n",
       "      <th>Decrms</th>\n",
       "      <th>Ntot_epochs</th>\n",
       "      <th>6</th>\n",
       "      <th>7</th>\n",
       "      <th>8</th>\n",
       "      <th>9</th>\n",
       "      <th>...</th>\n",
       "      <th>27</th>\n",
       "      <th>28</th>\n",
       "      <th>29</th>\n",
       "      <th>30</th>\n",
       "      <th>31</th>\n",
       "      <th>32</th>\n",
       "      <th>33</th>\n",
       "      <th>34</th>\n",
       "      <th>35</th>\n",
       "      <th>36</th>\n",
       "    </tr>\n",
       "  </thead>\n",
       "  <tbody>\n",
       "    <tr>\n",
       "      <th>0</th>\n",
       "      <td>CALIBSTARS</td>\n",
       "      <td>308.500214</td>\n",
       "      <td>-1.227721</td>\n",
       "      <td>0.032</td>\n",
       "      <td>0.032</td>\n",
       "      <td>4</td>\n",
       "      <td>0.587</td>\n",
       "      <td>0</td>\n",
       "      <td>0.066</td>\n",
       "      <td>0.066</td>\n",
       "      <td>...</td>\n",
       "      <td>20.202</td>\n",
       "      <td>0.019</td>\n",
       "      <td>0.053</td>\n",
       "      <td>2.0</td>\n",
       "      <td>4</td>\n",
       "      <td>19.878</td>\n",
       "      <td>19.809</td>\n",
       "      <td>0.047</td>\n",
       "      <td>0.139</td>\n",
       "      <td>2.4</td>\n",
       "    </tr>\n",
       "    <tr>\n",
       "      <th>1</th>\n",
       "      <td>CALIBSTARS</td>\n",
       "      <td>308.500092</td>\n",
       "      <td>-1.240264</td>\n",
       "      <td>0.015</td>\n",
       "      <td>0.015</td>\n",
       "      <td>4</td>\n",
       "      <td>0.596</td>\n",
       "      <td>4</td>\n",
       "      <td>21.804</td>\n",
       "      <td>21.821</td>\n",
       "      <td>...</td>\n",
       "      <td>19.465</td>\n",
       "      <td>0.012</td>\n",
       "      <td>0.027</td>\n",
       "      <td>1.1</td>\n",
       "      <td>4</td>\n",
       "      <td>19.317</td>\n",
       "      <td>19.305</td>\n",
       "      <td>0.031</td>\n",
       "      <td>0.048</td>\n",
       "      <td>0.5</td>\n",
       "    </tr>\n",
       "    <tr>\n",
       "      <th>2</th>\n",
       "      <td>CALIBSTARS</td>\n",
       "      <td>308.500092</td>\n",
       "      <td>-1.217156</td>\n",
       "      <td>0.009</td>\n",
       "      <td>0.024</td>\n",
       "      <td>4</td>\n",
       "      <td>0.579</td>\n",
       "      <td>4</td>\n",
       "      <td>19.439</td>\n",
       "      <td>19.443</td>\n",
       "      <td>...</td>\n",
       "      <td>17.050</td>\n",
       "      <td>0.006</td>\n",
       "      <td>0.020</td>\n",
       "      <td>2.2</td>\n",
       "      <td>4</td>\n",
       "      <td>16.890</td>\n",
       "      <td>16.890</td>\n",
       "      <td>0.010</td>\n",
       "      <td>0.007</td>\n",
       "      <td>0.1</td>\n",
       "    </tr>\n",
       "    <tr>\n",
       "      <th>3</th>\n",
       "      <td>CALIBSTARS</td>\n",
       "      <td>308.501892</td>\n",
       "      <td>-1.176492</td>\n",
       "      <td>0.005</td>\n",
       "      <td>0.024</td>\n",
       "      <td>4</td>\n",
       "      <td>0.559</td>\n",
       "      <td>4</td>\n",
       "      <td>20.561</td>\n",
       "      <td>20.553</td>\n",
       "      <td>...</td>\n",
       "      <td>17.205</td>\n",
       "      <td>0.011</td>\n",
       "      <td>0.024</td>\n",
       "      <td>0.3</td>\n",
       "      <td>4</td>\n",
       "      <td>16.966</td>\n",
       "      <td>16.963</td>\n",
       "      <td>0.012</td>\n",
       "      <td>0.009</td>\n",
       "      <td>0.2</td>\n",
       "    </tr>\n",
       "    <tr>\n",
       "      <th>4</th>\n",
       "      <td>CALIBSTARS</td>\n",
       "      <td>308.504608</td>\n",
       "      <td>-1.174189</td>\n",
       "      <td>0.028</td>\n",
       "      <td>0.038</td>\n",
       "      <td>4</td>\n",
       "      <td>0.556</td>\n",
       "      <td>0</td>\n",
       "      <td>0.068</td>\n",
       "      <td>0.068</td>\n",
       "      <td>...</td>\n",
       "      <td>20.337</td>\n",
       "      <td>0.020</td>\n",
       "      <td>0.066</td>\n",
       "      <td>2.4</td>\n",
       "      <td>4</td>\n",
       "      <td>19.719</td>\n",
       "      <td>19.712</td>\n",
       "      <td>0.043</td>\n",
       "      <td>0.147</td>\n",
       "      <td>3.0</td>\n",
       "    </tr>\n",
       "  </tbody>\n",
       "</table>\n",
       "<p>5 rows × 37 columns</p>\n",
       "</div>"
      ],
      "text/plain": [
       "   CALIBSTARS          RA       DEC  RArms  Decrms  Ntot_epochs      6  7  \\\n",
       "0  CALIBSTARS  308.500214 -1.227721  0.032   0.032            4  0.587  0   \n",
       "1  CALIBSTARS  308.500092 -1.240264  0.015   0.015            4  0.596  4   \n",
       "2  CALIBSTARS  308.500092 -1.217156  0.009   0.024            4  0.579  4   \n",
       "3  CALIBSTARS  308.501892 -1.176492  0.005   0.024            4  0.559  4   \n",
       "4  CALIBSTARS  308.504608 -1.174189  0.028   0.038            4  0.556  0   \n",
       "\n",
       "        8       9  ...      27     28     29   30  31      32      33     34  \\\n",
       "0   0.066   0.066  ...  20.202  0.019  0.053  2.0   4  19.878  19.809  0.047   \n",
       "1  21.804  21.821  ...  19.465  0.012  0.027  1.1   4  19.317  19.305  0.031   \n",
       "2  19.439  19.443  ...  17.050  0.006  0.020  2.2   4  16.890  16.890  0.010   \n",
       "3  20.561  20.553  ...  17.205  0.011  0.024  0.3   4  16.966  16.963  0.012   \n",
       "4   0.068   0.068  ...  20.337  0.020  0.066  2.4   4  19.719  19.712  0.043   \n",
       "\n",
       "      35   36  \n",
       "0  0.139  2.4  \n",
       "1  0.048  0.5  \n",
       "2  0.007  0.1  \n",
       "3  0.009  0.2  \n",
       "4  0.147  3.0  \n",
       "\n",
       "[5 rows x 37 columns]"
      ]
     },
     "execution_count": 101,
     "metadata": {},
     "output_type": "execute_result"
    }
   ],
   "source": [
    "standards_data.head()"
   ]
  },
  {
   "cell_type": "code",
   "execution_count": 102,
   "metadata": {
    "ExecuteTime": {
     "end_time": "2020-04-26T08:30:38.654586Z",
     "start_time": "2020-04-26T08:30:38.648378Z"
    },
    "collapsed": false
   },
   "outputs": [
    {
     "data": {
      "text/plain": [
       "Index([ 'CALIBSTARS',          'RA',         'DEC',       'RArms',\n",
       "            'Decrms', 'Ntot_epochs',             6,             7,\n",
       "                   8,             9,            10,            11,\n",
       "                  12,            13,            14,            15,\n",
       "                  16,            17,            18,            19,\n",
       "                  20,            21,            22,            23,\n",
       "                  24,            25,            26,            27,\n",
       "                  28,            29,            30,            31,\n",
       "                  32,            33,            34,            35,\n",
       "                  36],\n",
       "      dtype='object')"
      ]
     },
     "execution_count": 102,
     "metadata": {},
     "output_type": "execute_result"
    }
   ],
   "source": [
    "standards_data.columns"
   ]
  },
  {
   "cell_type": "code",
   "execution_count": 103,
   "metadata": {
    "ExecuteTime": {
     "end_time": "2020-04-26T08:30:42.818999Z",
     "start_time": "2020-04-26T08:30:42.787724Z"
    },
    "collapsed": false
   },
   "outputs": [],
   "source": [
    "stX = np.empty((len(standards_data), 2), dtype=np.float64)\n",
    "stX[:, 0] = standards_data['RA']\n",
    "stX[:, 1] = standards_data['DEC']"
   ]
  },
  {
   "cell_type": "markdown",
   "metadata": {},
   "source": [
    "# crossmatch catalogs \n",
    "## SDSS imaging data && Stripe 82 standard stars"
   ]
  },
  {
   "cell_type": "code",
   "execution_count": 136,
   "metadata": {
    "ExecuteTime": {
     "end_time": "2020-04-26T14:21:01.556314Z",
     "start_time": "2020-04-26T14:21:01.551490Z"
    },
    "collapsed": true
   },
   "outputs": [],
   "source": [
    "?crossmatch_angular"
   ]
  },
  {
   "cell_type": "code",
   "execution_count": null,
   "metadata": {
    "collapsed": true
   },
   "outputs": [],
   "source": [
    "Returns\n",
    "-------\n",
    "dist, ind: ndarrays\n",
    "    The angular distance and index of the closest point in X2 to\n",
    "    each point in X1.  Both arrays are length N1.\n",
    "    Locations with no match are indicated by\n",
    "    dist[i] = inf, ind[i] = N2"
   ]
  },
  {
   "cell_type": "code",
   "execution_count": 130,
   "metadata": {
    "ExecuteTime": {
     "end_time": "2020-04-26T14:14:53.290802Z",
     "start_time": "2020-04-26T14:14:35.434104Z"
    },
    "code_folding": [],
    "collapsed": false
   },
   "outputs": [
    {
     "data": {
      "image/png": "[encoded data removed]",
      "text/plain": [
       "<Figure size 432x288 with 1 Axes>"
      ]
     },
     "metadata": {},
     "output_type": "display_data"
    }
   ],
   "source": [
    "# crossmatch catalogs\n",
    "max_radius = 1. / 3600  # 1 arcsec\n",
    "dist, ind = crossmatch_angular(imX, stX, max_radius)\n",
    "match = ~np.isinf(dist)# '~np.isinf' vs 'np.isinf'\n",
    "\n",
    "dist_match = dist[match]\n",
    "dist_match *= 3600 #convert to arcsec"
   ]
  },
  {
   "cell_type": "code",
   "execution_count": 134,
   "metadata": {
    "ExecuteTime": {
     "end_time": "2020-04-26T14:18:39.483642Z",
     "start_time": "2020-04-26T14:18:39.195714Z"
    },
    "collapsed": false
   },
   "outputs": [
    {
     "data": {
      "image/png": "[encoded data removed]",
      "text/plain": [
       "<Figure size 432x288 with 1 Axes>"
      ]
     },
     "metadata": {},
     "output_type": "display_data"
    }
   ],
   "source": [
    "ax = plt.axes()\n",
    "hist(dist_match, bins='knuth', ax=ax,\n",
    "     histtype='stepfilled', ec='k', fc='#AAAAAA')\n",
    "ax.set_xlabel('radius of match (arcsec)')\n",
    "ax.set_ylabel('N(r, r+dr)')\n",
    "ax.text(0.95, 0.95,\n",
    "        \"Total objects: %i\\nNumber with match: %i\" % (imX.shape[0],\n",
    "                                                      np.sum(match)),\n",
    "        ha='right', va='top', transform=ax.transAxes)\n",
    "ax.set_xlim(0, 0.5)\n",
    "\n",
    "plt.show()"
   ]
  },
  {
   "cell_type": "code",
   "execution_count": null,
   "metadata": {
    "collapsed": true
   },
   "outputs": [],
   "source": []
  },
  {
   "cell_type": "markdown",
   "metadata": {},
   "source": [
    "## SDSS imaging data and gleamdata"
   ]
  },
  {
   "cell_type": "code",
   "execution_count": null,
   "metadata": {
    "ExecuteTime": {
     "end_time": "2020-04-24T18:39:19.898948Z",
     "start_time": "2020-04-24T10:28:26.686Z"
    },
    "collapsed": true
   },
   "outputs": [],
   "source": [
    "len(gleamdata_alpha_select_2)"
   ]
  },
  {
   "cell_type": "code",
   "execution_count": 106,
   "metadata": {
    "ExecuteTime": {
     "end_time": "2020-04-26T08:33:39.796680Z",
     "start_time": "2020-04-26T08:33:39.732868Z"
    },
    "collapsed": false
   },
   "outputs": [
    {
     "data": {
      "text/plain": [
       "ColDefs(\n",
       "    name = 'Name'; format = '20A'\n",
       "    name = 'background_wide'; format = 'E'; unit = 'Jy/beam'\n",
       "    name = 'local_rms_wide'; format = 'E'; unit = 'Jy/beam'\n",
       "    name = 'ra_str'; format = '11A'; unit = 'h:m:s'\n",
       "    name = 'dec_str'; format = '12A'; unit = 'd:m:s'\n",
       "    name = 'RAJ2000'; format = 'E'; unit = 'deg'\n",
       "    name = 'err_RAJ2000'; format = 'D'; unit = 'deg'\n",
       "    name = 'DEJ2000'; format = 'E'; unit = 'deg'\n",
       "    name = 'err_DEJ2000'; format = 'D'; unit = 'deg'\n",
       "    name = 'peak_flux_wide'; format = 'E'; unit = 'Jy/beam'\n",
       "    name = 'err_peak_flux_wide'; format = 'E'; unit = 'Jy/beam'\n",
       "    name = 'int_flux_wide'; format = 'E'; unit = 'Jy'\n",
       "    name = 'err_int_flux_wide'; format = 'E'; unit = 'Jy'\n",
       "    name = 'a_wide'; format = 'E'; unit = 'arcsec'\n",
       "    name = 'err_a_wide'; format = 'E'; unit = 'arcsec'\n",
       "    name = 'b_wide'; format = 'E'; unit = 'arcsec'\n",
       "    name = 'err_b_wide'; format = 'E'; unit = 'arcsec'\n",
       "    name = 'pa_wide'; format = 'E'; unit = 'deg'\n",
       "    name = 'err_pa_wide'; format = 'E'; unit = 'deg'\n",
       "    name = 'residual_mean_wide'; format = 'E'; unit = 'Jy/beam'\n",
       "    name = 'residual_std_wide'; format = 'E'; unit = 'Jy/beam'\n",
       "    name = 'err_abs_flux_pct'; format = 'E'; unit = '%'\n",
       "    name = 'err_fit_flux_pct'; format = 'E'; unit = '%'\n",
       "    name = 'psf_a_wide'; format = 'E'; unit = 'arcsec'\n",
       "    name = 'psf_b_wide'; format = 'E'; unit = 'arcsec'\n",
       "    name = 'psf_pa_wide'; format = 'E'; unit = 'deg'\n",
       "    name = 'background_076'; format = 'E'; unit = 'Jy/beam'\n",
       "    name = 'local_rms_076'; format = 'E'; unit = 'Jy/beam'\n",
       "    name = 'peak_flux_076'; format = 'E'; unit = 'Jy/beam'\n",
       "    name = 'err_peak_flux_076'; format = 'E'; unit = 'Jy/beam'\n",
       "    name = 'int_flux_076'; format = 'E'; unit = 'Jy'\n",
       "    name = 'err_int_flux_076'; format = 'E'; unit = 'Jy'\n",
       "    name = 'a_076'; format = 'E'; unit = 'arcsec'\n",
       "    name = 'b_076'; format = 'E'; unit = 'arcsec'\n",
       "    name = 'pa_076'; format = 'E'; unit = 'degree'\n",
       "    name = 'residual_mean_076'; format = 'E'; unit = 'Jy/beam'\n",
       "    name = 'residual_std_076'; format = 'E'; unit = 'Jy/beam'\n",
       "    name = 'psf_a_076'; format = 'E'; unit = 'arcsec'\n",
       "    name = 'psf_b_076'; format = 'E'; unit = 'arcsec'\n",
       "    name = 'psf_pa_076'; format = 'E'; unit = 'deg'\n",
       "    name = 'background_084'; format = 'E'; unit = 'Jy/beam'\n",
       "    name = 'local_rms_084'; format = 'E'; unit = 'Jy/beam'\n",
       "    name = 'peak_flux_084'; format = 'E'; unit = 'Jy/beam'\n",
       "    name = 'err_peak_flux_084'; format = 'E'; unit = 'Jy/beam'\n",
       "    name = 'int_flux_084'; format = 'E'; unit = 'Jy'\n",
       "    name = 'err_int_flux_084'; format = 'E'; unit = 'Jy'\n",
       "    name = 'a_084'; format = 'E'; unit = 'arcsec'\n",
       "    name = 'b_084'; format = 'E'; unit = 'arcsec'\n",
       "    name = 'pa_084'; format = 'E'; unit = 'degree'\n",
       "    name = 'residual_mean_084'; format = 'E'; unit = 'Jy/beam'\n",
       "    name = 'residual_std_084'; format = 'E'; unit = 'Jy/beam'\n",
       "    name = 'psf_a_084'; format = 'E'; unit = 'arcsec'\n",
       "    name = 'psf_b_084'; format = 'E'; unit = 'arcsec'\n",
       "    name = 'psf_pa_084'; format = 'E'; unit = 'deg'\n",
       "    name = 'background_092'; format = 'E'; unit = 'Jy/beam'\n",
       "    name = 'local_rms_092'; format = 'E'; unit = 'Jy/beam'\n",
       "    name = 'peak_flux_092'; format = 'E'; unit = 'Jy/beam'\n",
       "    name = 'err_peak_flux_092'; format = 'E'; unit = 'Jy/beam'\n",
       "    name = 'int_flux_092'; format = 'E'; unit = 'Jy'\n",
       "    name = 'err_int_flux_092'; format = 'E'; unit = 'Jy'\n",
       "    name = 'a_092'; format = 'E'; unit = 'arcsec'\n",
       "    name = 'b_092'; format = 'E'; unit = 'arcsec'\n",
       "    name = 'pa_092'; format = 'E'; unit = 'degree'\n",
       "    name = 'residual_mean_092'; format = 'E'; unit = 'Jy/beam'\n",
       "    name = 'residual_std_092'; format = 'E'; unit = 'Jy/beam'\n",
       "    name = 'psf_a_092'; format = 'E'; unit = 'arcsec'\n",
       "    name = 'psf_b_092'; format = 'E'; unit = 'arcsec'\n",
       "    name = 'psf_pa_092'; format = 'E'; unit = 'deg'\n",
       "    name = 'background_099'; format = 'E'; unit = 'Jy/beam'\n",
       "    name = 'local_rms_099'; format = 'E'; unit = 'Jy/beam'\n",
       "    name = 'peak_flux_099'; format = 'E'; unit = 'Jy/beam'\n",
       "    name = 'err_peak_flux_099'; format = 'E'; unit = 'Jy/beam'\n",
       "    name = 'int_flux_099'; format = 'E'; unit = 'Jy'\n",
       "    name = 'err_int_flux_099'; format = 'E'; unit = 'Jy'\n",
       "    name = 'a_099'; format = 'E'; unit = 'arcsec'\n",
       "    name = 'b_099'; format = 'E'; unit = 'arcsec'\n",
       "    name = 'pa_099'; format = 'E'; unit = 'degree'\n",
       "    name = 'residual_mean_099'; format = 'E'; unit = 'Jy/beam'\n",
       "    name = 'residual_std_099'; format = 'E'; unit = 'Jy/beam'\n",
       "    name = 'psf_a_099'; format = 'E'; unit = 'arcsec'\n",
       "    name = 'psf_b_099'; format = 'E'; unit = 'arcsec'\n",
       "    name = 'psf_pa_099'; format = 'E'; unit = 'deg'\n",
       "    name = 'background_107'; format = 'E'; unit = 'Jy/beam'\n",
       "    name = 'local_rms_107'; format = 'E'; unit = 'Jy/beam'\n",
       "    name = 'peak_flux_107'; format = 'E'; unit = 'Jy/beam'\n",
       "    name = 'err_peak_flux_107'; format = 'E'; unit = 'Jy/beam'\n",
       "    name = 'int_flux_107'; format = 'E'; unit = 'Jy'\n",
       "    name = 'err_int_flux_107'; format = 'E'; unit = 'Jy'\n",
       "    name = 'a_107'; format = 'E'; unit = 'arcsec'\n",
       "    name = 'b_107'; format = 'E'; unit = 'arcsec'\n",
       "    name = 'pa_107'; format = 'E'; unit = 'degree'\n",
       "    name = 'residual_mean_107'; format = 'E'; unit = 'Jy/beam'\n",
       "    name = 'residual_std_107'; format = 'E'; unit = 'Jy/beam'\n",
       "    name = 'psf_a_107'; format = 'E'; unit = 'arcsec'\n",
       "    name = 'psf_b_107'; format = 'E'; unit = 'arcsec'\n",
       "    name = 'psf_pa_107'; format = 'E'; unit = 'deg'\n",
       "    name = 'background_115'; format = 'E'; unit = 'Jy/beam'\n",
       "    name = 'local_rms_115'; format = 'E'; unit = 'Jy/beam'\n",
       "    name = 'peak_flux_115'; format = 'E'; unit = 'Jy/beam'\n",
       "    name = 'err_peak_flux_115'; format = 'E'; unit = 'Jy/beam'\n",
       "    name = 'int_flux_115'; format = 'E'; unit = 'Jy'\n",
       "    name = 'err_int_flux_115'; format = 'E'; unit = 'Jy'\n",
       "    name = 'a_115'; format = 'E'; unit = 'arcsec'\n",
       "    name = 'b_115'; format = 'E'; unit = 'arcsec'\n",
       "    name = 'pa_115'; format = 'E'; unit = 'degree'\n",
       "    name = 'residual_mean_115'; format = 'E'; unit = 'Jy/beam'\n",
       "    name = 'residual_std_115'; format = 'E'; unit = 'Jy/beam'\n",
       "    name = 'psf_a_115'; format = 'E'; unit = 'arcsec'\n",
       "    name = 'psf_b_115'; format = 'E'; unit = 'arcsec'\n",
       "    name = 'psf_pa_115'; format = 'E'; unit = 'deg'\n",
       "    name = 'background_122'; format = 'E'; unit = 'Jy/beam'\n",
       "    name = 'local_rms_122'; format = 'E'; unit = 'Jy/beam'\n",
       "    name = 'peak_flux_122'; format = 'E'; unit = 'Jy/beam'\n",
       "    name = 'err_peak_flux_122'; format = 'E'; unit = 'Jy/beam'\n",
       "    name = 'int_flux_122'; format = 'E'; unit = 'Jy'\n",
       "    name = 'err_int_flux_122'; format = 'E'; unit = 'Jy'\n",
       "    name = 'a_122'; format = 'E'; unit = 'arcsec'\n",
       "    name = 'b_122'; format = 'E'; unit = 'arcsec'\n",
       "    name = 'pa_122'; format = 'E'; unit = 'degree'\n",
       "    name = 'residual_mean_122'; format = 'E'; unit = 'Jy/beam'\n",
       "    name = 'residual_std_122'; format = 'E'; unit = 'Jy/beam'\n",
       "    name = 'psf_a_122'; format = 'E'; unit = 'arcsec'\n",
       "    name = 'psf_b_122'; format = 'E'; unit = 'arcsec'\n",
       "    name = 'psf_pa_122'; format = 'E'; unit = 'deg'\n",
       "    name = 'background_130'; format = 'E'; unit = 'Jy/beam'\n",
       "    name = 'local_rms_130'; format = 'E'; unit = 'Jy/beam'\n",
       "    name = 'peak_flux_130'; format = 'E'; unit = 'Jy/beam'\n",
       "    name = 'err_peak_flux_130'; format = 'E'; unit = 'Jy/beam'\n",
       "    name = 'int_flux_130'; format = 'E'; unit = 'Jy'\n",
       "    name = 'err_int_flux_130'; format = 'E'; unit = 'Jy'\n",
       "    name = 'a_130'; format = 'E'; unit = 'arcsec'\n",
       "    name = 'b_130'; format = 'E'; unit = 'arcsec'\n",
       "    name = 'pa_130'; format = 'E'; unit = 'degree'\n",
       "    name = 'residual_mean_130'; format = 'E'; unit = 'Jy/beam'\n",
       "    name = 'residual_std_130'; format = 'E'; unit = 'Jy/beam'\n",
       "    name = 'psf_a_130'; format = 'E'; unit = 'arcsec'\n",
       "    name = 'psf_b_130'; format = 'E'; unit = 'arcsec'\n",
       "    name = 'psf_pa_130'; format = 'E'; unit = 'deg'\n",
       "    name = 'background_143'; format = 'E'; unit = 'Jy/beam'\n",
       "    name = 'local_rms_143'; format = 'E'; unit = 'Jy/beam'\n",
       "    name = 'peak_flux_143'; format = 'E'; unit = 'Jy/beam'\n",
       "    name = 'err_peak_flux_143'; format = 'E'; unit = 'Jy/beam'\n",
       "    name = 'int_flux_143'; format = 'E'; unit = 'Jy'\n",
       "    name = 'err_int_flux_143'; format = 'E'; unit = 'Jy'\n",
       "    name = 'a_143'; format = 'E'; unit = 'arcsec'\n",
       "    name = 'b_143'; format = 'E'; unit = 'arcsec'\n",
       "    name = 'pa_143'; format = 'E'; unit = 'degree'\n",
       "    name = 'residual_mean_143'; format = 'E'; unit = 'Jy/beam'\n",
       "    name = 'residual_std_143'; format = 'E'; unit = 'Jy/beam'\n",
       "    name = 'psf_a_143'; format = 'E'; unit = 'arcsec'\n",
       "    name = 'psf_b_143'; format = 'E'; unit = 'arcsec'\n",
       "    name = 'psf_pa_143'; format = 'E'; unit = 'deg'\n",
       "    name = 'background_151'; format = 'E'; unit = 'Jy/beam'\n",
       "    name = 'local_rms_151'; format = 'E'; unit = 'Jy/beam'\n",
       "    name = 'peak_flux_151'; format = 'E'; unit = 'Jy/beam'\n",
       "    name = 'err_peak_flux_151'; format = 'E'; unit = 'Jy/beam'\n",
       "    name = 'int_flux_151'; format = 'E'; unit = 'Jy'\n",
       "    name = 'err_int_flux_151'; format = 'E'; unit = 'Jy'\n",
       "    name = 'a_151'; format = 'E'; unit = 'arcsec'\n",
       "    name = 'b_151'; format = 'E'; unit = 'arcsec'\n",
       "    name = 'pa_151'; format = 'E'; unit = 'degree'\n",
       "    name = 'residual_mean_151'; format = 'E'; unit = 'Jy/beam'\n",
       "    name = 'residual_std_151'; format = 'E'; unit = 'Jy/beam'\n",
       "    name = 'psf_a_151'; format = 'E'; unit = 'arcsec'\n",
       "    name = 'psf_b_151'; format = 'E'; unit = 'arcsec'\n",
       "    name = 'psf_pa_151'; format = 'E'; unit = 'deg'\n",
       "    name = 'background_158'; format = 'E'; unit = 'Jy/beam'\n",
       "    name = 'local_rms_158'; format = 'E'; unit = 'Jy/beam'\n",
       "    name = 'peak_flux_158'; format = 'E'; unit = 'Jy/beam'\n",
       "    name = 'err_peak_flux_158'; format = 'E'; unit = 'Jy/beam'\n",
       "    name = 'int_flux_158'; format = 'E'; unit = 'Jy'\n",
       "    name = 'err_int_flux_158'; format = 'E'; unit = 'Jy'\n",
       "    name = 'a_158'; format = 'E'; unit = 'arcsec'\n",
       "    name = 'b_158'; format = 'E'; unit = 'arcsec'\n",
       "    name = 'pa_158'; format = 'E'; unit = 'degree'\n",
       "    name = 'residual_mean_158'; format = 'E'; unit = 'Jy/beam'\n",
       "    name = 'residual_std_158'; format = 'E'; unit = 'Jy/beam'\n",
       "    name = 'psf_a_158'; format = 'E'; unit = 'arcsec'\n",
       "    name = 'psf_b_158'; format = 'E'; unit = 'arcsec'\n",
       "    name = 'psf_pa_158'; format = 'E'; unit = 'deg'\n",
       "    name = 'background_166'; format = 'E'; unit = 'Jy/beam'\n",
       "    name = 'local_rms_166'; format = 'E'; unit = 'Jy/beam'\n",
       "    name = 'peak_flux_166'; format = 'E'; unit = 'Jy/beam'\n",
       "    name = 'err_peak_flux_166'; format = 'E'; unit = 'Jy/beam'\n",
       "    name = 'int_flux_166'; format = 'E'; unit = 'Jy'\n",
       "    name = 'err_int_flux_166'; format = 'E'; unit = 'Jy'\n",
       "    name = 'a_166'; format = 'E'; unit = 'arcsec'\n",
       "    name = 'b_166'; format = 'E'; unit = 'arcsec'\n",
       "    name = 'pa_166'; format = 'E'; unit = 'degree'\n",
       "    name = 'residual_mean_166'; format = 'E'; unit = 'Jy/beam'\n",
       "    name = 'residual_std_166'; format = 'E'; unit = 'Jy/beam'\n",
       "    name = 'psf_a_166'; format = 'E'; unit = 'arcsec'\n",
       "    name = 'psf_b_166'; format = 'E'; unit = 'arcsec'\n",
       "    name = 'psf_pa_166'; format = 'E'; unit = 'deg'\n",
       "    name = 'background_174'; format = 'E'; unit = 'Jy/beam'\n",
       "    name = 'local_rms_174'; format = 'E'; unit = 'Jy/beam'\n",
       "    name = 'peak_flux_174'; format = 'E'; unit = 'Jy/beam'\n",
       "    name = 'err_peak_flux_174'; format = 'E'; unit = 'Jy/beam'\n",
       "    name = 'int_flux_174'; format = 'E'; unit = 'Jy'\n",
       "    name = 'err_int_flux_174'; format = 'E'; unit = 'Jy'\n",
       "    name = 'a_174'; format = 'E'; unit = 'arcsec'\n",
       "    name = 'b_174'; format = 'E'; unit = 'arcsec'\n",
       "    name = 'pa_174'; format = 'E'; unit = 'degree'\n",
       "    name = 'residual_mean_174'; format = 'E'; unit = 'Jy/beam'\n",
       "    name = 'residual_std_174'; format = 'E'; unit = 'Jy/beam'\n",
       "    name = 'psf_a_174'; format = 'E'; unit = 'arcsec'\n",
       "    name = 'psf_b_174'; format = 'E'; unit = 'arcsec'\n",
       "    name = 'psf_pa_174'; format = 'E'; unit = 'deg'\n",
       "    name = 'background_181'; format = 'E'; unit = 'Jy/beam'\n",
       "    name = 'local_rms_181'; format = 'E'; unit = 'Jy/beam'\n",
       "    name = 'peak_flux_181'; format = 'E'; unit = 'Jy/beam'\n",
       "    name = 'err_peak_flux_181'; format = 'E'; unit = 'Jy/beam'\n",
       "    name = 'int_flux_181'; format = 'E'; unit = 'Jy'\n",
       "    name = 'err_int_flux_181'; format = 'E'; unit = 'Jy'\n",
       "    name = 'a_181'; format = 'E'; unit = 'arcsec'\n",
       "    name = 'b_181'; format = 'E'; unit = 'arcsec'\n",
       "    name = 'pa_181'; format = 'E'; unit = 'degree'\n",
       "    name = 'residual_mean_181'; format = 'E'; unit = 'Jy/beam'\n",
       "    name = 'residual_std_181'; format = 'E'; unit = 'Jy/beam'\n",
       "    name = 'psf_a_181'; format = 'E'; unit = 'arcsec'\n",
       "    name = 'psf_b_181'; format = 'E'; unit = 'arcsec'\n",
       "    name = 'psf_pa_181'; format = 'E'; unit = 'deg'\n",
       "    name = 'background_189'; format = 'E'; unit = 'Jy/beam'\n",
       "    name = 'local_rms_189'; format = 'E'; unit = 'Jy/beam'\n",
       "    name = 'peak_flux_189'; format = 'E'; unit = 'Jy/beam'\n",
       "    name = 'err_peak_flux_189'; format = 'E'; unit = 'Jy/beam'\n",
       "    name = 'int_flux_189'; format = 'E'; unit = 'Jy'\n",
       "    name = 'err_int_flux_189'; format = 'E'; unit = 'Jy'\n",
       "    name = 'a_189'; format = 'E'; unit = 'arcsec'\n",
       "    name = 'b_189'; format = 'E'; unit = 'arcsec'\n",
       "    name = 'pa_189'; format = 'E'; unit = 'degree'\n",
       "    name = 'residual_mean_189'; format = 'E'; unit = 'Jy/beam'\n",
       "    name = 'residual_std_189'; format = 'E'; unit = 'Jy/beam'\n",
       "    name = 'psf_a_189'; format = 'E'; unit = 'arcsec'\n",
       "    name = 'psf_b_189'; format = 'E'; unit = 'arcsec'\n",
       "    name = 'psf_pa_189'; format = 'E'; unit = 'deg'\n",
       "    name = 'background_197'; format = 'E'; unit = 'Jy/beam'\n",
       "    name = 'local_rms_197'; format = 'E'; unit = 'Jy/beam'\n",
       "    name = 'peak_flux_197'; format = 'E'; unit = 'Jy/beam'\n",
       "    name = 'err_peak_flux_197'; format = 'E'; unit = 'Jy/beam'\n",
       "    name = 'int_flux_197'; format = 'E'; unit = 'Jy'\n",
       "    name = 'err_int_flux_197'; format = 'E'; unit = 'Jy'\n",
       "    name = 'a_197'; format = 'E'; unit = 'arcsec'\n",
       "    name = 'b_197'; format = 'E'; unit = 'arcsec'\n",
       "    name = 'pa_197'; format = 'E'; unit = 'degree'\n",
       "    name = 'residual_mean_197'; format = 'E'; unit = 'Jy/beam'\n",
       "    name = 'residual_std_197'; format = 'E'; unit = 'Jy/beam'\n",
       "    name = 'psf_a_197'; format = 'E'; unit = 'arcsec'\n",
       "    name = 'psf_b_197'; format = 'E'; unit = 'arcsec'\n",
       "    name = 'psf_pa_197'; format = 'E'; unit = 'deg'\n",
       "    name = 'background_204'; format = 'E'; unit = 'Jy/beam'\n",
       "    name = 'local_rms_204'; format = 'E'; unit = 'Jy/beam'\n",
       "    name = 'peak_flux_204'; format = 'E'; unit = 'Jy/beam'\n",
       "    name = 'err_peak_flux_204'; format = 'E'; unit = 'Jy/beam'\n",
       "    name = 'int_flux_204'; format = 'E'; unit = 'Jy'\n",
       "    name = 'err_int_flux_204'; format = 'E'; unit = 'Jy'\n",
       "    name = 'a_204'; format = 'E'; unit = 'arcsec'\n",
       "    name = 'b_204'; format = 'E'; unit = 'arcsec'\n",
       "    name = 'pa_204'; format = 'E'; unit = 'degree'\n",
       "    name = 'residual_mean_204'; format = 'E'; unit = 'Jy/beam'\n",
       "    name = 'residual_std_204'; format = 'E'; unit = 'Jy/beam'\n",
       "    name = 'psf_a_204'; format = 'E'; unit = 'arcsec'\n",
       "    name = 'psf_b_204'; format = 'E'; unit = 'arcsec'\n",
       "    name = 'psf_pa_204'; format = 'E'; unit = 'deg'\n",
       "    name = 'background_212'; format = 'E'; unit = 'Jy/beam'\n",
       "    name = 'local_rms_212'; format = 'E'; unit = 'Jy/beam'\n",
       "    name = 'peak_flux_212'; format = 'E'; unit = 'Jy/beam'\n",
       "    name = 'err_peak_flux_212'; format = 'E'; unit = 'Jy/beam'\n",
       "    name = 'int_flux_212'; format = 'E'; unit = 'Jy'\n",
       "    name = 'err_int_flux_212'; format = 'E'; unit = 'Jy'\n",
       "    name = 'a_212'; format = 'E'; unit = 'arcsec'\n",
       "    name = 'b_212'; format = 'E'; unit = 'arcsec'\n",
       "    name = 'pa_212'; format = 'E'; unit = 'degree'\n",
       "    name = 'residual_mean_212'; format = 'E'; unit = 'Jy/beam'\n",
       "    name = 'residual_std_212'; format = 'E'; unit = 'Jy/beam'\n",
       "    name = 'psf_a_212'; format = 'E'; unit = 'arcsec'\n",
       "    name = 'psf_b_212'; format = 'E'; unit = 'arcsec'\n",
       "    name = 'psf_pa_212'; format = 'E'; unit = 'deg'\n",
       "    name = 'background_220'; format = 'E'; unit = 'Jy/beam'\n",
       "    name = 'local_rms_220'; format = 'E'; unit = 'Jy/beam'\n",
       "    name = 'peak_flux_220'; format = 'E'; unit = 'Jy/beam'\n",
       "    name = 'err_peak_flux_220'; format = 'E'; unit = 'Jy/beam'\n",
       "    name = 'int_flux_220'; format = 'E'; unit = 'Jy'\n",
       "    name = 'err_int_flux_220'; format = 'E'; unit = 'Jy'\n",
       "    name = 'a_220'; format = 'E'; unit = 'arcsec'\n",
       "    name = 'b_220'; format = 'E'; unit = 'arcsec'\n",
       "    name = 'pa_220'; format = 'E'; unit = 'degree'\n",
       "    name = 'residual_mean_220'; format = 'E'; unit = 'Jy/beam'\n",
       "    name = 'residual_std_220'; format = 'E'; unit = 'Jy/beam'\n",
       "    name = 'psf_a_220'; format = 'E'; unit = 'arcsec'\n",
       "    name = 'psf_b_220'; format = 'E'; unit = 'arcsec'\n",
       "    name = 'psf_pa_220'; format = 'E'; unit = 'deg'\n",
       "    name = 'background_227'; format = 'E'; unit = 'Jy/beam'\n",
       "    name = 'local_rms_227'; format = 'E'; unit = 'Jy/beam'\n",
       "    name = 'peak_flux_227'; format = 'E'; unit = 'Jy/beam'\n",
       "    name = 'err_peak_flux_227'; format = 'E'; unit = 'Jy/beam'\n",
       "    name = 'int_flux_227'; format = 'E'; unit = 'Jy'\n",
       "    name = 'err_int_flux_227'; format = 'E'; unit = 'Jy'\n",
       "    name = 'a_227'; format = 'E'; unit = 'arcsec'\n",
       "    name = 'b_227'; format = 'E'; unit = 'arcsec'\n",
       "    name = 'pa_227'; format = 'E'; unit = 'degree'\n",
       "    name = 'residual_mean_227'; format = 'E'; unit = 'Jy/beam'\n",
       "    name = 'residual_std_227'; format = 'E'; unit = 'Jy/beam'\n",
       "    name = 'psf_a_227'; format = 'E'; unit = 'arcsec'\n",
       "    name = 'psf_b_227'; format = 'E'; unit = 'arcsec'\n",
       "    name = 'psf_pa_227'; format = 'E'; unit = 'deg'\n",
       "    name = 'alpha'; format = 'E'\n",
       "    name = 'err_alpha'; format = 'E'\n",
       "    name = 'reduced_chi2'; format = 'E'\n",
       "    name = 'int_flux_fit_200'; format = 'D'; unit = 'Jy'\n",
       "    name = 'err_int_flux_fit_200'; format = 'D'; unit = 'Jy'\n",
       ")"
      ]
     },
     "execution_count": 106,
     "metadata": {},
     "output_type": "execute_result"
    }
   ],
   "source": [
    "gleamdata_alpha_select_2.columns"
   ]
  },
  {
   "cell_type": "markdown",
   "metadata": {},
   "source": [
    "## gleamX"
   ]
  },
  {
   "cell_type": "code",
   "execution_count": 108,
   "metadata": {
    "ExecuteTime": {
     "end_time": "2020-04-26T08:34:22.221052Z",
     "start_time": "2020-04-26T08:34:22.211211Z"
    },
    "collapsed": false
   },
   "outputs": [],
   "source": [
    "gleamX = np.empty((len(gleamdata_alpha_select_2), 2), dtype=np.float64)\n",
    "gleamX[:, 0] = gleamdata_alpha_select_2['RAJ2000']\n",
    "gleamX[:, 1] = gleamdata_alpha_select_2['DEJ2000']"
   ]
  },
  {
   "cell_type": "code",
   "execution_count": 127,
   "metadata": {
    "ExecuteTime": {
     "end_time": "2020-04-26T14:12:02.696740Z",
     "start_time": "2020-04-26T14:12:02.320781Z"
    },
    "collapsed": true
   },
   "outputs": [],
   "source": [
    "# crossmatch catalogs\n",
    "max_radius = 1. / 3600  # 1 arcsec\n",
    "dist, ind = crossmatch_angular(gleamX, imX, max_radius)\n",
    "match = ~np.isinf(dist)\n",
    "\n",
    "dist_match = dist[match]\n",
    "dist_match *= 3600"
   ]
  },
  {
   "cell_type": "code",
   "execution_count": 128,
   "metadata": {
    "ExecuteTime": {
     "end_time": "2020-04-26T14:12:05.533277Z",
     "start_time": "2020-04-26T14:12:05.525344Z"
    },
    "collapsed": false
   },
   "outputs": [
    {
     "data": {
      "text/plain": [
       "array([], dtype=float64)"
      ]
     },
     "execution_count": 128,
     "metadata": {},
     "output_type": "execute_result"
    }
   ],
   "source": [
    "dist_match"
   ]
  },
  {
   "cell_type": "code",
   "execution_count": 135,
   "metadata": {
    "ExecuteTime": {
     "end_time": "2020-04-26T14:19:14.765268Z",
     "start_time": "2020-04-26T14:19:14.760397Z"
    },
    "collapsed": true
   },
   "outputs": [],
   "source": []
  },
  {
   "cell_type": "markdown",
   "metadata": {},
   "source": [
    "## SDSS Stripe 82 standard stars data"
   ]
  },
  {
   "cell_type": "code",
   "execution_count": null,
   "metadata": {
    "collapsed": true
   },
   "outputs": [],
   "source": [
    "# crossmatch catalogs\n",
    "max_radius = 1. / 3600  # 1 arcsec\n",
    "dist, ind = crossmatch_angular(gleamX, stX, max_radius)\n",
    "match = ~np.isinf(dist)\n",
    "\n",
    "dist_match = dist[match]\n",
    "dist_match *= 3600"
   ]
  },
  {
   "cell_type": "markdown",
   "metadata": {},
   "source": [
    "### RA hist"
   ]
  },
  {
   "cell_type": "code",
   "execution_count": 120,
   "metadata": {
    "ExecuteTime": {
     "end_time": "2020-04-26T14:04:32.341024Z",
     "start_time": "2020-04-26T14:04:31.748190Z"
    },
    "collapsed": false
   },
   "outputs": [
    {
     "data": {
      "text/plain": [
       "(array([28., 36., 26., 16., 36., 12., 20., 10., 41., 19.]),\n",
       " array([1.93020448e-01, 3.57785005e+01, 7.13639806e+01, 1.06949461e+02,\n",
       "        1.42534941e+02, 1.78120421e+02, 2.13705901e+02, 2.49291381e+02,\n",
       "        2.84876861e+02, 3.20462341e+02, 3.56047821e+02]),\n",
       " <a list of 10 Patch objects>)"
      ]
     },
     "execution_count": 120,
     "metadata": {},
     "output_type": "execute_result"
    },
    {
     "data": {
      "image/png": "[encoded data removed]",
      "text/plain": [
       "<Figure size 432x288 with 1 Axes>"
      ]
     },
     "metadata": {},
     "output_type": "display_data"
    }
   ],
   "source": [
    "plt.hist(gleamX[:, 0])"
   ]
  },
  {
   "cell_type": "code",
   "execution_count": 121,
   "metadata": {
    "ExecuteTime": {
     "end_time": "2020-04-26T14:04:47.409016Z",
     "start_time": "2020-04-26T14:04:47.071832Z"
    },
    "collapsed": false
   },
   "outputs": [
    {
     "data": {
      "text/plain": [
       "(array([32738., 32778., 30774., 31411., 31207., 35933., 34219., 35149.,\n",
       "        32798., 33746.]),\n",
       " array([2.0000000e-06, 1.0000011e+00, 2.0000002e+00, 2.9999993e+00,\n",
       "        3.9999984e+00, 4.9999975e+00, 5.9999966e+00, 6.9999957e+00,\n",
       "        7.9999948e+00, 8.9999939e+00, 9.9999930e+00]),\n",
       " <a list of 10 Patch objects>)"
      ]
     },
     "execution_count": 121,
     "metadata": {},
     "output_type": "execute_result"
    },
    {
     "data": {
      "image/png": "[encoded data removed]",
      "text/plain": [
       "<Figure size 432x288 with 1 Axes>"
      ]
     },
     "metadata": {},
     "output_type": "display_data"
    }
   ],
   "source": [
    "plt.hist(imX[:, 0])"
   ]
  },
  {
   "cell_type": "code",
   "execution_count": 122,
   "metadata": {
    "ExecuteTime": {
     "end_time": "2020-04-26T14:05:30.395199Z",
     "start_time": "2020-04-26T14:05:29.985320Z"
    },
    "collapsed": false
   },
   "outputs": [
    {
     "data": {
      "text/plain": [
       "(array([182573., 142533.,      0.,      0.,      0.,      0.,      0.,\n",
       "             0., 344818., 336925.]),\n",
       " array([2.01000000e-04, 3.60001656e+01, 7.20001303e+01, 1.08000095e+02,\n",
       "        1.44000060e+02, 1.80000024e+02, 2.15999989e+02, 2.51999953e+02,\n",
       "        2.87999918e+02, 3.23999883e+02, 3.59999847e+02]),\n",
       " <a list of 10 Patch objects>)"
      ]
     },
     "execution_count": 122,
     "metadata": {},
     "output_type": "execute_result"
    },
    {
     "data": {
      "image/png": "[encoded data removed]",
      "text/plain": [
       "<Figure size 432x288 with 1 Axes>"
      ]
     },
     "metadata": {},
     "output_type": "display_data"
    }
   ],
   "source": [
    "plt.hist(stX[:, 0])"
   ]
  },
  {
   "cell_type": "code",
   "execution_count": 119,
   "metadata": {
    "ExecuteTime": {
     "end_time": "2020-04-26T08:45:16.692209Z",
     "start_time": "2020-04-26T08:45:16.677986Z"
    },
    "collapsed": false
   },
   "outputs": [
    {
     "data": {
      "text/plain": [
       "(array([323.72918701, 349.3913269 , 324.17333984, 316.2208252 ,\n",
       "        333.95874023]),\n",
       " array([0.358174, 0.358382, 0.357898, ..., 3.836565, 3.847469, 3.846871]))"
      ]
     },
     "execution_count": 119,
     "metadata": {},
     "output_type": "execute_result"
    }
   ],
   "source": [
    "gleamX[:, 0][:5],imX[:,0][:-5]"
   ]
  },
  {
   "cell_type": "code",
   "execution_count": null,
   "metadata": {
    "collapsed": true
   },
   "outputs": [],
   "source": []
  },
  {
   "cell_type": "code",
   "execution_count": null,
   "metadata": {
    "collapsed": true
   },
   "outputs": [],
   "source": []
  },
  {
   "cell_type": "code",
   "execution_count": null,
   "metadata": {
    "collapsed": true
   },
   "outputs": [],
   "source": []
  },
  {
   "cell_type": "code",
   "execution_count": null,
   "metadata": {
    "collapsed": true
   },
   "outputs": [],
   "source": []
  },
  {
   "cell_type": "code",
   "execution_count": null,
   "metadata": {
    "collapsed": true
   },
   "outputs": [],
   "source": [
    "gleam.close()"
   ]
  },
  {
   "cell_type": "code",
   "execution_count": null,
   "metadata": {
    "collapsed": true
   },
   "outputs": [],
   "source": []
  },
  {
   "cell_type": "markdown",
   "metadata": {},
   "source": [
    "# the AT20G Bright Source Sample (BSS) catalogue"
   ]
  },
  {
   "cell_type": "markdown",
   "metadata": {
    "ExecuteTime": {
     "end_time": "2020-04-26T15:08:26.220449Z",
     "start_time": "2020-04-26T15:08:26.146002Z"
    }
   },
   "source": [
    "one from a radio survey,   \n",
    "J/MNRAS/384/775 Australia Telescope 20-GHz Survey. BSS (Massardi+, 2008)"
   ]
  },
  {
   "cell_type": "markdown",
   "metadata": {},
   "source": [
    "#  the SuperCOSMOS all-sky galaxy catalogue.\n",
    "\n",
    "http://ssa.roe.ac.uk/allSky"
   ]
  },
  {
   "cell_type": "markdown",
   "metadata": {},
   "source": [
    "an optical survey"
   ]
  },
  {
   "cell_type": "markdown",
   "metadata": {},
   "source": [
    "All-sky Galaxy catalogue\n",
    "The purpose of this page is to make directly available the SuperCOSMOS all-sky galaxy catalogue, generated from scans of the UKST and POSS2 photographic Schmidt surveys and described in Peacock et al. (2016). This optical material was matched with WISE to produce the WISExSCOS photometric redshift catalogue.\n",
    "What is released\n",
    "\n",
    "A table of objects to optical limits of B<21.5, R<20; \n",
    "this is deeper than the limits adopted in the WISExSCOS work, allowing users to vary the limit if desired. The columns are objID, ra, dec, Bmag, Bcal, Bcc, Rmag, Rcal, Rcc, Imag, Ical, Icc, Ebmv. The various magnitudes are observed (mag), adjusted for the slight hemispheric offset between photometric systems as described in Peacock et al. (cal); further corrected for extinction (cc).\n",
    "An additional table of objects that fill holes in the sky coverage left by calibration stepwedges on the plates. Mainly affecting POSS2 scans, these regions are omitted in the standard SSA database, although they can be accessed from the original SuperCOSMOS scans by using regions from an adjoining plate beyond the default central 5 x 5 degrees. The data in these regions is lower in quality, so we include only objects that paired up with WISE. The full SuperCOSMOS all-sky catalogue should be considered to consist of the main table plus these additional objects.\n",
    "A table of calibration properties for the photographic plates that are the basis for the catalogue. Columns are Field number, B-band linearity, zero point, slump coefficient (and same for R & I); the three coefficients are defined in equations 9 & 11 of Peacock et al. (2016). The plate-centre positions of the UKST and POSS2 plates are listed in http://www.roe.ac.uk/ifa/wfau/ukstu/ukstf.html and http://www.roe.ac.uk/ifa/wfau/ukstu/possf.html. The POSS2 field numbers have been increased by 1000, in order to have a unique number over the whole sky. This information may be used if desired to mask out plates of lower depth as diagnosed by the zero point."
   ]
  },
  {
   "cell_type": "code",
   "execution_count": 146,
   "metadata": {
    "ExecuteTime": {
     "end_time": "2020-04-26T15:21:32.988958Z",
     "start_time": "2020-04-26T15:21:32.945009Z"
    },
    "collapsed": true
   },
   "outputs": [],
   "source": [
    "def hms2dec(hours, minutes, seconds):\n",
    "    result = 15 * (hours + minutes/60 + seconds/(60*60))\n",
    "    return result\n",
    "\n",
    "\n",
    "def dms2dec(degrees, arcminutes, arcseconds):\n",
    "    if(degrees > 0):\n",
    "        result = degrees + arcminutes/60 + arcseconds/(60*60)\n",
    "    else:\n",
    "        positive_degrees = degrees * -1\n",
    "        result = -1 * (positive_degrees + arcminutes/60 + arcseconds/(60*60))\n",
    "\n",
    "    return result\n",
    "\n",
    "def import_bss():\n",
    "    # Import file\n",
    "    cat = np.loadtxt('/Users/brettlv/Downloads/mwa_paper/sample_cross_match/agn-cross-matching/data/bss.dat', usecols=range(1, 7))\n",
    "    coordinates = []\n",
    "\n",
    "    for index, row in enumerate(cat):\n",
    "        ascention = hms2dec(row[0], row[1], row[2])\n",
    "        declination = dms2dec(row[3], row[4], row[5])\n",
    "\n",
    "        coordinates.append((index + 1, ascention, declination))\n",
    "\n",
    "    return coordinates\n",
    "\n",
    "\n",
    "def import_super():\n",
    "    # Import file\n",
    "    cat = np.loadtxt('/Users/brettlv/Downloads/mwa_paper/sample_cross_match/agn-cross-matching/data/super.csv', delimiter=',', skiprows=1, usecols=[0, 1])\n",
    "    coordinates = []\n",
    "\n",
    "    for index, row in enumerate(cat):\n",
    "        coordinates.append((index + 1, row[0], row[1]))\n",
    "\n",
    "    # Add index column\n",
    "    return coordinates"
   ]
  },
  {
   "cell_type": "code",
   "execution_count": 147,
   "metadata": {
    "ExecuteTime": {
     "end_time": "2020-04-26T15:21:33.864986Z",
     "start_time": "2020-04-26T15:21:33.832128Z"
    },
    "collapsed": false
   },
   "outputs": [],
   "source": [
    "bss_cat = import_bss()\n",
    "super_cat = import_super()"
   ]
  },
  {
   "cell_type": "code",
   "execution_count": 158,
   "metadata": {
    "ExecuteTime": {
     "end_time": "2020-04-26T15:23:13.946904Z",
     "start_time": "2020-04-26T15:23:13.941154Z"
    },
    "collapsed": false
   },
   "outputs": [],
   "source": [
    "bss_cat=np.array(bss_cat)\n",
    "super_cat=np.array(super_cat)"
   ]
  },
  {
   "cell_type": "code",
   "execution_count": 165,
   "metadata": {
    "ExecuteTime": {
     "end_time": "2020-04-26T15:25:03.098979Z",
     "start_time": "2020-04-26T15:25:03.093240Z"
    },
    "collapsed": false
   },
   "outputs": [
    {
     "data": {
      "text/plain": [
       "160"
      ]
     },
     "execution_count": 165,
     "metadata": {},
     "output_type": "execute_result"
    }
   ],
   "source": [
    "len(bss_cat)"
   ]
  },
  {
   "cell_type": "markdown",
   "metadata": {},
   "source": [
    "## cross-match-bss-super"
   ]
  },
  {
   "cell_type": "code",
   "execution_count": 167,
   "metadata": {
    "ExecuteTime": {
     "end_time": "2020-04-26T15:26:30.344386Z",
     "start_time": "2020-04-26T15:26:30.326659Z"
    },
    "collapsed": true
   },
   "outputs": [],
   "source": [
    "bssX = np.empty((len(bss_cat), 2), dtype=np.float64)\n",
    "bssX[:, 0] = bss_cat[:,1]\n",
    "bssX[:, 1] = bss_cat[:,2]\n",
    "\n",
    "superX = np.empty((len(super_cat), 2), dtype=np.float64)\n",
    "superX[:, 0] = super_cat[:,1]\n",
    "superX[:, 1] = super_cat[:,2]"
   ]
  },
  {
   "cell_type": "code",
   "execution_count": 174,
   "metadata": {
    "ExecuteTime": {
     "end_time": "2020-04-26T15:29:43.391009Z",
     "start_time": "2020-04-26T15:29:43.384126Z"
    },
    "collapsed": true
   },
   "outputs": [],
   "source": [
    "# crossmatch catalogs\n",
    "max_radius = 40. / 3600  # 40 arcsec\n",
    "dist, ind = crossmatch_angular(bssX, superX, max_radius)\n",
    "match = ~np.isinf(dist)# '~np.isinf' vs 'np.isinf'\n",
    "\n",
    "dist_match = dist[match]\n",
    "dist_match *= 3600 #convert to arcsec"
   ]
  },
  {
   "cell_type": "code",
   "execution_count": 179,
   "metadata": {
    "ExecuteTime": {
     "end_time": "2020-04-26T15:34:21.045185Z",
     "start_time": "2020-04-26T15:34:21.021217Z"
    },
    "collapsed": false
   },
   "outputs": [
    {
     "data": {
      "text/plain": [
       "(160, 500)"
      ]
     },
     "execution_count": 179,
     "metadata": {},
     "output_type": "execute_result"
    }
   ],
   "source": [
    "len(bss_cat),len(super_cat)"
   ]
  },
  {
   "cell_type": "code",
   "execution_count": 178,
   "metadata": {
    "ExecuteTime": {
     "end_time": "2020-04-26T15:30:02.167147Z",
     "start_time": "2020-04-26T15:30:01.920511Z"
    },
    "collapsed": false
   },
   "outputs": [
    {
     "data": {
      "image/png": "[encoded data removed]",
      "text/plain": [
       "<Figure size 432x288 with 1 Axes>"
      ]
     },
     "metadata": {},
     "output_type": "display_data"
    }
   ],
   "source": [
    "ax = plt.axes()\n",
    "hist(dist_match, bins='knuth', ax=ax,\n",
    "     histtype='stepfilled', ec='k', fc='#AAAAAA')\n",
    "ax.set_xlabel('radius of match (arcsec)')\n",
    "ax.set_ylabel('N(r, r+dr)')\n",
    "ax.text(0.95, 0.95,\n",
    "        \"Total objects: %i\\nNumber with match: %i\" % (bssX.shape[0],\n",
    "                                                      np.sum(match)),\n",
    "        ha='right', va='top', transform=ax.transAxes)\n",
    "ax.set_xlim(0, 30)\n",
    "\n",
    "plt.show()"
   ]
  },
  {
   "cell_type": "markdown",
   "metadata": {},
   "source": [
    "## bss-gleam"
   ]
  },
  {
   "cell_type": "code",
   "execution_count": 185,
   "metadata": {
    "ExecuteTime": {
     "end_time": "2020-04-26T15:43:13.094232Z",
     "start_time": "2020-04-26T15:43:12.844019Z"
    },
    "collapsed": false
   },
   "outputs": [
    {
     "data": {
      "text/plain": [
       "(array([ 5.,  5.,  9., 15., 13., 19., 17., 21., 28., 28.]),\n",
       " array([-83.73630556, -76.93280556, -70.12930556, -63.32580556,\n",
       "        -56.52230556, -49.71880556, -42.91530556, -36.11180556,\n",
       "        -29.30830556, -22.50480556, -15.70130556]),\n",
       " <a list of 10 Patch objects>)"
      ]
     },
     "execution_count": 185,
     "metadata": {},
     "output_type": "execute_result"
    },
    {
     "data": {
      "image/png": "[encoded data removed]",
      "text/plain": [
       "<Figure size 432x288 with 1 Axes>"
      ]
     },
     "metadata": {},
     "output_type": "display_data"
    }
   ],
   "source": [
    "plt.hist(bssX[:,1])"
   ]
  },
  {
   "cell_type": "code",
   "execution_count": 184,
   "metadata": {
    "ExecuteTime": {
     "end_time": "2020-04-26T15:43:06.600879Z",
     "start_time": "2020-04-26T15:43:06.341959Z"
    },
    "collapsed": false
   },
   "outputs": [
    {
     "data": {
      "text/plain": [
       "(array([ 5.,  6., 25., 24., 47., 47., 24., 34., 19., 13.]),\n",
       " array([-82.30702972, -71.22616882, -60.14530792, -49.06444702,\n",
       "        -37.98358612, -26.90272522, -15.82186432,  -4.74100342,\n",
       "          6.33985748,  17.42071838,  28.50157928]),\n",
       " <a list of 10 Patch objects>)"
      ]
     },
     "execution_count": 184,
     "metadata": {},
     "output_type": "execute_result"
    },
    {
     "data": {
      "image/png": "[encoded data removed]",
      "text/plain": [
       "<Figure size 432x288 with 1 Axes>"
      ]
     },
     "metadata": {},
     "output_type": "display_data"
    }
   ],
   "source": [
    "plt.hist(gleamX[:,1])"
   ]
  },
  {
   "cell_type": "code",
   "execution_count": 187,
   "metadata": {
    "ExecuteTime": {
     "end_time": "2020-04-26T15:43:38.212423Z",
     "start_time": "2020-04-26T15:43:37.948597Z"
    },
    "collapsed": false
   },
   "outputs": [
    {
     "data": {
      "image/png": "[encoded data removed]",
      "text/plain": [
       "<Figure size 432x288 with 1 Axes>"
      ]
     },
     "metadata": {},
     "output_type": "display_data"
    }
   ],
   "source": [
    "# crossmatch catalogs\n",
    "max_radius = 3600. / 3600  # 40 arcsec\n",
    "dist, ind = crossmatch_angular(bssX, gleamX, max_radius)\n",
    "match = ~np.isinf(dist)# '~np.isinf' vs 'np.isinf'\n",
    "\n",
    "dist_match = dist[match]\n",
    "dist_match *= 3600 #convert to arcsec\n",
    "\n",
    "ax = plt.axes()\n",
    "hist(dist_match, bins='knuth', ax=ax,\n",
    "     histtype='stepfilled', ec='k', fc='#AAAAAA')\n",
    "ax.set_xlabel('radius of match (arcsec)')\n",
    "ax.set_ylabel('N(r, r+dr)')\n",
    "ax.text(0.95, 0.95,\n",
    "        \"Total objects: %i\\nNumber with match: %i\" % (bssX.shape[0],\n",
    "                                                      np.sum(match)),\n",
    "        ha='right', va='top', transform=ax.transAxes)\n",
    "ax.set_xlim(0, 3600)\n",
    "\n",
    "plt.show()"
   ]
  },
  {
   "cell_type": "code",
   "execution_count": null,
   "metadata": {
    "collapsed": true
   },
   "outputs": [],
   "source": []
  },
  {
   "cell_type": "markdown",
   "metadata": {},
   "source": [
    "# SPITZER, GALEX, and GMRT mission catalogs\n",
    "\n",
    "Python codes to implement multi-wavelength cross-matching of CSV data files of SPITZER, GALEX, and GMRT mission catalogs to create a master catalog"
   ]
  },
  {
   "cell_type": "markdown",
   "metadata": {},
   "source": [
    "# The remnant radio galaxy associated with NGC 1534"
   ]
  },
  {
   "cell_type": "code",
   "execution_count": null,
   "metadata": {
    "collapsed": true
   },
   "outputs": [],
   "source": [
    "https://arxiv.org/pdf/1806.09255.pdf"
   ]
  },
  {
   "cell_type": "code",
   "execution_count": null,
   "metadata": {
    "collapsed": true
   },
   "outputs": [],
   "source": []
  },
  {
   "cell_type": "markdown",
   "metadata": {},
   "source": [
    "# LAT 8-year Source Catalog (4FGL)"
   ]
  },
  {
   "cell_type": "code",
   "execution_count": 188,
   "metadata": {
    "ExecuteTime": {
     "end_time": "2020-04-27T18:58:12.063171Z",
     "start_time": "2020-04-27T18:58:11.903512Z"
    },
    "collapsed": true
   },
   "outputs": [],
   "source": [
    "FGL_4=fits.open('/Users/brettlv/Downloads/mwa_paper/gll_psc_v21.fit')"
   ]
  },
  {
   "cell_type": "code",
   "execution_count": 189,
   "metadata": {
    "ExecuteTime": {
     "end_time": "2020-04-27T18:58:18.158248Z",
     "start_time": "2020-04-27T18:58:18.000466Z"
    },
    "collapsed": false
   },
   "outputs": [
    {
     "name": "stdout",
     "output_type": "stream",
     "text": [
      "Filename: /Users/brettlv/Downloads/mwa_paper/gll_psc_v21.fit\n",
      "No.    Name      Ver    Type      Cards   Dimensions   Format\n",
      "  0  PRIMARY       1 PrimaryHDU      24   ()      \n",
      "  1  LAT_Point_Source_Catalog    1 BinTableHDU    477   5065R x 84C   [18A, E, E, E, E, E, E, E, E, E, E, I, 18A, E, E, E, E, E, E, 17A, E, E, E, E, E, E, E, E, E, E, E, E, E, E, E, E, E, E, E, E, E, 7E, 14E, 7E, 7E, E, E, E, E, E, E, D, E, 8E, 16E, 8E, E, E, E, E, E, E, D, E, 48E, 96E, 48E, 18A, 18A, 18A, 18A, 18A, A, 30A, 5A, 10A, 28A, 30A, E, E, D, D, E, I]   \n",
      "  2  ExtendedSources    1 BinTableHDU     74   75R x 11C   [17A, E, E, E, E, 11A, E, E, E, 11A, 24A]   \n",
      "  3  ROIs          1 BinTableHDU    119   1748R x 12C   [I, E, E, E, E, E, E, E, E, E, E, E]   \n",
      "  4  Components    1 BinTableHDU     53   15R x 9C   [E, E, I, I, E, E, E, I, I]   \n",
      "  5  EnergyBounds    1 BinTableHDU     77   19R x 10C   [E, E, E, I, I, E, E, E, I, I]   \n",
      "  6  Hist_Start    1 BinTableHDU     43   9R x 1C   [D]   \n",
      "  7  Hist2_Start    1 BinTableHDU     43   49R x 1C   [D]   \n",
      "  8  GTI           1 BinTableHDU     39   46969R x 2C   [D, D]   \n"
     ]
    }
   ],
   "source": [
    "FGL_4.info()"
   ]
  },
  {
   "cell_type": "markdown",
   "metadata": {
    "ExecuteTime": {
     "end_time": "2020-04-29T21:10:37.529655Z",
     "start_time": "2020-04-29T21:10:37.495314Z"
    }
   },
   "source": [
    "FGL_4[1].data.columns"
   ]
  },
  {
   "cell_type": "markdown",
   "metadata": {
    "ExecuteTime": {
     "end_time": "2020-04-27T18:59:25.529216Z",
     "start_time": "2020-04-27T18:59:25.516917Z"
    }
   },
   "source": [
    "FGL_4[2].header,FGL_4[2].data.columns"
   ]
  },
  {
   "cell_type": "code",
   "execution_count": null,
   "metadata": {
    "collapsed": true
   },
   "outputs": [],
   "source": [
    "name = 'Source_Name'; format = '18A'\n",
    "name = 'RAJ2000'; format = 'E'; unit = 'deg'; disp = 'F8.4'\n",
    "name = 'DEJ2000'; format = 'E'; unit = 'deg'; disp = 'F8.4'"
   ]
  },
  {
   "cell_type": "markdown",
   "metadata": {},
   "source": [
    "## FGL_4X "
   ]
  },
  {
   "cell_type": "code",
   "execution_count": 209,
   "metadata": {
    "ExecuteTime": {
     "end_time": "2020-04-29T21:17:51.663752Z",
     "start_time": "2020-04-29T21:17:49.616065Z"
    },
    "collapsed": false
   },
   "outputs": [],
   "source": [
    "FGL_4X = np.empty((len(FGL_4[1].data), 2), dtype=np.float64)#LAT_Point_Source_Catalog\n",
    "FGL_4X[:, 0] = FGL_4[1].data['RAJ2000']\n",
    "FGL_4X[:, 1] = FGL_4[1].data['DEJ2000']\n",
    "\n",
    "gleamALLX = np.empty((len(gleamdata), 2), dtype=np.float64)\n",
    "gleamALLX[:, 0] = gleamdata['RAJ2000']\n",
    "gleamALLX[:, 1] = gleamdata['DEJ2000']"
   ]
  },
  {
   "cell_type": "markdown",
   "metadata": {},
   "source": [
    "## FGL-gleam cross"
   ]
  },
  {
   "cell_type": "code",
   "execution_count": 227,
   "metadata": {
    "ExecuteTime": {
     "end_time": "2020-04-29T21:23:29.372095Z",
     "start_time": "2020-04-29T21:23:29.367134Z"
    },
    "collapsed": false
   },
   "outputs": [
    {
     "data": {
      "text/plain": [
       "5065"
      ]
     },
     "execution_count": 227,
     "metadata": {},
     "output_type": "execute_result"
    }
   ],
   "source": [
    "len(FGL_4[1].data)"
   ]
  },
  {
   "cell_type": "code",
   "execution_count": 237,
   "metadata": {
    "ExecuteTime": {
     "end_time": "2020-04-29T21:28:52.523747Z",
     "start_time": "2020-04-29T21:28:51.478690Z"
    },
    "collapsed": false
   },
   "outputs": [
    {
     "data": {
      "image/png": "[encoded data removed]",
      "text/plain": [
       "<Figure size 432x288 with 1 Axes>"
      ]
     },
     "metadata": {},
     "output_type": "display_data"
    }
   ],
   "source": [
    "# crossmatch catalogs\n",
    "\n",
    "max_radius = 60 / 3600  # 60 arcsec\n",
    "dist, ind = crossmatch_angular(FGL_4X,gleamALLX, max_radius)\n",
    "match = ~np.isinf(dist)# '~np.isinf' vs 'np.isinf'\n",
    "\n",
    "dist_match = dist[match]\n",
    "dist_match *= 3600 #convert to arcsec\n",
    "\n",
    "\n",
    "ax = plt.axes()\n",
    "hist(dist_match, bins='knuth', ax=ax,\n",
    "     histtype='stepfilled', ec='k', fc='#AAAAAA')\n",
    "ax.set_xlabel('radius of match (arcsec)')\n",
    "ax.set_ylabel('N(r, r+dr)')\n",
    "ax.text(0.95, 0.65,\n",
    "        \"Total objects: %i\\nNumber with match: %i\" % (FGL_4X.shape[0],\n",
    "                                                      np.sum(match)),\n",
    "        ha='right', va='top', transform=ax.transAxes)\n",
    "ax.set_xlim(0, 60)\n",
    "plt.title('crossmatch of gleam and 4FGL')\n",
    "plt.savefig('/Users/brettlv/Downloads/cross-match_of_gleam_and_4FGL.png',dpi=300)\n",
    "plt.show()"
   ]
  },
  {
   "cell_type": "code",
   "execution_count": 229,
   "metadata": {
    "ExecuteTime": {
     "end_time": "2020-04-29T21:24:03.780656Z",
     "start_time": "2020-04-29T21:24:03.776016Z"
    },
    "collapsed": false
   },
   "outputs": [
    {
     "data": {
      "text/plain": [
       "5065"
      ]
     },
     "execution_count": 229,
     "metadata": {},
     "output_type": "execute_result"
    }
   ],
   "source": [
    "len(match)"
   ]
  },
  {
   "cell_type": "code",
   "execution_count": 230,
   "metadata": {
    "ExecuteTime": {
     "end_time": "2020-04-29T21:24:06.591120Z",
     "start_time": "2020-04-29T21:24:06.585980Z"
    },
    "collapsed": false
   },
   "outputs": [],
   "source": [
    "FGL_4Xsourecename=FGL_4[1].data['Source_Name']\n",
    "\n",
    "matchname=FGL_4Xsourecename[match]\n",
    "matchra=FGL_4[1].data['RAJ2000'][match]\n",
    "matchdec=FGL_4[1].data['DEJ2000'][match]"
   ]
  },
  {
   "cell_type": "code",
   "execution_count": 233,
   "metadata": {
    "ExecuteTime": {
     "end_time": "2020-04-29T21:25:57.366618Z",
     "start_time": "2020-04-29T21:25:57.125751Z"
    },
    "collapsed": false
   },
   "outputs": [
    {
     "name": "stdout",
     "output_type": "stream",
     "text": [
      "4FGL J0001.5+2113 0.3815 21.2183 29.98785226987956\n",
      "4FGL J0009.8-4317 2.4533 -43.2979 49.36134820679828\n",
      "4FGL J0013.9-1854 3.4804 -18.9118 45.94455768861641\n",
      "4FGL J0014.2+0854 3.5695 8.9114 58.82200577689135\n",
      "4FGL J0019.3-8152 4.8327 -81.8798 8.063410693218586\n",
      "4FGL J0019.6+2022 4.907 20.3755 49.898943819987636\n",
      "4FGL J0022.5+0608 5.6376 6.1343 19.182290383102206\n",
      "4FGL J0026.6-4600 6.6521 -46.0156 12.266172121091847\n",
      "4FGL J0033.5-1921 8.3954 -19.3593 37.94120154355769\n",
      "4FGL J0034.0-4116 8.5142 -41.2708 15.708184758104695\n",
      "4FGL J0034.3-0534 8.5961 -5.5809 28.407295009688514\n",
      "4FGL J0038.1+0012 9.5394 0.2118 50.49221088477483\n",
      "4FGL J0038.2-2459 9.5652 -24.9899 31.192947332957825\n",
      "4FGL J0039.1-2219 9.7782 -22.3276 26.224402252707126\n",
      "4FGL J0040.4-2340 10.1012 -23.6704 23.985058865428492\n",
      "4FGL J0045.1-3706 11.2936 -37.1065 37.09341447993075\n",
      "4FGL J0045.3+2128 11.3396 21.4668 48.03924166506121\n",
      "4FGL J0045.7+1217 11.4309 12.292 18.30579604109755\n",
      "4FGL J0047.5-2517 11.8978 -25.29 34.29844467107718\n",
      "4FGL J0049.7+0237 12.4377 2.6273 46.38852658069005\n",
      "4FGL J0050.7-0929 12.6753 -9.4936 33.026844972538726\n",
      "4FGL J0051.2-6242 12.8243 -62.7037 20.400356246683828\n",
      "4FGL J0056.3-0935 14.0874 -9.5997 30.65357714084051\n",
      "4FGL J0058.0-0539 14.5108 -5.655 50.38778208538241\n",
      "4FGL J0058.0-3233 14.5132 -32.5658 25.785805009449373\n",
      "4FGL J0102.7-2001 15.6935 -20.0305 52.95592972617531\n",
      "4FGL J0103.5+1526 15.8786 15.4348 50.764215110339265\n",
      "4FGL J0106.9-4832 16.7437 -48.5347 54.720197322344696\n",
      "4FGL J0108.6+0134 17.1695 1.5819 33.88876568564348\n",
      "4FGL J0109.1+1815 17.2951 18.2647 55.84681385284394\n",
      "4FGL J0110.7-1254 17.6934 -12.9077 41.8606297105551\n",
      "4FGL J0112.1+2245 18.0294 22.7515 29.58675674016902\n",
      "4FGL J0114.8+1326 18.7119 13.4342 34.994548511404986\n",
      "4FGL J0115.6+0356 18.9121 3.947 29.781251727720637\n",
      "4FGL J0118.3-6008 19.5886 -60.1426 47.81904174084132\n",
      "4FGL J0118.9-2141 19.7254 -21.6948 56.12639251483654\n",
      "4FGL J0120.4-2701 20.1227 -27.0229 27.380892157502696\n",
      "4FGL J0132.1-0956 23.0306 -9.9386 58.53784351793126\n",
      "4FGL J0132.7-1654 23.176 -16.9103 18.4774534769606\n",
      "4FGL J0132.7-0804 23.1832 -8.0738 46.980996616683036\n",
      "4FGL J0137.6-2430 24.4069 -24.5163 10.327822238839914\n",
      "4FGL J0138.0+2247 24.5063 22.7962 14.095539469360363\n",
      "4FGL J0139.0+2601 24.7581 26.0298 26.427592861387726\n",
      "4FGL J0141.4-0928 25.3626 -9.4825 13.739528365831957\n",
      "4FGL J0142.7-0543 25.6754 -5.7332 49.29508340055851\n",
      "4FGL J0143.1-3622 25.7856 -36.3674 52.14705904907493\n",
      "4FGL J0143.7-5846 25.948 -58.7718 35.83722147685669\n",
      "4FGL J0144.6+2705 26.1502 27.0899 33.94304568227103\n",
      "4FGL J0152.2+2206 28.0727 22.1133 16.013744637776142\n",
      "4FGL J0153.9+0823 28.4972 8.3931 45.3398367822759\n",
      "4FGL J0156.9-5301 29.2328 -53.0308 15.644798796470463\n",
      "4FGL J0158.5-3932 29.646 -39.5358 36.86526940036113\n",
      "4FGL J0158.8+0101 29.704 1.0247 57.46134957161066\n",
      "4FGL J0159.7-2740 29.9471 -27.6736 57.460376684140975\n",
      "4FGL J0201.1-4347 30.2848 -43.7964 58.55290862802098\n",
      "4FGL J0202.4+0849 30.6187 8.8288 48.59752627968933\n",
      "4FGL J0204.3+2417 31.0946 24.2846 49.216194924230976\n",
      "4FGL J0204.8+1513 31.2182 15.2326 30.173259219452945\n",
      "4FGL J0206.4-1151 31.6018 -11.8576 50.09763522905788\n",
      "4FGL J0209.3-5228 32.3493 -52.4799 38.801841179536176\n",
      "4FGL J0210.7-5101 32.6946 -51.0218 23.888229460719767\n",
      "4FGL J0211.2+1051 32.8091 10.8569 16.365547752993418\n",
      "4FGL J0212.4-3502 33.1142 -35.0489 55.84016515483811\n",
      "4FGL J0215.9+0300 33.9917 3.0044 41.908631704757916\n",
      "4FGL J0217.0-0821 34.2517 -8.3586 50.34381897702931\n",
      "4FGL J0217.2+0837 34.3163 8.6234 25.656749039629457\n",
      "4FGL J0217.8+0144 34.4621 1.7346 59.903098557450924\n",
      "4FGL J0224.0-1850 36.0092 -18.8479 43.904649986478745\n",
      "4FGL J0225.8+1310 36.4654 13.177 3.226709133609835\n",
      "4FGL J0226.5+0938 36.6313 9.6351 52.39574055820083\n",
      "4FGL J0226.6-0553 36.6618 -5.8849 30.60574194637235\n",
      "4FGL J0227.3+0201 36.8296 2.0203 51.66288440269643\n",
      "4FGL J0228.2-3102 37.06 -31.0338 38.246839967470464\n",
      "4FGL J0229.5-3644 37.3877 -36.7388 59.85906150959529\n",
      "4FGL J0231.2-4745 37.8209 -47.7654 53.580362441050404\n",
      "4FGL J0233.5+0654 38.3857 6.9083 46.36164184726914\n",
      "4FGL J0236.8-6136 39.2021 -61.6106 38.18128152748753\n",
      "4FGL J0237.8+2848 39.4737 28.8044 17.337745578354465\n",
      "4FGL J0238.4-3116 39.6209 -31.2828 46.655252900818375\n",
      "4FGL J0238.6+1637 39.668 16.6179 24.136065380780025\n",
      "4FGL J0240.8-3401 40.2025 -34.0177 40.300410221499206\n",
      "4FGL J0242.6-0000 40.667 -0.0069 17.827239858421986\n",
      "4FGL J0243.2-0550 40.8176 -5.8465 51.149066123765266\n",
      "4FGL J0244.6-5819 41.1576 -58.3256 20.8315649828234\n",
      "4FGL J0245.9-4650 41.4966 -46.8463 28.971947950182166\n",
      "4FGL J0250.6+1712 42.6563 17.2081 11.059741794257933\n",
      "4FGL J0252.8-2219 43.2007 -22.3203 7.721547389269718\n",
      "4FGL J0253.2-0124 43.3158 -1.4031 10.276493616079\n",
      "4FGL J0255.8+0534 43.9621 5.5766 53.67072021358161\n",
      "4FGL J0259.4+0746 44.8578 7.7833 41.25603997993976\n",
      "4FGL J0301.6-7155 45.4036 -71.9279 51.81643692311502\n",
      "4FGL J0303.4-2407 45.8625 -24.1225 14.595491631318481\n",
      "4FGL J0303.6-6211 45.9245 -62.1899 59.71021749610576\n",
      "4FGL J0304.5-0054 46.1423 -0.9148 50.228313825617896\n",
      "4FGL J0308.4+0407 47.1105 4.1177 23.005138409949055\n",
      "4FGL J0309.0+1029 47.2617 10.4927 24.29523456501194\n",
      "4FGL J0309.9-6058 47.4921 -60.9733 24.37890974411414\n",
      "4FGL J0312.5-2221 48.1385 -22.3553 35.96032939682716\n",
      "4FGL J0316.2+0905 49.0583 9.0946 55.72403797161494\n",
      "4FGL J0316.2-2608 49.069 -26.1448 39.75159440821461\n",
      "4FGL J0317.8-4414 49.4724 -44.2376 48.51407164311832\n",
      "4FGL J0322.0+2335 50.5021 23.5993 5.842279755632239\n",
      "4FGL J0323.7-0111 50.9387 -1.1903 44.0729018883011\n",
      "4FGL J0324.8-2043 51.2191 -20.7285 24.9021153926138\n",
      "4FGL J0325.5-5635 51.3794 -56.591 26.685775756721277\n",
      "4FGL J0325.9-1843 51.4839 -18.725 44.816037048897655\n",
      "4FGL J0326.2+0225 51.5724 2.4228 47.861048602656794\n",
      "4FGL J0331.3-6156 52.8438 -61.9365 55.24444883783511\n",
      "4FGL J0333.7+2916 53.4468 29.2711 22.56314218705224\n",
      "4FGL J0334.2-3725 53.55565 -37.43274 27.534066152254905\n",
      "4FGL J0334.2-4008 53.5566 -40.145 22.17062055264917\n",
      "4FGL J0339.2-1736 54.8119 -17.6003 18.812991177645376\n",
      "4FGL J0339.5-0146 54.8771 -1.7769 8.330373288039423\n",
      "4FGL J0340.5-2118 55.1477 -21.3158 36.33185452217982\n",
      "4FGL J0348.6-1609 57.1532 -16.1654 41.33994494754473\n",
      "4FGL J0353.0-6831 58.2738 -68.5282 54.360026707573645\n",
      "4FGL J0357.0-4955 59.2608 -49.9326 27.09448071823565\n",
      "4FGL J0401.3+0412 60.3388 4.2119 47.591377478486216\n",
      "4FGL J0402.0-2616 60.5103 -26.273 47.44625091499152\n",
      "4FGL J0403.9-3605 60.975 -36.087 10.698633539236974\n",
      "4FGL J0407.0-3826 61.7627 -38.4394 38.364985525717394\n",
      "4FGL J0416.0-6628 64.0197 -66.4737 26.995136962852786\n",
      "4FGL J0416.9+0105 64.2269 1.088 39.36508792900746\n",
      "4FGL J0420.3-3745 65.0936 -37.7522 49.77796798326223\n",
      "4FGL J0422.1-0644 65.5343 -6.741 57.450255152148166\n",
      "4FGL J0423.3-0120 65.826 -1.3342 45.05607138269204\n",
      "4FGL J0424.7+0036 66.1945 0.6028 10.525104791299709\n",
      "4FGL J0424.9-5331 66.2498 -53.5257 43.929024202459054\n",
      "4FGL J0427.3-3900 66.826 -39.0097 49.52093370812892\n",
      "4FGL J0428.6-3756 67.173 -37.9403 15.154013121693769\n",
      "4FGL J0430.3-2507 67.5751 -25.1283 50.19407807015554\n",
      "4FGL J0433.6-6030 68.4012 -60.5111 33.23092807233263\n",
      "4FGL J0433.6+2905 68.4107 29.0975 20.967769030308233\n",
      "4FGL J0434.1-2014 68.5293 -20.2444 37.638367083036364\n",
      "4FGL J0437.2-4715 69.3136 -47.2545 11.106012498816042\n",
      "4FGL J0439.8-1859 69.9579 -18.9991 57.559868540481396\n",
      "4FGL J0440.3-4333 70.0881 -43.5532 42.0170538171136\n",
      "4FGL J0442.6-0017 70.6612 -0.2961 1.0129906554852501\n",
      "4FGL J0448.6-1632 72.1516 -16.5483 18.863622938780807\n",
      "4FGL J0449.1+1121 72.2823 11.3569 3.599672080570875\n",
      "4FGL J0449.4-4350 72.3582 -43.835 13.660838835800414\n",
      "4FGL J0456.2+2702 74.0673 27.0403 29.52729996588346\n",
      "4FGL J0456.6-3136 74.1558 -31.6151 49.27178418550509\n",
      "4FGL J0457.0-2324 74.2608 -23.4149 9.882845219913055\n",
      "4FGL J0501.2-0158 75.3023 -1.9749 45.0457962559384\n",
      "4FGL J0505.3+0459 76.3431 4.9994 18.23336970531163\n",
      "4FGL J0505.6+0415 76.4042 4.266 36.25481796670572\n",
      "4FGL J0505.6-1558 76.4117 -15.9667 54.0255198921566\n",
      "4FGL J0505.8-0419 76.4598 -4.3182 25.72530070741514\n",
      "4FGL J0507.4-3346 76.8591 -33.7813 25.29917317536052\n",
      "4FGL J0509.4+1012 77.351 10.2008 50.125324760349656\n",
      "4FGL J0509.4+0542 77.3593 5.7014 31.767453273469837\n",
      "4FGL J0510.0+1800 77.5181 18.0135 21.32837569561035\n",
      "4FGL J0516.7-6207 79.1798 -62.1248 29.358595677149722\n",
      "4FGL J0522.9-3628 80.737 -36.4686 41.41018589480584\n",
      "4FGL J0526.2-4830 81.5714 -48.5151 20.2165483558086\n",
      "4FGL J0530.9+1332 82.7364 13.5402 39.08408703271401\n",
      "4FGL J0532.0-4827 83.0022 -48.4607 19.877113852465513\n",
      "4FGL J0532.6+0732 83.172 7.5493 38.62509799924846\n",
      "4FGL J0533.3-5549 83.3313 -55.8247 28.68546042284383\n",
      "4FGL J0536.4-3401 84.1044 -34.0168 37.337685769230404\n",
      "4FGL J0536.4-3343 84.1146 -33.7231 33.426435162760114\n",
      "4FGL J0538.8-4405 84.7089 -44.0862 4.676953526393262\n",
      "4FGL J0541.6-0541 85.414 -5.6974 14.641658771341698\n",
      "4FGL J0542.9-0913 85.7409 -9.2208 36.36307530754568\n",
      "4FGL J0543.9-5531 85.9814 -55.5327 16.009194793535144\n",
      "4FGL J0552.8+0313 88.218 3.2322 46.75570418893942\n",
      "4FGL J0558.0-3837 89.5233 -38.6317 22.06887317070549\n",
      "4FGL J0558.8-7459 89.7236 -74.992 39.112765456874186\n",
      "4FGL J0604.1-4816 91.0477 -48.2797 48.452513921948146\n",
      "4FGL J0606.5-4730 91.6416 -47.5038 27.202569282229963\n",
      "4FGL J0608.0-0835 92.0101 -8.5857 41.081580237187914\n",
      "4FGL J0609.0-2219 92.262 -22.3316 47.99266433268828\n",
      "4FGL J0609.2-0247 92.3114 -2.7954 15.918366171362841\n",
      "4FGL J0612.5-3138 93.128 -31.6381 43.60776563042253\n",
      "4FGL J0615.3-3117 93.8394 -31.2853 28.72269947567166\n",
      "4FGL J0620.7-5034 95.1902 -50.574 34.21412137612205\n",
      "4FGL J0622.3-2605 95.5956 -26.0963 13.380396697887406\n",
      "4FGL J0627.0-3529 96.7747 -35.4867 18.51030651311703\n",
      "4FGL J0629.3-1959 97.3478 -19.9999 42.175195359666546\n",
      "4FGL J0630.9-2406 97.7414 -24.111 22.973162657387185\n",
      "4FGL J0644.4-6712 101.1053 -67.2124 19.902034207609525\n",
      "4FGL J0647.7-6058 101.9314 -60.9781 50.49148239431651\n",
      "4FGL J0650.7+2503 102.6986 25.0548 28.442371043764286\n",
      "4FGL J0658.1-5840 104.5389 -58.6719 46.152551942699766\n",
      "4FGL J0700.5-6610 105.1293 -66.1803 6.32908489122922\n",
      "4FGL J0701.5-4634 105.3906 -46.5729 18.767384338071622\n",
      "4FGL J0713.8+1935 108.4647 19.5879 58.906207317197186\n",
      "4FGL J0718.6-4319 109.6719 -43.3287 33.312183727647145\n",
      "4FGL J0725.2+1425 111.324 14.4212 12.128092991608687\n",
      "4FGL J0730.7-6602 112.6943 -66.0464 39.48385999888061\n",
      "4FGL J0731.9+2805 112.981 28.0882 57.74923217218673\n",
      "4FGL J0733.5-5445 113.3852 -54.7593 25.577152535088068\n",
      "4FGL J0734.3-4448 113.5959 -44.8145 41.38906944738292\n",
      "4FGL J0738.1+1742 114.5387 17.7066 28.220845106413996\n",
      "4FGL J0739.2+0137 114.82 1.6216 21.84924319069401\n",
      "4FGL J0746.6-4754 116.6694 -47.9155 19.902756517990916\n",
      "4FGL J0748.6+2400 117.1638 24.0166 57.892232797004155\n",
      "4FGL J0749.9+1823 117.4853 18.387 47.089123123137036\n",
      "4FGL J0757.1+0956 119.2856 9.9491 54.45833787269298\n",
      "4FGL J0805.2-0110 121.3004 -1.181 45.105766006900886\n",
      "4FGL J0807.1-0541 121.7798 -5.6842 38.85350203254785\n",
      "4FGL J0808.2-0751 122.065 -7.8556 11.008656932217422\n",
      "4FGL J0811.0-7529 122.7513 -75.4982 29.170816078878083\n",
      "4FGL J0811.4+0146 122.861 1.7756 20.270714225886397\n",
      "4FGL J0812.0+0237 123.0094 2.6285 24.168207510429088\n",
      "4FGL J0812.5+0711 123.1443 7.1939 54.019186915878656\n",
      "4FGL J0816.4-1311 124.1123 -13.1973 8.596074782712526\n",
      "4FGL J0820.9-1258 125.244 -12.9747 38.919751169760744\n",
      "4FGL J0821.1+1007 125.2993 10.1287 56.13370152117557\n",
      "4FGL J0825.8+0309 126.4567 3.1656 36.276518167584506\n",
      "4FGL J0827.0-0708 126.7625 -7.1443 38.86781028136143\n",
      "4FGL J0829.6-1140 127.4245 -11.6823 41.99805759905568\n",
      "4FGL J0837.3+1458 129.3461 14.9677 11.915096281082919\n",
      "4FGL J0839.8+0105 129.9633 1.0877 58.4299265988493\n",
      "4FGL J0842.3-6053 130.5979 -60.8919 32.75127985625615\n",
      "4FGL J0847.0-2336 131.7567 -23.6141 8.723733575878505\n",
      "4FGL J0847.2+1134 131.8119 11.5692 31.158876962409465\n",
      "4FGL J0847.9-0702 131.9945 -7.0434 46.3059880575075\n",
      "4FGL J0850.1-1212 132.5412 -12.2121 49.35100722356562\n",
      "4FGL J0854.8+2006 133.7071 20.1159 30.795297994351788\n",
      "4FGL J0856.6-1105 134.1696 -11.0993 12.814256472758933\n",
      "4FGL J0900.7-1243 135.1751 -12.7201 53.240733944294966\n",
      "4FGL J0902.4+2051 135.6172 20.8503 48.3617809702886\n",
      "4FGL J0905.6+1358 136.4017 13.975 34.37648945027083\n",
      "4FGL J0906.3-0905 136.5827 -9.0925 42.17213268412325\n",
      "4FGL J0908.9+2311 137.2412 23.1944 54.82058850371156\n",
      "4FGL J0909.1+0121 137.2967 1.3557 22.09878228589091\n",
      "4FGL J0909.6+0159 137.4222 1.9917 42.20186111228706\n",
      "4FGL J0909.7-0230 137.4464 -2.5143 56.06841442497367\n",
      "4FGL J0910.6+2247 137.6743 22.7978 50.160458415416315\n",
      "4FGL J0915.9+2933 138.9862 29.553 58.65066782256134\n",
      "4FGL J0931.2-8533 142.8176 -85.5626 50.737607583603655\n",
      "4FGL J0940.0-2828 145.0116 -28.4803 46.74276003233308\n",
      "4FGL J0942.3-0800 145.5856 -8.0076 41.26485565641104\n",
      "4FGL J0946.6+1016 146.6613 10.277 59.813034999129066\n",
      "4FGL J0947.1-2541 146.7813 -25.6839 31.474074668876277\n",
      "4FGL J0947.6+2215 146.9042 22.2601 14.540131821362106\n",
      "4FGL J0948.6-0338 147.1741 -3.6432 41.902773849457546\n",
      "4FGL J0948.9+0022 147.2443 0.3717 21.37257659678399\n",
      "4FGL J1006.7-2159 151.6931 -21.991 10.349788390545402\n",
      "4FGL J1008.0+0620 152.0136 6.3475 47.669499541134634\n",
      "4FGL J1008.8-3139 152.2059 -31.6612 40.79684327271155\n",
      "4FGL J1010.2-3119 152.5716 -31.3207 43.126410567076405\n",
      "4FGL J1016.0+0512 154.0093 5.2089 30.103257438211884\n",
      "4FGL J1016.5-2650 154.1403 -26.8434 19.022986866327194\n",
      "4FGL J1024.8+2332 156.2101 23.5462 42.311967380117025\n",
      "4FGL J1027.0-8542 156.7645 -85.7163 35.258877002857965\n",
      "4FGL J1035.3-2050 158.8291 -20.8446 56.4186184277139\n",
      "4FGL J1037.7-2822 159.4274 -28.3816 8.651664670446317\n",
      "4FGL J1050.1+0432 162.5464 4.5377 39.34707615065217\n",
      "4FGL J1052.9-3743 163.2357 -37.7234 16.53919909104941\n",
      "4FGL J1057.3-2341 164.3423 -23.6889 48.76420894128914\n",
      "4FGL J1057.8-2754 164.454 -27.9016 34.85338434910775\n",
      "4FGL J1058.4+0133 164.624 1.5641 3.3047482020682124\n",
      "4FGL J1058.6-8003 164.66 -80.064 42.241096215320184\n",
      "4FGL J1059.2-1134 164.8063 -11.572 17.990256264412306\n",
      "4FGL J1103.0+1157 165.7722 11.9654 32.0216089720186\n",
      "4FGL J1103.6-2329 165.9091 -23.4957 30.835755136777234\n",
      "4FGL J1107.7-3042 166.9327 -30.7153 38.97886105879771\n",
      "4FGL J1116.6+2915 169.1625 29.2586 55.579703188618225\n",
      "4FGL J1117.0+2013 169.2708 20.2294 21.498164240596058\n",
      "4FGL J1121.4-0553 170.3641 -5.8997 32.593870752544426\n",
      "4FGL J1123.4-2529 170.8683 -25.488 43.49776487725022\n",
      "4FGL J1124.0+2336 171.0045 23.6159 27.52193246265443\n",
      "4FGL J1125.1-2101 171.2884 -21.0274 40.54206779552952\n",
      "4FGL J1125.5-3557 171.3929 -35.9581 41.03593036743832\n",
      "4FGL J1125.9+2005 171.4912 20.0912 14.138057750009837\n",
      "4FGL J1127.0-1857 171.7634 -18.964 35.200349968107616\n",
      "4FGL J1130.5-7801 172.6251 -78.0232 25.61915263598168\n",
      "4FGL J1132.7+0034 173.1961 0.5737 16.43227271621029\n",
      "4FGL J1147.0-3812 176.76 -38.2006 17.47023802330868\n",
      "4FGL J1147.8-0724 176.9608 -7.4144 15.886210039199034\n",
      "4FGL J1148.6+1841 177.1542 18.6861 58.783849468767045\n",
      "4FGL J1153.3-1104 178.3476 -11.075 48.03646184407511\n",
      "4FGL J1154.1-3243 178.5423 -32.7189 54.151981366851835\n",
      "4FGL J1159.3-2142 179.8432 -21.7038 23.039684180185137\n",
      "4FGL J1159.5+2914 179.884 29.2448 15.182919959417806\n",
      "4FGL J1201.1-0332 180.2909 -3.5426 30.868980264523106\n",
      "4FGL J1204.2-0709 181.0741 -7.1627 32.22868084648137\n",
      "4FGL J1207.7-0106 181.9276 -1.1063 19.630066241461115\n",
      "4FGL J1211.6-2735 182.9011 -27.5877 56.684504894967205\n",
      "4FGL J1215.1+0731 183.7895 7.5222 50.41105244811178\n",
      "4FGL J1218.5-0119 184.6388 -1.327 36.8908246516243\n",
      "4FGL J1221.5+2814 185.3784 28.2382 18.991427054510748\n",
      "4FGL J1224.7-8313 186.199 -83.2259 23.808352713404663\n",
      "4FGL J1224.9+2122 186.2277 21.3814 8.654152423183259\n",
      "4FGL J1225.6-7313 186.408 -73.2323 19.803971834192264\n",
      "4FGL J1226.7+0637 186.6857 6.628 39.238500935900184\n",
      "4FGL J1229.0+0202 187.2675 2.0454 31.296945057193504\n",
      "4FGL J1231.7+2847 187.9349 28.7917 44.38327895599095\n",
      "4FGL J1238.3-1959 189.5936 -19.9945 40.560314783898114\n",
      "4FGL J1239.5+0443 189.8854 4.7284 44.27188816862763\n",
      "4FGL J1246.7-2548 191.6887 -25.8018 31.909083978431006\n",
      "4FGL J1251.3-0201 192.836 -2.0271 34.52965496620115\n",
      "4FGL J1253.8+0327 193.4531 3.4507 39.004689121934575\n",
      "4FGL J1256.1-0547 194.0415 -5.7887 17.765757874665194\n",
      "4FGL J1256.2-1146 194.0632 -11.7755 18.251637016843148\n",
      "4FGL J1258.6-1759 194.6635 -17.9958 18.49888326089495\n",
      "4FGL J1258.8-2219 194.7172 -22.3257 37.2000973080034\n",
      "4FGL J1259.7-3223 194.9449 -32.3898 20.10598198633653\n",
      "4FGL J1310.2-1158 197.5732 -11.9734 46.019775719523565\n",
      "4FGL J1312.8-0425 198.217 -4.4196 19.584776745097127\n",
      "4FGL J1316.1-3338 199.0252 -33.6365 51.798464034795764\n",
      "4FGL J1322.2+0842 200.551 8.7036 37.26589945410427\n",
      "4FGL J1322.6-1617 200.6738 -16.2904 23.15449117259306\n",
      "4FGL J1332.0-0509 203.0196 -5.1611 1.9714318629431045\n",
      "4FGL J1332.6-1256 203.1543 -12.9436 39.855456985001844\n",
      "4FGL J1337.6-1257 204.424 -12.9517 29.74851756810358\n",
      "4FGL J1339.0-2400 204.7563 -24.0085 40.40406663498972\n",
      "4FGL J1342.7+0505 205.6851 5.0904 55.168649773725676\n",
      "4FGL J1344.2-1723 206.0601 -17.3978 17.237582585867592\n",
      "4FGL J1345.8+0706 206.4648 7.1072 20.683638060486484\n",
      "4FGL J1351.7-2912 207.9425 -29.2106 26.446718646322687\n",
      "4FGL J1404.8+0402 211.2244 4.0352 44.9684695825614\n",
      "4FGL J1406.1-2508 211.5445 -25.1386 16.397056163485058\n",
      "4FGL J1408.9-0751 212.2356 -7.8575 59.837083010871595\n",
      "4FGL J1416.1-2417 214.0334 -24.2982 55.38633605035382\n",
      "4FGL J1419.4-0838 214.86 -8.6417 52.63934195643506\n",
      "4FGL J1421.6-4819 215.4125 -48.3317 20.774070880146063\n",
      "4FGL J1423.5-7829 215.8833 -78.4984 40.801915347572866\n",
      "4FGL J1427.0+2348 216.7558 23.8013 13.452607067242988\n",
      "4FGL J1427.4-1823 216.8669 -18.3955 53.71196362739191\n",
      "4FGL J1427.6-3305 216.913 -33.094 37.24973463014886\n",
      "4FGL J1427.9-4206 216.9866 -42.106 11.62423404230465\n",
      "4FGL J1431.1-3120 217.7962 -31.3468 30.22764072208319\n",
      "4FGL J1433.0-1801 218.2535 -18.0196 47.962713039443926\n",
      "4FGL J1439.5-2525 219.8817 -25.42 48.54549337480217\n",
      "4FGL J1442.6-4623 220.6605 -46.3869 27.957000237562756\n",
      "4FGL J1443.9-3908 220.9908 -39.1481 12.190444644114852\n",
      "4FGL J1450.4+0910 222.6235 9.1818 32.18606776525681\n",
      "4FGL J1457.4-3539 224.3657 -35.6527 13.068759623164246\n",
      "4FGL J1504.4+1029 226.1033 10.4978 12.116203560432574\n",
      "4FGL J1505.0-3433 226.2581 -34.5546 21.726641537698136\n",
      "4FGL J1505.0+0326 226.2726 3.4472 28.522183849086\n",
      "4FGL J1506.6+0813 226.6741 8.2256 45.5386166001772\n",
      "4FGL J1512.1-2255 228.0489 -22.9225 24.230471158832962\n",
      "4FGL J1512.8-0906 228.2147 -9.1064 27.391392518450207\n",
      "4FGL J1514.7-3617 228.6812 -36.2949 54.311006353972246\n",
      "4FGL J1514.8-0949 228.7157 -9.817 38.83349426422156\n",
      "4FGL J1516.5+0015 229.1375 0.2657 42.62835039392701\n",
      "4FGL J1517.7-2422 229.4254 -24.373 6.533329693923247\n",
      "4FGL J1518.0-2731 229.5124 -27.5313 25.161904589185703\n",
      "4FGL J1520.8-0348 230.2046 -3.8148 1.2360708634934714\n",
      "4FGL J1522.6-2730 230.6642 -27.5059 24.101748533004358\n",
      "4FGL J1534.8+0131 233.7247 1.5224 26.97855738217752\n",
      "4FGL J1539.7-1127 234.9276 -11.4636 43.56630177612044\n",
      "4FGL J1541.7+1413 235.4469 14.2306 57.87124187649106\n",
      "4FGL J1543.6+0452 235.906 4.8689 58.17728776631055\n",
      "4FGL J1546.1-1003 236.5414 -10.051 41.28219968102261\n",
      "4FGL J1548.8-2250 237.2011 -22.8471 13.580876052076192\n",
      "4FGL J1549.5+0236 237.3851 2.6084 57.27793238434587\n",
      "4FGL J1552.0+0850 238.0099 8.8419 18.794011443049484\n",
      "4FGL J1553.5-3118 238.3923 -31.3113 18.492002287625898\n",
      "4FGL J1553.6+1257 238.4015 12.9524 57.097585492455124\n",
      "4FGL J1555.7-2908 238.9256 -29.1371 40.8618263272229\n",
      "4FGL J1555.7+1111 238.9313 11.1884 11.324405965748628\n",
      "4FGL J1557.5-7040 239.3889 -70.6687 25.529309612327346\n",
      "4FGL J1607.0+1550 241.7745 15.8447 54.141712116076306\n",
      "4FGL J1610.7-6648 242.6919 -66.8147 17.693042216173392\n",
      "4FGL J1612.4-3100 243.1001 -31.0011 59.552362422828786\n",
      "4FGL J1625.7-2527 246.4453 -25.465 17.865340865267633\n",
      "4FGL J1626.0-2950 246.515 -29.8486 41.3914165682111\n",
      "4FGL J1626.6-7639 246.6553 -76.6502 36.280714502482354\n",
      "4FGL J1636.5-0454 249.1393 -4.9059 55.21150553147608\n",
      "4FGL J1640.9+1143 250.2479 11.7199 51.78241312161472\n",
      "4FGL J1703.6-6213 255.9117 -62.2215 41.62107745674793\n",
      "4FGL J1707.5+1649 256.881 16.8206 57.466893009696136\n",
      "4FGL J1710.1-2030 257.5439 -20.5068 12.35020290602034\n",
      "4FGL J1719.2+1745 259.8062 17.7533 2.4482592036760007\n",
      "4FGL J1722.7+1014 260.686 10.2346 34.39992463182205\n",
      "4FGL J1723.6-7714 260.9219 -77.2376 37.20460152412278\n",
      "4FGL J1725.0+1152 261.2713 11.8748 25.999142032026747\n",
      "4FGL J1730.6+0024 262.6628 0.4095 56.439320531989516\n",
      "4FGL J1733.0-1305 263.2632 -13.0858 22.985183473484053\n",
      "4FGL J1738.0+0236 264.5065 2.6116 32.498417847202305\n",
      "4FGL J1745.4-0753 266.3636 -7.8894 21.99092399118838\n",
      "4FGL J1751.5+0938 267.8776 9.6456 38.14221429104469\n",
      "4FGL J1807.1+2822 271.7938 28.3675 29.321584566638276\n",
      "4FGL J1810.5+1744 272.6497 17.747 33.637779397820346\n",
      "4FGL J1816.9-4942 274.2439 -49.7158 48.64524499192379\n",
      "4FGL J1825.1-5231 276.2946 -52.529 57.75365483813577\n",
      "4FGL J1829.2-5813 277.3108 -58.2323 18.024106513028155\n",
      "4FGL J1844.8-3248 281.2105 -32.8055 18.963824341953355\n",
      "4FGL J1848.1-4230 282.0286 -42.513 33.84610752322606\n",
      "4FGL J1849.4-4313 282.3623 -43.2214 58.54608573014416\n",
      "4FGL J1902.0-5105 285.5105 -51.09 28.626947119760455\n",
      "4FGL J1911.2-2006 287.8078 -20.1137 54.29511788825646\n",
      "4FGL J1911.4-1908 287.8681 -19.1494 49.16837765507874\n",
      "4FGL J1912.4-1222 288.1185 -12.3678 59.85275808639576\n",
      "4FGL J1913.4-3629 288.3507 -36.4885 42.850253346106605\n",
      "4FGL J1917.7-1921 289.4384 -19.3628 17.476896320526734\n",
      "4FGL J1918.2-4111 289.5643 -41.1893 10.301855301279458\n",
      "4FGL J1921.3-1231 290.3444 -12.526 31.148106852597234\n",
      "4FGL J1921.8-1607 290.4633 -16.1231 16.046104859417074\n",
      "4FGL J1923.5-2104 290.8763 -21.071 30.67394605620331\n",
      "4FGL J1924.2-1549 291.0553 -15.8172 16.18206861690454\n",
      "4FGL J1924.8-2914 291.2136 -29.2468 21.6221684027187\n",
      "4FGL J1936.9-4720 294.2416 -47.34 27.742075779014773\n",
      "4FGL J1937.2-3958 294.3092 -39.9825 59.90772728000739\n",
      "4FGL J1939.5-1525 294.8772 -15.4256 51.48701111522326\n",
      "4FGL J1941.3-6210 295.3468 -62.1753 52.669757418248274\n",
      "4FGL J1944.9-2143 296.2295 -21.7216 12.496751826587934\n",
      "4FGL J1954.6-1122 298.6693 -11.3815 28.113643792359362\n",
      "4FGL J1958.0-3845 299.5026 -38.7547 13.994893794909997\n",
      "4FGL J2000.3-2930 300.0815 -29.5103 37.111270797343224\n",
      "4FGL J2000.9-1748 300.2346 -17.8164 11.09213419737824\n",
      "4FGL J2002.4-7119 300.6003 -71.324 32.71858264316168\n",
      "4FGL J2005.2-1822 301.3246 -18.3675 7.539299219810634\n",
      "4FGL J2009.4-4849 302.3595 -48.8248 26.61997652842741\n",
      "4FGL J2015.0+1621 303.7645 16.3656 30.82126142396084\n",
      "4FGL J2015.2-0137 303.8074 -1.6254 27.937791029648142\n",
      "4FGL J2016.3-0903 304.0982 -9.0622 19.021342421199204\n",
      "4FGL J2022.3-4513 305.5911 -45.2228 49.06231307099385\n",
      "4FGL J2023.6-1139 305.9032 -11.6585 21.91877662548933\n",
      "4FGL J2024.4-0847 306.1147 -8.7973 53.529419066560614\n",
      "4FGL J2024.8-6459 306.201 -64.9913 51.86863702302574\n",
      "4FGL J2025.6-0735 306.422 -7.5945 12.392908340720291\n",
      "4FGL J2034.6+1154 308.6504 11.9035 29.311676423681707\n",
      "4FGL J2035.4+1056 308.8517 10.938 26.910118538273373\n",
      "4FGL J2039.0-1046 309.7581 -10.7731 25.81595621750859\n",
      "4FGL J2041.8-7319 310.4607 -73.3254 52.7100807515209\n",
      "4FGL J2050.0+0408 312.5181 4.1401 33.87193757344071\n",
      "4FGL J2050.4-2627 312.6104 -26.4659 38.95897326049787\n",
      "4FGL J2052.2-5533 313.0674 -55.5624 38.00021904327914\n",
      "4FGL J2054.1-4054 313.5355 -40.9049 27.332720466336696\n",
      "4FGL J2056.2-4714 314.0715 -47.2369 35.14720077408545\n",
      "4FGL J2104.7+0108 316.1774 1.1414 17.366168505804314\n",
      "4FGL J2108.7-0250 317.1788 -2.8449 25.37220284369311\n",
      "4FGL J2114.8+2026 318.7173 20.4418 21.50983640154577\n",
      "4FGL J2115.4+2932 318.8737 29.5456 47.14221817505117\n",
      "4FGL J2117.8-3243 319.4746 -32.7237 39.81883977221758\n",
      "4FGL J2119.6-1105 319.9241 -11.091 58.64105779917634\n",
      "4FGL J2120.6-1254 320.1536 -12.9097 17.4010683243744\n",
      "4FGL J2121.0+1901 320.2598 19.0324 42.232267552062154\n",
      "4FGL J2123.6+0535 320.9206 5.592 54.57492399296506\n",
      "4FGL J2131.0-2746 322.753 -27.7727 46.83644447765293\n",
      "4FGL J2131.5-0916 322.8911 -9.2684 48.43386921065624\n",
      "4FGL J2135.3-5006 323.8362 -50.1015 43.19218045875602\n",
      "4FGL J2139.4-4235 324.8546 -42.5895 17.53880389261861\n",
      "4FGL J2141.7-6410 325.4305 -64.1792 22.85711707761998\n",
      "4FGL J2143.5+1743 325.8942 17.7306 16.333813770243133\n",
      "4FGL J2145.0-3356 326.2533 -33.9439 33.68788241930008\n",
      "4FGL J2145.5+1006 326.38 10.1159 52.90275822227689\n",
      "4FGL J2146.5-1344 326.6449 -13.7347 42.2261304129548\n",
      "4FGL J2147.3-7536 326.8268 -75.6024 15.95037638601385\n",
      "4FGL J2151.8-3027 327.9655 -30.46 52.30368747594963\n",
      "4FGL J2158.1-1501 329.5275 -15.0237 15.383307807757559\n",
      "4FGL J2158.8-3013 329.7141 -30.2251 16.67956241861239\n",
      "4FGL J2213.5-4754 333.3871 -47.9058 22.191225308301583\n",
      "4FGL J2225.7-0457 336.4321 -4.9537 54.019876401869936\n",
      "4FGL J2229.7-0832 337.4258 -8.5447 32.22207426325337\n",
      "4FGL J2234.1-2656 338.5425 -26.9375 36.7316254687232\n",
      "4FGL J2234.2-4156 338.5676 -41.9411 11.511353197734213\n",
      "4FGL J2236.4-2309 339.1246 -23.1552 48.65545501020754\n",
      "4FGL J2236.5-1433 339.1444 -14.5557 4.715765955540234\n",
      "4FGL J2241.7-5236 340.438 -52.6084 29.77285980034119\n",
      "4FGL J2243.4-2544 340.8654 -25.7363 25.040670509277156\n",
      "4FGL J2245.5-1734 341.3833 -17.5725 25.22549822724058\n",
      "4FGL J2249.7-5944 342.4293 -59.7443 39.388725354183215\n",
      "4FGL J2250.4-4206 342.6062 -42.1095 41.0763319865605\n",
      "4FGL J2250.7-2806 342.6903 -28.1114 20.035998492351137\n",
      "4FGL J2254.8-2725 343.718 -27.4171 9.459841251947452\n",
      "4FGL J2256.6-2011 344.1728 -20.1986 14.200126938852163\n",
      "4FGL J2258.1-2759 344.5288 -27.9843 47.00585568692933\n",
      "4FGL J2309.7-3632 347.4302 -36.5473 39.235356902723055\n",
      "4FGL J2315.6-5018 348.914 -50.3127 55.233020465732594\n",
      "4FGL J2321.7-6438 350.4332 -64.6453 39.077757796220546\n",
      "4FGL J2322.8-4916 350.7077 -49.2725 34.99778048533901\n",
      "4FGL J2323.5-0317 350.8884 -3.29 23.727940096475507\n",
      "4FGL J2323.6-0617 350.9157 -6.2953 15.380339191253247\n",
      "4FGL J2324.7-4041 351.1817 -40.6834 25.20591487482833\n",
      "4FGL J2325.4-4800 351.3501 -48.0022 27.843843718794865\n",
      "4FGL J2329.3-4955 352.3294 -49.9324 28.534035143442182\n",
      "4FGL J2331.0-2147 352.7632 -21.7953 27.609186555800537\n",
      "4FGL J2336.6-4115 354.1636 -41.2579 59.997022121323255\n",
      "4FGL J2339.2-7403 354.8153 -74.0579 47.16368925044835\n",
      "4FGL J2339.3-2656 354.8377 -26.9482 51.28434883491419\n",
      "4FGL J2345.2-1555 356.303 -15.9182 0.8033502387604657\n",
      "4FGL J2348.0-1630 357.016 -16.5161 23.322990219623453\n",
      "4FGL J2353.7-3037 358.4321 -30.6219 54.84816432191808\n",
      "4FGL J2354.1-0958 358.5309 -9.9774 57.41128131031941\n",
      "4FGL J2357.4-1718 359.3705 -17.3108 36.83259787266059\n",
      "4FGL J2357.8-5311 359.463 -53.1919 32.65730300563367\n",
      "4FGL J2359.0-3038 359.7719 -30.6367 43.70630710589133\n"
     ]
    }
   ],
   "source": [
    "print('name,')\n",
    "for i,j,k,l in zip(matchname,matchra,matchdec,dist_match):\n",
    "    print(i,j,k,l)"
   ]
  },
  {
   "cell_type": "code",
   "execution_count": null,
   "metadata": {
    "collapsed": true
   },
   "outputs": [],
   "source": []
  },
  {
   "cell_type": "code",
   "execution_count": null,
   "metadata": {
    "collapsed": true
   },
   "outputs": [],
   "source": []
  },
  {
   "cell_type": "markdown",
   "metadata": {},
   "source": [
    "# RRAT \n",
    "http://astro.phys.wvu.edu/rratalog/"
   ]
  },
  {
   "cell_type": "code",
   "execution_count": null,
   "metadata": {
    "collapsed": true
   },
   "outputs": [],
   "source": [
    "PSRJ            J1913+1330\n",
    "RAJ             19:13:17.97                   1.000e-02\n",
    "DECJ            +13:30:32.78                  4.000e-02\n",
    "DM              175.64                        6.000e-02"
   ]
  },
  {
   "cell_type": "code",
   "execution_count": 8,
   "metadata": {
    "ExecuteTime": {
     "end_time": "2020-05-25T12:15:01.600718Z",
     "start_time": "2020-05-25T12:15:01.579165Z"
    },
    "collapsed": false
   },
   "outputs": [
    {
     "data": {
      "text/plain": [
       "288.324875"
      ]
     },
     "execution_count": 8,
     "metadata": {},
     "output_type": "execute_result"
    }
   ],
   "source": [
    "19*15+13*15/60+17.97*15/3600"
   ]
  },
  {
   "cell_type": "code",
   "execution_count": 9,
   "metadata": {
    "ExecuteTime": {
     "end_time": "2020-05-25T12:15:32.271035Z",
     "start_time": "2020-05-25T12:15:32.266271Z"
    },
    "collapsed": false
   },
   "outputs": [
    {
     "data": {
      "text/plain": [
       "13.509105555555555"
      ]
     },
     "execution_count": 9,
     "metadata": {},
     "output_type": "execute_result"
    }
   ],
   "source": [
    "13+30/60+32.78/3600"
   ]
  },
  {
   "cell_type": "code",
   "execution_count": null,
   "metadata": {
    "collapsed": true
   },
   "outputs": [],
   "source": [
    "J1913+1330\t0.923\t8.68\t175.64\t19:13:18\t13:30:33\t47.42\t1.38\t4.71\t,'12.4\t6.2\t5.7\t--\t--\t650\t--\t--\t2\t945\t40\tPM1 / K11"
   ]
  },
  {
   "cell_type": "code",
   "execution_count": null,
   "metadata": {
    "collapsed": true
   },
   "outputs": [],
   "source": []
  },
  {
   "cell_type": "markdown",
   "metadata": {},
   "source": [
    "# mwa_table"
   ]
  },
  {
   "cell_type": "code",
   "execution_count": 98,
   "metadata": {
    "ExecuteTime": {
     "end_time": "2020-06-22T12:23:12.633912Z",
     "start_time": "2020-06-22T12:23:12.585619Z"
    },
    "collapsed": false
   },
   "outputs": [
    {
     "name": "stderr",
     "output_type": "stream",
     "text": [
      "WARNING: W21: /Users/brettlv/Downloads/results_from-2018-03-10-D0014-outburstmonitoring.xml:4:0: W21: vo.table is designed for VOTable version 1.1, 1.2 and 1.3, but this file is 1.4 [astropy.io.votable.tree]\n"
     ]
    }
   ],
   "source": [
    "import pandas as pd\n",
    "import xml.etree.ElementTree as ET\n",
    "\n",
    "from astropy.io.votable import parse\n",
    "from astropy.io.votable import parse_single_table\n",
    "from astropy.io.votable.tree import VOTableFile, Resource, Table, Field\n",
    "\n",
    "\n",
    "\n",
    "path = '/Users/brettlv/Downloads/results_from-2018-03-10-D0014-outburstmonitoring.xml'\n",
    "votable = parse(path)\n"
   ]
  },
  {
   "cell_type": "markdown",
   "metadata": {
    "ExecuteTime": {
     "end_time": "2020-06-22T12:14:32.228430Z",
     "start_time": "2020-06-22T12:14:32.181791Z"
    }
   },
   "source": [
    "table = parse_single_table(path)\n",
    "\n",
    "\n",
    "data = table.array\n",
    "dfcols = ['obs_id','s_ra', 's_dec', 's_fov','t_min','t_max','t_exptime','em_min','em_max']\n",
    "#df = pd.DataFrame(columns=dfcols)\n",
    "#df.head()"
   ]
  },
  {
   "cell_type": "code",
   "execution_count": 99,
   "metadata": {
    "ExecuteTime": {
     "end_time": "2020-06-22T12:23:44.849647Z",
     "start_time": "2020-06-22T12:23:44.798141Z"
    },
    "collapsed": false
   },
   "outputs": [
    {
     "name": "stderr",
     "output_type": "stream",
     "text": [
      "WARNING: W21: /Users/brettlv/Downloads/results_from-2018-03-10-D0014-outburstmonitoring.xml:4:0: W21: vo.table is designed for VOTable version 1.1, 1.2 and 1.3, but this file is 1.4 [astropy.io.votable.tree]\n"
     ]
    }
   ],
   "source": [
    "table = parse_single_table(path).to_table()"
   ]
  },
  {
   "cell_type": "code",
   "execution_count": 118,
   "metadata": {
    "ExecuteTime": {
     "end_time": "2020-06-22T12:35:42.812869Z",
     "start_time": "2020-06-22T12:35:42.807432Z"
    },
    "collapsed": false
   },
   "outputs": [
    {
     "data": {
      "text/plain": [
       "('t_min', 't_max')"
      ]
     },
     "execution_count": 118,
     "metadata": {},
     "output_type": "execute_result"
    }
   ],
   "source": [
    "table.colnames[10],table.colnames[11]"
   ]
  },
  {
   "cell_type": "code",
   "execution_count": 126,
   "metadata": {
    "ExecuteTime": {
     "end_time": "2020-06-22T13:54:48.125932Z",
     "start_time": "2020-06-22T13:54:44.654599Z"
    },
    "collapsed": false
   },
   "outputs": [
    {
     "data": {
      "image/png": "[encoded data removed]",
      "text/plain": [
       "<Figure size 864x648 with 1 Axes>"
      ]
     },
     "metadata": {
      "image/png": {
       "height": 549,
       "width": 738
      }
     },
     "output_type": "display_data"
    }
   ],
   "source": [
    "fix,ax=plt.subplots(1, 1,figsize=(12,9))\n",
    "for i,j in zip(table[table.colnames[10]],table[table.colnames[11]]):\n",
    "    plt.scatter(i,j)\n",
    "plt.xlabel('t_start')\n",
    "plt.ylabel('t_end')\n",
    "plt.title('D0014_outburst_monitoring_MAXIJ1820')\n",
    "plt.savefig('/Users/brettlv/Downloads/MAXIJ1820/D0014_outburst_monitoring.png')"
   ]
  },
  {
   "cell_type": "code",
   "execution_count": 124,
   "metadata": {
    "ExecuteTime": {
     "end_time": "2020-06-22T12:47:05.492122Z",
     "start_time": "2020-06-22T12:47:05.050392Z"
    },
    "collapsed": false
   },
   "outputs": [
    {
     "name": "stderr",
     "output_type": "stream",
     "text": [
      "WARNING: W21: /Users/brettlv/Downloads/results_gleam_30degree.xml:4:0: W21: vo.table is designed for VOTable version 1.1, 1.2 and 1.3, but this file is 1.4 [astropy.io.votable.tree]\n"
     ]
    }
   ],
   "source": [
    "path_gleam = '/Users/brettlv/Downloads/results_gleam_30degree.xml'\n",
    "table_gleam = parse_single_table(path_gleam).to_table()"
   ]
  },
  {
   "cell_type": "code",
   "execution_count": 127,
   "metadata": {
    "ExecuteTime": {
     "end_time": "2020-06-22T13:56:00.638167Z",
     "start_time": "2020-06-22T13:55:20.082067Z"
    },
    "collapsed": false
   },
   "outputs": [
    {
     "data": {
      "image/png": "[encoded data removed]",
      "text/plain": [
       "<Figure size 864x648 with 1 Axes>"
      ]
     },
     "metadata": {
      "image/png": {
       "height": 548,
       "width": 738
      }
     },
     "output_type": "display_data"
    }
   ],
   "source": [
    "fix,ax=plt.subplots(1, 1,figsize=(12,9))\n",
    "for i,j in zip(table_gleam[table_gleam.colnames[10]],table_gleam[table_gleam.colnames[11]]):\n",
    "    plt.scatter(i,j)\n",
    "plt.xlabel('t_start')\n",
    "plt.ylabel('t_end')\n",
    "plt.title('D0008_GLEAM_MAXIJ1820')\n",
    "plt.savefig('/Users/brettlv/Downloads/MAXIJ1820/D0008_GLEAM_MAXIJ1820.png')"
   ]
  },
  {
   "cell_type": "code",
   "execution_count": null,
   "metadata": {
    "collapsed": true
   },
   "outputs": [],
   "source": []
  }
 ],
 "metadata": {
  "kernelspec": {
   "display_name": "Python 3",
   "language": "python",
   "name": "python3"
  },
  "language_info": {
   "codemirror_mode": {
    "name": "ipython",
    "version": 3
   },
   "file_extension": ".py",
   "mimetype": "text/x-python",
   "name": "python",
   "nbconvert_exporter": "python",
   "pygments_lexer": "ipython3",
   "version": "3.6.0"
  },
  "latex_envs": {
   "LaTeX_envs_menu_present": true,
   "autocomplete": true,
   "bibliofile": "biblio.bib",
   "cite_by": "apalike",
   "current_citInitial": 1,
   "eqLabelWithNumbers": true,
   "eqNumInitial": 1,
   "hotkeys": {
    "equation": "Ctrl-E",
    "itemize": "Ctrl-I"
   },
   "labels_anchors": false,
   "latex_user_defs": false,
   "report_style_numbering": false,
   "user_envs_cfg": false
  },
  "toc": {
   "nav_menu": {},
   "number_sections": true,
   "sideBar": true,
   "skip_h1_title": false,
   "toc_cell": false,
   "toc_position": {
    "height": "502px",
    "left": "0px",
    "right": "1023px",
    "top": "115px",
    "width": "212px"
   },
   "toc_section_display": "block",
   "toc_window_display": true
  }
 },
 "nbformat": 4,
 "nbformat_minor": 2
}
