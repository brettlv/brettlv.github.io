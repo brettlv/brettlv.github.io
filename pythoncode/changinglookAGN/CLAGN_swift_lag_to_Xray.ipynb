{
 "cells": [
  {
   "cell_type": "markdown",
   "id": "a5380769",
   "metadata": {},
   "source": [
    "# import"
   ]
  },
  {
   "cell_type": "code",
   "execution_count": null,
   "id": "71484062",
   "metadata": {
    "ExecuteTime": {
     "end_time": "2022-12-28T10:32:07.708136Z",
     "start_time": "2022-12-28T10:32:04.214987Z"
    }
   },
   "outputs": [],
   "source": [
    "import matplotlib as mpl\n",
    "import matplotlib.pyplot as plt\n",
    "import matplotlib.ticker as ticker\n",
    "from pylab import cm\n",
    "\n",
    "import matplotlib.dates as mdates\n",
    "from matplotlib.pyplot import MultipleLocator\n",
    "import matplotlib.dates as mdates\n",
    "from matplotlib.transforms import Transform\n",
    "from matplotlib.ticker import (AutoLocator, AutoMinorLocator)\n",
    "from matplotlib.dates import DateFormatter\n",
    "#import matplotlib.cm as cm\n",
    "import matplotlib.colors as colors\n",
    "from collections import OrderedDict\n",
    "\n",
    "\n",
    "# Import required packages\n",
    "import numpy as np\n",
    "import pandas as pd\n",
    "#import plotly_express as px\n",
    "\n",
    "\n",
    "from scipy.stats import spearmanr#\n",
    "from scipy.stats.stats import pearsonr\n",
    "from astropy import constants\n",
    "from astropy import units as u\n",
    "from astropy import units\n",
    "\n",
    "from datetime import datetime, date, time, timezone\n",
    "from datetime import datetime\n",
    "from datetime import timedelta\n",
    "from astropy.time import Time\n",
    "from astropy.io import ascii\n",
    "\n",
    "\n",
    "\n",
    "\n",
    "%matplotlib inline\n",
    "%config InlineBackend.figure_format='svg'\n",
    "\n",
    "\n",
    "import matplotlib.font_manager as fm\n",
    "# Collect all the font names available to matplotlib\n",
    "font_names = [f.name for f in fm.fontManager.ttflist]\n",
    "\n",
    "# Edit the font, font size, and axes width\n",
    "mpl.rcParams['font.family'] = 'DejaVu Sans'\n",
    "plt.rcParams['font.size'] = 18\n",
    "plt.rcParams['axes.linewidth'] = 2"
   ]
  },
  {
   "cell_type": "code",
   "execution_count": null,
   "id": "0435a445",
   "metadata": {},
   "outputs": [],
   "source": []
  },
  {
   "cell_type": "code",
   "execution_count": null,
   "id": "e39d377f",
   "metadata": {
    "ExecuteTime": {
     "end_time": "2022-12-28T10:32:11.148889Z",
     "start_time": "2022-12-28T10:32:11.135914Z"
    }
   },
   "outputs": [],
   "source": [
    "import pandas as pd\n",
    "import numpy as np\n",
    "import os\n",
    "\n",
    "def get_obsids(path):\n",
    "    dirname=os.listdir(path)\n",
    "    obsids=[]\n",
    "    for i in dirname:\n",
    "        if i.isdigit():\n",
    "            obsids.append(i)\n",
    "    obsids.sort()        \n",
    "    return obsids\n",
    "\n",
    "def drop_index(data):\n",
    "    data=data.reset_index(drop=True)\n",
    "    return data\n",
    "\n",
    "def get_info(data,label,label_err=None):\n",
    "    return min(data[label]),max(data[label]),np.mean(data[label])\n",
    "    "
   ]
  },
  {
   "cell_type": "code",
   "execution_count": null,
   "id": "75da0a31",
   "metadata": {
    "ExecuteTime": {
     "end_time": "2022-12-28T10:32:11.493461Z",
     "start_time": "2022-12-28T10:32:11.475007Z"
    }
   },
   "outputs": [],
   "source": [
    "from astropy.time import Time\n",
    "from astropy.io import fits\n",
    "import time\n",
    "from matplotlib.pyplot import MultipleLocator\n",
    "import matplotlib.dates as mdates\n",
    "\n",
    "def datetime2mjd(x):\n",
    "    mjd_ref=59000\n",
    "    mjd_minus_mdates_num=mdates.date2num(convert_xaxis_time(mjd_ref))-mjd_ref\n",
    "    \n",
    "    x=mdates.date2num(x)\n",
    "    y = x - mjd_minus_mdates_num   \n",
    "    return y\n",
    "\n",
    "def mjd2datetime(x):\n",
    "    mjd_ref=59000\n",
    "    mjd_minus_mdates_num=mdates.date2num(convert_xaxis_time(mjd_ref))-mjd_ref\n",
    "    y= x + mjd_minus_mdates_num\n",
    "    y= mdates.num2date(y)\n",
    "    return y\n",
    "\n",
    "\n",
    "\n",
    "def datenums2mjd(x):\n",
    "    #x=mdates.date2num(x)\n",
    "    mjd_ref=59000\n",
    "    mjd_minus_mdates_num=mdates.date2num(convert_xaxis_time(mjd_ref))-mjd_ref\n",
    "    y = x - mjd_minus_mdates_num   \n",
    "    return y\n",
    "\n",
    "def mjd2numsdate(x):\n",
    "    mjd_ref=59000\n",
    "    mjd_minus_mdates_num=mdates.date2num(convert_xaxis_time(mjd_ref))-mjd_ref\n",
    "    \n",
    "    y= x + mjd_minus_mdates_num\n",
    "    #y= mdates.num2date(y)\n",
    "    return y\n",
    "\n",
    "\n",
    "def convert_xaxis_mjd(time):\n",
    "    return Time(time).mjd   \n",
    "\n",
    "def convert_xaxis_time(mjd):\n",
    "    return Time(mjd,format='mjd').to_datetime()\n",
    "\n",
    "\n",
    "def date2yday(x):\n",
    "    \"\"\"\n",
    "    x is in matplotlib datenums, so they are floats.\n",
    "    \"\"\"\n",
    "    y = x - mdates.date2num(datetime(2018, 1, 1))\n",
    "    return y\n",
    "\n",
    "def yday2date(x):\n",
    "    \"\"\"\n",
    "    return a matplotlib datenum (x is days since start of year of 2018)\n",
    "    \"\"\"\n",
    "    y = x + mdates.date2num(datetime(2018, 1, 1))\n",
    "    return y\n",
    "\n",
    "\n",
    "def convert_partial_year(numbers):\n",
    "    datetimes=[]\n",
    "    for number in numbers:\n",
    "        year = int(number)\n",
    "        d = timedelta(days=(number - year)*(365 + is_leap(year)))\n",
    "        day_one = datetime(year,1,1)\n",
    "        date = d + day_one\n",
    "        datetimes.append(date)\n",
    "    return datetimes\n",
    "\n",
    "\n",
    "def is_leap(year):\n",
    "    if not year%4 and  year%100 or not year%400:\n",
    "        return True\n",
    "    return False\n",
    "\n",
    "\n",
    "def convert_mjd(times):\n",
    "    timesmjd=[]\n",
    "    for i in times:\n",
    "        timesmjd.append(Time(i).mjd)\n",
    "    return timesmjd  \n",
    "\n",
    "\n",
    "def convert_date(times):\n",
    "    timesdate=[]\n",
    "    for i in times:\n",
    "        timesdate.append(Time(i,format='mjd').datetime)\n",
    "    return timesdate\n",
    "\n",
    "def convert_date_single(time):\n",
    "    timedate=Time(time,format='mjd').datetime\n",
    "    return timedate"
   ]
  },
  {
   "cell_type": "code",
   "execution_count": null,
   "id": "d2e8b720",
   "metadata": {
    "ExecuteTime": {
     "end_time": "2022-12-22T11:11:11.465386Z",
     "start_time": "2022-12-22T11:11:11.450555Z"
    }
   },
   "outputs": [],
   "source": [
    "convert_date_single(59000)"
   ]
  },
  {
   "cell_type": "code",
   "execution_count": null,
   "id": "a2fa3df0",
   "metadata": {
    "ExecuteTime": {
     "end_time": "2022-12-19T07:36:53.883361Z",
     "start_time": "2022-12-19T07:36:53.865596Z"
    }
   },
   "outputs": [],
   "source": [
    "convert_xaxis_mjd(datetime(2018, 7, 12, 0, 0))"
   ]
  },
  {
   "cell_type": "code",
   "execution_count": null,
   "id": "bc43cfc5",
   "metadata": {
    "ExecuteTime": {
     "end_time": "2022-12-06T06:49:13.248397Z",
     "start_time": "2022-12-06T06:49:13.233218Z"
    }
   },
   "outputs": [],
   "source": [
    "convert_date_single(59891.247692)"
   ]
  },
  {
   "cell_type": "code",
   "execution_count": null,
   "id": "e3bb114b",
   "metadata": {
    "ExecuteTime": {
     "end_time": "2022-12-11T15:17:54.036343Z",
     "start_time": "2022-12-11T15:17:54.023780Z"
    }
   },
   "outputs": [],
   "source": [
    "convert_date_single(59920)"
   ]
  },
  {
   "cell_type": "code",
   "execution_count": null,
   "id": "793e7b01",
   "metadata": {
    "ExecuteTime": {
     "end_time": "2022-12-11T15:18:15.878997Z",
     "start_time": "2022-12-11T15:18:15.868242Z"
    }
   },
   "outputs": [],
   "source": [
    "convert_date_single(59910)"
   ]
  },
  {
   "cell_type": "markdown",
   "id": "4df8472c",
   "metadata": {},
   "source": [
    "## set_ax"
   ]
  },
  {
   "cell_type": "code",
   "execution_count": null,
   "id": "b90ffa0f",
   "metadata": {
    "ExecuteTime": {
     "end_time": "2022-12-28T10:32:19.998853Z",
     "start_time": "2022-12-28T10:32:19.970262Z"
    }
   },
   "outputs": [],
   "source": [
    "from adjustText import adjust_text\n",
    "import matplotlib as mpl\n",
    "def set_ax_tick(ax):\n",
    "    ax.xaxis.set_tick_params(which='major', size=10, width=2, direction='in', top='on',)\n",
    "    ax.xaxis.set_tick_params(which='minor', size=5, width=2, direction='in', top='on')\n",
    "    ax.yaxis.set_tick_params(which='major', size=10, width=2, direction='in', right='on')\n",
    "    ax.yaxis.set_tick_params(which='minor', size=5, width=2, direction='in', right='on')\n",
    "\n",
    "def set_ax_locator(ax,xma=1,xmi=0.2,yma=1,ymi=0.2):\n",
    "    ax.xaxis.set_major_locator(mpl.ticker.MultipleLocator(xma))\n",
    "    ax.xaxis.set_minor_locator(mpl.ticker.MultipleLocator(xmi))\n",
    "    ax.yaxis.set_major_locator(mpl.ticker.MultipleLocator(yma))\n",
    "    ax.yaxis.set_minor_locator(mpl.ticker.MultipleLocator(ymi))\n",
    "    \n",
    "def plot_secax(ax,mi_interval=365,ma_interval=365*2,rotation=30,):\n",
    "    secax1 = ax.secondary_xaxis('top', functions=(mjd2numsdate,datenums2mjd))\n",
    "    secax1.xaxis.set_major_formatter(mdates.DateFormatter(\"%Y-%m\"))\n",
    "    secax1.xaxis.set_major_locator(mdates.DayLocator(interval=ma_interval))\n",
    "    secax1.xaxis.set_minor_locator(mdates.DayLocator(interval=mi_interval))\n",
    "    secax1.xaxis.set_tick_params(which='major', size=10, width=2, direction='out')\n",
    "    secax1.xaxis.set_tick_params(which='minor', size=5, width=2, direction='out')\n",
    "    secax1.xaxis.set_tick_params(which='major', size=10, width=2, direction='out', rotation=rotation,)    \n",
    "    \n",
    "def set_ax_legend(ax,bbox_to_anchor=(0.01, 0.99)):\n",
    "    ax.xaxis.set_tick_params(which='major', size=10, width=2, rotation=0,)\n",
    "    handles, labels = ax.get_legend_handles_labels()\n",
    "    # remove the errorbars\n",
    "    #hdl = [h[0] for h in handles]\n",
    "    hdl = handles\n",
    "    labels_dict=dict(zip(labels, hdl)) #key,values\n",
    "    by_label=OrderedDict(sorted(labels_dict.items(),key=lambda t:t[0]))\n",
    "    #by_label = OrderedDict(zip(labels, handles))\n",
    "    ax.legend(by_label.values(), by_label.keys(), bbox_to_anchor=bbox_to_anchor,\n",
    "              loc=2, numpoints=1,ncol=1,fontsize=11.)\n",
    "    \n",
    "def set_ax_legend_sequence(ax,bbox_to_anchor=(0.01, 0.99)):\n",
    "    ax.xaxis.set_tick_params(which='major', size=10, width=2, rotation=0,)\n",
    "    handles, labels = ax.get_legend_handles_labels()\n",
    "    # remove the errorbars\n",
    "    #hdl = [h[0] for h in handles]\n",
    "    hdl = handles\n",
    "    labels_dict=dict(zip(labels, hdl)) #key,values\n",
    "    #by_label=OrderedDict(sorted(labels_dict.items(),key=lambda t:t[0]))\n",
    "    by_label = OrderedDict(zip(labels, handles))\n",
    "    ax.legend(by_label.values(), by_label.keys(), bbox_to_anchor=bbox_to_anchor,\n",
    "              loc=2, numpoints=1,ncol=1,fontsize=11.)    \n",
    "    \n",
    "\n",
    "def set_mag_ylim(ax):\n",
    "    bottom, top = ax.set_ylim()\n",
    "    if bottom< top:\n",
    "        ax.set_ylim(top,bottom)   \n",
    "        \n",
    "        \n",
    "def set_mag_xlim(ax):\n",
    "    bottom, top = ax.set_xlim()\n",
    "    if bottom< top:\n",
    "        ax.set_xlim(top,bottom)         "
   ]
  },
  {
   "cell_type": "code",
   "execution_count": null,
   "id": "ff0c06e9",
   "metadata": {
    "ExecuteTime": {
     "end_time": "2022-12-28T10:32:21.729163Z",
     "start_time": "2022-12-28T10:32:21.722764Z"
    }
   },
   "outputs": [],
   "source": [
    "def drop_index(data):\n",
    "    data=data.reset_index(drop=True)\n",
    "    return data"
   ]
  },
  {
   "cell_type": "code",
   "execution_count": null,
   "id": "76c55e0e",
   "metadata": {},
   "outputs": [],
   "source": []
  },
  {
   "cell_type": "code",
   "execution_count": null,
   "id": "e1daeb59",
   "metadata": {
    "ExecuteTime": {
     "end_time": "2022-12-28T10:32:26.877521Z",
     "start_time": "2022-12-28T10:32:26.872075Z"
    }
   },
   "outputs": [],
   "source": [
    "dataroot_dir='/Users/lyubing/IHEPBox/data/data_clagn/CLAGN_uvot_XRT_fig'"
   ]
  },
  {
   "cell_type": "markdown",
   "id": "126679a4",
   "metadata": {},
   "source": [
    "Filter\tCentral Wavelength (Å)\n",
    "v\t5468\n",
    "b\t4392\n",
    "u\t3465\n",
    "uvw1\t2600\n",
    "uvm2\t2246\n",
    "uvw2\t1928"
   ]
  },
  {
   "cell_type": "markdown",
   "id": "83219b33",
   "metadata": {},
   "source": [
    "## markers_pd\n",
    "\n"
   ]
  },
  {
   "cell_type": "code",
   "execution_count": null,
   "id": "bdda4c2b",
   "metadata": {
    "ExecuteTime": {
     "end_time": "2022-12-28T10:32:47.096878Z",
     "start_time": "2022-12-28T10:32:47.080442Z"
    }
   },
   "outputs": [],
   "source": [
    "markers_pd=['o','^','v','s','p','d','+']"
   ]
  },
  {
   "cell_type": "markdown",
   "id": "4191fbda",
   "metadata": {},
   "source": [
    "## uvot"
   ]
  },
  {
   "cell_type": "code",
   "execution_count": null,
   "id": "e72adb43",
   "metadata": {
    "ExecuteTime": {
     "end_time": "2022-12-28T10:32:51.383498Z",
     "start_time": "2022-12-28T10:32:51.361300Z"
    }
   },
   "outputs": [],
   "source": [
    "nu_uvv=(constants.c/(5468*units.AA)).to(u.Hz).value\n",
    "nu_ubb=(constants.c/(4392*units.AA)).to(u.Hz).value\n",
    "nu_uuu=(constants.c/(3465*units.AA)).to(u.Hz).value\n",
    "nu_uw1=(constants.c/(2600*units.AA)).to(u.Hz).value\n",
    "nu_um2=(constants.c/(2246*units.AA)).to(u.Hz).value\n",
    "nu_uw2=(constants.c/(1928*units.AA)).to(u.Hz).value\n",
    "\n",
    "uvot_6bands=['uvv','ubb','uuu','uw1','um2','uw2']\n",
    "uvot_6bands_label=['V','B','U','UVW1','UVM2','UVW2']\n",
    "\n",
    "colors_cm_10 = cm.get_cmap('tab10', 10)\n",
    "colors_6band=[colors_cm_10(0),colors_cm_10(2),colors_cm_10(3),colors_cm_10(4),colors_cm_10(8),colors_cm_10(9)]\n",
    "markers_6bands=['o','^','v','s','p','d']\n",
    "\n",
    "\n",
    "nu_uvot_6bands=[nu_uvv,nu_ubb,nu_uuu,nu_uw1,nu_um2,nu_uw2]\n",
    "lambda_uvot_6bands=[5468,4392,3465,2600,2246,1928]\n"
   ]
  },
  {
   "cell_type": "code",
   "execution_count": null,
   "id": "e2e55709",
   "metadata": {
    "ExecuteTime": {
     "end_time": "2022-12-29T02:39:56.217179Z",
     "start_time": "2022-12-29T02:39:56.214355Z"
    }
   },
   "outputs": [],
   "source": [
    "lambda_uvot_6bands[::-1]"
   ]
  },
  {
   "cell_type": "code",
   "execution_count": null,
   "id": "fa40507e",
   "metadata": {},
   "outputs": [],
   "source": []
  },
  {
   "cell_type": "code",
   "execution_count": null,
   "id": "eef23c40",
   "metadata": {
    "ExecuteTime": {
     "end_time": "2022-12-28T10:32:58.825454Z",
     "start_time": "2022-12-28T10:32:58.815162Z"
    }
   },
   "outputs": [],
   "source": [
    "marker_dict_uv = dict(zip(uvot_6bands, markers_6bands))\n",
    "color_dict_uv = dict(zip(uvot_6bands, colors_6band))\n",
    "label_dict_uv= dict(zip(uvot_6bands, uvot_6bands_label))\n",
    "lambda_dict_uv=dict(zip(uvot_6bands,lambda_uvot_6bands))\n",
    "\n",
    "lambda_dict_UVlabel=dict(zip(uvot_6bands_label,lambda_uvot_6bands))"
   ]
  },
  {
   "cell_type": "code",
   "execution_count": null,
   "id": "15a8e96e",
   "metadata": {},
   "outputs": [],
   "source": [
    "1 Kiloelectron Volt = 2.41799050402293E+17 Hertz"
   ]
  },
  {
   "cell_type": "code",
   "execution_count": null,
   "id": "c66c4c2b",
   "metadata": {
    "ExecuteTime": {
     "end_time": "2022-12-22T11:31:16.691607Z",
     "start_time": "2022-12-22T11:31:16.680277Z"
    }
   },
   "outputs": [],
   "source": [
    "constants.c/2.41799050402293E+17*1e10"
   ]
  },
  {
   "cell_type": "code",
   "execution_count": null,
   "id": "9793f921",
   "metadata": {
    "ExecuteTime": {
     "end_time": "2022-12-22T11:33:42.352183Z",
     "start_time": "2022-12-22T11:33:42.343880Z"
    }
   },
   "outputs": [],
   "source": [
    "constants.c/2.41799050402293E+17*1e10*10"
   ]
  },
  {
   "cell_type": "code",
   "execution_count": null,
   "id": "29e249d8",
   "metadata": {},
   "outputs": [],
   "source": []
  },
  {
   "cell_type": "markdown",
   "id": "a97db132",
   "metadata": {},
   "source": [
    "# sourcename='Mrk590'"
   ]
  },
  {
   "cell_type": "code",
   "execution_count": null,
   "id": "c178469e",
   "metadata": {
    "ExecuteTime": {
     "end_time": "2022-12-28T10:38:49.666444Z",
     "start_time": "2022-12-28T10:38:49.629954Z"
    }
   },
   "outputs": [],
   "source": [
    "sourcename='Mrk590'\n",
    "\n",
    "uvot_uvv_Mrk590=pd.read_csv('%s/%s_uvv_sum.csv'%(dataroot_dir,sourcename),sep='|',header=0)\n",
    "uvot_ubb_Mrk590=pd.read_csv('%s/%s_ubb_sum.csv'%(dataroot_dir,sourcename),sep='|',header=0)\n",
    "uvot_uuu_Mrk590=pd.read_csv('%s/%s_uuu_sum.csv'%(dataroot_dir,sourcename),sep='|',header=0)\n",
    "uvot_uw1_Mrk590=pd.read_csv('%s/%s_uw1_sum.csv'%(dataroot_dir,sourcename),sep='|',header=0)\n",
    "uvot_um2_Mrk590=pd.read_csv('%s/%s_um2_sum.csv'%(dataroot_dir,sourcename),sep='|',header=0)\n",
    "uvot_uw2_Mrk590=pd.read_csv('%s/%s_uw2_sum.csv'%(dataroot_dir,sourcename),sep='|',header=0)\n",
    "\n",
    "#uvot_band_data=[uvot_uvv,uvot_ubb,uvot_uuu,uvot_uw1,uvot_um2,uvot_uw2]\n",
    "uvot_6band_data_Mrk590=[uvot_uvv_Mrk590,uvot_ubb_Mrk590,uvot_uuu_Mrk590,uvot_uw1_Mrk590,uvot_um2_Mrk590,uvot_uw2_Mrk590]\n",
    "uvdata_dict_Mrk590=dict(zip(uvot_6bands, uvot_6band_data_Mrk590))\n"
   ]
  },
  {
   "cell_type": "markdown",
   "id": "5e52c8d3",
   "metadata": {
    "ExecuteTime": {
     "end_time": "2022-12-01T17:36:11.716994Z",
     "start_time": "2022-12-01T17:36:11.696411Z"
    }
   },
   "source": [
    "uvot_uvv[[uvot_uvv.columns[3],uvot_uvv.columns[6],uvot_uvv.columns[7]]]"
   ]
  },
  {
   "cell_type": "code",
   "execution_count": null,
   "id": "9a219c42",
   "metadata": {
    "ExecuteTime": {
     "end_time": "2022-12-19T07:37:24.364580Z",
     "start_time": "2022-12-19T07:37:24.351995Z"
    }
   },
   "outputs": [],
   "source": []
  },
  {
   "cell_type": "markdown",
   "id": "c81ac69c",
   "metadata": {},
   "source": [
    "## XRT"
   ]
  },
  {
   "cell_type": "markdown",
   "id": "03087b84",
   "metadata": {},
   "source": [
    "instrument_label=['XMM-Newton','Swift','Chandra','NuSTAR','Suzaku']\n",
    "instrument=['X','S','C','N','Su']\n",
    "markers_ins=['o','^','s','p','v']\n",
    "corlors_ins=[colors_cm_10(0),colors_cm_10(2),colors_cm_10(3),colors_cm_10(4),colors_cm_10(9)]\n",
    "marker_dict_ins = dict(zip(instrument, markers_ins))\n",
    "color_dict_ins= dict(zip(instrument, corlors_ins))\n",
    "instrument_dict= dict(zip(instrument, instrument_label))"
   ]
  },
  {
   "cell_type": "code",
   "execution_count": null,
   "id": "e76d115a",
   "metadata": {
    "ExecuteTime": {
     "end_time": "2022-12-28T10:39:08.516237Z",
     "start_time": "2022-12-28T10:39:08.495941Z"
    }
   },
   "outputs": [],
   "source": [
    "XRT_rate_Mrk590=pd.read_csv('%s/%s_xrt_rate.txt'%(dataroot_dir,sourcename),sep='\\s+',header=0)"
   ]
  },
  {
   "cell_type": "code",
   "execution_count": null,
   "id": "e8f11403",
   "metadata": {
    "ExecuteTime": {
     "end_time": "2022-12-28T10:39:09.286979Z",
     "start_time": "2022-12-28T10:39:09.274229Z"
    }
   },
   "outputs": [],
   "source": [
    "XRT_rate_Mrk590.columns"
   ]
  },
  {
   "cell_type": "markdown",
   "id": "9ff2cc38",
   "metadata": {},
   "source": [
    "## ASAS-SN"
   ]
  },
  {
   "cell_type": "code",
   "execution_count": null,
   "id": "e044a3aa",
   "metadata": {
    "ExecuteTime": {
     "end_time": "2022-12-28T10:39:13.648180Z",
     "start_time": "2022-12-28T10:39:13.628679Z"
    }
   },
   "outputs": [],
   "source": [
    "ASASSN_Mrk590=pd.read_csv('/Users/lyubing/IHEPBox/data/data_clagn/ASAS_SN_data/Mrk590_light_curve_a2fea627-6423-4ddf-9a79-08a832354d30.csv',header=0)"
   ]
  },
  {
   "cell_type": "code",
   "execution_count": null,
   "id": "32e78a93",
   "metadata": {
    "ExecuteTime": {
     "end_time": "2022-12-28T10:39:14.502576Z",
     "start_time": "2022-12-28T10:39:14.480013Z"
    }
   },
   "outputs": [],
   "source": [
    "ASASSN_Mrk590_V=ASASSN_Mrk590[ASASSN_Mrk590['Filter']=='V']\n",
    "ASASSN_Mrk590_g=ASASSN_Mrk590[ASASSN_Mrk590['Filter']=='g']\n",
    "ASASSN_Mrk590_V=ASASSN_Mrk590_V[ASASSN_Mrk590_V['flux_err']!=99.990]\n",
    "ASASSN_Mrk590_g=ASASSN_Mrk590_g[ASASSN_Mrk590_g['flux_err']!=99.990]\n",
    "\n",
    "ASASSN_Mrk590_V=drop_index(ASASSN_Mrk590_V)\n",
    "ASASSN_Mrk590_g=drop_index(ASASSN_Mrk590_g)"
   ]
  },
  {
   "cell_type": "code",
   "execution_count": null,
   "id": "a5c59083",
   "metadata": {
    "ExecuteTime": {
     "end_time": "2022-11-30T15:57:57.606179Z",
     "start_time": "2022-11-30T15:57:57.576287Z"
    }
   },
   "outputs": [],
   "source": [
    "ASASSN_Mrk590_g[ASASSN_Mrk590_g['flux_err']>1]"
   ]
  },
  {
   "cell_type": "code",
   "execution_count": null,
   "id": "a5d2460a",
   "metadata": {
    "ExecuteTime": {
     "end_time": "2022-11-30T15:53:47.569528Z",
     "start_time": "2022-11-30T15:53:47.561280Z"
    }
   },
   "outputs": [],
   "source": [
    "print(uvot_uvv.columns[3],uvot_uvv.columns[6],uvot_uvv.columns[7])"
   ]
  },
  {
   "cell_type": "markdown",
   "id": "1ba97816",
   "metadata": {},
   "source": [
    "## def ZTF mag2flxu"
   ]
  },
  {
   "cell_type": "markdown",
   "id": "8e210de1",
   "metadata": {},
   "source": [
    "$f=10^{-0.4(m-8.9)}$ [](JY)\n",
    "\n",
    "$\\sigma_f=0.4 \\mathrm{ln}(10) \\times f \\times \\sigma_m $\n",
    "\n"
   ]
  },
  {
   "cell_type": "code",
   "execution_count": null,
   "id": "531a0767",
   "metadata": {
    "ExecuteTime": {
     "end_time": "2022-12-28T10:39:21.967884Z",
     "start_time": "2022-12-28T10:39:21.957256Z"
    }
   },
   "outputs": [],
   "source": [
    "def ztf_mag2flux(data,mag_label_,magerr_label): #Jy\n",
    "    data['flux']=  10**((data['mag']-8.9)*(-0.4))#Jy\n",
    "    data['flux_err']=0.4 *np.log(10)*data['flux']*data['magerr']\n",
    "    return data   "
   ]
  },
  {
   "cell_type": "markdown",
   "id": "6c675146",
   "metadata": {},
   "source": [
    "## def get_lagdata_ztf"
   ]
  },
  {
   "cell_type": "code",
   "execution_count": null,
   "id": "3120b2bf",
   "metadata": {
    "ExecuteTime": {
     "end_time": "2022-12-28T10:39:24.124961Z",
     "start_time": "2022-12-28T10:39:24.112363Z"
    }
   },
   "outputs": [],
   "source": [
    "def get_lagdata_ztf(data_r_):\n",
    "    lag_zrf_r_=pd.DataFrame()\n",
    "    lag_zrf_r_['t']=data_r_['mjd']\n",
    "    lag_zrf_r_['flux']=      data_r_['flux']*1000\n",
    "    lag_zrf_r_['flux_err']=  data_r_['flux_err']*1000\n",
    "    lag_zrf_r_=lag_zrf_r_.sort_values('t')\n",
    "    lag_zrf_r_=drop_index(lag_zrf_r_)\n",
    "    return lag_zrf_r_"
   ]
  },
  {
   "cell_type": "markdown",
   "id": "903a948f",
   "metadata": {},
   "source": [
    "## ztf"
   ]
  },
  {
   "cell_type": "code",
   "execution_count": null,
   "id": "4a2ff308",
   "metadata": {
    "ExecuteTime": {
     "end_time": "2022-12-28T10:40:45.388229Z",
     "start_time": "2022-12-28T10:40:45.298370Z"
    }
   },
   "outputs": [],
   "source": [
    "from ztfquery import lightcurve"
   ]
  },
  {
   "cell_type": "markdown",
   "id": "acd571ab",
   "metadata": {},
   "source": [
    "410nm—550nm and 700nm—900nm respectively: BANDNAME=g,i\n",
    "g 410nm—550nm \n",
    "r 550nm-700nm\n",
    "i 700nm—900nm"
   ]
  },
  {
   "cell_type": "code",
   "execution_count": null,
   "id": "c9fd8479",
   "metadata": {
    "ExecuteTime": {
     "end_time": "2022-12-28T10:41:14.780589Z",
     "start_time": "2022-12-28T10:40:59.032002Z"
    }
   },
   "outputs": [],
   "source": [
    "circle_Mrk590=[33.6398442,-0.7666930,0.0014]\n",
    "\n",
    "data_g_Mrk590 = lightcurve.LCQuery.download_data(circle=circle_Mrk590, bandname=\"g\",BAD_CATFLAGS_MASK=32768)\n",
    "\n",
    "data_i_Mrk590 = lightcurve.LCQuery.download_data(circle=circle_Mrk590, bandname=\"i\",BAD_CATFLAGS_MASK=15)\n",
    "\n",
    "data_r_Mrk590= lightcurve.LCQuery.download_data(circle=circle_Mrk590, bandname=\"r\",BAD_CATFLAGS_MASK=32768)"
   ]
  },
  {
   "cell_type": "code",
   "execution_count": null,
   "id": "e2c6f722",
   "metadata": {
    "ExecuteTime": {
     "end_time": "2022-12-01T13:28:53.127485Z",
     "start_time": "2022-12-01T13:28:53.116398Z"
    }
   },
   "outputs": [],
   "source": [
    "data_g_Mrk590.columns"
   ]
  },
  {
   "cell_type": "code",
   "execution_count": null,
   "id": "e9f6d60f",
   "metadata": {
    "ExecuteTime": {
     "end_time": "2022-12-28T10:41:18.032227Z",
     "start_time": "2022-12-28T10:41:18.009685Z"
    }
   },
   "outputs": [],
   "source": [
    "mag_label_,magerr_label=('mag','magerr')\n",
    "data_g_Mrk590=ztf_mag2flux(data_g_Mrk590,mag_label_,magerr_label)\n",
    "data_r_Mrk590=ztf_mag2flux(data_r_Mrk590,mag_label_,magerr_label)\n",
    "data_i_Mrk590=ztf_mag2flux(data_i_Mrk590,mag_label_,magerr_label)"
   ]
  },
  {
   "cell_type": "markdown",
   "id": "d3f2dd89",
   "metadata": {
    "ExecuteTime": {
     "end_time": "2022-12-01T13:35:16.023164Z",
     "start_time": "2022-12-01T13:35:16.007385Z"
    }
   },
   "source": [
    "data_g_Mrk590['flux'],data_g_Mrk590['flux_err']"
   ]
  },
  {
   "cell_type": "code",
   "execution_count": null,
   "id": "bab61589",
   "metadata": {
    "ExecuteTime": {
     "end_time": "2022-12-01T17:53:28.756302Z",
     "start_time": "2022-12-01T17:53:28.719675Z"
    }
   },
   "outputs": [],
   "source": [
    "data_r_Mrk590"
   ]
  },
  {
   "cell_type": "code",
   "execution_count": null,
   "id": "f4290fda",
   "metadata": {
    "ExecuteTime": {
     "end_time": "2022-12-01T17:53:20.000197Z",
     "start_time": "2022-12-01T17:53:19.956804Z"
    }
   },
   "outputs": [],
   "source": [
    "data_g_Mrk590"
   ]
  },
  {
   "cell_type": "code",
   "execution_count": null,
   "id": "8a9dd685",
   "metadata": {
    "ExecuteTime": {
     "end_time": "2022-12-01T17:53:09.828916Z",
     "start_time": "2022-12-01T17:53:09.812756Z"
    }
   },
   "outputs": [],
   "source": [
    "data_i_Mrk590"
   ]
  },
  {
   "cell_type": "markdown",
   "id": "c799d4d1",
   "metadata": {},
   "source": [
    "## plot"
   ]
  },
  {
   "cell_type": "code",
   "execution_count": null,
   "id": "6af0c22f",
   "metadata": {
    "ExecuteTime": {
     "end_time": "2022-12-28T10:41:34.065217Z",
     "start_time": "2022-12-28T10:41:34.053866Z"
    }
   },
   "outputs": [],
   "source": [
    "uvot_6bands,colors_6band,markers_6bands"
   ]
  },
  {
   "cell_type": "code",
   "execution_count": null,
   "id": "506358f4",
   "metadata": {
    "ExecuteTime": {
     "end_time": "2022-12-28T10:42:08.021585Z",
     "start_time": "2022-12-28T10:42:05.639071Z"
    }
   },
   "outputs": [],
   "source": [
    "fig = plt.figure(figsize=(12, 8))\n",
    "#fig.subplots_adjust(left=0.1, right=0.75, bottom=0.12, top=0.95)\n",
    "# Add axes object to our figure that takes up entire figure\n",
    "#ax = fig.add_axes([0, 0, 1, 1])\n",
    "ax=fig.add_subplot(1,1,1)\n",
    "\n",
    "for index,(band,uf_,c_,m_) in enumerate(zip(uvot_6bands,uvot_6band_data_Mrk590,colors_6band,markers_6bands)):\n",
    "    ax.errorbar(uf_[uf_.columns[3]],uf_[uf_.columns[6]],uf_[uf_.columns[7]],color=c_,marker=m_,alpha=0.8,ls=':',label=label_dict_uv[band])    \n",
    "    \n",
    "ax.errorbar(ASASSN_Mrk590_V['HJD']-2400000.5,ASASSN_Mrk590_V['flux(mJy)'],\n",
    "            marker='.',\n",
    "            yerr=ASASSN_Mrk590_V['flux_err'],label='ASASSN-V',ls='',)    \n",
    "ax.errorbar(ASASSN_Mrk590_g['HJD']-2400000.5,ASASSN_Mrk590_g['flux(mJy)'],\n",
    "            marker='.',\n",
    "            yerr=ASASSN_Mrk590_g['flux_err'],label='ASASSN-g',ls='',) \n",
    "\n",
    "\n",
    "\n",
    "ax.errorbar(data_g_Mrk590['mjd'],\n",
    "            data_g_Mrk590['flux']*1000,\n",
    "            yerr=data_g_Mrk590['flux_err']*1000,            \n",
    "            marker='*',\n",
    "            color='green',\n",
    "            label='ztf-g',ls='',) \n",
    "ax.errorbar(data_r_Mrk590['mjd'],\n",
    "            data_r_Mrk590['flux']*1000,\n",
    "            yerr=data_r_Mrk590['flux_err']*1000,  \n",
    "            color='red',\n",
    "            marker='*',\n",
    "            label='ztf-r',ls='',) \n",
    "ax.errorbar(data_i_Mrk590['mjd'],\n",
    "            data_i_Mrk590['flux']*1000,\n",
    "            yerr=data_i_Mrk590['flux_err']*1000 ,           \n",
    "            marker='*',\n",
    "            color='cyan',\n",
    "            label='ztf-i',ls='',) \n",
    "\n",
    "ax_x=ax.twinx()\n",
    "ax_x.errorbar(XRT_rate_Mrk590['time'],XRT_rate_Mrk590['rate'],XRT_rate_Mrk590['error'],\n",
    "             marker='o',\n",
    "             color='grey',\n",
    "             label='XRT',ls='',) \n",
    "ax_x.set_ylabel('count/s')\n",
    "\n",
    "ax.set_xlabel('MJD')\n",
    "ax.set_ylabel('F(mJy)')\n",
    "#set_ax_legend(ax)\n",
    "set_ax_legend_sequence(ax)\n",
    "set_ax_legend(ax_x,bbox_to_anchor=(0.8,0.99))\n",
    "\n",
    "set_ax_tick(ax)\n",
    "set_ax_locator(ax,xma=200,xmi=100,yma=10,ymi=2)\n",
    "\n",
    "plot_secax(ax,mi_interval=90,ma_interval=180,rotation=30)\n",
    "\n",
    "ax.set_title('Mrk 590')\n",
    "\n",
    "\n",
    "range_l,range_r=(57900+1,59000-1)\n",
    "#ax.set_xlim(57900+1,59000-1)\n",
    "ax.set_xlim(range_l,range_r)\n",
    "#ax.set_ylim(0.1,9.9)\n",
    "save_lc_img_path='/Users/lyubing/Downloads/CLAGN_swift/Mrk590_%d_%d.png'%(range_l,range_r)\n",
    "#save_lc_img_path='/Users/brettlv/Downloads/PKS1510_plot/Mojave_15GHz_I_lc.png'\n",
    "plt.savefig(save_lc_img_path,dpi=400, transparent=False, bbox_inches='tight')\n"
   ]
  },
  {
   "cell_type": "code",
   "execution_count": null,
   "id": "cddd5a21",
   "metadata": {
    "ExecuteTime": {
     "end_time": "2022-12-28T10:42:44.611436Z",
     "start_time": "2022-12-28T10:42:42.435820Z"
    }
   },
   "outputs": [],
   "source": [
    "fig = plt.figure(figsize=(12, 8))\n",
    "#fig.subplots_adjust(left=0.1, right=0.75, bottom=0.12, top=0.95)\n",
    "# Add axes object to our figure that takes up entire figure\n",
    "#ax = fig.add_axes([0, 0, 1, 1])\n",
    "ax=fig.add_subplot(1,1,1)\n",
    "\n",
    "for index,(band,uf_,c_,m_) in enumerate(zip(uvot_6bands,uvot_6band_data_Mrk590,colors_6band,markers_6bands)):\n",
    "\n",
    "    ax.errorbar(uf_[uf_.columns[3]],uf_[uf_.columns[6]],uf_[uf_.columns[7]],color=c_,marker=m_,alpha=0.8,ls=':',label=label_dict_uv[band])    \n",
    "    \n",
    "ax.errorbar(ASASSN_Mrk590_V['HJD']-2400000.5,ASASSN_Mrk590_V['flux(mJy)'],\n",
    "            marker='.',\n",
    "            yerr=ASASSN_Mrk590_V['flux_err'],label='ASASSN-V',ls='',)    \n",
    "ax.errorbar(ASASSN_Mrk590_g['HJD']-2400000.5,ASASSN_Mrk590_g['flux(mJy)'],\n",
    "            marker='.',\n",
    "            yerr=ASASSN_Mrk590_g['flux_err'],label='ASASSN-g',ls='',) \n",
    "\n",
    "\n",
    "ax.errorbar(data_g_Mrk590['mjd'],\n",
    "            data_g_Mrk590['flux']*1000,\n",
    "            yerr=data_g_Mrk590['flux_err']*1000,            \n",
    "            marker='*',\n",
    "            color='green',\n",
    "            label='ztf-g',ls='',) \n",
    "ax.errorbar(data_r_Mrk590['mjd'],\n",
    "            data_r_Mrk590['flux']*1000,\n",
    "            yerr=data_r_Mrk590['flux_err']*1000,  \n",
    "            color='red',\n",
    "            marker='*',\n",
    "            label='ztf-r',ls='',) \n",
    "ax.errorbar(data_i_Mrk590['mjd'],\n",
    "            data_i_Mrk590['flux']*1000,\n",
    "            yerr=data_i_Mrk590['flux_err']*1000 ,           \n",
    "            marker='*',\n",
    "            color='cyan',\n",
    "            label='ztf-i',ls='',) \n",
    "\n",
    "ax_x=ax.twinx()\n",
    "ax_x.errorbar(XRT_rate_Mrk590['time'],XRT_rate_Mrk590['rate'],XRT_rate_Mrk590['error'],\n",
    "             marker='o',\n",
    "             color='grey',\n",
    "             label='XRT',ls='',) \n",
    "ax_x.set_ylabel('count/s')\n",
    "\n",
    "ax.set_xlabel('MJD')\n",
    "ax.set_ylabel('F(mJy)')\n",
    "#set_ax_legend(ax)\n",
    "set_ax_legend_sequence(ax)\n",
    "set_ax_legend(ax_x,bbox_to_anchor=(0.8,0.99))\n",
    "\n",
    "set_ax_tick(ax)\n",
    "set_ax_locator(ax,xma=100,xmi=20,yma=10,ymi=2)\n",
    "\n",
    "plot_secax(ax,mi_interval=30,ma_interval=90,rotation=30)\n",
    "#ax.set_xlim(57900,59000)\n",
    "#ax.set_xlim(58200+1,58600-1)\n",
    "\n",
    "\n",
    "ax.set_title('Mrk 590')\n",
    "\n",
    "range_l,range_r=(58200+1,58600-1)\n",
    "#ax.set_xlim(57900+1,59000-1)\n",
    "ax.set_xlim(range_l,range_r)\n",
    "#ax.set_ylim(0.1,9.9)\n",
    "save_lc_img_path='/Users/lyubing/Downloads/CLAGN_swift/Mrk590_%d_%d.png'%(range_l,range_r)\n",
    "#save_lc_img_path='/Users/brettlv/Downloads/PKS1510_plot/Mojave_15GHz_I_lc.png'\n",
    "plt.savefig(save_lc_img_path,dpi=400, transparent=False, bbox_inches='tight')\n"
   ]
  },
  {
   "cell_type": "code",
   "execution_count": null,
   "id": "e25b5f58",
   "metadata": {
    "ExecuteTime": {
     "end_time": "2022-12-28T10:43:15.872859Z",
     "start_time": "2022-12-28T10:43:13.973644Z"
    }
   },
   "outputs": [],
   "source": [
    "fig = plt.figure(figsize=(12, 8))\n",
    "#fig.subplots_adjust(left=0.1, right=0.75, bottom=0.12, top=0.95)\n",
    "# Add axes object to our figure that takes up entire figure\n",
    "#ax = fig.add_axes([0, 0, 1, 1])\n",
    "ax=fig.add_subplot(1,1,1)\n",
    "\n",
    "for index,(band,uf_,c_,m_) in enumerate(zip(uvot_6bands,uvot_6band_data_Mrk590,colors_6band,markers_6bands)):\n",
    "\n",
    "    ax.errorbar(uf_[uf_.columns[3]],uf_[uf_.columns[6]],uf_[uf_.columns[7]],color=c_,marker=m_,alpha=0.8,ls=':',label=label_dict_uv[band])    \n",
    "    \n",
    "ax.errorbar(ASASSN_Mrk590_V['HJD']-2400000.5,ASASSN_Mrk590_V['flux(mJy)'],\n",
    "            marker='.',\n",
    "            yerr=ASASSN_Mrk590_V['flux_err'],label='ASASSN-V',ls='',)    \n",
    "ax.errorbar(ASASSN_Mrk590_g['HJD']-2400000.5,ASASSN_Mrk590_g['flux(mJy)'],\n",
    "            marker='.',\n",
    "            yerr=ASASSN_Mrk590_g['flux_err'],label='ASASSN-g',ls='',) \n",
    "\n",
    "\n",
    "ax.errorbar(data_g_Mrk590['mjd'],\n",
    "            data_g_Mrk590['flux']*1000,\n",
    "            yerr=data_g_Mrk590['flux_err']*1000,            \n",
    "            marker='*',\n",
    "            color='green',\n",
    "            label='ztf-g',ls='',) \n",
    "ax.errorbar(data_r_Mrk590['mjd'],\n",
    "            data_r_Mrk590['flux']*1000,\n",
    "            yerr=data_r_Mrk590['flux_err']*1000,  \n",
    "            color='red',\n",
    "            marker='*',\n",
    "            label='ztf-r',ls='',) \n",
    "ax.errorbar(data_i_Mrk590['mjd'],\n",
    "            data_i_Mrk590['flux']*1000,\n",
    "            yerr=data_i_Mrk590['flux_err']*1000 ,           \n",
    "            marker='*',\n",
    "            color='cyan',\n",
    "            label='ztf-i',ls='',) \n",
    "\n",
    "ax_x=ax.twinx()\n",
    "ax_x.errorbar(XRT_rate_Mrk590['time'],XRT_rate_Mrk590['rate'],XRT_rate_Mrk590['error'],\n",
    "             marker='o',\n",
    "             color='grey',\n",
    "             label='XRT',ls='',) \n",
    "ax_x.set_ylabel('count/s')\n",
    "\n",
    "ax.set_xlabel('MJD')\n",
    "ax.set_ylabel('F(mJy)')\n",
    "#set_ax_legend(ax)\n",
    "set_ax_legend_sequence(ax)\n",
    "set_ax_legend(ax_x,bbox_to_anchor=(0.8,0.99))\n",
    "\n",
    "set_ax_tick(ax)\n",
    "set_ax_locator(ax,xma=100,xmi=20,yma=10,ymi=2)\n",
    "\n",
    "plot_secax(ax,mi_interval=30,ma_interval=90,rotation=30)\n",
    "#ax.set_xlim(57900,59000)\n",
    "#ax.set_xlim(58200+1,58600-1)\n",
    "\n",
    "\n",
    "ax.set_title('Mrk 590')\n",
    "\n",
    "range_l,range_r=(58000+1,58200-1)\n",
    "#ax.set_xlim(57900+1,59000-1)\n",
    "ax.set_xlim(range_l,range_r)\n",
    "#ax.set_ylim(0.1,9.9)\n",
    "save_lc_img_path='/Users/lyubing/Downloads/CLAGN_swift/Mrk590_%d_%d.png'%(range_l,range_r)\n",
    "#save_lc_img_path='/Users/brettlv/Downloads/PKS1510_plot/Mojave_15GHz_I_lc.png'\n",
    "plt.savefig(save_lc_img_path,dpi=400, transparent=False, bbox_inches='tight')\n"
   ]
  },
  {
   "cell_type": "code",
   "execution_count": null,
   "id": "33492099",
   "metadata": {
    "ExecuteTime": {
     "end_time": "2022-12-28T10:43:43.117226Z",
     "start_time": "2022-12-28T10:43:41.169584Z"
    }
   },
   "outputs": [],
   "source": [
    "fig = plt.figure(figsize=(12, 8))\n",
    "#fig.subplots_adjust(left=0.1, right=0.75, bottom=0.12, top=0.95)\n",
    "# Add axes object to our figure that takes up entire figure\n",
    "#ax = fig.add_axes([0, 0, 1, 1])\n",
    "ax=fig.add_subplot(1,1,1)\n",
    "\n",
    "for index,(band,uf_,c_,m_) in enumerate(zip(uvot_6bands,uvot_6band_data_Mrk590,colors_6band,markers_6bands)):\n",
    "\n",
    "    ax.errorbar(uf_[uf_.columns[3]],uf_[uf_.columns[6]],uf_[uf_.columns[7]],color=c_,marker=m_,alpha=0.8,ls=':',label=label_dict_uv[band])    \n",
    "    \n",
    "ax.errorbar(ASASSN_Mrk590_V['HJD']-2400000.5,ASASSN_Mrk590_V['flux(mJy)'],\n",
    "            marker='.',\n",
    "            yerr=ASASSN_Mrk590_V['flux_err'],label='ASASSN-V',ls='',)    \n",
    "ax.errorbar(ASASSN_Mrk590_g['HJD']-2400000.5,ASASSN_Mrk590_g['flux(mJy)'],\n",
    "            marker='.',\n",
    "            yerr=ASASSN_Mrk590_g['flux_err'],label='ASASSN-g',ls='',) \n",
    "\n",
    "\n",
    "\n",
    "\n",
    "\n",
    "ax.errorbar(data_g_Mrk590['mjd'],\n",
    "            data_g_Mrk590['flux']*1000,\n",
    "            yerr=data_g_Mrk590['flux_err']*1000,            \n",
    "            marker='*',\n",
    "            color='green',\n",
    "            label='ztf-g',ls='',) \n",
    "ax.errorbar(data_r_Mrk590['mjd'],\n",
    "            data_r_Mrk590['flux']*1000,\n",
    "            yerr=data_r_Mrk590['flux_err']*1000,  \n",
    "            color='red',\n",
    "            marker='*',\n",
    "            label='ztf-r',ls='',) \n",
    "ax.errorbar(data_i_Mrk590['mjd'],\n",
    "            data_i_Mrk590['flux']*1000,\n",
    "            yerr=data_i_Mrk590['flux_err']*1000 ,           \n",
    "            marker='*',\n",
    "            color='cyan',\n",
    "            label='ztf-i',ls='',) \n",
    "\n",
    "ax_x=ax.twinx()\n",
    "ax_x.errorbar(XRT_rate_Mrk590['time'],XRT_rate_Mrk590['rate'],XRT_rate_Mrk590['error'],\n",
    "             marker='o',\n",
    "             color='grey',\n",
    "             label='XRT',ls='',) \n",
    "ax_x.set_ylabel('count/s')\n",
    "\n",
    "ax.set_xlabel('MJD')\n",
    "ax.set_ylabel('F(mJy)')\n",
    "#set_ax_legend(ax)\n",
    "set_ax_legend_sequence(ax)\n",
    "set_ax_legend(ax_x,bbox_to_anchor=(0.8,0.99))\n",
    "\n",
    "set_ax_tick(ax)\n",
    "set_ax_locator(ax,xma=100,xmi=20,yma=10,ymi=2)\n",
    "\n",
    "plot_secax(ax,mi_interval=30,ma_interval=90,rotation=30)\n",
    "#ax.set_xlim(57900,59000)\n",
    "#ax.set_xlim(58200+1,58600-1)\n",
    "\n",
    "\n",
    "ax.set_title('Mrk 590')\n",
    "\n",
    "range_l,range_r=(58600+1,58900-1)\n",
    "#ax.set_xlim(57900+1,59000-1)\n",
    "ax.set_xlim(range_l,range_r)\n",
    "#ax.set_ylim(0.1,9.9)\n",
    "save_lc_img_path='/Users/lyubing/Downloads/CLAGN_swift/Mrk590_%d_%d.png'%(range_l,range_r)\n",
    "#save_lc_img_path='/Users/brettlv/Downloads/PKS1510_plot/Mojave_15GHz_I_lc.png'\n",
    "plt.savefig(save_lc_img_path,dpi=400, transparent=False, bbox_inches='tight')\n"
   ]
  },
  {
   "cell_type": "markdown",
   "id": "9d72cb93",
   "metadata": {},
   "source": [
    "### UV-XRT"
   ]
  },
  {
   "cell_type": "code",
   "execution_count": null,
   "id": "a81cb2ab",
   "metadata": {
    "ExecuteTime": {
     "end_time": "2022-12-28T10:44:09.801976Z",
     "start_time": "2022-12-28T10:44:07.862466Z"
    }
   },
   "outputs": [],
   "source": [
    "fig = plt.figure(figsize=(12, 8))\n",
    "#fig.subplots_adjust(left=0.1, right=0.75, bottom=0.12, top=0.95)\n",
    "# Add axes object to our figure that takes up entire figure\n",
    "#ax = fig.add_axes([0, 0, 1, 1])\n",
    "ax=fig.add_subplot(1,1,1)\n",
    "\n",
    "for index,(band,uf_,c_,m_) in enumerate(zip(uvot_6bands,uvot_6band_data_Mrk590,colors_6band,markers_6bands)):\n",
    "\n",
    "    ax.errorbar(uf_[uf_.columns[3]],uf_[uf_.columns[6]],uf_[uf_.columns[7]],color=c_,marker=m_,alpha=0.8,ls=':',label=label_dict_uv[band])    \n",
    "    \n",
    "\n",
    "\n",
    "ax_x=ax.twinx()\n",
    "ax_x.errorbar(XRT_rate_Mrk590['time'],XRT_rate_Mrk590['rate'],XRT_rate_Mrk590['error'],\n",
    "             marker='o',\n",
    "             color='grey',\n",
    "             label='XRT',ls='',) \n",
    "ax_x.set_ylabel('count/s')\n",
    "\n",
    "ax.set_xlabel('MJD')\n",
    "ax.set_ylabel('F(mJy)')\n",
    "#set_ax_legend(ax)\n",
    "set_ax_legend_sequence(ax)\n",
    "set_ax_legend(ax_x,bbox_to_anchor=(0.8,0.99))\n",
    "\n",
    "set_ax_tick(ax)\n",
    "set_ax_locator(ax,xma=200,xmi=100,yma=2,ymi=0.5)\n",
    "\n",
    "plot_secax(ax,mi_interval=90,ma_interval=180,rotation=30)\n",
    "\n",
    "ax.set_title('Mrk 590')\n",
    "range_l,range_r=(57900+1,59000-1)\n",
    "#ax.set_xlim(57900+1,59000-1)\n",
    "ax.set_xlim(range_l,range_r)\n",
    "#ax.set_ylim(0.1,9.9)\n",
    "save_lc_img_path='/Users/lyubing/Downloads/CLAGN_swift/Mrk590_UV_XRT_%d_%d.png'%(range_l,range_r)\n",
    "#save_lc_img_path='/Users/brettlv/Downloads/PKS1510_plot/Mojave_15GHz_I_lc.png'\n",
    "plt.savefig(save_lc_img_path,dpi=400, transparent=False, bbox_inches='tight')\n"
   ]
  },
  {
   "cell_type": "code",
   "execution_count": null,
   "id": "50f44f1e",
   "metadata": {},
   "outputs": [],
   "source": []
  },
  {
   "cell_type": "code",
   "execution_count": null,
   "id": "d4650eb7",
   "metadata": {},
   "outputs": [],
   "source": []
  },
  {
   "cell_type": "code",
   "execution_count": null,
   "id": "2c763154",
   "metadata": {},
   "outputs": [],
   "source": []
  },
  {
   "cell_type": "markdown",
   "id": "81ea45fc",
   "metadata": {},
   "source": [
    "### UV-ASAS-SN"
   ]
  },
  {
   "cell_type": "code",
   "execution_count": null,
   "id": "243e9821",
   "metadata": {
    "ExecuteTime": {
     "end_time": "2022-12-28T10:46:59.850633Z",
     "start_time": "2022-12-28T10:46:57.646922Z"
    }
   },
   "outputs": [],
   "source": [
    "fig = plt.figure(figsize=(8, 10))\n",
    "#fig.subplots_adjust(left=0.1, right=0.75, bottom=0.12, top=0.95)\n",
    "# Add axes object to our figure that takes up entire figure\n",
    "#ax = fig.add_axes([0, 0, 1, 1])\n",
    "ax=fig.add_subplot(1,1,1)\n",
    "\n",
    "for index,(band,uf_,c_,m_) in enumerate(zip(uvot_6bands,uvot_6band_data_Mrk590,colors_6band,markers_6bands)):\n",
    "\n",
    "    ax.errorbar(uf_[uf_.columns[3]],uf_[uf_.columns[6]],uf_[uf_.columns[7]],color=c_,marker=m_,alpha=0.8,ls=':',label=label_dict_uv[band])    \n",
    "    \n",
    "\n",
    "ax_x=ax.twinx()\n",
    "ax_x.errorbar(ASASSN_Mrk590_V['HJD']-2400000.5,ASASSN_Mrk590_V['flux(mJy)'],\n",
    "            marker='.',\n",
    "            yerr=ASASSN_Mrk590_V['flux_err'],label='ASASSN-V',ls='',)    \n",
    "ax_x.errorbar(ASASSN_Mrk590_g['HJD']-2400000.5,ASASSN_Mrk590_g['flux(mJy)'],\n",
    "            marker='.',\n",
    "            yerr=ASASSN_Mrk590_g['flux_err'],label='ASASSN-g',ls='',) \n",
    "#ax_x.set_ylabel('')\n",
    "\n",
    "ax.set_xlabel('MJD')\n",
    "ax.set_ylabel('F(mJy)')\n",
    "#set_ax_legend(ax)\n",
    "set_ax_legend_sequence(ax)\n",
    "set_ax_legend(ax_x,bbox_to_anchor=(0.7,0.99))\n",
    "\n",
    "set_ax_tick(ax)\n",
    "set_ax_locator(ax,xma=100,xmi=20,yma=2,ymi=0.5)\n",
    "\n",
    "plot_secax(ax,mi_interval=30,ma_interval=60,rotation=30)\n",
    "\n",
    "ax.axvline(58311,ls=':', alpha=0.9,label='supernova ASASSN-18pb')\n",
    "\n",
    "\n",
    "ax.set_title('Mrk 590')\n",
    "range_l,range_r=(58200+1,58600-1)\n",
    "#ax.set_xlim(57900+1,59000-1)\n",
    "ax.set_xlim(range_l,range_r)\n",
    "#ax.set_ylim(0.1,9.9)\n",
    "save_lc_img_path='/Users/lyubing/Downloads/CLAGN_swift/Mrk590_UV_ASASSN_%d_%d.png'%(range_l,range_r)\n",
    "#save_lc_img_path='/Users/brettlv/Downloads/PKS1510_plot/Mojave_15GHz_I_lc.png'\n",
    "plt.savefig(save_lc_img_path,dpi=400, transparent=False, bbox_inches='tight')\n"
   ]
  },
  {
   "cell_type": "markdown",
   "id": "28d4fda0",
   "metadata": {},
   "source": [
    "### UV-ztf"
   ]
  },
  {
   "cell_type": "code",
   "execution_count": null,
   "id": "982ba69a",
   "metadata": {
    "ExecuteTime": {
     "end_time": "2022-12-28T10:48:02.682179Z",
     "start_time": "2022-12-28T10:48:00.821644Z"
    }
   },
   "outputs": [],
   "source": [
    "fig = plt.figure(figsize=(12, 8))\n",
    "#fig.subplots_adjust(left=0.1, right=0.75, bottom=0.12, top=0.95)\n",
    "# Add axes object to our figure that takes up entire figure\n",
    "#ax = fig.add_axes([0, 0, 1, 1])\n",
    "ax=fig.add_subplot(1,1,1)\n",
    "\n",
    "for index,(band,uf_,c_,m_) in enumerate(zip(uvot_6bands,uvot_6band_data_Mrk590,colors_6band,markers_6bands)):\n",
    "\n",
    "    ax.errorbar(uf_[uf_.columns[3]],uf_[uf_.columns[6]],uf_[uf_.columns[7]],color=c_,marker=m_,alpha=0.8,ls=':',label=label_dict_uv[band])    \n",
    "    \n",
    "\n",
    "\n",
    "\n",
    "ax_x=ax.twinx()\n",
    "ax_x.errorbar(data_g_Mrk590['mjd'],\n",
    "            data_g_Mrk590['flux']*1000,\n",
    "            yerr=data_g_Mrk590['flux_err']*1000,            \n",
    "            marker='*',\n",
    "            color='green',\n",
    "            label='ztf-g',ls='',) \n",
    "ax_x.errorbar(data_r_Mrk590['mjd'],\n",
    "            data_r_Mrk590['flux']*1000,\n",
    "            yerr=data_r_Mrk590['flux_err']*1000,  \n",
    "            color='red',\n",
    "            marker='*',\n",
    "            label='ztf-r',ls='',) \n",
    "ax_x.errorbar(data_i_Mrk590['mjd'],\n",
    "            data_i_Mrk590['flux']*1000,\n",
    "            yerr=data_i_Mrk590['flux_err']*1000 ,           \n",
    "            marker='*',\n",
    "            color='cyan',\n",
    "            label='ztf-i',ls='',) #ax_x.set_ylabel('')\n",
    "\n",
    "ax.set_xlabel('MJD')\n",
    "ax.set_ylabel('F(mJy)')\n",
    "#set_ax_legend(ax)\n",
    "set_ax_legend_sequence(ax)\n",
    "set_ax_legend(ax_x,bbox_to_anchor=(0.8,0.99))\n",
    "\n",
    "set_ax_tick(ax)\n",
    "set_ax_locator(ax,xma=100,xmi=20,yma=2,ymi=0.5)\n",
    "\n",
    "plot_secax(ax,mi_interval=30,ma_interval=60,rotation=30)\n",
    "\n",
    "ax.set_title('Mrk 590')\n",
    "range_l,range_r=(58600+1,59000-1)\n",
    "#ax.set_xlim(57900+1,59000-1)\n",
    "ax.set_xlim(range_l,range_r)\n",
    "#ax.set_ylim(0.1,9.9)\n",
    "save_lc_img_path='/Users/lyubing/Downloads/CLAGN_swift/Mrk590_UV_ztf_%d_%d.png'%(range_l,range_r)\n",
    "#save_lc_img_path='/Users/brettlv/Downloads/PKS1510_plot/Mojave_15GHz_I_lc.png'\n",
    "plt.savefig(save_lc_img_path,dpi=400, transparent=False, bbox_inches='tight')\n"
   ]
  },
  {
   "cell_type": "code",
   "execution_count": null,
   "id": "966daa4f",
   "metadata": {},
   "outputs": [],
   "source": []
  },
  {
   "cell_type": "code",
   "execution_count": null,
   "id": "ba7808e3",
   "metadata": {},
   "outputs": [],
   "source": []
  },
  {
   "cell_type": "code",
   "execution_count": null,
   "id": "d41c44f5",
   "metadata": {},
   "outputs": [],
   "source": []
  },
  {
   "cell_type": "code",
   "execution_count": null,
   "id": "5339163a",
   "metadata": {},
   "outputs": [],
   "source": []
  },
  {
   "cell_type": "markdown",
   "id": "7df79c1a",
   "metadata": {},
   "source": [
    "# def write_lagfile"
   ]
  },
  {
   "cell_type": "code",
   "execution_count": null,
   "id": "9f2b5a26",
   "metadata": {
    "ExecuteTime": {
     "end_time": "2022-12-28T15:06:47.200487Z",
     "start_time": "2022-12-28T15:06:47.183727Z"
    }
   },
   "outputs": [],
   "source": [
    "def write_lagfile(rootdir,sourcename,labelname1,labelname2,dataname1,dataname2,rangemin,rangemax):\n",
    "    #sourcename=sourcename_origin.strip().replace(' ','')\n",
    "    \n",
    "    if not os.path.exists(os.path.join(rootdir,sourcename)):\n",
    "        os.mkdir(os.path.join(rootdir,sourcename))\n",
    "        \n",
    "    data1= dataname1[dataname1['t']>=rangemin]\n",
    "    data1= data1[data1['t']<=rangemax]   \n",
    "    path_data1=os.path.join(rootdir,sourcename,labelname1+'_'+labelname2+'_%d_%d.csv'%(rangemin,rangemax))\n",
    "    #if os.path.exists(path_data1):\n",
    "        #os.remove(path_data1)\n",
    "    data1.to_csv(path_data1,index=False,header=False,sep=',')\n",
    "    \n",
    "    data2= dataname2[dataname2['t']>=rangemin]\n",
    "    data2= data2[data2['t']<=rangemax]    \n",
    "    path_data2=os.path.join(rootdir,sourcename,labelname2+'_'+labelname1+'_%d_%d.csv'%(rangemin,rangemax))\n",
    "    #if os.path.exists(path_data2):\n",
    "        #os.remove(path_data2)            \n",
    "    data2.to_csv(path_data2,index=False,header=False,sep=',')  \n",
    "    return path_data1,path_data2    "
   ]
  },
  {
   "cell_type": "code",
   "execution_count": null,
   "id": "7ccdf8b2",
   "metadata": {
    "ExecuteTime": {
     "end_time": "2022-12-28T15:06:49.455824Z",
     "start_time": "2022-12-28T15:06:49.447445Z"
    }
   },
   "outputs": [],
   "source": [
    "def get_lagfile(rootdir,sourcename,labelname1,labelname2,dataname1,dataname2,rangemin,rangemax):\n",
    "    #sourcename=sourcename_origin.strip().replace(' ','')\n",
    "    #data1= dataname1[dataname1['t']>rangemin]\n",
    "    #data1= data1[data1['t']<rangemax]   \n",
    "    path_data1=os.path.join(rootdir,sourcename,labelname1+'_'+labelname2+'_%d_%d.csv'%(rangemin,rangemax))\n",
    "    #data1.to_csv(path_data1,index=False,header=False,sep=',')\n",
    "    \n",
    "    #data2= dataname2[dataname2['t']>rangemin]\n",
    "    #data2= data2[data2['t']<rangemax]    \n",
    "    path_data2=os.path.join(rootdir,sourcename,labelname2+'_'+labelname1+'_%d_%d.csv'%(rangemin,rangemax))\n",
    "    #data2.to_csv(path_data2,index=False,header=False,sep=',')  \n",
    "    return path_data1,path_data2 "
   ]
  },
  {
   "cell_type": "code",
   "execution_count": null,
   "id": "8f47dd07",
   "metadata": {
    "ExecuteTime": {
     "end_time": "2022-12-28T15:06:50.701496Z",
     "start_time": "2022-12-28T15:06:50.683854Z"
    }
   },
   "outputs": [],
   "source": [
    "def write_javelin_lagfile(rootdir,sourcename,labelname1,labelname2,dataname1,dataname2,rangemin,rangemax):\n",
    "    #sourcename=sourcename_origin.strip().replace(' ','')\n",
    "    \n",
    "    if not os.path.exists(os.path.join(rootdir,sourcename)):\n",
    "        os.mkdir(os.path.join(rootdir,sourcename))\n",
    "        \n",
    "    data1= dataname1[dataname1['t']>=rangemin]\n",
    "    data1= data1[data1['t']<=rangemax]   \n",
    "    data1=data1.sort_values('t')\n",
    "    path_data1=os.path.join(rootdir,sourcename,labelname1+'_'+labelname2+'_%d_%d.csv'%(rangemin,rangemax))\n",
    "    if os.path.exists(path_data1):\n",
    "        os.remove(path_data1)\n",
    "    data1.to_csv(path_data1,index=False,header=False,sep=' ')\n",
    "    \n",
    "    data2= dataname2[dataname2['t']>=rangemin]\n",
    "    data2= data2[data2['t']<=rangemax] \n",
    "    data2=data2.sort_values('t')\n",
    "    path_data2=os.path.join(rootdir,sourcename,labelname2+'_'+labelname1+'_%d_%d.csv'%(rangemin,rangemax))\n",
    "    if os.path.exists(path_data2):\n",
    "        os.remove(path_data2)    \n",
    "    data2.to_csv(path_data2,index=False,header=False,sep=' ')  \n",
    "    return path_data1,path_data2    "
   ]
  },
  {
   "cell_type": "code",
   "execution_count": null,
   "id": "8b32ffeb",
   "metadata": {},
   "outputs": [],
   "source": []
  },
  {
   "cell_type": "markdown",
   "id": "c93ee27e",
   "metadata": {},
   "source": [
    "# ccf"
   ]
  },
  {
   "cell_type": "code",
   "execution_count": null,
   "id": "ec9d8747",
   "metadata": {
    "ExecuteTime": {
     "end_time": "2022-12-28T10:48:18.957943Z",
     "start_time": "2022-12-28T10:48:18.939328Z"
    }
   },
   "outputs": [],
   "source": [
    "def run_ccf(rootdir,sourcename,labelname1,labelname2,dataname1,dataname2,rangemin,rangemax,lagrangel=-10,lagrangeh=30):\n",
    "    #command='python ccf_ngc1566_cpython.py %s %s %s %s %d %d %d %d'%(path_data1,path_data2,labelname1,labelname2,rangemin,rangemax,lagrangel,lagrangeh)\n",
    "    os.chdir(rootdir)\n",
    "    \n",
    "    source_path=os.path.join(rootdir,sourcename)\n",
    "    \n",
    "    path_data1,path_data2=write_lagfile(rootdir,sourcename,labelname1,labelname2,dataname1,dataname2,rangemin,rangemax)\n",
    "    command='/Users/lyubing/opt/anaconda2/bin/python2 CCF_cpython.py %s %s %s %s %d %d %d %d %s'%(path_data1,path_data2,labelname1,labelname2,rangemin,rangemax,lagrangel,lagrangeh,source_path)\n",
    "    print(command)\n",
    "    os.system(command)  "
   ]
  },
  {
   "cell_type": "code",
   "execution_count": null,
   "id": "be597f92",
   "metadata": {
    "ExecuteTime": {
     "end_time": "2022-12-28T10:48:19.583735Z",
     "start_time": "2022-12-28T10:48:19.567999Z"
    }
   },
   "outputs": [],
   "source": [
    "def plot_ccf(rootdir,sourcename,labelname1,labelname2,dataname1,dataname2,rangemin,rangemax,lagrangel=-10,lagrangeh=30):\n",
    "    #command='python ccf_ngc1566_cpython.py %s %s %s %s %d %d %d %d'%(path_data1,path_data2,labelname1,labelname2,rangemin,rangemax,lagrangel,lagrangeh)\n",
    "    os.chdir(rootdir)\n",
    "    source_path=os.path.join(rootdir,sourcename)\n",
    "    path_data1,path_data2=write_lagfile(rootdir,sourcename,labelname1,labelname2,dataname1,dataname2,rangemin,rangemax)\n",
    "    command='python CCF_plot.py %s %s %s %s %d %d %d %d %s'%(path_data1,path_data2,labelname1,labelname2,rangemin,rangemax,lagrangel,lagrangeh,source_path)\n",
    "    print(command)\n",
    "    os.system(command)    "
   ]
  },
  {
   "cell_type": "code",
   "execution_count": null,
   "id": "cb86267c",
   "metadata": {
    "ExecuteTime": {
     "end_time": "2022-12-28T10:48:21.363973Z",
     "start_time": "2022-12-28T10:48:21.353644Z"
    }
   },
   "outputs": [],
   "source": [
    "root_dir='/Volumes/ExtremeSSD/00PKU_SCI/CLAGN'\n",
    "rootdir_ccf_xray='%s/00CCF_xray/'%root_dir\n",
    "if not os.path.exists(rootdir_ccf_xray):\n",
    "    os.mkdir(rootdir_ccf_xray)\n",
    "    print(rootdir_ccf_xray)\n",
    "print(rootdir_ccf_xray)"
   ]
  },
  {
   "cell_type": "code",
   "execution_count": null,
   "id": "799b0fb9",
   "metadata": {
    "ExecuteTime": {
     "end_time": "2023-01-01T13:04:45.119737Z",
     "start_time": "2023-01-01T13:04:45.108193Z"
    }
   },
   "outputs": [],
   "source": [
    "21/412"
   ]
  },
  {
   "cell_type": "markdown",
   "id": "0f8ba839",
   "metadata": {
    "ExecuteTime": {
     "end_time": "2022-12-19T07:38:02.327150Z",
     "start_time": "2022-12-19T07:38:02.318275Z"
    }
   },
   "source": [
    "root_dir='/Volumes/ExtremeSSD/00PKU_SCI/CLAGN'\n",
    "rootdir_ccf='%s/00CCF_uvw2/'%root_dir\n",
    "if not os.path.exists(rootdir_ccf):\n",
    "    os.mkdir(rootdir_ccf)\n",
    "    print(rootdir_ccf)\n",
    "print(rootdir_ccf)"
   ]
  },
  {
   "cell_type": "code",
   "execution_count": null,
   "id": "9380b24d",
   "metadata": {},
   "outputs": [],
   "source": []
  },
  {
   "cell_type": "markdown",
   "id": "ac76dd13",
   "metadata": {},
   "source": [
    "# javelin"
   ]
  },
  {
   "cell_type": "code",
   "execution_count": null,
   "id": "46008327",
   "metadata": {},
   "outputs": [],
   "source": [
    "def run_javelin(rootdir_javelin,sourcename,labelname1,labelname2,dataname1,dataname2,rangemin,rangemax,lagrangel=-10,lagrangeh=30,widthl=0,widthh=200):\n",
    "    #command='python ccf_ngc1566_cpython.py %s %s %s %s %d %d %d %d'%(path_data1,path_data2,labelname1,labelname2,rangemin,rangemax,lagrangel,lagrangeh)\n",
    "    os.chdir(rootdir_javelin)\n",
    "    source_path=os.path.join(rootdir_javelin,sourcename)\n",
    "    path_data1,path_data2=write_javelin_lagfile(rootdir_javelin,sourcename,labelname1,labelname2,dataname1,dataname2,rangemin,rangemax)\n",
    "    command='python javelin_spec.py %s %s %d %d %d %d %d %d %s'%(path_data1,path_data2,rangemin,rangemax,lagrangel,lagrangeh,widthl,widthh,source_path)\n",
    "    print(command)\n",
    "    os.system(command)  "
   ]
  },
  {
   "cell_type": "markdown",
   "id": "276d784b",
   "metadata": {},
   "source": [
    "## def plot_javelin"
   ]
  },
  {
   "cell_type": "code",
   "execution_count": null,
   "id": "bbefd4de",
   "metadata": {
    "ExecuteTime": {
     "end_time": "2022-12-28T14:43:08.013545Z",
     "start_time": "2022-12-28T14:43:07.982669Z"
    }
   },
   "outputs": [],
   "source": [
    "import matplotlib.pyplot as plt\n",
    "from astropy.visualization import hist\n",
    "from scipy import stats \n",
    "\n",
    "def plot_javelin(rootdir,sourcename,labelname1,labelname2,dataname1,dataname2,rangemin,rangemax,lagrangel,lagrangeh):\n",
    "    lc1,lc2=get_lagfile(rootdir,sourcename,labelname1,labelname2,dataname1,dataname2,rangemin,rangemax)\n",
    "\n",
    "    time_min,time_max=rangemin,rangemax\n",
    "    lag_range = [lagrangel, lagrangeh]\n",
    "    lc1label=lc1.split('/')[-1][:-4]\n",
    "    lc2label=lc2.split('/')[-1][:-4]\n",
    "\n",
    "    data1=np.loadtxt(lc1,  comments='#', delimiter=' ')\n",
    "    data2=np.loadtxt(lc2,  comments='#', delimiter=' ')\n",
    "    mjd1, flux1, err1 =data1[:,0],data1[:,1],data1[:,2]\n",
    "    mjd2, flux2, err2 =data2[:,0],data2[:,1],data2[:,2]\n",
    "\n",
    "\n",
    "    mjd1, flux1, err1=get_new_range_datas(mjd1, flux1, err1,time_min,time_max)\n",
    "    mjd2, flux2, err2=get_new_range_datas(mjd2, flux2, err2,time_min,time_max)\n",
    "\n",
    "\n",
    "\n",
    "    tag = \"\"   \n",
    "    #confchain = \"dat/chain0.dat\" + tag\n",
    "    #topfchain = \"dat/chain1.dat\" + tag\n",
    "    #doufchain = \"dat/chain2.dat\" + tag\n",
    "    phofchain = \"%s/%s/%s_mcmc_%s.dat\"%(rootdir,sourcename,lc1label,lc2label) + tag\n",
    "    javelin_lag_data=pd.read_csv(phofchain,header=None,sep=' ')\n",
    "    lag_javelin=javelin_lag_data[2]\n",
    "    width_javelin_data=javelin_lag_data[3]\n",
    "    \n",
    "\n",
    "    ###Calculate the best peak and centroid and their uncertainties using the median of the\n",
    "    ##distributions.\n",
    "    perclim = 84.1344746\n",
    "    centau = stats.scoreatpercentile(lag_javelin, 50)\n",
    "    centau_uperr = (stats.scoreatpercentile(lag_javelin, perclim))-centau\n",
    "    centau_loerr = centau-(stats.scoreatpercentile(lag_javelin, (100.-perclim)))\n",
    "\n",
    "    width_javelin = stats.scoreatpercentile(width_javelin_data, 50)\n",
    "    width_javelin_uperr = (stats.scoreatpercentile(width_javelin_data, perclim))-width_javelin\n",
    "    width_javelin_loerr = width_javelin-(stats.scoreatpercentile(width_javelin_data, (100.-perclim)))\n",
    "\n",
    "    ##########################################\n",
    "    #Write results out to a file in case we want them later.\n",
    "    ##########################################\n",
    "\n",
    "\n",
    "    fig = plt.figure(figsize=(8,6))\n",
    "    fig.subplots_adjust(hspace=0.4, wspace = 0.15)\n",
    "\n",
    "    #Plot lightcurves\n",
    "    ax1 = fig.add_subplot(2, 1, 1)\n",
    "    ax1.errorbar(mjd1, flux1, yerr = err1, marker = 'o', linestyle = ':', color = 'k', label = 'LC 1 (%s)'%lc1label)\n",
    "    if max(mjd1)-min(mjd1) < 30:\n",
    "        mi_interval,ma_interval=(5,10)\n",
    "    elif max(mjd1)-min(mjd1) < 100:\n",
    "        mi_interval,ma_interval=(10,30)\n",
    "    elif max(mjd1)-min(mjd1) < 300:\n",
    "        mi_interval,ma_interval=(30,60)\n",
    "    elif max(mjd1)-min(mjd1) < 1000:\n",
    "        mi_interval,ma_interval=(60,180)\n",
    "    elif max(mjd1)-min(mjd1) < 2000:\n",
    "        mi_interval,ma_interval=(90,360)\n",
    "    else:\n",
    "        mi_interval,ma_interval=(180,360)\n",
    "    plot_secax(ax1,mi_interval=mi_interval,ma_interval=ma_interval,rotation=30,) \n",
    "\n",
    "    \n",
    "    \n",
    "    ax1_2 = ax1.twinx()\n",
    "    ax1_2.errorbar(mjd2, flux2, yerr = err2, marker = '*', linestyle = ':', color = 'red', label = 'LC 2 (%s)'%lc2label)\n",
    "\n",
    "    #ax1.text(0.025, 0.825, lc1label, fontsize = 15, transform = ax1.transAxes)\n",
    "    #ax1_2.text(0.025, 0.825, lc2label, fontsize = 15, transform = ax1_2.transAxes)\n",
    "    ax1.set_ylabel('LC 1 Flux')\n",
    "    ax1_2.set_ylabel('LC 2 Flux')\n",
    "    ax1.set_xlabel('MJD')\n",
    "    #ax1.semilogy()\n",
    "    #ax1_2.semilogy()\n",
    "\n",
    "    #Plot CCF Information\n",
    "    #xmin, xmax = -99, 99\n",
    "    xmin, xmax = lag_range[0],lag_range[1]\n",
    "\n",
    "    ax2 = fig.add_subplot(2,2,3)\n",
    "    \n",
    "    ax2.axvline(centau,color='black',ls='-',lw=1,)\n",
    "    ax2.axvline(centau+centau_uperr,color='black',ls='--',lw=1,)\n",
    "    ax2.axvline(centau-centau_loerr,color='black',ls='--',lw=1,)\n",
    "        \n",
    "   \n",
    "     #ax2.set_ylim(0.0, 1.0)\n",
    "    \n",
    "    hist(lag_javelin,ax=ax2,bins=100,color='grey',density=True,zorder=0)\n",
    "    \n",
    "    ax2_1= fig.add_subplot(2, 2, 4)\n",
    "    ax2_2=ax2_1.twinx()\n",
    "    \n",
    "    ax2_2.axvline(width_javelin,color='black',ls='-',lw=1,)\n",
    "    ax2_2.axvline(width_javelin+width_javelin_uperr,color='black',ls='--',lw=1,)\n",
    "    ax2_2.axvline(width_javelin-width_javelin_loerr,color='black',ls='--',lw=1,)\n",
    "    hist(width_javelin_data,ax=ax2_2,bins=100,color='grey',density=True,zorder=0)\n",
    "\n",
    "    \n",
    "    ax1.legend(loc='upper left')\n",
    "    ax1_2.legend(loc='upper right')\n",
    "    \n",
    "    ax2.set_xlim(xmin, xmax)\n",
    "    ax2_2.set_xlim(min(width_javelin_data),max(width_javelin_data))\n",
    "    \n",
    "    ax2_1.yaxis.set_tick_params(which='major', size=10, width=2, direction='in',labelsize=0)\n",
    "    ax2_1.yaxis.set_tick_params(which='minor', size=10, width=2, direction='in',labelsize=0)\n",
    "    \n",
    "    ax2.set_xlabel('Centroid Lag: %5.1f (+%5.1f -%5.1f)\\n'%(centau, centau_uperr, centau_loerr), fontsize = 15)\n",
    "    ax2_1.set_xlabel('Centroid width: %5.1f (+%5.1f -%5.1f)\\n'%(width_javelin, width_javelin_uperr, width_javelin_loerr),fontsize = 15)\n",
    "\n",
    "    #set_ax_tick(ax1)\n",
    "    #set_ax_tick(ax1_2)\n",
    "    set_ax_tick(ax2) \n",
    "    set_ax_tick(ax2_2) \n",
    "    ax1.xaxis.set_tick_params(which='major', size=10, width=2, direction='in')\n",
    "    ax1.xaxis.set_tick_params(which='minor', size=5, width=2, direction='in',)\n",
    "    ax1.yaxis.set_tick_params(which='major', size=10, width=2, direction='in')\n",
    "    ax1.yaxis.set_tick_params(which='minor', size=5, width=2, direction='in',)\n",
    "    #set_ax_locator(ax2,xma=50,xmi=25,yma=0.4,ymi=0.2)\n",
    "    #set_ax_locator(ax2_2,xma=50,xmi=25,yma=0.4,ymi=0.2)\n",
    "   \n",
    "    #plt.show()\n",
    "    plt.savefig('%s/%s/hist_%s_%s_javelin_%s_VS_%s_Centroid,error%10.3f(+%10.3f-%10.3f)_lagrange_%d_%d_d.png'%(rootdir,sourcename,int(time_min),int(time_max),lc1label,lc2label,centau, centau_uperr,centau_loerr,int(lag_range[0]),int(lag_range[1])), format = 'png', orientation = 'landscape', bbox_inches = 'tight')\n",
    "    plt.close(fig)"
   ]
  },
  {
   "cell_type": "code",
   "execution_count": null,
   "id": "b0eef7d5",
   "metadata": {
    "ExecuteTime": {
     "end_time": "2022-12-28T14:20:00.107634Z",
     "start_time": "2022-12-28T14:20:00.071630Z"
    }
   },
   "outputs": [],
   "source": [
    "root_dir='/Volumes/ExtremeSSD/00PKU_SCI/CLAGN'\n",
    "rootdir_javelin='%s/Javelin_Xray/'%root_dir\n",
    "if not os.path.exists(rootdir_javelin):\n",
    "    os.mkdir(rootdir_javelin)\n",
    "    print(rootdir_javelin)"
   ]
  },
  {
   "cell_type": "markdown",
   "id": "2acb1cbc",
   "metadata": {},
   "source": [
    "# javelin_result"
   ]
  },
  {
   "cell_type": "code",
   "execution_count": null,
   "id": "e02fae98",
   "metadata": {},
   "outputs": [],
   "source": [
    "sourcename='Mrk590'\n",
    "\n",
    "uvot_uvv=pd.read_csv('%s/%s_uvv_sum.csv'%(dataroot_dir,sourcename),sep='|',header=0)\n",
    "uvot_ubb=pd.read_csv('%s/%s_ubb_sum.csv'%(dataroot_dir,sourcename),sep='|',header=0)\n",
    "uvot_uuu=pd.read_csv('%s/%s_uuu_sum.csv'%(dataroot_dir,sourcename),sep='|',header=0)\n",
    "uvot_uw1=pd.read_csv('%s/%s_uw1_sum.csv'%(dataroot_dir,sourcename),sep='|',header=0)\n",
    "uvot_um2=pd.read_csv('%s/%s_um2_sum.csv'%(dataroot_dir,sourcename),sep='|',header=0)\n",
    "uvot_uw2=pd.read_csv('%s/%s_uw2_sum.csv'%(dataroot_dir,sourcename),sep='|',header=0)\n",
    "\n",
    "uvot_6band_data=[uvot_uvv,uvot_ubb,uvot_uuu,uvot_uw1,uvot_um2,uvot_uw2]\n",
    "uvdata_dict=dict(zip(uvot_6bands, uvot_6band_data))\n",
    "\n",
    "XRT_rate_=pd.read_csv('%s/%s_xrt_rate.txt'%(dataroot_dir,sourcename),sep='\\s+',header=0)\n",
    "XRT_rate_=XRT_rate_[XRT_rate_['rate']>0]\n",
    "XRT_rate_=drop_index(XRT_rate_)\n",
    "\n",
    "lag_Xray_=XRT_rate_[['time','rate','error']]\n",
    "lag_Xray_.columns=['t','flux','flux_err']\n",
    "lag_Xray_=lag_Xray_.sort_values('t')\n",
    "lag_Xray_=drop_index(lag_Xray_)\n",
    "\n",
    "for index,(band,uf_,c_,m_) in enumerate(zip(uvot_6bands,uvot_6band_data,colors_6band,markers_6bands)):\n",
    "    print(band)\n",
    "    lag_i=uf_[[uf_.columns[3],uf_.columns[6],uf_.columns[7]]]\n",
    "    lag_i.columns=['t','flux','flux_err']\n",
    "    lag_i=lag_i.sort_values('t')\n",
    "    lag_i=drop_index(lag_i)\n",
    "    \n",
    "    \n",
    "    labelname1=\"X-ray\"\n",
    "    labelname2=label_dict_uv[band]\n",
    "    \n",
    "    dataname1=lag_Xray_\n",
    "    dataname2=lag_i\n",
    "\n",
    "    sourcename_label=sourcename\n",
    "    #rangemin,rangemax=54790,58200\n",
    "    rangemin,rangemax=58600+1,58900-1\n",
    "    lagrangel=-20\n",
    "    lagrangeh=20\n",
    "    widthl=0\n",
    "    widthh=100\n",
    "    run_javelin(rootdir_javelin,sourcename,labelname1,labelname2,\n",
    "            dataname1,dataname2,rangemin,rangemax,lagrangel,lagrangeh,widthl,widthh)\n",
    "    \n",
    "    plot_javelin(rootdir_javelin,sourcename,labelname1,labelname2,dataname1,dataname2,rangemin,rangemax,lagrangel,lagrangeh)\n"
   ]
  },
  {
   "cell_type": "code",
   "execution_count": null,
   "id": "b03967b8",
   "metadata": {},
   "outputs": [],
   "source": []
  },
  {
   "cell_type": "code",
   "execution_count": null,
   "id": "36fe7144",
   "metadata": {},
   "outputs": [],
   "source": []
  },
  {
   "cell_type": "code",
   "execution_count": null,
   "id": "1f4bfc8b",
   "metadata": {},
   "outputs": [],
   "source": []
  },
  {
   "cell_type": "code",
   "execution_count": null,
   "id": "b8f6781a",
   "metadata": {},
   "outputs": [],
   "source": []
  },
  {
   "cell_type": "code",
   "execution_count": null,
   "id": "baa5108e",
   "metadata": {
    "ExecuteTime": {
     "end_time": "2022-12-01T17:25:00.701320Z",
     "start_time": "2022-12-01T17:25:00.688655Z"
    }
   },
   "outputs": [],
   "source": [
    "lag_Xray_Mrk590=XRT_rate_Mrk590[['time','rate','error']]\n",
    "lag_Xray_Mrk590.columns=['t','flux','flux_err']\n",
    "lag_Xray_Mrk590=lag_Xray_Mrk590.sort_values('t')\n",
    "lag_Xray_Mrk590=drop_index(lag_Xray_Mrk590)"
   ]
  },
  {
   "cell_type": "code",
   "execution_count": null,
   "id": "86753410",
   "metadata": {
    "ExecuteTime": {
     "end_time": "2022-12-01T17:47:23.542109Z",
     "start_time": "2022-12-01T17:47:23.520602Z"
    }
   },
   "outputs": [],
   "source": [
    "lag_asassn_g_Mrk590=pd.DataFrame()\n",
    "lag_asassn_g_Mrk590['t']=ASASSN_Mrk590_g['HJD']-2400000.5\n",
    "lag_asassn_g_Mrk590['flux']=ASASSN_Mrk590_g['flux(mJy)']\n",
    "lag_asassn_g_Mrk590['flux_err']=ASASSN_Mrk590_g['flux_err']\n",
    "lag_asassn_g_Mrk590=lag_asassn_g_Mrk590.sort_values('t')\n",
    "lag_asassn_g_Mrk590=drop_index(lag_asassn_g_Mrk590)\n",
    "\n",
    "lag_asassn_v_Mrk590=pd.DataFrame()\n",
    "lag_asassn_v_Mrk590['t']=ASASSN_Mrk590_V['HJD']-2400000.5\n",
    "lag_asassn_v_Mrk590['flux']=ASASSN_Mrk590_V['flux(mJy)']\n",
    "lag_asassn_v_Mrk590['flux_err'] =ASASSN_Mrk590_V['flux_err']\n",
    "lag_asassn_v_Mrk590=lag_asassn_v_Mrk590.sort_values('t')\n",
    "lag_asassn_v_Mrk590=drop_index(lag_asassn_v_Mrk590)"
   ]
  },
  {
   "cell_type": "code",
   "execution_count": null,
   "id": "1791f64d",
   "metadata": {
    "ExecuteTime": {
     "end_time": "2022-12-02T03:47:00.854838Z",
     "start_time": "2022-12-02T03:47:00.838355Z"
    }
   },
   "outputs": [],
   "source": [
    "len(lag_asassn_g_Mrk590),len(lag_asassn_v_Mrk590)"
   ]
  },
  {
   "cell_type": "code",
   "execution_count": null,
   "id": "38ace2e2",
   "metadata": {
    "ExecuteTime": {
     "end_time": "2022-12-02T03:47:24.363260Z",
     "start_time": "2022-12-02T03:47:24.343383Z"
    }
   },
   "outputs": [],
   "source": []
  },
  {
   "cell_type": "code",
   "execution_count": null,
   "id": "869de489",
   "metadata": {
    "ExecuteTime": {
     "end_time": "2022-12-02T03:47:47.700797Z",
     "start_time": "2022-12-02T03:47:47.675119Z"
    }
   },
   "outputs": [],
   "source": [
    "lag_zrf_r_Mrk590=pd.DataFrame()\n",
    "lag_zrf_r_Mrk590['t']=data_r_Mrk590['mjd']\n",
    "lag_zrf_r_Mrk590['flux']=      data_r_Mrk590['flux']*1000\n",
    "lag_zrf_r_Mrk590['flux_err']=  data_r_Mrk590['flux_err']*1000\n",
    "lag_zrf_r_Mrk590=lag_zrf_r_Mrk590.sort_values('t')\n",
    "lag_zrf_r_Mrk590=drop_index(lag_zrf_r_Mrk590)\n",
    "\n",
    "\n",
    "\n",
    "lag_zrf_i_Mrk590=pd.DataFrame()\n",
    "lag_zrf_i_Mrk590['t']=data_i_Mrk590['mjd']\n",
    "lag_zrf_i_Mrk590['flux']=      data_i_Mrk590['flux']*1000\n",
    "lag_zrf_i_Mrk590['flux_err']=  data_i_Mrk590['flux_err']*1000\n",
    "lag_zrf_i_Mrk590=lag_zrf_i_Mrk590.sort_values('t')\n",
    "lag_zrf_i_Mrk590=drop_index(lag_zrf_i_Mrk590)\n",
    "\n",
    "\n",
    "lag_zrf_g_Mrk590=pd.DataFrame()\n",
    "lag_zrf_g_Mrk590['t']=data_g_Mrk590['mjd']\n",
    "lag_zrf_g_Mrk590['flux']=      data_g_Mrk590['flux']*1000\n",
    "lag_zrf_g_Mrk590['flux_err']=  data_g_Mrk590['flux_err']*1000\n",
    "lag_zrf_g_Mrk590=lag_zrf_g_Mrk590.sort_values('t')\n",
    "lag_zrf_g_Mrk590=drop_index(lag_zrf_g_Mrk590)\n",
    "\n",
    "\n",
    "\n"
   ]
  },
  {
   "cell_type": "code",
   "execution_count": null,
   "id": "2dd53fe5",
   "metadata": {
    "ExecuteTime": {
     "end_time": "2022-12-02T03:47:53.849717Z",
     "start_time": "2022-12-02T03:47:53.838317Z"
    }
   },
   "outputs": [],
   "source": [
    "len(lag_zrf_i_Mrk590),len(lag_zrf_r_Mrk590),len(lag_zrf_g_Mrk590)"
   ]
  },
  {
   "cell_type": "code",
   "execution_count": null,
   "id": "93465589",
   "metadata": {},
   "outputs": [],
   "source": []
  },
  {
   "cell_type": "code",
   "execution_count": null,
   "id": "e5d4bc9a",
   "metadata": {},
   "outputs": [],
   "source": []
  },
  {
   "cell_type": "code",
   "execution_count": null,
   "id": "188c1c60",
   "metadata": {},
   "outputs": [],
   "source": []
  },
  {
   "cell_type": "code",
   "execution_count": null,
   "id": "905ee296",
   "metadata": {},
   "outputs": [],
   "source": []
  },
  {
   "cell_type": "markdown",
   "id": "e19c09fc",
   "metadata": {},
   "source": [
    "# plotlag"
   ]
  },
  {
   "cell_type": "markdown",
   "id": "767c2df4",
   "metadata": {},
   "source": [
    "## def plot_errorbar_swift_lagdata_cmap"
   ]
  },
  {
   "cell_type": "code",
   "execution_count": null,
   "id": "992ec5ac",
   "metadata": {
    "ExecuteTime": {
     "end_time": "2022-12-28T10:49:41.253423Z",
     "start_time": "2022-12-28T10:49:41.232258Z"
    }
   },
   "outputs": [],
   "source": [
    "def cmap_setup(cmap='viridis', min_freq=0, max_freq=20):\n",
    "    '''\n",
    "        This function will set up a scalar map for you to colour your markers by frequency\n",
    "        '''\n",
    "    freq_cmap = plt.cm.get_cmap(cmap)\n",
    "    \n",
    "    cNorm  = colors.Normalize(vmin=min_freq, vmax=max_freq)\n",
    "    scalarMap = cm.ScalarMappable(norm=cNorm, cmap=cmap)\n",
    "    sm = scalarMap\n",
    "    sm._A = []\n",
    "    return sm"
   ]
  },
  {
   "cell_type": "code",
   "execution_count": null,
   "id": "04b0903f",
   "metadata": {},
   "outputs": [],
   "source": []
  },
  {
   "cell_type": "code",
   "execution_count": null,
   "id": "f91c36ff",
   "metadata": {
    "ExecuteTime": {
     "end_time": "2022-12-28T10:49:16.804418Z",
     "start_time": "2022-12-28T10:49:16.781634Z"
    }
   },
   "outputs": [],
   "source": [
    "def plot_errorbar_swift_lagdata_cmap(data,x,y,xerr=None,yerr=None,color_n=None,marker_n=None,size_n=None,logx=False,logy=False):    \n",
    "    if marker_n is not None:\n",
    "    #Get the scalar map, plot the data using the plot_data function above\n",
    "        pmarker=data[marker_n].drop_duplicates()\n",
    "        marker_dict = dict(zip(pmarker, markers_pd[:len(pmarker)]))\n",
    "        \n",
    "    sm = cmap_setup(cmap='viridis', min_freq=min(data[color_n]), max_freq=max(data[color_n])) #Greys\n",
    "    cbar = fig.colorbar(sm,fraction=0.046, pad=0.04)\n",
    "    cbar.set_label(str.upper(color_n))\n",
    "    \n",
    "    for row in range(len(data)):    \n",
    "        \n",
    "        px=data.loc[row][x]        \n",
    "        py=data.loc[row][y]\n",
    "        #x_=data.loc[row][xerr]\n",
    "        #y_=data.loc[row][yerr]          \n",
    "        colorval = sm.to_rgba(data.loc[row][color_n] )\n",
    "        marker=marker_dict[data.loc[row][marker_n]]\n",
    "              \n",
    "        label=data.loc[row]['name']\n",
    "        \n",
    "        \n",
    "        if size_n ==None :\n",
    "            size=10\n",
    "        else:\n",
    "            minsize=min(data[size_n])\n",
    "            maxsize=max(data[size_n])\n",
    "            size=5+(data.loc[row][size_n]-minsize)/(maxsize-minsize)*3   \n",
    "        \n",
    "        #print(px,py,py+data.loc[row]['lag_lower'],py+data.loc[row]['lag_upper'])\n",
    "        pyerr= data.loc[row]['iccf_tau_error']\n",
    "        pyerr_upper= float(pyerr.split('/')[0])\n",
    "        pyerr_lower= float(pyerr.split('/')[1])\n",
    "        \n",
    "        ax.errorbar(px,py,\n",
    "                    #xerr=x_,\n",
    "                    #yerr=y_,\n",
    "                    #linestyle='--', \n",
    "                    marker=marker,\n",
    "                    markersize=11, color=colorval,\n",
    "                    label=label,alpha=0.8)\n",
    "        \n",
    "        ax.vlines(x=px,ymin=py+pyerr_lower, ymax=py+pyerr_upper,linestyle='-',lw=2,color=colorval,)\n",
    "                \n",
    "    return ax\n"
   ]
  },
  {
   "cell_type": "markdown",
   "id": "01f5585f",
   "metadata": {},
   "source": [
    "## swift_lag"
   ]
  },
  {
   "cell_type": "code",
   "execution_count": null,
   "id": "2be5f523",
   "metadata": {
    "ExecuteTime": {
     "end_time": "2022-12-28T10:49:08.164158Z",
     "start_time": "2022-12-28T10:49:07.962160Z"
    }
   },
   "outputs": [],
   "source": [
    "swift_lag=pd.read_excel('/Users/lyubing/IHEPBox/data/data_lag/intense_disk_RM_SWIFT.xlsx')\n",
    "swift_lag=swift_lag[swift_lag['name'].notnull()]\n",
    "swift_lag=drop_index(swift_lag)"
   ]
  },
  {
   "cell_type": "code",
   "execution_count": null,
   "id": "e3b11bab",
   "metadata": {
    "ExecuteTime": {
     "end_time": "2022-12-28T10:49:46.190090Z",
     "start_time": "2022-12-28T10:49:45.896504Z"
    }
   },
   "outputs": [],
   "source": [
    "figure_n= 1\n",
    "fig = plt.figure(figsize=(6,figure_n*4))\n",
    "fig.subplots_adjust(hspace=0.0, wspace = 0.0)\n",
    "ax = fig.add_subplot(figure_n,1,1)\n",
    "\n",
    "dataplot=swift_lag\n",
    "ax=plot_errorbar_swift_lagdata_cmap(dataplot,'wavelength','iccf_tau_med',xerr=None,yerr=None,color_n='R_max',marker_n='name',size_n=None,logx=False,logy=False)  \n",
    "\n",
    "set_ax_tick(ax) \n",
    "#set_ax_locator(ax,xma=1000,xmi=500,yma=1,ymi=0.5)\n",
    "set_ax_legend(ax,bbox_to_anchor=(0.01, 0.99))   \n",
    "ax.set_ylim(-7,17)\n",
    "ax.set_ylabel('lags(day) relative to UVW2')\n"
   ]
  },
  {
   "cell_type": "code",
   "execution_count": null,
   "id": "aa9c71f1",
   "metadata": {
    "ExecuteTime": {
     "end_time": "2022-12-28T10:50:47.437604Z",
     "start_time": "2022-12-28T10:50:47.256523Z"
    }
   },
   "outputs": [],
   "source": [
    "figure_n= 1\n",
    "fig = plt.figure(figsize=(6,figure_n*4))\n",
    "fig.subplots_adjust(hspace=0.0, wspace = 0.0)\n",
    "ax = fig.add_subplot(figure_n,1,1)\n",
    "\n",
    "dataplot=swift_lag\n",
    "ax=plot_errorbar_swift_lagdata_cmap(dataplot,'wavelength','iccf_tau_med',xerr=None,yerr=None,color_n='R_max',marker_n='name',size_n=None,logx=False,logy=False)  \n",
    "\n",
    "set_ax_tick(ax) \n",
    "#set_ax_locator(ax,xma=1000,xmi=500,yma=1,ymi=0.5)\n",
    "set_ax_legend(ax,bbox_to_anchor=(0.01, 0.99))   \n",
    "ax.set_ylim(-2,5)\n",
    "ax.set_xlim(250,6000-1)\n",
    "ax.set_ylabel('lags(day) relative to UVW2')\n"
   ]
  },
  {
   "cell_type": "code",
   "execution_count": null,
   "id": "b270305a",
   "metadata": {
    "ExecuteTime": {
     "end_time": "2022-12-28T10:51:12.412640Z",
     "start_time": "2022-12-28T10:51:12.407388Z"
    }
   },
   "outputs": [],
   "source": [
    "swift_lag_namelist=[]\n",
    "for i in swift_lag['name']:\n",
    "    if i not in swift_lag_namelist:\n",
    "        swift_lag_namelist.append(i)"
   ]
  },
  {
   "cell_type": "code",
   "execution_count": null,
   "id": "4d9efe54",
   "metadata": {
    "ExecuteTime": {
     "end_time": "2022-12-28T10:51:16.096525Z",
     "start_time": "2022-12-28T10:51:16.079681Z"
    }
   },
   "outputs": [],
   "source": [
    "swift_lag_namelist"
   ]
  },
  {
   "cell_type": "markdown",
   "id": "e74066f2",
   "metadata": {},
   "source": [
    "### plot swift_laguvw2"
   ]
  },
  {
   "cell_type": "code",
   "execution_count": null,
   "id": "f2eb5ebb",
   "metadata": {
    "ExecuteTime": {
     "end_time": "2022-12-28T10:54:39.467328Z",
     "start_time": "2022-12-28T10:54:37.904333Z"
    }
   },
   "outputs": [],
   "source": [
    "for name in swift_lag_namelist:\n",
    "    swift_lag_name=swift_lag[swift_lag['name']==name]\n",
    "    swift_lag_name=drop_index(swift_lag_name)\n",
    "    \n",
    "    figure_n= 1\n",
    "    fig = plt.figure(figsize=(6,figure_n*4))\n",
    "    fig.subplots_adjust(hspace=0.0, wspace = 0.0)\n",
    "    ax = fig.add_subplot(figure_n,1,1)\n",
    "\n",
    "    dataplot=swift_lag_name\n",
    "    ax=plot_errorbar_swift_lagdata_cmap(dataplot,'wavelength','iccf_tau_med',xerr=None,yerr=None,color_n='R_max',marker_n='name',size_n=None,logx=False,logy=False)  \n",
    "\n",
    "    set_ax_tick(ax) \n",
    "    #set_ax_locator(ax,xma=1000,xmi=500,yma=1,ymi=0.5)\n",
    "    set_ax_legend(ax,bbox_to_anchor=(0.11, 0.99))   \n",
    "    #ax.set_ylim(-7,7)\n",
    "    ax.set_xlabel('$\\lambda (\\AA) $')\n",
    "    ax.set_ylabel('lags(day) to UVW2')\n",
    "    ax.set_xlim(250,6000-1)\n",
    "    ax.set_title(name)\n",
    "    plt.savefig('/Users/lyubing/Downloads/CLAGN_swift/lag_lambda/Swift_intensitylag_%s_lag2UVW2_uvonly.png'%name,dpi=400, transparent=False, bbox_inches='tight')\n"
   ]
  },
  {
   "cell_type": "code",
   "execution_count": null,
   "id": "c4ffc79a",
   "metadata": {},
   "outputs": [],
   "source": []
  },
  {
   "cell_type": "code",
   "execution_count": null,
   "id": "df39d869",
   "metadata": {},
   "outputs": [],
   "source": []
  },
  {
   "cell_type": "code",
   "execution_count": null,
   "id": "472035af",
   "metadata": {
    "ExecuteTime": {
     "end_time": "2022-12-22T11:47:22.406131Z",
     "start_time": "2022-12-22T11:47:22.376884Z"
    }
   },
   "outputs": [],
   "source": [
    "swift_lag"
   ]
  },
  {
   "cell_type": "code",
   "execution_count": null,
   "id": "388a2926",
   "metadata": {},
   "outputs": [],
   "source": []
  },
  {
   "cell_type": "code",
   "execution_count": null,
   "id": "edf23772",
   "metadata": {
    "ExecuteTime": {
     "end_time": "2022-12-28T10:56:51.747967Z",
     "start_time": "2022-12-28T10:56:51.728072Z"
    }
   },
   "outputs": [],
   "source": [
    "CLAGN_swift_lag_result_bin1_uvw2asreference=pd.read_csv('/Users/lyubing/Downloads/CLAGN_swift_lag_result_bin1_uvw2asreference.txt',header=None)\n",
    "CLAGN_swift_lag_result_bin1_uvw2asreference.columns=['Name','refband','secband','lag','lag_upper','lag_lower','r','tstart','tend','lag_l','lag_r','Num_ref','tmin_ref','tmax_ref','Num_secband','tmin_sec','tmax_sec']"
   ]
  },
  {
   "cell_type": "markdown",
   "id": "437429a5",
   "metadata": {
    "ExecuteTime": {
     "end_time": "2022-12-28T10:56:55.298454Z",
     "start_time": "2022-12-28T10:56:55.257646Z"
    }
   },
   "source": [
    "CLAGN_swift_lag_result_bin1_uvw2asreference"
   ]
  },
  {
   "cell_type": "code",
   "execution_count": null,
   "id": "10d348b1",
   "metadata": {
    "ExecuteTime": {
     "end_time": "2022-12-28T10:57:50.121651Z",
     "start_time": "2022-12-28T10:57:50.108542Z"
    }
   },
   "outputs": [],
   "source": [
    "CLAGN_swift_lagUVW2_namelists=[]\n",
    "for i in CLAGN_swift_lag_result_bin1_uvw2asreference[\"Name\"]:\n",
    "    if i not in CLAGN_swift_lagUVW2_namelists:\n",
    "        CLAGN_swift_lagUVW2_namelists.append(i)\n",
    "print(CLAGN_swift_lagUVW2_namelists)"
   ]
  },
  {
   "cell_type": "markdown",
   "id": "6be25da0",
   "metadata": {},
   "source": [
    "## CLAGN_swift_lag_result_bin1_uvw2asreference"
   ]
  },
  {
   "cell_type": "markdown",
   "id": "50b436b9",
   "metadata": {},
   "source": [
    "### def plot_errorbar_UVW2_lagdata_cmap"
   ]
  },
  {
   "cell_type": "code",
   "execution_count": null,
   "id": "83d330c9",
   "metadata": {
    "ExecuteTime": {
     "end_time": "2022-12-28T10:57:57.100097Z",
     "start_time": "2022-12-28T10:57:57.079500Z"
    }
   },
   "outputs": [],
   "source": [
    "def plot_errorbar_UVW2_lagdata_cmap(data,x,y,xerr=None,yerr=None,color_n=None,marker_n=None,size_n=None,logx=False,logy=False):    \n",
    "    if marker_n is not None:\n",
    "    #Get the scalar map, plot the data using the plot_data function above\n",
    "        pmarker=data[marker_n].drop_duplicates()\n",
    "        marker_dict = dict(zip(pmarker, markers_pd[:len(pmarker)]))\n",
    "        \n",
    "    sm = cmap_setup(cmap='viridis', min_freq=min(data[color_n]), max_freq=max(data[color_n])) #Greys\n",
    "    cbar = fig.colorbar(sm,fraction=0.046, pad=0.04)\n",
    "    cbar.set_label(str.upper(color_n))\n",
    "    \n",
    "    for row in range(len(data)):    \n",
    "        if data.loc[row][x]=='X-ray':\n",
    "            px=124\n",
    "            \n",
    "        else:    \n",
    "            px=lambda_dict_UVlabel[data.loc[row][x]]\n",
    "            \n",
    "        py=data.loc[row][y]\n",
    "        #x_=data.loc[row][xerr]\n",
    "        #y_=data.loc[row][yerr]          \n",
    "        colorval = sm.to_rgba(data.loc[row][color_n] )\n",
    "        marker=marker_dict[data.loc[row][marker_n]]\n",
    "              \n",
    "        #label=data.loc[row]['Name']\n",
    "        label= '%s:%d-%d'%(data.loc[row]['Name'],data.loc[row]['tstart'],data.loc[row]['tend'])\n",
    "        \n",
    "        if size_n ==None :\n",
    "            size=10\n",
    "        else:\n",
    "            minsize=min(data[size_n])\n",
    "            maxsize=max(data[size_n])\n",
    "            size=5+(data.loc[row][size_n]-minsize)/(maxsize-minsize)*3   \n",
    "        \n",
    "        #print(px,py,py+data.loc[row]['lag_lower'],py+data.loc[row]['lag_upper'])\n",
    "        \n",
    "        ax.errorbar(px,py,\n",
    "                    #xerr=x_,\n",
    "                    #yerr=y_,\n",
    "                    #linestyle='--', \n",
    "                    marker=marker,\n",
    "                    markersize=11, color=colorval,\n",
    "                    label=label,alpha=0.8)\n",
    "        \n",
    "        ax.vlines(x=px,ymin=py+data.loc[row]['lag_lower'], ymax=py+data.loc[row]['lag_upper'],\n",
    "                   linestyle='-',lw=2,color=colorval,\n",
    "                  )\n",
    "    return ax"
   ]
  },
  {
   "cell_type": "code",
   "execution_count": null,
   "id": "f1384b56",
   "metadata": {
    "ExecuteTime": {
     "end_time": "2022-12-28T10:58:59.563425Z",
     "start_time": "2022-12-28T10:58:59.328121Z"
    }
   },
   "outputs": [],
   "source": [
    "figure_n= 1\n",
    "fig = plt.figure(figsize=(6,figure_n*4))\n",
    "fig.subplots_adjust(hspace=0.0, wspace = 0.0)\n",
    "ax = fig.add_subplot(figure_n,1,1)\n",
    "\n",
    "dataplot=CLAGN_swift_lag_result_bin1_uvw2asreference\n",
    "ax=plot_errorbar_UVW2_lagdata_cmap(dataplot,'secband','lag',xerr=None,yerr=None,color_n='r',marker_n='Name',size_n=None,logx=False,logy=False)  \n",
    "\n",
    "set_ax_tick(ax) \n",
    "#set_ax_locator(ax,xma=1000,xmi=500,yma=1,ymi=0.5)\n",
    "set_ax_legend(ax,bbox_to_anchor=(1.31, 0.99))   \n",
    "#ax.set_ylim(-5,12)\n",
    "ax.set_xlim(250,6000-1)\n",
    "ax.set_ylabel('lags(day) relative to UVW2')\n"
   ]
  },
  {
   "cell_type": "code",
   "execution_count": null,
   "id": "822dcbef",
   "metadata": {
    "ExecuteTime": {
     "end_time": "2022-12-23T04:37:41.028490Z",
     "start_time": "2022-12-23T04:37:41.018314Z"
    }
   },
   "outputs": [],
   "source": []
  },
  {
   "cell_type": "markdown",
   "id": "f10e8763",
   "metadata": {
    "ExecuteTime": {
     "end_time": "2022-12-23T04:40:58.826956Z",
     "start_time": "2022-12-23T04:40:58.653376Z"
    }
   },
   "source": [
    "CLAGN_swift_lag_result_bin1_uvw2asreference_Mrk590=CLAGN_swift_lag_result_bin1_uvw2asreference[CLAGN_swift_lag_result_bin1_uvw2asreference['Name']=='Mrk590']\n",
    "CLAGN_swift_lag_result_bin1_uvw2asreference_Mrk590 =drop_index(CLAGN_swift_lag_result_bin1_uvw2asreference_Mrk590)                                                                                         \n",
    "figure_n= 1\n",
    "fig = plt.figure(figsize=(6,figure_n*4))\n",
    "fig.subplots_adjust(hspace=0.0, wspace = 0.0)\n",
    "ax = fig.add_subplot(figure_n,1,1)\n",
    "\n",
    "dataplot=CLAGN_swift_lag_result_bin1_uvw2asreference_Mrk590\n",
    "ax=plot_errorbar_UVW2_lagdata_cmap(dataplot,'secband','lag',xerr=None,yerr=None,color_n='r',marker_n='tstart',size_n=None,logx=False,logy=False)  \n",
    "\n",
    "set_ax_tick(ax) \n",
    "#set_ax_locator(ax,xma=1000,xmi=500,yma=1,ymi=0.5)\n",
    "set_ax_legend(ax,bbox_to_anchor=(0.01, 0.99))   \n",
    "ax.set_ylim(-7,10)\n",
    "ax.set_ylabel('lags(day) relative to UVW2')\n",
    "ax.set_title('Mrk590')\n"
   ]
  },
  {
   "cell_type": "code",
   "execution_count": null,
   "id": "2423b4eb",
   "metadata": {
    "ExecuteTime": {
     "end_time": "2022-12-23T04:53:56.548655Z",
     "start_time": "2022-12-23T04:53:56.541503Z"
    }
   },
   "outputs": [],
   "source": []
  },
  {
   "cell_type": "code",
   "execution_count": null,
   "id": "c2351797",
   "metadata": {
    "ExecuteTime": {
     "end_time": "2022-12-23T04:53:58.852890Z",
     "start_time": "2022-12-23T04:53:58.838227Z"
    }
   },
   "outputs": [],
   "source": []
  },
  {
   "cell_type": "markdown",
   "id": "c54f2ac1",
   "metadata": {
    "ExecuteTime": {
     "end_time": "2022-12-23T05:01:36.104304Z",
     "start_time": "2022-12-23T05:01:36.091977Z"
    }
   },
   "source": [
    "### plot lagUVW2"
   ]
  },
  {
   "cell_type": "code",
   "execution_count": null,
   "id": "52d158d2",
   "metadata": {
    "ExecuteTime": {
     "end_time": "2022-12-28T11:00:03.456827Z",
     "start_time": "2022-12-28T11:00:01.714355Z"
    },
    "scrolled": false
   },
   "outputs": [],
   "source": [
    "for name in CLAGN_swift_lagUVW2_namelists:\n",
    "    CLAGN_swift_lag_result_bin1_uvw2asreference_name=CLAGN_swift_lag_result_bin1_uvw2asreference[CLAGN_swift_lag_result_bin1_uvw2asreference['Name']==name]\n",
    "    CLAGN_swift_lag_result_bin1_uvw2asreference_name=drop_index(CLAGN_swift_lag_result_bin1_uvw2asreference_name)\n",
    "\n",
    "    \n",
    "    figure_n= 1\n",
    "    fig = plt.figure(figsize=(6,figure_n*4))\n",
    "    fig.subplots_adjust(hspace=0.0, wspace = 0.0)\n",
    "    ax = fig.add_subplot(figure_n,1,1)\n",
    "\n",
    "    dataplot=CLAGN_swift_lag_result_bin1_uvw2asreference_name\n",
    "    ax=plot_errorbar_UVW2_lagdata_cmap(dataplot,'secband','lag',xerr=None,yerr=None,color_n='r',marker_n='tstart',size_n=None,logx=False,logy=False)  \n",
    "\n",
    "    set_ax_tick(ax) \n",
    "    #set_ax_locator(ax,xma=1000,xmi=500,yma=1,ymi=0.5)\n",
    "    set_ax_legend(ax,bbox_to_anchor=(0.11, 0.99))   \n",
    "    #ax.set_ylim(-7,12)\n",
    "    ax.set_xlabel('$\\lambda (\\AA) $')\n",
    "    ax.set_ylabel('lags(day) to UVW2')\n",
    "    ax.set_xlim(250,6000-1)\n",
    "    ax.set_title(name)\n",
    "    plt.savefig('/Users/lyubing/Downloads/CLAGN_swift/lag_lambda/Swift_%s_lag2UVW2_onlyuv.png'%name,dpi=400, transparent=False, bbox_inches='tight')"
   ]
  },
  {
   "cell_type": "code",
   "execution_count": null,
   "id": "b0bac6ab",
   "metadata": {},
   "outputs": [],
   "source": []
  },
  {
   "cell_type": "code",
   "execution_count": null,
   "id": "8607d038",
   "metadata": {},
   "outputs": [],
   "source": []
  },
  {
   "cell_type": "code",
   "execution_count": null,
   "id": "606715fc",
   "metadata": {},
   "outputs": [],
   "source": []
  },
  {
   "cell_type": "code",
   "execution_count": null,
   "id": "b4b21c93",
   "metadata": {},
   "outputs": [],
   "source": []
  },
  {
   "cell_type": "code",
   "execution_count": null,
   "id": "eb02f930",
   "metadata": {},
   "outputs": [],
   "source": []
  },
  {
   "cell_type": "markdown",
   "id": "74a7bd3e",
   "metadata": {},
   "source": [
    "## CLAGN_swift_lag_result_bin1_Xrayasreference"
   ]
  },
  {
   "cell_type": "code",
   "execution_count": null,
   "id": "7b50852f",
   "metadata": {
    "ExecuteTime": {
     "end_time": "2022-12-23T08:36:24.962240Z",
     "start_time": "2022-12-23T08:36:24.938481Z"
    }
   },
   "outputs": [],
   "source": [
    "CLAGN_swift_lag_result_bin1_Xrayasreference=pd.read_csv('/Users/lyubing/Downloads/CLAGN_swift_lag_result_bin1_Xrayasreference.txt',header=None)\n",
    "CLAGN_swift_lag_result_bin1_Xrayasreference.columns=['Name','refband','secband','lag','lag_upper','lag_lower','r','tstart','tend','lag_l','lag_r','Num_ref','tmin_ref','tmax_ref','Num_secband','tmin_sec','tmax_sec']"
   ]
  },
  {
   "cell_type": "code",
   "execution_count": null,
   "id": "4a592a6e",
   "metadata": {
    "ExecuteTime": {
     "end_time": "2022-12-23T08:36:25.284010Z",
     "start_time": "2022-12-23T08:36:25.250565Z"
    }
   },
   "outputs": [],
   "source": [
    "CLAGN_swift_lag_result_bin1_Xrayasreference"
   ]
  },
  {
   "cell_type": "code",
   "execution_count": null,
   "id": "bfe9fc98",
   "metadata": {
    "ExecuteTime": {
     "end_time": "2022-12-22T12:47:06.253818Z",
     "start_time": "2022-12-22T12:47:06.242905Z"
    }
   },
   "outputs": [],
   "source": [
    "lambda_dict_uv"
   ]
  },
  {
   "cell_type": "code",
   "execution_count": null,
   "id": "00340552",
   "metadata": {
    "ExecuteTime": {
     "end_time": "2022-12-22T12:54:24.959336Z",
     "start_time": "2022-12-22T12:54:24.949873Z"
    }
   },
   "outputs": [],
   "source": [
    "lambda_dict_UVlabel[CLAGN_swift_lag_result_bin1_Xrayasreference['secband'][0]]"
   ]
  },
  {
   "cell_type": "markdown",
   "id": "14c4fa1d",
   "metadata": {},
   "source": [
    "### def plot_errorbar_lagdata_cmap Xrayasref"
   ]
  },
  {
   "cell_type": "code",
   "execution_count": null,
   "id": "51f6d740",
   "metadata": {
    "ExecuteTime": {
     "end_time": "2022-12-23T05:03:57.655640Z",
     "start_time": "2022-12-23T05:03:57.636797Z"
    }
   },
   "outputs": [],
   "source": [
    "def plot_errorbar_lagdata_cmap(data,x,y,xerr=None,yerr=None,color_n=None,marker_n=None,size_n=None,logx=False,logy=False):    \n",
    "    if marker_n is not None:\n",
    "    #Get the scalar map, plot the data using the plot_data function above\n",
    "        pmarker=data[marker_n].drop_duplicates()\n",
    "        marker_dict = dict(zip(pmarker, markers_pd[:len(pmarker)]))\n",
    "        \n",
    "    sm = cmap_setup(cmap='viridis', min_freq=min(data[color_n]), max_freq=max(data[color_n])) #Greys\n",
    "    cbar = fig.colorbar(sm,fraction=0.046, pad=0.04)\n",
    "    cbar.set_label(str.upper(color_n))\n",
    "    \n",
    "    for row in range(len(data)):        \n",
    "        px=lambda_dict_UVlabel[data.loc[row][x]]\n",
    "        py=data.loc[row][y]\n",
    "        #x_=data.loc[row][xerr]\n",
    "        #y_=data.loc[row][yerr]          \n",
    "        colorval = sm.to_rgba(data.loc[row][color_n] )\n",
    "        marker=marker_dict[data.loc[row][marker_n]]\n",
    "              \n",
    "        #label=data.loc[row]['Name']\n",
    "        label= '%s:%d-%d'%(data.loc[row]['Name'],data.loc[row]['tstart'],data.loc[row]['tend'])\n",
    "        \n",
    "        if size_n ==None :\n",
    "            size=10\n",
    "        else:\n",
    "            minsize=min(data[size_n])\n",
    "            maxsize=max(data[size_n])\n",
    "            size=5+(data.loc[row][size_n]-minsize)/(maxsize-minsize)*3   \n",
    "        \n",
    "        #print(px,py,py+data.loc[row]['lag_lower'],py+data.loc[row]['lag_upper'])\n",
    "        \n",
    "        ax.errorbar(px,py,\n",
    "                    #xerr=x_,\n",
    "                    #yerr=y_,\n",
    "                    #linestyle='--', \n",
    "                    marker=marker,\n",
    "                    markersize=11, color=colorval,\n",
    "                    label=label,alpha=0.8)\n",
    "        \n",
    "        ax.vlines(x=px,ymin=py+data.loc[row]['lag_lower'], ymax=py+data.loc[row]['lag_upper'],\n",
    "                   linestyle='-',lw=2,color=colorval\n",
    "                  )\n",
    "\n",
    "    return ax"
   ]
  },
  {
   "cell_type": "code",
   "execution_count": null,
   "id": "b6905cb8",
   "metadata": {
    "ExecuteTime": {
     "end_time": "2022-12-22T13:18:13.409390Z",
     "start_time": "2022-12-22T13:18:13.400431Z"
    }
   },
   "outputs": [],
   "source": [
    "CLAGN_swift_lag_result_bin1_Xrayasreference.columns"
   ]
  },
  {
   "cell_type": "code",
   "execution_count": null,
   "id": "c7a49711",
   "metadata": {
    "ExecuteTime": {
     "end_time": "2022-12-23T08:36:31.469532Z",
     "start_time": "2022-12-23T08:36:31.460362Z"
    }
   },
   "outputs": [],
   "source": [
    "CLAGN_swift_lag_namelists=[]\n",
    "for i in CLAGN_swift_lag_result_bin1_Xrayasreference[\"Name\"]:\n",
    "    if i not in CLAGN_swift_lag_namelists:\n",
    "        CLAGN_swift_lag_namelists.append(i)"
   ]
  },
  {
   "cell_type": "code",
   "execution_count": null,
   "id": "8583e67b",
   "metadata": {
    "ExecuteTime": {
     "end_time": "2022-12-23T08:36:31.739154Z",
     "start_time": "2022-12-23T08:36:31.729702Z"
    }
   },
   "outputs": [],
   "source": [
    "CLAGN_swift_lag_namelists"
   ]
  },
  {
   "cell_type": "code",
   "execution_count": null,
   "id": "423d9763",
   "metadata": {
    "ExecuteTime": {
     "end_time": "2022-12-23T08:36:33.584531Z",
     "start_time": "2022-12-23T08:36:32.681237Z"
    }
   },
   "outputs": [],
   "source": [
    "figure_n= 1\n",
    "fig = plt.figure(figsize=(6,figure_n*4))\n",
    "fig.subplots_adjust(hspace=0.0, wspace = 0.0)\n",
    "ax = fig.add_subplot(figure_n,1,1)\n",
    "\n",
    "dataplot=CLAGN_swift_lag_result_bin1_Xrayasreference\n",
    "ax=plot_errorbar_lagdata_cmap(dataplot,'secband','lag',xerr=None,yerr=None,color_n='r',marker_n='Name',size_n=None,logx=False,logy=False)  \n",
    "\n",
    "set_ax_tick(ax) \n",
    "#set_ax_locator(ax,xma=1000,xmi=500,yma=1,ymi=0.5)\n",
    "set_ax_legend(ax,bbox_to_anchor=(0.01, 0.99))   \n",
    "ax.set_ylim(-5,25)\n",
    "ax.set_ylabel('lags(day) relative to X-ray')\n"
   ]
  },
  {
   "cell_type": "code",
   "execution_count": null,
   "id": "e422cd98",
   "metadata": {
    "ExecuteTime": {
     "end_time": "2022-12-23T03:45:24.912234Z",
     "start_time": "2022-12-23T03:45:24.895705Z"
    }
   },
   "outputs": [],
   "source": [
    "CLAGN_swift_lag_result_bin1_Xrayasreference_Mrk590=CLAGN_swift_lag_result_bin1_Xrayasreference[CLAGN_swift_lag_result_bin1_Xrayasreference['Name']=='Mrk590']\n",
    "CLAGN_swift_lag_result_bin1_Xrayasreference_Mrk590=drop_index(CLAGN_swift_lag_result_bin1_Xrayasreference_Mrk590)"
   ]
  },
  {
   "cell_type": "code",
   "execution_count": null,
   "id": "697f376d",
   "metadata": {
    "ExecuteTime": {
     "end_time": "2022-12-23T04:03:48.152542Z",
     "start_time": "2022-12-23T04:03:48.145472Z"
    }
   },
   "outputs": [],
   "source": [
    "CLAGN_swift_lag_result_bin1_Xrayasreference_Mrk590.columns"
   ]
  },
  {
   "cell_type": "code",
   "execution_count": null,
   "id": "c877c124",
   "metadata": {
    "ExecuteTime": {
     "end_time": "2022-12-23T04:41:49.646721Z",
     "start_time": "2022-12-23T04:41:49.476812Z"
    }
   },
   "outputs": [],
   "source": [
    "figure_n= 1\n",
    "fig = plt.figure(figsize=(6,figure_n*4))\n",
    "fig.subplots_adjust(hspace=0.0, wspace = 0.0)\n",
    "ax = fig.add_subplot(figure_n,1,1)\n",
    "\n",
    "dataplot=CLAGN_swift_lag_result_bin1_Xrayasreference_Mrk590\n",
    "ax=plot_errorbar_lagdata_cmap(dataplot,'secband','lag',xerr=None,yerr=None,color_n='r',marker_n='tstart',size_n=None,logx=False,logy=False)  \n",
    "\n",
    "set_ax_tick(ax) \n",
    "#set_ax_locator(ax,xma=1000,xmi=500,yma=1,ymi=0.5)\n",
    "set_ax_legend(ax,bbox_to_anchor=(0.01, 0.99))   \n",
    "ax.set_ylim(-5,12)\n",
    "ax.set_ylabel('lags(day) relative to X-ray')\n",
    "ax.set_title('Mrk590')\n"
   ]
  },
  {
   "cell_type": "markdown",
   "id": "0df44dc3",
   "metadata": {},
   "source": [
    "### plot CLAGN_swift_lag_Xrayasreference"
   ]
  },
  {
   "cell_type": "code",
   "execution_count": null,
   "id": "964b1054",
   "metadata": {
    "ExecuteTime": {
     "end_time": "2022-12-23T08:36:45.532712Z",
     "start_time": "2022-12-23T08:36:43.545188Z"
    },
    "scrolled": false
   },
   "outputs": [],
   "source": [
    "for name in CLAGN_swift_lag_namelists:\n",
    "    CLAGN_swift_lag_result_bin1_Xrayasreference_name=CLAGN_swift_lag_result_bin1_Xrayasreference[CLAGN_swift_lag_result_bin1_Xrayasreference['Name']==name]\n",
    "    CLAGN_swift_lag_result_bin1_Xrayasreference_name=drop_index(CLAGN_swift_lag_result_bin1_Xrayasreference_name)\n",
    "\n",
    "    \n",
    "    figure_n= 1\n",
    "    fig = plt.figure(figsize=(6,figure_n*4))\n",
    "    fig.subplots_adjust(hspace=0.0, wspace = 0.0)\n",
    "    ax = fig.add_subplot(figure_n,1,1)\n",
    "\n",
    "    dataplot=CLAGN_swift_lag_result_bin1_Xrayasreference_name\n",
    "    ax=plot_errorbar_lagdata_cmap(dataplot,'secband','lag',xerr=None,yerr=None,color_n='r',marker_n='tstart',size_n=None,logx=False,logy=False)  \n",
    "\n",
    "    set_ax_tick(ax) \n",
    "    #set_ax_locator(ax,xma=1000,xmi=500,yma=1,ymi=0.5)\n",
    "    set_ax_legend(ax,bbox_to_anchor=(0.11, 0.99))   \n",
    "    #ax.set_ylim(-5,12)\n",
    "    ax.set_xlabel('$\\lambda (\\AA) $')\n",
    "    ax.set_ylabel('lags(day) behind X-ray')\n",
    "    ax.set_title(name)\n",
    "    plt.savefig('/Users/lyubing/Downloads/Swift_%s_lag2Xray.png'%name,dpi=400, transparent=False, bbox_inches='tight')"
   ]
  },
  {
   "cell_type": "code",
   "execution_count": null,
   "id": "3e35b76b",
   "metadata": {},
   "outputs": [],
   "source": []
  },
  {
   "cell_type": "code",
   "execution_count": null,
   "id": "802d843c",
   "metadata": {},
   "outputs": [],
   "source": []
  },
  {
   "cell_type": "code",
   "execution_count": null,
   "id": "cb4eaa3a",
   "metadata": {},
   "outputs": [],
   "source": []
  },
  {
   "cell_type": "markdown",
   "id": "f4085f9d",
   "metadata": {
    "ExecuteTime": {
     "end_time": "2022-12-22T12:52:55.222328Z",
     "start_time": "2022-12-22T12:52:55.010795Z"
    }
   },
   "source": [
    "for i in range(len(dataplot)):\n",
    "    x= lambda_dict_UVlabel[dataplot.iloc[i]['secband']]\n",
    "    \n",
    "    y=dataplot.iloc[i]['lag']\n",
    "    yerr= [dataplot.iloc[i]['lag_upper'],-1*dataplot.iloc[i]['lag_lower']]\n",
    "    #xerr=dataplot.iloc[i]['mjderr']\n",
    "    #yerr=dataplot.iloc[i]['scaled_rms']\n",
    "    color=    dataplot.iloc[i]['r']\n",
    "    label=dataplot.iloc[i]['Name']  \n",
    "    \n",
    "    ax.scatter(x,y,\n",
    "               color=color,label=label,\n",
    "               cmap=cm.coolwarm,\n",
    "              )    \n"
   ]
  },
  {
   "cell_type": "code",
   "execution_count": null,
   "id": "21bc4857",
   "metadata": {},
   "outputs": [],
   "source": [
    "    \n",
    "''' ax.errorbar(x=x,y=y,\n",
    "           #xerr=xerr,\n",
    "           #yerr=yerr,\n",
    "           marker='o',ms=11., mew=1, capsize=0,\n",
    "           mec=color,ecolor=color,\n",
    "           elinewidth=2,fmt='o',ls='',fillstyle='none',label=label)\n",
    "'''"
   ]
  },
  {
   "cell_type": "markdown",
   "id": "fc2ccd8c",
   "metadata": {},
   "source": [
    "## CLAGN_BXA_lag_bin_dot5_uvw2asreference"
   ]
  },
  {
   "cell_type": "code",
   "execution_count": null,
   "id": "75b110b8",
   "metadata": {
    "ExecuteTime": {
     "end_time": "2023-01-05T15:01:25.126659Z",
     "start_time": "2023-01-05T15:01:25.099640Z"
    }
   },
   "outputs": [],
   "source": [
    "CLAGN_BXA_lag_bin_dot5_uvw2asreference=pd.read_csv('/Users/lyubing/Downloads/CLAGN_swift_BXA_lag_result_bin0.5_uvw2asreference.txt',header=None)\n",
    "CLAGN_BXA_lag_bin_dot5_uvw2asreference.columns=['Name','refband','secband','lag','lag_upper','lag_lower','r','tstart','tend','lag_l','lag_r','Num_ref','tmin_ref','tmax_ref','Num_secband','tmin_sec','tmax_sec']"
   ]
  },
  {
   "cell_type": "code",
   "execution_count": null,
   "id": "efc8140c",
   "metadata": {
    "ExecuteTime": {
     "end_time": "2023-01-05T15:01:27.128340Z",
     "start_time": "2023-01-05T15:01:27.102702Z"
    }
   },
   "outputs": [],
   "source": [
    "CLAGN_BXA_lag_bin_dot5_uvw2asreference"
   ]
  },
  {
   "cell_type": "code",
   "execution_count": null,
   "id": "87afa60a",
   "metadata": {
    "ExecuteTime": {
     "end_time": "2023-01-05T15:06:02.406857Z",
     "start_time": "2023-01-05T15:06:02.003029Z"
    }
   },
   "outputs": [],
   "source": [
    "for name in CLAGN_swift_lagUVW2_namelists:\n",
    "    CLAGN_BXA_lag_bin_dot5_uvw2asreference_name=CLAGN_BXA_lag_bin_dot5_uvw2asreference[CLAGN_BXA_lag_bin_dot5_uvw2asreference['Name']==name]\n",
    "    CLAGN_BXA_lag_bin_dot5_uvw2asreference_name=drop_index(CLAGN_BXA_lag_bin_dot5_uvw2asreference_name)\n",
    "    dataplot=CLAGN_BXA_lag_bin_dot5_uvw2asreference_name\n",
    "    if len(dataplot)>0:    \n",
    "        figure_n= 1\n",
    "        fig = plt.figure(figsize=(6,figure_n*4))\n",
    "        fig.subplots_adjust(hspace=0.0, wspace = 0.0)\n",
    "        ax = fig.add_subplot(figure_n,1,1)\n",
    "\n",
    "        \n",
    "\n",
    "        ax=plot_errorbar_UVW2_lagdata_cmap(dataplot,'secband','lag',xerr=None,yerr=None,color_n='r',marker_n='tstart',size_n=None,logx=False,logy=False)  \n",
    "\n",
    "        set_ax_tick(ax) \n",
    "        #set_ax_locator(ax,xma=1000,xmi=500,yma=1,ymi=0.5)\n",
    "        set_ax_legend(ax,bbox_to_anchor=(0.11, 0.99))   \n",
    "        #ax.set_ylim(-7,12)\n",
    "        ax.set_xlabel('$\\lambda (\\AA) $')\n",
    "        ax.set_ylabel('lags(day) to UVW2')\n",
    "        #ax.set_xlim(250,6000-1)\n",
    "        ax.set_title(name)\n",
    "        plt.savefig('/Users/lyubing/Downloads/CLAGN_swift/lag_lambda/Swift_%s_BXA_lag2UVW2.png'%name,dpi=400, transparent=False, bbox_inches='tight')"
   ]
  },
  {
   "cell_type": "code",
   "execution_count": null,
   "id": "d3f44973",
   "metadata": {
    "ExecuteTime": {
     "end_time": "2023-01-06T05:01:39.268323Z",
     "start_time": "2023-01-06T05:01:38.858715Z"
    }
   },
   "outputs": [],
   "source": [
    "for name in CLAGN_swift_lagUVW2_namelists:\n",
    "    CLAGN_BXA_lag_bin_dot5_uvw2asreference_name=CLAGN_BXA_lag_bin_dot5_uvw2asreference[CLAGN_BXA_lag_bin_dot5_uvw2asreference['Name']==name]\n",
    "    CLAGN_BXA_lag_bin_dot5_uvw2asreference_name=drop_index(CLAGN_BXA_lag_bin_dot5_uvw2asreference_name)\n",
    "    dataplot=CLAGN_BXA_lag_bin_dot5_uvw2asreference_name\n",
    "    if len(dataplot)>0:    \n",
    "        figure_n= 1\n",
    "        fig = plt.figure(figsize=(6,figure_n*4))\n",
    "        fig.subplots_adjust(hspace=0.0, wspace = 0.0)\n",
    "        ax = fig.add_subplot(figure_n,1,1)        \n",
    "\n",
    "        ax=plot_errorbar_UVW2_lagdata_cmap(dataplot,'secband','lag',xerr=None,yerr=None,color_n='r',marker_n='tstart',size_n=None,logx=False,logy=False)  \n",
    "\n",
    "        set_ax_tick(ax) \n",
    "        #set_ax_locator(ax,xma=1000,xmi=500,yma=1,ymi=0.5)\n",
    "        set_ax_legend(ax,bbox_to_anchor=(0.11, 0.99))   \n",
    "        #ax.set_ylim(-7,12)\n",
    "        ax.set_xlabel('$\\lambda (\\AA) $')\n",
    "        ax.set_ylabel('lags(day) to UVW2')\n",
    "        ax.set_xlim(2000+1,6000-1)\n",
    "        ax.set_title(name)\n",
    "        plt.savefig('/Users/lyubing/Downloads/CLAGN_swift/lag_lambda/Swift_%s_BXA_lag2UVW2_onlyUV.png'%name,dpi=400, transparent=False, bbox_inches='tight')"
   ]
  },
  {
   "cell_type": "markdown",
   "id": "a8d96f6c",
   "metadata": {},
   "source": [
    "# def plot_errorbar_cmap_onesource"
   ]
  },
  {
   "cell_type": "code",
   "execution_count": null,
   "id": "39181686",
   "metadata": {
    "ExecuteTime": {
     "end_time": "2023-01-06T07:47:50.825701Z",
     "start_time": "2023-01-06T07:47:50.818298Z"
    }
   },
   "outputs": [],
   "source": [
    "def plot_errorbar_cmap(ax,data,x,y,xerr=None,yerr=None,color_n=None,marker_n=None,size_n=None,logx=False,logy=False):    \n",
    "    if marker_n is not None:\n",
    "    #Get the scalar map, plot the data using the plot_data function above\n",
    "        pmarker=data[marker_n].drop_duplicates()\n",
    "        marker_dict = dict(zip(pmarker, markers_pd[:len(pmarker)]))\n",
    "        \n",
    "    sm = cmap_setup(cmap='viridis', min_freq=min(data[color_n]), max_freq=max(data[color_n])) #Greys\n",
    "    cbar = fig.colorbar(sm,fraction=0.046, pad=0.04)\n",
    "    cbar.set_label(str.upper(color_n))\n",
    "    \n",
    "    for row in range(len(data)):    \n",
    "        if xerr==None:\n",
    "            x_=0\n",
    "        else:\n",
    "            x_=data.loc[row][xerr]\n",
    "            \n",
    "        if yerr==None:\n",
    "            y_=0\n",
    "        else:\n",
    "            y_=data.loc[row][yerr]    \n",
    "         \n",
    "        if y_<0:\n",
    "            y_=0\n",
    "            \n",
    "        px=data.loc[row][x]        \n",
    "        py=data.loc[row][y]\n",
    "                 \n",
    "        colorval = sm.to_rgba(data.loc[row][color_n] )\n",
    "        marker=marker_dict[data.loc[row][marker_n]]             \n",
    "        label=data.loc[row]['name']\n",
    "        \n",
    "        \n",
    "        if size_n ==None :\n",
    "            size=10\n",
    "        else:\n",
    "            minsize=min(data[size_n])\n",
    "            maxsize=max(data[size_n])\n",
    "            size=5+(data.loc[row][size_n]-minsize)/(maxsize-minsize)*3   \n",
    "        \n",
    "        #print(px,py,py+data.loc[row]['lag_lower'],py+data.loc[row]['lag_upper'])\n",
    "        #pyerr= data.loc[row]['iccf_tau_error']\n",
    "        #pyerr_upper= float(pyerr.split('/')[0])\n",
    "        #pyerr_lower= float(pyerr.split('/')[1])\n",
    "\n",
    "        \n",
    "        ax.errorbar(px,\n",
    "                    py,\n",
    "                    xerr=x_,\n",
    "                    yerr=y_,\n",
    "                    #linestyle='--', \n",
    "                    marker=marker,\n",
    "                    markersize=11, color=colorval,\n",
    "                    label=label,alpha=0.8)      \n",
    "        #ax.vlines(x=px,ymin=py+pyerr_lower, ymax=py+pyerr_upper,linestyle='-',lw=2,color=colorval,)                \n",
    "    return ax\n"
   ]
  },
  {
   "cell_type": "code",
   "execution_count": null,
   "id": "201aadbb",
   "metadata": {
    "ExecuteTime": {
     "end_time": "2023-01-06T07:48:22.301698Z",
     "start_time": "2023-01-06T07:48:21.786047Z"
    }
   },
   "outputs": [],
   "source": [
    "sourcename='NGC1365'\n",
    "XRT_BXA=pd.read_csv('%s/%s_BXA_results.csv'%('/Users/lyubing/Downloads',sourcename))#,sep='\\s+',header=0)\n",
    "XRT_BXA['name']=sourcename\n",
    "\n",
    "figure_n= 1\n",
    "fig = plt.figure(figsize=(6,figure_n*6))\n",
    "fig.subplots_adjust(hspace=0.0, wspace = 0.0)\n",
    "ax = fig.add_subplot(figure_n,1,1)\n",
    "\n",
    "xlabel='logf'\n",
    "ylabel='gamma'\n",
    "xerr_label='logf_err'\n",
    "yerr_label='gamma_err'\n",
    "color_label='time'\n",
    "\n",
    "#dataplot=slab_zgauss_result[:3]\n",
    "#ax=plot_errorbar_cmap(ax,dataplot,xlabel,ylabel,xerr=xerr_label,yerr=yerr_label,color_n=color_label,marker_n='name',size_n=None,logx=False,logy=False)\n",
    "\n",
    "dataplot=XRT_BXA\n",
    "ax=plot_errorbar_cmap(ax,dataplot,xlabel,ylabel,xerr=xerr_label,yerr=yerr_label,color_n='time',marker_n='name',size_n=None,logx=False,logy=False)\n",
    "set_ax_tick(ax) \n",
    "#set_ax_locator(ax,xma=1000,xmi=500,yma=1,ymi=0.5)\n",
    "set_ax_legend(ax,bbox_to_anchor=(0.01, 0.99))   \n",
    "ax.set_ylim(0,2.5)\n",
    "ax.set_xlabel(xlabel)\n",
    "ax.set_ylabel(ylabel)"
   ]
  },
  {
   "cell_type": "code",
   "execution_count": null,
   "id": "d6ada347",
   "metadata": {},
   "outputs": [],
   "source": []
  },
  {
   "cell_type": "code",
   "execution_count": null,
   "id": "83ea4173",
   "metadata": {},
   "outputs": [],
   "source": []
  },
  {
   "cell_type": "code",
   "execution_count": null,
   "id": "b3ed623a",
   "metadata": {},
   "outputs": [],
   "source": []
  },
  {
   "cell_type": "markdown",
   "id": "6a78048c",
   "metadata": {},
   "source": [
    "# CCF_result"
   ]
  },
  {
   "cell_type": "markdown",
   "id": "cd12d1f5",
   "metadata": {},
   "source": [
    "## Mrk590"
   ]
  },
  {
   "cell_type": "markdown",
   "id": "006aa247",
   "metadata": {},
   "source": [
    "## X-rayasreference"
   ]
  },
  {
   "cell_type": "code",
   "execution_count": null,
   "id": "c8e3d381",
   "metadata": {
    "ExecuteTime": {
     "end_time": "2022-12-21T10:46:47.099171Z",
     "start_time": "2022-12-21T10:44:47.383408Z"
    }
   },
   "outputs": [],
   "source": [
    "sourcename='Mrk590'\n",
    "\n",
    "uvot_uvv=pd.read_csv('%s/%s_uvv_sum.csv'%(dataroot_dir,sourcename),sep='|',header=0)\n",
    "uvot_ubb=pd.read_csv('%s/%s_ubb_sum.csv'%(dataroot_dir,sourcename),sep='|',header=0)\n",
    "uvot_uuu=pd.read_csv('%s/%s_uuu_sum.csv'%(dataroot_dir,sourcename),sep='|',header=0)\n",
    "uvot_uw1=pd.read_csv('%s/%s_uw1_sum.csv'%(dataroot_dir,sourcename),sep='|',header=0)\n",
    "uvot_um2=pd.read_csv('%s/%s_um2_sum.csv'%(dataroot_dir,sourcename),sep='|',header=0)\n",
    "uvot_uw2=pd.read_csv('%s/%s_uw2_sum.csv'%(dataroot_dir,sourcename),sep='|',header=0)\n",
    "\n",
    "uvot_6band_data=[uvot_uvv,uvot_ubb,uvot_uuu,uvot_uw1,uvot_um2,uvot_uw2]\n",
    "uvdata_dict=dict(zip(uvot_6bands, uvot_6band_data))\n",
    "\n",
    "XRT_rate_=pd.read_csv('%s/%s_xrt_rate.txt'%(dataroot_dir,sourcename),sep='\\s+',header=0)\n",
    "XRT_rate_=XRT_rate_[XRT_rate_['rate']>0]\n",
    "XRT_rate_=drop_index(XRT_rate_)\n",
    "\n",
    "lag_Xray_=XRT_rate_[['time','rate','error']]\n",
    "lag_Xray_.columns=['t','flux','flux_err']\n",
    "lag_Xray_=lag_Xray_.sort_values('t')\n",
    "lag_Xray_=drop_index(lag_Xray_)\n",
    "\n",
    "for index,(band,uf_,c_,m_) in enumerate(zip(uvot_6bands,uvot_6band_data,colors_6band,markers_6bands)):\n",
    "    print(band)\n",
    "    lag_i=uf_[[uf_.columns[3],uf_.columns[6],uf_.columns[7]]]\n",
    "    lag_i.columns=['t','flux','flux_err']\n",
    "    lag_i=lag_i.sort_values('t')\n",
    "    lag_i=drop_index(lag_i)\n",
    "    \n",
    "    \n",
    "    labelname1=\"X-ray\"\n",
    "    labelname2=label_dict_uv[band]\n",
    "    \n",
    "    dataname1=lag_Xray_\n",
    "    dataname2=lag_i\n",
    "\n",
    "    sourcename_label=sourcename\n",
    "    #rangemin,rangemax=54790,58200\n",
    "    rangemin,rangemax=57900+1,58200-1\n",
    "    lagrangel=-20\n",
    "    lagrangeh=20\n",
    "\n",
    "    run_ccf(rootdir_ccf_xray,sourcename_label,labelname1,labelname2,dataname1,dataname2,rangemin,rangemax,lagrangel,lagrangeh)\n",
    "    plot_ccf(rootdir_ccf_xray,sourcename_label,labelname1,labelname2,dataname1,dataname2,rangemin,rangemax,lagrangel,lagrangeh)    \n"
   ]
  },
  {
   "cell_type": "code",
   "execution_count": null,
   "id": "e54a5910",
   "metadata": {
    "ExecuteTime": {
     "end_time": "2022-12-21T12:04:32.423036Z",
     "start_time": "2022-12-21T12:03:11.706925Z"
    }
   },
   "outputs": [],
   "source": [
    "sourcename='Mrk590'\n",
    "\n",
    "uvot_uvv=pd.read_csv('%s/%s_uvv_sum.csv'%(dataroot_dir,sourcename),sep='|',header=0)\n",
    "uvot_ubb=pd.read_csv('%s/%s_ubb_sum.csv'%(dataroot_dir,sourcename),sep='|',header=0)\n",
    "uvot_uuu=pd.read_csv('%s/%s_uuu_sum.csv'%(dataroot_dir,sourcename),sep='|',header=0)\n",
    "uvot_uw1=pd.read_csv('%s/%s_uw1_sum.csv'%(dataroot_dir,sourcename),sep='|',header=0)\n",
    "uvot_um2=pd.read_csv('%s/%s_um2_sum.csv'%(dataroot_dir,sourcename),sep='|',header=0)\n",
    "uvot_uw2=pd.read_csv('%s/%s_uw2_sum.csv'%(dataroot_dir,sourcename),sep='|',header=0)\n",
    "\n",
    "uvot_6band_data=[uvot_uvv,uvot_ubb,uvot_uuu,uvot_uw1,uvot_um2,uvot_uw2]\n",
    "uvdata_dict=dict(zip(uvot_6bands, uvot_6band_data))\n",
    "\n",
    "XRT_rate_=pd.read_csv('%s/%s_xrt_rate.txt'%(dataroot_dir,sourcename),sep='\\s+',header=0)\n",
    "XRT_rate_=XRT_rate_[XRT_rate_['rate']>0]\n",
    "XRT_rate_=drop_index(XRT_rate_)\n",
    "\n",
    "lag_Xray_=XRT_rate_[['time','rate','error']]\n",
    "lag_Xray_.columns=['t','flux','flux_err']\n",
    "lag_Xray_=lag_Xray_.sort_values('t')\n",
    "lag_Xray_=drop_index(lag_Xray_)\n",
    "\n",
    "for index,(band,uf_,c_,m_) in enumerate(zip(uvot_6bands,uvot_6band_data,colors_6band,markers_6bands)):\n",
    "    print(band)\n",
    "    lag_i=uf_[[uf_.columns[3],uf_.columns[6],uf_.columns[7]]]\n",
    "    lag_i.columns=['t','flux','flux_err']\n",
    "    lag_i=lag_i.sort_values('t')\n",
    "    lag_i=drop_index(lag_i)\n",
    "    \n",
    "    \n",
    "    labelname1=\"X-ray\"\n",
    "    labelname2=label_dict_uv[band]\n",
    "    \n",
    "    dataname1=lag_Xray_\n",
    "    dataname2=lag_i\n",
    "\n",
    "    sourcename_label=sourcename\n",
    "    #rangemin,rangemax=54790,58200\n",
    "    rangemin,rangemax=58200+1,58600-1\n",
    "    lagrangel=-20\n",
    "    lagrangeh=20\n",
    "\n",
    "    run_ccf(rootdir_ccf_xray,sourcename_label,labelname1,labelname2,dataname1,dataname2,rangemin,rangemax,lagrangel,lagrangeh)\n",
    "    plot_ccf(rootdir_ccf_xray,sourcename_label,labelname1,labelname2,dataname1,dataname2,rangemin,rangemax,lagrangel,lagrangeh)    \n"
   ]
  },
  {
   "cell_type": "code",
   "execution_count": null,
   "id": "1d4e7415",
   "metadata": {},
   "outputs": [],
   "source": []
  },
  {
   "cell_type": "code",
   "execution_count": null,
   "id": "4525a915",
   "metadata": {
    "ExecuteTime": {
     "end_time": "2022-12-21T12:05:52.516165Z",
     "start_time": "2022-12-21T12:04:38.924003Z"
    }
   },
   "outputs": [],
   "source": [
    "sourcename='Mrk590'\n",
    "\n",
    "uvot_uvv=pd.read_csv('%s/%s_uvv_sum.csv'%(dataroot_dir,sourcename),sep='|',header=0)\n",
    "uvot_ubb=pd.read_csv('%s/%s_ubb_sum.csv'%(dataroot_dir,sourcename),sep='|',header=0)\n",
    "uvot_uuu=pd.read_csv('%s/%s_uuu_sum.csv'%(dataroot_dir,sourcename),sep='|',header=0)\n",
    "uvot_uw1=pd.read_csv('%s/%s_uw1_sum.csv'%(dataroot_dir,sourcename),sep='|',header=0)\n",
    "uvot_um2=pd.read_csv('%s/%s_um2_sum.csv'%(dataroot_dir,sourcename),sep='|',header=0)\n",
    "uvot_uw2=pd.read_csv('%s/%s_uw2_sum.csv'%(dataroot_dir,sourcename),sep='|',header=0)\n",
    "\n",
    "uvot_6band_data=[uvot_uvv,uvot_ubb,uvot_uuu,uvot_uw1,uvot_um2,uvot_uw2]\n",
    "uvdata_dict=dict(zip(uvot_6bands, uvot_6band_data))\n",
    "\n",
    "XRT_rate_=pd.read_csv('%s/%s_xrt_rate.txt'%(dataroot_dir,sourcename),sep='\\s+',header=0)\n",
    "XRT_rate_=XRT_rate_[XRT_rate_['rate']>0]\n",
    "XRT_rate_=drop_index(XRT_rate_)\n",
    "\n",
    "lag_Xray_=XRT_rate_[['time','rate','error']]\n",
    "lag_Xray_.columns=['t','flux','flux_err']\n",
    "lag_Xray_=lag_Xray_.sort_values('t')\n",
    "lag_Xray_=drop_index(lag_Xray_)\n",
    "\n",
    "for index,(band,uf_,c_,m_) in enumerate(zip(uvot_6bands,uvot_6band_data,colors_6band,markers_6bands)):\n",
    "    print(band)\n",
    "    lag_i=uf_[[uf_.columns[3],uf_.columns[6],uf_.columns[7]]]\n",
    "    lag_i.columns=['t','flux','flux_err']\n",
    "    lag_i=lag_i.sort_values('t')\n",
    "    lag_i=drop_index(lag_i)\n",
    "    \n",
    "    \n",
    "    labelname1=\"X-ray\"\n",
    "    labelname2=label_dict_uv[band]\n",
    "    \n",
    "    dataname1=lag_Xray_\n",
    "    dataname2=lag_i\n",
    "\n",
    "    sourcename_label=sourcename\n",
    "    #rangemin,rangemax=54790,58200\n",
    "    rangemin,rangemax=58600+1,58900-1\n",
    "    lagrangel=-20\n",
    "    lagrangeh=20\n",
    "\n",
    "    run_ccf(rootdir_ccf_xray,sourcename_label,labelname1,labelname2,dataname1,dataname2,rangemin,rangemax,lagrangel,lagrangeh)\n",
    "    plot_ccf(rootdir_ccf_xray,sourcename_label,labelname1,labelname2,dataname1,dataname2,rangemin,rangemax,lagrangel,lagrangeh)    \n"
   ]
  },
  {
   "cell_type": "code",
   "execution_count": null,
   "id": "e544f70f",
   "metadata": {},
   "outputs": [],
   "source": []
  },
  {
   "cell_type": "code",
   "execution_count": null,
   "id": "7ad6bc86",
   "metadata": {},
   "outputs": [],
   "source": []
  },
  {
   "cell_type": "code",
   "execution_count": null,
   "id": "31192fe8",
   "metadata": {},
   "outputs": [],
   "source": []
  },
  {
   "cell_type": "markdown",
   "id": "64f67963",
   "metadata": {},
   "source": [
    "## UW2asreference "
   ]
  },
  {
   "cell_type": "code",
   "execution_count": null,
   "id": "a4fee678",
   "metadata": {
    "ExecuteTime": {
     "end_time": "2022-12-19T07:45:57.325076Z",
     "start_time": "2022-12-19T07:44:27.376701Z"
    }
   },
   "outputs": [],
   "source": [
    "sourcename='Mrk590'\n",
    "uvot_uvv=pd.read_csv('%s/%s_uvv_sum.csv'%(dataroot_dir,sourcename),sep='|',header=0)\n",
    "uvot_ubb=pd.read_csv('%s/%s_ubb_sum.csv'%(dataroot_dir,sourcename),sep='|',header=0)\n",
    "uvot_uuu=pd.read_csv('%s/%s_uuu_sum.csv'%(dataroot_dir,sourcename),sep='|',header=0)\n",
    "uvot_uw1=pd.read_csv('%s/%s_uw1_sum.csv'%(dataroot_dir,sourcename),sep='|',header=0)\n",
    "uvot_um2=pd.read_csv('%s/%s_um2_sum.csv'%(dataroot_dir,sourcename),sep='|',header=0)\n",
    "uvot_uw2=pd.read_csv('%s/%s_uw2_sum.csv'%(dataroot_dir,sourcename),sep='|',header=0)\n",
    "\n",
    "uvot_6band_data=[uvot_uvv,uvot_ubb,uvot_uuu,uvot_uw1,uvot_um2,uvot_uw2]\n",
    "uvdata_dict=dict(zip(uvot_6bands, uvot_6band_data))\n",
    "\n",
    "XRT_rate_=pd.read_csv('%s/%s_xrt_rate.txt'%(dataroot_dir,sourcename),sep='\\s+',header=0)\n",
    "XRT_rate_=XRT_rate_[XRT_rate_['rate']>0]\n",
    "XRT_rate_=drop_index(XRT_rate_)\n",
    "\n",
    "lag_Xray_=XRT_rate_[['time','rate','error']]\n",
    "lag_Xray_.columns=['t','flux','flux_err']\n",
    "lag_Xray_=lag_Xray_.sort_values('t')\n",
    "lag_Xray_=drop_index(lag_Xray_)\n",
    "\n",
    "lag_uvw2=uvot_uw2[[uvot_uw2.columns[3],uvot_uw2.columns[6],uvot_uw2.columns[7]]]\n",
    "lag_uvw2.columns=['t','flux','flux_err']\n",
    "lag_uvw2=lag_uvw2.sort_values('t')\n",
    "lag_uvw2=drop_index(lag_uvw2)\n",
    "\n",
    "for index,(band,uf_,c_,m_) in enumerate(zip(uvot_6bands,uvot_6band_data,colors_6band,markers_6bands)):\n",
    "    \n",
    "    if band =='uw2':   \n",
    "        labelname1='UVW2'\n",
    "        labelname2=\"X-ray\"#label_dict_uv[band]    \n",
    "        dataname1=lag_uvw2\n",
    "        dataname2=lag_Xray_\n",
    "                   \n",
    "    else:\n",
    "        print(band)\n",
    "        lag_i=uf_[[uf_.columns[3],uf_.columns[6],uf_.columns[7]]]\n",
    "        lag_i.columns=['t','flux','flux_err']\n",
    "        lag_i=lag_i.sort_values('t')\n",
    "        lag_i=drop_index(lag_i)\n",
    "        \n",
    "        labelname1='UVW2'\n",
    "        labelname2=label_dict_uv[band]\n",
    "        dataname1=lag_uvw2\n",
    "        dataname2=lag_i\n",
    "        \n",
    "    sourcename_label=sourcename\n",
    "    #rangemin,rangemax=54790,58200\n",
    "    rangemin,rangemax=57900+1,58200-1\n",
    "    lagrangel=-20\n",
    "    lagrangeh=20\n",
    "\n",
    "    run_ccf(rootdir_ccf,sourcename_label,labelname1,labelname2,dataname1,dataname2,rangemin,rangemax,lagrangel,lagrangeh)\n",
    "    plot_ccf(rootdir_ccf,sourcename_label,labelname1,labelname2,dataname1,dataname2,rangemin,rangemax,lagrangel,lagrangeh)    \n",
    "    \n"
   ]
  },
  {
   "cell_type": "code",
   "execution_count": null,
   "id": "0130b2a3",
   "metadata": {
    "ExecuteTime": {
     "end_time": "2022-12-19T08:05:54.910522Z",
     "start_time": "2022-12-19T08:04:53.808698Z"
    }
   },
   "outputs": [],
   "source": [
    "sourcename='Mrk590'\n",
    "uvot_uvv=pd.read_csv('%s/%s_uvv_sum.csv'%(dataroot_dir,sourcename),sep='|',header=0)\n",
    "uvot_ubb=pd.read_csv('%s/%s_ubb_sum.csv'%(dataroot_dir,sourcename),sep='|',header=0)\n",
    "uvot_uuu=pd.read_csv('%s/%s_uuu_sum.csv'%(dataroot_dir,sourcename),sep='|',header=0)\n",
    "uvot_uw1=pd.read_csv('%s/%s_uw1_sum.csv'%(dataroot_dir,sourcename),sep='|',header=0)\n",
    "uvot_um2=pd.read_csv('%s/%s_um2_sum.csv'%(dataroot_dir,sourcename),sep='|',header=0)\n",
    "uvot_uw2=pd.read_csv('%s/%s_uw2_sum.csv'%(dataroot_dir,sourcename),sep='|',header=0)\n",
    "\n",
    "uvot_6band_data=[uvot_uvv,uvot_ubb,uvot_uuu,uvot_uw1,uvot_um2,uvot_uw2]\n",
    "uvdata_dict=dict(zip(uvot_6bands, uvot_6band_data))\n",
    "\n",
    "XRT_rate_=pd.read_csv('%s/%s_xrt_rate.txt'%(dataroot_dir,sourcename),sep='\\s+',header=0)\n",
    "XRT_rate_=XRT_rate_[XRT_rate_['rate']>0]\n",
    "XRT_rate_=drop_index(XRT_rate_)\n",
    "\n",
    "lag_Xray_=XRT_rate_[['time','rate','error']]\n",
    "lag_Xray_.columns=['t','flux','flux_err']\n",
    "lag_Xray_=lag_Xray_.sort_values('t')\n",
    "lag_Xray_=drop_index(lag_Xray_)\n",
    "\n",
    "lag_uvw2=uvot_uw2[[uvot_uw2.columns[3],uvot_uw2.columns[6],uvot_uw2.columns[7]]]\n",
    "lag_uvw2.columns=['t','flux','flux_err']\n",
    "lag_uvw2=lag_uvw2.sort_values('t')\n",
    "lag_uvw2=drop_index(lag_uvw2)\n",
    "\n",
    "for index,(band,uf_,c_,m_) in enumerate(zip(uvot_6bands,uvot_6band_data,colors_6band,markers_6bands)):\n",
    "    \n",
    "    if band =='uw2':   \n",
    "        labelname1='UVW2'\n",
    "        labelname2=\"X-ray\"#label_dict_uv[band]    \n",
    "        dataname1=lag_uvw2\n",
    "        dataname2=lag_Xray_\n",
    "                   \n",
    "    else:\n",
    "        print(band)\n",
    "        lag_i=uf_[[uf_.columns[3],uf_.columns[6],uf_.columns[7]]]\n",
    "        lag_i.columns=['t','flux','flux_err']\n",
    "        lag_i=lag_i.sort_values('t')\n",
    "        lag_i=drop_index(lag_i)\n",
    "        \n",
    "        labelname1='UVW2'\n",
    "        labelname2=label_dict_uv[band]\n",
    "        dataname1=lag_uvw2\n",
    "        dataname2=lag_i\n",
    "        \n",
    "    sourcename_label=sourcename\n",
    "    #rangemin,rangemax=54790,58200\n",
    "    rangemin,rangemax=58200+1,58600-1\n",
    "    lagrangel=-20\n",
    "    lagrangeh=20\n",
    "\n",
    "    run_ccf(rootdir_ccf,sourcename_label,labelname1,labelname2,dataname1,dataname2,rangemin,rangemax,lagrangel,lagrangeh)\n",
    "    plot_ccf(rootdir_ccf,sourcename_label,labelname1,labelname2,dataname1,dataname2,rangemin,rangemax,lagrangel,lagrangeh)    \n",
    "    \n"
   ]
  },
  {
   "cell_type": "code",
   "execution_count": null,
   "id": "20c829ee",
   "metadata": {
    "ExecuteTime": {
     "end_time": "2022-12-19T08:08:26.493555Z",
     "start_time": "2022-12-19T08:07:27.170066Z"
    }
   },
   "outputs": [],
   "source": [
    "sourcename='Mrk590'\n",
    "\n",
    "uvot_uvv=pd.read_csv('%s/%s_uvv_sum.csv'%(dataroot_dir,sourcename),sep='|',header=0)\n",
    "uvot_ubb=pd.read_csv('%s/%s_ubb_sum.csv'%(dataroot_dir,sourcename),sep='|',header=0)\n",
    "uvot_uuu=pd.read_csv('%s/%s_uuu_sum.csv'%(dataroot_dir,sourcename),sep='|',header=0)\n",
    "uvot_uw1=pd.read_csv('%s/%s_uw1_sum.csv'%(dataroot_dir,sourcename),sep='|',header=0)\n",
    "uvot_um2=pd.read_csv('%s/%s_um2_sum.csv'%(dataroot_dir,sourcename),sep='|',header=0)\n",
    "uvot_uw2=pd.read_csv('%s/%s_uw2_sum.csv'%(dataroot_dir,sourcename),sep='|',header=0)\n",
    "\n",
    "uvot_6band_data=[uvot_uvv,uvot_ubb,uvot_uuu,uvot_uw1,uvot_um2,uvot_uw2]\n",
    "uvdata_dict=dict(zip(uvot_6bands, uvot_6band_data))\n",
    "\n",
    "XRT_rate_=pd.read_csv('%s/%s_xrt_rate.txt'%(dataroot_dir,sourcename),sep='\\s+',header=0)\n",
    "XRT_rate_=XRT_rate_[XRT_rate_['rate']>0]\n",
    "XRT_rate_=drop_index(XRT_rate_)\n",
    "\n",
    "lag_Xray_=XRT_rate_[['time','rate','error']]\n",
    "lag_Xray_.columns=['t','flux','flux_err']\n",
    "lag_Xray_=lag_Xray_.sort_values('t')\n",
    "lag_Xray_=drop_index(lag_Xray_)\n",
    "\n",
    "lag_uvw2=uvot_uw2[[uvot_uw2.columns[3],uvot_uw2.columns[6],uvot_uw2.columns[7]]]\n",
    "lag_uvw2.columns=['t','flux','flux_err']\n",
    "lag_uvw2=lag_uvw2.sort_values('t')\n",
    "lag_uvw2=drop_index(lag_uvw2)\n",
    "\n",
    "for index,(band,uf_,c_,m_) in enumerate(zip(uvot_6bands,uvot_6band_data,colors_6band,markers_6bands)):\n",
    "    \n",
    "    if band =='uw2':   \n",
    "        labelname1='UVW2'\n",
    "        labelname2=\"X-ray\"#label_dict_uv[band]    \n",
    "        dataname1=lag_uvw2\n",
    "        dataname2=lag_Xray_\n",
    "                   \n",
    "    else:\n",
    "        print(band)\n",
    "        lag_i=uf_[[uf_.columns[3],uf_.columns[6],uf_.columns[7]]]\n",
    "        lag_i.columns=['t','flux','flux_err']\n",
    "        lag_i=lag_i.sort_values('t')\n",
    "        lag_i=drop_index(lag_i)\n",
    "        \n",
    "        labelname1='UVW2'\n",
    "        labelname2=label_dict_uv[band]\n",
    "        dataname1=lag_uvw2\n",
    "        dataname2=lag_i\n",
    "        \n",
    "    sourcename_label=sourcename\n",
    "    #rangemin,rangemax=54790,58200\n",
    "    rangemin,rangemax=58600+1,58900-1\n",
    "    lagrangel=-20\n",
    "    lagrangeh=20\n",
    "\n",
    "    run_ccf(rootdir_ccf,sourcename_label,labelname1,labelname2,dataname1,dataname2,rangemin,rangemax,lagrangel,lagrangeh)\n",
    "    plot_ccf(rootdir_ccf,sourcename_label,labelname1,labelname2,dataname1,dataname2,rangemin,rangemax,lagrangel,lagrangeh)    \n",
    "    \n"
   ]
  },
  {
   "cell_type": "code",
   "execution_count": null,
   "id": "9bd0276f",
   "metadata": {},
   "outputs": [],
   "source": []
  },
  {
   "cell_type": "code",
   "execution_count": null,
   "id": "b2c3677a",
   "metadata": {},
   "outputs": [],
   "source": []
  },
  {
   "cell_type": "markdown",
   "id": "3bc38eb1",
   "metadata": {},
   "source": [
    "## ztf-asassn"
   ]
  },
  {
   "cell_type": "code",
   "execution_count": null,
   "id": "f06376a5",
   "metadata": {
    "ExecuteTime": {
     "end_time": "2022-12-02T03:52:21.413381Z",
     "start_time": "2022-12-02T03:52:10.982947Z"
    }
   },
   "outputs": [],
   "source": [
    "labelname1=\"ZTF-r\"\n",
    "labelname2=\"ASASSN-V\"\n",
    "\n",
    "dataname1=lag_zrf_r_Mrk590\n",
    "dataname2=lag_asassn_v_Mrk590\n",
    "\n",
    "sourcename_label='Mrk590'\n",
    "rangemin,rangemax=58200+1,58600-1\n",
    "lagrangel=-30\n",
    "lagrangeh=30\n",
    "\n",
    "run_ccf(rootdir_ccf,sourcename_label,labelname1,labelname2,dataname1,dataname2,rangemin,rangemax,lagrangel,lagrangeh)\n",
    "plot_ccf(rootdir_ccf,sourcename_label,labelname1,labelname2,dataname1,dataname2,rangemin,rangemax,lagrangel,lagrangeh)    \n"
   ]
  },
  {
   "cell_type": "code",
   "execution_count": null,
   "id": "5fcf13c1",
   "metadata": {},
   "outputs": [],
   "source": []
  },
  {
   "cell_type": "code",
   "execution_count": null,
   "id": "876ba219",
   "metadata": {
    "ExecuteTime": {
     "end_time": "2022-12-02T03:53:18.073007Z",
     "start_time": "2022-12-02T03:53:05.513578Z"
    }
   },
   "outputs": [],
   "source": [
    "labelname1=\"ZTF-r\"\n",
    "labelname2=\"ASASSN-g\"\n",
    "\n",
    "dataname1=lag_zrf_r_Mrk590\n",
    "dataname2=lag_asassn_g_Mrk590\n",
    "\n",
    "sourcename_label='Mrk590'\n",
    "rangemin,rangemax=58200+1,58600-1\n",
    "lagrangel=-30\n",
    "lagrangeh=30\n",
    "\n",
    "run_ccf(rootdir_ccf,sourcename_label,labelname1,labelname2,dataname1,dataname2,rangemin,rangemax,lagrangel,lagrangeh)\n",
    "plot_ccf(rootdir_ccf,sourcename_label,labelname1,labelname2,dataname1,dataname2,rangemin,rangemax,lagrangel,lagrangeh)    \n"
   ]
  },
  {
   "cell_type": "code",
   "execution_count": null,
   "id": "61e293a4",
   "metadata": {
    "ExecuteTime": {
     "end_time": "2022-12-02T03:52:47.474439Z",
     "start_time": "2022-12-02T03:52:29.959911Z"
    }
   },
   "outputs": [],
   "source": [
    "labelname1=\"ZTF-r\"\n",
    "labelname2=\"ASASSN-g\"\n",
    "\n",
    "dataname1=lag_zrf_r_Mrk590\n",
    "dataname2=lag_asassn_g_Mrk590\n",
    "\n",
    "sourcename_label='Mrk590'\n",
    "rangemin,rangemax=58600+1,58900-1\n",
    "lagrangel=-30\n",
    "lagrangeh=30\n",
    "\n",
    "run_ccf(rootdir_ccf,sourcename_label,labelname1,labelname2,dataname1,dataname2,rangemin,rangemax,lagrangel,lagrangeh)\n",
    "plot_ccf(rootdir_ccf,sourcename_label,labelname1,labelname2,dataname1,dataname2,rangemin,rangemax,lagrangel,lagrangeh)    \n"
   ]
  },
  {
   "cell_type": "code",
   "execution_count": null,
   "id": "f2097c2e",
   "metadata": {},
   "outputs": [],
   "source": []
  },
  {
   "cell_type": "code",
   "execution_count": null,
   "id": "6b916c50",
   "metadata": {},
   "outputs": [],
   "source": []
  },
  {
   "cell_type": "code",
   "execution_count": null,
   "id": "39f3206a",
   "metadata": {},
   "outputs": [],
   "source": []
  },
  {
   "cell_type": "code",
   "execution_count": null,
   "id": "b9446a8b",
   "metadata": {},
   "outputs": [],
   "source": []
  },
  {
   "cell_type": "code",
   "execution_count": null,
   "id": "304eec27",
   "metadata": {},
   "outputs": [],
   "source": []
  },
  {
   "cell_type": "markdown",
   "id": "62a96d1d",
   "metadata": {},
   "source": [
    "# Other Sources"
   ]
  },
  {
   "cell_type": "code",
   "execution_count": null,
   "id": "8f01e767",
   "metadata": {
    "ExecuteTime": {
     "end_time": "2022-12-15T10:52:06.745545Z",
     "start_time": "2022-12-15T10:52:06.738528Z"
    }
   },
   "outputs": [],
   "source": [
    "sources_names=[]\n",
    "for i in os.listdir(dataroot_dir):\n",
    "    if i.endswith('_xrt_rate.txt'):\n",
    "        name=i.split('_xrt_rate.txt')[0]\n",
    "        if name not in sources_names:\n",
    "            sources_names.append(name)\n",
    "            "
   ]
  },
  {
   "cell_type": "code",
   "execution_count": null,
   "id": "ffadcd80",
   "metadata": {
    "ExecuteTime": {
     "end_time": "2022-12-15T10:52:07.382900Z",
     "start_time": "2022-12-15T10:52:07.370832Z"
    }
   },
   "outputs": [],
   "source": [
    "sources_names"
   ]
  },
  {
   "cell_type": "markdown",
   "id": "4670ea44",
   "metadata": {
    "ExecuteTime": {
     "end_time": "2022-12-08T14:44:43.389529Z",
     "start_time": "2022-12-08T14:44:43.362314Z"
    }
   },
   "source": [
    "sourcename='Mrk1018'\n",
    "uvot_uvv=pd.read_csv('%s/%s_uvv_sum.csv'%(dataroot_dir,sourcename),sep='|',header=0)\n",
    "uvot_ubb=pd.read_csv('%s/%s_ubb_sum.csv'%(dataroot_dir,sourcename),sep='|',header=0)\n",
    "uvot_uuu=pd.read_csv('%s/%s_uuu_sum.csv'%(dataroot_dir,sourcename),sep='|',header=0)\n",
    "uvot_uw1=pd.read_csv('%s/%s_uw1_sum.csv'%(dataroot_dir,sourcename),sep='|',header=0)\n",
    "uvot_um2=pd.read_csv('%s/%s_um2_sum.csv'%(dataroot_dir,sourcename),sep='|',header=0)\n",
    "uvot_uw2=pd.read_csv('%s/%s_uw2_sum.csv'%(dataroot_dir,sourcename),sep='|',header=0)\n",
    "uvot_uvv.columns"
   ]
  },
  {
   "cell_type": "code",
   "execution_count": null,
   "id": "68fbec80",
   "metadata": {},
   "outputs": [],
   "source": []
  },
  {
   "cell_type": "code",
   "execution_count": null,
   "id": "89f441cd",
   "metadata": {
    "ExecuteTime": {
     "end_time": "2022-12-08T14:47:10.722347Z",
     "start_time": "2022-12-08T14:46:27.383007Z"
    }
   },
   "outputs": [],
   "source": [
    "for sourcename in sources_names:\n",
    "\n",
    "    uvot_uvv=pd.read_csv('%s/%s_uvv_sum.csv'%(dataroot_dir,sourcename),sep='|',header=0)\n",
    "    uvot_ubb=pd.read_csv('%s/%s_ubb_sum.csv'%(dataroot_dir,sourcename),sep='|',header=0)\n",
    "    uvot_uuu=pd.read_csv('%s/%s_uuu_sum.csv'%(dataroot_dir,sourcename),sep='|',header=0)\n",
    "    uvot_uw1=pd.read_csv('%s/%s_uw1_sum.csv'%(dataroot_dir,sourcename),sep='|',header=0)\n",
    "    uvot_um2=pd.read_csv('%s/%s_um2_sum.csv'%(dataroot_dir,sourcename),sep='|',header=0)\n",
    "    uvot_uw2=pd.read_csv('%s/%s_uw2_sum.csv'%(dataroot_dir,sourcename),sep='|',header=0)\n",
    "\n",
    "    uvot_6band_data=[uvot_uvv,uvot_ubb,uvot_uuu,uvot_uw1,uvot_um2,uvot_uw2]\n",
    "    uvdata_dict=dict(zip(uvot_6bands, uvot_6band_data))\n",
    "\n",
    "    XRT_rate_=pd.read_csv('%s/%s_xrt_rate.txt'%(dataroot_dir,sourcename),sep='\\s+',header=0)\n",
    "    XRT_rate_=XRT_rate_[XRT_rate_['rate']>0]\n",
    "    XRT_rate_=drop_index(XRT_rate_)\n",
    "    \n",
    "    fig = plt.figure(figsize=(12, 8))\n",
    "    #fig.subplots_adjust(left=0.1, right=0.75, bottom=0.12, top=0.95)\n",
    "    # Add axes object to our figure that takes up entire figure\n",
    "    #ax = fig.add_axes([0, 0, 1, 1])\n",
    "    ax=fig.add_subplot(1,1,1)\n",
    "\n",
    "    for index,(band,uf_,c_,m_) in enumerate(zip(uvot_6bands,uvot_6band_data,colors_6band,markers_6bands)):\n",
    "        if sourcename=='Mrk1018':\n",
    "            ax.errorbar(uf_[uf_.columns[2]],uf_[uf_.columns[5]],uf_[uf_.columns[6]],color=c_,marker=m_,alpha=0.8,ls=':',label=label_dict_uv[band])    \n",
    "            \n",
    "        else:\n",
    "            ax.errorbar(uf_[uf_.columns[3]],uf_[uf_.columns[6]],uf_[uf_.columns[7]],color=c_,marker=m_,alpha=0.8,ls=':',label=label_dict_uv[band])    \n",
    "\n",
    "\n",
    "\n",
    "    ax_x=ax.twinx()\n",
    "    ax_x.errorbar(XRT_rate_['time'],XRT_rate_['rate'],XRT_rate_['error'],\n",
    "                 marker='o',\n",
    "                 color='grey',\n",
    "                 label='XRT',ls='',) \n",
    "    ax_x.set_ylabel('count/s')\n",
    "\n",
    "    ax.set_xlabel('MJD')\n",
    "    ax.set_ylabel('F(mJy)')\n",
    "    #set_ax_legend(ax)\n",
    "    set_ax_legend_sequence(ax)\n",
    "    set_ax_legend(ax_x,bbox_to_anchor=(0.8,0.99))\n",
    "\n",
    "    set_ax_tick(ax)\n",
    "    set_ax_locator(ax,xma=1000,xmi=250,yma=2,ymi=0.5)\n",
    "\n",
    "    plot_secax(ax,mi_interval=180,ma_interval=360,rotation=30)\n",
    "\n",
    "    ax.set_title(sourcename)\n",
    "    \n",
    "    range_l,range_r = ax.set_xlim()    \n",
    "    #range_l,range_r=(57900+1,59200-1)\n",
    "    \n",
    "    #ax.set_xlim(57900+1,59000-1)\n",
    "    ax.set_xlim(range_l,range_r)\n",
    "    #ax.set_ylim(0.1,9.9)\n",
    "    save_lc_img_path='/Users/lyubing/Downloads/CLAGN_swift/%s_UV_XRT_%d_%d.png'%(sourcename,range_l,range_r)\n",
    "    #save_lc_img_path='/Users/brettlv/Downloads/PKS1510_plot/Mojave_15GHz_I_lc.png'\n",
    "    plt.savefig(save_lc_img_path,dpi=400, transparent=False, bbox_inches='tight')\n"
   ]
  },
  {
   "cell_type": "code",
   "execution_count": null,
   "id": "60a0146a",
   "metadata": {
    "ExecuteTime": {
     "end_time": "2022-12-07T17:21:20.740706Z",
     "start_time": "2022-12-07T17:21:20.730718Z"
    }
   },
   "outputs": [],
   "source": [
    "dataroot_dir"
   ]
  },
  {
   "cell_type": "code",
   "execution_count": null,
   "id": "5da9ba1b",
   "metadata": {
    "ExecuteTime": {
     "end_time": "2022-12-08T14:40:46.766815Z",
     "start_time": "2022-12-08T14:40:46.462670Z"
    }
   },
   "outputs": [],
   "source": [
    "!open /Users/lyubing/IHEPBox/data/data_clagn/CLAGN_uvot_XRT_fig"
   ]
  },
  {
   "cell_type": "code",
   "execution_count": null,
   "id": "72bf7005",
   "metadata": {},
   "outputs": [],
   "source": [
    " 29.5 ±1.3ks"
   ]
  },
  {
   "cell_type": "code",
   "execution_count": null,
   "id": "5a1aad75",
   "metadata": {
    "ExecuteTime": {
     "end_time": "2022-12-07T17:29:41.671211Z",
     "start_time": "2022-12-07T17:29:41.662318Z"
    }
   },
   "outputs": [],
   "source": [
    "29.5*1000/3600"
   ]
  },
  {
   "cell_type": "markdown",
   "id": "bd6209c1",
   "metadata": {},
   "source": [
    "## sourcename='NGC4151'"
   ]
  },
  {
   "cell_type": "code",
   "execution_count": null,
   "id": "e3a60a0b",
   "metadata": {
    "ExecuteTime": {
     "end_time": "2022-12-15T10:52:25.774599Z",
     "start_time": "2022-12-15T10:52:25.764817Z"
    }
   },
   "outputs": [],
   "source": [
    "uvot_6bands"
   ]
  },
  {
   "cell_type": "markdown",
   "id": "fbc2e2e8",
   "metadata": {},
   "source": [
    "### xray"
   ]
  },
  {
   "cell_type": "code",
   "execution_count": null,
   "id": "aa5ae7b4",
   "metadata": {
    "ExecuteTime": {
     "end_time": "2022-12-21T12:17:21.932623Z",
     "start_time": "2022-12-21T12:10:29.543965Z"
    }
   },
   "outputs": [],
   "source": [
    "sourcename='NGC4151'\n",
    "\n",
    "uvot_uvv=pd.read_csv('%s/%s_uvv_sum.csv'%(dataroot_dir,sourcename),sep='|',header=0)\n",
    "uvot_ubb=pd.read_csv('%s/%s_ubb_sum.csv'%(dataroot_dir,sourcename),sep='|',header=0)\n",
    "uvot_uuu=pd.read_csv('%s/%s_uuu_sum.csv'%(dataroot_dir,sourcename),sep='|',header=0)\n",
    "uvot_uw1=pd.read_csv('%s/%s_uw1_sum.csv'%(dataroot_dir,sourcename),sep='|',header=0)\n",
    "uvot_um2=pd.read_csv('%s/%s_um2_sum.csv'%(dataroot_dir,sourcename),sep='|',header=0)\n",
    "uvot_uw2=pd.read_csv('%s/%s_uw2_sum.csv'%(dataroot_dir,sourcename),sep='|',header=0)\n",
    "\n",
    "uvot_6band_data=[uvot_uvv,uvot_ubb,uvot_uuu,uvot_uw1,uvot_um2,uvot_uw2]\n",
    "uvdata_dict=dict(zip(uvot_6bands, uvot_6band_data))\n",
    "\n",
    "XRT_rate_=pd.read_csv('%s/%s_xrt_rate.txt'%(dataroot_dir,sourcename),sep='\\s+',header=0)\n",
    "XRT_rate_=XRT_rate_[XRT_rate_['rate']>0]\n",
    "XRT_rate_=drop_index(XRT_rate_)\n",
    "\n",
    "lag_Xray_=XRT_rate_[['time','rate','error']]\n",
    "lag_Xray_.columns=['t','flux','flux_err']\n",
    "lag_Xray_=lag_Xray_.sort_values('t')\n",
    "lag_Xray_=drop_index(lag_Xray_)\n",
    "\n",
    "for index,(band,uf_,c_,m_) in enumerate(zip(uvot_6bands,uvot_6band_data,colors_6band,markers_6bands)):\n",
    "    print(band)\n",
    "    lag_i=uf_[[uf_.columns[3],uf_.columns[6],uf_.columns[7]]]\n",
    "    lag_i.columns=['t','flux','flux_err']\n",
    "    lag_i=lag_i.sort_values('t')\n",
    "    lag_i=drop_index(lag_i)\n",
    "    \n",
    "    \n",
    "    labelname1=\"X-ray\"\n",
    "    labelname2=label_dict_uv[band]\n",
    "    \n",
    "    dataname1=lag_Xray_\n",
    "    dataname2=lag_i\n",
    "\n",
    "    sourcename_label=sourcename\n",
    "    #rangemin,rangemax=54790,58200\n",
    "    rangemin,rangemax=57400+1,58000-1\n",
    "    lagrangel=-20\n",
    "    lagrangeh=20\n",
    "\n",
    "    run_ccf(rootdir_ccf_xray,sourcename_label,labelname1,labelname2,dataname1,dataname2,rangemin,rangemax,lagrangel,lagrangeh)\n",
    "    plot_ccf(rootdir_ccf_xray,sourcename_label,labelname1,labelname2,dataname1,dataname2,rangemin,rangemax,lagrangel,lagrangeh)    \n"
   ]
  },
  {
   "cell_type": "markdown",
   "id": "21b04716",
   "metadata": {},
   "source": [
    "### UVW2as reference"
   ]
  },
  {
   "cell_type": "code",
   "execution_count": null,
   "id": "efe750c4",
   "metadata": {
    "ExecuteTime": {
     "end_time": "2022-12-19T08:48:35.671365Z",
     "start_time": "2022-12-19T08:43:31.084988Z"
    }
   },
   "outputs": [],
   "source": [
    "sourcename='NGC4151'\n",
    "\n",
    "uvot_uvv=pd.read_csv('%s/%s_uvv_sum.csv'%(dataroot_dir,sourcename),sep='|',header=0)\n",
    "uvot_ubb=pd.read_csv('%s/%s_ubb_sum.csv'%(dataroot_dir,sourcename),sep='|',header=0)\n",
    "uvot_uuu=pd.read_csv('%s/%s_uuu_sum.csv'%(dataroot_dir,sourcename),sep='|',header=0)\n",
    "uvot_uw1=pd.read_csv('%s/%s_uw1_sum.csv'%(dataroot_dir,sourcename),sep='|',header=0)\n",
    "uvot_um2=pd.read_csv('%s/%s_um2_sum.csv'%(dataroot_dir,sourcename),sep='|',header=0)\n",
    "uvot_uw2=pd.read_csv('%s/%s_uw2_sum.csv'%(dataroot_dir,sourcename),sep='|',header=0)\n",
    "\n",
    "uvot_6band_data=[uvot_uvv,uvot_ubb,uvot_uuu,uvot_uw1,uvot_um2,uvot_uw2]\n",
    "uvdata_dict=dict(zip(uvot_6bands, uvot_6band_data))\n",
    "\n",
    "XRT_rate_=pd.read_csv('%s/%s_xrt_rate.txt'%(dataroot_dir,sourcename),sep='\\s+',header=0)\n",
    "XRT_rate_=XRT_rate_[XRT_rate_['rate']>0]\n",
    "XRT_rate_=drop_index(XRT_rate_)\n",
    "\n",
    "lag_Xray_=XRT_rate_[['time','rate','error']]\n",
    "lag_Xray_.columns=['t','flux','flux_err']\n",
    "lag_Xray_=lag_Xray_.sort_values('t')\n",
    "lag_Xray_=drop_index(lag_Xray_)\n",
    "\n",
    "lag_uvw2=uvot_uw2[[uvot_uw2.columns[3],uvot_uw2.columns[6],uvot_uw2.columns[7]]]\n",
    "lag_uvw2.columns=['t','flux','flux_err']\n",
    "lag_uvw2=lag_uvw2.sort_values('t')\n",
    "lag_uvw2=drop_index(lag_uvw2)\n",
    "\n",
    "for index,(band,uf_,c_,m_) in enumerate(zip(uvot_6bands,uvot_6band_data,colors_6band,markers_6bands)):\n",
    "    \n",
    "    if band =='uw2':   \n",
    "        labelname1='UVW2'\n",
    "        labelname2=\"X-ray\"#label_dict_uv[band]    \n",
    "        dataname1=lag_uvw2\n",
    "        dataname2=lag_Xray_\n",
    "                   \n",
    "    else:\n",
    "        print(band)\n",
    "        lag_i=uf_[[uf_.columns[3],uf_.columns[6],uf_.columns[7]]]\n",
    "        lag_i.columns=['t','flux','flux_err']\n",
    "        lag_i=lag_i.sort_values('t')\n",
    "        lag_i=drop_index(lag_i)\n",
    "        \n",
    "        labelname1='UVW2'\n",
    "        labelname2=label_dict_uv[band]\n",
    "        dataname1=lag_uvw2\n",
    "        dataname2=lag_i\n",
    "        \n",
    "    sourcename_label=sourcename\n",
    "    #rangemin,rangemax=54790,58200\n",
    "    rangemin,rangemax=57400+1,58000-1\n",
    "    lagrangel=-20\n",
    "    lagrangeh=20\n",
    "\n",
    "    run_ccf(rootdir_ccf,sourcename_label,labelname1,labelname2,dataname1,dataname2,rangemin,rangemax,lagrangel,lagrangeh)\n",
    "    plot_ccf(rootdir_ccf,sourcename_label,labelname1,labelname2,dataname1,dataname2,rangemin,rangemax,lagrangel,lagrangeh)    \n",
    "    \n"
   ]
  },
  {
   "cell_type": "code",
   "execution_count": null,
   "id": "3a16d07e",
   "metadata": {},
   "outputs": [],
   "source": []
  },
  {
   "cell_type": "markdown",
   "id": "7d366bfa",
   "metadata": {},
   "source": [
    "## sourcename='NGC5548'"
   ]
  },
  {
   "cell_type": "markdown",
   "id": "eafb7744",
   "metadata": {},
   "source": [
    "### xray"
   ]
  },
  {
   "cell_type": "code",
   "execution_count": null,
   "id": "5574b7f6",
   "metadata": {
    "ExecuteTime": {
     "end_time": "2022-12-21T12:30:05.640471Z",
     "start_time": "2022-12-21T12:19:20.280781Z"
    }
   },
   "outputs": [],
   "source": [
    "sourcename='NGC5548'\n",
    "\n",
    "uvot_uvv=pd.read_csv('%s/%s_uvv_sum.csv'%(dataroot_dir,sourcename),sep='|',header=0)\n",
    "uvot_ubb=pd.read_csv('%s/%s_ubb_sum.csv'%(dataroot_dir,sourcename),sep='|',header=0)\n",
    "uvot_uuu=pd.read_csv('%s/%s_uuu_sum.csv'%(dataroot_dir,sourcename),sep='|',header=0)\n",
    "uvot_uw1=pd.read_csv('%s/%s_uw1_sum.csv'%(dataroot_dir,sourcename),sep='|',header=0)\n",
    "uvot_um2=pd.read_csv('%s/%s_um2_sum.csv'%(dataroot_dir,sourcename),sep='|',header=0)\n",
    "uvot_uw2=pd.read_csv('%s/%s_uw2_sum.csv'%(dataroot_dir,sourcename),sep='|',header=0)\n",
    "\n",
    "uvot_6band_data=[uvot_uvv,uvot_ubb,uvot_uuu,uvot_uw1,uvot_um2,uvot_uw2]\n",
    "uvdata_dict=dict(zip(uvot_6bands, uvot_6band_data))\n",
    "\n",
    "XRT_rate_=pd.read_csv('%s/%s_xrt_rate.txt'%(dataroot_dir,sourcename),sep='\\s+',header=0)\n",
    "XRT_rate_=XRT_rate_[XRT_rate_['rate']>0]\n",
    "XRT_rate_=drop_index(XRT_rate_)\n",
    "\n",
    "lag_Xray_=XRT_rate_[['time','rate','error']]\n",
    "lag_Xray_.columns=['t','flux','flux_err']\n",
    "lag_Xray_=lag_Xray_.sort_values('t')\n",
    "lag_Xray_=drop_index(lag_Xray_)\n",
    "\n",
    "for index,(band,uf_,c_,m_) in enumerate(zip(uvot_6bands,uvot_6band_data,colors_6band,markers_6bands)):\n",
    "    print(band)\n",
    "    lag_i=uf_[[uf_.columns[3],uf_.columns[6],uf_.columns[7]]]\n",
    "    lag_i.columns=['t','flux','flux_err']\n",
    "    lag_i=lag_i.sort_values('t')\n",
    "    lag_i=drop_index(lag_i)\n",
    "    \n",
    "    \n",
    "    labelname1=\"X-ray\"\n",
    "    labelname2=label_dict_uv[band]\n",
    "    \n",
    "    dataname1=lag_Xray_\n",
    "    dataname2=lag_i\n",
    "\n",
    "    sourcename_label=sourcename\n",
    "    #rangemin,rangemax=54790,58200\n",
    "    rangemin,rangemax=56600+1,56900-1\n",
    "    lagrangel=-20\n",
    "    lagrangeh=20\n",
    "\n",
    "    run_ccf(rootdir_ccf_xray,sourcename_label,labelname1,labelname2,dataname1,dataname2,rangemin,rangemax,lagrangel,lagrangeh)\n",
    "    plot_ccf(rootdir_ccf_xray,sourcename_label,labelname1,labelname2,dataname1,dataname2,rangemin,rangemax,lagrangel,lagrangeh)    \n"
   ]
  },
  {
   "cell_type": "markdown",
   "id": "a9478dfb",
   "metadata": {},
   "source": [
    "### uvw2"
   ]
  },
  {
   "cell_type": "code",
   "execution_count": null,
   "id": "c78ae76c",
   "metadata": {
    "ExecuteTime": {
     "end_time": "2022-12-19T08:58:30.925065Z",
     "start_time": "2022-12-19T08:50:23.751130Z"
    }
   },
   "outputs": [],
   "source": [
    "sourcename='NGC5548'\n",
    "\n",
    "uvot_uvv=pd.read_csv('%s/%s_uvv_sum.csv'%(dataroot_dir,sourcename),sep='|',header=0)\n",
    "uvot_ubb=pd.read_csv('%s/%s_ubb_sum.csv'%(dataroot_dir,sourcename),sep='|',header=0)\n",
    "uvot_uuu=pd.read_csv('%s/%s_uuu_sum.csv'%(dataroot_dir,sourcename),sep='|',header=0)\n",
    "uvot_uw1=pd.read_csv('%s/%s_uw1_sum.csv'%(dataroot_dir,sourcename),sep='|',header=0)\n",
    "uvot_um2=pd.read_csv('%s/%s_um2_sum.csv'%(dataroot_dir,sourcename),sep='|',header=0)\n",
    "uvot_uw2=pd.read_csv('%s/%s_uw2_sum.csv'%(dataroot_dir,sourcename),sep='|',header=0)\n",
    "\n",
    "uvot_6band_data=[uvot_uvv,uvot_ubb,uvot_uuu,uvot_uw1,uvot_um2,uvot_uw2]\n",
    "uvdata_dict=dict(zip(uvot_6bands, uvot_6band_data))\n",
    "\n",
    "XRT_rate_=pd.read_csv('%s/%s_xrt_rate.txt'%(dataroot_dir,sourcename),sep='\\s+',header=0)\n",
    "XRT_rate_=XRT_rate_[XRT_rate_['rate']>0]\n",
    "XRT_rate_=drop_index(XRT_rate_)\n",
    "\n",
    "lag_Xray_=XRT_rate_[['time','rate','error']]\n",
    "lag_Xray_.columns=['t','flux','flux_err']\n",
    "lag_Xray_=lag_Xray_.sort_values('t')\n",
    "lag_Xray_=drop_index(lag_Xray_)\n",
    "\n",
    "lag_uvw2=uvot_uw2[[uvot_uw2.columns[3],uvot_uw2.columns[6],uvot_uw2.columns[7]]]\n",
    "lag_uvw2.columns=['t','flux','flux_err']\n",
    "lag_uvw2=lag_uvw2.sort_values('t')\n",
    "lag_uvw2=drop_index(lag_uvw2)\n",
    "\n",
    "for index,(band,uf_,c_,m_) in enumerate(zip(uvot_6bands,uvot_6band_data,colors_6band,markers_6bands)):\n",
    "    \n",
    "    if band =='uw2':   \n",
    "        labelname1='UVW2'\n",
    "        labelname2=\"X-ray\"#label_dict_uv[band]    \n",
    "        dataname1=lag_uvw2\n",
    "        dataname2=lag_Xray_\n",
    "                   \n",
    "    else:\n",
    "        print(band)\n",
    "        lag_i=uf_[[uf_.columns[3],uf_.columns[6],uf_.columns[7]]]\n",
    "        lag_i.columns=['t','flux','flux_err']\n",
    "        lag_i=lag_i.sort_values('t')\n",
    "        lag_i=drop_index(lag_i)\n",
    "        \n",
    "        labelname1='UVW2'\n",
    "        labelname2=label_dict_uv[band]\n",
    "        dataname1=lag_uvw2\n",
    "        dataname2=lag_i\n",
    "        \n",
    "    sourcename_label=sourcename\n",
    "    #rangemin,rangemax=54790,58200\n",
    "    rangemin,rangemax=56600+1,56900-1\n",
    "    lagrangel=-20\n",
    "    lagrangeh=20\n",
    "\n",
    "    run_ccf(rootdir_ccf,sourcename_label,labelname1,labelname2,dataname1,dataname2,rangemin,rangemax,lagrangel,lagrangeh)\n",
    "    plot_ccf(rootdir_ccf,sourcename_label,labelname1,labelname2,dataname1,dataname2,rangemin,rangemax,lagrangel,lagrangeh)    \n",
    " "
   ]
  },
  {
   "cell_type": "code",
   "execution_count": null,
   "id": "6f499a20",
   "metadata": {},
   "outputs": [],
   "source": []
  },
  {
   "cell_type": "code",
   "execution_count": null,
   "id": "dbd052cb",
   "metadata": {},
   "outputs": [],
   "source": []
  },
  {
   "cell_type": "code",
   "execution_count": null,
   "id": "52b5e8e3",
   "metadata": {},
   "outputs": [],
   "source": []
  },
  {
   "cell_type": "markdown",
   "id": "2b719288",
   "metadata": {},
   "source": [
    "## NGC1097"
   ]
  },
  {
   "cell_type": "code",
   "execution_count": null,
   "id": "d8ed4449",
   "metadata": {
    "ExecuteTime": {
     "end_time": "2022-12-11T14:17:09.724611Z",
     "start_time": "2022-12-11T14:16:51.764964Z"
    }
   },
   "outputs": [],
   "source": [
    "sourcename='NGC1097'\n",
    "\n",
    "uvot_uvv=pd.read_csv('%s/%s_uvv_sum.csv'%(dataroot_dir,sourcename),sep='|',header=0)\n",
    "uvot_ubb=pd.read_csv('%s/%s_ubb_sum.csv'%(dataroot_dir,sourcename),sep='|',header=0)\n",
    "uvot_uuu=pd.read_csv('%s/%s_uuu_sum.csv'%(dataroot_dir,sourcename),sep='|',header=0)\n",
    "uvot_uw1=pd.read_csv('%s/%s_uw1_sum.csv'%(dataroot_dir,sourcename),sep='|',header=0)\n",
    "uvot_um2=pd.read_csv('%s/%s_um2_sum.csv'%(dataroot_dir,sourcename),sep='|',header=0)\n",
    "uvot_uw2=pd.read_csv('%s/%s_uw2_sum.csv'%(dataroot_dir,sourcename),sep='|',header=0)\n",
    "\n",
    "uvot_6band_data=[uvot_uvv,uvot_ubb,uvot_uuu,uvot_uw1,uvot_um2,uvot_uw2]\n",
    "uvdata_dict=dict(zip(uvot_6bands, uvot_6band_data))\n",
    "\n",
    "XRT_rate_=pd.read_csv('%s/%s_xrt_rate.txt'%(dataroot_dir,sourcename),sep='\\s+',header=0)\n",
    "XRT_rate_=XRT_rate_[XRT_rate_['rate']>0]\n",
    "XRT_rate_=drop_index(XRT_rate_)\n",
    "\n",
    "lag_Xray_=XRT_rate_[['time','rate','error']]\n",
    "lag_Xray_.columns=['t','flux','flux_err']\n",
    "lag_Xray_=lag_Xray_.sort_values('t')\n",
    "lag_Xray_=drop_index(lag_Xray_)\n",
    "\n",
    "for index,(band,uf_,c_,m_) in enumerate(zip(uvot_6bands,uvot_6band_data,colors_6band,markers_6bands)):\n",
    "    print(band)\n",
    "    lag_i=uf_[[uf_.columns[3],uf_.columns[6],uf_.columns[7]]]\n",
    "    lag_i.columns=['t','flux','flux_err']\n",
    "    lag_i=lag_i.sort_values('t')\n",
    "    lag_i=drop_index(lag_i)\n",
    "    \n",
    "    \n",
    "    labelname1=\"X-ray\"\n",
    "    labelname2=label_dict_uv[band]\n",
    "    \n",
    "    dataname1=lag_Xray_\n",
    "    dataname2=lag_i\n",
    "\n",
    "    sourcename_label=sourcename\n",
    "    #rangemin,rangemax=54790,58200\n",
    "    rangemin,rangemax=56100+1,56500-1\n",
    "    lagrangel=-20\n",
    "    lagrangeh=20\n",
    "\n",
    "    run_ccf(rootdir_ccf,sourcename_label,labelname1,labelname2,dataname1,dataname2,rangemin,rangemax,lagrangel,lagrangeh)\n",
    "    plot_ccf(rootdir_ccf,sourcename_label,labelname1,labelname2,dataname1,dataname2,rangemin,rangemax,lagrangel,lagrangeh)    \n"
   ]
  },
  {
   "cell_type": "code",
   "execution_count": null,
   "id": "5191bdd7",
   "metadata": {},
   "outputs": [],
   "source": []
  },
  {
   "cell_type": "code",
   "execution_count": null,
   "id": "d436b52f",
   "metadata": {},
   "outputs": [],
   "source": []
  },
  {
   "cell_type": "markdown",
   "id": "9b50694f",
   "metadata": {},
   "source": [
    "## sourcename='Fairall9'"
   ]
  },
  {
   "cell_type": "code",
   "execution_count": null,
   "id": "09b7d972",
   "metadata": {
    "ExecuteTime": {
     "end_time": "2022-12-09T03:40:43.295928Z",
     "start_time": "2022-12-09T03:38:59.070501Z"
    }
   },
   "outputs": [],
   "source": [
    "sourcename='Fairall9'\n",
    "\n",
    "uvot_uvv=pd.read_csv('%s/%s_uvv_sum.csv'%(dataroot_dir,sourcename),sep='|',header=0)\n",
    "uvot_ubb=pd.read_csv('%s/%s_ubb_sum.csv'%(dataroot_dir,sourcename),sep='|',header=0)\n",
    "uvot_uuu=pd.read_csv('%s/%s_uuu_sum.csv'%(dataroot_dir,sourcename),sep='|',header=0)\n",
    "uvot_uw1=pd.read_csv('%s/%s_uw1_sum.csv'%(dataroot_dir,sourcename),sep='|',header=0)\n",
    "uvot_um2=pd.read_csv('%s/%s_um2_sum.csv'%(dataroot_dir,sourcename),sep='|',header=0)\n",
    "uvot_uw2=pd.read_csv('%s/%s_uw2_sum.csv'%(dataroot_dir,sourcename),sep='|',header=0)\n",
    "\n",
    "uvot_6band_data=[uvot_uvv,uvot_ubb,uvot_uuu,uvot_uw1,uvot_um2,uvot_uw2]\n",
    "uvdata_dict=dict(zip(uvot_6bands, uvot_6band_data))\n",
    "\n",
    "XRT_rate_=pd.read_csv('%s/%s_xrt_rate.txt'%(dataroot_dir,sourcename),sep='\\s+',header=0)\n",
    "XRT_rate_=XRT_rate_[XRT_rate_['rate']>0]\n",
    "XRT_rate_=drop_index(XRT_rate_)\n",
    "\n",
    "lag_Xray_=XRT_rate_[['time','rate','error']]\n",
    "lag_Xray_.columns=['t','flux','flux_err']\n",
    "lag_Xray_=lag_Xray_.sort_values('t')\n",
    "lag_Xray_=drop_index(lag_Xray_)\n",
    "\n",
    "for index,(band,uf_,c_,m_) in enumerate(zip(uvot_6bands,uvot_6band_data,colors_6band,markers_6bands)):\n",
    "    print(band)\n",
    "    lag_i=uf_[[uf_.columns[3],uf_.columns[6],uf_.columns[7]]]\n",
    "    lag_i.columns=['t','flux','flux_err']\n",
    "    lag_i=lag_i.sort_values('t')\n",
    "    lag_i=drop_index(lag_i)\n",
    "    \n",
    "    \n",
    "    labelname1=\"X-ray\"\n",
    "    labelname2=label_dict_uv[band]\n",
    "    \n",
    "    dataname1=lag_Xray_\n",
    "    dataname2=lag_i\n",
    "\n",
    "    sourcename_label=sourcename\n",
    "    #rangemin,rangemax=54790,58200\n",
    "    rangemin,rangemax=56000+1,57200-1\n",
    "    lagrangel=-20\n",
    "    lagrangeh=20\n",
    "\n",
    "    run_ccf(rootdir_ccf,sourcename_label,labelname1,labelname2,dataname1,dataname2,rangemin,rangemax,lagrangel,lagrangeh)\n",
    "    plot_ccf(rootdir_ccf,sourcename_label,labelname1,labelname2,dataname1,dataname2,rangemin,rangemax,lagrangel,lagrangeh)    \n"
   ]
  },
  {
   "cell_type": "code",
   "execution_count": null,
   "id": "37dffbf4",
   "metadata": {
    "ExecuteTime": {
     "end_time": "2022-12-09T03:53:07.519884Z",
     "start_time": "2022-12-09T03:43:35.560239Z"
    }
   },
   "outputs": [],
   "source": [
    "sourcename='Fairall9'\n",
    "\n",
    "uvot_uvv=pd.read_csv('%s/%s_uvv_sum.csv'%(dataroot_dir,sourcename),sep='|',header=0)\n",
    "uvot_ubb=pd.read_csv('%s/%s_ubb_sum.csv'%(dataroot_dir,sourcename),sep='|',header=0)\n",
    "uvot_uuu=pd.read_csv('%s/%s_uuu_sum.csv'%(dataroot_dir,sourcename),sep='|',header=0)\n",
    "uvot_uw1=pd.read_csv('%s/%s_uw1_sum.csv'%(dataroot_dir,sourcename),sep='|',header=0)\n",
    "uvot_um2=pd.read_csv('%s/%s_um2_sum.csv'%(dataroot_dir,sourcename),sep='|',header=0)\n",
    "uvot_uw2=pd.read_csv('%s/%s_uw2_sum.csv'%(dataroot_dir,sourcename),sep='|',header=0)\n",
    "\n",
    "uvot_6band_data=[uvot_uvv,uvot_ubb,uvot_uuu,uvot_uw1,uvot_um2,uvot_uw2]\n",
    "uvdata_dict=dict(zip(uvot_6bands, uvot_6band_data))\n",
    "\n",
    "XRT_rate_=pd.read_csv('%s/%s_xrt_rate.txt'%(dataroot_dir,sourcename),sep='\\s+',header=0)\n",
    "XRT_rate_=XRT_rate_[XRT_rate_['rate']>0]\n",
    "XRT_rate_=drop_index(XRT_rate_)\n",
    "\n",
    "lag_Xray_=XRT_rate_[['time','rate','error']]\n",
    "lag_Xray_.columns=['t','flux','flux_err']\n",
    "lag_Xray_=lag_Xray_.sort_values('t')\n",
    "lag_Xray_=drop_index(lag_Xray_)\n",
    "\n",
    "for index,(band,uf_,c_,m_) in enumerate(zip(uvot_6bands,uvot_6band_data,colors_6band,markers_6bands)):\n",
    "    print(band)\n",
    "    lag_i=uf_[[uf_.columns[3],uf_.columns[6],uf_.columns[7]]]\n",
    "    lag_i.columns=['t','flux','flux_err']\n",
    "    lag_i=lag_i.sort_values('t')\n",
    "    lag_i=drop_index(lag_i)\n",
    "    \n",
    "    \n",
    "    labelname1=\"X-ray\"\n",
    "    labelname2=label_dict_uv[band]\n",
    "    \n",
    "    dataname1=lag_Xray_\n",
    "    dataname2=lag_i\n",
    "\n",
    "    sourcename_label=sourcename\n",
    "    #rangemin,rangemax=54790,58200\n",
    "    rangemin,rangemax=58000+1,59000-1\n",
    "    lagrangel=-20\n",
    "    lagrangeh=20\n",
    "\n",
    "    run_ccf(rootdir_ccf,sourcename_label,labelname1,labelname2,dataname1,dataname2,rangemin,rangemax,lagrangel,lagrangeh)\n",
    "    plot_ccf(rootdir_ccf,sourcename_label,labelname1,labelname2,dataname1,dataname2,rangemin,rangemax,lagrangel,lagrangeh)    \n"
   ]
  },
  {
   "cell_type": "code",
   "execution_count": null,
   "id": "091677c5",
   "metadata": {},
   "outputs": [],
   "source": []
  },
  {
   "cell_type": "code",
   "execution_count": null,
   "id": "4ec43f59",
   "metadata": {},
   "outputs": [],
   "source": []
  },
  {
   "cell_type": "markdown",
   "id": "06500e20",
   "metadata": {},
   "source": [
    "## sourcename='3C390.3'"
   ]
  },
  {
   "cell_type": "code",
   "execution_count": null,
   "id": "314c85e6",
   "metadata": {},
   "outputs": [],
   "source": [
    "sourcename='3C390.3'\n",
    "\n",
    "uvot_uvv=pd.read_csv('%s/%s_uvv_sum.csv'%(dataroot_dir,sourcename),sep='|',header=0)\n",
    "uvot_ubb=pd.read_csv('%s/%s_ubb_sum.csv'%(dataroot_dir,sourcename),sep='|',header=0)\n",
    "uvot_uuu=pd.read_csv('%s/%s_uuu_sum.csv'%(dataroot_dir,sourcename),sep='|',header=0)\n",
    "uvot_uw1=pd.read_csv('%s/%s_uw1_sum.csv'%(dataroot_dir,sourcename),sep='|',header=0)\n",
    "uvot_um2=pd.read_csv('%s/%s_um2_sum.csv'%(dataroot_dir,sourcename),sep='|',header=0)\n",
    "uvot_uw2=pd.read_csv('%s/%s_uw2_sum.csv'%(dataroot_dir,sourcename),sep='|',header=0)\n",
    "\n",
    "uvot_6band_data=[uvot_uvv,uvot_ubb,uvot_uuu,uvot_uw1,uvot_um2,uvot_uw2]\n",
    "uvdata_dict=dict(zip(uvot_6bands, uvot_6band_data))\n",
    "\n",
    "XRT_rate_=pd.read_csv('%s/%s_xrt_rate.txt'%(dataroot_dir,sourcename),sep='\\s+',header=0)\n",
    "XRT_rate_=XRT_rate_[XRT_rate_['rate']>0]\n",
    "XRT_rate_=drop_index(XRT_rate_)\n",
    "\n",
    "lag_Xray_=XRT_rate_[['time','rate','error']]\n",
    "lag_Xray_.columns=['t','flux','flux_err']\n",
    "lag_Xray_=lag_Xray_.sort_values('t')\n",
    "lag_Xray_=drop_index(lag_Xray_)\n",
    "\n",
    "for index,(band,uf_,c_,m_) in enumerate(zip(uvot_6bands,uvot_6band_data,colors_6band,markers_6bands)):\n",
    "    print(band)\n",
    "    lag_i=uf_[[uf_.columns[3],uf_.columns[6],uf_.columns[7]]]\n",
    "    lag_i.columns=['t','flux','flux_err']\n",
    "    lag_i=lag_i.sort_values('t')\n",
    "    lag_i=drop_index(lag_i)\n",
    "    \n",
    "    \n",
    "    labelname1=\"X-ray\"\n",
    "    labelname2=label_dict_uv[band]\n",
    "    \n",
    "    dataname1=lag_Xray_\n",
    "    dataname2=lag_i\n",
    "\n",
    "    sourcename_label=sourcename\n",
    "    #rangemin,rangemax=54790,58200\n",
    "    rangemin,rangemax=57400+1,58000-1\n",
    "    lagrangel=-20\n",
    "    lagrangeh=20\n",
    "\n",
    "    run_ccf(rootdir_ccf,sourcename_label,labelname1,labelname2,dataname1,dataname2,rangemin,rangemax,lagrangel,lagrangeh)\n",
    "    plot_ccf(rootdir_ccf,sourcename_label,labelname1,labelname2,dataname1,dataname2,rangemin,rangemax,lagrangel,lagrangeh)    \n"
   ]
  },
  {
   "cell_type": "code",
   "execution_count": null,
   "id": "651d5c11",
   "metadata": {},
   "outputs": [],
   "source": []
  },
  {
   "cell_type": "markdown",
   "id": "e3ed8269",
   "metadata": {},
   "source": [
    "## NGC2617"
   ]
  },
  {
   "cell_type": "markdown",
   "id": "009f11d5",
   "metadata": {},
   "source": [
    "### Xray"
   ]
  },
  {
   "cell_type": "code",
   "execution_count": null,
   "id": "23371e44",
   "metadata": {
    "ExecuteTime": {
     "end_time": "2022-12-22T02:56:33.615958Z",
     "start_time": "2022-12-22T02:53:30.905720Z"
    }
   },
   "outputs": [],
   "source": [
    "sourcename='NGC2617'\n",
    "\n",
    "uvot_uvv=pd.read_csv('%s/%s_uvv_sum.csv'%(dataroot_dir,sourcename),sep='|',header=0)\n",
    "uvot_ubb=pd.read_csv('%s/%s_ubb_sum.csv'%(dataroot_dir,sourcename),sep='|',header=0)\n",
    "uvot_uuu=pd.read_csv('%s/%s_uuu_sum.csv'%(dataroot_dir,sourcename),sep='|',header=0)\n",
    "uvot_uw1=pd.read_csv('%s/%s_uw1_sum.csv'%(dataroot_dir,sourcename),sep='|',header=0)\n",
    "uvot_um2=pd.read_csv('%s/%s_um2_sum.csv'%(dataroot_dir,sourcename),sep='|',header=0)\n",
    "uvot_uw2=pd.read_csv('%s/%s_uw2_sum.csv'%(dataroot_dir,sourcename),sep='|',header=0)\n",
    "\n",
    "uvot_6band_data=[uvot_uvv,uvot_ubb,uvot_uuu,uvot_uw1,uvot_um2,uvot_uw2]\n",
    "uvdata_dict=dict(zip(uvot_6bands, uvot_6band_data))\n",
    "\n",
    "XRT_rate_=pd.read_csv('%s/%s_xrt_rate.txt'%(dataroot_dir,sourcename),sep='\\s+',header=0)\n",
    "XRT_rate_=XRT_rate_[XRT_rate_['rate']>0]\n",
    "XRT_rate_=drop_index(XRT_rate_)\n",
    "\n",
    "lag_Xray_=XRT_rate_[['time','rate','error']]\n",
    "lag_Xray_.columns=['t','flux','flux_err']\n",
    "lag_Xray_=lag_Xray_.sort_values('t')\n",
    "lag_Xray_=drop_index(lag_Xray_)\n",
    "\n",
    "for index,(band,uf_,c_,m_) in enumerate(zip(uvot_6bands,uvot_6band_data,colors_6band,markers_6bands)):\n",
    "    print(band)\n",
    "    lag_i=uf_[[uf_.columns[3],uf_.columns[6],uf_.columns[7]]]\n",
    "    lag_i.columns=['t','flux','flux_err']\n",
    "    lag_i=lag_i.sort_values('t')\n",
    "    lag_i=drop_index(lag_i)\n",
    "    \n",
    "    \n",
    "    labelname1=\"X-ray\"\n",
    "    labelname2=label_dict_uv[band]\n",
    "    \n",
    "    dataname1=lag_Xray_\n",
    "    dataname2=lag_i\n",
    "\n",
    "    sourcename_label=sourcename\n",
    "    #rangemin,rangemax=54790,58200\n",
    "    rangemin,rangemax=56000+1,57000-1\n",
    "    lagrangel=-20\n",
    "    lagrangeh=20\n",
    "\n",
    "    run_ccf(rootdir_ccf_xray,sourcename_label,labelname1,labelname2,dataname1,dataname2,rangemin,rangemax,lagrangel,lagrangeh)\n",
    "    plot_ccf(rootdir_ccf_xray,sourcename_label,labelname1,labelname2,dataname1,dataname2,rangemin,rangemax,lagrangel,lagrangeh)    \n"
   ]
  },
  {
   "cell_type": "code",
   "execution_count": null,
   "id": "1f64360e",
   "metadata": {
    "ExecuteTime": {
     "end_time": "2022-12-22T06:49:39.812147Z",
     "start_time": "2022-12-22T06:48:32.544571Z"
    }
   },
   "outputs": [],
   "source": [
    "sourcename='NGC2617'\n",
    "\n",
    "uvot_uvv=pd.read_csv('%s/%s_uvv_sum.csv'%(dataroot_dir,sourcename),sep='|',header=0)\n",
    "uvot_ubb=pd.read_csv('%s/%s_ubb_sum.csv'%(dataroot_dir,sourcename),sep='|',header=0)\n",
    "uvot_uuu=pd.read_csv('%s/%s_uuu_sum.csv'%(dataroot_dir,sourcename),sep='|',header=0)\n",
    "uvot_uw1=pd.read_csv('%s/%s_uw1_sum.csv'%(dataroot_dir,sourcename),sep='|',header=0)\n",
    "uvot_um2=pd.read_csv('%s/%s_um2_sum.csv'%(dataroot_dir,sourcename),sep='|',header=0)\n",
    "uvot_uw2=pd.read_csv('%s/%s_uw2_sum.csv'%(dataroot_dir,sourcename),sep='|',header=0)\n",
    "\n",
    "uvot_6band_data=[uvot_uvv,uvot_ubb,uvot_uuu,uvot_uw1,uvot_um2,uvot_uw2]\n",
    "uvdata_dict=dict(zip(uvot_6bands, uvot_6band_data))\n",
    "\n",
    "XRT_rate_=pd.read_csv('%s/%s_xrt_rate.txt'%(dataroot_dir,sourcename),sep='\\s+',header=0)\n",
    "XRT_rate_=XRT_rate_[XRT_rate_['rate']>0]\n",
    "XRT_rate_=drop_index(XRT_rate_)\n",
    "\n",
    "lag_Xray_=XRT_rate_[['time','rate','error']]\n",
    "lag_Xray_.columns=['t','flux','flux_err']\n",
    "lag_Xray_=lag_Xray_.sort_values('t')\n",
    "lag_Xray_=drop_index(lag_Xray_)\n",
    "\n",
    "for index,(band,uf_,c_,m_) in enumerate(zip(uvot_6bands,uvot_6band_data,colors_6band,markers_6bands)):\n",
    "    print(band)\n",
    "    lag_i=uf_[[uf_.columns[3],uf_.columns[6],uf_.columns[7]]]\n",
    "    lag_i.columns=['t','flux','flux_err']\n",
    "    lag_i=lag_i.sort_values('t')\n",
    "    lag_i=drop_index(lag_i)\n",
    "    \n",
    "    \n",
    "    labelname1=\"X-ray\"\n",
    "    labelname2=label_dict_uv[band]\n",
    "    \n",
    "    dataname1=lag_Xray_\n",
    "    dataname2=lag_i\n",
    "\n",
    "    sourcename_label=sourcename\n",
    "    #rangemin,rangemax=54790,58200\n",
    "    rangemin,rangemax=57000+1,59000-1\n",
    "    lagrangel=-20\n",
    "    lagrangeh=20\n",
    "\n",
    "    run_ccf(rootdir_ccf_xray,sourcename_label,labelname1,labelname2,dataname1,dataname2,rangemin,rangemax,lagrangel,lagrangeh)\n",
    "    plot_ccf(rootdir_ccf_xray,sourcename_label,labelname1,labelname2,dataname1,dataname2,rangemin,rangemax,lagrangel,lagrangeh)    \n"
   ]
  },
  {
   "cell_type": "markdown",
   "id": "81f6945b",
   "metadata": {},
   "source": [
    "### uvw2"
   ]
  },
  {
   "cell_type": "code",
   "execution_count": null,
   "id": "220412cb",
   "metadata": {
    "ExecuteTime": {
     "end_time": "2022-12-20T07:18:02.332840Z",
     "start_time": "2022-12-20T07:15:53.592982Z"
    }
   },
   "outputs": [],
   "source": [
    "sourcename='NGC2617'\n",
    "uvot_uvv=pd.read_csv('%s/%s_uvv_sum.csv'%(dataroot_dir,sourcename),sep='|',header=0)\n",
    "uvot_ubb=pd.read_csv('%s/%s_ubb_sum.csv'%(dataroot_dir,sourcename),sep='|',header=0)\n",
    "uvot_uuu=pd.read_csv('%s/%s_uuu_sum.csv'%(dataroot_dir,sourcename),sep='|',header=0)\n",
    "uvot_uw1=pd.read_csv('%s/%s_uw1_sum.csv'%(dataroot_dir,sourcename),sep='|',header=0)\n",
    "uvot_um2=pd.read_csv('%s/%s_um2_sum.csv'%(dataroot_dir,sourcename),sep='|',header=0)\n",
    "uvot_uw2=pd.read_csv('%s/%s_uw2_sum.csv'%(dataroot_dir,sourcename),sep='|',header=0)\n",
    "\n",
    "uvot_6band_data=[uvot_uvv,uvot_ubb,uvot_uuu,uvot_uw1,uvot_um2,uvot_uw2]\n",
    "uvdata_dict=dict(zip(uvot_6bands, uvot_6band_data))\n",
    "\n",
    "XRT_rate_=pd.read_csv('%s/%s_xrt_rate.txt'%(dataroot_dir,sourcename),sep='\\s+',header=0)\n",
    "XRT_rate_=XRT_rate_[XRT_rate_['rate']>0]\n",
    "XRT_rate_=drop_index(XRT_rate_)\n",
    "\n",
    "lag_Xray_=XRT_rate_[['time','rate','error']]\n",
    "lag_Xray_.columns=['t','flux','flux_err']\n",
    "lag_Xray_=lag_Xray_.sort_values('t')\n",
    "lag_Xray_=drop_index(lag_Xray_)\n",
    "\n",
    "lag_uvw2=uvot_uw2[[uvot_uw2.columns[3],uvot_uw2.columns[6],uvot_uw2.columns[7]]]\n",
    "lag_uvw2.columns=['t','flux','flux_err']\n",
    "lag_uvw2=lag_uvw2.sort_values('t')\n",
    "lag_uvw2=drop_index(lag_uvw2)\n",
    "\n",
    "for index,(band,uf_,c_,m_) in enumerate(zip(uvot_6bands,uvot_6band_data,colors_6band,markers_6bands)):\n",
    "    \n",
    "    if band =='uw2':   \n",
    "        labelname1='UVW2'\n",
    "        labelname2=\"X-ray\"#label_dict_uv[band]    \n",
    "        dataname1=lag_uvw2\n",
    "        dataname2=lag_Xray_\n",
    "                   \n",
    "    else:\n",
    "        print(band)\n",
    "        lag_i=uf_[[uf_.columns[3],uf_.columns[6],uf_.columns[7]]]\n",
    "        lag_i.columns=['t','flux','flux_err']\n",
    "        lag_i=lag_i.sort_values('t')\n",
    "        lag_i=drop_index(lag_i)\n",
    "        \n",
    "        labelname1='UVW2'\n",
    "        labelname2=label_dict_uv[band]\n",
    "        dataname1=lag_uvw2\n",
    "        dataname2=lag_i\n",
    "        \n",
    "    sourcename_label=sourcename\n",
    "    #rangemin,rangemax=54790,58200\n",
    "    rangemin,rangemax=56000+1,57000-1\n",
    "    lagrangel=-20\n",
    "    lagrangeh=20\n",
    "\n",
    "    run_ccf(rootdir_ccf,sourcename_label,labelname1,labelname2,dataname1,dataname2,rangemin,rangemax,lagrangel,lagrangeh)\n",
    "    plot_ccf(rootdir_ccf,sourcename_label,labelname1,labelname2,dataname1,dataname2,rangemin,rangemax,lagrangel,lagrangeh)    \n"
   ]
  },
  {
   "cell_type": "code",
   "execution_count": null,
   "id": "14e17da2",
   "metadata": {},
   "outputs": [],
   "source": []
  },
  {
   "cell_type": "code",
   "execution_count": null,
   "id": "f24ccb4e",
   "metadata": {},
   "outputs": [],
   "source": []
  },
  {
   "cell_type": "code",
   "execution_count": null,
   "id": "ddbb64a1",
   "metadata": {},
   "outputs": [],
   "source": []
  },
  {
   "cell_type": "code",
   "execution_count": null,
   "id": "7aef6dca",
   "metadata": {},
   "outputs": [],
   "source": []
  },
  {
   "cell_type": "code",
   "execution_count": null,
   "id": "5aa929f2",
   "metadata": {},
   "outputs": [],
   "source": []
  },
  {
   "cell_type": "markdown",
   "id": "641dde11",
   "metadata": {},
   "source": [
    "## NGC3516"
   ]
  },
  {
   "cell_type": "code",
   "execution_count": null,
   "id": "3922897a",
   "metadata": {
    "ExecuteTime": {
     "end_time": "2022-12-09T04:27:11.580429Z",
     "start_time": "2022-12-09T04:26:53.179121Z"
    }
   },
   "outputs": [],
   "source": [
    "sourcename='NGC3516'\n",
    "\n",
    "uvot_uvv=pd.read_csv('%s/%s_uvv_sum.csv'%(dataroot_dir,sourcename),sep='|',header=0)\n",
    "uvot_ubb=pd.read_csv('%s/%s_ubb_sum.csv'%(dataroot_dir,sourcename),sep='|',header=0)\n",
    "uvot_uuu=pd.read_csv('%s/%s_uuu_sum.csv'%(dataroot_dir,sourcename),sep='|',header=0)\n",
    "uvot_uw1=pd.read_csv('%s/%s_uw1_sum.csv'%(dataroot_dir,sourcename),sep='|',header=0)\n",
    "uvot_um2=pd.read_csv('%s/%s_um2_sum.csv'%(dataroot_dir,sourcename),sep='|',header=0)\n",
    "uvot_uw2=pd.read_csv('%s/%s_uw2_sum.csv'%(dataroot_dir,sourcename),sep='|',header=0)\n",
    "\n",
    "uvot_6band_data=[uvot_uvv,uvot_ubb,uvot_uuu,uvot_uw1,uvot_um2,uvot_uw2]\n",
    "uvdata_dict=dict(zip(uvot_6bands, uvot_6band_data))\n",
    "\n",
    "XRT_rate_=pd.read_csv('%s/%s_xrt_rate.txt'%(dataroot_dir,sourcename),sep='\\s+',header=0)\n",
    "XRT_rate_=XRT_rate_[XRT_rate_['rate']>0]\n",
    "XRT_rate_=drop_index(XRT_rate_)\n",
    "\n",
    "lag_Xray_=XRT_rate_[['time','rate','error']]\n",
    "lag_Xray_.columns=['t','flux','flux_err']\n",
    "lag_Xray_=lag_Xray_.sort_values('t')\n",
    "lag_Xray_=drop_index(lag_Xray_)\n",
    "\n",
    "for index,(band,uf_,c_,m_) in enumerate(zip(uvot_6bands,uvot_6band_data,colors_6band,markers_6bands)):\n",
    "    print(band)\n",
    "    lag_i=uf_[[uf_.columns[3],uf_.columns[6],uf_.columns[7]]]\n",
    "    lag_i.columns=['t','flux','flux_err']\n",
    "    lag_i=lag_i.sort_values('t')\n",
    "    lag_i=drop_index(lag_i)\n",
    "    \n",
    "    \n",
    "    labelname1=\"X-ray\"\n",
    "    labelname2=label_dict_uv[band]\n",
    "    \n",
    "    dataname1=lag_Xray_\n",
    "    dataname2=lag_i\n",
    "\n",
    "    sourcename_label=sourcename\n",
    "    #rangemin,rangemax=54790,58200\n",
    "    rangemin,rangemax=56000+1,56500-1\n",
    "    lagrangel=-20\n",
    "    lagrangeh=20\n",
    "\n",
    "    run_ccf(rootdir_ccf,sourcename_label,labelname1,labelname2,dataname1,dataname2,rangemin,rangemax,lagrangel,lagrangeh)\n",
    "    plot_ccf(rootdir_ccf,sourcename_label,labelname1,labelname2,dataname1,dataname2,rangemin,rangemax,lagrangel,lagrangeh)    \n"
   ]
  },
  {
   "cell_type": "markdown",
   "id": "f777847d",
   "metadata": {},
   "source": [
    "### uvw2"
   ]
  },
  {
   "cell_type": "code",
   "execution_count": null,
   "id": "ddc3bd4f",
   "metadata": {
    "ExecuteTime": {
     "end_time": "2022-12-20T07:11:52.080103Z",
     "start_time": "2022-12-20T07:11:29.359583Z"
    }
   },
   "outputs": [],
   "source": [
    "sourcename='NGC3516'\n",
    "\n",
    "uvot_uvv=pd.read_csv('%s/%s_uvv_sum.csv'%(dataroot_dir,sourcename),sep='|',header=0)\n",
    "uvot_ubb=pd.read_csv('%s/%s_ubb_sum.csv'%(dataroot_dir,sourcename),sep='|',header=0)\n",
    "uvot_uuu=pd.read_csv('%s/%s_uuu_sum.csv'%(dataroot_dir,sourcename),sep='|',header=0)\n",
    "uvot_uw1=pd.read_csv('%s/%s_uw1_sum.csv'%(dataroot_dir,sourcename),sep='|',header=0)\n",
    "uvot_um2=pd.read_csv('%s/%s_um2_sum.csv'%(dataroot_dir,sourcename),sep='|',header=0)\n",
    "uvot_uw2=pd.read_csv('%s/%s_uw2_sum.csv'%(dataroot_dir,sourcename),sep='|',header=0)\n",
    "\n",
    "uvot_6band_data=[uvot_uvv,uvot_ubb,uvot_uuu,uvot_uw1,uvot_um2,uvot_uw2]\n",
    "uvdata_dict=dict(zip(uvot_6bands, uvot_6band_data))\n",
    "\n",
    "XRT_rate_=pd.read_csv('%s/%s_xrt_rate.txt'%(dataroot_dir,sourcename),sep='\\s+',header=0)\n",
    "XRT_rate_=XRT_rate_[XRT_rate_['rate']>0]\n",
    "XRT_rate_=drop_index(XRT_rate_)\n",
    "\n",
    "lag_Xray_=XRT_rate_[['time','rate','error']]\n",
    "lag_Xray_.columns=['t','flux','flux_err']\n",
    "lag_Xray_=lag_Xray_.sort_values('t')\n",
    "lag_Xray_=drop_index(lag_Xray_)\n",
    "\n",
    "lag_uvw2=uvot_uw2[[uvot_uw2.columns[3],uvot_uw2.columns[6],uvot_uw2.columns[7]]]\n",
    "lag_uvw2.columns=['t','flux','flux_err']\n",
    "lag_uvw2=lag_uvw2.sort_values('t')\n",
    "lag_uvw2=drop_index(lag_uvw2)\n",
    "\n",
    "for index,(band,uf_,c_,m_) in enumerate(zip(uvot_6bands,uvot_6band_data,colors_6band,markers_6bands)):\n",
    "    \n",
    "    if band =='uw2':   \n",
    "        labelname1='UVW2'\n",
    "        labelname2=\"X-ray\"#label_dict_uv[band]    \n",
    "        dataname1=lag_uvw2\n",
    "        dataname2=lag_Xray_\n",
    "                   \n",
    "    else:\n",
    "        print(band)\n",
    "        lag_i=uf_[[uf_.columns[3],uf_.columns[6],uf_.columns[7]]]\n",
    "        lag_i.columns=['t','flux','flux_err']\n",
    "        lag_i=lag_i.sort_values('t')\n",
    "        lag_i=drop_index(lag_i)\n",
    "        \n",
    "        labelname1='UVW2'\n",
    "        labelname2=label_dict_uv[band]\n",
    "        dataname1=lag_uvw2\n",
    "        dataname2=lag_i\n",
    "        \n",
    "    sourcename_label=sourcename\n",
    "    #rangemin,rangemax=54790,58200\n",
    "    rangemin,rangemax=56000+1,56500-1\n",
    "    lagrangel=-20\n",
    "    lagrangeh=20\n",
    "\n",
    "    run_ccf(rootdir_ccf,sourcename_label,labelname1,labelname2,dataname1,dataname2,rangemin,rangemax,lagrangel,lagrangeh)\n",
    "    plot_ccf(rootdir_ccf,sourcename_label,labelname1,labelname2,dataname1,dataname2,rangemin,rangemax,lagrangel,lagrangeh)    \n"
   ]
  },
  {
   "cell_type": "code",
   "execution_count": null,
   "id": "19120b55",
   "metadata": {},
   "outputs": [],
   "source": []
  },
  {
   "cell_type": "code",
   "execution_count": null,
   "id": "de990e9a",
   "metadata": {},
   "outputs": [],
   "source": []
  },
  {
   "cell_type": "markdown",
   "id": "675e4bde",
   "metadata": {},
   "source": [
    "## NGC1566"
   ]
  },
  {
   "cell_type": "markdown",
   "id": "07d84068",
   "metadata": {},
   "source": [
    "### Xray"
   ]
  },
  {
   "cell_type": "code",
   "execution_count": null,
   "id": "2a13986e",
   "metadata": {
    "ExecuteTime": {
     "end_time": "2022-12-23T05:48:16.511566Z",
     "start_time": "2022-12-23T05:44:31.044499Z"
    }
   },
   "outputs": [],
   "source": [
    "sourcename='NGC1566'\n",
    "\n",
    "uvot_uvv=pd.read_csv('%s/%s_uvv_sum.csv'%(dataroot_dir,sourcename),sep='|',header=0)\n",
    "uvot_ubb=pd.read_csv('%s/%s_ubb_sum.csv'%(dataroot_dir,sourcename),sep='|',header=0)\n",
    "uvot_uuu=pd.read_csv('%s/%s_uuu_sum.csv'%(dataroot_dir,sourcename),sep='|',header=0)\n",
    "uvot_uw1=pd.read_csv('%s/%s_uw1_sum.csv'%(dataroot_dir,sourcename),sep='|',header=0)\n",
    "uvot_um2=pd.read_csv('%s/%s_um2_sum.csv'%(dataroot_dir,sourcename),sep='|',header=0)\n",
    "uvot_uw2=pd.read_csv('%s/%s_uw2_sum.csv'%(dataroot_dir,sourcename),sep='|',header=0)\n",
    "\n",
    "uvot_6band_data=[uvot_uvv,uvot_ubb,uvot_uuu,uvot_uw1,uvot_um2,uvot_uw2]\n",
    "uvdata_dict=dict(zip(uvot_6bands, uvot_6band_data))\n",
    "\n",
    "XRT_rate_=pd.read_csv('%s/%s_xrt_rate.txt'%(dataroot_dir,sourcename),sep='\\s+',header=0)\n",
    "XRT_rate_=XRT_rate_[XRT_rate_['rate']>0]\n",
    "XRT_rate_=drop_index(XRT_rate_)\n",
    "\n",
    "lag_Xray_=XRT_rate_[['time','rate','error']]\n",
    "lag_Xray_.columns=['t','flux','flux_err']\n",
    "lag_Xray_=lag_Xray_.sort_values('t')\n",
    "lag_Xray_=drop_index(lag_Xray_)\n",
    "\n",
    "for index,(band,uf_,c_,m_) in enumerate(zip(uvot_6bands,uvot_6band_data,colors_6band,markers_6bands)):\n",
    "    print(band)\n",
    "    lag_i=uf_[[uf_.columns[3],uf_.columns[6],uf_.columns[7]]]\n",
    "    lag_i.columns=['t','flux','flux_err']\n",
    "    lag_i=lag_i.sort_values('t')\n",
    "    lag_i=drop_index(lag_i)\n",
    "    \n",
    "    \n",
    "    labelname1=\"X-ray\"\n",
    "    labelname2=label_dict_uv[band]\n",
    "    \n",
    "    dataname1=lag_Xray_\n",
    "    dataname2=lag_i\n",
    "\n",
    "    sourcename_label=sourcename\n",
    "    #rangemin,rangemax=54790,58200\n",
    "    rangemin,rangemax=58000+1,59000-1\n",
    "    lagrangel=-20\n",
    "    lagrangeh=20\n",
    "\n",
    "    run_ccf(rootdir_ccf_xray,sourcename_label,labelname1,labelname2,dataname1,dataname2,rangemin,rangemax,lagrangel,lagrangeh)\n",
    "    plot_ccf(rootdir_ccf_xray,sourcename_label,labelname1,labelname2,dataname1,dataname2,rangemin,rangemax,lagrangel,lagrangeh)    \n"
   ]
  },
  {
   "cell_type": "code",
   "execution_count": null,
   "id": "b09dea07",
   "metadata": {},
   "outputs": [],
   "source": []
  },
  {
   "cell_type": "markdown",
   "id": "4706aa6d",
   "metadata": {},
   "source": [
    "### uvw2"
   ]
  },
  {
   "cell_type": "code",
   "execution_count": null,
   "id": "d7964e4d",
   "metadata": {
    "ExecuteTime": {
     "end_time": "2022-12-20T07:33:32.162286Z",
     "start_time": "2022-12-20T07:30:53.043964Z"
    }
   },
   "outputs": [],
   "source": [
    "sourcename='NGC1566'\n",
    "\n",
    "uvot_uvv=pd.read_csv('%s/%s_uvv_sum.csv'%(dataroot_dir,sourcename),sep='|',header=0)\n",
    "uvot_ubb=pd.read_csv('%s/%s_ubb_sum.csv'%(dataroot_dir,sourcename),sep='|',header=0)\n",
    "uvot_uuu=pd.read_csv('%s/%s_uuu_sum.csv'%(dataroot_dir,sourcename),sep='|',header=0)\n",
    "uvot_uw1=pd.read_csv('%s/%s_uw1_sum.csv'%(dataroot_dir,sourcename),sep='|',header=0)\n",
    "uvot_um2=pd.read_csv('%s/%s_um2_sum.csv'%(dataroot_dir,sourcename),sep='|',header=0)\n",
    "uvot_uw2=pd.read_csv('%s/%s_uw2_sum.csv'%(dataroot_dir,sourcename),sep='|',header=0)\n",
    "\n",
    "uvot_6band_data=[uvot_uvv,uvot_ubb,uvot_uuu,uvot_uw1,uvot_um2,uvot_uw2]\n",
    "uvdata_dict=dict(zip(uvot_6bands, uvot_6band_data))\n",
    "\n",
    "XRT_rate_=pd.read_csv('%s/%s_xrt_rate.txt'%(dataroot_dir,sourcename),sep='\\s+',header=0)\n",
    "XRT_rate_=XRT_rate_[XRT_rate_['rate']>0]\n",
    "XRT_rate_=drop_index(XRT_rate_)\n",
    "\n",
    "lag_Xray_=XRT_rate_[['time','rate','error']]\n",
    "lag_Xray_.columns=['t','flux','flux_err']\n",
    "lag_Xray_=lag_Xray_.sort_values('t')\n",
    "lag_Xray_=drop_index(lag_Xray_)\n",
    "\n",
    "lag_uvw2=uvot_uw2[[uvot_uw2.columns[3],uvot_uw2.columns[6],uvot_uw2.columns[7]]]\n",
    "lag_uvw2.columns=['t','flux','flux_err']\n",
    "lag_uvw2=lag_uvw2.sort_values('t')\n",
    "lag_uvw2=drop_index(lag_uvw2)\n",
    "\n",
    "for index,(band,uf_,c_,m_) in enumerate(zip(uvot_6bands,uvot_6band_data,colors_6band,markers_6bands)):\n",
    "    \n",
    "    if band =='uw2':   \n",
    "        labelname1='UVW2'\n",
    "        labelname2=\"X-ray\"#label_dict_uv[band]    \n",
    "        dataname1=lag_uvw2\n",
    "        dataname2=lag_Xray_\n",
    "                   \n",
    "    else:\n",
    "        print(band)\n",
    "        lag_i=uf_[[uf_.columns[3],uf_.columns[6],uf_.columns[7]]]\n",
    "        lag_i.columns=['t','flux','flux_err']\n",
    "        lag_i=lag_i.sort_values('t')\n",
    "        lag_i=drop_index(lag_i)\n",
    "        \n",
    "        labelname1='UVW2'\n",
    "        labelname2=label_dict_uv[band]\n",
    "        dataname1=lag_uvw2\n",
    "        dataname2=lag_i\n",
    "        \n",
    "    sourcename_label=sourcename\n",
    "    #rangemin,rangemax=54790,58200\n",
    "    rangemin,rangemax=58400+1,59000-1\n",
    "    lagrangel=-20\n",
    "    lagrangeh=20\n",
    "\n",
    "    run_ccf(rootdir_ccf,sourcename_label,labelname1,labelname2,dataname1,dataname2,rangemin,rangemax,lagrangel,lagrangeh)\n",
    "    plot_ccf(rootdir_ccf,sourcename_label,labelname1,labelname2,dataname1,dataname2,rangemin,rangemax,lagrangel,lagrangeh)    \n"
   ]
  },
  {
   "cell_type": "code",
   "execution_count": null,
   "id": "af5f1436",
   "metadata": {},
   "outputs": [],
   "source": []
  },
  {
   "cell_type": "code",
   "execution_count": null,
   "id": "472c2c30",
   "metadata": {},
   "outputs": [],
   "source": []
  },
  {
   "cell_type": "code",
   "execution_count": null,
   "id": "20253e09",
   "metadata": {},
   "outputs": [],
   "source": []
  },
  {
   "cell_type": "code",
   "execution_count": null,
   "id": "d70dfbb2",
   "metadata": {},
   "outputs": [],
   "source": []
  },
  {
   "cell_type": "markdown",
   "id": "98905aa6",
   "metadata": {},
   "source": [
    "## NGC3227"
   ]
  },
  {
   "cell_type": "code",
   "execution_count": null,
   "id": "64474493",
   "metadata": {
    "ExecuteTime": {
     "end_time": "2022-12-09T05:02:17.019352Z",
     "start_time": "2022-12-09T05:01:21.245097Z"
    }
   },
   "outputs": [],
   "source": [
    "sourcename='NGC3227'\n",
    "\n",
    "uvot_uvv=pd.read_csv('%s/%s_uvv_sum.csv'%(dataroot_dir,sourcename),sep='|',header=0)\n",
    "uvot_ubb=pd.read_csv('%s/%s_ubb_sum.csv'%(dataroot_dir,sourcename),sep='|',header=0)\n",
    "uvot_uuu=pd.read_csv('%s/%s_uuu_sum.csv'%(dataroot_dir,sourcename),sep='|',header=0)\n",
    "uvot_uw1=pd.read_csv('%s/%s_uw1_sum.csv'%(dataroot_dir,sourcename),sep='|',header=0)\n",
    "uvot_um2=pd.read_csv('%s/%s_um2_sum.csv'%(dataroot_dir,sourcename),sep='|',header=0)\n",
    "uvot_uw2=pd.read_csv('%s/%s_uw2_sum.csv'%(dataroot_dir,sourcename),sep='|',header=0)\n",
    "\n",
    "uvot_6band_data=[uvot_uvv,uvot_ubb,uvot_uuu,uvot_uw1,uvot_um2,uvot_uw2]\n",
    "uvdata_dict=dict(zip(uvot_6bands, uvot_6band_data))\n",
    "\n",
    "XRT_rate_=pd.read_csv('%s/%s_xrt_rate.txt'%(dataroot_dir,sourcename),sep='\\s+',header=0)\n",
    "XRT_rate_=XRT_rate_[XRT_rate_['rate']>0]\n",
    "XRT_rate_=drop_index(XRT_rate_)\n",
    "\n",
    "lag_Xray_=XRT_rate_[['time','rate','error']]\n",
    "lag_Xray_.columns=['t','flux','flux_err']\n",
    "lag_Xray_=lag_Xray_.sort_values('t')\n",
    "lag_Xray_=drop_index(lag_Xray_)\n",
    "\n",
    "for index,(band,uf_,c_,m_) in enumerate(zip(uvot_6bands,uvot_6band_data,colors_6band,markers_6bands)):\n",
    "    print(band)\n",
    "    lag_i=uf_[[uf_.columns[3],uf_.columns[6],uf_.columns[7]]]\n",
    "    lag_i.columns=['t','flux','flux_err']\n",
    "    lag_i=lag_i.sort_values('t')\n",
    "    lag_i=drop_index(lag_i)\n",
    "    \n",
    "    \n",
    "    labelname1=\"X-ray\"\n",
    "    labelname2=label_dict_uv[band]\n",
    "    \n",
    "    dataname1=lag_Xray_\n",
    "    dataname2=lag_i\n",
    "\n",
    "    sourcename_label=sourcename\n",
    "    #rangemin,rangemax=54790,58200\n",
    "    rangemin,rangemax=57100+1,57500-1\n",
    "    lagrangel=-20\n",
    "    lagrangeh=20\n",
    "\n",
    "    run_ccf(rootdir_ccf,sourcename_label,labelname1,labelname2,dataname1,dataname2,rangemin,rangemax,lagrangel,lagrangeh)\n",
    "    plot_ccf(rootdir_ccf,sourcename_label,labelname1,labelname2,dataname1,dataname2,rangemin,rangemax,lagrangel,lagrangeh)    \n"
   ]
  },
  {
   "cell_type": "markdown",
   "id": "f49f24d2",
   "metadata": {},
   "source": [
    "## NGC7603"
   ]
  },
  {
   "cell_type": "code",
   "execution_count": null,
   "id": "3dc2a513",
   "metadata": {
    "ExecuteTime": {
     "end_time": "2022-12-09T05:28:32.115790Z",
     "start_time": "2022-12-09T05:28:14.602253Z"
    }
   },
   "outputs": [],
   "source": [
    "sourcename='NGC7603'\n",
    "\n",
    "uvot_uvv=pd.read_csv('%s/%s_uvv_sum.csv'%(dataroot_dir,sourcename),sep='|',header=0)\n",
    "uvot_ubb=pd.read_csv('%s/%s_ubb_sum.csv'%(dataroot_dir,sourcename),sep='|',header=0)\n",
    "uvot_uuu=pd.read_csv('%s/%s_uuu_sum.csv'%(dataroot_dir,sourcename),sep='|',header=0)\n",
    "uvot_uw1=pd.read_csv('%s/%s_uw1_sum.csv'%(dataroot_dir,sourcename),sep='|',header=0)\n",
    "uvot_um2=pd.read_csv('%s/%s_um2_sum.csv'%(dataroot_dir,sourcename),sep='|',header=0)\n",
    "uvot_uw2=pd.read_csv('%s/%s_uw2_sum.csv'%(dataroot_dir,sourcename),sep='|',header=0)\n",
    "\n",
    "uvot_6band_data=[uvot_uvv,uvot_ubb,uvot_uuu,uvot_uw1,uvot_um2,uvot_uw2]\n",
    "uvdata_dict=dict(zip(uvot_6bands, uvot_6band_data))\n",
    "\n",
    "XRT_rate_=pd.read_csv('%s/%s_xrt_rate.txt'%(dataroot_dir,sourcename),sep='\\s+',header=0)\n",
    "XRT_rate_=XRT_rate_[XRT_rate_['rate']>0]\n",
    "XRT_rate_=drop_index(XRT_rate_)\n",
    "\n",
    "lag_Xray_=XRT_rate_[['time','rate','error']]\n",
    "lag_Xray_.columns=['t','flux','flux_err']\n",
    "lag_Xray_=lag_Xray_.sort_values('t')\n",
    "lag_Xray_=drop_index(lag_Xray_)\n",
    "\n",
    "for index,(band,uf_,c_,m_) in enumerate(zip(uvot_6bands,uvot_6band_data,colors_6band,markers_6bands)):\n",
    "    print(band)\n",
    "    lag_i=uf_[[uf_.columns[3],uf_.columns[6],uf_.columns[7]]]\n",
    "    lag_i.columns=['t','flux','flux_err']\n",
    "    lag_i=lag_i.sort_values('t')\n",
    "    lag_i=drop_index(lag_i)\n",
    "    \n",
    "    \n",
    "    labelname1=\"X-ray\"\n",
    "    labelname2=label_dict_uv[band]\n",
    "    \n",
    "    dataname1=lag_Xray_\n",
    "    dataname2=lag_i\n",
    "\n",
    "    sourcename_label=sourcename\n",
    "    #rangemin,rangemax=54790,58200\n",
    "    rangemin,rangemax=58200+1,58400-1\n",
    "    lagrangel=-20\n",
    "    lagrangeh=20\n",
    "\n",
    "    run_ccf(rootdir_ccf,sourcename_label,labelname1,labelname2,dataname1,dataname2,rangemin,rangemax,lagrangel,lagrangeh)\n",
    "    plot_ccf(rootdir_ccf,sourcename_label,labelname1,labelname2,dataname1,dataname2,rangemin,rangemax,lagrangel,lagrangeh)    \n"
   ]
  },
  {
   "cell_type": "markdown",
   "id": "756015f4",
   "metadata": {},
   "source": [
    "## ESO362-G18"
   ]
  },
  {
   "cell_type": "code",
   "execution_count": null,
   "id": "55d57c4e",
   "metadata": {
    "ExecuteTime": {
     "end_time": "2022-12-09T05:31:56.076286Z",
     "start_time": "2022-12-09T05:30:56.819627Z"
    }
   },
   "outputs": [],
   "source": [
    "sourcename='ESO362-G18'\n",
    "\n",
    "uvot_uvv=pd.read_csv('%s/%s_uvv_sum.csv'%(dataroot_dir,sourcename),sep='|',header=0)\n",
    "uvot_ubb=pd.read_csv('%s/%s_ubb_sum.csv'%(dataroot_dir,sourcename),sep='|',header=0)\n",
    "uvot_uuu=pd.read_csv('%s/%s_uuu_sum.csv'%(dataroot_dir,sourcename),sep='|',header=0)\n",
    "uvot_uw1=pd.read_csv('%s/%s_uw1_sum.csv'%(dataroot_dir,sourcename),sep='|',header=0)\n",
    "uvot_um2=pd.read_csv('%s/%s_um2_sum.csv'%(dataroot_dir,sourcename),sep='|',header=0)\n",
    "uvot_uw2=pd.read_csv('%s/%s_uw2_sum.csv'%(dataroot_dir,sourcename),sep='|',header=0)\n",
    "\n",
    "uvot_6band_data=[uvot_uvv,uvot_ubb,uvot_uuu,uvot_uw1,uvot_um2,uvot_uw2]\n",
    "uvdata_dict=dict(zip(uvot_6bands, uvot_6band_data))\n",
    "\n",
    "XRT_rate_=pd.read_csv('%s/%s_xrt_rate.txt'%(dataroot_dir,sourcename),sep='\\s+',header=0)\n",
    "XRT_rate_=XRT_rate_[XRT_rate_['rate']>0]\n",
    "XRT_rate_=drop_index(XRT_rate_)\n",
    "\n",
    "lag_Xray_=XRT_rate_[['time','rate','error']]\n",
    "lag_Xray_.columns=['t','flux','flux_err']\n",
    "lag_Xray_=lag_Xray_.sort_values('t')\n",
    "lag_Xray_=drop_index(lag_Xray_)\n",
    "\n",
    "for index,(band,uf_,c_,m_) in enumerate(zip(uvot_6bands,uvot_6band_data,colors_6band,markers_6bands)):\n",
    "    print(band)\n",
    "    lag_i=uf_[[uf_.columns[3],uf_.columns[6],uf_.columns[7]]]\n",
    "    lag_i.columns=['t','flux','flux_err']\n",
    "    lag_i=lag_i.sort_values('t')\n",
    "    lag_i=drop_index(lag_i)\n",
    "    \n",
    "    \n",
    "    labelname1=\"X-ray\"\n",
    "    labelname2=label_dict_uv[band]\n",
    "    \n",
    "    dataname1=lag_Xray_\n",
    "    dataname2=lag_i\n",
    "\n",
    "    sourcename_label=sourcename\n",
    "    #rangemin,rangemax=54790,58200\n",
    "    rangemin,rangemax=55200+1,56000-1\n",
    "    lagrangel=-20\n",
    "    lagrangeh=20\n",
    "\n",
    "    run_ccf(rootdir_ccf,sourcename_label,labelname1,labelname2,dataname1,dataname2,rangemin,rangemax,lagrangel,lagrangeh)\n",
    "    plot_ccf(rootdir_ccf,sourcename_label,labelname1,labelname2,dataname1,dataname2,rangemin,rangemax,lagrangel,lagrangeh)    \n"
   ]
  },
  {
   "cell_type": "markdown",
   "id": "b0a7c311",
   "metadata": {},
   "source": [
    "## ZTF18aajupnt"
   ]
  },
  {
   "cell_type": "code",
   "execution_count": null,
   "id": "9aa38cde",
   "metadata": {
    "ExecuteTime": {
     "end_time": "2022-12-09T05:34:15.979794Z",
     "start_time": "2022-12-09T05:33:59.531915Z"
    }
   },
   "outputs": [],
   "source": [
    "sourcename='ZTF18aajupnt'\n",
    "\n",
    "uvot_uvv=pd.read_csv('%s/%s_uvv_sum.csv'%(dataroot_dir,sourcename),sep='|',header=0)\n",
    "uvot_ubb=pd.read_csv('%s/%s_ubb_sum.csv'%(dataroot_dir,sourcename),sep='|',header=0)\n",
    "uvot_uuu=pd.read_csv('%s/%s_uuu_sum.csv'%(dataroot_dir,sourcename),sep='|',header=0)\n",
    "uvot_uw1=pd.read_csv('%s/%s_uw1_sum.csv'%(dataroot_dir,sourcename),sep='|',header=0)\n",
    "uvot_um2=pd.read_csv('%s/%s_um2_sum.csv'%(dataroot_dir,sourcename),sep='|',header=0)\n",
    "uvot_uw2=pd.read_csv('%s/%s_uw2_sum.csv'%(dataroot_dir,sourcename),sep='|',header=0)\n",
    "\n",
    "uvot_6band_data=[uvot_uvv,uvot_ubb,uvot_uuu,uvot_uw1,uvot_um2,uvot_uw2]\n",
    "uvdata_dict=dict(zip(uvot_6bands, uvot_6band_data))\n",
    "\n",
    "XRT_rate_=pd.read_csv('%s/%s_xrt_rate.txt'%(dataroot_dir,sourcename),sep='\\s+',header=0)\n",
    "XRT_rate_=XRT_rate_[XRT_rate_['rate']>0]\n",
    "XRT_rate_=drop_index(XRT_rate_)\n",
    "\n",
    "lag_Xray_=XRT_rate_[['time','rate','error']]\n",
    "lag_Xray_.columns=['t','flux','flux_err']\n",
    "lag_Xray_=lag_Xray_.sort_values('t')\n",
    "lag_Xray_=drop_index(lag_Xray_)\n",
    "\n",
    "for index,(band,uf_,c_,m_) in enumerate(zip(uvot_6bands,uvot_6band_data,colors_6band,markers_6bands)):\n",
    "    print(band)\n",
    "    lag_i=uf_[[uf_.columns[3],uf_.columns[6],uf_.columns[7]]]\n",
    "    lag_i.columns=['t','flux','flux_err']\n",
    "    lag_i=lag_i.sort_values('t')\n",
    "    lag_i=drop_index(lag_i)\n",
    "    \n",
    "    \n",
    "    labelname1=\"X-ray\"\n",
    "    labelname2=label_dict_uv[band]\n",
    "    \n",
    "    dataname1=lag_Xray_\n",
    "    dataname2=lag_i\n",
    "\n",
    "    sourcename_label=sourcename\n",
    "    #rangemin,rangemax=54790,58200\n",
    "    rangemin,rangemax=57000+1,59000-1\n",
    "    lagrangel=-20\n",
    "    lagrangeh=20\n",
    "\n",
    "    run_ccf(rootdir_ccf,sourcename_label,labelname1,labelname2,dataname1,dataname2,rangemin,rangemax,lagrangel,lagrangeh)\n",
    "    plot_ccf(rootdir_ccf,sourcename_label,labelname1,labelname2,dataname1,dataname2,rangemin,rangemax,lagrangel,lagrangeh)    \n"
   ]
  },
  {
   "cell_type": "markdown",
   "id": "e11c839d",
   "metadata": {},
   "source": [
    "# OQ 334"
   ]
  },
  {
   "cell_type": "markdown",
   "id": "b6c2c335",
   "metadata": {},
   "source": [
    "## Fermi_OQ334"
   ]
  },
  {
   "cell_type": "code",
   "execution_count": null,
   "id": "08560509",
   "metadata": {
    "ExecuteTime": {
     "end_time": "2022-12-12T03:47:02.026343Z",
     "start_time": "2022-12-12T03:47:02.006013Z"
    }
   },
   "outputs": [],
   "source": [
    "Fermi_OQ334=pd.read_csv('/Users/lyubing/Downloads/Changing-look Blazar B2 1420+32/4FGL_J1422.3+3223_daily_12_8_2022.csv')\n",
    "Fermi_OQ334=Fermi_OQ334[Fermi_OQ334['TS']>4]\n",
    "Fermi_OQ334=drop_index(Fermi_OQ334)\n",
    "Fermi_OQ334['mjd']=Fermi_OQ334['Julian Date']-2400000.5"
   ]
  },
  {
   "cell_type": "code",
   "execution_count": null,
   "id": "679cb117",
   "metadata": {
    "ExecuteTime": {
     "end_time": "2022-12-12T03:47:02.630067Z",
     "start_time": "2022-12-12T03:47:02.618865Z"
    }
   },
   "outputs": [],
   "source": [
    "Fermi_OQ334.columns"
   ]
  },
  {
   "cell_type": "code",
   "execution_count": null,
   "id": "2096d57a",
   "metadata": {
    "ExecuteTime": {
     "end_time": "2022-12-12T03:47:06.934551Z",
     "start_time": "2022-12-12T03:47:06.920811Z"
    }
   },
   "outputs": [],
   "source": [
    "lag_Fermi_OQ334=Fermi_OQ334[['mjd','Photon Flux [0.1-100 GeV](photons cm-2 s-1)','Photon Flux Error(photons cm-2 s-1)']]\n",
    "lag_Fermi_OQ334.columns=['t','flux','flux_err']\n",
    "lag_Fermi_OQ334=lag_Fermi_OQ334.sort_values('t')\n",
    "lag_Fermi_OQ334=drop_index(lag_Fermi_OQ334)\n",
    "                           "
   ]
  },
  {
   "cell_type": "code",
   "execution_count": null,
   "id": "2568003b",
   "metadata": {
    "ExecuteTime": {
     "end_time": "2022-12-12T03:57:55.050892Z",
     "start_time": "2022-12-12T03:57:40.420844Z"
    }
   },
   "outputs": [],
   "source": [
    "labelname1=\"fermi\"\n",
    "labelname2=\"ZTF-g\"\n",
    "\n",
    "dataname1=lag_Fermi_OQ334\n",
    "dataname2=lagdata_OQ_334_g\n",
    "\n",
    "sourcename_label='OQ_334'\n",
    "rangemin,rangemax=58800+1,58900-1\n",
    "lagrangel=-20\n",
    "lagrangeh=20\n",
    "\n",
    "run_ccf(rootdir_ccf,sourcename_label,labelname1,labelname2,dataname1,dataname2,rangemin,rangemax,lagrangel,lagrangeh)\n",
    "plot_ccf(rootdir_ccf,sourcename_label,labelname1,labelname2,dataname1,dataname2,rangemin,rangemax,lagrangel,lagrangeh)    \n"
   ]
  },
  {
   "cell_type": "markdown",
   "id": "ea3cacd0",
   "metadata": {
    "ExecuteTime": {
     "end_time": "2022-12-15T12:10:50.555755Z",
     "start_time": "2022-12-15T12:10:50.550050Z"
    }
   },
   "source": [
    "## swift_RM"
   ]
  },
  {
   "cell_type": "code",
   "execution_count": null,
   "id": "084bf7c3",
   "metadata": {
    "ExecuteTime": {
     "end_time": "2022-12-15T12:19:22.126877Z",
     "start_time": "2022-12-15T12:19:22.065946Z"
    }
   },
   "outputs": [],
   "source": [
    "swift_RMlagdata=pd.read_csv('/Users/lyubing/IHEPBox/data/data_lag/Table 3 Variability Amplitude and Interband Correlation Results_apjaaf3b4t3_ascii copy.txt',\n",
    "                            delimiter='\\s+')\n",
    "\n",
    "\n"
   ]
  },
  {
   "cell_type": "code",
   "execution_count": null,
   "id": "a6048dc6",
   "metadata": {},
   "outputs": [],
   "source": []
  },
  {
   "cell_type": "code",
   "execution_count": null,
   "id": "1ec1371a",
   "metadata": {},
   "outputs": [],
   "source": []
  },
  {
   "cell_type": "markdown",
   "id": "89864167",
   "metadata": {},
   "source": [
    "## ztf_OQ_334"
   ]
  },
  {
   "cell_type": "code",
   "execution_count": null,
   "id": "6a6d1f21",
   "metadata": {
    "ExecuteTime": {
     "end_time": "2022-12-11T15:29:59.120604Z",
     "start_time": "2022-12-11T15:29:59.095807Z"
    }
   },
   "outputs": [],
   "source": [
    "data_OQ_334=pd.read_csv('/Users/lyubing/Downloads/Changing-look Blazar B2 1420+32/OQ334_ztfdata.csv')"
   ]
  },
  {
   "cell_type": "code",
   "execution_count": null,
   "id": "23819619",
   "metadata": {
    "ExecuteTime": {
     "end_time": "2022-12-11T15:29:59.612291Z",
     "start_time": "2022-12-11T15:29:59.595989Z"
    }
   },
   "outputs": [],
   "source": [
    "data_OQ_334_g=data_OQ_334[data_OQ_334['filtercode']=='zg']\n",
    "data_OQ_334_r=data_OQ_334[data_OQ_334['filtercode']=='zr']\n",
    "data_OQ_334_i=data_OQ_334[data_OQ_334['filtercode']=='zi']"
   ]
  },
  {
   "cell_type": "code",
   "execution_count": null,
   "id": "3e002bef",
   "metadata": {
    "ExecuteTime": {
     "end_time": "2022-12-11T15:34:41.788554Z",
     "start_time": "2022-12-11T15:34:41.673631Z"
    }
   },
   "outputs": [],
   "source": [
    "mag_label_,magerr_label=('mag','magerr')\n",
    "data_OQ_334_g=ztf_mag2flux(data_OQ_334_g,mag_label_,magerr_label)\n",
    "data_OQ_334_r=ztf_mag2flux(data_OQ_334_r,mag_label_,magerr_label)\n",
    "data_OQ_334_i=ztf_mag2flux(data_OQ_334_i,mag_label_,magerr_label)"
   ]
  },
  {
   "cell_type": "code",
   "execution_count": null,
   "id": "029899b2",
   "metadata": {},
   "outputs": [],
   "source": []
  },
  {
   "cell_type": "code",
   "execution_count": null,
   "id": "02cd82e2",
   "metadata": {
    "ExecuteTime": {
     "end_time": "2022-12-11T15:37:42.276386Z",
     "start_time": "2022-12-11T15:37:42.264666Z"
    }
   },
   "outputs": [],
   "source": []
  },
  {
   "cell_type": "code",
   "execution_count": null,
   "id": "a93eed39",
   "metadata": {
    "ExecuteTime": {
     "end_time": "2022-12-11T15:34:45.714817Z",
     "start_time": "2022-12-11T15:34:45.704382Z"
    }
   },
   "outputs": [],
   "source": [
    "data_OQ_334_g.columns"
   ]
  },
  {
   "cell_type": "code",
   "execution_count": null,
   "id": "c0098d52",
   "metadata": {
    "ExecuteTime": {
     "end_time": "2022-12-11T15:38:15.009676Z",
     "start_time": "2022-12-11T15:38:14.987589Z"
    }
   },
   "outputs": [],
   "source": [
    "lagdata_OQ_334_g=get_lagdata_ztf(data_OQ_334_g)\n",
    "lagdata_OQ_334_r=get_lagdata_ztf(data_OQ_334_r)\n",
    "lagdata_OQ_334_i=get_lagdata_ztf(data_OQ_334_i)"
   ]
  },
  {
   "cell_type": "code",
   "execution_count": null,
   "id": "2e9feb46",
   "metadata": {
    "ExecuteTime": {
     "end_time": "2022-12-12T02:16:14.077593Z",
     "start_time": "2022-12-12T02:12:05.404905Z"
    }
   },
   "outputs": [],
   "source": [
    "labelname1=\"ZTF-g\"\n",
    "labelname2=\"ZTF-r\"\n",
    "\n",
    "dataname1=lagdata_OQ_334_g\n",
    "dataname2=lagdata_OQ_334_r\n",
    "\n",
    "sourcename_label='OQ_334'\n",
    "rangemin,rangemax=58400+1,58900-1\n",
    "lagrangel=-30\n",
    "lagrangeh=30\n",
    "\n",
    "run_ccf(rootdir_ccf,sourcename_label,labelname1,labelname2,dataname1,dataname2,rangemin,rangemax,lagrangel,lagrangeh)\n",
    "plot_ccf(rootdir_ccf,sourcename_label,labelname1,labelname2,dataname1,dataname2,rangemin,rangemax,lagrangel,lagrangeh)    \n"
   ]
  },
  {
   "cell_type": "code",
   "execution_count": null,
   "id": "be9be1ef",
   "metadata": {
    "ExecuteTime": {
     "end_time": "2022-12-12T02:21:14.091216Z",
     "start_time": "2022-12-12T02:20:34.102875Z"
    }
   },
   "outputs": [],
   "source": [
    "labelname1=\"ZTF-g\"\n",
    "labelname2=\"ZTF-i\"\n",
    "\n",
    "dataname1=lagdata_OQ_334_g\n",
    "dataname2=lagdata_OQ_334_i\n",
    "\n",
    "sourcename_label='OQ_334'\n",
    "rangemin,rangemax=58600+1,58900-1\n",
    "lagrangel=-30\n",
    "lagrangeh=30\n",
    "\n",
    "run_ccf(rootdir_ccf,sourcename_label,labelname1,labelname2,dataname1,dataname2,rangemin,rangemax,lagrangel,lagrangeh)\n",
    "plot_ccf(rootdir_ccf,sourcename_label,labelname1,labelname2,dataname1,dataname2,rangemin,rangemax,lagrangel,lagrangeh)    \n"
   ]
  },
  {
   "cell_type": "markdown",
   "id": "6cd00e5d",
   "metadata": {},
   "source": [
    "## plot"
   ]
  },
  {
   "cell_type": "code",
   "execution_count": null,
   "id": "8221841b",
   "metadata": {
    "ExecuteTime": {
     "start_time": "2022-12-12T13:41:15.437Z"
    }
   },
   "outputs": [],
   "source": [
    "fig = plt.figure(figsize=(12, 8))\n",
    "#fig.subplots_adjust(left=0.1, right=0.75, bottom=0.12, top=0.95)\n",
    "# Add axes object to our figure that takes up entire figure\n",
    "#ax = fig.add_axes([0, 0, 1, 1])\n",
    "ax=fig.add_subplot(2,1,1)\n",
    "\n",
    "\n",
    "ax.errorbar(lag_Fermi_OQ334['t'],\n",
    "            lag_Fermi_OQ334['flux'],\n",
    "            #lag_Fermi_OQ334['flux_err'],    \n",
    "            color='b',marker='.',alpha=0.8,ls=':',label='Fermi')    \n",
    "    \n",
    "\n",
    "\n",
    "\n",
    "ax_x=fig.add_subplot(2,1,2)\n",
    "\n",
    "ax_x.errorbar(data_OQ_334_g['mjd'],\n",
    "            data_OQ_334_g['flux']*1000,\n",
    "            yerr=data_OQ_334_g['flux_err']*1000,            \n",
    "            marker='*',\n",
    "            color='green',\n",
    "            label='ztf-g',ls='',) \n",
    "ax_x.errorbar(data_OQ_334_r['mjd'],\n",
    "            data_OQ_334_r['flux']*1000,\n",
    "            yerr=data_OQ_334_r['flux_err']*1000,  \n",
    "            color='red',\n",
    "            marker='*',\n",
    "            label='ztf-r',ls='',) \n",
    "ax_x.errorbar(data_OQ_334_i['mjd'],\n",
    "            data_OQ_334_i['flux']*1000,\n",
    "            yerr=data_OQ_334_i['flux_err']*1000 ,           \n",
    "            marker='*',\n",
    "            color='cyan',\n",
    "            label='ztf-i',ls='',) #ax_x.set_ylabel('')\n",
    "\n",
    "ax_x.set_xlabel('MJD')\n",
    "ax_x.set_ylabel('F(Jy)')\n",
    "#set_ax_legend(ax)\n",
    "set_ax_legend_sequence(ax)\n",
    "set_ax_legend(ax_x,bbox_to_anchor=(0.8,0.99))\n",
    "\n",
    "set_ax_tick(ax)\n",
    "set_ax_locator(ax,xma=200,xmi=100,yma=2e-8,ymi=1e-8)\n",
    "\n",
    "plot_secax(ax,mi_interval=60,ma_interval=180,rotation=30)\n",
    "\n",
    "ax.set_title('OQ334')\n",
    "range_l,range_r=(59600+1,59930-1)\n",
    "#ax.set_xlim(57900+1,59000-1)\n",
    "ax.set_xlim(range_l,range_r)\n",
    "#ax.set_ylim(0.1,9.9)\n",
    "save_lc_img_path='/Users/lyubing/Downloads/OQ334_Fermi_ztf_%d_%d.png'%(range_l,range_r)\n",
    "#save_lc_img_path='/Users/brettlv/Downloads/PKS1510_plot/Mojave_15GHz_I_lc.png'\n",
    "plt.savefig(save_lc_img_path,dpi=400, transparent=False, bbox_inches='tight')\n"
   ]
  },
  {
   "cell_type": "code",
   "execution_count": null,
   "id": "1f21d797",
   "metadata": {},
   "outputs": [],
   "source": []
  },
  {
   "cell_type": "code",
   "execution_count": null,
   "id": "1cae7b1d",
   "metadata": {},
   "outputs": [],
   "source": []
  },
  {
   "cell_type": "code",
   "execution_count": null,
   "id": "bf848cf2",
   "metadata": {
    "ExecuteTime": {
     "end_time": "2022-12-13T03:54:26.487996Z",
     "start_time": "2022-12-13T03:54:25.252087Z"
    }
   },
   "outputs": [],
   "source": []
  },
  {
   "cell_type": "code",
   "execution_count": null,
   "id": "6c0a9183",
   "metadata": {},
   "outputs": [],
   "source": []
  }
 ],
 "metadata": {
  "kernelspec": {
   "display_name": "Python 3 (ipykernel)",
   "language": "python",
   "name": "python3"
  },
  "language_info": {
   "codemirror_mode": {
    "name": "ipython",
    "version": 3
   },
   "file_extension": ".py",
   "mimetype": "text/x-python",
   "name": "python",
   "nbconvert_exporter": "python",
   "pygments_lexer": "ipython3",
   "version": "3.9.12"
  },
  "latex_envs": {
   "LaTeX_envs_menu_present": true,
   "autoclose": false,
   "autocomplete": true,
   "bibliofile": "biblio.bib",
   "cite_by": "apalike",
   "current_citInitial": 1,
   "eqLabelWithNumbers": true,
   "eqNumInitial": 1,
   "hotkeys": {
    "equation": "Ctrl-E",
    "itemize": "Ctrl-I"
   },
   "labels_anchors": false,
   "latex_user_defs": false,
   "report_style_numbering": false,
   "user_envs_cfg": false
  },
  "toc": {
   "base_numbering": 1,
   "nav_menu": {},
   "number_sections": true,
   "sideBar": true,
   "skip_h1_title": false,
   "title_cell": "Table of Contents",
   "title_sidebar": "Contents",
   "toc_cell": false,
   "toc_position": {
    "height": "calc(100% - 180px)",
    "left": "10px",
    "top": "150px",
    "width": "290.594px"
   },
   "toc_section_display": true,
   "toc_window_display": true
  }
 },
 "nbformat": 4,
 "nbformat_minor": 5
}
