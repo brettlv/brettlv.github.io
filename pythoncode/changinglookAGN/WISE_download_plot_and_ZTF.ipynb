{
 "cells": [
  {
   "cell_type": "markdown",
   "metadata": {},
   "source": [
    "# import"
   ]
  },
  {
   "cell_type": "code",
   "execution_count": 1,
   "metadata": {
    "ExecuteTime": {
     "end_time": "2023-12-03T12:42:07.186218Z",
     "start_time": "2023-12-03T12:42:06.104258Z"
    }
   },
   "outputs": [
    {
     "name": "stderr",
     "output_type": "stream",
     "text": [
      "/var/folders/jp/4mwsn7_x6j9gnv1hl1dztqth0000gn/T/ipykernel_6730/915632295.py:12: DeprecationWarning: the ``irsa`` module has been moved to astroquery.ipac.irsa, please update your imports.\n",
      "  from astroquery.irsa import Irsa\n"
     ]
    }
   ],
   "source": [
    "import pandas as pd\n",
    "import numpy as np\n",
    "\n",
    "import time\n",
    "import os\n",
    "import sys\n",
    "\n",
    "from astropy import config as _config \n",
    "from astropy import units as u\n",
    "from astropy.coordinates import SkyCoord\n",
    "\n",
    "from astroquery.irsa import Irsa  "
   ]
  },
  {
   "cell_type": "code",
   "execution_count": 2,
   "metadata": {
    "ExecuteTime": {
     "end_time": "2023-12-03T12:42:08.769629Z",
     "start_time": "2023-12-03T12:42:07.638027Z"
    }
   },
   "outputs": [],
   "source": [
    "from astropy.table import Table\n",
    "from astropy.io import fits\n",
    "from astropy import units as u\n",
    "from astropy import constants \n",
    "from astropy.coordinates import SkyCoord\n",
    "from astropy.visualization import hist\n",
    "from astroML.datasets import fetch_imaging_sample, fetch_sdss_S82standards\n",
    "from astroML.crossmatch import crossmatch_angular"
   ]
  },
  {
   "cell_type": "code",
   "execution_count": 3,
   "metadata": {
    "ExecuteTime": {
     "end_time": "2023-12-03T12:42:08.787888Z",
     "start_time": "2023-12-03T12:42:08.771125Z"
    }
   },
   "outputs": [],
   "source": [
    "from scipy.stats.stats import pearsonr\n",
    "from scipy.stats import spearmanr#\n",
    "from scipy import stats \n",
    "\n",
    "import matplotlib.pyplot as plt\n",
    "from pylab import cm\n",
    "import matplotlib as mpl\n",
    "\n",
    "from collections import OrderedDict\n",
    "from adjustText import adjust_text\n",
    "\n",
    "%matplotlib inline\n",
    "%config InlineBackend.figure_format='svg'\n",
    "# Edit the font, font size, and axes width\n",
    "mpl.rcParams['font.family'] = 'Times New Roman' #Times New Roman\n",
    "plt.rcParams['font.size'] = 18\n",
    "plt.rcParams['axes.linewidth'] = 2"
   ]
  },
  {
   "cell_type": "code",
   "execution_count": 4,
   "metadata": {
    "ExecuteTime": {
     "end_time": "2023-12-03T12:42:08.793483Z",
     "start_time": "2023-12-03T12:42:08.789184Z"
    }
   },
   "outputs": [],
   "source": [
    "#from adjustText import adjust_text\n",
    "\n",
    "def set_ax_tick(ax):\n",
    "    ax.xaxis.set_tick_params(which='major', size=10, width=2, direction='in', top='on',)\n",
    "    ax.xaxis.set_tick_params(which='minor', size=5, width=2, direction='in', top='on')\n",
    "    ax.yaxis.set_tick_params(which='major', size=10, width=2, direction='in', right='on')\n",
    "    ax.yaxis.set_tick_params(which='minor', size=5, width=2, direction='in', right='on')\n",
    "\n",
    "def set_ax_locator(ax,xma=1,xmi=0.2,yma=1,ymi=0.2):\n",
    "    ax.xaxis.set_major_locator(mpl.ticker.MultipleLocator(xma))\n",
    "    ax.xaxis.set_minor_locator(mpl.ticker.MultipleLocator(xmi))\n",
    "    ax.yaxis.set_major_locator(mpl.ticker.MultipleLocator(yma))\n",
    "    ax.yaxis.set_minor_locator(mpl.ticker.MultipleLocator(ymi)) "
   ]
  },
  {
   "cell_type": "code",
   "execution_count": 5,
   "metadata": {
    "ExecuteTime": {
     "end_time": "2023-12-03T12:42:09.076634Z",
     "start_time": "2023-12-03T12:42:09.072151Z"
    }
   },
   "outputs": [],
   "source": [
    "def drop_index(data):\n",
    "    data=data.reset_index(drop=True)\n",
    "    return data"
   ]
  },
  {
   "cell_type": "markdown",
   "metadata": {},
   "source": [
    "## class LAMOST_Spec"
   ]
  },
  {
   "cell_type": "code",
   "execution_count": 6,
   "metadata": {
    "ExecuteTime": {
     "end_time": "2023-12-03T12:42:09.917673Z",
     "start_time": "2023-12-03T12:42:09.895713Z"
    }
   },
   "outputs": [],
   "source": [
    "class LAMOST_Spec():\n",
    "    '''\n",
    "    A simple class to load SDSS spectrum.\n",
    "    \n",
    "    '''\n",
    "    def __init__(self, fname, redshift=None, scale_flux=False):\n",
    "        \"\"\"\n",
    "        Initialize SdssSpec object from a SDSS 1D spectrum file.\n",
    "        Parameters:\n",
    "        ----------\n",
    "            fname : str\n",
    "                name of the fits file.\n",
    "            redshift : float\n",
    "                redshift of the spectrum. Should be provided if not recorded in the fits header.\n",
    "            scale_flux : bool (`True` or `False`)\n",
    "                When `True`, the flux and err are multiplied by 1e-17; `False` by default.\n",
    "        Example:\n",
    "        ----------\n",
    "        sp = SdssSpec(\"spec-plateid-mjd-fiberid.fits\", redshift=0.01)\n",
    "        \"\"\"\n",
    "        hdu = fits.open(fname)\n",
    "        basename = os.path.basename(fname)\n",
    "        self.basename = basename\n",
    "        hdr = hdu[0].header\n",
    "        self.hdr = hdr\n",
    "        self.ra=hdr['RA']          # RA \n",
    "        self.dec=hdr['DEC']        # DEC\n",
    "        #self.plateid = hdr['plateid']   # SDSS plate ID\n",
    "        self.mjd = hdr['MJD']           # SDSS MJD\n",
    "        #self.fiberid = hdr['fiberid']   # SDSS fiber ID  \n",
    "        self.obsid= hdr['OBSID']\n",
    "        \n",
    "        #ra=hdul_i[0].header['RA']\n",
    "        #dec=hdul_i[0].header['DEC']\n",
    "        #mjd=hdul_i[0].header['MJD']\n",
    "    \n",
    "        \n",
    "        self.scale_flux = scale_flux\n",
    "        if redshift is None:\n",
    "            try: \n",
    "                redshift = hdu[2].data['z']\n",
    "            except: \n",
    "                raise ValueError('Redshift not provided. '+ \n",
    "                                 'Please check the input parameters carefully.')\n",
    "        self.redshift = redshift[0]\n",
    "        \n",
    "        data = hdu[1].data\n",
    "        hdu.close()   \n",
    "        \n",
    "        #wave = 10**data['loglam']\n",
    "        wave= data['WAVELENGTH'][0]\n",
    "        lam=wave\n",
    "        \n",
    "        flux = data['FLUX'][0]\n",
    "        ivar = data['IVAR'][0]\n",
    "        \n",
    "        andmask = data['ANDMASK'][0]\n",
    "        ormask =data['ORMASK'][0]\n",
    "        \n",
    "        err = 1./np.sqrt(ivar)\n",
    "        \n",
    "        wave_index1 = np.where((3900<lam) &(lam < 4100))\n",
    "        wave_index2 = np.where((7900<lam) &(lam < 8100))\n",
    "        \n",
    "        flux1 = np.median(flux[wave_index1])\n",
    "        flux2 = np.median(flux[wave_index2])\n",
    "        \n",
    "        flux_max     = max([flux1,flux2])\n",
    "        flux_min     = min([flux1,flux2])\n",
    "        \n",
    "        lam_min=int(min(lam))+1\n",
    "        lam_max=int(max(lam))\n",
    "        lam_bin=np.arange(0,lam_max-lam_min,1)+lam_min\n",
    "        \n",
    "        \n",
    "        self.wave = wave\n",
    "        self.flux = flux\n",
    "        self.err = err    \n",
    "        \n",
    "        \n",
    "    def plot(self):\n",
    "        fig=plt.figure()\n",
    "        fig.subplots_adjust(hspace=0.0, wspace = 0.0)\n",
    "        ax = fig.add_subplot(111)  \n",
    "        \n",
    "        ax.plot(self.wave, self.flux)\n",
    "        \n",
    "        plt.xlabel(r'Wavelength [$\\mathrm{\\AA}$]')\n",
    "        \n",
    "        if self.scale_flux == True:\n",
    "            plt.ylabel(r'Flux [$\\mathrm{erg\\;s^{-1}\\;cm^{-2}\\;\\AA^{-1}}$]')\n",
    "        else:\n",
    "            plt.ylabel(r'Flux [$\\mathrm{10^{-17} erg\\;s^{-1}\\;cm^{-2}\\;\\AA^{-1}}$]')\n",
    "        plt.title(self.basename[:-5])\n",
    "        \n",
    "        return fig,ax\n",
    "        \n",
    "    def plot_restframe(self):\n",
    "        fig=plt.figure()\n",
    "        #fig = plt.figure(figsize=(12,4))\n",
    "        fig.subplots_adjust(hspace=0.0, wspace = 0.0)\n",
    "        ax = fig.add_subplot(111) \n",
    "        \n",
    "        ax.plot(self.wave/(1+self.redshift), self.flux)\n",
    "        plt.xlabel(r'Wavelength/(1+z) [$\\mathrm{\\AA}$]')\n",
    "        \n",
    "        if self.scale_flux == False:\n",
    "            plt.ylabel(r'Flux [$\\mathrm{erg\\;s^{-1}\\;cm^{-2}\\;\\AA^{-1}}$]')\n",
    "        else:\n",
    "            plt.ylabel(r'Flux [$\\mathrm{10^{-17} erg\\;s^{-1}\\;cm^{-2}\\;\\AA^{-1}}$]')\n",
    "        \n",
    "        plt.title(self.basename[:-5]+' z=%.3f'%self.redshift)\n",
    "        \n",
    "        return fig,ax        "
   ]
  },
  {
   "cell_type": "code",
   "execution_count": 7,
   "metadata": {
    "ExecuteTime": {
     "end_time": "2023-12-03T12:42:10.439446Z",
     "start_time": "2023-12-03T12:42:10.419238Z"
    }
   },
   "outputs": [],
   "source": [
    "class LAMOST_Spec_Jinscaled():\n",
    "    '''\n",
    "    A simple class to load SDSS spectrum.\n",
    "    \n",
    "    '''\n",
    "    def __init__(self, fname, redshift=None, scale_flux=False):\n",
    "        \"\"\"\n",
    "        Initialize SdssSpec object from a SDSS 1D spectrum file.\n",
    "        Parameters:\n",
    "        ----------\n",
    "            fname : str\n",
    "                name of the fits file.\n",
    "            redshift : float\n",
    "                redshift of the spectrum. Should be provided if not recorded in the fits header.\n",
    "            scale_flux : bool (`True` or `False`)\n",
    "                When `True`, the flux and err are multiplied by 1e-17; `False` by default.\n",
    "        Example:\n",
    "        ----------\n",
    "        sp = SdssSpec(\"spec-plateid-mjd-fiberid.fits\", redshift=0.01)\n",
    "        \"\"\"\n",
    "        hdu = fits.open(fname)\n",
    "        basename = os.path.basename(fname)\n",
    "        self.basename = basename\n",
    "        hdr = hdu[0].header\n",
    "        self.hdr = hdr\n",
    "        self.ra=hdr['RA']          # RA \n",
    "        self.dec=hdr['DEC']        # DEC\n",
    "        #self.plateid = hdr['plateid']   # SDSS plate ID\n",
    "        self.mjd = hdr['MJD']           # SDSS MJD\n",
    "        #self.fiberid = hdr['fiberid']   # SDSS fiber ID  \n",
    "        self.obsid= hdr['OBSID']\n",
    "        \n",
    "        #ra=hdul_i[0].header['RA']\n",
    "        #dec=hdul_i[0].header['DEC']\n",
    "        #mjd=hdul_i[0].header['MJD']\n",
    "    \n",
    "        \n",
    "        self.scale_flux = scale_flux\n",
    "        if redshift is None:\n",
    "            try: \n",
    "                #redshift = hdu[2].data['z']\n",
    "                redshift = hdr['Z']\n",
    "            except: \n",
    "                raise ValueError('Redshift not provided. '+ \n",
    "                                 'Please check the input parameters carefully.')\n",
    "        self.redshift = redshift[0]\n",
    "        \n",
    "        data = hdu[0].data\n",
    "        hdu.close()   \n",
    "        \n",
    "        #wave = 10**data['loglam']\n",
    "        #wave= data['WAVELENGTH'][0]\n",
    "        #lam=wave\n",
    "        \n",
    "        wave= data[2]\n",
    "        lam=wave\n",
    "        flux=data[0]\n",
    "        #flux = data['FLUX'][0]\n",
    "        #ivar = data['IVAR'][0]\n",
    "        \n",
    "        #andmask = data['ANDMASK'][0]\n",
    "        #ormask =data['ORMASK'][0]\n",
    "        \n",
    "        #err = 1./np.sqrt(ivar)\n",
    "        \n",
    "            \n",
    "        self.wave = wave\n",
    "        self.flux = flux\n",
    "        #self.err = err    \n",
    "        \n",
    "        \n",
    "    def plot(self):\n",
    "        fig=plt.figure()\n",
    "        fig.subplots_adjust(hspace=0.0, wspace = 0.0)\n",
    "        ax = fig.add_subplot(111)  \n",
    "        \n",
    "        ax.plot(self.wave, self.flux)\n",
    "        \n",
    "        plt.xlabel(r'Wavelength [$\\mathrm{\\AA}$]')\n",
    "        \n",
    "        if self.scale_flux == True:\n",
    "            plt.ylabel(r'Flux [$\\mathrm{erg\\;s^{-1}\\;cm^{-2}\\;\\AA^{-1}}$]')\n",
    "        else:\n",
    "            plt.ylabel(r'Flux [$\\mathrm{10^{-17} erg\\;s^{-1}\\;cm^{-2}\\;\\AA^{-1}}$]')\n",
    "        plt.title(self.basename[:-5])\n",
    "        \n",
    "        return fig,ax\n",
    "        \n",
    "    def plot_restframe(self):\n",
    "        fig=plt.figure()\n",
    "        #fig = plt.figure(figsize=(12,4))\n",
    "        fig.subplots_adjust(hspace=0.0, wspace = 0.0)\n",
    "        ax = fig.add_subplot(111) \n",
    "        \n",
    "        ax.plot(self.wave/(1+self.redshift), self.flux)\n",
    "        plt.xlabel(r'Wavelength/(1+z) [$\\mathrm{\\AA}$]')\n",
    "        \n",
    "        if self.scale_flux == False:\n",
    "            plt.ylabel(r'Flux [$\\mathrm{erg\\;s^{-1}\\;cm^{-2}\\;\\AA^{-1}}$]')\n",
    "        else:\n",
    "            plt.ylabel(r'Flux [$\\mathrm{10^{-17} erg\\;s^{-1}\\;cm^{-2}\\;\\AA^{-1}}$]')\n",
    "        \n",
    "        plt.title(self.basename[:-5]+' z=%.3f'%self.redshift)\n",
    "        \n",
    "        return fig,ax        "
   ]
  },
  {
   "cell_type": "markdown",
   "metadata": {},
   "source": [
    "# PATH"
   ]
  },
  {
   "cell_type": "code",
   "execution_count": 8,
   "metadata": {
    "ExecuteTime": {
     "end_time": "2023-12-03T12:42:11.364168Z",
     "start_time": "2023-12-03T12:42:11.351520Z"
    }
   },
   "outputs": [],
   "source": [
    "CLAGN_statistic_plot_dir='/Volumes/ExtremeSSD/CLAGN_statistic_plot/'\n",
    "CLAGN_wisedata_dir='/Users/lyubing/blog/brettlv.github.io/pythoncode/changinglookAGN/CLAGN_wise_data/'\n",
    "AGN_wisedata_dir='/Volumes/ExtremeSSD/data_source/WISE_data'\n",
    "\n",
    "\n",
    "LLAGN_wisedata_dir='%s/wise_data_search/LLAGN'%AGN_wisedata_dir\n",
    "QSO_wisedata_dir='%s/wise_data_search/QSO'%AGN_wisedata_dir\n",
    "AGN_MAXIdata_dir='/Volumes/ExtremeSSD/CLAGN_statistic_plot/MAXIlc/MAXI/'#%s_MAXI_1day_all.dat'%name\n",
    "\n",
    "wisedata_path='/Users/lyubing/blog/brettlv.github.io/pythoncode/WISEDATA'\n",
    "wisedata_path_name='/Users/lyubing/blog/brettlv.github.io/pythoncode/WISEDATA'\n",
    "\n",
    "save_lc_img_dir=os.path.join(CLAGN_statistic_plot_dir,'WISE_lc')\n",
    "save_lc_img_dir_RGOIII=os.path.join(CLAGN_statistic_plot_dir,'WISE_lc_RGOIII')\n",
    "\n",
    "\n",
    "\n",
    "Fermi_bll_wisedata_dir='%s/WISE_fermi_blazars/BLL'%AGN_wisedata_dir\n",
    "Fermi_fsrq_wisedata_dir='%s/WISE_fermi_blazars/FSRQ'%AGN_wisedata_dir\n",
    "CLB_wisedata_dir='%s/WISE_CLB'%AGN_wisedata_dir\n",
    "\n",
    "CLBcand_wisedata_dir='%s/WISE_CLB_candidates'%AGN_wisedata_dir\n",
    "\n"
   ]
  },
  {
   "cell_type": "code",
   "execution_count": 9,
   "metadata": {
    "ExecuteTime": {
     "end_time": "2023-12-03T12:42:12.035723Z",
     "start_time": "2023-12-03T12:42:12.028727Z"
    }
   },
   "outputs": [],
   "source": [
    "datawise_dir_BFF ='/Users/lyubing/Downloads/TDE_ambiguous nuclear transient(ANT)/Bowen Fluorescence Flare (BFF) class/'\n",
    "datawise_dir_GALEX='/Users/lyubing/Downloads/GALEX_variable/'"
   ]
  },
  {
   "cell_type": "markdown",
   "metadata": {
    "ExecuteTime": {
     "end_time": "2023-11-26T08:00:50.597179Z",
     "start_time": "2023-11-26T08:00:50.337547Z"
    }
   },
   "source": [
    "!open '/Users/lyubing/Downloads/TDE_ambiguous nuclear transient(ANT)/Bowen Fluorescence Flare (BFF) class/'"
   ]
  },
  {
   "cell_type": "markdown",
   "metadata": {
    "ExecuteTime": {
     "end_time": "2023-10-19T11:24:29.870932Z",
     "start_time": "2023-10-19T11:24:29.859836Z"
    }
   },
   "source": [
    "save_lc_img_dir"
   ]
  },
  {
   "cell_type": "code",
   "execution_count": null,
   "metadata": {
    "ExecuteTime": {
     "end_time": "2023-10-19T11:25:02.216982Z",
     "start_time": "2023-10-19T11:25:02.207508Z"
    }
   },
   "outputs": [],
   "source": [
    "AGN_wisedata_dir"
   ]
  },
  {
   "cell_type": "code",
   "execution_count": null,
   "metadata": {
    "ExecuteTime": {
     "end_time": "2023-09-27T05:19:58.727926Z",
     "start_time": "2023-09-27T05:19:58.524051Z"
    }
   },
   "outputs": [],
   "source": [
    "ls /Volumes/ExtremeSSD/CLAGN_statistic_plot/WISE_lc"
   ]
  },
  {
   "cell_type": "markdown",
   "metadata": {},
   "source": [
    "## time_convert"
   ]
  },
  {
   "cell_type": "code",
   "execution_count": 10,
   "metadata": {
    "ExecuteTime": {
     "end_time": "2023-12-03T12:42:15.664905Z",
     "start_time": "2023-12-03T12:42:15.643093Z"
    }
   },
   "outputs": [],
   "source": [
    "from astropy.time import Time\n",
    "from astropy.io import fits\n",
    "import time\n",
    "import datetime\n",
    "from matplotlib.pyplot import MultipleLocator\n",
    "import matplotlib.dates as mdates\n",
    "\n",
    "def datetime2mjd(x):\n",
    "    mjd_ref=59000\n",
    "    mjd_minus_mdates_num=mdates.date2num(convert_xaxis_time(mjd_ref))-mjd_ref\n",
    "    \n",
    "    x=mdates.date2num(x)\n",
    "    y = x - mjd_minus_mdates_num   \n",
    "    return y\n",
    "\n",
    "def mjd2datetime(x):\n",
    "    mjd_ref=59000\n",
    "    mjd_minus_mdates_num=mdates.date2num(convert_xaxis_time(mjd_ref))-mjd_ref\n",
    "    y= x + mjd_minus_mdates_num\n",
    "    y= mdates.num2date(y)\n",
    "    return y\n",
    "\n",
    "\n",
    "\n",
    "def datenums2mjd(x):\n",
    "    #x=mdates.date2num(x)\n",
    "    mjd_ref=59000\n",
    "    mjd_minus_mdates_num=mdates.date2num(convert_xaxis_time(mjd_ref))-mjd_ref\n",
    "    y = x - mjd_minus_mdates_num   \n",
    "    return y\n",
    "\n",
    "def mjd2numsdate(x):\n",
    "    mjd_ref=59000\n",
    "    mjd_minus_mdates_num=mdates.date2num(convert_xaxis_time(mjd_ref))-mjd_ref\n",
    "    \n",
    "    y= x + mjd_minus_mdates_num\n",
    "    #y= mdates.num2date(y)\n",
    "    return y\n",
    "\n",
    "\n",
    "def convert_xaxis_mjd(time):\n",
    "    return Time(time).mjd   \n",
    "\n",
    "def convert_xaxis_time(mjd):\n",
    "    return Time(mjd,format='mjd').to_datetime()\n",
    "\n",
    "\n",
    "def date2yday(x):\n",
    "    \"\"\"\n",
    "    x is in matplotlib datenums, so they are floats.\n",
    "    \"\"\"\n",
    "    y = x - mdates.date2num(datetime(2018, 1, 1))\n",
    "    return y\n",
    "\n",
    "def yday2date(x):\n",
    "    \"\"\"\n",
    "    return a matplotlib datenum (x is days since start of year of 2018)\n",
    "    \"\"\"\n",
    "    y = x + mdates.date2num(datetime(2018, 1, 1))\n",
    "    return y\n",
    "\n",
    "\n",
    "def convert_partial_year(numbers):\n",
    "    datetimes=[]\n",
    "    for number in numbers:\n",
    "        year = int(number)\n",
    "        d = timedelta(days=(number - year)*(365 + is_leap(year)))\n",
    "        day_one = datetime(year,1,1)\n",
    "        date = d + day_one\n",
    "        datetimes.append(date)\n",
    "    return datetimes\n",
    "\n",
    "\n",
    "def is_leap(year):\n",
    "    if not year%4 and  year%100 or not year%400:\n",
    "        return True\n",
    "    return False\n",
    "\n",
    "\n",
    "def convert_mjd(times):\n",
    "    timesmjd=[]\n",
    "    for i in times:\n",
    "        timesmjd.append(Time(i).mjd)\n",
    "    return timesmjd  \n",
    "\n",
    "\n",
    "def convert_date(times):\n",
    "    timesdate=[]\n",
    "    for i in times:\n",
    "        timesdate.append(Time(i,format='mjd').datetime)\n",
    "    return timesdate\n",
    "\n",
    "def convert_date_single(time):\n",
    "    timedate=Time(time,format='mjd').datetime\n",
    "    return timedate"
   ]
  },
  {
   "cell_type": "code",
   "execution_count": 11,
   "metadata": {
    "ExecuteTime": {
     "end_time": "2023-12-03T12:42:16.236276Z",
     "start_time": "2023-12-03T12:42:16.217228Z"
    }
   },
   "outputs": [
    {
     "data": {
      "text/plain": [
       "datetime.datetime(2017, 2, 16, 0, 0)"
      ]
     },
     "execution_count": 11,
     "metadata": {},
     "output_type": "execute_result"
    }
   ],
   "source": [
    "convert_date_single(57800)"
   ]
  },
  {
   "cell_type": "code",
   "execution_count": 12,
   "metadata": {
    "ExecuteTime": {
     "end_time": "2023-12-03T12:42:16.775401Z",
     "start_time": "2023-12-03T12:42:16.752023Z"
    }
   },
   "outputs": [
    {
     "data": {
      "text/plain": [
       "datetime.datetime(2016, 7, 11, 0, 0)"
      ]
     },
     "execution_count": 12,
     "metadata": {},
     "output_type": "execute_result"
    }
   ],
   "source": [
    "convert_date_single(57580)"
   ]
  },
  {
   "cell_type": "code",
   "execution_count": null,
   "metadata": {},
   "outputs": [],
   "source": []
  },
  {
   "cell_type": "markdown",
   "metadata": {},
   "source": [
    "## def plot_secax"
   ]
  },
  {
   "cell_type": "code",
   "execution_count": 13,
   "metadata": {
    "ExecuteTime": {
     "end_time": "2023-12-03T12:42:18.840142Z",
     "start_time": "2023-12-03T12:42:18.815916Z"
    }
   },
   "outputs": [],
   "source": [
    "from adjustText import adjust_text\n",
    "import matplotlib as mpl\n",
    "def set_ax_tick(ax):\n",
    "    ax.xaxis.set_tick_params(which='major', size=10, width=2, direction='in', top='on',)\n",
    "    ax.xaxis.set_tick_params(which='minor', size=5, width=2, direction='in', top='on')\n",
    "    ax.yaxis.set_tick_params(which='major', size=10, width=2, direction='in', right='on')\n",
    "    ax.yaxis.set_tick_params(which='minor', size=5, width=2, direction='in', right='on')\n",
    "\n",
    "def set_ax_locator(ax,xma=1,xmi=0.2,yma=1,ymi=0.2):\n",
    "    ax.xaxis.set_major_locator(mpl.ticker.MultipleLocator(xma))\n",
    "    ax.xaxis.set_minor_locator(mpl.ticker.MultipleLocator(xmi))\n",
    "    ax.yaxis.set_major_locator(mpl.ticker.MultipleLocator(yma))\n",
    "    ax.yaxis.set_minor_locator(mpl.ticker.MultipleLocator(ymi))\n",
    "    \n",
    "def plot_secax(ax,mi_interval=365,ma_interval=365*2,rotation=30,):\n",
    "    secax1 = ax.secondary_xaxis('top', functions=(mjd2numsdate,datenums2mjd))\n",
    "    secax1.xaxis.set_major_formatter(mdates.DateFormatter(\"%Y-%m\"))\n",
    "    secax1.xaxis.set_major_locator(mdates.DayLocator(interval=ma_interval))\n",
    "    secax1.xaxis.set_minor_locator(mdates.DayLocator(interval=mi_interval))\n",
    "    secax1.xaxis.set_tick_params(which='major', size=10, width=2, direction='out')\n",
    "    secax1.xaxis.set_tick_params(which='minor', size=5, width=2, direction='out')\n",
    "    secax1.xaxis.set_tick_params(which='major', size=10, width=2, direction='out', rotation=rotation,)    \n",
    "    \n",
    "def set_ax_legend(ax,bbox_to_anchor=(0.01, 0.99)):\n",
    "    ax.xaxis.set_tick_params(which='major', size=10, width=2, rotation=0,)\n",
    "    handles, labels = ax.get_legend_handles_labels()\n",
    "    # remove the errorbars\n",
    "    #hdl = [h[0] for h in handles]\n",
    "    hdl = handles\n",
    "    labels_dict=dict(zip(labels, hdl)) #key,values\n",
    "    by_label=OrderedDict(sorted(labels_dict.items(),key=lambda t:t[0]))\n",
    "    #by_label = OrderedDict(zip(labels, handles))\n",
    "    ax.legend(by_label.values(), by_label.keys(), bbox_to_anchor=bbox_to_anchor,\n",
    "              loc=2, numpoints=1,ncol=1,fontsize=11.)\n",
    "\n",
    "def set_mag_ylim(ax):\n",
    "    bottom, top = ax.set_ylim()\n",
    "    if bottom< top:\n",
    "        ax.set_ylim(top,bottom)   \n",
    "        \n",
    "        \n",
    "def set_mag_xlim(ax):\n",
    "    bottom, top = ax.set_xlim()\n",
    "    if bottom< top:\n",
    "        ax.set_xlim(top,bottom)         "
   ]
  },
  {
   "cell_type": "code",
   "execution_count": 14,
   "metadata": {
    "ExecuteTime": {
     "end_time": "2023-12-03T12:42:20.041466Z",
     "start_time": "2023-12-03T12:42:20.031322Z"
    }
   },
   "outputs": [],
   "source": [
    "def get_new_range_datas(mjd1, flux1, err1,time_min,time_max):\n",
    "    mjd_s=[]\n",
    "    flux_s=[]\n",
    "    err_s=[]\n",
    "    for i,j,k in zip(mjd1, flux1, err1):\n",
    "        if i>=time_min and i<time_max:\n",
    "            mjd_s.append(i)\n",
    "            flux_s.append(j)\n",
    "            err_s.append(k)\n",
    "    return np.array(mjd_s),np.array(flux_s),np.array(err_s)"
   ]
  },
  {
   "cell_type": "code",
   "execution_count": null,
   "metadata": {},
   "outputs": [],
   "source": []
  },
  {
   "cell_type": "markdown",
   "metadata": {},
   "source": [
    "## cosmo"
   ]
  },
  {
   "cell_type": "code",
   "execution_count": 15,
   "metadata": {
    "ExecuteTime": {
     "end_time": "2023-12-03T12:42:21.500342Z",
     "start_time": "2023-12-03T12:42:21.460212Z"
    }
   },
   "outputs": [],
   "source": [
    "from astropy.cosmology import FlatLambdaCDM,Planck13,Planck15,z_at_value\n",
    "from astropy import units as u\n",
    "from astropy.cosmology import LambdaCDM\n",
    "cosmo = LambdaCDM(H0=70, Om0=0.27, Ode0=0.73)\n",
    "#cosmo=FlatLambdaCDM(H0=73,Om0=0.3)"
   ]
  },
  {
   "cell_type": "markdown",
   "metadata": {},
   "source": [
    "## get_mag_weighted_mean_mag"
   ]
  },
  {
   "cell_type": "code",
   "execution_count": 16,
   "metadata": {
    "ExecuteTime": {
     "end_time": "2023-12-03T12:42:24.184086Z",
     "start_time": "2023-12-03T12:42:24.170787Z"
    }
   },
   "outputs": [],
   "source": [
    "import numpy as np\n",
    "def get_mag_weighted_mean_mag(mags,e_mags):\n",
    "    N=len(mags)\n",
    "    mag_weighted_mean_mag =0  \n",
    "    \n",
    "    w_n=np.sum(1.0/e_mags**2)   \n",
    "    \n",
    "    for mag,e_mag in zip(mags,e_mags):\n",
    "        w_i=1.0/e_mag**2\n",
    "        w=w_i/w_n\n",
    "        mag_weighted_mean_mag=mag_weighted_mean_mag+w*mag\n",
    "                          \n",
    "    return mag_weighted_mean_mag \n",
    "\n",
    "\n",
    "\n",
    "def get_mag_weighted_mean_e_mag(mags,e_mags):\n",
    "    N=len(mags)  \n",
    "\n",
    "    w_n=np.sum(1.0/e_mags**2)\n",
    "    \n",
    "    mag_weighted_mean_mag = get_mag_weighted_mean_mag(mags,e_mags)\n",
    "    \n",
    "    mag_weighted_mean_e_mag =0 \n",
    "    \n",
    "    for mag,e_mag in zip(mags,e_mags):        \n",
    "        w_i=1.0/e_mag**2\n",
    "        w=w_i/w_n\n",
    "        \n",
    "        mag_weighted_mean_e_mag=mag_weighted_mean_e_mag+w*(mag-mag_weighted_mean_mag)**2\n",
    "        \n",
    "    mag_weighted_mean_e_mag_=(mag_weighted_mean_e_mag/(N-1))**0.5                                 \n",
    "    return mag_weighted_mean_e_mag_"
   ]
  },
  {
   "cell_type": "markdown",
   "metadata": {},
   "source": [
    "## def_median_lc"
   ]
  },
  {
   "cell_type": "code",
   "execution_count": 17,
   "metadata": {
    "ExecuteTime": {
     "end_time": "2023-12-03T12:42:26.117339Z",
     "start_time": "2023-12-03T12:42:26.100477Z"
    }
   },
   "outputs": [],
   "source": [
    "def median_lc(data,timelabel,maglabel,e_maglabel,interval=180,sigma_outlier=100):\n",
    "    #data=data.sort_values(timelabel)\n",
    "    data=drop_index(data)\n",
    "    mean_mjds=[]\n",
    "    mean_mags=[]\n",
    "    mean_mags_e=[]\n",
    "    \n",
    "    if len(data)>2:\n",
    "        mjd_t0=data[timelabel][0]-10\n",
    "        mjd_tend=data[timelabel][len(data)-1]+10\n",
    "\n",
    "        N=int((mjd_tend-mjd_t0)//interval+1)\n",
    "        #print(N)\n",
    "\n",
    "        time_interval=np.linspace(mjd_t0,interval*N+mjd_t0,N+1)\n",
    "        #print(time_interval)\n",
    "\n",
    "        for index,i in enumerate(time_interval):\n",
    "            if index < N:\n",
    "                data_select=data[data[timelabel]>=time_interval[index]]\n",
    "                data_select=data_select[data_select[timelabel]<time_interval[index+1]]\n",
    "                data_select=drop_index(data_select)\n",
    "\n",
    "                if len(data_select)>2:\n",
    "                    #mean_mjd=np.mean(data_select[timelabel])\n",
    "                    mags=data_select[maglabel]\n",
    "                    e_mags=data_select[e_maglabel]               \n",
    "                    mean_mag=get_mag_weighted_mean_mag(mags,e_mags)\n",
    "                    mag_weighted_mean_e_mag=get_mag_weighted_mean_e_mag(mags,e_mags)\n",
    "                    #mean_mag_e=np.mean(data_select[e_maglabel])\n",
    "\n",
    "                    data_select=data_select[abs(data_select[maglabel]-mean_mag)<sigma_outlier*mag_weighted_mean_e_mag]\n",
    "                    data_select=drop_index(data_select)\n",
    "\n",
    "\n",
    "                    #print(len(data_select))\n",
    "\n",
    "                    mags=data_select[maglabel]\n",
    "                    e_mags=data_select[e_maglabel]  \n",
    "                    if len(data_select)>2:\n",
    "                        mean_mag=get_mag_weighted_mean_mag(mags,e_mags)               \n",
    "                        mean_mag_e=get_mag_weighted_mean_e_mag(mags,e_mags)\n",
    "\n",
    "                        mean_mjd=np.mean(data_select[timelabel])               \n",
    "                        mean_mjds.append(mean_mjd)\n",
    "                        mean_mags.append(mean_mag)\n",
    "                        mean_mags_e.append(mean_mag_e)\n",
    "                        \n",
    "        mean_mjds,mean_mags,mean_mags_e=(np.array(mean_mjds),np.array(mean_mags),np.array(mean_mags_e))\n",
    "        \n",
    "    return mean_mjds,mean_mags,mean_mags_e\n"
   ]
  },
  {
   "cell_type": "markdown",
   "metadata": {},
   "source": [
    "## def median_color"
   ]
  },
  {
   "cell_type": "code",
   "execution_count": null,
   "metadata": {},
   "outputs": [],
   "source": []
  },
  {
   "cell_type": "code",
   "execution_count": null,
   "metadata": {},
   "outputs": [],
   "source": []
  },
  {
   "cell_type": "code",
   "execution_count": null,
   "metadata": {},
   "outputs": [],
   "source": []
  },
  {
   "cell_type": "markdown",
   "metadata": {},
   "source": [
    "## get_outlier_remove"
   ]
  },
  {
   "cell_type": "code",
   "execution_count": 18,
   "metadata": {
    "ExecuteTime": {
     "end_time": "2023-12-03T12:42:28.327443Z",
     "start_time": "2023-12-03T12:42:28.307252Z"
    }
   },
   "outputs": [],
   "source": [
    "def get_outlier_remove_data(data,timelabel,maglabel,e_maglabel,interval=180,sigma_outlier=10):\n",
    "    data_remove=pd.DataFrame([])\n",
    "    #data_outlier=pd.DataFrame([])\n",
    "    \n",
    "    #data=data.sort_values(timelabel)\n",
    "    data=drop_index(data)\n",
    "    mean_mjds=[]\n",
    "    mean_mags=[]\n",
    "    mean_mags_e=[]\n",
    "    \n",
    "    if len(data)>2:\n",
    "        mjd_t0=data[timelabel][0]-20\n",
    "        mjd_tend=data[timelabel][len(data)-1]+20\n",
    "\n",
    "        N=int((mjd_tend-mjd_t0)//interval+1)\n",
    "        #print(N)\n",
    "\n",
    "        time_interval=np.linspace(mjd_t0,interval*N+mjd_t0,N+1)\n",
    "        #print(time_interval)\n",
    "\n",
    "        for index,i in enumerate(time_interval):\n",
    "            if index < N:\n",
    "                data_select=data[data[timelabel]>=time_interval[index]]\n",
    "                data_select=data_select[data_select[timelabel]<time_interval[index+1]]\n",
    "                data_select=drop_index(data_select)\n",
    "                \n",
    "                if len(data_select)>2:\n",
    "                    #mean_mjd=np.mean(data_select[timelabel])\n",
    "                    mags=data_select[maglabel]\n",
    "                    e_mags=data_select[e_maglabel]               \n",
    "                    mean_mag=get_mag_weighted_mean_mag(mags,e_mags)\n",
    "                    mag_weighted_mean_e_mag=get_mag_weighted_mean_e_mag(mags,e_mags)\n",
    "                    #mean_mag_e=np.mean(data_select[e_maglabel])\n",
    "\n",
    "                    data_remove_outlier=data_select[abs(data_select[maglabel]-mean_mag)<=sigma_outlier*mag_weighted_mean_e_mag]\n",
    "                    \n",
    "                    data_remove_outlier=drop_index(data_remove_outlier) \n",
    "                    data_remove=data_remove.append(data_remove_outlier,ignore_index=True)                   \n",
    "         \n",
    "        \n",
    "                    '''                 \n",
    "                    data_out=data_select[abs(data_select[maglabel]-mean_mag)>sigma_outlier*mag_weighted_mean_e_mag]\n",
    "                    data_out=drop_index(data_out)\n",
    "                    data_outlier.append(data_out,ignore_index=True)\n",
    "              \n",
    "                    '''\n",
    "    #data_remove=data_remove.sort_values(timelabel)\n",
    "    data_remove=drop_index(data_remove)    \n",
    "    return data_remove#,data_outlier                   \n",
    "                    \n",
    "    "
   ]
  },
  {
   "cell_type": "markdown",
   "metadata": {},
   "source": [
    "## def get_outlier_data"
   ]
  },
  {
   "cell_type": "code",
   "execution_count": 19,
   "metadata": {
    "ExecuteTime": {
     "end_time": "2023-12-03T12:42:30.328246Z",
     "start_time": "2023-12-03T12:42:30.312564Z"
    }
   },
   "outputs": [],
   "source": [
    "def get_outlier_data(data,timelabel,maglabel,e_maglabel,interval=180,sigma_outlier=10):\n",
    "    data_remove=pd.DataFrame([])\n",
    "    data_outlier=pd.DataFrame([])\n",
    "    \n",
    "    #data=data.sort_values(timelabel)\n",
    "    data=drop_index(data)\n",
    "    mean_mjds=[]\n",
    "    mean_mags=[]\n",
    "    mean_mags_e=[]\n",
    "    \n",
    "    if len(data)>2:\n",
    "        mjd_t0=data[timelabel][0]-20\n",
    "        mjd_tend=data[timelabel][len(data)-1]+20\n",
    "\n",
    "        N=int((mjd_tend-mjd_t0)//interval+1)\n",
    "        #print(N)\n",
    "\n",
    "        time_interval=np.linspace(mjd_t0,interval*N+mjd_t0,N+1)\n",
    "        #print(time_interval)\n",
    "\n",
    "        for index,i in enumerate(time_interval):\n",
    "            if index < N:\n",
    "                data_select=data[data[timelabel]>=time_interval[index]]\n",
    "                data_select=data_select[data_select[timelabel]<time_interval[index+1]]\n",
    "                data_select=drop_index(data_select)\n",
    "                \n",
    "                if len(data_select)>2:\n",
    "                    #mean_mjd=np.mean(data_select[timelabel])\n",
    "                    mags=data_select[maglabel]\n",
    "                    e_mags=data_select[e_maglabel]               \n",
    "                    mean_mag=get_mag_weighted_mean_mag(mags,e_mags)\n",
    "                    mag_weighted_mean_e_mag=get_mag_weighted_mean_e_mag(mags,e_mags)\n",
    "                    #mean_mag_e=np.mean(data_select[e_maglabel])\n",
    "\n",
    "                    '''data_remove_outlier=data_select[abs(data_select[maglabel]-mean_mag)<=sigma_outlier*mag_weighted_mean_e_mag]                   \n",
    "                    data_remove_outlier=drop_index(data_remove_outlier) \n",
    "                    data_remove=data_remove.append(data_remove_outlier,ignore_index=True)  '''                 \n",
    "         \n",
    "        \n",
    "                                    \n",
    "                    data_out=data_select[abs(data_select[maglabel]-mean_mag)>sigma_outlier*mag_weighted_mean_e_mag]\n",
    "                    data_out=drop_index(data_out)\n",
    "                    data_outlier=data_outlier.append(data_out,ignore_index=True)\n",
    "                                  \n",
    "    #data_outlier=data_outlier.sort_values(timelabel)\n",
    "    #data_outlier=drop_index(data_outlier)   \n",
    "    return data_outlier#,data_outlier                   \n",
    "                    \n",
    "    "
   ]
  },
  {
   "cell_type": "code",
   "execution_count": null,
   "metadata": {},
   "outputs": [],
   "source": []
  },
  {
   "cell_type": "markdown",
   "metadata": {},
   "source": [
    "data_test_neo,data_test_mep"
   ]
  },
  {
   "cell_type": "code",
   "execution_count": null,
   "metadata": {},
   "outputs": [],
   "source": []
  },
  {
   "cell_type": "markdown",
   "metadata": {},
   "source": [
    "## def get_remove_neo_mep(data_test_neo,data_test_mep):\n"
   ]
  },
  {
   "cell_type": "markdown",
   "metadata": {
    "ExecuteTime": {
     "end_time": "2022-06-16T03:34:14.834324Z",
     "start_time": "2022-06-16T03:34:14.827582Z"
    }
   },
   "source": [
    "data_test_neo.columns,len(data_test_neo)"
   ]
  },
  {
   "cell_type": "markdown",
   "metadata": {
    "ExecuteTime": {
     "end_time": "2022-06-16T03:34:15.365424Z",
     "start_time": "2022-06-16T03:34:15.286124Z"
    }
   },
   "source": [
    "timelabel,maglabel,e_maglabel=('mjd','w1mpro','w1sigmpro')\n",
    "data_test_neo_remove=get_outlier_remove_data(data_test_neo,timelabel,maglabel,e_maglabel,interval=180,sigma_outlier=5)\n",
    "timelabel,maglabel,e_maglabel=('mjd','w2mpro','w2sigmpro')\n",
    "data_test_neo_remove=get_outlier_remove_data(data_test_neo_remove,timelabel,maglabel,e_maglabel,interval=180,sigma_outlier=5)\n"
   ]
  },
  {
   "cell_type": "code",
   "execution_count": 20,
   "metadata": {
    "ExecuteTime": {
     "end_time": "2023-12-03T12:42:32.485923Z",
     "start_time": "2023-12-03T12:42:32.474579Z"
    }
   },
   "outputs": [],
   "source": [
    "def get_remove_neo_mep(data_test_neo,data_test_mep):\n",
    "    #neo\n",
    "    if len(data_test_neo)>0:\n",
    "        timelabel,maglabel,e_maglabel=('mjd','w1mpro','w1sigmpro')\n",
    "        data_test_neo_remove=get_outlier_remove_data(data_test_neo,timelabel,maglabel,e_maglabel,interval=180,sigma_outlier=10)\n",
    "        timelabel,maglabel,e_maglabel=('mjd','w2mpro','w2sigmpro')\n",
    "        data_test_neo_remove=get_outlier_remove_data(data_test_neo_remove,timelabel,maglabel,e_maglabel,interval=180,sigma_outlier=10)\n",
    "    else:\n",
    "        data_test_neo_remove=[]\n",
    "        \n",
    "    #mep\n",
    "    if len(data_test_mep)>0:\n",
    "        timelabel,maglabel,e_maglabel=('mjd','w1mpro_ep','w1sigmpro_ep')\n",
    "        data_test_mep_remove=get_outlier_remove_data(data_test_mep,timelabel,maglabel,e_maglabel,interval=180,sigma_outlier=10)\n",
    "        timelabel,maglabel,e_maglabel=('mjd','w2mpro_ep','w2sigmpro_ep')\n",
    "        data_test_mep_remove=get_outlier_remove_data(data_test_mep_remove,timelabel,maglabel,e_maglabel,interval=180,sigma_outlier=10)\n",
    "    else:\n",
    "        data_test_mep_remove=[]\n",
    "    return data_test_neo_remove,data_test_mep_remove"
   ]
  },
  {
   "cell_type": "code",
   "execution_count": 21,
   "metadata": {
    "ExecuteTime": {
     "end_time": "2023-12-03T12:42:32.811908Z",
     "start_time": "2023-12-03T12:42:32.801354Z"
    }
   },
   "outputs": [],
   "source": [
    "def get_outlier_neo_mep(data_test_neo,data_test_mep):\n",
    "    #neo\n",
    "    if len(data_test_neo)>0:    \n",
    "        timelabel,maglabel,e_maglabel=('mjd','w1mpro','w1sigmpro')\n",
    "        data_test_neo_outiler=get_outlier_data(data_test_neo,timelabel,maglabel,e_maglabel,interval=180,sigma_outlier=10)\n",
    "        timelabel,maglabel,e_maglabel=('mjd','w2mpro','w2sigmpro')\n",
    "        data_test_neo_outiler=get_outlier_data(data_test_neo_outiler,timelabel,maglabel,e_maglabel,interval=180,sigma_outlier=10)\n",
    "    else:\n",
    "        data_test_neo_outiler=[]\n",
    "    #mep\n",
    "    if len(data_test_mep)>0:    \n",
    "        timelabel,maglabel,e_maglabel=('mjd','w1mpro_ep','w1sigmpro_ep')\n",
    "        data_test_mep_outiler=get_outlier_data(data_test_mep,timelabel,maglabel,e_maglabel,interval=180,sigma_outlier=10)\n",
    "        timelabel,maglabel,e_maglabel=('mjd','w2mpro_ep','w2sigmpro_ep')\n",
    "        data_test_mep_outiler=get_outlier_data(data_test_mep_outiler,timelabel,maglabel,e_maglabel,interval=180,sigma_outlier=10)\n",
    "    else:\n",
    "        data_test_mep_outiler=[]\n",
    "    return data_test_neo_outiler,data_test_mep_outiler"
   ]
  },
  {
   "cell_type": "code",
   "execution_count": null,
   "metadata": {},
   "outputs": [],
   "source": []
  },
  {
   "cell_type": "code",
   "execution_count": null,
   "metadata": {},
   "outputs": [],
   "source": []
  },
  {
   "cell_type": "markdown",
   "metadata": {},
   "source": [
    "## plot_outlier_median_lc"
   ]
  },
  {
   "cell_type": "code",
   "execution_count": 22,
   "metadata": {
    "ExecuteTime": {
     "end_time": "2023-12-03T12:42:34.006980Z",
     "start_time": "2023-12-03T12:42:33.987451Z"
    }
   },
   "outputs": [],
   "source": [
    "def plot_outlier_median_lc(ax,data,timelabel,maglabel,e_maglabel,interval=180,sigma_outlier=10):\n",
    "    #data=data.sort_values(timelabel)\n",
    "    data=drop_index(data)\n",
    "    mean_mjds=[]\n",
    "    mean_mags=[]\n",
    "    mean_mags_e=[]\n",
    "    if len(data)>2:\n",
    "        mjd_t0=data[timelabel][0]-20\n",
    "        mjd_tend=data[timelabel][len(data)-1]+20\n",
    "\n",
    "        N=int((mjd_tend-mjd_t0)//interval+1)\n",
    "        #print(N)\n",
    "\n",
    "        time_interval=np.linspace(mjd_t0,interval*N+mjd_t0,N+1)\n",
    "        #print(time_interval)\n",
    "\n",
    "        for index,i in enumerate(time_interval):\n",
    "            if index < N:\n",
    "                data_select=data[data[timelabel]>=time_interval[index]]\n",
    "                data_select=data_select[data_select[timelabel]<time_interval[index+1]]\n",
    "                data_select=drop_index(data_select)\n",
    "\n",
    "                if len(data_select)>2:\n",
    "                    #mean_mjd=np.mean(data_select[timelabel])\n",
    "                    mags=data_select[maglabel]\n",
    "                    e_mags=data_select[e_maglabel]               \n",
    "                    mean_mag=get_mag_weighted_mean_mag(mags,e_mags)\n",
    "                    mag_weighted_mean_e_mag=get_mag_weighted_mean_e_mag(mags,e_mags)\n",
    "                    #mean_mag_e=np.mean(data_select[e_maglabel])\n",
    "\n",
    "                    data_select_outlier=data_select[abs(data_select[maglabel]-mean_mag)>=sigma_outlier*mag_weighted_mean_e_mag]\n",
    "                    data_select_outlier=drop_index(data_select_outlier)  \n",
    "                    if len(data_select_outlier)>0:\n",
    "                        ax.scatter(data_select_outlier[timelabel],data_select_outlier[maglabel],\n",
    "                               color='red',zorder=3,s=6)\n"
   ]
  },
  {
   "cell_type": "markdown",
   "metadata": {},
   "source": [
    "## def plot_outliers"
   ]
  },
  {
   "cell_type": "markdown",
   "metadata": {
    "ExecuteTime": {
     "end_time": "2022-06-16T04:21:06.238056Z",
     "start_time": "2022-06-16T04:21:06.232219Z"
    }
   },
   "source": [
    "def plot_outliers_w1(ax,data_test_neo,data_test_mep,sigma_outlier=5):\n",
    "    timelabel,maglabel,e_maglabel=('mjd','w1mpro','w1sigmpro')\n",
    "    plot_outlier_median_lc(ax,data_test_neo,timelabel,maglabel,e_maglabel,interval=180,sigma_outlier=sigma_outlier)\n",
    "\n",
    "    timelabel,maglabel,e_maglabel=('mjd','w1mpro_ep','w1sigmpro_ep')\n",
    "    plot_outlier_median_lc(ax,data_test_mep,timelabel,maglabel,e_maglabel,interval=180,sigma_outlier=sigma_outlier)\n",
    "\n",
    "    #return data_test_neo_w1_outlier,data_test_neo_w2_outlier,data_test_mep_w1_outlier,data_test_mep_w2_outlier\n",
    "\n",
    "def plot_outliers_w2(ax,data_test_neo,data_test_mep,sigma_outlier=5):\n",
    "    timelabel,maglabel,e_maglabel=('mjd','w2mpro','w2sigmpro')\n",
    "    plot_outlier_median_lc(ax,data_test_neo,timelabel,maglabel,e_maglabel,interval=180,sigma_outlier=sigma_outlier)\n",
    "\n",
    "    timelabel,maglabel,e_maglabel=('mjd','w2mpro_ep','w2sigmpro_ep')\n",
    "    plot_outlier_median_lc(ax,data_test_mep,timelabel,maglabel,e_maglabel,interval=180,sigma_outlier=sigma_outlier)"
   ]
  },
  {
   "cell_type": "code",
   "execution_count": null,
   "metadata": {
    "ExecuteTime": {
     "end_time": "2023-10-19T11:25:22.029849Z",
     "start_time": "2023-10-19T11:25:22.022694Z"
    }
   },
   "outputs": [],
   "source": [
    "print()"
   ]
  },
  {
   "cell_type": "markdown",
   "metadata": {},
   "source": [
    "## def get_wise_data"
   ]
  },
  {
   "cell_type": "markdown",
   "metadata": {
    "ExecuteTime": {
     "end_time": "2023-06-18T11:39:42.577983Z",
     "start_time": "2023-06-18T11:39:42.569820Z"
    }
   },
   "source": [
    "a = None\n",
    "if a:\n",
    "    print(1)\n",
    "else:\n",
    "    print(2)"
   ]
  },
  {
   "cell_type": "code",
   "execution_count": null,
   "metadata": {},
   "outputs": [],
   "source": []
  },
  {
   "cell_type": "code",
   "execution_count": 23,
   "metadata": {
    "ExecuteTime": {
     "end_time": "2023-12-03T12:42:36.908849Z",
     "start_time": "2023-12-03T12:42:36.888541Z"
    }
   },
   "outputs": [],
   "source": [
    "def get_wise_data(name_test,datawise_dir=CLAGN_wisedata_dir):\n",
    "    #print(name_test)\n",
    "    search_name=name_test.replace(' ','') \n",
    "    save_name=search_name.strip()\n",
    "    if os.path.exists(os.path.join(datawise_dir,'wise_%s_neo.csv'%save_name)):\n",
    "        data_test_neo=pd.read_csv(os.path.join(datawise_dir,'wise_%s_neo.csv'%save_name))\n",
    "        data_test_neo=data_test_neo[data_test_neo['w1mpro'].notnull()]\n",
    "        data_test_neo=data_test_neo[data_test_neo['w2mpro'].notnull()]\n",
    "        data_test_neo=data_test_neo[data_test_neo['w1sigmpro'].notnull()]\n",
    "        data_test_neo=data_test_neo[data_test_neo['w2sigmpro'].notnull()]\n",
    "        data_test_neo['W1-W2']=data_test_neo['w1mpro']-data_test_neo['w2mpro']\n",
    "        #data_test_neo=data_test_neo[data_test_neo['w1mpro']<15]\n",
    "        #data_test_neo=data_test_neo[data_test_neo['w2mpro']<13]  \n",
    "        #data_test_neo=data_test_neo[data_test_neo['w1rchi2']<2]\n",
    "        #data_test_neo=data_test_neo[data_test_neo['w2rchi2']<2]\n",
    "        #data_test_neo=data_test_neo[data_test_neo['cc_flags']==\"b'0000'\"]\n",
    "        #data_test_neo=data_test_neo[data_test_neo['nb']<3]\n",
    "        #data_test_neo=data_test_neo[data_test_neo['na']==0] \n",
    "        #data_test_neo=data_test_neo[data_test_neo['w1snr']>10] \n",
    "        #data_test_neo=data_test_neo[data_test_neo['w2snr']>10] \n",
    "\n",
    "        data_test_neo=data_test_neo[data_test_neo['qual_frame']>0]\n",
    "        #print(len(data_test_neo))\n",
    "        data_test_neo=(data_test_neo.loc[:, ['mjd', 'w1mpro','w2mpro',\n",
    "                                     'w1sigmpro','w2sigmpro','W1-W2',\n",
    "                                     ]].sort_values('mjd'))\n",
    "\n",
    "        data_test_neo=data_test_neo.reset_index(drop=True)\n",
    "    #print(data_test_neo.columns)\n",
    "     \n",
    "    else:\n",
    "        data_test_neo=[]\n",
    "    if os.path.exists(os.path.join(datawise_dir,'wise_%s_mep.csv'%save_name)):\n",
    "        \n",
    "        data_test_mep=pd.read_csv(os.path.join(datawise_dir,'wise_%s_mep.csv'%save_name))\n",
    "        data_test_mep=data_test_mep[data_test_mep['w1mpro_ep'].notnull()]\n",
    "        data_test_mep=data_test_mep[data_test_mep['w2mpro_ep'].notnull()]\n",
    "        data_test_mep=data_test_mep[data_test_mep['w1sigmpro_ep'].notnull()]\n",
    "        data_test_mep=data_test_mep[data_test_mep['w2sigmpro_ep'].notnull()]\n",
    "        data_test_mep['W1-W2']=data_test_mep['w1mpro_ep']-data_test_mep['w2mpro_ep']\n",
    "        \n",
    "        #data_test_mep=data_test_mep[data_test_mep['qual_frame']>0]\n",
    "        data_test_mep=data_test_mep[data_test_mep['qi_fact']>0]\n",
    "        data_test_mep=data_test_mep[data_test_mep['saa_sep']>0]\n",
    "        #data_test_mep=data_test_mep[data_test_mep['cc_flags']==\"b'0000'\"]\n",
    "        #data_test_mep=data_test_mep[data_test_mep['nb']<3]\n",
    "        #data_test_mep=data_test_mep[data_test_mep['na']==0] \n",
    "\n",
    "        #print(len(data_test_mep))\n",
    "        data_test_mep=(data_test_mep.loc[:, ['mjd', 'w1mpro_ep','w2mpro_ep',\n",
    "                                             'w1sigmpro_ep','w2sigmpro_ep',\n",
    "                                             'W1-W2',\n",
    "                                             ]].sort_values('mjd'))\n",
    "\n",
    "        data_test_mep=data_test_mep.reset_index(drop=True)\n",
    "    #print(data_test_mep.columns)\n",
    "    #if not os.path.exists(save_lc_img_path):\n",
    "    else:\n",
    "        data_test_mep=[]\n",
    "    return data_test_neo,data_test_mep\n",
    "    "
   ]
  },
  {
   "cell_type": "code",
   "execution_count": 24,
   "metadata": {
    "ExecuteTime": {
     "end_time": "2023-12-03T12:42:37.285488Z",
     "start_time": "2023-12-03T12:42:37.277850Z"
    }
   },
   "outputs": [],
   "source": [
    "def get_M1minM2_data(data_test_neo,data_test_mep,neo_maglabel_1='w1mpro',neo_maglabel_2='w2mpro',\\\n",
    "                     mep_maglabel_1='w1mpro_ep',mep_maglabel_2='w2mpro_ep'):\n",
    "    \n",
    "    data_test_neo['delta_M']=data_test_neo[neo_maglabel_1]-data_test_neo[neo_maglabel_2]\n",
    "    data_test_mep['delta_M']=data_test_mep[neo_maglabel_1]-data_test_mep[neo_maglabel_2]\n",
    "    \n",
    "    \n",
    "    return data_test_neo['mjd','delta_M'],data_test_mep['mjd','delta_M']\n",
    "    "
   ]
  },
  {
   "cell_type": "code",
   "execution_count": null,
   "metadata": {},
   "outputs": [],
   "source": []
  },
  {
   "cell_type": "code",
   "execution_count": null,
   "metadata": {},
   "outputs": [],
   "source": []
  },
  {
   "cell_type": "code",
   "execution_count": null,
   "metadata": {},
   "outputs": [],
   "source": []
  },
  {
   "cell_type": "code",
   "execution_count": null,
   "metadata": {},
   "outputs": [],
   "source": []
  },
  {
   "cell_type": "markdown",
   "metadata": {},
   "source": [
    "## def get_wise_<font color=red>RADEC</font>_data "
   ]
  },
  {
   "cell_type": "code",
   "execution_count": 25,
   "metadata": {
    "ExecuteTime": {
     "end_time": "2023-12-03T12:42:39.683502Z",
     "start_time": "2023-12-03T12:42:39.663066Z"
    }
   },
   "outputs": [],
   "source": [
    "def get_wise_radec_data(radeg,decdeg,datawise_dir=CLAGN_wisedata_dir):\n",
    "    #print(name_test)\n",
    "    save_name='RA%.5f_DEC%.5f'%(radeg,decdeg)\n",
    "    #name=save_name\n",
    "\n",
    "    data_test_neo=pd.read_csv(os.path.join(datawise_dir,'wise_%s_neo.csv'%save_name))\n",
    "    data_test_neo=data_test_neo[data_test_neo['w1mpro'].notnull()]\n",
    "    data_test_neo=data_test_neo[data_test_neo['w2mpro'].notnull()]\n",
    "    data_test_neo=data_test_neo[data_test_neo['w1sigmpro'].notnull()]\n",
    "    data_test_neo=data_test_neo[data_test_neo['w2sigmpro'].notnull()]\n",
    "    data_test_neo['W1-W2']=data_test_neo['w1mpro']-data_test_neo['w2mpro']\n",
    "    #data_test_neo=data_test_neo[data_test_neo['w1mpro']<15]\n",
    "    #data_test_neo=data_test_neo[data_test_neo['w2mpro']<13]  \n",
    "    #data_test_neo=data_test_neo[data_test_neo['w1rchi2']<2]\n",
    "    #data_test_neo=data_test_neo[data_test_neo['w2rchi2']<2]\n",
    "    #data_test_neo=data_test_neo[data_test_neo['cc_flags']==\"b'0000'\"]\n",
    "    #data_test_neo=data_test_neo[data_test_neo['cc_flags']=='0000']\n",
    "    #data_test_neo=data_test_neo[data_test_neo['nb']<3]\n",
    "    #data_test_neo=data_test_neo[data_test_neo['na']==0] \n",
    "    data_test_neo=data_test_neo[data_test_neo['w1snr']>3] \n",
    "    data_test_neo=data_test_neo[data_test_neo['w2snr']>3]     \n",
    "    #data_test_neo=data_test_neo[data_test_neo['qual_frame']>0]\n",
    "    \n",
    "    #print(len(data_test_neo))\n",
    "    data_test_neo=(data_test_neo.loc[:, ['mjd', 'w1mpro','w2mpro',\n",
    "                                 'w1sigmpro','w2sigmpro','W1-W2',\n",
    "                                 ]].sort_values('mjd'))\n",
    "\n",
    "    data_test_neo=data_test_neo.reset_index(drop=True)\n",
    "    #print(data_test_neo.columns)\n",
    "\n",
    "    data_test_mep=pd.read_csv(os.path.join(datawise_dir,'wise_%s_mep.csv'%save_name))\n",
    "    data_test_mep=data_test_mep[data_test_mep['w1mpro_ep'].notnull()]\n",
    "    data_test_mep=data_test_mep[data_test_mep['w2mpro_ep'].notnull()]\n",
    "    data_test_mep=data_test_mep[data_test_mep['w1sigmpro_ep'].notnull()]\n",
    "    data_test_mep=data_test_mep[data_test_mep['w2sigmpro_ep'].notnull()]\n",
    "    data_test_mep['W1-W2']=data_test_mep['w1mpro_ep']-data_test_mep['w2mpro_ep']\n",
    "       \n",
    "    #data_test_mep=data_test_mep[data_test_mep['qual_frame']>5]\n",
    "    data_test_mep=data_test_mep[data_test_mep['qi_fact']>0]\n",
    "    data_test_mep=data_test_mep[data_test_mep['saa_sep']>0]\n",
    "    #data_test_mep=data_test_mep[data_test_mep['cc_flags']==\"b'0000'\"]\n",
    "    #data_test_mep=data_test_mep[data_test_mep['cc_flags']==0]\n",
    "    #data_test_mep=data_test_mep[data_test_mep['nb']<3]\n",
    "    #data_test_mep=data_test_mep[data_test_mep['na']==0] \n",
    "\n",
    "    #print(len(data_test_mep))\n",
    "    data_test_mep=(data_test_mep.loc[:, ['mjd', 'w1mpro_ep','w2mpro_ep',\n",
    "                                         'w1sigmpro_ep','w2sigmpro_ep',\n",
    "                                         'W1-W2',\n",
    "                                         ]].sort_values('mjd'))\n",
    "\n",
    "    data_test_mep=data_test_mep.reset_index(drop=True)\n",
    "    #print(data_test_mep.columns)\n",
    "    #if not os.path.exists(save_lc_img_path):\n",
    "      \n",
    "    return data_test_neo,data_test_mep\n",
    "    "
   ]
  },
  {
   "cell_type": "code",
   "execution_count": null,
   "metadata": {},
   "outputs": [],
   "source": []
  },
  {
   "cell_type": "code",
   "execution_count": null,
   "metadata": {},
   "outputs": [],
   "source": []
  },
  {
   "cell_type": "code",
   "execution_count": null,
   "metadata": {},
   "outputs": [],
   "source": []
  },
  {
   "cell_type": "markdown",
   "metadata": {},
   "source": [
    "## def get_intrinsic_var"
   ]
  },
  {
   "cell_type": "code",
   "execution_count": 26,
   "metadata": {
    "ExecuteTime": {
     "end_time": "2023-12-03T12:42:41.702158Z",
     "start_time": "2023-12-03T12:42:41.691566Z"
    }
   },
   "outputs": [],
   "source": [
    "epsilon_s_w1=0.024\n",
    "epsilon_s_w2=0.028\n",
    "\n",
    "def get_intrinsic_var(data,mag_label,magerr_label,epsilon_s):\n",
    "    \n",
    "    mags=data[mag_label]\n",
    "    e_mags=data[magerr_label]\n",
    "    \n",
    "    mag_weighted_mean_mag = get_mag_weighted_mean_mag(mags,e_mags)    \n",
    "    mag_weighted_mean_e_mag_= get_mag_weighted_mean_e_mag(mags,e_mags)\n",
    "    mag_mean=mag_weighted_mean_mag\n",
    "    \n",
    "    length_N=len(data[mag_label])\n",
    "    epsilon_square=np.average(data[magerr_label]**2)+epsilon_s**2\n",
    "    Sigma_square=np.sum((data[mag_label]-mag_mean)**2)/(length_N-1)\n",
    "    \n",
    "    if Sigma_square>epsilon_square:\n",
    "        sigma_m=np.sqrt(Sigma_square-epsilon_square)\n",
    "    else:\n",
    "        sigma_m=0\n",
    "    \n",
    "    if length_N<2:\n",
    "        sigma_m=-1#print(length_N)\n",
    "    return sigma_m"
   ]
  },
  {
   "cell_type": "markdown",
   "metadata": {},
   "source": [
    "## def get_intrinsic_var_rebin"
   ]
  },
  {
   "cell_type": "code",
   "execution_count": 27,
   "metadata": {
    "ExecuteTime": {
     "end_time": "2023-12-03T12:42:43.416097Z",
     "start_time": "2023-12-03T12:42:43.402935Z"
    }
   },
   "outputs": [],
   "source": [
    "def get_intrinsic_var_rebin(data_rebin_neo,data_rebin_mep,epsilon_s):\n",
    "    \n",
    "    mags=data[mag_label]\n",
    "    e_mags=data[magerr_label]\n",
    "    \n",
    "    mag_weighted_mean_mag = get_mag_weighted_mean_mag(mags,e_mags)    \n",
    "    mag_weighted_mean_e_mag_= get_mag_weighted_mean_e_mag(mags,e_mags)\n",
    "    mag_mean=mag_weighted_mean_mag\n",
    "    \n",
    "    length_N=len(mags)\n",
    "    epsilon_square=np.average(data[magerr_label]**2)+epsilon_s**2\n",
    "    Sigma_square=np.sum((data[mag_label]-mag_mean)**2)/(length_N-1)\n",
    "    \n",
    "    if Sigma_square>epsilon_square:\n",
    "        sigma_m=np.sqrt(Sigma_square-epsilon_square)\n",
    "    else:\n",
    "        sigma_m=0\n",
    "    \n",
    "    if length_N<2:\n",
    "        sigma_m=-1#print(length_N)\n",
    "        \n",
    "    return sigma_m"
   ]
  },
  {
   "cell_type": "code",
   "execution_count": null,
   "metadata": {},
   "outputs": [],
   "source": []
  },
  {
   "cell_type": "code",
   "execution_count": null,
   "metadata": {},
   "outputs": [],
   "source": []
  },
  {
   "cell_type": "markdown",
   "metadata": {},
   "source": [
    "## def get_minmax_mag_name_one"
   ]
  },
  {
   "cell_type": "markdown",
   "metadata": {},
   "source": [
    "## def get_<font color=red>$\\Delta M$_radec</font>"
   ]
  },
  {
   "cell_type": "code",
   "execution_count": 28,
   "metadata": {
    "ExecuteTime": {
     "end_time": "2023-12-03T12:42:46.782055Z",
     "start_time": "2023-12-03T12:42:46.772706Z"
    }
   },
   "outputs": [],
   "source": [
    "def get_minmax_mag_name_one(data_test_neo,data_test_mep):    \n",
    "    maxmag=0\n",
    "    minmag=20\n",
    "    maxmag_var=0 \n",
    "    \n",
    "    if len(data_test_neo)>20:    \n",
    "        mean_mjds_neo,mean_mags_neo,mean_mags_e_neo=median_lc(data_test_neo,'mjd','w1mpro','w1sigmpro',interval=180,)\n",
    "        maxmag=max(max(mean_mags_neo),maxmag)  \n",
    "        minmag=min(min(mean_mags_neo),minmag)  \n",
    "    \n",
    "    if len(data_test_mep)>20: \n",
    "        mean_mjds_mep,mean_mags_mep,mean_mags_e_mep=median_lc(data_test_mep,'mjd','w1mpro_ep','w1sigmpro_ep',interval=180,)\n",
    "        maxmag=max(max(mean_mags_mep),maxmag)  \n",
    "        minmag=min(min(mean_mags_mep),minmag) \n",
    "        \n",
    "    maxmag_var=maxmag-minmag\n",
    "    return maxmag_var   "
   ]
  },
  {
   "cell_type": "markdown",
   "metadata": {},
   "source": [
    "## def Wmag_to_Lum"
   ]
  },
  {
   "cell_type": "code",
   "execution_count": 29,
   "metadata": {
    "ExecuteTime": {
     "end_time": "2023-12-03T12:42:48.714995Z",
     "start_time": "2023-12-03T12:42:48.702204Z"
    }
   },
   "outputs": [],
   "source": [
    "def W1mag_to_Lum(w1,d_cm):\n",
    "    Lum=(-48.6-w1-2.699)/2.5+np.log10(4*np.pi*d_cm**2)+np.log10((constants.c/(3.4*u.um)).to(u.Hz).value)\n",
    "    return Lum #logLum\n",
    "\n",
    "def W2mag_to_Lum(w2,d_cm):\n",
    "    Lum=(-48.6-w2-3.339)/2.5+np.log10(4*np.pi*d_cm**2)+np.log10((constants.c/(4.6*u.um)).to(u.Hz).value)\n",
    "    return Lum #logLum\n",
    " \n",
    "\n",
    "def W3mag_to_Lum(w3,d_cm):\n",
    "    Lum=(-48.6-w3-5.174)/2.5+np.log10(4*np.pi*d_cm**2)+np.log10((constants.c/(12*u.um)).to(u.Hz).value)\n",
    "    return Lum #logLum\n",
    "\n",
    "def W4mag_to_Lum(w4,d_cm):\n",
    "    Lum=(-48.6-w4-6.620)/2.5+np.log10(4*np.pi*d_cm**2)+np.log10((constants.c/(22*u.um)).to(u.Hz).value)\n",
    "    return Lum #logLum"
   ]
  },
  {
   "cell_type": "code",
   "execution_count": null,
   "metadata": {},
   "outputs": [],
   "source": []
  },
  {
   "cell_type": "code",
   "execution_count": null,
   "metadata": {},
   "outputs": [],
   "source": []
  },
  {
   "cell_type": "markdown",
   "metadata": {},
   "source": [
    "## get_rebinwise_data"
   ]
  },
  {
   "cell_type": "code",
   "execution_count": 30,
   "metadata": {
    "ExecuteTime": {
     "end_time": "2023-12-03T12:42:50.636659Z",
     "start_time": "2023-12-03T12:42:50.613094Z"
    }
   },
   "outputs": [],
   "source": [
    "def get_rebinwise_data(data_test_neo,data_test_mep,sigma_outlier=100):\n",
    "    #print(name_test)\n",
    "    #search_name=name_test.replace(' ','') \n",
    "    #save_name=search_name.strip()\n",
    "    \n",
    "    \n",
    "    data_rebin_neo=pd.DataFrame([])\n",
    "    data_rebin_mep=pd.DataFrame([])\n",
    "    \n",
    "    timelabel,maglabel,e_maglabel=('mjd','w1mpro','w1sigmpro')\n",
    "    band='W1'\n",
    "    mean_mjds,mean_mags,mean_mags_e=median_lc(data_test_neo,timelabel,maglabel,e_maglabel,interval=180,sigma_outlier=sigma_outlier)\n",
    "\n",
    "    data_rebin_neo['t_W1']=mean_mjds\n",
    "    data_rebin_neo['W1']=mean_mags\n",
    "    data_rebin_neo['e_W1']=mean_mags_e\n",
    "    \n",
    "    timelabel,maglabel,e_maglabel=('mjd','w2mpro','w2sigmpro')\n",
    "    band='W2' \n",
    "    mean_mjds,mean_mags,mean_mags_e=median_lc(data_test_neo,timelabel,maglabel,e_maglabel,interval=180,sigma_outlier=sigma_outlier)\n",
    "    \n",
    "    data_rebin_neo['t_W2']=mean_mjds\n",
    "    data_rebin_neo['W2']=mean_mags\n",
    "    data_rebin_neo['e_W2']=mean_mags_e\n",
    "    \n",
    "#############################################################\n",
    "    timelabel,maglabel,e_maglabel=('mjd','w1mpro_ep','w1sigmpro_ep')\n",
    "    band='W1'\n",
    "    mean_mjds,mean_mags,mean_mags_e=median_lc(data_test_mep,timelabel,maglabel,e_maglabel,interval=180,sigma_outlier=sigma_outlier)\n",
    "\n",
    "    data_rebin_mep['t_W1']=mean_mjds\n",
    "    data_rebin_mep['W1']=mean_mags\n",
    "    data_rebin_mep['e_W1']=mean_mags_e\n",
    "    \n",
    "    timelabel,maglabel,e_maglabel=('mjd','w2mpro_ep','w2sigmpro_ep')\n",
    "    band='W2' \n",
    "    mean_mjds,mean_mags,mean_mags_e=median_lc(data_test_mep,timelabel,maglabel,e_maglabel,interval=180,sigma_outlier=sigma_outlier)\n",
    "    \n",
    "    data_rebin_mep['t_W2']=mean_mjds\n",
    "    data_rebin_mep['W2']=mean_mags\n",
    "    data_rebin_mep['e_W2']=mean_mags_e\n",
    "        \n",
    "        \n",
    "    return data_rebin_neo,data_rebin_mep\n",
    "    "
   ]
  },
  {
   "cell_type": "code",
   "execution_count": null,
   "metadata": {},
   "outputs": [],
   "source": []
  },
  {
   "cell_type": "markdown",
   "metadata": {
    "ExecuteTime": {
     "end_time": "2023-09-27T05:20:27.889328Z",
     "start_time": "2023-09-27T05:20:27.583410Z"
    }
   },
   "source": [
    "data_rebin_neo,data_rebin_mep"
   ]
  },
  {
   "cell_type": "code",
   "execution_count": null,
   "metadata": {
    "ExecuteTime": {
     "end_time": "2023-10-19T11:25:36.878481Z",
     "start_time": "2023-10-19T11:25:36.868271Z"
    }
   },
   "outputs": [],
   "source": [
    "save_lc_img_dir"
   ]
  },
  {
   "cell_type": "markdown",
   "metadata": {},
   "source": [
    "## def plot_mag "
   ]
  },
  {
   "cell_type": "code",
   "execution_count": null,
   "metadata": {},
   "outputs": [],
   "source": []
  },
  {
   "cell_type": "code",
   "execution_count": 31,
   "metadata": {
    "ExecuteTime": {
     "end_time": "2023-12-03T12:42:53.113462Z",
     "start_time": "2023-12-03T12:42:53.094673Z"
    }
   },
   "outputs": [],
   "source": [
    "def plot_mag_w1(ax,data_test_neo,data_test_mep):\n",
    "    if len(data_test_neo)>0:\n",
    "        ax.errorbar(data_test_neo['mjd'],data_test_neo['w1mpro'],data_test_neo['w1sigmpro'],\n",
    "                    fillstyle=\"none\",\n",
    "                    ls='',marker='o',color='red',label='W1',zorder=0)\n",
    "    if len(data_test_mep)>0:    \n",
    "        ax.errorbar(data_test_mep['mjd'],data_test_mep['w1mpro_ep'],data_test_mep['w1sigmpro_ep'],\n",
    "                    fillstyle=\"none\",\n",
    "                    ls='',marker='o',color='red',label='W1',zorder=0)\n",
    "    #ax.scatter(data_test_neo_w1_outlier['mjd'],data_test_neo_w1_outlier['w1mpro'],marker='.',color='red',zorder=1)\n",
    "    #ax.scatter(data_test_mep_w1_outlier['mjd'],data_test_mep_w1_outlier['w1mpro_ep'],marker='.',color='red',zorder=1)\n",
    "\n",
    "def plot_mag_w2(ax,data_test_neo,data_test_mep):\n",
    "    if len(data_test_neo)>0:\n",
    "        ax.errorbar(data_test_neo['mjd'],data_test_neo['w2mpro'],data_test_neo['w2sigmpro'],\n",
    "                    fillstyle=\"none\",\n",
    "                    ls='',marker='o',color='blue',label='W2',zorder=0)\n",
    "    if len(data_test_mep)>0:\n",
    "        ax.errorbar(data_test_mep['mjd'],data_test_mep['w2mpro_ep'],data_test_mep['w2sigmpro_ep'],\n",
    "                    fillstyle=\"none\",\n",
    "                    ls='',marker='o',color='blue',label='W2',zorder=0)\n",
    "    #ax.scatter(data_test_neo_w2_outlier['mjd'],data_test_neo_w2_outlier['w2mpro'],marker='.',color='red',zorder=1)\n",
    "    #ax.scatter(data_test_mep_w2_outlier['mjd'],data_test_mep_w2_outlier['w2mpro_ep'],marker='.',color='red',zorder=1)\n",
    "    \n",
    "def plot_rebinmag_w1(ax,data_rebin_neo,data_rebin_mep):\n",
    "    if len(data_rebin_neo)>0:\n",
    "        ax.errorbar(data_rebin_neo['t_W1'],data_rebin_neo['W1'],data_rebin_neo['e_W1'],\n",
    "                    ls='',marker='^',color='red',label='W1',zorder=2)\n",
    "    if len(data_rebin_mep)>0:\n",
    "        ax.errorbar(data_rebin_mep['t_W1'],data_rebin_mep['W1'],data_rebin_mep['e_W1'],\n",
    "                    ls='',marker='^',color='red',label='W1',zorder=2)\n",
    "\n",
    "def plot_rebinmag_w2(ax,data_rebin_neo,data_rebin_mep):  \n",
    "    if len(data_rebin_neo)>0:\n",
    "        ax.errorbar(data_rebin_neo['t_W2'],data_rebin_neo['W2'],data_rebin_neo['e_W2'],\n",
    "                    ls='',marker='+',color='blue',label='W2',zorder=2)\n",
    "    if len(data_rebin_mep)>0:\n",
    "        ax.errorbar(data_rebin_mep['t_W2'],data_rebin_mep['W2'],data_rebin_mep['e_W2'],\n",
    "                    ls='',marker='+',color='blue',label='W2',zorder=2)\n"
   ]
  },
  {
   "cell_type": "markdown",
   "metadata": {},
   "source": [
    "## def plot_mag_w1_filled"
   ]
  },
  {
   "cell_type": "code",
   "execution_count": 32,
   "metadata": {
    "ExecuteTime": {
     "end_time": "2023-12-03T12:42:54.758916Z",
     "start_time": "2023-12-03T12:42:54.746228Z"
    }
   },
   "outputs": [],
   "source": [
    "def plot_mag_w1_filled(ax,data_test_neo,data_test_mep):\n",
    "    if len(data_test_neo)>0:\n",
    "        ax.errorbar(data_test_neo['mjd'],data_test_neo['w1mpro'],data_test_neo['w1sigmpro'],\n",
    "                    markersize=3,\n",
    "                    ls='',marker='.',color='red',label='W1',zorder=0)\n",
    "        \n",
    "    if len(data_test_mep)>0:    \n",
    "        ax.errorbar(data_test_mep['mjd'],data_test_mep['w1mpro_ep'],data_test_mep['w1sigmpro_ep'],\n",
    "                    markersize=3,\n",
    "                    ls='',marker='.',color='red',label='W1',zorder=0)\n",
    "        \n",
    "    #ax.scatter(data_test_neo_w1_outlier['mjd'],data_test_neo_w1_outlier['w1mpro'],marker='.',color='red',zorder=1)\n",
    "    #ax.scatter(data_test_mep_w1_outlier['mjd'],data_test_mep_w1_outlier['w1mpro_ep'],marker='.',color='red',zorder=1)\n",
    "\n",
    "def plot_mag_w2_filled(ax,data_test_neo,data_test_mep):\n",
    "    if len(data_test_neo)>0:\n",
    "        ax.errorbar(data_test_neo['mjd'],data_test_neo['w2mpro'],data_test_neo['w2sigmpro'],\n",
    "                    markersize=3,\n",
    "                    ls='',marker='.',color='blue',label='W2',zorder=0)\n",
    "        \n",
    "    if len(data_test_mep)>0:\n",
    "        ax.errorbar(data_test_mep['mjd'],data_test_mep['w2mpro_ep'],data_test_mep['w2sigmpro_ep'],\n",
    "                    markersize=3,\n",
    "                    ls='',marker='.',color='blue',label='W2',zorder=0)"
   ]
  },
  {
   "cell_type": "code",
   "execution_count": 33,
   "metadata": {
    "ExecuteTime": {
     "end_time": "2023-12-03T12:42:57.201709Z",
     "start_time": "2023-12-03T12:42:57.189031Z"
    }
   },
   "outputs": [],
   "source": [
    "def plot_mag_w1_outlier(ax,data_test_neo,data_test_mep):\n",
    "    if len(data_test_neo)>0:\n",
    "        ax.errorbar(data_test_neo['mjd'],data_test_neo['w1mpro'],data_test_neo['w1sigmpro'],\n",
    "                    markersize=4,\n",
    "                    ls='',marker='*',color='red',label='W1',zorder=5)\n",
    "        \n",
    "    if len(data_test_mep)>0:    \n",
    "        ax.errorbar(data_test_mep['mjd'],data_test_mep['w1mpro_ep'],data_test_mep['w1sigmpro_ep'],\n",
    "                    markersize=4,\n",
    "                    ls='',marker='*',color='red',label='W1',zorder=5)\n",
    "        \n",
    "    #ax.scatter(data_test_neo_w1_outlier['mjd'],data_test_neo_w1_outlier['w1mpro'],marker='.',color='red',zorder=1)\n",
    "    #ax.scatter(data_test_mep_w1_outlier['mjd'],data_test_mep_w1_outlier['w1mpro_ep'],marker='.',color='red',zorder=1)\n",
    "\n",
    "def plot_mag_w2_outlier(ax,data_test_neo,data_test_mep):\n",
    "    if len(data_test_neo)>0:\n",
    "        ax.errorbar(data_test_neo['mjd'],data_test_neo['w2mpro'],data_test_neo['w2sigmpro'],\n",
    "                    markersize=4,\n",
    "                    ls='',marker='*',color='blue',label='W2',zorder=5)\n",
    "        \n",
    "    if len(data_test_mep)>0:\n",
    "        ax.errorbar(data_test_mep['mjd'],data_test_mep['w2mpro_ep'],data_test_mep['w2sigmpro_ep'],\n",
    "                    markersize=4,\n",
    "                    ls='',marker='*',color='blue',label='W2',zorder=5)"
   ]
  },
  {
   "cell_type": "code",
   "execution_count": null,
   "metadata": {},
   "outputs": [],
   "source": []
  },
  {
   "cell_type": "code",
   "execution_count": null,
   "metadata": {},
   "outputs": [],
   "source": []
  },
  {
   "cell_type": "markdown",
   "metadata": {},
   "source": [
    "## def wise_plot_lc"
   ]
  },
  {
   "cell_type": "code",
   "execution_count": null,
   "metadata": {
    "ExecuteTime": {
     "end_time": "2023-06-17T14:56:31.895153Z",
     "start_time": "2023-06-17T14:56:31.888217Z"
    }
   },
   "outputs": [],
   "source": []
  },
  {
   "cell_type": "markdown",
   "metadata": {
    "ExecuteTime": {
     "end_time": "2023-09-27T05:20:35.257637Z",
     "start_time": "2023-09-27T05:20:34.887876Z"
    }
   },
   "source": [
    "!open /Volumes/ExtremeSSD/CLAGN_statistic_plot/WISE_lc"
   ]
  },
  {
   "cell_type": "code",
   "execution_count": 34,
   "metadata": {
    "ExecuteTime": {
     "end_time": "2023-12-03T12:43:00.541635Z",
     "start_time": "2023-12-03T12:43:00.524099Z"
    }
   },
   "outputs": [],
   "source": [
    "def wise_plot_lc(name_test,save_lc_img_dir=save_lc_img_dir,datawise_dir='/Users/lyubing/blog/brettlv.github.io/pythoncode/changinglookAGN/CLAGN_wise_data/'):\n",
    "    data_test_neo,data_test_mep=get_wise_data(name_test,datawise_dir)\n",
    "    #data_rebin_neo,data_rebin_mep=get_rebinwise_data(data_test_neo,data_test_mep,sigma_outlier=10)    \n",
    "    \n",
    "    search_name=name_test.replace(' ','') \n",
    "    save_name=search_name.strip()\n",
    "    save_lc_img_path=os.path.join(save_lc_img_dir,'%s_wise.png'%save_name)\n",
    "    \n",
    "    fig = plt.figure(figsize=(8,4))\n",
    "    fig.subplots_adjust(hspace=0.0, wspace = 0.0)\n",
    "    ax = fig.add_subplot(111)\n",
    "    \n",
    "    #plot_mag_w1(ax,data_test_neo,data_test_mep)\n",
    "    #plot_mag_w2(ax,data_test_neo,data_test_mep)\n",
    "    \n",
    "    plot_mag_w1_filled(ax,data_test_neo,data_test_mep)\n",
    "    plot_mag_w2_filled(ax,data_test_neo,data_test_mep) \n",
    "    #plot_rebinmag_w1(ax,data_rebin_neo,data_rebin_mep)\n",
    "    #plot_rebinmag_w2(ax,data_rebin_neo,data_rebin_mep) \n",
    "    \n",
    "    ''' \n",
    "    data_test_neo_remove,data_test_mep_remove=get_remove_neo_mep(data_test_neo,data_test_mep)\n",
    "    plot_mag_w1_filled(ax,data_test_neo_remove,data_test_mep_remove)\n",
    "    plot_mag_w2_filled(ax,data_test_neo_remove,data_test_mep_remove)   \n",
    "    data_test_neo_outlier,data_test_mep_outlier=get_outlier_neo_mep(data_test_neo,data_test_mep)\n",
    "    plot_mag_w1_outlier(ax,data_test_neo_outlier,data_test_mep_outlier)\n",
    "    plot_mag_w2_outlier(ax,data_test_neo_outlier,data_test_mep_outlier) \n",
    "    '''    \n",
    "    #ax.scatter(data_test_neo['mjd'],data_test_neo['w1mpro'],color='red',label='W1')\n",
    "    #ax.scatter(data_test_mep['mjd'],data_test_mep['w1mpro_ep'],color='red',label='W1')\n",
    "\n",
    "    #ax.scatter(data_test_neo['mjd'],data_test_neo['w2mpro'],color='blue',label='W2')\n",
    "    #ax.scatter(data_test_mep['mjd'],data_test_mep['w2mpro_ep'],color='blue',label='W2')\n",
    "    \n",
    "    \n",
    "    plot_secax(ax,mi_interval=365,ma_interval=365*2)   \n",
    "    handles, labels = ax.get_legend_handles_labels()\n",
    "    by_label = OrderedDict(zip(labels, handles))\n",
    "    ax.legend(by_label.values(), by_label.keys(),bbox_to_anchor=(0.8, 0.9),ncol=1,\n",
    "          loc=2,fontsize=10)\n",
    "\n",
    "    bottom, top = ax.set_ylim() \n",
    "    if bottom< top:\n",
    "        ax.set_ylim(top,bottom)\n",
    "\n",
    "    plt.xlabel('mjd')\n",
    "    plt.ylabel(r'$mag$')\n",
    "\n",
    "    ax.text(0.5, 0.9,name_test , horizontalalignment = 'center', verticalalignment = 'center',transform = ax.transAxes, fontsize = 10)\n",
    "    \n",
    "    if not os.path.exists(save_lc_img_path):\n",
    "        plt.savefig(save_lc_img_path,dpi=400, transparent=False, bbox_inches='tight')\n",
    "    plt.close()"
   ]
  },
  {
   "cell_type": "code",
   "execution_count": null,
   "metadata": {
    "ExecuteTime": {
     "end_time": "2023-10-19T11:25:46.450397Z",
     "start_time": "2023-10-19T11:25:46.445296Z"
    }
   },
   "outputs": [],
   "source": [
    "print(save_lc_img_dir)"
   ]
  },
  {
   "cell_type": "markdown",
   "metadata": {},
   "source": [
    "## def wise_plotradec_lc"
   ]
  },
  {
   "cell_type": "code",
   "execution_count": 35,
   "metadata": {
    "ExecuteTime": {
     "end_time": "2023-12-03T12:43:02.817526Z",
     "start_time": "2023-12-03T12:43:02.799861Z"
    }
   },
   "outputs": [],
   "source": [
    "def wise_plotradec_lc(radeg,decdeg,datawise_dir,plotwise_dir):\n",
    "    data_test_neo,data_test_mep=get_wise_radec_data(radeg,decdeg,datawise_dir)\n",
    "    #data_rebin_neo,data_rebin_mep=get_rebinwise_data(data_test_neo,data_test_mep,sigma_outlier=10)    \n",
    "    save_name='RA%.5f_DEC%.5f'%(radeg,decdeg)\n",
    "    name_test=save_name\n",
    "    \n",
    "    save_lc_img_path=os.path.join(plotwise_dir,'%s_wise.png'%save_name)\n",
    "    \n",
    "    fig = plt.figure(figsize=(8,4))\n",
    "    fig.subplots_adjust(hspace=0.0, wspace = 0.0)\n",
    "    ax = fig.add_subplot(111)\n",
    "    \n",
    "    #plot_mag_w1(ax,data_test_neo,data_test_mep)\n",
    "    #plot_mag_w2(ax,data_test_neo,data_test_mep)\n",
    "\n",
    "    data_test_neo_remove,data_test_mep_remove=get_remove_neo_mep(data_test_neo,data_test_mep)\n",
    "    plot_mag_w1_filled(ax,data_test_neo_remove,data_test_mep_remove)\n",
    "    plot_mag_w2_filled(ax,data_test_neo_remove,data_test_mep_remove)\n",
    "    #plot_rebinmag_w1(ax,data_rebin_neo,data_rebin_mep)\n",
    "    #plot_rebinmag_w2(ax,data_rebin_neo,data_rebin_mep)\n",
    "    \n",
    "    data_test_neo_outlier,data_test_mep_outlier=get_outlier_neo_mep(data_test_neo,data_test_mep)\n",
    "    plot_mag_w1_outlier(ax,data_test_neo_outlier,data_test_mep_outlier)\n",
    "    plot_mag_w2_outlier(ax,data_test_neo_outlier,data_test_mep_outlier)   \n",
    "    \n",
    "    #ax.scatter(data_test_neo['mjd'],data_test_neo['w1mpro'],color='red',label='W1')\n",
    "    #ax.scatter(data_test_mep['mjd'],data_test_mep['w1mpro_ep'],color='red',label='W1')\n",
    "\n",
    "\n",
    "    #ax.scatter(data_test_neo['mjd'],data_test_neo['w2mpro'],color='blue',label='W2')\n",
    "    #ax.scatter(data_test_mep['mjd'],data_test_mep['w2mpro_ep'],color='blue',label='W2')\n",
    "    plot_secax(ax,mi_interval=365,ma_interval=365*2)\n",
    "    \n",
    "    handles, labels = ax.get_legend_handles_labels()\n",
    "    by_label = OrderedDict(zip(labels, handles))\n",
    "    ax.legend(by_label.values(), by_label.keys(),bbox_to_anchor=(0.8, 0.9),ncol=1,\n",
    "          loc=2,fontsize=10)\n",
    "\n",
    "    bottom, top = ax.set_ylim() \n",
    "    if bottom< top:\n",
    "        ax.set_ylim(top,bottom)\n",
    "\n",
    "    plt.xlabel('mjd')\n",
    "    plt.ylabel(r'$mag$')\n",
    "\n",
    "    ax.text(0.5, 0.9,name_test , horizontalalignment = 'center', verticalalignment = 'center',transform = ax.transAxes, fontsize = 10)\n",
    "    plt.savefig(save_lc_img_path,dpi=400, transparent=False, bbox_inches='tight')\n",
    "    plt.close()"
   ]
  },
  {
   "cell_type": "code",
   "execution_count": null,
   "metadata": {
    "ExecuteTime": {
     "end_time": "2023-10-19T11:25:47.744223Z",
     "start_time": "2023-10-19T11:25:47.734174Z"
    }
   },
   "outputs": [],
   "source": [
    "data_test_neo=[]\n",
    "len(data_test_neo)"
   ]
  },
  {
   "cell_type": "markdown",
   "metadata": {},
   "source": [
    "## def wise_rebin_lc "
   ]
  },
  {
   "cell_type": "code",
   "execution_count": 36,
   "metadata": {
    "ExecuteTime": {
     "end_time": "2023-12-03T12:43:05.763508Z",
     "start_time": "2023-12-03T12:43:05.744090Z"
    }
   },
   "outputs": [],
   "source": [
    "def wise_rebin_lc(name_test,save_lc_img_dir=save_lc_img_dir,datawise_dir='/Users/lyubing/blog/brettlv.github.io/pythoncode/changinglookAGN/CLAGN_wise_data/'):\n",
    "    data_test_neo,data_test_mep=get_wise_data(name_test,datawise_dir)\n",
    "    \n",
    "    if len(data_test_neo)>20:\n",
    "        data_test_neo,data_test_mep=get_remove_neo_mep(data_test_neo,data_test_mep)\n",
    "        data_rebin_neo,data_rebin_mep=get_rebinwise_data(data_test_neo,data_test_mep,sigma_outlier=100)    \n",
    "\n",
    "        #data_rebin_neo,data_rebin_mep=get_rebinwise_data(data_test_neo,data_test_mep,sigma_outlier=10)\n",
    "\n",
    "        search_name=name_test.replace(' ','') \n",
    "        save_name=search_name.strip()\n",
    "        save_lc_img_path=os.path.join(save_lc_img_dir,'%s_rebin.png'%save_name)\n",
    "\n",
    "        fig = plt.figure(figsize=(8,4))\n",
    "        fig.subplots_adjust(hspace=0.0, wspace = 0.0)\n",
    "        ax = fig.add_subplot(111)\n",
    "\n",
    "        #plot_mag_w1(ax,data_test_neo,data_test_mep)\n",
    "        #plot_mag_w2(ax,data_test_neo,data_test_mep)\n",
    "\n",
    "        plot_rebinmag_w1(ax,data_rebin_neo,data_rebin_mep)\n",
    "        plot_rebinmag_w2(ax,data_rebin_neo,data_rebin_mep)\n",
    "\n",
    "        #ax.scatter(data_test_neo['mjd'],data_test_neo['w1mpro'],color='red',label='W1')\n",
    "        #ax.scatter(data_test_mep['mjd'],data_test_mep['w1mpro_ep'],color='red',label='W1')\n",
    "\n",
    "        plot_secax(ax,mi_interval=365,ma_interval=365*2)\n",
    "        #ax.scatter(data_test_neo['mjd'],data_test_neo['w2mpro'],color='blue',label='W2')\n",
    "        #ax.scatter(data_test_mep['mjd'],data_test_mep['w2mpro_ep'],color='blue',label='W2')\n",
    "\n",
    "        handles, labels = ax.get_legend_handles_labels()\n",
    "        by_label = OrderedDict(zip(labels, handles))\n",
    "        ax.legend(by_label.values(), by_label.keys(),bbox_to_anchor=(0.2, 0.99),ncol=1,\n",
    "              loc=2,fontsize=10)\n",
    "\n",
    "        bottom, top = ax.set_ylim() \n",
    "        if bottom< top:\n",
    "            ax.set_ylim(top,bottom)\n",
    "\n",
    "        plt.xlabel('mjd')\n",
    "        plt.ylabel(r'$mag$')\n",
    "\n",
    "        ax.text(0.5, 0.9,name_test , horizontalalignment = 'center', verticalalignment = 'center',transform = ax.transAxes, fontsize = 10)\n",
    "        if not os.path.exists(save_lc_img_path):\n",
    "            plt.savefig(save_lc_img_path,dpi=400, transparent=False, bbox_inches='tight')\n",
    "        plt.close()"
   ]
  },
  {
   "cell_type": "markdown",
   "metadata": {},
   "source": [
    "## def wise_rebin_lcandcolor"
   ]
  },
  {
   "cell_type": "code",
   "execution_count": 37,
   "metadata": {
    "ExecuteTime": {
     "end_time": "2023-12-03T12:43:07.667398Z",
     "start_time": "2023-12-03T12:43:07.643249Z"
    }
   },
   "outputs": [],
   "source": [
    "def wise_rebin_lcandcolor(name_test,save_lc_img_dir=save_lc_img_dir,datawise_dir='/Users/lyubing/blog/brettlv.github.io/pythoncode/changinglookAGN/CLAGN_wise_data/'):\n",
    "    data_test_neo,data_test_mep=get_wise_data(name_test,datawise_dir)\n",
    "    \n",
    "    if len(data_test_neo)>20:\n",
    "        data_test_neo,data_test_mep=get_remove_neo_mep(data_test_neo,data_test_mep)\n",
    "        data_rebin_neo,data_rebin_mep=get_rebinwise_data(data_test_neo,data_test_mep,sigma_outlier=100)    \n",
    "\n",
    "        #data_rebin_neo,data_rebin_mep=get_rebinwise_data(data_test_neo,data_test_mep,sigma_outlier=10)\n",
    "\n",
    "        search_name=name_test.replace(' ','') \n",
    "        save_name=search_name.strip()\n",
    "        save_lc_img_path=os.path.join(save_lc_img_dir,'%s_rebin_lc_color.png'%save_name)\n",
    "\n",
    "        fig = plt.figure(figsize=(8,8))\n",
    "        fig.subplots_adjust(hspace=0.0, wspace = 0.0)\n",
    "        ax = fig.add_subplot(211)\n",
    "\n",
    "        #plot_mag_w1(ax,data_test_neo,data_test_mep)\n",
    "        #plot_mag_w2(ax,data_test_neo,data_test_mep)\n",
    "\n",
    "        plot_rebinmag_w1(ax,data_rebin_neo,data_rebin_mep)\n",
    "        plot_rebinmag_w2(ax,data_rebin_neo,data_rebin_mep)\n",
    "\n",
    "        #ax.scatter(data_test_neo['mjd'],data_test_neo['w1mpro'],color='red',label='W1')\n",
    "        #ax.scatter(data_test_mep['mjd'],data_test_mep['w1mpro_ep'],color='red',label='W1')\n",
    "\n",
    "        plot_secax(ax,mi_interval=365,ma_interval=365*2)\n",
    "        #ax.scatter(data_test_neo['mjd'],data_test_neo['w2mpro'],color='blue',label='W2')\n",
    "        #ax.scatter(data_test_mep['mjd'],data_test_mep['w2mpro_ep'],color='blue',label='W2')\n",
    "\n",
    "        \n",
    "        \n",
    "        \n",
    "        \n",
    "        \n",
    "        handles, labels = ax.get_legend_handles_labels()\n",
    "        by_label = OrderedDict(zip(labels, handles))\n",
    "        ax.legend(by_label.values(), by_label.keys(),bbox_to_anchor=(0.2, 0.99),ncol=1,\n",
    "              loc=2,fontsize=10)\n",
    "\n",
    "        bottom, top = ax.set_ylim() \n",
    "        if bottom< top:\n",
    "            ax.set_ylim(top,bottom)\n",
    "            \n",
    "        \n",
    "        \n",
    "        ax.set_ylabel(r'$mag$')\n",
    "        ax.text(0.5, 0.9,name_test , horizontalalignment = 'center', verticalalignment = 'center',transform = ax.transAxes, fontsize = 10)\n",
    "        ax.xaxis.set_tick_params(which='major', size=10, width=2, direction='in', top='on',labelsize=0)\n",
    "\n",
    "        \n",
    "        ax1 = fig.add_subplot(212,sharex=ax)\n",
    "        ax1.set_xlabel('mjd')\n",
    "        \n",
    "        \n",
    "        ax1.errorbar(data_rebin_neo['t_W1'],data_rebin_neo['W1']-data_rebin_neo['W2'],ls='',marker='.',color='black')        \n",
    "        ax1.errorbar(data_rebin_mep['t_W1'],data_rebin_mep['W1']-data_rebin_mep['W2'],ls='',marker='.',color='black')\n",
    "        \n",
    "        ax1.set_ylabel(r'$W1-W2$')\n",
    "        set_ax_tick(ax1)\n",
    "        \n",
    "        if not os.path.exists(save_lc_img_path):\n",
    "            plt.savefig(save_lc_img_path,dpi=400, transparent=False, bbox_inches='tight')\n",
    "        plt.close()"
   ]
  },
  {
   "cell_type": "markdown",
   "metadata": {
    "ExecuteTime": {
     "end_time": "2023-09-27T05:36:03.659312Z",
     "start_time": "2023-09-27T05:36:03.656046Z"
    }
   },
   "source": [
    "['t_W1'],['W1'],['e_W1'],['t_W2'].['W2'],['e_W2'],"
   ]
  },
  {
   "cell_type": "code",
   "execution_count": null,
   "metadata": {
    "ExecuteTime": {
     "end_time": "2023-10-19T11:25:51.093326Z",
     "start_time": "2023-10-19T11:25:51.079385Z"
    }
   },
   "outputs": [],
   "source": [
    "pwd"
   ]
  },
  {
   "cell_type": "markdown",
   "metadata": {},
   "source": [
    "## def wise_radec_rebin_lc"
   ]
  },
  {
   "cell_type": "code",
   "execution_count": 38,
   "metadata": {
    "ExecuteTime": {
     "end_time": "2023-12-03T12:43:09.799556Z",
     "start_time": "2023-12-03T12:43:09.781701Z"
    }
   },
   "outputs": [],
   "source": [
    "def wise_radec_rebin_lc(radeg,decdeg,datawise_dir,plotwise_dir):\n",
    "    \n",
    "    data_test_neo,data_test_mep=get_wise_radec_data(radeg,decdeg,datawise_dir)\n",
    "    if len(data_test_neo)>20:\n",
    "        \n",
    "        data_test_neo,data_test_mep=get_remove_neo_mep(data_test_neo,data_test_mep)\n",
    "        data_rebin_neo,data_rebin_mep=get_rebinwise_data(data_test_neo,data_test_mep,sigma_outlier=100)    \n",
    "\n",
    "        #data_rebin_neo,data_rebin_mep=get_rebinwise_data(data_test_neo,data_test_mep,sigma_outlier=10)\n",
    "\n",
    "        save_name='RA%.5f_DEC%.5f'%(radeg,decdeg)\n",
    "        name_test=save_name\n",
    "        save_lc_img_path=os.path.join(plotwise_dir,'%s_rebin.png'%save_name)\n",
    "\n",
    "        fig = plt.figure(figsize=(8,4))\n",
    "        fig.subplots_adjust(hspace=0.0, wspace = 0.0)\n",
    "        ax = fig.add_subplot(111)\n",
    "\n",
    "        #plot_mag_w1(ax,data_test_neo,data_test_mep)\n",
    "        #plot_mag_w2(ax,data_test_neo,data_test_mep)\n",
    "\n",
    "        plot_rebinmag_w1(ax,data_rebin_neo,data_rebin_mep)\n",
    "        plot_rebinmag_w2(ax,data_rebin_neo,data_rebin_mep)\n",
    "\n",
    "        #ax.scatter(data_test_neo['mjd'],data_test_neo['w1mpro'],color='red',label='W1')\n",
    "        #ax.scatter(data_test_mep['mjd'],data_test_mep['w1mpro_ep'],color='red',label='W1')\n",
    "\n",
    "        plot_secax(ax,mi_interval=365,ma_interval=365*2)\n",
    "        #ax.scatter(data_test_neo['mjd'],data_test_neo['w2mpro'],color='blue',label='W2')\n",
    "        #ax.scatter(data_test_mep['mjd'],data_test_mep['w2mpro_ep'],color='blue',label='W2')\n",
    "\n",
    "        handles, labels = ax.get_legend_handles_labels()\n",
    "        by_label = OrderedDict(zip(labels, handles))\n",
    "        ax.legend(by_label.values(), by_label.keys(),bbox_to_anchor=(0.2, 0.99),ncol=1,\n",
    "              loc=2,fontsize=10)\n",
    "\n",
    "        bottom, top = ax.set_ylim() \n",
    "        if bottom< top:\n",
    "            ax.set_ylim(top,bottom)\n",
    "\n",
    "        plt.xlabel('mjd')\n",
    "        plt.ylabel(r'$mag$')\n",
    "\n",
    "        ax.text(0.5, 0.9,name_test , horizontalalignment = 'center', verticalalignment = 'center',transform = ax.transAxes, fontsize = 10)\n",
    "        if not os.path.exists(save_lc_img_path):\n",
    "            plt.savefig(save_lc_img_path,dpi=400, transparent=False, bbox_inches='tight')\n",
    "        plt.close()"
   ]
  },
  {
   "cell_type": "code",
   "execution_count": null,
   "metadata": {},
   "outputs": [],
   "source": []
  },
  {
   "cell_type": "code",
   "execution_count": null,
   "metadata": {},
   "outputs": [],
   "source": []
  },
  {
   "cell_type": "markdown",
   "metadata": {},
   "source": [
    "# Surveyfits_path"
   ]
  },
  {
   "cell_type": "code",
   "execution_count": 39,
   "metadata": {
    "ExecuteTime": {
     "end_time": "2023-12-03T12:43:11.858853Z",
     "start_time": "2023-12-03T12:43:11.852409Z"
    }
   },
   "outputs": [],
   "source": [
    "# wisedata_path\n",
    "\n",
    "Surveyfits_root='/Volumes/ExtremeSSD/Survey_fits/'\n",
    "Surveyfits_path='/Volumes/ExtremeSSD/Survey_fits/Survey_fits/Survey_fits'\n"
   ]
  },
  {
   "cell_type": "markdown",
   "metadata": {
    "ExecuteTime": {
     "end_time": "2023-10-19T11:25:54.200713Z",
     "start_time": "2023-10-19T11:25:53.801681Z"
    }
   },
   "source": [
    "wisedata_path_LoTSS='%s/FadingGalaxy_wisedata/FadingGalaxy_LoTSS_wisedata'%Surveyfits_root\n",
    "if not os.path.exists(wisedata_path_LoTSS):\n",
    "    os.mkdir(wisedata_path_LoTSS)\n",
    "\n",
    "wiseplot_path_LoTSS='%s/FadingGalaxy_wisedata/FadingGalaxy_LoTSS_wiseplot'%Surveyfits_root\n",
    "if not os.path.exists(wiseplot_path_LoTSS):\n",
    "    os.mkdir(wiseplot_path_LoTSS)\n",
    "    \n",
    "wise_rebin_plot_path_LoTSS='%s/FadingGalaxy_wisedata/FadingGalaxy_LoTSS_wiseplot_rebin'%Surveyfits_root\n",
    "if not os.path.exists(wise_rebin_plot_path_LoTSS):\n",
    "    os.mkdir(wise_rebin_plot_path_LoTSS)\n"
   ]
  },
  {
   "cell_type": "markdown",
   "metadata": {
    "ExecuteTime": {
     "start_time": "2023-07-22T04:41:30.647Z"
    }
   },
   "source": [
    "wisedata_path_GGSM='%s/FadingGalaxy_wisedata/FadingGalaxy_GGSM_wisedata'%Surveyfits_root\n",
    "if not os.path.exists(wisedata_path_GGSM):\n",
    "    os.mkdir(wisedata_path_GGSM)\n",
    "\n",
    "wiseplot_path_GGSM='%s/FadingGalaxy_wisedata/FadingGalaxy_GGSM_wiseplot'%Surveyfits_root\n",
    "if not os.path.exists(wiseplot_path_GGSM):\n",
    "    os.mkdir(wiseplot_path_GGSM)\n",
    "    \n",
    "wise_rebin_plot_path_GGSM='%s/FadingGalaxy_wisedata/FadingGalaxy_GGSM_wiseplot_rebin'%Surveyfits_root\n",
    "if not os.path.exists(wise_rebin_plot_path_GGSM):\n",
    "    os.mkdir(wise_rebin_plot_path_GGSM)"
   ]
  },
  {
   "cell_type": "markdown",
   "metadata": {
    "ExecuteTime": {
     "start_time": "2023-07-22T04:41:30.652Z"
    }
   },
   "source": [
    "wisedata_path_TGSS='%s/FadingGalaxy_wisedata/FadingGalaxy_TGSS_wisedata'%Surveyfits_root\n",
    "if not os.path.exists(wisedata_path_TGSS):\n",
    "    os.mkdir(wisedata_path_TGSS)\n",
    "\n",
    "wiseplot_path_TGSS='%s/FadingGalaxy_wisedata/FadingGalaxy_TGSS_wiseplot'%Surveyfits_root\n",
    "if not os.path.exists(wiseplot_path_TGSS):\n",
    "    os.mkdir(wiseplot_path_TGSS)\n",
    "    \n",
    "wise_rebin_plot_path_TGSS='%s/FadingGalaxy_wisedata/FadingGalaxy_TGSS_wiseplot_rebin'%Surveyfits_root\n",
    "if not os.path.exists(wise_rebin_plot_path_TGSS):\n",
    "    os.mkdir(wise_rebin_plot_path_TGSS)\n"
   ]
  },
  {
   "cell_type": "code",
   "execution_count": null,
   "metadata": {},
   "outputs": [],
   "source": []
  },
  {
   "cell_type": "code",
   "execution_count": null,
   "metadata": {},
   "outputs": [],
   "source": []
  },
  {
   "cell_type": "markdown",
   "metadata": {
    "ExecuteTime": {
     "end_time": "2022-06-16T01:22:30.488896Z",
     "start_time": "2022-06-16T01:22:30.483981Z"
    }
   },
   "source": [
    "os.mkdir('/Users/brettlv/blog/brettlv.github.io/pythoncode/WISEDATA')"
   ]
  },
  {
   "cell_type": "markdown",
   "metadata": {},
   "source": [
    "# mission_table"
   ]
  },
  {
   "cell_type": "code",
   "execution_count": null,
   "metadata": {
    "ExecuteTime": {
     "start_time": "2023-07-22T04:41:30.905Z"
    }
   },
   "outputs": [],
   "source": [
    "from astroquery.heasarc import Heasarc, Conf\n",
    "heasarc = Heasarc()\n",
    "mission_table = heasarc.query_mission_list()\n",
    "mission_table_pd=mission_table.to_pandas()"
   ]
  },
  {
   "cell_type": "markdown",
   "metadata": {
    "ExecuteTime": {
     "end_time": "2022-06-16T09:53:07.527783Z",
     "start_time": "2022-06-16T09:53:07.511132Z"
    }
   },
   "source": [
    "mission_table_pd[mission_table_pd['Mission'].str.contains('SWIFT')]"
   ]
  },
  {
   "cell_type": "markdown",
   "metadata": {},
   "source": [
    "#  download_wise"
   ]
  },
  {
   "cell_type": "markdown",
   "metadata": {},
   "source": [
    "## def download_wise_name"
   ]
  },
  {
   "cell_type": "code",
   "execution_count": 40,
   "metadata": {
    "ExecuteTime": {
     "end_time": "2023-12-03T12:43:15.619441Z",
     "start_time": "2023-12-03T12:43:15.603508Z"
    }
   },
   "outputs": [],
   "source": [
    "#Irsa.ROW_LIMIT = 1000 # value of new row limit here.\n",
    "#Irsa.TIMEOUT = 120\n",
    "#radius=2*u.arcsec default 10*u.arcsec\n",
    "\n",
    "\n",
    "def download_wise(name,wisedata_path):\n",
    "\n",
    "    #print(i)\n",
    "    search_name=name.replace(' ','') \n",
    "    save_name=name.strip().replace(' ','') \n",
    "   \n",
    "    if not os.path.exists('%s/wise_%s_mep.csv'%(wisedata_path,save_name)):\n",
    "        print(search_name)\n",
    "        try:\n",
    "            Irsa.ROW_LIMIT = 1000\n",
    "            Irsa.TIMEOUT = 120\n",
    "            table_wise_mep=Irsa.query_region(search_name,catalog='allwise_p3as_mep',spatial='Cone',radius=10*u.arcsec,)\n",
    "            table_wise_mep.write('%s/wise_%s_mep.csv'%(wisedata_path,save_name), format='csv')\n",
    "            time.sleep(10+np.random.randint(5,10))\n",
    "        except Exception:\n",
    "            print(name,'mep')\n",
    "            #continue\n",
    "            #raise             \n",
    "    \n",
    "    if not os.path.exists('%s/wise_%s_neo.csv'%(wisedata_path,save_name)):\n",
    "        try:\n",
    "            Irsa.ROW_LIMIT = 1000\n",
    "            Irsa.TIMEOUT = 120\n",
    "\n",
    "            table_wise_neo=Irsa.query_region(search_name,catalog='neowiser_p1bs_psd',spatial='Cone',radius=10*u.arcsec,)  \n",
    "            table_wise_neo.write('%s/wise_%s_neo.csv'%(wisedata_path,save_name), format='csv')       \n",
    "            time.sleep(10+np.random.randint(5,10))   \n",
    "        except Exception:\n",
    "            #continue\n",
    "            print(name,'neo')\n",
    "            #raise                "
   ]
  },
  {
   "cell_type": "markdown",
   "metadata": {},
   "source": [
    "# def download_wise_withradec"
   ]
  },
  {
   "cell_type": "markdown",
   "metadata": {
    "ExecuteTime": {
     "end_time": "2023-11-19T06:12:25.008745Z",
     "start_time": "2023-11-19T06:12:25.005526Z"
    }
   },
   "source": [
    "from astropy import config as _config\n",
    "from astroquery.irsa import Irsa   \n",
    "from astropy import units as u\n",
    "from astropy.coordinates import SkyCoord"
   ]
  },
  {
   "cell_type": "code",
   "execution_count": 41,
   "metadata": {
    "ExecuteTime": {
     "end_time": "2023-12-03T12:43:17.417416Z",
     "start_time": "2023-12-03T12:43:17.403107Z"
    }
   },
   "outputs": [],
   "source": [
    "#Irsa.ROW_LIMIT = 1000 # value of new row limit here.\n",
    "#Irsa.TIMEOUT = 120\n",
    "#radius=2*u.arcsec default 10*u.arcsec\n",
    "\n",
    "def download_wise_withradec(radeg,decdeg,wisedata_path):\n",
    "\n",
    "    #print(i)\n",
    "    #search_name=name.replace(' ','') \n",
    "    #save_name=name.strip().replace(' ','') \n",
    "    save_name='RA%.5f_DEC%.5f'%(radeg,decdeg)\n",
    "    name=save_name\n",
    "    \n",
    "    if not os.path.exists('%s/wise_%s_mep.csv'%(wisedata_path,save_name)):\n",
    "        #print(search_name)\n",
    "        try:\n",
    "            Irsa.ROW_LIMIT = 1000\n",
    "            Irsa.TIMEOUT = 120\n",
    "            table_wise_mep=Irsa.query_region(SkyCoord(radeg,\n",
    "                             decdeg, unit=(u.deg,u.deg),frame='icrs'),\n",
    "                            catalog='allwise_p3as_mep',\n",
    "                            spatial='Cone',radius=2*u.arcsec,)\n",
    "            \n",
    "            \n",
    "                           \n",
    "            table_wise_mep.write('%s/wise_%s_mep.csv'%(wisedata_path,save_name), format='csv')\n",
    "            time.sleep(10+np.random.randint(5,10))\n",
    "        except Exception as e:\n",
    "            print(name,'mep')\n",
    "            print(e)\n",
    "            #continue\n",
    "            #raise             \n",
    "    \n",
    "    if not os.path.exists('%s/wise_%s_neo.csv'%(wisedata_path,save_name)):\n",
    "        try:\n",
    "            Irsa.ROW_LIMIT = 1000\n",
    "            Irsa.TIMEOUT = 120\n",
    "\n",
    "            table_wise_neo=Irsa.query_region(SkyCoord(radeg,\n",
    "                             decdeg, unit=(u.deg,u.deg),frame='icrs'),\n",
    "                             catalog='neowiser_p1bs_psd',spatial='Cone',radius=2*u.arcsec,)  \n",
    "            table_wise_neo.write('%s/wise_%s_neo.csv'%(wisedata_path,save_name), format='csv')       \n",
    "            time.sleep(10+np.random.randint(5,10))   \n",
    "        except Exception:\n",
    "            #continue\n",
    "            print(name,'neo')\n",
    "            #raise                "
   ]
  },
  {
   "cell_type": "code",
   "execution_count": null,
   "metadata": {},
   "outputs": [],
   "source": [
    "31.5666250  -0.2914444 02h06m15.990s -00d17m29.20s"
   ]
  },
  {
   "cell_type": "code",
   "execution_count": null,
   "metadata": {
    "ExecuteTime": {
     "end_time": "2023-10-24T15:03:03.327127Z",
     "start_time": "2023-10-24T15:03:03.324053Z"
    }
   },
   "outputs": [],
   "source": [
    "c1=SkyCoord(31.5666250, -0.2914444, unit=(u.deg,u.deg),frame='fk5')"
   ]
  },
  {
   "cell_type": "code",
   "execution_count": null,
   "metadata": {
    "ExecuteTime": {
     "end_time": "2023-10-24T15:04:42.820419Z",
     "start_time": "2023-10-24T15:04:42.807060Z"
    }
   },
   "outputs": [],
   "source": [
    "c1.ra.hms  "
   ]
  },
  {
   "cell_type": "code",
   "execution_count": null,
   "metadata": {
    "ExecuteTime": {
     "end_time": "2023-10-24T15:04:50.336049Z",
     "start_time": "2023-10-24T15:04:50.326379Z"
    }
   },
   "outputs": [],
   "source": [
    "c1.dec.dms  "
   ]
  },
  {
   "cell_type": "code",
   "execution_count": null,
   "metadata": {
    "ExecuteTime": {
     "end_time": "2023-10-24T15:07:48.043106Z",
     "start_time": "2023-10-24T15:07:48.032860Z"
    }
   },
   "outputs": [],
   "source": [
    "c1.dec.degree,c1.dec.radian  "
   ]
  },
  {
   "cell_type": "code",
   "execution_count": null,
   "metadata": {
    "ExecuteTime": {
     "end_time": "2023-10-24T15:08:55.080487Z",
     "start_time": "2023-10-24T15:08:55.068982Z"
    }
   },
   "outputs": [],
   "source": [
    "c1.to_string('decimal')"
   ]
  },
  {
   "cell_type": "code",
   "execution_count": null,
   "metadata": {
    "ExecuteTime": {
     "end_time": "2023-10-24T15:08:57.245409Z",
     "start_time": "2023-10-24T15:08:57.234595Z"
    }
   },
   "outputs": [],
   "source": [
    "c1.to_string('dms')"
   ]
  },
  {
   "cell_type": "code",
   "execution_count": null,
   "metadata": {
    "ExecuteTime": {
     "end_time": "2023-10-24T15:08:58.854097Z",
     "start_time": "2023-10-24T15:08:58.842078Z"
    }
   },
   "outputs": [],
   "source": [
    "c1.to_string('hmsdms')"
   ]
  },
  {
   "cell_type": "code",
   "execution_count": null,
   "metadata": {
    "ExecuteTime": {
     "end_time": "2023-10-24T15:09:25.470406Z",
     "start_time": "2023-10-24T15:09:25.449487Z"
    }
   },
   "outputs": [],
   "source": [
    "c1.galactic.l, c1.galactic.b "
   ]
  },
  {
   "cell_type": "code",
   "execution_count": null,
   "metadata": {},
   "outputs": [],
   "source": []
  },
  {
   "cell_type": "code",
   "execution_count": null,
   "metadata": {},
   "outputs": [],
   "source": []
  },
  {
   "cell_type": "code",
   "execution_count": null,
   "metadata": {},
   "outputs": [],
   "source": []
  },
  {
   "cell_type": "markdown",
   "metadata": {},
   "source": [
    "## DESI_CLAGN"
   ]
  },
  {
   "cell_type": "markdown",
   "metadata": {},
   "source": [
    "## DESI_CLAGN0"
   ]
  },
  {
   "cell_type": "code",
   "execution_count": null,
   "metadata": {
    "ExecuteTime": {
     "end_time": "2023-11-26T08:02:13.375335Z",
     "start_time": "2023-11-26T08:02:13.178773Z"
    }
   },
   "outputs": [],
   "source": [
    "DESI_CLAGN0=pd.read_excel('/Users/lyubing/Downloads/DESI_CLAGN.xlsx',sheet_name='table4',header=None)"
   ]
  },
  {
   "cell_type": "code",
   "execution_count": null,
   "metadata": {
    "ExecuteTime": {
     "end_time": "2023-11-26T08:02:13.550436Z",
     "start_time": "2023-11-26T08:02:13.546151Z"
    }
   },
   "outputs": [],
   "source": [
    "DESI_CLAGN0.columns=['Name','ra','dec','redshift','g','r','z','mjd1','mjd2','N','R','F','Transition','Line']"
   ]
  },
  {
   "cell_type": "code",
   "execution_count": null,
   "metadata": {
    "ExecuteTime": {
     "end_time": "2023-11-26T08:02:14.191435Z",
     "start_time": "2023-11-26T08:02:14.163406Z"
    }
   },
   "outputs": [],
   "source": [
    "DESI_CLAGN0"
   ]
  },
  {
   "cell_type": "code",
   "execution_count": null,
   "metadata": {
    "ExecuteTime": {
     "end_time": "2023-08-18T13:16:08.809499Z",
     "start_time": "2023-08-18T13:16:08.799010Z"
    }
   },
   "outputs": [],
   "source": [
    "#input empty with and without spaces string\n",
    "s = \"\"\n",
    "str = \"    \"\n",
    "\n",
    "if not s:\n",
    "    print(\"string is empty\")\n",
    "else:\n",
    "    print(\"string is not empty\")\n",
    "    \n",
    "if not str:\n",
    "    print(\"string is empty\")\n",
    "else:\n",
    "    print(\"string is not empty\")"
   ]
  },
  {
   "cell_type": "code",
   "execution_count": null,
   "metadata": {
    "ExecuteTime": {
     "end_time": "2023-08-18T13:17:17.829918Z",
     "start_time": "2023-08-18T13:17:17.817941Z"
    }
   },
   "outputs": [],
   "source": [
    "len(DESI_CLAGN0.loc[0,'Name'])"
   ]
  },
  {
   "cell_type": "code",
   "execution_count": null,
   "metadata": {
    "ExecuteTime": {
     "end_time": "2023-11-26T08:02:24.555788Z",
     "start_time": "2023-11-26T08:02:24.538836Z"
    }
   },
   "outputs": [],
   "source": [
    "DESI_CLAGN_multi=[]\n",
    "\n",
    "for index,Name in enumerate(DESI_CLAGN0['Name']):   \n",
    "    if len(DESI_CLAGN0.loc[index,'Name'])<2:\n",
    "        if len(DESI_CLAGN0.loc[index-1,'Name'])>2:        \n",
    "            if DESI_CLAGN0.loc[index-1,'Name'] not in DESI_CLAGN_multi:\n",
    "                DESI_CLAGN_multi.append(DESI_CLAGN0.loc[index-1,'Name'])\n",
    "        \n",
    "        "
   ]
  },
  {
   "cell_type": "code",
   "execution_count": null,
   "metadata": {
    "ExecuteTime": {
     "end_time": "2023-11-26T08:02:24.993533Z",
     "start_time": "2023-11-26T08:02:24.975884Z"
    }
   },
   "outputs": [],
   "source": [
    "len(DESI_CLAGN_multi)"
   ]
  },
  {
   "cell_type": "code",
   "execution_count": null,
   "metadata": {
    "ExecuteTime": {
     "end_time": "2023-11-26T08:02:25.400232Z",
     "start_time": "2023-11-26T08:02:25.390120Z"
    }
   },
   "outputs": [],
   "source": [
    "DESI_CLAGN_multi"
   ]
  },
  {
   "cell_type": "code",
   "execution_count": null,
   "metadata": {
    "ExecuteTime": {
     "end_time": "2023-08-18T14:30:17.617801Z",
     "start_time": "2023-08-18T14:30:17.598063Z"
    }
   },
   "outputs": [],
   "source": [
    "os.listdir(wisedata_path)"
   ]
  },
  {
   "cell_type": "code",
   "execution_count": null,
   "metadata": {},
   "outputs": [],
   "source": []
  },
  {
   "cell_type": "code",
   "execution_count": null,
   "metadata": {
    "ExecuteTime": {
     "end_time": "2023-08-18T14:31:32.618688Z",
     "start_time": "2023-08-18T14:31:32.573622Z"
    }
   },
   "outputs": [],
   "source": []
  },
  {
   "cell_type": "code",
   "execution_count": null,
   "metadata": {
    "ExecuteTime": {
     "end_time": "2023-08-18T14:34:39.107947Z",
     "start_time": "2023-08-18T14:34:38.864502Z"
    }
   },
   "outputs": [],
   "source": [
    "name='SDSSJ115103.77+530140.6'\n",
    "name=name.strip()\n",
    "D_cm_115103= cosmo.luminosity_distance(z=0.5475).to(u.cm)\n",
    "data_test_neo,data_test_mep=get_wise_data(name,wisedata_path)\n",
    "data_rebin_neo,data_rebin_mep=get_rebinwise_data(data_test_neo,data_test_mep)\n",
    "\n",
    "data_rebinflux_neo,data_rebinflux_mep=get_wiseflux_rebin(data_rebin_neo,data_rebin_mep,D_cm_115103)\n",
    "datalag_w1_115103,datalag_w2_115103=get_wise_lc(data_rebinflux_neo,data_rebinflux_mep)\n",
    "\n",
    "fig = plt.figure(figsize=(8,4))\n",
    "fig.subplots_adjust(hspace=0.0, wspace = 0.0)\n",
    "ax = fig.add_subplot(111)\n",
    "\n",
    "\n",
    "#BH_mass_115103=1e6*u.solMass\n",
    "#Ledd_115103=1.26*10**38*BH_mass_115103/u.solMass\n",
    "\n",
    "ax.errorbar(datalag_w1_115103['t'],datalag_w1_115103['flux'],datalag_w1_115103['err'],label='w1',ls=':',marker='*')\n",
    "ax.errorbar(datalag_w2_115103['t'],datalag_w2_115103['flux'],datalag_w2_115103['err'],label='w2',ls=':',marker='*')\n",
    "\n",
    "#ax.axhline(np.log10(Ledd_115103),ls='-.',label='Ledd') #+np.log10(9)\n",
    "ax.set_xlabel('MJD')\n",
    "ax.set_ylabel('log(L_MIR)')\n",
    "ax.set_title('%s z=0.5475'%name)\n",
    "set_ax_legend(ax,bbox_to_anchor=(0.01, 0.99))\n"
   ]
  },
  {
   "cell_type": "code",
   "execution_count": null,
   "metadata": {
    "ExecuteTime": {
     "end_time": "2023-08-18T14:34:53.467580Z",
     "start_time": "2023-08-18T14:34:53.233005Z"
    }
   },
   "outputs": [],
   "source": [
    "name='SDSSJ155426.13+200527.7'\n",
    "name=name.strip()\n",
    "D_cm_115103= cosmo.luminosity_distance(z=0.5215).to(u.cm)\n",
    "data_test_neo,data_test_mep=get_wise_data(name,wisedata_path)\n",
    "data_rebin_neo,data_rebin_mep=get_rebinwise_data(data_test_neo,data_test_mep)\n",
    "\n",
    "data_rebinflux_neo,data_rebinflux_mep=get_wiseflux_rebin(data_rebin_neo,data_rebin_mep,D_cm_115103)\n",
    "datalag_w1_115103,datalag_w2_115103=get_wise_lc(data_rebinflux_neo,data_rebinflux_mep)\n",
    "\n",
    "fig = plt.figure(figsize=(8,4))\n",
    "fig.subplots_adjust(hspace=0.0, wspace = 0.0)\n",
    "ax = fig.add_subplot(111)\n",
    "\n",
    "\n",
    "#BH_mass_115103=1e6*u.solMass\n",
    "#Ledd_115103=1.26*10**38*BH_mass_115103/u.solMass\n",
    "\n",
    "ax.errorbar(datalag_w1_115103['t'],datalag_w1_115103['flux'],datalag_w1_115103['err'],label='w1',ls=':',marker='*')\n",
    "ax.errorbar(datalag_w2_115103['t'],datalag_w2_115103['flux'],datalag_w2_115103['err'],label='w2',ls=':',marker='*')\n",
    "\n",
    "#ax.axhline(np.log10(Ledd_115103),ls='-.',label='Ledd') #+np.log10(9)\n",
    "ax.set_xlabel('MJD')\n",
    "ax.set_ylabel('log(L_MIR)')\n",
    "ax.set_title('%s z=0.5215'%name)\n",
    "set_ax_legend(ax,bbox_to_anchor=(0.01, 0.99))\n"
   ]
  },
  {
   "cell_type": "code",
   "execution_count": null,
   "metadata": {
    "ExecuteTime": {
     "end_time": "2023-08-18T14:35:56.647996Z",
     "start_time": "2023-08-18T14:35:56.389314Z"
    }
   },
   "outputs": [],
   "source": [
    "name='SDSSJ141535.46+022338.7'\n",
    "name=name.strip()\n",
    "D_cm_115103= cosmo.luminosity_distance(z=0.3519).to(u.cm)\n",
    "data_test_neo,data_test_mep=get_wise_data(name,wisedata_path)\n",
    "data_rebin_neo,data_rebin_mep=get_rebinwise_data(data_test_neo,data_test_mep)\n",
    "\n",
    "data_rebinflux_neo,data_rebinflux_mep=get_wiseflux_rebin(data_rebin_neo,data_rebin_mep,D_cm_115103)\n",
    "datalag_w1_115103,datalag_w2_115103=get_wise_lc(data_rebinflux_neo,data_rebinflux_mep)\n",
    "\n",
    "fig = plt.figure(figsize=(8,4))\n",
    "fig.subplots_adjust(hspace=0.0, wspace = 0.0)\n",
    "ax = fig.add_subplot(111)\n",
    "\n",
    "\n",
    "#BH_mass_115103=1e6*u.solMass\n",
    "#Ledd_115103=1.26*10**38*BH_mass_115103/u.solMass\n",
    "\n",
    "ax.errorbar(datalag_w1_115103['t'],datalag_w1_115103['flux'],datalag_w1_115103['err'],label='w1',ls=':',marker='*')\n",
    "ax.errorbar(datalag_w2_115103['t'],datalag_w2_115103['flux'],datalag_w2_115103['err'],label='w2',ls=':',marker='*')\n",
    "\n",
    "#ax.axhline(np.log10(Ledd_115103),ls='-.',label='Ledd') #+np.log10(9)\n",
    "ax.set_xlabel('MJD')\n",
    "ax.set_ylabel('log(L_MIR)')\n",
    "ax.set_title('%s z=0.3519'%name)\n",
    "set_ax_legend(ax,bbox_to_anchor=(0.01, 0.99))\n"
   ]
  },
  {
   "cell_type": "code",
   "execution_count": null,
   "metadata": {},
   "outputs": [],
   "source": []
  },
  {
   "cell_type": "code",
   "execution_count": null,
   "metadata": {},
   "outputs": [],
   "source": []
  },
  {
   "cell_type": "code",
   "execution_count": null,
   "metadata": {},
   "outputs": [],
   "source": []
  },
  {
   "cell_type": "code",
   "execution_count": null,
   "metadata": {},
   "outputs": [],
   "source": []
  },
  {
   "cell_type": "code",
   "execution_count": null,
   "metadata": {
    "ExecuteTime": {
     "end_time": "2023-11-26T08:03:05.968298Z",
     "start_time": "2023-11-26T08:03:05.959071Z"
    }
   },
   "outputs": [],
   "source": [
    "wisedata_path"
   ]
  },
  {
   "cell_type": "code",
   "execution_count": null,
   "metadata": {
    "ExecuteTime": {
     "end_time": "2023-11-26T08:03:15.852487Z",
     "start_time": "2023-11-26T08:03:15.840368Z"
    }
   },
   "outputs": [],
   "source": [
    "save_lc_img_dir='/Volumes/ExtremeSSD/data_source/WISE_data/DESI_CLAGN_plot/mul_line'\n",
    "for i in DESI_CLAGN_multi:\n",
    "    name_i='SDSS J'+i\n",
    "    wise_rebin_lc(name_i,save_lc_img_dir=save_lc_img_dir, datawise_dir=wisedata_path)"
   ]
  },
  {
   "cell_type": "code",
   "execution_count": null,
   "metadata": {
    "ExecuteTime": {
     "end_time": "2023-11-26T08:03:27.161080Z",
     "start_time": "2023-11-26T08:03:26.928225Z"
    }
   },
   "outputs": [],
   "source": [
    "!open /Volumes/ExtremeSSD/data_source/WISE_data/DESI_CLAGN_plot/mul_line"
   ]
  },
  {
   "cell_type": "markdown",
   "metadata": {},
   "source": [
    "## DESI_CLAGN"
   ]
  },
  {
   "cell_type": "code",
   "execution_count": null,
   "metadata": {
    "ExecuteTime": {
     "end_time": "2023-11-26T08:03:40.083336Z",
     "start_time": "2023-11-26T08:03:40.052300Z"
    }
   },
   "outputs": [],
   "source": [
    "DESI_CLAGN=pd.read_excel('/Users/lyubing/Downloads/DESI_CLAGN.xlsx',sheet_name='Sheet2')\n",
    "DESI_CLAGN=DESI_CLAGN[DESI_CLAGN['Name'].notnull()]"
   ]
  },
  {
   "cell_type": "code",
   "execution_count": null,
   "metadata": {
    "ExecuteTime": {
     "end_time": "2023-11-26T08:03:40.685327Z",
     "start_time": "2023-11-26T08:03:40.662956Z"
    }
   },
   "outputs": [],
   "source": [
    "DESI_CLAGN"
   ]
  },
  {
   "cell_type": "code",
   "execution_count": null,
   "metadata": {
    "ExecuteTime": {
     "end_time": "2023-11-26T08:03:50.897277Z",
     "start_time": "2023-11-26T08:03:50.889868Z"
    }
   },
   "outputs": [],
   "source": [
    "wisedata_path"
   ]
  },
  {
   "cell_type": "markdown",
   "metadata": {
    "ExecuteTime": {
     "end_time": "2023-08-18T12:50:52.430273Z",
     "start_time": "2023-08-18T11:42:28.763110Z"
    }
   },
   "source": [
    "wisedata_path='/Volumes/ExtremeSSD/data_source/WISE_data/DESI_CLAGN'\n",
    "save_lc_img_dir='/Volumes/ExtremeSSD/data_source/WISE_data/DESI_CLAGN_plot'\n",
    "\n",
    "for index,(ra,dec) in enumerate(zip(DESI_CLAGN['ra'],DESI_CLAGN['dec'])):\n",
    "    name_i='SDSS J'+DESI_CLAGN.loc[index,'Name']\n",
    "    print(name_i)\n",
    "    \n",
    "    #download_wise(name_i,wisedata_path)\n",
    "    wise_rebin_lc(name_i,save_lc_img_dir=save_lc_img_dir, datawise_dir=wisedata_path)"
   ]
  },
  {
   "cell_type": "code",
   "execution_count": null,
   "metadata": {},
   "outputs": [],
   "source": []
  },
  {
   "cell_type": "code",
   "execution_count": null,
   "metadata": {},
   "outputs": [],
   "source": []
  },
  {
   "cell_type": "code",
   "execution_count": null,
   "metadata": {},
   "outputs": [],
   "source": []
  },
  {
   "cell_type": "code",
   "execution_count": null,
   "metadata": {},
   "outputs": [],
   "source": []
  },
  {
   "cell_type": "code",
   "execution_count": null,
   "metadata": {},
   "outputs": [],
   "source": []
  },
  {
   "cell_type": "markdown",
   "metadata": {
    "ExecuteTime": {
     "end_time": "2023-08-18T11:27:42.650105Z",
     "start_time": "2023-08-18T11:27:42.572795Z"
    }
   },
   "source": [
    "wisedata_path='/Volumes/ExtremeSSD/data_source/WISE_data/DESI_CLAGN'\n",
    "save_lc_img_dir='/Volumes/ExtremeSSD/data_source/WISE_data/DESI_CLAGN_plot'\n",
    "\n",
    "\n",
    "for index,(ra,dec) in enumerate(zip(DESI_CLAGN['ra'],DESI_CLAGN['dec'])):\n",
    "    name_i='SDSS J'+DESI_CLAGN.loc[index,'Name']\n",
    "    print(name_i)    \n",
    "    wise_rebin_lc(name_i,save_lc_img_dir=save_lc_img_dir, datawise_dir=wisedata_path)"
   ]
  },
  {
   "cell_type": "code",
   "execution_count": null,
   "metadata": {},
   "outputs": [],
   "source": []
  },
  {
   "cell_type": "code",
   "execution_count": null,
   "metadata": {},
   "outputs": [],
   "source": []
  },
  {
   "cell_type": "code",
   "execution_count": null,
   "metadata": {},
   "outputs": [],
   "source": []
  },
  {
   "cell_type": "markdown",
   "metadata": {},
   "source": [
    "## MWA J221304-414358"
   ]
  },
  {
   "cell_type": "code",
   "execution_count": null,
   "metadata": {
    "ExecuteTime": {
     "end_time": "2023-07-23T02:56:30.252579Z",
     "start_time": "2023-07-23T02:56:30.237871Z"
    }
   },
   "outputs": [],
   "source": [
    "from astropy import units as u\n",
    "from astropy.coordinates import SkyCoord\n",
    "\n",
    "#22 13 04.40 -41 43 56.9\n",
    "name='MWAJ221304'\n",
    "coord_MWAJ221304=SkyCoord('22h13m04.40s','-41d43m56.9s', unit=(u.hourangle, u.deg),frame=\"icrs\",) \n",
    "ra_MWAJ221304=coord_MWAJ221304.ra.deg\n",
    "dec_MWAJ221304=coord_MWAJ221304.dec.deg\n",
    "z_MWAJ221304=0.080456"
   ]
  },
  {
   "cell_type": "code",
   "execution_count": null,
   "metadata": {
    "ExecuteTime": {
     "end_time": "2023-07-23T02:24:32.799190Z",
     "start_time": "2023-07-23T02:24:32.777618Z"
    }
   },
   "outputs": [],
   "source": [
    "data_test_neo,data_test_mep=get_wise_radec_data(ra_MWAJ221304,dec_MWAJ221304,datawise_dir=wisedata_path_name)"
   ]
  },
  {
   "cell_type": "code",
   "execution_count": null,
   "metadata": {
    "ExecuteTime": {
     "end_time": "2023-07-23T02:21:26.679246Z",
     "start_time": "2023-07-23T02:21:26.668639Z"
    }
   },
   "outputs": [],
   "source": [
    "ra_MWAJ221304,dec_MWAJ221304"
   ]
  },
  {
   "cell_type": "code",
   "execution_count": null,
   "metadata": {
    "ExecuteTime": {
     "start_time": "2023-07-22T04:41:31.427Z"
    }
   },
   "outputs": [],
   "source": [
    "wisedata_path_name"
   ]
  },
  {
   "cell_type": "code",
   "execution_count": null,
   "metadata": {
    "ExecuteTime": {
     "start_time": "2023-07-22T04:41:31.432Z"
    }
   },
   "outputs": [],
   "source": [
    "save_lc_img_dir"
   ]
  },
  {
   "cell_type": "code",
   "execution_count": null,
   "metadata": {
    "ExecuteTime": {
     "start_time": "2023-07-22T04:41:31.437Z"
    }
   },
   "outputs": [],
   "source": [
    "!open /Users/lyubing/blog/brettlv.github.io/pythoncode/WISEDATA"
   ]
  },
  {
   "cell_type": "code",
   "execution_count": null,
   "metadata": {
    "ExecuteTime": {
     "end_time": "2023-07-23T02:58:55.920300Z",
     "start_time": "2023-07-23T02:58:55.689410Z"
    }
   },
   "outputs": [],
   "source": [
    "!open /Volumes/ExtremeSSD/CLAGN_statistic_plot/WISE_lc"
   ]
  },
  {
   "cell_type": "code",
   "execution_count": null,
   "metadata": {
    "ExecuteTime": {
     "end_time": "2023-07-23T02:58:55.687865Z",
     "start_time": "2023-07-23T02:58:53.648273Z"
    }
   },
   "outputs": [],
   "source": [
    "#download_wise_withradec(ra_MWAJ221304,dec_MWAJ221304,wisedata_path_name)\n",
    "#wise_radec_rebin_lc(ra_MWAJ221304,dec_MWAJ221304,datawise_dir=wisedata_path_name,plotwise_dir=save_lc_img_dir)\n",
    "wise_plotradec_lc(ra_MWAJ221304,dec_MWAJ221304,datawise_dir=wisedata_path_name,plotwise_dir=save_lc_img_dir)"
   ]
  },
  {
   "cell_type": "code",
   "execution_count": null,
   "metadata": {},
   "outputs": [],
   "source": []
  },
  {
   "cell_type": "code",
   "execution_count": null,
   "metadata": {},
   "outputs": [],
   "source": []
  },
  {
   "cell_type": "code",
   "execution_count": null,
   "metadata": {},
   "outputs": [],
   "source": []
  },
  {
   "cell_type": "code",
   "execution_count": null,
   "metadata": {},
   "outputs": [],
   "source": []
  },
  {
   "cell_type": "code",
   "execution_count": null,
   "metadata": {},
   "outputs": [],
   "source": []
  },
  {
   "cell_type": "code",
   "execution_count": null,
   "metadata": {},
   "outputs": [],
   "source": []
  },
  {
   "cell_type": "markdown",
   "metadata": {},
   "source": [
    "## ZTF20aawpldl"
   ]
  },
  {
   "cell_type": "code",
   "execution_count": null,
   "metadata": {
    "ExecuteTime": {
     "start_time": "2023-07-22T04:41:31.600Z"
    }
   },
   "outputs": [],
   "source": [
    "name='ZTF20aawpldl'\n",
    "download_wise(name,wisedata_path_name)"
   ]
  },
  {
   "cell_type": "code",
   "execution_count": null,
   "metadata": {
    "ExecuteTime": {
     "start_time": "2023-07-22T04:41:31.605Z"
    }
   },
   "outputs": [],
   "source": [
    "radeg_ZTF20aawpldl=356.869696888455 \n",
    "decdeg_ZTF20aawpldl=24.462699346859083\n",
    "download_wise_withradec(radeg_ZTF20aawpldl,decdeg_ZTF20aawpldl,wisedata_path_name)"
   ]
  },
  {
   "cell_type": "code",
   "execution_count": null,
   "metadata": {
    "ExecuteTime": {
     "start_time": "2023-07-22T04:41:31.610Z"
    }
   },
   "outputs": [],
   "source": [
    "wisedata_path_name"
   ]
  },
  {
   "cell_type": "code",
   "execution_count": null,
   "metadata": {
    "ExecuteTime": {
     "start_time": "2023-07-22T04:41:31.615Z"
    }
   },
   "outputs": [],
   "source": [
    "!open /Users/lyubing/blog/brettlv.github.io/pythoncode/WISEDATA"
   ]
  },
  {
   "cell_type": "code",
   "execution_count": null,
   "metadata": {
    "ExecuteTime": {
     "start_time": "2023-07-22T04:41:31.619Z"
    }
   },
   "outputs": [],
   "source": [
    "wise_radec_rebin_lc(radeg_ZTF20aawpldl,decdeg_ZTF20aawpldl,datawise_dir=wisedata_path_name,plotwise_dir=save_lc_img_dir)\n",
    "\n"
   ]
  },
  {
   "cell_type": "code",
   "execution_count": null,
   "metadata": {
    "ExecuteTime": {
     "start_time": "2023-07-22T04:41:31.625Z"
    }
   },
   "outputs": [],
   "source": [
    "wise_plotradec_lc(radeg_ZTF20aawpldl,decdeg_ZTF20aawpldl,datawise_dir=wisedata_path_name,plotwise_dir=save_lc_img_dir)\n"
   ]
  },
  {
   "cell_type": "code",
   "execution_count": null,
   "metadata": {
    "ExecuteTime": {
     "start_time": "2023-07-22T04:41:31.630Z"
    }
   },
   "outputs": [],
   "source": [
    "save_lc_img_dir"
   ]
  },
  {
   "cell_type": "code",
   "execution_count": null,
   "metadata": {
    "ExecuteTime": {
     "start_time": "2023-07-22T04:41:31.636Z"
    }
   },
   "outputs": [],
   "source": [
    "!open /Volumes/ExtremeSSD/CLAGN_statistic_plot/WISE_lc"
   ]
  },
  {
   "cell_type": "code",
   "execution_count": null,
   "metadata": {},
   "outputs": [],
   "source": []
  },
  {
   "cell_type": "markdown",
   "metadata": {},
   "source": [
    "## PS16dtm"
   ]
  },
  {
   "cell_type": "code",
   "execution_count": null,
   "metadata": {
    "ExecuteTime": {
     "start_time": "2023-07-22T04:41:31.806Z"
    }
   },
   "outputs": [],
   "source": [
    "name='PS16dtm'\n",
    "download_wise(name,wisedata_path_name)"
   ]
  },
  {
   "cell_type": "code",
   "execution_count": null,
   "metadata": {
    "ExecuteTime": {
     "start_time": "2023-07-22T04:41:31.811Z"
    }
   },
   "outputs": [],
   "source": [
    "!open /Users/lyubing/blog/brettlv.github.io/pythoncode/WISEDATA"
   ]
  },
  {
   "cell_type": "code",
   "execution_count": null,
   "metadata": {
    "ExecuteTime": {
     "end_time": "2022-11-21T01:46:11.098085Z",
     "start_time": "2022-11-21T01:46:11.087862Z"
    }
   },
   "outputs": [],
   "source": []
  },
  {
   "cell_type": "code",
   "execution_count": null,
   "metadata": {
    "ExecuteTime": {
     "start_time": "2023-07-22T04:41:31.820Z"
    }
   },
   "outputs": [],
   "source": [
    "name='PS16dtm'\n",
    "D_cm_PS16dtm= cosmo.luminosity_distance(z=0.0804).to(u.cm) \n",
    "data_test_neo,data_test_mep=get_wise_data(name,wisedata_path_name)\n",
    "data_rebin_neo,data_rebin_mep=get_rebinwise_data(data_test_neo,data_test_mep)\n",
    "\n",
    "data_rebinflux_neo,data_rebinflux_mep=get_wiseflux_rebin(data_rebin_neo,data_rebin_mep,D_cm_PS16dtm)\n",
    "datalag_w1_PS16dtm,datalag_w2_PS16dtm=get_wise_lc(data_rebinflux_neo,data_rebinflux_mep)"
   ]
  },
  {
   "cell_type": "markdown",
   "metadata": {},
   "source": [
    "### plot_WISE_Lum"
   ]
  },
  {
   "cell_type": "code",
   "execution_count": null,
   "metadata": {
    "ExecuteTime": {
     "start_time": "2023-07-22T04:41:31.984Z"
    }
   },
   "outputs": [],
   "source": [
    "fig = plt.figure(figsize=(8,4))\n",
    "fig.subplots_adjust(hspace=0.0, wspace = 0.0)\n",
    "ax = fig.add_subplot(111)\n",
    "\n",
    "name='PS16dtm'\n",
    "BH_mass_PS16dtm=1e6*u.solMass\n",
    "Ledd_PS16dtm=1.26*10**38*BH_mass_PS16dtm/u.solMass\n",
    "\n",
    "ax.errorbar(datalag_w1_PS16dtm['t'],datalag_w1_PS16dtm['flux']+np.log10(9),datalag_w1_PS16dtm['err'],label='w1',ls=':',marker='*')\n",
    "ax.errorbar(datalag_w2_PS16dtm['t'],datalag_w2_PS16dtm['flux']+np.log10(9),datalag_w2_PS16dtm['err'],label='w2',ls=':',marker='*')\n",
    "\n",
    "ax.axhline(np.log10(Ledd_PS16dtm),ls='-.',label='Ledd')\n",
    "ax.set_xlabel('MJD')\n",
    "ax.set_ylabel('log(9*L_MIR)')\n",
    "ax.set_title('%s'%name)\n",
    "set_ax_legend(ax,bbox_to_anchor=(0.01, 0.99))"
   ]
  },
  {
   "cell_type": "code",
   "execution_count": null,
   "metadata": {},
   "outputs": [],
   "source": []
  },
  {
   "cell_type": "code",
   "execution_count": null,
   "metadata": {
    "ExecuteTime": {
     "start_time": "2023-07-22T04:41:31.992Z"
    }
   },
   "outputs": [],
   "source": [
    "datalag_w1_PS16dtm,datalag_w2_PS16dtm"
   ]
  },
  {
   "cell_type": "code",
   "execution_count": null,
   "metadata": {},
   "outputs": [],
   "source": []
  },
  {
   "cell_type": "code",
   "execution_count": null,
   "metadata": {},
   "outputs": [],
   "source": []
  },
  {
   "cell_type": "code",
   "execution_count": null,
   "metadata": {
    "ExecuteTime": {
     "start_time": "2023-07-22T04:41:32.001Z"
    }
   },
   "outputs": [],
   "source": [
    "name='PS16dtm'\n",
    "wise_plot_lc(name,datawise_dir=wisedata_path_name)"
   ]
  },
  {
   "cell_type": "code",
   "execution_count": null,
   "metadata": {},
   "outputs": [],
   "source": []
  },
  {
   "cell_type": "code",
   "execution_count": null,
   "metadata": {
    "ExecuteTime": {
     "start_time": "2023-07-22T04:41:32.009Z"
    }
   },
   "outputs": [],
   "source": [
    "name='PS16dtm'\n",
    "wise_rebin_lc(name,datawise_dir=wisedata_path_name)"
   ]
  },
  {
   "cell_type": "code",
   "execution_count": null,
   "metadata": {},
   "outputs": [],
   "source": []
  },
  {
   "cell_type": "code",
   "execution_count": null,
   "metadata": {
    "ExecuteTime": {
     "start_time": "2023-07-22T04:41:32.017Z"
    }
   },
   "outputs": [],
   "source": [
    "save_lc_img_dir"
   ]
  },
  {
   "cell_type": "code",
   "execution_count": null,
   "metadata": {
    "ExecuteTime": {
     "start_time": "2023-07-22T04:41:32.022Z"
    }
   },
   "outputs": [],
   "source": [
    "!open /Volumes/ExtremeSSD/CLAGN_statistic_plot/WISE_lc"
   ]
  },
  {
   "cell_type": "markdown",
   "metadata": {},
   "source": [
    "## ASASSN-20hx"
   ]
  },
  {
   "cell_type": "code",
   "execution_count": null,
   "metadata": {
    "ExecuteTime": {
     "start_time": "2023-07-22T04:41:32.198Z"
    }
   },
   "outputs": [],
   "source": [
    "wisedata_path_name"
   ]
  },
  {
   "cell_type": "code",
   "execution_count": null,
   "metadata": {
    "ExecuteTime": {
     "start_time": "2023-07-22T04:41:32.203Z"
    }
   },
   "outputs": [],
   "source": [
    "name='ASASSN-20hx'\n",
    "download_wise(name,wisedata_path_name)"
   ]
  },
  {
   "cell_type": "code",
   "execution_count": null,
   "metadata": {
    "ExecuteTime": {
     "start_time": "2023-07-22T04:41:32.208Z"
    }
   },
   "outputs": [],
   "source": [
    "D_cm_ASASSN_20hx= cosmo.luminosity_distance(z=0.0167).to(u.cm) \n",
    "\n",
    "name='ASASSN-20hx'\n",
    "data_test_neo,data_test_mep=get_wise_data(name,wisedata_path_name)\n",
    "data_rebin_neo,data_rebin_mep=get_rebinwise_data(data_test_neo,data_test_mep)\n",
    "data_rebinflux_neo,data_rebinflux_mep=get_wiseflux_rebin(data_rebin_neo,data_rebin_mep,D_cm_ASASSN_20hx)\n",
    "datalag_w1_ASASSN_20hx,datalag_w2_ASASSN_20hx=get_wise_lc(data_rebinflux_neo,data_rebinflux_mep)"
   ]
  },
  {
   "cell_type": "code",
   "execution_count": null,
   "metadata": {
    "ExecuteTime": {
     "start_time": "2023-07-22T04:41:32.213Z"
    }
   },
   "outputs": [],
   "source": [
    "name='ASASSN-20hx'\n",
    "wise_plot_lc(name,datawise_dir=wisedata_path_name)\n",
    "wise_rebin_lc(name,datawise_dir=wisedata_path_name)"
   ]
  },
  {
   "cell_type": "code",
   "execution_count": null,
   "metadata": {},
   "outputs": [],
   "source": []
  },
  {
   "cell_type": "code",
   "execution_count": null,
   "metadata": {
    "ExecuteTime": {
     "start_time": "2023-07-22T04:41:32.220Z"
    }
   },
   "outputs": [],
   "source": [
    "fig = plt.figure(figsize=(8,4))\n",
    "fig.subplots_adjust(hspace=0.0, wspace = 0.0)\n",
    "ax = fig.add_subplot(111)\n",
    "\n",
    "name='ASASSN-20hx'\n",
    "\n",
    "BH_mass_ASASSN_20hx=10**7.9*u.solMass\n",
    "Ledd_ASASSN_20hx=1.26*10**38*BH_mass_ASASSN_20hx/u.solMass\n",
    "\n",
    "ax.errorbar(datalag_w1_ASASSN_20hx['t'],datalag_w1_ASASSN_20hx['flux']+np.log10(3),datalag_w1_ASASSN_20hx['err'],label='w1',ls=':',marker='*')\n",
    "ax.errorbar(datalag_w2_ASASSN_20hx['t'],datalag_w2_ASASSN_20hx['flux']+np.log10(3),datalag_w2_ASASSN_20hx['err'],label='w2',ls=':',marker='*')\n",
    "\n",
    "#ax.axhline(np.log10(Ledd_ASASSN_20hx),ls='-.',label='Ledd')\n",
    "ax.set_xlabel('MJD')\n",
    "ax.set_ylabel('log(3*L_MIR)')\n",
    "ax.set_title('%s'%name)\n",
    "set_ax_legend(ax,bbox_to_anchor=(0.01, 0.99))\n"
   ]
  },
  {
   "cell_type": "code",
   "execution_count": null,
   "metadata": {},
   "outputs": [],
   "source": []
  },
  {
   "cell_type": "code",
   "execution_count": null,
   "metadata": {},
   "outputs": [],
   "source": []
  },
  {
   "cell_type": "markdown",
   "metadata": {},
   "source": [
    "## ULIRG F01004−2237"
   ]
  },
  {
   "cell_type": "code",
   "execution_count": null,
   "metadata": {
    "ExecuteTime": {
     "start_time": "2023-07-22T04:41:32.405Z"
    }
   },
   "outputs": [],
   "source": [
    "The nearby ULIRG F01004-2237 (RA:01h 02m 50.007s and Dec: -22d 21m 57.22s (J2000); z=0.117835) w"
   ]
  },
  {
   "cell_type": "code",
   "execution_count": null,
   "metadata": {
    "ExecuteTime": {
     "start_time": "2023-07-22T04:41:32.411Z"
    }
   },
   "outputs": [],
   "source": [
    "from astropy import units as u\n",
    "from astropy.coordinates import SkyCoord\n",
    "\n",
    "name='ULIRG_F01004_2237'\n",
    "coord_ULIRG_F01004_2237=SkyCoord('01h02m50.007s','-22d21m57.22s', unit=(u.hourangle, u.deg),frame=\"icrs\",) \n",
    "ra_ULIRG_F01004_2237=coord_ULIRG_F01004_2237.ra.deg\n",
    "dec_ULIRG_F01004_2237=coord_ULIRG_F01004_2237.dec.deg\n",
    "z_ULIRG_F01004_2237=0.117835"
   ]
  },
  {
   "cell_type": "code",
   "execution_count": null,
   "metadata": {
    "ExecuteTime": {
     "start_time": "2023-07-22T04:41:32.416Z"
    }
   },
   "outputs": [],
   "source": [
    "ra_ULIRG_F01004_2237,dec_ULIRG_F01004_2237"
   ]
  },
  {
   "cell_type": "code",
   "execution_count": null,
   "metadata": {
    "ExecuteTime": {
     "start_time": "2023-07-22T04:41:32.420Z"
    }
   },
   "outputs": [],
   "source": [
    "download_wise_withradec(ra_ULIRG_F01004_2237,dec_ULIRG_F01004_2237,wisedata_path_name)"
   ]
  },
  {
   "cell_type": "code",
   "execution_count": null,
   "metadata": {
    "ExecuteTime": {
     "start_time": "2023-07-22T04:41:32.425Z"
    }
   },
   "outputs": [],
   "source": [
    "wise_radec_rebin_lc(ra_ULIRG_F01004_2237,dec_ULIRG_F01004_2237,datawise_dir=wisedata_path_name,plotwise_dir=save_lc_img_dir)\n"
   ]
  },
  {
   "cell_type": "code",
   "execution_count": null,
   "metadata": {
    "ExecuteTime": {
     "start_time": "2023-07-22T04:41:32.430Z"
    }
   },
   "outputs": [],
   "source": [
    "wise_plotradec_lc(ra_ULIRG_F01004_2237,dec_ULIRG_F01004_2237,datawise_dir=wisedata_path_name,plotwise_dir=save_lc_img_dir)\n"
   ]
  },
  {
   "cell_type": "code",
   "execution_count": null,
   "metadata": {
    "ExecuteTime": {
     "start_time": "2023-07-22T04:41:32.435Z"
    }
   },
   "outputs": [],
   "source": [
    "save_lc_img_dir"
   ]
  },
  {
   "cell_type": "code",
   "execution_count": null,
   "metadata": {
    "ExecuteTime": {
     "start_time": "2023-07-22T04:41:32.440Z"
    }
   },
   "outputs": [],
   "source": [
    "!open /Volumes/ExtremeSSD/CLAGN_statistic_plot/WISE_lc"
   ]
  },
  {
   "cell_type": "code",
   "execution_count": null,
   "metadata": {},
   "outputs": [],
   "source": []
  },
  {
   "cell_type": "markdown",
   "metadata": {},
   "source": [
    "## WISEA J195739.10+503320.4"
   ]
  },
  {
   "cell_type": "code",
   "execution_count": null,
   "metadata": {
    "ExecuteTime": {
     "start_time": "2023-07-22T04:41:32.647Z"
    }
   },
   "outputs": [],
   "source": [
    "name='WISEA J195739.10+503320.4'\n",
    "wisedata_path_name='/Users/lyubing/blog/brettlv.github.io/pythoncode/WISEDATA'"
   ]
  },
  {
   "cell_type": "code",
   "execution_count": null,
   "metadata": {
    "ExecuteTime": {
     "start_time": "2023-07-22T04:41:32.653Z"
    }
   },
   "outputs": [],
   "source": [
    "print(name,wisedata_path_name)"
   ]
  },
  {
   "cell_type": "markdown",
   "metadata": {
    "ExecuteTime": {
     "end_time": "2022-07-04T12:40:43.719171Z",
     "start_time": "2022-07-04T12:39:00.385490Z"
    }
   },
   "source": [
    "download_wise(name,wisedata_path)"
   ]
  },
  {
   "cell_type": "code",
   "execution_count": null,
   "metadata": {},
   "outputs": [],
   "source": []
  },
  {
   "cell_type": "markdown",
   "metadata": {},
   "source": [
    "##  'WISEA J160450.22+520159.0'"
   ]
  },
  {
   "cell_type": "code",
   "execution_count": null,
   "metadata": {
    "ExecuteTime": {
     "start_time": "2023-07-22T04:41:33.037Z"
    }
   },
   "outputs": [],
   "source": [
    "name='WISEA J160450.22+520159.0'\n",
    "print(name,wisedata_path_name)"
   ]
  },
  {
   "cell_type": "code",
   "execution_count": null,
   "metadata": {
    "ExecuteTime": {
     "start_time": "2023-07-22T04:41:33.042Z"
    }
   },
   "outputs": [],
   "source": [
    "data_test_neo,data_test_mep=get_wise_data(name,wisedata_path_name)"
   ]
  },
  {
   "cell_type": "code",
   "execution_count": null,
   "metadata": {
    "ExecuteTime": {
     "start_time": "2023-07-22T04:41:33.047Z"
    }
   },
   "outputs": [],
   "source": [
    "data_test_neo,"
   ]
  },
  {
   "cell_type": "code",
   "execution_count": null,
   "metadata": {
    "ExecuteTime": {
     "start_time": "2023-07-22T04:41:33.051Z"
    }
   },
   "outputs": [],
   "source": [
    "data_test_mep"
   ]
  },
  {
   "cell_type": "markdown",
   "metadata": {},
   "source": [
    "## AT 2021loi"
   ]
  },
  {
   "cell_type": "code",
   "execution_count": null,
   "metadata": {
    "ExecuteTime": {
     "end_time": "2023-09-19T15:36:10.002114Z",
     "start_time": "2023-09-19T15:36:09.997760Z"
    }
   },
   "outputs": [],
   "source": [
    "from astropy import units as u\n",
    "from astropy.coordinates import SkyCoord\n",
    "\n",
    "name='AT2021loi'\n",
    "coord_AT2021loi=SkyCoord('22h11m21.93s','+39d42m30.31s', unit=(u.hourangle, u.deg),frame=\"fk5\",) \n",
    "ra_AT2021loi_1=coord_AT2021loi.ra.deg\n",
    "dec_AT2021loi_1=coord_AT2021loi.dec.deg\n",
    "z_AT2021loi=0.083\n",
    "\n",
    "print(ra_AT2021loi_1,dec_AT2021loi_1)\n"
   ]
  },
  {
   "cell_type": "code",
   "execution_count": null,
   "metadata": {},
   "outputs": [],
   "source": []
  },
  {
   "cell_type": "code",
   "execution_count": null,
   "metadata": {
    "ExecuteTime": {
     "end_time": "2023-09-13T02:53:29.547732Z",
     "start_time": "2023-09-13T02:53:29.540298Z"
    }
   },
   "outputs": [],
   "source": [
    "datawise_dir='/Users/lyubing/Downloads/TDE_ambiguous nuclear transient(ANT)/Bowen Fluorescence Flare (BFF) class/'"
   ]
  },
  {
   "cell_type": "code",
   "execution_count": null,
   "metadata": {
    "ExecuteTime": {
     "end_time": "2023-09-20T06:35:31.341500Z",
     "start_time": "2023-09-20T06:35:31.338905Z"
    }
   },
   "outputs": [],
   "source": [
    "ra_AT2021loi,dec_AT2021loi=15.16517,39.70832\n",
    "z_AT2021loi=0.083"
   ]
  },
  {
   "cell_type": "markdown",
   "metadata": {
    "ExecuteTime": {
     "end_time": "2023-09-13T02:54:39.551157Z",
     "start_time": "2023-09-13T02:53:55.306714Z"
    }
   },
   "source": [
    "download_wise_withradec(ra_AT2021loi,dec_AT2021loi,datawise_dir_BFF)"
   ]
  },
  {
   "cell_type": "code",
   "execution_count": null,
   "metadata": {
    "ExecuteTime": {
     "end_time": "2023-09-20T06:35:17.663258Z",
     "start_time": "2023-09-20T06:35:17.649498Z"
    }
   },
   "outputs": [],
   "source": [
    "from astroquery.ipac.ned import Ned\n",
    "#from astroquery.ipac.ned import Ned\n",
    "import astropy.units as u\n",
    "from astropy import coordinates\n",
    "\n",
    "result_table_AT2021loi = Ned.query_object('WISEA J010039.62+394230.3')"
   ]
  },
  {
   "cell_type": "code",
   "execution_count": null,
   "metadata": {
    "ExecuteTime": {
     "end_time": "2023-09-20T06:35:25.573681Z",
     "start_time": "2023-09-20T06:35:25.568812Z"
    }
   },
   "outputs": [],
   "source": [
    "result_table_AT2021loi"
   ]
  },
  {
   "cell_type": "code",
   "execution_count": null,
   "metadata": {
    "ExecuteTime": {
     "end_time": "2023-09-13T03:08:08.672668Z",
     "start_time": "2023-09-13T03:07:20.702834Z"
    }
   },
   "outputs": [],
   "source": [
    "name='WISEA J010039.62+394230.3'\n",
    "download_wise(name,datawise_dir_BFF)\n",
    "\n",
    "wise_rebin_lc(name,datawise_dir_BFF,datawise_dir_BFF)"
   ]
  },
  {
   "cell_type": "code",
   "execution_count": null,
   "metadata": {
    "ExecuteTime": {
     "end_time": "2023-09-13T03:11:00.778368Z",
     "start_time": "2023-09-13T03:10:58.737956Z"
    }
   },
   "outputs": [],
   "source": []
  },
  {
   "cell_type": "code",
   "execution_count": null,
   "metadata": {},
   "outputs": [],
   "source": []
  },
  {
   "cell_type": "code",
   "execution_count": null,
   "metadata": {
    "ExecuteTime": {
     "end_time": "2023-09-19T15:35:04.788331Z",
     "start_time": "2023-09-19T15:34:51.221819Z"
    }
   },
   "outputs": [],
   "source": [
    "data_ztf_AT2021loi = lightcurve.LCQuery.download_data(circle=[ra_AT2021loi,dec_AT2021loi,2/3600], \n",
    "                                                      #bandname=\"g\",\n",
    "                                                      BAD_CATFLAGS_MASK=32768)"
   ]
  },
  {
   "cell_type": "code",
   "execution_count": null,
   "metadata": {
    "ExecuteTime": {
     "end_time": "2023-09-19T15:35:04.803002Z",
     "start_time": "2023-09-19T15:35:04.789611Z"
    }
   },
   "outputs": [],
   "source": [
    "data_ztf_AT2021loi "
   ]
  },
  {
   "cell_type": "code",
   "execution_count": null,
   "metadata": {
    "ExecuteTime": {
     "end_time": "2023-09-20T06:28:46.568519Z",
     "start_time": "2023-09-20T06:28:44.721937Z"
    }
   },
   "outputs": [],
   "source": [
    "fig,ax=ztflc_show_in_jupyter(data_ztf_AT2021loi,'AT2021loi',figsize=[20,4])\n",
    "fig.savefig('%s/ZTF_%s.png'%(datawise_dir_BFF,'AT2021loi'),dpi=400, transparent=False, bbox_inches='tight')\n"
   ]
  },
  {
   "cell_type": "code",
   "execution_count": null,
   "metadata": {
    "ExecuteTime": {
     "end_time": "2023-09-19T15:35:05.768619Z",
     "start_time": "2023-09-19T15:35:04.804455Z"
    }
   },
   "outputs": [],
   "source": [
    "ztflc_show_in_jupyter(data_ztf_AT2021loi,'AT2021loi')"
   ]
  },
  {
   "cell_type": "code",
   "execution_count": null,
   "metadata": {},
   "outputs": [],
   "source": []
  },
  {
   "cell_type": "markdown",
   "metadata": {},
   "source": [
    "## AT 2021seu wise/ztf "
   ]
  },
  {
   "cell_type": "code",
   "execution_count": null,
   "metadata": {
    "ExecuteTime": {
     "end_time": "2023-09-20T06:26:52.967038Z",
     "start_time": "2023-09-20T06:26:52.964503Z"
    }
   },
   "outputs": [],
   "source": [
    "name='AT2021seu'\n",
    "ra=215.39427 \n",
    "dec=37.90969 \n",
    "download_wise_withradec(ra,dec,datawise_dir)\n",
    "\n",
    "print(ra,dec)\n",
    "wise_radec_rebin_lc(ra,dec,datawise_dir_BFF,datawise_dir_BFF)#AT 2021seu"
   ]
  },
  {
   "cell_type": "code",
   "execution_count": null,
   "metadata": {
    "ExecuteTime": {
     "end_time": "2023-09-20T06:27:38.678277Z",
     "start_time": "2023-09-20T06:27:17.510845Z"
    }
   },
   "outputs": [],
   "source": [
    "name='AT2021seu'\n",
    "ra=215.39427 \n",
    "dec=37.90969 \n",
    "data_AT2021seu = lightcurve.LCQuery.download_data(circle=[ra,dec,2/3600], \n",
    "                                                  #bandname=\"g\",\n",
    "                                                  BAD_CATFLAGS_MASK=32768)\n"
   ]
  },
  {
   "cell_type": "code",
   "execution_count": null,
   "metadata": {
    "ExecuteTime": {
     "end_time": "2023-09-13T06:41:25.812907Z",
     "start_time": "2023-09-13T06:41:25.802884Z"
    }
   },
   "outputs": [],
   "source": [
    "datawise_dir"
   ]
  },
  {
   "cell_type": "code",
   "execution_count": null,
   "metadata": {
    "ExecuteTime": {
     "end_time": "2023-09-20T06:28:20.876978Z",
     "start_time": "2023-09-20T06:28:19.043277Z"
    }
   },
   "outputs": [],
   "source": [
    "fig,ax=ztflc_show_in_jupyter(data_AT2021seu,'AT2021seu',figsize=[20,4])\n",
    "fig.savefig('%s/ZTF_%s.png'%(datawise_dir,'AT2021seu'),dpi=400, transparent=False, bbox_inches='tight')\n"
   ]
  },
  {
   "cell_type": "code",
   "execution_count": null,
   "metadata": {},
   "outputs": [],
   "source": []
  },
  {
   "cell_type": "code",
   "execution_count": null,
   "metadata": {},
   "outputs": [],
   "source": []
  },
  {
   "cell_type": "code",
   "execution_count": null,
   "metadata": {},
   "outputs": [],
   "source": []
  },
  {
   "cell_type": "code",
   "execution_count": null,
   "metadata": {
    "ExecuteTime": {
     "end_time": "2023-09-13T06:30:03.246729Z",
     "start_time": "2023-09-13T06:30:03.237056Z"
    }
   },
   "outputs": [],
   "source": [
    "2/3600"
   ]
  },
  {
   "cell_type": "code",
   "execution_count": null,
   "metadata": {
    "ExecuteTime": {
     "end_time": "2023-09-13T02:55:18.687412Z",
     "start_time": "2023-09-13T02:55:18.681050Z"
    }
   },
   "outputs": [],
   "source": [
    "save_lc_img_dir"
   ]
  },
  {
   "cell_type": "code",
   "execution_count": null,
   "metadata": {
    "ExecuteTime": {
     "end_time": "2023-09-13T02:55:39.383506Z",
     "start_time": "2023-09-13T02:55:39.353078Z"
    }
   },
   "outputs": [],
   "source": [
    "wise_radec_rebin_lc(ra_AT2021loi,dec_AT2021loi,datawise_dir,save_lc_img_dir)"
   ]
  },
  {
   "cell_type": "code",
   "execution_count": null,
   "metadata": {
    "ExecuteTime": {
     "end_time": "2023-09-13T02:55:49.467971Z",
     "start_time": "2023-09-13T02:55:49.159313Z"
    }
   },
   "outputs": [],
   "source": [
    "!open /Volumes/ExtremeSSD/CLAGN_statistic_plot/WISE_lc"
   ]
  },
  {
   "cell_type": "markdown",
   "metadata": {},
   "source": [
    "## GALEX 2673143681802830594"
   ]
  },
  {
   "cell_type": "code",
   "execution_count": null,
   "metadata": {
    "ExecuteTime": {
     "end_time": "2023-09-20T06:11:24.377078Z",
     "start_time": "2023-09-20T06:11:23.386284Z"
    }
   },
   "outputs": [],
   "source": [
    "result_table_GALEX2673143681802830594 = Ned.query_object('GALEX 2673143681802830594')"
   ]
  },
  {
   "cell_type": "code",
   "execution_count": null,
   "metadata": {
    "ExecuteTime": {
     "end_time": "2023-09-20T06:12:47.341740Z",
     "start_time": "2023-09-20T06:12:47.338525Z"
    }
   },
   "outputs": [],
   "source": [
    "result_table_GALEX2673143681802830594['RA'].value[0],result_table_GALEX2673143681802830594['DEC'].value[0]"
   ]
  },
  {
   "cell_type": "code",
   "execution_count": null,
   "metadata": {
    "ExecuteTime": {
     "end_time": "2023-09-20T06:13:04.341445Z",
     "start_time": "2023-09-20T06:12:56.233245Z"
    }
   },
   "outputs": [],
   "source": [
    "data_GALEX2673143681802830594 = lightcurve.LCQuery.download_data(circle=[8.81274, -2.44037,2/3600], \n",
    "                                                  #bandname=\"g\",\n",
    "                                                  BAD_CATFLAGS_MASK=32768)"
   ]
  },
  {
   "cell_type": "code",
   "execution_count": null,
   "metadata": {
    "ExecuteTime": {
     "end_time": "2023-09-20T06:13:05.677219Z",
     "start_time": "2023-09-20T06:13:05.660609Z"
    }
   },
   "outputs": [],
   "source": [
    "data_GALEX2673143681802830594"
   ]
  },
  {
   "cell_type": "code",
   "execution_count": null,
   "metadata": {},
   "outputs": [],
   "source": []
  },
  {
   "cell_type": "code",
   "execution_count": null,
   "metadata": {},
   "outputs": [],
   "source": []
  },
  {
   "cell_type": "code",
   "execution_count": null,
   "metadata": {
    "ExecuteTime": {
     "end_time": "2023-09-20T06:32:27.659323Z",
     "start_time": "2023-09-20T06:32:26.459231Z"
    }
   },
   "outputs": [],
   "source": [
    "#ztflc_show_in_jupyter(data_GALEX2673143681802830594,'GALEX2673143681802830594')\n",
    "\n",
    "fig,ax=ztflc_show_in_jupyter(data_GALEX2673143681802830594,'GALEX2673143681802830594',figsize=[10,4])\n",
    "fig.savefig('%s/ZTF_%s.png'%(datawise_dir_GALEX,'GALEX2673143681802830594'),dpi=400, transparent=False, bbox_inches='tight')\n"
   ]
  },
  {
   "cell_type": "code",
   "execution_count": null,
   "metadata": {
    "ExecuteTime": {
     "end_time": "2023-09-20T07:00:41.692966Z",
     "start_time": "2023-09-20T07:00:41.688161Z"
    }
   },
   "outputs": [],
   "source": [
    "download_wise('GALEX 2673143681802830594',datawise_dir_GALEX)"
   ]
  },
  {
   "cell_type": "code",
   "execution_count": null,
   "metadata": {
    "ExecuteTime": {
     "end_time": "2023-09-20T07:00:43.237141Z",
     "start_time": "2023-09-20T07:00:43.221488Z"
    }
   },
   "outputs": [],
   "source": [
    "wise_rebin_lc('GALEX2673143681802830594',datawise_dir_GALEX,datawise_dir_GALEX)"
   ]
  },
  {
   "cell_type": "code",
   "execution_count": null,
   "metadata": {},
   "outputs": [],
   "source": []
  },
  {
   "cell_type": "code",
   "execution_count": null,
   "metadata": {},
   "outputs": [],
   "source": []
  },
  {
   "cell_type": "code",
   "execution_count": null,
   "metadata": {
    "ExecuteTime": {
     "end_time": "2023-09-20T06:19:49.158359Z",
     "start_time": "2023-09-20T06:19:49.155116Z"
    }
   },
   "outputs": [],
   "source": [
    "name"
   ]
  },
  {
   "cell_type": "code",
   "execution_count": null,
   "metadata": {},
   "outputs": [],
   "source": []
  },
  {
   "cell_type": "code",
   "execution_count": null,
   "metadata": {
    "ExecuteTime": {
     "end_time": "2023-09-13T02:59:31.334652Z",
     "start_time": "2023-09-13T02:59:19.469712Z"
    }
   },
   "outputs": [],
   "source": [
    "from astroquery.ipac.ned import Ned\n",
    "#from astroquery.ipac.ned import Ned\n",
    "import astropy.units as u\n",
    "from astropy import coordinates\n",
    "\n",
    "co = coordinates.SkyCoord(ra=356.86970,dec=24.46270,\n",
    "                          unit=(u.deg, u.deg), frame='fk5')\n",
    "result_table = Ned.query_region(co, radius=0.1 * u.deg, equinox='J2000.0')\n",
    "\n",
    "#result_table = Ned.query_object('name')"
   ]
  },
  {
   "cell_type": "code",
   "execution_count": null,
   "metadata": {
    "ExecuteTime": {
     "end_time": "2023-09-13T02:59:56.068322Z",
     "start_time": "2023-09-13T02:59:56.048926Z"
    }
   },
   "outputs": [],
   "source": [
    "result_table_QSO=result_table[result_table['Type']=='QSO']"
   ]
  },
  {
   "cell_type": "code",
   "execution_count": null,
   "metadata": {
    "ExecuteTime": {
     "end_time": "2023-09-13T02:59:58.678698Z",
     "start_time": "2023-09-13T02:59:58.658256Z"
    }
   },
   "outputs": [],
   "source": [
    "result_table_QSO"
   ]
  },
  {
   "cell_type": "code",
   "execution_count": null,
   "metadata": {},
   "outputs": [],
   "source": []
  },
  {
   "cell_type": "code",
   "execution_count": null,
   "metadata": {
    "ExecuteTime": {
     "end_time": "2023-09-13T03:08:39.532414Z",
     "start_time": "2023-09-13T03:08:38.231819Z"
    }
   },
   "outputs": [],
   "source": [
    "result_table = Ned.query_object('WISEA J010039.62+394230.3')"
   ]
  },
  {
   "cell_type": "code",
   "execution_count": null,
   "metadata": {
    "ExecuteTime": {
     "end_time": "2023-09-13T04:22:12.308779Z",
     "start_time": "2023-09-13T04:22:12.291637Z"
    }
   },
   "outputs": [],
   "source": [
    "result_table"
   ]
  },
  {
   "cell_type": "code",
   "execution_count": null,
   "metadata": {
    "ExecuteTime": {
     "end_time": "2023-09-13T04:22:26.105019Z",
     "start_time": "2023-09-13T04:22:26.090362Z"
    }
   },
   "outputs": [],
   "source": [
    "result_table['RA'],result_table['DEC']"
   ]
  },
  {
   "cell_type": "code",
   "execution_count": null,
   "metadata": {},
   "outputs": [],
   "source": [
    "15.16517,39.70832"
   ]
  },
  {
   "cell_type": "markdown",
   "metadata": {},
   "source": [
    "## BFF_candidate_WISE"
   ]
  },
  {
   "cell_type": "code",
   "execution_count": null,
   "metadata": {
    "ExecuteTime": {
     "end_time": "2023-10-19T11:27:18.231791Z",
     "start_time": "2023-10-19T11:27:18.167402Z"
    }
   },
   "outputs": [],
   "source": [
    "BFF_candidates=pd.read_csv('/Users/lyubing/Downloads/BFF_candidatesnomatch.py',header=None,delimiter='\\s')\n",
    "\n",
    "BFF_candidatesmatchSDSS=pd.read_csv('/Users/lyubing/Downloads/BFF_candidatesmatchSDSSpy.py',header=None,delimiter='\\s')"
   ]
  },
  {
   "cell_type": "code",
   "execution_count": null,
   "metadata": {
    "ExecuteTime": {
     "end_time": "2023-10-19T11:35:01.731915Z",
     "start_time": "2023-10-19T11:35:01.723058Z"
    }
   },
   "outputs": [],
   "source": [
    "Fits_DR10_dir='/Users/lyubing/Downloads/LAMOST/LAMOST_DR10/'\n",
    "LAMOST_dr10_qsobySDSS_dir=os.path.join(Fits_DR10_dir,'LAMOST_dr10_qsobySDSS/')  "
   ]
  },
  {
   "cell_type": "code",
   "execution_count": null,
   "metadata": {
    "ExecuteTime": {
     "end_time": "2023-10-19T11:35:04.973281Z",
     "start_time": "2023-10-19T11:35:03.247165Z"
    }
   },
   "outputs": [],
   "source": [
    "pd_LAMOST_dr10_match_z_SDSS16=pd.read_csv('/Users/lyubing/Downloads/LAMOST/pd_LAMOST_dr10_match_z_SDSS16.csv')\n",
    "for index, filename in enumerate(pd_LAMOST_dr10_match_z_SDSS16['#cols: spUrl']):\n",
    "#filename=pd_LAMOST_dr10_match_z_SDSS16.loc[index,'#cols: spUrl']\n",
    "    files_fits_path_i=os.path.join(LAMOST_dr10_qsobySDSS_dir,filename)\n",
    "    if os.path.exists(files_fits_path_i): \n",
    "        #print(files_fits_path_i)\n",
    "\n",
    "        hdul_i=fits.open(files_fits_path_i)\n",
    "\n",
    "        obsid_i= hdul_i[0].header['OBSID']\n",
    "        pd_LAMOST_dr10_match_z_SDSS16.loc[index,'OBSID']=obsid_i\n",
    "    \n",
    "pd_LAMOST_dr10_match_z_SDSS16_zlt0dot37=pd_LAMOST_dr10_match_z_SDSS16[pd_LAMOST_dr10_match_z_SDSS16['zSDSS']<0.2]\n",
    "pd_LAMOST_dr10_match_z_SDSS16_zlt0dot37=drop_index(pd_LAMOST_dr10_match_z_SDSS16_zlt0dot37)\n",
    "    \n",
    "    "
   ]
  },
  {
   "cell_type": "code",
   "execution_count": null,
   "metadata": {
    "ExecuteTime": {
     "end_time": "2023-10-19T11:35:28.711020Z",
     "start_time": "2023-10-19T11:35:22.795163Z"
    }
   },
   "outputs": [],
   "source": [
    "pd_asera_QSOandCandidates=pd.read_csv('/Users/lyubing/Downloads/pd_asera_dr11and12_QSOandCandidates.csv')\n",
    "for index, filename in enumerate(pd_asera_QSOandCandidates['#cols: spUrl']):\n",
    "#filename=pd_LAMOST_dr10_match_z_SDSS16.loc[index,'#cols: spUrl']\n",
    "    files_fits_path_i= filename[8:]\n",
    "    if os.path.exists(files_fits_path_i):\n",
    "        #print(files_fits_path_i)\n",
    "        hdul_i=fits.open(files_fits_path_i)\n",
    "        obsid_i= hdul_i[0].header['OBSID']\n",
    "        pd_asera_QSOandCandidates.loc[index,'OBSID']=obsid_i"
   ]
  },
  {
   "cell_type": "code",
   "execution_count": null,
   "metadata": {
    "ExecuteTime": {
     "end_time": "2023-10-19T11:35:34.234266Z",
     "start_time": "2023-10-19T11:35:34.224295Z"
    }
   },
   "outputs": [],
   "source": [
    "pd_asera_QSOandCandidates_zlt0dot37=pd_asera_QSOandCandidates[pd_asera_QSOandCandidates['z']<0.2]\n",
    "pd_asera_QSOandCandidates_zlt0dot37=drop_index(pd_asera_QSOandCandidates_zlt0dot37)\n"
   ]
  },
  {
   "cell_type": "code",
   "execution_count": null,
   "metadata": {},
   "outputs": [],
   "source": []
  },
  {
   "cell_type": "code",
   "execution_count": null,
   "metadata": {},
   "outputs": [],
   "source": []
  },
  {
   "cell_type": "code",
   "execution_count": null,
   "metadata": {
    "ExecuteTime": {
     "end_time": "2023-10-19T11:27:29.814098Z",
     "start_time": "2023-10-19T11:27:29.808153Z"
    }
   },
   "outputs": [],
   "source": [
    "BFF_candidates_dir1='/Users/lyubing/Downloads/TDE_ambiguous nuclear transient(ANT)/Bowen Fluorescence Flare (BFF) class/qsofitmore_test/output/BFF_candidate/Fe_verner09_True'\n",
    "\n",
    "BFF_candidates_dir2='/Users/lyubing/Downloads/TDE_ambiguous nuclear transient(ANT)/Bowen Fluorescence Flare (BFF) class/qsofitmore_test/output/BFF_candidate/Fe_verner09_True_matchSDSS'"
   ]
  },
  {
   "cell_type": "markdown",
   "metadata": {},
   "source": [
    "### matchsdss"
   ]
  },
  {
   "cell_type": "code",
   "execution_count": null,
   "metadata": {
    "ExecuteTime": {
     "end_time": "2023-10-19T11:57:46.745209Z",
     "start_time": "2023-10-19T11:57:46.734705Z"
    }
   },
   "outputs": [],
   "source": [
    "BFF_candidatesmatchSDSS[0]"
   ]
  },
  {
   "cell_type": "code",
   "execution_count": null,
   "metadata": {
    "ExecuteTime": {
     "end_time": "2023-10-20T07:14:14.913803Z",
     "start_time": "2023-10-20T07:11:04.160667Z"
    }
   },
   "outputs": [],
   "source": [
    "for obsid_i in BFF_candidatesmatchSDSS[0]:\n",
    "    #print(i)\n",
    "    select_i=  pd_LAMOST_dr10_match_z_SDSS16_zlt0dot37[pd_LAMOST_dr10_match_z_SDSS16_zlt0dot37['OBSID']==obsid_i]   \n",
    "    select_i=drop_index(select_i)\n",
    "    \n",
    "    files_fits_path_i=os.path.join(LAMOST_dr10_qsobySDSS_dir,select_i.loc[0,'#cols: spUrl'])\n",
    "\n",
    "    #print(files_fits_path_i)\n",
    "    \n",
    "    hdul_i=fits.open(files_fits_path_i)\n",
    "    obsid_i= hdul_i[0].header['OBSID']\n",
    "    radeg=hdul_i[0].header['RA']\n",
    "    decdeg=hdul_i[0].header['DEC'] \n",
    "    print(obsid_i,radeg,decdeg)\n",
    "    download_wise_withradec(radeg,decdeg,wisedata_path=datawise_dir_BFF)\n",
    "    wise_plotradec_lc(radeg,decdeg,datawise_dir_BFF,datawise_dir_BFF)     \n",
    "    #save_name= 'id%dra%.5f_dec%.5f'%(obsid_i,ra,dec)\n",
    "    #ztf_data_path_= os.path.join(lamostdr10_12_matchSDSS_ztfdata,'%s.csv'%save_name)\n",
    "    #if os.path.exists(ztf_data_path_):\n",
    "        #print(ztf_data_path_)"
   ]
  },
  {
   "cell_type": "code",
   "execution_count": null,
   "metadata": {},
   "outputs": [],
   "source": [
    "#RA223.83144_DEC16.95677\n",
    "wise_plotradec_lc(223.83144,16.95677,datawise_dir_BFF,datawise_dir_BFF) "
   ]
  },
  {
   "cell_type": "code",
   "execution_count": null,
   "metadata": {},
   "outputs": [],
   "source": []
  },
  {
   "cell_type": "markdown",
   "metadata": {},
   "source": [
    "### nomatchsdss"
   ]
  },
  {
   "cell_type": "code",
   "execution_count": null,
   "metadata": {},
   "outputs": [],
   "source": [
    "for obsid_i in BFF_candidates[0]:\n",
    "    #print(obsid_i)\n",
    "    select_i=  pd_asera_QSOandCandidates_zlt0dot37[pd_asera_QSOandCandidates_zlt0dot37['OBSID']==obsid_i]   \n",
    "    select_i=drop_index(select_i)\n",
    "    \n",
    "    files_fits_path_i=select_i.loc[0,'#cols: spUrl'][8:]\n",
    "    \n",
    "    hdul_i=fits.open(files_fits_path_i)\n",
    "    #obsid_i= hdul_i[0].header['OBSID']\n",
    "    radeg=hdul_i[0].header['RA']\n",
    "    decdeg=hdul_i[0].header['DEC']    \n",
    "    mjd=hdul_i[0].header['MJD']\n",
    "    download_wise_withradec(radeg,decdeg,wisedata_path=datawise_dir_BFF)\n",
    "    wise_plotradec_lc(radeg,decdeg,datawise_dir_BFF,datawise_dir_BFF)     "
   ]
  },
  {
   "cell_type": "code",
   "execution_count": null,
   "metadata": {},
   "outputs": [],
   "source": []
  },
  {
   "cell_type": "code",
   "execution_count": null,
   "metadata": {},
   "outputs": [],
   "source": []
  },
  {
   "cell_type": "markdown",
   "metadata": {},
   "source": [
    "# plot"
   ]
  },
  {
   "cell_type": "markdown",
   "metadata": {
    "ExecuteTime": {
     "end_time": "2022-06-16T04:11:52.090623Z",
     "start_time": "2022-06-16T04:11:51.731467Z"
    }
   },
   "source": []
  },
  {
   "cell_type": "code",
   "execution_count": null,
   "metadata": {
    "ExecuteTime": {
     "start_time": "2023-07-22T04:41:33.481Z"
    }
   },
   "outputs": [],
   "source": [
    "data_test_neo,data_test_mep"
   ]
  },
  {
   "cell_type": "code",
   "execution_count": null,
   "metadata": {
    "ExecuteTime": {
     "end_time": "2022-07-04T12:50:07.480311Z",
     "start_time": "2022-07-04T12:50:07.475553Z"
    }
   },
   "outputs": [],
   "source": []
  },
  {
   "cell_type": "markdown",
   "metadata": {
    "ExecuteTime": {
     "end_time": "2022-06-16T03:28:01.842446Z",
     "start_time": "2022-06-16T03:28:01.752428Z"
    }
   },
   "source": [
    "## wise_plot_lc"
   ]
  },
  {
   "cell_type": "code",
   "execution_count": null,
   "metadata": {
    "ExecuteTime": {
     "start_time": "2023-07-22T04:41:33.723Z"
    }
   },
   "outputs": [],
   "source": [
    "name='WISEA J160450.22+520159.0'\n",
    "wise_plot_lc(name,datawise_dir=wisedata_path_name)"
   ]
  },
  {
   "cell_type": "markdown",
   "metadata": {},
   "source": [
    "## wise_rebin_lc"
   ]
  },
  {
   "cell_type": "code",
   "execution_count": null,
   "metadata": {
    "ExecuteTime": {
     "start_time": "2023-07-22T04:41:33.937Z"
    }
   },
   "outputs": [],
   "source": [
    "wise_rebin_lc(name,datawise_dir=wisedata_path)"
   ]
  },
  {
   "cell_type": "markdown",
   "metadata": {
    "ExecuteTime": {
     "end_time": "2022-06-16T04:27:47.700568Z",
     "start_time": "2022-06-16T04:27:47.687124Z"
    }
   },
   "source": [
    "data_rebin_neo,data_rebin_mep"
   ]
  },
  {
   "cell_type": "markdown",
   "metadata": {},
   "source": [
    "## download_wise_radecdata"
   ]
  },
  {
   "cell_type": "code",
   "execution_count": null,
   "metadata": {
    "ExecuteTime": {
     "start_time": "2023-07-22T04:41:34.349Z"
    }
   },
   "outputs": [],
   "source": [
    "RG_OIII_match_LoTSS_selectsnrgt5_fadeing=pd.read_csv('%s/RG_OIII_match_LoTSS_selectsnrgt5_fadeing.csv'%Surveyfits_root)\n",
    "print(len(RG_OIII_match_LoTSS_selectsnrgt5_fadeing))\n",
    "for index, (radeg,decdeg) in enumerate(zip(RG_OIII_match_LoTSS_selectsnrgt5_fadeing['RAdeg'],RG_OIII_match_LoTSS_selectsnrgt5_fadeing['DEdeg'])):\n",
    "    download_wise_withradec(radeg,decdeg,wisedata_path_LoTSS) \n",
    "    #save_name='RA%.5f_DEC%.5f'%(radeg,decdeg)\n",
    "    #print(save_name)"
   ]
  },
  {
   "cell_type": "code",
   "execution_count": null,
   "metadata": {
    "ExecuteTime": {
     "start_time": "2023-07-22T04:41:34.354Z"
    }
   },
   "outputs": [],
   "source": [
    "RG_OIII_match_TGSS_selectsnrgt5_fadeing=pd.read_csv('%s/RG_OIII_match_TGSS_selectsnrgt5_fadeing.csv'%Surveyfits_root)\n",
    "print(len(RG_OIII_match_TGSS_selectsnrgt5_fadeing))\n",
    "for index, (radeg,decdeg) in enumerate(zip(RG_OIII_match_TGSS_selectsnrgt5_fadeing['RAdeg'],RG_OIII_match_TGSS_selectsnrgt5_fadeing['DEdeg'])):\n",
    "    download_wise_withradec(radeg,decdeg,wisedata_path_TGSS)\n",
    "    #save_name='RA%.5f_DEC%.5f'%(radeg,decdeg)\n",
    "    #print(save_name)"
   ]
  },
  {
   "cell_type": "code",
   "execution_count": null,
   "metadata": {
    "ExecuteTime": {
     "start_time": "2023-07-22T04:41:34.359Z"
    }
   },
   "outputs": [],
   "source": [
    "RG_OIII_match_GGSM_selectsnrgt5_fadeing=pd.read_csv('%s/RG_OIII_match_GGSM_selectsnrgt5_fadeing.csv'%Surveyfits_root)\n",
    "print(len(RG_OIII_match_GGSM_selectsnrgt5_fadeing))\n",
    "for index, (radeg,decdeg) in enumerate(zip(RG_OIII_match_GGSM_selectsnrgt5_fadeing['RAdeg'],RG_OIII_match_GGSM_selectsnrgt5_fadeing['DEdeg'])):\n",
    "    download_wise_withradec(radeg,decdeg,wisedata_path_GGSM)\n",
    "    #save_name='RA%.5f_DEC%.5f'%(radeg,decdeg)\n",
    "    #print(save_name)\n"
   ]
  },
  {
   "cell_type": "code",
   "execution_count": null,
   "metadata": {},
   "outputs": [],
   "source": []
  },
  {
   "cell_type": "code",
   "execution_count": null,
   "metadata": {
    "ExecuteTime": {
     "start_time": "2023-07-22T04:41:34.366Z"
    }
   },
   "outputs": [],
   "source": [
    "RG_OIII_match_LoTSS_selectsnrgt5_fadeing.loc[0].values"
   ]
  },
  {
   "cell_type": "code",
   "execution_count": null,
   "metadata": {},
   "outputs": [],
   "source": []
  },
  {
   "cell_type": "markdown",
   "metadata": {},
   "source": [
    "## wise_plotradec_lc"
   ]
  },
  {
   "cell_type": "code",
   "execution_count": null,
   "metadata": {
    "ExecuteTime": {
     "start_time": "2023-07-22T04:41:34.587Z"
    }
   },
   "outputs": [],
   "source": [
    "save_name='RA%.5f_DEC%.5f'%(radeg,decdeg)\n",
    "print(save_name)  \n",
    "#name=save_name\n",
    "data_test_neo=pd.read_csv(os.path.join(wisedata_path_GGSM,'wise_%s_neo.csv'%save_name))\n",
    "data_test_mep=pd.read_csv(os.path.join(wisedata_path_GGSM,'wise_%s_mep.csv'%save_name))"
   ]
  },
  {
   "cell_type": "code",
   "execution_count": null,
   "metadata": {
    "ExecuteTime": {
     "start_time": "2023-07-22T04:41:34.592Z"
    }
   },
   "outputs": [],
   "source": [
    "data_test_neo.columns"
   ]
  },
  {
   "cell_type": "code",
   "execution_count": null,
   "metadata": {
    "ExecuteTime": {
     "start_time": "2023-07-22T04:41:34.596Z"
    }
   },
   "outputs": [],
   "source": [
    "data_test_neo[['w1snr','w2snr']]"
   ]
  },
  {
   "cell_type": "code",
   "execution_count": null,
   "metadata": {
    "ExecuteTime": {
     "start_time": "2023-07-22T04:41:34.601Z"
    }
   },
   "outputs": [],
   "source": [
    "data_test_neo['cc_flags'][0]"
   ]
  },
  {
   "cell_type": "code",
   "execution_count": null,
   "metadata": {
    "ExecuteTime": {
     "start_time": "2023-07-22T04:41:34.606Z"
    }
   },
   "outputs": [],
   "source": [
    "data_test_mep.columns"
   ]
  },
  {
   "cell_type": "code",
   "execution_count": null,
   "metadata": {
    "ExecuteTime": {
     "start_time": "2023-07-22T04:41:34.610Z"
    }
   },
   "outputs": [],
   "source": [
    "data_test_mep['cc_flags']#[0]"
   ]
  },
  {
   "cell_type": "code",
   "execution_count": null,
   "metadata": {
    "ExecuteTime": {
     "start_time": "2023-07-22T04:41:34.615Z"
    }
   },
   "outputs": [],
   "source": [
    "radeg,decdeg=RG_OIII_match_GGSM_selectsnrgt5_fadeing.loc[0].values\n",
    "save_name='RA%.5f_DEC%.5f'%(radeg,decdeg)\n",
    "print(save_name)       \n",
    "data_test_neo,data_test_mep=get_wise_radec_data(radeg,decdeg,wisedata_path_GGSM)"
   ]
  },
  {
   "cell_type": "code",
   "execution_count": null,
   "metadata": {
    "ExecuteTime": {
     "start_time": "2023-07-22T04:41:34.620Z"
    }
   },
   "outputs": [],
   "source": [
    "data_test_neo,data_test_mep"
   ]
  },
  {
   "cell_type": "code",
   "execution_count": null,
   "metadata": {},
   "outputs": [],
   "source": []
  },
  {
   "cell_type": "markdown",
   "metadata": {
    "ExecuteTime": {
     "end_time": "2022-08-31T09:15:40.189051Z",
     "start_time": "2022-08-31T09:15:40.181941Z"
    }
   },
   "source": [
    "wisedata_path"
   ]
  },
  {
   "cell_type": "code",
   "execution_count": null,
   "metadata": {
    "ExecuteTime": {
     "start_time": "2023-07-22T04:41:34.857Z"
    }
   },
   "outputs": [],
   "source": [
    "for index, (radeg,decdeg) in enumerate(zip(RG_OIII_match_LoTSS_selectsnrgt5_fadeing['RAdeg'],RG_OIII_match_LoTSS_selectsnrgt5_fadeing['DEdeg'])):\n",
    "    wise_plotradec_lc(radeg,decdeg,wisedata_path_LoTSS,wiseplot_path_LoTSS)                                        \n",
    "    #save_name='RA%.5f_DEC%.5f'%(radeg,decdeg)\n",
    "    #print(save_name)                                       \n"
   ]
  },
  {
   "cell_type": "code",
   "execution_count": null,
   "metadata": {
    "ExecuteTime": {
     "start_time": "2023-07-22T04:41:34.863Z"
    }
   },
   "outputs": [],
   "source": [
    "for index, (radeg,decdeg) in enumerate(zip(RG_OIII_match_TGSS_selectsnrgt5_fadeing['RAdeg'],RG_OIII_match_TGSS_selectsnrgt5_fadeing['DEdeg'])):\n",
    "    wise_plotradec_lc(radeg,decdeg,wisedata_path_TGSS,wiseplot_path_TGSS)                                        \n",
    "    #save_name='RA%.5f_DEC%.5f'%(radeg,decdeg)\n",
    "    #print(save_name)                                       \n"
   ]
  },
  {
   "cell_type": "code",
   "execution_count": null,
   "metadata": {
    "ExecuteTime": {
     "start_time": "2023-07-22T04:41:34.867Z"
    }
   },
   "outputs": [],
   "source": [
    "for index, (radeg,decdeg) in enumerate(zip(RG_OIII_match_GGSM_selectsnrgt5_fadeing['RAdeg'],RG_OIII_match_GGSM_selectsnrgt5_fadeing['DEdeg'])):\n",
    "    wise_plotradec_lc(radeg,decdeg,wisedata_path_GGSM,wiseplot_path_GGSM)                                        \n",
    "    #save_name='RA%.5f_DEC%.5f'%(radeg,decdeg)\n",
    "    #print(save_name)                                       \n"
   ]
  },
  {
   "cell_type": "markdown",
   "metadata": {},
   "source": [
    "## wise_radec_rebin_lc"
   ]
  },
  {
   "cell_type": "code",
   "execution_count": null,
   "metadata": {
    "ExecuteTime": {
     "start_time": "2023-07-22T04:41:35.106Z"
    }
   },
   "outputs": [],
   "source": [
    "for index, (radeg,decdeg) in enumerate(zip(RG_OIII_match_LoTSS_selectsnrgt5_fadeing['RAdeg'],RG_OIII_match_LoTSS_selectsnrgt5_fadeing['DEdeg'])):\n",
    "    wise_radec_rebin_lc(radeg,decdeg,wisedata_path_LoTSS,wise_rebin_plot_path_LoTSS)    "
   ]
  },
  {
   "cell_type": "code",
   "execution_count": null,
   "metadata": {
    "ExecuteTime": {
     "start_time": "2023-07-22T04:41:35.111Z"
    }
   },
   "outputs": [],
   "source": [
    "for index, (radeg,decdeg) in enumerate(zip(RG_OIII_match_TGSS_selectsnrgt5_fadeing['RAdeg'],RG_OIII_match_TGSS_selectsnrgt5_fadeing['DEdeg'])):\n",
    "    wise_radec_rebin_lc(radeg,decdeg,wisedata_path_TGSS,wise_rebin_plot_path_TGSS)                                        \n",
    "    #save_name='RA%.5f_DEC%.5f'%(radeg,decdeg)\n",
    "    #print(save_name)                                       \n"
   ]
  },
  {
   "cell_type": "code",
   "execution_count": null,
   "metadata": {
    "ExecuteTime": {
     "start_time": "2023-07-22T04:41:35.115Z"
    }
   },
   "outputs": [],
   "source": [
    "for index, (radeg,decdeg) in enumerate(zip(RG_OIII_match_GGSM_selectsnrgt5_fadeing['RAdeg'],RG_OIII_match_GGSM_selectsnrgt5_fadeing['DEdeg'])):\n",
    "    wise_radec_rebin_lc(radeg,decdeg,wisedata_path_GGSM,wise_rebin_plot_path_GGSM)                                        \n",
    "    #save_name='RA%.5f_DEC%.5f'%(radeg,decdeg)\n",
    "    #print(save_name)                                       \n"
   ]
  },
  {
   "cell_type": "code",
   "execution_count": null,
   "metadata": {
    "ExecuteTime": {
     "start_time": "2023-07-22T04:41:35.120Z"
    }
   },
   "outputs": [],
   "source": [
    "RG_OIII_match_GGSM_selectsnrgt5_fadeing"
   ]
  },
  {
   "cell_type": "code",
   "execution_count": null,
   "metadata": {},
   "outputs": [],
   "source": []
  },
  {
   "cell_type": "markdown",
   "metadata": {},
   "source": [
    "# RG_OIII_match_ALL_selectsnrgt5_fadeing"
   ]
  },
  {
   "cell_type": "code",
   "execution_count": null,
   "metadata": {
    "ExecuteTime": {
     "start_time": "2023-07-22T04:41:35.368Z"
    }
   },
   "outputs": [],
   "source": [
    "RG_OIII_match_ALL_selectsnrgt5_fadeing_radec=pd.read_csv('%s/RG_OIII_match_ALL_selectsnrgt5_fadeing_radec.csv'%Surveyfits_root)\n",
    "RG_OIII_match_ALL_selectsnrgt5_fadeing_radec_Table=Table.read('%s/RG_OIII_match_ALL_selectsnrgt5_fadeing_radec.csv'%Surveyfits_root)"
   ]
  },
  {
   "cell_type": "code",
   "execution_count": null,
   "metadata": {
    "ExecuteTime": {
     "start_time": "2023-07-22T04:41:35.373Z"
    }
   },
   "outputs": [],
   "source": [
    "RG_OIII_match_ALL_selectsnrgt5_fadeing=RG_OIII_match_ALL_selectsnrgt5_fadeing_radec"
   ]
  },
  {
   "cell_type": "markdown",
   "metadata": {
    "ExecuteTime": {
     "end_time": "2022-09-05T08:21:46.660189Z",
     "start_time": "2022-09-05T08:21:46.637889Z"
    }
   },
   "source": [
    "RG_OIII_match_ALL_selectsnrgt5_fadeing"
   ]
  },
  {
   "cell_type": "code",
   "execution_count": null,
   "metadata": {},
   "outputs": [],
   "source": []
  },
  {
   "cell_type": "code",
   "execution_count": null,
   "metadata": {},
   "outputs": [],
   "source": []
  },
  {
   "cell_type": "code",
   "execution_count": null,
   "metadata": {
    "ExecuteTime": {
     "start_time": "2023-07-22T04:41:35.619Z"
    }
   },
   "outputs": [],
   "source": [
    "RG_OIII_match_Radio_selectsnrgt5_fadeing=pd.read_csv('%s/RG_OIII_match_Radio_selectsnrgt5_fadeing_all'%Surveyfits_root)\n"
   ]
  },
  {
   "cell_type": "code",
   "execution_count": null,
   "metadata": {
    "ExecuteTime": {
     "start_time": "2023-07-22T04:41:35.623Z"
    }
   },
   "outputs": [],
   "source": [
    "RG_OIII_match_Radio_selectsnrgt5_fadeing.columns"
   ]
  },
  {
   "cell_type": "markdown",
   "metadata": {
    "ExecuteTime": {
     "end_time": "2022-09-05T08:16:55.960463Z",
     "start_time": "2022-09-05T08:16:55.945129Z"
    }
   },
   "source": [
    "RG_OIII_match_Radio_selectsnrgt5_fadeing['logLw1']=W1mag_to_Lum(RG_OIII_match_Radio_selectsnrgt5_fadeing['w1mpro_wise'],RG_OIII_match_Radio_selectsnrgt5_fadeing['Dcm'])\n",
    "RG_OIII_match_Radio_selectsnrgt5_fadeing['logLw2']=W2mag_to_Lum(RG_OIII_match_Radio_selectsnrgt5_fadeing['w2mpro_wise'],RG_OIII_match_Radio_selectsnrgt5_fadeing['Dcm'])\n",
    "RG_OIII_match_Radio_selectsnrgt5_fadeing['logLw3']=W3mag_to_Lum(RG_OIII_match_Radio_selectsnrgt5_fadeing['w3mpro_wise'],RG_OIII_match_Radio_selectsnrgt5_fadeing['Dcm'])\n",
    "RG_OIII_match_Radio_selectsnrgt5_fadeing['logLw4']=W4mag_to_Lum(RG_OIII_match_Radio_selectsnrgt5_fadeing['w4mpro_wise'],RG_OIII_match_Radio_selectsnrgt5_fadeing['Dcm'])"
   ]
  },
  {
   "cell_type": "code",
   "execution_count": null,
   "metadata": {},
   "outputs": [],
   "source": []
  },
  {
   "cell_type": "code",
   "execution_count": null,
   "metadata": {},
   "outputs": [],
   "source": []
  },
  {
   "cell_type": "code",
   "execution_count": null,
   "metadata": {},
   "outputs": [],
   "source": []
  },
  {
   "cell_type": "code",
   "execution_count": null,
   "metadata": {},
   "outputs": [],
   "source": []
  },
  {
   "cell_type": "code",
   "execution_count": null,
   "metadata": {
    "ExecuteTime": {
     "start_time": "2023-07-22T04:41:35.903Z"
    }
   },
   "outputs": [],
   "source": [
    "RG_OIII_match_Radio_selectsnrgt5_fadeing.columns"
   ]
  },
  {
   "cell_type": "code",
   "execution_count": null,
   "metadata": {},
   "outputs": [],
   "source": []
  },
  {
   "cell_type": "code",
   "execution_count": null,
   "metadata": {
    "ExecuteTime": {
     "start_time": "2023-07-22T04:41:35.912Z"
    }
   },
   "outputs": [],
   "source": [
    "wisedata_path_GGSM"
   ]
  },
  {
   "cell_type": "code",
   "execution_count": null,
   "metadata": {
    "ExecuteTime": {
     "start_time": "2023-07-22T04:41:35.916Z"
    }
   },
   "outputs": [],
   "source": [
    "ALLdatawise_dir='/Volumes/ExtremeSSD/Survey_fits//FadingGalaxy_wisedata/ALL/'"
   ]
  },
  {
   "cell_type": "markdown",
   "metadata": {
    "ExecuteTime": {
     "end_time": "2022-09-05T07:11:07.861755Z",
     "start_time": "2022-09-05T07:11:07.583167Z"
    }
   },
   "source": [
    "RG_OIII_match_ALL_selectsnrgt5_fadeing_Table.loc[0,'RAdeg']"
   ]
  },
  {
   "cell_type": "code",
   "execution_count": null,
   "metadata": {},
   "outputs": [],
   "source": []
  },
  {
   "cell_type": "code",
   "execution_count": null,
   "metadata": {
    "ExecuteTime": {
     "start_time": "2023-07-22T04:41:36.173Z"
    }
   },
   "outputs": [],
   "source": [
    "epsilon_s_w1=0.024\n",
    "epsilon_s_w2=0.028\n",
    "\n",
    "for index, (radeg,decdeg) in enumerate(zip(RG_OIII_match_ALL_selectsnrgt5_fadeing['RAdeg'],RG_OIII_match_ALL_selectsnrgt5_fadeing['DEdeg'])):\n",
    "    #print(i)\n",
    "    #search_name='SDSS'+name.replace(' ','')\n",
    "    #save_name='SDSS '+name.replace(' ','')\n",
    "    \n",
    "    data_test_neo,data_test_mep=get_wise_radec_data(radeg,decdeg,ALLdatawise_dir)\n",
    "    #data_test_neo,data_test_mep=get_remove_neo_mep(data_test_neo,data_test_mep)\n",
    "    \n",
    "    data_test_neo_copy=data_test_neo[['mjd','w1mpro','w1sigmpro','w2mpro','w2sigmpro']]\n",
    "    data_test_mep_copy=data_test_mep[['mjd','w1mpro_ep','w1sigmpro_ep','w2mpro_ep','w2sigmpro_ep']]\n",
    "    data_test_mep_copy.columns=['mjd','w1mpro','w1sigmpro','w2mpro','w2sigmpro']\n",
    "    \n",
    "    data_test_neo_plus_mep=pd.concat([data_test_neo_copy,data_test_mep_copy],ignore_index=True)\n",
    "    data_test_neo_plus_mep=drop_index(data_test_neo_plus_mep)\n",
    "    \n",
    "    #data_rebin_neo,data_rebin_mep=get_rebinwise_data(data_test_neo,data_test_mep,sigma_outlier=100)\n",
    "   \n",
    "    if len(data_test_neo_plus_mep)>2:\n",
    "        mag_label='w1mpro'\n",
    "        magerr_label='w1sigmpro'\n",
    "        epsilon_s=epsilon_s_w1\n",
    "\n",
    "        pearson_coeff,p_value=pearsonr(data_test_neo_plus_mep['w1mpro'],data_test_neo_plus_mep['w2mpro'])\n",
    "        RG_OIII_match_ALL_selectsnrgt5_fadeing.loc[index,'pearson_coeff_neo']=pearson_coeff\n",
    "\n",
    "        sigma_m_w1=get_intrinsic_var(data_test_neo_plus_mep,mag_label,magerr_label,epsilon_s)\n",
    "        RG_OIII_match_ALL_selectsnrgt5_fadeing.loc[index,'sigma_m_w1_neo']=sigma_m_w1\n",
    "        \n",
    "        mags=data_test_neo_plus_mep[mag_label]\n",
    "        e_mags=data_test_neo_plus_mep[magerr_label]\n",
    "        \n",
    "        RG_OIII_match_ALL_selectsnrgt5_fadeing.loc[index,'mean_m_w1_neo']=get_mag_weighted_mean_mag(mags,e_mags)\n",
    "        RG_OIII_match_ALL_selectsnrgt5_fadeing.loc[index,'mean_e_m_w1_neo']=get_mag_weighted_mean_e_mag(mags,e_mags)\n",
    "\n",
    "\n",
    "        mag_label='w2mpro'\n",
    "        magerr_label='w2sigmpro'\n",
    "        epsilon_s=epsilon_s_w2\n",
    "        sigma_m_w2=get_intrinsic_var(data_test_neo_plus_mep,mag_label,magerr_label,epsilon_s)\n",
    "        RG_OIII_match_ALL_selectsnrgt5_fadeing.loc[index,'sigma_m_w2_neo']=sigma_m_w2\n",
    "        \n",
    "        mags=data_test_neo_plus_mep[mag_label]\n",
    "        e_mags=data_test_neo_plus_mep[magerr_label]\n",
    "        \n",
    "        RG_OIII_match_ALL_selectsnrgt5_fadeing.loc[index,'mean_m_w2_neo']=get_mag_weighted_mean_mag(mags,e_mags)\n",
    "        RG_OIII_match_ALL_selectsnrgt5_fadeing.loc[index,'mean_e_m_w2_neo']=get_mag_weighted_mean_e_mag(mags,e_mags)\n",
    "        \n",
    "        RG_OIII_match_ALL_selectsnrgt5_fadeing.loc[index,'len_neo_mep']=len(data_test_neo_plus_mep)\n",
    "        RG_OIII_match_ALL_selectsnrgt5_fadeing.loc[index,'W1-W2']=np.average(data_test_neo_plus_mep['w1mpro']-data_test_neo_plus_mep['w2mpro'])\n",
    "\n",
    "\n",
    "    else:\n",
    "        RG_OIII_match_ALL_selectsnrgt5_fadeing.loc[index,'len_neo_mep']=0\n",
    "\n"
   ]
  },
  {
   "cell_type": "code",
   "execution_count": null,
   "metadata": {
    "ExecuteTime": {
     "start_time": "2023-07-22T04:41:36.179Z"
    }
   },
   "outputs": [],
   "source": [
    "RG_OIII_match_ALL_selectsnrgt5_fadeing.columns"
   ]
  },
  {
   "cell_type": "code",
   "execution_count": null,
   "metadata": {
    "ExecuteTime": {
     "start_time": "2023-07-22T04:41:36.184Z"
    }
   },
   "outputs": [],
   "source": [
    "RG_OIII_match_ALL_selectsnrgt5_fadeing['mean_logLw1']=W1mag_to_Lum(RG_OIII_match_ALL_selectsnrgt5_fadeing['mean_m_w1_neo'],\n",
    "                                                        RG_OIII_match_Radio_selectsnrgt5_fadeing['Dcm']          \n",
    "                                                                  )\n",
    "\n",
    "\n",
    "RG_OIII_match_ALL_selectsnrgt5_fadeing['mean_logLw2']=W1mag_to_Lum(RG_OIII_match_ALL_selectsnrgt5_fadeing['mean_m_w2_neo'],\n",
    "                                                        RG_OIII_match_Radio_selectsnrgt5_fadeing['Dcm']          \n",
    "                                                                  )\n"
   ]
  },
  {
   "cell_type": "code",
   "execution_count": null,
   "metadata": {},
   "outputs": [],
   "source": []
  },
  {
   "cell_type": "code",
   "execution_count": null,
   "metadata": {
    "ExecuteTime": {
     "start_time": "2023-07-22T04:41:36.192Z"
    }
   },
   "outputs": [],
   "source": [
    "RG_OIII_match_ALL_selectsnrgt5_fadeing[RG_OIII_match_ALL_selectsnrgt5_fadeing['W1-W2']>0.5]"
   ]
  },
  {
   "cell_type": "code",
   "execution_count": null,
   "metadata": {
    "ExecuteTime": {
     "start_time": "2023-07-22T04:41:36.197Z"
    }
   },
   "outputs": [],
   "source": [
    "RG_OIII_match_ALL_selectsnrgt5_fadeing[RG_OIII_match_ALL_selectsnrgt5_fadeing['sigma_m_w1_neo']>0.2].sort_values('RAdeg')"
   ]
  },
  {
   "cell_type": "code",
   "execution_count": null,
   "metadata": {},
   "outputs": [],
   "source": []
  },
  {
   "cell_type": "markdown",
   "metadata": {},
   "source": [
    "wise_radec_rebin_lc(radeg,decdeg,datawise_dir,plotwise_dir)\n",
    "    \n",
    "data_test_neo,data_test_mep=get_wise_radec_data(radeg,decdeg,datawise_dir)\n",
    "\n",
    "data_test_neo,data_test_mep=get_remove_neo_mep(data_test_neo,data_test_mep)\n",
    "data_rebin_neo,data_rebin_mep=get_rebinwise_data(data_test_neo,data_test_mep,sigma_outlier=100)    \n",
    "\n",
    "#data_rebin_neo,data_rebin_mep=get_rebinwise_data(data_test_neo,data_test_mep,sigma_outlier=10)\n",
    "\n",
    "save_name='RA%.5f_DEC%.5f'%(radeg,decdeg)"
   ]
  },
  {
   "cell_type": "code",
   "execution_count": null,
   "metadata": {},
   "outputs": [],
   "source": []
  },
  {
   "cell_type": "markdown",
   "metadata": {},
   "source": [
    "# QSO"
   ]
  },
  {
   "cell_type": "code",
   "execution_count": null,
   "metadata": {
    "ExecuteTime": {
     "start_time": "2023-07-22T04:41:36.724Z"
    }
   },
   "outputs": [],
   "source": [
    "CLAGN_statistic_plot_dir"
   ]
  },
  {
   "cell_type": "code",
   "execution_count": null,
   "metadata": {
    "ExecuteTime": {
     "start_time": "2023-07-22T04:41:36.729Z"
    }
   },
   "outputs": [],
   "source": [
    "#CLAGN_statistic_plot_dir='/Volumes/ExtremeSSD/CLAGN_statistic_plot/'\n",
    "#QSO=pd.read_csv('/Users/brettlv/Downloads/CLAGN_statistic_plot/QSO_wise_var.csv')\n",
    "QSO=pd.read_csv('%s/QSO_wise_var.csv'%CLAGN_statistic_plot_dir)\n",
    "print(QSO.columns)"
   ]
  },
  {
   "cell_type": "code",
   "execution_count": null,
   "metadata": {
    "ExecuteTime": {
     "start_time": "2023-07-22T04:41:36.733Z"
    }
   },
   "outputs": [],
   "source": [
    "QSO=QSO[QSO['len_neo']>20]\n",
    "QSO=drop_index(QSO)"
   ]
  },
  {
   "cell_type": "code",
   "execution_count": null,
   "metadata": {
    "ExecuteTime": {
     "start_time": "2023-07-22T04:41:36.738Z"
    }
   },
   "outputs": [],
   "source": [
    "QSO"
   ]
  },
  {
   "cell_type": "code",
   "execution_count": null,
   "metadata": {
    "ExecuteTime": {
     "start_time": "2023-07-22T04:41:36.742Z"
    }
   },
   "outputs": [],
   "source": [
    "len(QSO)"
   ]
  },
  {
   "cell_type": "code",
   "execution_count": null,
   "metadata": {
    "ExecuteTime": {
     "start_time": "2023-07-22T04:41:36.747Z"
    }
   },
   "outputs": [],
   "source": [
    "QSO['log(L5100)']=(QSO['lg(LHalpha)']-np.log10(5.25)-42)/1.157+44\n",
    "QSO['log(Lbol)']=np.log10(9)+QSO['log(L5100)']\n",
    "QSO['log(Ledd)']=np.log10(1.263*10**38)+QSO['lg(L_Mbh)']\n",
    "QSO['log(Lbol/Ledd)']=QSO['log(Lbol)']-QSO['log(Ledd)']\n",
    "#print(QSO.columns)\n",
    "#D_cm_QSO=cosmo.luminosity_distance(z=QSO['redshift']).to(u.cm)"
   ]
  },
  {
   "cell_type": "code",
   "execution_count": null,
   "metadata": {
    "ExecuteTime": {
     "start_time": "2023-07-22T04:41:36.752Z"
    }
   },
   "outputs": [],
   "source": [
    "QSO"
   ]
  },
  {
   "cell_type": "code",
   "execution_count": null,
   "metadata": {
    "ExecuteTime": {
     "start_time": "2023-07-22T04:41:36.758Z"
    }
   },
   "outputs": [],
   "source": [
    "QSO['D_cm']=cosmo.luminosity_distance(z=QSO['redshift'].values).to(u.cm).value\n",
    "\n",
    "QSO['logL_W1']= (-48.6-QSO['mean_m_w1_neo']-2.699)/2.5+np.log10(4*np.pi*QSO['D_cm']**2)+np.log10((constants.c/(3.4*u.um)).to(u.Hz).value)\n",
    "QSO['logL_W2']= (-48.6-QSO['mean_m_w2_neo']-3.339)/2.5+np.log10(4*np.pi*QSO['D_cm']**2)+np.log10((constants.c/(4.6*u.um)).to(u.Hz).value)"
   ]
  },
  {
   "cell_type": "code",
   "execution_count": null,
   "metadata": {},
   "outputs": [],
   "source": []
  },
  {
   "cell_type": "code",
   "execution_count": null,
   "metadata": {
    "ExecuteTime": {
     "start_time": "2023-07-22T04:41:36.766Z"
    }
   },
   "outputs": [],
   "source": [
    "QSO.columns"
   ]
  },
  {
   "cell_type": "markdown",
   "metadata": {},
   "source": [
    "# LLAGN"
   ]
  },
  {
   "cell_type": "code",
   "execution_count": null,
   "metadata": {
    "ExecuteTime": {
     "start_time": "2023-07-22T04:41:37.046Z"
    }
   },
   "outputs": [],
   "source": [
    "LLAGN_gu2009=pd.read_csv('%s/LLAGN_gu2009.csv'%CLAGN_statistic_plot_dir)\n",
    "LLAGN_gu2009=LLAGN_gu2009[LLAGN_gu2009['len_neo']>10]\n",
    "LLAGN_gu2009=drop_index(LLAGN_gu2009)"
   ]
  },
  {
   "cell_type": "code",
   "execution_count": null,
   "metadata": {
    "ExecuteTime": {
     "start_time": "2023-07-22T04:41:37.051Z"
    }
   },
   "outputs": [],
   "source": [
    "len(LLAGN_gu2009)"
   ]
  },
  {
   "cell_type": "code",
   "execution_count": null,
   "metadata": {
    "ExecuteTime": {
     "start_time": "2023-07-22T04:41:37.056Z"
    }
   },
   "outputs": [],
   "source": [
    "LLAGN_gu2009.columns"
   ]
  },
  {
   "cell_type": "code",
   "execution_count": null,
   "metadata": {
    "ExecuteTime": {
     "start_time": "2023-07-22T04:41:37.060Z"
    }
   },
   "outputs": [],
   "source": [
    "plt.scatter(RG_OIII_match_ALL_selectsnrgt5_fadeing['sigma_m_w1_neo'],RG_OIII_match_ALL_selectsnrgt5_fadeing['W1-W2'])\n",
    "plt.xlabel(r'$\\sigma W1$')\n",
    "plt.ylabel(r'$W1-W2$')"
   ]
  },
  {
   "cell_type": "code",
   "execution_count": null,
   "metadata": {
    "ExecuteTime": {
     "start_time": "2023-07-22T04:41:37.065Z"
    }
   },
   "outputs": [],
   "source": [
    "RG_OIII_match_ALL_selectsnrgt5_fadeing.columns"
   ]
  },
  {
   "cell_type": "code",
   "execution_count": null,
   "metadata": {
    "ExecuteTime": {
     "start_time": "2023-07-22T04:41:37.069Z"
    }
   },
   "outputs": [],
   "source": [
    "fig = plt.figure(figsize=(9,9))\n",
    "fig.subplots_adjust(hspace=0.4, wspace = 0.4)\n",
    "\n",
    "\n",
    "\n",
    "ax = fig.add_subplot(221)\n",
    "plotdata=RG_OIII_match_ALL_selectsnrgt5_fadeing\n",
    "#column_x=3\n",
    "#column_y=4\n",
    "colum_xlabel='mean_logLw1'\n",
    "colum_ylabel='sigma_m_w1_neo'\n",
    "print(colum_xlabel,colum_ylabel)\n",
    "for i in range(len(plotdata)):\n",
    "    if isinstance(plotdata[colum_xlabel][i],float) and isinstance(plotdata[colum_xlabel][i],float):\n",
    "        ax.scatter(plotdata[colum_xlabel][i],\n",
    "                   plotdata[colum_ylabel][i],\n",
    "                   color='red',marker='*',label='')\n",
    "                \n",
    "                \n",
    "plotdata=QSO\n",
    "#column_x=3\n",
    "#column_y=4\n",
    "colum_xlabel='logL_W1'\n",
    "colum_ylabel='sigma_m_w1_neo'\n",
    "print(colum_xlabel,colum_ylabel)\n",
    "for i in range(len(plotdata)):\n",
    "    if isinstance(plotdata[colum_xlabel][i],float) and isinstance(plotdata[colum_xlabel][i],float):\n",
    "        ax.scatter(plotdata[colum_xlabel][i],\n",
    "                   plotdata[colum_ylabel][i],\n",
    "                   color='black',marker='.',label='QSO')\n",
    "                \n",
    "plotdata=LLAGN_gu2009\n",
    "#column_x=3\n",
    "#column_y=4\n",
    "colum_xlabel='logL_W1'\n",
    "colum_ylabel='sigma_m_w1_neo'\n",
    "print(colum_xlabel,colum_ylabel)\n",
    "for i in range(len(plotdata)):\n",
    "    if isinstance(plotdata[colum_xlabel][i],float) and isinstance(plotdata[colum_xlabel][i],float):\n",
    "        ax.scatter(plotdata[colum_xlabel][i],\n",
    "                   plotdata[colum_ylabel][i],\n",
    "                   color='grey',marker='+',label='LLAGN')\n",
    "                \n",
    "                \n",
    "#ax.set_xlabel(r'$L_{178MHz}$')\n",
    "#ax.set_ylabel(r'$L_{OIII}$')\n",
    "#linx_plot=np.linspace(41,46,10)\n",
    "#ax.plot(linx_plot,linx_plot,ls=':')\n",
    "ax.set_xlabel(colum_xlabel)\n",
    "ax.set_ylabel(colum_ylabel)\n",
    "set_ax_tick(ax)\n",
    "handles, labels = ax.get_legend_handles_labels()\n",
    "# remove the errorbars\n",
    "hdl=handles\n",
    "#hdl = [h[0] for h in handles]\n",
    "# use them in the legend\n",
    "#\n",
    "labels_dict=dict(zip(labels, hdl)) #key,values\n",
    "#by_label=OrderedDict(sorted(labels_dict.items(),key=lambda t:t[0]))\n",
    "by_label = OrderedDict(zip(labels, hdl)) \n",
    "ax.legend(by_label.values(), by_label.keys(), bbox_to_anchor=(0.01, 0.99),\n",
    "          loc=2, numpoints=1,ncol=1,fontsize=11.)\n",
    "\n",
    "\n",
    "\n",
    "###########################################\n",
    "ax = fig.add_subplot(222)\n",
    "plotdata=RG_OIII_match_ALL_selectsnrgt5_fadeing\n",
    "#column_x=3\n",
    "#column_y=4\n",
    "colum_xlabel='mean_logLw1'\n",
    "colum_ylabel='W1-W2'\n",
    "print(colum_xlabel,colum_ylabel)\n",
    "for i in range(len(plotdata)):\n",
    "    if isinstance(plotdata[colum_xlabel][i],float) and isinstance(plotdata[colum_xlabel][i],float):\n",
    "        ax.scatter(plotdata[colum_xlabel][i],\n",
    "                   plotdata[colum_ylabel][i],\n",
    "                   color='red',marker='*',label='')\n",
    "                \n",
    "                \n",
    "plotdata=QSO\n",
    "#column_x=3\n",
    "#column_y=4\n",
    "colum_xlabel='logL_W1'\n",
    "colum_ylabel='W1-W2'\n",
    "print(colum_xlabel,colum_ylabel)\n",
    "for i in range(len(plotdata)):\n",
    "    if isinstance(plotdata[colum_xlabel][i],float) and isinstance(plotdata[colum_xlabel][i],float):\n",
    "        ax.scatter(plotdata[colum_xlabel][i],\n",
    "                   plotdata[colum_ylabel][i],\n",
    "                   color='black',marker='.',label='QSO')\n",
    "                \n",
    "plotdata=LLAGN_gu2009\n",
    "#column_x=3\n",
    "#column_y=4\n",
    "colum_xlabel='logL_W1'\n",
    "colum_ylabel='W1-W2'\n",
    "print(colum_xlabel,colum_ylabel)\n",
    "for i in range(len(plotdata)):\n",
    "    if isinstance(plotdata[colum_xlabel][i],float) and isinstance(plotdata[colum_xlabel][i],float):\n",
    "        ax.scatter(plotdata[colum_xlabel][i],\n",
    "                   plotdata[colum_ylabel][i],\n",
    "                   color='grey',marker='+',label='LLAGN')\n",
    "                \n",
    "                \n",
    "#ax.set_xlabel(r'$L_{178MHz}$')\n",
    "#ax.set_ylabel(r'$L_{OIII}$')\n",
    "#linx_plot=np.linspace(41,46,10)\n",
    "#ax.plot(linx_plot,linx_plot,ls=':')\n",
    "ax.set_xlabel(colum_xlabel)\n",
    "ax.set_ylabel(colum_ylabel)\n",
    "set_ax_tick(ax)\n",
    "handles, labels = ax.get_legend_handles_labels()\n",
    "# remove the errorbars\n",
    "hdl=handles\n",
    "#hdl = [h[0] for h in handles]\n",
    "# use them in the legend\n",
    "#\n",
    "labels_dict=dict(zip(labels, hdl)) #key,values\n",
    "#by_label=OrderedDict(sorted(labels_dict.items(),key=lambda t:t[0]))\n",
    "by_label = OrderedDict(zip(labels, hdl)) \n",
    "ax.legend(by_label.values(), by_label.keys(), bbox_to_anchor=(0.01, 0.99),\n",
    "          loc=2, numpoints=1,ncol=1,fontsize=11.)\n",
    "###########################################\n",
    "\n",
    "\n",
    "\n",
    "\n",
    "\n",
    "###########################################\n",
    "\n"
   ]
  },
  {
   "cell_type": "code",
   "execution_count": null,
   "metadata": {
    "ExecuteTime": {
     "start_time": "2023-07-22T04:41:37.074Z"
    }
   },
   "outputs": [],
   "source": [
    "colum_ylabel='sigma_m_w1_neo'\n",
    "np.mean(LLAGN_gu2009[colum_ylabel]),np.mean(QSO[colum_ylabel]),np.mean(RG_OIII_match_ALL_selectsnrgt5_fadeing['sigma_m_w1_neo'])"
   ]
  },
  {
   "cell_type": "code",
   "execution_count": null,
   "metadata": {},
   "outputs": [],
   "source": []
  },
  {
   "cell_type": "code",
   "execution_count": null,
   "metadata": {},
   "outputs": [],
   "source": []
  },
  {
   "cell_type": "markdown",
   "metadata": {},
   "source": [
    "# rebin data"
   ]
  },
  {
   "cell_type": "markdown",
   "metadata": {
    "ExecuteTime": {
     "end_time": "2022-07-04T12:43:49.300016Z",
     "start_time": "2022-07-04T12:43:49.288591Z"
    }
   },
   "source": [
    "data_rebin_neo,data_rebin_mep"
   ]
  },
  {
   "cell_type": "markdown",
   "metadata": {},
   "source": [
    "# def_wise_mag_to_flux"
   ]
  },
  {
   "cell_type": "code",
   "execution_count": null,
   "metadata": {
    "ExecuteTime": {
     "end_time": "2023-11-26T08:04:15.131280Z",
     "start_time": "2023-11-26T08:04:15.122513Z"
    }
   },
   "outputs": [],
   "source": [
    "def wise_mag_to_flux(data,maglabel_w1,maglabel_w2,e_maglabel_w1,e_maglabel_w2,D_cm):\n",
    "    data['logL_W1']= (-48.6-data[maglabel_w1]-2.699)/2.5+np.log10(4*np.pi*D_cm.value**2)+np.log10((constants.c/(3.4*u.um)).to(u.Hz).value)\n",
    "    data['logL_W2']= (-48.6-data[maglabel_w2]-3.339)/2.5+np.log10(4*np.pi*D_cm.value**2)+np.log10((constants.c/(4.6*u.um)).to(u.Hz).value)\n",
    "    data['e_logL_W1'] =   data[e_maglabel_w1]/2.5\n",
    "    data['e_logL_W2'] =   data[e_maglabel_w2]/2.5\n",
    "    return data\n",
    "\n",
    "def get_wiseflux_rebin(data_rebin_neo,data_rebin_mep,D_cm):\n",
    "    maglabel_w1,maglabel_w2,e_maglabel_w1,e_maglabel_w2=('W1','W2','e_W1','e_W2')  \n",
    "    data_rebinflux_neo=wise_mag_to_flux(data_rebin_neo,maglabel_w1,maglabel_w2,e_maglabel_w1,e_maglabel_w2,D_cm)\n",
    "    data_rebinflux_mep=wise_mag_to_flux(data_rebin_mep,maglabel_w1,maglabel_w2,e_maglabel_w1,e_maglabel_w2,D_cm)\n",
    "                                                                                                              \n",
    "    return data_rebinflux_neo,data_rebinflux_mep"
   ]
  },
  {
   "cell_type": "markdown",
   "metadata": {},
   "source": [
    "## def get_wise_lc"
   ]
  },
  {
   "cell_type": "code",
   "execution_count": null,
   "metadata": {
    "ExecuteTime": {
     "end_time": "2023-11-26T08:04:17.068997Z",
     "start_time": "2023-11-26T08:04:17.055502Z"
    }
   },
   "outputs": [],
   "source": [
    "def get_wise_lc(data_rebinflux_neo,data_rebinflux_mep):\n",
    "    lc_w1= pd.concat([data_rebinflux_neo[['t_W1','logL_W1','e_logL_W1']],data_rebinflux_mep[['t_W1','logL_W1','e_logL_W1']]])\n",
    "    lc_w2= pd.concat([data_rebinflux_neo[['t_W2','logL_W2','e_logL_W2']],data_rebinflux_mep[['t_W2','logL_W2','e_logL_W2']]])\n",
    "    \n",
    "    lc_w1=lc_w1.sort_values('t_W1')\n",
    "    lc_w2=lc_w2.sort_values('t_W2')\n",
    "    lc_w1=drop_index(lc_w1)\n",
    "    lc_w2=drop_index(lc_w2)\n",
    "    \n",
    "    #return lc_w1,lc_w2\n",
    "    datalag_w1=get_lag_data(lc_w1,'t_W1','logL_W1','e_logL_W1')\n",
    "    datalag_w2=get_lag_data(lc_w2,'t_W2','logL_W2','e_logL_W2')\n",
    "    return datalag_w1,datalag_w2"
   ]
  },
  {
   "cell_type": "code",
   "execution_count": null,
   "metadata": {},
   "outputs": [],
   "source": []
  },
  {
   "cell_type": "markdown",
   "metadata": {},
   "source": [
    "## def get_lag_data"
   ]
  },
  {
   "cell_type": "code",
   "execution_count": null,
   "metadata": {
    "ExecuteTime": {
     "end_time": "2023-11-26T08:04:19.667837Z",
     "start_time": "2023-11-26T08:04:19.661500Z"
    }
   },
   "outputs": [],
   "source": [
    "def get_lag_data(data,timelabel,fluxlabel_w1,e_fluxlabel_w1):\n",
    "    \n",
    "    datalag_w1=pd.DataFrame({'t':data[timelabel],'flux':data[fluxlabel_w1],\\\n",
    "                                  'err':data[e_fluxlabel_w1]},\\\n",
    "                                  index=None,columns=['t','flux','err'])\n",
    "    return datalag_w1"
   ]
  },
  {
   "cell_type": "markdown",
   "metadata": {},
   "source": [
    "## def write_lagfile"
   ]
  },
  {
   "cell_type": "code",
   "execution_count": null,
   "metadata": {
    "ExecuteTime": {
     "start_time": "2023-07-22T04:41:38.896Z"
    }
   },
   "outputs": [],
   "source": [
    "def write_lagfile(rootdir,sourcename,labelname1,labelname2,dataname1,dataname2,rangemin,rangemax):\n",
    "    if not os.path.exists(os.path.join(rootdir,sourcename)):\n",
    "        os.mkdir(os.path.join(rootdir,sourcename))\n",
    "        \n",
    "    data1= dataname1[dataname1['t']>rangemin]\n",
    "    data1= data1[data1['t']<rangemax]   \n",
    "    path_data1=os.path.join(rootdir,sourcename,labelname1+'.csv')\n",
    "    data1.to_csv(path_data1,index=False,header=False,sep=',')\n",
    "    \n",
    "    data2= dataname2[dataname2['t']>rangemin]\n",
    "    data2= data2[data2['t']<rangemax]    \n",
    "    path_data2=os.path.join(rootdir,sourcename,labelname2+'.csv')\n",
    "    data2.to_csv(path_data2,index=False,header=False,sep=',')  \n",
    "    return path_data1,path_data2    "
   ]
  },
  {
   "cell_type": "markdown",
   "metadata": {},
   "source": [
    "## def get_lagfile_path"
   ]
  },
  {
   "cell_type": "code",
   "execution_count": null,
   "metadata": {
    "ExecuteTime": {
     "start_time": "2023-07-22T04:41:39.219Z"
    }
   },
   "outputs": [],
   "source": [
    "def get_lagfile(rootdir,sourcename,labelname1,labelname2,dataname1,dataname2,rangemin,rangemax):\n",
    "    \n",
    "    #data1= dataname1[dataname1['t']>rangemin]\n",
    "    #data1= data1[data1['t']<rangemax]   \n",
    "    path_data1=os.path.join(rootdir,sourcename,labelname1+'.csv')\n",
    "    #data1.to_csv(path_data1,index=False,header=False,sep=',')\n",
    "    \n",
    "    #data2= dataname2[dataname2['t']>rangemin]\n",
    "    #data2= data2[data2['t']<rangemax]    \n",
    "    path_data2=os.path.join(rootdir,sourcename,labelname2+'.csv')\n",
    "    #data2.to_csv(path_data2,index=False,header=False,sep=',')  \n",
    "    return path_data1,path_data2 "
   ]
  },
  {
   "cell_type": "code",
   "execution_count": null,
   "metadata": {},
   "outputs": [],
   "source": []
  },
  {
   "cell_type": "code",
   "execution_count": null,
   "metadata": {
    "ExecuteTime": {
     "start_time": "2023-07-22T04:41:39.227Z"
    }
   },
   "outputs": [],
   "source": [
    "name"
   ]
  },
  {
   "cell_type": "code",
   "execution_count": null,
   "metadata": {},
   "outputs": [],
   "source": []
  },
  {
   "cell_type": "code",
   "execution_count": null,
   "metadata": {},
   "outputs": [],
   "source": []
  },
  {
   "cell_type": "code",
   "execution_count": null,
   "metadata": {
    "ExecuteTime": {
     "start_time": "2023-07-22T04:41:39.238Z"
    }
   },
   "outputs": [],
   "source": [
    "#name_test='NGC 1566'\n",
    "name_test='WISEA J195739.10+503320.4'\n",
    "z_WISEAJ195739=0.1\n",
    "D_cm_WISEAJ195739=cosmo.luminosity_distance(z=z_WISEAJ195739).to(u.cm).value\n",
    "\n",
    "print(name_test,D_cm_WISEAJ195739)\n",
    "data_test_neo,data_test_mep=get_wise_data(name,datawise_dir=wisedata_path)\n",
    "data_test_neo,data_test_mep=get_remove_neo_mep(data_test_neo,data_test_mep)\n",
    "data_rebin_neo,data_rebin_mep=get_rebinwise_data(data_test_neo,data_test_mep,sigma_outlier=100)\n",
    "\n"
   ]
  },
  {
   "cell_type": "code",
   "execution_count": null,
   "metadata": {
    "ExecuteTime": {
     "start_time": "2023-07-22T04:41:39.246Z"
    }
   },
   "outputs": [],
   "source": [
    "data_rebin_neo,data_rebin_mep"
   ]
  },
  {
   "cell_type": "code",
   "execution_count": null,
   "metadata": {
    "ExecuteTime": {
     "start_time": "2023-07-22T04:41:39.253Z"
    },
    "scrolled": true
   },
   "outputs": [],
   "source": [
    "data_rebinflux_neo,data_rebinflux_mep=get_wiseflux_rebin(data_rebin_neo,data_rebin_mep,D_cm_WISEAJ195739)\n",
    "datalag_w1_WISEAJ195739,datalag_w2_WISEAJ195739=get_wise_lc(data_rebinflux_neo,data_rebinflux_mep)"
   ]
  },
  {
   "cell_type": "code",
   "execution_count": null,
   "metadata": {
    "ExecuteTime": {
     "start_time": "2023-07-22T04:41:39.258Z"
    }
   },
   "outputs": [],
   "source": [
    "rootdir_WWZ='/Users/brettlv/Downloads/WWZ/'\n",
    "if not os.path.exists(rootdir_WWZ):\n",
    "    os.mkdir(rootdir_WWZ)\n",
    "    print(rootdir_WWZ)"
   ]
  },
  {
   "cell_type": "code",
   "execution_count": null,
   "metadata": {
    "ExecuteTime": {
     "start_time": "2023-07-22T04:41:39.263Z"
    }
   },
   "outputs": [],
   "source": [
    "min(datalag_w1_WISEAJ195739['t']),max(datalag_w1_WISEAJ195739['t'])"
   ]
  },
  {
   "cell_type": "code",
   "execution_count": null,
   "metadata": {
    "ExecuteTime": {
     "start_time": "2023-07-22T04:41:39.269Z"
    }
   },
   "outputs": [],
   "source": [
    "labelname1=\"W1\"\n",
    "labelname2=\"W2\"\n",
    "#dataname1=lag_NGC1566_V\n",
    "dataname1=datalag_w1_WISEAJ195739\n",
    "dataname2=datalag_w2_WISEAJ195739\n",
    "sourcename=name\n",
    "\n",
    "rangemin,rangemax=55000,59900\n",
    "lagrangel=0\n",
    "lagrangeh=180"
   ]
  },
  {
   "cell_type": "code",
   "execution_count": null,
   "metadata": {
    "ExecuteTime": {
     "start_time": "2023-07-22T04:41:39.274Z"
    }
   },
   "outputs": [],
   "source": [
    "rootdir=rootdir_WWZ\n",
    "os.chdir(rootdir)\n",
    "source_path=os.path.join(rootdir,sourcename)\n",
    "path_data1,path_data2=write_lagfile(rootdir,sourcename,labelname1,labelname2,dataname1,dataname2,rangemin,rangemax)\n"
   ]
  },
  {
   "cell_type": "markdown",
   "metadata": {},
   "source": [
    "# Lomb-scargle"
   ]
  },
  {
   "cell_type": "code",
   "execution_count": null,
   "metadata": {
    "ExecuteTime": {
     "start_time": "2023-07-22T04:41:39.595Z"
    }
   },
   "outputs": [],
   "source": [
    "datalag_w1_WISEAJ195739.columns"
   ]
  },
  {
   "cell_type": "code",
   "execution_count": null,
   "metadata": {
    "ExecuteTime": {
     "start_time": "2023-07-22T04:41:39.601Z"
    }
   },
   "outputs": [],
   "source": [
    "from astropy.stats import LombScargle"
   ]
  },
  {
   "cell_type": "code",
   "execution_count": null,
   "metadata": {
    "ExecuteTime": {
     "start_time": "2023-07-22T04:41:39.605Z"
    }
   },
   "outputs": [],
   "source": [
    "fig = plt.figure(figsize=(12, 6))\n",
    "gs = plt.GridSpec(2, 2)\n",
    "\n",
    "f = lambda x: 0.8 * np.sin(x)\n",
    "rng = np.random.RandomState(15566)\n",
    "\n",
    "#data=datalag_w1_WISEAJ195739\n",
    "t = datalag_w1_WISEAJ195739['t']\n",
    "y= datalag_w1_WISEAJ195739['flux']\n",
    "dy =datalag_w1_WISEAJ195739['err']\n",
    "\n",
    "ax = fig.add_subplot(gs[:, 0])\n",
    "ax.errorbar(t, y, dy, fmt='ok', ecolor='gray',\n",
    "            markersize=3, capsize=0)\n",
    "#ax.plot(tfit, f(tfit), '-k', color='gray')\n",
    "ax.set(xlabel='MJD',\n",
    "       ylabel='signal',\n",
    "       title='W1')\n",
    "ax.set_xlim(55000, 59900)\n",
    "set_ax_tick(ax)\n",
    "plot_secax(ax)\n",
    "\n",
    "\n",
    "\n",
    "ls = LombScargle(t, y,dy)\n",
    "freq, power = ls.autopower(normalization='standard',\n",
    "                           minimum_frequency=0,\n",
    "                           maximum_frequency=0.1,\n",
    "                           samples_per_peak=20)\n",
    "freq, p = ls.autopower(normalization='psd',\n",
    "                       minimum_frequency=0,\n",
    "                       maximum_frequency=0.1,\n",
    "                       samples_per_peak=20)\n",
    "#p = np.exp(p)\n",
    "\n",
    "ax = [fig.add_subplot(gs[0, 1]),\n",
    "      fig.add_subplot(gs[1, 1])]\n",
    "ax[0].set_yscale('log')\n",
    "ax[1].set_yscale('log')\n",
    "ax[0].set_xscale('log')\n",
    "ax[1].set_xscale('log')\n",
    "\n",
    "ax[0].plot(freq, power, '-k')\n",
    "ax[0].set(xlim=(0, 0.1),\n",
    "          ylabel='$P_{LS}$',\n",
    "          title='Lomb-Scargle Periodogram')\n",
    "ax[0].xaxis.set_major_formatter(plt.NullFormatter())\n",
    "\n",
    "ax[1].plot(freq, p, '-k')\n",
    "ax[1].set(xlim=(0, 0.1),\n",
    "          xlabel='frequency',\n",
    "          ylabel='$p(f|D)$',\n",
    "          title='Bayesian Periodogram')\n",
    "\n",
    "fig.savefig('/Users/brettlv/Downloads/WWZ/WISEA J195739.10+503320.4/WISEAJ195739_ls.png',dpi=300)"
   ]
  },
  {
   "cell_type": "code",
   "execution_count": null,
   "metadata": {},
   "outputs": [],
   "source": []
  },
  {
   "cell_type": "code",
   "execution_count": null,
   "metadata": {
    "ExecuteTime": {
     "start_time": "2023-07-22T04:41:39.613Z"
    }
   },
   "outputs": [],
   "source": [
    "fig = plt.figure(figsize=(12, 6))\n",
    "gs = plt.GridSpec(2, 2)\n",
    "\n",
    "f = lambda x: 0.8 * np.sin(x)\n",
    "rng = np.random.RandomState(15566)\n",
    "\n",
    "#data=datalag_w1_WISEAJ195739\n",
    "t = datalag_w2_WISEAJ195739['t']\n",
    "y= datalag_w2_WISEAJ195739['flux']\n",
    "dy =datalag_w2_WISEAJ195739['err']\n",
    "\n",
    "ax = fig.add_subplot(gs[:, 0])\n",
    "ax.errorbar(t, y, dy, fmt='ok', ecolor='gray',\n",
    "            markersize=3, capsize=0)\n",
    "#ax.plot(tfit, f(tfit), '-k', color='gray')\n",
    "ax.set(xlabel='MJD',\n",
    "       ylabel='signal',\n",
    "       title='W2')\n",
    "ax.set_xlim(55000, 59900)\n",
    "set_ax_tick(ax)\n",
    "plot_secax(ax)\n",
    "\n",
    "\n",
    "\n",
    "ls = LombScargle(t, y,dy)\n",
    "freq, power = ls.autopower(normalization='standard',\n",
    "                           minimum_frequency=0,\n",
    "                           maximum_frequency=0.1,\n",
    "                           samples_per_peak=20)\n",
    "freq, p = ls.autopower(normalization='psd',\n",
    "                       minimum_frequency=0,\n",
    "                       maximum_frequency=0.1,\n",
    "                       samples_per_peak=20)\n",
    "#p = np.exp(p)\n",
    "\n",
    "ax = [fig.add_subplot(gs[0, 1]),\n",
    "      fig.add_subplot(gs[1, 1])]\n",
    "ax[0].set_yscale('log')\n",
    "ax[1].set_yscale('log')\n",
    "ax[0].set_xscale('log')\n",
    "ax[1].set_xscale('log')\n",
    "\n",
    "ax[0].plot(freq, power, '-k')\n",
    "ax[0].set(xlim=(0, 0.1),\n",
    "          ylabel='$P_{LS}$',\n",
    "          title='Lomb-Scargle Periodogram')\n",
    "ax[0].xaxis.set_major_formatter(plt.NullFormatter())\n",
    "\n",
    "ax[1].plot(freq, p, '-k')\n",
    "ax[1].set(xlim=(0, 0.1),\n",
    "          xlabel='frequency',\n",
    "          ylabel='$p(f|D)$',\n",
    "          title='Bayesian Periodogram')\n",
    "\n",
    "fig.savefig('/Users/brettlv/Downloads/WWZ/WISEA J195739.10+503320.4/WISEAJ195739_ls_W2.png',dpi=300)"
   ]
  },
  {
   "cell_type": "code",
   "execution_count": null,
   "metadata": {},
   "outputs": [],
   "source": []
  },
  {
   "cell_type": "markdown",
   "metadata": {},
   "source": [
    "## LS and BIC"
   ]
  },
  {
   "cell_type": "code",
   "execution_count": null,
   "metadata": {
    "ExecuteTime": {
     "start_time": "2023-07-22T04:41:39.955Z"
    }
   },
   "outputs": [],
   "source": [
    " np.linspace(1, 3, 100)"
   ]
  },
  {
   "cell_type": "code",
   "execution_count": null,
   "metadata": {
    "ExecuteTime": {
     "start_time": "2023-07-22T04:41:39.961Z"
    }
   },
   "outputs": [],
   "source": [
    "# Author: Jake VanderPlas\n",
    "# License: BSD\n",
    "#   The figure produced by this code is published in the textbook\n",
    "#   \"Statistics, Data Mining, and Machine Learning in Astronomy\" (2013)\n",
    "#   For more information, see http://astroML.github.com\n",
    "#   To report a bug or issue, use the following forum:\n",
    "#    https://groups.google.com/forum/#!forum/astroml-general\n",
    "import numpy as np\n",
    "from matplotlib import pyplot as plt\n",
    "from astroML.time_series import lomb_scargle, lomb_scargle_BIC, lomb_scargle_bootstrap\n",
    "\n",
    "#----------------------------------------------------------------------\n",
    "# This function adjusts matplotlib settings for a uniform feel in the textbook.\n",
    "# Note that with usetex=True, fonts are rendered with LaTeX.  This may\n",
    "# result in an error if LaTeX is not installed on your system.  In that case,\n",
    "# you can set usetex to False.\n",
    "from astroML.plotting import setup_text_plots\n",
    "setup_text_plots(fontsize=8, usetex=True)\n",
    "\n",
    "#------------------------------------------------------------\n",
    "# Generate Data\n",
    "np.random.seed(0)\n",
    "\n",
    "\n",
    "'''\n",
    "N = 30\n",
    "P = 0.3\n",
    "t = np.random.randint(100, size=N) + 0.3 + 0.4 * np.random.random(N)\n",
    "y = 10 + np.sin(2 * np.pi * t / P)\n",
    "dy = 0.5 + 0.5 * np.random.random(N)\n",
    "y_obs = np.random.normal(y, dy)\n",
    "\n",
    "'''\n",
    "t = datalag_w1_WISEAJ195739['t']\n",
    "y_obs= datalag_w1_WISEAJ195739['flux']\n",
    "dy =datalag_w1_WISEAJ195739['err']\n",
    "\n",
    "\n",
    "#------------------------------------------------------------\n",
    "# Compute periodogram\n",
    "period = 10 ** np.linspace(2, 3.5, 1000)\n",
    "omega = 2 * np.pi / period\n",
    "PS = lomb_scargle(t, y_obs, dy, omega, generalized=True)\n",
    "\n",
    "#------------------------------------------------------------\n",
    "# Get significance via bootstrap\n",
    "D = lomb_scargle_bootstrap(t, y_obs, dy, omega, generalized=True,\n",
    "                           N_bootstraps=1000, random_state=0)\n",
    "\n",
    "sig1, sig3, sig2 = np.percentile(D, [68, 99.74, 95.44])\n",
    "\n",
    "#------------------------------------------------------------\n",
    "\n"
   ]
  },
  {
   "cell_type": "code",
   "execution_count": null,
   "metadata": {
    "ExecuteTime": {
     "start_time": "2023-07-22T04:41:39.967Z"
    }
   },
   "outputs": [],
   "source": [
    "t"
   ]
  },
  {
   "cell_type": "code",
   "execution_count": null,
   "metadata": {
    "ExecuteTime": {
     "start_time": "2023-07-22T04:41:39.972Z"
    }
   },
   "outputs": [],
   "source": [
    "# Plot the results\n",
    "fig = plt.figure(figsize=(10, 6))\n",
    "fig.subplots_adjust(left=0.1, right=0.9, hspace=0.25)\n",
    "\n",
    "# First panel: the data\n",
    "ax = fig.add_subplot(211)\n",
    "ax.errorbar(t, y_obs, dy, fmt='ok', ecolor='gray',\n",
    "            markersize=3, capsize=0)\n",
    "#ax.set_xlabel('MJD')\n",
    "#ax.set_ylabel('flux')\n",
    "\n",
    "ax.set(xlabel='MJD',\n",
    "       ylabel='signal',\n",
    "       title='W1')\n",
    "\n",
    "ax.set_xlim(55000, 59900)\n",
    "set_ax_tick(ax)\n",
    "plot_secax(ax)\n",
    "# Second panel: the periodogram & significance levels\n",
    "\n",
    "ax1 = fig.add_subplot(212, xscale='log')\n",
    "ax1.plot(period, PS, '-', c='black', lw=1, zorder=1)\n",
    "#ax1.plot([period[0], period[-1]], [sig1, sig1], ':', c='black')\n",
    "#ax1.plot([period[0], period[-1]], [sig3, sig3], ':', c='blue')\n",
    "#ax1.plot([period[0], period[-1]], [sig2, sig2], ':', c='red')\n",
    "ax1.axhline(sig1, linestyle='dotted', c='black',label=r'1$\\sigma$')\n",
    "ax1.axhline(sig2, linestyle='-', c='red',label=r'2$\\sigma$')\n",
    "ax1.axhline(sig3, linestyle='-.', c='blue',label=r'3$\\sigma$')\n",
    "\n",
    "'''ax1.annotate(\"\", (0.3, 0.65), (0.3, 0.85), ha='center',\n",
    "             arrowprops=dict(arrowstyle='->'))\n",
    "'''\n",
    "#ax1.set_xlim(period[0], period[-1])\n",
    "ax1.set_ylim(-0.05, 0.95)\n",
    "\n",
    "ax1.set_xlabel(r'period (days)')\n",
    "ax1.set_ylabel('power')\n",
    "\n",
    "# Twin axis: label BIC on the right side\n",
    "ax2 = ax1.twinx()\n",
    "ax2.set_ylim(tuple(lomb_scargle_BIC(ax1.get_ylim(), y_obs, dy)))\n",
    "ax2.set_ylabel(r'$\\Delta BIC$')\n",
    "\n",
    "ax1.xaxis.set_major_formatter(plt.FormatStrFormatter('%.1f'))\n",
    "ax1.xaxis.set_minor_formatter(plt.FormatStrFormatter('%.1f'))\n",
    "ax1.xaxis.set_major_locator(plt.LogLocator(10))\n",
    "ax1.xaxis.set_major_formatter(plt.FormatStrFormatter('%.3g'))\n",
    "\n",
    "ax1.legend()\n",
    "#plt.show()\n",
    "fig.savefig('/Users/brettlv/Downloads/WWZ/WISEA J195739.10+503320.4/WISEAJ195739_ls_sig.png',dpi=300)"
   ]
  },
  {
   "cell_type": "code",
   "execution_count": null,
   "metadata": {
    "ExecuteTime": {
     "start_time": "2023-07-22T04:41:39.977Z"
    }
   },
   "outputs": [],
   "source": [
    "t = datalag_w2_WISEAJ195739['t']\n",
    "y_obs= datalag_w2_WISEAJ195739['flux']\n",
    "dy =datalag_w2_WISEAJ195739['err']\n",
    "\n",
    "\n",
    "#------------------------------------------------------------\n",
    "# Compute periodogram\n",
    "period = 10 ** np.linspace(2, 3.5, 1000)\n",
    "omega = 2 * np.pi / period\n",
    "PS = lomb_scargle(t, y_obs, dy, omega, generalized=True)\n",
    "\n",
    "#------------------------------------------------------------\n",
    "# Get significance via bootstrap\n",
    "D = lomb_scargle_bootstrap(t, y_obs, dy, omega, generalized=True,\n",
    "                           N_bootstraps=1000, random_state=0)\n",
    "\n",
    "sig1, sig3, sig2 = np.percentile(D, [68, 99.74, 95.44])\n",
    "\n",
    "#------------------------------------------------------------\n",
    "# Plot the results\n",
    "fig = plt.figure(figsize=(10, 6))\n",
    "fig.subplots_adjust(left=0.1, right=0.9, hspace=0.25)\n",
    "\n",
    "# First panel: the data\n",
    "ax = fig.add_subplot(211)\n",
    "ax.errorbar(t, y_obs, dy, fmt='ok', ecolor='gray',\n",
    "            markersize=3, capsize=0)\n",
    "#ax.set_xlabel('MJD')\n",
    "#ax.set_ylabel('flux')\n",
    "\n",
    "ax.set(xlabel='MJD',\n",
    "       ylabel='signal',\n",
    "       title='W2')\n",
    "\n",
    "ax.set_xlim(55000, 59900)\n",
    "set_ax_tick(ax)\n",
    "plot_secax(ax)\n",
    "# Second panel: the periodogram & significance levels\n",
    "\n",
    "ax1 = fig.add_subplot(212, xscale='log')\n",
    "ax1.plot(period, PS, '-', c='black', lw=1, zorder=1)\n",
    "#ax1.plot([period[0], period[-1]], [sig1, sig1], ':', c='black')\n",
    "#ax1.plot([period[0], period[-1]], [sig3, sig3], ':', c='blue')\n",
    "#ax1.plot([period[0], period[-1]], [sig2, sig2], ':', c='red')\n",
    "ax1.axhline(sig1, linestyle='dotted', c='black',label=r'1$\\sigma$')\n",
    "ax1.axhline(sig2, linestyle='-', c='red',label=r'2$\\sigma$')\n",
    "ax1.axhline(sig3, linestyle='-.', c='blue',label=r'3$\\sigma$')\n",
    "\n",
    "'''ax1.annotate(\"\", (0.3, 0.65), (0.3, 0.85), ha='center',\n",
    "             arrowprops=dict(arrowstyle='->'))\n",
    "'''\n",
    "#ax1.set_xlim(period[0], period[-1])\n",
    "ax1.set_ylim(-0.05, 0.95)\n",
    "\n",
    "ax1.set_xlabel(r'period (days)')\n",
    "ax1.set_ylabel('power')\n",
    "\n",
    "# Twin axis: label BIC on the right side\n",
    "ax2 = ax1.twinx()\n",
    "ax2.set_ylim(tuple(lomb_scargle_BIC(ax1.get_ylim(), y_obs, dy)))\n",
    "ax2.set_ylabel(r'$\\Delta BIC$')\n",
    "\n",
    "ax1.xaxis.set_major_formatter(plt.FormatStrFormatter('%.1f'))\n",
    "ax1.xaxis.set_minor_formatter(plt.FormatStrFormatter('%.1f'))\n",
    "ax1.xaxis.set_major_locator(plt.LogLocator(10))\n",
    "ax1.xaxis.set_major_formatter(plt.FormatStrFormatter('%.3g'))\n",
    "\n",
    "ax1.legend()\n",
    "#plt.show()\n",
    "fig.savefig('/Users/brettlv/Downloads/WWZ/WISEA J195739.10+503320.4/WISEAJ195739_ls_sig_W2.png',dpi=300)"
   ]
  },
  {
   "cell_type": "markdown",
   "metadata": {},
   "source": [
    "# ZTF"
   ]
  },
  {
   "cell_type": "markdown",
   "metadata": {},
   "source": [
    "## def ztflc_show_in_jupyter"
   ]
  },
  {
   "cell_type": "code",
   "execution_count": null,
   "metadata": {
    "ExecuteTime": {
     "end_time": "2023-11-19T06:16:09.639842Z",
     "start_time": "2023-11-19T06:16:09.628662Z"
    }
   },
   "outputs": [],
   "source": [
    "def ztflc_show_in_jupyter(data,name,figsize=[7,4],showtoday=False, show_upperlimits=False, formattime=False,\n",
    "             marker=\".\", mec=\"0.7\", ms=6, ecolor=\"0.7\", ls=\"\", zorder=4, **kwargs):\n",
    "        \"\"\" kwargs goes to matplotlib's errorbar() \"\"\"\n",
    "        FILTER_COLORS = [\"C2\",\"C3\",\"C1\"]\n",
    "        FILTER_CODE   = [\"zg\",\"zr\",\"zi\"]\n",
    "        marker_CODE   = [\".\",\"^\",\"*\"]\n",
    "        \n",
    "        save_name=name.strip().replace(' ','_')\n",
    "        \n",
    "        from astropy import time\n",
    "        import matplotlib.pyplot as mpl\n",
    "        # ----------- #\n",
    "        # Global      #\n",
    "        # ----------- #\n",
    "        lc_dataframe = data\n",
    "        prop = dict(marker=marker, mec=mec, ms=ms, ecolor=ecolor, ls=ls, zorder=zorder)\n",
    "        # ----------- #\n",
    "        #\n",
    "        # ----------- #\n",
    "        fig = mpl.figure(figsize=figsize)\n",
    "        ax = fig.add_axes([0.1,0.15,0.8,0.75])\n",
    "        for filter_ in np.unique(lc_dataframe[\"filtercode\"]):\n",
    "            d = lc_dataframe[lc_dataframe[\"filtercode\"]==filter_]\n",
    "            if filter_ in FILTER_CODE:\n",
    "                prop[\"color\"] = np.asarray(FILTER_COLORS)[np.where(np.asarray(FILTER_CODE)==filter_)][0]\n",
    "            else:\n",
    "                prop[\"color\"] = \"0.7\"\n",
    "            if formattime:\n",
    "                dates = time.Time(np.asarray(d[\"mjd\"].values, dtype=\"float\"), format=\"mjd\").datetime\n",
    "            else:\n",
    "                dates = d[\"mjd\"]\n",
    "            ax.errorbar(dates, d[\"mag\"], \n",
    "                                yerr=d[\"magerr\"],label=filter_,\n",
    "                                **{**prop,**kwargs})\n",
    "        ax.invert_yaxis()\n",
    "        \n",
    "        if show_upperlimits:\n",
    "            for filter_ in np.unique(lc_dataframe[\"filtercode\"]):\n",
    "                d = lc_dataframe[lc_dataframe[\"filtercode\"]==filter_]\n",
    "                if filter_ in FILTER_CODE:\n",
    "                    color = np.asarray(FILTER_COLORS)[np.where(np.asarray(FILTER_CODE)==filter_)][0]\n",
    "                else:\n",
    "                    color = \"0.7\"\n",
    "                if formattime:\n",
    "                    dates = time.Time(np.asarray(d[\"mjd\"].values, dtype=\"float\"), format=\"mjd\").datetime\n",
    "                else:\n",
    "                    dates = d[\"mjd\"]\n",
    "                    \n",
    "                ax.errorbar(dates, d[\"limitmag\"], \n",
    "                            yerr=0.1, lolims=True,marker=\"None\", ls=\"None\", \n",
    "                            color=color, alpha=0.1,label=filter_\n",
    "                            )\n",
    "        if showtoday:\n",
    "            today_color = \"0.7\"\n",
    "            import datetime\n",
    "            today = time.Time(datetime.date.today().isoformat(),format=\"iso\").mjd\n",
    "            ax.axvline(today, ls=\"--\", color=today_color, zorder=1, lw=1)\n",
    "            ax.text(today, ax.get_ylim()[0]-0.05, \"Today\", va=\"bottom\", ha=\"right\", rotation=90, color=today_color)\n",
    "        \n",
    "        \n",
    "        maxmjd= max(lc_dataframe['mjd'])\n",
    "        minmjd= min(lc_dataframe['mjd'])\n",
    "        delta_mjd=maxmjd-minmjd\n",
    "        \n",
    "        if delta_mjd>750: \n",
    "            \n",
    "            ma_intervals= 365\n",
    "            min_intervals= 90\n",
    "                       \n",
    "        if delta_mjd<750:     \n",
    "            ma_intervals= delta_mjd//3\n",
    "            mi_intervals= delta_mjd//6\n",
    "            \n",
    "        ax.set_xlabel(\"MJD\")\n",
    "        plot_secax(ax,rotation=30,) \n",
    "        # - Labels           \n",
    "        ax.set_ylabel(\"mag\")\n",
    "        #ax.set_title('%s_%s'%(name,band))\n",
    "        ax.set_title('%s'%(name))\n",
    "        set_ax_legend(ax,bbox_to_anchor=(1.0, 0.99))\n",
    "        \n",
    "        return fig,ax"
   ]
  },
  {
   "cell_type": "code",
   "execution_count": null,
   "metadata": {},
   "outputs": [],
   "source": []
  },
  {
   "cell_type": "markdown",
   "metadata": {
    "ExecuteTime": {
     "end_time": "2023-09-13T06:30:26.966726Z",
     "start_time": "2023-09-13T06:30:26.955164Z"
    }
   },
   "source": [
    "def ztflc_show_in_jupyter(data,name,band, showtoday=False, show_upperlimits=False, formattime=False,\n",
    "             marker=\"o\", mec=\"0.7\", ms=7, ecolor=\"0.7\", ls=\"None\", zorder=4, **kwargs):\n",
    "        \"\"\" kwargs goes to matplotlib's errorbar() \"\"\"\n",
    "        FILTER_COLORS = [\"C2\",\"C3\",\"C1\"]\n",
    "        FILTER_CODE   = [\"zg\",\"zr\",\"zi\"]\n",
    "        save_name=name.strip().replace(' ','_')\n",
    "        \n",
    "\n",
    "        from astropy import time\n",
    "        import matplotlib.pyplot as mpl\n",
    "\n",
    "        # ----------- #\n",
    "        # Global      #\n",
    "        # ----------- #\n",
    "        lc_dataframe = data\n",
    "        prop = dict(marker=marker, mec=mec, ms=ms, ecolor=ecolor, ls=ls, zorder=zorder)\n",
    "\n",
    "        # ----------- #\n",
    "        #\n",
    "        # ----------- #\n",
    "        fig = mpl.figure(figsize=[7,4])\n",
    "        ax = fig.add_axes([0.1,0.15,0.8,0.75])\n",
    "        for filter_ in np.unique(lc_dataframe[\"filtercode\"]):\n",
    "            d = lc_dataframe[lc_dataframe[\"filtercode\"]==filter_]\n",
    "            if filter_ in FILTER_CODE:\n",
    "                prop[\"color\"] = np.asarray(FILTER_COLORS)[np.where(np.asarray(FILTER_CODE)==filter_)][0]\n",
    "            else:\n",
    "                prop[\"color\"] = \"0.7\"\n",
    "\n",
    "            if formattime:\n",
    "                dates = time.Time(np.asarray(d[\"mjd\"].values, dtype=\"float\"), format=\"mjd\").datetime\n",
    "            else:\n",
    "                dates = d[\"mjd\"]\n",
    "            ax.errorbar(dates, d[\"mag\"], \n",
    "                                yerr=d[\"magerr\"],\n",
    "                                **{**prop,**kwargs})\n",
    "\n",
    "        ax.invert_yaxis()\n",
    "        \n",
    "        \n",
    "        if show_upperlimits:\n",
    "            for filter_ in np.unique(lc_dataframe[\"filtercode\"]):\n",
    "                d = lc_dataframe[lc_dataframe[\"filtercode\"]==filter_]\n",
    "                if filter_ in FILTER_CODE:\n",
    "                    color = np.asarray(FILTER_COLORS)[np.where(np.asarray(FILTER_CODE)==filter_)][0]\n",
    "                else:\n",
    "                    color = \"0.7\"\n",
    "\n",
    "                if formattime:\n",
    "                    dates = time.Time(np.asarray(d[\"mjd\"].values, dtype=\"float\"), format=\"mjd\").datetime\n",
    "                else:\n",
    "                    dates = d[\"mjd\"]\n",
    "                    \n",
    "                ax.errorbar(dates, d[\"limitmag\"], \n",
    "                            yerr=0.1, lolims=True,marker=\"None\", ls=\"None\", \n",
    "                            color=color, alpha=0.1,\n",
    "                            )\n",
    "\n",
    "        if showtoday:\n",
    "            today_color = \"0.7\"\n",
    "            import datetime\n",
    "            today = time.Time(datetime.date.today().isoformat(),format=\"iso\").mjd\n",
    "            ax.axvline(today, ls=\"--\", color=today_color, zorder=1, lw=1)\n",
    "            ax.text(today, ax.get_ylim()[0]-0.05, \"Today\", va=\"bottom\", ha=\"right\", rotation=90, color=today_color)\n",
    "\n",
    "        if formattime:\n",
    "            from matplotlib import dates as mdates            \n",
    "            locator = mdates.AutoDateLocator()\n",
    "            formatter = mdates.ConciseDateFormatter(locator)\n",
    "            ax.xaxis.set_major_locator(locator)\n",
    "            ax.xaxis.set_major_formatter(formatter)\n",
    "            ax.set_xlabel(\"Date\")\n",
    "        else:\n",
    "            ax.set_xlabel(\"MJD\")\n",
    "        # - Labels\n",
    "\n",
    "        ax.set_ylabel(\"mag\")\n",
    "        ax.set_title('%s_%s'%(name,band))\n",
    "        plot_secax(ax,mi_interval=30,ma_interval=180,rotation=30)  \n",
    "        return fig\n",
    "        "
   ]
  },
  {
   "cell_type": "markdown",
   "metadata": {},
   "source": [
    "## ztflc_Lum_show_in_jupyter"
   ]
  },
  {
   "cell_type": "code",
   "execution_count": null,
   "metadata": {
    "ExecuteTime": {
     "end_time": "2023-11-19T06:16:19.361311Z",
     "start_time": "2023-11-19T06:16:19.351441Z"
    }
   },
   "outputs": [],
   "source": [
    "def ztflc_Lum_show_in_jupyter(data,name,band,D_cm, showtoday=False, show_upperlimits=False, formattime=True,\n",
    "             marker=\"o\", mec=\"0.7\", ms=7, ecolor=\"0.7\", ls=\"None\", zorder=4, **kwargs):\n",
    "        \"\"\" kwargs goes to matplotlib's errorbar() \"\"\"\n",
    "        FILTER_COLORS = [\"C2\",\"C3\",\"C1\"]\n",
    "        FILTER_CODE   = [\"zg\",\"zr\",\"zi\"]\n",
    "        save_name=name.strip().replace(' ','_')\n",
    "        \n",
    "        if band=='g':\n",
    "            wavelength=(410+550)/2*10\n",
    "    \n",
    "        if band=='r':\n",
    "            wavelength=(700+550)/2*10 \n",
    "            \n",
    "        if band=='i':\n",
    "            wavelength=(700+900)/2*10 \n",
    "            \n",
    "            \n",
    "        from astropy import time\n",
    "        import matplotlib.pyplot as mpl\n",
    "\n",
    "        # ----------- #\n",
    "        # Global      #\n",
    "        # ----------- #\n",
    "        lc_dataframe = data\n",
    "        prop = dict(marker=marker, mec=mec, ms=ms, ecolor=ecolor, ls=ls, zorder=zorder)\n",
    "\n",
    "        # ----------- #\n",
    "        #\n",
    "        # ----------- #\n",
    "        fig = mpl.figure(figsize=[7,4])\n",
    "        ax = fig.add_axes([0.1,0.15,0.8,0.75])\n",
    "        for filter_ in np.unique(lc_dataframe[\"filtercode\"]):\n",
    "            d = lc_dataframe[lc_dataframe[\"filtercode\"]==filter_]\n",
    "            if filter_ in FILTER_CODE:\n",
    "                prop[\"color\"] = np.asarray(FILTER_COLORS)[np.where(np.asarray(FILTER_CODE)==filter_)][0]\n",
    "            else:\n",
    "                prop[\"color\"] = \"0.7\"\n",
    "\n",
    "            if formattime:\n",
    "                dates = time.Time(np.asarray(d[\"mjd\"].values, dtype=\"float\"), format=\"mjd\").datetime\n",
    "            else:\n",
    "                dates = d[\"mjd\"]\n",
    "            ax.errorbar(dates, d[\"flux\"]*4*np.pi*D_cm**2*1e-23*wavelength, \n",
    "                                yerr=d[\"flux_err\"]*4*np.pi*D_cm**2*1e-23*wavelength,\n",
    "                                **{**prop,**kwargs})\n",
    "\n",
    "    \n",
    "\n",
    "        if showtoday:\n",
    "            today_color = \"0.7\"\n",
    "            import datetime\n",
    "            today = time.Time(datetime.date.today().isoformat(),format=\"iso\").mjd\n",
    "            ax.axvline(today, ls=\"--\", color=today_color, zorder=1, lw=1)\n",
    "            ax.text(today, ax.get_ylim()[0]-0.05, \"Today\", va=\"bottom\", ha=\"right\", rotation=90, color=today_color)\n",
    "\n",
    "        if formattime:\n",
    "            from matplotlib import dates as mdates            \n",
    "            locator = mdates.AutoDateLocator()\n",
    "            formatter = mdates.ConciseDateFormatter(locator)\n",
    "            ax.xaxis.set_major_locator(locator)\n",
    "            ax.xaxis.set_major_formatter(formatter)\n",
    "            ax.set_xlabel(\"Date\")\n",
    "        else:\n",
    "            ax.set_xlabel(\"MJD\")\n",
    "        # - Labels\n",
    "\n",
    "        ax.set_ylabel(\"$\\lambda*L_{%s}$\"%band)\n",
    "        ax.set_title('%s_%s'%(name,band))\n",
    "        plot_secax(ax)       \n",
    "        "
   ]
  },
  {
   "cell_type": "code",
   "execution_count": null,
   "metadata": {},
   "outputs": [],
   "source": []
  },
  {
   "cell_type": "code",
   "execution_count": null,
   "metadata": {
    "ExecuteTime": {
     "end_time": "2023-07-22T04:41:46.558782Z",
     "start_time": "2023-07-22T04:41:41.023972Z"
    }
   },
   "outputs": [],
   "source": [
    "table_IRSA=Irsa.list_catalogs()   "
   ]
  },
  {
   "cell_type": "code",
   "execution_count": null,
   "metadata": {
    "ExecuteTime": {
     "end_time": "2023-07-22T04:41:46.572519Z",
     "start_time": "2023-07-22T04:41:46.560134Z"
    }
   },
   "outputs": [],
   "source": [
    "table_IRSA"
   ]
  },
  {
   "cell_type": "code",
   "execution_count": null,
   "metadata": {
    "ExecuteTime": {
     "end_time": "2023-07-22T04:41:46.577318Z",
     "start_time": "2023-07-22T04:41:46.574473Z"
    }
   },
   "outputs": [],
   "source": [
    "name"
   ]
  },
  {
   "cell_type": "markdown",
   "metadata": {},
   "source": [
    "## ptf"
   ]
  },
  {
   "cell_type": "code",
   "execution_count": null,
   "metadata": {
    "ExecuteTime": {
     "end_time": "2023-07-22T04:41:46.615783Z",
     "start_time": "2023-07-22T04:41:46.578279Z"
    }
   },
   "outputs": [],
   "source": [
    "#Irsa.ROW_LIMIT = 1000 # value of new row limit here.\n",
    "#Irsa.TIMEOUT = 120\n",
    "#name='Mrk 6'\n",
    "search_name=name.strip().replace(' ','')\n",
    "save_name=search_name\n",
    "ztf_datadir='/Users/brettlv/Downloads/WWZ/WISEA J195739.10+503320.4/'\n",
    "catalog='ptf_lightcurves'\n",
    "ztf_datapath='%s/%s_%s.csv'%(ztf_datadir,catalog,save_name)\n",
    "# objects_dr7\n",
    "\n",
    "if not os.path.exists(ztf_datapath):\n",
    "    print(search_name)\n",
    "    Irsa.ROW_LIMIT = 10000\n",
    "    Irsa.TIMEOUT = 120\n",
    "    table_ztf_objects_dr7 =Irsa.query_region(search_name,catalog,spatial='Cone',radius=1*u.arcsec,)\n",
    "    table_ztf_objects_dr7.write(ztf_datapath, format='csv')\n",
    "    time.sleep(15+np.random.randint(5,10))    "
   ]
  },
  {
   "cell_type": "code",
   "execution_count": null,
   "metadata": {
    "ExecuteTime": {
     "end_time": "2023-07-22T04:41:46.618140Z",
     "start_time": "2023-07-22T04:41:46.618131Z"
    }
   },
   "outputs": [],
   "source": [
    "\n",
    "search_name=name.strip().replace(' ','')\n",
    "save_name=search_name\n",
    "ztf_datadir='/Users/brettlv/Downloads/WWZ/WISEA J195739.10+503320.4/'\n",
    "catalog='ptf_lightcurves'\n",
    "ztf_datapath='%s/%s_%s.csv'%(ztf_datadir,catalog,save_name)\n",
    "print(save_name)\n",
    "ztf_lc=pd.read_csv(ztf_datapath)"
   ]
  },
  {
   "cell_type": "code",
   "execution_count": null,
   "metadata": {
    "ExecuteTime": {
     "end_time": "2023-07-22T04:41:46.618732Z",
     "start_time": "2023-07-22T04:41:46.618725Z"
    }
   },
   "outputs": [],
   "source": [
    "ztf_lc.columns"
   ]
  },
  {
   "cell_type": "code",
   "execution_count": null,
   "metadata": {
    "ExecuteTime": {
     "end_time": "2023-07-22T04:41:46.619479Z",
     "start_time": "2023-07-22T04:41:46.619472Z"
    }
   },
   "outputs": [],
   "source": [
    "min(ztf_lc['obsmjd']),max(ztf_lc['obsmjd']),max(ztf_lc['obsmjd'])-min(ztf_lc['obsmjd'])"
   ]
  },
  {
   "cell_type": "code",
   "execution_count": null,
   "metadata": {
    "ExecuteTime": {
     "end_time": "2023-07-22T04:41:46.620672Z",
     "start_time": "2023-07-22T04:41:46.620659Z"
    }
   },
   "outputs": [],
   "source": [
    "fig = plt.figure(figsize=(6, 6))\n",
    "#gs = plt.GridSpec(2, 2)\n",
    "\n",
    "\n",
    "\n",
    "#data=datalag_w1_WISEAJ195739\n",
    "t = ztf_lc['obsmjd']\n",
    "y= ztf_lc['mag_autocorr']\n",
    "dy =ztf_lc['magerr_auto']\n",
    "\n",
    "ax = fig.add_subplot(111)\n",
    "ax.errorbar(t, y, dy, fmt='ok', ecolor='gray',\n",
    "            markersize=3, capsize=0)\n",
    "#ax.plot(tfit, f(tfit), '-k', color='gray')\n",
    "ax.set(xlabel='MJD',\n",
    "       ylabel='signal',\n",
    "       title='ptf')\n",
    "ax.set_xlim(56775, 56850)\n",
    "set_ax_tick(ax)\n",
    "plot_secax(ax,30,10)"
   ]
  },
  {
   "cell_type": "markdown",
   "metadata": {},
   "source": [
    "## ztf"
   ]
  },
  {
   "cell_type": "code",
   "execution_count": null,
   "metadata": {
    "ExecuteTime": {
     "end_time": "2023-07-22T04:41:46.621461Z",
     "start_time": "2023-07-22T04:41:46.621451Z"
    }
   },
   "outputs": [],
   "source": [
    "ztf_datadir"
   ]
  },
  {
   "cell_type": "code",
   "execution_count": null,
   "metadata": {
    "ExecuteTime": {
     "end_time": "2023-07-22T04:41:46.622206Z",
     "start_time": "2023-07-22T04:41:46.622197Z"
    }
   },
   "outputs": [],
   "source": [
    "#Irsa.ROW_LIMIT = 1000 # value of new row limit here.\n",
    "#Irsa.TIMEOUT = 120\n",
    "\n",
    "#name='Mrk 6'\n",
    "name='PS16dtm'\n",
    "search_name=name.strip().replace(' ','')\n",
    "save_name=search_name\n",
    "ztf_datadir='/Users/brettlv/Downloads/WWZ/WISEA J195739.10+503320.4/'\n",
    "catalog='ztf_objects_dr11'\n",
    "ztf_datapath='%s/%s_%s.csv'%(ztf_datadir,catalog,save_name)\n",
    "# objects_dr7\n",
    "\n",
    "if not os.path.exists(ztf_datapath):\n",
    "    print(search_name)\n",
    "    Irsa.ROW_LIMIT = 10000\n",
    "    Irsa.TIMEOUT = 120\n",
    "    table_ztf_objects_dr7 =Irsa.query_region(search_name,catalog=catalog,spatial='Cone',radius=1*u.arcsec,)\n",
    "    table_ztf_objects_dr7.write(ztf_datapath, format='csv')\n",
    "    time.sleep(15+np.random.randint(5,10))    "
   ]
  },
  {
   "cell_type": "code",
   "execution_count": null,
   "metadata": {
    "ExecuteTime": {
     "end_time": "2023-07-22T04:41:46.623133Z",
     "start_time": "2023-07-22T04:41:46.623124Z"
    }
   },
   "outputs": [],
   "source": [
    "search_name=name.strip().replace(' ','')\n",
    "save_name=search_name\n",
    "ztf_datadir='/Users/brettlv/Downloads/WWZ/WISEA J195739.10+503320.4/'\n",
    "catalog='ztf_objects_dr11'\n",
    "ztf_datapath='%s/%s_%s.csv'%(ztf_datadir,catalog,save_name)\n",
    "print(save_name)\n",
    "ztf_lc=pd.read_csv(ztf_datapath)"
   ]
  },
  {
   "cell_type": "code",
   "execution_count": null,
   "metadata": {
    "ExecuteTime": {
     "end_time": "2023-07-22T04:41:46.624464Z",
     "start_time": "2023-07-22T04:41:46.624450Z"
    }
   },
   "outputs": [],
   "source": [
    "ztf_lc.columns"
   ]
  },
  {
   "cell_type": "code",
   "execution_count": null,
   "metadata": {
    "ExecuteTime": {
     "end_time": "2023-07-22T04:41:46.625163Z",
     "start_time": "2023-07-22T04:41:46.625155Z"
    }
   },
   "outputs": [],
   "source": [
    "ztf_lc"
   ]
  },
  {
   "cell_type": "markdown",
   "metadata": {},
   "source": [
    "## ztfquery "
   ]
  },
  {
   "cell_type": "code",
   "execution_count": null,
   "metadata": {
    "ExecuteTime": {
     "end_time": "2023-07-22T04:41:46.625817Z",
     "start_time": "2023-07-22T04:41:46.625810Z"
    }
   },
   "outputs": [],
   "source": [
    "$ZTFDATA"
   ]
  },
  {
   "cell_type": "code",
   "execution_count": null,
   "metadata": {
    "ExecuteTime": {
     "end_time": "2023-07-22T04:41:46.626644Z",
     "start_time": "2023-07-22T04:41:46.626637Z"
    }
   },
   "outputs": [],
   "source": [
    "ZTFDATA='/Volumes/ExtremeSSD/ZTFdata'\n",
    "if not os.path.exists(ZTFDATA):\n",
    "    os.mkdir(ZTFDATA)"
   ]
  },
  {
   "cell_type": "code",
   "execution_count": null,
   "metadata": {
    "ExecuteTime": {
     "end_time": "2023-09-19T15:24:58.352359Z",
     "start_time": "2023-09-19T15:24:57.543270Z"
    }
   },
   "outputs": [],
   "source": [
    "import ztfquery"
   ]
  },
  {
   "cell_type": "code",
   "execution_count": null,
   "metadata": {
    "ExecuteTime": {
     "end_time": "2023-07-22T04:41:46.628413Z",
     "start_time": "2023-07-22T04:41:46.628404Z"
    }
   },
   "outputs": [],
   "source": [
    "from ztfquery import query\n",
    "zquery = query.ZTFQuery()"
   ]
  },
  {
   "cell_type": "markdown",
   "metadata": {},
   "source": [
    "## def ztfdata_downloadradec"
   ]
  },
  {
   "cell_type": "code",
   "execution_count": 76,
   "metadata": {
    "ExecuteTime": {
     "end_time": "2023-12-07T10:16:49.727639Z",
     "start_time": "2023-12-07T10:16:49.718099Z"
    }
   },
   "outputs": [],
   "source": [
    "def ztfdata_downloadradec(ra,dec,pathztf):\n",
    "    data = lightcurve.LCQuery.download_data(circle=[ra,dec,2.0/3600],BAD_CATFLAGS_MASK=32768)\n",
    "    \n",
    "    save_name= 'ra%.5f_dec%.5f'%(ra,dec)\n",
    "    \n",
    "    data.to_csv('%s/%s.csv'%(pathztf,save_name),index=False) \n",
    "    \n",
    "    #return data"
   ]
  },
  {
   "cell_type": "markdown",
   "metadata": {},
   "source": [
    "## def ztfdata_download_name"
   ]
  },
  {
   "cell_type": "code",
   "execution_count": 87,
   "metadata": {
    "ExecuteTime": {
     "end_time": "2023-12-07T10:38:49.339539Z",
     "start_time": "2023-12-07T10:38:49.330868Z"
    }
   },
   "outputs": [],
   "source": [
    "def ztfdata_download_name(name,ra,dec,pathztf):\n",
    "    data = lightcurve.LCQuery.download_data(circle=[ra,dec,2.0/3600],BAD_CATFLAGS_MASK=32768)\n",
    "    \n",
    "    #save_name= 'ra%.5f_dec%.5f'%(ra,dec)\n",
    "    save_name= name.strip().replace(' ','')\n",
    "    data.to_csv('%s/%s.csv'%(pathztf,save_name),index=False) \n",
    "    \n",
    "    #return data"
   ]
  },
  {
   "cell_type": "code",
   "execution_count": null,
   "metadata": {},
   "outputs": [],
   "source": []
  },
  {
   "cell_type": "code",
   "execution_count": null,
   "metadata": {},
   "outputs": [],
   "source": []
  },
  {
   "cell_type": "code",
   "execution_count": null,
   "metadata": {},
   "outputs": [],
   "source": []
  },
  {
   "cell_type": "markdown",
   "metadata": {
    "ExecuteTime": {
     "end_time": "2022-06-16T10:40:53.819019Z",
     "start_time": "2022-06-16T10:40:53.770500Z"
    }
   },
   "source": [
    "ztfquery.io.load_id({service_name})"
   ]
  },
  {
   "cell_type": "code",
   "execution_count": null,
   "metadata": {
    "ExecuteTime": {
     "end_time": "2023-07-22T04:41:46.629324Z",
     "start_time": "2023-07-22T04:41:46.629316Z"
    }
   },
   "outputs": [],
   "source": [
    "fritz.download_lightcurve?"
   ]
  },
  {
   "cell_type": "markdown",
   "metadata": {
    "ExecuteTime": {
     "end_time": "2022-06-16T11:01:16.649937Z",
     "start_time": "2022-06-16T11:01:16.647139Z"
    }
   },
   "source": [
    "#LOCALSOURCE=ZTFDATA"
   ]
  },
  {
   "cell_type": "markdown",
   "metadata": {
    "ExecuteTime": {
     "end_time": "2022-06-16T11:02:01.304418Z",
     "start_time": "2022-06-16T11:02:01.298592Z"
    }
   },
   "source": [
    "export $ZTFDATA=/Volumes/ExtremeSSD/ZTFdata"
   ]
  },
  {
   "cell_type": "markdown",
   "metadata": {
    "ExecuteTime": {
     "end_time": "2022-06-16T11:10:13.802429Z",
     "start_time": "2022-06-16T11:10:13.796735Z"
    }
   },
   "source": [
    "%env ZTFDATA=/Volumes/ExtremeSSD/ZTFdata\n",
    "%env LOCALSOURCE=/Volumes/ExtremeSSD/ZTFdata"
   ]
  },
  {
   "cell_type": "code",
   "execution_count": null,
   "metadata": {
    "ExecuteTime": {
     "end_time": "2023-07-22T04:41:46.630042Z",
     "start_time": "2023-07-22T04:41:46.630034Z"
    }
   },
   "outputs": [],
   "source": [
    "%set_env ZTFDATA=/Volumes/ExtremeSSD/ZTFdata\n",
    "%set_env LOCALSOURCE=/Volumes/ExtremeSSD/ZTFdata/Data"
   ]
  },
  {
   "cell_type": "code",
   "execution_count": null,
   "metadata": {
    "ExecuteTime": {
     "end_time": "2023-07-22T04:41:46.630778Z",
     "start_time": "2023-07-22T04:41:46.630766Z"
    }
   },
   "outputs": [],
   "source": [
    "pwd"
   ]
  },
  {
   "cell_type": "code",
   "execution_count": null,
   "metadata": {
    "ExecuteTime": {
     "end_time": "2023-07-22T04:41:46.631502Z",
     "start_time": "2023-07-22T04:41:46.631494Z"
    }
   },
   "outputs": [],
   "source": [
    "os.chdir(ZTFDATA)"
   ]
  },
  {
   "cell_type": "code",
   "execution_count": null,
   "metadata": {
    "ExecuteTime": {
     "end_time": "2023-07-22T04:41:46.632619Z",
     "start_time": "2023-07-22T04:41:46.632611Z"
    }
   },
   "outputs": [],
   "source": [
    "#%matplotlib notebook\n",
    "from ztfquery import fritz"
   ]
  },
  {
   "cell_type": "code",
   "execution_count": null,
   "metadata": {
    "ExecuteTime": {
     "end_time": "2023-07-22T04:41:46.633267Z",
     "start_time": "2023-07-22T04:41:46.633260Z"
    }
   },
   "outputs": [],
   "source": [
    "pwd"
   ]
  },
  {
   "cell_type": "markdown",
   "metadata": {
    "ExecuteTime": {
     "end_time": "2022-06-16T11:11:51.822503Z",
     "start_time": "2022-06-16T11:11:18.290544Z"
    }
   },
   "source": [
    "lc = fritz.download_lightcurve(\"ZTF20acrzwvx\")"
   ]
  },
  {
   "cell_type": "code",
   "execution_count": null,
   "metadata": {
    "ExecuteTime": {
     "end_time": "2023-07-22T04:41:46.634303Z",
     "start_time": "2023-07-22T04:41:46.634295Z"
    }
   },
   "outputs": [],
   "source": [
    "os.getenv('ZTFDATA'),os.getenv('LOCALSOURCE')"
   ]
  },
  {
   "cell_type": "code",
   "execution_count": null,
   "metadata": {
    "ExecuteTime": {
     "end_time": "2023-07-22T04:41:46.635042Z",
     "start_time": "2023-07-22T04:41:46.635034Z"
    }
   },
   "outputs": [],
   "source": [
    "{service_name}"
   ]
  },
  {
   "cell_type": "code",
   "execution_count": null,
   "metadata": {
    "ExecuteTime": {
     "end_time": "2023-07-22T04:41:46.635667Z",
     "start_time": "2023-07-22T04:41:46.635660Z"
    }
   },
   "outputs": [],
   "source": [
    "ztfquery.io._load_id_('irsa') #{\"username\":\"lyubing@hust.edu.cn\",'password':'qwe123irsa'}"
   ]
  },
  {
   "cell_type": "code",
   "execution_count": null,
   "metadata": {
    "ExecuteTime": {
     "end_time": "2022-06-16T11:31:13.404316Z",
     "start_time": "2022-06-16T11:31:13.399722Z"
    }
   },
   "outputs": [],
   "source": []
  },
  {
   "cell_type": "code",
   "execution_count": null,
   "metadata": {},
   "outputs": [],
   "source": []
  },
  {
   "cell_type": "markdown",
   "metadata": {
    "ExecuteTime": {
     "end_time": "2022-06-16T11:20:23.638769Z",
     "start_time": "2022-06-16T11:20:23.433230Z"
    }
   },
   "source": [
    "cat /Users/brettlv/anaconda3/lib/python3.8/site-packages/ztfquery/io.py"
   ]
  },
  {
   "cell_type": "code",
   "execution_count": null,
   "metadata": {
    "ExecuteTime": {
     "end_time": "2023-07-22T04:41:46.636339Z",
     "start_time": "2023-07-22T04:41:46.636332Z"
    }
   },
   "outputs": [],
   "source": [
    "coord_WISEAJ195739=SkyCoord('19h57m38.9s','+50d33m18s')"
   ]
  },
  {
   "cell_type": "code",
   "execution_count": null,
   "metadata": {
    "ExecuteTime": {
     "end_time": "2023-07-22T04:41:46.637880Z",
     "start_time": "2023-07-22T04:41:46.637867Z"
    }
   },
   "outputs": [],
   "source": [
    "coord_WISEAJ195739.ra.deg,coord_WISEAJ195739.dec.deg"
   ]
  },
  {
   "cell_type": "code",
   "execution_count": null,
   "metadata": {
    "ExecuteTime": {
     "end_time": "2023-07-22T04:41:46.638565Z",
     "start_time": "2023-07-22T04:41:46.638557Z"
    }
   },
   "outputs": [],
   "source": [
    "299.41200    50.55500"
   ]
  },
  {
   "cell_type": "markdown",
   "metadata": {},
   "source": [
    "## from ztfquery import lightcurve"
   ]
  },
  {
   "cell_type": "code",
   "execution_count": 80,
   "metadata": {
    "ExecuteTime": {
     "end_time": "2023-12-07T10:27:02.033952Z",
     "start_time": "2023-12-07T10:27:02.017048Z"
    }
   },
   "outputs": [],
   "source": [
    "from ztfquery import lightcurve\n",
    "#lcq_PS16dtm = lightcurve.LCQuery.from_position(29.519793, -0.872746, 3)\n",
    "#lcq = lightcurve.LCQuery.from_position(299.412,50.55500, 3)"
   ]
  },
  {
   "cell_type": "markdown",
   "metadata": {
    "ExecuteTime": {
     "end_time": "2022-06-16T11:41:34.749480Z",
     "start_time": "2022-06-16T11:41:34.744889Z"
    }
   },
   "source": [
    "## lcq_PS16dtm"
   ]
  },
  {
   "cell_type": "markdown",
   "metadata": {
    "ExecuteTime": {
     "end_time": "2022-11-21T02:13:02.363985Z",
     "start_time": "2022-11-21T02:12:35.843186Z"
    }
   },
   "source": [
    "lcq_PS16dtm = lightcurve.LCQuery.from_position(29.519793, -0.872746, 3)"
   ]
  },
  {
   "cell_type": "code",
   "execution_count": null,
   "metadata": {},
   "outputs": [],
   "source": []
  },
  {
   "cell_type": "code",
   "execution_count": null,
   "metadata": {
    "ExecuteTime": {
     "start_time": "2023-07-22T04:41:45.742Z"
    }
   },
   "outputs": [],
   "source": [
    "data_g_PS16dtm = lightcurve.LCQuery.download_data(circle=[29.519793, -0.872746,0.0014], bandname=\"g\",BAD_CATFLAGS_MASK=32768)"
   ]
  },
  {
   "cell_type": "code",
   "execution_count": null,
   "metadata": {
    "ExecuteTime": {
     "start_time": "2023-07-22T04:41:45.749Z"
    }
   },
   "outputs": [],
   "source": [
    "data_i_PS16dtm = lightcurve.LCQuery.download_data(circle=[29.519793, -0.872746,0.0014], bandname=\"i\",BAD_CATFLAGS_MASK=15)"
   ]
  },
  {
   "cell_type": "code",
   "execution_count": null,
   "metadata": {
    "ExecuteTime": {
     "start_time": "2023-07-22T04:41:45.754Z"
    }
   },
   "outputs": [],
   "source": [
    "data_r_PS16dtm= lightcurve.LCQuery.download_data(circle=[29.519793, -0.872746,0.0014], bandname=\"r\",BAD_CATFLAGS_MASK=32768)\n",
    "\n"
   ]
  },
  {
   "cell_type": "code",
   "execution_count": null,
   "metadata": {
    "ExecuteTime": {
     "start_time": "2023-07-22T04:41:45.760Z"
    }
   },
   "outputs": [],
   "source": [
    "data_g_PS16dtm['flux']=  10**((data_g_PS16dtm['mag']-8.9)*(-0.4))#Jy\n",
    "data_g_PS16dtm['flux_err'] =0.4 *np.log(10)*data_g_PS16dtm['flux']*data_g_PS16dtm['magerr']\n",
    "\n",
    "\n",
    "data_i_PS16dtm['flux']=  10**((data_i_PS16dtm['mag']-8.9)*(-0.4))#Jy\n",
    "data_i_PS16dtm['flux_err'] =0.4 *np.log(10)*data_i_PS16dtm['flux']*data_i_PS16dtm['magerr']\n",
    "\n",
    "\n",
    "data_r_PS16dtm['flux']=  10**((data_r_PS16dtm['mag']-8.9)*(-0.4))#Jy\n",
    "data_r_PS16dtm['flux_err'] =0.4 *np.log(10)*data_r_PS16dtm['flux']*data_r_PS16dtm['magerr']"
   ]
  },
  {
   "cell_type": "code",
   "execution_count": null,
   "metadata": {
    "ExecuteTime": {
     "start_time": "2023-07-22T04:41:45.774Z"
    }
   },
   "outputs": [],
   "source": [
    "data_r_PS16dtm.columns"
   ]
  },
  {
   "cell_type": "code",
   "execution_count": null,
   "metadata": {
    "ExecuteTime": {
     "start_time": "2023-07-22T04:41:45.785Z"
    }
   },
   "outputs": [],
   "source": [
    "ztf_data_PS16dtm=[data_g_PS16dtm,data_r_PS16dtm,data_i_PS16dtm]\n",
    "ztf_bands=['g','r','i']\n",
    "ztf_bands_color=['green','red','cyan']\n"
   ]
  },
  {
   "cell_type": "markdown",
   "metadata": {},
   "source": [
    "## data_TDE_PS16dtm"
   ]
  },
  {
   "cell_type": "code",
   "execution_count": null,
   "metadata": {},
   "outputs": [],
   "source": []
  },
  {
   "cell_type": "code",
   "execution_count": null,
   "metadata": {},
   "outputs": [],
   "source": []
  },
  {
   "cell_type": "code",
   "execution_count": null,
   "metadata": {
    "ExecuteTime": {
     "start_time": "2023-07-22T04:41:46.294Z"
    }
   },
   "outputs": [],
   "source": [
    "data_TDE_PS16dtm=pd.read_excel('/Users/lyubing/Downloads/PS16dtm/PS16dtmTDE.xlsx')"
   ]
  },
  {
   "cell_type": "code",
   "execution_count": null,
   "metadata": {
    "ExecuteTime": {
     "start_time": "2023-07-22T04:41:46.299Z"
    }
   },
   "outputs": [],
   "source": [
    "data_TDE_PS16dtm"
   ]
  },
  {
   "cell_type": "code",
   "execution_count": null,
   "metadata": {
    "ExecuteTime": {
     "start_time": "2023-07-22T04:41:46.304Z"
    }
   },
   "outputs": [],
   "source": [
    "data_TDE_PS16dtm.columns"
   ]
  },
  {
   "cell_type": "code",
   "execution_count": null,
   "metadata": {
    "ExecuteTime": {
     "start_time": "2023-07-22T04:41:46.308Z"
    }
   },
   "outputs": [],
   "source": [
    "len(data_TDE_PS16dtm.columns)"
   ]
  },
  {
   "cell_type": "code",
   "execution_count": null,
   "metadata": {
    "ExecuteTime": {
     "start_time": "2023-07-22T04:41:46.313Z"
    }
   },
   "outputs": [],
   "source": [
    "colors_cm_10 = cm.get_cmap('tab10', 10)\n",
    "\n",
    "markers_bands_9=['o','+','^','v','d','.','.','.','.']\n",
    "colors_bands_9=['purple',colors_cm_10(4),'yellow',colors_cm_10(3),'blue',colors_cm_10(0),colors_cm_10(2),'red','cyan']\n",
    "\n",
    "marker_dict_uv = dict(zip(data_TDE_PS16dtm.columns[1:], markers_bands_9))\n",
    "color_dict_uv = dict(zip(data_TDE_PS16dtm.columns[1:], colors_bands_9))\n",
    "#label_dict_uv= dict(zip(data_TDE_PS16dtm.columns[1:], labels_bands))"
   ]
  },
  {
   "cell_type": "code",
   "execution_count": null,
   "metadata": {},
   "outputs": [],
   "source": []
  },
  {
   "cell_type": "markdown",
   "metadata": {
    "ExecuteTime": {
     "end_time": "2022-11-21T04:47:59.909263Z",
     "start_time": "2022-11-21T04:47:59.894304Z"
    }
   },
   "source": [
    "for index,j in enumerate(data_TDE_PS16dtm['uvw2']):\n",
    "    if j!='cdots':\n",
    "        mag= j.split('(')[0]\n",
    "        magerr=j.split('(')[1].split(')')[0]\n",
    "        print(data_TDE_PS16dtm.loc[index,'MJD'],mag,magerr)"
   ]
  },
  {
   "cell_type": "code",
   "execution_count": null,
   "metadata": {
    "ExecuteTime": {
     "start_time": "2023-07-22T04:41:46.748Z"
    }
   },
   "outputs": [],
   "source": [
    "fig = plt.figure(figsize=(8,4))\n",
    "fig.subplots_adjust(hspace=0.0, wspace = 0.0)\n",
    "ax = fig.add_subplot(111)\n",
    "\n",
    "\n",
    "BH_mass_PS16dtm=1e6*u.solMass\n",
    "Ledd_PS16dtm=1.26*10**38*BH_mass_PS16dtm/u.solMass\n",
    "\n",
    "for i in data_TDE_PS16dtm.columns[1:]:\n",
    "    for index,j in enumerate(data_TDE_PS16dtm[i]):\n",
    "        if j!='cdots':\n",
    "            mag= j.split('(')[0]\n",
    "            magerr=j.split('(')[1].split(')')[0]\n",
    "            mag=float(mag)\n",
    "            magerr=float(magerr)\n",
    "            \n",
    "            marker=marker_dict_uv[i]\n",
    "            color=color_dict_uv[i]\n",
    "            \n",
    "            #print(mag,magerr)\n",
    "            ax.errorbar(data_TDE_PS16dtm.loc[index,'MJD'],mag,magerr,\n",
    "                        marker=marker,\n",
    "                        color=color,\n",
    "                        label=i)\n",
    "#ax.errorbar(datalag_w1_PS16dtm['t'],datalag_w1_PS16dtm['flux']+np.log10(9),datalag_w1_PS16dtm['err'],label='w1',ls=':',marker='*')\n",
    "#ax.errorbar(datalag_w2_PS16dtm['t'],datalag_w2_PS16dtm['flux']+np.log10(9),datalag_w2_PS16dtm['err'],label='w2',ls=':',marker='*')\n",
    "\n",
    "#ax.axhline(np.log10(Ledd_PS16dtm),ls='-.',label='Ledd')\n",
    "\n",
    "for index,i in enumerate(ztf_data_PS16dtm):\n",
    "    ax.errorbar(i['mjd'],i['mag'],yerr=i['magerr'],\n",
    "                ls='',marker='*',\n",
    "                color='%s'%ztf_bands_color[index],label='ztf+%s'%ztf_bands[index])\n",
    "\n",
    "plot_rebinmag_w1(ax,data_rebin_neo,data_rebin_mep)\n",
    "plot_rebinmag_w2(ax,data_rebin_neo,data_rebin_mep)    \n",
    "    \n",
    "set_ax_tick(ax)\n",
    "ax.set_xlabel('MJD')\n",
    "ax.set_ylabel('mag')\n",
    "set_mag_ylim(ax)\n",
    "#set_ax_legend(ax,bbox_to_anchor=(0.99, 0.99))\n",
    "#ax.legend(bbox_to_anchor=(0.99, 0.99),ncol=3)\n",
    "ax.xaxis.set_tick_params(which='major', size=10, width=2, rotation=0,)\n",
    "handles, labels = ax.get_legend_handles_labels()\n",
    "# remove the errorbars\n",
    "#hdl = [h[0] for h in handles]\n",
    "hdl = handles\n",
    "labels_dict=dict(zip(labels, hdl)) #key,values\n",
    "#by_label=OrderedDict(sorted(labels_dict.items(),key=lambda t:t[0]))\n",
    "by_label = OrderedDict(zip(labels, handles))\n",
    "bbox_to_anchor=(0.99, 0.99)\n",
    "plot_secax(ax)\n",
    "ax.legend(by_label.values(), by_label.keys(), bbox_to_anchor=bbox_to_anchor,\n",
    "          loc=2, numpoints=1,ncol=3,fontsize=11.)"
   ]
  },
  {
   "cell_type": "code",
   "execution_count": null,
   "metadata": {
    "ExecuteTime": {
     "start_time": "2023-07-22T04:41:46.753Z"
    }
   },
   "outputs": [],
   "source": [
    "lcq_g_PS16dtm = lightcurve.LCQuery(data_g_PS16dtm)\n",
    "lcq_i_PS16dtm = lightcurve.LCQuery(data_i_PS16dtm)\n",
    "lcq_r_PS16dtm = lightcurve.LCQuery(data_r_PS16dtm)"
   ]
  },
  {
   "cell_type": "code",
   "execution_count": null,
   "metadata": {
    "ExecuteTime": {
     "start_time": "2023-07-22T04:41:46.761Z"
    }
   },
   "outputs": [],
   "source": [
    "ztflc_show_in_jupyter(data_g_PS16dtm,name,'g',formattime=False)"
   ]
  },
  {
   "cell_type": "code",
   "execution_count": null,
   "metadata": {
    "ExecuteTime": {
     "start_time": "2023-07-22T04:41:46.766Z"
    }
   },
   "outputs": [],
   "source": [
    "ztflc_Lum_show_in_jupyter(data_g_PS16dtm,name,'g',D_cm_PS16dtm,formattime=False)"
   ]
  },
  {
   "cell_type": "code",
   "execution_count": null,
   "metadata": {
    "ExecuteTime": {
     "start_time": "2023-07-22T04:41:46.771Z"
    }
   },
   "outputs": [],
   "source": [
    "ztflc_Lum_show_in_jupyter(data_r_PS16dtm,name,'r',D_cm_PS16dtm,formattime=False)"
   ]
  },
  {
   "cell_type": "code",
   "execution_count": null,
   "metadata": {
    "ExecuteTime": {
     "start_time": "2023-07-22T04:41:46.775Z"
    }
   },
   "outputs": [],
   "source": [
    "ztflc_Lum_show_in_jupyter(data_i_PS16dtm,name,'i',D_cm_PS16dtm,formattime=False)"
   ]
  },
  {
   "cell_type": "code",
   "execution_count": null,
   "metadata": {
    "ExecuteTime": {
     "start_time": "2023-07-22T04:41:46.780Z"
    }
   },
   "outputs": [],
   "source": [
    "ztflc_show_in_jupyter(data_i_PS16dtm,name,'i',formattime=False)"
   ]
  },
  {
   "cell_type": "code",
   "execution_count": null,
   "metadata": {
    "ExecuteTime": {
     "start_time": "2023-07-22T04:41:46.784Z"
    }
   },
   "outputs": [],
   "source": [
    "ztflc_show_in_jupyter(data_r_PS16dtm,name,'r',formattime=False)"
   ]
  },
  {
   "cell_type": "code",
   "execution_count": null,
   "metadata": {},
   "outputs": [],
   "source": []
  },
  {
   "cell_type": "code",
   "execution_count": null,
   "metadata": {
    "ExecuteTime": {
     "start_time": "2023-07-22T04:41:46.791Z"
    }
   },
   "outputs": [],
   "source": [
    "lcq_g_PS16dtm.show()"
   ]
  },
  {
   "cell_type": "code",
   "execution_count": null,
   "metadata": {
    "ExecuteTime": {
     "start_time": "2023-07-22T04:41:46.796Z"
    }
   },
   "outputs": [],
   "source": [
    "lcq_i_PS16dtm.show()"
   ]
  },
  {
   "cell_type": "markdown",
   "metadata": {},
   "source": [
    "### 51 3 arcsec"
   ]
  },
  {
   "cell_type": "code",
   "execution_count": null,
   "metadata": {
    "ExecuteTime": {
     "start_time": "2023-07-22T04:41:47.216Z"
    }
   },
   "outputs": [],
   "source": [
    "0.0014*3600,1/3600,3/3600"
   ]
  },
  {
   "cell_type": "markdown",
   "metadata": {},
   "source": [
    "## Changing-Look blazar OQ 334 (B2 1420+32)"
   ]
  },
  {
   "cell_type": "code",
   "execution_count": null,
   "metadata": {
    "ExecuteTime": {
     "start_time": "2023-07-22T04:41:47.725Z"
    }
   },
   "outputs": [],
   "source": [
    "ra_OQ_334=215.62657165527344\n",
    "dec_OQ_334=32.386234283447266\n",
    "\n",
    "\n",
    "data_OQ_334 = lightcurve.LCQuery.download_data(circle=[ra_OQ_334, dec_OQ_334,0.00027],BAD_CATFLAGS_MASK=0)"
   ]
  },
  {
   "cell_type": "markdown",
   "metadata": {
    "ExecuteTime": {
     "end_time": "2022-12-11T15:23:01.098152Z",
     "start_time": "2022-12-11T15:23:01.017785Z"
    }
   },
   "source": [
    "data_OQ_334.to_csv('/Users/lyubing/Downloads/OQ334_ztfdata.csv')"
   ]
  },
  {
   "cell_type": "code",
   "execution_count": null,
   "metadata": {
    "ExecuteTime": {
     "start_time": "2023-07-22T04:41:48.232Z"
    }
   },
   "outputs": [],
   "source": [
    "data_OQ_334.columns"
   ]
  },
  {
   "cell_type": "markdown",
   "metadata": {
    "ExecuteTime": {
     "end_time": "2022-12-07T07:41:38.202911Z",
     "start_time": "2022-12-07T07:41:38.173763Z"
    }
   },
   "source": [
    "data_OQ_334"
   ]
  },
  {
   "cell_type": "code",
   "execution_count": null,
   "metadata": {
    "ExecuteTime": {
     "start_time": "2023-07-22T04:41:48.649Z"
    }
   },
   "outputs": [],
   "source": [
    "data_OQ_334_g=data_OQ_334[data_OQ_334['filtercode']=='zg']\n",
    "data_OQ_334_r=data_OQ_334[data_OQ_334['filtercode']=='zr']\n",
    "data_OQ_334_i=data_OQ_334[data_OQ_334['filtercode']=='zi']"
   ]
  },
  {
   "cell_type": "code",
   "execution_count": null,
   "metadata": {
    "ExecuteTime": {
     "start_time": "2023-07-22T04:41:48.654Z"
    }
   },
   "outputs": [],
   "source": [
    "fig=ztflc_show_in_jupyter(data_OQ_334_g,'OQ_334','g', showtoday=False,formattime=False)\n",
    "fig.savefig('/Users/lyubing/Downloads/data_OQ_334_g.png',dpi=400, transparent=False, bbox_inches='tight')"
   ]
  },
  {
   "cell_type": "code",
   "execution_count": null,
   "metadata": {
    "ExecuteTime": {
     "start_time": "2023-07-22T04:41:48.659Z"
    }
   },
   "outputs": [],
   "source": [
    "fig=ztflc_show_in_jupyter(data_OQ_334_r,'OQ_334','r', showtoday=False,formattime=False)\n",
    "fig.savefig('/Users/lyubing/Downloads/data_OQ_334_r.png',dpi=400, transparent=False, bbox_inches='tight')"
   ]
  },
  {
   "cell_type": "code",
   "execution_count": null,
   "metadata": {
    "ExecuteTime": {
     "start_time": "2023-07-22T04:41:48.664Z"
    }
   },
   "outputs": [],
   "source": [
    "fig=ztflc_show_in_jupyter(data_OQ_334_i,'OQ_334','i', showtoday=False,formattime=False)\n",
    "fig.savefig('/Users/lyubing/Downloads/data_OQ_334_i.png',dpi=400, transparent=False, bbox_inches='tight')"
   ]
  },
  {
   "cell_type": "code",
   "execution_count": null,
   "metadata": {},
   "outputs": [],
   "source": []
  },
  {
   "cell_type": "code",
   "execution_count": null,
   "metadata": {},
   "outputs": [],
   "source": []
  },
  {
   "cell_type": "code",
   "execution_count": null,
   "metadata": {},
   "outputs": [],
   "source": []
  },
  {
   "cell_type": "code",
   "execution_count": null,
   "metadata": {},
   "outputs": [],
   "source": []
  },
  {
   "cell_type": "code",
   "execution_count": null,
   "metadata": {},
   "outputs": [],
   "source": []
  },
  {
   "cell_type": "markdown",
   "metadata": {
    "ExecuteTime": {
     "end_time": "2022-12-07T07:25:37.334608Z",
     "start_time": "2022-12-07T07:25:37.305974Z"
    }
   },
   "source": [
    "data_OQ_334_g"
   ]
  },
  {
   "cell_type": "code",
   "execution_count": null,
   "metadata": {},
   "outputs": [],
   "source": []
  },
  {
   "cell_type": "code",
   "execution_count": null,
   "metadata": {},
   "outputs": [],
   "source": []
  },
  {
   "cell_type": "code",
   "execution_count": null,
   "metadata": {},
   "outputs": [],
   "source": []
  },
  {
   "cell_type": "markdown",
   "metadata": {},
   "source": [
    "## ZTF light curve parameters"
   ]
  },
  {
   "cell_type": "markdown",
   "metadata": {},
   "source": [
    "The complete list of parameters supported by IRSA's ZTF-LC-API implementation is\n",
    "ID\n",
    "CIRCLE\n",
    "POS\n",
    "BAND\n",
    "BANDNAME\n",
    "MAG\n",
    "NUM_OBS\n",
    "TIME\n",
    "BAD_CATFLAGS_MASK\n",
    "COLLECTION\n",
    "FORMAT\n",
    "\n",
    "\n",
    "The BANDNAME parameter identifies by filter-id the wavelength interval(s) to be searched for data. Possible values are \"g\", \"r\", and \"i\", respectively equivalent to \"1\", \"2\" and \"3\", and comma-separated combinations thereof."
   ]
  },
  {
   "cell_type": "markdown",
   "metadata": {},
   "source": [
    "## gband "
   ]
  },
  {
   "cell_type": "code",
   "execution_count": null,
   "metadata": {
    "ExecuteTime": {
     "start_time": "2023-07-22T04:41:50.379Z"
    }
   },
   "outputs": [],
   "source": [
    "data_g = lightcurve.LCQuery.download_data(circle=[299.412,50.55500,0.0014], bandname=\"g\",BAD_CATFLAGS_MASK=32768)"
   ]
  },
  {
   "cell_type": "code",
   "execution_count": null,
   "metadata": {
    "ExecuteTime": {
     "start_time": "2023-07-22T04:41:50.384Z"
    }
   },
   "outputs": [],
   "source": [
    "len(data_g)"
   ]
  },
  {
   "cell_type": "markdown",
   "metadata": {
    "ExecuteTime": {
     "end_time": "2022-06-16T11:50:44.463514Z",
     "start_time": "2022-06-16T11:50:44.458805Z"
    }
   },
   "source": [
    "data_g.columns"
   ]
  },
  {
   "cell_type": "code",
   "execution_count": null,
   "metadata": {
    "ExecuteTime": {
     "start_time": "2023-07-22T04:41:50.836Z"
    }
   },
   "outputs": [],
   "source": [
    "data_g.head()"
   ]
  },
  {
   "cell_type": "code",
   "execution_count": null,
   "metadata": {
    "ExecuteTime": {
     "start_time": "2023-07-22T04:41:50.841Z"
    }
   },
   "outputs": [],
   "source": [
    "lcq = lightcurve.LCQuery(data_g)"
   ]
  },
  {
   "cell_type": "code",
   "execution_count": null,
   "metadata": {
    "ExecuteTime": {
     "start_time": "2023-07-22T04:41:50.845Z"
    }
   },
   "outputs": [],
   "source": [
    "lcq.show()"
   ]
  },
  {
   "cell_type": "code",
   "execution_count": null,
   "metadata": {},
   "outputs": [],
   "source": []
  },
  {
   "cell_type": "markdown",
   "metadata": {},
   "source": [
    "## LSBIC gbandZTF"
   ]
  },
  {
   "cell_type": "code",
   "execution_count": null,
   "metadata": {
    "ExecuteTime": {
     "start_time": "2023-07-22T04:41:51.284Z"
    }
   },
   "outputs": [],
   "source": [
    "# Author: Jake VanderPlas\n",
    "# License: BSD\n",
    "#   The figure produced by this code is published in the textbook\n",
    "#   \"Statistics, Data Mining, and Machine Learning in Astronomy\" (2013)\n",
    "#   For more information, see http://astroML.github.com\n",
    "#   To report a bug or issue, use the following forum:\n",
    "#    https://groups.google.com/forum/#!forum/astroml-general\n",
    "import numpy as np\n",
    "from matplotlib import pyplot as plt\n",
    "from astroML.time_series import lomb_scargle, lomb_scargle_BIC, lomb_scargle_bootstrap\n",
    "\n",
    "#----------------------------------------------------------------------\n",
    "# This function adjusts matplotlib settings for a uniform feel in the textbook.\n",
    "# Note that with usetex=True, fonts are rendered with LaTeX.  This may\n",
    "# result in an error if LaTeX is not installed on your system.  In that case,\n",
    "# you can set usetex to False.\n",
    "from astroML.plotting import setup_text_plots\n",
    "setup_text_plots(fontsize=8, usetex=True)\n",
    "\n",
    "#------------------------------------------------------------\n",
    "# Generate Data\n",
    "np.random.seed(0)\n",
    "\n",
    "\n",
    "'''\n",
    "N = 30\n",
    "P = 0.3\n",
    "t = np.random.randint(100, size=N) + 0.3 + 0.4 * np.random.random(N)\n",
    "y = 10 + np.sin(2 * np.pi * t / P)\n",
    "dy = 0.5 + 0.5 * np.random.random(N)\n",
    "y_obs = np.random.normal(y, dy)\n",
    "\n",
    "'''\n",
    "t = data_g['mjd']\n",
    "y_obs= -data_g['mag']\n",
    "dy =data_g['magerr']\n",
    "\n",
    "\n",
    "#------------------------------------------------------------\n",
    "# Compute periodogram\n",
    "period = 10 ** np.linspace(-1, 1, 1000)\n",
    "omega = 2 * np.pi / period\n",
    "PS = lomb_scargle(t, y_obs, dy, omega, generalized=True)\n",
    "\n",
    "#------------------------------------------------------------\n",
    "# Get significance via bootstrap\n",
    "D = lomb_scargle_bootstrap(t, y_obs, dy, omega, generalized=True,\n",
    "                           N_bootstraps=1000, random_state=0)\n",
    "\n",
    "sig1, sig3, sig2 = np.percentile(D, [68, 99.74, 95.44])\n",
    "\n",
    "#------------------------------------------------------------\n",
    "\n"
   ]
  },
  {
   "cell_type": "code",
   "execution_count": null,
   "metadata": {
    "ExecuteTime": {
     "start_time": "2023-07-22T04:41:51.289Z"
    }
   },
   "outputs": [],
   "source": [
    "min(t),max(t),max(t)-min(t),(max(t)-min(t))/len(t)"
   ]
  },
  {
   "cell_type": "code",
   "execution_count": null,
   "metadata": {
    "ExecuteTime": {
     "start_time": "2023-07-22T04:41:51.293Z"
    },
    "scrolled": false
   },
   "outputs": [],
   "source": [
    "# Plot the results\n",
    "fig = plt.figure(figsize=(10, 6))\n",
    "fig.subplots_adjust(left=0.1, right=0.9, hspace=0.25)\n",
    "\n",
    "# First panel: the data\n",
    "ax = fig.add_subplot(211)\n",
    "ax.errorbar(t, y_obs, dy, fmt='ok', ecolor='gray',\n",
    "            markersize=3, capsize=0)\n",
    "#ax.set_xlabel('MJD')\n",
    "#ax.set_ylabel('flux')\n",
    "\n",
    "ax.set(xlabel='MJD',\n",
    "       ylabel='signal',\n",
    "       title='g band')\n",
    "\n",
    "ax.set_xlim(58000, 59900)\n",
    "set_ax_tick(ax)\n",
    "plot_secax(ax)\n",
    "# Second panel: the periodogram & significance levels\n",
    "\n",
    "ax1 = fig.add_subplot(212, xscale='log')\n",
    "ax1.plot(period, PS, '-', c='black', lw=1, zorder=1)\n",
    "#ax1.plot([period[0], period[-1]], [sig1, sig1], ':', c='black')\n",
    "#ax1.plot([period[0], period[-1]], [sig3, sig3], ':', c='blue')\n",
    "#ax1.plot([period[0], period[-1]], [sig2, sig2], ':', c='red')\n",
    "ax1.axhline(sig1, linestyle='dotted', c='black',label=r'1$\\sigma$')\n",
    "ax1.axhline(sig2, linestyle='-', c='red',label=r'2$\\sigma$')\n",
    "ax1.axhline(sig3, linestyle='-.', c='blue',label=r'3$\\sigma$')\n",
    "\n",
    "'''ax1.annotate(\"\", (0.3, 0.65), (0.3, 0.85), ha='center',\n",
    "             arrowprops=dict(arrowstyle='->'))\n",
    "'''\n",
    "#ax1.set_xlim(period[0], period[-1])\n",
    "ax1.set_ylim(-0.05, 0.1)\n",
    "\n",
    "ax1.set_xlabel(r'period (days)')\n",
    "ax1.set_ylabel('power')\n",
    "\n",
    "# Twin axis: label BIC on the right side\n",
    "ax2 = ax1.twinx()\n",
    "ax2.set_ylim(tuple(lomb_scargle_BIC(ax1.get_ylim(), y_obs, dy)))\n",
    "ax2.set_ylabel(r'$\\Delta BIC$')\n",
    "\n",
    "ax1.xaxis.set_major_formatter(plt.FormatStrFormatter('%.1f'))\n",
    "ax1.xaxis.set_minor_formatter(plt.FormatStrFormatter('%.1f'))\n",
    "ax1.xaxis.set_major_locator(plt.LogLocator(10))\n",
    "ax1.xaxis.set_major_formatter(plt.FormatStrFormatter('%.3g'))\n",
    "\n",
    "ax1.legend()\n",
    "#plt.show()\n",
    "fig.savefig('/Users/brettlv/Downloads/WWZ/WISEA J195739.10+503320.4/WISEAJ195739_ls_sig_gband.png',dpi=300)"
   ]
  },
  {
   "cell_type": "markdown",
   "metadata": {},
   "source": [
    "## iband"
   ]
  },
  {
   "cell_type": "code",
   "execution_count": null,
   "metadata": {
    "ExecuteTime": {
     "start_time": "2023-07-22T04:41:51.734Z"
    }
   },
   "outputs": [],
   "source": [
    "BAD_CATFLAGS_MASK=15"
   ]
  },
  {
   "cell_type": "code",
   "execution_count": null,
   "metadata": {
    "ExecuteTime": {
     "start_time": "2023-07-22T04:41:51.739Z"
    }
   },
   "outputs": [],
   "source": [
    "data_i = lightcurve.LCQuery.download_data(circle=[299.412,50.55500,0.0014], bandname=\"i\",BAD_CATFLAGS_MASK=15)"
   ]
  },
  {
   "cell_type": "code",
   "execution_count": null,
   "metadata": {
    "ExecuteTime": {
     "start_time": "2023-07-22T04:41:51.744Z"
    }
   },
   "outputs": [],
   "source": [
    "len(data_i )"
   ]
  },
  {
   "cell_type": "markdown",
   "metadata": {},
   "source": [
    "## rband"
   ]
  },
  {
   "cell_type": "code",
   "execution_count": null,
   "metadata": {
    "ExecuteTime": {
     "start_time": "2023-07-22T04:41:52.192Z"
    }
   },
   "outputs": [],
   "source": [
    "data_r_3arcsec= lightcurve.LCQuery.download_data(circle=[299.412,50.55500,3.0/3600], bandname=\"r\",BAD_CATFLAGS_MASK=15)\n",
    "print(len(data_r_3arcsec))"
   ]
  },
  {
   "cell_type": "code",
   "execution_count": null,
   "metadata": {},
   "outputs": [],
   "source": []
  },
  {
   "cell_type": "code",
   "execution_count": null,
   "metadata": {
    "ExecuteTime": {
     "start_time": "2023-07-22T04:41:52.203Z"
    }
   },
   "outputs": [],
   "source": [
    "data_r= lightcurve.LCQuery.download_data(circle=[299.412,50.55500,0.0014], bandname=\"r\",BAD_CATFLAGS_MASK=32768)"
   ]
  },
  {
   "cell_type": "code",
   "execution_count": null,
   "metadata": {
    "ExecuteTime": {
     "start_time": "2023-07-22T04:41:52.209Z"
    }
   },
   "outputs": [],
   "source": [
    "len(data_r)"
   ]
  },
  {
   "cell_type": "code",
   "execution_count": null,
   "metadata": {
    "ExecuteTime": {
     "start_time": "2023-07-22T04:41:52.216Z"
    }
   },
   "outputs": [],
   "source": [
    "'''\n",
    "N = 30\n",
    "P = 0.3\n",
    "t = np.random.randint(100, size=N) + 0.3 + 0.4 * np.random.random(N)\n",
    "y = 10 + np.sin(2 * np.pi * t / P)\n",
    "dy = 0.5 + 0.5 * np.random.random(N)\n",
    "y_obs = np.random.normal(y, dy)\n",
    "\n",
    "'''\n",
    "t = data_r['mjd']\n",
    "y_obs= -data_r['mag']\n",
    "dy =data_r['magerr']\n",
    "\n",
    "\n",
    "#------------------------------------------------------------\n",
    "# Compute periodogram\n",
    "period = 10 ** np.linspace(-1, 1, 1000)\n",
    "omega = 2 * np.pi / period\n",
    "PS = lomb_scargle(t, y_obs, dy, omega, generalized=True)\n",
    "\n",
    "#------------------------------------------------------------\n",
    "# Get significance via bootstrap\n",
    "D = lomb_scargle_bootstrap(t, y_obs, dy, omega, generalized=True,\n",
    "                           N_bootstraps=1000, random_state=0)\n",
    "\n",
    "sig1, sig3, sig2 = np.percentile(D, [68, 99.74, 95.44])\n",
    "\n",
    "#------------------------------------------------------------\n",
    "\n"
   ]
  },
  {
   "cell_type": "code",
   "execution_count": null,
   "metadata": {
    "ExecuteTime": {
     "start_time": "2023-07-22T04:41:52.221Z"
    }
   },
   "outputs": [],
   "source": [
    "min(t),max(t),max(t)-min(t),(max(t)-min(t))/len(t),len(t)"
   ]
  },
  {
   "cell_type": "code",
   "execution_count": null,
   "metadata": {
    "ExecuteTime": {
     "start_time": "2023-07-22T04:41:52.226Z"
    },
    "scrolled": false
   },
   "outputs": [],
   "source": [
    "# Plot the results\n",
    "fig = plt.figure(figsize=(10, 6))\n",
    "fig.subplots_adjust(left=0.1, right=0.9, hspace=0.25)\n",
    "\n",
    "# First panel: the data\n",
    "ax = fig.add_subplot(211)\n",
    "ax.errorbar(t, y_obs, dy, fmt='ok', ecolor='gray',\n",
    "            markersize=3, capsize=0)\n",
    "#ax.set_xlabel('MJD')\n",
    "#ax.set_ylabel('flux')\n",
    "\n",
    "ax.set(xlabel='MJD',\n",
    "       ylabel='signal',\n",
    "       title='r band')\n",
    "\n",
    "ax.set_xlim(58000, 59900)\n",
    "set_ax_tick(ax)\n",
    "plot_secax(ax)\n",
    "# Second panel: the periodogram & significance levels\n",
    "\n",
    "ax1 = fig.add_subplot(212, xscale='log')\n",
    "ax1.plot(period, PS, '-', c='black', lw=1, zorder=1)\n",
    "#ax1.plot([period[0], period[-1]], [sig1, sig1], ':', c='black')\n",
    "#ax1.plot([period[0], period[-1]], [sig3, sig3], ':', c='blue')\n",
    "#ax1.plot([period[0], period[-1]], [sig2, sig2], ':', c='red')\n",
    "ax1.axhline(sig1, linestyle='dotted', c='black',label=r'1$\\sigma$')\n",
    "ax1.axhline(sig2, linestyle='-', c='red',label=r'2$\\sigma$')\n",
    "ax1.axhline(sig3, linestyle='-.', c='blue',label=r'3$\\sigma$')\n",
    "\n",
    "'''ax1.annotate(\"\", (0.3, 0.65), (0.3, 0.85), ha='center',\n",
    "             arrowprops=dict(arrowstyle='->'))\n",
    "'''\n",
    "#ax1.set_xlim(period[0], period[-1])\n",
    "ax1.set_ylim(-0.05, 0.1)\n",
    "\n",
    "ax1.set_xlabel(r'period (days)')\n",
    "ax1.set_ylabel('power')\n",
    "\n",
    "# Twin axis: label BIC on the right side\n",
    "ax2 = ax1.twinx()\n",
    "ax2.set_ylim(tuple(lomb_scargle_BIC(ax1.get_ylim(), y_obs, dy)))\n",
    "ax2.set_ylabel(r'$\\Delta BIC$')\n",
    "\n",
    "ax1.xaxis.set_major_formatter(plt.FormatStrFormatter('%.1f'))\n",
    "ax1.xaxis.set_minor_formatter(plt.FormatStrFormatter('%.1f'))\n",
    "ax1.xaxis.set_major_locator(plt.LogLocator(10))\n",
    "ax1.xaxis.set_major_formatter(plt.FormatStrFormatter('%.3g'))\n",
    "\n",
    "ax1.legend()\n",
    "#plt.show()\n",
    "fig.savefig('/Users/brettlv/Downloads/WWZ/WISEA J195739.10+503320.4/WISEAJ195739_ls_sig_rband.png',dpi=300)"
   ]
  },
  {
   "cell_type": "code",
   "execution_count": null,
   "metadata": {},
   "outputs": [],
   "source": []
  },
  {
   "cell_type": "markdown",
   "metadata": {},
   "source": [
    "## Mrk590"
   ]
  },
  {
   "cell_type": "code",
   "execution_count": null,
   "metadata": {
    "ExecuteTime": {
     "start_time": "2023-07-22T04:58:14.233Z"
    }
   },
   "outputs": [],
   "source": []
  },
  {
   "cell_type": "markdown",
   "metadata": {
    "ExecuteTime": {
     "start_time": "2023-07-22T04:58:14.238Z"
    }
   },
   "source": [
    "data_g_Mrk590 = lightcurve.LCQuery.download_data(circle=circle_Mrk590, bandname=\"g\",BAD_CATFLAGS_MASK=32768)\n",
    "\n",
    "data_i_Mrk590 = lightcurve.LCQuery.download_data(circle=circle_Mrk590, bandname=\"i\",BAD_CATFLAGS_MASK=15)\n",
    "\n",
    "data_r_Mrk590= lightcurve.LCQuery.download_data(circle=circle_Mrk590, bandname=\"r\",BAD_CATFLAGS_MASK=32768)"
   ]
  },
  {
   "cell_type": "code",
   "execution_count": null,
   "metadata": {
    "ExecuteTime": {
     "end_time": "2023-10-20T10:19:44.710538Z",
     "start_time": "2023-10-20T10:19:38.852440Z"
    }
   },
   "outputs": [],
   "source": [
    "circle_Mrk590=[33.6398442,-0.7666930,2/3600]\n",
    "data_ztf_Mrk590 = lightcurve.LCQuery.download_data(circle=circle_Mrk590,BAD_CATFLAGS_MASK=32768)"
   ]
  },
  {
   "cell_type": "code",
   "execution_count": null,
   "metadata": {
    "ExecuteTime": {
     "end_time": "2023-10-20T12:45:40.902588Z",
     "start_time": "2023-10-20T12:45:40.447543Z"
    }
   },
   "outputs": [],
   "source": [
    "fig,ax=ztflc_show_in_jupyter(data_ztf_Mrk590,'Mrk590')"
   ]
  },
  {
   "cell_type": "code",
   "execution_count": null,
   "metadata": {
    "ExecuteTime": {
     "end_time": "2023-10-20T07:35:00.579005Z",
     "start_time": "2023-10-20T07:35:00.568655Z"
    }
   },
   "outputs": [],
   "source": [
    "0.0014*3600"
   ]
  },
  {
   "cell_type": "code",
   "execution_count": null,
   "metadata": {
    "ExecuteTime": {
     "end_time": "2023-10-20T10:16:51.857987Z",
     "start_time": "2023-10-20T10:16:27.482602Z"
    }
   },
   "outputs": [],
   "source": [
    "download_wise('Mrk 590',wisedata_path='/Users/lyubing/Downloads/WISEDATA/')"
   ]
  },
  {
   "cell_type": "code",
   "execution_count": null,
   "metadata": {
    "ExecuteTime": {
     "end_time": "2023-10-20T10:18:22.534752Z",
     "start_time": "2023-10-20T10:18:20.548450Z"
    }
   },
   "outputs": [],
   "source": [
    "wise_rebin_lc('Mrk 590','/Users/lyubing/Downloads/WISEDATA/','/Users/lyubing/Downloads/WISEDATA/')"
   ]
  },
  {
   "cell_type": "markdown",
   "metadata": {},
   "source": [
    "## Mrk1018"
   ]
  },
  {
   "cell_type": "code",
   "execution_count": null,
   "metadata": {
    "ExecuteTime": {
     "end_time": "2023-10-20T10:16:02.085321Z",
     "start_time": "2023-10-20T10:15:40.156268Z"
    }
   },
   "outputs": [],
   "source": [
    "download_wise('Mrk 1018',wisedata_path='/Users/lyubing/Downloads/WISEDATA/')"
   ]
  },
  {
   "cell_type": "code",
   "execution_count": null,
   "metadata": {
    "ExecuteTime": {
     "end_time": "2023-10-20T10:18:07.925478Z",
     "start_time": "2023-10-20T10:18:05.980600Z"
    }
   },
   "outputs": [],
   "source": [
    "wise_rebin_lc('Mrk 1018','/Users/lyubing/Downloads/WISEDATA/','/Users/lyubing/Downloads/WISEDATA/')"
   ]
  },
  {
   "cell_type": "code",
   "execution_count": null,
   "metadata": {
    "ExecuteTime": {
     "end_time": "2023-10-20T10:19:56.061611Z",
     "start_time": "2023-10-20T10:19:48.340909Z"
    }
   },
   "outputs": [],
   "source": [
    "circle_Mrk1018=[31.5666250,  -0.2914444,2/3600]\n",
    "data_ztf_Mrk1018 = lightcurve.LCQuery.download_data(circle=circle_Mrk1018,BAD_CATFLAGS_MASK=32768)"
   ]
  },
  {
   "cell_type": "code",
   "execution_count": null,
   "metadata": {
    "ExecuteTime": {
     "end_time": "2023-10-20T12:45:34.151729Z",
     "start_time": "2023-10-20T12:45:33.454236Z"
    }
   },
   "outputs": [],
   "source": [
    "fig,ax=ztflc_show_in_jupyter(data_ztf_Mrk1018,'Mrk1018')"
   ]
  },
  {
   "cell_type": "code",
   "execution_count": null,
   "metadata": {},
   "outputs": [],
   "source": []
  },
  {
   "cell_type": "markdown",
   "metadata": {},
   "source": [
    "## NGC4287"
   ]
  },
  {
   "cell_type": "code",
   "execution_count": 75,
   "metadata": {
    "ExecuteTime": {
     "end_time": "2023-12-07T10:12:37.176172Z",
     "start_time": "2023-12-07T10:11:45.836013Z"
    }
   },
   "outputs": [
    {
     "name": "stdout",
     "output_type": "stream",
     "text": [
      "NGC4287\n"
     ]
    }
   ],
   "source": [
    "download_wise('NGC 4287',wisedata_path='/Users/lyubing/Downloads/WISEDATA/')"
   ]
  },
  {
   "cell_type": "code",
   "execution_count": 81,
   "metadata": {
    "ExecuteTime": {
     "end_time": "2023-12-07T10:27:08.117830Z",
     "start_time": "2023-12-07T10:27:08.109055Z"
    }
   },
   "outputs": [],
   "source": [
    "from astroquery.ipac.ned import Ned\n",
    "from ztfquery import lightcurve"
   ]
  },
  {
   "cell_type": "code",
   "execution_count": 111,
   "metadata": {
    "ExecuteTime": {
     "end_time": "2023-12-07T10:46:40.377248Z",
     "start_time": "2023-12-07T10:46:40.351687Z"
    }
   },
   "outputs": [],
   "source": [
    "result_table_NGC4287 = Ned.query_object(\"NGC 4287\")"
   ]
  },
  {
   "cell_type": "code",
   "execution_count": 112,
   "metadata": {
    "ExecuteTime": {
     "end_time": "2023-12-07T10:46:45.898925Z",
     "start_time": "2023-12-07T10:46:41.280917Z"
    }
   },
   "outputs": [],
   "source": [
    "ra_NGC4287=result_table_NGC4287['RA'][0]\n",
    "dec_NGC4287=result_table_NGC4287['DEC'][0]\n",
    "ztfdata_downloadradec(ra_NGC4287,dec_NGC4287,pathztf='/Users/lyubing/Downloads/ZTFdata/')"
   ]
  },
  {
   "cell_type": "code",
   "execution_count": 101,
   "metadata": {
    "ExecuteTime": {
     "end_time": "2023-12-07T10:43:13.206699Z",
     "start_time": "2023-12-07T10:43:13.201839Z"
    }
   },
   "outputs": [],
   "source": [
    "z_NGC4287=result_table_NGC4287['Redshift'][0]"
   ]
  },
  {
   "cell_type": "code",
   "execution_count": 102,
   "metadata": {
    "ExecuteTime": {
     "end_time": "2023-12-07T10:43:21.608336Z",
     "start_time": "2023-12-07T10:43:21.602754Z"
    }
   },
   "outputs": [
    {
     "name": "stdout",
     "output_type": "stream",
     "text": [
      "0.007188\n"
     ]
    }
   ],
   "source": [
    "print(z_NGC4287)"
   ]
  },
  {
   "cell_type": "code",
   "execution_count": 90,
   "metadata": {
    "ExecuteTime": {
     "end_time": "2023-12-07T10:39:23.517111Z",
     "start_time": "2023-12-07T10:39:18.459670Z"
    }
   },
   "outputs": [],
   "source": [
    "ztfdata_download_name('NGC 4287',ra_NGC4287,dec_NGC4287,'/Users/lyubing/Downloads/ZTFdata/')"
   ]
  },
  {
   "cell_type": "code",
   "execution_count": 118,
   "metadata": {
    "ExecuteTime": {
     "end_time": "2023-12-07T10:51:43.952148Z",
     "start_time": "2023-12-07T10:51:43.945291Z"
    }
   },
   "outputs": [
    {
     "name": "stdout",
     "output_type": "stream",
     "text": [
      "185.20208 5.6399 0.007188\n"
     ]
    }
   ],
   "source": [
    "print(ra_NGC4287,dec_NGC4287,z_NGC4287)"
   ]
  },
  {
   "cell_type": "markdown",
   "metadata": {},
   "source": [
    "## NGC 4278"
   ]
  },
  {
   "cell_type": "code",
   "execution_count": 114,
   "metadata": {
    "ExecuteTime": {
     "end_time": "2023-12-07T10:48:55.469785Z",
     "start_time": "2023-12-07T10:48:10.411138Z"
    }
   },
   "outputs": [
    {
     "name": "stdout",
     "output_type": "stream",
     "text": [
      "NGC4278\n"
     ]
    }
   ],
   "source": [
    "download_wise('NGC 4278',wisedata_path='/Users/lyubing/Downloads/WISEDATA/')"
   ]
  },
  {
   "cell_type": "code",
   "execution_count": 115,
   "metadata": {
    "ExecuteTime": {
     "end_time": "2023-12-07T10:49:25.537283Z",
     "start_time": "2023-12-07T10:49:11.795036Z"
    }
   },
   "outputs": [],
   "source": [
    "result_table_NGC4278 = Ned.query_object(\"NGC 4278\")\n",
    "ra_NGC4278=result_table_NGC4278['RA'][0]\n",
    "dec_NGC4278=result_table_NGC4278['DEC'][0]\n",
    "z_NGC4278=result_table_NGC4278['Redshift'][0]\n",
    "#ztfdata_downloadradec(ra_NGC4278,dec_NGC4278,pathztf='/Users/lyubing/Downloads/ZTFdata/')\n",
    "ztfdata_download_name('NGC 4278',ra_NGC4278,dec_NGC4278,'/Users/lyubing/Downloads/ZTFdata/')\n"
   ]
  },
  {
   "cell_type": "code",
   "execution_count": 117,
   "metadata": {
    "ExecuteTime": {
     "end_time": "2023-12-07T10:51:27.568189Z",
     "start_time": "2023-12-07T10:51:27.560052Z"
    }
   },
   "outputs": [
    {
     "name": "stdout",
     "output_type": "stream",
     "text": [
      "185.02843 29.28076 0.002165\n"
     ]
    }
   ],
   "source": [
    "print(ra_NGC4278,dec_NGC4278,z_NGC4278)"
   ]
  },
  {
   "cell_type": "markdown",
   "metadata": {},
   "source": [
    "## def plot_wise_ztf_lc"
   ]
  },
  {
   "cell_type": "code",
   "execution_count": 109,
   "metadata": {
    "ExecuteTime": {
     "end_time": "2023-12-07T10:44:23.583054Z",
     "start_time": "2023-12-07T10:44:23.556232Z"
    }
   },
   "outputs": [],
   "source": [
    "def plot_wise_ztf_lc(name,ra,dec,ztfdir,wisedir,plotdir,marker=\".\", mec=\"0.7\", ms=6, ecolor=\"0.7\", ls=\"\", zorder=4,**kwargs):\n",
    "    #filename_lamost='%d.fits'%obsid\n",
    "    \n",
    "    prop = dict(marker=marker, mec=mec, ms=ms, ecolor=ecolor, ls=ls, zorder=zorder)\n",
    "    prop1 = dict(marker='*', mec=mec, ms=ms, ecolor='red', ls=ls, zorder=zorder)\n",
    "    \n",
    "    \n",
    "    \n",
    "    \n",
    "    \n",
    "    ztfsave_name= name.strip().replace(' ','')\n",
    "    ztf_file_path='%s/%s.csv'%(ztfdir,ztfsave_name)\n",
    "    data=pd.read_csv(ztf_file_path) \n",
    "    \n",
    "    data_test_neo,data_test_mep=get_wise_data(name,datawise_dir=wisedir)\n",
    "    data_rebin_neo,data_rebin_mep=get_rebinwise_data(data_test_neo,data_test_mep,sigma_outlier=100) \n",
    "\n",
    "    \n",
    "    \n",
    "    fig=plt.figure()\n",
    "    fig = plt.figure(figsize=(20,8))\n",
    "    fig.subplots_adjust(hspace=0.0, wspace = 0.2)\n",
    "    \n",
    "    ax1 = fig.add_subplot(211)\n",
    "    \n",
    "    \n",
    "    lc_dataframe = data[data['filtercode']=='zg']\n",
    "    lc_dataframe=drop_index(lc_dataframe)\n",
    "    \n",
    "    lc_dataframe_zr = data[data['filtercode']=='zr']\n",
    "    lc_dataframe_zr=drop_index(lc_dataframe_zr)\n",
    "    \n",
    "    \n",
    "    \n",
    "    maxmjd= max(lc_dataframe['mjd'])\n",
    "    minmjd= min(lc_dataframe['mjd'])\n",
    "    delta_mjd=maxmjd-minmjd\n",
    "\n",
    "    if delta_mjd>750: \n",
    "        ma_intervals= 365\n",
    "        min_intervals= 90\n",
    "\n",
    "    if delta_mjd<750:     \n",
    "        ma_intervals= delta_mjd//3\n",
    "        mi_intervals= delta_mjd//6\n",
    "    \n",
    "    \n",
    "    ax1.errorbar(lc_dataframe['mjd'], lc_dataframe[\"mag\"], yerr=lc_dataframe[\"magerr\"],label='zg',\n",
    "                                **{**prop,**kwargs})\n",
    "    \n",
    "    ax1.errorbar(lc_dataframe_zr['mjd'], lc_dataframe_zr[\"mag\"], yerr=lc_dataframe_zr[\"magerr\"],label='zr',\n",
    "                               **{**prop1,**kwargs})\n",
    "\n",
    "        \n",
    "        \n",
    "    ax1.set_xlabel(\"MJD\")\n",
    "    #plot_secax(ax1,mi_interval=ma_intervals,ma_interval=min_intervals,rotation=30,)  \n",
    "    plot_secax(ax1,rotation=30,)  \n",
    "    #ax1.axvline(mjd,color='black',ls=':',linewidth=1)\n",
    "\n",
    "    handles, labels = ax1.get_legend_handles_labels()\n",
    "    by_label = OrderedDict(zip(labels, handles))\n",
    "    ax1.legend(by_label.values(), by_label.keys(),bbox_to_anchor=(0.2, 0.99),ncol=1,\n",
    "          loc=2,fontsize=10)\n",
    "\n",
    "    #ax1.set_xlim(58100,59999)\n",
    "    \n",
    "    \n",
    "    ax2 = fig.add_subplot(212,sharex=ax1)\n",
    "    \n",
    "    plot_rebinmag_w1(ax2,data_rebin_neo,data_rebin_mep)\n",
    "    plot_rebinmag_w2(ax2,data_rebin_neo,data_rebin_mep)\n",
    "\n",
    "    #ax.scatter(data_test_neo['mjd'],data_test_neo['w1mpro'],color='red',label='W1')\n",
    "    #ax.scatter(data_test_mep['mjd'],data_test_mep['w1mpro_ep'],color='red',label='W1')\n",
    "\n",
    "    #plot_secax(ax2,mi_interval=365,ma_interval=365*2)\n",
    "    #ax.scatter(data_test_neo['mjd'],data_test_neo['w2mpro'],color='blue',label='W2')\n",
    "    #ax.scatter(data_test_mep['mjd'],data_test_mep['w2mpro_ep'],color='blue',label='W2')\n",
    "\n",
    "    handles, labels = ax2.get_legend_handles_labels()\n",
    "    by_label = OrderedDict(zip(labels, handles))\n",
    "    ax2.legend(by_label.values(), by_label.keys(),bbox_to_anchor=(0.2, 0.99),ncol=1,\n",
    "          loc=2,fontsize=10)\n",
    "\n",
    "    ax1.invert_yaxis()\n",
    "    ax2.invert_yaxis()\n",
    "\n",
    "    ax2.set_xlabel('mjd')\n",
    "    ax1.set_ylabel(r'$mag$')    \n",
    "    ax2.set_ylabel(r'$mag$')  \n",
    "    ax1.set_title('%s'%(ztfsave_name))\n",
    "    \n",
    "    \n",
    "    save_lc_img_path=os.path.join(plotdir,'%s.png'%(ztfsave_name))\n",
    "    if not os.path.exists(save_lc_img_path):\n",
    "        plt.savefig(save_lc_img_path,dpi=400, transparent=False, bbox_inches='tight')\n",
    "    plt.close()    \n",
    "        \n",
    "    #return fig,ax,ax1,ax2\n"
   ]
  },
  {
   "cell_type": "code",
   "execution_count": 113,
   "metadata": {
    "ExecuteTime": {
     "end_time": "2023-12-07T10:47:05.663950Z",
     "start_time": "2023-12-07T10:47:05.514163Z"
    }
   },
   "outputs": [
    {
     "data": {
      "text/plain": [
       "<Figure size 432x288 with 0 Axes>"
      ]
     },
     "metadata": {},
     "output_type": "display_data"
    }
   ],
   "source": [
    "plot_wise_ztf_lc('NGC 4287',ra_NGC4287,dec_NGC4287,'/Users/lyubing/Downloads/ZTFdata/','/Users/lyubing/Downloads/WISEDATA/',plotdir='/Users/lyubing/Downloads/PLOTDIR/')"
   ]
  },
  {
   "cell_type": "code",
   "execution_count": null,
   "metadata": {},
   "outputs": [],
   "source": []
  },
  {
   "cell_type": "code",
   "execution_count": 116,
   "metadata": {
    "ExecuteTime": {
     "end_time": "2023-12-07T10:49:36.148656Z",
     "start_time": "2023-12-07T10:49:34.171623Z"
    }
   },
   "outputs": [
    {
     "data": {
      "text/plain": [
       "<Figure size 432x288 with 0 Axes>"
      ]
     },
     "metadata": {},
     "output_type": "display_data"
    }
   ],
   "source": [
    "plot_wise_ztf_lc('NGC 4278',ra_NGC4278,dec_NGC4278,'/Users/lyubing/Downloads/ZTFdata/','/Users/lyubing/Downloads/WISEDATA/',plotdir='/Users/lyubing/Downloads/PLOTDIR/')\n",
    "\n"
   ]
  },
  {
   "cell_type": "code",
   "execution_count": null,
   "metadata": {},
   "outputs": [],
   "source": []
  },
  {
   "cell_type": "markdown",
   "metadata": {},
   "source": [
    "# WWZ"
   ]
  },
  {
   "cell_type": "markdown",
   "metadata": {},
   "source": [
    "ls.py"
   ]
  },
  {
   "cell_type": "code",
   "execution_count": null,
   "metadata": {
    "ExecuteTime": {
     "start_time": "2023-07-22T04:58:15.284Z"
    }
   },
   "outputs": [],
   "source": [
    "WWZ_path='/Volumes/ExtremeSSD/Code_backup/timing_analysis/WWZ/'"
   ]
  },
  {
   "cell_type": "code",
   "execution_count": null,
   "metadata": {
    "ExecuteTime": {
     "start_time": "2023-07-22T04:58:15.289Z"
    }
   },
   "outputs": [],
   "source": [
    "pwd_path='/Users/brettlv/blog/brettlv.github.io/pythoncode/changinglookAGN'"
   ]
  },
  {
   "cell_type": "code",
   "execution_count": null,
   "metadata": {},
   "outputs": [],
   "source": []
  },
  {
   "cell_type": "code",
   "execution_count": null,
   "metadata": {
    "ExecuteTime": {
     "start_time": "2023-07-22T04:58:15.297Z"
    }
   },
   "outputs": [],
   "source": [
    "cmd ='python2 ls.py -f W1_timemag.csv -o ls_freq_power.txt -l 0.001 -hi 0.1 -n 10000'\n",
    "print(cmd)"
   ]
  },
  {
   "cell_type": "code",
   "execution_count": null,
   "metadata": {
    "ExecuteTime": {
     "start_time": "2023-07-22T04:58:15.301Z"
    }
   },
   "outputs": [],
   "source": [
    "data=pd.read_csv('%s/W1_timemag.csv'%WWZ_path,header=None,delimiter=',')\n",
    "data.columns=['mjd','arbitary_flux']"
   ]
  },
  {
   "cell_type": "code",
   "execution_count": null,
   "metadata": {
    "ExecuteTime": {
     "start_time": "2023-07-22T04:58:15.306Z"
    }
   },
   "outputs": [],
   "source": [
    "np.array(data['mjd']),np.array(data['arbitary_flux'])"
   ]
  },
  {
   "cell_type": "code",
   "execution_count": null,
   "metadata": {
    "ExecuteTime": {
     "start_time": "2023-07-22T04:58:15.310Z"
    }
   },
   "outputs": [],
   "source": [
    "cmd ='python2 ls_origin.py -f W1_t_mag.py -o ls_freq_power.txt -l 0.001 -hi 0.1 -n 10000'\n",
    "print(cmd)"
   ]
  },
  {
   "cell_type": "code",
   "execution_count": null,
   "metadata": {
    "ExecuteTime": {
     "start_time": "2023-07-22T04:58:15.315Z"
    }
   },
   "outputs": [],
   "source": [
    "#data_time = []\n",
    "#data_flux= []\n",
    "data_time=np.loadtxt('%s/W1_timemag.csv'%WWZ_path,dtype=np.str,unpack=True, usecols=[0],delimiter=\",\")\n",
    "data_flux=np.loadtxt('%s/W1_timemag.csv'%WWZ_path,dtype=np.str,unpack=True, usecols=[1],delimiter=\",\")\n",
    "\n"
   ]
  },
  {
   "cell_type": "code",
   "execution_count": null,
   "metadata": {
    "ExecuteTime": {
     "start_time": "2023-07-22T04:58:15.320Z"
    }
   },
   "outputs": [],
   "source": [
    "data_time,data_flux"
   ]
  },
  {
   "cell_type": "code",
   "execution_count": null,
   "metadata": {
    "ExecuteTime": {
     "start_time": "2023-07-22T04:58:15.324Z"
    },
    "scrolled": true
   },
   "outputs": [],
   "source": [
    "ls_freq_power=pd.read_csv('%s/ls_freq_power.txt'%WWZ_path,header=None,delimiter='\\s+')\n",
    "#ls_freq_power.columns=['mjd','arbitary_flux']"
   ]
  },
  {
   "cell_type": "code",
   "execution_count": null,
   "metadata": {
    "ExecuteTime": {
     "start_time": "2023-07-22T04:58:15.329Z"
    }
   },
   "outputs": [],
   "source": [
    "np.array(ls_freq_power[ls_freq_power.columns[0]]),np.array(ls_freq_power[ls_freq_power.columns[1]])"
   ]
  },
  {
   "cell_type": "code",
   "execution_count": null,
   "metadata": {
    "ExecuteTime": {
     "start_time": "2023-07-22T04:58:15.333Z"
    }
   },
   "outputs": [],
   "source": [
    "np.array(ls_freq_power[ls_freq_power.columns[0]])==ls_freq"
   ]
  },
  {
   "cell_type": "code",
   "execution_count": null,
   "metadata": {},
   "outputs": [],
   "source": []
  },
  {
   "cell_type": "code",
   "execution_count": null,
   "metadata": {
    "ExecuteTime": {
     "start_time": "2023-07-22T04:58:15.341Z"
    }
   },
   "outputs": [],
   "source": [
    "#ls_freq = []\n",
    "#ls_power = []\n",
    "ls_freq=np.loadtxt('%s/ls_freq_power.txt'%WWZ_path,dtype=np.float,unpack=True, usecols=[0])\n",
    "ls_power=np.loadtxt('%s/ls_freq_power.txt'%WWZ_path,dtype=np.float,unpack=True, usecols=[1])"
   ]
  },
  {
   "cell_type": "code",
   "execution_count": null,
   "metadata": {
    "ExecuteTime": {
     "start_time": "2023-07-22T04:58:15.345Z"
    }
   },
   "outputs": [],
   "source": [
    "ls_freq,ls_power"
   ]
  },
  {
   "cell_type": "code",
   "execution_count": null,
   "metadata": {
    "ExecuteTime": {
     "start_time": "2023-07-22T04:58:15.350Z"
    }
   },
   "outputs": [],
   "source": [
    "# Plot the results\n",
    "fig = plt.figure(figsize=(6, 6))\n",
    "fig.subplots_adjust(left=0.1, right=0.9, hspace=0.25)\n",
    "\n",
    "# First panel: the data\n",
    "ax = fig.add_subplot(111)\n",
    "ax.scatter(ls_freq,ls_power)\n",
    "set_ax_tick(ax)\n"
   ]
  },
  {
   "cell_type": "code",
   "execution_count": null,
   "metadata": {},
   "outputs": [],
   "source": []
  },
  {
   "cell_type": "markdown",
   "metadata": {},
   "source": [
    "# CLB"
   ]
  },
  {
   "cell_type": "markdown",
   "metadata": {},
   "source": [
    "## plot_lc"
   ]
  },
  {
   "cell_type": "code",
   "execution_count": null,
   "metadata": {
    "ExecuteTime": {
     "start_time": "2023-07-22T04:58:16.334Z"
    }
   },
   "outputs": [],
   "source": [
    "CLB_list_CLB_neogt20_var=CLB_list_CLB_neogt20[CLB_list_CLB_neogt20['sigma_m_w1_neo']>0.2]\n",
    "CLB_list_CLB_neogt20_var=drop_index(CLB_list_CLB_neogt20_var)#['V1']"
   ]
  },
  {
   "cell_type": "code",
   "execution_count": null,
   "metadata": {
    "ExecuteTime": {
     "start_time": "2023-07-22T04:58:16.339Z"
    }
   },
   "outputs": [],
   "source": [
    "len(CLB_list_CLB_neogt20),len(CLB_list_CLB_neogt20_var),len(CLB_list_CLB_neogt20_var0)"
   ]
  },
  {
   "cell_type": "code",
   "execution_count": null,
   "metadata": {
    "ExecuteTime": {
     "start_time": "2023-07-22T04:58:16.344Z"
    }
   },
   "outputs": [],
   "source": [
    "CLB_list_CLB_neogt20_var0=CLB_list_CLB_neogt20[CLB_list_CLB_neogt20['sigma_m_w1_neo']<0.1]\n",
    "CLB_list_CLB_neogt20_var0=drop_index(CLB_list_CLB_neogt20_var0)#['V1']"
   ]
  },
  {
   "cell_type": "markdown",
   "metadata": {
    "ExecuteTime": {
     "end_time": "2023-06-18T11:57:26.950923Z",
     "start_time": "2023-06-18T11:57:26.935851Z"
    }
   },
   "source": [
    "CLB_list_CLB_neogt20_var['len_neo']"
   ]
  },
  {
   "cell_type": "code",
   "execution_count": null,
   "metadata": {
    "ExecuteTime": {
     "start_time": "2023-07-22T04:58:16.835Z"
    }
   },
   "outputs": [],
   "source": [
    "save_lc_img_dir='/Volumes/ExtremeSSD/CLAGN_statistic_plot/WISE_lc/CLB_var0'\n",
    "if not os.path.exists(save_lc_img_dir):\n",
    "    os.mkdir(save_lc_img_dir)\n",
    "for index,name in enumerate(CLB_list_CLB_neogt20_var0['V1']):\n",
    "    search_name=name.strip()\n",
    "    save_name=name.strip().replace(' ','')\n",
    "    neo_path='%s/wise_%s_neo.csv'%(CLB_wisedata_dir,save_name)\n",
    "    #if os.path.exists(neo_path):\n",
    "        #print(index,neo_path)\n",
    "    wise_plot_lc(save_name,save_lc_img_dir=save_lc_img_dir,datawise_dir=CLB_wisedata_dir)"
   ]
  },
  {
   "cell_type": "code",
   "execution_count": null,
   "metadata": {},
   "outputs": [],
   "source": []
  },
  {
   "cell_type": "markdown",
   "metadata": {},
   "source": [
    "## Fermi_bll_lc"
   ]
  },
  {
   "cell_type": "code",
   "execution_count": null,
   "metadata": {
    "ExecuteTime": {
     "start_time": "2023-07-22T04:58:17.334Z"
    }
   },
   "outputs": [],
   "source": [
    "save_lc_img_dir='/Volumes/ExtremeSSD/CLAGN_statistic_plot/WISE_lc/Fermi_bll'\n",
    "if not os.path.exists(save_lc_img_dir):\n",
    "    os.mkdir(save_lc_img_dir)\n",
    "for index,name in enumerate(Fermi_4LAC_DR3_h_bll_pd_neogt20['Source_Name']):\n",
    "    search_name=name.strip()\n",
    "    save_name=name.strip().replace(' ','')\n",
    "    \n",
    "    #name_neo= os.path.join(Fermi_bll_wisedata_dir,'wise_%s_neo.csv'%save_name)\n",
    "    #name_mep= os.path.join(Fermi_bll_wisedata_dir,'wise_%s_mep.csv'%save_name)\n",
    "    \n",
    "    #if os.path.exists(name_neo) and os.path.exists(name_mep):     \n",
    "    wise_plot_lc(save_name,save_lc_img_dir=save_lc_img_dir,datawise_dir=Fermi_bll_wisedata_dir)"
   ]
  },
  {
   "cell_type": "code",
   "execution_count": null,
   "metadata": {
    "ExecuteTime": {
     "start_time": "2023-07-22T04:58:17.339Z"
    }
   },
   "outputs": [],
   "source": [
    "Fermi_bll_wisedata_dir"
   ]
  },
  {
   "cell_type": "code",
   "execution_count": null,
   "metadata": {
    "ExecuteTime": {
     "start_time": "2023-07-22T04:58:17.344Z"
    }
   },
   "outputs": [],
   "source": [
    "!open /Volumes/ExtremeSSD/data_source/WISE_data/WISE_fermi_blazars/BLL"
   ]
  },
  {
   "cell_type": "code",
   "execution_count": null,
   "metadata": {},
   "outputs": [],
   "source": []
  },
  {
   "cell_type": "code",
   "execution_count": null,
   "metadata": {},
   "outputs": [],
   "source": []
  },
  {
   "cell_type": "code",
   "execution_count": null,
   "metadata": {},
   "outputs": [],
   "source": []
  },
  {
   "cell_type": "code",
   "execution_count": null,
   "metadata": {
    "ExecuteTime": {
     "start_time": "2023-07-22T04:58:17.356Z"
    }
   },
   "outputs": [],
   "source": [
    "save_lc_img_dir='/Volumes/ExtremeSSD/CLAGN_statistic_plot/WISE_lc/Fermi_fsrq'\n",
    "if not os.path.exists(save_lc_img_dir):\n",
    "    os.mkdir(save_lc_img_dir)\n",
    "for index,name in enumerate(Fermi_4LAC_DR3_h_fsrq_pd_neogt20['Source_Name']):\n",
    "    search_name=name.strip()\n",
    "    save_name=name.strip().replace(' ','')\n",
    "    wise_plot_lc(save_name,save_lc_img_dir=save_lc_img_dir,datawise_dir=Fermi_fsrq_wisedata_dir)"
   ]
  },
  {
   "cell_type": "code",
   "execution_count": null,
   "metadata": {},
   "outputs": [],
   "source": []
  },
  {
   "cell_type": "markdown",
   "metadata": {},
   "source": [
    "# CLB_list_CLB"
   ]
  },
  {
   "cell_type": "code",
   "execution_count": 122,
   "metadata": {
    "ExecuteTime": {
     "end_time": "2023-12-07T12:48:45.868638Z",
     "start_time": "2023-12-07T12:48:45.824005Z"
    }
   },
   "outputs": [],
   "source": [
    "CLB_list=pd.read_csv('/Users/lyubing/Downloads/kangshiju_paper/A02_Table_catalog_plot.csv')"
   ]
  },
  {
   "cell_type": "code",
   "execution_count": 123,
   "metadata": {
    "ExecuteTime": {
     "end_time": "2023-12-07T12:48:47.163211Z",
     "start_time": "2023-12-07T12:48:47.152220Z"
    }
   },
   "outputs": [],
   "source": [
    "CLB_list_CLB=CLB_list[CLB_list['V5']=='CLB']\n",
    "CLB_list_CLB=drop_index(CLB_list_CLB)"
   ]
  },
  {
   "cell_type": "code",
   "execution_count": 124,
   "metadata": {
    "ExecuteTime": {
     "end_time": "2023-12-07T12:48:48.069976Z",
     "start_time": "2023-12-07T12:48:48.051573Z"
    }
   },
   "outputs": [
    {
     "data": {
      "text/plain": [
       "0      4FGL J0006.3-0620\n",
       "1      4FGL J0014.2+0854\n",
       "2      4FGL J0022.0+0006\n",
       "3      4FGL J0058.4+3315\n",
       "4      4FGL J0058.4+3315\n",
       "             ...        \n",
       "132    4FGL J2315.6-5018\n",
       "133    4FGL J2315.6-5018\n",
       "134    4FGL J2345.2-1555\n",
       "135    4FGL J2349.4+0534\n",
       "136    4FGL J2357.4-0152\n",
       "Name: V1, Length: 137, dtype: object"
      ]
     },
     "execution_count": 124,
     "metadata": {},
     "output_type": "execute_result"
    }
   ],
   "source": [
    "CLB_list_CLB['V1']"
   ]
  },
  {
   "cell_type": "markdown",
   "metadata": {
    "ExecuteTime": {
     "end_time": "2023-06-17T11:49:37.354659Z",
     "start_time": "2023-06-17T11:49:37.340942Z"
    }
   },
   "source": [
    "for index,name in enumerate(CLB_list_CLB_neogt20['V1'][:1]):\n",
    "    search_name=name.strip()\n",
    "    save_name=name.strip().replace(' ','')    \n",
    "    #if os.path.exists('./wise_%s_mep.csv'%save_name): \n",
    "    neo_path='%s/wise_%s_neo.csv'%(CLB_wisedata_dir,save_name)\n",
    "    if os.path.exists(neo_path):# and os.path.exists('./wise_%s_mep.csv'%save_name):\n",
    "        print(save_name)"
   ]
  },
  {
   "cell_type": "markdown",
   "metadata": {},
   "source": [
    "## CLB_list_CLB_neogt20"
   ]
  },
  {
   "cell_type": "markdown",
   "metadata": {
    "ExecuteTime": {
     "end_time": "2023-06-18T12:21:35.492624Z",
     "start_time": "2023-06-18T12:21:35.464693Z"
    }
   },
   "source": [
    "CLB_list_CLB"
   ]
  },
  {
   "cell_type": "code",
   "execution_count": 128,
   "metadata": {
    "ExecuteTime": {
     "end_time": "2023-12-07T12:49:31.340780Z",
     "start_time": "2023-12-07T12:49:31.316523Z"
    }
   },
   "outputs": [],
   "source": [
    "for index,name in enumerate(CLB_list_CLB['V1']):\n",
    "    search_name=name.strip()\n",
    "    save_name=name.strip().replace(' ','')\n",
    "    #if os.path.exists('./wise_%s_mep.csv'%save_name):\n",
    "    neo_path='%s/wise_%s_neo.csv'%(CLB_wisedata_dir,save_name)\n",
    "    if not os.path.exists(neo_path):# and os.path.exists('./wise_%s_mep.csv'%save_name):\n",
    "    #if not os.path.exists('./CLB_list_CLB/wise_%s_neo.csv'%save_name):\n",
    "        CLB_list_CLB.loc[index,'len_neo']=0\n",
    "        continue\n",
    "    data=pd.read_csv(neo_path)\n",
    "    data=data[data['w1mpro'].notnull()]\n",
    "    data=data[data['w2mpro'].notnull()]\n",
    "    data=data[data['w1sigmpro'].notnull()]\n",
    "    data=data[data['w2sigmpro'].notnull()]\n",
    "    \n",
    "    #data=data[data['w1mpro']<15]\n",
    "    #data=data[data['w2mpro']<13]\n",
    "    #data=data[data['w1rchi2']<5]\n",
    "    #data=data[data['w2rchi2']<5]\n",
    "    #data=data[data['nb']<3]\n",
    "    #data=data[data['na']==0]\n",
    "    data=data[data['qual_frame']>0]\n",
    "    data=data.reset_index(drop=True)\n",
    "    #data=data.fillna(0)\n",
    "    if len(data)>5:\n",
    "        mag_label='w1mpro'\n",
    "        magerr_label='w1sigmpro'\n",
    "        epsilon_s=epsilon_s_w1\n",
    "        \n",
    "        pearson_coeff,p_value=pearsonr(data['w1mpro'],data['w2mpro'])\n",
    "        CLB_list_CLB.loc[index,'pearson_coeff_neo']=pearson_coeff\n",
    "        \n",
    "        sigma_m_w1=get_intrinsic_var(data,mag_label,magerr_label,epsilon_s)\n",
    "        CLB_list_CLB.loc[index,'sigma_m_w1_neo']=sigma_m_w1\n",
    "        CLB_list_CLB.loc[index,'mean_m_w1_neo']=np.average(data[mag_label])\n",
    "        \n",
    "        \n",
    "        mag_label='w2mpro'\n",
    "        magerr_label='w2sigmpro'\n",
    "        epsilon_s=epsilon_s_w2\n",
    "        sigma_m_w2=get_intrinsic_var(data,mag_label,magerr_label,epsilon_s)\n",
    "        CLB_list_CLB.loc[index,'sigma_m_w2_neo']=sigma_m_w2\n",
    "        CLB_list_CLB.loc[index,'mean_m_w2_neo']=np.average(data[mag_label])\n",
    "        CLB_list_CLB.loc[index,'len_neo']=len(data)\n",
    "        CLB_list_CLB.loc[index,'W1-W2']=np.average(data['w1mpro']-data['w2mpro'])\n",
    "    \n",
    "    else:\n",
    "        CLB_list_CLB.loc[index,'len_neo']=0"
   ]
  },
  {
   "cell_type": "code",
   "execution_count": 129,
   "metadata": {
    "ExecuteTime": {
     "end_time": "2023-12-07T12:49:32.043787Z",
     "start_time": "2023-12-07T12:49:32.025506Z"
    }
   },
   "outputs": [],
   "source": [
    "CLB_list_CLB_neogt20=CLB_list_CLB[CLB_list_CLB['len_neo']>20]\n",
    "CLB_list_CLB_neogt20=drop_index(CLB_list_CLB_neogt20)"
   ]
  },
  {
   "cell_type": "markdown",
   "metadata": {
    "ExecuteTime": {
     "start_time": "2023-07-22T04:58:19.395Z"
    }
   },
   "source": [
    "CLB_list_CLB_neogt20.to_csv('CLB_neogt20.csv',index=False)"
   ]
  },
  {
   "cell_type": "code",
   "execution_count": 130,
   "metadata": {
    "ExecuteTime": {
     "end_time": "2023-12-07T12:49:39.633419Z",
     "start_time": "2023-12-07T12:49:39.609402Z"
    }
   },
   "outputs": [],
   "source": [
    "CLB_list_CLB_neogt20=pd.read_csv('CLB_neogt20.csv')"
   ]
  },
  {
   "cell_type": "markdown",
   "metadata": {
    "ExecuteTime": {
     "end_time": "2023-06-17T13:59:09.717581Z",
     "start_time": "2023-06-17T13:59:09.701714Z"
    }
   },
   "source": [
    "for i in CLB_list_CLB_neogt20.columns:\n",
    "    print(i)"
   ]
  },
  {
   "cell_type": "code",
   "execution_count": 131,
   "metadata": {
    "ExecuteTime": {
     "end_time": "2023-12-07T12:49:44.939247Z",
     "start_time": "2023-12-07T12:49:44.901710Z"
    }
   },
   "outputs": [],
   "source": [
    "for index,z in enumerate(CLB_list_CLB_neogt20['Redshift.y']):\n",
    "    d_cm=cosmo.luminosity_distance(z=z).to(u.cm).value\n",
    "    \n",
    "    CLB_list_CLB_neogt20.loc[index,'LW1']=W1mag_to_Lum(CLB_list_CLB_neogt20.loc[index,'mean_m_w1_neo'],d_cm)\n",
    "    CLB_list_CLB_neogt20.loc[index,'LW2']=W1mag_to_Lum(CLB_list_CLB_neogt20.loc[index,'mean_m_w2_neo'],d_cm)\n",
    "    "
   ]
  },
  {
   "cell_type": "markdown",
   "metadata": {
    "ExecuteTime": {
     "end_time": "2023-06-18T12:24:15.102278Z",
     "start_time": "2023-06-18T12:24:15.086254Z"
    }
   },
   "source": [
    "CLB_list_CLB_neogt20[CLB_list_CLB_neogt20['sigma_m_w1_neo']==0]['len_neo']"
   ]
  },
  {
   "cell_type": "code",
   "execution_count": null,
   "metadata": {
    "ExecuteTime": {
     "start_time": "2023-07-22T04:58:20.422Z"
    }
   },
   "outputs": [],
   "source": [
    "len(CLB_list_CLB_neogt20)"
   ]
  },
  {
   "cell_type": "markdown",
   "metadata": {},
   "source": [
    "# CLB_list_CLB_candidates"
   ]
  },
  {
   "cell_type": "code",
   "execution_count": 132,
   "metadata": {
    "ExecuteTime": {
     "end_time": "2023-12-07T12:49:49.251753Z",
     "start_time": "2023-12-07T12:49:49.243776Z"
    }
   },
   "outputs": [],
   "source": [
    "CLB_list_CLB_candidates=CLB_list[CLB_list['V5']=='Predictions']\n",
    "CLB_list_CLB_candidates=drop_index(CLB_list_CLB_candidates)"
   ]
  },
  {
   "cell_type": "code",
   "execution_count": 135,
   "metadata": {
    "ExecuteTime": {
     "end_time": "2023-12-07T12:50:21.242850Z",
     "start_time": "2023-12-07T12:50:21.236173Z"
    }
   },
   "outputs": [
    {
     "data": {
      "text/plain": [
       "'/Volumes/ExtremeSSD/data_source/WISE_data/WISE_CLB_candidates'"
      ]
     },
     "execution_count": 135,
     "metadata": {},
     "output_type": "execute_result"
    }
   ],
   "source": [
    "CLBcand_wisedata_dir"
   ]
  },
  {
   "cell_type": "code",
   "execution_count": 133,
   "metadata": {
    "ExecuteTime": {
     "end_time": "2023-12-07T12:49:50.328355Z",
     "start_time": "2023-12-07T12:49:50.269139Z"
    }
   },
   "outputs": [],
   "source": [
    "for index,name in enumerate(CLB_list_CLB_candidates['V1']):\n",
    "    search_name=name.strip()\n",
    "    save_name=name.strip().replace(' ','')\n",
    "    #if os.path.exists('./wise_%s_mep.csv'%save_name):\n",
    "    neo_path='%s/wise_%s_neo.csv'%(CLBcand_wisedata_dir,save_name)\n",
    "    if not os.path.exists(neo_path):# and os.path.exists('./wise_%s_mep.csv'%save_name):\n",
    "    #if not os.path.exists('./CLB_list_CLB/wise_%s_neo.csv'%save_name):\n",
    "        CLB_list_CLB.loc[index,'len_neo']=0\n",
    "        continue\n",
    "    data=pd.read_csv(neo_path)\n",
    "    data=data[data['w1mpro'].notnull()]\n",
    "    data=data[data['w2mpro'].notnull()]\n",
    "    data=data[data['w1sigmpro'].notnull()]\n",
    "    data=data[data['w2sigmpro'].notnull()]\n",
    "    \n",
    "    #data=data[data['w1mpro']<15]\n",
    "    #data=data[data['w2mpro']<13]\n",
    "    #data=data[data['w1rchi2']<5]\n",
    "    #data=data[data['w2rchi2']<5]\n",
    "    #data=data[data['nb']<3]\n",
    "    #data=data[data['na']==0]\n",
    "    data=data[data['qual_frame']>0]\n",
    "    data=data.reset_index(drop=True)\n",
    "    #data=data.fillna(0)\n",
    "    if len(data)>5:\n",
    "        mag_label='w1mpro'\n",
    "        magerr_label='w1sigmpro'\n",
    "        epsilon_s=epsilon_s_w1\n",
    "        \n",
    "        pearson_coeff,p_value=pearsonr(data['w1mpro'],data['w2mpro'])\n",
    "        CLB_list_CLB.loc[index,'pearson_coeff_neo']=pearson_coeff\n",
    "        \n",
    "        sigma_m_w1=get_intrinsic_var(data,mag_label,magerr_label,epsilon_s)\n",
    "        CLB_list_CLB_candidates.loc[index,'sigma_m_w1_neo']=sigma_m_w1\n",
    "        CLB_list_CLB_candidates.loc[index,'mean_m_w1_neo']=np.average(data[mag_label])\n",
    "        \n",
    "        \n",
    "        mag_label='w2mpro'\n",
    "        magerr_label='w2sigmpro'\n",
    "        epsilon_s=epsilon_s_w2\n",
    "        sigma_m_w2=get_intrinsic_var(data,mag_label,magerr_label,epsilon_s)\n",
    "        CLB_list_CLB_candidates.loc[index,'sigma_m_w2_neo']=sigma_m_w2\n",
    "        CLB_list_CLB_candidates.loc[index,'mean_m_w2_neo']=np.average(data[mag_label])\n",
    "        CLB_list_CLB_candidates.loc[index,'len_neo']=len(data)\n",
    "        CLB_list_CLB_candidates.loc[index,'W1-W2']=np.average(data['w1mpro']-data['w2mpro'])\n",
    "    \n",
    "    else:\n",
    "        CLB_list_CLB_candidates.loc[index,'len_neo']=0"
   ]
  },
  {
   "cell_type": "markdown",
   "metadata": {},
   "source": [
    "## CLB_list_CLB_candidates_neogt20"
   ]
  },
  {
   "cell_type": "code",
   "execution_count": 134,
   "metadata": {
    "ExecuteTime": {
     "end_time": "2023-12-07T12:49:53.944042Z",
     "start_time": "2023-12-07T12:49:53.892366Z"
    }
   },
   "outputs": [
    {
     "ename": "KeyError",
     "evalue": "'len_neo'",
     "output_type": "error",
     "traceback": [
      "\u001b[0;31m---------------------------------------------------------------------------\u001b[0m",
      "\u001b[0;31mKeyError\u001b[0m                                  Traceback (most recent call last)",
      "File \u001b[0;32m~/opt/anaconda3/lib/python3.9/site-packages/pandas/core/indexes/base.py:3621\u001b[0m, in \u001b[0;36mIndex.get_loc\u001b[0;34m(self, key, method, tolerance)\u001b[0m\n\u001b[1;32m   3620\u001b[0m \u001b[38;5;28;01mtry\u001b[39;00m:\n\u001b[0;32m-> 3621\u001b[0m     \u001b[38;5;28;01mreturn\u001b[39;00m \u001b[38;5;28;43mself\u001b[39;49m\u001b[38;5;241;43m.\u001b[39;49m\u001b[43m_engine\u001b[49m\u001b[38;5;241;43m.\u001b[39;49m\u001b[43mget_loc\u001b[49m\u001b[43m(\u001b[49m\u001b[43mcasted_key\u001b[49m\u001b[43m)\u001b[49m\n\u001b[1;32m   3622\u001b[0m \u001b[38;5;28;01mexcept\u001b[39;00m \u001b[38;5;167;01mKeyError\u001b[39;00m \u001b[38;5;28;01mas\u001b[39;00m err:\n",
      "File \u001b[0;32m~/opt/anaconda3/lib/python3.9/site-packages/pandas/_libs/index.pyx:136\u001b[0m, in \u001b[0;36mpandas._libs.index.IndexEngine.get_loc\u001b[0;34m()\u001b[0m\n",
      "File \u001b[0;32m~/opt/anaconda3/lib/python3.9/site-packages/pandas/_libs/index.pyx:163\u001b[0m, in \u001b[0;36mpandas._libs.index.IndexEngine.get_loc\u001b[0;34m()\u001b[0m\n",
      "File \u001b[0;32mpandas/_libs/hashtable_class_helper.pxi:5198\u001b[0m, in \u001b[0;36mpandas._libs.hashtable.PyObjectHashTable.get_item\u001b[0;34m()\u001b[0m\n",
      "File \u001b[0;32mpandas/_libs/hashtable_class_helper.pxi:5206\u001b[0m, in \u001b[0;36mpandas._libs.hashtable.PyObjectHashTable.get_item\u001b[0;34m()\u001b[0m\n",
      "\u001b[0;31mKeyError\u001b[0m: 'len_neo'",
      "\nThe above exception was the direct cause of the following exception:\n",
      "\u001b[0;31mKeyError\u001b[0m                                  Traceback (most recent call last)",
      "Input \u001b[0;32mIn [134]\u001b[0m, in \u001b[0;36m<cell line: 1>\u001b[0;34m()\u001b[0m\n\u001b[0;32m----> 1\u001b[0m CLB_list_CLB_candidates_neogt20\u001b[38;5;241m=\u001b[39mCLB_list_CLB_candidates[\u001b[43mCLB_list_CLB_candidates\u001b[49m\u001b[43m[\u001b[49m\u001b[38;5;124;43m'\u001b[39;49m\u001b[38;5;124;43mlen_neo\u001b[39;49m\u001b[38;5;124;43m'\u001b[39;49m\u001b[43m]\u001b[49m\u001b[38;5;241m>\u001b[39m\u001b[38;5;241m20\u001b[39m]\n\u001b[1;32m      2\u001b[0m CLB_list_CLB_candidates_neogt20\u001b[38;5;241m=\u001b[39mdrop_index(CLB_list_CLB_candidates_neogt20)\n",
      "File \u001b[0;32m~/opt/anaconda3/lib/python3.9/site-packages/pandas/core/frame.py:3505\u001b[0m, in \u001b[0;36mDataFrame.__getitem__\u001b[0;34m(self, key)\u001b[0m\n\u001b[1;32m   3503\u001b[0m \u001b[38;5;28;01mif\u001b[39;00m \u001b[38;5;28mself\u001b[39m\u001b[38;5;241m.\u001b[39mcolumns\u001b[38;5;241m.\u001b[39mnlevels \u001b[38;5;241m>\u001b[39m \u001b[38;5;241m1\u001b[39m:\n\u001b[1;32m   3504\u001b[0m     \u001b[38;5;28;01mreturn\u001b[39;00m \u001b[38;5;28mself\u001b[39m\u001b[38;5;241m.\u001b[39m_getitem_multilevel(key)\n\u001b[0;32m-> 3505\u001b[0m indexer \u001b[38;5;241m=\u001b[39m \u001b[38;5;28;43mself\u001b[39;49m\u001b[38;5;241;43m.\u001b[39;49m\u001b[43mcolumns\u001b[49m\u001b[38;5;241;43m.\u001b[39;49m\u001b[43mget_loc\u001b[49m\u001b[43m(\u001b[49m\u001b[43mkey\u001b[49m\u001b[43m)\u001b[49m\n\u001b[1;32m   3506\u001b[0m \u001b[38;5;28;01mif\u001b[39;00m is_integer(indexer):\n\u001b[1;32m   3507\u001b[0m     indexer \u001b[38;5;241m=\u001b[39m [indexer]\n",
      "File \u001b[0;32m~/opt/anaconda3/lib/python3.9/site-packages/pandas/core/indexes/base.py:3623\u001b[0m, in \u001b[0;36mIndex.get_loc\u001b[0;34m(self, key, method, tolerance)\u001b[0m\n\u001b[1;32m   3621\u001b[0m     \u001b[38;5;28;01mreturn\u001b[39;00m \u001b[38;5;28mself\u001b[39m\u001b[38;5;241m.\u001b[39m_engine\u001b[38;5;241m.\u001b[39mget_loc(casted_key)\n\u001b[1;32m   3622\u001b[0m \u001b[38;5;28;01mexcept\u001b[39;00m \u001b[38;5;167;01mKeyError\u001b[39;00m \u001b[38;5;28;01mas\u001b[39;00m err:\n\u001b[0;32m-> 3623\u001b[0m     \u001b[38;5;28;01mraise\u001b[39;00m \u001b[38;5;167;01mKeyError\u001b[39;00m(key) \u001b[38;5;28;01mfrom\u001b[39;00m \u001b[38;5;21;01merr\u001b[39;00m\n\u001b[1;32m   3624\u001b[0m \u001b[38;5;28;01mexcept\u001b[39;00m \u001b[38;5;167;01mTypeError\u001b[39;00m:\n\u001b[1;32m   3625\u001b[0m     \u001b[38;5;66;03m# If we have a listlike key, _check_indexing_error will raise\u001b[39;00m\n\u001b[1;32m   3626\u001b[0m     \u001b[38;5;66;03m#  InvalidIndexError. Otherwise we fall through and re-raise\u001b[39;00m\n\u001b[1;32m   3627\u001b[0m     \u001b[38;5;66;03m#  the TypeError.\u001b[39;00m\n\u001b[1;32m   3628\u001b[0m     \u001b[38;5;28mself\u001b[39m\u001b[38;5;241m.\u001b[39m_check_indexing_error(key)\n",
      "\u001b[0;31mKeyError\u001b[0m: 'len_neo'"
     ]
    }
   ],
   "source": [
    "CLB_list_CLB_candidates_neogt20=CLB_list_CLB_candidates[CLB_list_CLB_candidates['len_neo']>20]\n",
    "CLB_list_CLB_candidates_neogt20=drop_index(CLB_list_CLB_candidates_neogt20)"
   ]
  },
  {
   "cell_type": "code",
   "execution_count": 127,
   "metadata": {
    "ExecuteTime": {
     "end_time": "2023-12-07T12:49:14.949251Z",
     "start_time": "2023-12-07T12:49:14.921110Z"
    }
   },
   "outputs": [
    {
     "ename": "NameError",
     "evalue": "name 'CLB_list_CLB_candidates_neogt20' is not defined",
     "output_type": "error",
     "traceback": [
      "\u001b[0;31m---------------------------------------------------------------------------\u001b[0m",
      "\u001b[0;31mNameError\u001b[0m                                 Traceback (most recent call last)",
      "Input \u001b[0;32mIn [127]\u001b[0m, in \u001b[0;36m<cell line: 1>\u001b[0;34m()\u001b[0m\n\u001b[0;32m----> 1\u001b[0m \u001b[38;5;28;01mfor\u001b[39;00m index,z \u001b[38;5;129;01min\u001b[39;00m \u001b[38;5;28menumerate\u001b[39m(\u001b[43mCLB_list_CLB_candidates_neogt20\u001b[49m[\u001b[38;5;124m'\u001b[39m\u001b[38;5;124mRedshift.y\u001b[39m\u001b[38;5;124m'\u001b[39m]):\n\u001b[1;32m      2\u001b[0m     d_cm\u001b[38;5;241m=\u001b[39mcosmo\u001b[38;5;241m.\u001b[39mluminosity_distance(z\u001b[38;5;241m=\u001b[39mz)\u001b[38;5;241m.\u001b[39mto(u\u001b[38;5;241m.\u001b[39mcm)\u001b[38;5;241m.\u001b[39mvalue\n\u001b[1;32m      4\u001b[0m     CLB_list_CLB_candidates_neogt20\u001b[38;5;241m.\u001b[39mloc[index,\u001b[38;5;124m'\u001b[39m\u001b[38;5;124mLW1\u001b[39m\u001b[38;5;124m'\u001b[39m]\u001b[38;5;241m=\u001b[39mW1mag_to_Lum(CLB_list_CLB_candidates_neogt20\u001b[38;5;241m.\u001b[39mloc[index,\u001b[38;5;124m'\u001b[39m\u001b[38;5;124mmean_m_w1_neo\u001b[39m\u001b[38;5;124m'\u001b[39m],d_cm)\n",
      "\u001b[0;31mNameError\u001b[0m: name 'CLB_list_CLB_candidates_neogt20' is not defined"
     ]
    }
   ],
   "source": [
    "for index,z in enumerate(CLB_list_CLB_candidates_neogt20['Redshift.y']):\n",
    "    d_cm=cosmo.luminosity_distance(z=z).to(u.cm).value\n",
    "    \n",
    "    CLB_list_CLB_candidates_neogt20.loc[index,'LW1']=W1mag_to_Lum(CLB_list_CLB_candidates_neogt20.loc[index,'mean_m_w1_neo'],d_cm)\n",
    "    CLB_list_CLB_candidates_neogt20.loc[index,'LW2']=W1mag_to_Lum(CLB_list_CLB_candidates_neogt20.loc[index,'mean_m_w2_neo'],d_cm)\n",
    "    "
   ]
  },
  {
   "cell_type": "code",
   "execution_count": null,
   "metadata": {},
   "outputs": [],
   "source": []
  },
  {
   "cell_type": "markdown",
   "metadata": {},
   "source": [
    "# Fermi_4LAC_DR3_h"
   ]
  },
  {
   "cell_type": "code",
   "execution_count": null,
   "metadata": {
    "ExecuteTime": {
     "start_time": "2023-07-22T04:58:22.220Z"
    }
   },
   "outputs": [],
   "source": [
    "'Source_Name'"
   ]
  },
  {
   "cell_type": "code",
   "execution_count": null,
   "metadata": {
    "ExecuteTime": {
     "start_time": "2023-07-22T04:58:22.224Z"
    }
   },
   "outputs": [],
   "source": [
    "Fermi_4LAC_DR3_h = fits.open('/Users/lyubing/Downloads/kangshiju_paper/table-4LAC-DR3-h.fits')\n",
    "Fermi_4LAC_DR3_h_data = Fermi_4LAC_DR3_h[1].data"
   ]
  },
  {
   "cell_type": "code",
   "execution_count": null,
   "metadata": {
    "ExecuteTime": {
     "start_time": "2023-07-22T04:58:22.229Z"
    }
   },
   "outputs": [],
   "source": [
    "len(Fermi_4LAC_DR3_h_bll),len(Fermi_4LAC_DR3_h_fsrq)"
   ]
  },
  {
   "cell_type": "code",
   "execution_count": null,
   "metadata": {
    "ExecuteTime": {
     "start_time": "2023-07-22T04:58:22.233Z"
    }
   },
   "outputs": [],
   "source": [
    "Fermi_4LAC_DR3_h_bll = Fermi_4LAC_DR3_h_data[Fermi_4LAC_DR3_h_data['CLASS'].lower()=='bll']"
   ]
  },
  {
   "cell_type": "code",
   "execution_count": null,
   "metadata": {
    "ExecuteTime": {
     "start_time": "2023-07-22T04:58:22.238Z"
    }
   },
   "outputs": [],
   "source": [
    "Fermi_4LAC_DR3_h_fsrq=Fermi_4LAC_DR3_h_data[Fermi_4LAC_DR3_h_data['CLASS'].lower()=='fsrq']"
   ]
  },
  {
   "cell_type": "code",
   "execution_count": null,
   "metadata": {
    "ExecuteTime": {
     "start_time": "2023-07-22T04:58:22.242Z"
    }
   },
   "outputs": [],
   "source": [
    "Fermi_4LAC_DR3_h_bll_pd=Table(Fermi_4LAC_DR3_h_bll).to_pandas()"
   ]
  },
  {
   "cell_type": "code",
   "execution_count": null,
   "metadata": {
    "ExecuteTime": {
     "start_time": "2023-07-22T04:58:22.247Z"
    }
   },
   "outputs": [],
   "source": [
    "Fermi_4LAC_DR3_h_fsrq_pd=Table(Fermi_4LAC_DR3_h_fsrq).to_pandas()"
   ]
  },
  {
   "cell_type": "code",
   "execution_count": null,
   "metadata": {
    "ExecuteTime": {
     "start_time": "2023-07-22T04:58:22.252Z"
    }
   },
   "outputs": [],
   "source": [
    "Fermi_4LAC_DR3_h_bll_pd.columns"
   ]
  },
  {
   "cell_type": "markdown",
   "metadata": {},
   "source": [
    "## Fermi_4LAC_DR3_h_bll_pd"
   ]
  },
  {
   "cell_type": "code",
   "execution_count": null,
   "metadata": {
    "ExecuteTime": {
     "start_time": "2023-07-22T05:10:31.072Z"
    }
   },
   "outputs": [],
   "source": [
    "for index,name in enumerate(Fermi_4LAC_DR3_h_bll_pd['Source_Name']):\n",
    "    search_name=name.strip()\n",
    "    save_name=name.strip().replace(' ','')\n",
    "    #if os.path.exists('./wise_%s_mep.csv'%save_name):\n",
    "    neo_path='%s/wise_%s_neo.csv'%(Fermi_bll_wisedata_dir,save_name)\n",
    "    if not os.path.exists(neo_path):# and os.path.exists('./wise_%s_mep.csv'%save_name):\n",
    "    #if not os.path.exists('./Fermi_4LAC_DR3_h_bll_pd/wise_%s_neo.csv'%save_name):\n",
    "        Fermi_4LAC_DR3_h_bll_pd.loc[index,'len_neo']=0\n",
    "        continue\n",
    "    data=pd.read_csv(neo_path)\n",
    "    data=data[data['w1mpro'].notnull()]\n",
    "    data=data[data['w2mpro'].notnull()]\n",
    "    data=data[data['w1sigmpro'].notnull()]\n",
    "    data=data[data['w2sigmpro'].notnull()]\n",
    "    \n",
    "    #data=data[data['w1mpro']<15]\n",
    "    #data=data[data['w2mpro']<13]\n",
    "    #data=data[data['w1rchi2']<5]\n",
    "    #data=data[data['w2rchi2']<5]\n",
    "    #data=data[data['nb']<3]\n",
    "    #data=data[data['na']==0]\n",
    "    data=data[data['qual_frame']>0]\n",
    "    data=data.reset_index(drop=True)\n",
    "    #data=data.fillna(0)\n",
    "    if len(data)>5:\n",
    "        mag_label='w1mpro'\n",
    "        magerr_label='w1sigmpro'\n",
    "        epsilon_s=epsilon_s_w1\n",
    "        \n",
    "        pearson_coeff,p_value=pearsonr(data['w1mpro'],data['w2mpro'])\n",
    "        Fermi_4LAC_DR3_h_bll_pd.loc[index,'pearson_coeff_neo']=pearson_coeff\n",
    "        \n",
    "        sigma_m_w1=get_intrinsic_var(data,mag_label,magerr_label,epsilon_s)\n",
    "        Fermi_4LAC_DR3_h_bll_pd.loc[index,'sigma_m_w1_neo']=sigma_m_w1\n",
    "        Fermi_4LAC_DR3_h_bll_pd.loc[index,'mean_m_w1_neo']=np.average(data[mag_label])\n",
    "        \n",
    "        \n",
    "        mag_label='w2mpro'\n",
    "        magerr_label='w2sigmpro'\n",
    "        epsilon_s=epsilon_s_w2\n",
    "        sigma_m_w2=get_intrinsic_var(data,mag_label,magerr_label,epsilon_s)\n",
    "        Fermi_4LAC_DR3_h_bll_pd.loc[index,'sigma_m_w2_neo']=sigma_m_w2\n",
    "        Fermi_4LAC_DR3_h_bll_pd.loc[index,'mean_m_w2_neo']=np.average(data[mag_label])\n",
    "        Fermi_4LAC_DR3_h_bll_pd.loc[index,'len_neo']=len(data)\n",
    "        Fermi_4LAC_DR3_h_bll_pd.loc[index,'W1-W2']=np.average(data['w1mpro']-data['w2mpro'])\n",
    "    \n",
    "    else:\n",
    "        Fermi_4LAC_DR3_h_bll_pd.loc[index,'len_neo']=0\n"
   ]
  },
  {
   "cell_type": "code",
   "execution_count": null,
   "metadata": {
    "ExecuteTime": {
     "start_time": "2023-07-22T05:10:31.078Z"
    }
   },
   "outputs": [],
   "source": [
    "Fermi_4LAC_DR3_h_bll_pd_neogt20=Fermi_4LAC_DR3_h_bll_pd[Fermi_4LAC_DR3_h_bll_pd['len_neo']>20]\n",
    "Fermi_4LAC_DR3_h_bll_pd_neogt20=drop_index(Fermi_4LAC_DR3_h_bll_pd_neogt20)"
   ]
  },
  {
   "cell_type": "code",
   "execution_count": null,
   "metadata": {
    "ExecuteTime": {
     "start_time": "2023-07-22T05:10:31.083Z"
    }
   },
   "outputs": [],
   "source": [
    "Fermi_4LAC_DR3_h_bll_pd_neogt20.to_csv('Fermi_4LAC_DR3_h_bll_pd_neogt20.csv',index=False)"
   ]
  },
  {
   "cell_type": "code",
   "execution_count": null,
   "metadata": {
    "ExecuteTime": {
     "start_time": "2023-07-22T05:10:31.088Z"
    }
   },
   "outputs": [],
   "source": [
    "Fermi_4LAC_DR3_h_bll_pd_neogt20.columns"
   ]
  },
  {
   "cell_type": "markdown",
   "metadata": {
    "ExecuteTime": {
     "end_time": "2023-06-17T14:53:05.562463Z",
     "start_time": "2023-06-17T14:53:05.541691Z"
    }
   },
   "source": [
    "for i in Fermi_4LAC_DR3_h_bll_pd_neogt20[Fermi_4LAC_DR3_h_bll_pd_neogt20['sigma_m_w1_neo']==0]['len_neo']:\n",
    "    print(i)"
   ]
  },
  {
   "cell_type": "markdown",
   "metadata": {
    "ExecuteTime": {
     "end_time": "2023-06-17T14:54:26.833688Z",
     "start_time": "2023-06-17T14:54:26.817086Z"
    }
   },
   "source": [
    "for i in Fermi_4LAC_DR3_h_fsrq_pd_neogt20[Fermi_4LAC_DR3_h_fsrq_pd_neogt20['sigma_m_w1_neo']==0]['len_neo']:\n",
    "    print(i)"
   ]
  },
  {
   "cell_type": "code",
   "execution_count": null,
   "metadata": {},
   "outputs": [],
   "source": []
  },
  {
   "cell_type": "code",
   "execution_count": null,
   "metadata": {},
   "outputs": [],
   "source": []
  },
  {
   "cell_type": "code",
   "execution_count": null,
   "metadata": {
    "ExecuteTime": {
     "start_time": "2023-07-22T05:10:32.224Z"
    }
   },
   "outputs": [],
   "source": [
    "#D_cm_bll= cosmo.luminosity_distance(z=Fermi_4LAC_DR3_h_bll_pd_neogt20['Redshift']).to(u.cm) \n",
    "for index,z in enumerate(Fermi_4LAC_DR3_h_bll_pd_neogt20['Redshift']):\n",
    "    if z>0:\n",
    "        d_cm=cosmo.luminosity_distance(z=z).to(u.cm).value    \n",
    "        Fermi_4LAC_DR3_h_bll_pd_neogt20.loc[index,'LW1']=W1mag_to_Lum(Fermi_4LAC_DR3_h_bll_pd_neogt20.loc[index,'mean_m_w1_neo'],d_cm)\n",
    "        Fermi_4LAC_DR3_h_bll_pd_neogt20.loc[index,'LW2']=W1mag_to_Lum(Fermi_4LAC_DR3_h_bll_pd_neogt20.loc[index,'mean_m_w2_neo'],d_cm)\n",
    "    else:\n",
    "        Fermi_4LAC_DR3_h_bll_pd_neogt20.loc[index,'LW1']=-1\n",
    "        Fermi_4LAC_DR3_h_bll_pd_neogt20.loc[index,'LW2']=-1\n",
    "           "
   ]
  },
  {
   "cell_type": "markdown",
   "metadata": {},
   "source": [
    "### Withredshift"
   ]
  },
  {
   "cell_type": "code",
   "execution_count": null,
   "metadata": {
    "ExecuteTime": {
     "start_time": "2023-07-22T05:10:32.772Z"
    }
   },
   "outputs": [],
   "source": [
    "Fermi_4LAC_DR3_h_bll_pd_neogt20_redshift=Fermi_4LAC_DR3_h_bll_pd_neogt20[Fermi_4LAC_DR3_h_bll_pd_neogt20['LW1']>0]\n",
    "Fermi_4LAC_DR3_h_bll_pd_neogt20_redshift=drop_index(Fermi_4LAC_DR3_h_bll_pd_neogt20_redshift)                                                                                                                           \n",
    "    "
   ]
  },
  {
   "cell_type": "code",
   "execution_count": null,
   "metadata": {
    "ExecuteTime": {
     "start_time": "2023-07-22T05:10:32.777Z"
    }
   },
   "outputs": [],
   "source": [
    "plt.hist(Fermi_4LAC_DR3_h_bll_pd_neogt20_redshift['Redshift'])"
   ]
  },
  {
   "cell_type": "code",
   "execution_count": null,
   "metadata": {},
   "outputs": [],
   "source": []
  },
  {
   "cell_type": "markdown",
   "metadata": {},
   "source": [
    "## Fermi_4LAC_DR3_h_fsrq_pd"
   ]
  },
  {
   "cell_type": "code",
   "execution_count": null,
   "metadata": {
    "ExecuteTime": {
     "start_time": "2023-07-22T05:10:33.346Z"
    }
   },
   "outputs": [],
   "source": [
    "for index,name in enumerate(Fermi_4LAC_DR3_h_fsrq_pd['Source_Name']):\n",
    "    search_name=name.strip()\n",
    "    save_name=name.strip().replace(' ','')\n",
    "    #if os.path.exists('./wise_%s_mep.csv'%save_name):\n",
    "    neo_path='%s/wise_%s_neo.csv'%(Fermi_fsrq_wisedata_dir,save_name)\n",
    "    if not os.path.exists(neo_path):# and os.path.exists('./wise_%s_mep.csv'%save_name):\n",
    "    #if not os.path.exists('./Fermi_4LAC_DR3_h_fsrq_pd/wise_%s_neo.csv'%save_name):\n",
    "        Fermi_4LAC_DR3_h_fsrq_pd.loc[index,'len_neo']=0\n",
    "        continue\n",
    "    data=pd.read_csv(neo_path)\n",
    "    data=data[data['w1mpro'].notnull()]\n",
    "    data=data[data['w2mpro'].notnull()]\n",
    "    data=data[data['w1sigmpro'].notnull()]\n",
    "    data=data[data['w2sigmpro'].notnull()]\n",
    "    \n",
    "    #data=data[data['w1mpro']<15]\n",
    "    #data=data[data['w2mpro']<13]\n",
    "    #data=data[data['w1rchi2']<5]\n",
    "    #data=data[data['w2rchi2']<5]\n",
    "    #data=data[data['nb']<3]\n",
    "    #data=data[data['na']==0]\n",
    "    data=data[data['qual_frame']>0]\n",
    "    data=data.reset_index(drop=True)\n",
    "    #data=data.fillna(0)\n",
    "    if len(data)>5:\n",
    "        mag_label='w1mpro'\n",
    "        magerr_label='w1sigmpro'\n",
    "        epsilon_s=epsilon_s_w1\n",
    "        \n",
    "        pearson_coeff,p_value=pearsonr(data['w1mpro'],data['w2mpro'])\n",
    "        Fermi_4LAC_DR3_h_fsrq_pd.loc[index,'pearson_coeff_neo']=pearson_coeff\n",
    "        \n",
    "        sigma_m_w1=get_intrinsic_var(data,mag_label,magerr_label,epsilon_s)\n",
    "        Fermi_4LAC_DR3_h_fsrq_pd.loc[index,'sigma_m_w1_neo']=sigma_m_w1\n",
    "        Fermi_4LAC_DR3_h_fsrq_pd.loc[index,'mean_m_w1_neo']=np.average(data[mag_label])\n",
    "        \n",
    "        \n",
    "        mag_label='w2mpro'\n",
    "        magerr_label='w2sigmpro'\n",
    "        epsilon_s=epsilon_s_w2\n",
    "        sigma_m_w2=get_intrinsic_var(data,mag_label,magerr_label,epsilon_s)\n",
    "        Fermi_4LAC_DR3_h_fsrq_pd.loc[index,'sigma_m_w2_neo']=sigma_m_w2\n",
    "        Fermi_4LAC_DR3_h_fsrq_pd.loc[index,'mean_m_w2_neo']=np.average(data[mag_label])\n",
    "        Fermi_4LAC_DR3_h_fsrq_pd.loc[index,'len_neo']=len(data)\n",
    "        Fermi_4LAC_DR3_h_fsrq_pd.loc[index,'W1-W2']=np.average(data['w1mpro']-data['w2mpro'])\n",
    "    \n",
    "    else:\n",
    "        Fermi_4LAC_DR3_h_fsrq_pd.loc[index,'len_neo']=0\n"
   ]
  },
  {
   "cell_type": "code",
   "execution_count": null,
   "metadata": {
    "ExecuteTime": {
     "start_time": "2023-07-22T05:10:33.351Z"
    }
   },
   "outputs": [],
   "source": [
    "Fermi_4LAC_DR3_h_fsrq_pd_neogt20=Fermi_4LAC_DR3_h_fsrq_pd[Fermi_4LAC_DR3_h_fsrq_pd['len_neo']>20]\n",
    "Fermi_4LAC_DR3_h_fsrq_pd_neogt20=drop_index(Fermi_4LAC_DR3_h_fsrq_pd_neogt20)\n"
   ]
  },
  {
   "cell_type": "code",
   "execution_count": null,
   "metadata": {
    "ExecuteTime": {
     "start_time": "2023-07-22T05:10:33.356Z"
    }
   },
   "outputs": [],
   "source": [
    "#Fermi_4LAC_DR3_h_fsrq_pd_neogt20.to_csv('Fermi_4LAC_DR3_h_fsrq_pd_neogt20.csv',index=False)"
   ]
  },
  {
   "cell_type": "code",
   "execution_count": null,
   "metadata": {
    "ExecuteTime": {
     "start_time": "2023-07-22T05:10:33.361Z"
    }
   },
   "outputs": [],
   "source": [
    "for index,z in enumerate(Fermi_4LAC_DR3_h_fsrq_pd_neogt20['Redshift']):\n",
    "    d_cm=cosmo.luminosity_distance(z=z).to(u.cm).value\n",
    "    \n",
    "    Fermi_4LAC_DR3_h_fsrq_pd_neogt20.loc[index,'LW1']=W1mag_to_Lum(Fermi_4LAC_DR3_h_fsrq_pd_neogt20.loc[index,'mean_m_w1_neo'],d_cm)\n",
    "    Fermi_4LAC_DR3_h_fsrq_pd_neogt20.loc[index,'LW2']=W1mag_to_Lum(Fermi_4LAC_DR3_h_fsrq_pd_neogt20.loc[index,'mean_m_w2_neo'],d_cm)\n",
    "    \n",
    "   "
   ]
  },
  {
   "cell_type": "markdown",
   "metadata": {
    "ExecuteTime": {
     "end_time": "2023-06-17T11:57:25.167403Z",
     "start_time": "2023-06-17T11:57:24.850181Z"
    }
   },
   "source": [
    "!open ."
   ]
  },
  {
   "cell_type": "code",
   "execution_count": null,
   "metadata": {
    "ExecuteTime": {
     "start_time": "2023-07-22T05:10:33.919Z"
    }
   },
   "outputs": [],
   "source": [
    "CLB_list_CLB_neogt20,Fermi_4LAC_DR3_h_bll_pd_neogt20,Fermi_4LAC_DR3_h_fsrq_pd_neogt20"
   ]
  },
  {
   "cell_type": "markdown",
   "metadata": {
    "ExecuteTime": {
     "end_time": "2023-06-17T13:28:57.206235Z",
     "start_time": "2023-06-17T13:28:57.170651Z"
    }
   },
   "source": [
    "Fermi_4LAC_DR3_h_bll_pd_neogt20"
   ]
  },
  {
   "cell_type": "code",
   "execution_count": null,
   "metadata": {
    "ExecuteTime": {
     "start_time": "2023-07-22T05:10:34.498Z"
    }
   },
   "outputs": [],
   "source": [
    "Fermi_4LAC_DR3_h_bll_pd_neogt20.columns\n"
   ]
  },
  {
   "cell_type": "markdown",
   "metadata": {},
   "source": [
    "## sigma_W1 W1-W2"
   ]
  },
  {
   "cell_type": "code",
   "execution_count": null,
   "metadata": {
    "ExecuteTime": {
     "start_time": "2023-07-22T05:10:35.076Z"
    }
   },
   "outputs": [],
   "source": [
    "#fig = plt.figure(figsize=(6, 6))\n",
    "#ax_histx=fig.add_subplot(1,1,1)\n",
    "\n",
    "# definitions for the axes\n",
    "left, width = 0.1, 0.65\n",
    "bottom, height = 0.1, 0.65\n",
    "spacing = 0.005\n",
    "\n",
    "#x = np.random.randn(1000)\n",
    "#y = np.random.randn(1000)\n",
    "\n",
    "rect_scatter = [left, bottom, width, height]\n",
    "rect_histx = [left, bottom + height + spacing, width, 0.2]\n",
    "rect_histy = [left + width + spacing, bottom, 0.4, height]\n",
    "\n",
    "# start with a square Figure\n",
    "fig = plt.figure(figsize=(6, 6))\n",
    "\n",
    "ax = fig.add_axes(rect_scatter)\n",
    "#ax_histx = fig.add_axes(rect_histx, sharex=ax)\n",
    "'''ax_histy = fig.add_axes(rect_histy, sharey=ax)\n",
    "#ax_histx.tick_params(axis=\"x\", labelbottom=False)\n",
    "ax_histy.tick_params(axis=\"y\", labelleft=False)\n",
    "'''\n",
    "\n",
    "'''for index,name in enumerate(Extreme_QSO_select['Name']):\n",
    "    ax.scatter(Extreme_QSO_select.loc[index,'logL_W1']-Extreme_QSO_select.loc[index,'logBH']-np.log10(1.263e38),\n",
    "               Extreme_QSO_select.loc[index,'W1-W2'],\n",
    "               s=size,color='cyan',marker='*',alpha=0.5,label='EVQ',zorder=1)\n",
    "'''\n",
    "        \n",
    "select_plot=Fermi_4LAC_DR3_h_bll_pd_neogt20\n",
    "xplot_label='W1-W2'\n",
    "yplot_label='sigma_m_w1_neo'\n",
    "ax.errorbar(x= select_plot[xplot_label],\n",
    "           y=select_plot[yplot_label],\n",
    "           marker='o',label='BLL',\n",
    "           ms=3., mew=1, capsize=0,mec='r',ecolor='r',\n",
    "           elinewidth=2,ls='',fillstyle='none',zorder=0)\n",
    "\n",
    "\n",
    "select_plot=Fermi_4LAC_DR3_h_fsrq_pd_neogt20\n",
    "xplot_label='W1-W2'\n",
    "yplot_label='sigma_m_w1_neo'\n",
    "ax.errorbar(x= select_plot[xplot_label],\n",
    "           y=select_plot[yplot_label],\n",
    "           marker='o',label='FSRQ',\n",
    "           ms=3., mew=1, capsize=0,mec='g',ecolor='r',\n",
    "           elinewidth=2,ls='',fillstyle='none',zorder=0)\n",
    "\n",
    "\n",
    "\n",
    "select_plot=CLB_list_CLB_neogt20\n",
    "xplot_label='W1-W2'\n",
    "yplot_label='sigma_m_w1_neo'\n",
    "ax.errorbar(x= select_plot[xplot_label],\n",
    "           y=select_plot[yplot_label],\n",
    "           marker='o',label='CLB',\n",
    "           ms=6., mew=1, capsize=0,mec='blue',ecolor='r',\n",
    "           elinewidth=2,ls='',fillstyle='none',zorder=1)\n",
    "\n",
    "\n",
    "\n",
    "select_plot=CLB_list_CLB_candidates_neogt20\n",
    "xplot_label='W1-W2'\n",
    "yplot_label='sigma_m_w1_neo'\n",
    "ax.errorbar(x= select_plot[xplot_label],\n",
    "           y=select_plot[yplot_label],\n",
    "           marker='o',label='CLB_candidates',\n",
    "           ms=3., mew=0, capsize=0,mec='blue',ecolor='blue',\n",
    "           mfc='blue',\n",
    "           elinewidth=2,ls='',fillstyle='full',zorder=0)\n",
    "\n",
    "\n",
    "\n",
    "\n",
    "set_ax_legend(ax,bbox_to_anchor=(0.51,0.99))\n",
    "ax.set_xlabel('<W1-W2>')\n",
    "ax.set_ylabel(r'$\\sigma_{W1}$')\n",
    "ax.set_ylim(0.01,1.8)\n",
    "set_ax_tick(ax)\n",
    "\n",
    "fig.savefig('%s/WISE_plot/CLB_WISE_sigmaW1_W1-W2.png'%CLAGN_statistic_plot_dir,\n",
    "            dpi=400, transparent=False, bbox_inches='tight')\n",
    "plt.show()\n",
    "plt.close()"
   ]
  },
  {
   "cell_type": "markdown",
   "metadata": {},
   "source": [
    "## LW1 sigma W1"
   ]
  },
  {
   "cell_type": "code",
   "execution_count": null,
   "metadata": {
    "ExecuteTime": {
     "start_time": "2023-07-22T05:10:35.630Z"
    }
   },
   "outputs": [],
   "source": [
    "#fig = plt.figure(figsize=(6, 6))\n",
    "#ax_histx=fig.add_subplot(1,1,1)\n",
    "\n",
    "# definitions for the axes\n",
    "left, width = 0.1, 0.65\n",
    "bottom, height = 0.1, 0.65\n",
    "spacing = 0.005\n",
    "\n",
    "#x = np.random.randn(1000)\n",
    "#y = np.random.randn(1000)\n",
    "\n",
    "rect_scatter = [left, bottom, width, height]\n",
    "rect_histx = [left, bottom + height + spacing, width, 0.2]\n",
    "rect_histy = [left + width + spacing, bottom, 0.4, height]\n",
    "\n",
    "# start with a square Figure\n",
    "fig = plt.figure(figsize=(6, 6))\n",
    "\n",
    "ax = fig.add_axes(rect_scatter)\n",
    "#ax_histx = fig.add_axes(rect_histx, sharex=ax)\n",
    "'''ax_histy = fig.add_axes(rect_histy, sharey=ax)\n",
    "#ax_histx.tick_params(axis=\"x\", labelbottom=False)\n",
    "ax_histy.tick_params(axis=\"y\", labelleft=False)\n",
    "'''\n",
    "\n",
    "'''for index,name in enumerate(Extreme_QSO_select['Name']):\n",
    "    ax.scatter(Extreme_QSO_select.loc[index,'logL_W1']-Extreme_QSO_select.loc[index,'logBH']-np.log10(1.263e38),\n",
    "               Extreme_QSO_select.loc[index,'W1-W2'],\n",
    "               s=size,color='cyan',marker='*',alpha=0.5,label='EVQ',zorder=1)\n",
    "'''\n",
    "        \n",
    "select_plot=Fermi_4LAC_DR3_h_bll_pd_neogt20_redshift\n",
    "xplot_label='LW1'\n",
    "yplot_label='sigma_m_w1_neo'\n",
    "ax.errorbar(x= select_plot[xplot_label],\n",
    "           y=select_plot[yplot_label],\n",
    "           marker='o',label='BLL',\n",
    "           ms=3., mew=1, capsize=0,mec='r',ecolor='r',\n",
    "           elinewidth=2,ls='',fillstyle='none',zorder=1)\n",
    "\n",
    "\n",
    "select_plot=Fermi_4LAC_DR3_h_fsrq_pd_neogt20\n",
    "xplot_label='LW1'\n",
    "yplot_label='sigma_m_w1_neo'\n",
    "ax.errorbar(x= select_plot[xplot_label],\n",
    "           y=select_plot[yplot_label],\n",
    "           marker='o',label='FSRQ',\n",
    "           ms=3., mew=1, capsize=0,mec='g',ecolor='r',\n",
    "           elinewidth=2,ls='',fillstyle='none',zorder=1)\n",
    "\n",
    "\n",
    "\n",
    "select_plot=CLB_list_CLB_neogt20\n",
    "xplot_label='LW1'\n",
    "yplot_label='sigma_m_w1_neo'\n",
    "ax.errorbar(x= select_plot[xplot_label],\n",
    "           y=select_plot[yplot_label],\n",
    "           marker='o',label='CLB',\n",
    "           ms=6., mew=1, capsize=0,mec='blue',ecolor='r',\n",
    "           elinewidth=2,ls='',fillstyle='none',zorder=1)\n",
    "\n",
    "\n",
    "select_plot=CLB_list_CLB_candidates_neogt20\n",
    "xplot_label='LW1'\n",
    "yplot_label='sigma_m_w1_neo'\n",
    "ax.errorbar(x= select_plot[xplot_label],\n",
    "           y=select_plot[yplot_label],\n",
    "           marker='o',label='CLB_candidates',\n",
    "           ms=3., mew=0, capsize=0,mec='blue',ecolor='blue',\n",
    "           mfc='blue',\n",
    "           elinewidth=2,ls='',fillstyle='full',zorder=0)\n",
    "\n",
    "\n",
    "ax.set_xlabel('LW1')\n",
    "ax.set_ylabel(r'$\\sigma_{W1}$')\n",
    "ax.set_ylim(0.01,1.8)\n",
    "\n",
    "set_ax_tick(ax)\n",
    "set_ax_legend(ax,bbox_to_anchor=(0.51,0.99))\n",
    "\n",
    "fig.savefig('%s/WISE_plot/CLB_WISE_sigmaW1-LW1.png'%CLAGN_statistic_plot_dir,\n",
    "            dpi=400, transparent=False, bbox_inches='tight')\n",
    "plt.show()\n",
    "plt.close()"
   ]
  },
  {
   "cell_type": "markdown",
   "metadata": {},
   "source": [
    "## LW2 sigma w2"
   ]
  },
  {
   "cell_type": "code",
   "execution_count": null,
   "metadata": {
    "ExecuteTime": {
     "start_time": "2023-07-22T05:10:36.183Z"
    }
   },
   "outputs": [],
   "source": [
    "#fig = plt.figure(figsize=(6, 6))\n",
    "#ax_histx=fig.add_subplot(1,1,1)\n",
    "\n",
    "# definitions for the axes\n",
    "left, width = 0.1, 0.65\n",
    "bottom, height = 0.1, 0.65\n",
    "spacing = 0.005\n",
    "\n",
    "#x = np.random.randn(1000)\n",
    "#y = np.random.randn(1000)\n",
    "\n",
    "rect_scatter = [left, bottom, width, height]\n",
    "rect_histx = [left, bottom + height + spacing, width, 0.2]\n",
    "rect_histy = [left + width + spacing, bottom, 0.4, height]\n",
    "\n",
    "# start with a square Figure\n",
    "fig = plt.figure(figsize=(6, 6))\n",
    "\n",
    "ax = fig.add_axes(rect_scatter)\n",
    "#ax_histx = fig.add_axes(rect_histx, sharex=ax)\n",
    "'''ax_histy = fig.add_axes(rect_histy, sharey=ax)\n",
    "#ax_histx.tick_params(axis=\"x\", labelbottom=False)\n",
    "ax_histy.tick_params(axis=\"y\", labelleft=False)\n",
    "'''\n",
    "\n",
    "'''for index,name in enumerate(Extreme_QSO_select['Name']):\n",
    "    ax.scatter(Extreme_QSO_select.loc[index,'logL_W1']-Extreme_QSO_select.loc[index,'logBH']-np.log10(1.263e38),\n",
    "               Extreme_QSO_select.loc[index,'W1-W2'],\n",
    "               s=size,color='cyan',marker='*',alpha=0.5,label='EVQ',zorder=1)\n",
    "'''\n",
    "        \n",
    "select_plot=Fermi_4LAC_DR3_h_bll_pd_neogt20_redshift\n",
    "xplot_label='LW2'\n",
    "yplot_label='sigma_m_w2_neo'\n",
    "ax.errorbar(x= select_plot[xplot_label],\n",
    "           y=select_plot[yplot_label],\n",
    "           marker='o',label='BLL',\n",
    "           ms=3., mew=1, capsize=0,mec='r',ecolor='r',\n",
    "           elinewidth=2,ls='',fillstyle='none',zorder=1)\n",
    "\n",
    "\n",
    "select_plot=Fermi_4LAC_DR3_h_fsrq_pd_neogt20\n",
    "xplot_label='LW2'\n",
    "yplot_label='sigma_m_w2_neo'\n",
    "ax.errorbar(x= select_plot[xplot_label],\n",
    "           y=select_plot[yplot_label],\n",
    "           marker='o',label='FSRQ',\n",
    "           ms=3., mew=1, capsize=0,mec='g',ecolor='r',\n",
    "           elinewidth=2,ls='',fillstyle='none',zorder=1)\n",
    "\n",
    "\n",
    "\n",
    "select_plot=CLB_list_CLB_neogt20\n",
    "xplot_label='LW2'\n",
    "yplot_label='sigma_m_w2_neo'\n",
    "ax.errorbar(x= select_plot[xplot_label],\n",
    "           y=select_plot[yplot_label],\n",
    "           marker='o',label='CLB',\n",
    "           ms=6., mew=1, capsize=0,mec='blue',ecolor='r',\n",
    "           elinewidth=2,ls='',fillstyle='none',zorder=1)\n",
    "\n",
    "\n",
    "select_plot=CLB_list_CLB_candidates_neogt20\n",
    "xplot_label='LW2'\n",
    "yplot_label='sigma_m_w2_neo'\n",
    "ax.errorbar(x= select_plot[xplot_label],\n",
    "           y=select_plot[yplot_label],\n",
    "           marker='o',label='CLB_candidates',\n",
    "           ms=3., mew=0, capsize=0,mec='blue',ecolor='blue',\n",
    "           mfc='blue',\n",
    "           elinewidth=2,ls='',fillstyle='full',zorder=0)\n",
    "\n",
    "\n",
    "ax.set_xlabel('LW2')\n",
    "ax.set_ylabel(r'$\\sigma_{W2}$')\n",
    "ax.set_ylim(0.01,1.8)\n",
    "\n",
    "set_ax_tick(ax)\n",
    "set_ax_legend(ax,bbox_to_anchor=(0.51,0.99))\n",
    "\n",
    "fig.savefig('%s/WISE_plot/CLB_WISE_sigmaW2-LW2.png'%CLAGN_statistic_plot_dir,\n",
    "            dpi=400, transparent=False, bbox_inches='tight')\n",
    "plt.show()\n",
    "plt.close()\n"
   ]
  },
  {
   "cell_type": "code",
   "execution_count": null,
   "metadata": {},
   "outputs": [],
   "source": []
  },
  {
   "cell_type": "code",
   "execution_count": null,
   "metadata": {},
   "outputs": [],
   "source": []
  },
  {
   "cell_type": "markdown",
   "metadata": {},
   "source": [
    "## Lw1 vs W1-W2"
   ]
  },
  {
   "cell_type": "code",
   "execution_count": null,
   "metadata": {
    "ExecuteTime": {
     "start_time": "2023-07-22T05:10:36.737Z"
    },
    "scrolled": false
   },
   "outputs": [],
   "source": [
    "#fig = plt.figure(figsize=(6, 6))\n",
    "#ax_histx=fig.add_subplot(1,1,1)\n",
    "\n",
    "# definitions for the axes\n",
    "left, width = 0.1, 0.65\n",
    "bottom, height = 0.1, 0.65\n",
    "spacing = 0.005\n",
    "\n",
    "#x = np.random.randn(1000)\n",
    "#y = np.random.randn(1000)\n",
    "\n",
    "rect_scatter = [left, bottom, width, height]\n",
    "rect_histx = [left, bottom + height + spacing, width, 0.4]\n",
    "rect_histy = [left + width + spacing, bottom, 0.4, height]\n",
    "\n",
    "# start with a square Figure\n",
    "fig = plt.figure(figsize=(6, 6))\n",
    "\n",
    "ax = fig.add_axes(rect_scatter)\n",
    "\n",
    "ax_histx = fig.add_axes(rect_histx, sharex=ax)\n",
    "ax_histy = fig.add_axes(rect_histy, sharey=ax)\n",
    "ax_histx.tick_params(axis=\"x\", labelbottom=False)\n",
    "ax_histy.tick_params(axis=\"y\", labelleft=False)\n",
    "\n",
    "\n",
    "\n",
    "        \n",
    "#select_plot=Fermi_4LAC_DR3_h_bll_pd_neogt20 \n",
    "select_plot=Fermi_4LAC_DR3_h_bll_pd_neogt20_redshift\n",
    "\n",
    "xplot_label='LW1'\n",
    "yplot_label='W1-W2'\n",
    "ax.errorbar(x= select_plot[xplot_label],\n",
    "           y=select_plot[yplot_label],\n",
    "           marker='o',label='BLL',\n",
    "           ms=3., mew=1, capsize=0,mec='r',ecolor='r',\n",
    "           elinewidth=2,ls='',fillstyle='none',zorder=0)\n",
    "ax_histx.hist(select_plot[xplot_label], bins=8,fill=False,density=True,stacked =True,\n",
    "              histtype='step',\n",
    "         #linestyle ='--',\n",
    "              linewidth=2,\n",
    "        label='BLL',edgecolor='red',\n",
    "              #orientation='horizontal'\n",
    "             )\n",
    "ax_histy.hist(select_plot[yplot_label], bins=8,fill=False,density=True,stacked =True,\n",
    "              histtype='step',\n",
    "         #linestyle ='--',\n",
    "              linewidth=2,\n",
    "        label='BLL',edgecolor='red',\n",
    "              orientation='horizontal'\n",
    "             )\n",
    "\n",
    "\n",
    "\n",
    "select_plot=Fermi_4LAC_DR3_h_fsrq_pd_neogt20\n",
    "xplot_label='LW1'\n",
    "yplot_label='W1-W2'\n",
    "ax.errorbar(x= select_plot[xplot_label],\n",
    "           y=select_plot[yplot_label],\n",
    "           marker='o',label='FSRQ',\n",
    "           ms=3., mew=1, capsize=0,mec='g',ecolor='r',\n",
    "           elinewidth=2,ls='',fillstyle='none',zorder=0)\n",
    "ax_histx.hist(select_plot[xplot_label], bins=8,fill=False,density=True,stacked =True,\n",
    "              histtype='step',\n",
    "         #linestyle ='--',\n",
    "              linewidth=2,\n",
    "        label='FSRQ',edgecolor='g',\n",
    "              #orientation='horizontal'\n",
    "             )\n",
    "ax_histy.hist(select_plot[yplot_label], bins=8,fill=False,density=True,stacked =True,\n",
    "              histtype='step',\n",
    "         #linestyle ='--',\n",
    "              linewidth=2,\n",
    "        label='FSRQ',edgecolor='g',\n",
    "              orientation='horizontal'\n",
    "             )\n",
    "\n",
    "\n",
    "select_plot=CLB_list_CLB_neogt20\n",
    "xplot_label='LW1'\n",
    "yplot_label='W1-W2'\n",
    "ax.errorbar(x= select_plot[xplot_label],\n",
    "           y=select_plot[yplot_label],\n",
    "           marker='o',label='CLB',\n",
    "           ms=6., mew=1, capsize=0,mec='blue',ecolor='r',\n",
    "           elinewidth=2,ls='',fillstyle='none',zorder=1)\n",
    "\n",
    "ax_histx.hist(select_plot[xplot_label], bins=8,fill=False,density=True,stacked =True,\n",
    "              histtype='step',\n",
    "         #linestyle ='--',\n",
    "              linewidth=2,\n",
    "        label='CLB',edgecolor='blue',\n",
    "              #orientation='horizontal'\n",
    "             )\n",
    "ax_histy.hist(select_plot[yplot_label], bins=8,fill=False,density=True,stacked =True,\n",
    "              histtype='step',\n",
    "              #linestyle ='--',\n",
    "              linewidth=2,\n",
    "              label='CLB',edgecolor='blue',\n",
    "              orientation='horizontal'\n",
    "             )\n",
    "\n",
    "select_plot=CLB_list_CLB_candidates_neogt20\n",
    "xplot_label='LW1'\n",
    "yplot_label='W1-W2'\n",
    "ax.errorbar(x= select_plot[xplot_label],\n",
    "           y=select_plot[yplot_label],\n",
    "           marker='o',label='CLB_candidates',\n",
    "           ms=3., mew=0, capsize=0,mec='blue',ecolor='blue',\n",
    "           mfc='blue',\n",
    "           elinewidth=2,ls='',fillstyle='full',zorder=0)\n",
    "\n",
    "ax_histx.hist(select_plot[xplot_label], bins=8,fill=False,density=True,stacked =True,\n",
    "              histtype='step',\n",
    "              linestyle ='--',\n",
    "              linewidth=2,\n",
    "        label='CLB_candidates',edgecolor='blue',\n",
    "              #orientation='horizontal'\n",
    "             )\n",
    "ax_histy.hist(select_plot[yplot_label], bins=8,fill=False,density=True,stacked =True,\n",
    "              histtype='step',\n",
    "              linestyle ='--',\n",
    "              linewidth=2,\n",
    "              label='CLB_candidates',edgecolor='blue',\n",
    "              orientation='horizontal'\n",
    "             )\n",
    "\n",
    "\n",
    "\n",
    "\n",
    "\n",
    "select_plot=QSO_select\n",
    "xplot_label='logL_W1'\n",
    "yplot_label='W1-W2'\n",
    "ax.errorbar(x= select_plot[xplot_label],\n",
    "           y=select_plot[yplot_label],\n",
    "           marker='*',label='QSO',\n",
    "           ms=3., mew=1, capsize=0,mec='grey',ecolor='r',\n",
    "           elinewidth=2,ls='',fillstyle='none',zorder=0)\n",
    "\n",
    "ax_histx.hist(select_plot[xplot_label], bins=8,fill=False,density=True,stacked =True,\n",
    "              histtype='step',\n",
    "         linestyle ='--',\n",
    "              linewidth=2,\n",
    "        label='QSO',edgecolor='grey',\n",
    "              #orientation='horizontal'\n",
    "             )\n",
    "ax_histy.hist(select_plot[yplot_label], bins=8,fill=False,density=True,stacked =True,\n",
    "              histtype='step',\n",
    "              #linestyle ='--',\n",
    "              linewidth=2,\n",
    "              label='QSO',edgecolor='grey',\n",
    "              orientation='horizontal'\n",
    "             )\n",
    "\n",
    "\n",
    "\n",
    "select_plot=LLAGN_gu2009\n",
    "xplot_label='logL_W1'\n",
    "yplot_label='W1-W2'\n",
    "ax.errorbar(x= select_plot[xplot_label],\n",
    "           y=select_plot[yplot_label],\n",
    "           marker='+',label='LLAGN',\n",
    "           ms=3., mew=1, capsize=0,mec='black',ecolor='r',\n",
    "           elinewidth=2,ls='',fillstyle='none',zorder=0)\n",
    "\n",
    "ax_histx.hist(select_plot[xplot_label], bins=8,fill=False,density=True,stacked =True,\n",
    "              histtype='step',\n",
    "         linestyle ='-.',\n",
    "              linewidth=2,\n",
    "        label='LLAGN',edgecolor='black',\n",
    "              #orientation='horizontal'\n",
    "             )\n",
    "ax_histy.hist(select_plot[yplot_label], bins=8,fill=False,density=True,stacked =True,\n",
    "              histtype='step',\n",
    "              linestyle ='-.',\n",
    "              linewidth=2,\n",
    "              label='LLAGN',edgecolor='black',\n",
    "              orientation='horizontal'\n",
    "             )\n",
    "\n",
    "\n",
    "\n",
    "\n",
    "\n",
    "ax.set_xlabel(r'$L_{W1}$')\n",
    "ax.set_ylabel(r'<W1-W2>')\n",
    "#ax.set_ylim(0.01,1.3)\n",
    "set_ax_tick(ax)\n",
    "#set_ax_legend(ax,bbox_to_anchor=(0.69,0.5))\n",
    "set_ax_legend(ax_histx,bbox_to_anchor=(0.57,0.99))\n",
    "set_ax_legend(ax,bbox_to_anchor=(0.61,0.99))\n",
    "ax_histx.yaxis.set_major_locator(mpl.ticker.MultipleLocator(0.2))\n",
    "ax_histx.yaxis.set_minor_locator(mpl.ticker.MultipleLocator(0.1))\n",
    "#ax_histx.set_ylim(0.01,0.9)\n",
    "#set_ax_tick(ax_histx,)\n",
    "\n",
    "ax.set_xlim(41-0.1,51.1)\n",
    "\n",
    "fig.savefig('%s/WISE_plot/CLB_WISE_W1-W2_LW1.png'%CLAGN_statistic_plot_dir,\n",
    "            dpi=400, transparent=False, bbox_inches='tight')\n",
    "plt.show()\n",
    "plt.close()"
   ]
  },
  {
   "cell_type": "code",
   "execution_count": null,
   "metadata": {
    "ExecuteTime": {
     "start_time": "2023-07-22T05:10:36.742Z"
    }
   },
   "outputs": [],
   "source": [
    "CLAGN_statistic_plot_dir"
   ]
  },
  {
   "cell_type": "code",
   "execution_count": null,
   "metadata": {
    "ExecuteTime": {
     "start_time": "2023-07-22T05:10:36.746Z"
    }
   },
   "outputs": [],
   "source": [
    "!open /Volumes/ExtremeSSD/CLAGN_statistic_plot/WISE_plot"
   ]
  },
  {
   "cell_type": "markdown",
   "metadata": {
    "ExecuteTime": {
     "end_time": "2023-06-17T14:28:53.889190Z",
     "start_time": "2023-06-17T14:28:53.874921Z"
    }
   },
   "source": [
    "QSO_select['LW1']"
   ]
  },
  {
   "cell_type": "markdown",
   "metadata": {
    "ExecuteTime": {
     "end_time": "2023-06-17T14:29:15.670295Z",
     "start_time": "2023-06-17T14:29:15.658576Z"
    }
   },
   "source": [
    "Fermi_4LAC_DR3_h_bll_pd_neogt20['LW1']#['Redshift']"
   ]
  },
  {
   "cell_type": "code",
   "execution_count": null,
   "metadata": {
    "ExecuteTime": {
     "start_time": "2023-07-22T05:10:37.862Z"
    }
   },
   "outputs": [],
   "source": [
    "len(Fermi_4LAC_DR3_h_bll_pd_neogt20)"
   ]
  },
  {
   "cell_type": "code",
   "execution_count": null,
   "metadata": {
    "ExecuteTime": {
     "start_time": "2023-07-22T05:10:37.866Z"
    }
   },
   "outputs": [],
   "source": [
    "len(Fermi_4LAC_DR3_h_bll_pd_neogt20_redshift)"
   ]
  },
  {
   "cell_type": "code",
   "execution_count": null,
   "metadata": {
    "ExecuteTime": {
     "start_time": "2023-07-22T05:10:37.870Z"
    }
   },
   "outputs": [],
   "source": [
    "len(Fermi_4LAC_DR3_h_fsrq_pd_neogt20)"
   ]
  },
  {
   "cell_type": "markdown",
   "metadata": {},
   "source": [
    "# QSO"
   ]
  },
  {
   "cell_type": "code",
   "execution_count": null,
   "metadata": {
    "ExecuteTime": {
     "start_time": "2023-07-22T05:10:38.410Z"
    }
   },
   "outputs": [],
   "source": [
    "#CLAGN_statistic_plot_dir='/Volumes/ExtremeSSD/CLAGN_statistic_plot/'\n",
    "#QSO=pd.read_csv('/Users/brettlv/Downloads/CLAGN_statistic_plot/QSO_wise_var.csv')\n",
    "QSO=pd.read_csv('%s/QSO_wise_var.csv'%CLAGN_statistic_plot_dir)\n",
    "\n",
    "QSO['log(L5100)']=(QSO['lg(LHalpha)']-np.log10(5.25)-42)/1.157+44\n",
    "QSO['log(Lbol)']=np.log10(9)+QSO['log(L5100)']\n",
    "QSO['log(Ledd)']=np.log10(1.263*10**38)+QSO['lg(L_Mbh)']\n",
    "QSO['log(Lbol/Ledd)']=QSO['log(Lbol)']-QSO['log(Ledd)']\n",
    "#print(QSO.columns)\n",
    "#D_cm_QSO=cosmo.luminosity_distance(z=QSO['redshift']).to(u.cm)\n",
    "#QSO['D_cm']=cosmo.luminosity_distance(z=QSO['redshift']).to(u.cm)"
   ]
  },
  {
   "cell_type": "code",
   "execution_count": null,
   "metadata": {
    "ExecuteTime": {
     "start_time": "2023-07-22T05:10:38.414Z"
    }
   },
   "outputs": [],
   "source": [
    "for index,z in enumerate(QSO['redshift']):\n",
    "    d_cm=cosmo.luminosity_distance(z=z).to(u.cm).value\n",
    "    QSO.loc[index,'D_cm']=d_cm"
   ]
  },
  {
   "cell_type": "code",
   "execution_count": null,
   "metadata": {
    "ExecuteTime": {
     "start_time": "2023-07-22T05:10:38.419Z"
    }
   },
   "outputs": [],
   "source": [
    "QSO['logL_W1']= (-48.6-QSO['mean_m_w1_neo']-2.699)/2.5+np.log10(4*np.pi*QSO['D_cm']**2)+np.log10((constants.c/(3.4*u.um)).to(u.Hz).value)\n",
    "QSO['logL_W2']= (-48.6-QSO['mean_m_w2_neo']-3.339)/2.5+np.log10(4*np.pi*QSO['D_cm']**2)+np.log10((constants.c/(4.6*u.um)).to(u.Hz).value)\n"
   ]
  },
  {
   "cell_type": "markdown",
   "metadata": {
    "ExecuteTime": {
     "end_time": "2023-06-17T14:27:45.383526Z",
     "start_time": "2023-06-17T14:27:45.375650Z"
    }
   },
   "source": [
    "QSO['LW1']=10**QSO['logL_W1']\n",
    "QSO['LW2']=10**QSO['logL_W2']"
   ]
  },
  {
   "cell_type": "code",
   "execution_count": null,
   "metadata": {
    "ExecuteTime": {
     "start_time": "2023-07-22T05:10:38.948Z"
    }
   },
   "outputs": [],
   "source": [
    "QSO_select=QSO[QSO['len_neo']>20]\n",
    "#QSO_select=QSO_select[QSO_select['pearson_coeff_neo']>0.8]\n",
    "QSO_select=drop_index(QSO_select)"
   ]
  },
  {
   "cell_type": "code",
   "execution_count": null,
   "metadata": {
    "ExecuteTime": {
     "start_time": "2023-07-22T05:10:38.952Z"
    }
   },
   "outputs": [],
   "source": [
    "len(QSO_select)"
   ]
  },
  {
   "cell_type": "markdown",
   "metadata": {},
   "source": [
    "# LLAGN"
   ]
  },
  {
   "cell_type": "code",
   "execution_count": null,
   "metadata": {
    "ExecuteTime": {
     "start_time": "2023-07-22T05:10:39.488Z"
    }
   },
   "outputs": [],
   "source": [
    "LLAGN_gu2009=pd.read_csv('%s/LLAGN_gu2009.csv'%CLAGN_statistic_plot_dir)\n",
    "\n",
    "LLAGN_gu2009=LLAGN_gu2009[LLAGN_gu2009['len_neo']>20]\n",
    "LLAGN_gu2009=drop_index(LLAGN_gu2009)"
   ]
  },
  {
   "cell_type": "markdown",
   "metadata": {},
   "source": [
    "# plot LW1/Lbol"
   ]
  },
  {
   "cell_type": "code",
   "execution_count": null,
   "metadata": {
    "ExecuteTime": {
     "end_time": "2023-09-05T06:49:57.936794Z",
     "start_time": "2023-09-05T06:49:57.930484Z"
    }
   },
   "outputs": [],
   "source": [
    "AGN_wisedata_dir='/Volumes/ExtremeSSD/data_source/WISE_data'\n",
    "\n",
    "CLAGN_statistic_plot_dir='/Volumes/ExtremeSSD/CLAGN_statistic_plot/'"
   ]
  },
  {
   "cell_type": "code",
   "execution_count": null,
   "metadata": {
    "ExecuteTime": {
     "end_time": "2023-09-05T06:44:11.325052Z",
     "start_time": "2023-09-05T06:44:11.268875Z"
    }
   },
   "outputs": [],
   "source": [
    "CLAGN_210919=pd.read_excel('/Users/lyubing/IHEPBox//data/data_clagn/CLAGN_list210919.xlsx',sheet_name='Sheet1')"
   ]
  },
  {
   "cell_type": "code",
   "execution_count": null,
   "metadata": {
    "ExecuteTime": {
     "end_time": "2023-09-05T06:49:20.776298Z",
     "start_time": "2023-09-05T06:49:20.763740Z"
    }
   },
   "outputs": [],
   "source": [
    "CLAGN_210919.columns"
   ]
  },
  {
   "cell_type": "code",
   "execution_count": null,
   "metadata": {
    "ExecuteTime": {
     "end_time": "2023-09-05T06:49:59.784205Z",
     "start_time": "2023-09-05T06:49:59.739142Z"
    }
   },
   "outputs": [],
   "source": [
    "CLAGN_210919_mass=pd.read_csv('%s/CLAGN_210919_mass_wisevar.csv'%CLAGN_statistic_plot_dir)"
   ]
  },
  {
   "cell_type": "code",
   "execution_count": null,
   "metadata": {
    "ExecuteTime": {
     "end_time": "2023-09-05T06:56:18.787157Z",
     "start_time": "2023-09-05T06:56:18.754386Z"
    }
   },
   "outputs": [],
   "source": [
    "CLAGN_210919_mass#.columns"
   ]
  },
  {
   "cell_type": "code",
   "execution_count": null,
   "metadata": {
    "ExecuteTime": {
     "end_time": "2023-09-05T06:50:27.297095Z",
     "start_time": "2023-09-05T06:50:27.034254Z"
    }
   },
   "outputs": [],
   "source": [
    "!open /Users/lyubing/IHEPBox/data/data_lag/"
   ]
  },
  {
   "cell_type": "code",
   "execution_count": null,
   "metadata": {
    "ExecuteTime": {
     "end_time": "2023-09-05T06:59:15.846009Z",
     "start_time": "2023-09-05T06:59:15.824342Z"
    }
   },
   "outputs": [],
   "source": [
    "#timelag_sources=pd.read_excel('/home/brettlv/Documents/timelag.xlsx',sheet_name='工作表2')\n",
    "timelag_sources=pd.read_csv('/Users/lyubing/IHEPBox/data/data_lag/Timelag_thiswork.csv')\n",
    "#timelag_sources=timelag_sources[timelag_sources['select']==1.0]\n",
    "timelag_sources=timelag_sources.reset_index(drop=True)\n",
    "timelag_sources['Lbol11']=timelag_sources['Lbol']/10**11/(3.828e26*10**7)\n",
    "timelag_sources['logLbol11']=np.log10(timelag_sources['Lbol11'])\n",
    "timelag_sources['logLbol']=np.log10(timelag_sources['Lbol'])"
   ]
  },
  {
   "cell_type": "code",
   "execution_count": null,
   "metadata": {
    "ExecuteTime": {
     "end_time": "2023-09-05T06:59:16.628014Z",
     "start_time": "2023-09-05T06:59:16.594929Z"
    }
   },
   "outputs": [],
   "source": [
    "timelag_sources"
   ]
  },
  {
   "cell_type": "code",
   "execution_count": null,
   "metadata": {
    "ExecuteTime": {
     "end_time": "2023-09-05T07:00:56.929350Z",
     "start_time": "2023-09-05T07:00:56.920268Z"
    }
   },
   "outputs": [],
   "source": [
    "timelag_sources['log(Lw1/Lbol)']=0"
   ]
  },
  {
   "cell_type": "code",
   "execution_count": null,
   "metadata": {
    "ExecuteTime": {
     "end_time": "2023-09-05T07:01:21.589445Z",
     "start_time": "2023-09-05T07:01:21.567317Z"
    }
   },
   "outputs": [],
   "source": [
    "for index,Lbol in enumerate(timelag_sources['logLbol']):\n",
    "    name=timelag_sources.loc[index,'Name']#.strip().relace(' ','')\n",
    "    select_= CLAGN_210919_mass[CLAGN_210919_mass['Name']==name]\n",
    "    if len(select_)>0:\n",
    "        select_=drop_index(select_)\n",
    "        Lw1=select_.loc[0,'logL_W1']\n",
    "        print(name, Lw1-Lbol)\n",
    "        timelag_sources.loc[index,'log(Lw1/Lbol)']=Lw1-Lbol\n",
    "        "
   ]
  },
  {
   "cell_type": "code",
   "execution_count": null,
   "metadata": {
    "ExecuteTime": {
     "end_time": "2023-09-05T07:01:22.854489Z",
     "start_time": "2023-09-05T07:01:22.820321Z"
    }
   },
   "outputs": [],
   "source": [
    "timelag_sources"
   ]
  },
  {
   "cell_type": "code",
   "execution_count": null,
   "metadata": {
    "ExecuteTime": {
     "end_time": "2023-09-05T07:08:07.440970Z",
     "start_time": "2023-09-05T07:08:07.330782Z"
    }
   },
   "outputs": [],
   "source": [
    "plt.hist(timelag_sources['log(Lw1/Lbol)'],bins=5)\n",
    "plt.xlabel('log(Lw1/Lbol)')"
   ]
  },
  {
   "cell_type": "code",
   "execution_count": null,
   "metadata": {
    "ExecuteTime": {
     "end_time": "2023-09-05T07:07:05.468954Z",
     "start_time": "2023-09-05T07:07:05.456023Z"
    }
   },
   "outputs": [],
   "source": [
    "np.log10(0.3),np.log10(0.9)"
   ]
  },
  {
   "cell_type": "markdown",
   "metadata": {},
   "source": [
    "# hotdog"
   ]
  },
  {
   "cell_type": "markdown",
   "metadata": {},
   "source": [
    "We report the discovery of the hyperluminous, highly obscured AGN WISE J190445.04+485308.9\n",
    "(W1904+4853 hereafter, Lbol ∼ 1.1 × 10^13 L⊙) at z = 0.415. "
   ]
  },
  {
   "cell_type": "markdown",
   "metadata": {
    "ExecuteTime": {
     "end_time": "2023-09-13T13:37:46.060009Z",
     "start_time": "2023-09-13T13:37:45.982851Z"
    }
   },
   "source": [
    "wiseAGN_hdul=fits.open('/Volumes/ExtremeSSD/Survey_fits/Survey_fits/Survey_fits/AGN/The WISE AGN candidates catalogs/J_ApJS_234_23_r90cat.dat.gz.fits')\n",
    "\n",
    "\n",
    "wiseAGN_hdul.info()\n",
    "\n",
    "wiseAGN_data=wiseAGN_hdul[1].data\n",
    "\n",
    "from astropy.table import Table\n",
    "t = Table([wiseAGN_data['W1mag']-wiseAGN_data['W2mag'], wiseAGN_data['W2mag']-wiseAGN_data['W3mag'], wiseAGN_data['WISEA']], names=('W1-W2', 'W2-W3', 'WISEA'))\n",
    "t.write('WISEColor_table1.fits', format='fits')\n"
   ]
  },
  {
   "cell_type": "code",
   "execution_count": null,
   "metadata": {},
   "outputs": [],
   "source": []
  },
  {
   "cell_type": "code",
   "execution_count": null,
   "metadata": {
    "ExecuteTime": {
     "end_time": "2023-09-13T13:38:06.359704Z",
     "start_time": "2023-09-13T13:38:06.348311Z"
    }
   },
   "outputs": [],
   "source": [
    "wiseAGN_data.columns"
   ]
  },
  {
   "cell_type": "code",
   "execution_count": null,
   "metadata": {
    "ExecuteTime": {
     "end_time": "2023-09-13T13:42:25.680381Z",
     "start_time": "2023-09-13T13:42:23.021920Z"
    }
   },
   "outputs": [],
   "source": [
    "wiseAGN_data['WISEA'][0]"
   ]
  },
  {
   "cell_type": "code",
   "execution_count": null,
   "metadata": {
    "ExecuteTime": {
     "end_time": "2023-09-13T13:50:10.373843Z",
     "start_time": "2023-09-13T13:50:10.362203Z"
    }
   },
   "outputs": [],
   "source": [
    "wiseAGN_data['W2mag'][1],wiseAGN_data['W3mag'][1]"
   ]
  },
  {
   "cell_type": "code",
   "execution_count": null,
   "metadata": {
    "ExecuteTime": {
     "end_time": "2023-09-13T13:50:48.515162Z",
     "start_time": "2023-09-13T13:50:48.495460Z"
    }
   },
   "outputs": [],
   "source": [
    "np.sum(wiseAGN_data['W3mag'])#[:10]"
   ]
  },
  {
   "cell_type": "code",
   "execution_count": null,
   "metadata": {
    "ExecuteTime": {
     "end_time": "2023-09-13T13:51:01.822960Z",
     "start_time": "2023-09-13T13:50:58.135205Z"
    }
   },
   "outputs": [],
   "source": [
    "np.sum(wiseAGN_data['W4mag'])#[:10]"
   ]
  },
  {
   "cell_type": "code",
   "execution_count": null,
   "metadata": {
    "ExecuteTime": {
     "end_time": "2023-09-15T08:50:12.690785Z",
     "start_time": "2023-09-15T08:50:12.679732Z"
    }
   },
   "outputs": [],
   "source": [
    "wiseAGN_data['W3mag'][:10]"
   ]
  },
  {
   "cell_type": "code",
   "execution_count": null,
   "metadata": {},
   "outputs": [],
   "source": []
  },
  {
   "cell_type": "code",
   "execution_count": null,
   "metadata": {
    "ExecuteTime": {
     "end_time": "2023-09-13T13:43:45.740372Z",
     "start_time": "2023-09-13T13:43:39.328637Z"
    }
   },
   "outputs": [],
   "source": []
  },
  {
   "cell_type": "markdown",
   "metadata": {},
   "source": [
    "wiseAGN_data['W1mag']-wiseAGN_data['W2mag']\n",
    "\n",
    "wiseAGN_data['W2mag']-wiseAGN_data['W3mag']"
   ]
  },
  {
   "cell_type": "code",
   "execution_count": null,
   "metadata": {
    "ExecuteTime": {
     "end_time": "2023-09-13T13:44:12.573507Z",
     "start_time": "2023-09-13T13:44:12.458212Z"
    }
   },
   "outputs": [],
   "source": []
  },
  {
   "cell_type": "code",
   "execution_count": null,
   "metadata": {
    "ExecuteTime": {
     "end_time": "2023-09-13T13:51:16.089953Z",
     "start_time": "2023-09-13T13:51:16.081408Z"
    }
   },
   "outputs": [],
   "source": [
    "len(WISEColor_table)"
   ]
  },
  {
   "cell_type": "code",
   "execution_count": null,
   "metadata": {
    "ExecuteTime": {
     "end_time": "2023-09-13T13:51:06.256787Z",
     "start_time": "2023-09-13T13:51:06.182567Z"
    }
   },
   "outputs": [],
   "source": []
  },
  {
   "cell_type": "code",
   "execution_count": null,
   "metadata": {
    "ExecuteTime": {
     "end_time": "2023-09-13T13:51:25.707146Z",
     "start_time": "2023-09-13T13:51:25.698029Z"
    }
   },
   "outputs": [],
   "source": [
    "len(WISEColor_table_select)"
   ]
  },
  {
   "cell_type": "code",
   "execution_count": null,
   "metadata": {
    "ExecuteTime": {
     "end_time": "2023-09-13T13:52:29.407912Z",
     "start_time": "2023-09-13T13:52:29.389093Z"
    }
   },
   "outputs": [],
   "source": [
    "WISEColor_table_select_=WISEColor_table_select[WISEColor_table_select['WISEA']=='J190445.04+485308.9']"
   ]
  },
  {
   "cell_type": "code",
   "execution_count": null,
   "metadata": {
    "ExecuteTime": {
     "end_time": "2023-09-13T13:52:34.810360Z",
     "start_time": "2023-09-13T13:52:34.800234Z"
    }
   },
   "outputs": [],
   "source": [
    "WISEColor_table_select_"
   ]
  },
  {
   "cell_type": "code",
   "execution_count": null,
   "metadata": {
    "ExecuteTime": {
     "end_time": "2023-09-15T08:51:56.818526Z",
     "start_time": "2023-09-15T08:51:56.807998Z"
    }
   },
   "outputs": [],
   "source": [
    "wiseAGN_table1_hdul=fits.open('/Volumes/ExtremeSSD/Survey_fits/Survey_fits/Survey_fits/AGN/The WISE AGN candidates catalogs/table1.bin.fits.gz')\n"
   ]
  },
  {
   "cell_type": "code",
   "execution_count": null,
   "metadata": {
    "ExecuteTime": {
     "end_time": "2023-09-15T08:51:59.057443Z",
     "start_time": "2023-09-15T08:51:57.259272Z"
    }
   },
   "outputs": [],
   "source": [
    "wiseAGN_table1_hdul.info()"
   ]
  },
  {
   "cell_type": "code",
   "execution_count": null,
   "metadata": {
    "ExecuteTime": {
     "end_time": "2023-09-15T08:51:59.062148Z",
     "start_time": "2023-09-15T08:51:59.059215Z"
    }
   },
   "outputs": [],
   "source": [
    "wiseAGN_table1_hdul[0].header"
   ]
  },
  {
   "cell_type": "code",
   "execution_count": null,
   "metadata": {
    "ExecuteTime": {
     "end_time": "2023-09-15T08:52:02.916487Z",
     "start_time": "2023-09-15T08:52:00.816548Z"
    }
   },
   "outputs": [],
   "source": [
    "wiseAGN_data=wiseAGN_table1_hdul[1].data#.columns"
   ]
  },
  {
   "cell_type": "code",
   "execution_count": null,
   "metadata": {
    "ExecuteTime": {
     "end_time": "2023-09-15T08:52:04.814844Z",
     "start_time": "2023-09-15T08:52:04.807484Z"
    }
   },
   "outputs": [],
   "source": [
    "len(wiseAGN_table1_hdul[1].data)"
   ]
  },
  {
   "cell_type": "code",
   "execution_count": null,
   "metadata": {
    "ExecuteTime": {
     "end_time": "2023-09-15T08:52:22.535120Z",
     "start_time": "2023-09-15T08:52:22.528058Z"
    }
   },
   "outputs": [],
   "source": [
    "wiseAGN_data.columns"
   ]
  },
  {
   "cell_type": "code",
   "execution_count": null,
   "metadata": {
    "ExecuteTime": {
     "end_time": "2023-09-15T08:49:50.697546Z",
     "start_time": "2023-09-15T08:49:50.688186Z"
    }
   },
   "outputs": [],
   "source": [
    "#wiseAGN_table1_hdul[1].data['w3mpro'][0]"
   ]
  },
  {
   "cell_type": "code",
   "execution_count": null,
   "metadata": {
    "ExecuteTime": {
     "end_time": "2023-09-15T08:53:58.324319Z",
     "start_time": "2023-09-15T08:53:52.749209Z"
    }
   },
   "outputs": [],
   "source": [
    "from astropy.table import Table\n",
    "t = Table([wiseAGN_data['w1mpro']-wiseAGN_data['w2mpro'], wiseAGN_data['w2mpro']-wiseAGN_data['w3mpro'], wiseAGN_data['WISE_Designation']], names=('W1-W2', 'W2-W3', 'WISENAME'))\n",
    "t.write('WISEColor_table1.fits', format='fits')\n"
   ]
  },
  {
   "cell_type": "markdown",
   "metadata": {
    "ExecuteTime": {
     "end_time": "2023-09-15T08:53:49.672263Z",
     "start_time": "2023-09-15T08:53:49.441480Z"
    }
   },
   "source": [
    "rm WISEColor_table1.fits"
   ]
  },
  {
   "cell_type": "code",
   "execution_count": null,
   "metadata": {
    "ExecuteTime": {
     "end_time": "2023-09-15T08:54:24.042597Z",
     "start_time": "2023-09-15T08:54:23.919671Z"
    }
   },
   "outputs": [],
   "source": [
    "WISEColor_table=Table.read('WISEColor_table1.fits')\n",
    "\n",
    "WISEColor_table_select= WISEColor_table[WISEColor_table['W1-W2']>1.9]\n",
    "WISEColor_table_select=WISEColor_table_select[WISEColor_table_select['W1-W2']<3.0]\n",
    "\n",
    "WISEColor_table_select=WISEColor_table_select[WISEColor_table_select['W2-W3']<5.3]\n",
    "WISEColor_table_select=WISEColor_table_select[WISEColor_table_select['W2-W3']>2.9]"
   ]
  },
  {
   "cell_type": "code",
   "execution_count": null,
   "metadata": {
    "ExecuteTime": {
     "end_time": "2023-09-15T08:54:27.341879Z",
     "start_time": "2023-09-15T08:54:27.330843Z"
    }
   },
   "outputs": [],
   "source": [
    "WISEColor_table_select"
   ]
  },
  {
   "cell_type": "markdown",
   "metadata": {},
   "source": [
    "# 5OXCLAGN"
   ]
  },
  {
   "cell_type": "code",
   "execution_count": null,
   "metadata": {
    "ExecuteTime": {
     "end_time": "2023-11-19T06:17:18.756782Z",
     "start_time": "2023-11-19T06:17:18.751380Z"
    }
   },
   "outputs": [],
   "source": [
    "OX_CLAGN5_nustar=['ESO 362-G18', 'NGC 2992', 'NGC 4151','NGC 7582','NGC 1365']\n",
    "OX_CLAGN5_redshift=[0.0124,0.0077,0.0033,0.0053,0.0055]\n",
    "OX_CLAGN5_galNH=[1.8*0.01,5.5*0.01,2.3*0.01,1.3*0.01,1.3*0.01]\n",
    "OX_CLAGN5_logM=[7.65,7.48,7.56,7.74,6.65]\n",
    "OX_CLAGN5_inclination=[53,70,58,68,57]"
   ]
  },
  {
   "cell_type": "code",
   "execution_count": null,
   "metadata": {
    "ExecuteTime": {
     "end_time": "2023-09-27T05:23:43.779179Z",
     "start_time": "2023-09-27T05:23:43.776838Z"
    }
   },
   "outputs": [],
   "source": [
    "os.mkdir('/Users/lyubing/Downloads/OXCLAGN/WISEplot')"
   ]
  },
  {
   "cell_type": "code",
   "execution_count": null,
   "metadata": {
    "ExecuteTime": {
     "end_time": "2023-09-27T05:23:54.919278Z",
     "start_time": "2023-09-27T05:23:54.694295Z"
    }
   },
   "outputs": [],
   "source": [
    "!open /Users/lyubing/Downloads/OXCLAGN/WISEplot"
   ]
  },
  {
   "cell_type": "code",
   "execution_count": null,
   "metadata": {
    "ExecuteTime": {
     "end_time": "2023-09-27T05:22:48.115795Z",
     "start_time": "2023-09-27T05:22:48.111272Z"
    }
   },
   "outputs": [],
   "source": [
    "wise_rebin_lc?"
   ]
  },
  {
   "cell_type": "code",
   "execution_count": null,
   "metadata": {
    "ExecuteTime": {
     "end_time": "2023-09-27T05:29:59.749258Z",
     "start_time": "2023-09-27T05:26:56.166227Z"
    }
   },
   "outputs": [],
   "source": [
    "for i in OX_CLAGN5_nustar[:4]:\n",
    "    download_wise(i,'/Users/lyubing/Downloads/OXCLAGN/WISEplot')\n",
    "    wise_rebin_lc(i,'/Users/lyubing/Downloads/OXCLAGN/WISEplot','/Users/lyubing/Downloads/OXCLAGN/WISEplot')\n",
    "    "
   ]
  },
  {
   "cell_type": "code",
   "execution_count": null,
   "metadata": {
    "ExecuteTime": {
     "end_time": "2023-09-27T05:48:17.080714Z",
     "start_time": "2023-09-27T05:48:14.852187Z"
    }
   },
   "outputs": [],
   "source": [
    "name='NGC 1365'\n",
    "#download_wise(name,'/Users/lyubing/Downloads/OXCLAGN/WISEplot')\n",
    "wise_rebin_lcandcolor(name,'/Users/lyubing/Downloads/OXCLAGN/WISEplot','/Users/lyubing/Downloads/OXCLAGN/WISEplot')"
   ]
  },
  {
   "cell_type": "code",
   "execution_count": null,
   "metadata": {
    "ExecuteTime": {
     "end_time": "2023-09-27T05:49:35.347268Z",
     "start_time": "2023-09-27T05:49:24.183208Z"
    }
   },
   "outputs": [],
   "source": [
    "for i in OX_CLAGN5_nustar[:5]:\n",
    "    #download_wise(i,'/Users/lyubing/Downloads/OXCLAGN/WISEplot')\n",
    "    wise_rebin_lcandcolor(i,'/Users/lyubing/Downloads/OXCLAGN/WISEplot','/Users/lyubing/Downloads/OXCLAGN/WISEplot')\n",
    "    "
   ]
  },
  {
   "cell_type": "code",
   "execution_count": null,
   "metadata": {
    "ExecuteTime": {
     "end_time": "2023-11-19T06:17:43.269174Z",
     "start_time": "2023-11-19T06:17:42.895163Z"
    }
   },
   "outputs": [],
   "source": [
    "!open /Users/lyubing/Downloads/OXCLAGN/WISEplot"
   ]
  },
  {
   "cell_type": "markdown",
   "metadata": {},
   "source": [
    "## scaled_fits_dir"
   ]
  },
  {
   "cell_type": "code",
   "execution_count": 54,
   "metadata": {
    "ExecuteTime": {
     "end_time": "2023-12-03T12:50:56.290318Z",
     "start_time": "2023-12-03T12:50:56.287706Z"
    }
   },
   "outputs": [],
   "source": [
    "scaled_fits_dir='/Users/lyubing/Downloads/LAMOST/PyCali-master_v0/code/lamostz_scaled_fits_dir'\n",
    "\n",
    "lamostdr10_12_matchSDSS_ztfdata='/Volumes/ExtremeSSD/data_source/ZTFdata/LAMOSTdr10_12'\n",
    "lamostdr6_9_matchSDSS_ztfdata='/Volumes/ExtremeSSD/data_source/ZTFdata/LAMOST_dr6_9/'\n",
    "ztf_dir_dr10v1matchSDSSdr16Q='/Volumes/ExtremeSSD/data_source/ZTFdata/dr10v1_match_sdssdr16Q/'\n",
    "\n",
    "wisedata_path='/Users/lyubing/Downloads/LAMOST/CLAGN_candidates/WISE_lc_CLC/'\n",
    "\n",
    "dr6to9_dir_lamost_scaled='/Users/lyubing/Downloads/LAMOST/CLAGN_candidates/dr6to9CLAGN_candidates/jin_scaled/LvBin/'\n",
    "dr10v1galaxy_dir_lamost_unscaled='/Users/lyubing/Downloads/LAMOST/CLAGN_candidates/dr10v1galaxy_matchsdssdr16Q/'\n",
    "\n",
    "\n",
    "plotdir='/Users/lyubing/Downloads/LAMOST/CLAGN_candidates/spec_ztf_wise_plot/'"
   ]
  },
  {
   "cell_type": "markdown",
   "metadata": {},
   "source": [
    "## def plot_spec_ztf_wise_lc"
   ]
  },
  {
   "cell_type": "markdown",
   "metadata": {},
   "source": [
    "## def plot_spec_ztf_wise_lc_dr6and9"
   ]
  },
  {
   "cell_type": "code",
   "execution_count": 51,
   "metadata": {
    "ExecuteTime": {
     "end_time": "2023-12-03T12:50:07.571483Z",
     "start_time": "2023-12-03T12:50:07.543892Z"
    }
   },
   "outputs": [],
   "source": [
    "def plot_spec_ztf_wise_lc_dr6and9(obsid,ra,dec,z_i,specdir,ztfdir,wisedir,plotdir,marker=\".\", mec=\"0.7\", ms=6, ecolor=\"0.7\", ls=\"\", zorder=4,**kwargs):\n",
    "    #filename_lamost='%d.fits'%obsid\n",
    "    filename_lamost='%d_cali_Jin.fits'%obsid\n",
    "    file_lamost=os.path.join(specdir,filename_lamost)    \n",
    "    #scaled_sp= LAMOST_Spec(file_lamost,redshift=[z_i])\n",
    "    scaled_sp= LAMOST_Spec_Jinscaled(file_lamost,redshift=[z_i])\n",
    "    \n",
    "    mjd=scaled_sp.mjd\n",
    "    \n",
    "    prop = dict(marker=marker, mec=mec, ms=ms, ecolor=ecolor, ls=ls, zorder=zorder)\n",
    "    \n",
    "    \n",
    "    \n",
    "    \n",
    "    ztfsave_name='id%dra%.5f_dec%.5f'%(obsid,ra,dec)\n",
    "    ztf_file_path='%s/%s.csv'%(ztfdir,ztfsave_name)\n",
    "    data=pd.read_csv(ztf_file_path) \n",
    "    \n",
    "    data_test_neo,data_test_mep=get_wise_radec_data(ra,dec,datawise_dir=wisedir)\n",
    "    data_rebin_neo,data_rebin_mep=get_rebinwise_data(data_test_neo,data_test_mep,sigma_outlier=100) \n",
    "\n",
    "    \n",
    "    \n",
    "    fig=plt.figure()\n",
    "    fig = plt.figure(figsize=(20,8))\n",
    "    fig.subplots_adjust(hspace=0.0, wspace = 0.2)\n",
    "    ax = fig.add_subplot(121) \n",
    "\n",
    "    ax.plot(scaled_sp.wave/(1+scaled_sp.redshift), scaled_sp.flux)\n",
    "    ax.set_xlabel(r'Wavelength/(1+z) [$\\mathrm{\\AA}$]')\n",
    "\n",
    "    ax.set_ylabel(r'Flux [$\\mathrm{10^{-17} erg\\;s^{-1}\\;cm^{-2}\\;\\AA^{-1}}$]')\n",
    "    ax.set_title('ra%.5fdec%.5f z=%.3f mjd%d'%(scaled_sp.ra,scaled_sp.dec,scaled_sp.redshift,scaled_sp.mjd))\n",
    "    \n",
    "    \n",
    "    ax1 = fig.add_subplot(222)\n",
    "    \n",
    "    \n",
    "    lc_dataframe = data[data['filtercode']=='zg']\n",
    "    lc_dataframe=drop_index(lc_dataframe)\n",
    "    \n",
    "    lc_dataframe_zr = data[data['filtercode']=='zr']\n",
    "    lc_dataframe_zr=drop_index(lc_dataframe_zr)\n",
    "    \n",
    "    \n",
    "    \n",
    "    maxmjd= max(lc_dataframe['mjd'])\n",
    "    minmjd= min(lc_dataframe['mjd'])\n",
    "    delta_mjd=maxmjd-minmjd\n",
    "\n",
    "    if delta_mjd>750: \n",
    "        ma_intervals= 365\n",
    "        min_intervals= 90\n",
    "\n",
    "    if delta_mjd<750:     \n",
    "        ma_intervals= delta_mjd//3\n",
    "        mi_intervals= delta_mjd//6\n",
    "    \n",
    "    \n",
    "    ax1.errorbar(lc_dataframe['mjd'], lc_dataframe[\"mag\"], yerr=lc_dataframe[\"magerr\"],label='zg',\n",
    "                                **{**prop,**kwargs})\n",
    "    \n",
    "    ax1.errorbar(lc_dataframe_zr['mjd'], lc_dataframe_zr[\"mag\"], yerr=lc_dataframe_zr[\"magerr\"],label='zr',\n",
    "                               **{**prop1,**kwargs})\n",
    "\n",
    "        \n",
    "        \n",
    "    ax1.set_xlabel(\"MJD\")\n",
    "    #plot_secax(ax1,mi_interval=ma_intervals,ma_interval=min_intervals,rotation=30,)  \n",
    "    plot_secax(ax1,rotation=30,)  \n",
    "    ax1.axvline(mjd,color='black',ls=':',linewidth=1)\n",
    "\n",
    "    handles, labels = ax1.get_legend_handles_labels()\n",
    "    by_label = OrderedDict(zip(labels, handles))\n",
    "    ax1.legend(by_label.values(), by_label.keys(),bbox_to_anchor=(0.2, 0.99),ncol=1,\n",
    "          loc=2,fontsize=10)\n",
    "\n",
    "    #ax1.set_xlim(58100,59999)\n",
    "    \n",
    "    \n",
    "    ax2 = fig.add_subplot(224,sharex=ax1)\n",
    "    \n",
    "    plot_rebinmag_w1(ax2,data_rebin_neo,data_rebin_mep)\n",
    "    plot_rebinmag_w2(ax2,data_rebin_neo,data_rebin_mep)\n",
    "\n",
    "    #ax.scatter(data_test_neo['mjd'],data_test_neo['w1mpro'],color='red',label='W1')\n",
    "    #ax.scatter(data_test_mep['mjd'],data_test_mep['w1mpro_ep'],color='red',label='W1')\n",
    "\n",
    "    #plot_secax(ax2,mi_interval=365,ma_interval=365*2)\n",
    "    #ax.scatter(data_test_neo['mjd'],data_test_neo['w2mpro'],color='blue',label='W2')\n",
    "    #ax.scatter(data_test_mep['mjd'],data_test_mep['w2mpro_ep'],color='blue',label='W2')\n",
    "\n",
    "    handles, labels = ax2.get_legend_handles_labels()\n",
    "    by_label = OrderedDict(zip(labels, handles))\n",
    "    ax2.legend(by_label.values(), by_label.keys(),bbox_to_anchor=(0.2, 0.99),ncol=1,\n",
    "          loc=2,fontsize=10)\n",
    "\n",
    "    ax1.invert_yaxis()\n",
    "    ax2.invert_yaxis()\n",
    "\n",
    "    ax2.set_xlabel('mjd')\n",
    "    ax1.set_ylabel(r'$mag$')    \n",
    "    ax2.set_ylabel(r'$mag$')  \n",
    "    \n",
    "    save_lc_img_path=os.path.join(plotdir,'%d_z=%.4f.png'%(obsid,z_i))\n",
    "    if not os.path.exists(save_lc_img_path):\n",
    "        plt.savefig(save_lc_img_path,dpi=400, transparent=False, bbox_inches='tight')\n",
    "    plt.close()    \n",
    "        \n",
    "    #return fig,ax,ax1,ax2\n"
   ]
  },
  {
   "cell_type": "code",
   "execution_count": null,
   "metadata": {},
   "outputs": [],
   "source": []
  },
  {
   "cell_type": "markdown",
   "metadata": {},
   "source": [
    "## def plot_spec_ztf_wise_lc_dr10and12"
   ]
  },
  {
   "cell_type": "code",
   "execution_count": null,
   "metadata": {
    "ExecuteTime": {
     "end_time": "2023-11-26T08:22:15.891400Z",
     "start_time": "2023-11-26T08:22:15.879862Z"
    }
   },
   "outputs": [],
   "source": [
    "def plot_spec_ztf_wise_lc_dr10and12(obsid,ra,dec,z_i,specdir,ztfdir,wisedir,plotdir,marker=\".\", mec=\"0.7\", ms=6, ls=\"\", zorder=4,**kwargs):\n",
    "    filename_lamost='%d.fits'%obsid\n",
    "    file_lamost=os.path.join(specdir,filename_lamost)    \n",
    "    scaled_sp= LAMOST_Spec(file_lamost,redshift=[z_i])\n",
    "    mjd=scaled_sp.mjd\n",
    "    \n",
    "    #ecolor=\"0.7\",\n",
    "    \n",
    "    prop = dict(marker=marker, mec=mec, ms=ms, ecolor='green', ls=ls, zorder=zorder)\n",
    "    \n",
    "    prop1 = dict(marker='*', mec=mec, ms=ms, ecolor='red', ls=ls, zorder=zorder)\n",
    "    \n",
    "    \n",
    "    ztfsave_name='id%dra%.5f_dec%.5f'%(obsid,ra,dec)\n",
    "    ztf_file_path='%s/%s.csv'%(ztfdir,ztfsave_name)\n",
    "    data=pd.read_csv(ztf_file_path) \n",
    "    \n",
    "    data_test_neo,data_test_mep=get_wise_radec_data(ra,dec,datawise_dir=wisedir)\n",
    "    data_rebin_neo,data_rebin_mep=get_rebinwise_data(data_test_neo,data_test_mep,sigma_outlier=100) \n",
    "\n",
    "    \n",
    "    \n",
    "    fig=plt.figure()\n",
    "    fig = plt.figure(figsize=(20,8))\n",
    "    fig.subplots_adjust(hspace=0.0, wspace = 0.2)\n",
    "    ax = fig.add_subplot(121) \n",
    "\n",
    "    ax.plot(scaled_sp.wave/(1+scaled_sp.redshift), scaled_sp.flux)\n",
    "    ax.set_xlabel(r'Wavelength/(1+z) [$\\mathrm{\\AA}$]')\n",
    "\n",
    "    ax.set_ylabel(r'Flux [$\\mathrm{10^{-17} erg\\;s^{-1}\\;cm^{-2}\\;\\AA^{-1}}$]')\n",
    "    ax.set_title('ra%.5fdec%.5f z=%.3f mjd%d'%(scaled_sp.ra,scaled_sp.dec,scaled_sp.redshift,scaled_sp.mjd))\n",
    "    \n",
    "    \n",
    "    ax1 = fig.add_subplot(222)\n",
    "    \n",
    "    \n",
    "    lc_dataframe = data[data['filtercode']=='zg']\n",
    "    lc_dataframe=drop_index(lc_dataframe)\n",
    "    \n",
    "    lc_dataframe_zr = data[data['filtercode']=='zr']\n",
    "    lc_dataframe_zr=drop_index(lc_dataframe_zr)\n",
    "    \n",
    "    \n",
    "    maxmjd= max(lc_dataframe['mjd'])\n",
    "    minmjd= min(lc_dataframe['mjd'])\n",
    "    delta_mjd=maxmjd-minmjd\n",
    "\n",
    "    if delta_mjd>750: \n",
    "        ma_intervals= 365\n",
    "        min_intervals= 90\n",
    "\n",
    "    if delta_mjd<750:     \n",
    "        ma_intervals= delta_mjd//3\n",
    "        mi_intervals= delta_mjd//6\n",
    "    \n",
    "    \n",
    "    ax1.errorbar(lc_dataframe['mjd'], lc_dataframe[\"mag\"], yerr=lc_dataframe[\"magerr\"],label='zg',\n",
    "                                **{**prop,**kwargs})\n",
    "    \n",
    "    ax1.errorbar(lc_dataframe_zr['mjd'], lc_dataframe_zr[\"mag\"], yerr=lc_dataframe_zr[\"magerr\"],label='zr',\n",
    "                               **{**prop1,**kwargs})\n",
    "    \n",
    "    \n",
    "    \n",
    "    ax1.set_xlabel(\"MJD\")\n",
    "    #plot_secax(ax1,mi_interval=ma_intervals,ma_interval=min_intervals,rotation=30,)  \n",
    "    plot_secax(ax1,rotation=30,)  \n",
    "    ax1.axvline(mjd,color='black',ls=':',linewidth=1)\n",
    "\n",
    "    handles, labels = ax1.get_legend_handles_labels()\n",
    "    by_label = OrderedDict(zip(labels, handles))\n",
    "    ax1.legend(by_label.values(), by_label.keys(),bbox_to_anchor=(0.2, 0.99),ncol=1,\n",
    "          loc=2,fontsize=10)\n",
    "\n",
    "    #ax1.set_xlim(58100,59999)\n",
    "    \n",
    "    \n",
    "    ax2 = fig.add_subplot(224,sharex=ax1)\n",
    "    \n",
    "    plot_rebinmag_w1(ax2,data_rebin_neo,data_rebin_mep)\n",
    "    plot_rebinmag_w2(ax2,data_rebin_neo,data_rebin_mep)\n",
    "\n",
    "    #ax.scatter(data_test_neo['mjd'],data_test_neo['w1mpro'],color='red',label='W1')\n",
    "    #ax.scatter(data_test_mep['mjd'],data_test_mep['w1mpro_ep'],color='red',label='W1')\n",
    "\n",
    "    #plot_secax(ax2,mi_interval=365,ma_interval=365*2)\n",
    "    #ax.scatter(data_test_neo['mjd'],data_test_neo['w2mpro'],color='blue',label='W2')\n",
    "    #ax.scatter(data_test_mep['mjd'],data_test_mep['w2mpro_ep'],color='blue',label='W2')\n",
    "\n",
    "    handles, labels = ax2.get_legend_handles_labels()\n",
    "    by_label = OrderedDict(zip(labels, handles))\n",
    "    ax2.legend(by_label.values(), by_label.keys(),bbox_to_anchor=(0.2, 0.99),ncol=1,\n",
    "          loc=2,fontsize=10)\n",
    "\n",
    "    ax1.invert_yaxis()\n",
    "    ax2.invert_yaxis()\n",
    "\n",
    "    ax2.set_xlabel('mjd')\n",
    "    ax1.set_ylabel(r'$mag$')    \n",
    "    ax2.set_ylabel(r'$mag$')  \n",
    "    \n",
    "    save_lc_img_path=os.path.join(plotdir,'%d_z=%.4f.png'%(obsid,z_i))\n",
    "    if not os.path.exists(save_lc_img_path):\n",
    "        plt.savefig(save_lc_img_path,dpi=400, transparent=False, bbox_inches='tight')\n",
    "    plt.close()    \n",
    "        \n",
    "    #return fig,ax,ax1,ax2\n"
   ]
  },
  {
   "cell_type": "markdown",
   "metadata": {},
   "source": [
    "## def plot_spec_ztf_wise_lc_dr10galaxy"
   ]
  },
  {
   "cell_type": "code",
   "execution_count": 72,
   "metadata": {
    "ExecuteTime": {
     "end_time": "2023-12-03T13:09:42.248966Z",
     "start_time": "2023-12-03T13:09:42.224031Z"
    }
   },
   "outputs": [],
   "source": [
    "def plot_spec_ztf_wise_lc_dr10galaxy(obsid,mjdsdss,ra,dec,z_i,specdir,ztfdir,wisedir,plotdir,marker=\".\", mec=\"0.7\", ms=6, ecolor=\"0.7\", ls=\"\", zorder=4,**kwargs):\n",
    "    #filename_lamost='%d.fits'%obsid\n",
    "    filename_lamost='%d_spec.fits'%obsid\n",
    "    file_lamost=os.path.join(specdir,filename_lamost)    \n",
    "    #scaled_sp= LAMOST_Spec(file_lamost,redshift=[z_i])\n",
    "    scaled_sp= LAMOST_Spec(file_lamost,redshift=[z_i])\n",
    "    \n",
    "    mjd=scaled_sp.mjd\n",
    "    \n",
    "    prop = dict(marker=marker, mec=mec, ms=ms, ecolor=ecolor, ls=ls, zorder=zorder)\n",
    "    \n",
    "    prop1 = dict(marker='*', mec=mec, ms=ms, ecolor='red', ls=ls, zorder=zorder)    \n",
    "    \n",
    "    \n",
    "    ztfsave_name='id%dra%.5f_dec%.5f'%(obsid,ra,dec)\n",
    "    ztf_file_path='%s/%s.csv'%(ztfdir,ztfsave_name)\n",
    "    data=pd.read_csv(ztf_file_path) \n",
    "    \n",
    "    data_test_neo,data_test_mep=get_wise_radec_data(ra,dec,datawise_dir=wisedir)\n",
    "    data_rebin_neo,data_rebin_mep=get_rebinwise_data(data_test_neo,data_test_mep,sigma_outlier=100) \n",
    "\n",
    "    \n",
    "    \n",
    "    fig=plt.figure()\n",
    "    fig = plt.figure(figsize=(20,8))\n",
    "    fig.subplots_adjust(hspace=0.0, wspace = 0.2)\n",
    "    ax = fig.add_subplot(121) \n",
    "\n",
    "    ax.plot(scaled_sp.wave/(1+scaled_sp.redshift), scaled_sp.flux)\n",
    "    ax.set_xlabel(r'Wavelength/(1+z) [$\\mathrm{\\AA}$]')\n",
    "\n",
    "    ax.set_ylabel(r'Flux [$\\mathrm{10^{-17} erg\\;s^{-1}\\;cm^{-2}\\;\\AA^{-1}}$]')\n",
    "    ax.set_title('ra%.5fdec%.5f z=%.3f mjd%d'%(scaled_sp.ra,scaled_sp.dec,scaled_sp.redshift,scaled_sp.mjd))\n",
    "    \n",
    "    \n",
    "    ax1 = fig.add_subplot(222)\n",
    "    \n",
    "    \n",
    "    lc_dataframe = data[data['filtercode']=='zg']\n",
    "    lc_dataframe=drop_index(lc_dataframe)\n",
    "    \n",
    "    lc_dataframe_zr = data[data['filtercode']=='zr']\n",
    "    lc_dataframe_zr=drop_index(lc_dataframe_zr)\n",
    "    \n",
    "    \n",
    "    \n",
    "    maxmjd= max(lc_dataframe['mjd'])\n",
    "    minmjd= min(lc_dataframe['mjd'])\n",
    "    delta_mjd=maxmjd-minmjd\n",
    "\n",
    "    if delta_mjd>750: \n",
    "        ma_intervals= 365\n",
    "        min_intervals= 90\n",
    "\n",
    "    if delta_mjd<750:     \n",
    "        ma_intervals= delta_mjd//3\n",
    "        mi_intervals= delta_mjd//6\n",
    "    \n",
    "    \n",
    "    ax1.errorbar(lc_dataframe['mjd'], lc_dataframe[\"mag\"], yerr=lc_dataframe[\"magerr\"],label='zg',\n",
    "                                **{**prop,**kwargs})\n",
    "    \n",
    "    ax1.errorbar(lc_dataframe_zr['mjd'], lc_dataframe_zr[\"mag\"], yerr=lc_dataframe_zr[\"magerr\"],label='zr',\n",
    "                               **{**prop1,**kwargs})\n",
    "\n",
    "        \n",
    "        \n",
    "    ax1.set_xlabel(\"MJD\")\n",
    "    #plot_secax(ax1,mi_interval=ma_intervals,ma_interval=min_intervals,rotation=30,)  \n",
    "    plot_secax(ax1,rotation=30,)  \n",
    "    ax1.axvline(mjd,color='black',ls=':',linewidth=1)\n",
    "    \n",
    "    ax1.axvline(mjdsdss,color='black',ls='-',linewidth=2)\n",
    "    \n",
    "\n",
    "    handles, labels = ax1.get_legend_handles_labels()\n",
    "    by_label = OrderedDict(zip(labels, handles))\n",
    "    ax1.legend(by_label.values(), by_label.keys(),bbox_to_anchor=(0.2, 0.99),ncol=1,\n",
    "          loc=2,fontsize=10)\n",
    "\n",
    "    #ax1.set_xlim(58100,59999)\n",
    "    \n",
    "    \n",
    "    ax2 = fig.add_subplot(224,sharex=ax1)\n",
    "    \n",
    "    plot_rebinmag_w1(ax2,data_rebin_neo,data_rebin_mep)\n",
    "    plot_rebinmag_w2(ax2,data_rebin_neo,data_rebin_mep)\n",
    "\n",
    "    #ax.scatter(data_test_neo['mjd'],data_test_neo['w1mpro'],color='red',label='W1')\n",
    "    #ax.scatter(data_test_mep['mjd'],data_test_mep['w1mpro_ep'],color='red',label='W1')\n",
    "\n",
    "    #plot_secax(ax2,mi_interval=365,ma_interval=365*2)\n",
    "    #ax.scatter(data_test_neo['mjd'],data_test_neo['w2mpro'],color='blue',label='W2')\n",
    "    #ax.scatter(data_test_mep['mjd'],data_test_mep['w2mpro_ep'],color='blue',label='W2')\n",
    "\n",
    "    handles, labels = ax2.get_legend_handles_labels()\n",
    "    by_label = OrderedDict(zip(labels, handles))\n",
    "    ax2.legend(by_label.values(), by_label.keys(),bbox_to_anchor=(0.2, 0.99),ncol=1,\n",
    "          loc=2,fontsize=10)\n",
    "\n",
    "    ax1.invert_yaxis()\n",
    "    ax2.invert_yaxis()\n",
    "\n",
    "    ax2.set_xlabel('mjd')\n",
    "    ax1.set_ylabel(r'$mag$')    \n",
    "    ax2.set_ylabel(r'$mag$')  \n",
    "    \n",
    "    save_lc_img_path=os.path.join(plotdir,'%d_z=%.4f.png'%(obsid,z_i))\n",
    "    if not os.path.exists(save_lc_img_path):\n",
    "        plt.savefig(save_lc_img_path,dpi=400, transparent=False, bbox_inches='tight')\n",
    "    plt.close()    \n",
    "        \n",
    "    #return fig,ax,ax1,ax2\n"
   ]
  },
  {
   "cell_type": "code",
   "execution_count": null,
   "metadata": {},
   "outputs": [],
   "source": []
  },
  {
   "cell_type": "code",
   "execution_count": null,
   "metadata": {},
   "outputs": [],
   "source": []
  },
  {
   "cell_type": "markdown",
   "metadata": {},
   "source": [
    "## Pd_dr10and11_allQSO_CLC"
   ]
  },
  {
   "cell_type": "code",
   "execution_count": null,
   "metadata": {
    "ExecuteTime": {
     "end_time": "2023-11-26T08:07:53.302543Z",
     "start_time": "2023-11-26T08:07:53.290244Z"
    }
   },
   "outputs": [],
   "source": [
    "Pd_dr10and11_allQSO_CLC=pd.read_csv('/Users/lyubing/Downloads/Pd_dr10and11_allQSO_CLC.csv')"
   ]
  },
  {
   "cell_type": "code",
   "execution_count": null,
   "metadata": {
    "ExecuteTime": {
     "end_time": "2023-11-26T08:07:53.811940Z",
     "start_time": "2023-11-26T08:07:53.797851Z"
    }
   },
   "outputs": [],
   "source": [
    "Pd_dr10and11_allQSO_CLC_zr=pd.read_csv('/Users/lyubing/Downloads/LAMOST/Pd_dr10and11_allQSO_CLC1.csv')"
   ]
  },
  {
   "cell_type": "code",
   "execution_count": null,
   "metadata": {
    "ExecuteTime": {
     "end_time": "2023-11-26T08:06:01.322307Z",
     "start_time": "2023-11-26T08:06:01.297249Z"
    }
   },
   "outputs": [],
   "source": [
    "Pd_dr10and11_allQSO_CLC_zr"
   ]
  },
  {
   "cell_type": "code",
   "execution_count": null,
   "metadata": {
    "ExecuteTime": {
     "end_time": "2023-11-26T08:04:49.401105Z",
     "start_time": "2023-11-26T08:04:49.380525Z"
    }
   },
   "outputs": [],
   "source": [
    "Pd_dr10and11_allQSO_CLC#.head"
   ]
  },
  {
   "cell_type": "code",
   "execution_count": null,
   "metadata": {},
   "outputs": [],
   "source": []
  },
  {
   "cell_type": "code",
   "execution_count": null,
   "metadata": {
    "ExecuteTime": {
     "end_time": "2023-11-26T08:13:16.981141Z",
     "start_time": "2023-11-26T08:10:40.534907Z"
    }
   },
   "outputs": [],
   "source": [
    "for index in range(len(Pd_dr10and11_allQSO_CLC)):\n",
    "    obsid=Pd_dr10and11_allQSO_CLC.loc[index,'OBSID']\n",
    "    ra=Pd_dr10and11_allQSO_CLC.loc[index,'objra']\n",
    "    dec=Pd_dr10and11_allQSO_CLC.loc[index,'objdec']\n",
    "    z_i=Pd_dr10and11_allQSO_CLC.loc[index,'z']\n",
    "    #fig,ax,ax1,ax2= \n",
    "    plot_spec_ztf_wise_lc_dr10and12(obsid,ra,dec,z_i,scaled_fits_dir,lamostdr10_12_matchSDSS_ztfdata,wisedata_path,plotdir)\n",
    "\n"
   ]
  },
  {
   "cell_type": "code",
   "execution_count": null,
   "metadata": {
    "ExecuteTime": {
     "end_time": "2023-11-26T08:35:33.592315Z",
     "start_time": "2023-11-26T08:35:17.774440Z"
    }
   },
   "outputs": [],
   "source": [
    "for index in range(len(Pd_dr10and11_allQSO_CLC_zr)):\n",
    "    obsid=Pd_dr10and11_allQSO_CLC_zr.loc[index,'OBSID']\n",
    "    ra=Pd_dr10and11_allQSO_CLC_zr.loc[index,'objra']\n",
    "    dec=Pd_dr10and11_allQSO_CLC_zr.loc[index,'objdec']\n",
    "    z_i=Pd_dr10and11_allQSO_CLC_zr.loc[index,'z']\n",
    "    #fig,ax,ax1,ax2= \n",
    "    \n",
    "    if len(Pd_dr10and11_allQSO_CLC[Pd_dr10and11_allQSO_CLC['OBSID']==obsid])==0:        \n",
    "        plot_spec_ztf_wise_lc_dr10and12(obsid,ra,dec,z_i,scaled_fits_dir,lamostdr10_12_matchSDSS_ztfdata,wisedata_path,plotdir)\n",
    "\n"
   ]
  },
  {
   "cell_type": "code",
   "execution_count": null,
   "metadata": {},
   "outputs": [],
   "source": []
  },
  {
   "cell_type": "code",
   "execution_count": null,
   "metadata": {},
   "outputs": [],
   "source": []
  },
  {
   "cell_type": "code",
   "execution_count": null,
   "metadata": {},
   "outputs": [],
   "source": []
  },
  {
   "cell_type": "code",
   "execution_count": null,
   "metadata": {},
   "outputs": [],
   "source": []
  },
  {
   "cell_type": "code",
   "execution_count": null,
   "metadata": {
    "ExecuteTime": {
     "end_time": "2023-11-19T07:32:10.241342Z",
     "start_time": "2023-11-19T07:31:20.902409Z"
    }
   },
   "outputs": [],
   "source": [
    "obsid=843701018\n",
    "ra=4.062822\n",
    "dec=11.098900\n",
    "z_i=0.393232\n",
    "specdir=dr6to9_dir_lamost_scaled\n",
    "ztfdir=lamostdr6_9_matchSDSS_ztfdata\n",
    "download_wise_withradec(ra,dec,wisedata_path)\n",
    "\n",
    "plot_spec_ztf_wise_lc_dr6and9(obsid,ra,dec,z_i,specdir,ztfdir,wisedata_path,plotdir)"
   ]
  },
  {
   "cell_type": "code",
   "execution_count": null,
   "metadata": {},
   "outputs": [],
   "source": [
    "239.22698 25.542666\n",
    "357.82726 6.4480648\n",
    "163.53826 41.474345"
   ]
  },
  {
   "cell_type": "markdown",
   "metadata": {},
   "source": [
    "## dr10galaxyclc"
   ]
  },
  {
   "cell_type": "code",
   "execution_count": 44,
   "metadata": {
    "ExecuteTime": {
     "end_time": "2023-12-03T12:47:07.989232Z",
     "start_time": "2023-12-03T12:47:07.961956Z"
    }
   },
   "outputs": [
    {
     "name": "stderr",
     "output_type": "stream",
     "text": [
      "/var/folders/jp/4mwsn7_x6j9gnv1hl1dztqth0000gn/T/ipykernel_6730/3442369713.py:1: ParserWarning: Falling back to the 'python' engine because the 'c' engine does not support regex separators (separators > 1 char and different from '\\s+' are interpreted as regex); you can avoid this warning by specifying engine='python'.\n",
      "  dr10galaxyclc=pd.read_csv('/Users/lyubing/Downloads/dr10galaxy_CLc.py',delimiter='\\s',header=None)\n"
     ]
    }
   ],
   "source": [
    "dr10galaxyclc=pd.read_csv('/Users/lyubing/Downloads/dr10galaxy_CLc.py',delimiter='\\s',header=None)\n",
    "\n",
    "dr10galaxyclc.columns=['index','obsid','plate','mjd','fiberid','ra','dec','z','L_fwhm','S_fwhm']\n",
    "\n",
    "dr10galaxyclc_s=dr10galaxyclc[dr10galaxyclc['L_fwhm']==0]\n",
    "dr10galaxyclc_s=drop_index(dr10galaxyclc_s)"
   ]
  },
  {
   "cell_type": "code",
   "execution_count": 50,
   "metadata": {
    "ExecuteTime": {
     "end_time": "2023-12-03T12:48:58.520827Z",
     "start_time": "2023-12-03T12:48:58.502223Z"
    }
   },
   "outputs": [
    {
     "data": {
      "text/html": [
       "<div>\n",
       "<style scoped>\n",
       "    .dataframe tbody tr th:only-of-type {\n",
       "        vertical-align: middle;\n",
       "    }\n",
       "\n",
       "    .dataframe tbody tr th {\n",
       "        vertical-align: top;\n",
       "    }\n",
       "\n",
       "    .dataframe thead th {\n",
       "        text-align: right;\n",
       "    }\n",
       "</style>\n",
       "<table border=\"1\" class=\"dataframe\">\n",
       "  <thead>\n",
       "    <tr style=\"text-align: right;\">\n",
       "      <th></th>\n",
       "      <th>index</th>\n",
       "      <th>obsid</th>\n",
       "      <th>plate</th>\n",
       "      <th>mjd</th>\n",
       "      <th>fiberid</th>\n",
       "      <th>ra</th>\n",
       "      <th>dec</th>\n",
       "      <th>z</th>\n",
       "      <th>L_fwhm</th>\n",
       "      <th>S_fwhm</th>\n",
       "    </tr>\n",
       "  </thead>\n",
       "  <tbody>\n",
       "    <tr>\n",
       "      <th>0</th>\n",
       "      <td>2</td>\n",
       "      <td>343710171</td>\n",
       "      <td>1655</td>\n",
       "      <td>53523</td>\n",
       "      <td>204</td>\n",
       "      <td>239.22698</td>\n",
       "      <td>25.542666</td>\n",
       "      <td>0.164468</td>\n",
       "      <td>0.0</td>\n",
       "      <td>7006.490610</td>\n",
       "    </tr>\n",
       "    <tr>\n",
       "      <th>1</th>\n",
       "      <td>4</td>\n",
       "      <td>505911087</td>\n",
       "      <td>4405</td>\n",
       "      <td>55854</td>\n",
       "      <td>585</td>\n",
       "      <td>357.82726</td>\n",
       "      <td>6.448065</td>\n",
       "      <td>0.092763</td>\n",
       "      <td>0.0</td>\n",
       "      <td>6571.016275</td>\n",
       "    </tr>\n",
       "    <tr>\n",
       "      <th>2</th>\n",
       "      <td>7</td>\n",
       "      <td>632304141</td>\n",
       "      <td>1435</td>\n",
       "      <td>52996</td>\n",
       "      <td>397</td>\n",
       "      <td>163.53826</td>\n",
       "      <td>41.474345</td>\n",
       "      <td>0.230396</td>\n",
       "      <td>0.0</td>\n",
       "      <td>7064.249480</td>\n",
       "    </tr>\n",
       "  </tbody>\n",
       "</table>\n",
       "</div>"
      ],
      "text/plain": [
       "   index      obsid  plate    mjd  fiberid         ra        dec         z  \\\n",
       "0      2  343710171   1655  53523      204  239.22698  25.542666  0.164468   \n",
       "1      4  505911087   4405  55854      585  357.82726   6.448065  0.092763   \n",
       "2      7  632304141   1435  52996      397  163.53826  41.474345  0.230396   \n",
       "\n",
       "   L_fwhm       S_fwhm  \n",
       "0     0.0  7006.490610  \n",
       "1     0.0  6571.016275  \n",
       "2     0.0  7064.249480  "
      ]
     },
     "execution_count": 50,
     "metadata": {},
     "output_type": "execute_result"
    }
   ],
   "source": [
    "dr10galaxyclc_s"
   ]
  },
  {
   "cell_type": "code",
   "execution_count": 65,
   "metadata": {
    "ExecuteTime": {
     "end_time": "2023-12-03T13:01:39.897848Z",
     "start_time": "2023-12-03T13:01:39.889352Z"
    }
   },
   "outputs": [],
   "source": [
    "for index in range(len(dr10galaxyclc_s)):\n",
    "    \n",
    "    obsid=dr10galaxyclc_s.loc[index,'obsid']\n",
    "    \n",
    "    ra=dr10galaxyclc_s.loc[index,'ra']\n",
    "    dec=dr10galaxyclc_s.loc[index,'dec']\n",
    "    z_i=dr10galaxyclc_s.loc[index,'z']\n",
    "    #fig,ax,ax1,ax2= \n",
    "    download_wise_withradec(ra,dec,wisedata_path)"
   ]
  },
  {
   "cell_type": "code",
   "execution_count": 63,
   "metadata": {
    "ExecuteTime": {
     "end_time": "2023-12-03T12:58:41.549797Z",
     "start_time": "2023-12-03T12:58:41.541051Z"
    }
   },
   "outputs": [
    {
     "data": {
      "text/plain": [
       "'/Users/lyubing/Downloads/LAMOST/CLAGN_candidates/WISE_lc_CLC/'"
      ]
     },
     "execution_count": 63,
     "metadata": {},
     "output_type": "execute_result"
    }
   ],
   "source": [
    "wisedata_path"
   ]
  },
  {
   "cell_type": "code",
   "execution_count": 64,
   "metadata": {
    "ExecuteTime": {
     "end_time": "2023-12-03T13:01:32.232483Z",
     "start_time": "2023-12-03T13:01:31.967173Z"
    }
   },
   "outputs": [],
   "source": [
    "!open /Users/lyubing/Downloads/LAMOST/CLAGN_candidates/WISE_lc_CLC/"
   ]
  },
  {
   "cell_type": "code",
   "execution_count": 68,
   "metadata": {
    "ExecuteTime": {
     "end_time": "2023-12-03T13:04:13.530676Z",
     "start_time": "2023-12-03T13:04:13.526651Z"
    }
   },
   "outputs": [],
   "source": [
    "plotdir_dr10galaxy='/Users/lyubing/Downloads/LAMOST/CLAGN_candidates/spec_ztf_wise_plot_dr10galaxy'"
   ]
  },
  {
   "cell_type": "code",
   "execution_count": null,
   "metadata": {},
   "outputs": [],
   "source": []
  },
  {
   "cell_type": "code",
   "execution_count": 74,
   "metadata": {
    "ExecuteTime": {
     "end_time": "2023-12-03T13:11:02.971326Z",
     "start_time": "2023-12-03T13:10:55.237144Z"
    }
   },
   "outputs": [
    {
     "name": "stderr",
     "output_type": "stream",
     "text": [
      "/var/folders/jp/4mwsn7_x6j9gnv1hl1dztqth0000gn/T/ipykernel_6730/1592002924.py:60: RuntimeWarning: divide by zero encountered in true_divide\n",
      "  err = 1./np.sqrt(ivar)\n"
     ]
    },
    {
     "data": {
      "text/plain": [
       "<Figure size 432x288 with 0 Axes>"
      ]
     },
     "metadata": {},
     "output_type": "display_data"
    },
    {
     "data": {
      "text/plain": [
       "<Figure size 432x288 with 0 Axes>"
      ]
     },
     "metadata": {},
     "output_type": "display_data"
    },
    {
     "data": {
      "text/plain": [
       "<Figure size 432x288 with 0 Axes>"
      ]
     },
     "metadata": {},
     "output_type": "display_data"
    }
   ],
   "source": [
    "for index in range(len(dr10galaxyclc_s)):\n",
    "    \n",
    "    obsid=dr10galaxyclc_s.loc[index,'obsid']\n",
    "    \n",
    "    ra=dr10galaxyclc_s.loc[index,'ra']\n",
    "    dec=dr10galaxyclc_s.loc[index,'dec']\n",
    "    z_i=dr10galaxyclc_s.loc[index,'z']\n",
    "    #fig,ax,ax1,ax2= \n",
    "    download_wise_withradec(ra,dec,wisedata_path)\n",
    "    mjdsdss=  dr10galaxyclc_s.loc[index,'mjd']  \n",
    "    plot_spec_ztf_wise_lc_dr10galaxy(obsid,mjdsdss,ra,dec,z_i,dr10v1galaxy_dir_lamost_unscaled,lamostdr10_12_matchSDSS_ztfdata,wisedata_path,plotdir_dr10galaxy)\n",
    "\n"
   ]
  },
  {
   "cell_type": "code",
   "execution_count": null,
   "metadata": {},
   "outputs": [],
   "source": []
  }
 ],
 "metadata": {
  "kernelspec": {
   "display_name": "Python 3 (ipykernel)",
   "language": "python",
   "name": "python3"
  },
  "language_info": {
   "codemirror_mode": {
    "name": "ipython",
    "version": 3
   },
   "file_extension": ".py",
   "mimetype": "text/x-python",
   "name": "python",
   "nbconvert_exporter": "python",
   "pygments_lexer": "ipython3",
   "version": "3.9.12"
  },
  "latex_envs": {
   "LaTeX_envs_menu_present": true,
   "autoclose": false,
   "autocomplete": true,
   "bibliofile": "biblio.bib",
   "cite_by": "apalike",
   "current_citInitial": 1,
   "eqLabelWithNumbers": true,
   "eqNumInitial": 1,
   "hotkeys": {
    "equation": "Ctrl-E",
    "itemize": "Ctrl-I"
   },
   "labels_anchors": false,
   "latex_user_defs": false,
   "report_style_numbering": false,
   "user_envs_cfg": false
  },
  "toc": {
   "base_numbering": 1,
   "nav_menu": {},
   "number_sections": true,
   "sideBar": true,
   "skip_h1_title": false,
   "title_cell": "Table of Contents",
   "title_sidebar": "Contents",
   "toc_cell": false,
   "toc_position": {
    "height": "473.273px",
    "left": "0px",
    "right": "1339.28px",
    "top": "135.711px",
    "width": "266.945px"
   },
   "toc_section_display": "block",
   "toc_window_display": true
  }
 },
 "nbformat": 4,
 "nbformat_minor": 2
}
