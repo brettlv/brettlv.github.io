{
 "cells": [
  {
<<<<<<< HEAD
   "cell_type": "code",
   "execution_count": null,
   "id": "af02089f",
   "metadata": {},
   "outputs": [],
   "source": []
  },
  {
   "cell_type": "code",
   "execution_count": null,
   "id": "5eeb7206",
   "metadata": {},
   "outputs": [],
   "source": []
  },
  {
   "cell_type": "markdown",
   "id": "161584c4",
   "metadata": {},
   "source": [
    "# AIStream-Peelout/flow-forecast"
   ]
  },
  {
   "cell_type": "code",
   "execution_count": null,
   "id": "baef102f",
   "metadata": {},
   "outputs": [],
   "source": []
  },
  {
   "cell_type": "code",
   "execution_count": null,
   "id": "f1a24d67",
   "metadata": {},
   "outputs": [],
   "source": []
  },
  {
   "cell_type": "code",
   "execution_count": null,
   "id": "f3032d16",
   "metadata": {},
   "outputs": [],
   "source": [
    "https://github.com/AIStream-Peelout/flow-forecast"
   ]
  },
  {
   "cell_type": "code",
   "execution_count": null,
   "id": "92d8161b",
   "metadata": {},
   "outputs": [],
   "source": []
  },
  {
   "cell_type": "code",
   "execution_count": null,
   "id": "0815db63",
   "metadata": {},
   "outputs": [],
   "source": []
  },
  {
=======
>>>>>>> 9a46b1a7abcf41c756dca7da0adb6f0582428169
   "cell_type": "markdown",
   "id": "e985bede",
   "metadata": {},
   "source": [
    "# WISE CNN"
   ]
  },
  {
   "cell_type": "code",
   "execution_count": null,
   "id": "7205e0ae",
   "metadata": {},
   "outputs": [],
   "source": [
    "def wise_CNN_load_data"
   ]
  },
  {
   "cell_type": "code",
   "execution_count": null,
   "id": "f3ae6ed1",
   "metadata": {},
   "outputs": [],
   "source": []
  },
  {
   "cell_type": "code",
   "execution_count": 10,
   "id": "04fb5525",
   "metadata": {
    "ExecuteTime": {
     "end_time": "2023-08-21T12:25:59.266072Z",
     "start_time": "2023-08-21T12:25:59.259252Z"
    }
   },
   "outputs": [
    {
     "data": {
      "text/plain": [
       "1e+22"
      ]
     },
     "execution_count": 10,
     "metadata": {},
     "output_type": "execute_result"
    }
   ],
   "source": [
    "0.02*5*1e23"
   ]
  },
  {
   "cell_type": "code",
   "execution_count": 11,
   "id": "139bdd58",
   "metadata": {
    "ExecuteTime": {
     "end_time": "2023-08-21T12:26:11.958836Z",
     "start_time": "2023-08-21T12:26:11.950701Z"
    }
   },
   "outputs": [
    {
     "data": {
      "text/plain": [
       "7.499999999999999e+22"
      ]
     },
     "execution_count": 11,
     "metadata": {},
     "output_type": "execute_result"
    }
   ],
   "source": [
    "0.15*5*1e23"
   ]
  },
  {
   "cell_type": "code",
   "execution_count": 13,
   "id": "a286aba6",
   "metadata": {
    "ExecuteTime": {
     "end_time": "2023-08-21T12:26:52.056164Z",
     "start_time": "2023-08-21T12:26:52.043833Z"
    }
   },
   "outputs": [
    {
     "data": {
      "text/plain": [
       "40.0"
      ]
     },
     "execution_count": 13,
     "metadata": {},
     "output_type": "execute_result"
    }
   ],
   "source": [
    "20e22/(0.01*5*1e23)"
   ]
  },
  {
   "cell_type": "code",
   "execution_count": 14,
   "id": "d4f6ee65",
   "metadata": {
    "ExecuteTime": {
     "end_time": "2023-08-21T12:27:21.257366Z",
     "start_time": "2023-08-21T12:27:21.245280Z"
    }
   },
   "outputs": [
    {
     "data": {
      "text/plain": [
       "1000.0000000000002"
      ]
     },
     "execution_count": 14,
     "metadata": {},
     "output_type": "execute_result"
    }
   ],
   "source": [
    "30e22/(0.06*0.01*5*1e23)"
   ]
  },
  {
   "cell_type": "code",
   "execution_count": 15,
   "id": "223e7331",
   "metadata": {
    "ExecuteTime": {
     "end_time": "2023-08-21T12:27:31.702042Z",
     "start_time": "2023-08-21T12:27:31.693346Z"
    }
   },
   "outputs": [
    {
     "data": {
      "text/plain": [
       "240.0"
      ]
     },
     "execution_count": 15,
     "metadata": {},
     "output_type": "execute_result"
    }
   ],
   "source": [
    "30e22/(0.25*0.01*5*1e23)"
   ]
  },
  {
   "cell_type": "code",
   "execution_count": null,
   "id": "2ccee53b",
   "metadata": {},
   "outputs": [],
   "source": []
  },
  {
   "cell_type": "code",
   "execution_count": 6,
   "id": "e38dcc4c",
   "metadata": {
    "ExecuteTime": {
     "end_time": "2023-08-21T12:24:12.099762Z",
     "start_time": "2023-08-21T12:24:12.092762Z"
    }
   },
   "outputs": [
    {
     "data": {
      "text/plain": [
       "40.0"
      ]
     },
     "execution_count": 6,
     "metadata": {},
     "output_type": "execute_result"
    }
   ],
   "source": [
    "20/(1/0.02*0.01)"
   ]
  },
  {
   "cell_type": "code",
   "execution_count": 7,
   "id": "4f10d85f",
   "metadata": {
    "ExecuteTime": {
     "end_time": "2023-08-21T12:24:49.156085Z",
     "start_time": "2023-08-21T12:24:49.139944Z"
    }
   },
   "outputs": [
    {
     "data": {
      "text/plain": [
       "1000.0"
      ]
     },
     "execution_count": 7,
     "metadata": {},
     "output_type": "execute_result"
    }
   ],
   "source": [
    "30/(1/0.02*0.06*0.01)"
   ]
  },
  {
   "cell_type": "code",
   "execution_count": 9,
   "id": "3f7ac56f",
   "metadata": {
    "ExecuteTime": {
     "end_time": "2023-08-21T12:25:21.682199Z",
     "start_time": "2023-08-21T12:25:21.674034Z"
    }
   },
   "outputs": [
    {
     "data": {
      "text/plain": [
       "240.0"
      ]
     },
     "execution_count": 9,
     "metadata": {},
     "output_type": "execute_result"
    }
   ],
   "source": [
    "30/(1/0.02*0.25*0.01)"
   ]
  },
  {
   "cell_type": "code",
   "execution_count": null,
   "id": "08dd3d0a",
   "metadata": {},
   "outputs": [],
   "source": []
  },
  {
   "cell_type": "code",
   "execution_count": null,
   "id": "1bb32bdc",
   "metadata": {},
   "outputs": [],
   "source": []
  },
  {
   "cell_type": "code",
   "execution_count": null,
   "id": "074ecbe1",
   "metadata": {},
   "outputs": [],
   "source": []
  },
  {
   "cell_type": "code",
   "execution_count": 2,
   "id": "452c8e5c",
   "metadata": {
    "ExecuteTime": {
     "end_time": "2023-08-21T12:22:32.479516Z",
     "start_time": "2023-08-21T12:22:32.471997Z"
    }
   },
   "outputs": [
    {
     "data": {
      "text/plain": [
       "6.666666666666667e+23"
      ]
     },
     "execution_count": 2,
     "metadata": {},
     "output_type": "execute_result"
    }
   ],
   "source": [
    "10**23/0.15"
   ]
  },
  {
   "cell_type": "code",
   "execution_count": null,
   "id": "7d5671dc",
   "metadata": {},
   "outputs": [],
   "source": []
  },
  {
<<<<<<< HEAD
   "cell_type": "markdown",
   "id": "73e23fd4",
   "metadata": {},
   "source": [
    "# [使用卷积网络的时间序列分类](https://zhuanlan.zhihu.com/p/448870375)"
   ]
  },
  {
   "cell_type": "markdown",
   "id": "5b9f8cc8",
   "metadata": {},
   "source": [
    "## 数据集\n"
   ]
  },
  {
   "cell_type": "code",
   "execution_count": 3,
   "id": "74360087",
   "metadata": {
    "ExecuteTime": {
     "end_time": "2023-09-14T06:17:04.432801Z",
     "start_time": "2023-09-14T06:17:03.579881Z"
    }
   },
   "outputs": [],
   "source": [
    "import pandas as pd\n",
    "import numpy as np\n",
    "import matplotlib.pyplot as plt\n",
    "from sklearn.model_selection import train_test_split\n",
    "from datetime import datetime, timedelta\n",
    "\n",
    "import torch\n",
    "from torch import nn\n",
    "from torch import optim\n",
    "from torch.nn import functional as F\n",
    "from torch.optim.lr_scheduler import _LRScheduler\n",
    "from torch.utils.data import TensorDataset, DataLoader"
   ]
  },
  {
   "cell_type": "code",
   "execution_count": 4,
   "id": "a0a80a58",
   "metadata": {
    "ExecuteTime": {
     "end_time": "2023-09-14T06:17:30.045994Z",
     "start_time": "2023-09-14T06:17:30.018009Z"
    }
   },
   "outputs": [],
   "source": [
    "df_train = pd.read_csv('/Users/lyubing/Downloads/ItalyPowerDemand//ItalyPowerDemand_TRAIN.txt', header=None,delim_whitespace=True)\n",
    "df_test = pd.read_csv('/Users/lyubing/Downloads/ItalyPowerDemand//ItalyPowerDemand_TEST.txt', header=None, delim_whitespace=True)\n"
   ]
  },
  {
   "cell_type": "code",
   "execution_count": 5,
   "id": "ee086205",
   "metadata": {
    "ExecuteTime": {
     "end_time": "2023-09-14T06:17:39.258128Z",
     "start_time": "2023-09-14T06:17:39.228411Z"
    }
   },
   "outputs": [
    {
     "data": {
      "text/html": [
       "<div>\n",
       "<style scoped>\n",
       "    .dataframe tbody tr th:only-of-type {\n",
       "        vertical-align: middle;\n",
       "    }\n",
       "\n",
       "    .dataframe tbody tr th {\n",
       "        vertical-align: top;\n",
       "    }\n",
       "\n",
       "    .dataframe thead th {\n",
       "        text-align: right;\n",
       "    }\n",
       "</style>\n",
       "<table border=\"1\" class=\"dataframe\">\n",
       "  <thead>\n",
       "    <tr style=\"text-align: right;\">\n",
       "      <th></th>\n",
       "      <th>0</th>\n",
       "      <th>1</th>\n",
       "      <th>2</th>\n",
       "      <th>3</th>\n",
       "      <th>4</th>\n",
       "      <th>5</th>\n",
       "      <th>6</th>\n",
       "      <th>7</th>\n",
       "      <th>8</th>\n",
       "      <th>9</th>\n",
       "      <th>...</th>\n",
       "      <th>15</th>\n",
       "      <th>16</th>\n",
       "      <th>17</th>\n",
       "      <th>18</th>\n",
       "      <th>19</th>\n",
       "      <th>20</th>\n",
       "      <th>21</th>\n",
       "      <th>22</th>\n",
       "      <th>23</th>\n",
       "      <th>24</th>\n",
       "    </tr>\n",
       "  </thead>\n",
       "  <tbody>\n",
       "    <tr>\n",
       "      <th>0</th>\n",
       "      <td>1.0</td>\n",
       "      <td>-0.710518</td>\n",
       "      <td>-1.183320</td>\n",
       "      <td>-1.372442</td>\n",
       "      <td>-1.593083</td>\n",
       "      <td>-1.467002</td>\n",
       "      <td>-1.372442</td>\n",
       "      <td>-1.088760</td>\n",
       "      <td>0.045967</td>\n",
       "      <td>0.928532</td>\n",
       "      <td>...</td>\n",
       "      <td>-0.647477</td>\n",
       "      <td>-0.269235</td>\n",
       "      <td>-0.206195</td>\n",
       "      <td>0.613330</td>\n",
       "      <td>1.369815</td>\n",
       "      <td>1.464375</td>\n",
       "      <td>1.054613</td>\n",
       "      <td>0.581810</td>\n",
       "      <td>0.172048</td>\n",
       "      <td>-0.269235</td>\n",
       "    </tr>\n",
       "    <tr>\n",
       "      <th>1</th>\n",
       "      <td>1.0</td>\n",
       "      <td>-0.993009</td>\n",
       "      <td>-1.426786</td>\n",
       "      <td>-1.579884</td>\n",
       "      <td>-1.605401</td>\n",
       "      <td>-1.630917</td>\n",
       "      <td>-1.375754</td>\n",
       "      <td>-1.018526</td>\n",
       "      <td>-0.355102</td>\n",
       "      <td>0.716583</td>\n",
       "      <td>...</td>\n",
       "      <td>0.486936</td>\n",
       "      <td>0.563485</td>\n",
       "      <td>0.614518</td>\n",
       "      <td>0.308322</td>\n",
       "      <td>0.257289</td>\n",
       "      <td>1.099327</td>\n",
       "      <td>1.048295</td>\n",
       "      <td>0.691066</td>\n",
       "      <td>-0.048906</td>\n",
       "      <td>-0.380618</td>\n",
       "    </tr>\n",
       "    <tr>\n",
       "      <th>2</th>\n",
       "      <td>2.0</td>\n",
       "      <td>1.319067</td>\n",
       "      <td>0.569774</td>\n",
       "      <td>0.195128</td>\n",
       "      <td>-0.085856</td>\n",
       "      <td>-0.179518</td>\n",
       "      <td>-0.273180</td>\n",
       "      <td>-0.085856</td>\n",
       "      <td>-1.397118</td>\n",
       "      <td>-1.116134</td>\n",
       "      <td>...</td>\n",
       "      <td>-0.554164</td>\n",
       "      <td>-0.741487</td>\n",
       "      <td>-0.741487</td>\n",
       "      <td>-0.741487</td>\n",
       "      <td>-1.116134</td>\n",
       "      <td>-0.460503</td>\n",
       "      <td>0.476113</td>\n",
       "      <td>2.349344</td>\n",
       "      <td>2.255682</td>\n",
       "      <td>1.600052</td>\n",
       "    </tr>\n",
       "    <tr>\n",
       "      <th>3</th>\n",
       "      <td>2.0</td>\n",
       "      <td>-0.812444</td>\n",
       "      <td>-1.157553</td>\n",
       "      <td>-1.416385</td>\n",
       "      <td>-1.531421</td>\n",
       "      <td>-1.502662</td>\n",
       "      <td>-1.416385</td>\n",
       "      <td>-1.646458</td>\n",
       "      <td>-0.467335</td>\n",
       "      <td>0.654269</td>\n",
       "      <td>...</td>\n",
       "      <td>0.740547</td>\n",
       "      <td>0.884342</td>\n",
       "      <td>0.884342</td>\n",
       "      <td>0.683028</td>\n",
       "      <td>0.625510</td>\n",
       "      <td>0.424197</td>\n",
       "      <td>-0.007190</td>\n",
       "      <td>-0.035949</td>\n",
       "      <td>0.107847</td>\n",
       "      <td>-0.266022</td>\n",
       "    </tr>\n",
       "    <tr>\n",
       "      <th>4</th>\n",
       "      <td>1.0</td>\n",
       "      <td>-0.972840</td>\n",
       "      <td>-1.390518</td>\n",
       "      <td>-1.536705</td>\n",
       "      <td>-1.620240</td>\n",
       "      <td>-1.620240</td>\n",
       "      <td>-1.453169</td>\n",
       "      <td>-0.993724</td>\n",
       "      <td>0.050469</td>\n",
       "      <td>0.635218</td>\n",
       "      <td>...</td>\n",
       "      <td>0.321960</td>\n",
       "      <td>0.489031</td>\n",
       "      <td>0.614334</td>\n",
       "      <td>1.303502</td>\n",
       "      <td>1.240850</td>\n",
       "      <td>1.073779</td>\n",
       "      <td>0.551682</td>\n",
       "      <td>0.426379</td>\n",
       "      <td>-0.179253</td>\n",
       "      <td>-0.638698</td>\n",
       "    </tr>\n",
       "  </tbody>\n",
       "</table>\n",
       "<p>5 rows × 25 columns</p>\n",
       "</div>"
      ],
      "text/plain": [
       "    0         1         2         3         4         5         6         7   \\\n",
       "0  1.0 -0.710518 -1.183320 -1.372442 -1.593083 -1.467002 -1.372442 -1.088760   \n",
       "1  1.0 -0.993009 -1.426786 -1.579884 -1.605401 -1.630917 -1.375754 -1.018526   \n",
       "2  2.0  1.319067  0.569774  0.195128 -0.085856 -0.179518 -0.273180 -0.085856   \n",
       "3  2.0 -0.812444 -1.157553 -1.416385 -1.531421 -1.502662 -1.416385 -1.646458   \n",
       "4  1.0 -0.972840 -1.390518 -1.536705 -1.620240 -1.620240 -1.453169 -0.993724   \n",
       "\n",
       "         8         9   ...        15        16        17        18        19  \\\n",
       "0  0.045967  0.928532  ... -0.647477 -0.269235 -0.206195  0.613330  1.369815   \n",
       "1 -0.355102  0.716583  ...  0.486936  0.563485  0.614518  0.308322  0.257289   \n",
       "2 -1.397118 -1.116134  ... -0.554164 -0.741487 -0.741487 -0.741487 -1.116134   \n",
       "3 -0.467335  0.654269  ...  0.740547  0.884342  0.884342  0.683028  0.625510   \n",
       "4  0.050469  0.635218  ...  0.321960  0.489031  0.614334  1.303502  1.240850   \n",
       "\n",
       "         20        21        22        23        24  \n",
       "0  1.464375  1.054613  0.581810  0.172048 -0.269235  \n",
       "1  1.099327  1.048295  0.691066 -0.048906 -0.380618  \n",
       "2 -0.460503  0.476113  2.349344  2.255682  1.600052  \n",
       "3  0.424197 -0.007190 -0.035949  0.107847 -0.266022  \n",
       "4  1.073779  0.551682  0.426379 -0.179253 -0.638698  \n",
       "\n",
       "[5 rows x 25 columns]"
      ]
     },
     "execution_count": 5,
     "metadata": {},
     "output_type": "execute_result"
    }
   ],
   "source": [
    "df_train.head()"
   ]
  },
  {
   "cell_type": "code",
   "execution_count": 13,
   "id": "dce1904b",
   "metadata": {
    "ExecuteTime": {
     "end_time": "2023-09-14T06:20:29.930642Z",
     "start_time": "2023-09-14T06:20:29.905552Z"
    }
   },
   "outputs": [
    {
     "data": {
      "text/html": [
       "<div>\n",
       "<style scoped>\n",
       "    .dataframe tbody tr th:only-of-type {\n",
       "        vertical-align: middle;\n",
       "    }\n",
       "\n",
       "    .dataframe tbody tr th {\n",
       "        vertical-align: top;\n",
       "    }\n",
       "\n",
       "    .dataframe thead th {\n",
       "        text-align: right;\n",
       "    }\n",
       "</style>\n",
       "<table border=\"1\" class=\"dataframe\">\n",
       "  <thead>\n",
       "    <tr style=\"text-align: right;\">\n",
       "      <th></th>\n",
       "      <th>0</th>\n",
       "      <th>1</th>\n",
       "      <th>2</th>\n",
       "      <th>3</th>\n",
       "      <th>4</th>\n",
       "      <th>5</th>\n",
       "      <th>6</th>\n",
       "      <th>7</th>\n",
       "      <th>8</th>\n",
       "      <th>9</th>\n",
       "      <th>...</th>\n",
       "      <th>15</th>\n",
       "      <th>16</th>\n",
       "      <th>17</th>\n",
       "      <th>18</th>\n",
       "      <th>19</th>\n",
       "      <th>20</th>\n",
       "      <th>21</th>\n",
       "      <th>22</th>\n",
       "      <th>23</th>\n",
       "      <th>24</th>\n",
       "    </tr>\n",
       "  </thead>\n",
       "  <tbody>\n",
       "    <tr>\n",
       "      <th>0</th>\n",
       "      <td>2.0</td>\n",
       "      <td>0.472973</td>\n",
       "      <td>-0.396030</td>\n",
       "      <td>-0.721906</td>\n",
       "      <td>-1.156408</td>\n",
       "      <td>-1.210720</td>\n",
       "      <td>-1.047782</td>\n",
       "      <td>-0.776219</td>\n",
       "      <td>-1.319346</td>\n",
       "      <td>-0.830532</td>\n",
       "      <td>...</td>\n",
       "      <td>-0.233092</td>\n",
       "      <td>-0.341717</td>\n",
       "      <td>-0.667593</td>\n",
       "      <td>-0.721906</td>\n",
       "      <td>-0.450343</td>\n",
       "      <td>-0.015841</td>\n",
       "      <td>0.798849</td>\n",
       "      <td>2.265292</td>\n",
       "      <td>1.939416</td>\n",
       "      <td>1.287663</td>\n",
       "    </tr>\n",
       "    <tr>\n",
       "      <th>1</th>\n",
       "      <td>2.0</td>\n",
       "      <td>-1.098737</td>\n",
       "      <td>-1.134565</td>\n",
       "      <td>-1.600334</td>\n",
       "      <td>-1.707820</td>\n",
       "      <td>-1.636163</td>\n",
       "      <td>-1.457021</td>\n",
       "      <td>-1.027080</td>\n",
       "      <td>-0.704625</td>\n",
       "      <td>0.477712</td>\n",
       "      <td>...</td>\n",
       "      <td>0.513540</td>\n",
       "      <td>0.621025</td>\n",
       "      <td>0.728510</td>\n",
       "      <td>0.370227</td>\n",
       "      <td>0.406055</td>\n",
       "      <td>0.370227</td>\n",
       "      <td>0.083600</td>\n",
       "      <td>1.015138</td>\n",
       "      <td>0.621025</td>\n",
       "      <td>0.119428</td>\n",
       "    </tr>\n",
       "    <tr>\n",
       "      <th>2</th>\n",
       "      <td>2.0</td>\n",
       "      <td>-1.029442</td>\n",
       "      <td>-1.240159</td>\n",
       "      <td>-1.345518</td>\n",
       "      <td>-1.556235</td>\n",
       "      <td>-1.477216</td>\n",
       "      <td>-1.345518</td>\n",
       "      <td>-1.450876</td>\n",
       "      <td>-0.766045</td>\n",
       "      <td>0.261202</td>\n",
       "      <td>...</td>\n",
       "      <td>0.893353</td>\n",
       "      <td>1.077731</td>\n",
       "      <td>1.104071</td>\n",
       "      <td>0.787995</td>\n",
       "      <td>0.629957</td>\n",
       "      <td>0.366560</td>\n",
       "      <td>0.050484</td>\n",
       "      <td>-0.054874</td>\n",
       "      <td>0.261202</td>\n",
       "      <td>-0.107554</td>\n",
       "    </tr>\n",
       "    <tr>\n",
       "      <th>3</th>\n",
       "      <td>2.0</td>\n",
       "      <td>0.291274</td>\n",
       "      <td>-0.323897</td>\n",
       "      <td>-0.883144</td>\n",
       "      <td>-1.106842</td>\n",
       "      <td>-1.274616</td>\n",
       "      <td>-0.659445</td>\n",
       "      <td>-0.883144</td>\n",
       "      <td>-0.491671</td>\n",
       "      <td>-1.162767</td>\n",
       "      <td>...</td>\n",
       "      <td>-0.323897</td>\n",
       "      <td>-0.323897</td>\n",
       "      <td>-0.659445</td>\n",
       "      <td>-0.547596</td>\n",
       "      <td>-0.547596</td>\n",
       "      <td>0.403124</td>\n",
       "      <td>2.360487</td>\n",
       "      <td>2.024939</td>\n",
       "      <td>1.801240</td>\n",
       "      <td>0.906446</td>\n",
       "    </tr>\n",
       "    <tr>\n",
       "      <th>4</th>\n",
       "      <td>2.0</td>\n",
       "      <td>-0.814606</td>\n",
       "      <td>-1.271144</td>\n",
       "      <td>-1.566550</td>\n",
       "      <td>-1.620261</td>\n",
       "      <td>-1.647116</td>\n",
       "      <td>-1.405420</td>\n",
       "      <td>-1.029447</td>\n",
       "      <td>-0.465489</td>\n",
       "      <td>0.796703</td>\n",
       "      <td>...</td>\n",
       "      <td>0.689282</td>\n",
       "      <td>0.555006</td>\n",
       "      <td>0.528151</td>\n",
       "      <td>0.259600</td>\n",
       "      <td>0.125324</td>\n",
       "      <td>0.205889</td>\n",
       "      <td>0.232745</td>\n",
       "      <td>0.796703</td>\n",
       "      <td>0.259600</td>\n",
       "      <td>-0.331214</td>\n",
       "    </tr>\n",
       "  </tbody>\n",
       "</table>\n",
       "<p>5 rows × 25 columns</p>\n",
       "</div>"
      ],
      "text/plain": [
       "    0         1         2         3         4         5         6         7   \\\n",
       "0  2.0  0.472973 -0.396030 -0.721906 -1.156408 -1.210720 -1.047782 -0.776219   \n",
       "1  2.0 -1.098737 -1.134565 -1.600334 -1.707820 -1.636163 -1.457021 -1.027080   \n",
       "2  2.0 -1.029442 -1.240159 -1.345518 -1.556235 -1.477216 -1.345518 -1.450876   \n",
       "3  2.0  0.291274 -0.323897 -0.883144 -1.106842 -1.274616 -0.659445 -0.883144   \n",
       "4  2.0 -0.814606 -1.271144 -1.566550 -1.620261 -1.647116 -1.405420 -1.029447   \n",
       "\n",
       "         8         9   ...        15        16        17        18        19  \\\n",
       "0 -1.319346 -0.830532  ... -0.233092 -0.341717 -0.667593 -0.721906 -0.450343   \n",
       "1 -0.704625  0.477712  ...  0.513540  0.621025  0.728510  0.370227  0.406055   \n",
       "2 -0.766045  0.261202  ...  0.893353  1.077731  1.104071  0.787995  0.629957   \n",
       "3 -0.491671 -1.162767  ... -0.323897 -0.323897 -0.659445 -0.547596 -0.547596   \n",
       "4 -0.465489  0.796703  ...  0.689282  0.555006  0.528151  0.259600  0.125324   \n",
       "\n",
       "         20        21        22        23        24  \n",
       "0 -0.015841  0.798849  2.265292  1.939416  1.287663  \n",
       "1  0.370227  0.083600  1.015138  0.621025  0.119428  \n",
       "2  0.366560  0.050484 -0.054874  0.261202 -0.107554  \n",
       "3  0.403124  2.360487  2.024939  1.801240  0.906446  \n",
       "4  0.205889  0.232745  0.796703  0.259600 -0.331214  \n",
       "\n",
       "[5 rows x 25 columns]"
      ]
     },
     "execution_count": 13,
     "metadata": {},
     "output_type": "execute_result"
    }
   ],
   "source": [
    "df_test.head()"
   ]
  },
  {
   "cell_type": "code",
   "execution_count": 6,
   "id": "67490282",
   "metadata": {
    "ExecuteTime": {
     "end_time": "2023-09-14T06:17:48.158997Z",
     "start_time": "2023-09-14T06:17:48.149119Z"
    }
   },
   "outputs": [
    {
     "data": {
      "text/plain": [
       "(67, 1029)"
      ]
     },
     "execution_count": 6,
     "metadata": {},
     "output_type": "execute_result"
    }
   ],
   "source": [
    "len(df_train), len(df_test)"
   ]
  },
  {
   "cell_type": "code",
   "execution_count": 7,
   "id": "3ed6999f",
   "metadata": {
    "ExecuteTime": {
     "end_time": "2023-09-14T06:18:53.882769Z",
     "start_time": "2023-09-14T06:18:53.870556Z"
    }
   },
   "outputs": [],
   "source": [
    "x_train = df_train.iloc[:, 1:].values.reshape(-1, 1, 24)\n",
    "x_test = df_test.iloc[:, 1:].values.reshape(-1, 1, 24)"
   ]
  },
  {
   "cell_type": "code",
   "execution_count": 8,
   "id": "cbc2886a",
   "metadata": {
    "ExecuteTime": {
     "end_time": "2023-09-14T06:18:54.383006Z",
     "start_time": "2023-09-14T06:18:54.375102Z"
    }
   },
   "outputs": [],
   "source": [
    "y_train = df_train.iloc[:, 0].values-1\n",
    "y_test = df_test.iloc[:, 0].values-1"
   ]
  },
  {
   "cell_type": "code",
   "execution_count": 33,
   "id": "c5837519",
   "metadata": {
    "ExecuteTime": {
     "end_time": "2023-09-14T07:18:45.296063Z",
     "start_time": "2023-09-14T07:18:45.279569Z"
    }
   },
   "outputs": [
    {
     "data": {
      "text/plain": [
       "array([0., 0., 1., 1., 0., 0., 1., 0., 0., 1., 1., 0., 0., 1., 0., 1., 0.,\n",
       "       0., 1., 0., 0., 1., 0., 0., 0., 0., 0., 1., 1., 0., 0., 1., 1., 0.,\n",
       "       1., 1., 0., 1., 0., 1., 0., 0., 1., 1., 0., 1., 1., 1., 1., 0., 0.,\n",
       "       1., 1., 1., 0., 1., 1., 0., 0., 1., 1., 0., 0., 1., 0., 1., 1.])"
      ]
     },
     "execution_count": 33,
     "metadata": {},
     "output_type": "execute_result"
    }
   ],
   "source": [
    "y_train"
   ]
  },
  {
   "cell_type": "code",
   "execution_count": 34,
   "id": "caacd198",
   "metadata": {
    "ExecuteTime": {
     "end_time": "2023-09-14T07:18:51.404243Z",
     "start_time": "2023-09-14T07:18:51.389884Z"
    }
   },
   "outputs": [
    {
     "data": {
      "text/plain": [
       "array([1., 1., 1., ..., 1., 1., 1.])"
      ]
     },
     "execution_count": 34,
     "metadata": {},
     "output_type": "execute_result"
    }
   ],
   "source": [
    "y_test"
   ]
  },
  {
   "cell_type": "code",
   "execution_count": null,
   "id": "88c45bc5",
   "metadata": {},
   "outputs": [],
   "source": []
  },
  {
   "cell_type": "code",
   "execution_count": 9,
   "id": "eb992e2d",
   "metadata": {
    "ExecuteTime": {
     "end_time": "2023-09-14T06:18:54.888337Z",
     "start_time": "2023-09-14T06:18:54.879723Z"
    }
   },
   "outputs": [
    {
     "data": {
      "text/plain": [
       "((67, 1, 24), (1029, 1, 24), (67,), (1029,))"
      ]
     },
     "execution_count": 9,
     "metadata": {},
     "output_type": "execute_result"
    }
   ],
   "source": [
    "x_train.shape, x_test.shape, y_train.shape, y_test.shape"
   ]
  },
  {
   "cell_type": "code",
   "execution_count": 10,
   "id": "d4efebd5",
   "metadata": {
    "ExecuteTime": {
     "end_time": "2023-09-14T06:19:22.033221Z",
     "start_time": "2023-09-14T06:19:21.860201Z"
    }
   },
   "outputs": [
    {
     "data": {
      "image/png": "iVBORw0KGgoAAAANSUhEUgAAAYAAAAEICAYAAABWJCMKAAAAOXRFWHRTb2Z0d2FyZQBNYXRwbG90bGliIHZlcnNpb24zLjcuMSwgaHR0cHM6Ly9tYXRwbG90bGliLm9yZy/bCgiHAAAACXBIWXMAAAsTAAALEwEAmpwYAAA1dUlEQVR4nO3dd3xV9f348dc7m0xGQthJ2IQlEkAExao46sBR666jru5v2+/3211b++2wv7a2ttZVtWq1VttacYsLQQQJKCMQSAgJKwnZg+zk/fvjHjRiQtbNPXe8n4/HfXDHuee8c+7lvs/nfT7n8xFVxRhjTOgJczsAY4wx7rAEYIwxIcoSgDHGhChLAMYYE6IsARhjTIiyBGCMMSHKEkAIE5EJIlIvIuFux9IXTswTXdhuj/tLRFREJnthW15ZjzHHYwkghIhIoYicefSxqu5T1XhVbXczrr5yYi5wYbuf2F8i8raI3OTrOPyFiHxGRN4SkRoRKezF8meISK6INDjvS/NBmOY4LAGYgCEiEW7HYD7hCPAw8D89LSgiycC/gR8Bw4Fs4B+DGp3pkSWAECEijwMTgOedMsb/iki6U2qIcJZ5W0T+T0TWOcs8LyIjROQJEakVkY0ikt5pndNFZJWIVIrILhH5/HG2f72IFIhInYjsFZGrO712o4jsFJEqEXm185GhE99XRCQPyOv03GTnfrSI/EZE9olIqYjcJyJDnNeSReQFEal2YlwjIp/6zovIT0Xkj879SBE5IiL/z3k8RESaRGR45/0lIj8HTgH+5OyrP3Va5Zkikuds9x4RkW72SbiIfF9E9jj7ZZOIjO9iufNE5APnM9gvIj/p9FqMiPxNRCqc7W0UkdSe9rk3qOr7qvo40JvW2CVAjqo+o6pNwE+AuSIy3ZsxmT5SVbuFyA0oBM7s9DgdUCDCefw2kA9MApKAHcBu4EwgAngMeMRZNg7YD9zgvDYPKAcyu9huHFALTHMejwZmOvdXONuc4aznh8C6Tu9VYBWeo8YhnZ6b7Ny/C1jpvJ4APA/80nntl8B9QKRzOwWQLuI7Hdjm3D8Z2ANs6PTaluPsr5uOWZcCLwBD8STcMuCcbj6P/wG2AdMAAeYCI7r4G08DZuM5YJsDlAIXOa/d6vzNsUA4MB9IPN4+7yKOq4Dq49wm9PC9OhMo7GGZPwD3HvPcduBSt/9fhPLNWgDmWI+o6h5VrQFeBvao6uuq2gY8g+eHHuB8PP/pH1HVNlX9APgXcFk36+0AZonIEFUtVtUc5/nb8Pxg73S28QvghGPqw79U1UpVbey8QufI+hbgm87rdc77r3AWacXzw5emqq2qukadX55jvAdMEZERwKnAQ8BYEYkHlgGre7HfOvuVqlar6j7gLeCEbpa7Cfihqu5Sjy2qWnHsQqr6tqpuU9UOVd0K/N2J6+jfOAJPsmhX1U2qWuu81t0+P3b9T6rq0OPc9vXx7+9KPFBzzHM1eJK2cYklAHOs0k73G7t4HO/cTwMWOWWHahGpBq4GRh27QlU9AlyO58e+WERe7NT0TwP+0GkdlXiOhsd2WsX+bmJNwXPku6nT+19xngf4f3haF685pZDvdrUSJ7Fk4/lRPRXPD/46YAn9SwAlne438PE+O9Z4PK2N4xKRRc5J0zIRqcGzH5Odlx8HXgWeEpFDIvJrEYnsYZ+7oR5Py6SzRKDOhViMwxJAaPHm0K/7gdXHHCnGq+qXutyw6ququhzPEXku8GCn9dx6zHqGqOq6XsRdjicpzez03iRVjXe2Waeq31bVicCFwLdE5Ixu1rUaT7lnHrDReXw2sBB4p5v3DHR/7sdTbuvJk3jKXONVNQlPWUsAnJbNT1U1E0/56nzgC85r3e3zTxCRq53zGN3dJgzw7wTIwVPiOrrNODx/e5etEuMblgBCSyngrf7zLwBTReRa58RppIgsEJEZxy4oIqkissL5T9+M52iww3n5PuB7IjLTWTZJRLorI32Cqnbg+VG7S0RGOu8fKyJnO/fPF5HJTqmoBmjvtN1jrcbzw7lDVVtw6vvAXlUt6+Y9A92ffwF+JiJTxGOOU4Y6VgJQqapNIrIQT80e+Kgr5mzxXJtQi6ck1NHDPv8EVX3CSd7d3bosAYlImIjE4Dm/Is4J6ahu/tZn8ZSjLnXe82Ngq6rm9mZHmcFhCSC0/BL4oVMu+e+BrMipt5+Fp95+CE/Z404guovFw4BvOctV4imrfMlZz7PO+54SkVo8JwbP7UMo38FT5lnvvP91PCdVAaY4j+vx1Pn/rKpvdbOedcAQPj7a3wE00f3RP3hObH5OPL2X7u5DzEf9DngaeA3Pj/dDTgzH+jJwh4jU4fnhfLrTa6OAfzrv34knkT3Ocfa5F52KpwX2Ep4T3o3O3wKAiOQc7XnkJNFLgZ8DVcAiPj5XY1wiXZ8TM8YYE+ysBWCMMSHKEoAxxoQoSwDGGBOiLAEYY0yI8uvBtZKTkzU9Pd3tMIwxJmBs2rSpXFVTel7SzxNAeno62dnZbodhjDEBQ0SKeruslYCMMSZEWQIwxpgQZQnAGGNClFcSgIg8LCKHRWR7N6+fJp5p4z50bj/2xnaNMcb0n7dOAv8V+BOeCUO6s0ZVz/fS9owxxgyQV1oAqvoOngGnjDHGBAhfngNYLCJbROTlo0P/dkVEbhGRbBHJLivrbhReY4wxA+WrBLAZz7R8c4E/Av/pbkFVfUBVs1Q1KyWlV9cyGGNCkKry3p4KXth6yO1QApZPLgTrNEcpqvqSiPxZRJJVtdwX2zfGBI/2DuXVnBLuX72HLQc80wynj4hj1tgklyMLPD5pAYjIKGdWJpwZjcKAT01+bYwx3WlqbeeJDUWc8du3+fITm6lpbOUnF2SSGBPBH97Iczu8gOSVFoCI/B04DUgWkQPA7XimiUNV7wM+B3xJRNrwzBp0hdpMNMaYXqhuaOFv64v467pCyutbmDMuiT9ffSJnzxxFeJhQ29TG71btZvvBGmsF9JFfzwiWlZWlNhaQMaHpYHUjD63Zy1Mb99HQ0s6yqSnctmwSJ00cjlNQAKC2qZWlv3qTRRNH8OAXslyM2D+IyCZV7dWO8OvB4IwxoSe3pJYHVhewcsshFLhw7hhuOXUiM0Yndrl8YkwkN50y0VoB/WAJwBjjF3JLarnz5Vze2lVGbFQ4X1iczo1L0xk3LLbH916/JJ2/rCng7jfyeMBaAb1mCcAY4xe+8fcPKa1r4tvLp3Lt4jSGxkb1+r2JMZF8celE7nrdWgF9YYPBGWNcV1LTxK7SOm5bNomvnTGlTz/+R12/JJ3EmAjuth5BvWYJwBjjurX5nkuCTpmS3O91JA3xtAJe21HK9oM13gotqFkCMMa4bm1eGSPiopgxqusTvb1lrYC+sQRgjHFVR4eyNr+CJZOTCQuTnt9wHNYK6BtLACbo1Ta1cqi60e0wTDdyS+oor29m6QDKP51ZK6D3LAGYoLa3/Aif/cMazv79O5TWNrkdjunC2nzPqL8Dqf93Zq2A3rMEYIJWzqEaLrtvHQ0t7bS0dfDD/2zHn698D1Vr8sqZPDKe0UlDvLZOawX0jiUAE5Q2FFRwxf3riQoP45nbFvPts6ayakcpL24rdjs000lTazvv761k6WTvHP0flTQkkhuXZvDajlJyDlkroDuWAEzQeX1HKV94+H1GJkbzzy+dzKSUeG5cksGccUnc/lwOVUda3A7ROLILq2hu6+DUqd5NAAA3LMkgwVoBx2UJwASVf28+wK1/28S0UQk8c9vJjBnqKStEhIdx56VzqGls5Wcv7HA5SnPUmvwyIsOFRRkjvL5uz7mADF7NsVZAdywBmKDx8Nq9fOvpLSzKGM6TN5/E8LhPXk06Y3QiXz5tEv/+4CBv5R52KUrT2dq8cuZNGEZc9OCMSmOtgOOzBGACnqryu9d2cccLOzh7ZioPX7+A+G5+UL5y+mSmjIznB89uo66p1ceRms7K65vJOVTLKV6u/3dmrYDjswRgAlpHh/Lj53K4+818Ls8azz1XnUhMZHi3y0dHhHPn5+ZQXNvEr1/Z5cNIzbHePTr8w9TBnfvbWgHdswRgAlZLWwff+MeHPL6+iFtPncivLp1NRHjPX+kTJwzjhpMzeHx9Ee/vrfRBpKYra/PKSRoSyexBHrnTWgHdswRgAlJDSxs3P5bN81sO8d1zp/O9z874xCxRPfnvs6cybtgQvvOvrTS1tg9ipKYrqsra/HJOnjSC8AEO/9Ab1gromiUAE3CqG1q45i8bWJNXxq8umc1tyyb1eR2xURH86pI57C0/wu9ftx8FX9tTVk9xTZPXhn/oSdKQSG5c4mkF7DhU65NtBgJLACaglNY2cfn969l+sJZ7rjqRKxZO6Pe6lk5J5vKs8Ty4poBtB6w04Etr8jz1/1OnDG79v7Mbl1or4FiWAEzA2LK/mkv+vI79VQ08fP0Czp09esDr/P55MxgRF8X//msrre0dXojS9MbavHLSRsQyfnjP0z16y9FWwCs5JdYKcFgCMH5PVXl8fRGX3fceAP+4ZbHXSgdJQyL52UWz2Flcy/2r93hlneb4Wto6WF9Q4fXhH3rDWgGfZAnA+LWGlja++Y8P+dF/tnPy5BG8+PWlzB7n3V4jZ88cxXmzR3P3G/nkH67z6rrNp32wr4ojLe2c4sPyz1GdWwG7Suyz9koCEJGHReSwiGzv5nURkbtFJF9EtorIid7Yrglue8rqueied3luyyG+vXwqD1+3oF9zxfbGTy6cSWx0OP/7z620d9iIoYNpbX45YQKLJ3l/+IfeuGFJOjGRYTzy7l5Xtu9PvNUC+CtwznFePxeY4txuAe710nZNkHpxazEX/nEt5fUtPH7jIr52xpQBzxZ1PCkJ0fz4/Ew276vm8fcKB207xnMCeO74oSQNiXRl+0Njo7h43jie/eAglSE+MKBXEoCqvgMc74qaFcBj6rEeGCoiAz+DZ4JOa3sHdzy/g688uZlpoxJ48etLfdZV8OJ5Y1k2NYVfv7qL/ZUNPtlmqKlpaGXrgepBHf6hN25Ykk5zWwdPbdznahxu89U5gLHA/k6PDzjPfYqI3CIi2SKSXVZW5pPgjH8ormnkigfW8/C7e7lhSTpP3bLYq5OE9ERE+PnFsxDg+89us8ljBsG6PeV06OAP/9CTqakJLJk8gsffKwrp3l9+dxJYVR9Q1SxVzUpJcfdLYnzn3fxyzr97LbnFtfzpqnncfsFMoiJ8//UcNyyW75w7nTV55fxz0wGfbz/YrckvJz46ghPGD3U7FG44OYPimiZezSlxOxTX+Op/2EFgfKfH45znTIjr6FD+9GYe1z60geFxUTz31aWcP2eMqzFdsyiNBenD+NkLOyivb3Y1lmCzNq+ckyYOJ7IXYzYNttOnjyRtRCyPvFvodiiu8dWnsBL4gtMb6CSgRlVtbr4QV93Qwk2PZfOb13Zzwdwx/OcrS5g8Mt7tsAgLE355yRwaWtr59Su5bocTNIoqjrCvssGV/v9dCQsTrluczqaiKrYeqHY7HFd4qxvo34H3gGkickBEvigit4nIbc4iLwEFQD7wIPBlb2zXBK6m1nYuuudd1uSV8bOLZvH7y08YtElB+mPyyHhuXJrB09kH+HB/tdvhBIWjwz+4Xf/v7LKsccRFhYdsK8BbvYCuVNXRqhqpquNU9SFVvU9V73NeV1X9iqpOUtXZqprtje2awLV5XxWFFQ387vMncO1JaX0aydNXvnb6ZFISorn9ue102LUBA7Y2r5wxSTFMTI5zO5SPJMREclnWeF7YeojDdU1uh+Nz7hfiTEjKLqxCBE71o6PBYyXERPK9c6ez5UANz2za3/MbTLfaO5R1e8pZOiXZ75L9dSen09ahPLE+9LqEWgIwrsguqmJaaoJrFwP11sXzxjI/bRi/fmUXNY02hWR/bT1QTW1TG0tdGP6hJxnJcXxm2kie2FBEc1tozQ1hCcD4XHuH8kFRFfPThrkdSo9EhJ9eOJPKhhbuWrXb7XAC1pq8ckTwmxPAx7phSTrl9S28sCW0+qZYAjA+t6ukjrrmNhakD3c7lF6ZNTaJKxdO4PH1RTaAWD+tzStn5phEhscNzlhOA7V0cjJTRsbzyLq9IXUBoCUA43ObijyjhgRCC+Co/zlrGvHREdy+cntI/UB4Q31zG5v3VbF0sv+Vf44SEa5fks72g7VkF1W5HY7PWAIwPpddVEVqYjTjhvlumIeBGhYXxX+fPY31BZW8uC20ygQDtaGggrYO5VQfjenUXxfPG0tiTAR/DaEuoZYAjM9lF1aRlT7c73qD9OSqhRPIHJ3Iz1/cSUNLm9vhBIw1eeXERIYxP92/W3yxURFcuXACr+SUcKi60e1wfMISgPGpQ9WNHKxuJCuAyj9HhYcJP10xk+KaJu55K9/tcALGmrwyFmaMIDoi3O1QenTt4jRUlcfeK3I7FJ+wBGB86mh9NSstME4AH2tB+nAuOmEMD76zl8LyI26H4/cOVTeyp+yI68M/99a4YbGcPXMUf39/H40twd8l1BKA8alNhZXERoUzY3SC26H02/c+O4PIcOFnL+xwOxS/t/aj4R8CIwEA3LAkg5rGVp79IPjHq7QEYHwqu6iKeROGEuEHo0H2V2piDF87Ywpv5B7mrdzDbofj19bkl5OSEM201MBJ+AvShzFzTCJ/DYEuoYH7v9AEnPrmNnYW1wZs+aezG5dkMDE5jp8+nxNyV4/2VkeH8m5+OUsn+9/wD8cjIlx/cjq7S+tZt6fC7XAGlSUA4zMf7KuiQyHLz3uD9EZURBi3XziTwooGHlprk4t3ZUdxLZVHWvz26t/juWDuGEbERQX9xPGWAIzPZBdWESYwb0LgJwCAZVNTWJ6Zyp/ezKe4JjS6DfbFR8M/+3n//67ERIZz9aIJvJF7mKKK4D3ZbwnA+Ex2USUzRicS70fj/g/Uj87LpK1D+cVLNnHMsdbmlzEtNYGRiTFuh9Iv15yURkSY8Nd1hW6HMmgsARifaGvv4IN91QHZ//94JoyI5bZTJ/L8lkOsLwjuenFfNLW2s7GwiqUBePR/1MjEGM6bPZpnsg9Q1xScI8FaAjA+sbO4joaWduYHyABwffGl0yYzdugQfrIyh7b2DrfD8Qvv762kpa0jIMs/nd2wJIP65jb+temA26EMCksAxieynQHgFgTBCeBjDYkK5wfnzSC3pI4nNoTepCJdWZNXRlR4GIsyRrgdyoDMHT+UeROG8uh7RUE5K5wlAOMT2UVVjB06hNFJgTMAXF+cO2sUSyaP4Lev7aKivtntcFy3Jq+c+WnDGBLl/8M/9OSGJRnsLT/C27uD75oPSwBm0Kkq2YWVATX8c1+JCLdfMJPapjaezg7OckFvVdQ3k1tSF9D1/87OnTWKUYkxQTlxvCUAM+gOVDVSWtsclOWfzqamJnDC+KG8sPWQ26G46v29nnLfSRMDu/xzVGR4GNcuTmNNXjl5pcE1IZAlADPoNjkDwM0PgiuAe3L+nNHkHKqloKze7VBcs76ggiGR4cwZl+R2KF5z5cIJxESGcd/qArdD8SpLAGbQbSysJCE6gmmjAmc8mP46f84YROCFraE7acz6gkqy0ocRGcDjPR1reFwU1yxK4z8fHgyqUWC98gmJyDkisktE8kXku128fr2IlInIh87tJm9s1wSGTUVVzEsbRnhY4IwH01+jkmJYkDY8ZMtAFfXN7CqtC5ryT2e3LJtIZLjwxzeDZy6IAScAEQkH7gHOBTKBK0Uks4tF/6GqJzi3vwx0uyYw1DS2squ0LuguADueC+aOZndpfUhOIB9s9f/ORibEcHWQtQK80QJYCOSraoGqtgBPASu8sF4TBDbvq0KDZAC43jpn1mjChJBsBQRj/b+zW5dNJCJM+FOQzAjnjQQwFtjf6fEB57ljXSoiW0XknyIy3gvbNQFgU2EV4WHCCeOHuh2Kz6QkRHPypGSe33Io6MeTP1Yw1v87G5kQwzUnpfHsB8HRCvDVp/Q8kK6qc4BVwKPdLSgit4hItohkl5WV+Sg8M1g2FlYyc0wisVHBMwBcb5w/ZzSFFQ3kHKp1OxSfCeb6f2fB1ArwRgI4CHQ+oh/nPPcRVa1Q1aOXR/4FmN/dylT1AVXNUtWslJQUL4Rn3NLa3sGWA9VBMQFMX50zaxQRYcLzW0KnDBTM9f/OgqkV4I0EsBGYIiIZIhIFXAGs7LyAiIzu9PBCYKcXtmv8XM6hWppaO0Kq/n/U0NgoTpmSzAtbi0OmDBTs9f/OgqUVMOAEoKptwFeBV/H8sD+tqjkicoeIXOgs9nURyRGRLcDXgesHul3j/7ILPUeEodQDqLML5o7hYHUjm/dVux2KTwR7/b+zYGkFeOWTUtWXVHWqqk5S1Z87z/1YVVc697+nqjNVda6qfkZVbfaMEJBdWMWE4bEBOyHIQC3PTCUqIiwkegOFSv2/s2BoBQR/qjauUFWyiypD9ugfICEmks9MS+HFrcW0B+FQwp2FSv2/s6PXBTz7wcGAnTbSEoAZFEUVDZTXt5AVhBPA9MX5c8ZwuK6ZjU45LFiFUv2/s9uOtgIC9OpgSwBmUGQ7A8CF4gngzs6YMZIhkeFB3xsolOr/nY1M9LQC/h2grYDQ+rSMz2QXVpIYE8HklHi3Q3FVbFQEZ8wYycvbS4J2ushQrP93FsitAEsAZlBkF1WRlT6csBAYAK4nF8wdQ+WRFtbtCc5J4z+u/4dmuS+QWwGWAIzXVR1pIf9wfVDPANYXy6amkBAdEbS9gTbsrWRIZDizxw51OxTXBGorwBKA8bqjE8CEcg+gzmIiw1k+M5VXtpfQ0hZ8ZaD1BRVkpQ8jKiJ0f05GJsZw1aIJAdcKCN1PzAya7KIqIsOFuSE0AFxPLpgzhtqmNtbkBdf4VpVHWsgtCd36f2dfWjYp4FoBlgCM12UXVjJrbBIxkeFuh+I3lkxOZmhsZND1Bnp/r+e8RqjW/zvr3ArYV9Hgdji9YgnAeFVzWztbD9awIMT7/x8rKiKMc2aOYtWOUppa290Ox2vWF1j9v7OPWgFv5bkdSq9YAjBetf1gDS1tHXYCuAsXzB3DkZZ23so97HYoXmP1/0862gr41+bAaAXYp2a8amOh5wSwJYBPW5QxnOT4KJ4Pkt5AVv/vWiC1AiwBGK/KLqxiYnIcyfHRbofidyLCw/js7NG8mXuY+uY2t8MZMKv/d21kYgxXLgyMVoAlAOM1qsqmoko7+j+O8+eMoam1gzd2lrodyoBZ/b97XzptEuEB0AqwBGC8Zk/ZEaoaWkN+/J/jyUobxqjEGJ7fUux2KANm9f/upSbGcFUAtALskzNes6nImQDGegB1KyxMOG/OaFbvPkxNY6vb4fTb0fr/ogz7rLtztBVwjx/PF2AJwHjNxsIqhsdFMTE5zu1Q/NoFc8fQ2q68llPidij99nH9304Adyc1MYbLs8bz7w8OUFrb5HY4XbIEYLxmU1EVJ04YhogNAHc8c8clMX74EJ7fGrhloPUFlcREhjFn3FC3Q/FrN58ykfYO5eG1e90OpUuWAIxXlNc3s7f8CAus/t8jEeH8OWN4N7+cyiMtbofTL+sLKshKG271/x5MGBHLeXPG8MSGfX5Z8rNPz3hFdqFNANMX588ZTXuH8vL2wGsFfNz/3+r/vXHrqROpb27jiQ1FbofyKZYAjFdsKqokKiKMWWNDa0rA/socncjElDheCMDeQFb/75tZY5M4ZUoyj7xb6HfDgFgCMF6RXVTF3HFJREfYAHC9cbQMtH5vBYf99ARhd6z+33e3LZtEWV0zz35w0O1QPsESgBmwptZ2th+sYX6alQT64oI5o1GFl7YFVivA6v99d/KkEcwem8QD7xTQ3qFuh/MR+wTNgG3ZX01ru9oJ4D6akprA9FEJAdUbqMrq//0iIty2bBJ7y4/4VfdfryQAETlHRHaJSL6IfLeL16NF5B/O6xtEJN0b2zX+YfuhWgArCfTDBXPHsKmoioPVjW6H0isbPpr/1+r/fXXOrFGkjYjlvtV7UPWPVsCAE4CIhAP3AOcCmcCVIpJ5zGJfBKpUdTJwF3DnQLdr/EducS3J8dGkJNgAcH11/pzRALwYICOEri+osPp/P4WHCTefMpEtB2pYX1DpdjiAd1oAC4F8VS1Q1RbgKWDFMcusAB517v8TOEPsaqGgkVtSx4zRCW6HEZDSRsQxc0wir+YExuBwVv8fmM/NH0dyfBT3rd7jdiiAdxLAWGB/p8cHnOe6XEZV24AaoMs2pIjcIiLZIpJdVhZc86cGo7b2DnaV1jFjdKLboQSs5ZmpbN5XRVlds9uhHJfV/wcuJjKcG5ZksHp3GTuc0qmb/C6Nq+oDqpqlqlkpKSluh2N6UFhxhJa2DqaPshZAf52VOQpVeDPXv1sBVv/3jmsWpREXFc4D77jfCvBGAjgIjO/0eJzzXJfLiEgEkARUeGHbxmU7i+sAmD7KWgD9NWN0AmOHDmHVDv9OAFb/946k2EiuXDiB57cWs7/S3aGivZEANgJTRCRDRKKAK4CVxyyzErjOuf854E31l9PgZkByS2qJCBMmjbQRQPtLRFiemcqavHIaWvx3prD1BRXMT7Px/73hi6dkECbwkMuDxA34k3Rq+l8FXgV2Ak+rao6I3CEiFzqLPQSMEJF84FvAp7qKmsCUW1zHpJR4uwJ4gM7KTKW5rYN3dpe7HUqXPqr/Z1j5xxtGJw1hxQljeWrjPlcHBPRKKlfVl1R1qqpOUtWfO8/9WFVXOvebVPUyVZ2sqgtVtcAb2zXuyy2pY7r1ABqwBRnDSYyJ8Nsy0Ef1/0mWALzl1lMn0tTawWPvFboWg7XlTL/VNLRysLrRegB5QWR4GKdPH8mbuaW0tXe4Hc6nfFz/t8H+vGVKagJnzhjJo+sKXSv9WQIw/ZZb4unGZj2AvGN55iiqGlrZVFTldiifcrT+b6U+77pt2SSqGlp5euP+nhceBJYATL/llnh6AFkLwDuWTUshKjzM78pAVv8fPFnpw8lKG8aDa/a60vKzBGD6LbeklmGxkYy0ISC8Ij46gpMnj2DVzlK/GSsGrP4/2G5bNomD1Y286MKosJYATL/tLK5j+qhEmwPYi5ZnplJU0cDu0nq3Q/mI1f8H1+nTRzJlZDz3rS7weeK3BGD6pb1D2WU9gLzuzBmpAKza4T9DBlv9f3CFhQm3nDqRncW1rN7t2+FvLAGYftlX2UBja7vV/70sNTGGueOH+sV5gI4OZUNBhdX/fWDFCWMZnRTD/at920M+wqdbM0Ejt9jTA2iGDQHhdWdlpvL/Xt1FaW0TqYkxPt12U2s7a/PKWbWjlDdySymvb2FIZDhnzxrl0zhCTVREGF9cmsH/vbiTLfurmTt+qE+2awnA9MvOkjrCBKakxrsdStBZ7iSAVTtKueaktEHfXkV9M2/mHmbVjlLW5JXT2NpOfHQEy6alcFZmKqdNHUlSbOSgxxHqrlg4gbvfyOO+1Xu495r5PtmmJQDTL7nFtWQkxxETaXVhb5syMp70EbGDmgD2lh9h1Y4SVu0oZVNRFR0KoxJj+Nz8cSzPTGXRxOFW8/ex+OgIrl2cxp/f3kNBWT0TUwb/4MoSgOmX3JI6ZluvkEFxdHC4R9cVUdfUSkKMd46+qxtaeOCdAl7bUUr+YU8vo+mjEvjqZyazPHMUs8Zajy63XX9yBg+u2cuDa/byy0tmD/r2LAGYPqtramVfZQOXLxjf88KmX5ZnjuLBNXtZvbuM8+eM8co6f/if7by8vYRFGcO5etEEzpyRyvjhsV5Zt/GOlIRoLps/jldzSrj9gsxBb2FbAjB9trv06BwA1gV0sMxPG8bwuChW7Sj1SgLYsr+aF7YW8/XTJ/Ots6Z5IUIzWL61fCrfPXe6T8qrlgBMn300CYx1AR004WHC6dNH8lpOCa3tHUSG97/Htqryq5dzGREXxc2nTvRilGYwjIj33ZX1dh2A6bPckloSYiIYk+TbLoqhZnlmKrVNbbzvDMXQX6t3l/FeQQVfO32y184nmOBgCcD0WW5xHTNsCIhBd8qUZKIjBjY4XHuH5+h/wvBYrlo0+F1KTWCxBGD6pKNDbRIYH4mNiuCUKSms2tH/weGe+/AguSV1/PfZ02wqR/Mp9o0wfXKwupH65jYbAsJHzspM5WB1IzucK6/7oqm1nd++tpvZY5M4f/boQYjOBDpLAKZPdhbbJDC+dPqMkYjAazl9LwP9bX0RB6sb+e650wkLs3Kd+TRLAKZPckvqEIGpqZYAfCE5Ppr5E4b1+TxATWMrf3orn1OnprBkcvIgRWcCnSUA0ye5JbWkDY8lLtp6EPvK8sxUdhTXcqCqodfvuW/1HmoaW/nOOdbn33TPEoDpk1xnEhjjO8szPXMEvN7LVkBxTSMPr93LRSeMZeYYG67DdM8SgOm1hpY29lYcsR5APjYxJZ5JKXGs2tm7BPD7VXmoeq4oNeZ4BpQARGS4iKwSkTzn32HdLNcuIh86t5UD2aZxz+7SelRtEng3nDVzFBsKKqlpbD3ucnmldTyzaT/XLk6zcX5MjwbaAvgu8IaqTgHecB53pVFVT3BuFw5wm8YlNgmMe5ZnptLWoby96/Bxl7vzlVzioiL4ymcm+ygyE8gGmgBWAI869x8FLhrg+owfyy2pIy4qnHHDhrgdSsg5YdxQUhKij9sd9P29lby+8zC3nTaJ4XFRPozOBKqBJoBUVS127pcAqd0sFyMi2SKyXkQuOt4KReQWZ9nssjLfTpBsjm9ncS3TRiVYn3IXhIUJZ84Yydu7DtPc1v6p11WVX768k9TEaG5ckuFChCYQ9ZgAROR1EdnexW1F5+XUc616d9erp6lqFnAV8HsRmdTd9lT1AVXNUtWslJSUvvwtZhCpKjuLa20EUBctz0zlSEs77+2p+NRrr+aU8sG+ar555lSGRNlMXqZ3euzMrapndveaiJSKyGhVLRaR0UCXBUpVPej8WyAibwPzgD39C9m4obimidomGwLCTSdPSiY2KpxVO0o5bdrIj55va+/g16/mMikljs/NH+dihCbQDLQEtBK4zrl/HfDcsQuIyDARiXbuJwNLgB0D3K7xsdySoyeArQuoW2Iiwzl1Sgqv7yylo+PjxvbT2QcoKDvCd86ZTsQA5g0woWeg35ZfActFJA8403mMiGSJyF+cZWYA2SKyBXgL+JWqWgIIMEcngZlqCcBVyzNTKa1tZtvBGsBzbcZdr+9mftqwjy4YM6a3BnQ9v6pWAGd08Xw2cJNzfx0w+LMbm0GVW1LHuGFDSLQJRVx1+vSRhIcJr+0oYe74oTy8di9ldc3ce/WJNj+D6TNrL5peyS2utSEg/MCwuCgWpHsGh6uob+a+1QUsz0wlK32426GZAGQJwPSoqbWdgvIjzLAhIPzC8sxR7C6t5zv/2kZDS5sN+Gb6zRKA6VH+4XraO9R6APmJs44ODrezlMsXjGfySEvMpn8sAZge2SQw/mX88Fimj0ogJjKM/zrTBnwz/WeDupse5ZbUERMZRtqIOLdDMY5fXDKb2sZWUhNj3A7FBDBLAKZHuSW1TEtNINyGgPAbJ07ocuBdY/okKEtAqkpLW4fbYQQFzxAQNgmMMcEo6BJAfXMbZ931Do+8u9ftUIJCWV0zlUdarAeQMUEo6BJAfHQEI+KjeOy9ItrarRUwUDtLPFcA2yBwxgSfoEsAADcsyeBgdSOv93IKPdO9XOsBZEzQCsoEcOaMVMYNG8LD7xa6HUrAyy2pY3RSDENjbYIRY4JNUCaA8DDhusXpvL+3kpxDNW6HE9B2Ftfa0b8xQSooEwDA5xeMJzYqnEesFdBvLW0d7Cmrt/q/MUEqaBNA0pBILj1xHCs/PER5fbPb4QSkPWX1tLbbEBDGBKugTQAA1y9Jp6W9g79v2Od2KAHJJoExJrgFdQKYlBLPsqkpPL6+yC4M64fc4jqiwsPISLYhIIwJRkGdAMDTCjhc18zL24vdDiXg7CypY0pqvE0zaEyQCvr/2cumpDAxOc66hPaDTQJjTHAL+gQQFiZcvySdLfur2byvyu1wAkZFfTOH65ptCAhjgljQJwCAS08cR0JMhHUJ7YNcZwgI6wFkTPAKiQQQFx3B5VnjeXlbMSU1TW6HExBsEhhjgl9IJACALyxOp12Vv60vcjuUgJBbUkdKQjQj4qPdDsUYM0hCJgFMGBHLmTNSefL9fTS1trsdjt/LLbEhIIwJdgNKACJymYjkiEiHiGQdZ7lzRGSXiOSLyHcHss2BuGFJOpVHWlj54SG3QggIbe0d7C6tt/q/MUFuoC2A7cAlwDvdLSAi4cA9wLlAJnCliGQOcLv9snjiCKaPSuDhd/eiqm6EEBD2lh+hpa3DegAZE+QGlABUdaeq7uphsYVAvqoWqGoL8BSwYiDb7S8R4YYl6eSW1LG+oNKNEALCR5PA2DUAxgQ1X5wDGAvs7/T4gPOcK1acMJZhsZH8dZ1NGdmd3OJaIsKESSnxbodijBlEPSYAEXldRLZ3cRuUo3gRuUVEskUku6yszOvrj4kM58qFE1i1o5T9lQ1eX38wyC2pY/LIeKIiQqaPgDEhqcf/4ap6pqrO6uL2XC+3cRAY3+nxOOe57rb3gKpmqWpWSkpKLzfRN9cuTkNEeOy9wkFZf6DLtUlgjAkJvjjE2whMEZEMEYkCrgBW+mC73RqdNIRzZ43iqY37OdLc5mYofqe6oYVDNU02CYwxIWCg3UAvFpEDwGLgRRF51Xl+jIi8BKCqbcBXgVeBncDTqpozsLAH7oYlGdQ1tfHvzQfcDsWv2BAQxoSOiIG8WVWfBZ7t4vlDwGc7PX4JeGkg2/K2EycMZe64JB5ZV8jVi9IICxO3Q/ILucU2CYwxoSJkz/KJeEYJLSg7wpr8crfD8QuNLe38bcM+xg4dQkqCDQFhTLAL2QQAcN7sMaQkRPPIu9YlFOBnL+4g/3A9d146BxFrERkT7EI6AURFhHHNojTe3lXGnrJ6t8Nx1Svbi3lywz5uPXUiS6ckux2OMcYHQjoBAFy1aAJR4WE8uq7Q7VBcU1zTyHf+tY0545L49lnT3A7HGOMjIZ8AUhKiuWDuGP656QA1ja1uh+Nz7R3Kfz31Ia3tHfzhinl28ZcxIcT+t+MZJbShpZ1nsvf3vHCQufftfDbsreSOFbPISI5zOxxjjA9ZAgBmjU1iUcZwfrdqN2vzQqdH0OZ9Vdz1eh4XzB3DpSe6NjyTMcYllgAcd185j/HDYrnxrxt5eVux2+EMutqmVr7x1AeMTorh5xfPsl4/xoQgSwCO1MQYnr51MbPGJvKVJzfz9/f3uR3SoFFVfvSf7RyqbuIPV8wjMSbS7ZCMMS6wBNBJUmwkf7tpEadMSeF7/97GvW/vcTukQfHvzQd57sND/NcZU5ifNsztcIwxLrEEcIzYqAge/EIWF8wdw52v5PLLl3YG1exhheVH+PFz21mYMZwvf2ay2+EYY1w0oLGAglVURBh/uPwEhg6J5P53CqhqaOEXF88mIjyw82VLWwffeOoDIsLD+P3lJxBu4x8ZE9IsAXQjLEy4Y8VMhsVFcfcbedQ0tvKHK+YRExnudmj99rtVu9lyoIZ7rz6RMUOHuB2OMcZlgX1IO8hEhG8tn8rtF2Tyak4pN/51I/UBOn/Au/nl3P/OHq5cOJ5zZ492OxxjjB+wBNALNyzJ4K7L57JhbyVXPbieivpmt0Pqk8ojLXzzHx8yMTmOH52f6XY4xhg/YQmgly6eN44Hrp3PrpI6Lrv/PQ5VN7odUq+oKv/7zy1UN7TyxytPJDbKqn7GGA9LAH1wxoxUHrtxIWW1zXzu3nXkH/b/EUQfX1/E6zsP891zp5M5xmb5MsZ8zBJAHy2aOIKnbj2JlvYOPn//e2w9UO12SN3aVVLH/724k9OmpXDDknS3wzHG+BlLAP0wc0wSz9x2MrFR4Vz14Aa2HahxO6RPqKhv5nerdnP5A++RGBPJby6ba0M9GGM+xRJAP2Ukx/HMbYtJGhLJdY+87xfloH0VDfz4ue0sufNN7n4jjwXpw/nbTQtJjrfpHY0xnyb+fJVrVlaWZmdnux3Gce0tP8Jl960jKjyMZ750MmNd6F+//WAN963ew0vbigkPEy6ZN46bT53I5JHxPo/FGOMuEdmkqlm9WtYSwMDlHKrhivvXk5IYzTO3LmaED464VZW1+eXcv7qAtfnlJERHcNVJE7hxSQapiTGDvn1jjH+yBOCCjYWVXPvQBiaPjOfvN59EwiCNsNnW3sFL20u4f/Uecg7VMjIhmi8uzeDKRRNsVE9jTJ8SgHUK95IF6cO59+r53PxYNjc9ms2jNy706rARjS3tPJ29nwfXFHCgqpFJKXH8+tI5rJg3huiIwB2ewhjjngGdBBaRy0QkR0Q6RKTbjCMihSKyTUQ+FJHAOKTvh89MH8lvPz+X9wsr+eqTm2lt7xjwOlWVf206wCm/fpPbV+aQmhjDg1/IYtU3l/H5BePtx98Y028DbQFsBy4B7u/Fsp9R1aCfb3HFCWOpbWzlR8/l8J1/buU3l80lrJ+jbuYfruOH/9nO+oJK5k0Yyr3XzGdB+nAvR2yMCVUDSgCquhOwPubHuHZxOtUNrfx21W4Sh0Ry+wWZfdpHjS3t/OmtPB54p4DYqAh+cfFsrlgwvt+JxBhjuuKrcwAKvCYiCtyvqg90t6CI3ALcAjBhwgQfhed9Xz19MlUNrTz87l6GxUbxjTOn9Op9b+Ue5scrt7O/spFLThzL9z87w/rxG2MGRY8JQEReB0Z18dIPVPW5Xm5nqaoeFJGRwCoRyVXVd7pa0EkOD4CnF1Av1+93RIQfnjeDmsZW7np9N0NjI7nu5PRuly+paeKOF3J4aVsJk1LiePLmRZw8Kdl3ARtjQk6PCUBVzxzoRlT1oPPvYRF5FlgIdJkAgklYmHDnpbOpbWrl9pU5JA2J5KJ5Yz+xTFt7B4++V8TvXttFW4fyP2dP4+ZTJhIVYRdpG2MG16CXgEQkDghT1Trn/lnAHYO9XX8RER7GH6+cx/WPvM+3n9lCQkwEZ8xIBeCDfVX84Nnt7Ciu5bRpKdxx4SwmjIh1OWJjTKgYaDfQi0XkALAYeFFEXnWeHyMiLzmLpQJrRWQL8D7woqq+MpDtBpqYyHAe/EIWmaMT+fITm3l9Ryk/eHYbl9y7joojzdx79Yk8cv0C+/E3xviUXQnsQxX1zVx2/3sUlB0hTOD6kzP45vIpg3bVsDEm9NiVwH5qRHw0f/viIu5bvYfPZ41n1tgkt0MyxoQwSwA+NmboEO5YMcvtMIwxxuYDMMaYUGUJwBhjQpQlAGOMCVGWAIwxJkRZAjDGmBBlCcAYY0KUJQBjjAlRlgCMMSZE+fVQECJSBhQByUDQzybWC7YfPGw/eNh+8LD94HF0P6Spakpv3uDXCeAoEcnu7dgWwcz2g4ftBw/bDx62Hzz6sx+sBGSMMSHKEoAxxoSoQEkA3c4hHGJsP3jYfvCw/eBh+8Gjz/shIM4BGGOM8b5AaQEYY4zxMksAxhgTovw6AYjIOSKyS0TyReS7bsfjFhEpFJFtIvKhiATPHJm9ICIPi8hhEdne6bnhIrJKRPKcf4e5GaMvdLMffiIiB53vxYci8lk3Y/QFERkvIm+JyA4RyRGRbzjPh9R34jj7oU/fCb89ByAi4cBuYDlwANgIXKmqO1wNzAUiUghkqWrIXewiIqcC9cBjqjrLee7XQKWq/so5MBimqt9xM87B1s1++AlQr6q/cTM2XxKR0cBoVd0sIgnAJuAi4HpC6DtxnP3wefrwnfDnFsBCIF9VC1S1BXgKWOFyTMbHVPUdoPKYp1cAjzr3H8XzxQ9q3eyHkKOqxaq62blfB+wExhJi34nj7Ic+8ecEMBbY3+nxAfrxBwYJBV4TkU0icovbwfiBVFUtdu6XAKluBuOyr4rIVqdEFNRlj2OJSDowD9hACH8njtkP0IfvhD8nAPOxpap6InAu8BWnHGAA9dQw/bOOOfjuBSYBJwDFwG9djcaHRCQe+BfwX6pa2/m1UPpOdLEf+vSd8OcEcBAY3+nxOOe5kKOqB51/DwPP4imPhbJSpwZ6tBZ62OV4XKGqpararqodwIOEyPdCRCLx/Og9oar/dp4Oue9EV/uhr98Jf04AG4EpIpIhIlHAFcBKl2PyORGJc07yICJxwFnA9uO/K+itBK5z7l8HPOdiLK45+oPnuJgQ+F6IiAAPATtV9XedXgqp70R3+6Gv3wm/7QUE4HRh+j0QDjysqj93NyLfE5GJeI76ASKAJ0NpP4jI34HT8Ax1WwrcDvwHeBqYgGe48M+ralCfIO1mP5yGp6mvQCFwa6c6eFASkaXAGmAb0OE8/X089e+Q+U4cZz9cSR++E36dAIwxxgwefy4BGWOMGUSWAIwxJkRZAjDGmBBlCcAYY0KUJQBjjAlRlgCMMSZEWQIwxpgQ9f8Bmcy8pLRZ25QAAAAASUVORK5CYII=\n",
      "text/plain": [
       "<Figure size 432x288 with 1 Axes>"
      ]
     },
     "metadata": {
      "needs_background": "light"
     },
     "output_type": "display_data"
    }
   ],
   "source": [
    "df_train.iloc[0, 1:].plot.line(title=f'time series with class = {df_train.iloc[0, 0]}');\n"
   ]
  },
  {
   "cell_type": "code",
   "execution_count": 11,
   "id": "aba5b479",
   "metadata": {
    "ExecuteTime": {
     "end_time": "2023-09-14T06:19:48.480793Z",
     "start_time": "2023-09-14T06:19:48.347245Z"
    }
   },
   "outputs": [
    {
     "data": {
      "image/png": "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\n",
      "text/plain": [
       "<Figure size 432x288 with 1 Axes>"
      ]
     },
     "metadata": {
      "needs_background": "light"
     },
     "output_type": "display_data"
    }
   ],
   "source": [
    "df_train.iloc[1, 1:].plot.line(title=f'time series with class = {df_train.iloc[1, 0]}');\n"
   ]
  },
  {
   "cell_type": "code",
   "execution_count": 12,
   "id": "e3f997cd",
   "metadata": {
    "ExecuteTime": {
     "end_time": "2023-09-14T06:20:00.011123Z",
     "start_time": "2023-09-14T06:19:59.876902Z"
    }
   },
   "outputs": [
    {
     "data": {
      "image/png": "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\n",
      "text/plain": [
       "<Figure size 432x288 with 1 Axes>"
      ]
     },
     "metadata": {
      "needs_background": "light"
     },
     "output_type": "display_data"
    }
   ],
   "source": [
    "df_train.iloc[2, 1:].plot.line(title=f'time series with class = {df_train.iloc[2, 0]}');\n"
   ]
  },
  {
   "cell_type": "code",
   "execution_count": null,
   "id": "4473f42e",
=======
   "cell_type": "code",
   "execution_count": null,
   "id": "bd18714e",
>>>>>>> 9a46b1a7abcf41c756dca7da0adb6f0582428169
   "metadata": {},
   "outputs": [],
   "source": []
  },
  {
   "cell_type": "markdown",
   "id": "04209310",
   "metadata": {},
   "source": [
    "# test"
   ]
  },
  {
   "cell_type": "code",
<<<<<<< HEAD
   "execution_count": 1,
   "id": "53a1c75f",
   "metadata": {
    "ExecuteTime": {
     "end_time": "2023-09-14T06:13:49.349043Z",
     "start_time": "2023-09-14T06:13:49.347254Z"
    }
   },
   "outputs": [],
   "source": [
    "#import pytorch\n",
    "from torch import nn,Tensor\n",
    "import torch"
   ]
  },
  {
   "cell_type": "code",
   "execution_count": null,
   "id": "a21bf7fa",
   "metadata": {},
   "outputs": [],
   "source": []
  },
  {
   "cell_type": "code",
   "execution_count": 14,
   "id": "82d3fdc0",
   "metadata": {
    "ExecuteTime": {
     "end_time": "2023-09-14T06:20:57.802218Z",
     "start_time": "2023-09-14T06:20:57.787676Z"
    }
   },
=======
   "execution_count": null,
   "id": "82d3fdc0",
   "metadata": {},
>>>>>>> 9a46b1a7abcf41c756dca7da0adb6f0582428169
   "outputs": [],
   "source": [
    "def create_datasets(train, test, train_target, test_target, valid_pct=0.1, seed=None):\n",
    "    \"\"\"Converts NumPy arrays into PyTorch datsets.\"\"\"\n",
    "    \n",
    "    train, test, train_target, test_target = train, test, train_target, test_target\n",
    "    assert len(train)==len(train_target)\n",
    "    idx = np.arange(len(train))\n",
    "    trn_idx, val_idx = train_test_split(\n",
    "        idx, test_size=valid_pct, random_state=seed)\n",
<<<<<<< HEAD
    "    \n",
=======
>>>>>>> 9a46b1a7abcf41c756dca7da0adb6f0582428169
    "    trn_ds = TensorDataset(\n",
    "        torch.tensor(train[trn_idx]).float(), \n",
    "        torch.tensor(train_target[trn_idx]).long())\n",
    "    val_ds = TensorDataset(\n",
    "        torch.tensor(train[val_idx]).float(), \n",
    "        torch.tensor(train_target[val_idx]).long())\n",
<<<<<<< HEAD
    "    \n",
=======
>>>>>>> 9a46b1a7abcf41c756dca7da0adb6f0582428169
    "    tst_ds = TensorDataset(\n",
    "        torch.tensor(test).float(),  \n",
    "        torch.tensor(test_target).long())\n",
    "    return trn_ds, val_ds, tst_ds"
   ]
  },
  {
   "cell_type": "code",
<<<<<<< HEAD
   "execution_count": 15,
   "id": "771e7c85",
   "metadata": {
    "ExecuteTime": {
     "end_time": "2023-09-14T06:21:06.170359Z",
     "start_time": "2023-09-14T06:21:06.157265Z"
    }
   },
=======
   "execution_count": null,
   "id": "771e7c85",
   "metadata": {},
>>>>>>> 9a46b1a7abcf41c756dca7da0adb6f0582428169
   "outputs": [],
   "source": [
    "def create_loaders(data, bs=128, jobs=0):\n",
    "    \"\"\"Wraps the datasets returned by create_datasets function with data loaders.\"\"\"\n",
    "    \n",
    "    trn_ds, val_ds, tst_ds = data\n",
    "    trn_dl = DataLoader(trn_ds, batch_size=bs, shuffle=True, num_workers=jobs)\n",
    "    val_dl = DataLoader(val_ds, batch_size=bs, shuffle=False, num_workers=jobs)\n",
    "    tst_dl = DataLoader(tst_ds, batch_size=bs, shuffle=False, num_workers=jobs)\n",
    "    return trn_dl, val_dl, tst_dl"
   ]
  },
  {
   "cell_type": "code",
<<<<<<< HEAD
   "execution_count": 16,
   "id": "19120fa7",
   "metadata": {
    "ExecuteTime": {
     "end_time": "2023-09-14T06:21:13.633791Z",
     "start_time": "2023-09-14T06:21:13.615834Z"
    }
   },
=======
   "execution_count": null,
   "id": "19120fa7",
   "metadata": {},
>>>>>>> 9a46b1a7abcf41c756dca7da0adb6f0582428169
   "outputs": [],
   "source": [
    "device = torch.device('cuda:0' if torch.cuda.is_available() else 'cpu')\n",
    "datasets = create_datasets(x_train, x_test, y_train, y_test, seed=1234)\n",
    "trn_dl, val_dl, tst_dl = create_loaders(datasets, bs=256)"
   ]
  },
  {
<<<<<<< HEAD
   "cell_type": "markdown",
   "id": "330b7056",
   "metadata": {
    "ExecuteTime": {
     "end_time": "2023-09-14T07:27:03.533286Z",
     "start_time": "2023-09-14T07:27:03.521411Z"
    }
   },
   "source": [
    "x_test,y_test"
   ]
  },
  {
   "cell_type": "code",
   "execution_count": 17,
   "id": "ff8a2f53",
   "metadata": {
    "ExecuteTime": {
     "end_time": "2023-09-14T06:21:26.137888Z",
     "start_time": "2023-09-14T06:21:26.121115Z"
    }
   },
=======
   "cell_type": "code",
   "execution_count": null,
   "id": "ff8a2f53",
   "metadata": {},
>>>>>>> 9a46b1a7abcf41c756dca7da0adb6f0582428169
   "outputs": [],
   "source": [
    "class CostumConv1d(nn.Module):\n",
    "    \"\"\"Implementes a 1-d convolution with 'batteries included'.\n",
    "    \n",
    "    The module adds (optionally) activation function and dropout layers right after\n",
    "    a separable convolution layer.\n",
    "    \"\"\"\n",
    "    def __init__(self, ni, no, kernel, stride, pad, drop=None,\n",
    "                 activ=lambda: nn.ReLU(inplace=True)):\n",
    "    \n",
    "        super().__init__()\n",
    "        assert drop is None or (0.0 < drop < 1.0)\n",
    "        layers = [nn.Conv1d(ni, no, kernel, stride, pad)]\n",
    "        if activ:\n",
    "            layers.append(activ())\n",
    "        if drop is not None:\n",
    "            layers.append(nn.Dropout(drop))\n",
    "        self.layers = nn.Sequential(*layers)\n",
    "        \n",
    "    def forward(self, x): \n",
    "        return self.layers(x)\n",
    "      \n",
    "class Flatten(nn.Module):\n",
    "    \"\"\"Converts N-dimensional tensor into 'flat' one.\"\"\"\n",
    "\n",
    "    def __init__(self, keep_batch_dim=True):\n",
    "        super().__init__()\n",
    "        self.keep_batch_dim = keep_batch_dim\n",
    "\n",
    "    def forward(self, x):\n",
    "        if self.keep_batch_dim:\n",
    "            return x.view(x.size(0), -1)\n",
    "        return x.view(-1)"
   ]
  },
  {
   "cell_type": "code",
<<<<<<< HEAD
   "execution_count": 19,
   "id": "201ae746",
   "metadata": {
    "ExecuteTime": {
     "end_time": "2023-09-14T06:22:25.633179Z",
     "start_time": "2023-09-14T06:22:25.623713Z"
    }
   },
   "outputs": [],
   "source": [
    "for epoch in range(1):\n",
    "    epoch_loss = 0\n",
    "    for i, batch in enumerate(trn_dl):\n",
    "        x_raw, y_batch = [t.to(device) for t in batch]\n"
   ]
  },
  {
   "cell_type": "code",
   "execution_count": 41,
   "id": "1b42e492",
   "metadata": {
    "ExecuteTime": {
     "end_time": "2023-09-14T07:31:29.129415Z",
     "start_time": "2023-09-14T07:31:29.114883Z"
    }
   },
   "outputs": [
    {
     "data": {
      "text/plain": [
       "tensor([[[ 0.4310, -0.5185, -1.1182, -1.2181, -1.3680, -1.6679, -1.8178,\n",
       "          -1.0182,  0.4810,  1.4805,  1.5804,  1.6304,  1.1806,  0.3311,\n",
       "           0.1312, -0.1187, -0.2186, -0.3186, -0.1187,  0.1312,  0.5310,\n",
       "           0.6809,  0.8808,  0.0312]],\n",
       "\n",
       "        [[-0.6122, -1.0499, -1.3625, -1.4250, -1.2375, -1.5501, -1.3000,\n",
       "          -0.6747,  0.3256,  1.1697,  1.2948,  1.2322,  0.9509,  0.3882,\n",
       "          -0.2058, -0.0808,  0.2319,  0.6383,  1.3573,  1.5136,  0.8258,\n",
       "           0.2944, -0.0808, -0.6435]],\n",
       "\n",
       "        [[-1.2627, -1.4498, -1.5199, -1.6602, -1.7070, -1.4030, -1.0990,\n",
       "          -0.1637,  0.6547,  1.0523,  1.0523,  1.0289,  0.9120,  0.6547,\n",
       "           0.7015,  0.7015,  0.7483,  0.4911,  0.3040,  0.4443,  0.5612,\n",
       "           0.8184,  0.2806, -0.1403]],\n",
       "\n",
       "        [[ 0.7143,  0.6290,  0.1173, -0.3092, -0.3092, -0.3092,  0.0320,\n",
       "          -1.6739, -1.5886, -0.2239, -0.1386,  0.2879, -0.1386, -0.4798,\n",
       "          -0.4798, -0.5651, -0.5651, -0.8209, -0.4798, -0.3092,  0.1173,\n",
       "           2.4202,  2.1643,  1.9084]],\n",
       "\n",
       "        [[-0.5821, -1.1312, -1.4973, -1.6803, -1.6803, -1.4668, -1.1923,\n",
       "          -0.7042,  0.5771,  1.3702,  1.4617,  1.2482,  1.0346,  0.5160,\n",
       "           0.6076,  0.6686,  0.6381,  0.5160,  0.2720,  0.1805, -0.0941,\n",
       "           0.7296,  0.2110, -0.0025]]])"
      ]
     },
     "execution_count": 41,
     "metadata": {},
     "output_type": "execute_result"
    }
   ],
   "source": [
    "x_raw"
   ]
  },
  {
   "cell_type": "code",
   "execution_count": 42,
   "id": "5ac928de",
   "metadata": {
    "ExecuteTime": {
     "end_time": "2023-09-14T07:31:32.302965Z",
     "start_time": "2023-09-14T07:31:32.286925Z"
    }
   },
   "outputs": [
    {
     "data": {
      "text/plain": [
       "tensor([1, 0, 1, 1, 1])"
      ]
     },
     "execution_count": 42,
     "metadata": {},
     "output_type": "execute_result"
    }
   ],
   "source": [
    "y_batch"
   ]
  },
  {
   "cell_type": "code",
   "execution_count": null,
   "id": "17fb49cb",
   "metadata": {},
   "outputs": [],
   "source": []
  },
  {
   "cell_type": "code",
   "execution_count": 20,
   "id": "59f13ca1",
   "metadata": {
    "ExecuteTime": {
     "end_time": "2023-09-14T06:22:27.777405Z",
     "start_time": "2023-09-14T06:22:27.768078Z"
    }
   },
   "outputs": [
    {
     "data": {
      "text/plain": [
       "torch.Size([60, 1, 24])"
      ]
     },
     "execution_count": 20,
     "metadata": {},
     "output_type": "execute_result"
    }
   ],
   "source": [
    "x_raw.shape"
   ]
  },
  {
   "cell_type": "code",
   "execution_count": 36,
   "id": "65b0008a",
   "metadata": {
    "ExecuteTime": {
     "end_time": "2023-09-14T07:28:31.943809Z",
     "start_time": "2023-09-14T07:28:31.932773Z"
    }
   },
   "outputs": [
    {
     "data": {
      "text/plain": [
       "torch.Size([5])"
      ]
     },
     "execution_count": 36,
     "metadata": {},
     "output_type": "execute_result"
    }
   ],
   "source": [
    "y_batch.shape"
   ]
  },
  {
   "cell_type": "code",
   "execution_count": 37,
   "id": "cf925a70",
   "metadata": {
    "ExecuteTime": {
     "end_time": "2023-09-14T07:28:51.836590Z",
     "start_time": "2023-09-14T07:28:51.825260Z"
    }
   },
   "outputs": [
    {
     "data": {
      "text/plain": [
       "<torch.utils.data.dataloader.DataLoader at 0x7fa17d8d6f10>"
      ]
     },
     "execution_count": 37,
     "metadata": {},
     "output_type": "execute_result"
    }
   ],
   "source": [
    "trn_dl"
   ]
  },
  {
   "cell_type": "code",
   "execution_count": 21,
   "id": "7dc109c7",
   "metadata": {
    "ExecuteTime": {
     "end_time": "2023-09-14T06:23:12.202311Z",
     "start_time": "2023-09-14T06:23:12.174688Z"
    }
   },
   "outputs": [
    {
     "name": "stdout",
     "output_type": "stream",
     "text": [
      "torch.Size([60, 32, 2])\n",
      "torch.Size([60, 32, 1])\n"
     ]
    }
   ],
   "source": [
    "raw_ni=x_train.shape[1] # no of input features (here:1)\n",
    "drop=0.3\n",
    "m = CostumConv1d(raw_ni,  32, 23, 1, 0, drop=drop) #self, ni, no, kernel, stride, pad, drop=None\n",
    "output_ = m(x_raw)\n",
    "print(output_.shape)\n",
    "# m = CostumConv1d(32,  64, 3, 2, 0, drop=drop)\n",
    "# output_ = m(output_)\n",
    "# print(output_.shape)\n",
    "m = nn.MaxPool1d(2, stride=2)\n",
    "output_ = m(output_)\n",
    "print(output_.shape)"
   ]
  },
  {
   "cell_type": "code",
   "execution_count": 39,
   "id": "6003d998",
   "metadata": {
    "ExecuteTime": {
     "end_time": "2023-09-14T07:29:23.700225Z",
     "start_time": "2023-09-14T07:29:23.691328Z"
    }
   },
   "outputs": [
    {
     "data": {
      "text/plain": [
       "(67, 1, 24)"
      ]
     },
     "execution_count": 39,
     "metadata": {},
     "output_type": "execute_result"
    }
   ],
   "source": [
    "x_train.shape"
   ]
  },
  {
   "cell_type": "code",
   "execution_count": 38,
   "id": "0466b194",
   "metadata": {
    "ExecuteTime": {
     "end_time": "2023-09-14T07:29:13.483912Z",
     "start_time": "2023-09-14T07:29:13.472649Z"
    }
   },
   "outputs": [
    {
     "data": {
      "text/plain": [
       "1"
      ]
     },
     "execution_count": 38,
     "metadata": {},
     "output_type": "execute_result"
    }
   ],
   "source": [
    "raw_ni"
   ]
  },
  {
   "cell_type": "code",
   "execution_count": 45,
   "id": "83e01fd2",
   "metadata": {
    "ExecuteTime": {
     "end_time": "2023-09-14T07:37:06.759363Z",
     "start_time": "2023-09-14T07:37:06.748220Z"
    }
   },
   "outputs": [
    {
     "data": {
      "text/plain": [
       "1"
      ]
     },
     "execution_count": 45,
     "metadata": {},
     "output_type": "execute_result"
    }
   ],
   "source": [
    "len(trn_dl)"
   ]
  },
  {
   "cell_type": "markdown",
   "id": "907517b1",
   "metadata": {
    "ExecuteTime": {
     "end_time": "2023-09-14T07:37:08.982852Z",
     "start_time": "2023-09-14T07:37:08.975811Z"
    }
   },
   "source": [
    "trn_dl"
   ]
  },
  {
   "cell_type": "code",
   "execution_count": null,
   "id": "122022ef",
   "metadata": {},
   "outputs": [],
   "source": []
  },
  {
   "cell_type": "code",
   "execution_count": null,
   "id": "6a7dd98d",
   "metadata": {},
   "outputs": [],
   "source": []
  },
  {
   "cell_type": "code",
   "execution_count": 22,
   "id": "a386833e",
   "metadata": {
    "ExecuteTime": {
     "end_time": "2023-09-14T06:23:19.820503Z",
     "start_time": "2023-09-14T06:23:19.808907Z"
    }
   },
=======
   "execution_count": null,
   "id": "a386833e",
   "metadata": {},
>>>>>>> 9a46b1a7abcf41c756dca7da0adb6f0582428169
   "outputs": [],
   "source": [
    "class Classifier(nn.Module):\n",
    "    def __init__(self, raw_ni, no, drop=.5):\n",
    "        super().__init__()\n",
    "        \n",
    "        self.raw = nn.Sequential(\n",
    "            CostumConv1d(raw_ni,  128, 23, 1, 0, drop=drop),\n",
    "            # CostumConv1d(    32,  64, 3, 2, 0, drop=drop),\n",
    "            # CostumConv1d(    64,  256, 3, 1, 0, drop=drop),\n",
    "            # CostumConv1d(    256,  256, 2, 1, 0, drop=drop),\n",
    "            # CostumConv1d(    256, 256, 2, 1, 0, drop=drop),\n",
    "            nn.MaxPool1d(2, stride=2),\n",
    "            Flatten(),\n",
    "            nn.Dropout(drop), nn.Linear(128, 64), nn.ReLU(inplace=True),\n",
    "            nn.Dropout(drop), nn.Linear( 64, 64), nn.ReLU(inplace=True))\n",
    "        \n",
    "        self.out = nn.Sequential(\n",
    "            nn.Linear(64, 64), nn.ReLU(inplace=True), nn.Linear(64, no))\n",
    "        \n",
    "    def forward(self, t_raw):\n",
    "        raw_out = self.raw(t_raw)\n",
    "        out = self.out(raw_out)\n",
    "        return out"
   ]
  },
  {
   "cell_type": "code",
<<<<<<< HEAD
   "execution_count": 23,
   "id": "29b34d41",
   "metadata": {
    "ExecuteTime": {
     "end_time": "2023-09-14T06:23:34.459269Z",
     "start_time": "2023-09-14T06:23:34.445158Z"
    }
   },
   "outputs": [],
   "source": [
    "raw_feat = x_train.shape[1] # =1\n",
    "\n",
    "lr = 0.001\n",
    "n_epochs = 500\n",
    "iterations_per_epoch = len(trn_dl) # =1\n",
=======
   "execution_count": null,
   "id": "29b34d41",
   "metadata": {},
   "outputs": [],
   "source": []
  },
  {
   "cell_type": "code",
   "execution_count": null,
   "id": "f46c4608",
   "metadata": {},
   "outputs": [],
   "source": [
    "raw_feat = x_train.shape[1]\n",
    "\n",
    "lr = 0.001\n",
    "n_epochs = 500\n",
    "iterations_per_epoch = len(trn_dl)\n",
>>>>>>> 9a46b1a7abcf41c756dca7da0adb6f0582428169
    "num_classes = 2\n",
    "best_acc = 0\n",
    "patience, trials = 200, 0\n",
    "base = 1\n",
    "step = 2\n",
    "loss_history = []\n",
    "acc_history = []\n",
    "\n",
    "model = Classifier(raw_feat, num_classes).to(device)\n",
    "criterion = nn.CrossEntropyLoss()\n",
    "opt = optim.Adam(model.parameters(), lr=lr)\n",
<<<<<<< HEAD
    "\n"
   ]
  },
  {
   "cell_type": "code",
   "execution_count": 47,
   "id": "f46c4608",
   "metadata": {
    "ExecuteTime": {
     "end_time": "2023-09-14T07:55:06.748894Z",
     "start_time": "2023-09-14T07:55:05.396678Z"
    }
   },
   "outputs": [
    {
     "name": "stdout",
     "output_type": "stream",
     "text": [
      "Start model training\n",
      "Epoch:   1. Loss: 0.6886. Acc.: 42.86%\n",
      "Epoch 1 best model saved with accuracy: 42.86%\n",
      "Epoch:   2. Loss: 0.6881. Acc.: 42.86%\n",
      "Epoch:   4. Loss: 0.6954. Acc.: 42.86%\n",
      "Epoch:   8. Loss: 0.6801. Acc.: 42.86%\n",
      "Epoch 11 best model saved with accuracy: 57.14%\n",
      "Epoch 15 best model saved with accuracy: 71.43%\n",
      "Epoch:  16. Loss: 0.6543. Acc.: 71.43%\n",
      "Epoch 18 best model saved with accuracy: 85.71%\n",
      "Epoch 19 best model saved with accuracy: 100.00%\n",
      "Epoch:  32. Loss: 0.4913. Acc.: 100.00%\n",
      "Epoch:  64. Loss: 0.1371. Acc.: 100.00%\n",
      "Epoch: 128. Loss: 0.1366. Acc.: 100.00%\n",
      "Early stopping on epoch 219\n",
      "Done!\n"
     ]
    }
   ],
   "source": [
=======
    "\n",
>>>>>>> 9a46b1a7abcf41c756dca7da0adb6f0582428169
    "print('Start model training')\n",
    "\n",
    "for epoch in range(1, n_epochs + 1):\n",
    "    \n",
    "    model.train()\n",
    "    epoch_loss = 0\n",
    "    for i, batch in enumerate(trn_dl):\n",
    "        x_raw, y_batch = [t.to(device) for t in batch]\n",
    "        opt.zero_grad()\n",
    "        out = model(x_raw)\n",
    "        loss = criterion(out, y_batch)\n",
    "        epoch_loss += loss.item()\n",
    "        loss.backward()\n",
    "        opt.step()\n",
    "        \n",
<<<<<<< HEAD
    "    epoch_loss /= 1#trn_sz\n",
=======
    "    epoch_loss /= trn_sz\n",
>>>>>>> 9a46b1a7abcf41c756dca7da0adb6f0582428169
    "    loss_history.append(epoch_loss)\n",
    "    \n",
    "    model.eval()\n",
    "    correct, total = 0, 0\n",
    "    for batch in val_dl:\n",
    "        x_raw, y_batch = [t.to(device) for t in batch]\n",
    "        out = model(x_raw)\n",
    "        preds = F.log_softmax(out, dim=1).argmax(dim=1)\n",
    "        total += y_batch.size(0)\n",
    "        correct += (preds == y_batch).sum().item()\n",
    "    \n",
    "    acc = correct / total\n",
    "    acc_history.append(acc)\n",
    "\n",
    "    if epoch % base == 0:\n",
    "        print(f'Epoch: {epoch:3d}. Loss: {epoch_loss:.4f}. Acc.: {acc:2.2%}')\n",
    "        base *= step\n",
    "\n",
    "    if acc > best_acc:\n",
    "        trials = 0\n",
    "        best_acc = acc\n",
    "        torch.save(model.state_dict(), 'best.pth')\n",
    "        print(f'Epoch {epoch} best model saved with accuracy: {best_acc:2.2%}')\n",
    "    else:\n",
    "        trials += 1\n",
    "        if trials >= patience:\n",
    "            print(f'Early stopping on epoch {epoch}')\n",
    "            break\n",
    "            \n",
    "print('Done!')"
   ]
<<<<<<< HEAD
  },
  {
   "cell_type": "code",
   "execution_count": 48,
   "id": "eed72837",
   "metadata": {
    "ExecuteTime": {
     "end_time": "2023-09-14T07:55:14.399568Z",
     "start_time": "2023-09-14T07:55:14.389645Z"
    }
   },
   "outputs": [],
   "source": [
    "def smooth(y, box_pts):\n",
    "    box = np.ones(box_pts)/box_pts\n",
    "    y_smooth = np.convolve(y, box, mode='same')\n",
    "    return y_smooth"
   ]
  },
  {
   "cell_type": "code",
   "execution_count": null,
   "id": "e515878c",
   "metadata": {},
   "outputs": [],
   "source": []
  },
  {
   "cell_type": "code",
   "execution_count": null,
   "id": "31cab8d3",
   "metadata": {},
   "outputs": [],
   "source": []
  },
  {
   "cell_type": "code",
   "execution_count": 49,
   "id": "c0510472",
   "metadata": {
    "ExecuteTime": {
     "end_time": "2023-09-14T07:55:15.701239Z",
     "start_time": "2023-09-14T07:55:15.460247Z"
    }
   },
   "outputs": [
    {
     "data": {
      "image/png": "iVBORw0KGgoAAAANSUhEUgAAAtAAAAEWCAYAAABPDqCoAAAAOXRFWHRTb2Z0d2FyZQBNYXRwbG90bGliIHZlcnNpb24zLjcuMSwgaHR0cHM6Ly9tYXRwbG90bGliLm9yZy/bCgiHAAAACXBIWXMAAAsTAAALEwEAmpwYAABibklEQVR4nO3deZijZZXw/+9JKkvte3f13k3TDTRbAy2CC4Igq4KKo6DiMr4yLjjujr4zow6O4zY/dZwXF3RQUQEdXAYdUBRBVoFmX3ul6b32LVWVpJKc3x/PUql0au2kUsv5XFddlTx5ktxP0v3Uycm5zy2qijHGGGOMMWZyAqUegDHGGGOMMXOJBdDGGGOMMcZMgQXQxhhjjDHGTIEF0MYYY4wxxkyBBdDGGGOMMcZMgQXQxhhjjDHGTIEF0OawiIiKyJHu5e+KyD9PZt9pPM/bROT26Y5zrhKRmIgcUepxGGNmFzv3zi8TvYdm9rEAeoETkd+LyNV5tl8iIgdFpGyyj6Wq71PVLxRgTKvdE77/3Kr6M1U993AfO89znSkiewv9uJN87kP+qInI50Xkp951Va1S1Z0TPE7JjsEYMz0L/dyb9ZxrRCQjIt8p1nOUmoj8SET+NWfbqNd6su+hiOwSkXOKNVYzeRZAmx8DbxcRydl+BfAzVU2VYExmBk3lD7UxpmDs3Ot4B9ANvEVEIjP5xCISnMnnKzU71xeWBdDmN0Aj8Epvg4jUA68FrheRU0XkARHpEZEDIvL/RCSc74FyP2WLyCfd++wXkb/N2fciEXlMRPpEZI+IfD7r5rvd3z1uCcPpIvIuEbk36/4vE5GHRaTX/f2yrNvuEpEviMh9ItIvIreLSNNUXxgROcZ9rB4ReUZELs667UIRedZ9/H0i8gl3e5OI/M69T5eI3CMi0/5/lvM17SHPKSKVwG3AUve1ionIUhGJiMg33dd+v3s54j7OmSKyV0T+QUQOAj8UkadF5HVZzxsSkQ4ROWm6YzfGjOs3LPBzr/vh4R3APwHDwOtybr9ERB53x7pDRM53tzeIyA/d4+sWkd+420eN1d2WfQ79kYh8R0RuFZEB4KwJXg9E5BUicr/7Puxxn+MlItIqWQG4iLxRRJ4Y61gnkv0ejvV3RER+AqwEfuu+P59y97/Y/RvV474Hx2Q97i73XP8kMOD+2/hlznN/S0T+Y7pjX6gsgF7gVHUI+AXOSczzZuB5VX0CSAMfBZqA04GzgQ9M9Ljuie4TwGuAdUDuV04D7nPWARcB7xeR17u3neH+rnNLGB7IeewG4H+Bb+H8Afo68L8i0pi121uBdwOLgLA7lkkTkRDwW+B29zE+BPxMRI5yd/kv4O9UtRo4Dvizu/3jwF6gGVgM/F9Ap/Lc4zjkOVV1ALgA2O++VlWquh/4R+A0YCNwInAqzh8pTwvQAKwCrgSuB96edfuFwAFVfaxAYzfGZLFzLwCvAJYDN+G8Fu/Meq5Tcc5Ln3THegawy735J0AFcKz7PN8Y5zlyvRX4IlAN3Ms4r4eIrMJJUPwnzjl9I/C4qj4MdALZpS1XuOMthLx/R1T1CmA38Dr3/fmqiKwHbgQ+4u5/K06Anf1h63L32OqAnwLni0ide4xlwGUFHPuCYQG0AeerxDeJSNS9/g53G6r6iKr+VVVTqroL+B7wqkk85puBH6rq026Q9/nsG1X1LlV9SlUzqvokzglgMo8Lzolgm6r+xB3XjcDzjM5e/FBVt2b9kdo4ycf2nAZUAV9W1aSq/hn4Hc6JCJxsyQYRqVHVblV9NGv7EmCVqg6r6j2qOl4A/aibNegRkR7g0+PsO9Zz5vM24GpVbVPVduBfcE7wngzwOVVNuK/RT4ELRaTGvf0KnD9SxpjiWejn3ncCt6lqN3ADTmC3yL3tPcB1qvpHd6z7VPV5EVmCkzR4n3seHFbVv0xy/AD/o6r3uY8Zn+D1eCvwJ1W90X2eTlV93L3tx7hJB/eDxXnuMYzlEznn+ifH2Xcqf0feAvyv+zoNA/8OlAMvy9rnW6q6R1WHVPUAzjcNf+Pedj7QoaqPjDMek4cF0AZVvRfoAF4vImtxspU3AIjIeverpIMi0gf8G05GZCJLgT1Z11/MvlFEXioid4pIu4j0Au+b5ON6j/1izrYXgWVZ1w9mXR7ECYanYimwR1UzYzzHpThZ2hdF5C8icrq7/WvAduB2EdkpIuMFxAAnq2qd9wN8eZx9x3rOscaf/Rq96G7ztKtq3LviZq3vAy51MxMXAD+bYOzGmMOwkM+9IlKOE8T9DMDNdu/GCVoBVgA78tx1BdDlBt3Tkf3aTPR6jDUGcJIOrxOnjO7NwD1ucDqWf885158wzr5T+Tsy6j1x/2btYfR7sifnPn7w7/62ZMk0WABtPNfjZD/eDvxBVVvd7d/ByTCsU9UanK+Scie95HMA5+TjWZlz+w3ALcAKVa0Fvpv1uBOVPOzHKT3IthLYN4lxTdZ+YIWMrl/2n0NVH1bVS3C+PvwNTqYFVe1X1Y+r6hHAxcDHROTsQgxorOck/+uV+xqtdLf5D5fnPt5J9W+AB1S1kK+nMSa/hXrufQNQA3zb/ZBwECfo88o49gBr89xvD9DglSDkGMAp7QBARFry7JN7jOO9HmONAff8+ADwRgr8jd0Ef0dyxz/qPRERwXn/s9+T3Pv8BjhBRI7Dqbm3ZMk0WABtPNfj1Mq9F/crRFc10AfERORo4P2TfLxfAO8SkQ0iUgF8Luf2apwsQtytdXtr1m3tOCUGY/U/vhVYLyJvFZEyEXkLsAGnxGJaRCSa/QM8hJM9+ZQ4E+rOxPma8iYRCYvTG7XW/cqszx0vIvJaETnSPYn14tQxZvI95xTHN+ZzAq1Ao4jUZt3lRuCfRKRZnEk8n8XJmIznN8DJwIexejhjZspCPfe+E7gOOB6nzGMj8HLgRBE5HmfOx7tF5GxxJtAtE5Gj3SzvbTiBd717fvZqt58AjhWRje55/POTGMd4r8fPgHNE5M3u8TaKyMas268HPuUew6+m8RrkNcHfkVZGvz+/AC5yX6cQTv10Arh/rMd3v328GefDw0OqurtQY19ILIA2ALg1dvcDlTifxj2fwDmh9APfB34+yce7DfgmzuS67YxMsvN8ALhaRPpxgrtfZN13EGeSx31uvdhpOY/difOp+eM4Ezk+BbxWVTsmM7Y8lgFDOT8rcALmC3C+Yv028A5Vfd69zxXALver1ffh1ByDM2nnT0AMJzvxbVW9c5rjypX3Od0x3QjsdF+vpcC/Aptx6uyeAh51t43JrVn8JbCGAv4xMMaMbSGee0VkGc6kyG+q6sGsn0eA3wPvVNWHcCYjfgMniPwLI5nWK3DqhJ8H2nAm0KGqW4Grcc7B23AmCU5kvNdjN07Z3MeBLuBxnEnZnl+7Y/q1+9oVynh/R76EkxzpEZFPqOoWnG8v/hPnb9XrcCYZJid4jh/jBP5WvjFNMv78JmPMQiIinwXWq+rbJ9zZGGMWOBHZgdMd6U+lHstUiMhKnA8gLaraV+rxzEXWVNsYA/gzyd/D6G4dxhhj8hCRS3Hqi3Oz/LOaO7fnY8BNFjxPnwXQxhhE5L04X/v+RFXvnmB3Y4xZ0ETkLpz67ytyujXNam7XkFaczh3nl3g4c5qVcBhjjDHGGDMFNonQGGOMMcaYKZhzJRxNTU26evXqUg/DGGOm7JFHHulQ1eZSj2Mm2TnbGDOXjXXennMB9OrVq9m8eXOph2GMMVMmIrmruM17ds42xsxlY523rYTDGGOMMcaYKbAA2hhjjDHGmCmwANoYY4wxxpgpsADaGGOMMcaYKShqAC0i54vIFhHZLiKfznP7N0Tkcfdnq4j0FHM8xhhjjDHGHK6iBdAiEgSuAS7AWa3nchHZkL2Pqn5UVTeq6kbgP4FfFWs8xhhjxici14lIm4g8PcbtIiLfcpMiT4rIyTM9RmOMmQ2KmYE+FdiuqjtVNQncBFwyzv6XAzcWcTzGGGPG9yPGX973AmCd+3Ml8J0ZGJMxxsw6xewDvQzYk3V9L/DSfDuKyCpgDfDnMW6/EudkzcqVKw9rUKrKbx7fx6lrGllWV35Yj2WMMfOJqt4tIqvH2eUS4HpVVeCvIlInIktU9cDMjLCwfvPYPna2x0o9DGPMDDhheR3nbFhcsMebLQupXAbcrKrpfDeq6rXAtQCbNm3Sw3mi6+7bxRd+9yxHNFXy6w+8nNqK0OE8nDHGLCT5EiPLgFEBdCGTHsUykEjx0V88jiqIlHo0xphie9tLV86ZAHofsCLr+nJ3Wz6XAR8s1kC+f/dOkukM7f0JfvrXFzllVT1P7u3h/T97hB//7amEgiOVLKpKRyxJc3WkWMMxxph5rZBJj2LZ1hZDFb53xSmcd2xLqYdjjJljilkD/TCwTkTWiEgYJ0i+JXcnETkaqAceKNZAfvXYPr72hy3c8OBuLjphCT9890v40htP4P4dnXz2f57B+TbScd19u3jpv/2J+7Z3FGs4xhgzV00lMTKrbW3tB2D94uoSj8QYMxcVLQOtqikRuQr4AxAErlPVZ0TkamCzqnrB9GXATZodxRbYbR9+JYPJFKpQGXEO+U2nLGdHe4zv3LWDhsoQ73nFEdSVh7j+gV1kFD7y88e59e9faZloY4wZcQtwlYjchDOnpXeu1j9va+0nUhZgZUNFqYdijJmDiloDraq3ArfmbPtszvXPF3MMnorwoYf6qfOOoiuW5Jo7d3DNnTs4flktL3YO8v4z13LdvS/w0Z8/zodefSRpVV62tmkmhmmMMSUjIjcCZwJNIrIX+BwQAlDV7+Kczy8EtgODwLtLM9LDt7U1xtrmKoIBK4A2xkzdbJlEWBIiwr+98Xhefcwintrby3f/soO6ihAfPnsdKxsq+MyvnuLe7R1UR8p44nPnEnBPtIPJFG19CVY3VZb4CIwxpnBU9fIJbleKOF9lJm1r7efUNQ2lHoYxZo5a0AE0QDAgnHdsC+cd28L5x7WQyijRUJDLXrKCroEkj+3u5k/PtbG7a9APmP/jT9u44aHdPPHZkaDaGGPM3NAXH2Z/b5x1Vv9sjJmmoi7lPdcct6yWjSvqACc7/cGzjuQj56wH4On9vf5+f32hi/54iq7BZCmGaYwx5jBsb3N6P9sEQmPMdFkAPYH1i6sJBYWn9/UBEB9O86wbTB/sjZdyaMYYY6bBO3fbYlrGmOmyAHoC4bIAR7VU88z+XuLDaZ7Z38dw2mkY0tpnAbQxxsw1nQPOt4dNVeESj8QYM1ct+BroyThuaS2/eXwfJ/zL7SzPylgctADaGGPmnM5YAoD6SgugjTHTYxnoSTh2WS3x4QwV4SA7OwZYUhslIFbCYYwxc1HXQJLa8tCoVWiNMWYqLAM9CW86eTmhgHDhCUv40A2PcfSSan7z2D4O9sa5c0sbxy6tYVF1tNTDNMYYMwmdsSSNVr5hjDkMFkBPQnk4yGWnrgTgx397KgB/3dHJcwf7uPnRvVxx2iquvuS4Ug7RGGPMJHXEEjRa+YYx5jDY91fTtLgmytP7+lCFv+7sLPVwjDHGTFLXQJLGykiph2GMmcMsgJ6mJbUjJRtbW2P+pBRjjDGzW+dAkgYr4TDGHAYLoKdpsRtAe22QHnqhq5TDMcYYMwnpjNI9mKTJSjiMMYfBAuhpaqlxAui3n7aK8lCQBy2ANsaYWa97MIkqNFgAbYw5DBZAT9PRLTWUBYRzN7Rw+tpGbn5kL0/t7Z34jsYYY0qmy11EpbHKaqCNMdNnAfQ0bVhaw9P/ch4bltbwxTccR215iHf98CEGEqlSD80YY8wYOtz5KtbGzhhzOCyAPgzRUBCAJbXlfOMtG+kcSHLrUwdKPCpjjDFj8TPQ1oXDGHMYLIAukJesrmdNUyX//cjeUg/FGGPMGDpjXgmHZaCNMdNnAXSBiAhvOmU5D73Qxc72WKmHY4wxJo/OWAIRqK+wANoYM30WQBfQm05ZTlWkjI/+4gkSqXSph2OMMSZH50CS+oowwYCUeijGmDnMAugCWlwT5d//5gSe2NPDa791L7+0cg5jzBwiIueLyBYR2S4in85z+yoRuUNEnhSRu0RkeSnGeTg6Y0lrYWeMOWxFDaAnOhm7+7xZRJ4VkWdE5IZijmcmnH/cEv7jso0kUhm+/setpR6OMcZMiogEgWuAC4ANwOUisiFnt38HrlfVE4CrgS/N7CgPn7OMtwXQxpjDU7QAejInYxFZB3wGeLmqHgt8pFjjmUmXbFzG+ce10BFLoKqlHo4xxkzGqcB2Vd2pqkngJuCSnH02AH92L9+Z5/ZZr2MgQZP1gDbGHKZiZqAnczJ+L3CNqnYDqGpbEcczoxorwyRSGQaTVgttjJkTlgF7sq7vdbdlewJ4o3v5DUC1iDTmPpCIXCkim0Vkc3t7e1EGO11dA1bCYYw5fMUMoCdzMl4PrBeR+0TkryJyfr4Hms0n47F4J2ivZZIxxswDnwBeJSKPAa8C9gGHZAlU9VpV3aSqm5qbm2d6jGMaTmfoGRy2FnbGmMNW6kmEZcA64EzgcuD7IlKXu9NsPRmPx/uKsHMgUeKRGGPMpOwDVmRdX+5u86nqflV9o6qeBPyju61nxkZ4mLoHvUVULIA2xhyeYgbQE56McbLSt6jqsKq+AGzFCajnPMtAG2PmmIeBdSKyRkTCwGXALdk7iEiTiHh/Nz4DXDfDYzwsI4uoWA20MebwFDOAnvBkDPwGJ/uMiDThlHTsLOKYZoz3FaG3bKwxxsxmqpoCrgL+ADwH/EJVnxGRq0XkYne3M4EtIrIVWAx8sSSDnSYvgLYaaGPM4Sor1gOrakpEvJNxELjOOxkDm1X1Fve2c0XkWZw6uk+qamexxjSTGiudDEeHlXAYY+YIVb0VuDVn22ezLt8M3DzT4yoUr6SuyWqgjTGHqWgBNEzqZKzAx9yfeaU8HKQiHKTLSjiMMWZW8Es4Kq2EwxhzeEo9iXBea6gM02klHMYYMyt0DSQJBoTa8lCph2KMmeMsgC6ixqqIBdDGGDNLdA4kqK8IEwhIqYdijJnjLIAuoqbKMJ0xq4E2xpjZoDNmy3gbYwrDAugiaqgMWxcOY4yZJToHkraIijGmICyALqLGqgidsSTOXEm49akD/Ovvni3xqIwxZmGyZbyNMYViAXQRNVaGSaYzxBIp2vrifOBnj/KDe1/wA2pjjDEzpyOW8FeJNcaYw1HUNnYLXUttFIDdXYP81z0v+NsHk2lCwQChoCBik1mMMabYkqkM/fGU1UAbYwrCMtBFdNyyWgAe3d3DrU8fIBx0Xu62/gSnf+kObn5kbymHZ4wxC4Y3H6XBaqCNMQVgAXQRrW6soCZaxg0P7iY+nOHC41sA2NraT+dAkif29pR2gMYYs0B0uB2RbBEVY0whWABdRCLCiSvqeO5AHwDnHusE0Nta+wHY0zVUsrEZY8xC4mWgrQuHMaYQLIAushOWO2UcqxsrWL+4GoCtrTEA9nYPlmxcxhizkHQOeBloC6CNMYfPAugiO3F5HQCbVjdQX+EsH7utzQugh6wjhzHGzIDOmJuBthIOY0wBWABdZCevqqciHOTsoxdRWx5CBHa0OwF0IpWhvd9WKjTGmGLrHEhSFhBqyq35lDHm8NmZpMiaqiI8+s+vIRoKAlATDdE7NOzfvqd7kEU10VINzxhjFoSumLMKobUONcYUgmWgZ4AXPAP+KlihoHMSt4mExhhTfJ0DCRqsfMMYUyAWQM+wOrcO+pglNQDs6bKJhMYYU2ydA0marAOHMaZALICeYQ0Vzgl8eX05zdUR9lgnDmPMLCEi54vIFhHZLiKfznP7ShG5U0QeE5EnReTCUoxzOjpjSf8bQGOMOVwWQM+wOjeAbqqKsKK+nN2WgTbGzAIiEgSuAS4ANgCXi8iGnN3+CfiFqp4EXAZ8e2ZHOX2dsYR14DDGFIwF0DOsodIp4WiqinBEcxUvdAyUeETGGAPAqcB2Vd2pqkngJuCSnH0UqHEv1wL7Z3B80xYfTjOQTNsiKsaYgrEAeoZ5Gejm6ghrm6to7UvQHx+e4F7GGFN0y4A9Wdf3utuyfR54u4jsBW4FPpTvgUTkShHZLCKb29vbizHWKfFWIayvsADaGFMYRQ2gJ1FP9y4RaReRx92f/1PM8cwGXg1eU1WEtc2VAOxstyy0MWZOuBz4kaouBy4EfiIih/wdUdVrVXWTqm5qbm6e8UHmiiVSANYD2hhTMEU7m2TV070GJ5PxsIjcoqrP5uz6c1W9qljjmG0W1zg1eEtqo357ux3tMU5cUVfCURljDPuAFVnXl7vbsr0HOB9AVR8QkSjQBLTNyAinyfuWrzoaKvFIjDHzRTEz0JOpp1twXrV+ET/+21M5dmkNqxorKAuIZaCNMbPBw8A6EVkjImGcSYK35OyzGzgbQESOAaJA6Ws0JtAfdzLQVRHLQBtjCqOYAfRk6ukALnXbId0sIivy3D7r6ukORzAgvGp9MyJCKBhgZWOFv7S3McaUiqqmgKuAPwDP4XTbeEZErhaRi93dPg68V0SeAG4E3qWqWpoRT54XQNdELYA2xhRGqc8mvwVuVNWEiPwd8GPg1bk7qeq1wLUAmzZtmvUn66lY21xlAbQxZlZQ1VtxJgdmb/ts1uVngZfP9LgOl1cDXWUBtDGmQIqZgZ6wnk5VO1U14V79AXBKEcczKx3RXMmujkEymXn1ucAYY2aNmJVwGGMKrJgB9IT1dCKyJOvqxThfGy4oi6qjJNMZ/ytGY4wxhdUfH0YEKsMWQBtjCqNoZxNVTYmIV08XBK7z6umAzap6C/D3bm1dCugC3lWs8cxW3sIqXYNJaitshrgxxhRafyJFVbiMQEBKPRRjzDxR1I/jk6in+wzwmWKOYbbzFlbpHkyyhsoSj8YYY+afWDxFtdU/G2MKyFYiLDFvZaxud6UsY4wxhdUfT9kEQmNMQVkAXWINfgbalvM2xphiiCVSNoHQGFNQFkCXWJ1bA20ZaGOMKY7++LCtQmiMKSgLoEusOlJGWUDoHrQA2hhjiqE/YSUcxpjCsgC6xESEuoqwlXAYY0yRxOIpqq2EwxhTQBZAzwL1FSEr4TDGmCLpty4cxpgCswB6FqivDFsJhzHGFEEqnWFoOE1VxGqgjTGFYwH0LFBfEbIA2hhjimAgkQawDLQxpqAsgJ4F6q0G2hhjiqIv7pxbbRKhMaaQLICeBeorw3QPJFFVfvLALr5++5ZSD8kYY+aFWCIFYJMIjTEFZQH0LFBfESKVUWKJFLc+dZBbnz5Y6iEZY8y80B93A2jrA22MKSALoGeBOn8572E6BxIMJdMlHpExxswPsYSVcBhjCs/OKLPAyHLeSTpjSbTE4zHGmPnCy0DbUt7GmEKyM8osUF/pBNDt/Qm6B5OEy+yLAWOMKYS+IScDXVNuf+6MMYVjkdossKQ2CsDzB/vIKMSHM2Qyloc2xswsETlfRLaIyHYR+XSe278hIo+7P1tFpKcEw5ySTneRKu+bPmOMKQT7SD4LLKqOEBB4al+vvy2RylAeDpZwVMaYhUREgsA1wGuAvcDDInKLqj7r7aOqH83a/0PASTM+0CnqjCWpqwhRFrR8kTGmcOyMMguUBQMsqo7y9L4+f9tgMsW+niFULRNtjJkaEXmdiEz1/H4qsF1Vd6pqErgJuGSc/S8HbpzuGGdK10CSxkrLPhtjCssC6FliSV2UfT1D/vVdnQOc8dU7+dNzbSUclTFmjnoLsE1EvioiR0/yPsuAPVnX97rbDiEiq4A1wJ/HuP1KEdksIpvb29unMOzC64glaKyMlHQMxpj5xwLoWcKrg/bs6hgknVG2HOwb4x7GGJOfqr4dp7xiB/AjEXnADWqrC/QUlwE3q2renpuqeq2qblLVTc3NzQV6yunpHEjSWGUZaGNMYVkAPUssqS0fdb09lgAYlZU2xpjJUtU+4GacUowlwBuAR93a5Xz2ASuyri93t+VzGXOgfAPcEg4LoI0xBVbUAHqiGd1Z+10qIioim4o5ntksNwPd1ucE0Hu7LYA2xkyNiFwsIr8G7gJCwKmqegFwIvDxMe72MLBORNaISBgnSL4lz2MfDdQDDxRj7IWUzijdg0karITDGFNgRevCMZkZ3e5+1cCHgQeLNZa5YKwMtAXQxphpuBT4hqrenb1RVQdF5D357qCqKRG5CvgDEASuU9VnRORqYLOqesH0ZcBNOgdmOHcPJlGFJstAG2MKrJht7PwZ3QAi4s3ofjZnvy8AXwE+WcSxzHpL6pwMdENlmK6BJB39IyUcmYwSCEgph2eMmVs+DxzwrohIObBYVXep6h1j3UlVbwVuzdn22Zzrny/oSIuoM+b2gLYuHMaYAitmCceEM7pF5GRghar+73gPNJtmdBeLV8KxvN7JRLf1xwFIpjJ0uNloY4yZpP8GMlnX0+62BaVzwDl3WhcOY0yhlWwSoduj9OuMXY/nm00zuotlUXWUsoCwor4CcJb19uyxMg5jzNSUub2cAXAvL7g0rJeBtkmExphCK2YAPdGM7mrgOOAuEdkFnAbcslAnEgYDwjcv28j7XrUWgL54yr/NOnEYY6aoXUQu9q6IyCVARwnHUxKdMS8DbQG0MaawilkD7c/oxgmcLwPe6t2oqr1Ak3ddRO4CPqGqm4s4plnttScsJZUe+da1sTJM50CSvd2DJRyVMWYOeh/wMxH5f4DglNO9o7RDmnldA0kCAnUVFkAbYwqraAH0FGZ0myxlwQDhYIBkOkNzdYSMqnXiMMZMiaruAE4TkSr3eqzEQyqJjoEk9RVhgjYJ2xhTYJMKoEWkEhhS1YyIrAeOBm5T1eHx7jeZGd1Z28+c1IgXgGjICaCro2UEpJyDvfFSD8kYM8eIyEXAsUBUxAkgVfXqkg5qhrX1JWiqsgmExpjCm2wN9N04J+FlwO3AFcCPijWoha48HASgMlJGS23UAmhjzJSIyHeBtwAfwinh+BtgVUkHVQLb2/pZu6iy1MMwxsxDkw2gRVUHgTcC31bVv8HJbJgiqAg7XwxURcpYXBOltc8CaGPMlLxMVd8BdKvqvwCnA+tLPKYZFR9O82LXIOsWVZd6KMaYeWjSAbSInA68DfB6NgeLMyQTDTkvbXW0jJaaKJ0DSRKpdIlHZYyZQ7xP3YMishQYBpaUcDwzbntbDFVYv9gCaGNM4U02gP4I8Bng1+5EwCOAO4s2qgWuPOS8LVWRMlpqnfq91t4ET+zpKeGojDFzyG9FpA74GvAosAu4oZQDmmlbW/sBOKqlqsQjMcbMR5OaRKiqfwH+Av4CKB2q+vfFHNhCNlLCEWJxjbNC4Q/u3cn1D7zI3Z88i5WNFaUcnjFmFnPP0Xeoag/wSxH5HRB1W4cuGFtbY4SCwqpGq4E2xhTepDLQInKDiNS43TieBp4VkU8Wd2gLl1fCURkJ0uIu8X3b0wcBaLdlvY0x41DVDHBN1vXEQgueAba19nNEUxWhYMkW3DXGzGOTPbNsUNU+4PXAbcAanE4cpggqwqNroGFkae9YIjXm/YwxxnWHiFwqXv+6BWhrWz/rFlv5hjGmOCYbQIdEJIQTQN/i9n/Woo1qgSt3M9BVkRC15SEiZSNvUyxuAbQxZkJ/B/w3kBCRPhHpF5G+Ug9qpgwmU+zpGrIJhMaYoplsAP09nEkolcDdIrIKWDAn45nm9YGuipYhIn4ZB0AsMe7aNcYYg6pWq2pAVcOqWuNeryn1uGbK9jZn4cX1loE2xhTJZCcRfgv4VtamF0XkrOIMyfgBdMT5vbgmyoudgwD0WwbaGDMBETkj33ZVvXumx1IKW1udAHqdZaCNMUUy2aW8a4HPAd5J+S/A1cCCm5gyE7JLOACW1kapCAcZTKYtgDbGTEb2JO8ocCrwCPDq0gxnZm1t7SdcFmBVg3UsMsYUx2RLOK4D+oE3uz99wA+LNaiFzg+go87nmw+edSTXvPVkKsNBm0RojJmQqr4u6+c1wHFAd6nHNVO2tvaztrmKMuvAYYwpksmeXdaq6udUdaf78y/AEcUc2EJ28qp6Xra2keYqZxGVdYurOevoRVRFy2wSoTFmOvYCx0y0k4icLyJbRGS7iHx6jH3eLCLPisgzIjIrF2fZ1hqz+mdjTFFNqoQDGBKRV6jqvQAi8nJgqHjDWthOWVXPDe897ZDtVZEyy0AbYyYkIv/JSKekALARZ0XC8e4TxOkf/RqcgPthEblFVZ/N2mcdzqq0L1fVbhFZVIThH5ZYIsW+niHeunhlqYdijJnHJhtAvw+43q2FBuerwHcWZ0hmLFXREP0WQBtjJrY563IKuFFV75vgPqcC21V1J4CI3ARcAjybtc97gWtUtRtAVdsKN+TC2OF24DhykWWgjTHFM9kuHE8AJ4pIjXu9T0Q+AjxZxLGZHNWRMvrj1sbOGDOhm4G4qqbByS6LSIWqDo5zn2XAnqzre4GX5uyz3n28+4Ag8HlV/X3uA4nIlcCVACtXzmwmuM1ddGppbfmMPq8xZmGZ0gwLVe1zVyQE+FgRxmPGUV2gGuj++DBfv30Lw+lMAUZljJmF7gCyI8hy4E8FeNwyYB1wJnA58H0RqcvdSVWvVdVNqrqpubm5AE87eZ0xJ4BuqArP6PMaYxaWw5mivGCXiC2VQtVA37+jk2/9eTtP7bMuhMbMU1FVjXlX3MsT9XTbB6zIur7c3ZZtL+5qtKr6ArAVJ6CeNToHkgA0VloAbYwpnsMJoG0p7xlWqC4cyZSTeR5Kpg/7sYwxs9KAiJzsXRGRU5h44vfDwDoRWSMiYeAy4JacfX6Dk31GRJpwSjp2FmjMBdEZS1IVKSPqtgM1xphiGLcGWkT6yR8oC6O/HjQzoDpSRiyZIpNRAoHpfwHglW4M2IREY+arjwD/LSL7cc7XLcBbxruDqqZE5CrgDzj1zdep6jMicjWwWVVvcW87V0SeBdLAJ1W1s4jHMWWdAwkaLPtsjCmycQNoVT2sdVBF5HzgP3BOxj9Q1S/n3P4+4IM4J+IYcGV2yyQzWnU0hCoMJFNUR0PTfhw/Az1sGWhj5iNVfVhEjgaOcjdtUdUJZyCr6q3ArTnbPpt1WXHmv8zaOTBdA0karf7ZGFNkRVumKaun6AXABuByEdmQs9sNqnq8qm4Evgp8vVjjmQ+8lQkPtw56JANtAbQx85GIfBCoVNWnVfVpoEpEPlDqcc2EjljS6p+NMUVXzHVO/Z6iqpoEvJ6ivqyOHgCVWF31uKoibgB9mHXQCTcDPZi0Eg5j5qn3qmqPd8Xt2/ze0g1n5nQNJGisjJR6GMaYeW6yC6lMx2R6inqZko8BYeDV+R6olD1FZxMvA324i6kMp53PKYM2idCY+SooIuKWXHjfCM77tKyq0hlLWgs7Y0zRFTMDPSmqeo2qrgX+AfinMfYpWU/R2aR6mhnowWSKN3/3AZ7c2wOM1EBbAG3MvPV74OcicraInA3cCNxW4jEVXd9QilRGrYTDGFN0xQygJ9NTNNtNwOuLOJ45z5s42D/FAPr5g/08tKuLJ/Y6fZ+9Gmgr4TBm3voH4M/A+9yfp1gAnZM6B5xFVJqqrITDGFNcxQygJ+wpKiLZDfgvArYVcTxznl/CMcXlvHd1DAAjmedk2jLQxsxnqpoBHgR24cxHeTXwXCnHNBO8RVSsjZ0xptiKVgM9yZ6iV4nIOcAw0A28s1jjmQ8aK8PURMv40f27uOiEJZNuZecF0ImUEzDbQirGzE8ish5nie3LgQ7g5wCqelYpxzVTOmPuKoRWA22MKbKi1kCr6q2qul5V16rqF91tn3WDZ1T1w6p6rKpuVNWzVPWZYo5nrouGgvy/t57MtrYYX77teX/7k3t76B0aOyv9QucgcGgGesBKOIyZb57HyTa/VlVfoar/idNnf0HwSjisC4cxpthKPonQTM0Z65s5dXUDW1v7AUilM7zpuw/wo/t2jXmf3BKOYZtEaMx89UbgAHCniHzfnUA4/WVL5xgvA20lHMaYYrMAeg5qqAr7fyi6B4dJpjK09sfz7quqWSUcuTXQloE2Zj5R1d+o6mXA0cCdOEt6LxKR74jIuSUd3AzY1TnA4poI4TL702aMKS47y8xBjZVhf7JM96Dzu8f9nasjlvT7RvsZaJtEaMy8pqoDqnqDqr4OpwPSYzidOea1ra39rF9cXephGGMWAAug56CGyjC9Q8MMpzMjmeiB/DXQuzoH/Mt+DbRXwmFLeRsz76lqt9tL/+xSj6WYMhlle1vMAmhjzIywAHoO8hYJ6B5M+hno7jEy0LvdCYTBgIx04fBXIrQSDmPM/LCne5D4cIb1i6tKPRRjzAJgAfQc1ODOMO8aSNI14JVw5M9Ae9056ivCfu1z0g2kxyrheOTFbu7c0lbQMRtjTDFtbY0BsM4y0MaYGVC0PtCmeLwep52xkQB6rAx0zK1/bqwMZ9VAOxnoVEbZ2R4jEgqyrG5kkbJv/mkr7f0JzjpqUdGOwRhjCsnrTLRukWWgjTHFZxnoOcgr4ejMykAnUpm8C6MMJFJEQwEqIsGRLhzub4D3/fQR/unXT426T3t/YtQ+xhgz221r7WdpbXTSC0wZY8zhsAB6DvJ6nHbFEqMyz/my0P2JFFWRMsLBgB9Ae104wPnaM3cRlvb+hL+vMcbMBVtbY1a+YYyZMRZAz0F1FWFERtdAA6Mue2JxJ4COhIKjunBI1tIK2cHycDpD12ByVJBtjFkYROR8EdkiIttF5NN5bn+XiLSLyOPuz/8pxThzpTPKjvaYTSA0xswYq4Geg4IBob4i7JdwVEXKiCVSeScSxhIpqqKjM9DJdIaaaMjPPGcH0J2xJKoji60YYxYGEQkC1wCvAfYCD4vILar6bM6uP1fVq2Z8gOPY3TVIIpWxFnbGmBljGeg5qqEy7E8iXNtcCeQv4fAz0GUBv/tGMpWhrmKkTtBrbwdO+Ya3jzFmQTkV2K6qO1U1CdwEXFLiMU3KloPOBEILoI0xM8UC6DmqsTLsl3CsbXa+tsy3GmEskRVAp0dqoOvKswLo4ZFguT3mLAluAbQxC84yYE/W9b3utlyXisiTInKziKzI90AicqWIbBaRze3t7cUY6yjb3A4cR1oHDmPMDLEAeo5qrAqzt9v52nJNk5eBHqOEI1JGuCzgB8rJVIbairC/T3YJR1ufk4FOZZRMRot5CMaYuee3wGpVPQH4I/DjfDu5Kx9uUtVNzc3NRR/U1rYYy+vLqYxYVaIxZmZYAD1HNVSG2d/rZIsX10SpipTlL+Fwa6BHZ6B1dAY6TwkHWB20MQvMPiA7o7zc3eZT1U5V9U4SPwBOmaGxjWtba7+VbxhjZpQF0HPUK9eNZHUaKsPUVYTyTyKMp6iKhPwMtKqSTI+ugU6mnO0A7TELoI1ZoB4G1onIGhEJA5cBt2TvICJLsq5eDDw3g+PLK5XOsLN9gHXWgcMYM4MsgJ6jzju2hS+98Xgqw0GOaK6kviJ8SAY6kUqTTGeojjolHMl0xl+FsKEyTGNlmNWNFWTUKdmAkRIOsDpoYxYSVU0BVwF/wAmMf6Gqz4jI1SJysbvb34vIMyLyBPD3wLtKM9oRuzoHSaYzrF9kGWhjzMyxgrE57PJTV/KWTSsIBIS6ihDdOX2gBxJOaUZlOEg6o6QzytCws60iHOSBz5zNj+5/gX+79XkSqQyhYGBUBtp6QRuzsKjqrcCtOds+m3X5M8BnZnpc4/EmEFoJhzFmJlkGeo4LBJwVUZwM9OgSjlg8BUBV1CnhAKcmGiAcDBAuCxANBQFIuIF1e38C9yEtA22MmfW2tsYQsQ4cxpiZZQH0PFFfETqkhKM/4QTU3lLeAANuAB1yA+qI+zuRyjCYTHGwN87SunLAAmhjzOy3ta2flQ0VlIeDpR6KMWYBKWoAPYllYT8mIs+6PUXvEJFVxRzPfFZXEaY/nqJ7IMk7rnuIPV2Dfga6OlpGJOS81f3xkQw0QKTMzUCnMvzx2VaS6QznHdvib5sMb0VDY4yZaVsP9rPO6p+NMTOsaAF01rKwFwAbgMtFZEPObo8Bm9yeojcDXy3WeOa7hkqnr/P9Ozq5e2s7D73QxUDSCZYrszLQfgnHIRnoNL99Yj8tNVFefmQjAEPDaT77P09z0G2Xl8+z+/s46erb2d7WX5wDM8aYMSRTGV7oGGC9deAwxsywYmagJ1wWVlXvVNVB9+pfcfqOmmnw2tJtdSfUdA4k/Gyzt5AKjNRF+xloNzPd1pfgL1vbee0JS4i6WennD/Zz/QMvcvfWsVcS29M9SEZhT9dQEY7KGGPGtqtzgFRGbQKhMWbGFTOAnuyysJ73ALcVcTzzWr27suA2NxPcGUv62ebqaJlfqhFz66JDOSUcT+7tYTitnLG+2a+P7nNLM8Yr0fBqqvvd38YYM1O8hIH1gDbGzLRZMYlQRN4ObAK+NsbtV4rIZhHZ3N4+djZ0IfMC6K2tMQA6YsmRLhyRMr9Uw8tK504i7Ig5ExBry0N+drrHnZTYF59EAD3OPrmuf2AXb/7eA5Pe3xhj8tnaGiMgsLbZAmhjzMwqZgA94bKwACJyDvCPwMVZS8SOoqrXquomVd3U3Nycb5cFzyvheKFjAHBKOAYSKUScns9eCYfXGzp3EmGX20O6Mqvco28o5f4eJ4BOOo/nBetjiSVSbPrXP3Lvtg6e3d/HY7u7/dUPD0c6o2xvi3Gg10pIjFlotrX2s7qx0m/HaYwxM6WYAfRkloU9CfgeTvDcVsSxzHv17iTCtLuiYGcsSX8iRVW4DBHxM81eCUe4zGn27NVAewF0dr107xRKOGJZJRxtfXGO//wfeHpfr7+tvT9BRyzJjvYYQ8NphtM66S4f47n27p2c8/W/cPqX/syWgzaR0ZiFZGtrv5VvGGNKomgB9CSXhf0aUAX8t4g8LiK3jPFwZgKV4SChoPjXO2MJYvEUVVFnsclDF1JxMjZeYN3pZ6CDfnbaC5z7xskux/wSjpF99nQP0R9PsaM95m+Luwu1DCbTDLlZ6/4JstaT0dY/0iFkb/fgOHsaY+aTRCrNrs5Bm0BojCmJoi7lPYllYc8p5vMvJCJCXUWY9n6nCqZjIMnBvjiNVU5mOnxIDbSbgfZLOJz7VYbLGHQD3MlkoAcThwbDXoDslYsA/hLiQ8Np/3IskaK5OjK9A3ZlZ7GtH7UxC8fO9gHSGWWdBdDGmBKYFZMITWHUu3XQFeEgyVSGx/f0+AsMjHThyF1IZaSEoyIcJBAQ/zZv8uB4NdCx5KGTCAfdbd5vGMlADyVT/uWpTDwcS2I4Q6W7AlnPoAXQxiwUXgcO6wFtjCmFomagzczyOnEc1VLNY7t76I+n/K83c/tAh3L6QA+nlbqK0eUeIyUcU6uB9jLM2RnoeJ4MdCFKOBKpNM3VEQY6By0DXQQ9g0kqwiN18cbMtFufOsC+7kMnCd+3o4NgQFjTVFmCURljFjoLoOcRL4A+uqWGx3b3ACPZmdyVCL3Ms7cdnAmEMBJcewFubmDaNZCkrjxEICBZbexGgmGvBGR0BtoptRhKZgpaA51IZSgPl1EdKbMAusBUlfO/eQ9XnL6KD551ZKmHYxaggUSKD/zs0TFvP3V1g//tmjHGzCQLoOeR+kqnhOOYJSM1gV4G2ss0ewG0FySXBQOUBYRURrMC6JHJiOAEv4lUmkhZkO1tMS781j186Q3Hc+kpy/0sc3YG2gugB5KH1kUPDaf8YLogJRypDJGyADXloXFLTczUxRIpDvbFx13K3Zhi8j4U/8vFx3LpKYcuVFtu7euMMSVi38vOI3VZGWhw/rgsqysHDs1AZ38l72WjKyPOHyMROeQrey9b/P/dvoVkKsOLnU6/6YE8NdBDXg10dglHyquBHj2JcDr2dg+y8erbuXNLG4nhNJGyALXlIctAF1hrnzOx1Cu/MWameeeIxqowVZGyQ36CAZngEYwxpjgsgJ5Hjmyuoq4i5Geg1y+uIuD+gfED6JwaaICIm8XxMtDZ+3t6h4Z5dn8ftz19EHC6fAB5Szj8Gug8GejBZNov7ZhOCYeq8qmbn6RncJj7t3eQSGUIlwWoq7AAutC8FoGF6NdtzHR454jqaKjEIzHGmNGshGMeecNJy7johCVEQ0EaK8N+Jhrwu2sk004wlF2mMZKBzgqgywKQtS5k39Aw29xlwivCQbrcpb+9DFEilSHpBrODWcGyxwvCBpNpv4RjOhnou7a2c/+OTn+8iVSGpjKnB/b2ttgE9zZT4bVEtAy0KRXvm63sD/fGGDMbWAZ6HgkExF/S9ofvfgkfP2/9qNvDWRMHRSYIoN0MtLdb79Cw341jTVMlnQMJ0hklPpyhwV0F0QuIR/pAH5qB7hlK+tumUwN944O7aaoKE5Cs2uyQlXAUQ2ufk4GOWwZ6wRCR80Vki4hsF5FPj7PfpSKiIrKpmOPxzinVUQugjTGziwXQ89QJy+tYVB0dtc0PoHPqm71Z7FW5GWigsdJZ6KQvnqJvaBgRWNVYQedA0i/RWFzjPI9XHpIvA+1lMb3MtfeY2TpiCd71w4fGnLTWGUvw5+fbeMNJy6iKlBEfTpMYzpSkBjqTUT5/yzNsb5u/y4e3WQ30giIiQeAa4AJgA3C5iGzIs1818GHgwWKPKRa3ANoYMztZAL2AJN1M4sqGilHbvQ4dleGRP1JeiUdLrRtADw3TOzRMdaSMpqoInbGkn2FuqfGCbCeAzdeFw5tEOJAVVMdyAug7nmvlri3t3L+jI+/4/+fx/aQyyqWnLKc8HGQomXa7cASpKQ+RSGVmLNjriCX40f27+M1j+2fk+Uqh1S3hSFgAvVCcCmxX1Z2qmgRuAi7Js98XgK8ARW/P4tVAWwmHMWa2sQB6AfG+Dv3iG44btT23CwdA2M1KL3az2E4JR4raihCNlRF63YAaoKU2Ourxh4YP7cIxlDy0DCC3hOOhF7oBeLFzMO/4n9rXy9LaKEe31FAeChJPpd32ek4G2hvnTPA+CHiroc1HbV4Jx7CVcCwQy4A9Wdf3utt8InIysEJV/3e8BxKRK0Vks4hsbm9vn/aA+hMpREZ/uDfGmNnAzkoLyIfPXkdjVZiTVtaP2j5eCUddRZhwWYC+uBMw10RDNFQ5Nc97upzVwbwSjv6cEo58GWhPWUAOmUT48K4uAHZ35Q+g++PD1Lqt+qKhrAx0aHQA7Y2nmLzs+3yeuNjmTSJMWQbagIgEgK8D75poX1W9FrgWYNOmTTrd5+yPD1MVLvO7CRljzGxhAfQC8tHXrM+7Pf8kQucPVnk4QE3UWaSkzw2gm9xJg16g2+LVQCec7K83YTA+nKFrIEkilSaeHB2ENVdHRrWxa+2L+4/n9ZjO1RdP+bWQ0VCQoeE0SbeEY6Yz0N6HhF2dA8SH0/7kzbHc8Vwru7sGeffL18zE8ArCy0AnLAO9UOwDVmRdX+5u81QDxwF3uZOQW4BbRORiVd1cjAHF4imqrP7ZGDMLWQmH8Wugs/9QeRno8lCQpqowHbEkvUPD1JaH/K4be9yAd3Ft/gw0wP/91VO8+4cPH5LFXJQTQD/0gpN93rCkZpwMdIoad4zloaC/8uCoEo7BmSrhcMaeUXihI3/An+3mR/byvb/sLPawCiaWSPllKpaBXjAeBtaJyBoRCQOXAbd4N6pqr6o2qepqVV0N/BUoWvAMzr9Dm0BojJmNLIA2+Us4giMBdHN1hLb+BH3xYWrKy2isciYNepniljwlHN43rk/t6+VAb9zPSnuaq6PEEikyGefb3duePkBdRYgLjmuhI5bM2yM6lhj2F1SIhgL05AugZyoDnVXfvW0SZRyDyTTdg8kJ95stvOxzc3WkKBMzY4kUZ3z1Th5we3qb0lPVFHAV8AfgOeAXqvqMiFwtIheXYkz98ZRNIDTGzEoWQJuREo7woRnoaDjIouoo7X1xPwPdmFPC0VgZpjpSNtI3eDjtZ6n39QzRFx8elZUGJzADiCVTtPbF+cMzrbx50wqOaK4C8pdxZP8xLQ8H/WA5Ehq/hOPbd23nqhsenfLrMp7s+u5tk5hI6NVre8Hoo7u72dk+++qnd3UMsLtzkKf29QLOapbx4Qyq0y5jzWtP1yC7uwZ5Ym9PQR/XHB5VvVVV16vqWlX9orvts6p6S559zyxm9hmcSYRVtgqhMWYWsgDa+AF0dqYnlJWBXlQTobU/QXw4Q000RG15iGBA/EmElZEy1jRXsrN9AFVlMJmiyc1SA6g6Nc6RrP7Ti7wAOp7ihgd3k1HlbS9dyapGp8Xe7pxOHKpKf04NdG9WBrqmPIQIflY624M7u7hnW/7WeNM16GbI6ytCk5pIOOh2JvGy0J/87yf40m3PF3RMhXDht+7hjK/dyc8e3M3y+nJOP6IRKPxy3l3uUvCdscQEe5qFrD8+bCUcxphZyQJoQ8SdADe6jd1IAL24OkLaLbWorQgRCAgNlWF/WfDyUJAjmirZ2R4jkcqQUUYF0ADdg8N+VhpGMtD98RT3bGvnlJX1rGqsZKUbQL+YUwc9NJwmndGsEo4gXlI0UhYgGBDqK8J05AnIugac+u1CliJ49cGrmyrpjE1cmuGVfHQPDPtjmo0ZaO+bgode6OJNpyz3J0cWeiKh9z51TOK1MwtXLJ6i2ko4jDGzkAXQJm8XDm9beTjIoqy2cDVuALvYXTzlohOWEAgIa5ur2N8b9zOLTVUjwbKnvmJkm5+BTgzTH0/5AXVNNMTy+nL+unN0bWzuimTlWV0vvBru5qoIHf35A2iA9jy3TddgMkUwICyqjoxannzs/d2lzAeTqCp98RR7uob8DyazRX2F8/6KwKUnjwTQhZ5I6L0n+T7wFIOqcttTBxhOW0eRucQmERpjZis7MxnO3dDCcFpHlVh4kwijoaBf8wz4tcZfe9OJDCZTnOz2lPZql5/d3wccmoEG/Ay0CP5ExL54ilhi9ESh1524lGvv3klHLEEo6EwQ7BsvgHa7iDRVh2l3A7LhdIZv37mDd79iNZ0DzrbWvjgrclZhnK6BRJqKcJD6ijCPDfZMuP+gWzPdM+TUg6czShplf89QwcZ0uDIZpXdomCtOW8WFxy9hRUPFSABd4ImEXtZ+Mtn7QnjuQD/v/9mjfO+KUzjv2JYZeU5zeFLpDIPJNFURq4E2xsw+loE2HL+8lk9fcDRub1dgdA109sIkNeVOAHvMkhpOWdXg3+eI5koAnt7vTD5rqj40gK53A+jyUNBvR9cfTx3S6/X1G5eRzihv+PZ9nPrFP9EXH/ZXLRypgR75p+sF/s1VET+j+eTeHr7xp63c8vh+fyW9tgJnoCvDZdRWhOgZGkZV/cVV8hlyA9DuweSoiY67xuh5XUiJSWaP++MpMuqUpZy+1ql99l7nydZAjzfZcH/PkN9dpbNAGegXOga44r8eHPe1h5Ha85kK2M3hG3DLnqwPtDFmNipqAC0i54vIFhHZLiKfznP7GSLyqIikRORNxRyLmZpwVglHc1YwXDPGjPg1TZWIwNP7RmegsxcQa3DLA8pDQb+WuW9omFhydJ3jUS3VHLOkhj1dQyRSGfZ2Dfkt8rJroD1eCUdTVYT2/gSq6pdrPO12kwD8LiGFMJBMUxEJUlceJpnKsPnFbo77/B/41aN7D9k3mcownHYCy57BYfri2QF0/p7XhbK/Z4jjPvcHHnmxe8J9vSCzrnzkPY6WTT4D/aP7XuCMr93ptybM9TfffYBv/nErMDJ5sGsgOeb+k/HwLmeC6EQTOb2e4TPV5tAcvv7E6A/NxhgzmxQtgBaRIHANcAGwAbhcRDbk7LYbZ1nYG4o1DjM92ZMIo1kZ49ry/AF0NBRkaW05z3gZaLcGelVjpR9EexnoaCjoZ5Xa+uKojgTGnv+4bCOfueBowAl8+3NLOMLZAbSbga6OEB/OMJBM+wH0U6MC6AJmoBNOBrrO/VCweVc3qvCZXz3ll7F4sntgdw8kRy32smuCRVh+/dhefnDP2Auw7GyPkUxl+PVje7ns2gcOuf3FzkGG08qWgxO32vMC6PrKrADaL+GYOAP95L5e9nQNsTPPMWUyyoHeIba7Eye9GuhURkd9oJgqLzDO130lm/fvZzL16mZ28P/P2yRCY8wsVMwM9KnAdlXdqapJ4CbgkuwdVHWXqj4J2MyeWSaUVQMN+GUcNWME0OD0DD7Q62R5a8tDhILC0rqoH3R7kwgrwkEqw0FEYL+7f+7XtOsXV/O6E5cCcKA37i8T7megy0YCaK/MwMt6t/cn/AB6a1aP5rZCZ6DDQT9b6/WCTmeUmx8ZnYX2WtiBE+h59dzBgIy5bLnn5w/v4foHXgTgQO/QqBKJnsEk533zbn716F4e3tXNX3d2HTIp0cu4TqZUwgtC67Ime3qv7WQy0F6G/4k9PYfcFks65SH7e5zWh50DScrcT1aHU8bhB9ATLFLjBel9loGeM7xyn9wP18YYMxsUM4BeBuzJur7X3TZlInKliGwWkc3t7e0FGZwZX3YXDoBFNRHCZYFRpRO5XrW+2b9cES6jKlLG0tpyP3CujpYRDAjl4SAiQlWkjAO9TkCVb7Wx5uoIAYGDE2agg/7+4ARkI5MJnYCyqSoyqgZ6R3uM3z99YNKvR67BZIrKiFMDDbC1rZ9IWYAjF1UdEhRnLyLTk1UDfdTi6gmXAW/vT9AZS7C/Z4hXfOVO7tzS5t+2y80u7+kepMut7c1e4AWgdyh/rXG+WuWefCUcU5hE6H14ejLP4ihe1n1ft/MhoCOWYE1TpTu2yWWF48NpntrbO2qb92FkotIMb7+eGVrq3Rw+b96D1UAbY2ajOTGJUFWvVdVNqrqpubl54juYw7aioYKaaJnf1mxJbTkNFYe2pst2zobF/uWKcJCvvelE3n/mWj/ILA8FqXBLQsCppz4wRgYanCx4U1WEg71DfgDkrZY4uo3dSAkHjM5Ae45ZUj2qBvq7d+3gQzc+RjJnctzB3jjvvX4ze7rGr00eTHgZaOc12d4WY1FNhNWNlYdMDBxVwjE47GdBT1xRO2Eru7b+BAPJNFtb+0ln1F+8BmBvtzPGroGkXxKRO5kuXwa6Lz7MCZ+/nb9sHf1h1Asu6/NloCcxibDVfS+fyAlysx97IJmmI5akP55ifUs1MPmJff/z+D4uueZe/1hh5PgmCoynWgMdH04XZQlzM3neh2ZbytsYMxsVM4DeB6zIur7c3WbmgHM3LObRf34NFW7A+uGz13HN204e9z7L60fasZWHg5yzYTFHNFf5AVk0HCQaDvrBb3W0jAM9TtA1Vp3jktooB3rj9MeHqYo4GWwYaV0HoycRgpuBzgqgI2UB1jRVjgqgd3UOMJxWduQsZvLvt2/hj8+28h93bBv3WAeSo2ug48MZFlVHWdVUcUhQ7GWg6ypCozLQxy2rJZnO+GUNueLDaT+IeN6tYc4OFL1guiOWpGtw/AA6+/XY2zVEfyJ1yBLk3YPDiIwu04lMchJhf3yYgWSaaCjAswf6SKac4/I+iGQHrt7EzvWLqt3xT66Eo60vQUZHTwb1AuPuSZZwTDYD/YGfPcrH//uJSe1risMr4aixDLQxZhYqZgD9MLBORNaISBi4DLiliM9nCkhEKAuO/PNY0VDBKavqJ7zfRccvAUZnjbwgM1oWpCIc9LOaVZEyv73bWF/TLq6J0toXd1Yky9onXx/ohsowARnJQFe4ZR6NlWEW10Tpi6f8QNDrfvHcgZEJf1sO9vPLR/fSUBnm14/tO2Q58WyDCbcLR8VIsLmo2slAJ9MZvzQFRsoqltSW+104qiNlrHV7Z4/Vyq4ta9KjN87sQNTLQHfGEn5WNua2/vrtE/v57817/IAxu0zC64udWw/cM5ikJhryP6TASAlHvjZ2qso+N/g/6GafX7mumWQqw9bWfj5185O884cPoaqjJu896Waoj1xURUAmv5y3FwRnZ6y9bb0TBMb9kyz18I7r4V1dE07wNMXlZ6AtgDbGzEJFC6BVNQVcBfwBeA74hao+IyJXi8jFACLyEhHZC/wN8D0ReaZY4zEz4z8u28g9nzprVK20V+ZQHg7y969exxWnrQZGt6ca62vakQx0TgCdVQPtLfoSDAgNlU4ru/ZYguOX1QLQUBVmSa0zCXJv9yADiZSfkc0OoP/n8X2UBYSbrjwNAW56eHfeMamqn4EuDwX9519UHWGVuxT5loP9PO5OpvNKOJbVRekZGqZ3aJia8hCrG50a4LFa2bXHRjKtzx9wM9BZgeie7iF3v4SfgR10s3Y/vn8X379n50gJR3+Cp/b2csdzrX6w7ZXFeHoGh/2SHY/34SSRJwN9x3NtvPIrf2ZXxwAH3azwq49e5Iz3YD/PHehjZ/sAz+zvGxW4PrXPeV2aqyM0VIbpGJhcCYcXUHkfACCrhGOiGugplHB4/96sXrq0YnFntc/yceZdGGNMqRT1o72q3grcmrPts1mXH8Yp7TDzRFkwcMjKel5QFg0FuPSUkbe7Kmt2ffUYq4211JbTH0/R2h8fNRvf68IRDgYIZGVMm6sjbG+LMZxWNq6o48EXumiojLBhaQ3g9KlOpkbKK547MFLG8ELHACsaKli/uJqVDRW8mBPYtvXH+dWj+wgFA2QUKiLOZMjaihDt/QkW1UT9iXGfuvlJeoaGefyzr/FLOJbVlZPOKPu6h6gpD7G4JkI0FBgz05mdgfZKTbIzrV4G2pmY52zzvvbuHkzSEUv63VP6Eym+8Ltn2d01yHvPOAI4NAPdPZikNqfOfbw+0I/v6SGjzu+ku0T2S9c0EC4L8MCOTn+xlN89ecD/8FMWEB7f42SgGyrDLKqOjlnCMvI6xKkpD+XPQA95kwPHD8K94DuWSDGczvhdZsDpGlJTHvLfO6/lX76OHRm37V7dBPMBzOHzyrayF3gyxpjZYk5MIjRzW3YJR7bsjHJlJH+WqaXWqWve3hrLm4HOXn4cnCDV6/28YWkNZQGhqTLMkc1VREMBntrX63fJOHZpDc8d6PM7UuzqHPSzwsvqy/0A1fO27z/Il297ni/87llnzOHRvbGbqyIsro4SKQvQOZAknVEO9sYZcks4vA8WW1v7qYk6gcHqxsq8rex2dw6O6hqScmuqe4aGSaYy9A4Ns7d7iGBAyJ6D6JWLdA86me7sIPyR3d209cdp63eyxbn9l3uHDs1Ah4JCQPL3gfZaBD57oM+fQLi0rpwjm6u4/dmDgFO/+rsn99MzmCQaCrC8vpyOWIIjmipZ3VjBEc2Vh9ShZ1NVLvzWPXzvLzvzZqD92uYJu3CM3J4bGH/k54/zldue96979eb9brCd7bdP7ue0L91xyCRVU3j9iZRNIDTGzFoWQJuiO/fYFt73qrWszMlMexMHK8LBUfXW2VpqyoFD/5h6JSLhnAD6dScu8et1F9dEeefLVnPecS2UBQMcs6SGp/b18oIbsF5wXAudA0l/9cIXOwf8Eozl9eV+fS84gdyLXYOsaCj3t3k11l7bt+aaCIGA+I8BzuItXgb6tCOc5bG7B4f9oHt1Y+UhreyeO9DHGV+7k18+updgQEYtW947NMxXfv88r/zKn0mmMhy1uHrUfWOJNJmM+hnZnR0x/3VOZ5SMjpSDeNlbT/dgclQHDnBq4aOhIJtf7OL9P31kVNeSbe7qf88d6ONgX5z6ihDRUJCjW6r9YPfyl65kb/cQW1pj1JaHWFbvvH6fPO8oyoJO27+93UOjMtyDyRSD7geB9liCjliS3V2DfsmJV4IynM74r+1E5Rb98ZT/mmeXcXh13Puzata3HBwp68kNtre29hMfznDvdmunWWy58x6MMWY2sQDaFN3imiifvuDoUaUWMJKBHi/LtLa5klBQaKgMc84xI23yvKAyNwN93rEtfsa7uTrCP792A+cd2wLA8ctqeXZ/Hy+0D9BUFeHMo5x63VufOkB7zAl0/Qx0XTkdsaQf2PXFUyRTmVFjqHTH7T3fIreN3vnHtnCG2xP7YF+cATfIO2ZJjZ/h9TpdrG6qPKRrh5eRfnJvL01VYb+7CDiB4tbWfj+YPHFF3ajjH0ik6IsP+1np4bSydlHVqH28Lhi5GeiegeG8K01GQ0H+urOL254+6C+ZHR9O++N8dn8fB3vjtNQ6wbHXnq4yHOTla5sAp0yirjzMmesXcd6xizn/OOc9OXJRFaqws33kQ8T7fvoof/eTR4CRTiPdg0n6/ZZ8bg23e706UkbPYP4lwX/7xH5+sXkP/fFh/8NPdra6183oe+0UAba0jmTEczPb3n73bOs45LlMYeXOezDGmNnEAmhTMl5N83iz7BfVRHnss+ey+R/P4fUnjazDEw4GCAhEciYYRUNBLj15OcGA+AGt57iltcQSKe7e1s7qxgqOW1bLSSvr+PEDL/KCG8Ctbhop4QD8LLTXau3E5XV+QOtloGvdSZKLqp1644+dexTfe/spgNNybSiZojwUJBgQTlrpdDKpiXoZ6AqS6Qy/fHSvHwC2Z9X4NldHaHSfLyDOwigHeuNUuCs5nnZEw6hjHEik6M7JxnrdPjxebXJ2dnU4naE/kTokAw0QzfqQsq2tn6Fkmu1tMTIKp6yqp3MgycO7uljuvmZeVvzIxdUc0ey8nr1Dw9RWhHjvGUfwvSs2+XWt3ti2t8c40DtEJqM8squLe7d30NYfH9Xr2vvQ4HXt8K6vbKwgo/DP//M0/3Dzk/4CHADfvmsHX7r1OTKK/w1IdgbaK5PpiCVIpjKk0hl2tMX8Y8jNbHst9O7d1pF3MZq5TkTOF5EtIrJdRD6d5/b3ichTIvK4iNwrIhuKNZaYlXAYY2YxC6BNyXh/HMfqAZ29X272WsSZnZ+bgQb4xLlH8Yu/O/2QJYCPX+505WjtS/DqY5zs87tetpoXOgb40f27ACegBVhW5/ze63W6cAOt5uoIG1c4j+NloBurwoSDARoqR4LP8nCQmmgZrX1xBt1lvwG/FaCX6T3zqEWsbKjgUzc/yU/+6izZ3ZFVX7uoOkqT+7grGyoYTiu7Owd586YVPPiZszlxeZ2/b6QsQCyRGrXQCMDaRSNZ9WzZXTi8NnRezXm27I4qO9piXHLNvbzzuocAeP1GZ7n1gWSaq846EhjJQK9bVMXS2nK/zKYuT3Z7TVMlAYFv37md07/0Z37/zEEGkmlU4fZnWv3X3wmg3UmE7vF5gbBXMvOzB3fz8817uOSa++hya9B3tMf8DxQr3D7lvYPDdMQSfPuu7X5GWdWZJHqwL04yneGklc7rmlvCcbA3TllAaOtP+CUs84WIBIFrgAuADcDleQLkG1T1eFXdCHwV+HqxxtMfH7ZlvI0xs5YF0KZk/BKOaX5NGx0jgC4PB/P2rD66pZovvfF4fvPBl/OBM51g78Ljl7C8vpzbnj5IWUD8INPLpu7LCaCbqiJsdMsmvKD4b1++hh+8c9Oo/skALbVRdxJh2p/06AVmNeVl/j53fuJMVjVWcP8OpyygI5bwH2tRdYTGKieAPtJdeCSZzrC0LsqimigN7m3VEWdRl4FE6pCOFE1VERZVRzhjffOolmCxRIqUO0nOC1SzF8PxZGf5/7K1na2tMToHkgQDwkUnLKU6WsYnzj3KLydZWhvlnGMWcf6xLU5NuJv5Has8ZEVDhT9x79t3bXe3B/j90wf9hVha++J+/XVXTglHdteXv3vVEezrHuLK6zfzQkdsVM328qwM9C8f2ctXf7+Fu7KWRm/ti/vv97Fu15bstoHgBNBeqz6vTeE8ciqwXVV3qmoSuAm4JHsHVe3LuloJFC0NH0ukrAe0MWbWsrOTKZmqSdRAj8cJoCffI1ZEuPzUlaO2hYIBPnPBMXzwhkdZXl/uT2ZcXBOlLCDs63ECOK+Eo7k6wkUnLOXxPT1+27OW2igtbp/pbItrorT2JwiI+B07Tl5Zz0UnLOHlRzb5+wUD4rTc29nlP9fa5kqOW1rL2ccs5tHd3QCsW1zFn55rBZxFWcAJnMPBAPWVYcqCwkAi7WegQ0FhOK3UlYe44b0vpakqwoM7O9nZ4dSAd8QS9MdT1FeG2eOWSngfHEa/ziML33jLdL9503IEpzb9kX96zajJnCLCD975Ev/66qZKtrXFRi06k+3I5ipe7BwkFBSe3tdHMCC89dRV/PiBXRztZrO9iaGLqiO09Se49Dv3+6surmqo9F/Hq846kqNbqvnoz5/gO3ftHPU83rH1DA6zs8PJHt+bVct8oHckSPfaHmaXcHirLW5aXc8X33C8v3T8PLIM2JN1fS/w0tydROSDwMeAMPDqYg3GaqCNMbOZZaBNyXh1wFVj9ICeSDQUGLWk93RdeHwLZx3V7HfJACcYa6mNjspABwNCndsv+AfvfIm/zPlYFtdEae2NM5BM+RnoaCjINW89mfU53TNOXF7Hwb44B3vjdMSSNFVF+PpbNvKaDYv9Wu7sjhtL65yAXURorArTUBmmKlJGLDGyAIiXsa4tD3HkomrqKsJ+oL+mycnGemURe7uHCMhIYJ7Naz947obF/uN9+Y0n8JU3nQAc2gkl1xHuB42xeie/cl0Txy+r5W0vXQU4E0dff9JS0hnlmf19o/b1PrQ88mK3n7X2SjhOWF5LdTTE69ys+C1P7ANGVq1sqAhTGQ7SPZjkWfdxt7XF/IVwDvaOZKCPbjk0gPbKXBbXROdj8DxpqnqNqq4F/gH4p3z7iMiVIrJZRDa3t0+9Y0kylSGRykxY3mWMMaViAbQpGb8GeppZplWNlXlLDqZKRLjuXS/hy5eeMGr7srpyHnyhiz8+20pHLEFTVfiQWuzxtNREaY8lGEik/HKPsXjlD0/s7aG9PzEqQHvjycv5zttGB90tWYHuqsYKVjVWUBkucycRJikLCGubDw1cvQDZC0S9VnZ7uwdpqYnmDYajoQC15SE/a/6S1Q1Teh28iZk1eUo4AN718jX89kOv4FVu55INS2o4flmtX07jjTX3cvbxA37Hj7JggFcc2cRwWmmpiXLcshr/+TcsreGebe2jek+vbKygIhzkQG+cfT1DNFWFqYyUUR0tGzXh0FttsaXm0G8b5ol9wIqs68vdbWO5CXh9vhtU9VpV3aSqm5qbm6c8EG9BIJtEaIyZrSyANiXjBc7TDaC/d8Up/OvrjyvIWPKtdva201YhwHuv38zmF7unnHVcXBslnVH2dA9NGEAf6y768uTeHjdYH3mu2vIQFxy/xC+BCAgszhrLd9/uvA6Vbga6ezBJfWXYD/Sya4+9Jc29oNbPQHcNjflh5PzjWvjbl69h3WKnY0Zu54+JeK0B800izHbqmgYaKsOcvrYREfFb3Z3oTv7MHvemVfUEA0Io6NStf/ttJ/PeVx7h7+cF4+sWV/nZ5JpoGeduaGFH+wAZddrsgRMQt9Q49er7eob8wL22PDQ6gPYnWs7bAPphYJ2IrBGRMHAZcEv2DiKyLuvqRcC2Ygwk5k5wtUmExpjZygJoUzK15SFWNVZwVEv1xDvnEQoGDpm4V0gXn7iU69/jlIDudHtHT4UX5Lb3JyYs94iGghy9pJr7tncymEznfa6RftPRUQvP1FWEqY6GqIoEGUim6B5wVhTcsLSGuooQ9ZUjQYhXB3yk2z7Om4i3t3swb/0zwFtespIPn7OO45fV8sU3HMdbXrIi735j2bS6no+es55XHTV+JrIyUsZfP3M2b97kPP7rNy6jLCC8Yt3I/Y5fVks0FOB9r1rLqasbqC0PIyJcePwSarNqrL0+3EcuquLC45dw1lHN1FWEOffYkT7e57kB+uIap4b9oDuJ0GthWFcRGjUhM7uEYz5S1RRwFfAH4DngF6r6jIhcLSIXu7tdJSLPiMjjOHXQ7yzGWLwPdjaJ0BgzW9nZyZRMWTDAXz55VqmHMa61zZU0V0ecsoopBtDL6g9dtXA8p65u5Lr7XgCgqerQeuHyUJBwMMCSuvwBXGWkzJlE6K4o+IaTlnHh8UtGTbS8ZOMyGqsi/iS5vrizkMjBvviYAbRHRPw65akIBQN8+Jx1E+/I6Hrq45fX8sTnzvVXGwQnA/3U588jFAywtK7cn/yYa2ldOV9/84m8ZHUDKxoqOH2tU9++qrGSo1uq2dc9xFlHLeJXj+5jcU0EVeW+HR10Dw5zttvisK48PGohlezVFucrVb0VuDVn22ezLn94JsbhlXDYJEJjzGxlGWhjxiEinO5OLmyaYgnHhiU1fOMtJ3LRCUv8coTxvGztyCTGfM8lItRWhFiaZ6IfOPWiXhu7+oqwvwx3tvJwkNdsWEyNG5j0DaU42BsnoyNt3maTSrc9n6c6WkbIzb5vWFrjrzKZzxtPXj6qxZ3nMxcew/+96Bi/w0dLbZSXHtFAa5+zmIpfwlERomsgyd1b20lnlG1tsVEfikzxeEvBV09zgrExxhSbfbw3ZgKnr23klif2TzkDLSK84aTlvOGk5ZPa/6VHNBAMCOmMjvlcX7jk2DFrlSsjZSRSGdr7E5yyavw65apIGQFxMtAvdjmrMC6vm53BYSjoTGLsiw9TNUEpzGR49dGqypffeDznH9dCVaSM79/zAtvbYiyrH+lb/WLnIO+47iHef+ZaHt7VxYfPnlwm3RyeWMJKOIwxs5tloI2ZgLcAydHTrNWerOpoiOOXORPmxpqweP5xSzhuWW3e27yVEbsHh2moHD9zJyLUlIfoGxrmz8+3ES4LcNzy/I87G3ht+qbS/WMiIsJlp66kriJMWTDAP792A9WRMo5Z4rzP3lLd5aEg37lrB6pOXbwpvpFJhBZAG2NmJzs7GTOBZXXlPPX5c0dN3CuWV61vZltr/6hlwSerMqvO+hVHTtw6rCYa4sWuQZ7Z38erj1rk9+WejeorQqNWFSyGV61v5onPnesH6e95xRqW11ewtrmK9/30EY5fVssR7uRLU1zeMvPWxs4YM1vZ2cmYSZiJ4BngA2et5dKTl/t1vlNRmRVsTKbV3EUnLOE7d+0A4OKNszuzury+Im+rwULLznAfuaiaIxdVk8koF5+4dFJ17KYwYokU4WBgXk/YNMbMbRZAGzOLRMqCrGyc3mS+jFty8PqNSycVbH7sNevZvKuLbW0xXn30omk950y5+pJjSaaLm4EeSyAgfOvyk0ry3AtVf3zY6p+NMbOanaGMmSfOPmYx73nFmkm3jAsFA/z0/7yUnsHhWZ/pG2sZcDM/Hd1SQ4k+LxljzKRYAG3MPFEVKeOfX7thSveJlAVZXDO7g2ez8Lz9tKn3GzfGmJlU1MJOETlfRLaIyHYR+XSe2yMi8nP39gdFZHUxx2OMMcYYY8zhKloALSJB4BrgAmADcLmI5KbH3gN0q+qRwDeArxRrPMYYY4wxxhRCMTPQpwLbVXWnqiaBm4BLcva5BPixe/lm4GyZian2xhhjjDHGTFMxA+hlwJ6s63vdbXn3UdUU0As05uyDiFwpIptFZHN7e3uRhmuMMcYYY8zE5sRKhKp6rapuUtVNzc0TLxBhjDHGGGNMsRQzgN4HrMi6vtzdlncfESkDaoHOIo7JGGOMMcaYw1LMAPphYJ2IrBGRMHAZcEvOPrcA73Qvvwn4s6q7GoQxxhhjjDGzUNH6QKtqSkSuAv4ABIHrVPUZEbka2KyqtwD/BfxERLYDXThBtjHGGGOMMbOWzLWEr4i0Ay9O465NQEeBhzNXLORjh4V9/Av52GH2Hf8qVV1QEznsnD1tdvx2/Hb8s0Pe8/acC6CnS0Q2q+qmUo+jFBbyscPCPv6FfOxgxz+XLfT3zo7fjt+Of3Yf/5zowmGMMcYYY8xsYQG0McYYY4wxU7CQAuhrSz2AElrIxw4L+/gX8rGDHf9cttDfOzv+hc2Of5ZbMDXQxhhjjDHGFMJCykAbY4wxxhhz2CyANsYYY4wxZgrmfQAtIueLyBYR2S4iny71eGaCiOwSkadE5HER2exuaxCRP4rINvd3fanHWSgicp2ItInI01nb8h6vOL7l/nt4UkROLt3ID98Yx/55Ednnvv+Pi8iFWbd9xj32LSJyXmlGXRgiskJE7hSRZ0XkGRH5sLt9Qbz385mdt+28Pd//7y7kczfMj/P3vA6gRSQIXANcAGwALheRDaUd1Yw5S1U3ZvVR/DRwh6quA+5wr88XPwLOz9k21vFeAKxzf64EvjNDYyyWH3HosQN8w33/N6rqrQDuv/3LgGPd+3zb/T8yV6WAj6vqBuA04IPuMS6U935esvO2nbcXyP/dH7Fwz90wD87f8zqABk4FtqvqTlVNAjcBl5R4TKVyCfBj9/KPgdeXbiiFpap34ywFn22s470EuF4dfwXqRGTJjAy0CMY49rFcAtykqglVfQHYjvN/ZE5S1QOq+qh7uR94DljGAnnv5zE7b4+w8/bI9nn1f3chn7thfpy/53sAvQzYk3V9r7ttvlPgdhF5RESudLctVtUD7uWDwOLSDG3GjHW8C+XfxFXu11zXZX3tO2+PXURWAycBD2Lv/Vy3UN8nO2/b/11YYOdumLvn7/keQC9Ur1DVk3G+8vigiJyRfaM6vQsXTP/ChXa8OF9trQU2AgeA/6+koykyEakCfgl8RFX7sm9bgO+9mbvsvJ1loR2va0Gdu2Fun7/newC9D1iRdX25u21eU9V97u824Nc4X/W0el93uL/bSjfCGTHW8c77fxOq2qqqaVXNAN9n5Ku+eXfsIhLCOfn+TFV/5W5esO/9PLEg3yc7bwML/P/uQjp3w9w/f8/3APphYJ2IrBGRME4R/i0lHlNRiUiliFR7l4Fzgadxjvud7m7vBP6nNCOcMWMd7y3AO9wZvacBvVlfF80LOXVhb8B5/8E59stEJCIia3AmYzw00+MrFBER4L+A51T161k3Ldj3fp6w87adt2EB/t9dKOdumCfnb1Wd1z/AhcBWYAfwj6Uezwwc7xHAE+7PM94xA404M1q3AX8CGko91gIe8404X3cN49RFvWes4wUEZ4b/DuApYFOpx1+EY/+Je2xP4px0lmTt/4/usW8BLij1+A/z2F+B8/Xek8Dj7s+FC+W9n88/dt628/Z8/7+7kM/d7vHM+fO3LeVtjDHGGGPMFMz3Eg5jjDHGGGMKygJoY4wxxhhjpsACaGOMMcYYY6bAAmhjjDHGGGOmwAJoY4wxxhhjpsACaDPniEhaRB7P+vl0AR97tYg8PfGexhhjJsPO2WY+Kiv1AIyZhiFV3VjqQRhjjJkUO2ebeccy0GbeEJFdIvJVEXlKRB4SkSPd7atF5M8i8qSI3CEiK93ti0Xk1yLyhPvzMvehgiLyfRF5RkRuF5HyPM/1IxH5lojcLyI7ReRN7nYRka+JyNPuON4yYy+AMcbMIXbONnOZBdBmLirP+Tow+4TXq6rHA/8P+Ka77T+BH6vqCcDPgG+5278F/EVVTwROxlkBDJxlUq9R1WOBHuDSMcaxBGc1pdcCX3a3vRHYCJwInAN8LWd5VmOMWWjsnG3mHSvhMHPReF8H3pj1+xvu5dNxTpLgLJX6Vffyq4F3AKhqGugVkXrgBVV93N3nEWD1GM/1G1XNAM+KyGJ32yuAG93HaxWRvwAvwVmW1RhjFiI7Z5t5xzLQZr7RMS5PRSLrcpqxP2hm7yfTfC5jjFnI7Jxt5iQLoM1885as3w+4l+8HLnMvvw24x718B/B+ABEJikhtAZ7/HuAt7uM1A2cADxXgcY0xZj6yc7aZkyyANnNRbj3dl7NuqxeRJ4EPAx91t30IeLe7/Qr3NtzfZ4nIUzhf+20owNh+DTwJPAH8GfiUqh4UkaUicmsBHt8YY+YaO2ebeUdUp/uNiTGzi4jsAjapakepx2KMMWZ8ds42c5lloI0xxhhjjJkCy0AbY4wxxhgzBZaBNsYYY4wxZgosgDbGGGOMMWYKLIA2xhhjjDFmCiyANsYYY4wxZgosgDbGGGOMMWYK/n92L/UxqDVbCgAAAABJRU5ErkJggg==\n",
      "text/plain": [
       "<Figure size 864x288 with 2 Axes>"
      ]
     },
     "metadata": {
      "needs_background": "light"
     },
     "output_type": "display_data"
    }
   ],
   "source": [
    "f, ax = plt.subplots(1, 2, figsize=(12, 4))\n",
    "\n",
    "ax[0].plot(loss_history, label='loss')\n",
    "ax[0].set_title('Validation Loss History')\n",
    "ax[0].set_xlabel('Epoch no.')\n",
    "ax[0].set_ylabel('Loss')\n",
    "\n",
    "ax[1].plot(smooth(acc_history, 5)[:-2], label='acc')\n",
    "ax[1].set_title('Validation Accuracy History')\n",
    "ax[1].set_xlabel('Epoch no.')\n",
    "ax[1].set_ylabel('Accuracy');"
   ]
  },
  {
   "cell_type": "code",
   "execution_count": 69,
   "id": "ccebab1e",
   "metadata": {
    "ExecuteTime": {
     "end_time": "2023-09-14T08:00:21.766036Z",
     "start_time": "2023-09-14T08:00:21.756055Z"
    }
   },
   "outputs": [
    {
     "data": {
      "text/plain": [
       "0.9718172983479106"
      ]
     },
     "execution_count": 69,
     "metadata": {},
     "output_type": "execute_result"
    }
   ],
   "source": [
    "1-len(wrongly_classified_idx)/len(y_test)"
   ]
  },
  {
   "cell_type": "code",
   "execution_count": 57,
   "id": "69885a77",
   "metadata": {
    "ExecuteTime": {
     "end_time": "2023-09-14T07:58:16.333185Z",
     "start_time": "2023-09-14T07:58:16.289269Z"
    }
   },
   "outputs": [],
   "source": [
    "preds_array = np.array([])\n",
    "for batch in tst_dl:\n",
    "        x_raw, y_batch = [t.to(device) for t in batch]\n",
    "        out = model(x_raw)\n",
    "        preds = F.log_softmax(out, dim=1).argmax(dim=1).numpy()\n",
    "        preds_array = np.concatenate((preds_array, preds), axis=None)"
   ]
  },
  {
   "cell_type": "code",
   "execution_count": 58,
   "id": "c6f0fba6",
   "metadata": {
    "ExecuteTime": {
     "end_time": "2023-09-14T07:58:16.632071Z",
     "start_time": "2023-09-14T07:58:16.627328Z"
    }
   },
   "outputs": [
    {
     "data": {
      "text/plain": [
       "array([[500,  13],\n",
       "       [ 16, 500]])"
      ]
     },
     "execution_count": 58,
     "metadata": {},
     "output_type": "execute_result"
    }
   ],
   "source": [
    "from sklearn.metrics import confusion_matrix\n",
    "confusion_matrix(y_test, preds_array)"
   ]
  },
  {
   "cell_type": "code",
   "execution_count": 59,
   "id": "54093f9e",
   "metadata": {
    "ExecuteTime": {
     "end_time": "2023-09-14T07:58:17.070520Z",
     "start_time": "2023-09-14T07:58:17.050100Z"
    }
   },
   "outputs": [
    {
     "name": "stdout",
     "output_type": "stream",
     "text": [
      "              precision    recall  f1-score   support\n",
      "\n",
      "     class 1       0.97      0.97      0.97       513\n",
      "     class 2       0.97      0.97      0.97       516\n",
      "\n",
      "    accuracy                           0.97      1029\n",
      "   macro avg       0.97      0.97      0.97      1029\n",
      "weighted avg       0.97      0.97      0.97      1029\n",
      "\n"
     ]
    }
   ],
   "source": [
    "from sklearn.metrics import classification_report\n",
    "target_names = ['class 1', 'class 2']\n",
    "print(classification_report(y_test, preds_array, target_names=target_names))\n"
   ]
  },
  {
   "cell_type": "code",
   "execution_count": 60,
   "id": "e836488b",
   "metadata": {
    "ExecuteTime": {
     "end_time": "2023-09-14T07:58:17.422681Z",
     "start_time": "2023-09-14T07:58:17.417632Z"
    }
   },
   "outputs": [],
   "source": [
    "wrongly_classified_idx = np.argwhere(y_test!=preds_array).reshape(-1)\n"
   ]
  },
  {
   "cell_type": "code",
   "execution_count": 61,
   "id": "04d7e7ea",
   "metadata": {
    "ExecuteTime": {
     "end_time": "2023-09-14T07:58:17.895597Z",
     "start_time": "2023-09-14T07:58:17.886756Z"
    }
   },
   "outputs": [
    {
     "data": {
      "text/plain": [
       "array([  83,  222,  251,  252,  283,  292,  297,  357,  374,  476,  535,\n",
       "        550,  638,  683,  706,  755,  759,  762,  776,  799,  812,  853,\n",
       "        872,  926,  941,  953,  966,  972, 1000])"
      ]
     },
     "execution_count": 61,
     "metadata": {},
     "output_type": "execute_result"
    }
   ],
   "source": [
    "wrongly_classified_idx"
   ]
  },
  {
   "cell_type": "code",
   "execution_count": 62,
   "id": "db9fb306",
   "metadata": {
    "ExecuteTime": {
     "end_time": "2023-09-14T07:58:18.387549Z",
     "start_time": "2023-09-14T07:58:18.247099Z"
    }
   },
   "outputs": [
    {
     "data": {
      "image/png": "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\n",
      "text/plain": [
       "<Figure size 432x288 with 1 Axes>"
      ]
     },
     "metadata": {
      "needs_background": "light"
     },
     "output_type": "display_data"
    }
   ],
   "source": [
    "df_test.iloc[wrongly_classified_idx[0], 1:].plot.line(title=f'time series with class = {df_test.iloc[wrongly_classified_idx[0], 0]} \\n Prediction: {preds_array[wrongly_classified_idx[0]]+1}');\n"
   ]
  },
  {
   "cell_type": "code",
   "execution_count": 64,
   "id": "13fbfa20",
   "metadata": {
    "ExecuteTime": {
     "end_time": "2023-09-14T07:59:02.560385Z",
     "start_time": "2023-09-14T07:59:02.552819Z"
    }
   },
   "outputs": [
    {
     "data": {
      "text/plain": [
       "array([  83,  222,  251,  252,  283,  292,  297,  357,  374,  476,  535,\n",
       "        550,  638,  683,  706,  755,  759,  762,  776,  799,  812,  853,\n",
       "        872,  926,  941,  953,  966,  972, 1000])"
      ]
     },
     "execution_count": 64,
     "metadata": {},
     "output_type": "execute_result"
    }
   ],
   "source": [
    "wrongly_classified_idx"
   ]
  },
  {
   "cell_type": "code",
   "execution_count": 67,
   "id": "b3b062a7",
   "metadata": {
    "ExecuteTime": {
     "end_time": "2023-09-14T07:59:58.286049Z",
     "start_time": "2023-09-14T07:59:58.276763Z"
    }
   },
   "outputs": [
    {
     "data": {
      "text/plain": [
       "29"
      ]
     },
     "execution_count": 67,
     "metadata": {},
     "output_type": "execute_result"
    }
   ],
   "source": [
    "len(wrongly_classified_idx)"
   ]
  },
  {
   "cell_type": "code",
   "execution_count": 65,
   "id": "33ad98ce",
   "metadata": {
    "ExecuteTime": {
     "end_time": "2023-09-14T07:59:30.815746Z",
     "start_time": "2023-09-14T07:59:30.678090Z"
    }
   },
   "outputs": [
    {
     "data": {
      "image/png": "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\n",
      "text/plain": [
       "<Figure size 432x288 with 1 Axes>"
      ]
     },
     "metadata": {
      "needs_background": "light"
     },
     "output_type": "display_data"
    }
   ],
   "source": [
    "df_test.iloc[wrongly_classified_idx[1], 1:].plot.line(title=f'time series with class = {df_test.iloc[wrongly_classified_idx[1], 0]} \\n Prediction: {preds_array[wrongly_classified_idx[1]]+1}');\n"
   ]
  },
  {
   "cell_type": "code",
   "execution_count": 66,
   "id": "883baaba",
   "metadata": {
    "ExecuteTime": {
     "end_time": "2023-09-14T07:59:48.703871Z",
     "start_time": "2023-09-14T07:59:48.569811Z"
    }
   },
   "outputs": [
    {
     "data": {
      "image/png": "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\n",
      "text/plain": [
       "<Figure size 432x288 with 1 Axes>"
      ]
     },
     "metadata": {
      "needs_background": "light"
     },
     "output_type": "display_data"
    }
   ],
   "source": [
    "df_test.iloc[wrongly_classified_idx[2], 1:].plot.line(title=f'time series with class = {df_test.iloc[wrongly_classified_idx[2], 0]} \\n Prediction: {preds_array[wrongly_classified_idx[2]]+1}');\n"
   ]
  },
  {
   "cell_type": "code",
   "execution_count": null,
   "id": "2839ccb4",
   "metadata": {},
   "outputs": [],
   "source": []
  },
  {
   "cell_type": "markdown",
   "id": "04f92a4b",
   "metadata": {},
   "source": [
    "from sklearn.metrics import confusion_matrix\n",
    "\n",
    "confusion_matrix(y_test,preds_array)\n",
    "\n",
    "from sklearn.metrics import classification_report\n",
    "\n",
    "target_names=['class1','class2']\n",
    "print(classification_report(y_test,preds_array,target_names=target_names))"
   ]
=======
>>>>>>> 9a46b1a7abcf41c756dca7da0adb6f0582428169
  }
 ],
 "metadata": {
  "kernelspec": {
   "display_name": "Python 3 (ipykernel)",
   "language": "python",
   "name": "python3"
  },
  "language_info": {
   "codemirror_mode": {
    "name": "ipython",
    "version": 3
   },
   "file_extension": ".py",
   "mimetype": "text/x-python",
   "name": "python",
   "nbconvert_exporter": "python",
   "pygments_lexer": "ipython3",
   "version": "3.9.12"
  },
  "latex_envs": {
   "LaTeX_envs_menu_present": true,
   "autoclose": false,
   "autocomplete": true,
   "bibliofile": "biblio.bib",
   "cite_by": "apalike",
   "current_citInitial": 1,
   "eqLabelWithNumbers": true,
   "eqNumInitial": 1,
   "hotkeys": {
    "equation": "Ctrl-E",
    "itemize": "Ctrl-I"
   },
   "labels_anchors": false,
   "latex_user_defs": false,
   "report_style_numbering": false,
   "user_envs_cfg": false
  },
  "toc": {
   "base_numbering": 1,
   "nav_menu": {},
   "number_sections": true,
   "sideBar": true,
   "skip_h1_title": false,
   "title_cell": "Table of Contents",
   "title_sidebar": "Contents",
   "toc_cell": false,
   "toc_position": {},
   "toc_section_display": true,
<<<<<<< HEAD
   "toc_window_display": true
=======
   "toc_window_display": false
>>>>>>> 9a46b1a7abcf41c756dca7da0adb6f0582428169
  }
 },
 "nbformat": 4,
 "nbformat_minor": 5
}
