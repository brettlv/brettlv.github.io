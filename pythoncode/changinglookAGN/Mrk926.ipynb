{
 "cells": [
  {
   "cell_type": "code",
   "execution_count": 1,
   "id": "5d4a15ca",
   "metadata": {
    "ExecuteTime": {
     "end_time": "2023-07-25T14:12:37.690441Z",
     "start_time": "2023-07-25T14:12:37.567374Z"
    }
   },
   "outputs": [],
   "source": [
    "import numpy as np"
   ]
  },
  {
   "cell_type": "code",
   "execution_count": null,
   "id": "e007d173",
   "metadata": {},
   "outputs": [],
   "source": []
  },
  {
   "cell_type": "code",
   "execution_count": 2,
   "id": "21aa0c69",
   "metadata": {
    "ExecuteTime": {
     "end_time": "2023-07-25T14:12:57.959643Z",
     "start_time": "2023-07-25T14:12:57.954108Z"
    }
   },
   "outputs": [],
   "source": [
    "logLedd= np.log10(1.26e38)+np.log10(1.1e8)"
   ]
  },
  {
   "cell_type": "code",
   "execution_count": 3,
   "id": "f819147b",
   "metadata": {
    "ExecuteTime": {
     "end_time": "2023-07-25T14:13:00.484475Z",
     "start_time": "2023-07-25T14:13:00.471167Z"
    }
   },
   "outputs": [
    {
     "data": {
      "text/plain": [
       "46.141763230275785"
      ]
     },
     "execution_count": 3,
     "metadata": {},
     "output_type": "execute_result"
    }
   ],
   "source": [
    "logLedd"
   ]
  },
  {
   "cell_type": "code",
   "execution_count": 4,
   "id": "cd74fa69",
   "metadata": {
    "ExecuteTime": {
     "end_time": "2023-07-25T14:13:31.373990Z",
     "start_time": "2023-07-25T14:13:31.369185Z"
    }
   },
   "outputs": [],
   "source": [
    "Lxray1=2.9e44\n",
    "Lxray2=1.1e44"
   ]
  },
  {
   "cell_type": "code",
   "execution_count": 6,
   "id": "d082c9f1",
   "metadata": {
    "ExecuteTime": {
     "end_time": "2023-07-25T14:14:05.839432Z",
     "start_time": "2023-07-25T14:14:05.833736Z"
    }
   },
   "outputs": [],
   "source": [
    "log_Ledd_ratio1= np.log10(Lxray1)-logLedd\n",
    "log_Ledd_ratio2= np.log10(Lxray2)-logLedd"
   ]
  },
  {
   "cell_type": "code",
   "execution_count": 8,
   "id": "f87fbf79",
   "metadata": {
    "ExecuteTime": {
     "end_time": "2023-07-25T14:15:14.934522Z",
     "start_time": "2023-07-25T14:15:14.918415Z"
    }
   },
   "outputs": [
    {
     "name": "stdout",
     "output_type": "stream",
     "text": [
      "0.020923520923520948 0.007936507936507927\n"
     ]
    }
   ],
   "source": [
    "print(10**log_Ledd_ratio1,10**log_Ledd_ratio2)"
   ]
  },
  {
   "cell_type": "code",
   "execution_count": null,
   "id": "35fd7943",
   "metadata": {},
   "outputs": [],
   "source": [
    "log(λ Lλ=erg s−1) of 43.68–44.13,"
   ]
  },
  {
   "cell_type": "code",
   "execution_count": 9,
   "id": "f746fda9",
   "metadata": {
    "ExecuteTime": {
     "end_time": "2023-07-25T14:25:37.159437Z",
     "start_time": "2023-07-25T14:25:37.154032Z"
    }
   },
   "outputs": [],
   "source": [
    "logvLv1=43.68\n",
    "logvLv2=44.13"
   ]
  },
  {
   "cell_type": "code",
   "execution_count": 11,
   "id": "54bbddda",
   "metadata": {
    "ExecuteTime": {
     "end_time": "2023-07-25T14:26:09.279454Z",
     "start_time": "2023-07-25T14:26:09.261978Z"
    }
   },
   "outputs": [],
   "source": [
    "log_Ledd_ratio1_vLv=logvLv1-logLedd\n",
    "log_Ledd_ratio2_vLv=logvLv2-logLedd"
   ]
  },
  {
   "cell_type": "code",
   "execution_count": 15,
   "id": "f0ec9cbd",
   "metadata": {
    "ExecuteTime": {
     "end_time": "2023-07-25T14:27:19.378352Z",
     "start_time": "2023-07-25T14:27:19.369639Z"
    }
   },
   "outputs": [
    {
     "name": "stdout",
     "output_type": "stream",
     "text": [
      "3.1079876124846826 8.759499237608248\n"
     ]
    }
   ],
   "source": [
    "print(10**log_Ledd_ratio1_vLv*100*9,10**log_Ledd_ratio2_vLv*100*9)"
   ]
  },
  {
   "cell_type": "code",
   "execution_count": null,
   "id": "88b16d9f",
   "metadata": {},
   "outputs": [],
   "source": []
  }
 ],
 "metadata": {
  "kernelspec": {
   "display_name": "Python 3 (ipykernel)",
   "language": "python",
   "name": "python3"
  },
  "language_info": {
   "codemirror_mode": {
    "name": "ipython",
    "version": 3
   },
   "file_extension": ".py",
   "mimetype": "text/x-python",
   "name": "python",
   "nbconvert_exporter": "python",
   "pygments_lexer": "ipython3",
   "version": "3.9.12"
  },
  "latex_envs": {
   "LaTeX_envs_menu_present": true,
   "autoclose": false,
   "autocomplete": true,
   "bibliofile": "biblio.bib",
   "cite_by": "apalike",
   "current_citInitial": 1,
   "eqLabelWithNumbers": true,
   "eqNumInitial": 1,
   "hotkeys": {
    "equation": "Ctrl-E",
    "itemize": "Ctrl-I"
   },
   "labels_anchors": false,
   "latex_user_defs": false,
   "report_style_numbering": false,
   "user_envs_cfg": false
  },
  "toc": {
   "base_numbering": 1,
   "nav_menu": {},
   "number_sections": true,
   "sideBar": true,
   "skip_h1_title": false,
   "title_cell": "Table of Contents",
   "title_sidebar": "Contents",
   "toc_cell": false,
   "toc_position": {},
   "toc_section_display": true,
   "toc_window_display": false
  }
 },
 "nbformat": 4,
 "nbformat_minor": 5
}
