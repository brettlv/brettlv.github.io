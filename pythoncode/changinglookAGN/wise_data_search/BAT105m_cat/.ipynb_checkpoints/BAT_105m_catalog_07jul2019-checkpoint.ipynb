{
 "cells": [
  {
   "cell_type": "markdown",
   "metadata": {},
   "source": [
    "# import"
   ]
  },
  {
   "cell_type": "code",
   "execution_count": 1,
   "metadata": {
    "ExecuteTime": {
     "end_time": "2021-09-10T07:29:39.608638Z",
     "start_time": "2021-09-10T07:29:38.083170Z"
    }
   },
   "outputs": [],
   "source": [
    "from scipy.stats.stats import pearsonr\n",
    "from scipy.stats import spearmanr#"
   ]
  },
  {
   "cell_type": "code",
   "execution_count": 12,
   "metadata": {
    "ExecuteTime": {
     "end_time": "2021-09-10T07:33:27.877582Z",
     "start_time": "2021-09-10T07:33:27.874000Z"
    }
   },
   "outputs": [],
   "source": [
    "def drop_index(data):\n",
    "    data=data.reset_index(drop=True)\n",
    "    return data"
   ]
  },
  {
   "cell_type": "markdown",
   "metadata": {
    "ExecuteTime": {
     "end_time": "2021-09-06T01:38:06.514061Z",
     "start_time": "2021-09-06T01:38:06.501914Z"
    }
   },
   "source": [
    "x=np.sin(np.arange(20))\n",
    "y=np.arange(20)*0.1+0.3+np.random.randn()\n",
    "coeff,p_value=pearsonr(x,y)\n",
    "print(coeff,p_value)"
   ]
  },
  {
   "cell_type": "code",
   "execution_count": 2,
   "metadata": {
    "ExecuteTime": {
     "end_time": "2021-09-10T07:29:46.706468Z",
     "start_time": "2021-09-10T07:29:43.275244Z"
    }
   },
   "outputs": [],
   "source": [
    "import pandas as pd\n",
    "import numpy as np\n",
    "\n",
    "\n",
    "from astropy.visualization import hist\n",
    "from astroML.datasets import fetch_imaging_sample, fetch_sdss_S82standards\n",
    "from astroML.crossmatch import crossmatch_angular\n",
    "\n",
    "\n",
    "from datetime import datetime, date, timezone\n",
    "from datetime import datetime\n",
    "from datetime import timedelta\n",
    "from astropy.time import Time\n",
    "from astropy.io import ascii\n",
    "\n",
    "import time\n",
    "import os\n",
    "from astropy import config as _config\n",
    "from astroquery.irsa import Irsa   \n",
    "from astropy import units as u\n",
    "from astropy.coordinates import SkyCoord\n",
    "\n",
    "from matplotlib.pyplot import MultipleLocator\n",
    "import matplotlib.dates as mdates\n",
    "from matplotlib.transforms import Transform\n",
    "from matplotlib.ticker import (AutoLocator, AutoMinorLocator)\n",
    "from matplotlib.dates import DateFormatter\n",
    "#import matplotlib.cm as cm\n",
    "import matplotlib.colors as colors\n",
    "from collections import OrderedDict\n",
    "\n",
    "\n",
    "\n",
    "from astropy.io import fits \n",
    "import matplotlib as mpl\n",
    "import matplotlib.pyplot as plt\n",
    "import numpy as np\n",
    "import pandas as pd\n",
    "from pylab import cm\n",
    "from astropy.table import Table\n",
    "import os\n",
    "from collections import OrderedDict\n",
    "from adjustText import adjust_text"
   ]
  },
  {
   "cell_type": "code",
   "execution_count": 3,
   "metadata": {
    "ExecuteTime": {
     "end_time": "2021-09-10T07:29:46.713335Z",
     "start_time": "2021-09-10T07:29:46.708914Z"
    }
   },
   "outputs": [],
   "source": [
    "import time\n",
    "import os\n",
    "from astropy import config as _config\n",
    "from astroquery.irsa import Irsa \n",
    "from astropy import units as u\n",
    "from astropy.coordinates import SkyCoord"
   ]
  },
  {
   "cell_type": "code",
   "execution_count": 4,
   "metadata": {
    "ExecuteTime": {
     "end_time": "2021-09-10T07:29:46.727337Z",
     "start_time": "2021-09-10T07:29:46.716015Z"
    }
   },
   "outputs": [],
   "source": [
    "from adjustText import adjust_text\n",
    "import matplotlib as mpl\n",
    "def set_ax_tick(ax):\n",
    "    ax.xaxis.set_tick_params(which='major', size=10, width=2, direction='in', top='on',)\n",
    "    ax.xaxis.set_tick_params(which='minor', size=5, width=2, direction='in', top='on')\n",
    "    ax.yaxis.set_tick_params(which='major', size=10, width=2, direction='in', right='on')\n",
    "    ax.yaxis.set_tick_params(which='minor', size=5, width=2, direction='in', right='on')\n",
    "\n",
    "def set_ax_locator(ax,xma=1,xmi=0.2,yma=1,ymi=0.2):\n",
    "    ax.xaxis.set_major_locator(mpl.ticker.MultipleLocator(xma))\n",
    "    ax.xaxis.set_minor_locator(mpl.ticker.MultipleLocator(xmi))\n",
    "    ax.yaxis.set_major_locator(mpl.ticker.MultipleLocator(yma))\n",
    "    ax.yaxis.set_minor_locator(mpl.ticker.MultipleLocator(ymi)) "
   ]
  },
  {
   "cell_type": "code",
   "execution_count": 5,
   "metadata": {
    "ExecuteTime": {
     "end_time": "2021-09-10T07:29:46.751327Z",
     "start_time": "2021-09-10T07:29:46.729769Z"
    }
   },
   "outputs": [],
   "source": [
    "%matplotlib inline\n",
    "%config InlineBackend.figure_format='svg'\n",
    "# Edit the font, font size, and axes width\n",
    "mpl.rcParams['font.family'] = 'Avenir'\n",
    "plt.rcParams['font.size'] = 18\n",
    "plt.rcParams['axes.linewidth'] = 2"
   ]
  },
  {
   "cell_type": "markdown",
   "metadata": {
    "ExecuteTime": {
     "end_time": "2021-09-05T08:14:37.733749Z",
     "start_time": "2021-09-05T08:14:37.728043Z"
    }
   },
   "source": [
    "import collections\n",
    "dd = {\"banana\": 3, \"apple\":4, \"pear\": 1, \"orange\": 2}\n",
    "\n",
    "#按key排序\n",
    "kd = collections.OrderedDict(sorted(dd.items(), key=lambda t: t[0]))\n",
    "#按照value排序\n",
    "vd = collections.OrderedDict(sorted(dd.items(),key=lambda t:t[1]))"
   ]
  },
  {
   "cell_type": "markdown",
   "metadata": {
    "ExecuteTime": {
     "end_time": "2021-09-04T06:04:14.138269Z",
     "start_time": "2021-09-04T06:04:14.130635Z"
    }
   },
   "source": [
    "kd"
   ]
  },
  {
   "cell_type": "markdown",
   "metadata": {
    "ExecuteTime": {
     "end_time": "2021-09-04T06:04:25.054160Z",
     "start_time": "2021-09-04T06:04:25.048678Z"
    }
   },
   "source": [
    "vd"
   ]
  },
  {
   "cell_type": "markdown",
   "metadata": {},
   "source": [
    "# BAT_105m_catalog_07jul2019"
   ]
  },
  {
   "cell_type": "markdown",
   "metadata": {
    "ExecuteTime": {
     "end_time": "2021-09-09T09:17:23.988980Z",
     "start_time": "2021-09-09T09:17:23.920894Z"
    }
   },
   "source": [
    "BAT_105m_catalog_07jul2019=pd.read_csv('/Users/brettlv/Downloads/CLAGN_statistic_plot/Source_lists/BAT_105m_catalog_07jul2019.txt',\n",
    "                                       delimiter=\"|\",header=0,skiprows=1)\n",
    "print(BAT_105m_catalog_07jul2019.columns)\n",
    "\n",
    "BAT_105m_catalog_07jul2019=BAT_105m_catalog_07jul2019[BAT_105m_catalog_07jul2019['                 TYPE'].notnull()]"
   ]
  },
  {
   "cell_type": "markdown",
   "metadata": {},
   "source": [
    "# BATmass"
   ]
  },
  {
   "cell_type": "code",
   "execution_count": 6,
   "metadata": {
    "ExecuteTime": {
     "end_time": "2021-09-10T07:31:44.871838Z",
     "start_time": "2021-09-10T07:31:44.733625Z"
    }
   },
   "outputs": [
    {
     "name": "stderr",
     "output_type": "stream",
     "text": [
      "WARNING: UnitsWarning: '[10-7W]' did not parse as cds unit: Invalid character at col 0 If this is meant to be a custom unit, define it with 'u.def_unit'. To have it recognized inside a file reader or other code, enable it with 'u.add_enabled_units'. For details, see https://docs.astropy.org/en/latest/units/combining_and_defining.html [astropy.units.core]\n",
      "WARNING: UnitsWarning: '[Msun]' did not parse as cds unit: Invalid character at col 0 If this is meant to be a custom unit, define it with 'u.def_unit'. To have it recognized inside a file reader or other code, enable it with 'u.add_enabled_units'. For details, see https://docs.astropy.org/en/latest/units/combining_and_defining.html [astropy.units.core]\n"
     ]
    }
   ],
   "source": [
    "BATname_1=Table.read('/Users/brettlv/blog/IHEP_sync/data/AGNmass/Swift_BAT_AGN_Spectroscopic_Survey_I/table2.dat',\n",
    "                      readme=\"/Users/brettlv/blog/IHEP_sync/data/AGNmass/Swift_BAT_AGN_Spectroscopic_Survey_I/ReadMe\",\n",
    "                      format=\"ascii.cds\",)\n",
    "\n",
    "BATmass_1=Table.read('/Users/brettlv/blog/IHEP_sync/data/AGNmass/Swift_BAT_AGN_Spectroscopic_Survey_I/table4.dat',\n",
    "                      readme=\"/Users/brettlv/blog/IHEP_sync/data/AGNmass/Swift_BAT_AGN_Spectroscopic_Survey_I/ReadMe\",\n",
    "                      format=\"ascii.cds\",)"
   ]
  },
  {
   "cell_type": "code",
   "execution_count": 31,
   "metadata": {
    "ExecuteTime": {
     "end_time": "2021-09-10T08:21:10.704479Z",
     "start_time": "2021-09-10T08:21:10.684283Z"
    }
   },
   "outputs": [
    {
     "data": {
      "text/html": [
       "<i>Table length=5</i>\n",
       "<table id=\"table4739588736\" class=\"table-striped table-bordered table-condensed\">\n",
       "<thead><tr><th>Seq</th><th>Source2</th><th>z</th><th>sigma</th><th>e_sigma</th><th>logMbh</th><th>e_logMbh</th><th>f_sigma</th><th>CaHK</th><th>Mgb</th><th>sigmaCaT</th><th>e_sigmaCaT</th><th>f_sigmaCaT</th><th>sigmalit</th><th>e_sigmalit</th><th>logMbhlit</th><th>e_logMbhlit</th><th>E_logMbhlit</th><th>Ref</th></tr></thead>\n",
       "<thead><tr><th></th><th></th><th></th><th>km / s</th><th>km / s</th><th>[Msun]</th><th>[Msun]</th><th></th><th></th><th></th><th>km / s</th><th>km / s</th><th></th><th>km / s</th><th>km / s</th><th>[Msun]</th><th>[Msun]</th><th>[Msun]</th><th></th></tr></thead>\n",
       "<thead><tr><th>int64</th><th>str9</th><th>float64</th><th>int64</th><th>int64</th><th>float64</th><th>float64</th><th>int64</th><th>int64</th><th>int64</th><th>int64</th><th>int64</th><th>int64</th><th>int64</th><th>int64</th><th>float64</th><th>float64</th><th>float64</th><th>str9</th></tr></thead>\n",
       "<tr><td>1</td><td>SDSS</td><td>0.03767</td><td>152</td><td>6</td><td>7.97</td><td>0.3</td><td>1</td><td>1</td><td>1</td><td>--</td><td>--</td><td>--</td><td>--</td><td>--</td><td>--</td><td>--</td><td>--</td><td>--</td></tr>\n",
       "<tr><td>2</td><td>6DF</td><td>0.05846</td><td>180</td><td>38</td><td>--</td><td>--</td><td>7</td><td>1</td><td>1</td><td>--</td><td>--</td><td>--</td><td>--</td><td>--</td><td>--</td><td>--</td><td>--</td><td>--</td></tr>\n",
       "<tr><td>4</td><td>SDSS</td><td>0.0397</td><td>142</td><td>7</td><td>7.85</td><td>0.3</td><td>1</td><td>1</td><td>1</td><td>--</td><td>--</td><td>--</td><td>--</td><td>--</td><td>--</td><td>--</td><td>--</td><td>--</td></tr>\n",
       "<tr><td>5</td><td>Masetti</td><td>--</td><td>--</td><td>--</td><td>--</td><td>--</td><td>9</td><td>1</td><td>1</td><td>--</td><td>--</td><td>--</td><td>--</td><td>--</td><td>--</td><td>--</td><td>--</td><td>--</td></tr>\n",
       "<tr><td>6</td><td>Perkins</td><td>--</td><td>--</td><td>--</td><td>--</td><td>--</td><td>9</td><td>1</td><td>1</td><td>--</td><td>--</td><td>--</td><td>--</td><td>--</td><td>--</td><td>--</td><td>--</td><td>--</td></tr>\n",
       "</table>"
      ],
      "text/plain": [
       "<Table length=5>\n",
       " Seq  Source2    z    sigma  e_sigma ... logMbhlit e_logMbhlit E_logMbhlit Ref \n",
       "                      km / s  km / s ...   [Msun]     [Msun]      [Msun]       \n",
       "int64   str9  float64 int64   int64  ...  float64    float64     float64   str9\n",
       "----- ------- ------- ------ ------- ... --------- ----------- ----------- ----\n",
       "    1    SDSS 0.03767    152       6 ...        --          --          --   --\n",
       "    2     6DF 0.05846    180      38 ...        --          --          --   --\n",
       "    4    SDSS  0.0397    142       7 ...        --          --          --   --\n",
       "    5 Masetti      --     --      -- ...        --          --          --   --\n",
       "    6 Perkins      --     --      -- ...        --          --          --   --"
      ]
     },
     "execution_count": 31,
     "metadata": {},
     "output_type": "execute_result"
    }
   ],
   "source": [
    "BATmass_1[:5]"
   ]
  },
  {
   "cell_type": "code",
   "execution_count": 28,
   "metadata": {
    "ExecuteTime": {
     "end_time": "2021-09-10T08:20:23.283122Z",
     "start_time": "2021-09-10T08:20:23.278141Z"
    }
   },
   "outputs": [
    {
     "data": {
      "text/plain": [
       "['Seq',\n",
       " 'Source2',\n",
       " 'z',\n",
       " 'sigma',\n",
       " 'e_sigma',\n",
       " 'logMbh',\n",
       " 'e_logMbh',\n",
       " 'f_sigma',\n",
       " 'CaHK',\n",
       " 'Mgb',\n",
       " 'sigmaCaT',\n",
       " 'e_sigmaCaT',\n",
       " 'f_sigmaCaT',\n",
       " 'sigmalit',\n",
       " 'e_sigmalit',\n",
       " 'logMbhlit',\n",
       " 'e_logMbhlit',\n",
       " 'E_logMbhlit',\n",
       " 'Ref']"
      ]
     },
     "execution_count": 28,
     "metadata": {},
     "output_type": "execute_result"
    }
   ],
   "source": [
    "BATmass_1.colnames"
   ]
  },
  {
   "cell_type": "code",
   "execution_count": 10,
   "metadata": {
    "ExecuteTime": {
     "end_time": "2021-09-10T07:33:01.334147Z",
     "start_time": "2021-09-10T07:33:01.330502Z"
    }
   },
   "outputs": [
    {
     "name": "stdout",
     "output_type": "stream",
     "text": [
      "641\n"
     ]
    }
   ],
   "source": [
    "print(len(BATmass_1))"
   ]
  },
  {
   "cell_type": "code",
   "execution_count": 29,
   "metadata": {
    "ExecuteTime": {
     "end_time": "2021-09-10T08:20:54.597125Z",
     "start_time": "2021-09-10T08:20:54.386966Z"
    }
   },
   "outputs": [
    {
     "name": "stdout",
     "output_type": "stream",
     "text": [
      "641\n"
     ]
    }
   ],
   "source": [
    "BAT_source=pd.DataFrame({})\n",
    "BAT_source['CName']=BATname_1['CName']\n",
    "BAT_source['logMbh']=BATmass_1['logMbh']\n",
    "BAT_source['logMbhlit']=BATmass_1['logMbhlit']\n",
    "\n",
    "for index in range(len(BAT_source['CName'])):\n",
    "    BAT_source.loc[index,'Name']=BAT_source.loc[index,'CName'].replace(' ','')\n",
    "BAT_source=drop_index(BAT_source)\n",
    "print(len(BAT_source))"
   ]
  },
  {
   "cell_type": "code",
   "execution_count": 32,
   "metadata": {
    "ExecuteTime": {
     "end_time": "2021-09-10T08:21:52.949510Z",
     "start_time": "2021-09-10T08:21:52.942437Z"
    }
   },
   "outputs": [
    {
     "data": {
      "text/plain": [
       "(201, 15)"
      ]
     },
     "execution_count": 32,
     "metadata": {},
     "output_type": "execute_result"
    }
   ],
   "source": [
    "len(BAT_source[BAT_source['logMbh']>0]),len(BAT_source[BAT_source['logMbhlit']>0])"
   ]
  },
  {
   "cell_type": "code",
   "execution_count": 35,
   "metadata": {
    "ExecuteTime": {
     "end_time": "2021-09-10T08:22:19.000845Z",
     "start_time": "2021-09-10T08:22:18.983682Z"
    }
   },
   "outputs": [
    {
     "data": {
      "text/html": [
       "<div>\n",
       "<style scoped>\n",
       "    .dataframe tbody tr th:only-of-type {\n",
       "        vertical-align: middle;\n",
       "    }\n",
       "\n",
       "    .dataframe tbody tr th {\n",
       "        vertical-align: top;\n",
       "    }\n",
       "\n",
       "    .dataframe thead th {\n",
       "        text-align: right;\n",
       "    }\n",
       "</style>\n",
       "<table border=\"1\" class=\"dataframe\">\n",
       "  <thead>\n",
       "    <tr style=\"text-align: right;\">\n",
       "      <th></th>\n",
       "      <th>CName</th>\n",
       "      <th>logMbh</th>\n",
       "      <th>logMbhlit</th>\n",
       "      <th>Name</th>\n",
       "    </tr>\n",
       "  </thead>\n",
       "  <tbody>\n",
       "    <tr>\n",
       "      <th>79</th>\n",
       "      <td>NGC 1068</td>\n",
       "      <td>0.00</td>\n",
       "      <td>6.93</td>\n",
       "      <td>NGC1068</td>\n",
       "    </tr>\n",
       "    <tr>\n",
       "      <th>90</th>\n",
       "      <td>NGC 1194</td>\n",
       "      <td>8.12</td>\n",
       "      <td>7.83</td>\n",
       "      <td>NGC1194</td>\n",
       "    </tr>\n",
       "    <tr>\n",
       "      <th>265</th>\n",
       "      <td>M 81</td>\n",
       "      <td>8.16</td>\n",
       "      <td>7.90</td>\n",
       "      <td>M81</td>\n",
       "    </tr>\n",
       "    <tr>\n",
       "      <th>269</th>\n",
       "      <td>NGC 3079</td>\n",
       "      <td>8.27</td>\n",
       "      <td>6.38</td>\n",
       "      <td>NGC3079</td>\n",
       "    </tr>\n",
       "    <tr>\n",
       "      <th>277</th>\n",
       "      <td>NGC 3227</td>\n",
       "      <td>0.00</td>\n",
       "      <td>7.18</td>\n",
       "      <td>NGC3227</td>\n",
       "    </tr>\n",
       "    <tr>\n",
       "      <th>290</th>\n",
       "      <td>NGC 3393</td>\n",
       "      <td>0.00</td>\n",
       "      <td>7.52</td>\n",
       "      <td>NGC3393</td>\n",
       "    </tr>\n",
       "    <tr>\n",
       "      <th>335</th>\n",
       "      <td>NGC 3998</td>\n",
       "      <td>9.93</td>\n",
       "      <td>8.93</td>\n",
       "      <td>NGC3998</td>\n",
       "    </tr>\n",
       "    <tr>\n",
       "      <th>351</th>\n",
       "      <td>NGC 4151</td>\n",
       "      <td>0.00</td>\n",
       "      <td>7.58</td>\n",
       "      <td>NGC4151</td>\n",
       "    </tr>\n",
       "    <tr>\n",
       "      <th>360</th>\n",
       "      <td>M 106</td>\n",
       "      <td>7.57</td>\n",
       "      <td>7.56</td>\n",
       "      <td>M106</td>\n",
       "    </tr>\n",
       "    <tr>\n",
       "      <th>366</th>\n",
       "      <td>NGC 4388</td>\n",
       "      <td>6.99</td>\n",
       "      <td>6.94</td>\n",
       "      <td>NGC4388</td>\n",
       "    </tr>\n",
       "    <tr>\n",
       "      <th>406</th>\n",
       "      <td>Cen A</td>\n",
       "      <td>0.00</td>\n",
       "      <td>7.77</td>\n",
       "      <td>CenA</td>\n",
       "    </tr>\n",
       "    <tr>\n",
       "      <th>412</th>\n",
       "      <td>NGC 5252</td>\n",
       "      <td>8.87</td>\n",
       "      <td>9.00</td>\n",
       "      <td>NGC5252</td>\n",
       "    </tr>\n",
       "    <tr>\n",
       "      <th>497</th>\n",
       "      <td>NGC 6240</td>\n",
       "      <td>0.00</td>\n",
       "      <td>9.20</td>\n",
       "      <td>NGC6240</td>\n",
       "    </tr>\n",
       "    <tr>\n",
       "      <th>550</th>\n",
       "      <td>Cygnus A</td>\n",
       "      <td>0.00</td>\n",
       "      <td>9.43</td>\n",
       "      <td>CygnusA</td>\n",
       "    </tr>\n",
       "    <tr>\n",
       "      <th>625</th>\n",
       "      <td>NGC 7582</td>\n",
       "      <td>0.00</td>\n",
       "      <td>7.74</td>\n",
       "      <td>NGC7582</td>\n",
       "    </tr>\n",
       "  </tbody>\n",
       "</table>\n",
       "</div>"
      ],
      "text/plain": [
       "        CName  logMbh  logMbhlit     Name\n",
       "79   NGC 1068    0.00       6.93  NGC1068\n",
       "90   NGC 1194    8.12       7.83  NGC1194\n",
       "265      M 81    8.16       7.90      M81\n",
       "269  NGC 3079    8.27       6.38  NGC3079\n",
       "277  NGC 3227    0.00       7.18  NGC3227\n",
       "290  NGC 3393    0.00       7.52  NGC3393\n",
       "335  NGC 3998    9.93       8.93  NGC3998\n",
       "351  NGC 4151    0.00       7.58  NGC4151\n",
       "360     M 106    7.57       7.56     M106\n",
       "366  NGC 4388    6.99       6.94  NGC4388\n",
       "406     Cen A    0.00       7.77     CenA\n",
       "412  NGC 5252    8.87       9.00  NGC5252\n",
       "497  NGC 6240    0.00       9.20  NGC6240\n",
       "550  Cygnus A    0.00       9.43  CygnusA\n",
       "625  NGC 7582    0.00       7.74  NGC7582"
      ]
     },
     "execution_count": 35,
     "metadata": {},
     "output_type": "execute_result"
    }
   ],
   "source": [
    "BAT_source[BAT_source['logMbhlit']>0]"
   ]
  },
  {
   "cell_type": "code",
   "execution_count": 16,
   "metadata": {
    "ExecuteTime": {
     "end_time": "2021-09-10T07:33:57.993396Z",
     "start_time": "2021-09-10T07:33:57.973134Z"
    }
   },
   "outputs": [
    {
     "name": "stdout",
     "output_type": "stream",
     "text": [
      "33\n"
     ]
    }
   ],
   "source": [
    "BATmass_2=pd.read_excel('/Users/brettlv/blog/IHEP_sync/data/AGNmass/2021MNRAS.506.4960H_table4.xlsx')\n",
    "BATmass_2=BATmass_2[BATmass_2['Object'].notnull()]\n",
    "BATmass_2=drop_index(BATmass_2)\n",
    "print(len(BATmass_2))"
   ]
  },
  {
   "cell_type": "code",
   "execution_count": 17,
   "metadata": {
    "ExecuteTime": {
     "end_time": "2021-09-10T07:34:05.461731Z",
     "start_time": "2021-09-10T07:34:05.431994Z"
    }
   },
   "outputs": [],
   "source": [
    "for index in range(len(BATmass_2['log(MBH)'])):\n",
    "    if BATmass_2.loc[index,'log(MBH)'].find('+')>0:\n",
    "        logMbh=float(BATmass_2.loc[index,'log(MBH)'].split('+')[0])\n",
    "    elif BATmass_2.loc[index,'log(MBH)'].find('±')>0:\n",
    "        logMbh=float(BATmass_2.loc[index,'log(MBH)'].split('±')[0])\n",
    "           \n",
    "    BATmass_2.loc[index,'logMbh']=logMbh    \n",
    "    BATmass_2.loc[index,'Name']=BATmass_2.loc[index,'Object'].replace(' ','')\n"
   ]
  },
  {
   "cell_type": "code",
   "execution_count": 18,
   "metadata": {
    "ExecuteTime": {
     "end_time": "2021-09-10T07:34:06.666445Z",
     "start_time": "2021-09-10T07:34:06.661994Z"
    }
   },
   "outputs": [
    {
     "data": {
      "text/plain": [
       "Index(['Object', 'Type', 'Redshift', 'log(MBH)', 'log(λe)', 'nH', 'Unnamed: 6',\n",
       "       'Efold', 'R', 'Unnamed: 9', 'χ2/d.o.f.', 'Ref.', '2021MNRAS.506.4960H',\n",
       "       'logMbh', 'Name'],\n",
       "      dtype='object')"
      ]
     },
     "execution_count": 18,
     "metadata": {},
     "output_type": "execute_result"
    }
   ],
   "source": [
    "BATmass_2.columns"
   ]
  },
  {
   "cell_type": "code",
   "execution_count": 36,
   "metadata": {
    "ExecuteTime": {
     "end_time": "2021-09-10T08:23:42.700031Z",
     "start_time": "2021-09-10T08:23:42.682771Z"
    }
   },
   "outputs": [
    {
     "data": {
      "text/html": [
       "<div>\n",
       "<style scoped>\n",
       "    .dataframe tbody tr th:only-of-type {\n",
       "        vertical-align: middle;\n",
       "    }\n",
       "\n",
       "    .dataframe tbody tr th {\n",
       "        vertical-align: top;\n",
       "    }\n",
       "\n",
       "    .dataframe thead th {\n",
       "        text-align: right;\n",
       "    }\n",
       "</style>\n",
       "<table border=\"1\" class=\"dataframe\">\n",
       "  <thead>\n",
       "    <tr style=\"text-align: right;\">\n",
       "      <th></th>\n",
       "      <th>Name</th>\n",
       "      <th>Object</th>\n",
       "      <th>log(MBH)</th>\n",
       "      <th>logMbh</th>\n",
       "    </tr>\n",
       "  </thead>\n",
       "  <tbody>\n",
       "    <tr>\n",
       "      <th>0</th>\n",
       "      <td>Mrk1501</td>\n",
       "      <td>Mrk 1501</td>\n",
       "      <td>8.07+0.12−0.17</td>\n",
       "      <td>8.07</td>\n",
       "    </tr>\n",
       "    <tr>\n",
       "      <th>1</th>\n",
       "      <td>Mrk1148</td>\n",
       "      <td>Mrk 1148</td>\n",
       "      <td>8.69 ± 0.18</td>\n",
       "      <td>8.69</td>\n",
       "    </tr>\n",
       "    <tr>\n",
       "      <th>2</th>\n",
       "      <td>Fairall9</td>\n",
       "      <td>Fairall 9</td>\n",
       "      <td>8.30+0.12−0.08</td>\n",
       "      <td>8.30</td>\n",
       "    </tr>\n",
       "    <tr>\n",
       "      <th>3</th>\n",
       "      <td>Mrk359</td>\n",
       "      <td>Mrk 359</td>\n",
       "      <td>7.03 ± 0.72</td>\n",
       "      <td>7.03</td>\n",
       "    </tr>\n",
       "    <tr>\n",
       "      <th>4</th>\n",
       "      <td>NGC931</td>\n",
       "      <td>NGC 931</td>\n",
       "      <td>7.64 ± 0.40</td>\n",
       "      <td>7.64</td>\n",
       "    </tr>\n",
       "    <tr>\n",
       "      <th>5</th>\n",
       "      <td>NGC1052</td>\n",
       "      <td>NGC 1052</td>\n",
       "      <td>8.96 ± 0.29</td>\n",
       "      <td>8.96</td>\n",
       "    </tr>\n",
       "    <tr>\n",
       "      <th>6</th>\n",
       "      <td>NGC1068</td>\n",
       "      <td>NGC 1068</td>\n",
       "      <td>6.75 ± 0.08</td>\n",
       "      <td>6.75</td>\n",
       "    </tr>\n",
       "    <tr>\n",
       "      <th>7</th>\n",
       "      <td>3C109</td>\n",
       "      <td>3C 109</td>\n",
       "      <td>8.30 ± 0.40</td>\n",
       "      <td>8.30</td>\n",
       "    </tr>\n",
       "    <tr>\n",
       "      <th>8</th>\n",
       "      <td>3C120</td>\n",
       "      <td>3C 120</td>\n",
       "      <td>7.75 ± 0.04</td>\n",
       "      <td>7.75</td>\n",
       "    </tr>\n",
       "    <tr>\n",
       "      <th>9</th>\n",
       "      <td>Ark120</td>\n",
       "      <td>Ark120</td>\n",
       "      <td>8.07+0.05−0.06</td>\n",
       "      <td>8.07</td>\n",
       "    </tr>\n",
       "    <tr>\n",
       "      <th>10</th>\n",
       "      <td>ESO362−18</td>\n",
       "      <td>ESO362−18</td>\n",
       "      <td>6.25 ± 0.16</td>\n",
       "      <td>6.25</td>\n",
       "    </tr>\n",
       "    <tr>\n",
       "      <th>11</th>\n",
       "      <td>Mrk3</td>\n",
       "      <td>Mrk 3</td>\n",
       "      <td>8.95 ± 0.30</td>\n",
       "      <td>8.95</td>\n",
       "    </tr>\n",
       "    <tr>\n",
       "      <th>12</th>\n",
       "      <td>IRAS09149−6206</td>\n",
       "      <td>IRAS09149−6206</td>\n",
       "      <td>8.48 ± 0.06</td>\n",
       "      <td>8.48</td>\n",
       "    </tr>\n",
       "    <tr>\n",
       "      <th>13</th>\n",
       "      <td>NGC3227</td>\n",
       "      <td>NGC 3227</td>\n",
       "      <td>7.18+0.19−0.88</td>\n",
       "      <td>7.18</td>\n",
       "    </tr>\n",
       "    <tr>\n",
       "      <th>14</th>\n",
       "      <td>NGC3998</td>\n",
       "      <td>NGC 3998</td>\n",
       "      <td>8.91+0.11−0.10</td>\n",
       "      <td>8.91</td>\n",
       "    </tr>\n",
       "    <tr>\n",
       "      <th>15</th>\n",
       "      <td>NGC4151</td>\n",
       "      <td>NGC 4151</td>\n",
       "      <td>7.55 ± 0.05</td>\n",
       "      <td>7.55</td>\n",
       "    </tr>\n",
       "    <tr>\n",
       "      <th>16</th>\n",
       "      <td>Mrk766</td>\n",
       "      <td>Mrk 766</td>\n",
       "      <td>6.82+0.05−0.06</td>\n",
       "      <td>6.82</td>\n",
       "    </tr>\n",
       "    <tr>\n",
       "      <th>17</th>\n",
       "      <td>3C273</td>\n",
       "      <td>3C 273</td>\n",
       "      <td>8.84+0.11−0.08</td>\n",
       "      <td>8.84</td>\n",
       "    </tr>\n",
       "    <tr>\n",
       "      <th>18</th>\n",
       "      <td>NGC4579</td>\n",
       "      <td>NGC 4579</td>\n",
       "      <td>7.77 ± 0.11</td>\n",
       "      <td>7.77</td>\n",
       "    </tr>\n",
       "    <tr>\n",
       "      <th>19</th>\n",
       "      <td>NGC4593</td>\n",
       "      <td>NGC 4593</td>\n",
       "      <td>6.88+0.10−0.08</td>\n",
       "      <td>6.88</td>\n",
       "    </tr>\n",
       "    <tr>\n",
       "      <th>20</th>\n",
       "      <td>NGC4785</td>\n",
       "      <td>NGC 4785</td>\n",
       "      <td>7.99 ± 0.09</td>\n",
       "      <td>7.99</td>\n",
       "    </tr>\n",
       "    <tr>\n",
       "      <th>21</th>\n",
       "      <td>Mrk273</td>\n",
       "      <td>Mrk273</td>\n",
       "      <td>9.02 ± 0.04</td>\n",
       "      <td>9.02</td>\n",
       "    </tr>\n",
       "    <tr>\n",
       "      <th>22</th>\n",
       "      <td>Mrk841</td>\n",
       "      <td>Mrk 841</td>\n",
       "      <td>8.76 ± 0.27</td>\n",
       "      <td>8.76</td>\n",
       "    </tr>\n",
       "    <tr>\n",
       "      <th>23</th>\n",
       "      <td>Mrk1392</td>\n",
       "      <td>Mrk 1392</td>\n",
       "      <td>6.88 ± 0.14</td>\n",
       "      <td>6.88</td>\n",
       "    </tr>\n",
       "    <tr>\n",
       "      <th>24</th>\n",
       "      <td>3C382</td>\n",
       "      <td>3C 382</td>\n",
       "      <td>8.01+0.09−0.05</td>\n",
       "      <td>8.01</td>\n",
       "    </tr>\n",
       "    <tr>\n",
       "      <th>25</th>\n",
       "      <td>SwiftJ2127.4+5654</td>\n",
       "      <td>SwiftJ2127.4+5654</td>\n",
       "      <td>6.34 ± 0.19</td>\n",
       "      <td>6.34</td>\n",
       "    </tr>\n",
       "    <tr>\n",
       "      <th>26</th>\n",
       "      <td>IIZw171</td>\n",
       "      <td>IIZw171</td>\n",
       "      <td>7.33 ± 0.17</td>\n",
       "      <td>7.33</td>\n",
       "    </tr>\n",
       "    <tr>\n",
       "      <th>27</th>\n",
       "      <td>NGC7314</td>\n",
       "      <td>NGC 7314</td>\n",
       "      <td>7.24 ± 0.56</td>\n",
       "      <td>7.24</td>\n",
       "    </tr>\n",
       "    <tr>\n",
       "      <th>28</th>\n",
       "      <td>Mrk915</td>\n",
       "      <td>Mrk 915</td>\n",
       "      <td>7.76 ± 0.37</td>\n",
       "      <td>7.76</td>\n",
       "    </tr>\n",
       "    <tr>\n",
       "      <th>29</th>\n",
       "      <td>MR2251−178</td>\n",
       "      <td>MR2251−178</td>\n",
       "      <td>7.82 ± 0.15</td>\n",
       "      <td>7.82</td>\n",
       "    </tr>\n",
       "    <tr>\n",
       "      <th>30</th>\n",
       "      <td>NGC7469</td>\n",
       "      <td>NGC 7469</td>\n",
       "      <td>6.96 ± 0.05</td>\n",
       "      <td>6.96</td>\n",
       "    </tr>\n",
       "    <tr>\n",
       "      <th>31</th>\n",
       "      <td>Mrk926</td>\n",
       "      <td>Mrk 926</td>\n",
       "      <td>8.36 ± 0.02</td>\n",
       "      <td>8.36</td>\n",
       "    </tr>\n",
       "    <tr>\n",
       "      <th>32</th>\n",
       "      <td>NGC7582</td>\n",
       "      <td>NGC 7582</td>\n",
       "      <td>7.67+0.09−0.08</td>\n",
       "      <td>7.67</td>\n",
       "    </tr>\n",
       "  </tbody>\n",
       "</table>\n",
       "</div>"
      ],
      "text/plain": [
       "                 Name             Object        log(MBH)  logMbh\n",
       "0             Mrk1501           Mrk 1501  8.07+0.12−0.17    8.07\n",
       "1             Mrk1148           Mrk 1148     8.69 ± 0.18    8.69\n",
       "2            Fairall9          Fairall 9  8.30+0.12−0.08    8.30\n",
       "3              Mrk359            Mrk 359     7.03 ± 0.72    7.03\n",
       "4              NGC931            NGC 931     7.64 ± 0.40    7.64\n",
       "5             NGC1052           NGC 1052     8.96 ± 0.29    8.96\n",
       "6             NGC1068           NGC 1068     6.75 ± 0.08    6.75\n",
       "7               3C109             3C 109     8.30 ± 0.40    8.30\n",
       "8               3C120             3C 120     7.75 ± 0.04    7.75\n",
       "9              Ark120             Ark120  8.07+0.05−0.06    8.07\n",
       "10          ESO362−18          ESO362−18     6.25 ± 0.16    6.25\n",
       "11               Mrk3              Mrk 3     8.95 ± 0.30    8.95\n",
       "12     IRAS09149−6206     IRAS09149−6206     8.48 ± 0.06    8.48\n",
       "13            NGC3227           NGC 3227  7.18+0.19−0.88    7.18\n",
       "14            NGC3998           NGC 3998  8.91+0.11−0.10    8.91\n",
       "15            NGC4151           NGC 4151     7.55 ± 0.05    7.55\n",
       "16             Mrk766            Mrk 766  6.82+0.05−0.06    6.82\n",
       "17              3C273             3C 273  8.84+0.11−0.08    8.84\n",
       "18            NGC4579           NGC 4579     7.77 ± 0.11    7.77\n",
       "19            NGC4593           NGC 4593  6.88+0.10−0.08    6.88\n",
       "20            NGC4785           NGC 4785     7.99 ± 0.09    7.99\n",
       "21             Mrk273             Mrk273     9.02 ± 0.04    9.02\n",
       "22             Mrk841            Mrk 841     8.76 ± 0.27    8.76\n",
       "23            Mrk1392           Mrk 1392     6.88 ± 0.14    6.88\n",
       "24              3C382             3C 382  8.01+0.09−0.05    8.01\n",
       "25  SwiftJ2127.4+5654  SwiftJ2127.4+5654     6.34 ± 0.19    6.34\n",
       "26            IIZw171            IIZw171     7.33 ± 0.17    7.33\n",
       "27            NGC7314           NGC 7314     7.24 ± 0.56    7.24\n",
       "28             Mrk915            Mrk 915     7.76 ± 0.37    7.76\n",
       "29         MR2251−178         MR2251−178     7.82 ± 0.15    7.82\n",
       "30            NGC7469           NGC 7469     6.96 ± 0.05    6.96\n",
       "31             Mrk926            Mrk 926     8.36 ± 0.02    8.36\n",
       "32            NGC7582           NGC 7582  7.67+0.09−0.08    7.67"
      ]
     },
     "execution_count": 36,
     "metadata": {},
     "output_type": "execute_result"
    }
   ],
   "source": [
    "BATmass_2[['Name','Object','log(MBH)','logMbh']]#[:5]"
   ]
  },
  {
   "cell_type": "code",
   "execution_count": null,
   "metadata": {},
   "outputs": [],
   "source": []
  },
  {
   "cell_type": "code",
   "execution_count": null,
   "metadata": {},
   "outputs": [],
   "source": []
  },
  {
   "cell_type": "markdown",
   "metadata": {},
   "source": [
    "# BAT_105m"
   ]
  },
  {
   "cell_type": "code",
   "execution_count": 20,
   "metadata": {
    "ExecuteTime": {
     "end_time": "2021-09-10T07:34:35.155539Z",
     "start_time": "2021-09-10T07:34:35.104922Z"
    }
   },
   "outputs": [
    {
     "name": "stderr",
     "output_type": "stream",
     "text": [
      "WARNING: UnitsWarning: '[10-7W]' did not parse as cds unit: Invalid character at col 0 If this is meant to be a custom unit, define it with 'u.def_unit'. To have it recognized inside a file reader or other code, enable it with 'u.add_enabled_units'. For details, see https://docs.astropy.org/en/latest/units/combining_and_defining.html [astropy.units.core]\n"
     ]
    }
   ],
   "source": [
    "BAT_105m=Table.read('/Users/brettlv/blog/IHEP_sync/data/AGNmass/BAT_105m/J_ApJS_235_4/table3.dat',\n",
    "                      readme=\"/Users/brettlv/blog/IHEP_sync/data/AGNmass/BAT_105m/J_ApJS_235_4/ReadMe\",\n",
    "                      format=\"ascii.cds\",)"
   ]
  },
  {
   "cell_type": "markdown",
   "metadata": {},
   "source": [
    "## BAT_105m_pd"
   ]
  },
  {
   "cell_type": "code",
   "execution_count": 21,
   "metadata": {
    "ExecuteTime": {
     "end_time": "2021-09-10T07:34:37.937666Z",
     "start_time": "2021-09-10T07:34:37.928310Z"
    }
   },
   "outputs": [],
   "source": [
    "BAT_105m_pd= BAT_105m.to_pandas()"
   ]
  },
  {
   "cell_type": "markdown",
   "metadata": {},
   "source": [
    "# BAT_105m_Seyfert"
   ]
  },
  {
   "cell_type": "code",
   "execution_count": 22,
   "metadata": {
    "ExecuteTime": {
     "end_time": "2021-09-10T07:34:51.674536Z",
     "start_time": "2021-09-10T07:34:51.662414Z"
    }
   },
   "outputs": [
    {
     "name": "stdout",
     "output_type": "stream",
     "text": [
      "819\n"
     ]
    }
   ],
   "source": [
    "BAT_105m_Seyfert=BAT_105m_pd[BAT_105m_pd['Type'].str.startswith('Sy')]\n",
    "BAT_105m_Seyfert=BAT_105m_Seyfert[BAT_105m_Seyfert['Type'].str.contains('candidate')==False]\n",
    "BAT_105m_Seyfert=BAT_105m_Seyfert[BAT_105m_Seyfert['Type'].str.contains('Symbiotic star')==False]\n",
    "#BAT_105m_Seyfert=BAT_105m_Seyfert[BAT_105m_Seyfert['Type'].str.contains('Symbiotic star')==False]\n",
    "print(len(BAT_105m_Seyfert))"
   ]
  },
  {
   "cell_type": "code",
   "execution_count": 23,
   "metadata": {
    "ExecuteTime": {
     "end_time": "2021-09-10T07:35:02.048627Z",
     "start_time": "2021-09-10T07:35:01.487680Z"
    }
   },
   "outputs": [],
   "source": [
    "for i in range(len(BAT_105m_Seyfert)):\n",
    "    typestring=BAT_105m_Seyfert.iloc[i]['Type']  \n",
    "    \n",
    "    if typestring.find('broad-line')>0:\n",
    "        type1or2=float(typestring.split(';')[0].split('Sy')[1])\n",
    "       \n",
    "    else:\n",
    "        type1or2=float(typestring.split('Sy')[1])\n",
    "        \n",
    "    BAT_105m_Seyfert.loc[i,'S_type']= type1or2 "
   ]
  },
  {
   "cell_type": "code",
   "execution_count": 24,
   "metadata": {
    "ExecuteTime": {
     "end_time": "2021-09-10T07:35:22.016264Z",
     "start_time": "2021-09-10T07:35:22.013004Z"
    }
   },
   "outputs": [],
   "source": [
    "BAT_105m_Seyfert=drop_index(BAT_105m_Seyfert)"
   ]
  },
  {
   "cell_type": "code",
   "execution_count": 26,
   "metadata": {
    "ExecuteTime": {
     "end_time": "2021-09-10T07:35:45.134295Z",
     "start_time": "2021-09-10T07:35:45.106027Z"
    }
   },
   "outputs": [
    {
     "data": {
      "text/html": [
       "<div>\n",
       "<style scoped>\n",
       "    .dataframe tbody tr th:only-of-type {\n",
       "        vertical-align: middle;\n",
       "    }\n",
       "\n",
       "    .dataframe tbody tr th {\n",
       "        vertical-align: top;\n",
       "    }\n",
       "\n",
       "    .dataframe thead th {\n",
       "        text-align: right;\n",
       "    }\n",
       "</style>\n",
       "<table border=\"1\" class=\"dataframe\">\n",
       "  <thead>\n",
       "    <tr style=\"text-align: right;\">\n",
       "      <th></th>\n",
       "      <th>Seq</th>\n",
       "      <th>---</th>\n",
       "      <th>Swift</th>\n",
       "      <th>RAdeg</th>\n",
       "      <th>DEdeg</th>\n",
       "      <th>S/N</th>\n",
       "      <th>CName</th>\n",
       "      <th>RACdeg</th>\n",
       "      <th>DECdeg</th>\n",
       "      <th>Flux</th>\n",
       "      <th>...</th>\n",
       "      <th>E_Flux</th>\n",
       "      <th>Gamma</th>\n",
       "      <th>e_Gamma</th>\n",
       "      <th>E_Gamma</th>\n",
       "      <th>Chi2</th>\n",
       "      <th>z</th>\n",
       "      <th>logL</th>\n",
       "      <th>Class</th>\n",
       "      <th>Type</th>\n",
       "      <th>S_type</th>\n",
       "    </tr>\n",
       "  </thead>\n",
       "  <tbody>\n",
       "    <tr>\n",
       "      <th>0</th>\n",
       "      <td>1.0</td>\n",
       "      <td>SWIFT</td>\n",
       "      <td>J0001.0-0708</td>\n",
       "      <td>0.228266</td>\n",
       "      <td>-7.164218</td>\n",
       "      <td>7.73</td>\n",
       "      <td>2MASXJ00004876-0709117</td>\n",
       "      <td>0.2032</td>\n",
       "      <td>-7.1532</td>\n",
       "      <td>13.49</td>\n",
       "      <td>...</td>\n",
       "      <td>16.01</td>\n",
       "      <td>2.21</td>\n",
       "      <td>1.80</td>\n",
       "      <td>2.70</td>\n",
       "      <td>1.3</td>\n",
       "      <td>0.037</td>\n",
       "      <td>43.6</td>\n",
       "      <td>50.0</td>\n",
       "      <td>Sy1.9</td>\n",
       "      <td>1.9</td>\n",
       "    </tr>\n",
       "    <tr>\n",
       "      <th>1</th>\n",
       "      <td>2.0</td>\n",
       "      <td>SWIFT</td>\n",
       "      <td>J0001.6-7701</td>\n",
       "      <td>0.445302</td>\n",
       "      <td>-77.000310</td>\n",
       "      <td>6.32</td>\n",
       "      <td>2MASXJ00014596-7657144</td>\n",
       "      <td>0.4419</td>\n",
       "      <td>-76.9540</td>\n",
       "      <td>13.23</td>\n",
       "      <td>...</td>\n",
       "      <td>15.97</td>\n",
       "      <td>1.62</td>\n",
       "      <td>1.22</td>\n",
       "      <td>2.04</td>\n",
       "      <td>2.2</td>\n",
       "      <td>0.058</td>\n",
       "      <td>44.0</td>\n",
       "      <td>50.0</td>\n",
       "      <td>Sy1.9</td>\n",
       "      <td>1.9</td>\n",
       "    </tr>\n",
       "    <tr>\n",
       "      <th>2</th>\n",
       "      <td>3.0</td>\n",
       "      <td>SWIFT</td>\n",
       "      <td>J0002.5+0323</td>\n",
       "      <td>0.612646</td>\n",
       "      <td>3.364962</td>\n",
       "      <td>5.50</td>\n",
       "      <td>NGC7811</td>\n",
       "      <td>0.6103</td>\n",
       "      <td>3.3519</td>\n",
       "      <td>10.79</td>\n",
       "      <td>...</td>\n",
       "      <td>13.64</td>\n",
       "      <td>1.95</td>\n",
       "      <td>1.38</td>\n",
       "      <td>2.66</td>\n",
       "      <td>0.7</td>\n",
       "      <td>0.025</td>\n",
       "      <td>43.2</td>\n",
       "      <td>40.0</td>\n",
       "      <td>Sy1.5</td>\n",
       "      <td>1.5</td>\n",
       "    </tr>\n",
       "    <tr>\n",
       "      <th>3</th>\n",
       "      <td>4.0</td>\n",
       "      <td>SWIFT</td>\n",
       "      <td>J0003.3+2737</td>\n",
       "      <td>0.856351</td>\n",
       "      <td>27.643366</td>\n",
       "      <td>5.98</td>\n",
       "      <td>2MASXJ00032742+2739173</td>\n",
       "      <td>0.8643</td>\n",
       "      <td>27.6548</td>\n",
       "      <td>10.29</td>\n",
       "      <td>...</td>\n",
       "      <td>12.77</td>\n",
       "      <td>2.12</td>\n",
       "      <td>1.61</td>\n",
       "      <td>2.73</td>\n",
       "      <td>0.4</td>\n",
       "      <td>0.039</td>\n",
       "      <td>43.5</td>\n",
       "      <td>50.0</td>\n",
       "      <td>Sy2</td>\n",
       "      <td>2.0</td>\n",
       "    </tr>\n",
       "    <tr>\n",
       "      <th>4</th>\n",
       "      <td>5.0</td>\n",
       "      <td>SWIFT</td>\n",
       "      <td>J0005.0+7021</td>\n",
       "      <td>0.934034</td>\n",
       "      <td>70.357785</td>\n",
       "      <td>8.52</td>\n",
       "      <td>2MASXJ00040192+7019185</td>\n",
       "      <td>1.0082</td>\n",
       "      <td>70.3217</td>\n",
       "      <td>13.41</td>\n",
       "      <td>...</td>\n",
       "      <td>15.70</td>\n",
       "      <td>2.07</td>\n",
       "      <td>1.68</td>\n",
       "      <td>2.52</td>\n",
       "      <td>1.0</td>\n",
       "      <td>0.096</td>\n",
       "      <td>44.4</td>\n",
       "      <td>50.0</td>\n",
       "      <td>Sy1.9</td>\n",
       "      <td>1.9</td>\n",
       "    </tr>\n",
       "  </tbody>\n",
       "</table>\n",
       "<p>5 rows × 21 columns</p>\n",
       "</div>"
      ],
      "text/plain": [
       "   Seq    ---         Swift     RAdeg      DEdeg   S/N  \\\n",
       "0  1.0  SWIFT  J0001.0-0708  0.228266  -7.164218  7.73   \n",
       "1  2.0  SWIFT  J0001.6-7701  0.445302 -77.000310  6.32   \n",
       "2  3.0  SWIFT  J0002.5+0323  0.612646   3.364962  5.50   \n",
       "3  4.0  SWIFT  J0003.3+2737  0.856351  27.643366  5.98   \n",
       "4  5.0  SWIFT  J0005.0+7021  0.934034  70.357785  8.52   \n",
       "\n",
       "                    CName  RACdeg   DECdeg   Flux  ...  E_Flux  Gamma  \\\n",
       "0  2MASXJ00004876-0709117  0.2032  -7.1532  13.49  ...   16.01   2.21   \n",
       "1  2MASXJ00014596-7657144  0.4419 -76.9540  13.23  ...   15.97   1.62   \n",
       "2                 NGC7811  0.6103   3.3519  10.79  ...   13.64   1.95   \n",
       "3  2MASXJ00032742+2739173  0.8643  27.6548  10.29  ...   12.77   2.12   \n",
       "4  2MASXJ00040192+7019185  1.0082  70.3217  13.41  ...   15.70   2.07   \n",
       "\n",
       "   e_Gamma  E_Gamma  Chi2      z  logL  Class   Type S_type  \n",
       "0     1.80     2.70   1.3  0.037  43.6   50.0  Sy1.9    1.9  \n",
       "1     1.22     2.04   2.2  0.058  44.0   50.0  Sy1.9    1.9  \n",
       "2     1.38     2.66   0.7  0.025  43.2   40.0  Sy1.5    1.5  \n",
       "3     1.61     2.73   0.4  0.039  43.5   50.0    Sy2    2.0  \n",
       "4     1.68     2.52   1.0  0.096  44.4   50.0  Sy1.9    1.9  \n",
       "\n",
       "[5 rows x 21 columns]"
      ]
     },
     "execution_count": 26,
     "metadata": {},
     "output_type": "execute_result"
    }
   ],
   "source": [
    "BAT_105m_Seyfert[:5]"
   ]
  },
  {
   "cell_type": "markdown",
   "metadata": {
    "ExecuteTime": {
     "end_time": "2021-09-10T07:23:18.303493Z",
     "start_time": "2021-09-10T07:23:18.291878Z"
    }
   },
   "source": [
    "BAT_105m_Seyfert_data=BAT_105m_Seyfert[BAT_105m_Seyfert['S_type']>0]\n",
    "BAT_105m_Seyfert_data=BAT_105m_Seyfert_data.reset_index(drop=True)\n",
    "print(len(BAT_105m_Seyfert_data))"
   ]
  },
  {
   "cell_type": "code",
   "execution_count": 25,
   "metadata": {
    "ExecuteTime": {
     "end_time": "2021-09-10T07:35:39.979696Z",
     "start_time": "2021-09-10T07:35:39.974474Z"
    }
   },
   "outputs": [
    {
     "data": {
      "text/plain": [
       "Index(['Seq', '---', 'Swift', 'RAdeg', 'DEdeg', 'S/N', 'CName', 'RACdeg',\n",
       "       'DECdeg', 'Flux', 'e_Flux', 'E_Flux', 'Gamma', 'e_Gamma', 'E_Gamma',\n",
       "       'Chi2', 'z', 'logL', 'Class', 'Type', 'S_type'],\n",
       "      dtype='object')"
      ]
     },
     "execution_count": 25,
     "metadata": {},
     "output_type": "execute_result"
    }
   ],
   "source": [
    "BAT_105m_Seyfert.columns"
   ]
  },
  {
   "cell_type": "code",
   "execution_count": null,
   "metadata": {
    "ExecuteTime": {
     "end_time": "2021-09-10T07:25:09.143634Z",
     "start_time": "2021-09-10T07:25:09.076587Z"
    }
   },
   "outputs": [],
   "source": [
    "BAT_105m_Seyfert.to_csv('/Users/brettlv/Downloads/CLAGN_statistic_plot/BAT_105m_Seyfert.csv',index=False)"
   ]
  },
  {
   "cell_type": "markdown",
   "metadata": {
    "ExecuteTime": {
     "end_time": "2021-09-10T07:23:43.113263Z",
     "start_time": "2021-09-10T07:23:43.082181Z"
    }
   },
   "source": [
    "BAT_105m_Seyfert_data.to_csv('/Users/brettlv/Downloads/CLAGN_statistic_plot/BAT_105m_Seyfert_data.csv',index=False)"
   ]
  },
  {
   "cell_type": "code",
   "execution_count": null,
   "metadata": {},
   "outputs": [],
   "source": [
    "for index in range(len(BAT_105m_Seyfert['CName'])):\n",
    "    BAT_source.loc[index,'Name']=BAT_source.loc[index,'CName'].replace(' ','')\n"
   ]
  },
  {
   "cell_type": "code",
   "execution_count": null,
   "metadata": {
    "ExecuteTime": {
     "end_time": "2021-09-06T03:00:51.781467Z",
     "start_time": "2021-09-06T03:00:51.771780Z"
    }
   },
   "outputs": [],
   "source": [
    "BAT_105m_Seyfert.columns"
   ]
  },
  {
   "cell_type": "code",
   "execution_count": null,
   "metadata": {
    "ExecuteTime": {
     "end_time": "2021-09-10T06:20:55.612886Z",
     "start_time": "2021-09-10T06:20:55.604191Z"
    }
   },
   "outputs": [],
   "source": [
    "len(BAT_105m_Seyfert)"
   ]
  },
  {
   "cell_type": "code",
   "execution_count": null,
   "metadata": {
    "ExecuteTime": {
     "end_time": "2021-09-06T01:46:08.271659Z",
     "start_time": "2021-09-06T01:46:08.241681Z"
    }
   },
   "outputs": [],
   "source": [
    "BAT_105m_Seyfert[BAT_105m_Seyfert['              COUNTERPART_NAME'].str.contains('NGC 1068')]"
   ]
  },
  {
   "cell_type": "code",
   "execution_count": null,
   "metadata": {},
   "outputs": [],
   "source": [
    "    try:\n",
    "        time.sleep(4)\n",
    "        # 该语句正常执行\n",
    "    except Exception:\n",
    "        raise"
   ]
  },
  {
   "cell_type": "code",
   "execution_count": null,
   "metadata": {},
   "outputs": [],
   "source": [
    "BAT_105m_Seyfert"
   ]
  },
  {
   "cell_type": "markdown",
   "metadata": {},
   "source": [
    "## download"
   ]
  },
  {
   "cell_type": "code",
   "execution_count": null,
   "metadata": {
    "ExecuteTime": {
     "end_time": "2021-09-09T09:17:49.884152Z",
     "start_time": "2021-09-09T09:17:49.857307Z"
    }
   },
   "outputs": [],
   "source": [
    "#Irsa.ROW_LIMIT = 1000 # value of new row limit here.\n",
    "#Irsa.TIMEOUT = 120\n",
    "\n",
    "for index,name in enumerate(BAT_105m_Seyfert['              COUNTERPART_NAME']):\n",
    "    #print(i)\n",
    "    search_name=name.replace(' ','') \n",
    "    save_name=search_name\n",
    "    \n",
    "    if not os.path.exists('wise_%s_mep.csv'%save_name):\n",
    "        print(index,search_name)\n",
    "        Irsa.ROW_LIMIT = 1000\n",
    "        Irsa.TIMEOUT = 120\n",
    "        try:\n",
    "            table_wise_mep=Irsa.query_region(search_name,catalog='allwise_p3as_mep',spatial='Cone',radius=10*u.arcsec,)\n",
    "            table_wise_mep.write('wise_%s_mep.csv'%save_name, format='csv')\n",
    "        except Exception:\n",
    "            continue\n",
    "            #raise \n",
    "            \n",
    "        time.sleep(15+np.random.randint(5,10))    \n",
    "    \n",
    "    if not os.path.exists('wise_%s_neo.csv'%save_name):\n",
    "        Irsa.ROW_LIMIT = 1000\n",
    "        Irsa.TIMEOUT = 120\n",
    "        try:\n",
    "            table_wise_neo=Irsa.query_region(search_name,catalog='neowiser_p1bs_psd',spatial='Cone',radius=10*u.arcsec,)  \n",
    "            table_wise_neo.write('wise_%s_neo.csv'%save_name, format='csv')\n",
    "            \n",
    "        except Exception:\n",
    "            continue\n",
    "            #raise             \n",
    "        time.sleep(15+np.random.randint(5,10))      \n"
   ]
  },
  {
   "cell_type": "markdown",
   "metadata": {},
   "source": [
    "## check down"
   ]
  },
  {
   "cell_type": "code",
   "execution_count": null,
   "metadata": {
    "ExecuteTime": {
     "end_time": "2021-09-09T09:17:52.942583Z",
     "start_time": "2021-09-09T09:17:52.924670Z"
    }
   },
   "outputs": [],
   "source": [
    "for index,name in enumerate(BAT_105m_Seyfert['              COUNTERPART_NAME']):\n",
    "    #print(i)\n",
    "    search_name=name.replace(' ','') \n",
    "    i=search_name   \n",
    "    if not os.path.exists('wise_%s_mep.csv'%i):\n",
    "        print(index,search_name,'mep')   \n",
    "    if not os.path.exists('wise_%s_neo.csv'%i):\n",
    "        print(index,search_name,'neo')"
   ]
  },
  {
   "cell_type": "markdown",
   "metadata": {
    "ExecuteTime": {
     "end_time": "2021-09-02T09:23:17.634196Z",
     "start_time": "2021-09-02T09:21:07.266217Z"
    }
   },
   "source": [
    "search_name='MC 2031-307'\n",
    "i=search_name.replace(' ','')  \n",
    "\n",
    "if not os.path.exists('wise_%s_mep.csv'%i):\n",
    "    print(search_name,i)\n",
    "    Irsa.ROW_LIMIT = 1000\n",
    "    Irsa.TIMEOUT = 120\n",
    "    try:\n",
    "        table_wise_mep=Irsa.query_region(search_name,catalog='allwise_p3as_mep',spatial='Cone',radius=10*u.arcsec,)\n",
    "        table_wise_mep.write('wise_%s_mep.csv'%i, format='csv')\n",
    "    except Exception:\n",
    "        #continue\n",
    "        raise \n",
    "\n",
    "    time.sleep(15+np.random.randint(5,10))    \n",
    "\n",
    "if not os.path.exists('wise_%s_neo.csv'%i):\n",
    "    Irsa.ROW_LIMIT = 1000\n",
    "    Irsa.TIMEOUT = 120\n",
    "    try:\n",
    "        table_wise_neo=Irsa.query_region(search_name,catalog='neowiser_p1bs_psd',spatial='Cone',radius=10*u.arcsec,)  \n",
    "        table_wise_neo.write('wise_%s_neo.csv'%i, format='csv')\n",
    "\n",
    "    except Exception:\n",
    "        #continue\n",
    "        raise             \n",
    "    time.sleep(15+np.random.randint(5,10))      \n"
   ]
  },
  {
   "cell_type": "markdown",
   "metadata": {},
   "source": [
    "# get_intrinsic_var"
   ]
  },
  {
   "cell_type": "code",
   "execution_count": null,
   "metadata": {
    "ExecuteTime": {
     "end_time": "2021-09-09T09:17:56.995105Z",
     "start_time": "2021-09-09T09:17:56.988701Z"
    }
   },
   "outputs": [],
   "source": [
    "def get_intrinsic_var(data,mag_label,magerr_label,epsilon_s):\n",
    "    mag_mean=np.average(data[mag_label])\n",
    "    length_N=len(data[mag_label])\n",
    "    epsilon_square=np.average(data[magerr_label]**2)+epsilon_s**2\n",
    "    Sigma_square=np.sum((data[mag_label]-mag_mean)**2)/(length_N-1)\n",
    "    \n",
    "    if Sigma_square>epsilon_square:\n",
    "        sigma_m=np.sqrt(Sigma_square-epsilon_square)\n",
    "    else:\n",
    "        sigma_m=0\n",
    "        \n",
    "    if length_N<2:\n",
    "        sigma_m=-1#print(length_N)\n",
    "    return sigma_m"
   ]
  },
  {
   "cell_type": "markdown",
   "metadata": {},
   "source": [
    "## neo"
   ]
  },
  {
   "cell_type": "code",
   "execution_count": null,
   "metadata": {
    "ExecuteTime": {
     "end_time": "2021-09-09T09:21:12.689220Z",
     "start_time": "2021-09-09T09:20:41.513073Z"
    }
   },
   "outputs": [],
   "source": [
    "epsilon_s_w1=0.024\n",
    "epsilon_s_w2=0.028\n",
    "#CLAGN_statistic_2021_liu['sigma_m_w1_neo']=-1\n",
    "#CLAGN_statistic_2021_liu['sigma_m_w2_neo']=-1\n",
    "for index,name in enumerate(BAT_105m_Seyfert['              COUNTERPART_NAME']):\n",
    "    search_name=name.replace(' ','') \n",
    "    save_name=search_name\n",
    "    data=pd.read_csv('wise_%s_neo.csv'%save_name)\n",
    "    \n",
    "    data=data[data['w1mpro'].notnull()]\n",
    "    data=data[data['w2mpro'].notnull()]\n",
    "    data=data[data['w1sigmpro'].notnull()]\n",
    "    data=data[data['w2sigmpro'].notnull()]\n",
    "    \n",
    "    data=data[data['w1mpro']<15]\n",
    "    data=data[data['w2mpro']<13]\n",
    "    \n",
    "    #data=data[data['w1rchi2']<2]\n",
    "    \n",
    "    data=data[data['qual_frame']>0]\n",
    "    \n",
    "    data=(data.loc[:, ['mjd', 'w1mpro','w2mpro',\n",
    "                           'w1sigmpro','w2sigmpro',                    \n",
    "                           ]].sort_values('mjd'))\n",
    "\n",
    "    data=data.reset_index(drop=True)\n",
    "    #data=data.fillna(0)\n",
    "    if len(data)>2:\n",
    "        mag_label='w1mpro'\n",
    "        magerr_label='w1sigmpro'\n",
    "        epsilon_s=epsilon_s_w1\n",
    "        \n",
    "        pearson_coeff,p_value=pearsonr(data['w1mpro'],data['w2mpro'])\n",
    "        BAT_105m_Seyfert.loc[index,'pearson_coeff_neo']=pearson_coeff\n",
    "        \n",
    "        sigma_m_w1=get_intrinsic_var(data,mag_label,magerr_label,epsilon_s)\n",
    "        BAT_105m_Seyfert.loc[index,'sigma_m_w1_neo']=sigma_m_w1\n",
    "        BAT_105m_Seyfert.loc[index,'mean_m_w1_neo']=np.average(data[mag_label])\n",
    "        \n",
    "\n",
    "        mag_label='w2mpro'\n",
    "        magerr_label='w2sigmpro'\n",
    "        epsilon_s=epsilon_s_w2\n",
    "        sigma_m_w2=get_intrinsic_var(data,mag_label,magerr_label,epsilon_s)\n",
    "        BAT_105m_Seyfert.loc[index,'sigma_m_w2_neo']=sigma_m_w2\n",
    "        BAT_105m_Seyfert.loc[index,'mean_m_w2_neo']=np.average(data[mag_label])\n",
    "        \n",
    "        BAT_105m_Seyfert.loc[index,'len_neo']=len(data)\n",
    "    else:\n",
    "        BAT_105m_Seyfert.loc[index,'len_neo']=0\n",
    "        #print(index,i)\n",
    "        "
   ]
  },
  {
   "cell_type": "code",
   "execution_count": null,
   "metadata": {
    "ExecuteTime": {
     "end_time": "2021-09-09T09:21:15.747880Z",
     "start_time": "2021-09-09T09:21:15.733509Z"
    }
   },
   "outputs": [],
   "source": [
    "len(BAT_105m_Seyfert)"
   ]
  },
  {
   "cell_type": "code",
   "execution_count": null,
   "metadata": {
    "ExecuteTime": {
     "end_time": "2021-09-09T09:21:16.663260Z",
     "start_time": "2021-09-09T09:21:16.651012Z"
    }
   },
   "outputs": [],
   "source": [
    "len(BAT_105m_Seyfert[BAT_105m_Seyfert['len_neo']>0])"
   ]
  },
  {
   "cell_type": "markdown",
   "metadata": {},
   "source": [
    "## mep"
   ]
  },
  {
   "cell_type": "code",
   "execution_count": null,
   "metadata": {
    "ExecuteTime": {
     "end_time": "2021-09-09T09:21:39.672469Z",
     "start_time": "2021-09-09T09:21:25.575731Z"
    }
   },
   "outputs": [],
   "source": [
    "epsilon_s_w1=0.024\n",
    "epsilon_s_w2=0.028\n",
    "#CLAGN_statistic_2021_liu['sigma_m_w1_neo']=-1\n",
    "#CLAGN_statistic_2021_liu['sigma_m_w2_neo']=-1\n",
    "for index,name in enumerate(BAT_105m_Seyfert['              COUNTERPART_NAME']):\n",
    "    search_name=name.replace(' ','') \n",
    "    save_name=search_name\n",
    "    data=pd.read_csv('wise_%s_mep.csv'%save_name)\n",
    "    \n",
    "    data=data[data['w1mpro_ep'].notnull()]\n",
    "    data=data[data['w2mpro_ep'].notnull()]\n",
    "    data=data[data['w1sigmpro_ep'].notnull()]\n",
    "    data=data[data['w2sigmpro_ep'].notnull()]\n",
    "    #data=data[data['qual_frame']>5]\n",
    "    data=data[data['w1mpro_ep']<15]\n",
    "    data=data[data['w2mpro_ep']<13]\n",
    "    \n",
    "    data=data[data['qi_fact']>0]\n",
    "    data=data[data['saa_sep']>0]\n",
    "    \n",
    "    data=(data.loc[:, ['mjd', 'w1mpro_ep','w2mpro_ep',\n",
    "                           'w1sigmpro_ep','w2sigmpro_ep',                    \n",
    "                           ]].sort_values('mjd'))\n",
    "\n",
    "    data=data.reset_index(drop=True)\n",
    "    #data=data.fillna(0)\n",
    "    if len(data)>2:\n",
    "        mag_label='w1mpro_ep'\n",
    "        magerr_label='w1sigmpro_ep'\n",
    "        epsilon_s=epsilon_s_w1\n",
    "        \n",
    "        pearson_coeff,p_value=pearsonr(data['w1mpro_ep'],data['w2mpro_ep'])\n",
    "        BAT_105m_Seyfert.loc[index,'pearson_coeff_mep']=pearson_coeff\n",
    "        \n",
    "        sigma_m_w1=get_intrinsic_var(data,mag_label,magerr_label,epsilon_s)\n",
    "        BAT_105m_Seyfert.loc[index,'sigma_m_w1_mep']=sigma_m_w1\n",
    "        BAT_105m_Seyfert.loc[index,'mean_m_w1_mep']=np.average(data[mag_label])\n",
    "        \n",
    "\n",
    "        mag_label='w2mpro_ep'\n",
    "        magerr_label='w2sigmpro_ep'\n",
    "        epsilon_s=epsilon_s_w2\n",
    "        sigma_m_w2=get_intrinsic_var(data,mag_label,magerr_label,epsilon_s)\n",
    "        BAT_105m_Seyfert.loc[index,'sigma_m_w2_mep']=sigma_m_w2\n",
    "        BAT_105m_Seyfert.loc[index,'mean_m_w2_mep']=np.average(data[mag_label])\n",
    "        \n",
    "        BAT_105m_Seyfert.loc[index,'len_mep']=len(data)\n",
    "    else:\n",
    "        BAT_105m_Seyfert.loc[index,'len_mep']=0\n",
    "        #print(index,i)\n",
    "        "
   ]
  },
  {
   "cell_type": "markdown",
   "metadata": {},
   "source": [
    "## BAT_105m_Seyfert_data"
   ]
  },
  {
   "cell_type": "code",
   "execution_count": null,
   "metadata": {
    "ExecuteTime": {
     "end_time": "2021-09-09T09:22:56.442725Z",
     "start_time": "2021-09-09T09:22:56.432151Z"
    }
   },
   "outputs": [],
   "source": [
    "print(len(BAT_105m_Seyfert))\n",
    "BAT_105m_Seyfert_data=BAT_105m_Seyfert[BAT_105m_Seyfert['len_neo']>0]\n",
    "print(len(BAT_105m_Seyfert_data))\n",
    "BAT_105m_Seyfert_data=BAT_105m_Seyfert_data[BAT_105m_Seyfert_data['len_mep']>0]\n",
    "print(len(BAT_105m_Seyfert_data))\n",
    "BAT_105m_Seyfert_data=BAT_105m_Seyfert_data.reset_index(drop=True)\n",
    "print(len(BAT_105m_Seyfert_data))"
   ]
  },
  {
   "cell_type": "code",
   "execution_count": null,
   "metadata": {
    "ExecuteTime": {
     "end_time": "2021-09-09T09:23:11.722781Z",
     "start_time": "2021-09-09T09:23:11.677607Z"
    }
   },
   "outputs": [],
   "source": [
    "BAT_105m_Seyfert_data.columns"
   ]
  },
  {
   "cell_type": "code",
   "execution_count": null,
   "metadata": {
    "ExecuteTime": {
     "end_time": "2021-09-09T09:23:21.225859Z",
     "start_time": "2021-09-09T09:23:20.740763Z"
    }
   },
   "outputs": [],
   "source": []
  },
  {
   "cell_type": "code",
   "execution_count": null,
   "metadata": {},
   "outputs": [],
   "source": []
  },
  {
   "cell_type": "markdown",
   "metadata": {},
   "source": [
    "## bright_enough"
   ]
  },
  {
   "cell_type": "code",
   "execution_count": null,
   "metadata": {
    "ExecuteTime": {
     "end_time": "2021-09-09T11:28:03.617709Z",
     "start_time": "2021-09-09T11:28:03.417681Z"
    }
   },
   "outputs": [],
   "source": [
    "BAT_105m_Seyfert_data=BAT_105m_Seyfert_data[BAT_105m_Seyfert_data['mean_m_w1_neo']<15]\n",
    "BAT_105m_Seyfert_data=BAT_105m_Seyfert_data.reset_index(drop=True)\n",
    "BAT_105m_Seyfert_data.to_csv('/Users/brettlv/Downloads/CLAGN_statistic_plot/BAT_105m_Seyfert_data.csv',index=None)"
   ]
  },
  {
   "cell_type": "code",
   "execution_count": null,
   "metadata": {
    "ExecuteTime": {
     "end_time": "2021-09-09T11:28:06.197461Z",
     "start_time": "2021-09-09T11:28:06.191121Z"
    }
   },
   "outputs": [],
   "source": [
    "len(BAT_105m_Seyfert_data)"
   ]
  },
  {
   "cell_type": "markdown",
   "metadata": {},
   "source": [
    "## pearson_coeff_neo >0.8"
   ]
  },
  {
   "cell_type": "code",
   "execution_count": null,
   "metadata": {
    "ExecuteTime": {
     "end_time": "2021-09-09T11:28:55.197918Z",
     "start_time": "2021-09-09T11:28:55.185031Z"
    }
   },
   "outputs": [],
   "source": [
    "BAT_105m_Seyfert_data_coeff8=BAT_105m_Seyfert_data[BAT_105m_Seyfert_data['pearson_coeff_neo']>0.8]\n",
    "print(len(BAT_105m_Seyfert_data_coeff8))\n",
    "BAT_105m_Seyfert_data_coeff6=BAT_105m_Seyfert_data[BAT_105m_Seyfert_data['pearson_coeff_neo']>0.6]\n",
    "print(len(BAT_105m_Seyfert_data_coeff6))"
   ]
  },
  {
   "cell_type": "code",
   "execution_count": null,
   "metadata": {
    "ExecuteTime": {
     "end_time": "2021-09-09T11:28:59.010180Z",
     "start_time": "2021-09-09T11:28:58.972349Z"
    }
   },
   "outputs": [],
   "source": [
    "BAT_105m_Seyfert_data_coeff6=BAT_105m_Seyfert_data_coeff6.reset_index(drop=True)\n",
    "BAT_105m_Seyfert_data_coeff6.to_csv('/Users/brettlv/Downloads/CLAGN_statistic_plot/BAT_105m_Seyfert_data_coeff6.csv',index=None)"
   ]
  },
  {
   "cell_type": "code",
   "execution_count": null,
   "metadata": {
    "ExecuteTime": {
     "end_time": "2021-09-09T11:29:00.035725Z",
     "start_time": "2021-09-09T11:29:00.008059Z"
    }
   },
   "outputs": [],
   "source": [
    "BAT_105m_Seyfert_data_coeff8=BAT_105m_Seyfert_data_coeff8.reset_index(drop=True)\n",
    "BAT_105m_Seyfert_data_coeff8.to_csv('/Users/brettlv/Downloads/CLAGN_statistic_plot/BAT_105m_Seyfert_data_coeff8.csv',index=None)"
   ]
  },
  {
   "cell_type": "markdown",
   "metadata": {},
   "source": [
    "# redshift"
   ]
  },
  {
   "cell_type": "code",
   "execution_count": null,
   "metadata": {
    "ExecuteTime": {
     "end_time": "2021-09-09T11:31:34.896705Z",
     "start_time": "2021-09-09T11:31:34.877960Z"
    }
   },
   "outputs": [],
   "source": [
    "BAT_105m_Seyfert_redshift=BAT_105m_Seyfert_data_coeff8['REDSHIF']\n",
    "BAT_105m_Seyfert_redshift.replace(to_replace=r'^\\s*$',value=np.nan,regex=True,inplace=True)\n",
    "BAT_105m_Seyfert_data_z_notnull=BAT_105m_Seyfert_data_coeff8[BAT_105m_Seyfert_data_coeff8['REDSHIF'].notnull()]\n",
    "#BAT_105m_Seyfert_data_redshift_notnull.to_csv('/Users/brettlv/Downloads/CLAGN_statistic_plot/BAT_105m_Seyfert_data_redshift_notnull.csv',index=None)\n",
    "len(BAT_105m_Seyfert_data_z_notnull)\n",
    "#max(BAT_105m_Seyfert_data_redshift_plot['REDSHIF']),min(BAT_105m_Seyfert_data_redshift_plot['REDSHIF'])"
   ]
  },
  {
   "cell_type": "code",
   "execution_count": null,
   "metadata": {
    "ExecuteTime": {
     "end_time": "2021-09-09T11:31:51.429499Z",
     "start_time": "2021-09-09T11:31:51.423952Z"
    }
   },
   "outputs": [],
   "source": [
    "BAT_105m_Seyfert_data_z_notnull_numeric=pd.to_numeric(BAT_105m_Seyfert_data_z_notnull['REDSHIF'])"
   ]
  },
  {
   "cell_type": "code",
   "execution_count": null,
   "metadata": {
    "ExecuteTime": {
     "end_time": "2021-09-09T11:32:02.655101Z",
     "start_time": "2021-09-09T11:32:02.647023Z"
    }
   },
   "outputs": [],
   "source": [
    "min(BAT_105m_Seyfert_data_z_notnull_numeric),max(BAT_105m_Seyfert_data_z_notnull_numeric)"
   ]
  },
  {
   "cell_type": "code",
   "execution_count": null,
   "metadata": {
    "ExecuteTime": {
     "end_time": "2021-09-09T11:32:10.278221Z",
     "start_time": "2021-09-09T11:32:09.784294Z"
    }
   },
   "outputs": [],
   "source": [
    "plt.hist(BAT_105m_Seyfert_data_z_notnull_numeric,bins=50)\n",
    "plt.xlim(0,0.5)"
   ]
  },
  {
   "cell_type": "code",
   "execution_count": null,
   "metadata": {
    "ExecuteTime": {
     "end_time": "2021-09-09T11:32:18.239156Z",
     "start_time": "2021-09-09T11:32:18.232996Z"
    }
   },
   "outputs": [],
   "source": [
    "BAT_105m_Seyfert_data_coeff8.columns"
   ]
  },
  {
   "cell_type": "code",
   "execution_count": null,
   "metadata": {
    "ExecuteTime": {
     "end_time": "2021-09-09T11:32:30.952783Z",
     "start_time": "2021-09-09T11:32:27.090513Z"
    }
   },
   "outputs": [],
   "source": [
    "fig = plt.figure(figsize=(4,4))\n",
    "fig.subplots_adjust(hspace=0.0, wspace = 0.0)\n",
    "ax = fig.add_subplot(111)\n",
    "\n",
    "plotdata=BAT_105m_Seyfert_data_coeff8\n",
    "for i in range(len(plotdata['  LUM'])):\n",
    "    label=plotdata.iloc[i]['S_type']    \n",
    "    if label>1.9:        \n",
    "        color='blue'\n",
    "        marker='+'\n",
    "    elif label>1.8:\n",
    "        color='blue'\n",
    "        marker='x'\n",
    "        \n",
    "    elif label>1.5:\n",
    "        color='red'\n",
    "        marker='o'\n",
    "        \n",
    "    elif label>1.2:\n",
    "        color='red'\n",
    "        marker='^' \n",
    "        \n",
    "    elif label>1.0:\n",
    "        color='red'\n",
    "        marker='s'   \n",
    "        \n",
    "    else:    \n",
    "        color='red'\n",
    "        marker='*'\n",
    "        \n",
    "    if plotdata.iloc[i]['  LUM']!='     'and plotdata.iloc[i]['REDSHIF']!='     ':\n",
    "        ax.scatter(float(plotdata.iloc[i]['REDSHIF']),\n",
    "                   float(plotdata.iloc[i]['  LUM']),\n",
    "                   \n",
    "        #ec='red',fc=\"red\",\n",
    "        marker=marker,   \n",
    "        color=color,\n",
    "        label=label)\n",
    "        \n",
    "set_ax_tick(ax)\n",
    "set_ax_locator(ax,xma=0.2,xmi=0.1,yma=1,ymi=0.5)\n",
    "#ax.xaxis.set_major_locator(mpl.ticker.MultipleLocator(5))\n",
    "#ax.xaxis.set_minor_locator(mpl.ticker.MultipleLocator(xmi))\n",
    "#ax.yaxis.set_major_locator(mpl.ticker.MultipleLocator(1))\n",
    "#ax.yaxis.set_minor_locator(mpl.ticker.MultipleLocator(ymi)) \n",
    "    \n",
    "#ax.set_xlabel('Type')\n",
    "#ax2.set_xlabel('Type')\n",
    "\n",
    "#ax.set_xlim(41.5,46.5)\n",
    "#ax.set_xlim(min(BAT_105m_Seyfert_data_redshift_notnull_numeric),max(BAT_105m_Seyfert_data_redshift_notnull_numeric))\n",
    "handles, labels = ax.get_legend_handles_labels()\n",
    "hdl=handles\n",
    "labels_dict=dict(zip(labels, hdl)) #key,values\n",
    "by_label=OrderedDict(sorted(labels_dict.items(),key=lambda t:t[0]))\n",
    "ax.legend(by_label.values(), by_label.keys(),bbox_to_anchor=(0.7, 0.5),ncol=1,\n",
    "          loc=2,fontsize=10)\n",
    "ax.set_xlabel(r'redshift')\n",
    "ax.set_ylabel('log Luminosity (14-195 keV)')\n",
    "\n",
    "plt.savefig('/Users/brettlv/Downloads/CLAGN_statistic_plot/WISE_variability_BAT_105m_Seyfert_redshift_Lum.png',dpi=400, transparent=False, bbox_inches='tight')\n"
   ]
  },
  {
   "cell_type": "code",
   "execution_count": null,
   "metadata": {},
   "outputs": [],
   "source": []
  },
  {
   "cell_type": "code",
   "execution_count": null,
   "metadata": {
    "ExecuteTime": {
     "end_time": "2021-09-08T07:33:44.986497Z",
     "start_time": "2021-09-08T07:33:44.983208Z"
    }
   },
   "outputs": [],
   "source": []
  },
  {
   "cell_type": "code",
   "execution_count": null,
   "metadata": {
    "ExecuteTime": {
     "end_time": "2021-09-09T11:32:59.608462Z",
     "start_time": "2021-09-09T11:32:59.604734Z"
    }
   },
   "outputs": [],
   "source": []
  },
  {
   "cell_type": "markdown",
   "metadata": {},
   "source": [
    "# high variable"
   ]
  },
  {
   "cell_type": "code",
   "execution_count": null,
   "metadata": {
    "ExecuteTime": {
     "end_time": "2021-09-09T12:10:27.146078Z",
     "start_time": "2021-09-09T12:10:27.099545Z"
    }
   },
   "outputs": [],
   "source": [
    "BAT_105m_Seyfert_data[BAT_105m_Seyfert_data['sigma_m_w1_neo']>1.0]"
   ]
  },
  {
   "cell_type": "code",
   "execution_count": null,
   "metadata": {
    "ExecuteTime": {
     "end_time": "2021-09-09T12:12:10.146949Z",
     "start_time": "2021-09-09T12:12:10.123824Z"
    }
   },
   "outputs": [],
   "source": [
    "BAT_105m_Seyfert_data_coeff8[BAT_105m_Seyfert_data_coeff8['sigma_m_w1_neo']>1.0]"
   ]
  },
  {
   "cell_type": "code",
   "execution_count": null,
   "metadata": {
    "ExecuteTime": {
     "end_time": "2021-09-09T12:13:19.445983Z",
     "start_time": "2021-09-09T12:13:19.418245Z"
    }
   },
   "outputs": [],
   "source": [
    "BAT_105m_Seyfert_data_coeff8[BAT_105m_Seyfert_data_coeff8['sigma_m_w1_neo']>0.5]"
   ]
  },
  {
   "cell_type": "code",
   "execution_count": null,
   "metadata": {},
   "outputs": [],
   "source": []
  },
  {
   "cell_type": "code",
   "execution_count": null,
   "metadata": {
    "ExecuteTime": {
     "end_time": "2021-09-09T11:33:15.541655Z",
     "start_time": "2021-09-09T11:33:15.531187Z"
    }
   },
   "outputs": [],
   "source": [
    "highvariable_5=BAT_105m_Seyfert_data_coeff8[BAT_105m_Seyfert_data_coeff8['sigma_m_w1_neo']>0.5]\n",
    "highvariable_3=BAT_105m_Seyfert_data_coeff8[BAT_105m_Seyfert_data_coeff8['sigma_m_w1_neo']>0.3]\n",
    "highvariable_1=BAT_105m_Seyfert_data_coeff8[BAT_105m_Seyfert_data_coeff8['sigma_m_w1_neo']>0.1]"
   ]
  },
  {
   "cell_type": "markdown",
   "metadata": {
    "ExecuteTime": {
     "end_time": "2021-09-08T07:30:49.292891Z",
     "start_time": "2021-09-08T07:30:49.281905Z"
    }
   },
   "source": [
    "highvariable_1.to_csv('/Users/brettlv/Downloads/CLAGN_statistic_plot/BAT_highvariable_1.csv',index=None)"
   ]
  },
  {
   "cell_type": "code",
   "execution_count": null,
   "metadata": {
    "ExecuteTime": {
     "end_time": "2021-09-09T11:33:18.078339Z",
     "start_time": "2021-09-09T11:33:18.070732Z"
    }
   },
   "outputs": [],
   "source": [
    "highvariable_5=drop_index(highvariable_5)\n",
    "highvariable_3=drop_index(highvariable_3)\n",
    "highvariable_1=drop_index(highvariable_1)"
   ]
  },
  {
   "cell_type": "code",
   "execution_count": null,
   "metadata": {
    "ExecuteTime": {
     "end_time": "2021-09-09T12:16:13.572349Z",
     "start_time": "2021-09-09T12:16:13.565722Z"
    }
   },
   "outputs": [],
   "source": [
    "print(len(highvariable_5)),print(len(highvariable_1)),"
   ]
  },
  {
   "cell_type": "code",
   "execution_count": null,
   "metadata": {
    "ExecuteTime": {
     "end_time": "2021-09-09T11:33:18.991813Z",
     "start_time": "2021-09-09T11:33:18.969009Z"
    }
   },
   "outputs": [],
   "source": [
    "highvariable_5[['              COUNTERPART_NAME','     RA', '    DEC','S_type','sigma_m_w1_neo','pearson_coeff_neo']]"
   ]
  },
  {
   "cell_type": "markdown",
   "metadata": {},
   "source": [
    "## light curve"
   ]
  },
  {
   "cell_type": "code",
   "execution_count": null,
   "metadata": {
    "ExecuteTime": {
     "end_time": "2021-09-09T11:36:48.291434Z",
     "start_time": "2021-09-09T11:36:44.836816Z"
    },
    "scrolled": false
   },
   "outputs": [],
   "source": [
    "plotdata=highvariable_5\n",
    "\n",
    "for index_test in range(len(plotdata['              COUNTERPART_NAME'])):\n",
    "    name_test=plotdata['              COUNTERPART_NAME'][index_test]\n",
    "    #print(name_test)\n",
    "    search_name=name_test.replace(' ','') \n",
    "    save_name=search_name\n",
    "\n",
    "    data_test_neo=pd.read_csv('wise_%s_neo.csv'%save_name)\n",
    "    data_test_neo=data_test_neo[data_test_neo['w1mpro'].notnull()]\n",
    "    data_test_neo=data_test_neo[data_test_neo['w2mpro'].notnull()]\n",
    "    data_test_neo=data_test_neo[data_test_neo['w1sigmpro'].notnull()]\n",
    "    data_test_neo=data_test_neo[data_test_neo['w2sigmpro'].notnull()]\n",
    "    data_test_neo=data_test_neo[data_test_neo['w1mpro']<15]\n",
    "    data_test_neo=data_test_neo[data_test_neo['w2mpro']<13] \n",
    "    #data_test_neo=data_test_neo[data_test_neo['w1snr']>10]\n",
    "    #data_test_neo=data_test_neo[data_test_neo['w2snr']>10]\n",
    "    \n",
    "    #data_test_neo=data_test_neo[data_test_neo['w1rchi2']<2]\n",
    "    #data_test_neo=data_test_neo[data_test_neo['w2rchi2']<2]\n",
    "    \n",
    "    data_test_neo=data_test_neo[data_test_neo['qual_frame']>0]\n",
    "    \n",
    "    #print(len(data_test_neo))\n",
    "    data_test_neo=(data_test_neo.loc[:, ['mjd', 'w1mpro','w2mpro',\n",
    "                                 'w1sigmpro','w2sigmpro',\n",
    "                                 ]].sort_values('mjd'))\n",
    "\n",
    "    data_test_neo=data_test_neo.reset_index(drop=True)\n",
    "    #print(data_test_neo.columns)\n",
    "\n",
    "    data_test_mep=pd.read_csv('wise_%s_mep.csv'%save_name)\n",
    "    data_test_mep=data_test_mep[data_test_mep['w1mpro_ep'].notnull()]\n",
    "    data_test_mep=data_test_mep[data_test_mep['w2mpro_ep'].notnull()]\n",
    "    data_test_mep=data_test_mep[data_test_mep['w1sigmpro_ep'].notnull()]\n",
    "    data_test_mep=data_test_mep[data_test_mep['w2sigmpro_ep'].notnull()]\n",
    "    #data_test_mep=data_test_mep[data_test_mep['qual_frame']>5]\n",
    "    data_test_mep=data_test_mep[data_test_mep['qi_fact']>0]\n",
    "    data_test_mep=data_test_mep[data_test_mep['saa_sep']>0]\n",
    "\n",
    "    #print(len(data_test_mep))\n",
    "    data_test_mep=(data_test_mep.loc[:, ['mjd', 'w1mpro_ep','w2mpro_ep',\n",
    "                                         'w1sigmpro_ep','w2sigmpro_ep',\n",
    "                                         ]].sort_values('mjd'))\n",
    "\n",
    "    data_test_mep=data_test_mep.reset_index(drop=True)\n",
    "    #print(data_test_mep.columns)\n",
    "    \n",
    "    fig = plt.figure(figsize=(12,4))\n",
    "    fig.subplots_adjust(hspace=0.0, wspace = 0.0)\n",
    "    ax = fig.add_subplot(111)\n",
    "\n",
    "    ax.scatter(data_test_neo['mjd'],data_test_neo['w1mpro'],color='red',label='W1')\n",
    "    ax.scatter(data_test_mep['mjd'],data_test_mep['w1mpro_ep'],color='red',label='W1')\n",
    "\n",
    "    \n",
    "    #ax.scatter(data_test_neo['mjd'],data_test_neo['w2mpro'],color='blue',label='W2')\n",
    "    #ax.scatter(data_test_mep['mjd'],data_test_mep['w2mpro_ep'],color='blue',label='W2')\n",
    "    handles, labels = ax.get_legend_handles_labels()\n",
    "    by_label = OrderedDict(zip(labels, handles))\n",
    "    ax.legend(by_label.values(), by_label.keys(),bbox_to_anchor=(1.0, 0.9),ncol=1,\n",
    "          loc=2,fontsize=10)\n",
    "    \n",
    "    bottom, top = plt.ylim() \n",
    "    plt.ylim(top,bottom)\n",
    "    \n",
    "    plt.xlabel('mjd')\n",
    "    plt.ylabel(r'$mag$')\n",
    "    \n",
    "    ax.text(0.05, 0.9,name_test , horizontalalignment = 'center', verticalalignment = 'center',transform = ax.transAxes, fontsize = 10)\n",
    "    plt.savefig('/Users/brettlv/Downloads/CLAGN_statistic_plot/BATlc/WISE_lc_w1_%s.png'%save_name, \n",
    "            dpi=400, transparent=False, bbox_inches='tight')\n",
    "    #plt.semilogy()    "
   ]
  },
  {
   "cell_type": "code",
   "execution_count": null,
   "metadata": {},
   "outputs": [],
   "source": []
  },
  {
   "cell_type": "code",
   "execution_count": null,
   "metadata": {},
   "outputs": [],
   "source": []
  },
  {
   "cell_type": "code",
   "execution_count": null,
   "metadata": {
    "ExecuteTime": {
     "end_time": "2021-09-08T07:33:20.122336Z",
     "start_time": "2021-09-08T07:33:19.872808Z"
    }
   },
   "outputs": [],
   "source": [
    "index_test=0\n",
    "name_test=BAT_105m_Seyfert_data_coeff8['              COUNTERPART_NAME'][index_test]\n",
    "print(name_test)\n",
    "search_name=name_test.replace(' ','') \n",
    "save_name=search_name\n",
    "\n",
    "data_test_neo=pd.read_csv('wise_%s_neo.csv'%save_name)\n",
    "data_test_neo=data_test_neo[data_test_neo['w1mpro'].notnull()]\n",
    "data_test_neo=data_test_neo[data_test_neo['w2mpro'].notnull()]\n",
    "data_test_neo=data_test_neo[data_test_neo['w1sigmpro'].notnull()]\n",
    "data_test_neo=data_test_neo[data_test_neo['w2sigmpro'].notnull()]\n",
    "data_test_neo=data_test_neo[data_test_neo['qual_frame']>5]\n",
    "print(len(data_test_neo))\n",
    "data_test_neo=(data_test_neo.loc[:, ['mjd', 'w1mpro','w2mpro',\n",
    "                             'w1sigmpro','w2sigmpro',\n",
    "                             ]].sort_values('mjd'))\n",
    "\n",
    "data_test_neo=data_test_neo.reset_index(drop=True)\n",
    "print(data_test_neo.columns)\n",
    "\n",
    "data_test_mep=pd.read_csv('wise_%s_mep.csv'%save_name)\n",
    "data_test_mep=data_test_mep[data_test_mep['w1mpro_ep'].notnull()]\n",
    "data_test_mep=data_test_mep[data_test_mep['w2mpro_ep'].notnull()]\n",
    "data_test_mep=data_test_mep[data_test_mep['w1sigmpro_ep'].notnull()]\n",
    "data_test_mep=data_test_mep[data_test_mep['w2sigmpro_ep'].notnull()]\n",
    "#data_test_mep=data_test_mep[data_test_mep['qual_frame']>5]\n",
    "data_test_mep=data_test_mep[data_test_mep['qi_fact']>0]\n",
    "data_test_mep=data_test_mep[data_test_mep['saa_sep']>0]\n",
    "    \n",
    "print(len(data_test_mep))\n",
    "data_test_mep=(data_test_mep.loc[:, ['mjd', 'w1mpro_ep','w2mpro_ep',\n",
    "                                     'w1sigmpro_ep','w2sigmpro_ep',\n",
    "                                     ]].sort_values('mjd'))\n",
    "\n",
    "data_test_mep=data_test_mep.reset_index(drop=True)\n",
    "print(data_test_mep.columns)\n",
    "\n",
    "fig = plt.figure(figsize=(4,4))\n",
    "fig.subplots_adjust(hspace=0.0, wspace = 0.0)\n",
    "ax = fig.add_subplot(111)\n",
    "\n",
    "plt.scatter(data_test_neo['mjd'],data_test_neo['w1mpro'],color='red',label='W1')\n",
    "plt.scatter(data_test_mep['mjd'],data_test_mep['w1mpro_ep'],color='red',label='W1')\n",
    "\n",
    "\n",
    "#plt.scatter(data_test_neo['mjd'],data_test_neo['w2mpro'],color='blue',label='W2')\n",
    "#plt.scatter(data_test_mep['mjd'],data_test_mep['w2mpro_ep'],color='blue',label='W2')\n",
    "\n",
    "\n",
    "plt.xlabel('mjd')\n",
    "plt.ylabel(r'$mag$')\n",
    "bottom, top = plt.ylim() \n",
    "plt.ylim(top,bottom)\n",
    "#plt.ylim(18,0)\n",
    "ax.text(0.05, 0.9,name_test , horizontalalignment = 'center', verticalalignment = 'center',transform = ax.transAxes, fontsize = 10)\n",
    "#plt.semilogy()"
   ]
  },
  {
   "cell_type": "code",
   "execution_count": null,
   "metadata": {},
   "outputs": [],
   "source": []
  },
  {
   "cell_type": "code",
   "execution_count": null,
   "metadata": {},
   "outputs": [],
   "source": []
  },
  {
   "cell_type": "markdown",
   "metadata": {},
   "source": [
    "## sigma w1 sigma w2"
   ]
  },
  {
   "cell_type": "code",
   "execution_count": null,
   "metadata": {
    "ExecuteTime": {
     "end_time": "2021-09-09T11:37:56.341716Z",
     "start_time": "2021-09-09T11:37:51.753984Z"
    }
   },
   "outputs": [],
   "source": [
    "fig = plt.figure(figsize=(4,4))\n",
    "fig.subplots_adjust(hspace=0.0, wspace = 0.0)\n",
    "ax = fig.add_subplot(111)\n",
    "\n",
    "plotdata=BAT_105m_Seyfert_data_coeff8\n",
    "\n",
    "for i in range(len(plotdata[:])):\n",
    "    label=plotdata.iloc[i]['S_type']    \n",
    "    if label>1.9:        \n",
    "        color='blue'\n",
    "        marker='+'\n",
    "    elif label>1.8:\n",
    "        color='blue'\n",
    "        marker='x'\n",
    "        \n",
    "    elif label>1.5:\n",
    "        color='red'\n",
    "        marker='o'\n",
    "        \n",
    "    elif label>1.2:\n",
    "        color='red'\n",
    "        marker='^' \n",
    "        \n",
    "    elif label>1.0:\n",
    "        color='red'\n",
    "        marker='s'   \n",
    "        \n",
    "    else:    \n",
    "        color='red'\n",
    "        marker='*'\n",
    "        \n",
    "    ax.scatter(plotdata.iloc[i]['sigma_m_w1_neo'],\n",
    "               plotdata.iloc[i]['sigma_m_w2_neo'],  \n",
    "               color=color,\n",
    "               marker=marker,\n",
    "               label=label,s=5)    \n",
    "\n",
    "#plt.xlabel('mean mag')\n",
    "plt.xlabel(r'$\\sigma_m w1$')\n",
    "plt.ylabel(r'$\\sigma_m w2$')\n",
    "handles, labels = ax.get_legend_handles_labels()\n",
    "# remove the errorbars\n",
    "hdl=handles\n",
    "#hdl = [h[0] for h in handles]\n",
    "# use them in the legend\n",
    "#by_label = OrderedDict(zip(labels, hdl)) \n",
    "\n",
    "labels_dict=dict(zip(labels, hdl)) #key,values\n",
    "by_label=OrderedDict(sorted(labels_dict.items(),key=lambda t:t[0]))\n",
    "\n",
    "#按key排序\n",
    "#kd = collections.OrderedDict(sorted(dd.items(), key=lambda t: t[0]))\n",
    "#按照value排序\n",
    "#vd = collections.OrderedDict(sorted(dd.items(),key=lambda t:t[1]))\n",
    "\n",
    "set_ax_tick(ax)\n",
    "ax.legend(by_label.values(), by_label.keys(), bbox_to_anchor=(0.0, 0.99),\n",
    "          loc=2, numpoints=1,ncol=1,fontsize=11.)\n",
    "fig.savefig('/Users/brettlv/Downloads/CLAGN_statistic_plot/WISE_variability_BAT_105m_Seyfert_sigma_w1_w2.png', \n",
    "            dpi=400, transparent=False, bbox_inches='tight')\n",
    "\n",
    "#plt.xlim(18,0)\n",
    "#ax.text(0.1, 0.9, 'w1_neo', horizontalalignment = 'center', verticalalignment = 'center',transform = ax.transAxes, fontsize = 10)\n",
    "#plt.semilogy()"
   ]
  },
  {
   "cell_type": "code",
   "execution_count": null,
   "metadata": {
    "ExecuteTime": {
     "end_time": "2021-09-04T06:00:09.779470Z",
     "start_time": "2021-09-04T06:00:09.774751Z"
    }
   },
   "outputs": [],
   "source": [
    "by_label.values()"
   ]
  },
  {
   "cell_type": "code",
   "execution_count": null,
   "metadata": {
    "ExecuteTime": {
     "end_time": "2021-09-04T06:00:14.403442Z",
     "start_time": "2021-09-04T06:00:14.398921Z"
    }
   },
   "outputs": [],
   "source": [
    "by_label.keys()"
   ]
  },
  {
   "cell_type": "markdown",
   "metadata": {},
   "source": [
    "## w1-w2"
   ]
  },
  {
   "cell_type": "code",
   "execution_count": null,
   "metadata": {
    "ExecuteTime": {
     "end_time": "2021-09-09T11:38:21.047864Z",
     "start_time": "2021-09-09T11:38:17.932007Z"
    }
   },
   "outputs": [],
   "source": [
    "fig = plt.figure(figsize=(4,4))\n",
    "fig.subplots_adjust(hspace=0.0, wspace = 0.0)\n",
    "ax = fig.add_subplot(111)\n",
    "\n",
    "plotdata=BAT_105m_Seyfert_data_coeff8\n",
    "\n",
    "for i in range(len(plotdata[:])):\n",
    "    label=plotdata.iloc[i]['S_type']    \n",
    "    if label>1.9:        \n",
    "        color='blue'\n",
    "        marker='+'\n",
    "    elif label>1.8:\n",
    "        color='blue'\n",
    "        marker='x'\n",
    "        \n",
    "    elif label>1.5:\n",
    "        color='red'\n",
    "        marker='o'\n",
    "        \n",
    "    elif label>1.2:\n",
    "        color='red'\n",
    "        marker='^' \n",
    "        \n",
    "    elif label>1.0:\n",
    "        color='red'\n",
    "        marker='s'   \n",
    "        \n",
    "    else:    \n",
    "        color='red'\n",
    "        marker='*'\n",
    "        \n",
    "    ax.scatter(plotdata.iloc[i]['mean_m_w1_neo'],\n",
    "               plotdata.iloc[i]['mean_m_w2_neo'],  \n",
    "               color=color,\n",
    "               marker=marker,\n",
    "               label=label,s=5)    \n",
    "\n",
    "#plt.xlabel('mean mag')\n",
    "plt.xlabel(r'$w1$')\n",
    "plt.ylabel(r'$w2$')\n",
    "handles, labels = ax.get_legend_handles_labels()\n",
    "# remove the errorbars\n",
    "hdl=handles\n",
    "#hdl = [h[0] for h in handles]\n",
    "# use them in the legend\n",
    "#by_label = OrderedDict(zip(labels, hdl)) \n",
    "\n",
    "labels_dict=dict(zip(labels, hdl)) #key,values\n",
    "by_label=OrderedDict(sorted(labels_dict.items(),key=lambda t:t[0]))\n",
    "\n",
    "#按key排序\n",
    "#kd = collections.OrderedDict(sorted(dd.items(), key=lambda t: t[0]))\n",
    "#按照value排序\n",
    "#vd = collections.OrderedDict(sorted(dd.items(),key=lambda t:t[1]))\n",
    "\n",
    "set_ax_tick(ax)\n",
    "ax.legend(by_label.values(), by_label.keys(), bbox_to_anchor=(0.0, 0.95),\n",
    "          loc=2, numpoints=1,ncol=1,fontsize=11.)\n",
    "fig.savefig('/Users/brettlv/Downloads/CLAGN_statistic_plot/WISE_variability_BAT_105m_Seyfert_mag_w1_w2.png', \n",
    "            dpi=400, transparent=False, bbox_inches='tight')\n",
    "\n",
    "#plt.xlim(18,0)\n",
    "#ax.text(0.1, 0.9, 'w1_neo', horizontalalignment = 'center', verticalalignment = 'center',transform = ax.transAxes, fontsize = 10)\n",
    "#plt.semilogy()"
   ]
  },
  {
   "cell_type": "markdown",
   "metadata": {},
   "source": [
    "### color "
   ]
  },
  {
   "cell_type": "code",
   "execution_count": null,
   "metadata": {
    "ExecuteTime": {
     "end_time": "2021-09-09T11:38:35.473753Z",
     "start_time": "2021-09-09T11:38:32.117300Z"
    }
   },
   "outputs": [],
   "source": [
    "fig = plt.figure(figsize=(4,4))\n",
    "fig.subplots_adjust(hspace=0.0, wspace = 0.0)\n",
    "ax = fig.add_subplot(111)\n",
    "\n",
    "plotdata=BAT_105m_Seyfert_data_coeff8\n",
    "\n",
    "for i in range(len(plotdata[:])):\n",
    "    label=plotdata.iloc[i]['S_type']    \n",
    "    if label>1.9:        \n",
    "        color='blue'\n",
    "        marker='+'\n",
    "    elif label>1.8:\n",
    "        color='blue'\n",
    "        marker='x'\n",
    "        \n",
    "    elif label>1.5:\n",
    "        color='red'\n",
    "        marker='o'\n",
    "        \n",
    "    elif label>1.2:\n",
    "        color='red'\n",
    "        marker='^' \n",
    "        \n",
    "    elif label>1.0:\n",
    "        color='red'\n",
    "        marker='s'   \n",
    "        \n",
    "    else:    \n",
    "        color='red'\n",
    "        marker='*'\n",
    "        \n",
    "    ax.scatter(plotdata.iloc[i]['mean_m_w1_neo'],\n",
    "               plotdata.iloc[i]['mean_m_w1_neo']-BAT_105m_Seyfert_data.iloc[i]['mean_m_w2_neo'],\n",
    "               color=color,\n",
    "               marker=marker,\n",
    "               label=label,s=5)    \n",
    "\n",
    "#plt.xlabel('mean mag')\n",
    "plt.xlabel(r'$w1$')\n",
    "plt.ylabel(r'$w1-w2$')\n",
    "handles, labels = ax.get_legend_handles_labels()\n",
    "# remove the errorbars\n",
    "hdl=handles\n",
    "#hdl = [h[0] for h in handles]\n",
    "# use them in the legend\n",
    "#by_label = OrderedDict(zip(labels, hdl)) \n",
    "\n",
    "labels_dict=dict(zip(labels, hdl)) #key,values\n",
    "by_label=OrderedDict(sorted(labels_dict.items(),key=lambda t:t[0]))\n",
    "\n",
    "#按key排序\n",
    "#kd = collections.OrderedDict(sorted(dd.items(), key=lambda t: t[0]))\n",
    "#按照value排序\n",
    "#vd = collections.OrderedDict(sorted(dd.items(),key=lambda t:t[1]))\n",
    "\n",
    "set_ax_tick(ax)\n",
    "ax.legend(by_label.values(), by_label.keys(), bbox_to_anchor=(0.0, 0.95),\n",
    "          loc=2, numpoints=1,ncol=1,fontsize=11.)\n",
    "fig.savefig('/Users/brettlv/Downloads/CLAGN_statistic_plot/WISE_variability_BAT_105m_Seyfert_mag_w1_w1-w2.png', \n",
    "            dpi=400, transparent=False, bbox_inches='tight')\n",
    "\n",
    "#plt.xlim(18,0)\n",
    "#ax.text(0.1, 0.9, 'w1_neo', horizontalalignment = 'center', verticalalignment = 'center',transform = ax.transAxes, fontsize = 10)\n",
    "#plt.semilogy()"
   ]
  },
  {
   "cell_type": "code",
   "execution_count": null,
   "metadata": {
    "ExecuteTime": {
     "end_time": "2021-09-09T12:24:15.261923Z",
     "start_time": "2021-09-09T12:24:15.258733Z"
    }
   },
   "outputs": [],
   "source": [
    "Stypes=[1,1.2,1.5,1.8,1.9,2.0]\n",
    "Stypes=np.array(Stypes)"
   ]
  },
  {
   "cell_type": "code",
   "execution_count": null,
   "metadata": {
    "ExecuteTime": {
     "end_time": "2021-09-09T12:24:27.437858Z",
     "start_time": "2021-09-09T12:24:27.426696Z"
    }
   },
   "outputs": [],
   "source": [
    "sigma_m_s=[]\n",
    "for i in Stypes:\n",
    "    data_type_i=BAT_105m_Seyfert_data_coeff8[BAT_105m_Seyfert_data_coeff8['S_type']==i]\n",
    "    sigma_m_s.append(np.average(data_type_i['sigma_m_w1_neo']))\n",
    "sigma_m_s=np.array(sigma_m_s)  "
   ]
  },
  {
   "cell_type": "code",
   "execution_count": null,
   "metadata": {
    "ExecuteTime": {
     "end_time": "2021-09-09T12:24:32.468229Z",
     "start_time": "2021-09-09T12:24:32.458639Z"
    }
   },
   "outputs": [],
   "source": [
    "sigma_m_s"
   ]
  },
  {
   "cell_type": "code",
   "execution_count": null,
   "metadata": {
    "ExecuteTime": {
     "end_time": "2021-09-09T12:24:43.218821Z",
     "start_time": "2021-09-09T12:24:43.207796Z"
    }
   },
   "outputs": [],
   "source": [
    "sigma_m_s_1=[]\n",
    "for i in Stypes:\n",
    "    data_type_i=highvariable_1[highvariable_1['S_type']==i]\n",
    "    sigma_m_s_1.append(np.average(data_type_i['sigma_m_w1_neo']))\n",
    "sigma_m_s_1=np.array(sigma_m_s_1)    "
   ]
  },
  {
   "cell_type": "code",
   "execution_count": null,
   "metadata": {
    "ExecuteTime": {
     "end_time": "2021-09-09T12:24:47.177881Z",
     "start_time": "2021-09-09T12:24:47.173083Z"
    }
   },
   "outputs": [],
   "source": [
    "sigma_m_s_1"
   ]
  },
  {
   "cell_type": "markdown",
   "metadata": {},
   "source": [
    "## S_type_var"
   ]
  },
  {
   "cell_type": "code",
   "execution_count": null,
   "metadata": {
    "ExecuteTime": {
     "end_time": "2021-09-09T12:33:44.530563Z",
     "start_time": "2021-09-09T12:33:36.839031Z"
    }
   },
   "outputs": [],
   "source": [
    "fig = plt.figure(figsize=(8,8))\n",
    "fig.subplots_adjust(hspace=0.0, wspace = 0.0)\n",
    "ax = fig.add_subplot(111)\n",
    "\n",
    "plotdata=BAT_105m_Seyfert_data_coeff8\n",
    "\n",
    "for i in range(len(plotdata)):\n",
    "    type1or2=plotdata['S_type'][i]\n",
    "    #print(type1or2)\n",
    "    if type1or2>=1.9:\n",
    "        color='blue'\n",
    "        label='W1'\n",
    "        marker='*'\n",
    "    else:\n",
    "        color='red'\n",
    "        label='W1'\n",
    "        marker='o'\n",
    "    #ax.text(type1or2,BAT_105m_Seyfert_data.iloc[i]['sigma_m_w1_neo'],BAT_105m_Seyfert_data.iloc[i]['Name'],fontsize = 8)\n",
    "    \n",
    "    ax.scatter(type1or2,plotdata.iloc[i]['sigma_m_w1_neo'],\n",
    "                color=color,marker=marker,\n",
    "                label=label)\n",
    "    \n",
    "#ax2 = fig.add_subplot(122)\n",
    "\n",
    "#for i in range(len(BAT_105m_Seyfert_data)):\n",
    "    #print(type1or2)\n",
    "'''    if type1or2>=1.9:\n",
    "        color='red'\n",
    "        label='W2'\n",
    "        marker='*'\n",
    "    else:\n",
    "        color='red'\n",
    "        label='W2'\n",
    "        marker='o'\n",
    "    \n",
    "    #ax2.text(type1or2,BAT_105m_Seyfert_data.iloc[i]['sigma_m_w2_neo'],BAT_105m_Seyfert_data.iloc[i]['Name'],fontsize = 8)\n",
    "    \n",
    "    ax.scatter(type1or2,plotdata.iloc[i]['sigma_m_w2_neo'],\n",
    "                color=color,marker=marker,\n",
    "                label=label)'''\n",
    "\n",
    "ax.scatter(Stypes,sigma_m_s,color='black',\n",
    "           marker='x',s=20,zorder=1,label='average sigma')\n",
    "\n",
    "ax.set_xlabel('Type')\n",
    "#ax2.set_xlabel('Type')\n",
    "ax.set_ylabel(r'$\\sigma_m$')\n",
    "ax.set_xlim(0.9,2.1)\n",
    "\n",
    "#ax2.set_xlim(0,3)\n",
    "#ax.yaxis.set_tick_params(which='major', size=10, width=2, direction='in', top='on',labelsize=0)\n",
    "#ax.text(0.1, 0.1, 'w1_neo', horizontalalignment = 'center', verticalalignment = 'center',transform = ax.transAxes, fontsize = 10)\n",
    "set_ax_tick(ax)\n",
    "set_ax_locator(ax,xma=0.2,xmi=0.1,yma=0.2,ymi=0.1)\n",
    "handles, labels = ax.get_legend_handles_labels()\n",
    "# remove the errorbars\n",
    "hdl=handles\n",
    "#hdl = [h[0] for h in handles]\n",
    "# use them in the legend\n",
    "by_label = OrderedDict(zip(labels, hdl)) \n",
    "ax.legend(by_label.values(), by_label.keys(), bbox_to_anchor=(0.0, 0.9),\n",
    "          loc=2, numpoints=1,ncol=1,fontsize=11.)\n",
    "#plt.semilogy()    \n",
    "fig.savefig('/Users/brettlv/Downloads/CLAGN_statistic_plot/WISE_variability_BAT_105m_Seyfert_type_sigma.png', \n",
    "            dpi=400, transparent=False, bbox_inches='tight')\n"
   ]
  },
  {
   "cell_type": "markdown",
   "metadata": {},
   "source": [
    "## S_type_Lum_var"
   ]
  },
  {
   "cell_type": "code",
   "execution_count": null,
   "metadata": {
    "ExecuteTime": {
     "end_time": "2021-09-10T03:28:23.219302Z",
     "start_time": "2021-09-10T03:28:20.029497Z"
    }
   },
   "outputs": [],
   "source": [
    "fig = plt.figure(figsize=(8,8))\n",
    "fig.subplots_adjust(hspace=0.0, wspace = 0.0)\n",
    "ax = fig.add_subplot(111)\n",
    "\n",
    "plotdata=BAT_105m_Seyfert_data_coeff8\n",
    "\n",
    "for i in range(len(plotdata[:])):\n",
    "    label=plotdata.iloc[i]['S_type']    \n",
    "    if label>1.9:        \n",
    "        color='blue'\n",
    "        marker='+'\n",
    "    elif label>1.8:\n",
    "        color='blue'\n",
    "        marker='x'\n",
    "        \n",
    "    elif label>1.5:\n",
    "        color='red'\n",
    "        marker='o'\n",
    "        \n",
    "    elif label>1.2:\n",
    "        color='red'\n",
    "        marker='^' \n",
    "        \n",
    "    elif label>1.0:\n",
    "        color='red'\n",
    "        marker='s'   \n",
    "        \n",
    "    else:    \n",
    "        color='red'\n",
    "        marker='*'\n",
    "    if plotdata.iloc[i]['  LUM']!='     ':   \n",
    "        ax.scatter(float(plotdata.iloc[i]['  LUM']),\n",
    "                   plotdata.iloc[i]['sigma_m_w1_neo'],\n",
    "                color=color,marker=marker,\n",
    "                label=label) \n",
    "        \n",
    "        if plotdata.iloc[i]['sigma_m_w1_neo']>1.0:\n",
    "            ax.text(float(plotdata.iloc[i]['  LUM']), plotdata.iloc[i]['sigma_m_w1_neo'],\n",
    "                plotdata.iloc[i]['              COUNTERPART_NAME'].strip(),\n",
    "                color=color)\n",
    "        \n",
    "\n",
    "ax.set_xlabel('log Luminosity(14-195 keV)')\n",
    "ax.set_ylabel(r'$\\sigma_m W1$')\n",
    "\n",
    "handles, labels = ax.get_legend_handles_labels()\n",
    "# remove the errorbars\n",
    "hdl=handles\n",
    "#hdl = [h[0] for h in handles]\n",
    "# use them in the legend\n",
    "#by_label = OrderedDict(zip(labels, hdl)) \n",
    "\n",
    "labels_dict=dict(zip(labels, hdl)) #key,values\n",
    "by_label=OrderedDict(sorted(labels_dict.items(),key=lambda t:t[0]))\n",
    "\n",
    "#按key排序\n",
    "#kd = collections.OrderedDict(sorted(dd.items(), key=lambda t: t[0]))\n",
    "#按照value排序\n",
    "#vd = collections.OrderedDict(sorted(dd.items(),key=lambda t:t[1]))\n",
    "\n",
    "set_ax_tick(ax)\n",
    "ax.legend(by_label.values(), by_label.keys(), bbox_to_anchor=(0.0, 0.95),\n",
    "          loc=2, numpoints=1,ncol=1,fontsize=11.)\n",
    "fig.savefig('/Users/brettlv/Downloads/CLAGN_statistic_plot/WISE_variability_BAT_105m_Seyfert_LX_sigma_w1.png', \n",
    "            dpi=400, transparent=False, bbox_inches='tight')\n",
    "\n",
    "#plt.xlim(18,0)\n",
    "#ax.text(0.1, 0.9, 'w1_neo', horizontalalignment = 'center', verticalalignment = 'center',transform = ax.transAxes, fontsize = 10)\n",
    "#plt.semilogy()"
   ]
  },
  {
   "cell_type": "code",
   "execution_count": null,
   "metadata": {},
   "outputs": [],
   "source": []
  },
  {
   "cell_type": "code",
   "execution_count": null,
   "metadata": {},
   "outputs": [],
   "source": []
  },
  {
   "cell_type": "code",
   "execution_count": null,
   "metadata": {},
   "outputs": [],
   "source": []
  },
  {
   "cell_type": "markdown",
   "metadata": {},
   "source": [
    "### type2"
   ]
  },
  {
   "cell_type": "code",
   "execution_count": null,
   "metadata": {
    "ExecuteTime": {
     "end_time": "2021-09-09T11:44:53.562855Z",
     "start_time": "2021-09-09T11:44:52.011462Z"
    }
   },
   "outputs": [],
   "source": [
    "fig = plt.figure(figsize=(4,4))\n",
    "fig.subplots_adjust(hspace=0.0, wspace = 0.0)\n",
    "ax = fig.add_subplot(111)\n",
    "\n",
    "plotdata=BAT_105m_Seyfert_data_coeff8\n",
    "\n",
    "for i in range(len(plotdata[:])):\n",
    "    label=plotdata.iloc[i]['S_type']    \n",
    "    if label>1.9:        \n",
    "        color='blue'\n",
    "        marker='+'\n",
    "    elif label>1.8:\n",
    "        color='blue'\n",
    "        marker='x'\n",
    "        \n",
    "    elif label>1.5:\n",
    "        color='red'\n",
    "        marker='o'\n",
    "        \n",
    "    elif label>1.2:\n",
    "        color='red'\n",
    "        marker='^' \n",
    "        \n",
    "    elif label>1.0:\n",
    "        color='red'\n",
    "        marker='s'   \n",
    "        \n",
    "    else:    \n",
    "        color='red'\n",
    "        marker='*'\n",
    "    if plotdata.iloc[i]['  LUM']!='     ' and label>1.8:   \n",
    "        ax.scatter(float(plotdata.iloc[i]['  LUM']),\n",
    "                   plotdata.iloc[i]['sigma_m_w1_neo'],\n",
    "                   color=color,marker=marker,\n",
    "                   label=label)\n",
    "    \n",
    "        \n",
    "\n",
    "ax.set_xlabel('log Luminosity(14-195 keV)')\n",
    "ax.set_ylabel(r'$\\sigma_m W1$')\n",
    "\n",
    "handles, labels = ax.get_legend_handles_labels()\n",
    "# remove the errorbars\n",
    "hdl=handles\n",
    "#hdl = [h[0] for h in handles]\n",
    "# use them in the legend\n",
    "#by_label = OrderedDict(zip(labels, hdl)) \n",
    "\n",
    "labels_dict=dict(zip(labels, hdl)) #key,values\n",
    "by_label=OrderedDict(sorted(labels_dict.items(),key=lambda t:t[0]))\n",
    "\n",
    "#按key排序\n",
    "#kd = collections.OrderedDict(sorted(dd.items(), key=lambda t: t[0]))\n",
    "#按照value排序\n",
    "#vd = collections.OrderedDict(sorted(dd.items(),key=lambda t:t[1]))\n",
    "\n",
    "set_ax_tick(ax)\n",
    "ax.legend(by_label.values(), by_label.keys(), bbox_to_anchor=(0.0, 0.95),\n",
    "          loc=2, numpoints=1,ncol=1,fontsize=11.)\n",
    "fig.savefig('/Users/brettlv/Downloads/CLAGN_statistic_plot/WISE_variability_BAT_105m_Seyfert_LX_sigma_w1_type2.png', \n",
    "            dpi=400, transparent=False, bbox_inches='tight')\n",
    "\n",
    "#plt.xlim(18,0)\n",
    "#ax.text(0.1, 0.9, 'w1_neo', horizontalalignment = 'center', verticalalignment = 'center',transform = ax.transAxes, fontsize = 10)\n",
    "#plt.semilogy()"
   ]
  },
  {
   "cell_type": "markdown",
   "metadata": {},
   "source": [
    "### type1"
   ]
  },
  {
   "cell_type": "code",
   "execution_count": null,
   "metadata": {
    "ExecuteTime": {
     "end_time": "2021-09-09T11:45:04.525547Z",
     "start_time": "2021-09-09T11:45:02.506861Z"
    }
   },
   "outputs": [],
   "source": [
    "fig = plt.figure(figsize=(4,4))\n",
    "fig.subplots_adjust(hspace=0.0, wspace = 0.0)\n",
    "ax = fig.add_subplot(111)\n",
    "\n",
    "plotdata=BAT_105m_Seyfert_data_coeff8\n",
    "\n",
    "for i in range(len(plotdata[:])):\n",
    "    label=plotdata.iloc[i]['S_type']    \n",
    "    if label>1.9:        \n",
    "        color='blue'\n",
    "        marker='+'\n",
    "    elif label>1.8:\n",
    "        color='blue'\n",
    "        marker='x'\n",
    "        \n",
    "    elif label>1.5:\n",
    "        color='red'\n",
    "        marker='o'\n",
    "        \n",
    "    elif label>1.2:\n",
    "        color='red'\n",
    "        marker='^' \n",
    "        \n",
    "    elif label>1.0:\n",
    "        color='red'\n",
    "        marker='s'   \n",
    "        \n",
    "    else:    \n",
    "        color='red'\n",
    "        marker='*'\n",
    "    if plotdata.iloc[i]['  LUM']!='     ' and label<1.9:   \n",
    "        ax.scatter(float(plotdata.iloc[i]['  LUM']),\n",
    "                   plotdata.iloc[i]['sigma_m_w1_neo'],\n",
    "                   color=color,marker=marker,\n",
    "                   label=label)   \n",
    "\n",
    "ax.set_xlabel('log Luminosity(14-195 keV)')\n",
    "ax.set_ylabel(r'$\\sigma_m W1$')\n",
    "\n",
    "handles, labels = ax.get_legend_handles_labels()\n",
    "# remove the errorbars\n",
    "hdl=handles\n",
    "#hdl = [h[0] for h in handles]\n",
    "# use them in the legend\n",
    "#by_label = OrderedDict(zip(labels, hdl)) \n",
    "\n",
    "labels_dict=dict(zip(labels, hdl)) #key,values\n",
    "by_label=OrderedDict(sorted(labels_dict.items(),key=lambda t:t[0]))\n",
    "\n",
    "#按key排序\n",
    "#kd = collections.OrderedDict(sorted(dd.items(), key=lambda t: t[0]))\n",
    "#按照value排序\n",
    "#vd = collections.OrderedDict(sorted(dd.items(),key=lambda t:t[1]))\n",
    "\n",
    "set_ax_tick(ax)\n",
    "ax.legend(by_label.values(), by_label.keys(), bbox_to_anchor=(0.0, 0.95),\n",
    "          loc=2, numpoints=1,ncol=1,fontsize=11.)\n",
    "fig.savefig('/Users/brettlv/Downloads/CLAGN_statistic_plot/WISE_variability_BAT_105m_Seyfert_LX_sigma_w1_type1.png', \n",
    "            dpi=400, transparent=False, bbox_inches='tight')\n",
    "\n",
    "#plt.xlim(18,0)\n",
    "#ax.text(0.1, 0.9, 'w1_neo', horizontalalignment = 'center', verticalalignment = 'center',transform = ax.transAxes, fontsize = 10)\n",
    "#plt.semilogy()"
   ]
  },
  {
   "cell_type": "code",
   "execution_count": null,
   "metadata": {},
   "outputs": [],
   "source": []
  },
  {
   "cell_type": "code",
   "execution_count": null,
   "metadata": {},
   "outputs": [],
   "source": []
  },
  {
   "cell_type": "markdown",
   "metadata": {},
   "source": [
    "## LX_LMIR"
   ]
  },
  {
   "cell_type": "code",
   "execution_count": null,
   "metadata": {
    "ExecuteTime": {
     "end_time": "2021-09-09T11:45:54.390049Z",
     "start_time": "2021-09-09T11:45:51.238385Z"
    }
   },
   "outputs": [],
   "source": [
    "fig = plt.figure(figsize=(4,4))\n",
    "fig.subplots_adjust(hspace=0.0, wspace = 0.0)\n",
    "ax = fig.add_subplot(111)\n",
    "\n",
    "plotdata=BAT_105m_Seyfert_data_coeff8\n",
    "for i in range(len(plotdata[:])):\n",
    "    label=plotdata.iloc[i]['S_type']    \n",
    "    if label>1.9:        \n",
    "        color='blue'\n",
    "        marker='+'\n",
    "    elif label>1.8:\n",
    "        color='blue'\n",
    "        marker='x'\n",
    "        \n",
    "    elif label>1.5:\n",
    "        color='red'\n",
    "        marker='o'\n",
    "        \n",
    "    elif label>1.2:\n",
    "        color='red'\n",
    "        marker='^' \n",
    "        \n",
    "    elif label>1.0:\n",
    "        color='red'\n",
    "        marker='s'   \n",
    "        \n",
    "    else:    \n",
    "        color='red'\n",
    "        marker='*'\n",
    "    if plotdata.iloc[i]['  LUM']!='     ':\n",
    "        #if label>1.8:   \n",
    "        ax.scatter(float(plotdata.iloc[i]['  LUM']),\n",
    "                   plotdata.iloc[i]['mean_m_w1_neo'],\n",
    "                   color=color,marker=marker,\n",
    "                   label=label) \n",
    "            \n",
    "bottom, top = plt.ylim() \n",
    "plt.ylim(top,bottom)\n",
    "            \n",
    "ax.set_xlabel('log Luminosity(14-195 keV)')\n",
    "ax.set_ylabel(r'mean_m w1_neo')\n",
    "\n",
    "handles, labels = ax.get_legend_handles_labels()\n",
    "# remove the errorbars\n",
    "hdl=handles\n",
    "#hdl = [h[0] for h in handles]\n",
    "# use them in the legend\n",
    "#by_label = OrderedDict(zip(labels, hdl)) \n",
    "\n",
    "labels_dict=dict(zip(labels, hdl)) #key,values\n",
    "by_label=OrderedDict(sorted(labels_dict.items(),key=lambda t:t[0]))\n",
    "\n",
    "#按key排序\n",
    "#kd = collections.OrderedDict(sorted(dd.items(), key=lambda t: t[0]))\n",
    "#按照value排序\n",
    "#vd = collections.OrderedDict(sorted(dd.items(),key=lambda t:t[1]))\n",
    "\n",
    "set_ax_tick(ax)\n",
    "ax.legend(by_label.values(), by_label.keys(), bbox_to_anchor=(1.0, 0.95),\n",
    "          loc=2, numpoints=1,ncol=1,fontsize=11.)\n",
    "fig.savefig('/Users/brettlv/Downloads/CLAGN_statistic_plot/WISE_variability_BAT_105m_Seyfert_Lx_mag_w1.png',dpi=400, transparent=False, bbox_inches='tight')\n",
    "\n",
    "#plt.xlim(18,0)\n",
    "#ax.text(0.1, 0.9, 'w1_neo', horizontalalignment = 'center', verticalalignment = 'center',transform = ax.transAxes, fontsize = 10)\n",
    "#plt.semilogy()"
   ]
  },
  {
   "cell_type": "markdown",
   "metadata": {},
   "source": [
    "### type 2"
   ]
  },
  {
   "cell_type": "code",
   "execution_count": null,
   "metadata": {
    "ExecuteTime": {
     "end_time": "2021-09-09T11:46:56.474469Z",
     "start_time": "2021-09-09T11:46:53.890691Z"
    }
   },
   "outputs": [],
   "source": [
    "fig = plt.figure(figsize=(4,4))\n",
    "fig.subplots_adjust(hspace=0.0, wspace = 0.0)\n",
    "ax = fig.add_subplot(111)\n",
    "\n",
    "plotdata=BAT_105m_Seyfert_data_coeff8\n",
    "for i in range(len(plotdata[:])):\n",
    "    label=plotdata.iloc[i]['S_type']    \n",
    "    if label>1.9:        \n",
    "        color='blue'\n",
    "        marker='+'\n",
    "    elif label>1.8:\n",
    "        color='blue'\n",
    "        marker='x'\n",
    "        \n",
    "    elif label>1.5:\n",
    "        color='red'\n",
    "        marker='o'\n",
    "        \n",
    "    elif label>1.2:\n",
    "        color='red'\n",
    "        marker='^' \n",
    "        \n",
    "    elif label>1.0:\n",
    "        color='red'\n",
    "        marker='s'   \n",
    "        \n",
    "    else:    \n",
    "        color='red'\n",
    "        marker='*'\n",
    "    if plotdata.iloc[i]['  LUM']!='     ':\n",
    "        if label>1.8:   \n",
    "            ax.scatter(float(plotdata.iloc[i]['  LUM']),\n",
    "                   plotdata.iloc[i]['mean_m_w1_neo'],\n",
    "                   color=color,marker=marker,\n",
    "                   label=label) \n",
    "            \n",
    "bottom, top = plt.ylim() \n",
    "plt.ylim(top,bottom)\n",
    "            \n",
    "ax.set_xlabel('log Luminosity(14-195 keV)')\n",
    "ax.set_ylabel(r'mean_m w1_neo')\n",
    "\n",
    "handles, labels = ax.get_legend_handles_labels()\n",
    "# remove the errorbars\n",
    "hdl=handles\n",
    "#hdl = [h[0] for h in handles]\n",
    "# use them in the legend\n",
    "#by_label = OrderedDict(zip(labels, hdl)) \n",
    "\n",
    "labels_dict=dict(zip(labels, hdl)) #key,values\n",
    "by_label=OrderedDict(sorted(labels_dict.items(),key=lambda t:t[0]))\n",
    "\n",
    "#按key排序\n",
    "#kd = collections.OrderedDict(sorted(dd.items(), key=lambda t: t[0]))\n",
    "#按照value排序\n",
    "#vd = collections.OrderedDict(sorted(dd.items(),key=lambda t:t[1]))\n",
    "\n",
    "set_ax_tick(ax)\n",
    "ax.legend(by_label.values(), by_label.keys(), bbox_to_anchor=(0.7, 0.95),\n",
    "          loc=2, numpoints=1,ncol=1,fontsize=11.)\n",
    "fig.savefig('/Users/brettlv/Downloads/CLAGN_statistic_plot/WISE_variability_BAT_105m_Seyfert_Lx_mag_w1_type2.png',dpi=400, transparent=False, bbox_inches='tight')\n",
    "\n",
    "#plt.xlim(18,0)\n",
    "#ax.text(0.1, 0.9, 'w1_neo', horizontalalignment = 'center', verticalalignment = 'center',transform = ax.transAxes, fontsize = 10)\n",
    "#plt.semilogy()"
   ]
  },
  {
   "cell_type": "markdown",
   "metadata": {},
   "source": [
    "### type 1"
   ]
  },
  {
   "cell_type": "code",
   "execution_count": null,
   "metadata": {
    "ExecuteTime": {
     "end_time": "2021-09-09T11:47:32.497468Z",
     "start_time": "2021-09-09T11:47:30.604386Z"
    }
   },
   "outputs": [],
   "source": [
    "fig = plt.figure(figsize=(4,4))\n",
    "fig.subplots_adjust(hspace=0.0, wspace = 0.0)\n",
    "ax = fig.add_subplot(111)\n",
    "\n",
    "plotdata=BAT_105m_Seyfert_data_coeff8\n",
    "for i in range(len(plotdata[:])):\n",
    "    label=plotdata.iloc[i]['S_type']    \n",
    "    if label>1.9:        \n",
    "        color='blue'\n",
    "        marker='+'\n",
    "    elif label>1.8:\n",
    "        color='blue'\n",
    "        marker='x'\n",
    "        \n",
    "    elif label>1.5:\n",
    "        color='red'\n",
    "        marker='o'\n",
    "        \n",
    "    elif label>1.2:\n",
    "        color='red'\n",
    "        marker='^' \n",
    "        \n",
    "    elif label>1.0:\n",
    "        color='red'\n",
    "        marker='s'   \n",
    "        \n",
    "    else:    \n",
    "        color='red'\n",
    "        marker='*'\n",
    "    if plotdata.iloc[i]['  LUM']!='     ':\n",
    "        if label<1.9:   \n",
    "            ax.scatter(float(plotdata.iloc[i]['  LUM']),\n",
    "                   plotdata.iloc[i]['mean_m_w1_neo'],\n",
    "                   color=color,marker=marker,\n",
    "                   label=label) \n",
    "            \n",
    "bottom, top = plt.ylim() \n",
    "plt.ylim(top,bottom)\n",
    "            \n",
    "ax.set_xlabel('log Luminosity(14-195 keV)')\n",
    "ax.set_ylabel(r'mean_m w1_neo')\n",
    "\n",
    "handles, labels = ax.get_legend_handles_labels()\n",
    "# remove the errorbars\n",
    "hdl=handles\n",
    "#hdl = [h[0] for h in handles]\n",
    "# use them in the legend\n",
    "#by_label = OrderedDict(zip(labels, hdl)) \n",
    "\n",
    "labels_dict=dict(zip(labels, hdl)) #key,values\n",
    "by_label=OrderedDict(sorted(labels_dict.items(),key=lambda t:t[0]))\n",
    "\n",
    "#按key排序\n",
    "#kd = collections.OrderedDict(sorted(dd.items(), key=lambda t: t[0]))\n",
    "#按照value排序\n",
    "#vd = collections.OrderedDict(sorted(dd.items(),key=lambda t:t[1]))\n",
    "\n",
    "set_ax_tick(ax)\n",
    "ax.legend(by_label.values(), by_label.keys(), bbox_to_anchor=(1.0, 0.95),\n",
    "          loc=2, numpoints=1,ncol=1,fontsize=11.)\n",
    "fig.savefig('/Users/brettlv/Downloads/CLAGN_statistic_plot/WISE_variability_BAT_105m_Seyfert_Lx_mag_w1_type1.png',dpi=400, transparent=False, bbox_inches='tight')\n",
    "\n",
    "#plt.xlim(18,0)\n",
    "#ax.text(0.1, 0.9, 'w1_neo', horizontalalignment = 'center', verticalalignment = 'center',transform = ax.transAxes, fontsize = 10)\n",
    "#plt.semilogy()"
   ]
  },
  {
   "cell_type": "code",
   "execution_count": null,
   "metadata": {},
   "outputs": [],
   "source": []
  },
  {
   "cell_type": "code",
   "execution_count": null,
   "metadata": {},
   "outputs": [],
   "source": []
  },
  {
   "cell_type": "code",
   "execution_count": null,
   "metadata": {},
   "outputs": [],
   "source": []
  },
  {
   "cell_type": "markdown",
   "metadata": {},
   "source": [
    "# data_1 and data_2"
   ]
  },
  {
   "cell_type": "code",
   "execution_count": null,
   "metadata": {
    "ExecuteTime": {
     "end_time": "2021-09-09T12:04:17.435646Z",
     "start_time": "2021-09-09T12:04:17.429544Z"
    }
   },
   "outputs": [],
   "source": [
    "BAT_105m_Seyfert_data_2=BAT_105m_Seyfert_data_coeff8[BAT_105m_Seyfert_data_coeff8['S_type']>1.8]\n",
    "BAT_105m_Seyfert_data_1=BAT_105m_Seyfert_data_coeff8[BAT_105m_Seyfert_data_coeff8['S_type']<1.9]\n",
    "BAT_105m_Seyfert_data_1=BAT_105m_Seyfert_data_1.reset_index(drop=True)\n",
    "BAT_105m_Seyfert_data_2=BAT_105m_Seyfert_data_2.reset_index(drop=True)"
   ]
  },
  {
   "cell_type": "code",
   "execution_count": null,
   "metadata": {
    "ExecuteTime": {
     "end_time": "2021-09-09T11:48:06.458160Z",
     "start_time": "2021-09-09T11:48:06.452249Z"
    }
   },
   "outputs": [],
   "source": [
    "np.average(BAT_105m_Seyfert_data_1['sigma_m_w1_neo']),np.average(BAT_105m_Seyfert_data_2['sigma_m_w1_neo'])"
   ]
  },
  {
   "cell_type": "code",
   "execution_count": null,
   "metadata": {
    "ExecuteTime": {
     "end_time": "2021-09-09T11:48:10.806935Z",
     "start_time": "2021-09-09T11:48:10.799538Z"
    }
   },
   "outputs": [],
   "source": [
    "np.average(BAT_105m_Seyfert_data_1['sigma_m_w2_neo']),np.average(BAT_105m_Seyfert_data_2['sigma_m_w2_neo'])"
   ]
  },
  {
   "cell_type": "markdown",
   "metadata": {},
   "source": [
    "## sigma m hist"
   ]
  },
  {
   "cell_type": "code",
   "execution_count": null,
   "metadata": {
    "ExecuteTime": {
     "end_time": "2021-09-09T12:40:53.957476Z",
     "start_time": "2021-09-09T12:40:52.278675Z"
    }
   },
   "outputs": [],
   "source": [
    "fig = plt.figure(figsize=(8,8))\n",
    "fig.subplots_adjust(hspace=0.0, wspace = 0.0)\n",
    "ax = fig.add_subplot(111)\n",
    "\n",
    "ax.hist(BAT_105m_Seyfert_data_1['sigma_m_w1_neo'],bins=50,lw=2,histtype='step',\n",
    "                              ec='red', fc='red',label='Type1',linestyle='-.')\n",
    "\n",
    "ax.hist(BAT_105m_Seyfert_data_2['sigma_m_w1_neo'],bins=50,lw=2,histtype='step',\n",
    "        ec='blue',fc=\"blue\",linestyle='-',\n",
    "        label='Type2')\n",
    "\n",
    "#ax.set_xlabel('Type')\n",
    "#ax2.set_xlabel('Type')\n",
    "ax.set_xlabel(r'$\\sigma_m$')\n",
    "ax.set_ylabel(r'N')\n",
    "ax.set_xlim(0.0,0.9)\n",
    "plt.legend()\n",
    "fig.savefig('/Users/brettlv/Downloads/CLAGN_statistic_plot/WISE_variability_BAT_105m_Seyfert_sigma_hist.png', \n",
    "            dpi=400, transparent=False, bbox_inches='tight')\n"
   ]
  },
  {
   "cell_type": "code",
   "execution_count": null,
   "metadata": {},
   "outputs": [],
   "source": []
  },
  {
   "cell_type": "markdown",
   "metadata": {},
   "source": [
    "## Lum Gamma"
   ]
  },
  {
   "cell_type": "code",
   "execution_count": null,
   "metadata": {
    "ExecuteTime": {
     "end_time": "2021-09-09T11:50:38.177448Z",
     "start_time": "2021-09-09T11:50:35.006520Z"
    }
   },
   "outputs": [],
   "source": [
    "fig = plt.figure(figsize=(4,4))\n",
    "fig.subplots_adjust(hspace=0.0, wspace = 0.0)\n",
    "ax = fig.add_subplot(111)\n",
    "\n",
    "plotdata=BAT_105m_Seyfert_data_coeff8\n",
    "for i in range(len(plotdata['  LUM'])):\n",
    "    label=plotdata.iloc[i]['S_type']    \n",
    "    if label>1.9:        \n",
    "        color='blue'\n",
    "        marker='+'\n",
    "    elif label>1.8:\n",
    "        color='blue'\n",
    "        marker='x'\n",
    "        \n",
    "    elif label>1.5:\n",
    "        color='red'\n",
    "        marker='o'\n",
    "        \n",
    "    elif label>1.2:\n",
    "        color='red'\n",
    "        marker='^' \n",
    "        \n",
    "    elif label>1.0:\n",
    "        color='red'\n",
    "        marker='s'   \n",
    "        \n",
    "    else:    \n",
    "        color='red'\n",
    "        marker='*'\n",
    "        \n",
    "    if plotdata.iloc[i]['  LUM']!='     'and plotdata.iloc[i]['GAMM']!='     ':\n",
    "        ax.scatter(float(plotdata.iloc[i]['  LUM']),\n",
    "                   float(plotdata.iloc[i]['GAMM']),\n",
    "        #ec='red',fc=\"red\",\n",
    "        marker=marker,   \n",
    "        color=color,\n",
    "        label=label)\n",
    "        \n",
    "set_ax_tick(ax)\n",
    "set_ax_locator(ax,xma=2,xmi=1,yma=1,ymi=0.5)\n",
    "#ax.xaxis.set_major_locator(mpl.ticker.MultipleLocator(5))\n",
    "#ax.xaxis.set_minor_locator(mpl.ticker.MultipleLocator(xmi))\n",
    "#ax.yaxis.set_major_locator(mpl.ticker.MultipleLocator(1))\n",
    "#ax.yaxis.set_minor_locator(mpl.ticker.MultipleLocator(ymi)) \n",
    "    \n",
    "#ax.set_xlabel('Type')\n",
    "#ax2.set_xlabel('Type')\n",
    "\n",
    "#ax.set_xlim(41.5,46.5)\n",
    "handles, labels = ax.get_legend_handles_labels()\n",
    "hdl=handles\n",
    "labels_dict=dict(zip(labels, hdl)) #key,values\n",
    "by_label=OrderedDict(sorted(labels_dict.items(),key=lambda t:t[0]))\n",
    "ax.legend(by_label.values(), by_label.keys(),bbox_to_anchor=(0.01, 0.99),ncol=1,\n",
    "          loc=2,fontsize=10)\n",
    "ax.set_xlabel('log Luminosity (14-195 keV)')\n",
    "ax.set_ylabel(r'$\\Gamma$')\n",
    "\n",
    "plt.savefig('/Users/brettlv/Downloads/CLAGN_statistic_plot/WISE_variability_BAT_105m_Seyfert_Lum_Gamma.png', \n",
    "            dpi=400, transparent=False, bbox_inches='tight')\n"
   ]
  },
  {
   "cell_type": "markdown",
   "metadata": {},
   "source": [
    "### type2"
   ]
  },
  {
   "cell_type": "code",
   "execution_count": null,
   "metadata": {
    "ExecuteTime": {
     "end_time": "2021-09-09T11:52:22.309921Z",
     "start_time": "2021-09-09T11:52:19.922653Z"
    }
   },
   "outputs": [],
   "source": [
    "fig = plt.figure(figsize=(4,4))\n",
    "fig.subplots_adjust(hspace=0.0, wspace = 0.0)\n",
    "ax = fig.add_subplot(111)\n",
    "\n",
    "plotdata=BAT_105m_Seyfert_data_coeff8\n",
    "for i in range(len(plotdata['  LUM'])):\n",
    "    label=plotdata.iloc[i]['S_type']    \n",
    "    if label>1.9:        \n",
    "        color='blue'\n",
    "        marker='+'\n",
    "    elif label>1.8:\n",
    "        color='blue'\n",
    "        marker='x'\n",
    "        \n",
    "    elif label>1.5:\n",
    "        color='red'\n",
    "        marker='o'\n",
    "        \n",
    "    elif label>1.2:\n",
    "        color='red'\n",
    "        marker='^' \n",
    "        \n",
    "    elif label>1.0:\n",
    "        color='red'\n",
    "        marker='s'   \n",
    "        \n",
    "    else:    \n",
    "        color='red'\n",
    "        marker='*'\n",
    "        \n",
    "    if plotdata.iloc[i]['  LUM']!='     'and plotdata.iloc[i]['GAMM']!='     ':\n",
    "        if label >1.8:\n",
    "            ax.scatter(float(plotdata.iloc[i]['  LUM']),\n",
    "                   float(plotdata.iloc[i]['GAMM']),\n",
    "        #ec='red',fc=\"red\",\n",
    "        marker=marker,   \n",
    "        color=color,\n",
    "        label=label)\n",
    "        \n",
    "set_ax_tick(ax)\n",
    "set_ax_locator(ax,xma=2,xmi=1,yma=1,ymi=0.5)\n",
    "#ax.xaxis.set_major_locator(mpl.ticker.MultipleLocator(5))\n",
    "#ax.xaxis.set_minor_locator(mpl.ticker.MultipleLocator(xmi))\n",
    "#ax.yaxis.set_major_locator(mpl.ticker.MultipleLocator(1))\n",
    "#ax.yaxis.set_minor_locator(mpl.ticker.MultipleLocator(ymi)) \n",
    "    \n",
    "#ax.set_xlabel('Type')\n",
    "#ax2.set_xlabel('Type')\n",
    "\n",
    "#ax.set_xlim(41.5,46.5)\n",
    "handles, labels = ax.get_legend_handles_labels()\n",
    "hdl=handles\n",
    "labels_dict=dict(zip(labels, hdl)) #key,values\n",
    "by_label=OrderedDict(sorted(labels_dict.items(),key=lambda t:t[0]))\n",
    "ax.legend(by_label.values(), by_label.keys(),bbox_to_anchor=(0.01, 0.99),ncol=1,\n",
    "          loc=2,fontsize=10)\n",
    "ax.set_xlabel('log Luminosity (14-195 keV)')\n",
    "ax.set_ylabel(r'$\\Gamma$')\n",
    "\n",
    "plt.savefig('/Users/brettlv/Downloads/CLAGN_statistic_plot/WISE_variability_BAT_105m_Seyfert_Lum_Gamma_type2.png', \n",
    "            dpi=400, transparent=False, bbox_inches='tight')\n"
   ]
  },
  {
   "cell_type": "markdown",
   "metadata": {},
   "source": [
    "### type1"
   ]
  },
  {
   "cell_type": "code",
   "execution_count": null,
   "metadata": {
    "ExecuteTime": {
     "end_time": "2021-09-09T11:52:47.574100Z",
     "start_time": "2021-09-09T11:52:45.570752Z"
    }
   },
   "outputs": [],
   "source": [
    "fig = plt.figure(figsize=(4,4))\n",
    "fig.subplots_adjust(hspace=0.0, wspace = 0.0)\n",
    "ax = fig.add_subplot(111)\n",
    "\n",
    "plotdata=BAT_105m_Seyfert_data_coeff8\n",
    "for i in range(len(plotdata['  LUM'])):\n",
    "    label=plotdata.iloc[i]['S_type']    \n",
    "    if label>1.9:        \n",
    "        color='blue'\n",
    "        marker='+'\n",
    "    elif label>1.8:\n",
    "        color='blue'\n",
    "        marker='x'\n",
    "        \n",
    "    elif label>1.5:\n",
    "        color='red'\n",
    "        marker='o'\n",
    "        \n",
    "    elif label>1.2:\n",
    "        color='red'\n",
    "        marker='^' \n",
    "        \n",
    "    elif label>1.0:\n",
    "        color='red'\n",
    "        marker='s'   \n",
    "        \n",
    "    else:    \n",
    "        color='red'\n",
    "        marker='*'\n",
    "        \n",
    "    if plotdata.iloc[i]['  LUM']!='     'and plotdata.iloc[i]['GAMM']!='     ':\n",
    "        if label <1.9:\n",
    "            ax.scatter(float(plotdata.iloc[i]['  LUM']),\n",
    "                   float(plotdata.iloc[i]['GAMM']),\n",
    "        #ec='red',fc=\"red\",\n",
    "        marker=marker,   \n",
    "        color=color,\n",
    "        label=label)\n",
    "        \n",
    "set_ax_tick(ax)\n",
    "set_ax_locator(ax,xma=2,xmi=1,yma=1,ymi=0.5)\n",
    "#ax.xaxis.set_major_locator(mpl.ticker.MultipleLocator(5))\n",
    "#ax.xaxis.set_minor_locator(mpl.ticker.MultipleLocator(xmi))\n",
    "#ax.yaxis.set_major_locator(mpl.ticker.MultipleLocator(1))\n",
    "#ax.yaxis.set_minor_locator(mpl.ticker.MultipleLocator(ymi)) \n",
    "    \n",
    "#ax.set_xlabel('Type')\n",
    "#ax2.set_xlabel('Type')\n",
    "\n",
    "#ax.set_xlim(41.5,46.5)\n",
    "handles, labels = ax.get_legend_handles_labels()\n",
    "hdl=handles\n",
    "labels_dict=dict(zip(labels, hdl)) #key,values\n",
    "by_label=OrderedDict(sorted(labels_dict.items(),key=lambda t:t[0]))\n",
    "ax.legend(by_label.values(), by_label.keys(),bbox_to_anchor=(0.01, 0.99),ncol=1,\n",
    "          loc=2,fontsize=10)\n",
    "ax.set_xlabel('log Luminosity (14-195 keV)')\n",
    "ax.set_ylabel(r'$\\Gamma$')\n",
    "\n",
    "plt.savefig('/Users/brettlv/Downloads/CLAGN_statistic_plot/WISE_variability_BAT_105m_Seyfert_Lum_Gamma_type1.png', \n",
    "            dpi=400, transparent=False, bbox_inches='tight')\n"
   ]
  },
  {
   "cell_type": "markdown",
   "metadata": {},
   "source": [
    "## type Lum hist\n"
   ]
  },
  {
   "cell_type": "code",
   "execution_count": null,
   "metadata": {
    "ExecuteTime": {
     "end_time": "2021-09-09T12:04:23.729180Z",
     "start_time": "2021-09-09T12:04:23.721966Z"
    }
   },
   "outputs": [],
   "source": [
    "#BAT_105m_Seyfert_redshift=BAT_105m_Seyfert_data_coeff8['REDSHIF']\n",
    "#BAT_105m_Seyfert_redshift.replace(to_replace=r'^\\s*$',value=np.nan,regex=True,inplace=True)\n",
    "#BAT_105m_Seyfert_data_z_notnull=BAT_105m_Seyfert_data_coeff8[BAT_105m_Seyfert_data_coeff8['REDSHIF'].notnull()]\n",
    "\n",
    "\n",
    "BAT_105m_Seyfert_data_2_lum=BAT_105m_Seyfert_data_2['  LUM']\n",
    "BAT_105m_Seyfert_data_2_lum.replace(to_replace=r'^\\s*$',value=np.nan,regex=True,inplace=True)\n",
    "BAT_105m_Seyfert_data_2_lum_notnull=BAT_105m_Seyfert_data_2[BAT_105m_Seyfert_data_2['  LUM'].notnull()]\n",
    "BAT_105m_Seyfert_data_2_lum_numeric=pd.to_numeric(BAT_105m_Seyfert_data_2_lum_notnull['  LUM'])"
   ]
  },
  {
   "cell_type": "code",
   "execution_count": null,
   "metadata": {
    "ExecuteTime": {
     "end_time": "2021-09-09T12:04:59.635240Z",
     "start_time": "2021-09-09T12:04:59.628076Z"
    }
   },
   "outputs": [],
   "source": [
    "BAT_105m_Seyfert_data_1_lum=BAT_105m_Seyfert_data_1['  LUM']\n",
    "BAT_105m_Seyfert_data_1_lum.replace(to_replace=r'^\\s*$',value=np.nan,regex=True,inplace=True)\n",
    "BAT_105m_Seyfert_data_1_lum_notnull=BAT_105m_Seyfert_data_1[BAT_105m_Seyfert_data_1['  LUM'].notnull()]\n",
    "BAT_105m_Seyfert_data_1_lum_numeric=pd.to_numeric(BAT_105m_Seyfert_data_1_lum_notnull['  LUM'])"
   ]
  },
  {
   "cell_type": "code",
   "execution_count": null,
   "metadata": {
    "ExecuteTime": {
     "end_time": "2021-09-09T12:34:34.104702Z",
     "start_time": "2021-09-09T12:34:34.082045Z"
    }
   },
   "outputs": [],
   "source": [
    "np.average(BAT_105m_Seyfert_data_1_lum_numeric),np.average(BAT_105m_Seyfert_data_2_lum_numeric)"
   ]
  },
  {
   "cell_type": "code",
   "execution_count": null,
   "metadata": {
    "ExecuteTime": {
     "end_time": "2021-09-09T12:07:58.933542Z",
     "start_time": "2021-09-09T12:07:58.183570Z"
    }
   },
   "outputs": [],
   "source": [
    "fig = plt.figure(figsize=(8,8))\n",
    "fig.subplots_adjust(hspace=0.0, wspace = 0.0)\n",
    "ax = fig.add_subplot(111)\n",
    "\n",
    "ax.hist(BAT_105m_Seyfert_data_1_lum_numeric,bins=50,lw=2,histtype='step',\n",
    "        ec='red',fc=\"red\",linestyle='-',\n",
    "        label='Type1')\n",
    "\n",
    "ax.hist(BAT_105m_Seyfert_data_2_lum_numeric,bins=50,lw=2,histtype='step',\n",
    "                              ec='blue', fc='blue',label='Type2',linestyle='-.')\n",
    "\n",
    "#ax.set_xlabel('Type')\n",
    "#ax2.set_xlabel('Type')\n",
    "ax.set_xlabel('log Luminosity (14-195 keV)')\n",
    "ax.set_ylabel(r'N')\n",
    "#ax.set_xlim(0.5,2.5)\n",
    "plt.legend()\n",
    "fig.savefig('/Users/brettlv/Downloads/CLAGN_statistic_plot/WISE_variability_BAT_105m_Seyfert_Lum_hist.png', \n",
    "            dpi=400, transparent=False, bbox_inches='tight')\n"
   ]
  },
  {
   "cell_type": "code",
   "execution_count": null,
   "metadata": {
    "ExecuteTime": {
     "end_time": "2021-09-09T12:47:34.589968Z",
     "start_time": "2021-09-09T12:47:34.579076Z"
    }
   },
   "outputs": [],
   "source": [
    "BAT_105m_Seyfert_data_1.columns"
   ]
  },
  {
   "cell_type": "code",
   "execution_count": null,
   "metadata": {
    "ExecuteTime": {
     "end_time": "2021-09-09T12:47:46.670113Z",
     "start_time": "2021-09-09T12:47:46.663600Z"
    }
   },
   "outputs": [],
   "source": [
    "BAT_105m_Seyfert_data_1['    FLUX'][0]"
   ]
  },
  {
   "cell_type": "code",
   "execution_count": null,
   "metadata": {},
   "outputs": [],
   "source": []
  }
 ],
 "metadata": {
  "kernelspec": {
   "display_name": "Python 3",
   "language": "python",
   "name": "python3"
  },
  "language_info": {
   "codemirror_mode": {
    "name": "ipython",
    "version": 3
   },
   "file_extension": ".py",
   "mimetype": "text/x-python",
   "name": "python",
   "nbconvert_exporter": "python",
   "pygments_lexer": "ipython3",
   "version": "3.8.5"
  },
  "latex_envs": {
   "LaTeX_envs_menu_present": true,
   "autocomplete": true,
   "bibliofile": "biblio.bib",
   "cite_by": "apalike",
   "current_citInitial": 1,
   "eqLabelWithNumbers": true,
   "eqNumInitial": 1,
   "hotkeys": {
    "equation": "Ctrl-E",
    "itemize": "Ctrl-I"
   },
   "labels_anchors": false,
   "latex_user_defs": false,
   "report_style_numbering": false,
   "user_envs_cfg": false
  },
  "toc": {
   "nav_menu": {},
   "number_sections": true,
   "sideBar": true,
   "skip_h1_title": false,
   "toc_cell": false,
   "toc_position": {
    "height": "451px",
    "left": "0px",
    "right": "1043px",
    "top": "158px",
    "width": "212px"
   },
   "toc_section_display": "block",
   "toc_window_display": true
  }
 },
 "nbformat": 4,
 "nbformat_minor": 2
}
