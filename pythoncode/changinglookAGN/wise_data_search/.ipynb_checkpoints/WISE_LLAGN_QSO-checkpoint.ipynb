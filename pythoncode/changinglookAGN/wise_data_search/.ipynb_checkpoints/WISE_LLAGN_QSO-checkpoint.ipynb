{
 "cells": [
  {
   "cell_type": "markdown",
   "metadata": {},
   "source": [
    "# import"
   ]
  },
  {
   "cell_type": "code",
   "execution_count": 1,
   "metadata": {
    "ExecuteTime": {
     "end_time": "2021-09-02T13:48:04.797635Z",
     "start_time": "2021-09-02T13:48:00.426487Z"
    }
   },
   "outputs": [],
   "source": [
    "import pandas as pd\n",
    "import numpy as np\n",
    "\n",
    "\n",
    "from astropy.visualization import hist\n",
    "from astroML.datasets import fetch_imaging_sample, fetch_sdss_S82standards\n",
    "from astroML.crossmatch import crossmatch_angular\n",
    "\n",
    "\n",
    "from datetime import datetime, date, timezone\n",
    "from datetime import datetime\n",
    "from datetime import timedelta\n",
    "from astropy.time import Time\n",
    "from astropy.io import ascii\n",
    "\n",
    "import time\n",
    "import os\n",
    "from astropy import config as _config\n",
    "from astroquery.irsa import Irsa   \n",
    "from astropy import units as u\n",
    "from astropy.coordinates import SkyCoord\n",
    "\n",
    "from matplotlib.pyplot import MultipleLocator\n",
    "import matplotlib.dates as mdates\n",
    "from matplotlib.transforms import Transform\n",
    "from matplotlib.ticker import (AutoLocator, AutoMinorLocator)\n",
    "from matplotlib.dates import DateFormatter\n",
    "#import matplotlib.cm as cm\n",
    "import matplotlib.colors as colors\n",
    "from collections import OrderedDict\n",
    "\n",
    "\n",
    "\n",
    "from astropy.io import fits \n",
    "import matplotlib as mpl\n",
    "import matplotlib.pyplot as plt\n",
    "import numpy as np\n",
    "import pandas as pd\n",
    "from pylab import cm\n",
    "from astropy.table import Table\n",
    "import os\n",
    "from collections import OrderedDict\n",
    "from adjustText import adjust_text"
   ]
  },
  {
   "cell_type": "code",
   "execution_count": 2,
   "metadata": {
    "ExecuteTime": {
     "end_time": "2021-09-02T13:48:13.153817Z",
     "start_time": "2021-09-02T13:48:13.135877Z"
    }
   },
   "outputs": [],
   "source": [
    "%matplotlib inline\n",
    "%config InlineBackend.figure_format='svg'\n",
    "# Edit the font, font size, and axes width\n",
    "mpl.rcParams['font.family'] = 'Avenir'\n",
    "plt.rcParams['font.size'] = 18\n",
    "plt.rcParams['axes.linewidth'] = 2"
   ]
  },
  {
   "cell_type": "code",
   "execution_count": null,
   "metadata": {},
   "outputs": [],
   "source": []
  },
  {
   "cell_type": "markdown",
   "metadata": {},
   "source": [
    "## convert mjd"
   ]
  },
  {
   "cell_type": "code",
   "execution_count": 3,
   "metadata": {
    "ExecuteTime": {
     "end_time": "2021-09-02T13:48:17.343147Z",
     "start_time": "2021-09-02T13:48:17.323478Z"
    },
    "code_folding": []
   },
   "outputs": [],
   "source": [
    "def datetime2mjd(x):\n",
    "    mjd_ref=59000\n",
    "    mjd_minus_mdates_num=mdates.date2num(convert_xaxis_time(mjd_ref))-mjd_ref\n",
    "    \n",
    "    x=mdates.date2num(x)\n",
    "    y = x - mjd_minus_mdates_num   \n",
    "    return y\n",
    "\n",
    "def mjd2datetime(x):\n",
    "    mjd_ref=59000\n",
    "    mjd_minus_mdates_num=mdates.date2num(convert_xaxis_time(mjd_ref))-mjd_ref\n",
    "    y= x + mjd_minus_mdates_num\n",
    "    y= mdates.num2date(y)\n",
    "    return y\n",
    "\n",
    "\n",
    "\n",
    "def datenums2mjd(x):\n",
    "    #x=mdates.date2num(x)\n",
    "    mjd_ref=59000\n",
    "    mjd_minus_mdates_num=mdates.date2num(convert_xaxis_time(mjd_ref))-mjd_ref\n",
    "    y = x - mjd_minus_mdates_num   \n",
    "    return y\n",
    "\n",
    "def mjd2numsdate(x):\n",
    "    mjd_ref=59000\n",
    "    mjd_minus_mdates_num=mdates.date2num(convert_xaxis_time(mjd_ref))-mjd_ref\n",
    "    \n",
    "    y= x + mjd_minus_mdates_num\n",
    "    #y= mdates.num2date(y)\n",
    "    return y\n",
    "\n",
    "def convert_xaxis_mjd(time):\n",
    "    return Time(time).mjd   \n",
    "\n",
    "def convert_xaxis_time(mjd):\n",
    "    return Time(mjd,format='mjd').to_datetime()\n",
    "\n",
    "\n",
    "def date2yday(x):\n",
    "    \"\"\"\n",
    "    x is in matplotlib datenums, so they are floats.\n",
    "    \"\"\"\n",
    "    y = x - mdates.date2num(datetime(2018, 1, 1))\n",
    "    return y\n",
    "\n",
    "def yday2date(x):\n",
    "    \"\"\"\n",
    "    return a matplotlib datenum (x is days since start of year of 2018)\n",
    "    \"\"\"\n",
    "    y = x + mdates.date2num(datetime(2018, 1, 1))\n",
    "    return y\n",
    "\n",
    "\n",
    "\n",
    "\n",
    "def convert_partial_year(numbers):\n",
    "    datetimes=[]\n",
    "    for number in numbers:\n",
    "        year = int(number)\n",
    "        d = timedelta(days=(number - year)*(365 + is_leap(year)))\n",
    "        day_one = datetime(year,1,1)\n",
    "        date = d + day_one\n",
    "        datetimes.append(date)\n",
    "    return datetimes\n",
    "\n",
    "\n",
    "def is_leap(year):\n",
    "    if not year%4 and  year%100 or not year%400:\n",
    "        return True\n",
    "    return False\n",
    "\n",
    "\n",
    "def convert_mjd(times):\n",
    "    timesmjd=[]\n",
    "    for i in times:\n",
    "        timesmjd.append(Time(i).mjd)\n",
    "    return timesmjd  \n",
    "\n",
    "\n",
    "def convert_date(times):\n",
    "    timesdate=[]\n",
    "    for i in times:\n",
    "        timesdate.append(Time(i,format='mjd').datetime)\n",
    "    return timesdate\n",
    "\n",
    "def convert_date_single(time):\n",
    "    timedate=Time(time,format='mjd').datetime\n",
    "    return timedate\n"
   ]
  },
  {
   "cell_type": "code",
   "execution_count": null,
   "metadata": {},
   "outputs": [],
   "source": [
    "mjd2datetime(57300),mjd2datetime(58000),mjd2datetime(59000)\n",
    "\n",
    "convert_xaxis_mjd(datetime(2015, 1, 1, 0, 0))"
   ]
  },
  {
   "cell_type": "markdown",
   "metadata": {},
   "source": [
    "## get_intrinsic_var"
   ]
  },
  {
   "cell_type": "code",
   "execution_count": 4,
   "metadata": {
    "ExecuteTime": {
     "end_time": "2021-09-02T13:51:12.279148Z",
     "start_time": "2021-09-02T13:51:12.262695Z"
    }
   },
   "outputs": [],
   "source": [
    "def get_intrinsic_var(data,mag_label,magerr_label,epsilon_s):\n",
    "    mag_mean=np.average(data[mag_label])\n",
    "    length_N=len(data[mag_label])\n",
    "    epsilon_square=np.average(data[magerr_label]**2)+epsilon_s**2\n",
    "    Sigma_square=np.sum((data[mag_label]-mag_mean)**2)/(length_N-1)\n",
    "    \n",
    "    if Sigma_square>epsilon_square:\n",
    "        sigma_m=np.sqrt(Sigma_square-epsilon_square)\n",
    "    else:\n",
    "        sigma_m=0\n",
    "        \n",
    "    if length_N<2:\n",
    "        sigma_m=-1#print(length_N)\n",
    "    return sigma_m"
   ]
  },
  {
   "cell_type": "markdown",
   "metadata": {},
   "source": [
    "## load_LLAGN"
   ]
  },
  {
   "cell_type": "code",
   "execution_count": 5,
   "metadata": {
    "ExecuteTime": {
     "end_time": "2021-09-02T13:51:16.587091Z",
     "start_time": "2021-09-02T13:51:16.549378Z"
    }
   },
   "outputs": [
    {
     "data": {
      "text/plain": [
       "Index(['Name', 'lg(L2-10keV)', 'Sigma_dis', 'lg(MBH/Msun)', 'lg(LEdd)',\n",
       "       'lg(Lbol)', 'lg(Lbol/LEdd)', 'Unnamed: 7', 'Unnamed: 8', 'Unnamed: 9'],\n",
       "      dtype='object')"
      ]
     },
     "execution_count": 5,
     "metadata": {},
     "output_type": "execute_result"
    }
   ],
   "source": [
    "LLAGN=pd.read_csv('/Users/brettlv/blog/brettlv.github.io/pythoncode/changinglookAGN/wise_data_search/LLAGNtable.txt',delimiter='\\t',header=0)\n",
    "#CLAGN_list_2021_liu=CLAGN_list_2020[1:]\n",
    "LLAGN.columns"
   ]
  },
  {
   "cell_type": "code",
   "execution_count": null,
   "metadata": {
    "ExecuteTime": {
     "end_time": "2021-08-30T02:48:07.980552Z",
     "start_time": "2021-08-30T02:48:07.954953Z"
    }
   },
   "outputs": [],
   "source": [
    "LLAGN"
   ]
  },
  {
   "cell_type": "code",
   "execution_count": 6,
   "metadata": {
    "ExecuteTime": {
     "end_time": "2021-09-02T13:52:05.967880Z",
     "start_time": "2021-09-02T13:52:05.961289Z"
    }
   },
   "outputs": [
    {
     "data": {
      "text/plain": [
       "'/Users/brettlv/blog/brettlv.github.io/pythoncode/changinglookAGN/wise_data_search'"
      ]
     },
     "execution_count": 6,
     "metadata": {},
     "output_type": "execute_result"
    }
   ],
   "source": [
    "pwd"
   ]
  },
  {
   "cell_type": "markdown",
   "metadata": {
    "ExecuteTime": {
     "end_time": "2021-09-02T13:52:12.274382Z",
     "start_time": "2021-09-02T13:52:12.100304Z"
    }
   },
   "source": [
    "ls *.csv"
   ]
  },
  {
   "cell_type": "markdown",
   "metadata": {},
   "source": [
    "## load_QSO"
   ]
  },
  {
   "cell_type": "code",
   "execution_count": 8,
   "metadata": {
    "ExecuteTime": {
     "end_time": "2021-09-02T14:01:07.145749Z",
     "start_time": "2021-09-02T14:01:07.097327Z"
    }
   },
   "outputs": [],
   "source": [
    "QSO=pd.read_csv('/Users/brettlv/blog/brettlv.github.io/pythoncode/changinglookAGN/wise_data_search/QSOtable.txt',delimiter='|',header=None)\n",
    "QSO.columns=['Name', 'redshift', 'FWHM_Halpha', 'lg(LHalpha)', 'lg(L_Mbh)']#CLAGN_list_2021_liu=CLAGN_list_2020[1:]"
   ]
  },
  {
   "cell_type": "markdown",
   "metadata": {},
   "source": [
    "# download"
   ]
  },
  {
   "cell_type": "markdown",
   "metadata": {},
   "source": [
    "## def download"
   ]
  },
  {
   "cell_type": "code",
   "execution_count": 9,
   "metadata": {
    "ExecuteTime": {
     "end_time": "2021-09-02T14:01:13.558099Z",
     "start_time": "2021-09-02T14:01:13.548039Z"
    }
   },
   "outputs": [],
   "source": [
    "#Irsa.ROW_LIMIT = 1000 # value of new row limit here.\n",
    "#Irsa.TIMEOUT = 120\n",
    "def download_data(data,name_label):\n",
    "    for index,name in enumerate(data[name_label]):\n",
    "        #print(i)\n",
    "        search_name=name.replace(' ','') \n",
    "        save_name=search_name\n",
    "\n",
    "        if not os.path.exists('wise_%s_mep.csv'%save_name):\n",
    "            print(index,search_name)\n",
    "            Irsa.ROW_LIMIT = 1000\n",
    "            Irsa.TIMEOUT = 120\n",
    "            try:\n",
    "                table_wise_mep=Irsa.query_region(search_name,catalog='allwise_p3as_mep',spatial='Cone',radius=10*u.arcsec,)\n",
    "                table_wise_mep.write('wise_%s_mep.csv'%save_name, format='csv')\n",
    "            except Exception:\n",
    "                continue\n",
    "                #raise \n",
    "\n",
    "            time.sleep(15+np.random.randint(5,10))    \n",
    "\n",
    "        if not os.path.exists('wise_%s_neo.csv'%save_name):\n",
    "            Irsa.ROW_LIMIT = 1000\n",
    "            Irsa.TIMEOUT = 120\n",
    "            try:\n",
    "                table_wise_neo=Irsa.query_region(search_name,catalog='neowiser_p1bs_psd',spatial='Cone',radius=10*u.arcsec,)  \n",
    "                table_wise_neo.write('wise_%s_neo.csv'%save_name, format='csv')\n",
    "\n",
    "            except Exception:\n",
    "                continue\n",
    "                #raise             \n",
    "            time.sleep(15+np.random.randint(5,10))      \n",
    "\n",
    "def check_notdown(data,name_label):   \n",
    "    notdown_names=[]\n",
    "    for index,name in enumerate(data[name_label]):\n",
    "        #print(i)\n",
    "        search_name=name.replace(' ','') \n",
    "        save_name=search_name\n",
    "\n",
    "        if not os.path.exists('wise_%s_mep.csv'%save_name):\n",
    "            print(index,search_name)\n",
    "            if search_name not in notdown_names:\n",
    "                notdown_names.append(search_name)\n",
    "\n",
    "        if not os.path.exists('wise_%s_neo.csv'%save_name):\n",
    "            print(index,search_name)\n",
    "            if search_name not in notdown_names:\n",
    "                notdown_names.append(search_name)\n",
    "    return notdown_names            \n",
    "           "
   ]
  },
  {
   "cell_type": "code",
   "execution_count": null,
   "metadata": {},
   "outputs": [],
   "source": []
  },
  {
   "cell_type": "markdown",
   "metadata": {},
   "source": [
    "## download_LLAGN"
   ]
  },
  {
   "cell_type": "code",
   "execution_count": null,
   "metadata": {
    "ExecuteTime": {
     "end_time": "2021-08-30T11:39:01.342776Z",
     "start_time": "2021-08-30T11:36:57.614218Z"
    }
   },
   "outputs": [],
   "source": [
    "#Irsa.ROW_LIMIT = 1000 # value of new row limit here.\n",
    "#Irsa.TIMEOUT = 120\n",
    "for index,i in enumerate(LLAGN['Name'][:]):\n",
    "    #print(i)\n",
    "    search_name=i.replace(' ','') \n",
    "    save_name=i\n",
    "    if not os.path.exists('wise_%s_mep.csv'%save_name):\n",
    "        print(index,search_name)\n",
    "        Irsa.ROW_LIMIT = 1000\n",
    "        Irsa.TIMEOUT = 120\n",
    "        table_wise_mep=Irsa.query_region(search_name,catalog='allwise_p3as_mep',spatial='Cone',radius=10*u.arcsec,)\n",
    "        table_wise_mep.write('wise_%s_mep.csv'%save_name, format='csv')\n",
    "        time.sleep(15+np.random.randint(5,10))    \n",
    "    \n",
    "    if not os.path.exists('wise_%s_neo.csv'%save_name):\n",
    "        Irsa.ROW_LIMIT = 1000\n",
    "        Irsa.TIMEOUT = 120\n",
    "        \n",
    "        table_wise_neo=Irsa.query_region(search_name,catalog='neowiser_p1bs_psd',spatial='Cone',radius=10*u.arcsec,)  \n",
    "        table_wise_neo.write('wise_%s_neo.csv'%save_name, format='csv')       \n",
    "        time.sleep(15+np.random.randint(5,10))      \n"
   ]
  },
  {
   "cell_type": "code",
   "execution_count": 10,
   "metadata": {
    "ExecuteTime": {
     "end_time": "2021-09-02T14:01:22.998248Z",
     "start_time": "2021-09-02T14:01:22.987252Z"
    }
   },
   "outputs": [],
   "source": [
    "#Irsa.ROW_LIMIT = 1000 # value of new row limit here.\n",
    "#Irsa.TIMEOUT = 120\n",
    "\n",
    "for index,i in enumerate(LLAGN['Name']):    \n",
    "    search_name=i.replace(' ','')\n",
    "    if  not os.path.exists('wise_%s_mep.csv'%i):\n",
    "        print(index,i)\n",
    "        print('***mep notdone')\n",
    "        \n",
    "      \n",
    "    if  not os.path.exists('wise_%s_neo.csv'%i):\n",
    "        print(index,i)\n",
    "        print('***neo notdone')        \n",
    "        "
   ]
  },
  {
   "cell_type": "markdown",
   "metadata": {},
   "source": [
    "## LLAGN_data_test"
   ]
  },
  {
   "cell_type": "code",
   "execution_count": null,
   "metadata": {
    "ExecuteTime": {
     "end_time": "2021-08-31T08:55:54.830814Z",
     "start_time": "2021-08-31T08:55:54.814431Z"
    }
   },
   "outputs": [],
   "source": [
    "data_test_mep_origin=pd.read_csv('wise_%s_mep.csv'%LLAGN['Name'][0])\n",
    "data_test_mep_origin.columns"
   ]
  },
  {
   "cell_type": "code",
   "execution_count": null,
   "metadata": {
    "ExecuteTime": {
     "end_time": "2021-08-31T08:56:00.972792Z",
     "start_time": "2021-08-31T08:56:00.960621Z"
    }
   },
   "outputs": [],
   "source": [
    "data_test_neo_origin=pd.read_csv('wise_%s_neo.csv'%LLAGN['Name'][21])\n",
    "data_test_neo_origin.columns"
   ]
  },
  {
   "cell_type": "code",
   "execution_count": null,
   "metadata": {
    "ExecuteTime": {
     "end_time": "2021-08-31T09:44:36.269269Z",
     "start_time": "2021-08-31T09:44:36.248094Z"
    }
   },
   "outputs": [],
   "source": [
    "print(LLAGN['Name'][21])\n",
    "data_test_neo=pd.read_csv('wise_%s_neo.csv'%LLAGN['Name'][21])\n",
    "data_test_neo=data_test_neo[data_test_neo['w1mpro'].notnull()]\n",
    "data_test_neo=data_test_neo[data_test_neo['w2mpro'].notnull()]\n",
    "data_test_neo=data_test_neo[data_test_neo['w1sigmpro'].notnull()]\n",
    "data_test_neo=data_test_neo[data_test_neo['w2sigmpro'].notnull()]\n",
    "data_test_neo=data_test_neo[data_test_neo['qual_frame']>0]\n",
    "print(len(data_test_neo))\n",
    "data_test_neo=(data_test_neo.loc[:, ['mjd', 'w1mpro','w2mpro',\n",
    "                             'w1sigmpro','w2sigmpro',\n",
    "                             ]].sort_values('mjd'))\n",
    "\n",
    "data_test_neo=data_test_neo.reset_index(drop=True)\n",
    "data_test_neo.columns"
   ]
  },
  {
   "cell_type": "code",
   "execution_count": null,
   "metadata": {
    "ExecuteTime": {
     "end_time": "2021-08-31T09:44:38.205618Z",
     "start_time": "2021-08-31T09:44:38.198534Z"
    }
   },
   "outputs": [],
   "source": [
    "mag_label='w1mpro'\n",
    "magerr_label='w1sigmpro'\n",
    "epsilon_s=epsilon_s_w1\n",
    "sigma_m_w1=get_intrinsic_var(data_test_neo[data_test_neo['mjd']>57023],mag_label,magerr_label,epsilon_s)\n",
    "print(sigma_m_w1)"
   ]
  },
  {
   "cell_type": "code",
   "execution_count": null,
   "metadata": {
    "ExecuteTime": {
     "end_time": "2021-08-31T09:44:48.107648Z",
     "start_time": "2021-08-31T09:44:48.101450Z"
    }
   },
   "outputs": [],
   "source": [
    "mag_label='w1mpro'\n",
    "magerr_label='w1sigmpro'\n",
    "epsilon_s=epsilon_s_w1\n",
    "sigma_m_w1=get_intrinsic_var(data_test_neo[data_test_neo['mjd']<57023],mag_label,magerr_label,epsilon_s)\n",
    "print(sigma_m_w1)"
   ]
  },
  {
   "cell_type": "code",
   "execution_count": null,
   "metadata": {
    "ExecuteTime": {
     "end_time": "2021-08-31T09:42:50.662603Z",
     "start_time": "2021-08-31T09:42:50.506225Z"
    }
   },
   "outputs": [],
   "source": [
    "fig = plt.figure(figsize=(4,4))\n",
    "fig.subplots_adjust(hspace=0.0, wspace = 0.0)\n",
    "ax = fig.add_subplot(111)\n",
    "\n",
    "plt.scatter(data_test_neo['mjd'],data_test_neo['w1mpro'],color='red')\n",
    "\n",
    "plt.xlabel('mjd')\n",
    "plt.ylabel(r'$W1$')\n",
    "plt.ylim(18,0)\n",
    "#ax.text(0.1, 0.9, 'w1_neo', horizontalalignment = 'center', verticalalignment = 'center',transform = ax.transAxes, fontsize = 10)\n",
    "#plt.semilogy()"
   ]
  },
  {
   "cell_type": "code",
   "execution_count": null,
   "metadata": {
    "ExecuteTime": {
     "end_time": "2021-08-31T09:54:39.901158Z",
     "start_time": "2021-08-31T09:54:39.879302Z"
    }
   },
   "outputs": [],
   "source": [
    "print(LLAGN['Name'][6])\n",
    "data_test_neo=pd.read_csv('wise_%s_neo.csv'%LLAGN['Name'][6])\n",
    "data_test_neo=data_test_neo[data_test_neo['w1mpro'].notnull()]\n",
    "data_test_neo=data_test_neo[data_test_neo['w2mpro'].notnull()]\n",
    "data_test_neo=data_test_neo[data_test_neo['w1sigmpro'].notnull()]\n",
    "data_test_neo=data_test_neo[data_test_neo['w2sigmpro'].notnull()]\n",
    "print(len(data_test_neo))\n",
    "data_test_neo=data_test_neo[data_test_neo['qual_frame']>5]\n",
    "print(len(data_test_neo))\n",
    "\n",
    "\n",
    "data_test_neo=(data_test_neo.loc[:, ['mjd', 'w1mpro','w2mpro',\n",
    "                             'w1sigmpro','w2sigmpro',\n",
    "                             ]].sort_values('mjd'))\n",
    "\n",
    "data_test_neo=data_test_neo.reset_index(drop=True)\n",
    "data_test_neo.columns"
   ]
  },
  {
   "cell_type": "code",
   "execution_count": null,
   "metadata": {
    "ExecuteTime": {
     "end_time": "2021-08-31T09:45:27.331765Z",
     "start_time": "2021-08-31T09:45:27.326218Z"
    }
   },
   "outputs": [],
   "source": [
    "mag_label='w1mpro'\n",
    "magerr_label='w1sigmpro'\n",
    "epsilon_s=epsilon_s_w1\n",
    "sigma_m_w1=get_intrinsic_var(data_test_neo,mag_label,magerr_label,epsilon_s)\n",
    "print(sigma_m_w1)"
   ]
  },
  {
   "cell_type": "code",
   "execution_count": null,
   "metadata": {
    "ExecuteTime": {
     "end_time": "2021-08-31T09:45:31.605964Z",
     "start_time": "2021-08-31T09:45:31.471170Z"
    }
   },
   "outputs": [],
   "source": [
    "fig = plt.figure(figsize=(4,4))\n",
    "fig.subplots_adjust(hspace=0.0, wspace = 0.0)\n",
    "ax = fig.add_subplot(111)\n",
    "\n",
    "plt.scatter(data_test_neo['mjd'],data_test_neo['w1mpro'],color='red')\n",
    "\n",
    "plt.xlabel('mjd')\n",
    "plt.ylabel(r'$W1$')\n",
    "plt.ylim(18,0)\n",
    "#ax.text(0.1, 0.9, 'w1_neo', horizontalalignment = 'center', verticalalignment = 'center',transform = ax.transAxes, fontsize = 10)\n",
    "#plt.semilogy()"
   ]
  },
  {
   "cell_type": "code",
   "execution_count": null,
   "metadata": {
    "ExecuteTime": {
     "end_time": "2021-08-31T09:45:54.988053Z",
     "start_time": "2021-08-31T09:45:54.829187Z"
    }
   },
   "outputs": [],
   "source": [
    "print(LLAGN['Name'][5])\n",
    "data_test_neo=pd.read_csv('wise_%s_neo.csv'%LLAGN['Name'][5])\n",
    "data_test_neo=data_test_neo[data_test_neo['w1mpro'].notnull()]\n",
    "data_test_neo=data_test_neo[data_test_neo['w2mpro'].notnull()]\n",
    "data_test_neo=data_test_neo[data_test_neo['w1sigmpro'].notnull()]\n",
    "data_test_neo=data_test_neo[data_test_neo['w2sigmpro'].notnull()]\n",
    "data_test_neo=data_test_neo[data_test_neo['qual_frame']>5]\n",
    "print(len(data_test_neo))\n",
    "\n",
    "data_test_neo=(data_test_neo.loc[:, ['mjd', 'w1mpro','w2mpro',\n",
    "                             'w1sigmpro','w2sigmpro',\n",
    "                             ]].sort_values('mjd'))\n",
    "\n",
    "data_test_neo=data_test_neo.reset_index(drop=True)\n",
    "data_test_neo.columns\n",
    "\n",
    "fig = plt.figure(figsize=(4,4))\n",
    "fig.subplots_adjust(hspace=0.0, wspace = 0.0)\n",
    "ax = fig.add_subplot(111)\n",
    "\n",
    "plt.scatter(data_test_neo['mjd'],data_test_neo['w1mpro'],color='red')\n",
    "\n",
    "plt.xlabel('mjd')\n",
    "plt.ylabel(r'$W1$')\n",
    "plt.ylim(18,0)\n",
    "#ax.text(0.1, 0.9, 'w1_neo', horizontalalignment = 'center', verticalalignment = 'center',transform = ax.transAxes, fontsize = 10)\n",
    "#plt.semilogy()"
   ]
  },
  {
   "cell_type": "code",
   "execution_count": null,
   "metadata": {
    "ExecuteTime": {
     "end_time": "2021-08-31T09:46:07.292635Z",
     "start_time": "2021-08-31T09:46:07.287247Z"
    }
   },
   "outputs": [],
   "source": [
    "mag_label='w1mpro'\n",
    "magerr_label='w1sigmpro'\n",
    "epsilon_s=epsilon_s_w1\n",
    "sigma_m_w1=get_intrinsic_var(data_test_neo,mag_label,magerr_label,epsilon_s)\n",
    "print(sigma_m_w1)"
   ]
  },
  {
   "cell_type": "markdown",
   "metadata": {},
   "source": [
    "## LLAGN_neo_var"
   ]
  },
  {
   "cell_type": "code",
   "execution_count": 11,
   "metadata": {
    "ExecuteTime": {
     "end_time": "2021-09-02T14:01:55.249278Z",
     "start_time": "2021-09-02T14:01:55.239122Z"
    }
   },
   "outputs": [
    {
     "data": {
      "text/plain": [
       "Index(['Name', 'lg(L2-10keV)', 'Sigma_dis', 'lg(MBH/Msun)', 'lg(LEdd)',\n",
       "       'lg(Lbol)', 'lg(Lbol/LEdd)', 'Unnamed: 7', 'Unnamed: 8', 'Unnamed: 9'],\n",
       "      dtype='object')"
      ]
     },
     "execution_count": 11,
     "metadata": {},
     "output_type": "execute_result"
    }
   ],
   "source": [
    "LLAGN.columns"
   ]
  },
  {
   "cell_type": "code",
   "execution_count": null,
   "metadata": {
    "ExecuteTime": {
     "end_time": "2021-08-30T11:53:34.786802Z",
     "start_time": "2021-08-30T11:53:32.649643Z"
    }
   },
   "outputs": [],
   "source": [
    "epsilon_s_w1=0.024\n",
    "epsilon_s_w2=0.028\n",
    "#CLAGN_statistic_2021_liu['sigma_m_w1_neo']=-1\n",
    "#CLAGN_statistic_2021_liu['sigma_m_w2_neo']=-1\n",
    "for index,i in enumerate(LLAGN['Name']):\n",
    "    save_name=i\n",
    "    data=pd.read_csv('wise_%s_neo.csv'%save_name)\n",
    "    data=data[data['w1mpro'].notnull()]\n",
    "    data=data[data['w2mpro'].notnull()]\n",
    "    data=data[data['w1sigmpro'].notnull()]\n",
    "    data=data[data['w2sigmpro'].notnull()]\n",
    "    data=data[data['qual_frame']>0]\n",
    "    data=data.reset_index(drop=True)\n",
    "    #data=data.fillna(0)\n",
    "    \n",
    "    mag_label='w1mpro'\n",
    "    magerr_label='w1sigmpro'\n",
    "    epsilon_s=epsilon_s_w1\n",
    "    sigma_m_w1=get_intrinsic_var(data,mag_label,magerr_label,epsilon_s)\n",
    "    LLAGN.loc[index,'sigma_m_w1_neo']=sigma_m_w1\n",
    "    LLAGN.loc[index,'mean_m_w1_neo']=np.average(data[mag_label])\n",
    "    \n",
    "    mag_label='w2mpro'\n",
    "    magerr_label='w2sigmpro'\n",
    "    epsilon_s=epsilon_s_w2\n",
    "    sigma_m_w2=get_intrinsic_var(data,mag_label,magerr_label,epsilon_s)\n",
    "    LLAGN.loc[index,'sigma_m_w2_neo']=sigma_m_w2\n",
    "    LLAGN.loc[index,'mean_m_w2_neo']=np.average(data[mag_label])"
   ]
  },
  {
   "cell_type": "code",
   "execution_count": null,
   "metadata": {
    "ExecuteTime": {
     "end_time": "2021-08-31T06:44:44.209146Z",
     "start_time": "2021-08-31T06:44:44.198271Z"
    }
   },
   "outputs": [],
   "source": [
    "LLAGN.to_csv('/Users/brettlv/Downloads/CLAGN_statistic_plot/LLAGN.csv',index=False)"
   ]
  },
  {
   "cell_type": "code",
   "execution_count": null,
   "metadata": {},
   "outputs": [],
   "source": []
  },
  {
   "cell_type": "code",
   "execution_count": null,
   "metadata": {
    "ExecuteTime": {
     "end_time": "2021-08-31T08:10:58.564498Z",
     "start_time": "2021-08-31T08:10:58.489443Z"
    }
   },
   "outputs": [],
   "source": [
    "LLAGN[LLAGN['sigma_m_w1_neo']>0.5]"
   ]
  },
  {
   "cell_type": "code",
   "execution_count": null,
   "metadata": {
    "ExecuteTime": {
     "end_time": "2021-08-31T07:55:57.164863Z",
     "start_time": "2021-08-31T07:55:57.142409Z"
    }
   },
   "outputs": [],
   "source": [
    "LLAGN[LLAGN['sigma_m_w2_neo']>0.5]"
   ]
  },
  {
   "cell_type": "code",
   "execution_count": null,
   "metadata": {
    "ExecuteTime": {
     "end_time": "2021-08-30T13:42:53.047060Z",
     "start_time": "2021-08-30T13:42:52.867125Z"
    }
   },
   "outputs": [],
   "source": [
    "fig = plt.figure(figsize=(4,4))\n",
    "fig.subplots_adjust(hspace=0.0, wspace = 0.0)\n",
    "ax = fig.add_subplot(111)\n",
    "\n",
    "plt.scatter(LLAGN['mean_m_w1_neo'],LLAGN['sigma_m_w1_neo'],color='red')\n",
    "\n",
    "plt.xlabel('mean mag')\n",
    "plt.ylabel(r'$\\sigma_m$')\n",
    "plt.xlim(18,0)\n",
    "ax.text(0.1, 0.9, 'w1_neo', horizontalalignment = 'center', \n",
    "             verticalalignment = 'center',transform = ax.transAxes, fontsize = 10)\n",
    "#plt.semilogy()"
   ]
  },
  {
   "cell_type": "code",
   "execution_count": null,
   "metadata": {
    "ExecuteTime": {
     "end_time": "2021-08-31T07:55:39.613707Z",
     "start_time": "2021-08-31T07:55:38.969016Z"
    }
   },
   "outputs": [],
   "source": [
    "fig = plt.figure(figsize=(4,4))\n",
    "fig.subplots_adjust(hspace=0.0, wspace = 0.0)\n",
    "ax = fig.add_subplot(111)\n",
    "\n",
    "plt.scatter(LLAGN['mean_m_w2_neo'],LLAGN['sigma_m_w2_neo'],color='red')\n",
    "\n",
    "plt.xlabel('mean mag')\n",
    "plt.ylabel(r'$\\sigma_m$')\n",
    "plt.xlim(18,0)\n",
    "ax.text(0.1, 0.9, 'w2_neo', horizontalalignment = 'center', \n",
    "             verticalalignment = 'center',transform = ax.transAxes, fontsize = 10)\n",
    "#plt.semilogy()"
   ]
  },
  {
   "cell_type": "code",
   "execution_count": null,
   "metadata": {},
   "outputs": [],
   "source": []
  },
  {
   "cell_type": "code",
   "execution_count": null,
   "metadata": {
    "ExecuteTime": {
     "end_time": "2021-08-30T13:57:15.515409Z",
     "start_time": "2021-08-30T13:56:13.939434Z"
    }
   },
   "outputs": [],
   "source": [
    "#epsilon_s_w1=0.024\n",
    "#epsilon_s_w2=0.028\n",
    "#CLAGN_statistic_2021_liu['sigma_m_w1_neo']=-1\n",
    "#CLAGN_statistic_2021_liu['sigma_m_w2_neo']=-1\n",
    "\n",
    "\n",
    "\n",
    "for index,i in enumerate(LLAGN['Name'][:10]):\n",
    "    fig = plt.figure(figsize=(4,4))\n",
    "    fig.subplots_adjust(hspace=0.0, wspace = 0.0)\n",
    "    ax = fig.add_subplot(111)\n",
    "    color='black'\n",
    "    label='LLAGN'\n",
    "    marker='o'\n",
    "       \n",
    "    data=pd.read_csv('wise_%s_neo.csv'%i)\n",
    "    data=data[data['w1mpro'].notnull()]\n",
    "    data=data[data['w2mpro'].notnull()]\n",
    "    data=data[data['w1sigmpro'].notnull()]\n",
    "    data=data[data['w2sigmpro'].notnull()]\n",
    "    data=data.reset_index(drop=True)\n",
    "    #data=data.fillna(0)\n",
    "    time_label='mjd'\n",
    "    x_label='w1mpro'\n",
    "    xerr_label='w1sigmpro'\n",
    "    y_label='w2mpro'\n",
    "    yerr_label='w2sigmpro'   \n",
    "    \n",
    "    for d in range(len(data)):\n",
    "        ax.scatter(data.iloc[d][time_label],data.iloc[d][x_label],\n",
    "                color=color,marker='.',\n",
    "                label='w1')\n",
    "\n",
    "        ax.scatter(data.iloc[d][time_label],data.iloc[d][y_label],\n",
    "                color=color,marker='+',\n",
    "                label='w2')\n",
    "handles, labels = ax.get_legend_handles_labels()\n",
    "# remove the errorbars\n",
    "hdl=handles\n",
    "#hdl = [h[0] for h in handles]\n",
    "# use them in the legend\n",
    "by_label = OrderedDict(zip(labels, hdl)) \n",
    "ax.legend(by_label.values(), by_label.keys(), bbox_to_anchor=(0.0, 0.9),\n",
    "          loc=2, numpoints=1,ncol=1,fontsize=11.)            \n",
    "plt.xlabel(x_label)\n",
    "plt.ylabel(y_label)\n",
    "#plt.xlim(18,0)\n",
    "plt.ylim(18,0)\n"
   ]
  },
  {
   "cell_type": "code",
   "execution_count": null,
   "metadata": {},
   "outputs": [],
   "source": []
  },
  {
   "cell_type": "code",
   "execution_count": null,
   "metadata": {
    "ExecuteTime": {
     "end_time": "2021-08-30T13:52:13.105892Z",
     "start_time": "2021-08-30T13:51:32.742562Z"
    },
    "scrolled": false
   },
   "outputs": [],
   "source": [
    "#epsilon_s_w1=0.024\n",
    "#epsilon_s_w2=0.028\n",
    "#CLAGN_statistic_2021_liu['sigma_m_w1_neo']=-1\n",
    "#CLAGN_statistic_2021_liu['sigma_m_w2_neo']=-1\n",
    "\n",
    "fig = plt.figure(figsize=(4,4))\n",
    "fig.subplots_adjust(hspace=0.0, wspace = 0.0)\n",
    "ax = fig.add_subplot(111)\n",
    "\n",
    "for index,i in enumerate(LLAGN['Name'][:10]):\n",
    "\n",
    "    color='black'\n",
    "    label='LLAGN'\n",
    "    marker='o'\n",
    "       \n",
    "    data=pd.read_csv('wise_%s_neo.csv'%i)\n",
    "    data=data[data['w1mpro'].notnull()]\n",
    "    data=data[data['w2mpro'].notnull()]\n",
    "    data=data[data['w1sigmpro'].notnull()]\n",
    "    data=data[data['w2sigmpro'].notnull()]\n",
    "    data=data.reset_index(drop=True)\n",
    "    #data=data.fillna(0)\n",
    "    x_label='w1mpro'\n",
    "    xerr_label='w1sigmpro'\n",
    "    y_label='w2mpro'\n",
    "    yerr_label='w2sigmpro'   \n",
    "    \n",
    "    for d in range(len(data)):\n",
    "        plt.scatter(data.iloc[d][x_label],data.iloc[d][y_label],\n",
    "                color=color,marker=marker,\n",
    "                label=label)\n",
    "\n",
    "plt.xlabel(x_label)\n",
    "plt.ylabel(y_label)\n",
    "plt.xlim(18,6)\n",
    "plt.ylim(18,6)\n",
    "handles, labels = ax.get_legend_handles_labels()\n",
    "# remove the errorbars\n",
    "hdl=handles\n",
    "#hdl = [h[0] for h in handles]\n",
    "# use them in the legend\n",
    "by_label = OrderedDict(zip(labels, hdl)) \n",
    "ax.legend(by_label.values(), by_label.keys(), bbox_to_anchor=(0.0, 0.9),\n",
    "          loc=2, numpoints=1,ncol=1,fontsize=11.)"
   ]
  },
  {
   "cell_type": "code",
   "execution_count": null,
   "metadata": {},
   "outputs": [],
   "source": []
  },
  {
   "cell_type": "code",
   "execution_count": null,
   "metadata": {},
   "outputs": [],
   "source": []
  },
  {
   "cell_type": "markdown",
   "metadata": {},
   "source": [
    "## download_QSO"
   ]
  },
  {
   "cell_type": "code",
   "execution_count": null,
   "metadata": {
    "ExecuteTime": {
     "end_time": "2021-08-31T16:02:26.343860Z",
     "start_time": "2021-08-31T16:00:24.818262Z"
    },
    "scrolled": false
   },
   "outputs": [],
   "source": [
    "#Irsa.ROW_LIMIT = 1000 # value of new row limit here.\n",
    "#Irsa.TIMEOUT = 120\n",
    "\n",
    "for index,name in enumerate(QSO['Name'][98:100]):\n",
    "    #print(i)\n",
    "    search_name='SDSS'+name.replace(' ','') \n",
    "    i='SDSS '+name.replace(' ','')     \n",
    "    if not os.path.exists('wise_%s_mep.csv'%i):\n",
    "        print(index,search_name)\n",
    "        Irsa.ROW_LIMIT = 1000\n",
    "        Irsa.TIMEOUT = 120\n",
    "        table_wise_mep=Irsa.query_region(search_name,catalog='allwise_p3as_mep',spatial='Cone',radius=10*u.arcsec,)\n",
    "        table_wise_mep.write('wise_%s_mep.csv'%i, format='csv')\n",
    "        time.sleep(15+np.random.randint(5,10))    \n",
    "    \n",
    "    if not os.path.exists('wise_%s_neo.csv'%i):\n",
    "        Irsa.ROW_LIMIT = 1000\n",
    "        Irsa.TIMEOUT = 120\n",
    "        \n",
    "        table_wise_neo=Irsa.query_region(search_name,catalog='neowiser_p1bs_psd',spatial='Cone',radius=10*u.arcsec,)  \n",
    "        table_wise_neo.write('wise_%s_neo.csv'%i, format='csv')       \n",
    "        time.sleep(15+np.random.randint(5,10))      \n"
   ]
  },
  {
   "cell_type": "code",
   "execution_count": null,
   "metadata": {
    "ExecuteTime": {
     "end_time": "2021-08-31T16:14:43.843318Z",
     "start_time": "2021-08-31T16:14:43.810066Z"
    }
   },
   "outputs": [],
   "source": [
    "for index,name in enumerate(QSO['Name'][:100]):\n",
    "    #print(i)\n",
    "    search_name='SDSS'+name.replace(' ','') \n",
    "    i='SDSS '+name.replace(' ','')     \n",
    "    if not os.path.exists('wise_%s_mep.csv'%i):\n",
    "        print(index,search_name,'mep')\n",
    "    \n",
    "    if not os.path.exists('wise_%s_neo.csv'%i):\n",
    "        print(index,search_name,'neo')\n"
   ]
  },
  {
   "cell_type": "markdown",
   "metadata": {},
   "source": [
    "# BAT_105m_catalog_07jul2019"
   ]
  },
  {
   "cell_type": "code",
   "execution_count": null,
   "metadata": {
    "ExecuteTime": {
     "end_time": "2021-08-31T14:36:27.299899Z",
     "start_time": "2021-08-31T14:36:27.260065Z"
    }
   },
   "outputs": [],
   "source": [
    "BAT_105m_catalog_07jul2019=pd.read_csv('/Users/brettlv/Downloads/CLAGN_statistic_plot/BAT_105m_catalog_07jul2019.txt',\n",
    "                                       delimiter=\"|\",header=0,skiprows=1)\n",
    "\n",
    "BAT_105m_catalog_07jul2019=BAT_105m_catalog_07jul2019[BAT_105m_catalog_07jul2019['                 TYPE'].notnull()]"
   ]
  },
  {
   "cell_type": "code",
   "execution_count": null,
   "metadata": {
    "ExecuteTime": {
     "end_time": "2021-08-31T14:36:27.975296Z",
     "start_time": "2021-08-31T14:36:27.967650Z"
    }
   },
   "outputs": [],
   "source": [
    "BAT_105m_Seyfert=BAT_105m_catalog_07jul2019[BAT_105m_catalog_07jul2019['                 TYPE'].str.contains('Sy')]\n",
    "BAT_105m_Seyfert=BAT_105m_Seyfert.reset_index(drop=True)"
   ]
  },
  {
   "cell_type": "code",
   "execution_count": null,
   "metadata": {
    "ExecuteTime": {
     "end_time": "2021-08-31T14:36:31.344611Z",
     "start_time": "2021-08-31T14:36:31.304410Z"
    }
   },
   "outputs": [],
   "source": [
    "BAT_105m_Seyfert"
   ]
  },
  {
   "cell_type": "code",
   "execution_count": null,
   "metadata": {},
   "outputs": [],
   "source": []
  }
 ],
 "metadata": {
  "kernelspec": {
   "display_name": "Python 3",
   "language": "python",
   "name": "python3"
  },
  "language_info": {
   "codemirror_mode": {
    "name": "ipython",
    "version": 3
   },
   "file_extension": ".py",
   "mimetype": "text/x-python",
   "name": "python",
   "nbconvert_exporter": "python",
   "pygments_lexer": "ipython3",
   "version": "3.8.5"
  },
  "latex_envs": {
   "LaTeX_envs_menu_present": true,
   "autocomplete": true,
   "bibliofile": "biblio.bib",
   "cite_by": "apalike",
   "current_citInitial": 1,
   "eqLabelWithNumbers": true,
   "eqNumInitial": 1,
   "hotkeys": {
    "equation": "Ctrl-E",
    "itemize": "Ctrl-I"
   },
   "labels_anchors": false,
   "latex_user_defs": false,
   "report_style_numbering": false,
   "user_envs_cfg": false
  },
  "toc": {
   "nav_menu": {},
   "number_sections": true,
   "sideBar": true,
   "skip_h1_title": false,
   "toc_cell": false,
   "toc_position": {
    "height": "532px",
    "left": "0px",
    "right": "1043px",
    "top": "134px",
    "width": "212px"
   },
   "toc_section_display": "block",
   "toc_window_display": true
  }
 },
 "nbformat": 4,
 "nbformat_minor": 2
}
