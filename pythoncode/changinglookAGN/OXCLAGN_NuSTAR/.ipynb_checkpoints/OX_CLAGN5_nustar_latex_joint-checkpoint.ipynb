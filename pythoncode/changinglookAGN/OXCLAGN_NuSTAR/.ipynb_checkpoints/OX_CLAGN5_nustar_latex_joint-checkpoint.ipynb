{
 "cells": [
  {
   "cell_type": "markdown",
   "metadata": {
    "toc": true
   },
   "source": [
    "<h1>Table of Contents<span class=\"tocSkip\"></span></h1>\n",
    "<div class=\"toc\"><ul class=\"toc-item\"><li><span><a href=\"#import\" data-toc-modified-id=\"import-1\"><span class=\"toc-item-num\">1&nbsp;&nbsp;</span>import</a></span><ul class=\"toc-item\"><li><span><a href=\"#timeconvert\" data-toc-modified-id=\"timeconvert-1.1\"><span class=\"toc-item-num\">1.1&nbsp;&nbsp;</span>timeconvert</a></span></li><li><span><a href=\"#cosmo\" data-toc-modified-id=\"cosmo-1.2\"><span class=\"toc-item-num\">1.2&nbsp;&nbsp;</span>cosmo</a></span></li><li><span><a href=\"#fitting\" data-toc-modified-id=\"fitting-1.3\"><span class=\"toc-item-num\">1.3&nbsp;&nbsp;</span>fitting</a></span></li></ul></li><li><span><a href=\"#xspec\" data-toc-modified-id=\"xspec-2\"><span class=\"toc-item-num\">2&nbsp;&nbsp;</span>xspec</a></span></li><li><span><a href=\"#OX_CLAGN5_nustar\" data-toc-modified-id=\"OX_CLAGN5_nustar-3\"><span class=\"toc-item-num\">3&nbsp;&nbsp;</span>OX_CLAGN5_nustar</a></span></li><li><span><a href=\"#NED\" data-toc-modified-id=\"NED-4\"><span class=\"toc-item-num\">4&nbsp;&nbsp;</span>NED</a></span><ul class=\"toc-item\"><li><span><a href=\"#OX_CLAGN5_info\" data-toc-modified-id=\"OX_CLAGN5_info-4.1\"><span class=\"toc-item-num\">4.1&nbsp;&nbsp;</span>OX_CLAGN5_info</a></span></li><li><span><a href=\"#bibLatex\" data-toc-modified-id=\"bibLatex-4.2\"><span class=\"toc-item-num\">4.2&nbsp;&nbsp;</span>bibLatex</a></span><ul class=\"toc-item\"><li><span><a href=\"#masserr\" data-toc-modified-id=\"masserr-4.2.1\"><span class=\"toc-item-num\">4.2.1&nbsp;&nbsp;</span>masserr</a></span></li></ul></li><li><span><a href=\"#variability\" data-toc-modified-id=\"variability-4.3\"><span class=\"toc-item-num\">4.3&nbsp;&nbsp;</span>variability</a></span></li></ul></li><li><span><a href=\"#plot_lightcurve\" data-toc-modified-id=\"plot_lightcurve-5\"><span class=\"toc-item-num\">5&nbsp;&nbsp;</span>plot_lightcurve</a></span></li><li><span><a href=\"#mission=swift\" data-toc-modified-id=\"mission=swift-6\"><span class=\"toc-item-num\">6&nbsp;&nbsp;</span>mission=swift</a></span></li><li><span><a href=\"#mission=-xmm\" data-toc-modified-id=\"mission=-xmm-7\"><span class=\"toc-item-num\">7&nbsp;&nbsp;</span>mission= xmm</a></span></li><li><span><a href=\"#mission-=-'numaster'\" data-toc-modified-id=\"mission-=-'numaster'-8\"><span class=\"toc-item-num\">8&nbsp;&nbsp;</span>mission = 'numaster'</a></span><ul class=\"toc-item\"><li><span><a href=\"#latex\" data-toc-modified-id=\"latex-8.1\"><span class=\"toc-item-num\">8.1&nbsp;&nbsp;</span>latex</a></span></li><li><span><a href=\"#net_count_rates\" data-toc-modified-id=\"net_count_rates-8.2\"><span class=\"toc-item-num\">8.2&nbsp;&nbsp;</span>net_count_rates</a></span></li><li><span><a href=\"#def-get_net_counts_rate\" data-toc-modified-id=\"def-get_net_counts_rate-8.3\"><span class=\"toc-item-num\">8.3&nbsp;&nbsp;</span>def get_net_counts_rate</a></span></li><li><span><a href=\"#latex_variability\" data-toc-modified-id=\"latex_variability-8.4\"><span class=\"toc-item-num\">8.4&nbsp;&nbsp;</span>latex_variability</a></span></li><li><span><a href=\"#ESO-362-G18\" data-toc-modified-id=\"ESO-362-G18-8.5\"><span class=\"toc-item-num\">8.5&nbsp;&nbsp;</span>ESO 362-G18</a></span></li><li><span><a href=\"#NGC-2992\" data-toc-modified-id=\"NGC-2992-8.6\"><span class=\"toc-item-num\">8.6&nbsp;&nbsp;</span>NGC 2992</a></span></li><li><span><a href=\"#NGC-4151\" data-toc-modified-id=\"NGC-4151-8.7\"><span class=\"toc-item-num\">8.7&nbsp;&nbsp;</span>NGC 4151</a></span></li><li><span><a href=\"#NGC-4395\" data-toc-modified-id=\"NGC-4395-8.8\"><span class=\"toc-item-num\">8.8&nbsp;&nbsp;</span>NGC 4395</a></span></li><li><span><a href=\"#NGC-7582\" data-toc-modified-id=\"NGC-7582-8.9\"><span class=\"toc-item-num\">8.9&nbsp;&nbsp;</span>NGC 7582</a></span></li><li><span><a href=\"#NGC1365Liuhao\" data-toc-modified-id=\"NGC1365Liuhao-8.10\"><span class=\"toc-item-num\">8.10&nbsp;&nbsp;</span>NGC1365Liuhao</a></span></li><li><span><a href=\"#NGC7582\" data-toc-modified-id=\"NGC7582-8.11\"><span class=\"toc-item-num\">8.11&nbsp;&nbsp;</span>NGC7582</a></span></li><li><span><a href=\"#Mpc-distance\" data-toc-modified-id=\"Mpc-distance-8.12\"><span class=\"toc-item-num\">8.12&nbsp;&nbsp;</span>Mpc distance</a></span></li></ul></li><li><span><a href=\"#def_plot_\" data-toc-modified-id=\"def_plot_-9\"><span class=\"toc-item-num\">9&nbsp;&nbsp;</span>def_plot_</a></span></li><li><span><a href=\"#result\" data-toc-modified-id=\"result-10\"><span class=\"toc-item-num\">10&nbsp;&nbsp;</span>result</a></span><ul class=\"toc-item\"><li><span><a href=\"#slab_zgauss\" data-toc-modified-id=\"slab_zgauss-10.1\"><span class=\"toc-item-num\">10.1&nbsp;&nbsp;</span>slab_zgauss</a></span></li><li><span><a href=\"#slab_pexrav\" data-toc-modified-id=\"slab_pexrav-10.2\"><span class=\"toc-item-num\">10.2&nbsp;&nbsp;</span>slab_pexrav</a></span></li><li><span><a href=\"#slab_pexrav_fscat\" data-toc-modified-id=\"slab_pexrav_fscat-10.3\"><span class=\"toc-item-num\">10.3&nbsp;&nbsp;</span>slab_pexrav_fscat</a></span></li><li><span><a href=\"#plot_slab\" data-toc-modified-id=\"plot_slab-10.4\"><span class=\"toc-item-num\">10.4&nbsp;&nbsp;</span>plot_slab</a></span><ul class=\"toc-item\"><li><span><a href=\"#slabintrinsicL\" data-toc-modified-id=\"slabintrinsicL-10.4.1\"><span class=\"toc-item-num\">10.4.1&nbsp;&nbsp;</span>slabintrinsicL</a></span></li><li><span><a href=\"#logLx_int_ned\" data-toc-modified-id=\"logLx_int_ned-10.4.2\"><span class=\"toc-item-num\">10.4.2&nbsp;&nbsp;</span>logLx_int_ned</a></span></li><li><span><a href=\"#logfint_norm\" data-toc-modified-id=\"logfint_norm-10.4.3\"><span class=\"toc-item-num\">10.4.3&nbsp;&nbsp;</span>logfint_norm</a></span></li><li><span><a href=\"#slab_latex\" data-toc-modified-id=\"slab_latex-10.4.4\"><span class=\"toc-item-num\">10.4.4&nbsp;&nbsp;</span>slab_latex</a></span></li><li><span><a href=\"#plotall\" data-toc-modified-id=\"plotall-10.4.5\"><span class=\"toc-item-num\">10.4.5&nbsp;&nbsp;</span>plotall</a></span></li><li><span><a href=\"#plot3para\" data-toc-modified-id=\"plot3para-10.4.6\"><span class=\"toc-item-num\">10.4.6&nbsp;&nbsp;</span>plot3para</a></span></li><li><span><a href=\"#plot-logL-nh\" data-toc-modified-id=\"plot-logL-nh-10.4.7\"><span class=\"toc-item-num\">10.4.7&nbsp;&nbsp;</span>plot logL nh</a></span></li><li><span><a href=\"#plot4para-fint\" data-toc-modified-id=\"plot4para-fint-10.4.8\"><span class=\"toc-item-num\">10.4.8&nbsp;&nbsp;</span>plot4para fint</a></span></li><li><span><a href=\"#plot_literature\" data-toc-modified-id=\"plot_literature-10.4.9\"><span class=\"toc-item-num\">10.4.9&nbsp;&nbsp;</span>plot_literature</a></span></li><li><span><a href=\"#plot-normfint\" data-toc-modified-id=\"plot-normfint-10.4.10\"><span class=\"toc-item-num\">10.4.10&nbsp;&nbsp;</span>plot normfint</a></span></li><li><span><a href=\"#Lobs\" data-toc-modified-id=\"Lobs-10.4.11\"><span class=\"toc-item-num\">10.4.11&nbsp;&nbsp;</span>Lobs</a></span></li><li><span><a href=\"#Lned\" data-toc-modified-id=\"Lned-10.4.12\"><span class=\"toc-item-num\">10.4.12&nbsp;&nbsp;</span>Lned</a></span></li><li><span><a href=\"#pearsonr-and-slopes\" data-toc-modified-id=\"pearsonr-and-slopes-10.4.13\"><span class=\"toc-item-num\">10.4.13&nbsp;&nbsp;</span>pearsonr and slopes</a></span></li><li><span><a href=\"#gamma-ledd\" data-toc-modified-id=\"gamma-ledd-10.4.14\"><span class=\"toc-item-num\">10.4.14&nbsp;&nbsp;</span>gamma-ledd</a></span></li><li><span><a href=\"#gamma_lx\" data-toc-modified-id=\"gamma_lx-10.4.15\"><span class=\"toc-item-num\">10.4.15&nbsp;&nbsp;</span>gamma_lx</a></span></li><li><span><a href=\"#scipy.stats.linregress\" data-toc-modified-id=\"scipy.stats.linregress-10.4.16\"><span class=\"toc-item-num\">10.4.16&nbsp;&nbsp;</span>scipy.stats.linregress</a></span></li><li><span><a href=\"#nh-lX\" data-toc-modified-id=\"nh-lX-10.4.17\"><span class=\"toc-item-num\">10.4.17&nbsp;&nbsp;</span>nh-lX</a></span></li><li><span><a href=\"#nh-ledd\" data-toc-modified-id=\"nh-ledd-10.4.18\"><span class=\"toc-item-num\">10.4.18&nbsp;&nbsp;</span>nh-ledd</a></span><ul class=\"toc-item\"><li><span><a href=\"#EW\" data-toc-modified-id=\"EW-10.4.18.1\"><span class=\"toc-item-num\">10.4.18.1&nbsp;&nbsp;</span>EW</a></span></li></ul></li></ul></li><li><span><a href=\"#fitted_line_2-10-and-10-50\" data-toc-modified-id=\"fitted_line_2-10-and-10-50-10.5\"><span class=\"toc-item-num\">10.5&nbsp;&nbsp;</span>fitted_line_2-10 and 10-50</a></span><ul class=\"toc-item\"><li><span><a href=\"#plot-2-10-10-50keV\" data-toc-modified-id=\"plot-2-10-10-50keV-10.5.1\"><span class=\"toc-item-num\">10.5.1&nbsp;&nbsp;</span>plot 2-10 10-50keV</a></span></li><li><span><a href=\"#Gamma_Lx/Ledd\" data-toc-modified-id=\"Gamma_Lx/Ledd-10.5.2\"><span class=\"toc-item-num\">10.5.2&nbsp;&nbsp;</span>Gamma_Lx/Ledd</a></span></li><li><span><a href=\"#NH-inclination\" data-toc-modified-id=\"NH-inclination-10.5.3\"><span class=\"toc-item-num\">10.5.3&nbsp;&nbsp;</span>NH-inclination</a></span></li><li><span><a href=\"#NH-Lx/Ledd\" data-toc-modified-id=\"NH-Lx/Ledd-10.5.4\"><span class=\"toc-item-num\">10.5.4&nbsp;&nbsp;</span>NH-Lx/Ledd</a></span></li><li><span><a href=\"#NH-Gamma\" data-toc-modified-id=\"NH-Gamma-10.5.5\"><span class=\"toc-item-num\">10.5.5&nbsp;&nbsp;</span>NH-Gamma</a></span></li><li><span><a href=\"#zgauss-Lx/Ledd\" data-toc-modified-id=\"zgauss-Lx/Ledd-10.5.6\"><span class=\"toc-item-num\">10.5.6&nbsp;&nbsp;</span>zgauss-Lx/Ledd</a></span></li></ul></li><li><span><a href=\"#Plot-xillverCp\" data-toc-modified-id=\"Plot-xillverCp-10.6\"><span class=\"toc-item-num\">10.6&nbsp;&nbsp;</span>Plot xillverCp</a></span><ul class=\"toc-item\"><li><span><a href=\"#obs_xillverCp_zgauss\" data-toc-modified-id=\"obs_xillverCp_zgauss-10.6.1\"><span class=\"toc-item-num\">10.6.1&nbsp;&nbsp;</span>obs_xillverCp_zgauss</a></span></li><li><span><a href=\"#obs_xillverCp_zgauss_10to50keV\" data-toc-modified-id=\"obs_xillverCp_zgauss_10to50keV-10.6.2\"><span class=\"toc-item-num\">10.6.2&nbsp;&nbsp;</span>obs_xillverCp_zgauss_10to50keV</a></span></li><li><span><a href=\"#intr_xillverCp\" data-toc-modified-id=\"intr_xillverCp-10.6.3\"><span class=\"toc-item-num\">10.6.3&nbsp;&nbsp;</span>intr_xillverCp</a></span></li><li><span><a href=\"#intr_xillverCp_zgauss\" data-toc-modified-id=\"intr_xillverCp_zgauss-10.6.4\"><span class=\"toc-item-num\">10.6.4&nbsp;&nbsp;</span>intr_xillverCp_zgauss</a></span></li><li><span><a href=\"#intr_xillverCp_zgauss_10to50keV_result\" data-toc-modified-id=\"intr_xillverCp_zgauss_10to50keV_result-10.6.5\"><span class=\"toc-item-num\">10.6.5&nbsp;&nbsp;</span>intr_xillverCp_zgauss_10to50keV_result</a></span></li></ul></li><li><span><a href=\"#xillverCp_final\" data-toc-modified-id=\"xillverCp_final-10.7\"><span class=\"toc-item-num\">10.7&nbsp;&nbsp;</span>xillverCp_final</a></span><ul class=\"toc-item\"><li><span><a href=\"#latex\" data-toc-modified-id=\"latex-10.7.1\"><span class=\"toc-item-num\">10.7.1&nbsp;&nbsp;</span>latex</a></span></li><li><span><a href=\"#plot_xillver_Ledd\" data-toc-modified-id=\"plot_xillver_Ledd-10.7.2\"><span class=\"toc-item-num\">10.7.2&nbsp;&nbsp;</span>plot_xillver_Ledd</a></span></li><li><span><a href=\"#L\" data-toc-modified-id=\"L-10.7.3\"><span class=\"toc-item-num\">10.7.3&nbsp;&nbsp;</span>L</a></span></li><li><span><a href=\"#fit_L2-10-10-50\" data-toc-modified-id=\"fit_L2-10-10-50-10.7.4\"><span class=\"toc-item-num\">10.7.4&nbsp;&nbsp;</span>fit_L2-10 10-50</a></span></li><li><span><a href=\"#plot_L2-10-vs-L10-50\" data-toc-modified-id=\"plot_L2-10-vs-L10-50-10.7.5\"><span class=\"toc-item-num\">10.7.5&nbsp;&nbsp;</span>plot_L2-10 vs L10-50</a></span></li><li><span><a href=\"#kTe-Ref\" data-toc-modified-id=\"kTe-Ref-10.7.6\"><span class=\"toc-item-num\">10.7.6&nbsp;&nbsp;</span>kTe Ref</a></span></li></ul></li><li><span><a href=\"#relxillCp\" data-toc-modified-id=\"relxillCp-10.8\"><span class=\"toc-item-num\">10.8&nbsp;&nbsp;</span>relxillCp</a></span></li><li><span><a href=\"#plot-xclumpy\" data-toc-modified-id=\"plot-xclumpy-10.9\"><span class=\"toc-item-num\">10.9&nbsp;&nbsp;</span>plot xclumpy</a></span><ul class=\"toc-item\"><li><span><a href=\"#xclumpy_latex\" data-toc-modified-id=\"xclumpy_latex-10.9.1\"><span class=\"toc-item-num\">10.9.1&nbsp;&nbsp;</span>xclumpy_latex</a></span></li><li><span><a href=\"#plot3para\" data-toc-modified-id=\"plot3para-10.9.2\"><span class=\"toc-item-num\">10.9.2&nbsp;&nbsp;</span>plot3para</a></span></li><li><span><a href=\"#plotLx\" data-toc-modified-id=\"plotLx-10.9.3\"><span class=\"toc-item-num\">10.9.3&nbsp;&nbsp;</span>plotLx</a></span></li></ul></li><li><span><a href=\"#plot-uxclumpy\" data-toc-modified-id=\"plot-uxclumpy-10.10\"><span class=\"toc-item-num\">10.10&nbsp;&nbsp;</span>plot uxclumpy</a></span><ul class=\"toc-item\"><li><span><a href=\"#uxclumpy_latex\" data-toc-modified-id=\"uxclumpy_latex-10.10.1\"><span class=\"toc-item-num\">10.10.1&nbsp;&nbsp;</span>uxclumpy_latex</a></span></li><li><span><a href=\"#plot3para\" data-toc-modified-id=\"plot3para-10.10.2\"><span class=\"toc-item-num\">10.10.2&nbsp;&nbsp;</span>plot3para</a></span></li><li><span><a href=\"#plot-LX\" data-toc-modified-id=\"plot-LX-10.10.3\"><span class=\"toc-item-num\">10.10.3&nbsp;&nbsp;</span>plot LX</a></span></li></ul></li><li><span><a href=\"#borus02\" data-toc-modified-id=\"borus02-10.11\"><span class=\"toc-item-num\">10.11&nbsp;&nbsp;</span>borus02</a></span><ul class=\"toc-item\"><li><span><a href=\"#borus_latex\" data-toc-modified-id=\"borus_latex-10.11.1\"><span class=\"toc-item-num\">10.11.1&nbsp;&nbsp;</span>borus_latex</a></span></li><li><span><a href=\"#plot3para\" data-toc-modified-id=\"plot3para-10.11.2\"><span class=\"toc-item-num\">10.11.2&nbsp;&nbsp;</span>plot3para</a></span></li><li><span><a href=\"#plot-LX\" data-toc-modified-id=\"plot-LX-10.11.3\"><span class=\"toc-item-num\">10.11.3&nbsp;&nbsp;</span>plot LX</a></span></li></ul></li><li><span><a href=\"#rxtorus\" data-toc-modified-id=\"rxtorus-10.12\"><span class=\"toc-item-num\">10.12&nbsp;&nbsp;</span>rxtorus</a></span><ul class=\"toc-item\"><li><span><a href=\"#rxtorus_latex\" data-toc-modified-id=\"rxtorus_latex-10.12.1\"><span class=\"toc-item-num\">10.12.1&nbsp;&nbsp;</span>rxtorus_latex</a></span></li><li><span><a href=\"#plot3para\" data-toc-modified-id=\"plot3para-10.12.2\"><span class=\"toc-item-num\">10.12.2&nbsp;&nbsp;</span>plot3para</a></span></li><li><span><a href=\"#plotLX\" data-toc-modified-id=\"plotLX-10.12.3\"><span class=\"toc-item-num\">10.12.3&nbsp;&nbsp;</span>plotLX</a></span></li></ul></li><li><span><a href=\"#mytorus_couple\" data-toc-modified-id=\"mytorus_couple-10.13\"><span class=\"toc-item-num\">10.13&nbsp;&nbsp;</span>mytorus_couple</a></span><ul class=\"toc-item\"><li><span><a href=\"#MYTC_latex\" data-toc-modified-id=\"MYTC_latex-10.13.1\"><span class=\"toc-item-num\">10.13.1&nbsp;&nbsp;</span>MYTC_latex</a></span></li><li><span><a href=\"#plot3para\" data-toc-modified-id=\"plot3para-10.13.2\"><span class=\"toc-item-num\">10.13.2&nbsp;&nbsp;</span>plot3para</a></span></li><li><span><a href=\"#plotLX\" data-toc-modified-id=\"plotLX-10.13.3\"><span class=\"toc-item-num\">10.13.3&nbsp;&nbsp;</span>plotLX</a></span></li></ul></li><li><span><a href=\"#mytorus_decouple\" data-toc-modified-id=\"mytorus_decouple-10.14\"><span class=\"toc-item-num\">10.14&nbsp;&nbsp;</span>mytorus_decouple</a></span><ul class=\"toc-item\"><li><span><a href=\"#MYTD_latex\" data-toc-modified-id=\"MYTD_latex-10.14.1\"><span class=\"toc-item-num\">10.14.1&nbsp;&nbsp;</span>MYTD_latex</a></span></li><li><span><a href=\"#plot3para\" data-toc-modified-id=\"plot3para-10.14.2\"><span class=\"toc-item-num\">10.14.2&nbsp;&nbsp;</span>plot3para</a></span></li><li><span><a href=\"#plot-LX\" data-toc-modified-id=\"plot-LX-10.14.3\"><span class=\"toc-item-num\">10.14.3&nbsp;&nbsp;</span>plot LX</a></span></li></ul></li></ul></li><li><span><a href=\"#f_intrinsic(gamma,norm,z)\" data-toc-modified-id=\"f_intrinsic(gamma,norm,z)-11\"><span class=\"toc-item-num\">11&nbsp;&nbsp;</span>f_intrinsic(gamma,norm,z)</a></span></li><li><span><a href=\"#uncertainties\" data-toc-modified-id=\"uncertainties-12\"><span class=\"toc-item-num\">12&nbsp;&nbsp;</span>uncertainties</a></span><ul class=\"toc-item\"><li><span><a href=\"#siml_results\" data-toc-modified-id=\"siml_results-12.1\"><span class=\"toc-item-num\">12.1&nbsp;&nbsp;</span>siml_results</a></span></li><li><span><a href=\"#mcmc-result\" data-toc-modified-id=\"mcmc-result-12.2\"><span class=\"toc-item-num\">12.2&nbsp;&nbsp;</span>mcmc result</a></span></li><li><span><a href=\"#sim_slopes_nhLx=\" data-toc-modified-id=\"sim_slopes_nhLx=-12.3\"><span class=\"toc-item-num\">12.3&nbsp;&nbsp;</span>sim_slopes_nhLx=</a></span></li><li><span><a href=\"#test_degenercy\" data-toc-modified-id=\"test_degenercy-12.4\"><span class=\"toc-item-num\">12.4&nbsp;&nbsp;</span>test_degenercy</a></span></li><li><span><a href=\"#slopes_nhLx_mcmc\" data-toc-modified-id=\"slopes_nhLx_mcmc-12.5\"><span class=\"toc-item-num\">12.5&nbsp;&nbsp;</span>slopes_nhLx_mcmc</a></span></li><li><span><a href=\"#slopes_nhledd_mcmc\" data-toc-modified-id=\"slopes_nhledd_mcmc-12.6\"><span class=\"toc-item-num\">12.6&nbsp;&nbsp;</span>slopes_nhledd_mcmc</a></span></li></ul></li><li><span><a href=\"#Literature\" data-toc-modified-id=\"Literature-13\"><span class=\"toc-item-num\">13&nbsp;&nbsp;</span>Literature</a></span><ul class=\"toc-item\"><li><span><a href=\"#latex_literature\" data-toc-modified-id=\"latex_literature-13.1\"><span class=\"toc-item-num\">13.1&nbsp;&nbsp;</span>latex_literature</a></span></li></ul></li><li><span><a href=\"#data_literatureEW\" data-toc-modified-id=\"data_literatureEW-14\"><span class=\"toc-item-num\">14&nbsp;&nbsp;</span>data_literatureEW</a></span></li><li><span><a href=\"#Joint-EW_L\" data-toc-modified-id=\"Joint-EW_L-15\"><span class=\"toc-item-num\">15&nbsp;&nbsp;</span>Joint EW_L</a></span><ul class=\"toc-item\"><li><span><a href=\"#Lx/Ledd-EW\" data-toc-modified-id=\"Lx/Ledd-EW-15.1\"><span class=\"toc-item-num\">15.1&nbsp;&nbsp;</span>Lx/Ledd-EW</a></span></li><li><span><a href=\"#L-EW\" data-toc-modified-id=\"L-EW-15.2\"><span class=\"toc-item-num\">15.2&nbsp;&nbsp;</span>L-EW</a></span></li><li><span><a href=\"#logf-EW\" data-toc-modified-id=\"logf-EW-15.3\"><span class=\"toc-item-num\">15.3&nbsp;&nbsp;</span>logf EW</a></span></li></ul></li><li><span><a href=\"#NGC1566\" data-toc-modified-id=\"NGC1566-16\"><span class=\"toc-item-num\">16&nbsp;&nbsp;</span>NGC1566</a></span></li><li><span><a href=\"#NGC-4507\" data-toc-modified-id=\"NGC-4507-17\"><span class=\"toc-item-num\">17&nbsp;&nbsp;</span>NGC 4507</a></span><ul class=\"toc-item\"><li><span><a href=\"#Slab\" data-toc-modified-id=\"Slab-17.1\"><span class=\"toc-item-num\">17.1&nbsp;&nbsp;</span>Slab</a></span></li><li><span><a href=\"#mytorus-coupled\" data-toc-modified-id=\"mytorus-coupled-17.2\"><span class=\"toc-item-num\">17.2&nbsp;&nbsp;</span>mytorus coupled</a></span></li><li><span><a href=\"#mytorus-coupled\" data-toc-modified-id=\"mytorus-coupled-17.3\"><span class=\"toc-item-num\">17.3&nbsp;&nbsp;</span>mytorus coupled</a></span></li><li><span><a href=\"#borus02\" data-toc-modified-id=\"borus02-17.4\"><span class=\"toc-item-num\">17.4&nbsp;&nbsp;</span>borus02</a></span></li><li><span><a href=\"#XCLUMPY\" data-toc-modified-id=\"XCLUMPY-17.5\"><span class=\"toc-item-num\">17.5&nbsp;&nbsp;</span>XCLUMPY</a></span></li><li><span><a href=\"#RXTORUS\" data-toc-modified-id=\"RXTORUS-17.6\"><span class=\"toc-item-num\">17.6&nbsp;&nbsp;</span>RXTORUS</a></span></li></ul></li><li><span><a href=\"#turn-off-AGN\" data-toc-modified-id=\"turn-off-AGN-18\"><span class=\"toc-item-num\">18&nbsp;&nbsp;</span>turn off AGN</a></span><ul class=\"toc-item\"><li><span><a href=\"#plot-M-time\" data-toc-modified-id=\"plot-M-time-18.1\"><span class=\"toc-item-num\">18.1&nbsp;&nbsp;</span>plot M time</a></span></li></ul></li></ul></div>"
   ]
  },
  {
   "cell_type": "markdown",
   "metadata": {},
   "source": [
    "# import"
   ]
  },
  {
   "cell_type": "code",
   "execution_count": 1,
   "metadata": {
    "ExecuteTime": {
     "end_time": "2023-12-02T08:05:10.265990Z",
     "start_time": "2023-12-02T08:05:09.660692Z"
    }
   },
   "outputs": [],
   "source": [
    "import matplotlib as mpl\n",
    "import matplotlib.pyplot as plt\n",
    "import matplotlib.ticker as ticker\n",
    "from pylab import cm\n",
    "\n",
    "import matplotlib.dates as mdates\n",
    "from matplotlib.pyplot import MultipleLocator\n",
    "import matplotlib.dates as mdates\n",
    "from matplotlib.transforms import Transform\n",
    "from matplotlib.ticker import (AutoLocator, AutoMinorLocator)\n",
    "from matplotlib.dates import DateFormatter\n",
    "#import matplotlib.cm as cm\n",
    "import matplotlib.colors as colors\n",
    "from collections import OrderedDict"
   ]
  },
  {
   "cell_type": "code",
   "execution_count": 2,
   "metadata": {
    "ExecuteTime": {
     "end_time": "2023-12-02T08:05:12.303785Z",
     "start_time": "2023-12-02T08:05:11.170353Z"
    }
   },
   "outputs": [],
   "source": [
    "from scipy.stats.stats import pearsonr\n",
    "from scipy.stats import spearmanr#\n",
    "from scipy import stats \n",
    "import scipy.stats\n",
    "\n",
    "import matplotlib.pyplot as plt\n",
    "from pylab import cm\n",
    "import matplotlib as mpl\n",
    "\n",
    "from collections import OrderedDict\n",
    "from adjustText import adjust_text\n",
    "\n",
    "%matplotlib inline\n",
    "%config InlineBackend.figure_format='svg'\n",
    "# Edit the font, font size, and axes width\n",
    "mpl.rcParams['font.family'] = 'Times New Roman'\n",
    "plt.rcParams['font.size'] = 18\n",
    "plt.rcParams['axes.linewidth'] = 2"
   ]
  },
  {
   "cell_type": "code",
   "execution_count": 3,
   "metadata": {
    "ExecuteTime": {
     "end_time": "2023-12-02T08:05:12.348942Z",
     "start_time": "2023-12-02T08:05:12.305423Z"
    }
   },
   "outputs": [],
   "source": [
    "from adjustText import adjust_text\n",
    "import matplotlib as mpl\n",
    "def set_ax_tick(ax):\n",
    "    ax.xaxis.set_tick_params(which='major', size=10, width=2, direction='in', top='on',)\n",
    "    ax.xaxis.set_tick_params(which='minor', size=5, width=2, direction='in', top='on')\n",
    "    ax.yaxis.set_tick_params(which='major', size=10, width=2, direction='in', right='on')\n",
    "    ax.yaxis.set_tick_params(which='minor', size=5, width=2, direction='in', right='on')\n",
    "\n",
    "def set_ax_locator(ax,xma=1,xmi=0.2,yma=1,ymi=0.2):\n",
    "    ax.xaxis.set_major_locator(mpl.ticker.MultipleLocator(xma))\n",
    "    ax.xaxis.set_minor_locator(mpl.ticker.MultipleLocator(xmi))\n",
    "    ax.yaxis.set_major_locator(mpl.ticker.MultipleLocator(yma))\n",
    "    ax.yaxis.set_minor_locator(mpl.ticker.MultipleLocator(ymi))\n",
    "    \n",
    "def plot_secax(ax,mi_interval=365,ma_interval=365*2,rotation=30,):\n",
    "    secax1 = ax.secondary_xaxis('top', functions=(mjd2numsdate,datenums2mjd))\n",
    "    secax1.xaxis.set_major_formatter(mdates.DateFormatter(\"%Y-%m\"))\n",
    "    secax1.xaxis.set_major_locator(mdates.DayLocator(interval=ma_interval))\n",
    "    secax1.xaxis.set_minor_locator(mdates.DayLocator(interval=mi_interval))\n",
    "    secax1.xaxis.set_tick_params(which='major', size=10, width=2, direction='out')\n",
    "    secax1.xaxis.set_tick_params(which='minor', size=5, width=2, direction='out')\n",
    "    secax1.xaxis.set_tick_params(which='major', size=10, width=2, direction='out', rotation=rotation,)    \n",
    "    \n",
    "def set_ax_legend(ax,bbox_to_anchor=(0.01, 0.99)):\n",
    "    ax.xaxis.set_tick_params(which='major', size=10, width=2, rotation=0,)\n",
    "    handles, labels = ax.get_legend_handles_labels()\n",
    "    # remove the errorbars\n",
    "    #hdl = [h[0] for h in handles]\n",
    "    hdl = handles\n",
    "    labels_dict=dict(zip(labels, hdl)) #key,values\n",
    "    by_label=OrderedDict(sorted(labels_dict.items(),key=lambda t:t[0]))\n",
    "    #by_label = OrderedDict(zip(labels, handles))\n",
    "    ax.legend(by_label.values(), by_label.keys(), bbox_to_anchor=bbox_to_anchor,\n",
    "              loc=2, numpoints=1,ncol=1,fontsize=11.)\n",
    "    \n",
    "def set_ax_legend_sequence(ax,bbox_to_anchor=(0.01, 0.99)):\n",
    "    ax.xaxis.set_tick_params(which='major', size=10, width=2, rotation=0,)\n",
    "    handles, labels = ax.get_legend_handles_labels()\n",
    "    # remove the errorbars\n",
    "    #hdl = [h[0] for h in handles]\n",
    "    hdl = handles\n",
    "    labels_dict=dict(zip(labels, hdl)) #key,values\n",
    "    #by_label=OrderedDict(sorted(labels_dict.items(),key=lambda t:t[0]))\n",
    "    by_label = OrderedDict(zip(labels, handles))\n",
    "    ax.legend(by_label.values(), by_label.keys(), bbox_to_anchor=bbox_to_anchor,\n",
    "              loc=2, numpoints=1,ncol=1,fontsize=11.)    \n",
    "    \n",
    "\n",
    "def set_mag_ylim(ax):\n",
    "    bottom, top = ax.set_ylim()\n",
    "    if bottom< top:\n",
    "        ax.set_ylim(top,bottom)   \n",
    "        \n",
    "        \n",
    "def set_mag_xlim(ax):\n",
    "    bottom, top = ax.set_xlim()\n",
    "    if bottom< top:\n",
    "        ax.set_xlim(top,bottom)           "
   ]
  },
  {
   "cell_type": "code",
   "execution_count": 4,
   "metadata": {
    "ExecuteTime": {
     "end_time": "2023-12-02T08:05:12.726609Z",
     "start_time": "2023-12-02T08:05:12.718568Z"
    }
   },
   "outputs": [],
   "source": [
    "def drop_index(data):\n",
    "    data=data.reset_index(drop=True)\n",
    "    return data"
   ]
  },
  {
   "cell_type": "code",
   "execution_count": 5,
   "metadata": {
    "ExecuteTime": {
     "end_time": "2023-12-02T08:05:14.258273Z",
     "start_time": "2023-12-02T08:05:13.404488Z"
    }
   },
   "outputs": [],
   "source": [
    "import pandas as pd\n",
    "import numpy as np\n",
    "import os\n",
    "\n",
    "def get_obsids(path):\n",
    "    dirname=os.listdir(path)\n",
    "    obsids=[]\n",
    "    for i in dirname:\n",
    "        if i.isdigit():\n",
    "            obsids.append(i)\n",
    "    obsids.sort()        \n",
    "    return obsids"
   ]
  },
  {
   "cell_type": "markdown",
   "metadata": {},
   "source": [
    "## timeconvert"
   ]
  },
  {
   "cell_type": "code",
   "execution_count": 6,
   "metadata": {
    "ExecuteTime": {
     "end_time": "2023-12-02T08:05:15.043515Z",
     "start_time": "2023-12-02T08:05:14.521686Z"
    }
   },
   "outputs": [],
   "source": [
    "from astropy.time import Time\n",
    "from astropy.io import fits\n",
    "import time\n",
    "from matplotlib.pyplot import MultipleLocator\n",
    "import matplotlib.dates as mdates\n",
    "\n",
    "def datetime2mjd(x):\n",
    "    mjd_ref=59000\n",
    "    mjd_minus_mdates_num=mdates.date2num(convert_xaxis_time(mjd_ref))-mjd_ref\n",
    "    \n",
    "    x=mdates.date2num(x)\n",
    "    y = x - mjd_minus_mdates_num   \n",
    "    return y\n",
    "\n",
    "def mjd2datetime(x):\n",
    "    mjd_ref=59000\n",
    "    mjd_minus_mdates_num=mdates.date2num(convert_xaxis_time(mjd_ref))-mjd_ref\n",
    "    y= x + mjd_minus_mdates_num\n",
    "    y= mdates.num2date(y)\n",
    "    return y\n",
    "\n",
    "\n",
    "\n",
    "def datenums2mjd(x):\n",
    "    #x=mdates.date2num(x)\n",
    "    mjd_ref=59000\n",
    "    mjd_minus_mdates_num=mdates.date2num(convert_xaxis_time(mjd_ref))-mjd_ref\n",
    "    y = x - mjd_minus_mdates_num   \n",
    "    return y\n",
    "\n",
    "def mjd2numsdate(x):\n",
    "    mjd_ref=59000\n",
    "    mjd_minus_mdates_num=mdates.date2num(convert_xaxis_time(mjd_ref))-mjd_ref\n",
    "    \n",
    "    y= x + mjd_minus_mdates_num\n",
    "    #y= mdates.num2date(y)\n",
    "    return y\n",
    "\n",
    "\n",
    "def convert_xaxis_mjd(time):\n",
    "    return Time(time).mjd   \n",
    "\n",
    "def convert_xaxis_time(mjd):\n",
    "    return Time(mjd,format='mjd').to_datetime()\n",
    "\n",
    "\n",
    "def date2yday(x):\n",
    "    \"\"\"\n",
    "    x is in matplotlib datenums, so they are floats.\n",
    "    \"\"\"\n",
    "    y = x - mdates.date2num(datetime(2018, 1, 1))\n",
    "    return y\n",
    "\n",
    "def yday2date(x):\n",
    "    \"\"\"\n",
    "    return a matplotlib datenum (x is days since start of year of 2018)\n",
    "    \"\"\"\n",
    "    y = x + mdates.date2num(datetime(2018, 1, 1))\n",
    "    return y\n",
    "\n",
    "\n",
    "def convert_partial_year(numbers):\n",
    "    datetimes=[]\n",
    "    for number in numbers:\n",
    "        year = int(number)\n",
    "        d = timedelta(days=(number - year)*(365 + is_leap(year)))\n",
    "        day_one = datetime(year,1,1)\n",
    "        date = d + day_one\n",
    "        datetimes.append(date)\n",
    "    return datetimes\n",
    "\n",
    "\n",
    "def is_leap(year):\n",
    "    if not year%4 and  year%100 or not year%400:\n",
    "        return True\n",
    "    return False\n",
    "\n",
    "\n",
    "def convert_mjd(times):\n",
    "    timesmjd=[]\n",
    "    for i in times:\n",
    "        timesmjd.append(Time(i).mjd)\n",
    "    return timesmjd  \n",
    "\n",
    "\n",
    "def convert_date(times):\n",
    "    timesdate=[]\n",
    "    for i in times:\n",
    "        timesdate.append(Time(i,format='mjd').datetime)\n",
    "    return timesdate\n",
    "\n",
    "def convert_date_single(time):\n",
    "    timedate=Time(time,format='mjd').datetime\n",
    "    return timedate"
   ]
  },
  {
   "cell_type": "markdown",
   "metadata": {},
   "source": [
    "## cosmo"
   ]
  },
  {
   "cell_type": "code",
   "execution_count": 7,
   "metadata": {
    "ExecuteTime": {
     "end_time": "2023-12-02T08:05:16.027671Z",
     "start_time": "2023-12-02T08:05:15.487545Z"
    }
   },
   "outputs": [],
   "source": [
    "from astropy.cosmology import FlatLambdaCDM,Planck13,Planck15,z_at_value\n",
    "from astropy import units as u\n",
    "from astropy.cosmology import LambdaCDM\n",
    "cosmo = LambdaCDM(H0=70, Om0=0.27, Ode0=0.73)\n",
    "#cosmo=FlatLambdaCDM(H0=73,Om0=0.3)"
   ]
  },
  {
   "cell_type": "code",
   "execution_count": null,
   "metadata": {},
   "outputs": [],
   "source": []
  },
  {
   "cell_type": "code",
   "execution_count": null,
   "metadata": {
    "ExecuteTime": {
     "end_time": "2023-11-26T11:17:03.551878Z",
     "start_time": "2023-11-26T11:17:03.548432Z"
    }
   },
   "outputs": [],
   "source": [
    "print(cosmo.luminosity_distance(z=0.00331900).to(u.Mpc).value)"
   ]
  },
  {
   "cell_type": "code",
   "execution_count": null,
   "metadata": {
    "ExecuteTime": {
     "end_time": "2023-11-26T11:17:04.148271Z",
     "start_time": "2023-11-26T11:17:04.139098Z"
    }
   },
   "outputs": [],
   "source": [
    "print(cosmo.luminosity_distance(z=0.0055).to(u.Mpc).value)"
   ]
  },
  {
   "cell_type": "code",
   "execution_count": null,
   "metadata": {
    "ExecuteTime": {
     "end_time": "2023-10-28T15:06:54.157969Z",
     "start_time": "2023-10-28T15:06:54.150178Z"
    }
   },
   "outputs": [],
   "source": [
    "print(cosmo.luminosity_distance(z=0.005457).to(u.Mpc).value)"
   ]
  },
  {
   "cell_type": "code",
   "execution_count": null,
   "metadata": {},
   "outputs": [],
   "source": []
  },
  {
   "cell_type": "markdown",
   "metadata": {},
   "source": [
    "## fitting"
   ]
  },
  {
   "cell_type": "code",
   "execution_count": 8,
   "metadata": {
    "ExecuteTime": {
     "end_time": "2023-12-02T08:05:18.957666Z",
     "start_time": "2023-12-02T08:05:18.841842Z"
    }
   },
   "outputs": [],
   "source": [
    "import numpy as np\n",
    "import matplotlib.pyplot as plt\n",
    "from astropy.stats import sigma_clip\n",
    "from astropy.modeling import models, fitting"
   ]
  },
  {
   "cell_type": "markdown",
   "metadata": {},
   "source": [
    "# xspec"
   ]
  },
  {
   "cell_type": "markdown",
   "metadata": {},
   "source": [
    "The flux will be calculated for all loaded spectra. If no spectra are loaded (or none of the loaded spectra have a response), the model is evaluated over the energy range determined by its dummy response. (In XSPEC12, models are automatically assigned default dummy responses when there is no data, so the dummyrsp command need not be given.) "
   ]
  },
  {
   "cell_type": "markdown",
   "metadata": {},
   "source": [
    "Q: I want to construct a light curve in a limited energy range but the software needs the PI channel range ('pilow' and 'pihigh'): what is the conversion from PI channel to energy?\n",
    "A: The channel to energy conversion is linear: E = Channel Number * 0.04 keV + 1.6 keV (lower energy range of bin) Channel 0 corresponds to 1.60-1.64 keV, channel 1 corresponds to 1.64-1.68 keV, etc. You can also check the ebounds extension of RMF files (with the 'fv' command) to confirm the relationship between PI value and energy."
   ]
  },
  {
   "cell_type": "code",
   "execution_count": null,
   "metadata": {},
   "outputs": [],
   "source": [
    "1-35,507-2725"
   ]
  },
  {
   "cell_type": "code",
   "execution_count": null,
   "metadata": {
    "ExecuteTime": {
     "end_time": "2022-05-20T12:24:09.319294Z",
     "start_time": "2022-05-20T12:24:09.312721Z"
    }
   },
   "outputs": [],
   "source": [
    "35*0.04+1.6,507*0.04+1.6,2725*0.04+1.6"
   ]
  },
  {
   "cell_type": "code",
   "execution_count": null,
   "metadata": {},
   "outputs": [],
   "source": [
    "ignore **-3.0 60.0-**"
   ]
  },
  {
   "cell_type": "markdown",
   "metadata": {},
   "source": [
    "Gaussian and Lorentzian smoothing models\n",
    "These models by Keith Arnaud (kaa@lheamail.gsfc.nasa.gov) convolve the current model with a gaussian or a lorentzian profile. The width of the gaussian or lorentzian can vary with energy in a power-law relation whose index is the second parameter. The first parameter is the width (sigma) at 6 keV in units of keV. The gaussian smooth source code and lmodel.dat entries are available as are the lorentzian smooth source code and lmodel.dat entries. The gaussian smooth model is called g2smooth to distinguish it from the single-parameter gsmooth model included in the v11 distribution."
   ]
  },
  {
   "cell_type": "markdown",
   "metadata": {},
   "source": [
    "# OX_CLAGN5_nustar"
   ]
  },
  {
   "cell_type": "code",
   "execution_count": 9,
   "metadata": {
    "ExecuteTime": {
     "end_time": "2023-12-02T08:05:21.654446Z",
     "start_time": "2023-12-02T08:05:21.648614Z"
    }
   },
   "outputs": [],
   "source": [
    "NuSTARdatadir='/Users/lyubing/Downloads/OXCLAGN/OXCLAGN_NUSTARDATA/'\n",
    "#model_fitdir='/cargo/public/people/brettlv/Nustar_data'\n",
    "#model_fitdir='/Users/lyubing/Downloads/OXCLAGN/OXCLAGN_NUSTARDATA/torus_xspec_model/'\n",
    "model_fitdir='/Users/lyubing/Downloads/OXCLAGN/OXCLAGN_NUSTARDATA/torus_joint_fit/'"
   ]
  },
  {
   "cell_type": "code",
   "execution_count": null,
   "metadata": {
    "ExecuteTime": {
     "end_time": "2023-08-04T09:14:29.385276Z",
     "start_time": "2023-08-04T09:14:29.378215Z"
    }
   },
   "outputs": [],
   "source": [
    "#OX_CLAGN5_nustar=[ 'ESO 362-G18', 'NGC 2992', 'NGC 4151','NGC 7582'] #'NGC 4395'"
   ]
  },
  {
   "cell_type": "code",
   "execution_count": null,
   "metadata": {
    "ExecuteTime": {
     "end_time": "2023-11-24T08:02:19.684932Z",
     "start_time": "2023-11-24T08:02:19.677419Z"
    }
   },
   "outputs": [],
   "source": [
    "for i in OX_CLAGN5_nustar:\n",
    "    sourcename=i.strip().replace(' ','').replace('-','_')\n",
    "    print(sourcename)    \n"
   ]
  },
  {
   "cell_type": "markdown",
   "metadata": {
    "ExecuteTime": {
     "end_time": "2023-08-08T05:56:25.894478Z",
     "start_time": "2023-08-08T05:56:25.891324Z"
    }
   },
   "source": [
    "OX_CLAGN5_nustar=['ESO 362-G18', 'NGC 2992', 'NGC 4151','NGC 7582']\n",
    "OX_CLAGN5_nustar_resultname=['ESO362-G18', 'NGC2992', 'NGC4151','NGC7582']\n",
    "OX_CLAGN5_redshift=[0.0124,0.0077,0.0033,0.0053]\n",
    "OX_CLAGN5_galNH=[1.8*0.01,5.5*0.01,2.3*0.01,1.3*0.01]\n",
    "OX_CLAGN5_logM=[7.65,7.48,7.60,7.74]\n",
    "OX_CLAGN5_inclination=[53,70,58,68]"
   ]
  },
  {
   "cell_type": "code",
   "execution_count": 78,
   "metadata": {
    "ExecuteTime": {
     "end_time": "2023-12-02T08:26:11.529467Z",
     "start_time": "2023-12-02T08:26:11.517523Z"
    }
   },
   "outputs": [],
   "source": [
    "OX_CLAGN5_nustar=['ESO 362-G18', 'NGC 2992', 'NGC 4151','NGC 7582','NGC 1365']\n",
    "OX_CLAGN5_nustar_resultname=['ESO362-G18', 'NGC2992', 'NGC4151','NGC7582','NGC1365']\n",
    "\n",
    "\n",
    "OX_CLAGN5_redshift=[0.0124,0.0077,0.0033,0.0053,0.0055]\n",
    "OX_CLAGN5_galNH=[1.8*0.01,5.5*0.01,2.3*0.01,1.3*0.01,1.3*0.01]\n",
    "OX_CLAGN5_logM=[7.65,7.48,7.56,7.74,6.65]\n",
    "OX_CLAGN5_inclination=[53,70,58,68,57]"
   ]
  },
  {
   "cell_type": "code",
   "execution_count": 11,
   "metadata": {
    "ExecuteTime": {
     "end_time": "2023-12-02T08:05:26.759953Z",
     "start_time": "2023-12-02T08:05:26.747982Z"
    }
   },
   "outputs": [
    {
     "name": "stdout",
     "output_type": "stream",
     "text": [
      "ESO362-G18\n",
      "NGC2992\n",
      "NGC4151\n",
      "NGC7582\n",
      "NGC1365\n",
      "ESO362_G18\n",
      "NGC2992\n",
      "NGC4151\n",
      "NGC7582\n",
      "NGC1365\n"
     ]
    }
   ],
   "source": [
    "OX_CLAGN5_nustar_dir=[]\n",
    "for i in OX_CLAGN5_nustar:\n",
    "    sourcename=i.strip().replace(' ','')#.replace('-','_')\n",
    "    OX_CLAGN5_nustar_dir.append(sourcename)\n",
    "    print(sourcename)  \n",
    "    \n",
    "    \n",
    "OX_CLAGN5_nustar_fileprefix=[]\n",
    "for i in OX_CLAGN5_nustar:\n",
    "    sourcename=i.strip().replace(' ','').replace('-','_')\n",
    "    OX_CLAGN5_nustar_fileprefix.append(sourcename)\n",
    "    print(sourcename)      "
   ]
  },
  {
   "cell_type": "markdown",
   "metadata": {
    "ExecuteTime": {
     "end_time": "2023-11-24T08:02:16.557742Z",
     "start_time": "2023-11-24T08:02:16.542344Z"
    }
   },
   "source": [
    "OX_CLAGN5_nustar=['ESO 362-G18', 'NGC 2992', 'NGC 4151','NGC 7582','NGC 1365']\n",
    "OX_CLAGN5_nustar_resultname=['ESO362-G18', 'NGC2992', 'NGC4151','NGC7582','NGC1365']\n",
    "\n",
    "OX_CLAGN5_redshift=[0.0124,0.0077,0.0033,0.0053,0.0055]\n",
    "OX_CLAGN5_galNH=[1.8*0.01,5.5*0.01,2.3*0.01,1.3*0.01,1.3*0.01]\n",
    "OX_CLAGN5_logM=[7.65,7.48,7.56,7.74,6.65]\n",
    "OX_CLAGN5_inclination=[53,70,58,68,60]\n",
    "\n",
    "\n"
   ]
  },
  {
   "cell_type": "code",
   "execution_count": 12,
   "metadata": {
    "ExecuteTime": {
     "end_time": "2023-12-02T08:05:29.253758Z",
     "start_time": "2023-12-02T08:05:29.243258Z"
    }
   },
   "outputs": [],
   "source": [
    "name_mass_dict = dict(zip(OX_CLAGN5_nustar_resultname, OX_CLAGN5_logM))\n",
    "name_redshift_dict=dict(zip(OX_CLAGN5_nustar_resultname, OX_CLAGN5_redshift))\n",
    "name_inclination_dict=dict(zip(OX_CLAGN5_nustar_resultname, OX_CLAGN5_inclination))\n",
    "\n",
    "DMpcs_ned=[53.8,25.4,9.5,21.2,16.56]\n",
    "name_DMpcs_ned_dict = dict(zip(OX_CLAGN5_nustar_resultname, DMpcs_ned))\n"
   ]
  },
  {
   "cell_type": "code",
   "execution_count": null,
   "metadata": {
    "ExecuteTime": {
     "end_time": "2023-10-20T19:25:27.404379Z",
     "start_time": "2023-10-20T19:25:27.391893Z"
    }
   },
   "outputs": [],
   "source": [
    "name_DMpcs_ned_dict"
   ]
  },
  {
   "cell_type": "code",
   "execution_count": null,
   "metadata": {},
   "outputs": [],
   "source": []
  },
  {
   "cell_type": "code",
   "execution_count": null,
   "metadata": {},
   "outputs": [],
   "source": []
  },
  {
   "cell_type": "markdown",
   "metadata": {},
   "source": [
    "datadir_root='/home/brettlv/'"
   ]
  },
  {
   "cell_type": "code",
   "execution_count": null,
   "metadata": {
    "ExecuteTime": {
     "end_time": "2023-08-08T06:06:24.397907Z",
     "start_time": "2023-08-08T06:06:24.394440Z"
    }
   },
   "outputs": [],
   "source": [
    "np.log10(2e6) #2013MNRAS.429.2662B"
   ]
  },
  {
   "cell_type": "code",
   "execution_count": null,
   "metadata": {
    "ExecuteTime": {
     "end_time": "2023-08-08T06:10:23.166720Z",
     "start_time": "2023-08-08T06:10:23.163571Z"
    }
   },
   "outputs": [],
   "source": [
    "np.log10(10**6.5) #Risaliti et al.2009"
   ]
  },
  {
   "cell_type": "code",
   "execution_count": null,
   "metadata": {
    "ExecuteTime": {
     "end_time": "2023-08-08T06:11:07.311881Z",
     "start_time": "2023-08-08T06:11:07.308778Z"
    }
   },
   "outputs": [],
   "source": [
    "np.log10(3.98e6) #Combes et al 2019"
   ]
  },
  {
   "cell_type": "code",
   "execution_count": null,
   "metadata": {
    "ExecuteTime": {
     "end_time": "2023-08-08T06:11:49.251183Z",
     "start_time": "2023-08-08T06:11:49.247874Z"
    }
   },
   "outputs": [],
   "source": [
    "np.log10(5e6) # Onori 2017"
   ]
  },
  {
   "cell_type": "code",
   "execution_count": null,
   "metadata": {},
   "outputs": [],
   "source": []
  },
  {
   "cell_type": "code",
   "execution_count": null,
   "metadata": {},
   "outputs": [],
   "source": []
  },
  {
   "cell_type": "code",
   "execution_count": 13,
   "metadata": {
    "ExecuteTime": {
     "end_time": "2023-12-02T08:05:35.372636Z",
     "start_time": "2023-12-02T08:05:35.342416Z"
    }
   },
   "outputs": [],
   "source": [
    "import astroquery"
   ]
  },
  {
   "cell_type": "code",
   "execution_count": 14,
   "metadata": {
    "ExecuteTime": {
     "end_time": "2023-12-02T08:05:35.874095Z",
     "start_time": "2023-12-02T08:05:35.766305Z"
    }
   },
   "outputs": [],
   "source": [
    "from astroquery.ipac.ned import Ned"
   ]
  },
  {
   "cell_type": "code",
   "execution_count": 15,
   "metadata": {
    "ExecuteTime": {
     "end_time": "2023-12-02T08:05:36.317807Z",
     "start_time": "2023-12-02T08:05:36.307208Z"
    }
   },
   "outputs": [
    {
     "name": "stdout",
     "output_type": "stream",
     "text": [
      "0.4.6\n"
     ]
    }
   ],
   "source": [
    "print(astroquery.__version__)"
   ]
  },
  {
   "cell_type": "code",
   "execution_count": null,
   "metadata": {
    "ExecuteTime": {
     "end_time": "2023-05-27T15:35:08.372039Z",
     "start_time": "2023-05-27T15:35:08.272629Z"
    }
   },
   "outputs": [],
   "source": [
    "result_table = Ned.query_object(OX_CLAGN5_nustar[0])\n",
    "print(result_table) # an astropy.table.Table"
   ]
  },
  {
   "cell_type": "code",
   "execution_count": null,
   "metadata": {
    "ExecuteTime": {
     "end_time": "2022-10-18T08:32:17.450996Z",
     "start_time": "2022-10-18T08:32:17.436236Z"
    }
   },
   "outputs": [],
   "source": [
    "result_table"
   ]
  },
  {
   "cell_type": "code",
   "execution_count": null,
   "metadata": {
    "ExecuteTime": {
     "end_time": "2022-03-25T07:38:24.700163Z",
     "start_time": "2022-03-25T07:38:24.693779Z"
    }
   },
   "outputs": [],
   "source": [
    "result_table.colnames"
   ]
  },
  {
   "cell_type": "markdown",
   "metadata": {},
   "source": [
    "# NED"
   ]
  },
  {
   "cell_type": "markdown",
   "metadata": {
    "ExecuteTime": {
     "end_time": "2023-11-24T08:03:24.260457Z",
     "start_time": "2023-11-24T08:03:24.232273Z"
    }
   },
   "source": [
    "result_table = Ned.query_object(OX_CLAGN5_nustar[0])\n",
    "print(result_table['Object Name'][0],result_table['RA'][0],result_table['DEC'][0],result_table['Redshift'][0]) # an astropy.table.Table"
   ]
  },
  {
   "cell_type": "code",
   "execution_count": null,
   "metadata": {
    "ExecuteTime": {
     "end_time": "2022-10-18T09:52:09.897896Z",
     "start_time": "2022-10-18T09:52:09.880574Z"
    }
   },
   "outputs": [],
   "source": [
    "result_table "
   ]
  },
  {
   "cell_type": "code",
   "execution_count": null,
   "metadata": {
    "ExecuteTime": {
     "end_time": "2023-11-24T08:03:37.824878Z",
     "start_time": "2023-11-24T08:03:37.747685Z"
    }
   },
   "outputs": [],
   "source": [
    "for i in OX_CLAGN5_nustar:\n",
    "    result_table = Ned.query_object(i)\n",
    "    #print(result_table['Object Name'][0],result_table['RA'][0],result_table['DEC'][0],result_table['Redshift'][0]) # an astropy.table.Table\n",
    "    print(result_table['Object Name'][0],'& ',result_table['Redshift'][0],'\\\\\\\\') # an astropy.table.Table"
   ]
  },
  {
   "cell_type": "markdown",
   "metadata": {
    "ExecuteTime": {
     "end_time": "2022-03-25T07:42:41.548660Z",
     "start_time": "2022-03-25T07:42:41.526538Z"
    }
   },
   "source": [
    "table_mission_list = heasarc.query_mission_list()\n",
    "table_mission_list.pprint()"
   ]
  },
  {
   "cell_type": "markdown",
   "metadata": {
    "ExecuteTime": {
     "end_time": "2022-03-25T07:42:47.740763Z",
     "start_time": "2022-03-25T07:42:47.462263Z"
    }
   },
   "source": [
    "for i in table_mission_list:\n",
    "    print(i)"
   ]
  },
  {
   "cell_type": "markdown",
   "metadata": {},
   "source": [
    "## OX_CLAGN5_info"
   ]
  },
  {
   "cell_type": "code",
   "execution_count": 16,
   "metadata": {
    "ExecuteTime": {
     "end_time": "2023-12-02T08:05:40.398371Z",
     "start_time": "2023-12-02T08:05:40.122204Z"
    }
   },
   "outputs": [],
   "source": [
    "import pandas as pd\n",
    "OX_CLAGN5_info=pd.read_excel('/Users/lyubing/IHEPBox/data/data_clagn/OXCLAGN5.xlsx')\n",
    "OX_CLAGN5_info=OX_CLAGN5_info[OX_CLAGN5_info['select']==1]\n",
    "OX_CLAGN5_info=drop_index(OX_CLAGN5_info)"
   ]
  },
  {
   "cell_type": "code",
   "execution_count": 17,
   "metadata": {
    "ExecuteTime": {
     "end_time": "2023-12-02T08:05:40.711608Z",
     "start_time": "2023-12-02T08:05:40.694542Z"
    }
   },
   "outputs": [],
   "source": [
    "OX_CLAGN5_info=OX_CLAGN5_info.sort_values('Name')\n",
    "OX_CLAGN5_info=drop_index(OX_CLAGN5_info)"
   ]
  },
  {
   "cell_type": "code",
   "execution_count": null,
   "metadata": {
    "ExecuteTime": {
     "end_time": "2023-11-24T08:03:46.756404Z",
     "start_time": "2023-11-24T08:03:46.731899Z"
    }
   },
   "outputs": [],
   "source": [
    "OX_CLAGN5_info"
   ]
  },
  {
   "cell_type": "code",
   "execution_count": null,
   "metadata": {
    "ExecuteTime": {
     "end_time": "2023-11-24T08:03:53.804466Z",
     "start_time": "2023-11-24T08:03:53.790990Z"
    }
   },
   "outputs": [],
   "source": [
    "for i in OX_CLAGN5_info['redshift']:\n",
    "    print(cosmo.luminosity_distance(z=i).to(u.Mpc).value)"
   ]
  },
  {
   "cell_type": "code",
   "execution_count": null,
   "metadata": {},
   "outputs": [],
   "source": []
  },
  {
   "cell_type": "code",
   "execution_count": null,
   "metadata": {},
   "outputs": [],
   "source": []
  },
  {
   "cell_type": "code",
   "execution_count": 18,
   "metadata": {
    "ExecuteTime": {
     "end_time": "2023-12-02T08:05:44.692173Z",
     "start_time": "2023-12-02T08:05:44.677696Z"
    }
   },
   "outputs": [],
   "source": [
    "CLAGNref_allmass_bibcodes=[]\n",
    "\n",
    "for i in OX_CLAGN5_info['ref0']:\n",
    "    if i.find(',')>0:\n",
    "        isplit=i.split(',')\n",
    "        for j in isplit:\n",
    "            if j not in CLAGNref_allmass_bibcodes:\n",
    "                CLAGNref_allmass_bibcodes.append(j)\n",
    "    else:\n",
    "        if i not in CLAGNref_allmass_bibcodes:\n",
    "            CLAGNref_allmass_bibcodes.append(i)\n",
    "                   \n",
    "for i in OX_CLAGN5_info['ref1']:\n",
    "    if i.find(',')>0:\n",
    "        isplit=i.split(',')\n",
    "        for j in isplit:\n",
    "            if j not in CLAGNref_allmass_bibcodes:\n",
    "                CLAGNref_allmass_bibcodes.append(j)\n",
    "    else:\n",
    "        if i not in CLAGNref_allmass_bibcodes:\n",
    "            CLAGNref_allmass_bibcodes.append(i)\n",
    "            \n",
    "for i in OX_CLAGN5_info['ref2']:\n",
    "    if i.find(',')>0:\n",
    "        isplit=i.split(',')\n",
    "        for j in isplit:\n",
    "            if j not in CLAGNref_allmass_bibcodes:\n",
    "                CLAGNref_allmass_bibcodes.append(j)\n",
    "    else:\n",
    "        if i not in CLAGNref_allmass_bibcodes:\n",
    "            CLAGNref_allmass_bibcodes.append(i)\n",
    "        "
   ]
  },
  {
   "cell_type": "code",
   "execution_count": 19,
   "metadata": {
    "ExecuteTime": {
     "end_time": "2023-12-02T08:05:45.224143Z",
     "start_time": "2023-12-02T08:05:45.214932Z"
    }
   },
   "outputs": [
    {
     "data": {
      "text/plain": [
       "['2014MNRAS.443.2862A',\n",
       " '2018Galax...6...52A',\n",
       " '2014ApJ...795...87B',\n",
       " '2023MNRAS.518.2938T',\n",
       " '2003MNRAS.342..422M',\n",
       " '2021MNRAS.508..144G',\n",
       " '2007MNRAS.377..607P',\n",
       " '2019sf2a.conf..509M',\n",
       " '2009ApJ...695..781B',\n",
       " '2017MNRAS.468L..97O',\n",
       " '2020MNRAS.496.3412M',\n",
       " '2022ApJ...936...75L',\n",
       " '2006A&A...460..449W',\n",
       " '2010MNRAS.408..601W',\n",
       " '2022ApJ...934..168B',\n",
       " 'Paturel2003']"
      ]
     },
     "execution_count": 19,
     "metadata": {},
     "output_type": "execute_result"
    }
   ],
   "source": [
    "CLAGNref_allmass_bibcodes"
   ]
  },
  {
   "cell_type": "code",
   "execution_count": 20,
   "metadata": {
    "ExecuteTime": {
     "end_time": "2023-12-02T08:05:45.670412Z",
     "start_time": "2023-12-02T08:05:45.661499Z"
    }
   },
   "outputs": [
    {
     "data": {
      "text/plain": [
       "16"
      ]
     },
     "execution_count": 20,
     "metadata": {},
     "output_type": "execute_result"
    }
   ],
   "source": [
    "len(CLAGNref_allmass_bibcodes)"
   ]
  },
  {
   "cell_type": "code",
   "execution_count": 21,
   "metadata": {
    "ExecuteTime": {
     "end_time": "2023-12-02T08:05:46.243650Z",
     "start_time": "2023-12-02T08:05:46.236239Z"
    }
   },
   "outputs": [],
   "source": [
    "import numpy as np\n",
    "dict_bibcode_index = dict(zip(CLAGNref_allmass_bibcodes,np.arange(len(CLAGNref_allmass_bibcodes))+1))"
   ]
  },
  {
   "cell_type": "markdown",
   "metadata": {},
   "source": [
    "## bibLatex"
   ]
  },
  {
   "cell_type": "code",
   "execution_count": 22,
   "metadata": {
    "ExecuteTime": {
     "end_time": "2023-12-02T08:05:47.718213Z",
     "start_time": "2023-12-02T08:05:47.700847Z"
    }
   },
   "outputs": [
    {
     "name": "stdout",
     "output_type": "stream",
     "text": [
      "ESO 362-G18  &  (1,2) &  0.0124 &  53.8 &  1.8 &  7.65 &  (1) &  $\\sim $53 &  (1) \\\\\n",
      "NGC 1365 &  (3,4) &  0.0055 &  23.5 &  1.3 &  6.65 &  (10) &  $\\sim $57 &  (14) \\\\\n",
      "NGC 2992  &  (5,6) &  0.0077 &  33.2 &  5.5 &  7.48 &  (11) &  $\\sim $70 &  (6) \\\\\n",
      "NGC 4151  &  (7,8) &  0.0033 &  14.3 &  2.3 &  7.6 &  (12) &  $\\sim $58 &  (15) \\\\\n",
      "NGC 7582  &  (9,8) &  0.0053 &  22.6 &  1.3 &  7.74 &  (13) &  $\\sim $68 &  (16) \\\\\n"
     ]
    }
   ],
   "source": [
    "for i in range(len(OX_CLAGN5_info)):\n",
    "    ref=''\n",
    "    ref0=OX_CLAGN5_info.loc[i,'ref0']\n",
    "    \n",
    "    if ref0.find(',')>0:\n",
    "        isplit=ref0.split(',')       \n",
    "        for j in isplit:\n",
    "            ref=ref+'%d'%dict_bibcode_index[j]+','\n",
    "    \n",
    "    else:\n",
    "        ref=ref+'%d'%dict_bibcode_index[ref0]+','\n",
    "        \n",
    "    ref=ref[:-1]  \n",
    "    \n",
    "    print(OX_CLAGN5_info.loc[i,'Name'],'& ',\n",
    "          '(%s)'%ref,'& ',              \n",
    "          '%.4f'%OX_CLAGN5_info.loc[i,'redshift'],'& ',\n",
    "          '%.1f'%cosmo.luminosity_distance(z=OX_CLAGN5_info.loc[i,'redshift']).to(u.Mpc).value,'& ',\n",
    "          \n",
    "          '%.1f'%OX_CLAGN5_info.loc[i,'Nhgal'],'& ',\n",
    "           \n",
    "          OX_CLAGN5_info.loc[i,'logMbh'],'& ',          \n",
    "          '(%d'%dict_bibcode_index[OX_CLAGN5_info.loc[i,'ref1']]+')','& ',\n",
    "          \n",
    "          '$\\sim $%d'%OX_CLAGN5_info.loc[i,'inclination_angle'],'& ',\n",
    "          '(%d'%dict_bibcode_index[OX_CLAGN5_info.loc[i,'ref2']]+')',          \n",
    "          '\\\\\\\\') # an astropy.table.Table"
   ]
  },
  {
   "cell_type": "markdown",
   "metadata": {},
   "source": [
    "### masserr"
   ]
  },
  {
   "cell_type": "code",
   "execution_count": null,
   "metadata": {
    "ExecuteTime": {
     "end_time": "2023-11-24T08:04:34.884657Z",
     "start_time": "2023-11-24T08:04:34.863601Z"
    }
   },
   "outputs": [],
   "source": [
    "for i in range(len(OX_CLAGN5_info)):\n",
    "    ref=''\n",
    "    ref0=OX_CLAGN5_info.loc[i,'ref0']\n",
    "    \n",
    "    if ref0.find(',')>0:\n",
    "        isplit=ref0.split(',')       \n",
    "        for j in isplit:\n",
    "            ref=ref+'%d'%dict_bibcode_index[j]+','\n",
    "    \n",
    "    else:\n",
    "        ref=ref+'%d'%dict_bibcode_index[ref0]+','\n",
    "        \n",
    "    ref=ref[:-1]  \n",
    "    \n",
    "    mass_err=OX_CLAGN5_info.loc[i,'logMbh_err']\n",
    "    mass_err_h= float(mass_err.split('m')[0].split('p')[1])\n",
    "    mass_err_l= float(mass_err.split('m')[1])\n",
    "                \n",
    "    #print(mass_err_h,mass_err_l)\n",
    "                      \n",
    "    print(OX_CLAGN5_info.loc[i,'Name'],'& ',\n",
    "          '(%s)'%ref,'& ',              \n",
    "          '%.4f'%OX_CLAGN5_info.loc[i,'redshift'],'& ',\n",
    "          '%.1f'%cosmo.luminosity_distance(z=OX_CLAGN5_info.loc[i,'redshift']).to(u.Mpc).value,'& ',\n",
    "          \n",
    "          '%.1f'%OX_CLAGN5_info.loc[i,'Nhgal'],'& ',\n",
    "           \n",
    "          '%.2f $^{+%.2f}_{-%.2f}$'%(OX_CLAGN5_info.loc[i,'logMbh'],mass_err_h,mass_err_l),'& ',  \n",
    "          \n",
    "          \n",
    "          \n",
    "          '(%d'%dict_bibcode_index[OX_CLAGN5_info.loc[i,'ref1']]+')','& ',\n",
    "          \n",
    "          '$\\sim $%d'%OX_CLAGN5_info.loc[i,'inclination_angle'],'& ',\n",
    "          '(%d'%dict_bibcode_index[OX_CLAGN5_info.loc[i,'ref2']]+')',          \n",
    "          '\\\\\\\\') # an astropy.table.Table"
   ]
  },
  {
   "cell_type": "code",
   "execution_count": 23,
   "metadata": {
    "ExecuteTime": {
     "end_time": "2023-12-02T08:06:13.371612Z",
     "start_time": "2023-12-02T08:06:13.362362Z"
    }
   },
   "outputs": [
    {
     "name": "stdout",
     "output_type": "stream",
     "text": [
      "(1)~\\citet{2014MNRAS.443.2862A} (2)~\\citet{2018Galax...6...52A} (3)~\\citet{2014ApJ...795...87B} (4)~\\citet{2023MNRAS.518.2938T} (5)~\\citet{2003MNRAS.342..422M} (6)~\\citet{2021MNRAS.508..144G} (7)~\\citet{2007MNRAS.377..607P} (8)~\\citet{2019sf2a.conf..509M} (9)~\\citet{2009ApJ...695..781B} (10)~\\citet{2017MNRAS.468L..97O} (11)~\\citet{2020MNRAS.496.3412M} (12)~\\citet{2022ApJ...936...75L} (13)~\\citet{2006A&A...460..449W} (14)~\\citet{2010MNRAS.408..601W} (15)~\\citet{2022ApJ...934..168B} (16)~\\citet{Paturel2003} "
     ]
    }
   ],
   "source": [
    "for index,bib in enumerate(CLAGNref_allmass_bibcodes):\n",
    "    print('(%d)'%(index+1)+'~'+'\\\\citet{%s}'%bib,end=' ')"
   ]
  },
  {
   "cell_type": "markdown",
   "metadata": {},
   "source": [
    "~\\citet{2006A&A...460..449W} Wold2006"
   ]
  },
  {
   "cell_type": "code",
   "execution_count": null,
   "metadata": {},
   "outputs": [],
   "source": [
    "dict_bibcode_index"
   ]
  },
  {
   "cell_type": "code",
   "execution_count": null,
   "metadata": {},
   "outputs": [],
   "source": []
  },
  {
   "cell_type": "code",
   "execution_count": 24,
   "metadata": {
    "ExecuteTime": {
     "end_time": "2023-12-02T08:06:17.039523Z",
     "start_time": "2023-12-02T08:06:17.024140Z"
    }
   },
   "outputs": [
    {
     "name": "stdout",
     "output_type": "stream",
     "text": [
      "ESO 362-G18  &  \\citep{2014MNRAS.443.2862A,2018Galax...6...52A} &  0.0124 &  7.65 &  \\citep{2014MNRAS.443.2862A} &  53 &  \\citep{2014MNRAS.443.2862A} \\\\\n",
      "NGC 1365 &  \\citep{2014ApJ...795...87B,2023MNRAS.518.2938T} &  0.0055 &  6.65 &  \\citep{2017MNRAS.468L..97O} &  57 &  \\citep{2010MNRAS.408..601W} \\\\\n",
      "NGC 2992  &  \\citep{2003MNRAS.342..422M,2021MNRAS.508..144G} &  0.0077 &  7.48 &  \\citep{2020MNRAS.496.3412M} &  70 &  \\citep{2021MNRAS.508..144G} \\\\\n",
      "NGC 4151  &  \\citep{2007MNRAS.377..607P,2019sf2a.conf..509M} &  0.0033 &  7.6 &  \\citep{2022ApJ...936...75L} &  58 &  \\citep{2022ApJ...934..168B} \\\\\n",
      "NGC 7582  &  \\citep{2009ApJ...695..781B,2019sf2a.conf..509M} &  0.0053 &  7.74 &  \\citep{2006A&A...460..449W} &  68 &  \\citep{Paturel2003} \\\\\n"
     ]
    }
   ],
   "source": [
    "for i in range(len(OX_CLAGN5_info)):\n",
    "    print(OX_CLAGN5_info.loc[i,'Name'],'& ',\n",
    "          '\\citep{'+OX_CLAGN5_info.loc[i,'ref0']+'}','& ',\n",
    "          '%.4f'%OX_CLAGN5_info.loc[i,'redshift'],'& ',\n",
    "          OX_CLAGN5_info.loc[i,'logMbh'],'& ',\n",
    "          '\\citep{'+OX_CLAGN5_info.loc[i,'ref1']+'}','& ',\n",
    "          '%d'%OX_CLAGN5_info.loc[i,'inclination_angle'],'& ',\n",
    "          '\\citep{'+OX_CLAGN5_info.loc[i,'ref2']+'}',          \n",
    "          '\\\\\\\\') # an astropy.table.Table"
   ]
  },
  {
   "cell_type": "code",
   "execution_count": null,
   "metadata": {},
   "outputs": [],
   "source": []
  },
  {
   "cell_type": "markdown",
   "metadata": {
    "ExecuteTime": {
     "end_time": "2023-08-04T09:13:07.639767Z",
     "start_time": "2023-08-04T09:13:07.627453Z"
    }
   },
   "source": [
    "names_obsids=['ESO362-G18',\n",
    " 'NGC2992',\n",
    " 'NGC2992',\n",
    " 'NGC4151',\n",
    " 'NGC4151',\n",
    " 'NGC4151',\n",
    " 'NGC4151',\n",
    " 'NGC4151',\n",
    " 'NGC4151',\n",
    " 'NGC4151',\n",
    " 'NGC4151',\n",
    " 'NGC4151',\n",
    " 'NGC7582',\n",
    " 'NGC7582',\n",
    " 'NGC7582']\n",
    "\n",
    "obsids=['60201046002',\n",
    " '60160371002',\n",
    " '90501623002',\n",
    " '60001111002',\n",
    " '60001111003',\n",
    " '60001111005',\n",
    " '60502017002',\n",
    " '60502017004',\n",
    " '60502017006',\n",
    " '60502017008',\n",
    " '60502017010',\n",
    " '60502017012',\n",
    " '60061318002',\n",
    " '60061318004',\n",
    " '60201003002']\n",
    "\n",
    "mjds_obsids= [57655.8237058333,\n",
    " 57358.5737058333,\n",
    " 58613.035522963,\n",
    " 56243.2542498148,\n",
    " 56243.788972037,\n",
    " 56245.3445275926,\n",
    " 58688.3376062963,\n",
    " 58799.3896896296,\n",
    " 58841.473022963,\n",
    " 58858.316772963,\n",
    " 58867.5077451852,\n",
    " 58871.2681618519,\n",
    " 56170.6986942593,\n",
    " 56184.7125831482,\n",
    " 57506.2125947222]\n",
    "\n",
    "obsids_mjds_dict=dict(zip(obsids, mjds_obsids)) "
   ]
  },
  {
   "cell_type": "code",
   "execution_count": 25,
   "metadata": {
    "ExecuteTime": {
     "end_time": "2023-12-02T08:06:30.575140Z",
     "start_time": "2023-12-02T08:06:30.558514Z"
    }
   },
   "outputs": [],
   "source": [
    "names_obsids=['ESO362-G18',\n",
    " 'NGC2992',\n",
    " 'NGC2992',\n",
    " 'NGC4151',\n",
    " 'NGC4151',\n",
    " 'NGC4151',\n",
    " 'NGC4151',\n",
    " 'NGC4151',\n",
    " 'NGC4151',\n",
    " 'NGC4151',\n",
    " 'NGC4151',\n",
    " 'NGC4151',\n",
    " 'NGC7582',\n",
    " 'NGC7582',\n",
    " 'NGC7582',\n",
    "'NGC1365',\n",
    "'NGC1365',\n",
    "'NGC1365',\n",
    "'NGC1365',\n",
    "'NGC1365',\n",
    "'NGC1365',\n",
    "'NGC1365',\n",
    "'NGC1365',\n",
    "'NGC1365',\n",
    "'NGC1365',\n",
    "'NGC1365',             \n",
    "             \n",
    "             ]\n",
    "\n",
    "obsids=['60201046002',\n",
    " '60160371002',\n",
    " '90501623002',\n",
    " '60001111002',\n",
    " '60001111003',\n",
    " '60001111005',\n",
    " '60502017002',\n",
    " '60502017004',\n",
    " '60502017006',\n",
    " '60502017008',\n",
    " '60502017010',\n",
    " '60502017012',\n",
    " '60061318002',\n",
    " '60061318004',\n",
    " '60201003002',\n",
    "'60002046002',\n",
    "'60002046003',\n",
    "'60002046005',\n",
    "'60002046007',\n",
    "'60002046009',\n",
    "'60702058002',\n",
    "'60702058004',\n",
    "'60702058006',\n",
    "'60702058008',\n",
    "'60702058010',\n",
    "'60702058012',            \n",
    "       ]\n",
    "\n",
    "mjds_obsids= [57655.8237058333,\n",
    " 57358.5737058333,\n",
    " 58613.035522963,\n",
    " 56243.2542498148,\n",
    " 56243.788972037,\n",
    " 56245.3445275926,\n",
    " 58688.3376062963,\n",
    " 58799.3896896296,\n",
    " 58841.473022963,\n",
    " 58858.316772963,\n",
    " 58867.5077451852,\n",
    " 58871.2681618519,\n",
    " 56170.6986942593,\n",
    " 56184.7125831482,\n",
    " 57506.2125947222,\n",
    "56133.9,\n",
    "56134.7,\n",
    "56285.6,\n",
    "56315.4,\n",
    "56335.5,\n",
    "59320.9,\n",
    "59326.8,\n",
    "59333.3,\n",
    "59336.0,\n",
    "59340.5,\n",
    "59342.7,             \n",
    "    ]\n",
    "\n",
    "obsids_mjds_dict=dict(zip(obsids, mjds_obsids)) "
   ]
  },
  {
   "cell_type": "code",
   "execution_count": null,
   "metadata": {},
   "outputs": [],
   "source": []
  },
  {
   "cell_type": "code",
   "execution_count": null,
   "metadata": {},
   "outputs": [],
   "source": []
  },
  {
   "cell_type": "code",
   "execution_count": null,
   "metadata": {
    "ExecuteTime": {
     "end_time": "2023-06-14T15:24:51.561480Z",
     "start_time": "2023-06-14T15:24:51.551556Z"
    }
   },
   "outputs": [],
   "source": [
    "pwd"
   ]
  },
  {
   "cell_type": "markdown",
   "metadata": {},
   "source": [
    "## variability"
   ]
  },
  {
   "cell_type": "code",
   "execution_count": 26,
   "metadata": {
    "ExecuteTime": {
     "end_time": "2023-12-02T08:06:34.179225Z",
     "start_time": "2023-12-02T08:06:34.160614Z"
    }
   },
   "outputs": [],
   "source": [
    "variability=pd.read_csv('/Users/lyubing/Downloads/OXCLAGN/OXCLAGN_variability.py',header=None,delimiter='\\s+')"
   ]
  },
  {
   "cell_type": "code",
   "execution_count": 27,
   "metadata": {
    "ExecuteTime": {
     "end_time": "2023-12-02T08:06:34.750112Z",
     "start_time": "2023-12-02T08:06:34.744136Z"
    }
   },
   "outputs": [],
   "source": [
    "variability.columns=['name','obsid','Afvar','Afvarerr','Bfvar','Bfvarerr']"
   ]
  },
  {
   "cell_type": "code",
   "execution_count": 28,
   "metadata": {
    "ExecuteTime": {
     "end_time": "2023-12-02T08:06:35.381237Z",
     "start_time": "2023-12-02T08:06:35.359381Z"
    }
   },
   "outputs": [
    {
     "data": {
      "text/html": [
       "<div>\n",
       "<style scoped>\n",
       "    .dataframe tbody tr th:only-of-type {\n",
       "        vertical-align: middle;\n",
       "    }\n",
       "\n",
       "    .dataframe tbody tr th {\n",
       "        vertical-align: top;\n",
       "    }\n",
       "\n",
       "    .dataframe thead th {\n",
       "        text-align: right;\n",
       "    }\n",
       "</style>\n",
       "<table border=\"1\" class=\"dataframe\">\n",
       "  <thead>\n",
       "    <tr style=\"text-align: right;\">\n",
       "      <th></th>\n",
       "      <th>name</th>\n",
       "      <th>obsid</th>\n",
       "      <th>Afvar</th>\n",
       "      <th>Afvarerr</th>\n",
       "      <th>Bfvar</th>\n",
       "      <th>Bfvarerr</th>\n",
       "    </tr>\n",
       "  </thead>\n",
       "  <tbody>\n",
       "    <tr>\n",
       "      <th>0</th>\n",
       "      <td>ESO362_G18</td>\n",
       "      <td>60201046002</td>\n",
       "      <td>0.312589</td>\n",
       "      <td>0.011325</td>\n",
       "      <td>0.337216</td>\n",
       "      <td>0.011185</td>\n",
       "    </tr>\n",
       "    <tr>\n",
       "      <th>1</th>\n",
       "      <td>NGC2992</td>\n",
       "      <td>60160371002</td>\n",
       "      <td>0.150979</td>\n",
       "      <td>0.021657</td>\n",
       "      <td>0.152818</td>\n",
       "      <td>0.021665</td>\n",
       "    </tr>\n",
       "    <tr>\n",
       "      <th>2</th>\n",
       "      <td>NGC2992</td>\n",
       "      <td>90501623002</td>\n",
       "      <td>0.136456</td>\n",
       "      <td>0.012850</td>\n",
       "      <td>0.146486</td>\n",
       "      <td>0.012801</td>\n",
       "    </tr>\n",
       "    <tr>\n",
       "      <th>3</th>\n",
       "      <td>NGC4151</td>\n",
       "      <td>60001111002</td>\n",
       "      <td>0.104253</td>\n",
       "      <td>0.020427</td>\n",
       "      <td>0.111369</td>\n",
       "      <td>0.020421</td>\n",
       "    </tr>\n",
       "    <tr>\n",
       "      <th>4</th>\n",
       "      <td>NGC4151</td>\n",
       "      <td>60001111003</td>\n",
       "      <td>0.158400</td>\n",
       "      <td>0.012674</td>\n",
       "      <td>0.145028</td>\n",
       "      <td>0.012738</td>\n",
       "    </tr>\n",
       "    <tr>\n",
       "      <th>5</th>\n",
       "      <td>NGC4151</td>\n",
       "      <td>60001111005</td>\n",
       "      <td>0.119912</td>\n",
       "      <td>0.012274</td>\n",
       "      <td>0.120917</td>\n",
       "      <td>0.012275</td>\n",
       "    </tr>\n",
       "    <tr>\n",
       "      <th>6</th>\n",
       "      <td>NGC4151</td>\n",
       "      <td>60502017002</td>\n",
       "      <td>0.177880</td>\n",
       "      <td>0.016833</td>\n",
       "      <td>0.188834</td>\n",
       "      <td>0.016784</td>\n",
       "    </tr>\n",
       "    <tr>\n",
       "      <th>7</th>\n",
       "      <td>NGC4151</td>\n",
       "      <td>60502017004</td>\n",
       "      <td>0.112726</td>\n",
       "      <td>0.014378</td>\n",
       "      <td>0.112610</td>\n",
       "      <td>0.014380</td>\n",
       "    </tr>\n",
       "    <tr>\n",
       "      <th>8</th>\n",
       "      <td>NGC4151</td>\n",
       "      <td>60502017006</td>\n",
       "      <td>0.120488</td>\n",
       "      <td>0.016671</td>\n",
       "      <td>0.126567</td>\n",
       "      <td>0.016667</td>\n",
       "    </tr>\n",
       "    <tr>\n",
       "      <th>9</th>\n",
       "      <td>NGC4151</td>\n",
       "      <td>60502017008</td>\n",
       "      <td>0.121411</td>\n",
       "      <td>0.017259</td>\n",
       "      <td>0.125597</td>\n",
       "      <td>0.017254</td>\n",
       "    </tr>\n",
       "    <tr>\n",
       "      <th>10</th>\n",
       "      <td>NGC4151</td>\n",
       "      <td>60502017010</td>\n",
       "      <td>0.146940</td>\n",
       "      <td>0.017405</td>\n",
       "      <td>0.162321</td>\n",
       "      <td>0.017395</td>\n",
       "    </tr>\n",
       "    <tr>\n",
       "      <th>11</th>\n",
       "      <td>NGC4151</td>\n",
       "      <td>60502017012</td>\n",
       "      <td>0.110687</td>\n",
       "      <td>0.017965</td>\n",
       "      <td>0.122625</td>\n",
       "      <td>0.017941</td>\n",
       "    </tr>\n",
       "    <tr>\n",
       "      <th>12</th>\n",
       "      <td>NGC7582</td>\n",
       "      <td>60061318002</td>\n",
       "      <td>0.248574</td>\n",
       "      <td>0.030951</td>\n",
       "      <td>0.287164</td>\n",
       "      <td>0.029597</td>\n",
       "    </tr>\n",
       "    <tr>\n",
       "      <th>13</th>\n",
       "      <td>NGC7582</td>\n",
       "      <td>60061318004</td>\n",
       "      <td>0.057193</td>\n",
       "      <td>0.128098</td>\n",
       "      <td>0.187694</td>\n",
       "      <td>0.045466</td>\n",
       "    </tr>\n",
       "    <tr>\n",
       "      <th>14</th>\n",
       "      <td>NGC7582</td>\n",
       "      <td>60201003002</td>\n",
       "      <td>0.259589</td>\n",
       "      <td>0.015321</td>\n",
       "      <td>0.277433</td>\n",
       "      <td>0.015209</td>\n",
       "    </tr>\n",
       "    <tr>\n",
       "      <th>15</th>\n",
       "      <td>NGC1365</td>\n",
       "      <td>60002046002</td>\n",
       "      <td>0.279587</td>\n",
       "      <td>0.018561</td>\n",
       "      <td>0.332044</td>\n",
       "      <td>0.017822</td>\n",
       "    </tr>\n",
       "    <tr>\n",
       "      <th>16</th>\n",
       "      <td>NGC1365</td>\n",
       "      <td>60002046003</td>\n",
       "      <td>0.247030</td>\n",
       "      <td>0.017505</td>\n",
       "      <td>0.273359</td>\n",
       "      <td>0.016998</td>\n",
       "    </tr>\n",
       "    <tr>\n",
       "      <th>17</th>\n",
       "      <td>NGC1365</td>\n",
       "      <td>60002046005</td>\n",
       "      <td>0.251108</td>\n",
       "      <td>0.012312</td>\n",
       "      <td>0.257353</td>\n",
       "      <td>0.012277</td>\n",
       "    </tr>\n",
       "    <tr>\n",
       "      <th>18</th>\n",
       "      <td>NGC1365</td>\n",
       "      <td>60002046007</td>\n",
       "      <td>0.396234</td>\n",
       "      <td>0.011450</td>\n",
       "      <td>0.404176</td>\n",
       "      <td>0.011410</td>\n",
       "    </tr>\n",
       "    <tr>\n",
       "      <th>19</th>\n",
       "      <td>NGC1365</td>\n",
       "      <td>60002046009</td>\n",
       "      <td>0.397981</td>\n",
       "      <td>0.011871</td>\n",
       "      <td>0.370882</td>\n",
       "      <td>0.011934</td>\n",
       "    </tr>\n",
       "    <tr>\n",
       "      <th>20</th>\n",
       "      <td>NGC1365</td>\n",
       "      <td>60702058002</td>\n",
       "      <td>0.331750</td>\n",
       "      <td>0.015505</td>\n",
       "      <td>0.385082</td>\n",
       "      <td>0.014763</td>\n",
       "    </tr>\n",
       "    <tr>\n",
       "      <th>21</th>\n",
       "      <td>NGC1365</td>\n",
       "      <td>60702058004</td>\n",
       "      <td>0.668948</td>\n",
       "      <td>0.016194</td>\n",
       "      <td>0.470227</td>\n",
       "      <td>0.016754</td>\n",
       "    </tr>\n",
       "    <tr>\n",
       "      <th>22</th>\n",
       "      <td>NGC1365</td>\n",
       "      <td>60702058006</td>\n",
       "      <td>0.257570</td>\n",
       "      <td>0.041431</td>\n",
       "      <td>0.305481</td>\n",
       "      <td>0.036299</td>\n",
       "    </tr>\n",
       "    <tr>\n",
       "      <th>23</th>\n",
       "      <td>NGC1365</td>\n",
       "      <td>60702058008</td>\n",
       "      <td>0.307329</td>\n",
       "      <td>0.016998</td>\n",
       "      <td>0.339563</td>\n",
       "      <td>0.016482</td>\n",
       "    </tr>\n",
       "    <tr>\n",
       "      <th>24</th>\n",
       "      <td>NGC1365</td>\n",
       "      <td>60702058010</td>\n",
       "      <td>0.245811</td>\n",
       "      <td>0.020662</td>\n",
       "      <td>0.430626</td>\n",
       "      <td>0.016885</td>\n",
       "    </tr>\n",
       "    <tr>\n",
       "      <th>25</th>\n",
       "      <td>NGC1365</td>\n",
       "      <td>60702058012</td>\n",
       "      <td>0.251527</td>\n",
       "      <td>0.023475</td>\n",
       "      <td>0.334999</td>\n",
       "      <td>0.019637</td>\n",
       "    </tr>\n",
       "  </tbody>\n",
       "</table>\n",
       "</div>"
      ],
      "text/plain": [
       "          name        obsid     Afvar  Afvarerr     Bfvar  Bfvarerr\n",
       "0   ESO362_G18  60201046002  0.312589  0.011325  0.337216  0.011185\n",
       "1      NGC2992  60160371002  0.150979  0.021657  0.152818  0.021665\n",
       "2      NGC2992  90501623002  0.136456  0.012850  0.146486  0.012801\n",
       "3      NGC4151  60001111002  0.104253  0.020427  0.111369  0.020421\n",
       "4      NGC4151  60001111003  0.158400  0.012674  0.145028  0.012738\n",
       "5      NGC4151  60001111005  0.119912  0.012274  0.120917  0.012275\n",
       "6      NGC4151  60502017002  0.177880  0.016833  0.188834  0.016784\n",
       "7      NGC4151  60502017004  0.112726  0.014378  0.112610  0.014380\n",
       "8      NGC4151  60502017006  0.120488  0.016671  0.126567  0.016667\n",
       "9      NGC4151  60502017008  0.121411  0.017259  0.125597  0.017254\n",
       "10     NGC4151  60502017010  0.146940  0.017405  0.162321  0.017395\n",
       "11     NGC4151  60502017012  0.110687  0.017965  0.122625  0.017941\n",
       "12     NGC7582  60061318002  0.248574  0.030951  0.287164  0.029597\n",
       "13     NGC7582  60061318004  0.057193  0.128098  0.187694  0.045466\n",
       "14     NGC7582  60201003002  0.259589  0.015321  0.277433  0.015209\n",
       "15     NGC1365  60002046002  0.279587  0.018561  0.332044  0.017822\n",
       "16     NGC1365  60002046003  0.247030  0.017505  0.273359  0.016998\n",
       "17     NGC1365  60002046005  0.251108  0.012312  0.257353  0.012277\n",
       "18     NGC1365  60002046007  0.396234  0.011450  0.404176  0.011410\n",
       "19     NGC1365  60002046009  0.397981  0.011871  0.370882  0.011934\n",
       "20     NGC1365  60702058002  0.331750  0.015505  0.385082  0.014763\n",
       "21     NGC1365  60702058004  0.668948  0.016194  0.470227  0.016754\n",
       "22     NGC1365  60702058006  0.257570  0.041431  0.305481  0.036299\n",
       "23     NGC1365  60702058008  0.307329  0.016998  0.339563  0.016482\n",
       "24     NGC1365  60702058010  0.245811  0.020662  0.430626  0.016885\n",
       "25     NGC1365  60702058012  0.251527  0.023475  0.334999  0.019637"
      ]
     },
     "execution_count": 28,
     "metadata": {},
     "output_type": "execute_result"
    }
   ],
   "source": [
    "variability"
   ]
  },
  {
   "cell_type": "code",
   "execution_count": null,
   "metadata": {},
   "outputs": [],
   "source": []
  },
  {
   "cell_type": "markdown",
   "metadata": {},
   "source": [
    "# plot_lightcurve"
   ]
  },
  {
   "cell_type": "code",
   "execution_count": null,
   "metadata": {
    "ExecuteTime": {
     "end_time": "2023-02-20T02:39:33.056846Z",
     "start_time": "2023-02-20T02:39:33.054103Z"
    }
   },
   "outputs": [],
   "source": [
    "slab_result_lc=slab_result.copy()\n",
    "slab_result_lc['mjd']= np.array(mjds_obsids)"
   ]
  },
  {
   "cell_type": "code",
   "execution_count": null,
   "metadata": {
    "ExecuteTime": {
     "end_time": "2023-02-20T02:39:33.075701Z",
     "start_time": "2023-02-20T02:39:33.057979Z"
    }
   },
   "outputs": [],
   "source": [
    "slab_result_lc"
   ]
  },
  {
   "cell_type": "code",
   "execution_count": null,
   "metadata": {
    "ExecuteTime": {
     "end_time": "2023-02-20T02:42:31.295867Z",
     "start_time": "2023-02-20T02:42:31.107138Z"
    }
   },
   "outputs": [],
   "source": [
    "fig = plt.figure(figsize=(9*1.5,9*1.5))\n",
    "fig.subplots_adjust(hspace=0., wspace = 0.0)\n",
    "ax = fig.add_subplot(3,3,1)\n",
    "\n",
    "xlabel='mjd'\n",
    "ylabel='zphabs_nh(10^22)'\n",
    "xerr_label=None #'log_f_err'\n",
    "yerr_label='zphabs_nh_err'\n",
    "color_label='black'\n",
    "#dataplot=slab_zgauss_result\n",
    "#ax=plot_errorbar_cmap(ax,dataplot,xlabel,ylabel,xerr=xerr_label,yerr=yerr_label,color_n=color_label,marker_n='name',size_n=None,logx=False,logy=False)\n",
    "dataplot=slab_result_lc\n",
    "ax=plot_errorbar(ax,dataplot,xlabel,ylabel,xerr=xerr_label,yerr=yerr_label,color_n=color_label,marker_n='name',size_n=None,logx=False,logy=False)\n",
    "set_ax_tick(ax)\n",
    "set_ax_locator(ax,xma=1000.0,xmi=200,yma=10,ymi=5)\n",
    "set_ax_legend(ax,bbox_to_anchor=(0.51, 0.99))\n",
    "#ax.set_ylim(-7,17)\n",
    "#ax.set_xlabel(r'log($L_{\\rm 2-10keV}/L_{\\rm Edd}$)')\n",
    "#ax.set_ylabel(r'$\\Gamma$')\n",
    "ax.set_xlabel(r'MJD')\n",
    "ax.set_ylabel(r'$N_{\\rm H,los (10^{22} cm^{-2})}$')\n",
    "#ax.semilogy()\n",
    "model_name='Slab'"
   ]
  },
  {
   "cell_type": "code",
   "execution_count": null,
   "metadata": {},
   "outputs": [],
   "source": []
  },
  {
   "cell_type": "markdown",
   "metadata": {},
   "source": [
    "# mission=swift"
   ]
  },
  {
   "cell_type": "code",
   "execution_count": null,
   "metadata": {
    "ExecuteTime": {
     "end_time": "2023-06-18T15:10:04.826368Z",
     "start_time": "2023-06-18T15:10:04.820978Z"
    }
   },
   "outputs": [],
   "source": [
    "from astroquery.heasarc import Heasarc\n",
    "heasarc = Heasarc()\n",
    "mission_swift = 'swiftmastr'"
   ]
  },
  {
   "cell_type": "markdown",
   "metadata": {
    "ExecuteTime": {
     "end_time": "2023-06-18T15:09:07.691606Z",
     "start_time": "2023-06-18T15:09:07.465489Z"
    }
   },
   "source": [
    "for i in heasarc.query_mission_list():\n",
    "    print(i)"
   ]
  },
  {
   "cell_type": "code",
   "execution_count": null,
   "metadata": {
    "ExecuteTime": {
     "end_time": "2023-06-18T15:13:35.509581Z",
     "start_time": "2023-06-18T15:13:27.368438Z"
    }
   },
   "outputs": [],
   "source": [
    "table = heasarc.query_object(OX_CLAGN5_nustar[3], mission=mission_swift,radius='1 arcmin')\n",
    "#table = table.group_by('START_TIME')"
   ]
  },
  {
   "cell_type": "code",
   "execution_count": null,
   "metadata": {
    "ExecuteTime": {
     "end_time": "2023-06-18T15:13:35.516993Z",
     "start_time": "2023-06-18T15:13:35.512000Z"
    }
   },
   "outputs": [],
   "source": [
    "table"
   ]
  },
  {
   "cell_type": "code",
   "execution_count": null,
   "metadata": {
    "ExecuteTime": {
     "end_time": "2023-06-18T15:17:49.669261Z",
     "start_time": "2023-06-18T15:17:49.515059Z"
    },
    "scrolled": false
   },
   "outputs": [],
   "source": [
    "obsids_swift=[]\n",
    "mjds_swift=[]\n",
    "names_swift=[]\n",
    "\n",
    "for object_name in OX_CLAGN5_nustar:\n",
    "    #object_name = OX_CLAGN5_nustar[0]\n",
    "    #print(object_name)\n",
    "    table = heasarc.query_object(object_name, mission=mission_swift,radius='1 arcmin')\n",
    "    table = table.group_by('START_TIME')\n",
    "    #table[:3].pprint()\n",
    "    if len(table)>0:\n",
    "        for index,name in enumerate(table['NAME']):    \n",
    "            if float(table['XRT_EXPOSURE'][index]/1000)>1:\n",
    "                mjd=float(table['START_TIME'][index])\n",
    "                year,month,day=convert_date_single(mjd).year,convert_date_single(mjd).month,convert_date_single(mjd).day\n",
    "                names_swift.append(name.strip())\n",
    "                print(object_name,'&',\n",
    "                      '%s'%table['OBSID'][index],'&',\n",
    "                      '%.1f'%mjd,'&',      \n",
    "                       '%d-%d-%d'%(year,month,day),'&',    \n",
    "                      '%.2f'%float(table['XRT_EXPOSURE'][index]/1000),\n",
    "                      table['SEARCH_OFFSET_'][index],\n",
    "                      \n",
    "                      '\\\\\\\\',\n",
    "                     )\n",
    "                obsids_swift.append('%s'%table['OBSID'][index])\n",
    "                mjds_swift.append(mjd)\n",
    "            #else: \n",
    "                #print()\n",
    "                #print(object_name,'&','%s'%table['OBSID'][index],'&','%.2f'%float(table['EXPOSURE_A'][index]/1000))"
   ]
  },
  {
   "cell_type": "code",
   "execution_count": null,
   "metadata": {},
   "outputs": [],
   "source": []
  },
  {
   "cell_type": "markdown",
   "metadata": {},
   "source": [
    "# mission= xmm"
   ]
  },
  {
   "cell_type": "code",
   "execution_count": null,
   "metadata": {
    "ExecuteTime": {
     "end_time": "2023-07-02T07:44:51.219177Z",
     "start_time": "2023-07-02T07:44:51.031481Z"
    }
   },
   "outputs": [],
   "source": [
    "from astroquery.heasarc import Heasarc\n",
    "heasarc = Heasarc()\n",
    "mission_xmm = 'xmmmaster'"
   ]
  },
  {
   "cell_type": "code",
   "execution_count": null,
   "metadata": {
    "ExecuteTime": {
     "end_time": "2023-07-02T07:44:51.815842Z",
     "start_time": "2023-07-02T07:44:51.774563Z"
    }
   },
   "outputs": [],
   "source": [
    "table = heasarc.query_object(OX_CLAGN5_nustar[0], mission=mission_xmm,radius='1 arcmin')\n",
    "table = table.group_by('TIME')"
   ]
  },
  {
   "cell_type": "code",
   "execution_count": null,
   "metadata": {
    "ExecuteTime": {
     "end_time": "2023-05-27T15:36:13.597345Z",
     "start_time": "2023-05-27T15:36:13.579527Z"
    }
   },
   "outputs": [],
   "source": [
    "table "
   ]
  },
  {
   "cell_type": "code",
   "execution_count": null,
   "metadata": {},
   "outputs": [],
   "source": []
  },
  {
   "cell_type": "code",
   "execution_count": null,
   "metadata": {
    "ExecuteTime": {
     "end_time": "2023-07-02T07:44:57.088979Z",
     "start_time": "2023-07-02T07:44:56.766229Z"
    }
   },
   "outputs": [],
   "source": [
    "obsids=[]\n",
    "mjds=[]\n",
    "names=[]\n",
    "\n",
    "for object_name in OX_CLAGN5_nustar:\n",
    "    #object_name = OX_CLAGN5_nustar[0]\n",
    "    #print(object_name)\n",
    "    table = heasarc.query_object(object_name, mission=mission_xmm,radius='10 arcsec')\n",
    "    table = table.group_by('TIME')\n",
    "    #table[:3].pprint()\n",
    "    for index,name in enumerate(table['NAME']):    \n",
    "        if float(table['DURATION'][index]/1000)>1:\n",
    "            mjd=float(table['TIME'][index])\n",
    "            year,month,day=convert_date_single(mjd).year,convert_date_single(mjd).month,convert_date_single(mjd).day\n",
    "            names.append(name.strip())\n",
    "            print(object_name,'&',\n",
    "                  '%s'%table['OBSID'][index],'&',\n",
    "                  '%.1f'%mjd,'&',      \n",
    "                   '%d-%d-%d'%(year,month,day),'&',    \n",
    "                  '%.2f'%float(table['DURATION'][index]/1000),  '\\\\\\\\',\n",
    "                 )\n",
    "            obsids.append('%s'%table['OBSID'][index])\n",
    "            mjds.append(mjd)\n",
    "        #else: \n",
    "            #print()\n",
    "            #print(object_name,'&','%s'%table['OBSID'][index],'&','%.2f'%float(table['EXPOSURE_A'][index]/1000))"
   ]
  },
  {
   "cell_type": "code",
   "execution_count": null,
   "metadata": {},
   "outputs": [],
   "source": []
  },
  {
   "cell_type": "code",
   "execution_count": null,
   "metadata": {},
   "outputs": [],
   "source": []
  },
  {
   "cell_type": "code",
   "execution_count": null,
   "metadata": {},
   "outputs": [],
   "source": []
  },
  {
   "cell_type": "markdown",
   "metadata": {},
   "source": [
    "# mission = 'numaster'"
   ]
  },
  {
   "cell_type": "code",
   "execution_count": 30,
   "metadata": {
    "ExecuteTime": {
     "end_time": "2023-12-02T08:07:25.700311Z",
     "start_time": "2023-12-02T08:07:25.653322Z"
    }
   },
   "outputs": [],
   "source": [
    "from astroquery.heasarc import Heasarc\n",
    "heasarc = Heasarc()\n",
    "mission = 'numaster'"
   ]
  },
  {
   "cell_type": "code",
   "execution_count": null,
   "metadata": {
    "ExecuteTime": {
     "end_time": "2023-11-24T08:08:14.466084Z",
     "start_time": "2023-11-24T08:08:14.450657Z"
    }
   },
   "outputs": [],
   "source": [
    "convert_date_single(57655.8).year,convert_date_single(57655.8).month,convert_date_single(57655.8).day"
   ]
  },
  {
   "cell_type": "markdown",
   "metadata": {},
   "source": [
    "## latex"
   ]
  },
  {
   "cell_type": "code",
   "execution_count": 31,
   "metadata": {
    "ExecuteTime": {
     "end_time": "2023-12-02T08:07:27.357678Z",
     "start_time": "2023-12-02T08:07:27.232709Z"
    }
   },
   "outputs": [
    {
     "name": "stdout",
     "output_type": "stream",
     "text": [
      "ESO 362-G18 & 60201046002 & 57655.8 & 2016-9-24 & 101.91 \\\\\n",
      "NGC 2992 & 60160371002 & 57358.6 & 2015-12-2 & 20.80 \\\\\n",
      "NGC 2992 & 90501623002 & 58613.0 & 2019-5-10 & 57.49 \\\\\n",
      "NGC 4151 & 60001111002 & 56243.3 & 2012-11-12 & 21.86 \\\\\n",
      "NGC 4151 & 60001111003 & 56243.8 & 2012-11-12 & 57.03 \\\\\n",
      "NGC 4151 & 60001111005 & 56245.3 & 2012-11-14 & 61.53 \\\\\n",
      "NGC 4151 & 60502017002 & 58688.3 & 2019-7-24 & 31.74 \\\\\n",
      "NGC 4151 & 60502017004 & 58799.4 & 2019-11-12 & 43.74 \\\\\n",
      "NGC 4151 & 60502017006 & 58841.5 & 2019-12-24 & 32.40 \\\\\n",
      "NGC 4151 & 60502017008 & 58858.3 & 2020-1-10 & 30.59 \\\\\n",
      "NGC 4151 & 60502017010 & 58867.5 & 2020-1-19 & 29.72 \\\\\n",
      "NGC 4151 & 60502017012 & 58871.3 & 2020-1-23 & 28.86 \\\\\n",
      "NGC 7582 & 60061318002 & 56170.7 & 2012-8-31 & 16.46 \\\\\n",
      "NGC 7582 & 60061318004 & 56184.7 & 2012-9-14 & 14.56 \\\\\n",
      "NGC 7582 & 60201003002 & 57506.2 & 2016-4-28 & 48.49 \\\\\n",
      "NGC 1365 & 60002046002 & 56133.9 & 2012-7-25 & 36.26 \\\\\n",
      "NGC 1365 & 60002046003 & 56134.7 & 2012-7-26 & 40.59 \\\\\n",
      "NGC 1365 & 60702058002 & 59320.9 & 2021-4-16 & 56.30 \\\\\n",
      "NGC 1365 & 60702058004 & 59326.8 & 2021-4-22 & 38.05 \\\\\n",
      "NGC 1365 & 60702058006 & 59333.3 & 2021-4-29 & 11.85 \\\\\n",
      "NGC 1365 & 60702058008 & 59336.0 & 2021-5-2 & 44.66 \\\\\n",
      "NGC 1365 & 60702058010 & 59340.5 & 2021-5-6 & 41.48 \\\\\n",
      "NGC 1365 & 60702058012 & 59342.7 & 2021-5-8 & 50.70 \\\\\n"
     ]
    },
    {
     "name": "stderr",
     "output_type": "stream",
     "text": [
      "WARNING: UnitsWarning: 'mjd' did not parse as fits unit: At col 0, Unit 'mjd' not supported by the FITS standard. Did you mean MJ or mJ? If this is meant to be a custom unit, define it with 'u.def_unit'. To have it recognized inside a file reader or other code, enable it with 'u.add_enabled_units'. For details, see https://docs.astropy.org/en/latest/units/combining_and_defining.html [astropy.units.core]\n",
      "WARNING: UnitsWarning: 'mjd' did not parse as fits unit: At col 0, Unit 'mjd' not supported by the FITS standard. Did you mean MJ or mJ? If this is meant to be a custom unit, define it with 'u.def_unit'. To have it recognized inside a file reader or other code, enable it with 'u.add_enabled_units'. For details, see https://docs.astropy.org/en/latest/units/combining_and_defining.html [astropy.units.core]\n",
      "WARNING: UnitsWarning: 'mjd' did not parse as fits unit: At col 0, Unit 'mjd' not supported by the FITS standard. Did you mean MJ or mJ? If this is meant to be a custom unit, define it with 'u.def_unit'. To have it recognized inside a file reader or other code, enable it with 'u.add_enabled_units'. For details, see https://docs.astropy.org/en/latest/units/combining_and_defining.html [astropy.units.core]\n",
      "WARNING: UnitsWarning: 'mjd' did not parse as fits unit: At col 0, Unit 'mjd' not supported by the FITS standard. Did you mean MJ or mJ? If this is meant to be a custom unit, define it with 'u.def_unit'. To have it recognized inside a file reader or other code, enable it with 'u.add_enabled_units'. For details, see https://docs.astropy.org/en/latest/units/combining_and_defining.html [astropy.units.core]\n",
      "WARNING: UnitsWarning: 'mjd' did not parse as fits unit: At col 0, Unit 'mjd' not supported by the FITS standard. Did you mean MJ or mJ? If this is meant to be a custom unit, define it with 'u.def_unit'. To have it recognized inside a file reader or other code, enable it with 'u.add_enabled_units'. For details, see https://docs.astropy.org/en/latest/units/combining_and_defining.html [astropy.units.core]\n"
     ]
    }
   ],
   "source": [
    "obsids=[]\n",
    "mjds=[]\n",
    "names=[]\n",
    "\n",
    "for object_name in OX_CLAGN5_nustar:\n",
    "    #object_name = OX_CLAGN5_nustar[0]\n",
    "    #print(object_name)\n",
    "    table = heasarc.query_object(object_name, mission=mission,radius='10 arcmin')\n",
    "    table = table.group_by('TIME')\n",
    "    #table[:3].pprint()\n",
    "    for index,name in enumerate(table['NAME']):    \n",
    "        if float(table['EXPOSURE_A'][index]/1000)>1:\n",
    "            mjd=float(table['TIME'][index])\n",
    "            year,month,day=convert_date_single(mjd).year,convert_date_single(mjd).month,convert_date_single(mjd).day\n",
    "            names.append(name.strip())\n",
    "            \n",
    "            obsid='%s'%table['OBSID'][index]\n",
    "            if obsid=='60002046005' or obsid=='60002046007' or obsid=='60002046009': #60002046005 60002046007 60002046009\n",
    "                continue \n",
    "\n",
    "            else:    \n",
    "            \n",
    "                print(object_name,'&',\n",
    "                  '%s'%table['OBSID'][index],'&',\n",
    "                  '%.1f'%mjd,'&',      \n",
    "                   '%d-%d-%d'%(year,month,day),'&',    \n",
    "                  '%.2f'%float(table['EXPOSURE_A'][index]/1000),  '\\\\\\\\',\n",
    "                 )\n",
    "            \n",
    "            obsids.append('%s'%table['OBSID'][index])\n",
    "            mjds.append(mjd)\n",
    "        #else: \n",
    "            #print()\n",
    "            #print(object_name,'&','%s'%table['OBSID'][index],'&','%.2f'%float(table['EXPOSURE_A'][index]/1000))"
   ]
  },
  {
   "cell_type": "code",
   "execution_count": 32,
   "metadata": {
    "ExecuteTime": {
     "end_time": "2023-12-02T08:07:48.869512Z",
     "start_time": "2023-12-02T08:07:48.750963Z"
    }
   },
   "outputs": [
    {
     "name": "stdout",
     "output_type": "stream",
     "text": [
      "101.91 ,\n",
      "20.80 ,\n",
      "57.49 ,\n",
      "21.86 ,\n",
      "57.03 ,\n",
      "61.53 ,\n",
      "31.74 ,\n",
      "43.74 ,\n",
      "32.40 ,\n",
      "30.59 ,\n",
      "29.72 ,\n",
      "28.86 ,\n",
      "16.46 ,\n",
      "14.56 ,\n",
      "48.49 ,\n",
      "36.26 ,\n",
      "40.59 ,\n",
      "66.29 ,\n",
      "73.65 ,\n",
      "69.87 ,\n",
      "56.30 ,\n",
      "38.05 ,\n",
      "11.85 ,\n",
      "44.66 ,\n",
      "41.48 ,\n",
      "50.70 ,\n"
     ]
    },
    {
     "name": "stderr",
     "output_type": "stream",
     "text": [
      "WARNING: UnitsWarning: 'mjd' did not parse as fits unit: At col 0, Unit 'mjd' not supported by the FITS standard. Did you mean MJ or mJ? If this is meant to be a custom unit, define it with 'u.def_unit'. To have it recognized inside a file reader or other code, enable it with 'u.add_enabled_units'. For details, see https://docs.astropy.org/en/latest/units/combining_and_defining.html [astropy.units.core]\n",
      "WARNING: UnitsWarning: 'mjd' did not parse as fits unit: At col 0, Unit 'mjd' not supported by the FITS standard. Did you mean MJ or mJ? If this is meant to be a custom unit, define it with 'u.def_unit'. To have it recognized inside a file reader or other code, enable it with 'u.add_enabled_units'. For details, see https://docs.astropy.org/en/latest/units/combining_and_defining.html [astropy.units.core]\n",
      "WARNING: UnitsWarning: 'mjd' did not parse as fits unit: At col 0, Unit 'mjd' not supported by the FITS standard. Did you mean MJ or mJ? If this is meant to be a custom unit, define it with 'u.def_unit'. To have it recognized inside a file reader or other code, enable it with 'u.add_enabled_units'. For details, see https://docs.astropy.org/en/latest/units/combining_and_defining.html [astropy.units.core]\n",
      "WARNING: UnitsWarning: 'mjd' did not parse as fits unit: At col 0, Unit 'mjd' not supported by the FITS standard. Did you mean MJ or mJ? If this is meant to be a custom unit, define it with 'u.def_unit'. To have it recognized inside a file reader or other code, enable it with 'u.add_enabled_units'. For details, see https://docs.astropy.org/en/latest/units/combining_and_defining.html [astropy.units.core]\n",
      "WARNING: UnitsWarning: 'mjd' did not parse as fits unit: At col 0, Unit 'mjd' not supported by the FITS standard. Did you mean MJ or mJ? If this is meant to be a custom unit, define it with 'u.def_unit'. To have it recognized inside a file reader or other code, enable it with 'u.add_enabled_units'. For details, see https://docs.astropy.org/en/latest/units/combining_and_defining.html [astropy.units.core]\n"
     ]
    }
   ],
   "source": [
    "obsids=[]\n",
    "mjds=[]\n",
    "names=[]\n",
    "\n",
    "for object_name in OX_CLAGN5_nustar:\n",
    "    #object_name = OX_CLAGN5_nustar[0]\n",
    "    #print(object_name)\n",
    "    table = heasarc.query_object(object_name, mission=mission,radius='10 arcmin')\n",
    "    table = table.group_by('TIME')\n",
    "    #table[:3].pprint()\n",
    "    for index,name in enumerate(table['NAME']):    \n",
    "        if float(table['EXPOSURE_A'][index]/1000)>1:\n",
    "            mjd=float(table['TIME'][index])\n",
    "            year,month,day=convert_date_single(mjd).year,convert_date_single(mjd).month,convert_date_single(mjd).day\n",
    "            names.append(name.strip())\n",
    "            print(   \n",
    "                  '%.2f'%float(table['EXPOSURE_A'][index]/1000),  ',',\n",
    "                 )\n",
    "            obsids.append('%s'%table['OBSID'][index])\n",
    "            mjds.append(mjd)\n",
    "        #else: \n",
    "            #print()\n",
    "            #print(object_name,'&','%s'%table['OBSID'][index],'&','%.2f'%float(table['EXPOSURE_A'][index]/1000))"
   ]
  },
  {
   "cell_type": "code",
   "execution_count": null,
   "metadata": {
    "ExecuteTime": {
     "end_time": "2023-01-03T06:54:43.484813Z",
     "start_time": "2023-01-03T06:54:43.476565Z"
    }
   },
   "outputs": [],
   "source": [
    "names"
   ]
  },
  {
   "cell_type": "code",
   "execution_count": null,
   "metadata": {
    "ExecuteTime": {
     "end_time": "2023-01-03T06:33:49.692817Z",
     "start_time": "2023-01-03T06:33:49.682266Z"
    }
   },
   "outputs": [],
   "source": [
    "obsids"
   ]
  },
  {
   "cell_type": "code",
   "execution_count": null,
   "metadata": {
    "ExecuteTime": {
     "end_time": "2023-01-03T06:33:51.352478Z",
     "start_time": "2023-01-03T06:33:51.344100Z"
    }
   },
   "outputs": [],
   "source": [
    "mjds"
   ]
  },
  {
   "cell_type": "code",
   "execution_count": null,
   "metadata": {},
   "outputs": [],
   "source": []
  },
  {
   "cell_type": "markdown",
   "metadata": {},
   "source": [
    "## net_count_rates"
   ]
  },
  {
   "cell_type": "markdown",
   "metadata": {},
   "source": [
    "## def get_net_counts_rate"
   ]
  },
  {
   "cell_type": "code",
   "execution_count": 33,
   "metadata": {
    "ExecuteTime": {
     "end_time": "2023-12-02T08:07:53.394604Z",
     "start_time": "2023-12-02T08:07:53.382830Z"
    }
   },
   "outputs": [],
   "source": [
    "def get_net_counts_rate(path):\n",
    "    with open(path,'r+') as f:\n",
    "        lines=f.readlines()    \n",
    "        for line in lines[:20]:\n",
    "            if line.find('Net count rate (cts/s) for Spectrum')>=0:\n",
    "                net_count_rate=float(line.split('Net count rate (cts/s) for Spectrum:1')[1].split('+/-')[0].strip())\n",
    "                net_count_rate_err=float(line.split('Net count rate (cts/s) for Spectrum:1')[1].split('+/-')[1].split('(')[0].strip())              \n",
    "    return net_count_rate,net_count_rate_err"
   ]
  },
  {
   "cell_type": "code",
   "execution_count": 34,
   "metadata": {
    "ExecuteTime": {
     "end_time": "2023-12-02T08:07:54.355832Z",
     "start_time": "2023-12-02T08:07:54.304870Z"
    }
   },
   "outputs": [
    {
     "name": "stdout",
     "output_type": "stream",
     "text": [
      "& 0.355 \\pm 0.002\n",
      "& 1.905 \\pm 0.010\n",
      "& 2.646 \\pm 0.007\n",
      "& 6.713 \\pm 0.018\n",
      "& 6.358 \\pm 0.011\n",
      "& 7.343 \\pm 0.011\n",
      "& 6.244 \\pm 0.014\n",
      "& 8.128 \\pm 0.014\n",
      "& 7.666 \\pm 0.016\n",
      "& 5.710 \\pm 0.014\n",
      "& 6.067 \\pm 0.014\n",
      "& 5.994 \\pm 0.015\n",
      "& 0.311 \\pm 0.005\n",
      "& 0.245 \\pm 0.005\n",
      "& 0.564 \\pm 0.004\n",
      "& 0.388 \\pm 0.004\n",
      "& 0.442 \\pm 0.004\n",
      "& 0.865 \\pm 0.004\n",
      "& 0.874 \\pm 0.004\n",
      "& 0.656 \\pm 0.003\n",
      "& 0.292 \\pm 0.003\n",
      "& 0.298 \\pm 0.003\n",
      "& 0.242 \\pm 0.005\n",
      "& 0.317 \\pm 0.003\n",
      "& 0.269 \\pm 0.003\n",
      "& 0.180 \\pm 0.002\n"
     ]
    }
   ],
   "source": [
    "net_count_rates=[]\n",
    "net_count_rate_errs=[]\n",
    "\n",
    "for index,name in enumerate(OX_CLAGN5_nustar_dir):     \n",
    "    sourcefilename=OX_CLAGN5_nustar_fileprefix[index]\n",
    "    Gal_NH=OX_CLAGN5_galNH[index]\n",
    "    redshift=OX_CLAGN5_redshift[index]\n",
    "    inclination_angle=OX_CLAGN5_inclination[index]\n",
    "    cos_inclination_angle=np.cos(inclination_angle*np.pi/180)\n",
    "    #print(os.path.join(NuSTARdatadir,i))\n",
    "    #print(name,os.path.join(NuSTARdatadir,name,'nustar'))\n",
    "    obsids=get_obsids(os.path.join(NuSTARdatadir,name,'nustar'))\n",
    "    ps_obsid_dir=os.path.join(model_fitdir,'pexrav')\n",
    "    #print(obsids)\n",
    "    for obsid in obsids:\n",
    "        #print(name,obsid,os.path.join(NuSTARdatadir,name,'nustar',obsid,'grp_pipeline_products'))\n",
    "        path=os.path.join(ps_obsid_dir,'xspec_joint_pexrav_fscat_result_%s_%s.txt'%(name,obsid))\n",
    "        if os.path.exists(path):\n",
    "            #print(path)\n",
    "        \n",
    "            net_count_rate,net_count_rate_err=get_net_counts_rate(path)\n",
    "            #print(name,obsid,'%.3f'%net_count_rate,'%.3f'%net_count_rate_err)\n",
    "            print('& %.3f'%net_count_rate,'\\pm','%.3f'%net_count_rate_err)  \n",
    "            net_count_rates.append(net_count_rate)\n",
    "            net_count_rate_errs.append(net_count_rate_err)"
   ]
  },
  {
   "cell_type": "code",
   "execution_count": null,
   "metadata": {
    "ExecuteTime": {
     "end_time": "2023-11-24T08:13:11.328602Z",
     "start_time": "2023-11-24T08:13:11.321431Z"
    }
   },
   "outputs": [],
   "source": [
    "net_count_rates,net_count_rate_errs"
   ]
  },
  {
   "cell_type": "markdown",
   "metadata": {
    "ExecuteTime": {
     "end_time": "2023-10-30T11:33:37.176811Z",
     "start_time": "2023-10-30T11:33:37.165936Z"
    }
   },
   "source": [
    "net_count_rates=[0.3553,\n",
    " 1.905,\n",
    " 2.646,\n",
    " 6.713,\n",
    " 6.358,\n",
    " 7.343,\n",
    " 6.244,\n",
    " 8.128,\n",
    " 7.666,\n",
    " 5.71,\n",
    " 6.067,\n",
    " 5.994,\n",
    " 0.3112,\n",
    " 0.2451,\n",
    " 0.5643]\n",
    "\n",
    "net_count_rate_errs=[0.002119,\n",
    " 0.009874,\n",
    " 0.006965,\n",
    " 0.01771,\n",
    " 0.01069,\n",
    " 0.01111,\n",
    " 0.01421,\n",
    " 0.01379,\n",
    " 0.01555,\n",
    " 0.01387,\n",
    " 0.01448,\n",
    " 0.01469,\n",
    " 0.004819,\n",
    " 0.004616,\n",
    " 0.003694]"
   ]
  },
  {
   "cell_type": "markdown",
   "metadata": {
    "ExecuteTime": {
     "end_time": "2023-10-30T11:33:38.295825Z",
     "start_time": "2023-10-30T11:33:38.270601Z"
    }
   },
   "source": [
    "variability.columns"
   ]
  },
  {
   "cell_type": "markdown",
   "metadata": {},
   "source": [
    "## latex_variability"
   ]
  },
  {
   "cell_type": "code",
   "execution_count": 35,
   "metadata": {
    "ExecuteTime": {
     "end_time": "2023-12-02T08:07:58.486390Z",
     "start_time": "2023-12-02T08:07:58.370223Z"
    }
   },
   "outputs": [
    {
     "name": "stdout",
     "output_type": "stream",
     "text": [
      "ESO 362-G18 & 60201046002 & 57655.8 & 2016-9-24 & 101.91 & 0.355 $\\pm$ 0.002 & 0.31 $\\pm$ 0.01 \\\\\n",
      "NGC 2992 & 60160371002 & 57358.6 & 2015-12-2 & 20.80 & 1.905 $\\pm$ 0.010 & 0.15 $\\pm$ 0.02 \\\\\n",
      "NGC 2992 & 90501623002 & 58613.0 & 2019-5-10 & 57.49 & 2.646 $\\pm$ 0.007 & 0.14 $\\pm$ 0.01 \\\\\n",
      "NGC 4151 & 60001111002 & 56243.3 & 2012-11-12 & 21.86 & 6.713 $\\pm$ 0.018 & 0.10 $\\pm$ 0.02 \\\\\n",
      "NGC 4151 & 60001111003 & 56243.8 & 2012-11-12 & 57.03 & 6.358 $\\pm$ 0.011 & 0.16 $\\pm$ 0.01 \\\\\n",
      "NGC 4151 & 60001111005 & 56245.3 & 2012-11-14 & 61.53 & 7.343 $\\pm$ 0.011 & 0.12 $\\pm$ 0.01 \\\\\n",
      "NGC 4151 & 60502017002 & 58688.3 & 2019-7-24 & 31.74 & 6.244 $\\pm$ 0.014 & 0.18 $\\pm$ 0.02 \\\\\n",
      "NGC 4151 & 60502017004 & 58799.4 & 2019-11-12 & 43.74 & 8.128 $\\pm$ 0.014 & 0.11 $\\pm$ 0.01 \\\\\n",
      "NGC 4151 & 60502017006 & 58841.5 & 2019-12-24 & 32.40 & 7.666 $\\pm$ 0.016 & 0.12 $\\pm$ 0.02 \\\\\n",
      "NGC 4151 & 60502017008 & 58858.3 & 2020-1-10 & 30.59 & 5.710 $\\pm$ 0.014 & 0.12 $\\pm$ 0.02 \\\\\n",
      "NGC 4151 & 60502017010 & 58867.5 & 2020-1-19 & 29.72 & 6.067 $\\pm$ 0.014 & 0.15 $\\pm$ 0.02 \\\\\n",
      "NGC 4151 & 60502017012 & 58871.3 & 2020-1-23 & 28.86 & 5.994 $\\pm$ 0.015 & 0.11 $\\pm$ 0.02 \\\\\n",
      "NGC 7582 & 60061318002 & 56170.7 & 2012-8-31 & 16.46 & 0.311 $\\pm$ 0.005 & 0.25 $\\pm$ 0.03 \\\\\n",
      "NGC 7582 & 60061318004 & 56184.7 & 2012-9-14 & 14.56 & 0.245 $\\pm$ 0.005 & 0.06 $\\pm$ 0.13 \\\\\n",
      "NGC 7582 & 60201003002 & 57506.2 & 2016-4-28 & 48.49 & 0.564 $\\pm$ 0.004 & 0.26 $\\pm$ 0.02 \\\\\n",
      "NGC 1365 & 60002046002 & 56133.9 & 2012-7-25 & 36.26 & 0.388 $\\pm$ 0.004 & 0.28 $\\pm$ 0.02 \\\\\n",
      "NGC 1365 & 60002046003 & 56134.7 & 2012-7-26 & 40.59 & 0.442 $\\pm$ 0.004 & 0.25 $\\pm$ 0.02 \\\\\n",
      "NGC 1365 & 60002046005 & 56285.6 & 2012-12-24 & 66.29 & 0.865 $\\pm$ 0.004 & 0.25 $\\pm$ 0.01 \\\\\n",
      "NGC 1365 & 60002046007 & 56315.4 & 2013-1-23 & 73.65 & 0.874 $\\pm$ 0.004 & 0.40 $\\pm$ 0.01 \\\\\n",
      "NGC 1365 & 60002046009 & 56335.5 & 2013-2-12 & 69.87 & 0.656 $\\pm$ 0.003 & 0.40 $\\pm$ 0.01 \\\\\n",
      "NGC 1365 & 60702058002 & 59320.9 & 2021-4-16 & 56.30 & 0.292 $\\pm$ 0.003 & 0.33 $\\pm$ 0.02 \\\\\n",
      "NGC 1365 & 60702058004 & 59326.8 & 2021-4-22 & 38.05 & 0.298 $\\pm$ 0.003 & 0.67 $\\pm$ 0.02 \\\\\n",
      "NGC 1365 & 60702058006 & 59333.3 & 2021-4-29 & 11.85 & 0.242 $\\pm$ 0.005 & 0.26 $\\pm$ 0.04 \\\\\n",
      "NGC 1365 & 60702058008 & 59336.0 & 2021-5-2 & 44.66 & 0.317 $\\pm$ 0.003 & 0.31 $\\pm$ 0.02 \\\\\n",
      "NGC 1365 & 60702058010 & 59340.5 & 2021-5-6 & 41.48 & 0.269 $\\pm$ 0.003 & 0.25 $\\pm$ 0.02 \\\\\n",
      "NGC 1365 & 60702058012 & 59342.7 & 2021-5-8 & 50.70 & 0.180 $\\pm$ 0.002 & 0.25 $\\pm$ 0.02 \\\\\n"
     ]
    },
    {
     "name": "stderr",
     "output_type": "stream",
     "text": [
      "WARNING: UnitsWarning: 'mjd' did not parse as fits unit: At col 0, Unit 'mjd' not supported by the FITS standard. Did you mean MJ or mJ? If this is meant to be a custom unit, define it with 'u.def_unit'. To have it recognized inside a file reader or other code, enable it with 'u.add_enabled_units'. For details, see https://docs.astropy.org/en/latest/units/combining_and_defining.html [astropy.units.core]\n",
      "WARNING: UnitsWarning: 'mjd' did not parse as fits unit: At col 0, Unit 'mjd' not supported by the FITS standard. Did you mean MJ or mJ? If this is meant to be a custom unit, define it with 'u.def_unit'. To have it recognized inside a file reader or other code, enable it with 'u.add_enabled_units'. For details, see https://docs.astropy.org/en/latest/units/combining_and_defining.html [astropy.units.core]\n",
      "WARNING: UnitsWarning: 'mjd' did not parse as fits unit: At col 0, Unit 'mjd' not supported by the FITS standard. Did you mean MJ or mJ? If this is meant to be a custom unit, define it with 'u.def_unit'. To have it recognized inside a file reader or other code, enable it with 'u.add_enabled_units'. For details, see https://docs.astropy.org/en/latest/units/combining_and_defining.html [astropy.units.core]\n",
      "WARNING: UnitsWarning: 'mjd' did not parse as fits unit: At col 0, Unit 'mjd' not supported by the FITS standard. Did you mean MJ or mJ? If this is meant to be a custom unit, define it with 'u.def_unit'. To have it recognized inside a file reader or other code, enable it with 'u.add_enabled_units'. For details, see https://docs.astropy.org/en/latest/units/combining_and_defining.html [astropy.units.core]\n",
      "WARNING: UnitsWarning: 'mjd' did not parse as fits unit: At col 0, Unit 'mjd' not supported by the FITS standard. Did you mean MJ or mJ? If this is meant to be a custom unit, define it with 'u.def_unit'. To have it recognized inside a file reader or other code, enable it with 'u.add_enabled_units'. For details, see https://docs.astropy.org/en/latest/units/combining_and_defining.html [astropy.units.core]\n"
     ]
    }
   ],
   "source": [
    "obs_index=0\n",
    "\n",
    "for object_name in OX_CLAGN5_nustar:\n",
    "    #object_name = OX_CLAGN5_nustar[0]\n",
    "    #print(object_name)\n",
    "    table = heasarc.query_object(object_name, mission=mission,radius='10 arcmin')\n",
    "    table = table.group_by('TIME')\n",
    "    #table[:3].pprint()\n",
    "    for index,name in enumerate(table['NAME']):    \n",
    "        if float(table['EXPOSURE_A'][index]/1000)>1:\n",
    "            mjd=float(table['TIME'][index])\n",
    "            year,month,day=convert_date_single(mjd).year,convert_date_single(mjd).month,convert_date_single(mjd).day\n",
    "            print(object_name,'&',\n",
    "                  '%s'%table['OBSID'][index],'&',\n",
    "                  '%.1f'%mjd,'&',      \n",
    "                   '%d-%d-%d'%(year,month,day),'&',    \n",
    "                  '%.2f'%float(table['EXPOSURE_A'][index]/1000), \n",
    "                  '& %.3f'%net_count_rates[obs_index],'$\\pm$','%.3f'%net_count_rate_errs[obs_index], \n",
    "                  '& %.2f'%variability['Afvar'][obs_index],'$\\pm$','%.2f'%variability['Afvarerr'][obs_index], \n",
    "                  \n",
    "                  '\\\\\\\\',\n",
    "                 )\n",
    "            obs_index=obs_index+1            \n",
    "        #else: \n",
    "            #print()\n",
    "            #print(object_name,'&','%s'%table['OBSID'][index],'&','%.2f'%float(table['EXPOSURE_A'][index]/1000))"
   ]
  },
  {
   "cell_type": "code",
   "execution_count": 77,
   "metadata": {
    "ExecuteTime": {
     "end_time": "2023-12-02T08:25:53.948708Z",
     "start_time": "2023-12-02T08:25:53.942035Z"
    }
   },
   "outputs": [
    {
     "data": {
      "text/plain": [
       "['ESO 362-G18', 'NGC 1365', 'NGC 2992', 'NGC 4151', 'NGC 7582']"
      ]
     },
     "execution_count": 77,
     "metadata": {},
     "output_type": "execute_result"
    }
   ],
   "source": [
    "OX_CLAGN5_nustar"
   ]
  },
  {
   "cell_type": "code",
   "execution_count": 79,
   "metadata": {
    "ExecuteTime": {
     "end_time": "2023-12-02T08:26:40.807434Z",
     "start_time": "2023-12-02T08:26:40.797941Z"
    }
   },
   "outputs": [],
   "source": [
    "OX_CLAGN5_nustar_sort=OX_CLAGN5_nustar.copy()\n",
    "OX_CLAGN5_nustar_sort.sort()"
   ]
  },
  {
   "cell_type": "code",
   "execution_count": 80,
   "metadata": {
    "ExecuteTime": {
     "end_time": "2023-12-02T08:26:41.846151Z",
     "start_time": "2023-12-02T08:26:41.839202Z"
    }
   },
   "outputs": [
    {
     "data": {
      "text/plain": [
       "['ESO 362-G18', 'NGC 1365', 'NGC 2992', 'NGC 4151', 'NGC 7582']"
      ]
     },
     "execution_count": 80,
     "metadata": {},
     "output_type": "execute_result"
    }
   ],
   "source": [
    "OX_CLAGN5_nustar_sort"
   ]
  },
  {
   "cell_type": "code",
   "execution_count": null,
   "metadata": {},
   "outputs": [],
   "source": []
  },
  {
   "cell_type": "code",
   "execution_count": 82,
   "metadata": {
    "ExecuteTime": {
     "end_time": "2023-12-02T08:28:52.386266Z",
     "start_time": "2023-12-02T08:28:52.271747Z"
    }
   },
   "outputs": [
    {
     "name": "stdout",
     "output_type": "stream",
     "text": [
      "ESO 362-G18 & 60201046002 & 57655.8 & 2016-9-24 & 101.91 & 0.355 $\\pm$ 0.002 \\\\\n",
      "NGC 1365 & 60002046002 & 56133.9 & 2012-7-25 & 36.26 & 1.905 $\\pm$ 0.010 \\\\\n",
      "NGC 1365 & 60002046003 & 56134.7 & 2012-7-26 & 40.59 & 2.646 $\\pm$ 0.007 \\\\\n",
      "NGC 1365 & 60702058002 & 59320.9 & 2021-4-16 & 56.30 & 6.713 $\\pm$ 0.018 \\\\\n",
      "NGC 1365 & 60702058004 & 59326.8 & 2021-4-22 & 38.05 & 6.358 $\\pm$ 0.011 \\\\\n",
      "NGC 1365 & 60702058006 & 59333.3 & 2021-4-29 & 11.85 & 7.343 $\\pm$ 0.011 \\\\\n",
      "NGC 1365 & 60702058008 & 59336.0 & 2021-5-2 & 44.66 & 6.244 $\\pm$ 0.014 \\\\\n",
      "NGC 1365 & 60702058010 & 59340.5 & 2021-5-6 & 41.48 & 8.128 $\\pm$ 0.014 \\\\\n",
      "NGC 1365 & 60702058012 & 59342.7 & 2021-5-8 & 50.70 & 7.666 $\\pm$ 0.016 \\\\\n",
      "NGC 2992 & 60160371002 & 57358.6 & 2015-12-2 & 20.80 & 5.710 $\\pm$ 0.014 \\\\\n",
      "NGC 2992 & 90501623002 & 58613.0 & 2019-5-10 & 57.49 & 6.067 $\\pm$ 0.014 \\\\\n",
      "NGC 4151 & 60001111002 & 56243.3 & 2012-11-12 & 21.86 & 5.994 $\\pm$ 0.015 \\\\\n",
      "NGC 4151 & 60001111003 & 56243.8 & 2012-11-12 & 57.03 & 0.311 $\\pm$ 0.005 \\\\\n",
      "NGC 4151 & 60001111005 & 56245.3 & 2012-11-14 & 61.53 & 0.245 $\\pm$ 0.005 \\\\\n",
      "NGC 4151 & 60502017002 & 58688.3 & 2019-7-24 & 31.74 & 0.564 $\\pm$ 0.004 \\\\\n",
      "NGC 4151 & 60502017004 & 58799.4 & 2019-11-12 & 43.74 & 0.388 $\\pm$ 0.004 \\\\\n",
      "NGC 4151 & 60502017006 & 58841.5 & 2019-12-24 & 32.40 & 0.442 $\\pm$ 0.004 \\\\\n",
      "NGC 4151 & 60502017008 & 58858.3 & 2020-1-10 & 30.59 & 0.865 $\\pm$ 0.004 \\\\\n",
      "NGC 4151 & 60502017010 & 58867.5 & 2020-1-19 & 29.72 & 0.874 $\\pm$ 0.004 \\\\\n",
      "NGC 4151 & 60502017012 & 58871.3 & 2020-1-23 & 28.86 & 0.656 $\\pm$ 0.003 \\\\\n",
      "NGC 7582 & 60061318002 & 56170.7 & 2012-8-31 & 16.46 & 0.292 $\\pm$ 0.003 \\\\\n",
      "NGC 7582 & 60061318004 & 56184.7 & 2012-9-14 & 14.56 & 0.298 $\\pm$ 0.003 \\\\\n",
      "NGC 7582 & 60201003002 & 57506.2 & 2016-4-28 & 48.49 & 0.242 $\\pm$ 0.005 \\\\\n"
     ]
    },
    {
     "name": "stderr",
     "output_type": "stream",
     "text": [
      "WARNING: UnitsWarning: 'mjd' did not parse as fits unit: At col 0, Unit 'mjd' not supported by the FITS standard. Did you mean MJ or mJ? If this is meant to be a custom unit, define it with 'u.def_unit'. To have it recognized inside a file reader or other code, enable it with 'u.add_enabled_units'. For details, see https://docs.astropy.org/en/latest/units/combining_and_defining.html [astropy.units.core]\n",
      "WARNING: UnitsWarning: 'mjd' did not parse as fits unit: At col 0, Unit 'mjd' not supported by the FITS standard. Did you mean MJ or mJ? If this is meant to be a custom unit, define it with 'u.def_unit'. To have it recognized inside a file reader or other code, enable it with 'u.add_enabled_units'. For details, see https://docs.astropy.org/en/latest/units/combining_and_defining.html [astropy.units.core]\n",
      "WARNING: UnitsWarning: 'mjd' did not parse as fits unit: At col 0, Unit 'mjd' not supported by the FITS standard. Did you mean MJ or mJ? If this is meant to be a custom unit, define it with 'u.def_unit'. To have it recognized inside a file reader or other code, enable it with 'u.add_enabled_units'. For details, see https://docs.astropy.org/en/latest/units/combining_and_defining.html [astropy.units.core]\n",
      "WARNING: UnitsWarning: 'mjd' did not parse as fits unit: At col 0, Unit 'mjd' not supported by the FITS standard. Did you mean MJ or mJ? If this is meant to be a custom unit, define it with 'u.def_unit'. To have it recognized inside a file reader or other code, enable it with 'u.add_enabled_units'. For details, see https://docs.astropy.org/en/latest/units/combining_and_defining.html [astropy.units.core]\n",
      "WARNING: UnitsWarning: 'mjd' did not parse as fits unit: At col 0, Unit 'mjd' not supported by the FITS standard. Did you mean MJ or mJ? If this is meant to be a custom unit, define it with 'u.def_unit'. To have it recognized inside a file reader or other code, enable it with 'u.add_enabled_units'. For details, see https://docs.astropy.org/en/latest/units/combining_and_defining.html [astropy.units.core]\n"
     ]
    }
   ],
   "source": [
    "obs_index=0\n",
    "\n",
    "for object_name in OX_CLAGN5_nustar_sort:\n",
    "    #object_name = OX_CLAGN5_nustar[0]\n",
    "    #print(object_name)\n",
    "    table = heasarc.query_object(object_name, mission=mission,radius='10 arcmin')\n",
    "    table = table.group_by('TIME')\n",
    "    #table[:3].pprint()\n",
    "    for index,name in enumerate(table['NAME']):    \n",
    "        if float(table['EXPOSURE_A'][index]/1000)>1:\n",
    "            mjd=float(table['TIME'][index])\n",
    "            year,month,day=convert_date_single(mjd).year,convert_date_single(mjd).month,convert_date_single(mjd).day\n",
    "            obsid='%s'%table['OBSID'][index]\n",
    "            \n",
    "            if obsid=='60002046005' or obsid=='60002046007' or obsid=='60002046009': #60002046005 60002046007 60002046009\n",
    "                continue      \n",
    "            else:\n",
    "\n",
    "                print(object_name,'&',\n",
    "                      '%s'%table['OBSID'][index],'&',\n",
    "                      '%.1f'%mjd,'&',      \n",
    "                       '%d-%d-%d'%(year,month,day),'&',    \n",
    "                      '%.2f'%float(table['EXPOSURE_A'][index]/1000), \n",
    "                      '& %.3f'%net_count_rates[obs_index],'$\\pm$','%.3f'%net_count_rate_errs[obs_index], \n",
    "                      #'& %.2f'%variability['Afvar'][obs_index],'$\\pm$','%.2f'%variability['Afvarerr'][obs_index], \n",
    "\n",
    "                      '\\\\\\\\',\n",
    "                     )\n",
    "                obs_index=obs_index+1            \n",
    "            #else: \n",
    "                #print()\n",
    "                #print(object_name,'&','%s'%table['OBSID'][index],'&','%.2f'%float(table['EXPOSURE_A'][index]/1000))"
   ]
  },
  {
   "cell_type": "code",
   "execution_count": null,
   "metadata": {},
   "outputs": [],
   "source": []
  },
  {
   "cell_type": "code",
   "execution_count": null,
   "metadata": {},
   "outputs": [],
   "source": [
    "ESO 362-G18 & 60201046002 & 57655.8 & 2016-9-24 & 101.91 \\\\\n",
    "NGC 2992 & 90501623002 & 58613.0 & 2019-5-10 & 57.49 \\\\\n",
    "NGC 2992 & 60160371002 & 57358.6 & 2015-12-2 & 20.80 \\\\\n",
    "NGC 4151 & 60001111005 & 56245.3 & 2012-11-14 & 61.53 \\\\\n",
    "NGC 4151 & 60001111003 & 56243.8 & 2012-11-12 & 57.03 \\\\\n",
    "NGC 4151 & 60502017004 & 58799.4 & 2019-11-12 & 43.74 \\\\\n",
    "NGC 4151 & 60502017006 & 58841.5 & 2019-12-24 & 32.40 \\\\\n",
    "NGC 4151 & 60502017002 & 58688.3 & 2019-7-24 & 31.74 \\\\\n",
    "NGC 4151 & 60502017008 & 58858.3 & 2020-1-10 & 30.59 \\\\\n",
    "NGC 4151 & 60502017010 & 58867.5 & 2020-1-19 & 29.72 \\\\\n",
    "NGC 4151 & 60502017012 & 58871.3 & 2020-1-23 & 28.86 \\\\\n",
    "NGC 4151 & 60001111002 & 56243.3 & 2012-11-12 & 21.86 \\\\\n",
    "NGC 4395 & 60061322002 & 56422.1 & 2013-5-10 & 19.25 \\\\\n",
    "NGC 7582 & 60201003002 & 57506.2 & 2016-4-28 & 48.49 \\\\\n",
    "NGC 7582 & 60061318002 & 56170.7 & 2012-8-31 & 16.46 \\\\\n",
    "NGC 7582 & 60061318004 & 56184.7 & 2012-9-14 & 14.56 \\\\"
   ]
  },
  {
   "cell_type": "code",
   "execution_count": null,
   "metadata": {
    "ExecuteTime": {
     "end_time": "2022-11-11T04:25:13.732473Z",
     "start_time": "2022-11-11T04:25:13.721760Z"
    }
   },
   "outputs": [],
   "source": [
    "61/(1+0.361),195/(1+0.158)"
   ]
  },
  {
   "cell_type": "code",
   "execution_count": null,
   "metadata": {},
   "outputs": [],
   "source": []
  },
  {
   "cell_type": "markdown",
   "metadata": {},
   "source": [
    "## ESO 362-G18"
   ]
  },
  {
   "cell_type": "code",
   "execution_count": null,
   "metadata": {
    "ExecuteTime": {
     "end_time": "2023-06-15T04:00:27.021015Z",
     "start_time": "2023-06-15T04:00:26.959362Z"
    }
   },
   "outputs": [],
   "source": [
    "object_name = OX_CLAGN5_nustar[0]\n",
    "print(object_name)\n",
    "table = heasarc.query_object(object_name, mission=mission,radius='10 arcmin')\n",
    "#table[:3].pprint()"
   ]
  },
  {
   "cell_type": "code",
   "execution_count": null,
   "metadata": {
    "ExecuteTime": {
     "end_time": "2023-06-12T13:30:28.072986Z",
     "start_time": "2023-06-12T13:30:28.066454Z"
    }
   },
   "outputs": [],
   "source": [
    "table.colnames"
   ]
  },
  {
   "cell_type": "code",
   "execution_count": null,
   "metadata": {
    "ExecuteTime": {
     "end_time": "2023-06-12T13:30:29.185486Z",
     "start_time": "2023-06-12T13:30:29.172054Z"
    }
   },
   "outputs": [],
   "source": [
    "table = table.group_by('TIME')"
   ]
  },
  {
   "cell_type": "code",
   "execution_count": null,
   "metadata": {
    "ExecuteTime": {
     "end_time": "2023-06-12T13:30:30.541084Z",
     "start_time": "2023-06-12T13:30:30.527633Z"
    }
   },
   "outputs": [],
   "source": [
    "table"
   ]
  },
  {
   "cell_type": "code",
   "execution_count": null,
   "metadata": {},
   "outputs": [],
   "source": []
  },
  {
   "cell_type": "code",
   "execution_count": null,
   "metadata": {
    "ExecuteTime": {
     "end_time": "2022-03-25T07:54:21.912086Z",
     "start_time": "2022-03-25T07:54:21.781557Z"
    }
   },
   "outputs": [],
   "source": [
    "table[:3].pprint()"
   ]
  },
  {
   "cell_type": "code",
   "execution_count": null,
   "metadata": {
    "ExecuteTime": {
     "end_time": "2023-06-15T04:00:30.391780Z",
     "start_time": "2023-06-15T04:00:30.380386Z"
    }
   },
   "outputs": [],
   "source": [
    "for index,name in enumerate(table['NAME']):\n",
    "    \n",
    "    print(object_name,'&',table['OBSID'][index],table['TIME'][index],table['EXPOSURE_A'][index])"
   ]
  },
  {
   "cell_type": "code",
   "execution_count": null,
   "metadata": {
    "ExecuteTime": {
     "end_time": "2022-10-18T09:36:29.091862Z",
     "start_time": "2022-10-18T09:36:29.080836Z"
    }
   },
   "outputs": [],
   "source": []
  },
  {
   "cell_type": "code",
   "execution_count": null,
   "metadata": {},
   "outputs": [],
   "source": []
  },
  {
   "cell_type": "code",
   "execution_count": null,
   "metadata": {},
   "outputs": [],
   "source": [
    "for i in range(len(table)):\n",
    "    \n",
    "    "
   ]
  },
  {
   "cell_type": "code",
   "execution_count": null,
   "metadata": {},
   "outputs": [],
   "source": []
  },
  {
   "cell_type": "code",
   "execution_count": null,
   "metadata": {},
   "outputs": [],
   "source": []
  },
  {
   "cell_type": "markdown",
   "metadata": {},
   "source": [
    "## NGC 2992"
   ]
  },
  {
   "cell_type": "code",
   "execution_count": null,
   "metadata": {
    "ExecuteTime": {
     "end_time": "2022-05-18T15:16:12.217196Z",
     "start_time": "2022-05-18T15:16:12.061848Z"
    }
   },
   "outputs": [],
   "source": [
    "from astroquery.heasarc import Heasarc\n",
    "heasarc = Heasarc()\n",
    "mission = 'numaster'\n",
    "\n",
    "object_name = OX_CLAGN5_nustar[1]\n",
    "print(object_name)\n",
    "table = heasarc.query_object(object_name, mission=mission,radius='10 arcmin')\n",
    "#table[:3].pprint()\n",
    "table"
   ]
  },
  {
   "cell_type": "code",
   "execution_count": null,
   "metadata": {
    "ExecuteTime": {
     "end_time": "2022-05-18T15:18:52.507770Z",
     "start_time": "2022-05-18T15:18:46.736210Z"
    }
   },
   "outputs": [],
   "source": [
    "\n",
    "mission_chandra = 'chanmaster'\n",
    "\n",
    "object_name = OX_CLAGN5_nustar[1]\n",
    "print(object_name)\n",
    "table_chandra = heasarc.query_object(object_name, mission=mission_chandra,radius='1 arcmin')\n",
    "#table[:3].pprint()\n",
    "table_chandra"
   ]
  },
  {
   "cell_type": "code",
   "execution_count": null,
   "metadata": {},
   "outputs": [],
   "source": []
  },
  {
   "cell_type": "code",
   "execution_count": null,
   "metadata": {
    "ExecuteTime": {
     "end_time": "2022-05-18T15:33:42.108942Z",
     "start_time": "2022-05-18T15:33:42.102225Z"
    }
   },
   "outputs": [],
   "source": [
    "10**22.25"
   ]
  },
  {
   "cell_type": "code",
   "execution_count": null,
   "metadata": {},
   "outputs": [],
   "source": []
  },
  {
   "cell_type": "code",
   "execution_count": null,
   "metadata": {},
   "outputs": [],
   "source": []
  },
  {
   "cell_type": "markdown",
   "metadata": {},
   "source": [
    "## NGC 4151"
   ]
  },
  {
   "cell_type": "code",
   "execution_count": null,
   "metadata": {
    "ExecuteTime": {
     "end_time": "2022-03-25T07:57:55.944277Z",
     "start_time": "2022-03-25T07:57:50.124861Z"
    }
   },
   "outputs": [],
   "source": [
    "object_name = OX_CLAGN5_nustar[2]\n",
    "print(object_name)\n",
    "table = heasarc.query_object(object_name, mission=mission,radius='10 arcmin')\n",
    "#table[:3].pprint()\n",
    "table"
   ]
  },
  {
   "cell_type": "markdown",
   "metadata": {},
   "source": [
    "## NGC 4395"
   ]
  },
  {
   "cell_type": "code",
   "execution_count": null,
   "metadata": {
    "ExecuteTime": {
     "end_time": "2022-10-20T08:15:44.941423Z",
     "start_time": "2022-10-20T08:15:44.901683Z"
    }
   },
   "outputs": [],
   "source": [
    "object_name = OX_CLAGN5_nustar[3]\n",
    "print(object_name)\n",
    "table = heasarc.query_object(object_name, mission=mission,radius='10 arcmin')\n",
    "#table[:3].pprint()\n",
    "table"
   ]
  },
  {
   "cell_type": "code",
   "execution_count": null,
   "metadata": {},
   "outputs": [],
   "source": []
  },
  {
   "cell_type": "markdown",
   "metadata": {},
   "source": [
    "## NGC 7582"
   ]
  },
  {
   "cell_type": "code",
   "execution_count": null,
   "metadata": {
    "ExecuteTime": {
     "end_time": "2022-05-22T15:32:14.269370Z",
     "start_time": "2022-05-22T15:32:14.207657Z"
    }
   },
   "outputs": [],
   "source": [
    "object_name = OX_CLAGN5_nustar[4]\n",
    "print(object_name)\n",
    "table = heasarc.query_object(object_name, mission=mission,radius='10 arcmin')\n",
    "#table[:3].pprint()\n",
    "table"
   ]
  },
  {
   "cell_type": "code",
   "execution_count": null,
   "metadata": {
    "ExecuteTime": {
     "end_time": "2022-05-22T15:32:44.754203Z",
     "start_time": "2022-05-22T15:32:44.746573Z"
    }
   },
   "outputs": [],
   "source": [
    "table.colnames"
   ]
  },
  {
   "cell_type": "code",
   "execution_count": null,
   "metadata": {
    "ExecuteTime": {
     "end_time": "2022-05-22T15:32:54.580181Z",
     "start_time": "2022-05-22T15:32:54.569959Z"
    },
    "scrolled": true
   },
   "outputs": [],
   "source": [
    "table[['NAME','TIME','OBSID','EXPOSURE_A']]"
   ]
  },
  {
   "cell_type": "code",
   "execution_count": null,
   "metadata": {},
   "outputs": [],
   "source": []
  },
  {
   "cell_type": "markdown",
   "metadata": {
    "ExecuteTime": {
     "end_time": "2022-03-25T07:50:54.566592Z",
     "start_time": "2022-03-25T07:50:49.578991Z"
    }
   },
   "source": [
    "from astroquery.heasarc import Heasarc\n",
    "#heasarc = Heasarc()\n",
    "mission = 'rosmaster'\n",
    "object_name = '3c273'\n",
    "table = heasarc.query_object(object_name, mission=mission)\n",
    "table[:3].pprint()"
   ]
  },
  {
   "cell_type": "code",
   "execution_count": null,
   "metadata": {},
   "outputs": [],
   "source": []
  },
  {
   "cell_type": "code",
   "execution_count": null,
   "metadata": {},
   "outputs": [],
   "source": [
    "(e.g., ESO 362-G18, NGC 2992, NGC 4151, NGC 4395, and NGC 7582)"
   ]
  },
  {
   "cell_type": "code",
   "execution_count": null,
   "metadata": {},
   "outputs": [],
   "source": []
  },
  {
   "cell_type": "code",
   "execution_count": null,
   "metadata": {},
   "outputs": [],
   "source": []
  },
  {
   "cell_type": "code",
   "execution_count": 36,
   "metadata": {
    "ExecuteTime": {
     "end_time": "2023-12-02T08:09:20.611746Z",
     "start_time": "2023-12-02T08:09:20.605124Z"
    }
   },
   "outputs": [],
   "source": [
    "import math\n",
    "import numpy as np"
   ]
  },
  {
   "cell_type": "markdown",
   "metadata": {},
   "source": [
    "$$N_H^{los}=N_H^{eq}[1-4cos(i)]^{2}$$"
   ]
  },
  {
   "cell_type": "code",
   "execution_count": null,
   "metadata": {
    "ExecuteTime": {
     "end_time": "2022-03-24T11:55:15.056491Z",
     "start_time": "2022-03-24T11:55:15.052198Z"
    }
   },
   "outputs": [],
   "source": [
    "NH_eq=2.3e24 \n",
    "NH_los=7.5e23"
   ]
  },
  {
   "cell_type": "code",
   "execution_count": null,
   "metadata": {
    "ExecuteTime": {
     "end_time": "2022-03-24T11:56:41.568472Z",
     "start_time": "2022-03-24T11:56:41.563923Z"
    }
   },
   "outputs": [],
   "source": [
    "cos_i=(1-(NH_los/NH_eq)**2)/4.0"
   ]
  },
  {
   "cell_type": "code",
   "execution_count": null,
   "metadata": {
    "ExecuteTime": {
     "end_time": "2022-03-24T11:58:14.763507Z",
     "start_time": "2022-03-24T11:58:14.759748Z"
    }
   },
   "outputs": [],
   "source": [
    "math.acos(cos_i)/np.pi*180"
   ]
  },
  {
   "cell_type": "code",
   "execution_count": null,
   "metadata": {
    "ExecuteTime": {
     "end_time": "2022-03-24T11:56:45.720579Z",
     "start_time": "2022-03-24T11:56:45.707124Z"
    }
   },
   "outputs": [],
   "source": [
    "cos_i"
   ]
  },
  {
   "cell_type": "code",
   "execution_count": null,
   "metadata": {
    "ExecuteTime": {
     "end_time": "2022-03-24T13:41:56.541456Z",
     "start_time": "2022-03-24T13:41:56.534108Z"
    }
   },
   "outputs": [],
   "source": [
    "558/479"
   ]
  },
  {
   "cell_type": "code",
   "execution_count": null,
   "metadata": {
    "ExecuteTime": {
     "end_time": "2022-03-24T17:53:36.844850Z",
     "start_time": "2022-03-24T17:53:36.838289Z"
    }
   },
   "outputs": [],
   "source": [
    "521.22/479"
   ]
  },
  {
   "cell_type": "code",
   "execution_count": null,
   "metadata": {
    "ExecuteTime": {
     "end_time": "2022-03-25T16:33:32.500591Z",
     "start_time": "2022-03-25T16:33:32.493119Z"
    }
   },
   "outputs": [],
   "source": [
    "10.67+7.26+2.62+2.11+2.11+1.41+1.31+1.24+1.22+1.1+1.04+1.03"
   ]
  },
  {
   "cell_type": "markdown",
   "metadata": {},
   "source": []
  },
  {
   "cell_type": "code",
   "execution_count": null,
   "metadata": {
    "ExecuteTime": {
     "end_time": "2023-06-15T05:21:19.962948Z",
     "start_time": "2023-06-15T05:21:19.955832Z"
    }
   },
   "outputs": [],
   "source": [
    "OX_CLAGN5_info['Name']"
   ]
  },
  {
   "cell_type": "code",
   "execution_count": null,
   "metadata": {
    "ExecuteTime": {
     "end_time": "2023-06-15T05:21:20.486655Z",
     "start_time": "2023-06-15T05:21:20.479659Z"
    }
   },
   "outputs": [],
   "source": [
    "OX_CLAGN5_info['redshift']"
   ]
  },
  {
   "cell_type": "code",
   "execution_count": null,
   "metadata": {
    "ExecuteTime": {
     "end_time": "2023-06-15T05:21:20.891328Z",
     "start_time": "2023-06-15T05:21:20.882596Z"
    }
   },
   "outputs": [],
   "source": [
    "for i in OX_CLAGN5_info['redshift']:\n",
    "    print(cosmo.luminosity_distance(z=i).to(u.cm).value)"
   ]
  },
  {
   "cell_type": "code",
   "execution_count": null,
   "metadata": {
    "ExecuteTime": {
     "end_time": "2023-06-15T12:01:22.389053Z",
     "start_time": "2023-06-15T12:01:22.379621Z"
    }
   },
   "outputs": [],
   "source": [
    "(6.8+10.1)/2,(-6.8+10.1)/2"
   ]
  },
  {
   "cell_type": "code",
   "execution_count": null,
   "metadata": {},
   "outputs": [],
   "source": [
    "(0.95-1.5)E+43"
   ]
  },
  {
   "cell_type": "markdown",
   "metadata": {},
   "source": [
    "## NGC1365Liuhao"
   ]
  },
  {
   "cell_type": "code",
   "execution_count": 37,
   "metadata": {
    "ExecuteTime": {
     "end_time": "2023-12-02T08:09:25.123056Z",
     "start_time": "2023-12-02T08:09:25.097717Z"
    }
   },
   "outputs": [],
   "source": [
    "NGC1365Liuhao=pd.read_excel('/Users/lyubing/Downloads/NGC1365liuhao.xlsx',sheet_name='Sheet1',header=None)\n",
    "\n",
    "NGC1365Liuhao.columns=['obsid','date','model','nH','E1','sigma1','E2','sigma2','Gamma','Elaor','logLX/LEDD','re_chi_sq']\n",
    "\n",
    "NGC1365Liuhao=NGC1365Liuhao[NGC1365Liuhao['date']!=0]\n",
    "NGC1365Liuhao=drop_index(NGC1365Liuhao)"
   ]
  },
  {
   "cell_type": "code",
   "execution_count": 38,
   "metadata": {
    "ExecuteTime": {
     "end_time": "2023-12-02T08:09:25.780266Z",
     "start_time": "2023-12-02T08:09:25.766545Z"
    }
   },
   "outputs": [
    {
     "name": "stdout",
     "output_type": "stream",
     "text": [
      "23.23 -2.98 3.1 1.29 -0.23 0.22 -2.89\n",
      "23.4 -5.18 5.08 1.74 -0.47 0.43 -2.66\n",
      "14.22 -0.74 0.73 2.46 -0.08 0.09 -2.41\n",
      "17.18 -2.0 1.93 1.55 -0.2 0.17 -2.75\n",
      "18.27 -0.93 0.88 1.5 -0.09 0.08 -2.65\n",
      "6.97 -0.41 0.36 1.96 -0.05 0.04 -2.37\n",
      "3.68 -0.38 0.34 1.93 -0.04 0.04 -2.42\n",
      "11.37 -0.53 0.51 1.79 -0.05 0.06 -2.5\n",
      "18.42 -0.47 0.47 1.62 -0.03 0.02 -2.63\n",
      "5.17 -0.22 0.22 1.88 -0.02 0.01 -2.35\n",
      "1.71 -0.21 0.21 1.85 -0.02 0.01 -2.4\n",
      "9.83 -0.27 0.28 1.76 -0.02 0.02 -2.45\n"
     ]
    }
   ],
   "source": [
    "for index,(nh_i,Gamma_i,ledd_i) in enumerate(zip(NGC1365Liuhao['nH'],NGC1365Liuhao['Gamma'],NGC1365Liuhao['logLX/LEDD'])):\n",
    "    #print(nh_i)\n",
    "    nh_i_v= float(nh_i.split('_{')[0].split('$')[1])\n",
    "    nh_i_l= float(nh_i.split('_{')[1].split('}^{')[0])\n",
    "    nh_i_u= float(nh_i.split('}^{+')[1].split('}')[0])\n",
    "    \n",
    "    Gamma_i_v= float(Gamma_i.split('_{')[0].split('$')[1])\n",
    "    Gamma_i_l= float(Gamma_i.split('_{')[1].split('}^{')[0])\n",
    "    Gamma_i_u= float(Gamma_i.split('}^{+')[1].split('}')[0])\n",
    "    \n",
    "    #ledd_i_v= float(ledd_i.split('_{')[0].split('$')[1])\n",
    "    #ledd_i_l= float(ledd_i.split('_{')[1].split('}^{')[0])\n",
    "    #ledd_i_u= float(ledd_i.split('}^{+')[1].split('}')[0])\n",
    "    \n",
    "    print(nh_i_v,nh_i_l,nh_i_u,Gamma_i_v,Gamma_i_l,Gamma_i_u,ledd_i)"
   ]
  },
  {
   "cell_type": "markdown",
   "metadata": {},
   "source": [
    "## NGC7582"
   ]
  },
  {
   "cell_type": "code",
   "execution_count": 39,
   "metadata": {
    "ExecuteTime": {
     "end_time": "2023-12-02T08:09:28.485303Z",
     "start_time": "2023-12-02T08:09:28.448831Z"
    }
   },
   "outputs": [],
   "source": [
    "NGC7582_Lefkir=pd.read_excel('/Users/lyubing/Downloads/OXCLAGN/OXCLAGN_fromliterature.xlsx',sheet_name='NGC7582_Lefkir',header=None)\n",
    "\n",
    "\n",
    "NGC7582_Lefkir.columns=['epoch','nH','Gamma','Norm1','F3-10_','F10-40_','Norm2','F3-10_x','F10-40_x','chisq']"
   ]
  },
  {
   "cell_type": "code",
   "execution_count": null,
   "metadata": {
    "ExecuteTime": {
     "end_time": "2023-11-26T12:56:45.712543Z",
     "start_time": "2023-11-26T12:56:45.691113Z"
    }
   },
   "outputs": [],
   "source": [
    "NGC7582_Lefkir"
   ]
  },
  {
   "cell_type": "code",
   "execution_count": null,
   "metadata": {
    "ExecuteTime": {
     "end_time": "2023-10-30T13:32:29.182224Z",
     "start_time": "2023-10-30T13:32:29.172934Z"
    }
   },
   "outputs": [],
   "source": [
    "NGC7582_Lefkir['Gamma'][0]"
   ]
  },
  {
   "cell_type": "code",
   "execution_count": 40,
   "metadata": {
    "ExecuteTime": {
     "end_time": "2023-12-02T08:09:32.018533Z",
     "start_time": "2023-12-02T08:09:31.995426Z"
    }
   },
   "outputs": [
    {
     "name": "stdout",
     "output_type": "stream",
     "text": [
      "86.66 2.13 10.53\n",
      "141.81 2.28 16.9\n",
      "216.57 1.97 12.73\n",
      "64.52 1.88 14.94\n",
      "32.36 1.38 6.91\n",
      "62.82 1.33 5.61\n",
      "55.11 1.57 12.05\n",
      "50.61 1.62 22.85\n",
      "43.57 1.5 12.78\n",
      "45.84 1.51 16.67\n",
      "44.4 1.55 15.83\n",
      "42.89 1.65 22.41\n",
      "35.88 1.57 20.3\n"
     ]
    }
   ],
   "source": [
    "for index,(nh_i,Gamma_i) in enumerate(zip(NGC7582_Lefkir['nH'],NGC7582_Lefkir['Gamma'])):\n",
    "    #print(nh_i)\n",
    "    if nh_i.find('pm')>0:\n",
    "        nh_i_v=float(nh_i.split('}\\\\pm')[0].split('${')[1])\n",
    "        \n",
    "        if nh_i.split('}\\\\pm')[1].split('$')[0].find('{')>-1:\n",
    "            nh_i_l=float(nh_i.split('}\\\\pm{')[1].split('}$')[0])\n",
    "            nh_i_u=float(nh_i.split('}\\\\pm{')[1].split('}$')[0])\n",
    "        else:    \n",
    "           \n",
    "        \n",
    "            nh_i_l=float(nh_i.split('}\\\\pm')[1].split('$')[0])\n",
    "            nh_i_u=float(nh_i.split('}\\\\pm')[1].split('$')[0])        \n",
    "    \n",
    "    else:\n",
    "        nh_i_v= float(nh_i.split('}^{')[0].split('${')[1])\n",
    "        nh_i_l= float(nh_i.split('}_{-{')[1].split('}}')[0])\n",
    "        nh_i_u= float(nh_i.split('}^{+{')[1].split('}}')[0])\n",
    "    \n",
    "    if Gamma_i.find('pm')>0:\n",
    "        Gamma_i_v=float(Gamma_i.split('}\\\\pm')[0].split('${')[1])\n",
    "        \n",
    "        if Gamma_i.split('}\\\\pm')[1].split('$')[0].find('{')>-1:\n",
    "            Gamma_i_l=float(Gamma_i.split('}\\\\pm{')[1].split('}$')[0])\n",
    "            Gamma_i_u=float(Gamma_i.split('}\\\\pm{')[1].split('}$')[0])\n",
    "        else:    \n",
    "        \n",
    "            Gamma_i_l=float(Gamma_i.split('}\\\\pm')[1].split('$')[0])\n",
    "            Gamma_i_u=float(Gamma_i.split('}\\\\pm')[1].split('$')[0])\n",
    "        \n",
    "    else:    \n",
    "        Gamma_i_v= float(Gamma_i.split('}^{')[0].split('${')[1])\n",
    "        Gamma_i_l= float(Gamma_i.split('}_{-{')[1].split('}}')[0])\n",
    "        Gamma_i_u= float(Gamma_i.split('}^{+{')[1].split('}}')[0])\n",
    "    \n",
    "    \n",
    "    F3_10_i=NGC7582_Lefkir.loc[index,'F3-10_']\n",
    "    \n",
    "    if F3_10_i.find('pm')>0:\n",
    "        F3_10_i_v=float(F3_10_i.split('\\\\pm')[0].split('$')[1])\n",
    "        \n",
    "        if F3_10_i.split('\\\\pm')[1].split('$')[0].find('{')>-1:\n",
    "            F3_10_i_l=float(F3_10_i.split('\\\\pm')[1].split('$')[0])\n",
    "            F3_10_i_u=float(F3_10_i.split('\\\\pm')[1].split('$')[0])\n",
    "        else:    \n",
    "        \n",
    "            F3_10_i_l=float(F3_10_i.split('\\\\pm')[1].split('$')[0])\n",
    "            F3_10_i_u=float(F3_10_i.split('\\\\pm')[1].split('$')[0])\n",
    "        \n",
    "    else:    \n",
    "        F3_10_i_v= float(F3_10_i.split('_{-')[0].split('$')[1])\n",
    "        F3_10_i_l= float(F3_10_i.split('}^{+')[0].split('_{-')[1])\n",
    "        F3_10_i_u= float(F3_10_i.split('}^{+')[1].split('}$')[0])    \n",
    "    \n",
    "\n",
    "    \n",
    "    \n",
    "    print(nh_i_v,Gamma_i_v,F3_10_i_v)"
   ]
  },
  {
   "cell_type": "code",
   "execution_count": 41,
   "metadata": {
    "ExecuteTime": {
     "end_time": "2023-12-02T08:09:37.190089Z",
     "start_time": "2023-12-02T08:09:36.587347Z"
    }
   },
   "outputs": [
    {
     "name": "stdout",
     "output_type": "stream",
     "text": [
      "86.66 2.13 10.53 6.9\n",
      "141.81 2.28 16.9 14.16\n",
      "216.57 1.97 12.73 6.29\n",
      "64.52 1.88 14.94 6.27\n",
      "32.36 1.38 6.91 1.22\n",
      "62.82 1.33 5.61 0.92\n",
      "55.11 1.57 12.05 2.99\n",
      "50.61 1.62 22.85 6.22\n",
      "43.57 1.5 12.78 2.83\n",
      "45.84 1.51 16.67 3.77\n",
      "44.4 1.55 15.83 3.81\n",
      "42.89 1.65 22.41 6.38\n",
      "35.88 1.57 20.3 5.1\n"
     ]
    },
    {
     "data": {
      "image/svg+xml": [
       "<?xml version=\"1.0\" encoding=\"utf-8\" standalone=\"no\"?>\n",
       "<!DOCTYPE svg PUBLIC \"-//W3C//DTD SVG 1.1//EN\"\n",
       "  \"http://www.w3.org/Graphics/SVG/1.1/DTD/svg11.dtd\">\n",
       "<svg xmlns:xlink=\"http://www.w3.org/1999/xlink\" width=\"289.92pt\" height=\"490.229062pt\" viewBox=\"0 0 289.92 490.229062\" xmlns=\"http://www.w3.org/2000/svg\" version=\"1.1\">\n",
       " <metadata>\n",
       "  <rdf:RDF xmlns:dc=\"http://purl.org/dc/elements/1.1/\" xmlns:cc=\"http://creativecommons.org/ns#\" xmlns:rdf=\"http://www.w3.org/1999/02/22-rdf-syntax-ns#\">\n",
       "   <cc:Work>\n",
       "    <dc:type rdf:resource=\"http://purl.org/dc/dcmitype/StillImage\"/>\n",
       "    <dc:date>2023-12-02T16:09:37.097627</dc:date>\n",
       "    <dc:format>image/svg+xml</dc:format>\n",
       "    <dc:creator>\n",
       "     <cc:Agent>\n",
       "      <dc:title>Matplotlib v3.7.1, https://matplotlib.org/</dc:title>\n",
       "     </cc:Agent>\n",
       "    </dc:creator>\n",
       "   </cc:Work>\n",
       "  </rdf:RDF>\n",
       " </metadata>\n",
       " <defs>\n",
       "  <style type=\"text/css\">*{stroke-linejoin: round; stroke-linecap: butt}</style>\n",
       " </defs>\n",
       " <g id=\"figure_1\">\n",
       "  <g id=\"patch_1\">\n",
       "   <path d=\"M 0 490.229062 \n",
       "L 289.92 490.229062 \n",
       "L 289.92 0 \n",
       "L 0 0 \n",
       "L 0 490.229062 \n",
       "z\n",
       "\" style=\"fill: none\"/>\n",
       "  </g>\n",
       "  <g id=\"axes_1\">\n",
       "   <g id=\"patch_2\">\n",
       "    <path d=\"M 59.52 224.64 \n",
       "L 282.72 224.64 \n",
       "L 282.72 7.2 \n",
       "L 59.52 7.2 \n",
       "z\n",
       "\" style=\"fill: #ffffff\"/>\n",
       "   </g>\n",
       "   <g id=\"PathCollection_1\">\n",
       "    <defs>\n",
       "     <path id=\"mad5c0f42b4\" d=\"M 0 3 \n",
       "C 0.795609 3 1.55874 2.683901 2.12132 2.12132 \n",
       "C 2.683901 1.55874 3 0.795609 3 0 \n",
       "C 3 -0.795609 2.683901 -1.55874 2.12132 -2.12132 \n",
       "C 1.55874 -2.683901 0.795609 -3 0 -3 \n",
       "C -0.795609 -3 -1.55874 -2.683901 -2.12132 -2.12132 \n",
       "C -2.683901 -1.55874 -3 -0.795609 -3 0 \n",
       "C -3 0.795609 -2.683901 1.55874 -2.12132 2.12132 \n",
       "C -1.55874 2.683901 -0.795609 3 0 3 \n",
       "z\n",
       "\" style=\"stroke: #808080\"/>\n",
       "    </defs>\n",
       "    <g clip-path=\"url(#pfa1d965c0a)\">\n",
       "     <use xlink:href=\"#mad5c0f42b4\" x=\"127.572225\" y=\"48.29512\" style=\"fill: #808080; stroke: #808080\"/>\n",
       "    </g>\n",
       "   </g>\n",
       "   <g id=\"PathCollection_2\">\n",
       "    <g clip-path=\"url(#pfa1d965c0a)\">\n",
       "     <use xlink:href=\"#mad5c0f42b4\" x=\"202.545016\" y=\"17.083636\" style=\"fill: #808080; stroke: #808080\"/>\n",
       "    </g>\n",
       "   </g>\n",
       "   <g id=\"PathCollection_3\">\n",
       "    <g clip-path=\"url(#pfa1d965c0a)\">\n",
       "     <use xlink:href=\"#mad5c0f42b4\" x=\"153.465497\" y=\"81.587368\" style=\"fill: #808080; stroke: #808080\"/>\n",
       "    </g>\n",
       "   </g>\n",
       "   <g id=\"PathCollection_4\">\n",
       "    <g clip-path=\"url(#pfa1d965c0a)\">\n",
       "     <use xlink:href=\"#mad5c0f42b4\" x=\"179.476465\" y=\"100.314258\" style=\"fill: #808080; stroke: #808080\"/>\n",
       "    </g>\n",
       "   </g>\n",
       "   <g id=\"PathCollection_5\">\n",
       "    <g clip-path=\"url(#pfa1d965c0a)\">\n",
       "     <use xlink:href=\"#mad5c0f42b4\" x=\"84.966024\" y=\"204.352536\" style=\"fill: #808080; stroke: #808080\"/>\n",
       "    </g>\n",
       "   </g>\n",
       "   <g id=\"PathCollection_6\">\n",
       "    <g clip-path=\"url(#pfa1d965c0a)\">\n",
       "     <use xlink:href=\"#mad5c0f42b4\" x=\"69.665455\" y=\"214.756364\" style=\"fill: #808080; stroke: #808080\"/>\n",
       "    </g>\n",
       "   </g>\n",
       "   <g id=\"PathCollection_7\">\n",
       "    <g clip-path=\"url(#pfa1d965c0a)\">\n",
       "     <use xlink:href=\"#mad5c0f42b4\" x=\"145.462122\" y=\"164.81799\" style=\"fill: #808080; stroke: #808080\"/>\n",
       "    </g>\n",
       "   </g>\n",
       "   <g id=\"PathCollection_8\">\n",
       "    <g clip-path=\"url(#pfa1d965c0a)\">\n",
       "     <use xlink:href=\"#mad5c0f42b4\" x=\"272.574545\" y=\"154.414163\" style=\"fill: #808080; stroke: #808080\"/>\n",
       "    </g>\n",
       "   </g>\n",
       "   <g id=\"PathCollection_9\">\n",
       "    <g clip-path=\"url(#pfa1d965c0a)\">\n",
       "     <use xlink:href=\"#mad5c0f42b4\" x=\"154.05398\" y=\"179.383349\" style=\"fill: #808080; stroke: #808080\"/>\n",
       "    </g>\n",
       "   </g>\n",
       "   <g id=\"PathCollection_10\">\n",
       "    <g clip-path=\"url(#pfa1d965c0a)\">\n",
       "     <use xlink:href=\"#mad5c0f42b4\" x=\"199.837992\" y=\"177.302584\" style=\"fill: #808080; stroke: #808080\"/>\n",
       "    </g>\n",
       "   </g>\n",
       "   <g id=\"PathCollection_11\">\n",
       "    <g clip-path=\"url(#pfa1d965c0a)\">\n",
       "     <use xlink:href=\"#mad5c0f42b4\" x=\"189.95147\" y=\"168.979522\" style=\"fill: #808080; stroke: #808080\"/>\n",
       "    </g>\n",
       "   </g>\n",
       "   <g id=\"PathCollection_12\">\n",
       "    <g clip-path=\"url(#pfa1d965c0a)\">\n",
       "     <use xlink:href=\"#mad5c0f42b4\" x=\"267.395891\" y=\"148.171866\" style=\"fill: #808080; stroke: #808080\"/>\n",
       "    </g>\n",
       "   </g>\n",
       "   <g id=\"PathCollection_13\">\n",
       "    <g clip-path=\"url(#pfa1d965c0a)\">\n",
       "     <use xlink:href=\"#mad5c0f42b4\" x=\"242.56189\" y=\"164.81799\" style=\"fill: #808080; stroke: #808080\"/>\n",
       "    </g>\n",
       "   </g>\n",
       "   <g id=\"matplotlib.axis_1\">\n",
       "    <g id=\"xtick_1\">\n",
       "     <g id=\"line2d_1\">\n",
       "      <defs>\n",
       "       <path id=\"mde49f9ce7b\" d=\"M 0 0 \n",
       "L 0 -10 \n",
       "\" style=\"stroke: #000000; stroke-width: 2\"/>\n",
       "      </defs>\n",
       "      <g>\n",
       "       <use xlink:href=\"#mde49f9ce7b\" x=\"62.485957\" y=\"224.64\" style=\"stroke: #000000; stroke-width: 2\"/>\n",
       "      </g>\n",
       "     </g>\n",
       "     <g id=\"line2d_2\">\n",
       "      <defs>\n",
       "       <path id=\"m02a56e102b\" d=\"M 0 0 \n",
       "L 0 10 \n",
       "\" style=\"stroke: #000000; stroke-width: 2\"/>\n",
       "      </defs>\n",
       "      <g>\n",
       "       <use xlink:href=\"#m02a56e102b\" x=\"62.485957\" y=\"7.2\" style=\"stroke: #000000; stroke-width: 2\"/>\n",
       "      </g>\n",
       "     </g>\n",
       "     <g id=\"text_1\">\n",
       "      <!-- 5 -->\n",
       "      <g transform=\"translate(57.985957 240.63875) scale(0.18 -0.18)\">\n",
       "       <defs>\n",
       "        <path id=\"TimesNewRomanPSMT-35\" d=\"M 2778 4238 \n",
       "L 2534 3706 \n",
       "L 1259 3706 \n",
       "L 981 3138 \n",
       "Q 1809 3016 2294 2522 \n",
       "Q 2709 2097 2709 1522 \n",
       "Q 2709 1188 2573 903 \n",
       "Q 2438 619 2231 419 \n",
       "Q 2025 219 1772 97 \n",
       "Q 1413 -75 1034 -75 \n",
       "Q 653 -75 479 54 \n",
       "Q 306 184 306 341 \n",
       "Q 306 428 378 495 \n",
       "Q 450 563 559 563 \n",
       "Q 641 563 702 538 \n",
       "Q 763 513 909 409 \n",
       "Q 1144 247 1384 247 \n",
       "Q 1750 247 2026 523 \n",
       "Q 2303 800 2303 1197 \n",
       "Q 2303 1581 2056 1914 \n",
       "Q 1809 2247 1375 2428 \n",
       "Q 1034 2569 447 2591 \n",
       "L 1259 4238 \n",
       "L 2778 4238 \n",
       "z\n",
       "\" transform=\"scale(0.015625)\"/>\n",
       "       </defs>\n",
       "       <use xlink:href=\"#TimesNewRomanPSMT-35\"/>\n",
       "      </g>\n",
       "     </g>\n",
       "    </g>\n",
       "    <g id=\"xtick_2\">\n",
       "     <g id=\"line2d_3\">\n",
       "      <g>\n",
       "       <use xlink:href=\"#mde49f9ce7b\" x=\"121.334301\" y=\"224.64\" style=\"stroke: #000000; stroke-width: 2\"/>\n",
       "      </g>\n",
       "     </g>\n",
       "     <g id=\"line2d_4\">\n",
       "      <g>\n",
       "       <use xlink:href=\"#m02a56e102b\" x=\"121.334301\" y=\"7.2\" style=\"stroke: #000000; stroke-width: 2\"/>\n",
       "      </g>\n",
       "     </g>\n",
       "     <g id=\"text_2\">\n",
       "      <!-- 10 -->\n",
       "      <g transform=\"translate(112.334301 240.63875) scale(0.18 -0.18)\">\n",
       "       <defs>\n",
       "        <path id=\"TimesNewRomanPSMT-31\" d=\"M 750 3822 \n",
       "L 1781 4325 \n",
       "L 1884 4325 \n",
       "L 1884 747 \n",
       "Q 1884 391 1914 303 \n",
       "Q 1944 216 2037 169 \n",
       "Q 2131 122 2419 116 \n",
       "L 2419 0 \n",
       "L 825 0 \n",
       "L 825 116 \n",
       "Q 1125 122 1212 167 \n",
       "Q 1300 213 1334 289 \n",
       "Q 1369 366 1369 747 \n",
       "L 1369 3034 \n",
       "Q 1369 3497 1338 3628 \n",
       "Q 1316 3728 1258 3775 \n",
       "Q 1200 3822 1119 3822 \n",
       "Q 1003 3822 797 3725 \n",
       "L 750 3822 \n",
       "z\n",
       "\" transform=\"scale(0.015625)\"/>\n",
       "        <path id=\"TimesNewRomanPSMT-30\" d=\"M 231 2094 \n",
       "Q 231 2819 450 3342 \n",
       "Q 669 3866 1031 4122 \n",
       "Q 1313 4325 1613 4325 \n",
       "Q 2100 4325 2488 3828 \n",
       "Q 2972 3213 2972 2159 \n",
       "Q 2972 1422 2759 906 \n",
       "Q 2547 391 2217 158 \n",
       "Q 1888 -75 1581 -75 \n",
       "Q 975 -75 572 641 \n",
       "Q 231 1244 231 2094 \n",
       "z\n",
       "M 844 2016 \n",
       "Q 844 1141 1059 588 \n",
       "Q 1238 122 1591 122 \n",
       "Q 1759 122 1940 273 \n",
       "Q 2122 425 2216 781 \n",
       "Q 2359 1319 2359 2297 \n",
       "Q 2359 3022 2209 3506 \n",
       "Q 2097 3866 1919 4016 \n",
       "Q 1791 4119 1609 4119 \n",
       "Q 1397 4119 1231 3928 \n",
       "Q 1006 3669 925 3112 \n",
       "Q 844 2556 844 2016 \n",
       "z\n",
       "\" transform=\"scale(0.015625)\"/>\n",
       "       </defs>\n",
       "       <use xlink:href=\"#TimesNewRomanPSMT-31\"/>\n",
       "       <use xlink:href=\"#TimesNewRomanPSMT-30\" x=\"50\"/>\n",
       "      </g>\n",
       "     </g>\n",
       "    </g>\n",
       "    <g id=\"xtick_3\">\n",
       "     <g id=\"line2d_5\">\n",
       "      <g>\n",
       "       <use xlink:href=\"#mde49f9ce7b\" x=\"180.182645\" y=\"224.64\" style=\"stroke: #000000; stroke-width: 2\"/>\n",
       "      </g>\n",
       "     </g>\n",
       "     <g id=\"line2d_6\">\n",
       "      <g>\n",
       "       <use xlink:href=\"#m02a56e102b\" x=\"180.182645\" y=\"7.2\" style=\"stroke: #000000; stroke-width: 2\"/>\n",
       "      </g>\n",
       "     </g>\n",
       "     <g id=\"text_3\">\n",
       "      <!-- 15 -->\n",
       "      <g transform=\"translate(171.182645 240.63875) scale(0.18 -0.18)\">\n",
       "       <use xlink:href=\"#TimesNewRomanPSMT-31\"/>\n",
       "       <use xlink:href=\"#TimesNewRomanPSMT-35\" x=\"50\"/>\n",
       "      </g>\n",
       "     </g>\n",
       "    </g>\n",
       "    <g id=\"xtick_4\">\n",
       "     <g id=\"line2d_7\">\n",
       "      <g>\n",
       "       <use xlink:href=\"#mde49f9ce7b\" x=\"239.030989\" y=\"224.64\" style=\"stroke: #000000; stroke-width: 2\"/>\n",
       "      </g>\n",
       "     </g>\n",
       "     <g id=\"line2d_8\">\n",
       "      <g>\n",
       "       <use xlink:href=\"#m02a56e102b\" x=\"239.030989\" y=\"7.2\" style=\"stroke: #000000; stroke-width: 2\"/>\n",
       "      </g>\n",
       "     </g>\n",
       "     <g id=\"text_4\">\n",
       "      <!-- 20 -->\n",
       "      <g transform=\"translate(230.030989 240.63875) scale(0.18 -0.18)\">\n",
       "       <defs>\n",
       "        <path id=\"TimesNewRomanPSMT-32\" d=\"M 2934 816 \n",
       "L 2638 0 \n",
       "L 138 0 \n",
       "L 138 116 \n",
       "Q 1241 1122 1691 1759 \n",
       "Q 2141 2397 2141 2925 \n",
       "Q 2141 3328 1894 3587 \n",
       "Q 1647 3847 1303 3847 \n",
       "Q 991 3847 742 3664 \n",
       "Q 494 3481 375 3128 \n",
       "L 259 3128 \n",
       "Q 338 3706 661 4015 \n",
       "Q 984 4325 1469 4325 \n",
       "Q 1984 4325 2329 3994 \n",
       "Q 2675 3663 2675 3213 \n",
       "Q 2675 2891 2525 2569 \n",
       "Q 2294 2063 1775 1497 \n",
       "Q 997 647 803 472 \n",
       "L 1909 472 \n",
       "Q 2247 472 2383 497 \n",
       "Q 2519 522 2628 598 \n",
       "Q 2738 675 2819 816 \n",
       "L 2934 816 \n",
       "z\n",
       "\" transform=\"scale(0.015625)\"/>\n",
       "       </defs>\n",
       "       <use xlink:href=\"#TimesNewRomanPSMT-32\"/>\n",
       "       <use xlink:href=\"#TimesNewRomanPSMT-30\" x=\"50\"/>\n",
       "      </g>\n",
       "     </g>\n",
       "    </g>\n",
       "   </g>\n",
       "   <g id=\"matplotlib.axis_2\">\n",
       "    <g id=\"ytick_1\">\n",
       "     <g id=\"line2d_9\">\n",
       "      <defs>\n",
       "       <path id=\"mf836f141cf\" d=\"M 0 0 \n",
       "L 10 0 \n",
       "\" style=\"stroke: #000000; stroke-width: 2\"/>\n",
       "      </defs>\n",
       "      <g>\n",
       "       <use xlink:href=\"#mf836f141cf\" x=\"59.52\" y=\"200.191005\" style=\"stroke: #000000; stroke-width: 2\"/>\n",
       "      </g>\n",
       "     </g>\n",
       "     <g id=\"line2d_10\">\n",
       "      <defs>\n",
       "       <path id=\"mb31d680c8a\" d=\"M 0 0 \n",
       "L -10 0 \n",
       "\" style=\"stroke: #000000; stroke-width: 2\"/>\n",
       "      </defs>\n",
       "      <g>\n",
       "       <use xlink:href=\"#mb31d680c8a\" x=\"282.72\" y=\"200.191005\" style=\"stroke: #000000; stroke-width: 2\"/>\n",
       "      </g>\n",
       "     </g>\n",
       "     <g id=\"text_5\">\n",
       "      <!-- 1.4 -->\n",
       "      <g transform=\"translate(33.52 206.44038) scale(0.18 -0.18)\">\n",
       "       <defs>\n",
       "        <path id=\"TimesNewRomanPSMT-2e\" d=\"M 800 606 \n",
       "Q 947 606 1047 504 \n",
       "Q 1147 403 1147 259 \n",
       "Q 1147 116 1045 14 \n",
       "Q 944 -88 800 -88 \n",
       "Q 656 -88 554 14 \n",
       "Q 453 116 453 259 \n",
       "Q 453 406 554 506 \n",
       "Q 656 606 800 606 \n",
       "z\n",
       "\" transform=\"scale(0.015625)\"/>\n",
       "        <path id=\"TimesNewRomanPSMT-34\" d=\"M 2978 1563 \n",
       "L 2978 1119 \n",
       "L 2409 1119 \n",
       "L 2409 0 \n",
       "L 1894 0 \n",
       "L 1894 1119 \n",
       "L 100 1119 \n",
       "L 100 1519 \n",
       "L 2066 4325 \n",
       "L 2409 4325 \n",
       "L 2409 1563 \n",
       "L 2978 1563 \n",
       "z\n",
       "M 1894 1563 \n",
       "L 1894 3666 \n",
       "L 406 1563 \n",
       "L 1894 1563 \n",
       "z\n",
       "\" transform=\"scale(0.015625)\"/>\n",
       "       </defs>\n",
       "       <use xlink:href=\"#TimesNewRomanPSMT-31\"/>\n",
       "       <use xlink:href=\"#TimesNewRomanPSMT-2e\" x=\"50\"/>\n",
       "       <use xlink:href=\"#TimesNewRomanPSMT-34\" x=\"75\"/>\n",
       "      </g>\n",
       "     </g>\n",
       "    </g>\n",
       "    <g id=\"ytick_2\">\n",
       "     <g id=\"line2d_11\">\n",
       "      <g>\n",
       "       <use xlink:href=\"#mf836f141cf\" x=\"59.52\" y=\"158.575694\" style=\"stroke: #000000; stroke-width: 2\"/>\n",
       "      </g>\n",
       "     </g>\n",
       "     <g id=\"line2d_12\">\n",
       "      <g>\n",
       "       <use xlink:href=\"#mb31d680c8a\" x=\"282.72\" y=\"158.575694\" style=\"stroke: #000000; stroke-width: 2\"/>\n",
       "      </g>\n",
       "     </g>\n",
       "     <g id=\"text_6\">\n",
       "      <!-- 1.6 -->\n",
       "      <g transform=\"translate(33.52 164.825069) scale(0.18 -0.18)\">\n",
       "       <defs>\n",
       "        <path id=\"TimesNewRomanPSMT-36\" d=\"M 2869 4325 \n",
       "L 2869 4209 \n",
       "Q 2456 4169 2195 4045 \n",
       "Q 1934 3922 1679 3669 \n",
       "Q 1425 3416 1258 3105 \n",
       "Q 1091 2794 978 2366 \n",
       "Q 1428 2675 1881 2675 \n",
       "Q 2316 2675 2634 2325 \n",
       "Q 2953 1975 2953 1425 \n",
       "Q 2953 894 2631 456 \n",
       "Q 2244 -75 1606 -75 \n",
       "Q 1172 -75 869 213 \n",
       "Q 275 772 275 1663 \n",
       "Q 275 2231 503 2743 \n",
       "Q 731 3256 1154 3653 \n",
       "Q 1578 4050 1965 4187 \n",
       "Q 2353 4325 2688 4325 \n",
       "L 2869 4325 \n",
       "z\n",
       "M 925 2138 \n",
       "Q 869 1716 869 1456 \n",
       "Q 869 1156 980 804 \n",
       "Q 1091 453 1309 247 \n",
       "Q 1469 100 1697 100 \n",
       "Q 1969 100 2183 356 \n",
       "Q 2397 613 2397 1088 \n",
       "Q 2397 1622 2184 2012 \n",
       "Q 1972 2403 1581 2403 \n",
       "Q 1463 2403 1327 2353 \n",
       "Q 1191 2303 925 2138 \n",
       "z\n",
       "\" transform=\"scale(0.015625)\"/>\n",
       "       </defs>\n",
       "       <use xlink:href=\"#TimesNewRomanPSMT-31\"/>\n",
       "       <use xlink:href=\"#TimesNewRomanPSMT-2e\" x=\"50\"/>\n",
       "       <use xlink:href=\"#TimesNewRomanPSMT-36\" x=\"75\"/>\n",
       "      </g>\n",
       "     </g>\n",
       "    </g>\n",
       "    <g id=\"ytick_3\">\n",
       "     <g id=\"line2d_13\">\n",
       "      <g>\n",
       "       <use xlink:href=\"#mf836f141cf\" x=\"59.52\" y=\"116.960383\" style=\"stroke: #000000; stroke-width: 2\"/>\n",
       "      </g>\n",
       "     </g>\n",
       "     <g id=\"line2d_14\">\n",
       "      <g>\n",
       "       <use xlink:href=\"#mb31d680c8a\" x=\"282.72\" y=\"116.960383\" style=\"stroke: #000000; stroke-width: 2\"/>\n",
       "      </g>\n",
       "     </g>\n",
       "     <g id=\"text_7\">\n",
       "      <!-- 1.8 -->\n",
       "      <g transform=\"translate(33.52 123.209758) scale(0.18 -0.18)\">\n",
       "       <defs>\n",
       "        <path id=\"TimesNewRomanPSMT-38\" d=\"M 1228 2134 \n",
       "Q 725 2547 579 2797 \n",
       "Q 434 3047 434 3316 \n",
       "Q 434 3728 753 4026 \n",
       "Q 1072 4325 1600 4325 \n",
       "Q 2113 4325 2425 4047 \n",
       "Q 2738 3769 2738 3413 \n",
       "Q 2738 3175 2569 2928 \n",
       "Q 2400 2681 1866 2347 \n",
       "Q 2416 1922 2594 1678 \n",
       "Q 2831 1359 2831 1006 \n",
       "Q 2831 559 2490 242 \n",
       "Q 2150 -75 1597 -75 \n",
       "Q 994 -75 656 303 \n",
       "Q 388 606 388 966 \n",
       "Q 388 1247 577 1523 \n",
       "Q 766 1800 1228 2134 \n",
       "z\n",
       "M 1719 2469 \n",
       "Q 2094 2806 2194 3001 \n",
       "Q 2294 3197 2294 3444 \n",
       "Q 2294 3772 2109 3958 \n",
       "Q 1925 4144 1606 4144 \n",
       "Q 1288 4144 1088 3959 \n",
       "Q 888 3775 888 3528 \n",
       "Q 888 3366 970 3203 \n",
       "Q 1053 3041 1206 2894 \n",
       "L 1719 2469 \n",
       "z\n",
       "M 1375 2016 \n",
       "Q 1116 1797 991 1539 \n",
       "Q 866 1281 866 981 \n",
       "Q 866 578 1086 336 \n",
       "Q 1306 94 1647 94 \n",
       "Q 1984 94 2187 284 \n",
       "Q 2391 475 2391 747 \n",
       "Q 2391 972 2272 1150 \n",
       "Q 2050 1481 1375 2016 \n",
       "z\n",
       "\" transform=\"scale(0.015625)\"/>\n",
       "       </defs>\n",
       "       <use xlink:href=\"#TimesNewRomanPSMT-31\"/>\n",
       "       <use xlink:href=\"#TimesNewRomanPSMT-2e\" x=\"50\"/>\n",
       "       <use xlink:href=\"#TimesNewRomanPSMT-38\" x=\"75\"/>\n",
       "      </g>\n",
       "     </g>\n",
       "    </g>\n",
       "    <g id=\"ytick_4\">\n",
       "     <g id=\"line2d_15\">\n",
       "      <g>\n",
       "       <use xlink:href=\"#mf836f141cf\" x=\"59.52\" y=\"75.345072\" style=\"stroke: #000000; stroke-width: 2\"/>\n",
       "      </g>\n",
       "     </g>\n",
       "     <g id=\"line2d_16\">\n",
       "      <g>\n",
       "       <use xlink:href=\"#mb31d680c8a\" x=\"282.72\" y=\"75.345072\" style=\"stroke: #000000; stroke-width: 2\"/>\n",
       "      </g>\n",
       "     </g>\n",
       "     <g id=\"text_8\">\n",
       "      <!-- 2.0 -->\n",
       "      <g transform=\"translate(33.52 81.594447) scale(0.18 -0.18)\">\n",
       "       <use xlink:href=\"#TimesNewRomanPSMT-32\"/>\n",
       "       <use xlink:href=\"#TimesNewRomanPSMT-2e\" x=\"50\"/>\n",
       "       <use xlink:href=\"#TimesNewRomanPSMT-30\" x=\"75\"/>\n",
       "      </g>\n",
       "     </g>\n",
       "    </g>\n",
       "    <g id=\"ytick_5\">\n",
       "     <g id=\"line2d_17\">\n",
       "      <g>\n",
       "       <use xlink:href=\"#mf836f141cf\" x=\"59.52\" y=\"33.729761\" style=\"stroke: #000000; stroke-width: 2\"/>\n",
       "      </g>\n",
       "     </g>\n",
       "     <g id=\"line2d_18\">\n",
       "      <g>\n",
       "       <use xlink:href=\"#mb31d680c8a\" x=\"282.72\" y=\"33.729761\" style=\"stroke: #000000; stroke-width: 2\"/>\n",
       "      </g>\n",
       "     </g>\n",
       "     <g id=\"text_9\">\n",
       "      <!-- 2.2 -->\n",
       "      <g transform=\"translate(33.52 39.979136) scale(0.18 -0.18)\">\n",
       "       <use xlink:href=\"#TimesNewRomanPSMT-32\"/>\n",
       "       <use xlink:href=\"#TimesNewRomanPSMT-2e\" x=\"50\"/>\n",
       "       <use xlink:href=\"#TimesNewRomanPSMT-32\" x=\"75\"/>\n",
       "      </g>\n",
       "     </g>\n",
       "    </g>\n",
       "    <g id=\"text_10\">\n",
       "     <!-- $\\Gamma$ -->\n",
       "     <g transform=\"translate(25.669688 120.96) rotate(-90) scale(0.18 -0.18)\">\n",
       "      <defs>\n",
       "       <path id=\"DejaVuSans-393\" d=\"M 628 0 \n",
       "L 628 4666 \n",
       "L 3531 4666 \n",
       "L 3531 4134 \n",
       "L 1259 4134 \n",
       "L 1259 0 \n",
       "L 628 0 \n",
       "z\n",
       "\" transform=\"scale(0.015625)\"/>\n",
       "      </defs>\n",
       "      <use xlink:href=\"#DejaVuSans-393\" transform=\"translate(0 0.09375)\"/>\n",
       "     </g>\n",
       "    </g>\n",
       "   </g>\n",
       "   <g id=\"patch_3\">\n",
       "    <path d=\"M 59.52 224.64 \n",
       "L 59.52 7.2 \n",
       "\" style=\"fill: none; stroke: #000000; stroke-width: 2; stroke-linejoin: miter; stroke-linecap: square\"/>\n",
       "   </g>\n",
       "   <g id=\"patch_4\">\n",
       "    <path d=\"M 282.72 224.64 \n",
       "L 282.72 7.2 \n",
       "\" style=\"fill: none; stroke: #000000; stroke-width: 2; stroke-linejoin: miter; stroke-linecap: square\"/>\n",
       "   </g>\n",
       "   <g id=\"patch_5\">\n",
       "    <path d=\"M 59.52 224.64 \n",
       "L 282.72 224.64 \n",
       "\" style=\"fill: none; stroke: #000000; stroke-width: 2; stroke-linejoin: miter; stroke-linecap: square\"/>\n",
       "   </g>\n",
       "   <g id=\"patch_6\">\n",
       "    <path d=\"M 59.52 7.2 \n",
       "L 282.72 7.2 \n",
       "\" style=\"fill: none; stroke: #000000; stroke-width: 2; stroke-linejoin: miter; stroke-linecap: square\"/>\n",
       "   </g>\n",
       "  </g>\n",
       "  <g id=\"axes_2\">\n",
       "   <g id=\"patch_7\">\n",
       "    <path d=\"M 59.52 442.08 \n",
       "L 282.72 442.08 \n",
       "L 282.72 224.64 \n",
       "L 59.52 224.64 \n",
       "z\n",
       "\" style=\"fill: #ffffff\"/>\n",
       "   </g>\n",
       "   <g id=\"PathCollection_14\">\n",
       "    <g clip-path=\"url(#pea8f8f1c41)\">\n",
       "     <use xlink:href=\"#mad5c0f42b4\" x=\"127.572225\" y=\"373.927925\" style=\"fill: #808080; stroke: #808080\"/>\n",
       "    </g>\n",
       "   </g>\n",
       "   <g id=\"PathCollection_15\">\n",
       "    <g clip-path=\"url(#pea8f8f1c41)\">\n",
       "     <use xlink:href=\"#mad5c0f42b4\" x=\"202.545016\" y=\"314.747365\" style=\"fill: #808080; stroke: #808080\"/>\n",
       "    </g>\n",
       "   </g>\n",
       "   <g id=\"PathCollection_16\">\n",
       "    <g clip-path=\"url(#pea8f8f1c41)\">\n",
       "     <use xlink:href=\"#mad5c0f42b4\" x=\"153.465497\" y=\"234.523636\" style=\"fill: #808080; stroke: #808080\"/>\n",
       "    </g>\n",
       "   </g>\n",
       "   <g id=\"PathCollection_17\">\n",
       "    <g clip-path=\"url(#pea8f8f1c41)\">\n",
       "     <use xlink:href=\"#mad5c0f42b4\" x=\"179.476465\" y=\"397.685996\" style=\"fill: #808080; stroke: #808080\"/>\n",
       "    </g>\n",
       "   </g>\n",
       "   <g id=\"PathCollection_18\">\n",
       "    <g clip-path=\"url(#pea8f8f1c41)\">\n",
       "     <use xlink:href=\"#mad5c0f42b4\" x=\"84.966024\" y=\"432.196364\" style=\"fill: #808080; stroke: #808080\"/>\n",
       "    </g>\n",
       "   </g>\n",
       "   <g id=\"PathCollection_19\">\n",
       "    <g clip-path=\"url(#pea8f8f1c41)\">\n",
       "     <use xlink:href=\"#mad5c0f42b4\" x=\"69.665455\" y=\"399.510238\" style=\"fill: #808080; stroke: #808080\"/>\n",
       "    </g>\n",
       "   </g>\n",
       "   <g id=\"PathCollection_20\">\n",
       "    <g clip-path=\"url(#pea8f8f1c41)\">\n",
       "     <use xlink:href=\"#mad5c0f42b4\" x=\"145.462122\" y=\"407.783712\" style=\"fill: #808080; stroke: #808080\"/>\n",
       "    </g>\n",
       "   </g>\n",
       "   <g id=\"PathCollection_21\">\n",
       "    <g clip-path=\"url(#pea8f8f1c41)\">\n",
       "     <use xlink:href=\"#mad5c0f42b4\" x=\"272.574545\" y=\"412.612588\" style=\"fill: #808080; stroke: #808080\"/>\n",
       "    </g>\n",
       "   </g>\n",
       "   <g id=\"PathCollection_22\">\n",
       "    <g clip-path=\"url(#pea8f8f1c41)\">\n",
       "     <use xlink:href=\"#mad5c0f42b4\" x=\"154.05398\" y=\"420.167097\" style=\"fill: #808080; stroke: #808080\"/>\n",
       "    </g>\n",
       "   </g>\n",
       "   <g id=\"PathCollection_23\">\n",
       "    <g clip-path=\"url(#pea8f8f1c41)\">\n",
       "     <use xlink:href=\"#mad5c0f42b4\" x=\"199.837992\" y=\"417.731197\" style=\"fill: #808080; stroke: #808080\"/>\n",
       "    </g>\n",
       "   </g>\n",
       "   <g id=\"PathCollection_24\">\n",
       "    <g clip-path=\"url(#pea8f8f1c41)\">\n",
       "     <use xlink:href=\"#mad5c0f42b4\" x=\"189.95147\" y=\"419.276437\" style=\"fill: #808080; stroke: #808080\"/>\n",
       "    </g>\n",
       "   </g>\n",
       "   <g id=\"PathCollection_25\">\n",
       "    <g clip-path=\"url(#pea8f8f1c41)\">\n",
       "     <use xlink:href=\"#mad5c0f42b4\" x=\"267.395891\" y=\"420.896793\" style=\"fill: #808080; stroke: #808080\"/>\n",
       "    </g>\n",
       "   </g>\n",
       "   <g id=\"PathCollection_26\">\n",
       "    <g clip-path=\"url(#pea8f8f1c41)\">\n",
       "     <use xlink:href=\"#mad5c0f42b4\" x=\"242.56189\" y=\"428.419109\" style=\"fill: #808080; stroke: #808080\"/>\n",
       "    </g>\n",
       "   </g>\n",
       "   <g id=\"matplotlib.axis_3\">\n",
       "    <g id=\"xtick_5\">\n",
       "     <g id=\"line2d_19\">\n",
       "      <g>\n",
       "       <use xlink:href=\"#mde49f9ce7b\" x=\"62.485957\" y=\"442.08\" style=\"stroke: #000000; stroke-width: 2\"/>\n",
       "      </g>\n",
       "     </g>\n",
       "     <g id=\"line2d_20\">\n",
       "      <g>\n",
       "       <use xlink:href=\"#m02a56e102b\" x=\"62.485957\" y=\"224.64\" style=\"stroke: #000000; stroke-width: 2\"/>\n",
       "      </g>\n",
       "     </g>\n",
       "     <g id=\"text_11\">\n",
       "      <!-- 5 -->\n",
       "      <g transform=\"translate(57.985957 458.07875) scale(0.18 -0.18)\">\n",
       "       <use xlink:href=\"#TimesNewRomanPSMT-35\"/>\n",
       "      </g>\n",
       "     </g>\n",
       "    </g>\n",
       "    <g id=\"xtick_6\">\n",
       "     <g id=\"line2d_21\">\n",
       "      <g>\n",
       "       <use xlink:href=\"#mde49f9ce7b\" x=\"121.334301\" y=\"442.08\" style=\"stroke: #000000; stroke-width: 2\"/>\n",
       "      </g>\n",
       "     </g>\n",
       "     <g id=\"line2d_22\">\n",
       "      <g>\n",
       "       <use xlink:href=\"#m02a56e102b\" x=\"121.334301\" y=\"224.64\" style=\"stroke: #000000; stroke-width: 2\"/>\n",
       "      </g>\n",
       "     </g>\n",
       "     <g id=\"text_12\">\n",
       "      <!-- 10 -->\n",
       "      <g transform=\"translate(112.334301 458.07875) scale(0.18 -0.18)\">\n",
       "       <use xlink:href=\"#TimesNewRomanPSMT-31\"/>\n",
       "       <use xlink:href=\"#TimesNewRomanPSMT-30\" x=\"50\"/>\n",
       "      </g>\n",
       "     </g>\n",
       "    </g>\n",
       "    <g id=\"xtick_7\">\n",
       "     <g id=\"line2d_23\">\n",
       "      <g>\n",
       "       <use xlink:href=\"#mde49f9ce7b\" x=\"180.182645\" y=\"442.08\" style=\"stroke: #000000; stroke-width: 2\"/>\n",
       "      </g>\n",
       "     </g>\n",
       "     <g id=\"line2d_24\">\n",
       "      <g>\n",
       "       <use xlink:href=\"#m02a56e102b\" x=\"180.182645\" y=\"224.64\" style=\"stroke: #000000; stroke-width: 2\"/>\n",
       "      </g>\n",
       "     </g>\n",
       "     <g id=\"text_13\">\n",
       "      <!-- 15 -->\n",
       "      <g transform=\"translate(171.182645 458.07875) scale(0.18 -0.18)\">\n",
       "       <use xlink:href=\"#TimesNewRomanPSMT-31\"/>\n",
       "       <use xlink:href=\"#TimesNewRomanPSMT-35\" x=\"50\"/>\n",
       "      </g>\n",
       "     </g>\n",
       "    </g>\n",
       "    <g id=\"xtick_8\">\n",
       "     <g id=\"line2d_25\">\n",
       "      <g>\n",
       "       <use xlink:href=\"#mde49f9ce7b\" x=\"239.030989\" y=\"442.08\" style=\"stroke: #000000; stroke-width: 2\"/>\n",
       "      </g>\n",
       "     </g>\n",
       "     <g id=\"line2d_26\">\n",
       "      <g>\n",
       "       <use xlink:href=\"#m02a56e102b\" x=\"239.030989\" y=\"224.64\" style=\"stroke: #000000; stroke-width: 2\"/>\n",
       "      </g>\n",
       "     </g>\n",
       "     <g id=\"text_14\">\n",
       "      <!-- 20 -->\n",
       "      <g transform=\"translate(230.030989 458.07875) scale(0.18 -0.18)\">\n",
       "       <use xlink:href=\"#TimesNewRomanPSMT-32\"/>\n",
       "       <use xlink:href=\"#TimesNewRomanPSMT-30\" x=\"50\"/>\n",
       "      </g>\n",
       "     </g>\n",
       "    </g>\n",
       "    <g id=\"text_15\">\n",
       "     <!-- log($F_{\\rm \\, 3-10keV}/L_{\\rm Edd}$) -->\n",
       "     <g transform=\"translate(95.25 479.069062) scale(0.18 -0.18)\">\n",
       "      <defs>\n",
       "       <path id=\"TimesNewRomanPSMT-6c\" d=\"M 1184 4444 \n",
       "L 1184 647 \n",
       "Q 1184 378 1223 290 \n",
       "Q 1263 203 1344 158 \n",
       "Q 1425 113 1647 113 \n",
       "L 1647 0 \n",
       "L 244 0 \n",
       "L 244 113 \n",
       "Q 441 113 512 153 \n",
       "Q 584 194 625 287 \n",
       "Q 666 381 666 647 \n",
       "L 666 3247 \n",
       "Q 666 3731 644 3842 \n",
       "Q 622 3953 573 3993 \n",
       "Q 525 4034 450 4034 \n",
       "Q 369 4034 244 3984 \n",
       "L 191 4094 \n",
       "L 1044 4444 \n",
       "L 1184 4444 \n",
       "z\n",
       "\" transform=\"scale(0.015625)\"/>\n",
       "       <path id=\"TimesNewRomanPSMT-6f\" d=\"M 1600 2947 \n",
       "Q 2250 2947 2644 2453 \n",
       "Q 2978 2031 2978 1484 \n",
       "Q 2978 1100 2793 706 \n",
       "Q 2609 313 2286 112 \n",
       "Q 1963 -88 1566 -88 \n",
       "Q 919 -88 538 428 \n",
       "Q 216 863 216 1403 \n",
       "Q 216 1797 411 2186 \n",
       "Q 606 2575 925 2761 \n",
       "Q 1244 2947 1600 2947 \n",
       "z\n",
       "M 1503 2744 \n",
       "Q 1338 2744 1170 2645 \n",
       "Q 1003 2547 900 2300 \n",
       "Q 797 2053 797 1666 \n",
       "Q 797 1041 1045 587 \n",
       "Q 1294 134 1700 134 \n",
       "Q 2003 134 2200 384 \n",
       "Q 2397 634 2397 1244 \n",
       "Q 2397 2006 2069 2444 \n",
       "Q 1847 2744 1503 2744 \n",
       "z\n",
       "\" transform=\"scale(0.015625)\"/>\n",
       "       <path id=\"TimesNewRomanPSMT-67\" d=\"M 966 1044 \n",
       "Q 703 1172 562 1401 \n",
       "Q 422 1631 422 1909 \n",
       "Q 422 2334 742 2640 \n",
       "Q 1063 2947 1563 2947 \n",
       "Q 1972 2947 2272 2747 \n",
       "L 2878 2747 \n",
       "Q 3013 2747 3034 2739 \n",
       "Q 3056 2731 3066 2713 \n",
       "Q 3084 2684 3084 2613 \n",
       "Q 3084 2531 3069 2500 \n",
       "Q 3059 2484 3036 2475 \n",
       "Q 3013 2466 2878 2466 \n",
       "L 2506 2466 \n",
       "Q 2681 2241 2681 1891 \n",
       "Q 2681 1491 2375 1206 \n",
       "Q 2069 922 1553 922 \n",
       "Q 1341 922 1119 984 \n",
       "Q 981 866 932 777 \n",
       "Q 884 688 884 625 \n",
       "Q 884 572 936 522 \n",
       "Q 988 472 1138 450 \n",
       "Q 1225 438 1575 428 \n",
       "Q 2219 413 2409 384 \n",
       "Q 2700 344 2873 169 \n",
       "Q 3047 -6 3047 -263 \n",
       "Q 3047 -616 2716 -925 \n",
       "Q 2228 -1381 1444 -1381 \n",
       "Q 841 -1381 425 -1109 \n",
       "Q 191 -953 191 -784 \n",
       "Q 191 -709 225 -634 \n",
       "Q 278 -519 444 -313 \n",
       "Q 466 -284 763 25 \n",
       "Q 600 122 533 198 \n",
       "Q 466 275 466 372 \n",
       "Q 466 481 555 628 \n",
       "Q 644 775 966 1044 \n",
       "z\n",
       "M 1509 2797 \n",
       "Q 1278 2797 1122 2612 \n",
       "Q 966 2428 966 2047 \n",
       "Q 966 1553 1178 1281 \n",
       "Q 1341 1075 1591 1075 \n",
       "Q 1828 1075 1981 1253 \n",
       "Q 2134 1431 2134 1813 \n",
       "Q 2134 2309 1919 2591 \n",
       "Q 1759 2797 1509 2797 \n",
       "z\n",
       "M 934 0 \n",
       "Q 788 -159 713 -296 \n",
       "Q 638 -434 638 -550 \n",
       "Q 638 -700 819 -813 \n",
       "Q 1131 -1006 1722 -1006 \n",
       "Q 2284 -1006 2551 -807 \n",
       "Q 2819 -609 2819 -384 \n",
       "Q 2819 -222 2659 -153 \n",
       "Q 2497 -84 2016 -72 \n",
       "Q 1313 -53 934 0 \n",
       "z\n",
       "\" transform=\"scale(0.015625)\"/>\n",
       "       <path id=\"TimesNewRomanPSMT-28\" d=\"M 1988 -1253 \n",
       "L 1988 -1369 \n",
       "Q 1516 -1131 1200 -813 \n",
       "Q 750 -359 506 256 \n",
       "Q 263 872 263 1534 \n",
       "Q 263 2503 741 3301 \n",
       "Q 1219 4100 1988 4444 \n",
       "L 1988 4313 \n",
       "Q 1603 4100 1356 3731 \n",
       "Q 1109 3363 987 2797 \n",
       "Q 866 2231 866 1616 \n",
       "Q 866 947 969 400 \n",
       "Q 1050 -31 1165 -292 \n",
       "Q 1281 -553 1476 -793 \n",
       "Q 1672 -1034 1988 -1253 \n",
       "z\n",
       "\" transform=\"scale(0.015625)\"/>\n",
       "       <path id=\"DejaVuSans-Oblique-46\" d=\"M 1081 4666 \n",
       "L 3756 4666 \n",
       "L 3653 4134 \n",
       "L 1606 4134 \n",
       "L 1338 2759 \n",
       "L 3188 2759 \n",
       "L 3084 2228 \n",
       "L 1234 2228 \n",
       "L 800 0 \n",
       "L 172 0 \n",
       "L 1081 4666 \n",
       "z\n",
       "\" transform=\"scale(0.015625)\"/>\n",
       "       <path id=\"DejaVuSans-33\" d=\"M 2597 2516 \n",
       "Q 3050 2419 3304 2112 \n",
       "Q 3559 1806 3559 1356 \n",
       "Q 3559 666 3084 287 \n",
       "Q 2609 -91 1734 -91 \n",
       "Q 1441 -91 1130 -33 \n",
       "Q 819 25 488 141 \n",
       "L 488 750 \n",
       "Q 750 597 1062 519 \n",
       "Q 1375 441 1716 441 \n",
       "Q 2309 441 2620 675 \n",
       "Q 2931 909 2931 1356 \n",
       "Q 2931 1769 2642 2001 \n",
       "Q 2353 2234 1838 2234 \n",
       "L 1294 2234 \n",
       "L 1294 2753 \n",
       "L 1863 2753 \n",
       "Q 2328 2753 2575 2939 \n",
       "Q 2822 3125 2822 3475 \n",
       "Q 2822 3834 2567 4026 \n",
       "Q 2313 4219 1838 4219 \n",
       "Q 1578 4219 1281 4162 \n",
       "Q 984 4106 628 3988 \n",
       "L 628 4550 \n",
       "Q 988 4650 1302 4700 \n",
       "Q 1616 4750 1894 4750 \n",
       "Q 2613 4750 3031 4423 \n",
       "Q 3450 4097 3450 3541 \n",
       "Q 3450 3153 3228 2886 \n",
       "Q 3006 2619 2597 2516 \n",
       "z\n",
       "\" transform=\"scale(0.015625)\"/>\n",
       "       <path id=\"DejaVuSans-2212\" d=\"M 678 2272 \n",
       "L 4684 2272 \n",
       "L 4684 1741 \n",
       "L 678 1741 \n",
       "L 678 2272 \n",
       "z\n",
       "\" transform=\"scale(0.015625)\"/>\n",
       "       <path id=\"DejaVuSans-31\" d=\"M 794 531 \n",
       "L 1825 531 \n",
       "L 1825 4091 \n",
       "L 703 3866 \n",
       "L 703 4441 \n",
       "L 1819 4666 \n",
       "L 2450 4666 \n",
       "L 2450 531 \n",
       "L 3481 531 \n",
       "L 3481 0 \n",
       "L 794 0 \n",
       "L 794 531 \n",
       "z\n",
       "\" transform=\"scale(0.015625)\"/>\n",
       "       <path id=\"DejaVuSans-30\" d=\"M 2034 4250 \n",
       "Q 1547 4250 1301 3770 \n",
       "Q 1056 3291 1056 2328 \n",
       "Q 1056 1369 1301 889 \n",
       "Q 1547 409 2034 409 \n",
       "Q 2525 409 2770 889 \n",
       "Q 3016 1369 3016 2328 \n",
       "Q 3016 3291 2770 3770 \n",
       "Q 2525 4250 2034 4250 \n",
       "z\n",
       "M 2034 4750 \n",
       "Q 2819 4750 3233 4129 \n",
       "Q 3647 3509 3647 2328 \n",
       "Q 3647 1150 3233 529 \n",
       "Q 2819 -91 2034 -91 \n",
       "Q 1250 -91 836 529 \n",
       "Q 422 1150 422 2328 \n",
       "Q 422 3509 836 4129 \n",
       "Q 1250 4750 2034 4750 \n",
       "z\n",
       "\" transform=\"scale(0.015625)\"/>\n",
       "       <path id=\"DejaVuSans-6b\" d=\"M 581 4863 \n",
       "L 1159 4863 \n",
       "L 1159 1991 \n",
       "L 2875 3500 \n",
       "L 3609 3500 \n",
       "L 1753 1863 \n",
       "L 3688 0 \n",
       "L 2938 0 \n",
       "L 1159 1709 \n",
       "L 1159 0 \n",
       "L 581 0 \n",
       "L 581 4863 \n",
       "z\n",
       "\" transform=\"scale(0.015625)\"/>\n",
       "       <path id=\"DejaVuSans-65\" d=\"M 3597 1894 \n",
       "L 3597 1613 \n",
       "L 953 1613 \n",
       "Q 991 1019 1311 708 \n",
       "Q 1631 397 2203 397 \n",
       "Q 2534 397 2845 478 \n",
       "Q 3156 559 3463 722 \n",
       "L 3463 178 \n",
       "Q 3153 47 2828 -22 \n",
       "Q 2503 -91 2169 -91 \n",
       "Q 1331 -91 842 396 \n",
       "Q 353 884 353 1716 \n",
       "Q 353 2575 817 3079 \n",
       "Q 1281 3584 2069 3584 \n",
       "Q 2775 3584 3186 3129 \n",
       "Q 3597 2675 3597 1894 \n",
       "z\n",
       "M 3022 2063 \n",
       "Q 3016 2534 2758 2815 \n",
       "Q 2500 3097 2075 3097 \n",
       "Q 1594 3097 1305 2825 \n",
       "Q 1016 2553 972 2059 \n",
       "L 3022 2063 \n",
       "z\n",
       "\" transform=\"scale(0.015625)\"/>\n",
       "       <path id=\"DejaVuSans-56\" d=\"M 1831 0 \n",
       "L 50 4666 \n",
       "L 709 4666 \n",
       "L 2188 738 \n",
       "L 3669 4666 \n",
       "L 4325 4666 \n",
       "L 2547 0 \n",
       "L 1831 0 \n",
       "z\n",
       "\" transform=\"scale(0.015625)\"/>\n",
       "       <path id=\"DejaVuSans-2f\" d=\"M 1625 4666 \n",
       "L 2156 4666 \n",
       "L 531 -594 \n",
       "L 0 -594 \n",
       "L 1625 4666 \n",
       "z\n",
       "\" transform=\"scale(0.015625)\"/>\n",
       "       <path id=\"DejaVuSans-Oblique-4c\" d=\"M 1075 4666 \n",
       "L 1709 4666 \n",
       "L 909 525 \n",
       "L 3181 525 \n",
       "L 3078 0 \n",
       "L 172 0 \n",
       "L 1075 4666 \n",
       "z\n",
       "\" transform=\"scale(0.015625)\"/>\n",
       "       <path id=\"DejaVuSans-45\" d=\"M 628 4666 \n",
       "L 3578 4666 \n",
       "L 3578 4134 \n",
       "L 1259 4134 \n",
       "L 1259 2753 \n",
       "L 3481 2753 \n",
       "L 3481 2222 \n",
       "L 1259 2222 \n",
       "L 1259 531 \n",
       "L 3634 531 \n",
       "L 3634 0 \n",
       "L 628 0 \n",
       "L 628 4666 \n",
       "z\n",
       "\" transform=\"scale(0.015625)\"/>\n",
       "       <path id=\"DejaVuSans-64\" d=\"M 2906 2969 \n",
       "L 2906 4863 \n",
       "L 3481 4863 \n",
       "L 3481 0 \n",
       "L 2906 0 \n",
       "L 2906 525 \n",
       "Q 2725 213 2448 61 \n",
       "Q 2172 -91 1784 -91 \n",
       "Q 1150 -91 751 415 \n",
       "Q 353 922 353 1747 \n",
       "Q 353 2572 751 3078 \n",
       "Q 1150 3584 1784 3584 \n",
       "Q 2172 3584 2448 3432 \n",
       "Q 2725 3281 2906 2969 \n",
       "z\n",
       "M 947 1747 \n",
       "Q 947 1113 1208 752 \n",
       "Q 1469 391 1925 391 \n",
       "Q 2381 391 2643 752 \n",
       "Q 2906 1113 2906 1747 \n",
       "Q 2906 2381 2643 2742 \n",
       "Q 2381 3103 1925 3103 \n",
       "Q 1469 3103 1208 2742 \n",
       "Q 947 2381 947 1747 \n",
       "z\n",
       "\" transform=\"scale(0.015625)\"/>\n",
       "       <path id=\"TimesNewRomanPSMT-29\" d=\"M 144 4313 \n",
       "L 144 4444 \n",
       "Q 619 4209 934 3891 \n",
       "Q 1381 3434 1625 2820 \n",
       "Q 1869 2206 1869 1541 \n",
       "Q 1869 572 1392 -226 \n",
       "Q 916 -1025 144 -1369 \n",
       "L 144 -1253 \n",
       "Q 528 -1038 776 -670 \n",
       "Q 1025 -303 1145 264 \n",
       "Q 1266 831 1266 1447 \n",
       "Q 1266 2113 1163 2663 \n",
       "Q 1084 3094 967 3353 \n",
       "Q 850 3613 656 3853 \n",
       "Q 463 4094 144 4313 \n",
       "z\n",
       "\" transform=\"scale(0.015625)\"/>\n",
       "      </defs>\n",
       "      <use xlink:href=\"#TimesNewRomanPSMT-6c\" transform=\"translate(0 0.09375)\"/>\n",
       "      <use xlink:href=\"#TimesNewRomanPSMT-6f\" transform=\"translate(27.783203 0.09375)\"/>\n",
       "      <use xlink:href=\"#TimesNewRomanPSMT-67\" transform=\"translate(77.783203 0.09375)\"/>\n",
       "      <use xlink:href=\"#TimesNewRomanPSMT-28\" transform=\"translate(127.783203 0.09375)\"/>\n",
       "      <use xlink:href=\"#DejaVuSans-Oblique-46\" transform=\"translate(161.083984 0.09375)\"/>\n",
       "      <use xlink:href=\"#DejaVuSans-33\" transform=\"translate(229.968489 -16.3125) scale(0.7)\"/>\n",
       "      <use xlink:href=\"#DejaVuSans-2212\" transform=\"translate(288.142317 -16.3125) scale(0.7)\"/>\n",
       "      <use xlink:href=\"#DejaVuSans-31\" transform=\"translate(360.432356 -16.3125) scale(0.7)\"/>\n",
       "      <use xlink:href=\"#DejaVuSans-30\" transform=\"translate(404.968489 -16.3125) scale(0.7)\"/>\n",
       "      <use xlink:href=\"#DejaVuSans-6b\" transform=\"translate(449.504622 -16.3125) scale(0.7)\"/>\n",
       "      <use xlink:href=\"#DejaVuSans-65\" transform=\"translate(490.041731 -16.3125) scale(0.7)\"/>\n",
       "      <use xlink:href=\"#DejaVuSans-56\" transform=\"translate(533.108137 -16.3125) scale(0.7)\"/>\n",
       "      <use xlink:href=\"#DejaVuSans-2f\" transform=\"translate(583.728255 0.09375)\"/>\n",
       "      <use xlink:href=\"#DejaVuSans-Oblique-4c\" transform=\"translate(617.419661 0.09375)\"/>\n",
       "      <use xlink:href=\"#DejaVuSans-45\" transform=\"translate(673.132552 -16.3125) scale(0.7)\"/>\n",
       "      <use xlink:href=\"#DejaVuSans-64\" transform=\"translate(717.361067 -16.3125) scale(0.7)\"/>\n",
       "      <use xlink:href=\"#DejaVuSans-64\" transform=\"translate(761.794661 -16.3125) scale(0.7)\"/>\n",
       "      <use xlink:href=\"#TimesNewRomanPSMT-29\" transform=\"translate(808.96263 0.09375)\"/>\n",
       "     </g>\n",
       "    </g>\n",
       "   </g>\n",
       "   <g id=\"matplotlib.axis_4\">\n",
       "    <g id=\"ytick_6\">\n",
       "     <g id=\"line2d_27\">\n",
       "      <g>\n",
       "       <use xlink:href=\"#mf836f141cf\" x=\"59.52\" y=\"413.267169\" style=\"stroke: #000000; stroke-width: 2\"/>\n",
       "      </g>\n",
       "     </g>\n",
       "     <g id=\"line2d_28\">\n",
       "      <g>\n",
       "       <use xlink:href=\"#mb31d680c8a\" x=\"282.72\" y=\"413.267169\" style=\"stroke: #000000; stroke-width: 2\"/>\n",
       "      </g>\n",
       "     </g>\n",
       "     <g id=\"text_16\">\n",
       "      <!-- 50 -->\n",
       "      <g transform=\"translate(38.02 419.516544) scale(0.18 -0.18)\">\n",
       "       <use xlink:href=\"#TimesNewRomanPSMT-35\"/>\n",
       "       <use xlink:href=\"#TimesNewRomanPSMT-30\" x=\"50\"/>\n",
       "      </g>\n",
       "     </g>\n",
       "    </g>\n",
       "    <g id=\"ytick_7\">\n",
       "     <g id=\"line2d_29\">\n",
       "      <g>\n",
       "       <use xlink:href=\"#mf836f141cf\" x=\"59.52\" y=\"359.61299\" style=\"stroke: #000000; stroke-width: 2\"/>\n",
       "      </g>\n",
       "     </g>\n",
       "     <g id=\"line2d_30\">\n",
       "      <g>\n",
       "       <use xlink:href=\"#mb31d680c8a\" x=\"282.72\" y=\"359.61299\" style=\"stroke: #000000; stroke-width: 2\"/>\n",
       "      </g>\n",
       "     </g>\n",
       "     <g id=\"text_17\">\n",
       "      <!-- 100 -->\n",
       "      <g transform=\"translate(29.02 365.862365) scale(0.18 -0.18)\">\n",
       "       <use xlink:href=\"#TimesNewRomanPSMT-31\"/>\n",
       "       <use xlink:href=\"#TimesNewRomanPSMT-30\" x=\"50\"/>\n",
       "       <use xlink:href=\"#TimesNewRomanPSMT-30\" x=\"100\"/>\n",
       "      </g>\n",
       "     </g>\n",
       "    </g>\n",
       "    <g id=\"ytick_8\">\n",
       "     <g id=\"line2d_31\">\n",
       "      <g>\n",
       "       <use xlink:href=\"#mf836f141cf\" x=\"59.52\" y=\"305.958811\" style=\"stroke: #000000; stroke-width: 2\"/>\n",
       "      </g>\n",
       "     </g>\n",
       "     <g id=\"line2d_32\">\n",
       "      <g>\n",
       "       <use xlink:href=\"#mb31d680c8a\" x=\"282.72\" y=\"305.958811\" style=\"stroke: #000000; stroke-width: 2\"/>\n",
       "      </g>\n",
       "     </g>\n",
       "     <g id=\"text_18\">\n",
       "      <!-- 150 -->\n",
       "      <g transform=\"translate(29.02 312.208186) scale(0.18 -0.18)\">\n",
       "       <use xlink:href=\"#TimesNewRomanPSMT-31\"/>\n",
       "       <use xlink:href=\"#TimesNewRomanPSMT-35\" x=\"50\"/>\n",
       "       <use xlink:href=\"#TimesNewRomanPSMT-30\" x=\"100\"/>\n",
       "      </g>\n",
       "     </g>\n",
       "    </g>\n",
       "    <g id=\"ytick_9\">\n",
       "     <g id=\"line2d_33\">\n",
       "      <g>\n",
       "       <use xlink:href=\"#mf836f141cf\" x=\"59.52\" y=\"252.304631\" style=\"stroke: #000000; stroke-width: 2\"/>\n",
       "      </g>\n",
       "     </g>\n",
       "     <g id=\"line2d_34\">\n",
       "      <g>\n",
       "       <use xlink:href=\"#mb31d680c8a\" x=\"282.72\" y=\"252.304631\" style=\"stroke: #000000; stroke-width: 2\"/>\n",
       "      </g>\n",
       "     </g>\n",
       "     <g id=\"text_19\">\n",
       "      <!-- 200 -->\n",
       "      <g transform=\"translate(29.02 258.554006) scale(0.18 -0.18)\">\n",
       "       <use xlink:href=\"#TimesNewRomanPSMT-32\"/>\n",
       "       <use xlink:href=\"#TimesNewRomanPSMT-30\" x=\"50\"/>\n",
       "       <use xlink:href=\"#TimesNewRomanPSMT-30\" x=\"100\"/>\n",
       "      </g>\n",
       "     </g>\n",
       "    </g>\n",
       "    <g id=\"text_20\">\n",
       "     <!-- $N_{\\rm H,los (10^{22} cm^{-2})}$ -->\n",
       "     <g transform=\"translate(20.34 392.31) rotate(-90) scale(0.18 -0.18)\">\n",
       "      <defs>\n",
       "       <path id=\"DejaVuSans-Oblique-4e\" d=\"M 1081 4666 \n",
       "L 1931 4666 \n",
       "L 3219 666 \n",
       "L 4000 4666 \n",
       "L 4616 4666 \n",
       "L 3706 0 \n",
       "L 2853 0 \n",
       "L 1569 4025 \n",
       "L 788 0 \n",
       "L 172 0 \n",
       "L 1081 4666 \n",
       "z\n",
       "\" transform=\"scale(0.015625)\"/>\n",
       "       <path id=\"DejaVuSans-48\" d=\"M 628 4666 \n",
       "L 1259 4666 \n",
       "L 1259 2753 \n",
       "L 3553 2753 \n",
       "L 3553 4666 \n",
       "L 4184 4666 \n",
       "L 4184 0 \n",
       "L 3553 0 \n",
       "L 3553 2222 \n",
       "L 1259 2222 \n",
       "L 1259 0 \n",
       "L 628 0 \n",
       "L 628 4666 \n",
       "z\n",
       "\" transform=\"scale(0.015625)\"/>\n",
       "       <path id=\"DejaVuSans-2c\" d=\"M 750 794 \n",
       "L 1409 794 \n",
       "L 1409 256 \n",
       "L 897 -744 \n",
       "L 494 -744 \n",
       "L 750 256 \n",
       "L 750 794 \n",
       "z\n",
       "\" transform=\"scale(0.015625)\"/>\n",
       "       <path id=\"DejaVuSans-6c\" d=\"M 603 4863 \n",
       "L 1178 4863 \n",
       "L 1178 0 \n",
       "L 603 0 \n",
       "L 603 4863 \n",
       "z\n",
       "\" transform=\"scale(0.015625)\"/>\n",
       "       <path id=\"DejaVuSans-6f\" d=\"M 1959 3097 \n",
       "Q 1497 3097 1228 2736 \n",
       "Q 959 2375 959 1747 \n",
       "Q 959 1119 1226 758 \n",
       "Q 1494 397 1959 397 \n",
       "Q 2419 397 2687 759 \n",
       "Q 2956 1122 2956 1747 \n",
       "Q 2956 2369 2687 2733 \n",
       "Q 2419 3097 1959 3097 \n",
       "z\n",
       "M 1959 3584 \n",
       "Q 2709 3584 3137 3096 \n",
       "Q 3566 2609 3566 1747 \n",
       "Q 3566 888 3137 398 \n",
       "Q 2709 -91 1959 -91 \n",
       "Q 1206 -91 779 398 \n",
       "Q 353 888 353 1747 \n",
       "Q 353 2609 779 3096 \n",
       "Q 1206 3584 1959 3584 \n",
       "z\n",
       "\" transform=\"scale(0.015625)\"/>\n",
       "       <path id=\"DejaVuSans-73\" d=\"M 2834 3397 \n",
       "L 2834 2853 \n",
       "Q 2591 2978 2328 3040 \n",
       "Q 2066 3103 1784 3103 \n",
       "Q 1356 3103 1142 2972 \n",
       "Q 928 2841 928 2578 \n",
       "Q 928 2378 1081 2264 \n",
       "Q 1234 2150 1697 2047 \n",
       "L 1894 2003 \n",
       "Q 2506 1872 2764 1633 \n",
       "Q 3022 1394 3022 966 \n",
       "Q 3022 478 2636 193 \n",
       "Q 2250 -91 1575 -91 \n",
       "Q 1294 -91 989 -36 \n",
       "Q 684 19 347 128 \n",
       "L 347 722 \n",
       "Q 666 556 975 473 \n",
       "Q 1284 391 1588 391 \n",
       "Q 1994 391 2212 530 \n",
       "Q 2431 669 2431 922 \n",
       "Q 2431 1156 2273 1281 \n",
       "Q 2116 1406 1581 1522 \n",
       "L 1381 1569 \n",
       "Q 847 1681 609 1914 \n",
       "Q 372 2147 372 2553 \n",
       "Q 372 3047 722 3315 \n",
       "Q 1072 3584 1716 3584 \n",
       "Q 2034 3584 2315 3537 \n",
       "Q 2597 3491 2834 3397 \n",
       "z\n",
       "\" transform=\"scale(0.015625)\"/>\n",
       "       <path id=\"DejaVuSans-28\" d=\"M 1984 4856 \n",
       "Q 1566 4138 1362 3434 \n",
       "Q 1159 2731 1159 2009 \n",
       "Q 1159 1288 1364 580 \n",
       "Q 1569 -128 1984 -844 \n",
       "L 1484 -844 \n",
       "Q 1016 -109 783 600 \n",
       "Q 550 1309 550 2009 \n",
       "Q 550 2706 781 3412 \n",
       "Q 1013 4119 1484 4856 \n",
       "L 1984 4856 \n",
       "z\n",
       "\" transform=\"scale(0.015625)\"/>\n",
       "       <path id=\"DejaVuSans-32\" d=\"M 1228 531 \n",
       "L 3431 531 \n",
       "L 3431 0 \n",
       "L 469 0 \n",
       "L 469 531 \n",
       "Q 828 903 1448 1529 \n",
       "Q 2069 2156 2228 2338 \n",
       "Q 2531 2678 2651 2914 \n",
       "Q 2772 3150 2772 3378 \n",
       "Q 2772 3750 2511 3984 \n",
       "Q 2250 4219 1831 4219 \n",
       "Q 1534 4219 1204 4116 \n",
       "Q 875 4013 500 3803 \n",
       "L 500 4441 \n",
       "Q 881 4594 1212 4672 \n",
       "Q 1544 4750 1819 4750 \n",
       "Q 2544 4750 2975 4387 \n",
       "Q 3406 4025 3406 3419 \n",
       "Q 3406 3131 3298 2873 \n",
       "Q 3191 2616 2906 2266 \n",
       "Q 2828 2175 2409 1742 \n",
       "Q 1991 1309 1228 531 \n",
       "z\n",
       "\" transform=\"scale(0.015625)\"/>\n",
       "       <path id=\"DejaVuSans-63\" d=\"M 3122 3366 \n",
       "L 3122 2828 \n",
       "Q 2878 2963 2633 3030 \n",
       "Q 2388 3097 2138 3097 \n",
       "Q 1578 3097 1268 2742 \n",
       "Q 959 2388 959 1747 \n",
       "Q 959 1106 1268 751 \n",
       "Q 1578 397 2138 397 \n",
       "Q 2388 397 2633 464 \n",
       "Q 2878 531 3122 666 \n",
       "L 3122 134 \n",
       "Q 2881 22 2623 -34 \n",
       "Q 2366 -91 2075 -91 \n",
       "Q 1284 -91 818 406 \n",
       "Q 353 903 353 1747 \n",
       "Q 353 2603 823 3093 \n",
       "Q 1294 3584 2113 3584 \n",
       "Q 2378 3584 2631 3529 \n",
       "Q 2884 3475 3122 3366 \n",
       "z\n",
       "\" transform=\"scale(0.015625)\"/>\n",
       "       <path id=\"DejaVuSans-6d\" d=\"M 3328 2828 \n",
       "Q 3544 3216 3844 3400 \n",
       "Q 4144 3584 4550 3584 \n",
       "Q 5097 3584 5394 3201 \n",
       "Q 5691 2819 5691 2113 \n",
       "L 5691 0 \n",
       "L 5113 0 \n",
       "L 5113 2094 \n",
       "Q 5113 2597 4934 2840 \n",
       "Q 4756 3084 4391 3084 \n",
       "Q 3944 3084 3684 2787 \n",
       "Q 3425 2491 3425 1978 \n",
       "L 3425 0 \n",
       "L 2847 0 \n",
       "L 2847 2094 \n",
       "Q 2847 2600 2669 2842 \n",
       "Q 2491 3084 2119 3084 \n",
       "Q 1678 3084 1418 2786 \n",
       "Q 1159 2488 1159 1978 \n",
       "L 1159 0 \n",
       "L 581 0 \n",
       "L 581 3500 \n",
       "L 1159 3500 \n",
       "L 1159 2956 \n",
       "Q 1356 3278 1631 3431 \n",
       "Q 1906 3584 2284 3584 \n",
       "Q 2666 3584 2933 3390 \n",
       "Q 3200 3197 3328 2828 \n",
       "z\n",
       "\" transform=\"scale(0.015625)\"/>\n",
       "       <path id=\"DejaVuSans-29\" d=\"M 513 4856 \n",
       "L 1013 4856 \n",
       "Q 1481 4119 1714 3412 \n",
       "Q 1947 2706 1947 2009 \n",
       "Q 1947 1309 1714 600 \n",
       "Q 1481 -109 1013 -844 \n",
       "L 513 -844 \n",
       "Q 928 -128 1133 580 \n",
       "Q 1338 1288 1338 2009 \n",
       "Q 1338 2731 1133 3434 \n",
       "Q 928 4138 513 4856 \n",
       "z\n",
       "\" transform=\"scale(0.015625)\"/>\n",
       "      </defs>\n",
       "      <use xlink:href=\"#DejaVuSans-Oblique-4e\" transform=\"translate(0 0.09375)\"/>\n",
       "      <use xlink:href=\"#DejaVuSans-48\" transform=\"translate(74.804688 -16.3125) scale(0.7)\"/>\n",
       "      <use xlink:href=\"#DejaVuSans-2c\" transform=\"translate(127.441406 -16.3125) scale(0.7)\"/>\n",
       "      <use xlink:href=\"#DejaVuSans-6c\" transform=\"translate(163.330078 -16.3125) scale(0.7)\"/>\n",
       "      <use xlink:href=\"#DejaVuSans-6f\" transform=\"translate(182.77832 -16.3125) scale(0.7)\"/>\n",
       "      <use xlink:href=\"#DejaVuSans-73\" transform=\"translate(225.605469 -16.3125) scale(0.7)\"/>\n",
       "      <use xlink:href=\"#DejaVuSans-28\" transform=\"translate(262.075195 -16.3125) scale(0.7)\"/>\n",
       "      <use xlink:href=\"#DejaVuSans-31\" transform=\"translate(289.384766 -16.3125) scale(0.7)\"/>\n",
       "      <use xlink:href=\"#DejaVuSans-30\" transform=\"translate(333.920898 -16.3125) scale(0.7)\"/>\n",
       "      <use xlink:href=\"#DejaVuSans-32\" transform=\"translate(379.126953 10.484375) scale(0.49)\"/>\n",
       "      <use xlink:href=\"#DejaVuSans-32\" transform=\"translate(410.302246 10.484375) scale(0.49)\"/>\n",
       "      <use xlink:href=\"#DejaVuSans-63\" transform=\"translate(443.391602 -16.3125) scale(0.7)\"/>\n",
       "      <use xlink:href=\"#DejaVuSans-6d\" transform=\"translate(481.87793 -16.3125) scale(0.7)\"/>\n",
       "      <use xlink:href=\"#DejaVuSans-2212\" transform=\"translate(550.736328 10.484375) scale(0.49)\"/>\n",
       "      <use xlink:href=\"#DejaVuSans-32\" transform=\"translate(591.792969 10.484375) scale(0.49)\"/>\n",
       "      <use xlink:href=\"#DejaVuSans-29\" transform=\"translate(624.882324 -16.3125) scale(0.7)\"/>\n",
       "     </g>\n",
       "    </g>\n",
       "   </g>\n",
       "   <g id=\"patch_8\">\n",
       "    <path d=\"M 59.52 442.08 \n",
       "L 59.52 224.64 \n",
       "\" style=\"fill: none; stroke: #000000; stroke-width: 2; stroke-linejoin: miter; stroke-linecap: square\"/>\n",
       "   </g>\n",
       "   <g id=\"patch_9\">\n",
       "    <path d=\"M 282.72 442.08 \n",
       "L 282.72 224.64 \n",
       "\" style=\"fill: none; stroke: #000000; stroke-width: 2; stroke-linejoin: miter; stroke-linecap: square\"/>\n",
       "   </g>\n",
       "   <g id=\"patch_10\">\n",
       "    <path d=\"M 59.52 442.08 \n",
       "L 282.72 442.08 \n",
       "\" style=\"fill: none; stroke: #000000; stroke-width: 2; stroke-linejoin: miter; stroke-linecap: square\"/>\n",
       "   </g>\n",
       "   <g id=\"patch_11\">\n",
       "    <path d=\"M 59.52 224.64 \n",
       "L 282.72 224.64 \n",
       "\" style=\"fill: none; stroke: #000000; stroke-width: 2; stroke-linejoin: miter; stroke-linecap: square\"/>\n",
       "   </g>\n",
       "  </g>\n",
       " </g>\n",
       " <defs>\n",
       "  <clipPath id=\"pfa1d965c0a\">\n",
       "   <rect x=\"59.52\" y=\"7.2\" width=\"223.2\" height=\"217.44\"/>\n",
       "  </clipPath>\n",
       "  <clipPath id=\"pea8f8f1c41\">\n",
       "   <rect x=\"59.52\" y=\"224.64\" width=\"223.2\" height=\"217.44\"/>\n",
       "  </clipPath>\n",
       " </defs>\n",
       "</svg>\n"
      ],
      "text/plain": [
       "<Figure size 288x576 with 2 Axes>"
      ]
     },
     "metadata": {
      "needs_background": "light"
     },
     "output_type": "display_data"
    }
   ],
   "source": [
    "fig = plt.figure(figsize=(4,8))\n",
    "fig.subplots_adjust(hspace=0., wspace = 0.0)\n",
    "ax0 = fig.add_subplot(2,1,1)\n",
    "ax1 = fig.add_subplot(2,1,2)    \n",
    "\n",
    "for index,(nh_i,Gamma_i) in enumerate(zip(NGC7582_Lefkir['nH'],NGC7582_Lefkir['Gamma'])):\n",
    "    #print(nh_i)\n",
    "    if nh_i.find('pm')>0:\n",
    "        nh_i_v=float(nh_i.split('}\\\\pm')[0].split('${')[1])\n",
    "        \n",
    "        if nh_i.split('}\\\\pm')[1].split('$')[0].find('{')>-1:\n",
    "            nh_i_l=float(nh_i.split('}\\\\pm{')[1].split('}$')[0])\n",
    "            nh_i_u=float(nh_i.split('}\\\\pm{')[1].split('}$')[0])\n",
    "        else:    \n",
    "           \n",
    "        \n",
    "            nh_i_l=float(nh_i.split('}\\\\pm')[1].split('$')[0])\n",
    "            nh_i_u=float(nh_i.split('}\\\\pm')[1].split('$')[0])        \n",
    "    \n",
    "    else:\n",
    "        nh_i_v= float(nh_i.split('}^{')[0].split('${')[1])\n",
    "        nh_i_l= float(nh_i.split('}_{-{')[1].split('}}')[0])\n",
    "        nh_i_u= float(nh_i.split('}^{+{')[1].split('}}')[0])\n",
    "    \n",
    "    if Gamma_i.find('pm')>0:\n",
    "        Gamma_i_v=float(Gamma_i.split('}\\\\pm')[0].split('${')[1])\n",
    "        \n",
    "        if Gamma_i.split('}\\\\pm')[1].split('$')[0].find('{')>-1:\n",
    "            Gamma_i_l=float(Gamma_i.split('}\\\\pm{')[1].split('}$')[0])\n",
    "            Gamma_i_u=float(Gamma_i.split('}\\\\pm{')[1].split('}$')[0])\n",
    "        else:    \n",
    "        \n",
    "            Gamma_i_l=float(Gamma_i.split('}\\\\pm')[1].split('$')[0])\n",
    "            Gamma_i_u=float(Gamma_i.split('}\\\\pm')[1].split('$')[0])\n",
    "        \n",
    "    else:    \n",
    "        Gamma_i_v= float(Gamma_i.split('}^{')[0].split('${')[1])\n",
    "        Gamma_i_l= float(Gamma_i.split('}_{-{')[1].split('}}')[0])\n",
    "        Gamma_i_u= float(Gamma_i.split('}^{+{')[1].split('}}')[0])\n",
    "    \n",
    "    \n",
    "    F3_10_i=NGC7582_Lefkir.loc[index,'F3-10_']\n",
    "    if F3_10_i.find('pm')>0:\n",
    "        F3_10_i_v=float(F3_10_i.split('\\\\pm')[0].split('$')[1])\n",
    "        \n",
    "        if F3_10_i.split('\\\\pm')[1].split('$')[0].find('{')>-1:\n",
    "            F3_10_i_l=float(F3_10_i.split('\\\\pm')[1].split('$')[0])\n",
    "            F3_10_i_u=float(F3_10_i.split('\\\\pm')[1].split('$')[0])\n",
    "        else:    \n",
    "        \n",
    "            F3_10_i_l=float(F3_10_i.split('\\\\pm')[1].split('$')[0])\n",
    "            F3_10_i_u=float(F3_10_i.split('\\\\pm')[1].split('$')[0])\n",
    "        \n",
    "    else:    \n",
    "        F3_10_i_v= float(F3_10_i.split('_{-')[0].split('$')[1])\n",
    "        F3_10_i_l= float(F3_10_i.split('}^{+')[0].split('_{-')[1])\n",
    "        F3_10_i_u= float(F3_10_i.split('}^{+')[1].split('}$')[0])  \n",
    "     \n",
    "    #if isinstance(NGC7582_Lefkir.loc[index,'epoch'],str) and NGC7582_Lefkir.loc[index,'epoch'].find('2016')>-1:\n",
    "\n",
    "    \n",
    "    cut_Norm_i=NGC7582_Lefkir.loc[index,'Norm1']\n",
    "    if cut_Norm_i.find('pm')>0:\n",
    "        cut_Norm_i_v=float(cut_Norm_i.split('}\\\\pm')[0].split('${')[1])\n",
    "        \n",
    "        if cut_Norm_i.split('}\\\\pm')[1].split('$')[0].find('{')>-1:\n",
    "            cut_Norm_i_l=float(cut_Norm_i.split('}\\\\pm{')[1].split('}$')[0])\n",
    "            ncut_Norm_i_u=float(cut_Norm_i.split('}\\\\pm{')[1].split('}$')[0])\n",
    "        else:               \n",
    "        \n",
    "            cut_Norm_i_l=float(cut_Norm_i.split('}\\\\pm')[1].split('$')[0])\n",
    "            cut_Norm_i_u=float(cut_Norm_i.split('}\\\\pm')[1].split('$')[0])            \n",
    "    else:\n",
    "        cut_Norm_i_v= float(cut_Norm_i.split('}^{')[0].split('${')[1])\n",
    "        cut_Norm_i_l= float(cut_Norm_i.split('}_{-{')[1].split('}}')[0])\n",
    "        cut_Norm_i_u= float(cut_Norm_i.split('}^{+{')[1].split('}}')[0])    \n",
    "    \n",
    "    \n",
    "    print(nh_i_v,Gamma_i_v,F3_10_i_v,cut_Norm_i_v)\n",
    "    \n",
    "    ax0.scatter(F3_10_i_v,Gamma_i_v,color='grey')\n",
    "    ax1.scatter(F3_10_i_v,nh_i_v,color='grey')\n",
    "    \n",
    "    set_ax_tick(ax0)\n",
    "    set_ax_tick(ax1)\n",
    "    ax1.set_xlabel(r'log($F_{\\rm \\, 3-10keV}/L_{\\rm Edd}$)')\n",
    "    ax1.set_ylabel(r'$N_{\\rm H,los (10^{22} cm^{-2})}$')\n",
    "    ax0.set_ylabel(r'$\\Gamma$')\n"
   ]
  },
  {
   "cell_type": "code",
   "execution_count": 42,
   "metadata": {
    "ExecuteTime": {
     "end_time": "2023-12-02T08:09:45.258391Z",
     "start_time": "2023-12-02T08:09:44.631875Z"
    }
   },
   "outputs": [
    {
     "name": "stdout",
     "output_type": "stream",
     "text": [
      "55.11 1.57 12.05 2.99\n",
      "50.61 1.62 22.85 6.22\n",
      "43.57 1.5 12.78 2.83\n",
      "45.84 1.51 16.67 3.77\n",
      "44.4 1.55 15.83 3.81\n",
      "42.89 1.65 22.41 6.38\n",
      "35.88 1.57 20.3 5.1\n"
     ]
    },
    {
     "data": {
      "image/svg+xml": [
       "<?xml version=\"1.0\" encoding=\"utf-8\" standalone=\"no\"?>\n",
       "<!DOCTYPE svg PUBLIC \"-//W3C//DTD SVG 1.1//EN\"\n",
       "  \"http://www.w3.org/Graphics/SVG/1.1/DTD/svg11.dtd\">\n",
       "<svg xmlns:xlink=\"http://www.w3.org/1999/xlink\" width=\"287.090795pt\" height=\"510.507562pt\" viewBox=\"0 0 287.090795 510.507562\" xmlns=\"http://www.w3.org/2000/svg\" version=\"1.1\">\n",
       " <metadata>\n",
       "  <rdf:RDF xmlns:dc=\"http://purl.org/dc/elements/1.1/\" xmlns:cc=\"http://creativecommons.org/ns#\" xmlns:rdf=\"http://www.w3.org/1999/02/22-rdf-syntax-ns#\">\n",
       "   <cc:Work>\n",
       "    <dc:type rdf:resource=\"http://purl.org/dc/dcmitype/StillImage\"/>\n",
       "    <dc:date>2023-12-02T16:09:45.201183</dc:date>\n",
       "    <dc:format>image/svg+xml</dc:format>\n",
       "    <dc:creator>\n",
       "     <cc:Agent>\n",
       "      <dc:title>Matplotlib v3.7.1, https://matplotlib.org/</dc:title>\n",
       "     </cc:Agent>\n",
       "    </dc:creator>\n",
       "   </cc:Work>\n",
       "  </rdf:RDF>\n",
       " </metadata>\n",
       " <defs>\n",
       "  <style type=\"text/css\">*{stroke-linejoin: round; stroke-linecap: butt}</style>\n",
       " </defs>\n",
       " <g id=\"figure_1\">\n",
       "  <g id=\"patch_1\">\n",
       "   <path d=\"M 0 510.507562 \n",
       "L 287.090795 510.507562 \n",
       "L 287.090795 0 \n",
       "L 0 0 \n",
       "L 0 510.507562 \n",
       "z\n",
       "\" style=\"fill: none\"/>\n",
       "  </g>\n",
       "  <g id=\"axes_1\">\n",
       "   <g id=\"patch_2\">\n",
       "    <path d=\"M 53.549062 245.6385 \n",
       "L 276.749062 245.6385 \n",
       "L 276.749062 28.1985 \n",
       "L 53.549062 28.1985 \n",
       "z\n",
       "\" style=\"fill: #ffffff\"/>\n",
       "   </g>\n",
       "   <g id=\"PathCollection_1\">\n",
       "    <defs>\n",
       "     <path id=\"mc7cef382c6\" d=\"M -3 3 \n",
       "L 3 3 \n",
       "L 3 -3 \n",
       "L -3 -3 \n",
       "z\n",
       "\" style=\"stroke: #808080\"/>\n",
       "    </defs>\n",
       "    <g clip-path=\"url(#pb450e05e01)\">\n",
       "     <use xlink:href=\"#mc7cef382c6\" x=\"135.623393\" y=\"204.8685\" style=\"fill: #808080; stroke: #808080\"/>\n",
       "    </g>\n",
       "   </g>\n",
       "   <g id=\"PathCollection_2\">\n",
       "    <g clip-path=\"url(#pb450e05e01)\">\n",
       "     <use xlink:href=\"#mc7cef382c6\" x=\"128.007645\" y=\"235.754864\" style=\"fill: #808080; stroke: #808080\"/>\n",
       "    </g>\n",
       "   </g>\n",
       "   <g id=\"PathCollection_3\">\n",
       "    <defs>\n",
       "     <path id=\"m03252ff3e0\" d=\"M 0 -3 \n",
       "L -0.673542 -0.927051 \n",
       "L -2.85317 -0.927051 \n",
       "L -1.089814 0.354102 \n",
       "L -1.763356 2.427051 \n",
       "L -0 1.145898 \n",
       "L 1.763356 2.427051 \n",
       "L 1.089814 0.354102 \n",
       "L 2.85317 -0.927051 \n",
       "L 0.673542 -0.927051 \n",
       "z\n",
       "\" style=\"stroke: #000000\"/>\n",
       "    </defs>\n",
       "    <g clip-path=\"url(#pb450e05e01)\">\n",
       "     <use xlink:href=\"#m03252ff3e0\" x=\"165.734889\" y=\"87.500318\" style=\"stroke: #000000\"/>\n",
       "    </g>\n",
       "   </g>\n",
       "   <g id=\"PathCollection_4\">\n",
       "    <g clip-path=\"url(#pb450e05e01)\">\n",
       "     <use xlink:href=\"#m03252ff3e0\" x=\"229.004181\" y=\"56.613955\" style=\"stroke: #000000\"/>\n",
       "    </g>\n",
       "   </g>\n",
       "   <g id=\"PathCollection_5\">\n",
       "    <g clip-path=\"url(#pb450e05e01)\">\n",
       "     <use xlink:href=\"#m03252ff3e0\" x=\"170.011425\" y=\"130.741227\" style=\"stroke: #000000\"/>\n",
       "    </g>\n",
       "   </g>\n",
       "   <g id=\"PathCollection_6\">\n",
       "    <g clip-path=\"url(#pb450e05e01)\">\n",
       "     <use xlink:href=\"#m03252ff3e0\" x=\"192.800086\" y=\"124.563955\" style=\"stroke: #000000\"/>\n",
       "    </g>\n",
       "   </g>\n",
       "   <g id=\"PathCollection_7\">\n",
       "    <g clip-path=\"url(#pb450e05e01)\">\n",
       "     <use xlink:href=\"#m03252ff3e0\" x=\"187.879141\" y=\"99.854864\" style=\"stroke: #000000\"/>\n",
       "    </g>\n",
       "   </g>\n",
       "   <g id=\"PathCollection_8\">\n",
       "    <g clip-path=\"url(#pb450e05e01)\">\n",
       "     <use xlink:href=\"#m03252ff3e0\" x=\"226.426543\" y=\"38.082136\" style=\"stroke: #000000\"/>\n",
       "    </g>\n",
       "   </g>\n",
       "   <g id=\"PathCollection_9\">\n",
       "    <g clip-path=\"url(#pb450e05e01)\">\n",
       "     <use xlink:href=\"#m03252ff3e0\" x=\"214.065598\" y=\"87.500318\" style=\"stroke: #000000\"/>\n",
       "    </g>\n",
       "   </g>\n",
       "   <g id=\"matplotlib.axis_1\">\n",
       "    <g id=\"xtick_1\">\n",
       "     <g id=\"line2d_1\">\n",
       "      <defs>\n",
       "       <path id=\"mb5ea152ebb\" d=\"M 0 0 \n",
       "L 0 -10 \n",
       "\" style=\"stroke: #000000; stroke-width: 2\"/>\n",
       "      </defs>\n",
       "      <g>\n",
       "       <use xlink:href=\"#mb5ea152ebb\" x=\"95.142763\" y=\"245.6385\" style=\"stroke: #000000; stroke-width: 2\"/>\n",
       "      </g>\n",
       "     </g>\n",
       "     <g id=\"line2d_2\">\n",
       "      <defs>\n",
       "       <path id=\"mbc1511f657\" d=\"M 0 0 \n",
       "L 0 10 \n",
       "\" style=\"stroke: #000000; stroke-width: 2\"/>\n",
       "      </defs>\n",
       "      <g>\n",
       "       <use xlink:href=\"#mbc1511f657\" x=\"95.142763\" y=\"28.1985\" style=\"stroke: #000000; stroke-width: 2\"/>\n",
       "      </g>\n",
       "     </g>\n",
       "     <g id=\"text_1\">\n",
       "      <!-- 0 -->\n",
       "      <g transform=\"translate(90.642763 261.63725) scale(0.18 -0.18)\">\n",
       "       <defs>\n",
       "        <path id=\"TimesNewRomanPSMT-30\" d=\"M 231 2094 \n",
       "Q 231 2819 450 3342 \n",
       "Q 669 3866 1031 4122 \n",
       "Q 1313 4325 1613 4325 \n",
       "Q 2100 4325 2488 3828 \n",
       "Q 2972 3213 2972 2159 \n",
       "Q 2972 1422 2759 906 \n",
       "Q 2547 391 2217 158 \n",
       "Q 1888 -75 1581 -75 \n",
       "Q 975 -75 572 641 \n",
       "Q 231 1244 231 2094 \n",
       "z\n",
       "M 844 2016 \n",
       "Q 844 1141 1059 588 \n",
       "Q 1238 122 1591 122 \n",
       "Q 1759 122 1940 273 \n",
       "Q 2122 425 2216 781 \n",
       "Q 2359 1319 2359 2297 \n",
       "Q 2359 3022 2209 3506 \n",
       "Q 2097 3866 1919 4016 \n",
       "Q 1791 4119 1609 4119 \n",
       "Q 1397 4119 1231 3928 \n",
       "Q 1006 3669 925 3112 \n",
       "Q 844 2556 844 2016 \n",
       "z\n",
       "\" transform=\"scale(0.015625)\"/>\n",
       "       </defs>\n",
       "       <use xlink:href=\"#TimesNewRomanPSMT-30\"/>\n",
       "      </g>\n",
       "     </g>\n",
       "    </g>\n",
       "    <g id=\"xtick_2\">\n",
       "     <g id=\"line2d_3\">\n",
       "      <g>\n",
       "       <use xlink:href=\"#mb5ea152ebb\" x=\"153.72544\" y=\"245.6385\" style=\"stroke: #000000; stroke-width: 2\"/>\n",
       "      </g>\n",
       "     </g>\n",
       "     <g id=\"line2d_4\">\n",
       "      <g>\n",
       "       <use xlink:href=\"#mbc1511f657\" x=\"153.72544\" y=\"28.1985\" style=\"stroke: #000000; stroke-width: 2\"/>\n",
       "      </g>\n",
       "     </g>\n",
       "     <g id=\"text_2\">\n",
       "      <!-- 10 -->\n",
       "      <g transform=\"translate(144.72544 261.63725) scale(0.18 -0.18)\">\n",
       "       <defs>\n",
       "        <path id=\"TimesNewRomanPSMT-31\" d=\"M 750 3822 \n",
       "L 1781 4325 \n",
       "L 1884 4325 \n",
       "L 1884 747 \n",
       "Q 1884 391 1914 303 \n",
       "Q 1944 216 2037 169 \n",
       "Q 2131 122 2419 116 \n",
       "L 2419 0 \n",
       "L 825 0 \n",
       "L 825 116 \n",
       "Q 1125 122 1212 167 \n",
       "Q 1300 213 1334 289 \n",
       "Q 1369 366 1369 747 \n",
       "L 1369 3034 \n",
       "Q 1369 3497 1338 3628 \n",
       "Q 1316 3728 1258 3775 \n",
       "Q 1200 3822 1119 3822 \n",
       "Q 1003 3822 797 3725 \n",
       "L 750 3822 \n",
       "z\n",
       "\" transform=\"scale(0.015625)\"/>\n",
       "       </defs>\n",
       "       <use xlink:href=\"#TimesNewRomanPSMT-31\"/>\n",
       "       <use xlink:href=\"#TimesNewRomanPSMT-30\" x=\"50\"/>\n",
       "      </g>\n",
       "     </g>\n",
       "    </g>\n",
       "    <g id=\"xtick_3\">\n",
       "     <g id=\"line2d_5\">\n",
       "      <g>\n",
       "       <use xlink:href=\"#mb5ea152ebb\" x=\"212.308118\" y=\"245.6385\" style=\"stroke: #000000; stroke-width: 2\"/>\n",
       "      </g>\n",
       "     </g>\n",
       "     <g id=\"line2d_6\">\n",
       "      <g>\n",
       "       <use xlink:href=\"#mbc1511f657\" x=\"212.308118\" y=\"28.1985\" style=\"stroke: #000000; stroke-width: 2\"/>\n",
       "      </g>\n",
       "     </g>\n",
       "     <g id=\"text_3\">\n",
       "      <!-- 20 -->\n",
       "      <g transform=\"translate(203.308118 261.63725) scale(0.18 -0.18)\">\n",
       "       <defs>\n",
       "        <path id=\"TimesNewRomanPSMT-32\" d=\"M 2934 816 \n",
       "L 2638 0 \n",
       "L 138 0 \n",
       "L 138 116 \n",
       "Q 1241 1122 1691 1759 \n",
       "Q 2141 2397 2141 2925 \n",
       "Q 2141 3328 1894 3587 \n",
       "Q 1647 3847 1303 3847 \n",
       "Q 991 3847 742 3664 \n",
       "Q 494 3481 375 3128 \n",
       "L 259 3128 \n",
       "Q 338 3706 661 4015 \n",
       "Q 984 4325 1469 4325 \n",
       "Q 1984 4325 2329 3994 \n",
       "Q 2675 3663 2675 3213 \n",
       "Q 2675 2891 2525 2569 \n",
       "Q 2294 2063 1775 1497 \n",
       "Q 997 647 803 472 \n",
       "L 1909 472 \n",
       "Q 2247 472 2383 497 \n",
       "Q 2519 522 2628 598 \n",
       "Q 2738 675 2819 816 \n",
       "L 2934 816 \n",
       "z\n",
       "\" transform=\"scale(0.015625)\"/>\n",
       "       </defs>\n",
       "       <use xlink:href=\"#TimesNewRomanPSMT-32\"/>\n",
       "       <use xlink:href=\"#TimesNewRomanPSMT-30\" x=\"50\"/>\n",
       "      </g>\n",
       "     </g>\n",
       "    </g>\n",
       "    <g id=\"xtick_4\">\n",
       "     <g id=\"line2d_7\">\n",
       "      <g>\n",
       "       <use xlink:href=\"#mb5ea152ebb\" x=\"270.890795\" y=\"245.6385\" style=\"stroke: #000000; stroke-width: 2\"/>\n",
       "      </g>\n",
       "     </g>\n",
       "     <g id=\"line2d_8\">\n",
       "      <g>\n",
       "       <use xlink:href=\"#mbc1511f657\" x=\"270.890795\" y=\"28.1985\" style=\"stroke: #000000; stroke-width: 2\"/>\n",
       "      </g>\n",
       "     </g>\n",
       "     <g id=\"text_4\">\n",
       "      <!-- 30 -->\n",
       "      <g transform=\"translate(261.890795 261.63725) scale(0.18 -0.18)\">\n",
       "       <defs>\n",
       "        <path id=\"TimesNewRomanPSMT-33\" d=\"M 325 3431 \n",
       "Q 506 3859 782 4092 \n",
       "Q 1059 4325 1472 4325 \n",
       "Q 1981 4325 2253 3994 \n",
       "Q 2459 3747 2459 3466 \n",
       "Q 2459 3003 1878 2509 \n",
       "Q 2269 2356 2469 2072 \n",
       "Q 2669 1788 2669 1403 \n",
       "Q 2669 853 2319 450 \n",
       "Q 1863 -75 997 -75 \n",
       "Q 569 -75 414 31 \n",
       "Q 259 138 259 259 \n",
       "Q 259 350 332 419 \n",
       "Q 406 488 509 488 \n",
       "Q 588 488 669 463 \n",
       "Q 722 447 909 348 \n",
       "Q 1097 250 1169 231 \n",
       "Q 1284 197 1416 197 \n",
       "Q 1734 197 1970 444 \n",
       "Q 2206 691 2206 1028 \n",
       "Q 2206 1275 2097 1509 \n",
       "Q 2016 1684 1919 1775 \n",
       "Q 1784 1900 1550 2001 \n",
       "Q 1316 2103 1072 2103 \n",
       "L 972 2103 \n",
       "L 972 2197 \n",
       "Q 1219 2228 1467 2375 \n",
       "Q 1716 2522 1828 2728 \n",
       "Q 1941 2934 1941 3181 \n",
       "Q 1941 3503 1739 3701 \n",
       "Q 1538 3900 1238 3900 \n",
       "Q 753 3900 428 3381 \n",
       "L 325 3431 \n",
       "z\n",
       "\" transform=\"scale(0.015625)\"/>\n",
       "       </defs>\n",
       "       <use xlink:href=\"#TimesNewRomanPSMT-33\"/>\n",
       "       <use xlink:href=\"#TimesNewRomanPSMT-30\" x=\"50\"/>\n",
       "      </g>\n",
       "     </g>\n",
       "    </g>\n",
       "   </g>\n",
       "   <g id=\"matplotlib.axis_2\">\n",
       "    <g id=\"ytick_1\">\n",
       "     <g id=\"line2d_9\">\n",
       "      <defs>\n",
       "       <path id=\"mf486d55bc9\" d=\"M 0 0 \n",
       "L 10 0 \n",
       "\" style=\"stroke: #000000; stroke-width: 2\"/>\n",
       "      </defs>\n",
       "      <g>\n",
       "       <use xlink:href=\"#mf486d55bc9\" x=\"53.549062\" y=\"192.513955\" style=\"stroke: #000000; stroke-width: 2\"/>\n",
       "      </g>\n",
       "     </g>\n",
       "     <g id=\"line2d_10\">\n",
       "      <defs>\n",
       "       <path id=\"mf4eb1518cb\" d=\"M 0 0 \n",
       "L -10 0 \n",
       "\" style=\"stroke: #000000; stroke-width: 2\"/>\n",
       "      </defs>\n",
       "      <g>\n",
       "       <use xlink:href=\"#mf4eb1518cb\" x=\"276.749062\" y=\"192.513955\" style=\"stroke: #000000; stroke-width: 2\"/>\n",
       "      </g>\n",
       "     </g>\n",
       "     <g id=\"text_5\">\n",
       "      <!-- 1.4 -->\n",
       "      <g transform=\"translate(27.549062 198.76333) scale(0.18 -0.18)\">\n",
       "       <defs>\n",
       "        <path id=\"TimesNewRomanPSMT-2e\" d=\"M 800 606 \n",
       "Q 947 606 1047 504 \n",
       "Q 1147 403 1147 259 \n",
       "Q 1147 116 1045 14 \n",
       "Q 944 -88 800 -88 \n",
       "Q 656 -88 554 14 \n",
       "Q 453 116 453 259 \n",
       "Q 453 406 554 506 \n",
       "Q 656 606 800 606 \n",
       "z\n",
       "\" transform=\"scale(0.015625)\"/>\n",
       "        <path id=\"TimesNewRomanPSMT-34\" d=\"M 2978 1563 \n",
       "L 2978 1119 \n",
       "L 2409 1119 \n",
       "L 2409 0 \n",
       "L 1894 0 \n",
       "L 1894 1119 \n",
       "L 100 1119 \n",
       "L 100 1519 \n",
       "L 2066 4325 \n",
       "L 2409 4325 \n",
       "L 2409 1563 \n",
       "L 2978 1563 \n",
       "z\n",
       "M 1894 1563 \n",
       "L 1894 3666 \n",
       "L 406 1563 \n",
       "L 1894 1563 \n",
       "z\n",
       "\" transform=\"scale(0.015625)\"/>\n",
       "       </defs>\n",
       "       <use xlink:href=\"#TimesNewRomanPSMT-31\"/>\n",
       "       <use xlink:href=\"#TimesNewRomanPSMT-2e\" x=\"50\"/>\n",
       "       <use xlink:href=\"#TimesNewRomanPSMT-34\" x=\"75\"/>\n",
       "      </g>\n",
       "     </g>\n",
       "    </g>\n",
       "    <g id=\"ytick_2\">\n",
       "     <g id=\"line2d_11\">\n",
       "      <g>\n",
       "       <use xlink:href=\"#mf486d55bc9\" x=\"53.549062\" y=\"130.741227\" style=\"stroke: #000000; stroke-width: 2\"/>\n",
       "      </g>\n",
       "     </g>\n",
       "     <g id=\"line2d_12\">\n",
       "      <g>\n",
       "       <use xlink:href=\"#mf4eb1518cb\" x=\"276.749062\" y=\"130.741227\" style=\"stroke: #000000; stroke-width: 2\"/>\n",
       "      </g>\n",
       "     </g>\n",
       "     <g id=\"text_6\">\n",
       "      <!-- 1.5 -->\n",
       "      <g transform=\"translate(27.549062 136.990602) scale(0.18 -0.18)\">\n",
       "       <defs>\n",
       "        <path id=\"TimesNewRomanPSMT-35\" d=\"M 2778 4238 \n",
       "L 2534 3706 \n",
       "L 1259 3706 \n",
       "L 981 3138 \n",
       "Q 1809 3016 2294 2522 \n",
       "Q 2709 2097 2709 1522 \n",
       "Q 2709 1188 2573 903 \n",
       "Q 2438 619 2231 419 \n",
       "Q 2025 219 1772 97 \n",
       "Q 1413 -75 1034 -75 \n",
       "Q 653 -75 479 54 \n",
       "Q 306 184 306 341 \n",
       "Q 306 428 378 495 \n",
       "Q 450 563 559 563 \n",
       "Q 641 563 702 538 \n",
       "Q 763 513 909 409 \n",
       "Q 1144 247 1384 247 \n",
       "Q 1750 247 2026 523 \n",
       "Q 2303 800 2303 1197 \n",
       "Q 2303 1581 2056 1914 \n",
       "Q 1809 2247 1375 2428 \n",
       "Q 1034 2569 447 2591 \n",
       "L 1259 4238 \n",
       "L 2778 4238 \n",
       "z\n",
       "\" transform=\"scale(0.015625)\"/>\n",
       "       </defs>\n",
       "       <use xlink:href=\"#TimesNewRomanPSMT-31\"/>\n",
       "       <use xlink:href=\"#TimesNewRomanPSMT-2e\" x=\"50\"/>\n",
       "       <use xlink:href=\"#TimesNewRomanPSMT-35\" x=\"75\"/>\n",
       "      </g>\n",
       "     </g>\n",
       "    </g>\n",
       "    <g id=\"ytick_3\">\n",
       "     <g id=\"line2d_13\">\n",
       "      <g>\n",
       "       <use xlink:href=\"#mf486d55bc9\" x=\"53.549062\" y=\"68.9685\" style=\"stroke: #000000; stroke-width: 2\"/>\n",
       "      </g>\n",
       "     </g>\n",
       "     <g id=\"line2d_14\">\n",
       "      <g>\n",
       "       <use xlink:href=\"#mf4eb1518cb\" x=\"276.749062\" y=\"68.9685\" style=\"stroke: #000000; stroke-width: 2\"/>\n",
       "      </g>\n",
       "     </g>\n",
       "     <g id=\"text_7\">\n",
       "      <!-- 1.6 -->\n",
       "      <g transform=\"translate(27.549062 75.217875) scale(0.18 -0.18)\">\n",
       "       <defs>\n",
       "        <path id=\"TimesNewRomanPSMT-36\" d=\"M 2869 4325 \n",
       "L 2869 4209 \n",
       "Q 2456 4169 2195 4045 \n",
       "Q 1934 3922 1679 3669 \n",
       "Q 1425 3416 1258 3105 \n",
       "Q 1091 2794 978 2366 \n",
       "Q 1428 2675 1881 2675 \n",
       "Q 2316 2675 2634 2325 \n",
       "Q 2953 1975 2953 1425 \n",
       "Q 2953 894 2631 456 \n",
       "Q 2244 -75 1606 -75 \n",
       "Q 1172 -75 869 213 \n",
       "Q 275 772 275 1663 \n",
       "Q 275 2231 503 2743 \n",
       "Q 731 3256 1154 3653 \n",
       "Q 1578 4050 1965 4187 \n",
       "Q 2353 4325 2688 4325 \n",
       "L 2869 4325 \n",
       "z\n",
       "M 925 2138 \n",
       "Q 869 1716 869 1456 \n",
       "Q 869 1156 980 804 \n",
       "Q 1091 453 1309 247 \n",
       "Q 1469 100 1697 100 \n",
       "Q 1969 100 2183 356 \n",
       "Q 2397 613 2397 1088 \n",
       "Q 2397 1622 2184 2012 \n",
       "Q 1972 2403 1581 2403 \n",
       "Q 1463 2403 1327 2353 \n",
       "Q 1191 2303 925 2138 \n",
       "z\n",
       "\" transform=\"scale(0.015625)\"/>\n",
       "       </defs>\n",
       "       <use xlink:href=\"#TimesNewRomanPSMT-31\"/>\n",
       "       <use xlink:href=\"#TimesNewRomanPSMT-2e\" x=\"50\"/>\n",
       "       <use xlink:href=\"#TimesNewRomanPSMT-36\" x=\"75\"/>\n",
       "      </g>\n",
       "     </g>\n",
       "    </g>\n",
       "    <g id=\"text_8\">\n",
       "     <!-- $\\Gamma$ -->\n",
       "     <g transform=\"translate(19.69875 141.9585) rotate(-90) scale(0.18 -0.18)\">\n",
       "      <defs>\n",
       "       <path id=\"DejaVuSans-393\" d=\"M 628 0 \n",
       "L 628 4666 \n",
       "L 3531 4666 \n",
       "L 3531 4134 \n",
       "L 1259 4134 \n",
       "L 1259 0 \n",
       "L 628 0 \n",
       "z\n",
       "\" transform=\"scale(0.015625)\"/>\n",
       "      </defs>\n",
       "      <use xlink:href=\"#DejaVuSans-393\" transform=\"translate(0 0.09375)\"/>\n",
       "     </g>\n",
       "    </g>\n",
       "   </g>\n",
       "   <g id=\"patch_3\">\n",
       "    <path d=\"M 53.549062 245.6385 \n",
       "L 53.549062 28.1985 \n",
       "\" style=\"fill: none; stroke: #000000; stroke-width: 2; stroke-linejoin: miter; stroke-linecap: square\"/>\n",
       "   </g>\n",
       "   <g id=\"patch_4\">\n",
       "    <path d=\"M 276.749062 245.6385 \n",
       "L 276.749062 28.1985 \n",
       "\" style=\"fill: none; stroke: #000000; stroke-width: 2; stroke-linejoin: miter; stroke-linecap: square\"/>\n",
       "   </g>\n",
       "   <g id=\"patch_5\">\n",
       "    <path d=\"M 53.549062 245.6385 \n",
       "L 276.749062 245.6385 \n",
       "\" style=\"fill: none; stroke: #000000; stroke-width: 2; stroke-linejoin: miter; stroke-linecap: square\"/>\n",
       "   </g>\n",
       "   <g id=\"patch_6\">\n",
       "    <path d=\"M 53.549062 28.1985 \n",
       "L 276.749062 28.1985 \n",
       "\" style=\"fill: none; stroke: #000000; stroke-width: 2; stroke-linejoin: miter; stroke-linecap: square\"/>\n",
       "   </g>\n",
       "   <g id=\"text_9\">\n",
       "    <!-- NGC 7582 -->\n",
       "    <g transform=\"translate(118.045875 22.1985) scale(0.216 -0.216)\">\n",
       "     <defs>\n",
       "      <path id=\"TimesNewRomanPSMT-4e\" d=\"M -84 4238 \n",
       "L 1066 4238 \n",
       "L 3656 1059 \n",
       "L 3656 3503 \n",
       "Q 3656 3894 3569 3991 \n",
       "Q 3453 4122 3203 4122 \n",
       "L 3056 4122 \n",
       "L 3056 4238 \n",
       "L 4531 4238 \n",
       "L 4531 4122 \n",
       "L 4381 4122 \n",
       "Q 4113 4122 4000 3959 \n",
       "Q 3931 3859 3931 3503 \n",
       "L 3931 -69 \n",
       "L 3819 -69 \n",
       "L 1025 3344 \n",
       "L 1025 734 \n",
       "Q 1025 344 1109 247 \n",
       "Q 1228 116 1475 116 \n",
       "L 1625 116 \n",
       "L 1625 0 \n",
       "L 150 0 \n",
       "L 150 116 \n",
       "L 297 116 \n",
       "Q 569 116 681 278 \n",
       "Q 750 378 750 734 \n",
       "L 750 3681 \n",
       "Q 566 3897 470 3965 \n",
       "Q 375 4034 191 4094 \n",
       "Q 100 4122 -84 4122 \n",
       "L -84 4238 \n",
       "z\n",
       "\" transform=\"scale(0.015625)\"/>\n",
       "      <path id=\"TimesNewRomanPSMT-47\" d=\"M 3928 4334 \n",
       "L 4038 2997 \n",
       "L 3928 2997 \n",
       "Q 3763 3497 3500 3750 \n",
       "Q 3122 4116 2528 4116 \n",
       "Q 1719 4116 1297 3475 \n",
       "Q 944 2934 944 2188 \n",
       "Q 944 1581 1178 1081 \n",
       "Q 1413 581 1792 348 \n",
       "Q 2172 116 2572 116 \n",
       "Q 2806 116 3025 175 \n",
       "Q 3244 234 3447 350 \n",
       "L 3447 1575 \n",
       "Q 3447 1894 3398 1992 \n",
       "Q 3350 2091 3248 2142 \n",
       "Q 3147 2194 2891 2194 \n",
       "L 2891 2313 \n",
       "L 4531 2313 \n",
       "L 4531 2194 \n",
       "L 4453 2194 \n",
       "Q 4209 2194 4119 2031 \n",
       "Q 4056 1916 4056 1575 \n",
       "L 4056 278 \n",
       "Q 3697 84 3347 -6 \n",
       "Q 2997 -97 2569 -97 \n",
       "Q 1341 -97 703 691 \n",
       "Q 225 1281 225 2053 \n",
       "Q 225 2613 494 3125 \n",
       "Q 813 3734 1369 4063 \n",
       "Q 1834 4334 2469 4334 \n",
       "Q 2700 4334 2889 4296 \n",
       "Q 3078 4259 3425 4131 \n",
       "Q 3600 4066 3659 4066 \n",
       "Q 3719 4066 3761 4120 \n",
       "Q 3803 4175 3813 4334 \n",
       "L 3928 4334 \n",
       "z\n",
       "\" transform=\"scale(0.015625)\"/>\n",
       "      <path id=\"TimesNewRomanPSMT-43\" d=\"M 3853 4334 \n",
       "L 3950 2894 \n",
       "L 3853 2894 \n",
       "Q 3659 3541 3300 3825 \n",
       "Q 2941 4109 2438 4109 \n",
       "Q 2016 4109 1675 3895 \n",
       "Q 1334 3681 1139 3212 \n",
       "Q 944 2744 944 2047 \n",
       "Q 944 1472 1128 1050 \n",
       "Q 1313 628 1683 403 \n",
       "Q 2053 178 2528 178 \n",
       "Q 2941 178 3256 354 \n",
       "Q 3572 531 3950 1056 \n",
       "L 4047 994 \n",
       "Q 3728 428 3303 165 \n",
       "Q 2878 -97 2294 -97 \n",
       "Q 1241 -97 663 684 \n",
       "Q 231 1266 231 2053 \n",
       "Q 231 2688 515 3219 \n",
       "Q 800 3750 1298 4042 \n",
       "Q 1797 4334 2388 4334 \n",
       "Q 2847 4334 3294 4109 \n",
       "Q 3425 4041 3481 4041 \n",
       "Q 3566 4041 3628 4100 \n",
       "Q 3709 4184 3744 4334 \n",
       "L 3853 4334 \n",
       "z\n",
       "\" transform=\"scale(0.015625)\"/>\n",
       "      <path id=\"TimesNewRomanPSMT-20\" transform=\"scale(0.015625)\"/>\n",
       "      <path id=\"TimesNewRomanPSMT-37\" d=\"M 644 4238 \n",
       "L 2916 4238 \n",
       "L 2916 4119 \n",
       "L 1503 -88 \n",
       "L 1153 -88 \n",
       "L 2419 3728 \n",
       "L 1253 3728 \n",
       "Q 900 3728 750 3644 \n",
       "Q 488 3500 328 3200 \n",
       "L 238 3234 \n",
       "L 644 4238 \n",
       "z\n",
       "\" transform=\"scale(0.015625)\"/>\n",
       "      <path id=\"TimesNewRomanPSMT-38\" d=\"M 1228 2134 \n",
       "Q 725 2547 579 2797 \n",
       "Q 434 3047 434 3316 \n",
       "Q 434 3728 753 4026 \n",
       "Q 1072 4325 1600 4325 \n",
       "Q 2113 4325 2425 4047 \n",
       "Q 2738 3769 2738 3413 \n",
       "Q 2738 3175 2569 2928 \n",
       "Q 2400 2681 1866 2347 \n",
       "Q 2416 1922 2594 1678 \n",
       "Q 2831 1359 2831 1006 \n",
       "Q 2831 559 2490 242 \n",
       "Q 2150 -75 1597 -75 \n",
       "Q 994 -75 656 303 \n",
       "Q 388 606 388 966 \n",
       "Q 388 1247 577 1523 \n",
       "Q 766 1800 1228 2134 \n",
       "z\n",
       "M 1719 2469 \n",
       "Q 2094 2806 2194 3001 \n",
       "Q 2294 3197 2294 3444 \n",
       "Q 2294 3772 2109 3958 \n",
       "Q 1925 4144 1606 4144 \n",
       "Q 1288 4144 1088 3959 \n",
       "Q 888 3775 888 3528 \n",
       "Q 888 3366 970 3203 \n",
       "Q 1053 3041 1206 2894 \n",
       "L 1719 2469 \n",
       "z\n",
       "M 1375 2016 \n",
       "Q 1116 1797 991 1539 \n",
       "Q 866 1281 866 981 \n",
       "Q 866 578 1086 336 \n",
       "Q 1306 94 1647 94 \n",
       "Q 1984 94 2187 284 \n",
       "Q 2391 475 2391 747 \n",
       "Q 2391 972 2272 1150 \n",
       "Q 2050 1481 1375 2016 \n",
       "z\n",
       "\" transform=\"scale(0.015625)\"/>\n",
       "     </defs>\n",
       "     <use xlink:href=\"#TimesNewRomanPSMT-4e\"/>\n",
       "     <use xlink:href=\"#TimesNewRomanPSMT-47\" x=\"72.216797\"/>\n",
       "     <use xlink:href=\"#TimesNewRomanPSMT-43\" x=\"144.433594\"/>\n",
       "     <use xlink:href=\"#TimesNewRomanPSMT-20\" x=\"211.132812\"/>\n",
       "     <use xlink:href=\"#TimesNewRomanPSMT-37\" x=\"236.132812\"/>\n",
       "     <use xlink:href=\"#TimesNewRomanPSMT-35\" x=\"286.132812\"/>\n",
       "     <use xlink:href=\"#TimesNewRomanPSMT-38\" x=\"336.132812\"/>\n",
       "     <use xlink:href=\"#TimesNewRomanPSMT-32\" x=\"386.132812\"/>\n",
       "    </g>\n",
       "   </g>\n",
       "   <g id=\"legend_1\">\n",
       "    <g id=\"patch_7\">\n",
       "     <path d=\"M 63.481063 85.831806 \n",
       "L 135.343719 85.831806 \n",
       "Q 137.543719 85.831806 137.543719 83.631806 \n",
       "L 137.543719 38.0729 \n",
       "Q 137.543719 35.8729 135.343719 35.8729 \n",
       "L 63.481063 35.8729 \n",
       "Q 61.281062 35.8729 61.281062 38.0729 \n",
       "L 61.281062 83.631806 \n",
       "Q 61.281062 85.831806 63.481063 85.831806 \n",
       "z\n",
       "\" style=\"fill: #ffffff; opacity: 0.8; stroke: #cccccc; stroke-linejoin: miter\"/>\n",
       "    </g>\n",
       "    <g id=\"PathCollection_10\">\n",
       "     <g>\n",
       "      <use xlink:href=\"#mc7cef382c6\" x=\"76.681062\" y=\"45.0854\" style=\"fill: #808080; stroke: #808080\"/>\n",
       "     </g>\n",
       "    </g>\n",
       "    <g id=\"text_10\">\n",
       "     <!-- 2012-08 -->\n",
       "     <g transform=\"translate(96.481062 47.9729) scale(0.11 -0.11)\">\n",
       "      <defs>\n",
       "       <path id=\"TimesNewRomanPSMT-2d\" d=\"M 259 1672 \n",
       "L 1875 1672 \n",
       "L 1875 1200 \n",
       "L 259 1200 \n",
       "L 259 1672 \n",
       "z\n",
       "\" transform=\"scale(0.015625)\"/>\n",
       "      </defs>\n",
       "      <use xlink:href=\"#TimesNewRomanPSMT-32\"/>\n",
       "      <use xlink:href=\"#TimesNewRomanPSMT-30\" x=\"50\"/>\n",
       "      <use xlink:href=\"#TimesNewRomanPSMT-31\" x=\"100\"/>\n",
       "      <use xlink:href=\"#TimesNewRomanPSMT-32\" x=\"150\"/>\n",
       "      <use xlink:href=\"#TimesNewRomanPSMT-2d\" x=\"200\"/>\n",
       "      <use xlink:href=\"#TimesNewRomanPSMT-30\" x=\"233.300781\"/>\n",
       "      <use xlink:href=\"#TimesNewRomanPSMT-38\" x=\"283.300781\"/>\n",
       "     </g>\n",
       "    </g>\n",
       "    <g id=\"PathCollection_11\">\n",
       "     <g>\n",
       "      <use xlink:href=\"#mc7cef382c6\" x=\"76.681062\" y=\"60.638369\" style=\"fill: #808080; stroke: #808080\"/>\n",
       "     </g>\n",
       "    </g>\n",
       "    <g id=\"text_11\">\n",
       "     <!-- 2012-09 -->\n",
       "     <g transform=\"translate(96.481062 63.525869) scale(0.11 -0.11)\">\n",
       "      <defs>\n",
       "       <path id=\"TimesNewRomanPSMT-39\" d=\"M 338 -88 \n",
       "L 338 28 \n",
       "Q 744 34 1094 217 \n",
       "Q 1444 400 1770 856 \n",
       "Q 2097 1313 2225 1859 \n",
       "Q 1734 1544 1338 1544 \n",
       "Q 891 1544 572 1889 \n",
       "Q 253 2234 253 2806 \n",
       "Q 253 3363 572 3797 \n",
       "Q 956 4325 1575 4325 \n",
       "Q 2097 4325 2469 3894 \n",
       "Q 2925 3359 2925 2575 \n",
       "Q 2925 1869 2578 1258 \n",
       "Q 2231 647 1613 244 \n",
       "Q 1109 -88 516 -88 \n",
       "L 338 -88 \n",
       "z\n",
       "M 2275 2091 \n",
       "Q 2331 2497 2331 2741 \n",
       "Q 2331 3044 2228 3395 \n",
       "Q 2125 3747 1936 3934 \n",
       "Q 1747 4122 1506 4122 \n",
       "Q 1228 4122 1018 3872 \n",
       "Q 809 3622 809 3128 \n",
       "Q 809 2469 1088 2097 \n",
       "Q 1291 1828 1588 1828 \n",
       "Q 1731 1828 1928 1897 \n",
       "Q 2125 1966 2275 2091 \n",
       "z\n",
       "\" transform=\"scale(0.015625)\"/>\n",
       "      </defs>\n",
       "      <use xlink:href=\"#TimesNewRomanPSMT-32\"/>\n",
       "      <use xlink:href=\"#TimesNewRomanPSMT-30\" x=\"50\"/>\n",
       "      <use xlink:href=\"#TimesNewRomanPSMT-31\" x=\"100\"/>\n",
       "      <use xlink:href=\"#TimesNewRomanPSMT-32\" x=\"150\"/>\n",
       "      <use xlink:href=\"#TimesNewRomanPSMT-2d\" x=\"200\"/>\n",
       "      <use xlink:href=\"#TimesNewRomanPSMT-30\" x=\"233.300781\"/>\n",
       "      <use xlink:href=\"#TimesNewRomanPSMT-39\" x=\"283.300781\"/>\n",
       "     </g>\n",
       "    </g>\n",
       "    <g id=\"PathCollection_12\">\n",
       "     <g>\n",
       "      <use xlink:href=\"#m03252ff3e0\" x=\"76.681062\" y=\"76.191337\" style=\"stroke: #000000\"/>\n",
       "     </g>\n",
       "    </g>\n",
       "    <g id=\"text_12\">\n",
       "     <!-- 2016-04 -->\n",
       "     <g transform=\"translate(96.481062 79.078837) scale(0.11 -0.11)\">\n",
       "      <use xlink:href=\"#TimesNewRomanPSMT-32\"/>\n",
       "      <use xlink:href=\"#TimesNewRomanPSMT-30\" x=\"50\"/>\n",
       "      <use xlink:href=\"#TimesNewRomanPSMT-31\" x=\"100\"/>\n",
       "      <use xlink:href=\"#TimesNewRomanPSMT-36\" x=\"150\"/>\n",
       "      <use xlink:href=\"#TimesNewRomanPSMT-2d\" x=\"200\"/>\n",
       "      <use xlink:href=\"#TimesNewRomanPSMT-30\" x=\"233.300781\"/>\n",
       "      <use xlink:href=\"#TimesNewRomanPSMT-34\" x=\"283.300781\"/>\n",
       "     </g>\n",
       "    </g>\n",
       "   </g>\n",
       "  </g>\n",
       "  <g id=\"axes_2\">\n",
       "   <g id=\"patch_8\">\n",
       "    <path d=\"M 53.549062 463.0785 \n",
       "L 276.749062 463.0785 \n",
       "L 276.749062 245.6385 \n",
       "L 53.549062 245.6385 \n",
       "z\n",
       "\" style=\"fill: #ffffff\"/>\n",
       "   </g>\n",
       "   <g id=\"PathCollection_13\">\n",
       "    <g clip-path=\"url(#p49258c19e5)\">\n",
       "     <use xlink:href=\"#mc7cef382c6\" x=\"135.623393\" y=\"453.194864\" style=\"fill: #808080; stroke: #808080\"/>\n",
       "    </g>\n",
       "   </g>\n",
       "   <g id=\"PathCollection_14\">\n",
       "    <g clip-path=\"url(#p49258c19e5)\">\n",
       "     <use xlink:href=\"#mc7cef382c6\" x=\"128.007645\" y=\"255.522136\" style=\"fill: #808080; stroke: #808080\"/>\n",
       "    </g>\n",
       "   </g>\n",
       "   <g id=\"PathCollection_15\">\n",
       "    <g clip-path=\"url(#p49258c19e5)\">\n",
       "     <use xlink:href=\"#m03252ff3e0\" x=\"165.734889\" y=\"305.556829\" style=\"stroke: #000000\"/>\n",
       "    </g>\n",
       "   </g>\n",
       "   <g id=\"PathCollection_16\">\n",
       "    <g clip-path=\"url(#p49258c19e5)\">\n",
       "     <use xlink:href=\"#m03252ff3e0\" x=\"229.004181\" y=\"334.759956\" style=\"stroke: #000000\"/>\n",
       "    </g>\n",
       "   </g>\n",
       "   <g id=\"PathCollection_17\">\n",
       "    <g clip-path=\"url(#p49258c19e5)\">\n",
       "     <use xlink:href=\"#m03252ff3e0\" x=\"170.011425\" y=\"380.446627\" style=\"stroke: #000000\"/>\n",
       "    </g>\n",
       "   </g>\n",
       "   <g id=\"PathCollection_18\">\n",
       "    <g clip-path=\"url(#p49258c19e5)\">\n",
       "     <use xlink:href=\"#m03252ff3e0\" x=\"192.800086\" y=\"365.715272\" style=\"stroke: #000000\"/>\n",
       "    </g>\n",
       "   </g>\n",
       "   <g id=\"PathCollection_19\">\n",
       "    <g clip-path=\"url(#p49258c19e5)\">\n",
       "     <use xlink:href=\"#m03252ff3e0\" x=\"187.879141\" y=\"375.060273\" style=\"stroke: #000000\"/>\n",
       "    </g>\n",
       "   </g>\n",
       "   <g id=\"PathCollection_20\">\n",
       "    <g clip-path=\"url(#p49258c19e5)\">\n",
       "     <use xlink:href=\"#m03252ff3e0\" x=\"226.426543\" y=\"384.859545\" style=\"stroke: #000000\"/>\n",
       "    </g>\n",
       "   </g>\n",
       "   <g id=\"PathCollection_21\">\n",
       "    <g clip-path=\"url(#p49258c19e5)\">\n",
       "     <use xlink:href=\"#m03252ff3e0\" x=\"214.065598\" y=\"430.351528\" style=\"stroke: #000000\"/>\n",
       "    </g>\n",
       "   </g>\n",
       "   <g id=\"matplotlib.axis_3\">\n",
       "    <g id=\"xtick_5\">\n",
       "     <g id=\"line2d_15\">\n",
       "      <g>\n",
       "       <use xlink:href=\"#mb5ea152ebb\" x=\"95.142763\" y=\"463.0785\" style=\"stroke: #000000; stroke-width: 2\"/>\n",
       "      </g>\n",
       "     </g>\n",
       "     <g id=\"line2d_16\">\n",
       "      <g>\n",
       "       <use xlink:href=\"#mbc1511f657\" x=\"95.142763\" y=\"245.6385\" style=\"stroke: #000000; stroke-width: 2\"/>\n",
       "      </g>\n",
       "     </g>\n",
       "     <g id=\"text_13\">\n",
       "      <!-- 0 -->\n",
       "      <g transform=\"translate(90.642763 479.07725) scale(0.18 -0.18)\">\n",
       "       <use xlink:href=\"#TimesNewRomanPSMT-30\"/>\n",
       "      </g>\n",
       "     </g>\n",
       "    </g>\n",
       "    <g id=\"xtick_6\">\n",
       "     <g id=\"line2d_17\">\n",
       "      <g>\n",
       "       <use xlink:href=\"#mb5ea152ebb\" x=\"153.72544\" y=\"463.0785\" style=\"stroke: #000000; stroke-width: 2\"/>\n",
       "      </g>\n",
       "     </g>\n",
       "     <g id=\"line2d_18\">\n",
       "      <g>\n",
       "       <use xlink:href=\"#mbc1511f657\" x=\"153.72544\" y=\"245.6385\" style=\"stroke: #000000; stroke-width: 2\"/>\n",
       "      </g>\n",
       "     </g>\n",
       "     <g id=\"text_14\">\n",
       "      <!-- 10 -->\n",
       "      <g transform=\"translate(144.72544 479.07725) scale(0.18 -0.18)\">\n",
       "       <use xlink:href=\"#TimesNewRomanPSMT-31\"/>\n",
       "       <use xlink:href=\"#TimesNewRomanPSMT-30\" x=\"50\"/>\n",
       "      </g>\n",
       "     </g>\n",
       "    </g>\n",
       "    <g id=\"xtick_7\">\n",
       "     <g id=\"line2d_19\">\n",
       "      <g>\n",
       "       <use xlink:href=\"#mb5ea152ebb\" x=\"212.308118\" y=\"463.0785\" style=\"stroke: #000000; stroke-width: 2\"/>\n",
       "      </g>\n",
       "     </g>\n",
       "     <g id=\"line2d_20\">\n",
       "      <g>\n",
       "       <use xlink:href=\"#mbc1511f657\" x=\"212.308118\" y=\"245.6385\" style=\"stroke: #000000; stroke-width: 2\"/>\n",
       "      </g>\n",
       "     </g>\n",
       "     <g id=\"text_15\">\n",
       "      <!-- 20 -->\n",
       "      <g transform=\"translate(203.308118 479.07725) scale(0.18 -0.18)\">\n",
       "       <use xlink:href=\"#TimesNewRomanPSMT-32\"/>\n",
       "       <use xlink:href=\"#TimesNewRomanPSMT-30\" x=\"50\"/>\n",
       "      </g>\n",
       "     </g>\n",
       "    </g>\n",
       "    <g id=\"xtick_8\">\n",
       "     <g id=\"line2d_21\">\n",
       "      <g>\n",
       "       <use xlink:href=\"#mb5ea152ebb\" x=\"270.890795\" y=\"463.0785\" style=\"stroke: #000000; stroke-width: 2\"/>\n",
       "      </g>\n",
       "     </g>\n",
       "     <g id=\"line2d_22\">\n",
       "      <g>\n",
       "       <use xlink:href=\"#mbc1511f657\" x=\"270.890795\" y=\"245.6385\" style=\"stroke: #000000; stroke-width: 2\"/>\n",
       "      </g>\n",
       "     </g>\n",
       "     <g id=\"text_16\">\n",
       "      <!-- 30 -->\n",
       "      <g transform=\"translate(261.890795 479.07725) scale(0.18 -0.18)\">\n",
       "       <use xlink:href=\"#TimesNewRomanPSMT-33\"/>\n",
       "       <use xlink:href=\"#TimesNewRomanPSMT-30\" x=\"50\"/>\n",
       "      </g>\n",
       "     </g>\n",
       "    </g>\n",
       "    <g id=\"text_17\">\n",
       "     <!-- $F_{\\rm \\, 3-10keV}$ -->\n",
       "     <g transform=\"translate(127.079062 499.45725) scale(0.18 -0.18)\">\n",
       "      <defs>\n",
       "       <path id=\"DejaVuSans-Oblique-46\" d=\"M 1081 4666 \n",
       "L 3756 4666 \n",
       "L 3653 4134 \n",
       "L 1606 4134 \n",
       "L 1338 2759 \n",
       "L 3188 2759 \n",
       "L 3084 2228 \n",
       "L 1234 2228 \n",
       "L 800 0 \n",
       "L 172 0 \n",
       "L 1081 4666 \n",
       "z\n",
       "\" transform=\"scale(0.015625)\"/>\n",
       "       <path id=\"DejaVuSans-33\" d=\"M 2597 2516 \n",
       "Q 3050 2419 3304 2112 \n",
       "Q 3559 1806 3559 1356 \n",
       "Q 3559 666 3084 287 \n",
       "Q 2609 -91 1734 -91 \n",
       "Q 1441 -91 1130 -33 \n",
       "Q 819 25 488 141 \n",
       "L 488 750 \n",
       "Q 750 597 1062 519 \n",
       "Q 1375 441 1716 441 \n",
       "Q 2309 441 2620 675 \n",
       "Q 2931 909 2931 1356 \n",
       "Q 2931 1769 2642 2001 \n",
       "Q 2353 2234 1838 2234 \n",
       "L 1294 2234 \n",
       "L 1294 2753 \n",
       "L 1863 2753 \n",
       "Q 2328 2753 2575 2939 \n",
       "Q 2822 3125 2822 3475 \n",
       "Q 2822 3834 2567 4026 \n",
       "Q 2313 4219 1838 4219 \n",
       "Q 1578 4219 1281 4162 \n",
       "Q 984 4106 628 3988 \n",
       "L 628 4550 \n",
       "Q 988 4650 1302 4700 \n",
       "Q 1616 4750 1894 4750 \n",
       "Q 2613 4750 3031 4423 \n",
       "Q 3450 4097 3450 3541 \n",
       "Q 3450 3153 3228 2886 \n",
       "Q 3006 2619 2597 2516 \n",
       "z\n",
       "\" transform=\"scale(0.015625)\"/>\n",
       "       <path id=\"DejaVuSans-2212\" d=\"M 678 2272 \n",
       "L 4684 2272 \n",
       "L 4684 1741 \n",
       "L 678 1741 \n",
       "L 678 2272 \n",
       "z\n",
       "\" transform=\"scale(0.015625)\"/>\n",
       "       <path id=\"DejaVuSans-31\" d=\"M 794 531 \n",
       "L 1825 531 \n",
       "L 1825 4091 \n",
       "L 703 3866 \n",
       "L 703 4441 \n",
       "L 1819 4666 \n",
       "L 2450 4666 \n",
       "L 2450 531 \n",
       "L 3481 531 \n",
       "L 3481 0 \n",
       "L 794 0 \n",
       "L 794 531 \n",
       "z\n",
       "\" transform=\"scale(0.015625)\"/>\n",
       "       <path id=\"DejaVuSans-30\" d=\"M 2034 4250 \n",
       "Q 1547 4250 1301 3770 \n",
       "Q 1056 3291 1056 2328 \n",
       "Q 1056 1369 1301 889 \n",
       "Q 1547 409 2034 409 \n",
       "Q 2525 409 2770 889 \n",
       "Q 3016 1369 3016 2328 \n",
       "Q 3016 3291 2770 3770 \n",
       "Q 2525 4250 2034 4250 \n",
       "z\n",
       "M 2034 4750 \n",
       "Q 2819 4750 3233 4129 \n",
       "Q 3647 3509 3647 2328 \n",
       "Q 3647 1150 3233 529 \n",
       "Q 2819 -91 2034 -91 \n",
       "Q 1250 -91 836 529 \n",
       "Q 422 1150 422 2328 \n",
       "Q 422 3509 836 4129 \n",
       "Q 1250 4750 2034 4750 \n",
       "z\n",
       "\" transform=\"scale(0.015625)\"/>\n",
       "       <path id=\"DejaVuSans-6b\" d=\"M 581 4863 \n",
       "L 1159 4863 \n",
       "L 1159 1991 \n",
       "L 2875 3500 \n",
       "L 3609 3500 \n",
       "L 1753 1863 \n",
       "L 3688 0 \n",
       "L 2938 0 \n",
       "L 1159 1709 \n",
       "L 1159 0 \n",
       "L 581 0 \n",
       "L 581 4863 \n",
       "z\n",
       "\" transform=\"scale(0.015625)\"/>\n",
       "       <path id=\"DejaVuSans-65\" d=\"M 3597 1894 \n",
       "L 3597 1613 \n",
       "L 953 1613 \n",
       "Q 991 1019 1311 708 \n",
       "Q 1631 397 2203 397 \n",
       "Q 2534 397 2845 478 \n",
       "Q 3156 559 3463 722 \n",
       "L 3463 178 \n",
       "Q 3153 47 2828 -22 \n",
       "Q 2503 -91 2169 -91 \n",
       "Q 1331 -91 842 396 \n",
       "Q 353 884 353 1716 \n",
       "Q 353 2575 817 3079 \n",
       "Q 1281 3584 2069 3584 \n",
       "Q 2775 3584 3186 3129 \n",
       "Q 3597 2675 3597 1894 \n",
       "z\n",
       "M 3022 2063 \n",
       "Q 3016 2534 2758 2815 \n",
       "Q 2500 3097 2075 3097 \n",
       "Q 1594 3097 1305 2825 \n",
       "Q 1016 2553 972 2059 \n",
       "L 3022 2063 \n",
       "z\n",
       "\" transform=\"scale(0.015625)\"/>\n",
       "       <path id=\"DejaVuSans-56\" d=\"M 1831 0 \n",
       "L 50 4666 \n",
       "L 709 4666 \n",
       "L 2188 738 \n",
       "L 3669 4666 \n",
       "L 4325 4666 \n",
       "L 2547 0 \n",
       "L 1831 0 \n",
       "z\n",
       "\" transform=\"scale(0.015625)\"/>\n",
       "      </defs>\n",
       "      <use xlink:href=\"#DejaVuSans-Oblique-46\" transform=\"translate(0 0.09375)\"/>\n",
       "      <use xlink:href=\"#DejaVuSans-33\" transform=\"translate(68.884505 -16.3125) scale(0.7)\"/>\n",
       "      <use xlink:href=\"#DejaVuSans-2212\" transform=\"translate(127.058333 -16.3125) scale(0.7)\"/>\n",
       "      <use xlink:href=\"#DejaVuSans-31\" transform=\"translate(199.348372 -16.3125) scale(0.7)\"/>\n",
       "      <use xlink:href=\"#DejaVuSans-30\" transform=\"translate(243.884505 -16.3125) scale(0.7)\"/>\n",
       "      <use xlink:href=\"#DejaVuSans-6b\" transform=\"translate(288.420637 -16.3125) scale(0.7)\"/>\n",
       "      <use xlink:href=\"#DejaVuSans-65\" transform=\"translate(328.957747 -16.3125) scale(0.7)\"/>\n",
       "      <use xlink:href=\"#DejaVuSans-56\" transform=\"translate(372.024153 -16.3125) scale(0.7)\"/>\n",
       "     </g>\n",
       "    </g>\n",
       "   </g>\n",
       "   <g id=\"matplotlib.axis_4\">\n",
       "    <g id=\"ytick_4\">\n",
       "     <g id=\"line2d_23\">\n",
       "      <g>\n",
       "       <use xlink:href=\"#mf486d55bc9\" x=\"53.549062\" y=\"403.614442\" style=\"stroke: #000000; stroke-width: 2\"/>\n",
       "      </g>\n",
       "     </g>\n",
       "     <g id=\"line2d_24\">\n",
       "      <g>\n",
       "       <use xlink:href=\"#mf4eb1518cb\" x=\"276.749062\" y=\"403.614442\" style=\"stroke: #000000; stroke-width: 2\"/>\n",
       "      </g>\n",
       "     </g>\n",
       "     <g id=\"text_18\">\n",
       "      <!-- 40 -->\n",
       "      <g transform=\"translate(32.049062 409.863817) scale(0.18 -0.18)\">\n",
       "       <use xlink:href=\"#TimesNewRomanPSMT-34\"/>\n",
       "       <use xlink:href=\"#TimesNewRomanPSMT-30\" x=\"50\"/>\n",
       "      </g>\n",
       "     </g>\n",
       "    </g>\n",
       "    <g id=\"ytick_5\">\n",
       "     <g id=\"line2d_25\">\n",
       "      <g>\n",
       "       <use xlink:href=\"#mf486d55bc9\" x=\"53.549062\" y=\"338.718603\" style=\"stroke: #000000; stroke-width: 2\"/>\n",
       "      </g>\n",
       "     </g>\n",
       "     <g id=\"line2d_26\">\n",
       "      <g>\n",
       "       <use xlink:href=\"#mf4eb1518cb\" x=\"276.749062\" y=\"338.718603\" style=\"stroke: #000000; stroke-width: 2\"/>\n",
       "      </g>\n",
       "     </g>\n",
       "     <g id=\"text_19\">\n",
       "      <!-- 50 -->\n",
       "      <g transform=\"translate(32.049062 344.967978) scale(0.18 -0.18)\">\n",
       "       <use xlink:href=\"#TimesNewRomanPSMT-35\"/>\n",
       "       <use xlink:href=\"#TimesNewRomanPSMT-30\" x=\"50\"/>\n",
       "      </g>\n",
       "     </g>\n",
       "    </g>\n",
       "    <g id=\"ytick_6\">\n",
       "     <g id=\"line2d_27\">\n",
       "      <g>\n",
       "       <use xlink:href=\"#mf486d55bc9\" x=\"53.549062\" y=\"273.822763\" style=\"stroke: #000000; stroke-width: 2\"/>\n",
       "      </g>\n",
       "     </g>\n",
       "     <g id=\"line2d_28\">\n",
       "      <g>\n",
       "       <use xlink:href=\"#mf4eb1518cb\" x=\"276.749062\" y=\"273.822763\" style=\"stroke: #000000; stroke-width: 2\"/>\n",
       "      </g>\n",
       "     </g>\n",
       "     <g id=\"text_20\">\n",
       "      <!-- 60 -->\n",
       "      <g transform=\"translate(32.049062 280.072138) scale(0.18 -0.18)\">\n",
       "       <use xlink:href=\"#TimesNewRomanPSMT-36\"/>\n",
       "       <use xlink:href=\"#TimesNewRomanPSMT-30\" x=\"50\"/>\n",
       "      </g>\n",
       "     </g>\n",
       "    </g>\n",
       "    <g id=\"text_21\">\n",
       "     <!-- $N_{\\rm H,los (10^{22} cm^{-2})}$ -->\n",
       "     <g transform=\"translate(23.369062 413.3085) rotate(-90) scale(0.18 -0.18)\">\n",
       "      <defs>\n",
       "       <path id=\"DejaVuSans-Oblique-4e\" d=\"M 1081 4666 \n",
       "L 1931 4666 \n",
       "L 3219 666 \n",
       "L 4000 4666 \n",
       "L 4616 4666 \n",
       "L 3706 0 \n",
       "L 2853 0 \n",
       "L 1569 4025 \n",
       "L 788 0 \n",
       "L 172 0 \n",
       "L 1081 4666 \n",
       "z\n",
       "\" transform=\"scale(0.015625)\"/>\n",
       "       <path id=\"DejaVuSans-48\" d=\"M 628 4666 \n",
       "L 1259 4666 \n",
       "L 1259 2753 \n",
       "L 3553 2753 \n",
       "L 3553 4666 \n",
       "L 4184 4666 \n",
       "L 4184 0 \n",
       "L 3553 0 \n",
       "L 3553 2222 \n",
       "L 1259 2222 \n",
       "L 1259 0 \n",
       "L 628 0 \n",
       "L 628 4666 \n",
       "z\n",
       "\" transform=\"scale(0.015625)\"/>\n",
       "       <path id=\"DejaVuSans-2c\" d=\"M 750 794 \n",
       "L 1409 794 \n",
       "L 1409 256 \n",
       "L 897 -744 \n",
       "L 494 -744 \n",
       "L 750 256 \n",
       "L 750 794 \n",
       "z\n",
       "\" transform=\"scale(0.015625)\"/>\n",
       "       <path id=\"DejaVuSans-6c\" d=\"M 603 4863 \n",
       "L 1178 4863 \n",
       "L 1178 0 \n",
       "L 603 0 \n",
       "L 603 4863 \n",
       "z\n",
       "\" transform=\"scale(0.015625)\"/>\n",
       "       <path id=\"DejaVuSans-6f\" d=\"M 1959 3097 \n",
       "Q 1497 3097 1228 2736 \n",
       "Q 959 2375 959 1747 \n",
       "Q 959 1119 1226 758 \n",
       "Q 1494 397 1959 397 \n",
       "Q 2419 397 2687 759 \n",
       "Q 2956 1122 2956 1747 \n",
       "Q 2956 2369 2687 2733 \n",
       "Q 2419 3097 1959 3097 \n",
       "z\n",
       "M 1959 3584 \n",
       "Q 2709 3584 3137 3096 \n",
       "Q 3566 2609 3566 1747 \n",
       "Q 3566 888 3137 398 \n",
       "Q 2709 -91 1959 -91 \n",
       "Q 1206 -91 779 398 \n",
       "Q 353 888 353 1747 \n",
       "Q 353 2609 779 3096 \n",
       "Q 1206 3584 1959 3584 \n",
       "z\n",
       "\" transform=\"scale(0.015625)\"/>\n",
       "       <path id=\"DejaVuSans-73\" d=\"M 2834 3397 \n",
       "L 2834 2853 \n",
       "Q 2591 2978 2328 3040 \n",
       "Q 2066 3103 1784 3103 \n",
       "Q 1356 3103 1142 2972 \n",
       "Q 928 2841 928 2578 \n",
       "Q 928 2378 1081 2264 \n",
       "Q 1234 2150 1697 2047 \n",
       "L 1894 2003 \n",
       "Q 2506 1872 2764 1633 \n",
       "Q 3022 1394 3022 966 \n",
       "Q 3022 478 2636 193 \n",
       "Q 2250 -91 1575 -91 \n",
       "Q 1294 -91 989 -36 \n",
       "Q 684 19 347 128 \n",
       "L 347 722 \n",
       "Q 666 556 975 473 \n",
       "Q 1284 391 1588 391 \n",
       "Q 1994 391 2212 530 \n",
       "Q 2431 669 2431 922 \n",
       "Q 2431 1156 2273 1281 \n",
       "Q 2116 1406 1581 1522 \n",
       "L 1381 1569 \n",
       "Q 847 1681 609 1914 \n",
       "Q 372 2147 372 2553 \n",
       "Q 372 3047 722 3315 \n",
       "Q 1072 3584 1716 3584 \n",
       "Q 2034 3584 2315 3537 \n",
       "Q 2597 3491 2834 3397 \n",
       "z\n",
       "\" transform=\"scale(0.015625)\"/>\n",
       "       <path id=\"DejaVuSans-28\" d=\"M 1984 4856 \n",
       "Q 1566 4138 1362 3434 \n",
       "Q 1159 2731 1159 2009 \n",
       "Q 1159 1288 1364 580 \n",
       "Q 1569 -128 1984 -844 \n",
       "L 1484 -844 \n",
       "Q 1016 -109 783 600 \n",
       "Q 550 1309 550 2009 \n",
       "Q 550 2706 781 3412 \n",
       "Q 1013 4119 1484 4856 \n",
       "L 1984 4856 \n",
       "z\n",
       "\" transform=\"scale(0.015625)\"/>\n",
       "       <path id=\"DejaVuSans-32\" d=\"M 1228 531 \n",
       "L 3431 531 \n",
       "L 3431 0 \n",
       "L 469 0 \n",
       "L 469 531 \n",
       "Q 828 903 1448 1529 \n",
       "Q 2069 2156 2228 2338 \n",
       "Q 2531 2678 2651 2914 \n",
       "Q 2772 3150 2772 3378 \n",
       "Q 2772 3750 2511 3984 \n",
       "Q 2250 4219 1831 4219 \n",
       "Q 1534 4219 1204 4116 \n",
       "Q 875 4013 500 3803 \n",
       "L 500 4441 \n",
       "Q 881 4594 1212 4672 \n",
       "Q 1544 4750 1819 4750 \n",
       "Q 2544 4750 2975 4387 \n",
       "Q 3406 4025 3406 3419 \n",
       "Q 3406 3131 3298 2873 \n",
       "Q 3191 2616 2906 2266 \n",
       "Q 2828 2175 2409 1742 \n",
       "Q 1991 1309 1228 531 \n",
       "z\n",
       "\" transform=\"scale(0.015625)\"/>\n",
       "       <path id=\"DejaVuSans-63\" d=\"M 3122 3366 \n",
       "L 3122 2828 \n",
       "Q 2878 2963 2633 3030 \n",
       "Q 2388 3097 2138 3097 \n",
       "Q 1578 3097 1268 2742 \n",
       "Q 959 2388 959 1747 \n",
       "Q 959 1106 1268 751 \n",
       "Q 1578 397 2138 397 \n",
       "Q 2388 397 2633 464 \n",
       "Q 2878 531 3122 666 \n",
       "L 3122 134 \n",
       "Q 2881 22 2623 -34 \n",
       "Q 2366 -91 2075 -91 \n",
       "Q 1284 -91 818 406 \n",
       "Q 353 903 353 1747 \n",
       "Q 353 2603 823 3093 \n",
       "Q 1294 3584 2113 3584 \n",
       "Q 2378 3584 2631 3529 \n",
       "Q 2884 3475 3122 3366 \n",
       "z\n",
       "\" transform=\"scale(0.015625)\"/>\n",
       "       <path id=\"DejaVuSans-6d\" d=\"M 3328 2828 \n",
       "Q 3544 3216 3844 3400 \n",
       "Q 4144 3584 4550 3584 \n",
       "Q 5097 3584 5394 3201 \n",
       "Q 5691 2819 5691 2113 \n",
       "L 5691 0 \n",
       "L 5113 0 \n",
       "L 5113 2094 \n",
       "Q 5113 2597 4934 2840 \n",
       "Q 4756 3084 4391 3084 \n",
       "Q 3944 3084 3684 2787 \n",
       "Q 3425 2491 3425 1978 \n",
       "L 3425 0 \n",
       "L 2847 0 \n",
       "L 2847 2094 \n",
       "Q 2847 2600 2669 2842 \n",
       "Q 2491 3084 2119 3084 \n",
       "Q 1678 3084 1418 2786 \n",
       "Q 1159 2488 1159 1978 \n",
       "L 1159 0 \n",
       "L 581 0 \n",
       "L 581 3500 \n",
       "L 1159 3500 \n",
       "L 1159 2956 \n",
       "Q 1356 3278 1631 3431 \n",
       "Q 1906 3584 2284 3584 \n",
       "Q 2666 3584 2933 3390 \n",
       "Q 3200 3197 3328 2828 \n",
       "z\n",
       "\" transform=\"scale(0.015625)\"/>\n",
       "       <path id=\"DejaVuSans-29\" d=\"M 513 4856 \n",
       "L 1013 4856 \n",
       "Q 1481 4119 1714 3412 \n",
       "Q 1947 2706 1947 2009 \n",
       "Q 1947 1309 1714 600 \n",
       "Q 1481 -109 1013 -844 \n",
       "L 513 -844 \n",
       "Q 928 -128 1133 580 \n",
       "Q 1338 1288 1338 2009 \n",
       "Q 1338 2731 1133 3434 \n",
       "Q 928 4138 513 4856 \n",
       "z\n",
       "\" transform=\"scale(0.015625)\"/>\n",
       "      </defs>\n",
       "      <use xlink:href=\"#DejaVuSans-Oblique-4e\" transform=\"translate(0 0.09375)\"/>\n",
       "      <use xlink:href=\"#DejaVuSans-48\" transform=\"translate(74.804688 -16.3125) scale(0.7)\"/>\n",
       "      <use xlink:href=\"#DejaVuSans-2c\" transform=\"translate(127.441406 -16.3125) scale(0.7)\"/>\n",
       "      <use xlink:href=\"#DejaVuSans-6c\" transform=\"translate(163.330078 -16.3125) scale(0.7)\"/>\n",
       "      <use xlink:href=\"#DejaVuSans-6f\" transform=\"translate(182.77832 -16.3125) scale(0.7)\"/>\n",
       "      <use xlink:href=\"#DejaVuSans-73\" transform=\"translate(225.605469 -16.3125) scale(0.7)\"/>\n",
       "      <use xlink:href=\"#DejaVuSans-28\" transform=\"translate(262.075195 -16.3125) scale(0.7)\"/>\n",
       "      <use xlink:href=\"#DejaVuSans-31\" transform=\"translate(289.384766 -16.3125) scale(0.7)\"/>\n",
       "      <use xlink:href=\"#DejaVuSans-30\" transform=\"translate(333.920898 -16.3125) scale(0.7)\"/>\n",
       "      <use xlink:href=\"#DejaVuSans-32\" transform=\"translate(379.126953 10.484375) scale(0.49)\"/>\n",
       "      <use xlink:href=\"#DejaVuSans-32\" transform=\"translate(410.302246 10.484375) scale(0.49)\"/>\n",
       "      <use xlink:href=\"#DejaVuSans-63\" transform=\"translate(443.391602 -16.3125) scale(0.7)\"/>\n",
       "      <use xlink:href=\"#DejaVuSans-6d\" transform=\"translate(481.87793 -16.3125) scale(0.7)\"/>\n",
       "      <use xlink:href=\"#DejaVuSans-2212\" transform=\"translate(550.736328 10.484375) scale(0.49)\"/>\n",
       "      <use xlink:href=\"#DejaVuSans-32\" transform=\"translate(591.792969 10.484375) scale(0.49)\"/>\n",
       "      <use xlink:href=\"#DejaVuSans-29\" transform=\"translate(624.882324 -16.3125) scale(0.7)\"/>\n",
       "     </g>\n",
       "    </g>\n",
       "   </g>\n",
       "   <g id=\"patch_9\">\n",
       "    <path d=\"M 53.549062 463.0785 \n",
       "L 53.549062 245.6385 \n",
       "\" style=\"fill: none; stroke: #000000; stroke-width: 2; stroke-linejoin: miter; stroke-linecap: square\"/>\n",
       "   </g>\n",
       "   <g id=\"patch_10\">\n",
       "    <path d=\"M 276.749062 463.0785 \n",
       "L 276.749062 245.6385 \n",
       "\" style=\"fill: none; stroke: #000000; stroke-width: 2; stroke-linejoin: miter; stroke-linecap: square\"/>\n",
       "   </g>\n",
       "   <g id=\"patch_11\">\n",
       "    <path d=\"M 53.549062 463.0785 \n",
       "L 276.749062 463.0785 \n",
       "\" style=\"fill: none; stroke: #000000; stroke-width: 2; stroke-linejoin: miter; stroke-linecap: square\"/>\n",
       "   </g>\n",
       "   <g id=\"patch_12\">\n",
       "    <path d=\"M 53.549062 245.6385 \n",
       "L 276.749062 245.6385 \n",
       "\" style=\"fill: none; stroke: #000000; stroke-width: 2; stroke-linejoin: miter; stroke-linecap: square\"/>\n",
       "   </g>\n",
       "  </g>\n",
       " </g>\n",
       " <defs>\n",
       "  <clipPath id=\"pb450e05e01\">\n",
       "   <rect x=\"53.549062\" y=\"28.1985\" width=\"223.2\" height=\"217.44\"/>\n",
       "  </clipPath>\n",
       "  <clipPath id=\"p49258c19e5\">\n",
       "   <rect x=\"53.549062\" y=\"245.6385\" width=\"223.2\" height=\"217.44\"/>\n",
       "  </clipPath>\n",
       " </defs>\n",
       "</svg>\n"
      ],
      "text/plain": [
       "<Figure size 288x576 with 2 Axes>"
      ]
     },
     "metadata": {
      "needs_background": "light"
     },
     "output_type": "display_data"
    }
   ],
   "source": [
    "fig = plt.figure(figsize=(4,8))\n",
    "fig.subplots_adjust(hspace=0., wspace = 0.0)\n",
    "ax0 = fig.add_subplot(2,1,1)\n",
    "ax1 = fig.add_subplot(2,1,2,sharex=ax0)    \n",
    "\n",
    "for index,(nh_i,Gamma_i) in enumerate(zip(NGC7582_Lefkir['nH'],NGC7582_Lefkir['Gamma'])):\n",
    "    #print(nh_i)\n",
    "    if nh_i.find('pm')>0:\n",
    "        nh_i_v=float(nh_i.split('}\\\\pm')[0].split('${')[1])\n",
    "        \n",
    "        if nh_i.split('}\\\\pm')[1].split('$')[0].find('{')>-1:\n",
    "            nh_i_l=float(nh_i.split('}\\\\pm{')[1].split('}$')[0])\n",
    "            nh_i_u=float(nh_i.split('}\\\\pm{')[1].split('}$')[0])\n",
    "        else:    \n",
    "           \n",
    "        \n",
    "            nh_i_l=float(nh_i.split('}\\\\pm')[1].split('$')[0])\n",
    "            nh_i_u=float(nh_i.split('}\\\\pm')[1].split('$')[0])        \n",
    "    \n",
    "    else:\n",
    "        nh_i_v= float(nh_i.split('}^{')[0].split('${')[1])\n",
    "        nh_i_l= float(nh_i.split('}_{-{')[1].split('}}')[0])\n",
    "        nh_i_u= float(nh_i.split('}^{+{')[1].split('}}')[0])\n",
    "    \n",
    "    if Gamma_i.find('pm')>0:\n",
    "        Gamma_i_v=float(Gamma_i.split('}\\\\pm')[0].split('${')[1])\n",
    "        \n",
    "        if Gamma_i.split('}\\\\pm')[1].split('$')[0].find('{')>-1:\n",
    "            Gamma_i_l=float(Gamma_i.split('}\\\\pm{')[1].split('}$')[0])\n",
    "            Gamma_i_u=float(Gamma_i.split('}\\\\pm{')[1].split('}$')[0])\n",
    "        else:    \n",
    "        \n",
    "            Gamma_i_l=float(Gamma_i.split('}\\\\pm')[1].split('$')[0])\n",
    "            Gamma_i_u=float(Gamma_i.split('}\\\\pm')[1].split('$')[0])\n",
    "        \n",
    "    else:    \n",
    "        Gamma_i_v= float(Gamma_i.split('}^{')[0].split('${')[1])\n",
    "        Gamma_i_l= float(Gamma_i.split('}_{-{')[1].split('}}')[0])\n",
    "        Gamma_i_u= float(Gamma_i.split('}^{+{')[1].split('}}')[0])\n",
    "    \n",
    "    \n",
    "    F3_10_i=NGC7582_Lefkir.loc[index,'F3-10_']\n",
    "    if F3_10_i.find('pm')>0:\n",
    "        F3_10_i_v=float(F3_10_i.split('\\\\pm')[0].split('$')[1])\n",
    "        \n",
    "        if F3_10_i.split('\\\\pm')[1].split('$')[0].find('{')>-1:\n",
    "            F3_10_i_l=float(F3_10_i.split('\\\\pm')[1].split('$')[0])\n",
    "            F3_10_i_u=float(F3_10_i.split('\\\\pm')[1].split('$')[0])\n",
    "        else:    \n",
    "        \n",
    "            F3_10_i_l=float(F3_10_i.split('\\\\pm')[1].split('$')[0])\n",
    "            F3_10_i_u=float(F3_10_i.split('\\\\pm')[1].split('$')[0])\n",
    "        \n",
    "    else:    \n",
    "        F3_10_i_v= float(F3_10_i.split('_{-')[0].split('$')[1])\n",
    "        F3_10_i_l= float(F3_10_i.split('}^{+')[0].split('_{-')[1])\n",
    "        F3_10_i_u= float(F3_10_i.split('}^{+')[1].split('}$')[0])  \n",
    "\n",
    "    \n",
    "    cut_Norm_i=NGC7582_Lefkir.loc[index,'Norm1']\n",
    "    if cut_Norm_i.find('pm')>0:\n",
    "        cut_Norm_i_v=float(cut_Norm_i.split('}\\\\pm')[0].split('${')[1])\n",
    "\n",
    "        if cut_Norm_i.split('}\\\\pm')[1].split('$')[0].find('{')>-1:\n",
    "            cut_Norm_i_l=float(cut_Norm_i.split('}\\\\pm{')[1].split('}$')[0])\n",
    "            ncut_Norm_i_u=float(cut_Norm_i.split('}\\\\pm{')[1].split('}$')[0])\n",
    "        else:               \n",
    "\n",
    "            cut_Norm_i_l=float(cut_Norm_i.split('}\\\\pm')[1].split('$')[0])\n",
    "            cut_Norm_i_u=float(cut_Norm_i.split('}\\\\pm')[1].split('$')[0])            \n",
    "    else:\n",
    "        cut_Norm_i_v= float(cut_Norm_i.split('}^{')[0].split('${')[1])\n",
    "        cut_Norm_i_l= float(cut_Norm_i.split('}_{-{')[1].split('}}')[0])\n",
    "        cut_Norm_i_u= float(cut_Norm_i.split('}^{+{')[1].split('}}')[0])    \n",
    "\n",
    "     \n",
    "    if isinstance(NGC7582_Lefkir.loc[index,'epoch'],str):\n",
    "    \n",
    "        if NGC7582_Lefkir.loc[index,'epoch'].find('2016')>-1:\n",
    "\n",
    "            print(nh_i_v,Gamma_i_v,F3_10_i_v,cut_Norm_i_v)\n",
    "\n",
    "            ax0.scatter(F3_10_i_v,Gamma_i_v,color='black',marker='*',label=NGC7582_Lefkir.loc[index,'epoch'][:7])\n",
    "            ax1.scatter(F3_10_i_v,nh_i_v,color='black',marker='*')\n",
    "        \n",
    "        \n",
    "        #elif NGC7582_Lefkir.loc[index,'epoch'].find('2012')>-1:\n",
    "            #ax0.scatter(F3_10_i_v,Gamma_i_v,color='grey',marker='d',label=NGC7582_Lefkir.loc[index,'epoch'][:7])\n",
    "            #ax1.scatter(F3_10_i_v,nh_i_v,color='grey',marker='d')    \n",
    "            \n",
    "    elif NGC7582_Lefkir.loc[index,'epoch'].year==2012:\n",
    "        ax0.scatter(F3_10_i_v,Gamma_i_v,color='grey',marker='s',label= '%d-0%d'%(NGC7582_Lefkir.loc[index,'epoch'].year,NGC7582_Lefkir.loc[index,'epoch'].month))\n",
    "        ax1.scatter(F3_10_i_v,nh_i_v,color='grey',marker='s')   \n",
    "        \n",
    "        \n",
    "    set_ax_legend(ax0,bbox_to_anchor=(0.01,0.99))    \n",
    "    set_ax_tick(ax0)\n",
    "    set_ax_tick(ax1)\n",
    "    #ax1.set_xlabel(r'log($F_{\\rm \\, 3-10keV}/L_{\\rm Edd}$)')\n",
    "    ax1.set_xlabel(r'$F_{\\rm \\, 3-10keV}$')\n",
    "    ax1.set_ylabel(r'$N_{\\rm H,los (10^{22} cm^{-2})}$')\n",
    "    ax0.set_ylabel(r'$\\Gamma$')  \n",
    "    \n",
    "    ax0.set_xlim(-7.1,31)\n",
    "    ax0.set_title(\"NGC 7582\")\n",
    "    \n",
    "save_lc_img_path=os.path.join('/Users/lyubing/Downloads/OXCLAGN/003_OXCLAGN/pic/Gamma_L_nh_pic/','NGC7582_lefkir.pdf')\n",
    "plt.savefig(save_lc_img_path,dpi=400, transparent=False, bbox_inches='tight')\n",
    "        "
   ]
  },
  {
   "cell_type": "code",
   "execution_count": null,
   "metadata": {},
   "outputs": [],
   "source": []
  },
  {
   "cell_type": "markdown",
   "metadata": {
    "ExecuteTime": {
     "end_time": "2023-12-01T08:55:22.605976Z",
     "start_time": "2023-12-01T08:55:22.162763Z"
    }
   },
   "source": [
    "fig = plt.figure(figsize=(4,8))\n",
    "fig.subplots_adjust(hspace=0., wspace = 0.0)\n",
    "ax0 = fig.add_subplot(2,1,1)\n",
    "ax1 = fig.add_subplot(2,1,2,sharex=ax0)    \n",
    "\n",
    "for index,(nh_i,Gamma_i) in enumerate(zip(NGC7582_Lefkir['nH'],NGC7582_Lefkir['Gamma'])):\n",
    "    #print(nh_i)\n",
    "    if nh_i.find('pm')>0:\n",
    "        nh_i_v=float(nh_i.split('}\\\\pm')[0].split('${')[1])\n",
    "        \n",
    "        if nh_i.split('}\\\\pm')[1].split('$')[0].find('{')>-1:\n",
    "            nh_i_l=float(nh_i.split('}\\\\pm{')[1].split('}$')[0])\n",
    "            nh_i_u=float(nh_i.split('}\\\\pm{')[1].split('}$')[0])\n",
    "        else:    \n",
    "           \n",
    "        \n",
    "            nh_i_l=float(nh_i.split('}\\\\pm')[1].split('$')[0])\n",
    "            nh_i_u=float(nh_i.split('}\\\\pm')[1].split('$')[0])        \n",
    "    \n",
    "    else:\n",
    "        nh_i_v= float(nh_i.split('}^{')[0].split('${')[1])\n",
    "        nh_i_l= float(nh_i.split('}_{-{')[1].split('}}')[0])\n",
    "        nh_i_u= float(nh_i.split('}^{+{')[1].split('}}')[0])\n",
    "    \n",
    "    if Gamma_i.find('pm')>0:\n",
    "        Gamma_i_v=float(Gamma_i.split('}\\\\pm')[0].split('${')[1])\n",
    "        \n",
    "        if Gamma_i.split('}\\\\pm')[1].split('$')[0].find('{')>-1:\n",
    "            Gamma_i_l=float(Gamma_i.split('}\\\\pm{')[1].split('}$')[0])\n",
    "            Gamma_i_u=float(Gamma_i.split('}\\\\pm{')[1].split('}$')[0])\n",
    "        else:    \n",
    "        \n",
    "            Gamma_i_l=float(Gamma_i.split('}\\\\pm')[1].split('$')[0])\n",
    "            Gamma_i_u=float(Gamma_i.split('}\\\\pm')[1].split('$')[0])\n",
    "        \n",
    "    else:    \n",
    "        Gamma_i_v= float(Gamma_i.split('}^{')[0].split('${')[1])\n",
    "        Gamma_i_l= float(Gamma_i.split('}_{-{')[1].split('}}')[0])\n",
    "        Gamma_i_u= float(Gamma_i.split('}^{+{')[1].split('}}')[0])\n",
    "    \n",
    "    \n",
    "    F3_10_i=NGC7582_Lefkir.loc[index,'F3-10_']\n",
    "    if F3_10_i.find('pm')>0:\n",
    "        F3_10_i_v=float(F3_10_i.split('\\\\pm')[0].split('$')[1])\n",
    "        \n",
    "        if F3_10_i.split('\\\\pm')[1].split('$')[0].find('{')>-1:\n",
    "            F3_10_i_l=float(F3_10_i.split('\\\\pm')[1].split('$')[0])\n",
    "            F3_10_i_u=float(F3_10_i.split('\\\\pm')[1].split('$')[0])\n",
    "        else:    \n",
    "        \n",
    "            F3_10_i_l=float(F3_10_i.split('\\\\pm')[1].split('$')[0])\n",
    "            F3_10_i_u=float(F3_10_i.split('\\\\pm')[1].split('$')[0])\n",
    "        \n",
    "    else:    \n",
    "        F3_10_i_v= float(F3_10_i.split('_{-')[0].split('$')[1])\n",
    "        F3_10_i_l= float(F3_10_i.split('}^{+')[0].split('_{-')[1])\n",
    "        F3_10_i_u= float(F3_10_i.split('}^{+')[1].split('}$')[0])  \n",
    "\n",
    "    \n",
    "    cut_Norm_i=NGC7582_Lefkir.loc[index,'Norm1']\n",
    "    if cut_Norm_i.find('pm')>0:\n",
    "        cut_Norm_i_v=float(cut_Norm_i.split('}\\\\pm')[0].split('${')[1])\n",
    "\n",
    "        if cut_Norm_i.split('}\\\\pm')[1].split('$')[0].find('{')>-1:\n",
    "            cut_Norm_i_l=float(cut_Norm_i.split('}\\\\pm{')[1].split('}$')[0])\n",
    "            ncut_Norm_i_u=float(cut_Norm_i.split('}\\\\pm{')[1].split('}$')[0])\n",
    "        else:               \n",
    "\n",
    "            cut_Norm_i_l=float(cut_Norm_i.split('}\\\\pm')[1].split('$')[0])\n",
    "            cut_Norm_i_u=float(cut_Norm_i.split('}\\\\pm')[1].split('$')[0])            \n",
    "    else:\n",
    "        cut_Norm_i_v= float(cut_Norm_i.split('}^{')[0].split('${')[1])\n",
    "        cut_Norm_i_l= float(cut_Norm_i.split('}_{-{')[1].split('}}')[0])\n",
    "        cut_Norm_i_u= float(cut_Norm_i.split('}^{+{')[1].split('}}')[0])    \n",
    "\n",
    "     \n",
    "    if isinstance(NGC7582_Lefkir.loc[index,'epoch'],str):\n",
    "    \n",
    "        if NGC7582_Lefkir.loc[index,'epoch'].find('2016')>-1:\n",
    "\n",
    "            print(nh_i_v,Gamma_i_v,F3_10_i_v,cut_Norm_i_v)\n",
    "\n",
    "            ax0.scatter(F3_10_i_v,Gamma_i_v,color='black',marker='*',label=NGC7582_Lefkir.loc[index,'epoch'][:7])\n",
    "            ax1.scatter(F3_10_i_v,nh_i_v,color='black',marker='*')\n",
    "                \n",
    "    set_ax_legend(ax0,bbox_to_anchor=(0.01,0.99))    \n",
    "    set_ax_tick(ax0)\n",
    "    set_ax_tick(ax1)\n",
    "    #ax1.set_xlabel(r'log($F_{\\rm \\, 3-10keV}/L_{\\rm Edd}$)')\n",
    "    ax1.set_xlabel(r'$F_{\\rm \\, 3-10keV}$')\n",
    "    ax1.set_ylabel(r'$N_{\\rm H,los (10^{22} cm^{-2})}$')\n",
    "    ax0.set_ylabel(r'$\\Gamma$')  \n",
    "    \n",
    "    ax0.set_xlim(4,31)\n",
    "    ax1.set_ylim(31,61)\n",
    "    \n",
    "    \n",
    "save_lc_img_path=os.path.join('/Users/lyubing/Downloads/OXCLAGN/003_OXCLAGN/pic/Gamma_L_nh_pic/','NGC7582.pdf')\n",
    "plt.savefig(save_lc_img_path,dpi=400, transparent=False, bbox_inches='tight')\n",
    "    "
   ]
  },
  {
   "cell_type": "code",
   "execution_count": null,
   "metadata": {
    "ExecuteTime": {
     "end_time": "2023-12-01T09:02:37.397151Z",
     "start_time": "2023-12-01T09:02:36.901520Z"
    }
   },
   "outputs": [],
   "source": [
    "!open /Users/lyubing/Downloads/OXCLAGN/003_OXCLAGN/pic/Gamma_L_nh_pic/"
   ]
  },
  {
   "cell_type": "code",
   "execution_count": null,
   "metadata": {},
   "outputs": [],
   "source": []
  },
  {
   "cell_type": "code",
   "execution_count": null,
   "metadata": {},
   "outputs": [],
   "source": []
  },
  {
   "cell_type": "code",
   "execution_count": null,
   "metadata": {
    "ExecuteTime": {
     "end_time": "2023-10-30T14:05:42.515815Z",
     "start_time": "2023-10-30T14:05:42.512632Z"
    }
   },
   "outputs": [],
   "source": [
    "NGC7582_Lefkir.loc[0,'Norm1']"
   ]
  },
  {
   "cell_type": "code",
   "execution_count": null,
   "metadata": {
    "ExecuteTime": {
     "end_time": "2023-10-30T13:58:54.014880Z",
     "start_time": "2023-10-30T13:58:54.012178Z"
    }
   },
   "outputs": [],
   "source": [
    "NGC7582_Lefkir.loc[6,'epoch']"
   ]
  },
  {
   "cell_type": "code",
   "execution_count": null,
   "metadata": {
    "ExecuteTime": {
     "end_time": "2023-10-30T13:59:06.252671Z",
     "start_time": "2023-10-30T13:59:06.249576Z"
    }
   },
   "outputs": [],
   "source": [
    "NGC7582_Lefkir.loc[2,'epoch']"
   ]
  },
  {
   "cell_type": "code",
   "execution_count": null,
   "metadata": {
    "ExecuteTime": {
     "end_time": "2023-10-30T14:00:21.576336Z",
     "start_time": "2023-10-30T14:00:21.573003Z"
    }
   },
   "outputs": [],
   "source": [
    "isinstance(NGC7582_Lefkir.loc[6,'epoch'],str)"
   ]
  },
  {
   "cell_type": "code",
   "execution_count": null,
   "metadata": {
    "ExecuteTime": {
     "end_time": "2023-10-30T14:00:46.604416Z",
     "start_time": "2023-10-30T14:00:46.601448Z"
    }
   },
   "outputs": [],
   "source": [
    "NGC7582_Lefkir.loc[6,'epoch'].find('2016')>0"
   ]
  },
  {
   "cell_type": "code",
   "execution_count": null,
   "metadata": {},
   "outputs": [],
   "source": []
  },
  {
   "cell_type": "code",
   "execution_count": null,
   "metadata": {},
   "outputs": [],
   "source": []
  },
  {
   "cell_type": "code",
   "execution_count": null,
   "metadata": {
    "ExecuteTime": {
     "end_time": "2023-10-30T13:46:44.957940Z",
     "start_time": "2023-10-30T13:46:44.947276Z"
    }
   },
   "outputs": [],
   "source": [
    "NGC7582_Lefkir.loc[4,'F3-10_']"
   ]
  },
  {
   "cell_type": "markdown",
   "metadata": {},
   "source": [
    "## Mpc distance"
   ]
  },
  {
   "cell_type": "code",
   "execution_count": null,
   "metadata": {
    "ExecuteTime": {
     "end_time": "2023-07-03T10:43:37.784994Z",
     "start_time": "2023-07-03T10:43:37.773871Z"
    }
   },
   "outputs": [],
   "source": [
    "for i in OX_CLAGN5_info['redshift']:\n",
    "    print(cosmo.luminosity_distance(z=i).to(u.Mpc).value)"
   ]
  },
  {
   "cell_type": "code",
   "execution_count": null,
   "metadata": {
    "ExecuteTime": {
     "end_time": "2023-07-03T10:43:56.096083Z",
     "start_time": "2023-07-03T10:43:56.087367Z"
    }
   },
   "outputs": [],
   "source": [
    "#cosmo = LambdaCDM(H0=70, Om0=0.27, Ode0=0.73)\n",
    "cosmo1=FlatLambdaCDM(H0=70,Om0=0.3)"
   ]
  },
  {
   "cell_type": "code",
   "execution_count": null,
   "metadata": {
    "ExecuteTime": {
     "end_time": "2023-07-03T15:29:05.975067Z",
     "start_time": "2023-07-03T15:29:05.966073Z"
    }
   },
   "outputs": [],
   "source": [
    "OX_CLAGN5_info['Name']"
   ]
  },
  {
   "cell_type": "code",
   "execution_count": null,
   "metadata": {
    "ExecuteTime": {
     "end_time": "2023-07-03T15:28:44.085096Z",
     "start_time": "2023-07-03T15:28:44.074870Z"
    }
   },
   "outputs": [],
   "source": [
    "for i in OX_CLAGN5_info['redshift']:\n",
    "    print(cosmo1.luminosity_distance(z=i).to(u.Mpc).value)"
   ]
  },
  {
   "cell_type": "code",
   "execution_count": null,
   "metadata": {},
   "outputs": [],
   "source": [
    "DMpcs=[53.8,25.4,9.5,21.2]"
   ]
  },
  {
   "cell_type": "code",
   "execution_count": null,
   "metadata": {
    "ExecuteTime": {
     "end_time": "2023-06-15T15:00:37.368331Z",
     "start_time": "2023-06-15T15:00:37.358210Z"
    }
   },
   "outputs": [],
   "source": [
    "np.log10(2.6e42)"
   ]
  },
  {
   "cell_type": "code",
   "execution_count": null,
   "metadata": {
    "ExecuteTime": {
     "end_time": "2023-06-15T15:00:33.103862Z",
     "start_time": "2023-06-15T15:00:33.093528Z"
    }
   },
   "outputs": [],
   "source": [
    "np.log10(4*np.pi*(1.025140073978657e+26)**2)-10.7"
   ]
  },
  {
   "cell_type": "code",
   "execution_count": null,
   "metadata": {
    "ExecuteTime": {
     "end_time": "2023-06-15T14:59:03.150247Z",
     "start_time": "2023-06-15T14:59:03.136437Z"
    }
   },
   "outputs": [],
   "source": [
    "np.log10(4*np.pi*(1.025140073978657e+26)**2)-11.5"
   ]
  },
  {
   "cell_type": "code",
   "execution_count": null,
   "metadata": {},
   "outputs": [],
   "source": []
  },
  {
   "cell_type": "code",
   "execution_count": null,
   "metadata": {
    "ExecuteTime": {
     "end_time": "2023-07-03T09:10:49.702623Z",
     "start_time": "2023-07-03T09:10:49.693437Z"
    }
   },
   "outputs": [],
   "source": [
    "import numpy as np\n"
   ]
  },
  {
   "cell_type": "code",
   "execution_count": null,
   "metadata": {
    "ExecuteTime": {
     "end_time": "2023-07-03T09:11:08.469870Z",
     "start_time": "2023-07-03T09:11:08.461296Z"
    }
   },
   "outputs": [],
   "source": [
    "D_cm_4151=  np.sqrt(0.19e43/7.8/(4*np.pi)*1e11)\n",
    "print(D_cm_4151*u.cm.to(u.Mpc))"
   ]
  },
  {
   "cell_type": "code",
   "execution_count": null,
   "metadata": {
    "ExecuteTime": {
     "end_time": "2023-07-03T09:12:22.220224Z",
     "start_time": "2023-07-03T09:12:22.212456Z"
    }
   },
   "outputs": [],
   "source": [
    "D_cm_4151=  np.sqrt(0.42e43/17.4/(4*np.pi)*1e11)\n",
    "print(D_cm_4151*u.cm.to(u.Mpc))"
   ]
  },
  {
   "cell_type": "code",
   "execution_count": null,
   "metadata": {},
   "outputs": [],
   "source": [
    "D_cm_4151=  np.sqrt(0.42e43/17.4/(4*np.pi)*1e11)\n",
    "print(D_cm_4151*u.cm.to(u.Mpc))"
   ]
  },
  {
   "cell_type": "code",
   "execution_count": null,
   "metadata": {},
   "outputs": [],
   "source": []
  },
  {
   "cell_type": "code",
   "execution_count": null,
   "metadata": {},
   "outputs": [],
   "source": []
  },
  {
   "cell_type": "code",
   "execution_count": null,
   "metadata": {},
   "outputs": [],
   "source": [
    "#Distance Mpc\n",
    "NGC2992 \n",
    "NGC 2992\t\n",
    "Distance Modulus (mag)\tMetric Distance(Mpc)\n",
    "Mean\t31.97\t25.400\n",
    "Std. Dev.\t0.54\t5.918\n",
    "Min.\t31.13\t16.800\n",
    "Max.\t32.45\t30.900\n",
    "Median\t32.31\t29.000\n",
    "\n",
    "\n",
    "NGC4151 \n",
    "(m-M)\terr(m-M)\tD(Mpc)\tMethod\tREFCODE\n",
    "31.39\t0.28\t19.000\tAGN time lag\t2014Natur.515..528H\t\t\t\t\t\n",
    "31.39\t0.22\t19.000\tAGN time lag\t2007MNRAS.380..669C\t\t\t\t44\t\n",
    "32.33\t0.03\t29.200\tAGN time lag\t2014ApJ...784L..11Y\t\t\t\t\t\n",
    "27.95\t0.36\t3.890\tTully-Fisher\t2009AJ....138..323T\n",
    "\n",
    "NGC 4151\tDistance Modulus(mag)\tMetric Distance(Mpc)\n",
    "Mean\t29.31\t9.496\n",
    "Std. Dev.\t1.52\t8.096\n",
    "Min.\t27.95\t3.890\n",
    "Max.\t32.33\t29.200\n",
    "Median\t28.51\t5.040\n",
    "\n",
    "NGC7582 \n",
    "\n",
    "NGC 7582\tDistance Modulus(mag)\tMetric Distance(Mpc)\n",
    "Mean\t31.62\t21.200\n",
    "Std. Dev.\t0.22\t2.060\n",
    "Min.\t31.23\t17.600\n",
    "Max.\t31.81\t23.000\n",
    "Median\t31.72\t22.100"
   ]
  },
  {
   "cell_type": "code",
   "execution_count": null,
   "metadata": {
    "ExecuteTime": {
     "end_time": "2023-06-30T13:11:45.845784Z",
     "start_time": "2023-06-30T13:11:45.836472Z"
    }
   },
   "outputs": [],
   "source": [
    "np.log10((25.4/33.22)**2)"
   ]
  },
  {
   "cell_type": "code",
   "execution_count": null,
   "metadata": {
    "ExecuteTime": {
     "end_time": "2023-06-30T13:11:46.301498Z",
     "start_time": "2023-06-30T13:11:46.291730Z"
    }
   },
   "outputs": [],
   "source": [
    "np.log10((9.5/14.28)**2)"
   ]
  },
  {
   "cell_type": "code",
   "execution_count": null,
   "metadata": {
    "ExecuteTime": {
     "end_time": "2023-06-30T13:11:46.701822Z",
     "start_time": "2023-06-30T13:11:46.693032Z"
    }
   },
   "outputs": [],
   "source": [
    "np.log10((21.2/22.59)**2)"
   ]
  },
  {
   "cell_type": "code",
   "execution_count": null,
   "metadata": {},
   "outputs": [],
   "source": []
  },
  {
   "cell_type": "code",
   "execution_count": null,
   "metadata": {},
   "outputs": [],
   "source": []
  },
  {
   "cell_type": "markdown",
   "metadata": {},
   "source": [
    "# def_plot_"
   ]
  },
  {
   "cell_type": "code",
   "execution_count": 43,
   "metadata": {
    "ExecuteTime": {
     "end_time": "2023-12-02T08:10:16.370672Z",
     "start_time": "2023-12-02T08:10:16.360367Z"
    }
   },
   "outputs": [],
   "source": [
    "def cmap_setup(cmap='viridis', min_freq=0, max_freq=20):\n",
    "    '''\n",
    "        This function will set up a scalar map for you to colour your markers by frequency\n",
    "        '''\n",
    "    freq_cmap = plt.cm.get_cmap(cmap)\n",
    "    \n",
    "    cNorm  = colors.Normalize(vmin=min_freq, vmax=max_freq)\n",
    "    scalarMap = cm.ScalarMappable(norm=cNorm, cmap=cmap)\n",
    "    sm = scalarMap\n",
    "    sm._A = []\n",
    "    return sm"
   ]
  },
  {
   "cell_type": "code",
   "execution_count": 44,
   "metadata": {
    "ExecuteTime": {
     "end_time": "2023-12-02T08:10:16.968351Z",
     "start_time": "2023-12-02T08:10:16.961380Z"
    }
   },
   "outputs": [],
   "source": [
    "markers_pd=['o','s','^','v','p','d','+']"
   ]
  },
  {
   "cell_type": "markdown",
   "metadata": {
    "ExecuteTime": {
     "end_time": "2023-10-20T19:29:41.205272Z",
     "start_time": "2023-10-20T19:29:40.290850Z"
    }
   },
   "source": [
    "pmarker['name']"
   ]
  },
  {
   "cell_type": "code",
   "execution_count": 45,
   "metadata": {
    "ExecuteTime": {
     "end_time": "2023-12-02T08:10:19.088947Z",
     "start_time": "2023-12-02T08:10:19.084284Z"
    }
   },
   "outputs": [],
   "source": [
    "#pmarker=slab_result['name'].drop_duplicates()\n",
    "pmarker=OX_CLAGN5_nustar_resultname\n",
    "marker_dict = dict(zip(pmarker, markers_pd[:len(pmarker)]))"
   ]
  },
  {
   "cell_type": "code",
   "execution_count": 46,
   "metadata": {
    "ExecuteTime": {
     "end_time": "2023-12-02T08:10:20.096203Z",
     "start_time": "2023-12-02T08:10:20.087180Z"
    }
   },
   "outputs": [
    {
     "data": {
      "text/plain": [
       "{'ESO362-G18': 'o',\n",
       " 'NGC2992': 's',\n",
       " 'NGC4151': '^',\n",
       " 'NGC7582': 'v',\n",
       " 'NGC1365': 'p'}"
      ]
     },
     "execution_count": 46,
     "metadata": {},
     "output_type": "execute_result"
    }
   ],
   "source": [
    "marker_dict"
   ]
  },
  {
   "cell_type": "markdown",
   "metadata": {},
   "source": [
    "    if marker_n is not None:\n",
    "    #Get the scalar map, plot the data using the plot_data function above\n",
    "        pmarker=data[marker_n].drop_duplicates()\n",
    "        marker_dict = dict(zip(pmarker, markers_pd[:len(pmarker)]))"
   ]
  },
  {
   "cell_type": "code",
   "execution_count": null,
   "metadata": {
    "ExecuteTime": {
     "end_time": "2023-07-26T06:35:01.100381Z",
     "start_time": "2023-07-26T06:35:01.091184Z"
    }
   },
   "outputs": [],
   "source": [
    "marker_dict"
   ]
  },
  {
   "cell_type": "markdown",
   "metadata": {},
   "source": [
    "        pmarker=data[marker_n].drop_duplicates()\n",
    "        marker_dict = dict(zip(pmarker, markers_pd[:len(pmarker)]))"
   ]
  },
  {
   "cell_type": "code",
   "execution_count": 47,
   "metadata": {
    "ExecuteTime": {
     "end_time": "2023-12-02T08:10:24.604271Z",
     "start_time": "2023-12-02T08:10:24.578357Z"
    }
   },
   "outputs": [],
   "source": [
    "def plot_errorbar_cmap(ax,data,x,y,xerr=None,yerr=None,color_n=None,marker_n=None,size_n=None,logx=False,logy=False,blank_plot=False):    \n",
    "        \n",
    "    sm = cmap_setup(cmap='viridis', min_freq=min(data[color_n]), max_freq=max(data[color_n])) #Greys\n",
    "    cbar = fig.colorbar(sm,fraction=0.046, pad=0.04)\n",
    "    cbar.set_label(str.upper(color_n))\n",
    "    \n",
    "    for row in range(len(data)):    \n",
    "        if xerr==None:\n",
    "            x_=0\n",
    "        else:\n",
    "            x_=data.loc[row][xerr]\n",
    "            \n",
    "        if yerr==None:\n",
    "            y_=0\n",
    "        else:\n",
    "            y_=data.loc[row][yerr]    \n",
    "         \n",
    "        if y_<0:\n",
    "            y_=0\n",
    "            \n",
    "        px=data.loc[row][x]        \n",
    "        py=data.loc[row][y]\n",
    "                 \n",
    "        colorval = sm.to_rgba(data.loc[row][color_n] )\n",
    "        marker=marker_dict[data.loc[row][marker_n]]             \n",
    "        label=data.loc[row]['name']\n",
    "        \n",
    "        \n",
    "        if size_n ==None :\n",
    "            size=10\n",
    "        else:\n",
    "            minsize=min(data[size_n])\n",
    "            maxsize=max(data[size_n])\n",
    "            size=5+(data.loc[row][size_n]-minsize)/(maxsize-minsize)*3   \n",
    "        \n",
    "        #print(px,py,py+data.loc[row]['lag_lower'],py+data.loc[row]['lag_upper'])\n",
    "        #pyerr= data.loc[row]['iccf_tau_error']\n",
    "        #pyerr_upper= float(pyerr.split('/')[0])\n",
    "        #pyerr_lower= float(pyerr.split('/')[1])\n",
    "        #if x_>0 and y_>0:\n",
    "            #if px>x_ and py>y_ :\n",
    "        if abs(px)>= abs(x_) and abs(py)>=abs(y_):\n",
    "            if blank_plot:\n",
    "                ax.errorbar(\n",
    "                    x=px,\n",
    "                    y=py,\n",
    "                    xerr=x_,\n",
    "                    yerr=y_,\n",
    "                    #linestyle='--', \n",
    "                    marker=marker,\n",
    "                    markersize=11, color=colorval,mec=colorval,ecolor=colorval,\n",
    "                    elinewidth=2,ls='',fillstyle='none',\n",
    "                    label=label,alpha=1.0)    \n",
    "                \n",
    "            \n",
    "            else:           \n",
    "                ax.errorbar(\n",
    "                    x=px,\n",
    "                    y=py,\n",
    "                    xerr=x_,\n",
    "                    yerr=y_,\n",
    "                    #linestyle='--', \n",
    "                    marker=marker,\n",
    "                    markersize=11, color=colorval,\n",
    "                    label=label,alpha=1.0)      \n",
    "        #ax.vlines(x=px,ymin=py+pyerr_lower, ymax=py+pyerr_upper,linestyle='-',lw=2,color=colorval,)                \n",
    "    return ax\n"
   ]
  },
  {
   "cell_type": "code",
   "execution_count": 48,
   "metadata": {
    "ExecuteTime": {
     "end_time": "2023-12-02T08:10:25.429567Z",
     "start_time": "2023-12-02T08:10:25.405306Z"
    }
   },
   "outputs": [],
   "source": [
    "def plot_errorbar(ax,data,x,y,xerr=None,yerr=None,color_n=None,marker_n=None,size_n=None,logx=False,logy=False,blank_plot=False):    \n",
    "\n",
    "    if color_n==None:    \n",
    "        colorval='black'\n",
    "    else:\n",
    "        colorval=color_n\n",
    "        \n",
    "    \n",
    "    for row in range(len(data)):    \n",
    "        if xerr==None:\n",
    "            x_=0\n",
    "        else:\n",
    "            x_=data.loc[row][xerr]\n",
    "            \n",
    "        if yerr==None:\n",
    "            y_=0\n",
    "        else:\n",
    "            y_=data.loc[row][yerr]    \n",
    "         \n",
    "        if y_<0:\n",
    "            y_=0\n",
    "            \n",
    "        px=data.loc[row][x]        \n",
    "        py=data.loc[row][y]\n",
    "                 \n",
    "        marker=marker_dict[data.loc[row][marker_n]]             \n",
    "        label=data.loc[row]['name']\n",
    "        \n",
    "        \n",
    "        if size_n ==None :\n",
    "            size=10\n",
    "        else:\n",
    "            minsize=min(data[size_n])\n",
    "            maxsize=max(data[size_n])\n",
    "            size=5+(data.loc[row][size_n]-minsize)/(maxsize-minsize)*3   \n",
    "        \n",
    "        #print(px,py,py+data.loc[row]['lag_lower'],py+data.loc[row]['lag_upper'])\n",
    "        #pyerr= data.loc[row]['iccf_tau_error']\n",
    "        #pyerr_upper= float(pyerr.split('/')[0])\n",
    "        #pyerr_lower= float(pyerr.split('/')[1])\n",
    "        #if x_>0 and y_>0:\n",
    "            #if px>x_ and py>y_ :\n",
    "        if abs(px)>= abs(x_) and abs(py)>=abs(y_):\n",
    "            if blank_plot:\n",
    "                ax.errorbar(\n",
    "                    x=px,\n",
    "                    y=py,\n",
    "                    xerr=x_,\n",
    "                    yerr=y_,\n",
    "                    #linestyle='--', \n",
    "                    marker=marker,\n",
    "                    markersize=11, color=colorval,mec=colorval,ecolor=colorval,\n",
    "                    elinewidth=2,ls='',fillstyle='none',\n",
    "                    label=label,alpha=1.0)    \n",
    "                \n",
    "            \n",
    "            else:           \n",
    "                ax.errorbar(\n",
    "                    x=px,\n",
    "                    y=py,\n",
    "                    xerr=x_,\n",
    "                    yerr=y_,\n",
    "                    #linestyle='--', \n",
    "                    marker=marker,\n",
    "                    markersize=11, color=colorval,\n",
    "                    label=label,alpha=1.0)      \n",
    "        #ax.vlines(x=px,ymin=py+pyerr_lower, ymax=py+pyerr_upper,linestyle='-',lw=2,color=colorval,)                \n",
    "    return ax\n"
   ]
  },
  {
   "cell_type": "code",
   "execution_count": 49,
   "metadata": {
    "ExecuteTime": {
     "end_time": "2023-12-02T08:10:26.127427Z",
     "start_time": "2023-12-02T08:10:26.108943Z"
    }
   },
   "outputs": [],
   "source": [
    "def plot_errorbar_outlier(ax,data,x,y,xerr=None,yerr=None,color_n=None,marker_n=None,size_n=None,logx=False,logy=False,blank_plot=False):    \n",
    "\n",
    "    if color_n==None:    \n",
    "        colorval='black'\n",
    "    else:\n",
    "        colorval=color_n\n",
    "        \n",
    "    \n",
    "    for row in range(len(data)):    \n",
    "        if xerr==None:\n",
    "            x_=0\n",
    "        else:\n",
    "            x_=data.loc[row][xerr]\n",
    "            \n",
    "        if yerr==None:\n",
    "            y_=0\n",
    "        else:\n",
    "            y_=data.loc[row][yerr]    \n",
    "         \n",
    "        if y_<0:\n",
    "            y_=0\n",
    "            \n",
    "        px=data.loc[row][x]        \n",
    "        py=data.loc[row][y]\n",
    "                 \n",
    "        marker=marker_dict[data.loc[row][marker_n]]             \n",
    "        label=data.loc[row]['name']\n",
    "        \n",
    "        \n",
    "        \n",
    "        if size_n ==None :\n",
    "            size=10\n",
    "        else:\n",
    "            minsize=min(data[size_n])\n",
    "            maxsize=max(data[size_n])\n",
    "            size=5+(data.loc[row][size_n]-minsize)/(maxsize-minsize)*3   \n",
    "        \n",
    "        #print(px,py,py+data.loc[row]['lag_lower'],py+data.loc[row]['lag_upper'])\n",
    "        #pyerr= data.loc[row]['iccf_tau_error']\n",
    "        #pyerr_upper= float(pyerr.split('/')[0])\n",
    "        #pyerr_lower= float(pyerr.split('/')[1])\n",
    "        #if x_>0 and y_>0:\n",
    "            #if px>x_ and py>y_ :\n",
    "        if abs(px)>= abs(x_) and abs(py)>=abs(y_):\n",
    "            if label=='ESO362-G18':\n",
    "                ax.errorbar(\n",
    "                    x=px,\n",
    "                    y=py,\n",
    "                    xerr=x_,\n",
    "                    yerr=y_,\n",
    "                    #linestyle='--', \n",
    "                    marker=marker,\n",
    "                    markersize=11, color=colorval,mec=colorval,ecolor=colorval,\n",
    "                    elinewidth=2,ls='',fillstyle='none',\n",
    "                    label=label,alpha=1.0)    \n",
    "                \n",
    "            \n",
    "            else:           \n",
    "                ax.errorbar(\n",
    "                    x=px,\n",
    "                    y=py,\n",
    "                    xerr=x_,\n",
    "                    yerr=y_,\n",
    "                    #linestyle='--', \n",
    "                    marker=marker,\n",
    "                    markersize=11, color=colorval,\n",
    "                    label=label,alpha=1.0)      \n",
    "        #ax.vlines(x=px,ymin=py+pyerr_lower, ymax=py+pyerr_upper,linestyle='-',lw=2,color=colorval,)                \n",
    "    return ax\n"
   ]
  },
  {
   "cell_type": "code",
   "execution_count": null,
   "metadata": {},
   "outputs": [],
   "source": []
  },
  {
   "cell_type": "markdown",
   "metadata": {},
   "source": [
    "# result"
   ]
  },
  {
   "cell_type": "code",
   "execution_count": null,
   "metadata": {},
   "outputs": [],
   "source": []
  },
  {
   "cell_type": "code",
   "execution_count": null,
   "metadata": {},
   "outputs": [],
   "source": []
  },
  {
   "cell_type": "markdown",
   "metadata": {
    "ExecuteTime": {
     "end_time": "2023-04-01T04:07:41.609122Z",
     "start_time": "2023-04-01T04:07:41.215332Z"
    }
   },
   "source": [
    "from astropy.cosmology import FlatLambdaCDM,Planck13,Planck15,z_at_value\n",
    "from astropy import units as u\n",
    "from astropy.cosmology import LambdaCDM\n",
    "cosmo = LambdaCDM(H0=70, Om0=0.27, Ode0=0.73)"
   ]
  },
  {
   "cell_type": "markdown",
   "metadata": {},
   "source": [
    "## slab_zgauss"
   ]
  },
  {
   "cell_type": "markdown",
   "metadata": {
    "ExecuteTime": {
     "end_time": "2023-01-07T08:46:55.216551Z",
     "start_time": "2023-01-07T08:46:55.199900Z"
    }
   },
   "source": [
    "slab_cflux_zgauss_result=pd.read_csv('/Users/lyubing/Downloads/00slab_cflux_zgauss.csv',header=0,delimiter=',')#,,header=0)"
   ]
  },
  {
   "cell_type": "markdown",
   "metadata": {
    "ExecuteTime": {
     "end_time": "2023-01-07T07:48:39.565339Z",
     "start_time": "2023-01-07T07:48:39.537287Z"
    }
   },
   "source": [
    "slab_cflux_zgauss_result.to_excel('/Users/lyubing/Downloads/OXCLAGN_slab_zgauss.xlsx',index=False)"
   ]
  },
  {
   "cell_type": "markdown",
   "metadata": {
    "ExecuteTime": {
     "end_time": "2023-01-07T08:47:02.510529Z",
     "start_time": "2023-01-07T08:47:02.490805Z"
    }
   },
   "source": [
    "#slab_zgauss_result.columns=['name','obsid','log_f','log_f_err','zphabs_nh','zphabs_nh_err','phoindex','phoindex_err','zgaussLineE','zgaussLineE_err','zgaussSigma','zgaussSigma_err','chi_2','bins','rechi_2']\n",
    "for i in range(len(slab_cflux_zgauss_result)):\n",
    "    slab_cflux_zgauss_result.loc[i,'logmass']= name_mass_dict[slab_cflux_zgauss_result.loc[i,'name']]   \n",
    "slab_cflux_zgauss_result['logLedd']= np.log10(1.26e38)+slab_cflux_zgauss_result['logmass']\n",
    "\n",
    "\n",
    "for i in range(len(slab_cflux_zgauss_result)):\n",
    "    slab_cflux_zgauss_result.loc[i,'redshift']= name_redshift_dict[slab_cflux_zgauss_result.loc[i,'name']]   \n",
    "    slab_cflux_zgauss_result.loc[i,'D_cm']= cosmo.luminosity_distance(z=name_redshift_dict[slab_cflux_zgauss_result.loc[i,'name']]).to(u.cm).value \n",
    "       \n",
    "slab_cflux_zgauss_result['log_Lx/Ledd']=np.log10(4*np.pi*slab_cflux_zgauss_result['D_cm']**2)+slab_cflux_zgauss_result['log_f']-slab_cflux_zgauss_result['logLedd']\n"
   ]
  },
  {
   "cell_type": "markdown",
   "metadata": {
    "ExecuteTime": {
     "end_time": "2023-01-07T08:47:17.524191Z",
     "start_time": "2023-01-07T08:47:17.494510Z"
    }
   },
   "source": [
    "slab_cflux_zgauss_result.to_excel('/Users/lyubing/Downloads/OXCLAGN_slab_cflux_zgauss.xlsx',index=False)"
   ]
  },
  {
   "cell_type": "code",
   "execution_count": null,
   "metadata": {
    "ExecuteTime": {
     "end_time": "2023-01-05T12:05:00.371804Z",
     "start_time": "2023-01-05T12:05:00.330864Z"
    }
   },
   "outputs": [],
   "source": []
  },
  {
   "cell_type": "code",
   "execution_count": null,
   "metadata": {},
   "outputs": [],
   "source": []
  },
  {
   "cell_type": "markdown",
   "metadata": {},
   "source": [
    "## slab_pexrav"
   ]
  },
  {
   "cell_type": "markdown",
   "metadata": {
    "ExecuteTime": {
     "end_time": "2023-01-07T13:22:36.702492Z",
     "start_time": "2023-01-07T13:22:36.687982Z"
    }
   },
   "source": [
    "slab_cflux_pexrav_result=pd.read_csv('/Users/lyubing/Downloads/00slab_cflux_pexrav.py',delimiter=',',header=0)"
   ]
  },
  {
   "cell_type": "markdown",
   "metadata": {
    "ExecuteTime": {
     "end_time": "2023-01-07T13:22:39.646108Z",
     "start_time": "2023-01-07T13:22:39.618139Z"
    }
   },
   "source": [
    "for i in range(len(slab_cflux_pexrav_result)):\n",
    "    slab_cflux_pexrav_result.loc[i,'logmass']= name_mass_dict[slab_cflux_pexrav_result.loc[i,'name']]\n",
    "slab_cflux_pexrav_result['logLedd']= np.log10(1.26e38)+slab_cflux_pexrav_result['logmass']\n",
    "\n",
    "\n",
    "for i in range(len(slab_cflux_pexrav_result)):\n",
    "    slab_cflux_pexrav_result.loc[i,'redshift']= name_redshift_dict[slab_cflux_pexrav_result.loc[i,'name']]\n",
    "    slab_cflux_pexrav_result.loc[i,'D_cm']= cosmo.luminosity_distance(z=name_redshift_dict[slab_cflux_pexrav_result.loc[i,'name']]).to(u.cm).value\n",
    "       \n",
    "slab_cflux_pexrav_result['log_Lx/Ledd']=np.log10(4*np.pi*slab_cflux_pexrav_result['D_cm']**2)+slab_cflux_pexrav_result['log_f']-slab_cflux_pexrav_result['logLedd']"
   ]
  },
  {
   "cell_type": "markdown",
   "metadata": {
    "ExecuteTime": {
     "end_time": "2023-01-07T13:22:41.009297Z",
     "start_time": "2023-01-07T13:22:40.981395Z"
    }
   },
   "source": [
    "slab_cflux_pexrav_result.to_excel('/Users/lyubing/Downloads/OXCLAGN_slab_cflux_pexrav.xlsx',index=False)"
   ]
  },
  {
   "cell_type": "code",
   "execution_count": null,
   "metadata": {
    "ExecuteTime": {
     "end_time": "2023-01-07T13:22:41.600950Z",
     "start_time": "2023-01-07T13:22:41.565683Z"
    }
   },
   "outputs": [],
   "source": [
    "slab_cflux_pexrav_result"
   ]
  },
  {
   "cell_type": "code",
   "execution_count": null,
   "metadata": {},
   "outputs": [],
   "source": []
  },
  {
   "cell_type": "code",
   "execution_count": null,
   "metadata": {},
   "outputs": [],
   "source": []
  },
  {
   "cell_type": "markdown",
   "metadata": {},
   "source": [
    "## slab_pexrav_fscat"
   ]
  },
  {
   "cell_type": "markdown",
   "metadata": {
    "ExecuteTime": {
     "end_time": "2023-01-07T14:05:01.789434Z",
     "start_time": "2023-01-07T14:05:01.762110Z"
    }
   },
   "source": [
    "slab_cflux_pexrav_fscat_result=pd.read_csv('/Users/lyubing/Downloads/00slab_cflux_pexrav_fscat.csv',delimiter=',',header=0)\n",
    "\n",
    "for i in range(len(slab_cflux_pexrav_fscat_result)):\n",
    "    slab_cflux_pexrav_fscat_result.loc[i,'logmass']= name_mass_dict[slab_cflux_pexrav_fscat_result.loc[i,'name']]\n",
    "slab_cflux_pexrav_fscat_result['logLedd']= np.log10(1.26e38)+slab_cflux_pexrav_fscat_result['logmass']\n",
    "\n",
    "\n",
    "for i in range(len(slab_cflux_pexrav_fscat_result)):\n",
    "    slab_cflux_pexrav_fscat_result.loc[i,'redshift']= name_redshift_dict[slab_cflux_pexrav_fscat_result.loc[i,'name']]\n",
    "    slab_cflux_pexrav_fscat_result.loc[i,'D_cm']= cosmo.luminosity_distance(z=name_redshift_dict[slab_cflux_pexrav_fscat_result.loc[i,'name']]).to(u.cm).value\n",
    "       \n",
    "slab_cflux_pexrav_fscat_result['log_Lx/Ledd']=np.log10(4*np.pi*slab_cflux_pexrav_fscat_result['D_cm']**2)+slab_cflux_pexrav_fscat_result['log_f']-slab_cflux_pexrav_fscat_result['logLedd']\n"
   ]
  },
  {
   "cell_type": "markdown",
   "metadata": {
    "ExecuteTime": {
     "end_time": "2023-01-07T14:05:02.079245Z",
     "start_time": "2023-01-07T14:05:02.050284Z"
    }
   },
   "source": [
    "slab_cflux_pexrav_fscat_result.to_excel('/Users/lyubing/Downloads/OXCLAGN_slab_cflux_pexrav_fscat.xlsx',index=False)"
   ]
  },
  {
   "cell_type": "code",
   "execution_count": null,
   "metadata": {
    "ExecuteTime": {
     "end_time": "2023-01-07T13:58:04.201399Z",
     "start_time": "2023-01-07T13:58:04.171748Z"
    }
   },
   "outputs": [],
   "source": [
    "slab_cflux_pexrav_fscat_result"
   ]
  },
  {
   "cell_type": "markdown",
   "metadata": {},
   "source": [
    "## plot_slab"
   ]
  },
  {
   "cell_type": "markdown",
   "metadata": {
    "ExecuteTime": {
     "end_time": "2023-06-14T05:03:56.949149Z",
     "start_time": "2023-06-14T05:03:56.878502Z"
    }
   },
   "source": [
    "slab_result_obs=pd.read_excel('/Users/lyubing/Downloads/OXCLAGN/OXCLAGN_jointfit.xlsx',sheet_name='pexrav')\n",
    "\n",
    "for i in range(len(slab_result_obs)):\n",
    "    slab_result_obs.loc[i,'logmass']= name_mass_dict[slab_result_obs.loc[i,'name']]\n",
    "slab_result_obs['logLedd']= np.log10(1.26e38)+slab_result_obs['logmass']\n",
    "\n",
    "for i in range(len(slab_result_obs)):\n",
    "    slab_result_obs.loc[i,'redshift']= name_redshift_dict[slab_result_obs.loc[i,'name']]\n",
    "    slab_result_obs.loc[i,'D_cm']= cosmo.luminosity_distance(z=name_redshift_dict[slab_result_obs.loc[i,'name']]).to(u.cm).value\n",
    "\n",
    "slab_result_obs['logLx']=np.log10(4*np.pi)+np.log10(slab_result_obs['D_cm'])*2.0+slab_result_obs['log_f']\n",
    "slab_result_obs['log_Lx/Ledd']=slab_result_obs['logLx']-slab_result_obs['logLedd']  \n",
    "\n",
    "slab_result_obs['logLx_10to50keV']=np.log10(4*np.pi)+np.log10(slab_result_obs['D_cm'])*2.0+slab_result_obs['log_f_10to50keV']\n",
    "slab_result_obs['log_Lx_10to50keV/Ledd']=slab_result_obs['logLx_10to50keV']-slab_result_obs['logLedd'] "
   ]
  },
  {
   "cell_type": "markdown",
   "metadata": {
    "ExecuteTime": {
     "end_time": "2023-04-11T13:06:51.892104Z",
     "start_time": "2023-04-11T13:06:51.881479Z"
    }
   },
   "source": [
    "slab_result_obs['log_f']"
   ]
  },
  {
   "cell_type": "code",
   "execution_count": null,
   "metadata": {},
   "outputs": [],
   "source": []
  },
  {
   "cell_type": "markdown",
   "metadata": {},
   "source": [
    "### slabintrinsicL"
   ]
  },
  {
   "cell_type": "code",
   "execution_count": 52,
   "metadata": {
    "ExecuteTime": {
     "end_time": "2023-12-02T08:13:07.428878Z",
     "start_time": "2023-12-02T08:13:07.376309Z"
    }
   },
   "outputs": [],
   "source": [
    "#slab_result=pd.read_excel('/Users/lyubing/Downloads/OXCLAGN/OXCLAGN_intrinsicL.xlsx',sheet_name='slab_final')\n",
    "#slab_result=pd.read_excel('/Users/lyubing/Downloads/OXCLAGN/OXCLAGN_jointfit.xlsx',sheet_name='pexrav')\n",
    "slab_result=pd.read_excel('/Users/lyubing/Downloads/OXCLAGN/OXCLAGN_jointfit.xlsx',sheet_name='pexrav')\n",
    "\n",
    "slab_result=slab_result[slab_result['log_fobs'].notnull()]\n",
    "\n",
    "slab_result=slab_result.sort_values(['name','obsid'])\n",
    "\n",
    "slab_result=drop_index(slab_result)\n"
   ]
  },
  {
   "cell_type": "code",
   "execution_count": 53,
   "metadata": {
    "ExecuteTime": {
     "end_time": "2023-12-02T08:13:08.643412Z",
     "start_time": "2023-12-02T08:13:08.607457Z"
    }
   },
   "outputs": [
    {
     "data": {
      "text/html": [
       "<div>\n",
       "<style scoped>\n",
       "    .dataframe tbody tr th:only-of-type {\n",
       "        vertical-align: middle;\n",
       "    }\n",
       "\n",
       "    .dataframe tbody tr th {\n",
       "        vertical-align: top;\n",
       "    }\n",
       "\n",
       "    .dataframe thead th {\n",
       "        text-align: right;\n",
       "    }\n",
       "</style>\n",
       "<table border=\"1\" class=\"dataframe\">\n",
       "  <thead>\n",
       "    <tr style=\"text-align: right;\">\n",
       "      <th></th>\n",
       "      <th>name</th>\n",
       "      <th>obsid</th>\n",
       "      <th>obsid_</th>\n",
       "      <th>instrument</th>\n",
       "      <th>model</th>\n",
       "      <th>los_nh(10^22)</th>\n",
       "      <th>los_nh_err</th>\n",
       "      <th>phoindex</th>\n",
       "      <th>phoindex_err</th>\n",
       "      <th>Ecut</th>\n",
       "      <th>...</th>\n",
       "      <th>log_fobs</th>\n",
       "      <th>log_fobs_err</th>\n",
       "      <th>log_fobs10to50</th>\n",
       "      <th>log_fobs10to50_err</th>\n",
       "      <th>log_fint</th>\n",
       "      <th>log_fint_err</th>\n",
       "      <th>log_fint10to50</th>\n",
       "      <th>log_fint10to50_err</th>\n",
       "      <th>log_fnorm</th>\n",
       "      <th>log_fnorm_err</th>\n",
       "    </tr>\n",
       "  </thead>\n",
       "  <tbody>\n",
       "    <tr>\n",
       "      <th>0</th>\n",
       "      <td>ESO362-G18</td>\n",
       "      <td>60201046002</td>\n",
       "      <td>0790810101/60201046002</td>\n",
       "      <td>XMM-Newton/NuSTAR</td>\n",
       "      <td>NaN</td>\n",
       "      <td>0.00</td>\n",
       "      <td>-1.00</td>\n",
       "      <td>1.49</td>\n",
       "      <td>0.00</td>\n",
       "      <td>200.0</td>\n",
       "      <td>...</td>\n",
       "      <td>-10.931</td>\n",
       "      <td>0.001</td>\n",
       "      <td>-11.243</td>\n",
       "      <td>0.001</td>\n",
       "      <td>-10.942</td>\n",
       "      <td>0.001</td>\n",
       "      <td>-11.244</td>\n",
       "      <td>0.001</td>\n",
       "      <td>-10.928415</td>\n",
       "      <td>0.004405</td>\n",
       "    </tr>\n",
       "    <tr>\n",
       "      <th>1</th>\n",
       "      <td>NGC1365</td>\n",
       "      <td>60002046002</td>\n",
       "      <td>NaN</td>\n",
       "      <td>NaN</td>\n",
       "      <td>NaN</td>\n",
       "      <td>15.93</td>\n",
       "      <td>3.15</td>\n",
       "      <td>1.85</td>\n",
       "      <td>0.10</td>\n",
       "      <td>320.8</td>\n",
       "      <td>...</td>\n",
       "      <td>-11.017</td>\n",
       "      <td>0.003</td>\n",
       "      <td>NaN</td>\n",
       "      <td>NaN</td>\n",
       "      <td>-10.790</td>\n",
       "      <td>0.004</td>\n",
       "      <td>NaN</td>\n",
       "      <td>NaN</td>\n",
       "      <td>-10.784267</td>\n",
       "      <td>0.098674</td>\n",
       "    </tr>\n",
       "    <tr>\n",
       "      <th>2</th>\n",
       "      <td>NGC1365</td>\n",
       "      <td>60002046003</td>\n",
       "      <td>NaN</td>\n",
       "      <td>NaN</td>\n",
       "      <td>NaN</td>\n",
       "      <td>13.26</td>\n",
       "      <td>2.01</td>\n",
       "      <td>1.68</td>\n",
       "      <td>0.05</td>\n",
       "      <td>200.0</td>\n",
       "      <td>...</td>\n",
       "      <td>-10.964</td>\n",
       "      <td>0.002</td>\n",
       "      <td>NaN</td>\n",
       "      <td>NaN</td>\n",
       "      <td>-10.726</td>\n",
       "      <td>0.006</td>\n",
       "      <td>NaN</td>\n",
       "      <td>NaN</td>\n",
       "      <td>-10.715956</td>\n",
       "      <td>0.050153</td>\n",
       "    </tr>\n",
       "    <tr>\n",
       "      <th>3</th>\n",
       "      <td>NGC1365</td>\n",
       "      <td>60702058002</td>\n",
       "      <td>NaN</td>\n",
       "      <td>NaN</td>\n",
       "      <td>NaN</td>\n",
       "      <td>21.28</td>\n",
       "      <td>2.53</td>\n",
       "      <td>1.65</td>\n",
       "      <td>0.05</td>\n",
       "      <td>200.0</td>\n",
       "      <td>...</td>\n",
       "      <td>-11.171</td>\n",
       "      <td>0.003</td>\n",
       "      <td>NaN</td>\n",
       "      <td>NaN</td>\n",
       "      <td>-10.979</td>\n",
       "      <td>0.005</td>\n",
       "      <td>NaN</td>\n",
       "      <td>NaN</td>\n",
       "      <td>-10.962933</td>\n",
       "      <td>0.049280</td>\n",
       "    </tr>\n",
       "    <tr>\n",
       "      <th>4</th>\n",
       "      <td>NGC1365</td>\n",
       "      <td>60702058004</td>\n",
       "      <td>NaN</td>\n",
       "      <td>NaN</td>\n",
       "      <td>NaN</td>\n",
       "      <td>25.81</td>\n",
       "      <td>3.07</td>\n",
       "      <td>1.79</td>\n",
       "      <td>0.05</td>\n",
       "      <td>200.0</td>\n",
       "      <td>...</td>\n",
       "      <td>-11.155</td>\n",
       "      <td>0.003</td>\n",
       "      <td>NaN</td>\n",
       "      <td>NaN</td>\n",
       "      <td>-10.924</td>\n",
       "      <td>0.005</td>\n",
       "      <td>NaN</td>\n",
       "      <td>NaN</td>\n",
       "      <td>-10.911374</td>\n",
       "      <td>0.053077</td>\n",
       "    </tr>\n",
       "    <tr>\n",
       "      <th>5</th>\n",
       "      <td>NGC1365</td>\n",
       "      <td>60702058006</td>\n",
       "      <td>NaN</td>\n",
       "      <td>NaN</td>\n",
       "      <td>NaN</td>\n",
       "      <td>36.61</td>\n",
       "      <td>10.50</td>\n",
       "      <td>1.76</td>\n",
       "      <td>0.10</td>\n",
       "      <td>200.0</td>\n",
       "      <td>...</td>\n",
       "      <td>-11.331</td>\n",
       "      <td>0.007</td>\n",
       "      <td>NaN</td>\n",
       "      <td>NaN</td>\n",
       "      <td>-11.126</td>\n",
       "      <td>0.006</td>\n",
       "      <td>NaN</td>\n",
       "      <td>NaN</td>\n",
       "      <td>-11.118011</td>\n",
       "      <td>0.142854</td>\n",
       "    </tr>\n",
       "    <tr>\n",
       "      <th>6</th>\n",
       "      <td>NGC1365</td>\n",
       "      <td>60702058008</td>\n",
       "      <td>NaN</td>\n",
       "      <td>NaN</td>\n",
       "      <td>NaN</td>\n",
       "      <td>13.95</td>\n",
       "      <td>0.81</td>\n",
       "      <td>1.70</td>\n",
       "      <td>0.05</td>\n",
       "      <td>200.0</td>\n",
       "      <td>...</td>\n",
       "      <td>-11.099</td>\n",
       "      <td>0.003</td>\n",
       "      <td>NaN</td>\n",
       "      <td>NaN</td>\n",
       "      <td>-10.906</td>\n",
       "      <td>0.039</td>\n",
       "      <td>NaN</td>\n",
       "      <td>NaN</td>\n",
       "      <td>-10.900533</td>\n",
       "      <td>0.050697</td>\n",
       "    </tr>\n",
       "    <tr>\n",
       "      <th>7</th>\n",
       "      <td>NGC1365</td>\n",
       "      <td>60702058010</td>\n",
       "      <td>NaN</td>\n",
       "      <td>NaN</td>\n",
       "      <td>NaN</td>\n",
       "      <td>28.84</td>\n",
       "      <td>5.16</td>\n",
       "      <td>1.53</td>\n",
       "      <td>0.14</td>\n",
       "      <td>94.1</td>\n",
       "      <td>...</td>\n",
       "      <td>-11.252</td>\n",
       "      <td>0.003</td>\n",
       "      <td>NaN</td>\n",
       "      <td>NaN</td>\n",
       "      <td>-11.063</td>\n",
       "      <td>0.070</td>\n",
       "      <td>NaN</td>\n",
       "      <td>NaN</td>\n",
       "      <td>-11.038160</td>\n",
       "      <td>0.156973</td>\n",
       "    </tr>\n",
       "    <tr>\n",
       "      <th>8</th>\n",
       "      <td>NGC1365</td>\n",
       "      <td>60702058012</td>\n",
       "      <td>NaN</td>\n",
       "      <td>NaN</td>\n",
       "      <td>NaN</td>\n",
       "      <td>87.16</td>\n",
       "      <td>14.27</td>\n",
       "      <td>1.53</td>\n",
       "      <td>0.16</td>\n",
       "      <td>149.6</td>\n",
       "      <td>...</td>\n",
       "      <td>-11.506</td>\n",
       "      <td>0.004</td>\n",
       "      <td>NaN</td>\n",
       "      <td>NaN</td>\n",
       "      <td>-11.026</td>\n",
       "      <td>0.009</td>\n",
       "      <td>NaN</td>\n",
       "      <td>NaN</td>\n",
       "      <td>-11.009035</td>\n",
       "      <td>0.251835</td>\n",
       "    </tr>\n",
       "    <tr>\n",
       "      <th>9</th>\n",
       "      <td>NGC2992</td>\n",
       "      <td>60160371002</td>\n",
       "      <td>81055001/60160371002</td>\n",
       "      <td>Swift/NuSTAR</td>\n",
       "      <td>NaN</td>\n",
       "      <td>0.98</td>\n",
       "      <td>0.04</td>\n",
       "      <td>1.60</td>\n",
       "      <td>0.01</td>\n",
       "      <td>72.9</td>\n",
       "      <td>...</td>\n",
       "      <td>-10.196</td>\n",
       "      <td>0.002</td>\n",
       "      <td>-10.646</td>\n",
       "      <td>0.003</td>\n",
       "      <td>-10.163</td>\n",
       "      <td>0.002</td>\n",
       "      <td>-10.643</td>\n",
       "      <td>0.003</td>\n",
       "      <td>-10.130359</td>\n",
       "      <td>0.010484</td>\n",
       "    </tr>\n",
       "    <tr>\n",
       "      <th>10</th>\n",
       "      <td>NGC2992</td>\n",
       "      <td>90501623002</td>\n",
       "      <td>840920301/90501623002</td>\n",
       "      <td>XMM-Newton/NuSTAR</td>\n",
       "      <td>NaN</td>\n",
       "      <td>0.70</td>\n",
       "      <td>0.00</td>\n",
       "      <td>1.52</td>\n",
       "      <td>0.00</td>\n",
       "      <td>72.9</td>\n",
       "      <td>...</td>\n",
       "      <td>-10.058</td>\n",
       "      <td>0.000</td>\n",
       "      <td>-10.394</td>\n",
       "      <td>0.000</td>\n",
       "      <td>-10.037</td>\n",
       "      <td>0.000</td>\n",
       "      <td>-10.390</td>\n",
       "      <td>0.000</td>\n",
       "      <td>-10.005861</td>\n",
       "      <td>0.002903</td>\n",
       "    </tr>\n",
       "    <tr>\n",
       "      <th>11</th>\n",
       "      <td>NGC4151</td>\n",
       "      <td>60001111002</td>\n",
       "      <td>NaN</td>\n",
       "      <td>NaN</td>\n",
       "      <td>NaN</td>\n",
       "      <td>19.81</td>\n",
       "      <td>1.48</td>\n",
       "      <td>1.72</td>\n",
       "      <td>0.03</td>\n",
       "      <td>111.2</td>\n",
       "      <td>...</td>\n",
       "      <td>-9.676</td>\n",
       "      <td>0.001</td>\n",
       "      <td>-9.373</td>\n",
       "      <td>0.001</td>\n",
       "      <td>-9.677</td>\n",
       "      <td>0.007</td>\n",
       "      <td>-9.562</td>\n",
       "      <td>0.007</td>\n",
       "      <td>-9.653209</td>\n",
       "      <td>0.044987</td>\n",
       "    </tr>\n",
       "    <tr>\n",
       "      <th>12</th>\n",
       "      <td>NGC4151</td>\n",
       "      <td>60001111003</td>\n",
       "      <td>NaN</td>\n",
       "      <td>NaN</td>\n",
       "      <td>NaN</td>\n",
       "      <td>20.80</td>\n",
       "      <td>0.76</td>\n",
       "      <td>1.70</td>\n",
       "      <td>0.02</td>\n",
       "      <td>140.0</td>\n",
       "      <td>...</td>\n",
       "      <td>-9.743</td>\n",
       "      <td>0.001</td>\n",
       "      <td>-9.358</td>\n",
       "      <td>0.001</td>\n",
       "      <td>-9.611</td>\n",
       "      <td>0.003</td>\n",
       "      <td>-9.466</td>\n",
       "      <td>0.003</td>\n",
       "      <td>-9.594409</td>\n",
       "      <td>0.026359</td>\n",
       "    </tr>\n",
       "    <tr>\n",
       "      <th>13</th>\n",
       "      <td>NGC4151</td>\n",
       "      <td>60001111005</td>\n",
       "      <td>NaN</td>\n",
       "      <td>NaN</td>\n",
       "      <td>NaN</td>\n",
       "      <td>17.67</td>\n",
       "      <td>0.75</td>\n",
       "      <td>1.70</td>\n",
       "      <td>0.02</td>\n",
       "      <td>126.8</td>\n",
       "      <td>...</td>\n",
       "      <td>-9.663</td>\n",
       "      <td>0.000</td>\n",
       "      <td>-9.321</td>\n",
       "      <td>0.000</td>\n",
       "      <td>-9.601</td>\n",
       "      <td>0.003</td>\n",
       "      <td>-9.463</td>\n",
       "      <td>0.003</td>\n",
       "      <td>-9.582117</td>\n",
       "      <td>0.024184</td>\n",
       "    </tr>\n",
       "    <tr>\n",
       "      <th>14</th>\n",
       "      <td>NGC4151</td>\n",
       "      <td>60502017002</td>\n",
       "      <td>NaN</td>\n",
       "      <td>NaN</td>\n",
       "      <td>NaN</td>\n",
       "      <td>17.86</td>\n",
       "      <td>0.99</td>\n",
       "      <td>1.70</td>\n",
       "      <td>0.03</td>\n",
       "      <td>141.2</td>\n",
       "      <td>...</td>\n",
       "      <td>-9.752</td>\n",
       "      <td>0.001</td>\n",
       "      <td>-9.372</td>\n",
       "      <td>0.001</td>\n",
       "      <td>-9.603</td>\n",
       "      <td>0.004</td>\n",
       "      <td>-9.457</td>\n",
       "      <td>0.004</td>\n",
       "      <td>-9.587537</td>\n",
       "      <td>0.034660</td>\n",
       "    </tr>\n",
       "    <tr>\n",
       "      <th>15</th>\n",
       "      <td>NGC4151</td>\n",
       "      <td>60502017004</td>\n",
       "      <td>NaN</td>\n",
       "      <td>NaN</td>\n",
       "      <td>NaN</td>\n",
       "      <td>14.30</td>\n",
       "      <td>0.92</td>\n",
       "      <td>1.76</td>\n",
       "      <td>0.02</td>\n",
       "      <td>187.9</td>\n",
       "      <td>...</td>\n",
       "      <td>-9.595</td>\n",
       "      <td>0.001</td>\n",
       "      <td>-9.296</td>\n",
       "      <td>0.001</td>\n",
       "      <td>-9.574</td>\n",
       "      <td>0.004</td>\n",
       "      <td>-9.454</td>\n",
       "      <td>0.004</td>\n",
       "      <td>-9.563075</td>\n",
       "      <td>0.024524</td>\n",
       "    </tr>\n",
       "    <tr>\n",
       "      <th>16</th>\n",
       "      <td>NGC4151</td>\n",
       "      <td>60502017006</td>\n",
       "      <td>NaN</td>\n",
       "      <td>NaN</td>\n",
       "      <td>NaN</td>\n",
       "      <td>13.61</td>\n",
       "      <td>1.25</td>\n",
       "      <td>1.75</td>\n",
       "      <td>0.02</td>\n",
       "      <td>150.5</td>\n",
       "      <td>...</td>\n",
       "      <td>-9.599</td>\n",
       "      <td>0.001</td>\n",
       "      <td>-9.330</td>\n",
       "      <td>0.001</td>\n",
       "      <td>-9.648</td>\n",
       "      <td>0.006</td>\n",
       "      <td>-9.533</td>\n",
       "      <td>0.006</td>\n",
       "      <td>-9.630374</td>\n",
       "      <td>0.029140</td>\n",
       "    </tr>\n",
       "    <tr>\n",
       "      <th>17</th>\n",
       "      <td>NGC4151</td>\n",
       "      <td>60502017008</td>\n",
       "      <td>NaN</td>\n",
       "      <td>NaN</td>\n",
       "      <td>NaN</td>\n",
       "      <td>18.91</td>\n",
       "      <td>1.14</td>\n",
       "      <td>1.71</td>\n",
       "      <td>0.03</td>\n",
       "      <td>130.7</td>\n",
       "      <td>...</td>\n",
       "      <td>-9.755</td>\n",
       "      <td>0.001</td>\n",
       "      <td>-9.401</td>\n",
       "      <td>0.001</td>\n",
       "      <td>-9.657</td>\n",
       "      <td>0.005</td>\n",
       "      <td>-9.523</td>\n",
       "      <td>0.005</td>\n",
       "      <td>-9.640317</td>\n",
       "      <td>0.037985</td>\n",
       "    </tr>\n",
       "    <tr>\n",
       "      <th>18</th>\n",
       "      <td>NGC4151</td>\n",
       "      <td>60502017010</td>\n",
       "      <td>NaN</td>\n",
       "      <td>NaN</td>\n",
       "      <td>NaN</td>\n",
       "      <td>19.67</td>\n",
       "      <td>1.16</td>\n",
       "      <td>1.73</td>\n",
       "      <td>0.03</td>\n",
       "      <td>168.5</td>\n",
       "      <td>...</td>\n",
       "      <td>-9.725</td>\n",
       "      <td>0.001</td>\n",
       "      <td>-9.375</td>\n",
       "      <td>0.001</td>\n",
       "      <td>-9.638</td>\n",
       "      <td>0.005</td>\n",
       "      <td>-9.503</td>\n",
       "      <td>0.005</td>\n",
       "      <td>-9.624573</td>\n",
       "      <td>0.039006</td>\n",
       "    </tr>\n",
       "    <tr>\n",
       "      <th>19</th>\n",
       "      <td>NGC4151</td>\n",
       "      <td>60502017012</td>\n",
       "      <td>NaN</td>\n",
       "      <td>NaN</td>\n",
       "      <td>NaN</td>\n",
       "      <td>17.81</td>\n",
       "      <td>1.31</td>\n",
       "      <td>1.70</td>\n",
       "      <td>0.03</td>\n",
       "      <td>201.2</td>\n",
       "      <td>...</td>\n",
       "      <td>-9.717</td>\n",
       "      <td>0.001</td>\n",
       "      <td>-9.366</td>\n",
       "      <td>0.001</td>\n",
       "      <td>-9.686</td>\n",
       "      <td>0.006</td>\n",
       "      <td>-9.522</td>\n",
       "      <td>0.006</td>\n",
       "      <td>-9.671517</td>\n",
       "      <td>0.040361</td>\n",
       "    </tr>\n",
       "    <tr>\n",
       "      <th>20</th>\n",
       "      <td>NGC7582</td>\n",
       "      <td>60061318002</td>\n",
       "      <td>NaN</td>\n",
       "      <td>NaN</td>\n",
       "      <td>NaN</td>\n",
       "      <td>21.62</td>\n",
       "      <td>6.43</td>\n",
       "      <td>1.54</td>\n",
       "      <td>0.07</td>\n",
       "      <td>104.0</td>\n",
       "      <td>...</td>\n",
       "      <td>-11.177</td>\n",
       "      <td>0.005</td>\n",
       "      <td>-10.633</td>\n",
       "      <td>0.005</td>\n",
       "      <td>-11.110</td>\n",
       "      <td>0.039</td>\n",
       "      <td>-10.877</td>\n",
       "      <td>0.039</td>\n",
       "      <td>-11.089910</td>\n",
       "      <td>0.073755</td>\n",
       "    </tr>\n",
       "    <tr>\n",
       "      <th>21</th>\n",
       "      <td>NGC7582</td>\n",
       "      <td>60061318004</td>\n",
       "      <td>NaN</td>\n",
       "      <td>NaN</td>\n",
       "      <td>NaN</td>\n",
       "      <td>51.18</td>\n",
       "      <td>13.15</td>\n",
       "      <td>1.42</td>\n",
       "      <td>0.08</td>\n",
       "      <td>104.0</td>\n",
       "      <td>...</td>\n",
       "      <td>-11.349</td>\n",
       "      <td>0.006</td>\n",
       "      <td>-10.621</td>\n",
       "      <td>0.006</td>\n",
       "      <td>-11.192</td>\n",
       "      <td>0.070</td>\n",
       "      <td>-10.878</td>\n",
       "      <td>0.070</td>\n",
       "      <td>-11.165491</td>\n",
       "      <td>0.164055</td>\n",
       "    </tr>\n",
       "    <tr>\n",
       "      <th>22</th>\n",
       "      <td>NGC7582</td>\n",
       "      <td>60201003002</td>\n",
       "      <td>NaN</td>\n",
       "      <td>NaN</td>\n",
       "      <td>NaN</td>\n",
       "      <td>27.51</td>\n",
       "      <td>2.37</td>\n",
       "      <td>1.51</td>\n",
       "      <td>0.08</td>\n",
       "      <td>104.5</td>\n",
       "      <td>...</td>\n",
       "      <td>-10.912</td>\n",
       "      <td>0.002</td>\n",
       "      <td>-10.277</td>\n",
       "      <td>0.002</td>\n",
       "      <td>-10.546</td>\n",
       "      <td>0.009</td>\n",
       "      <td>-10.293</td>\n",
       "      <td>0.009</td>\n",
       "      <td>-10.523346</td>\n",
       "      <td>0.096443</td>\n",
       "    </tr>\n",
       "  </tbody>\n",
       "</table>\n",
       "<p>23 rows × 42 columns</p>\n",
       "</div>"
      ],
      "text/plain": [
       "          name        obsid                  obsid_         instrument  model  \\\n",
       "0   ESO362-G18  60201046002  0790810101/60201046002  XMM-Newton/NuSTAR    NaN   \n",
       "1      NGC1365  60002046002                     NaN                NaN    NaN   \n",
       "2      NGC1365  60002046003                     NaN                NaN    NaN   \n",
       "3      NGC1365  60702058002                     NaN                NaN    NaN   \n",
       "4      NGC1365  60702058004                     NaN                NaN    NaN   \n",
       "5      NGC1365  60702058006                     NaN                NaN    NaN   \n",
       "6      NGC1365  60702058008                     NaN                NaN    NaN   \n",
       "7      NGC1365  60702058010                     NaN                NaN    NaN   \n",
       "8      NGC1365  60702058012                     NaN                NaN    NaN   \n",
       "9      NGC2992  60160371002    81055001/60160371002       Swift/NuSTAR    NaN   \n",
       "10     NGC2992  90501623002   840920301/90501623002  XMM-Newton/NuSTAR    NaN   \n",
       "11     NGC4151  60001111002                     NaN                NaN    NaN   \n",
       "12     NGC4151  60001111003                     NaN                NaN    NaN   \n",
       "13     NGC4151  60001111005                     NaN                NaN    NaN   \n",
       "14     NGC4151  60502017002                     NaN                NaN    NaN   \n",
       "15     NGC4151  60502017004                     NaN                NaN    NaN   \n",
       "16     NGC4151  60502017006                     NaN                NaN    NaN   \n",
       "17     NGC4151  60502017008                     NaN                NaN    NaN   \n",
       "18     NGC4151  60502017010                     NaN                NaN    NaN   \n",
       "19     NGC4151  60502017012                     NaN                NaN    NaN   \n",
       "20     NGC7582  60061318002                     NaN                NaN    NaN   \n",
       "21     NGC7582  60061318004                     NaN                NaN    NaN   \n",
       "22     NGC7582  60201003002                     NaN                NaN    NaN   \n",
       "\n",
       "    los_nh(10^22)  los_nh_err  phoindex  phoindex_err   Ecut  ...  log_fobs  \\\n",
       "0            0.00       -1.00      1.49          0.00  200.0  ...   -10.931   \n",
       "1           15.93        3.15      1.85          0.10  320.8  ...   -11.017   \n",
       "2           13.26        2.01      1.68          0.05  200.0  ...   -10.964   \n",
       "3           21.28        2.53      1.65          0.05  200.0  ...   -11.171   \n",
       "4           25.81        3.07      1.79          0.05  200.0  ...   -11.155   \n",
       "5           36.61       10.50      1.76          0.10  200.0  ...   -11.331   \n",
       "6           13.95        0.81      1.70          0.05  200.0  ...   -11.099   \n",
       "7           28.84        5.16      1.53          0.14   94.1  ...   -11.252   \n",
       "8           87.16       14.27      1.53          0.16  149.6  ...   -11.506   \n",
       "9            0.98        0.04      1.60          0.01   72.9  ...   -10.196   \n",
       "10           0.70        0.00      1.52          0.00   72.9  ...   -10.058   \n",
       "11          19.81        1.48      1.72          0.03  111.2  ...    -9.676   \n",
       "12          20.80        0.76      1.70          0.02  140.0  ...    -9.743   \n",
       "13          17.67        0.75      1.70          0.02  126.8  ...    -9.663   \n",
       "14          17.86        0.99      1.70          0.03  141.2  ...    -9.752   \n",
       "15          14.30        0.92      1.76          0.02  187.9  ...    -9.595   \n",
       "16          13.61        1.25      1.75          0.02  150.5  ...    -9.599   \n",
       "17          18.91        1.14      1.71          0.03  130.7  ...    -9.755   \n",
       "18          19.67        1.16      1.73          0.03  168.5  ...    -9.725   \n",
       "19          17.81        1.31      1.70          0.03  201.2  ...    -9.717   \n",
       "20          21.62        6.43      1.54          0.07  104.0  ...   -11.177   \n",
       "21          51.18       13.15      1.42          0.08  104.0  ...   -11.349   \n",
       "22          27.51        2.37      1.51          0.08  104.5  ...   -10.912   \n",
       "\n",
       "    log_fobs_err  log_fobs10to50  log_fobs10to50_err  log_fint  log_fint_err  \\\n",
       "0          0.001         -11.243               0.001   -10.942         0.001   \n",
       "1          0.003             NaN                 NaN   -10.790         0.004   \n",
       "2          0.002             NaN                 NaN   -10.726         0.006   \n",
       "3          0.003             NaN                 NaN   -10.979         0.005   \n",
       "4          0.003             NaN                 NaN   -10.924         0.005   \n",
       "5          0.007             NaN                 NaN   -11.126         0.006   \n",
       "6          0.003             NaN                 NaN   -10.906         0.039   \n",
       "7          0.003             NaN                 NaN   -11.063         0.070   \n",
       "8          0.004             NaN                 NaN   -11.026         0.009   \n",
       "9          0.002         -10.646               0.003   -10.163         0.002   \n",
       "10         0.000         -10.394               0.000   -10.037         0.000   \n",
       "11         0.001          -9.373               0.001    -9.677         0.007   \n",
       "12         0.001          -9.358               0.001    -9.611         0.003   \n",
       "13         0.000          -9.321               0.000    -9.601         0.003   \n",
       "14         0.001          -9.372               0.001    -9.603         0.004   \n",
       "15         0.001          -9.296               0.001    -9.574         0.004   \n",
       "16         0.001          -9.330               0.001    -9.648         0.006   \n",
       "17         0.001          -9.401               0.001    -9.657         0.005   \n",
       "18         0.001          -9.375               0.001    -9.638         0.005   \n",
       "19         0.001          -9.366               0.001    -9.686         0.006   \n",
       "20         0.005         -10.633               0.005   -11.110         0.039   \n",
       "21         0.006         -10.621               0.006   -11.192         0.070   \n",
       "22         0.002         -10.277               0.002   -10.546         0.009   \n",
       "\n",
       "    log_fint10to50  log_fint10to50_err  log_fnorm  log_fnorm_err  \n",
       "0          -11.244               0.001 -10.928415       0.004405  \n",
       "1              NaN                 NaN -10.784267       0.098674  \n",
       "2              NaN                 NaN -10.715956       0.050153  \n",
       "3              NaN                 NaN -10.962933       0.049280  \n",
       "4              NaN                 NaN -10.911374       0.053077  \n",
       "5              NaN                 NaN -11.118011       0.142854  \n",
       "6              NaN                 NaN -10.900533       0.050697  \n",
       "7              NaN                 NaN -11.038160       0.156973  \n",
       "8              NaN                 NaN -11.009035       0.251835  \n",
       "9          -10.643               0.003 -10.130359       0.010484  \n",
       "10         -10.390               0.000 -10.005861       0.002903  \n",
       "11          -9.562               0.007  -9.653209       0.044987  \n",
       "12          -9.466               0.003  -9.594409       0.026359  \n",
       "13          -9.463               0.003  -9.582117       0.024184  \n",
       "14          -9.457               0.004  -9.587537       0.034660  \n",
       "15          -9.454               0.004  -9.563075       0.024524  \n",
       "16          -9.533               0.006  -9.630374       0.029140  \n",
       "17          -9.523               0.005  -9.640317       0.037985  \n",
       "18          -9.503               0.005  -9.624573       0.039006  \n",
       "19          -9.522               0.006  -9.671517       0.040361  \n",
       "20         -10.877               0.039 -11.089910       0.073755  \n",
       "21         -10.878               0.070 -11.165491       0.164055  \n",
       "22         -10.293               0.009 -10.523346       0.096443  \n",
       "\n",
       "[23 rows x 42 columns]"
      ]
     },
     "execution_count": 53,
     "metadata": {},
     "output_type": "execute_result"
    }
   ],
   "source": [
    "slab_result#.columns"
   ]
  },
  {
   "cell_type": "code",
   "execution_count": null,
   "metadata": {
    "ExecuteTime": {
     "end_time": "2023-11-26T12:54:28.527145Z",
     "start_time": "2023-11-26T12:54:28.515803Z"
    }
   },
   "outputs": [],
   "source": [
    "name_mass_dict"
   ]
  },
  {
   "cell_type": "code",
   "execution_count": null,
   "metadata": {},
   "outputs": [],
   "source": []
  },
  {
   "cell_type": "code",
   "execution_count": 54,
   "metadata": {
    "ExecuteTime": {
     "end_time": "2023-12-02T08:13:26.054624Z",
     "start_time": "2023-12-02T08:13:26.025817Z"
    }
   },
   "outputs": [],
   "source": [
    "for i in range(len(slab_result)):\n",
    "    slab_result.loc[i,'logmass']= name_mass_dict[slab_result.loc[i,'name']]\n",
    "    #slab_result.loc[i,'z']= name_redshift_dict[slab_result.loc[i,'name']]\n",
    "    \n",
    "slab_result['logLedd']= np.log10(1.26e38)+slab_result['logmass']\n",
    "\n",
    "for i in range(len(slab_result)):\n",
    "    slab_result.loc[i,'redshift']= name_redshift_dict[slab_result.loc[i,'name']]\n",
    "    slab_result.loc[i,'D_cm']= cosmo.luminosity_distance(z=name_redshift_dict[slab_result.loc[i,'name']]).to(u.cm).value\n",
    "\n",
    "\n",
    "slab_result['logLx_obs']=np.log10(4*np.pi)+np.log10(slab_result['D_cm'])*2.0+slab_result['log_fobs']\n",
    "slab_result['log_Lx_obs/Ledd']=slab_result['logLx_obs']-slab_result['logLedd']  \n",
    "slab_result['logLx_10to50keV_obs']=np.log10(4*np.pi)+np.log10(slab_result['D_cm'])*2.0+slab_result['log_fobs10to50']\n",
    "slab_result['log_Lx_10to50keV_obs/Ledd']=slab_result['logLx_10to50keV_obs']-slab_result['logLedd'] \n",
    "\n",
    "\n",
    "slab_result['logLx_int']=np.log10(4*np.pi)+np.log10(slab_result['D_cm'])*2.0+slab_result['log_fint']\n",
    "slab_result['log_Lx_int/Ledd']=slab_result['logLx_int']-slab_result['logLedd']  \n",
    "slab_result['logLx_10to50keV_int']=np.log10(4*np.pi)+np.log10(slab_result['D_cm'])*2.0+slab_result['log_fint10to50']\n",
    "slab_result['log_Lx_10to50keV_int/Ledd']=slab_result['logLx_10to50keV_int']-slab_result['logLedd'] \n"
   ]
  },
  {
   "cell_type": "code",
   "execution_count": null,
   "metadata": {
    "ExecuteTime": {
     "end_time": "2023-11-26T12:54:33.261816Z",
     "start_time": "2023-11-26T12:54:33.252098Z"
    }
   },
   "outputs": [],
   "source": [
    "slab_result.columns"
   ]
  },
  {
   "cell_type": "code",
   "execution_count": null,
   "metadata": {
    "ExecuteTime": {
     "end_time": "2023-11-26T12:54:33.928211Z",
     "start_time": "2023-11-26T12:54:33.907748Z"
    }
   },
   "outputs": [],
   "source": [
    "slab_result[['name','logLx_obs','logLx_10to50keV_obs','log_Lx_10to50keV_obs/Ledd']]"
   ]
  },
  {
   "cell_type": "code",
   "execution_count": null,
   "metadata": {
    "ExecuteTime": {
     "end_time": "2023-08-01T14:06:02.634570Z",
     "start_time": "2023-08-01T14:06:02.624898Z"
    }
   },
   "outputs": [],
   "source": [
    "slab_result['loglboledd']=slab_result['log_Lx_int/Ledd']+np.log10(9)  \n",
    "slab_result['lboledd']=10**slab_result['loglboledd']"
   ]
  },
  {
   "cell_type": "markdown",
   "metadata": {
    "ExecuteTime": {
     "end_time": "2023-08-01T14:06:03.106789Z",
     "start_time": "2023-08-01T14:06:03.095942Z"
    }
   },
   "source": [
    "slab_result['lboledd']#*5e23,slab_result['lboledd']*5e23"
   ]
  },
  {
   "cell_type": "code",
   "execution_count": null,
   "metadata": {
    "ExecuteTime": {
     "end_time": "2023-08-01T14:13:43.529917Z",
     "start_time": "2023-08-01T14:13:43.517380Z"
    }
   },
   "outputs": [],
   "source": []
  },
  {
   "cell_type": "code",
   "execution_count": null,
   "metadata": {
    "ExecuteTime": {
     "end_time": "2023-08-01T14:44:38.617481Z",
     "start_time": "2023-08-01T14:44:38.602267Z"
    }
   },
   "outputs": [],
   "source": [
    "slab_result['loglboledd']=slab_result['log_Lx_int/Ledd']+np.log10(10)  \n",
    "slab_result['lboledd']=10**slab_result['loglboledd']\n",
    "print(slab_result['lboledd']*100)\n",
    "print(slab_result['lboledd']*5e23)"
   ]
  },
  {
   "cell_type": "markdown",
   "metadata": {},
   "source": [
    "7.56"
   ]
  },
  {
   "cell_type": "code",
   "execution_count": null,
   "metadata": {
    "ExecuteTime": {
     "end_time": "2023-08-04T09:08:52.454333Z",
     "start_time": "2023-08-04T09:08:52.439017Z"
    }
   },
   "outputs": [],
   "source": [
    "slab_result['logmass']"
   ]
  },
  {
   "cell_type": "code",
   "execution_count": null,
   "metadata": {
    "ExecuteTime": {
     "end_time": "2023-07-04T06:06:29.075680Z",
     "start_time": "2023-07-04T06:06:29.065760Z"
    }
   },
   "outputs": [],
   "source": [
    "slab_result.columns"
   ]
  },
  {
   "cell_type": "code",
   "execution_count": null,
   "metadata": {
    "ExecuteTime": {
     "end_time": "2023-07-04T06:06:29.410658Z",
     "start_time": "2023-07-04T06:06:29.401387Z"
    }
   },
   "outputs": [],
   "source": [
    "name_DMpcs_ned_dict"
   ]
  },
  {
   "cell_type": "code",
   "execution_count": null,
   "metadata": {
    "ExecuteTime": {
     "end_time": "2023-07-04T06:06:29.653438Z",
     "start_time": "2023-07-04T06:06:29.643546Z"
    }
   },
   "outputs": [],
   "source": [
    "1*u.Mpc.to(u.cm)"
   ]
  },
  {
   "cell_type": "code",
   "execution_count": null,
   "metadata": {
    "ExecuteTime": {
     "end_time": "2023-10-29T12:13:45.588044Z",
     "start_time": "2023-10-29T12:13:45.576946Z"
    }
   },
   "outputs": [],
   "source": [
    "slab_result.columns"
   ]
  },
  {
   "cell_type": "code",
   "execution_count": null,
   "metadata": {
    "ExecuteTime": {
     "end_time": "2023-10-29T12:13:57.066553Z",
     "start_time": "2023-10-29T12:13:57.057692Z"
    }
   },
   "outputs": [],
   "source": [
    "slab_result['zcutoffplnorm'].values"
   ]
  },
  {
   "cell_type": "code",
   "execution_count": null,
   "metadata": {
    "ExecuteTime": {
     "end_time": "2023-10-29T12:33:39.072883Z",
     "start_time": "2023-10-29T12:33:39.063359Z"
    }
   },
   "outputs": [],
   "source": [
    "slab_result['zgaussnorm'].values"
   ]
  },
  {
   "cell_type": "code",
   "execution_count": null,
   "metadata": {
    "ExecuteTime": {
     "end_time": "2023-10-29T12:37:13.361393Z",
     "start_time": "2023-10-29T12:37:13.350147Z"
    }
   },
   "outputs": [],
   "source": [
    "slab_result['zgauss'].values"
   ]
  },
  {
   "cell_type": "markdown",
   "metadata": {},
   "source": [
    "### logLx_int_ned"
   ]
  },
  {
   "cell_type": "markdown",
   "metadata": {
    "ExecuteTime": {
     "end_time": "2023-08-04T09:17:46.845741Z",
     "start_time": "2023-08-04T09:17:46.827205Z"
    }
   },
   "source": [
    "for i in range(len(slab_result)):\n",
    "    slab_result.loc[i,'DMpc_ned']= name_DMpcs_ned_dict[slab_result.loc[i,'name']]\n",
    "    slab_result.loc[i,'Dcm_ned']=slab_result.loc[i,'DMpc_ned']*1*u.Mpc.to(u.cm)\n",
    "\n",
    "slab_result['logLx_int_ned']=np.log10(4*np.pi)+np.log10(slab_result['Dcm_ned'])*2.0+slab_result['log_fint']\n",
    "slab_result['log_Lx_int_ned/Ledd']=slab_result['logLx_int_ned']- slab_result['logLedd'] \n",
    "\n",
    "slab_result['logLx_int10to50_ned']=np.log10(4*np.pi)+np.log10(slab_result['Dcm_ned'])*2.0+slab_result['log_fint10to50']\n",
    "slab_result['log_Lx_int10to50_ned/Ledd']=slab_result['logLx_int10to50_ned']- slab_result['logLedd'] "
   ]
  },
  {
   "cell_type": "code",
   "execution_count": null,
   "metadata": {
    "ExecuteTime": {
     "end_time": "2023-07-12T17:38:52.759603Z",
     "start_time": "2023-07-12T17:38:52.739818Z"
    }
   },
   "outputs": [],
   "source": [
    "slab_result[['name','logLx_int_ned','log_Lx_int_ned/Ledd']]"
   ]
  },
  {
   "cell_type": "code",
   "execution_count": null,
   "metadata": {},
   "outputs": [],
   "source": []
  },
  {
   "cell_type": "code",
   "execution_count": null,
   "metadata": {
    "ExecuteTime": {
     "end_time": "2023-08-09T14:52:16.371645Z",
     "start_time": "2023-08-09T14:52:16.360094Z"
    }
   },
   "outputs": [],
   "source": [
    "slab_result.columns"
   ]
  },
  {
   "cell_type": "code",
   "execution_count": null,
   "metadata": {
    "ExecuteTime": {
     "end_time": "2023-06-19T05:24:22.453584Z",
     "start_time": "2023-06-19T05:24:22.432529Z"
    }
   },
   "outputs": [],
   "source": []
  },
  {
   "cell_type": "markdown",
   "metadata": {},
   "source": [
    "### logfint_norm"
   ]
  },
  {
   "cell_type": "code",
   "execution_count": 65,
   "metadata": {
    "ExecuteTime": {
     "end_time": "2023-12-02T08:14:58.500228Z",
     "start_time": "2023-12-02T08:14:58.483936Z"
    }
   },
   "outputs": [
    {
     "data": {
      "text/html": [
       "<div>\n",
       "<style scoped>\n",
       "    .dataframe tbody tr th:only-of-type {\n",
       "        vertical-align: middle;\n",
       "    }\n",
       "\n",
       "    .dataframe tbody tr th {\n",
       "        vertical-align: top;\n",
       "    }\n",
       "\n",
       "    .dataframe thead th {\n",
       "        text-align: right;\n",
       "    }\n",
       "</style>\n",
       "<table border=\"1\" class=\"dataframe\">\n",
       "  <thead>\n",
       "    <tr style=\"text-align: right;\">\n",
       "      <th></th>\n",
       "      <th>log_f_int_norm</th>\n",
       "      <th>logLx_int_norm</th>\n",
       "      <th>log_Lx_int_norm/Ledd</th>\n",
       "      <th>f_int10to50_norm</th>\n",
       "      <th>logLx_int10to50_norm</th>\n",
       "      <th>log_Lx_int10to50_norm/Ledd</th>\n",
       "      <th>log_fnorm_err</th>\n",
       "    </tr>\n",
       "  </thead>\n",
       "  <tbody>\n",
       "    <tr>\n",
       "      <th>0</th>\n",
       "      <td>-10.928415</td>\n",
       "      <td>42.608298</td>\n",
       "      <td>-3.142072</td>\n",
       "      <td>2.679538e-11</td>\n",
       "      <td>42.964773</td>\n",
       "      <td>-2.785597</td>\n",
       "      <td>0.004405</td>\n",
       "    </tr>\n",
       "    <tr>\n",
       "      <th>1</th>\n",
       "      <td>-10.784267</td>\n",
       "      <td>42.041609</td>\n",
       "      <td>-2.708761</td>\n",
       "      <td>2.092080e-11</td>\n",
       "      <td>42.146455</td>\n",
       "      <td>-2.603916</td>\n",
       "      <td>0.098674</td>\n",
       "    </tr>\n",
       "    <tr>\n",
       "      <th>2</th>\n",
       "      <td>-10.715956</td>\n",
       "      <td>42.109921</td>\n",
       "      <td>-2.640450</td>\n",
       "      <td>3.218951e-11</td>\n",
       "      <td>42.333591</td>\n",
       "      <td>-2.416780</td>\n",
       "      <td>0.050153</td>\n",
       "    </tr>\n",
       "    <tr>\n",
       "      <th>3</th>\n",
       "      <td>-10.962933</td>\n",
       "      <td>41.862943</td>\n",
       "      <td>-2.887427</td>\n",
       "      <td>1.912962e-11</td>\n",
       "      <td>42.107583</td>\n",
       "      <td>-2.642788</td>\n",
       "      <td>0.049280</td>\n",
       "    </tr>\n",
       "    <tr>\n",
       "      <th>4</th>\n",
       "      <td>-10.911374</td>\n",
       "      <td>41.914502</td>\n",
       "      <td>-2.835868</td>\n",
       "      <td>1.719529e-11</td>\n",
       "      <td>42.061286</td>\n",
       "      <td>-2.689085</td>\n",
       "      <td>0.053077</td>\n",
       "    </tr>\n",
       "    <tr>\n",
       "      <th>5</th>\n",
       "      <td>-11.118011</td>\n",
       "      <td>41.707865</td>\n",
       "      <td>-3.042505</td>\n",
       "      <td>1.121352e-11</td>\n",
       "      <td>41.875618</td>\n",
       "      <td>-2.874752</td>\n",
       "      <td>0.142854</td>\n",
       "    </tr>\n",
       "    <tr>\n",
       "      <th>6</th>\n",
       "      <td>-10.900533</td>\n",
       "      <td>41.925343</td>\n",
       "      <td>-2.825027</td>\n",
       "      <td>2.037782e-11</td>\n",
       "      <td>42.135034</td>\n",
       "      <td>-2.615336</td>\n",
       "      <td>0.050697</td>\n",
       "    </tr>\n",
       "    <tr>\n",
       "      <th>7</th>\n",
       "      <td>-11.038160</td>\n",
       "      <td>41.787716</td>\n",
       "      <td>-2.962654</td>\n",
       "      <td>1.951442e-11</td>\n",
       "      <td>42.116232</td>\n",
       "      <td>-2.634138</td>\n",
       "      <td>0.156973</td>\n",
       "    </tr>\n",
       "    <tr>\n",
       "      <th>8</th>\n",
       "      <td>-11.009035</td>\n",
       "      <td>41.816842</td>\n",
       "      <td>-2.933529</td>\n",
       "      <td>2.086802e-11</td>\n",
       "      <td>42.145358</td>\n",
       "      <td>-2.605013</td>\n",
       "      <td>0.251835</td>\n",
       "    </tr>\n",
       "    <tr>\n",
       "      <th>9</th>\n",
       "      <td>-10.130359</td>\n",
       "      <td>42.989283</td>\n",
       "      <td>-2.591088</td>\n",
       "      <td>1.410031e-10</td>\n",
       "      <td>43.268871</td>\n",
       "      <td>-2.311500</td>\n",
       "      <td>0.010484</td>\n",
       "    </tr>\n",
       "    <tr>\n",
       "      <th>10</th>\n",
       "      <td>-10.005861</td>\n",
       "      <td>43.113781</td>\n",
       "      <td>-2.466590</td>\n",
       "      <td>2.136212e-10</td>\n",
       "      <td>43.449286</td>\n",
       "      <td>-2.131084</td>\n",
       "      <td>0.002903</td>\n",
       "    </tr>\n",
       "    <tr>\n",
       "      <th>11</th>\n",
       "      <td>-9.653209</td>\n",
       "      <td>42.727456</td>\n",
       "      <td>-2.932915</td>\n",
       "      <td>3.487409e-10</td>\n",
       "      <td>42.923167</td>\n",
       "      <td>-2.737203</td>\n",
       "      <td>0.044987</td>\n",
       "    </tr>\n",
       "    <tr>\n",
       "      <th>12</th>\n",
       "      <td>-9.594409</td>\n",
       "      <td>42.786256</td>\n",
       "      <td>-2.874115</td>\n",
       "      <td>4.123652e-10</td>\n",
       "      <td>42.995947</td>\n",
       "      <td>-2.664424</td>\n",
       "      <td>0.026359</td>\n",
       "    </tr>\n",
       "    <tr>\n",
       "      <th>13</th>\n",
       "      <td>-9.582117</td>\n",
       "      <td>42.798548</td>\n",
       "      <td>-2.861823</td>\n",
       "      <td>4.242034e-10</td>\n",
       "      <td>43.008239</td>\n",
       "      <td>-2.652132</td>\n",
       "      <td>0.024184</td>\n",
       "    </tr>\n",
       "    <tr>\n",
       "      <th>14</th>\n",
       "      <td>-9.587537</td>\n",
       "      <td>42.793128</td>\n",
       "      <td>-2.867243</td>\n",
       "      <td>4.189420e-10</td>\n",
       "      <td>43.002819</td>\n",
       "      <td>-2.657552</td>\n",
       "      <td>0.034660</td>\n",
       "    </tr>\n",
       "    <tr>\n",
       "      <th>15</th>\n",
       "      <td>-9.563075</td>\n",
       "      <td>42.817589</td>\n",
       "      <td>-2.842781</td>\n",
       "      <td>4.024180e-10</td>\n",
       "      <td>42.985342</td>\n",
       "      <td>-2.675029</td>\n",
       "      <td>0.024524</td>\n",
       "    </tr>\n",
       "    <tr>\n",
       "      <th>16</th>\n",
       "      <td>-9.630374</td>\n",
       "      <td>42.750291</td>\n",
       "      <td>-2.910080</td>\n",
       "      <td>3.502422e-10</td>\n",
       "      <td>42.925033</td>\n",
       "      <td>-2.735337</td>\n",
       "      <td>0.029140</td>\n",
       "    </tr>\n",
       "    <tr>\n",
       "      <th>17</th>\n",
       "      <td>-9.640317</td>\n",
       "      <td>42.740348</td>\n",
       "      <td>-2.920023</td>\n",
       "      <td>3.650770e-10</td>\n",
       "      <td>42.943049</td>\n",
       "      <td>-2.717321</td>\n",
       "      <td>0.037985</td>\n",
       "    </tr>\n",
       "    <tr>\n",
       "      <th>18</th>\n",
       "      <td>-9.624573</td>\n",
       "      <td>42.756092</td>\n",
       "      <td>-2.904279</td>\n",
       "      <td>3.665631e-10</td>\n",
       "      <td>42.944813</td>\n",
       "      <td>-2.715557</td>\n",
       "      <td>0.039006</td>\n",
       "    </tr>\n",
       "    <tr>\n",
       "      <th>19</th>\n",
       "      <td>-9.671517</td>\n",
       "      <td>42.709147</td>\n",
       "      <td>-2.951223</td>\n",
       "      <td>3.452819e-10</td>\n",
       "      <td>42.918838</td>\n",
       "      <td>-2.741532</td>\n",
       "      <td>0.040361</td>\n",
       "    </tr>\n",
       "    <tr>\n",
       "      <th>20</th>\n",
       "      <td>-11.089910</td>\n",
       "      <td>41.703656</td>\n",
       "      <td>-4.136715</td>\n",
       "      <td>1.704577e-11</td>\n",
       "      <td>42.025182</td>\n",
       "      <td>-3.815188</td>\n",
       "      <td>0.073755</td>\n",
       "    </tr>\n",
       "    <tr>\n",
       "      <th>21</th>\n",
       "      <td>-11.165491</td>\n",
       "      <td>41.628074</td>\n",
       "      <td>-4.212297</td>\n",
       "      <td>1.737446e-11</td>\n",
       "      <td>42.033477</td>\n",
       "      <td>-3.806894</td>\n",
       "      <td>0.164055</td>\n",
       "    </tr>\n",
       "    <tr>\n",
       "      <th>22</th>\n",
       "      <td>-10.523346</td>\n",
       "      <td>42.270219</td>\n",
       "      <td>-3.570151</td>\n",
       "      <td>6.594002e-11</td>\n",
       "      <td>42.612714</td>\n",
       "      <td>-3.227656</td>\n",
       "      <td>0.096443</td>\n",
       "    </tr>\n",
       "  </tbody>\n",
       "</table>\n",
       "</div>"
      ],
      "text/plain": [
       "    log_f_int_norm  logLx_int_norm  log_Lx_int_norm/Ledd  f_int10to50_norm  \\\n",
       "0       -10.928415       42.608298             -3.142072      2.679538e-11   \n",
       "1       -10.784267       42.041609             -2.708761      2.092080e-11   \n",
       "2       -10.715956       42.109921             -2.640450      3.218951e-11   \n",
       "3       -10.962933       41.862943             -2.887427      1.912962e-11   \n",
       "4       -10.911374       41.914502             -2.835868      1.719529e-11   \n",
       "5       -11.118011       41.707865             -3.042505      1.121352e-11   \n",
       "6       -10.900533       41.925343             -2.825027      2.037782e-11   \n",
       "7       -11.038160       41.787716             -2.962654      1.951442e-11   \n",
       "8       -11.009035       41.816842             -2.933529      2.086802e-11   \n",
       "9       -10.130359       42.989283             -2.591088      1.410031e-10   \n",
       "10      -10.005861       43.113781             -2.466590      2.136212e-10   \n",
       "11       -9.653209       42.727456             -2.932915      3.487409e-10   \n",
       "12       -9.594409       42.786256             -2.874115      4.123652e-10   \n",
       "13       -9.582117       42.798548             -2.861823      4.242034e-10   \n",
       "14       -9.587537       42.793128             -2.867243      4.189420e-10   \n",
       "15       -9.563075       42.817589             -2.842781      4.024180e-10   \n",
       "16       -9.630374       42.750291             -2.910080      3.502422e-10   \n",
       "17       -9.640317       42.740348             -2.920023      3.650770e-10   \n",
       "18       -9.624573       42.756092             -2.904279      3.665631e-10   \n",
       "19       -9.671517       42.709147             -2.951223      3.452819e-10   \n",
       "20      -11.089910       41.703656             -4.136715      1.704577e-11   \n",
       "21      -11.165491       41.628074             -4.212297      1.737446e-11   \n",
       "22      -10.523346       42.270219             -3.570151      6.594002e-11   \n",
       "\n",
       "    logLx_int10to50_norm  log_Lx_int10to50_norm/Ledd  log_fnorm_err  \n",
       "0              42.964773                   -2.785597       0.004405  \n",
       "1              42.146455                   -2.603916       0.098674  \n",
       "2              42.333591                   -2.416780       0.050153  \n",
       "3              42.107583                   -2.642788       0.049280  \n",
       "4              42.061286                   -2.689085       0.053077  \n",
       "5              41.875618                   -2.874752       0.142854  \n",
       "6              42.135034                   -2.615336       0.050697  \n",
       "7              42.116232                   -2.634138       0.156973  \n",
       "8              42.145358                   -2.605013       0.251835  \n",
       "9              43.268871                   -2.311500       0.010484  \n",
       "10             43.449286                   -2.131084       0.002903  \n",
       "11             42.923167                   -2.737203       0.044987  \n",
       "12             42.995947                   -2.664424       0.026359  \n",
       "13             43.008239                   -2.652132       0.024184  \n",
       "14             43.002819                   -2.657552       0.034660  \n",
       "15             42.985342                   -2.675029       0.024524  \n",
       "16             42.925033                   -2.735337       0.029140  \n",
       "17             42.943049                   -2.717321       0.037985  \n",
       "18             42.944813                   -2.715557       0.039006  \n",
       "19             42.918838                   -2.741532       0.040361  \n",
       "20             42.025182                   -3.815188       0.073755  \n",
       "21             42.033477                   -3.806894       0.164055  \n",
       "22             42.612714                   -3.227656       0.096443  "
      ]
     },
     "execution_count": 65,
     "metadata": {},
     "output_type": "execute_result"
    }
   ],
   "source": [
    "slab_result['f_int_norm'] = get_f_intrinsic_zpowerlaw(2.0,10.0,slab_result['phoindex'],slab_result['zcutoffplnorm'],slab_result['redshift'])    \n",
    "slab_result['log_f_int_norm'] = np.log10(slab_result['f_int_norm'] )\n",
    "#slab_result[['log_f','log_f_int']]\n",
    "slab_result['logLx_int_norm']=np.log10(4*np.pi)+np.log10(slab_result['D_cm'])*2.0+slab_result['log_f_int_norm']\n",
    "slab_result['log_Lx_int_norm/Ledd']=slab_result['logLx_int_norm']- slab_result['logLedd']    \n",
    "\n",
    "slab_result['f_int10to50_norm'] = get_f_intrinsic_zpowerlaw(10,50.0,slab_result['phoindex'],slab_result['zcutoffplnorm'],slab_result['redshift'])    \n",
    "slab_result['log_f_int10to50_norm'] = np.log10(slab_result['f_int10to50_norm'] )\n",
    "#slab_result[['log_f','log_f_int']]\n",
    "slab_result['logLx_int10to50_norm']=np.log10(4*np.pi)+np.log10(slab_result['D_cm'])*2.0+slab_result['log_f_int10to50_norm']\n",
    "slab_result['log_Lx_int10to50_norm/Ledd']=slab_result['logLx_int10to50_norm']- slab_result['logLedd']    \n",
    "\n",
    "slab_result[['log_f_int_norm','logLx_int_norm','log_Lx_int_norm/Ledd','f_int10to50_norm','logLx_int10to50_norm','log_Lx_int10to50_norm/Ledd','log_fnorm_err']]"
   ]
  },
  {
   "cell_type": "code",
   "execution_count": null,
   "metadata": {
    "ExecuteTime": {
     "end_time": "2023-10-29T07:43:31.160864Z",
     "start_time": "2023-10-29T07:43:31.149705Z"
    }
   },
   "outputs": [],
   "source": [
    "for i in slab_result['log_f_int_norm'].values:\n",
    "    print(i)"
   ]
  },
  {
   "cell_type": "code",
   "execution_count": null,
   "metadata": {
    "ExecuteTime": {
     "end_time": "2023-07-26T06:31:24.710955Z",
     "start_time": "2023-07-26T06:31:24.699136Z"
    }
   },
   "outputs": [],
   "source": [
    "slab_result.columns"
   ]
  },
  {
   "cell_type": "code",
   "execution_count": null,
   "metadata": {
    "ExecuteTime": {
     "end_time": "2023-04-11T12:33:47.352549Z",
     "start_time": "2023-04-11T12:33:47.346372Z"
    }
   },
   "outputs": [],
   "source": [
    "np.log10(0.9)"
   ]
  },
  {
   "cell_type": "code",
   "execution_count": null,
   "metadata": {},
   "outputs": [],
   "source": []
  },
  {
   "cell_type": "code",
   "execution_count": 66,
   "metadata": {
    "ExecuteTime": {
     "end_time": "2023-12-02T08:15:02.019927Z",
     "start_time": "2023-12-02T08:15:02.001081Z"
    }
   },
   "outputs": [
    {
     "name": "stdout",
     "output_type": "stream",
     "text": [
      "name,obsid,nh,L10-50keV_intrinsic/Ledd,Lobs/Ledd,delta\n",
      "ESO362-G18 & 60201046002 & 0.00 $\\pm$ -1.00 & -3.457 $\\pm$ 0.001 \\\\ -3.458 $\\pm$ 0.001 \\\\ 0.0009999999999976694\n",
      "NGC1365 & 60002046002 & 15.93 $\\pm$ 3.15 & nan $\\pm$ nan \\\\ nan $\\pm$ nan \\\\ nan\n",
      "NGC1365 & 60002046003 & 13.26 $\\pm$ 2.01 & nan $\\pm$ nan \\\\ nan $\\pm$ nan \\\\ nan\n",
      "NGC1365 & 60702058002 & 21.28 $\\pm$ 2.53 & nan $\\pm$ nan \\\\ nan $\\pm$ nan \\\\ nan\n",
      "NGC1365 & 60702058004 & 25.81 $\\pm$ 3.07 & nan $\\pm$ nan \\\\ nan $\\pm$ nan \\\\ nan\n",
      "NGC1365 & 60702058006 & 36.61 $\\pm$ 10.50 & nan $\\pm$ nan \\\\ nan $\\pm$ nan \\\\ nan\n",
      "NGC1365 & 60702058008 & 13.95 $\\pm$ 0.81 & nan $\\pm$ nan \\\\ nan $\\pm$ nan \\\\ nan\n",
      "NGC1365 & 60702058010 & 28.84 $\\pm$ 5.16 & nan $\\pm$ nan \\\\ nan $\\pm$ nan \\\\ nan\n",
      "NGC1365 & 60702058012 & 87.16 $\\pm$ 14.27 & nan $\\pm$ nan \\\\ nan $\\pm$ nan \\\\ nan\n",
      "NGC2992 & 60160371002 & 0.98 $\\pm$ 0.04 & -3.107 $\\pm$ 0.003 \\\\ -3.104 $\\pm$ 0.003 \\\\ -0.0030000000000001137\n",
      "NGC2992 & 90501623002 & 0.70 $\\pm$ 0.00 & -2.855 $\\pm$ 0.000 \\\\ -2.851 $\\pm$ 0.000 \\\\ -0.003999999999997783\n",
      "NGC4151 & 60001111002 & 19.81 $\\pm$ 1.48 & -2.653 $\\pm$ 0.001 \\\\ -2.842 $\\pm$ 0.007 \\\\ 0.18900000000000006\n",
      "NGC4151 & 60001111003 & 20.80 $\\pm$ 0.76 & -2.638 $\\pm$ 0.001 \\\\ -2.746 $\\pm$ 0.003 \\\\ 0.10800000000000409\n",
      "NGC4151 & 60001111005 & 17.67 $\\pm$ 0.75 & -2.601 $\\pm$ 0.000 \\\\ -2.743 $\\pm$ 0.003 \\\\ 0.142000000000003\n",
      "NGC4151 & 60502017002 & 17.86 $\\pm$ 0.99 & -2.652 $\\pm$ 0.001 \\\\ -2.737 $\\pm$ 0.004 \\\\ 0.08500000000000085\n",
      "NGC4151 & 60502017004 & 14.30 $\\pm$ 0.92 & -2.576 $\\pm$ 0.001 \\\\ -2.734 $\\pm$ 0.004 \\\\ 0.15800000000000125\n",
      "NGC4151 & 60502017006 & 13.61 $\\pm$ 1.25 & -2.610 $\\pm$ 0.001 \\\\ -2.813 $\\pm$ 0.006 \\\\ 0.20300000000000296\n",
      "NGC4151 & 60502017008 & 18.91 $\\pm$ 1.14 & -2.681 $\\pm$ 0.001 \\\\ -2.803 $\\pm$ 0.005 \\\\ 0.12199999999999989\n",
      "NGC4151 & 60502017010 & 19.67 $\\pm$ 1.16 & -2.655 $\\pm$ 0.001 \\\\ -2.783 $\\pm$ 0.005 \\\\ 0.1280000000000001\n",
      "NGC4151 & 60502017012 & 17.81 $\\pm$ 1.31 & -2.646 $\\pm$ 0.001 \\\\ -2.802 $\\pm$ 0.006 \\\\ 0.1559999999999988\n",
      "NGC7582 & 60061318002 & 21.62 $\\pm$ 6.43 & -3.680 $\\pm$ 0.005 \\\\ -3.924 $\\pm$ 0.039 \\\\ 0.24400000000000688\n",
      "NGC7582 & 60061318004 & 51.18 $\\pm$ 13.15 & -3.668 $\\pm$ 0.006 \\\\ -3.925 $\\pm$ 0.070 \\\\ 0.2569999999999979\n",
      "NGC7582 & 60201003002 & 27.51 $\\pm$ 2.37 & -3.324 $\\pm$ 0.002 \\\\ -3.340 $\\pm$ 0.009 \\\\ 0.015999999999998238\n"
     ]
    }
   ],
   "source": [
    "print('name,obsid,nh,L10-50keV_intrinsic/Ledd,Lobs/Ledd,delta')\n",
    "for index,name in enumerate(slab_result['name']):  \n",
    "    print(\n",
    "        name,'&',\n",
    "    '%s'%slab_result['obsid'][index],'&',\n",
    "    '%.2f'%slab_result['los_nh(10^22)'][index],'$\\pm$', '%.2f'%slab_result['los_nh_err'][index],'&',\n",
    "    \n",
    "    '%.3f'%float(slab_result['log_Lx_10to50keV_obs/Ledd'][index]),'$\\pm$','%.3f'%float(slab_result['log_fobs10to50_err'][index]),  '\\\\\\\\',\n",
    "  \n",
    "    '%.3f'%float(slab_result['log_Lx_10to50keV_int/Ledd'][index]),'$\\pm$','%.3f'%float(slab_result['log_fint10to50_err'][index]),  '\\\\\\\\',\n",
    "     \n",
    "    float(slab_result['log_Lx_10to50keV_obs/Ledd'][index])-  float(slab_result['log_Lx_10to50keV_int/Ledd'][index])   \n",
    "        \n",
    "    )"
   ]
  },
  {
   "cell_type": "code",
   "execution_count": null,
   "metadata": {},
   "outputs": [],
   "source": []
  },
  {
   "cell_type": "code",
   "execution_count": null,
   "metadata": {},
   "outputs": [],
   "source": []
  },
  {
   "cell_type": "code",
   "execution_count": null,
   "metadata": {},
   "outputs": [],
   "source": []
  },
  {
   "cell_type": "code",
   "execution_count": null,
   "metadata": {},
   "outputs": [],
   "source": []
  },
  {
   "cell_type": "code",
   "execution_count": null,
   "metadata": {
    "ExecuteTime": {
     "end_time": "2023-04-10T13:58:35.959410Z",
     "start_time": "2023-04-10T13:58:35.949309Z"
    }
   },
   "outputs": [],
   "source": [
    "slab_result.columns"
   ]
  },
  {
   "cell_type": "code",
   "execution_count": null,
   "metadata": {
    "ExecuteTime": {
     "end_time": "2023-03-01T07:25:39.546296Z",
     "start_time": "2023-03-01T07:25:39.521832Z"
    }
   },
   "outputs": [],
   "source": [
    "slab_result"
   ]
  },
  {
   "cell_type": "code",
   "execution_count": null,
   "metadata": {
    "ExecuteTime": {
     "end_time": "2023-07-12T16:26:21.712201Z",
     "start_time": "2023-07-12T16:26:21.702507Z"
    }
   },
   "outputs": [],
   "source": [
    "slab_result.columns"
   ]
  },
  {
   "cell_type": "markdown",
   "metadata": {},
   "source": [
    "### slab_latex"
   ]
  },
  {
   "cell_type": "code",
   "execution_count": null,
   "metadata": {
    "ExecuteTime": {
     "end_time": "2023-07-06T13:55:56.746109Z",
     "start_time": "2023-07-06T13:55:56.737762Z"
    }
   },
   "outputs": [],
   "source": [
    "print('$\\pm$')"
   ]
  },
  {
   "cell_type": "code",
   "execution_count": 83,
   "metadata": {
    "ExecuteTime": {
     "end_time": "2023-12-02T08:36:40.886260Z",
     "start_time": "2023-12-02T08:36:40.860199Z"
    }
   },
   "outputs": [
    {
     "name": "stdout",
     "output_type": "stream",
     "text": [
      "\\multirow{2}*{60201046002} & 0.980$\\pm$0.008/0.005$\\pm$0.005 & 0.00$^f$ & 1.49 $\\pm$ 0.00 & 200$^f$ & 2.11e-03 $\\pm$ 2.14e-05 & 6.38 $\\pm$ 0.01 & 0.05$\\pm$0.012 & \\\\ \n",
      " &  2.91e-05 $\\pm$ 1.21e-06 & 224 $\\pm$ 1 & 0.00$\\pm$0.00& - & 1.14(3104/2729) & -10.931 $\\pm$ 0.001 & -10.942 $\\pm$ 0.001 & -10.928 $\\pm$ 0.004 & \\\\\n",
      "\\multirow{2}*{60002046002} & 1.018$\\pm$0.013& 15.93$\\pm$3.15 & 1.85 $\\pm$ 0.10 & 320$\\pm$230 & 5.13e-03 $\\pm$ 8.59e-04 & 6.18 $\\pm$ 0.04 & 0.05$^f$ & \\\\ \n",
      " &  1.92e-05 $\\pm$ 3.34e-06 & 126 $\\pm$ 5 & -2.20$\\pm$0.41& 0.01$\\pm$0.06& 0.99(661/665) & -11.017 $\\pm$ 0.003 & -10.790 $\\pm$ 0.004 & -10.784 $\\pm$ 0.099 & \\\\\n",
      "\\multirow{2}*{60002046003} & 1.014$\\pm$0.011& 13.26$\\pm$2.01 & 1.68 $\\pm$ 0.05 & 200$^f$ & 4.61e-03 $\\pm$ 3.90e-04 & 6.22 $\\pm$ 0.05 & 0.05$^f$ & \\\\ \n",
      " &  2.00e-05 $\\pm$ 2.99e-06 & 117 $\\pm$ 2 & -1.21$\\pm$0.22& 0.00$\\pm$0.06& 1.16(883/763) & -10.964 $\\pm$ 0.002 & -10.726 $\\pm$ 0.006 & -10.716 $\\pm$ 0.050 & \\\\\n",
      "\\multirow{2}*{60702058002} & 1.031$\\pm$0.013& 21.28$\\pm$2.53 & 1.65 $\\pm$ 0.05 & 200$^f$ & 2.49e-03 $\\pm$ 2.03e-04 & 6.28 $\\pm$ 0.03 & 0.05$^f$ & \\\\ \n",
      " &  1.89e-05 $\\pm$ 2.07e-06 & 186 $\\pm$ 4 & -2.46$\\pm$0.41& 0.05$\\pm$0.03& 1.08(813/755) & -11.171 $\\pm$ 0.003 & -10.979 $\\pm$ 0.005 & -10.963 $\\pm$ 0.049 & \\\\\n",
      "\\multirow{2}*{60702058004} & 1.034$\\pm$0.015& 25.81$\\pm$3.07 & 1.79 $\\pm$ 0.05 & 200$^f$ & 3.49e-03 $\\pm$ 3.30e-04 & 6.21 $\\pm$ 0.06 & 0.05$^f$ & \\\\ \n",
      " &  1.74e-05 $\\pm$ 2.60e-06 & 158 $\\pm$ 1 & -3.21$\\pm$0.66& 0.04$\\pm$0.03& 0.99(565/573) & -11.155 $\\pm$ 0.003 & -10.924 $\\pm$ 0.005 & -10.911 $\\pm$ 0.053 & \\\\\n",
      "\\multirow{2}*{60702058006} & 1.025$\\pm$0.031& 36.61$\\pm$10.50 & 1.76 $\\pm$ 0.10 & 200$^f$ & 2.07e-03 $\\pm$ 6.00e-04 & 6.34 $\\pm$ 0.07 & 0.05$^f$ & \\\\ \n",
      " &  1.33e-05 $\\pm$ 4.14e-06 & 171 $\\pm$ 9 & -5.69$\\pm$3.07& 0.00$\\pm$0.06& 1.01(164/163) & -11.331 $\\pm$ 0.007 & -11.126 $\\pm$ 0.006 & -11.118 $\\pm$ 0.143 & \\\\\n",
      "\\multirow{2}*{60702058008} & 1.037$\\pm$0.014& 13.95$\\pm$0.81 & 1.70 $\\pm$ 0.05 & 200$^f$ & 3.11e-03 $\\pm$ 2.69e-04 & 6.40 $\\pm$ 0.03 & 0.05$^f$ & \\\\ \n",
      " &  2.03e-05 $\\pm$ 2.49e-06 & 173 $\\pm$ 5 & -2.10$\\pm$0.38& 0.00$\\pm$3.86& 1.16(778/670) & -11.099 $\\pm$ 0.003 & -10.906 $\\pm$ 0.039 & -10.901 $\\pm$ 0.051 & \\\\\n",
      "\\multirow{2}*{60702058010} & 1.055$\\pm$0.015& 28.84$\\pm$5.16 & 1.53 $\\pm$ 0.14 & 94$\\pm$35 & 1.73e-03 $\\pm$ 4.90e-04 & 6.28 $\\pm$ 0.03 & 0.05$^f$ & \\\\ \n",
      " &  1.59e-05 $\\pm$ 2.48e-06 & 189 $\\pm$ 13 & -3.34$\\pm$0.73& 0.05$\\pm$0.03& 1.07(627/586) & -11.252 $\\pm$ 0.003 & -11.063 $\\pm$ 0.070 & -11.038 $\\pm$ 0.157 & \\\\\n",
      "\\multirow{2}*{60702058012} & 1.004$\\pm$0.017& 87.16$\\pm$14.27 & 1.53 $\\pm$ 0.16 & 149$\\pm$97 & 1.85e-03 $\\pm$ 9.62e-04 & 6.33 $\\pm$ 0.02 & 0.05$^f$ & \\\\ \n",
      " &  1.52e-05 $\\pm$ 1.75e-06 & 343 $\\pm$ 61 & -2.37$\\pm$0.86& 0.05$\\pm$0.03& 1.08(557/515) & -11.506 $\\pm$ 0.004 & -11.026 $\\pm$ 0.009 & -11.009 $\\pm$ 0.252 & \\\\\n",
      "\\multirow{2}*{60160371002} & 0.992$\\pm$0.008/0.017$\\pm$0.017 & 0.98$\\pm$0.04 & 1.60 $\\pm$ 0.01 & 72$^f$ & 1.57e-02 $\\pm$ 2.85e-04 & 6.22 $\\pm$ 0.09 & 0.26$\\pm$0.070 & \\\\ \n",
      " &  7.89e-05 $\\pm$ 1.32e-05 & 104 $\\pm$ 1 & 0.00$\\pm$0.00& - & 1.00(1159/1160) & -10.196 $\\pm$ 0.002 & -10.163 $\\pm$ 0.002 & -10.130 $\\pm$ 0.010 & \\\\\n",
      "\\multirow{2}*{90501623002} & 0.984$\\pm$0.004/0.003$\\pm$0.003 & 0.70$\\pm$0.00 & 1.52 $\\pm$ 0.00 & 72$\\pm$3 & 1.84e-02 $\\pm$ 1.23e-04 & 6.40 $\\pm$ 0.00 & 0.08$\\pm$0.007 & \\\\ \n",
      " &  1.12e-04 $\\pm$ 3.36e-06 & 111 $\\pm$ 1 & 0.00$\\pm$0.00& - & 1.23(3896/3179) & -10.058 $\\pm$ 0.000 & -10.037 $\\pm$ 0.000 & -10.006 $\\pm$ 0.003 & \\\\\n",
      "\\multirow{2}*{60001111002} & 0.980$\\pm$0.004& 19.81$\\pm$1.48 & 1.72 $\\pm$ 0.03 & 111$\\pm$14 & 5.65e-02 $\\pm$ 5.22e-03 & 6.29 $\\pm$ 0.02 & 0.05$^f$ & \\\\ \n",
      " &  1.79e-04 $\\pm$ 1.79e-05 & 65 $\\pm$ 1 & -1.00$\\pm$0.08& 0.54$\\pm$0.03& 1.05(1545/1466) & -9.676 $\\pm$ 0.001 & -9.677 $\\pm$ 0.007 & -9.653 $\\pm$ 0.045 & \\\\\n",
      "\\multirow{2}*{60001111003} & 0.997$\\pm$0.002& 20.80$\\pm$0.76 & 1.70 $\\pm$ 0.02 & 140$\\pm$13 & 6.27e-02 $\\pm$ 3.26e-03 & 6.30 $\\pm$ 0.01 & 0.05$^f$ & \\\\ \n",
      " &  2.25e-04 $\\pm$ 1.06e-05 & 89 $\\pm$ 1 & -0.75$\\pm$0.04& 0.31$\\pm$0.01& 1.04(2024/1951) & -9.743 $\\pm$ 0.001 & -9.611 $\\pm$ 0.003 & -9.594 $\\pm$ 0.026 & \\\\\n",
      "\\multirow{2}*{60001111005} & 0.999$\\pm$0.002& 17.67$\\pm$0.75 & 1.70 $\\pm$ 0.02 & 126$\\pm$10 & 6.45e-02 $\\pm$ 2.97e-03 & 6.31 $\\pm$ 0.01 & 0.05$^f$ & \\\\ \n",
      " &  2.26e-04 $\\pm$ 1.10e-05 & 77 $\\pm$ 1 & -0.78$\\pm$0.04& 0.39$\\pm$0.01& 1.16(2333/2020) & -9.663 $\\pm$ 0.000 & -9.601 $\\pm$ 0.003 & -9.582 $\\pm$ 0.024 & \\\\\n",
      "\\multirow{2}*{60502017002} & 0.988$\\pm$0.003& 17.86$\\pm$0.99 & 1.70 $\\pm$ 0.03 & 141$\\pm$18 & 6.37e-02 $\\pm$ 4.11e-03 & 6.27 $\\pm$ 0.01 & 0.05$^f$ & \\\\ \n",
      " &  2.38e-04 $\\pm$ 1.43e-05 & 94 $\\pm$ 3 & -0.52$\\pm$0.05& 0.27$\\pm$0.01& 1.07(1723/1613) & -9.752 $\\pm$ 0.001 & -9.603 $\\pm$ 0.004 & -9.588 $\\pm$ 0.035 & \\\\\n",
      "\\multirow{2}*{60502017004} & 0.999$\\pm$0.002& 14.30$\\pm$0.92 & 1.76 $\\pm$ 0.02 & 187$\\pm$24 & 7.40e-02 $\\pm$ 3.49e-03 & 6.29 $\\pm$ 0.01 & 0.05$^f$ & \\\\ \n",
      " &  2.39e-04 $\\pm$ 1.39e-05 & 70 $\\pm$ 5 & -0.72$\\pm$0.04& 0.44$\\pm$0.02& 1.02(1890/1847) & -9.595 $\\pm$ 0.001 & -9.574 $\\pm$ 0.004 & -9.563 $\\pm$ 0.025 & \\\\\n",
      "\\multirow{2}*{60502017006} & 0.992$\\pm$0.003& 13.61$\\pm$1.25 & 1.75 $\\pm$ 0.02 & 150$\\pm$19 & 6.24e-02 $\\pm$ 3.71e-03 & 6.29 $\\pm$ 0.01 & 0.05$^f$ & \\\\ \n",
      " &  2.53e-04 $\\pm$ 1.60e-05 & 78 $\\pm$ 2 & -0.81$\\pm$0.06& 0.58$\\pm$0.03& 1.03(1684/1637) & -9.599 $\\pm$ 0.001 & -9.648 $\\pm$ 0.006 & -9.630 $\\pm$ 0.029 & \\\\\n",
      "\\multirow{2}*{60502017008} & 0.984$\\pm$0.003& 18.91$\\pm$1.14 & 1.71 $\\pm$ 0.03 & 130$\\pm$17 & 5.73e-02 $\\pm$ 4.23e-03 & 6.29 $\\pm$ 0.01 & 0.05$^f$ & \\\\ \n",
      " &  2.33e-04 $\\pm$ 1.46e-05 & 96 $\\pm$ 4 & -0.77$\\pm$0.06& 0.34$\\pm$0.02& 1.11(1727/1551) & -9.755 $\\pm$ 0.001 & -9.657 $\\pm$ 0.005 & -9.640 $\\pm$ 0.038 & \\\\\n",
      "\\multirow{2}*{60502017010} & 0.976$\\pm$0.003& 19.67$\\pm$1.16 & 1.73 $\\pm$ 0.03 & 168$\\pm$28 & 6.13e-02 $\\pm$ 4.70e-03 & 6.29 $\\pm$ 0.01 & 0.05$^f$ & \\\\ \n",
      " &  2.23e-04 $\\pm$ 1.52e-05 & 86 $\\pm$ 1 & -0.62$\\pm$0.06& 0.39$\\pm$0.02& 1.09(1688/1549) & -9.725 $\\pm$ 0.001 & -9.638 $\\pm$ 0.005 & -9.625 $\\pm$ 0.039 & \\\\\n",
      "\\multirow{2}*{60502017012} & 0.978$\\pm$0.004& 17.81$\\pm$1.31 & 1.70 $\\pm$ 0.03 & 201$\\pm$41 & 5.25e-02 $\\pm$ 4.21e-03 & 6.31 $\\pm$ 0.01 & 0.05$^f$ & \\\\ \n",
      " &  2.81e-04 $\\pm$ 1.59e-05 & 110 $\\pm$ 1 & -0.59$\\pm$0.06& 0.47$\\pm$0.02& 1.04(1592/1527) & -9.717 $\\pm$ 0.001 & -9.686 $\\pm$ 0.006 & -9.672 $\\pm$ 0.040 & \\\\\n",
      "\\multirow{2}*{60061318002} & 0.968$\\pm$0.021& 21.62$\\pm$6.43 & 1.54 $\\pm$ 0.07 & 104$^f$ & 1.56e-03 $\\pm$ 1.99e-04 & 6.36 $\\pm$ 0.03 & 0.05$^f$ & \\\\ \n",
      " &  2.58e-05 $\\pm$ 3.89e-06 & 269 $\\pm$ 26 & -5.43$\\pm$1.72& 0.05$\\pm$0.08& 1.02(289/285) & -11.177 $\\pm$ 0.005 & -11.110 $\\pm$ 0.039 & -11.090 $\\pm$ 0.074 & \\\\\n",
      "\\multirow{2}*{60061318004} & 0.987$\\pm$0.026& 51.18$\\pm$13.15 & 1.42 $\\pm$ 0.08 & 104$^f$ & 1.08e-03 $\\pm$ 3.83e-04 & 6.37 $\\pm$ 0.03 & 0.05$^f$ & \\\\ \n",
      " &  2.32e-05 $\\pm$ 3.34e-06 & 385 $\\pm$ 27 & -4.96$\\pm$2.76& 0.10$\\pm$0.03& 1.09(231/212) & -11.349 $\\pm$ 0.006 & -11.192 $\\pm$ 0.070 & -11.165 $\\pm$ 0.164 & \\\\\n",
      "\\multirow{2}*{60201003002} & 0.991$\\pm$0.009& 27.51$\\pm$2.37 & 1.51 $\\pm$ 0.08 & 104$\\pm$28 & 5.48e-03 $\\pm$ 9.92e-04 & 6.25 $\\pm$ 0.03 & 0.05$^f$ & \\\\ \n",
      " &  3.15e-05 $\\pm$ 3.51e-06 & 157 $\\pm$ 2 & -1.01$\\pm$0.18& 0.05$\\pm$0.01& 0.99(941/953) & -10.912 $\\pm$ 0.002 & -10.546 $\\pm$ 0.009 & -10.523 $\\pm$ 0.096 & \\\\\n"
     ]
    }
   ],
   "source": [
    "for index,name in enumerate(slab_result['name']): \n",
    "    obsid=slab_result.loc[index,'obsid']\n",
    "    \n",
    "    if name=='NGC4151' or name=='NGC7582' or name=='NGC1365':\n",
    "        Cross_str='%.3f'%slab_result['const_FPTM'][index]+'$\\pm$'+'%.3f'%slab_result['const_FPTM_err'][index]+'&'\n",
    "        fscatter_cmd='%.2f'%slab_result['fscatter'][index]+'$\\pm$'+'%.2f'%slab_result['fscatter_err'][index]+'&'\n",
    "        rel_refl_cmd='%.2f'%slab_result['rel_refl'][index]+'$\\pm$'+ '%.2f'%slab_result['rel_refl_err'][index]+'&'\n",
    "    else:\n",
    "        Cross_str='%.3f'%slab_result['const_FPTM'][index]+'$\\pm$'+'%.3f'%slab_result['const_FPTM_err'][index]+'/'+'%.3f'%slab_result['const_FPTM3_err'][index]+'$\\pm$'+ '%.3f'%slab_result['const_FPTM3_err'][index]+' &'\n",
    "        fscatter_cmd='- &'\n",
    "        #rel_refl_cmd='- &'\n",
    "        rel_refl_cmd='%.2f'%slab_result['rel_refl'][index]+'$\\pm$'+ '%.2f'%slab_result['rel_refl_err'][index]+'&'\n",
    "\n",
    " \n",
    "\n",
    "    if slab_result['los_nh_err'][index]==-1:\n",
    "        los_nh_err_cmd='$^f$'\n",
    "    else:\n",
    "        los_nh_err_cmd='$\\pm$'+'%.2f'%slab_result['los_nh_err'][index] \n",
    "        \n",
    "    if slab_result['zgausssigmaerr'][index]==-1:\n",
    "        zgausssigmaerr_cmd='$^f$'\n",
    "    else:\n",
    "        zgausssigmaerr_cmd='$\\pm$'+'%.3f'%slab_result['zgausssigmaerr'][index]        \n",
    "                \n",
    "    if slab_result['Ecuterr'][index]==-1:\n",
    "        slab_highEcut_err_cmd='$^f$'\n",
    "    else:\n",
    "        slab_highEcut_err_cmd='$\\pm$'+'%d'%slab_result['Ecuterr'][index]\n",
    "\n",
    "    #\\multirow{2}*    \n",
    "    print(#name,'&',\n",
    "          #'%s'%slab_result['obsid'][index],'&',\n",
    "          #'\\multirow{2}*{N%d}'%(index+1),'&',\n",
    "         '\\multirow{2}*{%s}'%(obsid),'&',\n",
    "          Cross_str,\n",
    "          '%.2f'%slab_result['los_nh(10^22)'][index]+los_nh_err_cmd,'&',\n",
    "          '%.2f'%slab_result['phoindex'][index],'$\\pm$', '%.2f'%slab_result['phoindex_err'][index],'&',\n",
    "\n",
    "          '%d'%slab_result['Ecut'][index]+slab_highEcut_err_cmd,'&',\n",
    "          '%.2e'%slab_result['zcutoffplnorm'][index],'$\\pm$', '%.2e'%slab_result['zcutoffplnorm_err'][index],'&',\n",
    "          \n",
    "          '%.2f'%slab_result['zgauss'][index],'$\\pm$', '%.2f'%slab_result['zgausserr'][index],'&',         \n",
    "          '%.2f'%slab_result['zgausssigma'][index]+zgausssigmaerr_cmd,'&',                  \n",
    "           '\\\\\\\\','\\n & ',\n",
    "        \n",
    "          '%.2e'%slab_result['zgaussnorm'][index],'$\\pm$', '%.2e'%slab_result['zgaussnormerr'][index],'&',\n",
    "           \n",
    "       \n",
    "           '%d'%slab_result['EW'][index],'$\\pm$', '%d'%slab_result['EWerr'][index],'&',\n",
    "           \n",
    "           rel_refl_cmd,\n",
    "           \n",
    "           fscatter_cmd,\n",
    " \n",
    "          '%.2f(%d/%d)'%(slab_result['rechi_2'][index],slab_result['chisq'][index],slab_result['dof'][index]),'&',\n",
    "          '%.3f'%float(slab_result['log_fobs'][index]),'$\\pm$','%.3f'%float(slab_result['log_fobs_err'][index]),'&',\n",
    "          '%.3f'%float(slab_result['log_fint'][index]),'$\\pm$','%.3f'%float(slab_result['log_fint_err'][index]),'&',\n",
    "          '%.3f'%float(slab_result['log_f_int_norm'][index]),'$\\pm$','%.3f'%float(slab_result['log_fnorm_err'][index]),'&',\n",
    "                  \n",
    "          #'%.3f'%float(slab_result['log_fobs10to50'][index]),'$\\pm$','%.3f'%float(slab_result['log_fobs10to50_err'][index]),'&',\n",
    "          #'%.3f'%float(slab_result['log_fint10to50'][index]),'$\\pm$','%.3f'%float(slab_result['log_fint10to50_err'][index]),#'&',\n",
    "        \n",
    "          #'%.3f'%float(slab_result['log_Lx/Ledd'][index]),'$\\pm$','%.3f'%float(slab_result['log_f_err'][index]),'&',        \n",
    "          #'%.3f'%float(slab_result['log_Lx_10to50keV/Ledd'][index]),'$\\pm$','%.3f'%float(slab_result['log_f_err_10to50keV'][index]),  \n",
    "        \n",
    "          '\\\\\\\\',\n",
    "         )\n"
   ]
  },
  {
   "cell_type": "code",
   "execution_count": null,
   "metadata": {
    "ExecuteTime": {
     "end_time": "2023-06-22T05:49:53.306645Z",
     "start_time": "2023-06-22T05:49:53.300481Z"
    }
   },
   "outputs": [],
   "source": [
    "slab_result.columns"
   ]
  },
  {
   "cell_type": "code",
   "execution_count": null,
   "metadata": {
    "ExecuteTime": {
     "end_time": "2023-06-22T05:55:55.474258Z",
     "start_time": "2023-06-22T05:55:55.466959Z"
    }
   },
   "outputs": [],
   "source": [
    "slab_resultT=slab_result.T"
   ]
  },
  {
   "cell_type": "code",
   "execution_count": null,
   "metadata": {
    "ExecuteTime": {
     "end_time": "2023-06-22T05:59:06.173009Z",
     "start_time": "2023-06-22T05:59:06.168859Z"
    }
   },
   "outputs": [],
   "source": [
    "slab_resultT.columns#[1][0]"
   ]
  },
  {
   "cell_type": "code",
   "execution_count": null,
   "metadata": {
    "ExecuteTime": {
     "end_time": "2023-06-22T05:59:50.971891Z",
     "start_time": "2023-06-22T05:59:50.952455Z"
    }
   },
   "outputs": [],
   "source": [
    "slab_resultT#.index"
   ]
  },
  {
   "cell_type": "code",
   "execution_count": null,
   "metadata": {
    "ExecuteTime": {
     "end_time": "2023-06-22T06:03:44.598767Z",
     "start_time": "2023-06-22T06:03:44.592094Z"
    }
   },
   "outputs": [],
   "source": [
    "columns_select= ['obsid', 'zphabs_nh(10^22)', 'zphabs_nh_err', 'phoindex',\n",
    "       'phoindex_err', 'highEcut', 'highEcut_err', 'zcutoffplnorm',\n",
    "       'zcutoffplnorm_err', 'zgaussLineE', 'zgaussLineE_err', 'zgaussSigma',\n",
    "       'zgaussSigma_err', 'zgaussnorm', 'zgaussnorm_err', 'rel_refl',\n",
    "       'rel_refl_err', 'cosIncl', 'cosIncl_err', 'fscatter', 'fscatter_err',\n",
    "       'chi_2', 'dof', 'rechi_2', 'log_f', 'log_f_err', 'log_f_10to50keV',\n",
    "       'log_f_err_10to50keV', 'logmass', 'logLedd', 'redshift', 'D_cm',\n",
    "       'logLx', 'log_Lx/Ledd', 'logLx_10to50keV', 'log_Lx_10to50keV/Ledd',\n",
    "       'f_int', 'log_f_int', 'logLx_int', 'log_Lx_int/Ledd']"
   ]
  },
  {
   "cell_type": "code",
   "execution_count": null,
   "metadata": {
    "ExecuteTime": {
     "end_time": "2023-06-22T06:00:45.331270Z",
     "start_time": "2023-06-22T06:00:45.327164Z"
    }
   },
   "outputs": [],
   "source": [
    "slab_resultT[1]['name']"
   ]
  },
  {
   "cell_type": "code",
   "execution_count": null,
   "metadata": {
    "ExecuteTime": {
     "end_time": "2023-06-22T06:03:49.047792Z",
     "start_time": "2023-06-22T06:03:47.912126Z"
    }
   },
   "outputs": [],
   "source": [
    "for index,name in enumerate(columns_select): \n",
    "    print(name,end='')\n",
    "    for i in range(15):       \n",
    "        print('&',slab_resultT[i][name],end='')              \n",
    "    print()          \n"
   ]
  },
  {
   "cell_type": "code",
   "execution_count": null,
   "metadata": {},
   "outputs": [],
   "source": []
  },
  {
   "cell_type": "markdown",
   "metadata": {
    "ExecuteTime": {
     "end_time": "2023-01-05T12:09:49.096427Z",
     "start_time": "2023-01-05T12:09:49.089703Z"
    }
   },
   "source": [
    "### plotall"
   ]
  },
  {
   "cell_type": "code",
   "execution_count": null,
   "metadata": {
    "ExecuteTime": {
     "end_time": "2023-02-02T03:21:14.489341Z",
     "start_time": "2023-02-02T03:21:12.842490Z"
    }
   },
   "outputs": [],
   "source": [
    "fig = plt.figure(figsize=(12,12))\n",
    "fig.subplots_adjust(hspace=0.3, wspace = 0.5)\n",
    "\n",
    "\n",
    "\n",
    "ax = fig.add_subplot(2,2,1)\n",
    "\n",
    "xlabel='log_Lx/Ledd'\n",
    "ylabel='phoindex'\n",
    "xerr_label='log_f_err'\n",
    "yerr_label='phoindex_err'\n",
    "color_label='zphabs_nh(10^22)'\n",
    "#dataplot=slab_zgauss_result\n",
    "#ax=plot_errorbar_cmap(ax,dataplot,xlabel,ylabel,xerr=xerr_label,yerr=yerr_label,color_n=color_label,marker_n='name',size_n=None,logx=False,logy=False)\n",
    "dataplot=slab_result\n",
    "ax=plot_errorbar_cmap(ax,dataplot,xlabel,ylabel,xerr=xerr_label,yerr=yerr_label,color_n=color_label,marker_n='name',size_n=None,logx=False,logy=False)\n",
    "set_ax_tick(ax) \n",
    "#set_ax_locator(ax,xma=1000,xmi=500,yma=1,ymi=0.5)\n",
    "set_ax_legend(ax,bbox_to_anchor=(0.01, 0.99))   \n",
    "#ax.set_ylim(-7,17)\n",
    "ax.set_xlabel(xlabel)\n",
    "ax.set_ylabel(ylabel)\n",
    "\n",
    "\n",
    "\n",
    "ax = fig.add_subplot(2,2,2)\n",
    "\n",
    "xlabel='log_Lx/Ledd'\n",
    "ylabel='zphabs_nh(10^22)'\n",
    "xerr_label='log_f_err'\n",
    "yerr_label='zphabs_nh_err'\n",
    "color_label='phoindex'\n",
    "\n",
    "dataplot=slab_result\n",
    "ax=plot_errorbar_cmap(ax,dataplot,xlabel,ylabel,xerr=xerr_label,yerr=yerr_label,color_n=color_label,marker_n='name',size_n=None,logx=False,logy=False)\n",
    "\n",
    "set_ax_tick(ax) \n",
    "#set_ax_locator(ax,xma=1000,xmi=500,yma=1,ymi=0.5)\n",
    "set_ax_legend(ax,bbox_to_anchor=(0.51, 0.99))   \n",
    "#ax.set_ylim(-7,17)\n",
    "#ax.semilogy()\n",
    "ax.set_xlabel(xlabel)\n",
    "ax.set_ylabel(ylabel)\n",
    "\n",
    "ax = fig.add_subplot(2,2,3)\n",
    "xlabel='zphabs_nh(10^22)'\n",
    "ylabel='phoindex'\n",
    "xerr_label='zphabs_nh_err'\n",
    "yerr_label='phoindex_err'\n",
    "color_label='log_Lx/Ledd'\n",
    "dataplot=slab_result\n",
    "ax=plot_errorbar_cmap(ax,dataplot,xlabel,ylabel,xerr=xerr_label,yerr=yerr_label,color_n=color_label,marker_n='name',size_n=None,logx=False,logy=False)\n",
    "set_ax_tick(ax) \n",
    "#set_ax_locator(ax,xma=1000,xmi=500,yma=1,ymi=0.5)\n",
    "set_ax_legend(ax,bbox_to_anchor=(0.41, 0.99))   \n",
    "#ax.set_ylim(-0.1,0.5)\n",
    "ax.set_xlabel(xlabel)\n",
    "ax.set_ylabel(ylabel)\n",
    "\n",
    "\n",
    "\n",
    "ax = fig.add_subplot(2,2,4)\n",
    "\n",
    "xlabel='log_Lx/Ledd'\n",
    "ylabel='zgaussSigma'\n",
    "xerr_label='log_f_err'\n",
    "yerr_label='zgaussSigma_err'\n",
    "color_label='zphabs_nh(10^22)'\n",
    "\n",
    "dataplot=slab_result\n",
    "ax=plot_errorbar_cmap(ax,dataplot,xlabel,ylabel,xerr=xerr_label,yerr=yerr_label,color_n=color_label,marker_n='name',size_n=None,logx=False,logy=False)\n",
    "set_ax_tick(ax) \n",
    "#set_ax_locator(ax,xma=1000,xmi=500,yma=1,ymi=0.5)\n",
    "set_ax_legend(ax,bbox_to_anchor=(0.11, 0.99))   \n",
    "ax.set_ylim(-0.1,0.5)\n",
    "ax.set_xlabel(xlabel)\n",
    "ax.set_ylabel(ylabel)\n",
    "\n",
    "model_name='Slab'\n",
    "#ax.set_title('%s model'%model_name)\n",
    "plt.title('%s model'%model_name)\n",
    "save_lc_img_path=os.path.join('/Users/lyubing/Downloads/','%s_cmap.png'%model_name) \n",
    "plt.savefig(save_lc_img_path,dpi=400, transparent=False, bbox_inches='tight')\n",
    "#plt.close()    "
   ]
  },
  {
   "cell_type": "code",
   "execution_count": null,
   "metadata": {
    "ExecuteTime": {
     "end_time": "2023-02-02T03:44:42.129360Z",
     "start_time": "2023-02-02T03:44:42.118457Z"
    }
   },
   "outputs": [],
   "source": [
    "min(slab_result['log_Lx/Ledd']),max(slab_result['log_Lx/Ledd'])"
   ]
  },
  {
   "cell_type": "code",
   "execution_count": null,
   "metadata": {
    "ExecuteTime": {
     "end_time": "2023-03-03T07:39:41.339743Z",
     "start_time": "2023-03-03T07:39:41.329379Z"
    }
   },
   "outputs": [],
   "source": [
    "np.cos(70*np.pi/180)"
   ]
  },
  {
   "cell_type": "code",
   "execution_count": null,
   "metadata": {
    "ExecuteTime": {
     "end_time": "2023-03-03T07:40:02.159643Z",
     "start_time": "2023-03-03T07:40:02.150022Z"
    }
   },
   "outputs": [],
   "source": [
    "np.arccos(0.55)*180/np.pi"
   ]
  },
  {
   "cell_type": "markdown",
   "metadata": {},
   "source": [
    "### plot3para"
   ]
  },
  {
   "cell_type": "code",
   "execution_count": null,
   "metadata": {
    "ExecuteTime": {
     "end_time": "2023-06-14T05:22:59.294988Z",
     "start_time": "2023-06-14T05:22:57.839033Z"
    }
   },
   "outputs": [],
   "source": [
    "fig = plt.figure(figsize=(10,10))\n",
    "fig.subplots_adjust(hspace=0., wspace = 0.0)\n",
    "ax = fig.add_subplot(2,2,1)\n",
    "\n",
    "xlabel='log_Lx/Ledd'\n",
    "ylabel='phoindex'\n",
    "xerr_label='log_f_err'\n",
    "yerr_label='phoindex_err'\n",
    "color_label='black'\n",
    "#dataplot=slab_zgauss_result\n",
    "#ax=plot_errorbar_cmap(ax,dataplot,xlabel,ylabel,xerr=xerr_label,yerr=yerr_label,color_n=color_label,marker_n='name',size_n=None,logx=False,logy=False)\n",
    "dataplot=slab_result\n",
    "ax=plot_errorbar(ax,dataplot,xlabel,ylabel,xerr=xerr_label,yerr=yerr_label,color_n=color_label,marker_n='name',size_n=None,logx=False,logy=False)\n",
    "set_ax_tick(ax) \n",
    "set_ax_locator(ax,xma=1.0,xmi=0.2,yma=0.2,ymi=0.1)\n",
    "set_ax_legend(ax,bbox_to_anchor=(0.01, 0.99))   \n",
    "#ax.set_ylim(-7,17)\n",
    "ax.set_xlabel(r'log($L_{\\rm X}/L_{\\rm Edd}$)')\n",
    "ax.set_ylabel(r'$\\Gamma$')\n",
    "model_name='Slab'\n",
    "ax.set_title('%s model'%model_name)\n",
    "\n",
    "\n",
    "ax2 = fig.add_subplot(2,2,2,sharey=ax)\n",
    "xlabel='zphabs_nh(10^22)'\n",
    "ylabel='phoindex'\n",
    "xerr_label='zphabs_nh_err'\n",
    "yerr_label='phoindex_err'\n",
    "\n",
    "dataplot=slab_result\n",
    "ax2=plot_errorbar(ax2,dataplot,xlabel,ylabel,xerr=xerr_label,yerr=yerr_label,color_n=color_label,marker_n='name',size_n=None,logx=False,logy=False)\n",
    "set_ax_tick(ax2) \n",
    "#set_ax_locator(ax,xma=1000,xmi=500,yma=1,ymi=0.5)\n",
    "#set_ax_legend(ax2,bbox_to_anchor=(0.51, 0.99))   \n",
    "#ax.set_ylim(-0.1,0.5)\n",
    "ax2.set_xlabel(r'$N_{\\rm H,los (10^{22} cm^{-2})}$')\n",
    "#ax2.set_ylabel(r'$\\Gamma$')\n",
    "#ax2.yaxis.set_major_formatter(ticker.NullFormatter())\n",
    "set_ax_locator(ax2,xma=25,xmi=5,yma=0.2,ymi=0.1)\n",
    "ax2.yaxis.set_tick_params(which='major', size=10, width=2, direction='in', top='on',labelsize=0)\n",
    "\n",
    "\n",
    "ax3 = fig.add_subplot(2,2,3,sharex=ax)\n",
    "\n",
    "xlabel='log_Lx/Ledd'\n",
    "ylabel='zphabs_nh(10^22)'\n",
    "xerr_label='log_f_err'\n",
    "yerr_label='zphabs_nh_err'\n",
    "\n",
    "\n",
    "dataplot=slab_result\n",
    "ax3=plot_errorbar(ax3,dataplot,xlabel,ylabel,xerr=xerr_label,yerr=yerr_label,color_n=color_label,marker_n='name',size_n=None,logx=False,logy=False)\n",
    "\n",
    "set_ax_tick(ax3) \n",
    "#set_ax_locator(ax,xma=1000,xmi=500,yma=1,ymi=0.5)\n",
    "#set_ax_legend(ax3,bbox_to_anchor=(0.51, 0.99))   \n",
    "#ax.set_ylim(-7,17)\n",
    "#ax.semilogy()\n",
    "ax3.set_xlabel(r'log($L_{\\rm X}/L_{\\rm Edd}$)')\n",
    "ax3.set_ylabel(r'$N_{\\rm H,los (10^{22} cm^{-2})}$')\n",
    "\n",
    "ax4 = fig.add_subplot(3,3,9,sharey=ax3)\n",
    "\n",
    "xlabel='logLx'\n",
    "ylabel='zphabs_nh(10^22)'\n",
    "xerr_label='log_f_err'\n",
    "yerr_label='zphabs_nh_err'\n",
    "\n",
    "\n",
    "dataplot=slab_result\n",
    "a4=plot_errorbar(ax4,dataplot,xlabel,ylabel,xerr=xerr_label,yerr=yerr_label,color_n=color_label,marker_n='name',size_n=None,logx=False,logy=False)\n",
    "set_ax_tick(ax4) \n",
    "ax4.set_xlabel(r'log($L_{\\rm X}$)')\n",
    "\n",
    "#ax2.xaxis.set_tick_params(which='major', size=10, width=2, direction='in', top='on',)\n",
    "#ax2.xaxis.set_tick_params(which='minor', size=5, width=2, direction='in', top='on')\n",
    "#ax2.yaxis.set_tick_params(which='major', size=10, width=2, direction='in', right='on')\n",
    "#ax2.yaxis.set_tick_params(which='minor', size=5, width=2, direction='in', right='on')\n",
    "\n",
    "\n",
    "#ax.set_title('%s model'%model_name)\n",
    "save_lc_img_path=os.path.join('/Users/lyubing/Downloads/','%s.png'%model_name) \n",
    "plt.savefig(save_lc_img_path,dpi=400, transparent=False, bbox_inches='tight')\n",
    "#plt.close()    "
   ]
  },
  {
   "cell_type": "markdown",
   "metadata": {},
   "source": [
    "### plot logL nh"
   ]
  },
  {
   "cell_type": "code",
   "execution_count": null,
   "metadata": {
    "ExecuteTime": {
     "end_time": "2023-06-21T12:44:12.059407Z",
     "start_time": "2023-06-21T12:44:12.007216Z"
    }
   },
   "outputs": [],
   "source": [
    "slab_result.columns"
   ]
  },
  {
   "cell_type": "code",
   "execution_count": null,
   "metadata": {
    "ExecuteTime": {
     "end_time": "2023-11-28T12:06:20.666446Z",
     "start_time": "2023-11-28T12:06:20.211984Z"
    }
   },
   "outputs": [],
   "source": [
    "fig = plt.figure(figsize=(10,10))\n",
    "fig.subplots_adjust(hspace=0., wspace = 0.0)\n",
    "ax = fig.add_subplot(3,3,1)\n",
    "\n",
    "xlabel='logLx'\n",
    "ylabel='phoindex'\n",
    "xerr_label='log_f_err'\n",
    "yerr_label='phoindex_err'\n",
    "color_label='black'\n",
    "#dataplot=slab_zgauss_result\n",
    "#ax=plot_errorbar_cmap(ax,dataplot,xlabel,ylabel,xerr=xerr_label,yerr=yerr_label,color_n=color_label,marker_n='name',size_n=None,logx=False,logy=False)\n",
    "dataplot=slab_result\n",
    "ax=plot_errorbar(ax,dataplot,xlabel,ylabel,xerr=xerr_label,yerr=yerr_label,color_n=color_label,marker_n='name',size_n=None,logx=False,logy=False)\n",
    "set_ax_tick(ax)\n",
    "#set_ax_locator(ax,xma=1.0,xmi=0.2,yma=0.2,ymi=0.1)\n",
    "ax.xaxis.set_major_locator(mpl.ticker.MultipleLocator(0.4))\n",
    "ax.xaxis.set_minor_locator(mpl.ticker.MultipleLocator(0.2))\n",
    "\n",
    "set_ax_legend(ax,bbox_to_anchor=(0.01, 0.99))\n",
    "#ax.set_ylim(-7,17)\n",
    "#ax.set_xlabel(r'log($L_{\\rm 2-10keV}/L_{\\rm Edd}$)')\n",
    "ax.set_ylabel(r'$\\Gamma$')\n",
    "model_name='Slab'\n",
    "\n",
    "\n",
    "\n",
    "'''ax2 = fig.add_subplot(3,3,3,sharey=ax)\n",
    "xlabel='zphabs_nh(10^22)'\n",
    "ylabel='phoindex'\n",
    "xerr_label='zphabs_nh_err'\n",
    "yerr_label='phoindex_err'\n",
    "\n",
    "dataplot=slab_result\n",
    "ax2=plot_errorbar(ax2,dataplot,xlabel,ylabel,xerr=xerr_label,yerr=yerr_label,color_n=color_label,marker_n='name',size_n=None,logx=False,logy=False)\n",
    "set_ax_tick(ax2)\n",
    "#set_ax_locator(ax,xma=1000,xmi=500,yma=1,ymi=0.5)\n",
    "#set_ax_legend(ax2,bbox_to_anchor=(0.51, 0.99))\n",
    "#ax.set_ylim(-0.1,0.5)\n",
    "ax2.set_xlabel(r'$N_{\\rm H,los (10^{22} cm^{-2})}$')\n",
    "#ax2.set_ylabel(r'$\\Gamma$')\n",
    "#ax2.yaxis.set_major_formatter(ticker.NullFormatter())\n",
    "set_ax_locator(ax2,xma=25,xmi=5,yma=0.2,ymi=0.1)\n",
    "ax2.yaxis.set_tick_params(which='major', size=10, width=2, direction='in', top='on',labelsize=0)\n",
    "'''\n",
    "\n",
    "ax3 = fig.add_subplot(3,3,4,sharex=ax)\n",
    "\n",
    "xlabel='logLx'\n",
    "ylabel='zphabs_nh(10^22)'\n",
    "xerr_label='log_f_err'\n",
    "yerr_label='zphabs_nh_err'\n",
    "\n",
    "\n",
    "dataplot=slab_result\n",
    "ax3=plot_errorbar(ax3,dataplot,xlabel,ylabel,xerr=xerr_label,yerr=yerr_label,color_n=color_label,marker_n='name',size_n=None,logx=False,logy=False)\n",
    "\n",
    "set_ax_tick(ax3)\n",
    "#set_ax_locator(ax,xma=1000,xmi=500,yma=1,ymi=0.5)\n",
    "#set_ax_legend(ax3,bbox_to_anchor=(0.51, 0.99))\n",
    "#ax.set_ylim(-7,17)\n",
    "#ax.semilogy()\n",
    "ax3.set_xlabel(r'log($L_{\\rm \\, 2-10keV}/L_{\\rm Edd}$)')\n",
    "ax3.set_ylabel(r'$N_{\\rm H,los (10^{22} cm^{-2})}$')\n",
    "\n",
    "###############\n",
    "ax4 = fig.add_subplot(3,3,2,sharey=ax)\n",
    "xlabel='logLx_10to50keV' \n",
    "ylabel='phoindex'\n",
    "xerr_label='log_f_err_10to50keV'\n",
    "yerr_label='phoindex_err'\n",
    "dataplot=slab_result\n",
    "ax4=plot_errorbar(ax4,dataplot,xlabel,ylabel,xerr=xerr_label,yerr=yerr_label,color_n=color_label,marker_n='name',size_n=None,logx=False,logy=False)\n",
    "set_ax_tick(ax4)\n",
    "#ax4.set_title('%s model'%model_name,pad=10)\n",
    "#ax4.text(1.0, 1.05, '%s'%model_name, horizontalalignment = 'center', verticalalignment = 'center', transform = ax.transAxes, fontsize = 20)\n",
    "\n",
    "ax4.yaxis.set_tick_params(which='major', size=10, width=2, direction='in', top='on',labelsize=0)\n",
    "\n",
    "#set_ax_locator(ax,xma=1000,xmi=500,yma=1,ymi=0.5)\n",
    "#set_ax_legend(ax3,bbox_to_anchor=(0.51, 0.99))\n",
    "#ax.set_ylim(-7,17)\n",
    "#ax.semilogy()\n",
    "#ax4.set_xlabel(r'log($L_{\\rm 10-50keV}/L_{\\rm Edd}$)')\n",
    "#ax4.set_ylabel(r'$N_{\\rm H,los (10^{22} cm^{-2})}$')\n",
    "\n",
    "\n",
    "\n",
    "ax5 = fig.add_subplot(3,3,5,sharex=ax4,sharey=ax3)\n",
    "xlabel='logLx_10to50keV' \n",
    "ylabel='zphabs_nh(10^22)'\n",
    "xerr_label='log_f_err_10to50keV'\n",
    "yerr_label='zphabs_nh_err'\n",
    "\n",
    "dataplot=slab_result\n",
    "ax5=plot_errorbar(ax5,dataplot,xlabel,ylabel,xerr=xerr_label,yerr=yerr_label,color_n=color_label,marker_n='name',size_n=None,logx=False,logy=False)\n",
    "set_ax_tick(ax5)\n",
    "#set_ax_locator(ax,xma=1000,xmi=500,yma=1,ymi=0.5)\n",
    "#set_ax_legend(ax3,bbox_to_anchor=(0.51, 0.99))\n",
    "#ax.set_ylim(-7,17)\n",
    "#ax.semilogy()\n",
    "ax5.set_xlabel(r'log($L_{\\rm \\, 10-50keV}/L_{\\rm Edd}$)')\n",
    "#ax5.set_ylabel(r'$N_{\\rm H,los (10^{22} cm^{-2})}$')\n",
    "ax5.yaxis.set_tick_params(which='major', size=10, width=2, direction='in', top='on',labelsize=0)\n",
    "ax5.xaxis.set_major_locator(mpl.ticker.MultipleLocator(1.0))\n",
    "ax5.xaxis.set_minor_locator(mpl.ticker.MultipleLocator(0.2))\n",
    "#ax5.set_xlim(-3.9,-1.9)\n",
    "#ax5.set_ylim(-10,90)\n",
    "ax5.semilogy()\n",
    "ax5.set_ylim(-0.1,249)\n",
    "\n",
    "'''\n",
    "ax6=fig.add_subplot(3,3,7,sharex=ax)\n",
    "xlabel='log_Lx/Ledd'\n",
    "ylabel='log_Lx_10to50keV/Ledd'\n",
    "xerr_label='log_f_err'\n",
    "yerr_label='log_f_err_10to50keV'\n",
    "#color_label='zphabs_nh(10^22)'\n",
    "color_label='black'\n",
    "#dataplot=slab_zgauss_result\n",
    "#ax=plot_errorbar_cmap(ax,dataplot,xlabel,ylabel,xerr=xerr_label,yerr=yerr_label,color_n=color_label,marker_n='name',size_n=None,logx=False,logy=False)\n",
    "\n",
    "x_ledd_lin= np.linspace(-4.5,-2.5,100)\n",
    "dataplot=slab_result\n",
    "ax6=plot_errorbar(ax6,dataplot,xlabel,ylabel,xerr=xerr_label,yerr=yerr_label,color_n=color_label,marker_n='name',size_n=None,logx=False,logy=False)\n",
    "set_ax_tick(ax6)\n",
    "#ax2.xaxis.set_tick_params(which='major', size=10, width=2, direction='in', top='on',)\n",
    "#ax2.xaxis.set_tick_params(which='minor', size=5, width=2, direction='in', top='on')\n",
    "#ax2.yaxis.set_tick_params(which='major', size=10, width=2, direction='in', right='on')\n",
    "#ax2.yaxis.set_tick_params(which='minor', size=5, width=2, direction='in', right='on')\n",
    "ax6.set_xlabel(r'log($L_{\\rm 2-10keV}/L_{\\rm Edd}$)') #, intrisic\n",
    "ax6.set_ylabel(r'log($L_{\\rm 10-50keV}/L_{\\rm Edd}$)')\n",
    "ax6.yaxis.set_major_locator(mpl.ticker.MultipleLocator(1.0))\n",
    "ax6.yaxis.set_minor_locator(mpl.ticker.MultipleLocator(0.2))\n",
    "ax6.set_ylim(-0.1,85)\n",
    "\n",
    "x_ledd_lin= np.linspace(-4.5,-2.1,100)\n",
    "ax6.plot(x_ledd_lin, fitted_line(x_ledd_lin), color='black',ls='--', linewidth=2,label=r'y=0.62x-0.7')\n",
    "#ax6.text(0.3,0.8,r'$y$=0.62$x$-0.7',horizontalalignment = 'center', verticalalignment = 'center', transform = ax6.transAxes, fontsize = 16)\n",
    "ax6.set_ylim(-3.8,-1.9)\n",
    "'''\n",
    "#ax.set_xlim(-4.2,-2.1)\n",
    "ax.set_ylim(1.21,1.99)\n",
    "\n",
    "#ax.set_title('%s model'%model_name)\n",
    "#save_lc_img_path=os.path.join('/Users/lyubing/Downloads/OXCLAGN/OXCLAGN/pic/Gamma_L_nh_pic/','%s_p4.png'%model_name)\n",
    "#save_lc_img_path=os.path.join('/Users/lyubing/Downloads/OXCLAGN/OXCLAGN/pic/Gamma_L_nh_pic/','%s_p4.pdf'%model_name)\n",
    "\n",
    "save_lc_img_path=os.path.join('/Users/lyubing/Downloads/OXCLAGN/003_OXCLAGN/pic/Gamma_L_nh_pic/','logL_%s_p4_intrinsic.pdf'%model_name)\n",
    "plt.savefig(save_lc_img_path,dpi=400, transparent=False, bbox_inches='tight')\n",
    "#plt.close()\n"
   ]
  },
  {
   "cell_type": "code",
   "execution_count": null,
   "metadata": {
    "ExecuteTime": {
     "end_time": "2023-07-26T06:41:54.255854Z",
     "start_time": "2023-07-26T06:41:54.247979Z"
    }
   },
   "outputs": [],
   "source": [
    "slab_result.columns"
   ]
  },
  {
   "cell_type": "markdown",
   "metadata": {},
   "source": [
    "### plot4para fint"
   ]
  },
  {
   "cell_type": "code",
   "execution_count": null,
   "metadata": {
    "ExecuteTime": {
     "end_time": "2023-07-29T13:52:48.218906Z",
     "start_time": "2023-07-29T13:52:48.208183Z"
    }
   },
   "outputs": [],
   "source": [
    "data_literature_plot_select.columns"
   ]
  },
  {
   "cell_type": "code",
   "execution_count": null,
   "metadata": {
    "ExecuteTime": {
     "end_time": "2023-10-20T19:50:55.467591Z",
     "start_time": "2023-10-20T19:50:55.453273Z"
    }
   },
   "outputs": [],
   "source": [
    "slab_result['log_Lx_int/Ledd']#.columns"
   ]
  },
  {
   "cell_type": "code",
   "execution_count": null,
   "metadata": {},
   "outputs": [],
   "source": []
  },
  {
   "cell_type": "code",
   "execution_count": null,
   "metadata": {
    "ExecuteTime": {
     "end_time": "2023-11-28T12:09:32.789446Z",
     "start_time": "2023-11-28T12:09:30.674745Z"
    },
    "scrolled": false
   },
   "outputs": [],
   "source": [
    "fig = plt.figure(figsize=(12,12))\n",
    "fig.subplots_adjust(hspace=0., wspace = 0.0)\n",
    "\n",
    "ax0 = fig.add_subplot(3,3,1)\n",
    "xlabel='logLx_int'\n",
    "ylabel='phoindex'\n",
    "xerr_label='log_fint_err'\n",
    "yerr_label='phoindex_err'\n",
    "color_label='black'\n",
    "#dataplot=slab_zgauss_result\n",
    "#ax=plot_errorbar_cmap(ax,dataplot,xlabel,ylabel,xerr=xerr_label,yerr=yerr_label,color_n=color_label,marker_n='name',size_n=None,logx=False,logy=False)\n",
    "dataplot=slab_result\n",
    "ax0=plot_errorbar(ax0,dataplot,xlabel,ylabel,xerr=xerr_label,yerr=yerr_label,color_n=color_label,marker_n='name',size_n=None,logx=False,logy=False)\n",
    "set_ax_tick(ax0)\n",
    "#set_ax_locator(ax,xma=1.0,xmi=0.2,yma=0.2,ymi=0.1)\n",
    "\n",
    "#ax.set_ylim(-7,17)\n",
    "#ax.set_xlabel(r'log($L_{\\rm 2-10keV}/L_{\\rm Edd}$)')\n",
    "ax0.set_ylabel(r'$\\Gamma$')\n",
    "\n",
    "\n",
    "ax2 = fig.add_subplot(3,3,4,sharex=ax0)\n",
    "xlabel='logLx_int'\n",
    "ylabel='los_nh(10^22)'\n",
    "xerr_label='log_fint_err'\n",
    "yerr_label='los_nh_err'\n",
    "color_label='black'\n",
    "dataplot=slab_result\n",
    "ax2=plot_errorbar(ax2,dataplot,xlabel,ylabel,xerr=xerr_label,yerr=yerr_label,color_n=color_label,marker_n='name',size_n=None,logx=False,logy=False)\n",
    "set_ax_tick(ax2)\n",
    "#set_ax_locator(ax,xma=1000,xmi=500,yma=1,ymi=0.5)\n",
    "#set_ax_legend(ax3,bbox_to_anchor=(0.51, 0.99))\n",
    "#ax.set_ylim(-7,17)\n",
    "#ax.semilogy()\n",
    "ax2.set_xlabel(r'log($L_{\\rm \\, 2-10keV}$)')\n",
    "ax2.set_ylabel(r'$N_{\\rm H,los (10^{22} cm^{-2})}$')\n",
    "\n",
    "#####################################\n",
    "\n",
    "\n",
    "model_name='Slab'\n",
    "\n",
    "ax3 = fig.add_subplot(3,3,2,sharey=ax0)\n",
    "xlabel='log_Lx_int/Ledd'\n",
    "ylabel='phoindex'\n",
    "xerr_label='log_fint_err'\n",
    "yerr_label='phoindex_err'\n",
    "color_label='black'\n",
    "#dataplot=slab_zgauss_result\n",
    "#ax=plot_errorbar_cmap(ax,dataplot,xlabel,ylabel,xerr=xerr_label,yerr=yerr_label,color_n=color_label,marker_n='name',size_n=None,logx=False,logy=False)\n",
    "dataplot=slab_result\n",
    "ax3=plot_errorbar(ax3,dataplot,xlabel,ylabel,xerr=xerr_label,yerr=yerr_label,color_n=color_label,marker_n='name',size_n=None,logx=False,logy=False)\n",
    "set_ax_tick(ax3)\n",
    "\n",
    "\n",
    "ax4 = fig.add_subplot(3,3,5,sharex=ax3,sharey=ax2)\n",
    "xlabel='log_Lx_int/Ledd'\n",
    "ylabel='los_nh(10^22)'\n",
    "xerr_label='log_fint_err'\n",
    "yerr_label='los_nh_err'\n",
    "color_label='black'\n",
    "dataplot=slab_result\n",
    "ax4=plot_errorbar(ax4,dataplot,xlabel,ylabel,xerr=xerr_label,yerr=yerr_label,color_n=color_label,marker_n='name',size_n=None,logx=False,logy=False)\n",
    "set_ax_tick(ax4)\n",
    "ax4.set_xlabel(r'log($L_{\\rm \\, 2-10keV}/L_{\\rm Edd}$)')\n",
    "\n",
    "############################################################\n",
    "\n",
    "for index,(nh_i,Gamma_i,ledd_i) in enumerate(zip(NGC1365Liuhao['nH'],NGC1365Liuhao['Gamma'],NGC1365Liuhao['logLX/LEDD'])):\n",
    "    #print(nh_i)\n",
    "    nh_i_v= float(nh_i.split('_{')[0].split('$')[1])\n",
    "    nh_i_l= float(nh_i.split('_{')[1].split('}^{')[0])\n",
    "    nh_i_u= float(nh_i.split('}^{+')[1].split('}')[0])\n",
    "    \n",
    "    Gamma_i_v= float(Gamma_i.split('_{')[0].split('$')[1])\n",
    "    Gamma_i_l= float(Gamma_i.split('_{')[1].split('}^{')[0])\n",
    "    Gamma_i_u= float(Gamma_i.split('}^{+')[1].split('}')[0])\n",
    "    \n",
    "    #ledd_i_v= float(ledd_i.split('_{')[0].split('$')[1])\n",
    "    #ledd_i_l= float(ledd_i.split('_{')[1].split('}^{')[0])\n",
    "    #ledd_i_u= float(ledd_i.split('}^{+')[1].split('}')[0])\n",
    "    \n",
    "    if NGC1365Liuhao.loc[index,'model'].find('C')>0:\n",
    "        color='black'\n",
    "    #else:\n",
    "        #color='red'\n",
    "    #print(nh_i_v,nh_i_l,nh_i_u,Gamma_i_v,Gamma_i_l,Gamma_i_u,ledd_i)\n",
    "        ax3.scatter(ledd_i,Gamma_i_v,marker='p',color=color)\n",
    "        ax4.scatter(ledd_i,nh_i_v,marker='p',color=color)\n",
    "        ax0.scatter(np.log10(1.26e38)+6.65+ledd_i,Gamma_i_v,marker='p',color=color,label='NGC1365')\n",
    "        ax2.scatter(np.log10(1.26e38)+6.65+ledd_i,nh_i_v,marker='p',color=color)\n",
    "\n",
    "###########################################################################\n",
    "\n",
    "'''\n",
    "ax6=fig.add_subplot(3,3,7,sharex=ax)\n",
    "xlabel='log_Lx/Ledd'\n",
    "ylabel='log_Lx_10to50keV/Ledd'\n",
    "xerr_label='log_f_err'\n",
    "yerr_label='log_f_err_10to50keV'\n",
    "#color_label='zphabs_nh(10^22)'\n",
    "color_label='black'\n",
    "#dataplot=slab_zgauss_result\n",
    "#ax=plot_errorbar_cmap(ax,dataplot,xlabel,ylabel,xerr=xerr_label,yerr=yerr_label,color_n=color_label,marker_n='name',size_n=None,logx=False,logy=False)\n",
    "\n",
    "x_ledd_lin= np.linspace(-4.5,-2.5,100)\n",
    "dataplot=slab_result\n",
    "ax6=plot_errorbar(ax6,dataplot,xlabel,ylabel,xerr=xerr_label,yerr=yerr_label,color_n=color_label,marker_n='name',size_n=None,logx=False,logy=False)\n",
    "set_ax_tick(ax6)\n",
    "#ax2.xaxis.set_tick_params(which='major', size=10, width=2, direction='in', top='on',)\n",
    "#ax2.xaxis.set_tick_params(which='minor', size=5, width=2, direction='in', top='on')\n",
    "#ax2.yaxis.set_tick_params(which='major', size=10, width=2, direction='in', right='on')\n",
    "#ax2.yaxis.set_tick_params(which='minor', size=5, width=2, direction='in', right='on')\n",
    "ax6.set_xlabel(r'log($L_{\\rm 2-10keV}/L_{\\rm Edd}$)') #, intrisic\n",
    "ax6.set_ylabel(r'log($L_{\\rm 10-50keV}/L_{\\rm Edd}$)')\n",
    "ax6.yaxis.set_major_locator(mpl.ticker.MultipleLocator(1.0))\n",
    "ax6.yaxis.set_minor_locator(mpl.ticker.MultipleLocator(0.2))\n",
    "ax6.set_ylim(-0.1,85)\n",
    "\n",
    "x_ledd_lin= np.linspace(-4.5,-2.1,100)\n",
    "ax6.plot(x_ledd_lin, fitted_line(x_ledd_lin), color='black',ls='--', linewidth=2,label=r'y=0.62x-0.7')\n",
    "#ax6.text(0.3,0.8,r'$y$=0.62$x$-0.7',horizontalalignment = 'center', verticalalignment = 'center', transform = ax6.transAxes, fontsize = 16)\n",
    "ax6.set_ylim(-3.8,-1.9)\n",
    "'''\n",
    "\n",
    "ax0.xaxis.set_major_locator(mpl.ticker.MultipleLocator(1.0))\n",
    "ax0.xaxis.set_minor_locator(mpl.ticker.MultipleLocator(0.2))\n",
    "ax2.xaxis.set_major_locator(mpl.ticker.MultipleLocator(1.0))\n",
    "ax2.xaxis.set_minor_locator(mpl.ticker.MultipleLocator(0.2))\n",
    "\n",
    "#ax3.set_xlim(-4.6,-1.9)\n",
    "#ax5.set_ylim(-10,90)\n",
    "ax2.semilogy()\n",
    "ax2.set_ylim(0.04,479)\n",
    "ax4.set_xlim(-4.5,-1.9)\n",
    "\n",
    "ax0.set_xlim(41.4,43.6)\n",
    "ax0.set_ylim(1.11,2.01+0.1)\n",
    "\n",
    "\n",
    "#ax.set_title('%s model'%model_name)\n",
    "#save_lc_img_path=os.path.join('/Users/lyubing/Downloads/OXCLAGN/OXCLAGN/pic/Gamma_L_nh_pic/','%s_p4.png'%model_name)\n",
    "#save_lc_img_path=os.path.join('/Users/lyubing/Downloads/OXCLAGN/OXCLAGN/pic/Gamma_L_nh_pic/','%s_p4.pdf'%model_name)\n",
    "#ax3.errorbar(-3.142072,0.1,yerr=0.05,uplims=True,marker='o',color='black',ms=11)\n",
    "ax2.errorbar(42.594713,0.1,yerr=0.05,uplims=True,marker='o',color='black',ms=11)\n",
    "ax4.errorbar(-3.155657,0.1,yerr=0.05,uplims=True,marker='o',color='black',ms=11)\n",
    "\n",
    "#ax.set_yticks([])\n",
    "#ax3.set_yticks([])\n",
    "#ax.spines['left'].set_visible(False)\n",
    "#ax3.spines['left'].set_visible(False)\n",
    "#ax.yaxis.set_tick_params(which='major', size=10, width=2, direction='in', top='on',labelsize=0)\n",
    "ax3.yaxis.set_tick_params(which='major', size=10, width=2, direction='in', top='on',labelsize=0)\n",
    "ax4.yaxis.set_tick_params(which='major', size=10, width=2, direction='in', top='on',labelsize=0)\n",
    "\n",
    "set_ax_legend(ax4,bbox_to_anchor=(0.01, 0.4))\n",
    "\n",
    "save_lc_img_path=os.path.join('/Users/lyubing/Downloads/OXCLAGN/003_OXCLAGN/pic/Gamma_L_nh_pic/','%s_p4_intrinsic.pdf'%model_name)\n",
    "plt.savefig(save_lc_img_path,dpi=400, transparent=False, bbox_inches='tight')\n",
    "#plt.close()\n"
   ]
  },
  {
   "cell_type": "code",
   "execution_count": null,
   "metadata": {},
   "outputs": [],
   "source": []
  },
  {
   "cell_type": "code",
   "execution_count": null,
   "metadata": {
    "ExecuteTime": {
     "end_time": "2023-10-26T13:13:11.293020Z",
     "start_time": "2023-10-26T13:13:11.280304Z"
    }
   },
   "outputs": [],
   "source": [
    " 882.98 / 771"
   ]
  },
  {
   "cell_type": "code",
   "execution_count": null,
   "metadata": {
    "ExecuteTime": {
     "end_time": "2023-10-21T14:07:47.659953Z",
     "start_time": "2023-10-21T14:07:47.650322Z"
    }
   },
   "outputs": [],
   "source": [
    "NGC1365Liuhao['model'][10]"
   ]
  },
  {
   "cell_type": "markdown",
   "metadata": {},
   "source": [
    "### plot_literature"
   ]
  },
  {
   "cell_type": "code",
   "execution_count": null,
   "metadata": {
    "ExecuteTime": {
     "end_time": "2023-11-26T13:06:49.597669Z",
     "start_time": "2023-11-26T13:06:47.472867Z"
    }
   },
   "outputs": [],
   "source": [
    "fig = plt.figure(figsize=(12,12))\n",
    "fig.subplots_adjust(hspace=0., wspace = 0.0)\n",
    "\n",
    "ax0 = fig.add_subplot(3,3,1)\n",
    "xlabel='logLx_int'\n",
    "ylabel='phoindex'\n",
    "xerr_label='log_fint_err'\n",
    "yerr_label='phoindex_err'\n",
    "color_label='black'\n",
    "#dataplot=slab_zgauss_result\n",
    "#ax=plot_errorbar_cmap(ax,dataplot,xlabel,ylabel,xerr=xerr_label,yerr=yerr_label,color_n=color_label,marker_n='name',size_n=None,logx=False,logy=False)\n",
    "dataplot=slab_result\n",
    "ax0=plot_errorbar(ax0,dataplot,xlabel,ylabel,xerr=xerr_label,yerr=yerr_label,color_n=color_label,marker_n='name',size_n=None,logx=False,logy=False)\n",
    "set_ax_tick(ax0)\n",
    "#set_ax_locator(ax,xma=1.0,xmi=0.2,yma=0.2,ymi=0.1)\n",
    "\n",
    "#ax.set_ylim(-7,17)\n",
    "#ax.set_xlabel(r'log($L_{\\rm 2-10keV}/L_{\\rm Edd}$)')\n",
    "ax0.set_ylabel(r'$\\Gamma$')\n",
    "\n",
    "\n",
    "ax2 = fig.add_subplot(3,3,4,sharex=ax0)\n",
    "xlabel='logLx_int'\n",
    "ylabel='los_nh(10^22)'\n",
    "xerr_label='log_fint_err'\n",
    "yerr_label='los_nh_err'\n",
    "color_label='black'\n",
    "dataplot=slab_result\n",
    "ax2=plot_errorbar(ax2,dataplot,xlabel,ylabel,xerr=xerr_label,yerr=yerr_label,color_n=color_label,marker_n='name',size_n=None,logx=False,logy=False)\n",
    "set_ax_tick(ax2)\n",
    "#set_ax_locator(ax,xma=1000,xmi=500,yma=1,ymi=0.5)\n",
    "#set_ax_legend(ax3,bbox_to_anchor=(0.51, 0.99))\n",
    "#ax.set_ylim(-7,17)\n",
    "#ax.semilogy()\n",
    "ax2.set_xlabel(r'log($L_{\\rm \\, 2-10keV}$)')\n",
    "ax2.set_ylabel(r'$N_{\\rm H,los (10^{22} cm^{-2})}$')\n",
    "\n",
    "#####################################\n",
    "\n",
    "\n",
    "model_name='Slab'\n",
    "\n",
    "ax3 = fig.add_subplot(3,3,2,sharey=ax0)\n",
    "xlabel='log_Lx_int/Ledd'\n",
    "ylabel='phoindex'\n",
    "xerr_label='log_fint_err'\n",
    "yerr_label='phoindex_err'\n",
    "color_label='black'\n",
    "#dataplot=slab_zgauss_result\n",
    "#ax=plot_errorbar_cmap(ax,dataplot,xlabel,ylabel,xerr=xerr_label,yerr=yerr_label,color_n=color_label,marker_n='name',size_n=None,logx=False,logy=False)\n",
    "dataplot=slab_result\n",
    "ax3=plot_errorbar(ax3,dataplot,xlabel,ylabel,xerr=xerr_label,yerr=yerr_label,color_n=color_label,marker_n='name',size_n=None,logx=False,logy=False)\n",
    "set_ax_tick(ax3)\n",
    "\n",
    "\n",
    "ax4 = fig.add_subplot(3,3,5,sharex=ax3,sharey=ax2)\n",
    "xlabel='log_Lx_int/Ledd'\n",
    "ylabel='los_nh(10^22)'\n",
    "xerr_label='log_fint_err'\n",
    "yerr_label='los_nh_err'\n",
    "color_label='black'\n",
    "dataplot=slab_result\n",
    "ax4=plot_errorbar(ax4,dataplot,xlabel,ylabel,xerr=xerr_label,yerr=yerr_label,color_n=color_label,marker_n='name',size_n=None,logx=False,logy=False)\n",
    "set_ax_tick(ax4)\n",
    "ax4.set_xlabel(r'log($L_{\\rm \\, 2-10keV}/L_{\\rm Edd}$)')\n",
    "\n",
    "############################################################\n",
    "\n",
    "for index,(nh_i,Gamma_i,ledd_i) in enumerate(zip(NGC1365Liuhao['nH'],NGC1365Liuhao['Gamma'],NGC1365Liuhao['logLX/LEDD'])):\n",
    "    #print(nh_i)\n",
    "    nh_i_v= float(nh_i.split('_{')[0].split('$')[1])\n",
    "    nh_i_l= float(nh_i.split('_{')[1].split('}^{')[0])\n",
    "    nh_i_u= float(nh_i.split('}^{+')[1].split('}')[0])\n",
    "    \n",
    "    Gamma_i_v= float(Gamma_i.split('_{')[0].split('$')[1])\n",
    "    Gamma_i_l= float(Gamma_i.split('_{')[1].split('}^{')[0])\n",
    "    Gamma_i_u= float(Gamma_i.split('}^{+')[1].split('}')[0])\n",
    "    \n",
    "    #ledd_i_v= float(ledd_i.split('_{')[0].split('$')[1])\n",
    "    #ledd_i_l= float(ledd_i.split('_{')[1].split('}^{')[0])\n",
    "    #ledd_i_u= float(ledd_i.split('}^{+')[1].split('}')[0])\n",
    "    \n",
    "    if NGC1365Liuhao.loc[index,'model'].find('C')>0:\n",
    "        color='black'\n",
    "    #else:\n",
    "        #color='red'\n",
    "    #print(nh_i_v,nh_i_l,nh_i_u,Gamma_i_v,Gamma_i_l,Gamma_i_u,ledd_i)\n",
    "        ax3.scatter(ledd_i,Gamma_i_v,marker='p',color=color)\n",
    "        ax4.scatter(ledd_i,nh_i_v,marker='p',color=color)\n",
    "        ax0.scatter(np.log10(1.26e38)+6.65+ledd_i,Gamma_i_v,marker='p',color=color,label='NGC1365')\n",
    "        ax2.scatter(np.log10(1.26e38)+6.65+ledd_i,nh_i_v,marker='p',color=color)\n",
    "\n",
    "###########################################################################\n",
    "\n",
    "'''\n",
    "ax6=fig.add_subplot(3,3,7,sharex=ax)\n",
    "xlabel='log_Lx/Ledd'\n",
    "ylabel='log_Lx_10to50keV/Ledd'\n",
    "xerr_label='log_f_err'\n",
    "yerr_label='log_f_err_10to50keV'\n",
    "#color_label='zphabs_nh(10^22)'\n",
    "color_label='black'\n",
    "#dataplot=slab_zgauss_result\n",
    "#ax=plot_errorbar_cmap(ax,dataplot,xlabel,ylabel,xerr=xerr_label,yerr=yerr_label,color_n=color_label,marker_n='name',size_n=None,logx=False,logy=False)\n",
    "\n",
    "x_ledd_lin= np.linspace(-4.5,-2.5,100)\n",
    "dataplot=slab_result\n",
    "ax6=plot_errorbar(ax6,dataplot,xlabel,ylabel,xerr=xerr_label,yerr=yerr_label,color_n=color_label,marker_n='name',size_n=None,logx=False,logy=False)\n",
    "set_ax_tick(ax6)\n",
    "#ax2.xaxis.set_tick_params(which='major', size=10, width=2, direction='in', top='on',)\n",
    "#ax2.xaxis.set_tick_params(which='minor', size=5, width=2, direction='in', top='on')\n",
    "#ax2.yaxis.set_tick_params(which='major', size=10, width=2, direction='in', right='on')\n",
    "#ax2.yaxis.set_tick_params(which='minor', size=5, width=2, direction='in', right='on')\n",
    "ax6.set_xlabel(r'log($L_{\\rm 2-10keV}/L_{\\rm Edd}$)') #, intrisic\n",
    "ax6.set_ylabel(r'log($L_{\\rm 10-50keV}/L_{\\rm Edd}$)')\n",
    "ax6.yaxis.set_major_locator(mpl.ticker.MultipleLocator(1.0))\n",
    "ax6.yaxis.set_minor_locator(mpl.ticker.MultipleLocator(0.2))\n",
    "ax6.set_ylim(-0.1,85)\n",
    "\n",
    "x_ledd_lin= np.linspace(-4.5,-2.1,100)\n",
    "ax6.plot(x_ledd_lin, fitted_line(x_ledd_lin), color='black',ls='--', linewidth=2,label=r'y=0.62x-0.7')\n",
    "#ax6.text(0.3,0.8,r'$y$=0.62$x$-0.7',horizontalalignment = 'center', verticalalignment = 'center', transform = ax6.transAxes, fontsize = 16)\n",
    "ax6.set_ylim(-3.8,-1.9)\n",
    "'''\n",
    "\n",
    "ax0.xaxis.set_major_locator(mpl.ticker.MultipleLocator(1.0))\n",
    "ax0.xaxis.set_minor_locator(mpl.ticker.MultipleLocator(0.2))\n",
    "ax2.xaxis.set_major_locator(mpl.ticker.MultipleLocator(1.0))\n",
    "ax2.xaxis.set_minor_locator(mpl.ticker.MultipleLocator(0.2))\n",
    "\n",
    "#ax3.set_xlim(-4.6,-1.9)\n",
    "#ax5.set_ylim(-10,90)\n",
    "ax2.semilogy()\n",
    "ax2.set_ylim(0.04,479)\n",
    "ax4.set_xlim(-4.5,-1.9)\n",
    "\n",
    "ax0.set_xlim(41.2,43.6)\n",
    "ax0.set_ylim(1.11,2.01+0.1)\n",
    "\n",
    "\n",
    "#ax.set_title('%s model'%model_name)\n",
    "#save_lc_img_path=os.path.join('/Users/lyubing/Downloads/OXCLAGN/OXCLAGN/pic/Gamma_L_nh_pic/','%s_p4.png'%model_name)\n",
    "#save_lc_img_path=os.path.join('/Users/lyubing/Downloads/OXCLAGN/OXCLAGN/pic/Gamma_L_nh_pic/','%s_p4.pdf'%model_name)\n",
    "#ax3.errorbar(-3.142072,0.1,yerr=0.05,uplims=True,marker='o',color='black',ms=11)\n",
    "ax2.errorbar(42.594713,0.1,yerr=0.05,uplims=True,marker='o',color='black',ms=11)\n",
    "ax4.errorbar(-3.155657,0.1,yerr=0.05,uplims=True,marker='o',color='black',ms=11)\n",
    "\n",
    "#ax.set_yticks([])\n",
    "#ax3.set_yticks([])\n",
    "#ax.spines['left'].set_visible(False)\n",
    "#ax3.spines['left'].set_visible(False)\n",
    "#ax.yaxis.set_tick_params(which='major', size=10, width=2, direction='in', top='on',labelsize=0)\n",
    "ax3.yaxis.set_tick_params(which='major', size=10, width=2, direction='in', top='on',labelsize=0)\n",
    "ax4.yaxis.set_tick_params(which='major', size=10, width=2, direction='in', top='on',labelsize=0)\n",
    "\n",
    "#set_ax_legend(ax3,bbox_to_anchor=(1.0, 0.99))\n",
    "set_ax_legend(ax4,bbox_to_anchor=(0.01, 0.4))\n",
    "\n",
    "\n",
    "\n",
    "\n",
    "\n",
    "dataplot=data_literature_plot_select\n",
    "xlabel='logL2-10'\n",
    "ylabel='phoindex'\n",
    "xerr_label=None#'log_f_err'\n",
    "yerr_label='phoindex_err'\n",
    "color_label='grey'\n",
    "ax0=plot_errorbar(ax0,dataplot,xlabel,ylabel,xerr=xerr_label,yerr=yerr_label,color_n=color_label,marker_n='name',size_n=None,logx=False,logy=False,blank_plot=True)\n",
    "\n",
    "\n",
    "dataplot=data_literature_plot_select\n",
    "xlabel='logL2-10'\n",
    "ylabel='los_nh(10^22)'\n",
    "xerr_label=None#'log_f_err'\n",
    "yerr_label=None#'phoindex_err'\n",
    "color_label='grey'\n",
    "ax2=plot_errorbar(ax2,dataplot,xlabel,ylabel,xerr=xerr_label,yerr=yerr_label,color_n=color_label,marker_n='name',size_n=None,logx=False,logy=False,blank_plot=True)\n",
    "\n",
    "\n",
    "\n",
    "\n",
    "save_lc_img_path=os.path.join('/Users/lyubing/Downloads/OXCLAGN/003_OXCLAGN/pic/Gamma_L_nh_pic/','%s_p4_lit.png'%model_name)\n",
    "plt.savefig(save_lc_img_path,dpi=400, transparent=False, bbox_inches='tight')\n",
    "#plt.close()\n"
   ]
  },
  {
   "cell_type": "code",
   "execution_count": null,
   "metadata": {},
   "outputs": [],
   "source": [
    "ax = fig.add_subplot(3,3,2,sharey=ax0)\n",
    "xlabel='log_Lx_int/Ledd'\n",
    "ylabel='phoindex'\n",
    "xerr_label='log_fint_err'\n",
    "yerr_label='phoindex_err'\n",
    "color_label='black'\n",
    "#dataplot=slab_zgauss_result\n",
    "#ax=plot_errorbar_cmap(ax,dataplot,xlabel,ylabel,xerr=xerr_label,yerr=yerr_label,color_n=color_label,marker_n='name',size_n=None,logx=False,logy=False)\n",
    "dataplot=slab_result\n",
    "ax=plot_errorbar(ax,dataplot,xlabel,ylabel,xerr=xerr_label,yerr=yerr_label,color_n=color_label,marker_n='name',size_n=None,logx=False,logy=False)\n",
    "set_ax_tick(ax)\n",
    "#set_ax_locator(ax,xma=1.0,xmi=0.2,yma=0.2,ymi=0.1)\n",
    "#set_ax_legend(ax,bbox_to_anchor=(0.49, 0.99))\n",
    "\n",
    "#ax.set_ylim(-7,17)\n",
    "#ax.set_xlabel(r'log($L_{\\rm 2-10keV}/L_{\\rm Edd}$)')\n",
    "#ax.set_ylabel(r'$\\Gamma$')\n",
    "\n",
    "\n",
    "ax3 = fig.add_subplot(3,3,5,sharex=ax,sharey=ax2)\n",
    "xlabel='log_Lx_int/Ledd'\n",
    "ylabel='los_nh(10^22)'\n",
    "xerr_label='log_fint_err'\n",
    "yerr_label='los_nh_err'\n",
    "color_label='black'\n",
    "dataplot=slab_result\n",
    "ax3=plot_errorbar(ax3,dataplot,xlabel,ylabel,xerr=xerr_label,yerr=yerr_label,color_n=color_label,marker_n='name',size_n=None,logx=False,logy=False)\n",
    "set_ax_tick(ax3)\n",
    "#set_ax_locator(ax,xma=1000,xmi=500,yma=1,ymi=0.5)\n",
    "#set_ax_legend(ax3,bbox_to_anchor=(0.51, 0.99))\n",
    "#ax.set_ylim(-7,17)\n",
    "#ax.semilogy()\n",
    "ax3.set_xlabel(r'log($L_{\\rm \\, 2-10keV}/L_{\\rm Edd}$)')\n",
    "#ax3.set_ylabel(r'$N_{\\rm H,los (10^{22} cm^{-2})}$')\n"
   ]
  },
  {
   "cell_type": "code",
   "execution_count": null,
   "metadata": {
    "ExecuteTime": {
     "end_time": "2023-07-26T06:58:32.891206Z",
     "start_time": "2023-07-26T06:58:32.880751Z"
    }
   },
   "outputs": [],
   "source": [
    "max(data_literature_plot_select['phoindex'])"
   ]
  },
  {
   "cell_type": "code",
   "execution_count": null,
   "metadata": {
    "ExecuteTime": {
     "end_time": "2023-07-26T06:49:46.885267Z",
     "start_time": "2023-07-26T06:49:46.873394Z"
    }
   },
   "outputs": [],
   "source": [
    "slab_result['logLx_int']"
   ]
  },
  {
   "cell_type": "markdown",
   "metadata": {},
   "source": [
    "### plot normfint"
   ]
  },
  {
   "cell_type": "code",
   "execution_count": null,
   "metadata": {
    "ExecuteTime": {
     "end_time": "2023-07-13T01:45:57.147709Z",
     "start_time": "2023-07-13T01:45:57.139382Z"
    }
   },
   "outputs": [],
   "source": [
    "slab_result.columns"
   ]
  },
  {
   "cell_type": "code",
   "execution_count": null,
   "metadata": {
    "ExecuteTime": {
     "end_time": "2023-07-13T01:47:05.372277Z",
     "start_time": "2023-07-13T01:47:03.949582Z"
    }
   },
   "outputs": [],
   "source": [
    "fig = plt.figure(figsize=(12,12))\n",
    "fig.subplots_adjust(hspace=0., wspace = 0.0)\n",
    "ax = fig.add_subplot(3,3,1)\n",
    "\n",
    "xlabel='log_Lx_int_norm/Ledd'\n",
    "ylabel='phoindex'\n",
    "xerr_label='log_fnorm_err'\n",
    "yerr_label='phoindex_err'\n",
    "color_label='black'\n",
    "#dataplot=slab_zgauss_result\n",
    "#ax=plot_errorbar_cmap(ax,dataplot,xlabel,ylabel,xerr=xerr_label,yerr=yerr_label,color_n=color_label,marker_n='name',size_n=None,logx=False,logy=False)\n",
    "dataplot=slab_result\n",
    "ax=plot_errorbar(ax,dataplot,xlabel,ylabel,xerr=xerr_label,yerr=yerr_label,color_n=color_label,marker_n='name',size_n=None,logx=False,logy=False)\n",
    "set_ax_tick(ax)\n",
    "#set_ax_locator(ax,xma=1.0,xmi=0.2,yma=0.2,ymi=0.1)\n",
    "#set_ax_legend(ax,bbox_to_anchor=(0.49, 0.99))\n",
    "\n",
    "\n",
    "#ax.set_ylim(-7,17)\n",
    "#ax.set_xlabel(r'log($L_{\\rm 2-10keV}/L_{\\rm Edd}$)')\n",
    "ax.set_ylabel(r'$\\Gamma$')\n",
    "model_name='Slab'\n",
    "\n",
    "\n",
    "\n",
    "ax3 = fig.add_subplot(3,3,4,sharex=ax)\n",
    "\n",
    "xlabel='log_Lx_int_norm/Ledd'\n",
    "ylabel='los_nh(10^22)'\n",
    "xerr_label='log_fint_err'\n",
    "yerr_label='log_fnorm_err'\n",
    "color_label='black'\n",
    "dataplot=slab_result\n",
    "ax3=plot_errorbar(ax3,dataplot,xlabel,ylabel,xerr=xerr_label,yerr=yerr_label,color_n=color_label,marker_n='name',size_n=None,logx=False,logy=False)\n",
    "\n",
    "\n",
    "\n",
    "set_ax_tick(ax3)\n",
    "#set_ax_locator(ax,xma=1000,xmi=500,yma=1,ymi=0.5)\n",
    "#set_ax_legend(ax3,bbox_to_anchor=(0.51, 0.99))\n",
    "#ax.set_ylim(-7,17)\n",
    "#ax.semilogy()\n",
    "ax3.set_xlabel(r'log($L_{\\rm \\, 2-10keV}/L_{\\rm Edd}$)')\n",
    "ax3.set_ylabel(r'$N_{\\rm H,los (10^{22} cm^{-2})}$')\n",
    "\n",
    "###############\n",
    "\n",
    "\n",
    "'''dataplot=data_literature_plot_select\n",
    "xlabel='logLx/Ledd'\n",
    "ylabel='phoindex'\n",
    "xerr_label=None#'log_f_err'\n",
    "yerr_label='phoindex_err'\n",
    "color_label='grey'\n",
    "ax=plot_errorbar(ax,dataplot,xlabel,ylabel,xerr=xerr_label,yerr=yerr_label,color_n=color_label,marker_n='name',size_n=None,logx=False,logy=False,blank_plot=True)\n",
    "\n",
    "\n",
    "dataplot=data_literature_plot_select\n",
    "xlabel='logLx/Ledd'\n",
    "ylabel='los_nh(10^22)'\n",
    "xerr_label=None#'log_f_err'\n",
    "yerr_label=None#'phoindex_err'\n",
    "color_label='grey'\n",
    "ax3=plot_errorbar(ax3,dataplot,xlabel,ylabel,xerr=xerr_label,yerr=yerr_label,color_n=color_label,marker_n='name',size_n=None,logx=False,logy=False,blank_plot=True)\n",
    "'''\n",
    "\n",
    "\n",
    "'''\n",
    "ax6=fig.add_subplot(3,3,7,sharex=ax)\n",
    "xlabel='log_Lx/Ledd'\n",
    "ylabel='log_Lx_10to50keV/Ledd'\n",
    "xerr_label='log_f_err'\n",
    "yerr_label='log_f_err_10to50keV'\n",
    "#color_label='zphabs_nh(10^22)'\n",
    "color_label='black'\n",
    "#dataplot=slab_zgauss_result\n",
    "#ax=plot_errorbar_cmap(ax,dataplot,xlabel,ylabel,xerr=xerr_label,yerr=yerr_label,color_n=color_label,marker_n='name',size_n=None,logx=False,logy=False)\n",
    "\n",
    "x_ledd_lin= np.linspace(-4.5,-2.5,100)\n",
    "dataplot=slab_result\n",
    "ax6=plot_errorbar(ax6,dataplot,xlabel,ylabel,xerr=xerr_label,yerr=yerr_label,color_n=color_label,marker_n='name',size_n=None,logx=False,logy=False)\n",
    "set_ax_tick(ax6)\n",
    "#ax2.xaxis.set_tick_params(which='major', size=10, width=2, direction='in', top='on',)\n",
    "#ax2.xaxis.set_tick_params(which='minor', size=5, width=2, direction='in', top='on')\n",
    "#ax2.yaxis.set_tick_params(which='major', size=10, width=2, direction='in', right='on')\n",
    "#ax2.yaxis.set_tick_params(which='minor', size=5, width=2, direction='in', right='on')\n",
    "ax6.set_xlabel(r'log($L_{\\rm 2-10keV}/L_{\\rm Edd}$)') #, intrisic\n",
    "ax6.set_ylabel(r'log($L_{\\rm 10-50keV}/L_{\\rm Edd}$)')\n",
    "ax6.yaxis.set_major_locator(mpl.ticker.MultipleLocator(1.0))\n",
    "ax6.yaxis.set_minor_locator(mpl.ticker.MultipleLocator(0.2))\n",
    "ax6.set_ylim(-0.1,85)\n",
    "\n",
    "x_ledd_lin= np.linspace(-4.5,-2.1,100)\n",
    "ax6.plot(x_ledd_lin, fitted_line(x_ledd_lin), color='black',ls='--', linewidth=2,label=r'y=0.62x-0.7')\n",
    "#ax6.text(0.3,0.8,r'$y$=0.62$x$-0.7',horizontalalignment = 'center', verticalalignment = 'center', transform = ax6.transAxes, fontsize = 16)\n",
    "ax6.set_ylim(-3.8,-1.9)\n",
    "'''\n",
    "ax.set_xlim(-4.5,-1.9)\n",
    "ax.set_ylim(1.09,2.59)\n",
    "ax.xaxis.set_major_locator(mpl.ticker.MultipleLocator(1.0))\n",
    "ax.xaxis.set_minor_locator(mpl.ticker.MultipleLocator(0.2))\n",
    "\n",
    "ax3.xaxis.set_major_locator(mpl.ticker.MultipleLocator(1.0))\n",
    "ax3.xaxis.set_minor_locator(mpl.ticker.MultipleLocator(0.2))\n",
    "\n",
    "ax3.set_xlim(-4.6,-1.9)\n",
    "#ax5.set_ylim(-10,90)\n",
    "ax3.semilogy()\n",
    "ax3.set_ylim(0.05,299)\n",
    "\n",
    "\n",
    "\n",
    "#ax.set_title('%s model'%model_name)\n",
    "#save_lc_img_path=os.path.join('/Users/lyubing/Downloads/OXCLAGN/OXCLAGN/pic/Gamma_L_nh_pic/','%s_p4.png'%model_name)\n",
    "#save_lc_img_path=os.path.join('/Users/lyubing/Downloads/OXCLAGN/OXCLAGN/pic/Gamma_L_nh_pic/','%s_p4.pdf'%model_name)\n",
    "ax3.errorbar(-3.142072,0.1,marker='o',color='black',ms=11)\n",
    "\n",
    "save_lc_img_path=os.path.join('/Users/lyubing/Downloads/OXCLAGN/003_OXCLAGN/pic/Gamma_L_nh_pic/','%s_p4_norm.pdf'%model_name)\n",
    "plt.savefig(save_lc_img_path,dpi=400, transparent=False, bbox_inches='tight')\n",
    "#plt.close()\n"
   ]
  },
  {
   "cell_type": "code",
   "execution_count": null,
   "metadata": {},
   "outputs": [],
   "source": []
  },
  {
   "cell_type": "code",
   "execution_count": null,
   "metadata": {},
   "outputs": [],
   "source": []
  },
  {
   "cell_type": "code",
   "execution_count": null,
   "metadata": {},
   "outputs": [],
   "source": [
    "ax4 = fig.add_subplot(3,3,2,sharey=ax)\n",
    "xlabel='log_Lx_10to50keV_int/Ledd' \n",
    "ylabel='phoindex'\n",
    "xerr_label='log_fint10to50_err'\n",
    "yerr_label='phoindex_err'\n",
    "color_label='black'\n",
    "\n",
    "dataplot=slab_result\n",
    "ax4=plot_errorbar(ax4,dataplot,xlabel,ylabel,xerr=xerr_label,yerr=yerr_label,color_n=color_label,marker_n='name',size_n=None,logx=False,logy=False)\n",
    "set_ax_tick(ax4)\n",
    "#ax4.set_title('%s model'%model_name,pad=10)\n",
    "#ax4.text(1.0, 1.05, '%s'%model_name, horizontalalignment = 'center', verticalalignment = 'center', transform = ax.transAxes, fontsize = 20)\n",
    "\n",
    "ax4.yaxis.set_tick_params(which='major', size=10, width=2, direction='in', top='on',labelsize=0)\n",
    "\n",
    "#set_ax_locator(ax,xma=1000,xmi=500,yma=1,ymi=0.5)\n",
    "#set_ax_legend(ax3,bbox_to_anchor=(0.51, 0.99))\n",
    "#ax.set_ylim(-7,17)\n",
    "#ax.semilogy()\n",
    "#ax4.set_xlabel(r'log($L_{\\rm 10-50keV}/L_{\\rm Edd}$)')\n",
    "#ax4.set_ylabel(r'$N_{\\rm H,los (10^{22} cm^{-2})}$')\n",
    "\n",
    "\n",
    "\n",
    "ax5 = fig.add_subplot(3,3,5,sharex=ax4,sharey=ax3)\n",
    "xlabel='log_Lx_10to50keV_int/Ledd' \n",
    "ylabel='los_nh(10^22)'\n",
    "xerr_label='log_fint10to50_err'\n",
    "yerr_label='los_nh_err'\n",
    "\n",
    "dataplot=slab_result\n",
    "ax5=plot_errorbar(ax5,dataplot,xlabel,ylabel,xerr=xerr_label,yerr=yerr_label,color_n=color_label,marker_n='name',size_n=None,logx=False,logy=False)\n",
    "set_ax_tick(ax5)\n",
    "#set_ax_locator(ax,xma=1000,xmi=500,yma=1,ymi=0.5)\n",
    "#set_ax_legend(ax3,bbox_to_anchor=(0.51, 0.99))\n",
    "#ax.set_ylim(-7,17)\n",
    "#ax.semilogy()\n",
    "ax5.set_xlabel(r'log($L_{\\rm \\, 10-50keV}/L_{\\rm Edd}$)')\n",
    "#ax5.set_ylabel(r'$N_{\\rm H,los (10^{22} cm^{-2})}$')\n",
    "ax5.yaxis.set_tick_params(which='major', size=10, width=2, direction='in', top='on',labelsize=0)"
   ]
  },
  {
   "cell_type": "code",
   "execution_count": null,
   "metadata": {},
   "outputs": [],
   "source": [
    "dataplot=data_literature_plot_select\n",
    "xlabel='logLx/Ledd'\n",
    "ylabel='phoindex'\n",
    "xerr_label=None#'log_f_err'\n",
    "yerr_label='phoindex_err'\n",
    "color_label='grey'\n",
    "ax=plot_errorbar(ax,dataplot,xlabel,ylabel,xerr=xerr_label,yerr=yerr_label,color_n=color_label,marker_n='name',size_n=None,logx=False,logy=False,blank_plot=True)\n",
    "\n",
    "\n",
    "dataplot=data_literature_plot_select\n",
    "xlabel='logLx/Ledd'\n",
    "ylabel='los_nh(10^22)'\n",
    "xerr_label=None#'log_f_err'\n",
    "yerr_label=None#'phoindex_err'\n",
    "color_label='grey'\n",
    "ax3=plot_errorbar(ax3,dataplot,xlabel,ylabel,xerr=xerr_label,yerr=yerr_label,color_n=color_label,marker_n='name',size_n=None,logx=False,logy=False,blank_plot=True)\n",
    "\n"
   ]
  },
  {
   "cell_type": "code",
   "execution_count": null,
   "metadata": {},
   "outputs": [],
   "source": []
  },
  {
   "cell_type": "code",
   "execution_count": null,
   "metadata": {
    "ExecuteTime": {
     "end_time": "2023-07-12T14:46:22.799733Z",
     "start_time": "2023-07-12T14:46:22.769873Z"
    }
   },
   "outputs": [],
   "source": [
    "slab_result"
   ]
  },
  {
   "cell_type": "code",
   "execution_count": null,
   "metadata": {},
   "outputs": [],
   "source": []
  },
  {
   "cell_type": "markdown",
   "metadata": {},
   "source": [
    "### Lobs"
   ]
  },
  {
   "cell_type": "code",
   "execution_count": null,
   "metadata": {
    "ExecuteTime": {
     "end_time": "2023-07-12T15:04:30.263716Z",
     "start_time": "2023-07-12T15:04:28.960942Z"
    }
   },
   "outputs": [],
   "source": [
    "fig = plt.figure(figsize=(10,10))\n",
    "fig.subplots_adjust(hspace=0., wspace = 0.0)\n",
    "ax = fig.add_subplot(3,3,1)\n",
    "\n",
    "xlabel='log_Lx_obs/Ledd'\n",
    "ylabel='phoindex'\n",
    "xerr_label='log_fobs_err'\n",
    "yerr_label='phoindex_err'\n",
    "color_label='black'\n",
    "#dataplot=slab_zgauss_result\n",
    "#ax=plot_errorbar_cmap(ax,dataplot,xlabel,ylabel,xerr=xerr_label,yerr=yerr_label,color_n=color_label,marker_n='name',size_n=None,logx=False,logy=False)\n",
    "dataplot=slab_result\n",
    "ax=plot_errorbar(ax,dataplot,xlabel,ylabel,xerr=xerr_label,yerr=yerr_label,color_n=color_label,marker_n='name',size_n=None,logx=False,logy=False)\n",
    "set_ax_tick(ax)\n",
    "#set_ax_locator(ax,xma=1.0,xmi=0.2,yma=0.2,ymi=0.1)\n",
    "\n",
    "set_ax_legend(ax,bbox_to_anchor=(0.01, 0.99))\n",
    "#ax.set_ylim(-7,17)\n",
    "#ax.set_xlabel(r'log($L_{\\rm 2-10keV}/L_{\\rm Edd}$)')\n",
    "ax.set_ylabel(r'$\\Gamma$')\n",
    "model_name='Slab'\n",
    "\n",
    "\n",
    "\n",
    "'''ax2 = fig.add_subplot(3,3,3,sharey=ax)\n",
    "xlabel='zphabs_nh(10^22)'\n",
    "ylabel='phoindex'\n",
    "xerr_label='zphabs_nh_err'\n",
    "yerr_label='phoindex_err'\n",
    "\n",
    "dataplot=slab_result\n",
    "ax2=plot_errorbar(ax2,dataplot,xlabel,ylabel,xerr=xerr_label,yerr=yerr_label,color_n=color_label,marker_n='name',size_n=None,logx=False,logy=False)\n",
    "set_ax_tick(ax2)\n",
    "#set_ax_locator(ax,xma=1000,xmi=500,yma=1,ymi=0.5)\n",
    "#set_ax_legend(ax2,bbox_to_anchor=(0.51, 0.99))\n",
    "#ax.set_ylim(-0.1,0.5)\n",
    "ax2.set_xlabel(r'$N_{\\rm H,los (10^{22} cm^{-2})}$')\n",
    "#ax2.set_ylabel(r'$\\Gamma$')\n",
    "#ax2.yaxis.set_major_formatter(ticker.NullFormatter())\n",
    "set_ax_locator(ax2,xma=25,xmi=5,yma=0.2,ymi=0.1)\n",
    "ax2.yaxis.set_tick_params(which='major', size=10, width=2, direction='in', top='on',labelsize=0)\n",
    "'''\n",
    "\n",
    "ax3 = fig.add_subplot(3,3,4,sharex=ax)\n",
    "\n",
    "xlabel='log_Lx_obs/Ledd'\n",
    "ylabel='los_nh(10^22)'\n",
    "xerr_label='log_fobs_err'\n",
    "yerr_label='los_nh_err'\n",
    "\n",
    "\n",
    "dataplot=slab_result\n",
    "ax3=plot_errorbar(ax3,dataplot,xlabel,ylabel,xerr=xerr_label,yerr=yerr_label,color_n=color_label,marker_n='name',size_n=None,logx=False,logy=False)\n",
    "\n",
    "set_ax_tick(ax3)\n",
    "#set_ax_locator(ax,xma=1000,xmi=500,yma=1,ymi=0.5)\n",
    "#set_ax_legend(ax3,bbox_to_anchor=(0.51, 0.99))\n",
    "#ax.set_ylim(-7,17)\n",
    "#ax.semilogy()\n",
    "ax3.set_xlabel(r'log($L_{\\rm \\, 2-10keV}/L_{\\rm Edd}$)')\n",
    "ax3.set_ylabel(r'$N_{\\rm H,los (10^{22} cm^{-2})}$')\n",
    "\n",
    "###############\n",
    "ax4 = fig.add_subplot(3,3,2,sharey=ax)\n",
    "xlabel='log_Lx_10to50keV_obs/Ledd'\n",
    "ylabel='phoindex'\n",
    "xerr_label='log_fobs10to50_err'\n",
    "yerr_label='phoindex_err'\n",
    "dataplot=slab_result\n",
    "ax4=plot_errorbar(ax4,dataplot,xlabel,ylabel,xerr=xerr_label,yerr=yerr_label,color_n=color_label,marker_n='name',size_n=None,logx=False,logy=False)\n",
    "set_ax_tick(ax4)\n",
    "#ax4.set_title('%s model'%model_name,pad=10)\n",
    "#ax4.text(1.0, 1.05, '%s'%model_name, horizontalalignment = 'center', verticalalignment = 'center', transform = ax.transAxes, fontsize = 20)\n",
    "\n",
    "ax4.yaxis.set_tick_params(which='major', size=10, width=2, direction='in', top='on',labelsize=0)\n",
    "\n",
    "#set_ax_locator(ax,xma=1000,xmi=500,yma=1,ymi=0.5)\n",
    "#set_ax_legend(ax3,bbox_to_anchor=(0.51, 0.99))\n",
    "#ax.set_ylim(-7,17)\n",
    "#ax.semilogy()\n",
    "#ax4.set_xlabel(r'log($L_{\\rm 10-50keV}/L_{\\rm Edd}$)')\n",
    "#ax4.set_ylabel(r'$N_{\\rm H,los (10^{22} cm^{-2})}$')\n",
    "\n",
    "\n",
    "\n",
    "ax5 = fig.add_subplot(3,3,5,sharex=ax4,sharey=ax3)\n",
    "xlabel='log_Lx_10to50keV_obs/Ledd'\n",
    "ylabel='los_nh(10^22)'\n",
    "xerr_label='log_fobs10to50_err'\n",
    "yerr_label='los_nh_err'\n",
    "\n",
    "dataplot=slab_result\n",
    "ax5=plot_errorbar(ax5,dataplot,xlabel,ylabel,xerr=xerr_label,yerr=yerr_label,color_n=color_label,marker_n='name',size_n=None,logx=False,logy=False)\n",
    "set_ax_tick(ax5)\n",
    "#set_ax_locator(ax,xma=1000,xmi=500,yma=1,ymi=0.5)\n",
    "#set_ax_legend(ax3,bbox_to_anchor=(0.51, 0.99))\n",
    "#ax.set_ylim(-7,17)\n",
    "#ax.semilogy()\n",
    "ax5.set_xlabel(r'log($L_{\\rm \\, 10-50keV}/L_{\\rm Edd}$)')\n",
    "#ax5.set_ylabel(r'$N_{\\rm H,los (10^{22} cm^{-2})}$')\n",
    "ax5.yaxis.set_tick_params(which='major', size=10, width=2, direction='in', top='on',labelsize=0)\n",
    "'''\n",
    "ax6=fig.add_subplot(3,3,7,sharex=ax)\n",
    "xlabel='log_Lx/Ledd'\n",
    "ylabel='log_Lx_10to50keV/Ledd'\n",
    "xerr_label='log_f_err'\n",
    "yerr_label='log_f_err_10to50keV'\n",
    "#color_label='zphabs_nh(10^22)'\n",
    "color_label='black'\n",
    "#dataplot=slab_zgauss_result\n",
    "#ax=plot_errorbar_cmap(ax,dataplot,xlabel,ylabel,xerr=xerr_label,yerr=yerr_label,color_n=color_label,marker_n='name',size_n=None,logx=False,logy=False)\n",
    "\n",
    "x_ledd_lin= np.linspace(-4.5,-2.5,100)\n",
    "dataplot=slab_result\n",
    "ax6=plot_errorbar(ax6,dataplot,xlabel,ylabel,xerr=xerr_label,yerr=yerr_label,color_n=color_label,marker_n='name',size_n=None,logx=False,logy=False)\n",
    "set_ax_tick(ax6)\n",
    "#ax2.xaxis.set_tick_params(which='major', size=10, width=2, direction='in', top='on',)\n",
    "#ax2.xaxis.set_tick_params(which='minor', size=5, width=2, direction='in', top='on')\n",
    "#ax2.yaxis.set_tick_params(which='major', size=10, width=2, direction='in', right='on')\n",
    "#ax2.yaxis.set_tick_params(which='minor', size=5, width=2, direction='in', right='on')\n",
    "ax6.set_xlabel(r'log($L_{\\rm 2-10keV}/L_{\\rm Edd}$)') #, intrisic\n",
    "ax6.set_ylabel(r'log($L_{\\rm 10-50keV}/L_{\\rm Edd}$)')\n",
    "ax6.yaxis.set_major_locator(mpl.ticker.MultipleLocator(1.0))\n",
    "ax6.yaxis.set_minor_locator(mpl.ticker.MultipleLocator(0.2))\n",
    "ax6.set_ylim(-0.1,85)\n",
    "\n",
    "x_ledd_lin= np.linspace(-4.5,-2.1,100)\n",
    "ax6.plot(x_ledd_lin, fitted_line(x_ledd_lin), color='black',ls='--', linewidth=2,label=r'y=0.62x-0.7')\n",
    "#ax6.text(0.3,0.8,r'$y$=0.62$x$-0.7',horizontalalignment = 'center', verticalalignment = 'center', transform = ax6.transAxes, fontsize = 16)\n",
    "ax6.set_ylim(-3.8,-1.9)\n",
    "'''\n",
    "ax.set_xlim(-4.8,-1.9)\n",
    "ax.set_ylim(1.21,2.09)\n",
    "ax.xaxis.set_major_locator(mpl.ticker.MultipleLocator(1.0))\n",
    "ax.xaxis.set_minor_locator(mpl.ticker.MultipleLocator(0.2))\n",
    "\n",
    "ax5.xaxis.set_major_locator(mpl.ticker.MultipleLocator(1.0))\n",
    "ax5.xaxis.set_minor_locator(mpl.ticker.MultipleLocator(0.2))\n",
    "\n",
    "ax5.set_xlim(-4.1,-2.1)\n",
    "#ax5.set_ylim(-10,90)\n",
    "ax5.semilogy()\n",
    "ax5.set_ylim(-0.1,249)\n",
    "\n",
    "\n",
    "#ax.set_title('%s model'%model_name)\n",
    "#save_lc_img_path=os.path.join('/Users/lyubing/Downloads/OXCLAGN/OXCLAGN/pic/Gamma_L_nh_pic/','%s_p4.png'%model_name)\n",
    "#save_lc_img_path=os.path.join('/Users/lyubing/Downloads/OXCLAGN/OXCLAGN/pic/Gamma_L_nh_pic/','%s_p4.pdf'%model_name)\n",
    "\n",
    "save_lc_img_path=os.path.join('/Users/lyubing/Downloads/OXCLAGN/003_OXCLAGN/pic/Gamma_L_nh_pic/','%s_p4_obs.pdf'%model_name)\n",
    "plt.savefig(save_lc_img_path,dpi=400, transparent=False, bbox_inches='tight')\n",
    "#plt.close()\n"
   ]
  },
  {
   "cell_type": "markdown",
   "metadata": {},
   "source": [
    "### Lned"
   ]
  },
  {
   "cell_type": "code",
   "execution_count": null,
   "metadata": {
    "ExecuteTime": {
     "end_time": "2023-07-03T15:50:12.673372Z",
     "start_time": "2023-07-03T15:50:12.663087Z"
    }
   },
   "outputs": [],
   "source": [
    "slab_result.columns"
   ]
  },
  {
   "cell_type": "code",
   "execution_count": null,
   "metadata": {
    "ExecuteTime": {
     "end_time": "2023-07-12T17:40:37.391853Z",
     "start_time": "2023-07-12T17:40:36.789742Z"
    }
   },
   "outputs": [],
   "source": [
    "fig = plt.figure(figsize=(10,10))\n",
    "fig.subplots_adjust(hspace=0., wspace = 0.0)\n",
    "ax = fig.add_subplot(3,3,1)\n",
    "\n",
    "xlabel='log_Lx_int_ned/Ledd'\n",
    "ylabel='phoindex'\n",
    "xerr_label='log_fint_err'\n",
    "yerr_label='phoindex_err'\n",
    "color_label='black'\n",
    "#dataplot=slab_zgauss_result\n",
    "#ax=plot_errorbar_cmap(ax,dataplot,xlabel,ylabel,xerr=xerr_label,yerr=yerr_label,color_n=color_label,marker_n='name',size_n=None,logx=False,logy=False)\n",
    "dataplot=slab_result\n",
    "ax=plot_errorbar(ax,dataplot,xlabel,ylabel,xerr=xerr_label,yerr=yerr_label,color_n=color_label,marker_n='name',size_n=None,logx=False,logy=False)\n",
    "set_ax_tick(ax)\n",
    "#set_ax_locator(ax,xma=1.0,xmi=0.2,yma=0.2,ymi=0.1)\n",
    "\n",
    "set_ax_legend(ax,bbox_to_anchor=(0.99, 0.99))\n",
    "#ax.set_ylim(-7,17)\n",
    "#ax.set_xlabel(r'log($L_{\\rm 2-10keV}/L_{\\rm Edd}$)')\n",
    "ax.set_ylabel(r'$\\Gamma$')\n",
    "model_name='Slab'\n",
    "\n",
    "\n",
    "\n",
    "'''ax2 = fig.add_subplot(3,3,3,sharey=ax)\n",
    "xlabel='zphabs_nh(10^22)'\n",
    "ylabel='phoindex'\n",
    "xerr_label='zphabs_nh_err'\n",
    "yerr_label='phoindex_err'\n",
    "\n",
    "dataplot=slab_result\n",
    "ax2=plot_errorbar(ax2,dataplot,xlabel,ylabel,xerr=xerr_label,yerr=yerr_label,color_n=color_label,marker_n='name',size_n=None,logx=False,logy=False)\n",
    "set_ax_tick(ax2)\n",
    "#set_ax_locator(ax,xma=1000,xmi=500,yma=1,ymi=0.5)\n",
    "#set_ax_legend(ax2,bbox_to_anchor=(0.51, 0.99))\n",
    "#ax.set_ylim(-0.1,0.5)\n",
    "ax2.set_xlabel(r'$N_{\\rm H,los (10^{22} cm^{-2})}$')\n",
    "#ax2.set_ylabel(r'$\\Gamma$')\n",
    "#ax2.yaxis.set_major_formatter(ticker.NullFormatter())\n",
    "set_ax_locator(ax2,xma=25,xmi=5,yma=0.2,ymi=0.1)\n",
    "ax2.yaxis.set_tick_params(which='major', size=10, width=2, direction='in', top='on',labelsize=0)\n",
    "'''\n",
    "\n",
    "ax3 = fig.add_subplot(3,3,4,sharex=ax)\n",
    "\n",
    "xlabel='log_Lx_int_ned/Ledd'\n",
    "ylabel='los_nh(10^22)'\n",
    "xerr_label='log_fint_err'\n",
    "yerr_label='los_nh_err'\n",
    "\n",
    "\n",
    "dataplot=slab_result\n",
    "ax3=plot_errorbar(ax3,dataplot,xlabel,ylabel,xerr=xerr_label,yerr=yerr_label,color_n=color_label,marker_n='name',size_n=None,logx=False,logy=False)\n",
    "\n",
    "set_ax_tick(ax3)\n",
    "#set_ax_locator(ax,xma=1000,xmi=500,yma=1,ymi=0.5)\n",
    "#set_ax_legend(ax3,bbox_to_anchor=(0.51, 0.99))\n",
    "#ax.set_ylim(-7,17)\n",
    "#ax.semilogy()\n",
    "ax3.set_xlabel(r'log($L_{\\rm \\, 2-10keV}/L_{\\rm Edd}$)')\n",
    "ax3.set_ylabel(r'$N_{\\rm H,los (10^{22} cm^{-2})}$')\n",
    "\n",
    "###############\n",
    "\n",
    "\n",
    "\n",
    "\n",
    "\n",
    "'''dataplot=data_literature_plot_select\n",
    "xlabel='logLx/Ledd'\n",
    "ylabel='phoindex'\n",
    "xerr_label=None#'log_f_err'\n",
    "yerr_label='phoindex_err'\n",
    "color_label='grey'\n",
    "ax=plot_errorbar(ax,dataplot,xlabel,ylabel,xerr=xerr_label,yerr=yerr_label,color_n=color_label,marker_n='name',size_n=None,logx=False,logy=False,blank_plot=True)\n",
    "\n",
    "\n",
    "dataplot=data_literature_plot_select\n",
    "xlabel='logLx/Ledd'\n",
    "ylabel='los_nh(10^22)'\n",
    "xerr_label=None#'log_f_err'\n",
    "yerr_label='los_nh_err'#'phoindex_err'\n",
    "color_label='grey'\n",
    "ax3=plot_errorbar(ax3,dataplot,xlabel,ylabel,xerr=xerr_label,yerr=yerr_label,color_n=color_label,marker_n='name',size_n=None,logx=False,logy=False,blank_plot=True)\n",
    "'''\n",
    "\n",
    "\n",
    "\n",
    "\n",
    "'''\n",
    "ax6=fig.add_subplot(3,3,7,sharex=ax)\n",
    "xlabel='log_Lx/Ledd'\n",
    "ylabel='log_Lx_10to50keV/Ledd'\n",
    "xerr_label='log_f_err'\n",
    "yerr_label='log_f_err_10to50keV'\n",
    "#color_label='zphabs_nh(10^22)'\n",
    "color_label='black'\n",
    "#dataplot=slab_zgauss_result\n",
    "#ax=plot_errorbar_cmap(ax,dataplot,xlabel,ylabel,xerr=xerr_label,yerr=yerr_label,color_n=color_label,marker_n='name',size_n=None,logx=False,logy=False)\n",
    "\n",
    "x_ledd_lin= np.linspace(-4.5,-2.5,100)\n",
    "dataplot=slab_result\n",
    "ax6=plot_errorbar(ax6,dataplot,xlabel,ylabel,xerr=xerr_label,yerr=yerr_label,color_n=color_label,marker_n='name',size_n=None,logx=False,logy=False)\n",
    "set_ax_tick(ax6)\n",
    "#ax2.xaxis.set_tick_params(which='major', size=10, width=2, direction='in', top='on',)\n",
    "#ax2.xaxis.set_tick_params(which='minor', size=5, width=2, direction='in', top='on')\n",
    "#ax2.yaxis.set_tick_params(which='major', size=10, width=2, direction='in', right='on')\n",
    "#ax2.yaxis.set_tick_params(which='minor', size=5, width=2, direction='in', right='on')\n",
    "ax6.set_xlabel(r'log($L_{\\rm 2-10keV}/L_{\\rm Edd}$)') #, intrisic\n",
    "ax6.set_ylabel(r'log($L_{\\rm 10-50keV}/L_{\\rm Edd}$)')\n",
    "ax6.yaxis.set_major_locator(mpl.ticker.MultipleLocator(1.0))\n",
    "ax6.yaxis.set_minor_locator(mpl.ticker.MultipleLocator(0.2))\n",
    "ax6.set_ylim(-0.1,85)\n",
    "\n",
    "x_ledd_lin= np.linspace(-4.5,-2.1,100)\n",
    "ax6.plot(x_ledd_lin, fitted_line(x_ledd_lin), color='black',ls='--', linewidth=2,label=r'y=0.62x-0.7')\n",
    "#ax6.text(0.3,0.8,r'$y$=0.62$x$-0.7',horizontalalignment = 'center', verticalalignment = 'center', transform = ax6.transAxes, fontsize = 16)\n",
    "ax6.set_ylim(-3.8,-1.9)\n",
    "'''\n",
    "ax3.errorbar(-3.152895,0.01,marker='o',color='black',ms=11)\n",
    "\n",
    "ax.set_xlim(-4.9,-2.5)\n",
    "ax.set_ylim(1.21,2.09)\n",
    "\n",
    "\n",
    "ax.xaxis.set_major_locator(mpl.ticker.MultipleLocator(1.0))\n",
    "ax.xaxis.set_minor_locator(mpl.ticker.MultipleLocator(0.2))\n",
    "\n",
    "ax3.xaxis.set_major_locator(mpl.ticker.MultipleLocator(1.0))\n",
    "ax3.xaxis.set_minor_locator(mpl.ticker.MultipleLocator(0.2))\n",
    "ax3.semilogy()\n",
    "ax3.set_xlim(-4.9,-2.2)\n",
    "#ax5.set_ylim(-10,90)\n",
    "ax3.set_ylim(0,269)\n",
    "\n",
    "\n",
    "\n",
    "\n",
    "#ax.set_title('%s model'%model_name)\n",
    "#save_lc_img_path=os.path.join('/Users/lyubing/Downloads/OXCLAGN/OXCLAGN/pic/Gamma_L_nh_pic/','%s_p4.png'%model_name)\n",
    "#save_lc_img_path=os.path.join('/Users/lyubing/Downloads/OXCLAGN/OXCLAGN/pic/Gamma_L_nh_pic/','%s_p4.pdf'%model_name)\n",
    "\n",
    "save_lc_img_path=os.path.join('/Users/lyubing/Downloads/OXCLAGN/003_OXCLAGN/pic/Gamma_L_nh_pic/','%s_p4_ned.pdf'%model_name)\n",
    "plt.savefig(save_lc_img_path,dpi=400, transparent=False, bbox_inches='tight')\n",
    "#plt.close()\n"
   ]
  },
  {
   "cell_type": "code",
   "execution_count": null,
   "metadata": {},
   "outputs": [],
   "source": []
  },
  {
   "cell_type": "code",
   "execution_count": null,
   "metadata": {
    "ExecuteTime": {
     "end_time": "2023-07-12T14:34:47.371841Z",
     "start_time": "2023-07-12T14:34:47.353309Z"
    }
   },
   "outputs": [],
   "source": [
    "data_literature_plot_select[['phoindex','phoindex_err']]"
   ]
  },
  {
   "cell_type": "code",
   "execution_count": null,
   "metadata": {},
   "outputs": [],
   "source": []
  },
  {
   "cell_type": "code",
   "execution_count": null,
   "metadata": {},
   "outputs": [],
   "source": [
    "ax4 = fig.add_subplot(3,3,2,sharey=ax)\n",
    "xlabel='log_Lx_int10to50_ned/Ledd'\n",
    "ylabel='phoindex'\n",
    "xerr_label='log_fint10to50_err'\n",
    "yerr_label='phoindex_err'\n",
    "dataplot=slab_result\n",
    "ax4=plot_errorbar(ax4,dataplot,xlabel,ylabel,xerr=xerr_label,yerr=yerr_label,color_n=color_label,marker_n='name',size_n=None,logx=False,logy=False)\n",
    "set_ax_tick(ax4)\n",
    "#ax4.set_title('%s model'%model_name,pad=10)\n",
    "#ax4.text(1.0, 1.05, '%s'%model_name, horizontalalignment = 'center', verticalalignment = 'center', transform = ax.transAxes, fontsize = 20)\n",
    "\n",
    "ax4.yaxis.set_tick_params(which='major', size=10, width=2, direction='in', top='on',labelsize=0)\n",
    "\n",
    "#set_ax_locator(ax,xma=1000,xmi=500,yma=1,ymi=0.5)\n",
    "#set_ax_legend(ax3,bbox_to_anchor=(0.51, 0.99))\n",
    "#ax.set_ylim(-7,17)\n",
    "#ax.semilogy()\n",
    "#ax4.set_xlabel(r'log($L_{\\rm 10-50keV}/L_{\\rm Edd}$)')\n",
    "#ax4.set_ylabel(r'$N_{\\rm H,los (10^{22} cm^{-2})}$')\n",
    "\n",
    "\n",
    "\n",
    "ax5 = fig.add_subplot(3,3,5,sharex=ax4,sharey=ax3)\n",
    "xlabel='log_Lx_int10to50_ned/Ledd'\n",
    "ylabel='los_nh(10^22)'\n",
    "xerr_label='log_fint10to50_err'\n",
    "yerr_label='los_nh_err'\n",
    "\n",
    "dataplot=slab_result\n",
    "ax5=plot_errorbar(ax5,dataplot,xlabel,ylabel,xerr=xerr_label,yerr=yerr_label,color_n=color_label,marker_n='name',size_n=None,logx=False,logy=False)\n",
    "set_ax_tick(ax5)\n",
    "#set_ax_locator(ax,xma=1000,xmi=500,yma=1,ymi=0.5)\n",
    "#set_ax_legend(ax3,bbox_to_anchor=(0.51, 0.99))\n",
    "#ax.set_ylim(-7,17)\n",
    "#ax.semilogy()\n",
    "ax5.set_xlabel(r'log($L_{\\rm \\, 10-50keV}/L_{\\rm Edd}$)')\n",
    "#ax5.set_ylabel(r'$N_{\\rm H,los (10^{22} cm^{-2})}$')\n",
    "ax5.yaxis.set_tick_params(which='major', size=10, width=2, direction='in', top='on',labelsize=0)"
   ]
  },
  {
   "cell_type": "code",
   "execution_count": null,
   "metadata": {},
   "outputs": [],
   "source": []
  },
  {
   "cell_type": "code",
   "execution_count": null,
   "metadata": {},
   "outputs": [],
   "source": []
  },
  {
   "cell_type": "code",
   "execution_count": null,
   "metadata": {},
   "outputs": [],
   "source": []
  },
  {
   "cell_type": "code",
   "execution_count": null,
   "metadata": {
    "ExecuteTime": {
     "end_time": "2023-07-12T14:11:27.192609Z",
     "start_time": "2023-07-12T14:11:27.181814Z"
    }
   },
   "outputs": [],
   "source": [
    "slab_result.columns"
   ]
  },
  {
   "cell_type": "code",
   "execution_count": null,
   "metadata": {
    "ExecuteTime": {
     "end_time": "2023-02-13T10:36:42.001449Z",
     "start_time": "2023-02-13T10:36:41.987175Z"
    }
   },
   "outputs": [],
   "source": [
    "fitted_line"
   ]
  },
  {
   "cell_type": "code",
   "execution_count": null,
   "metadata": {
    "ExecuteTime": {
     "end_time": "2023-07-28T07:18:02.639934Z",
     "start_time": "2023-07-28T07:18:02.600321Z"
    }
   },
   "outputs": [],
   "source": [
    "slab_result.columns"
   ]
  },
  {
   "cell_type": "markdown",
   "metadata": {},
   "source": [
    "### pearsonr and slopes "
   ]
  },
  {
   "cell_type": "code",
   "execution_count": null,
   "metadata": {
    "ExecuteTime": {
     "end_time": "2023-11-28T13:00:39.278904Z",
     "start_time": "2023-11-28T13:00:39.269643Z"
    }
   },
   "outputs": [],
   "source": [
    "model_names=['pexrav','MYTC','RXTORUS','Borus02','MYTD','Xclumpy','Uxclumpy']\n",
    "result_all=[slab_result,mytorus_couple_result,rxtorus_result,borus_result,mytorus_decouple_result,xclumpy_result,uxclumpy_result]\n",
    "los_nh_labels=['los_nh(10^22)','los_nh(10^22)','zphabs_nh(10^22)','zphabs_nh(10^22)','los_nh(10^22)','zphabs_nh(10^22)','los_nh(10^22)']\n"
   ]
  },
  {
   "cell_type": "code",
   "execution_count": null,
   "metadata": {},
   "outputs": [],
   "source": [
    "    i_result=i_result[i_result[\"name\"]!='ESO362-G18']\n",
    "    i_result=i_result[i_result[\"name\"]!='NGC2992']\n",
    "    i_result=drop_index(i_result)"
   ]
  },
  {
   "cell_type": "code",
   "execution_count": null,
   "metadata": {
    "ExecuteTime": {
     "end_time": "2023-11-28T13:07:08.982991Z",
     "start_time": "2023-11-28T13:07:08.972072Z"
    }
   },
   "outputs": [],
   "source": [
    "slab_result.columns"
   ]
  },
  {
   "cell_type": "markdown",
   "metadata": {},
   "source": [
    "### gamma-ledd"
   ]
  },
  {
   "cell_type": "code",
   "execution_count": null,
   "metadata": {
    "ExecuteTime": {
     "end_time": "2023-11-28T13:22:40.719113Z",
     "start_time": "2023-11-28T13:22:39.819071Z"
    },
    "scrolled": false
   },
   "outputs": [],
   "source": [
    "for i_name,i_result,i_los_nh_label in zip(model_names,result_all,los_nh_labels):\n",
    "    print(i_name,pearsonr(i_result['log_Lx_int/Ledd'],i_result['phoindex']))\n",
    "    \n",
    "    if i_name=='Slab':\n",
    "        x=i_result['log_Lx_int/Ledd']\n",
    "    else:\n",
    "        x=i_result['log_Lx_int/Ledd']\n",
    "        \n",
    "    y=i_result['phoindex']\n",
    "    \n",
    "    weights=np.zeros(len(x))+1\n",
    "\n",
    "    #xerr\n",
    "\n",
    "    # initialize a linear fitter\n",
    "    fit = fitting.LinearLSQFitter()\n",
    "\n",
    "# initialize the outlier removal fitter\n",
    "    or_fit = fitting.FittingWithOutlierRemoval(fit, sigma_clip, niter=3, sigma=3.0)\n",
    "\n",
    "# initialize a linear model\n",
    "    line_init = models.Linear1D()\n",
    "\n",
    "# fit the data with the fitter\n",
    "    fitted_line, mask = or_fit(line_init, x, y, weights=1.0/weights)\n",
    "    filtered_data = np.ma.masked_array(y, mask=mask)\n",
    "    \n",
    "    print(i_name,fitted_line.slope.value,fitted_line.slope.std\n",
    "         )\n",
    "    \n",
    "    slope, intercept = np.polyfit(x, y, deg=1)\n",
    "    residuals = y - (slope * x + intercept)\n",
    "    residual_variance = np.var(residuals, ddof=2)\n",
    "    #y_err = x.std() * np.sqrt(1/len(x) + (x - x.mean())**2 / np.sum((x - x.mean())**2))\n",
    "    confidence_level = 0.997\n",
    "    degrees_of_freedom = len(x) - 2  # 自由度为样本数量减去拟合的参数数量\n",
    "    t_critical = stats.t.ppf((1 + confidence_level) / 2, degrees_of_freedom)\n",
    "    \n",
    "    x_new = np.linspace(-4.2, -2.2, 20)  # 用于绘制自信区间的新 x 值\n",
    "    y_pred = slope * x_new + intercept  # 新 x 值对应的预测值\n",
    "\n",
    "    confidence_interval = t_critical * np.sqrt(residual_variance *\n",
    "                                               (1 / len(x) +\n",
    "                                                (x_new - np.mean(x))**2 /\n",
    "                                                np.sum((x - np.mean(x))**2)))\n",
    "\n",
    "    upper_bound = y_pred + confidence_interval  # 上界\n",
    "    lower_bound = y_pred - confidence_interval  # 下界\n",
    "    \n",
    "    \n",
    "\n",
    "    fig, ax = plt.subplots()\n",
    "    #ax.plot(x, y, ':',color='black')\n",
    "    ax.plot(x,y,'o', color='tab:brown')\n",
    "    ax.plot(x_new, y_pred, ':',color='black')\n",
    "    #ax.plot(x_new, upper_bound,color='grey')\n",
    "    #ax.plot(x_new, lower_bound,color='grey')\n",
    "    plt.fill_between(x_new, lower_bound, upper_bound, facecolor='grey', alpha=0.3)\n",
    "    set_ax_tick(ax)\n",
    "    ax.set_title(i_name)\n",
    "    ax.set_ylabel(r'$\\Gamma$')\n",
    "    ax.set_xlabel(r'log($L_{\\rm \\, 2-10keV}/L_{\\rm Edd}$)')\n",
    "\n",
    "    \n",
    "    "
   ]
  },
  {
   "cell_type": "markdown",
   "metadata": {},
   "source": [
    "### gamma_lx"
   ]
  },
  {
   "cell_type": "code",
   "execution_count": null,
   "metadata": {
    "ExecuteTime": {
     "end_time": "2023-11-28T13:22:51.927255Z",
     "start_time": "2023-11-28T13:22:51.027419Z"
    },
    "scrolled": false
   },
   "outputs": [],
   "source": [
    "for i_name,i_result,i_los_nh_label in zip(model_names,result_all,los_nh_labels):\n",
    "    print(i_name,pearsonr(i_result['log_Lx_int/Ledd'],i_result['phoindex']))\n",
    "    \n",
    "    if i_name=='Slab':\n",
    "        x=i_result['logLx_int']\n",
    "    else:\n",
    "        x=i_result['logLx_int']\n",
    "        \n",
    "    y=i_result['phoindex']\n",
    "    \n",
    "    weights=np.zeros(len(x))+1\n",
    "\n",
    "    #xerr\n",
    "\n",
    "    # initialize a linear fitter\n",
    "    fit = fitting.LinearLSQFitter()\n",
    "\n",
    "# initialize the outlier removal fitter\n",
    "    or_fit = fitting.FittingWithOutlierRemoval(fit, sigma_clip, niter=3, sigma=3.0)\n",
    "\n",
    "# initialize a linear model\n",
    "    line_init = models.Linear1D()\n",
    "\n",
    "# fit the data with the fitter\n",
    "    fitted_line, mask = or_fit(line_init, x, y, weights=1.0/weights)\n",
    "    filtered_data = np.ma.masked_array(y, mask=mask)\n",
    "    \n",
    "    print(i_name,fitted_line.slope.value,fitted_line.slope.std\n",
    "         )\n",
    "    \n",
    "    slope, intercept = np.polyfit(x, y, deg=1)\n",
    "    residuals = y - (slope * x + intercept)\n",
    "    residual_variance = np.var(residuals, ddof=2)\n",
    "    #y_err = x.std() * np.sqrt(1/len(x) + (x - x.mean())**2 / np.sum((x - x.mean())**2))\n",
    "    confidence_level = 0.997\n",
    "    degrees_of_freedom = len(x) - 2  # 自由度为样本数量减去拟合的参数数量\n",
    "    t_critical = stats.t.ppf((1 + confidence_level) / 2, degrees_of_freedom)\n",
    "    \n",
    "    x_new = np.linspace(41.6, 43.5, 20)  # 用于绘制自信区间的新 x 值\n",
    "    y_pred = slope * x_new + intercept  # 新 x 值对应的预测值\n",
    "\n",
    "    confidence_interval = t_critical * np.sqrt(residual_variance *\n",
    "                                               (1 / len(x) +\n",
    "                                                (x_new - np.mean(x))**2 /\n",
    "                                                np.sum((x - np.mean(x))**2)))\n",
    "\n",
    "    upper_bound = y_pred + confidence_interval  # 上界\n",
    "    lower_bound = y_pred - confidence_interval  # 下界\n",
    "    \n",
    "    \n",
    "\n",
    "    fig, ax = plt.subplots()\n",
    "    #ax.plot(x, y, ':',color='black')\n",
    "    ax.plot(x,y,'o', color='tab:brown')\n",
    "    ax.plot(x_new, y_pred, ':',color='black')\n",
    "    #ax.plot(x_new, upper_bound,color='grey')\n",
    "    #ax.plot(x_new, lower_bound,color='grey')\n",
    "\n",
    "    plt.fill_between(x_new, lower_bound, upper_bound, facecolor='grey', alpha=0.3)\n",
    "    set_ax_tick(ax)\n",
    "    ax.set_title(i_name)\n",
    "    ax.set_ylabel(r'$\\Gamma$')\n",
    "    ax.set_xlabel(r'log($L_{\\rm \\, 2-10keV}$)')\n",
    "\n",
    "    \n",
    "    "
   ]
  },
  {
   "cell_type": "code",
   "execution_count": null,
   "metadata": {},
   "outputs": [],
   "source": []
  },
  {
   "cell_type": "code",
   "execution_count": null,
   "metadata": {},
   "outputs": [],
   "source": []
  },
  {
   "cell_type": "code",
   "execution_count": null,
   "metadata": {},
   "outputs": [],
   "source": []
  },
  {
   "cell_type": "code",
   "execution_count": null,
   "metadata": {
    "ExecuteTime": {
     "end_time": "2023-08-01T15:34:21.583230Z",
     "start_time": "2023-08-01T15:34:21.560168Z"
    }
   },
   "outputs": [],
   "source": [
    "import scipy.stats\n",
    "#slope, intercept, r, p, se = scipy.stats.linregress(x, y)\n",
    "\n",
    "for i_name,i_result,i_los_nh_label in zip(model_names,result_all,los_nh_labels):\n",
    "    #print(i_name,pearsonr(i_result['log_Lx/Ledd'],i_result['phoindex']))\n",
    "    \n",
    "    #if i_name=='Slab':\n",
    "        #x=i_result['log_Lx/Ledd']\n",
    "    #else:\n",
    "    i_result_select=i_result[i_result['name']!='NGC7582']   \n",
    "    #i_result_select=i_result_select[i_result_select['name']!='ESO362-G18']\n",
    "    \n",
    "    i_result_select=drop_index(i_result_select)\n",
    "    \n",
    "    x=i_result_select['log_Lx_int/Ledd']\n",
    "    y=i_result_select['phoindex']\n",
    "    \n",
    "    #slope, intercept, rvalue, pvalue and stderr\n",
    "    slope, intercept, r, p, se = scipy.stats.linregress(x, y) #intercept_stderr \n",
    "    result = scipy.stats.linregress(x, y)\n",
    "    per= 0.6745*(1-r**2)/(len(x))**0.5\n",
    "    \n",
    "    print(i_name,'&','%.2f'%slope,'$\\pm$ %.2f'%se,'&', '%.2f'%intercept,'$\\pm$ %.2f'%result.intercept_stderr,'&', '%.2f $\\pm$ %.2f'%(r,per),'&', '%.1e'%p,'& \\\\\\\\')\n",
    "    #print(result.intercept_stderr )\n",
    "    "
   ]
  },
  {
   "cell_type": "code",
   "execution_count": null,
   "metadata": {},
   "outputs": [],
   "source": []
  },
  {
   "cell_type": "code",
   "execution_count": null,
   "metadata": {
    "ExecuteTime": {
     "end_time": "2023-08-01T15:35:41.618901Z",
     "start_time": "2023-08-01T15:35:41.595281Z"
    }
   },
   "outputs": [],
   "source": [
    "import scipy.stats\n",
    "#slope, intercept, r, p, se = scipy.stats.linregress(x, y)\n",
    "\n",
    "for i_name,i_result,i_los_nh_label in zip(model_names,result_all,los_nh_labels):\n",
    "    #print(i_name,pearsonr(i_result['log_Lx/Ledd'],i_result['phoindex']))\n",
    "    \n",
    "    #if i_name=='Slab':\n",
    "        #x=i_result['log_Lx/Ledd']\n",
    "    #else:\n",
    "    i_result_select=i_result[i_result['name']!='NGC7582']   \n",
    "    #i_result_select=i_result_select[i_result_select['name']!='ESO362-G18']\n",
    "    \n",
    "    i_result_select=drop_index(i_result_select)\n",
    "    \n",
    "    x=i_result_select['log_Lx_int/Ledd']\n",
    "    #y=np.log10(i_result[i_los_nh_label])\n",
    "    y=i_result_select[i_los_nh_label]\n",
    "    \n",
    "    #slope, intercept, rvalue, pvalue and stderr\n",
    "    slope, intercept, r, p, se = scipy.stats.linregress(x, y) #intercept_stderr \n",
    "    per= 0.6745*(1-r**2)/(len(x))**0.5\n",
    "    \n",
    "    result = scipy.stats.linregress(x, y)\n",
    "    print(i_name,'&','%.2f'%slope,'$\\pm$ %.2f'%se,'&', '%.2f'%intercept,'$\\pm$ %.2f'%result.intercept_stderr,'&', '%.2f $\\pm$ %.2f'%(r,per),'&', '%.1e'%p,'& \\\\\\\\')\n",
    "    #print(result.intercept_stderr )\n",
    "    "
   ]
  },
  {
   "cell_type": "code",
   "execution_count": null,
   "metadata": {},
   "outputs": [],
   "source": []
  },
  {
   "cell_type": "markdown",
   "metadata": {},
   "source": [
    "### scipy.stats.linregress"
   ]
  },
  {
   "cell_type": "markdown",
   "metadata": {},
   "source": [
    "Definition: The Probable Error of Correlation Coefficient "
   ]
  },
  {
   "cell_type": "code",
   "execution_count": null,
   "metadata": {
    "ExecuteTime": {
     "end_time": "2023-11-28T12:11:35.307646Z",
     "start_time": "2023-11-28T12:11:35.274854Z"
    }
   },
   "outputs": [],
   "source": [
    "import scipy.stats\n",
    "#slope, intercept, r, p, se = scipy.stats.linregress(x, y)\n",
    "\n",
    "for i_name,i_result,i_los_nh_label in zip(model_names,result_all,los_nh_labels):\n",
    "    #print(i_name,pearsonr(i_result['log_Lx/Ledd'],i_result['phoindex']))\n",
    "    \n",
    "    #if i_name=='Slab':\n",
    "        #x=i_result['log_Lx/Ledd']\n",
    "    #else:\n",
    "    x=i_result['log_Lx_int/Ledd']\n",
    "    y=i_result['phoindex']\n",
    "    \n",
    "    #slope, intercept, rvalue, pvalue and stderr\n",
    "    slope, intercept, r, p, se = scipy.stats.linregress(x, y) #intercept_stderr \n",
    "    result = scipy.stats.linregress(x, y)\n",
    "    per= 0.6745*(1-r**2)/(len(x))**0.5\n",
    "    \n",
    "    print(i_name,'&','%.2f'%slope,'$\\pm$ %.2f'%se,'&', '%.2f'%intercept,'$\\pm$ %.2f'%result.intercept_stderr,'&', '%.2f $\\pm$ %.2f'%(r,per),'&', '%.1e'%p,'& \\\\\\\\')\n",
    "    #print(result.intercept_stderr )\n",
    "    "
   ]
  },
  {
   "cell_type": "markdown",
   "metadata": {},
   "source": [
    "### nh-lX"
   ]
  },
  {
   "cell_type": "code",
   "execution_count": null,
   "metadata": {
    "ExecuteTime": {
     "end_time": "2023-12-01T13:40:28.847606Z",
     "start_time": "2023-12-01T13:40:28.828027Z"
    }
   },
   "outputs": [],
   "source": [
    "import scipy.stats\n",
    "#slope, intercept, r, p, se = scipy.stats.linregress(x, y)\n",
    "\n",
    "for i_name,i_result,i_los_nh_label in zip(model_names,result_all,los_nh_labels):\n",
    "    #print(i_name,pearsonr(i_result['log_Lx/Ledd'],i_result['phoindex']))\n",
    "    \n",
    "    #if i_name=='Slab':\n",
    "        #x=i_result['log_Lx/Ledd']\n",
    "    #else:\n",
    "    \n",
    "    x=i_result['logLx_int']\n",
    "    #y=np.log10(i_result[i_los_nh_label])\n",
    "    y=i_result[i_los_nh_label]\n",
    "    \n",
    "    #slope, intercept, rvalue, pvalue and stderr\n",
    "    print(i_name,spearmanr(x,y))\n",
    "    "
   ]
  },
  {
   "cell_type": "code",
   "execution_count": null,
   "metadata": {
    "ExecuteTime": {
     "end_time": "2023-11-28T13:34:58.032294Z",
     "start_time": "2023-11-28T13:34:57.050030Z"
    },
    "scrolled": false
   },
   "outputs": [],
   "source": [
    "import scipy.stats\n",
    "#slope, intercept, r, p, se = scipy.stats.linregress(x, y)\n",
    "\n",
    "for i_name,i_result,i_los_nh_label in zip(model_names,result_all,los_nh_labels):\n",
    "    #print(i_name,pearsonr(i_result['log_Lx/Ledd'],i_result['phoindex']))\n",
    "    \n",
    "    #if i_name=='Slab':\n",
    "        #x=i_result['log_Lx/Ledd']\n",
    "    #else:\n",
    "    \n",
    "    x=i_result['logLx_int']\n",
    "    #y=np.log10(i_result[i_los_nh_label])\n",
    "    y=i_result[i_los_nh_label]\n",
    "    \n",
    "    #slope, intercept, rvalue, pvalue and stderr\n",
    "    slope, intercept, r, p, se = scipy.stats.linregress(x, y) #intercept_stderr \n",
    "    per= 0.6745*(1-r**2)/(len(x))**0.5\n",
    "    \n",
    "    result = scipy.stats.linregress(x, y)\n",
    "    print(i_name,'&','%.2f'%slope,'$\\pm$ %.2f'%se,'&', '%.2f'%intercept,'$\\pm$ %.2f'%result.intercept_stderr,'&', '%.2f $\\pm$ %.2f'%(r,per),'&', '%.1e'%p,'& \\\\\\\\')\n",
    "    #print(result.intercept_stderr )\n",
    "    \n",
    "    slope, intercept = np.polyfit(x, y, deg=1)\n",
    "    residuals = y - (slope * x + intercept)\n",
    "    residual_variance = np.var(residuals, ddof=2)\n",
    "    #y_err = x.std() * np.sqrt(1/len(x) + (x - x.mean())**2 / np.sum((x - x.mean())**2))\n",
    "    confidence_level = 0.997\n",
    "    degrees_of_freedom = len(x) - 2  # 自由度为样本数量减去拟合的参数数量\n",
    "    t_critical = stats.t.ppf((1 + confidence_level) / 2, degrees_of_freedom)\n",
    "    \n",
    "    x_new = np.linspace(41.6, 43.5, 20)  # 用于绘制自信区间的新 x 值\n",
    "    y_pred = slope * x_new + intercept  # 新 x 值对应的预测值\n",
    "\n",
    "    confidence_interval = t_critical * np.sqrt(residual_variance *\n",
    "                                               (1 / len(x) +\n",
    "                                                (x_new - np.mean(x))**2 /\n",
    "                                                np.sum((x - np.mean(x))**2)))\n",
    "\n",
    "    upper_bound = y_pred + confidence_interval  # 上界\n",
    "    lower_bound = y_pred - confidence_interval  # 下界\n",
    "    \n",
    "    \n",
    "\n",
    "    fig, ax = plt.subplots()\n",
    "    #ax.plot(x, y, ':',color='black')\n",
    "    ax.plot(x,y,'o', color='tab:brown')\n",
    "    ax.plot(x_new, y_pred, ':',color='black')\n",
    "    #ax.plot(x_new, upper_bound,color='grey')\n",
    "    #ax.plot(x_new, lower_bound,color='grey')\n",
    "\n",
    "    plt.fill_between(x_new, lower_bound, upper_bound, facecolor='grey', alpha=0.3)\n",
    "    set_ax_tick(ax)\n",
    "    ax.set_title(i_name)\n",
    "    #ax.set_ylabel(r'$\\Gamma$')\n",
    "    ax.set_ylabel(r'$N_{\\rm H,los (10^{22} cm^{-2})}$')\n",
    "\n",
    "    ax.set_xlabel(r'log($L_{\\rm \\, 2-10keV}$)')    \n",
    "    "
   ]
  },
  {
   "cell_type": "markdown",
   "metadata": {},
   "source": [
    "### nh-ledd"
   ]
  },
  {
   "cell_type": "code",
   "execution_count": null,
   "metadata": {
    "ExecuteTime": {
     "end_time": "2023-11-28T13:38:44.725842Z",
     "start_time": "2023-11-28T13:38:43.732598Z"
    },
    "scrolled": false
   },
   "outputs": [],
   "source": [
    "import scipy.stats\n",
    "#slope, intercept, r, p, se = scipy.stats.linregress(x, y)\n",
    "\n",
    "for i_name,i_result,i_los_nh_label in zip(model_names,result_all,los_nh_labels):\n",
    "    #print(i_name,pearsonr(i_result['log_Lx/Ledd'],i_result['phoindex']))\n",
    "    \n",
    "    #if i_name=='Slab':\n",
    "        #x=i_result['log_Lx/Ledd']\n",
    "    #else:\n",
    "    \n",
    "    x=i_result['log_Lx_int/Ledd']\n",
    "    #y=np.log10(i_result[i_los_nh_label])\n",
    "    y=i_result[i_los_nh_label]\n",
    "    \n",
    "    #slope, intercept, rvalue, pvalue and stderr\n",
    "    slope, intercept, r, p, se = scipy.stats.linregress(x, y) #intercept_stderr \n",
    "    per= 0.6745*(1-r**2)/(len(x))**0.5\n",
    "    \n",
    "    result = scipy.stats.linregress(x, y)\n",
    "    print(i_name,'&','%.2f'%slope,'$\\pm$ %.2f'%se,'&', '%.2f'%intercept,'$\\pm$ %.2f'%result.intercept_stderr,'&', '%.2f $\\pm$ %.2f'%(r,per),'&', '%.1e'%p,'& \\\\\\\\')\n",
    "    #print(result.intercept_stderr )\n",
    "    \n",
    "    slope, intercept = np.polyfit(x, y, deg=1)\n",
    "    residuals = y - (slope * x + intercept)\n",
    "    residual_variance = np.var(residuals, ddof=2)\n",
    "    #y_err = x.std() * np.sqrt(1/len(x) + (x - x.mean())**2 / np.sum((x - x.mean())**2))\n",
    "    confidence_level = 0.997\n",
    "    degrees_of_freedom = len(x) - 2  # 自由度为样本数量减去拟合的参数数量\n",
    "    t_critical = stats.t.ppf((1 + confidence_level) / 2, degrees_of_freedom)\n",
    "    \n",
    "    x_new = np.linspace(-4.2, -2.2, 20)  # 用于绘制自信区间的新 x 值\n",
    "    y_pred = slope * x_new + intercept  # 新 x 值对应的预测值\n",
    "\n",
    "    confidence_interval = t_critical * np.sqrt(residual_variance *\n",
    "                                               (1 / len(x) +\n",
    "                                                (x_new - np.mean(x))**2 /\n",
    "                                                np.sum((x - np.mean(x))**2)))\n",
    "\n",
    "    upper_bound = y_pred + confidence_interval  # 上界\n",
    "    lower_bound = y_pred - confidence_interval  # 下界\n",
    "    \n",
    "    \n",
    "\n",
    "    fig, ax = plt.subplots()\n",
    "    #ax.plot(x, y, ':',color='black')\n",
    "    ax.plot(x,y,'o', color='tab:brown')\n",
    "    ax.plot(x_new, y_pred, ':',color='black')\n",
    "    #ax.plot(x_new, upper_bound,color='grey')\n",
    "    #ax.plot(x_new, lower_bound,color='grey')\n",
    "    plt.fill_between(x_new, lower_bound, upper_bound, facecolor='grey', alpha=0.3)\n",
    "    set_ax_tick(ax)\n",
    "    ax.set_title(i_name)\n",
    "    #ax.set_ylabel(r'$\\Gamma$')\n",
    "    ax.set_ylabel(r'$N_{\\rm H,los (10^{22} cm^{-2})}$')\n",
    "    ax.set_xlabel(r'log($L_{\\rm \\, 2-10keV}/L_{\\rm Edd}$)')\n",
    "    "
   ]
  },
  {
   "cell_type": "code",
   "execution_count": null,
   "metadata": {
    "ExecuteTime": {
     "end_time": "2023-07-31T08:19:53.734302Z",
     "start_time": "2023-07-31T08:19:53.719392Z"
    }
   },
   "outputs": [],
   "source": [
    "data_literature_plot_select.columns"
   ]
  },
  {
   "cell_type": "markdown",
   "metadata": {
    "ExecuteTime": {
     "end_time": "2023-07-31T08:24:40.298279Z",
     "start_time": "2023-07-31T08:24:40.260440Z"
    }
   },
   "source": [
    "data_literature_plot_select"
   ]
  },
  {
   "cell_type": "code",
   "execution_count": null,
   "metadata": {
    "ExecuteTime": {
     "end_time": "2023-07-31T08:25:03.619788Z",
     "start_time": "2023-07-31T08:25:03.611121Z"
    }
   },
   "outputs": [],
   "source": [
    "data_literature_plot_select_Gamma=data_literature_plot_select[data_literature_plot_select['phoindex']>0]\n",
    "data_literature_plot_select_Gamma=drop_index(data_literature_plot_select_Gamma)"
   ]
  },
  {
   "cell_type": "code",
   "execution_count": null,
   "metadata": {
    "ExecuteTime": {
     "end_time": "2023-07-31T11:15:03.912808Z",
     "start_time": "2023-07-31T11:15:03.894418Z"
    }
   },
   "outputs": [],
   "source": [
    "x=data_literature_plot_select_Gamma['logLx/Ledd']\n",
    "y=data_literature_plot_select_Gamma['phoindex']\n",
    "\n",
    "x1=slab_result['log_Lx_int/Ledd']\n",
    "y1=slab_result['phoindex']\n",
    "\n",
    "x2=np.append(x,x1)\n",
    "y2=np.append(y,y1)\n",
    "\n",
    "\n",
    "slope, intercept, r, p, se = scipy.stats.linregress(x2, y2) #intercept_stderr \n",
    "result = scipy.stats.linregress(x2, y2)\n",
    "\n",
    "per= 0.6745*(1-r**2)/(len(x))**0.5\n",
    "\n",
    "\n",
    "print('&','%.2f'%slope,'$\\pm$ %.2f'%se,'&', '%.2f'%intercept,'$\\pm$ %.2f'%result.intercept_stderr,'&', '%.2f $\\pm$ %.2f'%(r,per),'&', '%.1e'%p,'& \\\\\\\\')\n"
   ]
  },
  {
   "cell_type": "code",
   "execution_count": null,
   "metadata": {
    "ExecuteTime": {
     "end_time": "2023-07-31T11:15:06.517954Z",
     "start_time": "2023-07-31T11:15:06.501169Z"
    }
   },
   "outputs": [],
   "source": [
    "x=data_literature_plot_select['logLx/Ledd']\n",
    "y=data_literature_plot_select['los_nh(10^22)']\n",
    "\n",
    "x1=slab_result['log_Lx_int/Ledd']\n",
    "y1=slab_result['los_nh(10^22)']\n",
    "\n",
    "x2=np.append(x,x1)\n",
    "y2=np.append(y,y1)\n",
    "\n",
    "slope, intercept, r, p, se = scipy.stats.linregress(x2, y2) #intercept_stderr \n",
    "result = scipy.stats.linregress(x2, y2)\n",
    "\n",
    "per= 0.6745*(1-r**2)/(len(x))**0.5\n",
    "\n",
    "print('&','%.2f'%slope,'$\\pm$ %.2f'%se,'&', '%.2f'%intercept,'$\\pm$ %.2f'%result.intercept_stderr,'&', '%.2f $\\pm$ %.2f'%(r,per),'&', '%.1e'%p,'& \\\\\\\\')\n"
   ]
  },
  {
   "cell_type": "markdown",
   "metadata": {},
   "source": [
    "#### EW"
   ]
  },
  {
   "cell_type": "code",
   "execution_count": null,
   "metadata": {
    "ExecuteTime": {
     "end_time": "2023-07-31T11:27:41.409790Z",
     "start_time": "2023-07-31T11:27:41.394670Z"
    }
   },
   "outputs": [],
   "source": [
    "x=slab_result['log_Lx_int/Ledd']\n",
    "y= np.log10(slab_result['EW'])\n",
    "\n",
    "slope, intercept, r, p, se = scipy.stats.linregress(x, y) #intercept_stderr \n",
    "result = scipy.stats.linregress(x, y)\n",
    "\n",
    "per= 0.6745*(1-r**2)/(len(x))**0.5\n",
    "\n",
    "print('All','&','%.2f'%slope,'$\\pm$ %.2f'%se,'&', '%.2f'%intercept,'$\\pm$ %.2f'%result.intercept_stderr,'&', '%.2f $\\pm$ %.2f'%(r,per),'&', '%.1e'%p,'& \\\\\\\\')\n"
   ]
  },
  {
   "cell_type": "code",
   "execution_count": null,
   "metadata": {
    "ExecuteTime": {
     "end_time": "2023-07-31T11:21:23.512704Z",
     "start_time": "2023-07-31T11:21:23.499057Z"
    }
   },
   "outputs": [],
   "source": [
    "slab_result_select=slab_result[slab_result['name']!='NGC2992']\n",
    "slab_result_select=drop_index(slab_result_select)"
   ]
  },
  {
   "cell_type": "code",
   "execution_count": null,
   "metadata": {
    "ExecuteTime": {
     "end_time": "2023-07-31T11:24:32.958063Z",
     "start_time": "2023-07-31T11:24:32.948506Z"
    }
   },
   "outputs": [],
   "source": [
    "slab_result_select_NGC4151=slab_result[slab_result['name']=='NGC4151']\n",
    "slab_result_select_NGC4151=drop_index(slab_result_select_NGC4151)"
   ]
  },
  {
   "cell_type": "code",
   "execution_count": null,
   "metadata": {},
   "outputs": [],
   "source": []
  },
  {
   "cell_type": "code",
   "execution_count": null,
   "metadata": {
    "ExecuteTime": {
     "end_time": "2023-07-31T11:28:19.451517Z",
     "start_time": "2023-07-31T11:28:19.436949Z"
    }
   },
   "outputs": [],
   "source": [
    "x=slab_result_select['log_Lx_int/Ledd']\n",
    "y= np.log10(slab_result_select['EW'])\n",
    "\n",
    "slope, intercept, r, p, se = scipy.stats.linregress(x, y) #intercept_stderr \n",
    "result = scipy.stats.linregress(x, y)\n",
    "\n",
    "per= 0.6745*(1-r**2)/(len(x))**0.5\n",
    "\n",
    "print('Exclude NGC2992','&','%.2f'%slope,'$\\pm$ %.2f'%se,'&', '%.2f'%intercept,'$\\pm$ %.2f'%result.intercept_stderr,'&', '%.2f $\\pm$ %.2f'%(r,per),'&', '%.1e'%p,'& \\\\\\\\')\n"
   ]
  },
  {
   "cell_type": "code",
   "execution_count": null,
   "metadata": {
    "ExecuteTime": {
     "end_time": "2023-07-31T11:42:10.788299Z",
     "start_time": "2023-07-31T11:42:10.760020Z"
    }
   },
   "outputs": [],
   "source": [
    "slab_result_select_NGC4151"
   ]
  },
  {
   "cell_type": "code",
   "execution_count": null,
   "metadata": {
    "ExecuteTime": {
     "end_time": "2023-07-31T11:28:17.360482Z",
     "start_time": "2023-07-31T11:28:17.345153Z"
    }
   },
   "outputs": [],
   "source": [
    "x=slab_result_select_NGC4151['log_Lx_int/Ledd']\n",
    "y= np.log10(slab_result_select_NGC4151['EW'])\n",
    "\n",
    "slope, intercept, r, p, se = scipy.stats.linregress(x, y) #intercept_stderr \n",
    "result = scipy.stats.linregress(x, y)\n",
    "\n",
    "per= 0.6745*(1-r**2)/(len(x))**0.5\n",
    "\n",
    "print('NGC4151','&','%.2f'%slope,'$\\pm$ %.2f'%se,'&', '%.2f'%intercept,'$\\pm$ %.2f'%result.intercept_stderr,'&', '%.2f $\\pm$ %.2f'%(r,per),'&', '%.1e'%p,'& \\\\\\\\')\n"
   ]
  },
  {
   "cell_type": "markdown",
   "metadata": {
    "ExecuteTime": {
     "end_time": "2023-07-31T11:32:03.464169Z",
     "start_time": "2023-07-31T11:32:03.434845Z"
    }
   },
   "source": [
    "slab_result_select_NGC4151"
   ]
  },
  {
   "cell_type": "code",
   "execution_count": null,
   "metadata": {},
   "outputs": [],
   "source": []
  },
  {
   "cell_type": "code",
   "execution_count": null,
   "metadata": {
    "ExecuteTime": {
     "end_time": "2023-07-31T11:22:33.840827Z",
     "start_time": "2023-07-31T11:22:33.816996Z"
    }
   },
   "outputs": [],
   "source": [
    "data_literatureEW"
   ]
  },
  {
   "cell_type": "code",
   "execution_count": null,
   "metadata": {
    "ExecuteTime": {
     "end_time": "2023-07-31T11:28:36.741810Z",
     "start_time": "2023-07-31T11:28:36.727337Z"
    }
   },
   "outputs": [],
   "source": [
    "x=data_literatureEW['logLx/Ledd']\n",
    "y= np.log10(data_literatureEW['EW'])\n",
    "\n",
    "slope, intercept, r, p, se = scipy.stats.linregress(x, y) #intercept_stderr \n",
    "result = scipy.stats.linregress(x, y)\n",
    "\n",
    "per= 0.6745*(1-r**2)/(len(x))**0.5\n",
    "\n",
    "print('NGC4151 Shu','&','%.2f'%slope,'$\\pm$ %.2f'%se,'&', '%.2f'%intercept,'$\\pm$ %.2f'%result.intercept_stderr,'&', '%.2f $\\pm$ %.2f'%(r,per),'&', '%.1e'%p,'& \\\\\\\\')\n"
   ]
  },
  {
   "cell_type": "code",
   "execution_count": null,
   "metadata": {},
   "outputs": [],
   "source": []
  },
  {
   "cell_type": "code",
   "execution_count": null,
   "metadata": {},
   "outputs": [],
   "source": []
  },
  {
   "cell_type": "code",
   "execution_count": null,
   "metadata": {},
   "outputs": [],
   "source": []
  },
  {
   "cell_type": "code",
   "execution_count": null,
   "metadata": {
    "ExecuteTime": {
     "end_time": "2023-08-04T06:43:53.411337Z",
     "start_time": "2023-08-04T06:43:53.394468Z"
    }
   },
   "outputs": [],
   "source": [
    "for i_name,i_result,i_los_nh_label in zip(model_names,result_all,los_nh_labels):\n",
    "    \n",
    "    #print(i_name,pearsonr(i_result['log_Lx/Ledd'],i_result['phoindex']))    \n",
    "    print(i_name,pearsonr(i_result['phoindex'],i_result[i_los_nh_label]))"
   ]
  },
  {
   "cell_type": "code",
   "execution_count": null,
   "metadata": {},
   "outputs": [],
   "source": []
  },
  {
   "cell_type": "code",
   "execution_count": null,
   "metadata": {
    "ExecuteTime": {
     "end_time": "2023-04-14T08:45:35.868923Z",
     "start_time": "2023-04-14T08:45:35.850951Z"
    }
   },
   "outputs": [],
   "source": [
    "for i_name,i_result,i_los_nh_label in zip(model_names,result_all,los_nh_labels):\n",
    "    #print(i_name,pearsonr(i_result['log_Lx/Ledd'],i_result['phoindex']))   \n",
    "    if i_name=='Slab':\n",
    "        x=i_result['log_Lx_int/Ledd']\n",
    "    else:\n",
    "        x=i_result['log_Lx_int/Ledd']    \n",
    "    \n",
    "    print(i_name,pearsonr(x,i_result[i_los_nh_label]))"
   ]
  },
  {
   "cell_type": "code",
   "execution_count": null,
   "metadata": {},
   "outputs": [],
   "source": []
  },
  {
   "cell_type": "code",
   "execution_count": null,
   "metadata": {},
   "outputs": [],
   "source": []
  },
  {
   "cell_type": "code",
   "execution_count": null,
   "metadata": {},
   "outputs": [],
   "source": []
  },
  {
   "cell_type": "code",
   "execution_count": null,
   "metadata": {},
   "outputs": [],
   "source": []
  },
  {
   "cell_type": "code",
   "execution_count": null,
   "metadata": {},
   "outputs": [],
   "source": []
  },
  {
   "cell_type": "code",
   "execution_count": null,
   "metadata": {},
   "outputs": [],
   "source": []
  },
  {
   "cell_type": "code",
   "execution_count": null,
   "metadata": {},
   "outputs": [],
   "source": []
  },
  {
   "cell_type": "code",
   "execution_count": null,
   "metadata": {
    "ExecuteTime": {
     "end_time": "2023-03-02T14:30:59.249057Z",
     "start_time": "2023-03-02T14:30:59.237924Z"
    }
   },
   "outputs": [],
   "source": [
    "pearsonr(slab_result['log_Lx/Ledd'],slab_result['log_Lx_10to50keV/Ledd'])"
   ]
  },
  {
   "cell_type": "code",
   "execution_count": null,
   "metadata": {
    "ExecuteTime": {
     "end_time": "2023-02-14T11:36:45.636258Z",
     "start_time": "2023-02-14T11:36:45.620342Z"
    }
   },
   "outputs": [],
   "source": [
    "pearsonr(slab_result['log_Lx/Ledd'],slab_result['phoindex']),pearsonr(slab_result['log_Lx/Ledd'],slab_result['zphabs_nh(10^22)'])"
   ]
  },
  {
   "cell_type": "code",
   "execution_count": null,
   "metadata": {
    "ExecuteTime": {
     "end_time": "2023-02-08T13:11:11.117139Z",
     "start_time": "2023-02-08T13:11:11.105307Z"
    },
    "scrolled": true
   },
   "outputs": [],
   "source": [
    "pearsonr(mytorus_couple_result['log_Lx/Ledd'],mytorus_couple_result['phoindex']),pearsonr(slab_result['log_Lx/Ledd'],slab_result['zphabs_nh(10^22)'])\n"
   ]
  },
  {
   "cell_type": "code",
   "execution_count": null,
   "metadata": {},
   "outputs": [],
   "source": []
  },
  {
   "cell_type": "code",
   "execution_count": null,
   "metadata": {},
   "outputs": [],
   "source": []
  },
  {
   "cell_type": "code",
   "execution_count": null,
   "metadata": {
    "ExecuteTime": {
     "end_time": "2023-03-02T14:30:52.190713Z",
     "start_time": "2023-03-02T14:30:52.179958Z"
    }
   },
   "outputs": [],
   "source": [
    "min(slab_result['log_Lx/Ledd']),max(slab_result['log_Lx/Ledd'])"
   ]
  },
  {
   "cell_type": "code",
   "execution_count": null,
   "metadata": {
    "ExecuteTime": {
     "end_time": "2023-03-02T14:30:52.617742Z",
     "start_time": "2023-03-02T14:30:52.607358Z"
    }
   },
   "outputs": [],
   "source": [
    "min(slab_result['log_Lx_10to50keV/Ledd']),max(slab_result['log_Lx_10to50keV/Ledd'])"
   ]
  },
  {
   "cell_type": "markdown",
   "metadata": {},
   "source": [
    "## fitted_line_2-10 and 10-50"
   ]
  },
  {
   "cell_type": "code",
   "execution_count": null,
   "metadata": {
    "ExecuteTime": {
     "end_time": "2023-07-12T14:50:09.081863Z",
     "start_time": "2023-07-12T14:50:09.071562Z"
    }
   },
   "outputs": [],
   "source": [
    "slab_result.columns"
   ]
  },
  {
   "cell_type": "code",
   "execution_count": null,
   "metadata": {
    "ExecuteTime": {
     "end_time": "2023-07-12T14:51:31.176041Z",
     "start_time": "2023-07-12T14:51:31.157339Z"
    }
   },
   "outputs": [],
   "source": [
    "# define a model for a line\n",
    "# line_orig = models.Linear1D(slope=1.0, intercept=0.5)\n",
    "\n",
    "# generate x, y data non-uniformly spaced in x\n",
    "# add noise to y measurements\n",
    "\n",
    "xlabel='log_Lx_int/Ledd'\n",
    "ylabel='log_Lx_10to50keV_int/Ledd'\n",
    "xerr_label='log_fint_err'\n",
    "yerr_label='log_fint10to50_err'\n",
    "\n",
    "dataplot=slab_result\n",
    "x= slab_result[xlabel]\n",
    "y=slab_result[ylabel]\n",
    "xerr=slab_result[xerr_label]\n",
    "yerr=slab_result[yerr_label]\n",
    "\n",
    "\n",
    "weights=np.zeros(len(x))+1\n",
    "\n",
    "#xerr\n",
    "\n",
    "# initialize a linear fitter\n",
    "fit = fitting.LinearLSQFitter()\n",
    "\n",
    "# initialize the outlier removal fitter\n",
    "or_fit = fitting.FittingWithOutlierRemoval(fit, sigma_clip, niter=3, sigma=3.0)\n",
    "\n",
    "# initialize a linear model\n",
    "line_init = models.Linear1D()\n",
    "\n",
    "# fit the data with the fitter\n",
    "fitted_line, mask = or_fit(line_init, x, y, weights=1.0/weights)\n",
    "filtered_data = np.ma.masked_array(y, mask=mask)\n",
    "\n",
    "print(fitted_line)"
   ]
  },
  {
   "cell_type": "markdown",
   "metadata": {
    "ExecuteTime": {
     "end_time": "2023-07-12T14:52:18.257309Z",
     "start_time": "2023-07-12T14:52:18.248684Z"
    }
   },
   "source": [
    "### plot 2-10 10-50keV"
   ]
  },
  {
   "cell_type": "code",
   "execution_count": null,
   "metadata": {
    "ExecuteTime": {
     "end_time": "2023-07-12T14:51:47.395526Z",
     "start_time": "2023-07-12T14:51:47.212083Z"
    }
   },
   "outputs": [],
   "source": [
    "figure_n= 1\n",
    "fig = plt.figure(figsize=(6,figure_n*6))\n",
    "fig.subplots_adjust(hspace=0.0, wspace = 0.0)\n",
    "ax = fig.add_subplot(figure_n,1,1)\n",
    "\n",
    "xlabel='log_Lx_int/Ledd'\n",
    "ylabel='log_Lx_10to50keV_int/Ledd'\n",
    "xerr_label='log_fint_err'\n",
    "yerr_label='log_fint10to50_err'\n",
    "#color_label='zphabs_nh(10^22)'\n",
    "color_label='black'\n",
    "#dataplot=slab_zgauss_result\n",
    "dataplot=slab_result\n",
    "ax=plot_errorbar(ax,dataplot,xlabel,ylabel,xerr=xerr_label,yerr=yerr_label,color_n=color_label,marker_n='name',size_n=None,logx=False,logy=False)\n",
    "\n",
    "\n",
    "\n",
    "#ax=plot_errorbar(ax,dataplot,xlabel,ylabel,xerr=xerr_label,yerr=yerr_label,color_n=color_label,marker_n='name',size_n=None,logx=False,logy=False)\n",
    "#ax.plot(x_ledd_lin,x_ledd_lin+0.2)\n",
    "\n",
    "#set_ax_locator(ax,xma=1000,xmi=500,yma=1,ymi=0.5)\n",
    "set_ax_legend(ax,bbox_to_anchor=(0.01, 0.99))   \n",
    "#ax.set_ylim(-7,17)\n",
    "ax.set_xlabel(xlabel)\n",
    "ax.set_ylabel(ylabel)\n",
    "set_ax_tick(ax)\n",
    "x_ledd_lin= np.linspace(-4.5,-2.5,100)\n",
    "ax.plot(x_ledd_lin, fitted_line(x_ledd_lin), color='grey',ls='--', linewidth=2,label='')\n",
    "\n",
    "sigma=3\n",
    "ax.errorbar(dataplot[xlabel], dataplot[ylabel], \n",
    "            #xerr=xerr, yerr=yerr, \n",
    "            markersize=10,\n",
    "            fmt=\"k.\", fillstyle=\"none\", label=r\"Clipped Data %.1f $\\sigma$\"%sigma)\n",
    "\n",
    "ax.errorbar(dataplot[xlabel], filtered_data, markersize=3,\n",
    "            fmt=\"ko\", label=\"Fitted Data\")\n",
    "\n",
    "ax.set_xlabel(r'log($L_{\\rm 2-10keV}/L_{\\rm Edd}$)')\n",
    "ax.set_ylabel(r'log($L_{\\rm 10-50keV}/L_{\\rm Edd}$)')"
   ]
  },
  {
   "cell_type": "code",
   "execution_count": null,
   "metadata": {},
   "outputs": [],
   "source": []
  },
  {
   "cell_type": "code",
   "execution_count": null,
   "metadata": {
    "ExecuteTime": {
     "end_time": "2023-07-12T14:52:54.887291Z",
     "start_time": "2023-07-12T14:52:54.715032Z"
    }
   },
   "outputs": [],
   "source": [
    "figure_n= 1\n",
    "fig = plt.figure(figsize=(6,figure_n*6))\n",
    "fig.subplots_adjust(hspace=0.0, wspace = 0.0)\n",
    "ax = fig.add_subplot(figure_n,1,1)\n",
    "\n",
    "xlabel='log_Lx_obs/Ledd'\n",
    "ylabel='log_Lx_10to50keV_obs/Ledd'\n",
    "xerr_label='log_fobs_err'\n",
    "yerr_label='log_fobs10to50_err'\n",
    "#color_label='zphabs_nh(10^22)'\n",
    "color_label='black'\n",
    "#dataplot=slab_zgauss_result\n",
    "dataplot=slab_result\n",
    "ax=plot_errorbar(ax,dataplot,xlabel,ylabel,xerr=xerr_label,yerr=yerr_label,color_n=color_label,marker_n='name',size_n=None,logx=False,logy=False)\n",
    "\n",
    "\n",
    "\n",
    "#ax=plot_errorbar(ax,dataplot,xlabel,ylabel,xerr=xerr_label,yerr=yerr_label,color_n=color_label,marker_n='name',size_n=None,logx=False,logy=False)\n",
    "#ax.plot(x_ledd_lin,x_ledd_lin+0.2)\n",
    "\n",
    "#set_ax_locator(ax,xma=1000,xmi=500,yma=1,ymi=0.5)\n",
    "set_ax_legend(ax,bbox_to_anchor=(0.01, 0.99))   \n",
    "#ax.set_ylim(-7,17)\n",
    "ax.set_xlabel(xlabel)\n",
    "ax.set_ylabel(ylabel)\n",
    "set_ax_tick(ax)\n",
    "\n",
    "ax.set_xlabel(r'log($L_{\\rm 2-10keV}/L_{\\rm Edd}$)')\n",
    "ax.set_ylabel(r'log($L_{\\rm 10-50keV}/L_{\\rm Edd}$)')"
   ]
  },
  {
   "cell_type": "code",
   "execution_count": null,
   "metadata": {
    "ExecuteTime": {
     "end_time": "2023-07-12T14:59:11.642310Z",
     "start_time": "2023-07-12T14:59:11.455650Z"
    }
   },
   "outputs": [],
   "source": [
    "figure_n= 1\n",
    "fig = plt.figure(figsize=(6,figure_n*6))\n",
    "fig.subplots_adjust(hspace=0.0, wspace = 0.0)\n",
    "ax = fig.add_subplot(figure_n,1,1)\n",
    "\n",
    "xlabel='log_Lx_int/Ledd'\n",
    "ylabel='log_Lx_obs/Ledd'\n",
    "xerr_label='log_fint_err'\n",
    "yerr_label='log_fobs_err'\n",
    "#color_label='zphabs_nh(10^22)'\n",
    "color_label='black'\n",
    "#dataplot=slab_zgauss_result\n",
    "dataplot=slab_result\n",
    "ax=plot_errorbar(ax,dataplot,xlabel,ylabel,xerr=xerr_label,yerr=yerr_label,color_n=color_label,marker_n='name',size_n=None,logx=False,logy=False)\n",
    "\n",
    "\n",
    "\n",
    "#ax=plot_errorbar(ax,dataplot,xlabel,ylabel,xerr=xerr_label,yerr=yerr_label,color_n=color_label,marker_n='name',size_n=None,logx=False,logy=False)\n",
    "#ax.plot(x_ledd_lin,x_ledd_lin+0.2)\n",
    "\n",
    "#set_ax_locator(ax,xma=1000,xmi=500,yma=1,ymi=0.5)\n",
    "set_ax_legend(ax,bbox_to_anchor=(0.01, 0.99))   \n",
    "#ax.set_ylim(-7,17)\n",
    "ax.set_xlabel(xlabel)\n",
    "ax.set_ylabel(ylabel)\n",
    "set_ax_tick(ax)\n",
    "\n",
    "ax.plot(x_ledd_lin,x_ledd_lin,ls='--',color='grey')\n",
    "\n",
    "ax.set_xlabel(r'log($L_{\\rm int,2-10keV}/L_{\\rm Edd}$)')\n",
    "ax.set_ylabel(r'log($L_{\\rm obs,2-10keV}/L_{\\rm Edd}$)')"
   ]
  },
  {
   "cell_type": "code",
   "execution_count": null,
   "metadata": {
    "ExecuteTime": {
     "end_time": "2023-07-12T14:58:50.220107Z",
     "start_time": "2023-07-12T14:58:50.038265Z"
    }
   },
   "outputs": [],
   "source": [
    "figure_n= 1\n",
    "fig = plt.figure(figsize=(6,figure_n*6))\n",
    "fig.subplots_adjust(hspace=0.0, wspace = 0.0)\n",
    "ax = fig.add_subplot(figure_n,1,1)\n",
    "\n",
    "xlabel='log_Lx_10to50keV_int/Ledd'\n",
    "ylabel='log_Lx_10to50keV_obs/Ledd'\n",
    "xerr_label='log_fint10to50_err'\n",
    "yerr_label='log_fobs10to50_err'\n",
    "#color_label='zphabs_nh(10^22)'\n",
    "color_label='black'\n",
    "#dataplot=slab_zgauss_result\n",
    "dataplot=slab_result\n",
    "ax=plot_errorbar(ax,dataplot,xlabel,ylabel,xerr=xerr_label,yerr=yerr_label,color_n=color_label,marker_n='name',size_n=None,logx=False,logy=False)\n",
    "\n",
    "\n",
    "\n",
    "#ax=plot_errorbar(ax,dataplot,xlabel,ylabel,xerr=xerr_label,yerr=yerr_label,color_n=color_label,marker_n='name',size_n=None,logx=False,logy=False)\n",
    "ax.plot(x_ledd_lin,x_ledd_lin,ls='--',color='grey')\n",
    "\n",
    "#set_ax_locator(ax,xma=1000,xmi=500,yma=1,ymi=0.5)\n",
    "set_ax_legend(ax,bbox_to_anchor=(0.01, 0.99))   \n",
    "ax.set_xlim(-4,-2.5)\n",
    "ax.set_ylim(-4,-2.5)\n",
    "ax.set_xlabel(xlabel)\n",
    "ax.set_ylabel(ylabel)\n",
    "set_ax_tick(ax)\n",
    "\n",
    "ax.set_xlabel(r'log($L_{\\rm int,10-50keV}/L_{\\rm Edd}$)')\n",
    "ax.set_ylabel(r'log($L_{\\rm obs,10-50keV}/L_{\\rm Edd}$)')"
   ]
  },
  {
   "cell_type": "code",
   "execution_count": null,
   "metadata": {},
   "outputs": [],
   "source": []
  },
  {
   "cell_type": "code",
   "execution_count": null,
   "metadata": {},
   "outputs": [],
   "source": []
  },
  {
   "cell_type": "code",
   "execution_count": null,
   "metadata": {},
   "outputs": [],
   "source": []
  },
  {
   "cell_type": "code",
   "execution_count": null,
   "metadata": {},
   "outputs": [],
   "source": []
  },
  {
   "cell_type": "markdown",
   "metadata": {},
   "source": [
    "### Gamma_Lx/Ledd"
   ]
  },
  {
   "cell_type": "code",
   "execution_count": null,
   "metadata": {
    "ExecuteTime": {
     "end_time": "2023-01-28T04:34:54.735424Z",
     "start_time": "2023-01-28T04:34:54.724854Z"
    }
   },
   "outputs": [],
   "source": [
    "slab_result.columns"
   ]
  },
  {
   "cell_type": "code",
   "execution_count": null,
   "metadata": {
    "ExecuteTime": {
     "end_time": "2023-01-28T04:35:17.434971Z",
     "start_time": "2023-01-28T04:35:17.253901Z"
    }
   },
   "outputs": [],
   "source": [
    "figure_n= 1\n",
    "fig = plt.figure(figsize=(6,figure_n*6))\n",
    "fig.subplots_adjust(hspace=0.0, wspace = 0.0)\n",
    "ax = fig.add_subplot(figure_n,1,1)\n",
    "\n",
    "xlabel='log_Lx/Ledd'\n",
    "ylabel='phoindex'\n",
    "xerr_label='log_f_err'\n",
    "yerr_label='phoindex_err'\n",
    "color_label='zphabs_nh(10^22)'\n",
    "\n",
    "#dataplot=slab_zgauss_result\n",
    "#ax=plot_errorbar_cmap(ax,dataplot,xlabel,ylabel,xerr=xerr_label,yerr=yerr_label,color_n=color_label,marker_n='name',size_n=None,logx=False,logy=False)\n",
    "\n",
    "dataplot=slab_result\n",
    "ax=plot_errorbar_cmap(ax,dataplot,xlabel,ylabel,xerr=xerr_label,yerr=yerr_label,color_n=color_label,marker_n='name',size_n=None,logx=False,logy=False)\n",
    "\n",
    "set_ax_tick(ax) \n",
    "#set_ax_locator(ax,xma=1000,xmi=500,yma=1,ymi=0.5)\n",
    "set_ax_legend(ax,bbox_to_anchor=(0.01, 0.99))   \n",
    "#ax.set_ylim(-7,17)\n",
    "ax.set_xlabel(xlabel)\n",
    "ax.set_ylabel(ylabel)\n"
   ]
  },
  {
   "cell_type": "markdown",
   "metadata": {},
   "source": [
    "### NH-inclination"
   ]
  },
  {
   "cell_type": "code",
   "execution_count": null,
   "metadata": {
    "ExecuteTime": {
     "end_time": "2023-01-29T07:45:05.222443Z",
     "start_time": "2023-01-29T07:45:05.200392Z"
    }
   },
   "outputs": [],
   "source": [
    "slab_result.columns"
   ]
  },
  {
   "cell_type": "code",
   "execution_count": null,
   "metadata": {},
   "outputs": [],
   "source": []
  },
  {
   "cell_type": "code",
   "execution_count": null,
   "metadata": {},
   "outputs": [],
   "source": []
  },
  {
   "cell_type": "code",
   "execution_count": null,
   "metadata": {},
   "outputs": [],
   "source": []
  },
  {
   "cell_type": "markdown",
   "metadata": {},
   "source": [
    "### NH-Lx/Ledd"
   ]
  },
  {
   "cell_type": "code",
   "execution_count": null,
   "metadata": {
    "ExecuteTime": {
     "end_time": "2023-01-28T04:35:39.804899Z",
     "start_time": "2023-01-28T04:35:39.625940Z"
    }
   },
   "outputs": [],
   "source": [
    "figure_n= 1\n",
    "fig = plt.figure(figsize=(6,figure_n*6))\n",
    "fig.subplots_adjust(hspace=0.0, wspace = 0.0)\n",
    "ax = fig.add_subplot(figure_n,1,1)\n",
    "\n",
    "xlabel='log_Lx/Ledd'\n",
    "ylabel='zphabs_nh(10^22)'\n",
    "xerr_label='log_f_err'\n",
    "yerr_label='zphabs_nh_err'\n",
    "color_label='zgaussSigma'\n",
    "\n",
    "dataplot=slab_result\n",
    "ax=plot_errorbar_cmap(ax,dataplot,xlabel,ylabel,xerr=xerr_label,yerr=yerr_label,color_n=color_label,marker_n='name',size_n=None,logx=False,logy=False)\n",
    "\n",
    "set_ax_tick(ax) \n",
    "#set_ax_locator(ax,xma=1000,xmi=500,yma=1,ymi=0.5)\n",
    "set_ax_legend(ax,bbox_to_anchor=(0.61, 0.99))   \n",
    "#ax.set_ylim(-7,17)\n",
    "#ax.semilogy()\n",
    "ax.set_xlabel(xlabel)\n",
    "ax.set_ylabel(ylabel)\n"
   ]
  },
  {
   "cell_type": "code",
   "execution_count": null,
   "metadata": {
    "ExecuteTime": {
     "end_time": "2023-02-14T13:07:46.075756Z",
     "start_time": "2023-02-14T13:07:45.888209Z"
    }
   },
   "outputs": [],
   "source": [
    "figure_n= 1\n",
    "fig = plt.figure(figsize=(6,figure_n*6))\n",
    "fig.subplots_adjust(hspace=0.0, wspace = 0.0)\n",
    "ax = fig.add_subplot(figure_n,1,1)\n",
    "\n",
    "xlabel='logLx'\n",
    "ylabel='zphabs_nh(10^22)'\n",
    "xerr_label='log_f_err'\n",
    "yerr_label='zphabs_nh_err'\n",
    "color_label='zgaussSigma'\n",
    "\n",
    "dataplot=slab_result\n",
    "ax=plot_errorbar_cmap(ax,dataplot,xlabel,ylabel,xerr=xerr_label,yerr=yerr_label,color_n=color_label,marker_n='name',size_n=None,logx=False,logy=False)\n",
    "\n",
    "set_ax_tick(ax) \n",
    "#set_ax_locator(ax,xma=1000,xmi=500,yma=1,ymi=0.5)\n",
    "set_ax_legend(ax,bbox_to_anchor=(0.61, 0.99))   \n",
    "#ax.set_ylim(-7,17)\n",
    "#ax.semilogy()\n",
    "ax.set_xlabel(xlabel)\n",
    "ax.set_ylabel(ylabel)\n"
   ]
  },
  {
   "cell_type": "code",
   "execution_count": null,
   "metadata": {
    "ExecuteTime": {
     "end_time": "2023-02-14T15:37:27.684835Z",
     "start_time": "2023-02-14T15:37:27.674677Z"
    }
   },
   "outputs": [],
   "source": [
    "10**5/86400"
   ]
  },
  {
   "cell_type": "code",
   "execution_count": null,
   "metadata": {},
   "outputs": [],
   "source": []
  },
  {
   "cell_type": "markdown",
   "metadata": {},
   "source": [
    "### NH-Gamma"
   ]
  },
  {
   "cell_type": "code",
   "execution_count": null,
   "metadata": {
    "ExecuteTime": {
     "end_time": "2023-01-28T04:36:12.373755Z",
     "start_time": "2023-01-28T04:36:12.193790Z"
    }
   },
   "outputs": [],
   "source": [
    "figure_n= 1\n",
    "fig = plt.figure(figsize=(6,figure_n*6))\n",
    "fig.subplots_adjust(hspace=0.0, wspace = 0.0)\n",
    "ax = fig.add_subplot(figure_n,1,1)\n",
    "\n",
    "xlabel='zphabs_nh(10^22)'\n",
    "ylabel='phoindex'\n",
    "xerr_label='zphabs_nh_err'\n",
    "yerr_label='phoindex_err'\n",
    "color_label='log_Lx/Ledd'\n",
    "\n",
    "dataplot=slab_result\n",
    "ax=plot_errorbar_cmap(ax,dataplot,xlabel,ylabel,xerr=xerr_label,yerr=yerr_label,color_n=color_label,marker_n='name',size_n=None,logx=False,logy=False)\n",
    "\n",
    "set_ax_tick(ax) \n",
    "#set_ax_locator(ax,xma=1000,xmi=500,yma=1,ymi=0.5)\n",
    "set_ax_legend(ax,bbox_to_anchor=(0.61, 0.99))   \n",
    "#ax.set_ylim(-7,17)\n",
    "#ax.semilogy()\n",
    "ax.set_xlabel(xlabel)\n",
    "ax.set_ylabel(ylabel)\n"
   ]
  },
  {
   "cell_type": "code",
   "execution_count": null,
   "metadata": {},
   "outputs": [],
   "source": []
  },
  {
   "cell_type": "code",
   "execution_count": null,
   "metadata": {},
   "outputs": [],
   "source": []
  },
  {
   "cell_type": "markdown",
   "metadata": {},
   "source": [
    "### zgauss-Lx/Ledd"
   ]
  },
  {
   "cell_type": "code",
   "execution_count": null,
   "metadata": {
    "ExecuteTime": {
     "end_time": "2023-01-05T12:44:05.578120Z",
     "start_time": "2023-01-05T12:44:05.378946Z"
    }
   },
   "outputs": [],
   "source": [
    "figure_n= 1\n",
    "fig = plt.figure(figsize=(6,figure_n*6))\n",
    "fig.subplots_adjust(hspace=0.0, wspace = 0.0)\n",
    "ax = fig.add_subplot(figure_n,1,1)\n",
    "\n",
    "xlabel='log_Lx/Ledd'\n",
    "ylabel='zgaussSigma'\n",
    "xerr_label='log_f_err'\n",
    "yerr_label='zgaussSigma_err'\n",
    "color_label='zphabs_nh'\n",
    "\n",
    "dataplot=slab_result\n",
    "ax=plot_errorbar_cmap(ax,dataplot,xlabel,ylabel,xerr=xerr_label,yerr=yerr_label,color_n=color_label,marker_n='name',size_n=None,logx=False,logy=False)\n",
    "\n",
    "set_ax_tick(ax) \n",
    "#set_ax_locator(ax,xma=1000,xmi=500,yma=1,ymi=0.5)\n",
    "set_ax_legend(ax,bbox_to_anchor=(0.11, 0.99))   \n",
    "#ax.set_ylim(-7,17)\n",
    "ax.set_xlabel(xlabel)\n",
    "ax.set_ylabel(ylabel)\n"
   ]
  },
  {
   "cell_type": "markdown",
   "metadata": {},
   "source": [
    "## Plot xillverCp"
   ]
  },
  {
   "cell_type": "code",
   "execution_count": null,
   "metadata": {
    "ExecuteTime": {
     "end_time": "2023-04-03T11:55:01.906311Z",
     "start_time": "2023-04-03T11:55:01.877113Z"
    }
   },
   "outputs": [],
   "source": [
    "obs_xillverCp_result=pd.read_csv('/Users/lyubing/Downloads/00xillverCp_cflux_dof.csv')\n",
    "\n",
    "for i in range(len(obs_xillverCp_result)):\n",
    "    obs_xillverCp_result.loc[i,'logmass']= name_mass_dict[obs_xillverCp_result.loc[i,'name']]\n",
    "obs_xillverCp_result['logLedd']= np.log10(1.26e38)+obs_xillverCp_result['logmass']\n",
    "\n",
    "\n",
    "for i in range(len(obs_xillverCp_result)):\n",
    "    obs_xillverCp_result.loc[i,'redshift']= name_redshift_dict[obs_xillverCp_result.loc[i,'name']]\n",
    "    obs_xillverCp_result.loc[i,'D_cm']= cosmo.luminosity_distance(z=name_redshift_dict[obs_xillverCp_result.loc[i,'name']]).to(u.cm).value\n",
    "\n",
    "obs_xillverCp_result['logLx']=np.log10(4*np.pi)+np.log10(obs_xillverCp_result['D_cm'])*2.0+obs_xillverCp_result['log_f']\n",
    "obs_xillverCp_result['log_Lx/Ledd']=obs_xillverCp_result['logLx']-obs_xillverCp_result['logLedd']\n",
    "    \n"
   ]
  },
  {
   "cell_type": "code",
   "execution_count": null,
   "metadata": {
    "ExecuteTime": {
     "end_time": "2023-04-03T11:55:02.287988Z",
     "start_time": "2023-04-03T11:55:02.249563Z"
    }
   },
   "outputs": [],
   "source": [
    "obs_xillverCp_result"
   ]
  },
  {
   "cell_type": "markdown",
   "metadata": {},
   "source": [
    "### obs_xillverCp_zgauss"
   ]
  },
  {
   "cell_type": "code",
   "execution_count": null,
   "metadata": {
    "ExecuteTime": {
     "end_time": "2023-04-02T13:37:08.310864Z",
     "start_time": "2023-04-02T13:37:08.279754Z"
    }
   },
   "outputs": [],
   "source": [
    "obs_xillverCp_zgauss_result=pd.read_csv('/Users/lyubing/Downloads/00xillverCp_zgauss_cflux_dof.csv')\n",
    "\n",
    "for i in range(len(obs_xillverCp_zgauss_result)):\n",
    "    obs_xillverCp_zgauss_result.loc[i,'logmass']= name_mass_dict[obs_xillverCp_zgauss_result.loc[i,'name']]\n",
    "obs_xillverCp_zgauss_result['logLedd']= np.log10(1.26e38)+obs_xillverCp_zgauss_result['logmass']\n",
    "\n",
    "\n",
    "for i in range(len(obs_xillverCp_zgauss_result)):\n",
    "    obs_xillverCp_zgauss_result.loc[i,'redshift']= name_redshift_dict[obs_xillverCp_zgauss_result.loc[i,'name']]\n",
    "    obs_xillverCp_zgauss_result.loc[i,'D_cm']= cosmo.luminosity_distance(z=name_redshift_dict[obs_xillverCp_zgauss_result.loc[i,'name']]).to(u.cm).value\n",
    "\n",
    "obs_xillverCp_zgauss_result['logLx']=np.log10(4*np.pi)+np.log10(obs_xillverCp_zgauss_result['D_cm'])*2.0+obs_xillverCp_zgauss_result['log_f']\n",
    "obs_xillverCp_zgauss_result['log_Lx/Ledd']=obs_xillverCp_zgauss_result['logLx']-obs_xillverCp_zgauss_result['logLedd']\n"
   ]
  },
  {
   "cell_type": "code",
   "execution_count": null,
   "metadata": {
    "ExecuteTime": {
     "end_time": "2023-04-03T11:54:47.696492Z",
     "start_time": "2023-04-03T11:54:47.661109Z"
    }
   },
   "outputs": [],
   "source": [
    "obs_xillverCp_zgauss_result"
   ]
  },
  {
   "cell_type": "markdown",
   "metadata": {},
   "source": [
    "### obs_xillverCp_zgauss_10to50keV"
   ]
  },
  {
   "cell_type": "code",
   "execution_count": null,
   "metadata": {
    "ExecuteTime": {
     "end_time": "2023-04-03T08:48:33.522827Z",
     "start_time": "2023-04-03T08:48:33.497231Z"
    }
   },
   "outputs": [],
   "source": [
    "obs_xillverCp_zgauss_10to50keV_result=pd.read_csv('/Users/lyubing/Downloads/00xillverCp_zgauss_10to50keV_cflux_dof.csv')\n",
    "\n",
    "for i in range(len(obs_xillverCp_zgauss_10to50keV_result)):\n",
    "    obs_xillverCp_zgauss_10to50keV_result.loc[i,'logmass']= name_mass_dict[obs_xillverCp_zgauss_10to50keV_result.loc[i,'name']]\n",
    "obs_xillverCp_zgauss_10to50keV_result['logLedd']= np.log10(1.26e38)+obs_xillverCp_zgauss_10to50keV_result['logmass']\n",
    "\n",
    "\n",
    "for i in range(len(obs_xillverCp_zgauss_10to50keV_result)):\n",
    "    obs_xillverCp_zgauss_10to50keV_result.loc[i,'redshift']= name_redshift_dict[obs_xillverCp_zgauss_10to50keV_result.loc[i,'name']]\n",
    "    obs_xillverCp_zgauss_10to50keV_result.loc[i,'D_cm']= cosmo.luminosity_distance(z=name_redshift_dict[obs_xillverCp_zgauss_10to50keV_result.loc[i,'name']]).to(u.cm).value\n",
    "\n",
    "obs_xillverCp_zgauss_10to50keV_result['logLx']=np.log10(4*np.pi)+np.log10(obs_xillverCp_zgauss_10to50keV_result['D_cm'])*2.0+obs_xillverCp_zgauss_10to50keV_result['log_f']\n",
    "obs_xillverCp_zgauss_10to50keV_result['log_Lx/Ledd']=obs_xillverCp_zgauss_10to50keV_result['logLx']-obs_xillverCp_zgauss_10to50keV_result['logLedd']\n"
   ]
  },
  {
   "cell_type": "code",
   "execution_count": null,
   "metadata": {},
   "outputs": [],
   "source": []
  },
  {
   "cell_type": "code",
   "execution_count": null,
   "metadata": {},
   "outputs": [],
   "source": []
  },
  {
   "cell_type": "code",
   "execution_count": null,
   "metadata": {},
   "outputs": [],
   "source": []
  },
  {
   "cell_type": "code",
   "execution_count": null,
   "metadata": {},
   "outputs": [],
   "source": []
  },
  {
   "cell_type": "markdown",
   "metadata": {},
   "source": [
    "### intr_xillverCp"
   ]
  },
  {
   "cell_type": "code",
   "execution_count": null,
   "metadata": {
    "ExecuteTime": {
     "end_time": "2023-04-02T13:37:22.617436Z",
     "start_time": "2023-04-02T13:37:22.594494Z"
    }
   },
   "outputs": [],
   "source": [
    "intr_xillverCp_result=pd.read_csv('/Users/lyubing/Downloads/00xillverCp_intr_cflux_dof.csv')\n",
    "\n",
    "for i in range(len(intr_xillverCp_result)):\n",
    "    intr_xillverCp_result.loc[i,'logmass']= name_mass_dict[intr_xillverCp_result.loc[i,'name']]\n",
    "intr_xillverCp_result['logLedd']= np.log10(1.26e38)+intr_xillverCp_result['logmass']\n",
    "\n",
    "\n",
    "for i in range(len(intr_xillverCp_result)):\n",
    "    intr_xillverCp_result.loc[i,'redshift']= name_redshift_dict[intr_xillverCp_result.loc[i,'name']]\n",
    "    intr_xillverCp_result.loc[i,'D_cm']= cosmo.luminosity_distance(z=name_redshift_dict[intr_xillverCp_result.loc[i,'name']]).to(u.cm).value\n",
    "\n",
    "intr_xillverCp_result['logLx']=np.log10(4*np.pi)+np.log10(intr_xillverCp_result['D_cm'])*2.0+intr_xillverCp_result['log_f']\n",
    "intr_xillverCp_result['log_Lx/Ledd']=intr_xillverCp_result['logLx']-intr_xillverCp_result['logLedd']\n"
   ]
  },
  {
   "cell_type": "code",
   "execution_count": null,
   "metadata": {
    "ExecuteTime": {
     "end_time": "2023-04-03T11:55:30.637481Z",
     "start_time": "2023-04-03T11:55:30.605222Z"
    }
   },
   "outputs": [],
   "source": [
    "intr_xillverCp_result"
   ]
  },
  {
   "cell_type": "code",
   "execution_count": null,
   "metadata": {},
   "outputs": [],
   "source": []
  },
  {
   "cell_type": "code",
   "execution_count": null,
   "metadata": {},
   "outputs": [],
   "source": []
  },
  {
   "cell_type": "code",
   "execution_count": null,
   "metadata": {},
   "outputs": [],
   "source": []
  },
  {
   "cell_type": "code",
   "execution_count": null,
   "metadata": {
    "ExecuteTime": {
     "end_time": "2023-04-02T13:37:30.127229Z",
     "start_time": "2023-04-02T13:37:29.598199Z"
    }
   },
   "outputs": [],
   "source": [
    "fig = plt.figure(figsize=(9,9))\n",
    "fig.subplots_adjust(hspace=0., wspace = 0.)\n",
    "ax = fig.add_subplot(2,2,1)\n",
    "\n",
    "\n",
    "\n",
    "xlabel='log_Lx/Ledd'\n",
    "ylabel='phoindex'\n",
    "xerr_label='log_f_err'\n",
    "yerr_label='phoindex_err'\n",
    "color_label='black'\n",
    "\n",
    "dataplot=intr_xillverCp_result\n",
    "ax=plot_errorbar(ax,dataplot,xlabel,ylabel,xerr=xerr_label,yerr=yerr_label,color_n=color_label,marker_n='name',size_n=None,logx=False,logy=False,blank_plot=True)\n",
    "set_ax_tick(ax) \n",
    "set_ax_locator(ax,xma=1.0,xmi=0.2,yma=0.2,ymi=0.1)\n",
    "set_ax_legend(ax,bbox_to_anchor=(0.01, 0.99))   \n",
    "#ax.set_ylim(-7,17)\n",
    "#ax.set_xlabel(r'log($L_{\\rm X}/L_{\\rm Edd}$)')\n",
    "ax.set_ylabel(r'$\\Gamma$')\n",
    "model_name='xillverCp'\n",
    "ax.set_title('%s'%model_name)\n",
    "\n",
    "\n",
    "'''ax2 = fig.add_subplot(2,2,2,sharey=ax)\n",
    "xlabel='zphabs_nh(10^22)'\n",
    "ylabel='phoindex'\n",
    "xerr_label=None #'zphabs_nh_err'\n",
    "yerr_label='phoindex_err'\n",
    "\n",
    "dataplot=xclumpy_result\n",
    "ax2=plot_errorbar(ax2,dataplot,xlabel,ylabel,xerr=xerr_label,yerr=yerr_label,color_n=color_label,marker_n='name',size_n=None,logx=False,logy=False,blank_plot=True)\n",
    "set_ax_tick(ax2) \n",
    "#set_ax_locator(ax,xma=1000,xmi=500,yma=1,ymi=0.5)\n",
    "#set_ax_legend(ax2,bbox_to_anchor=(0.01, 0.99))   \n",
    "#ax.set_ylim(-0.1,0.5)\n",
    "ax2.set_xlabel(r'$N_{\\rm H,los (10^{22} cm^{-2})}$')\n",
    "#ax2.set_ylabel(r'$\\Gamma$')\n",
    "#ax2.yaxis.set_major_formatter(ticker.NullFormatter())\n",
    "set_ax_locator(ax2,xma=25,xmi=5,yma=0.2,ymi=0.1)\n",
    "ax2.yaxis.set_tick_params(which='major', size=10, width=2, direction='in', top='on',labelsize=0)\n",
    "'''\n",
    "\n",
    "ax3 = fig.add_subplot(2,2,3,sharex=ax)\n",
    "\n",
    "xlabel='log_Lx/Ledd'\n",
    "ylabel='zphabs_nh(10^22)'\n",
    "xerr_label='log_f_err'\n",
    "yerr_label=None#'zphabs_nh_err'\n",
    "\n",
    "\n",
    "dataplot=intr_xillverCp_result\n",
    "ax3=plot_errorbar(ax3,dataplot,xlabel,ylabel,xerr=xerr_label,yerr=yerr_label,color_n=color_label,marker_n='name',size_n=None,logx=False,logy=False,blank_plot=True)\n",
    "\n",
    "set_ax_tick(ax3) \n",
    "#set_ax_locator(ax,xma=1000,xmi=500,yma=1,ymi=0.5)\n",
    "#set_ax_legend(ax3,bbox_to_anchor=(0.51, 0.99))   \n",
    "#ax.set_ylim(-7,17)\n",
    "#ax.semilogy()\n",
    "ax3.set_xlabel(r'log($L_{\\rm 2-10keV}/L_{\\rm Edd}$)')\n",
    "ax3.set_ylabel(r'$N_{\\rm H,los (10^{22} cm^{-2})}$')\n",
    "ax3.set_ylim(-5,35)\n",
    "\n",
    "\n",
    "#ax2.xaxis.set_tick_params(which='major', size=10, width=2, direction='in', top='on',)\n",
    "#ax2.xaxis.set_tick_params(which='minor', size=5, width=2, direction='in', top='on')\n",
    "#ax2.yaxis.set_tick_params(which='major', size=10, width=2, direction='in', right='on')\n",
    "#ax2.yaxis.set_tick_params(which='minor', size=5, width=2, direction='in', right='on')\n",
    "\n",
    "\n",
    "#ax.set_title('%s model'%model_name)\n",
    "save_lc_img_path=os.path.join('/Users/lyubing/Downloads/OXCLAGN/OXCLAGN/pic/Gamma_L_nh_pic/','%s.pdf'%model_name) \n",
    "plt.savefig(save_lc_img_path,dpi=400, transparent=False, bbox_inches='tight')\n",
    "#plt.close()    "
   ]
  },
  {
   "cell_type": "markdown",
   "metadata": {},
   "source": [
    "### intr_xillverCp_zgauss"
   ]
  },
  {
   "cell_type": "code",
   "execution_count": null,
   "metadata": {
    "ExecuteTime": {
     "end_time": "2023-04-03T11:55:43.929987Z",
     "start_time": "2023-04-03T11:55:43.905643Z"
    }
   },
   "outputs": [],
   "source": [
    "intr_xillverCp_zgauss_result=pd.read_csv('/Users/lyubing/Downloads/00xillverCp_zgauss_intr_cflux_dof.csv')\n",
    "\n",
    "for i in range(len(intr_xillverCp_zgauss_result)):\n",
    "    intr_xillverCp_zgauss_result.loc[i,'logmass']= name_mass_dict[intr_xillverCp_zgauss_result.loc[i,'name']]\n",
    "intr_xillverCp_zgauss_result['logLedd']= np.log10(1.26e38)+intr_xillverCp_zgauss_result['logmass']\n",
    "\n",
    "\n",
    "for i in range(len(intr_xillverCp_zgauss_result)):\n",
    "    intr_xillverCp_zgauss_result.loc[i,'redshift']= name_redshift_dict[intr_xillverCp_zgauss_result.loc[i,'name']]\n",
    "    intr_xillverCp_zgauss_result.loc[i,'D_cm']= cosmo.luminosity_distance(z=name_redshift_dict[intr_xillverCp_zgauss_result.loc[i,'name']]).to(u.cm).value\n",
    "\n",
    "intr_xillverCp_zgauss_result['logLx']=np.log10(4*np.pi)+np.log10(intr_xillverCp_zgauss_result['D_cm'])*2.0+intr_xillverCp_zgauss_result['log_f']\n",
    "intr_xillverCp_zgauss_result['log_Lx/Ledd']=intr_xillverCp_zgauss_result['logLx']-intr_xillverCp_zgauss_result['logLedd']\n",
    "    \n"
   ]
  },
  {
   "cell_type": "code",
   "execution_count": null,
   "metadata": {
    "ExecuteTime": {
     "end_time": "2023-04-03T11:55:45.282160Z",
     "start_time": "2023-04-03T11:55:45.247206Z"
    }
   },
   "outputs": [],
   "source": [
    "intr_xillverCp_zgauss_result"
   ]
  },
  {
   "cell_type": "code",
   "execution_count": null,
   "metadata": {
    "ExecuteTime": {
     "end_time": "2023-04-02T13:37:41.422601Z",
     "start_time": "2023-04-02T13:37:40.897555Z"
    }
   },
   "outputs": [],
   "source": [
    "fig = plt.figure(figsize=(9,9))\n",
    "fig.subplots_adjust(hspace=0., wspace = 0.)\n",
    "ax = fig.add_subplot(2,2,1)\n",
    "\n",
    "\n",
    "\n",
    "xlabel='log_Lx/Ledd'\n",
    "ylabel='phoindex'\n",
    "xerr_label='log_f_err'\n",
    "yerr_label='phoindex_err'\n",
    "color_label='black'\n",
    "\n",
    "dataplot=intr_xillverCp_zgauss_result\n",
    "ax=plot_errorbar(ax,dataplot,xlabel,ylabel,xerr=xerr_label,yerr=yerr_label,color_n=color_label,marker_n='name',size_n=None,logx=False,logy=False,blank_plot=True)\n",
    "set_ax_tick(ax) \n",
    "set_ax_locator(ax,xma=1.0,xmi=0.2,yma=0.2,ymi=0.1)\n",
    "set_ax_legend(ax,bbox_to_anchor=(0.01, 0.99))   \n",
    "#ax.set_ylim(-7,17)\n",
    "#ax.set_xlabel(r'log($L_{\\rm X}/L_{\\rm Edd}$)')\n",
    "ax.set_ylabel(r'$\\Gamma$')\n",
    "model_name='xillverCp+zgauss'\n",
    "ax.set_title('%s'%model_name)\n",
    "\n",
    "\n",
    "'''ax2 = fig.add_subplot(2,2,2,sharey=ax)\n",
    "xlabel='zphabs_nh(10^22)'\n",
    "ylabel='phoindex'\n",
    "xerr_label=None #'zphabs_nh_err'\n",
    "yerr_label='phoindex_err'\n",
    "\n",
    "dataplot=xclumpy_result\n",
    "ax2=plot_errorbar(ax2,dataplot,xlabel,ylabel,xerr=xerr_label,yerr=yerr_label,color_n=color_label,marker_n='name',size_n=None,logx=False,logy=False,blank_plot=True)\n",
    "set_ax_tick(ax2) \n",
    "#set_ax_locator(ax,xma=1000,xmi=500,yma=1,ymi=0.5)\n",
    "#set_ax_legend(ax2,bbox_to_anchor=(0.01, 0.99))   \n",
    "#ax.set_ylim(-0.1,0.5)\n",
    "ax2.set_xlabel(r'$N_{\\rm H,los (10^{22} cm^{-2})}$')\n",
    "#ax2.set_ylabel(r'$\\Gamma$')\n",
    "#ax2.yaxis.set_major_formatter(ticker.NullFormatter())\n",
    "set_ax_locator(ax2,xma=25,xmi=5,yma=0.2,ymi=0.1)\n",
    "ax2.yaxis.set_tick_params(which='major', size=10, width=2, direction='in', top='on',labelsize=0)\n",
    "'''\n",
    "\n",
    "ax3 = fig.add_subplot(2,2,3,sharex=ax)\n",
    "\n",
    "xlabel='log_Lx/Ledd'\n",
    "ylabel='zphabs_nh(10^22)'\n",
    "xerr_label='log_f_err'\n",
    "yerr_label=None#'zphabs_nh_err'\n",
    "\n",
    "\n",
    "dataplot=intr_xillverCp_zgauss_result\n",
    "ax3=plot_errorbar(ax3,dataplot,xlabel,ylabel,xerr=xerr_label,yerr=yerr_label,color_n=color_label,marker_n='name',size_n=None,logx=False,logy=False,blank_plot=True)\n",
    "\n",
    "set_ax_tick(ax3) \n",
    "#set_ax_locator(ax,xma=1000,xmi=500,yma=1,ymi=0.5)\n",
    "#set_ax_legend(ax3,bbox_to_anchor=(0.51, 0.99))   \n",
    "#ax.set_ylim(-7,17)\n",
    "#ax.semilogy()\n",
    "ax3.set_xlabel(r'log($L_{\\rm 2-10keV}/L_{\\rm Edd}$)')\n",
    "ax3.set_ylabel(r'$N_{\\rm H,los (10^{22} cm^{-2})}$')\n",
    "ax3.set_ylim(-5,35)\n",
    "\n",
    "\n",
    "#ax2.xaxis.set_tick_params(which='major', size=10, width=2, direction='in', top='on',)\n",
    "#ax2.xaxis.set_tick_params(which='minor', size=5, width=2, direction='in', top='on')\n",
    "#ax2.yaxis.set_tick_params(which='major', size=10, width=2, direction='in', right='on')\n",
    "#ax2.yaxis.set_tick_params(which='minor', size=5, width=2, direction='in', right='on')\n",
    "\n",
    "\n",
    "#ax.set_title('%s model'%model_name)\n",
    "save_lc_img_path=os.path.join('/Users/lyubing/Downloads/OXCLAGN/OXCLAGN/pic/Gamma_L_nh_pic/','%s.pdf'%model_name) \n",
    "plt.savefig(save_lc_img_path,dpi=400, transparent=False, bbox_inches='tight')\n",
    "#plt.close()    "
   ]
  },
  {
   "cell_type": "markdown",
   "metadata": {},
   "source": [
    "### intr_xillverCp_zgauss_10to50keV_result"
   ]
  },
  {
   "cell_type": "code",
   "execution_count": null,
   "metadata": {
    "ExecuteTime": {
     "end_time": "2023-04-03T08:47:02.367363Z",
     "start_time": "2023-04-03T08:47:02.340925Z"
    }
   },
   "outputs": [],
   "source": [
    "intr_xillverCp_zgauss_10to50keV_result=pd.read_csv('/Users/lyubing/Downloads/00xillverCp_zgauss_10to50keV_intr_cflux_dof.csv')\n",
    "\n",
    "for i in range(len(intr_xillverCp_zgauss_10to50keV_result)):\n",
    "    intr_xillverCp_zgauss_10to50keV_result.loc[i,'logmass']= name_mass_dict[intr_xillverCp_zgauss_10to50keV_result.loc[i,'name']]\n",
    "intr_xillverCp_zgauss_10to50keV_result['logLedd']= np.log10(1.26e38)+intr_xillverCp_zgauss_10to50keV_result['logmass']\n",
    "\n",
    "\n",
    "for i in range(len(intr_xillverCp_zgauss_10to50keV_result)):\n",
    "    intr_xillverCp_zgauss_10to50keV_result.loc[i,'redshift']= name_redshift_dict[intr_xillverCp_zgauss_10to50keV_result.loc[i,'name']]\n",
    "    intr_xillverCp_zgauss_10to50keV_result.loc[i,'D_cm']= cosmo.luminosity_distance(z=name_redshift_dict[intr_xillverCp_zgauss_10to50keV_result.loc[i,'name']]).to(u.cm).value\n",
    "\n",
    "intr_xillverCp_zgauss_10to50keV_result['logLx']=np.log10(4*np.pi)+np.log10(intr_xillverCp_zgauss_10to50keV_result['D_cm'])*2.0+intr_xillverCp_zgauss_10to50keV_result['log_f']\n",
    "intr_xillverCp_zgauss_10to50keV_result['log_Lx/Ledd']=intr_xillverCp_zgauss_10to50keV_result['logLx']-intr_xillverCp_zgauss_10to50keV_result['logLedd']\n",
    "    \n"
   ]
  },
  {
   "cell_type": "markdown",
   "metadata": {},
   "source": [
    "## xillverCp_final"
   ]
  },
  {
   "cell_type": "code",
   "execution_count": null,
   "metadata": {
    "ExecuteTime": {
     "end_time": "2023-11-28T02:18:08.874973Z",
     "start_time": "2023-11-28T02:18:08.807171Z"
    }
   },
   "outputs": [],
   "source": [
    "xillverCp_zgauss_result=pd.read_excel('/Users/lyubing/Downloads/OXCLAGN/OXCLAGN.xlsx',sheet_name='xillverCp_zgauss')\n",
    "\n",
    "\n",
    "for i in range(len(xillverCp_zgauss_result)):\n",
    "    xillverCp_zgauss_result.loc[i,'logmass']= name_mass_dict[xillverCp_zgauss_result.loc[i,'name']]\n",
    "xillverCp_zgauss_result['logLedd']= np.log10(1.26e38)+xillverCp_zgauss_result['logmass']\n",
    "\n",
    "\n",
    "for i in range(len(xillverCp_zgauss_result)):\n",
    "    xillverCp_zgauss_result.loc[i,'redshift']= name_redshift_dict[xillverCp_zgauss_result.loc[i,'name']]\n",
    "    xillverCp_zgauss_result.loc[i,'D_cm']= cosmo.luminosity_distance(z=name_redshift_dict[xillverCp_zgauss_result.loc[i,'name']]).to(u.cm).value\n",
    "\n",
    "xillverCp_zgauss_result['logLx_obs']=np.log10(4*np.pi)+np.log10(xillverCp_zgauss_result['D_cm'])*2.0+xillverCp_zgauss_result['log_f_obs']\n",
    "xillverCp_zgauss_result['log_Lx_obs/Ledd']=xillverCp_zgauss_result['logLx_obs']-xillverCp_zgauss_result['logLedd']\n",
    "    \n",
    "xillverCp_zgauss_result['logLx_int']=np.log10(4*np.pi)+np.log10(xillverCp_zgauss_result['D_cm'])*2.0+xillverCp_zgauss_result['log_f_int']\n",
    "xillverCp_zgauss_result['log_Lx_int/Ledd']=xillverCp_zgauss_result['logLx_int']-xillverCp_zgauss_result['logLedd']\n",
    "\n",
    "\n",
    "xillverCp_zgauss_result['logLx_obs_10to50keV']=np.log10(4*np.pi)+np.log10(xillverCp_zgauss_result['D_cm'])*2.0+xillverCp_zgauss_result['log_f_obs_10to50keV']\n",
    "xillverCp_zgauss_result['log_Lx_obs_10to50keV/Ledd']=xillverCp_zgauss_result['logLx_obs_10to50keV']-xillverCp_zgauss_result['logLedd']\n",
    "    \n",
    "xillverCp_zgauss_result['logLx_int_10to50keV']=np.log10(4*np.pi)+np.log10(xillverCp_zgauss_result['D_cm'])*2.0+xillverCp_zgauss_result['log_f_int_10to50keV']\n",
    "xillverCp_zgauss_result['log_Lx_int_10to50keV/Ledd']=xillverCp_zgauss_result['logLx_int_10to50keV']-xillverCp_zgauss_result['logLedd']\n",
    "\n",
    "\n"
   ]
  },
  {
   "cell_type": "code",
   "execution_count": null,
   "metadata": {
    "ExecuteTime": {
     "end_time": "2023-04-05T13:21:23.581667Z",
     "start_time": "2023-04-05T13:21:23.549081Z"
    }
   },
   "outputs": [],
   "source": [
    "xillverCp_zgauss_result#.columns"
   ]
  },
  {
   "cell_type": "code",
   "execution_count": null,
   "metadata": {},
   "outputs": [],
   "source": []
  },
  {
   "cell_type": "code",
   "execution_count": null,
   "metadata": {},
   "outputs": [],
   "source": []
  },
  {
   "cell_type": "code",
   "execution_count": null,
   "metadata": {},
   "outputs": [],
   "source": []
  },
  {
   "cell_type": "code",
   "execution_count": null,
   "metadata": {},
   "outputs": [],
   "source": []
  },
  {
   "cell_type": "code",
   "execution_count": null,
   "metadata": {},
   "outputs": [],
   "source": []
  },
  {
   "cell_type": "markdown",
   "metadata": {},
   "source": [
    "### latex"
   ]
  },
  {
   "cell_type": "code",
   "execution_count": null,
   "metadata": {
    "ExecuteTime": {
     "end_time": "2023-04-05T13:22:17.140554Z",
     "start_time": "2023-04-05T13:22:17.113899Z"
    }
   },
   "outputs": [],
   "source": [
    "for index,name in enumerate(xillverCp_zgauss_result['name']):\n",
    "    #if xillverCp_zgauss_result['highEcut_err'][index]==-1:\n",
    "        #slab_highEcut_err_cmd='$^f$'\n",
    "    #else:\n",
    "        #slab_highEcut_err_cmd='$\\pm$'+'%.1f'%xillverCp_zgauss_result['highEcut_err'][index]\n",
    "          \n",
    "    print(name,'&',\n",
    "          '%s'%xillverCp_zgauss_result['obsid'][index],'&',\n",
    "          '%.2f'%xillverCp_zgauss_result['zphabs_nh(10^22)'][index],'$\\pm$', '%.2f'%xillverCp_zgauss_result['zphabs_nh_err'][index],'&',\n",
    "          '%.2f'%xillverCp_zgauss_result['phoindex'][index],'$\\pm$', '%.2f'%xillverCp_zgauss_result['phoindex_err'][index],'&',\n",
    "\n",
    "          #'%.1f'%xillverCp_zgauss_result['highEcut'][index]+slab_highEcut_err_cmd,'&',\n",
    "          #'%.2f'%xillverCp_zgauss_result['zgaussLineE'][index],'$\\pm$', '%.2f'%xillverCp_zgauss_result['zgaussLineE_err'][index],'&',\n",
    "          #'%.2f'%xillverCp_zgauss_result['zgaussSigma'][index],'$\\pm$', '%.2f'%xillverCp_zgauss_result['zgaussSigma_err'][index],'&',\n",
    "\n",
    "          #'%.2f(%d/%d)'%(xillverCp_zgauss_result['rechi_2'][index],\n",
    "          '%d/%d'%(xillverCp_zgauss_result['chi_2'][index],xillverCp_zgauss_result['dof'][index]),'&',\n",
    "          '%.3f'%float(xillverCp_zgauss_result['log_Lx_obs/Ledd'][index]),'$\\pm$','%.3f'%float(xillverCp_zgauss_result['log_f_obs_err'][index]),'&',\n",
    "          '%.3f'%float(xillverCp_zgauss_result['log_Lx_int/Ledd'][index]),'$\\pm$','%.3f'%float(xillverCp_zgauss_result['log_f_int_err'][index]),'&',\n",
    "          \n",
    "          '%.3f'%float(xillverCp_zgauss_result['log_Lx_obs_10to50keV/Ledd'][index]),'$\\pm$','%.3f'%float(xillverCp_zgauss_result['log_f_obs_10to50keV_err'][index]),'&',\n",
    "                      \n",
    "          '%.3f'%float(xillverCp_zgauss_result['log_Lx_int_10to50keV/Ledd'][index]),'$\\pm$','%.3f'%float(xillverCp_zgauss_result['log_f_int_10to50keV_err'][index]),  '\\\\\\\\',\n",
    "         )\n",
    "\n"
   ]
  },
  {
   "cell_type": "code",
   "execution_count": null,
   "metadata": {
    "ExecuteTime": {
     "end_time": "2023-04-05T13:22:10.371065Z",
     "start_time": "2023-04-05T13:22:10.357005Z"
    }
   },
   "outputs": [],
   "source": [
    "pearsonr(xillverCp_zgauss_result['log_Lx_int/Ledd'],xillverCp_zgauss_result['log_Lx_int_10to50keV/Ledd'])"
   ]
  },
  {
   "cell_type": "markdown",
   "metadata": {},
   "source": [
    "### plot_xillver_Ledd"
   ]
  },
  {
   "cell_type": "code",
   "execution_count": null,
   "metadata": {
    "ExecuteTime": {
     "end_time": "2023-04-03T14:15:55.128836Z",
     "start_time": "2023-04-03T14:15:55.098718Z"
    }
   },
   "outputs": [],
   "source": [
    "xillverCp_zgauss_result#.columns"
   ]
  },
  {
   "cell_type": "code",
   "execution_count": null,
   "metadata": {
    "ExecuteTime": {
     "end_time": "2023-04-05T13:23:16.994171Z",
     "start_time": "2023-04-05T13:23:16.025383Z"
    }
   },
   "outputs": [],
   "source": [
    "fig = plt.figure(figsize=(9*1.5,9*1.5))\n",
    "fig.subplots_adjust(hspace=0., wspace = 0.0)\n",
    "ax = fig.add_subplot(3,3,1)\n",
    "\n",
    "xlabel='log_Lx_int/Ledd'\n",
    "ylabel='phoindex'\n",
    "xerr_label='log_f_int_err'\n",
    "yerr_label='phoindex_err'\n",
    "color_label='black'\n",
    "#dataplot=slab_zgauss_result\n",
    "#ax=plot_errorbar_cmap(ax,dataplot,xlabel,ylabel,xerr=xerr_label,yerr=yerr_label,color_n=color_label,marker_n='name',size_n=None,logx=False,logy=False)\n",
    "dataplot=xillverCp_zgauss_result\n",
    "ax=plot_errorbar(ax,dataplot,xlabel,ylabel,xerr=xerr_label,yerr=yerr_label,color_n=color_label,marker_n='name',size_n=None,logx=False,logy=False)\n",
    "set_ax_tick(ax)\n",
    "set_ax_locator(ax,xma=1.0,xmi=0.2,yma=0.2,ymi=0.1)\n",
    "set_ax_legend(ax,bbox_to_anchor=(0.01, 0.99))\n",
    "#ax.set_ylim(-7,17)\n",
    "#ax.set_xlabel(r'log($L_{\\rm 2-10keV}/L_{\\rm Edd}$)')\n",
    "ax.set_ylabel(r'$\\Gamma$')\n",
    "model_name='xillverCp'\n",
    "ax.text(1.0, 1.05, '%s'%model_name, horizontalalignment = 'center', verticalalignment = 'center', transform = ax.transAxes, fontsize = 20)\n",
    "\n",
    "\n",
    "'''ax2 = fig.add_subplot(3,3,3,sharey=ax)\n",
    "xlabel='zphabs_nh(10^22)'\n",
    "ylabel='phoindex'\n",
    "xerr_label='zphabs_nh_err'\n",
    "yerr_label='phoindex_err'\n",
    "\n",
    "dataplot=slab_result\n",
    "ax2=plot_errorbar(ax2,dataplot,xlabel,ylabel,xerr=xerr_label,yerr=yerr_label,color_n=color_label,marker_n='name',size_n=None,logx=False,logy=False)\n",
    "set_ax_tick(ax2)\n",
    "#set_ax_locator(ax,xma=1000,xmi=500,yma=1,ymi=0.5)\n",
    "#set_ax_legend(ax2,bbox_to_anchor=(0.51, 0.99))\n",
    "#ax.set_ylim(-0.1,0.5)\n",
    "ax2.set_xlabel(r'$N_{\\rm H,los (10^{22} cm^{-2})}$')\n",
    "#ax2.set_ylabel(r'$\\Gamma$')\n",
    "#ax2.yaxis.set_major_formatter(ticker.NullFormatter())\n",
    "set_ax_locator(ax2,xma=25,xmi=5,yma=0.2,ymi=0.1)\n",
    "ax2.yaxis.set_tick_params(which='major', size=10, width=2, direction='in', top='on',labelsize=0)\n",
    "'''\n",
    "\n",
    "ax3 = fig.add_subplot(3,3,4,sharex=ax)\n",
    "\n",
    "xlabel='log_Lx_int/Ledd'\n",
    "ylabel='zphabs_nh(10^22)'\n",
    "xerr_label='log_f_int_err'\n",
    "yerr_label='zphabs_nh_err'\n",
    "\n",
    "\n",
    "dataplot=xillverCp_zgauss_result\n",
    "ax3=plot_errorbar(ax3,dataplot,xlabel,ylabel,xerr=xerr_label,yerr=yerr_label,color_n=color_label,marker_n='name',size_n=None,logx=False,logy=False)\n",
    "\n",
    "set_ax_tick(ax3)\n",
    "#set_ax_locator(ax,xma=1000,xmi=500,yma=1,ymi=0.5)\n",
    "#set_ax_legend(ax3,bbox_to_anchor=(0.51, 0.99))\n",
    "#ax.set_ylim(-7,17)\n",
    "#ax.semilogy()\n",
    "ax3.set_xlabel(r'log($L_{\\rm intr\\, 2-10keV}/L_{\\rm Edd}$)')\n",
    "ax3.set_ylabel(r'$N_{\\rm H,los (10^{22} cm^{-2})}$')\n",
    "\n",
    "###############\n",
    "ax4 = fig.add_subplot(3,3,2,sharey=ax)\n",
    "xlabel='log_Lx_int_10to50keV/Ledd' \n",
    "ylabel='phoindex'\n",
    "xerr_label='log_f_int_10to50keV_err'\n",
    "yerr_label='phoindex_err'\n",
    "dataplot=xillverCp_zgauss_result\n",
    "ax4=plot_errorbar(ax4,dataplot,xlabel,ylabel,xerr=xerr_label,yerr=yerr_label,color_n=color_label,marker_n='name',size_n=None,logx=False,logy=False)\n",
    "set_ax_tick(ax4)\n",
    "#ax4.set_title('%s model'%model_name,pad=10)\n",
    "\n",
    "\n",
    "ax4.yaxis.set_tick_params(which='major', size=10, width=2, direction='in', top='on',labelsize=0)\n",
    "\n",
    "#set_ax_locator(ax,xma=1000,xmi=500,yma=1,ymi=0.5)\n",
    "#set_ax_legend(ax3,bbox_to_anchor=(0.51, 0.99))\n",
    "#ax.set_ylim(-7,17)\n",
    "#ax.semilogy()\n",
    "#ax4.set_xlabel(r'log($L_{\\rm 10-50keV}/L_{\\rm Edd}$)')\n",
    "#ax4.set_ylabel(r'$N_{\\rm H,los (10^{22} cm^{-2})}$')\n",
    "\n",
    "\n",
    "\n",
    "ax5 = fig.add_subplot(3,3,5,sharex=ax4,sharey=ax3)\n",
    "xlabel='log_Lx_int_10to50keV/Ledd' \n",
    "ylabel='zphabs_nh(10^22)'\n",
    "xerr_label='log_f_int_10to50keV_err'\n",
    "yerr_label='zphabs_nh_err'\n",
    "\n",
    "dataplot=xillverCp_zgauss_result\n",
    "ax5=plot_errorbar(ax5,dataplot,xlabel,ylabel,xerr=xerr_label,yerr=yerr_label,color_n=color_label,marker_n='name',size_n=None,logx=False,logy=False)\n",
    "set_ax_tick(ax5)\n",
    "#set_ax_locator(ax,xma=1000,xmi=500,yma=1,ymi=0.5)\n",
    "#set_ax_legend(ax3,bbox_to_anchor=(0.51, 0.99))\n",
    "#ax.set_ylim(-7,17)\n",
    "#ax.semilogy()\n",
    "ax5.set_xlabel(r'log($L_{\\rm intr\\, 10-50keV}/L_{\\rm Edd}$)')\n",
    "#ax5.set_ylabel(r'$N_{\\rm H,los (10^{22} cm^{-2})}$')\n",
    "ax5.yaxis.set_tick_params(which='major', size=10, width=2, direction='in', top='on',labelsize=0)\n",
    "ax5.xaxis.set_major_locator(mpl.ticker.MultipleLocator(1.0))\n",
    "ax5.xaxis.set_minor_locator(mpl.ticker.MultipleLocator(0.2))\n",
    "ax5.set_xlim(-3.6,-1.9)\n",
    "\n",
    "'''ax6=fig.add_subplot(3,3,7,sharex=ax)\n",
    "xlabel='log_Lx_int/Ledd'\n",
    "ylabel='log_Lx_int_10to50keV/Ledd'\n",
    "xerr_label='log_f_int_err'\n",
    "yerr_label='log_f_int_10to50keV_err'\n",
    "#color_label='zphabs_nh(10^22)'\n",
    "color_label='black'\n",
    "#dataplot=slab_zgauss_result\n",
    "#ax=plot_errorbar_cmap(ax,dataplot,xlabel,ylabel,xerr=xerr_label,yerr=yerr_label,color_n=color_label,marker_n='name',size_n=None,logx=False,logy=False)\n",
    "\n",
    "x_ledd_lin= np.linspace(-4.5,-2.5,100)\n",
    "dataplot=xillverCp_zgauss_result\n",
    "ax6=plot_errorbar(ax6,dataplot,xlabel,ylabel,xerr=xerr_label,yerr=yerr_label,color_n=color_label,marker_n='name',size_n=None,logx=False,logy=False)\n",
    "set_ax_tick(ax6)\n",
    "#ax2.xaxis.set_tick_params(which='major', size=10, width=2, direction='in', top='on',)\n",
    "#ax2.xaxis.set_tick_params(which='minor', size=5, width=2, direction='in', top='on')\n",
    "#ax2.yaxis.set_tick_params(which='major', size=10, width=2, direction='in', right='on')\n",
    "#ax2.yaxis.set_tick_params(which='minor', size=5, width=2, direction='in', right='on')\n",
    "ax6.set_xlabel(r'log($L_{\\rm 2-10keV}/L_{\\rm Edd}$)') #, intrisic\n",
    "ax6.set_ylabel(r'log($L_{\\rm 10-50keV}/L_{\\rm Edd}$)')\n",
    "ax6.yaxis.set_major_locator(mpl.ticker.MultipleLocator(0.5))\n",
    "'''#ax6.yaxis.set_major_locator(mpl.ticker.MultipleLocator(0.25))\n",
    "#ax6.set_ylim(-0.1,85)\n",
    "\n",
    "#x_ledd_lin= np.linspace(-4.5,-2.1,100)\n",
    "#ax6.plot(x_ledd_lin, fitted_line(x_ledd_lin), color='black',ls='--', linewidth=2,label=r'y=0.62x-0.7')\n",
    "#ax6.text(0.3,0.8,r'$y$=0.62$x$-0.7',horizontalalignment = 'center', verticalalignment = 'center', transform = ax6.transAxes, fontsize = 16)\n",
    "#ax6.set_ylim(-3.8,-1.9)\n",
    "#ax.set_xlim(-4.3,-2.1)\n",
    "\n",
    "\n",
    "#ax.set_title('%s model'%model_name)\n",
    "#save_lc_img_path=os.path.join('/Users/lyubing/Downloads/OXCLAGN/OXCLAGN/pic/Gamma_L_nh_pic/','%s_p4.png'%model_name)\n",
    "#save_lc_img_path=os.path.join('/Users/lyubing/Downloads/OXCLAGN/OXCLAGN/pic/Gamma_L_nh_pic/','%s_p4.pdf'%model_name)\n",
    "\n",
    "save_lc_img_path=os.path.join('/Users/lyubing/Downloads/OXCLAGN/OXCLAGN/pic/Gamma_L_nh_pic/','%s_p4_int.pdf'%model_name)\n",
    "plt.savefig(save_lc_img_path,dpi=400, transparent=False, bbox_inches='tight')\n",
    "#plt.close()\n"
   ]
  },
  {
   "cell_type": "code",
   "execution_count": null,
   "metadata": {
    "ExecuteTime": {
     "end_time": "2023-04-05T14:03:55.165556Z",
     "start_time": "2023-04-05T14:03:55.157281Z"
    }
   },
   "outputs": [],
   "source": [
    "xillverCp_zgauss_result.columns"
   ]
  },
  {
   "cell_type": "markdown",
   "metadata": {},
   "source": [
    "### L"
   ]
  },
  {
   "cell_type": "code",
   "execution_count": null,
   "metadata": {
    "ExecuteTime": {
     "end_time": "2023-04-05T14:07:20.314374Z",
     "start_time": "2023-04-05T14:07:19.473194Z"
    }
   },
   "outputs": [],
   "source": [
    "fig = plt.figure(figsize=(9*1.5,9*1.5))\n",
    "fig.subplots_adjust(hspace=0., wspace = 0.0)\n",
    "ax = fig.add_subplot(3,3,1)\n",
    "\n",
    "xlabel='logLx_int'\n",
    "ylabel='phoindex'\n",
    "xerr_label='log_f_int_err'\n",
    "yerr_label='phoindex_err'\n",
    "color_label='black'\n",
    "#dataplot=slab_zgauss_result\n",
    "#ax=plot_errorbar_cmap(ax,dataplot,xlabel,ylabel,xerr=xerr_label,yerr=yerr_label,color_n=color_label,marker_n='name',size_n=None,logx=False,logy=False)\n",
    "dataplot=xillverCp_zgauss_result\n",
    "ax=plot_errorbar(ax,dataplot,xlabel,ylabel,xerr=xerr_label,yerr=yerr_label,color_n=color_label,marker_n='name',size_n=None,logx=False,logy=False)\n",
    "set_ax_tick(ax)\n",
    "set_ax_locator(ax,xma=1.0,xmi=0.2,yma=0.2,ymi=0.1)\n",
    "set_ax_legend(ax,bbox_to_anchor=(0.01, 0.99))\n",
    "#ax.set_ylim(-7,17)\n",
    "#ax.set_xlabel(r'log($L_{\\rm 2-10keV}/L_{\\rm Edd}$)')\n",
    "ax.set_ylabel(r'$\\Gamma$')\n",
    "model_name='xillverCp'\n",
    "ax.text(1.0, 1.05, '%s'%model_name, horizontalalignment = 'center', verticalalignment = 'center', transform = ax.transAxes, fontsize = 20)\n",
    "\n",
    "\n",
    "'''ax2 = fig.add_subplot(3,3,3,sharey=ax)\n",
    "xlabel='zphabs_nh(10^22)'\n",
    "ylabel='phoindex'\n",
    "xerr_label='zphabs_nh_err'\n",
    "yerr_label='phoindex_err'\n",
    "\n",
    "dataplot=slab_result\n",
    "ax2=plot_errorbar(ax2,dataplot,xlabel,ylabel,xerr=xerr_label,yerr=yerr_label,color_n=color_label,marker_n='name',size_n=None,logx=False,logy=False)\n",
    "set_ax_tick(ax2)\n",
    "#set_ax_locator(ax,xma=1000,xmi=500,yma=1,ymi=0.5)\n",
    "#set_ax_legend(ax2,bbox_to_anchor=(0.51, 0.99))\n",
    "#ax.set_ylim(-0.1,0.5)\n",
    "ax2.set_xlabel(r'$N_{\\rm H,los (10^{22} cm^{-2})}$')\n",
    "#ax2.set_ylabel(r'$\\Gamma$')\n",
    "#ax2.yaxis.set_major_formatter(ticker.NullFormatter())\n",
    "set_ax_locator(ax2,xma=25,xmi=5,yma=0.2,ymi=0.1)\n",
    "ax2.yaxis.set_tick_params(which='major', size=10, width=2, direction='in', top='on',labelsize=0)\n",
    "'''\n",
    "\n",
    "ax3 = fig.add_subplot(3,3,4,sharex=ax)\n",
    "\n",
    "xlabel='logLx_int'\n",
    "ylabel='zphabs_nh(10^22)'\n",
    "xerr_label='log_f_int_err'\n",
    "yerr_label='zphabs_nh_err'\n",
    "\n",
    "\n",
    "dataplot=xillverCp_zgauss_result\n",
    "ax3=plot_errorbar(ax3,dataplot,xlabel,ylabel,xerr=xerr_label,yerr=yerr_label,color_n=color_label,marker_n='name',size_n=None,logx=False,logy=False)\n",
    "\n",
    "set_ax_tick(ax3)\n",
    "#set_ax_locator(ax,xma=1000,xmi=500,yma=1,ymi=0.5)\n",
    "#set_ax_legend(ax3,bbox_to_anchor=(0.51, 0.99))\n",
    "#ax.set_ylim(-7,17)\n",
    "#ax.semilogy()\n",
    "ax3.set_xlabel(r'log($L_{\\rm intr\\, 2-10keV}$)')\n",
    "ax3.set_ylabel(r'$N_{\\rm H,los (10^{22} cm^{-2})}$')\n",
    "\n",
    "###############\n",
    "ax4 = fig.add_subplot(3,3,2,sharey=ax)\n",
    "xlabel='logLx_int_10to50keV' \n",
    "ylabel='phoindex'\n",
    "xerr_label='log_f_int_10to50keV_err'\n",
    "yerr_label='phoindex_err'\n",
    "dataplot=xillverCp_zgauss_result\n",
    "ax4=plot_errorbar(ax4,dataplot,xlabel,ylabel,xerr=xerr_label,yerr=yerr_label,color_n=color_label,marker_n='name',size_n=None,logx=False,logy=False)\n",
    "set_ax_tick(ax4)\n",
    "#ax4.set_title('%s model'%model_name,pad=10)\n",
    "\n",
    "\n",
    "ax4.yaxis.set_tick_params(which='major', size=10, width=2, direction='in', top='on',labelsize=0)\n",
    "\n",
    "#set_ax_locator(ax,xma=1000,xmi=500,yma=1,ymi=0.5)\n",
    "#set_ax_legend(ax3,bbox_to_anchor=(0.51, 0.99))\n",
    "#ax.set_ylim(-7,17)\n",
    "#ax.semilogy()\n",
    "#ax4.set_xlabel(r'log($L_{\\rm 10-50keV}/L_{\\rm Edd}$)')\n",
    "#ax4.set_ylabel(r'$N_{\\rm H,los (10^{22} cm^{-2})}$')\n",
    "\n",
    "\n",
    "\n",
    "ax5 = fig.add_subplot(3,3,5,sharex=ax4,sharey=ax3)\n",
    "xlabel='logLx_int_10to50keV' \n",
    "ylabel='zphabs_nh(10^22)'\n",
    "xerr_label='log_f_int_10to50keV_err'\n",
    "yerr_label='zphabs_nh_err'\n",
    "\n",
    "dataplot=xillverCp_zgauss_result\n",
    "ax5=plot_errorbar(ax5,dataplot,xlabel,ylabel,xerr=xerr_label,yerr=yerr_label,color_n=color_label,marker_n='name',size_n=None,logx=False,logy=False)\n",
    "set_ax_tick(ax5)\n",
    "#set_ax_locator(ax,xma=1000,xmi=500,yma=1,ymi=0.5)\n",
    "#set_ax_legend(ax3,bbox_to_anchor=(0.51, 0.99))\n",
    "#ax.set_ylim(-7,17)\n",
    "#ax.semilogy()\n",
    "ax5.set_xlabel(r'log($L_{\\rm intr\\, 10-50keV}$)')\n",
    "#ax5.set_ylabel(r'$N_{\\rm H,los (10^{22} cm^{-2})}$')\n",
    "ax5.yaxis.set_tick_params(which='major', size=10, width=2, direction='in', top='on',labelsize=0)\n",
    "ax5.xaxis.set_major_locator(mpl.ticker.MultipleLocator(0.2))\n",
    "ax5.xaxis.set_minor_locator(mpl.ticker.MultipleLocator(0.1))\n",
    "#ax5.set_xlim(-3.6,-1.9)\n",
    "\n",
    "'''ax6=fig.add_subplot(3,3,7,sharex=ax)\n",
    "xlabel='log_Lx_int/Ledd'\n",
    "ylabel='log_Lx_int_10to50keV/Ledd'\n",
    "xerr_label='log_f_int_err'\n",
    "yerr_label='log_f_int_10to50keV_err'\n",
    "#color_label='zphabs_nh(10^22)'\n",
    "color_label='black'\n",
    "#dataplot=slab_zgauss_result\n",
    "#ax=plot_errorbar_cmap(ax,dataplot,xlabel,ylabel,xerr=xerr_label,yerr=yerr_label,color_n=color_label,marker_n='name',size_n=None,logx=False,logy=False)\n",
    "\n",
    "x_ledd_lin= np.linspace(-4.5,-2.5,100)\n",
    "dataplot=xillverCp_zgauss_result\n",
    "ax6=plot_errorbar(ax6,dataplot,xlabel,ylabel,xerr=xerr_label,yerr=yerr_label,color_n=color_label,marker_n='name',size_n=None,logx=False,logy=False)\n",
    "set_ax_tick(ax6)\n",
    "#ax2.xaxis.set_tick_params(which='major', size=10, width=2, direction='in', top='on',)\n",
    "#ax2.xaxis.set_tick_params(which='minor', size=5, width=2, direction='in', top='on')\n",
    "#ax2.yaxis.set_tick_params(which='major', size=10, width=2, direction='in', right='on')\n",
    "#ax2.yaxis.set_tick_params(which='minor', size=5, width=2, direction='in', right='on')\n",
    "ax6.set_xlabel(r'log($L_{\\rm 2-10keV}/L_{\\rm Edd}$)') #, intrisic\n",
    "ax6.set_ylabel(r'log($L_{\\rm 10-50keV}/L_{\\rm Edd}$)')\n",
    "ax6.yaxis.set_major_locator(mpl.ticker.MultipleLocator(0.5))\n",
    "'''#ax6.yaxis.set_major_locator(mpl.ticker.MultipleLocator(0.25))\n",
    "#ax6.set_ylim(-0.1,85)\n",
    "\n",
    "#x_ledd_lin= np.linspace(-4.5,-2.1,100)\n",
    "#ax6.plot(x_ledd_lin, fitted_line(x_ledd_lin), color='black',ls='--', linewidth=2,label=r'y=0.62x-0.7')\n",
    "#ax6.text(0.3,0.8,r'$y$=0.62$x$-0.7',horizontalalignment = 'center', verticalalignment = 'center', transform = ax6.transAxes, fontsize = 16)\n",
    "#ax6.set_ylim(-3.8,-1.9)\n",
    "#ax.set_xlim(-4.3,-2.1)\n",
    "\n",
    "\n",
    "#ax.set_title('%s model'%model_name)\n",
    "#save_lc_img_path=os.path.join('/Users/lyubing/Downloads/OXCLAGN/OXCLAGN/pic/Gamma_L_nh_pic/','%s_p4.png'%model_name)\n",
    "#save_lc_img_path=os.path.join('/Users/lyubing/Downloads/OXCLAGN/OXCLAGN/pic/Gamma_L_nh_pic/','%s_p4.pdf'%model_name)\n",
    "\n",
    "save_lc_img_path=os.path.join('/Users/lyubing/Downloads/OXCLAGN/OXCLAGN/pic/Gamma_L_nh_pic/','%s_p4_L_int.pdf'%model_name)\n",
    "plt.savefig(save_lc_img_path,dpi=400, transparent=False, bbox_inches='tight')\n",
    "#plt.close()\n"
   ]
  },
  {
   "cell_type": "code",
   "execution_count": null,
   "metadata": {},
   "outputs": [],
   "source": []
  },
  {
   "cell_type": "code",
   "execution_count": null,
   "metadata": {},
   "outputs": [],
   "source": []
  },
  {
   "cell_type": "code",
   "execution_count": null,
   "metadata": {},
   "outputs": [],
   "source": []
  },
  {
   "cell_type": "code",
   "execution_count": null,
   "metadata": {
    "ExecuteTime": {
     "end_time": "2023-04-03T14:21:43.031597Z",
     "start_time": "2023-04-03T14:21:42.015712Z"
    }
   },
   "outputs": [],
   "source": [
    "fig = plt.figure(figsize=(9*1.5,9*1.5))\n",
    "fig.subplots_adjust(hspace=0., wspace = 0.0)\n",
    "ax = fig.add_subplot(3,3,1)\n",
    "\n",
    "xlabel='log_Lx_obs/Ledd'\n",
    "ylabel='phoindex'\n",
    "xerr_label='log_f_obs_err'\n",
    "yerr_label='phoindex_err'\n",
    "color_label='black'\n",
    "#dataplot=slab_zgauss_result\n",
    "#ax=plot_errorbar_cmap(ax,dataplot,xlabel,ylabel,xerr=xerr_label,yerr=yerr_label,color_n=color_label,marker_n='name',size_n=None,logx=False,logy=False)\n",
    "dataplot=xillverCp_zgauss_result\n",
    "ax=plot_errorbar(ax,dataplot,xlabel,ylabel,xerr=xerr_label,yerr=yerr_label,color_n=color_label,marker_n='name',size_n=None,logx=False,logy=False)\n",
    "set_ax_tick(ax)\n",
    "set_ax_locator(ax,xma=1.0,xmi=0.2,yma=0.2,ymi=0.1)\n",
    "set_ax_legend(ax,bbox_to_anchor=(0.01, 0.99))\n",
    "#ax.set_ylim(-7,17)\n",
    "#ax.set_xlabel(r'log($L_{\\rm 2-10keV}/L_{\\rm Edd}$)')\n",
    "ax.set_ylabel(r'$\\Gamma$')\n",
    "model_name='xillverCp'\n",
    "\n",
    "\n",
    "'''ax2 = fig.add_subplot(3,3,3,sharey=ax)\n",
    "xlabel='zphabs_nh(10^22)'\n",
    "ylabel='phoindex'\n",
    "xerr_label='zphabs_nh_err'\n",
    "yerr_label='phoindex_err'\n",
    "\n",
    "dataplot=slab_result\n",
    "ax2=plot_errorbar(ax2,dataplot,xlabel,ylabel,xerr=xerr_label,yerr=yerr_label,color_n=color_label,marker_n='name',size_n=None,logx=False,logy=False)\n",
    "set_ax_tick(ax2)\n",
    "#set_ax_locator(ax,xma=1000,xmi=500,yma=1,ymi=0.5)\n",
    "#set_ax_legend(ax2,bbox_to_anchor=(0.51, 0.99))\n",
    "#ax.set_ylim(-0.1,0.5)\n",
    "ax2.set_xlabel(r'$N_{\\rm H,los (10^{22} cm^{-2})}$')\n",
    "#ax2.set_ylabel(r'$\\Gamma$')\n",
    "#ax2.yaxis.set_major_formatter(ticker.NullFormatter())\n",
    "set_ax_locator(ax2,xma=25,xmi=5,yma=0.2,ymi=0.1)\n",
    "ax2.yaxis.set_tick_params(which='major', size=10, width=2, direction='in', top='on',labelsize=0)\n",
    "'''\n",
    "\n",
    "ax3 = fig.add_subplot(3,3,4,sharex=ax)\n",
    "\n",
    "xlabel='log_Lx_obs/Ledd'\n",
    "ylabel='zphabs_nh(10^22)'\n",
    "xerr_label='log_f_obs_err'\n",
    "yerr_label='zphabs_nh_err'\n",
    "\n",
    "\n",
    "dataplot=xillverCp_zgauss_result\n",
    "ax3=plot_errorbar(ax3,dataplot,xlabel,ylabel,xerr=xerr_label,yerr=yerr_label,color_n=color_label,marker_n='name',size_n=None,logx=False,logy=False)\n",
    "\n",
    "set_ax_tick(ax3)\n",
    "#set_ax_locator(ax,xma=1000,xmi=500,yma=1,ymi=0.5)\n",
    "#set_ax_legend(ax3,bbox_to_anchor=(0.51, 0.99))\n",
    "#ax.set_ylim(-7,17)\n",
    "#ax.semilogy()\n",
    "ax3.set_xlabel(r'log($L_{\\rm 2-10keV}/L_{\\rm Edd}$)')\n",
    "ax3.set_ylabel(r'$N_{\\rm H,los (10^{22} cm^{-2})}$')\n",
    "\n",
    "###############\n",
    "ax4 = fig.add_subplot(3,3,2,sharey=ax)\n",
    "xlabel='log_Lx_obs_10to50keV/Ledd'\n",
    "ylabel='phoindex'\n",
    "xerr_label='log_f_obs_10to50keV_err'\n",
    "yerr_label='phoindex_err'\n",
    "dataplot=xillverCp_zgauss_result\n",
    "ax4=plot_errorbar(ax4,dataplot,xlabel,ylabel,xerr=xerr_label,yerr=yerr_label,color_n=color_label,marker_n='name',size_n=None,logx=False,logy=False)\n",
    "set_ax_tick(ax4)\n",
    "#ax4.set_title('%s model'%model_name,pad=10)\n",
    "ax4.yaxis.set_tick_params(which='major', size=10, width=2, direction='in', top='on',labelsize=0)\n",
    "\n",
    "#set_ax_locator(ax,xma=1000,xmi=500,yma=1,ymi=0.5)\n",
    "#set_ax_legend(ax3,bbox_to_anchor=(0.51, 0.99))\n",
    "#ax.set_ylim(-7,17)\n",
    "#ax.semilogy()\n",
    "#ax4.set_xlabel(r'log($L_{\\rm 10-50keV}/L_{\\rm Edd}$)')\n",
    "#ax4.set_ylabel(r'$N_{\\rm H,los (10^{22} cm^{-2})}$')\n",
    "\n",
    "\n",
    "\n",
    "ax5 = fig.add_subplot(3,3,5,sharex=ax4,sharey=ax3)\n",
    "xlabel='log_Lx_obs_10to50keV/Ledd'\n",
    "ylabel='zphabs_nh(10^22)'\n",
    "xerr_label='log_f_obs_10to50keV_err'\n",
    "yerr_label='zphabs_nh_err'\n",
    "\n",
    "dataplot=xillverCp_zgauss_result\n",
    "ax5=plot_errorbar(ax5,dataplot,xlabel,ylabel,xerr=xerr_label,yerr=yerr_label,color_n=color_label,marker_n='name',size_n=None,logx=False,logy=False)\n",
    "set_ax_tick(ax5)\n",
    "#set_ax_locator(ax,xma=1000,xmi=500,yma=1,ymi=0.5)\n",
    "#set_ax_legend(ax3,bbox_to_anchor=(0.51, 0.99))\n",
    "#ax.set_ylim(-7,17)\n",
    "#ax.semilogy()\n",
    "ax5.set_xlabel(r'log($L_{\\rm 10-50keV}/L_{\\rm Edd}$)')\n",
    "#ax5.set_ylabel(r'$N_{\\rm H,los (10^{22} cm^{-2})}$')\n",
    "ax5.yaxis.set_tick_params(which='major', size=10, width=2, direction='in', top='on',labelsize=0)\n",
    "ax5.xaxis.set_major_locator(mpl.ticker.MultipleLocator(1.0))\n",
    "ax5.xaxis.set_minor_locator(mpl.ticker.MultipleLocator(0.2))\n",
    "ax5.set_xlim(-3.6,-1.9)\n",
    "\n",
    "ax6=fig.add_subplot(3,3,7,sharex=ax)\n",
    "xlabel='log_Lx_obs/Ledd'\n",
    "ylabel='log_Lx_obs_10to50keV/Ledd'\n",
    "xerr_label='log_f_obs_err'\n",
    "yerr_label='log_f_obs_10to50keV_err'\n",
    "#color_label='zphabs_nh(10^22)'\n",
    "color_label='black'\n",
    "#dataplot=slab_zgauss_result\n",
    "#ax=plot_errorbar_cmap(ax,dataplot,xlabel,ylabel,xerr=xerr_label,yerr=yerr_label,color_n=color_label,marker_n='name',size_n=None,logx=False,logy=False)\n",
    "\n",
    "x_ledd_lin= np.linspace(-4.5,-2.5,100)\n",
    "dataplot=xillverCp_zgauss_result\n",
    "ax6=plot_errorbar(ax6,dataplot,xlabel,ylabel,xerr=xerr_label,yerr=yerr_label,color_n=color_label,marker_n='name',size_n=None,logx=False,logy=False)\n",
    "set_ax_tick(ax6)\n",
    "#ax2.xaxis.set_tick_params(which='major', size=10, width=2, direction='in', top='on',)\n",
    "#ax2.xaxis.set_tick_params(which='minor', size=5, width=2, direction='in', top='on')\n",
    "#ax2.yaxis.set_tick_params(which='major', size=10, width=2, direction='in', right='on')\n",
    "#ax2.yaxis.set_tick_params(which='minor', size=5, width=2, direction='in', right='on')\n",
    "ax6.set_xlabel(r'log($L_{\\rm 2-10keV}/L_{\\rm Edd}$)') #, intrisic\n",
    "ax6.set_ylabel(r'log($L_{\\rm 10-50keV}/L_{\\rm Edd}$)')\n",
    "ax6.yaxis.set_major_locator(mpl.ticker.MultipleLocator(0.5))\n",
    "#ax6.yaxis.set_major_locator(mpl.ticker.MultipleLocator(0.25))\n",
    "#ax6.set_ylim(-0.1,85)\n",
    "\n",
    "#x_ledd_lin= np.linspace(-4.5,-2.1,100)\n",
    "#ax6.plot(x_ledd_lin, fitted_line(x_ledd_lin), color='black',ls='--', linewidth=2,label=r'y=0.62x-0.7')\n",
    "#ax6.text(0.3,0.8,r'$y$=0.62$x$-0.7',horizontalalignment = 'center', verticalalignment = 'center', transform = ax6.transAxes, fontsize = 16)\n",
    "#ax6.set_ylim(-3.8,-1.9)\n",
    "#ax.set_xlim(-4.3,-2.1)\n",
    "\n",
    "\n",
    "#ax.set_title('%s model'%model_name)\n",
    "#save_lc_img_path=os.path.join('/Users/lyubing/Downloads/OXCLAGN/OXCLAGN/pic/Gamma_L_nh_pic/','%s_p4.png'%model_name)\n",
    "#save_lc_img_path=os.path.join('/Users/lyubing/Downloads/OXCLAGN/OXCLAGN/pic/Gamma_L_nh_pic/','%s_p4.pdf'%model_name)\n",
    "\n",
    "save_lc_img_path=os.path.join('/Users/lyubing/Downloads/OXCLAGN/OXCLAGN/pic/Gamma_L_nh_pic/','%s_p4_obs.pdf'%model_name)\n",
    "plt.savefig(save_lc_img_path,dpi=400, transparent=False, bbox_inches='tight')\n",
    "#plt.close()\n"
   ]
  },
  {
   "cell_type": "markdown",
   "metadata": {},
   "source": [
    "### fit_L2-10 10-50"
   ]
  },
  {
   "cell_type": "code",
   "execution_count": null,
   "metadata": {
    "ExecuteTime": {
     "end_time": "2023-04-03T14:55:12.833681Z",
     "start_time": "2023-04-03T14:55:12.708336Z"
    }
   },
   "outputs": [],
   "source": [
    "import numpy as np\n",
    "import matplotlib.pyplot as plt\n",
    "from astropy.stats import sigma_clip\n",
    "from astropy.modeling import models, fitting\n",
    "\n",
    "# define a model for a line\n",
    "# line_orig = models.Linear1D(slope=1.0, intercept=0.5)\n",
    "\n",
    "# generate x, y data non-uniformly spaced in x\n",
    "# add noise to y measurements\n",
    "\n",
    "xlabel='log_Lx_obs/Ledd'\n",
    "ylabel='log_Lx_obs_10to50keV/Ledd'\n",
    "xerr_label='log_f_obs_err'\n",
    "yerr_label='log_f_obs_10to50keV_err'\n",
    "\n",
    "dataplot=xillverCp_zgauss_result\n",
    "x= xillverCp_zgauss_result[xlabel]\n",
    "y=xillverCp_zgauss_result[ylabel]\n",
    "xerr=xillverCp_zgauss_result[xerr_label]\n",
    "yerr=xillverCp_zgauss_result[yerr_label]\n",
    "\n",
    "\n",
    "weights=np.zeros(len(x))+1\n",
    "\n",
    "#xerr\n",
    "\n",
    "# initialize a linear fitter\n",
    "fit = fitting.LinearLSQFitter()\n",
    "\n",
    "# initialize the outlier removal fitter\n",
    "or_fit = fitting.FittingWithOutlierRemoval(fit, sigma_clip, niter=3, sigma=3.0)\n",
    "\n",
    "# initialize a linear model\n",
    "line_init = models.Linear1D()\n",
    "\n",
    "# fit the data with the fitter\n",
    "fitted_line_obs, mask = or_fit(line_init, x, y, weights=1.0/weights)\n",
    "filtered_data = np.ma.masked_array(y, mask=mask)\n",
    "\n",
    "print(fitted_line_obs)\n",
    "\n",
    "fig = plt.figure(figsize=(5,5))\n",
    "fig.subplots_adjust(hspace=0., wspace = 0.0)\n",
    "\n",
    "ax=fig.add_subplot(1,1,1)\n",
    "\n",
    "x_ledd_lin= np.linspace(-4.5,-2.5,100)\n",
    "ax.plot(x_ledd_lin, fitted_line_obs(x_ledd_lin), color='grey',ls='--', linewidth=2,label='')\n",
    "\n",
    "sigma=3\n",
    "ax.errorbar(dataplot[xlabel], dataplot[ylabel], \n",
    "            #xerr=xerr, yerr=yerr, \n",
    "            markersize=15,\n",
    "            fmt=\"k.\", fillstyle=\"none\", label=r\"Clipped Data %.1f $\\sigma$\"%sigma)\n",
    "\n",
    "ax.errorbar(dataplot[xlabel], filtered_data, markersize=7,\n",
    "            fmt=\"ko\", label=\"Fitted Data\")\n",
    "\n",
    "ax.set_xlabel(r'log($L_{\\rm 2-10keV}/L_{\\rm Edd}$)')\n",
    "ax.set_ylabel(r'log($L_{\\rm 10-50keV}/L_{\\rm Edd}$)')\n",
    "set_ax_legend(ax)"
   ]
  },
  {
   "cell_type": "code",
   "execution_count": null,
   "metadata": {},
   "outputs": [],
   "source": []
  },
  {
   "cell_type": "code",
   "execution_count": null,
   "metadata": {
    "ExecuteTime": {
     "end_time": "2023-04-03T14:55:25.967930Z",
     "start_time": "2023-04-03T14:55:25.859280Z"
    }
   },
   "outputs": [],
   "source": [
    "import numpy as np\n",
    "import matplotlib.pyplot as plt\n",
    "from astropy.stats import sigma_clip\n",
    "from astropy.modeling import models, fitting\n",
    "\n",
    "# define a model for a line\n",
    "# line_orig = models.Linear1D(slope=1.0, intercept=0.5)\n",
    "\n",
    "# generate x, y data non-uniformly spaced in x\n",
    "# add noise to y measurements\n",
    "\n",
    "xlabel='log_Lx_int/Ledd'\n",
    "ylabel='log_Lx_int_10to50keV/Ledd'\n",
    "xerr_label='log_f_int_err'\n",
    "yerr_label='log_f_int_10to50keV_err'\n",
    "\n",
    "dataplot=xillverCp_zgauss_result\n",
    "x= xillverCp_zgauss_result[xlabel]\n",
    "y=xillverCp_zgauss_result[ylabel]\n",
    "xerr=xillverCp_zgauss_result[xerr_label]\n",
    "yerr=xillverCp_zgauss_result[yerr_label]\n",
    "\n",
    "\n",
    "weights=np.zeros(len(x))+1\n",
    "\n",
    "#xerr\n",
    "\n",
    "# initialize a linear fitter\n",
    "fit = fitting.LinearLSQFitter()\n",
    "\n",
    "# initialize the outlier removal fitter\n",
    "or_fit = fitting.FittingWithOutlierRemoval(fit, sigma_clip, niter=3, sigma=3.0)\n",
    "\n",
    "# initialize a linear model\n",
    "line_init = models.Linear1D()\n",
    "\n",
    "# fit the data with the fitter\n",
    "fitted_line_int, mask = or_fit(line_init, x, y, weights=1.0/weights)\n",
    "filtered_data = np.ma.masked_array(y, mask=mask)\n",
    "\n",
    "print(fitted_line_int)\n",
    "\n",
    "fig = plt.figure(figsize=(5,5))\n",
    "fig.subplots_adjust(hspace=0., wspace = 0.0)\n",
    "\n",
    "ax=fig.add_subplot(1,1,1)\n",
    "\n",
    "x_ledd_lin= np.linspace(-4.5,-2.5,100)\n",
    "ax.plot(x_ledd_lin, fitted_line_int(x_ledd_lin), color='grey',ls='--', linewidth=2,label='')\n",
    "\n",
    "sigma=3\n",
    "ax.errorbar(dataplot[xlabel], dataplot[ylabel], \n",
    "            #xerr=xerr, yerr=yerr, \n",
    "            markersize=15,\n",
    "            fmt=\"k.\", fillstyle=\"none\", label=r\"Clipped Data %.1f $\\sigma$\"%sigma)\n",
    "\n",
    "ax.errorbar(dataplot[xlabel], filtered_data, markersize=7,\n",
    "            fmt=\"ko\", label=\"Fitted Data\")\n",
    "\n",
    "ax.set_xlabel(r'log($L_{\\rm 2-10keV}/L_{\\rm Edd}$)')\n",
    "ax.set_ylabel(r'log($L_{\\rm 10-50keV}/L_{\\rm Edd}$)')"
   ]
  },
  {
   "cell_type": "code",
   "execution_count": null,
   "metadata": {
    "ExecuteTime": {
     "end_time": "2023-04-03T14:49:56.253726Z",
     "start_time": "2023-04-03T14:49:56.140826Z"
    }
   },
   "outputs": [],
   "source": []
  },
  {
   "cell_type": "code",
   "execution_count": null,
   "metadata": {
    "ExecuteTime": {
     "end_time": "2023-04-04T05:17:14.065582Z",
     "start_time": "2023-04-04T05:17:14.055156Z"
    }
   },
   "outputs": [],
   "source": [
    "xillverCp_zgauss_result.columns"
   ]
  },
  {
   "cell_type": "code",
   "execution_count": null,
   "metadata": {
    "ExecuteTime": {
     "end_time": "2023-04-04T05:17:44.812357Z",
     "start_time": "2023-04-04T05:17:44.794104Z"
    }
   },
   "outputs": [],
   "source": [
    "x=xillverCp_zgauss_result['log_Lx_obs/Ledd']\n",
    "y=xillverCp_zgauss_result['phoindex']\n",
    "\n",
    "weights=np.zeros(len(x))+1\n",
    "\n",
    "#xerr\n",
    "\n",
    "# initialize a linear fitter\n",
    "fit = fitting.LinearLSQFitter()\n",
    "\n",
    "# initialize the outlier removal fitter\n",
    "or_fit = fitting.FittingWithOutlierRemoval(fit, sigma_clip, niter=3, sigma=3.0)\n",
    "\n",
    "# initialize a linear model\n",
    "line_init = models.Linear1D()\n",
    "\n",
    "# fit the data with the fitter\n",
    "fitted_line, mask = or_fit(line_init, x, y, weights=1.0/weights)\n",
    "filtered_data = np.ma.masked_array(y, mask=mask)\n",
    "print(fitted_line.slope.value)"
   ]
  },
  {
   "cell_type": "code",
   "execution_count": null,
   "metadata": {
    "ExecuteTime": {
     "end_time": "2023-04-04T05:17:54.305291Z",
     "start_time": "2023-04-04T05:17:54.288465Z"
    }
   },
   "outputs": [],
   "source": [
    "x=xillverCp_zgauss_result['log_Lx_int/Ledd']\n",
    "y=xillverCp_zgauss_result['phoindex']\n",
    "\n",
    "weights=np.zeros(len(x))+1\n",
    "\n",
    "#xerr\n",
    "\n",
    "# initialize a linear fitter\n",
    "fit = fitting.LinearLSQFitter()\n",
    "\n",
    "# initialize the outlier removal fitter\n",
    "or_fit = fitting.FittingWithOutlierRemoval(fit, sigma_clip, niter=3, sigma=3.0)\n",
    "\n",
    "# initialize a linear model\n",
    "line_init = models.Linear1D()\n",
    "\n",
    "# fit the data with the fitter\n",
    "fitted_line, mask = or_fit(line_init, x, y, weights=1.0/weights)\n",
    "filtered_data = np.ma.masked_array(y, mask=mask)\n",
    "print(fitted_line.slope.value)"
   ]
  },
  {
   "cell_type": "code",
   "execution_count": null,
   "metadata": {
    "ExecuteTime": {
     "end_time": "2023-04-04T05:22:52.787272Z",
     "start_time": "2023-04-04T05:22:52.774165Z"
    }
   },
   "outputs": [],
   "source": [
    "pearsonr(x,y)"
   ]
  },
  {
   "cell_type": "code",
   "execution_count": null,
   "metadata": {},
   "outputs": [],
   "source": []
  },
  {
   "cell_type": "markdown",
   "metadata": {},
   "source": [
    "### plot_L2-10 vs L10-50"
   ]
  },
  {
   "cell_type": "code",
   "execution_count": null,
   "metadata": {},
   "outputs": [],
   "source": []
  },
  {
   "cell_type": "code",
   "execution_count": null,
   "metadata": {
    "ExecuteTime": {
     "end_time": "2023-04-03T15:09:47.312324Z",
     "start_time": "2023-04-03T15:09:46.735652Z"
    }
   },
   "outputs": [],
   "source": [
    "fig = plt.figure(figsize=(8,4))\n",
    "fig.subplots_adjust(hspace=0., wspace = 0.0)\n",
    "model_name='xillverCp'\n",
    "\n",
    "ax0=fig.add_subplot(1,2,2)\n",
    "ax = ax0.twinx()\n",
    "xlabel='log_Lx_int/Ledd'\n",
    "ylabel='log_Lx_int_10to50keV/Ledd'\n",
    "xerr_label='log_f_int_err'\n",
    "yerr_label='log_f_int_10to50keV_err'\n",
    "#color_label='zphabs_nh(10^22)'\n",
    "color_label='black'\n",
    "#dataplot=slab_zgauss_result\n",
    "#ax=plot_errorbar_cmap(ax,dataplot,xlabel,ylabel,xerr=xerr_label,yerr=yerr_label,color_n=color_label,marker_n='name',size_n=None,logx=False,logy=False)\n",
    "\n",
    "\n",
    "x_ledd_lin= np.linspace(-4.5,-2.5,100)\n",
    "dataplot=xillverCp_zgauss_result\n",
    "ax=plot_errorbar(ax,dataplot,xlabel,ylabel,xerr=xerr_label,yerr=yerr_label,color_n=color_label,marker_n='name',size_n=None,logx=False,logy=False,blank_plot=False)\n",
    "#set_ax_tick(ax)\n",
    "ax.plot(x_ledd_lin, fitted_line_int(x_ledd_lin), color='grey',ls='--', linewidth=2,label='')\n",
    "\n",
    "\n",
    "\n",
    "ax0.xaxis.set_tick_params(which='major', size=10, width=2, direction='in', top='on',)\n",
    "ax0.xaxis.set_tick_params(which='minor', size=5, width=2, direction='in', top='on')\n",
    "ax.yaxis.set_tick_params(which='major', size=10, width=2, direction='in')#, right='on')\n",
    "ax.yaxis.set_tick_params(which='minor', size=5, width=2, direction='in')#, right='on')\n",
    "ax0.set_xlabel(r'log($L_{\\rm int\\, 2-10keV}/L_{\\rm Edd}$)') #, intrisic\n",
    "ax.set_ylabel(r'log($L_{\\rm  int\\, 10-50keV}/L_{\\rm Edd}$)')\n",
    "ax.yaxis.set_major_locator(mpl.ticker.MultipleLocator(0.5))\n",
    "ax0.xaxis.set_major_locator(mpl.ticker.MultipleLocator(0.5))\n",
    "\n",
    "\n",
    "\n",
    "\n",
    "\n",
    "ax6=fig.add_subplot(1,2,1,sharey=ax)\n",
    "xlabel='log_Lx_obs/Ledd'\n",
    "ylabel='log_Lx_obs_10to50keV/Ledd'\n",
    "xerr_label='log_f_obs_err'\n",
    "yerr_label='log_f_obs_10to50keV_err'\n",
    "#color_label='zphabs_nh(10^22)'\n",
    "color_label='black'\n",
    "#dataplot=slab_zgauss_result\n",
    "#ax=plot_errorbar_cmap(ax,dataplot,xlabel,ylabel,xerr=xerr_label,yerr=yerr_label,color_n=color_label,marker_n='name',size_n=None,logx=False,logy=False)\n",
    "\n",
    "x_ledd_lin= np.linspace(-4.5,-2.5,100)\n",
    "dataplot=xillverCp_zgauss_result\n",
    "ax6=plot_errorbar_outlier(ax6,dataplot,xlabel,ylabel,xerr=xerr_label,yerr=yerr_label,color_n=color_label,marker_n='name',size_n=None,logx=False,logy=False,blank_plot=True)\n",
    "#set_ax_tick(ax6)\n",
    "ax6.plot(x_ledd_lin, fitted_line_obs(x_ledd_lin), color='grey',ls='--', linewidth=2,label='')\n",
    "\n",
    "\n",
    "\n",
    "ax6.xaxis.set_tick_params(which='major', size=10, width=2, direction='in', top='on',)\n",
    "ax6.xaxis.set_tick_params(which='minor', size=5, width=2, direction='in', top='on')\n",
    "ax6.yaxis.set_tick_params(which='major', size=10, width=2, direction='in')#, right='on')\n",
    "ax6.yaxis.set_tick_params(which='minor', size=5, width=2, direction='in')#, right='on')\n",
    "ax6.set_xlabel(r'log($L_{\\rm obs\\, 2-10keV}/L_{\\rm Edd}$)') #, intrisic\n",
    "ax6.set_ylabel(r'log($L_{\\rm  obs\\, 10-50keV}/L_{\\rm Edd}$)')\n",
    "ax6.xaxis.set_major_locator(mpl.ticker.MultipleLocator(0.5))\n",
    "ax6.yaxis.set_major_locator(mpl.ticker.MultipleLocator(0.5))\n",
    "\n",
    "set_ax_legend(ax6)\n",
    "ax0.set_ylim(-3.6,-2.4)\n",
    "#ax6.set_ylim(-3.6,-2.4)\n",
    "\n",
    "ax0.set_xlim(-4.8,-2.3)\n",
    "ax6.set_xlim(-4.6,-2.3)\n",
    "\n",
    "save_lc_img_path=os.path.join('/Users/lyubing/Downloads/OXCLAGN/OXCLAGN/pic/Gamma_L_nh_pic/','%s_L2to20VsL10to50.pdf'%model_name)\n",
    "plt.savefig(save_lc_img_path,dpi=400, transparent=False, bbox_inches='tight')\n"
   ]
  },
  {
   "cell_type": "markdown",
   "metadata": {},
   "source": [
    "### kTe Ref"
   ]
  },
  {
   "cell_type": "code",
   "execution_count": null,
   "metadata": {
    "ExecuteTime": {
     "end_time": "2023-04-06T05:37:43.580999Z",
     "start_time": "2023-04-06T05:37:43.565916Z"
    }
   },
   "outputs": [],
   "source": [
    "xillverCp_zgauss_result.columns"
   ]
  },
  {
   "cell_type": "code",
   "execution_count": null,
   "metadata": {
    "ExecuteTime": {
     "end_time": "2023-04-06T13:11:05.110111Z",
     "start_time": "2023-04-06T13:11:04.620778Z"
    }
   },
   "outputs": [],
   "source": [
    "fig = plt.figure(figsize=(4,4))\n",
    "fig.subplots_adjust(hspace=0., wspace = 0.0)\n",
    "model_name='xillverCp'\n",
    "\n",
    "ax=fig.add_subplot(1,1,1)\n",
    "#ax = ax0.twinx()\n",
    "xlabel='log_Lx_int/Ledd'\n",
    "ylabel='kTe'\n",
    "xerr_label='log_f_int_err'\n",
    "yerr_label='kTe_err'\n",
    "#color_label='zphabs_nh(10^22)'\n",
    "color_label='black'\n",
    "#dataplot=slab_zgauss_result\n",
    "#ax=plot_errorbar_cmap(ax,dataplot,xlabel,ylabel,xerr=xerr_label,yerr=yerr_label,color_n=color_label,marker_n='name',size_n=None,logx=False,logy=False)\n",
    "\n",
    "\n",
    "x_ledd_lin= np.linspace(-4.5,-2.5,100)\n",
    "dataplot=xillverCp_zgauss_result\n",
    "ax=plot_errorbar(ax,dataplot,xlabel,ylabel,xerr=xerr_label,yerr=yerr_label,color_n=color_label,marker_n='name',size_n=None,logx=False,logy=False,blank_plot=False)\n",
    "#set_ax_tick(ax)\n",
    "#ax.plot(x_ledd_lin, fitted_line_int(x_ledd_lin), color='grey',ls='--', linewidth=2,label='')\n",
    "\n",
    "\n",
    "\n",
    "ax.xaxis.set_tick_params(which='major', size=10, width=2, direction='in', top='on',)\n",
    "ax.xaxis.set_tick_params(which='minor', size=5, width=2, direction='in', top='on')\n",
    "ax.yaxis.set_tick_params(which='major', size=10, width=2, direction='in')#, right='on')\n",
    "ax.yaxis.set_tick_params(which='minor', size=5, width=2, direction='in')#, right='on')\n",
    "\n",
    "ax.set_xlabel(r'log($L_{\\rm int\\, 2-10keV}/L_{\\rm Edd}$)') #, intrisic\n",
    "#ax.set_ylabel(r'log($L_{\\rm  int\\, 10-50keV}/L_{\\rm Edd}$)')\n",
    "ax.set_ylabel(r'${\\rm kT_e}$')\n",
    "#ax.yaxis.set_major_locator(mpl.ticker.MultipleLocator(0.5))\n",
    "ax.xaxis.set_major_locator(mpl.ticker.MultipleLocator(0.5))\n",
    "\n",
    "ax.semilogy()\n",
    "save_lc_img_path=os.path.join('/Users/lyubing/Downloads/OXCLAGN/OXCLAGN/pic/Gamma_L_nh_pic/','%s_kTe.png'%model_name)\n",
    "plt.savefig(save_lc_img_path,dpi=400, transparent=False, bbox_inches='tight')\n"
   ]
  },
  {
   "cell_type": "code",
   "execution_count": null,
   "metadata": {
    "ExecuteTime": {
     "end_time": "2023-04-06T07:57:09.940786Z",
     "start_time": "2023-04-06T07:57:09.513245Z"
    }
   },
   "outputs": [],
   "source": [
    "fig = plt.figure(figsize=(4,4))\n",
    "fig.subplots_adjust(hspace=0., wspace = 0.0)\n",
    "model_name='xillverCp'\n",
    "\n",
    "ax6=fig.add_subplot(1,1,1,sharey=ax)\n",
    "xlabel='log_Lx_int/Ledd'\n",
    "ylabel='rel_refl'\n",
    "xerr_label='log_f_obs_err'\n",
    "yerr_label='rel_refl_err'\n",
    "#color_label='zphabs_nh(10^22)'\n",
    "color_label='black'\n",
    "#dataplot=slab_zgauss_result\n",
    "#ax=plot_errorbar_cmap(ax,dataplot,xlabel,ylabel,xerr=xerr_label,yerr=yerr_label,color_n=color_label,marker_n='name',size_n=None,logx=False,logy=False)\n",
    "\n",
    "x_ledd_lin= np.linspace(-4.5,-2.5,100)\n",
    "dataplot=xillverCp_zgauss_result\n",
    "ax6=plot_errorbar(ax6,dataplot,xlabel,ylabel,xerr=xerr_label,yerr=yerr_label,color_n=color_label,marker_n='name',size_n=None,logx=False,logy=False,blank_plot=False)\n",
    "#set_ax_tick(ax6)\n",
    "#ax6.plot(x_ledd_lin, fitted_line_obs(x_ledd_lin), color='grey',ls='--', linewidth=2,label='')\n",
    "\n",
    "\n",
    "\n",
    "ax6.xaxis.set_tick_params(which='major', size=10, width=2, direction='in', top='on',)\n",
    "ax6.xaxis.set_tick_params(which='minor', size=5, width=2, direction='in', top='on')\n",
    "ax6.yaxis.set_tick_params(which='major', size=10, width=2, direction='in')#, right='on')\n",
    "ax6.yaxis.set_tick_params(which='minor', size=5, width=2, direction='in')#, right='on')\n",
    "ax6.set_xlabel(r'log($L_{\\rm int\\, 2-10keV}/L_{\\rm Edd}$)') #, intrisic\n",
    "#ax6.set_ylabel(r'log($L_{\\rm  obs\\, 10-50keV}/L_{\\rm Edd}$)')\n",
    "ax6.set_ylabel(r'${\\rm Reflection\\, frac}$')\n",
    "\n",
    "#ax6.xaxis.set_major_locator(mpl.ticker.MultipleLocator(0.5))\n",
    "#ax6.yaxis.set_major_locator(mpl.ticker.MultipleLocator(0.5))\n",
    "\n",
    "set_ax_legend(ax6,bbox_to_anchor=(0.51, 0.95))\n",
    "\n",
    "ax6.set_ylim(-0.5,10)\n",
    "#ax6.semilogy()\n",
    "#ax0.set_ylim(0,198)\n",
    "\n",
    "ax6.set_xlim(-4.6,-2.3)\n",
    "\n",
    "save_lc_img_path=os.path.join('/Users/lyubing/Downloads/OXCLAGN/OXCLAGN/pic/Gamma_L_nh_pic/','%s_Refl.png'%model_name)\n",
    "plt.savefig(save_lc_img_path,dpi=400, transparent=False, bbox_inches='tight')\n"
   ]
  },
  {
   "cell_type": "code",
   "execution_count": null,
   "metadata": {
    "ExecuteTime": {
     "end_time": "2023-04-06T07:57:41.202494Z",
     "start_time": "2023-04-06T07:57:40.916128Z"
    }
   },
   "outputs": [],
   "source": [
    "!open /Users/lyubing/Downloads/OXCLAGN/OXCLAGN/pic/Gamma_L_nh_pic/"
   ]
  },
  {
   "cell_type": "markdown",
   "metadata": {},
   "source": [
    "## relxillCp"
   ]
  },
  {
   "cell_type": "code",
   "execution_count": null,
   "metadata": {},
   "outputs": [],
   "source": []
  },
  {
   "cell_type": "code",
   "execution_count": null,
   "metadata": {},
   "outputs": [],
   "source": []
  },
  {
   "cell_type": "markdown",
   "metadata": {},
   "source": [
    "## plot xclumpy"
   ]
  },
  {
   "cell_type": "code",
   "execution_count": 93,
   "metadata": {
    "ExecuteTime": {
     "end_time": "2023-12-02T08:43:58.127173Z",
     "start_time": "2023-12-02T08:43:57.864505Z"
    }
   },
   "outputs": [],
   "source": [
    "xclumpy_result=pd.read_excel('/Users/lyubing/Downloads/OXCLAGN/OXCLAGN_jointfit.xlsx',sheet_name='xclumpy')\n",
    "\n",
    "for i in range(len(xclumpy_result)):\n",
    "    xclumpy_result.loc[i,'logmass']= name_mass_dict[xclumpy_result.loc[i,'name']]\n",
    "    \n",
    "    covf= -((xclumpy_result.loc[i,'thInc']-90)/xclumpy_result.loc[i,'sigma_degree'])**2\n",
    "    \n",
    "    xclumpy_result.loc[i,'los_nh_new']=100*xclumpy_result.loc[i,'nh_tor(10^24)']*np.exp(covf)\n",
    "    \n",
    "    if xclumpy_result.loc[i,'obsid']==60160371002:\n",
    "        xclumpy_result.loc[i,'los_nh_err']=100*0.06*np.exp(covf)\n",
    "    \n",
    "    else:    \n",
    "        \n",
    "        xclumpy_result.loc[i,'los_nh_err']=100*xclumpy_result.loc[i,'nh_tor_err']*np.exp(covf)\n",
    "    \n",
    "    \n",
    "xclumpy_result['logLedd']= np.log10(1.26e38)+xclumpy_result['logmass']\n",
    "\n",
    "\n",
    "for i in range(len(xclumpy_result)):\n",
    "    xclumpy_result.loc[i,'redshift']= name_redshift_dict[xclumpy_result.loc[i,'name']]\n",
    "    xclumpy_result.loc[i,'D_cm']= cosmo.luminosity_distance(z=name_redshift_dict[xclumpy_result.loc[i,'name']]).to(u.cm).value\n",
    "\n",
    "#xclumpy_result['logLx']=np.log10(4*np.pi)+np.log10(xclumpy_result['D_cm'])*2.0+xclumpy_result['log_f']\n",
    "#xclumpy_result['log_Lx/Ledd']=xclumpy_result['logLx']-xclumpy_result['logLedd']    \n",
    "    "
   ]
  },
  {
   "cell_type": "code",
   "execution_count": 94,
   "metadata": {
    "ExecuteTime": {
     "end_time": "2023-12-02T08:43:58.404851Z",
     "start_time": "2023-12-02T08:43:58.391823Z"
    }
   },
   "outputs": [],
   "source": [
    "xclumpy_result=xclumpy_result[xclumpy_result['log_fint_err'].notnull()]\n",
    "xclumpy_result=xclumpy_result.sort_values(['name','obsid'])\n",
    "xclumpy_result=drop_index(xclumpy_result)"
   ]
  },
  {
   "cell_type": "code",
   "execution_count": null,
   "metadata": {},
   "outputs": [],
   "source": []
  },
  {
   "cell_type": "code",
   "execution_count": 99,
   "metadata": {
    "ExecuteTime": {
     "end_time": "2023-12-02T08:44:19.837688Z",
     "start_time": "2023-12-02T08:44:19.804994Z"
    }
   },
   "outputs": [
    {
     "data": {
      "text/html": [
       "<div>\n",
       "<style scoped>\n",
       "    .dataframe tbody tr th:only-of-type {\n",
       "        vertical-align: middle;\n",
       "    }\n",
       "\n",
       "    .dataframe tbody tr th {\n",
       "        vertical-align: top;\n",
       "    }\n",
       "\n",
       "    .dataframe thead th {\n",
       "        text-align: right;\n",
       "    }\n",
       "</style>\n",
       "<table border=\"1\" class=\"dataframe\">\n",
       "  <thead>\n",
       "    <tr style=\"text-align: right;\">\n",
       "      <th></th>\n",
       "      <th>name</th>\n",
       "      <th>obsid</th>\n",
       "      <th>zphabs_nh(10^22)</th>\n",
       "      <th>phoindex</th>\n",
       "      <th>phoindex_err</th>\n",
       "      <th>zcutoffplnorm</th>\n",
       "      <th>zcutoffplnorm_err</th>\n",
       "      <th>nh_tor(10^24)</th>\n",
       "      <th>nh_tor_err</th>\n",
       "      <th>sigma_degree</th>\n",
       "      <th>...</th>\n",
       "      <th>los_nh_new</th>\n",
       "      <th>los_nh_err</th>\n",
       "      <th>logLedd</th>\n",
       "      <th>redshift</th>\n",
       "      <th>D_cm</th>\n",
       "      <th>f_int</th>\n",
       "      <th>log_f_int</th>\n",
       "      <th>logLx_int</th>\n",
       "      <th>log_Lx_int/Ledd</th>\n",
       "      <th>log_f_err</th>\n",
       "    </tr>\n",
       "  </thead>\n",
       "  <tbody>\n",
       "    <tr>\n",
       "      <th>0</th>\n",
       "      <td>ESO362-G18</td>\n",
       "      <td>60201046002</td>\n",
       "      <td>0.00</td>\n",
       "      <td>1.54</td>\n",
       "      <td>0.02</td>\n",
       "      <td>0.00210</td>\n",
       "      <td>0.000044</td>\n",
       "      <td>2.23</td>\n",
       "      <td>1.30</td>\n",
       "      <td>10.49</td>\n",
       "      <td>...</td>\n",
       "      <td>0.000882</td>\n",
       "      <td>0.000514</td>\n",
       "      <td>45.750371</td>\n",
       "      <td>0.0124</td>\n",
       "      <td>1.654823e+26</td>\n",
       "      <td>1.082625e-11</td>\n",
       "      <td>-10.965522</td>\n",
       "      <td>42.571191</td>\n",
       "      <td>-3.179179</td>\n",
       "      <td>0.016674</td>\n",
       "    </tr>\n",
       "    <tr>\n",
       "      <th>1</th>\n",
       "      <td>NGC2992</td>\n",
       "      <td>60160371002</td>\n",
       "      <td>1.08</td>\n",
       "      <td>1.73</td>\n",
       "      <td>0.01</td>\n",
       "      <td>0.01800</td>\n",
       "      <td>0.000320</td>\n",
       "      <td>0.23</td>\n",
       "      <td>-1.00</td>\n",
       "      <td>11.43</td>\n",
       "      <td>...</td>\n",
       "      <td>1.076548</td>\n",
       "      <td>0.280839</td>\n",
       "      <td>45.580371</td>\n",
       "      <td>0.0077</td>\n",
       "      <td>1.023802e+26</td>\n",
       "      <td>6.917531e-11</td>\n",
       "      <td>-10.160049</td>\n",
       "      <td>42.959593</td>\n",
       "      <td>-2.620777</td>\n",
       "      <td>0.010282</td>\n",
       "    </tr>\n",
       "    <tr>\n",
       "      <th>2</th>\n",
       "      <td>NGC2992</td>\n",
       "      <td>90501623002</td>\n",
       "      <td>0.75</td>\n",
       "      <td>1.61</td>\n",
       "      <td>0.00</td>\n",
       "      <td>0.02000</td>\n",
       "      <td>0.000150</td>\n",
       "      <td>0.23</td>\n",
       "      <td>0.06</td>\n",
       "      <td>10.81</td>\n",
       "      <td>...</td>\n",
       "      <td>0.750122</td>\n",
       "      <td>0.195684</td>\n",
       "      <td>45.580371</td>\n",
       "      <td>0.0077</td>\n",
       "      <td>1.023802e+26</td>\n",
       "      <td>9.286768e-11</td>\n",
       "      <td>-10.032135</td>\n",
       "      <td>43.087507</td>\n",
       "      <td>-2.492864</td>\n",
       "      <td>0.003257</td>\n",
       "    </tr>\n",
       "    <tr>\n",
       "      <th>3</th>\n",
       "      <td>NGC4151</td>\n",
       "      <td>60001111002</td>\n",
       "      <td>24.89</td>\n",
       "      <td>1.82</td>\n",
       "      <td>0.02</td>\n",
       "      <td>0.08000</td>\n",
       "      <td>0.007400</td>\n",
       "      <td>5.62</td>\n",
       "      <td>1.41</td>\n",
       "      <td>18.12</td>\n",
       "      <td>...</td>\n",
       "      <td>24.846832</td>\n",
       "      <td>6.233814</td>\n",
       "      <td>45.660371</td>\n",
       "      <td>0.0033</td>\n",
       "      <td>4.372476e+25</td>\n",
       "      <td>2.694556e-10</td>\n",
       "      <td>-9.569513</td>\n",
       "      <td>42.811152</td>\n",
       "      <td>-2.849219</td>\n",
       "      <td>0.042341</td>\n",
       "    </tr>\n",
       "    <tr>\n",
       "      <th>4</th>\n",
       "      <td>NGC4151</td>\n",
       "      <td>60001111003</td>\n",
       "      <td>22.55</td>\n",
       "      <td>1.76</td>\n",
       "      <td>0.01</td>\n",
       "      <td>0.07500</td>\n",
       "      <td>0.003700</td>\n",
       "      <td>5.62</td>\n",
       "      <td>0.86</td>\n",
       "      <td>17.85</td>\n",
       "      <td>...</td>\n",
       "      <td>22.593614</td>\n",
       "      <td>3.457386</td>\n",
       "      <td>45.660371</td>\n",
       "      <td>0.0033</td>\n",
       "      <td>4.372476e+25</td>\n",
       "      <td>2.771750e-10</td>\n",
       "      <td>-9.557246</td>\n",
       "      <td>42.823419</td>\n",
       "      <td>-2.836952</td>\n",
       "      <td>0.022462</td>\n",
       "    </tr>\n",
       "    <tr>\n",
       "      <th>5</th>\n",
       "      <td>NGC4151</td>\n",
       "      <td>60001111005</td>\n",
       "      <td>20.35</td>\n",
       "      <td>1.78</td>\n",
       "      <td>0.01</td>\n",
       "      <td>0.08100</td>\n",
       "      <td>0.003600</td>\n",
       "      <td>5.62</td>\n",
       "      <td>0.82</td>\n",
       "      <td>17.57</td>\n",
       "      <td>...</td>\n",
       "      <td>20.377230</td>\n",
       "      <td>2.973190</td>\n",
       "      <td>45.660371</td>\n",
       "      <td>0.0033</td>\n",
       "      <td>4.372476e+25</td>\n",
       "      <td>2.902076e-10</td>\n",
       "      <td>-9.537291</td>\n",
       "      <td>42.843373</td>\n",
       "      <td>-2.816997</td>\n",
       "      <td>0.020440</td>\n",
       "    </tr>\n",
       "    <tr>\n",
       "      <th>6</th>\n",
       "      <td>NGC4151</td>\n",
       "      <td>60502017002</td>\n",
       "      <td>17.39</td>\n",
       "      <td>1.76</td>\n",
       "      <td>0.02</td>\n",
       "      <td>0.07000</td>\n",
       "      <td>0.004000</td>\n",
       "      <td>3.17</td>\n",
       "      <td>0.57</td>\n",
       "      <td>18.79</td>\n",
       "      <td>...</td>\n",
       "      <td>17.436724</td>\n",
       "      <td>3.135310</td>\n",
       "      <td>45.660371</td>\n",
       "      <td>0.0033</td>\n",
       "      <td>4.372476e+25</td>\n",
       "      <td>2.586967e-10</td>\n",
       "      <td>-9.587209</td>\n",
       "      <td>42.793456</td>\n",
       "      <td>-2.866915</td>\n",
       "      <td>0.028245</td>\n",
       "    </tr>\n",
       "    <tr>\n",
       "      <th>7</th>\n",
       "      <td>NGC4151</td>\n",
       "      <td>60502017004</td>\n",
       "      <td>14.25</td>\n",
       "      <td>1.77</td>\n",
       "      <td>0.01</td>\n",
       "      <td>0.07800</td>\n",
       "      <td>0.003000</td>\n",
       "      <td>5.59</td>\n",
       "      <td>1.25</td>\n",
       "      <td>16.70</td>\n",
       "      <td>...</td>\n",
       "      <td>14.217178</td>\n",
       "      <td>3.179154</td>\n",
       "      <td>45.660371</td>\n",
       "      <td>0.0033</td>\n",
       "      <td>4.372476e+25</td>\n",
       "      <td>2.838234e-10</td>\n",
       "      <td>-9.546952</td>\n",
       "      <td>42.833713</td>\n",
       "      <td>-2.826658</td>\n",
       "      <td>0.018010</td>\n",
       "    </tr>\n",
       "    <tr>\n",
       "      <th>8</th>\n",
       "      <td>NGC4151</td>\n",
       "      <td>60502017006</td>\n",
       "      <td>7.74</td>\n",
       "      <td>1.73</td>\n",
       "      <td>0.01</td>\n",
       "      <td>0.06900</td>\n",
       "      <td>0.004200</td>\n",
       "      <td>3.23</td>\n",
       "      <td>0.80</td>\n",
       "      <td>16.57</td>\n",
       "      <td>...</td>\n",
       "      <td>7.753274</td>\n",
       "      <td>1.920315</td>\n",
       "      <td>45.660371</td>\n",
       "      <td>0.0033</td>\n",
       "      <td>4.372476e+25</td>\n",
       "      <td>2.671871e-10</td>\n",
       "      <td>-9.573185</td>\n",
       "      <td>42.807480</td>\n",
       "      <td>-2.852890</td>\n",
       "      <td>0.027289</td>\n",
       "    </tr>\n",
       "    <tr>\n",
       "      <th>9</th>\n",
       "      <td>NGC4151</td>\n",
       "      <td>60502017008</td>\n",
       "      <td>21.00</td>\n",
       "      <td>1.78</td>\n",
       "      <td>0.02</td>\n",
       "      <td>0.07000</td>\n",
       "      <td>0.004900</td>\n",
       "      <td>5.58</td>\n",
       "      <td>0.98</td>\n",
       "      <td>17.67</td>\n",
       "      <td>...</td>\n",
       "      <td>21.004019</td>\n",
       "      <td>3.688878</td>\n",
       "      <td>45.660371</td>\n",
       "      <td>0.0033</td>\n",
       "      <td>4.372476e+25</td>\n",
       "      <td>2.507966e-10</td>\n",
       "      <td>-9.600678</td>\n",
       "      <td>42.779986</td>\n",
       "      <td>-2.880384</td>\n",
       "      <td>0.033243</td>\n",
       "    </tr>\n",
       "    <tr>\n",
       "      <th>10</th>\n",
       "      <td>NGC4151</td>\n",
       "      <td>60502017010</td>\n",
       "      <td>20.57</td>\n",
       "      <td>1.79</td>\n",
       "      <td>0.02</td>\n",
       "      <td>0.07200</td>\n",
       "      <td>0.005100</td>\n",
       "      <td>5.59</td>\n",
       "      <td>1.07</td>\n",
       "      <td>17.61</td>\n",
       "      <td>...</td>\n",
       "      <td>20.575843</td>\n",
       "      <td>3.938489</td>\n",
       "      <td>45.660371</td>\n",
       "      <td>0.0033</td>\n",
       "      <td>4.372476e+25</td>\n",
       "      <td>2.540011e-10</td>\n",
       "      <td>-9.595164</td>\n",
       "      <td>42.785500</td>\n",
       "      <td>-2.874870</td>\n",
       "      <td>0.033567</td>\n",
       "    </tr>\n",
       "    <tr>\n",
       "      <th>11</th>\n",
       "      <td>NGC4151</td>\n",
       "      <td>60502017012</td>\n",
       "      <td>17.87</td>\n",
       "      <td>1.74</td>\n",
       "      <td>0.02</td>\n",
       "      <td>0.05800</td>\n",
       "      <td>0.004200</td>\n",
       "      <td>5.58</td>\n",
       "      <td>0.92</td>\n",
       "      <td>17.25</td>\n",
       "      <td>...</td>\n",
       "      <td>17.868960</td>\n",
       "      <td>2.946137</td>\n",
       "      <td>45.660371</td>\n",
       "      <td>0.0033</td>\n",
       "      <td>4.372476e+25</td>\n",
       "      <td>2.211196e-10</td>\n",
       "      <td>-9.655373</td>\n",
       "      <td>42.725292</td>\n",
       "      <td>-2.935079</td>\n",
       "      <td>0.034234</td>\n",
       "    </tr>\n",
       "    <tr>\n",
       "      <th>12</th>\n",
       "      <td>NGC7582</td>\n",
       "      <td>60061318002</td>\n",
       "      <td>56.43</td>\n",
       "      <td>1.42</td>\n",
       "      <td>0.12</td>\n",
       "      <td>0.00205</td>\n",
       "      <td>0.000585</td>\n",
       "      <td>3.65</td>\n",
       "      <td>1.80</td>\n",
       "      <td>15.20</td>\n",
       "      <td>...</td>\n",
       "      <td>44.926239</td>\n",
       "      <td>22.155405</td>\n",
       "      <td>45.840371</td>\n",
       "      <td>0.0053</td>\n",
       "      <td>7.033602e+25</td>\n",
       "      <td>1.296698e-11</td>\n",
       "      <td>-10.887161</td>\n",
       "      <td>41.906404</td>\n",
       "      <td>-3.933966</td>\n",
       "      <td>0.150150</td>\n",
       "    </tr>\n",
       "    <tr>\n",
       "      <th>13</th>\n",
       "      <td>NGC7582</td>\n",
       "      <td>60061318004</td>\n",
       "      <td>87.17</td>\n",
       "      <td>1.34</td>\n",
       "      <td>0.11</td>\n",
       "      <td>0.00223</td>\n",
       "      <td>0.000809</td>\n",
       "      <td>1.73</td>\n",
       "      <td>0.50</td>\n",
       "      <td>25.90</td>\n",
       "      <td>...</td>\n",
       "      <td>84.080596</td>\n",
       "      <td>24.300750</td>\n",
       "      <td>45.840371</td>\n",
       "      <td>0.0053</td>\n",
       "      <td>7.033602e+25</td>\n",
       "      <td>1.607640e-11</td>\n",
       "      <td>-10.793811</td>\n",
       "      <td>41.999754</td>\n",
       "      <td>-3.840616</td>\n",
       "      <td>0.176022</td>\n",
       "    </tr>\n",
       "    <tr>\n",
       "      <th>14</th>\n",
       "      <td>NGC7582</td>\n",
       "      <td>60201003002</td>\n",
       "      <td>30.11</td>\n",
       "      <td>1.54</td>\n",
       "      <td>0.04</td>\n",
       "      <td>0.00651</td>\n",
       "      <td>0.000645</td>\n",
       "      <td>6.20</td>\n",
       "      <td>1.60</td>\n",
       "      <td>12.80</td>\n",
       "      <td>...</td>\n",
       "      <td>32.317792</td>\n",
       "      <td>8.340075</td>\n",
       "      <td>45.840371</td>\n",
       "      <td>0.0053</td>\n",
       "      <td>7.033602e+25</td>\n",
       "      <td>3.392711e-11</td>\n",
       "      <td>-10.469453</td>\n",
       "      <td>42.324112</td>\n",
       "      <td>-3.516258</td>\n",
       "      <td>0.051240</td>\n",
       "    </tr>\n",
       "  </tbody>\n",
       "</table>\n",
       "<p>15 rows × 39 columns</p>\n",
       "</div>"
      ],
      "text/plain": [
       "          name        obsid  zphabs_nh(10^22)  phoindex  phoindex_err  \\\n",
       "0   ESO362-G18  60201046002              0.00      1.54          0.02   \n",
       "1      NGC2992  60160371002              1.08      1.73          0.01   \n",
       "2      NGC2992  90501623002              0.75      1.61          0.00   \n",
       "3      NGC4151  60001111002             24.89      1.82          0.02   \n",
       "4      NGC4151  60001111003             22.55      1.76          0.01   \n",
       "5      NGC4151  60001111005             20.35      1.78          0.01   \n",
       "6      NGC4151  60502017002             17.39      1.76          0.02   \n",
       "7      NGC4151  60502017004             14.25      1.77          0.01   \n",
       "8      NGC4151  60502017006              7.74      1.73          0.01   \n",
       "9      NGC4151  60502017008             21.00      1.78          0.02   \n",
       "10     NGC4151  60502017010             20.57      1.79          0.02   \n",
       "11     NGC4151  60502017012             17.87      1.74          0.02   \n",
       "12     NGC7582  60061318002             56.43      1.42          0.12   \n",
       "13     NGC7582  60061318004             87.17      1.34          0.11   \n",
       "14     NGC7582  60201003002             30.11      1.54          0.04   \n",
       "\n",
       "    zcutoffplnorm  zcutoffplnorm_err  nh_tor(10^24)  nh_tor_err  sigma_degree  \\\n",
       "0         0.00210           0.000044           2.23        1.30         10.49   \n",
       "1         0.01800           0.000320           0.23       -1.00         11.43   \n",
       "2         0.02000           0.000150           0.23        0.06         10.81   \n",
       "3         0.08000           0.007400           5.62        1.41         18.12   \n",
       "4         0.07500           0.003700           5.62        0.86         17.85   \n",
       "5         0.08100           0.003600           5.62        0.82         17.57   \n",
       "6         0.07000           0.004000           3.17        0.57         18.79   \n",
       "7         0.07800           0.003000           5.59        1.25         16.70   \n",
       "8         0.06900           0.004200           3.23        0.80         16.57   \n",
       "9         0.07000           0.004900           5.58        0.98         17.67   \n",
       "10        0.07200           0.005100           5.59        1.07         17.61   \n",
       "11        0.05800           0.004200           5.58        0.92         17.25   \n",
       "12        0.00205           0.000585           3.65        1.80         15.20   \n",
       "13        0.00223           0.000809           1.73        0.50         25.90   \n",
       "14        0.00651           0.000645           6.20        1.60         12.80   \n",
       "\n",
       "    ...  los_nh_new  los_nh_err    logLedd  redshift          D_cm  \\\n",
       "0   ...    0.000882    0.000514  45.750371    0.0124  1.654823e+26   \n",
       "1   ...    1.076548    0.280839  45.580371    0.0077  1.023802e+26   \n",
       "2   ...    0.750122    0.195684  45.580371    0.0077  1.023802e+26   \n",
       "3   ...   24.846832    6.233814  45.660371    0.0033  4.372476e+25   \n",
       "4   ...   22.593614    3.457386  45.660371    0.0033  4.372476e+25   \n",
       "5   ...   20.377230    2.973190  45.660371    0.0033  4.372476e+25   \n",
       "6   ...   17.436724    3.135310  45.660371    0.0033  4.372476e+25   \n",
       "7   ...   14.217178    3.179154  45.660371    0.0033  4.372476e+25   \n",
       "8   ...    7.753274    1.920315  45.660371    0.0033  4.372476e+25   \n",
       "9   ...   21.004019    3.688878  45.660371    0.0033  4.372476e+25   \n",
       "10  ...   20.575843    3.938489  45.660371    0.0033  4.372476e+25   \n",
       "11  ...   17.868960    2.946137  45.660371    0.0033  4.372476e+25   \n",
       "12  ...   44.926239   22.155405  45.840371    0.0053  7.033602e+25   \n",
       "13  ...   84.080596   24.300750  45.840371    0.0053  7.033602e+25   \n",
       "14  ...   32.317792    8.340075  45.840371    0.0053  7.033602e+25   \n",
       "\n",
       "           f_int  log_f_int  logLx_int  log_Lx_int/Ledd  log_f_err  \n",
       "0   1.082625e-11 -10.965522  42.571191        -3.179179   0.016674  \n",
       "1   6.917531e-11 -10.160049  42.959593        -2.620777   0.010282  \n",
       "2   9.286768e-11 -10.032135  43.087507        -2.492864   0.003257  \n",
       "3   2.694556e-10  -9.569513  42.811152        -2.849219   0.042341  \n",
       "4   2.771750e-10  -9.557246  42.823419        -2.836952   0.022462  \n",
       "5   2.902076e-10  -9.537291  42.843373        -2.816997   0.020440  \n",
       "6   2.586967e-10  -9.587209  42.793456        -2.866915   0.028245  \n",
       "7   2.838234e-10  -9.546952  42.833713        -2.826658   0.018010  \n",
       "8   2.671871e-10  -9.573185  42.807480        -2.852890   0.027289  \n",
       "9   2.507966e-10  -9.600678  42.779986        -2.880384   0.033243  \n",
       "10  2.540011e-10  -9.595164  42.785500        -2.874870   0.033567  \n",
       "11  2.211196e-10  -9.655373  42.725292        -2.935079   0.034234  \n",
       "12  1.296698e-11 -10.887161  41.906404        -3.933966   0.150150  \n",
       "13  1.607640e-11 -10.793811  41.999754        -3.840616   0.176022  \n",
       "14  3.392711e-11 -10.469453  42.324112        -3.516258   0.051240  \n",
       "\n",
       "[15 rows x 39 columns]"
      ]
     },
     "execution_count": 99,
     "metadata": {},
     "output_type": "execute_result"
    }
   ],
   "source": [
    "xclumpy_result"
   ]
  },
  {
   "cell_type": "code",
   "execution_count": null,
   "metadata": {},
   "outputs": [],
   "source": []
  },
  {
   "cell_type": "code",
   "execution_count": 96,
   "metadata": {
    "ExecuteTime": {
     "end_time": "2023-12-02T08:44:10.829895Z",
     "start_time": "2023-12-02T08:44:10.817733Z"
    }
   },
   "outputs": [],
   "source": [
    "xclumpy_result['f_int'] = get_f_intrinsic_zpowerlaw(2.0,10.0,xclumpy_result['phoindex'],xclumpy_result['zcutoffplnorm'],xclumpy_result['redshift'])  \n",
    "xclumpy_result['log_f_int']=np.log10(xclumpy_result['f_int'])\n",
    "\n",
    "xclumpy_result['logLx_int']=np.log10(4*np.pi)+np.log10(xclumpy_result['D_cm'])*2.0+xclumpy_result['log_f_int']\n",
    "xclumpy_result['log_Lx_int/Ledd']=xclumpy_result['logLx_int']-xclumpy_result['logLedd']    \n",
    "\n"
   ]
  },
  {
   "cell_type": "code",
   "execution_count": null,
   "metadata": {
    "ExecuteTime": {
     "end_time": "2023-07-26T08:44:49.061098Z",
     "start_time": "2023-07-26T08:44:49.037954Z"
    }
   },
   "outputs": [],
   "source": [
    "for index,gamma_i in enumerate(xclumpy_result['phoindex']):\n",
    "    x=ufloat(gamma_i, xclumpy_result.loc[index]['phoindex_err'])\n",
    "    y=ufloat(xclumpy_result.loc[index]['zcutoffplnorm'],xclumpy_result.loc[index]['zcutoffplnorm_err'])\n",
    "    z=xclumpy_result.loc[index]['redshift']\n",
    "    \n",
    "    #logflux=get_logf_intrinsic_zpowerlaw(2.0,10.0,x,y,z)\n",
    "    flux=get_f_intrinsic_zpowerlaw(2.0,10.0,x,y,z)\n",
    "    #print(flux.nominal_value,'+\\-',flux.std_dev)\n",
    "    \n",
    "    #print(np.log10(flux.nominal_value))#,1.0/flux.nominal_value/np.log(10)*flux.std_dev)\n",
    "    print(1.0/flux.nominal_value/np.log(10)*flux.std_dev) #np.log10(flux.nominal_value),\n",
    "    \n"
   ]
  },
  {
   "cell_type": "markdown",
   "metadata": {
    "ExecuteTime": {
     "end_time": "2023-04-11T15:34:56.164044Z",
     "start_time": "2023-04-11T15:34:56.145535Z"
    }
   },
   "source": [
    "xclumpy_result[['log_Lx/Ledd','log_Lx_int/Ledd']]"
   ]
  },
  {
   "cell_type": "code",
   "execution_count": 97,
   "metadata": {
    "ExecuteTime": {
     "end_time": "2023-12-02T08:44:15.389757Z",
     "start_time": "2023-12-02T08:44:15.384205Z"
    }
   },
   "outputs": [],
   "source": [
    "xclumpy_result['log_f_err']=xclumpy_result['log_fint_err']\n",
    "#xclumpy_result['los_nh_err']#=0.01 'los_nh_err'"
   ]
  },
  {
   "cell_type": "code",
   "execution_count": 98,
   "metadata": {
    "ExecuteTime": {
     "end_time": "2023-12-02T08:44:17.177818Z",
     "start_time": "2023-12-02T08:44:17.167220Z"
    }
   },
   "outputs": [
    {
     "data": {
      "text/plain": [
       "Index(['name', 'obsid', 'zphabs_nh(10^22)', 'phoindex', 'phoindex_err',\n",
       "       'zcutoffplnorm', 'zcutoffplnorm_err', 'nh_tor(10^24)', 'nh_tor_err',\n",
       "       'sigma_degree', 'sigma_degree_err', 'thInc', 'thInc_err', 'AL',\n",
       "       'AL_err', 'fscatter', 'fscatter_err', 'const_FPTM', 'const_FPTM_err',\n",
       "       'const_FPTM3', 'const_FPTM3_err', 'chi_2', 'dof', 'rechi_2 ',\n",
       "       'log_fobs', 'log_fobs_err', 'log_fint', 'log_fint_err', 'logmass',\n",
       "       'los_nh_new', 'los_nh_err', 'logLedd', 'redshift', 'D_cm', 'f_int',\n",
       "       'log_f_int', 'logLx_int', 'log_Lx_int/Ledd', 'log_f_err'],\n",
       "      dtype='object')"
      ]
     },
     "execution_count": 98,
     "metadata": {},
     "output_type": "execute_result"
    }
   ],
   "source": [
    "xclumpy_result.columns"
   ]
  },
  {
   "cell_type": "markdown",
   "metadata": {},
   "source": [
    "### xclumpy_latex"
   ]
  },
  {
   "cell_type": "markdown",
   "metadata": {
    "ExecuteTime": {
     "end_time": "2023-04-11T15:36:29.913185Z",
     "start_time": "2023-04-11T15:36:29.888853Z"
    }
   },
   "source": [
    "for index,name in enumerate(xclumpy_result['name']):\n",
    "    print(name,'&',\n",
    "          '%s'%xclumpy_result['obsid'][index],'&',\n",
    "          '%.1f'%xclumpy_result['zphabs_nh(10^22)'][index],'&',\n",
    "  \n",
    "          '%.0f'%(xclumpy_result['nh_tor(10^24)'][index]*100),'$\\pm$', '%.0f'%(xclumpy_result['nh_tor_err'][index]*100),'&',\n",
    "                  \n",
    "          '%.2f'%xclumpy_result['phoindex'][index],'$\\pm$', '%.2f'%xclumpy_result['phoindex_err'][index],'&',\n",
    "          '%.2e'%xclumpy_result['zcutoffplnorm'][index],'$\\pm$', '%.2e'%xclumpy_result['zcutoffplnorm_err'][index],'&',\n",
    "          \n",
    "          '%.2f'%xclumpy_result['sigma_degree'][index],'$\\pm$', '%.2f'%xclumpy_result['sigma_degree_err'][index],'&',\n",
    "          \n",
    "          #'%.1f'%xclumpy_result['highEcut'][index]+xclumpy_highEcut_err_cmd,'&',\n",
    "          #'%.2f'%xclumpy_result['zgaussLineE'][index],'$\\pm$', '%.2f'%xclumpy_result['zgaussLineE_err'][index],'&',\n",
    "          #'%.2f'%xclumpy_result['zgaussSigma'][index],'$\\pm$', '%.2f'%xclumpy_result['zgaussSigma_err'][index],'&',\n",
    "          #'%.3f'%xclumpy_result['rRratio'][index],'$\\pm$', '%.3f'%xclumpy_result['rRratio_err'][index],'&',\n",
    "          \n",
    "          '%.2f(%d/%d)'%(xclumpy_result['chi_2'][index]/xclumpy_result['dof'][index],xclumpy_result['chi_2'][index],xclumpy_result['dof'][index]),'&',\n",
    "          '%.3f'%float(xclumpy_result['log_Lx_int/Ledd'][index]),'$\\pm$','%.3f'%float(xclumpy_result['log_f_err'][index]),#'&',\n",
    "          #'%.3f'%float(xclumpy_result['log_Lx_10to50keV/Ledd'][index]),'$\\pm$','%.3f'%float(xclumpy_result['log_f_err_10to50keV'][index]),\n",
    "          '\\\\\\\\',\n",
    "         )\n",
    "\n"
   ]
  },
  {
   "cell_type": "markdown",
   "metadata": {
    "ExecuteTime": {
     "end_time": "2023-02-19T08:15:14.630641Z",
     "start_time": "2023-02-19T08:15:14.606231Z"
    }
   },
   "source": [
    "for index,name in enumerate(xclumpy_result['name']):\n",
    "    print(name,'&',\n",
    "          '%s'%xclumpy_result['obsid'][index],'&',\n",
    "          '%.1f'%xclumpy_result['zphabs_nh(10^22)'][index],'&',\n",
    "  \n",
    "          '%.0f'%(xclumpy_result['nh_tor(10^24)'][index]*100),'$\\pm$', '%.0f'%(xclumpy_result['nh_tor_err'][index]*100),'&',\n",
    "                  \n",
    "          '%.2f'%xclumpy_result['phoindex'][index],'$\\pm$', '%.2f'%xclumpy_result['phoindex_err'][index],'&',\n",
    "          #'%.2f'%xclumpy_result['sigma_degree'][index],'$\\pm$', '%.2f'%xclumpy_result['sigma_degree_err'][index],'&',\n",
    "          \n",
    "          #'%.1f'%xclumpy_result['highEcut'][index]+xclumpy_highEcut_err_cmd,'&',\n",
    "          #'%.2f'%xclumpy_result['zgaussLineE'][index],'$\\pm$', '%.2f'%xclumpy_result['zgaussLineE_err'][index],'&',\n",
    "          #'%.2f'%xclumpy_result['zgaussSigma'][index],'$\\pm$', '%.2f'%xclumpy_result['zgaussSigma_err'][index],'&',\n",
    "          #'%.3f'%xclumpy_result['rRratio'][index],'$\\pm$', '%.3f'%xclumpy_result['rRratio_err'][index],'&',\n",
    "          \n",
    "          '%.2f(%d/%d)'%(xclumpy_result['rechi_2'][index],xclumpy_result['chi_2'][index],xclumpy_result['dof'][index]),'&',\n",
    "          '%.3f'%float(xclumpy_result['log_Lx/Ledd'][index]),'$\\pm$','%.3f'%float(xclumpy_result['log_f_err'][index]),#'&',\n",
    "          #'%.3f'%float(xclumpy_result['log_Lx_10to50keV/Ledd'][index]),'$\\pm$','%.3f'%float(xclumpy_result['log_f_err_10to50keV'][index]),\n",
    "          '\\\\\\\\',\n",
    "         )\n",
    "\n"
   ]
  },
  {
   "cell_type": "code",
   "execution_count": null,
   "metadata": {
    "ExecuteTime": {
     "end_time": "2023-07-26T08:45:27.885758Z",
     "start_time": "2023-07-26T08:45:27.874372Z"
    }
   },
   "outputs": [],
   "source": [
    "xclumpy_result.columns"
   ]
  },
  {
   "cell_type": "code",
   "execution_count": 100,
   "metadata": {
    "ExecuteTime": {
     "end_time": "2023-12-02T08:45:29.562248Z",
     "start_time": "2023-12-02T08:45:29.540263Z"
    }
   },
   "outputs": [
    {
     "name": "stdout",
     "output_type": "stream",
     "text": [
      "\\multirow{2}*{60201003002} & 0.980$\\pm$0.008/0.675$\\pm$0.006 & 0.00$\\pm$0.00& 2.23 $\\pm$ 1.30 & 1.54 $\\pm$ 0.02 & 2.10e-03 $\\pm$ 4.40e-05 & \\\\ \n",
      " &  10.49 $\\pm$ 6.12 & 3.77 $\\pm$ 1.19 & - & 1.10(2996/2730) & -10.966 $\\pm$ 0.017 & 42.571 $\\pm$ 0.017 \\\\\n",
      "\\multirow{2}*{60201003002} & 0.985$\\pm$0.007/0.765$\\pm$0.016 & 1.08$\\pm$0.28& 0.23 $\\pm$ -1.00 & 1.73 $\\pm$ 0.01 & 1.80e-02 $\\pm$ 3.20e-04 & \\\\ \n",
      " &  11.43 $\\pm$ 0.06 & 2.98 $\\pm$ 0.46 & - & 0.94(1094/1162) & -10.160 $\\pm$ 0.010 & 42.960 $\\pm$ 0.010 \\\\\n",
      "\\multirow{2}*{60201003002} & 0.979$\\pm$0.004/0.837$\\pm$0.003 & 0.75$\\pm$0.20& 0.23 $\\pm$ 0.06 & 1.61 $\\pm$ 0.00 & 2.00e-02 $\\pm$ 1.50e-04 & \\\\ \n",
      " &  10.81 $\\pm$ 0.39 & 5.05 $\\pm$ 0.80 & - & 1.29(4118/3181) & -10.032 $\\pm$ 0.003 & 43.088 $\\pm$ 0.003 \\\\\n",
      "\\multirow{2}*{60201003002} & 0.959$\\pm$0.007& 24.85$\\pm$6.23& 5.62 $\\pm$ 1.41 & 1.82 $\\pm$ 0.02 & 8.00e-02 $\\pm$ 7.40e-03 & \\\\ \n",
      " &  18.12 $\\pm$ 0.66 & 0.74 $\\pm$ 0.11 & 0.45$\\pm$0.03& 1.09(1599/1468) & -9.570 $\\pm$ 0.042 & 42.811 $\\pm$ 0.042 \\\\\n",
      "\\multirow{2}*{60201003002} & 0.995$\\pm$0.004& 22.59$\\pm$3.46& 5.62 $\\pm$ 0.86 & 1.76 $\\pm$ 0.01 & 7.50e-02 $\\pm$ 3.70e-03 & \\\\ \n",
      " &  17.85 $\\pm$ 0.37 & 1.08 $\\pm$ 0.07 & 0.29$\\pm$0.01& 1.11(2161/1953) & -9.557 $\\pm$ 0.022 & 42.823 $\\pm$ 0.022 \\\\\n",
      "\\multirow{2}*{60201003002} & 0.998$\\pm$0.003& 20.38$\\pm$2.97& 5.62 $\\pm$ 0.82 & 1.78 $\\pm$ 0.01 & 8.10e-02 $\\pm$ 3.60e-03 & \\\\ \n",
      " &  17.57 $\\pm$ 0.33 & 0.99 $\\pm$ 0.06 & 0.37$\\pm$0.01& 1.23(2480/2022) & -9.537 $\\pm$ 0.020 & 42.843 $\\pm$ 0.020 \\\\\n",
      "\\multirow{2}*{60201003002} & 0.981$\\pm$0.004& 17.44$\\pm$3.14& 3.17 $\\pm$ 0.57 & 1.76 $\\pm$ 0.02 & 7.00e-02 $\\pm$ 4.00e-03 & \\\\ \n",
      " &  18.79 $\\pm$ 0.51 & 0.91 $\\pm$ 0.07 & 0.25$\\pm$0.01& 1.12(1808/1615) & -9.587 $\\pm$ 0.028 & 42.793 $\\pm$ 0.028 \\\\\n",
      "\\multirow{2}*{60201003002} & 0.996$\\pm$0.004& 14.22$\\pm$3.18& 5.59 $\\pm$ 1.25 & 1.77 $\\pm$ 0.01 & 7.80e-02 $\\pm$ 3.00e-03 & \\\\ \n",
      " &  16.70 $\\pm$ 0.40 & 1.17 $\\pm$ 0.09 & 0.42$\\pm$0.02& 1.08(1998/1849) & -9.547 $\\pm$ 0.018 & 42.834 $\\pm$ 0.018 \\\\\n",
      "\\multirow{2}*{60201003002} & 0.989$\\pm$0.004& 7.75$\\pm$1.92& 3.23 $\\pm$ 0.80 & 1.73 $\\pm$ 0.01 & 6.90e-02 $\\pm$ 4.20e-03 & \\\\ \n",
      " &  16.57 $\\pm$ 0.37 & 1.19 $\\pm$ 0.12 & 0.28$\\pm$0.11& 1.10(1809/1639) & -9.573 $\\pm$ 0.027 & 42.807 $\\pm$ 0.027 \\\\\n",
      "\\multirow{2}*{60201003002} & 0.977$\\pm$0.005& 21.00$\\pm$3.69& 5.58 $\\pm$ 0.98 & 1.78 $\\pm$ 0.02 & 7.00e-02 $\\pm$ 4.90e-03 & \\\\ \n",
      " &  17.67 $\\pm$ 0.40 & 1.16 $\\pm$ 0.10 & 0.32$\\pm$0.01& 1.17(1818/1553) & -9.601 $\\pm$ 0.033 & 42.780 $\\pm$ 0.033 \\\\\n",
      "\\multirow{2}*{60201003002} & 0.960$\\pm$0.005& 20.58$\\pm$3.94& 5.59 $\\pm$ 1.07 & 1.79 $\\pm$ 0.02 & 7.20e-02 $\\pm$ 5.10e-03 & \\\\ \n",
      " &  17.61 $\\pm$ 0.44 & 1.13 $\\pm$ 0.10 & 0.36$\\pm$0.02& 1.13(1747/1551) & -9.595 $\\pm$ 0.034 & 42.786 $\\pm$ 0.034 \\\\\n",
      "\\multirow{2}*{60201003002} & 0.962$\\pm$0.006& 17.87$\\pm$2.95& 5.58 $\\pm$ 0.92 & 1.74 $\\pm$ 0.02 & 5.80e-02 $\\pm$ 4.20e-03 & \\\\ \n",
      " &  17.25 $\\pm$ 0.35 & 1.81 $\\pm$ 0.14 & 0.44$\\pm$0.02& 1.08(1647/1529) & -9.655 $\\pm$ 0.034 & 42.725 $\\pm$ 0.034 \\\\\n",
      "\\multirow{2}*{60201003002} & 0.951$\\pm$0.028& 44.93$\\pm$22.16& 3.65 $\\pm$ 1.80 & 1.42 $\\pm$ 0.12 & 2.05e-03 $\\pm$ 5.85e-04 & \\\\ \n",
      " &  15.20 $\\pm$ 1.70 & 2.59 $\\pm$ 0.89 & 0.14$\\pm$0.04& 1.20(344/286) & -10.887 $\\pm$ 0.150 & 41.906 $\\pm$ 0.150 \\\\\n",
      "\\multirow{2}*{60201003002} & 0.984$\\pm$0.034& 84.08$\\pm$24.30& 1.73 $\\pm$ 0.50 & 1.34 $\\pm$ 0.11 & 2.23e-03 $\\pm$ 8.09e-04 & \\\\ \n",
      " &  25.90 $\\pm$ 6.80 & 2.15 $\\pm$ 0.44 & 0.11$\\pm$0.02& 1.22(259/213) & -10.794 $\\pm$ 0.176 & 42.000 $\\pm$ 0.176 \\\\\n",
      "\\multirow{2}*{60201003002} & 0.990$\\pm$0.010& 32.32$\\pm$8.34& 6.20 $\\pm$ 1.60 & 1.54 $\\pm$ 0.04 & 6.51e-03 $\\pm$ 6.45e-04 & \\\\ \n",
      " &  12.80 $\\pm$ 0.40 & 1.59 $\\pm$ 0.42 & 0.07$\\pm$0.01& 1.07(1018/955) & -10.469 $\\pm$ 0.051 & 42.324 $\\pm$ 0.051 \\\\\n"
     ]
    }
   ],
   "source": [
    "for index,name in enumerate(xclumpy_result['name']):\n",
    "    if name=='NGC4151' or name=='NGC7582' or name=='NGC1365':\n",
    "        Cross_str='%.3f'%xclumpy_result['const_FPTM'][index]+'$\\pm$'+'%.3f'%xclumpy_result['const_FPTM_err'][index]+'&'\n",
    "        fscatter_cmd='%.2f'%xclumpy_result['fscatter'][index]+'$\\pm$'+'%.2f'%xclumpy_result['fscatter_err'][index]+'&'\n",
    "    else:\n",
    "        Cross_str='%.3f'%xclumpy_result['const_FPTM'][index]+'$\\pm$'+'%.3f'%xclumpy_result['const_FPTM_err'][index]+'/'+'%.3f'%xclumpy_result['const_FPTM3'][index]+'$\\pm$'+ '%.3f'%xclumpy_result['const_FPTM3_err'][index]+' &'\n",
    "        fscatter_cmd='- &'\n",
    " \n",
    "\n",
    "    if xclumpy_result['los_nh_err'][index]==-1:\n",
    "        los_nh_err_cmd='$^f$'\n",
    "    else:\n",
    "        los_nh_err_cmd='$\\pm$'+'%.2f'%xclumpy_result['los_nh_err'][index]\n",
    "        \n",
    "\n",
    "\n",
    "    #\\multirow{2}*\n",
    "    print(#name,'&',\n",
    "          #'%s'%xclumpy_result['obsid'][index],'&',\n",
    "          #'\\multirow{2}*{N%d}'%(index+1),'&',\n",
    "         '\\multirow{2}*{%s}'%(obsid),'&', \n",
    "          Cross_str,\n",
    "        \n",
    "    #print(name,'&',\n",
    "          #'%s'%xclumpy_result['obsid'][index],'&',\n",
    "          '%.2f'%xclumpy_result['los_nh_new'][index]+los_nh_err_cmd+'&',\n",
    "          '%.2f'%(xclumpy_result['nh_tor(10^24)'][index]),'$\\pm$', '%.2f'%(xclumpy_result['nh_tor_err'][index]),'&',\n",
    "       \n",
    "          \n",
    "          \n",
    "          '%.2f'%xclumpy_result['phoindex'][index],'$\\pm$', '%.2f'%xclumpy_result['phoindex_err'][index],'&',\n",
    "          '%.2e'%xclumpy_result['zcutoffplnorm'][index],'$\\pm$', '%.2e'%xclumpy_result['zcutoffplnorm_err'][index],'&',\n",
    "          \n",
    "                    \n",
    "           '\\\\\\\\','\\n & ',\n",
    "           '%.2f'%xclumpy_result['sigma_degree'][index],'$\\pm$', '%.2f'%xclumpy_result['sigma_degree_err'][index],'&',\n",
    "        \n",
    "           '%.2f'%xclumpy_result['AL'][index],'$\\pm$', '%.2f'%xclumpy_result['AL_err'][index],'&',\n",
    "          \n",
    "            fscatter_cmd,\n",
    "            \n",
    "                  \n",
    "          #'%.1f'%xclumpy_result['highEcut'][index]+mytorus_couple_highEcut_err_cmd,'&',\n",
    "          #'%.2f'%xclumpy_result['zgaussLineE'][index],'$\\pm$', '%.2f'%xclumpy_result['zgaussLineE_err'][index],'&',\n",
    "          #'%.2f'%xclumpy_result['zgaussSigma'][index],'$\\pm$', '%.2f'%xclumpy_result['zgaussSigma_err'][index],'&',\n",
    "          #'%.3f'%xclumpy_result['rRratio'][index],'$\\pm$', '%.3f'%xclumpy_result['rRratio_err'][index],'&',\n",
    "          \n",
    "          \n",
    "          '%.2f(%d/%d)'%(xclumpy_result['chi_2'][index]/xclumpy_result['dof'][index],xclumpy_result['chi_2'][index],xclumpy_result['dof'][index]),'&',\n",
    "          '%.3f'%float(xclumpy_result['log_f_int'][index]),'$\\pm$','%.3f'%float(xclumpy_result['log_f_err'][index]),'&',\n",
    "          \n",
    "          '%.3f'%float(xclumpy_result['logLx_int'][index]),'$\\pm$','%.3f'%float(xclumpy_result['log_f_err'][index]),#'&',\n",
    "          #'%.3f'%float(xclumpy_result['log_Lx_10to50keV/Ledd'][index]),'$\\pm$','%.3f'%float(xclumpy_result['log_f_err_10to50keV'][index]),\n",
    "          '\\\\\\\\',\n",
    "         )\n",
    "\n"
   ]
  },
  {
   "cell_type": "code",
   "execution_count": null,
   "metadata": {},
   "outputs": [],
   "source": []
  },
  {
   "cell_type": "code",
   "execution_count": null,
   "metadata": {},
   "outputs": [],
   "source": []
  },
  {
   "cell_type": "code",
   "execution_count": null,
   "metadata": {},
   "outputs": [],
   "source": []
  },
  {
   "cell_type": "code",
   "execution_count": null,
   "metadata": {},
   "outputs": [],
   "source": []
  },
  {
   "cell_type": "code",
   "execution_count": null,
   "metadata": {},
   "outputs": [],
   "source": []
  },
  {
   "cell_type": "code",
   "execution_count": null,
   "metadata": {
    "ExecuteTime": {
     "end_time": "2023-02-01T12:45:12.763642Z",
     "start_time": "2023-02-01T12:45:11.141507Z"
    }
   },
   "outputs": [],
   "source": [
    "fig = plt.figure(figsize=(12,12))\n",
    "fig.subplots_adjust(hspace=0.3, wspace = 0.5)\n",
    "\n",
    "\n",
    "\n",
    "ax = fig.add_subplot(2,2,1)\n",
    "\n",
    "xlabel='log_Lx/Ledd'\n",
    "ylabel='phoindex'\n",
    "xerr_label='log_f_err'\n",
    "yerr_label='phoindex_err'\n",
    "color_label='zphabs_nh(10^22)'\n",
    "#dataplot=slab_zgauss_result\n",
    "#ax=plot_errorbar_cmap(ax,dataplot,xlabel,ylabel,xerr=xerr_label,yerr=yerr_label,color_n=color_label,marker_n='name',size_n=None,logx=False,logy=False)\n",
    "dataplot=xclumpy_result\n",
    "ax=plot_errorbar_cmap(ax,dataplot,xlabel,ylabel,xerr=xerr_label,yerr=yerr_label,color_n=color_label,marker_n='name',size_n=None,logx=False,logy=False)\n",
    "set_ax_tick(ax) \n",
    "#set_ax_locator(ax,xma=1000,xmi=500,yma=1,ymi=0.5)\n",
    "set_ax_legend(ax,bbox_to_anchor=(0.01, 0.99))   \n",
    "#ax.set_ylim(-7,17)\n",
    "ax.set_xlabel(xlabel)\n",
    "ax.set_ylabel(ylabel)\n",
    "#ax.set_title('UXCLUMPY model')\n",
    "\n",
    "\n",
    "ax = fig.add_subplot(2,2,2)\n",
    "\n",
    "xlabel='log_Lx/Ledd'\n",
    "ylabel='zphabs_nh(10^22)'\n",
    "xerr_label='log_f_err'\n",
    "yerr_label=None#'zphabs_nh_err'\n",
    "color_label='sigma_degree'\n",
    "\n",
    "dataplot=xclumpy_result\n",
    "ax=plot_errorbar_cmap(ax,dataplot,xlabel,ylabel,xerr=xerr_label,yerr=yerr_label,color_n=color_label,marker_n='name',size_n=None,logx=False,logy=False)\n",
    "\n",
    "set_ax_tick(ax) \n",
    "#set_ax_locator(ax,xma=1000,xmi=500,yma=1,ymi=0.5)\n",
    "set_ax_legend(ax,bbox_to_anchor=(0.51, 0.99))   \n",
    "#ax.set_ylim(-7,17)\n",
    "#ax.semilogy()\n",
    "ax.set_xlabel(xlabel)\n",
    "ax.set_ylabel(ylabel)\n",
    "\n",
    "\n",
    "ax = fig.add_subplot(2,2,3)\n",
    "\n",
    "'''xlabel='log_Lx/Ledd'\n",
    "ylabel='sigma_degree'\n",
    "xerr_label='log_f_err'\n",
    "yerr_label='sigma_degree_err'\n",
    "color_label='zphabs_nh(10^22)'\n",
    "'''\n",
    "xlabel='zphabs_nh(10^22)'\n",
    "ylabel='phoindex'\n",
    "xerr_label=None #'zphabs_nh_err'\n",
    "yerr_label='phoindex_err'\n",
    "color_label='log_Lx/Ledd'\n",
    "\n",
    "dataplot=xclumpy_result\n",
    "ax=plot_errorbar_cmap(ax,dataplot,xlabel,ylabel,xerr=xerr_label,yerr=yerr_label,color_n=color_label,marker_n='name',size_n=None,logx=False,logy=False)\n",
    "set_ax_tick(ax) \n",
    "#set_ax_locator(ax,xma=1000,xmi=500,yma=1,ymi=0.5)\n",
    "set_ax_legend(ax,bbox_to_anchor=(0.41, 0.99))   \n",
    "#ax.set_ylim(-0.1,0.5)\n",
    "ax.set_xlabel(xlabel)\n",
    "ax.set_ylabel(ylabel)\n",
    "\n",
    "\n",
    "ax = fig.add_subplot(2,2,4)\n",
    "xlabel='logLx'\n",
    "#xlabel='log_Lx/Ledd'\n",
    "ylabel='nh_tor(10^24)'\n",
    "xerr_label='log_f_err'\n",
    "yerr_label='nh_tor_err'\n",
    "color_label='zphabs_nh(10^22)'\n",
    "\n",
    "dataplot=xclumpy_result\n",
    "ax=plot_errorbar_cmap(ax,dataplot,xlabel,ylabel,xerr=xerr_label,yerr=yerr_label,color_n=color_label,marker_n='name',size_n=None,logx=False,logy=False)\n",
    "set_ax_tick(ax) \n",
    "#set_ax_locator(ax,xma=1000,xmi=500,yma=1,ymi=0.5)\n",
    "set_ax_legend(ax,bbox_to_anchor=(0.11, 0.99))   \n",
    "#ax.set_ylim(0.9,10)\n",
    "ax.set_xlabel(xlabel)\n",
    "ax.set_ylabel(ylabel)\n",
    "\n",
    "model_name='XCLUMPY'\n",
    "#ax.set_title('%s model'%model_name)\n",
    "plt.title('%s model'%model_name)\n",
    "save_lc_img_path=os.path.join('/Users/lyubing/Downloads/','%s_cmap.png'%model_name) \n",
    "plt.savefig(save_lc_img_path,dpi=400, transparent=False, bbox_inches='tight')\n",
    "#plt.close()  "
   ]
  },
  {
   "cell_type": "code",
   "execution_count": null,
   "metadata": {
    "ExecuteTime": {
     "end_time": "2023-01-29T07:46:20.987238Z",
     "start_time": "2023-01-29T07:46:20.973291Z"
    }
   },
   "outputs": [],
   "source": [
    "xclumpy_result.columns"
   ]
  },
  {
   "cell_type": "code",
   "execution_count": null,
   "metadata": {
    "ExecuteTime": {
     "end_time": "2023-01-29T08:14:41.780867Z",
     "start_time": "2023-01-29T08:14:41.603024Z"
    }
   },
   "outputs": [],
   "source": [
    "figure_n= 1\n",
    "fig = plt.figure(figsize=(6,figure_n*6))\n",
    "fig.subplots_adjust(hspace=0.0, wspace = 0.0)\n",
    "ax = fig.add_subplot(figure_n,1,1)\n",
    "\n",
    "xlabel='thInc'\n",
    "ylabel='zphabs_nh(10^22)'\n",
    "xerr_label=None#'log_f_err'\n",
    "yerr_label=None#'zphabs_nh_err'\n",
    "color_label='logLx'\n",
    "\n",
    "dataplot=xclumpy_result\n",
    "ax=plot_errorbar_cmap(ax,dataplot,xlabel,ylabel,xerr=xerr_label,yerr=yerr_label,color_n=color_label,marker_n='name',size_n=None,logx=False,logy=False)\n",
    "\n",
    "set_ax_tick(ax) \n",
    "#set_ax_locator(ax,xma=1000,xmi=500,yma=1,ymi=0.5)\n",
    "set_ax_legend(ax,bbox_to_anchor=(0.01, 0.99))   \n",
    "#ax.set_ylim(-7,17)\n",
    "#ax.semilogy()\n",
    "ax.set_xlabel(xlabel)\n",
    "ax.set_ylabel(ylabel)\n",
    "ax.set_title('xclumpy')\n"
   ]
  },
  {
   "cell_type": "code",
   "execution_count": null,
   "metadata": {
    "ExecuteTime": {
     "end_time": "2023-07-29T14:10:57.088250Z",
     "start_time": "2023-07-29T14:10:57.076320Z"
    }
   },
   "outputs": [],
   "source": [
    "xclumpy_result['log_Lx_int/Ledd']"
   ]
  },
  {
   "cell_type": "markdown",
   "metadata": {},
   "source": [
    "### plot3para"
   ]
  },
  {
   "cell_type": "code",
   "execution_count": null,
   "metadata": {
    "ExecuteTime": {
     "end_time": "2023-07-29T14:11:04.498592Z",
     "start_time": "2023-07-29T14:11:03.918059Z"
    }
   },
   "outputs": [],
   "source": [
    "fig = plt.figure(figsize=(6,6))\n",
    "fig.subplots_adjust(hspace=0., wspace = 0.)\n",
    "ax = fig.add_subplot(2,2,1)\n",
    "\n",
    "\n",
    "\n",
    "xlabel='log_Lx_int/Ledd'\n",
    "ylabel='phoindex'\n",
    "xerr_label='log_fint_err'\n",
    "yerr_label='phoindex_err'\n",
    "color_label='grey'\n",
    "\n",
    "dataplot=xclumpy_result\n",
    "ax=plot_errorbar(ax,dataplot,xlabel,ylabel,xerr=xerr_label,yerr=yerr_label,color_n=color_label,marker_n='name',size_n=None,logx=False,logy=False,blank_plot=True)\n",
    "set_ax_tick(ax) \n",
    "set_ax_locator(ax,xma=1.0,xmi=0.2,yma=0.2,ymi=0.1)\n",
    "#set_ax_legend(ax,bbox_to_anchor=(0.01, 0.99))   \n",
    "#ax.set_ylim(-7,17)\n",
    "#ax.set_xlabel(r'log($L_{\\rm X}/L_{\\rm Edd}$)')\n",
    "ax.set_ylabel(r'$\\Gamma$')\n",
    "model_name='XCLUMPY'\n",
    "ax.set_title('%s'%model_name)\n",
    "\n",
    "\n",
    "'''ax2 = fig.add_subplot(2,2,2,sharey=ax)\n",
    "xlabel='zphabs_nh(10^22)'\n",
    "ylabel='phoindex'\n",
    "xerr_label=None #'zphabs_nh_err'\n",
    "yerr_label='phoindex_err'\n",
    "\n",
    "dataplot=xclumpy_result\n",
    "ax2=plot_errorbar(ax2,dataplot,xlabel,ylabel,xerr=xerr_label,yerr=yerr_label,color_n=color_label,marker_n='name',size_n=None,logx=False,logy=False,blank_plot=True)\n",
    "set_ax_tick(ax2) \n",
    "#set_ax_locator(ax,xma=1000,xmi=500,yma=1,ymi=0.5)\n",
    "#set_ax_legend(ax2,bbox_to_anchor=(0.01, 0.99))   \n",
    "#ax.set_ylim(-0.1,0.5)\n",
    "ax2.set_xlabel(r'$N_{\\rm H,los (10^{22} cm^{-2})}$')\n",
    "#ax2.set_ylabel(r'$\\Gamma$')\n",
    "#ax2.yaxis.set_major_formatter(ticker.NullFormatter())\n",
    "set_ax_locator(ax2,xma=25,xmi=5,yma=0.2,ymi=0.1)\n",
    "ax2.yaxis.set_tick_params(which='major', size=10, width=2, direction='in', top='on',labelsize=0)\n",
    "'''\n",
    "\n",
    "ax3 = fig.add_subplot(2,2,3,sharex=ax)\n",
    "\n",
    "xlabel='log_Lx_int/Ledd'\n",
    "ylabel='zphabs_nh(10^22)'\n",
    "xerr_label='log_fint_err'\n",
    "yerr_label=None#'zphabs_nh_err'\n",
    "\n",
    "\n",
    "dataplot=xclumpy_result\n",
    "ax3=plot_errorbar(ax3,dataplot,xlabel,ylabel,xerr=xerr_label,yerr=yerr_label,color_n=color_label,marker_n='name',size_n=None,logx=False,logy=False,blank_plot=True)\n",
    "\n",
    "set_ax_tick(ax3) \n",
    "#set_ax_locator(ax,xma=1000,xmi=500,yma=1,ymi=0.5)\n",
    "#set_ax_legend(ax3,bbox_to_anchor=(0.51, 0.99))   \n",
    "#ax.set_ylim(-7,17)\n",
    "#ax.semilogy()\n",
    "\n",
    "\n",
    "ax3.errorbar(-3.179179,0.1,yerr=0.05,uplims=True,marker='o',color='grey',ms=11)\n",
    "\n",
    "ax3.semilogy()\n",
    "\n",
    "ax3.set_xlabel(r'log($L_{\\rm 2-10keV}/L_{\\rm Edd}$)')\n",
    "ax3.set_ylabel(r'$N_{\\rm H,los (10^{22} cm^{-2})}$')\n",
    "\n",
    "ax3.set_ylim(-0.1,205)\n",
    "ax3.set_xlim(-4.5,-1.8)\n",
    "ax.set_ylim(1.21,1.91)\n",
    "\n",
    "#ax2.xaxis.set_tick_params(which='major', size=10, width=2, direction='in', top='on',)\n",
    "#ax2.xaxis.set_tick_params(which='minor', size=5, width=2, direction='in', top='on')\n",
    "#ax2.yaxis.set_tick_params(which='major', size=10, width=2, direction='in', right='on')\n",
    "#ax2.yaxis.set_tick_params(which='minor', size=5, width=2, direction='in', right='on')\n",
    "\n",
    "\n",
    "#ax.set_title('%s model'%model_name)\n",
    "save_lc_img_path=os.path.join('/Users/lyubing/Downloads/OXCLAGN/003_OXCLAGN/pic/Gamma_L_nh_pic/','%s.pdf'%model_name) \n",
    "plt.savefig(save_lc_img_path,dpi=400, transparent=False, bbox_inches='tight')\n",
    "#plt.close()    "
   ]
  },
  {
   "cell_type": "code",
   "execution_count": null,
   "metadata": {
    "ExecuteTime": {
     "end_time": "2023-08-09T12:42:56.398250Z",
     "start_time": "2023-08-09T12:42:56.392090Z"
    }
   },
   "outputs": [],
   "source": [
    "xclumpy_result['logLx_int']"
   ]
  },
  {
   "cell_type": "markdown",
   "metadata": {},
   "source": [
    "### plotLx"
   ]
  },
  {
   "cell_type": "code",
   "execution_count": null,
   "metadata": {
    "ExecuteTime": {
     "end_time": "2023-08-09T15:09:33.012005Z",
     "start_time": "2023-08-09T15:09:32.456162Z"
    }
   },
   "outputs": [],
   "source": [
    "fig = plt.figure(figsize=(6,6))\n",
    "fig.subplots_adjust(hspace=0., wspace = 0.)\n",
    "ax = fig.add_subplot(2,2,1)\n",
    "\n",
    "\n",
    "\n",
    "xlabel='logLx_int'\n",
    "ylabel='phoindex'\n",
    "xerr_label='log_fint_err'\n",
    "yerr_label='phoindex_err'\n",
    "color_label='black'\n",
    "\n",
    "dataplot=xclumpy_result\n",
    "ax=plot_errorbar(ax,dataplot,xlabel,ylabel,xerr=xerr_label,yerr=yerr_label,color_n=color_label,marker_n='name',size_n=None,logx=False,logy=False,blank_plot=True)\n",
    "set_ax_tick(ax) \n",
    "set_ax_locator(ax,xma=1.0,xmi=0.2,yma=0.2,ymi=0.1)\n",
    "#set_ax_legend(ax,bbox_to_anchor=(0.01, 0.99))   \n",
    "#ax.set_ylim(-7,17)\n",
    "#ax.set_xlabel(r'log($L_{\\rm X}/L_{\\rm Edd}$)')\n",
    "ax.set_ylabel(r'$\\Gamma$')\n",
    "model_name='XCLUMPY'\n",
    "ax.set_title('%s'%model_name)\n",
    "\n",
    "\n",
    "'''ax2 = fig.add_subplot(2,2,2,sharey=ax)\n",
    "xlabel='zphabs_nh(10^22)'\n",
    "ylabel='phoindex'\n",
    "xerr_label=None #'zphabs_nh_err'\n",
    "yerr_label='phoindex_err'\n",
    "\n",
    "dataplot=xclumpy_result\n",
    "ax2=plot_errorbar(ax2,dataplot,xlabel,ylabel,xerr=xerr_label,yerr=yerr_label,color_n=color_label,marker_n='name',size_n=None,logx=False,logy=False,blank_plot=True)\n",
    "set_ax_tick(ax2) \n",
    "#set_ax_locator(ax,xma=1000,xmi=500,yma=1,ymi=0.5)\n",
    "#set_ax_legend(ax2,bbox_to_anchor=(0.01, 0.99))   \n",
    "#ax.set_ylim(-0.1,0.5)\n",
    "ax2.set_xlabel(r'$N_{\\rm H,los (10^{22} cm^{-2})}$')\n",
    "#ax2.set_ylabel(r'$\\Gamma$')\n",
    "#ax2.yaxis.set_major_formatter(ticker.NullFormatter())\n",
    "set_ax_locator(ax2,xma=25,xmi=5,yma=0.2,ymi=0.1)\n",
    "ax2.yaxis.set_tick_params(which='major', size=10, width=2, direction='in', top='on',labelsize=0)\n",
    "'''\n",
    "\n",
    "ax3 = fig.add_subplot(2,2,3,sharex=ax)\n",
    "\n",
    "xlabel='logLx_int'\n",
    "ylabel='zphabs_nh(10^22)'\n",
    "xerr_label='log_fint_err'\n",
    "yerr_label=None#'zphabs_nh_err'\n",
    "\n",
    "\n",
    "dataplot=xclumpy_result\n",
    "ax3=plot_errorbar(ax3,dataplot,xlabel,ylabel,xerr=xerr_label,yerr=yerr_label,color_n=color_label,marker_n='name',size_n=None,logx=False,logy=False,blank_plot=True)\n",
    "\n",
    "set_ax_tick(ax3) \n",
    "#set_ax_locator(ax,xma=1000,xmi=500,yma=1,ymi=0.5)\n",
    "#set_ax_legend(ax3,bbox_to_anchor=(0.51, 0.99))   \n",
    "#ax.set_ylim(-7,17)\n",
    "#ax.semilogy()\n",
    "\n",
    "ax3.errorbar(42.571191,0.1,yerr=0.05,uplims=True,\n",
    "             fillstyle='none',\n",
    "             marker='o',color='black',ms=11)\n",
    "\n",
    "\n",
    "ax3.semilogy()\n",
    "\n",
    "ax3.set_xlabel(r'log($L_{\\rm 2-10keV}$)')\n",
    "ax3.set_ylabel(r'$N_{\\rm H,los (10^{22} cm^{-2})}$')\n",
    "\n",
    "ax3.set_ylim(-0.1,205)\n",
    "ax3.set_xlim(41.3,43.6)\n",
    "ax.set_ylim(1.21,1.91)\n",
    "\n",
    "#ax2.xaxis.set_tick_params(which='major', size=10, width=2, direction='in', top='on',)\n",
    "#ax2.xaxis.set_tick_params(which='minor', size=5, width=2, direction='in', top='on')\n",
    "#ax2.yaxis.set_tick_params(which='major', size=10, width=2, direction='in', right='on')\n",
    "#ax2.yaxis.set_tick_params(which='minor', size=5, width=2, direction='in', right='on')\n",
    "\n",
    "\n",
    "#ax.set_title('%s model'%model_name)\n",
    "save_lc_img_path=os.path.join('/Users/lyubing/Downloads/OXCLAGN/003_OXCLAGN/pic/Gamma_L_nh_pic/','%s_LX.pdf'%model_name) \n",
    "plt.savefig(save_lc_img_path,dpi=400, transparent=False, bbox_inches='tight')\n",
    "#plt.close()    "
   ]
  },
  {
   "cell_type": "markdown",
   "metadata": {},
   "source": [
    "## plot uxclumpy"
   ]
  },
  {
   "cell_type": "code",
   "execution_count": null,
   "metadata": {
    "ExecuteTime": {
     "end_time": "2023-11-28T12:13:00.238211Z",
     "start_time": "2023-11-28T12:13:00.203347Z"
    }
   },
   "outputs": [],
   "source": [
    "uxclumpy_result=pd.read_excel('/Users/lyubing/Downloads/OXCLAGN/OXCLAGN_jointfit.xlsx',sheet_name='uxclumpy')\n",
    "\n",
    "for i in range(len(uxclumpy_result)):\n",
    "    uxclumpy_result.loc[i,'logmass']= name_mass_dict[uxclumpy_result.loc[i,'name']]\n",
    "uxclumpy_result['logLedd']= np.log10(1.26e38)+uxclumpy_result['logmass']\n",
    "\n",
    "\n",
    "for i in range(len(uxclumpy_result)):\n",
    "    uxclumpy_result.loc[i,'redshift']= name_redshift_dict[uxclumpy_result.loc[i,'name']]\n",
    "    uxclumpy_result.loc[i,'D_cm']= cosmo.luminosity_distance(z=name_redshift_dict[uxclumpy_result.loc[i,'name']]).to(u.cm).value\n",
    "\n",
    "\n",
    "#uxclumpy_result['logLx']=np.log10(4*np.pi)+np.log10(uxclumpy_result['D_cm'])*2.0+uxclumpy_result['log_f']\n",
    "#uxclumpy_result['log_Lx/Ledd']=uxclumpy_result['logLx']-uxclumpy_result['logLedd']    \n"
   ]
  },
  {
   "cell_type": "code",
   "execution_count": null,
   "metadata": {
    "ExecuteTime": {
     "end_time": "2023-11-28T12:13:02.414058Z",
     "start_time": "2023-11-28T12:13:02.396897Z"
    }
   },
   "outputs": [],
   "source": [
    "uxclumpy_result['f_int'] = get_f_intrinsic_zpowerlaw(2.0,10.0,uxclumpy_result['phoindex'],uxclumpy_result['tornorm'],uxclumpy_result['redshift'])  \n",
    "uxclumpy_result['log_f_int']=np.log10(uxclumpy_result['f_int'])\n",
    "\n",
    "uxclumpy_result['logLx_int']=np.log10(4*np.pi)+np.log10(uxclumpy_result['D_cm'])*2.0+uxclumpy_result['log_f_int']\n",
    "uxclumpy_result['log_Lx_int/Ledd']=uxclumpy_result['logLx_int']-uxclumpy_result['logLedd']    \n",
    "\n"
   ]
  },
  {
   "cell_type": "code",
   "execution_count": null,
   "metadata": {
    "ExecuteTime": {
     "end_time": "2023-11-28T02:22:24.482226Z",
     "start_time": "2023-11-28T02:22:24.468909Z"
    }
   },
   "outputs": [],
   "source": [
    "for index,gamma_i in enumerate(uxclumpy_result['phoindex']):\n",
    "    x=ufloat(gamma_i, uxclumpy_result.loc[index]['phoindex_err'])\n",
    "    y=ufloat(uxclumpy_result.loc[index]['tornorm'],uxclumpy_result.loc[index]['tornorm_err'])\n",
    "    z=uxclumpy_result.loc[index]['redshift']\n",
    "    \n",
    "    #logflux=get_logf_intrinsic_zpowerlaw(2.0,10.0,x,y,z)\n",
    "    flux=get_f_intrinsic_zpowerlaw(2.0,10.0,x,y,z)\n",
    "    #print(flux.nominal_value,'+\\-',flux.std_dev)\n",
    "    \n",
    "    #print(np.log10(flux.nominal_value))#,1.0/flux.nominal_value/np.log(10)*flux.std_dev)\n",
    "    print(1.0/flux.nominal_value/np.log(10)*flux.std_dev) #np.log10(flux.nominal_value),\n",
    "    \n"
   ]
  },
  {
   "cell_type": "code",
   "execution_count": null,
   "metadata": {
    "ExecuteTime": {
     "end_time": "2023-11-28T12:13:05.776281Z",
     "start_time": "2023-11-28T12:13:05.768360Z"
    }
   },
   "outputs": [],
   "source": [
    "uxclumpy_result['log_f_err']=uxclumpy_result['log_fint_err']"
   ]
  },
  {
   "cell_type": "code",
   "execution_count": null,
   "metadata": {
    "ExecuteTime": {
     "end_time": "2023-04-11T15:28:36.355534Z",
     "start_time": "2023-04-11T15:28:36.339620Z"
    }
   },
   "outputs": [],
   "source": [
    "uxclumpy_result[['log_Lx/Ledd','log_Lx_int/Ledd']]"
   ]
  },
  {
   "cell_type": "code",
   "execution_count": null,
   "metadata": {
    "ExecuteTime": {
     "end_time": "2023-04-11T15:28:40.202631Z",
     "start_time": "2023-04-11T15:28:40.194043Z"
    }
   },
   "outputs": [],
   "source": [
    "uxclumpy_result.columns"
   ]
  },
  {
   "cell_type": "code",
   "execution_count": null,
   "metadata": {
    "ExecuteTime": {
     "end_time": "2023-07-12T06:37:14.412156Z",
     "start_time": "2023-07-12T06:37:14.403665Z"
    }
   },
   "outputs": [],
   "source": []
  },
  {
   "cell_type": "markdown",
   "metadata": {},
   "source": [
    "### uxclumpy_latex"
   ]
  },
  {
   "cell_type": "markdown",
   "metadata": {
    "ExecuteTime": {
     "end_time": "2023-04-11T15:30:34.140583Z",
     "start_time": "2023-04-11T15:30:34.116131Z"
    }
   },
   "source": [
    "for index,name in enumerate(uxclumpy_result['name']):\n",
    "    if uxclumpy_result['torsigma_err'][index]==-1:\n",
    "        torsigma_err_cmd='$^f$'\n",
    "    else:\n",
    "        torsigma_err_cmd='$\\pm$ %.1f'%uxclumpy_result['torsigma_err'][index]\n",
    "        \n",
    "    print(name,'&',\n",
    "          '%s'%uxclumpy_result['obsid'][index],'&',\n",
    "          '%.2f'%uxclumpy_result['los_nh(10^22)'][index],'$\\pm$', '%.2f'%uxclumpy_result['los_nh_err'][index],'&',\n",
    "              \n",
    "          '%.2f'%uxclumpy_result['phoindex'][index],'$\\pm$', '%.2f'%uxclumpy_result['phoindex_err'][index],'&',\n",
    "          '%.2e'%uxclumpy_result['tornorm'][index],'$\\pm$', '%.2e'%uxclumpy_result['tornorm_err'][index],'&',\n",
    "          \n",
    "          '%.1f'%uxclumpy_result['torsigma'][index]+torsigma_err_cmd ,'&',\n",
    "          \n",
    "          #'%.1f'%uxclumpy_result['highEcut'][index]+uxclumpy_highEcut_err_cmd,'&',\n",
    "          #'%.2f'%uxclumpy_result['zgaussLineE'][index],'$\\pm$', '%.2f'%uxclumpy_result['zgaussLineE_err'][index],'&',\n",
    "          #'%.2f'%uxclumpy_result['zgaussSigma'][index],'$\\pm$', '%.2f'%uxclumpy_result['zgaussSigma_err'][index],'&',\n",
    "          #'%.3f'%uxclumpy_result['rRratio'][index],'$\\pm$', '%.3f'%uxclumpy_result['rRratio_err'][index],'&',\n",
    "          \n",
    "          '%.2f(%d/%d)'%(uxclumpy_result['chi_2'][index]/uxclumpy_result['dof'][index],uxclumpy_result['chi_2'][index],uxclumpy_result['dof'][index]),'&',\n",
    "          '%.3f'%float(uxclumpy_result['log_Lx_int/Ledd'][index]),'$\\pm$','%.3f'%float(uxclumpy_result['log_f_err'][index]),#'&',\n",
    "          #'%.3f'%float(uxclumpy_result['log_Lx_10to50keV/Ledd'][index]),'$\\pm$','%.3f'%float(uxclumpy_result['log_f_err_10to50keV'][index]),\n",
    "          '\\\\\\\\',\n",
    "         )\n",
    "\n",
    "\n"
   ]
  },
  {
   "cell_type": "markdown",
   "metadata": {
    "ExecuteTime": {
     "end_time": "2023-02-19T08:18:32.466564Z",
     "start_time": "2023-02-19T08:18:32.434095Z"
    }
   },
   "source": [
    "for index,name in enumerate(uxclumpy_result['name']):\n",
    "    if uxclumpy_result['torsigma_err'][index]==-1:\n",
    "        torsigma_err_cmd='$^f$'\n",
    "    else:\n",
    "        torsigma_err_cmd='$\\pm$ %.1f'%uxclumpy_result['torsigma_err'][index]\n",
    "        \n",
    "    print(name,'&',\n",
    "          '%s'%uxclumpy_result['obsid'][index],'&',\n",
    "          '%.2f'%uxclumpy_result['los_nh(10^22)'][index],'$\\pm$', '%.2f'%uxclumpy_result['los_nh_err'][index],'&',\n",
    "              \n",
    "          '%.2f'%uxclumpy_result['phoindex'][index],'$\\pm$', '%.2f'%uxclumpy_result['phoindex_err'][index],'&',\n",
    "          #'%.1f'%uxclumpy_result['torsigma'][index]+torsigma_err_cmd ,'&',\n",
    "          \n",
    "          #'%.1f'%uxclumpy_result['highEcut'][index]+uxclumpy_highEcut_err_cmd,'&',\n",
    "          #'%.2f'%uxclumpy_result['zgaussLineE'][index],'$\\pm$', '%.2f'%uxclumpy_result['zgaussLineE_err'][index],'&',\n",
    "          #'%.2f'%uxclumpy_result['zgaussSigma'][index],'$\\pm$', '%.2f'%uxclumpy_result['zgaussSigma_err'][index],'&',\n",
    "          #'%.3f'%uxclumpy_result['rRratio'][index],'$\\pm$', '%.3f'%uxclumpy_result['rRratio_err'][index],'&',\n",
    "          \n",
    "          '%.2f(%d/%d)'%(uxclumpy_result['rechi_2'][index],uxclumpy_result['chi_2'][index],uxclumpy_result['dof'][index]),'&',\n",
    "          '%.3f'%float(uxclumpy_result['log_Lx/Ledd'][index]),'$\\pm$','%.3f'%float(uxclumpy_result['log_f_err'][index]),#'&',\n",
    "          #'%.3f'%float(uxclumpy_result['log_Lx_10to50keV/Ledd'][index]),'$\\pm$','%.3f'%float(uxclumpy_result['log_f_err_10to50keV'][index]),\n",
    "          '\\\\\\\\',\n",
    "         )\n",
    "\n",
    "\n"
   ]
  },
  {
   "cell_type": "code",
   "execution_count": null,
   "metadata": {
    "ExecuteTime": {
     "end_time": "2023-07-28T14:23:27.910524Z",
     "start_time": "2023-07-28T14:23:27.883739Z"
    }
   },
   "outputs": [],
   "source": [
    "for index,name in enumerate(uxclumpy_result['name']):\n",
    "    if name=='NGC4151' or name=='NGC7582':\n",
    "        Cross_str='%.3f'%uxclumpy_result['const_FPTM'][index]+'$\\pm$'+'%.3f'%uxclumpy_result['const_FPTM_err'][index]+'&'\n",
    "        if uxclumpy_result['fscat_err'][index]==-1:\n",
    "            fscatter_cmd='%.2f'%uxclumpy_result['fscat'][index]+'$^f$'+'&'\n",
    "        \n",
    "        elif uxclumpy_result['fscat_err'][index]< uxclumpy_result['fscat'][index]:\n",
    "            \n",
    "            fscatter_cmd='%.2f'%uxclumpy_result['fscat'][index]+'$\\pm$'+'%.2f'%uxclumpy_result['fscat_err'][index]+'&'\n",
    "        else:\n",
    "            fscatter_cmd='%.2f'%uxclumpy_result['fscat'][index]+'$^u$'+'&'      \n",
    "    else:\n",
    "        Cross_str='%.3f'%uxclumpy_result['const_FPTM'][index]+'$\\pm$'+'%.3f'%uxclumpy_result['const_FPTM_err'][index]+'/'+'%.3f'%uxclumpy_result['const_FPTM3'][index]+'$\\pm$'+ '%.3f'%uxclumpy_result['const_FPTM3_err'][index]+' &'\n",
    "        fscatter_cmd='%.0e'%uxclumpy_result['fscat'][index]+'$^f$'+'&'\n",
    "        #fscatter_cmd='- &'\n",
    "\n",
    "\n",
    "    if uxclumpy_result['los_nh_err'][index]==-1:\n",
    "        los_nh_err_cmd='$^f$'\n",
    "    else:\n",
    "        los_nh_err_cmd='$\\pm$'+'%.2f'%uxclumpy_result['los_nh_err'][index]\n",
    "        \n",
    "\n",
    "    if uxclumpy_result['highEcut_err'][index]==-1:\n",
    "        uxclumpy_highEcut_err_cmd='$^f$'\n",
    "    else:\n",
    "        uxclumpy_highEcut_err_cmd='$\\pm$'+'%.2f'%uxclumpy_result['highEcut_err'][index]\n",
    "        \n",
    "        \n",
    "\n",
    "    #\\multirow{2}*\n",
    "    print(#name,'&',\n",
    "          #'%s'%uxclumpy_result['obsid'][index],'&',\n",
    "          '\\multirow{2}*{N%d}'%(index+1),'&',\n",
    "          Cross_str,\n",
    "        \n",
    "    #print(name,'&',\n",
    "          #'%s'%uxclumpy_result['obsid'][index],'&',\n",
    "          '%.2f'%uxclumpy_result['los_nh(10^22)'][index]+los_nh_err_cmd+'&',\n",
    "          #'%.0f'%(uxclumpy_result['torus_nh(10^24)'][index]*100),'$\\pm$', '%.0f'%(uxclumpy_result['torus_nh_err'][index]*100),'&',\n",
    "       \n",
    "          \n",
    "          \n",
    "          '%.2f'%uxclumpy_result['phoindex'][index],'$\\pm$', '%.2f'%uxclumpy_result['phoindex_err'][index],'&',\n",
    "          #'%.1f'%uxclumpy_result['highEcut'][index]+uxclumpy_highEcut_err_cmd,'&',          \n",
    "          \n",
    "          '%.2e'%uxclumpy_result['tornorm'][index],'$\\pm$', '%.2e'%uxclumpy_result['tornorm_err'][index],'&',\n",
    "          \n",
    "           '%.2f'%uxclumpy_result['torsigma'][index],'$\\pm$', '%.2f'%uxclumpy_result['torsigma_err'][index],'&', \n",
    "           '%.2f'%uxclumpy_result['CTKcover'][index],'$\\pm$', '%.2f'%uxclumpy_result['CTKcover_err'][index],'&',\n",
    "           \n",
    "        \n",
    "          #'%.2f'%uxclumpy_result['IncAng'][index],'$\\pm$', '%.2f'%uxclumpy_result['IncAng_err'][index],'&',\n",
    "          \n",
    "           '\\\\\\\\','\\n & ',\n",
    "        \n",
    "           #'%.2f'%uxclumpy_result['As'][index],'$\\pm$', '%.2f'%uxclumpy_result['As_err'][index],'&',\n",
    "          \n",
    "            fscatter_cmd,\n",
    "            \n",
    "                    \n",
    "        \n",
    "          #'%.2f'%uxclumpy_result['zgaussLineE'][index],'$\\pm$', '%.2f'%uxclumpy_result['zgaussLineE_err'][index],'&',\n",
    "          #'%.2f'%uxclumpy_result['zgaussSigma'][index],'$\\pm$', '%.2f'%uxclumpy_result['zgaussSigma_err'][index],'&',\n",
    "          #'%.3f'%uxclumpy_result['rRratio'][index],'$\\pm$', '%.3f'%uxclumpy_result['rRratio_err'][index],'&',\n",
    "          \n",
    "          \n",
    "          '%.2f(%d/%d)'%(uxclumpy_result['chi_2'][index]/uxclumpy_result['dof'][index],uxclumpy_result['chi_2'][index],uxclumpy_result['dof'][index]),'&',\n",
    "          '%.3f'%float(uxclumpy_result['log_f_int'][index]),'$\\pm$','%.3f'%float(uxclumpy_result['log_f_err'][index]),'&',\n",
    "          \n",
    "          '%.3f'%float(uxclumpy_result['logLx_int'][index]),'$\\pm$','%.3f'%float(uxclumpy_result['log_f_err'][index]),#'&',\n",
    "          #'%.3f'%float(uxclumpy_result['log_Lx_10to50keV/Ledd'][index]),'$\\pm$','%.3f'%float(uxclumpy_result['log_f_err_10to50keV'][index]),\n",
    "          '\\\\\\\\',\n",
    "         )\n",
    "\n"
   ]
  },
  {
   "cell_type": "code",
   "execution_count": null,
   "metadata": {},
   "outputs": [],
   "source": []
  },
  {
   "cell_type": "code",
   "execution_count": null,
   "metadata": {},
   "outputs": [],
   "source": []
  },
  {
   "cell_type": "code",
   "execution_count": null,
   "metadata": {},
   "outputs": [],
   "source": []
  },
  {
   "cell_type": "code",
   "execution_count": null,
   "metadata": {},
   "outputs": [],
   "source": []
  },
  {
   "cell_type": "code",
   "execution_count": null,
   "metadata": {
    "ExecuteTime": {
     "end_time": "2023-02-10T15:06:53.964760Z",
     "start_time": "2023-02-10T15:06:53.951682Z"
    }
   },
   "outputs": [],
   "source": [
    "uxclumpy_result.columns"
   ]
  },
  {
   "cell_type": "code",
   "execution_count": null,
   "metadata": {
    "ExecuteTime": {
     "end_time": "2023-02-01T12:43:47.467277Z",
     "start_time": "2023-02-01T12:43:46.101563Z"
    }
   },
   "outputs": [],
   "source": [
    "fig = plt.figure(figsize=(12,12))\n",
    "fig.subplots_adjust(hspace=0.3, wspace = 0.5)\n",
    "\n",
    "\n",
    "ax = fig.add_subplot(2,2,1)\n",
    "\n",
    "xlabel='log_Lx/Ledd'\n",
    "ylabel='phoindex'\n",
    "xerr_label='log_f_err'\n",
    "yerr_label='phoindex_err'\n",
    "color_label='los_nh(10^22)'\n",
    "#dataplot=slab_zgauss_result\n",
    "#ax=plot_errorbar_cmap(ax,dataplot,xlabel,ylabel,xerr=xerr_label,yerr=yerr_label,color_n=color_label,marker_n='name',size_n=None,logx=False,logy=False)\n",
    "dataplot=uxclumpy_result\n",
    "ax=plot_errorbar_cmap(ax,dataplot,xlabel,ylabel,xerr=xerr_label,yerr=yerr_label,color_n=color_label,marker_n='name',size_n=None,logx=False,logy=False)\n",
    "set_ax_tick(ax) \n",
    "#set_ax_locator(ax,xma=1000,xmi=500,yma=1,ymi=0.5)\n",
    "set_ax_legend(ax,bbox_to_anchor=(0.01, 0.99))   \n",
    "#ax.set_ylim(-7,17)\n",
    "ax.set_xlabel(xlabel)\n",
    "ax.set_ylabel(ylabel)\n",
    "#ax.set_title('UXCLUMPY model')\n",
    "\n",
    "\n",
    "ax = fig.add_subplot(2,2,2)\n",
    "\n",
    "xlabel='log_Lx/Ledd'\n",
    "ylabel='los_nh(10^22)'\n",
    "xerr_label='log_f_err'\n",
    "yerr_label='los_nh_err'#'zphabs_nh_err'\n",
    "color_label='phoindex'\n",
    "\n",
    "dataplot=uxclumpy_result\n",
    "ax=plot_errorbar_cmap(ax,dataplot,xlabel,ylabel,xerr=xerr_label,yerr=yerr_label,color_n=color_label,marker_n='name',size_n=None,logx=False,logy=False)\n",
    "\n",
    "set_ax_tick(ax) \n",
    "#set_ax_locator(ax,xma=1000,xmi=500,yma=1,ymi=0.5)\n",
    "set_ax_legend(ax,bbox_to_anchor=(0.51, 0.99))   \n",
    "#ax.set_ylim(-7,17)\n",
    "#ax.semilogy()\n",
    "ax.set_xlabel(xlabel)\n",
    "ax.set_ylabel(ylabel)\n",
    "\n",
    "\n",
    "ax = fig.add_subplot(2,2,3)\n",
    "xlabel='los_nh(10^22)'\n",
    "ylabel='phoindex'\n",
    "xerr_label='los_nh_err'\n",
    "yerr_label='phoindex_err'\n",
    "color_label='log_Lx/Ledd'\n",
    "\n",
    "dataplot=uxclumpy_result\n",
    "ax=plot_errorbar_cmap(ax,dataplot,xlabel,ylabel,xerr=xerr_label,yerr=yerr_label,color_n=color_label,marker_n='name',size_n=None,logx=False,logy=False)\n",
    "set_ax_tick(ax) \n",
    "#set_ax_locator(ax,xma=1000,xmi=500,yma=1,ymi=0.5)\n",
    "set_ax_legend(ax,bbox_to_anchor=(0.51, 0.99))   \n",
    "#ax.set_ylim(-0.1,0.5)\n",
    "ax.set_xlabel(xlabel)\n",
    "ax.set_ylabel(ylabel)\n",
    "\n",
    "\n",
    "'''ax = fig.add_subplot(2,2,4)\n",
    "xlabel='log_Lx/Ledd'\n",
    "ylabel='torsigma'\n",
    "xerr_label='log_f_err'\n",
    "yerr_label='torsigma_err'\n",
    "color_label='phoindex'\n",
    "dataplot=uxclumpy_result\n",
    "ax=plot_errorbar_cmap(ax,dataplot,xlabel,ylabel,xerr=xerr_label,yerr=yerr_label,color_n=color_label,marker_n='name',size_n=None,logx=False,logy=False)\n",
    "set_ax_tick(ax) \n",
    "#set_ax_locator(ax,xma=1000,xmi=500,yma=1,ymi=0.5)\n",
    "set_ax_legend(ax,bbox_to_anchor=(0.11, 0.99))   \n",
    "#ax.set_ylim(-0.1,0.5)\n",
    "ax.set_xlabel(xlabel)\n",
    "ax.set_ylabel(ylabel)'''\n",
    "\n",
    "model_name='UXclumpy'\n",
    "#ax.set_title('%s model'%model_name)\n",
    "plt.title('%s model'%model_name)\n",
    "save_lc_img_path=os.path.join('/Users/lyubing/Downloads/','%s_cmap.png'%model_name) \n",
    "plt.savefig(save_lc_img_path,dpi=400, transparent=False, bbox_inches='tight')\n",
    "#plt.close()  \n"
   ]
  },
  {
   "cell_type": "code",
   "execution_count": null,
   "metadata": {
    "ExecuteTime": {
     "end_time": "2023-01-29T07:48:46.418436Z",
     "start_time": "2023-01-29T07:48:46.406801Z"
    }
   },
   "outputs": [],
   "source": [
    "uxclumpy_result.columns"
   ]
  },
  {
   "cell_type": "code",
   "execution_count": null,
   "metadata": {
    "ExecuteTime": {
     "end_time": "2023-01-29T08:14:52.828052Z",
     "start_time": "2023-01-29T08:14:52.638191Z"
    }
   },
   "outputs": [],
   "source": [
    "figure_n= 1\n",
    "fig = plt.figure(figsize=(6,figure_n*6))\n",
    "fig.subplots_adjust(hspace=0.0, wspace = 0.0)\n",
    "ax = fig.add_subplot(figure_n,1,1)\n",
    "\n",
    "xlabel='Theta_inc'\n",
    "ylabel='los_nh(10^22)'\n",
    "xerr_label=None#'log_f_err'\n",
    "yerr_label='los_nh_err'#'zphabs_nh_err'\n",
    "color_label='logLx'\n",
    "\n",
    "dataplot=uxclumpy_result\n",
    "ax=plot_errorbar_cmap(ax,dataplot,xlabel,ylabel,xerr=xerr_label,yerr=yerr_label,color_n=color_label,marker_n='name',size_n=None,logx=False,logy=False)\n",
    "\n",
    "set_ax_tick(ax) \n",
    "#set_ax_locator(ax,xma=1000,xmi=500,yma=1,ymi=0.5)\n",
    "set_ax_legend(ax,bbox_to_anchor=(0.01, 0.99))   \n",
    "#ax.set_ylim(-7,17)\n",
    "#ax.semilogy()\n",
    "ax.set_xlabel(xlabel)\n",
    "ax.set_ylabel(ylabel)\n",
    "ax.set_title('uxclumpy')\n"
   ]
  },
  {
   "cell_type": "markdown",
   "metadata": {},
   "source": [
    "### plot3para"
   ]
  },
  {
   "cell_type": "code",
   "execution_count": null,
   "metadata": {
    "ExecuteTime": {
     "end_time": "2023-07-29T14:11:23.618919Z",
     "start_time": "2023-07-29T14:11:23.039839Z"
    }
   },
   "outputs": [],
   "source": [
    "fig = plt.figure(figsize=(6,6))\n",
    "fig.subplots_adjust(hspace=0., wspace = 0.)\n",
    "ax = fig.add_subplot(2,2,1)\n",
    "\n",
    "\n",
    "\n",
    "xlabel='log_Lx_int/Ledd'\n",
    "ylabel='phoindex'\n",
    "xerr_label='log_fint_err'\n",
    "yerr_label='phoindex_err'\n",
    "color_label='grey'\n",
    "\n",
    "dataplot=uxclumpy_result\n",
    "ax=plot_errorbar(ax,dataplot,xlabel,ylabel,xerr=xerr_label,yerr=yerr_label,color_n=color_label,marker_n='name',size_n=None,logx=False,logy=False,blank_plot=True)\n",
    "set_ax_tick(ax) \n",
    "set_ax_locator(ax,xma=1.0,xmi=0.2,yma=0.2,ymi=0.1)\n",
    "#set_ax_legend(ax,bbox_to_anchor=(0.01, 0.99))   \n",
    "#ax.set_ylim(-7,17)\n",
    "#ax.set_xlabel(r'log($L_{\\rm X}/L_{\\rm Edd}$)')\n",
    "ax.set_ylabel(r'$\\Gamma$')\n",
    "ax.set_ylim(1.11,1.99)\n",
    "model_name='UXCLUMPY'\n",
    "ax.set_title('%s'%model_name)\n",
    "\n",
    "\n",
    "'''ax2 = fig.add_subplot(2,2,2,sharey=ax)\n",
    "xlabel='los_nh(10^22)'\n",
    "ylabel='phoindex'\n",
    "xerr_label='los_nh_err'\n",
    "yerr_label='phoindex_err'\n",
    "\n",
    "\n",
    "dataplot=uxclumpy_result\n",
    "ax2=plot_errorbar(ax2,dataplot,xlabel,ylabel,xerr=xerr_label,yerr=yerr_label,color_n=color_label,marker_n='name',size_n=None,logx=False,logy=False,blank_plot=True)\n",
    "set_ax_tick(ax2) \n",
    "#set_ax_locator(ax,xma=1000,xmi=500,yma=1,ymi=0.5)\n",
    "#set_ax_legend(ax2,bbox_to_anchor=(0.51, 0.99))   \n",
    "#ax.set_ylim(-0.1,0.5)\n",
    "ax2.set_xlabel(r'$N_{\\rm H,los (10^{22} cm^{-2})}$')\n",
    "#ax2.set_ylabel(r'$\\Gamma$')\n",
    "#ax2.yaxis.set_major_formatter(ticker.NullFormatter())\n",
    "set_ax_locator(ax2,xma=15,xmi=5,yma=0.2,ymi=0.1)\n",
    "ax2.yaxis.set_tick_params(which='major', size=10, width=2, direction='in', top='on',labelsize=0)\n",
    "'''\n",
    "\n",
    "ax3 = fig.add_subplot(2,2,3,sharex=ax)\n",
    "\n",
    "xlabel='log_Lx_int/Ledd'\n",
    "ylabel='los_nh(10^22)'\n",
    "xerr_label='log_fint_err'\n",
    "yerr_label='los_nh_err'#'zphabs_nh_err'\n",
    "\n",
    "dataplot=uxclumpy_result\n",
    "ax3=plot_errorbar(ax3,dataplot,xlabel,ylabel,xerr=xerr_label,yerr=yerr_label,color_n=color_label,marker_n='name',size_n=None,logx=False,logy=False,blank_plot=True)\n",
    "\n",
    "set_ax_tick(ax3) \n",
    "#set_ax_locator(ax,xma=1000,xmi=500,yma=1,ymi=0.5)\n",
    "#set_ax_legend(ax3,bbox_to_anchor=(0.51, 0.99))   \n",
    "#ax.set_ylim(-7,17)\n",
    "#ax.semilogy()\n",
    "ax3.set_xlabel(r'log($L_{\\rm 2-10keV}/L_{\\rm Edd}$)')\n",
    "ax3.set_ylabel(r'$N_{\\rm H,los (10^{22} cm^{-2})}$')\n",
    "ax3.semilogy()\n",
    "ax3.set_ylim(-0.1,205)\n",
    "ax3.set_xlim(-4.5,-1.8)\n",
    "ax.set_ylim(1.21,1.91)\n",
    "\n",
    "#ax2.xaxis.set_tick_params(which='major', size=10, width=2, direction='in', top='on',)\n",
    "#ax2.xaxis.set_tick_params(which='minor', size=5, width=2, direction='in', top='on')\n",
    "#ax2.yaxis.set_tick_params(which='major', size=10, width=2, direction='in', right='on')\n",
    "#ax2.yaxis.set_tick_params(which='minor', size=5, width=2, direction='in', right='on')\n",
    "\n",
    "\n",
    "#ax.set_title('%s model'%model_name)\n",
    "save_lc_img_path=os.path.join('/Users/lyubing/Downloads/OXCLAGN/003_OXCLAGN/pic/Gamma_L_nh_pic/','%s.pdf'%model_name) \n",
    "plt.savefig(save_lc_img_path,dpi=400, transparent=False, bbox_inches='tight')\n",
    "#plt.close()    "
   ]
  },
  {
   "cell_type": "code",
   "execution_count": null,
   "metadata": {
    "ExecuteTime": {
     "end_time": "2023-08-09T12:52:22.212451Z",
     "start_time": "2023-08-09T12:52:22.208109Z"
    }
   },
   "outputs": [],
   "source": [
    "uxclumpy_result['logLx_int']"
   ]
  },
  {
   "cell_type": "markdown",
   "metadata": {},
   "source": [
    "### plot LX"
   ]
  },
  {
   "cell_type": "code",
   "execution_count": null,
   "metadata": {
    "ExecuteTime": {
     "end_time": "2023-08-09T15:09:48.225635Z",
     "start_time": "2023-08-09T15:09:47.509876Z"
    }
   },
   "outputs": [],
   "source": [
    "fig = plt.figure(figsize=(6,6))\n",
    "fig.subplots_adjust(hspace=0., wspace = 0.)\n",
    "ax = fig.add_subplot(2,2,1)\n",
    "\n",
    "\n",
    "\n",
    "xlabel='logLx_int'\n",
    "ylabel='phoindex'\n",
    "xerr_label='log_fint_err'\n",
    "yerr_label='phoindex_err'\n",
    "color_label='black'\n",
    "\n",
    "dataplot=uxclumpy_result\n",
    "ax=plot_errorbar(ax,dataplot,xlabel,ylabel,xerr=xerr_label,yerr=yerr_label,color_n=color_label,marker_n='name',size_n=None,logx=False,logy=False,blank_plot=True)\n",
    "set_ax_tick(ax) \n",
    "set_ax_locator(ax,xma=1.0,xmi=0.2,yma=0.2,ymi=0.1)\n",
    "#set_ax_legend(ax,bbox_to_anchor=(0.01, 0.99))   \n",
    "#ax.set_ylim(-7,17)\n",
    "#ax.set_xlabel(r'log($L_{\\rm X}/L_{\\rm Edd}$)')\n",
    "ax.set_ylabel(r'$\\Gamma$')\n",
    "ax.set_ylim(1.11,1.99)\n",
    "model_name='UXCLUMPY'\n",
    "ax.set_title('%s'%model_name)\n",
    "\n",
    "\n",
    "'''ax2 = fig.add_subplot(2,2,2,sharey=ax)\n",
    "xlabel='los_nh(10^22)'\n",
    "ylabel='phoindex'\n",
    "xerr_label='los_nh_err'\n",
    "yerr_label='phoindex_err'\n",
    "\n",
    "\n",
    "dataplot=uxclumpy_result\n",
    "ax2=plot_errorbar(ax2,dataplot,xlabel,ylabel,xerr=xerr_label,yerr=yerr_label,color_n=color_label,marker_n='name',size_n=None,logx=False,logy=False,blank_plot=True)\n",
    "set_ax_tick(ax2) \n",
    "#set_ax_locator(ax,xma=1000,xmi=500,yma=1,ymi=0.5)\n",
    "#set_ax_legend(ax2,bbox_to_anchor=(0.51, 0.99))   \n",
    "#ax.set_ylim(-0.1,0.5)\n",
    "ax2.set_xlabel(r'$N_{\\rm H,los (10^{22} cm^{-2})}$')\n",
    "#ax2.set_ylabel(r'$\\Gamma$')\n",
    "#ax2.yaxis.set_major_formatter(ticker.NullFormatter())\n",
    "set_ax_locator(ax2,xma=15,xmi=5,yma=0.2,ymi=0.1)\n",
    "ax2.yaxis.set_tick_params(which='major', size=10, width=2, direction='in', top='on',labelsize=0)\n",
    "'''\n",
    "\n",
    "ax3 = fig.add_subplot(2,2,3,sharex=ax)\n",
    "\n",
    "xlabel='logLx_int'\n",
    "ylabel='los_nh(10^22)'\n",
    "xerr_label='log_fint_err'\n",
    "yerr_label='los_nh_err'#'zphabs_nh_err'\n",
    "\n",
    "dataplot=uxclumpy_result\n",
    "ax3=plot_errorbar(ax3,dataplot,xlabel,ylabel,xerr=xerr_label,yerr=yerr_label,color_n=color_label,marker_n='name',size_n=None,logx=False,logy=False,blank_plot=True)\n",
    "\n",
    "set_ax_tick(ax3) \n",
    "#set_ax_locator(ax,xma=1000,xmi=500,yma=1,ymi=0.5)\n",
    "#set_ax_legend(ax3,bbox_to_anchor=(0.51, 0.99))   \n",
    "#ax.set_ylim(-7,17)\n",
    "#ax.semilogy()\n",
    "ax3.set_xlabel(r'log($L_{\\rm 2-10keV}$)')\n",
    "ax3.set_ylabel(r'$N_{\\rm H,los (10^{22} cm^{-2})}$')\n",
    "ax3.semilogy()\n",
    "ax3.set_ylim(-0.1,205)\n",
    "ax3.set_xlim(41.3,43.6)\n",
    "ax.set_ylim(1.21,1.91)\n",
    "\n",
    "#ax2.xaxis.set_tick_params(which='major', size=10, width=2, direction='in', top='on',)\n",
    "#ax2.xaxis.set_tick_params(which='minor', size=5, width=2, direction='in', top='on')\n",
    "#ax2.yaxis.set_tick_params(which='major', size=10, width=2, direction='in', right='on')\n",
    "#ax2.yaxis.set_tick_params(which='minor', size=5, width=2, direction='in', right='on')\n",
    "\n",
    "\n",
    "#ax.set_title('%s model'%model_name)\n",
    "save_lc_img_path=os.path.join('/Users/lyubing/Downloads/OXCLAGN/003_OXCLAGN/pic/Gamma_L_nh_pic/','%s_LX.pdf'%model_name) \n",
    "plt.savefig(save_lc_img_path,dpi=400, transparent=False, bbox_inches='tight')\n",
    "#plt.close()    "
   ]
  },
  {
   "cell_type": "markdown",
   "metadata": {},
   "source": [
    "## borus02"
   ]
  },
  {
   "cell_type": "code",
   "execution_count": null,
   "metadata": {
    "ExecuteTime": {
     "end_time": "2023-11-28T12:12:53.563733Z",
     "start_time": "2023-11-28T12:12:53.510741Z"
    }
   },
   "outputs": [],
   "source": [
    "borus_result=pd.read_excel('/Users/lyubing/Downloads/OXCLAGN/OXCLAGN_jointfit.xlsx',sheet_name='borus02')\n",
    "\n",
    "for i in range(len(borus_result)):\n",
    "    borus_result.loc[i,'logmass']= name_mass_dict[borus_result.loc[i,'name']]\n",
    "borus_result['logLedd']= np.log10(1.26e38)+borus_result['logmass']\n",
    "\n",
    "\n",
    "for i in range(len(borus_result)):\n",
    "    borus_result.loc[i,'redshift']= name_redshift_dict[borus_result.loc[i,'name']]\n",
    "    borus_result.loc[i,'D_cm']= cosmo.luminosity_distance(z=name_redshift_dict[borus_result.loc[i,'name']]).to(u.cm).value\n",
    "\n",
    "#borus_result['logLx']=np.log10(4*np.pi)+np.log10(borus_result['D_cm'])*2.0+borus_result['log_f']\n",
    "#borus_result['log_Lx/Ledd']=borus_result['logLx']-borus_result['logLedd']\n",
    "    \n"
   ]
  },
  {
   "cell_type": "code",
   "execution_count": null,
   "metadata": {
    "ExecuteTime": {
     "end_time": "2023-07-13T12:28:22.566457Z",
     "start_time": "2023-07-13T12:28:22.556259Z"
    }
   },
   "outputs": [],
   "source": [
    "borus_result.columns"
   ]
  },
  {
   "cell_type": "code",
   "execution_count": null,
   "metadata": {
    "ExecuteTime": {
     "end_time": "2023-11-28T12:12:55.187131Z",
     "start_time": "2023-11-28T12:12:55.170308Z"
    }
   },
   "outputs": [],
   "source": [
    "borus_result['f_int'] = get_f_intrinsic_zpowerlaw(2.0,10.0,borus_result['phoindex'],borus_result['borusnorm'],borus_result['redshift'])\n",
    "borus_result['log_f_int']=np.log10(borus_result['f_int'])\n",
    "\n",
    "borus_result['logLx_int']=np.log10(4*np.pi)+np.log10(borus_result['D_cm'])*2.0+borus_result['log_f_int']\n",
    "borus_result['log_Lx_int/Ledd']=borus_result['logLx_int']-borus_result['logLedd']"
   ]
  },
  {
   "cell_type": "code",
   "execution_count": null,
   "metadata": {
    "ExecuteTime": {
     "end_time": "2023-07-13T12:28:24.387090Z",
     "start_time": "2023-07-13T12:28:24.374311Z"
    }
   },
   "outputs": [],
   "source": [
    "borus_result['log_f_int']"
   ]
  },
  {
   "cell_type": "code",
   "execution_count": null,
   "metadata": {
    "ExecuteTime": {
     "end_time": "2023-07-28T08:14:41.544954Z",
     "start_time": "2023-07-28T08:14:41.518650Z"
    }
   },
   "outputs": [],
   "source": [
    "for index,gamma_i in enumerate(borus_result['phoindex']):\n",
    "    x=ufloat(gamma_i, borus_result.loc[index]['phoindex_err'])\n",
    "    y=ufloat(borus_result.loc[index]['borusnorm'],borus_result.loc[index]['borusnorm_err'])\n",
    "    z=borus_result.loc[index]['redshift']\n",
    "    \n",
    "    #logflux=get_logf_intrinsic_zpowerlaw(2.0,10.0,x,y,z)\n",
    "    flux=get_f_intrinsic_zpowerlaw(2.0,10.0,x,y,z)\n",
    "    #print(flux.nominal_value,'+\\-',flux.std_dev)\n",
    "    \n",
    "    #print(np.log10(flux.nominal_value))#,1.0/flux.nominal_value/np.log(10)*flux.std_dev)\n",
    "    print(1.0/flux.nominal_value/np.log(10)*flux.std_dev) #np.log10(flux.nominal_value),\n"
   ]
  },
  {
   "cell_type": "code",
   "execution_count": null,
   "metadata": {},
   "outputs": [],
   "source": []
  },
  {
   "cell_type": "markdown",
   "metadata": {
    "ExecuteTime": {
     "end_time": "2023-07-12T05:40:48.514499Z",
     "start_time": "2023-07-12T05:40:48.463764Z"
    }
   },
   "source": [
    "borus_result[['log_Lx/Ledd','log_Lx_int/Ledd']]"
   ]
  },
  {
   "cell_type": "code",
   "execution_count": null,
   "metadata": {
    "ExecuteTime": {
     "end_time": "2023-11-28T12:12:56.894660Z",
     "start_time": "2023-11-28T12:12:56.885342Z"
    }
   },
   "outputs": [],
   "source": [
    "borus_result['log_f_err']=borus_result['log_fint_err']"
   ]
  },
  {
   "cell_type": "code",
   "execution_count": null,
   "metadata": {
    "ExecuteTime": {
     "end_time": "2023-07-13T12:28:29.439757Z",
     "start_time": "2023-07-13T12:28:29.428169Z"
    }
   },
   "outputs": [],
   "source": [
    "borus_result['log_f_err']"
   ]
  },
  {
   "cell_type": "markdown",
   "metadata": {},
   "source": [
    "### borus_latex"
   ]
  },
  {
   "cell_type": "markdown",
   "metadata": {
    "ExecuteTime": {
     "end_time": "2023-04-11T15:51:38.882754Z",
     "start_time": "2023-04-11T15:51:38.857998Z"
    }
   },
   "source": [
    "for index,name in enumerate(borus_result['name']):\n",
    "    if borus_result['highEcut_err'][index]==-1:\n",
    "        borus_highEcut_err_cmd='$^f$'\n",
    "    else:\n",
    "        borus_highEcut_err_cmd='$\\pm$'+'%.1f'%borus_result['highEcut_err'][index]\n",
    "          \n",
    "    print(name,'&',\n",
    "          '%s'%borus_result['obsid'][index],'&',\n",
    "          '%.2f'%borus_result['zphabs_nh(10^22)'][index],'$\\pm$', '%.1f'%borus_result['zphabs_nh_err'][index],'&',\n",
    "          '%.2f'%borus_result['logNHtor'][index],'$\\pm$', '%.2f'%borus_result['logNHtor_err'][index],'&',\n",
    "          \n",
    "          '%.2f'%borus_result['phoindex'][index],'$\\pm$', '%.2f'%borus_result['phoindex_err'][index],'&',\n",
    "\n",
    "          '%.1f'%borus_result['highEcut'][index]+borus_highEcut_err_cmd,'&',\n",
    "          '%.2e'%borus_result['borusnorm'][index],'$\\pm$', '%.2e'%borus_result['borusnorm_err'][index],'&',\n",
    "          #'%.2f'%borus_result['zgaussLineE'][index],'$\\pm$', '%.2f'%borus_result['zgaussLineE_err'][index],'&',\n",
    "          #'%.2f'%borus_result['zgaussSigma'][index],'$\\pm$', '%.2f'%borus_result['zgaussSigma_err'][index],'&',\n",
    "         # '%.3f'%borus_result['rRratio'][index],'$\\pm$', '%.3f'%borus_result['rRratio_err'][index],'&',\n",
    "          \n",
    "          \n",
    "          '%.2f'%borus_result['CFtor'][index],'$\\pm$', '%.2f'%borus_result['CFtor_err'][index],'&',\n",
    "          \n",
    "          '%.2f(%d/%d)'%(borus_result['chi_2'][index]/borus_result['dof'][index],borus_result['chi_2'][index],borus_result['dof'][index]),'&',\n",
    "          '%.3f'%float(borus_result['log_Lx_int/Ledd'][index]),'$\\pm$','%.3f'%float(borus_result['log_f_err'][index]),#'&',\n",
    "          #'%.3f'%float(borus_result['log_Lx_10to50keV/Ledd'][index]),'$\\pm$','%.3f'%float(borus_result['log_f_err_10to50keV'][index]),\n",
    "          '\\\\\\\\',\n",
    "         )\n"
   ]
  },
  {
   "cell_type": "code",
   "execution_count": null,
   "metadata": {
    "ExecuteTime": {
     "end_time": "2023-07-13T12:28:33.106507Z",
     "start_time": "2023-07-13T12:28:33.074125Z"
    }
   },
   "outputs": [],
   "source": [
    "for index,name in enumerate(borus_result['name']):\n",
    "    if name=='NGC4151' or name=='NGC7582':\n",
    "        Cross_str='%.3f'%borus_result['const_FPTM'][index]+'$\\pm$'+'%.3f'%borus_result['const_FPTM_err'][index]+'&'\n",
    "        fscatter_cmd='%.2f'%borus_result['fscatter'][index]+'$\\pm$'+'%.2f'%borus_result['fscatter_err'][index]+'&'\n",
    "    else:\n",
    "        Cross_str='%.3f'%borus_result['const_FPTM'][index]+'$\\pm$'+'%.3f'%borus_result['const_FPTM_err'][index]+'/'+'%.3f'%borus_result['const_FPTM3'][index]+'$\\pm$'+ '%.3f'%borus_result['const_FPTM3_err'][index]+' &'\n",
    "        fscatter_cmd='- &'\n",
    " \n",
    "\n",
    "    if borus_result['zphabs_nh_err'][index]==-1:\n",
    "        los_nh_err_cmd='$^f$'\n",
    "    else:\n",
    "        los_nh_err_cmd='$\\pm$'+'%.2f'%borus_result['zphabs_nh_err'][index]\n",
    "        \n",
    "    if borus_result['highEcut_err'][index]==-1:\n",
    "        borus_highEcut_err_cmd='$^f$'\n",
    "    else:\n",
    "        borus_highEcut_err_cmd='$\\pm$'+'%.0f'%borus_result['highEcut_err'][index]\n",
    "    \n",
    "    \n",
    "      \n",
    "    \n",
    "\n",
    "    #\\multirow{2}*\n",
    "    print(#name,'&',\n",
    "          #'%s'%borus_result['obsid'][index],'&',\n",
    "          '\\multirow{2}*{N%d}'%(index+1),'&',\n",
    "          Cross_str,\n",
    "        \n",
    "    #print(name,'&',\n",
    "          #'%s'%borus_result['obsid'][index],'&',\n",
    "          '%.2f'%borus_result['zphabs_nh(10^22)'][index]+los_nh_err_cmd+'&',\n",
    "          '%.2f'%(borus_result['logNHtor'][index]),'$\\pm$', '%.2f'%(borus_result['logNHtor_err'][index]),'&',\n",
    "       \n",
    "          \n",
    "          \n",
    "          '%.2f'%borus_result['phoindex'][index],'$\\pm$', '%.2f'%borus_result['phoindex_err'][index],'&',\n",
    "          '%.0f'%borus_result['highEcut'][index]+borus_highEcut_err_cmd,'&',\n",
    "          '%.2e'%borus_result['borusnorm'][index],'$\\pm$', '%.2e'%borus_result['borusnorm_err'][index],'&',\n",
    "          \n",
    "          #'%.2f'%borus_result['IncAng'][index],'$\\pm$', '%.2f'%borus_result['IncAng_err'][index],'&',\n",
    "          \n",
    "           '\\\\\\\\','\\n & ',\n",
    "           '%.2f'%borus_result['CFtor'][index],'$\\pm$', '%.2f'%borus_result['CFtor_err'][index],'&',\n",
    "           #'%.2f'%borus_result['As'][index],'$\\pm$', '%.2f'%borus_result['As_err'][index],'&',\n",
    "          \n",
    "            fscatter_cmd,\n",
    "            \n",
    "                  \n",
    "          \n",
    "          #'%.2f'%borus_result['zgaussLineE'][index],'$\\pm$', '%.2f'%borus_result['zgaussLineE_err'][index],'&',\n",
    "          #'%.2f'%borus_result['zgaussSigma'][index],'$\\pm$', '%.2f'%borus_result['zgaussSigma_err'][index],'&',\n",
    "          #'%.3f'%borus_result['rRratio'][index],'$\\pm$', '%.3f'%borus_result['rRratio_err'][index],'&',\n",
    "          \n",
    "          \n",
    "          '%.2f(%d/%d)'%(borus_result['chi_2'][index]/borus_result['dof'][index],borus_result['chi_2'][index],borus_result['dof'][index]),'&',\n",
    "          '%.3f'%float(borus_result['log_f_int'][index]),'$\\pm$','%.3f'%float(borus_result['log_f_err'][index]),'&',\n",
    "          \n",
    "          '%.3f'%float(borus_result['logLx_int'][index]),'$\\pm$','%.3f'%float(borus_result['log_f_err'][index]),#'&',\n",
    "          #'%.3f'%float(borus_result['log_Lx_10to50keV/Ledd'][index]),'$\\pm$','%.3f'%float(borus_result['log_f_err_10to50keV'][index]),\n",
    "          '\\\\\\\\',\n",
    "         )\n",
    "\n"
   ]
  },
  {
   "cell_type": "code",
   "execution_count": null,
   "metadata": {
    "ExecuteTime": {
     "end_time": "2023-01-28T04:46:24.692159Z",
     "start_time": "2023-01-28T04:46:23.067778Z"
    },
    "scrolled": false
   },
   "outputs": [],
   "source": [
    "fig = plt.figure(figsize=(12,12))\n",
    "fig.subplots_adjust(hspace=0.3, wspace = 0.5)\n",
    "\n",
    "\n",
    "\n",
    "ax = fig.add_subplot(2,2,1)\n",
    "\n",
    "xlabel='log_Lx/Ledd'\n",
    "ylabel='phoindex'\n",
    "xerr_label='log_f_err'\n",
    "yerr_label='phoindex_err'\n",
    "color_label='zphabs_nh(10^22)'\n",
    "#dataplot=slab_zgauss_result\n",
    "#ax=plot_errorbar_cmap(ax,dataplot,xlabel,ylabel,xerr=xerr_label,yerr=yerr_label,color_n=color_label,marker_n='name',size_n=None,logx=False,logy=False)\n",
    "dataplot=borus_result\n",
    "ax=plot_errorbar_cmap(ax,dataplot,xlabel,ylabel,xerr=xerr_label,yerr=yerr_label,color_n=color_label,marker_n='name',size_n=None,logx=False,logy=False)\n",
    "set_ax_tick(ax) \n",
    "#set_ax_locator(ax,xma=1000,xmi=500,yma=1,ymi=0.5)\n",
    "set_ax_legend(ax,bbox_to_anchor=(0.01, 0.99))   \n",
    "#ax.set_ylim(-7,17)\n",
    "ax.set_xlabel(xlabel)\n",
    "ax.set_ylabel(ylabel)\n",
    "#ax.set_title('borus02 model')\n",
    "\n",
    "\n",
    "ax = fig.add_subplot(2,2,2)\n",
    "\n",
    "xlabel='log_Lx/Ledd'\n",
    "ylabel='zphabs_nh(10^22)'\n",
    "xerr_label='log_f_err'\n",
    "yerr_label=None#'zphabs_nh_err'\n",
    "color_label='CFtor'\n",
    "\n",
    "dataplot=borus_result\n",
    "ax=plot_errorbar_cmap(ax,dataplot,xlabel,ylabel,xerr=xerr_label,yerr=yerr_label,color_n=color_label,marker_n='name',size_n=None,logx=False,logy=False)\n",
    "\n",
    "set_ax_tick(ax) \n",
    "#set_ax_locator(ax,xma=1000,xmi=500,yma=1,ymi=0.5)\n",
    "set_ax_legend(ax,bbox_to_anchor=(0.51, 0.99))   \n",
    "#ax.set_ylim(-7,17)\n",
    "#ax.semilogy()\n",
    "ax.set_xlabel(xlabel)\n",
    "ax.set_ylabel(ylabel)\n",
    "\n",
    "\n",
    "ax = fig.add_subplot(2,2,3)\n",
    "\n",
    "'''xlabel='log_Lx/Ledd'\n",
    "ylabel='CFtor'\n",
    "xerr_label='log_f_err'\n",
    "yerr_label='CFtor_err'\n",
    "color_label='zphabs_nh(10^22)'\n",
    "'''\n",
    "\n",
    "xlabel='zphabs_nh(10^22)'\n",
    "ylabel='phoindex'\n",
    "xerr_label=None #'los_nh_err'\n",
    "yerr_label='phoindex_err'\n",
    "color_label='log_Lx/Ledd'\n",
    "\n",
    "\n",
    "dataplot=borus_result\n",
    "ax=plot_errorbar_cmap(ax,dataplot,xlabel,ylabel,xerr=xerr_label,yerr=yerr_label,color_n=color_label,marker_n='name',size_n=None,logx=False,logy=False)\n",
    "set_ax_tick(ax) \n",
    "#set_ax_locator(ax,xma=1000,xmi=500,yma=1,ymi=0.5)\n",
    "set_ax_legend(ax,bbox_to_anchor=(0.51, 0.99))   \n",
    "#ax.set_ylim(-0.1,0.5)\n",
    "ax.set_xlabel(xlabel)\n",
    "ax.set_ylabel(ylabel)\n",
    "\n",
    "\n",
    "ax = fig.add_subplot(2,2,4)\n",
    "\n",
    "#xlabel='log_Lx/Ledd'\n",
    "xlabel='logLx'\n",
    "ylabel='logNHtor'\n",
    "xerr_label='log_f_err'\n",
    "yerr_label='logNHtor_err'\n",
    "color_label='zphabs_nh(10^22)'\n",
    "\n",
    "dataplot=borus_result\n",
    "ax=plot_errorbar_cmap(ax,dataplot,xlabel,ylabel,xerr=xerr_label,yerr=yerr_label,color_n=color_label,marker_n='name',size_n=None,logx=False,logy=False)\n",
    "set_ax_tick(ax) \n",
    "#set_ax_locator(ax,xma=1000,xmi=500,yma=1,ymi=0.5)\n",
    "set_ax_legend(ax,bbox_to_anchor=(0.11, 0.99))   \n",
    "#ax.set_ylim(-0.1,0.5)\n",
    "ax.set_xlabel(xlabel)\n",
    "ax.set_ylabel(ylabel)\n",
    "\n",
    "model_name='borus02'\n",
    "#ax.set_title('%s model'%model_name)\n",
    "plt.title('%s model'%model_name)\n",
    "save_lc_img_path=os.path.join('/Users/lyubing/Downloads/','%s_cmap.png'%model_name) \n",
    "plt.savefig(save_lc_img_path,dpi=400, transparent=False, bbox_inches='tight')\n",
    "#plt.close() "
   ]
  },
  {
   "cell_type": "code",
   "execution_count": null,
   "metadata": {
    "ExecuteTime": {
     "end_time": "2023-01-29T08:35:14.522970Z",
     "start_time": "2023-01-29T08:35:14.511193Z"
    }
   },
   "outputs": [],
   "source": [
    "borus_result.columns"
   ]
  },
  {
   "cell_type": "code",
   "execution_count": null,
   "metadata": {
    "ExecuteTime": {
     "end_time": "2023-01-29T08:35:30.668322Z",
     "start_time": "2023-01-29T08:35:30.475709Z"
    }
   },
   "outputs": [],
   "source": [
    "figure_n= 1\n",
    "fig = plt.figure(figsize=(6,figure_n*6))\n",
    "fig.subplots_adjust(hspace=0.0, wspace = 0.0)\n",
    "ax = fig.add_subplot(figure_n,1,1)\n",
    "\n",
    "xlabel='thInc'\n",
    "ylabel='zphabs_nh(10^22)'\n",
    "xerr_label=None#'log_f_err'\n",
    "yerr_label=None#'zphabs_nh_err'\n",
    "color_label='logLx'\n",
    "\n",
    "dataplot=borus_result\n",
    "ax=plot_errorbar_cmap(ax,dataplot,xlabel,ylabel,xerr=xerr_label,yerr=yerr_label,color_n=color_label,marker_n='name',size_n=None,logx=False,logy=False)\n",
    "\n",
    "set_ax_tick(ax) \n",
    "#set_ax_locator(ax,xma=1000,xmi=500,yma=1,ymi=0.5)\n",
    "set_ax_legend(ax,bbox_to_anchor=(0.01, 0.99))   \n",
    "#ax.set_ylim(-7,17)\n",
    "#ax.semilogy()\n",
    "ax.set_xlabel(xlabel)\n",
    "ax.set_ylabel(ylabel)\n",
    "ax.set_title('borus02')\n"
   ]
  },
  {
   "cell_type": "markdown",
   "metadata": {},
   "source": [
    "### plot3para"
   ]
  },
  {
   "cell_type": "code",
   "execution_count": null,
   "metadata": {
    "ExecuteTime": {
     "end_time": "2023-07-29T14:16:37.364482Z",
     "start_time": "2023-07-29T14:16:37.352285Z"
    }
   },
   "outputs": [],
   "source": [
    "borus_result['log_Lx_int/Ledd']"
   ]
  },
  {
   "cell_type": "code",
   "execution_count": null,
   "metadata": {
    "ExecuteTime": {
     "end_time": "2023-07-29T14:17:10.683400Z",
     "start_time": "2023-07-29T14:17:10.097555Z"
    }
   },
   "outputs": [],
   "source": [
    "fig = plt.figure(figsize=(6,6))\n",
    "fig.subplots_adjust(hspace=0., wspace = 0.)\n",
    "ax = fig.add_subplot(2,2,1)\n",
    "\n",
    "\n",
    "\n",
    "xlabel='log_Lx_int/Ledd'\n",
    "ylabel='phoindex'\n",
    "xerr_label='log_fint_err'\n",
    "yerr_label='phoindex_err'\n",
    "color_label='black'\n",
    "\n",
    "dataplot=borus_result\n",
    "ax=plot_errorbar(ax,dataplot,xlabel,ylabel,xerr=xerr_label,yerr=yerr_label,color_n=color_label,marker_n='name',size_n=None,logx=False,logy=False)\n",
    "set_ax_tick(ax) \n",
    "set_ax_locator(ax,xma=1.0,xmi=0.2,yma=0.2,ymi=0.1)\n",
    "#set_ax_legend(ax,bbox_to_anchor=(0.01, 0.99))   \n",
    "#ax.set_ylim(-7,17)\n",
    "#ax.set_xlabel(r'log($L_{\\rm X}/L_{\\rm Edd}$)')\n",
    "ax.set_ylabel(r'$\\Gamma$')\n",
    "model_name='borus02'\n",
    "ax.set_title('%s'%model_name)\n",
    "\n",
    "\n",
    "'''ax2 = fig.add_subplot(2,2,2,sharey=ax)\n",
    "xlabel='zphabs_nh(10^22)'\n",
    "ylabel='phoindex'\n",
    "xerr_label=None #'zphabs_nh_err'\n",
    "yerr_label='phoindex_err'\n",
    "\n",
    "dataplot=borus_result\n",
    "ax2=plot_errorbar(ax2,dataplot,xlabel,ylabel,xerr=xerr_label,yerr=yerr_label,color_n=color_label,marker_n='name',size_n=None,logx=False,logy=False)\n",
    "set_ax_tick(ax2) \n",
    "#set_ax_locator(ax,xma=1000,xmi=500,yma=1,ymi=0.5)\n",
    "#set_ax_legend(ax2,bbox_to_anchor=(0.01, 0.99))   \n",
    "#ax.set_ylim(-0.1,0.5)\n",
    "ax2.set_xlabel(r'$N_{\\rm H,los (10^{22} cm^{-2})}$')\n",
    "#ax2.set_ylabel(r'$\\Gamma$')\n",
    "#ax2.yaxis.set_major_formatter(ticker.NullFormatter())\n",
    "set_ax_locator(ax2,xma=25,xmi=5,yma=0.2,ymi=0.1)\n",
    "ax2.yaxis.set_tick_params(which='major', size=10, width=2, direction='in', top='on',labelsize=0)\n",
    "'''\n",
    "\n",
    "ax3 = fig.add_subplot(2,2,3,sharex=ax)\n",
    "\n",
    "xlabel='log_Lx_int/Ledd'\n",
    "ylabel='zphabs_nh(10^22)'\n",
    "xerr_label='log_fint_err'\n",
    "yerr_label='zphabs_nh_err'\n",
    "\n",
    "\n",
    "dataplot=borus_result\n",
    "ax3=plot_errorbar(ax3,dataplot,xlabel,ylabel,xerr=xerr_label,yerr=yerr_label,color_n=color_label,marker_n='name',size_n=None,logx=False,logy=False)\n",
    "\n",
    "set_ax_tick(ax3) \n",
    "#set_ax_locator(ax,xma=1000,xmi=500,yma=1,ymi=0.5)\n",
    "#set_ax_legend(ax3,bbox_to_anchor=(0.51, 0.99))   \n",
    "#ax.set_ylim(-7,17)\n",
    "#ax.semilogy()\n",
    "\n",
    "\n",
    "ax3.errorbar(-3.147,0.1,yerr=0.05,uplims=True,marker='o',color='black',ms=11)\n",
    "\n",
    "\n",
    "\n",
    "ax3.set_xlabel(r'log($L_{\\rm 2-10keV}/L_{\\rm Edd}$)')\n",
    "ax3.set_ylabel(r'$N_{\\rm H,los (10^{22} cm^{-2})}$')\n",
    "ax3.semilogy()\n",
    "ax3.set_ylim(-0.1,205)\n",
    "ax.set_ylim(1.21,1.91)\n",
    "ax3.set_xlim(-4.5,-1.8)\n",
    "\n",
    "\n",
    "#ax2.xaxis.set_tick_params(which='major', size=10, width=2, direction='in', top='on',)\n",
    "#ax2.xaxis.set_tick_params(which='minor', size=5, width=2, direction='in', top='on')\n",
    "#ax2.yaxis.set_tick_params(which='major', size=10, width=2, direction='in', right='on')\n",
    "#ax2.yaxis.set_tick_params(which='minor', size=5, width=2, direction='in', right='on')\n",
    "\n",
    "#ax.set_title('%s model'%model_name)\n",
    "save_lc_img_path=os.path.join('/Users/lyubing/Downloads/OXCLAGN/003_OXCLAGN/pic/Gamma_L_nh_pic/','%s.pdf'%model_name) \n",
    "plt.savefig(save_lc_img_path,dpi=400, transparent=False, bbox_inches='tight')\n",
    "#plt.close()    "
   ]
  },
  {
   "cell_type": "markdown",
   "metadata": {},
   "source": [
    "### plot LX"
   ]
  },
  {
   "cell_type": "code",
   "execution_count": null,
   "metadata": {
    "ExecuteTime": {
     "end_time": "2023-08-09T12:48:44.801891Z",
     "start_time": "2023-08-09T12:48:44.797805Z"
    }
   },
   "outputs": [],
   "source": [
    "borus_result['logLx_int']"
   ]
  },
  {
   "cell_type": "code",
   "execution_count": null,
   "metadata": {
    "ExecuteTime": {
     "end_time": "2023-08-09T13:08:22.058308Z",
     "start_time": "2023-08-09T13:08:21.519940Z"
    }
   },
   "outputs": [],
   "source": [
    "fig = plt.figure(figsize=(6,6))\n",
    "fig.subplots_adjust(hspace=0., wspace = 0.)\n",
    "ax = fig.add_subplot(2,2,1)\n",
    "\n",
    "\n",
    "\n",
    "xlabel='logLx_int'\n",
    "ylabel='phoindex'\n",
    "xerr_label='log_fint_err'\n",
    "yerr_label='phoindex_err'\n",
    "color_label='black'\n",
    "\n",
    "dataplot=borus_result\n",
    "ax=plot_errorbar(ax,dataplot,xlabel,ylabel,xerr=xerr_label,yerr=yerr_label,color_n=color_label,marker_n='name',size_n=None,logx=False,logy=False)\n",
    "set_ax_tick(ax) \n",
    "set_ax_locator(ax,xma=1.0,xmi=0.2,yma=0.2,ymi=0.1)\n",
    "#set_ax_legend(ax,bbox_to_anchor=(0.01, 0.99))   \n",
    "#ax.set_ylim(-7,17)\n",
    "#ax.set_xlabel(r'log($L_{\\rm X}/L_{\\rm Edd}$)')\n",
    "ax.set_ylabel(r'$\\Gamma$')\n",
    "model_name='borus02'\n",
    "ax.set_title('%s'%model_name)\n",
    "\n",
    "\n",
    "'''ax2 = fig.add_subplot(2,2,2,sharey=ax)\n",
    "xlabel='zphabs_nh(10^22)'\n",
    "ylabel='phoindex'\n",
    "xerr_label=None #'zphabs_nh_err'\n",
    "yerr_label='phoindex_err'\n",
    "\n",
    "dataplot=borus_result\n",
    "ax2=plot_errorbar(ax2,dataplot,xlabel,ylabel,xerr=xerr_label,yerr=yerr_label,color_n=color_label,marker_n='name',size_n=None,logx=False,logy=False)\n",
    "set_ax_tick(ax2) \n",
    "#set_ax_locator(ax,xma=1000,xmi=500,yma=1,ymi=0.5)\n",
    "#set_ax_legend(ax2,bbox_to_anchor=(0.01, 0.99))   \n",
    "#ax.set_ylim(-0.1,0.5)\n",
    "ax2.set_xlabel(r'$N_{\\rm H,los (10^{22} cm^{-2})}$')\n",
    "#ax2.set_ylabel(r'$\\Gamma$')\n",
    "#ax2.yaxis.set_major_formatter(ticker.NullFormatter())\n",
    "set_ax_locator(ax2,xma=25,xmi=5,yma=0.2,ymi=0.1)\n",
    "ax2.yaxis.set_tick_params(which='major', size=10, width=2, direction='in', top='on',labelsize=0)\n",
    "'''\n",
    "\n",
    "ax3 = fig.add_subplot(2,2,3,sharex=ax)\n",
    "\n",
    "xlabel='logLx_int'\n",
    "ylabel='zphabs_nh(10^22)'\n",
    "xerr_label='log_fint_err'\n",
    "yerr_label='zphabs_nh_err'\n",
    "\n",
    "\n",
    "dataplot=borus_result\n",
    "ax3=plot_errorbar(ax3,dataplot,xlabel,ylabel,xerr=xerr_label,yerr=yerr_label,color_n=color_label,marker_n='name',size_n=None,logx=False,logy=False)\n",
    "\n",
    "set_ax_tick(ax3) \n",
    "#set_ax_locator(ax,xma=1000,xmi=500,yma=1,ymi=0.5)\n",
    "#set_ax_legend(ax3,bbox_to_anchor=(0.51, 0.99))   \n",
    "#ax.set_ylim(-7,17)\n",
    "#ax.semilogy()\n",
    "\n",
    "\n",
    "ax3.errorbar(42.603325,0.1,yerr=0.05,uplims=True,marker='o',color='black',ms=11)\n",
    "\n",
    "\n",
    "\n",
    "ax3.set_xlabel(r'log($L_{\\rm 2-10keV}$)')\n",
    "ax3.set_ylabel(r'$N_{\\rm H,los (10^{22} cm^{-2})}$')\n",
    "ax3.semilogy()\n",
    "ax3.set_ylim(-0.1,205)\n",
    "ax.set_ylim(1.21,1.91)\n",
    "#ax3.set_xlim(-4.5,-1.8)\n",
    "ax3.set_xlim(41.3,43.6)\n",
    "\n",
    "#ax2.xaxis.set_tick_params(which='major', size=10, width=2, direction='in', top='on',)\n",
    "#ax2.xaxis.set_tick_params(which='minor', size=5, width=2, direction='in', top='on')\n",
    "#ax2.yaxis.set_tick_params(which='major', size=10, width=2, direction='in', right='on')\n",
    "#ax2.yaxis.set_tick_params(which='minor', size=5, width=2, direction='in', right='on')\n",
    "\n",
    "#ax.set_title('%s model'%model_name)\n",
    "save_lc_img_path=os.path.join('/Users/lyubing/Downloads/OXCLAGN/003_OXCLAGN/pic/Gamma_L_nh_pic/','%s_LX.pdf'%model_name) \n",
    "plt.savefig(save_lc_img_path,dpi=400, transparent=False, bbox_inches='tight')\n",
    "#plt.close()    "
   ]
  },
  {
   "cell_type": "markdown",
   "metadata": {},
   "source": [
    "## rxtorus"
   ]
  },
  {
   "cell_type": "code",
   "execution_count": null,
   "metadata": {
    "ExecuteTime": {
     "end_time": "2023-11-28T12:12:43.830820Z",
     "start_time": "2023-11-28T12:12:43.782592Z"
    }
   },
   "outputs": [],
   "source": [
    "rxtorus_result=pd.read_excel('/Users/lyubing/Downloads/OXCLAGN/OXCLAGN_jointfit.xlsx',sheet_name='rxtorus')\n",
    "\n",
    "for i in range(len(rxtorus_result)):\n",
    "    rxtorus_result.loc[i,'logmass']= name_mass_dict[rxtorus_result.loc[i,'name']]\n",
    "    if rxtorus_result.loc[i,'obsid']==60061318004:\n",
    "        rxtorus_result.loc[i,'los_nh_err']=110*np.sqrt(max(0,1-(np.cos(np.pi*rxtorus_result.loc[i,'Inclination']/180)/rxtorus_result.loc[i,'rRratio'])**2))\n",
    "     \n",
    "    else:\n",
    "        rxtorus_result.loc[i,'los_nh_err']=rxtorus_result.loc[i,'NHeq_err']*np.sqrt(max(0,1-(np.cos(np.pi*rxtorus_result.loc[i,'Inclination']/180)/rxtorus_result.loc[i,'rRratio'])**2))\n",
    "\n",
    "rxtorus_result['logLedd']= np.log10(1.26e38)+rxtorus_result['logmass']\n",
    "for i in range(len(rxtorus_result)):\n",
    "    rxtorus_result.loc[i,'redshift']= name_redshift_dict[rxtorus_result.loc[i,'name']]\n",
    "    rxtorus_result.loc[i,'D_cm']= cosmo.luminosity_distance(z=name_redshift_dict[rxtorus_result.loc[i,'name']]).to(u.cm).value\n",
    "\n",
    "#rxtorus_result['logLx']=np.log10(4*np.pi)+np.log10(rxtorus_result['D_cm'])*2.0+rxtorus_result['log_f']\n",
    "#rxtorus_result['log_Lx/Ledd']=rxtorus_result['logLx']-rxtorus_result['logLedd']\n",
    "    "
   ]
  },
  {
   "cell_type": "code",
   "execution_count": null,
   "metadata": {
    "ExecuteTime": {
     "end_time": "2023-07-13T16:14:45.351868Z",
     "start_time": "2023-07-13T16:14:45.319058Z"
    }
   },
   "outputs": [],
   "source": [
    "rxtorus_result"
   ]
  },
  {
   "cell_type": "code",
   "execution_count": null,
   "metadata": {
    "ExecuteTime": {
     "end_time": "2023-07-13T16:03:27.385176Z",
     "start_time": "2023-07-13T16:03:27.375170Z"
    }
   },
   "outputs": [],
   "source": [
    "rxtorus_result.columns"
   ]
  },
  {
   "cell_type": "code",
   "execution_count": null,
   "metadata": {
    "ExecuteTime": {
     "end_time": "2023-11-28T12:12:47.298212Z",
     "start_time": "2023-11-28T12:12:47.280921Z"
    }
   },
   "outputs": [],
   "source": [
    "rxtorus_result['f_int'] = get_f_intrinsic_zpowerlaw(2.0,10.0,rxtorus_result['phoindex'],rxtorus_result['cutoffplnorm'],rxtorus_result['redshift'])\n",
    "rxtorus_result['log_f_int']=np.log10(rxtorus_result['f_int'])\n",
    "\n",
    "rxtorus_result['logLx_int']=np.log10(4*np.pi)+np.log10(rxtorus_result['D_cm'])*2.0+rxtorus_result['log_f_int']\n",
    "rxtorus_result['log_Lx_int/Ledd']=rxtorus_result['logLx_int']-rxtorus_result['logLedd']\n",
    "\n"
   ]
  },
  {
   "cell_type": "code",
   "execution_count": null,
   "metadata": {
    "ExecuteTime": {
     "end_time": "2023-07-13T16:03:28.058662Z",
     "start_time": "2023-07-13T16:03:28.047244Z"
    }
   },
   "outputs": [],
   "source": [
    "rxtorus_result['log_f_int']"
   ]
  },
  {
   "cell_type": "code",
   "execution_count": null,
   "metadata": {
    "ExecuteTime": {
     "end_time": "2023-07-13T16:15:09.560057Z",
     "start_time": "2023-07-13T16:15:09.535050Z"
    }
   },
   "outputs": [],
   "source": [
    "for index,gamma_i in enumerate(rxtorus_result['phoindex']):\n",
    "    x=ufloat(gamma_i, rxtorus_result.loc[index]['phoindex_err'])\n",
    "    y=ufloat(rxtorus_result.loc[index]['cutoffplnorm'],rxtorus_result.loc[index]['cutoffplnorm_err'])\n",
    "    z=rxtorus_result.loc[index]['redshift']\n",
    "    \n",
    "    #logflux=get_logf_intrinsic_zpowerlaw(2.0,10.0,x,y,z)\n",
    "    flux=get_f_intrinsic_zpowerlaw(2.0,10.0,x,y,z)\n",
    "    #print(flux.nominal_value,'+\\-',flux.std_dev)\n",
    "    \n",
    "    #print(np.log10(flux.nominal_value))#,1.0/flux.nominal_value/np.log(10)*flux.std_dev)\n",
    "    print(1.0/flux.nominal_value/np.log(10)*flux.std_dev) #np.log10(flux.nominal_value),\n"
   ]
  },
  {
   "cell_type": "code",
   "execution_count": null,
   "metadata": {
    "ExecuteTime": {
     "end_time": "2023-11-28T12:12:49.213972Z",
     "start_time": "2023-11-28T12:12:49.204443Z"
    }
   },
   "outputs": [],
   "source": [
    "rxtorus_result['log_f_err']=rxtorus_result['log_fint_err']"
   ]
  },
  {
   "cell_type": "code",
   "execution_count": null,
   "metadata": {
    "ExecuteTime": {
     "end_time": "2023-07-13T16:05:20.717127Z",
     "start_time": "2023-07-13T16:05:20.648723Z"
    }
   },
   "outputs": [],
   "source": []
  },
  {
   "cell_type": "code",
   "execution_count": null,
   "metadata": {
    "ExecuteTime": {
     "end_time": "2023-07-11T10:55:44.541235Z",
     "start_time": "2023-07-11T10:55:44.532568Z"
    }
   },
   "outputs": [],
   "source": [
    "#rxtorus_result['log_f_err']=0.001\n",
    "#rxtorus_result['los_nh_err']=0.001"
   ]
  },
  {
   "cell_type": "code",
   "execution_count": null,
   "metadata": {},
   "outputs": [],
   "source": []
  },
  {
   "cell_type": "code",
   "execution_count": null,
   "metadata": {},
   "outputs": [],
   "source": []
  },
  {
   "cell_type": "code",
   "execution_count": null,
   "metadata": {
    "ExecuteTime": {
     "end_time": "2023-04-12T05:51:56.278542Z",
     "start_time": "2023-04-12T05:51:56.262387Z"
    }
   },
   "outputs": [],
   "source": [
    "rxtorus_result[['log_Lx/Ledd','log_Lx_int/Ledd']]"
   ]
  },
  {
   "cell_type": "code",
   "execution_count": null,
   "metadata": {},
   "outputs": [],
   "source": []
  },
  {
   "cell_type": "markdown",
   "metadata": {},
   "source": [
    "### rxtorus_latex"
   ]
  },
  {
   "cell_type": "markdown",
   "metadata": {
    "ExecuteTime": {
     "end_time": "2023-04-12T05:52:53.072501Z",
     "start_time": "2023-04-12T05:52:53.045443Z"
    }
   },
   "source": [
    "for index,name in enumerate(rxtorus_result['name']):\n",
    "    if rxtorus_result['highEcut_err'][index]==-1:\n",
    "        rxtorus_highEcut_err_cmd='$^f$'\n",
    "    else:\n",
    "        rxtorus_highEcut_err_cmd='$\\pm$'+'%.1f'%rxtorus_result['highEcut_err'][index]\n",
    "          \n",
    "    print(name,'&',\n",
    "          '%s'%rxtorus_result['obsid'][index],'&',\n",
    "          '%.2f'%rxtorus_result['zphabs_nh(10^22)'][index],'&',\n",
    "          '%.1f'%rxtorus_result['NHeq'][index],'$\\pm$', '%.1f'%rxtorus_result['NHeq_err'][index],'&',\n",
    "          \n",
    "          '%.2f'%rxtorus_result['phoindex'][index],'$\\pm$', '%.2f'%rxtorus_result['phoindex_err'][index],'&',\n",
    "\n",
    "          '%.1f'%rxtorus_result['highEcut'][index]+rxtorus_highEcut_err_cmd,'&',\n",
    "          '%.2e'%rxtorus_result['cutoffplnorm'][index],'$\\pm$', '%.2e'%rxtorus_result['cutoffplnorm_err'][index],'&',\n",
    "          #'%.2f'%rxtorus_result['zgaussLineE'][index],'$\\pm$', '%.2f'%rxtorus_result['zgaussLineE_err'][index],'&',\n",
    "          #'%.2f'%rxtorus_result['zgaussSigma'][index],'$\\pm$', '%.2f'%rxtorus_result['zgaussSigma_err'][index],'&',\n",
    "          '%.3f'%rxtorus_result['rRratio'][index],'$\\pm$', '%.3f'%rxtorus_result['rRratio_err'][index],'&',\n",
    "          \n",
    "          \n",
    "          '%.2f(%d/%d)'%(rxtorus_result['chi_2'][index]/rxtorus_result['dof'][index],rxtorus_result['chi_2'][index],rxtorus_result['dof'][index]),'&',\n",
    "          '%.3f'%float(rxtorus_result['log_Lx/Ledd'][index]),'$\\pm$','%.3f'%float(rxtorus_result['log_f_err'][index]),#'&',\n",
    "          #'%.3f'%float(rxtorus_result['log_Lx_10to50keV/Ledd'][index]),'$\\pm$','%.3f'%float(rxtorus_result['log_f_err_10to50keV'][index]),  \n",
    "          '\\\\\\\\',\n",
    "         )\n"
   ]
  },
  {
   "cell_type": "code",
   "execution_count": null,
   "metadata": {
    "ExecuteTime": {
     "end_time": "2023-07-13T16:19:06.118939Z",
     "start_time": "2023-07-13T16:19:06.089448Z"
    }
   },
   "outputs": [],
   "source": [
    "for index,name in enumerate(rxtorus_result['name']):\n",
    "    if name=='NGC4151' or name=='NGC7582':\n",
    "        Cross_str='%.3f'%rxtorus_result['const_FPTM'][index]+'$\\pm$'+'%.3f'%rxtorus_result['const_FPTM_err'][index]+'&'\n",
    "        fscatter_cmd='%.2f'%rxtorus_result['fscatter'][index]+'$\\pm$'+'%.2f'%rxtorus_result['fscatter_err'][index]+'&'\n",
    "    else:\n",
    "        Cross_str='%.3f'%rxtorus_result['const_FPTM'][index]+'$\\pm$'+'%.3f'%rxtorus_result['const_FPTM_err'][index]+'/'+'%.3f'%rxtorus_result['const_FPTM3'][index]+'$\\pm$'+ '%.3f'%rxtorus_result['const_FPTM3_err'][index]+' &'\n",
    "        fscatter_cmd='- &'\n",
    " \n",
    "\n",
    "    if rxtorus_result['los_nh_err'][index]==-1:\n",
    "        los_nh_err_cmd='$^f$'\n",
    "    else:\n",
    "        los_nh_err_cmd='$\\pm$'+'%.2f'%rxtorus_result['los_nh_err'][index]\n",
    "        \n",
    "    if rxtorus_result['highEcut_err'][index]==-1:\n",
    "        rxtorus_result_highEcut_err_cmd='$^f$'\n",
    "    else:\n",
    "        rxtorus_result_highEcut_err_cmd='$\\pm$'+'%.0f'%rxtorus_result['highEcut_err'][index]\n",
    "\n",
    "\n",
    "    #\\multirow{2}*\n",
    "    print(#name,'&',\n",
    "          #'%s'%rxtorus_result['obsid'][index],'&',\n",
    "          '\\multirow{2}*{N%d}'%(index+1),'&',\n",
    "          Cross_str,\n",
    "        \n",
    "    #print(name,'&',\n",
    "          #'%s'%rxtorus_result['obsid'][index],'&',\n",
    "          '%.2f'%rxtorus_result['zphabs_nh(10^22)'][index]+los_nh_err_cmd+'&',\n",
    "          '%.0f'%(rxtorus_result['NHeq'][index]),'$\\pm$', '%.0f'%(rxtorus_result['NHeq_err'][index]),'&',\n",
    "       \n",
    "          \n",
    "          \n",
    "          '%.2f'%rxtorus_result['phoindex'][index],'$\\pm$', '%.2f'%rxtorus_result['phoindex_err'][index],'&',\n",
    "          '%d'%rxtorus_result['highEcut'][index]+rxtorus_result_highEcut_err_cmd, '&',\n",
    "        \n",
    "        '%.2e'%rxtorus_result['cutoffplnorm'][index],'$\\pm$', '%.2e'%rxtorus_result['cutoffplnorm'][index],'&',\n",
    "          \n",
    "          #'%.2f'%rxtorus_result['IncAng'][index],'$\\pm$', '%.2f'%rxtorus_result['IncAng_err'][index],'&',\n",
    "          \n",
    "           '\\\\\\\\','\\n & ',\n",
    "          '%.2f'%rxtorus_result['rRratio'][index],'$\\pm$', '%.2f'%rxtorus_result['rRratio_err'][index],'&',\n",
    "           #'%.2f'%rxtorus_result['As'][index],'$\\pm$', '%.2f'%rxtorus_result['As_err'][index],'&',\n",
    "          \n",
    "            fscatter_cmd,\n",
    "            \n",
    "                  \n",
    "          #'%.1f'%rxtorus_result['highEcut'][index]+mytorus_couple_highEcut_err_cmd,'&',\n",
    "          #'%.2f'%rxtorus_result['zgaussLineE'][index],'$\\pm$', '%.2f'%rxtorus_result['zgaussLineE_err'][index],'&',\n",
    "          #'%.2f'%rxtorus_result['zgaussSigma'][index],'$\\pm$', '%.2f'%rxtorus_result['zgaussSigma_err'][index],'&',\n",
    "          #'%.3f'%rxtorus_result['rRratio'][index],'$\\pm$', '%.3f'%rxtorus_result['rRratio_err'][index],'&',\n",
    "          \n",
    "          \n",
    "          '%.2f(%d/%d)'%(rxtorus_result['chi_2'][index]/rxtorus_result['dof'][index],rxtorus_result['chi_2'][index],rxtorus_result['dof'][index]),'&',\n",
    "          '%.3f'%float(rxtorus_result['log_f_int'][index]),'$\\pm$','%.3f'%float(rxtorus_result['log_f_err'][index]),'&',\n",
    "          \n",
    "          '%.3f'%float(rxtorus_result['logLx_int'][index]),'$\\pm$','%.3f'%float(rxtorus_result['log_f_err'][index]),#'&',\n",
    "          #'%.3f'%float(rxtorus_result['log_Lx_10to50keV/Ledd'][index]),'$\\pm$','%.3f'%float(rxtorus_result['log_f_err_10to50keV'][index]),\n",
    "          '\\\\\\\\',\n",
    "         )\n",
    "\n"
   ]
  },
  {
   "cell_type": "code",
   "execution_count": null,
   "metadata": {},
   "outputs": [],
   "source": []
  },
  {
   "cell_type": "code",
   "execution_count": null,
   "metadata": {},
   "outputs": [],
   "source": []
  },
  {
   "cell_type": "code",
   "execution_count": null,
   "metadata": {
    "ExecuteTime": {
     "end_time": "2023-02-10T12:10:28.458332Z",
     "start_time": "2023-02-10T12:10:28.444577Z"
    }
   },
   "outputs": [],
   "source": [
    "407.9/439"
   ]
  },
  {
   "cell_type": "code",
   "execution_count": null,
   "metadata": {
    "ExecuteTime": {
     "end_time": "2023-02-09T14:12:15.908013Z",
     "start_time": "2023-02-09T14:12:15.897001Z"
    }
   },
   "outputs": [],
   "source": [
    "rxtorus_result.columns"
   ]
  },
  {
   "cell_type": "code",
   "execution_count": null,
   "metadata": {
    "ExecuteTime": {
     "end_time": "2023-02-08T04:09:33.514768Z",
     "start_time": "2023-02-08T04:09:33.484861Z"
    }
   },
   "outputs": [],
   "source": [
    "rxtorus_result#.columns"
   ]
  },
  {
   "cell_type": "code",
   "execution_count": null,
   "metadata": {
    "ExecuteTime": {
     "end_time": "2023-01-28T04:48:40.598039Z",
     "start_time": "2023-01-28T04:48:39.295841Z"
    }
   },
   "outputs": [],
   "source": [
    "fig = plt.figure(figsize=(12,12))\n",
    "fig.subplots_adjust(hspace=0.3, wspace = 0.5)\n",
    "\n",
    "\n",
    "ax = fig.add_subplot(2,2,1)\n",
    "\n",
    "xlabel='log_Lx/Ledd'\n",
    "ylabel='phoindex'\n",
    "xerr_label='log_f_err'\n",
    "yerr_label='phoindex_err'\n",
    "color_label='zphabs_nh(10^22)'\n",
    "#dataplot=slab_zgauss_result\n",
    "#ax=plot_errorbar_cmap(ax,dataplot,xlabel,ylabel,xerr=xerr_label,yerr=yerr_label,color_n=color_label,marker_n='name',size_n=None,logx=False,logy=False)\n",
    "dataplot=rxtorus_result\n",
    "ax=plot_errorbar_cmap(ax,dataplot,xlabel,ylabel,xerr=xerr_label,yerr=yerr_label,color_n=color_label,marker_n='name',size_n=None,logx=False,logy=False)\n",
    "set_ax_tick(ax) \n",
    "#set_ax_locator(ax,xma=1000,xmi=500,yma=1,ymi=0.5)\n",
    "set_ax_legend(ax,bbox_to_anchor=(0.01, 0.99))   \n",
    "#ax.set_ylim(-7,17)\n",
    "ax.set_xlabel(xlabel)\n",
    "ax.set_ylabel(ylabel)\n",
    "#ax.set_title('rxtorus model')\n",
    "\n",
    "\n",
    "ax = fig.add_subplot(2,2,2)\n",
    "\n",
    "xlabel='log_Lx/Ledd'\n",
    "ylabel='zphabs_nh(10^22)'\n",
    "xerr_label='log_f_err'\n",
    "yerr_label=None#'los_nh_err'#'zphabs_nh_err'\n",
    "color_label='phoindex'\n",
    "\n",
    "dataplot=rxtorus_result\n",
    "ax=plot_errorbar_cmap(ax,dataplot,xlabel,ylabel,xerr=xerr_label,yerr=yerr_label,color_n=color_label,marker_n='name',size_n=None,logx=False,logy=False)\n",
    "\n",
    "set_ax_tick(ax) \n",
    "#set_ax_locator(ax,xma=1000,xmi=500,yma=1,ymi=0.5)\n",
    "set_ax_legend(ax,bbox_to_anchor=(0.51, 0.99))   \n",
    "#ax.set_ylim(-7,17)\n",
    "#ax.semilogy()\n",
    "ax.set_xlabel(xlabel)\n",
    "ax.set_ylabel(ylabel)\n",
    "\n",
    "\n",
    "ax = fig.add_subplot(2,2,3)\n",
    "\n",
    "xlabel='zphabs_nh(10^22)'\n",
    "ylabel='phoindex'\n",
    "xerr_label=None#'log_f_err'\n",
    "yerr_label='phoindex_err'#'los_nh_err'#'zphabs_nh_err'\n",
    "color_label='log_Lx/Ledd'\n",
    "\n",
    "dataplot=rxtorus_result\n",
    "ax=plot_errorbar_cmap(ax,dataplot,xlabel,ylabel,xerr=xerr_label,yerr=yerr_label,color_n=color_label,marker_n='name',size_n=None,logx=False,logy=False)\n",
    "\n",
    "set_ax_tick(ax) \n",
    "#set_ax_locator(ax,xma=1000,xmi=500,yma=1,ymi=0.5)\n",
    "set_ax_legend(ax,bbox_to_anchor=(0.51, 0.99))   \n",
    "#ax.set_ylim(-7,17)\n",
    "#ax.semilogy()\n",
    "ax.set_xlabel(xlabel)\n",
    "ax.set_ylabel(ylabel)\n",
    "\n",
    "\n",
    "model_name='rxtorus'\n",
    "#ax.set_title('%s model'%model_name)\n",
    "plt.title('%s model'%model_name)\n",
    "save_lc_img_path=os.path.join('/Users/lyubing/Downloads/','%s_cmap.png'%model_name) \n",
    "plt.savefig(save_lc_img_path,dpi=400, transparent=False, bbox_inches='tight')\n",
    "#plt.close() "
   ]
  },
  {
   "cell_type": "code",
   "execution_count": null,
   "metadata": {
    "ExecuteTime": {
     "end_time": "2023-01-29T08:36:48.022482Z",
     "start_time": "2023-01-29T08:36:48.015126Z"
    }
   },
   "outputs": [],
   "source": [
    "rxtorus_result.columns"
   ]
  },
  {
   "cell_type": "code",
   "execution_count": null,
   "metadata": {
    "ExecuteTime": {
     "end_time": "2023-01-29T08:37:00.869713Z",
     "start_time": "2023-01-29T08:37:00.678199Z"
    }
   },
   "outputs": [],
   "source": [
    "figure_n= 1\n",
    "fig = plt.figure(figsize=(6,figure_n*6))\n",
    "fig.subplots_adjust(hspace=0.0, wspace = 0.0)\n",
    "ax = fig.add_subplot(figure_n,1,1)\n",
    "\n",
    "xlabel='Inclination'\n",
    "ylabel='zphabs_nh(10^22)'\n",
    "xerr_label=None#'log_f_err'\n",
    "yerr_label=None#'zphabs_nh_err'\n",
    "color_label='logLx'\n",
    "\n",
    "dataplot=rxtorus_result\n",
    "ax=plot_errorbar_cmap(ax,dataplot,xlabel,ylabel,xerr=xerr_label,yerr=yerr_label,color_n=color_label,marker_n='name',size_n=None,logx=False,logy=False)\n",
    "\n",
    "set_ax_tick(ax) \n",
    "#set_ax_locator(ax,xma=1000,xmi=500,yma=1,ymi=0.5)\n",
    "set_ax_legend(ax,bbox_to_anchor=(0.01, 0.99))   \n",
    "#ax.set_ylim(-7,17)\n",
    "#ax.semilogy()\n",
    "ax.set_xlabel(xlabel)\n",
    "ax.set_ylabel(ylabel)\n",
    "ax.set_title('rxtorus')\n"
   ]
  },
  {
   "cell_type": "markdown",
   "metadata": {
    "ExecuteTime": {
     "end_time": "2023-01-29T10:28:03.069171Z",
     "start_time": "2023-01-29T10:28:03.059940Z"
    }
   },
   "source": [
    "### plot3para"
   ]
  },
  {
   "cell_type": "code",
   "execution_count": null,
   "metadata": {
    "ExecuteTime": {
     "end_time": "2023-07-29T14:03:46.193668Z",
     "start_time": "2023-07-29T14:03:46.185468Z"
    }
   },
   "outputs": [],
   "source": [
    "rxtorus_result.columns"
   ]
  },
  {
   "cell_type": "code",
   "execution_count": null,
   "metadata": {
    "ExecuteTime": {
     "end_time": "2023-07-29T14:03:57.489676Z",
     "start_time": "2023-07-29T14:03:57.478219Z"
    }
   },
   "outputs": [],
   "source": [
    "rxtorus_result['log_Lx_int/Ledd']"
   ]
  },
  {
   "cell_type": "code",
   "execution_count": null,
   "metadata": {
    "ExecuteTime": {
     "end_time": "2023-07-29T14:11:44.975799Z",
     "start_time": "2023-07-29T14:11:44.401502Z"
    }
   },
   "outputs": [],
   "source": [
    "fig = plt.figure(figsize=(6,6))\n",
    "fig.subplots_adjust(hspace=0., wspace = 0.)\n",
    "ax = fig.add_subplot(2,2,1)\n",
    "\n",
    "\n",
    "\n",
    "xlabel='log_Lx_int/Ledd'\n",
    "ylabel='phoindex'\n",
    "xerr_label='log_fint_err'\n",
    "yerr_label='phoindex_err'\n",
    "color_label='black'\n",
    "\n",
    "dataplot=rxtorus_result\n",
    "ax=plot_errorbar(ax,dataplot,xlabel,ylabel,xerr=xerr_label,yerr=yerr_label,color_n=color_label,marker_n='name',size_n=None,logx=False,logy=False)\n",
    "set_ax_tick(ax) \n",
    "set_ax_locator(ax,xma=1.0,xmi=0.2,yma=0.2,ymi=0.1)\n",
    "#set_ax_legend(ax,bbox_to_anchor=(0.01, 0.99))   \n",
    "#ax.set_ylim(-7,17)\n",
    "#ax.set_xlabel(r'log($L_{\\rm X}/L_{\\rm Edd}$)')\n",
    "ax.set_ylabel(r'$\\Gamma$')\n",
    "model_name='RXTORUS'\n",
    "ax.set_title('%s'%model_name)\n",
    "\n",
    "\n",
    "'''ax2 = fig.add_subplot(2,2,2,sharey=ax)\n",
    "xlabel='zphabs_nh(10^22)'\n",
    "ylabel='phoindex'\n",
    "xerr_label=None #'zphabs_nh_err'\n",
    "yerr_label='phoindex_err'\n",
    "\n",
    "dataplot=rxtorus_result\n",
    "ax2=plot_errorbar(ax2,dataplot,xlabel,ylabel,xerr=xerr_label,yerr=yerr_label,color_n=color_label,marker_n='name',size_n=None,logx=False,logy=False)\n",
    "set_ax_tick(ax2) \n",
    "#set_ax_locator(ax,xma=1000,xmi=500,yma=1,ymi=0.5)\n",
    "#set_ax_legend(ax2,bbox_to_anchor=(0.01, 0.99))   \n",
    "#ax.set_ylim(-0.1,0.5)\n",
    "ax2.set_xlabel(r'$N_{\\rm H,los (10^{22} cm^{-2})}$')\n",
    "#ax2.set_ylabel(r'$\\Gamma$')\n",
    "#ax2.yaxis.set_major_formatter(ticker.NullFormatter())\n",
    "set_ax_locator(ax2,xma=25,xmi=5,yma=0.2,ymi=0.1)\n",
    "ax2.yaxis.set_tick_params(which='major', size=10, width=2, direction='in', top='on',labelsize=0)\n",
    "'''\n",
    "\n",
    "ax3 = fig.add_subplot(2,2,3,sharex=ax)\n",
    "\n",
    "xlabel='log_Lx_int/Ledd'\n",
    "ylabel='zphabs_nh(10^22)'\n",
    "xerr_label='log_fint_err'\n",
    "yerr_label= None#'zphabs_nh_err'\n",
    "\n",
    "\n",
    "dataplot=rxtorus_result\n",
    "ax3=plot_errorbar(ax3,dataplot,xlabel,ylabel,xerr=xerr_label,yerr=yerr_label,color_n=color_label,marker_n='name',size_n=None,logx=False,logy=False)\n",
    "\n",
    "set_ax_tick(ax3) \n",
    "#set_ax_locator(ax,xma=1000,xmi=500,yma=1,ymi=0.5)\n",
    "#set_ax_legend(ax3,bbox_to_anchor=(0.51, 0.99))   \n",
    "#ax.set_ylim(-7,17)\n",
    "#ax.semilogy()\n",
    "ax3.set_xlabel(r'log($L_{\\rm 2-10keV}/L_{\\rm Edd}$)')\n",
    "ax3.set_ylabel(r'$N_{\\rm H,los (10^{22} cm^{-2})}$')\n",
    "\n",
    "ax3.errorbar(-3.172189,0.1,yerr=0.05,uplims=True,marker='o',color='black',ms=11)\n",
    "ax.set_ylim(1.21,1.91)\n",
    "\n",
    "\n",
    "ax3.semilogy()\n",
    "ax3.set_ylim(-0.1,205)\n",
    "ax3.set_xlim(-4.5,-1.8)\n",
    "\n",
    "\n",
    "#ax2.xaxis.set_tick_params(which='major', size=10, width=2, direction='in', top='on',)\n",
    "#ax2.xaxis.set_tick_params(which='minor', size=5, width=2, direction='in', top='on')\n",
    "#ax2.yaxis.set_tick_params(which='major', size=10, width=2, direction='in', right='on')\n",
    "#ax2.yaxis.set_tick_params(which='minor', size=5, width=2, direction='in', right='on')\n",
    "\n",
    "#ax.set_title('%s model'%model_name)\n",
    "save_lc_img_path=os.path.join('/Users/lyubing/Downloads/OXCLAGN/003_OXCLAGN/pic/Gamma_L_nh_pic/','%s.pdf'%model_name) \n",
    "plt.savefig(save_lc_img_path,dpi=400, transparent=False, bbox_inches='tight')\n",
    "#plt.close()    "
   ]
  },
  {
   "cell_type": "markdown",
   "metadata": {},
   "source": [
    "### plotLX"
   ]
  },
  {
   "cell_type": "code",
   "execution_count": null,
   "metadata": {
    "ExecuteTime": {
     "end_time": "2023-08-09T13:02:09.555531Z",
     "start_time": "2023-08-09T13:02:09.551720Z"
    }
   },
   "outputs": [],
   "source": [
    "rxtorus_result['logLx_int']"
   ]
  },
  {
   "cell_type": "code",
   "execution_count": null,
   "metadata": {
    "ExecuteTime": {
     "end_time": "2023-08-09T13:08:11.660086Z",
     "start_time": "2023-08-09T13:08:11.115797Z"
    }
   },
   "outputs": [],
   "source": [
    "fig = plt.figure(figsize=(6,6))\n",
    "fig.subplots_adjust(hspace=0., wspace = 0.)\n",
    "ax = fig.add_subplot(2,2,1)\n",
    "\n",
    "\n",
    "\n",
    "xlabel='logLx_int'\n",
    "ylabel='phoindex'\n",
    "xerr_label='log_fint_err'\n",
    "yerr_label='phoindex_err'\n",
    "color_label='black'\n",
    "\n",
    "dataplot=rxtorus_result\n",
    "ax=plot_errorbar(ax,dataplot,xlabel,ylabel,xerr=xerr_label,yerr=yerr_label,color_n=color_label,marker_n='name',size_n=None,logx=False,logy=False)\n",
    "set_ax_tick(ax) \n",
    "set_ax_locator(ax,xma=1.0,xmi=0.2,yma=0.2,ymi=0.1)\n",
    "#set_ax_legend(ax,bbox_to_anchor=(0.01, 0.99))   \n",
    "#ax.set_ylim(-7,17)\n",
    "#ax.set_xlabel(r'log($L_{\\rm X}/L_{\\rm Edd}$)')\n",
    "ax.set_ylabel(r'$\\Gamma$')\n",
    "model_name='RXTORUS'\n",
    "ax.set_title('%s'%model_name)\n",
    "\n",
    "\n",
    "'''ax2 = fig.add_subplot(2,2,2,sharey=ax)\n",
    "xlabel='zphabs_nh(10^22)'\n",
    "ylabel='phoindex'\n",
    "xerr_label=None #'zphabs_nh_err'\n",
    "yerr_label='phoindex_err'\n",
    "\n",
    "dataplot=rxtorus_result\n",
    "ax2=plot_errorbar(ax2,dataplot,xlabel,ylabel,xerr=xerr_label,yerr=yerr_label,color_n=color_label,marker_n='name',size_n=None,logx=False,logy=False)\n",
    "set_ax_tick(ax2) \n",
    "#set_ax_locator(ax,xma=1000,xmi=500,yma=1,ymi=0.5)\n",
    "#set_ax_legend(ax2,bbox_to_anchor=(0.01, 0.99))   \n",
    "#ax.set_ylim(-0.1,0.5)\n",
    "ax2.set_xlabel(r'$N_{\\rm H,los (10^{22} cm^{-2})}$')\n",
    "#ax2.set_ylabel(r'$\\Gamma$')\n",
    "#ax2.yaxis.set_major_formatter(ticker.NullFormatter())\n",
    "set_ax_locator(ax2,xma=25,xmi=5,yma=0.2,ymi=0.1)\n",
    "ax2.yaxis.set_tick_params(which='major', size=10, width=2, direction='in', top='on',labelsize=0)\n",
    "'''\n",
    "\n",
    "ax3 = fig.add_subplot(2,2,3,sharex=ax)\n",
    "\n",
    "xlabel='logLx_int'\n",
    "ylabel='zphabs_nh(10^22)'\n",
    "xerr_label='log_fint_err'\n",
    "yerr_label= None#'zphabs_nh_err'\n",
    "\n",
    "\n",
    "dataplot=rxtorus_result\n",
    "ax3=plot_errorbar(ax3,dataplot,xlabel,ylabel,xerr=xerr_label,yerr=yerr_label,color_n=color_label,marker_n='name',size_n=None,logx=False,logy=False)\n",
    "\n",
    "set_ax_tick(ax3) \n",
    "#set_ax_locator(ax,xma=1000,xmi=500,yma=1,ymi=0.5)\n",
    "#set_ax_legend(ax3,bbox_to_anchor=(0.51, 0.99))   \n",
    "#ax.set_ylim(-7,17)\n",
    "#ax.semilogy()\n",
    "ax3.set_xlabel(r'log($L_{\\rm 2-10keV}$)')\n",
    "ax3.set_ylabel(r'$N_{\\rm H,los (10^{22} cm^{-2})}$')\n",
    "\n",
    "ax3.errorbar(42.578182,0.1,yerr=0.05,uplims=True,marker='o',color='black',ms=11)\n",
    "ax.set_ylim(1.21,1.91)\n",
    "\n",
    "\n",
    "ax3.semilogy()\n",
    "ax3.set_ylim(-0.1,205)\n",
    "ax3.set_xlim(41.3,43.6)\n",
    "\n",
    "\n",
    "#ax2.xaxis.set_tick_params(which='major', size=10, width=2, direction='in', top='on',)\n",
    "#ax2.xaxis.set_tick_params(which='minor', size=5, width=2, direction='in', top='on')\n",
    "#ax2.yaxis.set_tick_params(which='major', size=10, width=2, direction='in', right='on')\n",
    "#ax2.yaxis.set_tick_params(which='minor', size=5, width=2, direction='in', right='on')\n",
    "\n",
    "#ax.set_title('%s model'%model_name)\n",
    "save_lc_img_path=os.path.join('/Users/lyubing/Downloads/OXCLAGN/003_OXCLAGN/pic/Gamma_L_nh_pic/','%s_LX.pdf'%model_name) \n",
    "plt.savefig(save_lc_img_path,dpi=400, transparent=False, bbox_inches='tight')\n",
    "#plt.close()    "
   ]
  },
  {
   "cell_type": "markdown",
   "metadata": {},
   "source": [
    "## mytorus_couple"
   ]
  },
  {
   "cell_type": "code",
   "execution_count": null,
   "metadata": {
    "ExecuteTime": {
     "end_time": "2023-11-28T12:12:09.298679Z",
     "start_time": "2023-11-28T12:12:09.246960Z"
    }
   },
   "outputs": [],
   "source": [
    "mytorus_couple_result=pd.read_excel('/Users/lyubing/Downloads/OXCLAGN/OXCLAGN_jointfit.xlsx',sheet_name='MYTC')\n",
    "\n",
    "for i in range(len(mytorus_couple_result)):\n",
    "    mytorus_couple_result.loc[i,'logmass']= name_mass_dict[mytorus_couple_result.loc[i,'name']]\n",
    "    #mytorus_couple_result.loc[i,'inclination']= name_inclination_dict[mytorus_couple_result.loc[i,'name']]\n",
    "    mytorus_couple_result.loc[i,'los_nh(10^22)']=100*mytorus_couple_result.loc[i,'torus_nh(10^24)']*np.sqrt(max(0,1-4*(np.cos(np.pi*mytorus_couple_result.loc[i,'IncAng']/180))**2))\n",
    "    mytorus_couple_result.loc[i,'los_nh_err']=mytorus_couple_result.loc[i,'torus_nh_err']*100*np.sqrt(max(0,1-4*(np.cos(np.pi*mytorus_couple_result.loc[i,'IncAng']/180))**2))\n",
    "   \n",
    "    \n",
    "        \n",
    "mytorus_couple_result['logLedd']= np.log10(1.26e38)+mytorus_couple_result['logmass']\n",
    "\n",
    "\n",
    "for i in range(len(mytorus_couple_result)):\n",
    "    mytorus_couple_result.loc[i,'redshift']= name_redshift_dict[mytorus_couple_result.loc[i,'name']]\n",
    "    mytorus_couple_result.loc[i,'D_cm']= cosmo.luminosity_distance(z=name_redshift_dict[mytorus_couple_result.loc[i,'name']]).to(u.cm).value\n",
    "\n",
    "#mytorus_couple_result['logLx']=np.log10(4*np.pi)+np.log10(mytorus_couple_result['D_cm'])*2.0+mytorus_couple_result['log_f']\n",
    "#mytorus_couple_result['log_Lx/Ledd']=mytorus_couple_result['logLx']-mytorus_couple_result['logLedd']\n",
    "    \n"
   ]
  },
  {
   "cell_type": "code",
   "execution_count": null,
   "metadata": {},
   "outputs": [],
   "source": []
  },
  {
   "cell_type": "markdown",
   "metadata": {
    "ExecuteTime": {
     "end_time": "2023-07-13T01:17:23.122632Z",
     "start_time": "2023-07-13T01:17:23.085109Z"
    }
   },
   "source": [
    "for index,nh_tor in enumerate(mytorus_couple_result['torus_nh(10^24)']):\n",
    "    x=ufloat(nh_tor, mytorus_couple_result.loc[index]['torus_nh_err'])\n",
    "    \n",
    "    if mytorus_couple_result.loc[index]['name']=='NGC7582':\n",
    "        y=ufloat(mytorus_couple_result.loc[index]['IncAng'],0.35)        \n",
    "    else:    \n",
    "        y=ufloat(mytorus_couple_result.loc[index]['IncAng'],mytorus_couple_result.loc[index]['IncAng_err'])\n",
    "    #z=mytorus_couple_result.loc[index]['redshift']\n",
    "    #print(x,y)\n",
    "    nhlos= get_losnh(x,y)\n",
    "    #logflux=get_logf_intrinsic_zpowerlaw(2.0,10.0,x,y,z)\n",
    "    #flux=get_f_intrinsic_zpowerlaw(2.0,10.0,x,y,z)\n",
    "    #print(flux.nominal_value,'+\\-',flux.std_dev)\n",
    "    \n",
    "    #print(np.log10(flux.nominal_value))#,1.0/flux.nominal_value/np.log(10)*flux.std_dev)\n",
    "    #print(1.0/flux.nominal_value/np.log(10)*flux.std_dev) #np.log10(flux.nominal_value),\n"
   ]
  },
  {
   "cell_type": "code",
   "execution_count": null,
   "metadata": {},
   "outputs": [],
   "source": []
  },
  {
   "cell_type": "code",
   "execution_count": null,
   "metadata": {
    "ExecuteTime": {
     "end_time": "2023-06-14T05:08:24.924477Z",
     "start_time": "2023-06-14T05:08:24.916556Z"
    }
   },
   "outputs": [],
   "source": [
    "mytorus_couple_result.columns"
   ]
  },
  {
   "cell_type": "code",
   "execution_count": null,
   "metadata": {
    "ExecuteTime": {
     "end_time": "2023-11-28T12:12:13.141668Z",
     "start_time": "2023-11-28T12:12:13.124303Z"
    }
   },
   "outputs": [],
   "source": [
    "mytorus_couple_result['f_int'] = get_f_intrinsic_zpowerlaw(2.0,10.0,mytorus_couple_result['phoindex'],mytorus_couple_result['zpowerlwnorm'],mytorus_couple_result['redshift'])    \n",
    "mytorus_couple_result['log_f_int']=np.log10(mytorus_couple_result['f_int'])\n",
    "\n",
    "mytorus_couple_result['logLx_int']=np.log10(4*np.pi)+np.log10(mytorus_couple_result['D_cm'])*2.0+mytorus_couple_result['log_f_int']\n",
    "mytorus_couple_result['log_Lx_int/Ledd']=mytorus_couple_result['logLx_int']-mytorus_couple_result['logLedd']\n",
    "\n",
    "mytorus_couple_result['log_f_err']=mytorus_couple_result['log_fint_err']"
   ]
  },
  {
   "cell_type": "code",
   "execution_count": null,
   "metadata": {},
   "outputs": [],
   "source": []
  },
  {
   "cell_type": "markdown",
   "metadata": {
    "ExecuteTime": {
     "end_time": "2023-07-13T01:02:33.995036Z",
     "start_time": "2023-07-13T01:02:33.974569Z"
    }
   },
   "source": [
    "mytorus_couple_result[['log_f_int','log_Lx_int/Ledd']]\n"
   ]
  },
  {
   "cell_type": "code",
   "execution_count": null,
   "metadata": {
    "ExecuteTime": {
     "end_time": "2023-07-13T00:59:52.457244Z",
     "start_time": "2023-07-13T00:59:52.433458Z"
    }
   },
   "outputs": [],
   "source": [
    "for index,gamma_i in enumerate(mytorus_couple_result['phoindex']):\n",
    "    x=ufloat(gamma_i, mytorus_couple_result.loc[index]['phoindex_err'])\n",
    "    y=ufloat(mytorus_couple_result.loc[index]['zpowerlwnorm'],mytorus_couple_result.loc[index]['zpowerlwnorm_err'])\n",
    "    z=mytorus_couple_result.loc[index]['redshift']\n",
    "    \n",
    "    #logflux=get_logf_intrinsic_zpowerlaw(2.0,10.0,x,y,z)\n",
    "    flux=get_f_intrinsic_zpowerlaw(2.0,10.0,x,y,z)\n",
    "    #print(flux.nominal_value,'+\\-',flux.std_dev)\n",
    "    \n",
    "    #print(np.log10(flux.nominal_value))#,1.0/flux.nominal_value/np.log(10)*flux.std_dev)\n",
    "    print(1.0/flux.nominal_value/np.log(10)*flux.std_dev) #np.log10(flux.nominal_value),\n"
   ]
  },
  {
   "cell_type": "code",
   "execution_count": null,
   "metadata": {
    "ExecuteTime": {
     "end_time": "2023-07-13T15:11:22.395444Z",
     "start_time": "2023-07-13T15:11:22.379680Z"
    }
   },
   "outputs": [],
   "source": []
  },
  {
   "cell_type": "code",
   "execution_count": null,
   "metadata": {
    "ExecuteTime": {
     "end_time": "2023-07-13T16:08:38.809169Z",
     "start_time": "2023-07-13T16:08:38.794854Z"
    }
   },
   "outputs": [],
   "source": [
    "mytorus_couple_result['los_nh_err']"
   ]
  },
  {
   "cell_type": "code",
   "execution_count": null,
   "metadata": {
    "ExecuteTime": {
     "end_time": "2023-07-07T08:02:28.266898Z",
     "start_time": "2023-07-07T08:02:28.255094Z"
    }
   },
   "outputs": [],
   "source": [
    "mytorus_couple_result.columns"
   ]
  },
  {
   "cell_type": "markdown",
   "metadata": {},
   "source": [
    "### MYTC_latex"
   ]
  },
  {
   "cell_type": "code",
   "execution_count": null,
   "metadata": {
    "ExecuteTime": {
     "end_time": "2023-07-13T16:09:00.624322Z",
     "start_time": "2023-07-13T16:09:00.594493Z"
    },
    "scrolled": false
   },
   "outputs": [],
   "source": [
    "for index,name in enumerate(mytorus_couple_result['name']):\n",
    "    if name=='NGC4151' or name=='NGC7582':\n",
    "        Cross_str='%.3f'%mytorus_couple_result['const_FPTM'][index]+'$\\pm$'+'%.3f'%mytorus_couple_result['const_FPTM_err'][index]+'&'\n",
    "        fscatter_cmd='%.2f'%mytorus_couple_result['fscat'][index]+'$\\pm$'+'%.2f'%mytorus_couple_result['fscat_err'][index]+'&'\n",
    "    else:\n",
    "        Cross_str='%.3f'%mytorus_couple_result['const_FPTM'][index]+'$\\pm$'+'%.3f'%mytorus_couple_result['const_FPTM_err'][index]+'/'+'%.3f'%mytorus_couple_result['const_FPTM3'][index]+'$\\pm$'+ '%.3f'%mytorus_couple_result['const_FPTM3_err'][index]+' &'\n",
    "        fscatter_cmd='- &'\n",
    " \n",
    "\n",
    "    if mytorus_couple_result['los_nh_err'][index]==-1:\n",
    "        los_nh_err_cmd='$^f$'\n",
    "    else:\n",
    "        los_nh_err_cmd='$\\pm$'+'%.1f'%mytorus_couple_result['los_nh_err'][index]\n",
    "        \n",
    "\n",
    "\n",
    "    #\\multirow{2}*\n",
    "    print(#name,'&',\n",
    "          #'%s'%mytorus_couple_result['obsid'][index],'&',\n",
    "          '\\multirow{2}*{N%d}'%(index+1),'&',\n",
    "          Cross_str,\n",
    "        \n",
    "    #print(name,'&',\n",
    "          #'%s'%mytorus_couple_result['obsid'][index],'&',\n",
    "          '%.1f'%mytorus_couple_result['los_nh(10^22)'][index]+los_nh_err_cmd+'&',\n",
    "          '%.2f'%(mytorus_couple_result['torus_nh(10^24)'][index]),'$\\pm$', '%.2f'%(mytorus_couple_result['torus_nh_err'][index]),'&',\n",
    "       \n",
    "          \n",
    "          \n",
    "          '%.2f'%mytorus_couple_result['phoindex'][index],'$\\pm$', '%.2f'%mytorus_couple_result['phoindex_err'][index],'&',\n",
    "          '%.2e'%mytorus_couple_result['zpowerlwnorm'][index],'$\\pm$', '%.2e'%mytorus_couple_result['zpowerlwnorm_err'][index],'&',\n",
    "          \n",
    "          \n",
    "           '\\\\\\\\','\\n & ',\n",
    "          '%.2f'%mytorus_couple_result['IncAng'][index],'$\\pm$', '%.2f'%mytorus_couple_result['IncAng_err'][index],'&',\n",
    "        \n",
    "           '%.2f'%mytorus_couple_result['As'][index],'$\\pm$', '%.2f'%mytorus_couple_result['As_err'][index],'&',\n",
    "          \n",
    "            fscatter_cmd,\n",
    "            \n",
    "                  \n",
    "          #'%.1f'%mytorus_couple_result['highEcut'][index]+mytorus_couple_highEcut_err_cmd,'&',\n",
    "          #'%.2f'%mytorus_couple_result['zgaussLineE'][index],'$\\pm$', '%.2f'%mytorus_couple_result['zgaussLineE_err'][index],'&',\n",
    "          #'%.2f'%mytorus_couple_result['zgaussSigma'][index],'$\\pm$', '%.2f'%mytorus_couple_result['zgaussSigma_err'][index],'&',\n",
    "          #'%.3f'%mytorus_couple_result['rRratio'][index],'$\\pm$', '%.3f'%mytorus_couple_result['rRratio_err'][index],'&',\n",
    "          \n",
    "          \n",
    "          '%.2f(%d/%d)'%(mytorus_couple_result['chi_2'][index]/mytorus_couple_result['dof'][index],mytorus_couple_result['chi_2'][index],mytorus_couple_result['dof'][index]),'&',\n",
    "          '%.3f'%float(mytorus_couple_result['log_f_int'][index]),'$\\pm$','%.3f'%float(mytorus_couple_result['log_f_err'][index]),'&',\n",
    "          \n",
    "          '%.3f'%float(mytorus_couple_result['logLx_int'][index]),'$\\pm$','%.3f'%float(mytorus_couple_result['log_f_err'][index]),#'&',\n",
    "          #'%.3f'%float(mytorus_couple_result['log_Lx_10to50keV/Ledd'][index]),'$\\pm$','%.3f'%float(mytorus_couple_result['log_f_err_10to50keV'][index]),\n",
    "          '\\\\\\\\',\n",
    "         )\n",
    "\n"
   ]
  },
  {
   "cell_type": "code",
   "execution_count": null,
   "metadata": {
    "ExecuteTime": {
     "end_time": "2023-02-14T11:41:36.014915Z",
     "start_time": "2023-02-14T11:41:36.004413Z"
    }
   },
   "outputs": [],
   "source": [
    "mytorus_couple_result.columns"
   ]
  },
  {
   "cell_type": "code",
   "execution_count": null,
   "metadata": {
    "ExecuteTime": {
     "end_time": "2023-01-28T04:50:58.127263Z",
     "start_time": "2023-01-28T04:50:56.924890Z"
    }
   },
   "outputs": [],
   "source": [
    "fig = plt.figure(figsize=(12,12))\n",
    "fig.subplots_adjust(hspace=0.3, wspace = 0.5)\n",
    "\n",
    "\n",
    "ax = fig.add_subplot(2,2,1)\n",
    "\n",
    "xlabel='log_Lx_int/Ledd'\n",
    "ylabel='phoindex'\n",
    "xerr_label='log_f_err'\n",
    "yerr_label='phoindex_err'\n",
    "color_label='los_nh(10^22)'\n",
    "#dataplot=slab_zgauss_result\n",
    "#ax=plot_errorbar_cmap(ax,dataplot,xlabel,ylabel,xerr=xerr_label,yerr=yerr_label,color_n=color_label,marker_n='name',size_n=None,logx=False,logy=False)\n",
    "dataplot=mytorus_couple_result\n",
    "ax=plot_errorbar_cmap(ax,dataplot,xlabel,ylabel,xerr=xerr_label,yerr=yerr_label,color_n=color_label,marker_n='name',size_n=None,logx=False,logy=False)\n",
    "set_ax_tick(ax) \n",
    "#set_ax_locator(ax,xma=1000,xmi=500,yma=1,ymi=0.5)\n",
    "set_ax_legend(ax,bbox_to_anchor=(0.01, 0.99))   \n",
    "#ax.set_ylim(-7,17)\n",
    "ax.set_xlabel(xlabel)\n",
    "ax.set_ylabel(ylabel)\n",
    "ax.set_title('mytorus couple model')\n",
    "\n",
    "\n",
    "ax = fig.add_subplot(2,2,2)\n",
    "\n",
    "xlabel='log_Lx_int/Ledd'\n",
    "ylabel='los_nh(10^22)'\n",
    "xerr_label='log_f_err'\n",
    "yerr_label=None#'los_nh_err'#'zphabs_nh_err'\n",
    "color_label='phoindex'\n",
    "\n",
    "dataplot=mytorus_couple_result\n",
    "ax=plot_errorbar_cmap(ax,dataplot,xlabel,ylabel,xerr=xerr_label,yerr=yerr_label,color_n=color_label,marker_n='name',size_n=None,logx=False,logy=False)\n",
    "\n",
    "set_ax_tick(ax) \n",
    "#set_ax_locator(ax,xma=1000,xmi=500,yma=1,ymi=0.5)\n",
    "set_ax_legend(ax,bbox_to_anchor=(0.51, 0.99))   \n",
    "#ax.set_ylim(-7,17)\n",
    "#ax.semilogy()\n",
    "ax.set_xlabel(xlabel)\n",
    "ax.set_ylabel(ylabel)\n",
    "\n",
    "ax = fig.add_subplot(2,2,3)\n",
    "xlabel='los_nh(10^22)'\n",
    "ylabel='phoindex'\n",
    "xerr_label=None#'log_f_err'\n",
    "yerr_label='phoindex_err'#'los_nh_err'#'zphabs_nh_err'\n",
    "color_label='log_Lx/Ledd'\n",
    "\n",
    "dataplot=mytorus_couple_result\n",
    "ax=plot_errorbar_cmap(ax,dataplot,xlabel,ylabel,xerr=xerr_label,yerr=yerr_label,color_n=color_label,marker_n='name',size_n=None,logx=False,logy=False)\n",
    "\n",
    "set_ax_tick(ax) \n",
    "#set_ax_locator(ax,xma=1000,xmi=500,yma=1,ymi=0.5)\n",
    "set_ax_legend(ax,bbox_to_anchor=(0.51, 0.99))   \n",
    "#ax.set_ylim(-7,17)\n",
    "#ax.semilogy()\n",
    "ax.set_xlabel(xlabel)\n",
    "ax.set_ylabel(ylabel)\n",
    "\n",
    "model_name='MYTC'\n",
    "#ax.set_title('%s model'%model_name)\n",
    "plt.title('%s model'%model_name)\n",
    "save_lc_img_path=os.path.join('/Users/lyubing/Downloads/','%s_cmap.png'%model_name) \n",
    "plt.savefig(save_lc_img_path,dpi=400, transparent=False, bbox_inches='tight')\n",
    "#plt.close() "
   ]
  },
  {
   "cell_type": "code",
   "execution_count": null,
   "metadata": {
    "ExecuteTime": {
     "end_time": "2023-01-29T08:19:28.284894Z",
     "start_time": "2023-01-29T08:19:28.276850Z"
    }
   },
   "outputs": [],
   "source": [
    "mytorus_couple_result.columns"
   ]
  },
  {
   "cell_type": "code",
   "execution_count": null,
   "metadata": {
    "ExecuteTime": {
     "end_time": "2023-01-29T08:20:27.339518Z",
     "start_time": "2023-01-29T08:20:27.187003Z"
    }
   },
   "outputs": [],
   "source": [
    "figure_n= 1\n",
    "fig = plt.figure(figsize=(6,figure_n*6))\n",
    "fig.subplots_adjust(hspace=0.0, wspace = 0.0)\n",
    "ax = fig.add_subplot(figure_n,1,1)\n",
    "\n",
    "xlabel='IncAng'\n",
    "ylabel='torus_nh(10^24)'\n",
    "xerr_label=None#'log_f_err'\n",
    "yerr_label='torus_nh_err'#'zphabs_nh_err'\n",
    "color_label='logLx'\n",
    "\n",
    "dataplot=mytorus_couple_result\n",
    "ax=plot_errorbar_cmap(ax,dataplot,xlabel,ylabel,xerr=xerr_label,yerr=yerr_label,color_n=color_label,marker_n='name',size_n=None,logx=False,logy=False)\n",
    "\n",
    "set_ax_tick(ax) \n",
    "#set_ax_locator(ax,xma=1000,xmi=500,yma=1,ymi=0.5)\n",
    "set_ax_legend(ax,bbox_to_anchor=(0.01, 0.99))   \n",
    "#ax.set_ylim(-7,17)\n",
    "#ax.semilogy()\n",
    "ax.set_xlabel(xlabel)\n",
    "ax.set_ylabel(ylabel)\n",
    "ax.set_title('MYTC')\n"
   ]
  },
  {
   "cell_type": "code",
   "execution_count": null,
   "metadata": {},
   "outputs": [],
   "source": []
  },
  {
   "cell_type": "code",
   "execution_count": null,
   "metadata": {
    "ExecuteTime": {
     "end_time": "2023-01-13T08:44:38.728055Z",
     "start_time": "2023-01-13T08:44:38.717684Z"
    }
   },
   "outputs": [],
   "source": [
    "(1-4*np.cos(np.pi*70/180)**2)*0.51*100"
   ]
  },
  {
   "cell_type": "code",
   "execution_count": null,
   "metadata": {
    "ExecuteTime": {
     "end_time": "2023-01-13T08:46:27.320569Z",
     "start_time": "2023-01-13T08:46:27.308698Z"
    }
   },
   "outputs": [],
   "source": [
    "(1-4*np.cos(np.pi*68/180)**2)*0.83*100"
   ]
  },
  {
   "cell_type": "code",
   "execution_count": null,
   "metadata": {},
   "outputs": [],
   "source": [
    "(1-4*np.cos(np.pi*70/180)**2)*0.63*100"
   ]
  },
  {
   "cell_type": "code",
   "execution_count": null,
   "metadata": {},
   "outputs": [],
   "source": []
  },
  {
   "cell_type": "code",
   "execution_count": null,
   "metadata": {
    "ExecuteTime": {
     "end_time": "2023-01-13T08:45:41.163657Z",
     "start_time": "2023-01-13T08:45:41.149677Z"
    }
   },
   "outputs": [],
   "source": [
    "(1-4*(np.cos(np.pi*70/180))**2)"
   ]
  },
  {
   "cell_type": "code",
   "execution_count": null,
   "metadata": {
    "ExecuteTime": {
     "end_time": "2023-01-13T08:43:06.153584Z",
     "start_time": "2023-01-13T08:43:06.125423Z"
    }
   },
   "outputs": [],
   "source": [
    "mytorus_couple_result"
   ]
  },
  {
   "cell_type": "code",
   "execution_count": null,
   "metadata": {
    "ExecuteTime": {
     "end_time": "2023-02-06T11:33:17.380159Z",
     "start_time": "2023-02-06T11:33:17.367040Z"
    }
   },
   "outputs": [],
   "source": [
    "mytorus_couple_result.columns"
   ]
  },
  {
   "cell_type": "code",
   "execution_count": null,
   "metadata": {
    "ExecuteTime": {
     "end_time": "2023-01-13T08:12:33.891727Z",
     "start_time": "2023-01-13T08:12:33.862994Z"
    }
   },
   "outputs": [],
   "source": [
    "mytorus_couple_result"
   ]
  },
  {
   "cell_type": "markdown",
   "metadata": {
    "ExecuteTime": {
     "end_time": "2023-02-06T11:33:11.328302Z",
     "start_time": "2023-02-06T11:33:11.264548Z"
    }
   },
   "source": [
    "mytorus_couple_result['los_nh(10^22)']=mytorus_couple_result['los_nh(10^24)']*100\n",
    "mytorus_couple_result['los_nh_err(10^22)']=mytorus_couple_result['los_nh_err']*100"
   ]
  },
  {
   "cell_type": "code",
   "execution_count": null,
   "metadata": {},
   "outputs": [],
   "source": []
  },
  {
   "cell_type": "code",
   "execution_count": null,
   "metadata": {},
   "outputs": [],
   "source": []
  },
  {
   "cell_type": "code",
   "execution_count": null,
   "metadata": {
    "ExecuteTime": {
     "end_time": "2023-07-29T14:03:11.774975Z",
     "start_time": "2023-07-29T14:03:11.762847Z"
    }
   },
   "outputs": [],
   "source": [
    "mytorus_couple_result['log_Lx_int/Ledd']"
   ]
  },
  {
   "cell_type": "markdown",
   "metadata": {},
   "source": [
    "### plot3para"
   ]
  },
  {
   "cell_type": "code",
   "execution_count": null,
   "metadata": {
    "ExecuteTime": {
     "end_time": "2023-08-09T13:04:54.800947Z",
     "start_time": "2023-08-09T13:04:53.844272Z"
    }
   },
   "outputs": [],
   "source": [
    "fig = plt.figure(figsize=(7,7))\n",
    "fig.subplots_adjust(hspace=0., wspace = 0.)\n",
    "ax = fig.add_subplot(2,2,1)\n",
    "xlabel='log_Lx_int/Ledd'\n",
    "ylabel='phoindex'\n",
    "xerr_label='log_fint_err'\n",
    "yerr_label='phoindex_err'\n",
    "color_label='black'\n",
    "\n",
    "dataplot=mytorus_couple_result\n",
    "ax=plot_errorbar(ax,dataplot,xlabel,ylabel,xerr=xerr_label,yerr=yerr_label,color_n=color_label,marker_n='name',size_n=None,logx=False,logy=False)\n",
    "set_ax_tick(ax) \n",
    "set_ax_locator(ax,xma=1.0,xmi=0.2,yma=0.2,ymi=0.1)\n",
    "set_ax_legend(ax,bbox_to_anchor=(0.01, 0.99))   \n",
    "#ax.set_ylim(-7,17)\n",
    "#ax.set_xlabel(r'log($L_{\\rm X}/L_{\\rm Edd}$)')\n",
    "ax.set_ylabel(r'$\\Gamma$')\n",
    "model_name='MYTC'\n",
    "ax.set_title('%s'%model_name)\n",
    "\n",
    "\n",
    "'''\n",
    "ax2 = fig.add_subplot(2,2,2)\n",
    "xlabel='los_nh(10^22)'\n",
    "ylabel='phoindex'\n",
    "xerr_label= None#'los_nh_err(10^22)'#'log_f_err'\n",
    "yerr_label='phoindex_err'#'zphabs_nh_err'\n",
    "\n",
    "\n",
    "dataplot=mytorus_couple_result\n",
    "ax2=plot_errorbar(ax2,dataplot,xlabel,ylabel,xerr=xerr_label,yerr=yerr_label,color_n=color_label,marker_n='name',size_n=None,logx=False,logy=False)\n",
    "set_ax_tick(ax2) \n",
    "#set_ax_locator(ax,xma=1000,xmi=500,yma=1,ymi=0.5)\n",
    "#set_ax_legend(ax2,bbox_to_anchor=(0.51, 0.99))   \n",
    "#ax.set_ylim(-0.1,0.5)\n",
    "ax2.set_xlabel(r'$N_{\\rm H,los (10^{22} cm^{-2})}$')\n",
    "#ax2.set_ylabel(r'$\\Gamma$')\n",
    "#ax2.yaxis.set_major_formatter(ticker.NullFormatter())\n",
    "set_ax_locator(ax2,xma=25,xmi=5,yma=0.2,ymi=0.1)\n",
    "ax2.yaxis.set_tick_params(which='major', size=10, width=2, direction='in', top='on',labelsize=0)\n",
    "ax2.set_xlim(-10,99)'''\n",
    "\n",
    "ax3 = fig.add_subplot(2,2,3,sharex=ax)\n",
    "\n",
    "xlabel='log_Lx_int/Ledd'\n",
    "ylabel='los_nh(10^22)'\n",
    "xerr_label='log_fint_err'\n",
    "yerr_label= None#'los_nh_err(10^22)'#'zphabs_nh_err'\n",
    "\n",
    "dataplot=mytorus_couple_result\n",
    "ax3=plot_errorbar(ax3,dataplot,xlabel,ylabel,xerr=xerr_label,yerr=yerr_label,color_n=color_label,marker_n='name',size_n=None,logx=False,logy=False)\n",
    "\n",
    "set_ax_tick(ax3) \n",
    "#set_ax_locator(ax,xma=1000,xmi=500,yma=1,ymi=0.5)\n",
    "#set_ax_legend(ax3,bbox_to_anchor=(0.51, 0.99))   \n",
    "#\n",
    "#ax.semilogy()\n",
    "ax3.set_xlabel(r'log($L_{\\rm 2-10keV}/L_{\\rm Edd}$)')\n",
    "ax3.set_ylabel(r'$N_{\\rm H,los (10^{22} cm^{-2})}$')\n",
    "#ax3.set_ylim(-10,99)\n",
    "\n",
    "\n",
    "\n",
    "ax3.errorbar(-3.21064,0.1,yerr=0.05,uplims=True,marker='o',color='black',ms=11)\n",
    "ax.set_ylim(1.41,1.91)\n",
    "\n",
    "\n",
    "ax3.semilogy()\n",
    "ax3.set_ylim(-0.1,205)\n",
    "\n",
    "ax3.set_xlim(-4.5,-2.2)\n",
    "#ax.set_ylim(1.51,2.01)\n",
    "\n",
    "#ax2.xaxis.set_tick_params(which='major', size=10, width=2, direction='in', top='on',)\n",
    "#ax2.xaxis.set_tick_params(which='minor', size=5, width=2, direction='in', top='on')\n",
    "#ax2.yaxis.set_tick_params(which='major', size=10, width=2, direction='in', right='on')\n",
    "#ax2.yaxis.set_tick_params(which='minor', size=5, width=2, direction='in', right='on')\n",
    "\n",
    "\n",
    "#ax.set_title('%s model'%model_name)\n",
    "save_lc_img_path=os.path.join('/Users/lyubing/Downloads/OXCLAGN/003_OXCLAGN/pic/Gamma_L_nh_pic/','%s.pdf'%model_name) \n",
    "plt.savefig(save_lc_img_path,dpi=400, transparent=False, bbox_inches='tight')\n",
    "#plt.close()    "
   ]
  },
  {
   "cell_type": "markdown",
   "metadata": {},
   "source": [
    "### plotLX"
   ]
  },
  {
   "cell_type": "code",
   "execution_count": null,
   "metadata": {
    "ExecuteTime": {
     "end_time": "2023-08-09T13:04:13.012047Z",
     "start_time": "2023-08-09T13:04:13.007953Z"
    }
   },
   "outputs": [],
   "source": [
    "mytorus_couple_result['logLx_int']"
   ]
  },
  {
   "cell_type": "code",
   "execution_count": null,
   "metadata": {
    "ExecuteTime": {
     "end_time": "2023-08-09T13:08:02.345423Z",
     "start_time": "2023-08-09T13:08:01.434803Z"
    }
   },
   "outputs": [],
   "source": [
    "fig = plt.figure(figsize=(7,7))\n",
    "fig.subplots_adjust(hspace=0., wspace = 0.)\n",
    "ax = fig.add_subplot(2,2,1)\n",
    "xlabel='logLx_int'\n",
    "ylabel='phoindex'\n",
    "xerr_label='log_fint_err'\n",
    "yerr_label='phoindex_err'\n",
    "color_label='black'\n",
    "\n",
    "dataplot=mytorus_couple_result\n",
    "ax=plot_errorbar(ax,dataplot,xlabel,ylabel,xerr=xerr_label,yerr=yerr_label,color_n=color_label,marker_n='name',size_n=None,logx=False,logy=False)\n",
    "set_ax_tick(ax) \n",
    "set_ax_locator(ax,xma=1.0,xmi=0.2,yma=0.2,ymi=0.1)\n",
    "set_ax_legend(ax,bbox_to_anchor=(0.01, 0.99))   \n",
    "#ax.set_ylim(-7,17)\n",
    "#ax.set_xlabel(r'log($L_{\\rm X}/L_{\\rm Edd}$)')\n",
    "ax.set_ylabel(r'$\\Gamma$')\n",
    "model_name='MYTC'\n",
    "ax.set_title('%s'%model_name)\n",
    "\n",
    "\n",
    "'''\n",
    "ax2 = fig.add_subplot(2,2,2)\n",
    "xlabel='los_nh(10^22)'\n",
    "ylabel='phoindex'\n",
    "xerr_label= None#'los_nh_err(10^22)'#'log_f_err'\n",
    "yerr_label='phoindex_err'#'zphabs_nh_err'\n",
    "\n",
    "\n",
    "dataplot=mytorus_couple_result\n",
    "ax2=plot_errorbar(ax2,dataplot,xlabel,ylabel,xerr=xerr_label,yerr=yerr_label,color_n=color_label,marker_n='name',size_n=None,logx=False,logy=False)\n",
    "set_ax_tick(ax2) \n",
    "#set_ax_locator(ax,xma=1000,xmi=500,yma=1,ymi=0.5)\n",
    "#set_ax_legend(ax2,bbox_to_anchor=(0.51, 0.99))   \n",
    "#ax.set_ylim(-0.1,0.5)\n",
    "ax2.set_xlabel(r'$N_{\\rm H,los (10^{22} cm^{-2})}$')\n",
    "#ax2.set_ylabel(r'$\\Gamma$')\n",
    "#ax2.yaxis.set_major_formatter(ticker.NullFormatter())\n",
    "set_ax_locator(ax2,xma=25,xmi=5,yma=0.2,ymi=0.1)\n",
    "ax2.yaxis.set_tick_params(which='major', size=10, width=2, direction='in', top='on',labelsize=0)\n",
    "ax2.set_xlim(-10,99)'''\n",
    "\n",
    "ax3 = fig.add_subplot(2,2,3,sharex=ax)\n",
    "\n",
    "xlabel='logLx_int'\n",
    "ylabel='los_nh(10^22)'\n",
    "xerr_label='log_fint_err'\n",
    "yerr_label= None#'los_nh_err(10^22)'#'zphabs_nh_err'\n",
    "\n",
    "dataplot=mytorus_couple_result\n",
    "ax3=plot_errorbar(ax3,dataplot,xlabel,ylabel,xerr=xerr_label,yerr=yerr_label,color_n=color_label,marker_n='name',size_n=None,logx=False,logy=False)\n",
    "\n",
    "set_ax_tick(ax3) \n",
    "#set_ax_locator(ax,xma=1000,xmi=500,yma=1,ymi=0.5)\n",
    "#set_ax_legend(ax3,bbox_to_anchor=(0.51, 0.99))   \n",
    "#\n",
    "#ax.semilogy()\n",
    "ax3.set_xlabel(r'log($L_{\\rm 2-10keV}$)')\n",
    "ax3.set_ylabel(r'$N_{\\rm H,los (10^{22} cm^{-2})}$')\n",
    "#ax3.set_ylim(-10,99)\n",
    "\n",
    "\n",
    "\n",
    "ax3.errorbar(42.539730,0.1,yerr=0.05,uplims=True,marker='o',color='black',ms=11)\n",
    "ax.set_ylim(1.41,1.91)\n",
    "\n",
    "\n",
    "ax3.semilogy()\n",
    "ax3.set_ylim(-0.1,205)\n",
    "\n",
    "ax3.set_xlim(41.3,43.6)\n",
    "#ax.set_ylim(1.51,2.01)\n",
    "\n",
    "#ax2.xaxis.set_tick_params(which='major', size=10, width=2, direction='in', top='on',)\n",
    "#ax2.xaxis.set_tick_params(which='minor', size=5, width=2, direction='in', top='on')\n",
    "#ax2.yaxis.set_tick_params(which='major', size=10, width=2, direction='in', right='on')\n",
    "#ax2.yaxis.set_tick_params(which='minor', size=5, width=2, direction='in', right='on')\n",
    "\n",
    "\n",
    "#ax.set_title('%s model'%model_name)\n",
    "save_lc_img_path=os.path.join('/Users/lyubing/Downloads/OXCLAGN/003_OXCLAGN/pic/Gamma_L_nh_pic/','%s_LX.pdf'%model_name) \n",
    "plt.savefig(save_lc_img_path,dpi=400, transparent=False, bbox_inches='tight')\n",
    "#plt.close()    "
   ]
  },
  {
   "cell_type": "code",
   "execution_count": null,
   "metadata": {},
   "outputs": [],
   "source": []
  },
  {
   "cell_type": "code",
   "execution_count": null,
   "metadata": {},
   "outputs": [],
   "source": []
  },
  {
   "cell_type": "markdown",
   "metadata": {},
   "source": [
    "## mytorus_decouple"
   ]
  },
  {
   "cell_type": "code",
   "execution_count": null,
   "metadata": {
    "ExecuteTime": {
     "end_time": "2023-11-28T12:12:19.773269Z",
     "start_time": "2023-11-28T12:12:19.737111Z"
    }
   },
   "outputs": [],
   "source": [
    "mytorus_decouple_result=pd.read_excel('/Users/lyubing/Downloads/OXCLAGN/OXCLAGN_jointfit.xlsx',sheet_name='MYTD')\n",
    "\n",
    "for i in range(len(mytorus_decouple_result)):\n",
    "    mytorus_decouple_result.loc[i,'logmass']= name_mass_dict[mytorus_decouple_result.loc[i,'name']]\n",
    "mytorus_decouple_result['logLedd']= np.log10(1.26e38)+mytorus_decouple_result['logmass']\n",
    "\n",
    "\n",
    "for i in range(len(mytorus_decouple_result)):\n",
    "    mytorus_decouple_result.loc[i,'redshift']= name_redshift_dict[mytorus_decouple_result.loc[i,'name']]\n",
    "    mytorus_decouple_result.loc[i,'D_cm']= cosmo.luminosity_distance(z=name_redshift_dict[mytorus_decouple_result.loc[i,'name']]).to(u.cm).value\n",
    "\n",
    "#mytorus_decouple_result['logLx']=np.log10(4*np.pi)+np.log10(mytorus_decouple_result['D_cm'])*2.0+mytorus_decouple_result['log_f']\n",
    "#mytorus_decouple_result['log_Lx/Ledd']=mytorus_decouple_result['logLx']-mytorus_decouple_result['logLedd']\n",
    "  \n",
    "    \n",
    "#mytorus_decouple_result['los_nh(10^22)']=mytorus_decouple_result['los_nh(10^24)']*100\n",
    "#mytorus_decouple_result['los_nh_err(10^22)']=mytorus_decouple_result['los_nh_err']*100\n",
    "\n",
    "#mytorus_decouple_result['torus_nh(10^22)']=mytorus_decouple_result['torus_nh(10^24)']*100\n",
    "#mytorus_decouple_result['torus_nh_err(10^22)']=mytorus_decouple_result['torus_nh_err']*100    \n"
   ]
  },
  {
   "cell_type": "code",
   "execution_count": null,
   "metadata": {
    "ExecuteTime": {
     "end_time": "2023-07-11T11:04:29.162868Z",
     "start_time": "2023-07-11T11:04:29.154907Z"
    }
   },
   "outputs": [],
   "source": [
    "mytorus_decouple_result.columns"
   ]
  },
  {
   "cell_type": "code",
   "execution_count": null,
   "metadata": {
    "ExecuteTime": {
     "end_time": "2023-07-29T12:12:36.830388Z",
     "start_time": "2023-07-29T12:12:36.808888Z"
    }
   },
   "outputs": [],
   "source": [
    "for index,gamma_i in enumerate(mytorus_decouple_result['phoindex']):\n",
    "    x=ufloat(gamma_i, mytorus_decouple_result.loc[index]['phoindex_err'])\n",
    "    y=ufloat(mytorus_decouple_result.loc[index]['zpowerlwnorm'],mytorus_decouple_result.loc[index]['zpowerlwnorm_err'])\n",
    "    z=mytorus_decouple_result.loc[index]['redshift']\n",
    "    \n",
    "    #logflux=get_logf_intrinsic_zpowerlaw(2.0,10.0,x,y,z)\n",
    "    flux=get_f_intrinsic_zpowerlaw(2.0,10.0,x,y,z)\n",
    "    #print(flux.nominal_value,'+\\-',flux.std_dev)\n",
    "    \n",
    "    #print(np.log10(flux.nominal_value))#,1.0/flux.nominal_value/np.log(10)*flux.std_dev)\n",
    "    print(1.0/flux.nominal_value/np.log(10)*flux.std_dev) #np.log10(flux.nominal_value),\n",
    "    \n"
   ]
  },
  {
   "cell_type": "code",
   "execution_count": null,
   "metadata": {
    "ExecuteTime": {
     "end_time": "2023-11-28T12:12:22.602740Z",
     "start_time": "2023-11-28T12:12:22.584416Z"
    }
   },
   "outputs": [],
   "source": [
    "mytorus_decouple_result['f_int'] = get_f_intrinsic_zpowerlaw(2.0,10.0,mytorus_decouple_result['phoindex'],mytorus_decouple_result['zpowerlwnorm'],mytorus_decouple_result['redshift'])\n",
    "mytorus_decouple_result['log_f_int']=np.log10(mytorus_decouple_result['f_int'])\n",
    "\n",
    "mytorus_decouple_result['logLx_int']=np.log10(4*np.pi)+np.log10(mytorus_decouple_result['D_cm'])*2.0+mytorus_decouple_result['log_f_int']\n",
    "mytorus_decouple_result['log_Lx_int/Ledd']=mytorus_decouple_result['logLx_int']-mytorus_decouple_result['logLedd']\n",
    "\n"
   ]
  },
  {
   "cell_type": "code",
   "execution_count": null,
   "metadata": {
    "ExecuteTime": {
     "end_time": "2023-11-28T12:12:24.707147Z",
     "start_time": "2023-11-28T12:12:24.699045Z"
    }
   },
   "outputs": [],
   "source": [
    "mytorus_decouple_result['log_f_err']=mytorus_decouple_result['log_fint_err'] #0.001"
   ]
  },
  {
   "cell_type": "code",
   "execution_count": null,
   "metadata": {},
   "outputs": [],
   "source": []
  },
  {
   "cell_type": "code",
   "execution_count": null,
   "metadata": {},
   "outputs": [],
   "source": []
  },
  {
   "cell_type": "code",
   "execution_count": null,
   "metadata": {
    "ExecuteTime": {
     "end_time": "2023-06-14T05:08:35.669398Z",
     "start_time": "2023-06-14T05:08:35.651117Z"
    }
   },
   "outputs": [],
   "source": [
    "mytorus_decouple_result[['log_Lx/Ledd','log_Lx_int/Ledd']]"
   ]
  },
  {
   "cell_type": "markdown",
   "metadata": {},
   "source": [
    "### MYTD_latex"
   ]
  },
  {
   "cell_type": "markdown",
   "metadata": {
    "ExecuteTime": {
     "end_time": "2023-06-16T06:54:54.288977Z",
     "start_time": "2023-06-16T06:54:54.264577Z"
    }
   },
   "source": [
    "for index,name in enumerate(mytorus_decouple_result['name']):\n",
    "    if mytorus_decouple_result['los_nh_err(10^22)'][index]<0:\n",
    "        str_err_losnh='$^f$'\n",
    "    else:\n",
    "        str_err_losnh='$\\pm$'+'%.1f'%mytorus_decouple_result['los_nh_err(10^22)'][index]\n",
    "        \n",
    "        \n",
    "    print(name,'&',\n",
    "          '%s'%mytorus_decouple_result['obsid'][index],'&',\n",
    "          '%.1f'%mytorus_decouple_result['los_nh(10^22)'][index],str_err_losnh,'&',\n",
    "  \n",
    "          '%.0f'%(mytorus_decouple_result['torus_nh(10^24)'][index]*100),'$\\pm$', '%.0f'%(mytorus_decouple_result['torus_nh_err'][index]*100),'&',\n",
    "          '%.2f'%mytorus_decouple_result['As'][index],'$\\pm$', '%.2f'%mytorus_decouple_result['As_err'][index],'&',\n",
    "       \n",
    "                       \n",
    "          '%.2f'%mytorus_decouple_result['phoindex'][index],'$\\pm$', '%.2f'%mytorus_decouple_result['phoindex_err'][index],'&',\n",
    "          '%.2e'%mytorus_decouple_result['zpowerlwnorm'][index],'$\\pm$', '%.2e'%mytorus_decouple_result['zpowerlwnorm_err'][index],'&',\n",
    "               \n",
    "          #'%.1f'%mytorus_decouple_result['highEcut'][index]+mytorus_decouple_highEcut_err_cmd,'&',\n",
    "          #'%.2f'%mytorus_decouple_result['zgaussLineE'][index],'$\\pm$', '%.2f'%mytorus_decouple_result['zgaussLineE_err'][index],'&',\n",
    "          #'%.2f'%mytorus_decouple_result['zgaussSigma'][index],'$\\pm$', '%.2f'%mytorus_decouple_result['zgaussSigma_err'][index],'&',\n",
    "          #'%.3f'%mytorus_decouple_result['rRratio'][index],'$\\pm$', '%.3f'%mytorus_decouple_result['rRratio_err'][index],'&',\n",
    "          \n",
    "          \n",
    "          '%.2f(%d/%d)'%(mytorus_decouple_result['chi_2'][index]/mytorus_decouple_result['dof'][index],mytorus_decouple_result['chi_2'][index],mytorus_decouple_result['dof'][index]),'&',\n",
    "          '%.3f'%float(mytorus_decouple_result['log_Lx_int/Ledd'][index]),'$\\pm$','%.3f'%float(mytorus_decouple_result['log_f_err'][index]),#'&',\n",
    "          #'%.3f'%float(mytorus_decouple_result['log_Lx_10to50keV/Ledd'][index]),'$\\pm$','%.3f'%float(mytorus_decouple_result['log_f_err_10to50keV'][index]),\n",
    "          '\\\\\\\\',\n",
    "         )\n",
    "\n"
   ]
  },
  {
   "cell_type": "code",
   "execution_count": null,
   "metadata": {
    "ExecuteTime": {
     "end_time": "2023-07-29T12:14:13.542327Z",
     "start_time": "2023-07-29T12:14:13.516605Z"
    }
   },
   "outputs": [],
   "source": [
    "for index,name in enumerate(mytorus_decouple_result['name']):\n",
    "    if name=='NGC4151' or name=='NGC7582':\n",
    "        Cross_str='%.3f'%mytorus_decouple_result['const_FPTM'][index]+'$\\pm$'+'%.3f'%mytorus_decouple_result['const_FPTM_err'][index]+'&'\n",
    "        fscatter_cmd='%.2f'%mytorus_decouple_result['fscat'][index]+'$\\pm$'+'%.2f'%mytorus_decouple_result['fscat_err'][index]+'&'\n",
    "    else:\n",
    "        Cross_str='%.3f'%mytorus_decouple_result['const_FPTM'][index]+'$\\pm$'+'%.3f'%mytorus_decouple_result['const_FPTM_err'][index]+'/'+'%.3f'%mytorus_decouple_result['const_FPTM3'][index]+'$\\pm$'+ '%.3f'%mytorus_decouple_result['const_FPTM3_err'][index]+' &'\n",
    "        fscatter_cmd='- &'\n",
    " \n",
    "\n",
    "    if mytorus_decouple_result['los_nh_err'][index]==-1:\n",
    "        los_nh_err_cmd='$^f$'\n",
    "    else:\n",
    "        los_nh_err_cmd='$\\pm$'+'%.2f'%mytorus_decouple_result['los_nh_err'][index]\n",
    "        \n",
    "\n",
    "\n",
    "    #\\multirow{2}*\n",
    "    print(#name,'&',\n",
    "          #'%s'%mytorus_decouple_result['obsid'][index],'&',\n",
    "          '\\multirow{2}*{N%d}'%(index+1),'&',\n",
    "          Cross_str,\n",
    "        \n",
    "    #print(name,'&',\n",
    "          #'%s'%mytorus_decouple_result['obsid'][index],'&',\n",
    "          '%.2f'%mytorus_decouple_result['los_nh(10^22)'][index]+los_nh_err_cmd+'&',\n",
    "          '%.2f'%(mytorus_decouple_result['torus_nh(10^24)'][index]),'$\\pm$', '%.2f'%(mytorus_decouple_result['torus_nh_err'][index]),'&',\n",
    "       \n",
    "          \n",
    "          \n",
    "          '%.2f'%mytorus_decouple_result['phoindex'][index],'$\\pm$', '%.2f'%mytorus_decouple_result['phoindex_err'][index],'&',\n",
    "          '%.2e'%mytorus_decouple_result['zpowerlwnorm'][index],'$\\pm$', '%.2e'%mytorus_decouple_result['zpowerlwnorm_err'][index],'&',\n",
    "          \n",
    "          #'%.2f'%mytorus_decouple_result['IncAng'][index],'$\\pm$', '%.2f'%mytorus_decouple_result['IncAng_err'][index],'&',\n",
    "          \n",
    "           '\\\\\\\\','\\n & ',\n",
    "        \n",
    "           '%.2f'%mytorus_decouple_result['As'][index],'$\\pm$', '%.2f'%mytorus_decouple_result['As_err'][index],'&',\n",
    "          \n",
    "            fscatter_cmd,\n",
    "            \n",
    "                  \n",
    "          #'%.1f'%mytorus_decouple_result['highEcut'][index]+mytorus_couple_highEcut_err_cmd,'&',\n",
    "          #'%.2f'%mytorus_decouple_result['zgaussLineE'][index],'$\\pm$', '%.2f'%mytorus_decouple_result['zgaussLineE_err'][index],'&',\n",
    "          #'%.2f'%mytorus_decouple_result['zgaussSigma'][index],'$\\pm$', '%.2f'%mytorus_decouple_result['zgaussSigma_err'][index],'&',\n",
    "          #'%.3f'%mytorus_decouple_result['rRratio'][index],'$\\pm$', '%.3f'%mytorus_decouple_result['rRratio_err'][index],'&',\n",
    "          \n",
    "          \n",
    "          '%.2f(%d/%d)'%(mytorus_decouple_result['chi_2'][index]/mytorus_decouple_result['dof'][index],mytorus_decouple_result['chi_2'][index],mytorus_decouple_result['dof'][index]),'&',\n",
    "          '%.3f'%float(mytorus_decouple_result['log_f_int'][index]),'$\\pm$','%.3f'%float(mytorus_decouple_result['log_f_err'][index]),'&',\n",
    "          \n",
    "          '%.3f'%float(mytorus_decouple_result['logLx_int'][index]),'$\\pm$','%.3f'%float(mytorus_decouple_result['log_f_err'][index]),#'&',\n",
    "          #'%.3f'%float(mytorus_decouple_result['log_Lx_10to50keV/Ledd'][index]),'$\\pm$','%.3f'%float(mytorus_decouple_result['log_f_err_10to50keV'][index]),\n",
    "          '\\\\\\\\',\n",
    "         )\n",
    "\n"
   ]
  },
  {
   "cell_type": "code",
   "execution_count": null,
   "metadata": {},
   "outputs": [],
   "source": []
  },
  {
   "cell_type": "code",
   "execution_count": null,
   "metadata": {},
   "outputs": [],
   "source": []
  },
  {
   "cell_type": "code",
   "execution_count": null,
   "metadata": {
    "ExecuteTime": {
     "end_time": "2023-07-29T12:13:37.661014Z",
     "start_time": "2023-07-29T12:13:37.650201Z"
    }
   },
   "outputs": [],
   "source": [
    "mytorus_decouple_result.columns"
   ]
  },
  {
   "cell_type": "code",
   "execution_count": null,
   "metadata": {
    "ExecuteTime": {
     "end_time": "2023-02-01T12:52:02.282172Z",
     "start_time": "2023-02-01T12:52:00.980888Z"
    }
   },
   "outputs": [],
   "source": [
    "fig = plt.figure(figsize=(12,12))\n",
    "fig.subplots_adjust(hspace=0.3, wspace = 0.5)\n",
    "\n",
    "\n",
    "ax = fig.add_subplot(2,2,1)\n",
    "\n",
    "xlabel='log_Lx/Ledd'\n",
    "ylabel='phoindex'\n",
    "xerr_label='log_f_err'\n",
    "yerr_label='phoindex_err'\n",
    "color_label='los_nh(10^22)'\n",
    "#dataplot=slab_zgauss_result\n",
    "#ax=plot_errorbar_cmap(ax,dataplot,xlabel,ylabel,xerr=xerr_label,yerr=yerr_label,color_n=color_label,marker_n='name',size_n=None,logx=False,logy=False)\n",
    "dataplot=mytorus_decouple_result\n",
    "ax=plot_errorbar_cmap(ax,dataplot,xlabel,ylabel,xerr=xerr_label,yerr=yerr_label,color_n=color_label,marker_n='name',size_n=None,logx=False,logy=False)\n",
    "set_ax_tick(ax) \n",
    "#set_ax_locator(ax,xma=1000,xmi=500,yma=1,ymi=0.5)\n",
    "set_ax_legend(ax,bbox_to_anchor=(0.01, 0.99))   \n",
    "#ax.set_ylim(-7,17)\n",
    "ax.set_xlabel(xlabel)\n",
    "ax.set_ylabel(ylabel)\n",
    "ax.set_title('mytorus decouple model')\n",
    "\n",
    "\n",
    "ax = fig.add_subplot(2,2,2)\n",
    "\n",
    "xlabel='log_Lx/Ledd'\n",
    "ylabel='los_nh(10^22)'\n",
    "xerr_label='log_f_err'\n",
    "yerr_label='los_nh_err'#'zphabs_nh_err'\n",
    "color_label='phoindex'\n",
    "\n",
    "dataplot=mytorus_decouple_result\n",
    "ax=plot_errorbar_cmap(ax,dataplot,xlabel,ylabel,xerr=xerr_label,yerr=yerr_label,color_n=color_label,marker_n='name',size_n=None,logx=False,logy=False)\n",
    "\n",
    "set_ax_tick(ax) \n",
    "#set_ax_locator(ax,xma=1000,xmi=500,yma=1,ymi=0.5)\n",
    "set_ax_legend(ax,bbox_to_anchor=(0.51, 0.99))   \n",
    "#ax.set_ylim(-7,17)\n",
    "#ax.semilogy()\n",
    "ax.set_xlabel(xlabel)\n",
    "ax.set_ylabel(ylabel)\n",
    "\n",
    "\n",
    "ax = fig.add_subplot(2,2,3)\n",
    "\n",
    "xlabel='los_nh(10^22)'\n",
    "ylabel='phoindex'\n",
    "xerr_label='los_nh_err(10^22)'#'log_f_err'\n",
    "yerr_label='phoindex_err'#'zphabs_nh_err'\n",
    "color_label='log_Lx/Ledd'\n",
    "\n",
    "dataplot=mytorus_decouple_result\n",
    "ax=plot_errorbar_cmap(ax,dataplot,xlabel,ylabel,xerr=xerr_label,yerr=yerr_label,color_n=color_label,marker_n='name',size_n=None,logx=False,logy=False)\n",
    "\n",
    "set_ax_tick(ax) \n",
    "#set_ax_locator(ax,xma=1000,xmi=500,yma=1,ymi=0.5)\n",
    "set_ax_legend(ax,bbox_to_anchor=(0.51, 0.99))   \n",
    "#ax.set_ylim(-7,17)\n",
    "#ax.semilogy()\n",
    "ax.set_xlabel(xlabel)\n",
    "ax.set_ylabel(ylabel)\n",
    "\n",
    "model_name='MYTD'\n",
    "#ax.set_title('%s model'%model_name)\n",
    "plt.title('%s model'%model_name)\n",
    "save_lc_img_path=os.path.join('/Users/lyubing/Downloads/','%s_cmap.png'%model_name) \n",
    "plt.savefig(save_lc_img_path,dpi=400, transparent=False, bbox_inches='tight')\n",
    "#plt.close() "
   ]
  },
  {
   "cell_type": "code",
   "execution_count": null,
   "metadata": {
    "ExecuteTime": {
     "end_time": "2023-07-29T14:05:01.179214Z",
     "start_time": "2023-07-29T14:05:01.169077Z"
    }
   },
   "outputs": [],
   "source": [
    "mytorus_decouple_result.columns"
   ]
  },
  {
   "cell_type": "markdown",
   "metadata": {
    "ExecuteTime": {
     "end_time": "2023-01-29T08:18:44.046399Z",
     "start_time": "2023-01-29T08:18:43.878475Z"
    }
   },
   "source": []
  },
  {
   "cell_type": "markdown",
   "metadata": {},
   "source": [
    "### plot3para"
   ]
  },
  {
   "cell_type": "code",
   "execution_count": null,
   "metadata": {
    "ExecuteTime": {
     "end_time": "2023-07-29T14:05:36.009960Z",
     "start_time": "2023-07-29T14:05:34.983265Z"
    }
   },
   "outputs": [],
   "source": [
    "fig = plt.figure(figsize=(7,7))\n",
    "fig.subplots_adjust(hspace=0., wspace = 0.)\n",
    "ax = fig.add_subplot(2,2,1)\n",
    "xlabel='log_Lx_int/Ledd'\n",
    "ylabel='phoindex'\n",
    "xerr_label='log_fint_err'\n",
    "yerr_label='phoindex_err'\n",
    "color_label='grey'\n",
    "\n",
    "dataplot=mytorus_decouple_result\n",
    "ax=plot_errorbar(ax,dataplot,xlabel,ylabel,xerr=xerr_label,yerr=yerr_label,color_n=color_label,marker_n='name',size_n=None,logx=False,logy=False,blank_plot=True)\n",
    "set_ax_tick(ax) \n",
    "set_ax_locator(ax,xma=1.0,xmi=0.2,yma=0.2,ymi=0.1)\n",
    "set_ax_legend(ax,bbox_to_anchor=(0.01, 0.99))   \n",
    "#ax.set_ylim(-7,17)\n",
    "#ax.set_xlabel(r'log($L_{\\rm X}/L_{\\rm Edd}$)')\n",
    "ax.set_ylabel(r'$\\Gamma$')\n",
    "model_name='MYTD'\n",
    "ax.set_title('%s'%model_name)\n",
    "\n",
    "\n",
    "'''ax2 = fig.add_subplot(2,2,2)\n",
    "xlabel='los_nh(10^22)'\n",
    "ylabel='phoindex'\n",
    "xerr_label='los_nh_err(10^22)'#'log_f_err'\n",
    "yerr_label='phoindex_err'#'zphabs_nh_err'\n",
    "\n",
    "\n",
    "dataplot=mytorus_decouple_result\n",
    "ax2=plot_errorbar(ax2,dataplot,xlabel,ylabel,xerr=xerr_label,yerr=yerr_label,color_n=color_label,marker_n='name',size_n=None,logx=False,logy=False,blank_plot=True)\n",
    "set_ax_tick(ax2) \n",
    "#set_ax_locator(ax,xma=1000,xmi=500,yma=1,ymi=0.5)\n",
    "#set_ax_legend(ax2,bbox_to_anchor=(0.51, 0.99))   \n",
    "#ax.set_ylim(-0.1,0.5)\n",
    "ax2.set_xlabel(r'$N_{\\rm H,los (10^{22} cm^{-2})}$')\n",
    "#ax2.set_ylabel(r'$\\Gamma$')\n",
    "#ax2.yaxis.set_major_formatter(ticker.NullFormatter())\n",
    "set_ax_locator(ax2,xma=25,xmi=5,yma=0.2,ymi=0.1)\n",
    "ax2.yaxis.set_tick_params(which='major', size=10, width=2, direction='in', top='on',labelsize=0)\n",
    "'''\n",
    "\n",
    "ax3 = fig.add_subplot(2,2,3,sharex=ax)\n",
    "\n",
    "xlabel='log_Lx_int/Ledd'\n",
    "ylabel='los_nh(10^22)'\n",
    "xerr_label='log_fint_err'\n",
    "yerr_label='los_nh_err'#'zphabs_nh_err'\n",
    "\n",
    "dataplot=mytorus_decouple_result\n",
    "ax3=plot_errorbar(ax3,dataplot,xlabel,ylabel,xerr=xerr_label,yerr=yerr_label,color_n=color_label,marker_n='name',size_n=None,logx=False,logy=False,blank_plot=True)\n",
    "\n",
    "set_ax_tick(ax3) \n",
    "#set_ax_locator(ax,xma=1000,xmi=500,yma=1,ymi=0.5)\n",
    "#set_ax_legend(ax3,bbox_to_anchor=(0.51, 0.99))   \n",
    "#\n",
    "#ax.semilogy()\n",
    "ax3.set_xlabel(r'log($L_{\\rm 2-10keV}/L_{\\rm Edd}$)')\n",
    "ax3.set_ylabel(r'$N_{\\rm H,los (10^{22} cm^{-2})}$')\n",
    "#ax3.set_ylim(0.1,99)\n",
    "ax3.semilogy()\n",
    "ax3.set_ylim(-0.1,205)\n",
    "ax3.set_xlim(-4.5,-2.2)\n",
    "ax.set_ylim(1.51,2.1)\n",
    "#ax2.xaxis.set_tick_params(which='major', size=10, width=2, direction='in', top='on',)\n",
    "#ax2.xaxis.set_tick_params(which='minor', size=5, width=2, direction='in', top='on')\n",
    "#ax2.yaxis.set_tick_params(which='major', size=10, width=2, direction='in', right='on')\n",
    "#ax2.yaxis.set_tick_params(which='minor', size=5, width=2, direction='in', right='on')\n",
    "\n",
    "\n",
    "#ax.set_title('%s model'%model_name)\n",
    "save_lc_img_path=os.path.join('/Users/lyubing/Downloads/OXCLAGN/003_OXCLAGN/pic/Gamma_L_nh_pic/','%s.pdf'%model_name) \n",
    "plt.savefig(save_lc_img_path,dpi=400, transparent=False, bbox_inches='tight')\n",
    "#plt.close()    "
   ]
  },
  {
   "cell_type": "markdown",
   "metadata": {},
   "source": [
    "### plot LX"
   ]
  },
  {
   "cell_type": "code",
   "execution_count": null,
   "metadata": {
    "ExecuteTime": {
     "end_time": "2023-08-09T13:05:47.348509Z",
     "start_time": "2023-08-09T13:05:47.344372Z"
    }
   },
   "outputs": [],
   "source": [
    "mytorus_decouple_result['logLx_int']"
   ]
  },
  {
   "cell_type": "code",
   "execution_count": null,
   "metadata": {
    "ExecuteTime": {
     "end_time": "2023-08-09T15:08:13.227142Z",
     "start_time": "2023-08-09T15:08:12.492587Z"
    }
   },
   "outputs": [],
   "source": [
    "fig = plt.figure(figsize=(7,7))\n",
    "fig.subplots_adjust(hspace=0., wspace = 0.)\n",
    "ax = fig.add_subplot(2,2,1)\n",
    "xlabel='logLx_int'\n",
    "ylabel='phoindex'\n",
    "xerr_label='log_fint_err'\n",
    "yerr_label='phoindex_err'\n",
    "color_label='black'\n",
    "\n",
    "dataplot=mytorus_decouple_result\n",
    "ax=plot_errorbar(ax,dataplot,xlabel,ylabel,xerr=xerr_label,yerr=yerr_label,color_n=color_label,marker_n='name',size_n=None,logx=False,logy=False,blank_plot=True)\n",
    "set_ax_tick(ax) \n",
    "set_ax_locator(ax,xma=1.0,xmi=0.2,yma=0.2,ymi=0.1)\n",
    "set_ax_legend(ax,bbox_to_anchor=(0.01, 0.99))   \n",
    "#ax.set_ylim(-7,17)\n",
    "#ax.set_xlabel(r'log($L_{\\rm X}/L_{\\rm Edd}$)')\n",
    "ax.set_ylabel(r'$\\Gamma$')\n",
    "model_name='MYTD'\n",
    "ax.set_title('%s'%model_name)\n",
    "\n",
    "\n",
    "'''ax2 = fig.add_subplot(2,2,2)\n",
    "xlabel='los_nh(10^22)'\n",
    "ylabel='phoindex'\n",
    "xerr_label='los_nh_err(10^22)'#'log_f_err'\n",
    "yerr_label='phoindex_err'#'zphabs_nh_err'\n",
    "\n",
    "\n",
    "dataplot=mytorus_decouple_result\n",
    "ax2=plot_errorbar(ax2,dataplot,xlabel,ylabel,xerr=xerr_label,yerr=yerr_label,color_n=color_label,marker_n='name',size_n=None,logx=False,logy=False,blank_plot=True)\n",
    "set_ax_tick(ax2) \n",
    "#set_ax_locator(ax,xma=1000,xmi=500,yma=1,ymi=0.5)\n",
    "#set_ax_legend(ax2,bbox_to_anchor=(0.51, 0.99))   \n",
    "#ax.set_ylim(-0.1,0.5)\n",
    "ax2.set_xlabel(r'$N_{\\rm H,los (10^{22} cm^{-2})}$')\n",
    "#ax2.set_ylabel(r'$\\Gamma$')\n",
    "#ax2.yaxis.set_major_formatter(ticker.NullFormatter())\n",
    "set_ax_locator(ax2,xma=25,xmi=5,yma=0.2,ymi=0.1)\n",
    "ax2.yaxis.set_tick_params(which='major', size=10, width=2, direction='in', top='on',labelsize=0)\n",
    "'''\n",
    "\n",
    "ax3 = fig.add_subplot(2,2,3,sharex=ax)\n",
    "\n",
    "xlabel='logLx_int'\n",
    "ylabel='los_nh(10^22)'\n",
    "xerr_label='log_fint_err'\n",
    "yerr_label='los_nh_err'#'zphabs_nh_err'\n",
    "\n",
    "dataplot=mytorus_decouple_result\n",
    "ax3=plot_errorbar(ax3,dataplot,xlabel,ylabel,xerr=xerr_label,yerr=yerr_label,color_n=color_label,marker_n='name',size_n=None,logx=False,logy=False,blank_plot=True)\n",
    "\n",
    "set_ax_tick(ax3) \n",
    "#set_ax_locator(ax,xma=1000,xmi=500,yma=1,ymi=0.5)\n",
    "#set_ax_legend(ax3,bbox_to_anchor=(0.51, 0.99))   \n",
    "#\n",
    "#ax.semilogy()\n",
    "ax3.set_xlabel(r'log($L_{\\rm 2-10keV}$)')\n",
    "ax3.set_ylabel(r'$N_{\\rm H,los (10^{22} cm^{-2})}$')\n",
    "#ax3.set_ylim(0.1,99)\n",
    "ax3.semilogy()\n",
    "ax3.set_ylim(-0.1,205)\n",
    "ax3.set_xlim(41.3,43.6)\n",
    "ax.set_ylim(1.51,2.1)\n",
    "#ax2.xaxis.set_tick_params(which='major', size=10, width=2, direction='in', top='on',)\n",
    "#ax2.xaxis.set_tick_params(which='minor', size=5, width=2, direction='in', top='on')\n",
    "#ax2.yaxis.set_tick_params(which='major', size=10, width=2, direction='in', right='on')\n",
    "#ax2.yaxis.set_tick_params(which='minor', size=5, width=2, direction='in', right='on')\n",
    "\n",
    "\n",
    "#ax.set_title('%s model'%model_name)\n",
    "save_lc_img_path=os.path.join('/Users/lyubing/Downloads/OXCLAGN/003_OXCLAGN/pic/Gamma_L_nh_pic/','%s_LX.pdf'%model_name) \n",
    "plt.savefig(save_lc_img_path,dpi=400, transparent=False, bbox_inches='tight')\n",
    "#plt.close()    "
   ]
  },
  {
   "cell_type": "code",
   "execution_count": null,
   "metadata": {},
   "outputs": [],
   "source": []
  },
  {
   "cell_type": "code",
   "execution_count": null,
   "metadata": {},
   "outputs": [],
   "source": []
  },
  {
   "cell_type": "markdown",
   "metadata": {},
   "source": [
    "# f_intrinsic(gamma,norm,z)"
   ]
  },
  {
   "cell_type": "code",
   "execution_count": 56,
   "metadata": {
    "ExecuteTime": {
     "end_time": "2023-12-02T08:13:45.349483Z",
     "start_time": "2023-12-02T08:13:45.346766Z"
    }
   },
   "outputs": [],
   "source": [
    "def get_f_intrinsic_zpowerlaw(Emin,Emax,gamma,norm,z):\n",
    "    \n",
    "    #AE=  norm*(E**(-1.0*gamma)*(1+z)**(-1.0*gamma)\n",
    "    #FE=  norm*(E**(1-1.0*gamma)*(1+z)**(-1.0*gamma)\n",
    "                  \n",
    "    Flux=  norm*(1+z)**(-1.0*gamma)/(2-gamma) *(Emax**(2-gamma)-Emin**(2-gamma))*1.6022e-9#keV =erg      \n",
    "        \n",
    "    return Flux  "
   ]
  },
  {
   "cell_type": "code",
   "execution_count": 57,
   "metadata": {
    "ExecuteTime": {
     "end_time": "2023-12-02T08:13:46.344855Z",
     "start_time": "2023-12-02T08:13:46.331804Z"
    }
   },
   "outputs": [],
   "source": [
    "def get_f_intrinsic_zpowerlaw_zeq2(Emin,Emax,gamma,norm,z):\n",
    "    \n",
    "    #AE=  norm*(E**(-1.0*gamma)*(1+z)**(-1.0*gamma)\n",
    "    #FE=  norm*(E**(1-1.0*gamma)*(1+z)**(-1.0*gamma)\n",
    "    if gamma!=2:                  \n",
    "        Flux=  norm*(1+z)**(-1.0*gamma)/(2-gamma) *(Emax**(2-gamma)-Emin**(2-gamma))*1.6022e-9#keV =erg      \n",
    "    else:\n",
    "        Flux= norm*(1+z)**(-1.0*gamma)*np.log10(Emax/Emin)*1.6022e-9\n",
    "        \n",
    "    return Flux  "
   ]
  },
  {
   "cell_type": "code",
   "execution_count": 61,
   "metadata": {
    "ExecuteTime": {
     "end_time": "2023-12-02T08:14:14.598719Z",
     "start_time": "2023-12-02T08:14:14.587215Z"
    }
   },
   "outputs": [
    {
     "data": {
      "text/plain": [
       "2.523565372732584e-13"
      ]
     },
     "execution_count": 61,
     "metadata": {},
     "output_type": "execute_result"
    }
   ],
   "source": [
    "get_f_intrinsic_zpowerlaw(2,10,2.01,1e-4,0.0033)"
   ]
  },
  {
   "cell_type": "code",
   "execution_count": 60,
   "metadata": {
    "ExecuteTime": {
     "end_time": "2023-12-02T08:14:07.387937Z",
     "start_time": "2023-12-02T08:14:07.375009Z"
    }
   },
   "outputs": [
    {
     "data": {
      "text/plain": [
       "1.1125348951342748e-13"
      ]
     },
     "execution_count": 60,
     "metadata": {},
     "output_type": "execute_result"
    }
   ],
   "source": [
    "get_f_intrinsic_zpowerlaw_zeq2(2,10,2,1e-4,0.0033)"
   ]
  },
  {
   "cell_type": "code",
   "execution_count": null,
   "metadata": {},
   "outputs": [],
   "source": []
  },
  {
   "cell_type": "code",
   "execution_count": 62,
   "metadata": {
    "ExecuteTime": {
     "end_time": "2023-12-02T08:14:29.176489Z",
     "start_time": "2023-12-02T08:14:29.168342Z"
    }
   },
   "outputs": [],
   "source": [
    "def get_logf_intrinsic_zpowerlaw(Emin,Emax,gamma,norm,z):\n",
    "    \n",
    "    #AE=  norm*(E**(-1.0*gamma)*(1+z)**(-1.0*gamma)\n",
    "    #FE=  norm*(E**(1-1.0*gamma)*(1+z)**(-1.0*gamma)\n",
    "                      \n",
    "    Flux=  norm*(1+z)**(-1.0*gamma)/(2-gamma) *(Emax**(2-gamma)-Emin**(2-gamma))*1.6022e-9      \n",
    "    \n",
    "    return np.log10(Flux)  "
   ]
  },
  {
   "cell_type": "code",
   "execution_count": null,
   "metadata": {},
   "outputs": [],
   "source": []
  },
  {
   "cell_type": "markdown",
   "metadata": {
    "ExecuteTime": {
     "end_time": "2023-10-29T07:42:01.652746Z",
     "start_time": "2023-10-29T07:42:01.639875Z"
    }
   },
   "source": [
    "import math\n",
    "from scipy import integrate     \n",
    "\n",
    "\n",
    "\n",
    "def function_zcutoff(E,gamma,norm,z,Ecut):\n",
    "    \n",
    "    FE=norm*(E**(1-1.0*gamma)*(1+z)**(-1.0*gamma)*np.exp(-E/Ecut)\n",
    "    \n",
    "    return FE\n",
    "                 \n",
    "def get_f_intrinsic_zcutoff(Emin,Emax,gamma,norm,z,Ecut):\n",
    "\n",
    "             \n",
    "    #AE=norm*(E**(-1.0*gamma)*(1+z)**(-1.0*gamma)*np.exp(-E/Ecut)\n",
    "    #FE=         norm*(E**(1-1.0*gamma)*(1+z)**(-1.0*gamma)                      \n",
    "    #Flux=  norm*(1+z)**(-1.0*gamma)/(2-gamma) *(Emax**(2-gamma)-Emin**(2-gamma))       \n",
    "    fArea,err = integrate.quad(function_zcutoff,Emin,Emax,args = (gamma,norm,z,Ecut))\n",
    "    fArea =fArea*1.6022e-9 \n",
    "             \n",
    "    return fArea  \n",
    "             \n",
    "             "
   ]
  },
  {
   "cell_type": "code",
   "execution_count": null,
   "metadata": {},
   "outputs": [],
   "source": []
  },
  {
   "cell_type": "code",
   "execution_count": null,
   "metadata": {
    "ExecuteTime": {
     "end_time": "2023-10-20T19:27:27.314724Z",
     "start_time": "2023-10-20T19:27:27.304848Z"
    }
   },
   "outputs": [],
   "source": [
    "np.exp(-2/100),np.exp(-10/100)"
   ]
  },
  {
   "cell_type": "code",
   "execution_count": null,
   "metadata": {
    "ExecuteTime": {
     "end_time": "2023-10-20T19:27:27.567347Z",
     "start_time": "2023-10-20T19:27:27.558281Z"
    }
   },
   "outputs": [],
   "source": [
    "np.exp(-2/200),np.exp(-10/200)"
   ]
  },
  {
   "cell_type": "markdown",
   "metadata": {},
   "source": [
    "# uncertainties"
   ]
  },
  {
   "cell_type": "code",
   "execution_count": 63,
   "metadata": {
    "ExecuteTime": {
     "end_time": "2023-12-02T08:14:33.471306Z",
     "start_time": "2023-12-02T08:14:33.447571Z"
    }
   },
   "outputs": [],
   "source": [
    "from uncertainties import ufloat\n",
    "import uncertainties"
   ]
  },
  {
   "cell_type": "markdown",
   "metadata": {},
   "source": [
    "slab_result['f_int'] = get_f_intrinsic_zpowerlaw(2.0,10.0,slab_result['phoindex'],slab_result['zcutoffplnorm'],slab_result['redshift'])    \n",
    "slab_result['log_f_int'] = np.log10(slab_result['f_int'] )\n",
    "slab_result[['log_f','log_f_int']]"
   ]
  },
  {
   "cell_type": "code",
   "execution_count": null,
   "metadata": {
    "ExecuteTime": {
     "end_time": "2023-06-14T13:56:40.394936Z",
     "start_time": "2023-06-14T13:56:40.384993Z"
    }
   },
   "outputs": [],
   "source": [
    "slab_result.loc[0]['phoindex_err']"
   ]
  },
  {
   "cell_type": "code",
   "execution_count": null,
   "metadata": {
    "ExecuteTime": {
     "end_time": "2023-10-29T07:44:58.887130Z",
     "start_time": "2023-10-29T07:44:58.858520Z"
    }
   },
   "outputs": [],
   "source": [
    "for index,gamma_i in enumerate(slab_result['phoindex']):\n",
    "    x=ufloat(gamma_i, slab_result.loc[index]['phoindex_err']) \n",
    "    y=ufloat(slab_result.loc[index]['zcutoffplnorm'],slab_result.loc[index]['zcutoffplnorm_err'])\n",
    "    z=slab_result.loc[index]['redshift']\n",
    "    \n",
    "    #logflux=get_logf_intrinsic_zpowerlaw(2.0,10.0,x,y,z)\n",
    "    flux=get_f_intrinsic_zpowerlaw(2.0,10.0,x,y,z)\n",
    "    #print(flux.nominal_value,'+\\-',flux.std_dev)\n",
    "    \n",
    "    print(np.log10(flux.nominal_value))#,1.0/flux.nominal_value/np.log(10)*flux.std_dev)\n",
    "    #print(1.0/flux.nominal_value/np.log(10)*flux.std_dev) #np.log10(flux.nominal_value),"
   ]
  },
  {
   "cell_type": "code",
   "execution_count": null,
   "metadata": {
    "ExecuteTime": {
     "end_time": "2023-10-29T07:45:45.688931Z",
     "start_time": "2023-10-29T07:45:45.661313Z"
    }
   },
   "outputs": [],
   "source": [
    "for index,gamma_i in enumerate(slab_result['phoindex']):\n",
    "    x=ufloat(gamma_i, slab_result.loc[index]['phoindex_err']) \n",
    "    y=ufloat(slab_result.loc[index]['zcutoffplnorm'],slab_result.loc[index]['zcutoffplnorm_err'])\n",
    "    z=slab_result.loc[index]['redshift']\n",
    "    \n",
    "    #logflux=get_logf_intrinsic_zpowerlaw(2.0,10.0,x,y,z)\n",
    "    flux=get_f_intrinsic_zpowerlaw(2.0,10.0,x,y,z)\n",
    "    #print(flux.nominal_value,'+\\-',flux.std_dev)\n",
    "    \n",
    "    #print(index,1.0/flux.nominal_value/np.log(10)*flux.std_dev) #np.log10(flux.nominal_value),\n",
    "    print(1.0/flux.nominal_value/np.log(10)*flux.std_dev) #np.log10(flux.nominal_value),"
   ]
  },
  {
   "cell_type": "code",
   "execution_count": null,
   "metadata": {},
   "outputs": [],
   "source": []
  },
  {
   "cell_type": "code",
   "execution_count": null,
   "metadata": {
    "ExecuteTime": {
     "end_time": "2023-06-23T06:38:31.139847Z",
     "start_time": "2023-06-23T06:38:31.132259Z"
    }
   },
   "outputs": [],
   "source": [
    "np.log10(4*np.pi*5.8E-11*(1.023802e+26)**2)"
   ]
  },
  {
   "cell_type": "code",
   "execution_count": null,
   "metadata": {
    "ExecuteTime": {
     "end_time": "2023-06-23T06:38:40.809523Z",
     "start_time": "2023-06-23T06:38:40.798210Z"
    }
   },
   "outputs": [],
   "source": [
    "np.log10(4*np.pi*8.45E-11*(1.023802e+26)**2)"
   ]
  },
  {
   "cell_type": "code",
   "execution_count": null,
   "metadata": {},
   "outputs": [],
   "source": []
  },
  {
   "cell_type": "code",
   "execution_count": null,
   "metadata": {
    "ExecuteTime": {
     "end_time": "2023-06-23T06:36:51.128397Z",
     "start_time": "2023-06-23T06:36:51.116870Z"
    }
   },
   "outputs": [],
   "source": [
    "np.log10(4*np.pi*9.20E-12*(7.033602e+25)**2)"
   ]
  },
  {
   "cell_type": "code",
   "execution_count": null,
   "metadata": {
    "ExecuteTime": {
     "end_time": "2023-06-23T06:37:14.482496Z",
     "start_time": "2023-06-23T06:37:14.472086Z"
    }
   },
   "outputs": [],
   "source": [
    "np.log10(4*np.pi*7.20E-12*(7.033602e+25)**2)"
   ]
  },
  {
   "cell_type": "code",
   "execution_count": null,
   "metadata": {},
   "outputs": [],
   "source": []
  },
  {
   "cell_type": "code",
   "execution_count": null,
   "metadata": {},
   "outputs": [],
   "source": []
  },
  {
   "cell_type": "code",
   "execution_count": null,
   "metadata": {},
   "outputs": [],
   "source": []
  },
  {
   "cell_type": "code",
   "execution_count": null,
   "metadata": {
    "ExecuteTime": {
     "end_time": "2023-05-28T13:33:51.423033Z",
     "start_time": "2023-05-28T13:33:51.415356Z"
    }
   },
   "outputs": [],
   "source": [
    "x = ufloat(0.20, 0.05)  # x = 0.20+/-0.01\n",
    "y = ufloat(0.30, 0.02)  # x = 0.20+/-0.01   \n",
    "z= x*y**2\n"
   ]
  },
  {
   "cell_type": "code",
   "execution_count": null,
   "metadata": {
    "ExecuteTime": {
     "end_time": "2023-05-28T13:33:57.353206Z",
     "start_time": "2023-05-28T13:33:57.345430Z"
    }
   },
   "outputs": [],
   "source": [
    "print(z)"
   ]
  },
  {
   "cell_type": "markdown",
   "metadata": {},
   "source": [
    "## siml_results"
   ]
  },
  {
   "cell_type": "markdown",
   "metadata": {
    "ExecuteTime": {
     "end_time": "2023-11-26T12:49:31.928940Z",
     "start_time": "2023-11-26T12:49:31.904609Z"
    }
   },
   "source": [
    "siml_results=pd.read_csv('/Users/lyubing/Downloads/01joint_pexrav_fscat_simul.csv')"
   ]
  },
  {
   "cell_type": "markdown",
   "metadata": {
    "ExecuteTime": {
     "end_time": "2023-11-26T12:49:32.783690Z",
     "start_time": "2023-11-26T12:49:32.736022Z"
    }
   },
   "source": [
    "siml_results"
   ]
  },
  {
   "cell_type": "markdown",
   "metadata": {
    "ExecuteTime": {
     "end_time": "2023-11-26T12:49:33.896499Z",
     "start_time": "2023-11-26T12:49:33.867675Z"
    }
   },
   "source": [
    "slab_result['logLedd']= np.log10(1.26e38)+slab_result['logmass']\n",
    "\n",
    "for i in range(len(slab_result)):\n",
    "    slab_result.loc[i,'redshift']= name_redshift_dict[slab_result.loc[i,'name']]\n",
    "    slab_result.loc[i,'D_cm']= cosmo.luminosity_distance(z=name_redshift_dict[slab_result.loc[i,'name']]).to(u.cm).value\n"
   ]
  },
  {
   "cell_type": "code",
   "execution_count": null,
   "metadata": {
    "ExecuteTime": {
     "end_time": "2023-11-26T12:49:44.788650Z",
     "start_time": "2023-11-26T12:49:43.987728Z"
    }
   },
   "outputs": [],
   "source": [
    "for index, name in enumerate(siml_results['name']):\n",
    "    if name=='NGC4151':\n",
    "        siml_results.loc[index,'mass']=7.6\n",
    "        siml_results.loc[index,'z']=0.0033\n",
    "        \n",
    "    elif name=='NGC7582':\n",
    "        siml_results.loc[index,'mass']=7.74\n",
    "        siml_results.loc[index,'z']=0.0053\n",
    "  \n",
    "    elif name=='NGC1365':\n",
    "        siml_results.loc[index,'mass']=6.65\n",
    "        siml_results.loc[index,'z']=0.0055\n",
    "\n",
    "    gamma=   siml_results.loc[index,'phoindex'] \n",
    "    norm = siml_results.loc[index,'zcutoffplnorm'] \n",
    "    z=siml_results.loc[index,'z']\n",
    "    \n",
    "    siml_results.loc[index,'D_cm']=cosmo.luminosity_distance(z).to(u.cm).value\n",
    "    d_cm_i=siml_results.loc[index,'D_cm']\n",
    "    \n",
    "    siml_results.loc[index,'flux']=get_f_intrinsic_zpowerlaw_zeq2(2,10,gamma,norm,z)    \n",
    "    \n",
    "    #siml_results.loc[index,'L']= 4*np.pi*d_cm_i**2*siml_results.loc[index,'flux']\n",
    "    \n",
    "    \n",
    "    siml_results.loc[index,'logLedd']= np.log10(1.26e38)+siml_results.loc[index,'mass']\n",
    "    siml_results.loc[index,'logLx_int']=np.log10(4*np.pi)+np.log10(d_cm_i)*2.0+ np.log10(siml_results.loc[index,'flux'])\n",
    "    siml_results.loc[index,'log_Lx_int/Ledd']=siml_results.loc[index,'logLx_int']-siml_results.loc[index,'logLedd']  \n",
    "    \n",
    "    \n"
   ]
  },
  {
   "cell_type": "code",
   "execution_count": null,
   "metadata": {
    "ExecuteTime": {
     "end_time": "2023-11-26T12:49:47.058364Z",
     "start_time": "2023-11-26T12:49:46.991051Z"
    }
   },
   "outputs": [],
   "source": [
    "siml_results.to_csv('/Users/lyubing/Downloads/01joint_pexrav_fscat_simul_results.csv',index=False)"
   ]
  },
  {
   "cell_type": "code",
   "execution_count": null,
   "metadata": {
    "ExecuteTime": {
     "end_time": "2023-11-27T13:38:54.742123Z",
     "start_time": "2023-11-27T13:38:54.700399Z"
    }
   },
   "outputs": [],
   "source": [
    "siml_results=pd.read_csv('/Users/lyubing/Downloads/01joint_pexrav_fscat_simul_results.csv')\n",
    "siml_results#['flux']"
   ]
  },
  {
   "cell_type": "code",
   "execution_count": null,
   "metadata": {
    "ExecuteTime": {
     "end_time": "2023-11-26T11:28:53.736317Z",
     "start_time": "2023-11-26T11:28:53.723119Z"
    }
   },
   "outputs": [],
   "source": [
    "siml_results['logLx_int']"
   ]
  },
  {
   "cell_type": "code",
   "execution_count": null,
   "metadata": {
    "ExecuteTime": {
     "end_time": "2023-11-26T11:29:26.452538Z",
     "start_time": "2023-11-26T11:29:26.434134Z"
    }
   },
   "outputs": [],
   "source": [
    "siml_results['log_Lx_int/Ledd']"
   ]
  },
  {
   "cell_type": "markdown",
   "metadata": {},
   "source": [
    "## mcmc result"
   ]
  },
  {
   "cell_type": "code",
   "execution_count": null,
   "metadata": {
    "ExecuteTime": {
     "end_time": "2023-11-27T13:58:33.365949Z",
     "start_time": "2023-11-27T13:58:33.349186Z"
    }
   },
   "outputs": [],
   "source": [
    "mcmcresult100=pd.read_csv('/Users/lyubing/Downloads/01mcmc.csv',header=None)\n",
    "mcmcresult100.columns=['name','obsid','i','nh','Gamma','norm']"
   ]
  },
  {
   "cell_type": "code",
   "execution_count": null,
   "metadata": {
    "ExecuteTime": {
     "end_time": "2023-11-27T13:58:37.558732Z",
     "start_time": "2023-11-27T13:58:37.545419Z"
    }
   },
   "outputs": [],
   "source": [
    "mcmcresult100.columns"
   ]
  },
  {
   "cell_type": "code",
   "execution_count": null,
   "metadata": {
    "ExecuteTime": {
     "end_time": "2023-11-27T14:01:19.757228Z",
     "start_time": "2023-11-27T14:01:18.961014Z"
    }
   },
   "outputs": [],
   "source": [
    "for index, name in enumerate(mcmcresult100['name']):\n",
    "    if name=='NGC4151':\n",
    "        mcmcresult100.loc[index,'mass']=7.6\n",
    "        mcmcresult100.loc[index,'z']=0.0033\n",
    "        \n",
    "    elif name=='NGC7582':\n",
    "        mcmcresult100.loc[index,'mass']=7.74\n",
    "        mcmcresult100.loc[index,'z']=0.0053\n",
    "  \n",
    "    elif name=='NGC1365':\n",
    "        mcmcresult100.loc[index,'mass']=6.65\n",
    "        mcmcresult100.loc[index,'z']=0.0055\n",
    "\n",
    "    gamma=   mcmcresult100.loc[index,'Gamma']\n",
    "    norm = mcmcresult100.loc[index,'norm']\n",
    "    z=mcmcresult100.loc[index,'z']\n",
    "    \n",
    "    mcmcresult100.loc[index,'D_cm']=cosmo.luminosity_distance(z).to(u.cm).value\n",
    "    d_cm_i=mcmcresult100.loc[index,'D_cm']\n",
    "    \n",
    "    mcmcresult100.loc[index,'flux']=get_f_intrinsic_zpowerlaw_zeq2(2,10,gamma,norm,z)\n",
    "    \n",
    "    #mcmcresult100.loc[index,'L']= 4*np.pi*d_cm_i**2*mcmcresult100.loc[index,'flux']\n",
    "    \n",
    "    \n",
    "    mcmcresult100.loc[index,'logLedd']= np.log10(1.26e38)+mcmcresult100.loc[index,'mass']\n",
    "    mcmcresult100.loc[index,'logLx_int']=np.log10(4*np.pi)+np.log10(d_cm_i)*2.0+ np.log10(mcmcresult100.loc[index,'flux'])\n",
    "    mcmcresult100.loc[index,'log_Lx_int/Ledd']=mcmcresult100.loc[index,'logLx_int']-mcmcresult100.loc[index,'logLedd']\n",
    "    \n"
   ]
  },
  {
   "cell_type": "markdown",
   "metadata": {
    "ExecuteTime": {
     "end_time": "2023-11-27T14:01:41.715176Z",
     "start_time": "2023-11-27T14:01:41.673903Z"
    }
   },
   "source": [
    "mcmcresult100.to_csv('/Users/lyubing/Downloads/01mcmc_results.csv',index=False)"
   ]
  },
  {
   "cell_type": "code",
   "execution_count": null,
   "metadata": {
    "ExecuteTime": {
     "end_time": "2023-11-27T14:01:56.725675Z",
     "start_time": "2023-11-27T14:01:56.705752Z"
    }
   },
   "outputs": [],
   "source": [
    "mcmcresult100=pd.read_csv('/Users/lyubing/Downloads/01mcmc_results.csv')"
   ]
  },
  {
   "cell_type": "code",
   "execution_count": null,
   "metadata": {
    "ExecuteTime": {
     "end_time": "2023-11-27T14:02:00.200428Z",
     "start_time": "2023-11-27T14:02:00.173285Z"
    }
   },
   "outputs": [],
   "source": [
    "mcmcresult100"
   ]
  },
  {
   "cell_type": "code",
   "execution_count": null,
   "metadata": {},
   "outputs": [],
   "source": []
  },
  {
   "cell_type": "code",
   "execution_count": null,
   "metadata": {},
   "outputs": [],
   "source": []
  },
  {
   "cell_type": "code",
   "execution_count": null,
   "metadata": {},
   "outputs": [],
   "source": []
  },
  {
   "cell_type": "code",
   "execution_count": null,
   "metadata": {},
   "outputs": [],
   "source": []
  },
  {
   "cell_type": "code",
   "execution_count": null,
   "metadata": {},
   "outputs": [],
   "source": []
  },
  {
   "cell_type": "code",
   "execution_count": null,
   "metadata": {},
   "outputs": [],
   "source": []
  },
  {
   "cell_type": "markdown",
   "metadata": {},
   "source": [
    "## sim_slopes_nhLx="
   ]
  },
  {
   "cell_type": "code",
   "execution_count": null,
   "metadata": {
    "ExecuteTime": {
     "end_time": "2023-11-27T14:55:58.054294Z",
     "start_time": "2023-11-27T14:55:57.969717Z"
    }
   },
   "outputs": [],
   "source": [
    "slopes_nhLx=[]\n",
    "for sim_i in range(100):\n",
    "    siml_results_i=siml_results[siml_results['i']==sim_i]\n",
    "    siml_results_i=drop_index(siml_results_i)\n",
    "    \n",
    "    x=siml_results_i['logLx_int']\n",
    "    #x=siml_results_i['phoindex']\n",
    "    #x=siml_results_i['log_Lx_int/Ledd']\n",
    "    y=siml_results_i['zphabs_nh(10^22)']\n",
    "    \n",
    "    #slope, intercept, rvalue, pvalue and stderr\n",
    "    slope, intercept, r, p, se = scipy.stats.linregress(x, y) #intercept_stderr \n",
    "    result = scipy.stats.linregress(x, y)\n",
    "    per= 0.6745*(1-r**2)/(len(x))**0.5\n",
    "    slopes_nhLx.append(slope)\n",
    "    print('%.2f'%slope,'$\\pm$ %.2f'%se,'&', '%.2f'%intercept,'$\\pm$ %.2f'%result.intercept_stderr,'&', '%.2f $\\pm$ %.2f'%(r,per),'&', '%.1e'%p,'& \\\\\\\\')\n",
    "    "
   ]
  },
  {
   "cell_type": "code",
   "execution_count": null,
   "metadata": {
    "ExecuteTime": {
     "end_time": "2023-11-27T14:56:01.202119Z",
     "start_time": "2023-11-27T14:56:01.086430Z"
    }
   },
   "outputs": [],
   "source": [
    "plt.hist(slopes_nhLx)\n",
    "plt.xlabel(r'Slope of the $N_{\\rm H}-L_{X}$ correlation')"
   ]
  },
  {
   "cell_type": "code",
   "execution_count": null,
   "metadata": {
    "ExecuteTime": {
     "end_time": "2023-11-27T14:56:09.691217Z",
     "start_time": "2023-11-27T14:56:09.615840Z"
    }
   },
   "outputs": [],
   "source": [
    "slopes_nhledd=[]\n",
    "for sim_i in range(100):\n",
    "    siml_results_i=siml_results[siml_results['i']==sim_i]\n",
    "    siml_results_i=drop_index(siml_results_i)\n",
    "    \n",
    "    x=siml_results_i['logLx_int']\n",
    "    #x=siml_results_i['phoindex']\n",
    "    #x=siml_results_i['log_Lx_int/Ledd']\n",
    "    y=siml_results_i['zphabs_nh(10^22)']\n",
    "    \n",
    "    #slope, intercept, rvalue, pvalue and stderr\n",
    "    slope, intercept, r, p, se = scipy.stats.linregress(x, y) #intercept_stderr \n",
    "    result = scipy.stats.linregress(x, y)\n",
    "    per= 0.6745*(1-r**2)/(len(x))**0.5\n",
    "    slopes_nhledd.append(slope)\n",
    "    print('%.2f'%slope,'$\\pm$ %.2f'%se,'&', '%.2f'%intercept,'$\\pm$ %.2f'%result.intercept_stderr,'&', '%.2f $\\pm$ %.2f'%(r,per),'&', '%.1e'%p,'& \\\\\\\\')\n",
    "    "
   ]
  },
  {
   "cell_type": "code",
   "execution_count": null,
   "metadata": {},
   "outputs": [],
   "source": []
  },
  {
   "cell_type": "code",
   "execution_count": null,
   "metadata": {},
   "outputs": [],
   "source": [
    "fig = plt.figure(figsize=(6, 6))\n",
    "ax_histx=fig.add_subplot(1,1,1)\n",
    "\n",
    "#x=rebin_alldata_w2_O['logL']-rebin_alldata_w2_O['logM']-np.log10(1.263e38),\n",
    "\"\"\"ax_histx.hist(x, bins=8,fill=False,density=True,histtype='step',\n",
    "         #linestyle ='--',\n",
    "              linewidth=2,\n",
    "        label='O-CLAGN',edgecolor='red')\"\"\""
   ]
  },
  {
   "cell_type": "markdown",
   "metadata": {},
   "source": [
    "## test_degenercy"
   ]
  },
  {
   "cell_type": "code",
   "execution_count": null,
   "metadata": {
    "ExecuteTime": {
     "end_time": "2023-12-01T13:55:13.596997Z",
     "start_time": "2023-12-01T13:55:13.326294Z"
    }
   },
   "outputs": [],
   "source": [
    "fig = plt.figure(figsize=(4*1.2, 3*1.2))\n",
    "ax_histx=fig.add_subplot(1,1,1)\n",
    "\n",
    "x=slopes_nhLx\n",
    "counts, bins = np.histogram(x,bins=10)\n",
    "ax_histx.hist(bins[:-1], bins, weights=counts/len(x),fill=False,\n",
    "              #density=True,\n",
    "              histtype='step',\n",
    "              linestyle ='--',\n",
    "              linewidth=2,\n",
    "        label='Xspec-Simulation',edgecolor='grey')\n",
    "\n",
    "\n",
    "x=slopes_nhLx_mcmc\n",
    "counts, bins = np.histogram(x,bins=10)\n",
    "ax_histx.hist(bins[:-1], bins, weights=counts/len(x),fill=False,\n",
    "              #density=True,\n",
    "              histtype='step',\n",
    "         linestyle ='--',\n",
    "              linewidth=2,\n",
    "        label='MC',edgecolor='lightblue')\n",
    "\n",
    "#ax_histx.hist(slopes_nhLx,color=\"grey\")\n",
    "#ax_histx.hist(slopes_nhLx_mcmc,color='lightblue')\n",
    "ax_histx.axvline(-21.60, ls='--',color='black',label='data')\n",
    "set_ax_legend(ax_histx,bbox_to_anchor=(0.5,0.99))\n",
    "set_ax_tick(ax_histx)\n",
    "set_ax_locator(ax_histx,xma=20,xmi=10,yma=0.1,ymi=0.05)\n",
    "plt.xlabel(r'Slope of the $N_{\\rm H}-L_{X}$ correlation')\n",
    "plt.ylabel(r'Normalizied Number')\n",
    "\n",
    "save_lc_img_path=os.path.join('/Users/lyubing/Downloads/OXCLAGN/003_OXCLAGN/pic/Gamma_L_nh_pic/','sim_nH_Lx.pdf')\n",
    "plt.savefig(save_lc_img_path,dpi=400, transparent=False, bbox_inches='tight')\n",
    "#plt.close()\n"
   ]
  },
  {
   "cell_type": "code",
   "execution_count": null,
   "metadata": {
    "ExecuteTime": {
     "end_time": "2023-11-29T10:25:56.629850Z",
     "start_time": "2023-11-29T10:25:56.358105Z"
    }
   },
   "outputs": [],
   "source": [
    "fig = plt.figure(figsize=(4*1.5, 3*1.5))\n",
    "ax_histx=fig.add_subplot(1,1,1)\n",
    "\n",
    "x=slopes_nhledd\n",
    "counts, bins = np.histogram(x,bins=8)\n",
    "ax_histx.hist(bins[:-1], bins, weights=counts/len(x),fill=False,\n",
    "              #density=True,\n",
    "              histtype='step',\n",
    "         linestyle ='--',\n",
    "              linewidth=2,\n",
    "        label='Xspec-Simulation',edgecolor='grey')\n",
    "\n",
    "\n",
    "x=slopes_nhledd_mcmc\n",
    "counts, bins = np.histogram(x,bins=8)\n",
    "ax_histx.hist(bins[:-1], bins, weights=counts/len(x),fill=False,\n",
    "              #density=True,\n",
    "              histtype='step',\n",
    "         linestyle ='--',\n",
    "              linewidth=2,\n",
    "        label='MC',edgecolor='lightblue')\n",
    "\n",
    "#ax_histx.hist(slopes_nhLx,color=\"grey\")\n",
    "#ax_histx.hist(slopes_nhLx_mcmc,color='lightblue')\n",
    "ax_histx.axvline(-17.98, ls='--',color='black',label='data')\n",
    "set_ax_legend(ax_histx,bbox_to_anchor=(0.6,0.99))\n",
    "set_ax_tick(ax_histx)\n",
    "set_ax_locator(ax_histx,xma=20,xmi=10,yma=0.2,ymi=0.1)\n",
    "#plt.xlabel(r'Slope of the $N_{\\rm H}-L_{X}$ correlation')\n",
    "plt.xlabel(r'Slope of the $N_{\\rm H}-L_{X}/L_{\\rm Edd}$ correlation')\n",
    "plt.ylabel(r'Normalizied Number')\n",
    "\n",
    "save_lc_img_path=os.path.join('/Users/lyubing/Downloads/OXCLAGN/003_OXCLAGN/pic/Gamma_L_nh_pic/','sim_nH_ledd.pdf')\n",
    "plt.savefig(save_lc_img_path,dpi=400, transparent=False, bbox_inches='tight')\n"
   ]
  },
  {
   "cell_type": "markdown",
   "metadata": {
    "ExecuteTime": {
     "end_time": "2023-11-27T15:07:49.419833Z",
     "start_time": "2023-11-27T15:07:49.266833Z"
    }
   },
   "source": [
    "fig = plt.figure(figsize=(6, 6))\n",
    "ax_histx=fig.add_subplot(1,1,1)\n",
    "\n",
    "\n",
    "ax_histx.hist(slopes_nhledd,color=\"grey\")\n",
    "ax_histx.hist(slopes_nhledd_mcmc,color='lightblue')\n",
    "ax_histx.axvline(-17.98, ls=':')\n",
    "plt.xlabel(r'Slope of the $N_{\\rm H}-L_{X}/L_{\\rm Edd}$ correlation')"
   ]
  },
  {
   "cell_type": "code",
   "execution_count": null,
   "metadata": {
    "ExecuteTime": {
     "end_time": "2023-11-27T14:56:50.661531Z",
     "start_time": "2023-11-27T14:56:50.534211Z"
    }
   },
   "outputs": [],
   "source": [
    "plt.hist(slopes_nhledd_mcmc,color='lightblue')\n",
    "plt.xlabel(r'Slope of the $N_{\\rm H}-L_{X}/L_{\\rm Edd}$ correlation')"
   ]
  },
  {
   "cell_type": "markdown",
   "metadata": {},
   "source": [
    "## slopes_nhLx_mcmc"
   ]
  },
  {
   "cell_type": "code",
   "execution_count": null,
   "metadata": {
    "ExecuteTime": {
     "end_time": "2023-11-27T14:53:30.604206Z",
     "start_time": "2023-11-27T14:53:30.527114Z"
    }
   },
   "outputs": [],
   "source": [
    "slopes_nhLx_mcmc=[]\n",
    "\n",
    "for sim_i in range(100):\n",
    "    mcmcresult100_i=mcmcresult100[mcmcresult100['i']==sim_i]\n",
    "    mcmcresult100_i=drop_index(mcmcresult100_i)\n",
    "    \n",
    "    x=mcmcresult100_i['logLx_int']\n",
    "    #x=mcmcresult100_i['phoindex']\n",
    "    #x=mcmcresult100_i['log_Lx_int/Ledd']\n",
    "    y=mcmcresult100_i['nh']\n",
    "    \n",
    "    #slope, intercept, rvalue, pvalue and stderr\n",
    "    slope, intercept, r, p, se = scipy.stats.linregress(x, y) #intercept_stderr\n",
    "    result = scipy.stats.linregress(x, y)\n",
    "    per= 0.6745*(1-r**2)/(len(x))**0.5\n",
    "    \n",
    "    slopes_nhLx_mcmc.append(slope)\n",
    "    \n",
    "    print('%.2f'%slope,'$\\pm$ %.2f'%se,'&', '%.2f'%intercept,'$\\pm$ %.2f'%result.intercept_stderr,'&', '%.2f $\\pm$ %.2f'%(r,per),'&', '%.1e'%p,'& \\\\\\\\')\n",
    "    \n"
   ]
  },
  {
   "cell_type": "markdown",
   "metadata": {},
   "source": [
    "## slopes_nhledd_mcmc"
   ]
  },
  {
   "cell_type": "code",
   "execution_count": null,
   "metadata": {
    "ExecuteTime": {
     "end_time": "2023-11-27T14:52:28.381013Z",
     "start_time": "2023-11-27T14:52:28.370183Z"
    }
   },
   "outputs": [],
   "source": [
    "mcmcresult100.columns"
   ]
  },
  {
   "cell_type": "code",
   "execution_count": null,
   "metadata": {
    "ExecuteTime": {
     "end_time": "2023-11-27T14:52:38.838134Z",
     "start_time": "2023-11-27T14:52:38.765654Z"
    }
   },
   "outputs": [],
   "source": [
    "slopes_nhledd_mcmc=[]\n",
    "\n",
    "for sim_i in range(100):\n",
    "    mcmcresult100_i=mcmcresult100[mcmcresult100['i']==sim_i]\n",
    "    mcmcresult100_i=drop_index(mcmcresult100_i)\n",
    "    \n",
    "    #x=mcmcresult100_i['logLx_int']\n",
    "    #x=mcmcresult100_i['phoindex']\n",
    "    x=mcmcresult100_i['log_Lx_int/Ledd']\n",
    "    y=mcmcresult100_i['nh']\n",
    "    \n",
    "    #slope, intercept, rvalue, pvalue and stderr\n",
    "    slope, intercept, r, p, se = scipy.stats.linregress(x, y) #intercept_stderr\n",
    "    result = scipy.stats.linregress(x, y)\n",
    "    per= 0.6745*(1-r**2)/(len(x))**0.5\n",
    "    \n",
    "    slopes_nhledd_mcmc.append(slope)\n",
    "    \n",
    "    print('%.2f'%slope,'$\\pm$ %.2f'%se,'&', '%.2f'%intercept,'$\\pm$ %.2f'%result.intercept_stderr,'&', '%.2f $\\pm$ %.2f'%(r,per),'&', '%.1e'%p,'& \\\\\\\\')\n",
    "    \n"
   ]
  },
  {
   "cell_type": "code",
   "execution_count": null,
   "metadata": {},
   "outputs": [],
   "source": []
  },
  {
   "cell_type": "code",
   "execution_count": null,
   "metadata": {},
   "outputs": [],
   "source": []
  },
  {
   "cell_type": "code",
   "execution_count": null,
   "metadata": {},
   "outputs": [],
   "source": []
  },
  {
   "cell_type": "markdown",
   "metadata": {},
   "source": [
    "# Literature"
   ]
  },
  {
   "cell_type": "code",
   "execution_count": null,
   "metadata": {
    "ExecuteTime": {
     "end_time": "2023-12-01T14:11:14.234427Z",
     "start_time": "2023-12-01T14:11:14.140390Z"
    }
   },
   "outputs": [],
   "source": [
    "data_literature_plot=pd.read_excel('/Users/lyubing/Downloads/OXCLAGN/OXCLAGN_fromliterature.xlsx',sheet_name='literature')\n",
    "\n",
    "#data_literature_L_select=data_literature_L[data_literature_L['logL2-10'].notnull()]\n",
    "\n",
    "data_literature_plot_select=data_literature_plot[data_literature_plot['select']==1]\n",
    "data_literature_plot_select=drop_index(data_literature_plot_select)\n",
    "\n",
    "\n",
    "data_literature_plot_select['logLx/Ledd']=data_literature_plot_select['logL2-10']-(np.log10(1.26e38)+data_literature_plot_select['mass'])\n",
    "\n"
   ]
  },
  {
   "cell_type": "code",
   "execution_count": null,
   "metadata": {
    "ExecuteTime": {
     "end_time": "2023-12-01T14:11:14.921709Z",
     "start_time": "2023-12-01T14:11:14.897415Z"
    }
   },
   "outputs": [],
   "source": [
    "data_literature_plot_select[['name','obsid','instrument','phoindex','los_nh(10^22)','logL2-10','mass','ref']]#.columns"
   ]
  },
  {
   "cell_type": "code",
   "execution_count": null,
   "metadata": {
    "ExecuteTime": {
     "end_time": "2023-12-01T14:11:15.829967Z",
     "start_time": "2023-12-01T14:11:15.820868Z"
    }
   },
   "outputs": [],
   "source": [
    "data_literature_plot_select.columns"
   ]
  },
  {
   "cell_type": "code",
   "execution_count": null,
   "metadata": {},
   "outputs": [],
   "source": []
  },
  {
   "cell_type": "markdown",
   "metadata": {
    "ExecuteTime": {
     "end_time": "2023-07-07T04:57:43.557474Z",
     "start_time": "2023-07-07T04:57:43.546982Z"
    }
   },
   "source": [
    "data_literature_L_select_4151=data_literature_L_select[data_literature_L_select['name']=='NGC4151']\n",
    "data_literature_L_select_4151=drop_index(data_literature_L_select_4151)"
   ]
  },
  {
   "cell_type": "markdown",
   "metadata": {
    "ExecuteTime": {
     "end_time": "2023-07-07T04:57:46.895622Z",
     "start_time": "2023-07-07T04:57:46.869606Z"
    }
   },
   "source": [
    "data_literature_L_select_4151"
   ]
  },
  {
   "cell_type": "code",
   "execution_count": null,
   "metadata": {
    "ExecuteTime": {
     "end_time": "2023-07-07T04:59:30.052529Z",
     "start_time": "2023-07-07T04:59:30.043229Z"
    }
   },
   "outputs": [],
   "source": [
    "print(cosmo.luminosity_distance(z=0.00331900).to(u.Mpc).value)"
   ]
  },
  {
   "cell_type": "markdown",
   "metadata": {
    "ExecuteTime": {
     "end_time": "2023-07-07T04:59:41.609044Z",
     "start_time": "2023-07-07T04:59:41.600305Z"
    }
   },
   "source": [
    "D_cm_NGC4151=cosmo.luminosity_distance(z=0.00331900).to(u.cm).value\n",
    "D_cm_NGC4151\n",
    "data_literature_L_select_4151['L2-10']=data_literature_L_select_4151['F2-10']*4*np.pi*D_cm_NGC4151**2\n",
    "data_literature_L_select_4151['logL2-10'] = np.log10(data_literature_L_select_4151['L2-10'])"
   ]
  },
  {
   "cell_type": "code",
   "execution_count": null,
   "metadata": {
    "ExecuteTime": {
     "end_time": "2023-07-07T05:00:06.257119Z",
     "start_time": "2023-07-07T05:00:06.229920Z"
    }
   },
   "outputs": [],
   "source": [
    "data_literature_L_select_4151"
   ]
  },
  {
   "cell_type": "code",
   "execution_count": null,
   "metadata": {},
   "outputs": [],
   "source": []
  },
  {
   "cell_type": "code",
   "execution_count": null,
   "metadata": {
    "ExecuteTime": {
     "end_time": "2023-07-07T04:55:48.031841Z",
     "start_time": "2023-07-07T04:55:48.019794Z"
    }
   },
   "outputs": [],
   "source": [
    "for i in [2.00E+42,\n",
    "1.50E+42,\n",
    "2.10E+42,\n",
    "3.20E+42,\n",
    "2.90E+42,]:\n",
    "    print(np.log10(i))"
   ]
  },
  {
   "cell_type": "code",
   "execution_count": null,
   "metadata": {},
   "outputs": [],
   "source": []
  },
  {
   "cell_type": "code",
   "execution_count": null,
   "metadata": {
    "ExecuteTime": {
     "end_time": "2023-12-01T14:11:24.004532Z",
     "start_time": "2023-12-01T14:11:23.997474Z"
    }
   },
   "outputs": [],
   "source": [
    "CLAGNref_literature_bibcodes=[]\n",
    "for i in data_literature_L_select['ref']:\n",
    "    if i.find(',')>0:\n",
    "        isplit=i.split(',')\n",
    "        for j in isplit:\n",
    "            if j not in CLAGNref_literature_bibcodes:\n",
    "                CLAGNref_literature_bibcodes.append(j)\n",
    "    else:\n",
    "        if i not in CLAGNref_literature_bibcodes:\n",
    "            CLAGNref_literature_bibcodes.append(i)"
   ]
  },
  {
   "cell_type": "code",
   "execution_count": null,
   "metadata": {
    "ExecuteTime": {
     "end_time": "2023-12-01T14:13:34.828497Z",
     "start_time": "2023-12-01T14:13:34.818577Z"
    }
   },
   "outputs": [],
   "source": [
    "for i in CLAGNref_literature_bibcodes:\n",
    "    print('%s,'%i,end='')"
   ]
  },
  {
   "cell_type": "code",
   "execution_count": null,
   "metadata": {
    "ExecuteTime": {
     "end_time": "2023-11-26T12:59:03.481400Z",
     "start_time": "2023-11-26T12:59:03.473408Z"
    }
   },
   "outputs": [],
   "source": [
    "import numpy as np\n",
    "literature_dict_bibcode_index = dict(zip(CLAGNref_literature_bibcodes,np.arange(len(CLAGNref_literature_bibcodes))+1))"
   ]
  },
  {
   "cell_type": "code",
   "execution_count": null,
   "metadata": {
    "ExecuteTime": {
     "end_time": "2023-11-26T12:59:04.038920Z",
     "start_time": "2023-11-26T12:59:04.028990Z"
    }
   },
   "outputs": [],
   "source": [
    "for index,bib in enumerate(CLAGNref_literature_bibcodes):\n",
    "    print('(%d)'%(index+1)+'~'+'\\\\citet{%s}'%bib,end=' ')"
   ]
  },
  {
   "cell_type": "code",
   "execution_count": null,
   "metadata": {},
   "outputs": [],
   "source": []
  },
  {
   "cell_type": "markdown",
   "metadata": {},
   "source": [
    "## latex_literature"
   ]
  },
  {
   "cell_type": "code",
   "execution_count": null,
   "metadata": {
    "ExecuteTime": {
     "end_time": "2023-11-26T12:58:50.907751Z",
     "start_time": "2023-11-26T12:58:50.869761Z"
    }
   },
   "outputs": [],
   "source": [
    "data_literature_L=pd.read_excel('/Users/lyubing/Downloads/OXCLAGN/OXCLAGN_fromliterature.xlsx',sheet_name='origin')\n",
    "\n",
    "\n",
    "#data_literature_L_select=data_literature_L[data_literature_L['logL2-10'].notnull()]\n",
    "\n",
    "data_literature_L_select=data_literature_L[data_literature_L['select']==1]\n",
    "data_literature_L_select=drop_index(data_literature_L_select)\n",
    "\n",
    "\n",
    "data_literature_L_select['logLx/Ledd']=data_literature_L_select['logL2-10']-(np.log10(1.26e38)+data_literature_L_select['mass'])\n",
    "\n"
   ]
  },
  {
   "cell_type": "code",
   "execution_count": null,
   "metadata": {
    "ExecuteTime": {
     "end_time": "2023-11-26T12:59:07.673563Z",
     "start_time": "2023-11-26T12:59:07.645499Z"
    }
   },
   "outputs": [],
   "source": [
    "for index,name in enumerate(data_literature_L_select['name']):\n",
    "    \n",
    "    if isinstance(data_literature_L_select.loc[index,'los_nh_err'], str):\n",
    "        los_nh_err_str= data_literature_L_select.loc[index,'los_nh_err']\n",
    "        los_nh_err_u=  float(los_nh_err_str.split('m')[0].split('p')[1])\n",
    "        los_nh_err_l=  float(los_nh_err_str.split('m')[1])\n",
    "        los_nh_err_str_cmd=' $^{+%.1f}_{-%.f} $'%(los_nh_err_u,los_nh_err_l)\n",
    "    else:\n",
    "        if data_literature_L_select.loc[index,'los_nh_err']==0:\n",
    "            los_nh_err_str_cmd=''\n",
    "        \n",
    "        else:\n",
    "            los_nh_err_str_cmd='$\\pm$'+'%.2f'%data_literature_L_select['los_nh_err'][index]\n",
    "     \n",
    "    if isinstance(data_literature_L_select.loc[index,'phoindex'], (float,int)):\n",
    "        if data_literature_L_select.loc[index,'phoindex_err']== -1.0:\n",
    "            phoindex_cmd='%.2f'%data_literature_L_select['phoindex'][index]+'$^f$'+'&'\n",
    "            \n",
    "    #if data_literature_L_select.loc[index,'phoindex'].notnan():\n",
    "        else:\n",
    "            phoindex_cmd='%.2f'%data_literature_L_select['phoindex'][index]+'$\\pm$'+'%.2f'%data_literature_L_select['phoindex_err'][index]+'&'\n",
    "        \n",
    "    else:\n",
    "        phoindex_cmd='- &'\n",
    "     \n",
    "    if data_literature_L_select['obsid'][index]=='703013010':\n",
    "        los_cmd='$<$'+'%s'%data_literature_L_select['los_nh(10^22)'][index]\n",
    "    else:\n",
    "        los_cmd='%s'%data_literature_L_select['los_nh(10^22)'][index]\n",
    "        \n",
    "   \n",
    "    \n",
    "    print(name,'&',\n",
    "          '%s'%data_literature_L_select['obsid'][index],'&',\n",
    "          '%s'%data_literature_L_select['instrument'][index],'&',\n",
    "          #'N%d'%(index+1),'&',\n",
    "          los_cmd+los_nh_err_str_cmd,'&',\n",
    "          phoindex_cmd,\n",
    "          \n",
    "          \n",
    "          \n",
    "          '%.2f'%data_literature_L_select['logL2-10'][index],'&',\n",
    "          \n",
    "           '(%d'%literature_dict_bibcode_index[data_literature_L_select.loc[index,'ref']]+')','\\\\\\\\',\n",
    "          #'%.1f'%data_literature_L_select['highEcut'][index]+slab_highEcut_err_cmd,'&',\n",
    "          #'%.1e'%data_literature_L_select['zcutoffplnorm'][index],'$\\pm$', '%.1e'%data_literature_L_select['zcutoffplnorm_err'][index],'&',\n",
    "          \n",
    "          #'%.2f'%data_literature_L_select['zgaussLineE'][index],'$\\pm$', '%.2f'%data_literature_L_select['zgaussLineE_err'][index],'&',\n",
    "          #'%.2f'%data_literature_L_select['zgaussSigma'][index],'$\\pm$', '%.2f'%data_literature_L_select['zgaussSigma_err'][index],'&',\n",
    "\n",
    "          #'%.2f(%d/%d)'%(data_literature_L_select['rechi_2'][index],data_literature_L_select['chi_2'][index],data_literature_L_select['dof'][index]),'&',\n",
    "          #'%.3f'%float(data_literature_L_select['log_Lx/Ledd'][index]),'$\\pm$','%.3f'%float(data_literature_L_select['log_f_err'][index]),'&',\n",
    "          #'%.3f'%float(data_literature_L_select['log_Lx_10to50keV/Ledd'][index]),'$\\pm$','%.3f'%float(data_literature_L_select['log_f_err_10to50keV'][index]),  '\\\\\\\\',\n",
    "         )\n",
    "\n",
    "    \n",
    "for index,name in enumerate(slab_result['name']):  \n",
    "    if name=='NGC4151' or name=='NGC7582':\n",
    "        obsid_cmd= '%s'%slab_result['obsid'][index]+'&'\n",
    "        instrument_cmd='NuSTAR'+'&'\n",
    "        \n",
    "    else:\n",
    "        obsid_cmd= '%s'%slab_result['obsid_'][index]+'&'        \n",
    "        instrument_cmd='%s'%slab_result['instrument'][index]+'&'\n",
    "\n",
    "    if slab_result['los_nh_err'][index]==-1:\n",
    "        los_nh_err_cmd='$^f$'\n",
    "    else:\n",
    "        los_nh_err_cmd='$\\pm$'+'%.2f'%slab_result['los_nh_err'][index] \n",
    "        \n",
    "    #\\multirow{2}*    \n",
    "    print(name,'&',\n",
    "          obsid_cmd,\n",
    "          instrument_cmd,\n",
    "          \n",
    "          #'%s'%slab_result['obsid'][index],'&',\n",
    "          #'\\multirow{2}*{N%d}'%(index+1),'&',\n",
    "         # Cross_str,\n",
    "          '%.2f'%slab_result['los_nh(10^22)'][index]+los_nh_err_cmd,'&',\n",
    "          '%.2f'%slab_result['phoindex'][index],'$\\pm$', '%.2f'%slab_result['phoindex_err'][index],'&',\n",
    "\n",
    " \n",
    "          #'%.2f(%d/%d)'%(slab_result['rechi_2'][index],slab_result['chisq'][index],slab_result['dof'][index]),'&',\n",
    "          #'%.3f'%float(slab_result['log_fobs'][index]),'$\\pm$','%.3f'%float(slab_result['log_fobs_err'][index]),'&',\n",
    "          '%.2f'%float(slab_result['logLx_int'][index]),'$\\pm$','%.2f'%float(slab_result['log_fint_err'][index]),'&',\n",
    "          'This Work',\n",
    "          #'%.3f'%float(slab_result['log_Lx/Ledd'][index]),'$\\pm$','%.3f'%float(slab_result['log_f_err'][index]),'&',        \n",
    "          #'%.3f'%float(slab_result['log_Lx_10to50keV/Ledd'][index]),'$\\pm$','%.3f'%float(slab_result['log_f_err_10to50keV'][index]),  \n",
    "        \n",
    "          '\\\\\\\\',\n",
    "         )\n",
    "    "
   ]
  },
  {
   "cell_type": "code",
   "execution_count": null,
   "metadata": {
    "ExecuteTime": {
     "end_time": "2023-07-07T05:30:56.599457Z",
     "start_time": "2023-07-07T05:30:56.588959Z"
    }
   },
   "outputs": [],
   "source": [
    "slab_result.columns"
   ]
  },
  {
   "cell_type": "markdown",
   "metadata": {
    "ExecuteTime": {
     "end_time": "2023-07-07T04:06:54.907770Z",
     "start_time": "2023-07-07T04:06:54.875869Z"
    }
   },
   "source": [
    "data_literature_L_select#.columns"
   ]
  },
  {
   "cell_type": "code",
   "execution_count": null,
   "metadata": {
    "ExecuteTime": {
     "end_time": "2023-07-04T06:13:29.837957Z",
     "start_time": "2023-07-04T06:13:29.703827Z"
    }
   },
   "outputs": [],
   "source": [
    "fig = plt.figure(figsize=(10,10))\n",
    "fig.subplots_adjust(hspace=0., wspace = 0.0)\n",
    "ax = fig.add_subplot(3,3,1)\n",
    "\n",
    "xlabel='log_Lx/Ledd'\n",
    "ylabel='phoindex'\n",
    "xerr_label='log_f_err'\n",
    "yerr_label='phoindex_err'\n",
    "color_label='black'\n",
    "#dataplot=slab_zgauss_result\n",
    "#ax=plot_errorbar_cmap(ax,dataplot,xlabel,ylabel,xerr=xerr_label,yerr=yerr_label,color_n=color_label,marker_n='name',size_n=None,logx=False,logy=False)\n",
    "dataplot=slab_result\n",
    "ax=plot_errorbar(ax,dataplot,xlabel,ylabel,xerr=xerr_label,yerr=yerr_label,color_n=color_label,marker_n='name',size_n=None,logx=False,logy=False)\n",
    "set_ax_tick(ax)\n",
    "#set_ax_locator(ax,xma=1.0,xmi=0.2,yma=0.2,ymi=0.1)\n",
    "ax.xaxis.set_major_locator(mpl.ticker.MultipleLocator(0.4))\n",
    "ax.xaxis.set_minor_locator(mpl.ticker.MultipleLocator(0.2))\n",
    "\n",
    "set_ax_legend(ax,bbox_to_anchor=(0.01, 0.99))\n",
    "#ax.set_ylim(-7,17)\n",
    "#ax.set_xlabel(r'log($L_{\\rm 2-10keV}/L_{\\rm Edd}$)')\n",
    "ax.set_ylabel(r'$\\Gamma$')\n",
    "model_name='Slab'\n",
    "\n",
    "\n",
    "\n",
    "'''ax2 = fig.add_subplot(3,3,3,sharey=ax)\n",
    "xlabel='zphabs_nh(10^22)'\n",
    "ylabel='phoindex'\n",
    "xerr_label='zphabs_nh_err'\n",
    "yerr_label='phoindex_err'\n",
    "\n",
    "dataplot=slab_result\n",
    "ax2=plot_errorbar(ax2,dataplot,xlabel,ylabel,xerr=xerr_label,yerr=yerr_label,color_n=color_label,marker_n='name',size_n=None,logx=False,logy=False)\n",
    "set_ax_tick(ax2)\n",
    "#set_ax_locator(ax,xma=1000,xmi=500,yma=1,ymi=0.5)\n",
    "#set_ax_legend(ax2,bbox_to_anchor=(0.51, 0.99))\n",
    "#ax.set_ylim(-0.1,0.5)\n",
    "ax2.set_xlabel(r'$N_{\\rm H,los (10^{22} cm^{-2})}$')\n",
    "#ax2.set_ylabel(r'$\\Gamma$')\n",
    "#ax2.yaxis.set_major_formatter(ticker.NullFormatter())\n",
    "set_ax_locator(ax2,xma=25,xmi=5,yma=0.2,ymi=0.1)\n",
    "ax2.yaxis.set_tick_params(which='major', size=10, width=2, direction='in', top='on',labelsize=0)\n",
    "'''\n",
    "\n",
    "\n",
    "dataplot=data_literature_L_select\n",
    "xlabel='logLx/Ledd'\n",
    "ylabel='phoindex'\n",
    "xerr_label=None#'log_f_err'\n",
    "yerr_label='phoindex_err'\n",
    "color_label='grey'\n",
    "ax=plot_errorbar(ax,dataplot,xlabel,ylabel,xerr=xerr_label,yerr=yerr_label,color_n=color_label,marker_n='name',size_n=None,logx=False,logy=False,blank_plot=True)\n",
    "\n",
    "\n",
    "\n",
    "\n",
    "ax3 = fig.add_subplot(3,3,4,sharex=ax)\n",
    "\n",
    "xlabel='log_Lx/Ledd'\n",
    "ylabel='zphabs_nh(10^22)'\n",
    "xerr_label='log_f_err'\n",
    "yerr_label='zphabs_nh_err'\n",
    "color_label='black'\n",
    "\n",
    "\n",
    "\n",
    "dataplot=slab_result\n",
    "ax3=plot_errorbar(ax3,dataplot,xlabel,ylabel,xerr=xerr_label,yerr=yerr_label,color_n=color_label,marker_n='name',size_n=None,logx=False,logy=False)\n",
    "\n",
    "set_ax_tick(ax3)\n",
    "#set_ax_locator(ax,xma=1000,xmi=500,yma=1,ymi=0.5)\n",
    "#set_ax_legend(ax3,bbox_to_anchor=(0.51, 0.99))\n",
    "#ax.set_ylim(-7,17)\n",
    "#ax.semilogy()\n",
    "ax3.set_xlabel(r'log($L_{\\rm \\, 2-10keV}/L_{\\rm Edd}$)')\n",
    "ax3.set_ylabel(r'$N_{\\rm H,los (10^{22} cm^{-2})}$')\n",
    "\n",
    "\n",
    "\n",
    "dataplot=data_literature_L_select\n",
    "xlabel='logLx/Ledd'\n",
    "ylabel='los_nh(10^22)'\n",
    "xerr_label=None#'log_f_err'\n",
    "yerr_label='los_nh_err'\n",
    "color_label='grey'\n",
    "ax3=plot_errorbar(ax3,dataplot,xlabel,ylabel,xerr=xerr_label,yerr=yerr_label,color_n=color_label,marker_n='name',size_n=None,logx=False,logy=False,blank_plot=True)\n",
    "'''for index,i in enumerate(data_literature_L_select['Name']):\n",
    "    \n",
    "    EWerr_string=data_literature_L_select.loc[index,'EWerr']\n",
    "    upper=EWerr_string.split('m')[0].split('p')[1]\n",
    "    lower=EWerr_string.split('m')[1]\n",
    "    asymmetric_error = [[int(upper)],\n",
    "                                 [int(lower)]]\n",
    "    \n",
    "    \n",
    "    ax.errorbar(x=data_literatureEW.loc[index,'logLx/Ledd'],\n",
    "                 y=data_literatureEW.loc[index,'EW'],\n",
    "                 yerr=asymmetric_error,\n",
    "                 marker='^',ms=11,\n",
    "                 color='grey'\n",
    "                )'''\n",
    "\n",
    "\n",
    "\n",
    "###############\n",
    "\n",
    "#set_ax_locator(ax,xma=1000,xmi=500,yma=1,ymi=0.5)\n",
    "#set_ax_legend(ax3,bbox_to_anchor=(0.51, 0.99))\n",
    "#ax.set_ylim(-7,17)\n",
    "#ax.semilogy()\n",
    "#ax4.set_xlabel(r'log($L_{\\rm 10-50keV}/L_{\\rm Edd}$)')\n",
    "#ax4.set_ylabel(r'$N_{\\rm H,los (10^{22} cm^{-2})}$')\n",
    "\n",
    "\n",
    "\n",
    "\n",
    "\n",
    "'''\n",
    "ax6=fig.add_subplot(3,3,7,sharex=ax)\n",
    "xlabel='log_Lx/Ledd'\n",
    "ylabel='log_Lx_10to50keV/Ledd'\n",
    "xerr_label='log_f_err'\n",
    "yerr_label='log_f_err_10to50keV'\n",
    "#color_label='zphabs_nh(10^22)'\n",
    "color_label='black'\n",
    "#dataplot=slab_zgauss_result\n",
    "#ax=plot_errorbar_cmap(ax,dataplot,xlabel,ylabel,xerr=xerr_label,yerr=yerr_label,color_n=color_label,marker_n='name',size_n=None,logx=False,logy=False)\n",
    "\n",
    "x_ledd_lin= np.linspace(-4.5,-2.5,100)\n",
    "dataplot=slab_result\n",
    "ax6=plot_errorbar(ax6,dataplot,xlabel,ylabel,xerr=xerr_label,yerr=yerr_label,color_n=color_label,marker_n='name',size_n=None,logx=False,logy=False)\n",
    "set_ax_tick(ax6)\n",
    "#ax2.xaxis.set_tick_params(which='major', size=10, width=2, direction='in', top='on',)\n",
    "#ax2.xaxis.set_tick_params(which='minor', size=5, width=2, direction='in', top='on')\n",
    "#ax2.yaxis.set_tick_params(which='major', size=10, width=2, direction='in', right='on')\n",
    "#ax2.yaxis.set_tick_params(which='minor', size=5, width=2, direction='in', right='on')\n",
    "ax6.set_xlabel(r'log($L_{\\rm 2-10keV}/L_{\\rm Edd}$)') #, intrisic\n",
    "ax6.set_ylabel(r'log($L_{\\rm 10-50keV}/L_{\\rm Edd}$)')\n",
    "ax6.yaxis.set_major_locator(mpl.ticker.MultipleLocator(1.0))\n",
    "ax6.yaxis.set_minor_locator(mpl.ticker.MultipleLocator(0.2))\n",
    "ax6.set_ylim(-0.1,85)\n",
    "\n",
    "x_ledd_lin= np.linspace(-4.5,-2.1,100)\n",
    "ax6.plot(x_ledd_lin, fitted_line(x_ledd_lin), color='black',ls='--', linewidth=2,label=r'y=0.62x-0.7')\n",
    "#ax6.text(0.3,0.8,r'$y$=0.62$x$-0.7',horizontalalignment = 'center', verticalalignment = 'center', transform = ax6.transAxes, fontsize = 16)\n",
    "ax6.set_ylim(-3.8,-1.9)\n",
    "'''\n",
    "#ax.set_xlim(-4.2,-2.1)\n",
    "#ax.set_ylim(1.21,1.99)\n",
    "\n",
    "#ax.set_title('%s model'%model_name)\n",
    "#save_lc_img_path=os.path.join('/Users/lyubing/Downloads/OXCLAGN/OXCLAGN/pic/Gamma_L_nh_pic/','%s_p4.png'%model_name)\n",
    "#save_lc_img_path=os.path.join('/Users/lyubing/Downloads/OXCLAGN/OXCLAGN/pic/Gamma_L_nh_pic/','%s_p4.pdf'%model_name)\n",
    "\n",
    "#save_lc_img_path=os.path.join('/Users/lyubing/Downloads/OXCLAGN/003_OXCLAGN/pic/Gamma_L_nh_pic/','%s_p4_intrinsic.pdf'%model_name)\n",
    "#plt.savefig(save_lc_img_path,dpi=400, transparent=False, bbox_inches='tight')\n",
    "#plt.close()\n"
   ]
  },
  {
   "cell_type": "code",
   "execution_count": null,
   "metadata": {
    "ExecuteTime": {
     "end_time": "2023-06-23T07:05:06.280038Z",
     "start_time": "2023-06-23T07:05:06.268040Z"
    }
   },
   "outputs": [],
   "source": [
    "marker_n='name'\n",
    "data=slab_result\n",
    "\n",
    "pmarker=data[marker_n].drop_duplicates()\n",
    "marker_dict = dict(zip(pmarker, markers_pd[:len(pmarker)]))\n",
    "marker_dict"
   ]
  },
  {
   "cell_type": "code",
   "execution_count": null,
   "metadata": {},
   "outputs": [],
   "source": []
  },
  {
   "cell_type": "code",
   "execution_count": null,
   "metadata": {
    "ExecuteTime": {
     "end_time": "2023-06-23T07:05:10.344170Z",
     "start_time": "2023-06-23T07:05:10.334741Z"
    }
   },
   "outputs": [],
   "source": [
    "marker_n='name'\n",
    "data=data_literature_L_select\n",
    "\n",
    "pmarker=data[marker_n].drop_duplicates()\n",
    "marker_dict = dict(zip(pmarker, markers_pd[:len(pmarker)]))\n",
    "marker_dict"
   ]
  },
  {
   "cell_type": "code",
   "execution_count": null,
   "metadata": {},
   "outputs": [],
   "source": []
  },
  {
   "cell_type": "code",
   "execution_count": null,
   "metadata": {},
   "outputs": [],
   "source": []
  },
  {
   "cell_type": "code",
   "execution_count": null,
   "metadata": {},
   "outputs": [],
   "source": []
  },
  {
   "cell_type": "code",
   "execution_count": null,
   "metadata": {},
   "outputs": [],
   "source": []
  },
  {
   "cell_type": "markdown",
   "metadata": {},
   "source": [
    "# data_literatureEW"
   ]
  },
  {
   "cell_type": "code",
   "execution_count": null,
   "metadata": {
    "ExecuteTime": {
     "end_time": "2023-10-30T14:15:51.699646Z",
     "start_time": "2023-10-30T14:15:51.681331Z"
    }
   },
   "outputs": [],
   "source": [
    "data_literatureEW=pd.read_excel('/Users/lyubing/Downloads/OXCLAGN/OXCLAGN_fromliterature.xlsx',sheet_name='EW')"
   ]
  },
  {
   "cell_type": "code",
   "execution_count": null,
   "metadata": {
    "ExecuteTime": {
     "end_time": "2023-10-30T14:15:52.731664Z",
     "start_time": "2023-10-30T14:15:52.728500Z"
    }
   },
   "outputs": [],
   "source": [
    "data_literatureEW['logLx/Ledd']=   np.log10(data_literatureEW['L2-10(10^43)'])+43 -(np.log10(1.26e38)+data_literatureEW['logMbh'])\n"
   ]
  },
  {
   "cell_type": "code",
   "execution_count": null,
   "metadata": {
    "ExecuteTime": {
     "end_time": "2023-07-31T08:19:06.739091Z",
     "start_time": "2023-07-31T08:19:06.717841Z"
    }
   },
   "outputs": [],
   "source": [
    "data_literatureEW"
   ]
  },
  {
   "cell_type": "code",
   "execution_count": null,
   "metadata": {
    "ExecuteTime": {
     "end_time": "2023-06-23T05:20:06.657091Z",
     "start_time": "2023-06-23T05:20:06.650473Z"
    }
   },
   "outputs": [],
   "source": [
    "asymmetric_error"
   ]
  },
  {
   "cell_type": "code",
   "execution_count": null,
   "metadata": {},
   "outputs": [],
   "source": []
  },
  {
   "cell_type": "markdown",
   "metadata": {},
   "source": [
    "# Joint EW_L"
   ]
  },
  {
   "cell_type": "markdown",
   "metadata": {
    "ExecuteTime": {
     "end_time": "2023-07-31T07:37:21.016213Z",
     "start_time": "2023-07-31T07:37:20.960400Z"
    }
   },
   "source": [
    "data_joint_pexrav=pd.read_excel('/Users/lyubing/Downloads/OXCLAGN/OXCLAGN_jointfit.xlsx',sheet_name='pexrav')\n",
    "\n",
    "data_joint_pexrav\n",
    "\n",
    "data_joint_pexrav_EW=data_joint_pexrav['EW']\n",
    "data_joint_pexrav_EWerr=data_joint_pexrav['EWerr']"
   ]
  },
  {
   "cell_type": "markdown",
   "metadata": {
    "ExecuteTime": {
     "end_time": "2023-07-12T14:23:47.502727Z",
     "start_time": "2023-07-12T14:23:47.494740Z"
    }
   },
   "source": [
    "slab_result['EW']=data_joint_pexrav['EW']\n",
    "slab_result['EWerr']=data_joint_pexrav['EWerr']"
   ]
  },
  {
   "cell_type": "code",
   "execution_count": null,
   "metadata": {
    "ExecuteTime": {
     "end_time": "2023-07-31T07:38:31.223334Z",
     "start_time": "2023-07-31T07:38:31.209861Z"
    }
   },
   "outputs": [],
   "source": [
    "slab_result.columns"
   ]
  },
  {
   "cell_type": "markdown",
   "metadata": {},
   "source": [
    "## Lx/Ledd-EW"
   ]
  },
  {
   "cell_type": "code",
   "execution_count": null,
   "metadata": {
    "ExecuteTime": {
     "end_time": "2023-07-31T07:39:04.601527Z",
     "start_time": "2023-07-31T07:39:04.352330Z"
    }
   },
   "outputs": [],
   "source": [
    "fig = plt.figure(figsize=(5,5))\n",
    "fig.subplots_adjust(hspace=0., wspace = 0.0)\n",
    "ax = fig.add_subplot(1,1,1)\n",
    "\n",
    "xlabel='log_Lx_int/Ledd'\n",
    "ylabel='EW'\n",
    "xerr_label='log_fint_err'\n",
    "yerr_label='EWerr'\n",
    "color_label='black'\n",
    "\n",
    "#dataplot=slab_zgauss_result\n",
    "#ax=plot_errorbar_cmap(ax,dataplot,xlabel,ylabel,xerr=xerr_label,yerr=yerr_label,color_n=color_label,marker_n='name',size_n=None,logx=False,logy=False)\n",
    "dataplot=slab_result\n",
    "ax=plot_errorbar(ax,dataplot,xlabel,ylabel,xerr=xerr_label,yerr=yerr_label,color_n=color_label,marker_n='name',size_n=None,logx=False,logy=False)\n",
    "set_ax_tick(ax)\n",
    "#set_ax_locator(ax,xma=1.0,xmi=0.2,yma=0.2,ymi=0.1)\n",
    "ax.xaxis.set_major_locator(mpl.ticker.MultipleLocator(0.4))\n",
    "ax.xaxis.set_minor_locator(mpl.ticker.MultipleLocator(0.2))\n",
    "\n",
    "set_ax_legend(ax,bbox_to_anchor=(0.51, 0.99))\n",
    "#ax.set_ylim(-7,17)\n",
    "#ax.set_xlabel(r'log($L_{\\rm 2-10keV}/L_{\\rm Edd}$)')\n",
    "ax.set_ylabel(r'EW')\n",
    "model_name='Slab'\n",
    "\n",
    "for index,i in enumerate(data_literatureEW['Name']):\n",
    "    EWerr_string=data_literatureEW.loc[index,'EWerr']\n",
    "    upper=EWerr_string.split('m')[0].split('p')[1]\n",
    "    lower=EWerr_string.split('m')[1]\n",
    "    asymmetric_error = [[int(upper)],\n",
    "                                 [int(lower)]]\n",
    "    \n",
    "    \n",
    "    ax.errorbar(x=data_literatureEW.loc[index,'logLx/Ledd'],\n",
    "                 y=data_literatureEW.loc[index,'EW'],\n",
    "                 yerr=asymmetric_error,\n",
    "                 marker='^',ms=11,\n",
    "                 color='grey',\n",
    "                 #alpha=0\n",
    "                )\n",
    "ax.semilogy()    \n",
    "ax.set_ylim(20,1001)\n",
    "ax.set_xlabel(r'log($L_{\\rm X}/L_{\\rm Edd}$)')"
   ]
  },
  {
   "cell_type": "code",
   "execution_count": null,
   "metadata": {
    "ExecuteTime": {
     "end_time": "2023-07-03T15:10:33.426730Z",
     "start_time": "2023-07-03T15:10:33.416873Z"
    }
   },
   "outputs": [],
   "source": [
    "data_literatureEW.columns"
   ]
  },
  {
   "cell_type": "markdown",
   "metadata": {
    "ExecuteTime": {
     "end_time": "2023-07-03T15:14:13.580165Z",
     "start_time": "2023-07-03T15:14:13.573865Z"
    }
   },
   "source": [
    "## L-EW"
   ]
  },
  {
   "cell_type": "code",
   "execution_count": null,
   "metadata": {
    "ExecuteTime": {
     "end_time": "2023-08-09T15:10:51.794953Z",
     "start_time": "2023-08-09T15:10:51.323201Z"
    }
   },
   "outputs": [],
   "source": [
    "fig = plt.figure(figsize=(4,4))\n",
    "fig.subplots_adjust(hspace=0., wspace = 0.0)\n",
    "ax = fig.add_subplot(1,1,1)\n",
    "\n",
    "xlabel='logLx_int'\n",
    "ylabel='EW'\n",
    "xerr_label='log_fint_err'\n",
    "yerr_label='EWerr'\n",
    "color_label='black'\n",
    "\n",
    "#dataplot=slab_zgauss_result\n",
    "#ax=plot_errorbar_cmap(ax,dataplot,xlabel,ylabel,xerr=xerr_label,yerr=yerr_label,color_n=color_label,marker_n='name',size_n=None,logx=False,logy=False)\n",
    "dataplot=slab_result\n",
    "ax=plot_errorbar(ax,dataplot,xlabel,ylabel,xerr=xerr_label,yerr=yerr_label,color_n=color_label,marker_n='name',size_n=None,logx=False,logy=False)\n",
    "set_ax_tick(ax)\n",
    "#set_ax_locator(ax,xma=1.0,xmi=0.2,yma=0.2,ymi=0.1)\n",
    "ax.xaxis.set_major_locator(mpl.ticker.MultipleLocator(0.4))\n",
    "ax.xaxis.set_minor_locator(mpl.ticker.MultipleLocator(0.2))\n",
    "\n",
    "set_ax_legend(ax,bbox_to_anchor=(0.51, 0.99))\n",
    "#ax.set_ylim(-7,17)\n",
    "#ax.set_xlabel(r'log($L_{\\rm 2-10keV}/L_{\\rm Edd}$)')\n",
    "ax.set_ylabel(r'EW')\n",
    "model_name='Slab'\n",
    "\n",
    "for index,i in enumerate(data_literatureEW['Name']):\n",
    "    EWerr_string=data_literatureEW.loc[index,'EWerr']\n",
    "    upper=EWerr_string.split('m')[0].split('p')[1]\n",
    "    lower=EWerr_string.split('m')[1]\n",
    "    asymmetric_error = [[int(upper)],\n",
    "                                 [int(lower)]]\n",
    "        \n",
    "    ax.errorbar(x= np.log10(data_literatureEW.loc[index,'L2-10(10^43)']*1.0e43),\n",
    "                 y=data_literatureEW.loc[index,'EW'],\n",
    "                 yerr=asymmetric_error,\n",
    "                 marker='^',ms=11,\n",
    "                 color='grey',\n",
    "                 mec='grey',\n",
    "                 ecolor='grey',\n",
    "                 elinewidth=2,ls='',fillstyle='none',\n",
    "                 #alpha=0\n",
    "                )\n",
    "ax.semilogy()    \n",
    "ax.set_ylim(21,1001)\n",
    "ax.set_xlabel(r'log($L_{\\rm 2-10 keV}$)')\n",
    "#ax.set_title('%s model'%model_name)\n",
    "save_lc_img_path=os.path.join('/Users/lyubing/Downloads/OXCLAGN/003_OXCLAGN/pic/Gamma_L_nh_pic/','EW_LX.pdf') \n",
    "plt.savefig(save_lc_img_path,dpi=400, transparent=False, bbox_inches='tight')\n",
    "#plt.close()    "
   ]
  },
  {
   "cell_type": "markdown",
   "metadata": {},
   "source": [
    "## logf EW"
   ]
  },
  {
   "cell_type": "code",
   "execution_count": null,
   "metadata": {
    "ExecuteTime": {
     "end_time": "2023-07-03T15:17:30.129518Z",
     "start_time": "2023-07-03T15:17:29.873268Z"
    }
   },
   "outputs": [],
   "source": [
    "fig = plt.figure(figsize=(5,5))\n",
    "fig.subplots_adjust(hspace=0., wspace = 0.0)\n",
    "ax = fig.add_subplot(1,1,1)\n",
    "\n",
    "xlabel='log_fint'\n",
    "ylabel='EW'\n",
    "xerr_label='log_fint_err'\n",
    "yerr_label='EWerr'\n",
    "color_label='black'\n",
    "\n",
    "#dataplot=slab_zgauss_result\n",
    "#ax=plot_errorbar_cmap(ax,dataplot,xlabel,ylabel,xerr=xerr_label,yerr=yerr_label,color_n=color_label,marker_n='name',size_n=None,logx=False,logy=False)\n",
    "dataplot=slab_result\n",
    "ax=plot_errorbar(ax,dataplot,xlabel,ylabel,xerr=xerr_label,yerr=yerr_label,color_n=color_label,marker_n='name',size_n=None,logx=False,logy=False)\n",
    "set_ax_tick(ax)\n",
    "#set_ax_locator(ax,xma=1.0,xmi=0.2,yma=0.2,ymi=0.1)\n",
    "ax.xaxis.set_major_locator(mpl.ticker.MultipleLocator(0.4))\n",
    "ax.xaxis.set_minor_locator(mpl.ticker.MultipleLocator(0.2))\n",
    "\n",
    "set_ax_legend(ax,bbox_to_anchor=(0.51, 0.99))\n",
    "#ax.set_ylim(-7,17)\n",
    "#ax.set_xlabel(r'log($L_{\\rm 2-10keV}/L_{\\rm Edd}$)')\n",
    "ax.set_ylabel(r'EW')\n",
    "model_name='Slab'\n",
    "\n",
    "for index,i in enumerate(data_literatureEW['Name']):\n",
    "    EWerr_string=data_literatureEW.loc[index,'EWerr']\n",
    "    upper=EWerr_string.split('m')[0].split('p')[1]\n",
    "    lower=EWerr_string.split('m')[1]\n",
    "    asymmetric_error = [[int(upper)],\n",
    "                                 [int(lower)]]\n",
    "    \n",
    "    \n",
    "    ax.errorbar(x= np.log10(data_literatureEW.loc[index,'F2-10(1E-11)']*1.0e-11),\n",
    "                 y=data_literatureEW.loc[index,'EW'],\n",
    "                 yerr=asymmetric_error,\n",
    "                 marker='^',ms=11,\n",
    "                 color='grey',\n",
    "                 alpha=0\n",
    "                )\n",
    "ax.semilogy()    \n",
    "ax.set_ylim(20,1001)\n",
    "ax.set_xlabel(r'log($f_{\\rm X}$)')"
   ]
  },
  {
   "cell_type": "code",
   "execution_count": null,
   "metadata": {},
   "outputs": [],
   "source": []
  },
  {
   "cell_type": "code",
   "execution_count": null,
   "metadata": {},
   "outputs": [],
   "source": []
  },
  {
   "cell_type": "code",
   "execution_count": null,
   "metadata": {},
   "outputs": [],
   "source": []
  },
  {
   "cell_type": "code",
   "execution_count": null,
   "metadata": {
    "ExecuteTime": {
     "end_time": "2023-07-03T15:05:32.447061Z",
     "start_time": "2023-07-03T15:05:32.436991Z"
    }
   },
   "outputs": [],
   "source": [
    "slab_result.columns"
   ]
  },
  {
   "cell_type": "code",
   "execution_count": null,
   "metadata": {
    "ExecuteTime": {
     "end_time": "2023-07-03T15:10:55.731721Z",
     "start_time": "2023-07-03T15:10:55.424361Z"
    }
   },
   "outputs": [],
   "source": [
    "fig = plt.figure(figsize=(5,5))\n",
    "fig.subplots_adjust(hspace=0., wspace = 0.0)\n",
    "ax = fig.add_subplot(1,1,1)\n",
    "\n",
    "xlabel='log_Lx_int_ned/Ledd'\n",
    "ylabel='EW'\n",
    "xerr_label='log_fint_err'\n",
    "yerr_label='EWerr'\n",
    "color_label='black'\n",
    "#dataplot=slab_zgauss_result\n",
    "#ax=plot_errorbar_cmap(ax,dataplot,xlabel,ylabel,xerr=xerr_label,yerr=yerr_label,color_n=color_label,marker_n='name',size_n=None,logx=False,logy=False)\n",
    "dataplot=slab_result\n",
    "ax=plot_errorbar(ax,dataplot,xlabel,ylabel,xerr=xerr_label,yerr=yerr_label,color_n=color_label,marker_n='name',size_n=None,logx=False,logy=False)\n",
    "\n",
    "\n",
    "\n",
    "xlabel='log_Lx_int/Ledd'\n",
    "ylabel='EW'\n",
    "xerr_label='log_fint_err'\n",
    "yerr_label='EWerr'\n",
    "color_label='red'\n",
    "#dataplot=slab_zgauss_result\n",
    "#ax=plot_errorbar_cmap(ax,dataplot,xlabel,ylabel,xerr=xerr_label,yerr=yerr_label,color_n=color_label,marker_n='name',size_n=None,logx=False,logy=False)\n",
    "dataplot=slab_result\n",
    "ax=plot_errorbar(ax,dataplot,xlabel,ylabel,xerr=xerr_label,yerr=yerr_label,color_n=color_label,marker_n='name',size_n=None,logx=False,logy=False)\n",
    "\n",
    "\n",
    "\n",
    "set_ax_tick(ax)\n",
    "#set_ax_locator(ax,xma=1.0,xmi=0.2,yma=0.2,ymi=0.1)\n",
    "ax.xaxis.set_major_locator(mpl.ticker.MultipleLocator(0.4))\n",
    "ax.xaxis.set_minor_locator(mpl.ticker.MultipleLocator(0.2))\n",
    "\n",
    "set_ax_legend(ax,bbox_to_anchor=(0.51, 0.99))\n",
    "#ax.set_ylim(-7,17)\n",
    "#ax.set_xlabel(r'log($L_{\\rm 2-10keV}/L_{\\rm Edd}$)')\n",
    "ax.set_ylabel(r'EW')\n",
    "model_name='Slab'\n",
    "\n",
    "for index,i in enumerate(data_literatureEW['Name']):\n",
    "    EWerr_string=data_literatureEW.loc[index,'EWerr']\n",
    "    upper=EWerr_string.split('m')[0].split('p')[1]\n",
    "    lower=EWerr_string.split('m')[1]\n",
    "    asymmetric_error = [[int(upper)],\n",
    "                                 [int(lower)]]\n",
    "    \n",
    "    \n",
    "    ax.errorbar(x=data_literatureEW.loc[index,'logLx/Ledd'],\n",
    "                 y=data_literatureEW.loc[index,'EW'],\n",
    "                 yerr=asymmetric_error,\n",
    "                 marker='^',ms=11,\n",
    "                 color='grey'\n",
    "                )\n",
    "ax.semilogy()    \n",
    "ax.set_ylim(20,1001)\n",
    "ax.set_xlabel(r'log($L_{\\rm X}/L_{\\rm Edd}$)')"
   ]
  },
  {
   "cell_type": "code",
   "execution_count": null,
   "metadata": {},
   "outputs": [],
   "source": []
  },
  {
   "cell_type": "code",
   "execution_count": null,
   "metadata": {},
   "outputs": [],
   "source": []
  },
  {
   "cell_type": "code",
   "execution_count": null,
   "metadata": {},
   "outputs": [],
   "source": []
  },
  {
   "cell_type": "code",
   "execution_count": null,
   "metadata": {},
   "outputs": [],
   "source": []
  },
  {
   "cell_type": "code",
   "execution_count": null,
   "metadata": {},
   "outputs": [],
   "source": []
  },
  {
   "cell_type": "markdown",
   "metadata": {},
   "source": [
    "# NGC1566"
   ]
  },
  {
   "cell_type": "code",
   "execution_count": null,
   "metadata": {
    "ExecuteTime": {
     "end_time": "2023-03-07T10:47:26.689998Z",
     "start_time": "2023-03-07T10:47:26.656315Z"
    }
   },
   "outputs": [],
   "source": [
    "data_NGC1566=pd.read_excel('/Users/lyubing/Downloads/OXCLAGN/NGC1566.xlsx',sheet_name='Sheet1')"
   ]
  },
  {
   "cell_type": "code",
   "execution_count": null,
   "metadata": {
    "ExecuteTime": {
     "end_time": "2023-03-07T10:47:30.014973Z",
     "start_time": "2023-03-07T10:47:29.983840Z"
    }
   },
   "outputs": [],
   "source": [
    "data_NGC1566"
   ]
  },
  {
   "cell_type": "code",
   "execution_count": null,
   "metadata": {
    "ExecuteTime": {
     "end_time": "2023-03-07T10:52:36.038594Z",
     "start_time": "2023-03-07T10:52:36.020185Z"
    }
   },
   "outputs": [],
   "source": [
    "for index,(i,j,k) in enumerate(zip(data_NGC1566['ledd'],data_NGC1566['Gamma'],data_NGC1566['NH1'])):\n",
    "    #print(index,i,j)\n",
    "    ledd_i= float(i.split('\\pm')[0])\n",
    "    gamma_i=float(j.split('^')[0].split('$')[1])\n",
    "    nh_i= float(k.split('^')[0].split('$')[1])    \n",
    "    \n",
    "    data_NGC1566.loc[index,'ledd_']=ledd_i\n",
    "    data_NGC1566.loc[index,'gamma_']=gamma_i\n",
    "    data_NGC1566.loc[index,'nh1_']=nh_i\n",
    "    \n",
    "    print(index,ledd_i,gamma_i,nh_i)"
   ]
  },
  {
   "cell_type": "code",
   "execution_count": null,
   "metadata": {
    "ExecuteTime": {
     "end_time": "2023-03-07T10:52:42.807829Z",
     "start_time": "2023-03-07T10:52:42.783974Z"
    }
   },
   "outputs": [],
   "source": [
    "data_NGC1566"
   ]
  },
  {
   "cell_type": "code",
   "execution_count": null,
   "metadata": {
    "ExecuteTime": {
     "end_time": "2023-03-07T10:59:10.450075Z",
     "start_time": "2023-03-07T10:59:10.441360Z"
    }
   },
   "outputs": [],
   "source": [
    "data_NGC1566['name']='NGC1566'#.columns\n",
    "\n",
    "data_NGC1566['logledd_']=np.log10(data_NGC1566['ledd_'])"
   ]
  },
  {
   "cell_type": "code",
   "execution_count": null,
   "metadata": {
    "ExecuteTime": {
     "end_time": "2023-03-07T10:59:11.845231Z",
     "start_time": "2023-03-07T10:59:11.835941Z"
    }
   },
   "outputs": [],
   "source": [
    "data_NGC1566['logledd_']"
   ]
  },
  {
   "cell_type": "code",
   "execution_count": null,
   "metadata": {},
   "outputs": [],
   "source": []
  },
  {
   "cell_type": "code",
   "execution_count": null,
   "metadata": {
    "ExecuteTime": {
     "end_time": "2023-03-07T11:03:02.601588Z",
     "start_time": "2023-03-07T11:03:01.866709Z"
    },
    "scrolled": false
   },
   "outputs": [],
   "source": [
    "fig = plt.figure(figsize=(9,9))\n",
    "fig.subplots_adjust(hspace=0., wspace = 0.)\n",
    "ax = fig.add_subplot(2,2,1)\n",
    "\n",
    "\n",
    "\n",
    "xlabel='logledd_'\n",
    "ylabel='gamma_'\n",
    "xerr_label= None#'log_f_err'\n",
    "yerr_label= None#'phoindex_err'\n",
    "color_label='black'\n",
    "\n",
    "dataplot=data_NGC1566\n",
    "ax=plot_errorbar(ax,dataplot,xlabel,ylabel,xerr=xerr_label,yerr=yerr_label,color_n=color_label,marker_n='name',size_n=None,logx=False,logy=False)\n",
    "set_ax_tick(ax) \n",
    "set_ax_locator(ax,xma=0.5,xmi=0.1,yma=0.1,ymi=0.05)\n",
    "#set_ax_legend(ax,bbox_to_anchor=(0.01, 0.99))   \n",
    "#ax.set_ylim(-7,17)\n",
    "#ax.set_xlabel(r'log($L_{\\rm X}/L_{\\rm Edd}$)')\n",
    "ax.set_ylabel(r'$\\Gamma$')\n",
    "model_name='NGC1566'\n",
    "#ax.set_title('%s'%model_name)\n",
    "set_ax_legend(ax,bbox_to_anchor=(0.01, 0.99))   \n",
    "\n",
    "\n",
    "'''ax2 = fig.add_subplot(2,2,2,sharey=ax)\n",
    "xlabel='zphabs_nh(10^22)'\n",
    "ylabel='phoindex'\n",
    "xerr_label=None #'zphabs_nh_err'\n",
    "yerr_label='phoindex_err'\n",
    "\n",
    "dataplot=borus_result\n",
    "ax2=plot_errorbar(ax2,dataplot,xlabel,ylabel,xerr=xerr_label,yerr=yerr_label,color_n=color_label,marker_n='name',size_n=None,logx=False,logy=False)\n",
    "set_ax_tick(ax2) \n",
    "#set_ax_locator(ax,xma=1000,xmi=500,yma=1,ymi=0.5)\n",
    "#set_ax_legend(ax2,bbox_to_anchor=(0.01, 0.99))   \n",
    "#ax.set_ylim(-0.1,0.5)\n",
    "ax2.set_xlabel(r'$N_{\\rm H,los (10^{22} cm^{-2})}$')\n",
    "#ax2.set_ylabel(r'$\\Gamma$')\n",
    "#ax2.yaxis.set_major_formatter(ticker.NullFormatter())\n",
    "set_ax_locator(ax2,xma=25,xmi=5,yma=0.2,ymi=0.1)\n",
    "ax2.yaxis.set_tick_params(which='major', size=10, width=2, direction='in', top='on',labelsize=0)\n",
    "'''\n",
    "\n",
    "ax3 = fig.add_subplot(2,2,3,sharex=ax)\n",
    "\n",
    "xlabel='logledd_'\n",
    "ylabel='nh1_'\n",
    "xerr_label= None#'log_f_err'\n",
    "yerr_label=None#'zphabs_nh_err'\n",
    "\n",
    "\n",
    "dataplot=data_NGC1566\n",
    "ax3=plot_errorbar(ax3,dataplot,xlabel,ylabel,xerr=xerr_label,yerr=yerr_label,color_n=color_label,marker_n='name',size_n=None,logx=False,logy=False)\n",
    "\n",
    "set_ax_tick(ax3) \n",
    "#set_ax_locator(ax,xma=1000,xmi=500,yma=1,ymi=0.5)\n",
    "#set_ax_legend(ax3,bbox_to_anchor=(0.51, 0.99))   \n",
    "#ax.set_ylim(-7,17)\n",
    "#ax.semilogy()\n",
    "ax3.set_xlabel(r'log($L_{\\rm bol}/L_{\\rm Edd}$)')\n",
    "ax3.set_ylabel(r'$N_{\\rm H,los (10^{21} cm^{-2})}$')\n",
    "#ax3.set_ylim(-5,85)\n",
    "\n",
    "\n",
    "#ax2.xaxis.set_tick_params(which='major', size=10, width=2, direction='in', top='on',)\n",
    "#ax2.xaxis.set_tick_params(which='minor', size=5, width=2, direction='in', top='on')\n",
    "#ax2.yaxis.set_tick_params(which='major', size=10, width=2, direction='in', right='on')\n",
    "#ax2.yaxis.set_tick_params(which='minor', size=5, width=2, direction='in', right='on')\n",
    "\n",
    "#ax.set_title('%s model'%model_name)\n",
    "save_lc_img_path=os.path.join('/Users/lyubing/Downloads/OXCLAGN/','%s.pdf'%model_name) \n",
    "plt.savefig(save_lc_img_path,dpi=400, transparent=False, bbox_inches='tight')\n",
    "#plt.close()    "
   ]
  },
  {
   "cell_type": "code",
   "execution_count": null,
   "metadata": {},
   "outputs": [],
   "source": []
  },
  {
   "cell_type": "code",
   "execution_count": null,
   "metadata": {},
   "outputs": [],
   "source": []
  },
  {
   "cell_type": "code",
   "execution_count": null,
   "metadata": {},
   "outputs": [],
   "source": []
  },
  {
   "cell_type": "markdown",
   "metadata": {},
   "source": [
    "# NGC 4507"
   ]
  },
  {
   "cell_type": "code",
   "execution_count": null,
   "metadata": {
    "ExecuteTime": {
     "end_time": "2022-05-20T12:01:41.368276Z",
     "start_time": "2022-05-20T12:01:41.320066Z"
    }
   },
   "outputs": [],
   "source": [
    "object_name = 'NGC 4507'\n",
    "print(object_name)\n",
    "table = heasarc.query_object(object_name, mission=mission,radius='10 arcmin')\n",
    "#table[:3].pprint()"
   ]
  },
  {
   "cell_type": "code",
   "execution_count": null,
   "metadata": {
    "ExecuteTime": {
     "end_time": "2022-05-20T12:02:48.255114Z",
     "start_time": "2022-05-20T12:02:48.247613Z"
    }
   },
   "outputs": [],
   "source": [
    "table.colnames"
   ]
  },
  {
   "cell_type": "code",
   "execution_count": null,
   "metadata": {
    "ExecuteTime": {
     "end_time": "2022-05-20T12:03:08.893634Z",
     "start_time": "2022-05-20T12:03:08.874748Z"
    }
   },
   "outputs": [],
   "source": [
    "table[['NAME',\n",
    " 'RA',\n",
    " 'DEC',\n",
    " 'TIME',\n",
    " 'OBSID',\n",
    " 'STATUS',\n",
    " 'EXPOSURE_A',]][:4]"
   ]
  },
  {
   "cell_type": "code",
   "execution_count": null,
   "metadata": {},
   "outputs": [],
   "source": [
    "NGC_4507\t188.8799\t-39.9369\t57183.8029\t60102051004\tARCHIVED\t34464\n",
    "NGC_4507\t188.8692\t-39.9115\t57218.3341\t60102051006\tARCHIVED\t32225\n",
    "NGC_4507\t188.8652\t-39.9166\t57256.4140\t60102051008\tARCHIVED\t30924\n",
    "NGC_4507\t188.8975\t-39.9441\t57145.8445\t60102051002\tARCHIVED\t30133\n"
   ]
  },
  {
   "cell_type": "markdown",
   "metadata": {
    "ExecuteTime": {
     "end_time": "2022-05-20T12:01:51.910267Z",
     "start_time": "2022-05-20T12:01:51.906671Z"
    }
   },
   "source": [
    "ignore **-3.0 60.0-**"
   ]
  },
  {
   "cell_type": "markdown",
   "metadata": {},
   "source": [
    "## Slab"
   ]
  },
  {
   "cell_type": "code",
   "execution_count": null,
   "metadata": {
    "ExecuteTime": {
     "end_time": "2022-05-20T06:37:33.518381Z",
     "start_time": "2022-05-20T06:37:33.511676Z"
    }
   },
   "outputs": [],
   "source": [
    "505/471"
   ]
  },
  {
   "cell_type": "code",
   "execution_count": null,
   "metadata": {
    "ExecuteTime": {
     "end_time": "2022-05-20T06:14:19.223011Z",
     "start_time": "2022-05-20T06:14:19.215679Z"
    }
   },
   "outputs": [],
   "source": [
    "632/590"
   ]
  },
  {
   "cell_type": "markdown",
   "metadata": {},
   "source": [
    "## mytorus coupled"
   ]
  },
  {
   "cell_type": "code",
   "execution_count": null,
   "metadata": {
    "ExecuteTime": {
     "end_time": "2022-05-20T13:40:39.329273Z",
     "start_time": "2022-05-20T13:40:39.322844Z"
    }
   },
   "outputs": [],
   "source": [
    "517.20/479"
   ]
  },
  {
   "cell_type": "code",
   "execution_count": null,
   "metadata": {
    "ExecuteTime": {
     "end_time": "2022-05-20T13:46:29.536867Z",
     "start_time": "2022-05-20T13:46:29.532728Z"
    }
   },
   "outputs": [],
   "source": [
    "import math\n",
    "import numpy as np"
   ]
  },
  {
   "cell_type": "code",
   "execution_count": null,
   "metadata": {
    "ExecuteTime": {
     "end_time": "2022-05-20T13:46:29.971840Z",
     "start_time": "2022-05-20T13:46:29.965447Z"
    }
   },
   "outputs": [],
   "source": [
    "math.cos(60*np.pi/180)"
   ]
  },
  {
   "cell_type": "code",
   "execution_count": null,
   "metadata": {
    "ExecuteTime": {
     "end_time": "2022-05-20T14:53:08.380869Z",
     "start_time": "2022-05-20T14:53:08.373190Z"
    }
   },
   "outputs": [],
   "source": [
    "2.55e24*(1-math.cos(61.5*np.pi/180))**0.5"
   ]
  },
  {
   "cell_type": "code",
   "execution_count": null,
   "metadata": {
    "ExecuteTime": {
     "end_time": "2022-05-20T14:56:11.854901Z",
     "start_time": "2022-05-20T14:56:11.846981Z"
    }
   },
   "outputs": [],
   "source": [
    "2.55e24*(1-4.0*math.cos(61.5*np.pi/180)**2)**0.5"
   ]
  },
  {
   "cell_type": "code",
   "execution_count": null,
   "metadata": {
    "ExecuteTime": {
     "end_time": "2022-05-20T14:55:19.234253Z",
     "start_time": "2022-05-20T14:55:19.227734Z"
    }
   },
   "outputs": [],
   "source": [
    "(7.5/23)**2"
   ]
  },
  {
   "cell_type": "markdown",
   "metadata": {},
   "source": [
    "## mytorus coupled"
   ]
  },
  {
   "cell_type": "code",
   "execution_count": null,
   "metadata": {
    "ExecuteTime": {
     "end_time": "2022-05-20T15:18:42.820374Z",
     "start_time": "2022-05-20T15:18:42.813566Z"
    }
   },
   "outputs": [],
   "source": [
    "510/471  "
   ]
  },
  {
   "cell_type": "code",
   "execution_count": null,
   "metadata": {},
   "outputs": [],
   "source": []
  },
  {
   "cell_type": "markdown",
   "metadata": {},
   "source": [
    "## borus02"
   ]
  },
  {
   "cell_type": "code",
   "execution_count": null,
   "metadata": {
    "ExecuteTime": {
     "end_time": "2022-05-21T14:28:47.018442Z",
     "start_time": "2022-05-21T14:28:47.011868Z"
    }
   },
   "outputs": [],
   "source": [
    "510/471"
   ]
  },
  {
   "cell_type": "code",
   "execution_count": null,
   "metadata": {
    "ExecuteTime": {
     "end_time": "2022-05-21T08:55:34.978153Z",
     "start_time": "2022-05-21T08:55:34.971840Z"
    }
   },
   "outputs": [],
   "source": [
    "10**24.2857"
   ]
  },
  {
   "cell_type": "code",
   "execution_count": null,
   "metadata": {},
   "outputs": [],
   "source": []
  },
  {
   "cell_type": "markdown",
   "metadata": {},
   "source": [
    "## XCLUMPY"
   ]
  },
  {
   "cell_type": "code",
   "execution_count": null,
   "metadata": {
    "ExecuteTime": {
     "end_time": "2022-05-21T15:42:59.744105Z",
     "start_time": "2022-05-21T15:42:59.737999Z"
    }
   },
   "outputs": [],
   "source": [
    "513.03/471"
   ]
  },
  {
   "cell_type": "code",
   "execution_count": null,
   "metadata": {
    "ExecuteTime": {
     "end_time": "2022-05-22T08:31:21.921460Z",
     "start_time": "2022-05-22T08:31:21.915361Z"
    }
   },
   "outputs": [],
   "source": [
    "print(513 /471 ,\n",
    "460/471,\n",
    "467/471,\n",
    "421/460,\n",
    "1863/1851,)"
   ]
  },
  {
   "cell_type": "code",
   "execution_count": null,
   "metadata": {
    "ExecuteTime": {
     "end_time": "2022-05-22T16:02:22.498242Z",
     "start_time": "2022-05-22T16:02:22.488360Z"
    },
    "scrolled": true
   },
   "outputs": [],
   "source": [
    "np.sin((np.log(4.8))**0.5*25*np.pi/180),np.sin((np.log(4.8))**0.5*35*np.pi/180),np.sin((np.log(4.8))**0.5*15*np.pi/180)"
   ]
  },
  {
   "cell_type": "code",
   "execution_count": null,
   "metadata": {
    "ExecuteTime": {
     "end_time": "2022-05-22T16:02:56.461740Z",
     "start_time": "2022-05-22T16:02:56.454930Z"
    }
   },
   "outputs": [],
   "source": [
    "0.5196846295418784- 0.6925907316366977, 0.32204527560002-0.5196846295418784"
   ]
  },
  {
   "cell_type": "code",
   "execution_count": null,
   "metadata": {},
   "outputs": [],
   "source": []
  },
  {
   "cell_type": "code",
   "execution_count": null,
   "metadata": {
    "ExecuteTime": {
     "end_time": "2022-12-29T13:07:32.093525Z",
     "start_time": "2022-12-29T13:07:32.090482Z"
    }
   },
   "outputs": [],
   "source": [
    "import numpy as np\n",
    "\n",
    "np.arccos(0.9)*180/np.pi"
   ]
  },
  {
   "cell_type": "code",
   "execution_count": null,
   "metadata": {},
   "outputs": [],
   "source": []
  },
  {
   "cell_type": "code",
   "execution_count": null,
   "metadata": {},
   "outputs": [],
   "source": []
  },
  {
   "cell_type": "code",
   "execution_count": null,
   "metadata": {
    "ExecuteTime": {
     "end_time": "2022-05-23T01:20:58.008571Z",
     "start_time": "2022-05-23T01:20:57.998556Z"
    }
   },
   "outputs": [],
   "source": [
    "np.sin((np.log(4.8*100))**0.5*25*np.pi/180),np.sin((np.log(4.8*100))**0.5*35*np.pi/180),np.sin((np.log(4.8*100))**0.5*15*np.pi/180)"
   ]
  },
  {
   "cell_type": "code",
   "execution_count": null,
   "metadata": {
    "ExecuteTime": {
     "end_time": "2022-05-23T01:21:13.668464Z",
     "start_time": "2022-05-23T01:21:13.661554Z"
    }
   },
   "outputs": [],
   "source": [
    "0.8839106456902899- 0.9985972547009088, 0.8839106456902899-0.6055809334506469"
   ]
  },
  {
   "cell_type": "code",
   "execution_count": null,
   "metadata": {
    "ExecuteTime": {
     "end_time": "2022-05-22T15:59:57.789428Z",
     "start_time": "2022-05-22T15:59:57.782344Z"
    }
   },
   "outputs": [],
   "source": [
    "np.sin(30*np.pi/180)"
   ]
  },
  {
   "cell_type": "markdown",
   "metadata": {},
   "source": [
    "## RXTORUS"
   ]
  },
  {
   "cell_type": "code",
   "execution_count": null,
   "metadata": {
    "ExecuteTime": {
     "end_time": "2022-05-21T16:17:13.035988Z",
     "start_time": "2022-05-21T16:17:13.029441Z"
    }
   },
   "outputs": [],
   "source": [
    "514.88/471 "
   ]
  },
  {
   "cell_type": "code",
   "execution_count": null,
   "metadata": {},
   "outputs": [],
   "source": []
  },
  {
   "cell_type": "code",
   "execution_count": null,
   "metadata": {},
   "outputs": [],
   "source": []
  },
  {
   "cell_type": "code",
   "execution_count": null,
   "metadata": {},
   "outputs": [],
   "source": []
  },
  {
   "cell_type": "markdown",
   "metadata": {},
   "source": [
    "# turn off AGN"
   ]
  },
  {
   "cell_type": "code",
   "execution_count": null,
   "metadata": {
    "ExecuteTime": {
     "end_time": "2022-05-26T11:56:43.739214Z",
     "start_time": "2022-05-26T11:56:43.728900Z"
    }
   },
   "outputs": [],
   "source": [
    "import pandas as pd\n",
    "import numpy as np\n",
    "\n",
    "turnoffCLAGN=pd.read_csv(\"/home/brettlv/Downloads/arxiv_source_code/A Systematic Analysis of Stellar Populations in the Host Galaxies of Changing-look AGNs2112.07284/turning_off_CLAGN\",header=None,sep='&')"
   ]
  },
  {
   "cell_type": "code",
   "execution_count": null,
   "metadata": {
    "ExecuteTime": {
     "end_time": "2022-05-26T11:56:45.138058Z",
     "start_time": "2022-05-26T11:56:45.130370Z"
    }
   },
   "outputs": [],
   "source": [
    "turnoffCLAGN.columns\n"
   ]
  },
  {
   "cell_type": "code",
   "execution_count": null,
   "metadata": {
    "ExecuteTime": {
     "end_time": "2022-05-26T12:01:46.213606Z",
     "start_time": "2022-05-26T12:01:46.175066Z"
    }
   },
   "outputs": [],
   "source": [
    "turnoffCLAGN[turnoffCLAGN.columns[-7:]]\n"
   ]
  },
  {
   "cell_type": "code",
   "execution_count": null,
   "metadata": {
    "ExecuteTime": {
     "end_time": "2022-05-26T11:56:48.030158Z",
     "start_time": "2022-05-26T11:56:47.992204Z"
    }
   },
   "outputs": [],
   "source": [
    "for index,(i,j) in enumerate(zip(turnoffCLAGN[turnoffCLAGN.columns[11]],turnoffCLAGN[turnoffCLAGN.columns[12]])):\n",
    "    if i!='  -- ':\n",
    "        mass_string=i.split('$')[1]\n",
    "        #print(mass_string)\n",
    "        mass=float(mass_string.split('^')[0])\n",
    "        mass_upper=float(mass_string.split('^{+')[1].split('}_{-')[0])\n",
    "        mass_lower=float(mass_string.split('_{-')[1].split('}')[0])\n",
    "        time=float(j)\n",
    "        \n",
    "        #print(mass,mass_lower,mass_upper,time)\n",
    "        \n",
    "    else:\n",
    "        mass=0\n",
    "        mass_lower=0\n",
    "        mass_upper=0\n",
    "        time=float(j)\n",
    "        \n",
    "    turnoffCLAGN.loc[index,'mass',]=mass\n",
    "    turnoffCLAGN.loc[index,'mass_upper']=mass_upper\n",
    "    turnoffCLAGN.loc[index,'mass_lower']=mass_lower\n",
    "    turnoffCLAGN.loc[index,'time']=time"
   ]
  },
  {
   "cell_type": "code",
   "execution_count": null,
   "metadata": {
    "ExecuteTime": {
     "end_time": "2022-05-26T11:56:49.630637Z",
     "start_time": "2022-05-26T11:56:49.623860Z"
    }
   },
   "outputs": [],
   "source": [
    "turnoffCLAGN.columns"
   ]
  },
  {
   "cell_type": "code",
   "execution_count": null,
   "metadata": {
    "ExecuteTime": {
     "end_time": "2022-05-26T11:47:18.098387Z",
     "start_time": "2022-05-26T11:47:18.091199Z"
    }
   },
   "outputs": [],
   "source": [
    "pwd"
   ]
  },
  {
   "cell_type": "code",
   "execution_count": null,
   "metadata": {
    "ExecuteTime": {
     "end_time": "2022-05-26T11:58:33.283249Z",
     "start_time": "2022-05-26T11:58:33.275844Z"
    }
   },
   "outputs": [],
   "source": [
    "turnoffCLAGN_massgt0=turnoffCLAGN[turnoffCLAGN['mass']>0]\n",
    "turnoffCLAGN_massgt0=drop_index(turnoffCLAGN_massgt0)"
   ]
  },
  {
   "cell_type": "code",
   "execution_count": null,
   "metadata": {
    "ExecuteTime": {
     "end_time": "2022-05-26T11:58:33.903501Z",
     "start_time": "2022-05-26T11:58:33.894581Z"
    }
   },
   "outputs": [],
   "source": [
    "spearmanr(turnoffCLAGN_massgt0['mass'],turnoffCLAGN_massgt0['time'])"
   ]
  },
  {
   "cell_type": "code",
   "execution_count": null,
   "metadata": {},
   "outputs": [],
   "source": []
  },
  {
   "cell_type": "markdown",
   "metadata": {},
   "source": [
    "## plot M time"
   ]
  },
  {
   "cell_type": "code",
   "execution_count": null,
   "metadata": {
    "ExecuteTime": {
     "end_time": "2022-05-26T12:04:10.809648Z",
     "start_time": "2022-05-26T12:04:10.285551Z"
    }
   },
   "outputs": [],
   "source": [
    "#save_lc_img_dir=os.getcwd()\n",
    "save_lc_img_dir='/home/brettlv/Downloads/arxiv_source_code/A Systematic Analysis of Stellar Populations in the Host Galaxies of Changing-look AGNs2112.07284'\n",
    "if not os.path.exists(save_lc_img_dir):\n",
    "    os.mkdir(save_lc_img_dir)\n",
    "    \n",
    "#search_name=name_test.replace(' ','') \n",
    "#save_name=search_name.strip()\n",
    "save_lc_img_path=os.path.join(save_lc_img_dir,'time_Mbh.png')  \n",
    "    \n",
    "\n",
    "#for index,name_test in enumerate(namelist) :\n",
    "    #print(name_test)\n",
    "fig = plt.figure(figsize=(8,6))\n",
    "fig.subplots_adjust(hspace=0.0, wspace = 0.0)\n",
    "ax = fig.add_subplot(111) \n",
    "\n",
    "      \n",
    "ax.errorbar(x=turnoffCLAGN['mass'],\n",
    "                    y=turnoffCLAGN['time'],\n",
    "                    xerr=[turnoffCLAGN['mass_upper'],turnoffCLAGN['mass_lower']],\n",
    "                    fmt='.',\n",
    "                    color='black',label='turning-off CLAGN')\n",
    "        \n",
    "ax.xaxis.set_tick_params(which='major', size=10, width=2, direction='in', top='on',)\n",
    "ax.xaxis.set_tick_params(which='minor', size=5, width=2, direction='in', top='on')\n",
    "ax.yaxis.set_tick_params(which='major', size=10, width=2, direction='in', )\n",
    "ax.yaxis.set_tick_params(which='minor', size=5, width=2, direction='in',)\n",
    "\n",
    "'''bottom, top = ax.set_ylim() \n",
    "if bottom< top:\n",
    "    ax.set_ylim(top,bottom)\n",
    "'''  \n",
    "ax.set_xlim(6,9.5)\n",
    "\n",
    "#ax.set_xlabel('mjd')\n",
    "ax.set_xlabel(r'log $M_\\mathrm{BH}$')\n",
    "ax.set_ylabel(r'$\\Delta\\,T(year)$')\n",
    "\n",
    "handles, labels = ax.get_legend_handles_labels()\n",
    "# remove the errorbars\n",
    "#hdl = [h[0] for h in handles]\n",
    "hdl=handles\n",
    "labels_dict=dict(zip(labels, hdl)) #key,values\n",
    "by_label=OrderedDict(sorted(labels_dict.items(),key=lambda t:t[0]))\n",
    "ax.legend(by_label.values(), by_label.keys(), bbox_to_anchor=(0.61, 0.99),\n",
    "      loc=2, numpoints=1,ncol=1,fontsize=11.)  \n",
    "\n",
    "plt.savefig(save_lc_img_path,dpi=400, transparent=False, bbox_inches='tight')\n",
    "#plt.close()    "
   ]
  },
  {
   "cell_type": "code",
   "execution_count": null,
   "metadata": {
    "ExecuteTime": {
     "end_time": "2022-05-26T11:25:50.477493Z",
     "start_time": "2022-05-26T11:25:50.467773Z"
    }
   },
   "outputs": [],
   "source": [
    "for i,j in zip(turnoffCLAGN[turnoffCLAGN.columns[-3]],turnoffCLAGN[turnoffCLAGN.columns[-2]]):\n",
    "    if i!='  -- ':\n",
    "        mass_string=i.split('$')[1]\n",
    "        print(mass_string)"
   ]
  },
  {
   "cell_type": "code",
   "execution_count": null,
   "metadata": {
    "ExecuteTime": {
     "end_time": "2022-05-26T11:30:43.509391Z",
     "start_time": "2022-05-26T11:30:43.487249Z"
    }
   },
   "outputs": [],
   "source": [
    "for i,j in zip(turnoffCLAGN[turnoffCLAGN.columns[-3]],turnoffCLAGN[turnoffCLAGN.columns[-2]]):\n",
    "    if i!='  -- ':\n",
    "        mass_string=i.split('$')[1]\n",
    "        #print(mass_string)\n",
    "        mass=float(mass_string.split('^')[0])\n",
    "        mass_upper=float(mass_string.split('^{+')[1].split('}_{-')[0])\n",
    "        mass_lower=float(mass_string.split('_{-')[1].split('}')[0])\n",
    "        print(mass,mass_upper,mass_lower,j)"
   ]
  },
  {
   "cell_type": "code",
   "execution_count": null,
   "metadata": {},
   "outputs": [],
   "source": []
  },
  {
   "cell_type": "code",
   "execution_count": null,
   "metadata": {},
   "outputs": [],
   "source": []
  }
 ],
 "metadata": {
  "kernelspec": {
   "display_name": "Python 3 (ipykernel)",
   "language": "python",
   "name": "python3"
  },
  "language_info": {
   "codemirror_mode": {
    "name": "ipython",
    "version": 3
   },
   "file_extension": ".py",
   "mimetype": "text/x-python",
   "name": "python",
   "nbconvert_exporter": "python",
   "pygments_lexer": "ipython3",
   "version": "3.9.12"
  },
  "latex_envs": {
   "LaTeX_envs_menu_present": true,
   "autoclose": false,
   "autocomplete": true,
   "bibliofile": "biblio.bib",
   "cite_by": "apalike",
   "current_citInitial": 1,
   "eqLabelWithNumbers": true,
   "eqNumInitial": 1,
   "hotkeys": {
    "equation": "Ctrl-E",
    "itemize": "Ctrl-I"
   },
   "labels_anchors": false,
   "latex_user_defs": false,
   "report_style_numbering": false,
   "user_envs_cfg": false
  },
  "toc": {
   "base_numbering": 1,
   "nav_menu": {},
   "number_sections": true,
   "sideBar": true,
   "skip_h1_title": false,
   "title_cell": "Table of Contents",
   "title_sidebar": "Contents",
   "toc_cell": true,
   "toc_position": {
    "height": "calc(100% - 180px)",
    "left": "10px",
    "top": "150px",
    "width": "343.969px"
   },
   "toc_section_display": true,
   "toc_window_display": true
  }
 },
 "nbformat": 4,
 "nbformat_minor": 2
}
