{
 "cells": [
  {
   "cell_type": "markdown",
   "metadata": {
    "toc": true
   },
   "source": [
    "<h1>Table of Contents<span class=\"tocSkip\"></span></h1>\n",
    "<div class=\"toc\"><ul class=\"toc-item\"><li><ul class=\"toc-item\"><li><span><a href=\"#timeconvert\" data-toc-modified-id=\"timeconvert-0.1\"><span class=\"toc-item-num\">0.1&nbsp;&nbsp;</span>timeconvert</a></span></li></ul></li><li><span><a href=\"#xspec\" data-toc-modified-id=\"xspec-1\"><span class=\"toc-item-num\">1&nbsp;&nbsp;</span>xspec</a></span></li><li><span><a href=\"#OX_CLAGN5_nustar\" data-toc-modified-id=\"OX_CLAGN5_nustar-2\"><span class=\"toc-item-num\">2&nbsp;&nbsp;</span>OX_CLAGN5_nustar</a></span></li><li><span><a href=\"#NED\" data-toc-modified-id=\"NED-3\"><span class=\"toc-item-num\">3&nbsp;&nbsp;</span>NED</a></span><ul class=\"toc-item\"><li><span><a href=\"#Latex\" data-toc-modified-id=\"Latex-3.1\"><span class=\"toc-item-num\">3.1&nbsp;&nbsp;</span>Latex</a></span></li></ul></li><li><span><a href=\"#mission-=-'numaster'\" data-toc-modified-id=\"mission-=-'numaster'-4\"><span class=\"toc-item-num\">4&nbsp;&nbsp;</span>mission = 'numaster'</a></span><ul class=\"toc-item\"><li><span><a href=\"#ESO-362-G18\" data-toc-modified-id=\"ESO-362-G18-4.1\"><span class=\"toc-item-num\">4.1&nbsp;&nbsp;</span>ESO 362-G18</a></span></li><li><span><a href=\"#NGC-2992\" data-toc-modified-id=\"NGC-2992-4.2\"><span class=\"toc-item-num\">4.2&nbsp;&nbsp;</span>NGC 2992</a></span></li><li><span><a href=\"#NGC-4151\" data-toc-modified-id=\"NGC-4151-4.3\"><span class=\"toc-item-num\">4.3&nbsp;&nbsp;</span>NGC 4151</a></span></li><li><span><a href=\"#NGC-4395\" data-toc-modified-id=\"NGC-4395-4.4\"><span class=\"toc-item-num\">4.4&nbsp;&nbsp;</span>NGC 4395</a></span></li><li><span><a href=\"#NGC-7582\" data-toc-modified-id=\"NGC-7582-4.5\"><span class=\"toc-item-num\">4.5&nbsp;&nbsp;</span>NGC 7582</a></span></li></ul></li><li><span><a href=\"#NGC-4507\" data-toc-modified-id=\"NGC-4507-5\"><span class=\"toc-item-num\">5&nbsp;&nbsp;</span>NGC 4507</a></span><ul class=\"toc-item\"><li><span><a href=\"#Slab\" data-toc-modified-id=\"Slab-5.1\"><span class=\"toc-item-num\">5.1&nbsp;&nbsp;</span>Slab</a></span></li><li><span><a href=\"#mytorus-coupled\" data-toc-modified-id=\"mytorus-coupled-5.2\"><span class=\"toc-item-num\">5.2&nbsp;&nbsp;</span>mytorus coupled</a></span></li><li><span><a href=\"#mytorus-coupled\" data-toc-modified-id=\"mytorus-coupled-5.3\"><span class=\"toc-item-num\">5.3&nbsp;&nbsp;</span>mytorus coupled</a></span></li><li><span><a href=\"#borus02\" data-toc-modified-id=\"borus02-5.4\"><span class=\"toc-item-num\">5.4&nbsp;&nbsp;</span>borus02</a></span></li><li><span><a href=\"#XCLUMPY\" data-toc-modified-id=\"XCLUMPY-5.5\"><span class=\"toc-item-num\">5.5&nbsp;&nbsp;</span>XCLUMPY</a></span></li><li><span><a href=\"#RXTORUS\" data-toc-modified-id=\"RXTORUS-5.6\"><span class=\"toc-item-num\">5.6&nbsp;&nbsp;</span>RXTORUS</a></span></li></ul></li><li><span><a href=\"#turn-off-AGN\" data-toc-modified-id=\"turn-off-AGN-6\"><span class=\"toc-item-num\">6&nbsp;&nbsp;</span>turn off AGN</a></span><ul class=\"toc-item\"><li><span><a href=\"#plot-M-time\" data-toc-modified-id=\"plot-M-time-6.1\"><span class=\"toc-item-num\">6.1&nbsp;&nbsp;</span>plot M time</a></span></li></ul></li></ul></div>"
   ]
  },
  {
   "cell_type": "code",
   "execution_count": 3,
   "metadata": {
    "ExecuteTime": {
     "end_time": "2022-10-18T08:31:49.570234Z",
     "start_time": "2022-10-18T08:31:48.660860Z"
    }
   },
   "outputs": [
    {
     "name": "stderr",
     "output_type": "stream",
     "text": [
      "/var/folders/jp/4mwsn7_x6j9gnv1hl1dztqth0000gn/T/ipykernel_36461/1640537932.py:1: DeprecationWarning: Please use `pearsonr` from the `scipy.stats` namespace, the `scipy.stats.stats` namespace is deprecated.\n",
      "  from scipy.stats.stats import pearsonr\n"
     ]
    }
   ],
   "source": [
    "from scipy.stats.stats import pearsonr\n",
    "from scipy.stats import spearmanr#\n",
    "from scipy import stats \n",
    "\n",
    "import matplotlib.pyplot as plt\n",
    "from pylab import cm\n",
    "import matplotlib as mpl\n",
    "\n",
    "from collections import OrderedDict\n",
    "from adjustText import adjust_text\n",
    "\n",
    "%matplotlib inline\n",
    "%config InlineBackend.figure_format='svg'\n",
    "# Edit the font, font size, and axes width\n",
    "mpl.rcParams['font.family'] = 'Avenir'\n",
    "plt.rcParams['font.size'] = 18\n",
    "plt.rcParams['axes.linewidth'] = 2\n",
    "\n",
    "\n",
    "#from adjustText import adjust_text\n",
    "\n",
    "def set_ax_tick(ax):\n",
    "    ax.xaxis.set_tick_params(which='major', size=10, width=2, direction='in', top='on',)\n",
    "    ax.xaxis.set_tick_params(which='minor', size=5, width=2, direction='in', top='on')\n",
    "    ax.yaxis.set_tick_params(which='major', size=10, width=2, direction='in', right='on')\n",
    "    ax.yaxis.set_tick_params(which='minor', size=5, width=2, direction='in', right='on')\n",
    "\n",
    "def set_ax_locator(ax,xma=1,xmi=0.2,yma=1,ymi=0.2):\n",
    "    ax.xaxis.set_major_locator(mpl.ticker.MultipleLocator(xma))\n",
    "    ax.xaxis.set_minor_locator(mpl.ticker.MultipleLocator(xmi))\n",
    "    ax.yaxis.set_major_locator(mpl.ticker.MultipleLocator(yma))\n",
    "    ax.yaxis.set_minor_locator(mpl.ticker.MultipleLocator(ymi)) \n",
    "    \n",
    "def plot_secax(ax,mi_interval=365,ma_interval=365*2):\n",
    "    secax1 = ax.secondary_xaxis('top', functions=(mjd2numsdate,datenums2mjd))\n",
    "    secax1.xaxis.set_major_formatter(mdates.DateFormatter(\"%Y-%m\"))\n",
    "    secax1.xaxis.set_major_locator(mdates.DayLocator(interval=ma_interval))\n",
    "    secax1.xaxis.set_minor_locator(mdates.DayLocator(interval=mi_interval))\n",
    "    secax1.xaxis.set_tick_params(which='major', size=10, width=2, direction='out')\n",
    "    secax1.xaxis.set_tick_params(which='minor', size=5, width=2, direction='out')\n",
    "    secax1.xaxis.set_tick_params(which='major', size=10, width=2, direction='out', rotation=30,)    "
   ]
  },
  {
   "cell_type": "code",
   "execution_count": 4,
   "metadata": {
    "ExecuteTime": {
     "end_time": "2022-10-18T08:31:49.573664Z",
     "start_time": "2022-10-18T08:31:49.571495Z"
    }
   },
   "outputs": [],
   "source": [
    "def drop_index(data):\n",
    "    data=data.reset_index(drop=True)\n",
    "    return data"
   ]
  },
  {
   "cell_type": "code",
   "execution_count": 5,
   "metadata": {
    "ExecuteTime": {
     "end_time": "2022-10-18T08:31:49.577238Z",
     "start_time": "2022-10-18T08:31:49.574636Z"
    }
   },
   "outputs": [],
   "source": [
    "import numpy\n",
    "import os\n",
    "\n",
    "def get_obsids(path):\n",
    "    dirname=os.listdir(path)\n",
    "    obsids=[]\n",
    "    for i in dirname:\n",
    "        if i.isdigit():\n",
    "            obsids.append(i)\n",
    "    obsids.sort()        \n",
    "    return obsids"
   ]
  },
  {
   "cell_type": "markdown",
   "metadata": {},
   "source": [
    "## timeconvert"
   ]
  },
  {
   "cell_type": "code",
   "execution_count": 36,
   "metadata": {
    "ExecuteTime": {
     "end_time": "2022-10-18T09:41:50.170409Z",
     "start_time": "2022-10-18T09:41:50.145768Z"
    }
   },
   "outputs": [],
   "source": [
    "from astropy.time import Time\n",
    "from astropy.io import fits\n",
    "import time\n",
    "from matplotlib.pyplot import MultipleLocator\n",
    "import matplotlib.dates as mdates\n",
    "\n",
    "def datetime2mjd(x):\n",
    "    mjd_ref=59000\n",
    "    mjd_minus_mdates_num=mdates.date2num(convert_xaxis_time(mjd_ref))-mjd_ref\n",
    "    \n",
    "    x=mdates.date2num(x)\n",
    "    y = x - mjd_minus_mdates_num   \n",
    "    return y\n",
    "\n",
    "def mjd2datetime(x):\n",
    "    mjd_ref=59000\n",
    "    mjd_minus_mdates_num=mdates.date2num(convert_xaxis_time(mjd_ref))-mjd_ref\n",
    "    y= x + mjd_minus_mdates_num\n",
    "    y= mdates.num2date(y)\n",
    "    return y\n",
    "\n",
    "\n",
    "\n",
    "def datenums2mjd(x):\n",
    "    #x=mdates.date2num(x)\n",
    "    mjd_ref=59000\n",
    "    mjd_minus_mdates_num=mdates.date2num(convert_xaxis_time(mjd_ref))-mjd_ref\n",
    "    y = x - mjd_minus_mdates_num   \n",
    "    return y\n",
    "\n",
    "def mjd2numsdate(x):\n",
    "    mjd_ref=59000\n",
    "    mjd_minus_mdates_num=mdates.date2num(convert_xaxis_time(mjd_ref))-mjd_ref\n",
    "    \n",
    "    y= x + mjd_minus_mdates_num\n",
    "    #y= mdates.num2date(y)\n",
    "    return y\n",
    "\n",
    "\n",
    "def convert_xaxis_mjd(time):\n",
    "    return Time(time).mjd   \n",
    "\n",
    "def convert_xaxis_time(mjd):\n",
    "    return Time(mjd,format='mjd').to_datetime()\n",
    "\n",
    "\n",
    "def date2yday(x):\n",
    "    \"\"\"\n",
    "    x is in matplotlib datenums, so they are floats.\n",
    "    \"\"\"\n",
    "    y = x - mdates.date2num(datetime(2018, 1, 1))\n",
    "    return y\n",
    "\n",
    "def yday2date(x):\n",
    "    \"\"\"\n",
    "    return a matplotlib datenum (x is days since start of year of 2018)\n",
    "    \"\"\"\n",
    "    y = x + mdates.date2num(datetime(2018, 1, 1))\n",
    "    return y\n",
    "\n",
    "\n",
    "def convert_partial_year(numbers):\n",
    "    datetimes=[]\n",
    "    for number in numbers:\n",
    "        year = int(number)\n",
    "        d = timedelta(days=(number - year)*(365 + is_leap(year)))\n",
    "        day_one = datetime(year,1,1)\n",
    "        date = d + day_one\n",
    "        datetimes.append(date)\n",
    "    return datetimes\n",
    "\n",
    "\n",
    "def is_leap(year):\n",
    "    if not year%4 and  year%100 or not year%400:\n",
    "        return True\n",
    "    return False\n",
    "\n",
    "\n",
    "def convert_mjd(times):\n",
    "    timesmjd=[]\n",
    "    for i in times:\n",
    "        timesmjd.append(Time(i).mjd)\n",
    "    return timesmjd  \n",
    "\n",
    "\n",
    "def convert_date(times):\n",
    "    timesdate=[]\n",
    "    for i in times:\n",
    "        timesdate.append(Time(i,format='mjd').datetime)\n",
    "    return timesdate\n",
    "\n",
    "def convert_date_single(time):\n",
    "    timedate=Time(time,format='mjd').datetime\n",
    "    return timedate"
   ]
  },
  {
   "cell_type": "markdown",
   "metadata": {},
   "source": [
    "# xspec"
   ]
  },
  {
   "cell_type": "markdown",
   "metadata": {},
   "source": [
    "The flux will be calculated for all loaded spectra. If no spectra are loaded (or none of the loaded spectra have a response), the model is evaluated over the energy range determined by its dummy response. (In XSPEC12, models are automatically assigned default dummy responses when there is no data, so the dummyrsp command need not be given.) "
   ]
  },
  {
   "cell_type": "markdown",
   "metadata": {},
   "source": [
    "Q: I want to construct a light curve in a limited energy range but the software needs the PI channel range ('pilow' and 'pihigh'): what is the conversion from PI channel to energy?\n",
    "A: The channel to energy conversion is linear: E = Channel Number * 0.04 keV + 1.6 keV (lower energy range of bin) Channel 0 corresponds to 1.60-1.64 keV, channel 1 corresponds to 1.64-1.68 keV, etc. You can also check the ebounds extension of RMF files (with the 'fv' command) to confirm the relationship between PI value and energy."
   ]
  },
  {
   "cell_type": "code",
   "execution_count": null,
   "metadata": {},
   "outputs": [],
   "source": [
    "1-35,507-2725"
   ]
  },
  {
   "cell_type": "code",
   "execution_count": 25,
   "metadata": {
    "ExecuteTime": {
     "end_time": "2022-05-20T12:24:09.319294Z",
     "start_time": "2022-05-20T12:24:09.312721Z"
    }
   },
   "outputs": [
    {
     "data": {
      "text/plain": [
       "(3.0, 21.880000000000003, 110.6)"
      ]
     },
     "execution_count": 25,
     "metadata": {},
     "output_type": "execute_result"
    }
   ],
   "source": [
    "35*0.04+1.6,507*0.04+1.6,2725*0.04+1.6"
   ]
  },
  {
   "cell_type": "code",
   "execution_count": null,
   "metadata": {},
   "outputs": [],
   "source": [
    "ignore **-3.0 60.0-**"
   ]
  },
  {
   "cell_type": "markdown",
   "metadata": {},
   "source": [
    "Gaussian and Lorentzian smoothing models\n",
    "These models by Keith Arnaud (kaa@lheamail.gsfc.nasa.gov) convolve the current model with a gaussian or a lorentzian profile. The width of the gaussian or lorentzian can vary with energy in a power-law relation whose index is the second parameter. The first parameter is the width (sigma) at 6 keV in units of keV. The gaussian smooth source code and lmodel.dat entries are available as are the lorentzian smooth source code and lmodel.dat entries. The gaussian smooth model is called g2smooth to distinguish it from the single-parameter gsmooth model included in the v11 distribution."
   ]
  },
  {
   "cell_type": "markdown",
   "metadata": {},
   "source": [
    "# OX_CLAGN5_nustar"
   ]
  },
  {
   "cell_type": "code",
   "execution_count": 145,
   "metadata": {
    "ExecuteTime": {
     "end_time": "2022-10-20T08:16:29.273740Z",
     "start_time": "2022-10-20T08:16:29.267540Z"
    }
   },
   "outputs": [],
   "source": [
    "OX_CLAGN5_nustar=[ 'ESO 362-G18', 'NGC 2992', 'NGC 4151','NGC 7582'] #'NGC 4395'"
   ]
  },
  {
   "cell_type": "code",
   "execution_count": 146,
   "metadata": {
    "ExecuteTime": {
     "end_time": "2022-10-20T08:16:30.050324Z",
     "start_time": "2022-10-20T08:16:30.042432Z"
    }
   },
   "outputs": [
    {
     "name": "stdout",
     "output_type": "stream",
     "text": [
      "ESO362_G18\n",
      "NGC2992\n",
      "NGC4151\n",
      "NGC7582\n"
     ]
    }
   ],
   "source": [
    "for i in OX_CLAGN5_nustar:\n",
    "    sourcename=i.strip().replace(' ','').replace('-','_')\n",
    "    print(sourcename)    \n",
    "    \n",
    "    \n",
    "    "
   ]
  },
  {
   "cell_type": "markdown",
   "metadata": {},
   "source": [
    "datadir_root='/home/brettlv/'"
   ]
  },
  {
   "cell_type": "code",
   "execution_count": null,
   "metadata": {},
   "outputs": [],
   "source": []
  },
  {
   "cell_type": "code",
   "execution_count": 6,
   "metadata": {
    "ExecuteTime": {
     "end_time": "2022-10-18T08:32:07.327648Z",
     "start_time": "2022-10-18T08:32:07.191171Z"
    }
   },
   "outputs": [],
   "source": [
    "import astroquery"
   ]
  },
  {
   "cell_type": "code",
   "execution_count": 7,
   "metadata": {
    "ExecuteTime": {
     "end_time": "2022-10-18T08:32:07.822459Z",
     "start_time": "2022-10-18T08:32:07.813540Z"
    }
   },
   "outputs": [
    {
     "name": "stdout",
     "output_type": "stream",
     "text": [
      "0.4.6\n"
     ]
    }
   ],
   "source": [
    "print(astroquery.__version__)"
   ]
  },
  {
   "cell_type": "code",
   "execution_count": 8,
   "metadata": {
    "ExecuteTime": {
     "end_time": "2022-10-18T08:32:09.700916Z",
     "start_time": "2022-10-18T08:32:09.304600Z"
    }
   },
   "outputs": [],
   "source": [
    "from astroquery.ipac.ned import Ned"
   ]
  },
  {
   "cell_type": "code",
   "execution_count": 9,
   "metadata": {
    "ExecuteTime": {
     "end_time": "2022-10-18T08:32:13.622745Z",
     "start_time": "2022-10-18T08:32:12.493704Z"
    }
   },
   "outputs": [
    {
     "name": "stdout",
     "output_type": "stream",
     "text": [
      "No.  Object Name       RA     ... Redshift Points Diameter Points Associations\n",
      "                    degrees   ...                                             \n",
      "--- -------------- ---------- ... --------------- --------------- ------------\n",
      "  1 ESO 362- G 018   79.89916 ...              31              23            1\n"
     ]
    }
   ],
   "source": [
    "result_table = Ned.query_object(OX_CLAGN5_nustar[0])\n",
    "print(result_table) # an astropy.table.Table"
   ]
  },
  {
   "cell_type": "code",
   "execution_count": 10,
   "metadata": {
    "ExecuteTime": {
     "end_time": "2022-10-18T08:32:17.450996Z",
     "start_time": "2022-10-18T08:32:17.436236Z"
    }
   },
   "outputs": [
    {
     "data": {
      "text/html": [
       "<div><i>Table length=1</i>\n",
       "<table id=\"table140481314511408\" class=\"table-striped table-bordered table-condensed\">\n",
       "<thead><tr><th>No.</th><th>Object Name</th><th>RA</th><th>DEC</th><th>Type</th><th>Velocity</th><th>Redshift</th><th>Redshift Flag</th><th>Magnitude and Filter</th><th>Separation</th><th>References</th><th>Notes</th><th>Photometry Points</th><th>Positions</th><th>Redshift Points</th><th>Diameter Points</th><th>Associations</th></tr></thead>\n",
       "<thead><tr><th></th><th></th><th>degrees</th><th>degrees</th><th></th><th>km / s</th><th></th><th></th><th></th><th>arcmin</th><th></th><th></th><th></th><th></th><th></th><th></th><th></th></tr></thead>\n",
       "<thead><tr><th>int32</th><th>str30</th><th>float64</th><th>float64</th><th>object</th><th>float64</th><th>float64</th><th>object</th><th>object</th><th>float64</th><th>int32</th><th>int32</th><th>int32</th><th>int32</th><th>int32</th><th>int32</th><th>int32</th></tr></thead>\n",
       "<tr><td>1</td><td>ESO 362- G 018</td><td>79.89916</td><td>-32.65758</td><td>G</td><td>3731.0</td><td>0.012445</td><td></td><td>12.5</td><td>--</td><td>223</td><td>15</td><td>190</td><td>36</td><td>31</td><td>23</td><td>1</td></tr>\n",
       "</table></div>"
      ],
      "text/plain": [
       "<Table length=1>\n",
       " No.   Object Name       RA     ... Diameter Points Associations\n",
       "                      degrees   ...                             \n",
       "int32     str30       float64   ...      int32         int32    \n",
       "----- -------------- ---------- ... --------------- ------------\n",
       "    1 ESO 362- G 018   79.89916 ...              23            1"
      ]
     },
     "execution_count": 10,
     "metadata": {},
     "output_type": "execute_result"
    }
   ],
   "source": [
    "result_table"
   ]
  },
  {
   "cell_type": "code",
   "execution_count": 20,
   "metadata": {
    "ExecuteTime": {
     "end_time": "2022-03-25T07:38:24.700163Z",
     "start_time": "2022-03-25T07:38:24.693779Z"
    }
   },
   "outputs": [
    {
     "data": {
      "text/plain": [
       "['No.',\n",
       " 'Object Name',\n",
       " 'RA',\n",
       " 'DEC',\n",
       " 'Type',\n",
       " 'Velocity',\n",
       " 'Redshift',\n",
       " 'Redshift Flag',\n",
       " 'Magnitude and Filter',\n",
       " 'Separation',\n",
       " 'References',\n",
       " 'Notes',\n",
       " 'Photometry Points',\n",
       " 'Positions',\n",
       " 'Redshift Points',\n",
       " 'Diameter Points',\n",
       " 'Associations']"
      ]
     },
     "execution_count": 20,
     "metadata": {},
     "output_type": "execute_result"
    }
   ],
   "source": [
    "result_table.colnames"
   ]
  },
  {
   "cell_type": "markdown",
   "metadata": {},
   "source": [
    "# NED"
   ]
  },
  {
   "cell_type": "code",
   "execution_count": 45,
   "metadata": {
    "ExecuteTime": {
     "end_time": "2022-10-18T09:52:55.887150Z",
     "start_time": "2022-10-18T09:52:55.859617Z"
    }
   },
   "outputs": [
    {
     "name": "stdout",
     "output_type": "stream",
     "text": [
      "ESO 362- G 018 79.89916 -32.65758 0.012445\n"
     ]
    }
   ],
   "source": [
    "result_table = Ned.query_object(OX_CLAGN5_nustar[0])\n",
    "print(result_table['Object Name'][0],result_table['RA'][0],result_table['DEC'][0],result_table['Redshift'][0]) # an astropy.table.Table"
   ]
  },
  {
   "cell_type": "code",
   "execution_count": null,
   "metadata": {},
   "outputs": [],
   "source": []
  },
  {
   "cell_type": "code",
   "execution_count": null,
   "metadata": {},
   "outputs": [],
   "source": []
  },
  {
   "cell_type": "code",
   "execution_count": 42,
   "metadata": {
    "ExecuteTime": {
     "end_time": "2022-10-18T09:52:09.897896Z",
     "start_time": "2022-10-18T09:52:09.880574Z"
    }
   },
   "outputs": [
    {
     "data": {
      "text/html": [
       "<div><i>Table length=1</i>\n",
       "<table id=\"table140480739519072\" class=\"table-striped table-bordered table-condensed\">\n",
       "<thead><tr><th>No.</th><th>Object Name</th><th>RA</th><th>DEC</th><th>Type</th><th>Velocity</th><th>Redshift</th><th>Redshift Flag</th><th>Magnitude and Filter</th><th>Separation</th><th>References</th><th>Notes</th><th>Photometry Points</th><th>Positions</th><th>Redshift Points</th><th>Diameter Points</th><th>Associations</th></tr></thead>\n",
       "<thead><tr><th></th><th></th><th>degrees</th><th>degrees</th><th></th><th>km / s</th><th></th><th></th><th></th><th>arcmin</th><th></th><th></th><th></th><th></th><th></th><th></th><th></th></tr></thead>\n",
       "<thead><tr><th>int32</th><th>str30</th><th>float64</th><th>float64</th><th>object</th><th>float64</th><th>float64</th><th>object</th><th>object</th><th>float64</th><th>int32</th><th>int32</th><th>int32</th><th>int32</th><th>int32</th><th>int32</th><th>int32</th></tr></thead>\n",
       "<tr><td>1</td><td>ESO 362- G 018</td><td>79.89916</td><td>-32.65758</td><td>G</td><td>3731.0</td><td>0.012445</td><td></td><td>12.5</td><td>--</td><td>223</td><td>15</td><td>190</td><td>36</td><td>31</td><td>23</td><td>1</td></tr>\n",
       "</table></div>"
      ],
      "text/plain": [
       "<Table length=1>\n",
       " No.   Object Name       RA     ... Diameter Points Associations\n",
       "                      degrees   ...                             \n",
       "int32     str30       float64   ...      int32         int32    \n",
       "----- -------------- ---------- ... --------------- ------------\n",
       "    1 ESO 362- G 018   79.89916 ...              23            1"
      ]
     },
     "execution_count": 42,
     "metadata": {},
     "output_type": "execute_result"
    }
   ],
   "source": [
    "result_table "
   ]
  },
  {
   "cell_type": "code",
   "execution_count": null,
   "metadata": {},
   "outputs": [],
   "source": []
  },
  {
   "cell_type": "code",
   "execution_count": 50,
   "metadata": {
    "ExecuteTime": {
     "end_time": "2022-10-18T12:57:24.054197Z",
     "start_time": "2022-10-18T12:57:24.000592Z"
    }
   },
   "outputs": [
    {
     "name": "stdout",
     "output_type": "stream",
     "text": [
      "ESO 362- G 018 &  0.012445 \\\\\n",
      "NGC 2992 &  0.00771 \\\\\n",
      "NGC 4151 &  0.003326 \\\\\n",
      "NGC 4395 &  0.001064 \\\\\n",
      "NGC 7582 &  0.005254 \\\\\n"
     ]
    }
   ],
   "source": [
    "for i in OX_CLAGN5_nustar:\n",
    "    result_table = Ned.query_object(i)\n",
    "    #print(result_table['Object Name'][0],result_table['RA'][0],result_table['DEC'][0],result_table['Redshift'][0]) # an astropy.table.Table\n",
    "    print(result_table['Object Name'][0],'& ',result_table['Redshift'][0],'\\\\\\\\') # an astropy.table.Table"
   ]
  },
  {
   "cell_type": "markdown",
   "metadata": {
    "ExecuteTime": {
     "end_time": "2022-03-25T07:42:41.548660Z",
     "start_time": "2022-03-25T07:42:41.526538Z"
    }
   },
   "source": [
    "table_mission_list = heasarc.query_mission_list()\n",
    "table_mission_list.pprint()"
   ]
  },
  {
   "cell_type": "markdown",
   "metadata": {
    "ExecuteTime": {
     "end_time": "2022-03-25T07:42:47.740763Z",
     "start_time": "2022-03-25T07:42:47.462263Z"
    }
   },
   "source": [
    "for i in table_mission_list:\n",
    "    print(i)"
   ]
  },
  {
   "cell_type": "code",
   "execution_count": 135,
   "metadata": {
    "ExecuteTime": {
     "end_time": "2022-10-20T08:10:16.082927Z",
     "start_time": "2022-10-20T08:10:16.058021Z"
    }
   },
   "outputs": [],
   "source": [
    "import pandas as pd\n",
    "\n",
    "OX_CLAGN5_info=pd.read_excel('/Users/lyubing/IHEPBox/data/data_clagn/OXCLAGN5.xlsx')\n",
    "OX_CLAGN5_info=OX_CLAGN5_info[OX_CLAGN5_info['select']==1]\n",
    "OX_CLAGN5_info=drop_index(OX_CLAGN5_info)"
   ]
  },
  {
   "cell_type": "code",
   "execution_count": 136,
   "metadata": {
    "ExecuteTime": {
     "end_time": "2022-10-20T08:10:16.415489Z",
     "start_time": "2022-10-20T08:10:16.395978Z"
    }
   },
   "outputs": [
    {
     "data": {
      "text/html": [
       "<div>\n",
       "<style scoped>\n",
       "    .dataframe tbody tr th:only-of-type {\n",
       "        vertical-align: middle;\n",
       "    }\n",
       "\n",
       "    .dataframe tbody tr th {\n",
       "        vertical-align: top;\n",
       "    }\n",
       "\n",
       "    .dataframe thead th {\n",
       "        text-align: right;\n",
       "    }\n",
       "</style>\n",
       "<table border=\"1\" class=\"dataframe\">\n",
       "  <thead>\n",
       "    <tr style=\"text-align: right;\">\n",
       "      <th></th>\n",
       "      <th>Name</th>\n",
       "      <th>ref0</th>\n",
       "      <th>redshift</th>\n",
       "      <th>Nhgal</th>\n",
       "      <th>ref3</th>\n",
       "      <th>logMbh</th>\n",
       "      <th>ref1</th>\n",
       "      <th>inclination_angle</th>\n",
       "      <th>ref2</th>\n",
       "      <th>select</th>\n",
       "      <th>Nhswift</th>\n",
       "    </tr>\n",
       "  </thead>\n",
       "  <tbody>\n",
       "    <tr>\n",
       "      <th>0</th>\n",
       "      <td>ESO 362-G18</td>\n",
       "      <td>2014MNRAS.443.2862A,2018Galax...6...52A</td>\n",
       "      <td>0.012445</td>\n",
       "      <td>1.75</td>\n",
       "      <td>NaN</td>\n",
       "      <td>7.65</td>\n",
       "      <td>2014MNRAS.443.2862A</td>\n",
       "      <td>53.0</td>\n",
       "      <td>2014MNRAS.443.2862A</td>\n",
       "      <td>1</td>\n",
       "      <td>1.84</td>\n",
       "    </tr>\n",
       "    <tr>\n",
       "      <th>1</th>\n",
       "      <td>NGC 2992</td>\n",
       "      <td>2003MNRAS.342..422M,2021MNRAS.508..144G</td>\n",
       "      <td>0.007710</td>\n",
       "      <td>5.50</td>\n",
       "      <td>NaN</td>\n",
       "      <td>7.48</td>\n",
       "      <td>2020MNRAS.496.3412M</td>\n",
       "      <td>70.0</td>\n",
       "      <td>2021MNRAS.508..144G</td>\n",
       "      <td>1</td>\n",
       "      <td>5.89</td>\n",
       "    </tr>\n",
       "    <tr>\n",
       "      <th>2</th>\n",
       "      <td>NGC 4151</td>\n",
       "      <td>2007MNRAS.377..607P,2019sf2a.conf..509M</td>\n",
       "      <td>0.003326</td>\n",
       "      <td>2.30</td>\n",
       "      <td>NaN</td>\n",
       "      <td>7.56</td>\n",
       "      <td>2013ApJ...773...90G</td>\n",
       "      <td>58.0</td>\n",
       "      <td>2022ApJ...934..168B</td>\n",
       "      <td>1</td>\n",
       "      <td>2.50</td>\n",
       "    </tr>\n",
       "    <tr>\n",
       "      <th>3</th>\n",
       "      <td>NGC 7582</td>\n",
       "      <td>2009ApJ...695..781B,2019sf2a.conf..509M</td>\n",
       "      <td>0.005254</td>\n",
       "      <td>1.33</td>\n",
       "      <td>NaN</td>\n",
       "      <td>7.74</td>\n",
       "      <td>2018MNRAS.473.5334R</td>\n",
       "      <td>68.0</td>\n",
       "      <td>Paturel2003</td>\n",
       "      <td>1</td>\n",
       "      <td>1.39</td>\n",
       "    </tr>\n",
       "  </tbody>\n",
       "</table>\n",
       "</div>"
      ],
      "text/plain": [
       "           Name                                     ref0  redshift  Nhgal  \\\n",
       "0  ESO 362-G18   2014MNRAS.443.2862A,2018Galax...6...52A  0.012445   1.75   \n",
       "1     NGC 2992   2003MNRAS.342..422M,2021MNRAS.508..144G  0.007710   5.50   \n",
       "2     NGC 4151   2007MNRAS.377..607P,2019sf2a.conf..509M  0.003326   2.30   \n",
       "3     NGC 7582   2009ApJ...695..781B,2019sf2a.conf..509M  0.005254   1.33   \n",
       "\n",
       "   ref3  logMbh                 ref1  inclination_angle                 ref2  \\\n",
       "0   NaN    7.65  2014MNRAS.443.2862A               53.0  2014MNRAS.443.2862A   \n",
       "1   NaN    7.48  2020MNRAS.496.3412M               70.0  2021MNRAS.508..144G   \n",
       "2   NaN    7.56  2013ApJ...773...90G               58.0  2022ApJ...934..168B   \n",
       "3   NaN    7.74  2018MNRAS.473.5334R               68.0          Paturel2003   \n",
       "\n",
       "   select  Nhswift  \n",
       "0       1     1.84  \n",
       "1       1     5.89  \n",
       "2       1     2.50  \n",
       "3       1     1.39  "
      ]
     },
     "execution_count": 136,
     "metadata": {},
     "output_type": "execute_result"
    }
   ],
   "source": [
    "OX_CLAGN5_info"
   ]
  },
  {
   "cell_type": "code",
   "execution_count": 137,
   "metadata": {
    "ExecuteTime": {
     "end_time": "2022-10-20T08:10:16.770316Z",
     "start_time": "2022-10-20T08:10:16.757004Z"
    }
   },
   "outputs": [],
   "source": [
    "CLAGNref_allmass_bibcodes=[]\n",
    "\n",
    "for i in OX_CLAGN5_info['ref0']:\n",
    "    if i.find(',')>0:\n",
    "        isplit=i.split(',')\n",
    "        for j in isplit:\n",
    "            if j not in CLAGNref_allmass_bibcodes:\n",
    "                CLAGNref_allmass_bibcodes.append(j)\n",
    "    else:\n",
    "        if i not in CLAGNref_allmass_bibcodes:\n",
    "            CLAGNref_allmass_bibcodes.append(i)\n",
    "                   \n",
    "for i in OX_CLAGN5_info['ref1']:\n",
    "    if i.find(',')>0:\n",
    "        isplit=i.split(',')\n",
    "        for j in isplit:\n",
    "            if j not in CLAGNref_allmass_bibcodes:\n",
    "                CLAGNref_allmass_bibcodes.append(j)\n",
    "    else:\n",
    "        if i not in CLAGNref_allmass_bibcodes:\n",
    "            CLAGNref_allmass_bibcodes.append(i)\n",
    "            \n",
    "for i in OX_CLAGN5_info['ref2']:\n",
    "    if i.find(',')>0:\n",
    "        isplit=i.split(',')\n",
    "        for j in isplit:\n",
    "            if j not in CLAGNref_allmass_bibcodes:\n",
    "                CLAGNref_allmass_bibcodes.append(j)\n",
    "    else:\n",
    "        if i not in CLAGNref_allmass_bibcodes:\n",
    "            CLAGNref_allmass_bibcodes.append(i)\n",
    "        "
   ]
  },
  {
   "cell_type": "code",
   "execution_count": 138,
   "metadata": {
    "ExecuteTime": {
     "end_time": "2022-10-20T08:10:17.523112Z",
     "start_time": "2022-10-20T08:10:17.516322Z"
    }
   },
   "outputs": [
    {
     "data": {
      "text/plain": [
       "['2014MNRAS.443.2862A',\n",
       " '2018Galax...6...52A',\n",
       " '2003MNRAS.342..422M',\n",
       " '2021MNRAS.508..144G',\n",
       " '2007MNRAS.377..607P',\n",
       " '2019sf2a.conf..509M',\n",
       " '2009ApJ...695..781B',\n",
       " '2020MNRAS.496.3412M',\n",
       " '2013ApJ...773...90G',\n",
       " '2018MNRAS.473.5334R',\n",
       " '2022ApJ...934..168B',\n",
       " 'Paturel2003']"
      ]
     },
     "execution_count": 138,
     "metadata": {},
     "output_type": "execute_result"
    }
   ],
   "source": [
    "CLAGNref_allmass_bibcodes"
   ]
  },
  {
   "cell_type": "code",
   "execution_count": 139,
   "metadata": {
    "ExecuteTime": {
     "end_time": "2022-10-20T08:10:18.164286Z",
     "start_time": "2022-10-20T08:10:18.155475Z"
    }
   },
   "outputs": [
    {
     "data": {
      "text/plain": [
       "12"
      ]
     },
     "execution_count": 139,
     "metadata": {},
     "output_type": "execute_result"
    }
   ],
   "source": [
    "len(CLAGNref_allmass_bibcodes)"
   ]
  },
  {
   "cell_type": "code",
   "execution_count": 140,
   "metadata": {
    "ExecuteTime": {
     "end_time": "2022-10-20T08:10:18.703600Z",
     "start_time": "2022-10-20T08:10:18.696374Z"
    }
   },
   "outputs": [],
   "source": [
    "import numpy as np\n",
    "dict_bibcode_index = dict(zip(CLAGNref_allmass_bibcodes,np.arange(len(CLAGNref_allmass_bibcodes))+1))"
   ]
  },
  {
   "cell_type": "markdown",
   "metadata": {},
   "source": [
    "## Latex"
   ]
  },
  {
   "cell_type": "code",
   "execution_count": 141,
   "metadata": {
    "ExecuteTime": {
     "end_time": "2022-10-20T08:10:19.100732Z",
     "start_time": "2022-10-20T08:10:19.084194Z"
    }
   },
   "outputs": [
    {
     "name": "stdout",
     "output_type": "stream",
     "text": [
      "ESO 362-G18  &  (1,2) &  0.0124 &  1.8 &  7.65 &  (1) &  53 &  (1) \\\\\n",
      "NGC 2992  &  (3,4) &  0.0077 &  5.5 &  7.48 &  (8) &  70 &  (4) \\\\\n",
      "NGC 4151  &  (5,6) &  0.0033 &  2.3 &  7.56 &  (9) &  58 &  (11) \\\\\n",
      "NGC 7582  &  (7,6) &  0.0053 &  1.3 &  7.74 &  (10) &  68 &  (12) \\\\\n"
     ]
    }
   ],
   "source": [
    "for i in range(len(OX_CLAGN5_info)):\n",
    "    ref=''\n",
    "    ref0=OX_CLAGN5_info.loc[i,'ref0']\n",
    "    \n",
    "    if ref0.find(',')>0:\n",
    "        isplit=ref0.split(',')       \n",
    "        for j in isplit:\n",
    "            ref=ref+'%d'%dict_bibcode_index[j]+','\n",
    "    \n",
    "    else:\n",
    "        ref=ref+'%d'%dict_bibcode_index[ref0]+','\n",
    "        \n",
    "    ref=ref[:-1]  \n",
    "    \n",
    "    print(OX_CLAGN5_info.loc[i,'Name'],'& ',\n",
    "          '(%s)'%ref,'& ',              \n",
    "          '%.4f'%OX_CLAGN5_info.loc[i,'redshift'],'& ',\n",
    "          '%.1f'%OX_CLAGN5_info.loc[i,'Nhgal'],'& ',\n",
    "           \n",
    "          OX_CLAGN5_info.loc[i,'logMbh'],'& ',          \n",
    "          '(%d'%dict_bibcode_index[OX_CLAGN5_info.loc[i,'ref1']]+')','& ',\n",
    "          \n",
    "          '%d'%OX_CLAGN5_info.loc[i,'inclination_angle'],'& ',\n",
    "          '(%d'%dict_bibcode_index[OX_CLAGN5_info.loc[i,'ref2']]+')',          \n",
    "          '\\\\\\\\') # an astropy.table.Table"
   ]
  },
  {
   "cell_type": "code",
   "execution_count": 142,
   "metadata": {
    "ExecuteTime": {
     "end_time": "2022-10-20T08:10:36.330280Z",
     "start_time": "2022-10-20T08:10:36.321370Z"
    }
   },
   "outputs": [
    {
     "name": "stdout",
     "output_type": "stream",
     "text": [
      "(1)~\\citet{2014MNRAS.443.2862A} (2)~\\citet{2018Galax...6...52A} (3)~\\citet{2003MNRAS.342..422M} (4)~\\citet{2021MNRAS.508..144G} (5)~\\citet{2007MNRAS.377..607P} (6)~\\citet{2019sf2a.conf..509M} (7)~\\citet{2009ApJ...695..781B} (8)~\\citet{2020MNRAS.496.3412M} (9)~\\citet{2013ApJ...773...90G} (10)~\\citet{2018MNRAS.473.5334R} (11)~\\citet{2022ApJ...934..168B} (12)~\\citet{Paturel2003} "
     ]
    }
   ],
   "source": [
    "for index,bib in enumerate(CLAGNref_allmass_bibcodes):\n",
    "    print('(%d)'%(index+1)+'~'+'\\\\citet{%s}'%bib,end=' ')"
   ]
  },
  {
   "cell_type": "code",
   "execution_count": null,
   "metadata": {},
   "outputs": [],
   "source": [
    "dict_bibcode_index"
   ]
  },
  {
   "cell_type": "code",
   "execution_count": null,
   "metadata": {},
   "outputs": [],
   "source": []
  },
  {
   "cell_type": "code",
   "execution_count": null,
   "metadata": {},
   "outputs": [],
   "source": []
  },
  {
   "cell_type": "code",
   "execution_count": 75,
   "metadata": {
    "ExecuteTime": {
     "end_time": "2022-10-18T14:33:23.010328Z",
     "start_time": "2022-10-18T14:33:22.996056Z"
    }
   },
   "outputs": [
    {
     "name": "stdout",
     "output_type": "stream",
     "text": [
      "ESO 362-G18  &  \\citep{2018Galax...6...52A} &  0.0124 &  7.65 &  \\citep{2014MNRAS.443.2862A} &  53 &  \\citep{2014MNRAS.443.2862A} \\\\\n",
      "NGC 2992  &  \\citep{2003MNRAS.342..422M,2021MNRAS.508..144G} &  0.0077 &  7.48 &  \\citep{2020MNRAS.496.3412M} &  70 &  \\citep{2021MNRAS.508..144G} \\\\\n",
      "NGC 4151  &  \\citep{2007MNRAS.377..607P,2019sf2a.conf..509M} &  0.0033 &  7.56 &  \\citep{2013ApJ...773...90G} &  43 &  \\citep{2022arXiv220906061K} \\\\\n",
      "NGC 7582  &  \\citep{2019sf2a.conf..509M,2009ApJ...695..781B} &  0.0053 &  7.74 &  \\citep{2018MNRAS.473.5334R} &  68 &  \\citep{2003A&A...412...45P} \\\\\n"
     ]
    }
   ],
   "source": [
    "for i in range(len(OX_CLAGN5_info)):\n",
    "    print(OX_CLAGN5_info.loc[i,'Name'],'& ',\n",
    "          '\\citep{'+OX_CLAGN5_info.loc[i,'ref0']+'}','& ',\n",
    "          '%.4f'%OX_CLAGN5_info.loc[i,'redshift'],'& ',\n",
    "          OX_CLAGN5_info.loc[i,'logMbh'],'& ',\n",
    "          '\\citep{'+OX_CLAGN5_info.loc[i,'ref1']+'}','& ',\n",
    "          '%d'%OX_CLAGN5_info.loc[i,'inclination_angle'],'& ',\n",
    "          '\\citep{'+OX_CLAGN5_info.loc[i,'ref2']+'}',          \n",
    "          '\\\\\\\\') # an astropy.table.Table"
   ]
  },
  {
   "cell_type": "code",
   "execution_count": null,
   "metadata": {},
   "outputs": [],
   "source": []
  },
  {
   "cell_type": "code",
   "execution_count": null,
   "metadata": {},
   "outputs": [],
   "source": []
  },
  {
   "cell_type": "code",
   "execution_count": null,
   "metadata": {},
   "outputs": [],
   "source": []
  },
  {
   "cell_type": "markdown",
   "metadata": {},
   "source": [
    "# mission = 'numaster'"
   ]
  },
  {
   "cell_type": "code",
   "execution_count": 12,
   "metadata": {
    "ExecuteTime": {
     "end_time": "2022-10-18T08:40:02.057660Z",
     "start_time": "2022-10-18T08:40:02.018315Z"
    }
   },
   "outputs": [],
   "source": [
    "from astroquery.heasarc import Heasarc\n",
    "heasarc = Heasarc()\n",
    "mission = 'numaster'"
   ]
  },
  {
   "cell_type": "code",
   "execution_count": 39,
   "metadata": {
    "ExecuteTime": {
     "end_time": "2022-10-18T09:43:36.792839Z",
     "start_time": "2022-10-18T09:43:36.780310Z"
    }
   },
   "outputs": [
    {
     "data": {
      "text/plain": [
       "(2016, 9, 24)"
      ]
     },
     "execution_count": 39,
     "metadata": {},
     "output_type": "execute_result"
    }
   ],
   "source": [
    "convert_date_single(57655.8).year,convert_date_single(57655.8).month,convert_date_single(57655.8).day"
   ]
  },
  {
   "cell_type": "code",
   "execution_count": 147,
   "metadata": {
    "ExecuteTime": {
     "end_time": "2022-10-20T08:16:35.936573Z",
     "start_time": "2022-10-20T08:16:35.830799Z"
    }
   },
   "outputs": [
    {
     "name": "stdout",
     "output_type": "stream",
     "text": [
      "ESO 362-G18 & 60201046002 & 57655.8 & 2016-9-24 & 101.91 \\\\\n",
      "ESO 362-G18 & 60201046001 & 0.28\n",
      "NGC 2992 & 90501623002 & 58613.0 & 2019-5-10 & 57.49 \\\\\n",
      "NGC 2992 & 60160371002 & 57358.6 & 2015-12-2 & 20.80 \\\\\n",
      "NGC 4151 & 60001111005 & 56245.3 & 2012-11-14 & 61.53 \\\\\n",
      "NGC 4151 & 60001111003 & 56243.8 & 2012-11-12 & 57.03 \\\\\n",
      "NGC 4151 & 60502017004 & 58799.4 & 2019-11-12 & 43.74 \\\\\n",
      "NGC 4151 & 60502017006 & 58841.5 & 2019-12-24 & 32.40 \\\\\n",
      "NGC 4151 & 60502017002 & 58688.3 & 2019-7-24 & 31.74 \\\\\n",
      "NGC 4151 & 60502017008 & 58858.3 & 2020-1-10 & 30.59 \\\\\n",
      "NGC 4151 & 60502017010 & 58867.5 & 2020-1-19 & 29.72 \\\\\n",
      "NGC 4151 & 60502017012 & 58871.3 & 2020-1-23 & 28.86 \\\\\n",
      "NGC 4151 & 60001111002 & 56243.3 & 2012-11-12 & 21.86 \\\\\n",
      "NGC 4151 & 60001111004 & 0.21\n",
      "NGC 4151 & 60001111001 & 0.02\n",
      "NGC 7582 & 60201003002 & 57506.2 & 2016-4-28 & 48.49 \\\\\n",
      "NGC 7582 & 60061318002 & 56170.7 & 2012-8-31 & 16.46 \\\\\n",
      "NGC 7582 & 60061318004 & 56184.7 & 2012-9-14 & 14.56 \\\\\n"
     ]
    },
    {
     "name": "stderr",
     "output_type": "stream",
     "text": [
      "WARNING: UnitsWarning: 'mjd' did not parse as fits unit: At col 0, Unit 'mjd' not supported by the FITS standard. Did you mean MJ or mJ? If this is meant to be a custom unit, define it with 'u.def_unit'. To have it recognized inside a file reader or other code, enable it with 'u.add_enabled_units'. For details, see https://docs.astropy.org/en/latest/units/combining_and_defining.html [astropy.units.core]\n",
      "WARNING: UnitsWarning: 'mjd' did not parse as fits unit: At col 0, Unit 'mjd' not supported by the FITS standard. Did you mean MJ or mJ? If this is meant to be a custom unit, define it with 'u.def_unit'. To have it recognized inside a file reader or other code, enable it with 'u.add_enabled_units'. For details, see https://docs.astropy.org/en/latest/units/combining_and_defining.html [astropy.units.core]\n",
      "WARNING: UnitsWarning: 'mjd' did not parse as fits unit: At col 0, Unit 'mjd' not supported by the FITS standard. Did you mean MJ or mJ? If this is meant to be a custom unit, define it with 'u.def_unit'. To have it recognized inside a file reader or other code, enable it with 'u.add_enabled_units'. For details, see https://docs.astropy.org/en/latest/units/combining_and_defining.html [astropy.units.core]\n",
      "WARNING: UnitsWarning: 'mjd' did not parse as fits unit: At col 0, Unit 'mjd' not supported by the FITS standard. Did you mean MJ or mJ? If this is meant to be a custom unit, define it with 'u.def_unit'. To have it recognized inside a file reader or other code, enable it with 'u.add_enabled_units'. For details, see https://docs.astropy.org/en/latest/units/combining_and_defining.html [astropy.units.core]\n"
     ]
    }
   ],
   "source": [
    "for object_name in OX_CLAGN5_nustar:\n",
    "    #object_name = OX_CLAGN5_nustar[0]\n",
    "    #print(object_name)\n",
    "    table = heasarc.query_object(object_name, mission=mission,radius='10 arcmin')\n",
    "    #table[:3].pprint()\n",
    "    for index,name in enumerate(table['NAME']):    \n",
    "        if float(table['EXPOSURE_A'][index]/1000)>1:\n",
    "            mjd=float(table['TIME'][index])\n",
    "            year,month,day=convert_date_single(mjd).year,convert_date_single(mjd).month,convert_date_single(mjd).day\n",
    "            print(object_name,'&',\n",
    "                  '%s'%table['OBSID'][index],'&',\n",
    "                  '%.1f'%mjd,'&',      \n",
    "                   '%d-%d-%d'%(year,month,day),'&',    \n",
    "                  '%.2f'%float(table['EXPOSURE_A'][index]/1000),  '\\\\\\\\',\n",
    "                 )\n",
    "        else:\n",
    "            \n",
    "            print(object_name,'&',\n",
    "                  '%s'%table['OBSID'][index],'&','%.2f'%float(table['EXPOSURE_A'][index]/1000))"
   ]
  },
  {
   "cell_type": "code",
   "execution_count": null,
   "metadata": {},
   "outputs": [],
   "source": [
    "ESO 362-G18 & 60201046002 & 57655.8 & 2016-9-24 & 101.91 \\\\\n",
    "NGC 2992 & 90501623002 & 58613.0 & 2019-5-10 & 57.49 \\\\\n",
    "NGC 2992 & 60160371002 & 57358.6 & 2015-12-2 & 20.80 \\\\\n",
    "NGC 4151 & 60001111005 & 56245.3 & 2012-11-14 & 61.53 \\\\\n",
    "NGC 4151 & 60001111003 & 56243.8 & 2012-11-12 & 57.03 \\\\\n",
    "NGC 4151 & 60502017004 & 58799.4 & 2019-11-12 & 43.74 \\\\\n",
    "NGC 4151 & 60502017006 & 58841.5 & 2019-12-24 & 32.40 \\\\\n",
    "NGC 4151 & 60502017002 & 58688.3 & 2019-7-24 & 31.74 \\\\\n",
    "NGC 4151 & 60502017008 & 58858.3 & 2020-1-10 & 30.59 \\\\\n",
    "NGC 4151 & 60502017010 & 58867.5 & 2020-1-19 & 29.72 \\\\\n",
    "NGC 4151 & 60502017012 & 58871.3 & 2020-1-23 & 28.86 \\\\\n",
    "NGC 4151 & 60001111002 & 56243.3 & 2012-11-12 & 21.86 \\\\\n",
    "NGC 4395 & 60061322002 & 56422.1 & 2013-5-10 & 19.25 \\\\\n",
    "NGC 7582 & 60201003002 & 57506.2 & 2016-4-28 & 48.49 \\\\\n",
    "NGC 7582 & 60061318002 & 56170.7 & 2012-8-31 & 16.46 \\\\\n",
    "NGC 7582 & 60061318004 & 56184.7 & 2012-9-14 & 14.56 \\\\"
   ]
  },
  {
   "cell_type": "code",
   "execution_count": null,
   "metadata": {},
   "outputs": [],
   "source": []
  },
  {
   "cell_type": "markdown",
   "metadata": {},
   "source": [
    "## ESO 362-G18"
   ]
  },
  {
   "cell_type": "code",
   "execution_count": 13,
   "metadata": {
    "ExecuteTime": {
     "end_time": "2022-10-18T08:40:08.743489Z",
     "start_time": "2022-10-18T08:40:03.159434Z"
    }
   },
   "outputs": [
    {
     "name": "stdout",
     "output_type": "stream",
     "text": [
      "ESO 362-G18\n"
     ]
    },
    {
     "name": "stderr",
     "output_type": "stream",
     "text": [
      "WARNING: UnitsWarning: 'mjd' did not parse as fits unit: At col 0, Unit 'mjd' not supported by the FITS standard. Did you mean MJ or mJ? If this is meant to be a custom unit, define it with 'u.def_unit'. To have it recognized inside a file reader or other code, enable it with 'u.add_enabled_units'. For details, see https://docs.astropy.org/en/latest/units/combining_and_defining.html [astropy.units.core]\n"
     ]
    }
   ],
   "source": [
    "object_name = OX_CLAGN5_nustar[0]\n",
    "print(object_name)\n",
    "table = heasarc.query_object(object_name, mission=mission,radius='10 arcmin')\n",
    "#table[:3].pprint()"
   ]
  },
  {
   "cell_type": "code",
   "execution_count": 14,
   "metadata": {
    "ExecuteTime": {
     "end_time": "2022-10-18T08:40:08.749965Z",
     "start_time": "2022-10-18T08:40:08.745223Z"
    }
   },
   "outputs": [
    {
     "data": {
      "text/html": [
       "<div><i>Table length=2</i>\n",
       "<table id=\"table140480739449728\" class=\"table-striped table-bordered table-condensed\">\n",
       "<thead><tr><th>NAME</th><th>RA</th><th>DEC</th><th>TIME</th><th>OBSID</th><th>STATUS</th><th>EXPOSURE_A</th><th>OBSERVATION_MODE</th><th>OBS_TYPE</th><th>PROCESSING_DATE</th><th>PUBLIC_DATE</th><th>ISSUE_FLAG</th><th>SEARCH_OFFSET_</th></tr></thead>\n",
       "<thead><tr><th></th><th>deg</th><th>deg</th><th>mjd</th><th></th><th></th><th>s</th><th></th><th></th><th>mjd</th><th>mjd</th><th></th><th></th></tr></thead>\n",
       "<thead><tr><th>bytes50</th><th>float64</th><th>float64</th><th>float64</th><th>bytes11</th><th>bytes10</th><th>float64</th><th>bytes24</th><th>bytes10</th><th>float64</th><th>int32</th><th>int16</th><th>bytes20</th></tr></thead>\n",
       "<tr><td>ESO_362mG18</td><td>79.9227</td><td>-32.6407</td><td>57655.8237</td><td>60201046002</td><td>archived</td><td>101905</td><td>SCIENCE</td><td>N02</td><td>59113.0962</td><td>58030</td><td>1</td><td>1.567 (ESO 362-G18)\\n</td></tr>\n",
       "<tr><td>ESO_362mG18</td><td>79.9201</td><td>-32.6621</td><td>57655.7959</td><td>60201046001</td><td>archived</td><td>279</td><td>SCIENCE</td><td>N02</td><td>59113.1175</td><td>58030</td><td>0</td><td>1.087 (ESO 362-G18)\\n</td></tr>\n",
       "</table></div>"
      ],
      "text/plain": [
       "<Table length=2>\n",
       "                       NAME                        ...     SEARCH_OFFSET_   \n",
       "                                                   ...                      \n",
       "                     bytes50                       ...        bytes20       \n",
       "-------------------------------------------------- ... ---------------------\n",
       "ESO_362mG18                                        ... 1.567 (ESO 362-G18)\\n\n",
       "ESO_362mG18                                        ... 1.087 (ESO 362-G18)\\n"
      ]
     },
     "execution_count": 14,
     "metadata": {},
     "output_type": "execute_result"
    }
   ],
   "source": [
    "table"
   ]
  },
  {
   "cell_type": "code",
   "execution_count": 43,
   "metadata": {
    "ExecuteTime": {
     "end_time": "2022-03-25T07:54:21.912086Z",
     "start_time": "2022-03-25T07:54:21.781557Z"
    }
   },
   "outputs": [
    {
     "name": "stdout",
     "output_type": "stream",
     "text": [
      "    NAME       RA     DEC    ... PUBLIC_DATE ISSUE_FLAG    SEARCH_OFFSET_   \n",
      "             DEGREE  DEGREE  ...     MJD                                    \n",
      "----------- ------- -------- ... ----------- ---------- --------------------\n",
      "ESO_362MG18 79.9227 -32.6407 ...       58030          1 1.567 (ESO 362-G18)\n",
      "\n",
      "ESO_362MG18 79.9201 -32.6621 ...       58030          0 1.087 (ESO 362-G18)\n",
      "\n"
     ]
    }
   ],
   "source": [
    "table[:3].pprint()"
   ]
  },
  {
   "cell_type": "code",
   "execution_count": 24,
   "metadata": {
    "ExecuteTime": {
     "end_time": "2022-10-18T09:34:59.528253Z",
     "start_time": "2022-10-18T09:34:59.519672Z"
    }
   },
   "outputs": [
    {
     "name": "stdout",
     "output_type": "stream",
     "text": [
      "ESO 362-G18 & 60201046002 57655.8237058333 101905.0\n",
      "ESO 362-G18 & 60201046001 57655.7959280556 279.0\n"
     ]
    }
   ],
   "source": [
    "for index,name in enumerate(table['NAME']):\n",
    "    \n",
    "    print(object_name,'&',table['OBSID'][index],table['TIME'][index],table['EXPOSURE_A'][index])"
   ]
  },
  {
   "cell_type": "code",
   "execution_count": 29,
   "metadata": {
    "ExecuteTime": {
     "end_time": "2022-10-18T09:36:29.091862Z",
     "start_time": "2022-10-18T09:36:29.080836Z"
    }
   },
   "outputs": [
    {
     "name": "stdout",
     "output_type": "stream",
     "text": [
      "ESO 362-G18 & 60201046002 & 57655.8 & 101.91 \\\\\n",
      "ESO 362-G18 & 60201046001 & 57655.8 & 0.28 \\\\\n"
     ]
    }
   ],
   "source": []
  },
  {
   "cell_type": "code",
   "execution_count": null,
   "metadata": {},
   "outputs": [],
   "source": []
  },
  {
   "cell_type": "code",
   "execution_count": null,
   "metadata": {},
   "outputs": [],
   "source": [
    "for i in range(len(table)):\n",
    "    \n",
    "    "
   ]
  },
  {
   "cell_type": "code",
   "execution_count": null,
   "metadata": {},
   "outputs": [],
   "source": []
  },
  {
   "cell_type": "code",
   "execution_count": null,
   "metadata": {},
   "outputs": [],
   "source": []
  },
  {
   "cell_type": "markdown",
   "metadata": {},
   "source": [
    "## NGC 2992"
   ]
  },
  {
   "cell_type": "code",
   "execution_count": 8,
   "metadata": {
    "ExecuteTime": {
     "end_time": "2022-05-18T15:16:12.217196Z",
     "start_time": "2022-05-18T15:16:12.061848Z"
    }
   },
   "outputs": [
    {
     "name": "stdout",
     "output_type": "stream",
     "text": [
      "NGC 2992\n"
     ]
    },
    {
     "data": {
      "text/html": [
       "<div><i>Table length=2</i>\n",
       "<table id=\"table140038057174632\" class=\"table-striped table-bordered table-condensed\">\n",
       "<thead><tr><th>NAME</th><th>RA</th><th>DEC</th><th>TIME</th><th>OBSID</th><th>STATUS</th><th>EXPOSURE_A</th><th>OBSERVATION_MODE</th><th>OBS_TYPE</th><th>PROCESSING_DATE</th><th>PUBLIC_DATE</th><th>ISSUE_FLAG</th><th>SEARCH_OFFSET_</th></tr></thead>\n",
       "<thead><tr><th></th><th>DEGREE</th><th>DEGREE</th><th>MJD</th><th></th><th></th><th>S</th><th></th><th></th><th>MJD</th><th>MJD</th><th></th><th></th></tr></thead>\n",
       "<thead><tr><th>bytes7</th><th>float64</th><th>float64</th><th>float64</th><th>bytes11</th><th>bytes8</th><th>float64</th><th>bytes16</th><th>bytes8</th><th>float64</th><th>int64</th><th>int64</th><th>bytes17</th></tr></thead>\n",
       "<tr><td>NGC2992</td><td>146.3982</td><td>-14.3506</td><td>58613.0355</td><td>90501623002</td><td>ARCHIVED</td><td>57490</td><td>SCIENCE</td><td>TOO</td><td>59055.5715</td><td>58620</td><td>1</td><td>2.139 (NGC 2992)</td></tr>\n",
       "<tr><td>NGC2992</td><td>146.4523</td><td>-14.3172</td><td>57358.5737</td><td>60160371002</td><td>ARCHIVED</td><td>20798</td><td>SCIENCE</td><td>EGS</td><td>59126.3974</td><td>57365</td><td>0</td><td>1.669 (NGC 2992)</td></tr>\n",
       "</table></div>"
      ],
      "text/plain": [
       "<Table length=2>\n",
       "  NAME     RA      DEC    ... PUBLIC_DATE ISSUE_FLAG   SEARCH_OFFSET_ \n",
       "         DEGREE   DEGREE  ...     MJD                                 \n",
       " bytes7 float64  float64  ...    int64      int64         bytes17     \n",
       "------- -------- -------- ... ----------- ---------- -----------------\n",
       "NGC2992 146.3982 -14.3506 ...       58620          1 2.139 (NGC 2992)\n",
       "\n",
       "NGC2992 146.4523 -14.3172 ...       57365          0 1.669 (NGC 2992)"
      ]
     },
     "execution_count": 8,
     "metadata": {},
     "output_type": "execute_result"
    }
   ],
   "source": [
    "from astroquery.heasarc import Heasarc\n",
    "heasarc = Heasarc()\n",
    "mission = 'numaster'\n",
    "\n",
    "object_name = OX_CLAGN5_nustar[1]\n",
    "print(object_name)\n",
    "table = heasarc.query_object(object_name, mission=mission,radius='10 arcmin')\n",
    "#table[:3].pprint()\n",
    "table"
   ]
  },
  {
   "cell_type": "code",
   "execution_count": 10,
   "metadata": {
    "ExecuteTime": {
     "end_time": "2022-05-18T15:18:52.507770Z",
     "start_time": "2022-05-18T15:18:46.736210Z"
    }
   },
   "outputs": [
    {
     "name": "stdout",
     "output_type": "stream",
     "text": [
      "NGC 2992\n"
     ]
    },
    {
     "data": {
      "text/html": [
       "<div><i>Table length=4</i>\n",
       "<table id=\"table140037935900264\" class=\"table-striped table-bordered table-condensed\">\n",
       "<thead><tr><th>OBSID</th><th>STATUS</th><th>NAME</th><th>RA</th><th>DEC</th><th>TIME</th><th>DETECTOR</th><th>GRATING</th><th>EXPOSURE</th><th>TYPE</th><th>PI</th><th>PUBLIC_DATE</th><th>SEARCH_OFFSET_</th></tr></thead>\n",
       "<thead><tr><th></th><th></th><th></th><th>DEGREE</th><th>DEGREE</th><th>MJD</th><th></th><th></th><th>S</th><th></th><th></th><th>MJD</th><th></th></tr></thead>\n",
       "<thead><tr><th>int32</th><th>bytes8</th><th>bytes8</th><th>float64</th><th>float64</th><th>float64</th><th>bytes8</th><th>bytes7</th><th>float64</th><th>bytes4</th><th>bytes9</th><th>int64</th><th>bytes17</th></tr></thead>\n",
       "<tr><td>11858</td><td>ARCHIVED</td><td>NGC 2992</td><td>146.42500</td><td>-14.32639</td><td>55236.6894212963</td><td>ACIS-S</td><td>HETG</td><td>95950</td><td>GTO</td><td>CANIZARES</td><td>55608</td><td>0.011 (NGC 2992)</td></tr>\n",
       "<tr><td>3956</td><td>ARCHIVED</td><td>NGC2992</td><td>146.42500</td><td>-14.32639</td><td>52686.7346643519</td><td>ACIS-S</td><td>NONE</td><td>50180</td><td>GO</td><td>COLBERT</td><td>53055</td><td>0.011 (NGC 2992)</td></tr>\n",
       "<tr><td>12104</td><td>ARCHIVED</td><td>NGC 2992</td><td>146.42500</td><td>-14.32639</td><td>55240.9841203704</td><td>ACIS-S</td><td>HETG</td><td>22140</td><td>GTO</td><td>CANIZARES</td><td>55608</td><td>0.011 (NGC 2992)</td></tr>\n",
       "<tr><td>12103</td><td>ARCHIVED</td><td>NGC 2992</td><td>146.42500</td><td>-14.32639</td><td>55240.2249768519</td><td>ACIS-S</td><td>HETG</td><td>19170</td><td>GTO</td><td>CANIZARES</td><td>55608</td><td>0.011 (NGC 2992)</td></tr>\n",
       "</table></div>"
      ],
      "text/plain": [
       "<Table length=4>\n",
       "OBSID  STATUS    NAME       RA    ...     PI    PUBLIC_DATE   SEARCH_OFFSET_ \n",
       "                          DEGREE  ...               MJD                      \n",
       "int32  bytes8   bytes8   float64  ...   bytes9     int64         bytes17     \n",
       "----- -------- -------- --------- ... --------- ----------- -----------------\n",
       "11858 ARCHIVED NGC 2992 146.42500 ... CANIZARES       55608 0.011 (NGC 2992)\n",
       "\n",
       " 3956 ARCHIVED NGC2992  146.42500 ... COLBERT         53055 0.011 (NGC 2992)\n",
       "\n",
       "12104 ARCHIVED NGC 2992 146.42500 ... CANIZARES       55608 0.011 (NGC 2992)\n",
       "\n",
       "12103 ARCHIVED NGC 2992 146.42500 ... CANIZARES       55608 0.011 (NGC 2992)"
      ]
     },
     "execution_count": 10,
     "metadata": {},
     "output_type": "execute_result"
    }
   ],
   "source": [
    "\n",
    "mission_chandra = 'chanmaster'\n",
    "\n",
    "object_name = OX_CLAGN5_nustar[1]\n",
    "print(object_name)\n",
    "table_chandra = heasarc.query_object(object_name, mission=mission_chandra,radius='1 arcmin')\n",
    "#table[:3].pprint()\n",
    "table_chandra"
   ]
  },
  {
   "cell_type": "code",
   "execution_count": null,
   "metadata": {},
   "outputs": [],
   "source": []
  },
  {
   "cell_type": "code",
   "execution_count": 11,
   "metadata": {
    "ExecuteTime": {
     "end_time": "2022-05-18T15:33:42.108942Z",
     "start_time": "2022-05-18T15:33:42.102225Z"
    }
   },
   "outputs": [
    {
     "data": {
      "text/plain": [
       "1.7782794100389228e+22"
      ]
     },
     "execution_count": 11,
     "metadata": {},
     "output_type": "execute_result"
    }
   ],
   "source": [
    "10**22.25"
   ]
  },
  {
   "cell_type": "code",
   "execution_count": null,
   "metadata": {},
   "outputs": [],
   "source": []
  },
  {
   "cell_type": "code",
   "execution_count": null,
   "metadata": {},
   "outputs": [],
   "source": []
  },
  {
   "cell_type": "markdown",
   "metadata": {},
   "source": [
    "## NGC 4151"
   ]
  },
  {
   "cell_type": "code",
   "execution_count": 45,
   "metadata": {
    "ExecuteTime": {
     "end_time": "2022-03-25T07:57:55.944277Z",
     "start_time": "2022-03-25T07:57:50.124861Z"
    }
   },
   "outputs": [
    {
     "name": "stdout",
     "output_type": "stream",
     "text": [
      "NGC 4151\n"
     ]
    },
    {
     "data": {
      "text/html": [
       "<div><i>Table length=11</i>\n",
       "<table id=\"table140238022062936\" class=\"table-striped table-bordered table-condensed\">\n",
       "<thead><tr><th>NAME</th><th>RA</th><th>DEC</th><th>TIME</th><th>OBSID</th><th>STATUS</th><th>EXPOSURE_A</th><th>OBSERVATION_MODE</th><th>OBS_TYPE</th><th>PROCESSING_DATE</th><th>PUBLIC_DATE</th><th>ISSUE_FLAG</th><th>SEARCH_OFFSET_</th></tr></thead>\n",
       "<thead><tr><th></th><th>DEGREE</th><th>DEGREE</th><th>MJD</th><th></th><th></th><th>S</th><th></th><th></th><th>MJD</th><th>MJD</th><th></th><th></th></tr></thead>\n",
       "<thead><tr><th>bytes8</th><th>float64</th><th>float64</th><th>float64</th><th>bytes11</th><th>bytes8</th><th>float64</th><th>bytes16</th><th>bytes8</th><th>float64</th><th>int64</th><th>int64</th><th>bytes17</th></tr></thead>\n",
       "<tr><td>NGC4151</td><td>182.6822</td><td>39.4018</td><td>56245.3445</td><td>60001111005</td><td>ARCHIVED</td><td>61528</td><td>SCIENCE</td><td>AGN</td><td>59170.1861</td><td>56784</td><td>0</td><td>2.168 (NGC 4151)</td></tr>\n",
       "<tr><td>NGC4151</td><td>182.6933</td><td>39.3959</td><td>56243.7890</td><td>60001111003</td><td>ARCHIVED</td><td>57034</td><td>SCIENCE</td><td>AGN</td><td>59170.2295</td><td>56784</td><td>1</td><td>2.735 (NGC 4151)</td></tr>\n",
       "<tr><td>NGC_4151</td><td>182.6903</td><td>39.4105</td><td>58799.3897</td><td>60502017004</td><td>ARCHIVED</td><td>43738</td><td>SCIENCE</td><td>N05</td><td>59051.6125</td><td>59253</td><td>0</td><td>2.545 (NGC 4151)</td></tr>\n",
       "<tr><td>NGC_4151</td><td>182.6642</td><td>39.4323</td><td>58841.4730</td><td>60502017006</td><td>ARCHIVED</td><td>32401</td><td>SCIENCE</td><td>N05</td><td>59050.8632</td><td>59253</td><td>0</td><td>2.064 (NGC 4151)</td></tr>\n",
       "<tr><td>NGC_4151</td><td>182.6040</td><td>39.3851</td><td>58688.3376</td><td>60502017002</td><td>ARCHIVED</td><td>31738</td><td>SCIENCE</td><td>N05</td><td>59053.8250</td><td>59253</td><td>0</td><td>1.927 (NGC 4151)</td></tr>\n",
       "<tr><td>NGC_4151</td><td>182.6674</td><td>39.4429</td><td>58858.3168</td><td>60502017008</td><td>ARCHIVED</td><td>30586</td><td>SCIENCE</td><td>N05</td><td>59050.3219</td><td>59253</td><td>0</td><td>2.664 (NGC 4151)</td></tr>\n",
       "<tr><td>NGC_4151</td><td>182.6433</td><td>39.4406</td><td>58867.5077</td><td>60502017010</td><td>ARCHIVED</td><td>29717</td><td>SCIENCE</td><td>N05</td><td>59050.2064</td><td>59253</td><td>0</td><td>2.114 (NGC 4151)</td></tr>\n",
       "<tr><td>NGC_4151</td><td>182.6500</td><td>39.4512</td><td>58871.2682</td><td>60502017012</td><td>ARCHIVED</td><td>28859</td><td>SCIENCE</td><td>N05</td><td>59050.1367</td><td>59253</td><td>0</td><td>2.800 (NGC 4151)</td></tr>\n",
       "<tr><td>NGC4151</td><td>182.6701</td><td>39.3837</td><td>56243.2542</td><td>60001111002</td><td>ARCHIVED</td><td>21861</td><td>SCIENCE</td><td>AGN</td><td>59170.2454</td><td>56784</td><td>0</td><td>2.075 (NGC 4151)</td></tr>\n",
       "<tr><td>NGC4151</td><td>182.6999</td><td>39.3991</td><td>56245.3272</td><td>60001111004</td><td>ARCHIVED</td><td>209</td><td>SCIENCE</td><td>AGN</td><td>59170.2031</td><td>56784</td><td>0</td><td>3.002 (NGC 4151)</td></tr>\n",
       "<tr><td>NGC4151</td><td>182.7044</td><td>39.3942</td><td>56243.2369</td><td>60001111001</td><td>ARCHIVED</td><td>17</td><td>SCIENCE</td><td>AGN</td><td>59170.2565</td><td>56784</td><td>0</td><td>3.260 (NGC 4151)</td></tr>\n",
       "</table></div>"
      ],
      "text/plain": [
       "<Table length=11>\n",
       "  NAME      RA      DEC   ... PUBLIC_DATE ISSUE_FLAG   SEARCH_OFFSET_ \n",
       "          DEGREE   DEGREE ...     MJD                                 \n",
       " bytes8  float64  float64 ...    int64      int64         bytes17     \n",
       "-------- -------- ------- ... ----------- ---------- -----------------\n",
       "NGC4151  182.6822 39.4018 ...       56784          0 2.168 (NGC 4151)\n",
       "\n",
       "NGC4151  182.6933 39.3959 ...       56784          1 2.735 (NGC 4151)\n",
       "\n",
       "NGC_4151 182.6903 39.4105 ...       59253          0 2.545 (NGC 4151)\n",
       "\n",
       "NGC_4151 182.6642 39.4323 ...       59253          0 2.064 (NGC 4151)\n",
       "\n",
       "NGC_4151 182.6040 39.3851 ...       59253          0 1.927 (NGC 4151)\n",
       "\n",
       "NGC_4151 182.6674 39.4429 ...       59253          0 2.664 (NGC 4151)\n",
       "\n",
       "NGC_4151 182.6433 39.4406 ...       59253          0 2.114 (NGC 4151)\n",
       "\n",
       "NGC_4151 182.6500 39.4512 ...       59253          0 2.800 (NGC 4151)\n",
       "\n",
       "NGC4151  182.6701 39.3837 ...       56784          0 2.075 (NGC 4151)\n",
       "\n",
       "NGC4151  182.6999 39.3991 ...       56784          0 3.002 (NGC 4151)\n",
       "\n",
       "NGC4151  182.7044 39.3942 ...       56784          0 3.260 (NGC 4151)"
      ]
     },
     "execution_count": 45,
     "metadata": {},
     "output_type": "execute_result"
    }
   ],
   "source": [
    "object_name = OX_CLAGN5_nustar[2]\n",
    "print(object_name)\n",
    "table = heasarc.query_object(object_name, mission=mission,radius='10 arcmin')\n",
    "#table[:3].pprint()\n",
    "table"
   ]
  },
  {
   "cell_type": "markdown",
   "metadata": {},
   "source": [
    "## NGC 4395"
   ]
  },
  {
   "cell_type": "code",
   "execution_count": 144,
   "metadata": {
    "ExecuteTime": {
     "end_time": "2022-10-20T08:15:44.941423Z",
     "start_time": "2022-10-20T08:15:44.901683Z"
    }
   },
   "outputs": [
    {
     "name": "stdout",
     "output_type": "stream",
     "text": [
      "NGC 4395\n"
     ]
    },
    {
     "name": "stderr",
     "output_type": "stream",
     "text": [
      "WARNING: UnitsWarning: 'mjd' did not parse as fits unit: At col 0, Unit 'mjd' not supported by the FITS standard. Did you mean MJ or mJ? If this is meant to be a custom unit, define it with 'u.def_unit'. To have it recognized inside a file reader or other code, enable it with 'u.add_enabled_units'. For details, see https://docs.astropy.org/en/latest/units/combining_and_defining.html [astropy.units.core]\n"
     ]
    },
    {
     "data": {
      "text/html": [
       "<div><i>Table length=2</i>\n",
       "<table id=\"table140480597940448\" class=\"table-striped table-bordered table-condensed\">\n",
       "<thead><tr><th>NAME</th><th>RA</th><th>DEC</th><th>TIME</th><th>OBSID</th><th>STATUS</th><th>EXPOSURE_A</th><th>OBSERVATION_MODE</th><th>OBS_TYPE</th><th>PROCESSING_DATE</th><th>PUBLIC_DATE</th><th>ISSUE_FLAG</th><th>SEARCH_OFFSET_</th></tr></thead>\n",
       "<thead><tr><th></th><th>deg</th><th>deg</th><th>mjd</th><th></th><th></th><th>s</th><th></th><th></th><th>mjd</th><th>mjd</th><th></th><th></th></tr></thead>\n",
       "<thead><tr><th>bytes50</th><th>float64</th><th>float64</th><th>float64</th><th>bytes11</th><th>bytes10</th><th>float64</th><th>bytes24</th><th>bytes10</th><th>float64</th><th>int32</th><th>int16</th><th>bytes17</th></tr></thead>\n",
       "<tr><td>NGC4395</td><td>186.4156</td><td>33.5509</td><td>56422.1049</td><td>60061322002</td><td>archived</td><td>19246</td><td>SCIENCE</td><td>EGS</td><td>59165.8309</td><td>57112</td><td>0</td><td>1.915 (NGC 4395)\\n</td></tr>\n",
       "<tr><td>NGC_4395</td><td>186.4536</td><td>33.5468</td><td>0.0000</td><td>60802027</td><td>accepted</td><td>-300000</td><td></td><td>N08</td><td>0.0000</td><td>0</td><td>0</td><td>0.004 (NGC 4395)\\n</td></tr>\n",
       "</table></div>"
      ],
      "text/plain": [
       "<Table length=2>\n",
       "                       NAME                        ...   SEARCH_OFFSET_  \n",
       "                                                   ...                   \n",
       "                     bytes50                       ...      bytes17      \n",
       "-------------------------------------------------- ... ------------------\n",
       "NGC4395                                            ... 1.915 (NGC 4395)\\n\n",
       "NGC_4395                                           ... 0.004 (NGC 4395)\\n"
      ]
     },
     "execution_count": 144,
     "metadata": {},
     "output_type": "execute_result"
    }
   ],
   "source": [
    "object_name = OX_CLAGN5_nustar[3]\n",
    "print(object_name)\n",
    "table = heasarc.query_object(object_name, mission=mission,radius='10 arcmin')\n",
    "#table[:3].pprint()\n",
    "table"
   ]
  },
  {
   "cell_type": "code",
   "execution_count": null,
   "metadata": {},
   "outputs": [],
   "source": []
  },
  {
   "cell_type": "markdown",
   "metadata": {},
   "source": [
    "## NGC 7582"
   ]
  },
  {
   "cell_type": "code",
   "execution_count": 61,
   "metadata": {
    "ExecuteTime": {
     "end_time": "2022-05-22T15:32:14.269370Z",
     "start_time": "2022-05-22T15:32:14.207657Z"
    }
   },
   "outputs": [
    {
     "name": "stdout",
     "output_type": "stream",
     "text": [
      " NGC 7582\n"
     ]
    },
    {
     "data": {
      "text/html": [
       "<div><i>Table length=3</i>\n",
       "<table id=\"table140037910785440\" class=\"table-striped table-bordered table-condensed\">\n",
       "<thead><tr><th>NAME</th><th>RA</th><th>DEC</th><th>TIME</th><th>OBSID</th><th>STATUS</th><th>EXPOSURE_A</th><th>OBSERVATION_MODE</th><th>OBS_TYPE</th><th>PROCESSING_DATE</th><th>PUBLIC_DATE</th><th>ISSUE_FLAG</th><th>SEARCH_OFFSET_</th></tr></thead>\n",
       "<thead><tr><th></th><th>DEGREE</th><th>DEGREE</th><th>MJD</th><th></th><th></th><th>S</th><th></th><th></th><th>MJD</th><th>MJD</th><th></th><th></th></tr></thead>\n",
       "<thead><tr><th>bytes8</th><th>float64</th><th>float64</th><th>float64</th><th>bytes11</th><th>bytes8</th><th>float64</th><th>bytes16</th><th>bytes8</th><th>float64</th><th>int64</th><th>int64</th><th>bytes18</th></tr></thead>\n",
       "<tr><td>NGC_7582</td><td>349.6019</td><td>-42.3402</td><td>57506.2126</td><td>60201003002</td><td>ARCHIVED</td><td>48488</td><td>SCIENCE</td><td>X15</td><td>59122.9558</td><td>57899</td><td>0</td><td>1.829 ( NGC 7582)</td></tr>\n",
       "<tr><td>NGC7582</td><td>349.6098</td><td>-42.3848</td><td>56170.6987</td><td>60061318002</td><td>ARCHIVED</td><td>16462</td><td>SCIENCE</td><td>EGS</td><td>59171.9586</td><td>57112</td><td>0</td><td>0.992 ( NGC 7582)</td></tr>\n",
       "<tr><td>NGC7582</td><td>349.6163</td><td>-42.3985</td><td>56184.7126</td><td>60061318004</td><td>ARCHIVED</td><td>14561</td><td>SCIENCE</td><td>EGS</td><td>59171.7126</td><td>57112</td><td>0</td><td>1.854 ( NGC 7582)</td></tr>\n",
       "</table></div>"
      ],
      "text/plain": [
       "<Table length=3>\n",
       "  NAME      RA      DEC    ... PUBLIC_DATE ISSUE_FLAG   SEARCH_OFFSET_  \n",
       "          DEGREE   DEGREE  ...     MJD                                  \n",
       " bytes8  float64  float64  ...    int64      int64         bytes18      \n",
       "-------- -------- -------- ... ----------- ---------- ------------------\n",
       "NGC_7582 349.6019 -42.3402 ...       57899          0 1.829 ( NGC 7582)\n",
       "\n",
       "NGC7582  349.6098 -42.3848 ...       57112          0 0.992 ( NGC 7582)\n",
       "\n",
       "NGC7582  349.6163 -42.3985 ...       57112          0 1.854 ( NGC 7582)"
      ]
     },
     "execution_count": 61,
     "metadata": {},
     "output_type": "execute_result"
    }
   ],
   "source": [
    "object_name = OX_CLAGN5_nustar[4]\n",
    "print(object_name)\n",
    "table = heasarc.query_object(object_name, mission=mission,radius='10 arcmin')\n",
    "#table[:3].pprint()\n",
    "table"
   ]
  },
  {
   "cell_type": "code",
   "execution_count": 62,
   "metadata": {
    "ExecuteTime": {
     "end_time": "2022-05-22T15:32:44.754203Z",
     "start_time": "2022-05-22T15:32:44.746573Z"
    }
   },
   "outputs": [
    {
     "data": {
      "text/plain": [
       "['NAME',\n",
       " 'RA',\n",
       " 'DEC',\n",
       " 'TIME',\n",
       " 'OBSID',\n",
       " 'STATUS',\n",
       " 'EXPOSURE_A',\n",
       " 'OBSERVATION_MODE',\n",
       " 'OBS_TYPE',\n",
       " 'PROCESSING_DATE',\n",
       " 'PUBLIC_DATE',\n",
       " 'ISSUE_FLAG',\n",
       " 'SEARCH_OFFSET_']"
      ]
     },
     "execution_count": 62,
     "metadata": {},
     "output_type": "execute_result"
    }
   ],
   "source": [
    "table.colnames"
   ]
  },
  {
   "cell_type": "code",
   "execution_count": 63,
   "metadata": {
    "ExecuteTime": {
     "end_time": "2022-05-22T15:32:54.580181Z",
     "start_time": "2022-05-22T15:32:54.569959Z"
    },
    "scrolled": true
   },
   "outputs": [
    {
     "data": {
      "text/html": [
       "<div><i>Table length=3</i>\n",
       "<table id=\"table140037908397248\" class=\"table-striped table-bordered table-condensed\">\n",
       "<thead><tr><th>NAME</th><th>TIME</th><th>OBSID</th><th>EXPOSURE_A</th></tr></thead>\n",
       "<thead><tr><th></th><th>MJD</th><th></th><th>S</th></tr></thead>\n",
       "<thead><tr><th>bytes8</th><th>float64</th><th>bytes11</th><th>float64</th></tr></thead>\n",
       "<tr><td>NGC_7582</td><td>57506.2126</td><td>60201003002</td><td>48488</td></tr>\n",
       "<tr><td>NGC7582</td><td>56170.6987</td><td>60061318002</td><td>16462</td></tr>\n",
       "<tr><td>NGC7582</td><td>56184.7126</td><td>60061318004</td><td>14561</td></tr>\n",
       "</table></div>"
      ],
      "text/plain": [
       "<Table length=3>\n",
       "  NAME         TIME          OBSID    EXPOSURE_A\n",
       "               MJD                        S     \n",
       " bytes8      float64        bytes11    float64  \n",
       "-------- ---------------- ----------- ----------\n",
       "NGC_7582       57506.2126 60201003002      48488\n",
       "NGC7582        56170.6987 60061318002      16462\n",
       "NGC7582        56184.7126 60061318004      14561"
      ]
     },
     "execution_count": 63,
     "metadata": {},
     "output_type": "execute_result"
    }
   ],
   "source": [
    "table[['NAME','TIME','OBSID','EXPOSURE_A']]"
   ]
  },
  {
   "cell_type": "code",
   "execution_count": null,
   "metadata": {},
   "outputs": [],
   "source": []
  },
  {
   "cell_type": "markdown",
   "metadata": {
    "ExecuteTime": {
     "end_time": "2022-03-25T07:50:54.566592Z",
     "start_time": "2022-03-25T07:50:49.578991Z"
    }
   },
   "source": [
    "from astroquery.heasarc import Heasarc\n",
    "#heasarc = Heasarc()\n",
    "mission = 'rosmaster'\n",
    "object_name = '3c273'\n",
    "table = heasarc.query_object(object_name, mission=mission)\n",
    "table[:3].pprint()"
   ]
  },
  {
   "cell_type": "code",
   "execution_count": null,
   "metadata": {},
   "outputs": [],
   "source": []
  },
  {
   "cell_type": "code",
   "execution_count": null,
   "metadata": {},
   "outputs": [],
   "source": [
    "(e.g., ESO 362-G18, NGC 2992, NGC 4151, NGC 4395, and NGC 7582)"
   ]
  },
  {
   "cell_type": "code",
   "execution_count": null,
   "metadata": {},
   "outputs": [],
   "source": []
  },
  {
   "cell_type": "code",
   "execution_count": null,
   "metadata": {},
   "outputs": [],
   "source": []
  },
  {
   "cell_type": "code",
   "execution_count": 8,
   "metadata": {
    "ExecuteTime": {
     "end_time": "2022-03-24T11:58:08.716607Z",
     "start_time": "2022-03-24T11:58:08.123592Z"
    }
   },
   "outputs": [],
   "source": [
    "import math\n",
    "import numpy as np"
   ]
  },
  {
   "cell_type": "markdown",
   "metadata": {},
   "source": [
    "$$N_H^{los}=N_H^{eq}[1-4cos(i)]^{2}$$"
   ]
  },
  {
   "cell_type": "code",
   "execution_count": 1,
   "metadata": {
    "ExecuteTime": {
     "end_time": "2022-03-24T11:55:15.056491Z",
     "start_time": "2022-03-24T11:55:15.052198Z"
    }
   },
   "outputs": [],
   "source": [
    "NH_eq=2.3e24 \n",
    "NH_los=7.5e23"
   ]
  },
  {
   "cell_type": "code",
   "execution_count": 3,
   "metadata": {
    "ExecuteTime": {
     "end_time": "2022-03-24T11:56:41.568472Z",
     "start_time": "2022-03-24T11:56:41.563923Z"
    }
   },
   "outputs": [],
   "source": [
    "cos_i=(1-(NH_los/NH_eq)**2)/4.0"
   ]
  },
  {
   "cell_type": "code",
   "execution_count": 9,
   "metadata": {
    "ExecuteTime": {
     "end_time": "2022-03-24T11:58:14.763507Z",
     "start_time": "2022-03-24T11:58:14.759748Z"
    }
   },
   "outputs": [
    {
     "data": {
      "text/plain": [
       "77.09020081777201"
      ]
     },
     "execution_count": 9,
     "metadata": {},
     "output_type": "execute_result"
    }
   ],
   "source": [
    "math.acos(cos_i)/np.pi*180"
   ]
  },
  {
   "cell_type": "code",
   "execution_count": 4,
   "metadata": {
    "ExecuteTime": {
     "end_time": "2022-03-24T11:56:45.720579Z",
     "start_time": "2022-03-24T11:56:45.707124Z"
    }
   },
   "outputs": [
    {
     "data": {
      "text/plain": [
       "0.22341682419659736"
      ]
     },
     "execution_count": 4,
     "metadata": {},
     "output_type": "execute_result"
    }
   ],
   "source": [
    "cos_i"
   ]
  },
  {
   "cell_type": "code",
   "execution_count": 10,
   "metadata": {
    "ExecuteTime": {
     "end_time": "2022-03-24T13:41:56.541456Z",
     "start_time": "2022-03-24T13:41:56.534108Z"
    }
   },
   "outputs": [
    {
     "data": {
      "text/plain": [
       "1.1649269311064718"
      ]
     },
     "execution_count": 10,
     "metadata": {},
     "output_type": "execute_result"
    }
   ],
   "source": [
    "558/479"
   ]
  },
  {
   "cell_type": "code",
   "execution_count": 11,
   "metadata": {
    "ExecuteTime": {
     "end_time": "2022-03-24T17:53:36.844850Z",
     "start_time": "2022-03-24T17:53:36.838289Z"
    }
   },
   "outputs": [
    {
     "data": {
      "text/plain": [
       "1.088141962421712"
      ]
     },
     "execution_count": 11,
     "metadata": {},
     "output_type": "execute_result"
    }
   ],
   "source": [
    "521.22/479"
   ]
  },
  {
   "cell_type": "code",
   "execution_count": 52,
   "metadata": {
    "ExecuteTime": {
     "end_time": "2022-03-25T16:33:32.500591Z",
     "start_time": "2022-03-25T16:33:32.493119Z"
    }
   },
   "outputs": [
    {
     "data": {
      "text/plain": [
       "33.12"
      ]
     },
     "execution_count": 52,
     "metadata": {},
     "output_type": "execute_result"
    }
   ],
   "source": [
    "10.67+7.26+2.62+2.11+2.11+1.41+1.31+1.24+1.22+1.1+1.04+1.03"
   ]
  },
  {
   "cell_type": "code",
   "execution_count": 53,
   "metadata": {
    "ExecuteTime": {
     "end_time": "2022-03-31T06:48:04.346360Z",
     "start_time": "2022-03-31T06:48:04.215982Z"
    }
   },
   "outputs": [],
   "source": [
    "from astropy.cosmology import FlatLambdaCDM,Planck13,Planck15,z_at_value\n",
    "from astropy import units as u\n",
    "from astropy.cosmology import LambdaCDM\n",
    "cosmo = LambdaCDM(H0=70, Om0=0.27, Ode0=0.73)\n",
    "#cosmo=FlatLambdaCDM(H0=73,Om0=0.3)"
   ]
  },
  {
   "cell_type": "markdown",
   "metadata": {},
   "source": []
  },
  {
   "cell_type": "markdown",
   "metadata": {},
   "source": [
    "# NGC 4507"
   ]
  },
  {
   "cell_type": "code",
   "execution_count": 17,
   "metadata": {
    "ExecuteTime": {
     "end_time": "2022-05-20T12:01:41.368276Z",
     "start_time": "2022-05-20T12:01:41.320066Z"
    }
   },
   "outputs": [
    {
     "name": "stdout",
     "output_type": "stream",
     "text": [
      "NGC 4507\n",
      "  NAME      RA      DEC    ... PUBLIC_DATE ISSUE_FLAG   SEARCH_OFFSET_ \n",
      "          DEGREE   DEGREE  ...     MJD                                 \n",
      "-------- -------- -------- ... ----------- ---------- -----------------\n",
      "NGC_4507 188.8799 -39.9369 ...       57661          0 1.956 (NGC 4507)\n",
      "\n",
      "NGC_4507 188.8692 -39.9115 ...       57661          1 1.544 (NGC 4507)\n",
      "\n",
      "NGC_4507 188.8652 -39.9166 ...       57661          0 1.777 (NGC 4507)\n",
      "\n"
     ]
    }
   ],
   "source": [
    "object_name = 'NGC 4507'\n",
    "print(object_name)\n",
    "table = heasarc.query_object(object_name, mission=mission,radius='10 arcmin')\n",
    "#table[:3].pprint()"
   ]
  },
  {
   "cell_type": "code",
   "execution_count": 20,
   "metadata": {
    "ExecuteTime": {
     "end_time": "2022-05-20T12:02:48.255114Z",
     "start_time": "2022-05-20T12:02:48.247613Z"
    }
   },
   "outputs": [
    {
     "data": {
      "text/plain": [
       "['NAME',\n",
       " 'RA',\n",
       " 'DEC',\n",
       " 'TIME',\n",
       " 'OBSID',\n",
       " 'STATUS',\n",
       " 'EXPOSURE_A',\n",
       " 'OBSERVATION_MODE',\n",
       " 'OBS_TYPE',\n",
       " 'PROCESSING_DATE',\n",
       " 'PUBLIC_DATE',\n",
       " 'ISSUE_FLAG',\n",
       " 'SEARCH_OFFSET_']"
      ]
     },
     "execution_count": 20,
     "metadata": {},
     "output_type": "execute_result"
    }
   ],
   "source": [
    "table.colnames"
   ]
  },
  {
   "cell_type": "code",
   "execution_count": 22,
   "metadata": {
    "ExecuteTime": {
     "end_time": "2022-05-20T12:03:08.893634Z",
     "start_time": "2022-05-20T12:03:08.874748Z"
    }
   },
   "outputs": [
    {
     "data": {
      "text/html": [
       "<div><i>Table length=4</i>\n",
       "<table id=\"table140037910473584\" class=\"table-striped table-bordered table-condensed\">\n",
       "<thead><tr><th>NAME</th><th>RA</th><th>DEC</th><th>TIME</th><th>OBSID</th><th>STATUS</th><th>EXPOSURE_A</th></tr></thead>\n",
       "<thead><tr><th></th><th>DEGREE</th><th>DEGREE</th><th>MJD</th><th></th><th></th><th>S</th></tr></thead>\n",
       "<thead><tr><th>bytes8</th><th>float64</th><th>float64</th><th>float64</th><th>bytes11</th><th>bytes8</th><th>float64</th></tr></thead>\n",
       "<tr><td>NGC_4507</td><td>188.8799</td><td>-39.9369</td><td>57183.8029</td><td>60102051004</td><td>ARCHIVED</td><td>34464</td></tr>\n",
       "<tr><td>NGC_4507</td><td>188.8692</td><td>-39.9115</td><td>57218.3341</td><td>60102051006</td><td>ARCHIVED</td><td>32225</td></tr>\n",
       "<tr><td>NGC_4507</td><td>188.8652</td><td>-39.9166</td><td>57256.4140</td><td>60102051008</td><td>ARCHIVED</td><td>30924</td></tr>\n",
       "<tr><td>NGC_4507</td><td>188.8975</td><td>-39.9441</td><td>57145.8445</td><td>60102051002</td><td>ARCHIVED</td><td>30133</td></tr>\n",
       "</table></div>"
      ],
      "text/plain": [
       "<Table length=4>\n",
       "  NAME      RA      DEC          TIME          OBSID     STATUS  EXPOSURE_A\n",
       "          DEGREE   DEGREE        MJD                                 S     \n",
       " bytes8  float64  float64      float64        bytes11    bytes8   float64  \n",
       "-------- -------- -------- ---------------- ----------- -------- ----------\n",
       "NGC_4507 188.8799 -39.9369       57183.8029 60102051004 ARCHIVED      34464\n",
       "NGC_4507 188.8692 -39.9115       57218.3341 60102051006 ARCHIVED      32225\n",
       "NGC_4507 188.8652 -39.9166       57256.4140 60102051008 ARCHIVED      30924\n",
       "NGC_4507 188.8975 -39.9441       57145.8445 60102051002 ARCHIVED      30133"
      ]
     },
     "execution_count": 22,
     "metadata": {},
     "output_type": "execute_result"
    }
   ],
   "source": [
    "table[['NAME',\n",
    " 'RA',\n",
    " 'DEC',\n",
    " 'TIME',\n",
    " 'OBSID',\n",
    " 'STATUS',\n",
    " 'EXPOSURE_A',]][:4]"
   ]
  },
  {
   "cell_type": "code",
   "execution_count": null,
   "metadata": {},
   "outputs": [],
   "source": [
    "NGC_4507\t188.8799\t-39.9369\t57183.8029\t60102051004\tARCHIVED\t34464\n",
    "NGC_4507\t188.8692\t-39.9115\t57218.3341\t60102051006\tARCHIVED\t32225\n",
    "NGC_4507\t188.8652\t-39.9166\t57256.4140\t60102051008\tARCHIVED\t30924\n",
    "NGC_4507\t188.8975\t-39.9441\t57145.8445\t60102051002\tARCHIVED\t30133\n"
   ]
  },
  {
   "cell_type": "markdown",
   "metadata": {
    "ExecuteTime": {
     "end_time": "2022-05-20T12:01:51.910267Z",
     "start_time": "2022-05-20T12:01:51.906671Z"
    }
   },
   "source": [
    "ignore **-3.0 60.0-**"
   ]
  },
  {
   "cell_type": "markdown",
   "metadata": {},
   "source": [
    "## Slab"
   ]
  },
  {
   "cell_type": "code",
   "execution_count": 15,
   "metadata": {
    "ExecuteTime": {
     "end_time": "2022-05-20T06:37:33.518381Z",
     "start_time": "2022-05-20T06:37:33.511676Z"
    }
   },
   "outputs": [
    {
     "data": {
      "text/plain": [
       "1.0721868365180467"
      ]
     },
     "execution_count": 15,
     "metadata": {},
     "output_type": "execute_result"
    }
   ],
   "source": [
    "505/471"
   ]
  },
  {
   "cell_type": "code",
   "execution_count": 14,
   "metadata": {
    "ExecuteTime": {
     "end_time": "2022-05-20T06:14:19.223011Z",
     "start_time": "2022-05-20T06:14:19.215679Z"
    }
   },
   "outputs": [
    {
     "data": {
      "text/plain": [
       "1.071186440677966"
      ]
     },
     "execution_count": 14,
     "metadata": {},
     "output_type": "execute_result"
    }
   ],
   "source": [
    "632/590"
   ]
  },
  {
   "cell_type": "markdown",
   "metadata": {},
   "source": [
    "## mytorus coupled"
   ]
  },
  {
   "cell_type": "code",
   "execution_count": 27,
   "metadata": {
    "ExecuteTime": {
     "end_time": "2022-05-20T13:40:39.329273Z",
     "start_time": "2022-05-20T13:40:39.322844Z"
    }
   },
   "outputs": [
    {
     "data": {
      "text/plain": [
       "1.079749478079332"
      ]
     },
     "execution_count": 27,
     "metadata": {},
     "output_type": "execute_result"
    }
   ],
   "source": [
    "517.20/479"
   ]
  },
  {
   "cell_type": "code",
   "execution_count": 32,
   "metadata": {
    "ExecuteTime": {
     "end_time": "2022-05-20T13:46:29.536867Z",
     "start_time": "2022-05-20T13:46:29.532728Z"
    }
   },
   "outputs": [],
   "source": [
    "import math\n",
    "import numpy as np"
   ]
  },
  {
   "cell_type": "code",
   "execution_count": 33,
   "metadata": {
    "ExecuteTime": {
     "end_time": "2022-05-20T13:46:29.971840Z",
     "start_time": "2022-05-20T13:46:29.965447Z"
    }
   },
   "outputs": [
    {
     "data": {
      "text/plain": [
       "0.5000000000000001"
      ]
     },
     "execution_count": 33,
     "metadata": {},
     "output_type": "execute_result"
    }
   ],
   "source": [
    "math.cos(60*np.pi/180)"
   ]
  },
  {
   "cell_type": "code",
   "execution_count": 45,
   "metadata": {
    "ExecuteTime": {
     "end_time": "2022-05-20T14:53:08.380869Z",
     "start_time": "2022-05-20T14:53:08.373190Z"
    }
   },
   "outputs": [
    {
     "data": {
      "text/plain": [
       "1.8438479225282914e+24"
      ]
     },
     "execution_count": 45,
     "metadata": {},
     "output_type": "execute_result"
    }
   ],
   "source": [
    "2.55e24*(1-math.cos(61.5*np.pi/180))**0.5"
   ]
  },
  {
   "cell_type": "code",
   "execution_count": 49,
   "metadata": {
    "ExecuteTime": {
     "end_time": "2022-05-20T14:56:11.854901Z",
     "start_time": "2022-05-20T14:56:11.846981Z"
    }
   },
   "outputs": [
    {
     "data": {
      "text/plain": [
       "7.619256199724663e+23"
      ]
     },
     "execution_count": 49,
     "metadata": {},
     "output_type": "execute_result"
    }
   ],
   "source": [
    "2.55e24*(1-4.0*math.cos(61.5*np.pi/180)**2)**0.5"
   ]
  },
  {
   "cell_type": "code",
   "execution_count": 47,
   "metadata": {
    "ExecuteTime": {
     "end_time": "2022-05-20T14:55:19.234253Z",
     "start_time": "2022-05-20T14:55:19.227734Z"
    }
   },
   "outputs": [
    {
     "data": {
      "text/plain": [
       "0.10633270321361059"
      ]
     },
     "execution_count": 47,
     "metadata": {},
     "output_type": "execute_result"
    }
   ],
   "source": [
    "(7.5/23)**2"
   ]
  },
  {
   "cell_type": "markdown",
   "metadata": {},
   "source": [
    "## mytorus coupled"
   ]
  },
  {
   "cell_type": "code",
   "execution_count": 50,
   "metadata": {
    "ExecuteTime": {
     "end_time": "2022-05-20T15:18:42.820374Z",
     "start_time": "2022-05-20T15:18:42.813566Z"
    }
   },
   "outputs": [
    {
     "data": {
      "text/plain": [
       "1.0828025477707006"
      ]
     },
     "execution_count": 50,
     "metadata": {},
     "output_type": "execute_result"
    }
   ],
   "source": [
    "510/471  "
   ]
  },
  {
   "cell_type": "code",
   "execution_count": null,
   "metadata": {},
   "outputs": [],
   "source": []
  },
  {
   "cell_type": "markdown",
   "metadata": {},
   "source": [
    "## borus02"
   ]
  },
  {
   "cell_type": "code",
   "execution_count": 54,
   "metadata": {
    "ExecuteTime": {
     "end_time": "2022-05-21T14:28:47.018442Z",
     "start_time": "2022-05-21T14:28:47.011868Z"
    }
   },
   "outputs": [
    {
     "data": {
      "text/plain": [
       "1.0828025477707006"
      ]
     },
     "execution_count": 54,
     "metadata": {},
     "output_type": "execute_result"
    }
   ],
   "source": [
    "510/471"
   ]
  },
  {
   "cell_type": "code",
   "execution_count": 53,
   "metadata": {
    "ExecuteTime": {
     "end_time": "2022-05-21T08:55:34.978153Z",
     "start_time": "2022-05-21T08:55:34.971840Z"
    }
   },
   "outputs": [
    {
     "data": {
      "text/plain": [
       "1.930634221416193e+24"
      ]
     },
     "execution_count": 53,
     "metadata": {},
     "output_type": "execute_result"
    }
   ],
   "source": [
    "10**24.2857"
   ]
  },
  {
   "cell_type": "code",
   "execution_count": null,
   "metadata": {},
   "outputs": [],
   "source": []
  },
  {
   "cell_type": "markdown",
   "metadata": {},
   "source": [
    "## XCLUMPY"
   ]
  },
  {
   "cell_type": "code",
   "execution_count": 55,
   "metadata": {
    "ExecuteTime": {
     "end_time": "2022-05-21T15:42:59.744105Z",
     "start_time": "2022-05-21T15:42:59.737999Z"
    }
   },
   "outputs": [
    {
     "data": {
      "text/plain": [
       "1.0892356687898088"
      ]
     },
     "execution_count": 55,
     "metadata": {},
     "output_type": "execute_result"
    }
   ],
   "source": [
    "513.03/471"
   ]
  },
  {
   "cell_type": "code",
   "execution_count": 60,
   "metadata": {
    "ExecuteTime": {
     "end_time": "2022-05-22T08:31:21.921460Z",
     "start_time": "2022-05-22T08:31:21.915361Z"
    }
   },
   "outputs": [
    {
     "name": "stdout",
     "output_type": "stream",
     "text": [
      "1.089171974522293 0.9766454352441614 0.9915074309978769 0.9152173913043479 1.006482982171799\n"
     ]
    }
   ],
   "source": [
    "print(513 /471 ,\n",
    "460/471,\n",
    "467/471,\n",
    "421/460,\n",
    "1863/1851,)"
   ]
  },
  {
   "cell_type": "code",
   "execution_count": 70,
   "metadata": {
    "ExecuteTime": {
     "end_time": "2022-05-22T16:02:22.498242Z",
     "start_time": "2022-05-22T16:02:22.488360Z"
    },
    "scrolled": true
   },
   "outputs": [
    {
     "data": {
      "text/plain": [
       "(0.5196846295418784, 0.6925907316366977, 0.32204527560002)"
      ]
     },
     "execution_count": 70,
     "metadata": {},
     "output_type": "execute_result"
    }
   ],
   "source": [
    "np.sin((np.log(4.8))**0.5*25*np.pi/180),np.sin((np.log(4.8))**0.5*35*np.pi/180),np.sin((np.log(4.8))**0.5*15*np.pi/180)"
   ]
  },
  {
   "cell_type": "code",
   "execution_count": 71,
   "metadata": {
    "ExecuteTime": {
     "end_time": "2022-05-22T16:02:56.461740Z",
     "start_time": "2022-05-22T16:02:56.454930Z"
    }
   },
   "outputs": [
    {
     "data": {
      "text/plain": [
       "(-0.17290610209481927, -0.19763935394185844)"
      ]
     },
     "execution_count": 71,
     "metadata": {},
     "output_type": "execute_result"
    }
   ],
   "source": [
    "0.5196846295418784- 0.6925907316366977, 0.32204527560002-0.5196846295418784"
   ]
  },
  {
   "cell_type": "code",
   "execution_count": null,
   "metadata": {},
   "outputs": [],
   "source": []
  },
  {
   "cell_type": "code",
   "execution_count": null,
   "metadata": {},
   "outputs": [],
   "source": []
  },
  {
   "cell_type": "code",
   "execution_count": 72,
   "metadata": {
    "ExecuteTime": {
     "end_time": "2022-05-23T01:20:58.008571Z",
     "start_time": "2022-05-23T01:20:57.998556Z"
    }
   },
   "outputs": [
    {
     "data": {
      "text/plain": [
       "(0.8839106456902899, 0.9985972547009088, 0.6055809334506469)"
      ]
     },
     "execution_count": 72,
     "metadata": {},
     "output_type": "execute_result"
    }
   ],
   "source": [
    "np.sin((np.log(4.8*100))**0.5*25*np.pi/180),np.sin((np.log(4.8*100))**0.5*35*np.pi/180),np.sin((np.log(4.8*100))**0.5*15*np.pi/180)"
   ]
  },
  {
   "cell_type": "code",
   "execution_count": 73,
   "metadata": {
    "ExecuteTime": {
     "end_time": "2022-05-23T01:21:13.668464Z",
     "start_time": "2022-05-23T01:21:13.661554Z"
    }
   },
   "outputs": [
    {
     "data": {
      "text/plain": [
       "(-0.11468660901061889, 0.278329712239643)"
      ]
     },
     "execution_count": 73,
     "metadata": {},
     "output_type": "execute_result"
    }
   ],
   "source": [
    "0.8839106456902899- 0.9985972547009088, 0.8839106456902899-0.6055809334506469"
   ]
  },
  {
   "cell_type": "code",
   "execution_count": 67,
   "metadata": {
    "ExecuteTime": {
     "end_time": "2022-05-22T15:59:57.789428Z",
     "start_time": "2022-05-22T15:59:57.782344Z"
    }
   },
   "outputs": [
    {
     "data": {
      "text/plain": [
       "0.49999999999999994"
      ]
     },
     "execution_count": 67,
     "metadata": {},
     "output_type": "execute_result"
    }
   ],
   "source": [
    "np.sin(30*np.pi/180)"
   ]
  },
  {
   "cell_type": "markdown",
   "metadata": {},
   "source": [
    "## RXTORUS"
   ]
  },
  {
   "cell_type": "code",
   "execution_count": 57,
   "metadata": {
    "ExecuteTime": {
     "end_time": "2022-05-21T16:17:13.035988Z",
     "start_time": "2022-05-21T16:17:13.029441Z"
    }
   },
   "outputs": [
    {
     "data": {
      "text/plain": [
       "1.093163481953291"
      ]
     },
     "execution_count": 57,
     "metadata": {},
     "output_type": "execute_result"
    }
   ],
   "source": [
    "514.88/471 "
   ]
  },
  {
   "cell_type": "code",
   "execution_count": null,
   "metadata": {},
   "outputs": [],
   "source": []
  },
  {
   "cell_type": "code",
   "execution_count": null,
   "metadata": {},
   "outputs": [],
   "source": []
  },
  {
   "cell_type": "code",
   "execution_count": null,
   "metadata": {},
   "outputs": [],
   "source": []
  },
  {
   "cell_type": "markdown",
   "metadata": {},
   "source": [
    "# turn off AGN"
   ]
  },
  {
   "cell_type": "code",
   "execution_count": 186,
   "metadata": {
    "ExecuteTime": {
     "end_time": "2022-05-26T11:56:43.739214Z",
     "start_time": "2022-05-26T11:56:43.728900Z"
    }
   },
   "outputs": [],
   "source": [
    "import pandas as pd\n",
    "import numpy as np\n",
    "\n",
    "turnoffCLAGN=pd.read_csv(\"/home/brettlv/Downloads/arxiv_source_code/A Systematic Analysis of Stellar Populations in the Host Galaxies of Changing-look AGNs2112.07284/turning_off_CLAGN\",header=None,sep='&')"
   ]
  },
  {
   "cell_type": "code",
   "execution_count": 187,
   "metadata": {
    "ExecuteTime": {
     "end_time": "2022-05-26T11:56:45.138058Z",
     "start_time": "2022-05-26T11:56:45.130370Z"
    }
   },
   "outputs": [
    {
     "data": {
      "text/plain": [
       "Int64Index([0, 1, 2, 3, 4, 5, 6, 7, 8, 9, 10, 11, 12, 13], dtype='int64')"
      ]
     },
     "execution_count": 187,
     "metadata": {},
     "output_type": "execute_result"
    }
   ],
   "source": [
    "turnoffCLAGN.columns"
   ]
  },
  {
   "cell_type": "code",
   "execution_count": 204,
   "metadata": {
    "ExecuteTime": {
     "end_time": "2022-05-26T12:01:46.213606Z",
     "start_time": "2022-05-26T12:01:46.175066Z"
    }
   },
   "outputs": [
    {
     "data": {
      "text/html": [
       "<div>\n",
       "<style scoped>\n",
       "    .dataframe tbody tr th:only-of-type {\n",
       "        vertical-align: middle;\n",
       "    }\n",
       "\n",
       "    .dataframe tbody tr th {\n",
       "        vertical-align: top;\n",
       "    }\n",
       "\n",
       "    .dataframe thead th {\n",
       "        text-align: right;\n",
       "    }\n",
       "</style>\n",
       "<table border=\"1\" class=\"dataframe\">\n",
       "  <thead>\n",
       "    <tr style=\"text-align: right;\">\n",
       "      <th></th>\n",
       "      <th>11</th>\n",
       "      <th>12</th>\n",
       "      <th>13</th>\n",
       "      <th>mass</th>\n",
       "      <th>mass_upper</th>\n",
       "      <th>mass_lower</th>\n",
       "      <th>time</th>\n",
       "    </tr>\n",
       "  </thead>\n",
       "  <tbody>\n",
       "    <tr>\n",
       "      <th>0</th>\n",
       "      <td>$ 7.70^{+ 0.11}_{- 0.10} $</td>\n",
       "      <td>6.0</td>\n",
       "      <td>\\\\</td>\n",
       "      <td>7.70</td>\n",
       "      <td>0.11</td>\n",
       "      <td>0.10</td>\n",
       "      <td>6.0</td>\n",
       "    </tr>\n",
       "    <tr>\n",
       "      <th>1</th>\n",
       "      <td>--</td>\n",
       "      <td>11.0</td>\n",
       "      <td>\\\\</td>\n",
       "      <td>0.00</td>\n",
       "      <td>0.00</td>\n",
       "      <td>0.00</td>\n",
       "      <td>11.0</td>\n",
       "    </tr>\n",
       "    <tr>\n",
       "      <th>2</th>\n",
       "      <td>$ 7.71^{+ 0.12}_{- 0.10} $</td>\n",
       "      <td>9.0</td>\n",
       "      <td>\\\\</td>\n",
       "      <td>7.71</td>\n",
       "      <td>0.12</td>\n",
       "      <td>0.10</td>\n",
       "      <td>9.0</td>\n",
       "    </tr>\n",
       "    <tr>\n",
       "      <th>3</th>\n",
       "      <td>$ 7.13^{+ 0.13}_{- 0.11} $</td>\n",
       "      <td>12.0</td>\n",
       "      <td>\\\\</td>\n",
       "      <td>7.13</td>\n",
       "      <td>0.13</td>\n",
       "      <td>0.11</td>\n",
       "      <td>12.0</td>\n",
       "    </tr>\n",
       "    <tr>\n",
       "      <th>4</th>\n",
       "      <td>$ 8.05^{+ 0.18}_{- 0.17} $</td>\n",
       "      <td>14.0</td>\n",
       "      <td>\\\\</td>\n",
       "      <td>8.05</td>\n",
       "      <td>0.18</td>\n",
       "      <td>0.17</td>\n",
       "      <td>14.0</td>\n",
       "    </tr>\n",
       "    <tr>\n",
       "      <th>5</th>\n",
       "      <td>$ 7.32^{+ 0.13}_{- 0.12} $</td>\n",
       "      <td>14.0</td>\n",
       "      <td>\\\\</td>\n",
       "      <td>7.32</td>\n",
       "      <td>0.13</td>\n",
       "      <td>0.12</td>\n",
       "      <td>14.0</td>\n",
       "    </tr>\n",
       "    <tr>\n",
       "      <th>6</th>\n",
       "      <td>$ 7.33^{+ 0.20}_{- 0.19} $</td>\n",
       "      <td>8.0</td>\n",
       "      <td>\\\\</td>\n",
       "      <td>7.33</td>\n",
       "      <td>0.20</td>\n",
       "      <td>0.19</td>\n",
       "      <td>8.0</td>\n",
       "    </tr>\n",
       "    <tr>\n",
       "      <th>7</th>\n",
       "      <td>$ 8.15^{+ 0.16}_{- 0.15} $</td>\n",
       "      <td>12.0</td>\n",
       "      <td>\\\\</td>\n",
       "      <td>8.15</td>\n",
       "      <td>0.16</td>\n",
       "      <td>0.15</td>\n",
       "      <td>12.0</td>\n",
       "    </tr>\n",
       "    <tr>\n",
       "      <th>8</th>\n",
       "      <td>$ 7.72^{+ 0.12}_{- 0.10} $</td>\n",
       "      <td>6.0</td>\n",
       "      <td>\\\\</td>\n",
       "      <td>7.72</td>\n",
       "      <td>0.12</td>\n",
       "      <td>0.10</td>\n",
       "      <td>6.0</td>\n",
       "    </tr>\n",
       "    <tr>\n",
       "      <th>9</th>\n",
       "      <td>$ 8.02^{+ 0.12}_{- 0.11} $</td>\n",
       "      <td>16.0</td>\n",
       "      <td>\\\\</td>\n",
       "      <td>8.02</td>\n",
       "      <td>0.12</td>\n",
       "      <td>0.11</td>\n",
       "      <td>16.0</td>\n",
       "    </tr>\n",
       "    <tr>\n",
       "      <th>10</th>\n",
       "      <td>$ 7.25^{+ 0.10}_{- 0.08} $</td>\n",
       "      <td>14.0</td>\n",
       "      <td>\\\\</td>\n",
       "      <td>7.25</td>\n",
       "      <td>0.10</td>\n",
       "      <td>0.08</td>\n",
       "      <td>14.0</td>\n",
       "    </tr>\n",
       "    <tr>\n",
       "      <th>11</th>\n",
       "      <td>$ 7.17^{+ 0.14}_{- 0.13} $</td>\n",
       "      <td>13.0</td>\n",
       "      <td>\\\\</td>\n",
       "      <td>7.17</td>\n",
       "      <td>0.14</td>\n",
       "      <td>0.13</td>\n",
       "      <td>13.0</td>\n",
       "    </tr>\n",
       "    <tr>\n",
       "      <th>12</th>\n",
       "      <td>$ 7.24^{+ 0.16}_{- 0.15} $</td>\n",
       "      <td>17.0</td>\n",
       "      <td>\\\\</td>\n",
       "      <td>7.24</td>\n",
       "      <td>0.16</td>\n",
       "      <td>0.15</td>\n",
       "      <td>17.0</td>\n",
       "    </tr>\n",
       "    <tr>\n",
       "      <th>13</th>\n",
       "      <td>$ 8.68^{+ 0.10}_{- 0.09} $</td>\n",
       "      <td>16.0</td>\n",
       "      <td>\\\\</td>\n",
       "      <td>8.68</td>\n",
       "      <td>0.10</td>\n",
       "      <td>0.09</td>\n",
       "      <td>16.0</td>\n",
       "    </tr>\n",
       "    <tr>\n",
       "      <th>14</th>\n",
       "      <td>$ 8.26^{+ 0.15}_{- 0.13} $</td>\n",
       "      <td>15.0</td>\n",
       "      <td>\\\\</td>\n",
       "      <td>8.26</td>\n",
       "      <td>0.15</td>\n",
       "      <td>0.13</td>\n",
       "      <td>15.0</td>\n",
       "    </tr>\n",
       "    <tr>\n",
       "      <th>15</th>\n",
       "      <td>$ 7.39^{+ 0.11}_{- 0.10} $</td>\n",
       "      <td>14.0</td>\n",
       "      <td>\\\\</td>\n",
       "      <td>7.39</td>\n",
       "      <td>0.11</td>\n",
       "      <td>0.10</td>\n",
       "      <td>14.0</td>\n",
       "    </tr>\n",
       "    <tr>\n",
       "      <th>16</th>\n",
       "      <td>$ 7.17^{+ 0.18}_{- 0.17} $</td>\n",
       "      <td>16.0</td>\n",
       "      <td>\\\\</td>\n",
       "      <td>7.17</td>\n",
       "      <td>0.18</td>\n",
       "      <td>0.17</td>\n",
       "      <td>16.0</td>\n",
       "    </tr>\n",
       "    <tr>\n",
       "      <th>17</th>\n",
       "      <td>$ 7.15^{+ 0.13}_{- 0.12} $</td>\n",
       "      <td>3.0</td>\n",
       "      <td>\\\\</td>\n",
       "      <td>7.15</td>\n",
       "      <td>0.13</td>\n",
       "      <td>0.12</td>\n",
       "      <td>3.0</td>\n",
       "    </tr>\n",
       "    <tr>\n",
       "      <th>18</th>\n",
       "      <td>$ 7.46^{+ 0.12}_{- 0.10} $</td>\n",
       "      <td>9.0</td>\n",
       "      <td>\\\\</td>\n",
       "      <td>7.46</td>\n",
       "      <td>0.12</td>\n",
       "      <td>0.10</td>\n",
       "      <td>9.0</td>\n",
       "    </tr>\n",
       "    <tr>\n",
       "      <th>19</th>\n",
       "      <td>$ 6.45^{+ 0.11}_{- 0.10} $</td>\n",
       "      <td>16.0</td>\n",
       "      <td>\\\\</td>\n",
       "      <td>6.45</td>\n",
       "      <td>0.11</td>\n",
       "      <td>0.10</td>\n",
       "      <td>16.0</td>\n",
       "    </tr>\n",
       "    <tr>\n",
       "      <th>20</th>\n",
       "      <td>$ 7.38^{+ 0.11}_{- 0.10} $</td>\n",
       "      <td>7.0</td>\n",
       "      <td>\\\\</td>\n",
       "      <td>7.38</td>\n",
       "      <td>0.11</td>\n",
       "      <td>0.10</td>\n",
       "      <td>7.0</td>\n",
       "    </tr>\n",
       "    <tr>\n",
       "      <th>21</th>\n",
       "      <td>$ 7.34^{+ 0.11}_{- 0.10} $</td>\n",
       "      <td>11.0</td>\n",
       "      <td>\\\\</td>\n",
       "      <td>7.34</td>\n",
       "      <td>0.11</td>\n",
       "      <td>0.10</td>\n",
       "      <td>11.0</td>\n",
       "    </tr>\n",
       "    <tr>\n",
       "      <th>22</th>\n",
       "      <td>$ 7.25^{+ 0.10}_{- 0.08} $</td>\n",
       "      <td>15.0</td>\n",
       "      <td>\\\\</td>\n",
       "      <td>7.25</td>\n",
       "      <td>0.10</td>\n",
       "      <td>0.08</td>\n",
       "      <td>15.0</td>\n",
       "    </tr>\n",
       "    <tr>\n",
       "      <th>23</th>\n",
       "      <td>$ 7.94^{+ 0.12}_{- 0.11} $</td>\n",
       "      <td>9.0</td>\n",
       "      <td>\\\\</td>\n",
       "      <td>7.94</td>\n",
       "      <td>0.12</td>\n",
       "      <td>0.11</td>\n",
       "      <td>9.0</td>\n",
       "    </tr>\n",
       "    <tr>\n",
       "      <th>24</th>\n",
       "      <td>$ 8.00^{+ 0.15}_{- 0.14} $</td>\n",
       "      <td>12.0</td>\n",
       "      <td>\\\\</td>\n",
       "      <td>8.00</td>\n",
       "      <td>0.15</td>\n",
       "      <td>0.14</td>\n",
       "      <td>12.0</td>\n",
       "    </tr>\n",
       "    <tr>\n",
       "      <th>25</th>\n",
       "      <td>$ 6.89^{+ 0.10}_{- 0.08} $</td>\n",
       "      <td>10.0</td>\n",
       "      <td>\\\\</td>\n",
       "      <td>6.89</td>\n",
       "      <td>0.10</td>\n",
       "      <td>0.08</td>\n",
       "      <td>10.0</td>\n",
       "    </tr>\n",
       "  </tbody>\n",
       "</table>\n",
       "</div>"
      ],
      "text/plain": [
       "                                11    12  13  mass  mass_upper  mass_lower  \\\n",
       "0      $ 7.70^{+ 0.11}_{- 0.10} $    6.0  \\\\  7.70        0.11        0.10   \n",
       "1                              --   11.0  \\\\  0.00        0.00        0.00   \n",
       "2      $ 7.71^{+ 0.12}_{- 0.10} $    9.0  \\\\  7.71        0.12        0.10   \n",
       "3      $ 7.13^{+ 0.13}_{- 0.11} $   12.0  \\\\  7.13        0.13        0.11   \n",
       "4      $ 8.05^{+ 0.18}_{- 0.17} $   14.0  \\\\  8.05        0.18        0.17   \n",
       "5      $ 7.32^{+ 0.13}_{- 0.12} $   14.0  \\\\  7.32        0.13        0.12   \n",
       "6      $ 7.33^{+ 0.20}_{- 0.19} $    8.0  \\\\  7.33        0.20        0.19   \n",
       "7      $ 8.15^{+ 0.16}_{- 0.15} $   12.0  \\\\  8.15        0.16        0.15   \n",
       "8      $ 7.72^{+ 0.12}_{- 0.10} $    6.0  \\\\  7.72        0.12        0.10   \n",
       "9      $ 8.02^{+ 0.12}_{- 0.11} $   16.0  \\\\  8.02        0.12        0.11   \n",
       "10     $ 7.25^{+ 0.10}_{- 0.08} $   14.0  \\\\  7.25        0.10        0.08   \n",
       "11     $ 7.17^{+ 0.14}_{- 0.13} $   13.0  \\\\  7.17        0.14        0.13   \n",
       "12     $ 7.24^{+ 0.16}_{- 0.15} $   17.0  \\\\  7.24        0.16        0.15   \n",
       "13     $ 8.68^{+ 0.10}_{- 0.09} $   16.0  \\\\  8.68        0.10        0.09   \n",
       "14     $ 8.26^{+ 0.15}_{- 0.13} $   15.0  \\\\  8.26        0.15        0.13   \n",
       "15     $ 7.39^{+ 0.11}_{- 0.10} $   14.0  \\\\  7.39        0.11        0.10   \n",
       "16     $ 7.17^{+ 0.18}_{- 0.17} $   16.0  \\\\  7.17        0.18        0.17   \n",
       "17     $ 7.15^{+ 0.13}_{- 0.12} $    3.0  \\\\  7.15        0.13        0.12   \n",
       "18     $ 7.46^{+ 0.12}_{- 0.10} $    9.0  \\\\  7.46        0.12        0.10   \n",
       "19     $ 6.45^{+ 0.11}_{- 0.10} $   16.0  \\\\  6.45        0.11        0.10   \n",
       "20     $ 7.38^{+ 0.11}_{- 0.10} $    7.0  \\\\  7.38        0.11        0.10   \n",
       "21     $ 7.34^{+ 0.11}_{- 0.10} $   11.0  \\\\  7.34        0.11        0.10   \n",
       "22     $ 7.25^{+ 0.10}_{- 0.08} $   15.0  \\\\  7.25        0.10        0.08   \n",
       "23     $ 7.94^{+ 0.12}_{- 0.11} $    9.0  \\\\  7.94        0.12        0.11   \n",
       "24     $ 8.00^{+ 0.15}_{- 0.14} $   12.0  \\\\  8.00        0.15        0.14   \n",
       "25     $ 6.89^{+ 0.10}_{- 0.08} $   10.0  \\\\  6.89        0.10        0.08   \n",
       "\n",
       "    time  \n",
       "0    6.0  \n",
       "1   11.0  \n",
       "2    9.0  \n",
       "3   12.0  \n",
       "4   14.0  \n",
       "5   14.0  \n",
       "6    8.0  \n",
       "7   12.0  \n",
       "8    6.0  \n",
       "9   16.0  \n",
       "10  14.0  \n",
       "11  13.0  \n",
       "12  17.0  \n",
       "13  16.0  \n",
       "14  15.0  \n",
       "15  14.0  \n",
       "16  16.0  \n",
       "17   3.0  \n",
       "18   9.0  \n",
       "19  16.0  \n",
       "20   7.0  \n",
       "21  11.0  \n",
       "22  15.0  \n",
       "23   9.0  \n",
       "24  12.0  \n",
       "25  10.0  "
      ]
     },
     "execution_count": 204,
     "metadata": {},
     "output_type": "execute_result"
    }
   ],
   "source": [
    "turnoffCLAGN[turnoffCLAGN.columns[-7:]]"
   ]
  },
  {
   "cell_type": "code",
   "execution_count": 189,
   "metadata": {
    "ExecuteTime": {
     "end_time": "2022-05-26T11:56:48.030158Z",
     "start_time": "2022-05-26T11:56:47.992204Z"
    }
   },
   "outputs": [],
   "source": [
    "for index,(i,j) in enumerate(zip(turnoffCLAGN[turnoffCLAGN.columns[11]],turnoffCLAGN[turnoffCLAGN.columns[12]])):\n",
    "    if i!='  -- ':\n",
    "        mass_string=i.split('$')[1]\n",
    "        #print(mass_string)\n",
    "        mass=float(mass_string.split('^')[0])\n",
    "        mass_upper=float(mass_string.split('^{+')[1].split('}_{-')[0])\n",
    "        mass_lower=float(mass_string.split('_{-')[1].split('}')[0])\n",
    "        time=float(j)\n",
    "        \n",
    "        #print(mass,mass_lower,mass_upper,time)\n",
    "        \n",
    "    else:\n",
    "        mass=0\n",
    "        mass_lower=0\n",
    "        mass_upper=0\n",
    "        time=float(j)\n",
    "        \n",
    "    turnoffCLAGN.loc[index,'mass',]=mass\n",
    "    turnoffCLAGN.loc[index,'mass_upper']=mass_upper\n",
    "    turnoffCLAGN.loc[index,'mass_lower']=mass_lower\n",
    "    turnoffCLAGN.loc[index,'time']=time"
   ]
  },
  {
   "cell_type": "code",
   "execution_count": 190,
   "metadata": {
    "ExecuteTime": {
     "end_time": "2022-05-26T11:56:49.630637Z",
     "start_time": "2022-05-26T11:56:49.623860Z"
    }
   },
   "outputs": [
    {
     "data": {
      "text/plain": [
       "Index([           0,            1,            2,            3,            4,\n",
       "                  5,            6,            7,            8,            9,\n",
       "                 10,           11,           12,           13,       'mass',\n",
       "       'mass_upper', 'mass_lower',       'time'],\n",
       "      dtype='object')"
      ]
     },
     "execution_count": 190,
     "metadata": {},
     "output_type": "execute_result"
    }
   ],
   "source": [
    "turnoffCLAGN.columns"
   ]
  },
  {
   "cell_type": "code",
   "execution_count": 166,
   "metadata": {
    "ExecuteTime": {
     "end_time": "2022-05-26T11:47:18.098387Z",
     "start_time": "2022-05-26T11:47:18.091199Z"
    }
   },
   "outputs": [
    {
     "data": {
      "text/plain": [
       "'/home/brettlv/python_code/1_astro/Nustar'"
      ]
     },
     "execution_count": 166,
     "metadata": {},
     "output_type": "execute_result"
    }
   ],
   "source": [
    "pwd"
   ]
  },
  {
   "cell_type": "code",
   "execution_count": 196,
   "metadata": {
    "ExecuteTime": {
     "end_time": "2022-05-26T11:58:33.283249Z",
     "start_time": "2022-05-26T11:58:33.275844Z"
    }
   },
   "outputs": [],
   "source": [
    "turnoffCLAGN_massgt0=turnoffCLAGN[turnoffCLAGN['mass']>0]\n",
    "turnoffCLAGN_massgt0=drop_index(turnoffCLAGN_massgt0)"
   ]
  },
  {
   "cell_type": "code",
   "execution_count": 197,
   "metadata": {
    "ExecuteTime": {
     "end_time": "2022-05-26T11:58:33.903501Z",
     "start_time": "2022-05-26T11:58:33.894581Z"
    }
   },
   "outputs": [
    {
     "data": {
      "text/plain": [
       "SpearmanrResult(correlation=-0.012190581400806675, pvalue=0.9538806227144255)"
      ]
     },
     "execution_count": 197,
     "metadata": {},
     "output_type": "execute_result"
    }
   ],
   "source": [
    "spearmanr(turnoffCLAGN_massgt0['mass'],turnoffCLAGN_massgt0['time'])"
   ]
  },
  {
   "cell_type": "code",
   "execution_count": null,
   "metadata": {},
   "outputs": [],
   "source": []
  },
  {
   "cell_type": "markdown",
   "metadata": {},
   "source": [
    "## plot M time"
   ]
  },
  {
   "cell_type": "code",
   "execution_count": 205,
   "metadata": {
    "ExecuteTime": {
     "end_time": "2022-05-26T12:04:10.809648Z",
     "start_time": "2022-05-26T12:04:10.285551Z"
    }
   },
   "outputs": [
    {
     "data": {
      "image/svg+xml": [
       "<?xml version=\"1.0\" encoding=\"utf-8\" standalone=\"no\"?>\n",
       "<!DOCTYPE svg PUBLIC \"-//W3C//DTD SVG 1.1//EN\"\n",
       "  \"http://www.w3.org/Graphics/SVG/1.1/DTD/svg11.dtd\">\n",
       "<svg xmlns:xlink=\"http://www.w3.org/1999/xlink\" width=\"522.977813pt\" height=\"382.940625pt\" viewBox=\"0 0 522.977813 382.940625\" xmlns=\"http://www.w3.org/2000/svg\" version=\"1.1\">\n",
       " <metadata>\n",
       "  <rdf:RDF xmlns:dc=\"http://purl.org/dc/elements/1.1/\" xmlns:cc=\"http://creativecommons.org/ns#\" xmlns:rdf=\"http://www.w3.org/1999/02/22-rdf-syntax-ns#\">\n",
       "   <cc:Work>\n",
       "    <dc:type rdf:resource=\"http://purl.org/dc/dcmitype/StillImage\"/>\n",
       "    <dc:date>2022-05-26T20:04:10.772886</dc:date>\n",
       "    <dc:format>image/svg+xml</dc:format>\n",
       "    <dc:creator>\n",
       "     <cc:Agent>\n",
       "      <dc:title>Matplotlib v3.5.1, https://matplotlib.org/</dc:title>\n",
       "     </cc:Agent>\n",
       "    </dc:creator>\n",
       "   </cc:Work>\n",
       "  </rdf:RDF>\n",
       " </metadata>\n",
       " <defs>\n",
       "  <style type=\"text/css\">*{stroke-linejoin: round; stroke-linecap: butt}</style>\n",
       " </defs>\n",
       " <g id=\"figure_1\">\n",
       "  <g id=\"patch_1\">\n",
       "   <path d=\"M 0 382.940625 \n",
       "L 522.977813 382.940625 \n",
       "L 522.977813 0 \n",
       "L 0 0 \n",
       "L 0 382.940625 \n",
       "z\n",
       "\" style=\"fill: none\"/>\n",
       "  </g>\n",
       "  <g id=\"axes_1\">\n",
       "   <g id=\"patch_2\">\n",
       "    <path d=\"M 55.065 333.36 \n",
       "L 501.465 333.36 \n",
       "L 501.465 7.2 \n",
       "L 55.065 7.2 \n",
       "z\n",
       "\" style=\"fill: #ffffff\"/>\n",
       "   </g>\n",
       "   <g id=\"matplotlib.axis_1\">\n",
       "    <g id=\"xtick_1\">\n",
       "     <g id=\"line2d_1\">\n",
       "      <defs>\n",
       "       <path id=\"m4f8a5f66ac\" d=\"M 0 0 \n",
       "L 0 -10 \n",
       "\" style=\"stroke: #000000; stroke-width: 2\"/>\n",
       "      </defs>\n",
       "      <g>\n",
       "       <use xlink:href=\"#m4f8a5f66ac\" x=\"55.065\" y=\"333.36\" style=\"stroke: #000000; stroke-width: 2\"/>\n",
       "      </g>\n",
       "     </g>\n",
       "     <g id=\"line2d_2\">\n",
       "      <defs>\n",
       "       <path id=\"m1dffc94135\" d=\"M 0 0 \n",
       "L 0 10 \n",
       "\" style=\"stroke: #000000; stroke-width: 2\"/>\n",
       "      </defs>\n",
       "      <g>\n",
       "       <use xlink:href=\"#m1dffc94135\" x=\"55.065\" y=\"7.2\" style=\"stroke: #000000; stroke-width: 2\"/>\n",
       "      </g>\n",
       "     </g>\n",
       "     <g id=\"text_1\">\n",
       "      <!-- 6.0 -->\n",
       "      <g transform=\"translate(40.752188 350.537188)scale(0.18 -0.18)\">\n",
       "       <defs>\n",
       "        <path id=\"DejaVuSans-36\" d=\"M 2113 2584 \n",
       "Q 1688 2584 1439 2293 \n",
       "Q 1191 2003 1191 1497 \n",
       "Q 1191 994 1439 701 \n",
       "Q 1688 409 2113 409 \n",
       "Q 2538 409 2786 701 \n",
       "Q 3034 994 3034 1497 \n",
       "Q 3034 2003 2786 2293 \n",
       "Q 2538 2584 2113 2584 \n",
       "z\n",
       "M 3366 4563 \n",
       "L 3366 3988 \n",
       "Q 3128 4100 2886 4159 \n",
       "Q 2644 4219 2406 4219 \n",
       "Q 1781 4219 1451 3797 \n",
       "Q 1122 3375 1075 2522 \n",
       "Q 1259 2794 1537 2939 \n",
       "Q 1816 3084 2150 3084 \n",
       "Q 2853 3084 3261 2657 \n",
       "Q 3669 2231 3669 1497 \n",
       "Q 3669 778 3244 343 \n",
       "Q 2819 -91 2113 -91 \n",
       "Q 1303 -91 875 529 \n",
       "Q 447 1150 447 2328 \n",
       "Q 447 3434 972 4092 \n",
       "Q 1497 4750 2381 4750 \n",
       "Q 2619 4750 2861 4703 \n",
       "Q 3103 4656 3366 4563 \n",
       "z\n",
       "\" transform=\"scale(0.015625)\"/>\n",
       "        <path id=\"DejaVuSans-2e\" d=\"M 684 794 \n",
       "L 1344 794 \n",
       "L 1344 0 \n",
       "L 684 0 \n",
       "L 684 794 \n",
       "z\n",
       "\" transform=\"scale(0.015625)\"/>\n",
       "        <path id=\"DejaVuSans-30\" d=\"M 2034 4250 \n",
       "Q 1547 4250 1301 3770 \n",
       "Q 1056 3291 1056 2328 \n",
       "Q 1056 1369 1301 889 \n",
       "Q 1547 409 2034 409 \n",
       "Q 2525 409 2770 889 \n",
       "Q 3016 1369 3016 2328 \n",
       "Q 3016 3291 2770 3770 \n",
       "Q 2525 4250 2034 4250 \n",
       "z\n",
       "M 2034 4750 \n",
       "Q 2819 4750 3233 4129 \n",
       "Q 3647 3509 3647 2328 \n",
       "Q 3647 1150 3233 529 \n",
       "Q 2819 -91 2034 -91 \n",
       "Q 1250 -91 836 529 \n",
       "Q 422 1150 422 2328 \n",
       "Q 422 3509 836 4129 \n",
       "Q 1250 4750 2034 4750 \n",
       "z\n",
       "\" transform=\"scale(0.015625)\"/>\n",
       "       </defs>\n",
       "       <use xlink:href=\"#DejaVuSans-36\"/>\n",
       "       <use xlink:href=\"#DejaVuSans-2e\" x=\"63.623047\"/>\n",
       "       <use xlink:href=\"#DejaVuSans-30\" x=\"95.410156\"/>\n",
       "      </g>\n",
       "     </g>\n",
       "    </g>\n",
       "    <g id=\"xtick_2\">\n",
       "     <g id=\"line2d_3\">\n",
       "      <g>\n",
       "       <use xlink:href=\"#m4f8a5f66ac\" x=\"118.836429\" y=\"333.36\" style=\"stroke: #000000; stroke-width: 2\"/>\n",
       "      </g>\n",
       "     </g>\n",
       "     <g id=\"line2d_4\">\n",
       "      <g>\n",
       "       <use xlink:href=\"#m1dffc94135\" x=\"118.836429\" y=\"7.2\" style=\"stroke: #000000; stroke-width: 2\"/>\n",
       "      </g>\n",
       "     </g>\n",
       "     <g id=\"text_2\">\n",
       "      <!-- 6.5 -->\n",
       "      <g transform=\"translate(104.523616 350.537188)scale(0.18 -0.18)\">\n",
       "       <defs>\n",
       "        <path id=\"DejaVuSans-35\" d=\"M 691 4666 \n",
       "L 3169 4666 \n",
       "L 3169 4134 \n",
       "L 1269 4134 \n",
       "L 1269 2991 \n",
       "Q 1406 3038 1543 3061 \n",
       "Q 1681 3084 1819 3084 \n",
       "Q 2600 3084 3056 2656 \n",
       "Q 3513 2228 3513 1497 \n",
       "Q 3513 744 3044 326 \n",
       "Q 2575 -91 1722 -91 \n",
       "Q 1428 -91 1123 -41 \n",
       "Q 819 9 494 109 \n",
       "L 494 744 \n",
       "Q 775 591 1075 516 \n",
       "Q 1375 441 1709 441 \n",
       "Q 2250 441 2565 725 \n",
       "Q 2881 1009 2881 1497 \n",
       "Q 2881 1984 2565 2268 \n",
       "Q 2250 2553 1709 2553 \n",
       "Q 1456 2553 1204 2497 \n",
       "Q 953 2441 691 2322 \n",
       "L 691 4666 \n",
       "z\n",
       "\" transform=\"scale(0.015625)\"/>\n",
       "       </defs>\n",
       "       <use xlink:href=\"#DejaVuSans-36\"/>\n",
       "       <use xlink:href=\"#DejaVuSans-2e\" x=\"63.623047\"/>\n",
       "       <use xlink:href=\"#DejaVuSans-35\" x=\"95.410156\"/>\n",
       "      </g>\n",
       "     </g>\n",
       "    </g>\n",
       "    <g id=\"xtick_3\">\n",
       "     <g id=\"line2d_5\">\n",
       "      <g>\n",
       "       <use xlink:href=\"#m4f8a5f66ac\" x=\"182.607857\" y=\"333.36\" style=\"stroke: #000000; stroke-width: 2\"/>\n",
       "      </g>\n",
       "     </g>\n",
       "     <g id=\"line2d_6\">\n",
       "      <g>\n",
       "       <use xlink:href=\"#m1dffc94135\" x=\"182.607857\" y=\"7.2\" style=\"stroke: #000000; stroke-width: 2\"/>\n",
       "      </g>\n",
       "     </g>\n",
       "     <g id=\"text_3\">\n",
       "      <!-- 7.0 -->\n",
       "      <g transform=\"translate(168.295045 350.537188)scale(0.18 -0.18)\">\n",
       "       <defs>\n",
       "        <path id=\"DejaVuSans-37\" d=\"M 525 4666 \n",
       "L 3525 4666 \n",
       "L 3525 4397 \n",
       "L 1831 0 \n",
       "L 1172 0 \n",
       "L 2766 4134 \n",
       "L 525 4134 \n",
       "L 525 4666 \n",
       "z\n",
       "\" transform=\"scale(0.015625)\"/>\n",
       "       </defs>\n",
       "       <use xlink:href=\"#DejaVuSans-37\"/>\n",
       "       <use xlink:href=\"#DejaVuSans-2e\" x=\"63.623047\"/>\n",
       "       <use xlink:href=\"#DejaVuSans-30\" x=\"95.410156\"/>\n",
       "      </g>\n",
       "     </g>\n",
       "    </g>\n",
       "    <g id=\"xtick_4\">\n",
       "     <g id=\"line2d_7\">\n",
       "      <g>\n",
       "       <use xlink:href=\"#m4f8a5f66ac\" x=\"246.379286\" y=\"333.36\" style=\"stroke: #000000; stroke-width: 2\"/>\n",
       "      </g>\n",
       "     </g>\n",
       "     <g id=\"line2d_8\">\n",
       "      <g>\n",
       "       <use xlink:href=\"#m1dffc94135\" x=\"246.379286\" y=\"7.2\" style=\"stroke: #000000; stroke-width: 2\"/>\n",
       "      </g>\n",
       "     </g>\n",
       "     <g id=\"text_4\">\n",
       "      <!-- 7.5 -->\n",
       "      <g transform=\"translate(232.066473 350.537188)scale(0.18 -0.18)\">\n",
       "       <use xlink:href=\"#DejaVuSans-37\"/>\n",
       "       <use xlink:href=\"#DejaVuSans-2e\" x=\"63.623047\"/>\n",
       "       <use xlink:href=\"#DejaVuSans-35\" x=\"95.410156\"/>\n",
       "      </g>\n",
       "     </g>\n",
       "    </g>\n",
       "    <g id=\"xtick_5\">\n",
       "     <g id=\"line2d_9\">\n",
       "      <g>\n",
       "       <use xlink:href=\"#m4f8a5f66ac\" x=\"310.150714\" y=\"333.36\" style=\"stroke: #000000; stroke-width: 2\"/>\n",
       "      </g>\n",
       "     </g>\n",
       "     <g id=\"line2d_10\">\n",
       "      <g>\n",
       "       <use xlink:href=\"#m1dffc94135\" x=\"310.150714\" y=\"7.2\" style=\"stroke: #000000; stroke-width: 2\"/>\n",
       "      </g>\n",
       "     </g>\n",
       "     <g id=\"text_5\">\n",
       "      <!-- 8.0 -->\n",
       "      <g transform=\"translate(295.837902 350.537188)scale(0.18 -0.18)\">\n",
       "       <defs>\n",
       "        <path id=\"DejaVuSans-38\" d=\"M 2034 2216 \n",
       "Q 1584 2216 1326 1975 \n",
       "Q 1069 1734 1069 1313 \n",
       "Q 1069 891 1326 650 \n",
       "Q 1584 409 2034 409 \n",
       "Q 2484 409 2743 651 \n",
       "Q 3003 894 3003 1313 \n",
       "Q 3003 1734 2745 1975 \n",
       "Q 2488 2216 2034 2216 \n",
       "z\n",
       "M 1403 2484 \n",
       "Q 997 2584 770 2862 \n",
       "Q 544 3141 544 3541 \n",
       "Q 544 4100 942 4425 \n",
       "Q 1341 4750 2034 4750 \n",
       "Q 2731 4750 3128 4425 \n",
       "Q 3525 4100 3525 3541 \n",
       "Q 3525 3141 3298 2862 \n",
       "Q 3072 2584 2669 2484 \n",
       "Q 3125 2378 3379 2068 \n",
       "Q 3634 1759 3634 1313 \n",
       "Q 3634 634 3220 271 \n",
       "Q 2806 -91 2034 -91 \n",
       "Q 1263 -91 848 271 \n",
       "Q 434 634 434 1313 \n",
       "Q 434 1759 690 2068 \n",
       "Q 947 2378 1403 2484 \n",
       "z\n",
       "M 1172 3481 \n",
       "Q 1172 3119 1398 2916 \n",
       "Q 1625 2713 2034 2713 \n",
       "Q 2441 2713 2670 2916 \n",
       "Q 2900 3119 2900 3481 \n",
       "Q 2900 3844 2670 4047 \n",
       "Q 2441 4250 2034 4250 \n",
       "Q 1625 4250 1398 4047 \n",
       "Q 1172 3844 1172 3481 \n",
       "z\n",
       "\" transform=\"scale(0.015625)\"/>\n",
       "       </defs>\n",
       "       <use xlink:href=\"#DejaVuSans-38\"/>\n",
       "       <use xlink:href=\"#DejaVuSans-2e\" x=\"63.623047\"/>\n",
       "       <use xlink:href=\"#DejaVuSans-30\" x=\"95.410156\"/>\n",
       "      </g>\n",
       "     </g>\n",
       "    </g>\n",
       "    <g id=\"xtick_6\">\n",
       "     <g id=\"line2d_11\">\n",
       "      <g>\n",
       "       <use xlink:href=\"#m4f8a5f66ac\" x=\"373.922143\" y=\"333.36\" style=\"stroke: #000000; stroke-width: 2\"/>\n",
       "      </g>\n",
       "     </g>\n",
       "     <g id=\"line2d_12\">\n",
       "      <g>\n",
       "       <use xlink:href=\"#m1dffc94135\" x=\"373.922143\" y=\"7.2\" style=\"stroke: #000000; stroke-width: 2\"/>\n",
       "      </g>\n",
       "     </g>\n",
       "     <g id=\"text_6\">\n",
       "      <!-- 8.5 -->\n",
       "      <g transform=\"translate(359.60933 350.537188)scale(0.18 -0.18)\">\n",
       "       <use xlink:href=\"#DejaVuSans-38\"/>\n",
       "       <use xlink:href=\"#DejaVuSans-2e\" x=\"63.623047\"/>\n",
       "       <use xlink:href=\"#DejaVuSans-35\" x=\"95.410156\"/>\n",
       "      </g>\n",
       "     </g>\n",
       "    </g>\n",
       "    <g id=\"xtick_7\">\n",
       "     <g id=\"line2d_13\">\n",
       "      <g>\n",
       "       <use xlink:href=\"#m4f8a5f66ac\" x=\"437.693571\" y=\"333.36\" style=\"stroke: #000000; stroke-width: 2\"/>\n",
       "      </g>\n",
       "     </g>\n",
       "     <g id=\"line2d_14\">\n",
       "      <g>\n",
       "       <use xlink:href=\"#m1dffc94135\" x=\"437.693571\" y=\"7.2\" style=\"stroke: #000000; stroke-width: 2\"/>\n",
       "      </g>\n",
       "     </g>\n",
       "     <g id=\"text_7\">\n",
       "      <!-- 9.0 -->\n",
       "      <g transform=\"translate(423.380759 350.537188)scale(0.18 -0.18)\">\n",
       "       <defs>\n",
       "        <path id=\"DejaVuSans-39\" d=\"M 703 97 \n",
       "L 703 672 \n",
       "Q 941 559 1184 500 \n",
       "Q 1428 441 1663 441 \n",
       "Q 2288 441 2617 861 \n",
       "Q 2947 1281 2994 2138 \n",
       "Q 2813 1869 2534 1725 \n",
       "Q 2256 1581 1919 1581 \n",
       "Q 1219 1581 811 2004 \n",
       "Q 403 2428 403 3163 \n",
       "Q 403 3881 828 4315 \n",
       "Q 1253 4750 1959 4750 \n",
       "Q 2769 4750 3195 4129 \n",
       "Q 3622 3509 3622 2328 \n",
       "Q 3622 1225 3098 567 \n",
       "Q 2575 -91 1691 -91 \n",
       "Q 1453 -91 1209 -44 \n",
       "Q 966 3 703 97 \n",
       "z\n",
       "M 1959 2075 \n",
       "Q 2384 2075 2632 2365 \n",
       "Q 2881 2656 2881 3163 \n",
       "Q 2881 3666 2632 3958 \n",
       "Q 2384 4250 1959 4250 \n",
       "Q 1534 4250 1286 3958 \n",
       "Q 1038 3666 1038 3163 \n",
       "Q 1038 2656 1286 2365 \n",
       "Q 1534 2075 1959 2075 \n",
       "z\n",
       "\" transform=\"scale(0.015625)\"/>\n",
       "       </defs>\n",
       "       <use xlink:href=\"#DejaVuSans-39\"/>\n",
       "       <use xlink:href=\"#DejaVuSans-2e\" x=\"63.623047\"/>\n",
       "       <use xlink:href=\"#DejaVuSans-30\" x=\"95.410156\"/>\n",
       "      </g>\n",
       "     </g>\n",
       "    </g>\n",
       "    <g id=\"xtick_8\">\n",
       "     <g id=\"line2d_15\">\n",
       "      <g>\n",
       "       <use xlink:href=\"#m4f8a5f66ac\" x=\"501.465\" y=\"333.36\" style=\"stroke: #000000; stroke-width: 2\"/>\n",
       "      </g>\n",
       "     </g>\n",
       "     <g id=\"line2d_16\">\n",
       "      <g>\n",
       "       <use xlink:href=\"#m1dffc94135\" x=\"501.465\" y=\"7.2\" style=\"stroke: #000000; stroke-width: 2\"/>\n",
       "      </g>\n",
       "     </g>\n",
       "     <g id=\"text_8\">\n",
       "      <!-- 9.5 -->\n",
       "      <g transform=\"translate(487.152188 350.537188)scale(0.18 -0.18)\">\n",
       "       <use xlink:href=\"#DejaVuSans-39\"/>\n",
       "       <use xlink:href=\"#DejaVuSans-2e\" x=\"63.623047\"/>\n",
       "       <use xlink:href=\"#DejaVuSans-35\" x=\"95.410156\"/>\n",
       "      </g>\n",
       "     </g>\n",
       "    </g>\n",
       "    <g id=\"text_9\">\n",
       "     <!-- log $M_\\mathrm{BH}$ -->\n",
       "     <g transform=\"translate(244.605 371.960625)scale(0.18 -0.18)\">\n",
       "      <defs>\n",
       "       <path id=\"DejaVuSans-6c\" d=\"M 603 4863 \n",
       "L 1178 4863 \n",
       "L 1178 0 \n",
       "L 603 0 \n",
       "L 603 4863 \n",
       "z\n",
       "\" transform=\"scale(0.015625)\"/>\n",
       "       <path id=\"DejaVuSans-6f\" d=\"M 1959 3097 \n",
       "Q 1497 3097 1228 2736 \n",
       "Q 959 2375 959 1747 \n",
       "Q 959 1119 1226 758 \n",
       "Q 1494 397 1959 397 \n",
       "Q 2419 397 2687 759 \n",
       "Q 2956 1122 2956 1747 \n",
       "Q 2956 2369 2687 2733 \n",
       "Q 2419 3097 1959 3097 \n",
       "z\n",
       "M 1959 3584 \n",
       "Q 2709 3584 3137 3096 \n",
       "Q 3566 2609 3566 1747 \n",
       "Q 3566 888 3137 398 \n",
       "Q 2709 -91 1959 -91 \n",
       "Q 1206 -91 779 398 \n",
       "Q 353 888 353 1747 \n",
       "Q 353 2609 779 3096 \n",
       "Q 1206 3584 1959 3584 \n",
       "z\n",
       "\" transform=\"scale(0.015625)\"/>\n",
       "       <path id=\"DejaVuSans-67\" d=\"M 2906 1791 \n",
       "Q 2906 2416 2648 2759 \n",
       "Q 2391 3103 1925 3103 \n",
       "Q 1463 3103 1205 2759 \n",
       "Q 947 2416 947 1791 \n",
       "Q 947 1169 1205 825 \n",
       "Q 1463 481 1925 481 \n",
       "Q 2391 481 2648 825 \n",
       "Q 2906 1169 2906 1791 \n",
       "z\n",
       "M 3481 434 \n",
       "Q 3481 -459 3084 -895 \n",
       "Q 2688 -1331 1869 -1331 \n",
       "Q 1566 -1331 1297 -1286 \n",
       "Q 1028 -1241 775 -1147 \n",
       "L 775 -588 \n",
       "Q 1028 -725 1275 -790 \n",
       "Q 1522 -856 1778 -856 \n",
       "Q 2344 -856 2625 -561 \n",
       "Q 2906 -266 2906 331 \n",
       "L 2906 616 \n",
       "Q 2728 306 2450 153 \n",
       "Q 2172 0 1784 0 \n",
       "Q 1141 0 747 490 \n",
       "Q 353 981 353 1791 \n",
       "Q 353 2603 747 3093 \n",
       "Q 1141 3584 1784 3584 \n",
       "Q 2172 3584 2450 3431 \n",
       "Q 2728 3278 2906 2969 \n",
       "L 2906 3500 \n",
       "L 3481 3500 \n",
       "L 3481 434 \n",
       "z\n",
       "\" transform=\"scale(0.015625)\"/>\n",
       "       <path id=\"DejaVuSans-20\" transform=\"scale(0.015625)\"/>\n",
       "       <path id=\"DejaVuSans-Oblique-4d\" d=\"M 1081 4666 \n",
       "L 2028 4666 \n",
       "L 2572 1522 \n",
       "L 4378 4666 \n",
       "L 5350 4666 \n",
       "L 4441 0 \n",
       "L 3828 0 \n",
       "L 4622 4091 \n",
       "L 2791 897 \n",
       "L 2175 897 \n",
       "L 1581 4103 \n",
       "L 788 0 \n",
       "L 172 0 \n",
       "L 1081 4666 \n",
       "z\n",
       "\" transform=\"scale(0.015625)\"/>\n",
       "       <path id=\"DejaVuSans-42\" d=\"M 1259 2228 \n",
       "L 1259 519 \n",
       "L 2272 519 \n",
       "Q 2781 519 3026 730 \n",
       "Q 3272 941 3272 1375 \n",
       "Q 3272 1813 3026 2020 \n",
       "Q 2781 2228 2272 2228 \n",
       "L 1259 2228 \n",
       "z\n",
       "M 1259 4147 \n",
       "L 1259 2741 \n",
       "L 2194 2741 \n",
       "Q 2656 2741 2882 2914 \n",
       "Q 3109 3088 3109 3444 \n",
       "Q 3109 3797 2882 3972 \n",
       "Q 2656 4147 2194 4147 \n",
       "L 1259 4147 \n",
       "z\n",
       "M 628 4666 \n",
       "L 2241 4666 \n",
       "Q 2963 4666 3353 4366 \n",
       "Q 3744 4066 3744 3513 \n",
       "Q 3744 3084 3544 2831 \n",
       "Q 3344 2578 2956 2516 \n",
       "Q 3422 2416 3680 2098 \n",
       "Q 3938 1781 3938 1306 \n",
       "Q 3938 681 3513 340 \n",
       "Q 3088 0 2303 0 \n",
       "L 628 0 \n",
       "L 628 4666 \n",
       "z\n",
       "\" transform=\"scale(0.015625)\"/>\n",
       "       <path id=\"DejaVuSans-48\" d=\"M 628 4666 \n",
       "L 1259 4666 \n",
       "L 1259 2753 \n",
       "L 3553 2753 \n",
       "L 3553 4666 \n",
       "L 4184 4666 \n",
       "L 4184 0 \n",
       "L 3553 0 \n",
       "L 3553 2222 \n",
       "L 1259 2222 \n",
       "L 1259 0 \n",
       "L 628 0 \n",
       "L 628 4666 \n",
       "z\n",
       "\" transform=\"scale(0.015625)\"/>\n",
       "      </defs>\n",
       "      <use xlink:href=\"#DejaVuSans-6c\" transform=\"translate(0 0.015625)\"/>\n",
       "      <use xlink:href=\"#DejaVuSans-6f\" transform=\"translate(27.783203 0.015625)\"/>\n",
       "      <use xlink:href=\"#DejaVuSans-67\" transform=\"translate(88.964844 0.015625)\"/>\n",
       "      <use xlink:href=\"#DejaVuSans-20\" transform=\"translate(152.441406 0.015625)\"/>\n",
       "      <use xlink:href=\"#DejaVuSans-Oblique-4d\" transform=\"translate(184.228516 0.015625)\"/>\n",
       "      <use xlink:href=\"#DejaVuSans-42\" transform=\"translate(270.507812 -16.390625)scale(0.7)\"/>\n",
       "      <use xlink:href=\"#DejaVuSans-48\" transform=\"translate(318.530273 -16.390625)scale(0.7)\"/>\n",
       "     </g>\n",
       "    </g>\n",
       "   </g>\n",
       "   <g id=\"matplotlib.axis_2\">\n",
       "    <g id=\"ytick_1\">\n",
       "     <g id=\"line2d_17\">\n",
       "      <defs>\n",
       "       <path id=\"m8bf4a702a9\" d=\"M 0 0 \n",
       "L 10 0 \n",
       "\" style=\"stroke: #000000; stroke-width: 2\"/>\n",
       "      </defs>\n",
       "      <g>\n",
       "       <use xlink:href=\"#m8bf4a702a9\" x=\"55.065\" y=\"297.355325\" style=\"stroke: #000000; stroke-width: 2\"/>\n",
       "      </g>\n",
       "     </g>\n",
       "     <g id=\"text_10\">\n",
       "      <!-- 4 -->\n",
       "      <g transform=\"translate(40.1125 304.193918)scale(0.18 -0.18)\">\n",
       "       <defs>\n",
       "        <path id=\"DejaVuSans-34\" d=\"M 2419 4116 \n",
       "L 825 1625 \n",
       "L 2419 1625 \n",
       "L 2419 4116 \n",
       "z\n",
       "M 2253 4666 \n",
       "L 3047 4666 \n",
       "L 3047 1625 \n",
       "L 3713 1625 \n",
       "L 3713 1100 \n",
       "L 3047 1100 \n",
       "L 3047 0 \n",
       "L 2419 0 \n",
       "L 2419 1100 \n",
       "L 313 1100 \n",
       "L 313 1709 \n",
       "L 2253 4666 \n",
       "z\n",
       "\" transform=\"scale(0.015625)\"/>\n",
       "       </defs>\n",
       "       <use xlink:href=\"#DejaVuSans-34\"/>\n",
       "      </g>\n",
       "     </g>\n",
       "    </g>\n",
       "    <g id=\"ytick_2\">\n",
       "     <g id=\"line2d_18\">\n",
       "      <g>\n",
       "       <use xlink:href=\"#m8bf4a702a9\" x=\"55.065\" y=\"254.996883\" style=\"stroke: #000000; stroke-width: 2\"/>\n",
       "      </g>\n",
       "     </g>\n",
       "     <g id=\"text_11\">\n",
       "      <!-- 6 -->\n",
       "      <g transform=\"translate(40.1125 261.835477)scale(0.18 -0.18)\">\n",
       "       <use xlink:href=\"#DejaVuSans-36\"/>\n",
       "      </g>\n",
       "     </g>\n",
       "    </g>\n",
       "    <g id=\"ytick_3\">\n",
       "     <g id=\"line2d_19\">\n",
       "      <g>\n",
       "       <use xlink:href=\"#m8bf4a702a9\" x=\"55.065\" y=\"212.638442\" style=\"stroke: #000000; stroke-width: 2\"/>\n",
       "      </g>\n",
       "     </g>\n",
       "     <g id=\"text_12\">\n",
       "      <!-- 8 -->\n",
       "      <g transform=\"translate(40.1125 219.477035)scale(0.18 -0.18)\">\n",
       "       <use xlink:href=\"#DejaVuSans-38\"/>\n",
       "      </g>\n",
       "     </g>\n",
       "    </g>\n",
       "    <g id=\"ytick_4\">\n",
       "     <g id=\"line2d_20\">\n",
       "      <g>\n",
       "       <use xlink:href=\"#m8bf4a702a9\" x=\"55.065\" y=\"170.28\" style=\"stroke: #000000; stroke-width: 2\"/>\n",
       "      </g>\n",
       "     </g>\n",
       "     <g id=\"text_13\">\n",
       "      <!-- 10 -->\n",
       "      <g transform=\"translate(28.66 177.118594)scale(0.18 -0.18)\">\n",
       "       <defs>\n",
       "        <path id=\"DejaVuSans-31\" d=\"M 794 531 \n",
       "L 1825 531 \n",
       "L 1825 4091 \n",
       "L 703 3866 \n",
       "L 703 4441 \n",
       "L 1819 4666 \n",
       "L 2450 4666 \n",
       "L 2450 531 \n",
       "L 3481 531 \n",
       "L 3481 0 \n",
       "L 794 0 \n",
       "L 794 531 \n",
       "z\n",
       "\" transform=\"scale(0.015625)\"/>\n",
       "       </defs>\n",
       "       <use xlink:href=\"#DejaVuSans-31\"/>\n",
       "       <use xlink:href=\"#DejaVuSans-30\" x=\"63.623047\"/>\n",
       "      </g>\n",
       "     </g>\n",
       "    </g>\n",
       "    <g id=\"ytick_5\">\n",
       "     <g id=\"line2d_21\">\n",
       "      <g>\n",
       "       <use xlink:href=\"#m8bf4a702a9\" x=\"55.065\" y=\"127.921558\" style=\"stroke: #000000; stroke-width: 2\"/>\n",
       "      </g>\n",
       "     </g>\n",
       "     <g id=\"text_14\">\n",
       "      <!-- 12 -->\n",
       "      <g transform=\"translate(28.66 134.760152)scale(0.18 -0.18)\">\n",
       "       <defs>\n",
       "        <path id=\"DejaVuSans-32\" d=\"M 1228 531 \n",
       "L 3431 531 \n",
       "L 3431 0 \n",
       "L 469 0 \n",
       "L 469 531 \n",
       "Q 828 903 1448 1529 \n",
       "Q 2069 2156 2228 2338 \n",
       "Q 2531 2678 2651 2914 \n",
       "Q 2772 3150 2772 3378 \n",
       "Q 2772 3750 2511 3984 \n",
       "Q 2250 4219 1831 4219 \n",
       "Q 1534 4219 1204 4116 \n",
       "Q 875 4013 500 3803 \n",
       "L 500 4441 \n",
       "Q 881 4594 1212 4672 \n",
       "Q 1544 4750 1819 4750 \n",
       "Q 2544 4750 2975 4387 \n",
       "Q 3406 4025 3406 3419 \n",
       "Q 3406 3131 3298 2873 \n",
       "Q 3191 2616 2906 2266 \n",
       "Q 2828 2175 2409 1742 \n",
       "Q 1991 1309 1228 531 \n",
       "z\n",
       "\" transform=\"scale(0.015625)\"/>\n",
       "       </defs>\n",
       "       <use xlink:href=\"#DejaVuSans-31\"/>\n",
       "       <use xlink:href=\"#DejaVuSans-32\" x=\"63.623047\"/>\n",
       "      </g>\n",
       "     </g>\n",
       "    </g>\n",
       "    <g id=\"ytick_6\">\n",
       "     <g id=\"line2d_22\">\n",
       "      <g>\n",
       "       <use xlink:href=\"#m8bf4a702a9\" x=\"55.065\" y=\"85.563117\" style=\"stroke: #000000; stroke-width: 2\"/>\n",
       "      </g>\n",
       "     </g>\n",
       "     <g id=\"text_15\">\n",
       "      <!-- 14 -->\n",
       "      <g transform=\"translate(28.66 92.401711)scale(0.18 -0.18)\">\n",
       "       <use xlink:href=\"#DejaVuSans-31\"/>\n",
       "       <use xlink:href=\"#DejaVuSans-34\" x=\"63.623047\"/>\n",
       "      </g>\n",
       "     </g>\n",
       "    </g>\n",
       "    <g id=\"ytick_7\">\n",
       "     <g id=\"line2d_23\">\n",
       "      <g>\n",
       "       <use xlink:href=\"#m8bf4a702a9\" x=\"55.065\" y=\"43.204675\" style=\"stroke: #000000; stroke-width: 2\"/>\n",
       "      </g>\n",
       "     </g>\n",
       "     <g id=\"text_16\">\n",
       "      <!-- 16 -->\n",
       "      <g transform=\"translate(28.66 50.043269)scale(0.18 -0.18)\">\n",
       "       <use xlink:href=\"#DejaVuSans-31\"/>\n",
       "       <use xlink:href=\"#DejaVuSans-36\" x=\"63.623047\"/>\n",
       "      </g>\n",
       "     </g>\n",
       "    </g>\n",
       "    <g id=\"text_17\">\n",
       "     <!-- $\\Delta\\,T(year)$ -->\n",
       "     <g transform=\"translate(20.88 210.51)rotate(-90)scale(0.18 -0.18)\">\n",
       "      <defs>\n",
       "       <path id=\"DejaVuSans-394\" d=\"M 2188 4044 \n",
       "L 906 525 \n",
       "L 3472 525 \n",
       "L 2188 4044 \n",
       "z\n",
       "M 50 0 \n",
       "L 1831 4666 \n",
       "L 2547 4666 \n",
       "L 4325 0 \n",
       "L 50 0 \n",
       "z\n",
       "\" transform=\"scale(0.015625)\"/>\n",
       "       <path id=\"DejaVuSans-Oblique-54\" d=\"M 378 4666 \n",
       "L 4325 4666 \n",
       "L 4225 4134 \n",
       "L 2559 4134 \n",
       "L 1759 0 \n",
       "L 1125 0 \n",
       "L 1925 4134 \n",
       "L 275 4134 \n",
       "L 378 4666 \n",
       "z\n",
       "\" transform=\"scale(0.015625)\"/>\n",
       "       <path id=\"DejaVuSans-28\" d=\"M 1984 4856 \n",
       "Q 1566 4138 1362 3434 \n",
       "Q 1159 2731 1159 2009 \n",
       "Q 1159 1288 1364 580 \n",
       "Q 1569 -128 1984 -844 \n",
       "L 1484 -844 \n",
       "Q 1016 -109 783 600 \n",
       "Q 550 1309 550 2009 \n",
       "Q 550 2706 781 3412 \n",
       "Q 1013 4119 1484 4856 \n",
       "L 1984 4856 \n",
       "z\n",
       "\" transform=\"scale(0.015625)\"/>\n",
       "       <path id=\"DejaVuSans-Oblique-79\" d=\"M 1588 -325 \n",
       "Q 1188 -997 936 -1164 \n",
       "Q 684 -1331 294 -1331 \n",
       "L -159 -1331 \n",
       "L -63 -850 \n",
       "L 269 -850 \n",
       "Q 509 -850 678 -719 \n",
       "Q 847 -588 1056 -206 \n",
       "L 1234 128 \n",
       "L 459 3500 \n",
       "L 1069 3500 \n",
       "L 1650 819 \n",
       "L 3256 3500 \n",
       "L 3859 3500 \n",
       "L 1588 -325 \n",
       "z\n",
       "\" transform=\"scale(0.015625)\"/>\n",
       "       <path id=\"DejaVuSans-Oblique-65\" d=\"M 3078 2063 \n",
       "Q 3088 2113 3092 2166 \n",
       "Q 3097 2219 3097 2272 \n",
       "Q 3097 2653 2873 2875 \n",
       "Q 2650 3097 2266 3097 \n",
       "Q 1838 3097 1509 2826 \n",
       "Q 1181 2556 1013 2059 \n",
       "L 3078 2063 \n",
       "z\n",
       "M 3578 1613 \n",
       "L 903 1613 \n",
       "Q 884 1494 878 1425 \n",
       "Q 872 1356 872 1306 \n",
       "Q 872 872 1139 634 \n",
       "Q 1406 397 1894 397 \n",
       "Q 2269 397 2603 481 \n",
       "Q 2938 566 3225 728 \n",
       "L 3116 159 \n",
       "Q 2806 34 2476 -28 \n",
       "Q 2147 -91 1806 -91 \n",
       "Q 1078 -91 686 257 \n",
       "Q 294 606 294 1247 \n",
       "Q 294 1794 489 2264 \n",
       "Q 684 2734 1063 3103 \n",
       "Q 1306 3334 1642 3459 \n",
       "Q 1978 3584 2356 3584 \n",
       "Q 2950 3584 3301 3228 \n",
       "Q 3653 2872 3653 2272 \n",
       "Q 3653 2128 3634 1964 \n",
       "Q 3616 1800 3578 1613 \n",
       "z\n",
       "\" transform=\"scale(0.015625)\"/>\n",
       "       <path id=\"DejaVuSans-Oblique-61\" d=\"M 3438 1997 \n",
       "L 3047 0 \n",
       "L 2472 0 \n",
       "L 2578 531 \n",
       "Q 2325 219 2001 64 \n",
       "Q 1678 -91 1281 -91 \n",
       "Q 834 -91 548 182 \n",
       "Q 263 456 263 884 \n",
       "Q 263 1497 752 1853 \n",
       "Q 1241 2209 2100 2209 \n",
       "L 2900 2209 \n",
       "L 2931 2363 \n",
       "Q 2938 2388 2941 2417 \n",
       "Q 2944 2447 2944 2509 \n",
       "Q 2944 2788 2717 2942 \n",
       "Q 2491 3097 2081 3097 \n",
       "Q 1800 3097 1504 3025 \n",
       "Q 1209 2953 897 2809 \n",
       "L 997 3341 \n",
       "Q 1322 3463 1633 3523 \n",
       "Q 1944 3584 2234 3584 \n",
       "Q 2853 3584 3176 3315 \n",
       "Q 3500 3047 3500 2534 \n",
       "Q 3500 2431 3484 2292 \n",
       "Q 3469 2153 3438 1997 \n",
       "z\n",
       "M 2816 1759 \n",
       "L 2241 1759 \n",
       "Q 1534 1759 1195 1570 \n",
       "Q 856 1381 856 984 \n",
       "Q 856 709 1029 553 \n",
       "Q 1203 397 1509 397 \n",
       "Q 1978 397 2328 733 \n",
       "Q 2678 1069 2791 1631 \n",
       "L 2816 1759 \n",
       "z\n",
       "\" transform=\"scale(0.015625)\"/>\n",
       "       <path id=\"DejaVuSans-Oblique-72\" d=\"M 2853 2969 \n",
       "Q 2766 3016 2653 3041 \n",
       "Q 2541 3066 2413 3066 \n",
       "Q 1953 3066 1609 2717 \n",
       "Q 1266 2369 1153 1784 \n",
       "L 800 0 \n",
       "L 225 0 \n",
       "L 909 3500 \n",
       "L 1484 3500 \n",
       "L 1375 2956 \n",
       "Q 1603 3259 1920 3421 \n",
       "Q 2238 3584 2597 3584 \n",
       "Q 2691 3584 2781 3573 \n",
       "Q 2872 3563 2963 3538 \n",
       "L 2853 2969 \n",
       "z\n",
       "\" transform=\"scale(0.015625)\"/>\n",
       "       <path id=\"DejaVuSans-29\" d=\"M 513 4856 \n",
       "L 1013 4856 \n",
       "Q 1481 4119 1714 3412 \n",
       "Q 1947 2706 1947 2009 \n",
       "Q 1947 1309 1714 600 \n",
       "Q 1481 -109 1013 -844 \n",
       "L 513 -844 \n",
       "Q 928 -128 1133 580 \n",
       "Q 1338 1288 1338 2009 \n",
       "Q 1338 2731 1133 3434 \n",
       "Q 928 4138 513 4856 \n",
       "z\n",
       "\" transform=\"scale(0.015625)\"/>\n",
       "      </defs>\n",
       "      <use xlink:href=\"#DejaVuSans-394\" transform=\"translate(0 0.125)\"/>\n",
       "      <use xlink:href=\"#DejaVuSans-Oblique-54\" transform=\"translate(84.643879 0.125)\"/>\n",
       "      <use xlink:href=\"#DejaVuSans-28\" transform=\"translate(145.727864 0.125)\"/>\n",
       "      <use xlink:href=\"#DejaVuSans-Oblique-79\" transform=\"translate(184.741536 0.125)\"/>\n",
       "      <use xlink:href=\"#DejaVuSans-Oblique-65\" transform=\"translate(243.921223 0.125)\"/>\n",
       "      <use xlink:href=\"#DejaVuSans-Oblique-61\" transform=\"translate(305.444661 0.125)\"/>\n",
       "      <use xlink:href=\"#DejaVuSans-Oblique-72\" transform=\"translate(366.723958 0.125)\"/>\n",
       "      <use xlink:href=\"#DejaVuSans-29\" transform=\"translate(407.837239 0.125)\"/>\n",
       "     </g>\n",
       "    </g>\n",
       "   </g>\n",
       "   <g id=\"LineCollection_1\">\n",
       "    <path d=\"M 257.858143 254.996883 \n",
       "L 284.642143 254.996883 \n",
       "\" clip-path=\"url(#pb6ec2ae24c)\" style=\"fill: none; stroke: #000000; stroke-width: 1.5\"/>\n",
       "    <path clip-path=\"url(#pb6ec2ae24c)\" style=\"fill: none; stroke: #000000; stroke-width: 1.5\"/>\n",
       "    <path d=\"M 257.858143 191.459221 \n",
       "L 285.917571 191.459221 \n",
       "\" clip-path=\"url(#pb6ec2ae24c)\" style=\"fill: none; stroke: #000000; stroke-width: 1.5\"/>\n",
       "    <path d=\"M 182.607857 127.921558 \n",
       "L 213.218143 127.921558 \n",
       "\" clip-path=\"url(#pb6ec2ae24c)\" style=\"fill: none; stroke: #000000; stroke-width: 1.5\"/>\n",
       "    <path d=\"M 293.570143 85.563117 \n",
       "L 338.210143 85.563117 \n",
       "\" clip-path=\"url(#pb6ec2ae24c)\" style=\"fill: none; stroke: #000000; stroke-width: 1.5\"/>\n",
       "    <path d=\"M 206.841 85.563117 \n",
       "L 238.726714 85.563117 \n",
       "\" clip-path=\"url(#pb6ec2ae24c)\" style=\"fill: none; stroke: #000000; stroke-width: 1.5\"/>\n",
       "    <path d=\"M 199.188429 212.638442 \n",
       "L 248.930143 212.638442 \n",
       "\" clip-path=\"url(#pb6ec2ae24c)\" style=\"fill: none; stroke: #000000; stroke-width: 1.5\"/>\n",
       "    <path d=\"M 308.875286 127.921558 \n",
       "L 348.413571 127.921558 \n",
       "\" clip-path=\"url(#pb6ec2ae24c)\" style=\"fill: none; stroke: #000000; stroke-width: 1.5\"/>\n",
       "    <path d=\"M 259.133571 254.996883 \n",
       "L 287.193 254.996883 \n",
       "\" clip-path=\"url(#pb6ec2ae24c)\" style=\"fill: none; stroke: #000000; stroke-width: 1.5\"/>\n",
       "    <path d=\"M 297.396429 43.204675 \n",
       "L 326.731286 43.204675 \n",
       "\" clip-path=\"url(#pb6ec2ae24c)\" style=\"fill: none; stroke: #000000; stroke-width: 1.5\"/>\n",
       "    <path d=\"M 201.739286 85.563117 \n",
       "L 224.697 85.563117 \n",
       "\" clip-path=\"url(#pb6ec2ae24c)\" style=\"fill: none; stroke: #000000; stroke-width: 1.5\"/>\n",
       "    <path d=\"M 186.434143 106.742338 \n",
       "L 220.870714 106.742338 \n",
       "\" clip-path=\"url(#pb6ec2ae24c)\" style=\"fill: none; stroke: #000000; stroke-width: 1.5\"/>\n",
       "    <path d=\"M 192.811286 22.025455 \n",
       "L 232.349571 22.025455 \n",
       "\" clip-path=\"url(#pb6ec2ae24c)\" style=\"fill: none; stroke: #000000; stroke-width: 1.5\"/>\n",
       "    <path d=\"M 384.125571 43.204675 \n",
       "L 408.358714 43.204675 \n",
       "\" clip-path=\"url(#pb6ec2ae24c)\" style=\"fill: none; stroke: #000000; stroke-width: 1.5\"/>\n",
       "    <path d=\"M 324.180429 64.383896 \n",
       "L 359.892429 64.383896 \n",
       "\" clip-path=\"url(#pb6ec2ae24c)\" style=\"fill: none; stroke: #000000; stroke-width: 1.5\"/>\n",
       "    <path d=\"M 218.319857 85.563117 \n",
       "L 245.103857 85.563117 \n",
       "\" clip-path=\"url(#pb6ec2ae24c)\" style=\"fill: none; stroke: #000000; stroke-width: 1.5\"/>\n",
       "    <path d=\"M 181.332429 43.204675 \n",
       "L 225.972429 43.204675 \n",
       "\" clip-path=\"url(#pb6ec2ae24c)\" style=\"fill: none; stroke: #000000; stroke-width: 1.5\"/>\n",
       "    <path d=\"M 185.158714 318.534545 \n",
       "L 217.044429 318.534545 \n",
       "\" clip-path=\"url(#pb6ec2ae24c)\" style=\"fill: none; stroke: #000000; stroke-width: 1.5\"/>\n",
       "    <path d=\"M 225.972429 191.459221 \n",
       "L 254.031857 191.459221 \n",
       "\" clip-path=\"url(#pb6ec2ae24c)\" style=\"fill: none; stroke: #000000; stroke-width: 1.5\"/>\n",
       "    <path d=\"M 98.429571 43.204675 \n",
       "L 125.213571 43.204675 \n",
       "\" clip-path=\"url(#pb6ec2ae24c)\" style=\"fill: none; stroke: #000000; stroke-width: 1.5\"/>\n",
       "    <path d=\"M 217.044429 233.817662 \n",
       "L 243.828429 233.817662 \n",
       "\" clip-path=\"url(#pb6ec2ae24c)\" style=\"fill: none; stroke: #000000; stroke-width: 1.5\"/>\n",
       "    <path d=\"M 211.942714 149.100779 \n",
       "L 238.726714 149.100779 \n",
       "\" clip-path=\"url(#pb6ec2ae24c)\" style=\"fill: none; stroke: #000000; stroke-width: 1.5\"/>\n",
       "    <path d=\"M 201.739286 64.383896 \n",
       "L 224.697 64.383896 \n",
       "\" clip-path=\"url(#pb6ec2ae24c)\" style=\"fill: none; stroke: #000000; stroke-width: 1.5\"/>\n",
       "    <path d=\"M 287.193 191.459221 \n",
       "L 316.527857 191.459221 \n",
       "\" clip-path=\"url(#pb6ec2ae24c)\" style=\"fill: none; stroke: #000000; stroke-width: 1.5\"/>\n",
       "    <path d=\"M 291.019286 127.921558 \n",
       "L 328.006714 127.921558 \n",
       "\" clip-path=\"url(#pb6ec2ae24c)\" style=\"fill: none; stroke: #000000; stroke-width: 1.5\"/>\n",
       "    <path d=\"M 155.823857 170.28 \n",
       "L 178.781571 170.28 \n",
       "\" clip-path=\"url(#pb6ec2ae24c)\" style=\"fill: none; stroke: #000000; stroke-width: 1.5\"/>\n",
       "   </g>\n",
       "   <g id=\"line2d_24\">\n",
       "    <defs>\n",
       "     <path id=\"m1d4c1c0d92\" d=\"M 0 1.5 \n",
       "C 0.397805 1.5 0.77937 1.341951 1.06066 1.06066 \n",
       "C 1.341951 0.77937 1.5 0.397805 1.5 0 \n",
       "C 1.5 -0.397805 1.341951 -0.77937 1.06066 -1.06066 \n",
       "C 0.77937 -1.341951 0.397805 -1.5 0 -1.5 \n",
       "C -0.397805 -1.5 -0.77937 -1.341951 -1.06066 -1.06066 \n",
       "C -1.341951 -0.77937 -1.5 -0.397805 -1.5 0 \n",
       "C -1.5 0.397805 -1.341951 0.77937 -1.06066 1.06066 \n",
       "C -0.77937 1.341951 -0.397805 1.5 0 1.5 \n",
       "z\n",
       "\" style=\"stroke: #000000\"/>\n",
       "    </defs>\n",
       "    <g clip-path=\"url(#pb6ec2ae24c)\">\n",
       "     <use xlink:href=\"#m1d4c1c0d92\" x=\"271.887857\" y=\"254.996883\" style=\"stroke: #000000\"/>\n",
       "     <use xlink:href=\"#m1d4c1c0d92\" x=\"-1\" y=\"225.571825\" style=\"stroke: #000000\"/>\n",
       "     <use xlink:href=\"#m1d4c1c0d92\" x=\"-1\" y=\"179.649524\" style=\"stroke: #000000\"/>\n",
       "     <use xlink:href=\"#m1d4c1c0d92\" x=\"273.163286\" y=\"191.459221\" style=\"stroke: #000000\"/>\n",
       "     <use xlink:href=\"#m1d4c1c0d92\" x=\"199.188429\" y=\"127.921558\" style=\"stroke: #000000\"/>\n",
       "     <use xlink:href=\"#m1d4c1c0d92\" x=\"316.527857\" y=\"85.563117\" style=\"stroke: #000000\"/>\n",
       "     <use xlink:href=\"#m1d4c1c0d92\" x=\"223.421571\" y=\"85.563117\" style=\"stroke: #000000\"/>\n",
       "     <use xlink:href=\"#m1d4c1c0d92\" x=\"224.697\" y=\"212.638442\" style=\"stroke: #000000\"/>\n",
       "     <use xlink:href=\"#m1d4c1c0d92\" x=\"329.282143\" y=\"127.921558\" style=\"stroke: #000000\"/>\n",
       "     <use xlink:href=\"#m1d4c1c0d92\" x=\"274.438714\" y=\"254.996883\" style=\"stroke: #000000\"/>\n",
       "     <use xlink:href=\"#m1d4c1c0d92\" x=\"312.701571\" y=\"43.204675\" style=\"stroke: #000000\"/>\n",
       "     <use xlink:href=\"#m1d4c1c0d92\" x=\"214.493571\" y=\"85.563117\" style=\"stroke: #000000\"/>\n",
       "     <use xlink:href=\"#m1d4c1c0d92\" x=\"204.290143\" y=\"106.742338\" style=\"stroke: #000000\"/>\n",
       "     <use xlink:href=\"#m1d4c1c0d92\" x=\"213.218143\" y=\"22.025455\" style=\"stroke: #000000\"/>\n",
       "     <use xlink:href=\"#m1d4c1c0d92\" x=\"396.879857\" y=\"43.204675\" style=\"stroke: #000000\"/>\n",
       "     <use xlink:href=\"#m1d4c1c0d92\" x=\"343.311857\" y=\"64.383896\" style=\"stroke: #000000\"/>\n",
       "     <use xlink:href=\"#m1d4c1c0d92\" x=\"232.349571\" y=\"85.563117\" style=\"stroke: #000000\"/>\n",
       "     <use xlink:href=\"#m1d4c1c0d92\" x=\"204.290143\" y=\"43.204675\" style=\"stroke: #000000\"/>\n",
       "     <use xlink:href=\"#m1d4c1c0d92\" x=\"201.739286\" y=\"318.534545\" style=\"stroke: #000000\"/>\n",
       "     <use xlink:href=\"#m1d4c1c0d92\" x=\"241.277571\" y=\"191.459221\" style=\"stroke: #000000\"/>\n",
       "     <use xlink:href=\"#m1d4c1c0d92\" x=\"112.459286\" y=\"43.204675\" style=\"stroke: #000000\"/>\n",
       "     <use xlink:href=\"#m1d4c1c0d92\" x=\"231.074143\" y=\"233.817662\" style=\"stroke: #000000\"/>\n",
       "     <use xlink:href=\"#m1d4c1c0d92\" x=\"225.972429\" y=\"149.100779\" style=\"stroke: #000000\"/>\n",
       "     <use xlink:href=\"#m1d4c1c0d92\" x=\"214.493571\" y=\"64.383896\" style=\"stroke: #000000\"/>\n",
       "     <use xlink:href=\"#m1d4c1c0d92\" x=\"302.498143\" y=\"191.459221\" style=\"stroke: #000000\"/>\n",
       "     <use xlink:href=\"#m1d4c1c0d92\" x=\"310.150714\" y=\"127.921558\" style=\"stroke: #000000\"/>\n",
       "     <use xlink:href=\"#m1d4c1c0d92\" x=\"168.578143\" y=\"170.28\" style=\"stroke: #000000\"/>\n",
       "    </g>\n",
       "   </g>\n",
       "   <g id=\"patch_3\">\n",
       "    <path d=\"M 55.065 333.36 \n",
       "L 55.065 7.2 \n",
       "\" style=\"fill: none; stroke: #000000; stroke-width: 2; stroke-linejoin: miter; stroke-linecap: square\"/>\n",
       "   </g>\n",
       "   <g id=\"patch_4\">\n",
       "    <path d=\"M 501.465 333.36 \n",
       "L 501.465 7.2 \n",
       "\" style=\"fill: none; stroke: #000000; stroke-width: 2; stroke-linejoin: miter; stroke-linecap: square\"/>\n",
       "   </g>\n",
       "   <g id=\"patch_5\">\n",
       "    <path d=\"M 55.065 333.36 \n",
       "L 501.465 333.36 \n",
       "\" style=\"fill: none; stroke: #000000; stroke-width: 2; stroke-linejoin: miter; stroke-linecap: square\"/>\n",
       "   </g>\n",
       "   <g id=\"patch_6\">\n",
       "    <path d=\"M 55.065 7.2 \n",
       "L 501.465 7.2 \n",
       "\" style=\"fill: none; stroke: #000000; stroke-width: 2; stroke-linejoin: miter; stroke-linecap: square\"/>\n",
       "   </g>\n",
       "   <g id=\"legend_1\">\n",
       "    <g id=\"patch_7\">\n",
       "     <path d=\"M 335.069 35.407538 \n",
       "L 470.152437 35.407538 \n",
       "Q 472.352437 35.407538 472.352437 33.207538 \n",
       "L 472.352437 18.1616 \n",
       "Q 472.352437 15.9616 470.152437 15.9616 \n",
       "L 335.069 15.9616 \n",
       "Q 332.869 15.9616 332.869 18.1616 \n",
       "L 332.869 33.207538 \n",
       "Q 332.869 35.407538 335.069 35.407538 \n",
       "z\n",
       "\" style=\"fill: #ffffff; opacity: 0.8; stroke: #cccccc; stroke-linejoin: miter\"/>\n",
       "    </g>\n",
       "    <g id=\"LineCollection_2\">\n",
       "     <path d=\"M 342.769 24.869881 \n",
       "L 353.769 24.869881 \n",
       "\" style=\"fill: none; stroke: #000000; stroke-width: 1.5\"/>\n",
       "    </g>\n",
       "    <g id=\"line2d_25\"/>\n",
       "    <g id=\"line2d_26\">\n",
       "     <g>\n",
       "      <use xlink:href=\"#m1d4c1c0d92\" x=\"348.269\" y=\"24.869881\" style=\"stroke: #000000\"/>\n",
       "     </g>\n",
       "    </g>\n",
       "    <g id=\"text_18\">\n",
       "     <!-- turning-off CLAGN -->\n",
       "     <g transform=\"translate(368.069 28.719881)scale(0.11 -0.11)\">\n",
       "      <defs>\n",
       "       <path id=\"DejaVuSans-74\" d=\"M 1172 4494 \n",
       "L 1172 3500 \n",
       "L 2356 3500 \n",
       "L 2356 3053 \n",
       "L 1172 3053 \n",
       "L 1172 1153 \n",
       "Q 1172 725 1289 603 \n",
       "Q 1406 481 1766 481 \n",
       "L 2356 481 \n",
       "L 2356 0 \n",
       "L 1766 0 \n",
       "Q 1100 0 847 248 \n",
       "Q 594 497 594 1153 \n",
       "L 594 3053 \n",
       "L 172 3053 \n",
       "L 172 3500 \n",
       "L 594 3500 \n",
       "L 594 4494 \n",
       "L 1172 4494 \n",
       "z\n",
       "\" transform=\"scale(0.015625)\"/>\n",
       "       <path id=\"DejaVuSans-75\" d=\"M 544 1381 \n",
       "L 544 3500 \n",
       "L 1119 3500 \n",
       "L 1119 1403 \n",
       "Q 1119 906 1312 657 \n",
       "Q 1506 409 1894 409 \n",
       "Q 2359 409 2629 706 \n",
       "Q 2900 1003 2900 1516 \n",
       "L 2900 3500 \n",
       "L 3475 3500 \n",
       "L 3475 0 \n",
       "L 2900 0 \n",
       "L 2900 538 \n",
       "Q 2691 219 2414 64 \n",
       "Q 2138 -91 1772 -91 \n",
       "Q 1169 -91 856 284 \n",
       "Q 544 659 544 1381 \n",
       "z\n",
       "M 1991 3584 \n",
       "L 1991 3584 \n",
       "z\n",
       "\" transform=\"scale(0.015625)\"/>\n",
       "       <path id=\"DejaVuSans-72\" d=\"M 2631 2963 \n",
       "Q 2534 3019 2420 3045 \n",
       "Q 2306 3072 2169 3072 \n",
       "Q 1681 3072 1420 2755 \n",
       "Q 1159 2438 1159 1844 \n",
       "L 1159 0 \n",
       "L 581 0 \n",
       "L 581 3500 \n",
       "L 1159 3500 \n",
       "L 1159 2956 \n",
       "Q 1341 3275 1631 3429 \n",
       "Q 1922 3584 2338 3584 \n",
       "Q 2397 3584 2469 3576 \n",
       "Q 2541 3569 2628 3553 \n",
       "L 2631 2963 \n",
       "z\n",
       "\" transform=\"scale(0.015625)\"/>\n",
       "       <path id=\"DejaVuSans-6e\" d=\"M 3513 2113 \n",
       "L 3513 0 \n",
       "L 2938 0 \n",
       "L 2938 2094 \n",
       "Q 2938 2591 2744 2837 \n",
       "Q 2550 3084 2163 3084 \n",
       "Q 1697 3084 1428 2787 \n",
       "Q 1159 2491 1159 1978 \n",
       "L 1159 0 \n",
       "L 581 0 \n",
       "L 581 3500 \n",
       "L 1159 3500 \n",
       "L 1159 2956 \n",
       "Q 1366 3272 1645 3428 \n",
       "Q 1925 3584 2291 3584 \n",
       "Q 2894 3584 3203 3211 \n",
       "Q 3513 2838 3513 2113 \n",
       "z\n",
       "\" transform=\"scale(0.015625)\"/>\n",
       "       <path id=\"DejaVuSans-69\" d=\"M 603 3500 \n",
       "L 1178 3500 \n",
       "L 1178 0 \n",
       "L 603 0 \n",
       "L 603 3500 \n",
       "z\n",
       "M 603 4863 \n",
       "L 1178 4863 \n",
       "L 1178 4134 \n",
       "L 603 4134 \n",
       "L 603 4863 \n",
       "z\n",
       "\" transform=\"scale(0.015625)\"/>\n",
       "       <path id=\"DejaVuSans-2d\" d=\"M 313 2009 \n",
       "L 1997 2009 \n",
       "L 1997 1497 \n",
       "L 313 1497 \n",
       "L 313 2009 \n",
       "z\n",
       "\" transform=\"scale(0.015625)\"/>\n",
       "       <path id=\"DejaVuSans-66\" d=\"M 2375 4863 \n",
       "L 2375 4384 \n",
       "L 1825 4384 \n",
       "Q 1516 4384 1395 4259 \n",
       "Q 1275 4134 1275 3809 \n",
       "L 1275 3500 \n",
       "L 2222 3500 \n",
       "L 2222 3053 \n",
       "L 1275 3053 \n",
       "L 1275 0 \n",
       "L 697 0 \n",
       "L 697 3053 \n",
       "L 147 3053 \n",
       "L 147 3500 \n",
       "L 697 3500 \n",
       "L 697 3744 \n",
       "Q 697 4328 969 4595 \n",
       "Q 1241 4863 1831 4863 \n",
       "L 2375 4863 \n",
       "z\n",
       "\" transform=\"scale(0.015625)\"/>\n",
       "       <path id=\"DejaVuSans-43\" d=\"M 4122 4306 \n",
       "L 4122 3641 \n",
       "Q 3803 3938 3442 4084 \n",
       "Q 3081 4231 2675 4231 \n",
       "Q 1875 4231 1450 3742 \n",
       "Q 1025 3253 1025 2328 \n",
       "Q 1025 1406 1450 917 \n",
       "Q 1875 428 2675 428 \n",
       "Q 3081 428 3442 575 \n",
       "Q 3803 722 4122 1019 \n",
       "L 4122 359 \n",
       "Q 3791 134 3420 21 \n",
       "Q 3050 -91 2638 -91 \n",
       "Q 1578 -91 968 557 \n",
       "Q 359 1206 359 2328 \n",
       "Q 359 3453 968 4101 \n",
       "Q 1578 4750 2638 4750 \n",
       "Q 3056 4750 3426 4639 \n",
       "Q 3797 4528 4122 4306 \n",
       "z\n",
       "\" transform=\"scale(0.015625)\"/>\n",
       "       <path id=\"DejaVuSans-4c\" d=\"M 628 4666 \n",
       "L 1259 4666 \n",
       "L 1259 531 \n",
       "L 3531 531 \n",
       "L 3531 0 \n",
       "L 628 0 \n",
       "L 628 4666 \n",
       "z\n",
       "\" transform=\"scale(0.015625)\"/>\n",
       "       <path id=\"DejaVuSans-41\" d=\"M 2188 4044 \n",
       "L 1331 1722 \n",
       "L 3047 1722 \n",
       "L 2188 4044 \n",
       "z\n",
       "M 1831 4666 \n",
       "L 2547 4666 \n",
       "L 4325 0 \n",
       "L 3669 0 \n",
       "L 3244 1197 \n",
       "L 1141 1197 \n",
       "L 716 0 \n",
       "L 50 0 \n",
       "L 1831 4666 \n",
       "z\n",
       "\" transform=\"scale(0.015625)\"/>\n",
       "       <path id=\"DejaVuSans-47\" d=\"M 3809 666 \n",
       "L 3809 1919 \n",
       "L 2778 1919 \n",
       "L 2778 2438 \n",
       "L 4434 2438 \n",
       "L 4434 434 \n",
       "Q 4069 175 3628 42 \n",
       "Q 3188 -91 2688 -91 \n",
       "Q 1594 -91 976 548 \n",
       "Q 359 1188 359 2328 \n",
       "Q 359 3472 976 4111 \n",
       "Q 1594 4750 2688 4750 \n",
       "Q 3144 4750 3555 4637 \n",
       "Q 3966 4525 4313 4306 \n",
       "L 4313 3634 \n",
       "Q 3963 3931 3569 4081 \n",
       "Q 3175 4231 2741 4231 \n",
       "Q 1884 4231 1454 3753 \n",
       "Q 1025 3275 1025 2328 \n",
       "Q 1025 1384 1454 906 \n",
       "Q 1884 428 2741 428 \n",
       "Q 3075 428 3337 486 \n",
       "Q 3600 544 3809 666 \n",
       "z\n",
       "\" transform=\"scale(0.015625)\"/>\n",
       "       <path id=\"DejaVuSans-4e\" d=\"M 628 4666 \n",
       "L 1478 4666 \n",
       "L 3547 763 \n",
       "L 3547 4666 \n",
       "L 4159 4666 \n",
       "L 4159 0 \n",
       "L 3309 0 \n",
       "L 1241 3903 \n",
       "L 1241 0 \n",
       "L 628 0 \n",
       "L 628 4666 \n",
       "z\n",
       "\" transform=\"scale(0.015625)\"/>\n",
       "      </defs>\n",
       "      <use xlink:href=\"#DejaVuSans-74\"/>\n",
       "      <use xlink:href=\"#DejaVuSans-75\" x=\"39.208984\"/>\n",
       "      <use xlink:href=\"#DejaVuSans-72\" x=\"102.587891\"/>\n",
       "      <use xlink:href=\"#DejaVuSans-6e\" x=\"141.951172\"/>\n",
       "      <use xlink:href=\"#DejaVuSans-69\" x=\"205.330078\"/>\n",
       "      <use xlink:href=\"#DejaVuSans-6e\" x=\"233.113281\"/>\n",
       "      <use xlink:href=\"#DejaVuSans-67\" x=\"296.492188\"/>\n",
       "      <use xlink:href=\"#DejaVuSans-2d\" x=\"359.96875\"/>\n",
       "      <use xlink:href=\"#DejaVuSans-6f\" x=\"397.927734\"/>\n",
       "      <use xlink:href=\"#DejaVuSans-66\" x=\"459.109375\"/>\n",
       "      <use xlink:href=\"#DejaVuSans-66\" x=\"494.314453\"/>\n",
       "      <use xlink:href=\"#DejaVuSans-20\" x=\"529.519531\"/>\n",
       "      <use xlink:href=\"#DejaVuSans-43\" x=\"561.306641\"/>\n",
       "      <use xlink:href=\"#DejaVuSans-4c\" x=\"631.130859\"/>\n",
       "      <use xlink:href=\"#DejaVuSans-41\" x=\"689.09375\"/>\n",
       "      <use xlink:href=\"#DejaVuSans-47\" x=\"755.751953\"/>\n",
       "      <use xlink:href=\"#DejaVuSans-4e\" x=\"833.242188\"/>\n",
       "     </g>\n",
       "    </g>\n",
       "   </g>\n",
       "  </g>\n",
       " </g>\n",
       " <defs>\n",
       "  <clipPath id=\"pb6ec2ae24c\">\n",
       "   <rect x=\"55.065\" y=\"7.2\" width=\"446.4\" height=\"326.16\"/>\n",
       "  </clipPath>\n",
       " </defs>\n",
       "</svg>\n"
      ],
      "text/plain": [
       "<Figure size 576x432 with 1 Axes>"
      ]
     },
     "metadata": {
      "needs_background": "light"
     },
     "output_type": "display_data"
    }
   ],
   "source": [
    "#save_lc_img_dir=os.getcwd()\n",
    "save_lc_img_dir='/home/brettlv/Downloads/arxiv_source_code/A Systematic Analysis of Stellar Populations in the Host Galaxies of Changing-look AGNs2112.07284'\n",
    "if not os.path.exists(save_lc_img_dir):\n",
    "    os.mkdir(save_lc_img_dir)\n",
    "    \n",
    "#search_name=name_test.replace(' ','') \n",
    "#save_name=search_name.strip()\n",
    "save_lc_img_path=os.path.join(save_lc_img_dir,'time_Mbh.png')  \n",
    "    \n",
    "\n",
    "#for index,name_test in enumerate(namelist) :\n",
    "    #print(name_test)\n",
    "fig = plt.figure(figsize=(8,6))\n",
    "fig.subplots_adjust(hspace=0.0, wspace = 0.0)\n",
    "ax = fig.add_subplot(111) \n",
    "\n",
    "      \n",
    "ax.errorbar(x=turnoffCLAGN['mass'],\n",
    "                    y=turnoffCLAGN['time'],\n",
    "                    xerr=[turnoffCLAGN['mass_upper'],turnoffCLAGN['mass_lower']],\n",
    "                    fmt='.',\n",
    "                    color='black',label='turning-off CLAGN')\n",
    "        \n",
    "ax.xaxis.set_tick_params(which='major', size=10, width=2, direction='in', top='on',)\n",
    "ax.xaxis.set_tick_params(which='minor', size=5, width=2, direction='in', top='on')\n",
    "ax.yaxis.set_tick_params(which='major', size=10, width=2, direction='in', )\n",
    "ax.yaxis.set_tick_params(which='minor', size=5, width=2, direction='in',)\n",
    "\n",
    "'''bottom, top = ax.set_ylim() \n",
    "if bottom< top:\n",
    "    ax.set_ylim(top,bottom)\n",
    "'''  \n",
    "ax.set_xlim(6,9.5)\n",
    "\n",
    "#ax.set_xlabel('mjd')\n",
    "ax.set_xlabel(r'log $M_\\mathrm{BH}$')\n",
    "ax.set_ylabel(r'$\\Delta\\,T(year)$')\n",
    "\n",
    "handles, labels = ax.get_legend_handles_labels()\n",
    "# remove the errorbars\n",
    "#hdl = [h[0] for h in handles]\n",
    "hdl=handles\n",
    "labels_dict=dict(zip(labels, hdl)) #key,values\n",
    "by_label=OrderedDict(sorted(labels_dict.items(),key=lambda t:t[0]))\n",
    "ax.legend(by_label.values(), by_label.keys(), bbox_to_anchor=(0.61, 0.99),\n",
    "      loc=2, numpoints=1,ncol=1,fontsize=11.)  \n",
    "\n",
    "plt.savefig(save_lc_img_path,dpi=400, transparent=False, bbox_inches='tight')\n",
    "#plt.close()    "
   ]
  },
  {
   "cell_type": "code",
   "execution_count": 112,
   "metadata": {
    "ExecuteTime": {
     "end_time": "2022-05-26T11:25:50.477493Z",
     "start_time": "2022-05-26T11:25:50.467773Z"
    }
   },
   "outputs": [
    {
     "name": "stdout",
     "output_type": "stream",
     "text": [
      " 7.70^{+ 0.11}_{- 0.10} \n",
      " 7.71^{+ 0.12}_{- 0.10} \n",
      " 7.13^{+ 0.13}_{- 0.11} \n",
      " 8.05^{+ 0.18}_{- 0.17} \n",
      " 7.32^{+ 0.13}_{- 0.12} \n",
      " 7.33^{+ 0.20}_{- 0.19} \n",
      " 8.15^{+ 0.16}_{- 0.15} \n",
      " 7.72^{+ 0.12}_{- 0.10} \n",
      " 8.02^{+ 0.12}_{- 0.11} \n",
      " 7.25^{+ 0.10}_{- 0.08} \n",
      " 7.17^{+ 0.14}_{- 0.13} \n",
      " 7.24^{+ 0.16}_{- 0.15} \n",
      " 8.68^{+ 0.10}_{- 0.09} \n",
      " 8.26^{+ 0.15}_{- 0.13} \n",
      " 7.39^{+ 0.11}_{- 0.10} \n",
      " 7.17^{+ 0.18}_{- 0.17} \n",
      " 7.15^{+ 0.13}_{- 0.12} \n",
      " 7.46^{+ 0.12}_{- 0.10} \n",
      " 6.45^{+ 0.11}_{- 0.10} \n",
      " 7.38^{+ 0.11}_{- 0.10} \n",
      " 7.34^{+ 0.11}_{- 0.10} \n",
      " 7.25^{+ 0.10}_{- 0.08} \n",
      " 7.94^{+ 0.12}_{- 0.11} \n",
      " 8.00^{+ 0.15}_{- 0.14} \n",
      " 6.89^{+ 0.10}_{- 0.08} \n"
     ]
    }
   ],
   "source": [
    "for i,j in zip(turnoffCLAGN[turnoffCLAGN.columns[-3]],turnoffCLAGN[turnoffCLAGN.columns[-2]]):\n",
    "    if i!='  -- ':\n",
    "        mass_string=i.split('$')[1]\n",
    "        print(mass_string)"
   ]
  },
  {
   "cell_type": "code",
   "execution_count": 118,
   "metadata": {
    "ExecuteTime": {
     "end_time": "2022-05-26T11:30:43.509391Z",
     "start_time": "2022-05-26T11:30:43.487249Z"
    }
   },
   "outputs": [
    {
     "name": "stdout",
     "output_type": "stream",
     "text": [
      "7.7 0.11 0.1 6.0\n",
      "7.71 0.12 0.1 9.0\n",
      "7.13 0.13 0.11 12.0\n",
      "8.05 0.18 0.17 14.0\n",
      "7.32 0.13 0.12 14.0\n",
      "7.33 0.2 0.19 8.0\n",
      "8.15 0.16 0.15 12.0\n",
      "7.72 0.12 0.1 6.0\n",
      "8.02 0.12 0.11 16.0\n",
      "7.25 0.1 0.08 14.0\n",
      "7.17 0.14 0.13 13.0\n",
      "7.24 0.16 0.15 17.0\n",
      "8.68 0.1 0.09 16.0\n",
      "8.26 0.15 0.13 15.0\n",
      "7.39 0.11 0.1 14.0\n",
      "7.17 0.18 0.17 16.0\n",
      "7.15 0.13 0.12 3.0\n",
      "7.46 0.12 0.1 9.0\n",
      "6.45 0.11 0.1 16.0\n",
      "7.38 0.11 0.1 7.0\n",
      "7.34 0.11 0.1 11.0\n",
      "7.25 0.1 0.08 15.0\n",
      "7.94 0.12 0.11 9.0\n",
      "8.0 0.15 0.14 12.0\n",
      "6.89 0.1 0.08 10.0\n"
     ]
    }
   ],
   "source": [
    "for i,j in zip(turnoffCLAGN[turnoffCLAGN.columns[-3]],turnoffCLAGN[turnoffCLAGN.columns[-2]]):\n",
    "    if i!='  -- ':\n",
    "        mass_string=i.split('$')[1]\n",
    "        #print(mass_string)\n",
    "        mass=float(mass_string.split('^')[0])\n",
    "        mass_upper=float(mass_string.split('^{+')[1].split('}_{-')[0])\n",
    "        mass_lower=float(mass_string.split('_{-')[1].split('}')[0])\n",
    "        print(mass,mass_upper,mass_lower,j)"
   ]
  },
  {
   "cell_type": "code",
   "execution_count": null,
   "metadata": {},
   "outputs": [],
   "source": []
  },
  {
   "cell_type": "code",
   "execution_count": null,
   "metadata": {},
   "outputs": [],
   "source": []
  }
 ],
 "metadata": {
  "kernelspec": {
   "display_name": "Python 3 (ipykernel)",
   "language": "python",
   "name": "python3"
  },
  "language_info": {
   "codemirror_mode": {
    "name": "ipython",
    "version": 3
   },
   "file_extension": ".py",
   "mimetype": "text/x-python",
   "name": "python",
   "nbconvert_exporter": "python",
   "pygments_lexer": "ipython3",
   "version": "3.9.12"
  },
  "latex_envs": {
   "LaTeX_envs_menu_present": true,
   "autoclose": false,
   "autocomplete": true,
   "bibliofile": "biblio.bib",
   "cite_by": "apalike",
   "current_citInitial": 1,
   "eqLabelWithNumbers": true,
   "eqNumInitial": 1,
   "hotkeys": {
    "equation": "Ctrl-E",
    "itemize": "Ctrl-I"
   },
   "labels_anchors": false,
   "latex_user_defs": false,
   "report_style_numbering": false,
   "user_envs_cfg": false
  },
  "toc": {
   "base_numbering": 1,
   "nav_menu": {},
   "number_sections": true,
   "sideBar": true,
   "skip_h1_title": false,
   "title_cell": "Table of Contents",
   "title_sidebar": "Contents",
   "toc_cell": true,
   "toc_position": {
    "height": "calc(100% - 180px)",
    "left": "10px",
    "top": "150px",
    "width": "197px"
   },
   "toc_section_display": true,
   "toc_window_display": true
  }
 },
 "nbformat": 4,
 "nbformat_minor": 2
}
