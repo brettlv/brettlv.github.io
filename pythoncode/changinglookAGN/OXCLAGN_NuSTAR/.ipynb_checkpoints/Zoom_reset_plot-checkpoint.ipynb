{
 "cells": [
  {
   "cell_type": "code",
   "execution_count": null,
   "id": "2d58534c",
   "metadata": {},
   "outputs": [],
   "source": [
    "Zoom region inset axes"
   ]
  },
  {
   "cell_type": "code",
   "execution_count": null,
   "id": "598b71cb",
   "metadata": {},
   "outputs": [],
   "source": []
  },
  {
   "cell_type": "code",
   "execution_count": 1,
   "id": "d10c48b3",
   "metadata": {
    "ExecuteTime": {
     "end_time": "2023-08-30T04:33:28.549057Z",
     "start_time": "2023-08-30T04:33:27.985699Z"
    }
   },
   "outputs": [
    {
     "data": {
      "image/png": "[encoded data removed]",
      "text/plain": [
       "<Figure size 360x288 with 1 Axes>"
      ]
     },
     "metadata": {
      "needs_background": "light"
     },
     "output_type": "display_data"
    }
   ],
   "source": [
    "from matplotlib import cbook\n",
    "import matplotlib.pyplot as plt\n",
    "import numpy as np\n",
    "\n",
    "\n",
    "def get_demo_image():\n",
    "    z = cbook.get_sample_data(\"axes_grid/bivariate_normal.npy\", np_load=True)\n",
    "    # z is a numpy array of 15x15\n",
    "    return z, (-3, 4, -4, 3)\n",
    "\n",
    "fig, ax = plt.subplots(figsize=[5, 4])\n",
    "\n",
    "# make data\n",
    "Z, extent = get_demo_image()\n",
    "Z2 = np.zeros((150, 150))\n",
    "ny, nx = Z.shape\n",
    "Z2[30:30+ny, 30:30+nx] = Z\n",
    "\n",
    "ax.imshow(Z2, extent=extent, origin=\"lower\")\n",
    "\n",
    "# inset axes....\n",
    "axins = ax.inset_axes([0.5, 0.5, 0.47, 0.47])\n",
    "axins.imshow(Z2, extent=extent, origin=\"lower\")\n",
    "# subregion of the original image\n",
    "x1, x2, y1, y2 = -1.5, -0.9, -2.5, -1.9\n",
    "axins.set_xlim(x1, x2)\n",
    "axins.set_ylim(y1, y2)\n",
    "axins.set_xticklabels([])\n",
    "axins.set_yticklabels([])\n",
    "\n",
    "ax.indicate_inset_zoom(axins, edgecolor=\"black\")\n",
    "\n",
    "plt.show()"
   ]
  },
  {
   "cell_type": "code",
   "execution_count": null,
   "id": "ee49936d",
   "metadata": {},
   "outputs": [],
   "source": []
  },
  {
   "cell_type": "code",
   "execution_count": null,
   "id": "25b70a2c",
   "metadata": {},
   "outputs": [],
   "source": []
  },
  {
   "cell_type": "code",
   "execution_count": null,
   "id": "52336871",
   "metadata": {},
   "outputs": [],
   "source": [
    "fig.supxlabel"
   ]
  },
  {
   "cell_type": "code",
   "execution_count": null,
   "id": "a52ec62d",
   "metadata": {},
   "outputs": [],
   "source": [
    "lc_ax.text(0.5,  LABEL_HEIGHT, 'Magnitude',\n",
    "           transform=lc_ax.transAxes, fontsize=FONTSIZE-2,\n",
    "           verticalalignment='center',horizontalalignment ='center')\n",
    "\n",
    "lc_ax.text( -0.5,0.5,'Phase',\n",
    "           transform=lc_ax.transAxes, rotation=90, fontsize=FONTSIZE-2,\n",
    "           verticalalignment='center',horizontalalignment ='left')"
   ]
  },
  {
   "cell_type": "code",
   "execution_count": null,
   "id": "3fac38d3",
   "metadata": {},
   "outputs": [],
   "source": []
  }
 ],
 "metadata": {
  "kernelspec": {
   "display_name": "Python 3 (ipykernel)",
   "language": "python",
   "name": "python3"
  },
  "language_info": {
   "codemirror_mode": {
    "name": "ipython",
    "version": 3
   },
   "file_extension": ".py",
   "mimetype": "text/x-python",
   "name": "python",
   "nbconvert_exporter": "python",
   "pygments_lexer": "ipython3",
   "version": "3.9.12"
  },
  "latex_envs": {
   "LaTeX_envs_menu_present": true,
   "autoclose": false,
   "autocomplete": true,
   "bibliofile": "biblio.bib",
   "cite_by": "apalike",
   "current_citInitial": 1,
   "eqLabelWithNumbers": true,
   "eqNumInitial": 1,
   "hotkeys": {
    "equation": "Ctrl-E",
    "itemize": "Ctrl-I"
   },
   "labels_anchors": false,
   "latex_user_defs": false,
   "report_style_numbering": false,
   "user_envs_cfg": false
  },
  "toc": {
   "base_numbering": 1,
   "nav_menu": {},
   "number_sections": true,
   "sideBar": true,
   "skip_h1_title": false,
   "title_cell": "Table of Contents",
   "title_sidebar": "Contents",
   "toc_cell": false,
   "toc_position": {},
   "toc_section_display": true,
   "toc_window_display": false
  }
 },
 "nbformat": 4,
 "nbformat_minor": 5
}
