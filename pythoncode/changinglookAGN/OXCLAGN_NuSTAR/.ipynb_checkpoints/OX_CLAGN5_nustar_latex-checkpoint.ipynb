{
 "cells": [
  {
   "cell_type": "markdown",
   "metadata": {
    "toc": true
   },
   "source": [
    "<h1>Table of Contents<span class=\"tocSkip\"></span></h1>\n",
    "<div class=\"toc\"><ul class=\"toc-item\"><li><span><a href=\"#import\" data-toc-modified-id=\"import-1\"><span class=\"toc-item-num\">1&nbsp;&nbsp;</span>import</a></span><ul class=\"toc-item\"><li><span><a href=\"#timeconvert\" data-toc-modified-id=\"timeconvert-1.1\"><span class=\"toc-item-num\">1.1&nbsp;&nbsp;</span>timeconvert</a></span></li></ul></li><li><span><a href=\"#xspec\" data-toc-modified-id=\"xspec-2\"><span class=\"toc-item-num\">2&nbsp;&nbsp;</span>xspec</a></span></li><li><span><a href=\"#OX_CLAGN5_nustar\" data-toc-modified-id=\"OX_CLAGN5_nustar-3\"><span class=\"toc-item-num\">3&nbsp;&nbsp;</span>OX_CLAGN5_nustar</a></span></li><li><span><a href=\"#NED\" data-toc-modified-id=\"NED-4\"><span class=\"toc-item-num\">4&nbsp;&nbsp;</span>NED</a></span><ul class=\"toc-item\"><li><span><a href=\"#Latex\" data-toc-modified-id=\"Latex-4.1\"><span class=\"toc-item-num\">4.1&nbsp;&nbsp;</span>Latex</a></span></li></ul></li><li><span><a href=\"#plot_lightcurve\" data-toc-modified-id=\"plot_lightcurve-5\"><span class=\"toc-item-num\">5&nbsp;&nbsp;</span>plot_lightcurve</a></span></li><li><span><a href=\"#mission-=-'numaster'\" data-toc-modified-id=\"mission-=-'numaster'-6\"><span class=\"toc-item-num\">6&nbsp;&nbsp;</span>mission = 'numaster'</a></span><ul class=\"toc-item\"><li><span><a href=\"#latex\" data-toc-modified-id=\"latex-6.1\"><span class=\"toc-item-num\">6.1&nbsp;&nbsp;</span>latex</a></span></li><li><span><a href=\"#ESO-362-G18\" data-toc-modified-id=\"ESO-362-G18-6.2\"><span class=\"toc-item-num\">6.2&nbsp;&nbsp;</span>ESO 362-G18</a></span></li><li><span><a href=\"#NGC-2992\" data-toc-modified-id=\"NGC-2992-6.3\"><span class=\"toc-item-num\">6.3&nbsp;&nbsp;</span>NGC 2992</a></span></li><li><span><a href=\"#NGC-4151\" data-toc-modified-id=\"NGC-4151-6.4\"><span class=\"toc-item-num\">6.4&nbsp;&nbsp;</span>NGC 4151</a></span></li><li><span><a href=\"#NGC-4395\" data-toc-modified-id=\"NGC-4395-6.5\"><span class=\"toc-item-num\">6.5&nbsp;&nbsp;</span>NGC 4395</a></span></li><li><span><a href=\"#NGC-7582\" data-toc-modified-id=\"NGC-7582-6.6\"><span class=\"toc-item-num\">6.6&nbsp;&nbsp;</span>NGC 7582</a></span></li></ul></li><li><span><a href=\"#def_plot_\" data-toc-modified-id=\"def_plot_-7\"><span class=\"toc-item-num\">7&nbsp;&nbsp;</span>def_plot_</a></span></li><li><span><a href=\"#result\" data-toc-modified-id=\"result-8\"><span class=\"toc-item-num\">8&nbsp;&nbsp;</span>result</a></span><ul class=\"toc-item\"><li><span><a href=\"#dict\" data-toc-modified-id=\"dict-8.1\"><span class=\"toc-item-num\">8.1&nbsp;&nbsp;</span>dict</a></span></li><li><span><a href=\"#slab_zgauss\" data-toc-modified-id=\"slab_zgauss-8.2\"><span class=\"toc-item-num\">8.2&nbsp;&nbsp;</span>slab_zgauss</a></span></li><li><span><a href=\"#slab_pexrav\" data-toc-modified-id=\"slab_pexrav-8.3\"><span class=\"toc-item-num\">8.3&nbsp;&nbsp;</span>slab_pexrav</a></span></li><li><span><a href=\"#slab_pexrav_fscat\" data-toc-modified-id=\"slab_pexrav_fscat-8.4\"><span class=\"toc-item-num\">8.4&nbsp;&nbsp;</span>slab_pexrav_fscat</a></span></li><li><span><a href=\"#plot_slab\" data-toc-modified-id=\"plot_slab-8.5\"><span class=\"toc-item-num\">8.5&nbsp;&nbsp;</span>plot_slab</a></span><ul class=\"toc-item\"><li><span><a href=\"#slab_latex\" data-toc-modified-id=\"slab_latex-8.5.1\"><span class=\"toc-item-num\">8.5.1&nbsp;&nbsp;</span>slab_latex</a></span></li><li><span><a href=\"#plotall\" data-toc-modified-id=\"plotall-8.5.2\"><span class=\"toc-item-num\">8.5.2&nbsp;&nbsp;</span>plotall</a></span></li><li><span><a href=\"#plot3para\" data-toc-modified-id=\"plot3para-8.5.3\"><span class=\"toc-item-num\">8.5.3&nbsp;&nbsp;</span>plot3para</a></span></li><li><span><a href=\"#plot4para\" data-toc-modified-id=\"plot4para-8.5.4\"><span class=\"toc-item-num\">8.5.4&nbsp;&nbsp;</span>plot4para</a></span></li><li><span><a href=\"#2-10-10-50keV\" data-toc-modified-id=\"2-10-10-50keV-8.5.5\"><span class=\"toc-item-num\">8.5.5&nbsp;&nbsp;</span>2-10 10-50keV</a></span></li><li><span><a href=\"#pearsonr\" data-toc-modified-id=\"pearsonr-8.5.6\"><span class=\"toc-item-num\">8.5.6&nbsp;&nbsp;</span>pearsonr</a></span></li></ul></li><li><span><a href=\"#fitted_line_2-10-and-10-50\" data-toc-modified-id=\"fitted_line_2-10-and-10-50-8.6\"><span class=\"toc-item-num\">8.6&nbsp;&nbsp;</span>fitted_line_2-10 and 10-50</a></span><ul class=\"toc-item\"><li><span><a href=\"#Gamma_Lx/Ledd\" data-toc-modified-id=\"Gamma_Lx/Ledd-8.6.1\"><span class=\"toc-item-num\">8.6.1&nbsp;&nbsp;</span>Gamma_Lx/Ledd</a></span></li><li><span><a href=\"#NH-inclination\" data-toc-modified-id=\"NH-inclination-8.6.2\"><span class=\"toc-item-num\">8.6.2&nbsp;&nbsp;</span>NH-inclination</a></span></li><li><span><a href=\"#NH-Lx/Ledd\" data-toc-modified-id=\"NH-Lx/Ledd-8.6.3\"><span class=\"toc-item-num\">8.6.3&nbsp;&nbsp;</span>NH-Lx/Ledd</a></span></li><li><span><a href=\"#NH-Gamma\" data-toc-modified-id=\"NH-Gamma-8.6.4\"><span class=\"toc-item-num\">8.6.4&nbsp;&nbsp;</span>NH-Gamma</a></span></li><li><span><a href=\"#zgauss-Lx/Ledd\" data-toc-modified-id=\"zgauss-Lx/Ledd-8.6.5\"><span class=\"toc-item-num\">8.6.5&nbsp;&nbsp;</span>zgauss-Lx/Ledd</a></span></li></ul></li><li><span><a href=\"#plot-xclumpy\" data-toc-modified-id=\"plot-xclumpy-8.7\"><span class=\"toc-item-num\">8.7&nbsp;&nbsp;</span>plot xclumpy</a></span><ul class=\"toc-item\"><li><span><a href=\"#xclumpy_latex\" data-toc-modified-id=\"xclumpy_latex-8.7.1\"><span class=\"toc-item-num\">8.7.1&nbsp;&nbsp;</span>xclumpy_latex</a></span></li><li><span><a href=\"#plot3para\" data-toc-modified-id=\"plot3para-8.7.2\"><span class=\"toc-item-num\">8.7.2&nbsp;&nbsp;</span>plot3para</a></span></li></ul></li><li><span><a href=\"#plot-uxclumpy\" data-toc-modified-id=\"plot-uxclumpy-8.8\"><span class=\"toc-item-num\">8.8&nbsp;&nbsp;</span>plot uxclumpy</a></span><ul class=\"toc-item\"><li><span><a href=\"#uxclumpy_latex\" data-toc-modified-id=\"uxclumpy_latex-8.8.1\"><span class=\"toc-item-num\">8.8.1&nbsp;&nbsp;</span>uxclumpy_latex</a></span></li><li><span><a href=\"#plot3para\" data-toc-modified-id=\"plot3para-8.8.2\"><span class=\"toc-item-num\">8.8.2&nbsp;&nbsp;</span>plot3para</a></span></li></ul></li><li><span><a href=\"#borus02\" data-toc-modified-id=\"borus02-8.9\"><span class=\"toc-item-num\">8.9&nbsp;&nbsp;</span>borus02</a></span><ul class=\"toc-item\"><li><span><a href=\"#borus_latex\" data-toc-modified-id=\"borus_latex-8.9.1\"><span class=\"toc-item-num\">8.9.1&nbsp;&nbsp;</span>borus_latex</a></span></li><li><span><a href=\"#plot3para\" data-toc-modified-id=\"plot3para-8.9.2\"><span class=\"toc-item-num\">8.9.2&nbsp;&nbsp;</span>plot3para</a></span></li></ul></li><li><span><a href=\"#rxtorus\" data-toc-modified-id=\"rxtorus-8.10\"><span class=\"toc-item-num\">8.10&nbsp;&nbsp;</span>rxtorus</a></span><ul class=\"toc-item\"><li><span><a href=\"#rxtorus_latex\" data-toc-modified-id=\"rxtorus_latex-8.10.1\"><span class=\"toc-item-num\">8.10.1&nbsp;&nbsp;</span>rxtorus_latex</a></span></li><li><span><a href=\"#plot3para\" data-toc-modified-id=\"plot3para-8.10.2\"><span class=\"toc-item-num\">8.10.2&nbsp;&nbsp;</span>plot3para</a></span></li></ul></li><li><span><a href=\"#mytorus_couple\" data-toc-modified-id=\"mytorus_couple-8.11\"><span class=\"toc-item-num\">8.11&nbsp;&nbsp;</span>mytorus_couple</a></span><ul class=\"toc-item\"><li><span><a href=\"#MYTC_latex\" data-toc-modified-id=\"MYTC_latex-8.11.1\"><span class=\"toc-item-num\">8.11.1&nbsp;&nbsp;</span>MYTC_latex</a></span></li><li><span><a href=\"#plot3para\" data-toc-modified-id=\"plot3para-8.11.2\"><span class=\"toc-item-num\">8.11.2&nbsp;&nbsp;</span>plot3para</a></span></li></ul></li><li><span><a href=\"#mytorus_decouple\" data-toc-modified-id=\"mytorus_decouple-8.12\"><span class=\"toc-item-num\">8.12&nbsp;&nbsp;</span>mytorus_decouple</a></span><ul class=\"toc-item\"><li><span><a href=\"#MYTD_latex\" data-toc-modified-id=\"MYTD_latex-8.12.1\"><span class=\"toc-item-num\">8.12.1&nbsp;&nbsp;</span>MYTD_latex</a></span></li><li><span><a href=\"#plot3para\" data-toc-modified-id=\"plot3para-8.12.2\"><span class=\"toc-item-num\">8.12.2&nbsp;&nbsp;</span>plot3para</a></span></li></ul></li></ul></li><li><span><a href=\"#NGC1566\" data-toc-modified-id=\"NGC1566-9\"><span class=\"toc-item-num\">9&nbsp;&nbsp;</span>NGC1566</a></span></li><li><span><a href=\"#NGC-4507\" data-toc-modified-id=\"NGC-4507-10\"><span class=\"toc-item-num\">10&nbsp;&nbsp;</span>NGC 4507</a></span><ul class=\"toc-item\"><li><span><a href=\"#Slab\" data-toc-modified-id=\"Slab-10.1\"><span class=\"toc-item-num\">10.1&nbsp;&nbsp;</span>Slab</a></span></li><li><span><a href=\"#mytorus-coupled\" data-toc-modified-id=\"mytorus-coupled-10.2\"><span class=\"toc-item-num\">10.2&nbsp;&nbsp;</span>mytorus coupled</a></span></li><li><span><a href=\"#mytorus-coupled\" data-toc-modified-id=\"mytorus-coupled-10.3\"><span class=\"toc-item-num\">10.3&nbsp;&nbsp;</span>mytorus coupled</a></span></li><li><span><a href=\"#borus02\" data-toc-modified-id=\"borus02-10.4\"><span class=\"toc-item-num\">10.4&nbsp;&nbsp;</span>borus02</a></span></li><li><span><a href=\"#XCLUMPY\" data-toc-modified-id=\"XCLUMPY-10.5\"><span class=\"toc-item-num\">10.5&nbsp;&nbsp;</span>XCLUMPY</a></span></li><li><span><a href=\"#RXTORUS\" data-toc-modified-id=\"RXTORUS-10.6\"><span class=\"toc-item-num\">10.6&nbsp;&nbsp;</span>RXTORUS</a></span></li></ul></li><li><span><a href=\"#turn-off-AGN\" data-toc-modified-id=\"turn-off-AGN-11\"><span class=\"toc-item-num\">11&nbsp;&nbsp;</span>turn off AGN</a></span><ul class=\"toc-item\"><li><span><a href=\"#plot-M-time\" data-toc-modified-id=\"plot-M-time-11.1\"><span class=\"toc-item-num\">11.1&nbsp;&nbsp;</span>plot M time</a></span></li></ul></li></ul></div>"
   ]
  },
  {
   "cell_type": "markdown",
   "metadata": {},
   "source": [
    "# import"
   ]
  },
  {
   "cell_type": "code",
   "execution_count": 1,
   "metadata": {
    "ExecuteTime": {
     "end_time": "2023-03-16T01:35:05.830047Z",
     "start_time": "2023-03-16T01:35:05.311226Z"
    }
   },
   "outputs": [],
   "source": [
    "import matplotlib as mpl\n",
    "import matplotlib.pyplot as plt\n",
    "import matplotlib.ticker as ticker\n",
    "from pylab import cm\n",
    "\n",
    "import matplotlib.dates as mdates\n",
    "from matplotlib.pyplot import MultipleLocator\n",
    "import matplotlib.dates as mdates\n",
    "from matplotlib.transforms import Transform\n",
    "from matplotlib.ticker import (AutoLocator, AutoMinorLocator)\n",
    "from matplotlib.dates import DateFormatter\n",
    "#import matplotlib.cm as cm\n",
    "import matplotlib.colors as colors\n",
    "from collections import OrderedDict"
   ]
  },
  {
   "cell_type": "code",
   "execution_count": 2,
   "metadata": {
    "ExecuteTime": {
     "end_time": "2023-03-16T01:35:07.546769Z",
     "start_time": "2023-03-16T01:35:06.385090Z"
    }
   },
   "outputs": [
    {
     "name": "stderr",
     "output_type": "stream",
     "text": [
      "/var/folders/jp/4mwsn7_x6j9gnv1hl1dztqth0000gn/T/ipykernel_4214/127070983.py:1: DeprecationWarning: Please use `pearsonr` from the `scipy.stats` namespace, the `scipy.stats.stats` namespace is deprecated.\n",
      "  from scipy.stats.stats import pearsonr\n"
     ]
    }
   ],
   "source": [
    "from scipy.stats.stats import pearsonr\n",
    "from scipy.stats import spearmanr#\n",
    "from scipy import stats \n",
    "\n",
    "import matplotlib.pyplot as plt\n",
    "from pylab import cm\n",
    "import matplotlib as mpl\n",
    "\n",
    "from collections import OrderedDict\n",
    "from adjustText import adjust_text\n",
    "\n",
    "%matplotlib inline\n",
    "%config InlineBackend.figure_format='svg'\n",
    "# Edit the font, font size, and axes width\n",
    "mpl.rcParams['font.family'] = 'Times New Roman'\n",
    "plt.rcParams['font.size'] = 18\n",
    "plt.rcParams['axes.linewidth'] = 2"
   ]
  },
  {
   "cell_type": "code",
   "execution_count": 3,
   "metadata": {
    "ExecuteTime": {
     "end_time": "2023-03-16T01:35:07.589007Z",
     "start_time": "2023-03-16T01:35:07.548363Z"
    }
   },
   "outputs": [],
   "source": [
    "from adjustText import adjust_text\n",
    "import matplotlib as mpl\n",
    "def set_ax_tick(ax):\n",
    "    ax.xaxis.set_tick_params(which='major', size=10, width=2, direction='in', top='on',)\n",
    "    ax.xaxis.set_tick_params(which='minor', size=5, width=2, direction='in', top='on')\n",
    "    ax.yaxis.set_tick_params(which='major', size=10, width=2, direction='in', right='on')\n",
    "    ax.yaxis.set_tick_params(which='minor', size=5, width=2, direction='in', right='on')\n",
    "\n",
    "def set_ax_locator(ax,xma=1,xmi=0.2,yma=1,ymi=0.2):\n",
    "    ax.xaxis.set_major_locator(mpl.ticker.MultipleLocator(xma))\n",
    "    ax.xaxis.set_minor_locator(mpl.ticker.MultipleLocator(xmi))\n",
    "    ax.yaxis.set_major_locator(mpl.ticker.MultipleLocator(yma))\n",
    "    ax.yaxis.set_minor_locator(mpl.ticker.MultipleLocator(ymi))\n",
    "    \n",
    "def plot_secax(ax,mi_interval=365,ma_interval=365*2,rotation=30,):\n",
    "    secax1 = ax.secondary_xaxis('top', functions=(mjd2numsdate,datenums2mjd))\n",
    "    secax1.xaxis.set_major_formatter(mdates.DateFormatter(\"%Y-%m\"))\n",
    "    secax1.xaxis.set_major_locator(mdates.DayLocator(interval=ma_interval))\n",
    "    secax1.xaxis.set_minor_locator(mdates.DayLocator(interval=mi_interval))\n",
    "    secax1.xaxis.set_tick_params(which='major', size=10, width=2, direction='out')\n",
    "    secax1.xaxis.set_tick_params(which='minor', size=5, width=2, direction='out')\n",
    "    secax1.xaxis.set_tick_params(which='major', size=10, width=2, direction='out', rotation=rotation,)    \n",
    "    \n",
    "def set_ax_legend(ax,bbox_to_anchor=(0.01, 0.99)):\n",
    "    ax.xaxis.set_tick_params(which='major', size=10, width=2, rotation=0,)\n",
    "    handles, labels = ax.get_legend_handles_labels()\n",
    "    # remove the errorbars\n",
    "    #hdl = [h[0] for h in handles]\n",
    "    hdl = handles\n",
    "    labels_dict=dict(zip(labels, hdl)) #key,values\n",
    "    by_label=OrderedDict(sorted(labels_dict.items(),key=lambda t:t[0]))\n",
    "    #by_label = OrderedDict(zip(labels, handles))\n",
    "    ax.legend(by_label.values(), by_label.keys(), bbox_to_anchor=bbox_to_anchor,\n",
    "              loc=2, numpoints=1,ncol=1,fontsize=11.)\n",
    "    \n",
    "def set_ax_legend_sequence(ax,bbox_to_anchor=(0.01, 0.99)):\n",
    "    ax.xaxis.set_tick_params(which='major', size=10, width=2, rotation=0,)\n",
    "    handles, labels = ax.get_legend_handles_labels()\n",
    "    # remove the errorbars\n",
    "    #hdl = [h[0] for h in handles]\n",
    "    hdl = handles\n",
    "    labels_dict=dict(zip(labels, hdl)) #key,values\n",
    "    #by_label=OrderedDict(sorted(labels_dict.items(),key=lambda t:t[0]))\n",
    "    by_label = OrderedDict(zip(labels, handles))\n",
    "    ax.legend(by_label.values(), by_label.keys(), bbox_to_anchor=bbox_to_anchor,\n",
    "              loc=2, numpoints=1,ncol=1,fontsize=11.)    \n",
    "    \n",
    "\n",
    "def set_mag_ylim(ax):\n",
    "    bottom, top = ax.set_ylim()\n",
    "    if bottom< top:\n",
    "        ax.set_ylim(top,bottom)   \n",
    "        \n",
    "        \n",
    "def set_mag_xlim(ax):\n",
    "    bottom, top = ax.set_xlim()\n",
    "    if bottom< top:\n",
    "        ax.set_xlim(top,bottom)           "
   ]
  },
  {
   "cell_type": "code",
   "execution_count": 4,
   "metadata": {
    "ExecuteTime": {
     "end_time": "2023-03-16T01:35:07.814717Z",
     "start_time": "2023-03-16T01:35:07.806592Z"
    }
   },
   "outputs": [],
   "source": [
    "def drop_index(data):\n",
    "    data=data.reset_index(drop=True)\n",
    "    return data"
   ]
  },
  {
   "cell_type": "code",
   "execution_count": 5,
   "metadata": {
    "ExecuteTime": {
     "end_time": "2023-03-16T01:35:09.200258Z",
     "start_time": "2023-03-16T01:35:08.283442Z"
    }
   },
   "outputs": [],
   "source": [
    "import pandas as pd\n",
    "import numpy as np\n",
    "import os\n",
    "\n",
    "def get_obsids(path):\n",
    "    dirname=os.listdir(path)\n",
    "    obsids=[]\n",
    "    for i in dirname:\n",
    "        if i.isdigit():\n",
    "            obsids.append(i)\n",
    "    obsids.sort()        \n",
    "    return obsids"
   ]
  },
  {
   "cell_type": "markdown",
   "metadata": {},
   "source": [
    "## timeconvert"
   ]
  },
  {
   "cell_type": "code",
   "execution_count": 6,
   "metadata": {
    "ExecuteTime": {
     "end_time": "2023-03-16T01:35:10.907290Z",
     "start_time": "2023-03-16T01:35:10.436836Z"
    }
   },
   "outputs": [],
   "source": [
    "from astropy.time import Time\n",
    "from astropy.io import fits\n",
    "import time\n",
    "from matplotlib.pyplot import MultipleLocator\n",
    "import matplotlib.dates as mdates\n",
    "\n",
    "def datetime2mjd(x):\n",
    "    mjd_ref=59000\n",
    "    mjd_minus_mdates_num=mdates.date2num(convert_xaxis_time(mjd_ref))-mjd_ref\n",
    "    \n",
    "    x=mdates.date2num(x)\n",
    "    y = x - mjd_minus_mdates_num   \n",
    "    return y\n",
    "\n",
    "def mjd2datetime(x):\n",
    "    mjd_ref=59000\n",
    "    mjd_minus_mdates_num=mdates.date2num(convert_xaxis_time(mjd_ref))-mjd_ref\n",
    "    y= x + mjd_minus_mdates_num\n",
    "    y= mdates.num2date(y)\n",
    "    return y\n",
    "\n",
    "\n",
    "\n",
    "def datenums2mjd(x):\n",
    "    #x=mdates.date2num(x)\n",
    "    mjd_ref=59000\n",
    "    mjd_minus_mdates_num=mdates.date2num(convert_xaxis_time(mjd_ref))-mjd_ref\n",
    "    y = x - mjd_minus_mdates_num   \n",
    "    return y\n",
    "\n",
    "def mjd2numsdate(x):\n",
    "    mjd_ref=59000\n",
    "    mjd_minus_mdates_num=mdates.date2num(convert_xaxis_time(mjd_ref))-mjd_ref\n",
    "    \n",
    "    y= x + mjd_minus_mdates_num\n",
    "    #y= mdates.num2date(y)\n",
    "    return y\n",
    "\n",
    "\n",
    "def convert_xaxis_mjd(time):\n",
    "    return Time(time).mjd   \n",
    "\n",
    "def convert_xaxis_time(mjd):\n",
    "    return Time(mjd,format='mjd').to_datetime()\n",
    "\n",
    "\n",
    "def date2yday(x):\n",
    "    \"\"\"\n",
    "    x is in matplotlib datenums, so they are floats.\n",
    "    \"\"\"\n",
    "    y = x - mdates.date2num(datetime(2018, 1, 1))\n",
    "    return y\n",
    "\n",
    "def yday2date(x):\n",
    "    \"\"\"\n",
    "    return a matplotlib datenum (x is days since start of year of 2018)\n",
    "    \"\"\"\n",
    "    y = x + mdates.date2num(datetime(2018, 1, 1))\n",
    "    return y\n",
    "\n",
    "\n",
    "def convert_partial_year(numbers):\n",
    "    datetimes=[]\n",
    "    for number in numbers:\n",
    "        year = int(number)\n",
    "        d = timedelta(days=(number - year)*(365 + is_leap(year)))\n",
    "        day_one = datetime(year,1,1)\n",
    "        date = d + day_one\n",
    "        datetimes.append(date)\n",
    "    return datetimes\n",
    "\n",
    "\n",
    "def is_leap(year):\n",
    "    if not year%4 and  year%100 or not year%400:\n",
    "        return True\n",
    "    return False\n",
    "\n",
    "\n",
    "def convert_mjd(times):\n",
    "    timesmjd=[]\n",
    "    for i in times:\n",
    "        timesmjd.append(Time(i).mjd)\n",
    "    return timesmjd  \n",
    "\n",
    "\n",
    "def convert_date(times):\n",
    "    timesdate=[]\n",
    "    for i in times:\n",
    "        timesdate.append(Time(i,format='mjd').datetime)\n",
    "    return timesdate\n",
    "\n",
    "def convert_date_single(time):\n",
    "    timedate=Time(time,format='mjd').datetime\n",
    "    return timedate"
   ]
  },
  {
   "cell_type": "markdown",
   "metadata": {},
   "source": [
    "# xspec"
   ]
  },
  {
   "cell_type": "markdown",
   "metadata": {},
   "source": [
    "The flux will be calculated for all loaded spectra. If no spectra are loaded (or none of the loaded spectra have a response), the model is evaluated over the energy range determined by its dummy response. (In XSPEC12, models are automatically assigned default dummy responses when there is no data, so the dummyrsp command need not be given.) "
   ]
  },
  {
   "cell_type": "markdown",
   "metadata": {},
   "source": [
    "Q: I want to construct a light curve in a limited energy range but the software needs the PI channel range ('pilow' and 'pihigh'): what is the conversion from PI channel to energy?\n",
    "A: The channel to energy conversion is linear: E = Channel Number * 0.04 keV + 1.6 keV (lower energy range of bin) Channel 0 corresponds to 1.60-1.64 keV, channel 1 corresponds to 1.64-1.68 keV, etc. You can also check the ebounds extension of RMF files (with the 'fv' command) to confirm the relationship between PI value and energy."
   ]
  },
  {
   "cell_type": "code",
   "execution_count": null,
   "metadata": {},
   "outputs": [],
   "source": [
    "1-35,507-2725"
   ]
  },
  {
   "cell_type": "code",
   "execution_count": null,
   "metadata": {
    "ExecuteTime": {
     "end_time": "2022-05-20T12:24:09.319294Z",
     "start_time": "2022-05-20T12:24:09.312721Z"
    }
   },
   "outputs": [],
   "source": [
    "35*0.04+1.6,507*0.04+1.6,2725*0.04+1.6"
   ]
  },
  {
   "cell_type": "code",
   "execution_count": null,
   "metadata": {},
   "outputs": [],
   "source": [
    "ignore **-3.0 60.0-**"
   ]
  },
  {
   "cell_type": "markdown",
   "metadata": {},
   "source": [
    "Gaussian and Lorentzian smoothing models\n",
    "These models by Keith Arnaud (kaa@lheamail.gsfc.nasa.gov) convolve the current model with a gaussian or a lorentzian profile. The width of the gaussian or lorentzian can vary with energy in a power-law relation whose index is the second parameter. The first parameter is the width (sigma) at 6 keV in units of keV. The gaussian smooth source code and lmodel.dat entries are available as are the lorentzian smooth source code and lmodel.dat entries. The gaussian smooth model is called g2smooth to distinguish it from the single-parameter gsmooth model included in the v11 distribution."
   ]
  },
  {
   "cell_type": "markdown",
   "metadata": {},
   "source": [
    "# OX_CLAGN5_nustar"
   ]
  },
  {
   "cell_type": "code",
   "execution_count": 7,
   "metadata": {
    "ExecuteTime": {
     "end_time": "2023-03-16T01:35:15.237741Z",
     "start_time": "2023-03-16T01:35:15.230922Z"
    }
   },
   "outputs": [],
   "source": [
    "OX_CLAGN5_nustar=[ 'ESO 362-G18', 'NGC 2992', 'NGC 4151','NGC 7582'] #'NGC 4395'"
   ]
  },
  {
   "cell_type": "code",
   "execution_count": null,
   "metadata": {
    "ExecuteTime": {
     "end_time": "2023-03-02T11:17:01.822409Z",
     "start_time": "2023-03-02T11:17:01.806935Z"
    }
   },
   "outputs": [],
   "source": [
    "for i in OX_CLAGN5_nustar:\n",
    "    sourcename=i.strip().replace(' ','').replace('-','_')\n",
    "    print(sourcename)    \n"
   ]
  },
  {
   "cell_type": "markdown",
   "metadata": {},
   "source": [
    "datadir_root='/home/brettlv/'"
   ]
  },
  {
   "cell_type": "code",
   "execution_count": 8,
   "metadata": {
    "ExecuteTime": {
     "end_time": "2023-03-16T01:35:27.765267Z",
     "start_time": "2023-03-16T01:35:27.744697Z"
    }
   },
   "outputs": [],
   "source": [
    "import astroquery"
   ]
  },
  {
   "cell_type": "code",
   "execution_count": 9,
   "metadata": {
    "ExecuteTime": {
     "end_time": "2023-03-16T01:35:28.564022Z",
     "start_time": "2023-03-16T01:35:28.144301Z"
    }
   },
   "outputs": [],
   "source": [
    "from astroquery.ipac.ned import Ned"
   ]
  },
  {
   "cell_type": "code",
   "execution_count": null,
   "metadata": {
    "ExecuteTime": {
     "end_time": "2023-01-03T06:31:31.333838Z",
     "start_time": "2023-01-03T06:31:31.323642Z"
    }
   },
   "outputs": [],
   "source": [
    "print(astroquery.__version__)"
   ]
  },
  {
   "cell_type": "code",
   "execution_count": null,
   "metadata": {
    "ExecuteTime": {
     "end_time": "2022-10-18T08:32:13.622745Z",
     "start_time": "2022-10-18T08:32:12.493704Z"
    }
   },
   "outputs": [],
   "source": [
    "result_table = Ned.query_object(OX_CLAGN5_nustar[0])\n",
    "print(result_table) # an astropy.table.Table"
   ]
  },
  {
   "cell_type": "code",
   "execution_count": null,
   "metadata": {
    "ExecuteTime": {
     "end_time": "2022-10-18T08:32:17.450996Z",
     "start_time": "2022-10-18T08:32:17.436236Z"
    }
   },
   "outputs": [],
   "source": [
    "result_table"
   ]
  },
  {
   "cell_type": "code",
   "execution_count": null,
   "metadata": {
    "ExecuteTime": {
     "end_time": "2022-03-25T07:38:24.700163Z",
     "start_time": "2022-03-25T07:38:24.693779Z"
    }
   },
   "outputs": [],
   "source": [
    "result_table.colnames"
   ]
  },
  {
   "cell_type": "markdown",
   "metadata": {},
   "source": [
    "# NED"
   ]
  },
  {
   "cell_type": "code",
   "execution_count": null,
   "metadata": {
    "ExecuteTime": {
     "end_time": "2022-10-18T09:52:55.887150Z",
     "start_time": "2022-10-18T09:52:55.859617Z"
    }
   },
   "outputs": [],
   "source": [
    "result_table = Ned.query_object(OX_CLAGN5_nustar[0])\n",
    "print(result_table['Object Name'][0],result_table['RA'][0],result_table['DEC'][0],result_table['Redshift'][0]) # an astropy.table.Table"
   ]
  },
  {
   "cell_type": "code",
   "execution_count": null,
   "metadata": {},
   "outputs": [],
   "source": []
  },
  {
   "cell_type": "code",
   "execution_count": null,
   "metadata": {},
   "outputs": [],
   "source": []
  },
  {
   "cell_type": "code",
   "execution_count": null,
   "metadata": {
    "ExecuteTime": {
     "end_time": "2022-10-18T09:52:09.897896Z",
     "start_time": "2022-10-18T09:52:09.880574Z"
    }
   },
   "outputs": [],
   "source": [
    "result_table "
   ]
  },
  {
   "cell_type": "code",
   "execution_count": null,
   "metadata": {},
   "outputs": [],
   "source": []
  },
  {
   "cell_type": "code",
   "execution_count": null,
   "metadata": {
    "ExecuteTime": {
     "end_time": "2022-10-18T12:57:24.054197Z",
     "start_time": "2022-10-18T12:57:24.000592Z"
    }
   },
   "outputs": [],
   "source": [
    "for i in OX_CLAGN5_nustar:\n",
    "    result_table = Ned.query_object(i)\n",
    "    #print(result_table['Object Name'][0],result_table['RA'][0],result_table['DEC'][0],result_table['Redshift'][0]) # an astropy.table.Table\n",
    "    print(result_table['Object Name'][0],'& ',result_table['Redshift'][0],'\\\\\\\\') # an astropy.table.Table"
   ]
  },
  {
   "cell_type": "markdown",
   "metadata": {
    "ExecuteTime": {
     "end_time": "2022-03-25T07:42:41.548660Z",
     "start_time": "2022-03-25T07:42:41.526538Z"
    }
   },
   "source": [
    "table_mission_list = heasarc.query_mission_list()\n",
    "table_mission_list.pprint()"
   ]
  },
  {
   "cell_type": "markdown",
   "metadata": {
    "ExecuteTime": {
     "end_time": "2022-03-25T07:42:47.740763Z",
     "start_time": "2022-03-25T07:42:47.462263Z"
    }
   },
   "source": [
    "for i in table_mission_list:\n",
    "    print(i)"
   ]
  },
  {
   "cell_type": "code",
   "execution_count": 10,
   "metadata": {
    "ExecuteTime": {
     "end_time": "2023-03-16T01:36:29.405980Z",
     "start_time": "2023-03-16T01:36:29.201073Z"
    }
   },
   "outputs": [],
   "source": [
    "import pandas as pd\n",
    "OX_CLAGN5_info=pd.read_excel('/Users/lyubing/IHEPBox/data/data_clagn/OXCLAGN5.xlsx')\n",
    "OX_CLAGN5_info=OX_CLAGN5_info[OX_CLAGN5_info['select']==1]\n",
    "OX_CLAGN5_info=drop_index(OX_CLAGN5_info)"
   ]
  },
  {
   "cell_type": "code",
   "execution_count": null,
   "metadata": {
    "ExecuteTime": {
     "end_time": "2023-03-02T11:17:09.555216Z",
     "start_time": "2023-03-02T11:17:09.533287Z"
    }
   },
   "outputs": [],
   "source": [
    "OX_CLAGN5_info"
   ]
  },
  {
   "cell_type": "code",
   "execution_count": null,
   "metadata": {
    "ExecuteTime": {
     "end_time": "2023-03-02T11:17:13.749500Z",
     "start_time": "2023-03-02T11:17:13.728881Z"
    }
   },
   "outputs": [],
   "source": [
    "CLAGNref_allmass_bibcodes=[]\n",
    "\n",
    "for i in OX_CLAGN5_info['ref0']:\n",
    "    if i.find(',')>0:\n",
    "        isplit=i.split(',')\n",
    "        for j in isplit:\n",
    "            if j not in CLAGNref_allmass_bibcodes:\n",
    "                CLAGNref_allmass_bibcodes.append(j)\n",
    "    else:\n",
    "        if i not in CLAGNref_allmass_bibcodes:\n",
    "            CLAGNref_allmass_bibcodes.append(i)\n",
    "                   \n",
    "for i in OX_CLAGN5_info['ref1']:\n",
    "    if i.find(',')>0:\n",
    "        isplit=i.split(',')\n",
    "        for j in isplit:\n",
    "            if j not in CLAGNref_allmass_bibcodes:\n",
    "                CLAGNref_allmass_bibcodes.append(j)\n",
    "    else:\n",
    "        if i not in CLAGNref_allmass_bibcodes:\n",
    "            CLAGNref_allmass_bibcodes.append(i)\n",
    "            \n",
    "for i in OX_CLAGN5_info['ref2']:\n",
    "    if i.find(',')>0:\n",
    "        isplit=i.split(',')\n",
    "        for j in isplit:\n",
    "            if j not in CLAGNref_allmass_bibcodes:\n",
    "                CLAGNref_allmass_bibcodes.append(j)\n",
    "    else:\n",
    "        if i not in CLAGNref_allmass_bibcodes:\n",
    "            CLAGNref_allmass_bibcodes.append(i)\n",
    "        "
   ]
  },
  {
   "cell_type": "code",
   "execution_count": null,
   "metadata": {
    "ExecuteTime": {
     "end_time": "2023-03-02T11:17:15.180652Z",
     "start_time": "2023-03-02T11:17:15.174355Z"
    }
   },
   "outputs": [],
   "source": [
    "CLAGNref_allmass_bibcodes"
   ]
  },
  {
   "cell_type": "code",
   "execution_count": null,
   "metadata": {
    "ExecuteTime": {
     "end_time": "2023-03-02T11:17:15.566985Z",
     "start_time": "2023-03-02T11:17:15.559740Z"
    }
   },
   "outputs": [],
   "source": [
    "len(CLAGNref_allmass_bibcodes)"
   ]
  },
  {
   "cell_type": "code",
   "execution_count": null,
   "metadata": {
    "ExecuteTime": {
     "end_time": "2023-03-02T11:17:16.708916Z",
     "start_time": "2023-03-02T11:17:16.700241Z"
    }
   },
   "outputs": [],
   "source": [
    "import numpy as np\n",
    "dict_bibcode_index = dict(zip(CLAGNref_allmass_bibcodes,np.arange(len(CLAGNref_allmass_bibcodes))+1))"
   ]
  },
  {
   "cell_type": "markdown",
   "metadata": {},
   "source": [
    "## Latex"
   ]
  },
  {
   "cell_type": "code",
   "execution_count": null,
   "metadata": {
    "ExecuteTime": {
     "end_time": "2023-03-02T11:17:19.852778Z",
     "start_time": "2023-03-02T11:17:19.836607Z"
    }
   },
   "outputs": [],
   "source": [
    "for i in range(len(OX_CLAGN5_info)):\n",
    "    ref=''\n",
    "    ref0=OX_CLAGN5_info.loc[i,'ref0']\n",
    "    \n",
    "    if ref0.find(',')>0:\n",
    "        isplit=ref0.split(',')       \n",
    "        for j in isplit:\n",
    "            ref=ref+'%d'%dict_bibcode_index[j]+','\n",
    "    \n",
    "    else:\n",
    "        ref=ref+'%d'%dict_bibcode_index[ref0]+','\n",
    "        \n",
    "    ref=ref[:-1]  \n",
    "    \n",
    "    print(OX_CLAGN5_info.loc[i,'Name'],'& ',\n",
    "          '(%s)'%ref,'& ',              \n",
    "          '%.4f'%OX_CLAGN5_info.loc[i,'redshift'],'& ',\n",
    "          '%.1f'%OX_CLAGN5_info.loc[i,'Nhgal'],'& ',\n",
    "           \n",
    "          OX_CLAGN5_info.loc[i,'logMbh'],'& ',          \n",
    "          '(%d'%dict_bibcode_index[OX_CLAGN5_info.loc[i,'ref1']]+')','& ',\n",
    "          \n",
    "          '%d'%OX_CLAGN5_info.loc[i,'inclination_angle'],'& ',\n",
    "          '(%d'%dict_bibcode_index[OX_CLAGN5_info.loc[i,'ref2']]+')',          \n",
    "          '\\\\\\\\') # an astropy.table.Table"
   ]
  },
  {
   "cell_type": "code",
   "execution_count": null,
   "metadata": {
    "ExecuteTime": {
     "end_time": "2023-03-02T11:17:23.747511Z",
     "start_time": "2023-03-02T11:17:23.736223Z"
    }
   },
   "outputs": [],
   "source": [
    "for index,bib in enumerate(CLAGNref_allmass_bibcodes):\n",
    "    print('(%d)'%(index+1)+'~'+'\\\\citet{%s}'%bib,end=' ')"
   ]
  },
  {
   "cell_type": "code",
   "execution_count": null,
   "metadata": {},
   "outputs": [],
   "source": [
    "dict_bibcode_index"
   ]
  },
  {
   "cell_type": "code",
   "execution_count": null,
   "metadata": {},
   "outputs": [],
   "source": []
  },
  {
   "cell_type": "code",
   "execution_count": null,
   "metadata": {},
   "outputs": [],
   "source": []
  },
  {
   "cell_type": "code",
   "execution_count": null,
   "metadata": {
    "ExecuteTime": {
     "end_time": "2023-03-02T11:17:30.686386Z",
     "start_time": "2023-03-02T11:17:30.674209Z"
    }
   },
   "outputs": [],
   "source": [
    "for i in range(len(OX_CLAGN5_info)):\n",
    "    print(OX_CLAGN5_info.loc[i,'Name'],'& ',\n",
    "          '\\citep{'+OX_CLAGN5_info.loc[i,'ref0']+'}','& ',\n",
    "          '%.4f'%OX_CLAGN5_info.loc[i,'redshift'],'& ',\n",
    "          OX_CLAGN5_info.loc[i,'logMbh'],'& ',\n",
    "          '\\citep{'+OX_CLAGN5_info.loc[i,'ref1']+'}','& ',\n",
    "          '%d'%OX_CLAGN5_info.loc[i,'inclination_angle'],'& ',\n",
    "          '\\citep{'+OX_CLAGN5_info.loc[i,'ref2']+'}',          \n",
    "          '\\\\\\\\') # an astropy.table.Table"
   ]
  },
  {
   "cell_type": "code",
   "execution_count": null,
   "metadata": {},
   "outputs": [],
   "source": []
  },
  {
   "cell_type": "code",
   "execution_count": 11,
   "metadata": {
    "ExecuteTime": {
     "end_time": "2023-03-16T01:36:39.279096Z",
     "start_time": "2023-03-16T01:36:39.267334Z"
    }
   },
   "outputs": [],
   "source": [
    "names_obsids=['ESO362-G18',\n",
    " 'NGC2992',\n",
    " 'NGC2992',\n",
    " 'NGC4151',\n",
    " 'NGC4151',\n",
    " 'NGC4151',\n",
    " 'NGC4151',\n",
    " 'NGC4151',\n",
    " 'NGC4151',\n",
    " 'NGC4151',\n",
    " 'NGC4151',\n",
    " 'NGC4151',\n",
    " 'NGC7582',\n",
    " 'NGC7582',\n",
    " 'NGC7582']\n",
    "\n",
    "obsids=['60201046002',\n",
    " '60160371002',\n",
    " '90501623002',\n",
    " '60001111002',\n",
    " '60001111003',\n",
    " '60001111005',\n",
    " '60502017002',\n",
    " '60502017004',\n",
    " '60502017006',\n",
    " '60502017008',\n",
    " '60502017010',\n",
    " '60502017012',\n",
    " '60061318002',\n",
    " '60061318004',\n",
    " '60201003002']\n",
    "\n",
    "mjds_obsids= [57655.8237058333,\n",
    " 57358.5737058333,\n",
    " 58613.035522963,\n",
    " 56243.2542498148,\n",
    " 56243.788972037,\n",
    " 56245.3445275926,\n",
    " 58688.3376062963,\n",
    " 58799.3896896296,\n",
    " 58841.473022963,\n",
    " 58858.316772963,\n",
    " 58867.5077451852,\n",
    " 58871.2681618519,\n",
    " 56170.6986942593,\n",
    " 56184.7125831482,\n",
    " 57506.2125947222]\n",
    "\n",
    "obsids_mjds_dict=dict(zip(obsids, mjds_obsids)) "
   ]
  },
  {
   "cell_type": "markdown",
   "metadata": {},
   "source": [
    "# plot_lightcurve"
   ]
  },
  {
   "cell_type": "code",
   "execution_count": null,
   "metadata": {
    "ExecuteTime": {
     "end_time": "2023-02-20T02:39:33.056846Z",
     "start_time": "2023-02-20T02:39:33.054103Z"
    }
   },
   "outputs": [],
   "source": [
    "slab_result_lc=slab_result.copy()\n",
    "slab_result_lc['mjd']= np.array(mjds_obsids)"
   ]
  },
  {
   "cell_type": "code",
   "execution_count": null,
   "metadata": {
    "ExecuteTime": {
     "end_time": "2023-02-20T02:39:33.075701Z",
     "start_time": "2023-02-20T02:39:33.057979Z"
    }
   },
   "outputs": [],
   "source": [
    "slab_result_lc"
   ]
  },
  {
   "cell_type": "code",
   "execution_count": null,
   "metadata": {
    "ExecuteTime": {
     "end_time": "2023-02-20T02:42:31.295867Z",
     "start_time": "2023-02-20T02:42:31.107138Z"
    }
   },
   "outputs": [],
   "source": [
    "fig = plt.figure(figsize=(9*1.5,9*1.5))\n",
    "fig.subplots_adjust(hspace=0., wspace = 0.0)\n",
    "ax = fig.add_subplot(3,3,1)\n",
    "\n",
    "xlabel='mjd'\n",
    "ylabel='zphabs_nh(10^22)'\n",
    "xerr_label=None #'log_f_err'\n",
    "yerr_label='zphabs_nh_err'\n",
    "color_label='black'\n",
    "#dataplot=slab_zgauss_result\n",
    "#ax=plot_errorbar_cmap(ax,dataplot,xlabel,ylabel,xerr=xerr_label,yerr=yerr_label,color_n=color_label,marker_n='name',size_n=None,logx=False,logy=False)\n",
    "dataplot=slab_result_lc\n",
    "ax=plot_errorbar(ax,dataplot,xlabel,ylabel,xerr=xerr_label,yerr=yerr_label,color_n=color_label,marker_n='name',size_n=None,logx=False,logy=False)\n",
    "set_ax_tick(ax)\n",
    "set_ax_locator(ax,xma=1000.0,xmi=200,yma=10,ymi=5)\n",
    "set_ax_legend(ax,bbox_to_anchor=(0.51, 0.99))\n",
    "#ax.set_ylim(-7,17)\n",
    "#ax.set_xlabel(r'log($L_{\\rm 2-10keV}/L_{\\rm Edd}$)')\n",
    "#ax.set_ylabel(r'$\\Gamma$')\n",
    "ax.set_xlabel(r'MJD')\n",
    "ax.set_ylabel(r'$N_{\\rm H,los (10^{22} cm^{-2})}$')\n",
    "#ax.semilogy()\n",
    "model_name='Slab'"
   ]
  },
  {
   "cell_type": "code",
   "execution_count": null,
   "metadata": {},
   "outputs": [],
   "source": []
  },
  {
   "cell_type": "code",
   "execution_count": null,
   "metadata": {},
   "outputs": [],
   "source": []
  },
  {
   "cell_type": "code",
   "execution_count": null,
   "metadata": {},
   "outputs": [],
   "source": []
  },
  {
   "cell_type": "code",
   "execution_count": null,
   "metadata": {},
   "outputs": [],
   "source": []
  },
  {
   "cell_type": "markdown",
   "metadata": {},
   "source": [
    "# mission = 'numaster'"
   ]
  },
  {
   "cell_type": "code",
   "execution_count": null,
   "metadata": {
    "ExecuteTime": {
     "end_time": "2023-01-31T01:56:17.002090Z",
     "start_time": "2023-01-31T01:56:16.853231Z"
    }
   },
   "outputs": [],
   "source": [
    "from astroquery.heasarc import Heasarc\n",
    "heasarc = Heasarc()\n",
    "mission = 'numaster'"
   ]
  },
  {
   "cell_type": "code",
   "execution_count": null,
   "metadata": {
    "ExecuteTime": {
     "end_time": "2022-10-18T09:43:36.792839Z",
     "start_time": "2022-10-18T09:43:36.780310Z"
    }
   },
   "outputs": [],
   "source": [
    "convert_date_single(57655.8).year,convert_date_single(57655.8).month,convert_date_single(57655.8).day"
   ]
  },
  {
   "cell_type": "markdown",
   "metadata": {},
   "source": [
    "## latex"
   ]
  },
  {
   "cell_type": "code",
   "execution_count": null,
   "metadata": {
    "ExecuteTime": {
     "end_time": "2023-01-31T01:56:33.683765Z",
     "start_time": "2023-01-31T01:56:33.558966Z"
    }
   },
   "outputs": [],
   "source": [
    "obsids=[]\n",
    "mjds=[]\n",
    "names=[]\n",
    "\n",
    "for object_name in OX_CLAGN5_nustar:\n",
    "    #object_name = OX_CLAGN5_nustar[0]\n",
    "    #print(object_name)\n",
    "    table = heasarc.query_object(object_name, mission=mission,radius='10 arcmin')\n",
    "    table = table.group_by('TIME')\n",
    "    #table[:3].pprint()\n",
    "    for index,name in enumerate(table['NAME']):    \n",
    "        if float(table['EXPOSURE_A'][index]/1000)>1:\n",
    "            mjd=float(table['TIME'][index])\n",
    "            year,month,day=convert_date_single(mjd).year,convert_date_single(mjd).month,convert_date_single(mjd).day\n",
    "            names.append(name.strip())\n",
    "            print(object_name,'&',\n",
    "                  '%s'%table['OBSID'][index],'&',\n",
    "                  '%.1f'%mjd,'&',      \n",
    "                   '%d-%d-%d'%(year,month,day),'&',    \n",
    "                  '%.2f'%float(table['EXPOSURE_A'][index]/1000),  '\\\\\\\\',\n",
    "                 )\n",
    "            obsids.append('%s'%table['OBSID'][index])\n",
    "            mjds.append(mjd)\n",
    "        #else: \n",
    "            #print()\n",
    "            #print(object_name,'&','%s'%table['OBSID'][index],'&','%.2f'%float(table['EXPOSURE_A'][index]/1000))"
   ]
  },
  {
   "cell_type": "code",
   "execution_count": null,
   "metadata": {
    "ExecuteTime": {
     "end_time": "2023-01-03T06:54:43.484813Z",
     "start_time": "2023-01-03T06:54:43.476565Z"
    }
   },
   "outputs": [],
   "source": [
    "names"
   ]
  },
  {
   "cell_type": "code",
   "execution_count": null,
   "metadata": {
    "ExecuteTime": {
     "end_time": "2023-01-03T06:33:49.692817Z",
     "start_time": "2023-01-03T06:33:49.682266Z"
    }
   },
   "outputs": [],
   "source": [
    "obsids"
   ]
  },
  {
   "cell_type": "code",
   "execution_count": null,
   "metadata": {
    "ExecuteTime": {
     "end_time": "2023-01-03T06:33:51.352478Z",
     "start_time": "2023-01-03T06:33:51.344100Z"
    }
   },
   "outputs": [],
   "source": [
    "mjds"
   ]
  },
  {
   "cell_type": "code",
   "execution_count": null,
   "metadata": {},
   "outputs": [],
   "source": []
  },
  {
   "cell_type": "code",
   "execution_count": null,
   "metadata": {},
   "outputs": [],
   "source": []
  },
  {
   "cell_type": "code",
   "execution_count": null,
   "metadata": {
    "ExecuteTime": {
     "end_time": "2023-01-31T01:54:28.344752Z",
     "start_time": "2023-01-31T01:54:28.334665Z"
    }
   },
   "outputs": [],
   "source": [
    "net_count_rates=[0.3553,\n",
    " 1.905,\n",
    " 2.646,\n",
    " 6.713,\n",
    " 6.358,\n",
    " 7.343,\n",
    " 6.244,\n",
    " 8.128,\n",
    " 7.666,\n",
    " 5.71,\n",
    " 6.067,\n",
    " 5.994,\n",
    " 0.3112,\n",
    " 0.2451,\n",
    " 0.5643]\n",
    "\n",
    "net_count_rate_errs=[0.002119,\n",
    " 0.009874,\n",
    " 0.006965,\n",
    " 0.01771,\n",
    " 0.01069,\n",
    " 0.01111,\n",
    " 0.01421,\n",
    " 0.01379,\n",
    " 0.01555,\n",
    " 0.01387,\n",
    " 0.01448,\n",
    " 0.01469,\n",
    " 0.004819,\n",
    " 0.004616,\n",
    " 0.003694]"
   ]
  },
  {
   "cell_type": "code",
   "execution_count": null,
   "metadata": {},
   "outputs": [],
   "source": []
  },
  {
   "cell_type": "code",
   "execution_count": null,
   "metadata": {
    "ExecuteTime": {
     "end_time": "2023-01-31T01:58:59.965687Z",
     "start_time": "2023-01-31T01:58:59.855381Z"
    }
   },
   "outputs": [],
   "source": [
    "obs_index=0\n",
    "\n",
    "for object_name in OX_CLAGN5_nustar:\n",
    "    #object_name = OX_CLAGN5_nustar[0]\n",
    "    #print(object_name)\n",
    "    table = heasarc.query_object(object_name, mission=mission,radius='10 arcmin')\n",
    "    table = table.group_by('TIME')\n",
    "    #table[:3].pprint()\n",
    "    for index,name in enumerate(table['NAME']):    \n",
    "        if float(table['EXPOSURE_A'][index]/1000)>1:\n",
    "            mjd=float(table['TIME'][index])\n",
    "            year,month,day=convert_date_single(mjd).year,convert_date_single(mjd).month,convert_date_single(mjd).day\n",
    "            print(object_name,'&',\n",
    "                  '%s'%table['OBSID'][index],'&',\n",
    "                  '%.1f'%mjd,'&',      \n",
    "                   '%d-%d-%d'%(year,month,day),'&',    \n",
    "                  '%.2f'%float(table['EXPOSURE_A'][index]/1000), \n",
    "                  '& %.3f'%net_count_rates[obs_index],'$\\pm$','%.3f'%net_count_rate_errs[obs_index],                  \n",
    "                  '\\\\\\\\',\n",
    "                 )\n",
    "            obs_index=obs_index+1            \n",
    "        #else: \n",
    "            #print()\n",
    "            #print(object_name,'&','%s'%table['OBSID'][index],'&','%.2f'%float(table['EXPOSURE_A'][index]/1000))"
   ]
  },
  {
   "cell_type": "code",
   "execution_count": null,
   "metadata": {},
   "outputs": [],
   "source": [
    "ESO 362-G18 & 60201046002 & 57655.8 & 2016-9-24 & 101.91 \\\\\n",
    "NGC 2992 & 90501623002 & 58613.0 & 2019-5-10 & 57.49 \\\\\n",
    "NGC 2992 & 60160371002 & 57358.6 & 2015-12-2 & 20.80 \\\\\n",
    "NGC 4151 & 60001111005 & 56245.3 & 2012-11-14 & 61.53 \\\\\n",
    "NGC 4151 & 60001111003 & 56243.8 & 2012-11-12 & 57.03 \\\\\n",
    "NGC 4151 & 60502017004 & 58799.4 & 2019-11-12 & 43.74 \\\\\n",
    "NGC 4151 & 60502017006 & 58841.5 & 2019-12-24 & 32.40 \\\\\n",
    "NGC 4151 & 60502017002 & 58688.3 & 2019-7-24 & 31.74 \\\\\n",
    "NGC 4151 & 60502017008 & 58858.3 & 2020-1-10 & 30.59 \\\\\n",
    "NGC 4151 & 60502017010 & 58867.5 & 2020-1-19 & 29.72 \\\\\n",
    "NGC 4151 & 60502017012 & 58871.3 & 2020-1-23 & 28.86 \\\\\n",
    "NGC 4151 & 60001111002 & 56243.3 & 2012-11-12 & 21.86 \\\\\n",
    "NGC 4395 & 60061322002 & 56422.1 & 2013-5-10 & 19.25 \\\\\n",
    "NGC 7582 & 60201003002 & 57506.2 & 2016-4-28 & 48.49 \\\\\n",
    "NGC 7582 & 60061318002 & 56170.7 & 2012-8-31 & 16.46 \\\\\n",
    "NGC 7582 & 60061318004 & 56184.7 & 2012-9-14 & 14.56 \\\\"
   ]
  },
  {
   "cell_type": "code",
   "execution_count": null,
   "metadata": {
    "ExecuteTime": {
     "end_time": "2022-11-11T04:25:13.732473Z",
     "start_time": "2022-11-11T04:25:13.721760Z"
    }
   },
   "outputs": [],
   "source": [
    "61/(1+0.361),195/(1+0.158)"
   ]
  },
  {
   "cell_type": "markdown",
   "metadata": {},
   "source": [
    "## ESO 362-G18"
   ]
  },
  {
   "cell_type": "code",
   "execution_count": null,
   "metadata": {
    "ExecuteTime": {
     "end_time": "2022-11-11T04:04:08.624838Z",
     "start_time": "2022-11-11T04:04:08.582862Z"
    }
   },
   "outputs": [],
   "source": [
    "object_name = OX_CLAGN5_nustar[2]\n",
    "print(object_name)\n",
    "table = heasarc.query_object(object_name, mission=mission,radius='10 arcmin')\n",
    "#table[:3].pprint()"
   ]
  },
  {
   "cell_type": "code",
   "execution_count": null,
   "metadata": {
    "ExecuteTime": {
     "end_time": "2022-11-11T04:09:23.679159Z",
     "start_time": "2022-11-11T04:09:23.675573Z"
    }
   },
   "outputs": [],
   "source": [
    "table.colnames"
   ]
  },
  {
   "cell_type": "code",
   "execution_count": null,
   "metadata": {
    "ExecuteTime": {
     "end_time": "2022-11-11T04:09:28.703626Z",
     "start_time": "2022-11-11T04:09:28.697932Z"
    }
   },
   "outputs": [],
   "source": [
    "table = table.group_by('TIME')"
   ]
  },
  {
   "cell_type": "code",
   "execution_count": null,
   "metadata": {
    "ExecuteTime": {
     "end_time": "2022-11-11T04:09:34.024908Z",
     "start_time": "2022-11-11T04:09:34.020066Z"
    }
   },
   "outputs": [],
   "source": [
    "table"
   ]
  },
  {
   "cell_type": "code",
   "execution_count": null,
   "metadata": {},
   "outputs": [],
   "source": []
  },
  {
   "cell_type": "code",
   "execution_count": null,
   "metadata": {
    "ExecuteTime": {
     "end_time": "2022-03-25T07:54:21.912086Z",
     "start_time": "2022-03-25T07:54:21.781557Z"
    }
   },
   "outputs": [],
   "source": [
    "table[:3].pprint()"
   ]
  },
  {
   "cell_type": "code",
   "execution_count": null,
   "metadata": {
    "ExecuteTime": {
     "end_time": "2022-10-18T09:34:59.528253Z",
     "start_time": "2022-10-18T09:34:59.519672Z"
    }
   },
   "outputs": [],
   "source": [
    "for index,name in enumerate(table['NAME']):\n",
    "    \n",
    "    print(object_name,'&',table['OBSID'][index],table['TIME'][index],table['EXPOSURE_A'][index])"
   ]
  },
  {
   "cell_type": "code",
   "execution_count": null,
   "metadata": {
    "ExecuteTime": {
     "end_time": "2022-10-18T09:36:29.091862Z",
     "start_time": "2022-10-18T09:36:29.080836Z"
    }
   },
   "outputs": [],
   "source": []
  },
  {
   "cell_type": "code",
   "execution_count": null,
   "metadata": {},
   "outputs": [],
   "source": []
  },
  {
   "cell_type": "code",
   "execution_count": null,
   "metadata": {},
   "outputs": [],
   "source": [
    "for i in range(len(table)):\n",
    "    \n",
    "    "
   ]
  },
  {
   "cell_type": "code",
   "execution_count": null,
   "metadata": {},
   "outputs": [],
   "source": []
  },
  {
   "cell_type": "code",
   "execution_count": null,
   "metadata": {},
   "outputs": [],
   "source": []
  },
  {
   "cell_type": "markdown",
   "metadata": {},
   "source": [
    "## NGC 2992"
   ]
  },
  {
   "cell_type": "code",
   "execution_count": null,
   "metadata": {
    "ExecuteTime": {
     "end_time": "2022-05-18T15:16:12.217196Z",
     "start_time": "2022-05-18T15:16:12.061848Z"
    }
   },
   "outputs": [],
   "source": [
    "from astroquery.heasarc import Heasarc\n",
    "heasarc = Heasarc()\n",
    "mission = 'numaster'\n",
    "\n",
    "object_name = OX_CLAGN5_nustar[1]\n",
    "print(object_name)\n",
    "table = heasarc.query_object(object_name, mission=mission,radius='10 arcmin')\n",
    "#table[:3].pprint()\n",
    "table"
   ]
  },
  {
   "cell_type": "code",
   "execution_count": null,
   "metadata": {
    "ExecuteTime": {
     "end_time": "2022-05-18T15:18:52.507770Z",
     "start_time": "2022-05-18T15:18:46.736210Z"
    }
   },
   "outputs": [],
   "source": [
    "\n",
    "mission_chandra = 'chanmaster'\n",
    "\n",
    "object_name = OX_CLAGN5_nustar[1]\n",
    "print(object_name)\n",
    "table_chandra = heasarc.query_object(object_name, mission=mission_chandra,radius='1 arcmin')\n",
    "#table[:3].pprint()\n",
    "table_chandra"
   ]
  },
  {
   "cell_type": "code",
   "execution_count": null,
   "metadata": {},
   "outputs": [],
   "source": []
  },
  {
   "cell_type": "code",
   "execution_count": null,
   "metadata": {
    "ExecuteTime": {
     "end_time": "2022-05-18T15:33:42.108942Z",
     "start_time": "2022-05-18T15:33:42.102225Z"
    }
   },
   "outputs": [],
   "source": [
    "10**22.25"
   ]
  },
  {
   "cell_type": "code",
   "execution_count": null,
   "metadata": {},
   "outputs": [],
   "source": []
  },
  {
   "cell_type": "code",
   "execution_count": null,
   "metadata": {},
   "outputs": [],
   "source": []
  },
  {
   "cell_type": "markdown",
   "metadata": {},
   "source": [
    "## NGC 4151"
   ]
  },
  {
   "cell_type": "code",
   "execution_count": null,
   "metadata": {
    "ExecuteTime": {
     "end_time": "2022-03-25T07:57:55.944277Z",
     "start_time": "2022-03-25T07:57:50.124861Z"
    }
   },
   "outputs": [],
   "source": [
    "object_name = OX_CLAGN5_nustar[2]\n",
    "print(object_name)\n",
    "table = heasarc.query_object(object_name, mission=mission,radius='10 arcmin')\n",
    "#table[:3].pprint()\n",
    "table"
   ]
  },
  {
   "cell_type": "markdown",
   "metadata": {},
   "source": [
    "## NGC 4395"
   ]
  },
  {
   "cell_type": "code",
   "execution_count": null,
   "metadata": {
    "ExecuteTime": {
     "end_time": "2022-10-20T08:15:44.941423Z",
     "start_time": "2022-10-20T08:15:44.901683Z"
    }
   },
   "outputs": [],
   "source": [
    "object_name = OX_CLAGN5_nustar[3]\n",
    "print(object_name)\n",
    "table = heasarc.query_object(object_name, mission=mission,radius='10 arcmin')\n",
    "#table[:3].pprint()\n",
    "table"
   ]
  },
  {
   "cell_type": "code",
   "execution_count": null,
   "metadata": {},
   "outputs": [],
   "source": []
  },
  {
   "cell_type": "markdown",
   "metadata": {},
   "source": [
    "## NGC 7582"
   ]
  },
  {
   "cell_type": "code",
   "execution_count": null,
   "metadata": {
    "ExecuteTime": {
     "end_time": "2022-05-22T15:32:14.269370Z",
     "start_time": "2022-05-22T15:32:14.207657Z"
    }
   },
   "outputs": [],
   "source": [
    "object_name = OX_CLAGN5_nustar[4]\n",
    "print(object_name)\n",
    "table = heasarc.query_object(object_name, mission=mission,radius='10 arcmin')\n",
    "#table[:3].pprint()\n",
    "table"
   ]
  },
  {
   "cell_type": "code",
   "execution_count": null,
   "metadata": {
    "ExecuteTime": {
     "end_time": "2022-05-22T15:32:44.754203Z",
     "start_time": "2022-05-22T15:32:44.746573Z"
    }
   },
   "outputs": [],
   "source": [
    "table.colnames"
   ]
  },
  {
   "cell_type": "code",
   "execution_count": null,
   "metadata": {
    "ExecuteTime": {
     "end_time": "2022-05-22T15:32:54.580181Z",
     "start_time": "2022-05-22T15:32:54.569959Z"
    },
    "scrolled": true
   },
   "outputs": [],
   "source": [
    "table[['NAME','TIME','OBSID','EXPOSURE_A']]"
   ]
  },
  {
   "cell_type": "code",
   "execution_count": null,
   "metadata": {},
   "outputs": [],
   "source": []
  },
  {
   "cell_type": "markdown",
   "metadata": {
    "ExecuteTime": {
     "end_time": "2022-03-25T07:50:54.566592Z",
     "start_time": "2022-03-25T07:50:49.578991Z"
    }
   },
   "source": [
    "from astroquery.heasarc import Heasarc\n",
    "#heasarc = Heasarc()\n",
    "mission = 'rosmaster'\n",
    "object_name = '3c273'\n",
    "table = heasarc.query_object(object_name, mission=mission)\n",
    "table[:3].pprint()"
   ]
  },
  {
   "cell_type": "code",
   "execution_count": null,
   "metadata": {},
   "outputs": [],
   "source": []
  },
  {
   "cell_type": "code",
   "execution_count": null,
   "metadata": {},
   "outputs": [],
   "source": [
    "(e.g., ESO 362-G18, NGC 2992, NGC 4151, NGC 4395, and NGC 7582)"
   ]
  },
  {
   "cell_type": "code",
   "execution_count": null,
   "metadata": {},
   "outputs": [],
   "source": []
  },
  {
   "cell_type": "code",
   "execution_count": null,
   "metadata": {},
   "outputs": [],
   "source": []
  },
  {
   "cell_type": "code",
   "execution_count": null,
   "metadata": {
    "ExecuteTime": {
     "end_time": "2022-03-24T11:58:08.716607Z",
     "start_time": "2022-03-24T11:58:08.123592Z"
    }
   },
   "outputs": [],
   "source": [
    "import math\n",
    "import numpy as np"
   ]
  },
  {
   "cell_type": "markdown",
   "metadata": {},
   "source": [
    "$$N_H^{los}=N_H^{eq}[1-4cos(i)]^{2}$$"
   ]
  },
  {
   "cell_type": "code",
   "execution_count": null,
   "metadata": {
    "ExecuteTime": {
     "end_time": "2022-03-24T11:55:15.056491Z",
     "start_time": "2022-03-24T11:55:15.052198Z"
    }
   },
   "outputs": [],
   "source": [
    "NH_eq=2.3e24 \n",
    "NH_los=7.5e23"
   ]
  },
  {
   "cell_type": "code",
   "execution_count": null,
   "metadata": {
    "ExecuteTime": {
     "end_time": "2022-03-24T11:56:41.568472Z",
     "start_time": "2022-03-24T11:56:41.563923Z"
    }
   },
   "outputs": [],
   "source": [
    "cos_i=(1-(NH_los/NH_eq)**2)/4.0"
   ]
  },
  {
   "cell_type": "code",
   "execution_count": null,
   "metadata": {
    "ExecuteTime": {
     "end_time": "2022-03-24T11:58:14.763507Z",
     "start_time": "2022-03-24T11:58:14.759748Z"
    }
   },
   "outputs": [],
   "source": [
    "math.acos(cos_i)/np.pi*180"
   ]
  },
  {
   "cell_type": "code",
   "execution_count": null,
   "metadata": {
    "ExecuteTime": {
     "end_time": "2022-03-24T11:56:45.720579Z",
     "start_time": "2022-03-24T11:56:45.707124Z"
    }
   },
   "outputs": [],
   "source": [
    "cos_i"
   ]
  },
  {
   "cell_type": "code",
   "execution_count": null,
   "metadata": {
    "ExecuteTime": {
     "end_time": "2022-03-24T13:41:56.541456Z",
     "start_time": "2022-03-24T13:41:56.534108Z"
    }
   },
   "outputs": [],
   "source": [
    "558/479"
   ]
  },
  {
   "cell_type": "code",
   "execution_count": null,
   "metadata": {
    "ExecuteTime": {
     "end_time": "2022-03-24T17:53:36.844850Z",
     "start_time": "2022-03-24T17:53:36.838289Z"
    }
   },
   "outputs": [],
   "source": [
    "521.22/479"
   ]
  },
  {
   "cell_type": "code",
   "execution_count": null,
   "metadata": {
    "ExecuteTime": {
     "end_time": "2022-03-25T16:33:32.500591Z",
     "start_time": "2022-03-25T16:33:32.493119Z"
    }
   },
   "outputs": [],
   "source": [
    "10.67+7.26+2.62+2.11+2.11+1.41+1.31+1.24+1.22+1.1+1.04+1.03"
   ]
  },
  {
   "cell_type": "code",
   "execution_count": null,
   "metadata": {
    "ExecuteTime": {
     "end_time": "2022-03-31T06:48:04.346360Z",
     "start_time": "2022-03-31T06:48:04.215982Z"
    }
   },
   "outputs": [],
   "source": [
    "from astropy.cosmology import FlatLambdaCDM,Planck13,Planck15,z_at_value\n",
    "from astropy import units as u\n",
    "from astropy.cosmology import LambdaCDM\n",
    "cosmo = LambdaCDM(H0=70, Om0=0.27, Ode0=0.73)\n",
    "#cosmo=FlatLambdaCDM(H0=73,Om0=0.3)"
   ]
  },
  {
   "cell_type": "markdown",
   "metadata": {},
   "source": []
  },
  {
   "cell_type": "markdown",
   "metadata": {},
   "source": [
    "# def_plot_"
   ]
  },
  {
   "cell_type": "code",
   "execution_count": null,
   "metadata": {
    "ExecuteTime": {
     "end_time": "2023-03-02T14:30:03.925850Z",
     "start_time": "2023-03-02T14:30:03.914692Z"
    }
   },
   "outputs": [],
   "source": [
    "def cmap_setup(cmap='viridis', min_freq=0, max_freq=20):\n",
    "    '''\n",
    "        This function will set up a scalar map for you to colour your markers by frequency\n",
    "        '''\n",
    "    freq_cmap = plt.cm.get_cmap(cmap)\n",
    "    \n",
    "    cNorm  = colors.Normalize(vmin=min_freq, vmax=max_freq)\n",
    "    scalarMap = cm.ScalarMappable(norm=cNorm, cmap=cmap)\n",
    "    sm = scalarMap\n",
    "    sm._A = []\n",
    "    return sm"
   ]
  },
  {
   "cell_type": "code",
   "execution_count": null,
   "metadata": {
    "ExecuteTime": {
     "end_time": "2023-03-02T14:30:05.005836Z",
     "start_time": "2023-03-02T14:30:04.999895Z"
    }
   },
   "outputs": [],
   "source": [
    "markers_pd=['o','s','^','v','p','d','+']"
   ]
  },
  {
   "cell_type": "code",
   "execution_count": null,
   "metadata": {
    "ExecuteTime": {
     "end_time": "2023-03-02T14:30:05.380546Z",
     "start_time": "2023-03-02T14:30:05.359440Z"
    }
   },
   "outputs": [],
   "source": [
    "def plot_errorbar_cmap(ax,data,x,y,xerr=None,yerr=None,color_n=None,marker_n=None,size_n=None,logx=False,logy=False,blank_plot=False):    \n",
    "    if marker_n is not None:\n",
    "    #Get the scalar map, plot the data using the plot_data function above\n",
    "        pmarker=data[marker_n].drop_duplicates()\n",
    "        marker_dict = dict(zip(pmarker, markers_pd[:len(pmarker)]))\n",
    "        \n",
    "    sm = cmap_setup(cmap='viridis', min_freq=min(data[color_n]), max_freq=max(data[color_n])) #Greys\n",
    "    cbar = fig.colorbar(sm,fraction=0.046, pad=0.04)\n",
    "    cbar.set_label(str.upper(color_n))\n",
    "    \n",
    "    for row in range(len(data)):    \n",
    "        if xerr==None:\n",
    "            x_=0\n",
    "        else:\n",
    "            x_=data.loc[row][xerr]\n",
    "            \n",
    "        if yerr==None:\n",
    "            y_=0\n",
    "        else:\n",
    "            y_=data.loc[row][yerr]    \n",
    "         \n",
    "        if y_<0:\n",
    "            y_=0\n",
    "            \n",
    "        px=data.loc[row][x]        \n",
    "        py=data.loc[row][y]\n",
    "                 \n",
    "        colorval = sm.to_rgba(data.loc[row][color_n] )\n",
    "        marker=marker_dict[data.loc[row][marker_n]]             \n",
    "        label=data.loc[row]['name']\n",
    "        \n",
    "        \n",
    "        if size_n ==None :\n",
    "            size=10\n",
    "        else:\n",
    "            minsize=min(data[size_n])\n",
    "            maxsize=max(data[size_n])\n",
    "            size=5+(data.loc[row][size_n]-minsize)/(maxsize-minsize)*3   \n",
    "        \n",
    "        #print(px,py,py+data.loc[row]['lag_lower'],py+data.loc[row]['lag_upper'])\n",
    "        #pyerr= data.loc[row]['iccf_tau_error']\n",
    "        #pyerr_upper= float(pyerr.split('/')[0])\n",
    "        #pyerr_lower= float(pyerr.split('/')[1])\n",
    "        #if x_>0 and y_>0:\n",
    "            #if px>x_ and py>y_ :\n",
    "        if abs(px)>= abs(x_) and abs(py)>=abs(y_):\n",
    "            if blank_plot:\n",
    "                ax.errorbar(\n",
    "                    x=px,\n",
    "                    y=py,\n",
    "                    xerr=x_,\n",
    "                    yerr=y_,\n",
    "                    #linestyle='--', \n",
    "                    marker=marker,\n",
    "                    markersize=11, color=colorval,mec=colorval,ecolor=colorval,\n",
    "                    elinewidth=2,ls='',fillstyle='none',\n",
    "                    label=label,alpha=1.0)    \n",
    "                \n",
    "            \n",
    "            else:           \n",
    "                ax.errorbar(\n",
    "                    x=px,\n",
    "                    y=py,\n",
    "                    xerr=x_,\n",
    "                    yerr=y_,\n",
    "                    #linestyle='--', \n",
    "                    marker=marker,\n",
    "                    markersize=11, color=colorval,\n",
    "                    label=label,alpha=1.0)      \n",
    "        #ax.vlines(x=px,ymin=py+pyerr_lower, ymax=py+pyerr_upper,linestyle='-',lw=2,color=colorval,)                \n",
    "    return ax\n"
   ]
  },
  {
   "cell_type": "code",
   "execution_count": null,
   "metadata": {
    "ExecuteTime": {
     "end_time": "2023-03-02T14:30:07.913212Z",
     "start_time": "2023-03-02T14:30:07.891106Z"
    }
   },
   "outputs": [],
   "source": [
    "def plot_errorbar(ax,data,x,y,xerr=None,yerr=None,color_n=None,marker_n=None,size_n=None,logx=False,logy=False,blank_plot=False):    \n",
    "    if marker_n is not None:\n",
    "    #Get the scalar map, plot the data using the plot_data function above\n",
    "        pmarker=data[marker_n].drop_duplicates()\n",
    "        marker_dict = dict(zip(pmarker, markers_pd[:len(pmarker)]))\n",
    "    if color_n==None:    \n",
    "        colorval='black'\n",
    "    else:\n",
    "        colorval=color_n\n",
    "        \n",
    "    \n",
    "    for row in range(len(data)):    \n",
    "        if xerr==None:\n",
    "            x_=0\n",
    "        else:\n",
    "            x_=data.loc[row][xerr]\n",
    "            \n",
    "        if yerr==None:\n",
    "            y_=0\n",
    "        else:\n",
    "            y_=data.loc[row][yerr]    \n",
    "         \n",
    "        if y_<0:\n",
    "            y_=0\n",
    "            \n",
    "        px=data.loc[row][x]        \n",
    "        py=data.loc[row][y]\n",
    "                 \n",
    "        marker=marker_dict[data.loc[row][marker_n]]             \n",
    "        label=data.loc[row]['name']\n",
    "        \n",
    "        \n",
    "        if size_n ==None :\n",
    "            size=10\n",
    "        else:\n",
    "            minsize=min(data[size_n])\n",
    "            maxsize=max(data[size_n])\n",
    "            size=5+(data.loc[row][size_n]-minsize)/(maxsize-minsize)*3   \n",
    "        \n",
    "        #print(px,py,py+data.loc[row]['lag_lower'],py+data.loc[row]['lag_upper'])\n",
    "        #pyerr= data.loc[row]['iccf_tau_error']\n",
    "        #pyerr_upper= float(pyerr.split('/')[0])\n",
    "        #pyerr_lower= float(pyerr.split('/')[1])\n",
    "        #if x_>0 and y_>0:\n",
    "            #if px>x_ and py>y_ :\n",
    "        if abs(px)>= abs(x_) and abs(py)>=abs(y_):\n",
    "            if blank_plot:\n",
    "                ax.errorbar(\n",
    "                    x=px,\n",
    "                    y=py,\n",
    "                    xerr=x_,\n",
    "                    yerr=y_,\n",
    "                    #linestyle='--', \n",
    "                    marker=marker,\n",
    "                    markersize=11, color=colorval,mec=colorval,ecolor=colorval,\n",
    "                    elinewidth=2,ls='',fillstyle='none',\n",
    "                    label=label,alpha=1.0)    \n",
    "                \n",
    "            \n",
    "            else:           \n",
    "                ax.errorbar(\n",
    "                    x=px,\n",
    "                    y=py,\n",
    "                    xerr=x_,\n",
    "                    yerr=y_,\n",
    "                    #linestyle='--', \n",
    "                    marker=marker,\n",
    "                    markersize=11, color=colorval,\n",
    "                    label=label,alpha=1.0)      \n",
    "        #ax.vlines(x=px,ymin=py+pyerr_lower, ymax=py+pyerr_upper,linestyle='-',lw=2,color=colorval,)                \n",
    "    return ax\n"
   ]
  },
  {
   "cell_type": "markdown",
   "metadata": {},
   "source": [
    "# result"
   ]
  },
  {
   "cell_type": "markdown",
   "metadata": {},
   "source": [
    "## dict"
   ]
  },
  {
   "cell_type": "code",
   "execution_count": null,
   "metadata": {
    "ExecuteTime": {
     "end_time": "2023-03-02T11:17:46.125095Z",
     "start_time": "2023-03-02T11:17:46.115557Z"
    }
   },
   "outputs": [],
   "source": [
    "OX_CLAGN5_nustar=['ESO 362-G18', 'NGC 2992', 'NGC 4151','NGC 7582']\n",
    "OX_CLAGN5_nustar_resultname=['ESO362-G18', 'NGC2992', 'NGC4151','NGC7582']\n",
    "OX_CLAGN5_redshift=[0.0124,0.0077,0.0033,0.0053]\n",
    "OX_CLAGN5_galNH=[1.8*0.01,5.5*0.01,2.3*0.01,1.3*0.01]\n",
    "OX_CLAGN5_logM=[7.65,7.48,7.56,7.74]\n",
    "OX_CLAGN5_inclination=[53,70,58,68]\n",
    "\n",
    "\n",
    "name_mass_dict = dict(zip(OX_CLAGN5_nustar_resultname, OX_CLAGN5_logM))\n",
    "name_redshift_dict=dict(zip(OX_CLAGN5_nustar_resultname, OX_CLAGN5_redshift))\n",
    "name_inclination_dict=dict(zip(OX_CLAGN5_nustar_resultname, OX_CLAGN5_inclination))\n",
    "\n"
   ]
  },
  {
   "cell_type": "code",
   "execution_count": null,
   "metadata": {},
   "outputs": [],
   "source": []
  },
  {
   "cell_type": "code",
   "execution_count": null,
   "metadata": {},
   "outputs": [],
   "source": []
  },
  {
   "cell_type": "code",
   "execution_count": null,
   "metadata": {
    "ExecuteTime": {
     "end_time": "2023-03-02T11:17:48.260921Z",
     "start_time": "2023-03-02T11:17:47.820566Z"
    }
   },
   "outputs": [],
   "source": [
    "from astropy.cosmology import FlatLambdaCDM,Planck13,Planck15,z_at_value\n",
    "from astropy import units as u\n",
    "from astropy.cosmology import LambdaCDM\n",
    "cosmo = LambdaCDM(H0=70, Om0=0.27, Ode0=0.73)"
   ]
  },
  {
   "cell_type": "markdown",
   "metadata": {},
   "source": [
    "## slab_zgauss"
   ]
  },
  {
   "cell_type": "markdown",
   "metadata": {
    "ExecuteTime": {
     "end_time": "2023-01-07T08:46:55.216551Z",
     "start_time": "2023-01-07T08:46:55.199900Z"
    }
   },
   "source": [
    "slab_cflux_zgauss_result=pd.read_csv('/Users/lyubing/Downloads/00slab_cflux_zgauss.csv',header=0,delimiter=',')#,,header=0)"
   ]
  },
  {
   "cell_type": "markdown",
   "metadata": {
    "ExecuteTime": {
     "end_time": "2023-01-07T07:48:39.565339Z",
     "start_time": "2023-01-07T07:48:39.537287Z"
    }
   },
   "source": [
    "slab_cflux_zgauss_result.to_excel('/Users/lyubing/Downloads/OXCLAGN_slab_zgauss.xlsx',index=False)"
   ]
  },
  {
   "cell_type": "markdown",
   "metadata": {
    "ExecuteTime": {
     "end_time": "2023-01-07T08:47:02.510529Z",
     "start_time": "2023-01-07T08:47:02.490805Z"
    }
   },
   "source": [
    "#slab_zgauss_result.columns=['name','obsid','log_f','log_f_err','zphabs_nh','zphabs_nh_err','phoindex','phoindex_err','zgaussLineE','zgaussLineE_err','zgaussSigma','zgaussSigma_err','chi_2','bins','rechi_2']\n",
    "for i in range(len(slab_cflux_zgauss_result)):\n",
    "    slab_cflux_zgauss_result.loc[i,'logmass']= name_mass_dict[slab_cflux_zgauss_result.loc[i,'name']]   \n",
    "slab_cflux_zgauss_result['logLedd']= np.log10(1.26e38)+slab_cflux_zgauss_result['logmass']\n",
    "\n",
    "\n",
    "for i in range(len(slab_cflux_zgauss_result)):\n",
    "    slab_cflux_zgauss_result.loc[i,'redshift']= name_redshift_dict[slab_cflux_zgauss_result.loc[i,'name']]   \n",
    "    slab_cflux_zgauss_result.loc[i,'D_cm']= cosmo.luminosity_distance(z=name_redshift_dict[slab_cflux_zgauss_result.loc[i,'name']]).to(u.cm).value \n",
    "       \n",
    "slab_cflux_zgauss_result['log_Lx/Ledd']=np.log10(4*np.pi*slab_cflux_zgauss_result['D_cm']**2)+slab_cflux_zgauss_result['log_f']-slab_cflux_zgauss_result['logLedd']\n"
   ]
  },
  {
   "cell_type": "markdown",
   "metadata": {
    "ExecuteTime": {
     "end_time": "2023-01-07T08:47:17.524191Z",
     "start_time": "2023-01-07T08:47:17.494510Z"
    }
   },
   "source": [
    "slab_cflux_zgauss_result.to_excel('/Users/lyubing/Downloads/OXCLAGN_slab_cflux_zgauss.xlsx',index=False)"
   ]
  },
  {
   "cell_type": "code",
   "execution_count": null,
   "metadata": {
    "ExecuteTime": {
     "end_time": "2023-01-05T12:05:00.371804Z",
     "start_time": "2023-01-05T12:05:00.330864Z"
    }
   },
   "outputs": [],
   "source": []
  },
  {
   "cell_type": "code",
   "execution_count": null,
   "metadata": {},
   "outputs": [],
   "source": []
  },
  {
   "cell_type": "markdown",
   "metadata": {},
   "source": [
    "## slab_pexrav"
   ]
  },
  {
   "cell_type": "markdown",
   "metadata": {
    "ExecuteTime": {
     "end_time": "2023-01-07T13:22:36.702492Z",
     "start_time": "2023-01-07T13:22:36.687982Z"
    }
   },
   "source": [
    "slab_cflux_pexrav_result=pd.read_csv('/Users/lyubing/Downloads/00slab_cflux_pexrav.py',delimiter=',',header=0)"
   ]
  },
  {
   "cell_type": "markdown",
   "metadata": {
    "ExecuteTime": {
     "end_time": "2023-01-07T13:22:39.646108Z",
     "start_time": "2023-01-07T13:22:39.618139Z"
    }
   },
   "source": [
    "for i in range(len(slab_cflux_pexrav_result)):\n",
    "    slab_cflux_pexrav_result.loc[i,'logmass']= name_mass_dict[slab_cflux_pexrav_result.loc[i,'name']]\n",
    "slab_cflux_pexrav_result['logLedd']= np.log10(1.26e38)+slab_cflux_pexrav_result['logmass']\n",
    "\n",
    "\n",
    "for i in range(len(slab_cflux_pexrav_result)):\n",
    "    slab_cflux_pexrav_result.loc[i,'redshift']= name_redshift_dict[slab_cflux_pexrav_result.loc[i,'name']]\n",
    "    slab_cflux_pexrav_result.loc[i,'D_cm']= cosmo.luminosity_distance(z=name_redshift_dict[slab_cflux_pexrav_result.loc[i,'name']]).to(u.cm).value\n",
    "       \n",
    "slab_cflux_pexrav_result['log_Lx/Ledd']=np.log10(4*np.pi*slab_cflux_pexrav_result['D_cm']**2)+slab_cflux_pexrav_result['log_f']-slab_cflux_pexrav_result['logLedd']"
   ]
  },
  {
   "cell_type": "markdown",
   "metadata": {
    "ExecuteTime": {
     "end_time": "2023-01-07T13:22:41.009297Z",
     "start_time": "2023-01-07T13:22:40.981395Z"
    }
   },
   "source": [
    "slab_cflux_pexrav_result.to_excel('/Users/lyubing/Downloads/OXCLAGN_slab_cflux_pexrav.xlsx',index=False)"
   ]
  },
  {
   "cell_type": "code",
   "execution_count": null,
   "metadata": {
    "ExecuteTime": {
     "end_time": "2023-01-07T13:22:41.600950Z",
     "start_time": "2023-01-07T13:22:41.565683Z"
    }
   },
   "outputs": [],
   "source": [
    "slab_cflux_pexrav_result"
   ]
  },
  {
   "cell_type": "code",
   "execution_count": null,
   "metadata": {},
   "outputs": [],
   "source": []
  },
  {
   "cell_type": "code",
   "execution_count": null,
   "metadata": {},
   "outputs": [],
   "source": []
  },
  {
   "cell_type": "markdown",
   "metadata": {},
   "source": [
    "## slab_pexrav_fscat"
   ]
  },
  {
   "cell_type": "markdown",
   "metadata": {
    "ExecuteTime": {
     "end_time": "2023-01-07T14:05:01.789434Z",
     "start_time": "2023-01-07T14:05:01.762110Z"
    }
   },
   "source": [
    "slab_cflux_pexrav_fscat_result=pd.read_csv('/Users/lyubing/Downloads/00slab_cflux_pexrav_fscat.csv',delimiter=',',header=0)\n",
    "\n",
    "for i in range(len(slab_cflux_pexrav_fscat_result)):\n",
    "    slab_cflux_pexrav_fscat_result.loc[i,'logmass']= name_mass_dict[slab_cflux_pexrav_fscat_result.loc[i,'name']]\n",
    "slab_cflux_pexrav_fscat_result['logLedd']= np.log10(1.26e38)+slab_cflux_pexrav_fscat_result['logmass']\n",
    "\n",
    "\n",
    "for i in range(len(slab_cflux_pexrav_fscat_result)):\n",
    "    slab_cflux_pexrav_fscat_result.loc[i,'redshift']= name_redshift_dict[slab_cflux_pexrav_fscat_result.loc[i,'name']]\n",
    "    slab_cflux_pexrav_fscat_result.loc[i,'D_cm']= cosmo.luminosity_distance(z=name_redshift_dict[slab_cflux_pexrav_fscat_result.loc[i,'name']]).to(u.cm).value\n",
    "       \n",
    "slab_cflux_pexrav_fscat_result['log_Lx/Ledd']=np.log10(4*np.pi*slab_cflux_pexrav_fscat_result['D_cm']**2)+slab_cflux_pexrav_fscat_result['log_f']-slab_cflux_pexrav_fscat_result['logLedd']\n"
   ]
  },
  {
   "cell_type": "markdown",
   "metadata": {
    "ExecuteTime": {
     "end_time": "2023-01-07T14:05:02.079245Z",
     "start_time": "2023-01-07T14:05:02.050284Z"
    }
   },
   "source": [
    "slab_cflux_pexrav_fscat_result.to_excel('/Users/lyubing/Downloads/OXCLAGN_slab_cflux_pexrav_fscat.xlsx',index=False)"
   ]
  },
  {
   "cell_type": "code",
   "execution_count": null,
   "metadata": {
    "ExecuteTime": {
     "end_time": "2023-01-07T13:58:04.201399Z",
     "start_time": "2023-01-07T13:58:04.171748Z"
    }
   },
   "outputs": [],
   "source": [
    "slab_cflux_pexrav_fscat_result"
   ]
  },
  {
   "cell_type": "markdown",
   "metadata": {},
   "source": [
    "## plot_slab"
   ]
  },
  {
   "cell_type": "code",
   "execution_count": null,
   "metadata": {
    "ExecuteTime": {
     "end_time": "2023-03-02T14:42:17.053909Z",
     "start_time": "2023-03-02T14:42:16.985950Z"
    }
   },
   "outputs": [],
   "source": [
    "slab_result_obs=pd.read_excel('/Users/lyubing/Downloads/OXCLAGN/OXCLAGN.xlsx',sheet_name='slab_final')\n",
    "\n",
    "for i in range(len(slab_result_obs)):\n",
    "    slab_result_obs.loc[i,'logmass']= name_mass_dict[slab_result_obs.loc[i,'name']]\n",
    "slab_result_obs['logLedd']= np.log10(1.26e38)+slab_result_obs['logmass']\n",
    "\n",
    "for i in range(len(slab_result_obs)):\n",
    "    slab_result_obs.loc[i,'redshift']= name_redshift_dict[slab_result_obs.loc[i,'name']]\n",
    "    slab_result_obs.loc[i,'D_cm']= cosmo.luminosity_distance(z=name_redshift_dict[slab_result_obs.loc[i,'name']]).to(u.cm).value\n",
    "\n",
    "slab_result_obs['logLx']=np.log10(4*np.pi)+np.log10(slab_result_obs['D_cm'])*2.0+slab_result_obs['log_f']\n",
    "slab_result_obs['log_Lx/Ledd']=slab_result_obs['logLx']-slab_result_obs['logLedd']  \n",
    "\n",
    "slab_result_obs['logLx_10to50keV']=np.log10(4*np.pi)+np.log10(slab_result_obs['D_cm'])*2.0+slab_result_obs['log_f_10to50keV']\n",
    "slab_result_obs['log_Lx_10to50keV/Ledd']=slab_result_obs['logLx_10to50keV']-slab_result_obs['logLedd'] \n"
   ]
  },
  {
   "cell_type": "code",
   "execution_count": null,
   "metadata": {},
   "outputs": [],
   "source": []
  },
  {
   "cell_type": "code",
   "execution_count": null,
   "metadata": {},
   "outputs": [],
   "source": []
  },
  {
   "cell_type": "code",
   "execution_count": null,
   "metadata": {
    "ExecuteTime": {
     "end_time": "2023-03-02T14:29:39.963310Z",
     "start_time": "2023-03-02T14:29:39.808092Z"
    }
   },
   "outputs": [],
   "source": [
    "slab_result=pd.read_excel('/Users/lyubing/Downloads/OXCLAGN/OXCLAGN_intrinsicL.xlsx',sheet_name='slab_final')\n",
    "\n",
    "for i in range(len(slab_result)):\n",
    "    slab_result.loc[i,'logmass']= name_mass_dict[slab_result.loc[i,'name']]\n",
    "slab_result['logLedd']= np.log10(1.26e38)+slab_result['logmass']\n",
    "\n",
    "for i in range(len(slab_result)):\n",
    "    slab_result.loc[i,'redshift']= name_redshift_dict[slab_result.loc[i,'name']]\n",
    "    slab_result.loc[i,'D_cm']= cosmo.luminosity_distance(z=name_redshift_dict[slab_result.loc[i,'name']]).to(u.cm).value\n",
    "\n",
    "slab_result['logLx']=np.log10(4*np.pi)+np.log10(slab_result['D_cm'])*2.0+slab_result['log_f']\n",
    "slab_result['log_Lx/Ledd']=slab_result['logLx']-slab_result['logLedd']  \n",
    "\n",
    "slab_result['logLx_10to50keV']=np.log10(4*np.pi)+np.log10(slab_result['D_cm'])*2.0+slab_result['log_f_10to50keV']\n",
    "slab_result['log_Lx_10to50keV/Ledd']=slab_result['logLx_10to50keV']-slab_result['logLedd'] \n"
   ]
  },
  {
   "cell_type": "code",
   "execution_count": null,
   "metadata": {
    "ExecuteTime": {
     "end_time": "2023-03-02T14:47:29.170338Z",
     "start_time": "2023-03-02T14:47:29.150044Z"
    }
   },
   "outputs": [],
   "source": [
    "print('name,obsid,nh,L10-50keV_intrinsic/Ledd,Lobs/Ledd,delta')\n",
    "for index,name in enumerate(slab_result['name']):  \n",
    "    print(\n",
    "        name,'&',\n",
    "    '%s'%slab_result['obsid'][index],'&',\n",
    "    '%.2f'%slab_result['zphabs_nh(10^22)'][index],'$\\pm$', '%.2f'%slab_result['zphabs_nh_err'][index],'&',\n",
    "    \n",
    "    '%.3f'%float(slab_result['log_Lx_10to50keV/Ledd'][index]),'$\\pm$','%.3f'%float(slab_result['log_f_err_10to50keV'][index]),  '\\\\\\\\',\n",
    "  \n",
    "    '%.3f'%float(slab_result_obs['log_Lx_10to50keV/Ledd'][index]),'$\\pm$','%.3f'%float(slab_result_obs['log_f_err_10to50keV'][index]),  '\\\\\\\\',\n",
    "     \n",
    "    float(slab_result['log_Lx_10to50keV/Ledd'][index])-  float(slab_result_obs['log_Lx_10to50keV/Ledd'][index])   \n",
    "        \n",
    "    )"
   ]
  },
  {
   "cell_type": "code",
   "execution_count": null,
   "metadata": {},
   "outputs": [],
   "source": []
  },
  {
   "cell_type": "code",
   "execution_count": null,
   "metadata": {},
   "outputs": [],
   "source": []
  },
  {
   "cell_type": "code",
   "execution_count": null,
   "metadata": {},
   "outputs": [],
   "source": []
  },
  {
   "cell_type": "code",
   "execution_count": null,
   "metadata": {},
   "outputs": [],
   "source": []
  },
  {
   "cell_type": "code",
   "execution_count": null,
   "metadata": {
    "ExecuteTime": {
     "end_time": "2023-03-02T11:17:53.527445Z",
     "start_time": "2023-03-02T11:17:53.517617Z"
    }
   },
   "outputs": [],
   "source": [
    "slab_result.columns"
   ]
  },
  {
   "cell_type": "code",
   "execution_count": null,
   "metadata": {
    "ExecuteTime": {
     "end_time": "2023-03-01T07:25:39.546296Z",
     "start_time": "2023-03-01T07:25:39.521832Z"
    }
   },
   "outputs": [],
   "source": [
    "slab_result"
   ]
  },
  {
   "cell_type": "markdown",
   "metadata": {},
   "source": [
    "### slab_latex"
   ]
  },
  {
   "cell_type": "code",
   "execution_count": null,
   "metadata": {
    "ExecuteTime": {
     "end_time": "2023-03-02T14:39:22.136912Z",
     "start_time": "2023-03-02T14:39:22.114723Z"
    }
   },
   "outputs": [],
   "source": [
    "for index,name in enumerate(slab_result['name']):  \n",
    "    if slab_result['highEcut_err'][index]==-1:\n",
    "        slab_highEcut_err_cmd='$^f$'\n",
    "    else:\n",
    "        slab_highEcut_err_cmd='$\\pm$'+'%.1f'%slab_result['highEcut_err'][index]\n",
    "          \n",
    "    print(name,'&',\n",
    "          '%s'%slab_result['obsid'][index],'&',\n",
    "          '%.2f'%slab_result['zphabs_nh(10^22)'][index],'$\\pm$', '%.2f'%slab_result['zphabs_nh_err'][index],'&',\n",
    "          '%.2f'%slab_result['phoindex'][index],'$\\pm$', '%.2f'%slab_result['phoindex_err'][index],'&',\n",
    "\n",
    "          '%.1f'%slab_result['highEcut'][index]+slab_highEcut_err_cmd,'&',\n",
    "          '%.2f'%slab_result['zgaussLineE'][index],'$\\pm$', '%.2f'%slab_result['zgaussLineE_err'][index],'&',\n",
    "          #'%.2f'%slab_result['zgaussSigma'][index],'$\\pm$', '%.2f'%slab_result['zgaussSigma_err'][index],'&',\n",
    "\n",
    "          '%.2f(%d/%d)'%(slab_result['rechi_2'][index],slab_result['chi_2'][index],slab_result['dof'][index]),'&',\n",
    "          '%.3f'%float(slab_result['log_Lx/Ledd'][index]),'$\\pm$','%.3f'%float(slab_result['log_f_err'][index]),'&',        \n",
    "          '%.3f'%float(slab_result['log_Lx_10to50keV/Ledd'][index]),'$\\pm$','%.3f'%float(slab_result['log_f_err_10to50keV'][index]),  '\\\\\\\\',\n",
    "         )\n"
   ]
  },
  {
   "cell_type": "code",
   "execution_count": null,
   "metadata": {},
   "outputs": [],
   "source": []
  },
  {
   "cell_type": "code",
   "execution_count": null,
   "metadata": {},
   "outputs": [],
   "source": []
  },
  {
   "cell_type": "markdown",
   "metadata": {
    "ExecuteTime": {
     "end_time": "2023-01-05T12:09:49.096427Z",
     "start_time": "2023-01-05T12:09:49.089703Z"
    }
   },
   "source": [
    "### plotall"
   ]
  },
  {
   "cell_type": "code",
   "execution_count": null,
   "metadata": {
    "ExecuteTime": {
     "end_time": "2023-02-02T03:21:14.489341Z",
     "start_time": "2023-02-02T03:21:12.842490Z"
    }
   },
   "outputs": [],
   "source": [
    "fig = plt.figure(figsize=(12,12))\n",
    "fig.subplots_adjust(hspace=0.3, wspace = 0.5)\n",
    "\n",
    "\n",
    "\n",
    "ax = fig.add_subplot(2,2,1)\n",
    "\n",
    "xlabel='log_Lx/Ledd'\n",
    "ylabel='phoindex'\n",
    "xerr_label='log_f_err'\n",
    "yerr_label='phoindex_err'\n",
    "color_label='zphabs_nh(10^22)'\n",
    "#dataplot=slab_zgauss_result\n",
    "#ax=plot_errorbar_cmap(ax,dataplot,xlabel,ylabel,xerr=xerr_label,yerr=yerr_label,color_n=color_label,marker_n='name',size_n=None,logx=False,logy=False)\n",
    "dataplot=slab_result\n",
    "ax=plot_errorbar_cmap(ax,dataplot,xlabel,ylabel,xerr=xerr_label,yerr=yerr_label,color_n=color_label,marker_n='name',size_n=None,logx=False,logy=False)\n",
    "set_ax_tick(ax) \n",
    "#set_ax_locator(ax,xma=1000,xmi=500,yma=1,ymi=0.5)\n",
    "set_ax_legend(ax,bbox_to_anchor=(0.01, 0.99))   \n",
    "#ax.set_ylim(-7,17)\n",
    "ax.set_xlabel(xlabel)\n",
    "ax.set_ylabel(ylabel)\n",
    "\n",
    "\n",
    "\n",
    "ax = fig.add_subplot(2,2,2)\n",
    "\n",
    "xlabel='log_Lx/Ledd'\n",
    "ylabel='zphabs_nh(10^22)'\n",
    "xerr_label='log_f_err'\n",
    "yerr_label='zphabs_nh_err'\n",
    "color_label='phoindex'\n",
    "\n",
    "dataplot=slab_result\n",
    "ax=plot_errorbar_cmap(ax,dataplot,xlabel,ylabel,xerr=xerr_label,yerr=yerr_label,color_n=color_label,marker_n='name',size_n=None,logx=False,logy=False)\n",
    "\n",
    "set_ax_tick(ax) \n",
    "#set_ax_locator(ax,xma=1000,xmi=500,yma=1,ymi=0.5)\n",
    "set_ax_legend(ax,bbox_to_anchor=(0.51, 0.99))   \n",
    "#ax.set_ylim(-7,17)\n",
    "#ax.semilogy()\n",
    "ax.set_xlabel(xlabel)\n",
    "ax.set_ylabel(ylabel)\n",
    "\n",
    "ax = fig.add_subplot(2,2,3)\n",
    "xlabel='zphabs_nh(10^22)'\n",
    "ylabel='phoindex'\n",
    "xerr_label='zphabs_nh_err'\n",
    "yerr_label='phoindex_err'\n",
    "color_label='log_Lx/Ledd'\n",
    "dataplot=slab_result\n",
    "ax=plot_errorbar_cmap(ax,dataplot,xlabel,ylabel,xerr=xerr_label,yerr=yerr_label,color_n=color_label,marker_n='name',size_n=None,logx=False,logy=False)\n",
    "set_ax_tick(ax) \n",
    "#set_ax_locator(ax,xma=1000,xmi=500,yma=1,ymi=0.5)\n",
    "set_ax_legend(ax,bbox_to_anchor=(0.41, 0.99))   \n",
    "#ax.set_ylim(-0.1,0.5)\n",
    "ax.set_xlabel(xlabel)\n",
    "ax.set_ylabel(ylabel)\n",
    "\n",
    "\n",
    "\n",
    "ax = fig.add_subplot(2,2,4)\n",
    "\n",
    "xlabel='log_Lx/Ledd'\n",
    "ylabel='zgaussSigma'\n",
    "xerr_label='log_f_err'\n",
    "yerr_label='zgaussSigma_err'\n",
    "color_label='zphabs_nh(10^22)'\n",
    "\n",
    "dataplot=slab_result\n",
    "ax=plot_errorbar_cmap(ax,dataplot,xlabel,ylabel,xerr=xerr_label,yerr=yerr_label,color_n=color_label,marker_n='name',size_n=None,logx=False,logy=False)\n",
    "set_ax_tick(ax) \n",
    "#set_ax_locator(ax,xma=1000,xmi=500,yma=1,ymi=0.5)\n",
    "set_ax_legend(ax,bbox_to_anchor=(0.11, 0.99))   \n",
    "ax.set_ylim(-0.1,0.5)\n",
    "ax.set_xlabel(xlabel)\n",
    "ax.set_ylabel(ylabel)\n",
    "\n",
    "model_name='Slab'\n",
    "#ax.set_title('%s model'%model_name)\n",
    "plt.title('%s model'%model_name)\n",
    "save_lc_img_path=os.path.join('/Users/lyubing/Downloads/','%s_cmap.png'%model_name) \n",
    "plt.savefig(save_lc_img_path,dpi=400, transparent=False, bbox_inches='tight')\n",
    "#plt.close()    "
   ]
  },
  {
   "cell_type": "code",
   "execution_count": null,
   "metadata": {
    "ExecuteTime": {
     "end_time": "2023-02-02T03:44:42.129360Z",
     "start_time": "2023-02-02T03:44:42.118457Z"
    }
   },
   "outputs": [],
   "source": [
    "min(slab_result['log_Lx/Ledd']),max(slab_result['log_Lx/Ledd'])"
   ]
  },
  {
   "cell_type": "code",
   "execution_count": null,
   "metadata": {
    "ExecuteTime": {
     "end_time": "2023-03-03T07:39:41.339743Z",
     "start_time": "2023-03-03T07:39:41.329379Z"
    }
   },
   "outputs": [],
   "source": [
    "np.cos(70*np.pi/180)"
   ]
  },
  {
   "cell_type": "code",
   "execution_count": null,
   "metadata": {
    "ExecuteTime": {
     "end_time": "2023-03-03T07:40:02.159643Z",
     "start_time": "2023-03-03T07:40:02.150022Z"
    }
   },
   "outputs": [],
   "source": [
    "np.arccos(0.55)*180/np.pi"
   ]
  },
  {
   "cell_type": "markdown",
   "metadata": {},
   "source": [
    "### plot3para"
   ]
  },
  {
   "cell_type": "code",
   "execution_count": null,
   "metadata": {
    "ExecuteTime": {
     "end_time": "2023-02-10T15:31:28.436470Z",
     "start_time": "2023-02-10T15:31:27.235512Z"
    }
   },
   "outputs": [],
   "source": [
    "fig = plt.figure(figsize=(9,9))\n",
    "fig.subplots_adjust(hspace=0., wspace = 0.0)\n",
    "ax = fig.add_subplot(2,2,1)\n",
    "\n",
    "xlabel='log_Lx/Ledd'\n",
    "ylabel='phoindex'\n",
    "xerr_label='log_f_err'\n",
    "yerr_label='phoindex_err'\n",
    "color_label='black'\n",
    "#dataplot=slab_zgauss_result\n",
    "#ax=plot_errorbar_cmap(ax,dataplot,xlabel,ylabel,xerr=xerr_label,yerr=yerr_label,color_n=color_label,marker_n='name',size_n=None,logx=False,logy=False)\n",
    "dataplot=slab_result\n",
    "ax=plot_errorbar(ax,dataplot,xlabel,ylabel,xerr=xerr_label,yerr=yerr_label,color_n=color_label,marker_n='name',size_n=None,logx=False,logy=False)\n",
    "set_ax_tick(ax) \n",
    "set_ax_locator(ax,xma=1.0,xmi=0.2,yma=0.2,ymi=0.1)\n",
    "set_ax_legend(ax,bbox_to_anchor=(0.01, 0.99))   \n",
    "#ax.set_ylim(-7,17)\n",
    "ax.set_xlabel(r'log($L_{\\rm X}/L_{\\rm Edd}$)')\n",
    "ax.set_ylabel(r'$\\Gamma$')\n",
    "model_name='Slab'\n",
    "ax.set_title('%s model'%model_name)\n",
    "\n",
    "\n",
    "ax2 = fig.add_subplot(2,2,2,sharey=ax)\n",
    "xlabel='zphabs_nh(10^22)'\n",
    "ylabel='phoindex'\n",
    "xerr_label='zphabs_nh_err'\n",
    "yerr_label='phoindex_err'\n",
    "\n",
    "dataplot=slab_result\n",
    "ax2=plot_errorbar(ax2,dataplot,xlabel,ylabel,xerr=xerr_label,yerr=yerr_label,color_n=color_label,marker_n='name',size_n=None,logx=False,logy=False)\n",
    "set_ax_tick(ax2) \n",
    "#set_ax_locator(ax,xma=1000,xmi=500,yma=1,ymi=0.5)\n",
    "#set_ax_legend(ax2,bbox_to_anchor=(0.51, 0.99))   \n",
    "#ax.set_ylim(-0.1,0.5)\n",
    "ax2.set_xlabel(r'$N_{\\rm H,los (10^{22} cm^{-2})}$')\n",
    "#ax2.set_ylabel(r'$\\Gamma$')\n",
    "#ax2.yaxis.set_major_formatter(ticker.NullFormatter())\n",
    "set_ax_locator(ax2,xma=25,xmi=5,yma=0.2,ymi=0.1)\n",
    "ax2.yaxis.set_tick_params(which='major', size=10, width=2, direction='in', top='on',labelsize=0)\n",
    "\n",
    "\n",
    "ax3 = fig.add_subplot(2,2,3,sharex=ax)\n",
    "\n",
    "xlabel='log_Lx/Ledd'\n",
    "ylabel='zphabs_nh(10^22)'\n",
    "xerr_label='log_f_err'\n",
    "yerr_label='zphabs_nh_err'\n",
    "\n",
    "\n",
    "dataplot=slab_result\n",
    "ax3=plot_errorbar(ax3,dataplot,xlabel,ylabel,xerr=xerr_label,yerr=yerr_label,color_n=color_label,marker_n='name',size_n=None,logx=False,logy=False)\n",
    "\n",
    "set_ax_tick(ax3) \n",
    "#set_ax_locator(ax,xma=1000,xmi=500,yma=1,ymi=0.5)\n",
    "#set_ax_legend(ax3,bbox_to_anchor=(0.51, 0.99))   \n",
    "#ax.set_ylim(-7,17)\n",
    "#ax.semilogy()\n",
    "ax3.set_xlabel(r'log($L_{\\rm X}/L_{\\rm Edd}$)')\n",
    "ax3.set_ylabel(r'$N_{\\rm H,los (10^{22} cm^{-2})}$')\n",
    "\n",
    "ax4 = fig.add_subplot(3,3,9,sharey=ax3)\n",
    "\n",
    "xlabel='logLx'\n",
    "ylabel='zphabs_nh(10^22)'\n",
    "xerr_label='log_f_err'\n",
    "yerr_label='zphabs_nh_err'\n",
    "\n",
    "\n",
    "dataplot=slab_result\n",
    "a4=plot_errorbar(ax4,dataplot,xlabel,ylabel,xerr=xerr_label,yerr=yerr_label,color_n=color_label,marker_n='name',size_n=None,logx=False,logy=False)\n",
    "set_ax_tick(ax4) \n",
    "ax4.set_xlabel(r'log($L_{\\rm X}$)')\n",
    "\n",
    "#ax2.xaxis.set_tick_params(which='major', size=10, width=2, direction='in', top='on',)\n",
    "#ax2.xaxis.set_tick_params(which='minor', size=5, width=2, direction='in', top='on')\n",
    "#ax2.yaxis.set_tick_params(which='major', size=10, width=2, direction='in', right='on')\n",
    "#ax2.yaxis.set_tick_params(which='minor', size=5, width=2, direction='in', right='on')\n",
    "\n",
    "\n",
    "#ax.set_title('%s model'%model_name)\n",
    "save_lc_img_path=os.path.join('/Users/lyubing/Downloads/','%s.png'%model_name) \n",
    "plt.savefig(save_lc_img_path,dpi=400, transparent=False, bbox_inches='tight')\n",
    "#plt.close()    "
   ]
  },
  {
   "cell_type": "markdown",
   "metadata": {},
   "source": [
    "### plot4para"
   ]
  },
  {
   "cell_type": "code",
   "execution_count": null,
   "metadata": {
    "ExecuteTime": {
     "end_time": "2023-03-02T14:34:26.975076Z",
     "start_time": "2023-03-02T14:34:25.631742Z"
    },
    "scrolled": false
   },
   "outputs": [],
   "source": [
    "fig = plt.figure(figsize=(9*1.5,9*1.5))\n",
    "fig.subplots_adjust(hspace=0., wspace = 0.0)\n",
    "ax = fig.add_subplot(3,3,1)\n",
    "\n",
    "xlabel='log_Lx/Ledd'\n",
    "ylabel='phoindex'\n",
    "xerr_label='log_f_err'\n",
    "yerr_label='phoindex_err'\n",
    "color_label='black'\n",
    "#dataplot=slab_zgauss_result\n",
    "#ax=plot_errorbar_cmap(ax,dataplot,xlabel,ylabel,xerr=xerr_label,yerr=yerr_label,color_n=color_label,marker_n='name',size_n=None,logx=False,logy=False)\n",
    "dataplot=slab_result\n",
    "ax=plot_errorbar(ax,dataplot,xlabel,ylabel,xerr=xerr_label,yerr=yerr_label,color_n=color_label,marker_n='name',size_n=None,logx=False,logy=False)\n",
    "set_ax_tick(ax)\n",
    "set_ax_locator(ax,xma=1.0,xmi=0.2,yma=0.2,ymi=0.1)\n",
    "set_ax_legend(ax,bbox_to_anchor=(0.01, 0.99))\n",
    "#ax.set_ylim(-7,17)\n",
    "#ax.set_xlabel(r'log($L_{\\rm 2-10keV}/L_{\\rm Edd}$)')\n",
    "ax.set_ylabel(r'$\\Gamma$')\n",
    "model_name='Slab'\n",
    "\n",
    "\n",
    "\n",
    "ax2 = fig.add_subplot(3,3,3,sharey=ax)\n",
    "xlabel='zphabs_nh(10^22)'\n",
    "ylabel='phoindex'\n",
    "xerr_label='zphabs_nh_err'\n",
    "yerr_label='phoindex_err'\n",
    "\n",
    "dataplot=slab_result\n",
    "ax2=plot_errorbar(ax2,dataplot,xlabel,ylabel,xerr=xerr_label,yerr=yerr_label,color_n=color_label,marker_n='name',size_n=None,logx=False,logy=False)\n",
    "set_ax_tick(ax2)\n",
    "#set_ax_locator(ax,xma=1000,xmi=500,yma=1,ymi=0.5)\n",
    "#set_ax_legend(ax2,bbox_to_anchor=(0.51, 0.99))\n",
    "#ax.set_ylim(-0.1,0.5)\n",
    "ax2.set_xlabel(r'$N_{\\rm H,los (10^{22} cm^{-2})}$')\n",
    "#ax2.set_ylabel(r'$\\Gamma$')\n",
    "#ax2.yaxis.set_major_formatter(ticker.NullFormatter())\n",
    "set_ax_locator(ax2,xma=25,xmi=5,yma=0.2,ymi=0.1)\n",
    "ax2.yaxis.set_tick_params(which='major', size=10, width=2, direction='in', top='on',labelsize=0)\n",
    "\n",
    "\n",
    "ax3 = fig.add_subplot(3,3,4,sharex=ax)\n",
    "\n",
    "xlabel='log_Lx/Ledd'\n",
    "ylabel='zphabs_nh(10^22)'\n",
    "xerr_label='log_f_err'\n",
    "yerr_label='zphabs_nh_err'\n",
    "\n",
    "\n",
    "dataplot=slab_result\n",
    "ax3=plot_errorbar(ax3,dataplot,xlabel,ylabel,xerr=xerr_label,yerr=yerr_label,color_n=color_label,marker_n='name',size_n=None,logx=False,logy=False)\n",
    "\n",
    "set_ax_tick(ax3)\n",
    "#set_ax_locator(ax,xma=1000,xmi=500,yma=1,ymi=0.5)\n",
    "#set_ax_legend(ax3,bbox_to_anchor=(0.51, 0.99))\n",
    "#ax.set_ylim(-7,17)\n",
    "#ax.semilogy()\n",
    "ax3.set_xlabel(r'log($L_{\\rm 2-10keV}/L_{\\rm Edd}$)')\n",
    "ax3.set_ylabel(r'$N_{\\rm H,los (10^{22} cm^{-2})}$')\n",
    "\n",
    "###############\n",
    "ax4 = fig.add_subplot(3,3,2,sharey=ax)\n",
    "xlabel='log_Lx_10to50keV/Ledd' \n",
    "ylabel='phoindex'\n",
    "xerr_label='log_f_err_10to50keV'\n",
    "yerr_label='phoindex_err'\n",
    "dataplot=slab_result\n",
    "ax4=plot_errorbar(ax4,dataplot,xlabel,ylabel,xerr=xerr_label,yerr=yerr_label,color_n=color_label,marker_n='name',size_n=None,logx=False,logy=False)\n",
    "set_ax_tick(ax4)\n",
    "ax4.set_title('%s model'%model_name,pad=10)\n",
    "ax4.yaxis.set_tick_params(which='major', size=10, width=2, direction='in', top='on',labelsize=0)\n",
    "\n",
    "#set_ax_locator(ax,xma=1000,xmi=500,yma=1,ymi=0.5)\n",
    "#set_ax_legend(ax3,bbox_to_anchor=(0.51, 0.99))\n",
    "#ax.set_ylim(-7,17)\n",
    "#ax.semilogy()\n",
    "#ax4.set_xlabel(r'log($L_{\\rm 10-50keV}/L_{\\rm Edd}$)')\n",
    "#ax4.set_ylabel(r'$N_{\\rm H,los (10^{22} cm^{-2})}$')\n",
    "\n",
    "\n",
    "\n",
    "ax5 = fig.add_subplot(3,3,5,sharex=ax4,sharey=ax3)\n",
    "xlabel='log_Lx_10to50keV/Ledd' \n",
    "ylabel='zphabs_nh(10^22)'\n",
    "xerr_label='log_f_err_10to50keV'\n",
    "yerr_label='zphabs_nh_err'\n",
    "\n",
    "dataplot=slab_result\n",
    "ax5=plot_errorbar(ax5,dataplot,xlabel,ylabel,xerr=xerr_label,yerr=yerr_label,color_n=color_label,marker_n='name',size_n=None,logx=False,logy=False)\n",
    "set_ax_tick(ax5)\n",
    "#set_ax_locator(ax,xma=1000,xmi=500,yma=1,ymi=0.5)\n",
    "#set_ax_legend(ax3,bbox_to_anchor=(0.51, 0.99))\n",
    "#ax.set_ylim(-7,17)\n",
    "#ax.semilogy()\n",
    "ax5.set_xlabel(r'log($L_{\\rm 10-50keV}/L_{\\rm Edd}$)')\n",
    "#ax5.set_ylabel(r'$N_{\\rm H,los (10^{22} cm^{-2})}$')\n",
    "ax5.yaxis.set_tick_params(which='major', size=10, width=2, direction='in', top='on',labelsize=0)\n",
    "ax5.xaxis.set_major_locator(mpl.ticker.MultipleLocator(1.0))\n",
    "ax5.xaxis.set_minor_locator(mpl.ticker.MultipleLocator(0.2))\n",
    "ax5.set_xlim(-3.6,-1.9)\n",
    "\n",
    "ax6=fig.add_subplot(3,3,7,sharex=ax)\n",
    "xlabel='log_Lx/Ledd'\n",
    "ylabel='log_Lx_10to50keV/Ledd'\n",
    "xerr_label='log_f_err'\n",
    "yerr_label='log_f_err_10to50keV'\n",
    "#color_label='zphabs_nh(10^22)'\n",
    "color_label='black'\n",
    "#dataplot=slab_zgauss_result\n",
    "#ax=plot_errorbar_cmap(ax,dataplot,xlabel,ylabel,xerr=xerr_label,yerr=yerr_label,color_n=color_label,marker_n='name',size_n=None,logx=False,logy=False)\n",
    "\n",
    "x_ledd_lin= np.linspace(-4.5,-2.5,100)\n",
    "dataplot=slab_result\n",
    "ax6=plot_errorbar(ax6,dataplot,xlabel,ylabel,xerr=xerr_label,yerr=yerr_label,color_n=color_label,marker_n='name',size_n=None,logx=False,logy=False)\n",
    "set_ax_tick(ax6)\n",
    "#ax2.xaxis.set_tick_params(which='major', size=10, width=2, direction='in', top='on',)\n",
    "#ax2.xaxis.set_tick_params(which='minor', size=5, width=2, direction='in', top='on')\n",
    "#ax2.yaxis.set_tick_params(which='major', size=10, width=2, direction='in', right='on')\n",
    "#ax2.yaxis.set_tick_params(which='minor', size=5, width=2, direction='in', right='on')\n",
    "ax6.set_xlabel(r'log($L_{\\rm 2-10keV}/L_{\\rm Edd}$)') #, intrisic\n",
    "ax6.set_ylabel(r'log($L_{\\rm 10-50keV}/L_{\\rm Edd}$)')\n",
    "ax6.yaxis.set_major_locator(mpl.ticker.MultipleLocator(1.0))\n",
    "ax6.yaxis.set_minor_locator(mpl.ticker.MultipleLocator(0.2))\n",
    "ax6.set_ylim(-0.1,85)\n",
    "\n",
    "x_ledd_lin= np.linspace(-4.5,-2.1,100)\n",
    "ax6.plot(x_ledd_lin, fitted_line(x_ledd_lin), color='black',ls='--', linewidth=2,label=r'y=0.62x-0.7')\n",
    "#ax6.text(0.3,0.8,r'$y$=0.62$x$-0.7',horizontalalignment = 'center', verticalalignment = 'center', transform = ax6.transAxes, fontsize = 16)\n",
    "ax6.set_ylim(-3.8,-1.9)\n",
    "ax.set_xlim(-4.3,-2.1)\n",
    "\n",
    "\n",
    "#ax.set_title('%s model'%model_name)\n",
    "#save_lc_img_path=os.path.join('/Users/lyubing/Downloads/OXCLAGN/OXCLAGN/pic/Gamma_L_nh_pic/','%s_p4.png'%model_name)\n",
    "#save_lc_img_path=os.path.join('/Users/lyubing/Downloads/OXCLAGN/OXCLAGN/pic/Gamma_L_nh_pic/','%s_p4.pdf'%model_name)\n",
    "\n",
    "save_lc_img_path=os.path.join('/Users/lyubing/Downloads/OXCLAGN/OXCLAGN/pic/Gamma_L_nh_pic/','%s_p4_intrinsic.pdf'%model_name)\n",
    "plt.savefig(save_lc_img_path,dpi=400, transparent=False, bbox_inches='tight')\n",
    "#plt.close()\n"
   ]
  },
  {
   "cell_type": "code",
   "execution_count": null,
   "metadata": {
    "ExecuteTime": {
     "end_time": "2023-02-19T08:38:57.086305Z",
     "start_time": "2023-02-19T08:38:57.076724Z"
    }
   },
   "outputs": [],
   "source": [
    "fitted_line"
   ]
  },
  {
   "cell_type": "markdown",
   "metadata": {},
   "source": [
    "### 2-10 10-50keV"
   ]
  },
  {
   "cell_type": "code",
   "execution_count": null,
   "metadata": {
    "ExecuteTime": {
     "end_time": "2023-02-19T08:36:24.396827Z",
     "start_time": "2023-02-19T08:36:24.204067Z"
    }
   },
   "outputs": [],
   "source": [
    "figure_n= 1\n",
    "fig = plt.figure(figsize=(6,figure_n*6))\n",
    "fig.subplots_adjust(hspace=0.0, wspace = 0.0)\n",
    "ax = fig.add_subplot(figure_n,1,1)\n",
    "\n",
    "xlabel='log_Lx/Ledd'\n",
    "ylabel='log_Lx_10to50keV/Ledd'\n",
    "xerr_label='log_f_err'\n",
    "yerr_label='log_f_err_10to50keV'\n",
    "#color_label='zphabs_nh(10^22)'\n",
    "color_label='black'\n",
    "#dataplot=slab_zgauss_result\n",
    "ax=plot_errorbar(ax,dataplot,xlabel,ylabel,xerr=xerr_label,yerr=yerr_label,color_n=color_label,marker_n='name',size_n=None,logx=False,logy=False)\n",
    "\n",
    "\n",
    "dataplot=slab_result\n",
    "#ax=plot_errorbar(ax,dataplot,xlabel,ylabel,xerr=xerr_label,yerr=yerr_label,color_n=color_label,marker_n='name',size_n=None,logx=False,logy=False)\n",
    "#ax.plot(x_ledd_lin,x_ledd_lin+0.2)\n",
    "\n",
    "#set_ax_locator(ax,xma=1000,xmi=500,yma=1,ymi=0.5)\n",
    "set_ax_legend(ax,bbox_to_anchor=(0.01, 0.99))   \n",
    "#ax.set_ylim(-7,17)\n",
    "ax.set_xlabel(xlabel)\n",
    "ax.set_ylabel(ylabel)\n",
    "set_ax_tick(ax)\n",
    "x_ledd_lin= np.linspace(-4.5,-2.5,100)\n",
    "ax.plot(x_ledd_lin, fitted_line(x_ledd_lin), color='grey',ls='--', linewidth=2,label='')\n",
    "\n",
    "sigma=3\n",
    "ax.errorbar(dataplot[xlabel], dataplot[ylabel], \n",
    "            #xerr=xerr, yerr=yerr, \n",
    "            markersize=10,\n",
    "            fmt=\"k.\", fillstyle=\"none\", label=r\"Clipped Data %.1f $\\sigma$\"%sigma)\n",
    "\n",
    "ax.errorbar(dataplot[xlabel], filtered_data, markersize=3,\n",
    "            fmt=\"ko\", label=\"Fitted Data\")\n",
    "\n",
    "ax.set_xlabel(r'log($L_{\\rm 2-10keV}/L_{\\rm Edd}$)')\n",
    "ax.set_ylabel(r'log($L_{\\rm 10-50keV}/L_{\\rm Edd}$)')"
   ]
  },
  {
   "cell_type": "code",
   "execution_count": null,
   "metadata": {
    "ExecuteTime": {
     "end_time": "2023-02-13T10:36:42.001449Z",
     "start_time": "2023-02-13T10:36:41.987175Z"
    }
   },
   "outputs": [],
   "source": [
    "fitted_line"
   ]
  },
  {
   "cell_type": "markdown",
   "metadata": {},
   "source": [
    "### pearsonr"
   ]
  },
  {
   "cell_type": "code",
   "execution_count": null,
   "metadata": {
    "ExecuteTime": {
     "end_time": "2023-03-02T11:18:43.475204Z",
     "start_time": "2023-03-02T11:18:43.468812Z"
    }
   },
   "outputs": [],
   "source": [
    "model_names=['Slab','MYTC','RXTORUS','Borus02','MTTD','Xclumpy','Uxclumpy']\n",
    "result_all=[slab_result,mytorus_couple_result,rxtorus_result,borus_result,mytorus_decouple_result,xclumpy_result,uxclumpy_result]\n",
    "los_nh_labels=['zphabs_nh(10^22)','los_nh(10^22)','zphabs_nh(10^22)','zphabs_nh(10^22)','los_nh(10^22)','zphabs_nh(10^22)','los_nh(10^22)']\n"
   ]
  },
  {
   "cell_type": "code",
   "execution_count": null,
   "metadata": {
    "ExecuteTime": {
     "end_time": "2023-02-14T12:02:09.925601Z",
     "start_time": "2023-02-14T12:02:09.891302Z"
    },
    "scrolled": true
   },
   "outputs": [],
   "source": [
    "for i_name,i_result,i_los_nh_label in zip(model_names,result_all,los_nh_labels):\n",
    "    print(i_name,pearsonr(i_result['log_Lx/Ledd'],i_result['phoindex']))\n",
    "    \n",
    "    x=i_result['log_Lx/Ledd']\n",
    "    y=i_result['phoindex']\n",
    "    \n",
    "    weights=np.zeros(len(x))+1\n",
    "\n",
    "    #xerr\n",
    "\n",
    "    # initialize a linear fitter\n",
    "    fit = fitting.LinearLSQFitter()\n",
    "\n",
    "# initialize the outlier removal fitter\n",
    "    or_fit = fitting.FittingWithOutlierRemoval(fit, sigma_clip, niter=3, sigma=3.0)\n",
    "\n",
    "# initialize a linear model\n",
    "    line_init = models.Linear1D()\n",
    "\n",
    "# fit the data with the fitter\n",
    "    fitted_line, mask = or_fit(line_init, x, y, weights=1.0/weights)\n",
    "    filtered_data = np.ma.masked_array(y, mask=mask)\n",
    "    print(i_name,fitted_line.slope.value)"
   ]
  },
  {
   "cell_type": "code",
   "execution_count": null,
   "metadata": {},
   "outputs": [],
   "source": []
  },
  {
   "cell_type": "code",
   "execution_count": null,
   "metadata": {
    "ExecuteTime": {
     "end_time": "2023-03-16T01:34:36.842969Z",
     "start_time": "2023-03-16T01:34:36.499485Z"
    }
   },
   "outputs": [],
   "source": [
    "for i_name,i_result,i_los_nh_label in zip(model_names,result_all,los_nh_labels):\n",
    "    \n",
    "    #print(i_name,pearsonr(i_result['log_Lx/Ledd'],i_result['phoindex']))    \n",
    "    print(i_name,pearsonr(i_result['phoindex'],i_result[i_los_nh_label]))"
   ]
  },
  {
   "cell_type": "code",
   "execution_count": null,
   "metadata": {},
   "outputs": [],
   "source": []
  },
  {
   "cell_type": "code",
   "execution_count": null,
   "metadata": {
    "ExecuteTime": {
     "end_time": "2023-02-14T11:47:38.309122Z",
     "start_time": "2023-02-14T11:47:38.293564Z"
    }
   },
   "outputs": [],
   "source": [
    "for i_name,i_result,i_los_nh_label in zip(model_names,result_all,los_nh_labels):\n",
    "    #print(i_name,pearsonr(i_result['log_Lx/Ledd'],i_result['phoindex']))    \n",
    "    print(i_name,pearsonr(i_result['log_Lx/Ledd'],i_result[i_los_nh_label]))"
   ]
  },
  {
   "cell_type": "code",
   "execution_count": null,
   "metadata": {
    "ExecuteTime": {
     "end_time": "2023-03-02T14:30:59.249057Z",
     "start_time": "2023-03-02T14:30:59.237924Z"
    }
   },
   "outputs": [],
   "source": [
    "pearsonr(slab_result['log_Lx/Ledd'],slab_result['log_Lx_10to50keV/Ledd'])"
   ]
  },
  {
   "cell_type": "code",
   "execution_count": null,
   "metadata": {
    "ExecuteTime": {
     "end_time": "2023-02-14T11:36:45.636258Z",
     "start_time": "2023-02-14T11:36:45.620342Z"
    }
   },
   "outputs": [],
   "source": [
    "pearsonr(slab_result['log_Lx/Ledd'],slab_result['phoindex']),pearsonr(slab_result['log_Lx/Ledd'],slab_result['zphabs_nh(10^22)'])"
   ]
  },
  {
   "cell_type": "code",
   "execution_count": null,
   "metadata": {
    "ExecuteTime": {
     "end_time": "2023-02-08T13:11:11.117139Z",
     "start_time": "2023-02-08T13:11:11.105307Z"
    },
    "scrolled": true
   },
   "outputs": [],
   "source": [
    "pearsonr(mytorus_couple_result['log_Lx/Ledd'],mytorus_couple_result['phoindex']),pearsonr(slab_result['log_Lx/Ledd'],slab_result['zphabs_nh(10^22)'])\n"
   ]
  },
  {
   "cell_type": "code",
   "execution_count": null,
   "metadata": {},
   "outputs": [],
   "source": []
  },
  {
   "cell_type": "code",
   "execution_count": null,
   "metadata": {},
   "outputs": [],
   "source": []
  },
  {
   "cell_type": "code",
   "execution_count": null,
   "metadata": {
    "ExecuteTime": {
     "end_time": "2023-03-02T14:30:52.190713Z",
     "start_time": "2023-03-02T14:30:52.179958Z"
    }
   },
   "outputs": [],
   "source": [
    "min(slab_result['log_Lx/Ledd']),max(slab_result['log_Lx/Ledd'])"
   ]
  },
  {
   "cell_type": "code",
   "execution_count": null,
   "metadata": {
    "ExecuteTime": {
     "end_time": "2023-03-02T14:30:52.617742Z",
     "start_time": "2023-03-02T14:30:52.607358Z"
    }
   },
   "outputs": [],
   "source": [
    "min(slab_result['log_Lx_10to50keV/Ledd']),max(slab_result['log_Lx_10to50keV/Ledd'])"
   ]
  },
  {
   "cell_type": "markdown",
   "metadata": {},
   "source": [
    "## fitted_line_2-10 and 10-50"
   ]
  },
  {
   "cell_type": "code",
   "execution_count": null,
   "metadata": {
    "ExecuteTime": {
     "end_time": "2023-03-02T14:30:40.844444Z",
     "start_time": "2023-03-02T14:30:40.782836Z"
    }
   },
   "outputs": [],
   "source": [
    "import numpy as np\n",
    "import matplotlib.pyplot as plt\n",
    "from astropy.stats import sigma_clip\n",
    "from astropy.modeling import models, fitting\n",
    "\n",
    "# define a model for a line\n",
    "# line_orig = models.Linear1D(slope=1.0, intercept=0.5)\n",
    "\n",
    "# generate x, y data non-uniformly spaced in x\n",
    "# add noise to y measurements\n",
    "\n",
    "xlabel='log_Lx/Ledd'\n",
    "ylabel='log_Lx_10to50keV/Ledd'\n",
    "xerr_label='log_f_err'\n",
    "yerr_label='log_f_err_10to50keV'\n",
    "\n",
    "dataplot=slab_result\n",
    "x= slab_result[xlabel]\n",
    "y=slab_result[ylabel]\n",
    "xerr=slab_result[xerr_label]\n",
    "yerr=slab_result[yerr_label]\n",
    "\n",
    "\n",
    "weights=np.zeros(len(x))+1\n",
    "\n",
    "#xerr\n",
    "\n",
    "# initialize a linear fitter\n",
    "fit = fitting.LinearLSQFitter()\n",
    "\n",
    "# initialize the outlier removal fitter\n",
    "or_fit = fitting.FittingWithOutlierRemoval(fit, sigma_clip, niter=3, sigma=3.0)\n",
    "\n",
    "# initialize a linear model\n",
    "line_init = models.Linear1D()\n",
    "\n",
    "# fit the data with the fitter\n",
    "fitted_line, mask = or_fit(line_init, x, y, weights=1.0/weights)\n",
    "filtered_data = np.ma.masked_array(y, mask=mask)\n",
    "\n",
    "print(fitted_line)"
   ]
  },
  {
   "cell_type": "code",
   "execution_count": null,
   "metadata": {},
   "outputs": [],
   "source": []
  },
  {
   "cell_type": "code",
   "execution_count": null,
   "metadata": {},
   "outputs": [],
   "source": []
  },
  {
   "cell_type": "markdown",
   "metadata": {},
   "source": [
    "### Gamma_Lx/Ledd"
   ]
  },
  {
   "cell_type": "code",
   "execution_count": null,
   "metadata": {
    "ExecuteTime": {
     "end_time": "2023-01-28T04:34:54.735424Z",
     "start_time": "2023-01-28T04:34:54.724854Z"
    }
   },
   "outputs": [],
   "source": [
    "slab_result.columns"
   ]
  },
  {
   "cell_type": "code",
   "execution_count": null,
   "metadata": {
    "ExecuteTime": {
     "end_time": "2023-01-28T04:35:17.434971Z",
     "start_time": "2023-01-28T04:35:17.253901Z"
    }
   },
   "outputs": [],
   "source": [
    "figure_n= 1\n",
    "fig = plt.figure(figsize=(6,figure_n*6))\n",
    "fig.subplots_adjust(hspace=0.0, wspace = 0.0)\n",
    "ax = fig.add_subplot(figure_n,1,1)\n",
    "\n",
    "xlabel='log_Lx/Ledd'\n",
    "ylabel='phoindex'\n",
    "xerr_label='log_f_err'\n",
    "yerr_label='phoindex_err'\n",
    "color_label='zphabs_nh(10^22)'\n",
    "\n",
    "#dataplot=slab_zgauss_result\n",
    "#ax=plot_errorbar_cmap(ax,dataplot,xlabel,ylabel,xerr=xerr_label,yerr=yerr_label,color_n=color_label,marker_n='name',size_n=None,logx=False,logy=False)\n",
    "\n",
    "dataplot=slab_result\n",
    "ax=plot_errorbar_cmap(ax,dataplot,xlabel,ylabel,xerr=xerr_label,yerr=yerr_label,color_n=color_label,marker_n='name',size_n=None,logx=False,logy=False)\n",
    "\n",
    "set_ax_tick(ax) \n",
    "#set_ax_locator(ax,xma=1000,xmi=500,yma=1,ymi=0.5)\n",
    "set_ax_legend(ax,bbox_to_anchor=(0.01, 0.99))   \n",
    "#ax.set_ylim(-7,17)\n",
    "ax.set_xlabel(xlabel)\n",
    "ax.set_ylabel(ylabel)\n"
   ]
  },
  {
   "cell_type": "markdown",
   "metadata": {},
   "source": [
    "### NH-inclination"
   ]
  },
  {
   "cell_type": "code",
   "execution_count": null,
   "metadata": {
    "ExecuteTime": {
     "end_time": "2023-01-29T07:45:05.222443Z",
     "start_time": "2023-01-29T07:45:05.200392Z"
    }
   },
   "outputs": [],
   "source": [
    "slab_result.columns"
   ]
  },
  {
   "cell_type": "code",
   "execution_count": null,
   "metadata": {},
   "outputs": [],
   "source": []
  },
  {
   "cell_type": "code",
   "execution_count": null,
   "metadata": {},
   "outputs": [],
   "source": []
  },
  {
   "cell_type": "code",
   "execution_count": null,
   "metadata": {},
   "outputs": [],
   "source": []
  },
  {
   "cell_type": "markdown",
   "metadata": {},
   "source": [
    "### NH-Lx/Ledd"
   ]
  },
  {
   "cell_type": "code",
   "execution_count": null,
   "metadata": {
    "ExecuteTime": {
     "end_time": "2023-01-28T04:35:39.804899Z",
     "start_time": "2023-01-28T04:35:39.625940Z"
    }
   },
   "outputs": [],
   "source": [
    "figure_n= 1\n",
    "fig = plt.figure(figsize=(6,figure_n*6))\n",
    "fig.subplots_adjust(hspace=0.0, wspace = 0.0)\n",
    "ax = fig.add_subplot(figure_n,1,1)\n",
    "\n",
    "xlabel='log_Lx/Ledd'\n",
    "ylabel='zphabs_nh(10^22)'\n",
    "xerr_label='log_f_err'\n",
    "yerr_label='zphabs_nh_err'\n",
    "color_label='zgaussSigma'\n",
    "\n",
    "dataplot=slab_result\n",
    "ax=plot_errorbar_cmap(ax,dataplot,xlabel,ylabel,xerr=xerr_label,yerr=yerr_label,color_n=color_label,marker_n='name',size_n=None,logx=False,logy=False)\n",
    "\n",
    "set_ax_tick(ax) \n",
    "#set_ax_locator(ax,xma=1000,xmi=500,yma=1,ymi=0.5)\n",
    "set_ax_legend(ax,bbox_to_anchor=(0.61, 0.99))   \n",
    "#ax.set_ylim(-7,17)\n",
    "#ax.semilogy()\n",
    "ax.set_xlabel(xlabel)\n",
    "ax.set_ylabel(ylabel)\n"
   ]
  },
  {
   "cell_type": "code",
   "execution_count": null,
   "metadata": {
    "ExecuteTime": {
     "end_time": "2023-02-14T13:07:46.075756Z",
     "start_time": "2023-02-14T13:07:45.888209Z"
    }
   },
   "outputs": [],
   "source": [
    "figure_n= 1\n",
    "fig = plt.figure(figsize=(6,figure_n*6))\n",
    "fig.subplots_adjust(hspace=0.0, wspace = 0.0)\n",
    "ax = fig.add_subplot(figure_n,1,1)\n",
    "\n",
    "xlabel='logLx'\n",
    "ylabel='zphabs_nh(10^22)'\n",
    "xerr_label='log_f_err'\n",
    "yerr_label='zphabs_nh_err'\n",
    "color_label='zgaussSigma'\n",
    "\n",
    "dataplot=slab_result\n",
    "ax=plot_errorbar_cmap(ax,dataplot,xlabel,ylabel,xerr=xerr_label,yerr=yerr_label,color_n=color_label,marker_n='name',size_n=None,logx=False,logy=False)\n",
    "\n",
    "set_ax_tick(ax) \n",
    "#set_ax_locator(ax,xma=1000,xmi=500,yma=1,ymi=0.5)\n",
    "set_ax_legend(ax,bbox_to_anchor=(0.61, 0.99))   \n",
    "#ax.set_ylim(-7,17)\n",
    "#ax.semilogy()\n",
    "ax.set_xlabel(xlabel)\n",
    "ax.set_ylabel(ylabel)\n"
   ]
  },
  {
   "cell_type": "code",
   "execution_count": null,
   "metadata": {
    "ExecuteTime": {
     "end_time": "2023-02-14T15:37:27.684835Z",
     "start_time": "2023-02-14T15:37:27.674677Z"
    }
   },
   "outputs": [],
   "source": [
    "10**5/86400"
   ]
  },
  {
   "cell_type": "code",
   "execution_count": null,
   "metadata": {},
   "outputs": [],
   "source": []
  },
  {
   "cell_type": "markdown",
   "metadata": {},
   "source": [
    "### NH-Gamma"
   ]
  },
  {
   "cell_type": "code",
   "execution_count": null,
   "metadata": {
    "ExecuteTime": {
     "end_time": "2023-01-28T04:36:12.373755Z",
     "start_time": "2023-01-28T04:36:12.193790Z"
    }
   },
   "outputs": [],
   "source": [
    "figure_n= 1\n",
    "fig = plt.figure(figsize=(6,figure_n*6))\n",
    "fig.subplots_adjust(hspace=0.0, wspace = 0.0)\n",
    "ax = fig.add_subplot(figure_n,1,1)\n",
    "\n",
    "xlabel='zphabs_nh(10^22)'\n",
    "ylabel='phoindex'\n",
    "xerr_label='zphabs_nh_err'\n",
    "yerr_label='phoindex_err'\n",
    "color_label='log_Lx/Ledd'\n",
    "\n",
    "dataplot=slab_result\n",
    "ax=plot_errorbar_cmap(ax,dataplot,xlabel,ylabel,xerr=xerr_label,yerr=yerr_label,color_n=color_label,marker_n='name',size_n=None,logx=False,logy=False)\n",
    "\n",
    "set_ax_tick(ax) \n",
    "#set_ax_locator(ax,xma=1000,xmi=500,yma=1,ymi=0.5)\n",
    "set_ax_legend(ax,bbox_to_anchor=(0.61, 0.99))   \n",
    "#ax.set_ylim(-7,17)\n",
    "#ax.semilogy()\n",
    "ax.set_xlabel(xlabel)\n",
    "ax.set_ylabel(ylabel)\n"
   ]
  },
  {
   "cell_type": "code",
   "execution_count": null,
   "metadata": {},
   "outputs": [],
   "source": []
  },
  {
   "cell_type": "code",
   "execution_count": null,
   "metadata": {},
   "outputs": [],
   "source": []
  },
  {
   "cell_type": "markdown",
   "metadata": {},
   "source": [
    "### zgauss-Lx/Ledd"
   ]
  },
  {
   "cell_type": "code",
   "execution_count": null,
   "metadata": {
    "ExecuteTime": {
     "end_time": "2023-01-05T12:44:05.578120Z",
     "start_time": "2023-01-05T12:44:05.378946Z"
    }
   },
   "outputs": [],
   "source": [
    "figure_n= 1\n",
    "fig = plt.figure(figsize=(6,figure_n*6))\n",
    "fig.subplots_adjust(hspace=0.0, wspace = 0.0)\n",
    "ax = fig.add_subplot(figure_n,1,1)\n",
    "\n",
    "xlabel='log_Lx/Ledd'\n",
    "ylabel='zgaussSigma'\n",
    "xerr_label='log_f_err'\n",
    "yerr_label='zgaussSigma_err'\n",
    "color_label='zphabs_nh'\n",
    "\n",
    "dataplot=slab_result\n",
    "ax=plot_errorbar_cmap(ax,dataplot,xlabel,ylabel,xerr=xerr_label,yerr=yerr_label,color_n=color_label,marker_n='name',size_n=None,logx=False,logy=False)\n",
    "\n",
    "set_ax_tick(ax) \n",
    "#set_ax_locator(ax,xma=1000,xmi=500,yma=1,ymi=0.5)\n",
    "set_ax_legend(ax,bbox_to_anchor=(0.11, 0.99))   \n",
    "#ax.set_ylim(-7,17)\n",
    "ax.set_xlabel(xlabel)\n",
    "ax.set_ylabel(ylabel)\n"
   ]
  },
  {
   "cell_type": "markdown",
   "metadata": {},
   "source": [
    "## plot xclumpy"
   ]
  },
  {
   "cell_type": "code",
   "execution_count": null,
   "metadata": {
    "ExecuteTime": {
     "end_time": "2023-03-02T11:18:05.146668Z",
     "start_time": "2023-03-02T11:18:05.082234Z"
    }
   },
   "outputs": [],
   "source": [
    "xclumpy_result=pd.read_excel('/Users/lyubing/Downloads/OXCLAGN/OXCLAGN.xlsx',sheet_name='xclumpy')\n",
    "\n",
    "for i in range(len(xclumpy_result)):\n",
    "    xclumpy_result.loc[i,'logmass']= name_mass_dict[xclumpy_result.loc[i,'name']]\n",
    "xclumpy_result['logLedd']= np.log10(1.26e38)+xclumpy_result['logmass']\n",
    "\n",
    "\n",
    "for i in range(len(xclumpy_result)):\n",
    "    xclumpy_result.loc[i,'redshift']= name_redshift_dict[xclumpy_result.loc[i,'name']]\n",
    "    xclumpy_result.loc[i,'D_cm']= cosmo.luminosity_distance(z=name_redshift_dict[xclumpy_result.loc[i,'name']]).to(u.cm).value\n",
    "\n",
    "xclumpy_result['logLx']=np.log10(4*np.pi)+np.log10(xclumpy_result['D_cm'])*2.0+xclumpy_result['log_f']\n",
    "xclumpy_result['log_Lx/Ledd']=xclumpy_result['logLx']-xclumpy_result['logLedd']    \n",
    "    "
   ]
  },
  {
   "cell_type": "code",
   "execution_count": null,
   "metadata": {
    "ExecuteTime": {
     "end_time": "2023-02-11T04:47:37.154734Z",
     "start_time": "2023-02-11T04:47:37.141558Z"
    }
   },
   "outputs": [],
   "source": [
    "xclumpy_result.columns"
   ]
  },
  {
   "cell_type": "markdown",
   "metadata": {},
   "source": [
    "### xclumpy_latex"
   ]
  },
  {
   "cell_type": "code",
   "execution_count": null,
   "metadata": {
    "ExecuteTime": {
     "end_time": "2023-02-11T04:47:39.906075Z",
     "start_time": "2023-02-11T04:47:39.878120Z"
    }
   },
   "outputs": [],
   "source": [
    "for index,name in enumerate(xclumpy_result['name']):\n",
    "    print(name,'&',\n",
    "          '%s'%xclumpy_result['obsid'][index],'&',\n",
    "          '%.1f'%xclumpy_result['zphabs_nh(10^22)'][index],'&',\n",
    "  \n",
    "          '%.0f'%(xclumpy_result['nh_tor(10^24)'][index]*100),'$\\pm$', '%.0f'%(xclumpy_result['nh_tor_err'][index]*100),'&',\n",
    "                  \n",
    "          '%.2f'%xclumpy_result['phoindex'][index],'$\\pm$', '%.2f'%xclumpy_result['phoindex_err'][index],'&',\n",
    "          '%.2f'%xclumpy_result['sigma_degree'][index],'$\\pm$', '%.2f'%xclumpy_result['sigma_degree_err'][index],'&',\n",
    "          \n",
    "          #'%.1f'%xclumpy_result['highEcut'][index]+xclumpy_highEcut_err_cmd,'&',\n",
    "          #'%.2f'%xclumpy_result['zgaussLineE'][index],'$\\pm$', '%.2f'%xclumpy_result['zgaussLineE_err'][index],'&',\n",
    "          #'%.2f'%xclumpy_result['zgaussSigma'][index],'$\\pm$', '%.2f'%xclumpy_result['zgaussSigma_err'][index],'&',\n",
    "          #'%.3f'%xclumpy_result['rRratio'][index],'$\\pm$', '%.3f'%xclumpy_result['rRratio_err'][index],'&',\n",
    "          \n",
    "          '%.2f(%d/%d)'%(xclumpy_result['rechi_2'][index],xclumpy_result['chi_2'][index],xclumpy_result['dof'][index]),'&',\n",
    "          '%.3f'%float(xclumpy_result['log_Lx/Ledd'][index]),'$\\pm$','%.3f'%float(xclumpy_result['log_f_err'][index]),#'&',\n",
    "          #'%.3f'%float(xclumpy_result['log_Lx_10to50keV/Ledd'][index]),'$\\pm$','%.3f'%float(xclumpy_result['log_f_err_10to50keV'][index]),\n",
    "          '\\\\\\\\',\n",
    "         )\n",
    "\n"
   ]
  },
  {
   "cell_type": "code",
   "execution_count": null,
   "metadata": {},
   "outputs": [],
   "source": []
  },
  {
   "cell_type": "code",
   "execution_count": null,
   "metadata": {
    "ExecuteTime": {
     "end_time": "2023-02-19T08:15:14.630641Z",
     "start_time": "2023-02-19T08:15:14.606231Z"
    }
   },
   "outputs": [],
   "source": [
    "for index,name in enumerate(xclumpy_result['name']):\n",
    "    print(name,'&',\n",
    "          '%s'%xclumpy_result['obsid'][index],'&',\n",
    "          '%.1f'%xclumpy_result['zphabs_nh(10^22)'][index],'&',\n",
    "  \n",
    "          '%.0f'%(xclumpy_result['nh_tor(10^24)'][index]*100),'$\\pm$', '%.0f'%(xclumpy_result['nh_tor_err'][index]*100),'&',\n",
    "                  \n",
    "          '%.2f'%xclumpy_result['phoindex'][index],'$\\pm$', '%.2f'%xclumpy_result['phoindex_err'][index],'&',\n",
    "          #'%.2f'%xclumpy_result['sigma_degree'][index],'$\\pm$', '%.2f'%xclumpy_result['sigma_degree_err'][index],'&',\n",
    "          \n",
    "          #'%.1f'%xclumpy_result['highEcut'][index]+xclumpy_highEcut_err_cmd,'&',\n",
    "          #'%.2f'%xclumpy_result['zgaussLineE'][index],'$\\pm$', '%.2f'%xclumpy_result['zgaussLineE_err'][index],'&',\n",
    "          #'%.2f'%xclumpy_result['zgaussSigma'][index],'$\\pm$', '%.2f'%xclumpy_result['zgaussSigma_err'][index],'&',\n",
    "          #'%.3f'%xclumpy_result['rRratio'][index],'$\\pm$', '%.3f'%xclumpy_result['rRratio_err'][index],'&',\n",
    "          \n",
    "          '%.2f(%d/%d)'%(xclumpy_result['rechi_2'][index],xclumpy_result['chi_2'][index],xclumpy_result['dof'][index]),'&',\n",
    "          '%.3f'%float(xclumpy_result['log_Lx/Ledd'][index]),'$\\pm$','%.3f'%float(xclumpy_result['log_f_err'][index]),#'&',\n",
    "          #'%.3f'%float(xclumpy_result['log_Lx_10to50keV/Ledd'][index]),'$\\pm$','%.3f'%float(xclumpy_result['log_f_err_10to50keV'][index]),\n",
    "          '\\\\\\\\',\n",
    "         )\n",
    "\n"
   ]
  },
  {
   "cell_type": "code",
   "execution_count": null,
   "metadata": {},
   "outputs": [],
   "source": []
  },
  {
   "cell_type": "code",
   "execution_count": null,
   "metadata": {},
   "outputs": [],
   "source": []
  },
  {
   "cell_type": "code",
   "execution_count": null,
   "metadata": {
    "ExecuteTime": {
     "end_time": "2023-02-01T12:45:12.763642Z",
     "start_time": "2023-02-01T12:45:11.141507Z"
    }
   },
   "outputs": [],
   "source": [
    "fig = plt.figure(figsize=(12,12))\n",
    "fig.subplots_adjust(hspace=0.3, wspace = 0.5)\n",
    "\n",
    "\n",
    "\n",
    "ax = fig.add_subplot(2,2,1)\n",
    "\n",
    "xlabel='log_Lx/Ledd'\n",
    "ylabel='phoindex'\n",
    "xerr_label='log_f_err'\n",
    "yerr_label='phoindex_err'\n",
    "color_label='zphabs_nh(10^22)'\n",
    "#dataplot=slab_zgauss_result\n",
    "#ax=plot_errorbar_cmap(ax,dataplot,xlabel,ylabel,xerr=xerr_label,yerr=yerr_label,color_n=color_label,marker_n='name',size_n=None,logx=False,logy=False)\n",
    "dataplot=xclumpy_result\n",
    "ax=plot_errorbar_cmap(ax,dataplot,xlabel,ylabel,xerr=xerr_label,yerr=yerr_label,color_n=color_label,marker_n='name',size_n=None,logx=False,logy=False)\n",
    "set_ax_tick(ax) \n",
    "#set_ax_locator(ax,xma=1000,xmi=500,yma=1,ymi=0.5)\n",
    "set_ax_legend(ax,bbox_to_anchor=(0.01, 0.99))   \n",
    "#ax.set_ylim(-7,17)\n",
    "ax.set_xlabel(xlabel)\n",
    "ax.set_ylabel(ylabel)\n",
    "#ax.set_title('UXCLUMPY model')\n",
    "\n",
    "\n",
    "ax = fig.add_subplot(2,2,2)\n",
    "\n",
    "xlabel='log_Lx/Ledd'\n",
    "ylabel='zphabs_nh(10^22)'\n",
    "xerr_label='log_f_err'\n",
    "yerr_label=None#'zphabs_nh_err'\n",
    "color_label='sigma_degree'\n",
    "\n",
    "dataplot=xclumpy_result\n",
    "ax=plot_errorbar_cmap(ax,dataplot,xlabel,ylabel,xerr=xerr_label,yerr=yerr_label,color_n=color_label,marker_n='name',size_n=None,logx=False,logy=False)\n",
    "\n",
    "set_ax_tick(ax) \n",
    "#set_ax_locator(ax,xma=1000,xmi=500,yma=1,ymi=0.5)\n",
    "set_ax_legend(ax,bbox_to_anchor=(0.51, 0.99))   \n",
    "#ax.set_ylim(-7,17)\n",
    "#ax.semilogy()\n",
    "ax.set_xlabel(xlabel)\n",
    "ax.set_ylabel(ylabel)\n",
    "\n",
    "\n",
    "ax = fig.add_subplot(2,2,3)\n",
    "\n",
    "'''xlabel='log_Lx/Ledd'\n",
    "ylabel='sigma_degree'\n",
    "xerr_label='log_f_err'\n",
    "yerr_label='sigma_degree_err'\n",
    "color_label='zphabs_nh(10^22)'\n",
    "'''\n",
    "xlabel='zphabs_nh(10^22)'\n",
    "ylabel='phoindex'\n",
    "xerr_label=None #'zphabs_nh_err'\n",
    "yerr_label='phoindex_err'\n",
    "color_label='log_Lx/Ledd'\n",
    "\n",
    "dataplot=xclumpy_result\n",
    "ax=plot_errorbar_cmap(ax,dataplot,xlabel,ylabel,xerr=xerr_label,yerr=yerr_label,color_n=color_label,marker_n='name',size_n=None,logx=False,logy=False)\n",
    "set_ax_tick(ax) \n",
    "#set_ax_locator(ax,xma=1000,xmi=500,yma=1,ymi=0.5)\n",
    "set_ax_legend(ax,bbox_to_anchor=(0.41, 0.99))   \n",
    "#ax.set_ylim(-0.1,0.5)\n",
    "ax.set_xlabel(xlabel)\n",
    "ax.set_ylabel(ylabel)\n",
    "\n",
    "\n",
    "ax = fig.add_subplot(2,2,4)\n",
    "xlabel='logLx'\n",
    "#xlabel='log_Lx/Ledd'\n",
    "ylabel='nh_tor(10^24)'\n",
    "xerr_label='log_f_err'\n",
    "yerr_label='nh_tor_err'\n",
    "color_label='zphabs_nh(10^22)'\n",
    "\n",
    "dataplot=xclumpy_result\n",
    "ax=plot_errorbar_cmap(ax,dataplot,xlabel,ylabel,xerr=xerr_label,yerr=yerr_label,color_n=color_label,marker_n='name',size_n=None,logx=False,logy=False)\n",
    "set_ax_tick(ax) \n",
    "#set_ax_locator(ax,xma=1000,xmi=500,yma=1,ymi=0.5)\n",
    "set_ax_legend(ax,bbox_to_anchor=(0.11, 0.99))   \n",
    "#ax.set_ylim(0.9,10)\n",
    "ax.set_xlabel(xlabel)\n",
    "ax.set_ylabel(ylabel)\n",
    "\n",
    "model_name='XCLUMPY'\n",
    "#ax.set_title('%s model'%model_name)\n",
    "plt.title('%s model'%model_name)\n",
    "save_lc_img_path=os.path.join('/Users/lyubing/Downloads/','%s_cmap.png'%model_name) \n",
    "plt.savefig(save_lc_img_path,dpi=400, transparent=False, bbox_inches='tight')\n",
    "#plt.close()  "
   ]
  },
  {
   "cell_type": "code",
   "execution_count": null,
   "metadata": {
    "ExecuteTime": {
     "end_time": "2023-01-29T07:46:20.987238Z",
     "start_time": "2023-01-29T07:46:20.973291Z"
    }
   },
   "outputs": [],
   "source": [
    "xclumpy_result.columns"
   ]
  },
  {
   "cell_type": "code",
   "execution_count": null,
   "metadata": {
    "ExecuteTime": {
     "end_time": "2023-01-29T08:14:41.780867Z",
     "start_time": "2023-01-29T08:14:41.603024Z"
    }
   },
   "outputs": [],
   "source": [
    "figure_n= 1\n",
    "fig = plt.figure(figsize=(6,figure_n*6))\n",
    "fig.subplots_adjust(hspace=0.0, wspace = 0.0)\n",
    "ax = fig.add_subplot(figure_n,1,1)\n",
    "\n",
    "xlabel='thInc'\n",
    "ylabel='zphabs_nh(10^22)'\n",
    "xerr_label=None#'log_f_err'\n",
    "yerr_label=None#'zphabs_nh_err'\n",
    "color_label='logLx'\n",
    "\n",
    "dataplot=xclumpy_result\n",
    "ax=plot_errorbar_cmap(ax,dataplot,xlabel,ylabel,xerr=xerr_label,yerr=yerr_label,color_n=color_label,marker_n='name',size_n=None,logx=False,logy=False)\n",
    "\n",
    "set_ax_tick(ax) \n",
    "#set_ax_locator(ax,xma=1000,xmi=500,yma=1,ymi=0.5)\n",
    "set_ax_legend(ax,bbox_to_anchor=(0.01, 0.99))   \n",
    "#ax.set_ylim(-7,17)\n",
    "#ax.semilogy()\n",
    "ax.set_xlabel(xlabel)\n",
    "ax.set_ylabel(ylabel)\n",
    "ax.set_title('xclumpy')\n"
   ]
  },
  {
   "cell_type": "code",
   "execution_count": null,
   "metadata": {},
   "outputs": [],
   "source": []
  },
  {
   "cell_type": "markdown",
   "metadata": {},
   "source": [
    "### plot3para"
   ]
  },
  {
   "cell_type": "code",
   "execution_count": null,
   "metadata": {
    "ExecuteTime": {
     "end_time": "2023-02-19T08:32:12.344527Z",
     "start_time": "2023-02-19T08:32:11.863487Z"
    }
   },
   "outputs": [],
   "source": [
    "fig = plt.figure(figsize=(9,9))\n",
    "fig.subplots_adjust(hspace=0., wspace = 0.)\n",
    "ax = fig.add_subplot(2,2,1)\n",
    "\n",
    "\n",
    "\n",
    "xlabel='log_Lx/Ledd'\n",
    "ylabel='phoindex'\n",
    "xerr_label='log_f_err'\n",
    "yerr_label='phoindex_err'\n",
    "color_label='grey'\n",
    "\n",
    "dataplot=xclumpy_result\n",
    "ax=plot_errorbar(ax,dataplot,xlabel,ylabel,xerr=xerr_label,yerr=yerr_label,color_n=color_label,marker_n='name',size_n=None,logx=False,logy=False,blank_plot=True)\n",
    "set_ax_tick(ax) \n",
    "set_ax_locator(ax,xma=1.0,xmi=0.2,yma=0.2,ymi=0.1)\n",
    "#set_ax_legend(ax,bbox_to_anchor=(0.01, 0.99))   \n",
    "#ax.set_ylim(-7,17)\n",
    "#ax.set_xlabel(r'log($L_{\\rm X}/L_{\\rm Edd}$)')\n",
    "ax.set_ylabel(r'$\\Gamma$')\n",
    "model_name='XCLUMPY'\n",
    "ax.set_title('%s'%model_name)\n",
    "\n",
    "\n",
    "'''ax2 = fig.add_subplot(2,2,2,sharey=ax)\n",
    "xlabel='zphabs_nh(10^22)'\n",
    "ylabel='phoindex'\n",
    "xerr_label=None #'zphabs_nh_err'\n",
    "yerr_label='phoindex_err'\n",
    "\n",
    "dataplot=xclumpy_result\n",
    "ax2=plot_errorbar(ax2,dataplot,xlabel,ylabel,xerr=xerr_label,yerr=yerr_label,color_n=color_label,marker_n='name',size_n=None,logx=False,logy=False,blank_plot=True)\n",
    "set_ax_tick(ax2) \n",
    "#set_ax_locator(ax,xma=1000,xmi=500,yma=1,ymi=0.5)\n",
    "#set_ax_legend(ax2,bbox_to_anchor=(0.01, 0.99))   \n",
    "#ax.set_ylim(-0.1,0.5)\n",
    "ax2.set_xlabel(r'$N_{\\rm H,los (10^{22} cm^{-2})}$')\n",
    "#ax2.set_ylabel(r'$\\Gamma$')\n",
    "#ax2.yaxis.set_major_formatter(ticker.NullFormatter())\n",
    "set_ax_locator(ax2,xma=25,xmi=5,yma=0.2,ymi=0.1)\n",
    "ax2.yaxis.set_tick_params(which='major', size=10, width=2, direction='in', top='on',labelsize=0)\n",
    "'''\n",
    "\n",
    "ax3 = fig.add_subplot(2,2,3,sharex=ax)\n",
    "\n",
    "xlabel='log_Lx/Ledd'\n",
    "ylabel='zphabs_nh(10^22)'\n",
    "xerr_label='log_f_err'\n",
    "yerr_label=None#'zphabs_nh_err'\n",
    "\n",
    "\n",
    "dataplot=xclumpy_result\n",
    "ax3=plot_errorbar(ax3,dataplot,xlabel,ylabel,xerr=xerr_label,yerr=yerr_label,color_n=color_label,marker_n='name',size_n=None,logx=False,logy=False,blank_plot=True)\n",
    "\n",
    "set_ax_tick(ax3) \n",
    "#set_ax_locator(ax,xma=1000,xmi=500,yma=1,ymi=0.5)\n",
    "#set_ax_legend(ax3,bbox_to_anchor=(0.51, 0.99))   \n",
    "#ax.set_ylim(-7,17)\n",
    "#ax.semilogy()\n",
    "ax3.set_xlabel(r'log($L_{\\rm 2-10keV}/L_{\\rm Edd}$)')\n",
    "ax3.set_ylabel(r'$N_{\\rm H,los (10^{22} cm^{-2})}$')\n",
    "ax3.set_ylim(-5,85)\n",
    "\n",
    "\n",
    "#ax2.xaxis.set_tick_params(which='major', size=10, width=2, direction='in', top='on',)\n",
    "#ax2.xaxis.set_tick_params(which='minor', size=5, width=2, direction='in', top='on')\n",
    "#ax2.yaxis.set_tick_params(which='major', size=10, width=2, direction='in', right='on')\n",
    "#ax2.yaxis.set_tick_params(which='minor', size=5, width=2, direction='in', right='on')\n",
    "\n",
    "\n",
    "#ax.set_title('%s model'%model_name)\n",
    "save_lc_img_path=os.path.join('/Users/lyubing/Downloads/OXCLAGN/OXCLAGN/pic/Gamma_L_nh_pic/','%s.pdf'%model_name) \n",
    "plt.savefig(save_lc_img_path,dpi=400, transparent=False, bbox_inches='tight')\n",
    "#plt.close()    "
   ]
  },
  {
   "cell_type": "code",
   "execution_count": null,
   "metadata": {},
   "outputs": [],
   "source": []
  },
  {
   "cell_type": "markdown",
   "metadata": {},
   "source": [
    "## plot uxclumpy"
   ]
  },
  {
   "cell_type": "code",
   "execution_count": null,
   "metadata": {
    "ExecuteTime": {
     "end_time": "2023-03-02T11:18:18.370606Z",
     "start_time": "2023-03-02T11:18:18.320013Z"
    }
   },
   "outputs": [],
   "source": [
    "uxclumpy_result=pd.read_excel('/Users/lyubing/Downloads/OXCLAGN/OXCLAGN.xlsx',sheet_name='uxclumpy_Ecut370')\n",
    "\n",
    "for i in range(len(uxclumpy_result)):\n",
    "    uxclumpy_result.loc[i,'logmass']= name_mass_dict[uxclumpy_result.loc[i,'name']]\n",
    "uxclumpy_result['logLedd']= np.log10(1.26e38)+uxclumpy_result['logmass']\n",
    "\n",
    "\n",
    "for i in range(len(uxclumpy_result)):\n",
    "    uxclumpy_result.loc[i,'redshift']= name_redshift_dict[uxclumpy_result.loc[i,'name']]\n",
    "    uxclumpy_result.loc[i,'D_cm']= cosmo.luminosity_distance(z=name_redshift_dict[uxclumpy_result.loc[i,'name']]).to(u.cm).value\n",
    "\n",
    "\n",
    "uxclumpy_result['logLx']=np.log10(4*np.pi)+np.log10(uxclumpy_result['D_cm'])*2.0+uxclumpy_result['log_f']\n",
    "uxclumpy_result['log_Lx/Ledd']=uxclumpy_result['logLx']-uxclumpy_result['logLedd']    \n"
   ]
  },
  {
   "cell_type": "markdown",
   "metadata": {},
   "source": [
    "### uxclumpy_latex"
   ]
  },
  {
   "cell_type": "code",
   "execution_count": null,
   "metadata": {
    "ExecuteTime": {
     "end_time": "2023-02-10T15:15:57.587065Z",
     "start_time": "2023-02-10T15:15:57.560873Z"
    }
   },
   "outputs": [],
   "source": [
    "for index,name in enumerate(uxclumpy_result['name']):\n",
    "    if uxclumpy_result['torsigma_err'][index]==-1:\n",
    "        torsigma_err_cmd='$^f$'\n",
    "    else:\n",
    "        torsigma_err_cmd='$\\pm$ %.1f'%uxclumpy_result['torsigma_err'][index]\n",
    "        \n",
    "    print(name,'&',\n",
    "          '%s'%uxclumpy_result['obsid'][index],'&',\n",
    "          '%.2f'%uxclumpy_result['los_nh(10^22)'][index],'$\\pm$', '%.2f'%uxclumpy_result['los_nh_err'][index],'&',\n",
    "              \n",
    "          '%.2f'%uxclumpy_result['phoindex'][index],'$\\pm$', '%.2f'%uxclumpy_result['phoindex_err'][index],'&',\n",
    "          '%.1f'%uxclumpy_result['torsigma'][index]+torsigma_err_cmd ,'&',\n",
    "          \n",
    "          #'%.1f'%uxclumpy_result['highEcut'][index]+uxclumpy_highEcut_err_cmd,'&',\n",
    "          #'%.2f'%uxclumpy_result['zgaussLineE'][index],'$\\pm$', '%.2f'%uxclumpy_result['zgaussLineE_err'][index],'&',\n",
    "          #'%.2f'%uxclumpy_result['zgaussSigma'][index],'$\\pm$', '%.2f'%uxclumpy_result['zgaussSigma_err'][index],'&',\n",
    "          #'%.3f'%uxclumpy_result['rRratio'][index],'$\\pm$', '%.3f'%uxclumpy_result['rRratio_err'][index],'&',\n",
    "          \n",
    "          '%.2f(%d/%d)'%(uxclumpy_result['rechi_2'][index],uxclumpy_result['chi_2'][index],uxclumpy_result['dof'][index]),'&',\n",
    "          '%.3f'%float(uxclumpy_result['log_Lx/Ledd'][index]),'$\\pm$','%.3f'%float(uxclumpy_result['log_f_err'][index]),#'&',\n",
    "          #'%.3f'%float(uxclumpy_result['log_Lx_10to50keV/Ledd'][index]),'$\\pm$','%.3f'%float(uxclumpy_result['log_f_err_10to50keV'][index]),\n",
    "          '\\\\\\\\',\n",
    "         )\n",
    "\n",
    "\n"
   ]
  },
  {
   "cell_type": "code",
   "execution_count": null,
   "metadata": {
    "ExecuteTime": {
     "end_time": "2023-02-19T08:18:32.466564Z",
     "start_time": "2023-02-19T08:18:32.434095Z"
    }
   },
   "outputs": [],
   "source": [
    "for index,name in enumerate(uxclumpy_result['name']):\n",
    "    if uxclumpy_result['torsigma_err'][index]==-1:\n",
    "        torsigma_err_cmd='$^f$'\n",
    "    else:\n",
    "        torsigma_err_cmd='$\\pm$ %.1f'%uxclumpy_result['torsigma_err'][index]\n",
    "        \n",
    "    print(name,'&',\n",
    "          '%s'%uxclumpy_result['obsid'][index],'&',\n",
    "          '%.2f'%uxclumpy_result['los_nh(10^22)'][index],'$\\pm$', '%.2f'%uxclumpy_result['los_nh_err'][index],'&',\n",
    "              \n",
    "          '%.2f'%uxclumpy_result['phoindex'][index],'$\\pm$', '%.2f'%uxclumpy_result['phoindex_err'][index],'&',\n",
    "          #'%.1f'%uxclumpy_result['torsigma'][index]+torsigma_err_cmd ,'&',\n",
    "          \n",
    "          #'%.1f'%uxclumpy_result['highEcut'][index]+uxclumpy_highEcut_err_cmd,'&',\n",
    "          #'%.2f'%uxclumpy_result['zgaussLineE'][index],'$\\pm$', '%.2f'%uxclumpy_result['zgaussLineE_err'][index],'&',\n",
    "          #'%.2f'%uxclumpy_result['zgaussSigma'][index],'$\\pm$', '%.2f'%uxclumpy_result['zgaussSigma_err'][index],'&',\n",
    "          #'%.3f'%uxclumpy_result['rRratio'][index],'$\\pm$', '%.3f'%uxclumpy_result['rRratio_err'][index],'&',\n",
    "          \n",
    "          '%.2f(%d/%d)'%(uxclumpy_result['rechi_2'][index],uxclumpy_result['chi_2'][index],uxclumpy_result['dof'][index]),'&',\n",
    "          '%.3f'%float(uxclumpy_result['log_Lx/Ledd'][index]),'$\\pm$','%.3f'%float(uxclumpy_result['log_f_err'][index]),#'&',\n",
    "          #'%.3f'%float(uxclumpy_result['log_Lx_10to50keV/Ledd'][index]),'$\\pm$','%.3f'%float(uxclumpy_result['log_f_err_10to50keV'][index]),\n",
    "          '\\\\\\\\',\n",
    "         )\n",
    "\n",
    "\n"
   ]
  },
  {
   "cell_type": "code",
   "execution_count": null,
   "metadata": {},
   "outputs": [],
   "source": []
  },
  {
   "cell_type": "code",
   "execution_count": null,
   "metadata": {},
   "outputs": [],
   "source": []
  },
  {
   "cell_type": "code",
   "execution_count": null,
   "metadata": {
    "ExecuteTime": {
     "end_time": "2023-02-10T15:06:53.964760Z",
     "start_time": "2023-02-10T15:06:53.951682Z"
    }
   },
   "outputs": [],
   "source": [
    "uxclumpy_result.columns"
   ]
  },
  {
   "cell_type": "code",
   "execution_count": null,
   "metadata": {
    "ExecuteTime": {
     "end_time": "2023-02-01T12:43:47.467277Z",
     "start_time": "2023-02-01T12:43:46.101563Z"
    }
   },
   "outputs": [],
   "source": [
    "fig = plt.figure(figsize=(12,12))\n",
    "fig.subplots_adjust(hspace=0.3, wspace = 0.5)\n",
    "\n",
    "\n",
    "ax = fig.add_subplot(2,2,1)\n",
    "\n",
    "xlabel='log_Lx/Ledd'\n",
    "ylabel='phoindex'\n",
    "xerr_label='log_f_err'\n",
    "yerr_label='phoindex_err'\n",
    "color_label='los_nh(10^22)'\n",
    "#dataplot=slab_zgauss_result\n",
    "#ax=plot_errorbar_cmap(ax,dataplot,xlabel,ylabel,xerr=xerr_label,yerr=yerr_label,color_n=color_label,marker_n='name',size_n=None,logx=False,logy=False)\n",
    "dataplot=uxclumpy_result\n",
    "ax=plot_errorbar_cmap(ax,dataplot,xlabel,ylabel,xerr=xerr_label,yerr=yerr_label,color_n=color_label,marker_n='name',size_n=None,logx=False,logy=False)\n",
    "set_ax_tick(ax) \n",
    "#set_ax_locator(ax,xma=1000,xmi=500,yma=1,ymi=0.5)\n",
    "set_ax_legend(ax,bbox_to_anchor=(0.01, 0.99))   \n",
    "#ax.set_ylim(-7,17)\n",
    "ax.set_xlabel(xlabel)\n",
    "ax.set_ylabel(ylabel)\n",
    "#ax.set_title('UXCLUMPY model')\n",
    "\n",
    "\n",
    "ax = fig.add_subplot(2,2,2)\n",
    "\n",
    "xlabel='log_Lx/Ledd'\n",
    "ylabel='los_nh(10^22)'\n",
    "xerr_label='log_f_err'\n",
    "yerr_label='los_nh_err'#'zphabs_nh_err'\n",
    "color_label='phoindex'\n",
    "\n",
    "dataplot=uxclumpy_result\n",
    "ax=plot_errorbar_cmap(ax,dataplot,xlabel,ylabel,xerr=xerr_label,yerr=yerr_label,color_n=color_label,marker_n='name',size_n=None,logx=False,logy=False)\n",
    "\n",
    "set_ax_tick(ax) \n",
    "#set_ax_locator(ax,xma=1000,xmi=500,yma=1,ymi=0.5)\n",
    "set_ax_legend(ax,bbox_to_anchor=(0.51, 0.99))   \n",
    "#ax.set_ylim(-7,17)\n",
    "#ax.semilogy()\n",
    "ax.set_xlabel(xlabel)\n",
    "ax.set_ylabel(ylabel)\n",
    "\n",
    "\n",
    "ax = fig.add_subplot(2,2,3)\n",
    "xlabel='los_nh(10^22)'\n",
    "ylabel='phoindex'\n",
    "xerr_label='los_nh_err'\n",
    "yerr_label='phoindex_err'\n",
    "color_label='log_Lx/Ledd'\n",
    "\n",
    "dataplot=uxclumpy_result\n",
    "ax=plot_errorbar_cmap(ax,dataplot,xlabel,ylabel,xerr=xerr_label,yerr=yerr_label,color_n=color_label,marker_n='name',size_n=None,logx=False,logy=False)\n",
    "set_ax_tick(ax) \n",
    "#set_ax_locator(ax,xma=1000,xmi=500,yma=1,ymi=0.5)\n",
    "set_ax_legend(ax,bbox_to_anchor=(0.51, 0.99))   \n",
    "#ax.set_ylim(-0.1,0.5)\n",
    "ax.set_xlabel(xlabel)\n",
    "ax.set_ylabel(ylabel)\n",
    "\n",
    "\n",
    "'''ax = fig.add_subplot(2,2,4)\n",
    "xlabel='log_Lx/Ledd'\n",
    "ylabel='torsigma'\n",
    "xerr_label='log_f_err'\n",
    "yerr_label='torsigma_err'\n",
    "color_label='phoindex'\n",
    "dataplot=uxclumpy_result\n",
    "ax=plot_errorbar_cmap(ax,dataplot,xlabel,ylabel,xerr=xerr_label,yerr=yerr_label,color_n=color_label,marker_n='name',size_n=None,logx=False,logy=False)\n",
    "set_ax_tick(ax) \n",
    "#set_ax_locator(ax,xma=1000,xmi=500,yma=1,ymi=0.5)\n",
    "set_ax_legend(ax,bbox_to_anchor=(0.11, 0.99))   \n",
    "#ax.set_ylim(-0.1,0.5)\n",
    "ax.set_xlabel(xlabel)\n",
    "ax.set_ylabel(ylabel)'''\n",
    "\n",
    "model_name='UXclumpy'\n",
    "#ax.set_title('%s model'%model_name)\n",
    "plt.title('%s model'%model_name)\n",
    "save_lc_img_path=os.path.join('/Users/lyubing/Downloads/','%s_cmap.png'%model_name) \n",
    "plt.savefig(save_lc_img_path,dpi=400, transparent=False, bbox_inches='tight')\n",
    "#plt.close()  \n"
   ]
  },
  {
   "cell_type": "code",
   "execution_count": null,
   "metadata": {
    "ExecuteTime": {
     "end_time": "2023-01-29T07:48:46.418436Z",
     "start_time": "2023-01-29T07:48:46.406801Z"
    }
   },
   "outputs": [],
   "source": [
    "uxclumpy_result.columns"
   ]
  },
  {
   "cell_type": "code",
   "execution_count": null,
   "metadata": {
    "ExecuteTime": {
     "end_time": "2023-01-29T08:14:52.828052Z",
     "start_time": "2023-01-29T08:14:52.638191Z"
    }
   },
   "outputs": [],
   "source": [
    "figure_n= 1\n",
    "fig = plt.figure(figsize=(6,figure_n*6))\n",
    "fig.subplots_adjust(hspace=0.0, wspace = 0.0)\n",
    "ax = fig.add_subplot(figure_n,1,1)\n",
    "\n",
    "xlabel='Theta_inc'\n",
    "ylabel='los_nh(10^22)'\n",
    "xerr_label=None#'log_f_err'\n",
    "yerr_label='los_nh_err'#'zphabs_nh_err'\n",
    "color_label='logLx'\n",
    "\n",
    "dataplot=uxclumpy_result\n",
    "ax=plot_errorbar_cmap(ax,dataplot,xlabel,ylabel,xerr=xerr_label,yerr=yerr_label,color_n=color_label,marker_n='name',size_n=None,logx=False,logy=False)\n",
    "\n",
    "set_ax_tick(ax) \n",
    "#set_ax_locator(ax,xma=1000,xmi=500,yma=1,ymi=0.5)\n",
    "set_ax_legend(ax,bbox_to_anchor=(0.01, 0.99))   \n",
    "#ax.set_ylim(-7,17)\n",
    "#ax.semilogy()\n",
    "ax.set_xlabel(xlabel)\n",
    "ax.set_ylabel(ylabel)\n",
    "ax.set_title('uxclumpy')\n"
   ]
  },
  {
   "cell_type": "markdown",
   "metadata": {},
   "source": [
    "### plot3para"
   ]
  },
  {
   "cell_type": "code",
   "execution_count": null,
   "metadata": {
    "ExecuteTime": {
     "end_time": "2023-02-19T08:32:27.379959Z",
     "start_time": "2023-02-19T08:32:26.873303Z"
    }
   },
   "outputs": [],
   "source": [
    "fig = plt.figure(figsize=(9,9))\n",
    "fig.subplots_adjust(hspace=0., wspace = 0.)\n",
    "ax = fig.add_subplot(2,2,1)\n",
    "\n",
    "\n",
    "\n",
    "xlabel='log_Lx/Ledd'\n",
    "ylabel='phoindex'\n",
    "xerr_label='log_f_err'\n",
    "yerr_label='phoindex_err'\n",
    "color_label='grey'\n",
    "\n",
    "dataplot=uxclumpy_result\n",
    "ax=plot_errorbar(ax,dataplot,xlabel,ylabel,xerr=xerr_label,yerr=yerr_label,color_n=color_label,marker_n='name',size_n=None,logx=False,logy=False,blank_plot=True)\n",
    "set_ax_tick(ax) \n",
    "set_ax_locator(ax,xma=1.0,xmi=0.2,yma=0.2,ymi=0.1)\n",
    "#set_ax_legend(ax,bbox_to_anchor=(0.01, 0.99))   \n",
    "#ax.set_ylim(-7,17)\n",
    "#ax.set_xlabel(r'log($L_{\\rm X}/L_{\\rm Edd}$)')\n",
    "ax.set_ylabel(r'$\\Gamma$')\n",
    "model_name='UXCLUMPY'\n",
    "ax.set_title('%s'%model_name)\n",
    "\n",
    "\n",
    "'''ax2 = fig.add_subplot(2,2,2,sharey=ax)\n",
    "xlabel='los_nh(10^22)'\n",
    "ylabel='phoindex'\n",
    "xerr_label='los_nh_err'\n",
    "yerr_label='phoindex_err'\n",
    "\n",
    "\n",
    "dataplot=uxclumpy_result\n",
    "ax2=plot_errorbar(ax2,dataplot,xlabel,ylabel,xerr=xerr_label,yerr=yerr_label,color_n=color_label,marker_n='name',size_n=None,logx=False,logy=False,blank_plot=True)\n",
    "set_ax_tick(ax2) \n",
    "#set_ax_locator(ax,xma=1000,xmi=500,yma=1,ymi=0.5)\n",
    "#set_ax_legend(ax2,bbox_to_anchor=(0.51, 0.99))   \n",
    "#ax.set_ylim(-0.1,0.5)\n",
    "ax2.set_xlabel(r'$N_{\\rm H,los (10^{22} cm^{-2})}$')\n",
    "#ax2.set_ylabel(r'$\\Gamma$')\n",
    "#ax2.yaxis.set_major_formatter(ticker.NullFormatter())\n",
    "set_ax_locator(ax2,xma=15,xmi=5,yma=0.2,ymi=0.1)\n",
    "ax2.yaxis.set_tick_params(which='major', size=10, width=2, direction='in', top='on',labelsize=0)\n",
    "'''\n",
    "\n",
    "ax3 = fig.add_subplot(2,2,3,sharex=ax)\n",
    "\n",
    "xlabel='log_Lx/Ledd'\n",
    "ylabel='los_nh(10^22)'\n",
    "xerr_label='log_f_err'\n",
    "yerr_label='los_nh_err'#'zphabs_nh_err'\n",
    "\n",
    "dataplot=uxclumpy_result\n",
    "ax3=plot_errorbar(ax3,dataplot,xlabel,ylabel,xerr=xerr_label,yerr=yerr_label,color_n=color_label,marker_n='name',size_n=None,logx=False,logy=False,blank_plot=True)\n",
    "\n",
    "set_ax_tick(ax3) \n",
    "#set_ax_locator(ax,xma=1000,xmi=500,yma=1,ymi=0.5)\n",
    "#set_ax_legend(ax3,bbox_to_anchor=(0.51, 0.99))   \n",
    "#ax.set_ylim(-7,17)\n",
    "#ax.semilogy()\n",
    "ax3.set_xlabel(r'log($L_{\\rm 2-10keV}/L_{\\rm Edd}$)')\n",
    "ax3.set_ylabel(r'$N_{\\rm H,los (10^{22} cm^{-2})}$')\n",
    "ax3.set_ylim(-5,85)\n",
    "\n",
    "#ax2.xaxis.set_tick_params(which='major', size=10, width=2, direction='in', top='on',)\n",
    "#ax2.xaxis.set_tick_params(which='minor', size=5, width=2, direction='in', top='on')\n",
    "#ax2.yaxis.set_tick_params(which='major', size=10, width=2, direction='in', right='on')\n",
    "#ax2.yaxis.set_tick_params(which='minor', size=5, width=2, direction='in', right='on')\n",
    "\n",
    "\n",
    "#ax.set_title('%s model'%model_name)\n",
    "save_lc_img_path=os.path.join('/Users/lyubing/Downloads/OXCLAGN/OXCLAGN/pic/Gamma_L_nh_pic/','%s.pdf'%model_name) \n",
    "plt.savefig(save_lc_img_path,dpi=400, transparent=False, bbox_inches='tight')\n",
    "#plt.close()    "
   ]
  },
  {
   "cell_type": "markdown",
   "metadata": {},
   "source": [
    "## borus02"
   ]
  },
  {
   "cell_type": "code",
   "execution_count": null,
   "metadata": {
    "ExecuteTime": {
     "end_time": "2023-03-02T11:18:21.729024Z",
     "start_time": "2023-03-02T11:18:21.659230Z"
    }
   },
   "outputs": [],
   "source": [
    "borus_result=pd.read_excel('/Users/lyubing/Downloads/OXCLAGN/OXCLAGN.xlsx',sheet_name='borus02')\n",
    "\n",
    "for i in range(len(borus_result)):\n",
    "    borus_result.loc[i,'logmass']= name_mass_dict[borus_result.loc[i,'name']]\n",
    "borus_result['logLedd']= np.log10(1.26e38)+borus_result['logmass']\n",
    "\n",
    "\n",
    "for i in range(len(borus_result)):\n",
    "    borus_result.loc[i,'redshift']= name_redshift_dict[borus_result.loc[i,'name']]\n",
    "    borus_result.loc[i,'D_cm']= cosmo.luminosity_distance(z=name_redshift_dict[borus_result.loc[i,'name']]).to(u.cm).value\n",
    "\n",
    "borus_result['logLx']=np.log10(4*np.pi)+np.log10(borus_result['D_cm'])*2.0+borus_result['log_f']\n",
    "borus_result['log_Lx/Ledd']=borus_result['logLx']-borus_result['logLedd']\n",
    "    \n"
   ]
  },
  {
   "cell_type": "code",
   "execution_count": null,
   "metadata": {
    "ExecuteTime": {
     "end_time": "2023-02-10T13:11:42.010448Z",
     "start_time": "2023-02-10T13:11:41.998802Z"
    }
   },
   "outputs": [],
   "source": [
    "borus_result.columns"
   ]
  },
  {
   "cell_type": "markdown",
   "metadata": {},
   "source": [
    "### borus_latex"
   ]
  },
  {
   "cell_type": "code",
   "execution_count": null,
   "metadata": {
    "ExecuteTime": {
     "end_time": "2023-02-10T13:11:59.162242Z",
     "start_time": "2023-02-10T13:11:59.135791Z"
    }
   },
   "outputs": [],
   "source": [
    "for index,name in enumerate(borus_result['name']):\n",
    "    if borus_result['highEcut_err'][index]==-1:\n",
    "        borus_highEcut_err_cmd='$^f$'\n",
    "    else:\n",
    "        borus_highEcut_err_cmd='$\\pm$'+'%.1f'%borus_result['highEcut_err'][index]\n",
    "          \n",
    "    print(name,'&',\n",
    "          '%s'%borus_result['obsid'][index],'&',\n",
    "          '%.2f'%borus_result['zphabs_nh(10^22)'][index],'$\\pm$', '%.1f'%borus_result['zphabs_nh_err'][index],'&',\n",
    "          '%.2f'%borus_result['logNHtor'][index],'$\\pm$', '%.2f'%borus_result['logNHtor_err'][index],'&',\n",
    "          \n",
    "          '%.2f'%borus_result['phoindex'][index],'$\\pm$', '%.2f'%borus_result['phoindex_err'][index],'&',\n",
    "\n",
    "          '%.1f'%borus_result['highEcut'][index]+borus_highEcut_err_cmd,'&',\n",
    "          #'%.2f'%borus_result['zgaussLineE'][index],'$\\pm$', '%.2f'%borus_result['zgaussLineE_err'][index],'&',\n",
    "          #'%.2f'%borus_result['zgaussSigma'][index],'$\\pm$', '%.2f'%borus_result['zgaussSigma_err'][index],'&',\n",
    "         # '%.3f'%borus_result['rRratio'][index],'$\\pm$', '%.3f'%borus_result['rRratio_err'][index],'&',\n",
    "          \n",
    "          '%.2f'%borus_result['CFtor'][index],'$\\pm$', '%.2f'%borus_result['CFtor_err'][index],'&',\n",
    "          \n",
    "          '%.2f(%d/%d)'%(borus_result['rechi_2'][index],borus_result['chi_2'][index],borus_result['dof'][index]),'&',\n",
    "          '%.3f'%float(borus_result['log_Lx/Ledd'][index]),'$\\pm$','%.3f'%float(borus_result['log_f_err'][index]),#'&',\n",
    "          #'%.3f'%float(borus_result['log_Lx_10to50keV/Ledd'][index]),'$\\pm$','%.3f'%float(borus_result['log_f_err_10to50keV'][index]),\n",
    "          '\\\\\\\\',\n",
    "         )\n"
   ]
  },
  {
   "cell_type": "code",
   "execution_count": null,
   "metadata": {},
   "outputs": [],
   "source": []
  },
  {
   "cell_type": "code",
   "execution_count": null,
   "metadata": {
    "ExecuteTime": {
     "end_time": "2023-01-28T04:46:24.692159Z",
     "start_time": "2023-01-28T04:46:23.067778Z"
    },
    "scrolled": false
   },
   "outputs": [],
   "source": [
    "fig = plt.figure(figsize=(12,12))\n",
    "fig.subplots_adjust(hspace=0.3, wspace = 0.5)\n",
    "\n",
    "\n",
    "\n",
    "ax = fig.add_subplot(2,2,1)\n",
    "\n",
    "xlabel='log_Lx/Ledd'\n",
    "ylabel='phoindex'\n",
    "xerr_label='log_f_err'\n",
    "yerr_label='phoindex_err'\n",
    "color_label='zphabs_nh(10^22)'\n",
    "#dataplot=slab_zgauss_result\n",
    "#ax=plot_errorbar_cmap(ax,dataplot,xlabel,ylabel,xerr=xerr_label,yerr=yerr_label,color_n=color_label,marker_n='name',size_n=None,logx=False,logy=False)\n",
    "dataplot=borus_result\n",
    "ax=plot_errorbar_cmap(ax,dataplot,xlabel,ylabel,xerr=xerr_label,yerr=yerr_label,color_n=color_label,marker_n='name',size_n=None,logx=False,logy=False)\n",
    "set_ax_tick(ax) \n",
    "#set_ax_locator(ax,xma=1000,xmi=500,yma=1,ymi=0.5)\n",
    "set_ax_legend(ax,bbox_to_anchor=(0.01, 0.99))   \n",
    "#ax.set_ylim(-7,17)\n",
    "ax.set_xlabel(xlabel)\n",
    "ax.set_ylabel(ylabel)\n",
    "#ax.set_title('borus02 model')\n",
    "\n",
    "\n",
    "ax = fig.add_subplot(2,2,2)\n",
    "\n",
    "xlabel='log_Lx/Ledd'\n",
    "ylabel='zphabs_nh(10^22)'\n",
    "xerr_label='log_f_err'\n",
    "yerr_label=None#'zphabs_nh_err'\n",
    "color_label='CFtor'\n",
    "\n",
    "dataplot=borus_result\n",
    "ax=plot_errorbar_cmap(ax,dataplot,xlabel,ylabel,xerr=xerr_label,yerr=yerr_label,color_n=color_label,marker_n='name',size_n=None,logx=False,logy=False)\n",
    "\n",
    "set_ax_tick(ax) \n",
    "#set_ax_locator(ax,xma=1000,xmi=500,yma=1,ymi=0.5)\n",
    "set_ax_legend(ax,bbox_to_anchor=(0.51, 0.99))   \n",
    "#ax.set_ylim(-7,17)\n",
    "#ax.semilogy()\n",
    "ax.set_xlabel(xlabel)\n",
    "ax.set_ylabel(ylabel)\n",
    "\n",
    "\n",
    "ax = fig.add_subplot(2,2,3)\n",
    "\n",
    "'''xlabel='log_Lx/Ledd'\n",
    "ylabel='CFtor'\n",
    "xerr_label='log_f_err'\n",
    "yerr_label='CFtor_err'\n",
    "color_label='zphabs_nh(10^22)'\n",
    "'''\n",
    "\n",
    "xlabel='zphabs_nh(10^22)'\n",
    "ylabel='phoindex'\n",
    "xerr_label=None #'los_nh_err'\n",
    "yerr_label='phoindex_err'\n",
    "color_label='log_Lx/Ledd'\n",
    "\n",
    "\n",
    "dataplot=borus_result\n",
    "ax=plot_errorbar_cmap(ax,dataplot,xlabel,ylabel,xerr=xerr_label,yerr=yerr_label,color_n=color_label,marker_n='name',size_n=None,logx=False,logy=False)\n",
    "set_ax_tick(ax) \n",
    "#set_ax_locator(ax,xma=1000,xmi=500,yma=1,ymi=0.5)\n",
    "set_ax_legend(ax,bbox_to_anchor=(0.51, 0.99))   \n",
    "#ax.set_ylim(-0.1,0.5)\n",
    "ax.set_xlabel(xlabel)\n",
    "ax.set_ylabel(ylabel)\n",
    "\n",
    "\n",
    "ax = fig.add_subplot(2,2,4)\n",
    "\n",
    "#xlabel='log_Lx/Ledd'\n",
    "xlabel='logLx'\n",
    "ylabel='logNHtor'\n",
    "xerr_label='log_f_err'\n",
    "yerr_label='logNHtor_err'\n",
    "color_label='zphabs_nh(10^22)'\n",
    "\n",
    "dataplot=borus_result\n",
    "ax=plot_errorbar_cmap(ax,dataplot,xlabel,ylabel,xerr=xerr_label,yerr=yerr_label,color_n=color_label,marker_n='name',size_n=None,logx=False,logy=False)\n",
    "set_ax_tick(ax) \n",
    "#set_ax_locator(ax,xma=1000,xmi=500,yma=1,ymi=0.5)\n",
    "set_ax_legend(ax,bbox_to_anchor=(0.11, 0.99))   \n",
    "#ax.set_ylim(-0.1,0.5)\n",
    "ax.set_xlabel(xlabel)\n",
    "ax.set_ylabel(ylabel)\n",
    "\n",
    "model_name='borus02'\n",
    "#ax.set_title('%s model'%model_name)\n",
    "plt.title('%s model'%model_name)\n",
    "save_lc_img_path=os.path.join('/Users/lyubing/Downloads/','%s_cmap.png'%model_name) \n",
    "plt.savefig(save_lc_img_path,dpi=400, transparent=False, bbox_inches='tight')\n",
    "#plt.close() "
   ]
  },
  {
   "cell_type": "code",
   "execution_count": null,
   "metadata": {
    "ExecuteTime": {
     "end_time": "2023-01-29T08:35:14.522970Z",
     "start_time": "2023-01-29T08:35:14.511193Z"
    }
   },
   "outputs": [],
   "source": [
    "borus_result.columns"
   ]
  },
  {
   "cell_type": "code",
   "execution_count": null,
   "metadata": {
    "ExecuteTime": {
     "end_time": "2023-01-29T08:35:30.668322Z",
     "start_time": "2023-01-29T08:35:30.475709Z"
    }
   },
   "outputs": [],
   "source": [
    "figure_n= 1\n",
    "fig = plt.figure(figsize=(6,figure_n*6))\n",
    "fig.subplots_adjust(hspace=0.0, wspace = 0.0)\n",
    "ax = fig.add_subplot(figure_n,1,1)\n",
    "\n",
    "xlabel='thInc'\n",
    "ylabel='zphabs_nh(10^22)'\n",
    "xerr_label=None#'log_f_err'\n",
    "yerr_label=None#'zphabs_nh_err'\n",
    "color_label='logLx'\n",
    "\n",
    "dataplot=borus_result\n",
    "ax=plot_errorbar_cmap(ax,dataplot,xlabel,ylabel,xerr=xerr_label,yerr=yerr_label,color_n=color_label,marker_n='name',size_n=None,logx=False,logy=False)\n",
    "\n",
    "set_ax_tick(ax) \n",
    "#set_ax_locator(ax,xma=1000,xmi=500,yma=1,ymi=0.5)\n",
    "set_ax_legend(ax,bbox_to_anchor=(0.01, 0.99))   \n",
    "#ax.set_ylim(-7,17)\n",
    "#ax.semilogy()\n",
    "ax.set_xlabel(xlabel)\n",
    "ax.set_ylabel(ylabel)\n",
    "ax.set_title('borus02')\n"
   ]
  },
  {
   "cell_type": "markdown",
   "metadata": {},
   "source": [
    "### plot3para"
   ]
  },
  {
   "cell_type": "code",
   "execution_count": null,
   "metadata": {
    "ExecuteTime": {
     "end_time": "2023-02-19T08:32:48.100105Z",
     "start_time": "2023-02-19T08:32:47.581418Z"
    }
   },
   "outputs": [],
   "source": [
    "fig = plt.figure(figsize=(9,9))\n",
    "fig.subplots_adjust(hspace=0., wspace = 0.)\n",
    "ax = fig.add_subplot(2,2,1)\n",
    "\n",
    "\n",
    "\n",
    "xlabel='log_Lx/Ledd'\n",
    "ylabel='phoindex'\n",
    "xerr_label='log_f_err'\n",
    "yerr_label='phoindex_err'\n",
    "color_label='black'\n",
    "\n",
    "dataplot=borus_result\n",
    "ax=plot_errorbar(ax,dataplot,xlabel,ylabel,xerr=xerr_label,yerr=yerr_label,color_n=color_label,marker_n='name',size_n=None,logx=False,logy=False)\n",
    "set_ax_tick(ax) \n",
    "set_ax_locator(ax,xma=1.0,xmi=0.2,yma=0.2,ymi=0.1)\n",
    "#set_ax_legend(ax,bbox_to_anchor=(0.01, 0.99))   \n",
    "#ax.set_ylim(-7,17)\n",
    "#ax.set_xlabel(r'log($L_{\\rm X}/L_{\\rm Edd}$)')\n",
    "ax.set_ylabel(r'$\\Gamma$')\n",
    "model_name='borus02'\n",
    "ax.set_title('%s'%model_name)\n",
    "\n",
    "\n",
    "'''ax2 = fig.add_subplot(2,2,2,sharey=ax)\n",
    "xlabel='zphabs_nh(10^22)'\n",
    "ylabel='phoindex'\n",
    "xerr_label=None #'zphabs_nh_err'\n",
    "yerr_label='phoindex_err'\n",
    "\n",
    "dataplot=borus_result\n",
    "ax2=plot_errorbar(ax2,dataplot,xlabel,ylabel,xerr=xerr_label,yerr=yerr_label,color_n=color_label,marker_n='name',size_n=None,logx=False,logy=False)\n",
    "set_ax_tick(ax2) \n",
    "#set_ax_locator(ax,xma=1000,xmi=500,yma=1,ymi=0.5)\n",
    "#set_ax_legend(ax2,bbox_to_anchor=(0.01, 0.99))   \n",
    "#ax.set_ylim(-0.1,0.5)\n",
    "ax2.set_xlabel(r'$N_{\\rm H,los (10^{22} cm^{-2})}$')\n",
    "#ax2.set_ylabel(r'$\\Gamma$')\n",
    "#ax2.yaxis.set_major_formatter(ticker.NullFormatter())\n",
    "set_ax_locator(ax2,xma=25,xmi=5,yma=0.2,ymi=0.1)\n",
    "ax2.yaxis.set_tick_params(which='major', size=10, width=2, direction='in', top='on',labelsize=0)\n",
    "'''\n",
    "\n",
    "ax3 = fig.add_subplot(2,2,3,sharex=ax)\n",
    "\n",
    "xlabel='log_Lx/Ledd'\n",
    "ylabel='zphabs_nh(10^22)'\n",
    "xerr_label='log_f_err'\n",
    "yerr_label='zphabs_nh_err'\n",
    "\n",
    "\n",
    "dataplot=borus_result\n",
    "ax3=plot_errorbar(ax3,dataplot,xlabel,ylabel,xerr=xerr_label,yerr=yerr_label,color_n=color_label,marker_n='name',size_n=None,logx=False,logy=False)\n",
    "\n",
    "set_ax_tick(ax3) \n",
    "#set_ax_locator(ax,xma=1000,xmi=500,yma=1,ymi=0.5)\n",
    "#set_ax_legend(ax3,bbox_to_anchor=(0.51, 0.99))   \n",
    "#ax.set_ylim(-7,17)\n",
    "#ax.semilogy()\n",
    "ax3.set_xlabel(r'log($L_{\\rm 2-10keV}/L_{\\rm Edd}$)')\n",
    "ax3.set_ylabel(r'$N_{\\rm H,los (10^{22} cm^{-2})}$')\n",
    "ax3.set_ylim(-5,85)\n",
    "\n",
    "\n",
    "#ax2.xaxis.set_tick_params(which='major', size=10, width=2, direction='in', top='on',)\n",
    "#ax2.xaxis.set_tick_params(which='minor', size=5, width=2, direction='in', top='on')\n",
    "#ax2.yaxis.set_tick_params(which='major', size=10, width=2, direction='in', right='on')\n",
    "#ax2.yaxis.set_tick_params(which='minor', size=5, width=2, direction='in', right='on')\n",
    "\n",
    "#ax.set_title('%s model'%model_name)\n",
    "save_lc_img_path=os.path.join('/Users/lyubing/Downloads/OXCLAGN/OXCLAGN/pic/Gamma_L_nh_pic/','%s.pdf'%model_name) \n",
    "plt.savefig(save_lc_img_path,dpi=400, transparent=False, bbox_inches='tight')\n",
    "#plt.close()    "
   ]
  },
  {
   "cell_type": "code",
   "execution_count": null,
   "metadata": {},
   "outputs": [],
   "source": []
  },
  {
   "cell_type": "code",
   "execution_count": null,
   "metadata": {},
   "outputs": [],
   "source": []
  },
  {
   "cell_type": "markdown",
   "metadata": {},
   "source": [
    "## rxtorus"
   ]
  },
  {
   "cell_type": "code",
   "execution_count": null,
   "metadata": {
    "ExecuteTime": {
     "end_time": "2023-03-02T11:18:26.323672Z",
     "start_time": "2023-03-02T11:18:26.254603Z"
    }
   },
   "outputs": [],
   "source": [
    "rxtorus_result=pd.read_excel('/Users/lyubing/Downloads/OXCLAGN/OXCLAGN.xlsx',sheet_name='rxtorus')\n",
    "\n",
    "for i in range(len(rxtorus_result)):\n",
    "    rxtorus_result.loc[i,'logmass']= name_mass_dict[rxtorus_result.loc[i,'name']]\n",
    "rxtorus_result['logLedd']= np.log10(1.26e38)+rxtorus_result['logmass']\n",
    "\n",
    "\n",
    "for i in range(len(rxtorus_result)):\n",
    "    rxtorus_result.loc[i,'redshift']= name_redshift_dict[rxtorus_result.loc[i,'name']]\n",
    "    rxtorus_result.loc[i,'D_cm']= cosmo.luminosity_distance(z=name_redshift_dict[rxtorus_result.loc[i,'name']]).to(u.cm).value\n",
    "\n",
    "rxtorus_result['logLx']=np.log10(4*np.pi)+np.log10(rxtorus_result['D_cm'])*2.0+rxtorus_result['log_f']\n",
    "rxtorus_result['log_Lx/Ledd']=rxtorus_result['logLx']-rxtorus_result['logLedd']\n",
    "    "
   ]
  },
  {
   "cell_type": "markdown",
   "metadata": {},
   "source": [
    "### rxtorus_latex"
   ]
  },
  {
   "cell_type": "code",
   "execution_count": null,
   "metadata": {
    "ExecuteTime": {
     "end_time": "2023-02-10T12:51:58.248537Z",
     "start_time": "2023-02-10T12:51:58.224094Z"
    },
    "scrolled": true
   },
   "outputs": [],
   "source": [
    "for index,name in enumerate(rxtorus_result['name']):\n",
    "    if rxtorus_result['highEcut_err'][index]==-1:\n",
    "        rxtorus_highEcut_err_cmd='$^f$'\n",
    "    else:\n",
    "        rxtorus_highEcut_err_cmd='$\\pm$'+'%.1f'%rxtorus_result['highEcut_err'][index]\n",
    "          \n",
    "    print(name,'&',\n",
    "          '%s'%rxtorus_result['obsid'][index],'&',\n",
    "          '%.2f'%rxtorus_result['zphabs_nh(10^22)'][index],'&',\n",
    "          '%.1f'%rxtorus_result['NHeq'][index],'$\\pm$', '%.1f'%rxtorus_result['NHeq_err'][index],'&',\n",
    "          \n",
    "          '%.2f'%rxtorus_result['phoindex'][index],'$\\pm$', '%.2f'%rxtorus_result['phoindex_err'][index],'&',\n",
    "\n",
    "          '%.1f'%rxtorus_result['highEcut'][index]+rxtorus_highEcut_err_cmd,'&',\n",
    "          #'%.2f'%rxtorus_result['zgaussLineE'][index],'$\\pm$', '%.2f'%rxtorus_result['zgaussLineE_err'][index],'&',\n",
    "          #'%.2f'%rxtorus_result['zgaussSigma'][index],'$\\pm$', '%.2f'%rxtorus_result['zgaussSigma_err'][index],'&',\n",
    "          '%.3f'%rxtorus_result['rRratio'][index],'$\\pm$', '%.3f'%rxtorus_result['rRratio_err'][index],'&',\n",
    "          \n",
    "          \n",
    "          '%.2f(%d/%d)'%(rxtorus_result['rechi_2'][index],rxtorus_result['chi_2'][index],rxtorus_result['dof'][index]),'&',\n",
    "          '%.3f'%float(rxtorus_result['log_Lx/Ledd'][index]),'$\\pm$','%.3f'%float(rxtorus_result['log_f_err'][index]),#'&',\n",
    "          #'%.3f'%float(rxtorus_result['log_Lx_10to50keV/Ledd'][index]),'$\\pm$','%.3f'%float(rxtorus_result['log_f_err_10to50keV'][index]),  \n",
    "          '\\\\\\\\',\n",
    "         )\n"
   ]
  },
  {
   "cell_type": "code",
   "execution_count": null,
   "metadata": {
    "ExecuteTime": {
     "end_time": "2023-02-10T12:10:28.458332Z",
     "start_time": "2023-02-10T12:10:28.444577Z"
    }
   },
   "outputs": [],
   "source": [
    "407.9/439"
   ]
  },
  {
   "cell_type": "code",
   "execution_count": null,
   "metadata": {
    "ExecuteTime": {
     "end_time": "2023-02-09T14:12:15.908013Z",
     "start_time": "2023-02-09T14:12:15.897001Z"
    }
   },
   "outputs": [],
   "source": [
    "rxtorus_result.columns"
   ]
  },
  {
   "cell_type": "code",
   "execution_count": null,
   "metadata": {
    "ExecuteTime": {
     "end_time": "2023-02-08T04:09:33.514768Z",
     "start_time": "2023-02-08T04:09:33.484861Z"
    }
   },
   "outputs": [],
   "source": [
    "rxtorus_result#.columns"
   ]
  },
  {
   "cell_type": "code",
   "execution_count": null,
   "metadata": {
    "ExecuteTime": {
     "end_time": "2023-01-28T04:48:40.598039Z",
     "start_time": "2023-01-28T04:48:39.295841Z"
    }
   },
   "outputs": [],
   "source": [
    "fig = plt.figure(figsize=(12,12))\n",
    "fig.subplots_adjust(hspace=0.3, wspace = 0.5)\n",
    "\n",
    "\n",
    "ax = fig.add_subplot(2,2,1)\n",
    "\n",
    "xlabel='log_Lx/Ledd'\n",
    "ylabel='phoindex'\n",
    "xerr_label='log_f_err'\n",
    "yerr_label='phoindex_err'\n",
    "color_label='zphabs_nh(10^22)'\n",
    "#dataplot=slab_zgauss_result\n",
    "#ax=plot_errorbar_cmap(ax,dataplot,xlabel,ylabel,xerr=xerr_label,yerr=yerr_label,color_n=color_label,marker_n='name',size_n=None,logx=False,logy=False)\n",
    "dataplot=rxtorus_result\n",
    "ax=plot_errorbar_cmap(ax,dataplot,xlabel,ylabel,xerr=xerr_label,yerr=yerr_label,color_n=color_label,marker_n='name',size_n=None,logx=False,logy=False)\n",
    "set_ax_tick(ax) \n",
    "#set_ax_locator(ax,xma=1000,xmi=500,yma=1,ymi=0.5)\n",
    "set_ax_legend(ax,bbox_to_anchor=(0.01, 0.99))   \n",
    "#ax.set_ylim(-7,17)\n",
    "ax.set_xlabel(xlabel)\n",
    "ax.set_ylabel(ylabel)\n",
    "#ax.set_title('rxtorus model')\n",
    "\n",
    "\n",
    "ax = fig.add_subplot(2,2,2)\n",
    "\n",
    "xlabel='log_Lx/Ledd'\n",
    "ylabel='zphabs_nh(10^22)'\n",
    "xerr_label='log_f_err'\n",
    "yerr_label=None#'los_nh_err'#'zphabs_nh_err'\n",
    "color_label='phoindex'\n",
    "\n",
    "dataplot=rxtorus_result\n",
    "ax=plot_errorbar_cmap(ax,dataplot,xlabel,ylabel,xerr=xerr_label,yerr=yerr_label,color_n=color_label,marker_n='name',size_n=None,logx=False,logy=False)\n",
    "\n",
    "set_ax_tick(ax) \n",
    "#set_ax_locator(ax,xma=1000,xmi=500,yma=1,ymi=0.5)\n",
    "set_ax_legend(ax,bbox_to_anchor=(0.51, 0.99))   \n",
    "#ax.set_ylim(-7,17)\n",
    "#ax.semilogy()\n",
    "ax.set_xlabel(xlabel)\n",
    "ax.set_ylabel(ylabel)\n",
    "\n",
    "\n",
    "ax = fig.add_subplot(2,2,3)\n",
    "\n",
    "xlabel='zphabs_nh(10^22)'\n",
    "ylabel='phoindex'\n",
    "xerr_label=None#'log_f_err'\n",
    "yerr_label='phoindex_err'#'los_nh_err'#'zphabs_nh_err'\n",
    "color_label='log_Lx/Ledd'\n",
    "\n",
    "dataplot=rxtorus_result\n",
    "ax=plot_errorbar_cmap(ax,dataplot,xlabel,ylabel,xerr=xerr_label,yerr=yerr_label,color_n=color_label,marker_n='name',size_n=None,logx=False,logy=False)\n",
    "\n",
    "set_ax_tick(ax) \n",
    "#set_ax_locator(ax,xma=1000,xmi=500,yma=1,ymi=0.5)\n",
    "set_ax_legend(ax,bbox_to_anchor=(0.51, 0.99))   \n",
    "#ax.set_ylim(-7,17)\n",
    "#ax.semilogy()\n",
    "ax.set_xlabel(xlabel)\n",
    "ax.set_ylabel(ylabel)\n",
    "\n",
    "\n",
    "model_name='rxtorus'\n",
    "#ax.set_title('%s model'%model_name)\n",
    "plt.title('%s model'%model_name)\n",
    "save_lc_img_path=os.path.join('/Users/lyubing/Downloads/','%s_cmap.png'%model_name) \n",
    "plt.savefig(save_lc_img_path,dpi=400, transparent=False, bbox_inches='tight')\n",
    "#plt.close() "
   ]
  },
  {
   "cell_type": "code",
   "execution_count": null,
   "metadata": {
    "ExecuteTime": {
     "end_time": "2023-01-29T08:36:48.022482Z",
     "start_time": "2023-01-29T08:36:48.015126Z"
    }
   },
   "outputs": [],
   "source": [
    "rxtorus_result.columns"
   ]
  },
  {
   "cell_type": "code",
   "execution_count": null,
   "metadata": {
    "ExecuteTime": {
     "end_time": "2023-01-29T08:37:00.869713Z",
     "start_time": "2023-01-29T08:37:00.678199Z"
    }
   },
   "outputs": [],
   "source": [
    "figure_n= 1\n",
    "fig = plt.figure(figsize=(6,figure_n*6))\n",
    "fig.subplots_adjust(hspace=0.0, wspace = 0.0)\n",
    "ax = fig.add_subplot(figure_n,1,1)\n",
    "\n",
    "xlabel='Inclination'\n",
    "ylabel='zphabs_nh(10^22)'\n",
    "xerr_label=None#'log_f_err'\n",
    "yerr_label=None#'zphabs_nh_err'\n",
    "color_label='logLx'\n",
    "\n",
    "dataplot=rxtorus_result\n",
    "ax=plot_errorbar_cmap(ax,dataplot,xlabel,ylabel,xerr=xerr_label,yerr=yerr_label,color_n=color_label,marker_n='name',size_n=None,logx=False,logy=False)\n",
    "\n",
    "set_ax_tick(ax) \n",
    "#set_ax_locator(ax,xma=1000,xmi=500,yma=1,ymi=0.5)\n",
    "set_ax_legend(ax,bbox_to_anchor=(0.01, 0.99))   \n",
    "#ax.set_ylim(-7,17)\n",
    "#ax.semilogy()\n",
    "ax.set_xlabel(xlabel)\n",
    "ax.set_ylabel(ylabel)\n",
    "ax.set_title('rxtorus')\n"
   ]
  },
  {
   "cell_type": "markdown",
   "metadata": {
    "ExecuteTime": {
     "end_time": "2023-01-29T10:28:03.069171Z",
     "start_time": "2023-01-29T10:28:03.059940Z"
    }
   },
   "source": [
    "### plot3para"
   ]
  },
  {
   "cell_type": "code",
   "execution_count": null,
   "metadata": {
    "ExecuteTime": {
     "end_time": "2023-02-09T14:11:58.158717Z",
     "start_time": "2023-02-09T14:11:58.144448Z"
    }
   },
   "outputs": [],
   "source": [
    "rxtorus_result.columns"
   ]
  },
  {
   "cell_type": "code",
   "execution_count": null,
   "metadata": {
    "ExecuteTime": {
     "end_time": "2023-02-19T08:32:58.636299Z",
     "start_time": "2023-02-19T08:32:58.140029Z"
    }
   },
   "outputs": [],
   "source": [
    "fig = plt.figure(figsize=(9,9))\n",
    "fig.subplots_adjust(hspace=0., wspace = 0.)\n",
    "ax = fig.add_subplot(2,2,1)\n",
    "\n",
    "\n",
    "\n",
    "xlabel='log_Lx/Ledd'\n",
    "ylabel='phoindex'\n",
    "xerr_label='log_f_err'\n",
    "yerr_label='phoindex_err'\n",
    "color_label='black'\n",
    "\n",
    "dataplot=rxtorus_result\n",
    "ax=plot_errorbar(ax,dataplot,xlabel,ylabel,xerr=xerr_label,yerr=yerr_label,color_n=color_label,marker_n='name',size_n=None,logx=False,logy=False)\n",
    "set_ax_tick(ax) \n",
    "set_ax_locator(ax,xma=1.0,xmi=0.2,yma=0.2,ymi=0.1)\n",
    "#set_ax_legend(ax,bbox_to_anchor=(0.01, 0.99))   \n",
    "#ax.set_ylim(-7,17)\n",
    "#ax.set_xlabel(r'log($L_{\\rm X}/L_{\\rm Edd}$)')\n",
    "ax.set_ylabel(r'$\\Gamma$')\n",
    "model_name='RXTORUS'\n",
    "ax.set_title('%s'%model_name)\n",
    "\n",
    "\n",
    "'''ax2 = fig.add_subplot(2,2,2,sharey=ax)\n",
    "xlabel='zphabs_nh(10^22)'\n",
    "ylabel='phoindex'\n",
    "xerr_label=None #'zphabs_nh_err'\n",
    "yerr_label='phoindex_err'\n",
    "\n",
    "dataplot=rxtorus_result\n",
    "ax2=plot_errorbar(ax2,dataplot,xlabel,ylabel,xerr=xerr_label,yerr=yerr_label,color_n=color_label,marker_n='name',size_n=None,logx=False,logy=False)\n",
    "set_ax_tick(ax2) \n",
    "#set_ax_locator(ax,xma=1000,xmi=500,yma=1,ymi=0.5)\n",
    "#set_ax_legend(ax2,bbox_to_anchor=(0.01, 0.99))   \n",
    "#ax.set_ylim(-0.1,0.5)\n",
    "ax2.set_xlabel(r'$N_{\\rm H,los (10^{22} cm^{-2})}$')\n",
    "#ax2.set_ylabel(r'$\\Gamma$')\n",
    "#ax2.yaxis.set_major_formatter(ticker.NullFormatter())\n",
    "set_ax_locator(ax2,xma=25,xmi=5,yma=0.2,ymi=0.1)\n",
    "ax2.yaxis.set_tick_params(which='major', size=10, width=2, direction='in', top='on',labelsize=0)\n",
    "'''\n",
    "\n",
    "ax3 = fig.add_subplot(2,2,3,sharex=ax)\n",
    "\n",
    "xlabel='log_Lx/Ledd'\n",
    "ylabel='zphabs_nh(10^22)'\n",
    "xerr_label='log_f_err'\n",
    "yerr_label= None#'zphabs_nh_err'\n",
    "\n",
    "\n",
    "dataplot=rxtorus_result\n",
    "ax3=plot_errorbar(ax3,dataplot,xlabel,ylabel,xerr=xerr_label,yerr=yerr_label,color_n=color_label,marker_n='name',size_n=None,logx=False,logy=False)\n",
    "\n",
    "set_ax_tick(ax3) \n",
    "#set_ax_locator(ax,xma=1000,xmi=500,yma=1,ymi=0.5)\n",
    "#set_ax_legend(ax3,bbox_to_anchor=(0.51, 0.99))   \n",
    "#ax.set_ylim(-7,17)\n",
    "#ax.semilogy()\n",
    "ax3.set_xlabel(r'log($L_{\\rm 2-10keV}/L_{\\rm Edd}$)')\n",
    "ax3.set_ylabel(r'$N_{\\rm H,los (10^{22} cm^{-2})}$')\n",
    "ax3.set_ylim(-5,85)\n",
    "\n",
    "\n",
    "#ax2.xaxis.set_tick_params(which='major', size=10, width=2, direction='in', top='on',)\n",
    "#ax2.xaxis.set_tick_params(which='minor', size=5, width=2, direction='in', top='on')\n",
    "#ax2.yaxis.set_tick_params(which='major', size=10, width=2, direction='in', right='on')\n",
    "#ax2.yaxis.set_tick_params(which='minor', size=5, width=2, direction='in', right='on')\n",
    "\n",
    "#ax.set_title('%s model'%model_name)\n",
    "save_lc_img_path=os.path.join('/Users/lyubing/Downloads/OXCLAGN/OXCLAGN/pic/Gamma_L_nh_pic/','%s.pdf'%model_name) \n",
    "plt.savefig(save_lc_img_path,dpi=400, transparent=False, bbox_inches='tight')\n",
    "#plt.close()    "
   ]
  },
  {
   "cell_type": "markdown",
   "metadata": {},
   "source": [
    "## mytorus_couple"
   ]
  },
  {
   "cell_type": "code",
   "execution_count": null,
   "metadata": {
    "ExecuteTime": {
     "end_time": "2023-03-02T11:18:29.329848Z",
     "start_time": "2023-03-02T11:18:29.273904Z"
    }
   },
   "outputs": [],
   "source": [
    "mytorus_couple_result=pd.read_excel('/Users/lyubing/Downloads/OXCLAGN/OXCLAGN.xlsx',sheet_name='mytorus_couple')\n",
    "\n",
    "for i in range(len(mytorus_couple_result)):\n",
    "    mytorus_couple_result.loc[i,'logmass']= name_mass_dict[mytorus_couple_result.loc[i,'name']]\n",
    "    #mytorus_couple_result.loc[i,'inclination']= name_inclination_dict[mytorus_couple_result.loc[i,'name']]\n",
    "    mytorus_couple_result.loc[i,'los_nh(10^22)']=100*mytorus_couple_result.loc[i,'torus_nh(10^24)']*np.sqrt(max(0,1-4*(np.cos(np.pi*mytorus_couple_result.loc[i,'IncAng']/180))**2))\n",
    "   \n",
    "    \n",
    "        \n",
    "mytorus_couple_result['logLedd']= np.log10(1.26e38)+mytorus_couple_result['logmass']\n",
    "\n",
    "\n",
    "for i in range(len(mytorus_couple_result)):\n",
    "    mytorus_couple_result.loc[i,'redshift']= name_redshift_dict[mytorus_couple_result.loc[i,'name']]\n",
    "    mytorus_couple_result.loc[i,'D_cm']= cosmo.luminosity_distance(z=name_redshift_dict[mytorus_couple_result.loc[i,'name']]).to(u.cm).value\n",
    "\n",
    "mytorus_couple_result['logLx']=np.log10(4*np.pi)+np.log10(mytorus_couple_result['D_cm'])*2.0+mytorus_couple_result['log_f']\n",
    "mytorus_couple_result['log_Lx/Ledd']=mytorus_couple_result['logLx']-mytorus_couple_result['logLedd']\n",
    "    \n"
   ]
  },
  {
   "cell_type": "markdown",
   "metadata": {},
   "source": [
    "### MYTC_latex"
   ]
  },
  {
   "cell_type": "code",
   "execution_count": null,
   "metadata": {
    "ExecuteTime": {
     "end_time": "2023-02-14T02:49:52.055006Z",
     "start_time": "2023-02-14T02:49:52.029806Z"
    }
   },
   "outputs": [],
   "source": [
    "for index,name in enumerate(mytorus_couple_result['name']):       \n",
    "    print(name,'&',\n",
    "          '%s'%mytorus_couple_result['obsid'][index],'&',\n",
    "          '%.2f'%mytorus_couple_result['los_nh(10^22)'][index],'&',\n",
    "          '%.0f'%(mytorus_couple_result['torus_nh(10^24)'][index]*100),'$\\pm$', '%.0f'%(mytorus_couple_result['torus_nh_err'][index]*100),'&',\n",
    "          '%.2f'%mytorus_couple_result['IncAng'][index],'$\\pm$', '%.2f'%mytorus_couple_result['IncAng_err'][index],'&',\n",
    "          '%.2f'%mytorus_couple_result['As'][index],'$\\pm$', '%.2f'%mytorus_couple_result['As_err'][index],'&',\n",
    "       \n",
    "          \n",
    "          \n",
    "          '%.2f'%mytorus_couple_result['phoindex'][index],'$\\pm$', '%.2f'%mytorus_couple_result['phoindex_err'][index],'&',\n",
    "          \n",
    "          #'%.1f'%mytorus_couple_result['highEcut'][index]+mytorus_couple_highEcut_err_cmd,'&',\n",
    "          #'%.2f'%mytorus_couple_result['zgaussLineE'][index],'$\\pm$', '%.2f'%mytorus_couple_result['zgaussLineE_err'][index],'&',\n",
    "          #'%.2f'%mytorus_couple_result['zgaussSigma'][index],'$\\pm$', '%.2f'%mytorus_couple_result['zgaussSigma_err'][index],'&',\n",
    "          #'%.3f'%mytorus_couple_result['rRratio'][index],'$\\pm$', '%.3f'%mytorus_couple_result['rRratio_err'][index],'&',\n",
    "          \n",
    "          \n",
    "          '%.2f(%d/%d)'%(mytorus_couple_result['rechi_2'][index],mytorus_couple_result['chi_2'][index],mytorus_couple_result['dof'][index]),'&',\n",
    "          '%.3f'%float(mytorus_couple_result['log_Lx/Ledd'][index]),'$\\pm$','%.3f'%float(mytorus_couple_result['log_f_err'][index]),#'&',\n",
    "          #'%.3f'%float(mytorus_couple_result['log_Lx_10to50keV/Ledd'][index]),'$\\pm$','%.3f'%float(mytorus_couple_result['log_f_err_10to50keV'][index]),\n",
    "          '\\\\\\\\',\n",
    "         )\n"
   ]
  },
  {
   "cell_type": "code",
   "execution_count": null,
   "metadata": {
    "ExecuteTime": {
     "end_time": "2023-02-14T11:41:36.014915Z",
     "start_time": "2023-02-14T11:41:36.004413Z"
    }
   },
   "outputs": [],
   "source": [
    "mytorus_couple_result.columns"
   ]
  },
  {
   "cell_type": "code",
   "execution_count": null,
   "metadata": {
    "ExecuteTime": {
     "end_time": "2023-01-28T04:50:58.127263Z",
     "start_time": "2023-01-28T04:50:56.924890Z"
    }
   },
   "outputs": [],
   "source": [
    "fig = plt.figure(figsize=(12,12))\n",
    "fig.subplots_adjust(hspace=0.3, wspace = 0.5)\n",
    "\n",
    "\n",
    "ax = fig.add_subplot(2,2,1)\n",
    "\n",
    "xlabel='log_Lx/Ledd'\n",
    "ylabel='phoindex'\n",
    "xerr_label='log_f_err'\n",
    "yerr_label='phoindex_err'\n",
    "color_label='los_nh(10^22)'\n",
    "#dataplot=slab_zgauss_result\n",
    "#ax=plot_errorbar_cmap(ax,dataplot,xlabel,ylabel,xerr=xerr_label,yerr=yerr_label,color_n=color_label,marker_n='name',size_n=None,logx=False,logy=False)\n",
    "dataplot=mytorus_couple_result\n",
    "ax=plot_errorbar_cmap(ax,dataplot,xlabel,ylabel,xerr=xerr_label,yerr=yerr_label,color_n=color_label,marker_n='name',size_n=None,logx=False,logy=False)\n",
    "set_ax_tick(ax) \n",
    "#set_ax_locator(ax,xma=1000,xmi=500,yma=1,ymi=0.5)\n",
    "set_ax_legend(ax,bbox_to_anchor=(0.01, 0.99))   \n",
    "#ax.set_ylim(-7,17)\n",
    "ax.set_xlabel(xlabel)\n",
    "ax.set_ylabel(ylabel)\n",
    "ax.set_title('mytorus couple model')\n",
    "\n",
    "\n",
    "ax = fig.add_subplot(2,2,2)\n",
    "\n",
    "xlabel='log_Lx/Ledd'\n",
    "ylabel='los_nh(10^22)'\n",
    "xerr_label='log_f_err'\n",
    "yerr_label=None#'los_nh_err'#'zphabs_nh_err'\n",
    "color_label='phoindex'\n",
    "\n",
    "dataplot=mytorus_couple_result\n",
    "ax=plot_errorbar_cmap(ax,dataplot,xlabel,ylabel,xerr=xerr_label,yerr=yerr_label,color_n=color_label,marker_n='name',size_n=None,logx=False,logy=False)\n",
    "\n",
    "set_ax_tick(ax) \n",
    "#set_ax_locator(ax,xma=1000,xmi=500,yma=1,ymi=0.5)\n",
    "set_ax_legend(ax,bbox_to_anchor=(0.51, 0.99))   \n",
    "#ax.set_ylim(-7,17)\n",
    "#ax.semilogy()\n",
    "ax.set_xlabel(xlabel)\n",
    "ax.set_ylabel(ylabel)\n",
    "\n",
    "ax = fig.add_subplot(2,2,3)\n",
    "xlabel='los_nh(10^22)'\n",
    "ylabel='phoindex'\n",
    "xerr_label=None#'log_f_err'\n",
    "yerr_label='phoindex_err'#'los_nh_err'#'zphabs_nh_err'\n",
    "color_label='log_Lx/Ledd'\n",
    "\n",
    "dataplot=mytorus_couple_result\n",
    "ax=plot_errorbar_cmap(ax,dataplot,xlabel,ylabel,xerr=xerr_label,yerr=yerr_label,color_n=color_label,marker_n='name',size_n=None,logx=False,logy=False)\n",
    "\n",
    "set_ax_tick(ax) \n",
    "#set_ax_locator(ax,xma=1000,xmi=500,yma=1,ymi=0.5)\n",
    "set_ax_legend(ax,bbox_to_anchor=(0.51, 0.99))   \n",
    "#ax.set_ylim(-7,17)\n",
    "#ax.semilogy()\n",
    "ax.set_xlabel(xlabel)\n",
    "ax.set_ylabel(ylabel)\n",
    "\n",
    "model_name='MYTC'\n",
    "#ax.set_title('%s model'%model_name)\n",
    "plt.title('%s model'%model_name)\n",
    "save_lc_img_path=os.path.join('/Users/lyubing/Downloads/','%s_cmap.png'%model_name) \n",
    "plt.savefig(save_lc_img_path,dpi=400, transparent=False, bbox_inches='tight')\n",
    "#plt.close() "
   ]
  },
  {
   "cell_type": "code",
   "execution_count": null,
   "metadata": {
    "ExecuteTime": {
     "end_time": "2023-01-29T08:19:28.284894Z",
     "start_time": "2023-01-29T08:19:28.276850Z"
    }
   },
   "outputs": [],
   "source": [
    "mytorus_couple_result.columns"
   ]
  },
  {
   "cell_type": "code",
   "execution_count": null,
   "metadata": {
    "ExecuteTime": {
     "end_time": "2023-01-29T08:20:27.339518Z",
     "start_time": "2023-01-29T08:20:27.187003Z"
    }
   },
   "outputs": [],
   "source": [
    "figure_n= 1\n",
    "fig = plt.figure(figsize=(6,figure_n*6))\n",
    "fig.subplots_adjust(hspace=0.0, wspace = 0.0)\n",
    "ax = fig.add_subplot(figure_n,1,1)\n",
    "\n",
    "xlabel='IncAng'\n",
    "ylabel='torus_nh(10^24)'\n",
    "xerr_label=None#'log_f_err'\n",
    "yerr_label='torus_nh_err'#'zphabs_nh_err'\n",
    "color_label='logLx'\n",
    "\n",
    "dataplot=mytorus_couple_result\n",
    "ax=plot_errorbar_cmap(ax,dataplot,xlabel,ylabel,xerr=xerr_label,yerr=yerr_label,color_n=color_label,marker_n='name',size_n=None,logx=False,logy=False)\n",
    "\n",
    "set_ax_tick(ax) \n",
    "#set_ax_locator(ax,xma=1000,xmi=500,yma=1,ymi=0.5)\n",
    "set_ax_legend(ax,bbox_to_anchor=(0.01, 0.99))   \n",
    "#ax.set_ylim(-7,17)\n",
    "#ax.semilogy()\n",
    "ax.set_xlabel(xlabel)\n",
    "ax.set_ylabel(ylabel)\n",
    "ax.set_title('MYTC')\n"
   ]
  },
  {
   "cell_type": "code",
   "execution_count": null,
   "metadata": {},
   "outputs": [],
   "source": []
  },
  {
   "cell_type": "code",
   "execution_count": null,
   "metadata": {
    "ExecuteTime": {
     "end_time": "2023-01-13T08:44:38.728055Z",
     "start_time": "2023-01-13T08:44:38.717684Z"
    }
   },
   "outputs": [],
   "source": [
    "(1-4*np.cos(np.pi*70/180)**2)*0.51*100"
   ]
  },
  {
   "cell_type": "code",
   "execution_count": null,
   "metadata": {
    "ExecuteTime": {
     "end_time": "2023-01-13T08:46:27.320569Z",
     "start_time": "2023-01-13T08:46:27.308698Z"
    }
   },
   "outputs": [],
   "source": [
    "(1-4*np.cos(np.pi*68/180)**2)*0.83*100"
   ]
  },
  {
   "cell_type": "code",
   "execution_count": null,
   "metadata": {},
   "outputs": [],
   "source": [
    "(1-4*np.cos(np.pi*70/180)**2)*0.63*100"
   ]
  },
  {
   "cell_type": "code",
   "execution_count": null,
   "metadata": {},
   "outputs": [],
   "source": []
  },
  {
   "cell_type": "code",
   "execution_count": null,
   "metadata": {
    "ExecuteTime": {
     "end_time": "2023-01-13T08:45:41.163657Z",
     "start_time": "2023-01-13T08:45:41.149677Z"
    }
   },
   "outputs": [],
   "source": [
    "(1-4*(np.cos(np.pi*70/180))**2)"
   ]
  },
  {
   "cell_type": "code",
   "execution_count": null,
   "metadata": {
    "ExecuteTime": {
     "end_time": "2023-01-13T08:43:06.153584Z",
     "start_time": "2023-01-13T08:43:06.125423Z"
    }
   },
   "outputs": [],
   "source": [
    "mytorus_couple_result"
   ]
  },
  {
   "cell_type": "code",
   "execution_count": null,
   "metadata": {
    "ExecuteTime": {
     "end_time": "2023-02-06T11:33:17.380159Z",
     "start_time": "2023-02-06T11:33:17.367040Z"
    }
   },
   "outputs": [],
   "source": [
    "mytorus_couple_result.columns"
   ]
  },
  {
   "cell_type": "code",
   "execution_count": null,
   "metadata": {
    "ExecuteTime": {
     "end_time": "2023-01-13T08:12:33.891727Z",
     "start_time": "2023-01-13T08:12:33.862994Z"
    }
   },
   "outputs": [],
   "source": [
    "mytorus_couple_result"
   ]
  },
  {
   "cell_type": "markdown",
   "metadata": {
    "ExecuteTime": {
     "end_time": "2023-02-06T11:33:11.328302Z",
     "start_time": "2023-02-06T11:33:11.264548Z"
    }
   },
   "source": [
    "mytorus_couple_result['los_nh(10^22)']=mytorus_couple_result['los_nh(10^24)']*100\n",
    "mytorus_couple_result['los_nh_err(10^22)']=mytorus_couple_result['los_nh_err']*100"
   ]
  },
  {
   "cell_type": "code",
   "execution_count": null,
   "metadata": {},
   "outputs": [],
   "source": []
  },
  {
   "cell_type": "code",
   "execution_count": null,
   "metadata": {},
   "outputs": [],
   "source": []
  },
  {
   "cell_type": "code",
   "execution_count": null,
   "metadata": {},
   "outputs": [],
   "source": []
  },
  {
   "cell_type": "markdown",
   "metadata": {},
   "source": [
    "### plot3para"
   ]
  },
  {
   "cell_type": "code",
   "execution_count": null,
   "metadata": {
    "ExecuteTime": {
     "end_time": "2023-02-19T08:33:12.408518Z",
     "start_time": "2023-02-19T08:33:11.870434Z"
    }
   },
   "outputs": [],
   "source": [
    "fig = plt.figure(figsize=(9,9))\n",
    "fig.subplots_adjust(hspace=0., wspace = 0.)\n",
    "ax = fig.add_subplot(2,2,1)\n",
    "xlabel='log_Lx/Ledd'\n",
    "ylabel='phoindex'\n",
    "xerr_label='log_f_err'\n",
    "yerr_label='phoindex_err'\n",
    "color_label='black'\n",
    "\n",
    "dataplot=mytorus_couple_result\n",
    "ax=plot_errorbar(ax,dataplot,xlabel,ylabel,xerr=xerr_label,yerr=yerr_label,color_n=color_label,marker_n='name',size_n=None,logx=False,logy=False)\n",
    "set_ax_tick(ax) \n",
    "set_ax_locator(ax,xma=1.0,xmi=0.2,yma=0.2,ymi=0.1)\n",
    "set_ax_legend(ax,bbox_to_anchor=(0.01, 0.99))   \n",
    "#ax.set_ylim(-7,17)\n",
    "#ax.set_xlabel(r'log($L_{\\rm X}/L_{\\rm Edd}$)')\n",
    "ax.set_ylabel(r'$\\Gamma$')\n",
    "model_name='MYTC'\n",
    "ax.set_title('%s'%model_name)\n",
    "\n",
    "\n",
    "'''\n",
    "ax2 = fig.add_subplot(2,2,2)\n",
    "xlabel='los_nh(10^22)'\n",
    "ylabel='phoindex'\n",
    "xerr_label= None#'los_nh_err(10^22)'#'log_f_err'\n",
    "yerr_label='phoindex_err'#'zphabs_nh_err'\n",
    "\n",
    "\n",
    "dataplot=mytorus_couple_result\n",
    "ax2=plot_errorbar(ax2,dataplot,xlabel,ylabel,xerr=xerr_label,yerr=yerr_label,color_n=color_label,marker_n='name',size_n=None,logx=False,logy=False)\n",
    "set_ax_tick(ax2) \n",
    "#set_ax_locator(ax,xma=1000,xmi=500,yma=1,ymi=0.5)\n",
    "#set_ax_legend(ax2,bbox_to_anchor=(0.51, 0.99))   \n",
    "#ax.set_ylim(-0.1,0.5)\n",
    "ax2.set_xlabel(r'$N_{\\rm H,los (10^{22} cm^{-2})}$')\n",
    "#ax2.set_ylabel(r'$\\Gamma$')\n",
    "#ax2.yaxis.set_major_formatter(ticker.NullFormatter())\n",
    "set_ax_locator(ax2,xma=25,xmi=5,yma=0.2,ymi=0.1)\n",
    "ax2.yaxis.set_tick_params(which='major', size=10, width=2, direction='in', top='on',labelsize=0)\n",
    "ax2.set_xlim(-10,99)'''\n",
    "\n",
    "ax3 = fig.add_subplot(2,2,3,sharex=ax)\n",
    "\n",
    "xlabel='log_Lx/Ledd'\n",
    "ylabel='los_nh(10^22)'\n",
    "xerr_label='log_f_err'\n",
    "yerr_label= None#'los_nh_err(10^22)'#'zphabs_nh_err'\n",
    "\n",
    "dataplot=mytorus_couple_result\n",
    "ax3=plot_errorbar(ax3,dataplot,xlabel,ylabel,xerr=xerr_label,yerr=yerr_label,color_n=color_label,marker_n='name',size_n=None,logx=False,logy=False)\n",
    "\n",
    "set_ax_tick(ax3) \n",
    "#set_ax_locator(ax,xma=1000,xmi=500,yma=1,ymi=0.5)\n",
    "#set_ax_legend(ax3,bbox_to_anchor=(0.51, 0.99))   \n",
    "#\n",
    "#ax.semilogy()\n",
    "ax3.set_xlabel(r'log($L_{\\rm 2-10keV}/L_{\\rm Edd}$)')\n",
    "ax3.set_ylabel(r'$N_{\\rm H,los (10^{22} cm^{-2})}$')\n",
    "#ax3.set_ylim(-10,99)\n",
    "ax3.set_ylim(-5,85)\n",
    "\n",
    "#ax2.xaxis.set_tick_params(which='major', size=10, width=2, direction='in', top='on',)\n",
    "#ax2.xaxis.set_tick_params(which='minor', size=5, width=2, direction='in', top='on')\n",
    "#ax2.yaxis.set_tick_params(which='major', size=10, width=2, direction='in', right='on')\n",
    "#ax2.yaxis.set_tick_params(which='minor', size=5, width=2, direction='in', right='on')\n",
    "\n",
    "\n",
    "#ax.set_title('%s model'%model_name)\n",
    "save_lc_img_path=os.path.join('/Users/lyubing/Downloads/OXCLAGN/OXCLAGN/pic/Gamma_L_nh_pic/','%s.pdf'%model_name) \n",
    "plt.savefig(save_lc_img_path,dpi=400, transparent=False, bbox_inches='tight')\n",
    "#plt.close()    "
   ]
  },
  {
   "cell_type": "code",
   "execution_count": null,
   "metadata": {},
   "outputs": [],
   "source": []
  },
  {
   "cell_type": "markdown",
   "metadata": {},
   "source": [
    "## mytorus_decouple"
   ]
  },
  {
   "cell_type": "code",
   "execution_count": null,
   "metadata": {
    "ExecuteTime": {
     "end_time": "2023-03-02T11:18:32.785601Z",
     "start_time": "2023-03-02T11:18:32.725592Z"
    }
   },
   "outputs": [],
   "source": [
    "mytorus_decouple_result=pd.read_excel('/Users/lyubing/Downloads/OXCLAGN/OXCLAGN.xlsx',sheet_name='mytorus_decouple')\n",
    "\n",
    "for i in range(len(mytorus_decouple_result)):\n",
    "    mytorus_decouple_result.loc[i,'logmass']= name_mass_dict[mytorus_decouple_result.loc[i,'name']]\n",
    "mytorus_decouple_result['logLedd']= np.log10(1.26e38)+mytorus_decouple_result['logmass']\n",
    "\n",
    "\n",
    "for i in range(len(mytorus_decouple_result)):\n",
    "    mytorus_decouple_result.loc[i,'redshift']= name_redshift_dict[mytorus_decouple_result.loc[i,'name']]\n",
    "    mytorus_decouple_result.loc[i,'D_cm']= cosmo.luminosity_distance(z=name_redshift_dict[mytorus_decouple_result.loc[i,'name']]).to(u.cm).value\n",
    "\n",
    "mytorus_decouple_result['logLx']=np.log10(4*np.pi)+np.log10(mytorus_decouple_result['D_cm'])*2.0+mytorus_decouple_result['log_f']\n",
    "mytorus_decouple_result['log_Lx/Ledd']=mytorus_decouple_result['logLx']-mytorus_decouple_result['logLedd']\n",
    "  \n",
    "    \n",
    "mytorus_decouple_result['los_nh(10^22)']=mytorus_decouple_result['los_nh(10^24)']*100\n",
    "mytorus_decouple_result['los_nh_err(10^22)']=mytorus_decouple_result['los_nh_err']*100\n",
    "\n",
    "mytorus_decouple_result['torus_nh(10^22)']=mytorus_decouple_result['torus_nh(10^24)']*100\n",
    "mytorus_decouple_result['torus_nh_err(10^22)']=mytorus_decouple_result['torus_nh_err']*100    \n"
   ]
  },
  {
   "cell_type": "code",
   "execution_count": null,
   "metadata": {
    "ExecuteTime": {
     "end_time": "2023-02-10T14:10:55.753103Z",
     "start_time": "2023-02-10T14:10:55.739118Z"
    }
   },
   "outputs": [],
   "source": [
    "mytorus_decouple_result.columns"
   ]
  },
  {
   "cell_type": "markdown",
   "metadata": {},
   "source": [
    "### MYTD_latex"
   ]
  },
  {
   "cell_type": "code",
   "execution_count": null,
   "metadata": {
    "ExecuteTime": {
     "end_time": "2023-02-14T02:53:08.352397Z",
     "start_time": "2023-02-14T02:53:08.326136Z"
    }
   },
   "outputs": [],
   "source": [
    "for index,name in enumerate(mytorus_decouple_result['name']):\n",
    "    print(name,'&',\n",
    "          '%s'%mytorus_decouple_result['obsid'][index],'&',\n",
    "          '%.1f'%mytorus_decouple_result['los_nh(10^22)'][index],'$\\pm$', '%.1f'%mytorus_decouple_result['los_nh_err(10^22)'][index],'&',\n",
    "  \n",
    "          '%.0f'%(mytorus_decouple_result['torus_nh(10^24)'][index]*100),'$\\pm$', '%.0f'%(mytorus_decouple_result['torus_nh_err'][index]*100),'&',\n",
    "          '%.2f'%mytorus_decouple_result['As'][index],'$\\pm$', '%.2f'%mytorus_decouple_result['As_err'][index],'&',\n",
    "       \n",
    "                       \n",
    "          '%.2f'%mytorus_decouple_result['phoindex'][index],'$\\pm$', '%.2f'%mytorus_decouple_result['phoindex_err'][index],'&',\n",
    "               \n",
    "          #'%.1f'%mytorus_decouple_result['highEcut'][index]+mytorus_decouple_highEcut_err_cmd,'&',\n",
    "          #'%.2f'%mytorus_decouple_result['zgaussLineE'][index],'$\\pm$', '%.2f'%mytorus_decouple_result['zgaussLineE_err'][index],'&',\n",
    "          #'%.2f'%mytorus_decouple_result['zgaussSigma'][index],'$\\pm$', '%.2f'%mytorus_decouple_result['zgaussSigma_err'][index],'&',\n",
    "          #'%.3f'%mytorus_decouple_result['rRratio'][index],'$\\pm$', '%.3f'%mytorus_decouple_result['rRratio_err'][index],'&',\n",
    "          \n",
    "          \n",
    "          '%.2f(%d/%d)'%(mytorus_decouple_result['rechi_2'][index],mytorus_decouple_result['chi_2'][index],mytorus_decouple_result['dof'][index]),'&',\n",
    "          '%.3f'%float(mytorus_decouple_result['log_Lx/Ledd'][index]),'$\\pm$','%.3f'%float(mytorus_decouple_result['log_f_err'][index]),#'&',\n",
    "          #'%.3f'%float(mytorus_decouple_result['log_Lx_10to50keV/Ledd'][index]),'$\\pm$','%.3f'%float(mytorus_decouple_result['log_f_err_10to50keV'][index]),\n",
    "          '\\\\\\\\',\n",
    "         )\n",
    "\n"
   ]
  },
  {
   "cell_type": "code",
   "execution_count": null,
   "metadata": {},
   "outputs": [],
   "source": []
  },
  {
   "cell_type": "code",
   "execution_count": null,
   "metadata": {
    "ExecuteTime": {
     "end_time": "2023-02-02T15:43:30.735286Z",
     "start_time": "2023-02-02T15:43:30.726961Z"
    }
   },
   "outputs": [],
   "source": [
    "mytorus_decouple_result.columns"
   ]
  },
  {
   "cell_type": "code",
   "execution_count": null,
   "metadata": {
    "ExecuteTime": {
     "end_time": "2023-02-01T12:52:02.282172Z",
     "start_time": "2023-02-01T12:52:00.980888Z"
    }
   },
   "outputs": [],
   "source": [
    "fig = plt.figure(figsize=(12,12))\n",
    "fig.subplots_adjust(hspace=0.3, wspace = 0.5)\n",
    "\n",
    "\n",
    "ax = fig.add_subplot(2,2,1)\n",
    "\n",
    "xlabel='log_Lx/Ledd'\n",
    "ylabel='phoindex'\n",
    "xerr_label='log_f_err'\n",
    "yerr_label='phoindex_err'\n",
    "color_label='los_nh(10^22)'\n",
    "#dataplot=slab_zgauss_result\n",
    "#ax=plot_errorbar_cmap(ax,dataplot,xlabel,ylabel,xerr=xerr_label,yerr=yerr_label,color_n=color_label,marker_n='name',size_n=None,logx=False,logy=False)\n",
    "dataplot=mytorus_decouple_result\n",
    "ax=plot_errorbar_cmap(ax,dataplot,xlabel,ylabel,xerr=xerr_label,yerr=yerr_label,color_n=color_label,marker_n='name',size_n=None,logx=False,logy=False)\n",
    "set_ax_tick(ax) \n",
    "#set_ax_locator(ax,xma=1000,xmi=500,yma=1,ymi=0.5)\n",
    "set_ax_legend(ax,bbox_to_anchor=(0.01, 0.99))   \n",
    "#ax.set_ylim(-7,17)\n",
    "ax.set_xlabel(xlabel)\n",
    "ax.set_ylabel(ylabel)\n",
    "ax.set_title('mytorus decouple model')\n",
    "\n",
    "\n",
    "ax = fig.add_subplot(2,2,2)\n",
    "\n",
    "xlabel='log_Lx/Ledd'\n",
    "ylabel='los_nh(10^22)'\n",
    "xerr_label='log_f_err'\n",
    "yerr_label='los_nh_err'#'zphabs_nh_err'\n",
    "color_label='phoindex'\n",
    "\n",
    "dataplot=mytorus_decouple_result\n",
    "ax=plot_errorbar_cmap(ax,dataplot,xlabel,ylabel,xerr=xerr_label,yerr=yerr_label,color_n=color_label,marker_n='name',size_n=None,logx=False,logy=False)\n",
    "\n",
    "set_ax_tick(ax) \n",
    "#set_ax_locator(ax,xma=1000,xmi=500,yma=1,ymi=0.5)\n",
    "set_ax_legend(ax,bbox_to_anchor=(0.51, 0.99))   \n",
    "#ax.set_ylim(-7,17)\n",
    "#ax.semilogy()\n",
    "ax.set_xlabel(xlabel)\n",
    "ax.set_ylabel(ylabel)\n",
    "\n",
    "\n",
    "ax = fig.add_subplot(2,2,3)\n",
    "\n",
    "xlabel='los_nh(10^22)'\n",
    "ylabel='phoindex'\n",
    "xerr_label='los_nh_err(10^22)'#'log_f_err'\n",
    "yerr_label='phoindex_err'#'zphabs_nh_err'\n",
    "color_label='log_Lx/Ledd'\n",
    "\n",
    "dataplot=mytorus_decouple_result\n",
    "ax=plot_errorbar_cmap(ax,dataplot,xlabel,ylabel,xerr=xerr_label,yerr=yerr_label,color_n=color_label,marker_n='name',size_n=None,logx=False,logy=False)\n",
    "\n",
    "set_ax_tick(ax) \n",
    "#set_ax_locator(ax,xma=1000,xmi=500,yma=1,ymi=0.5)\n",
    "set_ax_legend(ax,bbox_to_anchor=(0.51, 0.99))   \n",
    "#ax.set_ylim(-7,17)\n",
    "#ax.semilogy()\n",
    "ax.set_xlabel(xlabel)\n",
    "ax.set_ylabel(ylabel)\n",
    "\n",
    "model_name='MYTD'\n",
    "#ax.set_title('%s model'%model_name)\n",
    "plt.title('%s model'%model_name)\n",
    "save_lc_img_path=os.path.join('/Users/lyubing/Downloads/','%s_cmap.png'%model_name) \n",
    "plt.savefig(save_lc_img_path,dpi=400, transparent=False, bbox_inches='tight')\n",
    "#plt.close() "
   ]
  },
  {
   "cell_type": "code",
   "execution_count": null,
   "metadata": {
    "ExecuteTime": {
     "end_time": "2023-01-29T08:18:16.079823Z",
     "start_time": "2023-01-29T08:18:16.066855Z"
    }
   },
   "outputs": [],
   "source": [
    "mytorus_decouple_result.columns"
   ]
  },
  {
   "cell_type": "markdown",
   "metadata": {
    "ExecuteTime": {
     "end_time": "2023-01-29T08:18:44.046399Z",
     "start_time": "2023-01-29T08:18:43.878475Z"
    }
   },
   "source": []
  },
  {
   "cell_type": "markdown",
   "metadata": {},
   "source": [
    "### plot3para"
   ]
  },
  {
   "cell_type": "code",
   "execution_count": null,
   "metadata": {
    "ExecuteTime": {
     "end_time": "2023-02-19T08:33:23.217192Z",
     "start_time": "2023-02-19T08:33:22.692677Z"
    }
   },
   "outputs": [],
   "source": [
    "fig = plt.figure(figsize=(9,9))\n",
    "fig.subplots_adjust(hspace=0., wspace = 0.)\n",
    "ax = fig.add_subplot(2,2,1)\n",
    "xlabel='log_Lx/Ledd'\n",
    "ylabel='phoindex'\n",
    "xerr_label='log_f_err'\n",
    "yerr_label='phoindex_err'\n",
    "color_label='grey'\n",
    "\n",
    "dataplot=mytorus_decouple_result\n",
    "ax=plot_errorbar(ax,dataplot,xlabel,ylabel,xerr=xerr_label,yerr=yerr_label,color_n=color_label,marker_n='name',size_n=None,logx=False,logy=False,blank_plot=True)\n",
    "set_ax_tick(ax) \n",
    "set_ax_locator(ax,xma=1.0,xmi=0.2,yma=0.2,ymi=0.1)\n",
    "set_ax_legend(ax,bbox_to_anchor=(0.01, 0.99))   \n",
    "#ax.set_ylim(-7,17)\n",
    "#ax.set_xlabel(r'log($L_{\\rm X}/L_{\\rm Edd}$)')\n",
    "ax.set_ylabel(r'$\\Gamma$')\n",
    "model_name='MYTD'\n",
    "ax.set_title('%s'%model_name)\n",
    "\n",
    "\n",
    "'''ax2 = fig.add_subplot(2,2,2)\n",
    "xlabel='los_nh(10^22)'\n",
    "ylabel='phoindex'\n",
    "xerr_label='los_nh_err(10^22)'#'log_f_err'\n",
    "yerr_label='phoindex_err'#'zphabs_nh_err'\n",
    "\n",
    "\n",
    "dataplot=mytorus_decouple_result\n",
    "ax2=plot_errorbar(ax2,dataplot,xlabel,ylabel,xerr=xerr_label,yerr=yerr_label,color_n=color_label,marker_n='name',size_n=None,logx=False,logy=False,blank_plot=True)\n",
    "set_ax_tick(ax2) \n",
    "#set_ax_locator(ax,xma=1000,xmi=500,yma=1,ymi=0.5)\n",
    "#set_ax_legend(ax2,bbox_to_anchor=(0.51, 0.99))   \n",
    "#ax.set_ylim(-0.1,0.5)\n",
    "ax2.set_xlabel(r'$N_{\\rm H,los (10^{22} cm^{-2})}$')\n",
    "#ax2.set_ylabel(r'$\\Gamma$')\n",
    "#ax2.yaxis.set_major_formatter(ticker.NullFormatter())\n",
    "set_ax_locator(ax2,xma=25,xmi=5,yma=0.2,ymi=0.1)\n",
    "ax2.yaxis.set_tick_params(which='major', size=10, width=2, direction='in', top='on',labelsize=0)\n",
    "'''\n",
    "\n",
    "ax3 = fig.add_subplot(2,2,3,sharex=ax)\n",
    "\n",
    "xlabel='log_Lx/Ledd'\n",
    "ylabel='los_nh(10^22)'\n",
    "xerr_label='log_f_err'\n",
    "yerr_label='los_nh_err(10^22)'#'zphabs_nh_err'\n",
    "\n",
    "dataplot=mytorus_decouple_result\n",
    "ax3=plot_errorbar(ax3,dataplot,xlabel,ylabel,xerr=xerr_label,yerr=yerr_label,color_n=color_label,marker_n='name',size_n=None,logx=False,logy=False,blank_plot=True)\n",
    "\n",
    "set_ax_tick(ax3) \n",
    "#set_ax_locator(ax,xma=1000,xmi=500,yma=1,ymi=0.5)\n",
    "#set_ax_legend(ax3,bbox_to_anchor=(0.51, 0.99))   \n",
    "#\n",
    "#ax.semilogy()\n",
    "ax3.set_xlabel(r'log($L_{\\rm 2-10keV}/L_{\\rm Edd}$)')\n",
    "ax3.set_ylabel(r'$N_{\\rm H,los (10^{22} cm^{-2})}$')\n",
    "#ax3.set_ylim(0.1,99)\n",
    "ax3.set_ylim(-5,85)\n",
    "\n",
    "#ax2.xaxis.set_tick_params(which='major', size=10, width=2, direction='in', top='on',)\n",
    "#ax2.xaxis.set_tick_params(which='minor', size=5, width=2, direction='in', top='on')\n",
    "#ax2.yaxis.set_tick_params(which='major', size=10, width=2, direction='in', right='on')\n",
    "#ax2.yaxis.set_tick_params(which='minor', size=5, width=2, direction='in', right='on')\n",
    "\n",
    "\n",
    "#ax.set_title('%s model'%model_name)\n",
    "save_lc_img_path=os.path.join('/Users/lyubing/Downloads/OXCLAGN/OXCLAGN/pic/Gamma_L_nh_pic/','%s.pdf'%model_name) \n",
    "plt.savefig(save_lc_img_path,dpi=400, transparent=False, bbox_inches='tight')\n",
    "#plt.close()    "
   ]
  },
  {
   "cell_type": "code",
   "execution_count": null,
   "metadata": {},
   "outputs": [],
   "source": []
  },
  {
   "cell_type": "code",
   "execution_count": null,
   "metadata": {},
   "outputs": [],
   "source": []
  },
  {
   "cell_type": "code",
   "execution_count": null,
   "metadata": {},
   "outputs": [],
   "source": []
  },
  {
   "cell_type": "markdown",
   "metadata": {},
   "source": [
    "# NGC1566"
   ]
  },
  {
   "cell_type": "code",
   "execution_count": null,
   "metadata": {
    "ExecuteTime": {
     "end_time": "2023-03-07T10:47:26.689998Z",
     "start_time": "2023-03-07T10:47:26.656315Z"
    }
   },
   "outputs": [],
   "source": [
    "data_NGC1566=pd.read_excel('/Users/lyubing/Downloads/OXCLAGN/NGC1566.xlsx',sheet_name='Sheet1')"
   ]
  },
  {
   "cell_type": "code",
   "execution_count": null,
   "metadata": {
    "ExecuteTime": {
     "end_time": "2023-03-07T10:47:30.014973Z",
     "start_time": "2023-03-07T10:47:29.983840Z"
    }
   },
   "outputs": [],
   "source": [
    "data_NGC1566"
   ]
  },
  {
   "cell_type": "code",
   "execution_count": null,
   "metadata": {
    "ExecuteTime": {
     "end_time": "2023-03-07T10:52:36.038594Z",
     "start_time": "2023-03-07T10:52:36.020185Z"
    }
   },
   "outputs": [],
   "source": [
    "for index,(i,j,k) in enumerate(zip(data_NGC1566['ledd'],data_NGC1566['Gamma'],data_NGC1566['NH1'])):\n",
    "    #print(index,i,j)\n",
    "    ledd_i= float(i.split('\\pm')[0])\n",
    "    gamma_i=float(j.split('^')[0].split('$')[1])\n",
    "    nh_i= float(k.split('^')[0].split('$')[1])    \n",
    "    \n",
    "    data_NGC1566.loc[index,'ledd_']=ledd_i\n",
    "    data_NGC1566.loc[index,'gamma_']=gamma_i\n",
    "    data_NGC1566.loc[index,'nh1_']=nh_i\n",
    "    \n",
    "    print(index,ledd_i,gamma_i,nh_i)"
   ]
  },
  {
   "cell_type": "code",
   "execution_count": null,
   "metadata": {
    "ExecuteTime": {
     "end_time": "2023-03-07T10:52:42.807829Z",
     "start_time": "2023-03-07T10:52:42.783974Z"
    }
   },
   "outputs": [],
   "source": [
    "data_NGC1566"
   ]
  },
  {
   "cell_type": "code",
   "execution_count": null,
   "metadata": {
    "ExecuteTime": {
     "end_time": "2023-03-07T10:59:10.450075Z",
     "start_time": "2023-03-07T10:59:10.441360Z"
    }
   },
   "outputs": [],
   "source": [
    "data_NGC1566['name']='NGC1566'#.columns\n",
    "\n",
    "data_NGC1566['logledd_']=np.log10(data_NGC1566['ledd_'])"
   ]
  },
  {
   "cell_type": "code",
   "execution_count": null,
   "metadata": {
    "ExecuteTime": {
     "end_time": "2023-03-07T10:59:11.845231Z",
     "start_time": "2023-03-07T10:59:11.835941Z"
    }
   },
   "outputs": [],
   "source": [
    "data_NGC1566['logledd_']"
   ]
  },
  {
   "cell_type": "code",
   "execution_count": null,
   "metadata": {},
   "outputs": [],
   "source": []
  },
  {
   "cell_type": "code",
   "execution_count": null,
   "metadata": {
    "ExecuteTime": {
     "end_time": "2023-03-07T11:03:02.601588Z",
     "start_time": "2023-03-07T11:03:01.866709Z"
    },
    "scrolled": false
   },
   "outputs": [],
   "source": [
    "fig = plt.figure(figsize=(9,9))\n",
    "fig.subplots_adjust(hspace=0., wspace = 0.)\n",
    "ax = fig.add_subplot(2,2,1)\n",
    "\n",
    "\n",
    "\n",
    "xlabel='logledd_'\n",
    "ylabel='gamma_'\n",
    "xerr_label= None#'log_f_err'\n",
    "yerr_label= None#'phoindex_err'\n",
    "color_label='black'\n",
    "\n",
    "dataplot=data_NGC1566\n",
    "ax=plot_errorbar(ax,dataplot,xlabel,ylabel,xerr=xerr_label,yerr=yerr_label,color_n=color_label,marker_n='name',size_n=None,logx=False,logy=False)\n",
    "set_ax_tick(ax) \n",
    "set_ax_locator(ax,xma=0.5,xmi=0.1,yma=0.1,ymi=0.05)\n",
    "#set_ax_legend(ax,bbox_to_anchor=(0.01, 0.99))   \n",
    "#ax.set_ylim(-7,17)\n",
    "#ax.set_xlabel(r'log($L_{\\rm X}/L_{\\rm Edd}$)')\n",
    "ax.set_ylabel(r'$\\Gamma$')\n",
    "model_name='NGC1566'\n",
    "#ax.set_title('%s'%model_name)\n",
    "set_ax_legend(ax,bbox_to_anchor=(0.01, 0.99))   \n",
    "\n",
    "\n",
    "'''ax2 = fig.add_subplot(2,2,2,sharey=ax)\n",
    "xlabel='zphabs_nh(10^22)'\n",
    "ylabel='phoindex'\n",
    "xerr_label=None #'zphabs_nh_err'\n",
    "yerr_label='phoindex_err'\n",
    "\n",
    "dataplot=borus_result\n",
    "ax2=plot_errorbar(ax2,dataplot,xlabel,ylabel,xerr=xerr_label,yerr=yerr_label,color_n=color_label,marker_n='name',size_n=None,logx=False,logy=False)\n",
    "set_ax_tick(ax2) \n",
    "#set_ax_locator(ax,xma=1000,xmi=500,yma=1,ymi=0.5)\n",
    "#set_ax_legend(ax2,bbox_to_anchor=(0.01, 0.99))   \n",
    "#ax.set_ylim(-0.1,0.5)\n",
    "ax2.set_xlabel(r'$N_{\\rm H,los (10^{22} cm^{-2})}$')\n",
    "#ax2.set_ylabel(r'$\\Gamma$')\n",
    "#ax2.yaxis.set_major_formatter(ticker.NullFormatter())\n",
    "set_ax_locator(ax2,xma=25,xmi=5,yma=0.2,ymi=0.1)\n",
    "ax2.yaxis.set_tick_params(which='major', size=10, width=2, direction='in', top='on',labelsize=0)\n",
    "'''\n",
    "\n",
    "ax3 = fig.add_subplot(2,2,3,sharex=ax)\n",
    "\n",
    "xlabel='logledd_'\n",
    "ylabel='nh1_'\n",
    "xerr_label= None#'log_f_err'\n",
    "yerr_label=None#'zphabs_nh_err'\n",
    "\n",
    "\n",
    "dataplot=data_NGC1566\n",
    "ax3=plot_errorbar(ax3,dataplot,xlabel,ylabel,xerr=xerr_label,yerr=yerr_label,color_n=color_label,marker_n='name',size_n=None,logx=False,logy=False)\n",
    "\n",
    "set_ax_tick(ax3) \n",
    "#set_ax_locator(ax,xma=1000,xmi=500,yma=1,ymi=0.5)\n",
    "#set_ax_legend(ax3,bbox_to_anchor=(0.51, 0.99))   \n",
    "#ax.set_ylim(-7,17)\n",
    "#ax.semilogy()\n",
    "ax3.set_xlabel(r'log($L_{\\rm bol}/L_{\\rm Edd}$)')\n",
    "ax3.set_ylabel(r'$N_{\\rm H,los (10^{21} cm^{-2})}$')\n",
    "#ax3.set_ylim(-5,85)\n",
    "\n",
    "\n",
    "#ax2.xaxis.set_tick_params(which='major', size=10, width=2, direction='in', top='on',)\n",
    "#ax2.xaxis.set_tick_params(which='minor', size=5, width=2, direction='in', top='on')\n",
    "#ax2.yaxis.set_tick_params(which='major', size=10, width=2, direction='in', right='on')\n",
    "#ax2.yaxis.set_tick_params(which='minor', size=5, width=2, direction='in', right='on')\n",
    "\n",
    "#ax.set_title('%s model'%model_name)\n",
    "save_lc_img_path=os.path.join('/Users/lyubing/Downloads/OXCLAGN/','%s.pdf'%model_name) \n",
    "plt.savefig(save_lc_img_path,dpi=400, transparent=False, bbox_inches='tight')\n",
    "#plt.close()    "
   ]
  },
  {
   "cell_type": "code",
   "execution_count": null,
   "metadata": {},
   "outputs": [],
   "source": []
  },
  {
   "cell_type": "code",
   "execution_count": null,
   "metadata": {},
   "outputs": [],
   "source": []
  },
  {
   "cell_type": "code",
   "execution_count": null,
   "metadata": {},
   "outputs": [],
   "source": []
  },
  {
   "cell_type": "markdown",
   "metadata": {},
   "source": [
    "# NGC 4507"
   ]
  },
  {
   "cell_type": "code",
   "execution_count": null,
   "metadata": {
    "ExecuteTime": {
     "end_time": "2022-05-20T12:01:41.368276Z",
     "start_time": "2022-05-20T12:01:41.320066Z"
    }
   },
   "outputs": [],
   "source": [
    "object_name = 'NGC 4507'\n",
    "print(object_name)\n",
    "table = heasarc.query_object(object_name, mission=mission,radius='10 arcmin')\n",
    "#table[:3].pprint()"
   ]
  },
  {
   "cell_type": "code",
   "execution_count": null,
   "metadata": {
    "ExecuteTime": {
     "end_time": "2022-05-20T12:02:48.255114Z",
     "start_time": "2022-05-20T12:02:48.247613Z"
    }
   },
   "outputs": [],
   "source": [
    "table.colnames"
   ]
  },
  {
   "cell_type": "code",
   "execution_count": null,
   "metadata": {
    "ExecuteTime": {
     "end_time": "2022-05-20T12:03:08.893634Z",
     "start_time": "2022-05-20T12:03:08.874748Z"
    }
   },
   "outputs": [],
   "source": [
    "table[['NAME',\n",
    " 'RA',\n",
    " 'DEC',\n",
    " 'TIME',\n",
    " 'OBSID',\n",
    " 'STATUS',\n",
    " 'EXPOSURE_A',]][:4]"
   ]
  },
  {
   "cell_type": "code",
   "execution_count": null,
   "metadata": {},
   "outputs": [],
   "source": [
    "NGC_4507\t188.8799\t-39.9369\t57183.8029\t60102051004\tARCHIVED\t34464\n",
    "NGC_4507\t188.8692\t-39.9115\t57218.3341\t60102051006\tARCHIVED\t32225\n",
    "NGC_4507\t188.8652\t-39.9166\t57256.4140\t60102051008\tARCHIVED\t30924\n",
    "NGC_4507\t188.8975\t-39.9441\t57145.8445\t60102051002\tARCHIVED\t30133\n"
   ]
  },
  {
   "cell_type": "markdown",
   "metadata": {
    "ExecuteTime": {
     "end_time": "2022-05-20T12:01:51.910267Z",
     "start_time": "2022-05-20T12:01:51.906671Z"
    }
   },
   "source": [
    "ignore **-3.0 60.0-**"
   ]
  },
  {
   "cell_type": "markdown",
   "metadata": {},
   "source": [
    "## Slab"
   ]
  },
  {
   "cell_type": "code",
   "execution_count": null,
   "metadata": {
    "ExecuteTime": {
     "end_time": "2022-05-20T06:37:33.518381Z",
     "start_time": "2022-05-20T06:37:33.511676Z"
    }
   },
   "outputs": [],
   "source": [
    "505/471"
   ]
  },
  {
   "cell_type": "code",
   "execution_count": null,
   "metadata": {
    "ExecuteTime": {
     "end_time": "2022-05-20T06:14:19.223011Z",
     "start_time": "2022-05-20T06:14:19.215679Z"
    }
   },
   "outputs": [],
   "source": [
    "632/590"
   ]
  },
  {
   "cell_type": "markdown",
   "metadata": {},
   "source": [
    "## mytorus coupled"
   ]
  },
  {
   "cell_type": "code",
   "execution_count": null,
   "metadata": {
    "ExecuteTime": {
     "end_time": "2022-05-20T13:40:39.329273Z",
     "start_time": "2022-05-20T13:40:39.322844Z"
    }
   },
   "outputs": [],
   "source": [
    "517.20/479"
   ]
  },
  {
   "cell_type": "code",
   "execution_count": null,
   "metadata": {
    "ExecuteTime": {
     "end_time": "2022-05-20T13:46:29.536867Z",
     "start_time": "2022-05-20T13:46:29.532728Z"
    }
   },
   "outputs": [],
   "source": [
    "import math\n",
    "import numpy as np"
   ]
  },
  {
   "cell_type": "code",
   "execution_count": null,
   "metadata": {
    "ExecuteTime": {
     "end_time": "2022-05-20T13:46:29.971840Z",
     "start_time": "2022-05-20T13:46:29.965447Z"
    }
   },
   "outputs": [],
   "source": [
    "math.cos(60*np.pi/180)"
   ]
  },
  {
   "cell_type": "code",
   "execution_count": null,
   "metadata": {
    "ExecuteTime": {
     "end_time": "2022-05-20T14:53:08.380869Z",
     "start_time": "2022-05-20T14:53:08.373190Z"
    }
   },
   "outputs": [],
   "source": [
    "2.55e24*(1-math.cos(61.5*np.pi/180))**0.5"
   ]
  },
  {
   "cell_type": "code",
   "execution_count": null,
   "metadata": {
    "ExecuteTime": {
     "end_time": "2022-05-20T14:56:11.854901Z",
     "start_time": "2022-05-20T14:56:11.846981Z"
    }
   },
   "outputs": [],
   "source": [
    "2.55e24*(1-4.0*math.cos(61.5*np.pi/180)**2)**0.5"
   ]
  },
  {
   "cell_type": "code",
   "execution_count": null,
   "metadata": {
    "ExecuteTime": {
     "end_time": "2022-05-20T14:55:19.234253Z",
     "start_time": "2022-05-20T14:55:19.227734Z"
    }
   },
   "outputs": [],
   "source": [
    "(7.5/23)**2"
   ]
  },
  {
   "cell_type": "markdown",
   "metadata": {},
   "source": [
    "## mytorus coupled"
   ]
  },
  {
   "cell_type": "code",
   "execution_count": null,
   "metadata": {
    "ExecuteTime": {
     "end_time": "2022-05-20T15:18:42.820374Z",
     "start_time": "2022-05-20T15:18:42.813566Z"
    }
   },
   "outputs": [],
   "source": [
    "510/471  "
   ]
  },
  {
   "cell_type": "code",
   "execution_count": null,
   "metadata": {},
   "outputs": [],
   "source": []
  },
  {
   "cell_type": "markdown",
   "metadata": {},
   "source": [
    "## borus02"
   ]
  },
  {
   "cell_type": "code",
   "execution_count": null,
   "metadata": {
    "ExecuteTime": {
     "end_time": "2022-05-21T14:28:47.018442Z",
     "start_time": "2022-05-21T14:28:47.011868Z"
    }
   },
   "outputs": [],
   "source": [
    "510/471"
   ]
  },
  {
   "cell_type": "code",
   "execution_count": null,
   "metadata": {
    "ExecuteTime": {
     "end_time": "2022-05-21T08:55:34.978153Z",
     "start_time": "2022-05-21T08:55:34.971840Z"
    }
   },
   "outputs": [],
   "source": [
    "10**24.2857"
   ]
  },
  {
   "cell_type": "code",
   "execution_count": null,
   "metadata": {},
   "outputs": [],
   "source": []
  },
  {
   "cell_type": "markdown",
   "metadata": {},
   "source": [
    "## XCLUMPY"
   ]
  },
  {
   "cell_type": "code",
   "execution_count": null,
   "metadata": {
    "ExecuteTime": {
     "end_time": "2022-05-21T15:42:59.744105Z",
     "start_time": "2022-05-21T15:42:59.737999Z"
    }
   },
   "outputs": [],
   "source": [
    "513.03/471"
   ]
  },
  {
   "cell_type": "code",
   "execution_count": null,
   "metadata": {
    "ExecuteTime": {
     "end_time": "2022-05-22T08:31:21.921460Z",
     "start_time": "2022-05-22T08:31:21.915361Z"
    }
   },
   "outputs": [],
   "source": [
    "print(513 /471 ,\n",
    "460/471,\n",
    "467/471,\n",
    "421/460,\n",
    "1863/1851,)"
   ]
  },
  {
   "cell_type": "code",
   "execution_count": null,
   "metadata": {
    "ExecuteTime": {
     "end_time": "2022-05-22T16:02:22.498242Z",
     "start_time": "2022-05-22T16:02:22.488360Z"
    },
    "scrolled": true
   },
   "outputs": [],
   "source": [
    "np.sin((np.log(4.8))**0.5*25*np.pi/180),np.sin((np.log(4.8))**0.5*35*np.pi/180),np.sin((np.log(4.8))**0.5*15*np.pi/180)"
   ]
  },
  {
   "cell_type": "code",
   "execution_count": null,
   "metadata": {
    "ExecuteTime": {
     "end_time": "2022-05-22T16:02:56.461740Z",
     "start_time": "2022-05-22T16:02:56.454930Z"
    }
   },
   "outputs": [],
   "source": [
    "0.5196846295418784- 0.6925907316366977, 0.32204527560002-0.5196846295418784"
   ]
  },
  {
   "cell_type": "code",
   "execution_count": null,
   "metadata": {},
   "outputs": [],
   "source": []
  },
  {
   "cell_type": "code",
   "execution_count": null,
   "metadata": {
    "ExecuteTime": {
     "end_time": "2022-12-29T13:07:32.093525Z",
     "start_time": "2022-12-29T13:07:32.090482Z"
    }
   },
   "outputs": [],
   "source": [
    "import numpy as np\n",
    "\n",
    "np.arccos(0.9)*180/np.pi"
   ]
  },
  {
   "cell_type": "code",
   "execution_count": null,
   "metadata": {},
   "outputs": [],
   "source": []
  },
  {
   "cell_type": "code",
   "execution_count": null,
   "metadata": {},
   "outputs": [],
   "source": []
  },
  {
   "cell_type": "code",
   "execution_count": null,
   "metadata": {
    "ExecuteTime": {
     "end_time": "2022-05-23T01:20:58.008571Z",
     "start_time": "2022-05-23T01:20:57.998556Z"
    }
   },
   "outputs": [],
   "source": [
    "np.sin((np.log(4.8*100))**0.5*25*np.pi/180),np.sin((np.log(4.8*100))**0.5*35*np.pi/180),np.sin((np.log(4.8*100))**0.5*15*np.pi/180)"
   ]
  },
  {
   "cell_type": "code",
   "execution_count": null,
   "metadata": {
    "ExecuteTime": {
     "end_time": "2022-05-23T01:21:13.668464Z",
     "start_time": "2022-05-23T01:21:13.661554Z"
    }
   },
   "outputs": [],
   "source": [
    "0.8839106456902899- 0.9985972547009088, 0.8839106456902899-0.6055809334506469"
   ]
  },
  {
   "cell_type": "code",
   "execution_count": null,
   "metadata": {
    "ExecuteTime": {
     "end_time": "2022-05-22T15:59:57.789428Z",
     "start_time": "2022-05-22T15:59:57.782344Z"
    }
   },
   "outputs": [],
   "source": [
    "np.sin(30*np.pi/180)"
   ]
  },
  {
   "cell_type": "markdown",
   "metadata": {},
   "source": [
    "## RXTORUS"
   ]
  },
  {
   "cell_type": "code",
   "execution_count": null,
   "metadata": {
    "ExecuteTime": {
     "end_time": "2022-05-21T16:17:13.035988Z",
     "start_time": "2022-05-21T16:17:13.029441Z"
    }
   },
   "outputs": [],
   "source": [
    "514.88/471 "
   ]
  },
  {
   "cell_type": "code",
   "execution_count": null,
   "metadata": {},
   "outputs": [],
   "source": []
  },
  {
   "cell_type": "code",
   "execution_count": null,
   "metadata": {},
   "outputs": [],
   "source": []
  },
  {
   "cell_type": "code",
   "execution_count": null,
   "metadata": {},
   "outputs": [],
   "source": []
  },
  {
   "cell_type": "markdown",
   "metadata": {},
   "source": [
    "# turn off AGN"
   ]
  },
  {
   "cell_type": "code",
   "execution_count": null,
   "metadata": {
    "ExecuteTime": {
     "end_time": "2022-05-26T11:56:43.739214Z",
     "start_time": "2022-05-26T11:56:43.728900Z"
    }
   },
   "outputs": [],
   "source": [
    "import pandas as pd\n",
    "import numpy as np\n",
    "\n",
    "turnoffCLAGN=pd.read_csv(\"/home/brettlv/Downloads/arxiv_source_code/A Systematic Analysis of Stellar Populations in the Host Galaxies of Changing-look AGNs2112.07284/turning_off_CLAGN\",header=None,sep='&')"
   ]
  },
  {
   "cell_type": "code",
   "execution_count": null,
   "metadata": {
    "ExecuteTime": {
     "end_time": "2022-05-26T11:56:45.138058Z",
     "start_time": "2022-05-26T11:56:45.130370Z"
    }
   },
   "outputs": [],
   "source": [
    "turnoffCLAGN.columns\n"
   ]
  },
  {
   "cell_type": "code",
   "execution_count": null,
   "metadata": {
    "ExecuteTime": {
     "end_time": "2022-05-26T12:01:46.213606Z",
     "start_time": "2022-05-26T12:01:46.175066Z"
    }
   },
   "outputs": [],
   "source": [
    "turnoffCLAGN[turnoffCLAGN.columns[-7:]]\n"
   ]
  },
  {
   "cell_type": "code",
   "execution_count": null,
   "metadata": {
    "ExecuteTime": {
     "end_time": "2022-05-26T11:56:48.030158Z",
     "start_time": "2022-05-26T11:56:47.992204Z"
    }
   },
   "outputs": [],
   "source": [
    "for index,(i,j) in enumerate(zip(turnoffCLAGN[turnoffCLAGN.columns[11]],turnoffCLAGN[turnoffCLAGN.columns[12]])):\n",
    "    if i!='  -- ':\n",
    "        mass_string=i.split('$')[1]\n",
    "        #print(mass_string)\n",
    "        mass=float(mass_string.split('^')[0])\n",
    "        mass_upper=float(mass_string.split('^{+')[1].split('}_{-')[0])\n",
    "        mass_lower=float(mass_string.split('_{-')[1].split('}')[0])\n",
    "        time=float(j)\n",
    "        \n",
    "        #print(mass,mass_lower,mass_upper,time)\n",
    "        \n",
    "    else:\n",
    "        mass=0\n",
    "        mass_lower=0\n",
    "        mass_upper=0\n",
    "        time=float(j)\n",
    "        \n",
    "    turnoffCLAGN.loc[index,'mass',]=mass\n",
    "    turnoffCLAGN.loc[index,'mass_upper']=mass_upper\n",
    "    turnoffCLAGN.loc[index,'mass_lower']=mass_lower\n",
    "    turnoffCLAGN.loc[index,'time']=time"
   ]
  },
  {
   "cell_type": "code",
   "execution_count": null,
   "metadata": {
    "ExecuteTime": {
     "end_time": "2022-05-26T11:56:49.630637Z",
     "start_time": "2022-05-26T11:56:49.623860Z"
    }
   },
   "outputs": [],
   "source": [
    "turnoffCLAGN.columns"
   ]
  },
  {
   "cell_type": "code",
   "execution_count": null,
   "metadata": {
    "ExecuteTime": {
     "end_time": "2022-05-26T11:47:18.098387Z",
     "start_time": "2022-05-26T11:47:18.091199Z"
    }
   },
   "outputs": [],
   "source": [
    "pwd"
   ]
  },
  {
   "cell_type": "code",
   "execution_count": null,
   "metadata": {
    "ExecuteTime": {
     "end_time": "2022-05-26T11:58:33.283249Z",
     "start_time": "2022-05-26T11:58:33.275844Z"
    }
   },
   "outputs": [],
   "source": [
    "turnoffCLAGN_massgt0=turnoffCLAGN[turnoffCLAGN['mass']>0]\n",
    "turnoffCLAGN_massgt0=drop_index(turnoffCLAGN_massgt0)"
   ]
  },
  {
   "cell_type": "code",
   "execution_count": null,
   "metadata": {
    "ExecuteTime": {
     "end_time": "2022-05-26T11:58:33.903501Z",
     "start_time": "2022-05-26T11:58:33.894581Z"
    }
   },
   "outputs": [],
   "source": [
    "spearmanr(turnoffCLAGN_massgt0['mass'],turnoffCLAGN_massgt0['time'])"
   ]
  },
  {
   "cell_type": "code",
   "execution_count": null,
   "metadata": {},
   "outputs": [],
   "source": []
  },
  {
   "cell_type": "markdown",
   "metadata": {},
   "source": [
    "## plot M time"
   ]
  },
  {
   "cell_type": "code",
   "execution_count": null,
   "metadata": {
    "ExecuteTime": {
     "end_time": "2022-05-26T12:04:10.809648Z",
     "start_time": "2022-05-26T12:04:10.285551Z"
    }
   },
   "outputs": [],
   "source": [
    "#save_lc_img_dir=os.getcwd()\n",
    "save_lc_img_dir='/home/brettlv/Downloads/arxiv_source_code/A Systematic Analysis of Stellar Populations in the Host Galaxies of Changing-look AGNs2112.07284'\n",
    "if not os.path.exists(save_lc_img_dir):\n",
    "    os.mkdir(save_lc_img_dir)\n",
    "    \n",
    "#search_name=name_test.replace(' ','') \n",
    "#save_name=search_name.strip()\n",
    "save_lc_img_path=os.path.join(save_lc_img_dir,'time_Mbh.png')  \n",
    "    \n",
    "\n",
    "#for index,name_test in enumerate(namelist) :\n",
    "    #print(name_test)\n",
    "fig = plt.figure(figsize=(8,6))\n",
    "fig.subplots_adjust(hspace=0.0, wspace = 0.0)\n",
    "ax = fig.add_subplot(111) \n",
    "\n",
    "      \n",
    "ax.errorbar(x=turnoffCLAGN['mass'],\n",
    "                    y=turnoffCLAGN['time'],\n",
    "                    xerr=[turnoffCLAGN['mass_upper'],turnoffCLAGN['mass_lower']],\n",
    "                    fmt='.',\n",
    "                    color='black',label='turning-off CLAGN')\n",
    "        \n",
    "ax.xaxis.set_tick_params(which='major', size=10, width=2, direction='in', top='on',)\n",
    "ax.xaxis.set_tick_params(which='minor', size=5, width=2, direction='in', top='on')\n",
    "ax.yaxis.set_tick_params(which='major', size=10, width=2, direction='in', )\n",
    "ax.yaxis.set_tick_params(which='minor', size=5, width=2, direction='in',)\n",
    "\n",
    "'''bottom, top = ax.set_ylim() \n",
    "if bottom< top:\n",
    "    ax.set_ylim(top,bottom)\n",
    "'''  \n",
    "ax.set_xlim(6,9.5)\n",
    "\n",
    "#ax.set_xlabel('mjd')\n",
    "ax.set_xlabel(r'log $M_\\mathrm{BH}$')\n",
    "ax.set_ylabel(r'$\\Delta\\,T(year)$')\n",
    "\n",
    "handles, labels = ax.get_legend_handles_labels()\n",
    "# remove the errorbars\n",
    "#hdl = [h[0] for h in handles]\n",
    "hdl=handles\n",
    "labels_dict=dict(zip(labels, hdl)) #key,values\n",
    "by_label=OrderedDict(sorted(labels_dict.items(),key=lambda t:t[0]))\n",
    "ax.legend(by_label.values(), by_label.keys(), bbox_to_anchor=(0.61, 0.99),\n",
    "      loc=2, numpoints=1,ncol=1,fontsize=11.)  \n",
    "\n",
    "plt.savefig(save_lc_img_path,dpi=400, transparent=False, bbox_inches='tight')\n",
    "#plt.close()    "
   ]
  },
  {
   "cell_type": "code",
   "execution_count": null,
   "metadata": {
    "ExecuteTime": {
     "end_time": "2022-05-26T11:25:50.477493Z",
     "start_time": "2022-05-26T11:25:50.467773Z"
    }
   },
   "outputs": [],
   "source": [
    "for i,j in zip(turnoffCLAGN[turnoffCLAGN.columns[-3]],turnoffCLAGN[turnoffCLAGN.columns[-2]]):\n",
    "    if i!='  -- ':\n",
    "        mass_string=i.split('$')[1]\n",
    "        print(mass_string)"
   ]
  },
  {
   "cell_type": "code",
   "execution_count": null,
   "metadata": {
    "ExecuteTime": {
     "end_time": "2022-05-26T11:30:43.509391Z",
     "start_time": "2022-05-26T11:30:43.487249Z"
    }
   },
   "outputs": [],
   "source": [
    "for i,j in zip(turnoffCLAGN[turnoffCLAGN.columns[-3]],turnoffCLAGN[turnoffCLAGN.columns[-2]]):\n",
    "    if i!='  -- ':\n",
    "        mass_string=i.split('$')[1]\n",
    "        #print(mass_string)\n",
    "        mass=float(mass_string.split('^')[0])\n",
    "        mass_upper=float(mass_string.split('^{+')[1].split('}_{-')[0])\n",
    "        mass_lower=float(mass_string.split('_{-')[1].split('}')[0])\n",
    "        print(mass,mass_upper,mass_lower,j)"
   ]
  },
  {
   "cell_type": "code",
   "execution_count": null,
   "metadata": {},
   "outputs": [],
   "source": []
  },
  {
   "cell_type": "code",
   "execution_count": null,
   "metadata": {},
   "outputs": [],
   "source": []
  }
 ],
 "metadata": {
  "kernelspec": {
   "display_name": "Python 3 (ipykernel)",
   "language": "python",
   "name": "python3"
  },
  "language_info": {
   "codemirror_mode": {
    "name": "ipython",
    "version": 3
   },
   "file_extension": ".py",
   "mimetype": "text/x-python",
   "name": "python",
   "nbconvert_exporter": "python",
   "pygments_lexer": "ipython3",
   "version": "3.9.12"
  },
  "latex_envs": {
   "LaTeX_envs_menu_present": true,
   "autoclose": false,
   "autocomplete": true,
   "bibliofile": "biblio.bib",
   "cite_by": "apalike",
   "current_citInitial": 1,
   "eqLabelWithNumbers": true,
   "eqNumInitial": 1,
   "hotkeys": {
    "equation": "Ctrl-E",
    "itemize": "Ctrl-I"
   },
   "labels_anchors": false,
   "latex_user_defs": false,
   "report_style_numbering": false,
   "user_envs_cfg": false
  },
  "toc": {
   "base_numbering": 1,
   "nav_menu": {},
   "number_sections": true,
   "sideBar": true,
   "skip_h1_title": false,
   "title_cell": "Table of Contents",
   "title_sidebar": "Contents",
   "toc_cell": true,
   "toc_position": {
    "height": "calc(100% - 180px)",
    "left": "10px",
    "top": "150px",
    "width": "197px"
   },
   "toc_section_display": true,
   "toc_window_display": true
  }
 },
 "nbformat": 4,
 "nbformat_minor": 2
}
