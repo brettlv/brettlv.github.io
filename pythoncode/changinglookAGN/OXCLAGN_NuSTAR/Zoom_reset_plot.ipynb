{
 "cells": [
  {
   "cell_type": "code",
   "execution_count": null,
   "id": "b226ab09",
   "metadata": {},
   "outputs": [],
   "source": [
    "Zoom region inset axes"
   ]
  },
  {
   "cell_type": "code",
   "execution_count": 2,
   "id": "0abd3f06",
   "metadata": {
    "ExecuteTime": {
     "end_time": "2023-08-30T04:35:00.621857Z",
     "start_time": "2023-08-30T04:35:00.254227Z"
    }
   },
   "outputs": [
    {
     "data": {
      "image/png": "[encoded data removed]",
      "text/plain": [
       "<Figure size 396x201.6 with 6 Axes>"
      ]
     },
     "metadata": {
      "needs_background": "light"
     },
     "output_type": "display_data"
    }
   ],
   "source": [
    "import matplotlib.pyplot as plt\n",
    "from mpl_toolkits.axes_grid1.inset_locator import inset_axes\n",
    "\n",
    "\n",
    "fig, (ax, ax2) = plt.subplots(1, 2, figsize=[5.5, 2.8])\n",
    "\n",
    "# Create inset of width 1.3 inches and height 0.9 inches\n",
    "# at the default upper right location\n",
    "axins = inset_axes(ax, width=1.3, height=0.9)\n",
    "\n",
    "# Create inset of width 30% and height 40% of the parent axes' bounding box\n",
    "# at the lower left corner (loc=3)\n",
    "axins2 = inset_axes(ax, width=\"30%\", height=\"40%\", loc=3)\n",
    "\n",
    "# Create inset of mixed specifications in the second subplot;\n",
    "# width is 30% of parent axes' bounding box and\n",
    "# height is 1 inch at the upper left corner (loc=2)\n",
    "axins3 = inset_axes(ax2, width=\"30%\", height=1., loc=2)\n",
    "\n",
    "# Create an inset in the lower right corner (loc=4) with borderpad=1, i.e.\n",
    "# 10 points padding (as 10pt is the default fontsize) to the parent axes\n",
    "axins4 = inset_axes(ax2, width=\"20%\", height=\"20%\", loc=4, borderpad=1)\n",
    "\n",
    "# Turn ticklabels of insets off\n",
    "for axi in [axins, axins2, axins3, axins4]:\n",
    "    axi.tick_params(labelleft=False, labelbottom=False)\n",
    "\n",
    "plt.show()\n"
   ]
  },
  {
   "cell_type": "code",
   "execution_count": 3,
   "id": "d4a3aa44",
   "metadata": {
    "ExecuteTime": {
     "end_time": "2023-08-30T04:35:10.999860Z",
     "start_time": "2023-08-30T04:35:10.668578Z"
    }
   },
   "outputs": [
    {
     "data": {
      "image/png": "[encoded data removed]",
      "text/plain": [
       "<Figure size 396x201.6 with 6 Axes>"
      ]
     },
     "metadata": {
      "needs_background": "light"
     },
     "output_type": "display_data"
    }
   ],
   "source": [
    "fig = plt.figure(figsize=[5.5, 2.8])\n",
    "ax = fig.add_subplot(121)\n",
    "\n",
    "# We use the axes transform as bbox_transform. Therefore the bounding box\n",
    "# needs to be specified in axes coordinates ((0,0) is the lower left corner\n",
    "# of the axes, (1,1) is the upper right corner).\n",
    "# The bounding box (.2, .4, .6, .5) starts at (.2,.4) and ranges to (.8,.9)\n",
    "# in those coordinates.\n",
    "# Inside of this bounding box an inset of half the bounding box' width and\n",
    "# three quarters of the bounding box' height is created. The lower left corner\n",
    "# of the inset is aligned to the lower left corner of the bounding box (loc=3).\n",
    "# The inset is then offset by the default 0.5 in units of the font size.\n",
    "\n",
    "axins = inset_axes(ax, width=\"50%\", height=\"75%\",\n",
    "                   bbox_to_anchor=(.2, .4, .6, .5),\n",
    "                   bbox_transform=ax.transAxes, loc=3)\n",
    "\n",
    "# For visualization purposes we mark the bounding box by a rectangle\n",
    "ax.add_patch(plt.Rectangle((.2, .4), .6, .5, ls=\"--\", ec=\"c\", fc=\"None\",\n",
    "                           transform=ax.transAxes))\n",
    "\n",
    "# We set the axis limits to something other than the default, in order to not\n",
    "# distract from the fact that axes coordinates are used here.\n",
    "ax.set(xlim=(0, 10), ylim=(0, 10))\n",
    "\n",
    "\n",
    "# Note how the two following insets are created at the same positions, one by\n",
    "# use of the default parent axes' bbox and the other via a bbox in axes\n",
    "# coordinates and the respective transform.\n",
    "ax2 = fig.add_subplot(222)\n",
    "axins2 = inset_axes(ax2, width=\"30%\", height=\"50%\")\n",
    "\n",
    "ax3 = fig.add_subplot(224)\n",
    "axins3 = inset_axes(ax3, width=\"100%\", height=\"100%\",\n",
    "                    bbox_to_anchor=(.7, .5, .3, .5),\n",
    "                    bbox_transform=ax3.transAxes)\n",
    "\n",
    "# For visualization purposes we mark the bounding box by a rectangle\n",
    "ax2.add_patch(plt.Rectangle((0, 0), 1, 1, ls=\"--\", lw=2, ec=\"c\", fc=\"None\"))\n",
    "ax3.add_patch(plt.Rectangle((.7, .5), .3, .5, ls=\"--\", lw=2,\n",
    "                            ec=\"c\", fc=\"None\"))\n",
    "\n",
    "# Turn ticklabels off\n",
    "for axi in [axins2, axins3, ax2, ax3]:\n",
    "    axi.tick_params(labelleft=False, labelbottom=False)\n",
    "\n",
    "plt.show()\n"
   ]
  },
  {
   "cell_type": "code",
   "execution_count": 4,
   "id": "88adea86",
   "metadata": {
    "ExecuteTime": {
     "end_time": "2023-08-30T04:35:26.343999Z",
     "start_time": "2023-08-30T04:35:26.014811Z"
    }
   },
   "outputs": [
    {
     "data": {
      "image/png": "[encoded data removed]",
      "text/plain": [
       "<Figure size 396x201.6 with 6 Axes>"
      ]
     },
     "metadata": {
      "needs_background": "light"
     },
     "output_type": "display_data"
    }
   ],
   "source": [
    "import matplotlib.pyplot as plt\n",
    "from mpl_toolkits.axes_grid1.inset_locator import inset_axes\n",
    "\n",
    "\n",
    "fig, (ax, ax2) = plt.subplots(1, 2, figsize=[5.5, 2.8])\n",
    "\n",
    "# Create inset of width 1.3 inches and height 0.9 inches\n",
    "# at the default upper right location\n",
    "axins = inset_axes(ax, width=1.3, height=0.9)\n",
    "\n",
    "# Create inset of width 30% and height 40% of the parent axes' bounding box\n",
    "# at the lower left corner (loc=3)\n",
    "axins2 = inset_axes(ax, width=\"30%\", height=\"40%\", loc=3)\n",
    "\n",
    "# Create inset of mixed specifications in the second subplot;\n",
    "# width is 30% of parent axes' bounding box and\n",
    "# height is 1 inch at the upper left corner (loc=2)\n",
    "axins3 = inset_axes(ax2, width=\"30%\", height=1., loc=2)\n",
    "\n",
    "# Create an inset in the lower right corner (loc=4) with borderpad=1, i.e.\n",
    "# 10 points padding (as 10pt is the default fontsize) to the parent axes\n",
    "axins4 = inset_axes(ax2, width=\"20%\", height=\"20%\", loc=4, borderpad=1)\n",
    "\n",
    "# Turn ticklabels of insets off\n",
    "for axi in [axins, axins2, axins3, axins4]:\n",
    "    axi.tick_params(labelleft=False, labelbottom=False)\n",
    "\n",
    "plt.show()\n"
   ]
  },
  {
   "cell_type": "code",
   "execution_count": null,
   "id": "c222b87c",
   "metadata": {},
   "outputs": [],
   "source": []
  },
  {
   "cell_type": "code",
   "execution_count": null,
   "id": "977dc7cc",
   "metadata": {},
   "outputs": [],
   "source": []
  },
  {
   "cell_type": "code",
   "execution_count": 1,
   "id": "c86f7069",
   "metadata": {
    "ExecuteTime": {
     "end_time": "2023-08-30T04:33:28.549057Z",
     "start_time": "2023-08-30T04:33:27.985699Z"
    }
   },
   "outputs": [
    {
     "data": {
      "image/png": "[encoded data removed]",
      "text/plain": [
       "<Figure size 360x288 with 1 Axes>"
      ]
     },
     "metadata": {
      "needs_background": "light"
     },
     "output_type": "display_data"
    }
   ],
   "source": [
    "from matplotlib import cbook\n",
    "import matplotlib.pyplot as plt\n",
    "import numpy as np\n",
    "\n",
    "\n",
    "def get_demo_image():\n",
    "    z = cbook.get_sample_data(\"axes_grid/bivariate_normal.npy\", np_load=True)\n",
    "    # z is a numpy array of 15x15\n",
    "    return z, (-3, 4, -4, 3)\n",
    "\n",
    "fig, ax = plt.subplots(figsize=[5, 4])\n",
    "\n",
    "# make data\n",
    "Z, extent = get_demo_image()\n",
    "Z2 = np.zeros((150, 150))\n",
    "ny, nx = Z.shape\n",
    "Z2[30:30+ny, 30:30+nx] = Z\n",
    "\n",
    "ax.imshow(Z2, extent=extent, origin=\"lower\")\n",
    "\n",
    "# inset axes....\n",
    "axins = ax.inset_axes([0.5, 0.5, 0.47, 0.47])\n",
    "axins.imshow(Z2, extent=extent, origin=\"lower\")\n",
    "# subregion of the original image\n",
    "x1, x2, y1, y2 = -1.5, -0.9, -2.5, -1.9\n",
    "axins.set_xlim(x1, x2)\n",
    "axins.set_ylim(y1, y2)\n",
    "axins.set_xticklabels([])\n",
    "axins.set_yticklabels([])\n",
    "\n",
    "ax.indicate_inset_zoom(axins, edgecolor=\"black\")\n",
    "\n",
    "plt.show()"
   ]
  },
  {
   "cell_type": "code",
   "execution_count": null,
   "id": "bd119531",
   "metadata": {},
   "outputs": [],
   "source": []
  },
  {
   "cell_type": "code",
   "execution_count": null,
   "id": "822413e7",
   "metadata": {},
   "outputs": [],
   "source": []
  },
  {
   "cell_type": "code",
   "execution_count": null,
   "id": "264ea0c7",
   "metadata": {},
   "outputs": [],
   "source": [
    "fig.supxlabel"
   ]
  },
  {
   "cell_type": "code",
   "execution_count": null,
   "id": "6d6d9e36",
   "metadata": {},
   "outputs": [],
   "source": [
    "lc_ax.text(0.5,  LABEL_HEIGHT, 'Magnitude',\n",
    "           transform=lc_ax.transAxes, fontsize=FONTSIZE-2,\n",
    "           verticalalignment='center',horizontalalignment ='center')\n",
    "\n",
    "lc_ax.text( -0.5,0.5,'Phase',\n",
    "           transform=lc_ax.transAxes, rotation=90, fontsize=FONTSIZE-2,\n",
    "           verticalalignment='center',horizontalalignment ='left')"
   ]
  },
  {
   "cell_type": "code",
   "execution_count": null,
   "id": "d916f5b6",
   "metadata": {},
   "outputs": [],
   "source": []
  }
 ],
 "metadata": {
  "kernelspec": {
   "display_name": "Python 3 (ipykernel)",
   "language": "python",
   "name": "python3"
  },
  "language_info": {
   "codemirror_mode": {
    "name": "ipython",
    "version": 3
   },
   "file_extension": ".py",
   "mimetype": "text/x-python",
   "name": "python",
   "nbconvert_exporter": "python",
   "pygments_lexer": "ipython3",
   "version": "3.9.12"
  },
  "latex_envs": {
   "LaTeX_envs_menu_present": true,
   "autoclose": false,
   "autocomplete": true,
   "bibliofile": "biblio.bib",
   "cite_by": "apalike",
   "current_citInitial": 1,
   "eqLabelWithNumbers": true,
   "eqNumInitial": 1,
   "hotkeys": {
    "equation": "Ctrl-E",
    "itemize": "Ctrl-I"
   },
   "labels_anchors": false,
   "latex_user_defs": false,
   "report_style_numbering": false,
   "user_envs_cfg": false
  },
  "toc": {
   "base_numbering": 1,
   "nav_menu": {},
   "number_sections": true,
   "sideBar": true,
   "skip_h1_title": false,
   "title_cell": "Table of Contents",
   "title_sidebar": "Contents",
   "toc_cell": false,
   "toc_position": {},
   "toc_section_display": true,
   "toc_window_display": false
  }
 },
 "nbformat": 4,
 "nbformat_minor": 5
}
