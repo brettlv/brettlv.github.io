{
 "cells": [
  {
   "cell_type": "markdown",
   "metadata": {},
   "source": [
    "# import "
   ]
  },
  {
   "cell_type": "code",
   "execution_count": 1,
   "metadata": {
    "ExecuteTime": {
     "end_time": "2021-11-09T13:53:38.641934Z",
     "start_time": "2021-11-09T13:53:36.821245Z"
    }
   },
   "outputs": [],
   "source": [
    "import pandas as pd\n",
    "import numpy as np\n",
    "import os\n",
    "import sys\n",
    "\n",
    "from astropy.table import Table\n",
    "from astropy.io import fits\n",
    "from astropy import units as u\n",
    "from astropy import constants \n",
    "from astropy.coordinates import SkyCoord\n",
    "from astropy.visualization import hist\n",
    "from astroML.datasets import fetch_imaging_sample, fetch_sdss_S82standards\n",
    "from astroML.crossmatch import crossmatch_angular"
   ]
  },
  {
   "cell_type": "code",
   "execution_count": 2,
   "metadata": {
    "ExecuteTime": {
     "end_time": "2021-11-09T13:53:38.667708Z",
     "start_time": "2021-11-09T13:53:38.645327Z"
    }
   },
   "outputs": [],
   "source": [
    "from scipy.stats.stats import pearsonr\n",
    "from scipy.stats import spearmanr#\n",
    "from scipy import stats \n",
    "\n",
    "import matplotlib.pyplot as plt\n",
    "from pylab import cm\n",
    "import matplotlib as mpl\n",
    "\n",
    "from collections import OrderedDict\n",
    "from adjustText import adjust_text\n",
    "\n",
    "%matplotlib inline\n",
    "%config InlineBackend.figure_format='svg'\n",
    "# Edit the font, font size, and axes width\n",
    "mpl.rcParams['font.family'] = 'Avenir'\n",
    "plt.rcParams['font.size'] = 18\n",
    "plt.rcParams['axes.linewidth'] = 2"
   ]
  },
  {
   "cell_type": "code",
   "execution_count": 3,
   "metadata": {
    "ExecuteTime": {
     "end_time": "2021-11-09T13:53:38.674029Z",
     "start_time": "2021-11-09T13:53:38.670343Z"
    }
   },
   "outputs": [],
   "source": [
    "def drop_index(data):\n",
    "    data=data.reset_index(drop=True)\n",
    "    return data"
   ]
  },
  {
   "cell_type": "code",
   "execution_count": 4,
   "metadata": {
    "ExecuteTime": {
     "end_time": "2021-11-09T13:53:38.681146Z",
     "start_time": "2021-11-09T13:53:38.676376Z"
    }
   },
   "outputs": [],
   "source": [
    "from astropy.cosmology import FlatLambdaCDM,Planck13,Planck15,z_at_value\n",
    "from astropy import units as u\n",
    "from astropy.cosmology import LambdaCDM\n",
    "cosmo = LambdaCDM(H0=70, Om0=0.3, Ode0=0.7)\n",
    "#cosmo=FlatLambdaCDM(H0=73,Om0=0.3)"
   ]
  },
  {
   "cell_type": "code",
   "execution_count": 5,
   "metadata": {
    "ExecuteTime": {
     "end_time": "2021-11-09T13:53:39.150188Z",
     "start_time": "2021-11-09T13:53:39.145259Z"
    }
   },
   "outputs": [],
   "source": [
    "import numpy as np\n",
    "from astropy import constants\n",
    "from astropy import units as u\n",
    "from astropy import units\n",
    "\n",
    "wave6=np.array([5468,4392,3465,2600,2246,1928])# v,b,u,w1,m2,w2\n",
    "freq6=(constants.c/(wave6*units.AA)).to(u.Hz).value"
   ]
  },
  {
   "cell_type": "markdown",
   "metadata": {
    "code_folding": []
   },
   "source": [
    "# datadir"
   ]
  },
  {
   "cell_type": "code",
   "execution_count": 6,
   "metadata": {
    "ExecuteTime": {
     "end_time": "2021-11-09T13:53:40.791246Z",
     "start_time": "2021-11-09T13:53:40.787872Z"
    }
   },
   "outputs": [],
   "source": [
    "CLAGN_statistic_plot_dir='/Volumes/ExtremeSSD/CLAGN_statistic_plot/'\n",
    "\n",
    "CLAGN_wisedata_dir='/Users/brettlv/blog/brettlv.github.io/pythoncode/changinglookAGN/CLAGN_wise_data/'\n",
    "\n",
    "AGN_wisedata_dir='/Volumes/ExtremeSSD/data_source/WISE_data'\n",
    "LLAGN_wisedata_dir='%s/wise_data_search/LLAGN'%AGN_wisedata_dir\n",
    "QSO_wisedata_dir='%s/wise_data_search/QSO'%AGN_wisedata_dir\n",
    "\n",
    "\n",
    "AGN_MAXIdata_dir='/Volumes/ExtremeSSD/CLAGN_statistic_plot/MAXIlc/MAXI/'#%s_MAXI_1day_all.dat'%name"
   ]
  },
  {
   "cell_type": "markdown",
   "metadata": {},
   "source": [
    "ls /Volumes/ExtremeSSD/CLAGN_statistic_plot/MAXIlc/MAXI/"
   ]
  },
  {
   "cell_type": "markdown",
   "metadata": {},
   "source": [
    "## set_ax"
   ]
  },
  {
   "cell_type": "code",
   "execution_count": 7,
   "metadata": {
    "ExecuteTime": {
     "end_time": "2021-11-09T13:53:42.736207Z",
     "start_time": "2021-11-09T13:53:42.729728Z"
    }
   },
   "outputs": [],
   "source": [
    "#from adjustText import adjust_text\n",
    "\n",
    "def set_ax_tick(ax):\n",
    "    ax.xaxis.set_tick_params(which='major', size=10, width=2, direction='in', top='on',)\n",
    "    ax.xaxis.set_tick_params(which='minor', size=5, width=2, direction='in', top='on')\n",
    "    ax.yaxis.set_tick_params(which='major', size=10, width=2, direction='in', right='on')\n",
    "    ax.yaxis.set_tick_params(which='minor', size=5, width=2, direction='in', right='on')\n",
    "\n",
    "def set_ax_locator(ax,xma=1,xmi=0.2,yma=1,ymi=0.2):\n",
    "    ax.xaxis.set_major_locator(mpl.ticker.MultipleLocator(xma))\n",
    "    ax.xaxis.set_minor_locator(mpl.ticker.MultipleLocator(xmi))\n",
    "    ax.yaxis.set_major_locator(mpl.ticker.MultipleLocator(yma))\n",
    "    ax.yaxis.set_minor_locator(mpl.ticker.MultipleLocator(ymi)) "
   ]
  },
  {
   "cell_type": "markdown",
   "metadata": {},
   "source": [
    "## timeconvert"
   ]
  },
  {
   "cell_type": "code",
   "execution_count": 8,
   "metadata": {
    "ExecuteTime": {
     "end_time": "2021-11-09T13:53:44.182118Z",
     "start_time": "2021-11-09T13:53:44.169596Z"
    }
   },
   "outputs": [],
   "source": [
    "from astropy.time import Time\n",
    "from astropy.io import fits\n",
    "import time\n",
    "import datetime\n",
    "from matplotlib.pyplot import MultipleLocator\n",
    "import matplotlib.dates as mdates\n",
    "\n",
    "def datetime2mjd(x):\n",
    "    mjd_ref=59000\n",
    "    mjd_minus_mdates_num=mdates.date2num(convert_xaxis_time(mjd_ref))-mjd_ref\n",
    "    \n",
    "    x=mdates.date2num(x)\n",
    "    y = x - mjd_minus_mdates_num   \n",
    "    return y\n",
    "\n",
    "def mjd2datetime(x):\n",
    "    mjd_ref=59000\n",
    "    mjd_minus_mdates_num=mdates.date2num(convert_xaxis_time(mjd_ref))-mjd_ref\n",
    "    y= x + mjd_minus_mdates_num\n",
    "    y= mdates.num2date(y)\n",
    "    return y\n",
    "\n",
    "\n",
    "\n",
    "def datenums2mjd(x):\n",
    "    #x=mdates.date2num(x)\n",
    "    mjd_ref=59000\n",
    "    mjd_minus_mdates_num=mdates.date2num(convert_xaxis_time(mjd_ref))-mjd_ref\n",
    "    y = x - mjd_minus_mdates_num   \n",
    "    return y\n",
    "\n",
    "def mjd2numsdate(x):\n",
    "    mjd_ref=59000\n",
    "    mjd_minus_mdates_num=mdates.date2num(convert_xaxis_time(mjd_ref))-mjd_ref\n",
    "    \n",
    "    y= x + mjd_minus_mdates_num\n",
    "    #y= mdates.num2date(y)\n",
    "    return y\n",
    "\n",
    "\n",
    "def convert_xaxis_mjd(time):\n",
    "    return Time(time).mjd   \n",
    "\n",
    "def convert_xaxis_time(mjd):\n",
    "    return Time(mjd,format='mjd').to_datetime()\n",
    "\n",
    "\n",
    "def date2yday(x):\n",
    "    \"\"\"\n",
    "    x is in matplotlib datenums, so they are floats.\n",
    "    \"\"\"\n",
    "    y = x - mdates.date2num(datetime(2018, 1, 1))\n",
    "    return y\n",
    "\n",
    "def yday2date(x):\n",
    "    \"\"\"\n",
    "    return a matplotlib datenum (x is days since start of year of 2018)\n",
    "    \"\"\"\n",
    "    y = x + mdates.date2num(datetime(2018, 1, 1))\n",
    "    return y\n",
    "\n",
    "\n",
    "def convert_partial_year(numbers):\n",
    "    datetimes=[]\n",
    "    for number in numbers:\n",
    "        year = int(number)\n",
    "        d = timedelta(days=(number - year)*(365 + is_leap(year)))\n",
    "        day_one = datetime(year,1,1)\n",
    "        date = d + day_one\n",
    "        datetimes.append(date)\n",
    "    return datetimes\n",
    "\n",
    "\n",
    "def is_leap(year):\n",
    "    if not year%4 and  year%100 or not year%400:\n",
    "        return True\n",
    "    return False\n",
    "\n",
    "\n",
    "def convert_mjd(times):\n",
    "    timesmjd=[]\n",
    "    for i in times:\n",
    "        timesmjd.append(Time(i).mjd)\n",
    "    return timesmjd  \n",
    "\n",
    "\n",
    "def convert_date(times):\n",
    "    timesdate=[]\n",
    "    for i in times:\n",
    "        timesdate.append(Time(i,format='mjd').datetime)\n",
    "    return timesdate\n",
    "\n",
    "def convert_date_single(time):\n",
    "    timedate=Time(time,format='mjd').datetime\n",
    "    return timedate"
   ]
  },
  {
   "cell_type": "code",
   "execution_count": 9,
   "metadata": {
    "ExecuteTime": {
     "end_time": "2021-11-09T13:53:45.005303Z",
     "start_time": "2021-11-09T13:53:45.000505Z"
    }
   },
   "outputs": [],
   "source": [
    "def plot_secax(ax,mi_interval=365,ma_interval=365*2):\n",
    "    secax1 = ax.secondary_xaxis('top', functions=(mjd2numsdate,datenums2mjd))\n",
    "    secax1.xaxis.set_major_formatter(mdates.DateFormatter(\"%Y-%m\"))\n",
    "    secax1.xaxis.set_major_locator(mdates.DayLocator(interval=ma_interval))\n",
    "    secax1.xaxis.set_minor_locator(mdates.DayLocator(interval=mi_interval))\n",
    "    secax1.xaxis.set_tick_params(which='major', size=10, width=2, direction='out')\n",
    "    secax1.xaxis.set_tick_params(which='minor', size=5, width=2, direction='out')\n",
    "    secax1.xaxis.set_tick_params(which='major', size=10, width=2, direction='out', rotation=45,)"
   ]
  },
  {
   "cell_type": "markdown",
   "metadata": {
    "ExecuteTime": {
     "end_time": "2021-09-28T14:49:57.766598Z",
     "start_time": "2021-09-28T14:49:57.080636Z"
    }
   },
   "source": [
    "mjds=np.linspace(59000,59120,30)\n",
    "fluxs=np.sin(np.arange(len(mjds)))+np.random.random(len(mjds))*0.2\n",
    "\n",
    "fig = plt.figure(figsize=(4,4))\n",
    "fig.subplots_adjust(hspace=0.15, wspace = 0.3)\n",
    "ax = fig.add_subplot(111)\n",
    "\n",
    "ax.scatter(mjds,fluxs)\n",
    "plot_secax(ax,90,30)\n",
    "set_ax_tick(ax)\n",
    "set_ax_locator(ax,xma=60,xmi=30,yma=1.0,ymi=0.5)\n",
    "ax.text(0.03, 0.85, 'test', fontsize = 15, transform = ax.transAxes)\n",
    "plt.show()\n",
    "#fig.savefig('/Users/brettlv/Downloads/CLAGN_statistic_plot/WISE_lc/rebin_CLAGN/rebin_gt50_gt0.5mag//W1_rebinlc_%s.png'%save_name,dpi=400,transparent=False,bbox_inches='tight')      \n",
    "plt.close()"
   ]
  },
  {
   "cell_type": "code",
   "execution_count": null,
   "metadata": {
    "ExecuteTime": {
     "end_time": "2021-09-28T14:47:37.157000Z",
     "start_time": "2021-09-28T14:47:37.151454Z"
    }
   },
   "outputs": [],
   "source": [
    "convert_xaxis_time(59100)"
   ]
  },
  {
   "cell_type": "code",
   "execution_count": null,
   "metadata": {
    "ExecuteTime": {
     "end_time": "2021-09-28T14:47:41.925687Z",
     "start_time": "2021-09-28T14:47:41.920092Z"
    }
   },
   "outputs": [],
   "source": [
    "convert_xaxis_mjd(datetime.datetime(2020, 9, 8, 0, 0))"
   ]
  },
  {
   "cell_type": "markdown",
   "metadata": {},
   "source": [
    "## get_new_range_datas\n",
    "(mjd1, flux1, err1,time_min,time_max)"
   ]
  },
  {
   "cell_type": "code",
   "execution_count": 10,
   "metadata": {
    "ExecuteTime": {
     "end_time": "2021-11-09T13:53:48.081070Z",
     "start_time": "2021-11-09T13:53:48.076322Z"
    }
   },
   "outputs": [],
   "source": [
    "def get_new_range_datas(mjd1, flux1, err1,time_min,time_max):\n",
    "    mjd_s=[]\n",
    "    flux_s=[]\n",
    "    err_s=[]\n",
    "    for i,j,k in zip(mjd1, flux1, err1):\n",
    "        if i>=time_min and i<time_max:\n",
    "            mjd_s.append(i)\n",
    "            flux_s.append(j)\n",
    "            err_s.append(k)\n",
    "    return np.array(mjd_s),np.array(flux_s),np.array(err_s)"
   ]
  },
  {
   "cell_type": "markdown",
   "metadata": {},
   "source": [
    "## AB mag"
   ]
  },
  {
   "cell_type": "markdown",
   "metadata": {},
   "source": [
    "m(AB) = -2.5 log(f) - 48.60"
   ]
  },
  {
   "cell_type": "markdown",
   "metadata": {},
   "source": [
    "# rebin_wiselc"
   ]
  },
  {
   "cell_type": "markdown",
   "metadata": {},
   "source": [
    "## mag_weighted_mean_mag"
   ]
  },
  {
   "cell_type": "code",
   "execution_count": 11,
   "metadata": {
    "ExecuteTime": {
     "end_time": "2021-11-09T13:53:50.242633Z",
     "start_time": "2021-11-09T13:53:50.236517Z"
    }
   },
   "outputs": [],
   "source": [
    "import numpy as np\n",
    "def get_mag_weighted_mean_mag(mags,e_mags):\n",
    "    N=len(mags)\n",
    "    mag_weighted_mean_mag =0  \n",
    "    \n",
    "    w_n=np.sum(1.0/e_mags**2)   \n",
    "    \n",
    "    for mag,e_mag in zip(mags,e_mags):\n",
    "        w_i=1.0/e_mag**2\n",
    "        w=w_i/w_n\n",
    "        mag_weighted_mean_mag=mag_weighted_mean_mag+w*mag\n",
    "                          \n",
    "    return mag_weighted_mean_mag \n",
    "\n",
    "\n",
    "def get_mag_weighted_mean_e_mag(mags,e_mags):\n",
    "    N=len(mags)  \n",
    "\n",
    "    w_n=np.sum(1.0/e_mags**2)\n",
    "    \n",
    "    mag_weighted_mean_mag = get_mag_weighted_mean_mag(mags,e_mags)\n",
    "    \n",
    "    mag_weighted_mean_e_mag =0 \n",
    "    \n",
    "    for mag,e_mag in zip(mags,e_mags):        \n",
    "        w_i=1.0/e_mag**2\n",
    "        w=w_i/w_n\n",
    "        \n",
    "        mag_weighted_mean_e_mag=mag_weighted_mean_e_mag+w*(mag-mag_weighted_mean_mag)**2\n",
    "        \n",
    "    mag_weighted_mean_e_mag_=(mag_weighted_mean_e_mag/(N-1))**0.5                                 \n",
    "    return mag_weighted_mean_e_mag_"
   ]
  },
  {
   "cell_type": "code",
   "execution_count": null,
   "metadata": {
    "ExecuteTime": {
     "end_time": "2021-10-13T07:20:15.521326Z",
     "start_time": "2021-10-13T07:20:15.515252Z"
    }
   },
   "outputs": [],
   "source": [
    "mags=np.array([7,7.2,7.1,7.2,6.9,7.1,10.2])\n",
    "e_mags=np.array([0.02,0.04,0.05,0.03,0.02,0.6])\n",
    "mean_mag=get_mag_weighted_mean_mag(mags,e_mags)\n",
    "mean_e_mag=get_mag_weighted_mean_e_mag(mags,e_mags)\n",
    "print(np.mean(mags),mean_mag)\n",
    "print(np.mean(e_mags),mean_e_mag)"
   ]
  },
  {
   "cell_type": "markdown",
   "metadata": {},
   "source": [
    "# median_lc_without_outlier"
   ]
  },
  {
   "cell_type": "markdown",
   "metadata": {},
   "source": [
    "## def_median_lc"
   ]
  },
  {
   "cell_type": "code",
   "execution_count": 12,
   "metadata": {
    "ExecuteTime": {
     "end_time": "2021-11-09T13:53:56.821729Z",
     "start_time": "2021-11-09T13:53:56.812983Z"
    }
   },
   "outputs": [],
   "source": [
    "def median_lc(data,timelabel,maglabel,e_maglabel,interval=180,sigma_outlier=10):\n",
    "    data=data.sort_values(timelabel)\n",
    "    data=drop_index(data)\n",
    "    mean_mjds=[]\n",
    "    mean_mags=[]\n",
    "    mean_mags_e=[]\n",
    "    if len(data)>2:\n",
    "        mjd_t0=data[timelabel][0]-20\n",
    "        mjd_tend=data[timelabel][len(data)-1]+20\n",
    "\n",
    "        N=int((mjd_tend-mjd_t0)//interval+1)\n",
    "        #print(N)\n",
    "\n",
    "        time_interval=np.linspace(mjd_t0,interval*N+mjd_t0,N+1)\n",
    "        #print(time_interval)\n",
    "\n",
    "        for index,i in enumerate(time_interval):\n",
    "            if index < N:\n",
    "                data_select=data[data[timelabel]>=time_interval[index]]\n",
    "                data_select=data_select[data_select[timelabel]<time_interval[index+1]]\n",
    "                data_select=drop_index(data_select)\n",
    "\n",
    "                if len(data_select)>2:\n",
    "                    #mean_mjd=np.mean(data_select[timelabel])\n",
    "                    mags=data_select[maglabel]\n",
    "                    e_mags=data_select[e_maglabel]               \n",
    "                    mean_mag=get_mag_weighted_mean_mag(mags,e_mags)\n",
    "                    mag_weighted_mean_e_mag=get_mag_weighted_mean_e_mag(mags,e_mags)\n",
    "                    #mean_mag_e=np.mean(data_select[e_maglabel])\n",
    "\n",
    "                    data_select=data_select[abs(data_select[maglabel]-mean_mag)<sigma_outlier*mag_weighted_mean_e_mag]\n",
    "                    data_select=drop_index(data_select)\n",
    "\n",
    "\n",
    "                    #print(len(data_select))\n",
    "\n",
    "                    mags=data_select[maglabel]\n",
    "                    e_mags=data_select[e_maglabel]  \n",
    "                    if len(data_select)>2:\n",
    "                        mean_mag=get_mag_weighted_mean_mag(mags,e_mags)               \n",
    "                        mean_mag_e=get_mag_weighted_mean_e_mag(mags,e_mags)\n",
    "\n",
    "                        mean_mjd=np.mean(data_select[timelabel])               \n",
    "                        mean_mjds.append(mean_mjd)\n",
    "                        mean_mags.append(mean_mag)\n",
    "                        mean_mags_e.append(mean_mag_e)\n",
    "        mean_mjds,mean_mags,mean_mags_e=(np.array(mean_mjds),np.array(mean_mags),np.array(mean_mags_e))\n",
    "    return mean_mjds,mean_mags,mean_mags_e\n"
   ]
  },
  {
   "cell_type": "markdown",
   "metadata": {},
   "source": [
    "## plot_outlier_median_lc"
   ]
  },
  {
   "cell_type": "code",
   "execution_count": 13,
   "metadata": {
    "ExecuteTime": {
     "end_time": "2021-11-09T13:54:00.530963Z",
     "start_time": "2021-11-09T13:54:00.523653Z"
    }
   },
   "outputs": [],
   "source": [
    "def plot_outlier_median_lc(ax,data,timelabel,maglabel,e_maglabel,interval=180,sigma_outlier=10):\n",
    "    data=data.sort_values(timelabel)\n",
    "    data=drop_index(data)\n",
    "    mean_mjds=[]\n",
    "    mean_mags=[]\n",
    "    mean_mags_e=[]\n",
    "    if len(data)>2:\n",
    "        mjd_t0=data[timelabel][0]-20\n",
    "        mjd_tend=data[timelabel][len(data)-1]+20\n",
    "\n",
    "        N=int((mjd_tend-mjd_t0)//interval+1)\n",
    "        #print(N)\n",
    "\n",
    "        time_interval=np.linspace(mjd_t0,interval*N+mjd_t0,N+1)\n",
    "        #print(time_interval)\n",
    "\n",
    "        for index,i in enumerate(time_interval):\n",
    "            if index < N:\n",
    "                data_select=data[data[timelabel]>=time_interval[index]]\n",
    "                data_select=data_select[data_select[timelabel]<time_interval[index+1]]\n",
    "                data_select=drop_index(data_select)\n",
    "\n",
    "                if len(data_select)>2:\n",
    "                    #mean_mjd=np.mean(data_select[timelabel])\n",
    "                    mags=data_select[maglabel]\n",
    "                    e_mags=data_select[e_maglabel]               \n",
    "                    mean_mag=get_mag_weighted_mean_mag(mags,e_mags)\n",
    "                    mag_weighted_mean_e_mag=get_mag_weighted_mean_e_mag(mags,e_mags)\n",
    "                    #mean_mag_e=np.mean(data_select[e_maglabel])\n",
    "\n",
    "                    data_select_outlier=data_select[abs(data_select[maglabel]-mean_mag)>=sigma_outlier*mag_weighted_mean_e_mag]\n",
    "                    data_select_outlier=drop_index(data_select_outlier)  \n",
    "                    if len(data_select_outlier)>0:\n",
    "                        ax.scatter(data_select_outlier[timelabel],data_select_outlier[maglabel],\n",
    "                               color='red',zorder=3,s=6)\n"
   ]
  },
  {
   "cell_type": "markdown",
   "metadata": {},
   "source": [
    "## def_plot_outliers"
   ]
  },
  {
   "cell_type": "code",
   "execution_count": 14,
   "metadata": {
    "ExecuteTime": {
     "end_time": "2021-11-09T13:54:01.694283Z",
     "start_time": "2021-11-09T13:54:01.688837Z"
    }
   },
   "outputs": [],
   "source": [
    "def plot_outliers_w1(ax,data_test_neo,data_test_mep,sigma_outlier=10):\n",
    "    timelabel,maglabel,e_maglabel=('mjd','w1mpro','w1sigmpro')\n",
    "    plot_outlier_median_lc(ax,data_test_neo,timelabel,maglabel,e_maglabel,interval=180,sigma_outlier=sigma_outlier)\n",
    "\n",
    "    timelabel,maglabel,e_maglabel=('mjd','w1mpro_ep','w1sigmpro_ep')\n",
    "    plot_outlier_median_lc(ax,data_test_mep,timelabel,maglabel,e_maglabel,interval=180,sigma_outlier=sigma_outlier)\n",
    "\n",
    "    #return data_test_neo_w1_outlier,data_test_neo_w2_outlier,data_test_mep_w1_outlier,data_test_mep_w2_outlier\n",
    "\n",
    "def plot_outliers_w2(ax,data_test_neo,data_test_mep,sigma_outlier=10):\n",
    "    timelabel,maglabel,e_maglabel=('mjd','w2mpro','w2sigmpro')\n",
    "    plot_outlier_median_lc(ax,data_test_neo,timelabel,maglabel,e_maglabel,interval=180,sigma_outlier=sigma_outlier)\n",
    "\n",
    "    timelabel,maglabel,e_maglabel=('mjd','w2mpro_ep','w2sigmpro_ep')\n",
    "    plot_outlier_median_lc(ax,data_test_mep,timelabel,maglabel,e_maglabel,interval=180,sigma_outlier=sigma_outlier)"
   ]
  },
  {
   "cell_type": "markdown",
   "metadata": {},
   "source": [
    "# getdata"
   ]
  },
  {
   "cell_type": "markdown",
   "metadata": {},
   "source": [
    "## get_wise_data"
   ]
  },
  {
   "cell_type": "code",
   "execution_count": 15,
   "metadata": {
    "ExecuteTime": {
     "end_time": "2021-11-09T13:54:03.777057Z",
     "start_time": "2021-11-09T13:54:03.766734Z"
    }
   },
   "outputs": [],
   "source": [
    "def get_wise_data(name_test,datawise_dir=CLAGN_wisedata_dir):\n",
    "    #print(name_test)\n",
    "    search_name=name_test.replace(' ','') \n",
    "    save_name=search_name.strip()\n",
    "\n",
    "    data_test_neo=pd.read_csv(os.path.join(datawise_dir,'wise_%s_neo.csv'%save_name))\n",
    "    data_test_neo=data_test_neo[data_test_neo['w1mpro'].notnull()]\n",
    "    data_test_neo=data_test_neo[data_test_neo['w2mpro'].notnull()]\n",
    "    data_test_neo=data_test_neo[data_test_neo['w1sigmpro'].notnull()]\n",
    "    data_test_neo=data_test_neo[data_test_neo['w2sigmpro'].notnull()]\n",
    "    data_test_neo=data_test_neo[data_test_neo['w1mpro']<15]\n",
    "    data_test_neo=data_test_neo[data_test_neo['w2mpro']<13]  \n",
    "    #data_test_neo=data_test_neo[data_test_neo['w1rchi2']<2]\n",
    "    #data_test_neo=data_test_neo[data_test_neo['w2rchi2']<2]\n",
    "    data_test_neo=data_test_neo[data_test_neo['cc_flags']==\"b'0000'\"]\n",
    "    data_test_neo=data_test_neo[data_test_neo['nb']<3]\n",
    "    data_test_neo=data_test_neo[data_test_neo['na']==0] \n",
    "    \n",
    "    data_test_neo=data_test_neo[data_test_neo['qual_frame']>0]\n",
    "    #print(len(data_test_neo))\n",
    "    data_test_neo=(data_test_neo.loc[:, ['mjd', 'w1mpro','w2mpro',\n",
    "                                 'w1sigmpro','w2sigmpro',\n",
    "                                 ]].sort_values('mjd'))\n",
    "\n",
    "    data_test_neo=data_test_neo.reset_index(drop=True)\n",
    "    #print(data_test_neo.columns)\n",
    "\n",
    "    data_test_mep=pd.read_csv(os.path.join(datawise_dir,'wise_%s_mep.csv'%save_name))\n",
    "    data_test_mep=data_test_mep[data_test_mep['w1mpro_ep'].notnull()]\n",
    "    data_test_mep=data_test_mep[data_test_mep['w2mpro_ep'].notnull()]\n",
    "    data_test_mep=data_test_mep[data_test_mep['w1sigmpro_ep'].notnull()]\n",
    "    data_test_mep=data_test_mep[data_test_mep['w2sigmpro_ep'].notnull()]\n",
    "    #data_test_mep=data_test_mep[data_test_mep['qual_frame']>5]\n",
    "    data_test_mep=data_test_mep[data_test_mep['qi_fact']>0]\n",
    "    data_test_mep=data_test_mep[data_test_mep['saa_sep']>0]\n",
    "    data_test_mep=data_test_mep[data_test_mep['cc_flags']==\"b'0000'\"]\n",
    "    data_test_mep=data_test_mep[data_test_mep['nb']<3]\n",
    "    data_test_mep=data_test_mep[data_test_mep['na']==0] \n",
    "\n",
    "    #print(len(data_test_mep))\n",
    "    data_test_mep=(data_test_mep.loc[:, ['mjd', 'w1mpro_ep','w2mpro_ep',\n",
    "                                         'w1sigmpro_ep','w2sigmpro_ep',\n",
    "                                         ]].sort_values('mjd'))\n",
    "\n",
    "    data_test_mep=data_test_mep.reset_index(drop=True)\n",
    "    #print(data_test_mep.columns)\n",
    "    #if not os.path.exists(save_lc_img_path):\n",
    "      \n",
    "    return data_test_neo,data_test_mep\n",
    "    "
   ]
  },
  {
   "cell_type": "markdown",
   "metadata": {},
   "source": [
    "\n"
   ]
  },
  {
   "cell_type": "markdown",
   "metadata": {},
   "source": [
    "## def get_intrinsic_var"
   ]
  },
  {
   "cell_type": "code",
   "execution_count": 16,
   "metadata": {
    "ExecuteTime": {
     "end_time": "2021-11-09T13:54:06.116766Z",
     "start_time": "2021-11-09T13:54:06.111642Z"
    }
   },
   "outputs": [],
   "source": [
    "epsilon_s_w1=0.024\n",
    "epsilon_s_w2=0.028\n",
    "\n",
    "def get_intrinsic_var(data,mag_label,magerr_label,epsilon_s):\n",
    "    \n",
    "    mags=data[mag_label]\n",
    "    e_mags=data[magerr_label]\n",
    "    \n",
    "    mag_weighted_mean_mag = get_mag_weighted_mean_mag(mags,e_mags)    \n",
    "    mag_weighted_mean_e_mag_= get_mag_weighted_mean_e_mag(mags,e_mags)\n",
    "    mag_mean=mag_weighted_mean_mag\n",
    "    \n",
    "    length_N=len(data[mag_label])\n",
    "    epsilon_square=np.average(data[magerr_label]**2)+epsilon_s**2\n",
    "    Sigma_square=np.sum((data[mag_label]-mag_mean)**2)/(length_N-1)\n",
    "    \n",
    "    if Sigma_square>epsilon_square:\n",
    "        sigma_m=np.sqrt(Sigma_square-epsilon_square)\n",
    "    else:\n",
    "        sigma_m=0\n",
    "    \n",
    "    if length_N<2:\n",
    "        sigma_m=-1#print(length_N)\n",
    "    return sigma_m"
   ]
  },
  {
   "cell_type": "markdown",
   "metadata": {},
   "source": [
    "### CLAGN"
   ]
  },
  {
   "cell_type": "code",
   "execution_count": 17,
   "metadata": {
    "ExecuteTime": {
     "end_time": "2021-11-09T13:54:08.683966Z",
     "start_time": "2021-11-09T13:54:08.612653Z"
    }
   },
   "outputs": [],
   "source": [
    "CLAGN_210919=pd.read_excel('/Users/brettlv/blog/IHEP_sync/data/data_clagn/CLAGN_list210919.xlsx',sheet_name='Sheet1')"
   ]
  },
  {
   "cell_type": "code",
   "execution_count": 18,
   "metadata": {
    "ExecuteTime": {
     "end_time": "2021-11-09T13:54:15.834341Z",
     "start_time": "2021-11-09T13:54:11.662457Z"
    },
    "code_folding": []
   },
   "outputs": [],
   "source": [
    "epsilon_s_w1=0.024\n",
    "epsilon_s_w2=0.028\n",
    "\n",
    "for index,name_test in enumerate(CLAGN_210919['Name']): \n",
    "    #print(name_test)\n",
    "    search_name=name_test.replace(' ','') \n",
    "    save_name=search_name.strip()\n",
    "    data_test_neo,data_test_mep= get_wise_data(name_test,datawise_dir='/Users/brettlv/blog/brettlv.github.io/pythoncode/changinglookAGN/CLAGN_wise_data/')\n",
    "    \n",
    "    if len(data_test_neo)>2:\n",
    "        mag_label='w1mpro'\n",
    "        magerr_label='w1sigmpro'\n",
    "        epsilon_s=epsilon_s_w1\n",
    "\n",
    "        pearson_coeff,p_value=pearsonr(data_test_neo['w1mpro'],data_test_neo['w2mpro'])\n",
    "        CLAGN_210919.loc[index,'pearson_coeff_neo']=pearson_coeff\n",
    "\n",
    "        sigma_m_w1=get_intrinsic_var(data_test_neo,mag_label,magerr_label,epsilon_s)\n",
    "        CLAGN_210919.loc[index,'sigma_m_w1_neo']=sigma_m_w1\n",
    "        \n",
    "        mags=data_test_neo[mag_label]\n",
    "        e_mags=data_test_neo[magerr_label]\n",
    "        \n",
    "        CLAGN_210919.loc[index,'mean_m_w1_neo']=get_mag_weighted_mean_mag(mags,e_mags)\n",
    "        CLAGN_210919.loc[index,'mean_e_m_w1_neo']=get_mag_weighted_mean_e_mag(mags,e_mags)\n",
    "\n",
    "\n",
    "        mag_label='w2mpro'\n",
    "        magerr_label='w2sigmpro'\n",
    "        epsilon_s=epsilon_s_w2\n",
    "        sigma_m_w2=get_intrinsic_var(data_test_neo,mag_label,magerr_label,epsilon_s)\n",
    "        CLAGN_210919.loc[index,'sigma_m_w2_neo']=sigma_m_w2\n",
    "        \n",
    "        mags=data_test_neo[mag_label]\n",
    "        e_mags=data_test_neo[magerr_label]\n",
    "        \n",
    "        CLAGN_210919.loc[index,'mean_m_w2_neo']=get_mag_weighted_mean_mag(mags,e_mags)\n",
    "        CLAGN_210919.loc[index,'mean_e_m_w2_neo']=get_mag_weighted_mean_e_mag(mags,e_mags)\n",
    "        \n",
    "        CLAGN_210919.loc[index,'len_neo']=len(data_test_neo)\n",
    "        CLAGN_210919.loc[index,'W1-W2']=np.average(data_test_neo['w1mpro']-data_test_neo['w2mpro'])\n",
    "\n",
    "\n",
    "    else:\n",
    "        CLAGN_210919.loc[index,'len_neo']=0  "
   ]
  },
  {
   "cell_type": "code",
   "execution_count": 19,
   "metadata": {
    "ExecuteTime": {
     "end_time": "2021-11-09T13:54:15.848219Z",
     "start_time": "2021-11-09T13:54:15.836624Z"
    }
   },
   "outputs": [
    {
     "data": {
      "text/plain": [
       "(93, 86)"
      ]
     },
     "execution_count": 19,
     "metadata": {},
     "output_type": "execute_result"
    }
   ],
   "source": [
    "len(CLAGN_210919[CLAGN_210919['len_neo']>2]),len(CLAGN_210919[CLAGN_210919['len_neo']>20])"
   ]
  },
  {
   "cell_type": "markdown",
   "metadata": {},
   "source": [
    "### CLAGN_210919_logLw"
   ]
  },
  {
   "cell_type": "code",
   "execution_count": 20,
   "metadata": {
    "ExecuteTime": {
     "end_time": "2021-11-09T13:54:15.865831Z",
     "start_time": "2021-11-09T13:54:15.851035Z"
    }
   },
   "outputs": [],
   "source": [
    "CLAGN_210919['D_cm']=cosmo.luminosity_distance(z=CLAGN_210919['Redshift']).to(u.cm)\n",
    "CLAGN_210919['logL_W1']= (-48.6-CLAGN_210919['mean_m_w1_neo']-2.699)/2.5+np.log10(4*np.pi*CLAGN_210919['D_cm']**2)+np.log10((constants.c/(3.4*u.um)).to(u.Hz).value)\n",
    "CLAGN_210919['logL_W2']= (-48.6-CLAGN_210919['mean_m_w2_neo']-3.339)/2.5+np.log10(4*np.pi*CLAGN_210919['D_cm']**2)+np.log10((constants.c/(4.6*u.um)).to(u.Hz).value)\n",
    "\n",
    "CLAGN_210919['e_logL_W1'] =   CLAGN_210919['mean_e_m_w1_neo']/2.5\n",
    "CLAGN_210919['e_logL_W2'] =   CLAGN_210919['mean_e_m_w2_neo']/2.5\n",
    "    "
   ]
  },
  {
   "cell_type": "code",
   "execution_count": 21,
   "metadata": {
    "ExecuteTime": {
     "end_time": "2021-11-09T13:54:15.880603Z",
     "start_time": "2021-11-09T13:54:15.868266Z"
    }
   },
   "outputs": [],
   "source": [
    "CLAGN_210919_mass=CLAGN_210919[CLAGN_210919['lg(MBH/Msun)'].notnull()]\n",
    "CLAGN_210919_mass=CLAGN_210919_mass.reset_index(drop=True)\n",
    "CLAGN_210919_mass['logL_W1/Ledd']=CLAGN_210919_mass['logL_W1']-CLAGN_210919_mass['lg(MBH/Msun)']-np.log10(1.263e38)\n",
    "CLAGN_210919_mass['logL_W2/Ledd']=CLAGN_210919_mass['logL_W2']-CLAGN_210919_mass['lg(MBH/Msun)']-np.log10(1.263e38)"
   ]
  },
  {
   "cell_type": "code",
   "execution_count": 22,
   "metadata": {
    "ExecuteTime": {
     "end_time": "2021-11-09T13:54:17.337506Z",
     "start_time": "2021-11-09T13:54:17.332796Z"
    }
   },
   "outputs": [
    {
     "data": {
      "text/plain": [
       "Index(['Name', 'RA', 'DEC', 'Ref.', 'Type_Ref', 'Redshift', 'lg(MBH/Msun)',\n",
       "       'Ref..1', 'mass_Ref', 'Type_CL', 'Type_X', 'OX', 'logM', 'pos',\n",
       "       'E(B-V)mean', 'E(B-V)weighted', 'NHImean', 'NHIweighted', 'NH2mean',\n",
       "       'NH2weighted', 'NH,totmean', 'NH,totweighted', 'len_neo',\n",
       "       'pearson_coeff_neo', 'sigma_m_w1_neo', 'mean_m_w1_neo',\n",
       "       'mean_e_m_w1_neo', 'sigma_m_w2_neo', 'mean_m_w2_neo', 'mean_e_m_w2_neo',\n",
       "       'W1-W2', 'D_cm', 'logL_W1', 'logL_W2', 'e_logL_W1', 'e_logL_W2',\n",
       "       'logL_W1/Ledd', 'logL_W2/Ledd'],\n",
       "      dtype='object')"
      ]
     },
     "execution_count": 22,
     "metadata": {},
     "output_type": "execute_result"
    }
   ],
   "source": [
    "CLAGN_210919_mass.columns"
   ]
  },
  {
   "cell_type": "code",
   "execution_count": null,
   "metadata": {
    "ExecuteTime": {
     "end_time": "2021-10-13T07:21:56.563016Z",
     "start_time": "2021-10-13T07:21:56.553485Z"
    }
   },
   "outputs": [],
   "source": [
    "np.mean(CLAGN_210919_mass['logL_W1']-CLAGN_210919_mass['lg(MBH/Msun)']-np.log10(1.263*10**38))"
   ]
  },
  {
   "cell_type": "code",
   "execution_count": null,
   "metadata": {
    "ExecuteTime": {
     "end_time": "2021-10-12T03:25:44.866015Z",
     "start_time": "2021-10-12T03:25:44.861378Z"
    }
   },
   "outputs": [],
   "source": [
    "10**-2.317"
   ]
  },
  {
   "cell_type": "markdown",
   "metadata": {
    "ExecuteTime": {
     "end_time": "2021-10-13T07:22:00.954763Z",
     "start_time": "2021-10-13T07:22:00.913318Z"
    }
   },
   "source": [
    "CLAGN_210919_mass.to_csv('%s/CLAGN_210919_mass_wisevar.csv'%CLAGN_statistic_plot_dir,index=False)"
   ]
  },
  {
   "cell_type": "code",
   "execution_count": null,
   "metadata": {
    "ExecuteTime": {
     "end_time": "2021-10-13T07:22:02.780368Z",
     "start_time": "2021-10-13T07:22:02.775830Z"
    }
   },
   "outputs": [],
   "source": [
    "len(CLAGN_210919),len(CLAGN_210919_mass)"
   ]
  },
  {
   "cell_type": "code",
   "execution_count": null,
   "metadata": {
    "ExecuteTime": {
     "end_time": "2021-10-13T07:22:03.239624Z",
     "start_time": "2021-10-13T07:22:03.231744Z"
    }
   },
   "outputs": [],
   "source": [
    "len(CLAGN_210919_mass[CLAGN_210919_mass['len_neo']>2]),len(CLAGN_210919_mass[CLAGN_210919_mass['len_neo']>20])"
   ]
  },
  {
   "cell_type": "markdown",
   "metadata": {},
   "source": [
    "### mass \\sigma>0.1"
   ]
  },
  {
   "cell_type": "code",
   "execution_count": null,
   "metadata": {
    "ExecuteTime": {
     "end_time": "2021-10-13T07:22:13.962204Z",
     "start_time": "2021-10-13T07:22:13.957334Z"
    }
   },
   "outputs": [],
   "source": [
    "sigmadot1=CLAGN_210919_mass[CLAGN_210919_mass['sigma_m_w1_neo']>0.1][['Name','sigma_m_w1_neo','OX']]"
   ]
  },
  {
   "cell_type": "code",
   "execution_count": null,
   "metadata": {
    "ExecuteTime": {
     "end_time": "2021-10-13T07:22:14.949795Z",
     "start_time": "2021-10-13T07:22:14.944761Z"
    }
   },
   "outputs": [],
   "source": [
    "len(sigmadot1)"
   ]
  },
  {
   "cell_type": "code",
   "execution_count": null,
   "metadata": {
    "ExecuteTime": {
     "end_time": "2021-10-13T07:22:48.709435Z",
     "start_time": "2021-10-13T07:22:48.704982Z"
    }
   },
   "outputs": [],
   "source": [
    "sigmadot1_X=sigmadot1[sigmadot1['OX']==' B ']\n",
    "sigmadot1_O=sigmadot1[sigmadot1['OX']==' A ']"
   ]
  },
  {
   "cell_type": "code",
   "execution_count": null,
   "metadata": {},
   "outputs": [],
   "source": []
  },
  {
   "cell_type": "markdown",
   "metadata": {},
   "source": [
    "### MAXI_AGN_namelist"
   ]
  },
  {
   "cell_type": "code",
   "execution_count": null,
   "metadata": {
    "ExecuteTime": {
     "end_time": "2021-10-13T07:22:51.245027Z",
     "start_time": "2021-10-13T07:22:51.235503Z"
    }
   },
   "outputs": [],
   "source": [
    "MAXI_AGN_namelist=[]\n",
    "files=os.listdir(AGN_MAXIdata_dir)\n",
    "for file in files:\n",
    "    if file.endswith('.dat'):\n",
    "        #print(file[:-18])\n",
    "        if file[:-18] not in MAXI_AGN_namelist:\n",
    "            MAXI_AGN_namelist.append(file[:-18])"
   ]
  },
  {
   "cell_type": "code",
   "execution_count": null,
   "metadata": {
    "ExecuteTime": {
     "end_time": "2021-10-13T07:22:52.059707Z",
     "start_time": "2021-10-13T07:22:52.048779Z"
    }
   },
   "outputs": [],
   "source": [
    "for i in MAXI_AGN_namelist:\n",
    "    if i in CLAGN_210919['Name'].values:\n",
    "        print(i)"
   ]
  },
  {
   "cell_type": "code",
   "execution_count": null,
   "metadata": {},
   "outputs": [],
   "source": []
  },
  {
   "cell_type": "code",
   "execution_count": null,
   "metadata": {},
   "outputs": [],
   "source": []
  },
  {
   "cell_type": "markdown",
   "metadata": {},
   "source": [
    "### LLAGN_gu2009"
   ]
  },
  {
   "cell_type": "code",
   "execution_count": 23,
   "metadata": {
    "ExecuteTime": {
     "end_time": "2021-11-09T13:54:32.188902Z",
     "start_time": "2021-11-09T13:54:32.176893Z"
    }
   },
   "outputs": [],
   "source": [
    "def get_LLAGNwise_data(name_test,datawise_dir):\n",
    "    #print(name_test)\n",
    "    search_name=name_test.replace(' ','') \n",
    "    save_name=name_test\n",
    "\n",
    "    data_test_neo=pd.read_csv(os.path.join(datawise_dir,'wise_%s_neo.csv'%save_name))\n",
    "    data_test_neo=data_test_neo[data_test_neo['w1mpro'].notnull()]\n",
    "    data_test_neo=data_test_neo[data_test_neo['w2mpro'].notnull()]\n",
    "    data_test_neo=data_test_neo[data_test_neo['w1sigmpro'].notnull()]\n",
    "    data_test_neo=data_test_neo[data_test_neo['w2sigmpro'].notnull()]\n",
    "    data_test_neo=data_test_neo[data_test_neo['w1mpro']<15]\n",
    "    data_test_neo=data_test_neo[data_test_neo['w2mpro']<13]  \n",
    "    #data_test_neo=data_test_neo[data_test_neo['w1rchi2']<2]\n",
    "    #data_test_neo=data_test_neo[data_test_neo['w2rchi2']<2]\n",
    "    data_test_neo=data_test_neo[data_test_neo['cc_flags']==\"b'0000'\"]\n",
    "    data_test_neo=data_test_neo[data_test_neo['nb']<3]\n",
    "    data_test_neo=data_test_neo[data_test_neo['na']==0] \n",
    "    \n",
    "    data_test_neo=data_test_neo[data_test_neo['qual_frame']>0]\n",
    "    #print(len(data_test_neo))\n",
    "    data_test_neo=(data_test_neo.loc[:, ['mjd', 'w1mpro','w2mpro',\n",
    "                                 'w1sigmpro','w2sigmpro',\n",
    "                                 ]].sort_values('mjd'))\n",
    "\n",
    "    data_test_neo=data_test_neo.reset_index(drop=True)\n",
    "    #print(data_test_neo.columns)\n",
    "\n",
    "    data_test_mep=pd.read_csv(os.path.join(datawise_dir,'wise_%s_mep.csv'%save_name))\n",
    "    data_test_mep=data_test_mep[data_test_mep['w1mpro_ep'].notnull()]\n",
    "    data_test_mep=data_test_mep[data_test_mep['w2mpro_ep'].notnull()]\n",
    "    data_test_mep=data_test_mep[data_test_mep['w1sigmpro_ep'].notnull()]\n",
    "    data_test_mep=data_test_mep[data_test_mep['w2sigmpro_ep'].notnull()]\n",
    "    #data_test_mep=data_test_mep[data_test_mep['qual_frame']>5]\n",
    "    data_test_mep=data_test_mep[data_test_mep['qi_fact']>0]\n",
    "    data_test_mep=data_test_mep[data_test_mep['saa_sep']>0]\n",
    "    data_test_mep=data_test_mep[data_test_mep['cc_flags']==\"b'0000'\"]\n",
    "    data_test_mep=data_test_mep[data_test_mep['nb']<3]\n",
    "    data_test_mep=data_test_mep[data_test_mep['na']==0] \n",
    "\n",
    "    #print(len(data_test_mep))\n",
    "    data_test_mep=(data_test_mep.loc[:, ['mjd', 'w1mpro_ep','w2mpro_ep',\n",
    "                                         'w1sigmpro_ep','w2sigmpro_ep',\n",
    "                                         ]].sort_values('mjd'))\n",
    "\n",
    "    data_test_mep=data_test_mep.reset_index(drop=True)\n",
    "    #print(data_test_mep.columns)\n",
    "    #if not os.path.exists(save_lc_img_path):\n",
    "      \n",
    "    return data_test_neo,data_test_mep\n",
    "    "
   ]
  },
  {
   "cell_type": "code",
   "execution_count": 24,
   "metadata": {
    "ExecuteTime": {
     "end_time": "2021-11-09T13:54:34.783726Z",
     "start_time": "2021-11-09T13:54:34.738870Z"
    }
   },
   "outputs": [
    {
     "name": "stdout",
     "output_type": "stream",
     "text": [
      "49\n"
     ]
    }
   ],
   "source": [
    "LLAGN_gu2009=pd.read_excel('/Users/brettlv/blog/IHEP_sync/data/AGNmass/LLAGN_QSO/LLAGN_Gu2009.xlsx',sheet_name='Sheet1')\n",
    "LLAGN_gu2009=LLAGN_gu2009[LLAGN_gu2009['CLAGN?'].isnull()]\n",
    "LLAGN_gu2009=drop_index(LLAGN_gu2009)\n",
    "print(len(LLAGN_gu2009))\n",
    "\n",
    "for index,(name_,z_) in enumerate(zip(LLAGN_gu2009['Name'],LLAGN_gu2009['z'])):\n",
    "    if name_ =='NGC 3031':\n",
    "        LLAGN_gu2009.loc[index,'D_cm']=3.5*u.Mpc.to(u.cm)\n",
    "        #print(name_,3.5*u.Mpc.to(u.cm))\n",
    "    else:\n",
    "        #print(name_, '%.6f'%z_)\n",
    "        D_cm=cosmo.luminosity_distance(z_).to(u.cm).value\n",
    "        #print(D_cm)\n",
    "        LLAGN_gu2009.loc[index,'D_cm']=D_cm "
   ]
  },
  {
   "cell_type": "code",
   "execution_count": 25,
   "metadata": {
    "ExecuteTime": {
     "end_time": "2021-11-09T13:54:35.525355Z",
     "start_time": "2021-11-09T13:54:35.520641Z"
    }
   },
   "outputs": [
    {
     "data": {
      "text/plain": [
       "Index(['Name', 'z', 'Sat', '(2–10 keV)', 'log L2−10keV', 'References',\n",
       "       '∗ log MBH', 'References.1', 'Type', 'CLAGN?', 'D_cm'],\n",
       "      dtype='object')"
      ]
     },
     "execution_count": 25,
     "metadata": {},
     "output_type": "execute_result"
    }
   ],
   "source": [
    "LLAGN_gu2009.columns"
   ]
  },
  {
   "cell_type": "code",
   "execution_count": null,
   "metadata": {
    "ExecuteTime": {
     "end_time": "2021-10-14T03:05:49.907544Z",
     "start_time": "2021-10-14T03:05:49.900664Z"
    }
   },
   "outputs": [],
   "source": [
    "np.mean(LLAGN_gu2009['log L2−10keV']+np.log10(30)-LLAGN_gu2009['∗ log MBH']-np.log10(1.263*10**38))"
   ]
  },
  {
   "cell_type": "markdown",
   "metadata": {
    "ExecuteTime": {
     "end_time": "2021-10-07T02:49:35.018875Z",
     "start_time": "2021-10-07T02:49:35.005387Z"
    }
   },
   "source": [
    "LLAGN_gu2009[['Name','D_cm']]"
   ]
  },
  {
   "cell_type": "code",
   "execution_count": null,
   "metadata": {
    "ExecuteTime": {
     "end_time": "2021-10-14T03:05:52.402661Z",
     "start_time": "2021-10-14T03:05:52.397795Z"
    }
   },
   "outputs": [],
   "source": [
    "LLAGN_gu2009.columns"
   ]
  },
  {
   "cell_type": "code",
   "execution_count": 26,
   "metadata": {
    "ExecuteTime": {
     "end_time": "2021-11-09T13:54:46.221753Z",
     "start_time": "2021-11-09T13:54:44.650181Z"
    },
    "code_folding": []
   },
   "outputs": [],
   "source": [
    "epsilon_s_w1=0.024\n",
    "epsilon_s_w2=0.028\n",
    "\n",
    "for index,name_test in enumerate(LLAGN_gu2009['Name']): \n",
    "    #print(name_test)\n",
    "    search_name=name_test.replace(' ','') \n",
    "    save_name=name_test\n",
    "    \n",
    "    LLAGN_wisedata_dir='%s/wise_data_search/LLAGN'%AGN_wisedata_dir\n",
    "    data_test_neo,data_test_mep= get_LLAGNwise_data(name_test,datawise_dir=LLAGN_wisedata_dir)\n",
    "    \n",
    "    if len(data_test_neo)>2:\n",
    "        mag_label='w1mpro'\n",
    "        magerr_label='w1sigmpro'\n",
    "        epsilon_s=epsilon_s_w1\n",
    "\n",
    "        pearson_coeff,p_value=pearsonr(data_test_neo['w1mpro'],data_test_neo['w2mpro'])\n",
    "        LLAGN_gu2009.loc[index,'pearson_coeff_neo']=pearson_coeff\n",
    "\n",
    "        sigma_m_w1=get_intrinsic_var(data_test_neo,mag_label,magerr_label,epsilon_s)\n",
    "        LLAGN_gu2009.loc[index,'sigma_m_w1_neo']=sigma_m_w1\n",
    "        \n",
    "        mags=data_test_neo[mag_label]\n",
    "        e_mags=data_test_neo[magerr_label]\n",
    "        \n",
    "        LLAGN_gu2009.loc[index,'mean_m_w1_neo']=get_mag_weighted_mean_mag(mags,e_mags)\n",
    "        LLAGN_gu2009.loc[index,'mean_e_m_w1_neo']=get_mag_weighted_mean_e_mag(mags,e_mags)\n",
    "\n",
    "\n",
    "        mag_label='w2mpro'\n",
    "        magerr_label='w2sigmpro'\n",
    "        epsilon_s=epsilon_s_w2\n",
    "        sigma_m_w2=get_intrinsic_var(data_test_neo,mag_label,magerr_label,epsilon_s)\n",
    "        LLAGN_gu2009.loc[index,'sigma_m_w2_neo']=sigma_m_w2\n",
    "        \n",
    "        mags=data_test_neo[mag_label]\n",
    "        e_mags=data_test_neo[magerr_label]\n",
    "        \n",
    "        LLAGN_gu2009.loc[index,'mean_m_w2_neo']=get_mag_weighted_mean_mag(mags,e_mags)\n",
    "        LLAGN_gu2009.loc[index,'mean_e_m_w2_neo']=get_mag_weighted_mean_e_mag(mags,e_mags)\n",
    "        \n",
    "        LLAGN_gu2009.loc[index,'len_neo']=len(data_test_neo)\n",
    "        LLAGN_gu2009.loc[index,'W1-W2']=np.average(data_test_neo['w1mpro']-data_test_neo['w2mpro'])\n",
    "\n",
    "\n",
    "    else:\n",
    "        LLAGN_gu2009.loc[index,'len_neo']=0  "
   ]
  },
  {
   "cell_type": "code",
   "execution_count": 27,
   "metadata": {
    "ExecuteTime": {
     "end_time": "2021-11-09T13:54:46.229594Z",
     "start_time": "2021-11-09T13:54:46.224099Z"
    }
   },
   "outputs": [
    {
     "data": {
      "text/plain": [
       "Index(['Name', 'z', 'Sat', '(2–10 keV)', 'log L2−10keV', 'References',\n",
       "       '∗ log MBH', 'References.1', 'Type', 'CLAGN?', 'D_cm',\n",
       "       'pearson_coeff_neo', 'sigma_m_w1_neo', 'mean_m_w1_neo',\n",
       "       'mean_e_m_w1_neo', 'sigma_m_w2_neo', 'mean_m_w2_neo', 'mean_e_m_w2_neo',\n",
       "       'len_neo', 'W1-W2'],\n",
       "      dtype='object')"
      ]
     },
     "execution_count": 27,
     "metadata": {},
     "output_type": "execute_result"
    }
   ],
   "source": [
    "LLAGN_gu2009.columns"
   ]
  },
  {
   "cell_type": "code",
   "execution_count": 28,
   "metadata": {
    "ExecuteTime": {
     "end_time": "2021-11-09T13:54:47.104179Z",
     "start_time": "2021-11-09T13:54:47.090819Z"
    }
   },
   "outputs": [],
   "source": [
    "LLAGN_gu2009['logL_W1']= (-48.6-LLAGN_gu2009['mean_m_w1_neo']-2.699)/2.5+np.log10(4*np.pi*LLAGN_gu2009['D_cm']**2)+np.log10((constants.c/(3.4*u.um)).to(u.Hz).value)\n",
    "LLAGN_gu2009['logL_W2']= (-48.6-LLAGN_gu2009['mean_m_w2_neo']-3.339)/2.5+np.log10(4*np.pi*LLAGN_gu2009['D_cm']**2)+np.log10((constants.c/(4.6*u.um)).to(u.Hz).value)\n",
    "\n",
    "\n",
    "LLAGN_gu2009['e_logL_W1'] =   LLAGN_gu2009['mean_e_m_w1_neo']/2.5\n",
    "LLAGN_gu2009['e_logL_W2'] =   LLAGN_gu2009['mean_e_m_w2_neo']/2.5\n",
    "    \n",
    "    \n",
    "LLAGN_gu2009['logL_W1/Ledd']=LLAGN_gu2009['logL_W1']-LLAGN_gu2009['∗ log MBH']-np.log10(1.263e38)\n",
    "LLAGN_gu2009['logL_W2/Ledd']=LLAGN_gu2009['logL_W2']-LLAGN_gu2009['∗ log MBH']-np.log10(1.263e38)\n"
   ]
  },
  {
   "cell_type": "code",
   "execution_count": 29,
   "metadata": {
    "ExecuteTime": {
     "end_time": "2021-11-09T13:54:48.076417Z",
     "start_time": "2021-11-09T13:54:48.070778Z"
    }
   },
   "outputs": [
    {
     "data": {
      "text/plain": [
       "-3.454805332934524"
      ]
     },
     "execution_count": 29,
     "metadata": {},
     "output_type": "execute_result"
    }
   ],
   "source": [
    "np.mean(LLAGN_gu2009['logL_W1']-LLAGN_gu2009['∗ log MBH']-np.log10(1.263*10**38))"
   ]
  },
  {
   "cell_type": "code",
   "execution_count": null,
   "metadata": {
    "ExecuteTime": {
     "end_time": "2021-10-14T03:05:57.621634Z",
     "start_time": "2021-10-14T03:05:57.617691Z"
    }
   },
   "outputs": [],
   "source": [
    "10**-3.454"
   ]
  },
  {
   "cell_type": "code",
   "execution_count": null,
   "metadata": {
    "ExecuteTime": {
     "end_time": "2021-10-12T03:28:58.939442Z",
     "start_time": "2021-10-12T03:28:58.935123Z"
    }
   },
   "outputs": [],
   "source": [
    "CLAGN_statistic_plot_dir"
   ]
  },
  {
   "cell_type": "code",
   "execution_count": null,
   "metadata": {
    "ExecuteTime": {
     "end_time": "2021-10-12T03:29:00.840792Z",
     "start_time": "2021-10-12T03:29:00.835567Z"
    }
   },
   "outputs": [],
   "source": [
    "LLAGN_gu2009.columns"
   ]
  },
  {
   "cell_type": "code",
   "execution_count": null,
   "metadata": {
    "ExecuteTime": {
     "end_time": "2021-10-14T03:09:19.770596Z",
     "start_time": "2021-10-14T03:09:19.759657Z"
    }
   },
   "outputs": [],
   "source": [
    "LLAGN_gu2009.to_csv('%s/LLAGN_gu2009.csv'%CLAGN_statistic_plot_dir,index=False)"
   ]
  },
  {
   "cell_type": "markdown",
   "metadata": {},
   "source": [
    "### QSO"
   ]
  },
  {
   "cell_type": "code",
   "execution_count": 30,
   "metadata": {
    "ExecuteTime": {
     "end_time": "2021-11-09T13:54:55.693664Z",
     "start_time": "2021-11-09T13:54:55.673114Z"
    }
   },
   "outputs": [],
   "source": [
    "QSO=pd.read_csv('%s/QSOtable.txt'%AGN_wisedata_dir,delimiter='|',header=None)\n",
    "QSO.columns=['Name', 'redshift', 'FWHM_Halpha', 'lg(LHalpha)', 'lg(L_Mbh)']#\n",
    "#Irsa.ROW_LIMIT = 1000 # value of new row limit here.\n",
    "#Irsa.TIMEOUT = 120"
   ]
  },
  {
   "cell_type": "code",
   "execution_count": 31,
   "metadata": {
    "ExecuteTime": {
     "end_time": "2021-11-09T13:54:56.515569Z",
     "start_time": "2021-11-09T13:54:56.506954Z"
    }
   },
   "outputs": [],
   "source": [
    "def get_QSOwise_data(name_test,datawise_dir):\n",
    "    #print(name_test)\n",
    "    search_name='SDSS'+name_test.replace(' ','')\n",
    "    save_name='SDSS '+name_test.replace(' ','')\n",
    "\n",
    "    data_test_neo=pd.read_csv(os.path.join(datawise_dir,'wise_%s_neo.csv'%save_name))\n",
    "    data_test_neo=data_test_neo[data_test_neo['w1mpro'].notnull()]\n",
    "    data_test_neo=data_test_neo[data_test_neo['w2mpro'].notnull()]\n",
    "    data_test_neo=data_test_neo[data_test_neo['w1sigmpro'].notnull()]\n",
    "    data_test_neo=data_test_neo[data_test_neo['w2sigmpro'].notnull()]\n",
    "    data_test_neo=data_test_neo[data_test_neo['w1mpro']<15]\n",
    "    data_test_neo=data_test_neo[data_test_neo['w2mpro']<13]  \n",
    "    #data_test_neo=data_test_neo[data_test_neo['w1rchi2']<2]\n",
    "    #data_test_neo=data_test_neo[data_test_neo['w2rchi2']<2]\n",
    "    data_test_neo=data_test_neo[data_test_neo['cc_flags']==\"b'0000'\"]\n",
    "    data_test_neo=data_test_neo[data_test_neo['nb']<3]\n",
    "    data_test_neo=data_test_neo[data_test_neo['na']==0] \n",
    "    \n",
    "    data_test_neo=data_test_neo[data_test_neo['qual_frame']>0]\n",
    "    #print(len(data_test_neo))\n",
    "    data_test_neo=(data_test_neo.loc[:, ['mjd', 'w1mpro','w2mpro',\n",
    "                                 'w1sigmpro','w2sigmpro',\n",
    "                                 ]].sort_values('mjd'))\n",
    "\n",
    "    data_test_neo=data_test_neo.reset_index(drop=True)\n",
    "    #print(data_test_neo.columns)\n",
    "\n",
    "    data_test_mep=pd.read_csv(os.path.join(datawise_dir,'wise_%s_mep.csv'%save_name))\n",
    "    data_test_mep=data_test_mep[data_test_mep['w1mpro_ep'].notnull()]\n",
    "    data_test_mep=data_test_mep[data_test_mep['w2mpro_ep'].notnull()]\n",
    "    data_test_mep=data_test_mep[data_test_mep['w1sigmpro_ep'].notnull()]\n",
    "    data_test_mep=data_test_mep[data_test_mep['w2sigmpro_ep'].notnull()]\n",
    "    #data_test_mep=data_test_mep[data_test_mep['qual_frame']>5]\n",
    "    data_test_mep=data_test_mep[data_test_mep['qi_fact']>0]\n",
    "    data_test_mep=data_test_mep[data_test_mep['saa_sep']>0]\n",
    "    data_test_mep=data_test_mep[data_test_mep['cc_flags']==\"b'0000'\"]\n",
    "    data_test_mep=data_test_mep[data_test_mep['nb']<3]\n",
    "    data_test_mep=data_test_mep[data_test_mep['na']==0] \n",
    "\n",
    "    #print(len(data_test_mep))\n",
    "    data_test_mep=(data_test_mep.loc[:, ['mjd', 'w1mpro_ep','w2mpro_ep',\n",
    "                                         'w1sigmpro_ep','w2sigmpro_ep',\n",
    "                                         ]].sort_values('mjd'))\n",
    "\n",
    "    data_test_mep=data_test_mep.reset_index(drop=True)\n",
    "    #print(data_test_mep.columns)\n",
    "    #if not os.path.exists(save_lc_img_path):\n",
    "      \n",
    "    return data_test_neo,data_test_mep\n",
    "    "
   ]
  },
  {
   "cell_type": "code",
   "execution_count": 32,
   "metadata": {
    "ExecuteTime": {
     "end_time": "2021-11-09T13:58:12.315908Z",
     "start_time": "2021-11-09T13:55:08.709669Z"
    }
   },
   "outputs": [],
   "source": [
    "epsilon_s_w1=0.024\n",
    "epsilon_s_w2=0.028\n",
    "\n",
    "for index,name in enumerate(QSO['Name']):\n",
    "    #print(i)\n",
    "    search_name='SDSS'+name.replace(' ','')\n",
    "    save_name='SDSS '+name.replace(' ','') \n",
    "    \n",
    "    QSO_wisedata_dir='%s/wise_data_search/QSO'%AGN_wisedata_dir\n",
    "    data_test_neo,data_test_mep= get_QSOwise_data(name,datawise_dir=QSO_wisedata_dir)\n",
    "    \n",
    "    if len(data_test_neo)>2:\n",
    "        mag_label='w1mpro'\n",
    "        magerr_label='w1sigmpro'\n",
    "        epsilon_s=epsilon_s_w1\n",
    "\n",
    "        pearson_coeff,p_value=pearsonr(data_test_neo['w1mpro'],data_test_neo['w2mpro'])\n",
    "        QSO.loc[index,'pearson_coeff_neo']=pearson_coeff\n",
    "\n",
    "        sigma_m_w1=get_intrinsic_var(data_test_neo,mag_label,magerr_label,epsilon_s)\n",
    "        QSO.loc[index,'sigma_m_w1_neo']=sigma_m_w1\n",
    "        \n",
    "        mags=data_test_neo[mag_label]\n",
    "        e_mags=data_test_neo[magerr_label]\n",
    "        \n",
    "        QSO.loc[index,'mean_m_w1_neo']=get_mag_weighted_mean_mag(mags,e_mags)\n",
    "        QSO.loc[index,'mean_e_m_w1_neo']=get_mag_weighted_mean_e_mag(mags,e_mags)\n",
    "\n",
    "\n",
    "        mag_label='w2mpro'\n",
    "        magerr_label='w2sigmpro'\n",
    "        epsilon_s=epsilon_s_w2\n",
    "        sigma_m_w2=get_intrinsic_var(data_test_neo,mag_label,magerr_label,epsilon_s)\n",
    "        QSO.loc[index,'sigma_m_w2_neo']=sigma_m_w2\n",
    "        \n",
    "        mags=data_test_neo[mag_label]\n",
    "        e_mags=data_test_neo[magerr_label]\n",
    "        \n",
    "        QSO.loc[index,'mean_m_w2_neo']=get_mag_weighted_mean_mag(mags,e_mags)\n",
    "        QSO.loc[index,'mean_e_m_w2_neo']=get_mag_weighted_mean_e_mag(mags,e_mags)\n",
    "        \n",
    "        QSO.loc[index,'len_neo']=len(data_test_neo)\n",
    "        QSO.loc[index,'W1-W2']=np.average(data_test_neo['w1mpro']-data_test_neo['w2mpro'])\n",
    "\n",
    "\n",
    "    else:\n",
    "        QSO.loc[index,'len_neo']=0  "
   ]
  },
  {
   "cell_type": "code",
   "execution_count": 33,
   "metadata": {
    "ExecuteTime": {
     "end_time": "2021-11-09T13:58:12.324466Z",
     "start_time": "2021-11-09T13:58:12.318268Z"
    }
   },
   "outputs": [],
   "source": [
    "QSO_select=QSO[QSO['len_neo']>20]\n",
    "#QSO_select=QSO_select[QSO_select['pearson_coeff_neo']>0.8]\n",
    "QSO_select=drop_index(QSO_select)"
   ]
  },
  {
   "cell_type": "code",
   "execution_count": 34,
   "metadata": {
    "ExecuteTime": {
     "end_time": "2021-11-09T13:58:12.346920Z",
     "start_time": "2021-11-09T13:58:12.327529Z"
    }
   },
   "outputs": [],
   "source": [
    "QSO_select['log(L5100)']=(QSO_select['lg(LHalpha)']-np.log10(5.25)-42)/1.157+44\n",
    "QSO_select['log(Lbol)']=np.log10(9)+QSO_select['log(L5100)']\n",
    "QSO_select['log(Ledd)']=np.log10(1.263*10**38)+QSO_select['lg(L_Mbh)']\n",
    "QSO_select['log(Lbol/Ledd)']=QSO_select['log(Lbol)']-QSO_select['log(Ledd)']\n",
    "#print(QSO_select.columns)\n",
    "#D_cm_QSO_select=cosmo.luminosity_distance(z=QSO_select['redshift']).to(u.cm)\n",
    "QSO_select['D_cm']=cosmo.luminosity_distance(z=QSO_select['redshift']).to(u.cm)\n",
    "QSO_select['logL_W1']= (-48.6-QSO_select['mean_m_w1_neo']-2.699)/2.5+np.log10(4*np.pi*QSO_select['D_cm']**2)+np.log10((constants.c/(3.4*u.um)).to(u.Hz).value)\n",
    "QSO_select['logL_W2']= (-48.6-QSO_select['mean_m_w2_neo']-3.339)/2.5+np.log10(4*np.pi*QSO_select['D_cm']**2)+np.log10((constants.c/(4.6*u.um)).to(u.Hz).value)"
   ]
  },
  {
   "cell_type": "code",
   "execution_count": null,
   "metadata": {
    "ExecuteTime": {
     "end_time": "2021-10-14T03:09:19.756942Z",
     "start_time": "2021-10-14T03:09:19.716861Z"
    }
   },
   "outputs": [],
   "source": [
    "QSO_select.to_csv('%s/QSO_select_wise_var.csv'%CLAGN_statistic_plot_dir,index=False)"
   ]
  },
  {
   "cell_type": "markdown",
   "metadata": {
    "ExecuteTime": {
     "end_time": "2021-10-07T07:32:18.206966Z",
     "start_time": "2021-10-07T07:32:18.062923Z"
    }
   },
   "source": [
    "QSO.to_csv('%s/QSO_wise_var.csv'%CLAGN_statistic_plot_dir)"
   ]
  },
  {
   "cell_type": "code",
   "execution_count": 59,
   "metadata": {
    "ExecuteTime": {
     "end_time": "2021-11-20T04:54:55.963276Z",
     "start_time": "2021-11-20T04:54:55.951324Z"
    }
   },
   "outputs": [
    {
     "data": {
      "text/plain": [
       "(857, 762, 732)"
      ]
     },
     "execution_count": 59,
     "metadata": {},
     "output_type": "execute_result"
    }
   ],
   "source": [
    "len(QSO[QSO['len_neo']>2]),len(QSO[QSO['len_neo']>10]),len(QSO[QSO['len_neo']>20])"
   ]
  },
  {
   "cell_type": "code",
   "execution_count": null,
   "metadata": {
    "ExecuteTime": {
     "end_time": "2021-10-07T08:55:54.007148Z",
     "start_time": "2021-10-07T08:55:54.002488Z"
    }
   },
   "outputs": [],
   "source": [
    "10**(np.mean(QSO_select['log(Lbol/Ledd)']))"
   ]
  },
  {
   "cell_type": "code",
   "execution_count": null,
   "metadata": {
    "ExecuteTime": {
     "end_time": "2021-10-07T08:56:22.874381Z",
     "start_time": "2021-10-07T08:56:22.868050Z"
    }
   },
   "outputs": [],
   "source": [
    "10**(np.mean(QSO_select['log(Lbol/Ledd)']))/10**(np.mean(QSO_select['logL_W1']-np.log10(1.263*10**38)-QSO_select['lg(L_Mbh)']))"
   ]
  },
  {
   "cell_type": "code",
   "execution_count": null,
   "metadata": {},
   "outputs": [],
   "source": []
  },
  {
   "cell_type": "markdown",
   "metadata": {},
   "source": [
    "## def get_minmax_mag_name_one"
   ]
  },
  {
   "cell_type": "code",
   "execution_count": 35,
   "metadata": {
    "ExecuteTime": {
     "end_time": "2021-11-09T14:00:46.267139Z",
     "start_time": "2021-11-09T14:00:46.261242Z"
    }
   },
   "outputs": [],
   "source": [
    "def get_minmax_mag_name_one(name_test,data_test_neo,data_test_mep):    \n",
    "    maxmag=0\n",
    "    minmag=15\n",
    "    maxmag_var=0 \n",
    "    \n",
    "    if len(data_test_neo)>20:    \n",
    "        mean_mjds_neo,mean_mags_neo,mean_mags_e_neo=median_lc(data_test_neo,'mjd','w1mpro','w1sigmpro',interval=180,)\n",
    "        maxmag=max(max(mean_mags_neo),maxmag)  \n",
    "        minmag=min(min(mean_mags_neo),minmag)  \n",
    "    \n",
    "    if len(data_test_mep)>5: \n",
    "        mean_mjds_mep,mean_mags_mep,mean_mags_e_mep=median_lc(data_test_mep,'mjd','w1mpro_ep','w1sigmpro_ep',interval=180,)\n",
    "        maxmag=max(max(mean_mags_mep),maxmag)  \n",
    "        minmag=min(min(mean_mags_mep),minmag) \n",
    "        \n",
    "    maxmag_var=maxmag-minmag\n",
    "    return maxmag_var           "
   ]
  },
  {
   "cell_type": "code",
   "execution_count": null,
   "metadata": {
    "ExecuteTime": {
     "end_time": "2021-10-13T07:23:23.791491Z",
     "start_time": "2021-10-13T07:23:13.107768Z"
    },
    "scrolled": true
   },
   "outputs": [],
   "source": [
    "wisename_varlists5=[]\n",
    "for index,name_test in enumerate(CLAGN_210919['Name']): \n",
    "    #print(name_test)\n",
    "    search_name=name_test.replace(' ','') \n",
    "    save_name=search_name.strip()\n",
    "    data_test_neo,data_test_mep= get_wise_data(name_test,datawise_dir='/Users/brettlv/blog/brettlv.github.io/pythoncode/changinglookAGN/CLAGN_wise_data/')\n",
    "    maxmag_var=get_minmax_mag_name_one(name_test,data_test_neo,data_test_mep)\n",
    "    \n",
    "    if maxmag_var > 0.5:\n",
    "        print(save_name,'%.2f'%maxmag_var,CLAGN_210919.loc[index,'OX'])\n",
    "        wisename_varlists5.append(save_name)"
   ]
  },
  {
   "cell_type": "code",
   "execution_count": null,
   "metadata": {
    "ExecuteTime": {
     "end_time": "2021-10-07T02:54:31.511992Z",
     "start_time": "2021-10-07T02:54:31.507925Z"
    }
   },
   "outputs": [],
   "source": [
    "len(wisename_varlists5)"
   ]
  },
  {
   "cell_type": "code",
   "execution_count": null,
   "metadata": {
    "ExecuteTime": {
     "end_time": "2021-10-07T02:54:55.858944Z",
     "start_time": "2021-10-07T02:54:46.549151Z"
    }
   },
   "outputs": [],
   "source": [
    "wisename_varlists6=[]\n",
    "for index,name_test in enumerate(CLAGN_210919['Name']): \n",
    "    #print(name_test)\n",
    "    search_name=name_test.replace(' ','') \n",
    "    save_name=search_name.strip()\n",
    "    data_test_neo,data_test_mep= get_wise_data(name_test,datawise_dir='/Users/brettlv/blog/brettlv.github.io/pythoncode/changinglookAGN/CLAGN_wise_data/')\n",
    "    maxmag_var=get_minmax_mag_name_one(name_test,data_test_neo,data_test_mep)\n",
    "    \n",
    "    if maxmag_var > 0.6:\n",
    "        print(save_name,'%.2f'%maxmag_var,CLAGN_210919.loc[index,'OX'])\n",
    "        wisename_varlists6.append(save_name)"
   ]
  },
  {
   "cell_type": "code",
   "execution_count": null,
   "metadata": {
    "ExecuteTime": {
     "end_time": "2021-10-07T02:55:30.589536Z",
     "start_time": "2021-10-07T02:55:30.585294Z"
    }
   },
   "outputs": [],
   "source": [
    "len(wisename_varlists6)"
   ]
  },
  {
   "cell_type": "code",
   "execution_count": null,
   "metadata": {
    "ExecuteTime": {
     "end_time": "2021-10-07T02:55:43.297451Z",
     "start_time": "2021-10-07T02:55:34.694228Z"
    }
   },
   "outputs": [],
   "source": [
    "wisename_varlists10=[]\n",
    "for index,name_test in enumerate(CLAGN_210919['Name']): \n",
    "    #print(name_test)\n",
    "    search_name=name_test.replace(' ','') \n",
    "    save_name=search_name.strip()\n",
    "    data_test_neo,data_test_mep= get_wise_data(name_test,datawise_dir='/Users/brettlv/blog/brettlv.github.io/pythoncode/changinglookAGN/CLAGN_wise_data/')\n",
    "    maxmag_var=get_minmax_mag_name_one(name_test,data_test_neo,data_test_mep)\n",
    "    \n",
    "    if maxmag_var > 1.0:\n",
    "        print(save_name,'%.2f'%maxmag_var,CLAGN_210919.loc[index,'OX'])\n",
    "        wisename_varlists10.append(save_name)"
   ]
  },
  {
   "cell_type": "code",
   "execution_count": null,
   "metadata": {},
   "outputs": [],
   "source": []
  },
  {
   "cell_type": "markdown",
   "metadata": {},
   "source": [
    "## def get_rebinwise_data"
   ]
  },
  {
   "cell_type": "code",
   "execution_count": 36,
   "metadata": {
    "ExecuteTime": {
     "end_time": "2021-11-09T14:00:51.761954Z",
     "start_time": "2021-11-09T14:00:51.753635Z"
    }
   },
   "outputs": [],
   "source": [
    "def get_rebinwise_data(data_test_neo,data_test_mep,sigma_outlier=10):\n",
    "    #print(name_test)\n",
    "    #search_name=name_test.replace(' ','') \n",
    "    #save_name=search_name.strip()\n",
    "    data_rebin_neo=pd.DataFrame([])\n",
    "    data_rebin_mep=pd.DataFrame([])\n",
    "    \n",
    "    timelabel,maglabel,e_maglabel=('mjd','w1mpro','w1sigmpro')\n",
    "    band='W1'\n",
    "    mean_mjds,mean_mags,mean_mags_e=median_lc(data_test_neo,timelabel,maglabel,e_maglabel,interval=180,sigma_outlier=sigma_outlier)\n",
    "\n",
    "    data_rebin_neo['t_W1']=mean_mjds\n",
    "    data_rebin_neo['W1']=mean_mags\n",
    "    data_rebin_neo['e_W1']=mean_mags_e\n",
    "    \n",
    "    timelabel,maglabel,e_maglabel=('mjd','w2mpro','w2sigmpro')\n",
    "    band='W2' \n",
    "    mean_mjds,mean_mags,mean_mags_e=median_lc(data_test_neo,timelabel,maglabel,e_maglabel,interval=180,sigma_outlier=sigma_outlier)\n",
    "    \n",
    "    data_rebin_neo['t_W2']=mean_mjds\n",
    "    data_rebin_neo['W2']=mean_mags\n",
    "    data_rebin_neo['e_W2']=mean_mags_e\n",
    "    \n",
    "#############################################################\n",
    "    timelabel,maglabel,e_maglabel=('mjd','w1mpro_ep','w1sigmpro_ep')\n",
    "    band='W1'\n",
    "    mean_mjds,mean_mags,mean_mags_e=median_lc(data_test_mep,timelabel,maglabel,e_maglabel,interval=180,sigma_outlier=sigma_outlier)\n",
    "\n",
    "    data_rebin_mep['t_W1']=mean_mjds\n",
    "    data_rebin_mep['W1']=mean_mags\n",
    "    data_rebin_mep['e_W1']=mean_mags_e\n",
    "    \n",
    "    timelabel,maglabel,e_maglabel=('mjd','w2mpro_ep','w2sigmpro_ep')\n",
    "    band='W2' \n",
    "    mean_mjds,mean_mags,mean_mags_e=median_lc(data_test_mep,timelabel,maglabel,e_maglabel,interval=180,sigma_outlier=sigma_outlier)\n",
    "    \n",
    "    data_rebin_mep['t_W2']=mean_mjds\n",
    "    data_rebin_mep['W2']=mean_mags\n",
    "    data_rebin_mep['e_W2']=mean_mags_e\n",
    "        \n",
    "        \n",
    "    return data_rebin_neo,data_rebin_mep\n",
    "    "
   ]
  },
  {
   "cell_type": "markdown",
   "metadata": {
    "ExecuteTime": {
     "end_time": "2021-09-26T07:16:25.993631Z",
     "start_time": "2021-09-26T07:16:25.991074Z"
    }
   },
   "source": [
    "## plot_mag_"
   ]
  },
  {
   "cell_type": "code",
   "execution_count": 37,
   "metadata": {
    "ExecuteTime": {
     "end_time": "2021-11-09T14:00:53.912116Z",
     "start_time": "2021-11-09T14:00:53.900785Z"
    }
   },
   "outputs": [],
   "source": [
    "def plot_mag_w1(ax,data_test_neo,data_test_mep):\n",
    "    if len(data_test_neo)>0:\n",
    "        ax.errorbar(data_test_neo['mjd'],data_test_neo['w1mpro'],data_test_neo['w1sigmpro'],ls='',marker='.',color='black',label='W1',zorder=0)\n",
    "    if len(data_test_mep)>0:    \n",
    "        ax.errorbar(data_test_mep['mjd'],data_test_mep['w1mpro_ep'],data_test_mep['w1sigmpro_ep'],ls='',marker='.',color='black',label='W1',zorder=0)\n",
    "    #ax.scatter(data_test_neo_w1_outlier['mjd'],data_test_neo_w1_outlier['w1mpro'],marker='.',color='red',zorder=1)\n",
    "    #ax.scatter(data_test_mep_w1_outlier['mjd'],data_test_mep_w1_outlier['w1mpro_ep'],marker='.',color='red',zorder=1)\n",
    "\n",
    "def plot_mag_w2(ax,data_test_neo,data_test_mep):\n",
    "    if len(data_test_neo)>0:\n",
    "        ax.errorbar(data_test_neo['mjd'],data_test_neo['w2mpro'],data_test_neo['w2sigmpro'],ls='',marker='.',color='black',label='W2',zorder=0)\n",
    "    if len(data_test_mep)>0:\n",
    "        ax.errorbar(data_test_mep['mjd'],data_test_mep['w2mpro_ep'],data_test_mep['w2sigmpro_ep'],ls='',marker='.',color='black',label='W2',zorder=0)\n",
    "    #ax.scatter(data_test_neo_w2_outlier['mjd'],data_test_neo_w2_outlier['w2mpro'],marker='.',color='red',zorder=1)\n",
    "    #ax.scatter(data_test_mep_w2_outlier['mjd'],data_test_mep_w2_outlier['w2mpro_ep'],marker='.',color='red',zorder=1)\n",
    "    \n",
    "def plot_rebinmag_w1(ax,data_rebin_neo,data_rebin_mep):\n",
    "    if len(data_rebin_neo)>0:\n",
    "        ax.errorbar(data_rebin_neo['t_W1'],data_rebin_neo['W1'],data_rebin_neo['e_W1'],ls='',marker='^',color='b',label='W1',zorder=2)\n",
    "    if len(data_rebin_mep)>0:\n",
    "        ax.errorbar(data_rebin_mep['t_W1'],data_rebin_mep['W1'],data_rebin_mep['e_W1'],ls='',marker='^',color='b',label='W1',zorder=2)\n",
    "\n",
    "def plot_rebinmag_w2(ax,data_rebin_neo,data_rebin_mep):  \n",
    "    if len(data_rebin_neo)>0:\n",
    "        ax.errorbar(data_rebin_neo['t_W2'],data_rebin_neo['W2'],data_rebin_neo['e_W2'],ls='',marker='^',color='b',label='W1',zorder=2)\n",
    "    if len(data_rebin_mep)>0:\n",
    "        ax.errorbar(data_rebin_mep['t_W2'],data_rebin_mep['W2'],data_rebin_mep['e_W2'],ls='',marker='^',color='b',label='W1',zorder=2)\n"
   ]
  },
  {
   "cell_type": "markdown",
   "metadata": {},
   "source": [
    "## def wise_unbin_lc_outlier"
   ]
  },
  {
   "cell_type": "markdown",
   "metadata": {},
   "source": [
    "### test"
   ]
  },
  {
   "cell_type": "code",
   "execution_count": null,
   "metadata": {
    "ExecuteTime": {
     "end_time": "2021-09-26T07:22:47.760151Z",
     "start_time": "2021-09-26T07:22:47.575790Z"
    }
   },
   "outputs": [],
   "source": [
    "name_test='2MASSJ14345529+5723449'\n",
    "data_test_neo,data_test_mep=get_wise_data(name_test,datawise_dir='/Users/brettlv/blog/brettlv.github.io/pythoncode/changinglookAGN/CLAGN_wise_data/')\n",
    "data_rebin_neo,data_rebin_mep=get_rebinwise_data(data_test_neo,data_test_mep)"
   ]
  },
  {
   "cell_type": "code",
   "execution_count": null,
   "metadata": {
    "ExecuteTime": {
     "end_time": "2021-09-26T07:22:49.916113Z",
     "start_time": "2021-09-26T07:22:49.911432Z"
    }
   },
   "outputs": [],
   "source": [
    "len(data_test_neo),len(data_test_mep)"
   ]
  },
  {
   "cell_type": "code",
   "execution_count": null,
   "metadata": {
    "ExecuteTime": {
     "end_time": "2021-09-26T07:23:02.238361Z",
     "start_time": "2021-09-26T07:23:02.231430Z"
    }
   },
   "outputs": [],
   "source": [
    "len(data_rebin_neo),len(data_rebin_mep)"
   ]
  },
  {
   "cell_type": "code",
   "execution_count": 38,
   "metadata": {
    "ExecuteTime": {
     "end_time": "2021-11-09T14:00:57.159313Z",
     "start_time": "2021-11-09T14:00:57.151592Z"
    }
   },
   "outputs": [],
   "source": [
    "def wise_unbin_lc_outlier(name_test,datawise_dir='/Users/brettlv/blog/brettlv.github.io/pythoncode/changinglookAGN/CLAGN_wise_data/'):\n",
    "    data_test_neo,data_test_mep=get_wise_data(name_test,datawise_dir=datawise_dir)\n",
    "    data_rebin_neo,data_rebin_mep=get_rebinwise_data(data_test_neo,data_test_mep)\n",
    "\n",
    "    search_name=name_test.replace(' ','') \n",
    "    save_name=search_name.strip()  \n",
    "\n",
    "    save_lc_img_path=os.path.join(save_lc_img_dir,'%s.png'%save_name)\n",
    "\n",
    "    fig = plt.figure(figsize=(8,4))\n",
    "    fig.subplots_adjust(hspace=0.0, wspace = 0.0)\n",
    "    ax = fig.add_subplot(111)\n",
    "    \n",
    "    plot_mag_w1(ax,data_test_neo,data_test_mep)\n",
    "    plot_rebinmag_w1(ax,data_rebin_neo,data_rebin_mep)\n",
    "    plot_outliers_w1(ax,data_test_neo,data_test_mep)    \n",
    "    \n",
    "    \n",
    "    #ax.scatter(data_test_neo['mjd'],data_test_neo['w2mpro'],color='blue',label='W2')\n",
    "    #ax.scatter(data_test_mep['mjd'],data_test_mep['w2mpro_ep'],color='blue',label='W2')\n",
    "\n",
    "    bottom, top = ax.set_ylim() \n",
    "    if bottom< top:\n",
    "        ax.set_ylim(top,bottom)\n",
    "\n",
    "    plt.xlabel('mjd')\n",
    "    plt.ylabel(r'$mag$')\n",
    "\n",
    "    ax.text(0.5, 0.9,name_test , horizontalalignment = 'center', verticalalignment = 'center',transform = ax.transAxes, fontsize = 10)\n",
    "    plt.savefig(save_lc_img_path,dpi=400, transparent=False, bbox_inches='tight')\n",
    "    plt.close()"
   ]
  },
  {
   "cell_type": "code",
   "execution_count": null,
   "metadata": {
    "ExecuteTime": {
     "end_time": "2021-10-13T07:23:48.627785Z",
     "start_time": "2021-10-13T07:23:48.622230Z"
    }
   },
   "outputs": [],
   "source": [
    "len(wisename_varlists5)"
   ]
  },
  {
   "cell_type": "code",
   "execution_count": null,
   "metadata": {
    "ExecuteTime": {
     "end_time": "2021-10-13T07:25:32.961532Z",
     "start_time": "2021-10-13T07:24:58.076798Z"
    }
   },
   "outputs": [],
   "source": [
    "#save_lc_img_dir=os.path.join(CLAGN_statistic_plot_dir,'WISE_lc','unbin_CLAGN','full_CLAGN_wise_lc')\n",
    "save_lc_img_dir=os.path.join(CLAGN_statistic_plot_dir,'WISE_lc','unbin_CLAGN','CLAGN_wise_gt50_gt0.5')\n",
    "for index,name_test in enumerate(wisename_varlists5) :\n",
    "    print(name_test)\n",
    "    wise_unbin_lc_outlier(name_test,datawise_dir=CLAGN_wisedata_dir)"
   ]
  },
  {
   "cell_type": "code",
   "execution_count": null,
   "metadata": {},
   "outputs": [],
   "source": []
  },
  {
   "cell_type": "markdown",
   "metadata": {},
   "source": [
    "## def wise_rebin_lc"
   ]
  },
  {
   "cell_type": "code",
   "execution_count": 39,
   "metadata": {
    "ExecuteTime": {
     "end_time": "2021-11-09T14:01:01.526418Z",
     "start_time": "2021-11-09T14:01:01.519320Z"
    }
   },
   "outputs": [],
   "source": [
    "def wise_rebin_lc(name_test,datawise_dir='/Users/brettlv/blog/brettlv.github.io/pythoncode/changinglookAGN/CLAGN_wise_data/'):\n",
    "    data_test_neo,data_test_mep=get_wise_data(name_test,datawise_dir)\n",
    "    data_rebin_neo,data_rebin_mep=get_rebinwise_data(data_test_neo,data_test_mep,sigma_outlier=10)\n",
    "    \n",
    "    search_name=name_test.replace(' ','') \n",
    "    save_name=search_name.strip()\n",
    "    save_lc_img_path=os.path.join(save_lc_img_dir,'%s.png'%save_name)\n",
    "    \n",
    "    fig = plt.figure(figsize=(8,4))\n",
    "    fig.subplots_adjust(hspace=0.0, wspace = 0.0)\n",
    "    ax = fig.add_subplot(111)\n",
    "    \n",
    "    plot_rebinmag_w1(ax,data_rebin_neo,data_rebin_mep)\n",
    "    #plot_rebinmag_w2(ax,data_rebin_neo,data_rebin_mep)\n",
    "    #ax.scatter(data_test_neo['mjd'],data_test_neo['w1mpro'],color='red',label='W1')\n",
    "    #ax.scatter(data_test_mep['mjd'],data_test_mep['w1mpro_ep'],color='red',label='W1')\n",
    "\n",
    "\n",
    "    #ax.scatter(data_test_neo['mjd'],data_test_neo['w2mpro'],color='blue',label='W2')\n",
    "    #ax.scatter(data_test_mep['mjd'],data_test_mep['w2mpro_ep'],color='blue',label='W2')\n",
    "\n",
    "\n",
    "    bottom, top = ax.set_ylim() \n",
    "    if bottom< top:\n",
    "        ax.set_ylim(top,bottom)\n",
    "\n",
    "    plt.xlabel('mjd')\n",
    "    plt.ylabel(r'$mag$')\n",
    "\n",
    "    ax.text(0.5, 0.9,name_test , horizontalalignment = 'center', verticalalignment = 'center',transform = ax.transAxes, fontsize = 10)\n",
    "    plt.savefig(save_lc_img_path,dpi=400, transparent=False, bbox_inches='tight')\n",
    "    plt.close()"
   ]
  },
  {
   "cell_type": "code",
   "execution_count": null,
   "metadata": {
    "ExecuteTime": {
     "end_time": "2021-09-29T01:25:42.246355Z",
     "start_time": "2021-09-29T01:25:32.152624Z"
    }
   },
   "outputs": [],
   "source": [
    "save_lc_img_dir=os.path.join(CLAGN_statistic_plot_dir,'WISE_lc','rebin_CLAGN','rebin_var_gt0.2')\n",
    "for index,name_test in enumerate(wisevar_p2) :\n",
    "    #print(name_test)\n",
    "    wise_rebin_lc(name_test,datawise_dir=CLAGN_wisedata_dir)"
   ]
  },
  {
   "cell_type": "code",
   "execution_count": null,
   "metadata": {
    "ExecuteTime": {
     "end_time": "2021-09-29T01:26:48.569308Z",
     "start_time": "2021-09-29T01:26:21.001435Z"
    }
   },
   "outputs": [],
   "source": [
    "save_lc_img_dir=os.path.join(CLAGN_statistic_plot_dir,'WISE_lc','rebin_CLAGN','rebin_gt50_gt0.5mag')\n",
    "for index,name_test in enumerate(wisename_varlists5) :\n",
    "    #print(name_test)\n",
    "    wise_rebin_lc(name_test,datawise_dir=CLAGN_wisedata_dir)"
   ]
  },
  {
   "cell_type": "markdown",
   "metadata": {},
   "source": [
    "## def_wise_mag_to_flux"
   ]
  },
  {
   "cell_type": "code",
   "execution_count": 40,
   "metadata": {
    "ExecuteTime": {
     "end_time": "2021-11-09T14:01:03.561638Z",
     "start_time": "2021-11-09T14:01:03.555967Z"
    }
   },
   "outputs": [],
   "source": [
    "def wise_mag_to_flux(data,maglabel_w1,maglabel_w2,e_maglabel_w1,e_maglabel_w2,D_cm):\n",
    "    data['logL_W1']= (-48.6-data[maglabel_w1]-2.699)/2.5+np.log10(4*np.pi*D_cm**2)+np.log10((constants.c/(3.4*u.um)).to(u.Hz).value)\n",
    "    data['logL_W2']= (-48.6-data[maglabel_w2]-3.339)/2.5+np.log10(4*np.pi*D_cm**2)+np.log10((constants.c/(4.6*u.um)).to(u.Hz).value)\n",
    "    data['e_logL_W1'] =   data[e_maglabel_w1]/2.5\n",
    "    data['e_logL_W2'] =   data[e_maglabel_w2]/2.5\n",
    "    return data"
   ]
  },
  {
   "cell_type": "code",
   "execution_count": 41,
   "metadata": {
    "ExecuteTime": {
     "end_time": "2021-11-09T14:01:04.773201Z",
     "start_time": "2021-11-09T14:01:04.769302Z"
    }
   },
   "outputs": [],
   "source": [
    "def get_wiseflux_rebin(data_rebin_neo,data_rebin_mep,D_cm):\n",
    "    maglabel_w1,maglabel_w2,e_maglabel_w1,e_maglabel_w2=('W1','W2','e_W1','e_W2')  \n",
    "    data_rebinflux_neo=wise_mag_to_flux(data_rebin_neo,maglabel_w1,maglabel_w2,e_maglabel_w1,e_maglabel_w2,D_cm)\n",
    "    data_rebinflux_mep=wise_mag_to_flux(data_rebin_mep,maglabel_w1,maglabel_w2,e_maglabel_w1,e_maglabel_w2,D_cm)\n",
    "                                                                                                              \n",
    "    return data_rebinflux_neo,data_rebinflux_mep"
   ]
  },
  {
   "cell_type": "markdown",
   "metadata": {},
   "source": [
    "## def_get_lag_data"
   ]
  },
  {
   "cell_type": "code",
   "execution_count": 42,
   "metadata": {
    "ExecuteTime": {
     "end_time": "2021-11-09T14:01:07.228031Z",
     "start_time": "2021-11-09T14:01:07.223770Z"
    }
   },
   "outputs": [],
   "source": [
    "def get_lag_data(data,timelabel,fluxlabel_w1,e_fluxlabel_w1):\n",
    "    \n",
    "    datalag_w1=pd.DataFrame({'t':data[timelabel],'flux':data[fluxlabel_w1],\\\n",
    "                                  'err':data[e_fluxlabel_w1]},\\\n",
    "                                  index=None,columns=['t','flux','err'])\n",
    "    return datalag_w1"
   ]
  },
  {
   "cell_type": "code",
   "execution_count": 43,
   "metadata": {
    "ExecuteTime": {
     "end_time": "2021-11-09T14:01:07.699988Z",
     "start_time": "2021-11-09T14:01:07.695099Z"
    }
   },
   "outputs": [],
   "source": [
    "def get_wise_lc(data_rebinflux_neo,data_rebinflux_mep):\n",
    "    lc_w1= pd.concat([data_rebinflux_neo[['t_W1','logL_W1','e_logL_W1']],data_rebinflux_mep[['t_W1','logL_W1','e_logL_W1']]])\n",
    "    lc_w2= pd.concat([data_rebinflux_neo[['t_W2','logL_W2','e_logL_W2']],data_rebinflux_mep[['t_W2','logL_W2','e_logL_W2']]])\n",
    "    \n",
    "    lc_w1=lc_w1.sort_values('t_W1')\n",
    "    lc_w2=lc_w2.sort_values('t_W2')\n",
    "    lc_w1=drop_index(lc_w1)\n",
    "    lc_w2=drop_index(lc_w2)\n",
    "    \n",
    "    #return lc_w1,lc_w2\n",
    "    datalag_w1=get_lag_data(lc_w1,'t_W1','logL_W1','e_logL_W1')\n",
    "    datalag_w2=get_lag_data(lc_w2,'t_W2','logL_W2','e_logL_W2')\n",
    "    return datalag_w1,datalag_w2"
   ]
  },
  {
   "cell_type": "code",
   "execution_count": null,
   "metadata": {},
   "outputs": [],
   "source": []
  },
  {
   "cell_type": "markdown",
   "metadata": {},
   "source": [
    "# workflow"
   ]
  },
  {
   "cell_type": "code",
   "execution_count": null,
   "metadata": {
    "ExecuteTime": {
     "end_time": "2021-10-14T02:55:11.752668Z",
     "start_time": "2021-10-14T02:55:11.537901Z"
    }
   },
   "outputs": [],
   "source": [
    "name_test='SDSS J153308.02+443208.4'\n",
    "D_cm_J153308=CLAGN_210919_mass[CLAGN_210919_mass['Name']=='SDSS J153308.02+443208.4']['D_cm'].values[0]\n",
    "print(name_test,D_cm_J153308)\n",
    "\n",
    "data_test_neo,data_test_mep=get_wise_data(name_test,datawise_dir=CLAGN_wisedata_dir)\n",
    "data_rebin_neo,data_rebin_mep=get_rebinwise_data(data_test_neo,data_test_mep)\n",
    "print(data_rebin_neo.columns,data_rebin_mep.columns)\n",
    "data_rebinflux_neo,data_rebinflux_mep=get_wiseflux_rebin(data_rebin_neo,data_rebin_mep,D_cm_J153308)\n",
    "print(data_rebinflux_neo.columns,data_rebinflux_mep.columns)    "
   ]
  },
  {
   "cell_type": "code",
   "execution_count": null,
   "metadata": {
    "ExecuteTime": {
     "end_time": "2021-10-14T02:55:24.418509Z",
     "start_time": "2021-10-14T02:55:24.401530Z"
    }
   },
   "outputs": [],
   "source": [
    "datalag_w1,datalag_w2=get_wise_lc(data_rebinflux_neo,data_rebinflux_mep)\n",
    "\n",
    "print(datalag_w1.columns,datalag_w2.columns)"
   ]
  },
  {
   "cell_type": "code",
   "execution_count": null,
   "metadata": {
    "ExecuteTime": {
     "end_time": "2021-10-14T02:55:26.161929Z",
     "start_time": "2021-10-14T02:55:25.668221Z"
    }
   },
   "outputs": [],
   "source": [
    "fig = plt.figure(figsize=(4,4))\n",
    "fig.subplots_adjust(hspace=0.0, wspace = 0.0)\n",
    "ax = fig.add_subplot(111)\n",
    "\n",
    "plot_mag_w1(ax,data_test_neo,data_test_mep)\n",
    "plot_rebinmag_w1(ax,data_rebin_neo,data_rebin_mep)\n",
    "plot_outliers_w1(ax,data_test_neo,data_test_mep)\n",
    "set_ax_tick(ax)\n",
    "\n",
    "#set_ax_locator(ax,xma=2000,xmi=1000,yma=0.2,ymi=0.1)\n",
    "ax.text(0.03, 0.85, name_test+' W1', fontsize = 15, transform = ax.transAxes)\n",
    "bottom, top = ax.set_ylim() \n",
    "ax.set_ylim(top,bottom)\n",
    "plt.show()\n",
    "#fig.savefig('/Users/brettlv/Downloads/CLAGN_statistic_plot/WISE_lc/unbin_CLAGN/CLAGN_wise_gt50_gt0.5/W1_unbinlc_%s.png'%save_name,dpi=400,transparent=False,bbox_inches='tight')      \n",
    "plt.close()"
   ]
  },
  {
   "cell_type": "code",
   "execution_count": null,
   "metadata": {
    "ExecuteTime": {
     "end_time": "2021-10-13T07:28:49.543268Z",
     "start_time": "2021-10-13T07:28:49.136285Z"
    }
   },
   "outputs": [],
   "source": [
    "fig = plt.figure(figsize=(4,4))\n",
    "fig.subplots_adjust(hspace=0.0, wspace = 0.0)\n",
    "ax = fig.add_subplot(111)\n",
    "\n",
    "plot_mag_w2(ax,data_test_neo,data_test_mep)\n",
    "plot_rebinmag_w2(ax,data_rebin_neo,data_rebin_mep)\n",
    "plot_outliers_w2(ax,data_test_neo,data_test_mep)\n",
    "\n",
    "set_ax_tick(ax)\n",
    "\n",
    "#set_ax_locator(ax,xma=2000,xmi=1000,yma=0.2,ymi=0.1)\n",
    "ax.text(0.03, 0.85, name_test+' W2', fontsize = 15, transform = ax.transAxes)\n",
    "bottom, top = ax.set_ylim() \n",
    "ax.set_ylim(top,bottom)\n",
    "plt.show()\n",
    "#fig.savefig('/Users/brettlv/Downloads/CLAGN_statistic_plot/WISE_lc/unbin_CLAGN/CLAGN_wise_gt50_gt0.5/W1_unbinlc_%s.png'%save_name,dpi=400,transparent=False,bbox_inches='tight')      \n",
    "plt.close()"
   ]
  },
  {
   "cell_type": "code",
   "execution_count": null,
   "metadata": {},
   "outputs": [],
   "source": []
  },
  {
   "cell_type": "code",
   "execution_count": null,
   "metadata": {
    "ExecuteTime": {
     "end_time": "2021-09-26T07:04:04.262494Z",
     "start_time": "2021-09-26T07:04:04.050644Z"
    }
   },
   "outputs": [],
   "source": []
  },
  {
   "cell_type": "code",
   "execution_count": null,
   "metadata": {
    "ExecuteTime": {
     "end_time": "2021-10-13T07:29:03.200804Z",
     "start_time": "2021-10-13T07:29:02.801194Z"
    }
   },
   "outputs": [],
   "source": [
    "name_test='Mrk 1018'\n",
    "data_test_neo,data_test_mep=get_wise_data(name_test,datawise_dir='/Users/brettlv/blog/brettlv.github.io/pythoncode/changinglookAGN/CLAGN_wise_data/')\n",
    "data_rebin_neo,data_rebin_mep=get_rebinwise_data(data_test_neo,data_test_mep)\n",
    "\n",
    "fig = plt.figure(figsize=(4,4))\n",
    "fig.subplots_adjust(hspace=0.0, wspace = 0.0)\n",
    "ax = fig.add_subplot(111)\n",
    "\n",
    "plot_mag_w1(ax,data_test_neo,data_test_mep)\n",
    "plot_rebinmag_w1(ax,data_rebin_neo,data_rebin_mep)\n",
    "plot_outliers_w1(ax,data_test_neo,data_test_mep)\n",
    "set_ax_tick(ax)\n",
    "\n",
    "#set_ax_locator(ax,xma=2000,xmi=1000,yma=0.2,ymi=0.1)\n",
    "ax.text(0.53, 0.85, name_test+' W1', fontsize = 15, transform = ax.transAxes)\n",
    "bottom, top = ax.set_ylim() \n",
    "ax.set_ylim(top,bottom)\n",
    "plt.show()\n",
    "#fig.savefig('/Users/brettlv/Downloads/CLAGN_statistic_plot/WISE_lc/unbin_CLAGN/CLAGN_wise_gt50_gt0.5/W1_unbinlc_%s.png'%save_name,dpi=400,transparent=False,bbox_inches='tight')      \n",
    "plt.close()"
   ]
  },
  {
   "cell_type": "code",
   "execution_count": null,
   "metadata": {},
   "outputs": [],
   "source": []
  },
  {
   "cell_type": "markdown",
   "metadata": {
    "ExecuteTime": {
     "end_time": "2021-10-07T03:11:33.722044Z",
     "start_time": "2021-10-07T03:11:33.719446Z"
    }
   },
   "source": [
    "# get_rebin_alldata"
   ]
  },
  {
   "cell_type": "code",
   "execution_count": null,
   "metadata": {
    "ExecuteTime": {
     "end_time": "2021-10-07T03:10:30.800465Z",
     "start_time": "2021-10-07T03:10:30.795142Z"
    }
   },
   "outputs": [],
   "source": [
    "CLAGN_210919_mass['Name'][:5]"
   ]
  },
  {
   "cell_type": "code",
   "execution_count": null,
   "metadata": {},
   "outputs": [],
   "source": [
    "rebin_alldata=pd.concat([],[])   "
   ]
  },
  {
   "cell_type": "code",
   "execution_count": null,
   "metadata": {
    "ExecuteTime": {
     "end_time": "2021-10-07T06:41:41.823150Z",
     "start_time": "2021-10-07T06:41:41.818508Z"
    }
   },
   "outputs": [],
   "source": [
    "CLAGN_210919_mass.columns"
   ]
  },
  {
   "cell_type": "code",
   "execution_count": null,
   "metadata": {},
   "outputs": [],
   "source": [
    "Name t logL logLerr logM OX"
   ]
  },
  {
   "cell_type": "code",
   "execution_count": null,
   "metadata": {},
   "outputs": [],
   "source": [
    "data = pd.DataFrame()\n",
    "a = [[1,2,3],[4,5,6]]\n",
    "data = data.append(a,ignore_index=True)\n",
    "a = [[7,8,9],[10,11,12]]\n",
    "data = data.append(a,ignore_index=True)\n",
    "print(data)\n"
   ]
  },
  {
   "cell_type": "code",
   "execution_count": null,
   "metadata": {
    "ExecuteTime": {
     "end_time": "2021-10-14T02:52:47.085302Z",
     "start_time": "2021-10-14T02:52:47.080753Z"
    }
   },
   "outputs": [],
   "source": [
    "len(CLAGN_210919_mass)"
   ]
  },
  {
   "cell_type": "markdown",
   "metadata": {},
   "source": [
    "## CLAGN"
   ]
  },
  {
   "cell_type": "code",
   "execution_count": 55,
   "metadata": {
    "ExecuteTime": {
     "end_time": "2021-11-09T14:14:37.833208Z",
     "start_time": "2021-11-09T14:14:21.272398Z"
    }
   },
   "outputs": [],
   "source": [
    "rebin_alldata_w1_only=pd.DataFrame([])\n",
    "for index,name_test in enumerate(CLAGN_210919_mass['Name']):\n",
    "    data_test_neo,data_test_mep=get_wise_data(name_test,datawise_dir=CLAGN_wisedata_dir)\n",
    "    data_rebin_neo,data_rebin_mep=get_rebinwise_data(data_test_neo,data_test_mep)\n",
    "    D_cm=CLAGN_210919_mass['D_cm'][index]\n",
    "    logmass=CLAGN_210919_mass['lg(MBH/Msun)'][index]\n",
    "    OX=CLAGN_210919_mass['OX'][index]\n",
    "    \n",
    "    data_rebinflux_neo,data_rebinflux_mep=get_wiseflux_rebin(data_rebin_neo,data_rebin_mep,D_cm)    \n",
    "    datalag_w1,datalag_w2=get_wise_lc(data_rebinflux_neo,data_rebinflux_mep)\n",
    "    #print(name_test,datalag_w1)\n",
    "    rebin_alldata_w1=pd.DataFrame([])\n",
    "    for j in range(len(datalag_w1)):\n",
    "        rebin_alldata_w1.loc[j,'Name']=name_test\n",
    "        rebin_alldata_w1.loc[j,'mjd']=datalag_w1['t'][j]\n",
    "        rebin_alldata_w1.loc[j,'logL']=datalag_w1['flux'][j]\n",
    "        rebin_alldata_w1.loc[j,'logLerr']=datalag_w1['err'][j]\n",
    "        rebin_alldata_w1.loc[j,'D_cm']=D_cm\n",
    "        rebin_alldata_w1.loc[j,'logM']=logmass\n",
    "        rebin_alldata_w1.loc[j,'OX']=OX\n",
    "        rebin_alldata_w1.loc[j,'band']='w1'\n",
    "    rebin_alldata_w1_only= rebin_alldata_w1_only.append(rebin_alldata_w1,ignore_index=True)      \n",
    "        \n",
    "        "
   ]
  },
  {
   "cell_type": "code",
   "execution_count": 56,
   "metadata": {
    "ExecuteTime": {
     "end_time": "2021-11-09T14:14:37.840704Z",
     "start_time": "2021-11-09T14:14:37.836199Z"
    }
   },
   "outputs": [
    {
     "data": {
      "text/plain": [
       "1165"
      ]
     },
     "execution_count": 56,
     "metadata": {},
     "output_type": "execute_result"
    }
   ],
   "source": [
    "len(rebin_alldata_w1_only)"
   ]
  },
  {
   "cell_type": "code",
   "execution_count": 44,
   "metadata": {
    "ExecuteTime": {
     "end_time": "2021-11-09T14:01:38.040478Z",
     "start_time": "2021-11-09T14:01:14.890670Z"
    }
   },
   "outputs": [],
   "source": [
    "rebin_alldata=pd.DataFrame([])\n",
    "\n",
    "for index,name_test in enumerate(CLAGN_210919_mass['Name']):\n",
    "    data_test_neo,data_test_mep=get_wise_data(name_test,datawise_dir=CLAGN_wisedata_dir)\n",
    "    data_rebin_neo,data_rebin_mep=get_rebinwise_data(data_test_neo,data_test_mep)\n",
    "    D_cm=CLAGN_210919_mass['D_cm'][index]\n",
    "    logmass=CLAGN_210919_mass['lg(MBH/Msun)'][index]\n",
    "    OX=CLAGN_210919_mass['OX'][index]\n",
    "    \n",
    "    data_rebinflux_neo,data_rebinflux_mep=get_wiseflux_rebin(data_rebin_neo,data_rebin_mep,D_cm)    \n",
    "    datalag_w1,datalag_w2=get_wise_lc(data_rebinflux_neo,data_rebinflux_mep)\n",
    "    \n",
    "    rebin_alldata_w1=pd.DataFrame([])\n",
    "    rebin_alldata_w2=pd.DataFrame([])\n",
    "\n",
    "    for j in range(len(datalag_w1)):\n",
    "        rebin_alldata_w1.loc[j,'Name']=name_test\n",
    "        rebin_alldata_w1.loc[j,'mjd']=datalag_w1['t'][j]\n",
    "        rebin_alldata_w1.loc[j,'logL']=datalag_w1['flux'][j]\n",
    "        rebin_alldata_w1.loc[j,'logLerr']=datalag_w1['err'][j]\n",
    "        rebin_alldata_w1.loc[j,'D_cm']=D_cm\n",
    "        rebin_alldata_w1.loc[j,'logM']=logmass\n",
    "        rebin_alldata_w1.loc[j,'OX']=OX\n",
    "        rebin_alldata_w1.loc[j,'band']='w1'\n",
    "     \n",
    "        \n",
    "    for k in range(len(datalag_w2)):\n",
    "        rebin_alldata_w2.loc[k,'Name']=name_test\n",
    "        rebin_alldata_w2.loc[k,'mjd']=datalag_w2['t'][k]\n",
    "        rebin_alldata_w2.loc[k,'logL']=datalag_w2['flux'][k]\n",
    "        rebin_alldata_w2.loc[k,'logLerr']=datalag_w2['err'][k]\n",
    "        rebin_alldata_w2.loc[k,'D_cm']=D_cm\n",
    "        rebin_alldata_w2.loc[k,'logM']=logmass\n",
    "        rebin_alldata_w2.loc[k,'OX']=OX\n",
    "        rebin_alldata_w2.loc[k,'band']='w2' \n",
    "        \n",
    "       \n",
    "    rebin_alldata= rebin_alldata.append(rebin_alldata_w1,ignore_index=True)  \n",
    "    rebin_alldata= rebin_alldata.append(rebin_alldata_w2,ignore_index=True)  \n",
    "         \n",
    " "
   ]
  },
  {
   "cell_type": "code",
   "execution_count": 45,
   "metadata": {
    "ExecuteTime": {
     "end_time": "2021-11-09T14:01:38.088499Z",
     "start_time": "2021-11-09T14:01:38.042606Z"
    }
   },
   "outputs": [],
   "source": [
    "rebin_alldata.to_csv('%s/CLAGN_210919_mass_rebin_w1_w2.csv'%CLAGN_statistic_plot_dir,index=False)"
   ]
  },
  {
   "cell_type": "code",
   "execution_count": 47,
   "metadata": {
    "ExecuteTime": {
     "end_time": "2021-11-09T14:02:11.168584Z",
     "start_time": "2021-11-09T14:02:11.164229Z"
    }
   },
   "outputs": [
    {
     "data": {
      "text/plain": [
       "2330"
      ]
     },
     "execution_count": 47,
     "metadata": {},
     "output_type": "execute_result"
    }
   ],
   "source": [
    "len(rebin_alldata)"
   ]
  },
  {
   "cell_type": "code",
   "execution_count": 52,
   "metadata": {
    "ExecuteTime": {
     "end_time": "2021-11-09T14:04:49.443419Z",
     "start_time": "2021-11-09T14:04:49.437327Z"
    }
   },
   "outputs": [],
   "source": [
    "rebin_alldata_w1=rebin_alldata[rebin_alldata['band']=='w1']\n",
    "rebin_alldata_w1=drop_index(rebin_alldata_w1)\n",
    "rebin_alldata_w2=rebin_alldata[rebin_alldata['band']=='w2']\n",
    "rebin_alldata_w2=drop_index(rebin_alldata_w2)"
   ]
  },
  {
   "cell_type": "code",
   "execution_count": 53,
   "metadata": {
    "ExecuteTime": {
     "end_time": "2021-11-09T14:04:56.015880Z",
     "start_time": "2021-11-09T14:04:56.011105Z"
    }
   },
   "outputs": [
    {
     "data": {
      "text/plain": [
       "(1165, 1165)"
      ]
     },
     "execution_count": 53,
     "metadata": {},
     "output_type": "execute_result"
    }
   ],
   "source": [
    "len(rebin_alldata_w1),len(rebin_alldata_w2)"
   ]
  },
  {
   "cell_type": "code",
   "execution_count": null,
   "metadata": {},
   "outputs": [],
   "source": []
  },
  {
   "cell_type": "code",
   "execution_count": null,
   "metadata": {
    "ExecuteTime": {
     "end_time": "2021-10-14T03:31:40.713139Z",
     "start_time": "2021-10-14T03:31:40.170252Z"
    }
   },
   "outputs": [],
   "source": [
    "rebin_alldata_A=rebin_alldata[rebin_alldata['OX']==' A ']\n",
    "rebin_alldata_A=drop_index(rebin_alldata_A)\n",
    "rebin_alldata_B=rebin_alldata[rebin_alldata['OX']==' B ']\n",
    "rebin_alldata_B=drop_index(rebin_alldata_B)\n",
    "\n",
    "for index,name_test in enumerate(rebin_alldata_A['Name']):\n",
    "    rebin_alldata_A.loc[index,\"Name_\"]=rebin_alldata_A.loc[index,\"Name\"].replace(' ','').strip()"
   ]
  },
  {
   "cell_type": "code",
   "execution_count": null,
   "metadata": {
    "ExecuteTime": {
     "end_time": "2021-10-14T03:31:41.240176Z",
     "start_time": "2021-10-14T03:31:41.235668Z"
    }
   },
   "outputs": [],
   "source": [
    "rebin_alldata_A.columns"
   ]
  },
  {
   "cell_type": "code",
   "execution_count": null,
   "metadata": {
    "ExecuteTime": {
     "end_time": "2021-10-14T03:32:12.158093Z",
     "start_time": "2021-10-14T03:32:12.151925Z"
    }
   },
   "outputs": [],
   "source": [
    "rebin_alldata_A_w1=rebin_alldata_A[rebin_alldata_A['band']=='w1']\n",
    "rebin_alldata_A_w1=drop_index(rebin_alldata_A_w1)\n",
    "rebin_alldata_A_w2=rebin_alldata_A[rebin_alldata_A['band']=='w2']\n",
    "rebin_alldata_A_w2=drop_index(rebin_alldata_A_w2)"
   ]
  },
  {
   "cell_type": "code",
   "execution_count": null,
   "metadata": {
    "ExecuteTime": {
     "end_time": "2021-10-14T03:32:19.764780Z",
     "start_time": "2021-10-14T03:32:19.760406Z"
    }
   },
   "outputs": [],
   "source": [
    "rebin_alldata_A_w1.columns"
   ]
  },
  {
   "cell_type": "markdown",
   "metadata": {},
   "source": [
    "## CLAGN_210919_date"
   ]
  },
  {
   "cell_type": "code",
   "execution_count": null,
   "metadata": {
    "ExecuteTime": {
     "end_time": "2021-10-14T03:32:25.237678Z",
     "start_time": "2021-10-14T03:32:25.185010Z"
    }
   },
   "outputs": [],
   "source": [
    "CLAGN_210919_date=pd.read_excel('/Users/brettlv/blog/IHEP_sync/data/data_clagn/CLAGN_list210919.xlsx',sheet_name='Sheet2')\n",
    "CLAGN_210919_date=CLAGN_210919_date[CLAGN_210919_date['select']==1]\n",
    "CLAGN_210919_date=drop_index(CLAGN_210919_date)\n"
   ]
  },
  {
   "cell_type": "code",
   "execution_count": null,
   "metadata": {
    "ExecuteTime": {
     "end_time": "2021-10-14T03:32:25.975717Z",
     "start_time": "2021-10-14T03:32:25.848362Z"
    },
    "scrolled": true
   },
   "outputs": [],
   "source": [
    "CLAGN_210919_date_type=pd.DataFrame([])\n",
    "\n",
    "for index,name_test in enumerate(CLAGN_210919_date['Name']):\n",
    "    print(name_test)\n",
    "    data_I=rebin_alldata_A[rebin_alldata_A['Name_']==name_test.replace(' ','').strip()]\n",
    "    data_I=drop_index(data_I)\n",
    "    data_I['type']=np.nan\n",
    "    \n",
    "    if not np.isnan(CLAGN_210919_date.loc[index,'TypeduringWISE']):\n",
    "        for index_,mjd_ in enumerate(data_I['mjd']):\n",
    "            data_I.loc[index_,'type']=CLAGN_210919_date.loc[index,'TypeduringWISE']   \n",
    "        #data_I['type']=CLAGN_210919_date.loc[index,'TypeduringWISE']\n",
    "        print(name_test,CLAGN_210919_date.loc[index,'TypeduringWISE'])\n",
    "        #CLAGN_210919_date_type=CLAGN_210919_date_type.append(data_I,ignore_index=True)\n",
    "        #print(data_I)\n",
    "    else:\n",
    "        for index_,mjd_ in enumerate(data_I['mjd']):\n",
    "            if not np.isnan(CLAGN_210919_date.loc[index,'Type1_mjd']):\n",
    "                if abs(mjd_-CLAGN_210919_date.loc[index,'Type1_mjd'])<=90:\n",
    "                    data_I.loc[index_,'type']=1\n",
    "                                            \n",
    "            if not np.isnan(CLAGN_210919_date.loc[index,'Type1_mjd_start']) :\n",
    "                if not np.isnan(CLAGN_210919_date.loc[index,'Type1_mjd_end']):\n",
    "                    if mjd_ >= CLAGN_210919_date.loc[index,'Type1_mjd_start'] and mjd_<= CLAGN_210919_date.loc[index,'Type1_mjd_end']:\n",
    "                        data_I.loc[index_,'type']=1                                                                                       \n",
    "                else:\n",
    "                    if abs(mjd_-CLAGN_210919_date.loc[index,'Type1_mjd_start'])<=90:\n",
    "                        data_I.loc[index_,'type']=1\n",
    "                                                                                               \n",
    "            if not np.isnan(CLAGN_210919_date.loc[index,'Type2_mjd']):\n",
    "                if abs(mjd_-CLAGN_210919_date.loc[index,'Type2_mjd'])<=90:\n",
    "                    data_I.loc[index_,'type']=2\n",
    "                                            \n",
    "            if not np.isnan(CLAGN_210919_date.loc[index,'Type2_mjd_start']) :\n",
    "                if not np.isnan(CLAGN_210919_date.loc[index,'Type2_mjd_end']):\n",
    "                    if mjd_ >= CLAGN_210919_date.loc[index,'Type2_mjd_start'] and mjd_<= CLAGN_210919_date.loc[index,'Type2_mjd_end']:\n",
    "                        data_I.loc[index_,'type']=2                                                                                       \n",
    "                else:\n",
    "                    if abs(mjd_-CLAGN_210919_date.loc[index,'Type2_mjd_start'])<=90: \n",
    "                        data_I.loc[index_,'type']=2  \n",
    "                        \n",
    "    CLAGN_210919_date_type=CLAGN_210919_date_type.append(data_I,ignore_index=True)              \n",
    "\n",
    "    \n"
   ]
  },
  {
   "cell_type": "code",
   "execution_count": null,
   "metadata": {
    "ExecuteTime": {
     "end_time": "2021-10-14T03:32:27.022615Z",
     "start_time": "2021-10-14T03:32:27.000003Z"
    }
   },
   "outputs": [],
   "source": [
    "CLAGN_210919_date_type=CLAGN_210919_date_type[CLAGN_210919_date_type['type'].notnull()]\n",
    "CLAGN_210919_date_type['ledd']=CLAGN_210919_date_type['logL']-CLAGN_210919_date_type['logM']-np.log10(1.263e38)\n",
    "CLAGN_210919_date_type.to_csv('%s/CLAGN_210919_date_type.csv'%CLAGN_statistic_plot_dir,index=False)\n",
    "\n",
    "CLAGN_210919_date_type1=CLAGN_210919_date_type[CLAGN_210919_date_type['type']==1]\n",
    "CLAGN_210919_date_type2=CLAGN_210919_date_type[CLAGN_210919_date_type['type']==2]\n",
    "\n",
    "CLAGN_210919_date_type1=drop_index(CLAGN_210919_date_type1)\n",
    "CLAGN_210919_date_type2=drop_index(CLAGN_210919_date_type2)"
   ]
  },
  {
   "cell_type": "code",
   "execution_count": null,
   "metadata": {
    "ExecuteTime": {
     "end_time": "2021-10-14T03:32:29.892549Z",
     "start_time": "2021-10-14T03:32:29.888027Z"
    }
   },
   "outputs": [],
   "source": [
    "len(CLAGN_210919_date_type),len(CLAGN_210919_date_type1),len(CLAGN_210919_date_type2)"
   ]
  },
  {
   "cell_type": "code",
   "execution_count": null,
   "metadata": {
    "ExecuteTime": {
     "end_time": "2021-10-14T03:32:33.438765Z",
     "start_time": "2021-10-14T03:32:33.406260Z"
    }
   },
   "outputs": [],
   "source": [
    "CLAGN_210919_date_type2"
   ]
  },
  {
   "cell_type": "code",
   "execution_count": null,
   "metadata": {
    "ExecuteTime": {
     "end_time": "2021-10-14T03:32:34.844695Z",
     "start_time": "2021-10-14T03:32:34.821761Z"
    }
   },
   "outputs": [],
   "source": [
    "CLAGN_210919_date_type1"
   ]
  },
  {
   "cell_type": "code",
   "execution_count": null,
   "metadata": {},
   "outputs": [],
   "source": []
  },
  {
   "cell_type": "code",
   "execution_count": null,
   "metadata": {},
   "outputs": [],
   "source": []
  },
  {
   "cell_type": "markdown",
   "metadata": {},
   "source": [
    "## Gu09"
   ]
  },
  {
   "cell_type": "code",
   "execution_count": null,
   "metadata": {
    "ExecuteTime": {
     "end_time": "2021-10-07T07:17:05.730772Z",
     "start_time": "2021-10-07T07:17:05.725882Z"
    }
   },
   "outputs": [],
   "source": [
    "LLAGN_gu2009.columns"
   ]
  },
  {
   "cell_type": "code",
   "execution_count": null,
   "metadata": {
    "ExecuteTime": {
     "end_time": "2021-10-14T03:10:21.085373Z",
     "start_time": "2021-10-14T03:10:10.568916Z"
    }
   },
   "outputs": [],
   "source": [
    "#rebin_alldata_w2=pd.DataFrame([])\n",
    "rebin_alldata_LLAGN_gu2009=pd.DataFrame([])\n",
    "\n",
    "for index,name_test in enumerate(LLAGN_gu2009['Name']):\n",
    "    data_test_neo,data_test_mep=get_LLAGNwise_data(name_test,datawise_dir=LLAGN_wisedata_dir)\n",
    "    data_rebin_neo,data_rebin_mep=get_rebinwise_data(data_test_neo,data_test_mep)\n",
    "    D_cm=LLAGN_gu2009['D_cm'][index]\n",
    "    logmass=LLAGN_gu2009['∗ log MBH'][index]\n",
    "    #OX=CLAGN_210919_mass['OX'][index]\n",
    "    data_rebinflux_neo,data_rebinflux_mep=get_wiseflux_rebin(data_rebin_neo,data_rebin_mep,D_cm)    \n",
    "    datalag_w1,datalag_w2=get_wise_lc(data_rebinflux_neo,data_rebinflux_mep)\n",
    "    rebin_alldata_w1_LLAGN_gu2009=pd.DataFrame([])\n",
    "    \n",
    "    for j in range(len(datalag_w1)):\n",
    "        rebin_alldata_w1_LLAGN_gu2009.loc[j,'Name']=name_test\n",
    "        rebin_alldata_w1_LLAGN_gu2009.loc[j,'mjd']=datalag_w1['t'][j]\n",
    "        rebin_alldata_w1_LLAGN_gu2009.loc[j,'logL']=datalag_w1['flux'][j]\n",
    "        rebin_alldata_w1_LLAGN_gu2009.loc[j,'logLerr']=datalag_w1['err'][j]\n",
    "        rebin_alldata_w1_LLAGN_gu2009.loc[j,'D_cm']=D_cm\n",
    "        rebin_alldata_w1_LLAGN_gu2009.loc[j,'logM']=logmass\n",
    "           \n",
    "    rebin_alldata_LLAGN_gu2009= rebin_alldata_LLAGN_gu2009.append(rebin_alldata_w1_LLAGN_gu2009,ignore_index=True)   \n",
    "         \n",
    " "
   ]
  },
  {
   "cell_type": "code",
   "execution_count": null,
   "metadata": {
    "ExecuteTime": {
     "end_time": "2021-10-14T03:10:21.107732Z",
     "start_time": "2021-10-14T03:10:21.088000Z"
    }
   },
   "outputs": [],
   "source": [
    "rebin_alldata_LLAGN_gu2009.to_csv('%s/LLAGN_rebin_w1.csv'%CLAGN_statistic_plot_dir,index=False)"
   ]
  },
  {
   "cell_type": "code",
   "execution_count": null,
   "metadata": {
    "ExecuteTime": {
     "end_time": "2021-10-14T03:10:21.121113Z",
     "start_time": "2021-10-14T03:10:21.112994Z"
    }
   },
   "outputs": [],
   "source": [
    "len(rebin_alldata_LLAGN_gu2009)"
   ]
  },
  {
   "cell_type": "markdown",
   "metadata": {},
   "source": [
    "## QSO_select"
   ]
  },
  {
   "cell_type": "code",
   "execution_count": null,
   "metadata": {
    "ExecuteTime": {
     "end_time": "2021-10-07T07:36:30.616350Z",
     "start_time": "2021-10-07T07:36:30.611434Z"
    }
   },
   "outputs": [],
   "source": [
    "QSO_select.columns"
   ]
  },
  {
   "cell_type": "code",
   "execution_count": 57,
   "metadata": {
    "ExecuteTime": {
     "end_time": "2021-11-20T04:53:35.497867Z",
     "start_time": "2021-11-20T04:53:35.334307Z"
    }
   },
   "outputs": [
    {
     "data": {
      "text/plain": [
       "732"
      ]
     },
     "execution_count": 57,
     "metadata": {},
     "output_type": "execute_result"
    }
   ],
   "source": [
    "len(QSO_select)"
   ]
  },
  {
   "cell_type": "code",
   "execution_count": null,
   "metadata": {
    "ExecuteTime": {
     "end_time": "2021-10-07T07:57:51.715114Z",
     "start_time": "2021-10-07T07:57:51.662091Z"
    }
   },
   "outputs": [],
   "source": [
    "name_test=QSO_select['Name'][21]\n",
    "data_test_neo,data_test_mep=get_QSOwise_data(name_test,datawise_dir=QSO_wisedata_dir)"
   ]
  },
  {
   "cell_type": "code",
   "execution_count": null,
   "metadata": {
    "ExecuteTime": {
     "end_time": "2021-10-07T08:01:43.045535Z",
     "start_time": "2021-10-07T08:01:42.916529Z"
    }
   },
   "outputs": [],
   "source": [
    "data_rebin_neo,data_rebin_mep=get_rebinwise_data(data_test_neo,data_test_mep,sigma_outlier=10)"
   ]
  },
  {
   "cell_type": "code",
   "execution_count": null,
   "metadata": {},
   "outputs": [],
   "source": []
  },
  {
   "cell_type": "code",
   "execution_count": null,
   "metadata": {
    "ExecuteTime": {
     "end_time": "2021-10-14T03:12:55.623829Z",
     "start_time": "2021-10-14T03:10:29.083706Z"
    }
   },
   "outputs": [],
   "source": [
    "#rebin_alldata_w2=pd.DataFrame([])\n",
    "rebin_alldata_QSO_select=pd.DataFrame([])\n",
    "\n",
    "for index,name_test in enumerate(QSO_select['Name']):\n",
    "    data_test_neo,data_test_mep=get_QSOwise_data(name_test,datawise_dir=QSO_wisedata_dir)\n",
    "\n",
    "    #print(index)\n",
    "    data_rebin_neo,data_rebin_mep=get_rebinwise_data(data_test_neo,data_test_mep,sigma_outlier=10)\n",
    "\n",
    "    D_cm=QSO_select['D_cm'][index]\n",
    "    logmass=QSO_select['lg(L_Mbh)'][index]\n",
    "    #OX=CLAGN_210919_mass['OX'][index]\n",
    "    data_rebinflux_neo,data_rebinflux_mep=get_wiseflux_rebin(data_rebin_neo,data_rebin_mep,D_cm)    \n",
    "    datalag_w1,datalag_w2=get_wise_lc(data_rebinflux_neo,data_rebinflux_mep)\n",
    "    \n",
    "    rebin_alldata_w1_QSO_select=pd.DataFrame([])\n",
    "\n",
    "    for j in range(len(datalag_w1)):\n",
    "        rebin_alldata_w1_QSO_select.loc[j,'Name']=name_test\n",
    "        rebin_alldata_w1_QSO_select.loc[j,'mjd']=datalag_w1['t'][j]\n",
    "        rebin_alldata_w1_QSO_select.loc[j,'logL']=datalag_w1['flux'][j]\n",
    "        rebin_alldata_w1_QSO_select.loc[j,'logLerr']=datalag_w1['err'][j]\n",
    "        rebin_alldata_w1_QSO_select.loc[j,'D_cm']=D_cm\n",
    "        rebin_alldata_w1_QSO_select.loc[j,'logM']=logmass\n",
    "\n",
    "    rebin_alldata_QSO_select= rebin_alldata_QSO_select.append(rebin_alldata_w1_QSO_select,ignore_index=True)   \n",
    "\n",
    " "
   ]
  },
  {
   "cell_type": "code",
   "execution_count": null,
   "metadata": {
    "ExecuteTime": {
     "end_time": "2021-10-14T03:14:24.531458Z",
     "start_time": "2021-10-14T03:14:24.388765Z"
    }
   },
   "outputs": [],
   "source": [
    "rebin_alldata_QSO_select.to_csv('%s/QSO_select_rebin_w1.csv'%CLAGN_statistic_plot_dir,index=False)"
   ]
  },
  {
   "cell_type": "code",
   "execution_count": null,
   "metadata": {
    "ExecuteTime": {
     "end_time": "2021-10-14T03:14:24.960845Z",
     "start_time": "2021-10-14T03:14:24.955748Z"
    }
   },
   "outputs": [],
   "source": [
    "len(rebin_alldata_QSO_select)"
   ]
  },
  {
   "cell_type": "markdown",
   "metadata": {},
   "source": [
    "# writedata"
   ]
  },
  {
   "cell_type": "markdown",
   "metadata": {},
   "source": [
    "## write_lagfile"
   ]
  },
  {
   "cell_type": "code",
   "execution_count": null,
   "metadata": {
    "ExecuteTime": {
     "end_time": "2021-09-29T01:33:51.071879Z",
     "start_time": "2021-09-29T01:33:51.065961Z"
    }
   },
   "outputs": [],
   "source": [
    "def write_lagfile(rootdir,sourcename,labelname1,labelname2,dataname1,dataname2,rangemin,rangemax):\n",
    "    if not os.path.exists(os.path.join(rootdir,sourcename)):\n",
    "        os.mkdir(os.path.join(rootdir,sourcename))\n",
    "        \n",
    "    data1= dataname1[dataname1['t']>rangemin]\n",
    "    data1= data1[data1['t']<rangemax]   \n",
    "    path_data1=os.path.join(rootdir,sourcename,labelname1+'.csv')\n",
    "    data1.to_csv(path_data1,index=False,header=False,sep=',')\n",
    "    \n",
    "    data2= dataname2[dataname2['t']>rangemin]\n",
    "    data2= data2[data2['t']<rangemax]    \n",
    "    path_data2=os.path.join(rootdir,sourcename,labelname2+'.csv')\n",
    "    data2.to_csv(path_data2,index=False,header=False,sep=',')  \n",
    "    return path_data1,path_data2    "
   ]
  },
  {
   "cell_type": "markdown",
   "metadata": {},
   "source": [
    "## get_lagfile_path"
   ]
  },
  {
   "cell_type": "code",
   "execution_count": null,
   "metadata": {
    "ExecuteTime": {
     "end_time": "2021-09-29T01:33:55.808720Z",
     "start_time": "2021-09-29T01:33:55.804603Z"
    }
   },
   "outputs": [],
   "source": [
    "def get_lagfile(rootdir,sourcename,labelname1,labelname2,dataname1,dataname2,rangemin,rangemax):\n",
    "    \n",
    "    #data1= dataname1[dataname1['t']>rangemin]\n",
    "    #data1= data1[data1['t']<rangemax]   \n",
    "    path_data1=os.path.join(rootdir,sourcename,labelname1+'.csv')\n",
    "    #data1.to_csv(path_data1,index=False,header=False,sep=',')\n",
    "    \n",
    "    #data2= dataname2[dataname2['t']>rangemin]\n",
    "    #data2= data2[data2['t']<rangemax]    \n",
    "    path_data2=os.path.join(rootdir,sourcename,labelname2+'.csv')\n",
    "    #data2.to_csv(path_data2,index=False,header=False,sep=',')  \n",
    "    return path_data1,path_data2 "
   ]
  },
  {
   "cell_type": "markdown",
   "metadata": {},
   "source": [
    "# def_run ccf"
   ]
  },
  {
   "cell_type": "code",
   "execution_count": null,
   "metadata": {
    "ExecuteTime": {
     "end_time": "2021-09-29T01:33:59.002661Z",
     "start_time": "2021-09-29T01:33:58.997815Z"
    }
   },
   "outputs": [],
   "source": [
    "def run_ccf(rootdir,sourcename,labelname1,labelname2,dataname1,dataname2,rangemin,rangemax,lagrangel=-10,lagrangeh=30):\n",
    "    #command='python ccf_ngc1566_cpython.py %s %s %s %s %d %d %d %d'%(path_data1,path_data2,labelname1,labelname2,rangemin,rangemax,lagrangel,lagrangeh)\n",
    "    os.chdir(rootdir)\n",
    "    source_path=os.path.join(rootdir,sourcename)\n",
    "    path_data1,path_data2=write_lagfile(rootdir,sourcename,labelname1,labelname2,dataname1,dataname2,rangemin,rangemax)\n",
    "    command='python2 CCF_cpython.py %s %s %d %d %d %d %s'%(path_data1,path_data2,rangemin,rangemax,lagrangel,lagrangeh,source_path)\n",
    "    print(command)\n",
    "    os.system(command)  "
   ]
  },
  {
   "cell_type": "code",
   "execution_count": null,
   "metadata": {
    "ExecuteTime": {
     "end_time": "2021-09-29T01:34:01.360700Z",
     "start_time": "2021-09-29T01:34:01.356046Z"
    }
   },
   "outputs": [],
   "source": [
    "rootdir_ccf='/Users/brettlv/Downloads/CCF/'\n",
    "if not os.path.exists(rootdir_ccf):\n",
    "    os.mkdir(rootdir_ccf)\n",
    "    print(rootdir_ccf)"
   ]
  },
  {
   "cell_type": "markdown",
   "metadata": {},
   "source": [
    "## def_plot_ccf"
   ]
  },
  {
   "cell_type": "code",
   "execution_count": null,
   "metadata": {
    "ExecuteTime": {
     "end_time": "2021-09-29T01:34:05.177992Z",
     "start_time": "2021-09-29T01:34:05.173012Z"
    }
   },
   "outputs": [],
   "source": [
    "def plot_ccf(rootdir,sourcename,labelname1,labelname2,dataname1,dataname2,rangemin,rangemax,lagrangel=-10,lagrangeh=30):\n",
    "    #command='python ccf_ngc1566_cpython.py %s %s %s %s %d %d %d %d'%(path_data1,path_data2,labelname1,labelname2,rangemin,rangemax,lagrangel,lagrangeh)\n",
    "    os.chdir(rootdir)\n",
    "    source_path=os.path.join(rootdir,sourcename)\n",
    "    path_data1,path_data2=write_lagfile(rootdir,sourcename,labelname1,labelname2,dataname1,dataname2,rangemin,rangemax)\n",
    "    command='python2 CCF_plot.py %s %s %d %d %d %d %s'%(path_data1,path_data2,rangemin,rangemax,lagrangel,lagrangeh,source_path)\n",
    "    print(command)\n",
    "    os.system(command)  "
   ]
  },
  {
   "cell_type": "markdown",
   "metadata": {},
   "source": [
    "## def_plot_ccf_injupyter"
   ]
  },
  {
   "cell_type": "code",
   "execution_count": null,
   "metadata": {
    "ExecuteTime": {
     "end_time": "2021-09-29T06:17:20.572050Z",
     "start_time": "2021-09-29T06:17:20.544400Z"
    }
   },
   "outputs": [],
   "source": [
    "import matplotlib.pyplot as plt\n",
    "def plot_ccf_injupyter(rootdir,sourcename,labelname1,labelname2,dataname1,dataname2,rangemin,rangemax,lagrangel, lagrangeh):\n",
    "    lc1,lc2=get_lagfile(rootdir,sourcename,labelname1,labelname2,dataname1,dataname2,rangemin,rangemax)\n",
    "\n",
    "    time_min,time_max=rangemin,rangemax\n",
    "    lag_range = [lagrangel, lagrangeh]\n",
    "    lc1label=lc1.split('/')[-1][:-4]\n",
    "    lc2label=lc2.split('/')[-1][:-4]\n",
    "\n",
    "    data1=np.loadtxt(lc1,  comments='#', delimiter=',')\n",
    "    data2=np.loadtxt(lc2,  comments='#', delimiter=',')\n",
    "    mjd1, flux1, err1 =data1[:,0],data1[:,1],data1[:,2]\n",
    "    mjd2, flux2, err2 =data2[:,0],data2[:,1],data2[:,2]\n",
    "\n",
    "\n",
    "\n",
    "    mjd1, flux1, err1=get_new_range_datas(mjd1, flux1, err1,time_min,time_max)\n",
    "    mjd2, flux2, err2=get_new_range_datas(mjd2, flux2, err2,time_min,time_max)\n",
    "\n",
    "    df1=pd.read_csv('%s/%s_%s_lag_r.csv'%(os.path.join(rootdir,sourcename),lc1label,lc2label))\n",
    "    lag,r=df1['lag'],df1['r']\n",
    "\n",
    "    df2=pd.read_csv('%s/%s_%s_lag_cent_peak.csv'%(os.path.join(rootdir,sourcename),lc1label,lc2label))\n",
    "\n",
    "    tlags_centroid,tlags_peak=df2['tlags_centroid'],df2['tlags_peak']\n",
    "\n",
    "\n",
    "    maxindex=np.argmax(r)\n",
    "    Tmax=lag[maxindex]\n",
    "    minindex=np.argmin(r)\n",
    "    Tmin=lag[minindex]\n",
    "\n",
    "    ###Calculate the best peak and centroid and their uncertainties using the median of the\n",
    "    ##distributions.\n",
    "    perclim = 84.1344746\n",
    "    centau = stats.scoreatpercentile(tlags_centroid, 50)\n",
    "    centau_uperr = (stats.scoreatpercentile(tlags_centroid, perclim))-centau\n",
    "    centau_loerr = centau-(stats.scoreatpercentile(tlags_centroid, (100.-perclim)))\n",
    "\n",
    "    peaktau = stats.scoreatpercentile(tlags_peak, 50)\n",
    "    peaktau_uperr = (stats.scoreatpercentile(tlags_peak, perclim))-centau\n",
    "    peaktau_loerr = centau-(stats.scoreatpercentile(tlags_peak, (100.-perclim)))\n",
    "\n",
    "    ##########################################\n",
    "    #Write results out to a file in case we want them later.\n",
    "    ##########################################\n",
    "\n",
    "\n",
    "    fig = plt.figure(figsize=(9,9))\n",
    "    fig.subplots_adjust(hspace=0.4, wspace = 0.15)\n",
    "\n",
    "    #Plot lightcurves\n",
    "    ax1 = fig.add_subplot(3, 1, 1)\n",
    "    ax1.errorbar(mjd1, flux1, yerr = err1, marker = 'o', linestyle = ':', color = 'r', label = 'LC 1 (%s)'%lc1label)\n",
    "    \n",
    "    ax1_2 = fig.add_subplot(3, 1, 2, sharex = ax1)\n",
    "    ax1_2.errorbar(mjd2, flux2, yerr = err2, marker = '*', linestyle = ':', color = 'b', label = 'LC 2 (%s)'%lc2label)\n",
    "\n",
    "    ax1.text(0.025, 0.825, lc1label, fontsize = 15, transform = ax1.transAxes)\n",
    "    ax1_2.text(0.025, 0.825, lc2label, fontsize = 15, transform = ax1_2.transAxes)\n",
    "    ax1.set_ylabel('LC 1 Flux')\n",
    "    ax1_2.set_ylabel('LC 2 Flux')\n",
    "    ax1_2.set_xlabel('MJD')\n",
    "    #ax1.semilogy()\n",
    "    #ax1_2.semilogy()\n",
    "\n",
    "    #Plot CCF Information\n",
    "    #xmin, xmax = -99, 99\n",
    "    xmin, xmax = lag_range[0],lag_range[1]\n",
    "\n",
    "    ax2 = fig.add_subplot(3, 3, 7)\n",
    "    ax2.set_ylabel('CCF r')\n",
    "\n",
    "    #ax2.axhline(sigmode,color='black',ls='--',lw=1,)\n",
    "    ax2.axvline(Tmin,color='black',ls='--',lw=1,)\n",
    "    ax2.axvline(Tmax,color='black',ls='--',lw=1,)\n",
    "    ax2.text(0.2, 0.85, 'CCF ', horizontalalignment = 'center', verticalalignment = 'center', transform = ax2.transAxes, fontsize = 16)\n",
    "    ax2.text(0.3, 0.25, 'max r %.2f '%max(r), horizontalalignment = 'center', verticalalignment = 'center', transform = ax2.transAxes, fontsize = 6)\n",
    "    ax2.text(0.3, 0.05, 'min r %.2f '%min(r), horizontalalignment = 'center', verticalalignment = 'center', transform = ax2.transAxes, fontsize = 6)\n",
    "    #ax2.text(0.3, 0.45, r'$p$-value %.1e '%pval, horizontalalignment = 'center', verticalalignment = 'center', transform = ax2.transAxes, fontsize = 6)\n",
    "\n",
    "\n",
    "    ax2.set_xlim(xmin, xmax)\n",
    "    ax2.set_ylim(-1.0, 1.0)\n",
    "    ax2.plot(lag, r, color = 'k')\n",
    "    set_ax_locator(ax2,xma=50,xmi=25,yma=0.4,ymi=0.2)\n",
    "    \n",
    "    '''ax2_2 = fig.add_subplot(4, 2, 7)\n",
    "        ax2_2.set_ylabel('p_value')\n",
    "        ax2_2.axvline(Tmin,color='black',ls='--',lw=1,)\n",
    "        ax2_2.axvline(Tmax,color='black',ls='--',lw=1,)\n",
    "        #ax2.text(0.2, 0.85, 'CCF ', horizontalalignment = 'center', verticalalignment = 'center', transform = ax2.transAxes, fontsize = 16)\n",
    "        #ax2.text(0.2, 0.25, 'max r %.2f '%max(r), horizontalalignment = 'center', verticalalignment = 'center', transform = ax2.transAxes, fontsize = 6)\n",
    "        #ax2.text(0.2, 0.05, 'min r %.2f '%min(r), horizontalalignment = 'center', verticalalignment = 'center', transform = ax2.transAxes, fontsize = 6)\n",
    "        ax2_2.set_xlim(xmin, xmax)\n",
    "        ax2.set_ylim(-1.0, 1.0)\n",
    "        ax2_2.plot(tlags_peak, pvals, color = 'k',ls='',marker='.')'''\n",
    "\n",
    "\n",
    "    ax3 = fig.add_subplot(3, 3, 8, sharex = ax2)\n",
    "    ax3.set_xlim(xmin, xmax)\n",
    "    ax3.axes.get_yaxis().set_ticks([])\n",
    "    ax3.set_xlabel('Centroid Lag: %5.1f (+%5.1f -%5.1f)\\n'%(centau, centau_uperr, centau_loerr)+'Peak, errors:%5.1f(+%5.1f-%5.1f) days'%(peaktau, peaktau_uperr, peaktau_loerr), fontsize = 15)\n",
    "\n",
    "    ax3.text(0.2, 0.85, 'CCCD ', horizontalalignment = 'center', verticalalignment = 'center', transform = ax3.transAxes, fontsize = 16)\n",
    "    n, bins, etc = ax3.hist(tlags_centroid, bins = 100, color = 'grey')\n",
    "    \n",
    "    ax3.axvline(centau,ls='-',lw=1,)\n",
    "    ax3.axvline(centau+centau_uperr,ls='--',lw=1,)\n",
    "    ax3.axvline(centau-centau_loerr,ls='--',lw=1,)\n",
    "    \n",
    "    ax4 = fig.add_subplot(3, 3, 9, sharex = ax2)\n",
    "    ax4.set_ylabel('N')\n",
    "    ax4.yaxis.tick_right()\n",
    "    ax4.yaxis.set_label_position('right')\n",
    "    #ax4.set_xlabel('Lag (days)')\n",
    "    ax4.set_xlim(xmin, xmax)\n",
    "    ax4.text(0.2, 0.85, 'CCPD ', horizontalalignment = 'center', verticalalignment = 'center', transform = ax4.transAxes, fontsize = 16)\n",
    "    ax4.hist(tlags_peak, bins = bins, color = 'grey')\n",
    "    ax4.axvline(peaktau,ls='-',lw=1,)\n",
    "    ax4.axvline(peaktau+peaktau_uperr,ls='--',lw=1,)\n",
    "    ax4.axvline(peaktau-peaktau_loerr,ls='--',lw=1,)\n",
    "    \n",
    "    set_ax_tick(ax1)\n",
    "    set_ax_tick(ax1_2)\n",
    "    set_ax_tick(ax2) \n",
    "    \n",
    "    set_ax_tick(ax3) \n",
    "    set_ax_tick(ax4) \n",
    "    \n",
    "    plt.show()\n",
    "    #plt.savefig('%s/%s_%s_%s_ccf_%s_VS_%s_Centroid,error%10.3f(+%10.3f-%10.3f)_lagrange_%d_%d_d.png'%(rootdir,sourcename,int(time_min),int(time_max),lc1label,lc2label,centau, centau_uperr,centau_loerr,int(lag_range[0]),int(lag_range[1])), format = 'png', orientation = 'landscape', bbox_inches = 'tight')\n",
    "    plt.close(fig)"
   ]
  },
  {
   "cell_type": "markdown",
   "metadata": {},
   "source": [
    "# def run_javelin"
   ]
  },
  {
   "cell_type": "markdown",
   "metadata": {
    "ExecuteTime": {
     "end_time": "2021-09-28T02:35:57.880272Z",
     "start_time": "2021-09-28T02:35:57.875135Z"
    }
   },
   "source": [
    "log$\\sigma$  DRW model amplitude (sigma)   \n",
    "log$\\tau$  timescale (tau)     \n",
    "$\\alpha$  \n",
    "t   timelag  \n",
    "w   width  \n",
    "s   A scale factor  \n"
   ]
  },
  {
   "cell_type": "markdown",
   "metadata": {},
   "source": [
    "These will correspond to the DRW model amplitude (sigma) and timescale (tau), same as for all of the previous examples on this page"
   ]
  },
  {
   "cell_type": "markdown",
   "metadata": {},
   "source": [
    "Thus, for spectroscopic RM we have two parameters for the continuum DRW model, sigma and tau, and three parameters for each emission line model --- the lag t, the width of the tophat smoothing function w, and the flux scaling factor s; for photometric RM we have an additional parameter alpha describing the ratio between the two continua, one off and one on the line flux."
   ]
  },
  {
   "cell_type": "code",
   "execution_count": null,
   "metadata": {
    "ExecuteTime": {
     "end_time": "2021-09-29T01:34:16.467168Z",
     "start_time": "2021-09-29T01:34:16.461300Z"
    }
   },
   "outputs": [],
   "source": [
    "def write_javelin_lagfile(rootdir,sourcename,labelname1,labelname2,dataname1,dataname2,rangemin,rangemax):\n",
    "    if not os.path.exists(os.path.join(rootdir,sourcename)):\n",
    "        os.mkdir(os.path.join(rootdir,sourcename))\n",
    "        \n",
    "    data1= dataname1[dataname1['t']>rangemin]\n",
    "    data1= data1[data1['t']<rangemax]   \n",
    "    path_data1=os.path.join(rootdir,sourcename,labelname1+'.csv')\n",
    "    data1.to_csv(path_data1,index=False,header=False,sep=' ')\n",
    "    \n",
    "    data2= dataname2[dataname2['t']>rangemin]\n",
    "    data2= data2[data2['t']<rangemax]    \n",
    "    path_data2=os.path.join(rootdir,sourcename,labelname2+'.csv')\n",
    "    data2.to_csv(path_data2,index=False,header=False,sep=' ')  \n",
    "    return path_data1,path_data2    "
   ]
  },
  {
   "cell_type": "code",
   "execution_count": null,
   "metadata": {
    "ExecuteTime": {
     "end_time": "2021-09-29T01:34:17.082884Z",
     "start_time": "2021-09-29T01:34:17.078093Z"
    },
    "code_folding": []
   },
   "outputs": [],
   "source": [
    "def run_javelin(rootdir_javelin,sourcename,labelname1,labelname2,dataname1,dataname2,rangemin,rangemax,lagrangel=-10,lagrangeh=30,widthl=0,widthh=200):\n",
    "    #command='python ccf_ngc1566_cpython.py %s %s %s %s %d %d %d %d'%(path_data1,path_data2,labelname1,labelname2,rangemin,rangemax,lagrangel,lagrangeh)\n",
    "    os.chdir(rootdir_javelin)\n",
    "    source_path=os.path.join(rootdir_javelin,sourcename)\n",
    "    path_data1,path_data2=write_javelin_lagfile(rootdir_javelin,sourcename,labelname1,labelname2,dataname1,dataname2,rangemin,rangemax)\n",
    "    command='python2 javelin_spec.py %s %s %d %d %d %d %d %d %s'%(path_data1,path_data2,rangemin,rangemax,lagrangel,lagrangeh,widthl,widthh,source_path)\n",
    "    print(command)\n",
    "    os.system(command)  "
   ]
  },
  {
   "cell_type": "code",
   "execution_count": null,
   "metadata": {
    "ExecuteTime": {
     "end_time": "2021-09-29T01:34:18.036156Z",
     "start_time": "2021-09-29T01:34:18.032970Z"
    }
   },
   "outputs": [],
   "source": [
    "rootdir_javelin='/Users/brettlv/Downloads/Javelin/'\n",
    "if not os.path.exists(rootdir_javelin):\n",
    "    os.mkdir(rootdir_javelin)\n",
    "    print(rootdir_javelin)"
   ]
  },
  {
   "cell_type": "markdown",
   "metadata": {},
   "source": [
    "## def plot_javelin"
   ]
  },
  {
   "cell_type": "code",
   "execution_count": null,
   "metadata": {
    "ExecuteTime": {
     "end_time": "2021-09-29T07:43:00.087706Z",
     "start_time": "2021-09-29T07:43:00.066868Z"
    }
   },
   "outputs": [],
   "source": [
    "import matplotlib.pyplot as plt\n",
    "from astropy.visualization import hist\n",
    "\n",
    "def plot_javelin(rootdir,sourcename,labelname1,labelname2,dataname1,dataname2,rangemin,rangemax,lagrangel,lagrangeh):\n",
    "    lc1,lc2=get_lagfile(rootdir,sourcename,labelname1,labelname2,dataname1,dataname2,rangemin,rangemax)\n",
    "\n",
    "    time_min,time_max=rangemin,rangemax\n",
    "    lag_range = [lagrangel, lagrangeh]\n",
    "    lc1label=lc1.split('/')[-1][:-4]\n",
    "    lc2label=lc2.split('/')[-1][:-4]\n",
    "\n",
    "    data1=np.loadtxt(lc1,  comments='#', delimiter=' ')\n",
    "    data2=np.loadtxt(lc2,  comments='#', delimiter=' ')\n",
    "    mjd1, flux1, err1 =data1[:,0],data1[:,1],data1[:,2]\n",
    "    mjd2, flux2, err2 =data2[:,0],data2[:,1],data2[:,2]\n",
    "\n",
    "\n",
    "    mjd1, flux1, err1=get_new_range_datas(mjd1, flux1, err1,time_min,time_max)\n",
    "    mjd2, flux2, err2=get_new_range_datas(mjd2, flux2, err2,time_min,time_max)\n",
    "\n",
    "\n",
    "\n",
    "    tag = \"\"   \n",
    "    #confchain = \"dat/chain0.dat\" + tag\n",
    "    #topfchain = \"dat/chain1.dat\" + tag\n",
    "    #doufchain = \"dat/chain2.dat\" + tag\n",
    "    phofchain = \"%s/%s/%s_mcmc_%s.dat\"%(rootdir,sourcename,lc1label,lc2label) + tag\n",
    "    javelin_lag_data=pd.read_csv(phofchain,header=None,sep=' ')\n",
    "    lag_javelin=javelin_lag_data[2]\n",
    "    width_javelin_data=javelin_lag_data[3]\n",
    "    \n",
    "\n",
    "    ###Calculate the best peak and centroid and their uncertainties using the median of the\n",
    "    ##distributions.\n",
    "    perclim = 84.1344746\n",
    "    centau = stats.scoreatpercentile(lag_javelin, 50)\n",
    "    centau_uperr = (stats.scoreatpercentile(lag_javelin, perclim))-centau\n",
    "    centau_loerr = centau-(stats.scoreatpercentile(lag_javelin, (100.-perclim)))\n",
    "\n",
    "    width_javelin = stats.scoreatpercentile(width_javelin_data, 50)\n",
    "    width_javelin_uperr = (stats.scoreatpercentile(width_javelin_data, perclim))-width_javelin\n",
    "    width_javelin_loerr = width_javelin-(stats.scoreatpercentile(width_javelin_data, (100.-perclim)))\n",
    "\n",
    "    ##########################################\n",
    "    #Write results out to a file in case we want them later.\n",
    "    ##########################################\n",
    "\n",
    "\n",
    "    fig = plt.figure(figsize=(8,6))\n",
    "    fig.subplots_adjust(hspace=0.4, wspace = 0.15)\n",
    "\n",
    "    #Plot lightcurves\n",
    "    ax1 = fig.add_subplot(2, 1, 1)\n",
    "    ax1.errorbar(mjd1, flux1, yerr = err1, marker = 'o', linestyle = ':', color = 'k', label = 'LC 1 (%s)'%lc1label)\n",
    "    \n",
    "    ax1_2 = ax1.twinx()\n",
    "    ax1_2.errorbar(mjd2, flux2, yerr = err2, marker = '*', linestyle = ':', color = 'red', label = 'LC 2 (%s)'%lc2label)\n",
    "\n",
    "    #ax1.text(0.025, 0.825, lc1label, fontsize = 15, transform = ax1.transAxes)\n",
    "    #ax1_2.text(0.025, 0.825, lc2label, fontsize = 15, transform = ax1_2.transAxes)\n",
    "    ax1.set_ylabel('LC 1 Flux')\n",
    "    ax1_2.set_ylabel('LC 2 Flux')\n",
    "    ax1.set_xlabel('MJD')\n",
    "    #ax1.semilogy()\n",
    "    #ax1_2.semilogy()\n",
    "\n",
    "    #Plot CCF Information\n",
    "    #xmin, xmax = -99, 99\n",
    "    xmin, xmax = lag_range[0],lag_range[1]\n",
    "\n",
    "    ax2 = fig.add_subplot(2,2,3)\n",
    "    \n",
    "    ax2.axvline(centau,color='black',ls='-',lw=1,)\n",
    "    ax2.axvline(centau+centau_uperr,color='black',ls='--',lw=1,)\n",
    "    ax2.axvline(centau-centau_loerr,color='black',ls='--',lw=1,)\n",
    "        \n",
    "   \n",
    "     #ax2.set_ylim(0.0, 1.0)\n",
    "    \n",
    "    hist(lag_javelin,ax=ax2,bins=100,color='grey',density=True,zorder=0)\n",
    "    \n",
    "    ax2_1= fig.add_subplot(2, 2, 4)\n",
    "    ax2_2=ax2_1.twinx()\n",
    "    \n",
    "    ax2_2.axvline(width_javelin,color='black',ls='-',lw=1,)\n",
    "    ax2_2.axvline(width_javelin+width_javelin_uperr,color='black',ls='--',lw=1,)\n",
    "    ax2_2.axvline(width_javelin-width_javelin_loerr,color='black',ls='--',lw=1,)\n",
    "    hist(width_javelin_data,ax=ax2_2,bins=100,color='grey',density=True,zorder=0)\n",
    "\n",
    "    \n",
    "    ax1.legend(loc='upper left')\n",
    "    ax1_2.legend(loc='upper right')\n",
    "    \n",
    "    ax2.set_xlim(xmin, xmax)\n",
    "    ax2_2.set_xlim(min(width_javelin_data),max(width_javelin_data))\n",
    "    \n",
    "    ax2_1.yaxis.set_tick_params(which='major', size=10, width=2, direction='in',labelsize=0)\n",
    "    ax2_1.yaxis.set_tick_params(which='minor', size=10, width=2, direction='in',labelsize=0)\n",
    "    \n",
    "    ax2.set_xlabel('Centroid Lag: %5.1f (+%5.1f -%5.1f)\\n'%(centau, centau_uperr, centau_loerr), fontsize = 15)\n",
    "    ax2_1.set_xlabel('Centroid width: %5.1f (+%5.1f -%5.1f)\\n'%(width_javelin, width_javelin_uperr, width_javelin_loerr),fontsize = 15)\n",
    "\n",
    "    #set_ax_tick(ax1)\n",
    "    #set_ax_tick(ax1_2)\n",
    "    set_ax_tick(ax2) \n",
    "    set_ax_tick(ax2_2) \n",
    "    ax1.xaxis.set_tick_params(which='major', size=10, width=2, direction='in')\n",
    "    ax1.xaxis.set_tick_params(which='minor', size=5, width=2, direction='in',)\n",
    "    ax1.yaxis.set_tick_params(which='major', size=10, width=2, direction='in')\n",
    "    ax1.yaxis.set_tick_params(which='minor', size=5, width=2, direction='in',)\n",
    "    #set_ax_locator(ax2,xma=50,xmi=25,yma=0.4,ymi=0.2)\n",
    "    #set_ax_locator(ax2_2,xma=50,xmi=25,yma=0.4,ymi=0.2)\n",
    "   \n",
    "    #plt.show()\n",
    "    plt.savefig('%s/%s/hist_%s_%s_javelin_%s_VS_%s_Centroid,error%10.3f(+%10.3f-%10.3f)_lagrange_%d_%d_d.png'%(rootdir,sourcename,int(time_min),int(time_max),lc1label,lc2label,centau, centau_uperr,centau_loerr,int(lag_range[0]),int(lag_range[1])), format = 'png', orientation = 'landscape', bbox_inches = 'tight')\n",
    "    plt.close(fig)"
   ]
  },
  {
   "cell_type": "markdown",
   "metadata": {},
   "source": [
    "## def plot_javelin_injupyter"
   ]
  },
  {
   "cell_type": "code",
   "execution_count": null,
   "metadata": {
    "ExecuteTime": {
     "end_time": "2021-09-29T06:24:20.854519Z",
     "start_time": "2021-09-29T06:24:20.829659Z"
    }
   },
   "outputs": [],
   "source": [
    "import matplotlib.pyplot as plt\n",
    "from astropy.visualization import hist\n",
    "\n",
    "def plot_javelin_injupyter(rootdir,sourcename,labelname1,labelname2,dataname1,dataname2,rangemin,rangemax,lagrangel, lagrangeh):\n",
    "    lc1,lc2=get_lagfile(rootdir,sourcename,labelname1,labelname2,dataname1,dataname2,rangemin,rangemax)\n",
    "\n",
    "    time_min,time_max=rangemin,rangemax\n",
    "    lag_range = [lagrangel, lagrangeh]\n",
    "    lc1label=lc1.split('/')[-1][:-4]\n",
    "    lc2label=lc2.split('/')[-1][:-4]\n",
    "\n",
    "    data1=np.loadtxt(lc1,  comments='#', delimiter=' ')\n",
    "    data2=np.loadtxt(lc2,  comments='#', delimiter=' ')\n",
    "    mjd1, flux1, err1 =data1[:,0],data1[:,1],data1[:,2]\n",
    "    mjd2, flux2, err2 =data2[:,0],data2[:,1],data2[:,2]\n",
    "\n",
    "\n",
    "    mjd1, flux1, err1=get_new_range_datas(mjd1, flux1, err1,time_min,time_max)\n",
    "    mjd2, flux2, err2=get_new_range_datas(mjd2, flux2, err2,time_min,time_max)\n",
    "\n",
    "\n",
    "\n",
    "    tag = \"\"   \n",
    "    #confchain = \"dat/chain0.dat\" + tag\n",
    "    #topfchain = \"dat/chain1.dat\" + tag\n",
    "    #doufchain = \"dat/chain2.dat\" + tag\n",
    "    phofchain = \"%s/%s/%s_mcmc_%s.dat\"%(rootdir,sourcename,lc1label,lc2label) + tag\n",
    "    javelin_lag_data=pd.read_csv(phofchain,header=None,sep=' ')\n",
    "    lag_javelin=javelin_lag_data[2]\n",
    "    width_javelin_data=javelin_lag_data[3]\n",
    "    \n",
    "\n",
    "    ###Calculate the best peak and centroid and their uncertainties using the median of the\n",
    "    ##distributions.\n",
    "    perclim = 84.1344746\n",
    "    centau = stats.scoreatpercentile(lag_javelin, 50)\n",
    "    centau_uperr = (stats.scoreatpercentile(lag_javelin, perclim))-centau\n",
    "    centau_loerr = centau-(stats.scoreatpercentile(lag_javelin, (100.-perclim)))\n",
    "\n",
    "    width_javelin = stats.scoreatpercentile(width_javelin_data, 50)\n",
    "    width_javelin_uperr = (stats.scoreatpercentile(width_javelin_data, perclim))-width_javelin\n",
    "    width_javelin_loerr = width_javelin-(stats.scoreatpercentile(width_javelin_data, (100.-perclim)))\n",
    "\n",
    "    ##########################################\n",
    "    #Write results out to a file in case we want them later.\n",
    "    ##########################################\n",
    "\n",
    "\n",
    "    fig = plt.figure(figsize=(8,6))\n",
    "    fig.subplots_adjust(hspace=0.4, wspace = 0.15)\n",
    "\n",
    "    #Plot lightcurves\n",
    "    ax1 = fig.add_subplot(2, 1, 1)\n",
    "    ax1.errorbar(mjd1, flux1, yerr = err1, marker = 'o', linestyle = ':', color = 'k', label = 'LC 1 (%s)'%lc1label)\n",
    "    \n",
    "    ax1_2 = ax1.twinx()\n",
    "    ax1_2.errorbar(mjd2, flux2, yerr = err2, marker = '*', linestyle = ':', color = 'red', label = 'LC 2 (%s)'%lc2label)\n",
    "\n",
    "    #ax1.text(0.025, 0.825, lc1label, fontsize = 15, transform = ax1.transAxes)\n",
    "    #ax1_2.text(0.025, 0.825, lc2label, fontsize = 15, transform = ax1_2.transAxes)\n",
    "    ax1.set_ylabel('LC 1 Flux')\n",
    "    ax1_2.set_ylabel('LC 2 Flux')\n",
    "    ax1.set_xlabel('MJD')\n",
    "    #ax1.semilogy()\n",
    "    #ax1_2.semilogy()\n",
    "\n",
    "    #Plot CCF Information\n",
    "    #xmin, xmax = -99, 99\n",
    "    xmin, xmax = lag_range[0],lag_range[1]\n",
    "\n",
    "    ax2 = fig.add_subplot(2,2,3)\n",
    "    \n",
    "    ax2.axvline(centau,color='black',ls='-',lw=1,)\n",
    "    ax2.axvline(centau+centau_uperr,color='black',ls='--',lw=1,)\n",
    "    ax2.axvline(centau-centau_loerr,color='black',ls='--',lw=1,)\n",
    "        \n",
    "   \n",
    "     #ax2.set_ylim(0.0, 1.0)\n",
    "    \n",
    "    hist(lag_javelin,ax=ax2,bins=100,color='grey',density=True,zorder=0)\n",
    "    \n",
    "    ax2_1= fig.add_subplot(2, 2, 4)\n",
    "    ax2_2=ax2_1.twinx()\n",
    "    \n",
    "    ax2_2.axvline(width_javelin,color='black',ls='-',lw=1,)\n",
    "    ax2_2.axvline(width_javelin+width_javelin_uperr,color='black',ls='--',lw=1,)\n",
    "    ax2_2.axvline(width_javelin-width_javelin_loerr,color='black',ls='--',lw=1,)\n",
    "    hist(width_javelin_data,ax=ax2_2,bins=100,color='grey',density=True,zorder=0)\n",
    "\n",
    "    \n",
    "    ax1.legend(loc='upper left')\n",
    "    ax1_2.legend(loc='upper right')\n",
    "    \n",
    "    ax2.set_xlim(xmin, xmax)\n",
    "    ax2_2.set_xlim(min(width_javelin_data),max(width_javelin_data))\n",
    "    \n",
    "    ax2_1.yaxis.set_tick_params(which='major', size=10, width=2, direction='in',labelsize=0)\n",
    "    ax2_1.yaxis.set_tick_params(which='minor', size=10, width=2, direction='in',labelsize=0)\n",
    "    \n",
    "    ax2.set_xlabel('Centroid Lag: %5.1f (+%5.1f -%5.1f)\\n'%(centau, centau_uperr, centau_loerr), fontsize = 15)\n",
    "    ax2_1.set_xlabel('Centroid width: %5.1f (+%5.1f -%5.1f)\\n'%(width_javelin, width_javelin_uperr, width_javelin_loerr),fontsize = 15)\n",
    "\n",
    "    #set_ax_tick(ax1)\n",
    "    #set_ax_tick(ax1_2)\n",
    "    set_ax_tick(ax2) \n",
    "    set_ax_tick(ax2_2) \n",
    "    ax1.xaxis.set_tick_params(which='major', size=10, width=2, direction='in')\n",
    "    ax1.xaxis.set_tick_params(which='minor', size=5, width=2, direction='in',)\n",
    "    ax1.yaxis.set_tick_params(which='major', size=10, width=2, direction='in')\n",
    "    ax1.yaxis.set_tick_params(which='minor', size=5, width=2, direction='in',)\n",
    "    #set_ax_locator(ax2,xma=50,xmi=25,yma=0.4,ymi=0.2)\n",
    "    #set_ax_locator(ax2_2,xma=50,xmi=25,yma=0.4,ymi=0.2)\n",
    "   \n",
    "    plt.show()\n",
    "    #plt.savefig('%s/%s_%s_%s_ccf_%s_VS_%s_Centroid,error%10.3f(+%10.3f-%10.3f)_lagrange_%d_%d_d.png'%(rootdir,sourcename,int(time_min),int(time_max),lc1label,lc2label,centau, centau_uperr,centau_loerr,int(lag_range[0]),int(lag_range[1])), format = 'png', orientation = 'landscape', bbox_inches = 'tight')\n",
    "    plt.close(fig)"
   ]
  },
  {
   "cell_type": "markdown",
   "metadata": {},
   "source": [
    "# Mrk6"
   ]
  },
  {
   "cell_type": "code",
   "execution_count": null,
   "metadata": {
    "ExecuteTime": {
     "end_time": "2021-09-29T01:34:28.675897Z",
     "start_time": "2021-09-29T01:34:28.662963Z"
    }
   },
   "outputs": [],
   "source": [
    "Monitoring_AGNs_Du=pd.read_csv('/Users/brettlv/blog/IHEP_sync/data/Mrk6_lc_data/Mrk6.txt',delimiter='\\s+',header=None)\n",
    "Monitoring_AGNs_Du.columns=['Na','me','jd','F5100','e_F5100','FHb','e_FHb']\n",
    "\n",
    "Monitoring_AGNs_Du['Name']=Monitoring_AGNs_Du['Na']+Monitoring_AGNs_Du['me']\n",
    "\n",
    "Mrk6=Monitoring_AGNs_Du[Monitoring_AGNs_Du['Name']=='Mrk6']\n",
    "\n",
    "Mrk6['mjd']=Mrk6['jd']+2457700-2400000.5\n",
    "\n",
    "Mrk6=drop_index(Mrk6)"
   ]
  },
  {
   "cell_type": "code",
   "execution_count": null,
   "metadata": {
    "ExecuteTime": {
     "end_time": "2021-09-29T01:34:38.960253Z",
     "start_time": "2021-09-29T01:34:38.955244Z"
    }
   },
   "outputs": [],
   "source": [
    "Mrk6.columns"
   ]
  },
  {
   "cell_type": "markdown",
   "metadata": {},
   "source": [
    "## plot_5100A_Hbeta"
   ]
  },
  {
   "cell_type": "code",
   "execution_count": null,
   "metadata": {
    "ExecuteTime": {
     "end_time": "2021-09-29T01:34:57.173922Z",
     "start_time": "2021-09-29T01:34:56.932508Z"
    }
   },
   "outputs": [],
   "source": [
    "fig = plt.figure(figsize=(6,4))\n",
    "fig.subplots_adjust(hspace=0.0, wspace = 0.0)\n",
    "ax = fig.add_subplot(111)\n",
    "\n",
    "plotdata=Mrk6\n",
    "ax.scatter(plotdata['mjd'],plotdata['F5100'],color='red',label='5100')\n",
    "ax.scatter(plotdata['mjd'],plotdata['FHb'],color='black',label='Hbeta')\n",
    "\n",
    "#ax.scatter(data_test_neo['mjd'],data_test_neo['w2mpro'],color='blue',label='W2')\n",
    "#ax.scatter(data_test_mep['mjd'],data_test_mep['w2mpro_ep'],color='blue',label='W2')\n",
    "handles, labels = ax.get_legend_handles_labels()\n",
    "by_label = OrderedDict(zip(labels, handles))\n",
    "ax.legend(by_label.values(), by_label.keys(),bbox_to_anchor=(0.8, 0.9),ncol=1,\n",
    "      loc=2,fontsize=10)\n",
    "\n",
    "#bottom, top = plt.ylim() \n",
    "#plt.ylim(top,bottom)\n",
    "set_ax_tick(ax)\n",
    "plt.xlabel('mjd')\n",
    "plt.ylabel(r'$flux$')\n",
    "#ax.text(0.05, 0.9,name_test , horizontalalignment = 'center', verticalalignment = 'center',transform = ax.transAxes, fontsize = 10)\n",
    "#save_lc_img_path='/Users/brettlv/Downloads/Mrk6/Mrk6_5100_Hbeta_lc.png'\n",
    "#if not os.path.exists(save_lc_img_path):   \n",
    "#plt.savefig(save_lc_img_path,dpi=400, transparent=False, bbox_inches='tight')"
   ]
  },
  {
   "cell_type": "code",
   "execution_count": null,
   "metadata": {
    "ExecuteTime": {
     "end_time": "2021-09-29T01:35:31.132145Z",
     "start_time": "2021-09-29T01:35:31.125648Z"
    }
   },
   "outputs": [],
   "source": [
    "lagdata_5100_Mrk6=get_lag_data(Mrk6,'mjd','F5100','e_F5100')\n",
    "lagdata_FHb_Mrk6=get_lag_data(Mrk6,'mjd','FHb','e_FHb')"
   ]
  },
  {
   "cell_type": "markdown",
   "metadata": {
    "ExecuteTime": {
     "end_time": "2021-09-29T01:35:41.146708Z",
     "start_time": "2021-09-29T01:35:41.131573Z"
    }
   },
   "source": [
    "lagdata_5100_Mrk6"
   ]
  },
  {
   "cell_type": "markdown",
   "metadata": {
    "ExecuteTime": {
     "end_time": "2021-09-29T01:35:49.559611Z",
     "start_time": "2021-09-29T01:35:49.544962Z"
    }
   },
   "source": [
    "lagdata_FHb_Mrk6"
   ]
  },
  {
   "cell_type": "markdown",
   "metadata": {},
   "source": [
    "## XRT V"
   ]
  },
  {
   "cell_type": "code",
   "execution_count": null,
   "metadata": {
    "ExecuteTime": {
     "end_time": "2021-09-29T01:36:00.932957Z",
     "start_time": "2021-09-29T01:36:00.920793Z"
    }
   },
   "outputs": [],
   "source": [
    "Mrk6_XRT=pd.read_csv('/Users/brettlv/blog/IHEP_sync/data/data_lag/Mrk6/data_XRT_Mrk6.csv')\n",
    "Mrk6_V=pd.read_csv('/Users/brettlv/blog/IHEP_sync/data/data_lag/Mrk6/data_uvv_Mrk6.csv')"
   ]
  },
  {
   "cell_type": "markdown",
   "metadata": {
    "ExecuteTime": {
     "end_time": "2021-09-27T03:27:35.448619Z",
     "start_time": "2021-09-27T03:27:35.443343Z"
    }
   },
   "source": [
    "Mrk6_XRT.columns"
   ]
  },
  {
   "cell_type": "markdown",
   "metadata": {
    "ExecuteTime": {
     "end_time": "2021-09-27T03:27:38.753554Z",
     "start_time": "2021-09-27T03:27:38.747366Z"
    }
   },
   "source": [
    "Mrk6_V.columns"
   ]
  },
  {
   "cell_type": "code",
   "execution_count": null,
   "metadata": {
    "ExecuteTime": {
     "end_time": "2021-09-29T01:38:00.367213Z",
     "start_time": "2021-09-29T01:38:00.171786Z"
    }
   },
   "outputs": [],
   "source": [
    "name_test='Mrk 6'\n",
    "D_cm_Mrk6=CLAGN_210919_mass[CLAGN_210919_mass['Name']=='Mrk 6']['D_cm'].values[0]\n",
    "print(name_test,D_cm_Mrk6)\n",
    "data_test_neo,data_test_mep=get_wise_data(name_test,datawise_dir='/Users/brettlv/blog/brettlv.github.io/pythoncode/changinglookAGN/CLAGN_wise_data/')\n",
    "data_rebin_neo,data_rebin_mep=get_rebinwise_data(data_test_neo,data_test_mep)\n",
    "data_rebinflux_neo,data_rebinflux_mep=get_wiseflux_rebin(data_rebin_neo,data_rebin_mep,D_cm_Mrk6)\n",
    "datalag_w1_Mrk6,datalag_w2_Mrk6=get_wise_lc(data_rebinflux_neo,data_rebinflux_mep)"
   ]
  },
  {
   "cell_type": "code",
   "execution_count": null,
   "metadata": {
    "ExecuteTime": {
     "end_time": "2021-09-29T01:38:35.032539Z",
     "start_time": "2021-09-29T01:38:35.018988Z"
    }
   },
   "outputs": [],
   "source": [
    "Mrk6_XRT['logL']=np.log10(4*np.pi*D_cm_Mrk6**2)+Mrk6_XRT['logf']\n",
    "Mrk6_XRT['logLerr']=Mrk6_XRT['logf_err']\n",
    "\n",
    "Mrk6_V['logL']=np.log10(4*np.pi*D_cm_Mrk6**2)+Mrk6_V['logvf']\n",
    "Mrk6_V['logLerr']=Mrk6_V['logvf_err']\n",
    "\n",
    "\n",
    "timelabel,fluxlabel_w1,e_fluxlabel_w1=('mjd','logL', 'logLerr')\n",
    "lag_Mrk6_V=get_lag_data(Mrk6_V,timelabel,fluxlabel_w1,e_fluxlabel_w1)\n",
    "timelabel,fluxlabel_w1,e_fluxlabel_w1=('mjd','logL', 'logLerr')\n",
    "lag_Mrk6_XRT=get_lag_data(Mrk6_XRT,timelabel,fluxlabel_w1,e_fluxlabel_w1)"
   ]
  },
  {
   "cell_type": "markdown",
   "metadata": {
    "ExecuteTime": {
     "end_time": "2021-09-27T05:19:19.942058Z",
     "start_time": "2021-09-27T05:19:19.928917Z"
    }
   },
   "source": [
    "datalag_w1"
   ]
  },
  {
   "cell_type": "markdown",
   "metadata": {
    "ExecuteTime": {
     "end_time": "2021-09-27T03:29:32.847889Z",
     "start_time": "2021-09-27T03:29:32.832836Z"
    }
   },
   "source": [
    "lag_Mrk6_XRT"
   ]
  },
  {
   "cell_type": "markdown",
   "metadata": {
    "ExecuteTime": {
     "end_time": "2021-09-27T03:28:56.966608Z",
     "start_time": "2021-09-27T03:28:56.952375Z"
    }
   },
   "source": [
    "lag_Mrk6_V"
   ]
  },
  {
   "cell_type": "markdown",
   "metadata": {},
   "source": [
    "### lag_ W1 XRT V"
   ]
  },
  {
   "cell_type": "code",
   "execution_count": null,
   "metadata": {
    "ExecuteTime": {
     "end_time": "2021-09-29T01:39:21.931803Z",
     "start_time": "2021-09-29T01:39:20.299173Z"
    }
   },
   "outputs": [],
   "source": [
    "fig = plt.figure(figsize=(6,6))\n",
    "fig.subplots_adjust(hspace=0.0, wspace = 0.0)\n",
    "ax = fig.add_subplot(111)\n",
    "\n",
    "ax.errorbar(datalag_w1_Mrk6['t'],datalag_w1_Mrk6['flux'],datalag_w1_Mrk6['err'],marker='.',ls='',label='W1')\n",
    "\n",
    "ax.errorbar(lag_Mrk6_XRT['t'],lag_Mrk6_XRT['flux'],lag_Mrk6_XRT['err'],marker='.',ls='',label='XRT')\n",
    "\n",
    "ax.errorbar(lag_Mrk6_V['t'],lag_Mrk6_V['flux'],lag_Mrk6_V['err'],marker='.',ls='',label='V')\n",
    "\n",
    "set_ax_tick(ax)\n",
    "ax.text(0.5, 0.9,name_test , horizontalalignment = 'center', verticalalignment = 'center',transform = ax.transAxes, fontsize = 10)\n",
    "\n",
    "plot_secax(ax,mi_interval=365,ma_interval=365*2)\n",
    "plt.xlabel('mjd')\n",
    "plt.ylabel(r'$logL$')\n",
    "plt.xlim(55000,59600)\n",
    "plt.legend()\n",
    "plt.show()\n",
    "plt.close()"
   ]
  },
  {
   "cell_type": "code",
   "execution_count": null,
   "metadata": {
    "ExecuteTime": {
     "end_time": "2021-09-29T01:41:27.584993Z",
     "start_time": "2021-09-29T01:41:26.769951Z"
    }
   },
   "outputs": [],
   "source": [
    "fig = plt.figure(figsize=(6,6))\n",
    "fig.subplots_adjust(hspace=0.0, wspace = 0.0)\n",
    "ax = fig.add_subplot(111)\n",
    "\n",
    "#ax.errorbar(datalag_w1_Mrk6['t'],datalag_w1_Mrk6['flux'],datalag_w1_Mrk6['err'],marker='.',ls='',label='W1')\n",
    "\n",
    "ax.errorbar(lag_Mrk6_XRT['t'],lag_Mrk6_XRT['flux'],lag_Mrk6_XRT['err'],marker='.',ls='',label='XRT')\n",
    "ax.errorbar(lag_Mrk6_V['t'],lag_Mrk6_V['flux'],lag_Mrk6_V['err'],marker='.',ls='',label='V')\n",
    "\n",
    "set_ax_tick(ax)\n",
    "ax.text(0.5, 0.9,name_test , horizontalalignment = 'center', verticalalignment = 'center',transform = ax.transAxes, fontsize = 10)\n",
    "\n",
    "plot_secax(ax,mi_interval=365,ma_interval=365*2)\n",
    "plt.xlabel('mjd')\n",
    "plt.ylabel(r'$logL$')\n",
    "plt.xlim(58500,59600)\n",
    "plt.legend()\n",
    "plt.show()\n",
    "plt.close()"
   ]
  },
  {
   "cell_type": "markdown",
   "metadata": {
    "ExecuteTime": {
     "end_time": "2021-09-22T12:08:50.574673Z",
     "start_time": "2021-09-22T12:08:50.571390Z"
    }
   },
   "source": [
    "## run_ccf"
   ]
  },
  {
   "cell_type": "code",
   "execution_count": null,
   "metadata": {
    "ExecuteTime": {
     "end_time": "2021-09-29T01:45:01.239583Z",
     "start_time": "2021-09-29T01:45:01.235815Z"
    }
   },
   "outputs": [],
   "source": [
    "labelname1=\"5100A\"\n",
    "labelname2=\"Hbeta\"\n",
    "dataname1=lagdata_5100_Mrk6\n",
    "dataname2=lagdata_FHb_Mrk6\n",
    "sourcename='Mrk6'\n",
    "rangemin,rangemax=57740,58000\n",
    "lagrangel=-50\n",
    "lagrangeh=100"
   ]
  },
  {
   "cell_type": "code",
   "execution_count": null,
   "metadata": {
    "ExecuteTime": {
     "end_time": "2021-09-29T01:45:37.105864Z",
     "start_time": "2021-09-29T01:45:02.604322Z"
    }
   },
   "outputs": [],
   "source": [
    "run_ccf(rootdir_ccf,sourcename,labelname1,labelname2,dataname1,dataname2,rangemin,rangemax,lagrangel,lagrangeh)"
   ]
  },
  {
   "cell_type": "code",
   "execution_count": null,
   "metadata": {
    "ExecuteTime": {
     "end_time": "2021-09-29T01:46:06.170413Z",
     "start_time": "2021-09-29T01:46:02.403938Z"
    }
   },
   "outputs": [],
   "source": [
    "plot_ccf(rootdir_ccf,sourcename,labelname1,labelname2,dataname1,dataname2,rangemin,rangemax,lagrangel=-10,lagrangeh=100)"
   ]
  },
  {
   "cell_type": "markdown",
   "metadata": {},
   "source": [
    "## plot_ccf_injupyter"
   ]
  },
  {
   "cell_type": "code",
   "execution_count": null,
   "metadata": {
    "ExecuteTime": {
     "end_time": "2021-09-29T01:46:53.533019Z",
     "start_time": "2021-09-29T01:46:51.556206Z"
    }
   },
   "outputs": [],
   "source": [
    "plot_ccf_injupyter(rootdir_ccf,sourcename,labelname1,labelname2,dataname1,dataname2,rangemin,rangemax,lagrangel,lagrangeh)"
   ]
  },
  {
   "cell_type": "markdown",
   "metadata": {},
   "source": [
    "## run_javelin"
   ]
  },
  {
   "cell_type": "code",
   "execution_count": null,
   "metadata": {
    "ExecuteTime": {
     "end_time": "2021-09-29T01:42:45.853883Z",
     "start_time": "2021-09-29T01:42:45.850053Z"
    }
   },
   "outputs": [],
   "source": [
    "labelname1=\"5100A\"\n",
    "labelname2=\"Hbeta\"\n",
    "dataname1=lagdata_5100_Mrk6\n",
    "dataname2=lagdata_FHb_Mrk6\n",
    "sourcename='Mrk6'\n",
    "\n",
    "rangemin,rangemax=57740,58000\n",
    "lagrangel=-50\n",
    "lagrangeh=100\n",
    "widthl=0\n",
    "widthh=200"
   ]
  },
  {
   "cell_type": "code",
   "execution_count": null,
   "metadata": {
    "ExecuteTime": {
     "end_time": "2021-09-29T01:44:03.693756Z",
     "start_time": "2021-09-29T01:42:51.172921Z"
    }
   },
   "outputs": [],
   "source": [
    "run_javelin(rootdir_javelin,sourcename,labelname1,labelname2,\n",
    "            dataname1,dataname2,rangemin,rangemax,lagrangel,lagrangeh,widthl,widthh)"
   ]
  },
  {
   "cell_type": "markdown",
   "metadata": {},
   "source": [
    "# Mrk 1018"
   ]
  },
  {
   "cell_type": "code",
   "execution_count": null,
   "metadata": {},
   "outputs": [],
   "source": []
  },
  {
   "cell_type": "code",
   "execution_count": null,
   "metadata": {},
   "outputs": [],
   "source": []
  },
  {
   "cell_type": "markdown",
   "metadata": {},
   "source": [
    "# NGC 1566"
   ]
  },
  {
   "cell_type": "code",
   "execution_count": null,
   "metadata": {
    "ExecuteTime": {
     "end_time": "2021-10-12T03:17:00.837640Z",
     "start_time": "2021-10-12T03:17:00.829897Z"
    }
   },
   "outputs": [],
   "source": [
    "#Mrk530_XRT=pd.read_csv('/Users/brettlv/blog/IHEP_sync/data/data_lag/Mrk530/data_XRT_Mrk530.csv')\n",
    "NGC1566_V=pd.read_csv('/Users/brettlv/blog/IHEP_sync/data/data_lag/NGC1566/NGC1566_lag_combined_V.csv')"
   ]
  },
  {
   "cell_type": "code",
   "execution_count": null,
   "metadata": {
    "ExecuteTime": {
     "end_time": "2021-10-12T03:17:01.868937Z",
     "start_time": "2021-10-12T03:17:01.687607Z"
    }
   },
   "outputs": [],
   "source": [
    "name_test='NGC 1566'\n",
    "D_cm_NGC1566=CLAGN_210919_mass[CLAGN_210919_mass['Name']=='NGC 1566']['D_cm'].values[0]\n",
    "print(name_test,D_cm_NGC1566)\n",
    "data_test_neo,data_test_mep=get_wise_data(name_test,datawise_dir='/Users/brettlv/blog/brettlv.github.io/pythoncode/changinglookAGN/CLAGN_wise_data/')\n",
    "data_rebin_neo,data_rebin_mep=get_rebinwise_data(data_test_neo,data_test_mep)\n",
    "data_rebinflux_neo,data_rebinflux_mep=get_wiseflux_rebin(data_rebin_neo,data_rebin_mep,D_cm_NGC1566)\n",
    "datalag_w1_NGC1566,datalag_w2_NGC1566=get_wise_lc(data_rebinflux_neo,data_rebinflux_mep)"
   ]
  },
  {
   "cell_type": "code",
   "execution_count": null,
   "metadata": {
    "ExecuteTime": {
     "end_time": "2021-10-12T03:18:10.010452Z",
     "start_time": "2021-10-12T03:18:10.000910Z"
    }
   },
   "outputs": [],
   "source": [
    "data_rebinflux_mep"
   ]
  },
  {
   "cell_type": "code",
   "execution_count": null,
   "metadata": {
    "ExecuteTime": {
     "end_time": "2021-10-12T03:17:03.327362Z",
     "start_time": "2021-10-12T03:17:03.322946Z"
    }
   },
   "outputs": [],
   "source": [
    "wave6[0],freq6[0]"
   ]
  },
  {
   "cell_type": "code",
   "execution_count": null,
   "metadata": {
    "ExecuteTime": {
     "end_time": "2021-10-12T03:17:14.992233Z",
     "start_time": "2021-10-12T03:17:14.979578Z"
    }
   },
   "outputs": [],
   "source": [
    "NGC1566_V['logvf']=np.log10(NGC1566_V['flux'])-26+np.log10(freq6[0])\n",
    "NGC1566_V['logvferr']=NGC1566_V['err']/NGC1566_V['flux']/np.log(10)\n",
    "NGC1566_V['logL']=np.log10(4*np.pi*D_cm_NGC1566**2)+NGC1566_V['logvf']\n",
    "NGC1566_V['logLerr']=NGC1566_V['logvferr']\n",
    "\n",
    "timelabel,fluxlabel_w1,e_fluxlabel_w1=('t','logL', 'logLerr')\n",
    "lag_NGC1566_V=get_lag_data(NGC1566_V,timelabel,fluxlabel_w1,e_fluxlabel_w1)"
   ]
  },
  {
   "cell_type": "code",
   "execution_count": null,
   "metadata": {
    "ExecuteTime": {
     "end_time": "2021-10-12T03:17:17.298486Z",
     "start_time": "2021-10-12T03:17:15.860547Z"
    }
   },
   "outputs": [],
   "source": [
    "timelabel,fluxlabel,e_fluxlabel='t','flux', 'err'\n",
    "mean_mjds,mean_counts,mean_counts_e=median_lc(lag_NGC1566_V,timelabel,fluxlabel,e_fluxlabel,interval=30)\n",
    "lag_NGC1566_V_rebin30=pd.DataFrame({'t':mean_mjds,'flux':mean_counts,\\\n",
    "                                  'err':mean_counts_e},\\\n",
    "                                  index=None,columns=['t','flux','err'])\n",
    "\n",
    "mean_mjds,mean_counts,mean_counts_e=median_lc(lag_NGC1566_V,timelabel,fluxlabel,e_fluxlabel,interval=20)\n",
    "lag_NGC1566_V_rebin20=pd.DataFrame({'t':mean_mjds,'flux':mean_counts,\\\n",
    "                                  'err':mean_counts_e},\\\n",
    "                                  index=None,columns=['t','flux','err'])\n",
    "\n",
    "mean_mjds,mean_counts,mean_counts_e=median_lc(lag_NGC1566_V,timelabel,fluxlabel,e_fluxlabel,interval=10)\n",
    "lag_NGC1566_V_rebin10=pd.DataFrame({'t':mean_mjds,'flux':mean_counts,\\\n",
    "                                  'err':mean_counts_e},\\\n",
    "                                  index=None,columns=['t','flux','err'])"
   ]
  },
  {
   "cell_type": "code",
   "execution_count": null,
   "metadata": {
    "ExecuteTime": {
     "end_time": "2021-10-12T03:17:18.504937Z",
     "start_time": "2021-10-12T03:17:18.499887Z"
    }
   },
   "outputs": [],
   "source": [
    "lag_NGC1566_V.columns"
   ]
  },
  {
   "cell_type": "code",
   "execution_count": null,
   "metadata": {
    "ExecuteTime": {
     "end_time": "2021-10-12T03:17:26.099733Z",
     "start_time": "2021-10-12T03:17:24.435550Z"
    }
   },
   "outputs": [],
   "source": [
    "fig = plt.figure(figsize=(6,6))\n",
    "fig.subplots_adjust(hspace=0.0, wspace = 0.0)\n",
    "ax = fig.add_subplot(111)\n",
    "\n",
    "ax.errorbar(datalag_w1_NGC1566['t'],datalag_w1_NGC1566['flux'],datalag_w1_NGC1566['err']\n",
    "            ,marker='.',ls='',label='W1')\n",
    "\n",
    "ax.errorbar(lag_NGC1566_V_rebin10['t'],lag_NGC1566_V_rebin10['flux'],\n",
    "            lag_NGC1566_V_rebin10['err']\n",
    "            ,marker='.',ls='',label='V')\n",
    "\n",
    "'''ax.errorbar(lag_NGC1566_V['t'],lag_NGC1566_V['flux'],\n",
    "            lag_NGC1566_V['err']\n",
    "            ,marker='.',ls='',label='V')'''\n",
    "\n",
    "\n",
    "\n",
    "'''ax.errorbar(lag_NGC1566_V_rebin30['t'],lag_NGC1566_V_rebin30['flux'],\n",
    "            lag_NGC1566_V_rebin30['err']\n",
    "            ,marker='.',ls='',label='V')'''\n",
    "\n",
    "\n",
    "'''ax.errorbar(lag_NGC1566_V_rebin20['t'],lag_NGC1566_V_rebin20['flux'],\n",
    "            lag_NGC1566_V_rebin20['err']\n",
    "            ,marker='.',ls='',label='V')\n",
    "'''\n",
    "#ax.errorbar(lag_Mrk6_XRT['t'],lag_Mrk6_XRT['flux'],lag_Mrk6_XRT['err'],marker='.',ls='',label='XRT')\n",
    "\n",
    "#ax.errorbar(lag_NGC1566_V['t'],lag_NGC1566_V['flux'],lag_NGC1566_V['err'],marker='.',ls='',label='V')\n",
    "ax.text(0.5, 0.9,name_test , horizontalalignment = 'center', verticalalignment = 'center',transform = ax.transAxes, fontsize = 10)\n",
    "\n",
    "set_ax_tick(ax)\n",
    "plot_secax(ax,mi_interval=365,ma_interval=365*2)\n",
    "plt.xlabel('mjd')\n",
    "plt.ylabel(r'$logL$')\n",
    "plt.xlim(55000+200,59900)\n",
    "plt.legend()\n"
   ]
  },
  {
   "cell_type": "markdown",
   "metadata": {},
   "source": [
    "## run_ccf"
   ]
  },
  {
   "cell_type": "code",
   "execution_count": null,
   "metadata": {
    "ExecuteTime": {
     "end_time": "2021-09-29T07:53:45.461927Z",
     "start_time": "2021-09-29T07:53:45.457650Z"
    }
   },
   "outputs": [],
   "source": [
    "labelname1=\"V\"\n",
    "labelname2=\"W1\"\n",
    "dataname1=lag_NGC1566_V\n",
    "dataname2=datalag_w1_NGC1566\n",
    "sourcename='NGC1566'\n",
    "\n",
    "rangemin,rangemax=57200,59500\n",
    "lagrangel=0\n",
    "lagrangeh=180\n"
   ]
  },
  {
   "cell_type": "code",
   "execution_count": null,
   "metadata": {
    "ExecuteTime": {
     "end_time": "2021-09-29T07:54:57.514856Z",
     "start_time": "2021-09-29T07:53:50.905277Z"
    },
    "scrolled": true
   },
   "outputs": [],
   "source": [
    "run_ccf(rootdir_ccf,sourcename,labelname1,labelname2,dataname1,dataname2,rangemin,rangemax,lagrangel,lagrangeh)\n",
    "plot_ccf(rootdir_ccf,sourcename,labelname1,labelname2,dataname1,dataname2,rangemin,rangemax,lagrangel,lagrangeh)\n",
    "plot_ccf_injupyter(rootdir_ccf,sourcename,labelname1,labelname2,dataname1,dataname2,rangemin,rangemax,lagrangel,lagrangeh)"
   ]
  },
  {
   "cell_type": "code",
   "execution_count": null,
   "metadata": {
    "ExecuteTime": {
     "end_time": "2021-09-29T08:09:54.946172Z",
     "start_time": "2021-09-29T08:09:13.771718Z"
    }
   },
   "outputs": [],
   "source": [
    "lagrangel=0\n",
    "lagrangeh=100\n",
    "run_ccf(rootdir_ccf,sourcename,labelname1,labelname2,dataname1,dataname2,rangemin,rangemax,lagrangel,lagrangeh)\n",
    "plot_ccf(rootdir_ccf,sourcename,labelname1,labelname2,dataname1,dataname2,rangemin,rangemax,lagrangel,lagrangeh)\n",
    "plot_ccf_injupyter(rootdir_ccf,sourcename,labelname1,labelname2,dataname1,dataname2,rangemin,rangemax,lagrangel,lagrangeh)"
   ]
  },
  {
   "cell_type": "markdown",
   "metadata": {},
   "source": [
    "## run_javelin"
   ]
  },
  {
   "cell_type": "code",
   "execution_count": null,
   "metadata": {
    "ExecuteTime": {
     "end_time": "2021-09-29T07:43:49.648435Z",
     "start_time": "2021-09-29T07:43:49.644592Z"
    }
   },
   "outputs": [],
   "source": [
    "labelname1=\"V\"\n",
    "labelname2=\"W1\"\n",
    "dataname1=lag_NGC1566_V\n",
    "dataname2=datalag_w1_NGC1566\n",
    "sourcename='NGC1566'\n",
    "\n",
    "rangemin,rangemax=57200,59500\n",
    "lagrangel=50\n",
    "lagrangeh=100\n",
    "widthl=0\n",
    "widthh=100"
   ]
  },
  {
   "cell_type": "code",
   "execution_count": null,
   "metadata": {},
   "outputs": [],
   "source": []
  },
  {
   "cell_type": "code",
   "execution_count": null,
   "metadata": {
    "ExecuteTime": {
     "end_time": "2021-09-29T07:50:14.192021Z",
     "start_time": "2021-09-29T07:43:54.010095Z"
    }
   },
   "outputs": [],
   "source": [
    "run_javelin(rootdir_javelin,sourcename,labelname1,labelname2,\n",
    "            dataname1,dataname2,rangemin,rangemax,lagrangel,lagrangeh,widthl,widthh)\n",
    "\n",
    "plot_javelin(rootdir_javelin,sourcename,labelname1,labelname2,dataname1,dataname2,rangemin,rangemax,lagrangel,lagrangeh)\n"
   ]
  },
  {
   "cell_type": "code",
   "execution_count": null,
   "metadata": {
    "ExecuteTime": {
     "end_time": "2021-09-29T07:43:10.157923Z",
     "start_time": "2021-09-29T07:43:08.887000Z"
    }
   },
   "outputs": [],
   "source": []
  },
  {
   "cell_type": "markdown",
   "metadata": {
    "ExecuteTime": {
     "end_time": "2021-09-29T03:01:00.869716Z",
     "start_time": "2021-09-29T03:01:00.782882Z"
    }
   },
   "source": [
    "phofchain = \"%s/%s_mcmc_%s.dat\"%(sourcename,labelname1,labelname2) \n",
    "javelin_lag_data=pd.read_csv(phofchain,header=None,sep=' ')\n",
    "lag_javelin=javelin_lag_data[2]\n",
    "width_javelin_data=javelin_lag_data[3]\n",
    "\n",
    "perclim = 84.1344746\n",
    "centau = stats.scoreatpercentile(lag_javelin, 50)\n",
    "centau_uperr = (stats.scoreatpercentile(lag_javelin, perclim))-centau\n",
    "centau_loerr = centau-(stats.scoreatpercentile(lag_javelin, (100.-perclim)))\n",
    "\n",
    "width_javelin = stats.scoreatpercentile(width_javelin_data, 50)\n",
    "width_javelin_uperr = (stats.scoreatpercentile(width_javelin_data, perclim))-width_javelin\n",
    "width_javelin_loerr = width_javelin-(stats.scoreatpercentile(width_javelin_data, (100.-perclim)))\n",
    "\n",
    "print(centau,width_javelin)"
   ]
  },
  {
   "cell_type": "code",
   "execution_count": null,
   "metadata": {
    "ExecuteTime": {
     "end_time": "2021-09-29T07:29:01.014403Z",
     "start_time": "2021-09-29T07:26:18.898Z"
    }
   },
   "outputs": [],
   "source": [
    "plot_javelin_injupyter(rootdir_javelin,sourcename,labelname1,labelname2,dataname1,dataname2,rangemin,rangemax,lagrangel, lagrangeh)"
   ]
  },
  {
   "cell_type": "markdown",
   "metadata": {
    "ExecuteTime": {
     "end_time": "2021-09-27T05:36:34.080394Z",
     "start_time": "2021-09-27T05:36:34.077571Z"
    }
   },
   "source": [
    "# Mrk 530"
   ]
  },
  {
   "cell_type": "code",
   "execution_count": null,
   "metadata": {
    "ExecuteTime": {
     "end_time": "2021-09-29T08:11:17.239563Z",
     "start_time": "2021-09-29T08:11:17.226948Z"
    }
   },
   "outputs": [],
   "source": [
    "Mrk530_XRT=pd.read_csv('/Users/brettlv/blog/IHEP_sync/data/data_lag/Mrk530/data_XRT_Mrk530.csv')\n",
    "Mrk530_V=pd.read_csv('/Users/brettlv/blog/IHEP_sync/data/data_lag/Mrk530/data_uvv_Mrk530.csv')"
   ]
  },
  {
   "cell_type": "code",
   "execution_count": null,
   "metadata": {
    "ExecuteTime": {
     "end_time": "2021-09-29T08:12:55.727919Z",
     "start_time": "2021-09-29T08:12:55.533877Z"
    }
   },
   "outputs": [],
   "source": [
    "name_test='Mrk 530'\n",
    "D_cm_Mrk530=CLAGN_210919_mass[CLAGN_210919_mass['Name']=='Mrk 530']['D_cm'].values[0]\n",
    "print(name_test,D_cm_Mrk530)\n",
    "data_test_neo,data_test_mep=get_wise_data(name_test,datawise_dir='/Users/brettlv/blog/brettlv.github.io/pythoncode/changinglookAGN/CLAGN_wise_data/')\n",
    "data_rebin_neo,data_rebin_mep=get_rebinwise_data(data_test_neo,data_test_mep)\n",
    "data_rebinflux_neo,data_rebinflux_mep=get_wiseflux_rebin(data_rebin_neo,data_rebin_mep,D_cm_Mrk530)\n",
    "datalag_w1_Mrk530,datalag_w2_Mrk530=get_wise_lc(data_rebinflux_neo,data_rebinflux_mep)"
   ]
  },
  {
   "cell_type": "code",
   "execution_count": null,
   "metadata": {
    "ExecuteTime": {
     "end_time": "2021-09-29T08:11:46.735697Z",
     "start_time": "2021-09-29T08:11:46.723174Z"
    }
   },
   "outputs": [],
   "source": [
    "Mrk530_XRT['logL']=np.log10(4*np.pi*D_cm_Mrk530**2)+Mrk530_XRT['logf']\n",
    "Mrk530_XRT['logLerr']=Mrk530_XRT['logf_err']\n",
    "\n",
    "Mrk530_V['logL']=np.log10(4*np.pi*D_cm_Mrk530**2)+Mrk530_V['logvf']\n",
    "Mrk530_V['logLerr']=Mrk530_V['logvf_err']\n",
    "\n",
    "\n",
    "timelabel,fluxlabel_w1,e_fluxlabel_w1=('mjd','logL', 'logLerr')\n",
    "lag_Mrk530_V=get_lag_data(Mrk530_V,timelabel,fluxlabel_w1,e_fluxlabel_w1)\n",
    "timelabel,fluxlabel_w1,e_fluxlabel_w1=('mjd','logL', 'logLerr')\n",
    "lag_Mrk530_XRT=get_lag_data(Mrk530_XRT,timelabel,fluxlabel_w1,e_fluxlabel_w1)"
   ]
  },
  {
   "cell_type": "code",
   "execution_count": null,
   "metadata": {
    "ExecuteTime": {
     "end_time": "2021-09-27T05:40:46.755975Z",
     "start_time": "2021-09-27T05:40:46.739386Z"
    }
   },
   "outputs": [],
   "source": []
  },
  {
   "cell_type": "code",
   "execution_count": null,
   "metadata": {
    "ExecuteTime": {
     "end_time": "2021-09-29T08:13:07.694284Z",
     "start_time": "2021-09-29T08:13:06.128152Z"
    }
   },
   "outputs": [],
   "source": [
    "fig = plt.figure(figsize=(6,6))\n",
    "fig.subplots_adjust(hspace=0.0, wspace = 0.0)\n",
    "ax = fig.add_subplot(111)\n",
    "\n",
    "ax.errorbar(datalag_w1_Mrk530['t'],datalag_w1_Mrk530['flux'],datalag_w1_Mrk530['err'],marker='.',ls='',label='W1')\n",
    "\n",
    "ax.errorbar(lag_Mrk530_XRT['t'],lag_Mrk530_XRT['flux'],lag_Mrk530_XRT['err'],marker='.',ls='',label='XRT')\n",
    "\n",
    "ax.errorbar(lag_Mrk530_V['t'],lag_Mrk530_V['flux'],lag_Mrk530_V['err'],marker='.',ls='',label='V')\n",
    "\n",
    "set_ax_tick(ax)\n",
    "plot_secax(ax,mi_interval=365,ma_interval=365*2)\n",
    "plt.xlabel('mjd')\n",
    "plt.ylabel(r'$logL$')\n",
    "plt.xlim(55000,59600)\n",
    "plt.legend()\n",
    "ax.text(0.5, 0.9,name_test , horizontalalignment = 'center', verticalalignment = 'center',transform = ax.transAxes, fontsize = 10)\n"
   ]
  },
  {
   "cell_type": "markdown",
   "metadata": {},
   "source": [
    "# Mrk926"
   ]
  },
  {
   "cell_type": "markdown",
   "metadata": {},
   "source": [
    "## Mrk926_MAXI"
   ]
  },
  {
   "cell_type": "code",
   "execution_count": null,
   "metadata": {
    "ExecuteTime": {
     "end_time": "2021-09-29T08:14:29.357957Z",
     "start_time": "2021-09-29T08:14:29.344317Z"
    }
   },
   "outputs": [],
   "source": [
    "Mrk926_MAXI_process_2to6=pd.read_csv('%s/MAXIlc/Mrk_926_lc/Mrk_926_2.0-6.0keV_gsclc.dat'%CLAGN_statistic_plot_dir,header=None,delimiter='\\s+')\n",
    "Mrk926_MAXI_process_6to20=pd.read_csv('%s/MAXIlc/Mrk_926_lc/Mrk_926_6.0-20.0keV_gsclc.dat'%CLAGN_statistic_plot_dir,header=None,delimiter='\\s+')\n",
    "Mrk926_MAXI_process_2to6.columns=['t_start','t_end','rate','rate_err']\n",
    "Mrk926_MAXI_process_6to20.columns=['t_start','t_end','rate','rate_err']"
   ]
  },
  {
   "cell_type": "code",
   "execution_count": null,
   "metadata": {
    "ExecuteTime": {
     "end_time": "2021-09-29T08:23:15.521284Z",
     "start_time": "2021-09-29T08:23:15.514249Z"
    }
   },
   "outputs": [],
   "source": [
    "lag_Mrk926_MAXI_process_2to6 =get_lag_data(Mrk926_MAXI_process_2to6,'t_start','rate','rate_err')\n",
    "lag_Mrk926_MAXI_process_6to20=get_lag_data(Mrk926_MAXI_process_6to20,'t_start','rate','rate_err')"
   ]
  },
  {
   "cell_type": "code",
   "execution_count": null,
   "metadata": {
    "ExecuteTime": {
     "end_time": "2021-09-29T08:14:31.420576Z",
     "start_time": "2021-09-29T08:14:31.410640Z"
    }
   },
   "outputs": [],
   "source": [
    "Mrk926_MAXI_process_ratio=pd.read_csv('%s/MAXIlc/Mrk_926_lc/Mrk_926_ratio_gsclc.dat'%CLAGN_statistic_plot_dir,header=None,delimiter='\\s+')\n",
    "#Mrk926_MAXI_process_gsc=pd.read_csv('%s/MAXIlc/Mrk_926_lc/Mrk_926_gsc.flc'%CLAGN_statistic_plot_dir,header=None,delimiter='\\s+')"
   ]
  },
  {
   "cell_type": "markdown",
   "metadata": {
    "ExecuteTime": {
     "end_time": "2021-09-28T07:08:40.087479Z",
     "start_time": "2021-09-28T07:08:40.060659Z"
    }
   },
   "source": [
    "Mrk926_MAXI_process_2to6"
   ]
  },
  {
   "cell_type": "code",
   "execution_count": null,
   "metadata": {
    "ExecuteTime": {
     "end_time": "2021-09-29T08:14:43.954748Z",
     "start_time": "2021-09-29T08:14:43.151060Z"
    }
   },
   "outputs": [],
   "source": [
    "Mrk926_MAXI=pd.read_csv('%s/MAXIlc/Mrk926_J2304-086_g_lc_1day_all.dat.txt'%CLAGN_statistic_plot_dir,header=None,delimiter='\\s+')\n",
    "\n",
    "Mrk926_MAXI.columns=['mjd','2-20keV[ph/s/cm2]', 'err_2-20keV', '2-4keV', 'err_2-4keV', '4-10keV', 'err_4-10keV' ,'10-20keV', 'err_10-20keV' ]\n",
    "\n",
    "#Mrk926_MAXI\n",
    "\n",
    "data=Mrk926_MAXI[Mrk926_MAXI['mjd']>57000]\n",
    "data=drop_index(data)\n",
    "timelabel,fluxlabel,e_fluxlabel='mjd','2-20keV[ph/s/cm2]', 'err_2-20keV'\n",
    "mean_mjds,mean_counts,mean_counts_e=median_lc(data,timelabel,fluxlabel,e_fluxlabel,interval=180)\n",
    "lag_Mrk926_Xray_rebin180=pd.DataFrame({'t':mean_mjds,'flux':mean_counts,\\\n",
    "                                  'err':mean_counts_e},\\\n",
    "                                  index=None,columns=['t','flux','err'])\n",
    "\n",
    "mean_mjds,mean_counts,mean_counts_e=median_lc(data,timelabel,fluxlabel,e_fluxlabel,interval=90)\n",
    "lag_Mrk926_Xray_rebin90=pd.DataFrame({'t':mean_mjds,'flux':mean_counts,\\\n",
    "                                  'err':mean_counts_e},\\\n",
    "                                  index=None,columns=['t','flux','err'])\n",
    "\n",
    "mean_mjds,mean_counts,mean_counts_e=median_lc(data,timelabel,fluxlabel,e_fluxlabel,interval=60)\n",
    "lag_Mrk926_Xray_rebin60=pd.DataFrame({'t':mean_mjds,'flux':mean_counts,\\\n",
    "                                  'err':mean_counts_e},\\\n",
    "                                  index=None,columns=['t','flux','err'])\n",
    "\n",
    "\n",
    "mean_mjds,mean_counts,mean_counts_e=median_lc(data,timelabel,fluxlabel,e_fluxlabel,interval=30)\n",
    "lag_Mrk926_Xray_rebin30=pd.DataFrame({'t':mean_mjds,'flux':mean_counts,\\\n",
    "                                  'err':mean_counts_e},\\\n",
    "                                  index=None,columns=['t','flux','err'])\n"
   ]
  },
  {
   "cell_type": "code",
   "execution_count": null,
   "metadata": {
    "ExecuteTime": {
     "end_time": "2021-10-26T15:05:52.076383Z",
     "start_time": "2021-10-26T15:05:52.017267Z"
    }
   },
   "outputs": [],
   "source": [
    "name_test='Mrk 926'\n",
    "D_cm_Mrk926=CLAGN_210919_mass[CLAGN_210919_mass['Name']=='Mrk 926']['D_cm'].values[0]\n",
    "print(name_test,D_cm_Mrk926)"
   ]
  },
  {
   "cell_type": "code",
   "execution_count": null,
   "metadata": {
    "ExecuteTime": {
     "end_time": "2021-09-29T08:15:01.201093Z",
     "start_time": "2021-09-29T08:15:00.997677Z"
    }
   },
   "outputs": [],
   "source": [
    "name_test='Mrk 926'\n",
    "D_cm_Mrk926=CLAGN_210919_mass[CLAGN_210919_mass['Name']=='Mrk 926']['D_cm'].values[0]\n",
    "print(name_test,D_cm_Mrk926)\n",
    "data_test_neo,data_test_mep=get_wise_data(name_test,datawise_dir='/Users/brettlv/blog/brettlv.github.io/pythoncode/changinglookAGN/CLAGN_wise_data/')\n",
    "data_rebin_neo,data_rebin_mep=get_rebinwise_data(data_test_neo,data_test_mep)\n",
    "data_rebinflux_neo,data_rebinflux_mep=get_wiseflux_rebin(data_rebin_neo,data_rebin_mep,D_cm_Mrk926)\n",
    "datalag_w1_Mrk926,datalag_w2_Mrk926=get_wise_lc(data_rebinflux_neo,data_rebinflux_mep)"
   ]
  },
  {
   "cell_type": "markdown",
   "metadata": {},
   "source": [
    "## run_ccf"
   ]
  },
  {
   "cell_type": "code",
   "execution_count": null,
   "metadata": {
    "ExecuteTime": {
     "end_time": "2021-09-29T08:15:30.977179Z",
     "start_time": "2021-09-29T08:15:30.973611Z"
    }
   },
   "outputs": [],
   "source": [
    "labelname1=\"MAXI_bin30\"\n",
    "labelname2=\"W1\"\n",
    "dataname1=lag_Mrk926_Xray_rebin30\n",
    "dataname2=datalag_w1_Mrk926\n",
    "sourcename='Mrk926'\n",
    "\n",
    "rangemin,rangemax=56000,59500\n",
    "lagrangel=200\n",
    "lagrangeh=400\n",
    "run_ccf(rootdir_ccf,sourcename,labelname1,labelname2,dataname1,dataname2,rangemin,rangemax,lagrangel,lagrangeh)\n",
    "plot_ccf(rootdir_ccf,sourcename,labelname1,labelname2,dataname1,dataname2,rangemin,rangemax,lagrangel,lagrangeh)\n",
    "plot_ccf_injupyter(rootdir_ccf,sourcename,labelname1,labelname2,dataname1,dataname2,rangemin,rangemax,lagrangel,lagrangeh)"
   ]
  },
  {
   "cell_type": "code",
   "execution_count": null,
   "metadata": {
    "ExecuteTime": {
     "end_time": "2021-09-29T08:20:51.988718Z",
     "start_time": "2021-09-29T08:20:24.371562Z"
    }
   },
   "outputs": [],
   "source": [
    "labelname1=\"MAXI_bin60\"\n",
    "labelname2=\"W1\"\n",
    "dataname1=lag_Mrk926_Xray_rebin60\n",
    "dataname2=datalag_w1_Mrk926\n",
    "sourcename='Mrk926'\n",
    "\n",
    "rangemin,rangemax=56000,59500\n",
    "lagrangel=200\n",
    "lagrangeh=400\n",
    "run_ccf(rootdir_ccf,sourcename,labelname1,labelname2,dataname1,dataname2,rangemin,rangemax,lagrangel,lagrangeh)\n",
    "plot_ccf(rootdir_ccf,sourcename,labelname1,labelname2,dataname1,dataname2,rangemin,rangemax,lagrangel,lagrangeh)\n",
    "plot_ccf_injupyter(rootdir_ccf,sourcename,labelname1,labelname2,dataname1,dataname2,rangemin,rangemax,lagrangel,lagrangeh)"
   ]
  },
  {
   "cell_type": "code",
   "execution_count": null,
   "metadata": {
    "ExecuteTime": {
     "end_time": "2021-09-29T08:24:46.744964Z",
     "start_time": "2021-09-29T08:24:05.041902Z"
    }
   },
   "outputs": [],
   "source": [
    "labelname1=\"MAXI_6to20\"\n",
    "labelname2=\"W1\"\n",
    "dataname1=lag_Mrk926_MAXI_process_6to20\n",
    "dataname2=datalag_w1_Mrk926\n",
    "sourcename='Mrk926'\n",
    "\n",
    "rangemin,rangemax=56000,59500\n",
    "lagrangel=0\n",
    "lagrangeh=400\n",
    "run_ccf(rootdir_ccf,sourcename,labelname1,labelname2,dataname1,dataname2,rangemin,rangemax,lagrangel,lagrangeh)\n",
    "plot_ccf(rootdir_ccf,sourcename,labelname1,labelname2,dataname1,dataname2,rangemin,rangemax,lagrangel,lagrangeh)\n",
    "plot_ccf_injupyter(rootdir_ccf,sourcename,labelname1,labelname2,dataname1,dataname2,rangemin,rangemax,lagrangel,lagrangeh)"
   ]
  },
  {
   "cell_type": "code",
   "execution_count": null,
   "metadata": {
    "ExecuteTime": {
     "end_time": "2021-09-29T08:32:29.333431Z",
     "start_time": "2021-09-29T08:31:51.555654Z"
    }
   },
   "outputs": [],
   "source": [
    "labelname1=\"MAXI_2to6\"\n",
    "labelname2=\"W1\"\n",
    "dataname1=lag_Mrk926_MAXI_process_2to6\n",
    "dataname2=datalag_w1_Mrk926\n",
    "sourcename='Mrk926'\n",
    "\n",
    "rangemin,rangemax=56000,59500\n",
    "lagrangel=0\n",
    "lagrangeh=400\n",
    "\n",
    "run_ccf(rootdir_ccf,sourcename,labelname1,labelname2,dataname1,dataname2,rangemin,rangemax,lagrangel,lagrangeh)\n",
    "plot_ccf(rootdir_ccf,sourcename,labelname1,labelname2,dataname1,dataname2,rangemin,rangemax,lagrangel,lagrangeh)\n",
    "plot_ccf_injupyter(rootdir_ccf,sourcename,labelname1,labelname2,dataname1,dataname2,rangemin,rangemax,lagrangel,lagrangeh)"
   ]
  },
  {
   "cell_type": "markdown",
   "metadata": {},
   "source": [
    "## run_javelin"
   ]
  },
  {
   "cell_type": "code",
   "execution_count": null,
   "metadata": {
    "ExecuteTime": {
     "end_time": "2021-09-28T06:12:30.868904Z",
     "start_time": "2021-09-28T06:11:47.381640Z"
    }
   },
   "outputs": [],
   "source": [
    "labelname1=\"MAXI_bin90\"\n",
    "labelname2=\"W1\"\n",
    "dataname1=lag_Mrk926_Xray_rebin90\n",
    "dataname2=datalag_w1_Mrk926\n",
    "sourcename='Mrk926'\n",
    "rangemin,rangemax=56000,59500\n",
    "lagrangel=100\n",
    "lagrangeh=500\n",
    "widthl=0\n",
    "widthh=500\n",
    "\n",
    "run_javelin(rootdir_javelin,sourcename,labelname1,labelname2,\n",
    "            dataname1,dataname2,rangemin,rangemax,lagrangel,lagrangeh,widthl,widthh)"
   ]
  },
  {
   "cell_type": "code",
   "execution_count": null,
   "metadata": {},
   "outputs": [],
   "source": []
  },
  {
   "cell_type": "code",
   "execution_count": null,
   "metadata": {},
   "outputs": [],
   "source": []
  },
  {
   "cell_type": "code",
   "execution_count": null,
   "metadata": {},
   "outputs": [],
   "source": []
  },
  {
   "cell_type": "code",
   "execution_count": null,
   "metadata": {
    "ExecuteTime": {
     "end_time": "2021-09-28T06:14:20.896985Z",
     "start_time": "2021-09-28T06:14:20.708056Z"
    }
   },
   "outputs": [],
   "source": [
    "fig = plt.figure(figsize=(4,4))\n",
    "fig.subplots_adjust(hspace=0.15, wspace = 0.3)\n",
    "ax = fig.add_subplot(1,1,1)\n",
    "ax1=ax.twinx()\n",
    "ax1.errorbar(datalag_w1_Mrk926['t'],datalag_w1_Mrk926['flux'],\n",
    "            datalag_w1_Mrk926['err'],marker='.',ls='',label='W1')\n",
    "\n",
    "ax.errorbar(lag_Mrk926_Xray_rebin90['t'],lag_Mrk926_Xray_rebin90['flux'],\n",
    "            lag_Mrk926_Xray_rebin90['err'],marker='.',\n",
    "                ls='',color='red')\n",
    "#ax.set_xlim(55626+100,59900)\n",
    "set_ax_tick(ax)\n",
    "ax.set_xlabel('MJD (rebin 90)')\n",
    "ax.set_ylabel('MAXI 2-20keV counts/s')"
   ]
  },
  {
   "cell_type": "code",
   "execution_count": null,
   "metadata": {
    "ExecuteTime": {
     "end_time": "2021-09-28T06:14:46.987632Z",
     "start_time": "2021-09-28T06:14:46.785114Z"
    }
   },
   "outputs": [],
   "source": [
    "fig = plt.figure(figsize=(4,4))\n",
    "fig.subplots_adjust(hspace=0.15, wspace = 0.3)\n",
    "ax = fig.add_subplot(1,1,1)\n",
    "ax1=ax.twinx()\n",
    "ax1.errorbar(datalag_w1_Mrk926['t'],datalag_w1_Mrk926['flux'],\n",
    "            datalag_w1_Mrk926['err'],marker='.',ls='',label='W1')\n",
    "\n",
    "ax.errorbar(lag_Mrk926_Xray_rebin180['t'],lag_Mrk926_Xray_rebin180['flux'],\n",
    "            lag_Mrk926_Xray_rebin180['err'],marker='.',\n",
    "                ls='',color='red')\n",
    "#ax.set_xlim(55626+100,59900)\n",
    "set_ax_tick(ax)\n",
    "ax.set_xlabel('MJD (rebin 180)')\n",
    "ax.set_ylabel('MAXI 2-20keV counts/s')"
   ]
  },
  {
   "cell_type": "code",
   "execution_count": null,
   "metadata": {},
   "outputs": [],
   "source": []
  },
  {
   "cell_type": "markdown",
   "metadata": {},
   "source": [
    "## Mrk926_BAT"
   ]
  },
  {
   "cell_type": "code",
   "execution_count": null,
   "metadata": {
    "ExecuteTime": {
     "end_time": "2021-09-28T02:47:17.957409Z",
     "start_time": "2021-09-28T02:47:17.944832Z"
    }
   },
   "outputs": [],
   "source": [
    "Mrk926_BAT=fits.open('/Users/brettlv/blog/IHEP_sync/data/data_lag/Mrk926_BAT_105m_crabweighted_1183.lc')"
   ]
  },
  {
   "cell_type": "code",
   "execution_count": null,
   "metadata": {
    "ExecuteTime": {
     "end_time": "2021-09-28T06:16:37.297984Z",
     "start_time": "2021-09-28T06:16:37.289791Z"
    }
   },
   "outputs": [],
   "source": [
    "Mrk926_BAT[1].data.columns"
   ]
  },
  {
   "cell_type": "markdown",
   "metadata": {
    "ExecuteTime": {
     "end_time": "2021-09-28T06:16:20.920289Z",
     "start_time": "2021-09-28T06:16:20.912168Z"
    }
   },
   "source": [
    "Mrk926_BAT[1].data['TIME']"
   ]
  },
  {
   "cell_type": "code",
   "execution_count": null,
   "metadata": {
    "ExecuteTime": {
     "end_time": "2021-09-28T02:47:18.741172Z",
     "start_time": "2021-09-28T02:47:18.731755Z"
    }
   },
   "outputs": [],
   "source": [
    "Mrk926_BAT_lc=fits.open('%s/BATlc/Mrk926.lc.fits'%CLAGN_statistic_plot_dir)"
   ]
  },
  {
   "cell_type": "code",
   "execution_count": null,
   "metadata": {
    "ExecuteTime": {
     "end_time": "2021-09-28T06:15:49.245891Z",
     "start_time": "2021-09-28T06:15:49.239144Z"
    }
   },
   "outputs": [],
   "source": [
    "min(Mrk926_BAT_lc[1].data['Time']),max(Mrk926_BAT_lc[1].data['Time'])"
   ]
  },
  {
   "cell_type": "markdown",
   "metadata": {},
   "source": [
    "# Mrk 6"
   ]
  },
  {
   "cell_type": "code",
   "execution_count": null,
   "metadata": {
    "ExecuteTime": {
     "end_time": "2021-10-26T14:53:36.152259Z",
     "start_time": "2021-10-26T14:53:36.133756Z"
    }
   },
   "outputs": [],
   "source": [
    "name_test='Mrk 6'\n",
    "D_cm_Mrk6=CLAGN_210919_mass[CLAGN_210919_mass['Name']=='Mrk 6']['D_cm'].values[0]\n",
    "print(D_cm_Mrk6)"
   ]
  },
  {
   "cell_type": "code",
   "execution_count": null,
   "metadata": {
    "ExecuteTime": {
     "end_time": "2021-10-26T14:55:51.774712Z",
     "start_time": "2021-10-26T14:55:51.746361Z"
    }
   },
   "outputs": [],
   "source": [
    "name_test='NGC 1566'\n",
    "D_cm_NGC1566=CLAGN_210919_mass[CLAGN_210919_mass['Name']=='NGC 1566']['D_cm'].values[0]\n",
    "print(D_cm_NGC1566)"
   ]
  },
  {
   "cell_type": "code",
   "execution_count": null,
   "metadata": {},
   "outputs": [],
   "source": []
  }
 ],
 "metadata": {
  "kernelspec": {
   "display_name": "Python 3",
   "language": "python",
   "name": "python3"
  },
  "language_info": {
   "codemirror_mode": {
    "name": "ipython",
    "version": 3
   },
   "file_extension": ".py",
   "mimetype": "text/x-python",
   "name": "python",
   "nbconvert_exporter": "python",
   "pygments_lexer": "ipython3",
   "version": "3.8.5"
  },
  "latex_envs": {
   "LaTeX_envs_menu_present": true,
   "autocomplete": true,
   "bibliofile": "biblio.bib",
   "cite_by": "apalike",
   "current_citInitial": 1,
   "eqLabelWithNumbers": true,
   "eqNumInitial": 1,
   "hotkeys": {
    "equation": "Ctrl-E",
    "itemize": "Ctrl-I"
   },
   "labels_anchors": false,
   "latex_user_defs": false,
   "report_style_numbering": false,
   "user_envs_cfg": false
  },
  "toc": {
   "nav_menu": {},
   "number_sections": true,
   "sideBar": true,
   "skip_h1_title": false,
   "toc_cell": false,
   "toc_position": {
    "height": "369.719px",
    "left": "0px",
    "right": "1043px",
    "top": "160.281px",
    "width": "212px"
   },
   "toc_section_display": "block",
   "toc_window_display": true
  }
 },
 "nbformat": 4,
 "nbformat_minor": 2
}
