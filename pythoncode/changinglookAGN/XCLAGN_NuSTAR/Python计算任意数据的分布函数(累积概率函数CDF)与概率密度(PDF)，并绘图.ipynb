{
 "cells": [
  {
   "cell_type": "code",
   "execution_count": null,
   "id": "dc58c4f4",
   "metadata": {},
   "outputs": [],
   "source": [
    "Python计算任意数据的分布函数(累积概率函数CDF)与概率密度(PDF)，并绘图"
   ]
  },
  {
   "cell_type": "code",
   "execution_count": null,
   "id": "0061eead",
   "metadata": {},
   "outputs": [],
   "source": []
  },
  {
   "cell_type": "code",
   "execution_count": 1,
   "id": "6c5845a0",
   "metadata": {
    "ExecuteTime": {
     "end_time": "2023-10-29T11:26:22.818780Z",
     "start_time": "2023-10-29T11:26:22.070250Z"
    }
   },
   "outputs": [],
   "source": [
    "import numpy as np\n",
    "import matplotlib.pyplot as plt\n",
    "from scipy import stats\n",
    "\n",
    "%matplotlib inline\n"
   ]
  },
  {
   "cell_type": "code",
   "execution_count": 2,
   "id": "7ce0f045",
   "metadata": {
    "ExecuteTime": {
     "end_time": "2023-10-29T11:26:29.474096Z",
     "start_time": "2023-10-29T11:26:29.460298Z"
    }
   },
   "outputs": [],
   "source": [
    "data = np.random.normal(0,10,100) # 生成100个随机数，这里生成正态分布，任意分布都行，正态分布效果更明显一些\n",
    "res_freq = stats.relfreq(data, numbins=20) # numbins 是统计一次的间隔(步长)是多大\n"
   ]
  },
  {
   "cell_type": "code",
   "execution_count": 8,
   "id": "7031637c",
   "metadata": {
    "ExecuteTime": {
     "end_time": "2023-10-29T11:27:22.230653Z",
     "start_time": "2023-10-29T11:27:22.219278Z"
    }
   },
   "outputs": [
    {
     "data": {
      "text/plain": [
       "RelfreqResult(frequency=array([0.02, 0.05, 0.01, 0.01, 0.05, 0.03, 0.06, 0.04, 0.14, 0.08, 0.02,\n",
       "       0.05, 0.07, 0.07, 0.05, 0.09, 0.06, 0.06, 0.02, 0.02]), lowerlimit=-19.915750652305217, binsize=1.7412814931329983, extrapoints=0)"
      ]
     },
     "execution_count": 8,
     "metadata": {},
     "output_type": "execute_result"
    }
   ],
   "source": [
    "res_freq"
   ]
  },
  {
   "cell_type": "code",
   "execution_count": 3,
   "id": "fca2265e",
   "metadata": {
    "ExecuteTime": {
     "end_time": "2023-10-29T11:26:37.249432Z",
     "start_time": "2023-10-29T11:26:37.238671Z"
    }
   },
   "outputs": [],
   "source": [
    "pdf_value = res_freq.frequency\n"
   ]
  },
  {
   "cell_type": "code",
   "execution_count": 4,
   "id": "433c7cb5",
   "metadata": {
    "ExecuteTime": {
     "end_time": "2023-10-29T11:26:43.500613Z",
     "start_time": "2023-10-29T11:26:43.491251Z"
    }
   },
   "outputs": [],
   "source": [
    "cdf_value = np.cumsum(res_freq.frequency)\n"
   ]
  },
  {
   "cell_type": "code",
   "execution_count": 5,
   "id": "c180b132",
   "metadata": {
    "ExecuteTime": {
     "end_time": "2023-10-29T11:27:00.100777Z",
     "start_time": "2023-10-29T11:27:00.086125Z"
    }
   },
   "outputs": [
    {
     "data": {
      "text/plain": [
       "array([0.02, 0.05, 0.01, 0.01, 0.05, 0.03, 0.06, 0.04, 0.14, 0.08, 0.02,\n",
       "       0.05, 0.07, 0.07, 0.05, 0.09, 0.06, 0.06, 0.02, 0.02])"
      ]
     },
     "execution_count": 5,
     "metadata": {},
     "output_type": "execute_result"
    }
   ],
   "source": [
    "pdf_value"
   ]
  },
  {
   "cell_type": "code",
   "execution_count": 7,
   "id": "b934805e",
   "metadata": {
    "ExecuteTime": {
     "end_time": "2023-10-29T11:27:16.118311Z",
     "start_time": "2023-10-29T11:27:16.107814Z"
    }
   },
   "outputs": [
    {
     "data": {
      "text/plain": [
       "20"
      ]
     },
     "execution_count": 7,
     "metadata": {},
     "output_type": "execute_result"
    }
   ],
   "source": [
    "len(pdf_value)"
   ]
  },
  {
   "cell_type": "code",
   "execution_count": 9,
   "id": "14da9e18",
   "metadata": {
    "ExecuteTime": {
     "end_time": "2023-10-29T11:27:34.998262Z",
     "start_time": "2023-10-29T11:27:34.988886Z"
    }
   },
   "outputs": [],
   "source": [
    "x = res_freq.lowerlimit + np.linspace(0, res_freq.binsize * res_freq.frequency.size, res_freq.frequency.size)\n"
   ]
  },
  {
   "cell_type": "code",
   "execution_count": 11,
   "id": "8e265b41",
   "metadata": {
    "ExecuteTime": {
     "end_time": "2023-10-29T11:27:53.427735Z",
     "start_time": "2023-10-29T11:27:53.281459Z"
    }
   },
   "outputs": [
    {
     "data": {
      "text/plain": [
       "<BarContainer object of 20 artists>"
      ]
     },
     "execution_count": 11,
     "metadata": {},
     "output_type": "execute_result"
    },
    {
     "data": {
      "image/png": "[encoded data removed]",
      "text/plain": [
       "<Figure size 432x288 with 1 Axes>"
      ]
     },
     "metadata": {
      "needs_background": "light"
     },
     "output_type": "display_data"
    }
   ],
   "source": [
    "plt.bar(x, pdf_value, width=res_freq.binsize)\n"
   ]
  },
  {
   "cell_type": "code",
   "execution_count": 10,
   "id": "b15e4e45",
   "metadata": {
    "ExecuteTime": {
     "end_time": "2023-10-29T11:27:37.967653Z",
     "start_time": "2023-10-29T11:27:37.836366Z"
    }
   },
   "outputs": [
    {
     "data": {
      "text/plain": [
       "<matplotlib.collections.PathCollection at 0x7fc0a8282190>"
      ]
     },
     "execution_count": 10,
     "metadata": {},
     "output_type": "execute_result"
    },
    {
     "data": {
      "image/png": "[encoded data removed]",
      "text/plain": [
       "<Figure size 432x288 with 1 Axes>"
      ]
     },
     "metadata": {
      "needs_background": "light"
     },
     "output_type": "display_data"
    }
   ],
   "source": [
    "plt.scatter(x,pdf_value)"
   ]
  },
  {
   "cell_type": "code",
   "execution_count": 12,
   "id": "15487aa2",
   "metadata": {
    "ExecuteTime": {
     "end_time": "2023-10-29T11:28:17.794883Z",
     "start_time": "2023-10-29T11:28:17.666344Z"
    }
   },
   "outputs": [
    {
     "data": {
      "text/plain": [
       "[<matplotlib.lines.Line2D at 0x7fc0a24ff0a0>]"
      ]
     },
     "execution_count": 12,
     "metadata": {},
     "output_type": "execute_result"
    },
    {
     "data": {
      "image/png": "[encoded data removed]",
      "text/plain": [
       "<Figure size 432x288 with 1 Axes>"
      ]
     },
     "metadata": {
      "needs_background": "light"
     },
     "output_type": "display_data"
    }
   ],
   "source": [
    "plt.plot(x, cdf_value)"
   ]
  },
  {
   "cell_type": "code",
   "execution_count": null,
   "id": "fc3fbb7b",
   "metadata": {},
   "outputs": [],
   "source": []
  }
 ],
 "metadata": {
  "kernelspec": {
   "display_name": "Python 3 (ipykernel)",
   "language": "python",
   "name": "python3"
  },
  "language_info": {
   "codemirror_mode": {
    "name": "ipython",
    "version": 3
   },
   "file_extension": ".py",
   "mimetype": "text/x-python",
   "name": "python",
   "nbconvert_exporter": "python",
   "pygments_lexer": "ipython3",
   "version": "3.9.12"
  },
  "latex_envs": {
   "LaTeX_envs_menu_present": true,
   "autoclose": false,
   "autocomplete": true,
   "bibliofile": "biblio.bib",
   "cite_by": "apalike",
   "current_citInitial": 1,
   "eqLabelWithNumbers": true,
   "eqNumInitial": 1,
   "hotkeys": {
    "equation": "Ctrl-E",
    "itemize": "Ctrl-I"
   },
   "labels_anchors": false,
   "latex_user_defs": false,
   "report_style_numbering": false,
   "user_envs_cfg": false
  },
  "toc": {
   "base_numbering": 1,
   "nav_menu": {},
   "number_sections": true,
   "sideBar": true,
   "skip_h1_title": false,
   "title_cell": "Table of Contents",
   "title_sidebar": "Contents",
   "toc_cell": false,
   "toc_position": {},
   "toc_section_display": true,
   "toc_window_display": false
  }
 },
 "nbformat": 4,
 "nbformat_minor": 5
}
