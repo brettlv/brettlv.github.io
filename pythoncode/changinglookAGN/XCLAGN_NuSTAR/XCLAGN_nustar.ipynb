{
 "cells": [
  {
   "cell_type": "markdown",
   "id": "9bf2682c",
   "metadata": {},
   "source": [
    "# import "
   ]
  },
  {
   "cell_type": "code",
   "execution_count": 15,
   "id": "b8205576",
   "metadata": {
    "ExecuteTime": {
     "end_time": "2023-08-07T06:37:38.778082Z",
     "start_time": "2023-08-07T06:37:38.316045Z"
    }
   },
   "outputs": [],
   "source": [
    "import matplotlib as mpl\n",
    "import matplotlib.pyplot as plt\n",
    "import matplotlib.ticker as ticker\n",
    "from pylab import cm\n",
    "\n",
    "import matplotlib.dates as mdates\n",
    "from matplotlib.pyplot import MultipleLocator\n",
    "import matplotlib.dates as mdates\n",
    "from matplotlib.transforms import Transform\n",
    "from matplotlib.ticker import (AutoLocator, AutoMinorLocator)\n",
    "from matplotlib.dates import DateFormatter\n",
    "#import matplotlib.cm as cm\n",
    "import matplotlib.colors as colors\n",
    "from collections import OrderedDict"
   ]
  },
  {
   "cell_type": "code",
   "execution_count": 16,
   "id": "23f77c31",
   "metadata": {
    "ExecuteTime": {
     "end_time": "2023-08-07T06:37:39.167800Z",
     "start_time": "2023-08-07T06:37:38.779845Z"
    }
   },
   "outputs": [
    {
     "name": "stderr",
     "output_type": "stream",
     "text": [
      "/var/folders/jp/4mwsn7_x6j9gnv1hl1dztqth0000gn/T/ipykernel_1453/127070983.py:1: DeprecationWarning: Please use `pearsonr` from the `scipy.stats` namespace, the `scipy.stats.stats` namespace is deprecated.\n",
      "  from scipy.stats.stats import pearsonr\n"
     ]
    }
   ],
   "source": [
    "from scipy.stats.stats import pearsonr\n",
    "from scipy.stats import spearmanr#\n",
    "from scipy import stats \n",
    "\n",
    "import matplotlib.pyplot as plt\n",
    "from pylab import cm\n",
    "import matplotlib as mpl\n",
    "\n",
    "from collections import OrderedDict\n",
    "from adjustText import adjust_text\n",
    "\n",
    "%matplotlib inline\n",
    "%config InlineBackend.figure_format='svg'\n",
    "# Edit the font, font size, and axes width\n",
    "mpl.rcParams['font.family'] = 'Times New Roman'\n",
    "plt.rcParams['font.size'] = 18\n",
    "plt.rcParams['axes.linewidth'] = 2"
   ]
  },
  {
   "cell_type": "code",
   "execution_count": 17,
   "id": "6da6f614",
   "metadata": {
    "ExecuteTime": {
     "end_time": "2023-08-07T06:37:39.178118Z",
     "start_time": "2023-08-07T06:37:39.168858Z"
    }
   },
   "outputs": [],
   "source": [
    "from adjustText import adjust_text\n",
    "import matplotlib as mpl\n",
    "def set_ax_tick(ax):\n",
    "    ax.xaxis.set_tick_params(which='major', size=10, width=2, direction='in', top='on',)\n",
    "    ax.xaxis.set_tick_params(which='minor', size=5, width=2, direction='in', top='on')\n",
    "    ax.yaxis.set_tick_params(which='major', size=10, width=2, direction='in', right='on')\n",
    "    ax.yaxis.set_tick_params(which='minor', size=5, width=2, direction='in', right='on')\n",
    "\n",
    "def set_ax_locator(ax,xma=1,xmi=0.2,yma=1,ymi=0.2):\n",
    "    ax.xaxis.set_major_locator(mpl.ticker.MultipleLocator(xma))\n",
    "    ax.xaxis.set_minor_locator(mpl.ticker.MultipleLocator(xmi))\n",
    "    ax.yaxis.set_major_locator(mpl.ticker.MultipleLocator(yma))\n",
    "    ax.yaxis.set_minor_locator(mpl.ticker.MultipleLocator(ymi))\n",
    "    \n",
    "def plot_secax(ax,mi_interval=365,ma_interval=365*2,rotation=30,):\n",
    "    secax1 = ax.secondary_xaxis('top', functions=(mjd2numsdate,datenums2mjd))\n",
    "    secax1.xaxis.set_major_formatter(mdates.DateFormatter(\"%Y-%m\"))\n",
    "    secax1.xaxis.set_major_locator(mdates.DayLocator(interval=ma_interval))\n",
    "    secax1.xaxis.set_minor_locator(mdates.DayLocator(interval=mi_interval))\n",
    "    secax1.xaxis.set_tick_params(which='major', size=10, width=2, direction='out')\n",
    "    secax1.xaxis.set_tick_params(which='minor', size=5, width=2, direction='out')\n",
    "    secax1.xaxis.set_tick_params(which='major', size=10, width=2, direction='out', rotation=rotation,)    \n",
    "    \n",
    "def set_ax_legend(ax,bbox_to_anchor=(0.01, 0.99)):\n",
    "    ax.xaxis.set_tick_params(which='major', size=10, width=2, rotation=0,)\n",
    "    handles, labels = ax.get_legend_handles_labels()\n",
    "    # remove the errorbars\n",
    "    #hdl = [h[0] for h in handles]\n",
    "    hdl = handles\n",
    "    labels_dict=dict(zip(labels, hdl)) #key,values\n",
    "    by_label=OrderedDict(sorted(labels_dict.items(),key=lambda t:t[0]))\n",
    "    #by_label = OrderedDict(zip(labels, handles))\n",
    "    ax.legend(by_label.values(), by_label.keys(), bbox_to_anchor=bbox_to_anchor,\n",
    "              loc=2, numpoints=1,ncol=1,fontsize=11.)\n",
    "    \n",
    "def set_ax_legend_sequence(ax,bbox_to_anchor=(0.01, 0.99)):\n",
    "    ax.xaxis.set_tick_params(which='major', size=10, width=2, rotation=0,)\n",
    "    handles, labels = ax.get_legend_handles_labels()\n",
    "    # remove the errorbars\n",
    "    #hdl = [h[0] for h in handles]\n",
    "    hdl = handles\n",
    "    labels_dict=dict(zip(labels, hdl)) #key,values\n",
    "    #by_label=OrderedDict(sorted(labels_dict.items(),key=lambda t:t[0]))\n",
    "    by_label = OrderedDict(zip(labels, handles))\n",
    "    ax.legend(by_label.values(), by_label.keys(), bbox_to_anchor=bbox_to_anchor,\n",
    "              loc=2, numpoints=1,ncol=1,fontsize=11.)    \n",
    "    \n",
    "\n",
    "def set_mag_ylim(ax):\n",
    "    bottom, top = ax.set_ylim()\n",
    "    if bottom< top:\n",
    "        ax.set_ylim(top,bottom)   \n",
    "        \n",
    "        \n",
    "def set_mag_xlim(ax):\n",
    "    bottom, top = ax.set_xlim()\n",
    "    if bottom< top:\n",
    "        ax.set_xlim(top,bottom)           "
   ]
  },
  {
   "cell_type": "code",
   "execution_count": 18,
   "id": "bda41f79",
   "metadata": {
    "ExecuteTime": {
     "end_time": "2023-08-07T06:37:39.482056Z",
     "start_time": "2023-08-07T06:37:39.179307Z"
    }
   },
   "outputs": [],
   "source": [
    "def drop_index(data):\n",
    "    data=data.reset_index(drop=True)\n",
    "    return data\n",
    "\n",
    "import pandas as pd\n",
    "import numpy as np\n",
    "import os\n",
    "\n",
    "def get_obsids(path):\n",
    "    dirname=os.listdir(path)\n",
    "    obsids=[]\n",
    "    for i in dirname:\n",
    "        if i.isdigit():\n",
    "            obsids.append(i)\n",
    "    obsids.sort()        \n",
    "    return obsids"
   ]
  },
  {
   "cell_type": "code",
   "execution_count": 19,
   "id": "4848e775",
   "metadata": {
    "ExecuteTime": {
     "end_time": "2023-08-07T06:37:39.490759Z",
     "start_time": "2023-08-07T06:37:39.483746Z"
    }
   },
   "outputs": [],
   "source": [
    "from astropy.time import Time\n",
    "from astropy.io import fits\n",
    "import time\n",
    "from matplotlib.pyplot import MultipleLocator\n",
    "import matplotlib.dates as mdates\n",
    "\n",
    "def datetime2mjd(x):\n",
    "    mjd_ref=59000\n",
    "    mjd_minus_mdates_num=mdates.date2num(convert_xaxis_time(mjd_ref))-mjd_ref\n",
    "    \n",
    "    x=mdates.date2num(x)\n",
    "    y = x - mjd_minus_mdates_num   \n",
    "    return y\n",
    "\n",
    "def mjd2datetime(x):\n",
    "    mjd_ref=59000\n",
    "    mjd_minus_mdates_num=mdates.date2num(convert_xaxis_time(mjd_ref))-mjd_ref\n",
    "    y= x + mjd_minus_mdates_num\n",
    "    y= mdates.num2date(y)\n",
    "    return y\n",
    "\n",
    "\n",
    "\n",
    "def datenums2mjd(x):\n",
    "    #x=mdates.date2num(x)\n",
    "    mjd_ref=59000\n",
    "    mjd_minus_mdates_num=mdates.date2num(convert_xaxis_time(mjd_ref))-mjd_ref\n",
    "    y = x - mjd_minus_mdates_num   \n",
    "    return y\n",
    "\n",
    "def mjd2numsdate(x):\n",
    "    mjd_ref=59000\n",
    "    mjd_minus_mdates_num=mdates.date2num(convert_xaxis_time(mjd_ref))-mjd_ref\n",
    "    \n",
    "    y= x + mjd_minus_mdates_num\n",
    "    #y= mdates.num2date(y)\n",
    "    return y\n",
    "\n",
    "\n",
    "def convert_xaxis_mjd(time):\n",
    "    return Time(time).mjd   \n",
    "\n",
    "def convert_xaxis_time(mjd):\n",
    "    return Time(mjd,format='mjd').to_datetime()\n",
    "\n",
    "\n",
    "def date2yday(x):\n",
    "    \"\"\"\n",
    "    x is in matplotlib datenums, so they are floats.\n",
    "    \"\"\"\n",
    "    y = x - mdates.date2num(datetime(2018, 1, 1))\n",
    "    return y\n",
    "\n",
    "def yday2date(x):\n",
    "    \"\"\"\n",
    "    return a matplotlib datenum (x is days since start of year of 2018)\n",
    "    \"\"\"\n",
    "    y = x + mdates.date2num(datetime(2018, 1, 1))\n",
    "    return y\n",
    "\n",
    "\n",
    "def convert_partial_year(numbers):\n",
    "    datetimes=[]\n",
    "    for number in numbers:\n",
    "        year = int(number)\n",
    "        d = timedelta(days=(number - year)*(365 + is_leap(year)))\n",
    "        day_one = datetime(year,1,1)\n",
    "        date = d + day_one\n",
    "        datetimes.append(date)\n",
    "    return datetimes\n",
    "\n",
    "\n",
    "def is_leap(year):\n",
    "    if not year%4 and  year%100 or not year%400:\n",
    "        return True\n",
    "    return False\n",
    "\n",
    "\n",
    "def convert_mjd(times):\n",
    "    timesmjd=[]\n",
    "    for i in times:\n",
    "        timesmjd.append(Time(i).mjd)\n",
    "    return timesmjd  \n",
    "\n",
    "\n",
    "def convert_date(times):\n",
    "    timesdate=[]\n",
    "    for i in times:\n",
    "        timesdate.append(Time(i,format='mjd').datetime)\n",
    "    return timesdate\n",
    "\n",
    "def convert_date_single(time):\n",
    "    timedate=Time(time,format='mjd').datetime\n",
    "    return timedate"
   ]
  },
  {
   "cell_type": "code",
   "execution_count": null,
   "id": "3f65e647",
   "metadata": {},
   "outputs": [],
   "source": []
  },
  {
   "cell_type": "code",
   "execution_count": null,
   "id": "c9a081ab",
   "metadata": {},
   "outputs": [],
   "source": []
  },
  {
   "cell_type": "markdown",
   "id": "2aa5f719",
   "metadata": {},
   "source": [
    "# CLAGN_list"
   ]
  },
  {
   "cell_type": "code",
   "execution_count": 20,
   "id": "cc866ea0",
   "metadata": {
    "ExecuteTime": {
     "end_time": "2023-08-07T06:37:41.218991Z",
     "start_time": "2023-08-07T06:37:40.966290Z"
    }
   },
   "outputs": [],
   "source": [
    "CLAGN_list=pd.read_excel('/Users/lyubing/IHEPBox/data/data_clagn/CLAGN-20220609.xlsx')"
   ]
  },
  {
   "cell_type": "code",
   "execution_count": 21,
   "id": "18b8e7e9",
   "metadata": {
    "ExecuteTime": {
     "end_time": "2023-08-07T06:37:41.997509Z",
     "start_time": "2023-08-07T06:37:41.991418Z"
    }
   },
   "outputs": [],
   "source": [
    "OX_CLAGN_nustar=['ESO 362-G18', 'NGC 2992', 'NGC 4151','NGC 7582','NGC 1365']"
   ]
  },
  {
   "cell_type": "code",
   "execution_count": null,
   "id": "f997a4e3",
   "metadata": {},
   "outputs": [],
   "source": []
  },
  {
   "cell_type": "code",
   "execution_count": 3,
   "id": "af7d0823",
   "metadata": {
    "ExecuteTime": {
     "end_time": "2023-08-04T11:26:07.142408Z",
     "start_time": "2023-08-04T11:26:07.135645Z"
    }
   },
   "outputs": [],
   "source": [
    "XCLAGN_lists=[\n",
    "    'NGC 4395',\n",
    "    'NGC 6890',\n",
    "    '1H 0419-577' ,\n",
    "'IC 751' ,\n",
    "'NGC 454' ,\n",
    "'NGC 1365' ,\n",
    "'NGC 4051' ,\n",
    "'NGC 4388' ,\n",
    "'NGC 4507' ,\n",
    "'NGC 4939' ,\n",
    "'NGC 6300' ,\n",
    "#NGC 7469 ,\n",
    "'NGC 7674' ,\n",
    "'PG 1535+547', \n",
    "'UGC 4203' ,\n",
    "]"
   ]
  },
  {
   "cell_type": "code",
   "execution_count": 19,
   "id": "ea20508d",
   "metadata": {
    "ExecuteTime": {
     "end_time": "2023-08-04T11:31:17.132926Z",
     "start_time": "2023-08-04T11:31:17.118467Z"
    }
   },
   "outputs": [
    {
     "data": {
      "text/plain": [
       "Index(['Name', 'RA', 'DEC', 'Ref.', 'Type_Ref', 'Redshift', 'lg(MBH/Msun)',\n",
       "       'Ref..1', 'mass_Ref', 'Type_CL', 'Type_X', 'OX', 'logM', 'pos',\n",
       "       'E(B-V)mean', 'E(B-V)weighted', 'NHImean', 'NHIweighted', 'NH2mean',\n",
       "       'NH2weighted', 'NH,totmean', 'NH,totweighted'],\n",
       "      dtype='object')"
      ]
     },
     "execution_count": 19,
     "metadata": {},
     "output_type": "execute_result"
    }
   ],
   "source": [
    "CLAGN_list.columns"
   ]
  },
  {
   "cell_type": "code",
   "execution_count": 21,
   "id": "bb669e68",
   "metadata": {
    "ExecuteTime": {
     "end_time": "2023-08-04T11:31:28.571198Z",
     "start_time": "2023-08-04T11:31:28.551457Z"
    }
   },
   "outputs": [
    {
     "data": {
      "text/html": [
       "<div>\n",
       "<style scoped>\n",
       "    .dataframe tbody tr th:only-of-type {\n",
       "        vertical-align: middle;\n",
       "    }\n",
       "\n",
       "    .dataframe tbody tr th {\n",
       "        vertical-align: top;\n",
       "    }\n",
       "\n",
       "    .dataframe thead th {\n",
       "        text-align: right;\n",
       "    }\n",
       "</style>\n",
       "<table border=\"1\" class=\"dataframe\">\n",
       "  <thead>\n",
       "    <tr style=\"text-align: right;\">\n",
       "      <th></th>\n",
       "      <th>OX</th>\n",
       "      <th>Type_X</th>\n",
       "    </tr>\n",
       "  </thead>\n",
       "  <tbody>\n",
       "    <tr>\n",
       "      <th>0</th>\n",
       "      <td>A</td>\n",
       "      <td>NaN</td>\n",
       "    </tr>\n",
       "    <tr>\n",
       "      <th>1</th>\n",
       "      <td>B</td>\n",
       "      <td>Seyfert 1.5</td>\n",
       "    </tr>\n",
       "    <tr>\n",
       "      <th>2</th>\n",
       "      <td>A</td>\n",
       "      <td>NaN</td>\n",
       "    </tr>\n",
       "    <tr>\n",
       "      <th>3</th>\n",
       "      <td>A</td>\n",
       "      <td>NaN</td>\n",
       "    </tr>\n",
       "    <tr>\n",
       "      <th>4</th>\n",
       "      <td>A</td>\n",
       "      <td>NaN</td>\n",
       "    </tr>\n",
       "    <tr>\n",
       "      <th>...</th>\n",
       "      <td>...</td>\n",
       "      <td>...</td>\n",
       "    </tr>\n",
       "    <tr>\n",
       "      <th>144</th>\n",
       "      <td>A</td>\n",
       "      <td>NaN</td>\n",
       "    </tr>\n",
       "    <tr>\n",
       "      <th>145</th>\n",
       "      <td>A</td>\n",
       "      <td>NaN</td>\n",
       "    </tr>\n",
       "    <tr>\n",
       "      <th>146</th>\n",
       "      <td>A</td>\n",
       "      <td>NaN</td>\n",
       "    </tr>\n",
       "    <tr>\n",
       "      <th>147</th>\n",
       "      <td>B</td>\n",
       "      <td>NaN</td>\n",
       "    </tr>\n",
       "    <tr>\n",
       "      <th>148</th>\n",
       "      <td>NaN</td>\n",
       "      <td>NaN</td>\n",
       "    </tr>\n",
       "  </tbody>\n",
       "</table>\n",
       "<p>149 rows × 2 columns</p>\n",
       "</div>"
      ],
      "text/plain": [
       "      OX       Type_X\n",
       "0     A           NaN\n",
       "1     B   Seyfert 1.5\n",
       "2     A           NaN\n",
       "3     A           NaN\n",
       "4     A           NaN\n",
       "..   ...          ...\n",
       "144   A           NaN\n",
       "145   A           NaN\n",
       "146   A           NaN\n",
       "147   B           NaN\n",
       "148  NaN          NaN\n",
       "\n",
       "[149 rows x 2 columns]"
      ]
     },
     "execution_count": 21,
     "metadata": {},
     "output_type": "execute_result"
    }
   ],
   "source": [
    "CLAGN_list[['OX','Type_X']]#.columns"
   ]
  },
  {
   "cell_type": "code",
   "execution_count": null,
   "id": "81071196",
   "metadata": {},
   "outputs": [],
   "source": []
  },
  {
   "cell_type": "code",
   "execution_count": null,
   "id": "fb4e5193",
   "metadata": {},
   "outputs": [],
   "source": []
  },
  {
   "cell_type": "code",
   "execution_count": 30,
   "id": "fb330ad5",
   "metadata": {
    "ExecuteTime": {
     "end_time": "2023-08-04T11:50:44.578359Z",
     "start_time": "2023-08-04T11:50:44.559429Z"
    }
   },
   "outputs": [],
   "source": [
    "XCLAGNs=CLAGN_list[CLAGN_list['OX'].str.contains('B')]\n",
    "XCLAGNs=drop_index(XCLAGNs)"
   ]
  },
  {
   "cell_type": "code",
   "execution_count": 28,
   "id": "cb2b6639",
   "metadata": {
    "ExecuteTime": {
     "end_time": "2023-08-04T11:33:10.210074Z",
     "start_time": "2023-08-04T11:33:10.166628Z"
    }
   },
   "outputs": [
    {
     "data": {
      "text/html": [
       "<div>\n",
       "<style scoped>\n",
       "    .dataframe tbody tr th:only-of-type {\n",
       "        vertical-align: middle;\n",
       "    }\n",
       "\n",
       "    .dataframe tbody tr th {\n",
       "        vertical-align: top;\n",
       "    }\n",
       "\n",
       "    .dataframe thead th {\n",
       "        text-align: right;\n",
       "    }\n",
       "</style>\n",
       "<table border=\"1\" class=\"dataframe\">\n",
       "  <thead>\n",
       "    <tr style=\"text-align: right;\">\n",
       "      <th></th>\n",
       "      <th>Name</th>\n",
       "      <th>RA</th>\n",
       "      <th>DEC</th>\n",
       "      <th>Ref.</th>\n",
       "      <th>Type_Ref</th>\n",
       "      <th>Redshift</th>\n",
       "      <th>lg(MBH/Msun)</th>\n",
       "      <th>Ref..1</th>\n",
       "      <th>mass_Ref</th>\n",
       "      <th>Type_CL</th>\n",
       "      <th>...</th>\n",
       "      <th>logM</th>\n",
       "      <th>pos</th>\n",
       "      <th>E(B-V)mean</th>\n",
       "      <th>E(B-V)weighted</th>\n",
       "      <th>NHImean</th>\n",
       "      <th>NHIweighted</th>\n",
       "      <th>NH2mean</th>\n",
       "      <th>NH2weighted</th>\n",
       "      <th>NH,totmean</th>\n",
       "      <th>NH,totweighted</th>\n",
       "    </tr>\n",
       "  </thead>\n",
       "  <tbody>\n",
       "    <tr>\n",
       "      <th>1</th>\n",
       "      <td>1H 0419-577</td>\n",
       "      <td>04h26m00.724s</td>\n",
       "      <td>-57d12m00.97s</td>\n",
       "      <td>arxiv:1201.2169</td>\n",
       "      <td>2012MNRAS.421.1803M</td>\n",
       "      <td>0.104000</td>\n",
       "      <td>8.58</td>\n",
       "      <td>arxiv:1401.5614</td>\n",
       "      <td>2014A&amp;A...563A..95D</td>\n",
       "      <td>X</td>\n",
       "      <td>...</td>\n",
       "      <td>8.58</td>\n",
       "      <td>J 66.50302, -57.20027</td>\n",
       "      <td>0.015</td>\n",
       "      <td>0.014</td>\n",
       "      <td>1.290000e+20</td>\n",
       "      <td>1.260000e+20</td>\n",
       "      <td>5.430000e+18</td>\n",
       "      <td>5.110000e+18</td>\n",
       "      <td>1.340000e+20</td>\n",
       "      <td>1.310000e+20</td>\n",
       "    </tr>\n",
       "    <tr>\n",
       "      <th>28</th>\n",
       "      <td>IC 751</td>\n",
       "      <td>11h58m52.596s</td>\n",
       "      <td>+42d34m13.21s</td>\n",
       "      <td>arxiv:1602.00702</td>\n",
       "      <td>2016ApJ...820....5R</td>\n",
       "      <td>0.031500</td>\n",
       "      <td>8.50</td>\n",
       "      <td>arxiv:1602.00702</td>\n",
       "      <td>2016ApJ...820....5R</td>\n",
       "      <td>X</td>\n",
       "      <td>...</td>\n",
       "      <td>8.5</td>\n",
       "      <td>J 179.71915, 42.57034</td>\n",
       "      <td>0.016</td>\n",
       "      <td>0.017</td>\n",
       "      <td>1.210000e+20</td>\n",
       "      <td>1.220000e+20</td>\n",
       "      <td>5.650000e+18</td>\n",
       "      <td>5.840000e+18</td>\n",
       "      <td>1.270000e+20</td>\n",
       "      <td>1.280000e+20</td>\n",
       "    </tr>\n",
       "    <tr>\n",
       "      <th>43</th>\n",
       "      <td>NGC 1365</td>\n",
       "      <td>03h33m36.371s</td>\n",
       "      <td>-36d08m25.45s</td>\n",
       "      <td>arxiv:0302328</td>\n",
       "      <td>2003MNRAS.342..422M</td>\n",
       "      <td>0.005460</td>\n",
       "      <td>6.65</td>\n",
       "      <td>2017MNRAS.468L..97O</td>\n",
       "      <td>2017MNRAS.468L..97O</td>\n",
       "      <td>X</td>\n",
       "      <td>...</td>\n",
       "      <td>6.65</td>\n",
       "      <td>J 53.40155, -36.14040</td>\n",
       "      <td>0.013</td>\n",
       "      <td>0.013</td>\n",
       "      <td>1.340000e+20</td>\n",
       "      <td>1.340000e+20</td>\n",
       "      <td>5.000000e+18</td>\n",
       "      <td>5.200000e+18</td>\n",
       "      <td>1.390000e+20</td>\n",
       "      <td>1.390000e+20</td>\n",
       "    </tr>\n",
       "    <tr>\n",
       "      <th>50</th>\n",
       "      <td>NGC 4051</td>\n",
       "      <td>12h03m09.614s</td>\n",
       "      <td>+44d31m52.80s</td>\n",
       "      <td>arxiv:1201.2169</td>\n",
       "      <td>2012MNRAS.421.1803M</td>\n",
       "      <td>0.002340</td>\n",
       "      <td>6.36</td>\n",
       "      <td>arxiv:1905.03683</td>\n",
       "      <td>2019MNRAS.487..667C</td>\n",
       "      <td>X</td>\n",
       "      <td>...</td>\n",
       "      <td>6.36</td>\n",
       "      <td>J 180.79006, 44.53133</td>\n",
       "      <td>0.013</td>\n",
       "      <td>0.013</td>\n",
       "      <td>1.150000e+20</td>\n",
       "      <td>1.150000e+20</td>\n",
       "      <td>4.330000e+18</td>\n",
       "      <td>4.380000e+18</td>\n",
       "      <td>1.190000e+20</td>\n",
       "      <td>1.200000e+20</td>\n",
       "    </tr>\n",
       "    <tr>\n",
       "      <th>52</th>\n",
       "      <td>NGC 4388</td>\n",
       "      <td>12h25m46.747s</td>\n",
       "      <td>+12d39m43.51s</td>\n",
       "      <td>arxiv:1201.2169</td>\n",
       "      <td>2012MNRAS.421.1803M</td>\n",
       "      <td>0.008420</td>\n",
       "      <td>6.92</td>\n",
       "      <td>arxiv:1908.08023</td>\n",
       "      <td>2019ApJ...884..106M</td>\n",
       "      <td>X</td>\n",
       "      <td>...</td>\n",
       "      <td>6.92</td>\n",
       "      <td>J 186.44478, 12.66209</td>\n",
       "      <td>0.033</td>\n",
       "      <td>0.034</td>\n",
       "      <td>2.610000e+20</td>\n",
       "      <td>2.580000e+20</td>\n",
       "      <td>2.810000e+19</td>\n",
       "      <td>2.880000e+19</td>\n",
       "      <td>2.890000e+20</td>\n",
       "      <td>2.870000e+20</td>\n",
       "    </tr>\n",
       "    <tr>\n",
       "      <th>53</th>\n",
       "      <td>NGC 4395</td>\n",
       "      <td>12h25m48.862s</td>\n",
       "      <td>+33d32m48.94s</td>\n",
       "      <td>arxiv:2107.11127</td>\n",
       "      <td>2021MNRAS.507..687J</td>\n",
       "      <td>0.001060</td>\n",
       "      <td>5.56</td>\n",
       "      <td>2005ApJ...632..799P</td>\n",
       "      <td>2005ApJ...632..799P</td>\n",
       "      <td>NaN</td>\n",
       "      <td>...</td>\n",
       "      <td>5.56</td>\n",
       "      <td>J 186.45359, 33.54693</td>\n",
       "      <td>0.015</td>\n",
       "      <td>0.016</td>\n",
       "      <td>1.730000e+20</td>\n",
       "      <td>1.850000e+20</td>\n",
       "      <td>7.940000e+18</td>\n",
       "      <td>8.660000e+18</td>\n",
       "      <td>1.810000e+20</td>\n",
       "      <td>1.930000e+20</td>\n",
       "    </tr>\n",
       "    <tr>\n",
       "      <th>54</th>\n",
       "      <td>NGC 4507</td>\n",
       "      <td>12h35m36.631s</td>\n",
       "      <td>-39d54m33.35s</td>\n",
       "      <td>arxiv:2107.11127</td>\n",
       "      <td>2021MNRAS.507..687J</td>\n",
       "      <td>0.011800</td>\n",
       "      <td>7.65</td>\n",
       "      <td>arxiv:1212.4151</td>\n",
       "      <td>2011AAS...21822816M</td>\n",
       "      <td>X</td>\n",
       "      <td>...</td>\n",
       "      <td>7.65</td>\n",
       "      <td>J 188.90263, -39.90926</td>\n",
       "      <td>0.096</td>\n",
       "      <td>0.097</td>\n",
       "      <td>6.970000e+20</td>\n",
       "      <td>7.040000e+20</td>\n",
       "      <td>2.460000e+20</td>\n",
       "      <td>2.490000e+20</td>\n",
       "      <td>9.440000e+20</td>\n",
       "      <td>9.530000e+20</td>\n",
       "    </tr>\n",
       "    <tr>\n",
       "      <th>55</th>\n",
       "      <td>NGC 454</td>\n",
       "      <td>01h14m22.5s</td>\n",
       "      <td>-55d23m55s</td>\n",
       "      <td>arxiv:1201.2169</td>\n",
       "      <td>2012MNRAS.421.1803M</td>\n",
       "      <td>0.012160</td>\n",
       "      <td>6.23</td>\n",
       "      <td>2009ApJ...690.1322W</td>\n",
       "      <td>2009ApJ...690.1322W</td>\n",
       "      <td>X</td>\n",
       "      <td>...</td>\n",
       "      <td>6.23</td>\n",
       "      <td>J 18.59375, -55.39861</td>\n",
       "      <td>0.020</td>\n",
       "      <td>0.021</td>\n",
       "      <td>2.250000e+20</td>\n",
       "      <td>2.250000e+20</td>\n",
       "      <td>1.440000e+19</td>\n",
       "      <td>1.460000e+19</td>\n",
       "      <td>2.400000e+20</td>\n",
       "      <td>2.390000e+20</td>\n",
       "    </tr>\n",
       "    <tr>\n",
       "      <th>56</th>\n",
       "      <td>NGC 4939</td>\n",
       "      <td>13h04m14.39s</td>\n",
       "      <td>-10d20m22.6s</td>\n",
       "      <td>arxiv:0409689</td>\n",
       "      <td>2005MNRAS.356..295G</td>\n",
       "      <td>0.010380</td>\n",
       "      <td>7.52</td>\n",
       "      <td>2017ApJ...850...74K</td>\n",
       "      <td>2017ApJ...850...74K</td>\n",
       "      <td>X</td>\n",
       "      <td>...</td>\n",
       "      <td>-</td>\n",
       "      <td>J 196.05996, -10.33961</td>\n",
       "      <td>0.047</td>\n",
       "      <td>0.046</td>\n",
       "      <td>3.250000e+20</td>\n",
       "      <td>3.300000e+20</td>\n",
       "      <td>5.240000e+19</td>\n",
       "      <td>5.240000e+19</td>\n",
       "      <td>3.780000e+20</td>\n",
       "      <td>3.830000e+20</td>\n",
       "    </tr>\n",
       "    <tr>\n",
       "      <th>59</th>\n",
       "      <td>NGC 6300</td>\n",
       "      <td>17h16m59.47s</td>\n",
       "      <td>-62d49m14.0s</td>\n",
       "      <td>arxiv:2008.08033</td>\n",
       "      <td>2020MNRAS.499.5396J</td>\n",
       "      <td>0.003700</td>\n",
       "      <td>7.00</td>\n",
       "      <td>arxiv:2008.08033</td>\n",
       "      <td>2020MNRAS.499.5396J</td>\n",
       "      <td>X</td>\n",
       "      <td>...</td>\n",
       "      <td>7</td>\n",
       "      <td>J 259.24779, -62.82056</td>\n",
       "      <td>0.101</td>\n",
       "      <td>0.098</td>\n",
       "      <td>7.960000e+20</td>\n",
       "      <td>7.790000e+20</td>\n",
       "      <td>2.940000e+20</td>\n",
       "      <td>2.780000e+20</td>\n",
       "      <td>1.090000e+21</td>\n",
       "      <td>1.060000e+21</td>\n",
       "    </tr>\n",
       "    <tr>\n",
       "      <th>61</th>\n",
       "      <td>NGC 7674</td>\n",
       "      <td>23h27m56.724s</td>\n",
       "      <td>+08d46m44.53s</td>\n",
       "      <td>arxiv:0507323</td>\n",
       "      <td>2005A&amp;A...442..185B</td>\n",
       "      <td>0.029030</td>\n",
       "      <td>7.56</td>\n",
       "      <td>arxiv:1709.06258</td>\n",
       "      <td>2017NatAs...1..727K</td>\n",
       "      <td>X</td>\n",
       "      <td>...</td>\n",
       "      <td>7.56</td>\n",
       "      <td>J 351.98635, 8.77904</td>\n",
       "      <td>0.058</td>\n",
       "      <td>0.061</td>\n",
       "      <td>4.210000e+20</td>\n",
       "      <td>4.270000e+20</td>\n",
       "      <td>8.770000e+19</td>\n",
       "      <td>9.270000e+19</td>\n",
       "      <td>5.090000e+20</td>\n",
       "      <td>5.200000e+20</td>\n",
       "    </tr>\n",
       "    <tr>\n",
       "      <th>108</th>\n",
       "      <td>UGC 4203</td>\n",
       "      <td>08h04m05.858s</td>\n",
       "      <td>+05d06m49.84s</td>\n",
       "      <td>arxiv:0302328</td>\n",
       "      <td>2003MNRAS.342..422M</td>\n",
       "      <td>0.013500</td>\n",
       "      <td>6.78</td>\n",
       "      <td>2017MNRAS.468L..97O</td>\n",
       "      <td>2017MNRAS.468L..97O</td>\n",
       "      <td>X</td>\n",
       "      <td>...</td>\n",
       "      <td>6.78</td>\n",
       "      <td>J 121.02441, 5.11384</td>\n",
       "      <td>0.026</td>\n",
       "      <td>0.026</td>\n",
       "      <td>3.420000e+20</td>\n",
       "      <td>3.450000e+20</td>\n",
       "      <td>2.990000e+19</td>\n",
       "      <td>3.040000e+19</td>\n",
       "      <td>3.720000e+20</td>\n",
       "      <td>3.750000e+20</td>\n",
       "    </tr>\n",
       "    <tr>\n",
       "      <th>139</th>\n",
       "      <td>NGC 6890</td>\n",
       "      <td>20h18m18.10s</td>\n",
       "      <td>-44d48m24.21s</td>\n",
       "      <td>arXiv:2205.14216</td>\n",
       "      <td>arXiv:2205.14216</td>\n",
       "      <td>0.008000</td>\n",
       "      <td>7.07</td>\n",
       "      <td>arXiv:2205.14216</td>\n",
       "      <td>NaN</td>\n",
       "      <td>NaN</td>\n",
       "      <td>...</td>\n",
       "      <td>7.07</td>\n",
       "      <td>NaN</td>\n",
       "      <td>NaN</td>\n",
       "      <td>NaN</td>\n",
       "      <td>NaN</td>\n",
       "      <td>NaN</td>\n",
       "      <td>NaN</td>\n",
       "      <td>NaN</td>\n",
       "      <td>NaN</td>\n",
       "      <td>NaN</td>\n",
       "    </tr>\n",
       "    <tr>\n",
       "      <th>140</th>\n",
       "      <td>NGC 1358</td>\n",
       "      <td>03h33m39.67s</td>\n",
       "      <td>-05d05m21.8s</td>\n",
       "      <td>arxiv:2207.06734</td>\n",
       "      <td>NaN</td>\n",
       "      <td>0.013436</td>\n",
       "      <td>NaN</td>\n",
       "      <td>NaN</td>\n",
       "      <td>NaN</td>\n",
       "      <td>NaN</td>\n",
       "      <td>...</td>\n",
       "      <td>NaN</td>\n",
       "      <td>NaN</td>\n",
       "      <td>NaN</td>\n",
       "      <td>NaN</td>\n",
       "      <td>NaN</td>\n",
       "      <td>NaN</td>\n",
       "      <td>NaN</td>\n",
       "      <td>NaN</td>\n",
       "      <td>NaN</td>\n",
       "      <td>NaN</td>\n",
       "    </tr>\n",
       "    <tr>\n",
       "      <th>147</th>\n",
       "      <td>2MASX J13471874+0210579</td>\n",
       "      <td>13h47m18.64s</td>\n",
       "      <td>+02d10m57.9s</td>\n",
       "      <td>2022arXiv221207272A</td>\n",
       "      <td>NaN</td>\n",
       "      <td>0.109578</td>\n",
       "      <td>NaN</td>\n",
       "      <td>NaN</td>\n",
       "      <td>NaN</td>\n",
       "      <td>NaN</td>\n",
       "      <td>...</td>\n",
       "      <td>NaN</td>\n",
       "      <td>NaN</td>\n",
       "      <td>NaN</td>\n",
       "      <td>NaN</td>\n",
       "      <td>NaN</td>\n",
       "      <td>NaN</td>\n",
       "      <td>NaN</td>\n",
       "      <td>NaN</td>\n",
       "      <td>NaN</td>\n",
       "      <td>NaN</td>\n",
       "    </tr>\n",
       "    <tr>\n",
       "      <th>148</th>\n",
       "      <td>ESO 323-G77</td>\n",
       "      <td>13h06m26.13s</td>\n",
       "      <td>-40d24m52.8s</td>\n",
       "      <td>arxiv:2301.13223</td>\n",
       "      <td>NaN</td>\n",
       "      <td>0.015010</td>\n",
       "      <td>NaN</td>\n",
       "      <td>NaN</td>\n",
       "      <td>NaN</td>\n",
       "      <td>NaN</td>\n",
       "      <td>...</td>\n",
       "      <td>NaN</td>\n",
       "      <td>NaN</td>\n",
       "      <td>NaN</td>\n",
       "      <td>NaN</td>\n",
       "      <td>NaN</td>\n",
       "      <td>NaN</td>\n",
       "      <td>NaN</td>\n",
       "      <td>NaN</td>\n",
       "      <td>NaN</td>\n",
       "      <td>NaN</td>\n",
       "    </tr>\n",
       "  </tbody>\n",
       "</table>\n",
       "<p>16 rows × 22 columns</p>\n",
       "</div>"
      ],
      "text/plain": [
       "                        Name             RA            DEC  \\\n",
       "1                1H 0419-577  04h26m00.724s  -57d12m00.97s   \n",
       "28                    IC 751  11h58m52.596s  +42d34m13.21s   \n",
       "43                  NGC 1365  03h33m36.371s  -36d08m25.45s   \n",
       "50                  NGC 4051  12h03m09.614s  +44d31m52.80s   \n",
       "52                  NGC 4388  12h25m46.747s  +12d39m43.51s   \n",
       "53                  NGC 4395  12h25m48.862s  +33d32m48.94s   \n",
       "54                  NGC 4507  12h35m36.631s  -39d54m33.35s   \n",
       "55                   NGC 454    01h14m22.5s     -55d23m55s   \n",
       "56                  NGC 4939   13h04m14.39s   -10d20m22.6s   \n",
       "59                  NGC 6300   17h16m59.47s   -62d49m14.0s   \n",
       "61                  NGC 7674  23h27m56.724s  +08d46m44.53s   \n",
       "108                 UGC 4203  08h04m05.858s  +05d06m49.84s   \n",
       "139                NGC 6890    20h18m18.10s  -44d48m24.21s   \n",
       "140                 NGC 1358   03h33m39.67s   -05d05m21.8s   \n",
       "147  2MASX J13471874+0210579   13h47m18.64s   +02d10m57.9s   \n",
       "148              ESO 323-G77   13h06m26.13s   -40d24m52.8s   \n",
       "\n",
       "                    Ref.             Type_Ref  Redshift  lg(MBH/Msun)  \\\n",
       "1        arxiv:1201.2169  2012MNRAS.421.1803M  0.104000          8.58   \n",
       "28      arxiv:1602.00702  2016ApJ...820....5R  0.031500          8.50   \n",
       "43         arxiv:0302328  2003MNRAS.342..422M  0.005460          6.65   \n",
       "50       arxiv:1201.2169  2012MNRAS.421.1803M  0.002340          6.36   \n",
       "52       arxiv:1201.2169  2012MNRAS.421.1803M  0.008420          6.92   \n",
       "53      arxiv:2107.11127  2021MNRAS.507..687J  0.001060          5.56   \n",
       "54      arxiv:2107.11127  2021MNRAS.507..687J  0.011800          7.65   \n",
       "55       arxiv:1201.2169  2012MNRAS.421.1803M  0.012160          6.23   \n",
       "56         arxiv:0409689  2005MNRAS.356..295G  0.010380          7.52   \n",
       "59      arxiv:2008.08033  2020MNRAS.499.5396J  0.003700          7.00   \n",
       "61         arxiv:0507323  2005A&A...442..185B  0.029030          7.56   \n",
       "108        arxiv:0302328  2003MNRAS.342..422M  0.013500          6.78   \n",
       "139    arXiv:2205.14216     arXiv:2205.14216   0.008000          7.07   \n",
       "140     arxiv:2207.06734                  NaN  0.013436           NaN   \n",
       "147  2022arXiv221207272A                  NaN  0.109578           NaN   \n",
       "148     arxiv:2301.13223                  NaN  0.015010           NaN   \n",
       "\n",
       "                  Ref..1             mass_Ref Type_CL  ...  logM  \\\n",
       "1        arxiv:1401.5614  2014A&A...563A..95D       X  ...  8.58   \n",
       "28      arxiv:1602.00702  2016ApJ...820....5R       X  ...   8.5   \n",
       "43   2017MNRAS.468L..97O  2017MNRAS.468L..97O       X  ...  6.65   \n",
       "50      arxiv:1905.03683  2019MNRAS.487..667C       X  ...  6.36   \n",
       "52      arxiv:1908.08023  2019ApJ...884..106M       X  ...  6.92   \n",
       "53   2005ApJ...632..799P  2005ApJ...632..799P     NaN  ...  5.56   \n",
       "54       arxiv:1212.4151  2011AAS...21822816M       X  ...  7.65   \n",
       "55   2009ApJ...690.1322W  2009ApJ...690.1322W       X  ...  6.23   \n",
       "56   2017ApJ...850...74K  2017ApJ...850...74K       X  ...    -    \n",
       "59      arxiv:2008.08033  2020MNRAS.499.5396J       X  ...     7   \n",
       "61      arxiv:1709.06258  2017NatAs...1..727K       X  ...  7.56   \n",
       "108  2017MNRAS.468L..97O  2017MNRAS.468L..97O       X  ...  6.78   \n",
       "139    arXiv:2205.14216                   NaN     NaN  ...  7.07   \n",
       "140                  NaN                  NaN     NaN  ...   NaN   \n",
       "147                  NaN                  NaN     NaN  ...   NaN   \n",
       "148                  NaN                  NaN     NaN  ...   NaN   \n",
       "\n",
       "                        pos E(B-V)mean E(B-V)weighted       NHImean  \\\n",
       "1     J 66.50302, -57.20027      0.015          0.014  1.290000e+20   \n",
       "28    J 179.71915, 42.57034      0.016          0.017  1.210000e+20   \n",
       "43    J 53.40155, -36.14040      0.013          0.013  1.340000e+20   \n",
       "50    J 180.79006, 44.53133      0.013          0.013  1.150000e+20   \n",
       "52    J 186.44478, 12.66209      0.033          0.034  2.610000e+20   \n",
       "53    J 186.45359, 33.54693      0.015          0.016  1.730000e+20   \n",
       "54   J 188.90263, -39.90926      0.096          0.097  6.970000e+20   \n",
       "55    J 18.59375, -55.39861      0.020          0.021  2.250000e+20   \n",
       "56   J 196.05996, -10.33961      0.047          0.046  3.250000e+20   \n",
       "59   J 259.24779, -62.82056      0.101          0.098  7.960000e+20   \n",
       "61     J 351.98635, 8.77904      0.058          0.061  4.210000e+20   \n",
       "108    J 121.02441, 5.11384      0.026          0.026  3.420000e+20   \n",
       "139                     NaN        NaN            NaN           NaN   \n",
       "140                     NaN        NaN            NaN           NaN   \n",
       "147                     NaN        NaN            NaN           NaN   \n",
       "148                     NaN        NaN            NaN           NaN   \n",
       "\n",
       "      NHIweighted       NH2mean   NH2weighted    NH,totmean  NH,totweighted  \n",
       "1    1.260000e+20  5.430000e+18  5.110000e+18  1.340000e+20    1.310000e+20  \n",
       "28   1.220000e+20  5.650000e+18  5.840000e+18  1.270000e+20    1.280000e+20  \n",
       "43   1.340000e+20  5.000000e+18  5.200000e+18  1.390000e+20    1.390000e+20  \n",
       "50   1.150000e+20  4.330000e+18  4.380000e+18  1.190000e+20    1.200000e+20  \n",
       "52   2.580000e+20  2.810000e+19  2.880000e+19  2.890000e+20    2.870000e+20  \n",
       "53   1.850000e+20  7.940000e+18  8.660000e+18  1.810000e+20    1.930000e+20  \n",
       "54   7.040000e+20  2.460000e+20  2.490000e+20  9.440000e+20    9.530000e+20  \n",
       "55   2.250000e+20  1.440000e+19  1.460000e+19  2.400000e+20    2.390000e+20  \n",
       "56   3.300000e+20  5.240000e+19  5.240000e+19  3.780000e+20    3.830000e+20  \n",
       "59   7.790000e+20  2.940000e+20  2.780000e+20  1.090000e+21    1.060000e+21  \n",
       "61   4.270000e+20  8.770000e+19  9.270000e+19  5.090000e+20    5.200000e+20  \n",
       "108  3.450000e+20  2.990000e+19  3.040000e+19  3.720000e+20    3.750000e+20  \n",
       "139           NaN           NaN           NaN           NaN             NaN  \n",
       "140           NaN           NaN           NaN           NaN             NaN  \n",
       "147           NaN           NaN           NaN           NaN             NaN  \n",
       "148           NaN           NaN           NaN           NaN             NaN  \n",
       "\n",
       "[16 rows x 22 columns]"
      ]
     },
     "execution_count": 28,
     "metadata": {},
     "output_type": "execute_result"
    }
   ],
   "source": [
    "XCLAGNs"
   ]
  },
  {
   "cell_type": "markdown",
   "id": "7fb40943",
   "metadata": {},
   "source": [
    "# mission = 'numaster'"
   ]
  },
  {
   "cell_type": "code",
   "execution_count": 13,
   "id": "a1129fc4",
   "metadata": {
    "ExecuteTime": {
     "end_time": "2023-08-07T06:37:31.709727Z",
     "start_time": "2023-08-07T06:37:30.950193Z"
    }
   },
   "outputs": [],
   "source": [
    "from astroquery.heasarc import Heasarc\n",
    "heasarc = Heasarc()\n",
    "mission = 'numaster'"
   ]
  },
  {
   "cell_type": "code",
   "execution_count": 32,
   "id": "0cddd3af",
   "metadata": {
    "ExecuteTime": {
     "end_time": "2023-08-04T11:52:31.506884Z",
     "start_time": "2023-08-04T11:51:31.901005Z"
    },
    "scrolled": false
   },
   "outputs": [
    {
     "name": "stderr",
     "output_type": "stream",
     "text": [
      "WARNING: UnitsWarning: 'mjd' did not parse as fits unit: At col 0, Unit 'mjd' not supported by the FITS standard. Did you mean MJ or mJ? If this is meant to be a custom unit, define it with 'u.def_unit'. To have it recognized inside a file reader or other code, enable it with 'u.add_enabled_units'. For details, see https://docs.astropy.org/en/latest/units/combining_and_defining.html [astropy.units.core]\n"
     ]
    },
    {
     "name": "stdout",
     "output_type": "stream",
     "text": [
      "1H 0419-577 & 60101039002 & 57176.8 & 2015-6-3 & 169.46 \\\\\n",
      "1H 0419-577 & 60402006002 & 58254.0 & 2018-5-15 & 64.22 \\\\\n",
      "1H 0419-577 & 60402006004 & 58435.8 & 2018-11-13 & 48.27 \\\\\n"
     ]
    },
    {
     "name": "stderr",
     "output_type": "stream",
     "text": [
      "WARNING: UnitsWarning: 'mjd' did not parse as fits unit: At col 0, Unit 'mjd' not supported by the FITS standard. Did you mean MJ or mJ? If this is meant to be a custom unit, define it with 'u.def_unit'. To have it recognized inside a file reader or other code, enable it with 'u.add_enabled_units'. For details, see https://docs.astropy.org/en/latest/units/combining_and_defining.html [astropy.units.core]\n"
     ]
    },
    {
     "name": "stdout",
     "output_type": "stream",
     "text": [
      "IC 751 & 60061217002 & 56229.0 & 2012-10-28 & 13.10 \\\\\n",
      "IC 751 & 60061217004 & 56327.0 & 2013-2-4 & 52.02 \\\\\n",
      "IC 751 & 60061217006 & 56435.2 & 2013-5-23 & 25.05 \\\\\n",
      "IC 751 & 60001148002 & 56989.3 & 2014-11-28 & 26.29 \\\\\n",
      "IC 751 & 60001148004 & 56991.3 & 2014-11-30 & 25.74 \\\\\n"
     ]
    },
    {
     "name": "stderr",
     "output_type": "stream",
     "text": [
      "WARNING: UnitsWarning: 'mjd' did not parse as fits unit: At col 0, Unit 'mjd' not supported by the FITS standard. Did you mean MJ or mJ? If this is meant to be a custom unit, define it with 'u.def_unit'. To have it recognized inside a file reader or other code, enable it with 'u.add_enabled_units'. For details, see https://docs.astropy.org/en/latest/units/combining_and_defining.html [astropy.units.core]\n"
     ]
    },
    {
     "name": "stdout",
     "output_type": "stream",
     "text": [
      "NGC 1365 & 60002046002 & 56133.9 & 2012-7-25 & 36.26 \\\\\n",
      "NGC 1365 & 60002046003 & 56134.7 & 2012-7-26 & 40.59 \\\\\n",
      "NGC 1365 & 60002046005 & 56285.6 & 2012-12-24 & 66.29 \\\\\n",
      "NGC 1365 & 60002046007 & 56315.4 & 2013-1-23 & 73.65 \\\\\n",
      "NGC 1365 & 60002046009 & 56335.5 & 2013-2-12 & 69.87 \\\\\n",
      "NGC 1365 & 60702058002 & 59320.9 & 2021-4-16 & 56.30 \\\\\n",
      "NGC 1365 & 60702058004 & 59326.8 & 2021-4-22 & 38.05 \\\\\n",
      "NGC 1365 & 60702058006 & 59333.3 & 2021-4-29 & 11.85 \\\\\n",
      "NGC 1365 & 60702058008 & 59336.0 & 2021-5-2 & 44.66 \\\\\n",
      "NGC 1365 & 60702058010 & 59340.5 & 2021-5-6 & 41.48 \\\\\n",
      "NGC 1365 & 60702058012 & 59342.7 & 2021-5-8 & 50.70 \\\\\n"
     ]
    },
    {
     "name": "stderr",
     "output_type": "stream",
     "text": [
      "WARNING: UnitsWarning: 'mjd' did not parse as fits unit: At col 0, Unit 'mjd' not supported by the FITS standard. Did you mean MJ or mJ? If this is meant to be a custom unit, define it with 'u.def_unit'. To have it recognized inside a file reader or other code, enable it with 'u.add_enabled_units'. For details, see https://docs.astropy.org/en/latest/units/combining_and_defining.html [astropy.units.core]\n"
     ]
    },
    {
     "name": "stdout",
     "output_type": "stream",
     "text": [
      "NGC 4051 & 60001050002 & 56460.7 & 2013-6-17 & 9.43 \\\\\n",
      "NGC 4051 & 60001050003 & 56460.9 & 2013-6-17 & 45.73 \\\\\n",
      "NGC 4051 & 60001050005 & 56574.6 & 2013-10-9 & 10.20 \\\\\n",
      "NGC 4051 & 60001050006 & 56574.8 & 2013-10-9 & 49.62 \\\\\n",
      "NGC 4051 & 60001050008 & 56704.6 & 2014-2-16 & 56.68 \\\\\n",
      "NGC 4051 & 60401009002 & 58426.5 & 2018-11-4 & 311.14 \\\\\n"
     ]
    },
    {
     "name": "stderr",
     "output_type": "stream",
     "text": [
      "WARNING: UnitsWarning: 'mjd' did not parse as fits unit: At col 0, Unit 'mjd' not supported by the FITS standard. Did you mean MJ or mJ? If this is meant to be a custom unit, define it with 'u.def_unit'. To have it recognized inside a file reader or other code, enable it with 'u.add_enabled_units'. For details, see https://docs.astropy.org/en/latest/units/combining_and_defining.html [astropy.units.core]\n",
      "WARNING: UnitsWarning: 'mjd' did not parse as fits unit: At col 0, Unit 'mjd' not supported by the FITS standard. Did you mean MJ or mJ? If this is meant to be a custom unit, define it with 'u.def_unit'. To have it recognized inside a file reader or other code, enable it with 'u.add_enabled_units'. For details, see https://docs.astropy.org/en/latest/units/combining_and_defining.html [astropy.units.core]\n"
     ]
    },
    {
     "name": "stdout",
     "output_type": "stream",
     "text": [
      "NGC 4388 & 60061228002 & 56653.3 & 2013-12-27 & 21.38 \\\\\n",
      "NGC 4388 & 60501018002 & 58842.2 & 2019-12-25 & 50.36 \\\\\n",
      "NGC 4388 & 60802036002 & 60078.3 & 2023-5-14 & 43.67 \\\\\n",
      "NGC 4388 & 60802036004 & 60081.3 & 2023-5-17 & 23.25 \\\\\n",
      "NGC 4388 & 60802036006 & 60084.0 & 2023-5-19 & 22.18 \\\\\n",
      "NGC 4388 & 60802036008 & 60090.1 & 2023-5-26 & 19.34 \\\\\n",
      "NGC 4395 & 60061322002 & 56422.1 & 2013-5-10 & 19.25 \\\\\n"
     ]
    },
    {
     "name": "stderr",
     "output_type": "stream",
     "text": [
      "WARNING: UnitsWarning: 'mjd' did not parse as fits unit: At col 0, Unit 'mjd' not supported by the FITS standard. Did you mean MJ or mJ? If this is meant to be a custom unit, define it with 'u.def_unit'. To have it recognized inside a file reader or other code, enable it with 'u.add_enabled_units'. For details, see https://docs.astropy.org/en/latest/units/combining_and_defining.html [astropy.units.core]\n"
     ]
    },
    {
     "name": "stdout",
     "output_type": "stream",
     "text": [
      "NGC 4507 & 60102051002 & 57145.8 & 2015-5-3 & 30.13 \\\\\n",
      "NGC 4507 & 60102051004 & 57183.8 & 2015-6-10 & 34.46 \\\\\n",
      "NGC 4507 & 60102051006 & 57218.3 & 2015-7-15 & 32.23 \\\\\n",
      "NGC 4507 & 60102051008 & 57256.4 & 2015-8-22 & 30.92 \\\\\n"
     ]
    },
    {
     "name": "stderr",
     "output_type": "stream",
     "text": [
      "WARNING: UnitsWarning: 'mjd' did not parse as fits unit: At col 0, Unit 'mjd' not supported by the FITS standard. Did you mean MJ or mJ? If this is meant to be a custom unit, define it with 'u.def_unit'. To have it recognized inside a file reader or other code, enable it with 'u.add_enabled_units'. For details, see https://docs.astropy.org/en/latest/units/combining_and_defining.html [astropy.units.core]\n"
     ]
    },
    {
     "name": "stdout",
     "output_type": "stream",
     "text": [
      "NGC 454 & 60061009002 & 57432.2 & 2016-2-14 & 24.23 \\\\\n",
      "NGC 454 & 60760003002 & 59259.5 & 2021-2-14 & 25.39 \\\\\n"
     ]
    },
    {
     "name": "stderr",
     "output_type": "stream",
     "text": [
      "WARNING: UnitsWarning: 'mjd' did not parse as fits unit: At col 0, Unit 'mjd' not supported by the FITS standard. Did you mean MJ or mJ? If this is meant to be a custom unit, define it with 'u.def_unit'. To have it recognized inside a file reader or other code, enable it with 'u.add_enabled_units'. For details, see https://docs.astropy.org/en/latest/units/combining_and_defining.html [astropy.units.core]\n"
     ]
    },
    {
     "name": "stdout",
     "output_type": "stream",
     "text": [
      "NGC 4939 & 60002036002 & 57801.3 & 2017-2-17 & 22.04 \\\\\n"
     ]
    },
    {
     "name": "stderr",
     "output_type": "stream",
     "text": [
      "WARNING: UnitsWarning: 'mjd' did not parse as fits unit: At col 0, Unit 'mjd' not supported by the FITS standard. Did you mean MJ or mJ? If this is meant to be a custom unit, define it with 'u.def_unit'. To have it recognized inside a file reader or other code, enable it with 'u.add_enabled_units'. For details, see https://docs.astropy.org/en/latest/units/combining_and_defining.html [astropy.units.core]\n"
     ]
    },
    {
     "name": "stdout",
     "output_type": "stream",
     "text": [
      "NGC 6300 & 60061277002 & 56348.9 & 2013-2-25 & 17.71 \\\\\n",
      "NGC 6300 & 60261001002 & 57411.0 & 2016-1-24 & 20.43 \\\\\n",
      "NGC 6300 & 60261001004 & 57624.4 & 2016-8-24 & 23.54 \\\\\n"
     ]
    },
    {
     "name": "stderr",
     "output_type": "stream",
     "text": [
      "WARNING: UnitsWarning: 'mjd' did not parse as fits unit: At col 0, Unit 'mjd' not supported by the FITS standard. Did you mean MJ or mJ? If this is meant to be a custom unit, define it with 'u.def_unit'. To have it recognized inside a file reader or other code, enable it with 'u.add_enabled_units'. For details, see https://docs.astropy.org/en/latest/units/combining_and_defining.html [astropy.units.core]\n"
     ]
    },
    {
     "name": "stdout",
     "output_type": "stream",
     "text": [
      "NGC 7674 & 60001151002 & 56930.4 & 2014-9-30 & 52.00 \\\\\n"
     ]
    },
    {
     "name": "stderr",
     "output_type": "stream",
     "text": [
      "WARNING: UnitsWarning: 'mjd' did not parse as fits unit: At col 0, Unit 'mjd' not supported by the FITS standard. Did you mean MJ or mJ? If this is meant to be a custom unit, define it with 'u.def_unit'. To have it recognized inside a file reader or other code, enable it with 'u.add_enabled_units'. For details, see https://docs.astropy.org/en/latest/units/combining_and_defining.html [astropy.units.core]\n"
     ]
    },
    {
     "name": "stdout",
     "output_type": "stream",
     "text": [
      "UGC 4203 & 60061078002 & 56205.6 & 2012-10-5 & 15.45 \\\\\n"
     ]
    },
    {
     "name": "stderr",
     "output_type": "stream",
     "text": [
      "WARNING: UnitsWarning: 'mjd' did not parse as fits unit: At col 0, Unit 'mjd' not supported by the FITS standard. Did you mean MJ or mJ? If this is meant to be a custom unit, define it with 'u.def_unit'. To have it recognized inside a file reader or other code, enable it with 'u.add_enabled_units'. For details, see https://docs.astropy.org/en/latest/units/combining_and_defining.html [astropy.units.core]\n"
     ]
    },
    {
     "name": "stdout",
     "output_type": "stream",
     "text": [
      "NGC 6890  & 60375003002 & 58263.8 & 2018-5-25 & 34.60 \\\\\n"
     ]
    },
    {
     "name": "stderr",
     "output_type": "stream",
     "text": [
      "WARNING: UnitsWarning: 'mjd' did not parse as fits unit: At col 0, Unit 'mjd' not supported by the FITS standard. Did you mean MJ or mJ? If this is meant to be a custom unit, define it with 'u.def_unit'. To have it recognized inside a file reader or other code, enable it with 'u.add_enabled_units'. For details, see https://docs.astropy.org/en/latest/units/combining_and_defining.html [astropy.units.core]\n"
     ]
    },
    {
     "name": "stdout",
     "output_type": "stream",
     "text": [
      "NGC 1358 & 60301026002 & 57966.2 & 2017-8-1 & 50.00 \\\\\n",
      "NGC 1358 & 60702044002 & 59428.7 & 2021-8-2 & 31.00 \\\\\n",
      "NGC 1358 & 60702044004 & 59600.3 & 2022-1-21 & 32.48 \\\\\n",
      "NGC 1358 & 60702044006 & 59613.3 & 2022-2-3 & 27.78 \\\\\n"
     ]
    },
    {
     "name": "stderr",
     "output_type": "stream",
     "text": [
      "WARNING: UnitsWarning: 'mjd' did not parse as fits unit: At col 0, Unit 'mjd' not supported by the FITS standard. Did you mean MJ or mJ? If this is meant to be a custom unit, define it with 'u.def_unit'. To have it recognized inside a file reader or other code, enable it with 'u.add_enabled_units'. For details, see https://docs.astropy.org/en/latest/units/combining_and_defining.html [astropy.units.core]\n"
     ]
    },
    {
     "name": "stdout",
     "output_type": "stream",
     "text": [
      "ESO 323-G77 & 60161526002 & 57611.3 & 2016-8-11 & 22.31 \\\\\n",
      "ESO 323-G77 & 60202021002 & 57736.7 & 2016-12-14 & 39.36 \\\\\n",
      "ESO 323-G77 & 60202021004 & 57742.5 & 2016-12-20 & 42.53 \\\\\n",
      "ESO 323-G77 & 60202021006 & 57757.5 & 2017-1-4 & 43.40 \\\\\n",
      "ESO 323-G77 & 60202021008 & 57787.2 & 2017-2-3 & 43.30 \\\\\n",
      "ESO 323-G77 & 60202021010 & 57843.1 & 2017-3-31 & 38.23 \\\\\n"
     ]
    },
    {
     "name": "stderr",
     "output_type": "stream",
     "text": [
      "WARNING: UnitsWarning: 'mjd' did not parse as fits unit: At col 0, Unit 'mjd' not supported by the FITS standard. Did you mean MJ or mJ? If this is meant to be a custom unit, define it with 'u.def_unit'. To have it recognized inside a file reader or other code, enable it with 'u.add_enabled_units'. For details, see https://docs.astropy.org/en/latest/units/combining_and_defining.html [astropy.units.core]\n"
     ]
    }
   ],
   "source": [
    "obsids=[]\n",
    "mjds=[]\n",
    "names=[]\n",
    "\n",
    "for object_name in XCLAGNs['Name']:\n",
    "    #object_name = OX_CLAGN5_nustar[0]\n",
    "    #print(object_name)\n",
    "    table = heasarc.query_object(object_name, mission=mission,radius='10 arcmin')\n",
    "    table = table.group_by('TIME')\n",
    "    #table[:3].pprint()\n",
    "    for index,name in enumerate(table['NAME']):    \n",
    "        if float(table['EXPOSURE_A'][index]/1000)>1:\n",
    "            mjd=float(table['TIME'][index])\n",
    "            year,month,day=convert_date_single(mjd).year,convert_date_single(mjd).month,convert_date_single(mjd).day\n",
    "            names.append(name.strip())\n",
    "            print(object_name,'&',\n",
    "                  '%s'%table['OBSID'][index],'&',\n",
    "                  '%.1f'%mjd,'&',      \n",
    "                   '%d-%d-%d'%(year,month,day),'&',    \n",
    "                  '%.2f'%float(table['EXPOSURE_A'][index]/1000),  '\\\\\\\\',\n",
    "                 )\n",
    "            obsids.append('%s'%table['OBSID'][index])\n",
    "            mjds.append(mjd)\n",
    "        #else: \n",
    "            #print()\n",
    "            #print(object_name,'&','%s'%table['OBSID'][index],'&','%.2f'%float(table['EXPOSURE_A'][index]/1000))"
   ]
  },
  {
   "cell_type": "code",
   "execution_count": 3,
   "id": "a4a0a01e",
   "metadata": {
    "ExecuteTime": {
     "end_time": "2023-08-07T06:18:28.268385Z",
     "start_time": "2023-08-07T06:18:28.259828Z"
    }
   },
   "outputs": [],
   "source": [
    "import numpy as np\n",
    "\n"
   ]
  },
  {
   "cell_type": "code",
   "execution_count": 4,
   "id": "698eaddb",
   "metadata": {
    "ExecuteTime": {
     "end_time": "2023-08-07T06:18:34.125266Z",
     "start_time": "2023-08-07T06:18:34.115179Z"
    }
   },
   "outputs": [
    {
     "data": {
      "text/plain": [
       "(6.599883072073688, 6.698970004336019)"
      ]
     },
     "execution_count": 4,
     "metadata": {},
     "output_type": "execute_result"
    }
   ],
   "source": [
    "np.log10(3.98e6),np.log10(5e6)"
   ]
  },
  {
   "cell_type": "markdown",
   "id": "453682de",
   "metadata": {},
   "source": [
    "## NGC 1365"
   ]
  },
  {
   "cell_type": "code",
   "execution_count": null,
   "id": "55d6a7d9",
   "metadata": {},
   "outputs": [],
   "source": [
    "NGC 1365 & 60002046002 & 56133.9 & 2012-7-25 & 36.26 \\\\\n",
    "NGC 1365 & 60002046003 & 56134.7 & 2012-7-26 & 40.59 \\\\\n",
    "NGC 1365 & 60002046005 & 56285.6 & 2012-12-24 & 66.29 \\\\\n",
    "NGC 1365 & 60002046007 & 56315.4 & 2013-1-23 & 73.65 \\\\\n",
    "NGC 1365 & 60002046009 & 56335.5 & 2013-2-12 & 69.87 \\\\\n",
    "NGC 1365 & 60702058002 & 59320.9 & 2021-4-16 & 56.30 \\\\\n",
    "NGC 1365 & 60702058004 & 59326.8 & 2021-4-22 & 38.05 \\\\\n",
    "NGC 1365 & 60702058006 & 59333.3 & 2021-4-29 & 11.85 \\\\\n",
    "NGC 1365 & 60702058008 & 59336.0 & 2021-5-2 & 44.66 \\\\\n",
    "NGC 1365 & 60702058010 & 59340.5 & 2021-5-6 & 41.48 \\\\\n",
    "NGC 1365 & 60702058012 & 59342.7 & 2021-5-8 & 50.70 \\\\"
   ]
  },
  {
   "cell_type": "code",
   "execution_count": null,
   "id": "1b3562b0",
   "metadata": {},
   "outputs": [],
   "source": []
  },
  {
   "cell_type": "code",
   "execution_count": 11,
   "id": "bc6984db",
   "metadata": {
    "ExecuteTime": {
     "end_time": "2023-08-07T06:35:58.774304Z",
     "start_time": "2023-08-07T06:35:58.761910Z"
    }
   },
   "outputs": [
    {
     "name": "stdout",
     "output_type": "stream",
     "text": [
      "'NGC 1365',\n"
     ]
    }
   ],
   "source": [
    "object_name='NGC 1365'\n",
    "print('\\'%s\\','%object_name )"
   ]
  },
  {
   "cell_type": "code",
   "execution_count": null,
   "id": "7acca959",
   "metadata": {},
   "outputs": [],
   "source": []
  },
  {
   "cell_type": "code",
   "execution_count": null,
   "id": "8d9afd84",
   "metadata": {},
   "outputs": [],
   "source": []
  },
  {
   "cell_type": "code",
   "execution_count": 24,
   "id": "375d32e0",
   "metadata": {
    "ExecuteTime": {
     "end_time": "2023-08-07T06:38:35.458034Z",
     "start_time": "2023-08-07T06:38:35.418328Z"
    }
   },
   "outputs": [
    {
     "name": "stdout",
     "output_type": "stream",
     "text": [
      "'60002046002',\n",
      "'60002046003',\n",
      "'60002046005',\n",
      "'60002046007',\n",
      "'60002046009',\n",
      "'60702058002',\n",
      "'60702058004',\n",
      "'60702058006',\n",
      "'60702058008',\n",
      "'60702058010',\n",
      "'60702058012',\n"
     ]
    },
    {
     "name": "stderr",
     "output_type": "stream",
     "text": [
      "WARNING: UnitsWarning: 'mjd' did not parse as fits unit: At col 0, Unit 'mjd' not supported by the FITS standard. Did you mean MJ or mJ? If this is meant to be a custom unit, define it with 'u.def_unit'. To have it recognized inside a file reader or other code, enable it with 'u.add_enabled_units'. For details, see https://docs.astropy.org/en/latest/units/combining_and_defining.html [astropy.units.core]\n"
     ]
    }
   ],
   "source": [
    "object_name='NGC 1365'\n",
    "table = heasarc.query_object(object_name, mission=mission,radius='10 arcmin')\n",
    "table = table.group_by('TIME')\n",
    "#table[:3].pprint()\n",
    "for index,name in enumerate(table['NAME']):    \n",
    "    if float(table['EXPOSURE_A'][index]/1000)>1:\n",
    "        mjd=float(table['TIME'][index])\n",
    "        year,month,day=convert_date_single(mjd).year,convert_date_single(mjd).month,convert_date_single(mjd).day\n",
    "        \n",
    "    \n",
    "        print('\\'%s\\','%table['OBSID'][index] )"
   ]
  },
  {
   "cell_type": "code",
   "execution_count": 27,
   "id": "cddfea6d",
   "metadata": {
    "ExecuteTime": {
     "end_time": "2023-08-07T06:41:09.061860Z",
     "start_time": "2023-08-07T06:41:09.015165Z"
    }
   },
   "outputs": [
    {
     "name": "stdout",
     "output_type": "stream",
     "text": [
      "'NGC1365',\n",
      "'NGC1365',\n",
      "'NGC1365',\n",
      "'NGC1365',\n",
      "'NGC1365',\n",
      "'NGC1365',\n",
      "'NGC1365',\n",
      "'NGC1365',\n",
      "'NGC1365',\n",
      "'NGC1365',\n",
      "'NGC1365',\n"
     ]
    },
    {
     "name": "stderr",
     "output_type": "stream",
     "text": [
      "WARNING: UnitsWarning: 'mjd' did not parse as fits unit: At col 0, Unit 'mjd' not supported by the FITS standard. Did you mean MJ or mJ? If this is meant to be a custom unit, define it with 'u.def_unit'. To have it recognized inside a file reader or other code, enable it with 'u.add_enabled_units'. For details, see https://docs.astropy.org/en/latest/units/combining_and_defining.html [astropy.units.core]\n"
     ]
    }
   ],
   "source": [
    "object_name='NGC 1365'\n",
    "table = heasarc.query_object(object_name, mission=mission,radius='10 arcmin')\n",
    "table = table.group_by('TIME')\n",
    "#table[:3].pprint()\n",
    "for index,name in enumerate(table['NAME']):    \n",
    "    if float(table['EXPOSURE_A'][index]/1000)>1:\n",
    "        mjd=float(table['TIME'][index])\n",
    "        year,month,day=convert_date_single(mjd).year,convert_date_single(mjd).month,convert_date_single(mjd).day\n",
    "        #print('%.1f,'%mjd )\n",
    "        print('\\'NGC1365\\',' )\n",
    "        #print('\\'%s\\','%table['OBSID'][index] )"
   ]
  },
  {
   "cell_type": "code",
   "execution_count": null,
   "id": "9864ce60",
   "metadata": {},
   "outputs": [],
   "source": [
    "'56133.9',\n",
    "'56134.7',\n",
    "'56285.6',\n",
    "'56315.4',\n",
    "'56335.5',\n",
    "'59320.9',\n",
    "'59326.8',\n",
    "'59333.3',\n",
    "'59336.0',\n",
    "'59340.5',\n",
    "'59342.7',"
   ]
  }
 ],
 "metadata": {
  "kernelspec": {
   "display_name": "Python 3 (ipykernel)",
   "language": "python",
   "name": "python3"
  },
  "language_info": {
   "codemirror_mode": {
    "name": "ipython",
    "version": 3
   },
   "file_extension": ".py",
   "mimetype": "text/x-python",
   "name": "python",
   "nbconvert_exporter": "python",
   "pygments_lexer": "ipython3",
   "version": "3.9.12"
  },
  "latex_envs": {
   "LaTeX_envs_menu_present": true,
   "autoclose": false,
   "autocomplete": true,
   "bibliofile": "biblio.bib",
   "cite_by": "apalike",
   "current_citInitial": 1,
   "eqLabelWithNumbers": true,
   "eqNumInitial": 1,
   "hotkeys": {
    "equation": "Ctrl-E",
    "itemize": "Ctrl-I"
   },
   "labels_anchors": false,
   "latex_user_defs": false,
   "report_style_numbering": false,
   "user_envs_cfg": false
  },
  "toc": {
   "base_numbering": 1,
   "nav_menu": {},
   "number_sections": true,
   "sideBar": true,
   "skip_h1_title": false,
   "title_cell": "Table of Contents",
   "title_sidebar": "Contents",
   "toc_cell": false,
   "toc_position": {},
   "toc_section_display": true,
   "toc_window_display": true
  }
 },
 "nbformat": 4,
 "nbformat_minor": 5
}
