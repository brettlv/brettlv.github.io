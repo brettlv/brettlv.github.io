{
 "cells": [
  {
   "cell_type": "markdown",
   "metadata": {},
   "source": [
    "# ads"
   ]
  },
  {
   "cell_type": "code",
   "execution_count": 2,
   "metadata": {
    "ExecuteTime": {
     "end_time": "2021-09-26T01:13:15.928184Z",
     "start_time": "2021-09-26T01:13:15.695943Z"
    }
   },
   "outputs": [],
   "source": [
    "import ads"
   ]
  },
  {
   "cell_type": "markdown",
   "metadata": {},
   "source": [
    "https://ads.readthedocs.io/"
   ]
  },
  {
   "cell_type": "markdown",
   "metadata": {},
   "source": [
    "Note: some fields, such as body, can be searched but not returned via fl or sorted on. Also, multivalued fields, such as author, cannot be used for sorting.\n",
    "\n",
    "abstract - the abstract of the record\n",
    "ack - the acknowledgements section of an article\n",
    "aff - an array of the authors' affiliations\n",
    "alternate_bibcode - list of alternate bibcodes for a single record; if a published record also has an arXiv version, the bibcode associated with the arXiv version is here\n",
    "alternate_title - list of alternate titles for a single record (usually if they are in multiple languages)\n",
    "arxiv_class - the arXiv class the pre-print was submitted to\n",
    "author - an array of the author names associated with the record\n",
    "bibcode - the canonical ADS bibcode identifier for this record\n",
    "bibgroup - the bibliographic groups that the bibcode has been associated with\n",
    "bibstem - the abbreviated name of the journal or publication, e.g., ApJ.\n",
    "body* - the full text content of the article\n",
    "citation_count - number of citations the item has received\n",
    "copyright - the copyright applied to the article\n",
    "data - the list of sources that have data related to this bibcode\n",
    "date - the machine-readable version of pubdate, useful for sorting\n",
    "database - database the record is associated with (astronomy, physics, or general). By default, all three databases are searched; to limit to astronomy articles, add fq=database:astronomy to the URL\n",
    "doi- the digital object identifier of the article\n",
    "doctype - the type of document it is (see here for a list of doctypes)\n",
    "first_author - the first author of the article\n",
    "grant - the list of grant IDs and agencies noted within an article\n",
    "id - a non-persistent unique integer for this record, used for fast look-up of a document\n",
    "identifier - an array of alternative identifiers for the record. May contain alternate bibcodes, DOIs and/or arxiv ids.\n",
    "indexstamp - time at which the document was (last) indexed\n",
    "issue - issue the record appeared in\n",
    "keyword - an array of normalized and un-normalized keyword values associated with the record\n",
    "lang* - the language of the article's title\n",
    "orcid_pub - ORCiD iDs supplied by publishers\n",
    "orcid_user - ORCiD iDs supplied by knonwn users in the ADS\n",
    "orcid_other - ORCiD iDs supplied by anonymous users in the ADS\n",
    "page - starting page\n",
    "property - an array of miscellaneous flags associated with the record (see here for a list of properties\n",
    "pub - the canonical name of the publication the record appeared in\n",
    "pubdate - publication date in the form YYYY-MM-DD (DD value will always be \"00\"). This field is stored as a human-readable string, so is useful for being returned via fl, but not for sorting (see date)\n",
    "read_count - number of times the record has been viewed within in a 90-day windows (ads and arxiv)\n",
    "title - the title of the record\n",
    "vizier - the subject tags given to the article by VizieR\n",
    "volume - volume the record appeared in\n",
    "year - the year the article was published"
   ]
  },
  {
   "cell_type": "code",
   "execution_count": null,
   "metadata": {},
   "outputs": [],
   "source": []
  },
  {
   "cell_type": "code",
   "execution_count": 3,
   "metadata": {
    "ExecuteTime": {
     "end_time": "2021-09-26T01:13:18.804173Z",
     "start_time": "2021-09-26T01:13:18.801391Z"
    }
   },
   "outputs": [],
   "source": [
    "ads.config.token='bX9G1oehABACYywsa6qKCu9bNb1E9FycyJfqMAou'\n",
    "ADS_API_TOKEN='bX9G1oehABACYywsa6qKCu9bNb1E9FycyJfqMAou'"
   ]
  },
  {
   "cell_type": "code",
   "execution_count": 4,
   "metadata": {
    "ExecuteTime": {
     "end_time": "2021-09-26T01:13:19.267139Z",
     "start_time": "2021-09-26T01:13:19.264393Z"
    }
   },
   "outputs": [],
   "source": [
    "#papers=ads.SearchQuery(q='Changing look AGN',sort='citation_count')"
   ]
  },
  {
   "cell_type": "code",
   "execution_count": 5,
   "metadata": {
    "ExecuteTime": {
     "end_time": "2021-09-26T01:16:03.781577Z",
     "start_time": "2021-09-26T01:13:26.001847Z"
    }
   },
   "outputs": [
    {
     "name": "stderr",
     "output_type": "stream",
     "text": [
      "/Users/brettlv/anaconda3/lib/python3.8/site-packages/ads/utils.py:26: UserWarning: You are lazy loading attributes via 'pubdate', and so are making multiple calls to the API. This will impact your overall rate limits.\n",
      "  warnings.warn(\n"
     ]
    },
    {
     "name": "stdout",
     "output_type": "stream",
     "text": [
      "['Jets from young stars'] 2021-12-00 2021NewAR..9301615R\n",
      "\n",
      "['Broad-band X-ray observations of the 2018 outburst of the changing-look active galactic nucleus NGC 1566'] 2021-10-00 2021MNRAS.507..687J\n",
      "\n",
      "['The Bluest Changing-Look QSO SDSS J224113-012108'] 2021-09-00 2021ApJ...919...13Z\n",
      "\n",
      "['Long-term and multiwavelength evolution of a changing-look AGN Mrk 1018'] 2021-09-00 2021MNRAS.506.4188L\n",
      "\n",
      "['A Magnetic Disk-outflow Model for Changing Look Active Galactic Nuclei'] 2021-08-00 2021ApJ...916...61F\n",
      "\n",
      "['Local Active Galactic Nuclei with Large Broad-Hα Variability Reside in Red Galaxies'] 2021-07-00 2021ApJ...915...63L\n",
      "\n"
     ]
    },
    {
     "ename": "KeyboardInterrupt",
     "evalue": "",
     "output_type": "error",
     "traceback": [
      "\u001b[0;31m---------------------------------------------------------------------------\u001b[0m",
      "\u001b[0;31mKeyboardInterrupt\u001b[0m                         Traceback (most recent call last)",
      "\u001b[0;32m<ipython-input-5-7dc9182a3cea>\u001b[0m in \u001b[0;36m<module>\u001b[0;34m\u001b[0m\n\u001b[1;32m      1\u001b[0m \u001b[0mpapers_1\u001b[0m\u001b[0;34m=\u001b[0m\u001b[0mads\u001b[0m\u001b[0;34m.\u001b[0m\u001b[0mSearchQuery\u001b[0m\u001b[0;34m(\u001b[0m\u001b[0mq\u001b[0m\u001b[0;34m=\u001b[0m\u001b[0;34m'Changing look active galatic nuclei'\u001b[0m\u001b[0;34m,\u001b[0m\u001b[0msort\u001b[0m\u001b[0;34m=\u001b[0m\u001b[0;34m'pubdate'\u001b[0m\u001b[0;34m)\u001b[0m\u001b[0;34m\u001b[0m\u001b[0;34m\u001b[0m\u001b[0m\n\u001b[1;32m      2\u001b[0m \u001b[0;32mfor\u001b[0m \u001b[0mpaper\u001b[0m \u001b[0;32min\u001b[0m \u001b[0mpapers_1\u001b[0m\u001b[0;34m:\u001b[0m\u001b[0;34m\u001b[0m\u001b[0;34m\u001b[0m\u001b[0m\n\u001b[0;32m----> 3\u001b[0;31m     \u001b[0mprint\u001b[0m\u001b[0;34m(\u001b[0m\u001b[0mpaper\u001b[0m\u001b[0;34m.\u001b[0m\u001b[0mtitle\u001b[0m\u001b[0;34m,\u001b[0m\u001b[0mpaper\u001b[0m\u001b[0;34m.\u001b[0m\u001b[0mpubdate\u001b[0m\u001b[0;34m,\u001b[0m\u001b[0mpaper\u001b[0m\u001b[0;34m.\u001b[0m\u001b[0mbibcode\u001b[0m\u001b[0;34m)\u001b[0m\u001b[0;34m\u001b[0m\u001b[0;34m\u001b[0m\u001b[0m\n\u001b[0m\u001b[1;32m      4\u001b[0m     \u001b[0;31m#print(paper.pubdate)\u001b[0m\u001b[0;34m\u001b[0m\u001b[0;34m\u001b[0m\u001b[0;34m\u001b[0m\u001b[0m\n\u001b[1;32m      5\u001b[0m     \u001b[0mprint\u001b[0m\u001b[0;34m(\u001b[0m\u001b[0;34m)\u001b[0m\u001b[0;34m\u001b[0m\u001b[0;34m\u001b[0m\u001b[0m\n",
      "\u001b[0;32m~/anaconda3/lib/python3.8/site-packages/ads/utils.py\u001b[0m in \u001b[0;36m__get__\u001b[0;34m(self, obj, type)\u001b[0m\n\u001b[1;32m     31\u001b[0m                 \u001b[0mUserWarning\u001b[0m\u001b[0;34m,\u001b[0m\u001b[0;34m\u001b[0m\u001b[0;34m\u001b[0m\u001b[0m\n\u001b[1;32m     32\u001b[0m             )\n\u001b[0;32m---> 33\u001b[0;31m             \u001b[0mvalue\u001b[0m \u001b[0;34m=\u001b[0m \u001b[0mself\u001b[0m\u001b[0;34m.\u001b[0m\u001b[0mfunc\u001b[0m\u001b[0;34m(\u001b[0m\u001b[0mobj\u001b[0m\u001b[0;34m)\u001b[0m\u001b[0;34m\u001b[0m\u001b[0;34m\u001b[0m\u001b[0m\n\u001b[0m\u001b[1;32m     34\u001b[0m             \u001b[0mobj\u001b[0m\u001b[0;34m.\u001b[0m\u001b[0m__dict__\u001b[0m\u001b[0;34m[\u001b[0m\u001b[0mself\u001b[0m\u001b[0;34m.\u001b[0m\u001b[0m__name__\u001b[0m\u001b[0;34m]\u001b[0m \u001b[0;34m=\u001b[0m \u001b[0mvalue\u001b[0m\u001b[0;34m\u001b[0m\u001b[0;34m\u001b[0m\u001b[0m\n\u001b[1;32m     35\u001b[0m         \u001b[0;32mreturn\u001b[0m \u001b[0mvalue\u001b[0m\u001b[0;34m\u001b[0m\u001b[0;34m\u001b[0m\u001b[0m\n",
      "\u001b[0;32m~/anaconda3/lib/python3.8/site-packages/ads/search.py\u001b[0m in \u001b[0;36mpubdate\u001b[0;34m(self)\u001b[0m\n\u001b[1;32m    230\u001b[0m     \u001b[0;34m@\u001b[0m\u001b[0mcached_property\u001b[0m\u001b[0;34m\u001b[0m\u001b[0;34m\u001b[0m\u001b[0m\n\u001b[1;32m    231\u001b[0m     \u001b[0;32mdef\u001b[0m \u001b[0mpubdate\u001b[0m\u001b[0;34m(\u001b[0m\u001b[0mself\u001b[0m\u001b[0;34m)\u001b[0m\u001b[0;34m:\u001b[0m\u001b[0;34m\u001b[0m\u001b[0;34m\u001b[0m\u001b[0m\n\u001b[0;32m--> 232\u001b[0;31m         \u001b[0;32mreturn\u001b[0m \u001b[0mself\u001b[0m\u001b[0;34m.\u001b[0m\u001b[0m_get_field\u001b[0m\u001b[0;34m(\u001b[0m\u001b[0;34m'pubdate'\u001b[0m\u001b[0;34m)\u001b[0m\u001b[0;34m\u001b[0m\u001b[0;34m\u001b[0m\u001b[0m\n\u001b[0m\u001b[1;32m    233\u001b[0m \u001b[0;34m\u001b[0m\u001b[0m\n\u001b[1;32m    234\u001b[0m     \u001b[0;34m@\u001b[0m\u001b[0mcached_property\u001b[0m\u001b[0;34m\u001b[0m\u001b[0;34m\u001b[0m\u001b[0m\n",
      "\u001b[0;32m~/anaconda3/lib/python3.8/site-packages/ads/search.py\u001b[0m in \u001b[0;36m_get_field\u001b[0;34m(self, field)\u001b[0m\n\u001b[1;32m    117\u001b[0m         \u001b[0;32mif\u001b[0m \u001b[0;32mnot\u001b[0m \u001b[0mhasattr\u001b[0m\u001b[0;34m(\u001b[0m\u001b[0mself\u001b[0m\u001b[0;34m,\u001b[0m \u001b[0;34m\"id\"\u001b[0m\u001b[0;34m)\u001b[0m \u001b[0;32mor\u001b[0m \u001b[0mself\u001b[0m\u001b[0;34m.\u001b[0m\u001b[0mid\u001b[0m \u001b[0;32mis\u001b[0m \u001b[0;32mNone\u001b[0m\u001b[0;34m:\u001b[0m\u001b[0;34m\u001b[0m\u001b[0;34m\u001b[0m\u001b[0m\n\u001b[1;32m    118\u001b[0m             \u001b[0;32mraise\u001b[0m \u001b[0mAPIResponseError\u001b[0m\u001b[0;34m(\u001b[0m\u001b[0;34m\"Cannot query an article without an id\"\u001b[0m\u001b[0;34m)\u001b[0m\u001b[0;34m\u001b[0m\u001b[0;34m\u001b[0m\u001b[0m\n\u001b[0;32m--> 119\u001b[0;31m         \u001b[0msq\u001b[0m \u001b[0;34m=\u001b[0m \u001b[0mnext\u001b[0m\u001b[0;34m(\u001b[0m\u001b[0mSearchQuery\u001b[0m\u001b[0;34m(\u001b[0m\u001b[0mq\u001b[0m\u001b[0;34m=\u001b[0m\u001b[0;34m\"id:{}\"\u001b[0m\u001b[0;34m.\u001b[0m\u001b[0mformat\u001b[0m\u001b[0;34m(\u001b[0m\u001b[0mself\u001b[0m\u001b[0;34m.\u001b[0m\u001b[0mid\u001b[0m\u001b[0;34m)\u001b[0m\u001b[0;34m,\u001b[0m \u001b[0mfl\u001b[0m\u001b[0;34m=\u001b[0m\u001b[0mfield\u001b[0m\u001b[0;34m)\u001b[0m\u001b[0;34m)\u001b[0m\u001b[0;34m\u001b[0m\u001b[0;34m\u001b[0m\u001b[0m\n\u001b[0m\u001b[1;32m    120\u001b[0m         \u001b[0;31m# If the requested field is not present in the returning Solr doc,\u001b[0m\u001b[0;34m\u001b[0m\u001b[0;34m\u001b[0m\u001b[0;34m\u001b[0m\u001b[0m\n\u001b[1;32m    121\u001b[0m         \u001b[0;31m# return None instead of hitting _get_field again.\u001b[0m\u001b[0;34m\u001b[0m\u001b[0;34m\u001b[0m\u001b[0;34m\u001b[0m\u001b[0m\n",
      "\u001b[0;32m~/anaconda3/lib/python3.8/site-packages/ads/search.py\u001b[0m in \u001b[0;36m__next__\u001b[0;34m(self)\u001b[0m\n\u001b[1;32m    499\u001b[0m         \u001b[0;31m# explicitly\u001b[0m\u001b[0;34m\u001b[0m\u001b[0;34m\u001b[0m\u001b[0;34m\u001b[0m\u001b[0m\n\u001b[1;32m    500\u001b[0m         \u001b[0;32mif\u001b[0m \u001b[0mself\u001b[0m\u001b[0;34m.\u001b[0m\u001b[0mresponse\u001b[0m \u001b[0;32mis\u001b[0m \u001b[0;32mNone\u001b[0m\u001b[0;34m:\u001b[0m\u001b[0;34m\u001b[0m\u001b[0;34m\u001b[0m\u001b[0m\n\u001b[0;32m--> 501\u001b[0;31m             \u001b[0mself\u001b[0m\u001b[0;34m.\u001b[0m\u001b[0mexecute\u001b[0m\u001b[0;34m(\u001b[0m\u001b[0;34m)\u001b[0m\u001b[0;34m\u001b[0m\u001b[0;34m\u001b[0m\u001b[0m\n\u001b[0m\u001b[1;32m    502\u001b[0m \u001b[0;34m\u001b[0m\u001b[0m\n\u001b[1;32m    503\u001b[0m         \u001b[0;32mtry\u001b[0m\u001b[0;34m:\u001b[0m\u001b[0;34m\u001b[0m\u001b[0;34m\u001b[0m\u001b[0m\n",
      "\u001b[0;32m~/anaconda3/lib/python3.8/site-packages/ads/search.py\u001b[0m in \u001b[0;36mexecute\u001b[0;34m(self)\u001b[0m\n\u001b[1;32m    531\u001b[0m         \"\"\"\n\u001b[1;32m    532\u001b[0m         self.response = SolrResponse.load_http_response(\n\u001b[0;32m--> 533\u001b[0;31m             \u001b[0mself\u001b[0m\u001b[0;34m.\u001b[0m\u001b[0msession\u001b[0m\u001b[0;34m.\u001b[0m\u001b[0mget\u001b[0m\u001b[0;34m(\u001b[0m\u001b[0mself\u001b[0m\u001b[0;34m.\u001b[0m\u001b[0mHTTP_ENDPOINT\u001b[0m\u001b[0;34m,\u001b[0m \u001b[0mparams\u001b[0m\u001b[0;34m=\u001b[0m\u001b[0mself\u001b[0m\u001b[0;34m.\u001b[0m\u001b[0mquery\u001b[0m\u001b[0;34m)\u001b[0m\u001b[0;34m\u001b[0m\u001b[0;34m\u001b[0m\u001b[0m\n\u001b[0m\u001b[1;32m    534\u001b[0m         )\n\u001b[1;32m    535\u001b[0m \u001b[0;34m\u001b[0m\u001b[0m\n",
      "\u001b[0;32m~/anaconda3/lib/python3.8/site-packages/requests/sessions.py\u001b[0m in \u001b[0;36mget\u001b[0;34m(self, url, **kwargs)\u001b[0m\n\u001b[1;32m    541\u001b[0m \u001b[0;34m\u001b[0m\u001b[0m\n\u001b[1;32m    542\u001b[0m         \u001b[0mkwargs\u001b[0m\u001b[0;34m.\u001b[0m\u001b[0msetdefault\u001b[0m\u001b[0;34m(\u001b[0m\u001b[0;34m'allow_redirects'\u001b[0m\u001b[0;34m,\u001b[0m \u001b[0;32mTrue\u001b[0m\u001b[0;34m)\u001b[0m\u001b[0;34m\u001b[0m\u001b[0;34m\u001b[0m\u001b[0m\n\u001b[0;32m--> 543\u001b[0;31m         \u001b[0;32mreturn\u001b[0m \u001b[0mself\u001b[0m\u001b[0;34m.\u001b[0m\u001b[0mrequest\u001b[0m\u001b[0;34m(\u001b[0m\u001b[0;34m'GET'\u001b[0m\u001b[0;34m,\u001b[0m \u001b[0murl\u001b[0m\u001b[0;34m,\u001b[0m \u001b[0;34m**\u001b[0m\u001b[0mkwargs\u001b[0m\u001b[0;34m)\u001b[0m\u001b[0;34m\u001b[0m\u001b[0;34m\u001b[0m\u001b[0m\n\u001b[0m\u001b[1;32m    544\u001b[0m \u001b[0;34m\u001b[0m\u001b[0m\n\u001b[1;32m    545\u001b[0m     \u001b[0;32mdef\u001b[0m \u001b[0moptions\u001b[0m\u001b[0;34m(\u001b[0m\u001b[0mself\u001b[0m\u001b[0;34m,\u001b[0m \u001b[0murl\u001b[0m\u001b[0;34m,\u001b[0m \u001b[0;34m**\u001b[0m\u001b[0mkwargs\u001b[0m\u001b[0;34m)\u001b[0m\u001b[0;34m:\u001b[0m\u001b[0;34m\u001b[0m\u001b[0;34m\u001b[0m\u001b[0m\n",
      "\u001b[0;32m~/anaconda3/lib/python3.8/site-packages/requests/sessions.py\u001b[0m in \u001b[0;36mrequest\u001b[0;34m(self, method, url, params, data, headers, cookies, files, auth, timeout, allow_redirects, proxies, hooks, stream, verify, cert, json)\u001b[0m\n\u001b[1;32m    528\u001b[0m         }\n\u001b[1;32m    529\u001b[0m         \u001b[0msend_kwargs\u001b[0m\u001b[0;34m.\u001b[0m\u001b[0mupdate\u001b[0m\u001b[0;34m(\u001b[0m\u001b[0msettings\u001b[0m\u001b[0;34m)\u001b[0m\u001b[0;34m\u001b[0m\u001b[0;34m\u001b[0m\u001b[0m\n\u001b[0;32m--> 530\u001b[0;31m         \u001b[0mresp\u001b[0m \u001b[0;34m=\u001b[0m \u001b[0mself\u001b[0m\u001b[0;34m.\u001b[0m\u001b[0msend\u001b[0m\u001b[0;34m(\u001b[0m\u001b[0mprep\u001b[0m\u001b[0;34m,\u001b[0m \u001b[0;34m**\u001b[0m\u001b[0msend_kwargs\u001b[0m\u001b[0;34m)\u001b[0m\u001b[0;34m\u001b[0m\u001b[0;34m\u001b[0m\u001b[0m\n\u001b[0m\u001b[1;32m    531\u001b[0m \u001b[0;34m\u001b[0m\u001b[0m\n\u001b[1;32m    532\u001b[0m         \u001b[0;32mreturn\u001b[0m \u001b[0mresp\u001b[0m\u001b[0;34m\u001b[0m\u001b[0;34m\u001b[0m\u001b[0m\n",
      "\u001b[0;32m~/anaconda3/lib/python3.8/site-packages/requests/sessions.py\u001b[0m in \u001b[0;36msend\u001b[0;34m(self, request, **kwargs)\u001b[0m\n\u001b[1;32m    641\u001b[0m \u001b[0;34m\u001b[0m\u001b[0m\n\u001b[1;32m    642\u001b[0m         \u001b[0;31m# Send the request\u001b[0m\u001b[0;34m\u001b[0m\u001b[0;34m\u001b[0m\u001b[0;34m\u001b[0m\u001b[0m\n\u001b[0;32m--> 643\u001b[0;31m         \u001b[0mr\u001b[0m \u001b[0;34m=\u001b[0m \u001b[0madapter\u001b[0m\u001b[0;34m.\u001b[0m\u001b[0msend\u001b[0m\u001b[0;34m(\u001b[0m\u001b[0mrequest\u001b[0m\u001b[0;34m,\u001b[0m \u001b[0;34m**\u001b[0m\u001b[0mkwargs\u001b[0m\u001b[0;34m)\u001b[0m\u001b[0;34m\u001b[0m\u001b[0;34m\u001b[0m\u001b[0m\n\u001b[0m\u001b[1;32m    644\u001b[0m \u001b[0;34m\u001b[0m\u001b[0m\n\u001b[1;32m    645\u001b[0m         \u001b[0;31m# Total elapsed time of the request (approximately)\u001b[0m\u001b[0;34m\u001b[0m\u001b[0;34m\u001b[0m\u001b[0;34m\u001b[0m\u001b[0m\n",
      "\u001b[0;32m~/anaconda3/lib/python3.8/site-packages/requests/adapters.py\u001b[0m in \u001b[0;36msend\u001b[0;34m(self, request, stream, timeout, verify, cert, proxies)\u001b[0m\n\u001b[1;32m    437\u001b[0m         \u001b[0;32mtry\u001b[0m\u001b[0;34m:\u001b[0m\u001b[0;34m\u001b[0m\u001b[0;34m\u001b[0m\u001b[0m\n\u001b[1;32m    438\u001b[0m             \u001b[0;32mif\u001b[0m \u001b[0;32mnot\u001b[0m \u001b[0mchunked\u001b[0m\u001b[0;34m:\u001b[0m\u001b[0;34m\u001b[0m\u001b[0;34m\u001b[0m\u001b[0m\n\u001b[0;32m--> 439\u001b[0;31m                 resp = conn.urlopen(\n\u001b[0m\u001b[1;32m    440\u001b[0m                     \u001b[0mmethod\u001b[0m\u001b[0;34m=\u001b[0m\u001b[0mrequest\u001b[0m\u001b[0;34m.\u001b[0m\u001b[0mmethod\u001b[0m\u001b[0;34m,\u001b[0m\u001b[0;34m\u001b[0m\u001b[0;34m\u001b[0m\u001b[0m\n\u001b[1;32m    441\u001b[0m                     \u001b[0murl\u001b[0m\u001b[0;34m=\u001b[0m\u001b[0murl\u001b[0m\u001b[0;34m,\u001b[0m\u001b[0;34m\u001b[0m\u001b[0;34m\u001b[0m\u001b[0m\n",
      "\u001b[0;32m~/anaconda3/lib/python3.8/site-packages/urllib3/connectionpool.py\u001b[0m in \u001b[0;36murlopen\u001b[0;34m(self, method, url, body, headers, retries, redirect, assert_same_host, timeout, pool_timeout, release_conn, chunked, body_pos, **response_kw)\u001b[0m\n\u001b[1;32m    668\u001b[0m \u001b[0;34m\u001b[0m\u001b[0m\n\u001b[1;32m    669\u001b[0m             \u001b[0;31m# Make the request on the httplib connection object.\u001b[0m\u001b[0;34m\u001b[0m\u001b[0;34m\u001b[0m\u001b[0;34m\u001b[0m\u001b[0m\n\u001b[0;32m--> 670\u001b[0;31m             httplib_response = self._make_request(\n\u001b[0m\u001b[1;32m    671\u001b[0m                 \u001b[0mconn\u001b[0m\u001b[0;34m,\u001b[0m\u001b[0;34m\u001b[0m\u001b[0;34m\u001b[0m\u001b[0m\n\u001b[1;32m    672\u001b[0m                 \u001b[0mmethod\u001b[0m\u001b[0;34m,\u001b[0m\u001b[0;34m\u001b[0m\u001b[0;34m\u001b[0m\u001b[0m\n",
      "\u001b[0;32m~/anaconda3/lib/python3.8/site-packages/urllib3/connectionpool.py\u001b[0m in \u001b[0;36m_make_request\u001b[0;34m(self, conn, method, url, timeout, chunked, **httplib_request_kw)\u001b[0m\n\u001b[1;32m    424\u001b[0m                     \u001b[0;31m# Python 3 (including for exceptions like SystemExit).\u001b[0m\u001b[0;34m\u001b[0m\u001b[0;34m\u001b[0m\u001b[0;34m\u001b[0m\u001b[0m\n\u001b[1;32m    425\u001b[0m                     \u001b[0;31m# Otherwise it looks like a bug in the code.\u001b[0m\u001b[0;34m\u001b[0m\u001b[0;34m\u001b[0m\u001b[0;34m\u001b[0m\u001b[0m\n\u001b[0;32m--> 426\u001b[0;31m                     \u001b[0msix\u001b[0m\u001b[0;34m.\u001b[0m\u001b[0mraise_from\u001b[0m\u001b[0;34m(\u001b[0m\u001b[0me\u001b[0m\u001b[0;34m,\u001b[0m \u001b[0;32mNone\u001b[0m\u001b[0;34m)\u001b[0m\u001b[0;34m\u001b[0m\u001b[0;34m\u001b[0m\u001b[0m\n\u001b[0m\u001b[1;32m    427\u001b[0m         \u001b[0;32mexcept\u001b[0m \u001b[0;34m(\u001b[0m\u001b[0mSocketTimeout\u001b[0m\u001b[0;34m,\u001b[0m \u001b[0mBaseSSLError\u001b[0m\u001b[0;34m,\u001b[0m \u001b[0mSocketError\u001b[0m\u001b[0;34m)\u001b[0m \u001b[0;32mas\u001b[0m \u001b[0me\u001b[0m\u001b[0;34m:\u001b[0m\u001b[0;34m\u001b[0m\u001b[0;34m\u001b[0m\u001b[0m\n\u001b[1;32m    428\u001b[0m             \u001b[0mself\u001b[0m\u001b[0;34m.\u001b[0m\u001b[0m_raise_timeout\u001b[0m\u001b[0;34m(\u001b[0m\u001b[0merr\u001b[0m\u001b[0;34m=\u001b[0m\u001b[0me\u001b[0m\u001b[0;34m,\u001b[0m \u001b[0murl\u001b[0m\u001b[0;34m=\u001b[0m\u001b[0murl\u001b[0m\u001b[0;34m,\u001b[0m \u001b[0mtimeout_value\u001b[0m\u001b[0;34m=\u001b[0m\u001b[0mread_timeout\u001b[0m\u001b[0;34m)\u001b[0m\u001b[0;34m\u001b[0m\u001b[0;34m\u001b[0m\u001b[0m\n",
      "\u001b[0;32m~/anaconda3/lib/python3.8/site-packages/urllib3/packages/six.py\u001b[0m in \u001b[0;36mraise_from\u001b[0;34m(value, from_value)\u001b[0m\n",
      "\u001b[0;32m~/anaconda3/lib/python3.8/site-packages/urllib3/connectionpool.py\u001b[0m in \u001b[0;36m_make_request\u001b[0;34m(self, conn, method, url, timeout, chunked, **httplib_request_kw)\u001b[0m\n\u001b[1;32m    419\u001b[0m                 \u001b[0;31m# Python 3\u001b[0m\u001b[0;34m\u001b[0m\u001b[0;34m\u001b[0m\u001b[0;34m\u001b[0m\u001b[0m\n\u001b[1;32m    420\u001b[0m                 \u001b[0;32mtry\u001b[0m\u001b[0;34m:\u001b[0m\u001b[0;34m\u001b[0m\u001b[0;34m\u001b[0m\u001b[0m\n\u001b[0;32m--> 421\u001b[0;31m                     \u001b[0mhttplib_response\u001b[0m \u001b[0;34m=\u001b[0m \u001b[0mconn\u001b[0m\u001b[0;34m.\u001b[0m\u001b[0mgetresponse\u001b[0m\u001b[0;34m(\u001b[0m\u001b[0;34m)\u001b[0m\u001b[0;34m\u001b[0m\u001b[0;34m\u001b[0m\u001b[0m\n\u001b[0m\u001b[1;32m    422\u001b[0m                 \u001b[0;32mexcept\u001b[0m \u001b[0mBaseException\u001b[0m \u001b[0;32mas\u001b[0m \u001b[0me\u001b[0m\u001b[0;34m:\u001b[0m\u001b[0;34m\u001b[0m\u001b[0;34m\u001b[0m\u001b[0m\n\u001b[1;32m    423\u001b[0m                     \u001b[0;31m# Remove the TypeError from the exception chain in\u001b[0m\u001b[0;34m\u001b[0m\u001b[0;34m\u001b[0m\u001b[0;34m\u001b[0m\u001b[0m\n",
      "\u001b[0;32m~/anaconda3/lib/python3.8/http/client.py\u001b[0m in \u001b[0;36mgetresponse\u001b[0;34m(self)\u001b[0m\n\u001b[1;32m   1345\u001b[0m         \u001b[0;32mtry\u001b[0m\u001b[0;34m:\u001b[0m\u001b[0;34m\u001b[0m\u001b[0;34m\u001b[0m\u001b[0m\n\u001b[1;32m   1346\u001b[0m             \u001b[0;32mtry\u001b[0m\u001b[0;34m:\u001b[0m\u001b[0;34m\u001b[0m\u001b[0;34m\u001b[0m\u001b[0m\n\u001b[0;32m-> 1347\u001b[0;31m                 \u001b[0mresponse\u001b[0m\u001b[0;34m.\u001b[0m\u001b[0mbegin\u001b[0m\u001b[0;34m(\u001b[0m\u001b[0;34m)\u001b[0m\u001b[0;34m\u001b[0m\u001b[0;34m\u001b[0m\u001b[0m\n\u001b[0m\u001b[1;32m   1348\u001b[0m             \u001b[0;32mexcept\u001b[0m \u001b[0mConnectionError\u001b[0m\u001b[0;34m:\u001b[0m\u001b[0;34m\u001b[0m\u001b[0;34m\u001b[0m\u001b[0m\n\u001b[1;32m   1349\u001b[0m                 \u001b[0mself\u001b[0m\u001b[0;34m.\u001b[0m\u001b[0mclose\u001b[0m\u001b[0;34m(\u001b[0m\u001b[0;34m)\u001b[0m\u001b[0;34m\u001b[0m\u001b[0;34m\u001b[0m\u001b[0m\n",
      "\u001b[0;32m~/anaconda3/lib/python3.8/http/client.py\u001b[0m in \u001b[0;36mbegin\u001b[0;34m(self)\u001b[0m\n\u001b[1;32m    305\u001b[0m         \u001b[0;31m# read until we get a non-100 response\u001b[0m\u001b[0;34m\u001b[0m\u001b[0;34m\u001b[0m\u001b[0;34m\u001b[0m\u001b[0m\n\u001b[1;32m    306\u001b[0m         \u001b[0;32mwhile\u001b[0m \u001b[0;32mTrue\u001b[0m\u001b[0;34m:\u001b[0m\u001b[0;34m\u001b[0m\u001b[0;34m\u001b[0m\u001b[0m\n\u001b[0;32m--> 307\u001b[0;31m             \u001b[0mversion\u001b[0m\u001b[0;34m,\u001b[0m \u001b[0mstatus\u001b[0m\u001b[0;34m,\u001b[0m \u001b[0mreason\u001b[0m \u001b[0;34m=\u001b[0m \u001b[0mself\u001b[0m\u001b[0;34m.\u001b[0m\u001b[0m_read_status\u001b[0m\u001b[0;34m(\u001b[0m\u001b[0;34m)\u001b[0m\u001b[0;34m\u001b[0m\u001b[0;34m\u001b[0m\u001b[0m\n\u001b[0m\u001b[1;32m    308\u001b[0m             \u001b[0;32mif\u001b[0m \u001b[0mstatus\u001b[0m \u001b[0;34m!=\u001b[0m \u001b[0mCONTINUE\u001b[0m\u001b[0;34m:\u001b[0m\u001b[0;34m\u001b[0m\u001b[0;34m\u001b[0m\u001b[0m\n\u001b[1;32m    309\u001b[0m                 \u001b[0;32mbreak\u001b[0m\u001b[0;34m\u001b[0m\u001b[0;34m\u001b[0m\u001b[0m\n",
      "\u001b[0;32m~/anaconda3/lib/python3.8/http/client.py\u001b[0m in \u001b[0;36m_read_status\u001b[0;34m(self)\u001b[0m\n\u001b[1;32m    266\u001b[0m \u001b[0;34m\u001b[0m\u001b[0m\n\u001b[1;32m    267\u001b[0m     \u001b[0;32mdef\u001b[0m \u001b[0m_read_status\u001b[0m\u001b[0;34m(\u001b[0m\u001b[0mself\u001b[0m\u001b[0;34m)\u001b[0m\u001b[0;34m:\u001b[0m\u001b[0;34m\u001b[0m\u001b[0;34m\u001b[0m\u001b[0m\n\u001b[0;32m--> 268\u001b[0;31m         \u001b[0mline\u001b[0m \u001b[0;34m=\u001b[0m \u001b[0mstr\u001b[0m\u001b[0;34m(\u001b[0m\u001b[0mself\u001b[0m\u001b[0;34m.\u001b[0m\u001b[0mfp\u001b[0m\u001b[0;34m.\u001b[0m\u001b[0mreadline\u001b[0m\u001b[0;34m(\u001b[0m\u001b[0m_MAXLINE\u001b[0m \u001b[0;34m+\u001b[0m \u001b[0;36m1\u001b[0m\u001b[0;34m)\u001b[0m\u001b[0;34m,\u001b[0m \u001b[0;34m\"iso-8859-1\"\u001b[0m\u001b[0;34m)\u001b[0m\u001b[0;34m\u001b[0m\u001b[0;34m\u001b[0m\u001b[0m\n\u001b[0m\u001b[1;32m    269\u001b[0m         \u001b[0;32mif\u001b[0m \u001b[0mlen\u001b[0m\u001b[0;34m(\u001b[0m\u001b[0mline\u001b[0m\u001b[0;34m)\u001b[0m \u001b[0;34m>\u001b[0m \u001b[0m_MAXLINE\u001b[0m\u001b[0;34m:\u001b[0m\u001b[0;34m\u001b[0m\u001b[0;34m\u001b[0m\u001b[0m\n\u001b[1;32m    270\u001b[0m             \u001b[0;32mraise\u001b[0m \u001b[0mLineTooLong\u001b[0m\u001b[0;34m(\u001b[0m\u001b[0;34m\"status line\"\u001b[0m\u001b[0;34m)\u001b[0m\u001b[0;34m\u001b[0m\u001b[0;34m\u001b[0m\u001b[0m\n",
      "\u001b[0;32m~/anaconda3/lib/python3.8/socket.py\u001b[0m in \u001b[0;36mreadinto\u001b[0;34m(self, b)\u001b[0m\n\u001b[1;32m    667\u001b[0m         \u001b[0;32mwhile\u001b[0m \u001b[0;32mTrue\u001b[0m\u001b[0;34m:\u001b[0m\u001b[0;34m\u001b[0m\u001b[0;34m\u001b[0m\u001b[0m\n\u001b[1;32m    668\u001b[0m             \u001b[0;32mtry\u001b[0m\u001b[0;34m:\u001b[0m\u001b[0;34m\u001b[0m\u001b[0;34m\u001b[0m\u001b[0m\n\u001b[0;32m--> 669\u001b[0;31m                 \u001b[0;32mreturn\u001b[0m \u001b[0mself\u001b[0m\u001b[0;34m.\u001b[0m\u001b[0m_sock\u001b[0m\u001b[0;34m.\u001b[0m\u001b[0mrecv_into\u001b[0m\u001b[0;34m(\u001b[0m\u001b[0mb\u001b[0m\u001b[0;34m)\u001b[0m\u001b[0;34m\u001b[0m\u001b[0;34m\u001b[0m\u001b[0m\n\u001b[0m\u001b[1;32m    670\u001b[0m             \u001b[0;32mexcept\u001b[0m \u001b[0mtimeout\u001b[0m\u001b[0;34m:\u001b[0m\u001b[0;34m\u001b[0m\u001b[0;34m\u001b[0m\u001b[0m\n\u001b[1;32m    671\u001b[0m                 \u001b[0mself\u001b[0m\u001b[0;34m.\u001b[0m\u001b[0m_timeout_occurred\u001b[0m \u001b[0;34m=\u001b[0m \u001b[0;32mTrue\u001b[0m\u001b[0;34m\u001b[0m\u001b[0;34m\u001b[0m\u001b[0m\n",
      "\u001b[0;32m~/anaconda3/lib/python3.8/ssl.py\u001b[0m in \u001b[0;36mrecv_into\u001b[0;34m(self, buffer, nbytes, flags)\u001b[0m\n\u001b[1;32m   1239\u001b[0m                   \u001b[0;34m\"non-zero flags not allowed in calls to recv_into() on %s\"\u001b[0m \u001b[0;34m%\u001b[0m\u001b[0;34m\u001b[0m\u001b[0;34m\u001b[0m\u001b[0m\n\u001b[1;32m   1240\u001b[0m                   self.__class__)\n\u001b[0;32m-> 1241\u001b[0;31m             \u001b[0;32mreturn\u001b[0m \u001b[0mself\u001b[0m\u001b[0;34m.\u001b[0m\u001b[0mread\u001b[0m\u001b[0;34m(\u001b[0m\u001b[0mnbytes\u001b[0m\u001b[0;34m,\u001b[0m \u001b[0mbuffer\u001b[0m\u001b[0;34m)\u001b[0m\u001b[0;34m\u001b[0m\u001b[0;34m\u001b[0m\u001b[0m\n\u001b[0m\u001b[1;32m   1242\u001b[0m         \u001b[0;32melse\u001b[0m\u001b[0;34m:\u001b[0m\u001b[0;34m\u001b[0m\u001b[0;34m\u001b[0m\u001b[0m\n\u001b[1;32m   1243\u001b[0m             \u001b[0;32mreturn\u001b[0m \u001b[0msuper\u001b[0m\u001b[0;34m(\u001b[0m\u001b[0;34m)\u001b[0m\u001b[0;34m.\u001b[0m\u001b[0mrecv_into\u001b[0m\u001b[0;34m(\u001b[0m\u001b[0mbuffer\u001b[0m\u001b[0;34m,\u001b[0m \u001b[0mnbytes\u001b[0m\u001b[0;34m,\u001b[0m \u001b[0mflags\u001b[0m\u001b[0;34m)\u001b[0m\u001b[0;34m\u001b[0m\u001b[0;34m\u001b[0m\u001b[0m\n",
      "\u001b[0;32m~/anaconda3/lib/python3.8/ssl.py\u001b[0m in \u001b[0;36mread\u001b[0;34m(self, len, buffer)\u001b[0m\n\u001b[1;32m   1097\u001b[0m         \u001b[0;32mtry\u001b[0m\u001b[0;34m:\u001b[0m\u001b[0;34m\u001b[0m\u001b[0;34m\u001b[0m\u001b[0m\n\u001b[1;32m   1098\u001b[0m             \u001b[0;32mif\u001b[0m \u001b[0mbuffer\u001b[0m \u001b[0;32mis\u001b[0m \u001b[0;32mnot\u001b[0m \u001b[0;32mNone\u001b[0m\u001b[0;34m:\u001b[0m\u001b[0;34m\u001b[0m\u001b[0;34m\u001b[0m\u001b[0m\n\u001b[0;32m-> 1099\u001b[0;31m                 \u001b[0;32mreturn\u001b[0m \u001b[0mself\u001b[0m\u001b[0;34m.\u001b[0m\u001b[0m_sslobj\u001b[0m\u001b[0;34m.\u001b[0m\u001b[0mread\u001b[0m\u001b[0;34m(\u001b[0m\u001b[0mlen\u001b[0m\u001b[0;34m,\u001b[0m \u001b[0mbuffer\u001b[0m\u001b[0;34m)\u001b[0m\u001b[0;34m\u001b[0m\u001b[0;34m\u001b[0m\u001b[0m\n\u001b[0m\u001b[1;32m   1100\u001b[0m             \u001b[0;32melse\u001b[0m\u001b[0;34m:\u001b[0m\u001b[0;34m\u001b[0m\u001b[0;34m\u001b[0m\u001b[0m\n\u001b[1;32m   1101\u001b[0m                 \u001b[0;32mreturn\u001b[0m \u001b[0mself\u001b[0m\u001b[0;34m.\u001b[0m\u001b[0m_sslobj\u001b[0m\u001b[0;34m.\u001b[0m\u001b[0mread\u001b[0m\u001b[0;34m(\u001b[0m\u001b[0mlen\u001b[0m\u001b[0;34m)\u001b[0m\u001b[0;34m\u001b[0m\u001b[0;34m\u001b[0m\u001b[0m\n",
      "\u001b[0;31mKeyboardInterrupt\u001b[0m: "
     ]
    }
   ],
   "source": [
    "papers_1=ads.SearchQuery(q='Changing look active galatic nuclei',sort='pubdate')\n",
    "for paper in papers_1:\n",
    "    print(paper.title,paper.pubdate,paper.bibcode)\n",
    "    #print(paper.pubdate)\n",
    "    print()"
   ]
  },
  {
   "cell_type": "markdown",
   "metadata": {},
   "source": [
    "# adstex"
   ]
  },
  {
   "cell_type": "code",
   "execution_count": 1,
   "metadata": {
    "ExecuteTime": {
     "end_time": "2019-08-20T16:47:02.118745Z",
     "start_time": "2019-08-20T16:47:00.998276Z"
    },
    "collapsed": true
   },
   "outputs": [],
   "source": [
    "import adstex"
   ]
  },
  {
   "cell_type": "code",
   "execution_count": 2,
   "metadata": {
    "ExecuteTime": {
     "end_time": "2019-08-20T16:47:03.401750Z",
     "start_time": "2019-08-20T16:47:03.396938Z"
    }
   },
   "outputs": [],
   "source": [
    "?adstex"
   ]
  },
  {
   "cell_type": "code",
   "execution_count": null,
   "metadata": {
    "collapsed": true
   },
   "outputs": [],
   "source": []
  },
  {
   "cell_type": "code",
   "execution_count": null,
   "metadata": {
    "collapsed": true
   },
   "outputs": [],
   "source": []
  },
  {
   "cell_type": "markdown",
   "metadata": {},
   "source": [
    "https://pypi.org/project/arxiv/"
   ]
  },
  {
   "cell_type": "markdown",
   "metadata": {
    "collapsed": true
   },
   "source": [
    "https://pypi.org/project/arxiv-checker/"
   ]
  },
  {
   "cell_type": "markdown",
   "metadata": {},
   "source": [
    "# arxiv"
   ]
  },
  {
   "cell_type": "code",
   "execution_count": 6,
   "metadata": {
    "ExecuteTime": {
     "end_time": "2021-09-26T01:16:11.210258Z",
     "start_time": "2021-09-26T01:16:11.200020Z"
    }
   },
   "outputs": [
    {
     "ename": "ModuleNotFoundError",
     "evalue": "No module named 'arxivchecker'",
     "output_type": "error",
     "traceback": [
      "\u001b[0;31m---------------------------------------------------------------------------\u001b[0m",
      "\u001b[0;31mModuleNotFoundError\u001b[0m                       Traceback (most recent call last)",
      "\u001b[0;32m<ipython-input-6-5854ee438c27>\u001b[0m in \u001b[0;36m<module>\u001b[0;34m\u001b[0m\n\u001b[0;32m----> 1\u001b[0;31m \u001b[0;32mimport\u001b[0m \u001b[0marxivchecker\u001b[0m \u001b[0;31m#new daily\u001b[0m\u001b[0;34m\u001b[0m\u001b[0;34m\u001b[0m\u001b[0m\n\u001b[0m\u001b[1;32m      2\u001b[0m \u001b[0mpaperstoday\u001b[0m \u001b[0;34m=\u001b[0m \u001b[0marxivchecker\u001b[0m\u001b[0;34m.\u001b[0m\u001b[0mcheck_keywords\u001b[0m\u001b[0;34m(\u001b[0m\u001b[0;34m'astro-ph'\u001b[0m\u001b[0;34m,\u001b[0m\u001b[0;34m'Changing look AGN'\u001b[0m\u001b[0;34m)\u001b[0m\u001b[0;34m\u001b[0m\u001b[0;34m\u001b[0m\u001b[0m\n",
      "\u001b[0;31mModuleNotFoundError\u001b[0m: No module named 'arxivchecker'"
     ]
    }
   ],
   "source": [
    "import arxivchecker #new daily\n",
    "paperstoday = arxivchecker.check_keywords('astro-ph','Changing look AGN')"
   ]
  },
  {
   "cell_type": "code",
   "execution_count": 30,
   "metadata": {
    "ExecuteTime": {
     "end_time": "2020-10-12T22:43:09.718403Z",
     "start_time": "2020-10-12T22:43:05.355876Z"
    }
   },
   "outputs": [
    {
     "name": "stdout",
     "output_type": "stream",
     "text": [
      "\tChecking http://arxiv.org/list/astro-ph/new\n",
      "No results.\n"
     ]
    }
   ],
   "source": [
    "paperstoday = arxivchecker.check_keywords('astro-ph','Changing look')\n",
    "paperstoday "
   ]
  },
  {
   "cell_type": "code",
   "execution_count": 26,
   "metadata": {
    "ExecuteTime": {
     "end_time": "2020-10-12T22:41:46.909537Z",
     "start_time": "2020-10-12T22:41:46.902812Z"
    }
   },
   "outputs": [],
   "source": [
    "arxiv?"
   ]
  },
  {
   "cell_type": "code",
   "execution_count": 8,
   "metadata": {
    "ExecuteTime": {
     "end_time": "2021-09-26T01:17:02.308196Z",
     "start_time": "2021-09-26T01:17:02.305084Z"
    }
   },
   "outputs": [],
   "source": [
    "import arxiv#query num \n",
    "papers_arxiv=arxiv.Search(query=\"Changing look\",max_results=100,sort_by=\"pubdate\",sort_order=\"descending\",)"
   ]
  },
  {
   "cell_type": "code",
   "execution_count": 11,
   "metadata": {
    "ExecuteTime": {
     "end_time": "2021-09-26T01:17:43.774769Z",
     "start_time": "2021-09-26T01:17:43.761072Z"
    }
   },
   "outputs": [
    {
     "data": {
      "text/plain": [
       "arxiv.Search(query='Changing look', id_list=[], max_results=100, sort_by='pubdate', sort_order='descending')"
      ]
     },
     "execution_count": 11,
     "metadata": {},
     "output_type": "execute_result"
    }
   ],
   "source": [
    "papers_arxiv"
   ]
  },
  {
   "cell_type": "code",
   "execution_count": 9,
   "metadata": {
    "ExecuteTime": {
     "end_time": "2021-09-26T01:17:07.220304Z",
     "start_time": "2021-09-26T01:17:07.206521Z"
    }
   },
   "outputs": [
    {
     "ename": "TypeError",
     "evalue": "'Search' object is not iterable",
     "output_type": "error",
     "traceback": [
      "\u001b[0;31m---------------------------------------------------------------------------\u001b[0m",
      "\u001b[0;31mTypeError\u001b[0m                                 Traceback (most recent call last)",
      "\u001b[0;32m<ipython-input-9-2a2238a74d10>\u001b[0m in \u001b[0;36m<module>\u001b[0;34m\u001b[0m\n\u001b[1;32m      1\u001b[0m \u001b[0;32mimport\u001b[0m \u001b[0mdatetime\u001b[0m\u001b[0;34m\u001b[0m\u001b[0;34m\u001b[0m\u001b[0m\n\u001b[0;32m----> 2\u001b[0;31m \u001b[0;32mfor\u001b[0m \u001b[0mi\u001b[0m \u001b[0;32min\u001b[0m \u001b[0mpapers_arxiv\u001b[0m\u001b[0;34m:\u001b[0m\u001b[0;34m\u001b[0m\u001b[0;34m\u001b[0m\u001b[0m\n\u001b[0m\u001b[1;32m      3\u001b[0m     \u001b[0;32mif\u001b[0m \u001b[0mdatetime\u001b[0m\u001b[0;34m.\u001b[0m\u001b[0mdatetime\u001b[0m\u001b[0;34m.\u001b[0m\u001b[0mstrptime\u001b[0m\u001b[0;34m(\u001b[0m\u001b[0mi\u001b[0m\u001b[0;34m[\u001b[0m\u001b[0;34m'published'\u001b[0m\u001b[0;34m]\u001b[0m\u001b[0;34m,\u001b[0m \u001b[0;34m\"%Y-%m-%dT%H:%M:%SZ\"\u001b[0m\u001b[0;34m)\u001b[0m\u001b[0;34m.\u001b[0m\u001b[0myear\u001b[0m\u001b[0;34m>\u001b[0m\u001b[0;36m2019\u001b[0m\u001b[0;34m:\u001b[0m\u001b[0;34m\u001b[0m\u001b[0;34m\u001b[0m\u001b[0m\n\u001b[1;32m      4\u001b[0m         \u001b[0;32mif\u001b[0m \u001b[0;34m(\u001b[0m\u001b[0mi\u001b[0m\u001b[0;34m[\u001b[0m\u001b[0;34m'title'\u001b[0m\u001b[0;34m]\u001b[0m\u001b[0;34m.\u001b[0m\u001b[0mfind\u001b[0m\u001b[0;34m(\u001b[0m\u001b[0;34m'changing'\u001b[0m\u001b[0;34m)\u001b[0m \u001b[0;34m+\u001b[0m \u001b[0mi\u001b[0m\u001b[0;34m[\u001b[0m\u001b[0;34m'title'\u001b[0m\u001b[0;34m]\u001b[0m\u001b[0;34m.\u001b[0m\u001b[0mfind\u001b[0m\u001b[0;34m(\u001b[0m\u001b[0;34m'Changing'\u001b[0m\u001b[0;34m)\u001b[0m\u001b[0;34m>\u001b[0m\u001b[0;34m-\u001b[0m\u001b[0;36m1\u001b[0m\u001b[0;34m)\u001b[0m\u001b[0;34m:\u001b[0m\u001b[0;34m\u001b[0m\u001b[0;34m\u001b[0m\u001b[0m\n\u001b[1;32m      5\u001b[0m             \u001b[0mprint\u001b[0m\u001b[0;34m(\u001b[0m\u001b[0mi\u001b[0m\u001b[0;34m[\u001b[0m\u001b[0;34m'title'\u001b[0m\u001b[0;34m]\u001b[0m\u001b[0;34m)\u001b[0m\u001b[0;34m\u001b[0m\u001b[0;34m\u001b[0m\u001b[0m\n",
      "\u001b[0;31mTypeError\u001b[0m: 'Search' object is not iterable"
     ]
    }
   ],
   "source": [
    "import datetime\n",
    "for i in papers_arxiv:\n",
    "    if datetime.datetime.strptime(i['published'], \"%Y-%m-%dT%H:%M:%SZ\").year>2019:\n",
    "        if (i['title'].find('changing') + i['title'].find('Changing')>-1):\n",
    "            print(i['title'])\n",
    "            print(i['authors'])\n",
    "            print(i['pdf_url'],'\\n')"
   ]
  },
  {
   "cell_type": "code",
   "execution_count": null,
   "metadata": {
    "collapsed": true
   },
   "outputs": [],
   "source": []
  },
  {
   "cell_type": "code",
   "execution_count": null,
   "metadata": {},
   "outputs": [],
   "source": []
  },
  {
   "cell_type": "code",
   "execution_count": null,
   "metadata": {},
   "outputs": [],
   "source": []
  },
  {
   "cell_type": "code",
   "execution_count": null,
   "metadata": {},
   "outputs": [],
   "source": [
    "papers_1=ads.SearchQuery(q='Changing look active galatic nuclei',sort='pubdate')\n",
    "for paper in papers_1:\n",
    "    print(paper.title,paper.pubdate,paper.bibcode)\n",
    "    #print(paper.pubdate)\n",
    "    print()"
   ]
  },
  {
   "cell_type": "code",
   "execution_count": null,
   "metadata": {},
   "outputs": [],
   "source": []
  },
  {
   "cell_type": "code",
   "execution_count": 12,
   "metadata": {
    "ExecuteTime": {
     "end_time": "2021-09-24T01:11:24.636021Z",
     "start_time": "2021-09-24T01:11:24.632920Z"
    }
   },
   "outputs": [],
   "source": []
  },
  {
   "cell_type": "markdown",
   "metadata": {},
   "source": [
    "# CLAGN_210919"
   ]
  },
  {
   "cell_type": "code",
   "execution_count": 2,
   "metadata": {
    "ExecuteTime": {
     "end_time": "2022-10-18T13:05:29.882841Z",
     "start_time": "2022-10-18T13:05:29.673966Z"
    }
   },
   "outputs": [],
   "source": [
    "import pandas as pd\n",
    "import numpy as np\n",
    "CLAGN_210919=pd.read_excel('/Users/lyubing/IHEPBox//data/data_clagn/CLAGN_list210919.xlsx',sheet_name='Sheet1')"
   ]
  },
  {
   "cell_type": "code",
   "execution_count": 3,
   "metadata": {
    "ExecuteTime": {
     "end_time": "2022-10-18T13:05:31.015827Z",
     "start_time": "2022-10-18T13:05:30.995370Z"
    }
   },
   "outputs": [
    {
     "data": {
      "text/plain": [
       "Index(['Name', 'RA', 'DEC', 'Ref.', 'Type_Ref', 'Redshift', 'lg(MBH/Msun)',\n",
       "       'Ref..1', 'mass_Ref', 'Type_CL', 'Type_X', 'OX', 'logM', 'pos',\n",
       "       'E(B-V)mean', 'E(B-V)weighted', 'NHImean', 'NHIweighted', 'NH2mean',\n",
       "       'NH2weighted', 'NH,totmean', 'NH,totweighted'],\n",
       "      dtype='object')"
      ]
     },
     "execution_count": 3,
     "metadata": {},
     "output_type": "execute_result"
    }
   ],
   "source": [
    "CLAGN_210919.columns"
   ]
  },
  {
   "cell_type": "code",
   "execution_count": 3,
   "metadata": {
    "ExecuteTime": {
     "end_time": "2021-11-07T14:57:10.978799Z",
     "start_time": "2021-11-07T14:57:10.967441Z"
    }
   },
   "outputs": [],
   "source": [
    "CLAGN_210919_mass=CLAGN_210919[CLAGN_210919['lg(MBH/Msun)'].notnull()]\n",
    "\n",
    "CLAGN_210919_mass=CLAGN_210919_mass.reset_index(drop=True)"
   ]
  },
  {
   "cell_type": "code",
   "execution_count": 4,
   "metadata": {
    "ExecuteTime": {
     "end_time": "2021-11-07T14:57:11.574913Z",
     "start_time": "2021-11-07T14:57:11.568998Z"
    }
   },
   "outputs": [
    {
     "data": {
      "text/plain": [
       "Index(['Name', 'RA', 'DEC', 'Ref.', 'Type_Ref', 'Redshift', 'lg(MBH/Msun)',\n",
       "       'Ref..1', 'mass_Ref', 'Type_CL', 'Type_X', 'OX', 'logM', 'pos',\n",
       "       'E(B-V)mean', 'E(B-V)weighted', 'NHImean', 'NHIweighted', 'NH2mean',\n",
       "       'NH2weighted', 'NH,totmean', 'NH,totweighted'],\n",
       "      dtype='object')"
      ]
     },
     "execution_count": 4,
     "metadata": {},
     "output_type": "execute_result"
    }
   ],
   "source": [
    "CLAGN_210919_mass.columns"
   ]
  },
  {
   "cell_type": "code",
   "execution_count": 5,
   "metadata": {
    "ExecuteTime": {
     "end_time": "2021-11-07T14:57:13.471659Z",
     "start_time": "2021-11-07T14:57:13.466535Z"
    }
   },
   "outputs": [
    {
     "data": {
      "text/plain": [
       "119"
      ]
     },
     "execution_count": 5,
     "metadata": {},
     "output_type": "execute_result"
    }
   ],
   "source": [
    "len(CLAGN_210919_mass)"
   ]
  },
  {
   "cell_type": "code",
   "execution_count": 6,
   "metadata": {
    "ExecuteTime": {
     "end_time": "2021-11-07T14:57:14.808721Z",
     "start_time": "2021-11-07T14:57:14.800689Z"
    }
   },
   "outputs": [],
   "source": [
    "CLAGNref_allmass_bibcodes=[]\n",
    "for i in CLAGN_210919_mass['Type_Ref']:\n",
    "    if i not in CLAGNref_allmass_bibcodes and i is not np.nan:\n",
    "        CLAGNref_allmass_bibcodes.append(i)\n",
    "            \n",
    "for i in CLAGN_210919_mass['mass_Ref']:\n",
    "    if i not in CLAGNref_allmass_bibcodes and i is not np.nan:\n",
    "        CLAGNref_allmass_bibcodes.append(i)  "
   ]
  },
  {
   "cell_type": "markdown",
   "metadata": {},
   "source": [
    "## CLAGNref_allmass_bibcodes"
   ]
  },
  {
   "cell_type": "code",
   "execution_count": 7,
   "metadata": {
    "ExecuteTime": {
     "end_time": "2021-11-07T14:57:17.864336Z",
     "start_time": "2021-11-07T14:57:17.858788Z"
    }
   },
   "outputs": [
    {
     "data": {
      "text/plain": [
       "66"
      ]
     },
     "execution_count": 7,
     "metadata": {},
     "output_type": "execute_result"
    }
   ],
   "source": [
    "len(CLAGNref_allmass_bibcodes)"
   ]
  },
  {
   "cell_type": "markdown",
   "metadata": {},
   "source": [
    "## CLAGNref_all_bibcodes"
   ]
  },
  {
   "cell_type": "code",
   "execution_count": 8,
   "metadata": {
    "ExecuteTime": {
     "end_time": "2021-11-07T14:57:22.429613Z",
     "start_time": "2021-11-07T14:57:22.424031Z"
    }
   },
   "outputs": [],
   "source": [
    "CLAGNref_all_bibcodes=[]\n",
    "for i in CLAGN_210919['Type_Ref']:\n",
    "    if i not in CLAGNref_all_bibcodes and i is not np.nan:\n",
    "        CLAGNref_all_bibcodes.append(i)\n",
    "            \n",
    "for i in CLAGN_210919['mass_Ref']:\n",
    "    if i not in CLAGNref_all_bibcodes and i is not np.nan:\n",
    "        CLAGNref_all_bibcodes.append(i)   "
   ]
  },
  {
   "cell_type": "code",
   "execution_count": 9,
   "metadata": {
    "ExecuteTime": {
     "end_time": "2021-11-07T14:57:23.148802Z",
     "start_time": "2021-11-07T14:57:23.143902Z"
    }
   },
   "outputs": [
    {
     "data": {
      "text/plain": [
       "69"
      ]
     },
     "execution_count": 9,
     "metadata": {},
     "output_type": "execute_result"
    }
   ],
   "source": [
    "len(CLAGNref_all_bibcodes)"
   ]
  },
  {
   "cell_type": "markdown",
   "metadata": {},
   "source": [
    "## write_latex"
   ]
  },
  {
   "cell_type": "code",
   "execution_count": 10,
   "metadata": {
    "ExecuteTime": {
     "end_time": "2021-11-07T14:57:30.170501Z",
     "start_time": "2021-11-07T14:57:30.165567Z"
    }
   },
   "outputs": [
    {
     "data": {
      "text/plain": [
       "66"
      ]
     },
     "execution_count": 10,
     "metadata": {},
     "output_type": "execute_result"
    }
   ],
   "source": [
    "len(CLAGNref_allmass_bibcodes)"
   ]
  },
  {
   "cell_type": "code",
   "execution_count": 11,
   "metadata": {
    "ExecuteTime": {
     "end_time": "2021-11-07T14:57:31.869745Z",
     "start_time": "2021-11-07T14:57:31.866624Z"
    }
   },
   "outputs": [],
   "source": [
    "dict_bibcode_index = dict(zip(CLAGNref_allmass_bibcodes,np.arange(len(CLAGNref_allmass_bibcodes))+1))"
   ]
  },
  {
   "cell_type": "code",
   "execution_count": 12,
   "metadata": {
    "ExecuteTime": {
     "end_time": "2021-11-07T14:57:32.828546Z",
     "start_time": "2021-11-07T14:57:32.813084Z"
    }
   },
   "outputs": [
    {
     "name": "stdout",
     "output_type": "stream",
     "text": [
      "(1)~\\citet{2019ApJ...883...94T} (2)~\\citet{2012MNRAS.421.1803M} (3)~\\citet{2016ApJ...826..188R} (4)~\\citet{2019ApJ...874....8M} (5)~\\citet{2021A&A...650A..33P} (6)~\\citet{2018ApJ...864...27S} (7)~\\citet{2018yCat..22340023A} (8)~\\citet{2016ApJ...821...33R} (9)~\\citet{2019sf2a.conf..509M} (10)~\\citet{2018Galax...6...52A} (11)~\\citet{2018A&A...619A.168K} (12)~\\citet{2016ApJ...820....5R} (13)~\\citet{2020A&A...638A..91K} (14)~\\citet{2020A&A...644L...5H} (15)~\\citet{2020MNRAS.491.4615K} (16)~\\citet{2020MNRAS.499.1005W} (17)~\\citet{2021IAUS..356..122W} (18)~\\citet{2021MNRAS.503.2583S} (19)~\\citet{2003MNRAS.342..422M} (20)~\\citet{2020MNRAS.498..718O} (21)~\\citet{2017OAP....30..117O} (22)~\\citet{2021ApJ...909...18F} (23)~\\citet{2021MNRAS.507..687J} (24)~\\citet{2005MNRAS.356..295G} (25)~\\citet{2018ATel11915....1O} (26)~\\citet{2020MNRAS.499.5396J} (27)~\\citet{2005A&A...442..185B} (28)~\\citet{2008A&A...483..137B} (29)~\\citet{2020MNRAS.498.3985Y} (30)~\\citet{2017ApJ...846L...7S} (31)~\\citet{2019ApJ...883...31F} (32)~\\citet{2019ApJ...883L..44G} (33)~\\citet{2018ApJ...862..109Y} (34)~\\citet{2020MNRAS.498.2339R} (35)~\\citet{2020MNRAS.491.4925G} (36)~\\citet{2019MNRAS.487.4057K} (37)~\\citet{2019ApJ...887...15W} (38)~\\citet{2020ApJ...901....1W} (39)~\\citet{2021MNRAS.502L..50S} (40)~\\citet{2014A&A...563A..95D} (41)~\\citet{2019ApJ...883...76R} (42)~\\citet{2011MNRAS.410.1877S} (43)~\\citet{2014MNRAS.443.2862A} (44)~\\citet{2017MNRAS.466.1777P} (45)~\\citet{2018MNRAS.480.3898N} (46)~\\citet{2018MNRAS.478.4214E} (47)~\\citet{2013ApJ...773...90G} (48)~\\citet{2018MNRAS.481.4542S} (49)~\\citet{2010ApJ...720..786L} (50)~\\citet{2010A&A...522A..36K} (51)~\\citet{2015ApJ...800...63S} (52)~\\citet{2017MNRAS.468L..97O} (53)~\\citet{2002ApJ...579..530W} (54)~\\citet{2019arXiv190904676R} (55)~\\citet{2020MNRAS.496.3412M} (56)~\\citet{2001ApJ...554..240E} (57)~\\citet{2019MNRAS.487..667C} (58)~\\citet{2019ApJ...884..106M} (59)~\\citet{2005ApJ...632..799P} (60)~\\citet{2011AAS...21822816M} (61)~\\citet{2009ApJ...690.1322W} (62)~\\citet{2017ApJ...850...74K} (63)~\\citet{2014MNRAS.445.3073P} (64)~\\citet{2018MNRAS.473.5334R} (65)~\\citet{2017NatAs...1..727K} (66)~\\citet{2021ApJ...907L..21D} "
     ]
    }
   ],
   "source": [
    "for index,bib in enumerate(CLAGNref_allmass_bibcodes):\n",
    "    print('(%d)'%(index+1)+'~'+'\\\\citet{%s}'%bib,end=' ')"
   ]
  },
  {
   "cell_type": "code",
   "execution_count": 14,
   "metadata": {
    "ExecuteTime": {
     "end_time": "2021-11-07T14:58:42.752833Z",
     "start_time": "2021-11-07T14:58:42.314315Z"
    }
   },
   "outputs": [
    {
     "name": "stdout",
     "output_type": "stream",
     "text": [
      "1ES 1927+654 & 0.0170 & O-CLAGN & 1 & 7.3 & 39 \\\\\n",
      "1H 0419-577 & 0.1040 & Seyfert 1.5 & 2 & 8.6 & 40 \\\\\n",
      "2MASS J01264811-0839481        & 0.1979 & O-CLAGN & 3 & 8.1 & 41 \\\\\n",
      "2MASS J07451198+3809114 & 0.2365 & O-CLAGN & 4 & 9.1 & 35 \\\\\n",
      "2MASS J10022021+4509276        & 0.4009 & O-CLAGN & 5 & 8.7 & 41 \\\\\n",
      "2MASS J10520355+1519294        & 0.3025 & O-CLAGN & 6 & 7.9 & 35 \\\\\n",
      "2MASS J11132967+5313393 & 0.2392 & O-CLAGN & 4 & 7.8 & 35 \\\\\n",
      "2MASS J12335916+0842112 & 0.2562 & O-CLAGN & 4 & 8.7 & 35 \\\\\n",
      "2MASS J14284671+1723530        & 0.1040 & O-CLAGN & 7 & 7.6 & 35 \\\\\n",
      "2MASS J15361278+0342457 & 0.3645 & O-CLAGN & 4 & 8.2 & 35 \\\\\n",
      "2MASS J15373408+4613585 & 0.3779 & O-CLAGN & 4 & 8.0 & 35 \\\\\n",
      "2MASS J16011122+4745095 & 0.2970 & O-CLAGN & 4 & 7.9 & 35 \\\\\n",
      "2MASS J16171142+0638333 & 0.2291 & O-CLAGN & 4 & 8.0 & 35 \\\\\n",
      "2MASS J21020044+0005020 & 0.3294 & O-CLAGN & 4 & 8.0 & 35 \\\\\n",
      "2MASS J22053771-0711147 & 0.2950 & O-CLAGN & 4 & 8.0 & 35 \\\\\n",
      "2MASX J09381221+0743398 & 0.0220 & O-CLAGN & 8 & 7.5 & 35 \\\\\n",
      "2MASX J09483841+4030436 & 0.0468 & O-CLAGN & 8 & 7.5 & 35 \\\\\n",
      "2MASX J10215228+4645158        & 0.2041 & O-CLAGN & 5 & 8.3 & 41 \\\\\n",
      "3C 390.3 & 0.0561 & O-CLAGN & 9 & 9.3 & 42 \\\\\n",
      "ESO 362-G18 & 0.0124 & O-CLAGN & 10 & 7.7 & 43 \\\\\n",
      "Fairall 9 & 0.0461 & O-CLAGN & 9 & 8.4 & 44 \\\\\n",
      "HE 1136-2304 & 0.0270 & O-CLAGN & 11 & 7.6 & 11 \\\\\n",
      "IC 751 & 0.0315 & Type 2 & 12 & 8.5 & 12 \\\\\n",
      "IRAS 23226-3843 & 0.0359 & O-CLAGN & 13 & 8.2 & 13 \\\\\n",
      "Mrk 1018 & 0.0430 & O-CLAGN & 14 & 7.8 & 45 \\\\\n",
      "Mrk 530 & 0.0288 & O-CLAGN & 9 & 8.1 & 46 \\\\\n",
      "Mrk 590 & 0.0264 & O-CLAGN & 15 & 7.5 & 47 \\\\\n",
      "Mrk 6 & 0.0195 & O-CLAGN & 9 & 8.2 & 48 \\\\\n",
      "Mrk 609 & 0.0344 & O-CLAGN & 16 & 7.8 & 49 \\\\\n",
      "Mrk 926 & 0.0470 & O-CLAGN & 17 & 8.1 & 50 \\\\\n",
      "NGC 1097 & 0.0042 & O-CLAGN & 18 & 8.1 & 51 \\\\\n",
      "NGC 1365 & 0.0055 & Type 1.8 & 19 & 6.7 & 52 \\\\\n",
      "NGC 1566 & 0.0050 & O-CLAGN & 20 & 6.9 & 53 \\\\\n",
      "NGC 2617 & 0.0142 & O-CLAGN & 21 & 7.5 & 54 \\\\\n",
      "NGC 2992 & 0.0077 & O-CLAGN & 19 & 7.5 & 55 \\\\\n",
      "NGC 3065 & 0.0066 & O-CLAGN & 18 & 8.0 & 56 \\\\\n",
      "NGC 3516 & 0.0088 & O-CLAGN & 22 & 7.5 & 47 \\\\\n",
      "NGC 4051 & 0.0023 & NLS 1 & 2 & 6.4 & 57 \\\\\n",
      "NGC 4151 & 0.0033 & O-CLAGN & 9 & 7.6 & 47 \\\\\n",
      "NGC 4388 & 0.0084 & Seyfert 2 & 2 & 6.9 & 58 \\\\\n",
      "NGC 4395 & 0.0011 & O-CLAGN & 23 & 5.6 & 59 \\\\\n",
      "NGC 4507 & 0.0118 & Seyfert 2 & 23 & 7.7 & 60 \\\\\n",
      "NGC 454 & 0.0122 & Seyfert 2 & 2 & 6.2 & 61 \\\\\n",
      "NGC 4939 & 0.0104 & Seyfert 2 & 24 & 7.5 & 62 \\\\\n",
      "NGC 5548 & 0.0172 & O-CLAGN & 25 & 7.5 & 63 \\\\\n",
      "NGC 6300 & 0.0037 & Seyfert 2 & 26 & 7.0 & 26 \\\\\n",
      "NGC 7469 & 0.0163 & Seyfert 1  & 25 & 7.3 & 47 \\\\\n",
      "NGC 7582 & 0.0053 & O-CLAGN & 9 & 7.7 & 64 \\\\\n",
      "NGC 7674 & 0.0290 & Seyfert 2 & 27 & 7.6 & 65 \\\\\n",
      "PG 1535+547 & 0.0389 & NLS 1 & 28 & 7.3 & 28 \\\\\n",
      "SDSS J002311.06+003517.5       & 0.4222 & O-CLAGN & 5 & 8.2 & 35 \\\\\n",
      "SDSS J015957.62+003310.5       & 0.3120 & O-CLAGN & 5 & 8.2 & 41 \\\\\n",
      "SDSS J022556.07+003026.7       & 0.5039 & O-CLAGN & 5 & 8.2 & 35 \\\\\n",
      "SDSS J022652.24-003916.5       & 0.6253 & O-CLAGN & 5 & 8.6 & 35 \\\\\n",
      "SDSS J030510.60-010431.6       & 0.0450 & O-CLAGN & 29 & 7.3 & 29 \\\\\n",
      "SDSS J080020.98+263648.8       & 0.0267 & O-CLAGN & 29 & 7.1 & 29 \\\\\n",
      "SDSS J081319.34+460849.5 & 0.0538 & O-CLAGN & 30 & 7.6 & 35 \\\\\n",
      "SDSS J081726.41+101210.1 & 0.0458 & O-CLAGN & 31 & 7.5 & 31 \\\\\n",
      "SDSS J082323.89+422048.3 & 0.1515 & O-CLAGN & 5 & 8.1 & 5 \\\\\n",
      "SDSS J082942.67+415436.9 & 0.1263 & O-CLAGN & 5 & 8.5 & 5 \\\\\n",
      "SDSS J090902.35+133019.4 & 0.0499 & O-CLAGN & 30 & 7.3 & 35 \\\\\n",
      "SDSS J091531.04+481407.7 & 0.1005 & O-CLAGN & 31 & 7.8 & 66 \\\\\n",
      "SDSS J094810.92+005057.8 & 0.6245 & O-CLAGN & 32 & 7.4 & 32 \\\\\n",
      "SDSS J101152.98+544206.4       & 0.2464 & O-CLAGN & 30 & 8.4 & 41 \\\\\n",
      "SDSS J111536.57+054449.7       & 0.0900 & O-CLAGN & 33 & 7.6 & 66 \\\\\n",
      "SDSS J113355.93+670107.0 & 0.0397 & O-CLAGN & 31 & 8.2 & 66 \\\\\n",
      "SDSS J120544.68+342252.4       & 2.0680 & O-CLAGN & 34 & 9.7 & 34 \\\\\n",
      "SDSS J122550.30+510846.3 & 0.1679 & O-CLAGN & 31 & 8.6 & 66 \\\\\n",
      "SDSS J125403.78+491452.8 & 0.0670 & O-CLAGN & 31 & 8.3 & 66 \\\\\n",
      "SDSS J131615.95+301552.2       & 0.0492 & O-CLAGN & 29 & 7.1 & 29 \\\\\n",
      "SDSS J132457.29+480241.2       & 0.2716 & O-CLAGN & 5 & 8.0 & 35 \\\\\n",
      "SDSS J141324.27+530527.0       & 0.4559 & O-CLAGN & 35 & 8.2 & 35 \\\\\n",
      "SDSS J152533.60+292012.1       & 0.4493 & O-CLAGN & 32 & 8.0 & 32 \\\\\n",
      "SDSS J153308.02+443208.4 & 0.0367 & O-CLAGN & 31 & 7.6 & 31 \\\\\n",
      "SDSS J155440.25+362952.0       & 0.2368 & O-CLAGN & 30 & 8.0 & 30 \\\\\n",
      "SDSS J162501.43+241547.3       & 0.0503 & O-CLAGN & 29 & 6.7 & 29 \\\\\n",
      "SDSS J163629.66+410222.4       & 0.0474 & O-CLAGN & 29 & 7.0 & 29 \\\\\n",
      "SDSS J163852.93+282707.8       & 2.1854 & O-CLAGN & 34 & 9.1 & 34 \\\\\n",
      "SDSS J172322.31+550413.8 & 0.2947 & O-CLAGN & 5 & 8.6 & 5 \\\\\n",
      "SDSS J214613.31+000930.8       & 0.6220 & O-CLAGN & 5 & 8.3 & 35 \\\\\n",
      "SDSS J222153.87+003054.2       & 0.1235 & O-CLAGN & 36 & 6.5 & 36 \\\\\n",
      "SDSS J222818.76+220102.9       & 2.2171 & O-CLAGN & 34 & 9.4 & 34 \\\\\n",
      "SDSS J224448.72+004347.1 & 0.6369 & O-CLAGN & 32 & 7.8 & 32 \\\\\n",
      "SDSS J225240.37+010958.7       & 0.5333 & O-CLAGN & 4 & 8.2 & 35 \\\\\n",
      "SDSS J233317.38-002303.4       & 0.5130 & O-CLAGN & 5 & 8.3 & 35 \\\\\n",
      "SDSS J233602.98+001728.7       & 0.2428 & O-CLAGN & 3 & 8.3 & 41 \\\\\n",
      "SDSS J235107.43-091318.0 & 0.3545 & O-CLAGN & 4 & 7.9 & 35 \\\\\n",
      "SDSSJ104705.16+544405.8        & 0.2149 & O-CLAGN & 37 & 7.6 & 37 \\\\\n",
      "SDSSJ120447.91+170256.8        & 0.2979 & O-CLAGN & 37 & 8.0 & 37 \\\\\n",
      "UGC 3223 & 0.0156 & O-CLAGN & 38 & 8.0 & 38 \\\\\n",
      "UGC 4203 & 0.0135 & Seyfert 2 & 19 & 6.8 & 52 \\\\\n",
      "WISE J115227.47+320959.3 & 0.3743 & O-CLAGN & 33 & 8.1 & 35 \\\\\n",
      "WISEA J000236.24-002724.6 & 0.2913 & O-CLAGN & 5 & 8.7 & 5 \\\\\n",
      "WISEA J000904.54-103428.6 & 0.2406 & O-CLAGN & 4 & 8.0 & 35 \\\\\n",
      "WISEA J013458.36-091435.4 & 0.4431 & O-CLAGN & 4 & 8.2 & 35 \\\\\n",
      "WISEA J035301.02-062326.2 & 0.0762 & O-CLAGN & 8 & 7.6 & 35 \\\\\n",
      "WISEA J083132.25+364617.0 & 0.1950 & O-CLAGN & 33 & 8.6 & 66 \\\\\n",
      "WISEA J084748.28+182440.0 & 0.0848 & O-CLAGN & 8 & 7.7 & 35 \\\\\n",
      "WISEA J084957.78+274728.8 & 0.2985 & O-CLAGN & 33 & 7.9 & 66 \\\\\n",
      "WISEA J090932.02+474730.7 & 0.1169 & O-CLAGN & 33 & 7.3 & 66 \\\\\n",
      "WISEA J093730.32+260232.1 & 0.1623 & O-CLAGN & 33 & 7.8 & 66 \\\\\n",
      "WISEA J100323.46+352503.8 & 0.1189 & O-CLAGN & 33 & 8.0 & 66 \\\\\n",
      "WISEA J110057.70-005304.4 & 0.3790 & O-CLAGN & 35 & 8.2 & 35 \\\\\n",
      "WISEA J110423.23+634305.2 & 0.1643 & O-CLAGN & 33 & 6.8 & 35 \\\\\n",
      "WISEA J110455.17+011856.6 & 0.5752 & O-CLAGN & 33 & 8.2 & 35 \\\\\n",
      "WISEA J111025.44-000334.1 & 0.2192 & O-CLAGN & 33 & 7.6 & 35 \\\\\n",
      "WISEA J111829.66+320400.0 & 0.3660 & O-CLAGN & 33 & 7.7 & 35 \\\\\n",
      "WISEA J113229.14+035729.1 & 0.0909 & O-CLAGN & 33 & 7.9 & 66 \\\\\n",
      "WISEA J115039.31+363258.3 & 0.3400 & O-CLAGN & 33 & 7.9 & 35 \\\\\n",
      "WISEA J125916.74+551507.1 & 0.1987 & O-CLAGN & 33 & 7.9 & 35 \\\\\n",
      "WISEA J131930.75+675355.4 & 0.1664 & O-CLAGN & 33 & 7.5 & 66 \\\\\n",
      "WISEA J135855.82+493414.0 & 0.1159 & O-CLAGN & 33 & 6.9 & 35 \\\\\n",
      "WISEA J144754.23+283324.1 & 0.1634 & O-CLAGN & 33 & 8.0 & 66 \\\\\n",
      "WISEA J153355.99+011029.7 & 0.1427 & O-CLAGN & 33 & 7.9 & 35 \\\\\n",
      "WISEA J154507.52+170950.8 & 0.0483 & O-CLAGN & 35 & 7.4 & 35 \\\\\n",
      "WISEA J154529.63+251127.9 & 0.1170 & O-CLAGN & 33 & 8.1 & 66 \\\\\n",
      "WISEA J155017.23+413902.4 & 0.2201 & O-CLAGN & 33 & 8.3 & 66 \\\\\n",
      "WISEA J155258.27+273728.5 & 0.0865 & O-CLAGN & 33 & 8.1 & 66 \\\\\n",
      "WISEA J162415.02+455130.2 & 0.4806 & O-CLAGN & 4 & 8.1 & 35 \\\\\n"
     ]
    }
   ],
   "source": [
    "for index,name in enumerate(CLAGN_210919_mass['Name']):\n",
    "    if CLAGN_210919_mass.iloc[index]['Type_X'] is not np.nan:\n",
    "        print(CLAGN_210919_mass.iloc[index]['Name'],'&',\n",
    "          '%.4f'%CLAGN_210919_mass.iloc[index]['Redshift'],'&',\n",
    "          CLAGN_210919_mass.iloc[index]['Type_X'],'&', \n",
    "              \n",
    "          '%d'%dict_bibcode_index[CLAGN_210919_mass.iloc[index]['Type_Ref']],'&',\n",
    "          '%.1f'%CLAGN_210919_mass.iloc[index]['lg(MBH/Msun)'],'&',     \n",
    "              \n",
    "          '%d'%dict_bibcode_index[CLAGN_210919_mass.iloc[index]['mass_Ref']],'\\\\\\\\',\n",
    "         )\n",
    "    else: \n",
    "         print(CLAGN_210919_mass.iloc[index]['Name'],'&',\n",
    "          '%.4f'%CLAGN_210919_mass.iloc[index]['Redshift'],'&',\n",
    "          'O-CLAGN','&',\n",
    "          '%d'%dict_bibcode_index[CLAGN_210919_mass.iloc[index]['Type_Ref']],'&',     \n",
    "               \n",
    "          '%.1f'%CLAGN_210919_mass.iloc[index]['lg(MBH/Msun)'],'&',\n",
    "          '%d'%dict_bibcode_index[CLAGN_210919_mass.iloc[index]['mass_Ref']],'\\\\\\\\',\n",
    "         )"
   ]
  },
  {
   "cell_type": "code",
   "execution_count": null,
   "metadata": {},
   "outputs": [],
   "source": []
  },
  {
   "cell_type": "code",
   "execution_count": null,
   "metadata": {},
   "outputs": [],
   "source": []
  },
  {
   "cell_type": "code",
   "execution_count": null,
   "metadata": {},
   "outputs": [],
   "source": []
  },
  {
   "cell_type": "code",
   "execution_count": null,
   "metadata": {},
   "outputs": [],
   "source": []
  },
  {
   "cell_type": "code",
   "execution_count": null,
   "metadata": {},
   "outputs": [],
   "source": []
  },
  {
   "cell_type": "code",
   "execution_count": null,
   "metadata": {},
   "outputs": [],
   "source": []
  },
  {
   "cell_type": "code",
   "execution_count": null,
   "metadata": {},
   "outputs": [],
   "source": []
  },
  {
   "cell_type": "code",
   "execution_count": null,
   "metadata": {},
   "outputs": [],
   "source": []
  },
  {
   "cell_type": "code",
   "execution_count": null,
   "metadata": {},
   "outputs": [],
   "source": []
  },
  {
   "cell_type": "markdown",
   "metadata": {},
   "source": [
    "## position"
   ]
  },
  {
   "cell_type": "code",
   "execution_count": 24,
   "metadata": {
    "ExecuteTime": {
     "end_time": "2021-09-26T01:20:00.821440Z",
     "start_time": "2021-09-26T01:19:59.898909Z"
    }
   },
   "outputs": [],
   "source": [
    "from astropy import units as u\n",
    "from astropy import constants \n",
    "from astropy.coordinates import SkyCoord  # High-level coordinates\n",
    "from astropy.coordinates import ICRS, Galactic, FK4, FK5  # Low-level frames\n",
    "from astropy.coordinates import Angle, Latitude, Longitude  # Angles\n",
    "import astropy.units as u"
   ]
  },
  {
   "cell_type": "code",
   "execution_count": 25,
   "metadata": {
    "ExecuteTime": {
     "end_time": "2021-09-26T01:20:10.678472Z",
     "start_time": "2021-09-26T01:20:10.590580Z"
    }
   },
   "outputs": [],
   "source": [
    "CLAGN_210919_coord=SkyCoord(CLAGN_210919['RA'], CLAGN_210919['DEC'], frame=\"icrs\",unit=(u.hourangle, u.deg))\n",
    "CLAGN_210919['ra_deg']=CLAGN_210919_coord.ra.deg\n",
    "CLAGN_210919['dec_deg']=CLAGN_210919_coord.dec.deg"
   ]
  },
  {
   "cell_type": "markdown",
   "metadata": {
    "ExecuteTime": {
     "end_time": "2021-09-24T06:48:34.494957Z",
     "start_time": "2021-09-24T06:48:34.452627Z"
    }
   },
   "source": [
    "for i,j in zip(CLAGN_210919['ra_deg'],CLAGN_210919['dec_deg']):\n",
    "    print(i,j)"
   ]
  },
  {
   "cell_type": "markdown",
   "metadata": {},
   "source": [
    "## CLAGN_210919_ref"
   ]
  },
  {
   "cell_type": "code",
   "execution_count": 29,
   "metadata": {
    "ExecuteTime": {
     "end_time": "2021-09-26T01:23:08.882352Z",
     "start_time": "2021-09-26T01:23:08.878684Z"
    }
   },
   "outputs": [],
   "source": [
    "CLAGN_210919_ref=CLAGN_210919[['Name','Ref.','Ref..1']]"
   ]
  },
  {
   "cell_type": "markdown",
   "metadata": {},
   "source": [
    "## ref"
   ]
  },
  {
   "cell_type": "code",
   "execution_count": 30,
   "metadata": {
    "ExecuteTime": {
     "end_time": "2021-09-26T01:24:06.064353Z",
     "start_time": "2021-09-26T01:24:06.060554Z"
    }
   },
   "outputs": [],
   "source": [
    "CLtype_ref=[]\n",
    "for i in CLAGN_210919['Ref.']:\n",
    "    if i not in CLtype_ref:\n",
    "        CLtype_ref.append(i)"
   ]
  },
  {
   "cell_type": "code",
   "execution_count": 31,
   "metadata": {
    "ExecuteTime": {
     "end_time": "2021-09-26T01:24:10.250612Z",
     "start_time": "2021-09-26T01:24:10.246709Z"
    }
   },
   "outputs": [],
   "source": [
    "mass_ref=[]\n",
    "for i in CLAGN_210919['Ref..1']:\n",
    "    if i not in CLtype_ref and i is not np.nan:\n",
    "        mass_ref.append(i)"
   ]
  },
  {
   "cell_type": "code",
   "execution_count": 32,
   "metadata": {
    "ExecuteTime": {
     "end_time": "2021-09-26T01:24:13.795021Z",
     "start_time": "2021-09-26T01:24:13.789828Z"
    }
   },
   "outputs": [
    {
     "data": {
      "text/plain": [
       "(42, 51)"
      ]
     },
     "execution_count": 32,
     "metadata": {},
     "output_type": "execute_result"
    }
   ],
   "source": [
    "len(CLtype_ref),len(mass_ref)"
   ]
  },
  {
   "cell_type": "markdown",
   "metadata": {},
   "source": [
    "## bibcodes arxiv_list"
   ]
  },
  {
   "cell_type": "code",
   "execution_count": 129,
   "metadata": {
    "ExecuteTime": {
     "end_time": "2021-09-24T05:38:51.642579Z",
     "start_time": "2021-09-24T05:38:51.635119Z"
    }
   },
   "outputs": [],
   "source": [
    "bibcodes=[]\n",
    "arxiv_list=[]\n",
    "\n",
    "for i in CLtype_ref:\n",
    "    if i.startswith('arxiv:'):\n",
    "        id_list=i[6:]\n",
    "        if id_list not in arxiv_list:\n",
    "            arxiv_list.append(id_list)      \n",
    "        #paper=arxiv.Search(query = \"astro-ph\",id_list=id_list)\n",
    "    else:\n",
    "        if i not in bibcodes:\n",
    "            bibcodes.append(i)    \n",
    "                \n",
    "for i in mass_ref:\n",
    "    if i.startswith('arxiv:'):\n",
    "        id_list=i[6:]\n",
    "        if id_list not in arxiv_list:\n",
    "            arxiv_list.append(id_list)      \n",
    "        #paper=arxiv.Search(query = \"astro-ph\",id_list=id_list)\n",
    "    else:\n",
    "        if i not in bibcodes:\n",
    "            bibcodes.append(i)         "
   ]
  },
  {
   "cell_type": "code",
   "execution_count": 77,
   "metadata": {
    "ExecuteTime": {
     "end_time": "2021-09-24T02:32:04.026876Z",
     "start_time": "2021-09-24T02:32:04.016782Z"
    }
   },
   "outputs": [
    {
     "data": {
      "text/plain": [
       "['2020MNRAS.497..192H',\n",
       " '2011MNRAS.410.1877S',\n",
       " '2013ApJ...773...90G',\n",
       " '2017MNRAS.468L..97O',\n",
       " '2002ApJ...579..530W',\n",
       " '2005ApJ...632..799P',\n",
       " '2009ApJ...690.1322W',\n",
       " '2017ApJ...850...74K',\n",
       " '2014MNRAS.445.3073P']"
      ]
     },
     "execution_count": 77,
     "metadata": {},
     "output_type": "execute_result"
    }
   ],
   "source": [
    "bibcodes"
   ]
  },
  {
   "cell_type": "code",
   "execution_count": 78,
   "metadata": {
    "ExecuteTime": {
     "end_time": "2021-09-24T02:32:15.855544Z",
     "start_time": "2021-09-24T02:32:15.850521Z"
    }
   },
   "outputs": [
    {
     "data": {
      "text/plain": [
       "9"
      ]
     },
     "execution_count": 78,
     "metadata": {},
     "output_type": "execute_result"
    }
   ],
   "source": [
    "len(bibcodes)"
   ]
  },
  {
   "cell_type": "markdown",
   "metadata": {
    "ExecuteTime": {
     "end_time": "2021-09-24T02:32:41.127573Z",
     "start_time": "2021-09-24T02:32:22.127001Z"
    }
   },
   "source": [
    "#bibcodes = ['1994AAS...185.7506Z', '2001A&A...366...62A']\n",
    "#articles = [list(ads.SearchQuery(bibcode=bibcode))[0] for bibcode in bibcodes]"
   ]
  },
  {
   "cell_type": "markdown",
   "metadata": {},
   "source": [
    "## write_bibcode_bibtex"
   ]
  },
  {
   "cell_type": "markdown",
   "metadata": {
    "ExecuteTime": {
     "end_time": "2021-09-24T05:54:45.152164Z",
     "start_time": "2021-09-24T05:54:25.744447Z"
    }
   },
   "source": [
    "with open('/Users/brettlv/Downloads/ref.bib','w+') as f:\n",
    "    for i in bibcodes:\n",
    "        bibtex=ads.ExportQuery(i, format=\"bibtex\").execute()\n",
    "        f.write(bibtex)\n",
    "    #print(articles[0].bibtex)"
   ]
  },
  {
   "cell_type": "code",
   "execution_count": 147,
   "metadata": {
    "ExecuteTime": {
     "end_time": "2021-09-24T05:55:20.842524Z",
     "start_time": "2021-09-24T05:55:20.838162Z"
    }
   },
   "outputs": [
    {
     "data": {
      "text/plain": [
       "60"
      ]
     },
     "execution_count": 147,
     "metadata": {},
     "output_type": "execute_result"
    }
   ],
   "source": [
    "len(arxiv_list)"
   ]
  },
  {
   "cell_type": "markdown",
   "metadata": {
    "ExecuteTime": {
     "end_time": "2021-09-24T05:58:34.578685Z",
     "start_time": "2021-09-24T05:58:34.571857Z"
    }
   },
   "source": [
    "arxiv_list"
   ]
  },
  {
   "cell_type": "code",
   "execution_count": null,
   "metadata": {},
   "outputs": [],
   "source": []
  },
  {
   "cell_type": "markdown",
   "metadata": {},
   "source": [
    "## append arxiv_id_title"
   ]
  },
  {
   "cell_type": "markdown",
   "metadata": {
    "ExecuteTime": {
     "end_time": "2021-09-24T05:59:03.852363Z",
     "start_time": "2021-09-24T05:59:03.841950Z"
    }
   },
   "source": [
    "title_list=[]\n",
    "title_arxiv=[]"
   ]
  },
  {
   "cell_type": "code",
   "execution_count": 228,
   "metadata": {
    "ExecuteTime": {
     "end_time": "2021-09-24T07:29:28.287671Z",
     "start_time": "2021-09-24T07:18:47.108160Z"
    }
   },
   "outputs": [
    {
     "name": "stdout",
     "output_type": "stream",
     "text": [
      "Changing look: from Compton-thick to Compton-thin, or the re-birth of fossil AGN\n",
      "On the transmission- to reprocessing-dominated spectral state transitions in Seyfert 2 galaxies\n",
      "A search for changing-look AGN in the Grossan catalog\n",
      "NGC 3065: A Certified LINER With Broad, Variable Balmer Lines\n"
     ]
    }
   ],
   "source": [
    "for id_list in arxiv_list:\n",
    "    try:\n",
    "        if id_list.find('.')<0:\n",
    "            id_list='astro-ph/'+id_list\n",
    "            \n",
    "        search = arxiv.Search(id_list=[id_list])\n",
    "        paper = next(search.results())\n",
    "        title=paper.title  \n",
    "        if title not in title_list:\n",
    "            print(title)\n",
    "            title_list.append(title) \n",
    "            title_arxiv.append(id_list)           \n",
    "    except Exception: \n",
    "        print(id_list)\n",
    "        continue\n",
    "#print(len(title_list))        "
   ]
  },
  {
   "cell_type": "code",
   "execution_count": 174,
   "metadata": {
    "ExecuteTime": {
     "end_time": "2021-09-24T06:24:08.539865Z",
     "start_time": "2021-09-24T06:24:08.535340Z"
    }
   },
   "outputs": [
    {
     "data": {
      "text/plain": [
       "56"
      ]
     },
     "execution_count": 174,
     "metadata": {},
     "output_type": "execute_result"
    }
   ],
   "source": [
    "len(title_list)"
   ]
  },
  {
   "cell_type": "code",
   "execution_count": 168,
   "metadata": {
    "ExecuteTime": {
     "end_time": "2021-09-24T06:14:45.524617Z",
     "start_time": "2021-09-24T06:14:45.510850Z"
    },
    "code_folding": []
   },
   "outputs": [
    {
     "name": "stdout",
     "output_type": "stream",
     "text": [
      "1ES 1927+654: An AGN Caught Changing Look on a Timescale of Months 1903.11084\n",
      "NGC454: unveiling a new \"changing look\" AGN 1201.2169\n",
      "Towards an Understanding of Changing-Look Quasars: An Archival Spectroscopic Search in SDSS 1509.03634\n",
      "Changing-Look Quasar Candidates: First Results from Follow-up Spectroscopy of Highly Optically Variable Quasars 1810.00087\n",
      "A Systematic Search for Changing-Look Quasars in SDSS 1509.08393\n",
      "A Mid-IR Selected Changing-Look Quasar and Physical Scenarios for Abrupt AGN Fading 1805.06920\n",
      "The WISE AGN Catalog 1706.09901\n",
      "Broad Hbeta Emission-Line Variability in a Sample of 102 Local Active Galaxies 1603.00035\n",
      "A Systematic Survey for z < 0.04 Changing-Look AGNs 2102.07351\n",
      "Changing-look Seyfert galaxies with optical linear polarization measurements 1909.02801\n",
      "A changing-look AGN to be probed by X-ray polarimetry 1805.01485\n",
      "Broad-line region structure and line profile variations in the changing look AGN HE1136-2304 1808.07331\n",
      "IC 751: a new changing-look AGN discovered by NuSTAR 1602.00702\n",
      "Optical and X-ray discovery of the changing-look AGN IRAS23226-3843 showing extremely broad and double-peaked Balmer profiles 2004.01711\n",
      "Spectropolarimetry of the changing-look active galactic nucleus Mrk 1018 2011.12634\n",
      "The Lick AGN Monitoring Project 2011: Spectroscopic Campaign and Emission-Line Light Curves 1503.01146\n",
      "Rapid Luminosity Decline and Subsequent Reformation of the Innermost Dust Distribution in the Changing-look AGN Mrk 590 1904.08946\n",
      "SkyMapper colours of Seyfert galaxies and Changing-Look AGN 2009.04688\n",
      "Revisiting old (AGN) friends -- what's changed in their spectral looks 2001.04681\n",
      "The post-maximum behaviour of the changing-look Seyfert galaxy NGC 1566 2006.00001\n",
      "Multi-wavelenth monitoring of the changing-look AGN NGC 2617 during state changes 1711.02631\n",
      "Reverberation Mapping of Changing-look Active Galactic Nucleus NGC 3516 2012.15572\n",
      "Broadband X-Ray Observations of the 2018 Outburst of the Changing-Look Active Galactic Nucleus NGC 1566 2107.11127\n",
      "New changing look case in NGC 1566 1811.06926\n",
      "Probing Nuclear and Circumnuclear Properties of NGC 6300 using X-ray Observations 2008.08033\n",
      "X-ray spectral variability in PG1535+547: the changing-look of a 'soft X-ray weak' AGN 0802.2936\n",
      "Host Galaxy Properties of Changing-look AGN Revealed in the MaNGA Survey 2008.11336\n",
      "Mid-infrared variability of changing-look AGN 1707.02686\n",
      "A New Class of Changing-Look LINERs 1904.10973\n",
      "A systematic search for changing-look quasars in SDSS-II using difference spectra 2104.14225\n",
      "Discovery of A Mg II Changing-look AGN and its Implications for a Unification Sequence of Changing-look AGNs 1908.00072\n",
      "Discovery of 21 New Changing-look AGNs in Northern Sky 1711.08122\n",
      "The first high-redshift changing-look quasars 1912.05310\n",
      "Initial results from a systematic search for changing-look active galactic nuclei selected via mid-infrared variability 1905.02904\n",
      "Understanding extreme quasar optical variability with CRTS: II. Changing-state quasars 1905.02262\n",
      "PS1-13cbe: The Rapid \"Turn on\" of a Seyfert 1 1811.03694\n",
      "Two New \"Turn-off\" Changing-look Active Galactic nuclei and Implication on \"Partially Obscured\" AGNs 1910.02392\n",
      "An X-ray Luminosity-dependent \"Changing-look\" Phenomenon in UGC 3223 2007.14547\n",
      "Magnetic flux inversion in a peculiar changing look AGN 2011.01954\n",
      "Simultaneous XMM-\\textit{Newton} and HST-COS observation of 1H0419-577: II. Broadband spectral modeling of a variable Seyfert galaxy 1401.5614\n",
      "The Analogous Structure of Accretion Flows in Supermassive and Stellar Mass Black Holes: New Insights from Faded Changing-Look Quasars 1903.02553\n",
      "Black hole spin and size of the X-ray emitting region(s) in the Seyfert 1.5 galaxy ESO 362-G18 1407.1238\n",
      "Correlated X-ray/UV/optical variability and the nature of accretion disc in the bare Seyfert 1 galaxy Fairall~9 1612.01369\n",
      "Explaining changing-look AGN with state transition triggered by rapid mass accretion rate drop 1805.07873\n",
      "Exploring the spectral variability of the Seyfert 1.5 galaxy Markarian 530 with Suzaku 1805.06742\n",
      "A close look at the well-known Seyfert galaxy: extended emission filaments in Mrk6 1809.05950\n",
      "Line profile and continuum variability in the very broad-line Seyfert galaxy Mrk 926 1007.3595\n",
      "Short-Timescale monitoring of the X-ray, UV and broad double-peak emission line of the nucleus of NGC 1097 1411.4682\n",
      "Tracing the AGN/X-ray Binary Analogy with Light Curves of Individual Changing-Look AGN 1909.04676\n",
      "The lively accretion disk in NGC 2992. I. Transient iron K emission lines in the high flux state 2006.05280\n",
      "X-ray time lags in AGN: inverse-Compton scattering and spherical corona model 1905.03683\n",
      "A NICER Look at Strong X-ray Obscuration in the Seyfert-2 Galaxy NGC 4388 1908.08023\n",
      "X-ray absorption variability in NGC 4507 1212.4151\n",
      "Optical and near-infrared IFU spectroscopy of the nuclear region of the AGN-starburst galaxy NGC 7582 1711.04794\n",
      "A candidate sub-parsec binary black hole in the Seyfert galaxy NGC 7674 1709.06258\n",
      "The Landscape of Galaxies Harboring Changing-Look Active Galactic Nuclei in the Local Universe 2010.10527\n"
     ]
    }
   ],
   "source": [
    "for i,j in zip(title_list,title_arxiv):\n",
    "    print(i,j)"
   ]
  },
  {
   "cell_type": "code",
   "execution_count": 178,
   "metadata": {
    "ExecuteTime": {
     "end_time": "2021-09-24T06:29:30.941458Z",
     "start_time": "2021-09-24T06:29:30.936238Z"
    }
   },
   "outputs": [
    {
     "data": {
      "text/plain": [
       "56"
      ]
     },
     "execution_count": 178,
     "metadata": {},
     "output_type": "execute_result"
    }
   ],
   "source": [
    "len(title_list)"
   ]
  },
  {
   "cell_type": "markdown",
   "metadata": {
    "ExecuteTime": {
     "end_time": "2021-09-24T06:05:23.955386Z",
     "start_time": "2021-09-24T06:05:23.951785Z"
    }
   },
   "source": [
    "arxiv_bibcodes=[]\n",
    "title_arxiv_bibcodes=[]"
   ]
  },
  {
   "cell_type": "code",
   "execution_count": 176,
   "metadata": {
    "ExecuteTime": {
     "end_time": "2021-09-24T06:26:26.855371Z",
     "start_time": "2021-09-24T06:24:26.169769Z"
    }
   },
   "outputs": [
    {
     "name": "stdout",
     "output_type": "stream",
     "text": [
      "Black hole spin and size of the X-ray emitting region(s) in the Seyfert 1.5 galaxy ESO 362-G18\n"
     ]
    }
   ],
   "source": [
    "for title in title_list:  \n",
    "    try:\n",
    "        ads_papers = list(ads.SearchQuery(title=title))\n",
    "        for j in ads_papers:\n",
    "            if j.bibcode not in arxiv_bibcodes: \n",
    "                arxiv_bibcodes.append(j.bibcode)\n",
    "                title_arxiv_bibcodes.append(title) \n",
    "    except Exception: \n",
    "        print(title)\n",
    "        continue                "
   ]
  },
  {
   "cell_type": "code",
   "execution_count": 180,
   "metadata": {
    "ExecuteTime": {
     "end_time": "2021-09-24T06:29:51.712515Z",
     "start_time": "2021-09-24T06:29:51.708944Z"
    }
   },
   "outputs": [
    {
     "name": "stdout",
     "output_type": "stream",
     "text": [
      "50\n"
     ]
    }
   ],
   "source": [
    "print(len(arxiv_bibcodes))"
   ]
  },
  {
   "cell_type": "code",
   "execution_count": 182,
   "metadata": {
    "ExecuteTime": {
     "end_time": "2021-09-24T06:30:13.772501Z",
     "start_time": "2021-09-24T06:30:13.746038Z"
    }
   },
   "outputs": [
    {
     "name": "stdout",
     "output_type": "stream",
     "text": [
      "0 2019ApJ...883...94T 1ES 1927+654: An AGN Caught Changing Look on a Timescale of Months\n",
      "1 2016ApJ...826..188R Towards an Understanding of Changing-Look Quasars: An Archival Spectroscopic Search in SDSS\n",
      "2 2019ApJ...874....8M Changing-Look Quasar Candidates: First Results from Follow-up Spectroscopy of Highly Optically Variable Quasars\n",
      "3 2016MNRAS.457..389M A Systematic Search for Changing-Look Quasars in SDSS\n",
      "4 2015toru.conf..E17M A Systematic Search for Changing-Look Quasars in SDSS\n",
      "5 2021A&A...650A..33P A Systematic Search for Changing-Look Quasars in SDSS\n",
      "6 2018ApJ...864...27S A Mid-IR Selected Changing-Look Quasar and Physical Scenarios for Abrupt AGN Fading\n",
      "7 2018ApJS..234...23A The WISE AGN Catalog\n",
      "8 2017MNRAS.468.3042M The WISE AGN Catalog\n",
      "9 2018yCat..22340023A The WISE AGN Catalog\n",
      "10 2016ApJ...821...33R Broad Hbeta Emission-Line Variability in a Sample of 102 Local Active Galaxies\n",
      "11 2019sf2a.conf..509M Changing-look Seyfert galaxies with optical linear polarization measurements\n",
      "12 2018Galax...6...52A A changing-look AGN to be probed by X-ray polarimetry\n",
      "13 2016ApJ...820....5R IC 751: a new changing-look AGN discovered by NuSTAR\n",
      "14 2020A&A...644L...5H Spectropolarimetry of the changing-look active galactic nucleus Mrk 1018\n",
      "15 2015ApJS..217...26B The Lick AGN Monitoring Project 2011: Spectroscopic Campaign and Emission-Line Light Curves\n",
      "16 2020MNRAS.491.4615K Rapid Luminosity Decline and Subsequent Reformation of the Innermost Dust Distribution in the Changing-look AGN Mrk 590\n",
      "17 2020MNRAS.499.1005W SkyMapper colours of Seyfert galaxies and Changing-Look AGN\n",
      "18 2021IAUS..356..122W Revisiting old (AGN) friends -- what's changed in their spectral looks\n",
      "19 2020MNRAS.498..718O The post-maximum behaviour of the changing-look Seyfert galaxy NGC 1566\n",
      "20 2017OAP....30..117O Multi-wavelenth monitoring of the changing-look AGN NGC 2617 during state changes\n",
      "21 2021ApJ...909...18F Reverberation Mapping of Changing-look Active Galactic Nucleus NGC 3516\n",
      "22 2021MNRAS.507..687J Broadband X-Ray Observations of the 2018 Outburst of the Changing-Look Active Galactic Nucleus NGC 1566\n",
      "23 2019MNRAS.483..558O New changing look case in NGC 1566\n",
      "24 2018ATel11915....1O New changing look case in NGC 1566\n",
      "25 2020MNRAS.499.5396J Probing Nuclear and Circumnuclear Properties of NGC 6300 using X-ray Observations\n",
      "26 2019ApJ...883...31F A New Class of Changing-Look LINERs\n",
      "27 2018ApJ...862..109Y Discovery of 21 New Changing-look AGNs in Northern Sky\n",
      "28 2020MNRAS.498.2339R The first high-redshift changing-look quasars\n",
      "29 2020ApJ...889...46S Initial results from a systematic search for changing-look active galactic nuclei selected via mid-infrared variability\n",
      "30 2020MNRAS.491.4925G Understanding extreme quasar optical variability with CRTS: II. Changing-state quasars\n",
      "31 2018arXiv181103694K PS1-13cbe: The Rapid \"Turn on\" of a Seyfert 1\n",
      "32 2019MNRAS.487.4057K PS1-13cbe: The Rapid \"Turn on\" of a Seyfert 1\n",
      "33 2019ApJ...887...15W Two New \"Turn-off\" Changing-look Active Galactic nuclei and Implication on \"Partially Obscured\" AGNs\n",
      "34 2020ApJ...901....1W An X-ray Luminosity-dependent \"Changing-look\" Phenomenon in UGC 3223\n",
      "35 2021MNRAS.502L..50S Magnetic flux inversion in a peculiar changing look AGN\n",
      "36 2019ApJ...883...76R The Analogous Structure of Accretion Flows in Supermassive and Stellar Mass Black Holes: New Insights from Faded Changing-Look Quasars\n",
      "37 2018MNRAS.480.3898N Explaining changing-look AGN with state transition triggered by rapid mass accretion rate drop\n",
      "38 2018MNRAS.478.4214E Exploring the spectral variability of the Seyfert 1.5 galaxy Markarian 530 with Suzaku\n",
      "39 2010A&A...522A..36K Line profile and continuum variability in the very broad-line Seyfert galaxy Mrk 926\n",
      "40 2015ApJ...800...63S Short-Timescale monitoring of the X-ray, UV and broad double-peak emission line of the nucleus of NGC 1097\n",
      "41 2019arXiv190904676R Tracing the AGN/X-ray Binary Analogy with Light Curves of Individual Changing-Look AGN\n",
      "42 2019MNRAS.487..667C X-ray time lags in AGN: inverse-Compton scattering and spherical corona model\n",
      "43 2019ApJ...884..106M A NICER Look at Strong X-ray Obscuration in the Seyfert-2 Galaxy NGC 4388\n",
      "44 2013MNRAS.429.2581M X-ray absorption variability in NGC 4507\n",
      "45 2011xru..conf..100M X-ray absorption variability in NGC 4507\n",
      "46 2011AAS...21822816M X-ray absorption variability in NGC 4507\n",
      "47 2018MNRAS.473.5334R Optical and near-infrared IFU spectroscopy of the nuclear region of the AGN-starburst galaxy NGC 7582\n",
      "48 2017NatAs...1..727K A candidate sub-parsec binary black hole in the Seyfert galaxy NGC 7674\n",
      "49 2021ApJ...907L..21D The Landscape of Galaxies Harboring Changing-Look Active Galactic Nuclei in the Local Universe\n"
     ]
    }
   ],
   "source": [
    "for index,(i,j) in enumerate(zip(arxiv_bibcodes,title_arxiv_bibcodes)):\n",
    "    print(index,i,j)"
   ]
  },
  {
   "cell_type": "code",
   "execution_count": 183,
   "metadata": {
    "ExecuteTime": {
     "end_time": "2021-09-24T06:30:25.715328Z",
     "start_time": "2021-09-24T06:30:25.708342Z"
    }
   },
   "outputs": [],
   "source": []
  },
  {
   "cell_type": "markdown",
   "metadata": {},
   "source": [
    "## write_arxiv_bibtex"
   ]
  },
  {
   "cell_type": "markdown",
   "metadata": {
    "ExecuteTime": {
     "end_time": "2021-09-24T06:31:37.780105Z",
     "start_time": "2021-09-24T06:31:35.680838Z"
    }
   },
   "source": [
    "bibtexs=ads.ExportQuery(arxiv_bibcodes, format=\"bibtex\").execute()\n",
    "\n",
    "with open('/Users/brettlv/Downloads/ref_arxiv.bib','w+') as f:\n",
    "    f.write(bibtexs)"
   ]
  },
  {
   "cell_type": "markdown",
   "metadata": {},
   "source": [
    "bibtexs_man=ads.ExportQuery(CLAGNref_manual_bibcodes, format=\"bibtex\").execute()\n",
    "with open('/Users/brettlv/Downloads/ref_man.bib','w+') as f:\n",
    "    f.write(bibtexs_man)"
   ]
  },
  {
   "cell_type": "markdown",
   "metadata": {},
   "source": [
    "## test"
   ]
  },
  {
   "cell_type": "code",
   "execution_count": 110,
   "metadata": {
    "ExecuteTime": {
     "end_time": "2021-09-24T03:16:21.026801Z",
     "start_time": "2021-09-24T03:16:18.791509Z"
    }
   },
   "outputs": [],
   "source": [
    "title=title_list[0]\n",
    "ads_papers = list(ads.SearchQuery(title=title))\n",
    "\n",
    "ads_papers[0].bibcode\n",
    "\n",
    "ads.ExportQuery(ads_papers[0].bibcode, format=\"bibtex\").execute()"
   ]
  },
  {
   "cell_type": "code",
   "execution_count": null,
   "metadata": {},
   "outputs": [],
   "source": []
  },
  {
   "cell_type": "code",
   "execution_count": null,
   "metadata": {},
   "outputs": [],
   "source": [
    "## dict_arxiv_title\n",
    "dict_arxiv_title = dict(zip(title_arxiv, title_list))\n",
    "dict_title_bibcode = dict(zip(title_arxiv_bibcodes, arxiv_bibcodes))"
   ]
  },
  {
   "cell_type": "markdown",
   "metadata": {},
   "source": [
    "## match arxiv and bibcode"
   ]
  },
  {
   "cell_type": "code",
   "execution_count": null,
   "metadata": {},
   "outputs": [],
   "source": [
    "for index,name in enumerate(CLAGN_210919_ref['Name']):\n",
    "    if CLAGN_210919_ref.loc[index,'Ref.'].startswith('arxiv:'):\n",
    "        id_arxiv=CLAGN_210919_ref.loc[index,'Ref.'][6:]\n",
    "        if id_arxiv in title_arxiv:\n",
    "            title=dict_arxiv_title[id_arxiv]\n",
    "            if title in title_arxiv_bibcodes:\n",
    "                bibcode=dict_title_bibcode[title]\n",
    "                CLAGN_210919_ref.loc[index,'Type_Ref']=bibcode\n",
    "        else:\n",
    "            continue      \n",
    "        \n",
    "    else:\n",
    "        CLAGN_210919_ref.loc[index,'Type_Ref']=CLAGN_210919_ref.loc[index,'Ref.']\n",
    "        \n",
    "    if CLAGN_210919_ref.loc[index,'Ref..1'] is not np.nan and CLAGN_210919_ref.loc[index,'Ref..1'].startswith('arxiv:'):\n",
    "        id_arxiv=CLAGN_210919_ref.loc[index,'Ref..1'][6:]\n",
    "        if id_arxiv in title_arxiv:\n",
    "            title=dict_arxiv_title[id_arxiv]\n",
    "            if title in title_arxiv_bibcodes:\n",
    "                bibcode=dict_title_bibcode[title]\n",
    "                CLAGN_210919_ref.loc[index,'mass_Ref']=bibcode\n",
    "        else:\n",
    "            continue              \n",
    "    elif CLAGN_210919_ref.loc[index,'Ref..1'] is not np.nan:\n",
    "        CLAGN_210919_ref.loc[index,'mass_Ref']=CLAGN_210919_ref.loc[index,'Ref..1']        "
   ]
  },
  {
   "cell_type": "markdown",
   "metadata": {},
   "source": [
    "CLAGN_210919_ref.to_csv('/Users/brettlv/Downloads/CLAGNref.csv',index=False)"
   ]
  }
 ],
 "metadata": {
  "kernelspec": {
   "display_name": "Python 3 (ipykernel)",
   "language": "python",
   "name": "python3"
  },
  "language_info": {
   "codemirror_mode": {
    "name": "ipython",
    "version": 3
   },
   "file_extension": ".py",
   "mimetype": "text/x-python",
   "name": "python",
   "nbconvert_exporter": "python",
   "pygments_lexer": "ipython3",
   "version": "3.9.12"
  },
  "latex_envs": {
   "LaTeX_envs_menu_present": true,
   "autoclose": false,
   "autocomplete": true,
   "bibliofile": "biblio.bib",
   "cite_by": "apalike",
   "current_citInitial": 1,
   "eqLabelWithNumbers": true,
   "eqNumInitial": 1,
   "hotkeys": {
    "equation": "Ctrl-E",
    "itemize": "Ctrl-I"
   },
   "labels_anchors": false,
   "latex_user_defs": false,
   "report_style_numbering": false,
   "user_envs_cfg": false
  },
  "toc": {
   "base_numbering": 1,
   "nav_menu": {},
   "number_sections": true,
   "sideBar": true,
   "skip_h1_title": false,
   "title_cell": "Table of Contents",
   "title_sidebar": "Contents",
   "toc_cell": false,
   "toc_position": {
    "height": "508px",
    "left": "0px",
    "right": "1043px",
    "top": "158px",
    "width": "211.989px"
   },
   "toc_section_display": "block",
   "toc_window_display": true
  }
 },
 "nbformat": 4,
 "nbformat_minor": 2
}
