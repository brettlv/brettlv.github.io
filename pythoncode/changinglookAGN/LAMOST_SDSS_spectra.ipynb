{
 "cells": [
  {
   "cell_type": "code",
   "execution_count": 2,
   "id": "b4a3d710",
   "metadata": {
    "ExecuteTime": {
     "end_time": "2023-10-07T08:07:00.793142Z",
     "start_time": "2023-10-07T08:06:59.228306Z"
    }
   },
   "outputs": [],
   "source": [
    "import matplotlib as mpl\n",
    "import matplotlib.pyplot as plt\n",
    "import matplotlib.ticker as ticker\n",
    "from pylab import cm\n",
    "\n",
    "import matplotlib.dates as mdates\n",
    "from matplotlib.pyplot import MultipleLocator\n",
    "import matplotlib.dates as mdates\n",
    "from matplotlib.transforms import Transform\n",
    "from matplotlib.ticker import (AutoLocator, AutoMinorLocator)\n",
    "from matplotlib.dates import DateFormatter\n",
    "#import matplotlib.cm as cm\n",
    "import matplotlib.colors as colors\n",
    "from collections import OrderedDict\n",
    "\n",
    "\n",
    "# Import required packages\n",
    "import numpy as np\n",
    "import pandas as pd\n",
    "#import plotly_express as px\n",
    "\n",
    "\n",
    "from scipy.stats import spearmanr#\n",
    "from scipy.stats.stats import pearsonr\n",
    "from astropy import constants\n",
    "from astropy import units as u\n",
    "from astropy import units\n",
    "\n",
    "from datetime import datetime, date, time, timezone\n",
    "from datetime import datetime\n",
    "from datetime import timedelta\n",
    "from astropy.time import Time\n",
    "from astropy.io import ascii\n",
    "\n",
    "\n",
    "\n",
    "\n",
    "%matplotlib inline\n",
    "%config InlineBackend.figure_format='svg'\n",
    "\n",
    "\n",
    "import matplotlib.font_manager as fm\n",
    "# Collect all the font names available to matplotlib\n",
    "font_names = [f.name for f in fm.fontManager.ttflist]\n",
    "\n",
    "# Edit the font, font size, and axes width\n",
    "mpl.rcParams['font.family'] = 'New  '\n",
    "plt.rcParams['font.size'] = 18\n",
    "plt.rcParams['axes.linewidth'] = 2"
   ]
  },
  {
   "cell_type": "code",
   "execution_count": 3,
   "id": "8f9fe4e4",
   "metadata": {
    "ExecuteTime": {
     "end_time": "2023-10-07T08:07:00.802166Z",
     "start_time": "2023-10-07T08:07:00.794633Z"
    }
   },
   "outputs": [],
   "source": [
    "from astropy.time import Time\n",
    "from astropy.io import fits\n",
    "import time\n",
    "from matplotlib.pyplot import MultipleLocator\n",
    "import matplotlib.dates as mdates\n",
    "\n",
    "def datetime2mjd(x):\n",
    "    mjd_ref=59000\n",
    "    mjd_minus_mdates_num=mdates.date2num(convert_xaxis_time(mjd_ref))-mjd_ref\n",
    "    \n",
    "    x=mdates.date2num(x)\n",
    "    y = x - mjd_minus_mdates_num   \n",
    "    return y\n",
    "\n",
    "def mjd2datetime(x):\n",
    "    mjd_ref=59000\n",
    "    mjd_minus_mdates_num=mdates.date2num(convert_xaxis_time(mjd_ref))-mjd_ref\n",
    "    y= x + mjd_minus_mdates_num\n",
    "    y= mdates.num2date(y)\n",
    "    return y\n",
    "\n",
    "\n",
    "\n",
    "def datenums2mjd(x):\n",
    "    #x=mdates.date2num(x)\n",
    "    mjd_ref=59000\n",
    "    mjd_minus_mdates_num=mdates.date2num(convert_xaxis_time(mjd_ref))-mjd_ref\n",
    "    y = x - mjd_minus_mdates_num   \n",
    "    return y\n",
    "\n",
    "def mjd2numsdate(x):\n",
    "    mjd_ref=59000\n",
    "    mjd_minus_mdates_num=mdates.date2num(convert_xaxis_time(mjd_ref))-mjd_ref\n",
    "    \n",
    "    y= x + mjd_minus_mdates_num\n",
    "    #y= mdates.num2date(y)\n",
    "    return y\n",
    "\n",
    "\n",
    "def convert_xaxis_mjd(time):\n",
    "    return Time(time).mjd   \n",
    "\n",
    "def convert_xaxis_time(mjd):\n",
    "    return Time(mjd,format='mjd').to_datetime()\n",
    "\n",
    "\n",
    "def date2yday(x):\n",
    "    \"\"\"\n",
    "    x is in matplotlib datenums, so they are floats.\n",
    "    \"\"\"\n",
    "    y = x - mdates.date2num(datetime(2018, 1, 1))\n",
    "    return y\n",
    "\n",
    "def yday2date(x):\n",
    "    \"\"\"\n",
    "    return a matplotlib datenum (x is days since start of year of 2018)\n",
    "    \"\"\"\n",
    "    y = x + mdates.date2num(datetime(2018, 1, 1))\n",
    "    return y\n",
    "\n",
    "\n",
    "def convert_partial_year(numbers):\n",
    "    datetimes=[]\n",
    "    for number in numbers:\n",
    "        year = int(number)\n",
    "        d = timedelta(days=(number - year)*(365 + is_leap(year)))\n",
    "        day_one = datetime(year,1,1)\n",
    "        date = d + day_one\n",
    "        datetimes.append(date)\n",
    "    return datetimes\n",
    "\n",
    "\n",
    "def is_leap(year):\n",
    "    if not year%4 and  year%100 or not year%400:\n",
    "        return True\n",
    "    return False\n",
    "\n",
    "\n",
    "def convert_mjd(times):\n",
    "    timesmjd=[]\n",
    "    for i in times:\n",
    "        timesmjd.append(Time(i).mjd)\n",
    "    return timesmjd  \n",
    "\n",
    "\n",
    "def convert_date(times):\n",
    "    timesdate=[]\n",
    "    for i in times:\n",
    "        timesdate.append(Time(i,format='mjd').datetime)\n",
    "    return timesdate\n",
    "\n",
    "def convert_date_single(time):\n",
    "    timedate=Time(time,format='mjd').datetime\n",
    "    return timedate"
   ]
  },
  {
   "cell_type": "code",
   "execution_count": 4,
   "id": "0572eaef",
   "metadata": {
    "ExecuteTime": {
     "end_time": "2023-10-07T08:07:01.181762Z",
     "start_time": "2023-10-07T08:07:00.803823Z"
    }
   },
   "outputs": [],
   "source": [
    "#!/usr/bin/env python\n",
    "import os\n",
    "import numpy as np\n",
    "import pandas as pd\n",
    "from glob import glob\n",
    "import astropy.units as u\n",
    "from astropy.io import fits\n",
    "from astropy.table import Table\n",
    "import matplotlib.pyplot as plt\n",
    "from qsofitmore import QSOFitNew"
   ]
  },
  {
   "cell_type": "code",
   "execution_count": 5,
   "id": "1724ab5b",
   "metadata": {
    "ExecuteTime": {
     "end_time": "2023-10-07T08:07:01.187361Z",
     "start_time": "2023-10-07T08:07:01.183442Z"
    }
   },
   "outputs": [],
   "source": [
    "import pandas as pd\n",
    "import numpy as np\n",
    "import os\n",
    "\n",
    "def get_obsids(path):\n",
    "    dirname=os.listdir(path)\n",
    "    obsids=[]\n",
    "    for i in dirname:\n",
    "        if i.isdigit():\n",
    "            obsids.append(i)\n",
    "    obsids.sort()        \n",
    "    return obsids\n",
    "\n",
    "def drop_index(data):\n",
    "    data=data.reset_index(drop=True)\n",
    "    return data\n",
    "\n",
    "def get_info(data,label,label_err=None):\n",
    "    return min(data[label]),max(data[label]),np.mean(data[label])\n",
    "    "
   ]
  },
  {
   "cell_type": "code",
   "execution_count": null,
   "id": "62e4a1a5",
   "metadata": {},
   "outputs": [],
   "source": []
  },
  {
   "cell_type": "code",
   "execution_count": null,
   "id": "fb03befc",
   "metadata": {},
   "outputs": [],
   "source": []
  },
  {
   "cell_type": "code",
   "execution_count": 6,
   "id": "b68e3193",
   "metadata": {
    "ExecuteTime": {
     "end_time": "2023-10-07T08:07:01.532443Z",
     "start_time": "2023-10-07T08:07:01.517270Z"
    }
   },
   "outputs": [],
   "source": [
    "LAMOSTDR10_SDSS16=pd.read_csv('/Users/lyubing/Downloads/LAMOST_青年研究员/LAMOST_DR10_SDSS16_brettlv_0.csv') #zwarning=0\n"
   ]
  },
  {
   "cell_type": "code",
   "execution_count": null,
   "id": "e1019075",
   "metadata": {
    "ExecuteTime": {
     "end_time": "2023-08-24T02:03:49.016925Z",
     "start_time": "2023-08-24T02:03:48.866980Z"
    }
   },
   "outputs": [],
   "source": [
    "ls *.txt"
   ]
  },
  {
   "cell_type": "code",
   "execution_count": null,
   "id": "b6911cd2",
   "metadata": {
    "ExecuteTime": {
     "end_time": "2023-08-23T15:28:17.676645Z",
     "start_time": "2023-08-23T15:28:17.641403Z"
    }
   },
   "outputs": [],
   "source": [
    "with open('LAMOST_DR10_SDSS16_match.txt','w+') as f:\n",
    "    for index,mjd in enumerate(LAMOSTDR10_SDSS16['mjd']):\n",
    "        plate=LAMOSTDR10_SDSS16.loc[index,'plate']\n",
    "        fiberid=LAMOSTDR10_SDSS16.loc[index,'fiberid']        \n",
    "        f.write('%d,%d,%d \\n'%(plate,mjd,fiberid))"
   ]
  },
  {
   "cell_type": "code",
   "execution_count": null,
   "id": "365e854f",
   "metadata": {
    "ExecuteTime": {
     "end_time": "2023-09-02T11:43:29.251995Z",
     "start_time": "2023-09-02T11:43:28.940101Z"
    }
   },
   "outputs": [],
   "source": [
    "!open LAMOST_DR10_SDSS16_match.txt"
   ]
  },
  {
   "cell_type": "code",
   "execution_count": null,
   "id": "78bda2c1",
   "metadata": {
    "ExecuteTime": {
     "end_time": "2023-08-23T15:16:27.967203Z",
     "start_time": "2023-08-23T15:16:27.939940Z"
    }
   },
   "outputs": [],
   "source": [
    "LAMOSTDR10_SDSS16[LAMOSTDR10_SDSS16['zwarning']>16]"
   ]
  },
  {
   "cell_type": "markdown",
   "id": "c0040335",
   "metadata": {},
   "source": [
    "# [astroquery.sdss](https://astroquery.readthedocs.io/en/latest/sdss/sdss.html#downloading-data)"
   ]
  },
  {
   "cell_type": "markdown",
   "id": "ecc62078",
   "metadata": {},
   "source": [
    "The default data release is set to Data Release 17 (DR17), which is the final data release of the Sloan Digital Sky Survey IV. "
   ]
  },
  {
   "cell_type": "code",
   "execution_count": null,
   "id": "2e1fd314",
   "metadata": {
    "ExecuteTime": {
     "end_time": "2023-08-24T02:31:16.384095Z",
     "start_time": "2023-08-24T02:31:16.362601Z"
    }
   },
   "outputs": [],
   "source": [
    "from astroquery.sdss import SDSS\n",
    "from astropy import coordinates as coords\n",
    "from astropy import units as unit\n",
    "\n",
    "index=0\n",
    "ra=LAMOSTDR10_SDSS16.loc[index,'ra1']\n",
    "dec=LAMOSTDR10_SDSS16.loc[index,'dec1']\n",
    "\n",
    "plate=LAMOSTDR10_SDSS16.loc[index,'plate']\n",
    "mjd=LAMOSTDR10_SDSS16.loc[index,'mjd']\n",
    "fiberid=LAMOSTDR10_SDSS16.loc[index,'fiberid']\n",
    "\n",
    "print(plate,mjd,fiberid)\n",
    "\n",
    "specobjid=xid['specobjid'].value[index]\n",
    "\n",
    "print(specobjid)\n",
    "\n",
    "\n",
    "pos= coords.SkyCoord(ra,dec,unit=unit.deg , frame='icrs')\n",
    "xid = SDSS.query_region(pos, radius='2 arcsec', spectro=True)\n",
    "print(xid)"
   ]
  },
  {
   "cell_type": "code",
   "execution_count": null,
   "id": "d09d3edf",
   "metadata": {
    "ExecuteTime": {
     "end_time": "2023-08-24T02:24:14.364999Z",
     "start_time": "2023-08-24T02:24:14.355204Z"
    }
   },
   "outputs": [],
   "source": [
    "len(xid)"
   ]
  },
  {
   "cell_type": "code",
   "execution_count": null,
   "id": "c291c570",
   "metadata": {
    "ExecuteTime": {
     "end_time": "2023-08-24T02:27:47.998761Z",
     "start_time": "2023-08-24T02:27:45.946796Z"
    }
   },
   "outputs": [],
   "source": [
    "specs = SDSS.get_spectra(plate=LAMOSTDR10_SDSS16.loc[index,'plate'],\n",
    "                         mjd=LAMOSTDR10_SDSS16.loc[index,'mjd'],\n",
    "                        fiberID=LAMOSTDR10_SDSS16.loc[index,'fiberid']\n",
    ")"
   ]
  },
  {
   "cell_type": "code",
   "execution_count": null,
   "id": "38fc29cf",
   "metadata": {
    "ExecuteTime": {
     "end_time": "2023-08-24T02:27:52.131367Z",
     "start_time": "2023-08-24T02:27:52.103747Z"
    }
   },
   "outputs": [],
   "source": [
    "specs"
   ]
  },
  {
   "cell_type": "markdown",
   "id": "7cb372e6",
   "metadata": {
    "ExecuteTime": {
     "end_time": "2023-08-24T02:23:49.873192Z",
     "start_time": "2023-08-24T02:23:44.907738Z"
    }
   },
   "source": [
    "sp = SDSS.get_spectra(matches=xid)"
   ]
  },
  {
   "cell_type": "code",
   "execution_count": null,
   "id": "18044db2",
   "metadata": {},
   "outputs": [],
   "source": []
  },
  {
   "cell_type": "markdown",
   "id": "675cc942",
   "metadata": {},
   "source": [
    "# import sdss"
   ]
  },
  {
   "cell_type": "code",
   "execution_count": 6,
   "id": "6c3c01e7",
   "metadata": {
    "ExecuteTime": {
     "end_time": "2023-09-06T11:49:23.914637Z",
     "start_time": "2023-09-06T11:49:23.815476Z"
    }
   },
   "outputs": [],
   "source": [
    "import sdss"
   ]
  },
  {
   "cell_type": "markdown",
   "id": "791f4e5b",
   "metadata": {},
   "source": [
    "## path=SDSS_LAMOST_path"
   ]
  },
  {
   "cell_type": "code",
   "execution_count": 9,
   "id": "fc8f7e96",
   "metadata": {
    "ExecuteTime": {
     "end_time": "2023-09-06T11:49:29.145014Z",
     "start_time": "2023-09-06T11:49:29.139339Z"
    }
   },
   "outputs": [],
   "source": [
    "SDSS_LAMOST_path='/Volumes/ExtremeSSD/data_source/SDSSdata/LAMOST_matchSDSS/'\n",
    "\n",
    "os.chdir(SDSS_LAMOST_path)"
   ]
  },
  {
   "cell_type": "code",
   "execution_count": 10,
   "id": "c2dbb032",
   "metadata": {
    "ExecuteTime": {
     "end_time": "2023-09-06T11:49:30.391835Z",
     "start_time": "2023-09-06T11:49:30.378945Z"
    }
   },
   "outputs": [
    {
     "data": {
      "text/plain": [
       "'/Volumes/ExtremeSSD/data_source/SDSSdata/LAMOST_matchSDSS'"
      ]
     },
     "execution_count": 10,
     "metadata": {},
     "output_type": "execute_result"
    }
   ],
   "source": [
    "pwd"
   ]
  },
  {
   "cell_type": "code",
   "execution_count": 12,
   "id": "4c8424c2",
   "metadata": {
    "ExecuteTime": {
     "end_time": "2023-09-06T11:49:41.621467Z",
     "start_time": "2023-09-06T11:49:41.295467Z"
    }
   },
   "outputs": [
    {
     "name": "stdout",
     "output_type": "stream",
     "text": [
      "    2362\r\n"
     ]
    }
   ],
   "source": [
    "ls *.fits | wc -l"
   ]
  },
  {
   "cell_type": "code",
   "execution_count": null,
   "id": "ad25788e",
   "metadata": {
    "ExecuteTime": {
     "end_time": "2023-08-24T02:56:14.934229Z",
     "start_time": "2023-08-24T02:56:14.909211Z"
    }
   },
   "outputs": [],
   "source": [
    "LAMOSTDR10_SDSS16"
   ]
  },
  {
   "cell_type": "code",
   "execution_count": null,
   "id": "3ab96c24",
   "metadata": {
    "ExecuteTime": {
     "end_time": "2023-08-25T16:17:11.402776Z",
     "start_time": "2023-08-25T15:47:09.495136Z"
    }
   },
   "outputs": [],
   "source": [
    "for index,objid in enumerate(LAMOSTDR10_SDSS16['objid']): \n",
    "\n",
    "    ra=LAMOSTDR10_SDSS16.loc[index,'ra1']\n",
    "    dec=LAMOSTDR10_SDSS16.loc[index,'dec1']\n",
    "    plate=LAMOSTDR10_SDSS16.loc[index,'plate']\n",
    "    mjd=LAMOSTDR10_SDSS16.loc[index,'mjd']\n",
    "    fiberid=LAMOSTDR10_SDSS16.loc[index,'fiberid']\n",
    "\n",
    "    print(plate,mjd,fiberid)\n",
    "\n",
    "    filename = f\"spec-{str(plate).zfill(4)}-{str(mjd).zfill(5)}-{str(fiberid).zfill(4)}.fits\"\n",
    "    \n",
    "    if not os.path.exists(filename):\n",
    "        pos= coords.SkyCoord(ra,dec,unit=unit.deg , frame='icrs')\n",
    "        xid = SDSS.query_region(pos, radius='2 arcsec', spectro=True)\n",
    "        #print(xid)\n",
    "        if xid is not None:\n",
    "            for index,i in enumerate(xid['specobjid']):\n",
    "                if plate==xid['plate'].value[index] and mjd==xid['mjd'].value[index] and fiberid==xid['fiberID'].value[index]:\n",
    "\n",
    "                    specobjid=xid['specobjid'].value[index]\n",
    "                    print(specobjid)\n",
    "                    sp = sdss.SpecObj(int(specobjid))\n",
    "                    try:\n",
    "                        sp.download_spec(path=SDSS_LAMOST_path)\n",
    "                        print(sp.downloaded)\n",
    "                        time.sleep(1+np.random.randint(3,10))\n",
    "                    \n",
    "                    except Exception:\n",
    "                        print('not done for %s'%filename)\n",
    "     \n",
    "    else:\n",
    "        print(filename)\n",
    "        #time.sleep(2)\n",
    "        "
   ]
  },
  {
   "cell_type": "code",
   "execution_count": null,
   "id": "3627bd75",
   "metadata": {
    "ExecuteTime": {
     "end_time": "2023-08-25T16:17:11.404122Z",
     "start_time": "2023-08-25T16:17:11.404115Z"
    }
   },
   "outputs": [],
   "source": [
    "ls *.fits | wc -l"
   ]
  },
  {
   "cell_type": "code",
   "execution_count": null,
   "id": "47e4be46",
   "metadata": {},
   "outputs": [],
   "source": []
  },
  {
   "cell_type": "markdown",
   "id": "aec6690a",
   "metadata": {},
   "source": [
    "## download_sdss_spec"
   ]
  },
  {
   "cell_type": "code",
   "execution_count": 10,
   "id": "d3343f22",
   "metadata": {
    "ExecuteTime": {
     "end_time": "2023-09-02T11:44:53.965342Z",
     "start_time": "2023-09-02T11:44:53.958462Z"
    }
   },
   "outputs": [],
   "source": [
    "pd_lamost_dr10and11_matchsdssdr18= pd.read_csv('/Users/lyubing/Downloads/lamost_dr10and11_matchsdssdr18_brettlv.csv')"
   ]
  },
  {
   "cell_type": "code",
   "execution_count": 75,
   "id": "d38f3a75",
   "metadata": {
    "ExecuteTime": {
     "end_time": "2023-09-04T09:00:28.459189Z",
     "start_time": "2023-09-04T09:00:28.443806Z"
    }
   },
   "outputs": [
    {
     "data": {
      "text/plain": [
       "2797"
      ]
     },
     "execution_count": 75,
     "metadata": {},
     "output_type": "execute_result"
    }
   ],
   "source": [
    "len(pd_lamost_dr10and11_matchsdssdr18)"
   ]
  },
  {
   "cell_type": "code",
   "execution_count": 11,
   "id": "9f46d0ec",
   "metadata": {
    "ExecuteTime": {
     "end_time": "2023-09-02T11:44:58.076033Z",
     "start_time": "2023-09-02T11:44:58.066521Z"
    }
   },
   "outputs": [
    {
     "data": {
      "text/html": [
       "<div>\n",
       "<style scoped>\n",
       "    .dataframe tbody tr th:only-of-type {\n",
       "        vertical-align: middle;\n",
       "    }\n",
       "\n",
       "    .dataframe tbody tr th {\n",
       "        vertical-align: top;\n",
       "    }\n",
       "\n",
       "    .dataframe thead th {\n",
       "        text-align: right;\n",
       "    }\n",
       "</style>\n",
       "<table border=\"1\" class=\"dataframe\">\n",
       "  <thead>\n",
       "    <tr style=\"text-align: right;\">\n",
       "      <th></th>\n",
       "      <th>OBSID</th>\n",
       "      <th>ra1</th>\n",
       "      <th>dec1</th>\n",
       "      <th>distance</th>\n",
       "      <th>objid</th>\n",
       "      <th>ra2</th>\n",
       "      <th>dec2</th>\n",
       "      <th>z2</th>\n",
       "      <th>zwarning</th>\n",
       "      <th>class</th>\n",
       "      <th>specobjid</th>\n",
       "      <th>mjd</th>\n",
       "      <th>plate</th>\n",
       "      <th>fiberid</th>\n",
       "    </tr>\n",
       "  </thead>\n",
       "  <tbody>\n",
       "    <tr>\n",
       "      <th>0</th>\n",
       "      <td>999410131</td>\n",
       "      <td>176.4983</td>\n",
       "      <td>46.219310</td>\n",
       "      <td>0.010146</td>\n",
       "      <td>1237660634390986757</td>\n",
       "      <td>176.49813</td>\n",
       "      <td>46.219213</td>\n",
       "      <td>0.154070</td>\n",
       "      <td>0</td>\n",
       "      <td>QSO</td>\n",
       "      <td>8336305410702333952</td>\n",
       "      <td>56776</td>\n",
       "      <td>7404</td>\n",
       "      <td>518</td>\n",
       "    </tr>\n",
       "    <tr>\n",
       "      <th>1</th>\n",
       "      <td>1110506014</td>\n",
       "      <td>151.0841</td>\n",
       "      <td>5.216814</td>\n",
       "      <td>0.013674</td>\n",
       "      <td>1237658422476144713</td>\n",
       "      <td>151.08391</td>\n",
       "      <td>5.216787</td>\n",
       "      <td>0.160116</td>\n",
       "      <td>0</td>\n",
       "      <td>QSO</td>\n",
       "      <td>1120271552638642176</td>\n",
       "      <td>52731</td>\n",
       "      <td>995</td>\n",
       "      <td>4</td>\n",
       "    </tr>\n",
       "    <tr>\n",
       "      <th>2</th>\n",
       "      <td>1116906014</td>\n",
       "      <td>151.0841</td>\n",
       "      <td>5.216814</td>\n",
       "      <td>0.013674</td>\n",
       "      <td>1237658422476144713</td>\n",
       "      <td>151.08391</td>\n",
       "      <td>5.216787</td>\n",
       "      <td>0.160116</td>\n",
       "      <td>0</td>\n",
       "      <td>QSO</td>\n",
       "      <td>1120271552638642176</td>\n",
       "      <td>52731</td>\n",
       "      <td>995</td>\n",
       "      <td>4</td>\n",
       "    </tr>\n",
       "    <tr>\n",
       "      <th>3</th>\n",
       "      <td>1001709135</td>\n",
       "      <td>215.7805</td>\n",
       "      <td>11.807350</td>\n",
       "      <td>0.000901</td>\n",
       "      <td>1237662528456294420</td>\n",
       "      <td>215.78047</td>\n",
       "      <td>11.807354</td>\n",
       "      <td>0.160683</td>\n",
       "      <td>0</td>\n",
       "      <td>QSO</td>\n",
       "      <td>1922050569258690560</td>\n",
       "      <td>53885</td>\n",
       "      <td>1707</td>\n",
       "      <td>507</td>\n",
       "    </tr>\n",
       "    <tr>\n",
       "      <th>4</th>\n",
       "      <td>965909039</td>\n",
       "      <td>192.3824</td>\n",
       "      <td>52.510960</td>\n",
       "      <td>0.011062</td>\n",
       "      <td>1237662302428463129</td>\n",
       "      <td>192.38217</td>\n",
       "      <td>52.510867</td>\n",
       "      <td>0.161770</td>\n",
       "      <td>0</td>\n",
       "      <td>QSO</td>\n",
       "      <td>9257303365238675456</td>\n",
       "      <td>57431</td>\n",
       "      <td>8222</td>\n",
       "      <td>561</td>\n",
       "    </tr>\n",
       "  </tbody>\n",
       "</table>\n",
       "</div>"
      ],
      "text/plain": [
       "        OBSID       ra1       dec1  distance                objid        ra2  \\\n",
       "0   999410131  176.4983  46.219310  0.010146  1237660634390986757  176.49813   \n",
       "1  1110506014  151.0841   5.216814  0.013674  1237658422476144713  151.08391   \n",
       "2  1116906014  151.0841   5.216814  0.013674  1237658422476144713  151.08391   \n",
       "3  1001709135  215.7805  11.807350  0.000901  1237662528456294420  215.78047   \n",
       "4   965909039  192.3824  52.510960  0.011062  1237662302428463129  192.38217   \n",
       "\n",
       "        dec2        z2  zwarning class            specobjid    mjd  plate  \\\n",
       "0  46.219213  0.154070         0   QSO  8336305410702333952  56776   7404   \n",
       "1   5.216787  0.160116         0   QSO  1120271552638642176  52731    995   \n",
       "2   5.216787  0.160116         0   QSO  1120271552638642176  52731    995   \n",
       "3  11.807354  0.160683         0   QSO  1922050569258690560  53885   1707   \n",
       "4  52.510867  0.161770         0   QSO  9257303365238675456  57431   8222   \n",
       "\n",
       "   fiberid  \n",
       "0      518  \n",
       "1        4  \n",
       "2        4  \n",
       "3      507  \n",
       "4      561  "
      ]
     },
     "execution_count": 11,
     "metadata": {},
     "output_type": "execute_result"
    }
   ],
   "source": [
    "pd_lamost_dr10and11_matchsdssdr18.head()"
   ]
  },
  {
   "cell_type": "code",
   "execution_count": 67,
   "id": "10457736",
   "metadata": {
    "ExecuteTime": {
     "end_time": "2023-09-04T07:48:19.220358Z",
     "start_time": "2023-09-04T07:48:19.216821Z"
    }
   },
   "outputs": [],
   "source": [
    "pd_lamost_dr10and11_matchsdssdr18_galaxy=pd_lamost_dr10and11_matchsdssdr18[pd_lamost_dr10and11_matchsdssdr18['class']=='GALAXY']\n",
    "pd_lamost_dr10and11_matchsdssdr18_galaxy=drop_index(pd_lamost_dr10and11_matchsdssdr18_galaxy)"
   ]
  },
  {
   "cell_type": "code",
   "execution_count": 68,
   "id": "25fba46e",
   "metadata": {
    "ExecuteTime": {
     "end_time": "2023-09-04T07:48:19.687035Z",
     "start_time": "2023-09-04T07:48:19.673320Z"
    }
   },
   "outputs": [
    {
     "data": {
      "text/html": [
       "<div>\n",
       "<style scoped>\n",
       "    .dataframe tbody tr th:only-of-type {\n",
       "        vertical-align: middle;\n",
       "    }\n",
       "\n",
       "    .dataframe tbody tr th {\n",
       "        vertical-align: top;\n",
       "    }\n",
       "\n",
       "    .dataframe thead th {\n",
       "        text-align: right;\n",
       "    }\n",
       "</style>\n",
       "<table border=\"1\" class=\"dataframe\">\n",
       "  <thead>\n",
       "    <tr style=\"text-align: right;\">\n",
       "      <th></th>\n",
       "      <th>OBSID</th>\n",
       "      <th>ra1</th>\n",
       "      <th>dec1</th>\n",
       "      <th>distance</th>\n",
       "      <th>objid</th>\n",
       "      <th>ra2</th>\n",
       "      <th>dec2</th>\n",
       "      <th>z2</th>\n",
       "      <th>zwarning</th>\n",
       "      <th>class</th>\n",
       "      <th>specobjid</th>\n",
       "      <th>mjd</th>\n",
       "      <th>plate</th>\n",
       "      <th>fiberid</th>\n",
       "    </tr>\n",
       "  </thead>\n",
       "  <tbody>\n",
       "    <tr>\n",
       "      <th>0</th>\n",
       "      <td>1087015074</td>\n",
       "      <td>152.01960</td>\n",
       "      <td>22.224110</td>\n",
       "      <td>0.000267</td>\n",
       "      <td>1237667542828318989</td>\n",
       "      <td>152.019640</td>\n",
       "      <td>22.224118</td>\n",
       "      <td>0.021030</td>\n",
       "      <td>0</td>\n",
       "      <td>GALAXY</td>\n",
       "      <td>2661772028251498496</td>\n",
       "      <td>53737</td>\n",
       "      <td>2364</td>\n",
       "      <td>526</td>\n",
       "    </tr>\n",
       "    <tr>\n",
       "      <th>1</th>\n",
       "      <td>989204219</td>\n",
       "      <td>140.52360</td>\n",
       "      <td>21.981480</td>\n",
       "      <td>0.000145</td>\n",
       "      <td>1237667211048583252</td>\n",
       "      <td>140.523570</td>\n",
       "      <td>21.981480</td>\n",
       "      <td>0.034612</td>\n",
       "      <td>0</td>\n",
       "      <td>GALAXY</td>\n",
       "      <td>2578355104541337600</td>\n",
       "      <td>53727</td>\n",
       "      <td>2290</td>\n",
       "      <td>161</td>\n",
       "    </tr>\n",
       "    <tr>\n",
       "      <th>2</th>\n",
       "      <td>979206028</td>\n",
       "      <td>232.37930</td>\n",
       "      <td>12.540200</td>\n",
       "      <td>0.001960</td>\n",
       "      <td>1237668350290886779</td>\n",
       "      <td>232.379330</td>\n",
       "      <td>12.540199</td>\n",
       "      <td>0.020664</td>\n",
       "      <td>0</td>\n",
       "      <td>GALAXY</td>\n",
       "      <td>3116569903654529024</td>\n",
       "      <td>54265</td>\n",
       "      <td>2768</td>\n",
       "      <td>287</td>\n",
       "    </tr>\n",
       "    <tr>\n",
       "      <th>3</th>\n",
       "      <td>1109103124</td>\n",
       "      <td>132.96360</td>\n",
       "      <td>48.589050</td>\n",
       "      <td>0.000074</td>\n",
       "      <td>1237654381438959833</td>\n",
       "      <td>132.963750</td>\n",
       "      <td>48.589063</td>\n",
       "      <td>0.052354</td>\n",
       "      <td>0</td>\n",
       "      <td>GALAXY</td>\n",
       "      <td>860277726328678400</td>\n",
       "      <td>52238</td>\n",
       "      <td>764</td>\n",
       "      <td>328</td>\n",
       "    </tr>\n",
       "    <tr>\n",
       "      <th>4</th>\n",
       "      <td>1088308088</td>\n",
       "      <td>167.21820</td>\n",
       "      <td>25.585940</td>\n",
       "      <td>0.000156</td>\n",
       "      <td>1237667322176274458</td>\n",
       "      <td>167.218250</td>\n",
       "      <td>25.585934</td>\n",
       "      <td>0.062178</td>\n",
       "      <td>0</td>\n",
       "      <td>GALAXY</td>\n",
       "      <td>2490503027010594816</td>\n",
       "      <td>53789</td>\n",
       "      <td>2212</td>\n",
       "      <td>45</td>\n",
       "    </tr>\n",
       "    <tr>\n",
       "      <th>5</th>\n",
       "      <td>1088315067</td>\n",
       "      <td>164.90790</td>\n",
       "      <td>26.602620</td>\n",
       "      <td>0.000341</td>\n",
       "      <td>1237667323786035308</td>\n",
       "      <td>164.907920</td>\n",
       "      <td>26.602627</td>\n",
       "      <td>0.045125</td>\n",
       "      <td>0</td>\n",
       "      <td>GALAXY</td>\n",
       "      <td>2653901724959401984</td>\n",
       "      <td>53793</td>\n",
       "      <td>2357</td>\n",
       "      <td>566</td>\n",
       "    </tr>\n",
       "    <tr>\n",
       "      <th>6</th>\n",
       "      <td>1087115067</td>\n",
       "      <td>196.03050</td>\n",
       "      <td>25.725150</td>\n",
       "      <td>0.000925</td>\n",
       "      <td>1237667448881676371</td>\n",
       "      <td>196.030470</td>\n",
       "      <td>25.725145</td>\n",
       "      <td>0.024227</td>\n",
       "      <td>0</td>\n",
       "      <td>GALAXY</td>\n",
       "      <td>2997291312887130112</td>\n",
       "      <td>54505</td>\n",
       "      <td>2662</td>\n",
       "      <td>530</td>\n",
       "    </tr>\n",
       "    <tr>\n",
       "      <th>7</th>\n",
       "      <td>989514041</td>\n",
       "      <td>155.04730</td>\n",
       "      <td>1.512766</td>\n",
       "      <td>0.000181</td>\n",
       "      <td>1237651752925659474</td>\n",
       "      <td>155.047300</td>\n",
       "      <td>1.512755</td>\n",
       "      <td>0.045227</td>\n",
       "      <td>0</td>\n",
       "      <td>GALAXY</td>\n",
       "      <td>566362321295796224</td>\n",
       "      <td>51999</td>\n",
       "      <td>503</td>\n",
       "      <td>126</td>\n",
       "    </tr>\n",
       "    <tr>\n",
       "      <th>8</th>\n",
       "      <td>998302104</td>\n",
       "      <td>182.06340</td>\n",
       "      <td>15.054310</td>\n",
       "      <td>0.000099</td>\n",
       "      <td>1237661069798867065</td>\n",
       "      <td>182.063380</td>\n",
       "      <td>15.054299</td>\n",
       "      <td>0.084308</td>\n",
       "      <td>0</td>\n",
       "      <td>GALAXY</td>\n",
       "      <td>1986251595947468800</td>\n",
       "      <td>53467</td>\n",
       "      <td>1764</td>\n",
       "      <td>597</td>\n",
       "    </tr>\n",
       "    <tr>\n",
       "      <th>9</th>\n",
       "      <td>1089407177</td>\n",
       "      <td>173.42930</td>\n",
       "      <td>16.342690</td>\n",
       "      <td>0.000083</td>\n",
       "      <td>1237668494707064897</td>\n",
       "      <td>173.429270</td>\n",
       "      <td>16.342690</td>\n",
       "      <td>0.067486</td>\n",
       "      <td>0</td>\n",
       "      <td>GALAXY</td>\n",
       "      <td>2818197900264237056</td>\n",
       "      <td>53856</td>\n",
       "      <td>2503</td>\n",
       "      <td>256</td>\n",
       "    </tr>\n",
       "    <tr>\n",
       "      <th>10</th>\n",
       "      <td>1090008218</td>\n",
       "      <td>154.70010</td>\n",
       "      <td>0.385145</td>\n",
       "      <td>0.000189</td>\n",
       "      <td>1237648721756553329</td>\n",
       "      <td>154.700070</td>\n",
       "      <td>0.385176</td>\n",
       "      <td>0.070952</td>\n",
       "      <td>0</td>\n",
       "      <td>GALAXY</td>\n",
       "      <td>305257169933068288</td>\n",
       "      <td>51883</td>\n",
       "      <td>271</td>\n",
       "      <td>503</td>\n",
       "    </tr>\n",
       "    <tr>\n",
       "      <th>11</th>\n",
       "      <td>1000713133</td>\n",
       "      <td>237.57510</td>\n",
       "      <td>4.731083</td>\n",
       "      <td>0.000082</td>\n",
       "      <td>1237655744024347033</td>\n",
       "      <td>237.575120</td>\n",
       "      <td>4.731085</td>\n",
       "      <td>0.077501</td>\n",
       "      <td>0</td>\n",
       "      <td>GALAXY</td>\n",
       "      <td>3322636805005666304</td>\n",
       "      <td>54592</td>\n",
       "      <td>2951</td>\n",
       "      <td>386</td>\n",
       "    </tr>\n",
       "    <tr>\n",
       "      <th>12</th>\n",
       "      <td>995808004</td>\n",
       "      <td>190.06470</td>\n",
       "      <td>3.423427</td>\n",
       "      <td>0.002391</td>\n",
       "      <td>1237651755088478316</td>\n",
       "      <td>190.064690</td>\n",
       "      <td>3.423434</td>\n",
       "      <td>0.083899</td>\n",
       "      <td>0</td>\n",
       "      <td>GALAXY</td>\n",
       "      <td>586718685058590720</td>\n",
       "      <td>52326</td>\n",
       "      <td>521</td>\n",
       "      <td>454</td>\n",
       "    </tr>\n",
       "    <tr>\n",
       "      <th>13</th>\n",
       "      <td>1048208035</td>\n",
       "      <td>36.53415</td>\n",
       "      <td>-0.888547</td>\n",
       "      <td>0.001415</td>\n",
       "      <td>1237666406847807515</td>\n",
       "      <td>36.534168</td>\n",
       "      <td>-0.888565</td>\n",
       "      <td>0.106452</td>\n",
       "      <td>0</td>\n",
       "      <td>GALAXY</td>\n",
       "      <td>457127488682747904</td>\n",
       "      <td>51900</td>\n",
       "      <td>406</td>\n",
       "      <td>44</td>\n",
       "    </tr>\n",
       "    <tr>\n",
       "      <th>14</th>\n",
       "      <td>966402054</td>\n",
       "      <td>155.18620</td>\n",
       "      <td>16.043530</td>\n",
       "      <td>0.042244</td>\n",
       "      <td>1237671262281924861</td>\n",
       "      <td>155.185480</td>\n",
       "      <td>16.043651</td>\n",
       "      <td>0.496715</td>\n",
       "      <td>0</td>\n",
       "      <td>GALAXY</td>\n",
       "      <td>6009008992248158208</td>\n",
       "      <td>55987</td>\n",
       "      <td>5337</td>\n",
       "      <td>295</td>\n",
       "    </tr>\n",
       "    <tr>\n",
       "      <th>15</th>\n",
       "      <td>1011114063</td>\n",
       "      <td>249.18930</td>\n",
       "      <td>46.331850</td>\n",
       "      <td>0.001307</td>\n",
       "      <td>1237651714798518482</td>\n",
       "      <td>249.189320</td>\n",
       "      <td>46.331862</td>\n",
       "      <td>0.070423</td>\n",
       "      <td>0</td>\n",
       "      <td>GALAXY</td>\n",
       "      <td>705979959490930688</td>\n",
       "      <td>52144</td>\n",
       "      <td>627</td>\n",
       "      <td>148</td>\n",
       "    </tr>\n",
       "    <tr>\n",
       "      <th>16</th>\n",
       "      <td>979704176</td>\n",
       "      <td>159.36010</td>\n",
       "      <td>5.686029</td>\n",
       "      <td>0.000065</td>\n",
       "      <td>1237658297923797220</td>\n",
       "      <td>159.360140</td>\n",
       "      <td>5.686030</td>\n",
       "      <td>0.080256</td>\n",
       "      <td>0</td>\n",
       "      <td>GALAXY</td>\n",
       "      <td>1125978841144125440</td>\n",
       "      <td>52643</td>\n",
       "      <td>1000</td>\n",
       "      <td>287</td>\n",
       "    </tr>\n",
       "    <tr>\n",
       "      <th>17</th>\n",
       "      <td>995803175</td>\n",
       "      <td>188.59670</td>\n",
       "      <td>4.491392</td>\n",
       "      <td>0.000322</td>\n",
       "      <td>1237654879651758218</td>\n",
       "      <td>188.596690</td>\n",
       "      <td>4.491367</td>\n",
       "      <td>0.079630</td>\n",
       "      <td>0</td>\n",
       "      <td>GALAXY</td>\n",
       "      <td>952598772746053632</td>\n",
       "      <td>52407</td>\n",
       "      <td>846</td>\n",
       "      <td>318</td>\n",
       "    </tr>\n",
       "    <tr>\n",
       "      <th>18</th>\n",
       "      <td>998903003</td>\n",
       "      <td>188.71860</td>\n",
       "      <td>38.841330</td>\n",
       "      <td>0.000153</td>\n",
       "      <td>1237662223531901064</td>\n",
       "      <td>188.718570</td>\n",
       "      <td>38.841328</td>\n",
       "      <td>0.223587</td>\n",
       "      <td>0</td>\n",
       "      <td>GALAXY</td>\n",
       "      <td>2251896354466981888</td>\n",
       "      <td>53495</td>\n",
       "      <td>2000</td>\n",
       "      <td>351</td>\n",
       "    </tr>\n",
       "    <tr>\n",
       "      <th>19</th>\n",
       "      <td>1073316040</td>\n",
       "      <td>139.91780</td>\n",
       "      <td>44.617710</td>\n",
       "      <td>0.000109</td>\n",
       "      <td>1237657400809095184</td>\n",
       "      <td>139.917800</td>\n",
       "      <td>44.617710</td>\n",
       "      <td>0.218114</td>\n",
       "      <td>0</td>\n",
       "      <td>GALAXY</td>\n",
       "      <td>937952176792168448</td>\n",
       "      <td>52314</td>\n",
       "      <td>833</td>\n",
       "      <td>282</td>\n",
       "    </tr>\n",
       "    <tr>\n",
       "      <th>20</th>\n",
       "      <td>995406144</td>\n",
       "      <td>226.78000</td>\n",
       "      <td>26.380360</td>\n",
       "      <td>0.000077</td>\n",
       "      <td>1237665126949388390</td>\n",
       "      <td>226.780010</td>\n",
       "      <td>26.380341</td>\n",
       "      <td>0.130256</td>\n",
       "      <td>0</td>\n",
       "      <td>GALAXY</td>\n",
       "      <td>2425259668868720640</td>\n",
       "      <td>54539</td>\n",
       "      <td>2154</td>\n",
       "      <td>259</td>\n",
       "    </tr>\n",
       "    <tr>\n",
       "      <th>21</th>\n",
       "      <td>965312106</td>\n",
       "      <td>150.63260</td>\n",
       "      <td>39.365610</td>\n",
       "      <td>0.000248</td>\n",
       "      <td>1237661850921205857</td>\n",
       "      <td>150.632600</td>\n",
       "      <td>39.365617</td>\n",
       "      <td>0.143288</td>\n",
       "      <td>0</td>\n",
       "      <td>GALAXY</td>\n",
       "      <td>1526783821360424960</td>\n",
       "      <td>53033</td>\n",
       "      <td>1356</td>\n",
       "      <td>231</td>\n",
       "    </tr>\n",
       "    <tr>\n",
       "      <th>22</th>\n",
       "      <td>998901170</td>\n",
       "      <td>189.90440</td>\n",
       "      <td>36.881970</td>\n",
       "      <td>0.001362</td>\n",
       "      <td>1237664818216173635</td>\n",
       "      <td>189.904370</td>\n",
       "      <td>36.881996</td>\n",
       "      <td>0.167152</td>\n",
       "      <td>0</td>\n",
       "      <td>GALAXY</td>\n",
       "      <td>2276661210185230336</td>\n",
       "      <td>53827</td>\n",
       "      <td>2022</td>\n",
       "      <td>333</td>\n",
       "    </tr>\n",
       "    <tr>\n",
       "      <th>23</th>\n",
       "      <td>1072403163</td>\n",
       "      <td>144.37630</td>\n",
       "      <td>26.042260</td>\n",
       "      <td>0.000889</td>\n",
       "      <td>1237665369034653847</td>\n",
       "      <td>144.376350</td>\n",
       "      <td>26.042256</td>\n",
       "      <td>0.162194</td>\n",
       "      <td>0</td>\n",
       "      <td>GALAXY</td>\n",
       "      <td>2582989284545947648</td>\n",
       "      <td>54524</td>\n",
       "      <td>2294</td>\n",
       "      <td>636</td>\n",
       "    </tr>\n",
       "    <tr>\n",
       "      <th>24</th>\n",
       "      <td>1087007145</td>\n",
       "      <td>154.45680</td>\n",
       "      <td>19.370620</td>\n",
       "      <td>0.001174</td>\n",
       "      <td>1237667782285328532</td>\n",
       "      <td>154.456800</td>\n",
       "      <td>19.370617</td>\n",
       "      <td>0.210166</td>\n",
       "      <td>0</td>\n",
       "      <td>GALAXY</td>\n",
       "      <td>2671767414101796864</td>\n",
       "      <td>53768</td>\n",
       "      <td>2373</td>\n",
       "      <td>25</td>\n",
       "    </tr>\n",
       "    <tr>\n",
       "      <th>25</th>\n",
       "      <td>1073403016</td>\n",
       "      <td>162.44870</td>\n",
       "      <td>13.083780</td>\n",
       "      <td>0.000441</td>\n",
       "      <td>1237661068716736643</td>\n",
       "      <td>162.448710</td>\n",
       "      <td>13.083780</td>\n",
       "      <td>0.096295</td>\n",
       "      <td>0</td>\n",
       "      <td>GALAXY</td>\n",
       "      <td>1969215211185399808</td>\n",
       "      <td>53357</td>\n",
       "      <td>1749</td>\n",
       "      <td>59</td>\n",
       "    </tr>\n",
       "    <tr>\n",
       "      <th>26</th>\n",
       "      <td>1083001076</td>\n",
       "      <td>151.27740</td>\n",
       "      <td>37.824040</td>\n",
       "      <td>0.000120</td>\n",
       "      <td>1237661383848427594</td>\n",
       "      <td>151.277410</td>\n",
       "      <td>37.824037</td>\n",
       "      <td>0.112146</td>\n",
       "      <td>0</td>\n",
       "      <td>GALAXY</td>\n",
       "      <td>5142090521435723776</td>\n",
       "      <td>55589</td>\n",
       "      <td>4567</td>\n",
       "      <td>384</td>\n",
       "    </tr>\n",
       "    <tr>\n",
       "      <th>27</th>\n",
       "      <td>989507134</td>\n",
       "      <td>158.74540</td>\n",
       "      <td>-0.592820</td>\n",
       "      <td>0.000112</td>\n",
       "      <td>1237648720684581000</td>\n",
       "      <td>158.745400</td>\n",
       "      <td>-0.592816</td>\n",
       "      <td>0.115168</td>\n",
       "      <td>0</td>\n",
       "      <td>GALAXY</td>\n",
       "      <td>307400119337117696</td>\n",
       "      <td>51957</td>\n",
       "      <td>273</td>\n",
       "      <td>107</td>\n",
       "    </tr>\n",
       "    <tr>\n",
       "      <th>28</th>\n",
       "      <td>1048212176</td>\n",
       "      <td>36.99159</td>\n",
       "      <td>1.099038</td>\n",
       "      <td>0.000082</td>\n",
       "      <td>1237678437015158966</td>\n",
       "      <td>36.991589</td>\n",
       "      <td>1.099022</td>\n",
       "      <td>0.128486</td>\n",
       "      <td>0</td>\n",
       "      <td>GALAXY</td>\n",
       "      <td>457284993320773632</td>\n",
       "      <td>51876</td>\n",
       "      <td>406</td>\n",
       "      <td>617</td>\n",
       "    </tr>\n",
       "    <tr>\n",
       "      <th>29</th>\n",
       "      <td>1089303093</td>\n",
       "      <td>153.00010</td>\n",
       "      <td>1.643947</td>\n",
       "      <td>0.000170</td>\n",
       "      <td>1237651735745134704</td>\n",
       "      <td>153.000100</td>\n",
       "      <td>1.643942</td>\n",
       "      <td>0.121715</td>\n",
       "      <td>0</td>\n",
       "      <td>GALAXY</td>\n",
       "      <td>565245766533146624</td>\n",
       "      <td>51957</td>\n",
       "      <td>502</td>\n",
       "      <td>160</td>\n",
       "    </tr>\n",
       "    <tr>\n",
       "      <th>30</th>\n",
       "      <td>995909018</td>\n",
       "      <td>215.84040</td>\n",
       "      <td>53.378540</td>\n",
       "      <td>0.000088</td>\n",
       "      <td>1237661387068670150</td>\n",
       "      <td>215.840430</td>\n",
       "      <td>53.378537</td>\n",
       "      <td>0.272558</td>\n",
       "      <td>0</td>\n",
       "      <td>GALAXY</td>\n",
       "      <td>8264375086158731264</td>\n",
       "      <td>56837</td>\n",
       "      <td>7340</td>\n",
       "      <td>981</td>\n",
       "    </tr>\n",
       "    <tr>\n",
       "      <th>31</th>\n",
       "      <td>1048214057</td>\n",
       "      <td>33.97822</td>\n",
       "      <td>-0.809297</td>\n",
       "      <td>0.001327</td>\n",
       "      <td>1237663783138492618</td>\n",
       "      <td>33.978215</td>\n",
       "      <td>-0.809300</td>\n",
       "      <td>0.290990</td>\n",
       "      <td>0</td>\n",
       "      <td>GALAXY</td>\n",
       "      <td>1208117582519887872</td>\n",
       "      <td>52649</td>\n",
       "      <td>1073</td>\n",
       "      <td>98</td>\n",
       "    </tr>\n",
       "    <tr>\n",
       "      <th>32</th>\n",
       "      <td>1048203118</td>\n",
       "      <td>34.21863</td>\n",
       "      <td>-0.393159</td>\n",
       "      <td>0.043570</td>\n",
       "      <td>1237663783675494498</td>\n",
       "      <td>34.218082</td>\n",
       "      <td>-0.393647</td>\n",
       "      <td>0.304786</td>\n",
       "      <td>0</td>\n",
       "      <td>GALAXY</td>\n",
       "      <td>4770573786885150720</td>\n",
       "      <td>55478</td>\n",
       "      <td>4237</td>\n",
       "      <td>494</td>\n",
       "    </tr>\n",
       "    <tr>\n",
       "      <th>33</th>\n",
       "      <td>977501117</td>\n",
       "      <td>181.88630</td>\n",
       "      <td>-1.638722</td>\n",
       "      <td>0.001478</td>\n",
       "      <td>1237650762928226406</td>\n",
       "      <td>181.886300</td>\n",
       "      <td>-1.638722</td>\n",
       "      <td>0.323525</td>\n",
       "      <td>0</td>\n",
       "      <td>GALAXY</td>\n",
       "      <td>373887594347390976</td>\n",
       "      <td>52367</td>\n",
       "      <td>332</td>\n",
       "      <td>323</td>\n",
       "    </tr>\n",
       "    <tr>\n",
       "      <th>34</th>\n",
       "      <td>997813180</td>\n",
       "      <td>213.09450</td>\n",
       "      <td>13.815120</td>\n",
       "      <td>0.000058</td>\n",
       "      <td>1237662530602533043</td>\n",
       "      <td>213.094490</td>\n",
       "      <td>13.815129</td>\n",
       "      <td>0.138212</td>\n",
       "      <td>0</td>\n",
       "      <td>GALAXY</td>\n",
       "      <td>1920891676570707968</td>\n",
       "      <td>53442</td>\n",
       "      <td>1706</td>\n",
       "      <td>387</td>\n",
       "    </tr>\n",
       "    <tr>\n",
       "      <th>35</th>\n",
       "      <td>995213202</td>\n",
       "      <td>190.29210</td>\n",
       "      <td>10.695470</td>\n",
       "      <td>0.002161</td>\n",
       "      <td>1237662238542463087</td>\n",
       "      <td>190.292090</td>\n",
       "      <td>10.695466</td>\n",
       "      <td>0.156132</td>\n",
       "      <td>0</td>\n",
       "      <td>GALAXY</td>\n",
       "      <td>1388402581407033344</td>\n",
       "      <td>52734</td>\n",
       "      <td>1233</td>\n",
       "      <td>611</td>\n",
       "    </tr>\n",
       "    <tr>\n",
       "      <th>36</th>\n",
       "      <td>974211150</td>\n",
       "      <td>203.66080</td>\n",
       "      <td>10.588650</td>\n",
       "      <td>0.000376</td>\n",
       "      <td>1237662239085101147</td>\n",
       "      <td>203.660830</td>\n",
       "      <td>10.588647</td>\n",
       "      <td>0.160237</td>\n",
       "      <td>0</td>\n",
       "      <td>GALAXY</td>\n",
       "      <td>2028970928234326016</td>\n",
       "      <td>53885</td>\n",
       "      <td>1802</td>\n",
       "      <td>361</td>\n",
       "    </tr>\n",
       "    <tr>\n",
       "      <th>37</th>\n",
       "      <td>979710017</td>\n",
       "      <td>157.14010</td>\n",
       "      <td>5.825406</td>\n",
       "      <td>0.000337</td>\n",
       "      <td>1237658298459685032</td>\n",
       "      <td>157.140150</td>\n",
       "      <td>5.825410</td>\n",
       "      <td>0.149738</td>\n",
       "      <td>0</td>\n",
       "      <td>GALAXY</td>\n",
       "      <td>1123648977800030208</td>\n",
       "      <td>52750</td>\n",
       "      <td>998</td>\n",
       "      <td>3</td>\n",
       "    </tr>\n",
       "    <tr>\n",
       "      <th>38</th>\n",
       "      <td>1071903104</td>\n",
       "      <td>161.71540</td>\n",
       "      <td>13.918030</td>\n",
       "      <td>0.000354</td>\n",
       "      <td>1237661069790216327</td>\n",
       "      <td>161.715460</td>\n",
       "      <td>13.918024</td>\n",
       "      <td>0.195288</td>\n",
       "      <td>0</td>\n",
       "      <td>GALAXY</td>\n",
       "      <td>1969333958441199616</td>\n",
       "      <td>53357</td>\n",
       "      <td>1749</td>\n",
       "      <td>491</td>\n",
       "    </tr>\n",
       "    <tr>\n",
       "      <th>39</th>\n",
       "      <td>1073403104</td>\n",
       "      <td>161.71540</td>\n",
       "      <td>13.918030</td>\n",
       "      <td>0.000354</td>\n",
       "      <td>1237661069790216327</td>\n",
       "      <td>161.715460</td>\n",
       "      <td>13.918024</td>\n",
       "      <td>0.195288</td>\n",
       "      <td>0</td>\n",
       "      <td>GALAXY</td>\n",
       "      <td>1969333958441199616</td>\n",
       "      <td>53357</td>\n",
       "      <td>1749</td>\n",
       "      <td>491</td>\n",
       "    </tr>\n",
       "    <tr>\n",
       "      <th>40</th>\n",
       "      <td>1048211180</td>\n",
       "      <td>35.33269</td>\n",
       "      <td>0.941207</td>\n",
       "      <td>0.003306</td>\n",
       "      <td>1237678617433276705</td>\n",
       "      <td>35.332692</td>\n",
       "      <td>0.941207</td>\n",
       "      <td>0.400065</td>\n",
       "      <td>0</td>\n",
       "      <td>GALAXY</td>\n",
       "      <td>457214899857156096</td>\n",
       "      <td>51900</td>\n",
       "      <td>406</td>\n",
       "      <td>362</td>\n",
       "    </tr>\n",
       "  </tbody>\n",
       "</table>\n",
       "</div>"
      ],
      "text/plain": [
       "         OBSID        ra1       dec1  distance                objid  \\\n",
       "0   1087015074  152.01960  22.224110  0.000267  1237667542828318989   \n",
       "1    989204219  140.52360  21.981480  0.000145  1237667211048583252   \n",
       "2    979206028  232.37930  12.540200  0.001960  1237668350290886779   \n",
       "3   1109103124  132.96360  48.589050  0.000074  1237654381438959833   \n",
       "4   1088308088  167.21820  25.585940  0.000156  1237667322176274458   \n",
       "5   1088315067  164.90790  26.602620  0.000341  1237667323786035308   \n",
       "6   1087115067  196.03050  25.725150  0.000925  1237667448881676371   \n",
       "7    989514041  155.04730   1.512766  0.000181  1237651752925659474   \n",
       "8    998302104  182.06340  15.054310  0.000099  1237661069798867065   \n",
       "9   1089407177  173.42930  16.342690  0.000083  1237668494707064897   \n",
       "10  1090008218  154.70010   0.385145  0.000189  1237648721756553329   \n",
       "11  1000713133  237.57510   4.731083  0.000082  1237655744024347033   \n",
       "12   995808004  190.06470   3.423427  0.002391  1237651755088478316   \n",
       "13  1048208035   36.53415  -0.888547  0.001415  1237666406847807515   \n",
       "14   966402054  155.18620  16.043530  0.042244  1237671262281924861   \n",
       "15  1011114063  249.18930  46.331850  0.001307  1237651714798518482   \n",
       "16   979704176  159.36010   5.686029  0.000065  1237658297923797220   \n",
       "17   995803175  188.59670   4.491392  0.000322  1237654879651758218   \n",
       "18   998903003  188.71860  38.841330  0.000153  1237662223531901064   \n",
       "19  1073316040  139.91780  44.617710  0.000109  1237657400809095184   \n",
       "20   995406144  226.78000  26.380360  0.000077  1237665126949388390   \n",
       "21   965312106  150.63260  39.365610  0.000248  1237661850921205857   \n",
       "22   998901170  189.90440  36.881970  0.001362  1237664818216173635   \n",
       "23  1072403163  144.37630  26.042260  0.000889  1237665369034653847   \n",
       "24  1087007145  154.45680  19.370620  0.001174  1237667782285328532   \n",
       "25  1073403016  162.44870  13.083780  0.000441  1237661068716736643   \n",
       "26  1083001076  151.27740  37.824040  0.000120  1237661383848427594   \n",
       "27   989507134  158.74540  -0.592820  0.000112  1237648720684581000   \n",
       "28  1048212176   36.99159   1.099038  0.000082  1237678437015158966   \n",
       "29  1089303093  153.00010   1.643947  0.000170  1237651735745134704   \n",
       "30   995909018  215.84040  53.378540  0.000088  1237661387068670150   \n",
       "31  1048214057   33.97822  -0.809297  0.001327  1237663783138492618   \n",
       "32  1048203118   34.21863  -0.393159  0.043570  1237663783675494498   \n",
       "33   977501117  181.88630  -1.638722  0.001478  1237650762928226406   \n",
       "34   997813180  213.09450  13.815120  0.000058  1237662530602533043   \n",
       "35   995213202  190.29210  10.695470  0.002161  1237662238542463087   \n",
       "36   974211150  203.66080  10.588650  0.000376  1237662239085101147   \n",
       "37   979710017  157.14010   5.825406  0.000337  1237658298459685032   \n",
       "38  1071903104  161.71540  13.918030  0.000354  1237661069790216327   \n",
       "39  1073403104  161.71540  13.918030  0.000354  1237661069790216327   \n",
       "40  1048211180   35.33269   0.941207  0.003306  1237678617433276705   \n",
       "\n",
       "           ra2       dec2        z2  zwarning   class            specobjid  \\\n",
       "0   152.019640  22.224118  0.021030         0  GALAXY  2661772028251498496   \n",
       "1   140.523570  21.981480  0.034612         0  GALAXY  2578355104541337600   \n",
       "2   232.379330  12.540199  0.020664         0  GALAXY  3116569903654529024   \n",
       "3   132.963750  48.589063  0.052354         0  GALAXY   860277726328678400   \n",
       "4   167.218250  25.585934  0.062178         0  GALAXY  2490503027010594816   \n",
       "5   164.907920  26.602627  0.045125         0  GALAXY  2653901724959401984   \n",
       "6   196.030470  25.725145  0.024227         0  GALAXY  2997291312887130112   \n",
       "7   155.047300   1.512755  0.045227         0  GALAXY   566362321295796224   \n",
       "8   182.063380  15.054299  0.084308         0  GALAXY  1986251595947468800   \n",
       "9   173.429270  16.342690  0.067486         0  GALAXY  2818197900264237056   \n",
       "10  154.700070   0.385176  0.070952         0  GALAXY   305257169933068288   \n",
       "11  237.575120   4.731085  0.077501         0  GALAXY  3322636805005666304   \n",
       "12  190.064690   3.423434  0.083899         0  GALAXY   586718685058590720   \n",
       "13   36.534168  -0.888565  0.106452         0  GALAXY   457127488682747904   \n",
       "14  155.185480  16.043651  0.496715         0  GALAXY  6009008992248158208   \n",
       "15  249.189320  46.331862  0.070423         0  GALAXY   705979959490930688   \n",
       "16  159.360140   5.686030  0.080256         0  GALAXY  1125978841144125440   \n",
       "17  188.596690   4.491367  0.079630         0  GALAXY   952598772746053632   \n",
       "18  188.718570  38.841328  0.223587         0  GALAXY  2251896354466981888   \n",
       "19  139.917800  44.617710  0.218114         0  GALAXY   937952176792168448   \n",
       "20  226.780010  26.380341  0.130256         0  GALAXY  2425259668868720640   \n",
       "21  150.632600  39.365617  0.143288         0  GALAXY  1526783821360424960   \n",
       "22  189.904370  36.881996  0.167152         0  GALAXY  2276661210185230336   \n",
       "23  144.376350  26.042256  0.162194         0  GALAXY  2582989284545947648   \n",
       "24  154.456800  19.370617  0.210166         0  GALAXY  2671767414101796864   \n",
       "25  162.448710  13.083780  0.096295         0  GALAXY  1969215211185399808   \n",
       "26  151.277410  37.824037  0.112146         0  GALAXY  5142090521435723776   \n",
       "27  158.745400  -0.592816  0.115168         0  GALAXY   307400119337117696   \n",
       "28   36.991589   1.099022  0.128486         0  GALAXY   457284993320773632   \n",
       "29  153.000100   1.643942  0.121715         0  GALAXY   565245766533146624   \n",
       "30  215.840430  53.378537  0.272558         0  GALAXY  8264375086158731264   \n",
       "31   33.978215  -0.809300  0.290990         0  GALAXY  1208117582519887872   \n",
       "32   34.218082  -0.393647  0.304786         0  GALAXY  4770573786885150720   \n",
       "33  181.886300  -1.638722  0.323525         0  GALAXY   373887594347390976   \n",
       "34  213.094490  13.815129  0.138212         0  GALAXY  1920891676570707968   \n",
       "35  190.292090  10.695466  0.156132         0  GALAXY  1388402581407033344   \n",
       "36  203.660830  10.588647  0.160237         0  GALAXY  2028970928234326016   \n",
       "37  157.140150   5.825410  0.149738         0  GALAXY  1123648977800030208   \n",
       "38  161.715460  13.918024  0.195288         0  GALAXY  1969333958441199616   \n",
       "39  161.715460  13.918024  0.195288         0  GALAXY  1969333958441199616   \n",
       "40   35.332692   0.941207  0.400065         0  GALAXY   457214899857156096   \n",
       "\n",
       "      mjd  plate  fiberid  \n",
       "0   53737   2364      526  \n",
       "1   53727   2290      161  \n",
       "2   54265   2768      287  \n",
       "3   52238    764      328  \n",
       "4   53789   2212       45  \n",
       "5   53793   2357      566  \n",
       "6   54505   2662      530  \n",
       "7   51999    503      126  \n",
       "8   53467   1764      597  \n",
       "9   53856   2503      256  \n",
       "10  51883    271      503  \n",
       "11  54592   2951      386  \n",
       "12  52326    521      454  \n",
       "13  51900    406       44  \n",
       "14  55987   5337      295  \n",
       "15  52144    627      148  \n",
       "16  52643   1000      287  \n",
       "17  52407    846      318  \n",
       "18  53495   2000      351  \n",
       "19  52314    833      282  \n",
       "20  54539   2154      259  \n",
       "21  53033   1356      231  \n",
       "22  53827   2022      333  \n",
       "23  54524   2294      636  \n",
       "24  53768   2373       25  \n",
       "25  53357   1749       59  \n",
       "26  55589   4567      384  \n",
       "27  51957    273      107  \n",
       "28  51876    406      617  \n",
       "29  51957    502      160  \n",
       "30  56837   7340      981  \n",
       "31  52649   1073       98  \n",
       "32  55478   4237      494  \n",
       "33  52367    332      323  \n",
       "34  53442   1706      387  \n",
       "35  52734   1233      611  \n",
       "36  53885   1802      361  \n",
       "37  52750    998        3  \n",
       "38  53357   1749      491  \n",
       "39  53357   1749      491  \n",
       "40  51900    406      362  "
      ]
     },
     "execution_count": 68,
     "metadata": {},
     "output_type": "execute_result"
    }
   ],
   "source": [
    "pd_lamost_dr10and11_matchsdssdr18_galaxy"
   ]
  },
  {
   "cell_type": "code",
   "execution_count": null,
   "id": "9aad4f86",
   "metadata": {},
   "outputs": [],
   "source": []
  },
  {
   "cell_type": "code",
   "execution_count": 60,
   "id": "89b6504e",
   "metadata": {
    "ExecuteTime": {
     "end_time": "2023-09-04T07:02:52.061290Z",
     "start_time": "2023-09-04T07:02:52.050933Z"
    }
   },
   "outputs": [
    {
     "data": {
      "text/plain": [
       "2797"
      ]
     },
     "execution_count": 60,
     "metadata": {},
     "output_type": "execute_result"
    }
   ],
   "source": [
    "len(pd_lamost_dr10and11_matchsdssdr18)"
   ]
  },
  {
   "cell_type": "code",
   "execution_count": 18,
   "id": "31d2ef2d",
   "metadata": {
    "ExecuteTime": {
     "end_time": "2023-09-02T11:48:12.624585Z",
     "start_time": "2023-09-02T11:48:12.619830Z"
    }
   },
   "outputs": [
    {
     "data": {
      "text/plain": [
       "'/Volumes/ExtremeSSD/data_source/SDSSdata/LAMOST_matchSDSS'"
      ]
     },
     "execution_count": 18,
     "metadata": {},
     "output_type": "execute_result"
    }
   ],
   "source": [
    "pwd"
   ]
  },
  {
   "cell_type": "markdown",
   "id": "3a915a71",
   "metadata": {
    "ExecuteTime": {
     "end_time": "2023-09-02T11:48:14.657206Z",
     "start_time": "2023-09-02T11:48:14.508637Z"
    }
   },
   "source": [
    "ls"
   ]
  },
  {
   "cell_type": "markdown",
   "id": "892a8124",
   "metadata": {},
   "source": [
    "plate = str(self.plate).zfill(4)\n",
    "mjd = str(self.mjd).zfill(5)\n",
    "fiber = str(self.fiberID).zfill(4)"
   ]
  },
  {
   "cell_type": "code",
   "execution_count": 61,
   "id": "9d5fa3a9",
   "metadata": {
    "ExecuteTime": {
     "end_time": "2023-09-04T07:03:19.407940Z",
     "start_time": "2023-09-04T07:03:19.145896Z"
    }
   },
   "outputs": [],
   "source": [
    "for index,specobjid in enumerate(pd_lamost_dr10and11_matchsdssdr18['specobjid']):\n",
    "    sp_= sdss.SpecObj(int(specobjid))\n",
    "    \n",
    "    plate=pd_lamost_dr10and11_matchsdssdr18.loc[index,'plate']\n",
    "    mjd=pd_lamost_dr10and11_matchsdssdr18.loc[index,'mjd']\n",
    "    fiberid=pd_lamost_dr10and11_matchsdssdr18.loc[index,'fiberid']\n",
    "    \n",
    "    \n",
    "    filename = f\"spec-{str(plate).zfill(4)}-{str(mjd).zfill(5)}-{str(fiberid).zfill(4)}.fits\"\n",
    "\n",
    "    if not os.path.exists(filename):\n",
    "        try:\n",
    "            sp_.download_spec(path=SDSS_LAMOST_path)    \n",
    "            print(index,specobjid,filename)\n",
    "            time.sleep(1+np.random.randint(3,10))\n",
    "        except Exception: \n",
    "            print('404',index,specobjid)"
   ]
  },
  {
   "cell_type": "code",
   "execution_count": 62,
   "id": "f429540e",
   "metadata": {
    "ExecuteTime": {
     "end_time": "2023-09-04T07:03:29.589217Z",
     "start_time": "2023-09-04T07:03:29.579075Z"
    }
   },
   "outputs": [
    {
     "data": {
      "text/plain": [
       "2797"
      ]
     },
     "execution_count": 62,
     "metadata": {},
     "output_type": "execute_result"
    }
   ],
   "source": [
    "len(pd_lamost_dr10and11_matchsdssdr18)"
   ]
  },
  {
   "cell_type": "code",
   "execution_count": 63,
   "id": "7d31658e",
   "metadata": {
    "ExecuteTime": {
     "end_time": "2023-09-04T07:27:06.951763Z",
     "start_time": "2023-09-04T07:27:06.942151Z"
    }
   },
   "outputs": [
    {
     "data": {
      "text/plain": [
       "'/Volumes/ExtremeSSD/data_source/SDSSdata/LAMOST_matchSDSS/'"
      ]
     },
     "execution_count": 63,
     "metadata": {},
     "output_type": "execute_result"
    }
   ],
   "source": [
    "SDSS_LAMOST_path"
   ]
  },
  {
   "cell_type": "code",
   "execution_count": 33,
   "id": "6e4d37fe",
   "metadata": {
    "ExecuteTime": {
     "end_time": "2023-09-04T01:24:46.777759Z",
     "start_time": "2023-09-04T01:24:46.570660Z"
    }
   },
   "outputs": [
    {
     "name": "stdout",
     "output_type": "stream",
     "text": [
      "    1224\r\n"
     ]
    }
   ],
   "source": [
    "ls /Volumes/ExtremeSSD/data_source/SDSSdata/LAMOST_matchSDSS/ | wc -l"
   ]
  },
  {
   "cell_type": "code",
   "execution_count": null,
   "id": "d326a1d8",
   "metadata": {
    "ExecuteTime": {
     "end_time": "2023-09-04T06:54:15.140740Z",
     "start_time": "2023-09-04T06:54:15.132366Z"
    }
   },
   "outputs": [
    {
     "data": {
      "text/plain": [
       "'/Volumes/ExtremeSSD/data_source/SDSSdata/LAMOST_matchSDSS'"
      ]
     },
     "execution_count": 48,
     "metadata": {},
     "output_type": "execute_result"
    }
   ],
   "source": [
    "pwd"
   ]
  },
  {
   "cell_type": "code",
   "execution_count": null,
   "id": "721014e8",
   "metadata": {
    "ExecuteTime": {
     "end_time": "2023-09-04T06:59:41.997443Z",
     "start_time": "2023-09-04T06:59:29.733271Z"
    },
    "scrolled": true
   },
   "outputs": [],
   "source": [
    "for index,specobjid in enumerate(pd_lamost_dr10and11_matchsdssdr18['specobjid']):\n",
    "    sp_= sdss.SpecObj(int(specobjid))\n",
    "    \n",
    "    plate=pd_lamost_dr10and11_matchsdssdr18.loc[index,'plate']\n",
    "    mjd=pd_lamost_dr10and11_matchsdssdr18.loc[index,'mjd']\n",
    "    fiberid=pd_lamost_dr10and11_matchsdssdr18.loc[index,'fiberid']\n",
    "    \n",
    "    \n",
    "    filename = f\"spec-{str(plate).zfill(4)}-{str(mjd).zfill(5)}-{str(fiberid).zfill(4)}.fits\"\n",
    "    #Plate, MJD, FiberID\n",
    "    if not os.path.exists(filename):\n",
    "        print('%d, %d, %d'%(plate,mjd,fiberid))\n",
    "        download_SDSSspecDR18(plate,mjd,fiberid)"
   ]
  },
  {
   "cell_type": "code",
   "execution_count": null,
   "id": "8785e44d",
   "metadata": {
    "ExecuteTime": {
     "end_time": "2023-09-04T07:58:56.479501Z",
     "start_time": "2023-09-04T07:58:56.459378Z"
    }
   },
   "outputs": [],
   "source": [
    "LAMOSTDR10_SDSS16=pd.read_csv('/Users/lyubing/Downloads/LAMOST_青年研究员/LAMOST_DR10_SDSS16_brettlv_0.csv') #zwarning=0\n"
   ]
  },
  {
   "cell_type": "code",
   "execution_count": null,
   "id": "ecb3b728",
   "metadata": {
    "ExecuteTime": {
     "end_time": "2023-09-04T07:59:27.005281Z",
     "start_time": "2023-09-04T07:59:26.995952Z"
    }
   },
   "outputs": [],
   "source": [
    "LAMOSTDR10_SDSS16.columns"
   ]
  },
  {
   "cell_type": "code",
   "execution_count": null,
   "id": "b9caf98d",
   "metadata": {
    "ExecuteTime": {
     "start_time": "2023-09-06T11:48:40.343Z"
    }
   },
   "outputs": [],
   "source": [
    "for index,objid in enumerate(LAMOSTDR10_SDSS16['objid']):\n",
    "    #sp_= sdss.SpecObj(int(specobjid))\n",
    "    \n",
    "    plate=LAMOSTDR10_SDSS16.loc[index,'plate']\n",
    "    mjd=LAMOSTDR10_SDSS16.loc[index,'mjd']\n",
    "    fiberid=LAMOSTDR10_SDSS16.loc[index,'fiberid']\n",
    "    \n",
    "    \n",
    "    filename = f\"spec-{str(plate).zfill(4)}-{str(mjd).zfill(5)}-{str(fiberid).zfill(4)}.fits\"\n",
    "    #Plate, MJD, FiberID\n",
    "    if not os.path.exists(filename):\n",
    "        print('%d, %d, %d'%(plate,mjd,fiberid))\n",
    "        download_SDSSspecDR18(plate,mjd,fiberid)"
   ]
  },
  {
   "cell_type": "code",
   "execution_count": null,
   "id": "315ae34d",
   "metadata": {},
   "outputs": [],
   "source": []
  },
  {
   "cell_type": "markdown",
   "id": "c6215a13",
   "metadata": {
    "ExecuteTime": {
     "end_time": "2023-09-04T08:03:17.547736Z",
     "start_time": "2023-09-04T08:03:16.359514Z"
    }
   },
   "source": [
    "download_SDSSspecDR18(2153, 54212, 259)"
   ]
  },
  {
   "cell_type": "code",
   "execution_count": null,
   "id": "1504203f",
   "metadata": {},
   "outputs": [],
   "source": []
  },
  {
   "cell_type": "code",
   "execution_count": null,
   "id": "aab7c595",
   "metadata": {},
   "outputs": [],
   "source": []
  },
  {
   "cell_type": "code",
   "execution_count": null,
   "id": "11e032c4",
   "metadata": {
    "ExecuteTime": {
     "end_time": "2023-09-04T05:45:03.920953Z",
     "start_time": "2023-09-04T05:45:03.906346Z"
    }
   },
   "outputs": [],
   "source": [
    "pwd"
   ]
  },
  {
   "cell_type": "markdown",
   "id": "ea96b995",
   "metadata": {
    "ExecuteTime": {
     "end_time": "2023-09-04T05:49:10.200927Z",
     "start_time": "2023-09-04T05:49:10.182358Z"
    }
   },
   "source": [
    "with open('/Users/lyubing/Downloads/download_url_0to800.txt','r') as f:\n",
    "    lines = f.readlines()    \n",
    "    for line in lines:\n",
    "        name=line.split('/')[-1] \n",
    "        #print(line.strip())\n",
    "        print(name.strip())"
   ]
  },
  {
   "cell_type": "code",
   "execution_count": null,
   "id": "df2028e8",
   "metadata": {
    "ExecuteTime": {
     "end_time": "2023-09-04T06:55:17.218823Z",
     "start_time": "2023-09-04T06:55:17.210793Z"
    }
   },
   "outputs": [],
   "source": [
    "SDSS_LAMOST_path"
   ]
  },
  {
   "cell_type": "code",
   "execution_count": null,
   "id": "60b6f38e",
   "metadata": {},
   "outputs": [],
   "source": [
    "PAR = f\"{run2d}/spectra/lite/{plate}/\""
   ]
  },
  {
   "cell_type": "markdown",
   "id": "540b4d78",
   "metadata": {},
   "source": [
    "## def download_SDSSspecDR18"
   ]
  },
  {
   "cell_type": "code",
   "execution_count": null,
   "id": "5ed9018a",
   "metadata": {
    "ExecuteTime": {
     "end_time": "2023-09-04T06:57:00.415664Z",
     "start_time": "2023-09-04T06:57:00.404783Z"
    }
   },
   "outputs": [],
   "source": [
    "def download_SDSSspecDR18(plate,mjd,fiberid, path=SDSS_LAMOST_path, lite=True, fits=True):\n",
    "    if len(path)>0:\n",
    "        if path[-1]!='/':\n",
    "            path = path + '/' \n",
    "    if fits:\n",
    "        url_base = 'https://data.sdss.org/sas/dr18/spectro/sdss/redux/v5_13_2/spectra/lite/'\n",
    "        \n",
    "        filename = f\"spec-{str(plate).zfill(4)}-{str(mjd).zfill(5)}-{str(fiberid).zfill(4)}.fits\"\n",
    "        url_fits= url_base+ f\"{plate}/\"+filename\n",
    "                   \n",
    "        #url, path+filename\n",
    "        cmd_= \"wget -c -O %s %s\"%(filename,url_fits)\n",
    "        print(cmd_)\n",
    "        os.system(cmd_)"
   ]
  },
  {
   "cell_type": "code",
   "execution_count": null,
   "id": "17299b83",
   "metadata": {},
   "outputs": [],
   "source": []
  },
  {
   "cell_type": "code",
   "execution_count": null,
   "id": "e87f6810",
   "metadata": {},
   "outputs": [],
   "source": []
  },
  {
   "cell_type": "code",
   "execution_count": null,
   "id": "9117ce04",
   "metadata": {},
   "outputs": [],
   "source": [
    "4570/spec-4570-55623-0828.fits"
   ]
  },
  {
   "cell_type": "code",
   "execution_count": null,
   "id": "17345d1e",
   "metadata": {},
   "outputs": [],
   "source": []
  },
  {
   "cell_type": "code",
   "execution_count": null,
   "id": "781bfe5f",
   "metadata": {},
   "outputs": [],
   "source": []
  },
  {
   "cell_type": "markdown",
   "id": "ce055f06",
   "metadata": {},
   "source": [
    "## download_sdssSpec_wget"
   ]
  },
  {
   "cell_type": "code",
   "execution_count": null,
   "id": "cb3d9570",
   "metadata": {
    "ExecuteTime": {
     "end_time": "2023-09-04T06:51:30.571335Z",
     "start_time": "2023-09-04T05:50:18.671604Z"
    }
   },
   "outputs": [],
   "source": [
    "with open('/Users/lyubing/Downloads/download_url_0to800.txt','r') as f:\n",
    "    lines = f.readlines()\n",
    "    \n",
    "    for line in lines:\n",
    "        name=line.split('/')[-1].strip() \n",
    "        #print(line)\n",
    "        if not os.path.exists(name):\n",
    "            cmd_='wget -c -O %s %s'%(name,line.strip())\n",
    "            print(cmd_)\n",
    "            os.system(cmd_)"
   ]
  },
  {
   "cell_type": "markdown",
   "id": "fecaabee",
   "metadata": {},
   "source": [
    "## Download SDSSdr18Spec"
   ]
  },
  {
   "cell_type": "code",
   "execution_count": null,
   "id": "270eaa24",
   "metadata": {},
   "outputs": [],
   "source": [
    "#SDSS_LAMOST_path='/Volumes/ExtremeSSD/data_source/SDSSdata/LAMOST_matchSDSS/'\n",
    "#os.chdir(SDSS_LAMOST_path)\n",
    "\n",
    "with open('/Users/lyubing/Downloads/download_url——800-.txt','r') as f:\n",
    "    lines = f.readlines()    \n",
    "    for line in lines:\n",
    "        name=line.split('/')[-1].strip() \n",
    "        #print(line)\n",
    "        if not os.path.exists(name):\n",
    "            cmd_='wget -c -O %s %s'%(name,line.strip())\n",
    "            print(cmd_)\n",
    "            os.system(cmd_)"
   ]
  },
  {
   "cell_type": "markdown",
   "id": "80c7c02a",
   "metadata": {},
   "source": [
    "# reg.nearest_objects"
   ]
  },
  {
   "cell_type": "code",
   "execution_count": null,
   "id": "e05bc5ad",
   "metadata": {
    "ExecuteTime": {
     "end_time": "2023-09-06T09:16:55.551686Z",
     "start_time": "2023-09-06T09:16:50.838889Z"
    }
   },
   "outputs": [],
   "source": [
    "ra = 179.689293428354\n",
    "dec = -0.454379056007667\n",
    "reg = sdss.Region(ra, dec, fov=0.01, opt='')\n",
    "reg.show(figsize=(8,8))"
   ]
  },
  {
   "cell_type": "code",
   "execution_count": null,
   "id": "6b6d062e",
   "metadata": {
    "ExecuteTime": {
     "end_time": "2023-09-06T09:17:01.475024Z",
     "start_time": "2023-09-06T09:16:59.035074Z"
    }
   },
   "outputs": [],
   "source": [
    "df_obj = reg.nearest_objects()\n",
    "df_sp = reg.nearest_spects()\n",
    "print(df_obj.shape)\n",
    "print(df_sp.shape)\n",
    "print(df_sp)"
   ]
  },
  {
   "cell_type": "code",
   "execution_count": null,
   "id": "0932c758",
   "metadata": {},
   "outputs": [],
   "source": []
  },
  {
   "cell_type": "markdown",
   "id": "49b201d3",
   "metadata": {},
   "source": [
    "## def fun_download_once_a_day 定时"
   ]
  },
  {
   "cell_type": "code",
   "execution_count": null,
   "id": "d6bbac34",
   "metadata": {
    "ExecuteTime": {
     "end_time": "2023-09-04T01:23:46.346996Z",
     "start_time": "2023-09-04T01:23:46.330876Z"
    }
   },
   "outputs": [],
   "source": [
    "import datetime\n",
    "import threading\n",
    "\n",
    "def fun_download_once_a_day():\n",
    "    global t\n",
    "    print(\"Now is :\",datetime.datetime.now())\n",
    "    \n",
    "    day=datetime.datetime.now().day\n",
    "    month=datetime.datetime.now().month\n",
    "    year=datetime.datetime.now().year\n",
    "    print(year,month,day)   \n",
    "    t = threading.Timer(2.0, fun_download_once_a_day)#定时每天/周 运行一次下载\n",
    "    t.start()\n",
    "\n",
    "print(\"Now is :\",datetime.datetime.now())\n",
    "t = threading.Timer(1.0, fun_download_once_a_day)\n",
    "t.start()"
   ]
  },
  {
   "cell_type": "code",
   "execution_count": null,
   "id": "bc86c2a2",
   "metadata": {
    "ExecuteTime": {
     "end_time": "2023-09-04T01:23:53.091849Z",
     "start_time": "2023-09-04T01:23:53.078417Z"
    }
   },
   "outputs": [],
   "source": [
    "t.cancel()"
   ]
  },
  {
   "cell_type": "code",
   "execution_count": null,
   "id": "2fa51f85",
   "metadata": {},
   "outputs": [],
   "source": []
  },
  {
   "cell_type": "code",
   "execution_count": null,
   "id": "023f1de0",
   "metadata": {},
   "outputs": [],
   "source": [
    "for index,objid in enumerate(LAMOSTDR10_SDSS16['objid']): \n",
    "\n",
    "    ra=LAMOSTDR10_SDSS16.loc[index,'ra1']\n",
    "    dec=LAMOSTDR10_SDSS16.loc[index,'dec1']\n",
    "    plate=LAMOSTDR10_SDSS16.loc[index,'plate']\n",
    "    mjd=LAMOSTDR10_SDSS16.loc[index,'mjd']\n",
    "    fiberid=LAMOSTDR10_SDSS16.loc[index,'fiberid']\n",
    "\n",
    "    print(plate,mjd,fiberid)\n",
    "\n",
    "    filename = f\"spec-{str(plate).zfill(4)}-{str(mjd).zfill(5)}-{str(fiberid).zfill(4)}.fits\"\n",
    "    \n",
    "    if not os.path.exists(filename):\n",
    "        print(filename)"
   ]
  },
  {
   "cell_type": "code",
   "execution_count": null,
   "id": "ee0984c1",
   "metadata": {},
   "outputs": [],
   "source": []
  },
  {
   "cell_type": "code",
   "execution_count": null,
   "id": "8e2d1e52",
   "metadata": {},
   "outputs": [],
   "source": []
  },
  {
   "cell_type": "code",
   "execution_count": null,
   "id": "c1a552c6",
   "metadata": {
    "ExecuteTime": {
     "end_time": "2023-08-24T02:59:25.109147Z",
     "start_time": "2023-08-24T02:59:25.086099Z"
    }
   },
   "outputs": [],
   "source": [
    "#sp1 = sdss.ObjID()\n",
    "\n",
    "\n",
    "\n",
    "sp1.plate,sp1.mjd,sp1.fiberID\n",
    "\n",
    "sp1.specObjID"
   ]
  },
  {
   "cell_type": "code",
   "execution_count": null,
   "id": "17bfa3c6",
   "metadata": {
    "ExecuteTime": {
     "end_time": "2023-08-24T03:00:35.107434Z",
     "start_time": "2023-08-24T03:00:35.098419Z"
    }
   },
   "outputs": [],
   "source": [
    "ph = sdss.PhotoObj(1237665097393963129)\n",
    "print(ph.objID)\n",
    "print(ph.downloaded)\n",
    "print(ph.sky_version)\n",
    "print(ph.rerun)\n",
    "print(ph.run)\n",
    "print(ph.camcol)\n",
    "print(ph.field)\n",
    "print(ph.id_in_field)"
   ]
  },
  {
   "cell_type": "code",
   "execution_count": null,
   "id": "849fd123",
   "metadata": {
    "ExecuteTime": {
     "end_time": "2023-08-24T03:01:02.557958Z",
     "start_time": "2023-08-24T03:00:58.277008Z"
    }
   },
   "outputs": [],
   "source": [
    "ph.download()\n",
    "print(ph.specObjID)\n",
    "print(ph.downloaded)\n",
    "print(ph.ra, ph.dec)\n",
    "print(ph.type)\n",
    "print(ph.mag)"
   ]
  },
  {
   "cell_type": "code",
   "execution_count": null,
   "id": "264c03c0",
   "metadata": {
    "ExecuteTime": {
     "end_time": "2023-08-24T03:01:50.873238Z",
     "start_time": "2023-08-24T03:01:50.698289Z"
    }
   },
   "outputs": [],
   "source": [
    "ls"
   ]
  },
  {
   "cell_type": "code",
   "execution_count": null,
   "id": "949de280",
   "metadata": {
    "ExecuteTime": {
     "end_time": "2023-08-24T03:01:23.023244Z",
     "start_time": "2023-08-24T03:01:21.786948Z"
    }
   },
   "outputs": [],
   "source": [
    "ph.show()"
   ]
  },
  {
   "cell_type": "code",
   "execution_count": null,
   "id": "01bd7629",
   "metadata": {},
   "outputs": [],
   "source": []
  },
  {
   "cell_type": "code",
   "execution_count": null,
   "id": "9e106294",
   "metadata": {},
   "outputs": [],
   "source": [
    "print('Photo objID:', sp.bestObjID)\n",
    "print('Downloaded:', sp.downloaded)\n",
    "print('ra:', sp.ra)\n",
    "print('dec:', sp.dec)\n",
    "print('Spec Type:', sp.type)\n",
    "print('Mag:', sp.mag)\n",
    "print('Redshift:', sp.z)\n",
    "print('Main Class:', sp.mainClass)\n",
    "print('Sub Class:', sp.subClass)\n",
    "print(sp.downloaded)\n",
    "print(sp.plate)\n",
    "print(sp.fiberID)\n",
    "print(sp.mjd)"
   ]
  },
  {
   "cell_type": "code",
   "execution_count": null,
   "id": "44f0d6d3",
   "metadata": {},
   "outputs": [],
   "source": []
  },
  {
   "cell_type": "code",
   "execution_count": null,
   "id": "2690259a",
   "metadata": {},
   "outputs": [],
   "source": []
  },
  {
   "cell_type": "code",
   "execution_count": null,
   "id": "f4055ccf",
   "metadata": {
    "ExecuteTime": {
     "end_time": "2023-08-24T02:44:37.259635Z",
     "start_time": "2023-08-24T02:44:37.246185Z"
    }
   },
   "outputs": [],
   "source": [
    "pwd"
   ]
  },
  {
   "cell_type": "code",
   "execution_count": null,
   "id": "2e1f83dc",
   "metadata": {
    "ExecuteTime": {
     "end_time": "2023-08-24T02:49:52.604128Z",
     "start_time": "2023-08-24T02:49:52.597509Z"
    }
   },
   "outputs": [],
   "source": [
    "print(sp.downloaded)\n",
    "print(sp.plate)\n",
    "print(sp.fiberID)\n",
    "print(sp.mjd)"
   ]
  },
  {
   "cell_type": "code",
   "execution_count": null,
   "id": "3db8ad33",
   "metadata": {
    "ExecuteTime": {
     "end_time": "2023-08-24T02:51:13.148243Z",
     "start_time": "2023-08-24T02:50:27.389495Z"
    }
   },
   "outputs": [],
   "source": []
  },
  {
   "cell_type": "code",
   "execution_count": null,
   "id": "270708f4",
   "metadata": {
    "ExecuteTime": {
     "end_time": "2023-08-24T02:50:17.832477Z",
     "start_time": "2023-08-24T02:50:17.820891Z"
    }
   },
   "outputs": [],
   "source": [
    "sp.specObjID"
   ]
  },
  {
   "cell_type": "code",
   "execution_count": null,
   "id": "4dd55d01",
   "metadata": {
    "ExecuteTime": {
     "end_time": "2023-08-24T02:46:43.495338Z",
     "start_time": "2023-08-24T02:46:43.485711Z"
    }
   },
   "outputs": [],
   "source": [
    "pwd"
   ]
  },
  {
   "cell_type": "code",
   "execution_count": null,
   "id": "3aef1507",
   "metadata": {
    "ExecuteTime": {
     "end_time": "2023-08-24T02:51:20.924313Z",
     "start_time": "2023-08-24T02:51:20.770864Z"
    }
   },
   "outputs": [],
   "source": [
    "ls"
   ]
  },
  {
   "cell_type": "code",
   "execution_count": null,
   "id": "35ac1ac4",
   "metadata": {
    "ExecuteTime": {
     "end_time": "2023-08-24T02:50:11.249057Z",
     "start_time": "2023-08-24T02:50:11.086949Z"
    }
   },
   "outputs": [],
   "source": [
    "ls"
   ]
  },
  {
   "cell_type": "code",
   "execution_count": null,
   "id": "af1ee2e0",
   "metadata": {
    "ExecuteTime": {
     "end_time": "2023-08-24T02:53:03.559390Z",
     "start_time": "2023-08-24T02:53:03.551200Z"
    }
   },
   "outputs": [],
   "source": [
    "s = \"%04d\" %fiberid\n",
    "print(s)"
   ]
  },
  {
   "cell_type": "code",
   "execution_count": null,
   "id": "671d2557",
   "metadata": {},
   "outputs": [],
   "source": []
  },
  {
   "cell_type": "code",
   "execution_count": null,
   "id": "cf90eb46",
   "metadata": {
    "ExecuteTime": {
     "end_time": "2023-08-24T02:35:37.017738Z",
     "start_time": "2023-08-24T02:35:37.005578Z"
    }
   },
   "outputs": [],
   "source": [
    "pwd"
   ]
  },
  {
   "cell_type": "code",
   "execution_count": null,
   "id": "92314275",
   "metadata": {
    "ExecuteTime": {
     "end_time": "2023-08-24T02:35:43.292651Z",
     "start_time": "2023-08-24T02:35:43.276963Z"
    }
   },
   "outputs": [],
   "source": [
    "pwd"
   ]
  },
  {
   "cell_type": "code",
   "execution_count": null,
   "id": "27f5229a",
   "metadata": {
    "ExecuteTime": {
     "end_time": "2023-08-24T02:35:49.926627Z",
     "start_time": "2023-08-24T02:35:45.200640Z"
    }
   },
   "outputs": [],
   "source": [
    "sp = sdss.SpecObj(specobjid)\n",
    "sp.download_spec(path=SDSS_LAMOST_path)\n",
    "print(sp.downloaded)"
   ]
  },
  {
   "cell_type": "code",
   "execution_count": null,
   "id": "def1423d",
   "metadata": {
    "ExecuteTime": {
     "end_time": "2023-08-24T02:35:53.953357Z",
     "start_time": "2023-08-24T02:35:53.792475Z"
    }
   },
   "outputs": [],
   "source": [
    "ls"
   ]
  },
  {
   "cell_type": "code",
   "execution_count": null,
   "id": "eb13c9e6",
   "metadata": {
    "ExecuteTime": {
     "end_time": "2023-08-24T02:32:08.130684Z",
     "start_time": "2023-08-24T02:32:08.123188Z"
    }
   },
   "outputs": [],
   "source": [
    "print(sp.downloaded)\n",
    "print(sp.plate)\n",
    "print(sp.fiberID)\n",
    "print(sp.mjd)"
   ]
  },
  {
   "cell_type": "code",
   "execution_count": null,
   "id": "a4838459",
   "metadata": {
    "ExecuteTime": {
     "end_time": "2023-08-24T02:32:16.400912Z",
     "start_time": "2023-08-24T02:32:16.390939Z"
    }
   },
   "outputs": [],
   "source": [
    "SDSS_LAMOST_path"
   ]
  },
  {
   "cell_type": "code",
   "execution_count": null,
   "id": "8112414d",
   "metadata": {
    "ExecuteTime": {
     "end_time": "2023-08-24T02:32:23.807398Z",
     "start_time": "2023-08-24T02:32:23.548937Z"
    }
   },
   "outputs": [],
   "source": [
    "!open /Volumes/ExtremeSSD/data_source/SDSSdata/LAMOST_matchSDSS/"
   ]
  },
  {
   "cell_type": "code",
   "execution_count": null,
   "id": "20143a80",
   "metadata": {
    "ExecuteTime": {
     "end_time": "2023-08-24T02:34:03.318967Z",
     "start_time": "2023-08-24T02:34:03.145642Z"
    }
   },
   "outputs": [],
   "source": [
    "ls /Volumes/ExtremeSSD/data_source/SDSSdata/LAMOST_matchSDSS/"
   ]
  },
  {
   "cell_type": "code",
   "execution_count": null,
   "id": "c9a1a505",
   "metadata": {},
   "outputs": [],
   "source": []
  },
  {
   "cell_type": "code",
   "execution_count": null,
   "id": "86f87357",
   "metadata": {
    "ExecuteTime": {
     "end_time": "2023-08-24T02:34:17.263019Z",
     "start_time": "2023-08-24T02:34:17.228543Z"
    }
   },
   "outputs": [],
   "source": [
    "import numpy as np\n",
    "import pandas as pd\n",
    "import matplotlib.pyplot as plt\n",
    "from astropy.io import fits\n",
    "from astropy import units as u\n",
    " \n",
    "hdul = fits.open('%s/spec-1953-53358-0081.fits'%SDSS_LAMOST_path)\n",
    "hdul.info()"
   ]
  },
  {
   "cell_type": "code",
   "execution_count": null,
   "id": "1246a3d3",
   "metadata": {
    "ExecuteTime": {
     "end_time": "2023-08-24T02:34:37.106280Z",
     "start_time": "2023-08-24T02:34:37.086482Z"
    }
   },
   "outputs": [],
   "source": [
    "data1 = hdul[1].data\n",
    " \n",
    "wavelength = 10 ** data1.field('loglam')\n",
    "flux = data1.field('flux')\n",
    "model = data1.field('model')\n",
    " \n",
    "print('Wavelength :', wavelength)\n",
    "print('Flux (raw) :', flux)\n",
    "print('Model (fit):', model)"
   ]
  },
  {
   "cell_type": "code",
   "execution_count": null,
   "id": "9178ca66",
   "metadata": {
    "ExecuteTime": {
     "end_time": "2023-08-24T02:34:56.187443Z",
     "start_time": "2023-08-24T02:34:56.174656Z"
    }
   },
   "outputs": [],
   "source": [
    "wavelength = wavelength * u.Unit('AA')\n",
    "flux = flux * 10**-17 * u.Unit('erg cm-2 s-1 AA-1')\n",
    "model = model * 10**-17 * u.Unit('erg cm-2 s-1 AA-1')"
   ]
  },
  {
   "cell_type": "code",
   "execution_count": null,
   "id": "054a3182",
   "metadata": {
    "ExecuteTime": {
     "end_time": "2023-08-24T02:35:06.391028Z",
     "start_time": "2023-08-24T02:35:06.218269Z"
    }
   },
   "outputs": [],
   "source": [
    "fig, ax = plt.subplots(2, 1, figsize=(12,10))\n",
    " \n",
    "ax[0].plot(wavelength, flux, linewidth=1)\n",
    "ax[1].plot(wavelength, model, linewidth=1)\n",
    " \n",
    "ax[0].set_xlabel('Wavelength')\n",
    "ax[1].set_xlabel('Wavelength')\n",
    "ax[0].set_ylabel('Flux (raw)')\n",
    "ax[1].set_ylabel('Flux (fit)')\n",
    " \n",
    "plt.show()"
   ]
  },
  {
   "cell_type": "code",
   "execution_count": null,
   "id": "e89e66ca",
   "metadata": {
    "ExecuteTime": {
     "end_time": "2023-08-24T02:38:56.675402Z",
     "start_time": "2023-08-24T02:38:56.650077Z"
    }
   },
   "outputs": [],
   "source": [
    "cols3 = hdul[3].columns\n",
    "data3 = hdul[3].data\n",
    " \n",
    "print(cols3)\n"
   ]
  },
  {
   "cell_type": "code",
   "execution_count": null,
   "id": "dd494429",
   "metadata": {
    "ExecuteTime": {
     "end_time": "2023-08-24T02:39:31.510658Z",
     "start_time": "2023-08-24T02:39:31.489736Z"
    }
   },
   "outputs": [],
   "source": [
    "line_names = data3.field('LINENAME')\n",
    "line_waves = data3.field('LINEWAVE')\n",
    "line_z = data3.field('LINEZ')\n",
    "line_area = data3.field('LINEAREA')\n",
    " \n",
    "df = pd.DataFrame(\n",
    "    {'name': [i for i in line_names],\n",
    "     'lam_rest': [i for i in line_waves],\n",
    "     'z': [i for i in line_z],\n",
    "     'area': [i for i in line_area]\n",
    "     }\n",
    "    )\n",
    " \n",
    "df = df[abs(df['area'])>0]\n",
    "print(df)"
   ]
  },
  {
   "cell_type": "code",
   "execution_count": null,
   "id": "32d18742",
   "metadata": {
    "ExecuteTime": {
     "end_time": "2023-08-24T02:40:04.543604Z",
     "start_time": "2023-08-24T02:40:04.534569Z"
    }
   },
   "outputs": [],
   "source": [
    "df['lam_obs'] = df['lam_rest'] * (1 + df['z'])"
   ]
  },
  {
   "cell_type": "code",
   "execution_count": null,
   "id": "8a4d31f2",
   "metadata": {},
   "outputs": [],
   "source": []
  },
  {
   "cell_type": "code",
   "execution_count": null,
   "id": "a02f07da",
   "metadata": {
    "ExecuteTime": {
     "end_time": "2023-08-24T02:40:49.223408Z",
     "start_time": "2023-08-24T02:40:49.068791Z"
    }
   },
   "outputs": [],
   "source": [
    "fig, ax = plt.subplots(figsize=(12,8))\n",
    " \n",
    "label_y = np.random.uniform(\n",
    "    low=model.min().value*1.1,\n",
    "    high=model.max().value*0.9,\n",
    "    size=len(df)\n",
    "    )\n",
    " \n",
    "ax.plot(wavelength, model, linewidth=1)\n",
    " \n",
    "for i in range(len(df)):\n",
    "    ax.axvline(x=df['lam_obs'].iloc[i],\n",
    "               color='r',\n",
    "               alpha=0.3,\n",
    "               label=df['name'].iloc[i],\n",
    "               ls='--',\n",
    "               lw=0.7)\n",
    "     \n",
    "    ax.text(x=df['lam_obs'].iloc[i] ,\n",
    "            y=label_y[i],\n",
    "            s=df['name'].iloc[i],\n",
    "            fontsize='small',\n",
    "            rotation=90)\n",
    "ax.set_xlabel('Wavelength (obs)') \n",
    "plt.xlim(4000, 8000)\n",
    "plt.show()"
   ]
  },
  {
   "cell_type": "markdown",
   "id": "a42c9152",
   "metadata": {},
   "source": [
    "# Making the plot interactive"
   ]
  },
  {
   "cell_type": "code",
   "execution_count": null,
   "id": "de034e4c",
   "metadata": {
    "ExecuteTime": {
     "end_time": "2023-08-24T02:41:31.357985Z",
     "start_time": "2023-08-24T02:41:30.735894Z"
    }
   },
   "outputs": [],
   "source": [
    "from bokeh.plotting import figure, show\n",
    "from bokeh.models.tools import HoverTool\n",
    "from bokeh.models import Span, Label\n",
    " \n",
    "p = figure(title=\"Spectrum\",\n",
    "           sizing_mode=\"stretch_width\",\n",
    "           x_range=(4000, 8000),\n",
    "           tools=[HoverTool(), 'pan', 'wheel_zoom', 'reset'],\n",
    "           tooltips=\"lambda=@x{0.000} | flux=@y\",\n",
    "           x_axis_label=\"Wavelength\", y_axis_label=\"Flux\")\n",
    " \n",
    "p.line(wavelength, model, line_color=\"blue\", line_width=1)\n",
    " \n",
    "for i in range(len(df)):\n",
    "    ver = Span(location=df['lam_obs'].iloc[i],\n",
    "               dimension='height',\n",
    "               line_color='red',\n",
    "               line_dash='dashed',\n",
    "               line_width=1)\n",
    "     \n",
    "    p.add_layout(ver)\n",
    "     \n",
    "    lbl = Label(x=df['lam_obs'].iloc[i],\n",
    "                y=label_y[i],\n",
    "                text=df['name'].iloc[i])\n",
    "     \n",
    "    p.add_layout(lbl)\n",
    "     \n",
    "show(p)"
   ]
  },
  {
   "cell_type": "code",
   "execution_count": null,
   "id": "8068debc",
   "metadata": {},
   "outputs": [],
   "source": []
  },
  {
   "cell_type": "markdown",
   "id": "140a191c",
   "metadata": {},
   "source": [
    "## qso_template "
   ]
  },
  {
   "cell_type": "code",
   "execution_count": null,
   "id": "e9cf78df",
   "metadata": {
    "ExecuteTime": {
     "end_time": "2023-08-23T15:18:50.539510Z",
     "start_time": "2023-08-23T15:18:50.525262Z"
    }
   },
   "outputs": [],
   "source": [
    "\n",
    "from astroquery.sdss import SDSS\n",
    "print(SDSS.AVAILABLE_TEMPLATES)    \n",
    "\n",
    "template = SDSS.get_spectral_template('qso')    "
   ]
  },
  {
   "cell_type": "markdown",
   "id": "3358efb6",
   "metadata": {},
   "source": [
    "qso = SDSS.get_spectral_template(kind='qso')"
   ]
  },
  {
   "cell_type": "code",
   "execution_count": 13,
   "id": "153a629c",
   "metadata": {
    "ExecuteTime": {
     "end_time": "2023-09-07T08:19:15.333634Z",
     "start_time": "2023-09-07T08:19:15.325427Z"
    }
   },
   "outputs": [],
   "source": [
    "qso_template = SDSS.get_spectral_template_async(kind='qso', timeout=60, show_progress=True)"
   ]
  },
  {
   "cell_type": "code",
   "execution_count": 14,
   "id": "cd6758b8",
   "metadata": {
    "ExecuteTime": {
     "end_time": "2023-09-07T08:19:15.944150Z",
     "start_time": "2023-09-07T08:19:15.932836Z"
    }
   },
   "outputs": [
    {
     "data": {
      "text/plain": [
       "[Downloaded object from URL http://classic.sdss.org/dr7/algorithms/spectemplates/spDR2-029.fit with ID 140476774670048]"
      ]
     },
     "execution_count": 14,
     "metadata": {},
     "output_type": "execute_result"
    }
   ],
   "source": [
    "qso_template "
   ]
  },
  {
   "cell_type": "markdown",
   "id": "fdd06249",
   "metadata": {
    "ExecuteTime": {
     "end_time": "2023-08-24T04:17:57.356237Z",
     "start_time": "2023-08-24T04:17:56.299576Z"
    }
   },
   "source": [
    "!wget -c http://classic.sdss.org/dr7/algorithms/spectemplates/spDR2-029.fit"
   ],
   "execution_count": null,
   "id": "6fe6ce60",
   "metadata": {},
   "outputs": [],
   "source": [
    "QSO"
   ]
  },
  {
   "cell_type": "code",
   "execution_count": null,
   "id": "69eea37b",
   "metadata": {
    "ExecuteTime": {
     "end_time": "2023-08-24T02:29:55.762305Z",
     "start_time": "2023-08-24T02:29:55.603111Z"
    }
   },
   "outputs": [],
   "source": [
    "ls *.fit"
   ]
  },
  {
   "cell_type": "code",
   "execution_count": null,
   "id": "4f82b4f8",
   "metadata": {
    "ExecuteTime": {
     "end_time": "2023-08-24T02:30:22.628547Z",
     "start_time": "2023-08-24T02:30:22.614602Z"
    }
   },
   "outputs": [],
   "source": [
    "pwd"
   ]
  },
  {
   "cell_type": "markdown",
   "id": "bc159379",
   "metadata": {
    "ExecuteTime": {
     "end_time": "2023-08-24T02:30:24.610232Z",
     "start_time": "2023-08-24T02:30:24.445337Z"
    }
   },
   "source": [
    "ls"
   ]
  },
  {
   "cell_type": "code",
   "execution_count": null,
   "id": "7f0f2a34",
   "metadata": {
    "ExecuteTime": {
     "end_time": "2023-08-24T02:30:31.542836Z",
     "start_time": "2023-08-24T02:30:31.389841Z"
    }
   },
   "outputs": [],
   "source": [
    "ls SDSS"
   ]
  },
  {
   "cell_type": "code",
   "execution_count": 15,
   "id": "2075b419",
   "metadata": {
    "ExecuteTime": {
     "end_time": "2023-09-07T08:19:37.161809Z",
     "start_time": "2023-09-07T08:19:37.149260Z"
    }
   },
   "outputs": [],
   "source": [
    "qso_template_hdul=fits.open('spDR2-029.fit')"
   ]
  },
  {
   "cell_type": "code",
   "execution_count": 16,
   "id": "771f788b",
   "metadata": {
    "ExecuteTime": {
     "end_time": "2023-09-07T08:19:44.265529Z",
     "start_time": "2023-09-07T08:19:44.244019Z"
    }
   },
   "outputs": [
    {
     "name": "stdout",
     "output_type": "stream",
     "text": [
      "Filename: spDR2-029.fit\n",
      "No.    Name      Ver    Type      Cards   Dimensions   Format\n",
      "  0  PRIMARY       1 PrimaryHDU      30   (10844, 4)   float32   \n",
      "  1                1 BinTableHDU     54   0R x 23C   [1E, 1E, 1E, 1E, 1E, 1E, 1E, 1E, 1E, 1E, 1E, 1E, 1E, 1E, 1E, 1E, 1E, 1J, 1E, 1E, 1E, 1E, 1A]   \n",
      "  2                1 BinTableHDU     54   0R x 23C   [1E, 1E, 1E, 1E, 1E, 1E, 1E, 1E, 1E, 1E, 1E, 1E, 1E, 1E, 1E, 1E, 1E, 1J, 1E, 1E, 1E, 1E, 1A]   \n",
      "  3                1 BinTableHDU     18   0R x 5C   [1E, 1E, 1E, 1J, 1E]   \n",
      "  4                1 BinTableHDU     32   0R x 12C   [1J, 1J, 1E, 1E, 1E, 1E, 1E, 1E, 1E, 1E, 1E, 1E]   \n",
      "  5                1 BinTableHDU     26   0R x 9C   [19A, 1E, 1E, 1E, 1E, 1E, 1E, 1E, 1E]   \n"
     ]
    }
   ],
   "source": [
    "qso_template_hdul.info()"
   ]
  },
  {
   "cell_type": "code",
   "execution_count": 17,
   "id": "5330db3a",
   "metadata": {
    "ExecuteTime": {
     "end_time": "2023-09-07T08:19:53.033979Z",
     "start_time": "2023-09-07T08:19:52.864499Z"
    }
   },
   "outputs": [
    {
     "data": {
      "text/plain": [
       "FITS_rec([],\n",
       "         dtype=(numpy.record, [('wave', '>f4'), ('waveErr', '>f4'), ('waveMin', '>f4'), ('waveMax', '>f4'), ('sigma', '>f4'), ('sigmaErr', '>f4'), ('sigmaMin', '>f4'), ('sigmaMax', '>f4'), ('height', '>f4'), ('heightErr', '>f4'), ('continuum', '>f4'), ('ew', '>f4'), ('ewErr', '>f4'), ('ewMin', '>f4'), ('specIndex', '>f4'), ('nsigma', '>f4'), ('chisq', '>f4'), ('nu', '>i4'), ('restWave', '>f4'), ('weight', '>f4'), ('z', '>f4'), ('zErr', '>f4'), ('lineMask', 'S1')]))"
      ]
     },
     "execution_count": 17,
     "metadata": {},
     "output_type": "execute_result"
    }
   ],
   "source": [
    "qso_template_hdul[1].data"
   ]
  },
  {
   "cell_type": "code",
   "execution_count": 18,
   "id": "f23e3272",
   "metadata": {
    "ExecuteTime": {
     "end_time": "2023-09-07T08:20:08.683870Z",
     "start_time": "2023-09-07T08:20:08.661515Z"
    }
   },
   "outputs": [
    {
     "data": {
      "text/plain": [
       "FITS_rec([],\n",
       "         dtype=(numpy.record, [('wave', '>f4'), ('waveErr', '>f4'), ('waveMin', '>f4'), ('waveMax', '>f4'), ('sigma', '>f4'), ('sigmaErr', '>f4'), ('sigmaMin', '>f4'), ('sigmaMax', '>f4'), ('height', '>f4'), ('heightErr', '>f4'), ('continuum', '>f4'), ('ew', '>f4'), ('ewErr', '>f4'), ('ewMin', '>f4'), ('specIndex', '>f4'), ('nsigma', '>f4'), ('chisq', '>f4'), ('nu', '>i4'), ('restWave', '>f4'), ('weight', '>f4'), ('z', '>f4'), ('zErr', '>f4'), ('lineMask', 'S1')]))"
      ]
     },
     "execution_count": 18,
     "metadata": {},
     "output_type": "execute_result"
    }
   ],
   "source": [
    "qso_template_hdul[2].data"
   ]
  },
  {
   "cell_type": "code",
   "execution_count": 19,
   "id": "ba6b345c",
   "metadata": {
    "ExecuteTime": {
     "end_time": "2023-09-07T08:20:18.811968Z",
     "start_time": "2023-09-07T08:20:18.795321Z"
    }
   },
   "outputs": [
    {
     "data": {
      "text/plain": [
       "FITS_rec([],\n",
       "         dtype=(numpy.record, [('z', '>f4'), ('zErr', '>f4'), ('conf', '>f4'), ('nFit', '>i4'), ('wtFit', '>f4')]))"
      ]
     },
     "execution_count": 19,
     "metadata": {},
     "output_type": "execute_result"
    }
   ],
   "source": [
    "qso_template_hdul[3].data"
   ]
  },
  {
   "cell_type": "code",
   "execution_count": 20,
   "id": "7f03302a",
   "metadata": {
    "ExecuteTime": {
     "end_time": "2023-09-07T08:20:25.989675Z",
     "start_time": "2023-09-07T08:20:25.969981Z"
    }
   },
   "outputs": [
    {
     "data": {
      "text/plain": [
       "FITS_rec([],\n",
       "         dtype=(numpy.record, [('temp_no', '>i4'), ('peak_no', '>i4'), ('shift', '>f4'), ('z', '>f4'), ('zErr', '>f4'), ('r', '>f4'), ('con', '>f4'), ('height', '>f4'), ('width', '>f4'), ('widthErr', '>f4'), ('delta', '>f4'), ('rms', '>f4')]))"
      ]
     },
     "execution_count": 20,
     "metadata": {},
     "output_type": "execute_result"
    }
   ],
   "source": [
    "qso_template_hdul[4].data"
   ]
  },
  {
   "cell_type": "code",
   "execution_count": 21,
   "id": "c5223880",
   "metadata": {
    "ExecuteTime": {
     "end_time": "2023-09-07T08:20:33.564495Z",
     "start_time": "2023-09-07T08:20:33.544335Z"
    }
   },
   "outputs": [
    {
     "data": {
      "text/plain": [
       "FITS_rec([],\n",
       "         dtype=(numpy.record, [('name', 'S19'), ('ew', '>f4'), ('ewErr', '>f4'), ('mag', '>f4'), ('magErr', '>f4'), ('waveMin', '>f4'), ('waveMax', '>f4'), ('z', '>f4'), ('sn', '>f4')]))"
      ]
     },
     "execution_count": 21,
     "metadata": {},
     "output_type": "execute_result"
    }
   ],
   "source": [
    "qso_template_hdul[5].data"
   ]
  },
  {
   "cell_type": "code",
   "execution_count": null,
   "id": "198b0164",
   "metadata": {},
   "outputs": [],
   "source": []
  },
  {
   "cell_type": "code",
   "execution_count": null,
   "id": "0b3e19df",
   "metadata": {},
   "outputs": [],
   "source": []
  },
  {
   "cell_type": "code",
   "execution_count": null,
   "id": "98721c44",
   "metadata": {},
   "outputs": [],
   "source": []
  },
  {
   "cell_type": "code",
   "execution_count": null,
   "id": "b06e41be",
   "metadata": {
    "ExecuteTime": {
     "end_time": "2023-08-23T15:20:38.197684Z",
     "start_time": "2023-08-23T15:20:38.187460Z"
    }
   },
   "outputs": [],
   "source": [
    "template[0][0]"
   ]
  },
  {
   "cell_type": "code",
   "execution_count": null,
   "id": "a2f15923",
   "metadata": {
    "ExecuteTime": {
     "end_time": "2023-08-23T15:21:55.499709Z",
     "start_time": "2023-08-23T15:21:55.492596Z"
    }
   },
   "outputs": [],
   "source": [
    "template[0][1]"
   ]
  },
  {
   "cell_type": "code",
   "execution_count": null,
   "id": "12cb29db",
   "metadata": {
    "ExecuteTime": {
     "end_time": "2023-08-23T15:22:02.021317Z",
     "start_time": "2023-08-23T15:22:02.011218Z"
    }
   },
   "outputs": [],
   "source": [
    "template[0][2]"
   ]
  },
  {
   "cell_type": "code",
   "execution_count": null,
   "id": "26907675",
   "metadata": {
    "ExecuteTime": {
     "end_time": "2023-08-23T15:22:07.852943Z",
     "start_time": "2023-08-23T15:22:07.843786Z"
    }
   },
   "outputs": [],
   "source": [
    "template[0][3]"
   ]
  },
  {
   "cell_type": "code",
   "execution_count": null,
   "id": "8c24158d",
   "metadata": {
    "ExecuteTime": {
     "end_time": "2023-08-23T15:23:44.246486Z",
     "start_time": "2023-08-23T15:23:39.733121Z"
    }
   },
   "outputs": [],
   "source": [
    "Table(template[0][0].data[3])"
   ]
  },
  {
   "cell_type": "markdown",
   "id": "942d848d",
   "metadata": {
    "ExecuteTime": {
     "end_time": "2023-08-23T15:20:50.491618Z",
     "start_time": "2023-08-23T15:20:50.430110Z"
    }
   },
   "source": [
    "hdul=fits.open(template[0][0])"
   ]
  },
  {
   "cell_type": "code",
   "execution_count": null,
   "id": "d3d8f789",
   "metadata": {},
   "outputs": [],
   "source": []
  }
 ],
 "metadata": {
  "kernelspec": {
   "display_name": "Python 3 (ipykernel)",
   "language": "python",
   "name": "python3"
  },
  "language_info": {
   "codemirror_mode": {
    "name": "ipython",
    "version": 3
   },
   "file_extension": ".py",
   "mimetype": "text/x-python",
   "name": "python",
   "nbconvert_exporter": "python",
   "pygments_lexer": "ipython3",
   "version": "3.9.12"
  },
  "latex_envs": {
   "LaTeX_envs_menu_present": true,
   "autoclose": false,
   "autocomplete": true,
   "bibliofile": "biblio.bib",
   "cite_by": "apalike",
   "current_citInitial": 1,
   "eqLabelWithNumbers": true,
   "eqNumInitial": 1,
   "hotkeys": {
    "equation": "Ctrl-E",
    "itemize": "Ctrl-I"
   },
   "labels_anchors": false,
   "latex_user_defs": false,
   "report_style_numbering": false,
   "user_envs_cfg": false
  },
  "toc": {
   "base_numbering": 1,
   "nav_menu": {},
   "number_sections": true,
   "sideBar": true,
   "skip_h1_title": false,
   "title_cell": "Table of Contents",
   "title_sidebar": "Contents",
   "toc_cell": false,
   "toc_position": {
    "height": "calc(100% - 180px)",
    "left": "10px",
    "top": "150px",
    "width": "411.989px"
   },
   "toc_section_display": true,
   "toc_window_display": true
  }
 },
 "nbformat": 4,
 "nbformat_minor": 5
}
