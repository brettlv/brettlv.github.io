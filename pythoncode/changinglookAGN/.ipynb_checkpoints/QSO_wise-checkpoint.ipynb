{
 "cells": [
  {
   "cell_type": "code",
   "execution_count": 5,
   "metadata": {
    "ExecuteTime": {
     "end_time": "2021-09-05T19:56:36.817617Z",
     "start_time": "2021-09-05T19:56:35.140999Z"
    }
   },
   "outputs": [],
   "source": [
    "import os\n",
    "import pandas as pd\n",
    "\n",
    "import time\n",
    "import os\n",
    "from astropy import config as _config\n",
    "from astroquery.irsa import Irsa   \n",
    "from astropy import units as u\n",
    "from astropy.coordinates import SkyCoord\n"
   ]
  },
  {
   "cell_type": "markdown",
   "metadata": {
    "ExecuteTime": {
     "end_time": "2021-09-05T14:49:53.520596Z",
     "start_time": "2021-09-05T14:49:53.501114Z"
    }
   },
   "source": [
    "QSO=pd.read_csv('/Users/brettlv/Downloads/CLAGN_statistic_plot/Source_lists/QSOtable.txt',delimiter='|',header=None)\n",
    "QSO.columns=['Name', 'redshift', 'FWHM_Halpha', 'lg(LHalpha)', 'lg(L_Mbh)']#CLAGN_list_2021_liu=CLAGN_list_2020[1:]"
   ]
  },
  {
   "cell_type": "code",
   "execution_count": 11,
   "metadata": {
    "ExecuteTime": {
     "end_time": "2021-09-06T02:00:42.333708Z",
     "start_time": "2021-09-06T02:00:42.318539Z"
    }
   },
   "outputs": [
    {
     "data": {
      "text/plain": [
       "(0.35200000000000004, 0.0007)"
      ]
     },
     "execution_count": 11,
     "metadata": {},
     "output_type": "execute_result"
    }
   ],
   "source": [
    "max(QSO['redshift']),min(QSO['redshift'])"
   ]
  },
  {
   "cell_type": "code",
   "execution_count": 6,
   "metadata": {
    "ExecuteTime": {
     "end_time": "2021-09-05T19:56:51.940085Z",
     "start_time": "2021-09-05T19:56:51.929317Z"
    }
   },
   "outputs": [
    {
     "data": {
      "text/plain": [
       "8497"
      ]
     },
     "execution_count": 6,
     "metadata": {},
     "output_type": "execute_result"
    }
   ],
   "source": [
    "len(QSO)"
   ]
  },
  {
   "cell_type": "code",
   "execution_count": 7,
   "metadata": {
    "ExecuteTime": {
     "end_time": "2021-09-05T19:57:19.157535Z",
     "start_time": "2021-09-05T19:57:19.153142Z"
    }
   },
   "outputs": [
    {
     "data": {
      "text/plain": [
       "'/Users/brettlv/blog/brettlv.github.io/pythoncode/changinglookAGN/wise_data_search/QSO'"
      ]
     },
     "execution_count": 7,
     "metadata": {},
     "output_type": "execute_result"
    }
   ],
   "source": [
    "pwd"
   ]
  },
  {
   "cell_type": "code",
   "execution_count": null,
   "metadata": {},
   "outputs": [],
   "source": [
    "#Irsa.ROW_LIMIT = 1000 # value of new row limit here.\n",
    "#Irsa.TIMEOUT = 120\n",
    "\n",
    "for index,name in enumerate(QSO['Name'][3000:5000]):\n",
    "    #print(i)\n",
    "    search_name='SDSS'+name.replace(' ','') \n",
    "    save_name='SDSS '+name.replace(' ','') \n",
    "   \n",
    "    if not os.path.exists('../QSO/wise_%s_mep.csv'%save_name):\n",
    "        print(index,search_name)\n",
    "        try:\n",
    "            Irsa.ROW_LIMIT = 1000\n",
    "            Irsa.TIMEOUT = 120\n",
    "            table_wise_mep=Irsa.query_region(search_name,catalog='allwise_p3as_mep',spatial='Cone',radius=10*u.arcsec,)\n",
    "            table_wise_mep.write('../QSO/wise_%s_mep.csv'%save_name, format='csv')\n",
    "            time.sleep(10+np.random.randint(5,10))\n",
    "        except Exception:\n",
    "            continue\n",
    "            #raise             \n",
    "    \n",
    "    if not os.path.exists('../QSO/wise_%s_neo.csv'%save_name):\n",
    "        try:\n",
    "            Irsa.ROW_LIMIT = 1000\n",
    "            Irsa.TIMEOUT = 120\n",
    "\n",
    "            table_wise_neo=Irsa.query_region(search_name,catalog='neowiser_p1bs_psd',spatial='Cone',radius=10*u.arcsec,)  \n",
    "            table_wise_neo.write('../QSO/wise_%s_neo.csv'%save_name, format='csv')       \n",
    "            time.sleep(10+np.random.randint(5,10))   \n",
    "        except Exception:\n",
    "            continue\n",
    "            #raise                "
   ]
  },
  {
   "cell_type": "code",
   "execution_count": null,
   "metadata": {},
   "outputs": [],
   "source": []
  },
  {
   "cell_type": "code",
   "execution_count": 9,
   "metadata": {
    "ExecuteTime": {
     "end_time": "2021-09-06T00:54:00.472815Z",
     "start_time": "2021-09-06T00:54:00.382551Z"
    }
   },
   "outputs": [
    {
     "name": "stdout",
     "output_type": "stream",
     "text": [
      "1151 SDSSJ081059.78+300405.5 neo\n",
      "1152 SDSSJ081102.28+402002.5 neo\n",
      "1153 SDSSJ081112.57+224230.4 neo\n",
      "1154 SDSSJ081116.70+320935.4 mep\n",
      "1154 SDSSJ081116.70+320935.4 neo\n",
      "1155 SDSSJ081126.70+453453.0 mep\n",
      "1155 SDSSJ081126.70+453453.0 neo\n",
      "1156 SDSSJ081127.88+222045.3 mep\n",
      "1156 SDSSJ081127.88+222045.3 neo\n",
      "1157 SDSSJ081146.72+072837.8 mep\n",
      "1157 SDSSJ081146.72+072837.8 neo\n",
      "1158 SDSSJ081153.16+414819.9 mep\n",
      "1158 SDSSJ081153.16+414819.9 neo\n",
      "1159 SDSSJ081212.98+030720.4 mep\n",
      "1159 SDSSJ081212.98+030720.4 neo\n",
      "1160 SDSSJ081215.60+472519.0 mep\n",
      "1160 SDSSJ081215.60+472519.0 neo\n",
      "1161 SDSSJ081218.83+362620.5 mep\n",
      "1161 SDSSJ081218.83+362620.5 neo\n",
      "1162 SDSSJ081222.99+461529.1 mep\n",
      "1162 SDSSJ081222.99+461529.1 neo\n",
      "1163 SDSSJ081231.43+441620.8 mep\n",
      "1163 SDSSJ081231.43+441620.8 neo\n",
      "1164 SDSSJ081237.82+435635.0 mep\n",
      "1164 SDSSJ081237.82+435635.0 neo\n",
      "1165 SDSSJ081246.86+492643.6 mep\n",
      "1165 SDSSJ081246.86+492643.6 neo\n",
      "1166 SDSSJ081249.59+463050.7 mep\n",
      "1166 SDSSJ081249.59+463050.7 neo\n",
      "1167 SDSSJ081251.35+315017.1 mep\n",
      "1167 SDSSJ081251.35+315017.1 neo\n",
      "1168 SDSSJ081252.21+402347.3 mep\n",
      "1168 SDSSJ081252.21+402347.3 neo\n",
      "1169 SDSSJ081252.45+402348.8 mep\n",
      "1169 SDSSJ081252.45+402348.8 neo\n",
      "1170 SDSSJ081252.47+383823.8 mep\n",
      "1170 SDSSJ081252.47+383823.8 neo\n",
      "1171 SDSSJ081253.31+402711.4 mep\n",
      "1171 SDSSJ081253.31+402711.4 neo\n",
      "1172 SDSSJ081259.97+064711.0 mep\n",
      "1172 SDSSJ081259.97+064711.0 neo\n",
      "1173 SDSSJ081302.34+483425.9 mep\n",
      "1173 SDSSJ081302.34+483425.9 neo\n",
      "1174 SDSSJ081303.87+455713.4 mep\n",
      "1174 SDSSJ081303.87+455713.4 neo\n",
      "1175 SDSSJ081307.46+361441.7 mep\n",
      "1175 SDSSJ081307.46+361441.7 neo\n",
      "1176 SDSSJ081317.91+435620.7 mep\n",
      "1176 SDSSJ081317.91+435620.7 neo\n",
      "1177 SDSSJ081319.33+460849.7 mep\n",
      "1177 SDSSJ081319.33+460849.7 neo\n",
      "1178 SDSSJ081321.35+393108.9 mep\n",
      "1178 SDSSJ081321.35+393108.9 neo\n",
      "1179 SDSSJ081322.36+030117.5 mep\n",
      "1179 SDSSJ081322.36+030117.5 neo\n",
      "1180 SDSSJ081329.28+483427.8 mep\n",
      "1180 SDSSJ081329.28+483427.8 neo\n",
      "1181 SDSSJ081330.44+324552.3 mep\n",
      "1181 SDSSJ081330.44+324552.3 neo\n",
      "1182 SDSSJ081345.89+381049.6 mep\n",
      "1182 SDSSJ081345.89+381049.6 neo\n",
      "1183 SDSSJ081419.05+414040.9 mep\n",
      "1183 SDSSJ081419.05+414040.9 neo\n",
      "1184 SDSSJ081420.81+303050.5 mep\n",
      "1184 SDSSJ081420.81+303050.5 neo\n",
      "1185 SDSSJ081422.58+265410.3 mep\n",
      "1185 SDSSJ081422.58+265410.3 neo\n",
      "1186 SDSSJ081422.67+293419.0 mep\n",
      "1186 SDSSJ081422.67+293419.0 neo\n",
      "1187 SDSSJ081427.69+433705.1 mep\n",
      "1187 SDSSJ081427.69+433705.1 neo\n",
      "1188 SDSSJ081429.24+265241.5 mep\n",
      "1188 SDSSJ081429.24+265241.5 neo\n",
      "1189 SDSSJ081438.28+290619.9 mep\n",
      "1189 SDSSJ081438.28+290619.9 neo\n",
      "1190 SDSSJ081438.52+035014.4 mep\n",
      "1190 SDSSJ081438.52+035014.4 neo\n",
      "1191 SDSSJ081443.40+435314.7 mep\n",
      "1191 SDSSJ081443.40+435314.7 neo\n",
      "1192 SDSSJ081444.19+363640.1 mep\n",
      "1192 SDSSJ081444.19+363640.1 neo\n",
      "1193 SDSSJ081445.09+243635.0 mep\n",
      "1193 SDSSJ081445.09+243635.0 neo\n",
      "1194 SDSSJ081450.21+371037.4 mep\n",
      "1194 SDSSJ081450.21+371037.4 neo\n",
      "1195 SDSSJ081452.60+370130.8 mep\n",
      "1195 SDSSJ081452.60+370130.8 neo\n",
      "1196 SDSSJ081454.96+333401.7 mep\n",
      "1196 SDSSJ081454.96+333401.7 neo\n",
      "1197 SDSSJ081455.05+261506.5 mep\n",
      "1197 SDSSJ081455.05+261506.5 neo\n",
      "1198 SDSSJ081455.59+374827.8 mep\n",
      "1198 SDSSJ081455.59+374827.8 neo\n",
      "1199 SDSSJ081503.09+293649.4 mep\n",
      "1199 SDSSJ081503.09+293649.4 neo\n"
     ]
    }
   ],
   "source": [
    "for index,name in enumerate(QSO['Name'][:1200]):\n",
    "    #print(i)\n",
    "    search_name='SDSS'+name.replace(' ','') \n",
    "    i='SDSS '+name.replace(' ','')     \n",
    "    if not os.path.exists('../QSO/wise_%s_mep.csv'%i):\n",
    "        print(index,search_name,'mep')\n",
    "    \n",
    "    if not os.path.exists('../QSO/wise_%s_neo.csv'%i):\n",
    "        print(index,search_name,'neo')"
   ]
  },
  {
   "cell_type": "code",
   "execution_count": null,
   "metadata": {},
   "outputs": [],
   "source": []
  }
 ],
 "metadata": {
  "kernelspec": {
   "display_name": "Python 3",
   "language": "python",
   "name": "python3"
  },
  "language_info": {
   "codemirror_mode": {
    "name": "ipython",
    "version": 3
   },
   "file_extension": ".py",
   "mimetype": "text/x-python",
   "name": "python",
   "nbconvert_exporter": "python",
   "pygments_lexer": "ipython3",
   "version": "3.8.5"
  },
  "latex_envs": {
   "LaTeX_envs_menu_present": true,
   "autocomplete": true,
   "bibliofile": "biblio.bib",
   "cite_by": "apalike",
   "current_citInitial": 1,
   "eqLabelWithNumbers": true,
   "eqNumInitial": 1,
   "hotkeys": {
    "equation": "Ctrl-E",
    "itemize": "Ctrl-I"
   },
   "labels_anchors": false,
   "latex_user_defs": false,
   "report_style_numbering": false,
   "user_envs_cfg": false
  },
  "toc": {
   "nav_menu": {},
   "number_sections": true,
   "sideBar": true,
   "skip_h1_title": false,
   "toc_cell": false,
   "toc_position": {},
   "toc_section_display": "block",
   "toc_window_display": false
  }
 },
 "nbformat": 4,
 "nbformat_minor": 2
}
