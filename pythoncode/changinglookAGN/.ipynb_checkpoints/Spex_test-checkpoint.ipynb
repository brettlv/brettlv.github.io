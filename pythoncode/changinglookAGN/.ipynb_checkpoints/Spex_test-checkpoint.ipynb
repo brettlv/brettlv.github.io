{
 "cells": [
  {
   "cell_type": "code",
   "execution_count": null,
   "id": "f8f38160",
   "metadata": {
    "ExecuteTime": {
     "end_time": "2023-07-18T06:42:51.068345Z",
     "start_time": "2023-07-18T06:42:51.061987Z"
    }
   },
   "outputs": [],
   "source": [
    "#Install a conda package in the current Jupyter kernel\n",
    "import sys"
   ]
  },
  {
   "cell_type": "markdown",
   "id": "238912cf",
   "metadata": {},
   "source": [
    "#Install a conda package in the current Jupyter kernel\n",
    "import sys\n",
    "!conda install --yes --prefix {sys.prefix} numpy\n",
    "\n",
    "\n",
    "#Install a pip package in the current Jupyter kernel\n",
    "import sys\n",
    "!{sys.executable} -m pip install numpy"
   ]
  },
  {
   "cell_type": "markdown",
   "id": "2dd769a3",
   "metadata": {
    "ExecuteTime": {
     "end_time": "2023-07-18T05:37:35.051673Z",
     "start_time": "2023-07-18T05:37:21.876040Z"
    }
   },
   "source": [
    "!conda install --yes --prefix {sys.prefix} spexxray"
   ]
  },
  {
   "cell_type": "markdown",
   "id": "64c873dc",
   "metadata": {
    "ExecuteTime": {
     "end_time": "2023-07-18T05:38:14.682511Z",
     "start_time": "2023-07-18T05:38:07.192204Z"
    }
   },
   "source": [
    "!conda install --yes --prefix {sys.prefix} pyspextools"
   ]
  },
  {
   "cell_type": "markdown",
   "id": "26147e15",
   "metadata": {
    "ExecuteTime": {
     "end_time": "2023-07-18T05:49:11.610800Z",
     "start_time": "2023-07-18T05:48:13.451895Z"
    }
   },
   "source": [
    "conda install -c spexxray pyspextools"
   ]
  },
  {
   "cell_type": "markdown",
   "id": "ecc7594f",
   "metadata": {
    "ExecuteTime": {
     "end_time": "2023-07-18T06:25:04.474023Z",
     "start_time": "2023-07-18T06:24:59.283087Z"
    }
   },
   "source": [
    "!conda install --yes --prefix {sys.prefix} pyspextools"
   ]
  },
  {
   "cell_type": "code",
   "execution_count": null,
   "id": "3f7e808d",
   "metadata": {
    "ExecuteTime": {
     "end_time": "2023-07-18T06:53:21.361027Z",
     "start_time": "2023-07-18T06:53:20.690342Z"
    }
   },
   "outputs": [],
   "source": [
    "!{sys.executable} -m pip install pyspextools"
   ]
  },
  {
   "cell_type": "code",
   "execution_count": null,
   "id": "f20277e4",
   "metadata": {},
   "outputs": [],
   "source": []
  },
  {
   "cell_type": "code",
   "execution_count": null,
   "id": "683b40bb",
   "metadata": {
    "ExecuteTime": {
     "end_time": "2023-07-18T06:59:03.431288Z",
     "start_time": "2023-07-18T06:58:56.422745Z"
    }
   },
   "outputs": [],
   "source": [
    "conda install -c spexxray spex"
   ]
  },
  {
   "cell_type": "code",
   "execution_count": null,
   "id": "1572b0ac",
   "metadata": {
    "ExecuteTime": {
     "end_time": "2023-07-18T06:59:13.957309Z",
     "start_time": "2023-07-18T06:59:06.016341Z"
    }
   },
   "outputs": [],
   "source": [
    "conda install -c spexxray pyspextools"
   ]
  },
  {
   "cell_type": "markdown",
   "id": "00780b96",
   "metadata": {
    "ExecuteTime": {
     "end_time": "2023-07-18T06:45:35.195859Z",
     "start_time": "2023-07-18T06:45:35.032660Z"
    }
   },
   "source": [
    "!python --version"
   ]
  },
  {
   "cell_type": "code",
   "execution_count": null,
   "id": "dcc04f0c",
   "metadata": {
    "ExecuteTime": {
     "end_time": "2023-07-18T07:00:01.187156Z",
     "start_time": "2023-07-18T07:00:01.177946Z"
    }
   },
   "outputs": [],
   "source": [
    "import sys\n",
    "print (sys.version)"
   ]
  },
  {
   "cell_type": "code",
   "execution_count": null,
   "id": "046efd0f",
   "metadata": {},
   "outputs": [],
   "source": []
  },
  {
   "cell_type": "markdown",
   "id": "feccdc88",
   "metadata": {},
   "source": [
    "https://github.com/spex-xray/spex-help/blob/master/jupyter/Simple-Session.ipynb"
   ]
  },
  {
   "cell_type": "code",
   "execution_count": 1,
   "id": "7e1e7e4a",
   "metadata": {
    "ExecuteTime": {
     "end_time": "2023-07-18T07:15:01.422976Z",
     "start_time": "2023-07-18T07:15:01.407758Z"
    }
   },
   "outputs": [
    {
     "data": {
      "text/plain": [
       "{'/Users/lyubing/opt/anaconda3/envs/spex/bin/python'}"
      ]
     },
     "execution_count": 1,
     "metadata": {},
     "output_type": "execute_result"
    }
   ],
   "source": [
    "import sys\n",
    "{sys.executable}"
   ]
  },
  {
   "cell_type": "code",
   "execution_count": 2,
   "id": "96c1259d",
   "metadata": {
    "ExecuteTime": {
     "end_time": "2023-07-18T07:15:02.257899Z",
     "start_time": "2023-07-18T07:15:02.050340Z"
    }
   },
   "outputs": [
    {
     "ename": "ModuleNotFoundError",
     "evalue": "No module named 'pyspex.spex'",
     "output_type": "error",
     "traceback": [
      "\u001b[0;31m---------------------------------------------------------------------------\u001b[0m",
      "\u001b[0;31mModuleNotFoundError\u001b[0m                       Traceback (most recent call last)",
      "Cell \u001b[0;32mIn[2], line 1\u001b[0m\n\u001b[0;32m----> 1\u001b[0m \u001b[38;5;28;01mfrom\u001b[39;00m \u001b[38;5;21;01mpyspex\u001b[39;00m\u001b[38;5;21;01m.\u001b[39;00m\u001b[38;5;21;01mspex\u001b[39;00m \u001b[38;5;28;01mimport\u001b[39;00m Session\n\u001b[1;32m      2\u001b[0m s\u001b[38;5;241m=\u001b[39mSession()\n",
      "\u001b[0;31mModuleNotFoundError\u001b[0m: No module named 'pyspex.spex'"
     ]
    }
   ],
   "source": [
    "from pyspex.spex import Session\n",
    "s=Session()"
   ]
  },
  {
   "cell_type": "markdown",
   "id": "a92fa40c",
   "metadata": {
    "ExecuteTime": {
     "end_time": "2023-07-18T06:58:48.283171Z",
     "start_time": "2023-07-18T06:58:47.933236Z"
    }
   },
   "source": [
    "from pyspex.spex import Session\n",
    "s=Session()"
   ]
  },
  {
   "cell_type": "markdown",
   "id": "2f3e8ae7",
   "metadata": {},
   "source": [
    "https://summerschool-ahead2020.github.io/hands-on-sessions/install/install.html#running-a-notebook-with-spex"
   ]
  },
  {
   "cell_type": "markdown",
   "id": "04e674a5",
   "metadata": {},
   "source": [
    "{\n",
    " \"argv\": [\n",
    "  \"conda\", \"run\", \"--no-capture-output\", \"-n\", \"spex\",\n",
    "  \"/home/idies/miniconda3/envs/spex/bin/python\",\n",
    "  \"-m\",\n",
    "  \"ipykernel_launcher\",\n",
    "  \"-f\",\n",
    "  \"{connection_file}\"\n",
    " ],\n",
    " \"display_name\": \"(spex)\",\n",
    " \"language\": \"python\",\n",
    " \"metadata\": {\n",
    "  \"debugger\": true\n",
    " }\n",
    "}"
   ]
  },
  {
   "cell_type": "code",
   "execution_count": null,
   "id": "b2ea46ec",
   "metadata": {},
   "outputs": [],
   "source": []
  },
  {
   "cell_type": "code",
   "execution_count": null,
   "id": "376e288d",
   "metadata": {},
   "outputs": [],
   "source": []
  },
  {
   "cell_type": "code",
   "execution_count": 1,
   "id": "3f21e981",
   "metadata": {
    "ExecuteTime": {
     "end_time": "2023-07-18T07:34:57.772881Z",
     "start_time": "2023-07-18T07:34:52.089270Z"
    }
   },
   "outputs": [
    {
     "name": "stdout",
     "output_type": "stream",
     "text": [
      " Welcome lyubing to SPEX version 3.07.03\n",
      "\n",
      " NEW in this version of SPEX: \n",
      "01-12-2022 Fixed issue with plot cap command\n",
      "05-12-2022 Fixed issue with knak model\n",
      "22-03-2023 Fixed issue with treatment of bad quality bins in trafo\n",
      "23-03-2023 Fixed small issues in the pyspex interface\n",
      "\n",
      " Currently using SPEXACT version 2.07.00. Type `help var calc` for details.\n"
     ]
    }
   ],
   "source": [
    "from pyspex import spex\n",
    "s=spex.Session()"
   ]
  },
  {
   "cell_type": "code",
   "execution_count": null,
   "id": "ba33eb00",
   "metadata": {},
   "outputs": [],
   "source": []
  },
  {
   "cell_type": "markdown",
   "id": "452fcdec",
   "metadata": {
    "ExecuteTime": {
     "end_time": "2023-07-18T06:24:34.409142Z",
     "start_time": "2023-07-18T06:24:34.384754Z"
    }
   },
   "source": [
    "s.data('xifu.res','xifu.spo')"
   ]
  },
  {
   "cell_type": "code",
   "execution_count": null,
   "id": "680ad2a5",
   "metadata": {
    "ExecuteTime": {
     "end_time": "2023-07-18T06:00:42.141721Z",
     "start_time": "2023-07-18T06:00:42.120877Z"
    }
   },
   "outputs": [],
   "source": [
    "pwd"
   ]
  },
  {
   "cell_type": "code",
   "execution_count": null,
   "id": "821aa422",
   "metadata": {},
   "outputs": [],
   "source": [
    "s.data('/Users/lyubing/Downloads/Spex_code/corona.res','/Users/lyubing/Downloads/Spex_code/agn.spo')\n",
    "\n",
    "plt = s.plot_data(xlog=True, ylog=True, show=True)\n",
    "\n",
    "s.ignore(1, 1, 0.0, 0.2, 'kev')\n",
    "s.ignore(1, 1, 10.0, 100.0, 'kev')"
   ]
  },
  {
   "cell_type": "code",
   "execution_count": null,
   "id": "9977928e",
   "metadata": {},
   "outputs": [],
   "source": [
    "import numpy\n",
    "s.com('reds')\n",
    "s.com('hot')\n",
    "s.com('cie')\n",
    "s.com_rel(1, 3, numpy.array([1, 2]))"
   ]
  },
  {
   "cell_type": "code",
   "execution_count": null,
   "id": "c6b62c1b",
   "metadata": {},
   "outputs": [],
   "source": [
    "s.dist(1, 0.05, 'z')                  # Set the distance in SPEX to z=0.05 (Luminosity).\n",
    "s.par(1, 1, 'z', 0.05, thawn=True)    # Set the redshift in the model to z=0.05 (Energy shift in spectrum).\n",
    "s.par(1, 2, 'nh', 2E-4)               # Set the hydrogen column density.\n",
    "s.par(1, 2, 't', 5E-4)                # A trick to get the absorption model mimic a (nearly) neutral plasma for the ISM.\n",
    "s.par(1, 3, 'norm', 1E+6, thawn=True) # Set a guess for the normalisation of the cluster component.\n",
    "s.par(1, 3, 't', 4.0, thawn=True)     # Guess that the temperature is 4.0 keV."
   ]
  },
  {
   "cell_type": "code",
   "execution_count": null,
   "id": "fcf6300a",
   "metadata": {},
   "outputs": [],
   "source": [
    "s.calc()\n",
    "plt = s.plot_data(xlog=True, ylog=True, show=True)"
   ]
  },
  {
   "cell_type": "code",
   "execution_count": null,
   "id": "e67b1d06",
   "metadata": {},
   "outputs": [],
   "source": [
    "s.fit()\n",
    "print(s.fit_cstat())"
   ]
  },
  {
   "cell_type": "code",
   "execution_count": null,
   "id": "8e53fc4a",
   "metadata": {},
   "outputs": [],
   "source": [
    "plt = s.plot_data(xlog=True, ylog=True, show=True)"
   ]
  },
  {
   "cell_type": "code",
   "execution_count": null,
   "id": "682aba19",
   "metadata": {},
   "outputs": [],
   "source": [
    "s.par_free(1, 2, 'nh')\n",
    "s.fit()\n",
    "print(s.fit_cstat())\n",
    "plt = s.plot_data(xlog=True, ylog=True, show=True)"
   ]
  },
  {
   "cell_type": "code",
   "execution_count": null,
   "id": "56a8d2a5",
   "metadata": {},
   "outputs": [],
   "source": [
    "s.var_calc(True)\n",
    "s.fit()\n",
    "print(s.fit_cstat())\n",
    "plt = s.plot_data(xlog=True, ylog=True, show=True)"
   ]
  },
  {
   "cell_type": "code",
   "execution_count": null,
   "id": "b5381d98",
   "metadata": {},
   "outputs": [],
   "source": []
  },
  {
   "cell_type": "code",
   "execution_count": null,
   "id": "ab0ad7bc",
   "metadata": {},
   "outputs": [],
   "source": []
  },
  {
   "cell_type": "code",
   "execution_count": null,
   "id": "18b93802",
   "metadata": {},
   "outputs": [],
   "source": []
  },
  {
   "cell_type": "code",
   "execution_count": null,
   "id": "ebf9b1c3",
   "metadata": {},
   "outputs": [],
   "source": []
  },
  {
   "cell_type": "code",
   "execution_count": null,
   "id": "54a86c9a",
   "metadata": {},
   "outputs": [],
   "source": []
  }
 ],
 "metadata": {
  "kernelspec": {
   "display_name": "spex",
   "language": "python",
   "name": "spex"
  },
  "language_info": {
   "codemirror_mode": {
    "name": "ipython",
    "version": 3
   },
   "file_extension": ".py",
   "mimetype": "text/x-python",
   "name": "python",
   "nbconvert_exporter": "python",
   "pygments_lexer": "ipython3",
   "version": "3.9.17"
  },
  "latex_envs": {
   "LaTeX_envs_menu_present": true,
   "autoclose": false,
   "autocomplete": true,
   "bibliofile": "biblio.bib",
   "cite_by": "apalike",
   "current_citInitial": 1,
   "eqLabelWithNumbers": true,
   "eqNumInitial": 1,
   "hotkeys": {
    "equation": "Ctrl-E",
    "itemize": "Ctrl-I"
   },
   "labels_anchors": false,
   "latex_user_defs": false,
   "report_style_numbering": false,
   "user_envs_cfg": false
  },
  "toc": {
   "base_numbering": 1,
   "nav_menu": {},
   "number_sections": true,
   "sideBar": true,
   "skip_h1_title": false,
   "title_cell": "Table of Contents",
   "title_sidebar": "Contents",
   "toc_cell": false,
   "toc_position": {},
   "toc_section_display": true,
   "toc_window_display": false
  }
 },
 "nbformat": 4,
 "nbformat_minor": 5
}
