{
 "cells": [
  {
   "cell_type": "markdown",
   "metadata": {},
   "source": [
    "pip3 install libwwz"
   ]
  },
  {
   "cell_type": "code",
   "execution_count": 5,
   "metadata": {
    "ExecuteTime": {
     "end_time": "2022-08-17T05:48:15.801053Z",
     "start_time": "2022-08-17T05:48:14.451569Z"
    }
   },
   "outputs": [],
   "source": [
    "from astropy import units as u\n",
    "from astropy.coordinates import SkyCoord"
   ]
  },
  {
   "cell_type": "code",
   "execution_count": 4,
   "metadata": {
    "ExecuteTime": {
     "end_time": "2022-08-17T05:48:13.313469Z",
     "start_time": "2022-08-17T05:48:12.374130Z"
    }
   },
   "outputs": [],
   "source": [
    "import pandas as pd\n",
    "import numpy as np\n",
    "\n",
    "import time\n",
    "import os\n",
    "import sys"
   ]
  },
  {
   "cell_type": "code",
   "execution_count": 32,
   "metadata": {
    "ExecuteTime": {
     "end_time": "2022-08-17T06:00:35.844604Z",
     "start_time": "2022-08-17T06:00:35.838132Z"
    }
   },
   "outputs": [],
   "source": [
    "#from adjustText import adjust_text\n",
    "import matplotlib as mpl\n",
    "def set_ax_tick(ax):\n",
    "    ax.xaxis.set_tick_params(which='major', size=10, width=2, direction='in', top='on',)\n",
    "    ax.xaxis.set_tick_params(which='minor', size=5, width=2, direction='in', top='on')\n",
    "    ax.yaxis.set_tick_params(which='major', size=10, width=2, direction='in', right='on')\n",
    "    ax.yaxis.set_tick_params(which='minor', size=5, width=2, direction='in', right='on')\n",
    "\n",
    "def set_ax_locator(ax,xma=1,xmi=0.2,yma=1,ymi=0.2):\n",
    "    ax.xaxis.set_major_locator(mpl.ticker.MultipleLocator(xma))\n",
    "    ax.xaxis.set_minor_locator(mpl.ticker.MultipleLocator(xmi))\n",
    "    ax.yaxis.set_major_locator(mpl.ticker.MultipleLocator(yma))\n",
    "    ax.yaxis.set_minor_locator(mpl.ticker.MultipleLocator(ymi)) "
   ]
  },
  {
   "cell_type": "code",
   "execution_count": 72,
   "metadata": {
    "ExecuteTime": {
     "end_time": "2022-08-17T06:42:09.971509Z",
     "start_time": "2022-08-17T06:42:09.966021Z"
    }
   },
   "outputs": [],
   "source": [
    "mpl.rcParams['font.family'] = 'Avenir'\n",
    "plt.rcParams['font.size'] = 18\n",
    "plt.rcParams['axes.linewidth'] = 2"
   ]
  },
  {
   "cell_type": "markdown",
   "metadata": {},
   "source": [
    "# ztf"
   ]
  },
  {
   "cell_type": "code",
   "execution_count": null,
   "metadata": {
    "ExecuteTime": {
     "end_time": "2022-08-16T09:27:03.799010Z",
     "start_time": "2022-08-16T09:27:03.775623Z"
    }
   },
   "outputs": [],
   "source": [
    "def ztflc_show_in_jupyter(data,name,band, showtoday=False, show_upperlimits=False, formattime=True,\n",
    "             marker=\"o\", mec=\"0.7\", ms=7, ecolor=\"0.7\", ls=\"None\", zorder=4, **kwargs):\n",
    "        \"\"\" kwargs goes to matplotlib's errorbar() \"\"\"\n",
    "        FILTER_COLORS = [\"C2\",\"C3\",\"C1\"]\n",
    "        FILTER_CODE   = [\"zg\",\"zr\",\"zi\"]\n",
    "        save_name=name.strip().replace(' ','_')\n",
    "        \n",
    "\n",
    "        from astropy import time\n",
    "        import matplotlib.pyplot as mpl\n",
    "\n",
    "        # ----------- #\n",
    "        # Global      #\n",
    "        # ----------- #\n",
    "        lc_dataframe = data\n",
    "        prop = dict(marker=marker, mec=mec, ms=ms, ecolor=ecolor, ls=ls, zorder=zorder)\n",
    "\n",
    "        # ----------- #\n",
    "        #\n",
    "        # ----------- #\n",
    "        fig = mpl.figure(figsize=[7,4])\n",
    "        ax = fig.add_axes([0.1,0.15,0.8,0.75])\n",
    "        for filter_ in np.unique(lc_dataframe[\"filtercode\"]):\n",
    "            d = lc_dataframe[lc_dataframe[\"filtercode\"]==filter_]\n",
    "            if filter_ in FILTER_CODE:\n",
    "                prop[\"color\"] = np.asarray(FILTER_COLORS)[np.where(np.asarray(FILTER_CODE)==filter_)][0]\n",
    "            else:\n",
    "                prop[\"color\"] = \"0.7\"\n",
    "\n",
    "            if formattime:\n",
    "                dates = time.Time(np.asarray(d[\"mjd\"].values, dtype=\"float\"), format=\"mjd\").datetime\n",
    "            else:\n",
    "                dates = d[\"mjd\"]\n",
    "            ax.errorbar(dates, d[\"mag\"], \n",
    "                                yerr=d[\"magerr\"],\n",
    "                                **{**prop,**kwargs})\n",
    "\n",
    "        ax.invert_yaxis()\n",
    "        \n",
    "        if show_upperlimits:\n",
    "            for filter_ in np.unique(lc_dataframe[\"filtercode\"]):\n",
    "                d = lc_dataframe[lc_dataframe[\"filtercode\"]==filter_]\n",
    "                if filter_ in FILTER_CODE:\n",
    "                    color = np.asarray(FILTER_COLORS)[np.where(np.asarray(FILTER_CODE)==filter_)][0]\n",
    "                else:\n",
    "                    color = \"0.7\"\n",
    "\n",
    "                if formattime:\n",
    "                    dates = time.Time(np.asarray(d[\"mjd\"].values, dtype=\"float\"), format=\"mjd\").datetime\n",
    "                else:\n",
    "                    dates = d[\"mjd\"]\n",
    "                    \n",
    "                ax.errorbar(dates, d[\"limitmag\"], \n",
    "                            yerr=0.1, lolims=True,marker=\"None\", ls=\"None\", \n",
    "                            color=color, alpha=0.1,\n",
    "                            )\n",
    "\n",
    "        if showtoday:\n",
    "            today_color = \"0.7\"\n",
    "            import datetime\n",
    "            today = time.Time(datetime.date.today().isoformat(),format=\"iso\").mjd\n",
    "            ax.axvline(today, ls=\"--\", color=today_color, zorder=1, lw=1)\n",
    "            ax.text(today, ax.get_ylim()[0]-0.05, \"Today\", va=\"bottom\", ha=\"right\", rotation=90, color=today_color)\n",
    "\n",
    "        if formattime:\n",
    "            from matplotlib import dates as mdates            \n",
    "            locator = mdates.AutoDateLocator()\n",
    "            formatter = mdates.ConciseDateFormatter(locator)\n",
    "            ax.xaxis.set_major_locator(locator)\n",
    "            ax.xaxis.set_major_formatter(formatter)\n",
    "            ax.set_xlabel(\"Date\")\n",
    "        else:\n",
    "            ax.set_xlabel(\"MJD\")\n",
    "        # - Labels\n",
    "\n",
    "        ax.set_ylabel(\"mag\")\n",
    "        ax.set_title('%s_%s'%(name,band))\n",
    "               \n",
    "        "
   ]
  },
  {
   "cell_type": "code",
   "execution_count": null,
   "metadata": {},
   "outputs": [],
   "source": []
  },
  {
   "cell_type": "code",
   "execution_count": null,
   "metadata": {
    "ExecuteTime": {
     "end_time": "2022-08-16T09:22:32.326725Z",
     "start_time": "2022-08-16T09:22:30.340594Z"
    }
   },
   "outputs": [],
   "source": [
    "from ztfquery import lightcurve\n",
    "#lcq = lightcurve.LCQuery.from_position(299.412,50.55500, 3)"
   ]
  },
  {
   "cell_type": "code",
   "execution_count": null,
   "metadata": {},
   "outputs": [],
   "source": [
    "TMTS J035143.63+584504.2\n",
    "(TMTS-BLAP-1)"
   ]
  },
  {
   "cell_type": "code",
   "execution_count": null,
   "metadata": {
    "ExecuteTime": {
     "end_time": "2022-08-16T09:25:34.922874Z",
     "start_time": "2022-08-16T09:25:34.872472Z"
    }
   },
   "outputs": [],
   "source": [
    "coord_TMTS_BLAP_1=SkyCoord('03h51m43.63s','+58d45m04.2s') #035143.63+584504.2"
   ]
  },
  {
   "cell_type": "code",
   "execution_count": null,
   "metadata": {
    "ExecuteTime": {
     "end_time": "2022-08-16T09:25:45.305080Z",
     "start_time": "2022-08-16T09:25:45.299126Z"
    }
   },
   "outputs": [],
   "source": [
    "ra,dec= coord_TMTS_BLAP_1.ra.deg,coord_TMTS_BLAP_1.dec.deg"
   ]
  },
  {
   "cell_type": "code",
   "execution_count": null,
   "metadata": {
    "ExecuteTime": {
     "end_time": "2022-08-16T09:25:54.303859Z",
     "start_time": "2022-08-16T09:25:47.435330Z"
    }
   },
   "outputs": [],
   "source": [
    "data_g = lightcurve.LCQuery.download_data(circle=[ra,dec,0.0014], bandname=\"g\",BAD_CATFLAGS_MASK=32768)"
   ]
  },
  {
   "cell_type": "code",
   "execution_count": null,
   "metadata": {
    "ExecuteTime": {
     "end_time": "2022-08-16T09:25:59.557817Z",
     "start_time": "2022-08-16T09:25:54.306422Z"
    }
   },
   "outputs": [],
   "source": [
    "data_i = lightcurve.LCQuery.download_data(circle=[ra,dec,0.0014], bandname=\"i\",BAD_CATFLAGS_MASK=32768)"
   ]
  },
  {
   "cell_type": "code",
   "execution_count": null,
   "metadata": {
    "ExecuteTime": {
     "end_time": "2022-08-16T09:29:30.713725Z",
     "start_time": "2022-08-16T09:29:22.522114Z"
    }
   },
   "outputs": [],
   "source": [
    "data_r = lightcurve.LCQuery.download_data(circle=[ra,dec,0.0014], bandname=\"r\",BAD_CATFLAGS_MASK=32768)"
   ]
  },
  {
   "cell_type": "code",
   "execution_count": null,
   "metadata": {},
   "outputs": [],
   "source": []
  },
  {
   "cell_type": "code",
   "execution_count": null,
   "metadata": {},
   "outputs": [],
   "source": []
  },
  {
   "cell_type": "code",
   "execution_count": null,
   "metadata": {
    "ExecuteTime": {
     "end_time": "2022-08-16T09:28:06.840905Z",
     "start_time": "2022-08-16T09:28:06.511282Z"
    }
   },
   "outputs": [],
   "source": [
    "name='TMTS-BLAP-1'\n",
    "band='g'\n",
    "ztflc_show_in_jupyter(data_g,name,band)"
   ]
  },
  {
   "cell_type": "code",
   "execution_count": null,
   "metadata": {
    "ExecuteTime": {
     "end_time": "2022-08-17T02:59:05.448177Z",
     "start_time": "2022-08-17T02:59:04.968598Z"
    }
   },
   "outputs": [],
   "source": [
    "name='TMTS-BLAP-1-ztf'\n",
    "band='r'\n",
    "ztflc_show_in_jupyter(data_r,name,band)"
   ]
  },
  {
   "cell_type": "code",
   "execution_count": null,
   "metadata": {
    "ExecuteTime": {
     "end_time": "2022-08-17T02:05:10.485411Z",
     "start_time": "2022-08-17T02:05:10.478331Z"
    }
   },
   "outputs": [],
   "source": [
    "data_r.columns"
   ]
  },
  {
   "cell_type": "code",
   "execution_count": null,
   "metadata": {
    "ExecuteTime": {
     "end_time": "2022-08-17T02:50:48.082445Z",
     "start_time": "2022-08-17T02:50:48.011680Z"
    }
   },
   "outputs": [],
   "source": [
    "timestamp=data_r['mjd']\n",
    "simple_signal=data_r['mag']\n",
    "ntau=len(data_r['mjd'])"
   ]
  },
  {
   "cell_type": "code",
   "execution_count": null,
   "metadata": {
    "ExecuteTime": {
     "end_time": "2022-08-17T02:51:01.408438Z",
     "start_time": "2022-08-17T02:51:01.398550Z"
    }
   },
   "outputs": [],
   "source": [
    "min(timestamp),max(timestamp),ntau"
   ]
  },
  {
   "cell_type": "code",
   "execution_count": null,
   "metadata": {
    "ExecuteTime": {
     "end_time": "2022-08-17T02:55:57.605110Z",
     "start_time": "2022-08-17T02:55:57.600628Z"
    }
   },
   "outputs": [],
   "source": [
    "((59640-58216)/423)**-1"
   ]
  },
  {
   "cell_type": "code",
   "execution_count": null,
   "metadata": {
    "ExecuteTime": {
     "end_time": "2022-08-17T02:54:58.182285Z",
     "start_time": "2022-08-17T02:54:58.175109Z"
    }
   },
   "outputs": [],
   "source": [
    "1/1400*2"
   ]
  },
  {
   "cell_type": "markdown",
   "metadata": {},
   "source": [
    "## TMTS-BLAP-1 ztf-r-wwz"
   ]
  },
  {
   "cell_type": "code",
   "execution_count": null,
   "metadata": {
    "ExecuteTime": {
     "end_time": "2022-08-17T03:09:04.614812Z",
     "start_time": "2022-08-17T03:08:56.555123Z"
    }
   },
   "outputs": [],
   "source": [
    "!pip3 install gatspy"
   ]
  },
  {
   "cell_type": "code",
   "execution_count": null,
   "metadata": {
    "ExecuteTime": {
     "end_time": "2022-08-17T03:09:08.841025Z",
     "start_time": "2022-08-17T03:09:08.034107Z"
    }
   },
   "outputs": [],
   "source": [
    "#from GATSPYmission import get_frequency_from_LombScargle\n",
    "from gatspy import datasets, periodic"
   ]
  },
  {
   "cell_type": "code",
   "execution_count": null,
   "metadata": {},
   "outputs": [],
   "source": []
  },
  {
   "cell_type": "markdown",
   "metadata": {},
   "source": [
    "## def"
   ]
  },
  {
   "cell_type": "code",
   "execution_count": 7,
   "metadata": {
    "ExecuteTime": {
     "end_time": "2022-08-17T05:48:47.719408Z",
     "start_time": "2022-08-17T05:48:47.710198Z"
    }
   },
   "outputs": [],
   "source": [
    "from gatspy import periodic\n",
    "def get_frequency_from_LombScargle(bjd, mag, mag_err=None,prange_min=1./24./60.*3,\n",
    "                                       prange_max=1./24./60.*40.,):\n",
    "\n",
    "    model = periodic.LombScargleFast(fit_period=True)\n",
    "    model.optimizer.period_range = (prange_min,prange_max)\n",
    "    model.fit(bjd, mag, dy=mag_err)\n",
    "    p=model.best_period\n",
    "\n",
    "    return 1./p\n",
    "\n",
    "def get_c(tau,freq_lin):\n",
    "    freq_c=(freq_lin[0]+freq_lin[1])/2.\n",
    "    omega=2*np.pi*freq_c\n",
    "    return 1./omega**2/(tau/2.)**2\n",
    "\n",
    "\n",
    "def freq_estimate(time,magnitude,magnitude_error,f_width=0.003,f_resolution=0.0001):\n",
    "    f=get_frequency_from_LombScargle(time, magnitude,mag_err=magnitude_error )\n",
    "    f_lin=[f-f_width,f+f_width,f_resolution]\n",
    "    print('The freq lin is estimated to {}'.format(f_lin))\n",
    "    return f_lin\n",
    "\n",
    "\n",
    "def _readfile(filepath):\n",
    "    time, magnitude, magnitude_error= np.loadtxt(filepath,dtype=float,unpack=True,delimiter=',')\n",
    "    time,magnitude,magnitude_error=time,magnitude,magnitude_error\n",
    "    return time,magnitude,magnitude_error"
   ]
  },
  {
   "cell_type": "code",
   "execution_count": 44,
   "metadata": {
    "ExecuteTime": {
     "end_time": "2022-08-17T06:14:30.623554Z",
     "start_time": "2022-08-17T06:14:30.618292Z"
    }
   },
   "outputs": [],
   "source": [
    "def get_maxPower_freqs(wwz_2,freq_1D):\n",
    "    maxPower_freqs=[]    \n",
    "    print(wwz_2.shape[0])\n",
    "    for i in range(wwz_2.shape[0]):\n",
    "        maxindex=(wwz_2[i,:]).argmax()\n",
    "        \n",
    "        maxPower_freqs.append(freq_1D[maxindex]  )\n",
    "    \n",
    "    print('len(maxPower_freqs)',len(maxPower_freqs))\n",
    "    maxPower_freqs=np.array(maxPower_freqs)\n",
    "    return maxPower_freqs\n"
   ]
  },
  {
   "cell_type": "code",
   "execution_count": null,
   "metadata": {},
   "outputs": [],
   "source": []
  },
  {
   "cell_type": "markdown",
   "metadata": {},
   "source": [
    "data_r[['mjd','mag','magerr']].to_csv('ztf_data_r_mjd_mag_magerr.txt',header=None,index=False,)"
   ]
  },
  {
   "cell_type": "code",
   "execution_count": 102,
   "metadata": {
    "ExecuteTime": {
     "end_time": "2022-08-17T07:08:53.571604Z",
     "start_time": "2022-08-17T07:08:40.558750Z"
    }
   },
   "outputs": [
    {
     "name": "stdout",
     "output_type": "stream",
     "text": [
      "Finding optimal frequency:\n",
      " - Estimated peak width = 0.00441\n",
      " - Using 5 steps per peak; omega_step = 0.000882\n",
      " - User-specified period range:  0.0021 to 0.028\n",
      " - Computing periods at 3161452 steps\n",
      "Zooming-in on 5 candidate peaks:\n",
      " - Computing periods at 995 steps\n",
      "The freq lin is estimated to [47.06431322336245, 107.06431322336245, 0.0001]\n",
      "The decay constant is set to 4.739048233828132e-11 when time scale is 600 days.\n"
     ]
    }
   ],
   "source": [
    "name='TMTS-BLAP-1'\n",
    "band='r'\n",
    "#data=data_r\n",
    "#timestamp=data_r['mjd']\n",
    "#time=data_r['mjd']\n",
    "#simple_signal=data_r['mag']\n",
    "#magnitude=data_r['mag']\n",
    "#magnitude_error= data_r['magerr']\n",
    "timestamp,magnitude,magnitude_error=_readfile('ztf_data_r_mjd_mag_magerr.txt')\n",
    "\n",
    "ntau=100\n",
    "\n",
    "f_lin=freq_estimate(timestamp,magnitude,magnitude_error,f_width=30)\n",
    "\n",
    "time_scale=600\n",
    "#tau=time_scale\n",
    "\n",
    "c=get_c(time_scale,f_lin)\n",
    "print('The decay constant is set to {} when time scale is {} days.'.format(c,time_scale))\n",
    "\n"
   ]
  },
  {
   "cell_type": "code",
   "execution_count": 103,
   "metadata": {
    "ExecuteTime": {
     "end_time": "2022-08-17T07:08:56.294256Z",
     "start_time": "2022-08-17T07:08:56.288620Z"
    }
   },
   "outputs": [
    {
     "data": {
      "text/plain": [
       "[47.06431322336245, 107.06431322336245, 0.0001]"
      ]
     },
     "execution_count": 103,
     "metadata": {},
     "output_type": "execute_result"
    }
   ],
   "source": [
    "f_lin"
   ]
  },
  {
   "cell_type": "code",
   "execution_count": 109,
   "metadata": {
    "ExecuteTime": {
     "end_time": "2022-08-17T07:10:14.862149Z",
     "start_time": "2022-08-17T07:10:14.857201Z"
    }
   },
   "outputs": [
    {
     "data": {
      "text/plain": [
       "77.06431322336245"
      ]
     },
     "execution_count": 109,
     "metadata": {},
     "output_type": "execute_result"
    }
   ],
   "source": [
    "(f_lin[0]+f_lin[1])/2"
   ]
  },
  {
   "cell_type": "code",
   "execution_count": 110,
   "metadata": {
    "ExecuteTime": {
     "end_time": "2022-08-17T07:10:34.088135Z",
     "start_time": "2022-08-17T07:10:34.082298Z"
    }
   },
   "outputs": [
    {
     "data": {
      "text/plain": [
       "(30.596430742883815, 13.44985977723321, 18.6856917264197)"
      ]
     },
     "execution_count": 110,
     "metadata": {},
     "output_type": "execute_result"
    }
   ],
   "source": [
    "1/f_lin[0]*24*60,1/f_lin[1]*24*60, ((f_lin[0]+f_lin[1])/2)**-1*24*60"
   ]
  },
  {
   "cell_type": "code",
   "execution_count": 105,
   "metadata": {
    "ExecuteTime": {
     "end_time": "2022-08-17T07:09:14.456749Z",
     "start_time": "2022-08-17T07:09:14.452476Z"
    }
   },
   "outputs": [
    {
     "name": "stdout",
     "output_type": "stream",
     "text": [
      "0.002083333333333333 0.027777777777777776\n"
     ]
    }
   ],
   "source": [
    "prange_min=1./24./60.*3\n",
    "prange_max=1./24./60.*40.\n",
    "print(prange_min,prange_max)"
   ]
  },
  {
   "cell_type": "code",
   "execution_count": 106,
   "metadata": {
    "ExecuteTime": {
     "end_time": "2022-08-17T07:09:16.778958Z",
     "start_time": "2022-08-17T07:09:16.774577Z"
    }
   },
   "outputs": [
    {
     "data": {
      "text/plain": [
       "(480.0000000000001, 36.0)"
      ]
     },
     "execution_count": 106,
     "metadata": {},
     "output_type": "execute_result"
    }
   ],
   "source": [
    "1/prange_min,1/prange_max"
   ]
  },
  {
   "cell_type": "code",
   "execution_count": null,
   "metadata": {},
   "outputs": [],
   "source": []
  },
  {
   "cell_type": "code",
   "execution_count": 123,
   "metadata": {
    "ExecuteTime": {
     "end_time": "2022-08-17T07:15:02.985469Z",
     "start_time": "2022-08-17T07:15:01.731275Z"
    }
   },
   "outputs": [
    {
     "data": {
      "text/plain": [
       "Text(0, 0.5, 'Lomb Scargle Power')"
      ]
     },
     "execution_count": 123,
     "metadata": {},
     "output_type": "execute_result"
    },
    {
     "data": {
      "image/png": "[encoded data removed]",
      "text/plain": [
       "<Figure size 576x288 with 1 Axes>"
      ]
     },
     "metadata": {
      "needs_background": "light"
     },
     "output_type": "display_data"
    }
   ],
   "source": [
    "model = periodic.LombScargleFast()\n",
    "model.fit(timestamp,magnitude,magnitude_error)\n",
    "\n",
    "prange_min=1./24./60.*3.\n",
    "prange_max=1./24./60.*50.\n",
    "periods=np.linspace(prange_min,prange_max,10000)\n",
    "\n",
    "import warnings\n",
    "with warnings.catch_warnings():\n",
    "    warnings.simplefilter(\"ignore\")\n",
    "    scores = model.score(periods)\n",
    "\n",
    "# Plot the resultsa\n",
    "fig, ax = plt.subplots(figsize=(8, 4))\n",
    "fig.subplots_adjust(bottom=0.2)\n",
    "ax.plot(periods*24*60, scores)\n",
    "\n",
    "#ax.set(xlabel='period (days)', ylabel='Lomb Scargle Power',)\n",
    "set_ax_tick(ax)\n",
    "ax.set_xlabel('period (minutes)',labelpad=10)\n",
    "ax.set_ylabel('Lomb Scargle Power')"
   ]
  },
  {
   "cell_type": "code",
   "execution_count": null,
   "metadata": {},
   "outputs": [],
   "source": []
  },
  {
   "cell_type": "code",
   "execution_count": 10,
   "metadata": {
    "ExecuteTime": {
     "end_time": "2022-08-17T05:49:27.603216Z",
     "start_time": "2022-08-17T05:49:27.597202Z"
    }
   },
   "outputs": [
    {
     "name": "stdout",
     "output_type": "stream",
     "text": [
      "100 [77.06131322336245, 77.06731322336245, 0.0001] 4.739048233828132e-11\n"
     ]
    }
   ],
   "source": [
    "print(ntau, f_lin, c)"
   ]
  },
  {
   "cell_type": "code",
   "execution_count": null,
   "metadata": {
    "ExecuteTime": {
     "end_time": "2022-08-17T03:40:41.743125Z",
     "start_time": "2022-08-17T03:40:41.738086Z"
    }
   },
   "outputs": [],
   "source": []
  },
  {
   "cell_type": "markdown",
   "metadata": {
    "ExecuteTime": {
     "end_time": "2022-08-17T03:40:45.065903Z",
     "start_time": "2022-08-17T03:40:45.048168Z"
    }
   },
   "source": [
    "timestamp,magnitude,magnitude_error"
   ]
  },
  {
   "cell_type": "code",
   "execution_count": 11,
   "metadata": {
    "ExecuteTime": {
     "end_time": "2022-08-17T05:50:22.542598Z",
     "start_time": "2022-08-17T05:50:04.095176Z"
    }
   },
   "outputs": [
    {
     "name": "stdout",
     "output_type": "stream",
     "text": [
      "*** Starting Weighted Wavelet Z-transform ***\n",
      "\n",
      "Pseudo sample frequency (median) is  0.501\n",
      "largest tau window is  5.749\n",
      "17.4 seconds has passed to complete Weighted Wavelet Z-transform \n",
      "\n",
      "17.4 seconds has passed (finished WWZ_simple_linear)\n"
     ]
    }
   ],
   "source": [
    "import time\n",
    "# noinspection Mypy\n",
    "import matplotlib.pyplot as plt\n",
    "# noinspection Mypy\n",
    "import numpy as np\n",
    "import libwwz.wwz as wwz\n",
    "import libwwz.plot_methods as wwz_plot\n",
    "\n",
    "# Get the WWZ/WWA of the signals (linear)\n",
    "# 'linear'\n",
    "starttime = time.time()\n",
    "WWZ_simple_linear = wwz.wwt(timestamp, magnitude, ntau, f_lin, c, 'linear')\n",
    "print(round(time.time() - starttime, 2), 'seconds has passed (finished WWZ_simple_linear)')\n",
    "\n"
   ]
  },
  {
   "cell_type": "code",
   "execution_count": 83,
   "metadata": {
    "ExecuteTime": {
     "end_time": "2022-08-17T07:01:10.478221Z",
     "start_time": "2022-08-17T07:01:10.457757Z"
    }
   },
   "outputs": [
    {
     "data": {
      "text/plain": [
       "[77.06131322336245, 77.06731322336245, 0.0001]"
      ]
     },
     "execution_count": 83,
     "metadata": {},
     "output_type": "execute_result"
    }
   ],
   "source": [
    "f_lin[0]"
   ]
  },
  {
   "cell_type": "code",
   "execution_count": 13,
   "metadata": {
    "ExecuteTime": {
     "end_time": "2022-08-17T05:51:30.424653Z",
     "start_time": "2022-08-17T05:51:30.421042Z"
    }
   },
   "outputs": [],
   "source": [
    "taus= WWZ_simple_linear[0]\n",
    "freqs= WWZ_simple_linear[1]\n",
    "wwz_2= WWZ_simple_linear[2]#wwz\n",
    "freq_1D=freqs[0,:]\n",
    "tau_1D=taus[:,0]"
   ]
  },
  {
   "cell_type": "code",
   "execution_count": 53,
   "metadata": {
    "ExecuteTime": {
     "end_time": "2022-08-17T06:34:34.065919Z",
     "start_time": "2022-08-17T06:34:33.880487Z"
    }
   },
   "outputs": [
    {
     "data": {
      "image/png": "[encoded data removed]",
      "text/plain": [
       "<Figure size 1152x432 with 1 Axes>"
      ]
     },
     "metadata": {
      "needs_background": "light"
     },
     "output_type": "display_data"
    }
   ],
   "source": [
    "plt.rcParams[\"figure.figsize\"] = [16, 6]\n",
    "plt.rcParams.update({'font.size': 14})\n",
    "\n",
    "# Plot of base functions\n",
    "#plt.figure(0)\n",
    "fig, ax = plt.subplots(nrows=1, ncols=1)\n",
    "plt.errorbar(x=timestamp,y=magnitude,yerr=magnitude_error,ls='')\n",
    "#plt.plot(timestamp_removed, simple_removed, 'o')\n",
    "plt.ylabel(\"mag\")\n",
    "#plt.legend(['full', 'removed'], loc=1, fontsize=10)\n",
    "plt.xlabel(\"MJD (d)\")\n",
    "\n",
    "bottom, top = ax.set_ylim()\n",
    "if bottom< top:\n",
    "    ax.set_ylim(top,bottom)\n",
    "    \n",
    "#plt.suptitle('The simple signal (2 Hz)')"
   ]
  },
  {
   "cell_type": "markdown",
   "metadata": {},
   "source": [
    "## plot_WWZ_LINEAR"
   ]
  },
  {
   "cell_type": "code",
   "execution_count": 39,
   "metadata": {
    "ExecuteTime": {
     "end_time": "2022-08-17T06:05:06.767310Z",
     "start_time": "2022-08-17T06:05:06.220243Z"
    }
   },
   "outputs": [
    {
     "data": {
      "image/png": "[encoded data removed]",
      "text/plain": [
       "<Figure size 432x432 with 2 Axes>"
      ]
     },
     "metadata": {
      "needs_background": "light"
     },
     "output_type": "display_data"
    }
   ],
   "source": [
    "# Plot of WWZ for simple and simple removed\n",
    "# 'linear'\n",
    "fig, ax = plt.subplots(nrows=1, ncols=1)\n",
    "wwz_plot.linear_plotter(ax=ax,#[0, 0],\n",
    "                        TAU=WWZ_simple_linear[0],\n",
    "                        FREQ=WWZ_simple_linear[1],\n",
    "                        DATA=WWZ_simple_linear[2])\n",
    "ax.set_ylabel(r'full data (day$^{-1}$)') #ax[0, 0]\n",
    "#ax.set_xticks([])\n",
    "#ax.set_yticks([1, 2, 3, 4, 5])\n",
    "#ax.set_ylim(f_lin[0],f_lin[1])\n",
    "ax.set_title('WWZ ztf-r ')\n",
    "set_ax_tick(ax)\n",
    "set_ax_locator(ax,100,50,0.001,0.0005)"
   ]
  },
  {
   "cell_type": "code",
   "execution_count": 30,
   "metadata": {
    "ExecuteTime": {
     "end_time": "2022-08-17T05:59:52.347395Z",
     "start_time": "2022-08-17T05:59:52.341845Z"
    }
   },
   "outputs": [
    {
     "data": {
      "text/plain": [
       "(58216.1470486, 59640.2238542, 1424.0768055999943)"
      ]
     },
     "execution_count": 30,
     "metadata": {},
     "output_type": "execute_result"
    }
   ],
   "source": [
    "min(timestamp),max(timestamp),max(timestamp)-min(timestamp)"
   ]
  },
  {
   "cell_type": "code",
   "execution_count": 50,
   "metadata": {
    "ExecuteTime": {
     "end_time": "2022-08-17T06:31:38.680451Z",
     "start_time": "2022-08-17T06:31:38.613467Z"
    }
   },
   "outputs": [
    {
     "data": {
      "text/plain": [
       "(77.06131322336245, 77.06731322336245, 77.06431322336245)"
      ]
     },
     "execution_count": 50,
     "metadata": {},
     "output_type": "execute_result"
    }
   ],
   "source": [
    "f_lin[0],f_lin[1],(f_lin[0]+f_lin[1])/2"
   ]
  },
  {
   "cell_type": "code",
   "execution_count": 45,
   "metadata": {
    "ExecuteTime": {
     "end_time": "2022-08-17T06:15:46.929648Z",
     "start_time": "2022-08-17T06:15:46.923275Z"
    }
   },
   "outputs": [
    {
     "name": "stdout",
     "output_type": "stream",
     "text": [
      "100\n",
      "len(maxPower_freqs) 100\n"
     ]
    }
   ],
   "source": [
    "maxPower_freqs=get_maxPower_freqs(wwz_2,freq_1D)"
   ]
  },
  {
   "cell_type": "code",
   "execution_count": 47,
   "metadata": {
    "ExecuteTime": {
     "end_time": "2022-08-17T06:18:30.994738Z",
     "start_time": "2022-08-17T06:18:30.975717Z"
    }
   },
   "outputs": [
    {
     "name": "stdout",
     "output_type": "stream",
     "text": [
      "77.06457522336255 4.853864439965769e-05\n"
     ]
    }
   ],
   "source": [
    "print(np.mean(maxPower_freqs),np.std(maxPower_freqs))"
   ]
  },
  {
   "cell_type": "code",
   "execution_count": 46,
   "metadata": {
    "ExecuteTime": {
     "end_time": "2022-08-17T06:15:48.630725Z",
     "start_time": "2022-08-17T06:15:48.624123Z"
    }
   },
   "outputs": [
    {
     "name": "stdout",
     "output_type": "stream",
     "text": [
      "[77.06451322 77.06451322 77.06451322 77.06451322 77.06451322 77.06451322\n",
      " 77.06451322 77.06451322 77.06451322 77.06451322 77.06451322 77.06451322\n",
      " 77.06451322 77.06451322 77.06451322 77.06451322 77.06451322 77.06451322\n",
      " 77.06451322 77.06451322 77.06451322 77.06451322 77.06451322 77.06451322\n",
      " 77.06451322 77.06451322 77.06451322 77.06451322 77.06451322 77.06451322\n",
      " 77.06451322 77.06451322 77.06451322 77.06451322 77.06451322 77.06451322\n",
      " 77.06451322 77.06451322 77.06461322 77.06461322 77.06461322 77.06461322\n",
      " 77.06461322 77.06461322 77.06461322 77.06461322 77.06461322 77.06461322\n",
      " 77.06461322 77.06461322 77.06461322 77.06461322 77.06461322 77.06461322\n",
      " 77.06461322 77.06461322 77.06461322 77.06461322 77.06461322 77.06461322\n",
      " 77.06461322 77.06461322 77.06461322 77.06461322 77.06461322 77.06461322\n",
      " 77.06461322 77.06461322 77.06461322 77.06461322 77.06461322 77.06461322\n",
      " 77.06461322 77.06461322 77.06461322 77.06461322 77.06461322 77.06461322\n",
      " 77.06461322 77.06461322 77.06461322 77.06461322 77.06461322 77.06461322\n",
      " 77.06461322 77.06461322 77.06461322 77.06461322 77.06461322 77.06461322\n",
      " 77.06461322 77.06461322 77.06461322 77.06461322 77.06461322 77.06461322\n",
      " 77.06461322 77.06461322 77.06461322 77.06461322]\n"
     ]
    }
   ],
   "source": [
    "print(maxPower_freqs)"
   ]
  },
  {
   "cell_type": "code",
   "execution_count": 51,
   "metadata": {
    "ExecuteTime": {
     "end_time": "2022-08-17T06:32:12.838400Z",
     "start_time": "2022-08-17T06:32:12.829429Z"
    }
   },
   "outputs": [
    {
     "data": {
      "text/plain": [
       "(18.68562819980945, 18.6856917264197)"
      ]
     },
     "execution_count": 51,
     "metadata": {},
     "output_type": "execute_result"
    }
   ],
   "source": [
    "1/77.06457522336255*24*60,1/77.06431322336245*24*60"
   ]
  },
  {
   "cell_type": "code",
   "execution_count": 88,
   "metadata": {
    "ExecuteTime": {
     "end_time": "2022-08-17T07:04:24.112829Z",
     "start_time": "2022-08-17T07:04:24.107051Z"
    }
   },
   "outputs": [
    {
     "data": {
      "text/plain": [
       "(18.68811672911517, 18.68326735298775)"
      ]
     },
     "execution_count": 88,
     "metadata": {},
     "output_type": "execute_result"
    }
   ],
   "source": [
    "1/f_lin[0]*24*60,1/f_lin[1]*24*60"
   ]
  },
  {
   "cell_type": "markdown",
   "metadata": {},
   "source": [
    "# WWZ"
   ]
  },
  {
   "cell_type": "markdown",
   "metadata": {},
   "source": [
    "## example"
   ]
  },
  {
   "cell_type": "code",
   "execution_count": null,
   "metadata": {
    "ExecuteTime": {
     "end_time": "2022-08-16T09:35:44.147848Z",
     "start_time": "2022-08-16T09:35:44.136727Z"
    }
   },
   "outputs": [],
   "source": [
    "\"\"\"\n",
    "This module provides examples demonstrating the WWZ by looking at a simple signal (2 Hz).\n",
    "\n",
    "Please select whether to run in parallel or not.\n",
    "There are 'linear' method and 'octave' method.\n",
    "current example showcases both methods\n",
    "\n",
    "NOTE: The WWZ shows better information on frequency and WWA shows better information on amplitude.\n",
    "\"\"\"\n",
    "\n",
    "import time\n",
    "# noinspection Mypy\n",
    "import matplotlib.pyplot as plt\n",
    "# noinspection Mypy\n",
    "import numpy as np\n",
    "import libwwz.wwz as wwz\n",
    "import libwwz.plot_methods as wwz_plot\n",
    "\n",
    "# Select Mode...\n",
    "parallel = True\n",
    "\n",
    "# number of time\n",
    "ntau = 20  # Creates new time with this many divisions.\n",
    "\n",
    "# linear\n",
    "freq_low = 1\n",
    "freq_high = 5\n",
    "freq_steps = 0.2  # Resolution of frequency steps\n",
    "freq_lin = [freq_low, freq_high, freq_steps]\n",
    "\n",
    "# octave\n",
    "freq_target = 2\n",
    "freq_low = 0.5\n",
    "freq_high = 6.5\n",
    "band_order = 3\n",
    "log_scale_base = 10**(3/10)\n",
    "override = False\n",
    "freq_oct = [freq_target, freq_low, freq_high, band_order, log_scale_base, override]\n",
    "\n",
    "# decay constant  (c < 0.02) where c = 1/(2*w^2)\n",
    "# The analyzing wavelet decays significantly in a single cycle 2*pi/w, where w = 2*pi*f\n",
    "f = 2\n",
    "w = 2 * np.pi * f\n",
    "c = 1/(2*w**2)\n",
    "\n",
    "# Code to remove data points at random\n",
    "\n",
    "def remove_fraction_with_seed(data, fraction, seed=np.random.randint(1)):\n",
    "    \"\"\"\n",
    "    removes fraction of data at random with given seed.\n",
    "    :param data: data to remove\n",
    "    :param fraction: fraction to remove\n",
    "    :param seed: seed for randomness\n",
    "    :return: data with fraction removed\n",
    "    \"\"\"\n",
    "    n_to_remove = int(len(data) * fraction)\n",
    "    np.random.seed(seed)\n",
    "\n",
    "    return np.delete(data, np.random.choice(np.arange(len(data)), n_to_remove, replace=False))"
   ]
  },
  {
   "cell_type": "code",
   "execution_count": null,
   "metadata": {
    "ExecuteTime": {
     "end_time": "2022-08-16T09:37:49.703794Z",
     "start_time": "2022-08-16T09:37:49.693232Z"
    }
   },
   "outputs": [],
   "source": [
    "sample_freq = 80\n",
    "timestamp = np.arange(0, 60, 1 / sample_freq)\n",
    "\n",
    "# Create simple signal (2hz)\n",
    "sine_2hz = np.sin(timestamp * 2 * (2 * np.pi))\n",
    "simple_signal = sine_2hz\n",
    "\n",
    "# Remove 80% of the signal at random\n",
    "simple_removed = remove_fraction_with_seed(simple_signal, 0.8)\n",
    "timestamp_removed = remove_fraction_with_seed(timestamp, 0.8)"
   ]
  },
  {
   "cell_type": "code",
   "execution_count": null,
   "metadata": {},
   "outputs": [],
   "source": []
  },
  {
   "cell_type": "code",
   "execution_count": 62,
   "metadata": {
    "ExecuteTime": {
     "end_time": "2022-08-17T06:35:59.102661Z",
     "start_time": "2022-08-17T06:35:58.935834Z"
    }
   },
   "outputs": [
    {
     "data": {
      "text/plain": [
       "[<matplotlib.lines.Line2D at 0x12e75ab80>]"
      ]
     },
     "execution_count": 62,
     "metadata": {},
     "output_type": "execute_result"
    },
    {
     "data": {
      "image/png": "[encoded data removed]",
      "text/plain": [
       "<Figure size 504x288 with 1 Axes>"
      ]
     },
     "metadata": {
      "needs_background": "light"
     },
     "output_type": "display_data"
    }
   ],
   "source": [
    "fig = plt.figure(figsize=[7,4])\n",
    "ax= fig.add_axes([0.1,0.15,0.8,0.75])\n",
    "\n",
    "ax.plot(timestamp, magnitude, ls='',marker='.')"
   ]
  },
  {
   "cell_type": "code",
   "execution_count": null,
   "metadata": {},
   "outputs": [],
   "source": []
  },
  {
   "cell_type": "code",
   "execution_count": null,
   "metadata": {},
   "outputs": [],
   "source": []
  },
  {
   "cell_type": "code",
   "execution_count": null,
   "metadata": {},
   "outputs": [],
   "source": [
    "\n",
    "\n",
    "\n",
    "def run_examples() -> None:\n",
    "    \"\"\"\n",
    "    An example of WWZ/WWA using a sine function time series with missing data will be shown.\n",
    "    \"\"\"\n",
    "\n",
    "    # Set timestamps\n",
    "    sample_freq = 80\n",
    "    timestamp = np.arange(0, 60, 1 / sample_freq)\n",
    "\n",
    "    # Create simple signal (2hz)\n",
    "    sine_2hz = np.sin(timestamp * 2 * (2 * np.pi))\n",
    "    simple_signal = sine_2hz\n",
    "\n",
    "    # Remove 80% of the signal at random\n",
    "    simple_removed = remove_fraction_with_seed(simple_signal, 0.8)\n",
    "    timestamp_removed = remove_fraction_with_seed(timestamp, 0.8)\n",
    "\n",
    "    # Get the WWZ/WWA of the signals (linear)\n",
    "    # 'linear'\n",
    "    starttime = time.time()\n",
    "    WWZ_simple_linear = wwz.wwt(timestamp, simple_signal, ntau, freq_lin, c, 'linear')\n",
    "    print(round(time.time() - starttime, 2), 'seconds has passed (finished WWZ_simple_linear)')\n",
    "    WWZ_simple_removed_linear = wwz.wwt(timestamp_removed, simple_removed, ntau, freq_lin, c, 'linear')\n",
    "    print(round(time.time() - starttime, 2), 'seconds has passed (finished WWZ_simple_removed_linear)')\n",
    "\n",
    "    # 'octave'\n",
    "    WWZ_simple_octave = wwz.wwt(timestamp, simple_signal, ntau, freq_oct, c, 'octave')\n",
    "    print(round(time.time() - starttime, 2), 'seconds has passed (finished WWZ_simple_octave)')\n",
    "    WWZ_simple_removed_octave = wwz.wwt(timestamp_removed, simple_removed, ntau, freq_oct, c, 'octave')\n",
    "    print(round(time.time() - starttime, 2), 'seconds has passed (finished WWZ_simple_removed_octave)')\n",
    "\n",
    "    # Plot\n",
    "    plt.rcParams[\"figure.figsize\"] = [14, 6]\n",
    "    plt.rcParams.update({'font.size': 14})\n",
    "\n",
    "    # Plot of base functions\n",
    "    plt.figure(0)\n",
    "    plt.plot(timestamp, simple_signal, '-')\n",
    "    plt.plot(timestamp_removed, simple_removed, 'o')\n",
    "    plt.ylabel(\"simple (count)\")\n",
    "    plt.legend(['full', 'removed'], loc=1, fontsize=10)\n",
    "    plt.xlabel(\"time (s)\")\n",
    "    plt.suptitle('The simple signal (2 Hz)')\n",
    "\n",
    "    # Plot of WWZ for simple and simple removed\n",
    "    # 'linear'\n",
    "    fig, ax = plt.subplots(nrows=2, ncols=2)\n",
    "    wwz_plot.linear_plotter(ax=ax[0, 0],\n",
    "                            TAU=WWZ_simple_linear[0],\n",
    "                            FREQ=WWZ_simple_linear[1],\n",
    "                            DATA=WWZ_simple_linear[2])\n",
    "    ax[0, 0].set_ylabel('full data (Hz)')\n",
    "    ax[0, 0].set_xticks([])\n",
    "    ax[0, 0].set_yticks([1, 2, 3, 4, 5])\n",
    "    ax[0, 0].set_title('WWZ')\n",
    "\n",
    "    wwz_plot.linear_plotter(ax=ax[1, 0],\n",
    "                            TAU=WWZ_simple_removed_linear[0],\n",
    "                            FREQ=WWZ_simple_removed_linear[1],\n",
    "                            DATA=WWZ_simple_removed_linear[2])\n",
    "    ax[1, 0].set_ylabel('removed data (Hz)')\n",
    "    ax[1, 0].set_xlabel('time (s)')\n",
    "    ax[1, 0].set_yticks([1, 2, 3, 4, 5])\n",
    "\n",
    "    # Plot of WWA for the same signal\n",
    "    wwz_plot.linear_plotter(ax=ax[0, 1],\n",
    "                            TAU=WWZ_simple_linear[0],\n",
    "                            FREQ=WWZ_simple_linear[1],\n",
    "                            DATA=WWZ_simple_linear[3])\n",
    "    ax[0, 1].set_title('WWA')\n",
    "    ax[0, 1].set_xticks([])\n",
    "    ax[0, 1].set_yticks([])\n",
    "\n",
    "    wwz_plot.linear_plotter(ax=ax[1, 1],\n",
    "                            TAU=WWZ_simple_removed_linear[0],\n",
    "                            FREQ=WWZ_simple_removed_linear[1],\n",
    "                            DATA=WWZ_simple_removed_linear[3])\n",
    "    ax[1, 1].set_xlabel('time (s)')\n",
    "    ax[1, 1].set_yticks([])\n",
    "    plt.suptitle('Linear Method')\n",
    "    plt.tight_layout()\n",
    "\n",
    "    # 'octave\n",
    "    fig, ax = plt.subplots(nrows=2, ncols=2)\n",
    "    wwz_plot.octave_plotter(ax=ax[0, 0],\n",
    "                            TAU=WWZ_simple_octave[0],\n",
    "                            FREQ=WWZ_simple_octave[1],\n",
    "                            DATA=WWZ_simple_octave[2],\n",
    "                            band_order=band_order,\n",
    "                            log_scale_base=log_scale_base)\n",
    "    ax[0, 0].set_ylabel('full data (Hz)')\n",
    "    ax[0, 0].set_xticks([])\n",
    "    ax[0, 0].set_title('WWZ')\n",
    "\n",
    "    wwz_plot.octave_plotter(ax=ax[1, 0],\n",
    "                            TAU=WWZ_simple_removed_octave[0],\n",
    "                            FREQ=WWZ_simple_removed_octave[1],\n",
    "                            DATA=WWZ_simple_removed_octave[2],\n",
    "                            band_order=band_order,\n",
    "                            log_scale_base=log_scale_base)\n",
    "    ax[1, 0].set_ylabel('removed data (Hz)')\n",
    "    ax[1, 0].set_xlabel('time (s)')\n",
    "\n",
    "    # Plot of WWA for the same signal\n",
    "    wwz_plot.octave_plotter(ax=ax[0, 1],\n",
    "                            TAU=WWZ_simple_octave[0],\n",
    "                            FREQ=WWZ_simple_octave[1],\n",
    "                            DATA=WWZ_simple_octave[3],\n",
    "                            band_order=band_order,\n",
    "                            log_scale_base=log_scale_base)\n",
    "    ax[0, 1].set_title('WWA')\n",
    "    ax[0, 1].set_xticks([])\n",
    "    ax[0, 1].set_yticks([])\n",
    "\n",
    "    wwz_plot.octave_plotter(ax=ax[1, 1],\n",
    "                            TAU=WWZ_simple_removed_octave[0],\n",
    "                            FREQ=WWZ_simple_removed_octave[1],\n",
    "                            DATA=WWZ_simple_removed_octave[3],\n",
    "                            band_order=band_order,\n",
    "                            log_scale_base=log_scale_base)\n",
    "    ax[1, 1].set_xlabel('time (s)')\n",
    "    ax[1, 1].set_yticks([])\n",
    "    plt.suptitle('Octave Method')\n",
    "    plt.tight_layout()\n",
    "    \n",
    "    #plt.show()\n",
    "    plt.savefig('libwwz_example.png')\n",
    "\n",
    "\n",
    "if __name__ == \"__main__\":\n",
    "    run_examples()\n"
   ]
  },
  {
   "cell_type": "code",
   "execution_count": null,
   "metadata": {
    "ExecuteTime": {
     "end_time": "2022-08-16T09:34:40.989643Z",
     "start_time": "2022-08-16T09:34:40.985564Z"
    }
   },
   "outputs": [],
   "source": [
    "import libwwz\n",
    "import time\n",
    "# noinspection Mypy\n",
    "import matplotlib.pyplot as plt\n",
    "# noinspection Mypy\n",
    "import numpy as np\n",
    "import libwwz.wwz as wwz\n",
    "import libwwz.plot_methods as wwz_plot"
   ]
  },
  {
   "cell_type": "code",
   "execution_count": null,
   "metadata": {},
   "outputs": [],
   "source": []
  }
 ],
 "metadata": {
  "kernelspec": {
   "display_name": "Python 3",
   "language": "python",
   "name": "python3"
  },
  "language_info": {
   "codemirror_mode": {
    "name": "ipython",
    "version": 3
   },
   "file_extension": ".py",
   "mimetype": "text/x-python",
   "name": "python",
   "nbconvert_exporter": "python",
   "pygments_lexer": "ipython3",
   "version": "3.8.5"
  },
  "latex_envs": {
   "LaTeX_envs_menu_present": true,
   "autocomplete": true,
   "bibliofile": "biblio.bib",
   "cite_by": "apalike",
   "current_citInitial": 1,
   "eqLabelWithNumbers": true,
   "eqNumInitial": 1,
   "hotkeys": {
    "equation": "Ctrl-E",
    "itemize": "Ctrl-I"
   },
   "labels_anchors": false,
   "latex_user_defs": false,
   "report_style_numbering": false,
   "user_envs_cfg": false
  },
  "toc": {
   "nav_menu": {},
   "number_sections": true,
   "sideBar": true,
   "skip_h1_title": false,
   "toc_cell": false,
   "toc_position": {
    "height": "414.719px",
    "left": "0px",
    "right": "1016px",
    "top": "160.281px",
    "width": "212px"
   },
   "toc_section_display": "block",
   "toc_window_display": true
  }
 },
 "nbformat": 4,
 "nbformat_minor": 2
}
