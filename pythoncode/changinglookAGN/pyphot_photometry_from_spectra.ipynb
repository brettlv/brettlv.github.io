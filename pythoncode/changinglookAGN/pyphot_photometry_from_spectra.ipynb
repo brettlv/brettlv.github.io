{
 "cells": [
  {
   "cell_type": "markdown",
   "id": "e26ebbfd",
   "metadata": {},
   "source": [
    "[pyphot](https://mfouesneau.github.io/pyphot/libcontent.html)"
   ]
  },
  {
   "cell_type": "markdown",
   "id": "f1d6cff0",
   "metadata": {
    "ExecuteTime": {
     "end_time": "2023-07-18T14:30:56.756411Z",
     "start_time": "2023-07-18T14:30:30.845410Z"
    }
   },
   "source": [
    "#Install a conda package in the current Jupyter kernel\n",
    "import sys\n",
    "!{sys.executable} -m pip install pyphot"
   ]
  },
  {
   "cell_type": "markdown",
   "id": "f7b0d5ed",
   "metadata": {
    "ExecuteTime": {
     "end_time": "2023-07-18T14:17:08.313967Z",
     "start_time": "2023-07-18T14:15:06.779321Z"
    }
   },
   "source": [
    "!pip install git+https://github.com/mfouesneau/pyphot"
   ]
  },
  {
   "cell_type": "code",
   "execution_count": 10,
   "id": "ce4f2fbb",
   "metadata": {
    "ExecuteTime": {
     "end_time": "2023-07-18T14:31:45.672315Z",
     "start_time": "2023-07-18T14:30:59.853546Z"
    }
   },
   "outputs": [],
   "source": [
    "import pyphot"
   ]
  },
  {
   "cell_type": "code",
   "execution_count": null,
   "id": "78885bfb",
   "metadata": {
    "ExecuteTime": {
     "end_time": "2023-07-18T14:10:24.762565Z",
     "start_time": "2023-07-18T14:10:24.735534Z"
    }
   },
   "outputs": [],
   "source": [
    "import pyphot\n",
    "\n",
    "# define header and table format (as csv)\n",
    "hdr = (\"name\", \"detector type\", \"wavelength units\",\n",
    "       \"central wavelength\", \"pivot wavelength\", \"effective wavelength\",\n",
    "       \"Vega mag\", \"Vega flux\", \"Vega Jy\",\n",
    "       \"AB mag\", \"AB flux\", \"AB Jy\",\n",
    "       \"ST mag\", \"ST flux\", \"ST Jy\")\n",
    "fmt = \"{0:s},{1:s},{2:s},{3:.3f},{4:.3f},{5:.3f},{6:.5f},{7:.5g},{8:.5g},{9:.5f},{10:.5g},{11:.5g},{12:.5f},{13:.5g},{14:.5g}\\n\"\n",
    "\n",
    "l = pyphot.get_library()"
   ]
  },
  {
   "cell_type": "markdown",
   "id": "bc045bf4",
   "metadata": {
    "ExecuteTime": {
     "end_time": "2023-07-18T14:04:02.839204Z",
     "start_time": "2023-07-18T14:04:02.802649Z"
    }
   },
   "source": [
    "with open('table.csv', 'w') as output:\n",
    "    output.write(','.join(hdr) + '\\n')\n",
    "    for k in sorted(l.content):\n",
    "        fk = l[k]\n",
    "        rec = (fk.name, fk.dtype, fk.wavelength_unit,\n",
    "               fk.cl.magnitude, fk.lpivot.magnitude, fk.leff.magnitude,\n",
    "               fk.Vega_zero_mag, fk.Vega_zero_flux.magnitude, fk.Vega_zero_Jy.magnitude,\n",
    "               fk.AB_zero_mag, fk.AB_zero_flux.magnitude, fk.AB_zero_Jy.magnitude,\n",
    "               fk.ST_zero_mag, fk.ST_zero_flux.magnitude, fk.ST_zero_Jy.magnitude)\n",
    "        output.write(fmt.format(*rec))"
   ]
  },
  {
   "cell_type": "code",
   "execution_count": null,
   "id": "bac3103d",
   "metadata": {},
   "outputs": [],
   "source": []
  },
  {
   "cell_type": "code",
   "execution_count": 11,
   "id": "4b54b0eb",
   "metadata": {
    "ExecuteTime": {
     "end_time": "2023-07-18T14:31:49.460523Z",
     "start_time": "2023-07-18T14:31:49.453984Z"
    }
   },
   "outputs": [],
   "source": [
    "import pandas as pd"
   ]
  },
  {
   "cell_type": "code",
   "execution_count": 12,
   "id": "6e872d68",
   "metadata": {
    "ExecuteTime": {
     "end_time": "2023-07-18T14:31:49.747767Z",
     "start_time": "2023-07-18T14:31:49.731534Z"
    }
   },
   "outputs": [],
   "source": [
    "table=pd.read_csv('/Users/lyubing/Downloads/LAMOST/LamostAbs/pyphot_table.csv')"
   ]
  },
  {
   "cell_type": "code",
   "execution_count": 13,
   "id": "b68f4aef",
   "metadata": {
    "ExecuteTime": {
     "end_time": "2023-07-18T14:31:50.660198Z",
     "start_time": "2023-07-18T14:31:50.632367Z"
    }
   },
   "outputs": [
    {
     "data": {
      "text/html": [
       "<div>\n",
       "<style scoped>\n",
       "    .dataframe tbody tr th:only-of-type {\n",
       "        vertical-align: middle;\n",
       "    }\n",
       "\n",
       "    .dataframe tbody tr th {\n",
       "        vertical-align: top;\n",
       "    }\n",
       "\n",
       "    .dataframe thead th {\n",
       "        text-align: right;\n",
       "    }\n",
       "</style>\n",
       "<table border=\"1\" class=\"dataframe\">\n",
       "  <thead>\n",
       "    <tr style=\"text-align: right;\">\n",
       "      <th></th>\n",
       "      <th>name</th>\n",
       "      <th>detector type</th>\n",
       "      <th>wavelength units</th>\n",
       "      <th>central wavelength</th>\n",
       "      <th>pivot wavelength</th>\n",
       "      <th>effective wavelength</th>\n",
       "      <th>Vega mag</th>\n",
       "      <th>Vega flux</th>\n",
       "      <th>Vega Jy</th>\n",
       "      <th>AB mag</th>\n",
       "      <th>AB flux</th>\n",
       "      <th>AB Jy</th>\n",
       "      <th>ST mag</th>\n",
       "      <th>ST flux</th>\n",
       "      <th>ST Jy</th>\n",
       "    </tr>\n",
       "  </thead>\n",
       "  <tbody>\n",
       "    <tr>\n",
       "      <th>0</th>\n",
       "      <td>2MASS_H</td>\n",
       "      <td>photon</td>\n",
       "      <td>AA</td>\n",
       "      <td>16513.665</td>\n",
       "      <td>16494.947</td>\n",
       "      <td>16386.037</td>\n",
       "      <td>24.86219</td>\n",
       "      <td>1.135300e-10</td>\n",
       "      <td>1030.4000</td>\n",
       "      <td>23.49470</td>\n",
       "      <td>4.000500e-10</td>\n",
       "      <td>3630.8</td>\n",
       "      <td>21.1</td>\n",
       "      <td>3.630800e-09</td>\n",
       "      <td>32952.0</td>\n",
       "    </tr>\n",
       "    <tr>\n",
       "      <th>1</th>\n",
       "      <td>2MASS_J</td>\n",
       "      <td>photon</td>\n",
       "      <td>AA</td>\n",
       "      <td>12408.376</td>\n",
       "      <td>12390.788</td>\n",
       "      <td>12282.553</td>\n",
       "      <td>23.76734</td>\n",
       "      <td>3.112200e-10</td>\n",
       "      <td>1593.8000</td>\n",
       "      <td>22.87344</td>\n",
       "      <td>7.089600e-10</td>\n",
       "      <td>3630.8</td>\n",
       "      <td>21.1</td>\n",
       "      <td>3.630800e-09</td>\n",
       "      <td>18594.0</td>\n",
       "    </tr>\n",
       "    <tr>\n",
       "      <th>2</th>\n",
       "      <td>2MASS_Ks</td>\n",
       "      <td>photon</td>\n",
       "      <td>AA</td>\n",
       "      <td>21655.839</td>\n",
       "      <td>21638.144</td>\n",
       "      <td>21521.419</td>\n",
       "      <td>25.92164</td>\n",
       "      <td>4.279000e-11</td>\n",
       "      <td>668.2900</td>\n",
       "      <td>24.08405</td>\n",
       "      <td>2.324800e-10</td>\n",
       "      <td>3630.8</td>\n",
       "      <td>21.1</td>\n",
       "      <td>3.630800e-09</td>\n",
       "      <td>56705.0</td>\n",
       "    </tr>\n",
       "    <tr>\n",
       "      <th>3</th>\n",
       "      <td>CFHT_CFH12K_CFH7406</td>\n",
       "      <td>photon</td>\n",
       "      <td>AA</td>\n",
       "      <td>4888.664</td>\n",
       "      <td>4888.514</td>\n",
       "      <td>4891.329</td>\n",
       "      <td>20.91453</td>\n",
       "      <td>4.307100e-09</td>\n",
       "      <td>3433.4000</td>\n",
       "      <td>20.85383</td>\n",
       "      <td>4.554800e-09</td>\n",
       "      <td>3630.8</td>\n",
       "      <td>21.1</td>\n",
       "      <td>3.630800e-09</td>\n",
       "      <td>2894.2</td>\n",
       "    </tr>\n",
       "    <tr>\n",
       "      <th>4</th>\n",
       "      <td>CFHT_CFH12K_CFH7504</td>\n",
       "      <td>photon</td>\n",
       "      <td>AA</td>\n",
       "      <td>5037.756</td>\n",
       "      <td>5037.593</td>\n",
       "      <td>5036.966</td>\n",
       "      <td>20.83347</td>\n",
       "      <td>4.641000e-09</td>\n",
       "      <td>3928.6000</td>\n",
       "      <td>20.91906</td>\n",
       "      <td>4.289200e-09</td>\n",
       "      <td>3630.8</td>\n",
       "      <td>21.1</td>\n",
       "      <td>3.630800e-09</td>\n",
       "      <td>3073.4</td>\n",
       "    </tr>\n",
       "    <tr>\n",
       "      <th>...</th>\n",
       "      <td>...</td>\n",
       "      <td>...</td>\n",
       "      <td>...</td>\n",
       "      <td>...</td>\n",
       "      <td>...</td>\n",
       "      <td>...</td>\n",
       "      <td>...</td>\n",
       "      <td>...</td>\n",
       "      <td>...</td>\n",
       "      <td>...</td>\n",
       "      <td>...</td>\n",
       "      <td>...</td>\n",
       "      <td>...</td>\n",
       "      <td>...</td>\n",
       "      <td>...</td>\n",
       "    </tr>\n",
       "    <tr>\n",
       "      <th>266</th>\n",
       "      <td>WISE_RSR_W3</td>\n",
       "      <td>photon</td>\n",
       "      <td>um</td>\n",
       "      <td>12.334</td>\n",
       "      <td>12.073</td>\n",
       "      <td>10.302</td>\n",
       "      <td>32.95639</td>\n",
       "      <td>6.568200e-14</td>\n",
       "      <td>31.9340</td>\n",
       "      <td>27.81703</td>\n",
       "      <td>7.467700e-12</td>\n",
       "      <td>3630.8</td>\n",
       "      <td>21.1</td>\n",
       "      <td>3.630800e-09</td>\n",
       "      <td>1765300.0</td>\n",
       "    </tr>\n",
       "    <tr>\n",
       "      <th>267</th>\n",
       "      <td>WISE_RSR_W4</td>\n",
       "      <td>photon</td>\n",
       "      <td>um</td>\n",
       "      <td>22.253</td>\n",
       "      <td>22.194</td>\n",
       "      <td>21.810</td>\n",
       "      <td>35.75376</td>\n",
       "      <td>4.994600e-15</td>\n",
       "      <td>8.2065</td>\n",
       "      <td>29.13916</td>\n",
       "      <td>2.209700e-12</td>\n",
       "      <td>3630.8</td>\n",
       "      <td>21.1</td>\n",
       "      <td>3.630800e-09</td>\n",
       "      <td>5965700.0</td>\n",
       "    </tr>\n",
       "    <tr>\n",
       "      <th>268</th>\n",
       "      <td>ZTF_g</td>\n",
       "      <td>photon</td>\n",
       "      <td>nanometer</td>\n",
       "      <td>480.482</td>\n",
       "      <td>478.945</td>\n",
       "      <td>472.280</td>\n",
       "      <td>20.70229</td>\n",
       "      <td>5.237000e-09</td>\n",
       "      <td>4007.1000</td>\n",
       "      <td>20.80937</td>\n",
       "      <td>4.745200e-09</td>\n",
       "      <td>3630.8</td>\n",
       "      <td>21.1</td>\n",
       "      <td>3.630800e-09</td>\n",
       "      <td>2778.1</td>\n",
       "    </tr>\n",
       "    <tr>\n",
       "      <th>269</th>\n",
       "      <td>ZTF_i</td>\n",
       "      <td>photon</td>\n",
       "      <td>nanometer</td>\n",
       "      <td>796.822</td>\n",
       "      <td>795.493</td>\n",
       "      <td>788.607</td>\n",
       "      <td>22.34125</td>\n",
       "      <td>1.157400e-09</td>\n",
       "      <td>2443.2000</td>\n",
       "      <td>21.91113</td>\n",
       "      <td>1.720100e-09</td>\n",
       "      <td>3630.8</td>\n",
       "      <td>21.1</td>\n",
       "      <td>3.630800e-09</td>\n",
       "      <td>7663.9</td>\n",
       "    </tr>\n",
       "    <tr>\n",
       "      <th>270</th>\n",
       "      <td>ZTF_r</td>\n",
       "      <td>photon</td>\n",
       "      <td>nanometer</td>\n",
       "      <td>643.692</td>\n",
       "      <td>642.117</td>\n",
       "      <td>633.959</td>\n",
       "      <td>21.62699</td>\n",
       "      <td>2.234600e-09</td>\n",
       "      <td>3073.3000</td>\n",
       "      <td>21.44602</td>\n",
       "      <td>2.639900e-09</td>\n",
       "      <td>3630.8</td>\n",
       "      <td>21.1</td>\n",
       "      <td>3.630800e-09</td>\n",
       "      <td>4993.5</td>\n",
       "    </tr>\n",
       "  </tbody>\n",
       "</table>\n",
       "<p>271 rows × 15 columns</p>\n",
       "</div>"
      ],
      "text/plain": [
       "                    name detector type wavelength units  central wavelength  \\\n",
       "0                2MASS_H        photon               AA           16513.665   \n",
       "1                2MASS_J        photon               AA           12408.376   \n",
       "2               2MASS_Ks        photon               AA           21655.839   \n",
       "3    CFHT_CFH12K_CFH7406        photon               AA            4888.664   \n",
       "4    CFHT_CFH12K_CFH7504        photon               AA            5037.756   \n",
       "..                   ...           ...              ...                 ...   \n",
       "266          WISE_RSR_W3        photon               um              12.334   \n",
       "267          WISE_RSR_W4        photon               um              22.253   \n",
       "268                ZTF_g        photon        nanometer             480.482   \n",
       "269                ZTF_i        photon        nanometer             796.822   \n",
       "270                ZTF_r        photon        nanometer             643.692   \n",
       "\n",
       "     pivot wavelength  effective wavelength  Vega mag     Vega flux  \\\n",
       "0           16494.947             16386.037  24.86219  1.135300e-10   \n",
       "1           12390.788             12282.553  23.76734  3.112200e-10   \n",
       "2           21638.144             21521.419  25.92164  4.279000e-11   \n",
       "3            4888.514              4891.329  20.91453  4.307100e-09   \n",
       "4            5037.593              5036.966  20.83347  4.641000e-09   \n",
       "..                ...                   ...       ...           ...   \n",
       "266            12.073                10.302  32.95639  6.568200e-14   \n",
       "267            22.194                21.810  35.75376  4.994600e-15   \n",
       "268           478.945               472.280  20.70229  5.237000e-09   \n",
       "269           795.493               788.607  22.34125  1.157400e-09   \n",
       "270           642.117               633.959  21.62699  2.234600e-09   \n",
       "\n",
       "       Vega Jy    AB mag       AB flux   AB Jy  ST mag       ST flux  \\\n",
       "0    1030.4000  23.49470  4.000500e-10  3630.8    21.1  3.630800e-09   \n",
       "1    1593.8000  22.87344  7.089600e-10  3630.8    21.1  3.630800e-09   \n",
       "2     668.2900  24.08405  2.324800e-10  3630.8    21.1  3.630800e-09   \n",
       "3    3433.4000  20.85383  4.554800e-09  3630.8    21.1  3.630800e-09   \n",
       "4    3928.6000  20.91906  4.289200e-09  3630.8    21.1  3.630800e-09   \n",
       "..         ...       ...           ...     ...     ...           ...   \n",
       "266    31.9340  27.81703  7.467700e-12  3630.8    21.1  3.630800e-09   \n",
       "267     8.2065  29.13916  2.209700e-12  3630.8    21.1  3.630800e-09   \n",
       "268  4007.1000  20.80937  4.745200e-09  3630.8    21.1  3.630800e-09   \n",
       "269  2443.2000  21.91113  1.720100e-09  3630.8    21.1  3.630800e-09   \n",
       "270  3073.3000  21.44602  2.639900e-09  3630.8    21.1  3.630800e-09   \n",
       "\n",
       "         ST Jy  \n",
       "0      32952.0  \n",
       "1      18594.0  \n",
       "2      56705.0  \n",
       "3       2894.2  \n",
       "4       3073.4  \n",
       "..         ...  \n",
       "266  1765300.0  \n",
       "267  5965700.0  \n",
       "268     2778.1  \n",
       "269     7663.9  \n",
       "270     4993.5  \n",
       "\n",
       "[271 rows x 15 columns]"
      ]
     },
     "execution_count": 13,
     "metadata": {},
     "output_type": "execute_result"
    }
   ],
   "source": [
    "table"
   ]
  },
  {
   "cell_type": "code",
   "execution_count": 14,
   "id": "bc78f873",
   "metadata": {
    "ExecuteTime": {
     "end_time": "2023-07-18T14:31:54.746336Z",
     "start_time": "2023-07-18T14:31:54.602666Z"
    }
   },
   "outputs": [
    {
     "name": "stdout",
     "output_type": "stream",
     "text": [
      "Library contains:  271  filters\n",
      "Filter object information:\n",
      "    name:                 ZTF_g\n",
      "    detector type:        photon\n",
      "    wavelength units:     nanometer\n",
      "    central wavelength:   480.482030 nanometer\n",
      "    pivot wavelength:     478.944592 nanometer\n",
      "    effective wavelength: 472.279692 nanometer\n",
      "    photon wavelength:    475.324660 nanometer\n",
      "    minimum wavelength:   408.700000 nanometer\n",
      "    maximum wavelength:   552.100000 nanometer\n",
      "    norm:                 12026.217679\n",
      "    effective width:      128.222472 nanometer\n",
      "    fullwidth half-max:   132.100000\n",
      "    definition contains 2593 points\n",
      "\n",
      "    Zeropoints\n",
      "        Vega: 20.702293 mag,\n",
      "              5.2370010672087345e-09 erg / angstrom * centimeter ** 2 * second,\n",
      "              4007.1214688508317 Jy\n",
      "              118566.54169333249 photon / angstrom * centimeter ** 2 * second\n",
      "          AB: 20.809375 mag,\n",
      "              4.74515228722624e-09 erg / angstrom * centimeter ** 2 * second,\n",
      "              3630.7805477010083 Jy\n",
      "          ST: 21.100000 mag,\n",
      "              3.6307805477010028e-09 erg / angstrom * centimeter ** 2 * second,\n",
      "              2778.1126057958054 Jy\n",
      "        \n",
      "Filter object information:\n",
      "    name:                 ZTF_i\n",
      "    detector type:        photon\n",
      "    wavelength units:     nanometer\n",
      "    central wavelength:   796.821601 nanometer\n",
      "    pivot wavelength:     795.492962 nanometer\n",
      "    effective wavelength: 788.607478 nanometer\n",
      "    photon wavelength:    791.295234 nanometer\n",
      "    minimum wavelength:   702.800000 nanometer\n",
      "    maximum wavelength:   888.200000 nanometer\n",
      "    norm:                 15346.246862\n",
      "    effective width:      153.480426 nanometer\n",
      "    fullwidth half-max:   152.200000\n",
      "    definition contains 4001 points\n",
      "\n",
      "    Zeropoints\n",
      "        Vega: 22.341250 mag,\n",
      "              1.1574438775809374e-09 erg / angstrom * centimeter ** 2 * second,\n",
      "              2443.1600753042153 Jy\n",
      "              46406.57952763484 photon / angstrom * centimeter ** 2 * second\n",
      "          AB: 21.911130 mag,\n",
      "              1.7200775169237366e-09 erg / angstrom * centimeter ** 2 * second,\n",
      "              3630.780547700999 Jy\n",
      "          ST: 21.100000 mag,\n",
      "              3.6307805477010028e-09 erg / angstrom * centimeter ** 2 * second,\n",
      "              7663.937965505341 Jy\n",
      "        \n",
      "Filter object information:\n",
      "    name:                 ZTF_r\n",
      "    detector type:        photon\n",
      "    wavelength units:     nanometer\n",
      "    central wavelength:   643.692086 nanometer\n",
      "    pivot wavelength:     642.116699 nanometer\n",
      "    effective wavelength: 633.959313 nanometer\n",
      "    photon wavelength:    637.097152 nanometer\n",
      "    minimum wavelength:   560.080000 nanometer\n",
      "    maximum wavelength:   731.660000 nanometer\n",
      "    norm:                 14739.212505\n",
      "    effective width:      151.525747 nanometer\n",
      "    fullwidth half-max:   155.710000\n",
      "    definition contains 3201 points\n",
      "\n",
      "    Zeropoints\n",
      "        Vega: 21.626994 mag,\n",
      "              2.234612568187664e-09 erg / angstrom * centimeter ** 2 * second,\n",
      "              3073.331896714013 Jy\n",
      "              70286.33447129696 photon / angstrom * centimeter ** 2 * second\n",
      "          AB: 21.446018 mag,\n",
      "              2.639932202863843e-09 erg / angstrom * centimeter ** 2 * second,\n",
      "              3630.780547700997 Jy\n",
      "          ST: 21.100000 mag,\n",
      "              3.6307805477010028e-09 erg / angstrom * centimeter ** 2 * second,\n",
      "              4993.524974339606 Jy\n",
      "        \n"
     ]
    }
   ],
   "source": [
    "import pyphot\n",
    "# get the internal default library of passbands filters\n",
    "lib = pyphot.get_library()\n",
    "print(\"Library contains: \", len(lib), \" filters\")\n",
    "# find all filter names that relates to IRAC\n",
    "# and print some info\n",
    "f = lib.find('ztf')\n",
    "for name in f:\n",
    "    lib[name].info(show_zeropoints=True)"
   ]
  },
  {
   "cell_type": "markdown",
   "id": "f46cb8ec",
   "metadata": {},
   "source": [
    "# f_ztf"
   ]
  },
  {
   "cell_type": "code",
   "execution_count": 15,
   "id": "9848f95d",
   "metadata": {
    "ExecuteTime": {
     "end_time": "2023-07-18T14:32:19.848652Z",
     "start_time": "2023-07-18T14:32:19.824400Z"
    }
   },
   "outputs": [],
   "source": [
    "# convert to magnitudes\n",
    "import numpy as np\n",
    "#f = lib['hst_wfc3_f110w']\n",
    "\n",
    "f_ztfg = lib['ZTF_g']\n",
    "f_ztfi = lib['ZTF_i']\n",
    "f_ztfr = lib['ZTF_r']"
   ]
  },
  {
   "cell_type": "code",
   "execution_count": 16,
   "id": "b9c0ac3e",
   "metadata": {
    "ExecuteTime": {
     "end_time": "2023-07-18T14:33:59.345358Z",
     "start_time": "2023-07-18T14:33:59.323934Z"
    }
   },
   "outputs": [
    {
     "name": "stdout",
     "output_type": "stream",
     "text": [
      "3630.7805477010083 Jy 4007.1214688508317 Jy 2778.1126057958054 Jy\n"
     ]
    }
   ],
   "source": [
    "import numpy as np\n",
    "#f = lib['hst_wfc3_f110w']\n",
    "print(f_ztfg.AB_zero_Jy, f_ztfg.Vega_zero_Jy, f_ztfg.ST_zero_Jy)"
   ]
  },
  {
   "cell_type": "code",
   "execution_count": 17,
   "id": "20d3ce5c",
   "metadata": {
    "ExecuteTime": {
     "end_time": "2023-07-18T14:34:11.593305Z",
     "start_time": "2023-07-18T14:34:11.573313Z"
    }
   },
   "outputs": [
    {
     "name": "stdout",
     "output_type": "stream",
     "text": [
      "3630.780547700999 Jy 2443.1600753042153 Jy 7663.937965505341 Jy\n"
     ]
    }
   ],
   "source": [
    "print(f_ztfi.AB_zero_Jy, f_ztfi.Vega_zero_Jy, f_ztfi.ST_zero_Jy)"
   ]
  },
  {
   "cell_type": "code",
   "execution_count": 18,
   "id": "c670bb60",
   "metadata": {
    "ExecuteTime": {
     "end_time": "2023-07-18T14:34:18.179003Z",
     "start_time": "2023-07-18T14:34:18.159166Z"
    }
   },
   "outputs": [
    {
     "name": "stdout",
     "output_type": "stream",
     "text": [
      "3630.780547700997 Jy 3073.331896714013 Jy 4993.524974339606 Jy\n"
     ]
    }
   ],
   "source": [
    "print(f_ztfr.AB_zero_Jy, f_ztfr.Vega_zero_Jy, f_ztfr.ST_zero_Jy)"
   ]
  },
  {
   "cell_type": "code",
   "execution_count": null,
   "id": "a6b1e965",
   "metadata": {},
   "outputs": [],
   "source": []
  },
  {
   "cell_type": "code",
   "execution_count": null,
   "id": "98c3ed4f",
   "metadata": {
    "ExecuteTime": {
     "end_time": "2023-07-18T14:10:15.437869Z",
     "start_time": "2023-07-18T14:10:15.363416Z"
    }
   },
   "outputs": [],
   "source": [
    "# compute the integrated flux through the filter f\n",
    "# note that it work on many spectra at once\n",
    "fluxes = f.get_flux(lamb, spectra, axis=1)\n",
    "# convert to vega magnitudes\n",
    "mags = -2.5 * np.log10(fluxes) - f.Vega_zero_mag\n",
    "# or similarly\n",
    "mags = -2.5 * np.log10(fluxes / f.Vega_zero_flux)"
   ]
  },
  {
   "cell_type": "code",
   "execution_count": null,
   "id": "572f8e11",
   "metadata": {},
   "outputs": [],
   "source": [
    "# convert to magnitudes\n",
    "import numpy as np\n",
    "#f = lib['hst_wfc3_f110w']\n",
    "\n",
    "\n",
    "fluxes = f.get_flux(lamb, spectra, axis=1)\n",
    "mags = -2.5 * np.log10(fluxes) - f.AB_zero_mag\n",
    "# or similarly\n",
    "mags = -2.5 * np.log10(fluxes / f.AB_zero_flux)"
   ]
  },
  {
   "cell_type": "code",
   "execution_count": null,
   "id": "f0bcb116",
   "metadata": {},
   "outputs": [],
   "source": []
  },
  {
   "cell_type": "code",
   "execution_count": null,
   "id": "531b1fff",
   "metadata": {},
   "outputs": [],
   "source": []
  },
  {
   "cell_type": "code",
   "execution_count": 19,
   "id": "d127f00e",
   "metadata": {
    "ExecuteTime": {
     "end_time": "2023-07-18T14:35:43.397800Z",
     "start_time": "2023-07-18T14:35:43.392426Z"
    }
   },
   "outputs": [],
   "source": [
    "from astropy.io import fits\n",
    "from pyphot import unit\n",
    "import pyphot"
   ]
  },
  {
   "cell_type": "code",
   "execution_count": null,
   "id": "7362daae",
   "metadata": {},
   "outputs": [],
   "source": [
    "wavelength, flux = fits.getdata(\"foo.fits\").T\n",
    "wavelength  = wavelength * unit['AA']\n",
    "flux = flux * unit['erg/s/cm**2/AA']\n",
    "lib = pyphot.get_library()\n",
    "f = lib['HST_WFC3_F110W']\n",
    "\n",
    "mag = -2.5 * np.log10(f.get_flux(wavelength, flux)) - f.Vega_zero_mag"
   ]
  },
  {
   "cell_type": "code",
   "execution_count": null,
   "id": "8c143701",
   "metadata": {},
   "outputs": [],
   "source": []
  },
  {
   "cell_type": "code",
   "execution_count": null,
   "id": "ba32166a",
   "metadata": {},
   "outputs": [],
   "source": []
  }
 ],
 "metadata": {
  "kernelspec": {
   "display_name": "Python 3 (ipykernel)",
   "language": "python",
   "name": "python3"
  },
  "language_info": {
   "codemirror_mode": {
    "name": "ipython",
    "version": 3
   },
   "file_extension": ".py",
   "mimetype": "text/x-python",
   "name": "python",
   "nbconvert_exporter": "python",
   "pygments_lexer": "ipython3",
   "version": "3.9.12"
  },
  "latex_envs": {
   "LaTeX_envs_menu_present": true,
   "autoclose": false,
   "autocomplete": true,
   "bibliofile": "biblio.bib",
   "cite_by": "apalike",
   "current_citInitial": 1,
   "eqLabelWithNumbers": true,
   "eqNumInitial": 1,
   "hotkeys": {
    "equation": "Ctrl-E",
    "itemize": "Ctrl-I"
   },
   "labels_anchors": false,
   "latex_user_defs": false,
   "report_style_numbering": false,
   "user_envs_cfg": false
  },
  "toc": {
   "base_numbering": 1,
   "nav_menu": {},
   "number_sections": true,
   "sideBar": true,
   "skip_h1_title": false,
   "title_cell": "Table of Contents",
   "title_sidebar": "Contents",
   "toc_cell": false,
   "toc_position": {},
   "toc_section_display": true,
   "toc_window_display": true
  }
 },
 "nbformat": 4,
 "nbformat_minor": 5
}
