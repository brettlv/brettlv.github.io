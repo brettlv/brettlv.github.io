{
 "cells": [
  {
   "cell_type": "code",
   "execution_count": 2,
   "metadata": {
    "ExecuteTime": {
     "end_time": "2023-02-21T08:28:54.942188Z",
     "start_time": "2023-02-21T08:28:54.039907Z"
    }
   },
   "outputs": [
    {
     "name": "stderr",
     "output_type": "stream",
     "text": [
      "/var/folders/jp/4mwsn7_x6j9gnv1hl1dztqth0000gn/T/ipykernel_5149/394891970.py:9: DeprecationWarning: the ``irsa`` module has been moved to astroquery.ipac.irsa, please update your imports.\n",
      "  from astroquery.irsa import Irsa\n"
     ]
    }
   ],
   "source": [
    "import pandas as pd\n",
    "import numpy as np\n",
    "\n",
    "import time\n",
    "import os\n",
    "import sys\n",
    "\n",
    "from astropy import config as _config\n",
    "from astroquery.irsa import Irsa   \n",
    "from astropy import units as u\n",
    "from astropy.coordinates import SkyCoord"
   ]
  },
  {
   "cell_type": "code",
   "execution_count": 3,
   "metadata": {
    "ExecuteTime": {
     "end_time": "2023-02-21T08:28:55.490883Z",
     "start_time": "2023-02-21T08:28:55.445014Z"
    }
   },
   "outputs": [
    {
     "name": "stderr",
     "output_type": "stream",
     "text": [
      "/var/folders/jp/4mwsn7_x6j9gnv1hl1dztqth0000gn/T/ipykernel_5149/863512024.py:1: DeprecationWarning: the ``ned`` module has been moved to astroquery.ipac.ned, please update your imports.\n",
      "  from astroquery.ned import Ned\n"
     ]
    }
   ],
   "source": [
    "from astroquery.ned import Ned"
   ]
  },
  {
   "cell_type": "code",
   "execution_count": null,
   "metadata": {},
   "outputs": [],
   "source": []
  },
  {
   "cell_type": "code",
   "execution_count": 39,
   "metadata": {
    "ExecuteTime": {
     "end_time": "2023-02-21T08:41:41.507863Z",
     "start_time": "2023-02-21T08:41:41.489963Z"
    }
   },
   "outputs": [],
   "source": [
    "import pandas as pd\n",
    "import numpy as np\n",
    "import os\n",
    "\n",
    "def get_obsids(path):\n",
    "    dirname=os.listdir(path)\n",
    "    obsids=[]\n",
    "    for i in dirname:\n",
    "        if i.isdigit():\n",
    "            obsids.append(i)\n",
    "    obsids.sort()        \n",
    "    return obsids\n",
    "\n",
    "def drop_index(data):\n",
    "    data=data.reset_index(drop=True)\n",
    "    return data"
   ]
  },
  {
   "cell_type": "code",
   "execution_count": null,
   "metadata": {},
   "outputs": [],
   "source": []
  },
  {
   "cell_type": "markdown",
   "metadata": {},
   "source": [
    "# ztfquery"
   ]
  },
  {
   "cell_type": "code",
   "execution_count": 4,
   "metadata": {
    "ExecuteTime": {
     "end_time": "2023-02-21T08:28:59.896898Z",
     "start_time": "2023-02-21T08:28:59.883936Z"
    }
   },
   "outputs": [],
   "source": [
    "from ztfquery import lightcurve"
   ]
  },
  {
   "cell_type": "markdown",
   "metadata": {},
   "source": [
    "[ztf_api](https://irsa.ipac.caltech.edu/docs/program_interface/ztf_lightcurve_api.html)"
   ]
  },
  {
   "cell_type": "code",
   "execution_count": 27,
   "metadata": {
    "ExecuteTime": {
     "end_time": "2022-12-01T15:01:53.928098Z",
     "start_time": "2022-12-01T15:01:53.770370Z"
    }
   },
   "outputs": [
    {
     "name": "stdout",
     "output_type": "stream",
     "text": [
      "\r\n"
     ]
    }
   ],
   "source": [
    "!echo $ZTFDATA"
   ]
  },
  {
   "cell_type": "code",
   "execution_count": 1,
   "metadata": {
    "ExecuteTime": {
     "end_time": "2023-02-08T02:57:19.858902Z",
     "start_time": "2023-02-08T02:57:19.839857Z"
    }
   },
   "outputs": [
    {
     "data": {
      "text/plain": [
       "105"
      ]
     },
     "execution_count": 1,
     "metadata": {},
     "output_type": "execute_result"
    }
   ],
   "source": [
    "15*7"
   ]
  },
  {
   "cell_type": "code",
   "execution_count": null,
   "metadata": {
    "ExecuteTime": {
     "end_time": "2022-08-06T13:17:52.994395Z",
     "start_time": "2022-08-06T13:17:52.939656Z"
    }
   },
   "outputs": [],
   "source": []
  },
  {
   "cell_type": "code",
   "execution_count": null,
   "metadata": {
    "ExecuteTime": {
     "end_time": "2022-08-06T13:19:12.253628Z",
     "start_time": "2022-08-06T13:19:11.260775Z"
    }
   },
   "outputs": [],
   "source": [
    "table_=Ned.query_object('Mrk 1018')"
   ]
  },
  {
   "cell_type": "code",
   "execution_count": null,
   "metadata": {
    "ExecuteTime": {
     "end_time": "2022-08-06T13:19:14.752227Z",
     "start_time": "2022-08-06T13:19:14.742690Z"
    }
   },
   "outputs": [],
   "source": [
    "table_"
   ]
  },
  {
   "cell_type": "markdown",
   "metadata": {
    "ExecuteTime": {
     "end_time": "2022-08-06T13:51:04.539811Z",
     "start_time": "2022-08-06T13:51:04.534632Z"
    }
   },
   "source": [
    "os.mkdir('/Volumes/ExtremeSSD/CLAGN_individual/CL_candidate/CLAGN_BAT_candidate/ZTF/')"
   ]
  },
  {
   "cell_type": "markdown",
   "metadata": {},
   "source": [
    "## BAT_ZTF_dir"
   ]
  },
  {
   "cell_type": "code",
   "execution_count": 19,
   "metadata": {
    "ExecuteTime": {
     "end_time": "2023-02-21T08:34:38.970596Z",
     "start_time": "2023-02-21T08:34:38.965539Z"
    }
   },
   "outputs": [],
   "source": [
    "CLAGN_Candidate_BAT_ZTF_dir='/Volumes/ExtremeSSD/CLAGN_individual/CL_candidate/CLAGN_BAT_candidate/ZTF'"
   ]
  },
  {
   "cell_type": "code",
   "execution_count": null,
   "metadata": {
    "ExecuteTime": {
     "end_time": "2022-12-01T14:46:38.438159Z",
     "start_time": "2022-12-01T14:46:38.429101Z"
    }
   },
   "outputs": [],
   "source": [
    "CLAGN_Candidate_BAT_ZTF_dir"
   ]
  },
  {
   "cell_type": "code",
   "execution_count": 20,
   "metadata": {
    "ExecuteTime": {
     "end_time": "2023-02-21T08:34:44.939981Z",
     "start_time": "2023-02-21T08:34:44.932626Z"
    }
   },
   "outputs": [],
   "source": [
    "CLAGN_Candidate_BAT_ZTF_dir_1='/Volumes/ExtremeSSD/CLAGN_individual/CL_candidate/CLAGN_BAT_candidate/ZTF_catflags=0/'"
   ]
  },
  {
   "cell_type": "code",
   "execution_count": null,
   "metadata": {
    "ExecuteTime": {
     "end_time": "2022-12-01T14:46:35.211506Z",
     "start_time": "2022-12-01T14:46:35.200578Z"
    }
   },
   "outputs": [],
   "source": [
    "CLAGN_Candidate_BAT_ZTF_dir_1"
   ]
  },
  {
   "cell_type": "code",
   "execution_count": 21,
   "metadata": {
    "ExecuteTime": {
     "end_time": "2023-02-21T08:34:47.313772Z",
     "start_time": "2023-02-21T08:34:47.307731Z"
    }
   },
   "outputs": [],
   "source": [
    "CLAGN_Candidate_BAT_ZTF_dir_2='/Volumes/ExtremeSSD/CLAGN_individual/CL_candidate/CLAGN_BAT_candidate/CLAGN_ZTF_catflags=0/'\n",
    "if not os.path.exists(CLAGN_Candidate_BAT_ZTF_dir_2):\n",
    "    os.mkdir(CLAGN_Candidate_BAT_ZTF_dir_2)"
   ]
  },
  {
   "cell_type": "code",
   "execution_count": null,
   "metadata": {},
   "outputs": [],
   "source": []
  },
  {
   "cell_type": "code",
   "execution_count": null,
   "metadata": {},
   "outputs": [],
   "source": []
  },
  {
   "cell_type": "code",
   "execution_count": null,
   "metadata": {
    "ExecuteTime": {
     "end_time": "2022-12-01T14:45:29.602967Z",
     "start_time": "2022-12-01T14:45:29.274301Z"
    }
   },
   "outputs": [],
   "source": [
    "!open /Volumes/ExtremeSSD/CLAGN_individual/CL_candidate/CLAGN_BAT_candidate/ZTF_catflags=0/"
   ]
  },
  {
   "cell_type": "markdown",
   "metadata": {},
   "source": [
    "## CLAGN"
   ]
  },
  {
   "cell_type": "code",
   "execution_count": 5,
   "metadata": {
    "ExecuteTime": {
     "end_time": "2023-02-21T08:29:37.307177Z",
     "start_time": "2023-02-21T08:29:37.091516Z"
    }
   },
   "outputs": [],
   "source": [
    "CLAGN_list202206=pd.read_excel('/Users/lyubing/IHEPBox/data/data_clagn/CLAGN-20220609.xlsx')"
   ]
  },
  {
   "cell_type": "markdown",
   "metadata": {
    "ExecuteTime": {
     "end_time": "2022-12-01T14:53:27.005401Z",
     "start_time": "2022-12-01T14:53:26.251215Z"
    }
   },
   "source": [
    "name='Mrk590'\n",
    "result_table = Ned.query_object(name)"
   ]
  },
  {
   "cell_type": "code",
   "execution_count": 16,
   "metadata": {
    "ExecuteTime": {
     "end_time": "2022-12-01T14:55:21.172991Z",
     "start_time": "2022-12-01T14:53:33.502502Z"
    }
   },
   "outputs": [],
   "source": [
    "for index,name in enumerate(CLAGN_list202206['Name']):\n",
    "    result_table = Ned.query_object(name)\n",
    "    CLAGN_list202206.loc[index,'ra_deg']=result_table['RA'].data[0]\n",
    "    CLAGN_list202206.loc[index,'dec_deg']=result_table['DEC'].data[0]"
   ]
  },
  {
   "cell_type": "code",
   "execution_count": 18,
   "metadata": {
    "ExecuteTime": {
     "end_time": "2022-12-01T14:55:30.602352Z",
     "start_time": "2022-12-01T14:55:30.569474Z"
    }
   },
   "outputs": [
    {
     "data": {
      "text/html": [
       "<div>\n",
       "<style scoped>\n",
       "    .dataframe tbody tr th:only-of-type {\n",
       "        vertical-align: middle;\n",
       "    }\n",
       "\n",
       "    .dataframe tbody tr th {\n",
       "        vertical-align: top;\n",
       "    }\n",
       "\n",
       "    .dataframe thead th {\n",
       "        text-align: right;\n",
       "    }\n",
       "</style>\n",
       "<table border=\"1\" class=\"dataframe\">\n",
       "  <thead>\n",
       "    <tr style=\"text-align: right;\">\n",
       "      <th></th>\n",
       "      <th>Name</th>\n",
       "      <th>RA</th>\n",
       "      <th>DEC</th>\n",
       "      <th>Ref.</th>\n",
       "      <th>Type_Ref</th>\n",
       "      <th>Redshift</th>\n",
       "      <th>lg(MBH/Msun)</th>\n",
       "      <th>Ref..1</th>\n",
       "      <th>mass_Ref</th>\n",
       "      <th>Type_CL</th>\n",
       "      <th>...</th>\n",
       "      <th>E(B-V)mean</th>\n",
       "      <th>E(B-V)weighted</th>\n",
       "      <th>NHImean</th>\n",
       "      <th>NHIweighted</th>\n",
       "      <th>NH2mean</th>\n",
       "      <th>NH2weighted</th>\n",
       "      <th>NH,totmean</th>\n",
       "      <th>NH,totweighted</th>\n",
       "      <th>ra_deg</th>\n",
       "      <th>dec_deg</th>\n",
       "    </tr>\n",
       "  </thead>\n",
       "  <tbody>\n",
       "    <tr>\n",
       "      <th>0</th>\n",
       "      <td>1ES 1927+654</td>\n",
       "      <td>19h27m19.54s</td>\n",
       "      <td>+65d33m54.2s</td>\n",
       "      <td>arxiv:1903.11084</td>\n",
       "      <td>2019ApJ...883...94T</td>\n",
       "      <td>0.01700</td>\n",
       "      <td>7.30</td>\n",
       "      <td>arxiv:2011.01954</td>\n",
       "      <td>2021MNRAS.502L..50S</td>\n",
       "      <td>NaN</td>\n",
       "      <td>...</td>\n",
       "      <td>0.089</td>\n",
       "      <td>0.088</td>\n",
       "      <td>6.940000e+20</td>\n",
       "      <td>6.870000e+20</td>\n",
       "      <td>2.260000e+20</td>\n",
       "      <td>2.230000e+20</td>\n",
       "      <td>9.200000e+20</td>\n",
       "      <td>9.100000e+20</td>\n",
       "      <td>291.83142</td>\n",
       "      <td>65.56506</td>\n",
       "    </tr>\n",
       "    <tr>\n",
       "      <th>1</th>\n",
       "      <td>1H 0419-577</td>\n",
       "      <td>04h26m00.724s</td>\n",
       "      <td>-57d12m00.97s</td>\n",
       "      <td>arxiv:1201.2169</td>\n",
       "      <td>2012MNRAS.421.1803M</td>\n",
       "      <td>0.10400</td>\n",
       "      <td>8.58</td>\n",
       "      <td>arxiv:1401.5614</td>\n",
       "      <td>2014A&amp;A...563A..95D</td>\n",
       "      <td>X</td>\n",
       "      <td>...</td>\n",
       "      <td>0.015</td>\n",
       "      <td>0.014</td>\n",
       "      <td>1.290000e+20</td>\n",
       "      <td>1.260000e+20</td>\n",
       "      <td>5.430000e+18</td>\n",
       "      <td>5.110000e+18</td>\n",
       "      <td>1.340000e+20</td>\n",
       "      <td>1.310000e+20</td>\n",
       "      <td>66.50302</td>\n",
       "      <td>-57.20027</td>\n",
       "    </tr>\n",
       "    <tr>\n",
       "      <th>2</th>\n",
       "      <td>2MASS J01264811-0839481</td>\n",
       "      <td>01h26m48.088s</td>\n",
       "      <td>-08d39m48.08s</td>\n",
       "      <td>arxiv:1509.03634</td>\n",
       "      <td>2016ApJ...826..188R</td>\n",
       "      <td>0.19791</td>\n",
       "      <td>8.08</td>\n",
       "      <td>arxiv:1903.02553</td>\n",
       "      <td>2019ApJ...883...76R</td>\n",
       "      <td>NaN</td>\n",
       "      <td>...</td>\n",
       "      <td>0.034</td>\n",
       "      <td>0.032</td>\n",
       "      <td>3.030000e+20</td>\n",
       "      <td>2.930000e+20</td>\n",
       "      <td>3.440000e+19</td>\n",
       "      <td>3.150000e+19</td>\n",
       "      <td>3.370000e+20</td>\n",
       "      <td>3.250000e+20</td>\n",
       "      <td>21.70037</td>\n",
       "      <td>-8.66335</td>\n",
       "    </tr>\n",
       "    <tr>\n",
       "      <th>3</th>\n",
       "      <td>2MASS J07451198+3809114</td>\n",
       "      <td>07h45m11.983s</td>\n",
       "      <td>+38d09m11.30s</td>\n",
       "      <td>arxiv:1810.00087</td>\n",
       "      <td>2019ApJ...874....8M</td>\n",
       "      <td>0.23648</td>\n",
       "      <td>9.10</td>\n",
       "      <td>arxiv:1905.02262</td>\n",
       "      <td>2020MNRAS.491.4925G</td>\n",
       "      <td>NaN</td>\n",
       "      <td>...</td>\n",
       "      <td>0.058</td>\n",
       "      <td>0.055</td>\n",
       "      <td>5.060000e+20</td>\n",
       "      <td>4.830000e+20</td>\n",
       "      <td>1.070000e+20</td>\n",
       "      <td>9.540000e+19</td>\n",
       "      <td>6.130000e+20</td>\n",
       "      <td>5.790000e+20</td>\n",
       "      <td>116.29993</td>\n",
       "      <td>38.15314</td>\n",
       "    </tr>\n",
       "    <tr>\n",
       "      <th>4</th>\n",
       "      <td>2MASS J09270231+0433080</td>\n",
       "      <td>09h27m02.304s</td>\n",
       "      <td>+04d33m08.20s</td>\n",
       "      <td>arxiv:1810.00087</td>\n",
       "      <td>2019ApJ...874....8M</td>\n",
       "      <td>0.32179</td>\n",
       "      <td>NaN</td>\n",
       "      <td>NaN</td>\n",
       "      <td>NaN</td>\n",
       "      <td>NaN</td>\n",
       "      <td>...</td>\n",
       "      <td>0.046</td>\n",
       "      <td>0.047</td>\n",
       "      <td>3.150000e+20</td>\n",
       "      <td>3.130000e+20</td>\n",
       "      <td>4.950000e+19</td>\n",
       "      <td>5.110000e+19</td>\n",
       "      <td>3.650000e+20</td>\n",
       "      <td>3.650000e+20</td>\n",
       "      <td>141.75960</td>\n",
       "      <td>4.55228</td>\n",
       "    </tr>\n",
       "    <tr>\n",
       "      <th>...</th>\n",
       "      <td>...</td>\n",
       "      <td>...</td>\n",
       "      <td>...</td>\n",
       "      <td>...</td>\n",
       "      <td>...</td>\n",
       "      <td>...</td>\n",
       "      <td>...</td>\n",
       "      <td>...</td>\n",
       "      <td>...</td>\n",
       "      <td>...</td>\n",
       "      <td>...</td>\n",
       "      <td>...</td>\n",
       "      <td>...</td>\n",
       "      <td>...</td>\n",
       "      <td>...</td>\n",
       "      <td>...</td>\n",
       "      <td>...</td>\n",
       "      <td>...</td>\n",
       "      <td>...</td>\n",
       "      <td>...</td>\n",
       "      <td>...</td>\n",
       "    </tr>\n",
       "    <tr>\n",
       "      <th>142</th>\n",
       "      <td>NGC 3786</td>\n",
       "      <td>NaN</td>\n",
       "      <td>NaN</td>\n",
       "      <td>arxiv:2208.08062</td>\n",
       "      <td>NaN</td>\n",
       "      <td>NaN</td>\n",
       "      <td>NaN</td>\n",
       "      <td>NaN</td>\n",
       "      <td>NaN</td>\n",
       "      <td>NaN</td>\n",
       "      <td>...</td>\n",
       "      <td>NaN</td>\n",
       "      <td>NaN</td>\n",
       "      <td>NaN</td>\n",
       "      <td>NaN</td>\n",
       "      <td>NaN</td>\n",
       "      <td>NaN</td>\n",
       "      <td>NaN</td>\n",
       "      <td>NaN</td>\n",
       "      <td>174.92730</td>\n",
       "      <td>31.90929</td>\n",
       "    </tr>\n",
       "    <tr>\n",
       "      <th>143</th>\n",
       "      <td>SDSSJ162829.17+432948.5</td>\n",
       "      <td>NaN</td>\n",
       "      <td>NaN</td>\n",
       "      <td>arxiv:2210.07258</td>\n",
       "      <td>NaN</td>\n",
       "      <td>0.26030</td>\n",
       "      <td>NaN</td>\n",
       "      <td>NaN</td>\n",
       "      <td>NaN</td>\n",
       "      <td>NaN</td>\n",
       "      <td>...</td>\n",
       "      <td>NaN</td>\n",
       "      <td>NaN</td>\n",
       "      <td>NaN</td>\n",
       "      <td>NaN</td>\n",
       "      <td>NaN</td>\n",
       "      <td>NaN</td>\n",
       "      <td>NaN</td>\n",
       "      <td>NaN</td>\n",
       "      <td>247.12158</td>\n",
       "      <td>43.49682</td>\n",
       "    </tr>\n",
       "    <tr>\n",
       "      <th>144</th>\n",
       "      <td>B3 0749+460A</td>\n",
       "      <td>NaN</td>\n",
       "      <td>NaN</td>\n",
       "      <td>2022RAA....22a5011W</td>\n",
       "      <td>NaN</td>\n",
       "      <td>NaN</td>\n",
       "      <td>NaN</td>\n",
       "      <td>NaN</td>\n",
       "      <td>NaN</td>\n",
       "      <td>NaN</td>\n",
       "      <td>...</td>\n",
       "      <td>NaN</td>\n",
       "      <td>NaN</td>\n",
       "      <td>NaN</td>\n",
       "      <td>NaN</td>\n",
       "      <td>NaN</td>\n",
       "      <td>NaN</td>\n",
       "      <td>NaN</td>\n",
       "      <td>NaN</td>\n",
       "      <td>118.18416</td>\n",
       "      <td>45.94927</td>\n",
       "    </tr>\n",
       "    <tr>\n",
       "      <th>145</th>\n",
       "      <td>NGC 5273</td>\n",
       "      <td>NaN</td>\n",
       "      <td>NaN</td>\n",
       "      <td>arxiv:2211.03801</td>\n",
       "      <td>NaN</td>\n",
       "      <td>0.00362</td>\n",
       "      <td>NaN</td>\n",
       "      <td>NaN</td>\n",
       "      <td>NaN</td>\n",
       "      <td>NaN</td>\n",
       "      <td>...</td>\n",
       "      <td>NaN</td>\n",
       "      <td>NaN</td>\n",
       "      <td>NaN</td>\n",
       "      <td>NaN</td>\n",
       "      <td>NaN</td>\n",
       "      <td>NaN</td>\n",
       "      <td>NaN</td>\n",
       "      <td>NaN</td>\n",
       "      <td>205.53474</td>\n",
       "      <td>35.65421</td>\n",
       "    </tr>\n",
       "    <tr>\n",
       "      <th>146</th>\n",
       "      <td>NGC 4156</td>\n",
       "      <td>NaN</td>\n",
       "      <td>NaN</td>\n",
       "      <td>2022A&amp;A...667L..12T</td>\n",
       "      <td>NaN</td>\n",
       "      <td>0.02260</td>\n",
       "      <td>NaN</td>\n",
       "      <td>NaN</td>\n",
       "      <td>NaN</td>\n",
       "      <td>NaN</td>\n",
       "      <td>...</td>\n",
       "      <td>NaN</td>\n",
       "      <td>NaN</td>\n",
       "      <td>NaN</td>\n",
       "      <td>NaN</td>\n",
       "      <td>NaN</td>\n",
       "      <td>NaN</td>\n",
       "      <td>NaN</td>\n",
       "      <td>NaN</td>\n",
       "      <td>182.70672</td>\n",
       "      <td>39.47273</td>\n",
       "    </tr>\n",
       "  </tbody>\n",
       "</table>\n",
       "<p>147 rows × 24 columns</p>\n",
       "</div>"
      ],
      "text/plain": [
       "                               Name             RA            DEC  \\\n",
       "0                      1ES 1927+654   19h27m19.54s   +65d33m54.2s   \n",
       "1                       1H 0419-577  04h26m00.724s  -57d12m00.97s   \n",
       "2    2MASS J01264811-0839481         01h26m48.088s  -08d39m48.08s   \n",
       "3           2MASS J07451198+3809114  07h45m11.983s  +38d09m11.30s   \n",
       "4           2MASS J09270231+0433080  09h27m02.304s  +04d33m08.20s   \n",
       "..                              ...            ...            ...   \n",
       "142                        NGC 3786            NaN            NaN   \n",
       "143         SDSSJ162829.17+432948.5            NaN            NaN   \n",
       "144                    B3 0749+460A            NaN            NaN   \n",
       "145                        NGC 5273            NaN            NaN   \n",
       "146                        NGC 4156            NaN            NaN   \n",
       "\n",
       "                    Ref.             Type_Ref  Redshift  lg(MBH/Msun)  \\\n",
       "0       arxiv:1903.11084  2019ApJ...883...94T   0.01700          7.30   \n",
       "1        arxiv:1201.2169  2012MNRAS.421.1803M   0.10400          8.58   \n",
       "2       arxiv:1509.03634  2016ApJ...826..188R   0.19791          8.08   \n",
       "3       arxiv:1810.00087  2019ApJ...874....8M   0.23648          9.10   \n",
       "4       arxiv:1810.00087  2019ApJ...874....8M   0.32179           NaN   \n",
       "..                   ...                  ...       ...           ...   \n",
       "142     arxiv:2208.08062                  NaN       NaN           NaN   \n",
       "143     arxiv:2210.07258                  NaN   0.26030           NaN   \n",
       "144  2022RAA....22a5011W                  NaN       NaN           NaN   \n",
       "145     arxiv:2211.03801                  NaN   0.00362           NaN   \n",
       "146  2022A&A...667L..12T                  NaN   0.02260           NaN   \n",
       "\n",
       "               Ref..1             mass_Ref Type_CL  ... E(B-V)mean  \\\n",
       "0    arxiv:2011.01954  2021MNRAS.502L..50S     NaN  ...      0.089   \n",
       "1     arxiv:1401.5614  2014A&A...563A..95D       X  ...      0.015   \n",
       "2    arxiv:1903.02553  2019ApJ...883...76R     NaN  ...      0.034   \n",
       "3    arxiv:1905.02262  2020MNRAS.491.4925G     NaN  ...      0.058   \n",
       "4                 NaN                  NaN     NaN  ...      0.046   \n",
       "..                ...                  ...     ...  ...        ...   \n",
       "142               NaN                  NaN     NaN  ...        NaN   \n",
       "143               NaN                  NaN     NaN  ...        NaN   \n",
       "144               NaN                  NaN     NaN  ...        NaN   \n",
       "145               NaN                  NaN     NaN  ...        NaN   \n",
       "146               NaN                  NaN     NaN  ...        NaN   \n",
       "\n",
       "    E(B-V)weighted       NHImean   NHIweighted       NH2mean   NH2weighted  \\\n",
       "0            0.088  6.940000e+20  6.870000e+20  2.260000e+20  2.230000e+20   \n",
       "1            0.014  1.290000e+20  1.260000e+20  5.430000e+18  5.110000e+18   \n",
       "2            0.032  3.030000e+20  2.930000e+20  3.440000e+19  3.150000e+19   \n",
       "3            0.055  5.060000e+20  4.830000e+20  1.070000e+20  9.540000e+19   \n",
       "4            0.047  3.150000e+20  3.130000e+20  4.950000e+19  5.110000e+19   \n",
       "..             ...           ...           ...           ...           ...   \n",
       "142            NaN           NaN           NaN           NaN           NaN   \n",
       "143            NaN           NaN           NaN           NaN           NaN   \n",
       "144            NaN           NaN           NaN           NaN           NaN   \n",
       "145            NaN           NaN           NaN           NaN           NaN   \n",
       "146            NaN           NaN           NaN           NaN           NaN   \n",
       "\n",
       "       NH,totmean  NH,totweighted     ra_deg   dec_deg  \n",
       "0    9.200000e+20    9.100000e+20  291.83142  65.56506  \n",
       "1    1.340000e+20    1.310000e+20   66.50302 -57.20027  \n",
       "2    3.370000e+20    3.250000e+20   21.70037  -8.66335  \n",
       "3    6.130000e+20    5.790000e+20  116.29993  38.15314  \n",
       "4    3.650000e+20    3.650000e+20  141.75960   4.55228  \n",
       "..            ...             ...        ...       ...  \n",
       "142           NaN             NaN  174.92730  31.90929  \n",
       "143           NaN             NaN  247.12158  43.49682  \n",
       "144           NaN             NaN  118.18416  45.94927  \n",
       "145           NaN             NaN  205.53474  35.65421  \n",
       "146           NaN             NaN  182.70672  39.47273  \n",
       "\n",
       "[147 rows x 24 columns]"
      ]
     },
     "execution_count": 18,
     "metadata": {},
     "output_type": "execute_result"
    }
   ],
   "source": [
    "CLAGN_list202206"
   ]
  },
  {
   "cell_type": "code",
   "execution_count": null,
   "metadata": {},
   "outputs": [],
   "source": []
  },
  {
   "cell_type": "markdown",
   "metadata": {},
   "source": [
    "## CLAGN_Candidate_BAT"
   ]
  },
  {
   "cell_type": "code",
   "execution_count": 6,
   "metadata": {
    "ExecuteTime": {
     "end_time": "2023-02-21T08:29:47.767837Z",
     "start_time": "2023-02-21T08:29:47.732384Z"
    }
   },
   "outputs": [],
   "source": [
    "CLAGN_Candidate_BAT=pd.read_excel('/Volumes/ExtremeSSD/CLAGN_individual/CL_candidate/CLAGN_BAT_candidate/BAT_CLAGN_CANDIDATE.xlsx',\n",
    "                                 )#dtype={'P-value':float}"
   ]
  },
  {
   "cell_type": "code",
   "execution_count": 7,
   "metadata": {
    "ExecuteTime": {
     "end_time": "2023-02-21T08:30:00.856004Z",
     "start_time": "2023-02-21T08:30:00.825177Z"
    }
   },
   "outputs": [
    {
     "data": {
      "text/html": [
       "<div>\n",
       "<style scoped>\n",
       "    .dataframe tbody tr th:only-of-type {\n",
       "        vertical-align: middle;\n",
       "    }\n",
       "\n",
       "    .dataframe tbody tr th {\n",
       "        vertical-align: top;\n",
       "    }\n",
       "\n",
       "    .dataframe thead th {\n",
       "        text-align: right;\n",
       "    }\n",
       "</style>\n",
       "<table border=\"1\" class=\"dataframe\">\n",
       "  <thead>\n",
       "    <tr style=\"text-align: right;\">\n",
       "      <th></th>\n",
       "      <th>AGN</th>\n",
       "      <th>Type</th>\n",
       "      <th>Redshift</th>\n",
       "      <th>Luminosity</th>\n",
       "      <th>P-value</th>\n",
       "    </tr>\n",
       "  </thead>\n",
       "  <tbody>\n",
       "    <tr>\n",
       "      <th>0</th>\n",
       "      <td>NGC 526A</td>\n",
       "      <td>Sy 2.0</td>\n",
       "      <td>0.0191</td>\n",
       "      <td>43.78</td>\n",
       "      <td>0.0</td>\n",
       "    </tr>\n",
       "    <tr>\n",
       "      <th>1</th>\n",
       "      <td>NGC 5548</td>\n",
       "      <td>Sy 1.5</td>\n",
       "      <td>0.0172</td>\n",
       "      <td>43.76</td>\n",
       "      <td>0.0</td>\n",
       "    </tr>\n",
       "    <tr>\n",
       "      <th>2</th>\n",
       "      <td>NGC 4151</td>\n",
       "      <td>Sy 1.5</td>\n",
       "      <td>0.0033</td>\n",
       "      <td>43.17</td>\n",
       "      <td>0.0</td>\n",
       "    </tr>\n",
       "    <tr>\n",
       "      <th>3</th>\n",
       "      <td>NGC 973</td>\n",
       "      <td>Sy 2.0</td>\n",
       "      <td>0.0162</td>\n",
       "      <td>43.46</td>\n",
       "      <td>0.0</td>\n",
       "    </tr>\n",
       "    <tr>\n",
       "      <th>4</th>\n",
       "      <td>WKK 4374</td>\n",
       "      <td>Sy 1.9</td>\n",
       "      <td>0.0180</td>\n",
       "      <td>43.27</td>\n",
       "      <td>0.000001</td>\n",
       "    </tr>\n",
       "    <tr>\n",
       "      <th>5</th>\n",
       "      <td>NGC 2617</td>\n",
       "      <td>Sy 1.8</td>\n",
       "      <td>0.0142</td>\n",
       "      <td>42.86</td>\n",
       "      <td>0.000014</td>\n",
       "    </tr>\n",
       "    <tr>\n",
       "      <th>6</th>\n",
       "      <td>NGC 4507</td>\n",
       "      <td>Sy 1.9</td>\n",
       "      <td>0.0118</td>\n",
       "      <td>43.76</td>\n",
       "      <td>0.000075</td>\n",
       "    </tr>\n",
       "    <tr>\n",
       "      <th>7</th>\n",
       "      <td>Mrk3</td>\n",
       "      <td>Sy 1.9</td>\n",
       "      <td>0.0135</td>\n",
       "      <td>43.79</td>\n",
       "      <td>0.000174</td>\n",
       "    </tr>\n",
       "    <tr>\n",
       "      <th>8</th>\n",
       "      <td>2MASX J04440903+2813003</td>\n",
       "      <td>Sy 2.0</td>\n",
       "      <td>0.0113</td>\n",
       "      <td>43.15</td>\n",
       "      <td>0.000255</td>\n",
       "    </tr>\n",
       "    <tr>\n",
       "      <th>9</th>\n",
       "      <td>NGC 4388</td>\n",
       "      <td>Sy 2.0</td>\n",
       "      <td>0.0084</td>\n",
       "      <td>43.64</td>\n",
       "      <td>3.425E0-4</td>\n",
       "    </tr>\n",
       "    <tr>\n",
       "      <th>10</th>\n",
       "      <td>NGC 2110</td>\n",
       "      <td>Sy 2.0</td>\n",
       "      <td>0.0078</td>\n",
       "      <td>43.65</td>\n",
       "      <td>0.000562</td>\n",
       "    </tr>\n",
       "    <tr>\n",
       "      <th>11</th>\n",
       "      <td>2MASX J10402231-4625264</td>\n",
       "      <td>Sy 2.0</td>\n",
       "      <td>0.0200</td>\n",
       "      <td>43.28</td>\n",
       "      <td>0.000584</td>\n",
       "    </tr>\n",
       "    <tr>\n",
       "      <th>12</th>\n",
       "      <td>IC 4709</td>\n",
       "      <td>Sy 2.0</td>\n",
       "      <td>0.0169</td>\n",
       "      <td>43.40</td>\n",
       "      <td>0.001474</td>\n",
       "    </tr>\n",
       "    <tr>\n",
       "      <th>13</th>\n",
       "      <td>UGC 03601</td>\n",
       "      <td>Sy 1.9</td>\n",
       "      <td>0.0171</td>\n",
       "      <td>43.08</td>\n",
       "      <td>0.002155</td>\n",
       "    </tr>\n",
       "    <tr>\n",
       "      <th>14</th>\n",
       "      <td>4C 50.55</td>\n",
       "      <td>Sy 1.2</td>\n",
       "      <td>0.0200</td>\n",
       "      <td>44.28</td>\n",
       "      <td>0.002635</td>\n",
       "    </tr>\n",
       "    <tr>\n",
       "      <th>15</th>\n",
       "      <td>NGC 4235</td>\n",
       "      <td>Sy 1.2</td>\n",
       "      <td>0.0080</td>\n",
       "      <td>42.74</td>\n",
       "      <td>0.002786</td>\n",
       "    </tr>\n",
       "    <tr>\n",
       "      <th>16</th>\n",
       "      <td>NGC 7679</td>\n",
       "      <td>Sy 2.0</td>\n",
       "      <td>0.0171</td>\n",
       "      <td>43.09</td>\n",
       "      <td>0.004352</td>\n",
       "    </tr>\n",
       "    <tr>\n",
       "      <th>17</th>\n",
       "      <td>NGC 4945</td>\n",
       "      <td>Sy 2.0</td>\n",
       "      <td>0.0019</td>\n",
       "      <td>42.35</td>\n",
       "      <td>0.006731</td>\n",
       "    </tr>\n",
       "    <tr>\n",
       "      <th>18</th>\n",
       "      <td>NGC 3281</td>\n",
       "      <td>Sy 2.0</td>\n",
       "      <td>0.0107</td>\n",
       "      <td>43.32</td>\n",
       "      <td>0.008343</td>\n",
       "    </tr>\n",
       "    <tr>\n",
       "      <th>19</th>\n",
       "      <td>4U 1344-60</td>\n",
       "      <td>Sy 1.9</td>\n",
       "      <td>0.0129</td>\n",
       "      <td>43.62</td>\n",
       "      <td>0.008459</td>\n",
       "    </tr>\n",
       "    <tr>\n",
       "      <th>20</th>\n",
       "      <td>MCG +04-48-002</td>\n",
       "      <td>Sy 2.0</td>\n",
       "      <td>0.0139</td>\n",
       "      <td>43.51</td>\n",
       "      <td>0.009586</td>\n",
       "    </tr>\n",
       "    <tr>\n",
       "      <th>21</th>\n",
       "      <td>NGC 6300</td>\n",
       "      <td>Sy 2.0</td>\n",
       "      <td>0.0037</td>\n",
       "      <td>42.46</td>\n",
       "      <td>0.01056</td>\n",
       "    </tr>\n",
       "    <tr>\n",
       "      <th>22</th>\n",
       "      <td>IC 4329A</td>\n",
       "      <td>Sy 1.5</td>\n",
       "      <td>0.0160</td>\n",
       "      <td>44.18</td>\n",
       "      <td>0.01145</td>\n",
       "    </tr>\n",
       "    <tr>\n",
       "      <th>23</th>\n",
       "      <td>NGC 3079</td>\n",
       "      <td>Sy 2.0</td>\n",
       "      <td>0.0037</td>\n",
       "      <td>42.05</td>\n",
       "      <td>0.01145</td>\n",
       "    </tr>\n",
       "    <tr>\n",
       "      <th>24</th>\n",
       "      <td>IC 2461</td>\n",
       "      <td>Sy 2.0</td>\n",
       "      <td>0.0075</td>\n",
       "      <td>42.38</td>\n",
       "      <td>0.01341</td>\n",
       "    </tr>\n",
       "    <tr>\n",
       "      <th>25</th>\n",
       "      <td>NGC 788</td>\n",
       "      <td>Sy 2.0</td>\n",
       "      <td>0.0136</td>\n",
       "      <td>43.51</td>\n",
       "      <td>0.01418</td>\n",
       "    </tr>\n",
       "  </tbody>\n",
       "</table>\n",
       "</div>"
      ],
      "text/plain": [
       "                        AGN    Type  Redshift  Luminosity    P-value\n",
       "0                  NGC 526A  Sy 2.0    0.0191       43.78        0.0\n",
       "1                  NGC 5548  Sy 1.5    0.0172       43.76        0.0\n",
       "2                  NGC 4151  Sy 1.5    0.0033       43.17        0.0\n",
       "3                   NGC 973  Sy 2.0    0.0162       43.46        0.0\n",
       "4                  WKK 4374  Sy 1.9    0.0180       43.27   0.000001\n",
       "5                  NGC 2617  Sy 1.8    0.0142       42.86   0.000014\n",
       "6                  NGC 4507  Sy 1.9    0.0118       43.76   0.000075\n",
       "7                      Mrk3  Sy 1.9    0.0135       43.79   0.000174\n",
       "8   2MASX J04440903+2813003  Sy 2.0    0.0113       43.15   0.000255\n",
       "9                  NGC 4388  Sy 2.0    0.0084       43.64  3.425E0-4\n",
       "10                 NGC 2110  Sy 2.0    0.0078       43.65   0.000562\n",
       "11  2MASX J10402231-4625264  Sy 2.0    0.0200       43.28   0.000584\n",
       "12                  IC 4709  Sy 2.0    0.0169       43.40   0.001474\n",
       "13                UGC 03601  Sy 1.9    0.0171       43.08   0.002155\n",
       "14                 4C 50.55  Sy 1.2    0.0200       44.28   0.002635\n",
       "15                 NGC 4235  Sy 1.2    0.0080       42.74   0.002786\n",
       "16                 NGC 7679  Sy 2.0    0.0171       43.09   0.004352\n",
       "17                 NGC 4945  Sy 2.0    0.0019       42.35   0.006731\n",
       "18                 NGC 3281  Sy 2.0    0.0107       43.32   0.008343\n",
       "19               4U 1344-60  Sy 1.9    0.0129       43.62   0.008459\n",
       "20           MCG +04-48-002  Sy 2.0    0.0139       43.51   0.009586\n",
       "21                 NGC 6300  Sy 2.0    0.0037       42.46    0.01056\n",
       "22                 IC 4329A  Sy 1.5    0.0160       44.18    0.01145\n",
       "23                 NGC 3079  Sy 2.0    0.0037       42.05    0.01145\n",
       "24                  IC 2461  Sy 2.0    0.0075       42.38    0.01341\n",
       "25                  NGC 788  Sy 2.0    0.0136       43.51    0.01418"
      ]
     },
     "execution_count": 7,
     "metadata": {},
     "output_type": "execute_result"
    }
   ],
   "source": [
    "CLAGN_Candidate_BAT"
   ]
  },
  {
   "cell_type": "code",
   "execution_count": 9,
   "metadata": {
    "ExecuteTime": {
     "end_time": "2023-02-21T08:30:46.565187Z",
     "start_time": "2023-02-21T08:30:35.333358Z"
    }
   },
   "outputs": [],
   "source": [
    "for index,name in enumerate(CLAGN_Candidate_BAT['AGN']):\n",
    "    result_table = Ned.query_object(name)\n",
    "    CLAGN_Candidate_BAT.loc[index,'ra']=result_table['RA'].data[0]\n",
    "    CLAGN_Candidate_BAT.loc[index,'dec']=result_table['DEC'].data[0]"
   ]
  },
  {
   "cell_type": "code",
   "execution_count": 10,
   "metadata": {
    "ExecuteTime": {
     "end_time": "2023-02-21T08:30:46.590156Z",
     "start_time": "2023-02-21T08:30:46.568817Z"
    }
   },
   "outputs": [
    {
     "data": {
      "text/html": [
       "<div>\n",
       "<style scoped>\n",
       "    .dataframe tbody tr th:only-of-type {\n",
       "        vertical-align: middle;\n",
       "    }\n",
       "\n",
       "    .dataframe tbody tr th {\n",
       "        vertical-align: top;\n",
       "    }\n",
       "\n",
       "    .dataframe thead th {\n",
       "        text-align: right;\n",
       "    }\n",
       "</style>\n",
       "<table border=\"1\" class=\"dataframe\">\n",
       "  <thead>\n",
       "    <tr style=\"text-align: right;\">\n",
       "      <th></th>\n",
       "      <th>AGN</th>\n",
       "      <th>Type</th>\n",
       "      <th>Redshift</th>\n",
       "      <th>Luminosity</th>\n",
       "      <th>P-value</th>\n",
       "      <th>ra</th>\n",
       "      <th>dec</th>\n",
       "    </tr>\n",
       "  </thead>\n",
       "  <tbody>\n",
       "    <tr>\n",
       "      <th>0</th>\n",
       "      <td>NGC 526A</td>\n",
       "      <td>Sy 2.0</td>\n",
       "      <td>0.0191</td>\n",
       "      <td>43.78</td>\n",
       "      <td>0.0</td>\n",
       "      <td>20.97664</td>\n",
       "      <td>-35.06553</td>\n",
       "    </tr>\n",
       "    <tr>\n",
       "      <th>1</th>\n",
       "      <td>NGC 5548</td>\n",
       "      <td>Sy 1.5</td>\n",
       "      <td>0.0172</td>\n",
       "      <td>43.76</td>\n",
       "      <td>0.0</td>\n",
       "      <td>214.49806</td>\n",
       "      <td>25.13679</td>\n",
       "    </tr>\n",
       "    <tr>\n",
       "      <th>2</th>\n",
       "      <td>NGC 4151</td>\n",
       "      <td>Sy 1.5</td>\n",
       "      <td>0.0033</td>\n",
       "      <td>43.17</td>\n",
       "      <td>0.0</td>\n",
       "      <td>182.63574</td>\n",
       "      <td>39.40573</td>\n",
       "    </tr>\n",
       "    <tr>\n",
       "      <th>3</th>\n",
       "      <td>NGC 973</td>\n",
       "      <td>Sy 2.0</td>\n",
       "      <td>0.0162</td>\n",
       "      <td>43.46</td>\n",
       "      <td>0.0</td>\n",
       "      <td>38.58379</td>\n",
       "      <td>32.50561</td>\n",
       "    </tr>\n",
       "    <tr>\n",
       "      <th>4</th>\n",
       "      <td>WKK 4374</td>\n",
       "      <td>Sy 1.9</td>\n",
       "      <td>0.0180</td>\n",
       "      <td>43.27</td>\n",
       "      <td>0.000001</td>\n",
       "      <td>222.88805</td>\n",
       "      <td>-55.67733</td>\n",
       "    </tr>\n",
       "    <tr>\n",
       "      <th>5</th>\n",
       "      <td>NGC 2617</td>\n",
       "      <td>Sy 1.8</td>\n",
       "      <td>0.0142</td>\n",
       "      <td>42.86</td>\n",
       "      <td>0.000014</td>\n",
       "      <td>128.91162</td>\n",
       "      <td>-4.08822</td>\n",
       "    </tr>\n",
       "    <tr>\n",
       "      <th>6</th>\n",
       "      <td>NGC 4507</td>\n",
       "      <td>Sy 1.9</td>\n",
       "      <td>0.0118</td>\n",
       "      <td>43.76</td>\n",
       "      <td>0.000075</td>\n",
       "      <td>188.90263</td>\n",
       "      <td>-39.90926</td>\n",
       "    </tr>\n",
       "    <tr>\n",
       "      <th>7</th>\n",
       "      <td>Mrk3</td>\n",
       "      <td>Sy 1.9</td>\n",
       "      <td>0.0135</td>\n",
       "      <td>43.79</td>\n",
       "      <td>0.000174</td>\n",
       "      <td>93.90152</td>\n",
       "      <td>71.03753</td>\n",
       "    </tr>\n",
       "    <tr>\n",
       "      <th>8</th>\n",
       "      <td>2MASX J04440903+2813003</td>\n",
       "      <td>Sy 2.0</td>\n",
       "      <td>0.0113</td>\n",
       "      <td>43.15</td>\n",
       "      <td>0.000255</td>\n",
       "      <td>71.03754</td>\n",
       "      <td>28.21686</td>\n",
       "    </tr>\n",
       "    <tr>\n",
       "      <th>9</th>\n",
       "      <td>NGC 4388</td>\n",
       "      <td>Sy 2.0</td>\n",
       "      <td>0.0084</td>\n",
       "      <td>43.64</td>\n",
       "      <td>3.425E0-4</td>\n",
       "      <td>186.44478</td>\n",
       "      <td>12.66209</td>\n",
       "    </tr>\n",
       "    <tr>\n",
       "      <th>10</th>\n",
       "      <td>NGC 2110</td>\n",
       "      <td>Sy 2.0</td>\n",
       "      <td>0.0078</td>\n",
       "      <td>43.65</td>\n",
       "      <td>0.000562</td>\n",
       "      <td>88.04742</td>\n",
       "      <td>-7.45621</td>\n",
       "    </tr>\n",
       "    <tr>\n",
       "      <th>11</th>\n",
       "      <td>2MASX J10402231-4625264</td>\n",
       "      <td>Sy 2.0</td>\n",
       "      <td>0.0200</td>\n",
       "      <td>43.28</td>\n",
       "      <td>0.000584</td>\n",
       "      <td>160.09393</td>\n",
       "      <td>-46.42380</td>\n",
       "    </tr>\n",
       "    <tr>\n",
       "      <th>12</th>\n",
       "      <td>IC 4709</td>\n",
       "      <td>Sy 2.0</td>\n",
       "      <td>0.0169</td>\n",
       "      <td>43.40</td>\n",
       "      <td>0.001474</td>\n",
       "      <td>276.08079</td>\n",
       "      <td>-56.36917</td>\n",
       "    </tr>\n",
       "    <tr>\n",
       "      <th>13</th>\n",
       "      <td>UGC 03601</td>\n",
       "      <td>Sy 1.9</td>\n",
       "      <td>0.0171</td>\n",
       "      <td>43.08</td>\n",
       "      <td>0.002155</td>\n",
       "      <td>103.95636</td>\n",
       "      <td>40.00022</td>\n",
       "    </tr>\n",
       "    <tr>\n",
       "      <th>14</th>\n",
       "      <td>4C 50.55</td>\n",
       "      <td>Sy 1.2</td>\n",
       "      <td>0.0200</td>\n",
       "      <td>44.28</td>\n",
       "      <td>0.002635</td>\n",
       "      <td>321.16354</td>\n",
       "      <td>50.97328</td>\n",
       "    </tr>\n",
       "    <tr>\n",
       "      <th>15</th>\n",
       "      <td>NGC 4235</td>\n",
       "      <td>Sy 1.2</td>\n",
       "      <td>0.0080</td>\n",
       "      <td>42.74</td>\n",
       "      <td>0.002786</td>\n",
       "      <td>184.29117</td>\n",
       "      <td>7.19158</td>\n",
       "    </tr>\n",
       "    <tr>\n",
       "      <th>16</th>\n",
       "      <td>NGC 7679</td>\n",
       "      <td>Sy 2.0</td>\n",
       "      <td>0.0171</td>\n",
       "      <td>43.09</td>\n",
       "      <td>0.004352</td>\n",
       "      <td>352.19459</td>\n",
       "      <td>3.51147</td>\n",
       "    </tr>\n",
       "    <tr>\n",
       "      <th>17</th>\n",
       "      <td>NGC 4945</td>\n",
       "      <td>Sy 2.0</td>\n",
       "      <td>0.0019</td>\n",
       "      <td>42.35</td>\n",
       "      <td>0.006731</td>\n",
       "      <td>196.36449</td>\n",
       "      <td>-49.46821</td>\n",
       "    </tr>\n",
       "    <tr>\n",
       "      <th>18</th>\n",
       "      <td>NGC 3281</td>\n",
       "      <td>Sy 2.0</td>\n",
       "      <td>0.0107</td>\n",
       "      <td>43.32</td>\n",
       "      <td>0.008343</td>\n",
       "      <td>157.96704</td>\n",
       "      <td>-34.85369</td>\n",
       "    </tr>\n",
       "    <tr>\n",
       "      <th>19</th>\n",
       "      <td>4U 1344-60</td>\n",
       "      <td>Sy 1.9</td>\n",
       "      <td>0.0129</td>\n",
       "      <td>43.62</td>\n",
       "      <td>0.008459</td>\n",
       "      <td>206.89981</td>\n",
       "      <td>-60.61772</td>\n",
       "    </tr>\n",
       "    <tr>\n",
       "      <th>20</th>\n",
       "      <td>MCG +04-48-002</td>\n",
       "      <td>Sy 2.0</td>\n",
       "      <td>0.0139</td>\n",
       "      <td>43.51</td>\n",
       "      <td>0.009586</td>\n",
       "      <td>307.14608</td>\n",
       "      <td>25.73333</td>\n",
       "    </tr>\n",
       "    <tr>\n",
       "      <th>21</th>\n",
       "      <td>NGC 6300</td>\n",
       "      <td>Sy 2.0</td>\n",
       "      <td>0.0037</td>\n",
       "      <td>42.46</td>\n",
       "      <td>0.01056</td>\n",
       "      <td>259.24779</td>\n",
       "      <td>-62.82056</td>\n",
       "    </tr>\n",
       "    <tr>\n",
       "      <th>22</th>\n",
       "      <td>IC 4329A</td>\n",
       "      <td>Sy 1.5</td>\n",
       "      <td>0.0160</td>\n",
       "      <td>44.18</td>\n",
       "      <td>0.01145</td>\n",
       "      <td>207.33028</td>\n",
       "      <td>-30.30944</td>\n",
       "    </tr>\n",
       "    <tr>\n",
       "      <th>23</th>\n",
       "      <td>NGC 3079</td>\n",
       "      <td>Sy 2.0</td>\n",
       "      <td>0.0037</td>\n",
       "      <td>42.05</td>\n",
       "      <td>0.01145</td>\n",
       "      <td>150.49085</td>\n",
       "      <td>55.67979</td>\n",
       "    </tr>\n",
       "    <tr>\n",
       "      <th>24</th>\n",
       "      <td>IC 2461</td>\n",
       "      <td>Sy 2.0</td>\n",
       "      <td>0.0075</td>\n",
       "      <td>42.38</td>\n",
       "      <td>0.01341</td>\n",
       "      <td>139.99177</td>\n",
       "      <td>37.19126</td>\n",
       "    </tr>\n",
       "    <tr>\n",
       "      <th>25</th>\n",
       "      <td>NGC 788</td>\n",
       "      <td>Sy 2.0</td>\n",
       "      <td>0.0136</td>\n",
       "      <td>43.51</td>\n",
       "      <td>0.01418</td>\n",
       "      <td>30.27686</td>\n",
       "      <td>-6.81552</td>\n",
       "    </tr>\n",
       "  </tbody>\n",
       "</table>\n",
       "</div>"
      ],
      "text/plain": [
       "                        AGN    Type  Redshift  Luminosity    P-value  \\\n",
       "0                  NGC 526A  Sy 2.0    0.0191       43.78        0.0   \n",
       "1                  NGC 5548  Sy 1.5    0.0172       43.76        0.0   \n",
       "2                  NGC 4151  Sy 1.5    0.0033       43.17        0.0   \n",
       "3                   NGC 973  Sy 2.0    0.0162       43.46        0.0   \n",
       "4                  WKK 4374  Sy 1.9    0.0180       43.27   0.000001   \n",
       "5                  NGC 2617  Sy 1.8    0.0142       42.86   0.000014   \n",
       "6                  NGC 4507  Sy 1.9    0.0118       43.76   0.000075   \n",
       "7                      Mrk3  Sy 1.9    0.0135       43.79   0.000174   \n",
       "8   2MASX J04440903+2813003  Sy 2.0    0.0113       43.15   0.000255   \n",
       "9                  NGC 4388  Sy 2.0    0.0084       43.64  3.425E0-4   \n",
       "10                 NGC 2110  Sy 2.0    0.0078       43.65   0.000562   \n",
       "11  2MASX J10402231-4625264  Sy 2.0    0.0200       43.28   0.000584   \n",
       "12                  IC 4709  Sy 2.0    0.0169       43.40   0.001474   \n",
       "13                UGC 03601  Sy 1.9    0.0171       43.08   0.002155   \n",
       "14                 4C 50.55  Sy 1.2    0.0200       44.28   0.002635   \n",
       "15                 NGC 4235  Sy 1.2    0.0080       42.74   0.002786   \n",
       "16                 NGC 7679  Sy 2.0    0.0171       43.09   0.004352   \n",
       "17                 NGC 4945  Sy 2.0    0.0019       42.35   0.006731   \n",
       "18                 NGC 3281  Sy 2.0    0.0107       43.32   0.008343   \n",
       "19               4U 1344-60  Sy 1.9    0.0129       43.62   0.008459   \n",
       "20           MCG +04-48-002  Sy 2.0    0.0139       43.51   0.009586   \n",
       "21                 NGC 6300  Sy 2.0    0.0037       42.46    0.01056   \n",
       "22                 IC 4329A  Sy 1.5    0.0160       44.18    0.01145   \n",
       "23                 NGC 3079  Sy 2.0    0.0037       42.05    0.01145   \n",
       "24                  IC 2461  Sy 2.0    0.0075       42.38    0.01341   \n",
       "25                  NGC 788  Sy 2.0    0.0136       43.51    0.01418   \n",
       "\n",
       "           ra       dec  \n",
       "0    20.97664 -35.06553  \n",
       "1   214.49806  25.13679  \n",
       "2   182.63574  39.40573  \n",
       "3    38.58379  32.50561  \n",
       "4   222.88805 -55.67733  \n",
       "5   128.91162  -4.08822  \n",
       "6   188.90263 -39.90926  \n",
       "7    93.90152  71.03753  \n",
       "8    71.03754  28.21686  \n",
       "9   186.44478  12.66209  \n",
       "10   88.04742  -7.45621  \n",
       "11  160.09393 -46.42380  \n",
       "12  276.08079 -56.36917  \n",
       "13  103.95636  40.00022  \n",
       "14  321.16354  50.97328  \n",
       "15  184.29117   7.19158  \n",
       "16  352.19459   3.51147  \n",
       "17  196.36449 -49.46821  \n",
       "18  157.96704 -34.85369  \n",
       "19  206.89981 -60.61772  \n",
       "20  307.14608  25.73333  \n",
       "21  259.24779 -62.82056  \n",
       "22  207.33028 -30.30944  \n",
       "23  150.49085  55.67979  \n",
       "24  139.99177  37.19126  \n",
       "25   30.27686  -6.81552  "
      ]
     },
     "execution_count": 10,
     "metadata": {},
     "output_type": "execute_result"
    }
   ],
   "source": [
    "CLAGN_Candidate_BAT#.columns"
   ]
  },
  {
   "cell_type": "code",
   "execution_count": null,
   "metadata": {
    "ExecuteTime": {
     "end_time": "2022-08-06T13:19:42.828932Z",
     "start_time": "2022-08-06T13:19:42.808838Z"
    }
   },
   "outputs": [],
   "source": [
    "CLAGN_Candidate_BAT.head()"
   ]
  },
  {
   "cell_type": "markdown",
   "metadata": {
    "ExecuteTime": {
     "end_time": "2022-08-08T07:19:25.685409Z",
     "start_time": "2022-08-08T07:19:25.482170Z"
    }
   },
   "source": [
    "curl -X POST ztf.alerce.online/get_detections -d @- << EOF\n",
    "{\n",
    "   \"oid\":\"ZTF18aaaadvs\"\n",
    "}\n",
    "EOF"
   ]
  },
  {
   "cell_type": "code",
   "execution_count": null,
   "metadata": {},
   "outputs": [],
   "source": [
    "182.63574 39.40573"
   ]
  },
  {
   "cell_type": "code",
   "execution_count": null,
   "metadata": {
    "ExecuteTime": {
     "end_time": "2022-08-06T12:48:15.849291Z",
     "start_time": "2022-08-06T12:48:15.841845Z"
    }
   },
   "outputs": [],
   "source": [
    "3.0/3600,1/3600"
   ]
  },
  {
   "cell_type": "markdown",
   "metadata": {},
   "source": [
    "## skycoor_J053449"
   ]
  },
  {
   "cell_type": "code",
   "execution_count": 52,
   "metadata": {
    "ExecuteTime": {
     "end_time": "2023-02-22T06:34:18.007066Z",
     "start_time": "2023-02-22T06:34:17.971032Z"
    }
   },
   "outputs": [],
   "source": [
    "skycoor_J053449= SkyCoord(ra='05:34:49.2', dec='+21:26:02.9',frame=\"icrs\", unit=\"deg\")"
   ]
  },
  {
   "cell_type": "code",
   "execution_count": 55,
   "metadata": {
    "ExecuteTime": {
     "end_time": "2023-02-22T06:34:29.063039Z",
     "start_time": "2023-02-22T06:34:29.052809Z"
    }
   },
   "outputs": [
    {
     "data": {
      "text/plain": [
       "(5.580333333333333, 21.43413888888889)"
      ]
     },
     "execution_count": 55,
     "metadata": {},
     "output_type": "execute_result"
    }
   ],
   "source": [
    "skycoor_J053449.ra.deg,skycoor_J053449.dec.deg"
   ]
  },
  {
   "cell_type": "code",
   "execution_count": null,
   "metadata": {},
   "outputs": [],
   "source": []
  },
  {
   "cell_type": "markdown",
   "metadata": {},
   "source": [
    "# ZTF"
   ]
  },
  {
   "cell_type": "markdown",
   "metadata": {},
   "source": [
    "## def ztflc_show_in_jupyter"
   ]
  },
  {
   "cell_type": "code",
   "execution_count": 16,
   "metadata": {
    "ExecuteTime": {
     "end_time": "2023-02-21T08:33:48.327112Z",
     "start_time": "2023-02-21T08:33:48.302714Z"
    }
   },
   "outputs": [],
   "source": [
    "def ztflc_show_in_jupyter(data,name,band, showtoday=False, show_upperlimits=False, formattime=True,\n",
    "             marker=\"o\", mec=\"0.7\", ms=7, ecolor=\"0.7\", ls=\"None\", zorder=4, **kwargs):\n",
    "        \"\"\" kwargs goes to matplotlib's errorbar() \"\"\"\n",
    "        FILTER_COLORS = [\"C2\",\"C3\",\"C1\"]\n",
    "        FILTER_CODE   = [\"zg\",\"zr\",\"zi\"]\n",
    "        save_name=name.strip().replace(' ','_')\n",
    "        \n",
    "\n",
    "        from astropy import time\n",
    "        import matplotlib.pyplot as mpl\n",
    "\n",
    "        # ----------- #\n",
    "        # Global      #\n",
    "        # ----------- #\n",
    "        lc_dataframe = data\n",
    "        prop = dict(marker=marker, mec=mec, ms=ms, ecolor=ecolor, ls=ls, zorder=zorder)\n",
    "\n",
    "        # ----------- #\n",
    "        #\n",
    "        # ----------- #\n",
    "        fig = mpl.figure(figsize=[7,4])\n",
    "        ax = fig.add_axes([0.1,0.15,0.8,0.75])\n",
    "        for filter_ in np.unique(lc_dataframe[\"filtercode\"]):\n",
    "            d = lc_dataframe[lc_dataframe[\"filtercode\"]==filter_]\n",
    "            if filter_ in FILTER_CODE:\n",
    "                prop[\"color\"] = np.asarray(FILTER_COLORS)[np.where(np.asarray(FILTER_CODE)==filter_)][0]\n",
    "            else:\n",
    "                prop[\"color\"] = \"0.7\"\n",
    "\n",
    "            if formattime:\n",
    "                dates = time.Time(np.asarray(d[\"mjd\"].values, dtype=\"float\"), format=\"mjd\").datetime\n",
    "            else:\n",
    "                dates = d[\"mjd\"]\n",
    "            ax.errorbar(dates, d[\"mag\"], \n",
    "                                yerr=d[\"magerr\"],\n",
    "                                **{**prop,**kwargs})\n",
    "\n",
    "        ax.invert_yaxis()\n",
    "        \n",
    "        if show_upperlimits:\n",
    "            for filter_ in np.unique(lc_dataframe[\"filtercode\"]):\n",
    "                d = lc_dataframe[lc_dataframe[\"filtercode\"]==filter_]\n",
    "                if filter_ in FILTER_CODE:\n",
    "                    color = np.asarray(FILTER_COLORS)[np.where(np.asarray(FILTER_CODE)==filter_)][0]\n",
    "                else:\n",
    "                    color = \"0.7\"\n",
    "\n",
    "                if formattime:\n",
    "                    dates = time.Time(np.asarray(d[\"mjd\"].values, dtype=\"float\"), format=\"mjd\").datetime\n",
    "                else:\n",
    "                    dates = d[\"mjd\"]\n",
    "                    \n",
    "                ax.errorbar(dates, d[\"limitmag\"], \n",
    "                            yerr=0.1, lolims=True,marker=\"None\", ls=\"None\", \n",
    "                            color=color, alpha=0.1,\n",
    "                            )\n",
    "\n",
    "        if showtoday:\n",
    "            today_color = \"0.7\"\n",
    "            import datetime\n",
    "            today = time.Time(datetime.date.today().isoformat(),format=\"iso\").mjd\n",
    "            ax.axvline(today, ls=\"--\", color=today_color, zorder=1, lw=1)\n",
    "            ax.text(today, ax.get_ylim()[0]-0.05, \"Today\", va=\"bottom\", ha=\"right\", rotation=90, color=today_color)\n",
    "\n",
    "        if formattime:\n",
    "            from matplotlib import dates as mdates            \n",
    "            locator = mdates.AutoDateLocator()\n",
    "            formatter = mdates.ConciseDateFormatter(locator)\n",
    "            ax.xaxis.set_major_locator(locator)\n",
    "            ax.xaxis.set_major_formatter(formatter)\n",
    "            ax.set_xlabel(\"Date\")\n",
    "        else:\n",
    "            ax.set_xlabel(\"MJD\")\n",
    "        # - Labels\n",
    "\n",
    "        ax.set_ylabel(\"mag\")\n",
    "        ax.set_title('%s_%s'%(name,band))"
   ]
  },
  {
   "cell_type": "markdown",
   "metadata": {},
   "source": [
    "## def ztflc_show"
   ]
  },
  {
   "cell_type": "code",
   "execution_count": 48,
   "metadata": {
    "ExecuteTime": {
     "end_time": "2023-02-21T08:47:21.484085Z",
     "start_time": "2023-02-21T08:47:21.459201Z"
    }
   },
   "outputs": [],
   "source": [
    "def ztflc_savepng(data,name,band, showtoday=False, show_upperlimits=False, formattime=True,\n",
    "             marker=\"o\", mec=\"0.7\", ms=7, ecolor=\"0.7\", ls=\"None\", zorder=4, **kwargs):\n",
    "        \"\"\" kwargs goes to matplotlib's errorbar() \"\"\"\n",
    "        FILTER_COLORS = [\"C2\",\"C3\",\"C1\"]\n",
    "        FILTER_CODE   = [\"zg\",\"zr\",\"zi\"]\n",
    "        save_name=name.strip().replace(' ','_')\n",
    "        \n",
    "\n",
    "        from astropy import time\n",
    "        import matplotlib.pyplot as mpl\n",
    "\n",
    "        # ----------- #\n",
    "        # Global      #\n",
    "        # ----------- #\n",
    "        lc_dataframe = data\n",
    "        prop = dict(marker=marker, mec=mec, ms=ms, ecolor=ecolor, ls=ls, zorder=zorder)\n",
    "\n",
    "        # ----------- #\n",
    "        #\n",
    "        # ----------- #\n",
    "        fig = mpl.figure(figsize=[7,4])\n",
    "        ax = fig.add_axes([0.1,0.15,0.8,0.75])\n",
    "        for filter_ in np.unique(lc_dataframe[\"filtercode\"]):\n",
    "            d = lc_dataframe[lc_dataframe[\"filtercode\"]==filter_]\n",
    "            if filter_ in FILTER_CODE:\n",
    "                prop[\"color\"] = np.asarray(FILTER_COLORS)[np.where(np.asarray(FILTER_CODE)==filter_)][0]\n",
    "            else:\n",
    "                prop[\"color\"] = \"0.7\"\n",
    "\n",
    "            if formattime:\n",
    "                dates = time.Time(np.asarray(d[\"mjd\"].values, dtype=\"float\"), format=\"mjd\").datetime\n",
    "            else:\n",
    "                dates = d[\"mjd\"]\n",
    "            ax.errorbar(dates, d[\"mag\"], \n",
    "                                yerr=d[\"magerr\"],\n",
    "                                **{**prop,**kwargs})\n",
    "\n",
    "        ax.invert_yaxis()\n",
    "        \n",
    "        if show_upperlimits:\n",
    "            for filter_ in np.unique(lc_dataframe[\"filtercode\"]):\n",
    "                d = lc_dataframe[lc_dataframe[\"filtercode\"]==filter_]\n",
    "                if filter_ in FILTER_CODE:\n",
    "                    color = np.asarray(FILTER_COLORS)[np.where(np.asarray(FILTER_CODE)==filter_)][0]\n",
    "                else:\n",
    "                    color = \"0.7\"\n",
    "\n",
    "                if formattime:\n",
    "                    dates = time.Time(np.asarray(d[\"mjd\"].values, dtype=\"float\"), format=\"mjd\").datetime\n",
    "                else:\n",
    "                    dates = d[\"mjd\"]\n",
    "                    \n",
    "                ax.errorbar(dates, d[\"limitmag\"], \n",
    "                            yerr=0.1, lolims=True,marker=\"None\", ls=\"None\", \n",
    "                            color=color, alpha=0.1,\n",
    "                            )\n",
    "\n",
    "        if showtoday:\n",
    "            today_color = \"0.7\"\n",
    "            import datetime\n",
    "            today = time.Time(datetime.date.today().isoformat(),format=\"iso\").mjd\n",
    "            ax.axvline(today, ls=\"--\", color=today_color, zorder=1, lw=1)\n",
    "            ax.text(today, ax.get_ylim()[0]-0.05, \"Today\", va=\"bottom\", ha=\"right\", rotation=90, color=today_color)\n",
    "\n",
    "        if formattime:\n",
    "            from matplotlib import dates as mdates            \n",
    "            locator = mdates.AutoDateLocator()\n",
    "            formatter = mdates.ConciseDateFormatter(locator)\n",
    "            ax.xaxis.set_major_locator(locator)\n",
    "            ax.xaxis.set_major_formatter(formatter)\n",
    "            ax.set_xlabel(\"Date\")\n",
    "        else:\n",
    "            ax.set_xlabel(\"MJD\")\n",
    "        # - Labels\n",
    "\n",
    "        ax.set_ylabel(\"mag\")\n",
    "        ax.set_title('%s_%s'%(name,band))\n",
    "        \n",
    "        fig.savefig('%s/%s_%s.png'%(CLAGN_Candidate_BAT_ZTF_dir,save_name,band),\n",
    "                   dpi=400, transparent=False, bbox_inches='tight')\n",
    "        mpl.close()\n",
    "        \n",
    "        "
   ]
  },
  {
   "cell_type": "code",
   "execution_count": null,
   "metadata": {},
   "outputs": [],
   "source": []
  },
  {
   "cell_type": "code",
   "execution_count": null,
   "metadata": {},
   "outputs": [],
   "source": []
  },
  {
   "cell_type": "code",
   "execution_count": null,
   "metadata": {},
   "outputs": [],
   "source": []
  },
  {
   "cell_type": "markdown",
   "metadata": {},
   "source": [
    "## NGC 4151"
   ]
  },
  {
   "cell_type": "code",
   "execution_count": 12,
   "metadata": {
    "ExecuteTime": {
     "end_time": "2023-02-21T08:32:14.635839Z",
     "start_time": "2023-02-21T08:32:14.624252Z"
    }
   },
   "outputs": [
    {
     "name": "stdout",
     "output_type": "stream",
     "text": [
      "NGC 4151\n",
      "182.63574 39.40573\n"
     ]
    }
   ],
   "source": [
    "Name_index=2\n",
    "print(CLAGN_Candidate_BAT.loc[Name_index,'AGN'])\n",
    "print(CLAGN_Candidate_BAT.loc[Name_index,'ra'],CLAGN_Candidate_BAT.loc[Name_index,'dec'])"
   ]
  },
  {
   "cell_type": "code",
   "execution_count": 13,
   "metadata": {
    "ExecuteTime": {
     "end_time": "2023-02-21T08:32:40.421979Z",
     "start_time": "2023-02-21T08:32:40.412865Z"
    }
   },
   "outputs": [
    {
     "data": {
      "text/plain": [
       "'/Users/lyubing/blog/brettlv.github.io/pythoncode/changinglookAGN'"
      ]
     },
     "execution_count": 13,
     "metadata": {},
     "output_type": "execute_result"
    }
   ],
   "source": [
    "pwd"
   ]
  },
  {
   "cell_type": "code",
   "execution_count": 14,
   "metadata": {
    "ExecuteTime": {
     "end_time": "2023-02-21T08:32:44.243857Z",
     "start_time": "2023-02-21T08:32:44.086910Z"
    }
   },
   "outputs": [
    {
     "name": "stdout",
     "output_type": "stream",
     "text": [
      "BAT150month.ipynb\r\n",
      "\u001b[31mBAT_105m_catalog_07jul2019.ipynb\u001b[m\u001b[m*\r\n",
      "\u001b[31mCLAGN_Candidate_BAT_ZTF.ipynb\u001b[m\u001b[m*\r\n",
      "\u001b[31mCLAGN_crossmatch.ipynb\u001b[m\u001b[m*\r\n",
      "\u001b[30m\u001b[43mCLAGN_ned_data\u001b[m\u001b[m/\r\n",
      "\u001b[31mCLAGN_py3ads_adstex_arxiv.ipynb\u001b[m\u001b[m*\r\n",
      "\u001b[30m\u001b[43mCLAGN_wise_data\u001b[m\u001b[m/\r\n",
      "\u001b[31mCLANG_statistic_for_data_planing.ipynb\u001b[m\u001b[m*\r\n",
      "\u001b[31mIrsa_wise_astroquery.ipynb\u001b[m\u001b[m*\r\n",
      "\u001b[31mJavelin_CCF_timelag.ipynb\u001b[m\u001b[m*\r\n",
      "LAMOST_CLAGN_Search.ipynb\r\n",
      "\u001b[31mLLAGN_NED_name_redshift_search.ipynb\u001b[m\u001b[m*\r\n",
      "\u001b[34mOXCLAGN_NuSTAR\u001b[m\u001b[m/\r\n",
      "\u001b[31mQSO_wise.ipynb\u001b[m\u001b[m*\r\n",
      "\u001b[31mReadme.md\u001b[m\u001b[m*\r\n",
      "\u001b[31mReadme.py\u001b[m\u001b[m*\r\n",
      "Search data with CasJobs.ipynb\r\n",
      "Untitled.ipynb\r\n",
      "\u001b[31mWISE_LLAGN_Quasar.ipynb\u001b[m\u001b[m*\r\n",
      "\u001b[31mWISE_data_plot_hist.ipynb\u001b[m\u001b[m*\r\n",
      "\u001b[31mWISE_download_plot.ipynb\u001b[m\u001b[m*\r\n",
      "\u001b[31mWISE_timelag_lc.ipynb\u001b[m\u001b[m*\r\n",
      "\u001b[31mZTF_WWZ_timing_linjie.ipynb\u001b[m\u001b[m*\r\n",
      "\u001b[31mchanginglook_agn_list_ned_data_vla.ipynb\u001b[m\u001b[m*\r\n",
      "\u001b[34moutput\u001b[m\u001b[m/\r\n",
      "\u001b[31mztf_data_r_mjd_mag_magerr.txt\u001b[m\u001b[m*\r\n"
     ]
    }
   ],
   "source": [
    "ls"
   ]
  },
  {
   "cell_type": "code",
   "execution_count": 22,
   "metadata": {
    "ExecuteTime": {
     "end_time": "2023-02-21T08:35:20.383535Z",
     "start_time": "2023-02-21T08:35:15.237856Z"
    }
   },
   "outputs": [
    {
     "name": "stdout",
     "output_type": "stream",
     "text": [
      "NGC 4151\n",
      "182.63574 39.40573\n"
     ]
    },
    {
     "data": {
      "image/png": "[encoded data removed]",
      "text/plain": [
       "<Figure size 504x288 with 1 Axes>"
      ]
     },
     "metadata": {
      "needs_background": "light"
     },
     "output_type": "display_data"
    }
   ],
   "source": [
    "Name_index=2\n",
    "name=CLAGN_Candidate_BAT.loc[Name_index,'AGN']\n",
    "save_name=name.strip().replace(' ','_')\n",
    "\n",
    "\n",
    "print(CLAGN_Candidate_BAT.loc[Name_index,'AGN'])\n",
    "print(CLAGN_Candidate_BAT.loc[Name_index,'ra'],CLAGN_Candidate_BAT.loc[Name_index,'dec'])\n",
    "\n",
    "band='g'\n",
    "\n",
    "data_g = lightcurve.LCQuery.download_data(circle=[CLAGN_Candidate_BAT.loc[Name_index,'ra'],\n",
    "                                                  CLAGN_Candidate_BAT.loc[Name_index,'dec'],1.0/3600], \n",
    "                                          bandname=band,BAD_CATFLAGS_MASK=32768)\n",
    "ztflc_show_in_jupyter(data_g,name,band)\n",
    "\n",
    "#lc_g = lightcurve.LCQuery(data_g)\n",
    "#lc_g.show()"
   ]
  },
  {
   "cell_type": "code",
   "execution_count": 23,
   "metadata": {
    "ExecuteTime": {
     "end_time": "2023-02-21T08:35:28.001603Z",
     "start_time": "2023-02-21T08:35:27.993192Z"
    }
   },
   "outputs": [],
   "source": [
    "oids=[]\n",
    "for oid in data_g['oid']:\n",
    "    if oid not in oids:\n",
    "        oids.append(oid)"
   ]
  },
  {
   "cell_type": "code",
   "execution_count": 24,
   "metadata": {
    "ExecuteTime": {
     "end_time": "2023-02-21T08:35:28.339087Z",
     "start_time": "2023-02-21T08:35:28.331344Z"
    }
   },
   "outputs": [
    {
     "data": {
      "text/plain": [
       "[715107400005470, 1713113300001769]"
      ]
     },
     "execution_count": 24,
     "metadata": {},
     "output_type": "execute_result"
    }
   ],
   "source": [
    "oids"
   ]
  },
  {
   "cell_type": "code",
   "execution_count": 30,
   "metadata": {
    "ExecuteTime": {
     "end_time": "2023-02-21T08:37:24.882500Z",
     "start_time": "2023-02-21T08:37:24.795096Z"
    }
   },
   "outputs": [
    {
     "data": {
      "image/png": "[encoded data removed]",
      "text/plain": [
       "<Figure size 504x288 with 1 Axes>"
      ]
     },
     "metadata": {
      "needs_background": "light"
     },
     "output_type": "display_data"
    }
   ],
   "source": [
    "ztflc_show_in_jupyter(data_g[data_g['oid']==1713113300001769],name,band,formattime=False)\n"
   ]
  },
  {
   "cell_type": "code",
   "execution_count": 31,
   "metadata": {
    "ExecuteTime": {
     "end_time": "2023-02-21T08:37:41.811554Z",
     "start_time": "2023-02-21T08:37:41.715716Z"
    }
   },
   "outputs": [
    {
     "data": {
      "image/png": "[encoded data removed]",
      "text/plain": [
       "<Figure size 504x288 with 1 Axes>"
      ]
     },
     "metadata": {
      "needs_background": "light"
     },
     "output_type": "display_data"
    }
   ],
   "source": [
    "ztflc_show_in_jupyter(data_g[data_g['oid']==715107400005470],name,band,formattime=False)\n"
   ]
  },
  {
   "cell_type": "code",
   "execution_count": null,
   "metadata": {},
   "outputs": [],
   "source": []
  },
  {
   "cell_type": "code",
   "execution_count": null,
   "metadata": {},
   "outputs": [],
   "source": []
  },
  {
   "cell_type": "code",
   "execution_count": null,
   "metadata": {
    "ExecuteTime": {
     "end_time": "2022-08-08T07:27:43.440360Z",
     "start_time": "2022-08-08T07:27:35.551272Z"
    }
   },
   "outputs": [],
   "source": [
    "Name_index=2\n",
    "name=CLAGN_Candidate_BAT.loc[Name_index,'AGN']\n",
    "save_name=name.strip().replace(' ','_')\n",
    "\n",
    "\n",
    "print(CLAGN_Candidate_BAT.loc[Name_index,'AGN'])\n",
    "print(CLAGN_Candidate_BAT.loc[Name_index,'ra'],CLAGN_Candidate_BAT.loc[Name_index,'dec'])\n",
    "\n",
    "band='r'\n",
    "\n",
    "\n",
    "data_r = lightcurve.LCQuery.download_data(circle=[CLAGN_Candidate_BAT.loc[Name_index,'ra'],\n",
    "                                                  CLAGN_Candidate_BAT.loc[Name_index,'dec'],1.0/3600], \n",
    "                                          bandname=band,BAD_CATFLAGS_MASK=32768)\n",
    "ztflc_show_in_jupyter(data_r,name,band)\n",
    "\n",
    "#lc_g = lightcurve.LCQuery(data_g)\n",
    "#lc_g.show()"
   ]
  },
  {
   "cell_type": "code",
   "execution_count": null,
   "metadata": {
    "ExecuteTime": {
     "end_time": "2022-08-08T07:28:02.013782Z",
     "start_time": "2022-08-08T07:27:54.680888Z"
    }
   },
   "outputs": [],
   "source": [
    "Name_index=2\n",
    "name=CLAGN_Candidate_BAT.loc[Name_index,'AGN']\n",
    "save_name=name.strip().replace(' ','_')\n",
    "\n",
    "\n",
    "print(CLAGN_Candidate_BAT.loc[Name_index,'AGN'])\n",
    "print(CLAGN_Candidate_BAT.loc[Name_index,'ra'],CLAGN_Candidate_BAT.loc[Name_index,'dec'])\n",
    "\n",
    "band='i'\n",
    "\n",
    "\n",
    "data_i = lightcurve.LCQuery.download_data(circle=[CLAGN_Candidate_BAT.loc[Name_index,'ra'],\n",
    "                                                  CLAGN_Candidate_BAT.loc[Name_index,'dec'],1.0/3600], \n",
    "                                          bandname=band,BAD_CATFLAGS_MASK=32768)\n",
    "ztflc_show_in_jupyter(data_i,name,band)\n",
    "\n",
    "#lc_g = lightcurve.LCQuery(data_g)\n",
    "#lc_g.show()"
   ]
  },
  {
   "cell_type": "code",
   "execution_count": null,
   "metadata": {},
   "outputs": [],
   "source": []
  },
  {
   "cell_type": "markdown",
   "metadata": {},
   "source": [
    "## BAT150m"
   ]
  },
  {
   "cell_type": "code",
   "execution_count": 32,
   "metadata": {
    "ExecuteTime": {
     "end_time": "2023-02-21T08:37:57.843540Z",
     "start_time": "2023-02-21T08:37:57.825397Z"
    }
   },
   "outputs": [],
   "source": [
    "BAT_150month_catalog=pd.read_csv('/Users/lyubing/IHEPBox/data/AGNmass/BAT_150mdata/BAT_150month_catalog.csv')"
   ]
  },
  {
   "cell_type": "code",
   "execution_count": 33,
   "metadata": {
    "ExecuteTime": {
     "end_time": "2023-02-21T08:38:14.288572Z",
     "start_time": "2023-02-21T08:38:14.274605Z"
    }
   },
   "outputs": [],
   "source": [
    "BAT_150month_data=pd.read_csv('/Users/lyubing/IHEPBox/data/AGNmass/BAT_150mdata/BAT_150month_data.csv')"
   ]
  },
  {
   "cell_type": "code",
   "execution_count": 34,
   "metadata": {
    "ExecuteTime": {
     "end_time": "2023-02-21T08:38:25.542452Z",
     "start_time": "2023-02-21T08:38:25.532089Z"
    }
   },
   "outputs": [],
   "source": [
    "BAT_150month_data_CTAGN=pd.read_csv('/Users/lyubing/IHEPBox/data/AGNmass/BAT_150mdata/BAT_150month_data_CTAGN.csv')"
   ]
  },
  {
   "cell_type": "code",
   "execution_count": 40,
   "metadata": {
    "ExecuteTime": {
     "end_time": "2023-02-21T08:41:52.978143Z",
     "start_time": "2023-02-21T08:41:52.970111Z"
    },
    "scrolled": false
   },
   "outputs": [],
   "source": [
    "BAT_150month_catalog_zlessthan0dot3=BAT_150month_catalog[BAT_150month_catalog['z']<0.3]\n",
    "BAT_150month_catalog_zlessthan0dot3=drop_index(BAT_150month_catalog_zlessthan0dot3)"
   ]
  },
  {
   "cell_type": "code",
   "execution_count": 41,
   "metadata": {
    "ExecuteTime": {
     "end_time": "2023-02-21T08:41:59.215680Z",
     "start_time": "2023-02-21T08:41:59.190786Z"
    }
   },
   "outputs": [
    {
     "data": {
      "text/html": [
       "<div>\n",
       "<style scoped>\n",
       "    .dataframe tbody tr th:only-of-type {\n",
       "        vertical-align: middle;\n",
       "    }\n",
       "\n",
       "    .dataframe tbody tr th {\n",
       "        vertical-align: top;\n",
       "    }\n",
       "\n",
       "    .dataframe thead th {\n",
       "        text-align: right;\n",
       "    }\n",
       "</style>\n",
       "<table border=\"1\" class=\"dataframe\">\n",
       "  <thead>\n",
       "    <tr style=\"text-align: right;\">\n",
       "      <th></th>\n",
       "      <th>SRC_NAME</th>\n",
       "      <th>TYPE</th>\n",
       "      <th>RA_OBJ</th>\n",
       "      <th>DEC_OBJ</th>\n",
       "      <th>BAT_NAME</th>\n",
       "      <th>RA_BAT</th>\n",
       "      <th>DEC_BAT</th>\n",
       "      <th>OFFSET</th>\n",
       "      <th>ERR_RADIUS_95</th>\n",
       "      <th>MEAN_SIG</th>\n",
       "      <th>GAL_LONG</th>\n",
       "      <th>GAL_LAT</th>\n",
       "      <th>z</th>\n",
       "    </tr>\n",
       "  </thead>\n",
       "  <tbody>\n",
       "    <tr>\n",
       "      <th>0</th>\n",
       "      <td>[VV2010c] J171245.9+291715</td>\n",
       "      <td>Sy2</td>\n",
       "      <td>258.19100</td>\n",
       "      <td>29.287600</td>\n",
       "      <td>J1712.7+2921</td>\n",
       "      <td>258.195130</td>\n",
       "      <td>29.359715</td>\n",
       "      <td>4.332259</td>\n",
       "      <td>4.878922</td>\n",
       "      <td>5.021983</td>\n",
       "      <td>51.704369</td>\n",
       "      <td>33.163864</td>\n",
       "      <td>0.105</td>\n",
       "    </tr>\n",
       "    <tr>\n",
       "      <th>1</th>\n",
       "      <td>1E 0412-0803</td>\n",
       "      <td>Sy1</td>\n",
       "      <td>63.71900</td>\n",
       "      <td>-7.928000</td>\n",
       "      <td>4PBC J0414.8-</td>\n",
       "      <td>63.721054</td>\n",
       "      <td>-7.919921</td>\n",
       "      <td>0.499823</td>\n",
       "      <td>1.243918</td>\n",
       "      <td>17.725725</td>\n",
       "      <td>200.992722</td>\n",
       "      <td>-38.259804</td>\n",
       "      <td>0.037</td>\n",
       "    </tr>\n",
       "    <tr>\n",
       "      <th>2</th>\n",
       "      <td>1E 0459.5+0327</td>\n",
       "      <td>Sy1</td>\n",
       "      <td>75.53746</td>\n",
       "      <td>3.530810</td>\n",
       "      <td>4PBC J0502.2+</td>\n",
       "      <td>75.571900</td>\n",
       "      <td>3.522090</td>\n",
       "      <td>2.127763</td>\n",
       "      <td>1.921829</td>\n",
       "      <td>10.860053</td>\n",
       "      <td>196.397705</td>\n",
       "      <td>-22.286486</td>\n",
       "      <td>0.016</td>\n",
       "    </tr>\n",
       "    <tr>\n",
       "      <th>3</th>\n",
       "      <td>1ES 0054+145</td>\n",
       "      <td>Sy1</td>\n",
       "      <td>14.29142</td>\n",
       "      <td>14.769470</td>\n",
       "      <td>4PBC J0057.0+</td>\n",
       "      <td>14.252778</td>\n",
       "      <td>14.749410</td>\n",
       "      <td>2.544672</td>\n",
       "      <td>3.019567</td>\n",
       "      <td>7.001356</td>\n",
       "      <td>124.949707</td>\n",
       "      <td>-48.100506</td>\n",
       "      <td>0.171</td>\n",
       "    </tr>\n",
       "    <tr>\n",
       "      <th>4</th>\n",
       "      <td>1ES 0120+340</td>\n",
       "      <td>BLA</td>\n",
       "      <td>20.78600</td>\n",
       "      <td>34.347000</td>\n",
       "      <td>4PBC J0123.1+</td>\n",
       "      <td>20.776463</td>\n",
       "      <td>34.365820</td>\n",
       "      <td>1.224119</td>\n",
       "      <td>1.818483</td>\n",
       "      <td>11.584393</td>\n",
       "      <td>130.333847</td>\n",
       "      <td>-28.050369</td>\n",
       "      <td>0.272</td>\n",
       "    </tr>\n",
       "    <tr>\n",
       "      <th>...</th>\n",
       "      <td>...</td>\n",
       "      <td>...</td>\n",
       "      <td>...</td>\n",
       "      <td>...</td>\n",
       "      <td>...</td>\n",
       "      <td>...</td>\n",
       "      <td>...</td>\n",
       "      <td>...</td>\n",
       "      <td>...</td>\n",
       "      <td>...</td>\n",
       "      <td>...</td>\n",
       "      <td>...</td>\n",
       "      <td>...</td>\n",
       "    </tr>\n",
       "    <tr>\n",
       "      <th>639</th>\n",
       "      <td>UGC 12348</td>\n",
       "      <td>Sy2</td>\n",
       "      <td>346.32800</td>\n",
       "      <td>0.189360</td>\n",
       "      <td>J2305.2+0008</td>\n",
       "      <td>346.310580</td>\n",
       "      <td>0.143326</td>\n",
       "      <td>2.953213</td>\n",
       "      <td>4.140682</td>\n",
       "      <td>5.708478</td>\n",
       "      <td>75.542559</td>\n",
       "      <td>-52.631769</td>\n",
       "      <td>0.030</td>\n",
       "    </tr>\n",
       "    <tr>\n",
       "      <th>640</th>\n",
       "      <td>UGC 3142</td>\n",
       "      <td>Sy1</td>\n",
       "      <td>70.94537</td>\n",
       "      <td>28.971945</td>\n",
       "      <td>4PBC J0443.7+</td>\n",
       "      <td>70.936300</td>\n",
       "      <td>28.970776</td>\n",
       "      <td>0.481311</td>\n",
       "      <td>0.957603</td>\n",
       "      <td>25.153960</td>\n",
       "      <td>172.084641</td>\n",
       "      <td>-11.002903</td>\n",
       "      <td>0.022</td>\n",
       "    </tr>\n",
       "    <tr>\n",
       "      <th>641</th>\n",
       "      <td>UGC 3478</td>\n",
       "      <td>Sy1</td>\n",
       "      <td>98.19517</td>\n",
       "      <td>63.673280</td>\n",
       "      <td>4PBC J0632.2+</td>\n",
       "      <td>98.053770</td>\n",
       "      <td>63.687393</td>\n",
       "      <td>3.855660</td>\n",
       "      <td>2.145678</td>\n",
       "      <td>9.178567</td>\n",
       "      <td>151.397110</td>\n",
       "      <td>22.066868</td>\n",
       "      <td>0.012</td>\n",
       "    </tr>\n",
       "    <tr>\n",
       "      <th>642</th>\n",
       "      <td>Was 49</td>\n",
       "      <td>Sy1</td>\n",
       "      <td>183.57420</td>\n",
       "      <td>29.528723</td>\n",
       "      <td>4PBC J1214.2+</td>\n",
       "      <td>183.557700</td>\n",
       "      <td>29.540707</td>\n",
       "      <td>1.122427</td>\n",
       "      <td>1.767993</td>\n",
       "      <td>12.360718</td>\n",
       "      <td>194.337616</td>\n",
       "      <td>81.467651</td>\n",
       "      <td>0.064</td>\n",
       "    </tr>\n",
       "    <tr>\n",
       "      <th>643</th>\n",
       "      <td>Z 77-21</td>\n",
       "      <td>AGN</td>\n",
       "      <td>227.28700</td>\n",
       "      <td>9.039050</td>\n",
       "      <td>J1509.2+0903</td>\n",
       "      <td>227.324940</td>\n",
       "      <td>9.058040</td>\n",
       "      <td>2.520103</td>\n",
       "      <td>4.123674</td>\n",
       "      <td>5.509198</td>\n",
       "      <td>10.401533</td>\n",
       "      <td>52.808695</td>\n",
       "      <td>0.045</td>\n",
       "    </tr>\n",
       "  </tbody>\n",
       "</table>\n",
       "<p>644 rows × 13 columns</p>\n",
       "</div>"
      ],
      "text/plain": [
       "                       SRC_NAME TYPE     RA_OBJ    DEC_OBJ       BAT_NAME  \\\n",
       "0    [VV2010c] J171245.9+291715  Sy2  258.19100  29.287600   J1712.7+2921   \n",
       "1                  1E 0412-0803  Sy1   63.71900  -7.928000  4PBC J0414.8-   \n",
       "2                1E 0459.5+0327  Sy1   75.53746   3.530810  4PBC J0502.2+   \n",
       "3                  1ES 0054+145  Sy1   14.29142  14.769470  4PBC J0057.0+   \n",
       "4                  1ES 0120+340  BLA   20.78600  34.347000  4PBC J0123.1+   \n",
       "..                          ...  ...        ...        ...            ...   \n",
       "639                   UGC 12348  Sy2  346.32800   0.189360   J2305.2+0008   \n",
       "640                    UGC 3142  Sy1   70.94537  28.971945  4PBC J0443.7+   \n",
       "641                    UGC 3478  Sy1   98.19517  63.673280  4PBC J0632.2+   \n",
       "642                      Was 49  Sy1  183.57420  29.528723  4PBC J1214.2+   \n",
       "643                     Z 77-21  AGN  227.28700   9.039050   J1509.2+0903   \n",
       "\n",
       "         RA_BAT    DEC_BAT    OFFSET  ERR_RADIUS_95   MEAN_SIG    GAL_LONG  \\\n",
       "0    258.195130  29.359715  4.332259       4.878922   5.021983   51.704369   \n",
       "1     63.721054  -7.919921  0.499823       1.243918  17.725725  200.992722   \n",
       "2     75.571900   3.522090  2.127763       1.921829  10.860053  196.397705   \n",
       "3     14.252778  14.749410  2.544672       3.019567   7.001356  124.949707   \n",
       "4     20.776463  34.365820  1.224119       1.818483  11.584393  130.333847   \n",
       "..          ...        ...       ...            ...        ...         ...   \n",
       "639  346.310580   0.143326  2.953213       4.140682   5.708478   75.542559   \n",
       "640   70.936300  28.970776  0.481311       0.957603  25.153960  172.084641   \n",
       "641   98.053770  63.687393  3.855660       2.145678   9.178567  151.397110   \n",
       "642  183.557700  29.540707  1.122427       1.767993  12.360718  194.337616   \n",
       "643  227.324940   9.058040  2.520103       4.123674   5.509198   10.401533   \n",
       "\n",
       "       GAL_LAT      z  \n",
       "0    33.163864  0.105  \n",
       "1   -38.259804  0.037  \n",
       "2   -22.286486  0.016  \n",
       "3   -48.100506  0.171  \n",
       "4   -28.050369  0.272  \n",
       "..         ...    ...  \n",
       "639 -52.631769  0.030  \n",
       "640 -11.002903  0.022  \n",
       "641  22.066868  0.012  \n",
       "642  81.467651  0.064  \n",
       "643  52.808695  0.045  \n",
       "\n",
       "[644 rows x 13 columns]"
      ]
     },
     "execution_count": 41,
     "metadata": {},
     "output_type": "execute_result"
    }
   ],
   "source": [
    "BAT_150month_catalog_zlessthan0dot3"
   ]
  },
  {
   "cell_type": "code",
   "execution_count": null,
   "metadata": {},
   "outputs": [],
   "source": []
  },
  {
   "cell_type": "code",
   "execution_count": null,
   "metadata": {},
   "outputs": [],
   "source": []
  },
  {
   "cell_type": "code",
   "execution_count": 37,
   "metadata": {
    "ExecuteTime": {
     "end_time": "2023-02-21T08:39:44.411997Z",
     "start_time": "2023-02-21T08:39:44.405038Z"
    }
   },
   "outputs": [
    {
     "data": {
      "text/plain": [
       "30"
      ]
     },
     "execution_count": 37,
     "metadata": {},
     "output_type": "execute_result"
    }
   ],
   "source": [
    "len(BAT_150month_data)"
   ]
  },
  {
   "cell_type": "code",
   "execution_count": 35,
   "metadata": {
    "ExecuteTime": {
     "end_time": "2023-02-21T08:38:30.371172Z",
     "start_time": "2023-02-21T08:38:30.348927Z"
    }
   },
   "outputs": [
    {
     "data": {
      "text/html": [
       "<div>\n",
       "<style scoped>\n",
       "    .dataframe tbody tr th:only-of-type {\n",
       "        vertical-align: middle;\n",
       "    }\n",
       "\n",
       "    .dataframe tbody tr th {\n",
       "        vertical-align: top;\n",
       "    }\n",
       "\n",
       "    .dataframe thead th {\n",
       "        text-align: right;\n",
       "    }\n",
       "</style>\n",
       "<table border=\"1\" class=\"dataframe\">\n",
       "  <thead>\n",
       "    <tr style=\"text-align: right;\">\n",
       "      <th></th>\n",
       "      <th>Name</th>\n",
       "      <th>z</th>\n",
       "      <th>RA</th>\n",
       "      <th>DEC</th>\n",
       "      <th>Reference</th>\n",
       "    </tr>\n",
       "  </thead>\n",
       "  <tbody>\n",
       "    <tr>\n",
       "      <th>0</th>\n",
       "      <td>2MASX J01073963-1139117</td>\n",
       "      <td>0.04746</td>\n",
       "      <td>16.915167</td>\n",
       "      <td>-11.653222</td>\n",
       "      <td>Zhao+2020</td>\n",
       "    </tr>\n",
       "    <tr>\n",
       "      <th>1</th>\n",
       "      <td>NGC 424</td>\n",
       "      <td>0.01180</td>\n",
       "      <td>17.865290</td>\n",
       "      <td>-38.083510</td>\n",
       "      <td>Marchesi+18</td>\n",
       "    </tr>\n",
       "    <tr>\n",
       "      <th>2</th>\n",
       "      <td>NGC 1068</td>\n",
       "      <td>0.00380</td>\n",
       "      <td>40.669880</td>\n",
       "      <td>-0.013290</td>\n",
       "      <td>Marchesi+18</td>\n",
       "    </tr>\n",
       "    <tr>\n",
       "      <th>3</th>\n",
       "      <td>2MFGC 02280</td>\n",
       "      <td>0.01520</td>\n",
       "      <td>42.677500</td>\n",
       "      <td>54.704920</td>\n",
       "      <td>Georgantopoulos+19</td>\n",
       "    </tr>\n",
       "    <tr>\n",
       "      <th>4</th>\n",
       "      <td>NGC 1142</td>\n",
       "      <td>0.02885</td>\n",
       "      <td>43.800817</td>\n",
       "      <td>-0.183557</td>\n",
       "      <td>Zhao+2020</td>\n",
       "    </tr>\n",
       "    <tr>\n",
       "      <th>5</th>\n",
       "      <td>ESO 116-18</td>\n",
       "      <td>0.01850</td>\n",
       "      <td>51.221042</td>\n",
       "      <td>-60.738444</td>\n",
       "      <td>Marchesi+18</td>\n",
       "    </tr>\n",
       "    <tr>\n",
       "      <th>6</th>\n",
       "      <td>NGC 1358</td>\n",
       "      <td>0.01344</td>\n",
       "      <td>53.415303</td>\n",
       "      <td>5.089401</td>\n",
       "      <td>Marchesi+18</td>\n",
       "    </tr>\n",
       "    <tr>\n",
       "      <th>7</th>\n",
       "      <td>ESO 201-4</td>\n",
       "      <td>0.03590</td>\n",
       "      <td>57.599080</td>\n",
       "      <td>-50.309850</td>\n",
       "      <td>Marchesi+18</td>\n",
       "    </tr>\n",
       "    <tr>\n",
       "      <th>8</th>\n",
       "      <td>CGCG 420-015</td>\n",
       "      <td>0.02940</td>\n",
       "      <td>73.357340</td>\n",
       "      <td>4.061580</td>\n",
       "      <td>Marchesi+18</td>\n",
       "    </tr>\n",
       "    <tr>\n",
       "      <th>9</th>\n",
       "      <td>ESO 005-G 004</td>\n",
       "      <td>0.00620</td>\n",
       "      <td>91.423840</td>\n",
       "      <td>-86.631950</td>\n",
       "      <td>Marchesi+18</td>\n",
       "    </tr>\n",
       "    <tr>\n",
       "      <th>10</th>\n",
       "      <td>ESO 426-G002</td>\n",
       "      <td>0.02243</td>\n",
       "      <td>95.943417</td>\n",
       "      <td>-32.216583</td>\n",
       "      <td>Torres-Albà+21</td>\n",
       "    </tr>\n",
       "    <tr>\n",
       "      <th>11</th>\n",
       "      <td>LEDA 478026</td>\n",
       "      <td>0.04100</td>\n",
       "      <td>104.049900</td>\n",
       "      <td>-49.330540</td>\n",
       "      <td>Torres-Albà+21</td>\n",
       "    </tr>\n",
       "    <tr>\n",
       "      <th>12</th>\n",
       "      <td>ESO 565-G019</td>\n",
       "      <td>0.01630</td>\n",
       "      <td>143.681550</td>\n",
       "      <td>-21.927840</td>\n",
       "      <td>Traina+21</td>\n",
       "    </tr>\n",
       "    <tr>\n",
       "      <th>13</th>\n",
       "      <td>MCG +10-14-025</td>\n",
       "      <td>0.03940</td>\n",
       "      <td>143.965390</td>\n",
       "      <td>61.352920</td>\n",
       "      <td>Oda+17</td>\n",
       "    </tr>\n",
       "    <tr>\n",
       "      <th>14</th>\n",
       "      <td>NGC 3079</td>\n",
       "      <td>0.00370</td>\n",
       "      <td>150.490850</td>\n",
       "      <td>55.679790</td>\n",
       "      <td>Marchesi+18</td>\n",
       "    </tr>\n",
       "    <tr>\n",
       "      <th>15</th>\n",
       "      <td>NGC 3281</td>\n",
       "      <td>0.01067</td>\n",
       "      <td>157.967042</td>\n",
       "      <td>-34.853694</td>\n",
       "      <td>Zhao+2020</td>\n",
       "    </tr>\n",
       "    <tr>\n",
       "      <th>16</th>\n",
       "      <td>NGC 3393</td>\n",
       "      <td>0.01250</td>\n",
       "      <td>162.097780</td>\n",
       "      <td>-25.162030</td>\n",
       "      <td>Marchesi+18</td>\n",
       "    </tr>\n",
       "    <tr>\n",
       "      <th>17</th>\n",
       "      <td>ESO 323-32</td>\n",
       "      <td>0.01600</td>\n",
       "      <td>193.334730</td>\n",
       "      <td>-41.635650</td>\n",
       "      <td>Torres-Albà+21</td>\n",
       "    </tr>\n",
       "    <tr>\n",
       "      <th>18</th>\n",
       "      <td>NGC 4945</td>\n",
       "      <td>0.00190</td>\n",
       "      <td>196.363660</td>\n",
       "      <td>-49.467900</td>\n",
       "      <td>Marchesi+18</td>\n",
       "    </tr>\n",
       "    <tr>\n",
       "      <th>19</th>\n",
       "      <td>Circinus Galaxy</td>\n",
       "      <td>0.00140</td>\n",
       "      <td>213.291270</td>\n",
       "      <td>-65.339020</td>\n",
       "      <td>Arevalo+14</td>\n",
       "    </tr>\n",
       "    <tr>\n",
       "      <th>20</th>\n",
       "      <td>NGC 5643</td>\n",
       "      <td>0.00400</td>\n",
       "      <td>218.169910</td>\n",
       "      <td>-44.174610</td>\n",
       "      <td>Marchesi+18</td>\n",
       "    </tr>\n",
       "    <tr>\n",
       "      <th>21</th>\n",
       "      <td>NGC 5728</td>\n",
       "      <td>0.00930</td>\n",
       "      <td>220.599700</td>\n",
       "      <td>-17.253170</td>\n",
       "      <td>Zhao+2020</td>\n",
       "    </tr>\n",
       "    <tr>\n",
       "      <th>22</th>\n",
       "      <td>ESO 137-G 034</td>\n",
       "      <td>0.00900</td>\n",
       "      <td>248.808810</td>\n",
       "      <td>-58.080030</td>\n",
       "      <td>Georgantopoulos+19</td>\n",
       "    </tr>\n",
       "    <tr>\n",
       "      <th>23</th>\n",
       "      <td>NGC 6240</td>\n",
       "      <td>0.02450</td>\n",
       "      <td>253.245250</td>\n",
       "      <td>2.400990</td>\n",
       "      <td>Marchesi+18</td>\n",
       "    </tr>\n",
       "    <tr>\n",
       "      <th>24</th>\n",
       "      <td>NGC 6552</td>\n",
       "      <td>0.02650</td>\n",
       "      <td>270.030460</td>\n",
       "      <td>66.615110</td>\n",
       "      <td>Torres-Albà+21</td>\n",
       "    </tr>\n",
       "    <tr>\n",
       "      <th>25</th>\n",
       "      <td>NGC 6921</td>\n",
       "      <td>0.01450</td>\n",
       "      <td>307.146090</td>\n",
       "      <td>25.733380</td>\n",
       "      <td>Koss+16</td>\n",
       "    </tr>\n",
       "    <tr>\n",
       "      <th>26</th>\n",
       "      <td>NGC 7130</td>\n",
       "      <td>0.01620</td>\n",
       "      <td>327.081210</td>\n",
       "      <td>-34.951310</td>\n",
       "      <td>Marchesi+18</td>\n",
       "    </tr>\n",
       "    <tr>\n",
       "      <th>27</th>\n",
       "      <td>NGC 7212 NED02</td>\n",
       "      <td>0.02670</td>\n",
       "      <td>331.758300</td>\n",
       "      <td>10.233470</td>\n",
       "      <td>Marchesi+18</td>\n",
       "    </tr>\n",
       "    <tr>\n",
       "      <th>28</th>\n",
       "      <td>NGC 7479</td>\n",
       "      <td>0.00790</td>\n",
       "      <td>346.236120</td>\n",
       "      <td>12.322880</td>\n",
       "      <td>Marchesi+18</td>\n",
       "    </tr>\n",
       "    <tr>\n",
       "      <th>29</th>\n",
       "      <td>CGCG 475-040</td>\n",
       "      <td>0.03500</td>\n",
       "      <td>346.953600</td>\n",
       "      <td>22.710300</td>\n",
       "      <td>Torres-Alba+21</td>\n",
       "    </tr>\n",
       "    <tr>\n",
       "      <th>30</th>\n",
       "      <td>NGC 7582</td>\n",
       "      <td>0.00520</td>\n",
       "      <td>349.598420</td>\n",
       "      <td>-42.370570</td>\n",
       "      <td>Marchesi+18</td>\n",
       "    </tr>\n",
       "    <tr>\n",
       "      <th>31</th>\n",
       "      <td>NGC 7674</td>\n",
       "      <td>0.02892</td>\n",
       "      <td>351.986352</td>\n",
       "      <td>8.779035</td>\n",
       "      <td>Zhao+2019</td>\n",
       "    </tr>\n",
       "  </tbody>\n",
       "</table>\n",
       "</div>"
      ],
      "text/plain": [
       "                       Name        z          RA        DEC  \\\n",
       "0   2MASX J01073963-1139117  0.04746   16.915167 -11.653222   \n",
       "1                   NGC 424  0.01180   17.865290 -38.083510   \n",
       "2                  NGC 1068  0.00380   40.669880  -0.013290   \n",
       "3               2MFGC 02280  0.01520   42.677500  54.704920   \n",
       "4                  NGC 1142  0.02885   43.800817  -0.183557   \n",
       "5                ESO 116-18  0.01850   51.221042 -60.738444   \n",
       "6                  NGC 1358  0.01344   53.415303   5.089401   \n",
       "7                 ESO 201-4  0.03590   57.599080 -50.309850   \n",
       "8              CGCG 420-015  0.02940   73.357340   4.061580   \n",
       "9             ESO 005-G 004  0.00620   91.423840 -86.631950   \n",
       "10             ESO 426-G002  0.02243   95.943417 -32.216583   \n",
       "11              LEDA 478026  0.04100  104.049900 -49.330540   \n",
       "12             ESO 565-G019  0.01630  143.681550 -21.927840   \n",
       "13           MCG +10-14-025  0.03940  143.965390  61.352920   \n",
       "14                 NGC 3079  0.00370  150.490850  55.679790   \n",
       "15                 NGC 3281  0.01067  157.967042 -34.853694   \n",
       "16                 NGC 3393  0.01250  162.097780 -25.162030   \n",
       "17               ESO 323-32  0.01600  193.334730 -41.635650   \n",
       "18                 NGC 4945  0.00190  196.363660 -49.467900   \n",
       "19          Circinus Galaxy  0.00140  213.291270 -65.339020   \n",
       "20                 NGC 5643  0.00400  218.169910 -44.174610   \n",
       "21                 NGC 5728  0.00930  220.599700 -17.253170   \n",
       "22            ESO 137-G 034  0.00900  248.808810 -58.080030   \n",
       "23                 NGC 6240  0.02450  253.245250   2.400990   \n",
       "24                 NGC 6552  0.02650  270.030460  66.615110   \n",
       "25                 NGC 6921  0.01450  307.146090  25.733380   \n",
       "26                 NGC 7130  0.01620  327.081210 -34.951310   \n",
       "27           NGC 7212 NED02  0.02670  331.758300  10.233470   \n",
       "28                 NGC 7479  0.00790  346.236120  12.322880   \n",
       "29             CGCG 475-040  0.03500  346.953600  22.710300   \n",
       "30                 NGC 7582  0.00520  349.598420 -42.370570   \n",
       "31                 NGC 7674  0.02892  351.986352   8.779035   \n",
       "\n",
       "             Reference  \n",
       "0            Zhao+2020  \n",
       "1          Marchesi+18  \n",
       "2          Marchesi+18  \n",
       "3   Georgantopoulos+19  \n",
       "4            Zhao+2020  \n",
       "5          Marchesi+18  \n",
       "6          Marchesi+18  \n",
       "7          Marchesi+18  \n",
       "8          Marchesi+18  \n",
       "9          Marchesi+18  \n",
       "10      Torres-Albà+21  \n",
       "11      Torres-Albà+21  \n",
       "12           Traina+21  \n",
       "13              Oda+17  \n",
       "14         Marchesi+18  \n",
       "15           Zhao+2020  \n",
       "16         Marchesi+18  \n",
       "17      Torres-Albà+21  \n",
       "18         Marchesi+18  \n",
       "19          Arevalo+14  \n",
       "20         Marchesi+18  \n",
       "21           Zhao+2020  \n",
       "22  Georgantopoulos+19  \n",
       "23         Marchesi+18  \n",
       "24      Torres-Albà+21  \n",
       "25             Koss+16  \n",
       "26         Marchesi+18  \n",
       "27         Marchesi+18  \n",
       "28         Marchesi+18  \n",
       "29      Torres-Alba+21  \n",
       "30         Marchesi+18  \n",
       "31           Zhao+2019  "
      ]
     },
     "execution_count": 35,
     "metadata": {},
     "output_type": "execute_result"
    }
   ],
   "source": [
    "BAT_150month_data_CTAGN"
   ]
  },
  {
   "cell_type": "markdown",
   "metadata": {},
   "source": [
    "## million quasar"
   ]
  },
  {
   "cell_type": "code",
   "execution_count": null,
   "metadata": {},
   "outputs": [],
   "source": []
  },
  {
   "cell_type": "code",
   "execution_count": null,
   "metadata": {},
   "outputs": [],
   "source": []
  },
  {
   "cell_type": "markdown",
   "metadata": {},
   "source": [
    "## save_ztf_lc"
   ]
  },
  {
   "cell_type": "code",
   "execution_count": 47,
   "metadata": {
    "ExecuteTime": {
     "end_time": "2023-02-21T08:45:57.992400Z",
     "start_time": "2023-02-21T08:45:57.983966Z"
    }
   },
   "outputs": [
    {
     "data": {
      "text/plain": [
       "'/Volumes/ExtremeSSD/CLAGN_individual/CL_candidate/CLAGN_BAT_candidate/ZTF'"
      ]
     },
     "execution_count": 47,
     "metadata": {},
     "output_type": "execute_result"
    }
   ],
   "source": [
    "CLAGN_Candidate_BAT_ZTF_dir"
   ]
  },
  {
   "cell_type": "code",
   "execution_count": 44,
   "metadata": {
    "ExecuteTime": {
     "end_time": "2023-02-21T08:43:47.840490Z",
     "start_time": "2023-02-21T08:43:47.813981Z"
    }
   },
   "outputs": [
    {
     "data": {
      "text/plain": [
       "['NGC_526A_g.csv',\n",
       " 'NGC_526A_i.csv',\n",
       " 'NGC_526A_r.csv',\n",
       " 'NGC_5548_g.csv',\n",
       " 'NGC_5548_i.csv',\n",
       " 'NGC_5548_r.csv',\n",
       " 'NGC_4151_g.csv',\n",
       " 'NGC_4151_i.csv',\n",
       " 'NGC_4151_r.csv',\n",
       " 'NGC_973_g.csv',\n",
       " 'NGC_973_i.csv',\n",
       " 'NGC_973_r.csv',\n",
       " 'WKK_4374_g.csv',\n",
       " 'WKK_4374_i.csv',\n",
       " 'WKK_4374_r.csv',\n",
       " 'NGC_2617_g.csv',\n",
       " 'NGC_2617_i.csv',\n",
       " 'NGC_2617_r.csv',\n",
       " 'NGC_4507_g.csv',\n",
       " 'NGC_4507_i.csv',\n",
       " 'NGC_4507_r.csv',\n",
       " 'Mrk3_g.csv',\n",
       " 'Mrk3_i.csv',\n",
       " 'Mrk3_r.csv',\n",
       " '2MASX_J04440903+2813003_g.csv',\n",
       " '2MASX_J04440903+2813003_i.csv',\n",
       " '2MASX_J04440903+2813003_r.csv',\n",
       " 'NGC_4388_g.csv',\n",
       " 'NGC_4388_i.csv',\n",
       " 'NGC_4388_r.csv',\n",
       " 'NGC_2110_g.csv',\n",
       " 'NGC_2110_i.csv',\n",
       " 'NGC_2110_r.csv',\n",
       " '2MASX_J10402231-4625264_g.csv',\n",
       " '2MASX_J10402231-4625264_i.csv',\n",
       " '2MASX_J10402231-4625264_r.csv',\n",
       " 'IC_4709_g.csv',\n",
       " 'IC_4709_i.csv',\n",
       " 'IC_4709_r.csv',\n",
       " 'UGC_03601_g.csv',\n",
       " 'UGC_03601_i.csv',\n",
       " 'UGC_03601_r.csv',\n",
       " '4C_50.55_g.csv',\n",
       " '4C_50.55_i.csv',\n",
       " '4C_50.55_r.csv',\n",
       " 'NGC_4235_g.csv',\n",
       " 'NGC_4235_i.csv',\n",
       " 'NGC_4235_r.csv',\n",
       " 'NGC_7679_g.csv',\n",
       " 'NGC_7679_i.csv',\n",
       " 'NGC_7679_r.csv',\n",
       " 'NGC_4945_g.csv',\n",
       " 'NGC_4945_i.csv',\n",
       " 'NGC_4945_r.csv',\n",
       " 'NGC_3281_g.csv',\n",
       " 'NGC_3281_i.csv',\n",
       " 'NGC_3281_r.csv',\n",
       " '4U_1344-60_g.csv',\n",
       " '4U_1344-60_i.csv',\n",
       " '4U_1344-60_r.csv',\n",
       " 'MCG_+04-48-002_g.csv',\n",
       " 'MCG_+04-48-002_i.csv',\n",
       " 'MCG_+04-48-002_r.csv',\n",
       " 'NGC_6300_g.csv',\n",
       " 'NGC_6300_i.csv',\n",
       " 'NGC_6300_r.csv',\n",
       " 'IC_4329A_g.csv',\n",
       " 'IC_4329A_i.csv',\n",
       " 'IC_4329A_r.csv',\n",
       " 'NGC_3079_g.csv',\n",
       " 'NGC_3079_i.csv',\n",
       " 'NGC_3079_r.csv',\n",
       " 'IC_2461_g.csv',\n",
       " 'IC_2461_i.csv',\n",
       " 'IC_2461_r.csv',\n",
       " 'NGC_788_g.csv',\n",
       " 'NGC_788_i.csv',\n",
       " 'NGC_788_r.csv',\n",
       " 'NGC_526A_g.png',\n",
       " 'NGC_526A_i.png',\n",
       " 'NGC_526A_r.png',\n",
       " 'NGC_5548_g.png',\n",
       " 'NGC_5548_i.png',\n",
       " 'NGC_5548_r.png',\n",
       " 'NGC_4151_g.png',\n",
       " 'NGC_4151_i.png',\n",
       " 'NGC_4151_r.png',\n",
       " 'NGC_973_g.png',\n",
       " 'NGC_973_i.png',\n",
       " 'NGC_973_r.png',\n",
       " 'WKK_4374_g.png',\n",
       " 'WKK_4374_i.png',\n",
       " 'WKK_4374_r.png',\n",
       " 'NGC_2617_g.png',\n",
       " 'NGC_2617_i.png',\n",
       " 'NGC_2617_r.png',\n",
       " 'NGC_4507_g.png',\n",
       " 'NGC_4507_i.png',\n",
       " 'NGC_4507_r.png',\n",
       " 'Mrk3_g.png',\n",
       " 'Mrk3_i.png',\n",
       " 'Mrk3_r.png',\n",
       " '2MASX_J04440903+2813003_g.png',\n",
       " '2MASX_J04440903+2813003_i.png',\n",
       " '2MASX_J04440903+2813003_r.png',\n",
       " 'NGC_4388_g.png',\n",
       " 'NGC_4388_i.png',\n",
       " 'NGC_4388_r.png',\n",
       " 'NGC_2110_g.png',\n",
       " 'NGC_2110_i.png',\n",
       " 'NGC_2110_r.png',\n",
       " '2MASX_J10402231-4625264_g.png',\n",
       " '2MASX_J10402231-4625264_i.png',\n",
       " '2MASX_J10402231-4625264_r.png',\n",
       " 'IC_4709_g.png',\n",
       " 'IC_4709_i.png',\n",
       " 'IC_4709_r.png',\n",
       " 'UGC_03601_g.png',\n",
       " 'UGC_03601_i.png',\n",
       " 'UGC_03601_r.png',\n",
       " '4C_50.55_g.png',\n",
       " '4C_50.55_i.png',\n",
       " '4C_50.55_r.png',\n",
       " 'NGC_4235_g.png',\n",
       " 'NGC_4235_i.png',\n",
       " 'NGC_4235_r.png',\n",
       " 'NGC_7679_g.png',\n",
       " 'NGC_7679_i.png',\n",
       " 'NGC_7679_r.png',\n",
       " 'NGC_4945_g.png',\n",
       " 'NGC_4945_i.png',\n",
       " 'NGC_4945_r.png',\n",
       " 'NGC_3281_g.png',\n",
       " 'NGC_3281_i.png',\n",
       " 'NGC_3281_r.png',\n",
       " '4U_1344-60_g.png',\n",
       " '4U_1344-60_i.png',\n",
       " '4U_1344-60_r.png',\n",
       " 'MCG_+04-48-002_g.png',\n",
       " 'MCG_+04-48-002_i.png',\n",
       " 'MCG_+04-48-002_r.png',\n",
       " 'NGC_6300_g.png',\n",
       " 'NGC_6300_i.png',\n",
       " 'NGC_6300_r.png',\n",
       " 'IC_4329A_g.png',\n",
       " 'IC_4329A_i.png',\n",
       " 'IC_4329A_r.png',\n",
       " 'NGC_3079_g.png',\n",
       " 'NGC_3079_i.png',\n",
       " 'NGC_3079_r.png',\n",
       " 'IC_2461_g.png',\n",
       " 'IC_2461_i.png',\n",
       " 'IC_2461_r.png',\n",
       " 'NGC_788_g.png',\n",
       " 'NGC_788_i.png',\n",
       " 'NGC_788_r.png']"
      ]
     },
     "execution_count": 44,
     "metadata": {},
     "output_type": "execute_result"
    }
   ],
   "source": [
    "os.listdir(CLAGN_Candidate_BAT_ZTF_dir)"
   ]
  },
  {
   "cell_type": "code",
   "execution_count": 43,
   "metadata": {
    "ExecuteTime": {
     "end_time": "2023-02-21T08:43:27.078766Z",
     "start_time": "2023-02-21T08:43:27.072373Z"
    }
   },
   "outputs": [],
   "source": [
    "ztf_bands=['g','i','r']"
   ]
  },
  {
   "cell_type": "code",
   "execution_count": null,
   "metadata": {
    "ExecuteTime": {
     "end_time": "2022-08-06T14:09:34.599403Z",
     "start_time": "2022-08-06T13:57:42.241126Z"
    }
   },
   "outputs": [],
   "source": [
    "for Name_index,name in enumerate(CLAGN_Candidate_BAT['AGN']):\n",
    "    save_name=name.strip().replace(' ','_')\n",
    "    \n",
    "    for band in ztf_bands:\n",
    "        if not os.path.exists('%s/%s_%s.csv'%(CLAGN_Candidate_BAT_ZTF_dir,save_name,band)):\n",
    "            data_g = lightcurve.LCQuery.download_data(circle=[CLAGN_Candidate_BAT.loc[Name_index,'ra'],CLAGN_Candidate_BAT.loc[Name_index,'dec'],1.0/3600], \n",
    "                                                  bandname=band,BAD_CATFLAGS_MASK=32768)\n",
    "            data_g.to_csv('%s/%s_%s.csv'%(CLAGN_Candidate_BAT_ZTF_dir,save_name,band),index=False) \n",
    "            time.sleep(1+np.random.randint(2,5))  \n",
    "        else:\n",
    "            time.sleep(1)\n",
    "    "
   ]
  },
  {
   "cell_type": "code",
   "execution_count": null,
   "metadata": {
    "ExecuteTime": {
     "end_time": "2022-08-06T14:11:17.343648Z",
     "start_time": "2022-08-06T14:11:17.338167Z"
    }
   },
   "outputs": [],
   "source": [
    "len(CLAGN_Candidate_BAT)"
   ]
  },
  {
   "cell_type": "code",
   "execution_count": null,
   "metadata": {
    "ExecuteTime": {
     "end_time": "2022-08-06T14:11:20.078595Z",
     "start_time": "2022-08-06T14:11:20.074051Z"
    }
   },
   "outputs": [],
   "source": [
    "26*3"
   ]
  },
  {
   "cell_type": "code",
   "execution_count": 50,
   "metadata": {
    "ExecuteTime": {
     "end_time": "2023-02-21T08:48:21.812955Z",
     "start_time": "2023-02-21T08:48:21.447331Z"
    }
   },
   "outputs": [
    {
     "name": "stdout",
     "output_type": "stream",
     "text": [
      "NGC 4151\n"
     ]
    },
    {
     "data": {
      "image/png": "[encoded data removed]",
      "text/plain": [
       "<Figure size 504x288 with 1 Axes>"
      ]
     },
     "metadata": {
      "needs_background": "light"
     },
     "output_type": "display_data"
    },
    {
     "data": {
      "image/png": "[encoded data removed]",
      "text/plain": [
       "<Figure size 504x288 with 1 Axes>"
      ]
     },
     "metadata": {
      "needs_background": "light"
     },
     "output_type": "display_data"
    },
    {
     "data": {
      "image/png": "[encoded data removed]",
      "text/plain": [
       "<Figure size 504x288 with 1 Axes>"
      ]
     },
     "metadata": {
      "needs_background": "light"
     },
     "output_type": "display_data"
    }
   ],
   "source": [
    "Name_index=2\n",
    "name=CLAGN_Candidate_BAT.loc[Name_index,'AGN']\n",
    "print(name)\n",
    "save_name=name.strip().replace(' ','_')\n",
    "band=ztf_bands[0]\n",
    "#\n",
    "for band in ztf_bands:\n",
    "    if os.path.exists('%s/%s_%s.csv'%(CLAGN_Candidate_BAT_ZTF_dir,save_name,band)):\n",
    "        data=pd.read_csv('%s/%s_%s.csv'%(CLAGN_Candidate_BAT_ZTF_dir,save_name,band)) \n",
    "         #ztflc_savepng(data,name,band)\n",
    "        #ztflc_show_in_jupyter(data,name,band,formattime=False)    \n",
    "        ztflc_show_in_jupyter(data,name,band)"
   ]
  },
  {
   "cell_type": "markdown",
   "metadata": {
    "ExecuteTime": {
     "end_time": "2023-02-21T08:44:17.170719Z",
     "start_time": "2023-02-21T08:44:01.419990Z"
    }
   },
   "source": [
    "for Name_index,name in enumerate(CLAGN_Candidate_BAT['AGN']):\n",
    "    save_name=name.strip().replace(' ','_')    \n",
    "    for band in ztf_bands:\n",
    "        if os.path.exists('%s/%s_%s.csv'%(CLAGN_Candidate_BAT_ZTF_dir,save_name,band)):\n",
    "            data=pd.read_csv('%s/%s_%s.csv'%(CLAGN_Candidate_BAT_ZTF_dir,save_name,band)) \n",
    "             ztflc_savepng(data,name,band)"
   ]
  },
  {
   "cell_type": "code",
   "execution_count": null,
   "metadata": {},
   "outputs": [],
   "source": []
  },
  {
   "cell_type": "code",
   "execution_count": null,
   "metadata": {
    "ExecuteTime": {
     "end_time": "2022-08-06T14:19:22.995483Z",
     "start_time": "2022-08-06T14:19:22.773453Z"
    }
   },
   "outputs": [],
   "source": [
    "ztflc_show(data,name,band)"
   ]
  },
  {
   "cell_type": "code",
   "execution_count": null,
   "metadata": {
    "ExecuteTime": {
     "end_time": "2022-08-06T14:16:52.380178Z",
     "start_time": "2022-08-06T14:16:52.374534Z"
    }
   },
   "outputs": [],
   "source": [
    "data.columns"
   ]
  },
  {
   "cell_type": "code",
   "execution_count": null,
   "metadata": {
    "ExecuteTime": {
     "end_time": "2022-08-08T07:26:45.920852Z",
     "start_time": "2022-08-08T07:26:45.749589Z"
    }
   },
   "outputs": [],
   "source": []
  },
  {
   "cell_type": "code",
   "execution_count": null,
   "metadata": {},
   "outputs": [],
   "source": []
  },
  {
   "cell_type": "code",
   "execution_count": null,
   "metadata": {},
   "outputs": [],
   "source": []
  },
  {
   "cell_type": "code",
   "execution_count": null,
   "metadata": {
    "ExecuteTime": {
     "end_time": "2022-08-06T14:23:13.984443Z",
     "start_time": "2022-08-06T14:23:13.707690Z"
    }
   },
   "outputs": [],
   "source": []
  },
  {
   "cell_type": "code",
   "execution_count": null,
   "metadata": {},
   "outputs": [],
   "source": []
  },
  {
   "cell_type": "code",
   "execution_count": null,
   "metadata": {},
   "outputs": [],
   "source": []
  },
  {
   "cell_type": "code",
   "execution_count": null,
   "metadata": {
    "ExecuteTime": {
     "end_time": "2022-08-06T13:45:33.146654Z",
     "start_time": "2022-08-06T13:45:33.139749Z"
    }
   },
   "outputs": [],
   "source": [
    "lc_g.#.data"
   ]
  },
  {
   "cell_type": "code",
   "execution_count": null,
   "metadata": {},
   "outputs": [],
   "source": []
  },
  {
   "cell_type": "code",
   "execution_count": null,
   "metadata": {},
   "outputs": [],
   "source": [
    "data_i = lightcurve.LCQuery.download_data(circle=[299.412,50.55500,0.0014], bandname=\"i\",BAD_CATFLAGS_MASK=15)"
   ]
  },
  {
   "cell_type": "code",
   "execution_count": null,
   "metadata": {},
   "outputs": [],
   "source": [
    "data_r_3arcsec= lightcurve.LCQuery.download_data(circle=[299.412,50.55500,3.0/3600], bandname=\"r\",BAD_CATFLAGS_MASK=15)\n",
    "print(len(data_r_3arcsec))"
   ]
  },
  {
   "cell_type": "markdown",
   "metadata": {},
   "source": [
    "## BAD_CATFLAGS_MASK=0"
   ]
  },
  {
   "cell_type": "code",
   "execution_count": null,
   "metadata": {
    "ExecuteTime": {
     "end_time": "2022-08-06T14:31:59.528115Z",
     "start_time": "2022-08-06T14:31:59.519172Z"
    }
   },
   "outputs": [],
   "source": [
    "CLAGN_Candidate_BAT_ZTF_dir_1"
   ]
  },
  {
   "cell_type": "code",
   "execution_count": null,
   "metadata": {
    "ExecuteTime": {
     "end_time": "2022-08-06T14:45:09.322650Z",
     "start_time": "2022-08-06T14:32:03.344560Z"
    },
    "code_folding": []
   },
   "outputs": [],
   "source": [
    "for Name_index,name in enumerate(CLAGN_Candidate_BAT['AGN']):\n",
    "    save_name=name.strip().replace(' ','_')\n",
    "    \n",
    "    for band in ztf_bands:\n",
    "        if not os.path.exists('%s/%s_%s.csv'%(CLAGN_Candidate_BAT_ZTF_dir_1,save_name,band)):\n",
    "            data_g = lightcurve.LCQuery.download_data(circle=[CLAGN_Candidate_BAT.loc[Name_index,'ra'],\n",
    "                                                              CLAGN_Candidate_BAT.loc[Name_index,'dec'],1.0/3600], \n",
    "                                                  bandname=band,BAD_CATFLAGS_MASK=0)\n",
    "            data_g.to_csv('%s/%s_%s.csv'%(CLAGN_Candidate_BAT_ZTF_dir_1,save_name,band),index=False) \n",
    "            time.sleep(1+np.random.randint(2,5))  \n",
    "        else:\n",
    "            time.sleep(1)\n",
    "    "
   ]
  },
  {
   "cell_type": "markdown",
   "metadata": {},
   "source": [
    "## CLAGN_list"
   ]
  },
  {
   "cell_type": "code",
   "execution_count": 24,
   "metadata": {
    "ExecuteTime": {
     "end_time": "2022-12-01T14:59:04.324918Z",
     "start_time": "2022-12-01T14:59:04.317262Z"
    }
   },
   "outputs": [
    {
     "name": "stdout",
     "output_type": "stream",
     "text": [
      "/Volumes/ExtremeSSD/CLAGN_individual/CL_candidate/CLAGN_BAT_candidate/CLAGN_ZTF_catflags=0/\n"
     ]
    }
   ],
   "source": [
    "print(CLAGN_Candidate_BAT_ZTF_dir_2)"
   ]
  },
  {
   "cell_type": "code",
   "execution_count": 28,
   "metadata": {
    "ExecuteTime": {
     "end_time": "2022-12-01T15:04:52.961055Z",
     "start_time": "2022-12-01T15:02:42.313636Z"
    }
   },
   "outputs": [
    {
     "ename": "ConnectionError",
     "evalue": "HTTPSConnectionPool(host='irsa.ipac.caltech.edu', port=443): Max retries exceeded with url: /account/signon/login.do?josso_cmd=login&josso_username=lyubing@hust.edu.cn&josso_password=qwe123irsa (Caused by NewConnectionError('<urllib3.connection.HTTPSConnection object at 0x7faa901f2190>: Failed to establish a new connection: [Errno 60] Operation timed out'))",
     "output_type": "error",
     "traceback": [
      "\u001b[0;31m---------------------------------------------------------------------------\u001b[0m",
      "\u001b[0;31mTimeoutError\u001b[0m                              Traceback (most recent call last)",
      "File \u001b[0;32m~/opt/anaconda3/lib/python3.9/site-packages/urllib3/connection.py:174\u001b[0m, in \u001b[0;36mHTTPConnection._new_conn\u001b[0;34m(self)\u001b[0m\n\u001b[1;32m    173\u001b[0m \u001b[38;5;28;01mtry\u001b[39;00m:\n\u001b[0;32m--> 174\u001b[0m     conn \u001b[38;5;241m=\u001b[39m \u001b[43mconnection\u001b[49m\u001b[38;5;241;43m.\u001b[39;49m\u001b[43mcreate_connection\u001b[49m\u001b[43m(\u001b[49m\n\u001b[1;32m    175\u001b[0m \u001b[43m        \u001b[49m\u001b[43m(\u001b[49m\u001b[38;5;28;43mself\u001b[39;49m\u001b[38;5;241;43m.\u001b[39;49m\u001b[43m_dns_host\u001b[49m\u001b[43m,\u001b[49m\u001b[43m \u001b[49m\u001b[38;5;28;43mself\u001b[39;49m\u001b[38;5;241;43m.\u001b[39;49m\u001b[43mport\u001b[49m\u001b[43m)\u001b[49m\u001b[43m,\u001b[49m\u001b[43m \u001b[49m\u001b[38;5;28;43mself\u001b[39;49m\u001b[38;5;241;43m.\u001b[39;49m\u001b[43mtimeout\u001b[49m\u001b[43m,\u001b[49m\u001b[43m \u001b[49m\u001b[38;5;241;43m*\u001b[39;49m\u001b[38;5;241;43m*\u001b[39;49m\u001b[43mextra_kw\u001b[49m\n\u001b[1;32m    176\u001b[0m \u001b[43m    \u001b[49m\u001b[43m)\u001b[49m\n\u001b[1;32m    178\u001b[0m \u001b[38;5;28;01mexcept\u001b[39;00m SocketTimeout:\n",
      "File \u001b[0;32m~/opt/anaconda3/lib/python3.9/site-packages/urllib3/util/connection.py:95\u001b[0m, in \u001b[0;36mcreate_connection\u001b[0;34m(address, timeout, source_address, socket_options)\u001b[0m\n\u001b[1;32m     94\u001b[0m \u001b[38;5;28;01mif\u001b[39;00m err \u001b[38;5;129;01mis\u001b[39;00m \u001b[38;5;129;01mnot\u001b[39;00m \u001b[38;5;28;01mNone\u001b[39;00m:\n\u001b[0;32m---> 95\u001b[0m     \u001b[38;5;28;01mraise\u001b[39;00m err\n\u001b[1;32m     97\u001b[0m \u001b[38;5;28;01mraise\u001b[39;00m socket\u001b[38;5;241m.\u001b[39merror(\u001b[38;5;124m\"\u001b[39m\u001b[38;5;124mgetaddrinfo returns an empty list\u001b[39m\u001b[38;5;124m\"\u001b[39m)\n",
      "File \u001b[0;32m~/opt/anaconda3/lib/python3.9/site-packages/urllib3/util/connection.py:85\u001b[0m, in \u001b[0;36mcreate_connection\u001b[0;34m(address, timeout, source_address, socket_options)\u001b[0m\n\u001b[1;32m     84\u001b[0m     sock\u001b[38;5;241m.\u001b[39mbind(source_address)\n\u001b[0;32m---> 85\u001b[0m \u001b[43msock\u001b[49m\u001b[38;5;241;43m.\u001b[39;49m\u001b[43mconnect\u001b[49m\u001b[43m(\u001b[49m\u001b[43msa\u001b[49m\u001b[43m)\u001b[49m\n\u001b[1;32m     86\u001b[0m \u001b[38;5;28;01mreturn\u001b[39;00m sock\n",
      "\u001b[0;31mTimeoutError\u001b[0m: [Errno 60] Operation timed out",
      "\nDuring handling of the above exception, another exception occurred:\n",
      "\u001b[0;31mNewConnectionError\u001b[0m                        Traceback (most recent call last)",
      "File \u001b[0;32m~/opt/anaconda3/lib/python3.9/site-packages/urllib3/connectionpool.py:703\u001b[0m, in \u001b[0;36mHTTPConnectionPool.urlopen\u001b[0;34m(self, method, url, body, headers, retries, redirect, assert_same_host, timeout, pool_timeout, release_conn, chunked, body_pos, **response_kw)\u001b[0m\n\u001b[1;32m    702\u001b[0m \u001b[38;5;66;03m# Make the request on the httplib connection object.\u001b[39;00m\n\u001b[0;32m--> 703\u001b[0m httplib_response \u001b[38;5;241m=\u001b[39m \u001b[38;5;28;43mself\u001b[39;49m\u001b[38;5;241;43m.\u001b[39;49m\u001b[43m_make_request\u001b[49m\u001b[43m(\u001b[49m\n\u001b[1;32m    704\u001b[0m \u001b[43m    \u001b[49m\u001b[43mconn\u001b[49m\u001b[43m,\u001b[49m\n\u001b[1;32m    705\u001b[0m \u001b[43m    \u001b[49m\u001b[43mmethod\u001b[49m\u001b[43m,\u001b[49m\n\u001b[1;32m    706\u001b[0m \u001b[43m    \u001b[49m\u001b[43murl\u001b[49m\u001b[43m,\u001b[49m\n\u001b[1;32m    707\u001b[0m \u001b[43m    \u001b[49m\u001b[43mtimeout\u001b[49m\u001b[38;5;241;43m=\u001b[39;49m\u001b[43mtimeout_obj\u001b[49m\u001b[43m,\u001b[49m\n\u001b[1;32m    708\u001b[0m \u001b[43m    \u001b[49m\u001b[43mbody\u001b[49m\u001b[38;5;241;43m=\u001b[39;49m\u001b[43mbody\u001b[49m\u001b[43m,\u001b[49m\n\u001b[1;32m    709\u001b[0m \u001b[43m    \u001b[49m\u001b[43mheaders\u001b[49m\u001b[38;5;241;43m=\u001b[39;49m\u001b[43mheaders\u001b[49m\u001b[43m,\u001b[49m\n\u001b[1;32m    710\u001b[0m \u001b[43m    \u001b[49m\u001b[43mchunked\u001b[49m\u001b[38;5;241;43m=\u001b[39;49m\u001b[43mchunked\u001b[49m\u001b[43m,\u001b[49m\n\u001b[1;32m    711\u001b[0m \u001b[43m\u001b[49m\u001b[43m)\u001b[49m\n\u001b[1;32m    713\u001b[0m \u001b[38;5;66;03m# If we're going to release the connection in ``finally:``, then\u001b[39;00m\n\u001b[1;32m    714\u001b[0m \u001b[38;5;66;03m# the response doesn't need to know about the connection. Otherwise\u001b[39;00m\n\u001b[1;32m    715\u001b[0m \u001b[38;5;66;03m# it will also try to release it and we'll have a double-release\u001b[39;00m\n\u001b[1;32m    716\u001b[0m \u001b[38;5;66;03m# mess.\u001b[39;00m\n",
      "File \u001b[0;32m~/opt/anaconda3/lib/python3.9/site-packages/urllib3/connectionpool.py:386\u001b[0m, in \u001b[0;36mHTTPConnectionPool._make_request\u001b[0;34m(self, conn, method, url, timeout, chunked, **httplib_request_kw)\u001b[0m\n\u001b[1;32m    385\u001b[0m \u001b[38;5;28;01mtry\u001b[39;00m:\n\u001b[0;32m--> 386\u001b[0m     \u001b[38;5;28;43mself\u001b[39;49m\u001b[38;5;241;43m.\u001b[39;49m\u001b[43m_validate_conn\u001b[49m\u001b[43m(\u001b[49m\u001b[43mconn\u001b[49m\u001b[43m)\u001b[49m\n\u001b[1;32m    387\u001b[0m \u001b[38;5;28;01mexcept\u001b[39;00m (SocketTimeout, BaseSSLError) \u001b[38;5;28;01mas\u001b[39;00m e:\n\u001b[1;32m    388\u001b[0m     \u001b[38;5;66;03m# Py2 raises this as a BaseSSLError, Py3 raises it as socket timeout.\u001b[39;00m\n",
      "File \u001b[0;32m~/opt/anaconda3/lib/python3.9/site-packages/urllib3/connectionpool.py:1040\u001b[0m, in \u001b[0;36mHTTPSConnectionPool._validate_conn\u001b[0;34m(self, conn)\u001b[0m\n\u001b[1;32m   1039\u001b[0m \u001b[38;5;28;01mif\u001b[39;00m \u001b[38;5;129;01mnot\u001b[39;00m \u001b[38;5;28mgetattr\u001b[39m(conn, \u001b[38;5;124m\"\u001b[39m\u001b[38;5;124msock\u001b[39m\u001b[38;5;124m\"\u001b[39m, \u001b[38;5;28;01mNone\u001b[39;00m):  \u001b[38;5;66;03m# AppEngine might not have  `.sock`\u001b[39;00m\n\u001b[0;32m-> 1040\u001b[0m     \u001b[43mconn\u001b[49m\u001b[38;5;241;43m.\u001b[39;49m\u001b[43mconnect\u001b[49m\u001b[43m(\u001b[49m\u001b[43m)\u001b[49m\n\u001b[1;32m   1042\u001b[0m \u001b[38;5;28;01mif\u001b[39;00m \u001b[38;5;129;01mnot\u001b[39;00m conn\u001b[38;5;241m.\u001b[39mis_verified:\n",
      "File \u001b[0;32m~/opt/anaconda3/lib/python3.9/site-packages/urllib3/connection.py:358\u001b[0m, in \u001b[0;36mHTTPSConnection.connect\u001b[0;34m(self)\u001b[0m\n\u001b[1;32m    356\u001b[0m \u001b[38;5;28;01mdef\u001b[39;00m \u001b[38;5;21mconnect\u001b[39m(\u001b[38;5;28mself\u001b[39m):\n\u001b[1;32m    357\u001b[0m     \u001b[38;5;66;03m# Add certificate verification\u001b[39;00m\n\u001b[0;32m--> 358\u001b[0m     \u001b[38;5;28mself\u001b[39m\u001b[38;5;241m.\u001b[39msock \u001b[38;5;241m=\u001b[39m conn \u001b[38;5;241m=\u001b[39m \u001b[38;5;28;43mself\u001b[39;49m\u001b[38;5;241;43m.\u001b[39;49m\u001b[43m_new_conn\u001b[49m\u001b[43m(\u001b[49m\u001b[43m)\u001b[49m\n\u001b[1;32m    359\u001b[0m     hostname \u001b[38;5;241m=\u001b[39m \u001b[38;5;28mself\u001b[39m\u001b[38;5;241m.\u001b[39mhost\n",
      "File \u001b[0;32m~/opt/anaconda3/lib/python3.9/site-packages/urllib3/connection.py:186\u001b[0m, in \u001b[0;36mHTTPConnection._new_conn\u001b[0;34m(self)\u001b[0m\n\u001b[1;32m    185\u001b[0m \u001b[38;5;28;01mexcept\u001b[39;00m SocketError \u001b[38;5;28;01mas\u001b[39;00m e:\n\u001b[0;32m--> 186\u001b[0m     \u001b[38;5;28;01mraise\u001b[39;00m NewConnectionError(\n\u001b[1;32m    187\u001b[0m         \u001b[38;5;28mself\u001b[39m, \u001b[38;5;124m\"\u001b[39m\u001b[38;5;124mFailed to establish a new connection: \u001b[39m\u001b[38;5;132;01m%s\u001b[39;00m\u001b[38;5;124m\"\u001b[39m \u001b[38;5;241m%\u001b[39m e\n\u001b[1;32m    188\u001b[0m     )\n\u001b[1;32m    190\u001b[0m \u001b[38;5;28;01mreturn\u001b[39;00m conn\n",
      "\u001b[0;31mNewConnectionError\u001b[0m: <urllib3.connection.HTTPSConnection object at 0x7faa901f2190>: Failed to establish a new connection: [Errno 60] Operation timed out",
      "\nDuring handling of the above exception, another exception occurred:\n",
      "\u001b[0;31mMaxRetryError\u001b[0m                             Traceback (most recent call last)",
      "File \u001b[0;32m~/opt/anaconda3/lib/python3.9/site-packages/requests/adapters.py:440\u001b[0m, in \u001b[0;36mHTTPAdapter.send\u001b[0;34m(self, request, stream, timeout, verify, cert, proxies)\u001b[0m\n\u001b[1;32m    439\u001b[0m \u001b[38;5;28;01mif\u001b[39;00m \u001b[38;5;129;01mnot\u001b[39;00m chunked:\n\u001b[0;32m--> 440\u001b[0m     resp \u001b[38;5;241m=\u001b[39m \u001b[43mconn\u001b[49m\u001b[38;5;241;43m.\u001b[39;49m\u001b[43murlopen\u001b[49m\u001b[43m(\u001b[49m\n\u001b[1;32m    441\u001b[0m \u001b[43m        \u001b[49m\u001b[43mmethod\u001b[49m\u001b[38;5;241;43m=\u001b[39;49m\u001b[43mrequest\u001b[49m\u001b[38;5;241;43m.\u001b[39;49m\u001b[43mmethod\u001b[49m\u001b[43m,\u001b[49m\n\u001b[1;32m    442\u001b[0m \u001b[43m        \u001b[49m\u001b[43murl\u001b[49m\u001b[38;5;241;43m=\u001b[39;49m\u001b[43murl\u001b[49m\u001b[43m,\u001b[49m\n\u001b[1;32m    443\u001b[0m \u001b[43m        \u001b[49m\u001b[43mbody\u001b[49m\u001b[38;5;241;43m=\u001b[39;49m\u001b[43mrequest\u001b[49m\u001b[38;5;241;43m.\u001b[39;49m\u001b[43mbody\u001b[49m\u001b[43m,\u001b[49m\n\u001b[1;32m    444\u001b[0m \u001b[43m        \u001b[49m\u001b[43mheaders\u001b[49m\u001b[38;5;241;43m=\u001b[39;49m\u001b[43mrequest\u001b[49m\u001b[38;5;241;43m.\u001b[39;49m\u001b[43mheaders\u001b[49m\u001b[43m,\u001b[49m\n\u001b[1;32m    445\u001b[0m \u001b[43m        \u001b[49m\u001b[43mredirect\u001b[49m\u001b[38;5;241;43m=\u001b[39;49m\u001b[38;5;28;43;01mFalse\u001b[39;49;00m\u001b[43m,\u001b[49m\n\u001b[1;32m    446\u001b[0m \u001b[43m        \u001b[49m\u001b[43massert_same_host\u001b[49m\u001b[38;5;241;43m=\u001b[39;49m\u001b[38;5;28;43;01mFalse\u001b[39;49;00m\u001b[43m,\u001b[49m\n\u001b[1;32m    447\u001b[0m \u001b[43m        \u001b[49m\u001b[43mpreload_content\u001b[49m\u001b[38;5;241;43m=\u001b[39;49m\u001b[38;5;28;43;01mFalse\u001b[39;49;00m\u001b[43m,\u001b[49m\n\u001b[1;32m    448\u001b[0m \u001b[43m        \u001b[49m\u001b[43mdecode_content\u001b[49m\u001b[38;5;241;43m=\u001b[39;49m\u001b[38;5;28;43;01mFalse\u001b[39;49;00m\u001b[43m,\u001b[49m\n\u001b[1;32m    449\u001b[0m \u001b[43m        \u001b[49m\u001b[43mretries\u001b[49m\u001b[38;5;241;43m=\u001b[39;49m\u001b[38;5;28;43mself\u001b[39;49m\u001b[38;5;241;43m.\u001b[39;49m\u001b[43mmax_retries\u001b[49m\u001b[43m,\u001b[49m\n\u001b[1;32m    450\u001b[0m \u001b[43m        \u001b[49m\u001b[43mtimeout\u001b[49m\u001b[38;5;241;43m=\u001b[39;49m\u001b[43mtimeout\u001b[49m\n\u001b[1;32m    451\u001b[0m \u001b[43m    \u001b[49m\u001b[43m)\u001b[49m\n\u001b[1;32m    453\u001b[0m \u001b[38;5;66;03m# Send the request.\u001b[39;00m\n\u001b[1;32m    454\u001b[0m \u001b[38;5;28;01melse\u001b[39;00m:\n",
      "File \u001b[0;32m~/opt/anaconda3/lib/python3.9/site-packages/urllib3/connectionpool.py:785\u001b[0m, in \u001b[0;36mHTTPConnectionPool.urlopen\u001b[0;34m(self, method, url, body, headers, retries, redirect, assert_same_host, timeout, pool_timeout, release_conn, chunked, body_pos, **response_kw)\u001b[0m\n\u001b[1;32m    783\u001b[0m     e \u001b[38;5;241m=\u001b[39m ProtocolError(\u001b[38;5;124m\"\u001b[39m\u001b[38;5;124mConnection aborted.\u001b[39m\u001b[38;5;124m\"\u001b[39m, e)\n\u001b[0;32m--> 785\u001b[0m retries \u001b[38;5;241m=\u001b[39m \u001b[43mretries\u001b[49m\u001b[38;5;241;43m.\u001b[39;49m\u001b[43mincrement\u001b[49m\u001b[43m(\u001b[49m\n\u001b[1;32m    786\u001b[0m \u001b[43m    \u001b[49m\u001b[43mmethod\u001b[49m\u001b[43m,\u001b[49m\u001b[43m \u001b[49m\u001b[43murl\u001b[49m\u001b[43m,\u001b[49m\u001b[43m \u001b[49m\u001b[43merror\u001b[49m\u001b[38;5;241;43m=\u001b[39;49m\u001b[43me\u001b[49m\u001b[43m,\u001b[49m\u001b[43m \u001b[49m\u001b[43m_pool\u001b[49m\u001b[38;5;241;43m=\u001b[39;49m\u001b[38;5;28;43mself\u001b[39;49m\u001b[43m,\u001b[49m\u001b[43m \u001b[49m\u001b[43m_stacktrace\u001b[49m\u001b[38;5;241;43m=\u001b[39;49m\u001b[43msys\u001b[49m\u001b[38;5;241;43m.\u001b[39;49m\u001b[43mexc_info\u001b[49m\u001b[43m(\u001b[49m\u001b[43m)\u001b[49m\u001b[43m[\u001b[49m\u001b[38;5;241;43m2\u001b[39;49m\u001b[43m]\u001b[49m\n\u001b[1;32m    787\u001b[0m \u001b[43m\u001b[49m\u001b[43m)\u001b[49m\n\u001b[1;32m    788\u001b[0m retries\u001b[38;5;241m.\u001b[39msleep()\n",
      "File \u001b[0;32m~/opt/anaconda3/lib/python3.9/site-packages/urllib3/util/retry.py:592\u001b[0m, in \u001b[0;36mRetry.increment\u001b[0;34m(self, method, url, response, error, _pool, _stacktrace)\u001b[0m\n\u001b[1;32m    591\u001b[0m \u001b[38;5;28;01mif\u001b[39;00m new_retry\u001b[38;5;241m.\u001b[39mis_exhausted():\n\u001b[0;32m--> 592\u001b[0m     \u001b[38;5;28;01mraise\u001b[39;00m MaxRetryError(_pool, url, error \u001b[38;5;129;01mor\u001b[39;00m ResponseError(cause))\n\u001b[1;32m    594\u001b[0m log\u001b[38;5;241m.\u001b[39mdebug(\u001b[38;5;124m\"\u001b[39m\u001b[38;5;124mIncremented Retry for (url=\u001b[39m\u001b[38;5;124m'\u001b[39m\u001b[38;5;132;01m%s\u001b[39;00m\u001b[38;5;124m'\u001b[39m\u001b[38;5;124m): \u001b[39m\u001b[38;5;132;01m%r\u001b[39;00m\u001b[38;5;124m\"\u001b[39m, url, new_retry)\n",
      "\u001b[0;31mMaxRetryError\u001b[0m: HTTPSConnectionPool(host='irsa.ipac.caltech.edu', port=443): Max retries exceeded with url: /account/signon/login.do?josso_cmd=login&josso_username=lyubing@hust.edu.cn&josso_password=qwe123irsa (Caused by NewConnectionError('<urllib3.connection.HTTPSConnection object at 0x7faa901f2190>: Failed to establish a new connection: [Errno 60] Operation timed out'))",
      "\nDuring handling of the above exception, another exception occurred:\n",
      "\u001b[0;31mConnectionError\u001b[0m                           Traceback (most recent call last)",
      "Input \u001b[0;32mIn [28]\u001b[0m, in \u001b[0;36m<cell line: 1>\u001b[0;34m()\u001b[0m\n\u001b[1;32m      4\u001b[0m \u001b[38;5;28;01mfor\u001b[39;00m band \u001b[38;5;129;01min\u001b[39;00m ztf_bands:\n\u001b[1;32m      5\u001b[0m     \u001b[38;5;28;01mif\u001b[39;00m \u001b[38;5;129;01mnot\u001b[39;00m os\u001b[38;5;241m.\u001b[39mpath\u001b[38;5;241m.\u001b[39mexists(\u001b[38;5;124m'\u001b[39m\u001b[38;5;132;01m%s\u001b[39;00m\u001b[38;5;124m/\u001b[39m\u001b[38;5;132;01m%s\u001b[39;00m\u001b[38;5;124m_\u001b[39m\u001b[38;5;132;01m%s\u001b[39;00m\u001b[38;5;124m.csv\u001b[39m\u001b[38;5;124m'\u001b[39m\u001b[38;5;241m%\u001b[39m(CLAGN_Candidate_BAT_ZTF_dir_2,save_name,band)):\n\u001b[0;32m----> 6\u001b[0m         data_g \u001b[38;5;241m=\u001b[39m \u001b[43mlightcurve\u001b[49m\u001b[38;5;241;43m.\u001b[39;49m\u001b[43mLCQuery\u001b[49m\u001b[38;5;241;43m.\u001b[39;49m\u001b[43mdownload_data\u001b[49m\u001b[43m(\u001b[49m\u001b[43mcircle\u001b[49m\u001b[38;5;241;43m=\u001b[39;49m\u001b[43m[\u001b[49m\u001b[43mCLAGN_list202206\u001b[49m\u001b[38;5;241;43m.\u001b[39;49m\u001b[43mloc\u001b[49m\u001b[43m[\u001b[49m\u001b[43mName_index\u001b[49m\u001b[43m,\u001b[49m\u001b[38;5;124;43m'\u001b[39;49m\u001b[38;5;124;43mra_deg\u001b[39;49m\u001b[38;5;124;43m'\u001b[39;49m\u001b[43m]\u001b[49m\u001b[43m,\u001b[49m\n\u001b[1;32m      7\u001b[0m \u001b[43m                                                          \u001b[49m\u001b[43mCLAGN_list202206\u001b[49m\u001b[38;5;241;43m.\u001b[39;49m\u001b[43mloc\u001b[49m\u001b[43m[\u001b[49m\u001b[43mName_index\u001b[49m\u001b[43m,\u001b[49m\u001b[38;5;124;43m'\u001b[39;49m\u001b[38;5;124;43mdec_deg\u001b[39;49m\u001b[38;5;124;43m'\u001b[39;49m\u001b[43m]\u001b[49m\u001b[43m,\u001b[49m\u001b[38;5;241;43m1.0\u001b[39;49m\u001b[38;5;241;43m/\u001b[39;49m\u001b[38;5;241;43m3600\u001b[39;49m\u001b[43m]\u001b[49m\u001b[43m,\u001b[49m\u001b[43m \u001b[49m\n\u001b[1;32m      8\u001b[0m \u001b[43m                                              \u001b[49m\u001b[43mbandname\u001b[49m\u001b[38;5;241;43m=\u001b[39;49m\u001b[43mband\u001b[49m\u001b[43m,\u001b[49m\u001b[43mBAD_CATFLAGS_MASK\u001b[49m\u001b[38;5;241;43m=\u001b[39;49m\u001b[38;5;241;43m0\u001b[39;49m\u001b[43m)\u001b[49m\n\u001b[1;32m      9\u001b[0m         data_g\u001b[38;5;241m.\u001b[39mto_csv(\u001b[38;5;124m'\u001b[39m\u001b[38;5;132;01m%s\u001b[39;00m\u001b[38;5;124m/\u001b[39m\u001b[38;5;132;01m%s\u001b[39;00m\u001b[38;5;124m_\u001b[39m\u001b[38;5;132;01m%s\u001b[39;00m\u001b[38;5;124m.csv\u001b[39m\u001b[38;5;124m'\u001b[39m\u001b[38;5;241m%\u001b[39m(CLAGN_Candidate_BAT_ZTF_dir_2,save_name,band),index\u001b[38;5;241m=\u001b[39m\u001b[38;5;28;01mFalse\u001b[39;00m) \n\u001b[1;32m     10\u001b[0m         time\u001b[38;5;241m.\u001b[39msleep(\u001b[38;5;241m1\u001b[39m\u001b[38;5;241m+\u001b[39mnp\u001b[38;5;241m.\u001b[39mrandom\u001b[38;5;241m.\u001b[39mrandint(\u001b[38;5;241m3\u001b[39m,\u001b[38;5;241m10\u001b[39m))  \n",
      "File \u001b[0;32m~/opt/anaconda3/lib/python3.9/site-packages/ztfquery/lightcurve.py:302\u001b[0m, in \u001b[0;36mLCQuery.download_data\u001b[0;34m(cookies, auth, **kwargs)\u001b[0m\n\u001b[1;32m    300\u001b[0m         \u001b[38;5;28;01mfrom\u001b[39;00m \u001b[38;5;21;01m.\u001b[39;00m\u001b[38;5;21;01mio\u001b[39;00m \u001b[38;5;28;01mimport\u001b[39;00m _load_id_\n\u001b[1;32m    301\u001b[0m         auth \u001b[38;5;241m=\u001b[39m _load_id_(\u001b[38;5;124m\"\u001b[39m\u001b[38;5;124mirsa\u001b[39m\u001b[38;5;124m\"\u001b[39m)\n\u001b[0;32m--> 302\u001b[0m     cookies \u001b[38;5;241m=\u001b[39m \u001b[43mget_cookie\u001b[49m\u001b[43m(\u001b[49m\u001b[38;5;241;43m*\u001b[39;49m\u001b[43mauth\u001b[49m\u001b[43m)\u001b[49m\n\u001b[1;32m    304\u001b[0m input_query \u001b[38;5;241m=\u001b[39m {k\u001b[38;5;241m.\u001b[39mupper():v \u001b[38;5;28;01mfor\u001b[39;00m k,v \u001b[38;5;129;01min\u001b[39;00m kwargs\u001b[38;5;241m.\u001b[39mitems()}\n\u001b[1;32m    306\u001b[0m \u001b[38;5;66;03m# - Build query\u001b[39;00m\n",
      "File \u001b[0;32m~/opt/anaconda3/lib/python3.9/site-packages/ztfquery/io.py:610\u001b[0m, in \u001b[0;36mget_cookie\u001b[0;34m(username, password)\u001b[0m\n\u001b[1;32m    600\u001b[0m \u001b[38;5;124;03m\"\"\"Get a cookie from the IPAC login service\u001b[39;00m\n\u001b[1;32m    601\u001b[0m \n\u001b[1;32m    602\u001b[0m \u001b[38;5;124;03mParameters\u001b[39;00m\n\u001b[0;32m   (...)\u001b[0m\n\u001b[1;32m    607\u001b[0m \u001b[38;5;124;03m    The IPAC account password\u001b[39;00m\n\u001b[1;32m    608\u001b[0m \u001b[38;5;124;03m\"\"\"\u001b[39;00m\n\u001b[1;32m    609\u001b[0m url \u001b[38;5;241m=\u001b[39m \u001b[38;5;124m\"\u001b[39m\u001b[38;5;132;01m%s\u001b[39;00m\u001b[38;5;124m?josso_cmd=login&josso_username=\u001b[39m\u001b[38;5;132;01m%s\u001b[39;00m\u001b[38;5;124m&josso_password=\u001b[39m\u001b[38;5;132;01m%s\u001b[39;00m\u001b[38;5;124m\"\u001b[39m \u001b[38;5;241m%\u001b[39m (LOGIN_URL, username, password)\n\u001b[0;32m--> 610\u001b[0m \u001b[38;5;28;01mreturn\u001b[39;00m \u001b[43mrequests\u001b[49m\u001b[38;5;241;43m.\u001b[39;49m\u001b[43mget\u001b[49m\u001b[43m(\u001b[49m\u001b[43murl\u001b[49m\u001b[43m)\u001b[49m\u001b[38;5;241m.\u001b[39mcookies\n",
      "File \u001b[0;32m~/opt/anaconda3/lib/python3.9/site-packages/requests/api.py:75\u001b[0m, in \u001b[0;36mget\u001b[0;34m(url, params, **kwargs)\u001b[0m\n\u001b[1;32m     64\u001b[0m \u001b[38;5;28;01mdef\u001b[39;00m \u001b[38;5;21mget\u001b[39m(url, params\u001b[38;5;241m=\u001b[39m\u001b[38;5;28;01mNone\u001b[39;00m, \u001b[38;5;241m*\u001b[39m\u001b[38;5;241m*\u001b[39mkwargs):\n\u001b[1;32m     65\u001b[0m     \u001b[38;5;124mr\u001b[39m\u001b[38;5;124;03m\"\"\"Sends a GET request.\u001b[39;00m\n\u001b[1;32m     66\u001b[0m \n\u001b[1;32m     67\u001b[0m \u001b[38;5;124;03m    :param url: URL for the new :class:`Request` object.\u001b[39;00m\n\u001b[0;32m   (...)\u001b[0m\n\u001b[1;32m     72\u001b[0m \u001b[38;5;124;03m    :rtype: requests.Response\u001b[39;00m\n\u001b[1;32m     73\u001b[0m \u001b[38;5;124;03m    \"\"\"\u001b[39;00m\n\u001b[0;32m---> 75\u001b[0m     \u001b[38;5;28;01mreturn\u001b[39;00m \u001b[43mrequest\u001b[49m\u001b[43m(\u001b[49m\u001b[38;5;124;43m'\u001b[39;49m\u001b[38;5;124;43mget\u001b[39;49m\u001b[38;5;124;43m'\u001b[39;49m\u001b[43m,\u001b[49m\u001b[43m \u001b[49m\u001b[43murl\u001b[49m\u001b[43m,\u001b[49m\u001b[43m \u001b[49m\u001b[43mparams\u001b[49m\u001b[38;5;241;43m=\u001b[39;49m\u001b[43mparams\u001b[49m\u001b[43m,\u001b[49m\u001b[43m \u001b[49m\u001b[38;5;241;43m*\u001b[39;49m\u001b[38;5;241;43m*\u001b[39;49m\u001b[43mkwargs\u001b[49m\u001b[43m)\u001b[49m\n",
      "File \u001b[0;32m~/opt/anaconda3/lib/python3.9/site-packages/requests/api.py:61\u001b[0m, in \u001b[0;36mrequest\u001b[0;34m(method, url, **kwargs)\u001b[0m\n\u001b[1;32m     57\u001b[0m \u001b[38;5;66;03m# By using the 'with' statement we are sure the session is closed, thus we\u001b[39;00m\n\u001b[1;32m     58\u001b[0m \u001b[38;5;66;03m# avoid leaving sockets open which can trigger a ResourceWarning in some\u001b[39;00m\n\u001b[1;32m     59\u001b[0m \u001b[38;5;66;03m# cases, and look like a memory leak in others.\u001b[39;00m\n\u001b[1;32m     60\u001b[0m \u001b[38;5;28;01mwith\u001b[39;00m sessions\u001b[38;5;241m.\u001b[39mSession() \u001b[38;5;28;01mas\u001b[39;00m session:\n\u001b[0;32m---> 61\u001b[0m     \u001b[38;5;28;01mreturn\u001b[39;00m \u001b[43msession\u001b[49m\u001b[38;5;241;43m.\u001b[39;49m\u001b[43mrequest\u001b[49m\u001b[43m(\u001b[49m\u001b[43mmethod\u001b[49m\u001b[38;5;241;43m=\u001b[39;49m\u001b[43mmethod\u001b[49m\u001b[43m,\u001b[49m\u001b[43m \u001b[49m\u001b[43murl\u001b[49m\u001b[38;5;241;43m=\u001b[39;49m\u001b[43murl\u001b[49m\u001b[43m,\u001b[49m\u001b[43m \u001b[49m\u001b[38;5;241;43m*\u001b[39;49m\u001b[38;5;241;43m*\u001b[39;49m\u001b[43mkwargs\u001b[49m\u001b[43m)\u001b[49m\n",
      "File \u001b[0;32m~/opt/anaconda3/lib/python3.9/site-packages/requests/sessions.py:529\u001b[0m, in \u001b[0;36mSession.request\u001b[0;34m(self, method, url, params, data, headers, cookies, files, auth, timeout, allow_redirects, proxies, hooks, stream, verify, cert, json)\u001b[0m\n\u001b[1;32m    524\u001b[0m send_kwargs \u001b[38;5;241m=\u001b[39m {\n\u001b[1;32m    525\u001b[0m     \u001b[38;5;124m'\u001b[39m\u001b[38;5;124mtimeout\u001b[39m\u001b[38;5;124m'\u001b[39m: timeout,\n\u001b[1;32m    526\u001b[0m     \u001b[38;5;124m'\u001b[39m\u001b[38;5;124mallow_redirects\u001b[39m\u001b[38;5;124m'\u001b[39m: allow_redirects,\n\u001b[1;32m    527\u001b[0m }\n\u001b[1;32m    528\u001b[0m send_kwargs\u001b[38;5;241m.\u001b[39mupdate(settings)\n\u001b[0;32m--> 529\u001b[0m resp \u001b[38;5;241m=\u001b[39m \u001b[38;5;28;43mself\u001b[39;49m\u001b[38;5;241;43m.\u001b[39;49m\u001b[43msend\u001b[49m\u001b[43m(\u001b[49m\u001b[43mprep\u001b[49m\u001b[43m,\u001b[49m\u001b[43m \u001b[49m\u001b[38;5;241;43m*\u001b[39;49m\u001b[38;5;241;43m*\u001b[39;49m\u001b[43msend_kwargs\u001b[49m\u001b[43m)\u001b[49m\n\u001b[1;32m    531\u001b[0m \u001b[38;5;28;01mreturn\u001b[39;00m resp\n",
      "File \u001b[0;32m~/opt/anaconda3/lib/python3.9/site-packages/requests/sessions.py:645\u001b[0m, in \u001b[0;36mSession.send\u001b[0;34m(self, request, **kwargs)\u001b[0m\n\u001b[1;32m    642\u001b[0m start \u001b[38;5;241m=\u001b[39m preferred_clock()\n\u001b[1;32m    644\u001b[0m \u001b[38;5;66;03m# Send the request\u001b[39;00m\n\u001b[0;32m--> 645\u001b[0m r \u001b[38;5;241m=\u001b[39m \u001b[43madapter\u001b[49m\u001b[38;5;241;43m.\u001b[39;49m\u001b[43msend\u001b[49m\u001b[43m(\u001b[49m\u001b[43mrequest\u001b[49m\u001b[43m,\u001b[49m\u001b[43m \u001b[49m\u001b[38;5;241;43m*\u001b[39;49m\u001b[38;5;241;43m*\u001b[39;49m\u001b[43mkwargs\u001b[49m\u001b[43m)\u001b[49m\n\u001b[1;32m    647\u001b[0m \u001b[38;5;66;03m# Total elapsed time of the request (approximately)\u001b[39;00m\n\u001b[1;32m    648\u001b[0m elapsed \u001b[38;5;241m=\u001b[39m preferred_clock() \u001b[38;5;241m-\u001b[39m start\n",
      "File \u001b[0;32m~/opt/anaconda3/lib/python3.9/site-packages/requests/adapters.py:519\u001b[0m, in \u001b[0;36mHTTPAdapter.send\u001b[0;34m(self, request, stream, timeout, verify, cert, proxies)\u001b[0m\n\u001b[1;32m    515\u001b[0m     \u001b[38;5;28;01mif\u001b[39;00m \u001b[38;5;28misinstance\u001b[39m(e\u001b[38;5;241m.\u001b[39mreason, _SSLError):\n\u001b[1;32m    516\u001b[0m         \u001b[38;5;66;03m# This branch is for urllib3 v1.22 and later.\u001b[39;00m\n\u001b[1;32m    517\u001b[0m         \u001b[38;5;28;01mraise\u001b[39;00m SSLError(e, request\u001b[38;5;241m=\u001b[39mrequest)\n\u001b[0;32m--> 519\u001b[0m     \u001b[38;5;28;01mraise\u001b[39;00m \u001b[38;5;167;01mConnectionError\u001b[39;00m(e, request\u001b[38;5;241m=\u001b[39mrequest)\n\u001b[1;32m    521\u001b[0m \u001b[38;5;28;01mexcept\u001b[39;00m ClosedPoolError \u001b[38;5;28;01mas\u001b[39;00m e:\n\u001b[1;32m    522\u001b[0m     \u001b[38;5;28;01mraise\u001b[39;00m \u001b[38;5;167;01mConnectionError\u001b[39;00m(e, request\u001b[38;5;241m=\u001b[39mrequest)\n",
      "\u001b[0;31mConnectionError\u001b[0m: HTTPSConnectionPool(host='irsa.ipac.caltech.edu', port=443): Max retries exceeded with url: /account/signon/login.do?josso_cmd=login&josso_username=lyubing@hust.edu.cn&josso_password=qwe123irsa (Caused by NewConnectionError('<urllib3.connection.HTTPSConnection object at 0x7faa901f2190>: Failed to establish a new connection: [Errno 60] Operation timed out'))"
     ]
    }
   ],
   "source": [
    "for Name_index,name in enumerate(CLAGN_list202206['Name']):\n",
    "    save_name=name.strip().replace(' ','_')\n",
    "    \n",
    "    for band in ztf_bands:\n",
    "        if not os.path.exists('%s/%s_%s.csv'%(CLAGN_Candidate_BAT_ZTF_dir_2,save_name,band)):\n",
    "            data_g = lightcurve.LCQuery.download_data(circle=[CLAGN_list202206.loc[Name_index,'ra_deg'],\n",
    "                                                              CLAGN_list202206.loc[Name_index,'dec_deg'],1.0/3600], \n",
    "                                                  bandname=band,BAD_CATFLAGS_MASK=0)\n",
    "            data_g.to_csv('%s/%s_%s.csv'%(CLAGN_Candidate_BAT_ZTF_dir_2,save_name,band),index=False) \n",
    "            time.sleep(1+np.random.randint(3,10))  \n",
    "        else:\n",
    "            time.sleep(2)\n",
    "    "
   ]
  },
  {
   "cell_type": "code",
   "execution_count": 30,
   "metadata": {
    "ExecuteTime": {
     "end_time": "2022-12-01T16:26:09.107192Z",
     "start_time": "2022-12-01T16:24:34.070495Z"
    }
   },
   "outputs": [
    {
     "ename": "ConnectionError",
     "evalue": "HTTPSConnectionPool(host='irsa.ipac.caltech.edu', port=443): Max retries exceeded with url: /account/signon/login.do?josso_cmd=login&josso_username=lyubing@hust.edu.cn&josso_password=qwe123irsa (Caused by NewConnectionError('<urllib3.connection.HTTPSConnection object at 0x7faa88a8df10>: Failed to establish a new connection: [Errno 60] Operation timed out'))",
     "output_type": "error",
     "traceback": [
      "\u001b[0;31m---------------------------------------------------------------------------\u001b[0m",
      "\u001b[0;31mTimeoutError\u001b[0m                              Traceback (most recent call last)",
      "File \u001b[0;32m~/opt/anaconda3/lib/python3.9/site-packages/urllib3/connection.py:174\u001b[0m, in \u001b[0;36mHTTPConnection._new_conn\u001b[0;34m(self)\u001b[0m\n\u001b[1;32m    173\u001b[0m \u001b[38;5;28;01mtry\u001b[39;00m:\n\u001b[0;32m--> 174\u001b[0m     conn \u001b[38;5;241m=\u001b[39m \u001b[43mconnection\u001b[49m\u001b[38;5;241;43m.\u001b[39;49m\u001b[43mcreate_connection\u001b[49m\u001b[43m(\u001b[49m\n\u001b[1;32m    175\u001b[0m \u001b[43m        \u001b[49m\u001b[43m(\u001b[49m\u001b[38;5;28;43mself\u001b[39;49m\u001b[38;5;241;43m.\u001b[39;49m\u001b[43m_dns_host\u001b[49m\u001b[43m,\u001b[49m\u001b[43m \u001b[49m\u001b[38;5;28;43mself\u001b[39;49m\u001b[38;5;241;43m.\u001b[39;49m\u001b[43mport\u001b[49m\u001b[43m)\u001b[49m\u001b[43m,\u001b[49m\u001b[43m \u001b[49m\u001b[38;5;28;43mself\u001b[39;49m\u001b[38;5;241;43m.\u001b[39;49m\u001b[43mtimeout\u001b[49m\u001b[43m,\u001b[49m\u001b[43m \u001b[49m\u001b[38;5;241;43m*\u001b[39;49m\u001b[38;5;241;43m*\u001b[39;49m\u001b[43mextra_kw\u001b[49m\n\u001b[1;32m    176\u001b[0m \u001b[43m    \u001b[49m\u001b[43m)\u001b[49m\n\u001b[1;32m    178\u001b[0m \u001b[38;5;28;01mexcept\u001b[39;00m SocketTimeout:\n",
      "File \u001b[0;32m~/opt/anaconda3/lib/python3.9/site-packages/urllib3/util/connection.py:95\u001b[0m, in \u001b[0;36mcreate_connection\u001b[0;34m(address, timeout, source_address, socket_options)\u001b[0m\n\u001b[1;32m     94\u001b[0m \u001b[38;5;28;01mif\u001b[39;00m err \u001b[38;5;129;01mis\u001b[39;00m \u001b[38;5;129;01mnot\u001b[39;00m \u001b[38;5;28;01mNone\u001b[39;00m:\n\u001b[0;32m---> 95\u001b[0m     \u001b[38;5;28;01mraise\u001b[39;00m err\n\u001b[1;32m     97\u001b[0m \u001b[38;5;28;01mraise\u001b[39;00m socket\u001b[38;5;241m.\u001b[39merror(\u001b[38;5;124m\"\u001b[39m\u001b[38;5;124mgetaddrinfo returns an empty list\u001b[39m\u001b[38;5;124m\"\u001b[39m)\n",
      "File \u001b[0;32m~/opt/anaconda3/lib/python3.9/site-packages/urllib3/util/connection.py:85\u001b[0m, in \u001b[0;36mcreate_connection\u001b[0;34m(address, timeout, source_address, socket_options)\u001b[0m\n\u001b[1;32m     84\u001b[0m     sock\u001b[38;5;241m.\u001b[39mbind(source_address)\n\u001b[0;32m---> 85\u001b[0m \u001b[43msock\u001b[49m\u001b[38;5;241;43m.\u001b[39;49m\u001b[43mconnect\u001b[49m\u001b[43m(\u001b[49m\u001b[43msa\u001b[49m\u001b[43m)\u001b[49m\n\u001b[1;32m     86\u001b[0m \u001b[38;5;28;01mreturn\u001b[39;00m sock\n",
      "\u001b[0;31mTimeoutError\u001b[0m: [Errno 60] Operation timed out",
      "\nDuring handling of the above exception, another exception occurred:\n",
      "\u001b[0;31mNewConnectionError\u001b[0m                        Traceback (most recent call last)",
      "File \u001b[0;32m~/opt/anaconda3/lib/python3.9/site-packages/urllib3/connectionpool.py:703\u001b[0m, in \u001b[0;36mHTTPConnectionPool.urlopen\u001b[0;34m(self, method, url, body, headers, retries, redirect, assert_same_host, timeout, pool_timeout, release_conn, chunked, body_pos, **response_kw)\u001b[0m\n\u001b[1;32m    702\u001b[0m \u001b[38;5;66;03m# Make the request on the httplib connection object.\u001b[39;00m\n\u001b[0;32m--> 703\u001b[0m httplib_response \u001b[38;5;241m=\u001b[39m \u001b[38;5;28;43mself\u001b[39;49m\u001b[38;5;241;43m.\u001b[39;49m\u001b[43m_make_request\u001b[49m\u001b[43m(\u001b[49m\n\u001b[1;32m    704\u001b[0m \u001b[43m    \u001b[49m\u001b[43mconn\u001b[49m\u001b[43m,\u001b[49m\n\u001b[1;32m    705\u001b[0m \u001b[43m    \u001b[49m\u001b[43mmethod\u001b[49m\u001b[43m,\u001b[49m\n\u001b[1;32m    706\u001b[0m \u001b[43m    \u001b[49m\u001b[43murl\u001b[49m\u001b[43m,\u001b[49m\n\u001b[1;32m    707\u001b[0m \u001b[43m    \u001b[49m\u001b[43mtimeout\u001b[49m\u001b[38;5;241;43m=\u001b[39;49m\u001b[43mtimeout_obj\u001b[49m\u001b[43m,\u001b[49m\n\u001b[1;32m    708\u001b[0m \u001b[43m    \u001b[49m\u001b[43mbody\u001b[49m\u001b[38;5;241;43m=\u001b[39;49m\u001b[43mbody\u001b[49m\u001b[43m,\u001b[49m\n\u001b[1;32m    709\u001b[0m \u001b[43m    \u001b[49m\u001b[43mheaders\u001b[49m\u001b[38;5;241;43m=\u001b[39;49m\u001b[43mheaders\u001b[49m\u001b[43m,\u001b[49m\n\u001b[1;32m    710\u001b[0m \u001b[43m    \u001b[49m\u001b[43mchunked\u001b[49m\u001b[38;5;241;43m=\u001b[39;49m\u001b[43mchunked\u001b[49m\u001b[43m,\u001b[49m\n\u001b[1;32m    711\u001b[0m \u001b[43m\u001b[49m\u001b[43m)\u001b[49m\n\u001b[1;32m    713\u001b[0m \u001b[38;5;66;03m# If we're going to release the connection in ``finally:``, then\u001b[39;00m\n\u001b[1;32m    714\u001b[0m \u001b[38;5;66;03m# the response doesn't need to know about the connection. Otherwise\u001b[39;00m\n\u001b[1;32m    715\u001b[0m \u001b[38;5;66;03m# it will also try to release it and we'll have a double-release\u001b[39;00m\n\u001b[1;32m    716\u001b[0m \u001b[38;5;66;03m# mess.\u001b[39;00m\n",
      "File \u001b[0;32m~/opt/anaconda3/lib/python3.9/site-packages/urllib3/connectionpool.py:386\u001b[0m, in \u001b[0;36mHTTPConnectionPool._make_request\u001b[0;34m(self, conn, method, url, timeout, chunked, **httplib_request_kw)\u001b[0m\n\u001b[1;32m    385\u001b[0m \u001b[38;5;28;01mtry\u001b[39;00m:\n\u001b[0;32m--> 386\u001b[0m     \u001b[38;5;28;43mself\u001b[39;49m\u001b[38;5;241;43m.\u001b[39;49m\u001b[43m_validate_conn\u001b[49m\u001b[43m(\u001b[49m\u001b[43mconn\u001b[49m\u001b[43m)\u001b[49m\n\u001b[1;32m    387\u001b[0m \u001b[38;5;28;01mexcept\u001b[39;00m (SocketTimeout, BaseSSLError) \u001b[38;5;28;01mas\u001b[39;00m e:\n\u001b[1;32m    388\u001b[0m     \u001b[38;5;66;03m# Py2 raises this as a BaseSSLError, Py3 raises it as socket timeout.\u001b[39;00m\n",
      "File \u001b[0;32m~/opt/anaconda3/lib/python3.9/site-packages/urllib3/connectionpool.py:1040\u001b[0m, in \u001b[0;36mHTTPSConnectionPool._validate_conn\u001b[0;34m(self, conn)\u001b[0m\n\u001b[1;32m   1039\u001b[0m \u001b[38;5;28;01mif\u001b[39;00m \u001b[38;5;129;01mnot\u001b[39;00m \u001b[38;5;28mgetattr\u001b[39m(conn, \u001b[38;5;124m\"\u001b[39m\u001b[38;5;124msock\u001b[39m\u001b[38;5;124m\"\u001b[39m, \u001b[38;5;28;01mNone\u001b[39;00m):  \u001b[38;5;66;03m# AppEngine might not have  `.sock`\u001b[39;00m\n\u001b[0;32m-> 1040\u001b[0m     \u001b[43mconn\u001b[49m\u001b[38;5;241;43m.\u001b[39;49m\u001b[43mconnect\u001b[49m\u001b[43m(\u001b[49m\u001b[43m)\u001b[49m\n\u001b[1;32m   1042\u001b[0m \u001b[38;5;28;01mif\u001b[39;00m \u001b[38;5;129;01mnot\u001b[39;00m conn\u001b[38;5;241m.\u001b[39mis_verified:\n",
      "File \u001b[0;32m~/opt/anaconda3/lib/python3.9/site-packages/urllib3/connection.py:358\u001b[0m, in \u001b[0;36mHTTPSConnection.connect\u001b[0;34m(self)\u001b[0m\n\u001b[1;32m    356\u001b[0m \u001b[38;5;28;01mdef\u001b[39;00m \u001b[38;5;21mconnect\u001b[39m(\u001b[38;5;28mself\u001b[39m):\n\u001b[1;32m    357\u001b[0m     \u001b[38;5;66;03m# Add certificate verification\u001b[39;00m\n\u001b[0;32m--> 358\u001b[0m     \u001b[38;5;28mself\u001b[39m\u001b[38;5;241m.\u001b[39msock \u001b[38;5;241m=\u001b[39m conn \u001b[38;5;241m=\u001b[39m \u001b[38;5;28;43mself\u001b[39;49m\u001b[38;5;241;43m.\u001b[39;49m\u001b[43m_new_conn\u001b[49m\u001b[43m(\u001b[49m\u001b[43m)\u001b[49m\n\u001b[1;32m    359\u001b[0m     hostname \u001b[38;5;241m=\u001b[39m \u001b[38;5;28mself\u001b[39m\u001b[38;5;241m.\u001b[39mhost\n",
      "File \u001b[0;32m~/opt/anaconda3/lib/python3.9/site-packages/urllib3/connection.py:186\u001b[0m, in \u001b[0;36mHTTPConnection._new_conn\u001b[0;34m(self)\u001b[0m\n\u001b[1;32m    185\u001b[0m \u001b[38;5;28;01mexcept\u001b[39;00m SocketError \u001b[38;5;28;01mas\u001b[39;00m e:\n\u001b[0;32m--> 186\u001b[0m     \u001b[38;5;28;01mraise\u001b[39;00m NewConnectionError(\n\u001b[1;32m    187\u001b[0m         \u001b[38;5;28mself\u001b[39m, \u001b[38;5;124m\"\u001b[39m\u001b[38;5;124mFailed to establish a new connection: \u001b[39m\u001b[38;5;132;01m%s\u001b[39;00m\u001b[38;5;124m\"\u001b[39m \u001b[38;5;241m%\u001b[39m e\n\u001b[1;32m    188\u001b[0m     )\n\u001b[1;32m    190\u001b[0m \u001b[38;5;28;01mreturn\u001b[39;00m conn\n",
      "\u001b[0;31mNewConnectionError\u001b[0m: <urllib3.connection.HTTPSConnection object at 0x7faa88a8df10>: Failed to establish a new connection: [Errno 60] Operation timed out",
      "\nDuring handling of the above exception, another exception occurred:\n",
      "\u001b[0;31mMaxRetryError\u001b[0m                             Traceback (most recent call last)",
      "File \u001b[0;32m~/opt/anaconda3/lib/python3.9/site-packages/requests/adapters.py:440\u001b[0m, in \u001b[0;36mHTTPAdapter.send\u001b[0;34m(self, request, stream, timeout, verify, cert, proxies)\u001b[0m\n\u001b[1;32m    439\u001b[0m \u001b[38;5;28;01mif\u001b[39;00m \u001b[38;5;129;01mnot\u001b[39;00m chunked:\n\u001b[0;32m--> 440\u001b[0m     resp \u001b[38;5;241m=\u001b[39m \u001b[43mconn\u001b[49m\u001b[38;5;241;43m.\u001b[39;49m\u001b[43murlopen\u001b[49m\u001b[43m(\u001b[49m\n\u001b[1;32m    441\u001b[0m \u001b[43m        \u001b[49m\u001b[43mmethod\u001b[49m\u001b[38;5;241;43m=\u001b[39;49m\u001b[43mrequest\u001b[49m\u001b[38;5;241;43m.\u001b[39;49m\u001b[43mmethod\u001b[49m\u001b[43m,\u001b[49m\n\u001b[1;32m    442\u001b[0m \u001b[43m        \u001b[49m\u001b[43murl\u001b[49m\u001b[38;5;241;43m=\u001b[39;49m\u001b[43murl\u001b[49m\u001b[43m,\u001b[49m\n\u001b[1;32m    443\u001b[0m \u001b[43m        \u001b[49m\u001b[43mbody\u001b[49m\u001b[38;5;241;43m=\u001b[39;49m\u001b[43mrequest\u001b[49m\u001b[38;5;241;43m.\u001b[39;49m\u001b[43mbody\u001b[49m\u001b[43m,\u001b[49m\n\u001b[1;32m    444\u001b[0m \u001b[43m        \u001b[49m\u001b[43mheaders\u001b[49m\u001b[38;5;241;43m=\u001b[39;49m\u001b[43mrequest\u001b[49m\u001b[38;5;241;43m.\u001b[39;49m\u001b[43mheaders\u001b[49m\u001b[43m,\u001b[49m\n\u001b[1;32m    445\u001b[0m \u001b[43m        \u001b[49m\u001b[43mredirect\u001b[49m\u001b[38;5;241;43m=\u001b[39;49m\u001b[38;5;28;43;01mFalse\u001b[39;49;00m\u001b[43m,\u001b[49m\n\u001b[1;32m    446\u001b[0m \u001b[43m        \u001b[49m\u001b[43massert_same_host\u001b[49m\u001b[38;5;241;43m=\u001b[39;49m\u001b[38;5;28;43;01mFalse\u001b[39;49;00m\u001b[43m,\u001b[49m\n\u001b[1;32m    447\u001b[0m \u001b[43m        \u001b[49m\u001b[43mpreload_content\u001b[49m\u001b[38;5;241;43m=\u001b[39;49m\u001b[38;5;28;43;01mFalse\u001b[39;49;00m\u001b[43m,\u001b[49m\n\u001b[1;32m    448\u001b[0m \u001b[43m        \u001b[49m\u001b[43mdecode_content\u001b[49m\u001b[38;5;241;43m=\u001b[39;49m\u001b[38;5;28;43;01mFalse\u001b[39;49;00m\u001b[43m,\u001b[49m\n\u001b[1;32m    449\u001b[0m \u001b[43m        \u001b[49m\u001b[43mretries\u001b[49m\u001b[38;5;241;43m=\u001b[39;49m\u001b[38;5;28;43mself\u001b[39;49m\u001b[38;5;241;43m.\u001b[39;49m\u001b[43mmax_retries\u001b[49m\u001b[43m,\u001b[49m\n\u001b[1;32m    450\u001b[0m \u001b[43m        \u001b[49m\u001b[43mtimeout\u001b[49m\u001b[38;5;241;43m=\u001b[39;49m\u001b[43mtimeout\u001b[49m\n\u001b[1;32m    451\u001b[0m \u001b[43m    \u001b[49m\u001b[43m)\u001b[49m\n\u001b[1;32m    453\u001b[0m \u001b[38;5;66;03m# Send the request.\u001b[39;00m\n\u001b[1;32m    454\u001b[0m \u001b[38;5;28;01melse\u001b[39;00m:\n",
      "File \u001b[0;32m~/opt/anaconda3/lib/python3.9/site-packages/urllib3/connectionpool.py:785\u001b[0m, in \u001b[0;36mHTTPConnectionPool.urlopen\u001b[0;34m(self, method, url, body, headers, retries, redirect, assert_same_host, timeout, pool_timeout, release_conn, chunked, body_pos, **response_kw)\u001b[0m\n\u001b[1;32m    783\u001b[0m     e \u001b[38;5;241m=\u001b[39m ProtocolError(\u001b[38;5;124m\"\u001b[39m\u001b[38;5;124mConnection aborted.\u001b[39m\u001b[38;5;124m\"\u001b[39m, e)\n\u001b[0;32m--> 785\u001b[0m retries \u001b[38;5;241m=\u001b[39m \u001b[43mretries\u001b[49m\u001b[38;5;241;43m.\u001b[39;49m\u001b[43mincrement\u001b[49m\u001b[43m(\u001b[49m\n\u001b[1;32m    786\u001b[0m \u001b[43m    \u001b[49m\u001b[43mmethod\u001b[49m\u001b[43m,\u001b[49m\u001b[43m \u001b[49m\u001b[43murl\u001b[49m\u001b[43m,\u001b[49m\u001b[43m \u001b[49m\u001b[43merror\u001b[49m\u001b[38;5;241;43m=\u001b[39;49m\u001b[43me\u001b[49m\u001b[43m,\u001b[49m\u001b[43m \u001b[49m\u001b[43m_pool\u001b[49m\u001b[38;5;241;43m=\u001b[39;49m\u001b[38;5;28;43mself\u001b[39;49m\u001b[43m,\u001b[49m\u001b[43m \u001b[49m\u001b[43m_stacktrace\u001b[49m\u001b[38;5;241;43m=\u001b[39;49m\u001b[43msys\u001b[49m\u001b[38;5;241;43m.\u001b[39;49m\u001b[43mexc_info\u001b[49m\u001b[43m(\u001b[49m\u001b[43m)\u001b[49m\u001b[43m[\u001b[49m\u001b[38;5;241;43m2\u001b[39;49m\u001b[43m]\u001b[49m\n\u001b[1;32m    787\u001b[0m \u001b[43m\u001b[49m\u001b[43m)\u001b[49m\n\u001b[1;32m    788\u001b[0m retries\u001b[38;5;241m.\u001b[39msleep()\n",
      "File \u001b[0;32m~/opt/anaconda3/lib/python3.9/site-packages/urllib3/util/retry.py:592\u001b[0m, in \u001b[0;36mRetry.increment\u001b[0;34m(self, method, url, response, error, _pool, _stacktrace)\u001b[0m\n\u001b[1;32m    591\u001b[0m \u001b[38;5;28;01mif\u001b[39;00m new_retry\u001b[38;5;241m.\u001b[39mis_exhausted():\n\u001b[0;32m--> 592\u001b[0m     \u001b[38;5;28;01mraise\u001b[39;00m MaxRetryError(_pool, url, error \u001b[38;5;129;01mor\u001b[39;00m ResponseError(cause))\n\u001b[1;32m    594\u001b[0m log\u001b[38;5;241m.\u001b[39mdebug(\u001b[38;5;124m\"\u001b[39m\u001b[38;5;124mIncremented Retry for (url=\u001b[39m\u001b[38;5;124m'\u001b[39m\u001b[38;5;132;01m%s\u001b[39;00m\u001b[38;5;124m'\u001b[39m\u001b[38;5;124m): \u001b[39m\u001b[38;5;132;01m%r\u001b[39;00m\u001b[38;5;124m\"\u001b[39m, url, new_retry)\n",
      "\u001b[0;31mMaxRetryError\u001b[0m: HTTPSConnectionPool(host='irsa.ipac.caltech.edu', port=443): Max retries exceeded with url: /account/signon/login.do?josso_cmd=login&josso_username=lyubing@hust.edu.cn&josso_password=qwe123irsa (Caused by NewConnectionError('<urllib3.connection.HTTPSConnection object at 0x7faa88a8df10>: Failed to establish a new connection: [Errno 60] Operation timed out'))",
      "\nDuring handling of the above exception, another exception occurred:\n",
      "\u001b[0;31mConnectionError\u001b[0m                           Traceback (most recent call last)",
      "Input \u001b[0;32mIn [30]\u001b[0m, in \u001b[0;36m<cell line: 1>\u001b[0;34m()\u001b[0m\n\u001b[1;32m      2\u001b[0m save_name\u001b[38;5;241m=\u001b[39mname\u001b[38;5;241m.\u001b[39mstrip()\u001b[38;5;241m.\u001b[39mreplace(\u001b[38;5;124m'\u001b[39m\u001b[38;5;124m \u001b[39m\u001b[38;5;124m'\u001b[39m,\u001b[38;5;124m'\u001b[39m\u001b[38;5;124m_\u001b[39m\u001b[38;5;124m'\u001b[39m)\n\u001b[1;32m      4\u001b[0m \u001b[38;5;28;01mif\u001b[39;00m \u001b[38;5;129;01mnot\u001b[39;00m os\u001b[38;5;241m.\u001b[39mpath\u001b[38;5;241m.\u001b[39mexists(\u001b[38;5;124m'\u001b[39m\u001b[38;5;132;01m%s\u001b[39;00m\u001b[38;5;124m/\u001b[39m\u001b[38;5;132;01m%s\u001b[39;00m\u001b[38;5;124m_gir.csv\u001b[39m\u001b[38;5;124m'\u001b[39m\u001b[38;5;241m%\u001b[39m(CLAGN_Candidate_BAT_ZTF_dir_2,save_name)):\n\u001b[0;32m----> 5\u001b[0m     data_g \u001b[38;5;241m=\u001b[39m \u001b[43mlightcurve\u001b[49m\u001b[38;5;241;43m.\u001b[39;49m\u001b[43mLCQuery\u001b[49m\u001b[38;5;241;43m.\u001b[39;49m\u001b[43mdownload_data\u001b[49m\u001b[43m(\u001b[49m\u001b[43mcircle\u001b[49m\u001b[38;5;241;43m=\u001b[39;49m\u001b[43m[\u001b[49m\u001b[43mCLAGN_list202206\u001b[49m\u001b[38;5;241;43m.\u001b[39;49m\u001b[43mloc\u001b[49m\u001b[43m[\u001b[49m\u001b[43mName_index\u001b[49m\u001b[43m,\u001b[49m\u001b[38;5;124;43m'\u001b[39;49m\u001b[38;5;124;43mra_deg\u001b[39;49m\u001b[38;5;124;43m'\u001b[39;49m\u001b[43m]\u001b[49m\u001b[43m,\u001b[49m\n\u001b[1;32m      6\u001b[0m \u001b[43m                                                      \u001b[49m\u001b[43mCLAGN_list202206\u001b[49m\u001b[38;5;241;43m.\u001b[39;49m\u001b[43mloc\u001b[49m\u001b[43m[\u001b[49m\u001b[43mName_index\u001b[49m\u001b[43m,\u001b[49m\u001b[38;5;124;43m'\u001b[39;49m\u001b[38;5;124;43mdec_deg\u001b[39;49m\u001b[38;5;124;43m'\u001b[39;49m\u001b[43m]\u001b[49m\u001b[43m,\u001b[49m\u001b[38;5;241;43m1.0\u001b[39;49m\u001b[38;5;241;43m/\u001b[39;49m\u001b[38;5;241;43m3600\u001b[39;49m\u001b[43m]\u001b[49m\u001b[43m,\u001b[49m\u001b[43m \u001b[49m\n\u001b[1;32m      7\u001b[0m \u001b[43m                                          \u001b[49m\u001b[43mbandname\u001b[49m\u001b[38;5;241;43m=\u001b[39;49m\u001b[38;5;124;43m'\u001b[39;49m\u001b[38;5;124;43mg,i,r\u001b[39;49m\u001b[38;5;124;43m'\u001b[39;49m\u001b[43m,\u001b[49m\u001b[43mBAD_CATFLAGS_MASK\u001b[49m\u001b[38;5;241;43m=\u001b[39;49m\u001b[38;5;241;43m0\u001b[39;49m\u001b[43m)\u001b[49m\n\u001b[1;32m      8\u001b[0m     data_g\u001b[38;5;241m.\u001b[39mto_csv(\u001b[38;5;124m'\u001b[39m\u001b[38;5;132;01m%s\u001b[39;00m\u001b[38;5;124m/\u001b[39m\u001b[38;5;132;01m%s\u001b[39;00m\u001b[38;5;124m_gir.csv\u001b[39m\u001b[38;5;124m'\u001b[39m\u001b[38;5;241m%\u001b[39m(CLAGN_Candidate_BAT_ZTF_dir_2,save_name),index\u001b[38;5;241m=\u001b[39m\u001b[38;5;28;01mFalse\u001b[39;00m) \n\u001b[1;32m      9\u001b[0m     time\u001b[38;5;241m.\u001b[39msleep(\u001b[38;5;241m1\u001b[39m\u001b[38;5;241m+\u001b[39mnp\u001b[38;5;241m.\u001b[39mrandom\u001b[38;5;241m.\u001b[39mrandint(\u001b[38;5;241m3\u001b[39m,\u001b[38;5;241m10\u001b[39m))  \n",
      "File \u001b[0;32m~/opt/anaconda3/lib/python3.9/site-packages/ztfquery/lightcurve.py:302\u001b[0m, in \u001b[0;36mLCQuery.download_data\u001b[0;34m(cookies, auth, **kwargs)\u001b[0m\n\u001b[1;32m    300\u001b[0m         \u001b[38;5;28;01mfrom\u001b[39;00m \u001b[38;5;21;01m.\u001b[39;00m\u001b[38;5;21;01mio\u001b[39;00m \u001b[38;5;28;01mimport\u001b[39;00m _load_id_\n\u001b[1;32m    301\u001b[0m         auth \u001b[38;5;241m=\u001b[39m _load_id_(\u001b[38;5;124m\"\u001b[39m\u001b[38;5;124mirsa\u001b[39m\u001b[38;5;124m\"\u001b[39m)\n\u001b[0;32m--> 302\u001b[0m     cookies \u001b[38;5;241m=\u001b[39m \u001b[43mget_cookie\u001b[49m\u001b[43m(\u001b[49m\u001b[38;5;241;43m*\u001b[39;49m\u001b[43mauth\u001b[49m\u001b[43m)\u001b[49m\n\u001b[1;32m    304\u001b[0m input_query \u001b[38;5;241m=\u001b[39m {k\u001b[38;5;241m.\u001b[39mupper():v \u001b[38;5;28;01mfor\u001b[39;00m k,v \u001b[38;5;129;01min\u001b[39;00m kwargs\u001b[38;5;241m.\u001b[39mitems()}\n\u001b[1;32m    306\u001b[0m \u001b[38;5;66;03m# - Build query\u001b[39;00m\n",
      "File \u001b[0;32m~/opt/anaconda3/lib/python3.9/site-packages/ztfquery/io.py:610\u001b[0m, in \u001b[0;36mget_cookie\u001b[0;34m(username, password)\u001b[0m\n\u001b[1;32m    600\u001b[0m \u001b[38;5;124;03m\"\"\"Get a cookie from the IPAC login service\u001b[39;00m\n\u001b[1;32m    601\u001b[0m \n\u001b[1;32m    602\u001b[0m \u001b[38;5;124;03mParameters\u001b[39;00m\n\u001b[0;32m   (...)\u001b[0m\n\u001b[1;32m    607\u001b[0m \u001b[38;5;124;03m    The IPAC account password\u001b[39;00m\n\u001b[1;32m    608\u001b[0m \u001b[38;5;124;03m\"\"\"\u001b[39;00m\n\u001b[1;32m    609\u001b[0m url \u001b[38;5;241m=\u001b[39m \u001b[38;5;124m\"\u001b[39m\u001b[38;5;132;01m%s\u001b[39;00m\u001b[38;5;124m?josso_cmd=login&josso_username=\u001b[39m\u001b[38;5;132;01m%s\u001b[39;00m\u001b[38;5;124m&josso_password=\u001b[39m\u001b[38;5;132;01m%s\u001b[39;00m\u001b[38;5;124m\"\u001b[39m \u001b[38;5;241m%\u001b[39m (LOGIN_URL, username, password)\n\u001b[0;32m--> 610\u001b[0m \u001b[38;5;28;01mreturn\u001b[39;00m \u001b[43mrequests\u001b[49m\u001b[38;5;241;43m.\u001b[39;49m\u001b[43mget\u001b[49m\u001b[43m(\u001b[49m\u001b[43murl\u001b[49m\u001b[43m)\u001b[49m\u001b[38;5;241m.\u001b[39mcookies\n",
      "File \u001b[0;32m~/opt/anaconda3/lib/python3.9/site-packages/requests/api.py:75\u001b[0m, in \u001b[0;36mget\u001b[0;34m(url, params, **kwargs)\u001b[0m\n\u001b[1;32m     64\u001b[0m \u001b[38;5;28;01mdef\u001b[39;00m \u001b[38;5;21mget\u001b[39m(url, params\u001b[38;5;241m=\u001b[39m\u001b[38;5;28;01mNone\u001b[39;00m, \u001b[38;5;241m*\u001b[39m\u001b[38;5;241m*\u001b[39mkwargs):\n\u001b[1;32m     65\u001b[0m     \u001b[38;5;124mr\u001b[39m\u001b[38;5;124;03m\"\"\"Sends a GET request.\u001b[39;00m\n\u001b[1;32m     66\u001b[0m \n\u001b[1;32m     67\u001b[0m \u001b[38;5;124;03m    :param url: URL for the new :class:`Request` object.\u001b[39;00m\n\u001b[0;32m   (...)\u001b[0m\n\u001b[1;32m     72\u001b[0m \u001b[38;5;124;03m    :rtype: requests.Response\u001b[39;00m\n\u001b[1;32m     73\u001b[0m \u001b[38;5;124;03m    \"\"\"\u001b[39;00m\n\u001b[0;32m---> 75\u001b[0m     \u001b[38;5;28;01mreturn\u001b[39;00m \u001b[43mrequest\u001b[49m\u001b[43m(\u001b[49m\u001b[38;5;124;43m'\u001b[39;49m\u001b[38;5;124;43mget\u001b[39;49m\u001b[38;5;124;43m'\u001b[39;49m\u001b[43m,\u001b[49m\u001b[43m \u001b[49m\u001b[43murl\u001b[49m\u001b[43m,\u001b[49m\u001b[43m \u001b[49m\u001b[43mparams\u001b[49m\u001b[38;5;241;43m=\u001b[39;49m\u001b[43mparams\u001b[49m\u001b[43m,\u001b[49m\u001b[43m \u001b[49m\u001b[38;5;241;43m*\u001b[39;49m\u001b[38;5;241;43m*\u001b[39;49m\u001b[43mkwargs\u001b[49m\u001b[43m)\u001b[49m\n",
      "File \u001b[0;32m~/opt/anaconda3/lib/python3.9/site-packages/requests/api.py:61\u001b[0m, in \u001b[0;36mrequest\u001b[0;34m(method, url, **kwargs)\u001b[0m\n\u001b[1;32m     57\u001b[0m \u001b[38;5;66;03m# By using the 'with' statement we are sure the session is closed, thus we\u001b[39;00m\n\u001b[1;32m     58\u001b[0m \u001b[38;5;66;03m# avoid leaving sockets open which can trigger a ResourceWarning in some\u001b[39;00m\n\u001b[1;32m     59\u001b[0m \u001b[38;5;66;03m# cases, and look like a memory leak in others.\u001b[39;00m\n\u001b[1;32m     60\u001b[0m \u001b[38;5;28;01mwith\u001b[39;00m sessions\u001b[38;5;241m.\u001b[39mSession() \u001b[38;5;28;01mas\u001b[39;00m session:\n\u001b[0;32m---> 61\u001b[0m     \u001b[38;5;28;01mreturn\u001b[39;00m \u001b[43msession\u001b[49m\u001b[38;5;241;43m.\u001b[39;49m\u001b[43mrequest\u001b[49m\u001b[43m(\u001b[49m\u001b[43mmethod\u001b[49m\u001b[38;5;241;43m=\u001b[39;49m\u001b[43mmethod\u001b[49m\u001b[43m,\u001b[49m\u001b[43m \u001b[49m\u001b[43murl\u001b[49m\u001b[38;5;241;43m=\u001b[39;49m\u001b[43murl\u001b[49m\u001b[43m,\u001b[49m\u001b[43m \u001b[49m\u001b[38;5;241;43m*\u001b[39;49m\u001b[38;5;241;43m*\u001b[39;49m\u001b[43mkwargs\u001b[49m\u001b[43m)\u001b[49m\n",
      "File \u001b[0;32m~/opt/anaconda3/lib/python3.9/site-packages/requests/sessions.py:529\u001b[0m, in \u001b[0;36mSession.request\u001b[0;34m(self, method, url, params, data, headers, cookies, files, auth, timeout, allow_redirects, proxies, hooks, stream, verify, cert, json)\u001b[0m\n\u001b[1;32m    524\u001b[0m send_kwargs \u001b[38;5;241m=\u001b[39m {\n\u001b[1;32m    525\u001b[0m     \u001b[38;5;124m'\u001b[39m\u001b[38;5;124mtimeout\u001b[39m\u001b[38;5;124m'\u001b[39m: timeout,\n\u001b[1;32m    526\u001b[0m     \u001b[38;5;124m'\u001b[39m\u001b[38;5;124mallow_redirects\u001b[39m\u001b[38;5;124m'\u001b[39m: allow_redirects,\n\u001b[1;32m    527\u001b[0m }\n\u001b[1;32m    528\u001b[0m send_kwargs\u001b[38;5;241m.\u001b[39mupdate(settings)\n\u001b[0;32m--> 529\u001b[0m resp \u001b[38;5;241m=\u001b[39m \u001b[38;5;28;43mself\u001b[39;49m\u001b[38;5;241;43m.\u001b[39;49m\u001b[43msend\u001b[49m\u001b[43m(\u001b[49m\u001b[43mprep\u001b[49m\u001b[43m,\u001b[49m\u001b[43m \u001b[49m\u001b[38;5;241;43m*\u001b[39;49m\u001b[38;5;241;43m*\u001b[39;49m\u001b[43msend_kwargs\u001b[49m\u001b[43m)\u001b[49m\n\u001b[1;32m    531\u001b[0m \u001b[38;5;28;01mreturn\u001b[39;00m resp\n",
      "File \u001b[0;32m~/opt/anaconda3/lib/python3.9/site-packages/requests/sessions.py:645\u001b[0m, in \u001b[0;36mSession.send\u001b[0;34m(self, request, **kwargs)\u001b[0m\n\u001b[1;32m    642\u001b[0m start \u001b[38;5;241m=\u001b[39m preferred_clock()\n\u001b[1;32m    644\u001b[0m \u001b[38;5;66;03m# Send the request\u001b[39;00m\n\u001b[0;32m--> 645\u001b[0m r \u001b[38;5;241m=\u001b[39m \u001b[43madapter\u001b[49m\u001b[38;5;241;43m.\u001b[39;49m\u001b[43msend\u001b[49m\u001b[43m(\u001b[49m\u001b[43mrequest\u001b[49m\u001b[43m,\u001b[49m\u001b[43m \u001b[49m\u001b[38;5;241;43m*\u001b[39;49m\u001b[38;5;241;43m*\u001b[39;49m\u001b[43mkwargs\u001b[49m\u001b[43m)\u001b[49m\n\u001b[1;32m    647\u001b[0m \u001b[38;5;66;03m# Total elapsed time of the request (approximately)\u001b[39;00m\n\u001b[1;32m    648\u001b[0m elapsed \u001b[38;5;241m=\u001b[39m preferred_clock() \u001b[38;5;241m-\u001b[39m start\n",
      "File \u001b[0;32m~/opt/anaconda3/lib/python3.9/site-packages/requests/adapters.py:519\u001b[0m, in \u001b[0;36mHTTPAdapter.send\u001b[0;34m(self, request, stream, timeout, verify, cert, proxies)\u001b[0m\n\u001b[1;32m    515\u001b[0m     \u001b[38;5;28;01mif\u001b[39;00m \u001b[38;5;28misinstance\u001b[39m(e\u001b[38;5;241m.\u001b[39mreason, _SSLError):\n\u001b[1;32m    516\u001b[0m         \u001b[38;5;66;03m# This branch is for urllib3 v1.22 and later.\u001b[39;00m\n\u001b[1;32m    517\u001b[0m         \u001b[38;5;28;01mraise\u001b[39;00m SSLError(e, request\u001b[38;5;241m=\u001b[39mrequest)\n\u001b[0;32m--> 519\u001b[0m     \u001b[38;5;28;01mraise\u001b[39;00m \u001b[38;5;167;01mConnectionError\u001b[39;00m(e, request\u001b[38;5;241m=\u001b[39mrequest)\n\u001b[1;32m    521\u001b[0m \u001b[38;5;28;01mexcept\u001b[39;00m ClosedPoolError \u001b[38;5;28;01mas\u001b[39;00m e:\n\u001b[1;32m    522\u001b[0m     \u001b[38;5;28;01mraise\u001b[39;00m \u001b[38;5;167;01mConnectionError\u001b[39;00m(e, request\u001b[38;5;241m=\u001b[39mrequest)\n",
      "\u001b[0;31mConnectionError\u001b[0m: HTTPSConnectionPool(host='irsa.ipac.caltech.edu', port=443): Max retries exceeded with url: /account/signon/login.do?josso_cmd=login&josso_username=lyubing@hust.edu.cn&josso_password=qwe123irsa (Caused by NewConnectionError('<urllib3.connection.HTTPSConnection object at 0x7faa88a8df10>: Failed to establish a new connection: [Errno 60] Operation timed out'))"
     ]
    }
   ],
   "source": [
    "for Name_index,name in enumerate(CLAGN_list202206['Name']):\n",
    "    save_name=name.strip().replace(' ','_')\n",
    "    \n",
    "    if not os.path.exists('%s/%s_gir.csv'%(CLAGN_Candidate_BAT_ZTF_dir_2,save_name)):\n",
    "        data_g = lightcurve.LCQuery.download_data(circle=[CLAGN_list202206.loc[Name_index,'ra_deg'],\n",
    "                                                          CLAGN_list202206.loc[Name_index,'dec_deg'],1.0/3600], \n",
    "                                              bandname='g,i,r',BAD_CATFLAGS_MASK=0)\n",
    "        data_g.to_csv('%s/%s_gir.csv'%(CLAGN_Candidate_BAT_ZTF_dir_2,save_name),index=False) \n",
    "        time.sleep(1+np.random.randint(3,10))  \n",
    "    else:\n",
    "        time.sleep(2)\n",
    "    "
   ]
  },
  {
   "cell_type": "code",
   "execution_count": null,
   "metadata": {},
   "outputs": [],
   "source": []
  }
 ],
 "metadata": {
  "kernelspec": {
   "display_name": "Python 3 (ipykernel)",
   "language": "python",
   "name": "python3"
  },
  "language_info": {
   "codemirror_mode": {
    "name": "ipython",
    "version": 3
   },
   "file_extension": ".py",
   "mimetype": "text/x-python",
   "name": "python",
   "nbconvert_exporter": "python",
   "pygments_lexer": "ipython3",
   "version": "3.9.12"
  },
  "latex_envs": {
   "LaTeX_envs_menu_present": true,
   "autoclose": false,
   "autocomplete": true,
   "bibliofile": "biblio.bib",
   "cite_by": "apalike",
   "current_citInitial": 1,
   "eqLabelWithNumbers": true,
   "eqNumInitial": 1,
   "hotkeys": {
    "equation": "Ctrl-E",
    "itemize": "Ctrl-I"
   },
   "labels_anchors": false,
   "latex_user_defs": false,
   "report_style_numbering": false,
   "user_envs_cfg": false
  },
  "toc": {
   "base_numbering": 1,
   "nav_menu": {},
   "number_sections": true,
   "sideBar": true,
   "skip_h1_title": false,
   "title_cell": "Table of Contents",
   "title_sidebar": "Contents",
   "toc_cell": false,
   "toc_position": {
    "height": "414.719px",
    "left": "0px",
    "right": "1016px",
    "top": "160.281px",
    "width": "290px"
   },
   "toc_section_display": "block",
   "toc_window_display": true
  }
 },
 "nbformat": 4,
 "nbformat_minor": 2
}
