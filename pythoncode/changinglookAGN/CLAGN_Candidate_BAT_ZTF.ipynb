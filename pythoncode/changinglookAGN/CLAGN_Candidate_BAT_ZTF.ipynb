{
 "cells": [
  {
   "cell_type": "code",
   "execution_count": 5,
   "metadata": {
    "ExecuteTime": {
     "end_time": "2022-08-06T12:50:35.153781Z",
     "start_time": "2022-08-06T12:50:33.624193Z"
    }
   },
   "outputs": [],
   "source": [
    "import pandas as pd\n",
    "import numpy as np\n",
    "\n",
    "import time\n",
    "import os\n",
    "import sys\n",
    "\n",
    "from astropy import config as _config\n",
    "from astroquery.irsa import Irsa   \n",
    "from astropy import units as u\n",
    "from astropy.coordinates import SkyCoord"
   ]
  },
  {
   "cell_type": "code",
   "execution_count": null,
   "metadata": {},
   "outputs": [],
   "source": [
    "from astroquery.ned import Ned"
   ]
  },
  {
   "cell_type": "markdown",
   "metadata": {},
   "source": [
    "# ztfquery"
   ]
  },
  {
   "cell_type": "code",
   "execution_count": 4,
   "metadata": {
    "ExecuteTime": {
     "end_time": "2022-08-06T12:50:20.764785Z",
     "start_time": "2022-08-06T12:50:19.059539Z"
    }
   },
   "outputs": [],
   "source": [
    "from ztfquery import lightcurve"
   ]
  },
  {
   "cell_type": "markdown",
   "metadata": {},
   "source": [
    "[ztf_api](https://irsa.ipac.caltech.edu/docs/program_interface/ztf_lightcurve_api.html)"
   ]
  },
  {
   "cell_type": "code",
   "execution_count": 71,
   "metadata": {
    "ExecuteTime": {
     "end_time": "2022-08-08T07:35:53.051286Z",
     "start_time": "2022-08-08T07:35:52.892931Z"
    }
   },
   "outputs": [
    {
     "name": "stdout",
     "output_type": "stream",
     "text": [
      "/Volumes/ExtremeSSD/ZTFdata/\r\n"
     ]
    }
   ],
   "source": [
    "!echo $ZTFDATA"
   ]
  },
  {
   "cell_type": "code",
   "execution_count": null,
   "metadata": {},
   "outputs": [],
   "source": []
  },
  {
   "cell_type": "code",
   "execution_count": 15,
   "metadata": {
    "ExecuteTime": {
     "end_time": "2022-08-06T13:17:52.994395Z",
     "start_time": "2022-08-06T13:17:52.939656Z"
    }
   },
   "outputs": [],
   "source": []
  },
  {
   "cell_type": "code",
   "execution_count": 17,
   "metadata": {
    "ExecuteTime": {
     "end_time": "2022-08-06T13:19:12.253628Z",
     "start_time": "2022-08-06T13:19:11.260775Z"
    }
   },
   "outputs": [
    {
     "name": "stderr",
     "output_type": "stream",
     "text": [
      "WARNING: AstropyDeprecationWarning: \"pedantic\" was deprecated in version 5.0 and will be removed in a future version. Use argument \"verify\" instead. [astroquery.ned.core]\n"
     ]
    }
   ],
   "source": [
    "table_=Ned.query_object('Mrk 1018')"
   ]
  },
  {
   "cell_type": "code",
   "execution_count": 18,
   "metadata": {
    "ExecuteTime": {
     "end_time": "2022-08-06T13:19:14.752227Z",
     "start_time": "2022-08-06T13:19:14.742690Z"
    }
   },
   "outputs": [
    {
     "data": {
      "text/html": [
       "<div><i>Table length=1</i>\n",
       "<table id=\"table4525229056\" class=\"table-striped table-bordered table-condensed\">\n",
       "<thead><tr><th>No.</th><th>Object Name</th><th>RA</th><th>DEC</th><th>Type</th><th>Velocity</th><th>Redshift</th><th>Redshift Flag</th><th>Magnitude and Filter</th><th>Separation</th><th>References</th><th>Notes</th><th>Photometry Points</th><th>Positions</th><th>Redshift Points</th><th>Diameter Points</th><th>Associations</th></tr></thead>\n",
       "<thead><tr><th></th><th></th><th>degrees</th><th>degrees</th><th></th><th>km / s</th><th></th><th></th><th></th><th>arcmin</th><th></th><th></th><th></th><th></th><th></th><th></th><th></th></tr></thead>\n",
       "<thead><tr><th>int32</th><th>str30</th><th>float64</th><th>float64</th><th>object</th><th>float64</th><th>float64</th><th>object</th><th>object</th><th>float64</th><th>int32</th><th>int32</th><th>int32</th><th>int32</th><th>int32</th><th>int32</th><th>int32</th></tr></thead>\n",
       "<tr><td>1</td><td>UGC 01597</td><td>31.56662</td><td>-0.29144</td><td>G</td><td>12878.0</td><td>0.042957</td><td>SPEC</td><td>14.2g</td><td>--</td><td>269</td><td>1</td><td>138</td><td>46</td><td>42</td><td>13</td><td>0</td></tr>\n",
       "</table></div>"
      ],
      "text/plain": [
       "<Table length=1>\n",
       " No.  Object Name     RA     ... Redshift Points Diameter Points Associations\n",
       "                   degrees   ...                                             \n",
       "int32    str30     float64   ...      int32           int32         int32    \n",
       "----- ----------- ---------- ... --------------- --------------- ------------\n",
       "    1   UGC 01597   31.56662 ...              42              13            0"
      ]
     },
     "execution_count": 18,
     "metadata": {},
     "output_type": "execute_result"
    }
   ],
   "source": [
    "table_"
   ]
  },
  {
   "cell_type": "code",
   "execution_count": 35,
   "metadata": {
    "ExecuteTime": {
     "end_time": "2022-08-06T13:51:04.539811Z",
     "start_time": "2022-08-06T13:51:04.534632Z"
    }
   },
   "outputs": [],
   "source": [
    "os.mkdir('/Volumes/ExtremeSSD/CLAGN_individual/CL_candidate/CLAGN_BAT_candidate/ZTF/')"
   ]
  },
  {
   "cell_type": "code",
   "execution_count": 37,
   "metadata": {
    "ExecuteTime": {
     "end_time": "2022-08-06T13:52:33.618955Z",
     "start_time": "2022-08-06T13:52:33.615645Z"
    }
   },
   "outputs": [],
   "source": [
    "CLAGN_Candidate_BAT_ZTF_dir='/Volumes/ExtremeSSD/CLAGN_individual/CL_candidate/CLAGN_BAT_candidate/ZTF'"
   ]
  },
  {
   "cell_type": "code",
   "execution_count": 62,
   "metadata": {
    "ExecuteTime": {
     "end_time": "2022-08-06T14:29:47.381101Z",
     "start_time": "2022-08-06T14:29:47.371061Z"
    }
   },
   "outputs": [],
   "source": [
    "CLAGN_Candidate_BAT_ZTF_dir_1='/Volumes/ExtremeSSD/CLAGN_individual/CL_candidate/CLAGN_BAT_candidate/ZTF_catflags=0/'"
   ]
  },
  {
   "cell_type": "code",
   "execution_count": null,
   "metadata": {},
   "outputs": [],
   "source": []
  },
  {
   "cell_type": "code",
   "execution_count": null,
   "metadata": {},
   "outputs": [],
   "source": []
  },
  {
   "cell_type": "code",
   "execution_count": 13,
   "metadata": {
    "ExecuteTime": {
     "end_time": "2022-08-06T13:12:06.609741Z",
     "start_time": "2022-08-06T13:12:06.520182Z"
    }
   },
   "outputs": [],
   "source": [
    "CLAGN_Candidate_BAT=pd.read_excel('/Volumes/ExtremeSSD/CLAGN_individual/CL_candidate/CLAGN_BAT_candidate/BAT_CLAGN_CANDIDATE.xlsx',\n",
    "                                 )#dtype={'P-value':float}"
   ]
  },
  {
   "cell_type": "code",
   "execution_count": 19,
   "metadata": {
    "ExecuteTime": {
     "end_time": "2022-08-06T13:19:32.805871Z",
     "start_time": "2022-08-06T13:19:22.258897Z"
    }
   },
   "outputs": [
    {
     "name": "stderr",
     "output_type": "stream",
     "text": [
      "WARNING: AstropyDeprecationWarning: \"pedantic\" was deprecated in version 5.0 and will be removed in a future version. Use argument \"verify\" instead. [astroquery.ned.core]\n",
      "WARNING: AstropyDeprecationWarning: \"pedantic\" was deprecated in version 5.0 and will be removed in a future version. Use argument \"verify\" instead. [astroquery.ned.core]\n",
      "WARNING: AstropyDeprecationWarning: \"pedantic\" was deprecated in version 5.0 and will be removed in a future version. Use argument \"verify\" instead. [astroquery.ned.core]\n",
      "WARNING: AstropyDeprecationWarning: \"pedantic\" was deprecated in version 5.0 and will be removed in a future version. Use argument \"verify\" instead. [astroquery.ned.core]\n",
      "WARNING: AstropyDeprecationWarning: \"pedantic\" was deprecated in version 5.0 and will be removed in a future version. Use argument \"verify\" instead. [astroquery.ned.core]\n",
      "WARNING: AstropyDeprecationWarning: \"pedantic\" was deprecated in version 5.0 and will be removed in a future version. Use argument \"verify\" instead. [astroquery.ned.core]\n",
      "WARNING: AstropyDeprecationWarning: \"pedantic\" was deprecated in version 5.0 and will be removed in a future version. Use argument \"verify\" instead. [astroquery.ned.core]\n",
      "WARNING: AstropyDeprecationWarning: \"pedantic\" was deprecated in version 5.0 and will be removed in a future version. Use argument \"verify\" instead. [astroquery.ned.core]\n",
      "WARNING: AstropyDeprecationWarning: \"pedantic\" was deprecated in version 5.0 and will be removed in a future version. Use argument \"verify\" instead. [astroquery.ned.core]\n",
      "WARNING: AstropyDeprecationWarning: \"pedantic\" was deprecated in version 5.0 and will be removed in a future version. Use argument \"verify\" instead. [astroquery.ned.core]\n",
      "WARNING: AstropyDeprecationWarning: \"pedantic\" was deprecated in version 5.0 and will be removed in a future version. Use argument \"verify\" instead. [astroquery.ned.core]\n",
      "WARNING: AstropyDeprecationWarning: \"pedantic\" was deprecated in version 5.0 and will be removed in a future version. Use argument \"verify\" instead. [astroquery.ned.core]\n",
      "WARNING: AstropyDeprecationWarning: \"pedantic\" was deprecated in version 5.0 and will be removed in a future version. Use argument \"verify\" instead. [astroquery.ned.core]\n",
      "WARNING: AstropyDeprecationWarning: \"pedantic\" was deprecated in version 5.0 and will be removed in a future version. Use argument \"verify\" instead. [astroquery.ned.core]\n",
      "WARNING: AstropyDeprecationWarning: \"pedantic\" was deprecated in version 5.0 and will be removed in a future version. Use argument \"verify\" instead. [astroquery.ned.core]\n",
      "WARNING: AstropyDeprecationWarning: \"pedantic\" was deprecated in version 5.0 and will be removed in a future version. Use argument \"verify\" instead. [astroquery.ned.core]\n",
      "WARNING: AstropyDeprecationWarning: \"pedantic\" was deprecated in version 5.0 and will be removed in a future version. Use argument \"verify\" instead. [astroquery.ned.core]\n",
      "WARNING: AstropyDeprecationWarning: \"pedantic\" was deprecated in version 5.0 and will be removed in a future version. Use argument \"verify\" instead. [astroquery.ned.core]\n",
      "WARNING: AstropyDeprecationWarning: \"pedantic\" was deprecated in version 5.0 and will be removed in a future version. Use argument \"verify\" instead. [astroquery.ned.core]\n",
      "WARNING: AstropyDeprecationWarning: \"pedantic\" was deprecated in version 5.0 and will be removed in a future version. Use argument \"verify\" instead. [astroquery.ned.core]\n",
      "WARNING: AstropyDeprecationWarning: \"pedantic\" was deprecated in version 5.0 and will be removed in a future version. Use argument \"verify\" instead. [astroquery.ned.core]\n",
      "WARNING: AstropyDeprecationWarning: \"pedantic\" was deprecated in version 5.0 and will be removed in a future version. Use argument \"verify\" instead. [astroquery.ned.core]\n",
      "WARNING: AstropyDeprecationWarning: \"pedantic\" was deprecated in version 5.0 and will be removed in a future version. Use argument \"verify\" instead. [astroquery.ned.core]\n",
      "WARNING: AstropyDeprecationWarning: \"pedantic\" was deprecated in version 5.0 and will be removed in a future version. Use argument \"verify\" instead. [astroquery.ned.core]\n",
      "WARNING: AstropyDeprecationWarning: \"pedantic\" was deprecated in version 5.0 and will be removed in a future version. Use argument \"verify\" instead. [astroquery.ned.core]\n",
      "WARNING: AstropyDeprecationWarning: \"pedantic\" was deprecated in version 5.0 and will be removed in a future version. Use argument \"verify\" instead. [astroquery.ned.core]\n"
     ]
    }
   ],
   "source": [
    "for index,name in enumerate(CLAGN_Candidate_BAT['AGN']):\n",
    "    result_table = Ned.query_object(name)\n",
    "    CLAGN_Candidate_BAT.loc[index,'ra']=result_table['RA'].data[0]\n",
    "    CLAGN_Candidate_BAT.loc[index,'dec']=result_table['DEC'].data[0]"
   ]
  },
  {
   "cell_type": "code",
   "execution_count": 20,
   "metadata": {
    "ExecuteTime": {
     "end_time": "2022-08-06T13:19:36.107583Z",
     "start_time": "2022-08-06T13:19:36.102371Z"
    }
   },
   "outputs": [
    {
     "data": {
      "text/plain": [
       "Index(['AGN', 'Type', 'Redshift', 'Luminosity', 'P-value', 'ra', 'dec'], dtype='object')"
      ]
     },
     "execution_count": 20,
     "metadata": {},
     "output_type": "execute_result"
    }
   ],
   "source": [
    "CLAGN_Candidate_BAT.columns"
   ]
  },
  {
   "cell_type": "code",
   "execution_count": 21,
   "metadata": {
    "ExecuteTime": {
     "end_time": "2022-08-06T13:19:42.828932Z",
     "start_time": "2022-08-06T13:19:42.808838Z"
    }
   },
   "outputs": [
    {
     "data": {
      "text/html": [
       "<div>\n",
       "<style scoped>\n",
       "    .dataframe tbody tr th:only-of-type {\n",
       "        vertical-align: middle;\n",
       "    }\n",
       "\n",
       "    .dataframe tbody tr th {\n",
       "        vertical-align: top;\n",
       "    }\n",
       "\n",
       "    .dataframe thead th {\n",
       "        text-align: right;\n",
       "    }\n",
       "</style>\n",
       "<table border=\"1\" class=\"dataframe\">\n",
       "  <thead>\n",
       "    <tr style=\"text-align: right;\">\n",
       "      <th></th>\n",
       "      <th>AGN</th>\n",
       "      <th>Type</th>\n",
       "      <th>Redshift</th>\n",
       "      <th>Luminosity</th>\n",
       "      <th>P-value</th>\n",
       "      <th>ra</th>\n",
       "      <th>dec</th>\n",
       "    </tr>\n",
       "  </thead>\n",
       "  <tbody>\n",
       "    <tr>\n",
       "      <th>0</th>\n",
       "      <td>NGC 526A</td>\n",
       "      <td>Sy 2.0</td>\n",
       "      <td>0.0191</td>\n",
       "      <td>43.78</td>\n",
       "      <td>0.0</td>\n",
       "      <td>20.97664</td>\n",
       "      <td>-35.06553</td>\n",
       "    </tr>\n",
       "    <tr>\n",
       "      <th>1</th>\n",
       "      <td>NGC 5548</td>\n",
       "      <td>Sy 1.5</td>\n",
       "      <td>0.0172</td>\n",
       "      <td>43.76</td>\n",
       "      <td>0.0</td>\n",
       "      <td>214.49806</td>\n",
       "      <td>25.13679</td>\n",
       "    </tr>\n",
       "    <tr>\n",
       "      <th>2</th>\n",
       "      <td>NGC 4151</td>\n",
       "      <td>Sy 1.5</td>\n",
       "      <td>0.0033</td>\n",
       "      <td>43.17</td>\n",
       "      <td>0.0</td>\n",
       "      <td>182.63574</td>\n",
       "      <td>39.40573</td>\n",
       "    </tr>\n",
       "    <tr>\n",
       "      <th>3</th>\n",
       "      <td>NGC 973</td>\n",
       "      <td>Sy 2.0</td>\n",
       "      <td>0.0162</td>\n",
       "      <td>43.46</td>\n",
       "      <td>0.0</td>\n",
       "      <td>38.58379</td>\n",
       "      <td>32.50561</td>\n",
       "    </tr>\n",
       "    <tr>\n",
       "      <th>4</th>\n",
       "      <td>WKK 4374</td>\n",
       "      <td>Sy 1.9</td>\n",
       "      <td>0.0180</td>\n",
       "      <td>43.27</td>\n",
       "      <td>0.000001</td>\n",
       "      <td>222.88805</td>\n",
       "      <td>-55.67733</td>\n",
       "    </tr>\n",
       "  </tbody>\n",
       "</table>\n",
       "</div>"
      ],
      "text/plain": [
       "        AGN    Type  Redshift  Luminosity   P-value         ra       dec\n",
       "0  NGC 526A  Sy 2.0    0.0191       43.78       0.0   20.97664 -35.06553\n",
       "1  NGC 5548  Sy 1.5    0.0172       43.76       0.0  214.49806  25.13679\n",
       "2  NGC 4151  Sy 1.5    0.0033       43.17       0.0  182.63574  39.40573\n",
       "3   NGC 973  Sy 2.0    0.0162       43.46       0.0   38.58379  32.50561\n",
       "4  WKK 4374  Sy 1.9    0.0180       43.27  0.000001  222.88805 -55.67733"
      ]
     },
     "execution_count": 21,
     "metadata": {},
     "output_type": "execute_result"
    }
   ],
   "source": [
    "CLAGN_Candidate_BAT.head()"
   ]
  },
  {
   "cell_type": "markdown",
   "metadata": {
    "ExecuteTime": {
     "end_time": "2022-08-08T07:19:25.685409Z",
     "start_time": "2022-08-08T07:19:25.482170Z"
    }
   },
   "source": [
    "curl -X POST ztf.alerce.online/get_detections -d @- << EOF\n",
    "{\n",
    "   \"oid\":\"ZTF18aaaadvs\"\n",
    "}\n",
    "EOF"
   ]
  },
  {
   "cell_type": "code",
   "execution_count": null,
   "metadata": {},
   "outputs": [],
   "source": [
    "182.63574 39.40573"
   ]
  },
  {
   "cell_type": "code",
   "execution_count": 3,
   "metadata": {
    "ExecuteTime": {
     "end_time": "2022-08-06T12:48:15.849291Z",
     "start_time": "2022-08-06T12:48:15.841845Z"
    }
   },
   "outputs": [
    {
     "data": {
      "text/plain": [
       "(0.0008333333333333334, 0.0002777777777777778)"
      ]
     },
     "execution_count": 3,
     "metadata": {},
     "output_type": "execute_result"
    }
   ],
   "source": [
    "3.0/3600,1/3600"
   ]
  },
  {
   "cell_type": "markdown",
   "metadata": {},
   "source": [
    "# ZTF"
   ]
  },
  {
   "cell_type": "markdown",
   "metadata": {},
   "source": [
    "## NGC 4151"
   ]
  },
  {
   "cell_type": "code",
   "execution_count": 23,
   "metadata": {
    "ExecuteTime": {
     "end_time": "2022-08-06T13:33:06.916069Z",
     "start_time": "2022-08-06T13:33:06.908739Z"
    }
   },
   "outputs": [
    {
     "name": "stdout",
     "output_type": "stream",
     "text": [
      "NGC 4151\n"
     ]
    },
    {
     "data": {
      "text/plain": [
       "(182.63574, 39.40573)"
      ]
     },
     "execution_count": 23,
     "metadata": {},
     "output_type": "execute_result"
    }
   ],
   "source": [
    "Name_index=2\n",
    "print(CLAGN_Candidate_BAT.loc[Name_index,'AGN'])\n",
    "CLAGN_Candidate_BAT.loc[Name_index,'ra'],CLAGN_Candidate_BAT.loc[Name_index,'dec']"
   ]
  },
  {
   "cell_type": "code",
   "execution_count": 67,
   "metadata": {
    "ExecuteTime": {
     "end_time": "2022-08-08T07:27:08.659627Z",
     "start_time": "2022-08-08T07:27:00.809741Z"
    }
   },
   "outputs": [
    {
     "name": "stdout",
     "output_type": "stream",
     "text": [
      "NGC 4151\n",
      "182.63574 39.40573\n"
     ]
    },
    {
     "data": {
      "image/png": "[encoded data removed]",
      "text/plain": [
       "<Figure size 504x288 with 1 Axes>"
      ]
     },
     "metadata": {
      "needs_background": "light"
     },
     "output_type": "display_data"
    }
   ],
   "source": [
    "Name_index=2\n",
    "name=CLAGN_Candidate_BAT.loc[Name_index,'AGN']\n",
    "save_name=name.strip().replace(' ','_')\n",
    "\n",
    "\n",
    "print(CLAGN_Candidate_BAT.loc[Name_index,'AGN'])\n",
    "print(CLAGN_Candidate_BAT.loc[Name_index,'ra'],CLAGN_Candidate_BAT.loc[Name_index,'dec'])\n",
    "\n",
    "band='g'\n",
    "\n",
    "\n",
    "data_g = lightcurve.LCQuery.download_data(circle=[CLAGN_Candidate_BAT.loc[Name_index,'ra'],\n",
    "                                                  CLAGN_Candidate_BAT.loc[Name_index,'dec'],1.0/3600], \n",
    "                                          bandname=band,BAD_CATFLAGS_MASK=32768)\n",
    "ztflc_show_in_jupyter(data_g,name,band)\n",
    "\n",
    "#lc_g = lightcurve.LCQuery(data_g)\n",
    "\n",
    "#lc_g.show()"
   ]
  },
  {
   "cell_type": "code",
   "execution_count": 75,
   "metadata": {
    "ExecuteTime": {
     "end_time": "2022-08-08T07:41:09.878613Z",
     "start_time": "2022-08-08T07:41:09.874844Z"
    }
   },
   "outputs": [],
   "source": [
    "oids=[]\n",
    "for oid in data_g['oid']:\n",
    "    if oid not in oids:\n",
    "        oids.append(oid)"
   ]
  },
  {
   "cell_type": "code",
   "execution_count": 76,
   "metadata": {
    "ExecuteTime": {
     "end_time": "2022-08-08T07:41:13.257115Z",
     "start_time": "2022-08-08T07:41:13.250390Z"
    }
   },
   "outputs": [
    {
     "data": {
      "text/plain": [
       "[715107400005470, 1713113300001769]"
      ]
     },
     "execution_count": 76,
     "metadata": {},
     "output_type": "execute_result"
    }
   ],
   "source": [
    "oids"
   ]
  },
  {
   "cell_type": "code",
   "execution_count": 74,
   "metadata": {
    "ExecuteTime": {
     "end_time": "2022-08-08T07:40:32.792249Z",
     "start_time": "2022-08-08T07:40:32.776101Z"
    }
   },
   "outputs": [
    {
     "data": {
      "text/html": [
       "<div>\n",
       "<style scoped>\n",
       "    .dataframe tbody tr th:only-of-type {\n",
       "        vertical-align: middle;\n",
       "    }\n",
       "\n",
       "    .dataframe tbody tr th {\n",
       "        vertical-align: top;\n",
       "    }\n",
       "\n",
       "    .dataframe thead th {\n",
       "        text-align: right;\n",
       "    }\n",
       "</style>\n",
       "<table border=\"1\" class=\"dataframe\">\n",
       "  <thead>\n",
       "    <tr style=\"text-align: right;\">\n",
       "      <th></th>\n",
       "      <th>oid</th>\n",
       "      <th>expid</th>\n",
       "      <th>hjd</th>\n",
       "      <th>mjd</th>\n",
       "      <th>mag</th>\n",
       "      <th>magerr</th>\n",
       "      <th>catflags</th>\n",
       "      <th>filtercode</th>\n",
       "      <th>ra</th>\n",
       "      <th>dec</th>\n",
       "      <th>...</th>\n",
       "      <th>ccdid</th>\n",
       "      <th>qid</th>\n",
       "      <th>limitmag</th>\n",
       "      <th>magzp</th>\n",
       "      <th>magzprms</th>\n",
       "      <th>clrcoeff</th>\n",
       "      <th>clrcounc</th>\n",
       "      <th>exptime</th>\n",
       "      <th>airmass</th>\n",
       "      <th>programid</th>\n",
       "    </tr>\n",
       "  </thead>\n",
       "  <tbody>\n",
       "  </tbody>\n",
       "</table>\n",
       "<p>0 rows × 24 columns</p>\n",
       "</div>"
      ],
      "text/plain": [
       "Empty DataFrame\n",
       "Columns: [oid, expid, hjd, mjd, mag, magerr, catflags, filtercode, ra, dec, chi, sharp, filefracday, field, ccdid, qid, limitmag, magzp, magzprms, clrcoeff, clrcounc, exptime, airmass, programid]\n",
       "Index: []\n",
       "\n",
       "[0 rows x 24 columns]"
      ]
     },
     "execution_count": 74,
     "metadata": {},
     "output_type": "execute_result"
    }
   ],
   "source": [
    "data_g[data_g['oid']=='715207400001942']"
   ]
  },
  {
   "cell_type": "code",
   "execution_count": null,
   "metadata": {},
   "outputs": [],
   "source": []
  },
  {
   "cell_type": "code",
   "execution_count": null,
   "metadata": {},
   "outputs": [],
   "source": []
  },
  {
   "cell_type": "code",
   "execution_count": null,
   "metadata": {},
   "outputs": [],
   "source": []
  },
  {
   "cell_type": "code",
   "execution_count": 68,
   "metadata": {
    "ExecuteTime": {
     "end_time": "2022-08-08T07:27:43.440360Z",
     "start_time": "2022-08-08T07:27:35.551272Z"
    }
   },
   "outputs": [
    {
     "name": "stdout",
     "output_type": "stream",
     "text": [
      "NGC 4151\n",
      "182.63574 39.40573\n"
     ]
    },
    {
     "data": {
      "image/png": "[encoded data removed]",
      "text/plain": [
       "<Figure size 504x288 with 1 Axes>"
      ]
     },
     "metadata": {
      "needs_background": "light"
     },
     "output_type": "display_data"
    }
   ],
   "source": [
    "Name_index=2\n",
    "name=CLAGN_Candidate_BAT.loc[Name_index,'AGN']\n",
    "save_name=name.strip().replace(' ','_')\n",
    "\n",
    "\n",
    "print(CLAGN_Candidate_BAT.loc[Name_index,'AGN'])\n",
    "print(CLAGN_Candidate_BAT.loc[Name_index,'ra'],CLAGN_Candidate_BAT.loc[Name_index,'dec'])\n",
    "\n",
    "band='r'\n",
    "\n",
    "\n",
    "data_r = lightcurve.LCQuery.download_data(circle=[CLAGN_Candidate_BAT.loc[Name_index,'ra'],\n",
    "                                                  CLAGN_Candidate_BAT.loc[Name_index,'dec'],1.0/3600], \n",
    "                                          bandname=band,BAD_CATFLAGS_MASK=32768)\n",
    "ztflc_show_in_jupyter(data_r,name,band)\n",
    "\n",
    "#lc_g = lightcurve.LCQuery(data_g)\n",
    "#lc_g.show()"
   ]
  },
  {
   "cell_type": "code",
   "execution_count": 69,
   "metadata": {
    "ExecuteTime": {
     "end_time": "2022-08-08T07:28:02.013782Z",
     "start_time": "2022-08-08T07:27:54.680888Z"
    }
   },
   "outputs": [
    {
     "name": "stdout",
     "output_type": "stream",
     "text": [
      "NGC 4151\n",
      "182.63574 39.40573\n"
     ]
    },
    {
     "data": {
      "image/png": "[encoded data removed]",
      "text/plain": [
       "<Figure size 504x288 with 1 Axes>"
      ]
     },
     "metadata": {
      "needs_background": "light"
     },
     "output_type": "display_data"
    }
   ],
   "source": [
    "Name_index=2\n",
    "name=CLAGN_Candidate_BAT.loc[Name_index,'AGN']\n",
    "save_name=name.strip().replace(' ','_')\n",
    "\n",
    "\n",
    "print(CLAGN_Candidate_BAT.loc[Name_index,'AGN'])\n",
    "print(CLAGN_Candidate_BAT.loc[Name_index,'ra'],CLAGN_Candidate_BAT.loc[Name_index,'dec'])\n",
    "\n",
    "band='i'\n",
    "\n",
    "\n",
    "data_i = lightcurve.LCQuery.download_data(circle=[CLAGN_Candidate_BAT.loc[Name_index,'ra'],\n",
    "                                                  CLAGN_Candidate_BAT.loc[Name_index,'dec'],1.0/3600], \n",
    "                                          bandname=band,BAD_CATFLAGS_MASK=32768)\n",
    "ztflc_show_in_jupyter(data_i,name,band)\n",
    "\n",
    "#lc_g = lightcurve.LCQuery(data_g)\n",
    "#lc_g.show()"
   ]
  },
  {
   "cell_type": "code",
   "execution_count": null,
   "metadata": {},
   "outputs": [],
   "source": []
  },
  {
   "cell_type": "code",
   "execution_count": null,
   "metadata": {},
   "outputs": [],
   "source": []
  },
  {
   "cell_type": "code",
   "execution_count": null,
   "metadata": {},
   "outputs": [],
   "source": []
  },
  {
   "cell_type": "code",
   "execution_count": 38,
   "metadata": {
    "ExecuteTime": {
     "end_time": "2022-08-06T13:53:19.213952Z",
     "start_time": "2022-08-06T13:53:19.210997Z"
    }
   },
   "outputs": [],
   "source": [
    "ztf_bands=['g','i','r']"
   ]
  },
  {
   "cell_type": "code",
   "execution_count": 40,
   "metadata": {
    "ExecuteTime": {
     "end_time": "2022-08-06T14:09:34.599403Z",
     "start_time": "2022-08-06T13:57:42.241126Z"
    }
   },
   "outputs": [],
   "source": [
    "for Name_index,name in enumerate(CLAGN_Candidate_BAT['AGN']):\n",
    "    save_name=name.strip().replace(' ','_')\n",
    "    \n",
    "    for band in ztf_bands:\n",
    "        if not os.path.exists('%s/%s_%s.csv'%(CLAGN_Candidate_BAT_ZTF_dir,save_name,band)):\n",
    "            data_g = lightcurve.LCQuery.download_data(circle=[CLAGN_Candidate_BAT.loc[Name_index,'ra'],CLAGN_Candidate_BAT.loc[Name_index,'dec'],1.0/3600], \n",
    "                                                  bandname=band,BAD_CATFLAGS_MASK=32768)\n",
    "            data_g.to_csv('%s/%s_%s.csv'%(CLAGN_Candidate_BAT_ZTF_dir,save_name,band),index=False) \n",
    "            time.sleep(1+np.random.randint(2,5))  \n",
    "        else:\n",
    "            time.sleep(1)\n",
    "    "
   ]
  },
  {
   "cell_type": "code",
   "execution_count": 42,
   "metadata": {
    "ExecuteTime": {
     "end_time": "2022-08-06T14:11:17.343648Z",
     "start_time": "2022-08-06T14:11:17.338167Z"
    }
   },
   "outputs": [
    {
     "data": {
      "text/plain": [
       "26"
      ]
     },
     "execution_count": 42,
     "metadata": {},
     "output_type": "execute_result"
    }
   ],
   "source": [
    "len(CLAGN_Candidate_BAT)"
   ]
  },
  {
   "cell_type": "code",
   "execution_count": 43,
   "metadata": {
    "ExecuteTime": {
     "end_time": "2022-08-06T14:11:20.078595Z",
     "start_time": "2022-08-06T14:11:20.074051Z"
    }
   },
   "outputs": [
    {
     "data": {
      "text/plain": [
       "78"
      ]
     },
     "execution_count": 43,
     "metadata": {},
     "output_type": "execute_result"
    }
   ],
   "source": [
    "26*3"
   ]
  },
  {
   "cell_type": "code",
   "execution_count": 49,
   "metadata": {
    "ExecuteTime": {
     "end_time": "2022-08-06T14:18:05.370993Z",
     "start_time": "2022-08-06T14:18:05.353268Z"
    }
   },
   "outputs": [
    {
     "name": "stdout",
     "output_type": "stream",
     "text": [
      "NGC 4151\n"
     ]
    }
   ],
   "source": [
    "Name_index=2\n",
    "name=CLAGN_Candidate_BAT.loc[Name_index,'AGN']\n",
    "print(name)\n",
    "save_name=name.strip().replace(' ','_')\n",
    "band=ztf_bands[0]\n",
    "data=pd.read_csv('%s/%s_%s.csv'%(CLAGN_Candidate_BAT_ZTF_dir,save_name,band)) \n",
    "#"
   ]
  },
  {
   "cell_type": "code",
   "execution_count": 61,
   "metadata": {
    "ExecuteTime": {
     "end_time": "2022-08-06T14:23:50.430034Z",
     "start_time": "2022-08-06T14:23:18.484761Z"
    }
   },
   "outputs": [],
   "source": [
    "for Name_index,name in enumerate(CLAGN_Candidate_BAT['AGN']):\n",
    "    save_name=name.strip().replace(' ','_')    \n",
    "    for band in ztf_bands:\n",
    "        if os.path.exists('%s/%s_%s.csv'%(CLAGN_Candidate_BAT_ZTF_dir,save_name,band)):\n",
    "            data=pd.read_csv('%s/%s_%s.csv'%(CLAGN_Candidate_BAT_ZTF_dir,save_name,band)) \n",
    "            ztflc_show(data,name,band)"
   ]
  },
  {
   "cell_type": "code",
   "execution_count": null,
   "metadata": {},
   "outputs": [],
   "source": []
  },
  {
   "cell_type": "code",
   "execution_count": 56,
   "metadata": {
    "ExecuteTime": {
     "end_time": "2022-08-06T14:19:22.995483Z",
     "start_time": "2022-08-06T14:19:22.773453Z"
    }
   },
   "outputs": [
    {
     "data": {
      "image/png": "[encoded data removed]",
      "text/plain": [
       "<Figure size 504x288 with 1 Axes>"
      ]
     },
     "metadata": {
      "needs_background": "light"
     },
     "output_type": "display_data"
    }
   ],
   "source": [
    "ztflc_show(data,name,band)"
   ]
  },
  {
   "cell_type": "code",
   "execution_count": 47,
   "metadata": {
    "ExecuteTime": {
     "end_time": "2022-08-06T14:16:52.380178Z",
     "start_time": "2022-08-06T14:16:52.374534Z"
    }
   },
   "outputs": [
    {
     "data": {
      "text/plain": [
       "Index(['oid', 'expid', 'hjd', 'mjd', 'mag', 'magerr', 'catflags', 'filtercode',\n",
       "       'ra', 'dec', 'chi', 'sharp', 'filefracday', 'field', 'ccdid', 'qid',\n",
       "       'limitmag', 'magzp', 'magzprms', 'clrcoeff', 'clrcounc', 'exptime',\n",
       "       'airmass', 'programid'],\n",
       "      dtype='object')"
      ]
     },
     "execution_count": 47,
     "metadata": {},
     "output_type": "execute_result"
    }
   ],
   "source": [
    "data.columns"
   ]
  },
  {
   "cell_type": "code",
   "execution_count": 66,
   "metadata": {
    "ExecuteTime": {
     "end_time": "2022-08-08T07:26:45.920852Z",
     "start_time": "2022-08-08T07:26:45.749589Z"
    }
   },
   "outputs": [],
   "source": [
    "def ztflc_show_in_jupyter(data,name,band, showtoday=False, show_upperlimits=False, formattime=True,\n",
    "             marker=\"o\", mec=\"0.7\", ms=7, ecolor=\"0.7\", ls=\"None\", zorder=4, **kwargs):\n",
    "        \"\"\" kwargs goes to matplotlib's errorbar() \"\"\"\n",
    "        FILTER_COLORS = [\"C2\",\"C3\",\"C1\"]\n",
    "        FILTER_CODE   = [\"zg\",\"zr\",\"zi\"]\n",
    "        save_name=name.strip().replace(' ','_')\n",
    "        \n",
    "\n",
    "        from astropy import time\n",
    "        import matplotlib.pyplot as mpl\n",
    "\n",
    "        # ----------- #\n",
    "        # Global      #\n",
    "        # ----------- #\n",
    "        lc_dataframe = data\n",
    "        prop = dict(marker=marker, mec=mec, ms=ms, ecolor=ecolor, ls=ls, zorder=zorder)\n",
    "\n",
    "        # ----------- #\n",
    "        #\n",
    "        # ----------- #\n",
    "        fig = mpl.figure(figsize=[7,4])\n",
    "        ax = fig.add_axes([0.1,0.15,0.8,0.75])\n",
    "        for filter_ in np.unique(lc_dataframe[\"filtercode\"]):\n",
    "            d = lc_dataframe[lc_dataframe[\"filtercode\"]==filter_]\n",
    "            if filter_ in FILTER_CODE:\n",
    "                prop[\"color\"] = np.asarray(FILTER_COLORS)[np.where(np.asarray(FILTER_CODE)==filter_)][0]\n",
    "            else:\n",
    "                prop[\"color\"] = \"0.7\"\n",
    "\n",
    "            if formattime:\n",
    "                dates = time.Time(np.asarray(d[\"mjd\"].values, dtype=\"float\"), format=\"mjd\").datetime\n",
    "            else:\n",
    "                dates = d[\"mjd\"]\n",
    "            ax.errorbar(dates, d[\"mag\"], \n",
    "                                yerr=d[\"magerr\"],\n",
    "                                **{**prop,**kwargs})\n",
    "\n",
    "        ax.invert_yaxis()\n",
    "        \n",
    "        if show_upperlimits:\n",
    "            for filter_ in np.unique(lc_dataframe[\"filtercode\"]):\n",
    "                d = lc_dataframe[lc_dataframe[\"filtercode\"]==filter_]\n",
    "                if filter_ in FILTER_CODE:\n",
    "                    color = np.asarray(FILTER_COLORS)[np.where(np.asarray(FILTER_CODE)==filter_)][0]\n",
    "                else:\n",
    "                    color = \"0.7\"\n",
    "\n",
    "                if formattime:\n",
    "                    dates = time.Time(np.asarray(d[\"mjd\"].values, dtype=\"float\"), format=\"mjd\").datetime\n",
    "                else:\n",
    "                    dates = d[\"mjd\"]\n",
    "                    \n",
    "                ax.errorbar(dates, d[\"limitmag\"], \n",
    "                            yerr=0.1, lolims=True,marker=\"None\", ls=\"None\", \n",
    "                            color=color, alpha=0.1,\n",
    "                            )\n",
    "\n",
    "        if showtoday:\n",
    "            today_color = \"0.7\"\n",
    "            import datetime\n",
    "            today = time.Time(datetime.date.today().isoformat(),format=\"iso\").mjd\n",
    "            ax.axvline(today, ls=\"--\", color=today_color, zorder=1, lw=1)\n",
    "            ax.text(today, ax.get_ylim()[0]-0.05, \"Today\", va=\"bottom\", ha=\"right\", rotation=90, color=today_color)\n",
    "\n",
    "        if formattime:\n",
    "            from matplotlib import dates as mdates            \n",
    "            locator = mdates.AutoDateLocator()\n",
    "            formatter = mdates.ConciseDateFormatter(locator)\n",
    "            ax.xaxis.set_major_locator(locator)\n",
    "            ax.xaxis.set_major_formatter(formatter)\n",
    "            ax.set_xlabel(\"Date\")\n",
    "        else:\n",
    "            ax.set_xlabel(\"MJD\")\n",
    "        # - Labels\n",
    "\n",
    "        ax.set_ylabel(\"mag\")\n",
    "        ax.set_title('%s_%s'%(name,band))\n",
    "        \n",
    "        \n",
    "        "
   ]
  },
  {
   "cell_type": "code",
   "execution_count": null,
   "metadata": {},
   "outputs": [],
   "source": []
  },
  {
   "cell_type": "code",
   "execution_count": null,
   "metadata": {},
   "outputs": [],
   "source": []
  },
  {
   "cell_type": "code",
   "execution_count": 60,
   "metadata": {
    "ExecuteTime": {
     "end_time": "2022-08-06T14:23:13.984443Z",
     "start_time": "2022-08-06T14:23:13.707690Z"
    }
   },
   "outputs": [],
   "source": [
    "def ztflc_show(data,name,band, showtoday=False, show_upperlimits=False, formattime=True,\n",
    "             marker=\"o\", mec=\"0.7\", ms=7, ecolor=\"0.7\", ls=\"None\", zorder=4, **kwargs):\n",
    "        \"\"\" kwargs goes to matplotlib's errorbar() \"\"\"\n",
    "        FILTER_COLORS = [\"C2\",\"C3\",\"C1\"]\n",
    "        FILTER_CODE   = [\"zg\",\"zr\",\"zi\"]\n",
    "        save_name=name.strip().replace(' ','_')\n",
    "        \n",
    "\n",
    "        from astropy import time\n",
    "        import matplotlib.pyplot as mpl\n",
    "\n",
    "        # ----------- #\n",
    "        # Global      #\n",
    "        # ----------- #\n",
    "        lc_dataframe = data\n",
    "        prop = dict(marker=marker, mec=mec, ms=ms, ecolor=ecolor, ls=ls, zorder=zorder)\n",
    "\n",
    "        # ----------- #\n",
    "        #\n",
    "        # ----------- #\n",
    "        fig = mpl.figure(figsize=[7,4])\n",
    "        ax = fig.add_axes([0.1,0.15,0.8,0.75])\n",
    "        for filter_ in np.unique(lc_dataframe[\"filtercode\"]):\n",
    "            d = lc_dataframe[lc_dataframe[\"filtercode\"]==filter_]\n",
    "            if filter_ in FILTER_CODE:\n",
    "                prop[\"color\"] = np.asarray(FILTER_COLORS)[np.where(np.asarray(FILTER_CODE)==filter_)][0]\n",
    "            else:\n",
    "                prop[\"color\"] = \"0.7\"\n",
    "\n",
    "            if formattime:\n",
    "                dates = time.Time(np.asarray(d[\"mjd\"].values, dtype=\"float\"), format=\"mjd\").datetime\n",
    "            else:\n",
    "                dates = d[\"mjd\"]\n",
    "            ax.errorbar(dates, d[\"mag\"], \n",
    "                                yerr=d[\"magerr\"],\n",
    "                                **{**prop,**kwargs})\n",
    "\n",
    "        ax.invert_yaxis()\n",
    "        \n",
    "        if show_upperlimits:\n",
    "            for filter_ in np.unique(lc_dataframe[\"filtercode\"]):\n",
    "                d = lc_dataframe[lc_dataframe[\"filtercode\"]==filter_]\n",
    "                if filter_ in FILTER_CODE:\n",
    "                    color = np.asarray(FILTER_COLORS)[np.where(np.asarray(FILTER_CODE)==filter_)][0]\n",
    "                else:\n",
    "                    color = \"0.7\"\n",
    "\n",
    "                if formattime:\n",
    "                    dates = time.Time(np.asarray(d[\"mjd\"].values, dtype=\"float\"), format=\"mjd\").datetime\n",
    "                else:\n",
    "                    dates = d[\"mjd\"]\n",
    "                    \n",
    "                ax.errorbar(dates, d[\"limitmag\"], \n",
    "                            yerr=0.1, lolims=True,marker=\"None\", ls=\"None\", \n",
    "                            color=color, alpha=0.1,\n",
    "                            )\n",
    "\n",
    "        if showtoday:\n",
    "            today_color = \"0.7\"\n",
    "            import datetime\n",
    "            today = time.Time(datetime.date.today().isoformat(),format=\"iso\").mjd\n",
    "            ax.axvline(today, ls=\"--\", color=today_color, zorder=1, lw=1)\n",
    "            ax.text(today, ax.get_ylim()[0]-0.05, \"Today\", va=\"bottom\", ha=\"right\", rotation=90, color=today_color)\n",
    "\n",
    "        if formattime:\n",
    "            from matplotlib import dates as mdates            \n",
    "            locator = mdates.AutoDateLocator()\n",
    "            formatter = mdates.ConciseDateFormatter(locator)\n",
    "            ax.xaxis.set_major_locator(locator)\n",
    "            ax.xaxis.set_major_formatter(formatter)\n",
    "            ax.set_xlabel(\"Date\")\n",
    "        else:\n",
    "            ax.set_xlabel(\"MJD\")\n",
    "        # - Labels\n",
    "\n",
    "        ax.set_ylabel(\"mag\")\n",
    "        ax.set_title('%s_%s'%(name,band))\n",
    "        \n",
    "        fig.savefig('%s/%s_%s.png'%(CLAGN_Candidate_BAT_ZTF_dir,save_name,band),\n",
    "                   dpi=400, transparent=False, bbox_inches='tight')\n",
    "        mpl.close()\n",
    "        \n",
    "        "
   ]
  },
  {
   "cell_type": "code",
   "execution_count": null,
   "metadata": {},
   "outputs": [],
   "source": []
  },
  {
   "cell_type": "code",
   "execution_count": null,
   "metadata": {},
   "outputs": [],
   "source": []
  },
  {
   "cell_type": "code",
   "execution_count": 29,
   "metadata": {
    "ExecuteTime": {
     "end_time": "2022-08-06T13:45:33.146654Z",
     "start_time": "2022-08-06T13:45:33.139749Z"
    }
   },
   "outputs": [
    {
     "data": {
      "text/plain": [
       "<ztfquery.lightcurve.LCQuery at 0x129e8a1c0>"
      ]
     },
     "execution_count": 29,
     "metadata": {},
     "output_type": "execute_result"
    }
   ],
   "source": [
    "lc_g.#.data"
   ]
  },
  {
   "cell_type": "code",
   "execution_count": null,
   "metadata": {},
   "outputs": [],
   "source": []
  },
  {
   "cell_type": "code",
   "execution_count": null,
   "metadata": {},
   "outputs": [],
   "source": [
    "data_i = lightcurve.LCQuery.download_data(circle=[299.412,50.55500,0.0014], bandname=\"i\",BAD_CATFLAGS_MASK=15)"
   ]
  },
  {
   "cell_type": "code",
   "execution_count": null,
   "metadata": {},
   "outputs": [],
   "source": [
    "data_r_3arcsec= lightcurve.LCQuery.download_data(circle=[299.412,50.55500,3.0/3600], bandname=\"r\",BAD_CATFLAGS_MASK=15)\n",
    "print(len(data_r_3arcsec))"
   ]
  },
  {
   "cell_type": "code",
   "execution_count": 63,
   "metadata": {
    "ExecuteTime": {
     "end_time": "2022-08-06T14:31:59.528115Z",
     "start_time": "2022-08-06T14:31:59.519172Z"
    }
   },
   "outputs": [
    {
     "data": {
      "text/plain": [
       "'/Volumes/ExtremeSSD/CLAGN_individual/CL_candidate/CLAGN_BAT_candidate/ZTF_catflags=0/'"
      ]
     },
     "execution_count": 63,
     "metadata": {},
     "output_type": "execute_result"
    }
   ],
   "source": [
    "CLAGN_Candidate_BAT_ZTF_dir_1"
   ]
  },
  {
   "cell_type": "code",
   "execution_count": 64,
   "metadata": {
    "ExecuteTime": {
     "end_time": "2022-08-06T14:45:09.322650Z",
     "start_time": "2022-08-06T14:32:03.344560Z"
    },
    "code_folding": []
   },
   "outputs": [],
   "source": [
    "for Name_index,name in enumerate(CLAGN_Candidate_BAT['AGN']):\n",
    "    save_name=name.strip().replace(' ','_')\n",
    "    \n",
    "    for band in ztf_bands:\n",
    "        if not os.path.exists('%s/%s_%s.csv'%(CLAGN_Candidate_BAT_ZTF_dir_1,save_name,band)):\n",
    "            data_g = lightcurve.LCQuery.download_data(circle=[CLAGN_Candidate_BAT.loc[Name_index,'ra'],\n",
    "                                                              CLAGN_Candidate_BAT.loc[Name_index,'dec'],1.0/3600], \n",
    "                                                  bandname=band,BAD_CATFLAGS_MASK=0)\n",
    "            data_g.to_csv('%s/%s_%s.csv'%(CLAGN_Candidate_BAT_ZTF_dir_1,save_name,band),index=False) \n",
    "            time.sleep(1+np.random.randint(2,5))  \n",
    "        else:\n",
    "            time.sleep(1)\n",
    "    "
   ]
  },
  {
   "cell_type": "code",
   "execution_count": null,
   "metadata": {},
   "outputs": [],
   "source": []
  }
 ],
 "metadata": {
  "kernelspec": {
   "display_name": "Python 3",
   "language": "python",
   "name": "python3"
  },
  "language_info": {
   "codemirror_mode": {
    "name": "ipython",
    "version": 3
   },
   "file_extension": ".py",
   "mimetype": "text/x-python",
   "name": "python",
   "nbconvert_exporter": "python",
   "pygments_lexer": "ipython3",
   "version": "3.8.5"
  },
  "latex_envs": {
   "LaTeX_envs_menu_present": true,
   "autocomplete": true,
   "bibliofile": "biblio.bib",
   "cite_by": "apalike",
   "current_citInitial": 1,
   "eqLabelWithNumbers": true,
   "eqNumInitial": 1,
   "hotkeys": {
    "equation": "Ctrl-E",
    "itemize": "Ctrl-I"
   },
   "labels_anchors": false,
   "latex_user_defs": false,
   "report_style_numbering": false,
   "user_envs_cfg": false
  },
  "toc": {
   "nav_menu": {},
   "number_sections": true,
   "sideBar": true,
   "skip_h1_title": false,
   "toc_cell": false,
   "toc_position": {},
   "toc_section_display": "block",
   "toc_window_display": true
  }
 },
 "nbformat": 4,
 "nbformat_minor": 2
}
