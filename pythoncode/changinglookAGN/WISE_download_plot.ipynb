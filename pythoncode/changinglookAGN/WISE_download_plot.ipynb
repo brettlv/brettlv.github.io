{
 "cells": [
  {
   "cell_type": "markdown",
   "metadata": {},
   "source": [
    "# import"
   ]
  },
  {
   "cell_type": "code",
   "execution_count": 2,
   "metadata": {
    "ExecuteTime": {
     "end_time": "2023-09-05T06:41:12.840775Z",
     "start_time": "2023-09-05T06:41:11.802038Z"
    }
   },
   "outputs": [
    {
     "name": "stderr",
     "output_type": "stream",
     "text": [
      "/var/folders/jp/4mwsn7_x6j9gnv1hl1dztqth0000gn/T/ipykernel_65775/915632295.py:12: DeprecationWarning: the ``irsa`` module has been moved to astroquery.ipac.irsa, please update your imports.\n",
      "  from astroquery.irsa import Irsa\n"
     ]
    }
   ],
   "source": [
    "import pandas as pd\n",
    "import numpy as np\n",
    "\n",
    "import time\n",
    "import os\n",
    "import sys\n",
    "\n",
    "from astropy import config as _config \n",
    "from astropy import units as u\n",
    "from astropy.coordinates import SkyCoord\n",
    "\n",
    "from astroquery.irsa import Irsa  "
   ]
  },
  {
   "cell_type": "code",
   "execution_count": 3,
   "metadata": {
    "ExecuteTime": {
     "end_time": "2023-09-05T06:41:15.807706Z",
     "start_time": "2023-09-05T06:41:12.842278Z"
    }
   },
   "outputs": [],
   "source": [
    "from astropy.table import Table\n",
    "from astropy.io import fits\n",
    "from astropy import units as u\n",
    "from astropy import constants \n",
    "from astropy.coordinates import SkyCoord\n",
    "from astropy.visualization import hist\n",
    "from astroML.datasets import fetch_imaging_sample, fetch_sdss_S82standards\n",
    "from astroML.crossmatch import crossmatch_angular"
   ]
  },
  {
   "cell_type": "code",
   "execution_count": 4,
   "metadata": {
    "ExecuteTime": {
     "end_time": "2023-09-05T06:41:15.827350Z",
     "start_time": "2023-09-05T06:41:15.808947Z"
    }
   },
   "outputs": [
    {
     "name": "stderr",
     "output_type": "stream",
     "text": [
      "/var/folders/jp/4mwsn7_x6j9gnv1hl1dztqth0000gn/T/ipykernel_65775/1225799043.py:1: DeprecationWarning: Please use `pearsonr` from the `scipy.stats` namespace, the `scipy.stats.stats` namespace is deprecated.\n",
      "  from scipy.stats.stats import pearsonr\n"
     ]
    }
   ],
   "source": [
    "from scipy.stats.stats import pearsonr\n",
    "from scipy.stats import spearmanr#\n",
    "from scipy import stats \n",
    "\n",
    "import matplotlib.pyplot as plt\n",
    "from pylab import cm\n",
    "import matplotlib as mpl\n",
    "\n",
    "from collections import OrderedDict\n",
    "from adjustText import adjust_text\n",
    "\n",
    "%matplotlib inline\n",
    "%config InlineBackend.figure_format='svg'\n",
    "# Edit the font, font size, and axes width\n",
    "mpl.rcParams['font.family'] = 'Times New Roman' #Times New Roman\n",
    "plt.rcParams['font.size'] = 18\n",
    "plt.rcParams['axes.linewidth'] = 2"
   ]
  },
  {
   "cell_type": "code",
   "execution_count": 5,
   "metadata": {
    "ExecuteTime": {
     "end_time": "2023-09-05T06:41:15.833368Z",
     "start_time": "2023-09-05T06:41:15.828848Z"
    }
   },
   "outputs": [],
   "source": [
    "#from adjustText import adjust_text\n",
    "\n",
    "def set_ax_tick(ax):\n",
    "    ax.xaxis.set_tick_params(which='major', size=10, width=2, direction='in', top='on',)\n",
    "    ax.xaxis.set_tick_params(which='minor', size=5, width=2, direction='in', top='on')\n",
    "    ax.yaxis.set_tick_params(which='major', size=10, width=2, direction='in', right='on')\n",
    "    ax.yaxis.set_tick_params(which='minor', size=5, width=2, direction='in', right='on')\n",
    "\n",
    "def set_ax_locator(ax,xma=1,xmi=0.2,yma=1,ymi=0.2):\n",
    "    ax.xaxis.set_major_locator(mpl.ticker.MultipleLocator(xma))\n",
    "    ax.xaxis.set_minor_locator(mpl.ticker.MultipleLocator(xmi))\n",
    "    ax.yaxis.set_major_locator(mpl.ticker.MultipleLocator(yma))\n",
    "    ax.yaxis.set_minor_locator(mpl.ticker.MultipleLocator(ymi)) "
   ]
  },
  {
   "cell_type": "code",
   "execution_count": 6,
   "metadata": {
    "ExecuteTime": {
     "end_time": "2023-09-05T06:41:15.837725Z",
     "start_time": "2023-09-05T06:41:15.835681Z"
    }
   },
   "outputs": [],
   "source": [
    "def drop_index(data):\n",
    "    data=data.reset_index(drop=True)\n",
    "    return data"
   ]
  },
  {
   "cell_type": "markdown",
   "metadata": {},
   "source": [
    "## time_convert"
   ]
  },
  {
   "cell_type": "code",
   "execution_count": 7,
   "metadata": {
    "ExecuteTime": {
     "end_time": "2023-09-05T06:41:15.846897Z",
     "start_time": "2023-09-05T06:41:15.839479Z"
    }
   },
   "outputs": [],
   "source": [
    "from astropy.time import Time\n",
    "from astropy.io import fits\n",
    "import time\n",
    "import datetime\n",
    "from matplotlib.pyplot import MultipleLocator\n",
    "import matplotlib.dates as mdates\n",
    "\n",
    "def datetime2mjd(x):\n",
    "    mjd_ref=59000\n",
    "    mjd_minus_mdates_num=mdates.date2num(convert_xaxis_time(mjd_ref))-mjd_ref\n",
    "    \n",
    "    x=mdates.date2num(x)\n",
    "    y = x - mjd_minus_mdates_num   \n",
    "    return y\n",
    "\n",
    "def mjd2datetime(x):\n",
    "    mjd_ref=59000\n",
    "    mjd_minus_mdates_num=mdates.date2num(convert_xaxis_time(mjd_ref))-mjd_ref\n",
    "    y= x + mjd_minus_mdates_num\n",
    "    y= mdates.num2date(y)\n",
    "    return y\n",
    "\n",
    "\n",
    "\n",
    "def datenums2mjd(x):\n",
    "    #x=mdates.date2num(x)\n",
    "    mjd_ref=59000\n",
    "    mjd_minus_mdates_num=mdates.date2num(convert_xaxis_time(mjd_ref))-mjd_ref\n",
    "    y = x - mjd_minus_mdates_num   \n",
    "    return y\n",
    "\n",
    "def mjd2numsdate(x):\n",
    "    mjd_ref=59000\n",
    "    mjd_minus_mdates_num=mdates.date2num(convert_xaxis_time(mjd_ref))-mjd_ref\n",
    "    \n",
    "    y= x + mjd_minus_mdates_num\n",
    "    #y= mdates.num2date(y)\n",
    "    return y\n",
    "\n",
    "\n",
    "def convert_xaxis_mjd(time):\n",
    "    return Time(time).mjd   \n",
    "\n",
    "def convert_xaxis_time(mjd):\n",
    "    return Time(mjd,format='mjd').to_datetime()\n",
    "\n",
    "\n",
    "def date2yday(x):\n",
    "    \"\"\"\n",
    "    x is in matplotlib datenums, so they are floats.\n",
    "    \"\"\"\n",
    "    y = x - mdates.date2num(datetime(2018, 1, 1))\n",
    "    return y\n",
    "\n",
    "def yday2date(x):\n",
    "    \"\"\"\n",
    "    return a matplotlib datenum (x is days since start of year of 2018)\n",
    "    \"\"\"\n",
    "    y = x + mdates.date2num(datetime(2018, 1, 1))\n",
    "    return y\n",
    "\n",
    "\n",
    "def convert_partial_year(numbers):\n",
    "    datetimes=[]\n",
    "    for number in numbers:\n",
    "        year = int(number)\n",
    "        d = timedelta(days=(number - year)*(365 + is_leap(year)))\n",
    "        day_one = datetime(year,1,1)\n",
    "        date = d + day_one\n",
    "        datetimes.append(date)\n",
    "    return datetimes\n",
    "\n",
    "\n",
    "def is_leap(year):\n",
    "    if not year%4 and  year%100 or not year%400:\n",
    "        return True\n",
    "    return False\n",
    "\n",
    "\n",
    "def convert_mjd(times):\n",
    "    timesmjd=[]\n",
    "    for i in times:\n",
    "        timesmjd.append(Time(i).mjd)\n",
    "    return timesmjd  \n",
    "\n",
    "\n",
    "def convert_date(times):\n",
    "    timesdate=[]\n",
    "    for i in times:\n",
    "        timesdate.append(Time(i,format='mjd').datetime)\n",
    "    return timesdate\n",
    "\n",
    "def convert_date_single(time):\n",
    "    timedate=Time(time,format='mjd').datetime\n",
    "    return timedate"
   ]
  },
  {
   "cell_type": "code",
   "execution_count": 8,
   "metadata": {
    "ExecuteTime": {
     "end_time": "2023-09-05T06:41:15.853297Z",
     "start_time": "2023-09-05T06:41:15.848160Z"
    }
   },
   "outputs": [
    {
     "data": {
      "text/plain": [
       "datetime.datetime(2017, 2, 16, 0, 0)"
      ]
     },
     "execution_count": 8,
     "metadata": {},
     "output_type": "execute_result"
    }
   ],
   "source": [
    "convert_date_single(57800)"
   ]
  },
  {
   "cell_type": "code",
   "execution_count": 9,
   "metadata": {
    "ExecuteTime": {
     "end_time": "2023-09-05T06:41:15.858100Z",
     "start_time": "2023-09-05T06:41:15.855007Z"
    }
   },
   "outputs": [
    {
     "data": {
      "text/plain": [
       "datetime.datetime(2016, 7, 11, 0, 0)"
      ]
     },
     "execution_count": 9,
     "metadata": {},
     "output_type": "execute_result"
    }
   ],
   "source": [
    "convert_date_single(57580)"
   ]
  },
  {
   "cell_type": "code",
   "execution_count": null,
   "metadata": {},
   "outputs": [],
   "source": []
  },
  {
   "cell_type": "markdown",
   "metadata": {},
   "source": [
    "## def plot_secax"
   ]
  },
  {
   "cell_type": "code",
   "execution_count": 10,
   "metadata": {
    "ExecuteTime": {
     "end_time": "2023-09-05T06:41:15.867829Z",
     "start_time": "2023-09-05T06:41:15.859568Z"
    }
   },
   "outputs": [],
   "source": [
    "from adjustText import adjust_text\n",
    "import matplotlib as mpl\n",
    "def set_ax_tick(ax):\n",
    "    ax.xaxis.set_tick_params(which='major', size=10, width=2, direction='in', top='on',)\n",
    "    ax.xaxis.set_tick_params(which='minor', size=5, width=2, direction='in', top='on')\n",
    "    ax.yaxis.set_tick_params(which='major', size=10, width=2, direction='in', right='on')\n",
    "    ax.yaxis.set_tick_params(which='minor', size=5, width=2, direction='in', right='on')\n",
    "\n",
    "def set_ax_locator(ax,xma=1,xmi=0.2,yma=1,ymi=0.2):\n",
    "    ax.xaxis.set_major_locator(mpl.ticker.MultipleLocator(xma))\n",
    "    ax.xaxis.set_minor_locator(mpl.ticker.MultipleLocator(xmi))\n",
    "    ax.yaxis.set_major_locator(mpl.ticker.MultipleLocator(yma))\n",
    "    ax.yaxis.set_minor_locator(mpl.ticker.MultipleLocator(ymi))\n",
    "    \n",
    "def plot_secax(ax,mi_interval=365,ma_interval=365*2,rotation=30,):\n",
    "    secax1 = ax.secondary_xaxis('top', functions=(mjd2numsdate,datenums2mjd))\n",
    "    secax1.xaxis.set_major_formatter(mdates.DateFormatter(\"%Y-%m\"))\n",
    "    secax1.xaxis.set_major_locator(mdates.DayLocator(interval=ma_interval))\n",
    "    secax1.xaxis.set_minor_locator(mdates.DayLocator(interval=mi_interval))\n",
    "    secax1.xaxis.set_tick_params(which='major', size=10, width=2, direction='out')\n",
    "    secax1.xaxis.set_tick_params(which='minor', size=5, width=2, direction='out')\n",
    "    secax1.xaxis.set_tick_params(which='major', size=10, width=2, direction='out', rotation=rotation,)    \n",
    "    \n",
    "def set_ax_legend(ax,bbox_to_anchor=(0.01, 0.99)):\n",
    "    ax.xaxis.set_tick_params(which='major', size=10, width=2, rotation=0,)\n",
    "    handles, labels = ax.get_legend_handles_labels()\n",
    "    # remove the errorbars\n",
    "    #hdl = [h[0] for h in handles]\n",
    "    hdl = handles\n",
    "    labels_dict=dict(zip(labels, hdl)) #key,values\n",
    "    by_label=OrderedDict(sorted(labels_dict.items(),key=lambda t:t[0]))\n",
    "    #by_label = OrderedDict(zip(labels, handles))\n",
    "    ax.legend(by_label.values(), by_label.keys(), bbox_to_anchor=bbox_to_anchor,\n",
    "              loc=2, numpoints=1,ncol=1,fontsize=11.)\n",
    "\n",
    "def set_mag_ylim(ax):\n",
    "    bottom, top = ax.set_ylim()\n",
    "    if bottom< top:\n",
    "        ax.set_ylim(top,bottom)   \n",
    "        \n",
    "        \n",
    "def set_mag_xlim(ax):\n",
    "    bottom, top = ax.set_xlim()\n",
    "    if bottom< top:\n",
    "        ax.set_xlim(top,bottom)         "
   ]
  },
  {
   "cell_type": "code",
   "execution_count": 11,
   "metadata": {
    "ExecuteTime": {
     "end_time": "2023-09-05T06:41:15.871768Z",
     "start_time": "2023-09-05T06:41:15.869121Z"
    }
   },
   "outputs": [],
   "source": [
    "def get_new_range_datas(mjd1, flux1, err1,time_min,time_max):\n",
    "    mjd_s=[]\n",
    "    flux_s=[]\n",
    "    err_s=[]\n",
    "    for i,j,k in zip(mjd1, flux1, err1):\n",
    "        if i>=time_min and i<time_max:\n",
    "            mjd_s.append(i)\n",
    "            flux_s.append(j)\n",
    "            err_s.append(k)\n",
    "    return np.array(mjd_s),np.array(flux_s),np.array(err_s)"
   ]
  },
  {
   "cell_type": "code",
   "execution_count": null,
   "metadata": {},
   "outputs": [],
   "source": []
  },
  {
   "cell_type": "markdown",
   "metadata": {},
   "source": [
    "## cosmo"
   ]
  },
  {
   "cell_type": "code",
   "execution_count": 12,
   "metadata": {
    "ExecuteTime": {
     "end_time": "2023-09-05T06:41:15.899518Z",
     "start_time": "2023-09-05T06:41:15.872825Z"
    }
   },
   "outputs": [],
   "source": [
    "from astropy.cosmology import FlatLambdaCDM,Planck13,Planck15,z_at_value\n",
    "from astropy import units as u\n",
    "from astropy.cosmology import LambdaCDM\n",
    "cosmo = LambdaCDM(H0=70, Om0=0.27, Ode0=0.73)\n",
    "#cosmo=FlatLambdaCDM(H0=73,Om0=0.3)"
   ]
  },
  {
   "cell_type": "markdown",
   "metadata": {},
   "source": [
    "## get_mag_weighted_mean_mag"
   ]
  },
  {
   "cell_type": "code",
   "execution_count": 44,
   "metadata": {
    "ExecuteTime": {
     "end_time": "2023-08-18T11:25:52.553648Z",
     "start_time": "2023-08-18T11:25:52.547876Z"
    }
   },
   "outputs": [],
   "source": [
    "import numpy as np\n",
    "def get_mag_weighted_mean_mag(mags,e_mags):\n",
    "    N=len(mags)\n",
    "    mag_weighted_mean_mag =0  \n",
    "    \n",
    "    w_n=np.sum(1.0/e_mags**2)   \n",
    "    \n",
    "    for mag,e_mag in zip(mags,e_mags):\n",
    "        w_i=1.0/e_mag**2\n",
    "        w=w_i/w_n\n",
    "        mag_weighted_mean_mag=mag_weighted_mean_mag+w*mag\n",
    "                          \n",
    "    return mag_weighted_mean_mag \n",
    "\n",
    "\n",
    "\n",
    "def get_mag_weighted_mean_e_mag(mags,e_mags):\n",
    "    N=len(mags)  \n",
    "\n",
    "    w_n=np.sum(1.0/e_mags**2)\n",
    "    \n",
    "    mag_weighted_mean_mag = get_mag_weighted_mean_mag(mags,e_mags)\n",
    "    \n",
    "    mag_weighted_mean_e_mag =0 \n",
    "    \n",
    "    for mag,e_mag in zip(mags,e_mags):        \n",
    "        w_i=1.0/e_mag**2\n",
    "        w=w_i/w_n\n",
    "        \n",
    "        mag_weighted_mean_e_mag=mag_weighted_mean_e_mag+w*(mag-mag_weighted_mean_mag)**2\n",
    "        \n",
    "    mag_weighted_mean_e_mag_=(mag_weighted_mean_e_mag/(N-1))**0.5                                 \n",
    "    return mag_weighted_mean_e_mag_"
   ]
  },
  {
   "cell_type": "markdown",
   "metadata": {},
   "source": [
    "## def_median_lc"
   ]
  },
  {
   "cell_type": "code",
   "execution_count": 45,
   "metadata": {
    "ExecuteTime": {
     "end_time": "2023-08-18T11:25:54.775805Z",
     "start_time": "2023-08-18T11:25:54.753124Z"
    }
   },
   "outputs": [],
   "source": [
    "def median_lc(data,timelabel,maglabel,e_maglabel,interval=180,sigma_outlier=100):\n",
    "    #data=data.sort_values(timelabel)\n",
    "    data=drop_index(data)\n",
    "    mean_mjds=[]\n",
    "    mean_mags=[]\n",
    "    mean_mags_e=[]\n",
    "    \n",
    "    if len(data)>2:\n",
    "        mjd_t0=data[timelabel][0]-10\n",
    "        mjd_tend=data[timelabel][len(data)-1]+10\n",
    "\n",
    "        N=int((mjd_tend-mjd_t0)//interval+1)\n",
    "        #print(N)\n",
    "\n",
    "        time_interval=np.linspace(mjd_t0,interval*N+mjd_t0,N+1)\n",
    "        #print(time_interval)\n",
    "\n",
    "        for index,i in enumerate(time_interval):\n",
    "            if index < N:\n",
    "                data_select=data[data[timelabel]>=time_interval[index]]\n",
    "                data_select=data_select[data_select[timelabel]<time_interval[index+1]]\n",
    "                data_select=drop_index(data_select)\n",
    "\n",
    "                if len(data_select)>2:\n",
    "                    #mean_mjd=np.mean(data_select[timelabel])\n",
    "                    mags=data_select[maglabel]\n",
    "                    e_mags=data_select[e_maglabel]               \n",
    "                    mean_mag=get_mag_weighted_mean_mag(mags,e_mags)\n",
    "                    mag_weighted_mean_e_mag=get_mag_weighted_mean_e_mag(mags,e_mags)\n",
    "                    #mean_mag_e=np.mean(data_select[e_maglabel])\n",
    "\n",
    "                    data_select=data_select[abs(data_select[maglabel]-mean_mag)<sigma_outlier*mag_weighted_mean_e_mag]\n",
    "                    data_select=drop_index(data_select)\n",
    "\n",
    "\n",
    "                    #print(len(data_select))\n",
    "\n",
    "                    mags=data_select[maglabel]\n",
    "                    e_mags=data_select[e_maglabel]  \n",
    "                    if len(data_select)>2:\n",
    "                        mean_mag=get_mag_weighted_mean_mag(mags,e_mags)               \n",
    "                        mean_mag_e=get_mag_weighted_mean_e_mag(mags,e_mags)\n",
    "\n",
    "                        mean_mjd=np.mean(data_select[timelabel])               \n",
    "                        mean_mjds.append(mean_mjd)\n",
    "                        mean_mags.append(mean_mag)\n",
    "                        mean_mags_e.append(mean_mag_e)\n",
    "                        \n",
    "        mean_mjds,mean_mags,mean_mags_e=(np.array(mean_mjds),np.array(mean_mags),np.array(mean_mags_e))\n",
    "        \n",
    "    return mean_mjds,mean_mags,mean_mags_e\n"
   ]
  },
  {
   "cell_type": "markdown",
   "metadata": {},
   "source": [
    "## get_outlier_remove"
   ]
  },
  {
   "cell_type": "code",
   "execution_count": 46,
   "metadata": {
    "ExecuteTime": {
     "end_time": "2023-08-18T11:25:55.768492Z",
     "start_time": "2023-08-18T11:25:55.753220Z"
    }
   },
   "outputs": [],
   "source": [
    "def get_outlier_remove_data(data,timelabel,maglabel,e_maglabel,interval=180,sigma_outlier=10):\n",
    "    data_remove=pd.DataFrame([])\n",
    "    #data_outlier=pd.DataFrame([])\n",
    "    \n",
    "    #data=data.sort_values(timelabel)\n",
    "    data=drop_index(data)\n",
    "    mean_mjds=[]\n",
    "    mean_mags=[]\n",
    "    mean_mags_e=[]\n",
    "    \n",
    "    if len(data)>2:\n",
    "        mjd_t0=data[timelabel][0]-20\n",
    "        mjd_tend=data[timelabel][len(data)-1]+20\n",
    "\n",
    "        N=int((mjd_tend-mjd_t0)//interval+1)\n",
    "        #print(N)\n",
    "\n",
    "        time_interval=np.linspace(mjd_t0,interval*N+mjd_t0,N+1)\n",
    "        #print(time_interval)\n",
    "\n",
    "        for index,i in enumerate(time_interval):\n",
    "            if index < N:\n",
    "                data_select=data[data[timelabel]>=time_interval[index]]\n",
    "                data_select=data_select[data_select[timelabel]<time_interval[index+1]]\n",
    "                data_select=drop_index(data_select)\n",
    "                \n",
    "                if len(data_select)>2:\n",
    "                    #mean_mjd=np.mean(data_select[timelabel])\n",
    "                    mags=data_select[maglabel]\n",
    "                    e_mags=data_select[e_maglabel]               \n",
    "                    mean_mag=get_mag_weighted_mean_mag(mags,e_mags)\n",
    "                    mag_weighted_mean_e_mag=get_mag_weighted_mean_e_mag(mags,e_mags)\n",
    "                    #mean_mag_e=np.mean(data_select[e_maglabel])\n",
    "\n",
    "                    data_remove_outlier=data_select[abs(data_select[maglabel]-mean_mag)<=sigma_outlier*mag_weighted_mean_e_mag]\n",
    "                    \n",
    "                    data_remove_outlier=drop_index(data_remove_outlier) \n",
    "                    data_remove=data_remove.append(data_remove_outlier,ignore_index=True)                   \n",
    "         \n",
    "        \n",
    "                    '''                 \n",
    "                    data_out=data_select[abs(data_select[maglabel]-mean_mag)>sigma_outlier*mag_weighted_mean_e_mag]\n",
    "                    data_out=drop_index(data_out)\n",
    "                    data_outlier.append(data_out,ignore_index=True)\n",
    "              \n",
    "                    '''\n",
    "    #data_remove=data_remove.sort_values(timelabel)\n",
    "    data_remove=drop_index(data_remove)    \n",
    "    return data_remove#,data_outlier                   \n",
    "                    \n",
    "    "
   ]
  },
  {
   "cell_type": "markdown",
   "metadata": {},
   "source": [
    "## def get_outlier_data"
   ]
  },
  {
   "cell_type": "code",
   "execution_count": 47,
   "metadata": {
    "ExecuteTime": {
     "end_time": "2023-08-18T11:25:56.576174Z",
     "start_time": "2023-08-18T11:25:56.560418Z"
    }
   },
   "outputs": [],
   "source": [
    "def get_outlier_data(data,timelabel,maglabel,e_maglabel,interval=180,sigma_outlier=10):\n",
    "    data_remove=pd.DataFrame([])\n",
    "    data_outlier=pd.DataFrame([])\n",
    "    \n",
    "    #data=data.sort_values(timelabel)\n",
    "    data=drop_index(data)\n",
    "    mean_mjds=[]\n",
    "    mean_mags=[]\n",
    "    mean_mags_e=[]\n",
    "    \n",
    "    if len(data)>2:\n",
    "        mjd_t0=data[timelabel][0]-20\n",
    "        mjd_tend=data[timelabel][len(data)-1]+20\n",
    "\n",
    "        N=int((mjd_tend-mjd_t0)//interval+1)\n",
    "        #print(N)\n",
    "\n",
    "        time_interval=np.linspace(mjd_t0,interval*N+mjd_t0,N+1)\n",
    "        #print(time_interval)\n",
    "\n",
    "        for index,i in enumerate(time_interval):\n",
    "            if index < N:\n",
    "                data_select=data[data[timelabel]>=time_interval[index]]\n",
    "                data_select=data_select[data_select[timelabel]<time_interval[index+1]]\n",
    "                data_select=drop_index(data_select)\n",
    "                \n",
    "                if len(data_select)>2:\n",
    "                    #mean_mjd=np.mean(data_select[timelabel])\n",
    "                    mags=data_select[maglabel]\n",
    "                    e_mags=data_select[e_maglabel]               \n",
    "                    mean_mag=get_mag_weighted_mean_mag(mags,e_mags)\n",
    "                    mag_weighted_mean_e_mag=get_mag_weighted_mean_e_mag(mags,e_mags)\n",
    "                    #mean_mag_e=np.mean(data_select[e_maglabel])\n",
    "\n",
    "                    '''data_remove_outlier=data_select[abs(data_select[maglabel]-mean_mag)<=sigma_outlier*mag_weighted_mean_e_mag]                   \n",
    "                    data_remove_outlier=drop_index(data_remove_outlier) \n",
    "                    data_remove=data_remove.append(data_remove_outlier,ignore_index=True)  '''                 \n",
    "         \n",
    "        \n",
    "                                    \n",
    "                    data_out=data_select[abs(data_select[maglabel]-mean_mag)>sigma_outlier*mag_weighted_mean_e_mag]\n",
    "                    data_out=drop_index(data_out)\n",
    "                    data_outlier=data_outlier.append(data_out,ignore_index=True)\n",
    "                                  \n",
    "    #data_outlier=data_outlier.sort_values(timelabel)\n",
    "    #data_outlier=drop_index(data_outlier)   \n",
    "    return data_outlier#,data_outlier                   \n",
    "                    \n",
    "    "
   ]
  },
  {
   "cell_type": "code",
   "execution_count": null,
   "metadata": {},
   "outputs": [],
   "source": []
  },
  {
   "cell_type": "markdown",
   "metadata": {},
   "source": [
    "data_test_neo,data_test_mep"
   ]
  },
  {
   "cell_type": "code",
   "execution_count": null,
   "metadata": {},
   "outputs": [],
   "source": []
  },
  {
   "cell_type": "markdown",
   "metadata": {},
   "source": [
    "## def get_remove_neo_mep(data_test_neo,data_test_mep):\n"
   ]
  },
  {
   "cell_type": "markdown",
   "metadata": {
    "ExecuteTime": {
     "end_time": "2022-06-16T03:34:14.834324Z",
     "start_time": "2022-06-16T03:34:14.827582Z"
    }
   },
   "source": [
    "data_test_neo.columns,len(data_test_neo)"
   ]
  },
  {
   "cell_type": "markdown",
   "metadata": {
    "ExecuteTime": {
     "end_time": "2022-06-16T03:34:15.365424Z",
     "start_time": "2022-06-16T03:34:15.286124Z"
    }
   },
   "source": [
    "timelabel,maglabel,e_maglabel=('mjd','w1mpro','w1sigmpro')\n",
    "data_test_neo_remove=get_outlier_remove_data(data_test_neo,timelabel,maglabel,e_maglabel,interval=180,sigma_outlier=5)\n",
    "timelabel,maglabel,e_maglabel=('mjd','w2mpro','w2sigmpro')\n",
    "data_test_neo_remove=get_outlier_remove_data(data_test_neo_remove,timelabel,maglabel,e_maglabel,interval=180,sigma_outlier=5)\n"
   ]
  },
  {
   "cell_type": "code",
   "execution_count": 57,
   "metadata": {
    "ExecuteTime": {
     "end_time": "2023-08-18T11:26:54.940333Z",
     "start_time": "2023-08-18T11:26:54.936255Z"
    }
   },
   "outputs": [],
   "source": [
    "def get_remove_neo_mep(data_test_neo,data_test_mep):\n",
    "    #neo\n",
    "    if len(data_test_neo)>0:\n",
    "        timelabel,maglabel,e_maglabel=('mjd','w1mpro','w1sigmpro')\n",
    "        data_test_neo_remove=get_outlier_remove_data(data_test_neo,timelabel,maglabel,e_maglabel,interval=180,sigma_outlier=10)\n",
    "        timelabel,maglabel,e_maglabel=('mjd','w2mpro','w2sigmpro')\n",
    "        data_test_neo_remove=get_outlier_remove_data(data_test_neo_remove,timelabel,maglabel,e_maglabel,interval=180,sigma_outlier=10)\n",
    "    else:\n",
    "        data_test_neo_remove=[]\n",
    "        \n",
    "    #mep\n",
    "    if len(data_test_mep)>0:\n",
    "        timelabel,maglabel,e_maglabel=('mjd','w1mpro_ep','w1sigmpro_ep')\n",
    "        data_test_mep_remove=get_outlier_remove_data(data_test_mep,timelabel,maglabel,e_maglabel,interval=180,sigma_outlier=10)\n",
    "        timelabel,maglabel,e_maglabel=('mjd','w2mpro_ep','w2sigmpro_ep')\n",
    "        data_test_mep_remove=get_outlier_remove_data(data_test_mep_remove,timelabel,maglabel,e_maglabel,interval=180,sigma_outlier=10)\n",
    "    else:\n",
    "        data_test_mep_remove=[]\n",
    "    return data_test_neo_remove,data_test_mep_remove"
   ]
  },
  {
   "cell_type": "code",
   "execution_count": 58,
   "metadata": {
    "ExecuteTime": {
     "end_time": "2023-08-18T11:26:55.516004Z",
     "start_time": "2023-08-18T11:26:55.507587Z"
    }
   },
   "outputs": [],
   "source": [
    "def get_outlier_neo_mep(data_test_neo,data_test_mep):\n",
    "    #neo\n",
    "    if len(data_test_neo)>0:    \n",
    "        timelabel,maglabel,e_maglabel=('mjd','w1mpro','w1sigmpro')\n",
    "        data_test_neo_outiler=get_outlier_data(data_test_neo,timelabel,maglabel,e_maglabel,interval=180,sigma_outlier=10)\n",
    "        timelabel,maglabel,e_maglabel=('mjd','w2mpro','w2sigmpro')\n",
    "        data_test_neo_outiler=get_outlier_data(data_test_neo_outiler,timelabel,maglabel,e_maglabel,interval=180,sigma_outlier=10)\n",
    "    else:\n",
    "        data_test_neo_outiler=[]\n",
    "    #mep\n",
    "    if len(data_test_mep)>0:    \n",
    "        timelabel,maglabel,e_maglabel=('mjd','w1mpro_ep','w1sigmpro_ep')\n",
    "        data_test_mep_outiler=get_outlier_data(data_test_mep,timelabel,maglabel,e_maglabel,interval=180,sigma_outlier=10)\n",
    "        timelabel,maglabel,e_maglabel=('mjd','w2mpro_ep','w2sigmpro_ep')\n",
    "        data_test_mep_outiler=get_outlier_data(data_test_mep_outiler,timelabel,maglabel,e_maglabel,interval=180,sigma_outlier=10)\n",
    "    else:\n",
    "        data_test_mep_outiler=[]\n",
    "    return data_test_neo_outiler,data_test_mep_outiler"
   ]
  },
  {
   "cell_type": "code",
   "execution_count": null,
   "metadata": {},
   "outputs": [],
   "source": []
  },
  {
   "cell_type": "code",
   "execution_count": null,
   "metadata": {},
   "outputs": [],
   "source": []
  },
  {
   "cell_type": "markdown",
   "metadata": {},
   "source": [
    "## plot_outlier_median_lc"
   ]
  },
  {
   "cell_type": "code",
   "execution_count": 59,
   "metadata": {
    "ExecuteTime": {
     "end_time": "2023-08-18T11:26:57.619013Z",
     "start_time": "2023-08-18T11:26:57.599895Z"
    }
   },
   "outputs": [],
   "source": [
    "def plot_outlier_median_lc(ax,data,timelabel,maglabel,e_maglabel,interval=180,sigma_outlier=10):\n",
    "    #data=data.sort_values(timelabel)\n",
    "    data=drop_index(data)\n",
    "    mean_mjds=[]\n",
    "    mean_mags=[]\n",
    "    mean_mags_e=[]\n",
    "    if len(data)>2:\n",
    "        mjd_t0=data[timelabel][0]-20\n",
    "        mjd_tend=data[timelabel][len(data)-1]+20\n",
    "\n",
    "        N=int((mjd_tend-mjd_t0)//interval+1)\n",
    "        #print(N)\n",
    "\n",
    "        time_interval=np.linspace(mjd_t0,interval*N+mjd_t0,N+1)\n",
    "        #print(time_interval)\n",
    "\n",
    "        for index,i in enumerate(time_interval):\n",
    "            if index < N:\n",
    "                data_select=data[data[timelabel]>=time_interval[index]]\n",
    "                data_select=data_select[data_select[timelabel]<time_interval[index+1]]\n",
    "                data_select=drop_index(data_select)\n",
    "\n",
    "                if len(data_select)>2:\n",
    "                    #mean_mjd=np.mean(data_select[timelabel])\n",
    "                    mags=data_select[maglabel]\n",
    "                    e_mags=data_select[e_maglabel]               \n",
    "                    mean_mag=get_mag_weighted_mean_mag(mags,e_mags)\n",
    "                    mag_weighted_mean_e_mag=get_mag_weighted_mean_e_mag(mags,e_mags)\n",
    "                    #mean_mag_e=np.mean(data_select[e_maglabel])\n",
    "\n",
    "                    data_select_outlier=data_select[abs(data_select[maglabel]-mean_mag)>=sigma_outlier*mag_weighted_mean_e_mag]\n",
    "                    data_select_outlier=drop_index(data_select_outlier)  \n",
    "                    if len(data_select_outlier)>0:\n",
    "                        ax.scatter(data_select_outlier[timelabel],data_select_outlier[maglabel],\n",
    "                               color='red',zorder=3,s=6)\n"
   ]
  },
  {
   "cell_type": "markdown",
   "metadata": {},
   "source": [
    "## def plot_outliers"
   ]
  },
  {
   "cell_type": "markdown",
   "metadata": {
    "ExecuteTime": {
     "end_time": "2022-06-16T04:21:06.238056Z",
     "start_time": "2022-06-16T04:21:06.232219Z"
    }
   },
   "source": [
    "def plot_outliers_w1(ax,data_test_neo,data_test_mep,sigma_outlier=5):\n",
    "    timelabel,maglabel,e_maglabel=('mjd','w1mpro','w1sigmpro')\n",
    "    plot_outlier_median_lc(ax,data_test_neo,timelabel,maglabel,e_maglabel,interval=180,sigma_outlier=sigma_outlier)\n",
    "\n",
    "    timelabel,maglabel,e_maglabel=('mjd','w1mpro_ep','w1sigmpro_ep')\n",
    "    plot_outlier_median_lc(ax,data_test_mep,timelabel,maglabel,e_maglabel,interval=180,sigma_outlier=sigma_outlier)\n",
    "\n",
    "    #return data_test_neo_w1_outlier,data_test_neo_w2_outlier,data_test_mep_w1_outlier,data_test_mep_w2_outlier\n",
    "\n",
    "def plot_outliers_w2(ax,data_test_neo,data_test_mep,sigma_outlier=5):\n",
    "    timelabel,maglabel,e_maglabel=('mjd','w2mpro','w2sigmpro')\n",
    "    plot_outlier_median_lc(ax,data_test_neo,timelabel,maglabel,e_maglabel,interval=180,sigma_outlier=sigma_outlier)\n",
    "\n",
    "    timelabel,maglabel,e_maglabel=('mjd','w2mpro_ep','w2sigmpro_ep')\n",
    "    plot_outlier_median_lc(ax,data_test_mep,timelabel,maglabel,e_maglabel,interval=180,sigma_outlier=sigma_outlier)"
   ]
  },
  {
   "cell_type": "code",
   "execution_count": null,
   "metadata": {
    "ExecuteTime": {
     "end_time": "2023-07-22T04:41:29.461222Z",
     "start_time": "2023-07-22T04:41:29.459210Z"
    }
   },
   "outputs": [],
   "source": [
    "print()"
   ]
  },
  {
   "cell_type": "markdown",
   "metadata": {},
   "source": [
    "## def get_wise_data"
   ]
  },
  {
   "cell_type": "markdown",
   "metadata": {
    "ExecuteTime": {
     "end_time": "2023-06-18T11:39:42.577983Z",
     "start_time": "2023-06-18T11:39:42.569820Z"
    }
   },
   "source": [
    "a = None\n",
    "if a:\n",
    "    print(1)\n",
    "else:\n",
    "    print(2)"
   ]
  },
  {
   "cell_type": "code",
   "execution_count": null,
   "metadata": {},
   "outputs": [],
   "source": []
  },
  {
   "cell_type": "code",
   "execution_count": 48,
   "metadata": {
    "ExecuteTime": {
     "end_time": "2023-08-18T11:26:02.741115Z",
     "start_time": "2023-08-18T11:26:02.730320Z"
    }
   },
   "outputs": [],
   "source": [
    "def get_wise_data(name_test,datawise_dir=CLAGN_wisedata_dir):\n",
    "    #print(name_test)\n",
    "    search_name=name_test.replace(' ','') \n",
    "    save_name=search_name.strip()\n",
    "    if os.path.exists(os.path.join(datawise_dir,'wise_%s_neo.csv'%save_name)):\n",
    "        data_test_neo=pd.read_csv(os.path.join(datawise_dir,'wise_%s_neo.csv'%save_name))\n",
    "        data_test_neo=data_test_neo[data_test_neo['w1mpro'].notnull()]\n",
    "        data_test_neo=data_test_neo[data_test_neo['w2mpro'].notnull()]\n",
    "        data_test_neo=data_test_neo[data_test_neo['w1sigmpro'].notnull()]\n",
    "        data_test_neo=data_test_neo[data_test_neo['w2sigmpro'].notnull()]\n",
    "        #data_test_neo=data_test_neo[data_test_neo['w1mpro']<15]\n",
    "        #data_test_neo=data_test_neo[data_test_neo['w2mpro']<13]  \n",
    "        #data_test_neo=data_test_neo[data_test_neo['w1rchi2']<2]\n",
    "        #data_test_neo=data_test_neo[data_test_neo['w2rchi2']<2]\n",
    "        #data_test_neo=data_test_neo[data_test_neo['cc_flags']==\"b'0000'\"]\n",
    "        #data_test_neo=data_test_neo[data_test_neo['nb']<3]\n",
    "        #data_test_neo=data_test_neo[data_test_neo['na']==0] \n",
    "        #data_test_neo=data_test_neo[data_test_neo['w1snr']>10] \n",
    "        #data_test_neo=data_test_neo[data_test_neo['w2snr']>10] \n",
    "\n",
    "        data_test_neo=data_test_neo[data_test_neo['qual_frame']>0]\n",
    "        #print(len(data_test_neo))\n",
    "        data_test_neo=(data_test_neo.loc[:, ['mjd', 'w1mpro','w2mpro',\n",
    "                                     'w1sigmpro','w2sigmpro',\n",
    "                                     ]].sort_values('mjd'))\n",
    "\n",
    "        data_test_neo=data_test_neo.reset_index(drop=True)\n",
    "    #print(data_test_neo.columns)\n",
    "     \n",
    "    else:\n",
    "        data_test_neo=[]\n",
    "    if os.path.exists(os.path.join(datawise_dir,'wise_%s_mep.csv'%save_name)):\n",
    "        \n",
    "        data_test_mep=pd.read_csv(os.path.join(datawise_dir,'wise_%s_mep.csv'%save_name))\n",
    "        data_test_mep=data_test_mep[data_test_mep['w1mpro_ep'].notnull()]\n",
    "        data_test_mep=data_test_mep[data_test_mep['w2mpro_ep'].notnull()]\n",
    "        data_test_mep=data_test_mep[data_test_mep['w1sigmpro_ep'].notnull()]\n",
    "        data_test_mep=data_test_mep[data_test_mep['w2sigmpro_ep'].notnull()]\n",
    "        #data_test_mep=data_test_mep[data_test_mep['qual_frame']>0]\n",
    "        data_test_mep=data_test_mep[data_test_mep['qi_fact']>0]\n",
    "        data_test_mep=data_test_mep[data_test_mep['saa_sep']>0]\n",
    "        #data_test_mep=data_test_mep[data_test_mep['cc_flags']==\"b'0000'\"]\n",
    "        #data_test_mep=data_test_mep[data_test_mep['nb']<3]\n",
    "        #data_test_mep=data_test_mep[data_test_mep['na']==0] \n",
    "\n",
    "        #print(len(data_test_mep))\n",
    "        data_test_mep=(data_test_mep.loc[:, ['mjd', 'w1mpro_ep','w2mpro_ep',\n",
    "                                             'w1sigmpro_ep','w2sigmpro_ep',\n",
    "                                             ]].sort_values('mjd'))\n",
    "\n",
    "        data_test_mep=data_test_mep.reset_index(drop=True)\n",
    "    #print(data_test_mep.columns)\n",
    "    #if not os.path.exists(save_lc_img_path):\n",
    "    else:\n",
    "        data_test_mep=[]\n",
    "    return data_test_neo,data_test_mep\n",
    "    "
   ]
  },
  {
   "cell_type": "code",
   "execution_count": 49,
   "metadata": {
    "ExecuteTime": {
     "end_time": "2023-08-18T11:26:03.754957Z",
     "start_time": "2023-08-18T11:26:03.744670Z"
    }
   },
   "outputs": [],
   "source": [
    "def get_M1minM2_data(data_test_neo,data_test_mep,neo_maglabel_1='w1mpro',neo_maglabel_2='w2mpro',\\\n",
    "                     mep_maglabel_1='w1mpro_ep',mep_maglabel_2='w2mpro_ep'):\n",
    "    \n",
    "    data_test_neo['delta_M']=data_test_neo[neo_maglabel_1]-data_test_neo[neo_maglabel_2]\n",
    "    data_test_mep['delta_M']=data_test_mep[neo_maglabel_1]-data_test_mep[neo_maglabel_2]\n",
    "    \n",
    "    \n",
    "    return data_test_neo['mjd','delta_M'],data_test_mep['mjd','delta_M']\n",
    "    "
   ]
  },
  {
   "cell_type": "code",
   "execution_count": null,
   "metadata": {},
   "outputs": [],
   "source": []
  },
  {
   "cell_type": "code",
   "execution_count": null,
   "metadata": {},
   "outputs": [],
   "source": []
  },
  {
   "cell_type": "code",
   "execution_count": null,
   "metadata": {},
   "outputs": [],
   "source": []
  },
  {
   "cell_type": "code",
   "execution_count": null,
   "metadata": {},
   "outputs": [],
   "source": []
  },
  {
   "cell_type": "markdown",
   "metadata": {},
   "source": [
    "## def get_wise_<font color=red>RADEC</font>_data "
   ]
  },
  {
   "cell_type": "code",
   "execution_count": 50,
   "metadata": {
    "ExecuteTime": {
     "end_time": "2023-08-18T11:26:07.222156Z",
     "start_time": "2023-08-18T11:26:07.216495Z"
    }
   },
   "outputs": [],
   "source": [
    "def get_wise_radec_data(radeg,decdeg,datawise_dir=CLAGN_wisedata_dir):\n",
    "    #print(name_test)\n",
    "    save_name='RA%.5f_DEC%.5f'%(radeg,decdeg)\n",
    "    #name=save_name\n",
    "\n",
    "    data_test_neo=pd.read_csv(os.path.join(datawise_dir,'wise_%s_neo.csv'%save_name))\n",
    "    data_test_neo=data_test_neo[data_test_neo['w1mpro'].notnull()]\n",
    "    data_test_neo=data_test_neo[data_test_neo['w2mpro'].notnull()]\n",
    "    data_test_neo=data_test_neo[data_test_neo['w1sigmpro'].notnull()]\n",
    "    data_test_neo=data_test_neo[data_test_neo['w2sigmpro'].notnull()]\n",
    "    #data_test_neo=data_test_neo[data_test_neo['w1mpro']<15]\n",
    "    #data_test_neo=data_test_neo[data_test_neo['w2mpro']<13]  \n",
    "    #data_test_neo=data_test_neo[data_test_neo['w1rchi2']<2]\n",
    "    #data_test_neo=data_test_neo[data_test_neo['w2rchi2']<2]\n",
    "    #data_test_neo=data_test_neo[data_test_neo['cc_flags']==\"b'0000'\"]\n",
    "    #data_test_neo=data_test_neo[data_test_neo['cc_flags']=='0000']\n",
    "    #data_test_neo=data_test_neo[data_test_neo['nb']<3]\n",
    "    #data_test_neo=data_test_neo[data_test_neo['na']==0] \n",
    "    data_test_neo=data_test_neo[data_test_neo['w1snr']>3] \n",
    "    data_test_neo=data_test_neo[data_test_neo['w2snr']>3]     \n",
    "    #data_test_neo=data_test_neo[data_test_neo['qual_frame']>0]\n",
    "    \n",
    "    #print(len(data_test_neo))\n",
    "    data_test_neo=(data_test_neo.loc[:, ['mjd', 'w1mpro','w2mpro',\n",
    "                                 'w1sigmpro','w2sigmpro',\n",
    "                                 ]].sort_values('mjd'))\n",
    "\n",
    "    data_test_neo=data_test_neo.reset_index(drop=True)\n",
    "    #print(data_test_neo.columns)\n",
    "\n",
    "    data_test_mep=pd.read_csv(os.path.join(datawise_dir,'wise_%s_mep.csv'%save_name))\n",
    "    data_test_mep=data_test_mep[data_test_mep['w1mpro_ep'].notnull()]\n",
    "    data_test_mep=data_test_mep[data_test_mep['w2mpro_ep'].notnull()]\n",
    "    data_test_mep=data_test_mep[data_test_mep['w1sigmpro_ep'].notnull()]\n",
    "    data_test_mep=data_test_mep[data_test_mep['w2sigmpro_ep'].notnull()]\n",
    "    #data_test_mep=data_test_mep[data_test_mep['qual_frame']>5]\n",
    "    data_test_mep=data_test_mep[data_test_mep['qi_fact']>0]\n",
    "    data_test_mep=data_test_mep[data_test_mep['saa_sep']>0]\n",
    "    #data_test_mep=data_test_mep[data_test_mep['cc_flags']==\"b'0000'\"]\n",
    "    #data_test_mep=data_test_mep[data_test_mep['cc_flags']==0]\n",
    "    #data_test_mep=data_test_mep[data_test_mep['nb']<3]\n",
    "    #data_test_mep=data_test_mep[data_test_mep['na']==0] \n",
    "\n",
    "    #print(len(data_test_mep))\n",
    "    data_test_mep=(data_test_mep.loc[:, ['mjd', 'w1mpro_ep','w2mpro_ep',\n",
    "                                         'w1sigmpro_ep','w2sigmpro_ep',\n",
    "                                         ]].sort_values('mjd'))\n",
    "\n",
    "    data_test_mep=data_test_mep.reset_index(drop=True)\n",
    "    #print(data_test_mep.columns)\n",
    "    #if not os.path.exists(save_lc_img_path):\n",
    "      \n",
    "    return data_test_neo,data_test_mep\n",
    "    "
   ]
  },
  {
   "cell_type": "code",
   "execution_count": null,
   "metadata": {},
   "outputs": [],
   "source": []
  },
  {
   "cell_type": "code",
   "execution_count": null,
   "metadata": {},
   "outputs": [],
   "source": []
  },
  {
   "cell_type": "code",
   "execution_count": null,
   "metadata": {},
   "outputs": [],
   "source": []
  },
  {
   "cell_type": "markdown",
   "metadata": {},
   "source": [
    "## def get_intrinsic_var"
   ]
  },
  {
   "cell_type": "code",
   "execution_count": 51,
   "metadata": {
    "ExecuteTime": {
     "end_time": "2023-08-18T11:26:09.203443Z",
     "start_time": "2023-08-18T11:26:09.188191Z"
    }
   },
   "outputs": [],
   "source": [
    "epsilon_s_w1=0.024\n",
    "epsilon_s_w2=0.028\n",
    "\n",
    "def get_intrinsic_var(data,mag_label,magerr_label,epsilon_s):\n",
    "    \n",
    "    mags=data[mag_label]\n",
    "    e_mags=data[magerr_label]\n",
    "    \n",
    "    mag_weighted_mean_mag = get_mag_weighted_mean_mag(mags,e_mags)    \n",
    "    mag_weighted_mean_e_mag_= get_mag_weighted_mean_e_mag(mags,e_mags)\n",
    "    mag_mean=mag_weighted_mean_mag\n",
    "    \n",
    "    length_N=len(data[mag_label])\n",
    "    epsilon_square=np.average(data[magerr_label]**2)+epsilon_s**2\n",
    "    Sigma_square=np.sum((data[mag_label]-mag_mean)**2)/(length_N-1)\n",
    "    \n",
    "    if Sigma_square>epsilon_square:\n",
    "        sigma_m=np.sqrt(Sigma_square-epsilon_square)\n",
    "    else:\n",
    "        sigma_m=0\n",
    "    \n",
    "    if length_N<2:\n",
    "        sigma_m=-1#print(length_N)\n",
    "    return sigma_m"
   ]
  },
  {
   "cell_type": "markdown",
   "metadata": {},
   "source": [
    "## def get_intrinsic_var_rebin"
   ]
  },
  {
   "cell_type": "code",
   "execution_count": 52,
   "metadata": {
    "ExecuteTime": {
     "end_time": "2023-08-18T11:26:10.632222Z",
     "start_time": "2023-08-18T11:26:10.616999Z"
    }
   },
   "outputs": [],
   "source": [
    "def get_intrinsic_var_rebin(data_rebin_neo,data_rebin_mep,epsilon_s):\n",
    "    \n",
    "    mags=data[mag_label]\n",
    "    e_mags=data[magerr_label]\n",
    "    \n",
    "    mag_weighted_mean_mag = get_mag_weighted_mean_mag(mags,e_mags)    \n",
    "    mag_weighted_mean_e_mag_= get_mag_weighted_mean_e_mag(mags,e_mags)\n",
    "    mag_mean=mag_weighted_mean_mag\n",
    "    \n",
    "    length_N=len(mags)\n",
    "    epsilon_square=np.average(data[magerr_label]**2)+epsilon_s**2\n",
    "    Sigma_square=np.sum((data[mag_label]-mag_mean)**2)/(length_N-1)\n",
    "    \n",
    "    if Sigma_square>epsilon_square:\n",
    "        sigma_m=np.sqrt(Sigma_square-epsilon_square)\n",
    "    else:\n",
    "        sigma_m=0\n",
    "    \n",
    "    if length_N<2:\n",
    "        sigma_m=-1#print(length_N)\n",
    "        \n",
    "    return sigma_m"
   ]
  },
  {
   "cell_type": "code",
   "execution_count": null,
   "metadata": {},
   "outputs": [],
   "source": []
  },
  {
   "cell_type": "code",
   "execution_count": null,
   "metadata": {},
   "outputs": [],
   "source": []
  },
  {
   "cell_type": "markdown",
   "metadata": {},
   "source": [
    "## def get_minmax_mag_name_one"
   ]
  },
  {
   "cell_type": "markdown",
   "metadata": {},
   "source": [
    "## def get_<font color=red>$\\Delta M$_radec</font>"
   ]
  },
  {
   "cell_type": "code",
   "execution_count": 31,
   "metadata": {
    "ExecuteTime": {
     "end_time": "2023-07-23T02:20:13.708457Z",
     "start_time": "2023-07-23T02:20:13.700084Z"
    }
   },
   "outputs": [],
   "source": [
    "def get_minmax_mag_name_one(data_test_neo,data_test_mep):    \n",
    "    maxmag=0\n",
    "    minmag=20\n",
    "    maxmag_var=0 \n",
    "    \n",
    "    if len(data_test_neo)>20:    \n",
    "        mean_mjds_neo,mean_mags_neo,mean_mags_e_neo=median_lc(data_test_neo,'mjd','w1mpro','w1sigmpro',interval=180,)\n",
    "        maxmag=max(max(mean_mags_neo),maxmag)  \n",
    "        minmag=min(min(mean_mags_neo),minmag)  \n",
    "    \n",
    "    if len(data_test_mep)>20: \n",
    "        mean_mjds_mep,mean_mags_mep,mean_mags_e_mep=median_lc(data_test_mep,'mjd','w1mpro_ep','w1sigmpro_ep',interval=180,)\n",
    "        maxmag=max(max(mean_mags_mep),maxmag)  \n",
    "        minmag=min(min(mean_mags_mep),minmag) \n",
    "        \n",
    "    maxmag_var=maxmag-minmag\n",
    "    return maxmag_var   "
   ]
  },
  {
   "cell_type": "markdown",
   "metadata": {},
   "source": [
    "## def Wmag_to_Lum"
   ]
  },
  {
   "cell_type": "code",
   "execution_count": 32,
   "metadata": {
    "ExecuteTime": {
     "end_time": "2023-07-23T02:20:14.881924Z",
     "start_time": "2023-07-23T02:20:14.865011Z"
    }
   },
   "outputs": [],
   "source": [
    "def W1mag_to_Lum(w1,d_cm):\n",
    "    Lum=(-48.6-w1-2.699)/2.5+np.log10(4*np.pi*d_cm**2)+np.log10((constants.c/(3.4*u.um)).to(u.Hz).value)\n",
    "    return Lum #logLum\n",
    "\n",
    "def W2mag_to_Lum(w2,d_cm):\n",
    "    Lum=(-48.6-w2-3.339)/2.5+np.log10(4*np.pi*d_cm**2)+np.log10((constants.c/(4.6*u.um)).to(u.Hz).value)\n",
    "    return Lum #logLum\n",
    " \n",
    "\n",
    "def W3mag_to_Lum(w3,d_cm):\n",
    "    Lum=(-48.6-w3-5.174)/2.5+np.log10(4*np.pi*d_cm**2)+np.log10((constants.c/(12*u.um)).to(u.Hz).value)\n",
    "    return Lum #logLum\n",
    "\n",
    "def W4mag_to_Lum(w4,d_cm):\n",
    "    Lum=(-48.6-w4-6.620)/2.5+np.log10(4*np.pi*d_cm**2)+np.log10((constants.c/(22*u.um)).to(u.Hz).value)\n",
    "    return Lum #logLum"
   ]
  },
  {
   "cell_type": "code",
   "execution_count": null,
   "metadata": {},
   "outputs": [],
   "source": []
  },
  {
   "cell_type": "code",
   "execution_count": null,
   "metadata": {},
   "outputs": [],
   "source": []
  },
  {
   "cell_type": "markdown",
   "metadata": {},
   "source": [
    "## get_rebinwise_data"
   ]
  },
  {
   "cell_type": "code",
   "execution_count": 118,
   "metadata": {
    "ExecuteTime": {
     "end_time": "2023-08-18T14:28:55.177567Z",
     "start_time": "2023-08-18T14:28:55.157554Z"
    }
   },
   "outputs": [],
   "source": [
    "def get_rebinwise_data(data_test_neo,data_test_mep,sigma_outlier=100):\n",
    "    #print(name_test)\n",
    "    #search_name=name_test.replace(' ','') \n",
    "    #save_name=search_name.strip()\n",
    "    \n",
    "    \n",
    "    data_rebin_neo=pd.DataFrame([])\n",
    "    data_rebin_mep=pd.DataFrame([])\n",
    "    \n",
    "    timelabel,maglabel,e_maglabel=('mjd','w1mpro','w1sigmpro')\n",
    "    band='W1'\n",
    "    mean_mjds,mean_mags,mean_mags_e=median_lc(data_test_neo,timelabel,maglabel,e_maglabel,interval=180,sigma_outlier=sigma_outlier)\n",
    "\n",
    "    data_rebin_neo['t_W1']=mean_mjds\n",
    "    data_rebin_neo['W1']=mean_mags\n",
    "    data_rebin_neo['e_W1']=mean_mags_e\n",
    "    \n",
    "    timelabel,maglabel,e_maglabel=('mjd','w2mpro','w2sigmpro')\n",
    "    band='W2' \n",
    "    mean_mjds,mean_mags,mean_mags_e=median_lc(data_test_neo,timelabel,maglabel,e_maglabel,interval=180,sigma_outlier=sigma_outlier)\n",
    "    \n",
    "    data_rebin_neo['t_W2']=mean_mjds\n",
    "    data_rebin_neo['W2']=mean_mags\n",
    "    data_rebin_neo['e_W2']=mean_mags_e\n",
    "    \n",
    "#############################################################\n",
    "    timelabel,maglabel,e_maglabel=('mjd','w1mpro_ep','w1sigmpro_ep')\n",
    "    band='W1'\n",
    "    mean_mjds,mean_mags,mean_mags_e=median_lc(data_test_mep,timelabel,maglabel,e_maglabel,interval=180,sigma_outlier=sigma_outlier)\n",
    "\n",
    "    data_rebin_mep['t_W1']=mean_mjds\n",
    "    data_rebin_mep['W1']=mean_mags\n",
    "    data_rebin_mep['e_W1']=mean_mags_e\n",
    "    \n",
    "    timelabel,maglabel,e_maglabel=('mjd','w2mpro_ep','w2sigmpro_ep')\n",
    "    band='W2' \n",
    "    mean_mjds,mean_mags,mean_mags_e=median_lc(data_test_mep,timelabel,maglabel,e_maglabel,interval=180,sigma_outlier=sigma_outlier)\n",
    "    \n",
    "    data_rebin_mep['t_W2']=mean_mjds\n",
    "    data_rebin_mep['W2']=mean_mags\n",
    "    data_rebin_mep['e_W2']=mean_mags_e\n",
    "        \n",
    "        \n",
    "    return data_rebin_neo,data_rebin_mep\n",
    "    "
   ]
  },
  {
   "cell_type": "code",
   "execution_count": null,
   "metadata": {},
   "outputs": [],
   "source": []
  },
  {
   "cell_type": "code",
   "execution_count": null,
   "metadata": {},
   "outputs": [],
   "source": []
  },
  {
   "cell_type": "code",
   "execution_count": null,
   "metadata": {},
   "outputs": [],
   "source": []
  },
  {
   "cell_type": "code",
   "execution_count": 62,
   "metadata": {
    "ExecuteTime": {
     "end_time": "2023-08-18T11:27:16.509889Z",
     "start_time": "2023-08-18T11:27:16.501091Z"
    }
   },
   "outputs": [
    {
     "data": {
      "text/plain": [
       "'/Volumes/ExtremeSSD/data_source/WISE_data/DESI_CLAGN_plot'"
      ]
     },
     "execution_count": 62,
     "metadata": {},
     "output_type": "execute_result"
    }
   ],
   "source": [
    "save_lc_img_dir"
   ]
  },
  {
   "cell_type": "markdown",
   "metadata": {},
   "source": [
    "## def plot_mag "
   ]
  },
  {
   "cell_type": "code",
   "execution_count": null,
   "metadata": {},
   "outputs": [],
   "source": []
  },
  {
   "cell_type": "code",
   "execution_count": 63,
   "metadata": {
    "ExecuteTime": {
     "end_time": "2023-08-18T11:27:17.567865Z",
     "start_time": "2023-08-18T11:27:17.546999Z"
    }
   },
   "outputs": [],
   "source": [
    "def plot_mag_w1(ax,data_test_neo,data_test_mep):\n",
    "    if len(data_test_neo)>0:\n",
    "        ax.errorbar(data_test_neo['mjd'],data_test_neo['w1mpro'],data_test_neo['w1sigmpro'],\n",
    "                    fillstyle=\"none\",\n",
    "                    ls='',marker='o',color='red',label='W1',zorder=0)\n",
    "    if len(data_test_mep)>0:    \n",
    "        ax.errorbar(data_test_mep['mjd'],data_test_mep['w1mpro_ep'],data_test_mep['w1sigmpro_ep'],\n",
    "                    fillstyle=\"none\",\n",
    "                    ls='',marker='o',color='red',label='W1',zorder=0)\n",
    "    #ax.scatter(data_test_neo_w1_outlier['mjd'],data_test_neo_w1_outlier['w1mpro'],marker='.',color='red',zorder=1)\n",
    "    #ax.scatter(data_test_mep_w1_outlier['mjd'],data_test_mep_w1_outlier['w1mpro_ep'],marker='.',color='red',zorder=1)\n",
    "\n",
    "def plot_mag_w2(ax,data_test_neo,data_test_mep):\n",
    "    if len(data_test_neo)>0:\n",
    "        ax.errorbar(data_test_neo['mjd'],data_test_neo['w2mpro'],data_test_neo['w2sigmpro'],\n",
    "                    fillstyle=\"none\",\n",
    "                    ls='',marker='o',color='blue',label='W2',zorder=0)\n",
    "    if len(data_test_mep)>0:\n",
    "        ax.errorbar(data_test_mep['mjd'],data_test_mep['w2mpro_ep'],data_test_mep['w2sigmpro_ep'],\n",
    "                    fillstyle=\"none\",\n",
    "                    ls='',marker='o',color='blue',label='W2',zorder=0)\n",
    "    #ax.scatter(data_test_neo_w2_outlier['mjd'],data_test_neo_w2_outlier['w2mpro'],marker='.',color='red',zorder=1)\n",
    "    #ax.scatter(data_test_mep_w2_outlier['mjd'],data_test_mep_w2_outlier['w2mpro_ep'],marker='.',color='red',zorder=1)\n",
    "    \n",
    "def plot_rebinmag_w1(ax,data_rebin_neo,data_rebin_mep):\n",
    "    if len(data_rebin_neo)>0:\n",
    "        ax.errorbar(data_rebin_neo['t_W1'],data_rebin_neo['W1'],data_rebin_neo['e_W1'],\n",
    "                    ls='',marker='^',color='red',label='W1',zorder=2)\n",
    "    if len(data_rebin_mep)>0:\n",
    "        ax.errorbar(data_rebin_mep['t_W1'],data_rebin_mep['W1'],data_rebin_mep['e_W1'],\n",
    "                    ls='',marker='^',color='red',label='W1',zorder=2)\n",
    "\n",
    "def plot_rebinmag_w2(ax,data_rebin_neo,data_rebin_mep):  \n",
    "    if len(data_rebin_neo)>0:\n",
    "        ax.errorbar(data_rebin_neo['t_W2'],data_rebin_neo['W2'],data_rebin_neo['e_W2'],\n",
    "                    ls='',marker='+',color='blue',label='W2',zorder=2)\n",
    "    if len(data_rebin_mep)>0:\n",
    "        ax.errorbar(data_rebin_mep['t_W2'],data_rebin_mep['W2'],data_rebin_mep['e_W2'],\n",
    "                    ls='',marker='+',color='blue',label='W2',zorder=2)\n"
   ]
  },
  {
   "cell_type": "markdown",
   "metadata": {},
   "source": [
    "## def plot_mag_w1_filled"
   ]
  },
  {
   "cell_type": "code",
   "execution_count": 64,
   "metadata": {
    "ExecuteTime": {
     "end_time": "2023-08-18T11:27:18.382292Z",
     "start_time": "2023-08-18T11:27:18.367366Z"
    }
   },
   "outputs": [],
   "source": [
    "def plot_mag_w1_filled(ax,data_test_neo,data_test_mep):\n",
    "    if len(data_test_neo)>0:\n",
    "        ax.errorbar(data_test_neo['mjd'],data_test_neo['w1mpro'],data_test_neo['w1sigmpro'],\n",
    "                    markersize=3,\n",
    "                    ls='',marker='.',color='red',label='W1',zorder=0)\n",
    "        \n",
    "    if len(data_test_mep)>0:    \n",
    "        ax.errorbar(data_test_mep['mjd'],data_test_mep['w1mpro_ep'],data_test_mep['w1sigmpro_ep'],\n",
    "                    markersize=3,\n",
    "                    ls='',marker='.',color='red',label='W1',zorder=0)\n",
    "        \n",
    "    #ax.scatter(data_test_neo_w1_outlier['mjd'],data_test_neo_w1_outlier['w1mpro'],marker='.',color='red',zorder=1)\n",
    "    #ax.scatter(data_test_mep_w1_outlier['mjd'],data_test_mep_w1_outlier['w1mpro_ep'],marker='.',color='red',zorder=1)\n",
    "\n",
    "def plot_mag_w2_filled(ax,data_test_neo,data_test_mep):\n",
    "    if len(data_test_neo)>0:\n",
    "        ax.errorbar(data_test_neo['mjd'],data_test_neo['w2mpro'],data_test_neo['w2sigmpro'],\n",
    "                    markersize=3,\n",
    "                    ls='',marker='.',color='blue',label='W2',zorder=0)\n",
    "        \n",
    "    if len(data_test_mep)>0:\n",
    "        ax.errorbar(data_test_mep['mjd'],data_test_mep['w2mpro_ep'],data_test_mep['w2sigmpro_ep'],\n",
    "                    markersize=3,\n",
    "                    ls='',marker='.',color='blue',label='W2',zorder=0)"
   ]
  },
  {
   "cell_type": "code",
   "execution_count": 65,
   "metadata": {
    "ExecuteTime": {
     "end_time": "2023-08-18T11:27:18.623580Z",
     "start_time": "2023-08-18T11:27:18.605533Z"
    }
   },
   "outputs": [],
   "source": [
    "def plot_mag_w1_outlier(ax,data_test_neo,data_test_mep):\n",
    "    if len(data_test_neo)>0:\n",
    "        ax.errorbar(data_test_neo['mjd'],data_test_neo['w1mpro'],data_test_neo['w1sigmpro'],\n",
    "                    markersize=4,\n",
    "                    ls='',marker='*',color='red',label='W1',zorder=5)\n",
    "        \n",
    "    if len(data_test_mep)>0:    \n",
    "        ax.errorbar(data_test_mep['mjd'],data_test_mep['w1mpro_ep'],data_test_mep['w1sigmpro_ep'],\n",
    "                    markersize=4,\n",
    "                    ls='',marker='*',color='red',label='W1',zorder=5)\n",
    "        \n",
    "    #ax.scatter(data_test_neo_w1_outlier['mjd'],data_test_neo_w1_outlier['w1mpro'],marker='.',color='red',zorder=1)\n",
    "    #ax.scatter(data_test_mep_w1_outlier['mjd'],data_test_mep_w1_outlier['w1mpro_ep'],marker='.',color='red',zorder=1)\n",
    "\n",
    "def plot_mag_w2_outlier(ax,data_test_neo,data_test_mep):\n",
    "    if len(data_test_neo)>0:\n",
    "        ax.errorbar(data_test_neo['mjd'],data_test_neo['w2mpro'],data_test_neo['w2sigmpro'],\n",
    "                    markersize=4,\n",
    "                    ls='',marker='*',color='blue',label='W2',zorder=5)\n",
    "        \n",
    "    if len(data_test_mep)>0:\n",
    "        ax.errorbar(data_test_mep['mjd'],data_test_mep['w2mpro_ep'],data_test_mep['w2sigmpro_ep'],\n",
    "                    markersize=4,\n",
    "                    ls='',marker='*',color='blue',label='W2',zorder=5)"
   ]
  },
  {
   "cell_type": "code",
   "execution_count": null,
   "metadata": {},
   "outputs": [],
   "source": []
  },
  {
   "cell_type": "code",
   "execution_count": null,
   "metadata": {},
   "outputs": [],
   "source": []
  },
  {
   "cell_type": "markdown",
   "metadata": {},
   "source": [
    "## def wise_plot_lc"
   ]
  },
  {
   "cell_type": "code",
   "execution_count": null,
   "metadata": {
    "ExecuteTime": {
     "end_time": "2023-06-17T14:56:31.895153Z",
     "start_time": "2023-06-17T14:56:31.888217Z"
    }
   },
   "outputs": [],
   "source": []
  },
  {
   "cell_type": "code",
   "execution_count": 66,
   "metadata": {
    "ExecuteTime": {
     "end_time": "2023-08-18T11:27:20.690700Z",
     "start_time": "2023-08-18T11:27:20.291563Z"
    }
   },
   "outputs": [],
   "source": [
    "!open /Volumes/ExtremeSSD/CLAGN_statistic_plot/WISE_lc"
   ]
  },
  {
   "cell_type": "code",
   "execution_count": 67,
   "metadata": {
    "ExecuteTime": {
     "end_time": "2023-08-18T11:27:28.961996Z",
     "start_time": "2023-08-18T11:27:28.941697Z"
    }
   },
   "outputs": [],
   "source": [
    "def wise_plot_lc(name_test,save_lc_img_dir=save_lc_img_dir,datawise_dir='/Users/lyubing/blog/brettlv.github.io/pythoncode/changinglookAGN/CLAGN_wise_data/'):\n",
    "    data_test_neo,data_test_mep=get_wise_data(name_test,datawise_dir)\n",
    "    #data_rebin_neo,data_rebin_mep=get_rebinwise_data(data_test_neo,data_test_mep,sigma_outlier=10)    \n",
    "    \n",
    "    search_name=name_test.replace(' ','') \n",
    "    save_name=search_name.strip()\n",
    "    save_lc_img_path=os.path.join(save_lc_img_dir,'%s_wise.png'%save_name)\n",
    "    \n",
    "    fig = plt.figure(figsize=(8,4))\n",
    "    fig.subplots_adjust(hspace=0.0, wspace = 0.0)\n",
    "    ax = fig.add_subplot(111)\n",
    "    \n",
    "    #plot_mag_w1(ax,data_test_neo,data_test_mep)\n",
    "    #plot_mag_w2(ax,data_test_neo,data_test_mep)\n",
    "    \n",
    "    plot_mag_w1_filled(ax,data_test_neo,data_test_mep)\n",
    "    plot_mag_w2_filled(ax,data_test_neo,data_test_mep) \n",
    "    #plot_rebinmag_w1(ax,data_rebin_neo,data_rebin_mep)\n",
    "    #plot_rebinmag_w2(ax,data_rebin_neo,data_rebin_mep) \n",
    "    \n",
    "    ''' \n",
    "    data_test_neo_remove,data_test_mep_remove=get_remove_neo_mep(data_test_neo,data_test_mep)\n",
    "    plot_mag_w1_filled(ax,data_test_neo_remove,data_test_mep_remove)\n",
    "    plot_mag_w2_filled(ax,data_test_neo_remove,data_test_mep_remove)   \n",
    "    data_test_neo_outlier,data_test_mep_outlier=get_outlier_neo_mep(data_test_neo,data_test_mep)\n",
    "    plot_mag_w1_outlier(ax,data_test_neo_outlier,data_test_mep_outlier)\n",
    "    plot_mag_w2_outlier(ax,data_test_neo_outlier,data_test_mep_outlier) \n",
    "    '''    \n",
    "    #ax.scatter(data_test_neo['mjd'],data_test_neo['w1mpro'],color='red',label='W1')\n",
    "    #ax.scatter(data_test_mep['mjd'],data_test_mep['w1mpro_ep'],color='red',label='W1')\n",
    "\n",
    "    #ax.scatter(data_test_neo['mjd'],data_test_neo['w2mpro'],color='blue',label='W2')\n",
    "    #ax.scatter(data_test_mep['mjd'],data_test_mep['w2mpro_ep'],color='blue',label='W2')\n",
    "    \n",
    "    \n",
    "    plot_secax(ax,mi_interval=365,ma_interval=365*2)   \n",
    "    handles, labels = ax.get_legend_handles_labels()\n",
    "    by_label = OrderedDict(zip(labels, handles))\n",
    "    ax.legend(by_label.values(), by_label.keys(),bbox_to_anchor=(0.8, 0.9),ncol=1,\n",
    "          loc=2,fontsize=10)\n",
    "\n",
    "    bottom, top = ax.set_ylim() \n",
    "    if bottom< top:\n",
    "        ax.set_ylim(top,bottom)\n",
    "\n",
    "    plt.xlabel('mjd')\n",
    "    plt.ylabel(r'$mag$')\n",
    "\n",
    "    ax.text(0.5, 0.9,name_test , horizontalalignment = 'center', verticalalignment = 'center',transform = ax.transAxes, fontsize = 10)\n",
    "    \n",
    "    if not os.path.exists(save_lc_img_path):\n",
    "        plt.savefig(save_lc_img_path,dpi=400, transparent=False, bbox_inches='tight')\n",
    "    plt.close()"
   ]
  },
  {
   "cell_type": "code",
   "execution_count": 68,
   "metadata": {
    "ExecuteTime": {
     "end_time": "2023-08-18T11:27:30.711884Z",
     "start_time": "2023-08-18T11:27:30.701876Z"
    }
   },
   "outputs": [
    {
     "name": "stdout",
     "output_type": "stream",
     "text": [
      "/Volumes/ExtremeSSD/data_source/WISE_data/DESI_CLAGN_plot\n"
     ]
    }
   ],
   "source": [
    "print(save_lc_img_dir)"
   ]
  },
  {
   "cell_type": "markdown",
   "metadata": {},
   "source": [
    "## def wise_plotradec_lc"
   ]
  },
  {
   "cell_type": "code",
   "execution_count": 69,
   "metadata": {
    "ExecuteTime": {
     "end_time": "2023-08-18T11:27:33.632042Z",
     "start_time": "2023-08-18T11:27:33.610813Z"
    }
   },
   "outputs": [],
   "source": [
    "def wise_plotradec_lc(radeg,decdeg,datawise_dir,plotwise_dir):\n",
    "    data_test_neo,data_test_mep=get_wise_radec_data(radeg,decdeg,datawise_dir)\n",
    "    #data_rebin_neo,data_rebin_mep=get_rebinwise_data(data_test_neo,data_test_mep,sigma_outlier=10)    \n",
    "    save_name='RA%.5f_DEC%.5f'%(radeg,decdeg)\n",
    "    name_test=save_name\n",
    "    \n",
    "    save_lc_img_path=os.path.join(plotwise_dir,'%s_wise.png'%save_name)\n",
    "    \n",
    "    fig = plt.figure(figsize=(8,4))\n",
    "    fig.subplots_adjust(hspace=0.0, wspace = 0.0)\n",
    "    ax = fig.add_subplot(111)\n",
    "    \n",
    "    #plot_mag_w1(ax,data_test_neo,data_test_mep)\n",
    "    #plot_mag_w2(ax,data_test_neo,data_test_mep)\n",
    "\n",
    "    data_test_neo_remove,data_test_mep_remove=get_remove_neo_mep(data_test_neo,data_test_mep)\n",
    "    plot_mag_w1_filled(ax,data_test_neo_remove,data_test_mep_remove)\n",
    "    plot_mag_w2_filled(ax,data_test_neo_remove,data_test_mep_remove)\n",
    "    #plot_rebinmag_w1(ax,data_rebin_neo,data_rebin_mep)\n",
    "    #plot_rebinmag_w2(ax,data_rebin_neo,data_rebin_mep)\n",
    "    \n",
    "    data_test_neo_outlier,data_test_mep_outlier=get_outlier_neo_mep(data_test_neo,data_test_mep)\n",
    "    plot_mag_w1_outlier(ax,data_test_neo_outlier,data_test_mep_outlier)\n",
    "    plot_mag_w2_outlier(ax,data_test_neo_outlier,data_test_mep_outlier)   \n",
    "    \n",
    "    #ax.scatter(data_test_neo['mjd'],data_test_neo['w1mpro'],color='red',label='W1')\n",
    "    #ax.scatter(data_test_mep['mjd'],data_test_mep['w1mpro_ep'],color='red',label='W1')\n",
    "\n",
    "\n",
    "    #ax.scatter(data_test_neo['mjd'],data_test_neo['w2mpro'],color='blue',label='W2')\n",
    "    #ax.scatter(data_test_mep['mjd'],data_test_mep['w2mpro_ep'],color='blue',label='W2')\n",
    "    plot_secax(ax,mi_interval=365,ma_interval=365*2)\n",
    "    \n",
    "    handles, labels = ax.get_legend_handles_labels()\n",
    "    by_label = OrderedDict(zip(labels, handles))\n",
    "    ax.legend(by_label.values(), by_label.keys(),bbox_to_anchor=(0.8, 0.9),ncol=1,\n",
    "          loc=2,fontsize=10)\n",
    "\n",
    "    bottom, top = ax.set_ylim() \n",
    "    if bottom< top:\n",
    "        ax.set_ylim(top,bottom)\n",
    "\n",
    "    plt.xlabel('mjd')\n",
    "    plt.ylabel(r'$mag$')\n",
    "\n",
    "    ax.text(0.5, 0.9,name_test , horizontalalignment = 'center', verticalalignment = 'center',transform = ax.transAxes, fontsize = 10)\n",
    "    plt.savefig(save_lc_img_path,dpi=400, transparent=False, bbox_inches='tight')\n",
    "    plt.close()"
   ]
  },
  {
   "cell_type": "code",
   "execution_count": null,
   "metadata": {},
   "outputs": [],
   "source": []
  },
  {
   "cell_type": "code",
   "execution_count": 75,
   "metadata": {
    "ExecuteTime": {
     "end_time": "2023-08-18T11:30:51.184719Z",
     "start_time": "2023-08-18T11:30:51.175826Z"
    }
   },
   "outputs": [
    {
     "data": {
      "text/plain": [
       "0"
      ]
     },
     "execution_count": 75,
     "metadata": {},
     "output_type": "execute_result"
    }
   ],
   "source": [
    "data_test_neo=[]\n",
    "len(data_test_neo)"
   ]
  },
  {
   "cell_type": "markdown",
   "metadata": {},
   "source": [
    "## def wise_rebin_lc "
   ]
  },
  {
   "cell_type": "code",
   "execution_count": 83,
   "metadata": {
    "ExecuteTime": {
     "end_time": "2023-08-18T11:42:24.421958Z",
     "start_time": "2023-08-18T11:42:24.404576Z"
    }
   },
   "outputs": [],
   "source": [
    "def wise_rebin_lc(name_test,save_lc_img_dir=save_lc_img_dir,datawise_dir='/Users/lyubing/blog/brettlv.github.io/pythoncode/changinglookAGN/CLAGN_wise_data/'):\n",
    "    data_test_neo,data_test_mep=get_wise_data(name_test,datawise_dir)\n",
    "    \n",
    "    if len(data_test_neo)>20:\n",
    "        data_test_neo,data_test_mep=get_remove_neo_mep(data_test_neo,data_test_mep)\n",
    "        data_rebin_neo,data_rebin_mep=get_rebinwise_data(data_test_neo,data_test_mep,sigma_outlier=100)    \n",
    "\n",
    "        #data_rebin_neo,data_rebin_mep=get_rebinwise_data(data_test_neo,data_test_mep,sigma_outlier=10)\n",
    "\n",
    "        search_name=name_test.replace(' ','') \n",
    "        save_name=search_name.strip()\n",
    "        save_lc_img_path=os.path.join(save_lc_img_dir,'%s_rebin.png'%save_name)\n",
    "\n",
    "        fig = plt.figure(figsize=(8,4))\n",
    "        fig.subplots_adjust(hspace=0.0, wspace = 0.0)\n",
    "        ax = fig.add_subplot(111)\n",
    "\n",
    "        #plot_mag_w1(ax,data_test_neo,data_test_mep)\n",
    "        #plot_mag_w2(ax,data_test_neo,data_test_mep)\n",
    "\n",
    "        plot_rebinmag_w1(ax,data_rebin_neo,data_rebin_mep)\n",
    "        plot_rebinmag_w2(ax,data_rebin_neo,data_rebin_mep)\n",
    "\n",
    "        #ax.scatter(data_test_neo['mjd'],data_test_neo['w1mpro'],color='red',label='W1')\n",
    "        #ax.scatter(data_test_mep['mjd'],data_test_mep['w1mpro_ep'],color='red',label='W1')\n",
    "\n",
    "        plot_secax(ax,mi_interval=365,ma_interval=365*2)\n",
    "        #ax.scatter(data_test_neo['mjd'],data_test_neo['w2mpro'],color='blue',label='W2')\n",
    "        #ax.scatter(data_test_mep['mjd'],data_test_mep['w2mpro_ep'],color='blue',label='W2')\n",
    "\n",
    "        handles, labels = ax.get_legend_handles_labels()\n",
    "        by_label = OrderedDict(zip(labels, handles))\n",
    "        ax.legend(by_label.values(), by_label.keys(),bbox_to_anchor=(0.2, 0.99),ncol=1,\n",
    "              loc=2,fontsize=10)\n",
    "\n",
    "        bottom, top = ax.set_ylim() \n",
    "        if bottom< top:\n",
    "            ax.set_ylim(top,bottom)\n",
    "\n",
    "        plt.xlabel('mjd')\n",
    "        plt.ylabel(r'$mag$')\n",
    "\n",
    "        ax.text(0.5, 0.9,name_test , horizontalalignment = 'center', verticalalignment = 'center',transform = ax.transAxes, fontsize = 10)\n",
    "        if not os.path.exists(save_lc_img_path):\n",
    "            plt.savefig(save_lc_img_path,dpi=400, transparent=False, bbox_inches='tight')\n",
    "        plt.close()"
   ]
  },
  {
   "cell_type": "code",
   "execution_count": 80,
   "metadata": {
    "ExecuteTime": {
     "end_time": "2023-08-18T11:41:42.762507Z",
     "start_time": "2023-08-18T11:41:42.751593Z"
    }
   },
   "outputs": [
    {
     "data": {
      "text/plain": [
       "'/Users/lyubing/blog/brettlv.github.io/pythoncode/changinglookAGN'"
      ]
     },
     "execution_count": 80,
     "metadata": {},
     "output_type": "execute_result"
    }
   ],
   "source": [
    "pwd"
   ]
  },
  {
   "cell_type": "markdown",
   "metadata": {},
   "source": [
    "## def wise_radec_rebin_lc"
   ]
  },
  {
   "cell_type": "code",
   "execution_count": 82,
   "metadata": {
    "ExecuteTime": {
     "end_time": "2023-08-18T11:42:22.234616Z",
     "start_time": "2023-08-18T11:42:22.213276Z"
    }
   },
   "outputs": [],
   "source": [
    "def wise_radec_rebin_lc(radeg,decdeg,datawise_dir,plotwise_dir):\n",
    "    \n",
    "    data_test_neo,data_test_mep=get_wise_radec_data(radeg,decdeg,datawise_dir)\n",
    "    if len(data_test_neo)>20:\n",
    "        \n",
    "        data_test_neo,data_test_mep=get_remove_neo_mep(data_test_neo,data_test_mep)\n",
    "        data_rebin_neo,data_rebin_mep=get_rebinwise_data(data_test_neo,data_test_mep,sigma_outlier=100)    \n",
    "\n",
    "        #data_rebin_neo,data_rebin_mep=get_rebinwise_data(data_test_neo,data_test_mep,sigma_outlier=10)\n",
    "\n",
    "        save_name='RA%.5f_DEC%.5f'%(radeg,decdeg)\n",
    "        name_test=save_name\n",
    "        save_lc_img_path=os.path.join(plotwise_dir,'%s_rebin.png'%save_name)\n",
    "\n",
    "        fig = plt.figure(figsize=(8,4))\n",
    "        fig.subplots_adjust(hspace=0.0, wspace = 0.0)\n",
    "        ax = fig.add_subplot(111)\n",
    "\n",
    "        #plot_mag_w1(ax,data_test_neo,data_test_mep)\n",
    "        #plot_mag_w2(ax,data_test_neo,data_test_mep)\n",
    "\n",
    "        plot_rebinmag_w1(ax,data_rebin_neo,data_rebin_mep)\n",
    "        plot_rebinmag_w2(ax,data_rebin_neo,data_rebin_mep)\n",
    "\n",
    "        #ax.scatter(data_test_neo['mjd'],data_test_neo['w1mpro'],color='red',label='W1')\n",
    "        #ax.scatter(data_test_mep['mjd'],data_test_mep['w1mpro_ep'],color='red',label='W1')\n",
    "\n",
    "        plot_secax(ax,mi_interval=365,ma_interval=365*2)\n",
    "        #ax.scatter(data_test_neo['mjd'],data_test_neo['w2mpro'],color='blue',label='W2')\n",
    "        #ax.scatter(data_test_mep['mjd'],data_test_mep['w2mpro_ep'],color='blue',label='W2')\n",
    "\n",
    "        handles, labels = ax.get_legend_handles_labels()\n",
    "        by_label = OrderedDict(zip(labels, handles))\n",
    "        ax.legend(by_label.values(), by_label.keys(),bbox_to_anchor=(0.2, 0.99),ncol=1,\n",
    "              loc=2,fontsize=10)\n",
    "\n",
    "        bottom, top = ax.set_ylim() \n",
    "        if bottom< top:\n",
    "            ax.set_ylim(top,bottom)\n",
    "\n",
    "        plt.xlabel('mjd')\n",
    "        plt.ylabel(r'$mag$')\n",
    "\n",
    "        ax.text(0.5, 0.9,name_test , horizontalalignment = 'center', verticalalignment = 'center',transform = ax.transAxes, fontsize = 10)\n",
    "        if not os.path.exists(save_lc_img_path):\n",
    "            plt.savefig(save_lc_img_path,dpi=400, transparent=False, bbox_inches='tight')\n",
    "        plt.close()"
   ]
  },
  {
   "cell_type": "code",
   "execution_count": null,
   "metadata": {},
   "outputs": [],
   "source": []
  },
  {
   "cell_type": "code",
   "execution_count": null,
   "metadata": {},
   "outputs": [],
   "source": []
  },
  {
   "cell_type": "markdown",
   "metadata": {},
   "source": [
    "# PATH"
   ]
  },
  {
   "cell_type": "code",
   "execution_count": null,
   "metadata": {
    "ExecuteTime": {
     "start_time": "2023-07-22T04:41:30.327Z"
    }
   },
   "outputs": [],
   "source": [
    "AGN_wisedata_dir"
   ]
  },
  {
   "cell_type": "code",
   "execution_count": 38,
   "metadata": {
    "ExecuteTime": {
     "end_time": "2023-08-18T10:57:52.967483Z",
     "start_time": "2023-08-18T10:57:52.956071Z"
    }
   },
   "outputs": [],
   "source": [
    "CLAGN_statistic_plot_dir='/Volumes/ExtremeSSD/CLAGN_statistic_plot/'\n",
    "CLAGN_wisedata_dir='/Users/lyubing/blog/brettlv.github.io/pythoncode/changinglookAGN/CLAGN_wise_data/'\n",
    "AGN_wisedata_dir='/Volumes/ExtremeSSD/data_source/WISE_data'\n",
    "LLAGN_wisedata_dir='%s/wise_data_search/LLAGN'%AGN_wisedata_dir\n",
    "QSO_wisedata_dir='%s/wise_data_search/QSO'%AGN_wisedata_dir\n",
    "AGN_MAXIdata_dir='/Volumes/ExtremeSSD/CLAGN_statistic_plot/MAXIlc/MAXI/'#%s_MAXI_1day_all.dat'%name"
   ]
  },
  {
   "cell_type": "code",
   "execution_count": null,
   "metadata": {},
   "outputs": [],
   "source": []
  },
  {
   "cell_type": "markdown",
   "metadata": {
    "ExecuteTime": {
     "end_time": "2022-07-04T12:38:10.109685Z",
     "start_time": "2022-07-04T12:38:10.106794Z"
    }
   },
   "source": [
    "wisedata_path='/Users/lyubing/blog/brettlv.github.io/pythoncode/WISEDATA'"
   ]
  },
  {
   "cell_type": "code",
   "execution_count": 21,
   "metadata": {
    "ExecuteTime": {
     "end_time": "2023-07-22T05:38:49.688511Z",
     "start_time": "2023-07-22T05:38:49.681530Z"
    }
   },
   "outputs": [],
   "source": [
    "wisedata_path_name='/Users/lyubing/blog/brettlv.github.io/pythoncode/WISEDATA'"
   ]
  },
  {
   "cell_type": "code",
   "execution_count": 22,
   "metadata": {
    "ExecuteTime": {
     "end_time": "2023-07-22T05:38:49.859561Z",
     "start_time": "2023-07-22T05:38:49.852386Z"
    }
   },
   "outputs": [],
   "source": [
    "save_lc_img_dir=os.path.join(CLAGN_statistic_plot_dir,'WISE_lc')\n",
    "save_lc_img_dir_RGOIII=os.path.join(CLAGN_statistic_plot_dir,'WISE_lc_RGOIII')"
   ]
  },
  {
   "cell_type": "code",
   "execution_count": 23,
   "metadata": {
    "ExecuteTime": {
     "end_time": "2023-07-22T05:38:50.188546Z",
     "start_time": "2023-07-22T05:38:50.180621Z"
    }
   },
   "outputs": [
    {
     "data": {
      "text/plain": [
       "'/Volumes/ExtremeSSD/CLAGN_statistic_plot/WISE_lc'"
      ]
     },
     "execution_count": 23,
     "metadata": {},
     "output_type": "execute_result"
    }
   ],
   "source": [
    "save_lc_img_dir"
   ]
  },
  {
   "cell_type": "code",
   "execution_count": 24,
   "metadata": {
    "ExecuteTime": {
     "end_time": "2023-07-22T05:38:50.744814Z",
     "start_time": "2023-07-22T05:38:50.740563Z"
    }
   },
   "outputs": [],
   "source": [
    "Fermi_bll_wisedata_dir='%s/WISE_fermi_blazars/BLL'%AGN_wisedata_dir\n",
    "Fermi_fsrq_wisedata_dir='%s/WISE_fermi_blazars/FSRQ'%AGN_wisedata_dir\n",
    "CLB_wisedata_dir='%s/WISE_CLB'%AGN_wisedata_dir"
   ]
  },
  {
   "cell_type": "code",
   "execution_count": 25,
   "metadata": {
    "ExecuteTime": {
     "end_time": "2023-07-22T05:38:51.815328Z",
     "start_time": "2023-07-22T05:38:51.811771Z"
    }
   },
   "outputs": [],
   "source": [
    "CLBcand_wisedata_dir='%s/WISE_CLB_candidates'%AGN_wisedata_dir"
   ]
  },
  {
   "cell_type": "code",
   "execution_count": null,
   "metadata": {},
   "outputs": [],
   "source": []
  },
  {
   "cell_type": "code",
   "execution_count": null,
   "metadata": {
    "ExecuteTime": {
     "start_time": "2023-07-22T04:41:30.494Z"
    }
   },
   "outputs": [],
   "source": [
    "ls /Volumes/ExtremeSSD/CLAGN_statistic_plot/WISE_lc"
   ]
  },
  {
   "cell_type": "markdown",
   "metadata": {},
   "source": [
    "## Surveyfits_path"
   ]
  },
  {
   "cell_type": "code",
   "execution_count": 41,
   "metadata": {
    "ExecuteTime": {
     "end_time": "2023-07-23T02:21:17.047336Z",
     "start_time": "2023-07-23T02:21:17.041422Z"
    }
   },
   "outputs": [],
   "source": [
    "# wisedata_path\n",
    "\n",
    "Surveyfits_root='/Volumes/ExtremeSSD/Survey_fits/'\n",
    "Surveyfits_path='/Volumes/ExtremeSSD/Survey_fits/Survey_fits/Survey_fits'\n"
   ]
  },
  {
   "cell_type": "code",
   "execution_count": null,
   "metadata": {
    "ExecuteTime": {
     "start_time": "2023-07-22T04:41:30.643Z"
    }
   },
   "outputs": [],
   "source": [
    "wisedata_path_LoTSS='%s/FadingGalaxy_wisedata/FadingGalaxy_LoTSS_wisedata'%Surveyfits_root\n",
    "if not os.path.exists(wisedata_path_LoTSS):\n",
    "    os.mkdir(wisedata_path_LoTSS)\n",
    "\n",
    "wiseplot_path_LoTSS='%s/FadingGalaxy_wisedata/FadingGalaxy_LoTSS_wiseplot'%Surveyfits_root\n",
    "if not os.path.exists(wiseplot_path_LoTSS):\n",
    "    os.mkdir(wiseplot_path_LoTSS)\n",
    "    \n",
    "wise_rebin_plot_path_LoTSS='%s/FadingGalaxy_wisedata/FadingGalaxy_LoTSS_wiseplot_rebin'%Surveyfits_root\n",
    "if not os.path.exists(wise_rebin_plot_path_LoTSS):\n",
    "    os.mkdir(wise_rebin_plot_path_LoTSS)\n"
   ]
  },
  {
   "cell_type": "code",
   "execution_count": null,
   "metadata": {
    "ExecuteTime": {
     "start_time": "2023-07-22T04:41:30.647Z"
    }
   },
   "outputs": [],
   "source": [
    "wisedata_path_GGSM='%s/FadingGalaxy_wisedata/FadingGalaxy_GGSM_wisedata'%Surveyfits_root\n",
    "if not os.path.exists(wisedata_path_GGSM):\n",
    "    os.mkdir(wisedata_path_GGSM)\n",
    "\n",
    "wiseplot_path_GGSM='%s/FadingGalaxy_wisedata/FadingGalaxy_GGSM_wiseplot'%Surveyfits_root\n",
    "if not os.path.exists(wiseplot_path_GGSM):\n",
    "    os.mkdir(wiseplot_path_GGSM)\n",
    "    \n",
    "wise_rebin_plot_path_GGSM='%s/FadingGalaxy_wisedata/FadingGalaxy_GGSM_wiseplot_rebin'%Surveyfits_root\n",
    "if not os.path.exists(wise_rebin_plot_path_GGSM):\n",
    "    os.mkdir(wise_rebin_plot_path_GGSM)"
   ]
  },
  {
   "cell_type": "code",
   "execution_count": null,
   "metadata": {
    "ExecuteTime": {
     "start_time": "2023-07-22T04:41:30.652Z"
    }
   },
   "outputs": [],
   "source": [
    "wisedata_path_TGSS='%s/FadingGalaxy_wisedata/FadingGalaxy_TGSS_wisedata'%Surveyfits_root\n",
    "if not os.path.exists(wisedata_path_TGSS):\n",
    "    os.mkdir(wisedata_path_TGSS)\n",
    "\n",
    "wiseplot_path_TGSS='%s/FadingGalaxy_wisedata/FadingGalaxy_TGSS_wiseplot'%Surveyfits_root\n",
    "if not os.path.exists(wiseplot_path_TGSS):\n",
    "    os.mkdir(wiseplot_path_TGSS)\n",
    "    \n",
    "wise_rebin_plot_path_TGSS='%s/FadingGalaxy_wisedata/FadingGalaxy_TGSS_wiseplot_rebin'%Surveyfits_root\n",
    "if not os.path.exists(wise_rebin_plot_path_TGSS):\n",
    "    os.mkdir(wise_rebin_plot_path_TGSS)\n"
   ]
  },
  {
   "cell_type": "code",
   "execution_count": null,
   "metadata": {},
   "outputs": [],
   "source": []
  },
  {
   "cell_type": "code",
   "execution_count": null,
   "metadata": {},
   "outputs": [],
   "source": []
  },
  {
   "cell_type": "markdown",
   "metadata": {
    "ExecuteTime": {
     "end_time": "2022-06-16T01:22:30.488896Z",
     "start_time": "2022-06-16T01:22:30.483981Z"
    }
   },
   "source": [
    "os.mkdir('/Users/brettlv/blog/brettlv.github.io/pythoncode/WISEDATA')"
   ]
  },
  {
   "cell_type": "markdown",
   "metadata": {},
   "source": [
    "# mission_table"
   ]
  },
  {
   "cell_type": "code",
   "execution_count": null,
   "metadata": {
    "ExecuteTime": {
     "start_time": "2023-07-22T04:41:30.905Z"
    }
   },
   "outputs": [],
   "source": [
    "from astroquery.heasarc import Heasarc, Conf\n",
    "heasarc = Heasarc()\n",
    "mission_table = heasarc.query_mission_list()\n",
    "mission_table_pd=mission_table.to_pandas()"
   ]
  },
  {
   "cell_type": "markdown",
   "metadata": {
    "ExecuteTime": {
     "end_time": "2022-06-16T09:53:07.527783Z",
     "start_time": "2022-06-16T09:53:07.511132Z"
    }
   },
   "source": [
    "mission_table_pd[mission_table_pd['Mission'].str.contains('SWIFT')]"
   ]
  },
  {
   "cell_type": "markdown",
   "metadata": {},
   "source": [
    "#  download_wise"
   ]
  },
  {
   "cell_type": "code",
   "execution_count": 1,
   "metadata": {
    "ExecuteTime": {
     "end_time": "2023-08-18T10:48:44.896407Z",
     "start_time": "2023-08-18T10:48:44.846787Z"
    }
   },
   "outputs": [],
   "source": [
    "#Irsa.ROW_LIMIT = 1000 # value of new row limit here.\n",
    "#Irsa.TIMEOUT = 120\n",
    "#radius=2*u.arcsec default 10*u.arcsec\n",
    "\n",
    "\n",
    "def download_wise(name,wisedata_path):\n",
    "\n",
    "    #print(i)\n",
    "    search_name=name.replace(' ','') \n",
    "    save_name=name.strip().replace(' ','') \n",
    "   \n",
    "    if not os.path.exists('%s/wise_%s_mep.csv'%(wisedata_path,save_name)):\n",
    "        print(search_name)\n",
    "        try:\n",
    "            Irsa.ROW_LIMIT = 1000\n",
    "            Irsa.TIMEOUT = 120\n",
    "            table_wise_mep=Irsa.query_region(search_name,catalog='allwise_p3as_mep',spatial='Cone',radius=10*u.arcsec,)\n",
    "            table_wise_mep.write('%s/wise_%s_mep.csv'%(wisedata_path,save_name), format='csv')\n",
    "            time.sleep(10+np.random.randint(5,10))\n",
    "        except Exception:\n",
    "            print(name,'mep')\n",
    "            #continue\n",
    "            #raise             \n",
    "    \n",
    "    if not os.path.exists('%s/wise_%s_neo.csv'%(wisedata_path,save_name)):\n",
    "        try:\n",
    "            Irsa.ROW_LIMIT = 1000\n",
    "            Irsa.TIMEOUT = 120\n",
    "\n",
    "            table_wise_neo=Irsa.query_region(search_name,catalog='neowiser_p1bs_psd',spatial='Cone',radius=10*u.arcsec,)  \n",
    "            table_wise_neo.write('%s/wise_%s_neo.csv'%(wisedata_path,save_name), format='csv')       \n",
    "            time.sleep(10+np.random.randint(5,10))   \n",
    "        except Exception:\n",
    "            #continue\n",
    "            print(name,'neo')\n",
    "            #raise                "
   ]
  },
  {
   "cell_type": "markdown",
   "metadata": {},
   "source": [
    "# def download_wise_withradec"
   ]
  },
  {
   "cell_type": "code",
   "execution_count": 12,
   "metadata": {
    "ExecuteTime": {
     "end_time": "2023-08-18T10:49:00.917096Z",
     "start_time": "2023-08-18T10:49:00.914636Z"
    }
   },
   "outputs": [],
   "source": [
    "from astropy import config as _config\n",
    "from astroquery.irsa import Irsa   \n",
    "from astropy import units as u\n",
    "from astropy.coordinates import SkyCoord"
   ]
  },
  {
   "cell_type": "code",
   "execution_count": 13,
   "metadata": {
    "ExecuteTime": {
     "end_time": "2023-08-18T10:49:00.923950Z",
     "start_time": "2023-08-18T10:49:00.918838Z"
    }
   },
   "outputs": [],
   "source": [
    "#Irsa.ROW_LIMIT = 1000 # value of new row limit here.\n",
    "#Irsa.TIMEOUT = 120\n",
    "#radius=2*u.arcsec default 10*u.arcsec\n",
    "\n",
    "def download_wise_withradec(radeg,decdeg,wisedata_path):\n",
    "\n",
    "    #print(i)\n",
    "    #search_name=name.replace(' ','') \n",
    "    #save_name=name.strip().replace(' ','') \n",
    "    save_name='RA%.5f_DEC%.5f'%(radeg,decdeg)\n",
    "    name=save_name\n",
    "    \n",
    "    if not os.path.exists('%s/wise_%s_mep.csv'%(wisedata_path,save_name)):\n",
    "        #print(search_name)\n",
    "        try:\n",
    "            Irsa.ROW_LIMIT = 1000\n",
    "            Irsa.TIMEOUT = 120\n",
    "            table_wise_mep=Irsa.query_region(SkyCoord(radeg,\n",
    "                             decdeg, unit=(u.deg,u.deg),frame='icrs'),\n",
    "                            catalog='allwise_p3as_mep',\n",
    "                            spatial='Cone',radius=2*u.arcsec,)\n",
    "            \n",
    "            \n",
    "                           \n",
    "            table_wise_mep.write('%s/wise_%s_mep.csv'%(wisedata_path,save_name), format='csv')\n",
    "            time.sleep(10+np.random.randint(5,10))\n",
    "        except Exception as e:\n",
    "            print(name,'mep')\n",
    "            print(e)\n",
    "            #continue\n",
    "            #raise             \n",
    "    \n",
    "    if not os.path.exists('%s/wise_%s_neo.csv'%(wisedata_path,save_name)):\n",
    "        try:\n",
    "            Irsa.ROW_LIMIT = 1000\n",
    "            Irsa.TIMEOUT = 120\n",
    "\n",
    "            table_wise_neo=Irsa.query_region(SkyCoord(radeg,\n",
    "                             decdeg, unit=(u.deg,u.deg),frame='icrs'),\n",
    "                             catalog='neowiser_p1bs_psd',spatial='Cone',radius=2*u.arcsec,)  \n",
    "            table_wise_neo.write('%s/wise_%s_neo.csv'%(wisedata_path,save_name), format='csv')       \n",
    "            time.sleep(10+np.random.randint(5,10))   \n",
    "        except Exception:\n",
    "            #continue\n",
    "            print(name,'neo')\n",
    "            #raise                "
   ]
  },
  {
   "cell_type": "markdown",
   "metadata": {},
   "source": [
    "## DESI_CLAGN"
   ]
  },
  {
   "cell_type": "code",
   "execution_count": 91,
   "metadata": {
    "ExecuteTime": {
     "end_time": "2023-08-18T13:11:11.932497Z",
     "start_time": "2023-08-18T13:11:11.881414Z"
    }
   },
   "outputs": [],
   "source": [
    "DESI_CLAGN0=pd.read_excel('/Users/lyubing/Downloads/DESI_CLAGN.xlsx',sheet_name='Sheet1',header=None)"
   ]
  },
  {
   "cell_type": "code",
   "execution_count": 93,
   "metadata": {
    "ExecuteTime": {
     "end_time": "2023-08-18T13:13:20.484554Z",
     "start_time": "2023-08-18T13:13:20.475588Z"
    }
   },
   "outputs": [],
   "source": [
    "DESI_CLAGN0.columns=['Name','ra','dec','redshift','g','r','z','mjd1','mjd2','N','R','F','Transition','Line']"
   ]
  },
  {
   "cell_type": "code",
   "execution_count": 101,
   "metadata": {
    "ExecuteTime": {
     "end_time": "2023-08-18T13:16:08.809499Z",
     "start_time": "2023-08-18T13:16:08.799010Z"
    }
   },
   "outputs": [
    {
     "name": "stdout",
     "output_type": "stream",
     "text": [
      "string is empty\n",
      "string is not empty\n"
     ]
    }
   ],
   "source": [
    "#input empty with and without spaces string\n",
    "s = \"\"\n",
    "str = \"    \"\n",
    "\n",
    "if not s:\n",
    "    print(\"string is empty\")\n",
    "else:\n",
    "    print(\"string is not empty\")\n",
    "    \n",
    "if not str:\n",
    "    print(\"string is empty\")\n",
    "else:\n",
    "    print(\"string is not empty\")"
   ]
  },
  {
   "cell_type": "code",
   "execution_count": 104,
   "metadata": {
    "ExecuteTime": {
     "end_time": "2023-08-18T13:17:17.829918Z",
     "start_time": "2023-08-18T13:17:17.817941Z"
    }
   },
   "outputs": [
    {
     "data": {
      "text/plain": [
       "19"
      ]
     },
     "execution_count": 104,
     "metadata": {},
     "output_type": "execute_result"
    }
   ],
   "source": [
    "len(DESI_CLAGN0.loc[0,'Name'])"
   ]
  },
  {
   "cell_type": "code",
   "execution_count": 105,
   "metadata": {
    "ExecuteTime": {
     "end_time": "2023-08-18T13:17:39.870295Z",
     "start_time": "2023-08-18T13:17:39.852766Z"
    }
   },
   "outputs": [],
   "source": [
    "DESI_CLAGN_multi=[]\n",
    "\n",
    "for index,Name in enumerate(DESI_CLAGN0['Name']):   \n",
    "    if len(DESI_CLAGN0.loc[index,'Name'])<2:\n",
    "        if len(DESI_CLAGN0.loc[index-1,'Name'])>2:        \n",
    "            if DESI_CLAGN0.loc[index-1,'Name'] not in DESI_CLAGN_multi:\n",
    "                DESI_CLAGN_multi.append(DESI_CLAGN0.loc[index-1,'Name'])\n",
    "        \n",
    "        "
   ]
  },
  {
   "cell_type": "code",
   "execution_count": 109,
   "metadata": {
    "ExecuteTime": {
     "end_time": "2023-08-18T13:19:41.500993Z",
     "start_time": "2023-08-18T13:19:41.487667Z"
    }
   },
   "outputs": [
    {
     "data": {
      "text/plain": [
       "23"
      ]
     },
     "execution_count": 109,
     "metadata": {},
     "output_type": "execute_result"
    }
   ],
   "source": [
    "len(DESI_CLAGN_multi)"
   ]
  },
  {
   "cell_type": "code",
   "execution_count": 106,
   "metadata": {
    "ExecuteTime": {
     "end_time": "2023-08-18T13:17:43.355911Z",
     "start_time": "2023-08-18T13:17:43.339958Z"
    }
   },
   "outputs": [
    {
     "data": {
      "text/plain": [
       "['091729.23+323908.1 ',\n",
       " '095035.55+321601.0 ',\n",
       " '115103.77+530140.6 ',\n",
       " '115403.00+003154.0 ',\n",
       " '125747.09+314217.9 ',\n",
       " '125901.02+265242.5 ',\n",
       " '130225.86+331423.9 ',\n",
       " '133006.57+332738.0 ',\n",
       " '133044.43+072628.8 ',\n",
       " '141535.46+022338.7 ',\n",
       " '144924.75+095523.7 ',\n",
       " '145854.93+364009.7 ',\n",
       " '145858.32+375305.4 ',\n",
       " '153154.37+024805.4 ',\n",
       " '153528.91+352834.5 ',\n",
       " '153714.41+454347.7 ',\n",
       " '153904.63+375248.3 ',\n",
       " '155426.13+200527.7 ',\n",
       " '160145.49+420739.1 ',\n",
       " '160356.22+313348.7 ',\n",
       " '165547.72+503442.3 ',\n",
       " '170154.62+264324.8 ',\n",
       " '221044.76+245958.0 ']"
      ]
     },
     "execution_count": 106,
     "metadata": {},
     "output_type": "execute_result"
    }
   ],
   "source": [
    "DESI_CLAGN_multi"
   ]
  },
  {
   "cell_type": "code",
   "execution_count": 127,
   "metadata": {
    "ExecuteTime": {
     "end_time": "2023-08-18T14:30:17.617801Z",
     "start_time": "2023-08-18T14:30:17.598063Z"
    }
   },
   "outputs": [
    {
     "data": {
      "text/plain": [
       "['wise_SDSSJ022250.60-041051.6_mep.csv',\n",
       " 'wise_SDSSJ022250.60-041051.6_neo.csv',\n",
       " 'wise_SDSSJ022335.06-043422.8_mep.csv',\n",
       " 'wise_SDSSJ022335.06-043422.8_neo.csv',\n",
       " 'wise_SDSSJ022558.88-041801.1_mep.csv',\n",
       " 'wise_SDSSJ022558.88-041801.1_neo.csv',\n",
       " 'wise_SDSSJ023348.69-030949.0_mep.csv',\n",
       " 'wise_SDSSJ023348.69-030949.0_neo.csv',\n",
       " 'wise_SDSSJ075448.10+345828.5_mep.csv',\n",
       " 'wise_SDSSJ075448.10+345828.5_neo.csv',\n",
       " 'wise_SDSSJ082100.68+341135.6_mep.csv',\n",
       " 'wise_SDSSJ082100.68+341135.6_neo.csv',\n",
       " 'wise_SDSSJ083537.25+314209.9_mep.csv',\n",
       " 'wise_SDSSJ083537.25+314209.9_neo.csv',\n",
       " 'wise_SDSSJ085913.72+323050.8_mep.csv',\n",
       " 'wise_SDSSJ085913.72+323050.8_neo.csv',\n",
       " 'wise_SDSSJ091238.78+332429.0_mep.csv',\n",
       " 'wise_SDSSJ091238.78+332429.0_neo.csv',\n",
       " 'wise_SDSSJ091415.43+321501.4_mep.csv',\n",
       " 'wise_SDSSJ091415.43+321501.4_neo.csv',\n",
       " 'wise_SDSSJ091534.82+331152.6_mep.csv',\n",
       " 'wise_SDSSJ091534.82+331152.6_neo.csv',\n",
       " 'wise_SDSSJ091552.73+332904.6_mep.csv',\n",
       " 'wise_SDSSJ091552.73+332904.6_neo.csv',\n",
       " 'wise_SDSSJ091729.23+323908.1_mep.csv',\n",
       " 'wise_SDSSJ091729.23+323908.1_neo.csv',\n",
       " 'wise_SDSSJ092010.07+315214.7_mep.csv',\n",
       " 'wise_SDSSJ092010.07+315214.7_neo.csv',\n",
       " 'wise_SDSSJ095035.55+321601.0_mep.csv',\n",
       " 'wise_SDSSJ095035.55+321601.0_neo.csv',\n",
       " 'wise_SDSSJ103818.29+332437.2_mep.csv',\n",
       " 'wise_SDSSJ103818.29+332437.2_neo.csv',\n",
       " 'wise_SDSSJ104810.07+470225.8_mep.csv',\n",
       " 'wise_SDSSJ104810.07+470225.8_neo.csv',\n",
       " 'wise_SDSSJ110326.97+314115.9_mep.csv',\n",
       " 'wise_SDSSJ110326.97+314115.9_neo.csv',\n",
       " 'wise_SDSSJ112631.06+544414.7_mep.csv',\n",
       " 'wise_SDSSJ112631.06+544414.7_neo.csv',\n",
       " 'wise_SDSSJ113737.38+511839.9_mep.csv',\n",
       " 'wise_SDSSJ113737.38+511839.9_neo.csv',\n",
       " 'wise_SDSSJ115103.77+530140.6_mep.csv',\n",
       " 'wise_SDSSJ115103.77+530140.6_neo.csv',\n",
       " 'wise_SDSSJ115210.24+520205.1_mep.csv',\n",
       " 'wise_SDSSJ115210.24+520205.1_neo.csv',\n",
       " 'wise_SDSSJ115403.00+003154.0_mep.csv',\n",
       " 'wise_SDSSJ115403.00+003154.0_neo.csv',\n",
       " 'wise_SDSSJ120710.25+000806.1_mep.csv',\n",
       " 'wise_SDSSJ120710.25+000806.1_neo.csv',\n",
       " 'wise_SDSSJ121033.30-011755.6_mep.csv',\n",
       " 'wise_SDSSJ121033.30-011755.6_neo.csv',\n",
       " 'wise_SDSSJ122319.70+312737.0_mep.csv',\n",
       " 'wise_SDSSJ122319.70+312737.0_neo.csv',\n",
       " 'wise_SDSSJ123201.11+552151.8_mep.csv',\n",
       " 'wise_SDSSJ123201.11+552151.8_neo.csv',\n",
       " 'wise_SDSSJ125217.63+580900.0_mep.csv',\n",
       " 'wise_SDSSJ125217.63+580900.0_neo.csv',\n",
       " 'wise_SDSSJ125545.34+232348.0_mep.csv',\n",
       " 'wise_SDSSJ125545.34+232348.0_neo.csv',\n",
       " 'wise_SDSSJ125610.42+260103.4_mep.csv',\n",
       " 'wise_SDSSJ125610.42+260103.4_neo.csv',\n",
       " 'wise_SDSSJ125747.09+314217.9_mep.csv',\n",
       " 'wise_SDSSJ125747.09+314217.9_neo.csv',\n",
       " 'wise_SDSSJ125901.02+265242.5_mep.csv',\n",
       " 'wise_SDSSJ125901.02+265242.5_neo.csv',\n",
       " 'wise_SDSSJ125924.34-024608.9_mep.csv',\n",
       " 'wise_SDSSJ125924.34-024608.9_neo.csv',\n",
       " 'wise_SDSSJ125938.24+322809.7_mep.csv',\n",
       " 'wise_SDSSJ125938.24+322809.7_neo.csv',\n",
       " 'wise_SDSSJ130035.57+322704.8_mep.csv',\n",
       " 'wise_SDSSJ130035.57+322704.8_neo.csv',\n",
       " 'wise_SDSSJ130139.41+330805.6_mep.csv',\n",
       " 'wise_SDSSJ133335.80+314306.7_mep.csv',\n",
       " 'wise_SDSSJ133335.80+314306.7_neo.csv',\n",
       " 'wise_SDSSJ130139.41+330805.6_neo.csv',\n",
       " 'wise_SDSSJ130225.86+331423.9_mep.csv',\n",
       " 'wise_SDSSJ130225.86+331423.9_neo.csv',\n",
       " 'wise_SDSSJ130732.60+330610.8_mep.csv',\n",
       " 'wise_SDSSJ130732.60+330610.8_neo.csv',\n",
       " 'wise_SDSSJ133006.57+332738.0_mep.csv',\n",
       " 'wise_SDSSJ133006.57+332738.0_neo.csv',\n",
       " 'wise_SDSSJ133044.43+072628.8_mep.csv',\n",
       " 'wise_SDSSJ133044.43+072628.8_neo.csv',\n",
       " 'wise_SDSSJ133344.70+335622.7_mep.csv',\n",
       " 'wise_SDSSJ133344.70+335622.7_neo.csv',\n",
       " 'wise_SDSSJ134037.05+131819.2_mep.csv',\n",
       " 'wise_SDSSJ134037.05+131819.2_neo.csv',\n",
       " 'wise_SDSSJ134259.55+340404.9_mep.csv',\n",
       " 'wise_SDSSJ134259.55+340404.9_neo.csv',\n",
       " 'wise_SDSSJ134554.00+084537.3_mep.csv',\n",
       " 'wise_SDSSJ134554.00+084537.3_neo.csv',\n",
       " 'wise_SDSSJ134802.94+341241.3_mep.csv',\n",
       " 'wise_SDSSJ134802.94+341241.3_neo.csv',\n",
       " 'wise_SDSSJ135054.40+380633.6_mep.csv',\n",
       " 'wise_SDSSJ135054.40+380633.6_neo.csv',\n",
       " 'wise_SDSSJ135613.60+001958.6_mep.csv',\n",
       " 'wise_SDSSJ135613.60+001958.6_neo.csv',\n",
       " 'wise_SDSSJ135624.58+350813.1_mep.csv',\n",
       " 'wise_SDSSJ135624.58+350813.1_neo.csv',\n",
       " 'wise_SDSSJ135715.07+375647.0_mep.csv',\n",
       " 'wise_SDSSJ135715.07+375647.0_neo.csv',\n",
       " 'wise_SDSSJ135801.62+115331.8_mep.csv',\n",
       " 'wise_SDSSJ135801.62+115331.8_neo.csv',\n",
       " 'wise_SDSSJ140659.07+032601.9_mep.csv',\n",
       " 'wise_SDSSJ140659.07+032601.9_neo.csv',\n",
       " 'wise_SDSSJ140945.30+521033.7_mep.csv',\n",
       " 'wise_SDSSJ140945.30+521033.7_neo.csv',\n",
       " 'wise_SDSSJ140957.72-012850.5_mep.csv',\n",
       " 'wise_SDSSJ140957.72-012850.5_neo.csv',\n",
       " 'wise_SDSSJ141511.61+321937.4_mep.csv',\n",
       " 'wise_SDSSJ141511.61+321937.4_neo.csv',\n",
       " 'wise_SDSSJ141535.46+022338.7_mep.csv',\n",
       " 'wise_SDSSJ141535.46+022338.7_neo.csv',\n",
       " 'wise_SDSSJ141550.68+334359.3_mep.csv',\n",
       " 'wise_SDSSJ141550.68+334359.3_neo.csv',\n",
       " 'wise_SDSSJ141801.50+525200.7_mep.csv',\n",
       " 'wise_SDSSJ141801.50+525200.7_neo.csv',\n",
       " 'wise_SDSSJ141923.44-030458.7_mep.csv',\n",
       " 'wise_SDSSJ141923.44-030458.7_neo.csv',\n",
       " 'wise_SDSSJ142641.03+521214.3_mep.csv',\n",
       " 'wise_SDSSJ142641.03+521214.3_neo.csv',\n",
       " 'wise_SDSSJ143642.57+042355.3_mep.csv',\n",
       " 'wise_SDSSJ143642.57+042355.3_neo.csv',\n",
       " 'wise_SDSSJ144003.98+061936.5_mep.csv',\n",
       " 'wise_SDSSJ144003.98+061936.5_neo.csv',\n",
       " 'wise_SDSSJ144051.17+024415.8_mep.csv',\n",
       " 'wise_SDSSJ144051.17+024415.8_neo.csv',\n",
       " 'wise_SDSSJ144051.68+452934.2_mep.csv',\n",
       " 'wise_SDSSJ144051.68+452934.2_neo.csv',\n",
       " 'wise_SDSSJ144924.75+095523.7_mep.csv',\n",
       " 'wise_SDSSJ144924.75+095523.7_neo.csv',\n",
       " 'wise_SDSSJ145854.93+364009.7_mep.csv',\n",
       " 'wise_SDSSJ145854.93+364009.7_neo.csv',\n",
       " 'wise_SDSSJ145858.32+375305.4_mep.csv',\n",
       " 'wise_SDSSJ145858.32+375305.4_neo.csv',\n",
       " 'wise_SDSSJ145913.90+360051.4_mep.csv',\n",
       " 'wise_SDSSJ145913.90+360051.4_neo.csv',\n",
       " 'wise_SDSSJ150519.52+075843.8_mep.csv',\n",
       " 'wise_SDSSJ150519.52+075843.8_neo.csv',\n",
       " 'wise_SDSSJ151130.51+345959.9_mep.csv',\n",
       " 'wise_SDSSJ151130.51+345959.9_neo.csv',\n",
       " 'wise_SDSSJ151609.80+155219.6_mep.csv',\n",
       " 'wise_SDSSJ151609.80+155219.6_neo.csv',\n",
       " 'wise_SDSSJ151904.85+151251.7_mep.csv',\n",
       " 'wise_SDSSJ151904.85+151251.7_neo.csv',\n",
       " 'wise_SDSSJ152517.57+401357.6_mep.csv',\n",
       " 'wise_SDSSJ152517.57+401357.6_neo.csv',\n",
       " 'wise_SDSSJ152551.37+184552.0_mep.csv',\n",
       " 'wise_SDSSJ152551.37+184552.0_neo.csv',\n",
       " 'wise_SDSSJ152759.29+141743.3_mep.csv',\n",
       " 'wise_SDSSJ152759.29+141743.3_neo.csv',\n",
       " 'wise_SDSSJ152908.75+083203.5_mep.csv',\n",
       " 'wise_SDSSJ152908.75+083203.5_neo.csv',\n",
       " 'wise_SDSSJ153011.79+325937.1_mep.csv',\n",
       " 'wise_SDSSJ153011.79+325937.1_neo.csv',\n",
       " 'wise_SDSSJ153149.94+372755.4_mep.csv',\n",
       " 'wise_SDSSJ153149.94+372755.4_neo.csv',\n",
       " 'wise_SDSSJ153154.37+024805.4_mep.csv',\n",
       " 'wise_SDSSJ153154.37+024805.4_neo.csv',\n",
       " 'wise_SDSSJ153528.91+352834.5_mep.csv',\n",
       " 'wise_SDSSJ153528.91+352834.5_neo.csv',\n",
       " 'wise_SDSSJ153714.41+454347.7_mep.csv',\n",
       " 'wise_SDSSJ153714.41+454347.7_neo.csv',\n",
       " 'wise_SDSSJ153904.63+375248.3_mep.csv',\n",
       " 'wise_SDSSJ153904.63+375248.3_neo.csv',\n",
       " 'wise_SDSSJ153938.92+373853.8_mep.csv',\n",
       " 'wise_SDSSJ153938.92+373853.8_neo.csv',\n",
       " 'wise_SDSSJ154742.72+012541.0_mep.csv',\n",
       " 'wise_SDSSJ154742.72+012541.0_neo.csv',\n",
       " 'wise_SDSSJ154753.40+431650.4_mep.csv',\n",
       " 'wise_SDSSJ154753.40+431650.4_neo.csv',\n",
       " 'wise_SDSSJ155426.13+200527.7_mep.csv',\n",
       " 'wise_SDSSJ155426.13+200527.7_neo.csv',\n",
       " 'wise_SDSSJ155600.10+401645.3_mep.csv',\n",
       " 'wise_SDSSJ155600.10+401645.3_neo.csv',\n",
       " 'wise_SDSSJ160047.63+331310.7_mep.csv',\n",
       " 'wise_SDSSJ160047.63+331310.7_neo.csv',\n",
       " 'wise_SDSSJ160139.10+412529.3_mep.csv',\n",
       " 'wise_SDSSJ160139.10+412529.3_neo.csv',\n",
       " 'wise_SDSSJ160145.49+420739.1_mep.csv',\n",
       " 'wise_SDSSJ160145.49+420739.1_neo.csv',\n",
       " 'wise_SDSSJ160310.99+432928.9_mep.csv',\n",
       " 'wise_SDSSJ160310.99+432928.9_neo.csv',\n",
       " 'wise_SDSSJ160337.12+242513.9_mep.csv',\n",
       " 'wise_SDSSJ160337.12+242513.9_neo.csv',\n",
       " 'wise_SDSSJ160356.22+313348.7_mep.csv',\n",
       " 'wise_SDSSJ160356.22+313348.7_neo.csv',\n",
       " 'wise_SDSSJ160717.35+324703.1_mep.csv',\n",
       " 'wise_SDSSJ160717.35+324703.1_neo.csv',\n",
       " 'wise_SDSSJ160730.20+560305.5_mep.csv',\n",
       " 'wise_SDSSJ160730.20+560305.5_neo.csv',\n",
       " 'wise_SDSSJ161052.72+482308.9_mep.csv',\n",
       " 'wise_SDSSJ161052.72+482308.9_neo.csv',\n",
       " 'wise_SDSSJ161305.50+491340.2_mep.csv',\n",
       " 'wise_SDSSJ161305.50+491340.2_neo.csv',\n",
       " 'wise_SDSSJ161542.41+233143.9_mep.csv',\n",
       " 'wise_SDSSJ161542.41+233143.9_neo.csv',\n",
       " 'wise_SDSSJ161903.04+540529.0_mep.csv',\n",
       " 'wise_SDSSJ161903.04+540529.0_neo.csv',\n",
       " 'wise_SDSSJ162106.25+371950.7_mep.csv',\n",
       " 'wise_SDSSJ162106.25+371950.7_neo.csv',\n",
       " 'wise_SDSSJ162829.18+432948.5_mep.csv',\n",
       " 'wise_SDSSJ162829.18+432948.5_neo.csv',\n",
       " 'wise_SDSSJ162830.55+170725.6_mep.csv',\n",
       " 'wise_SDSSJ162830.55+170725.6_neo.csv',\n",
       " 'wise_SDSSJ163116.64+261711.9_mep.csv',\n",
       " 'wise_SDSSJ163116.64+261711.9_neo.csv',\n",
       " 'wise_SDSSJ163438.42+120436.9_mep.csv',\n",
       " 'wise_SDSSJ163438.42+120436.9_neo.csv',\n",
       " 'wise_SDSSJ163609.96+310630.9_mep.csv',\n",
       " 'wise_SDSSJ163609.96+310630.9_neo.csv',\n",
       " 'wise_SDSSJ163852.93+282707.7_mep.csv',\n",
       " 'wise_SDSSJ163852.93+282707.7_neo.csv',\n",
       " 'wise_SDSSJ164331.90+304835.5_mep.csv',\n",
       " 'wise_SDSSJ164331.90+304835.5_neo.csv',\n",
       " 'wise_SDSSJ164709.87+532202.2_mep.csv',\n",
       " 'wise_SDSSJ164709.87+532202.2_neo.csv',\n",
       " 'wise_SDSSJ164725.15+351754.3_mep.csv',\n",
       " 'wise_SDSSJ164725.15+351754.3_neo.csv',\n",
       " 'wise_SDSSJ164900.95+452016.8_mep.csv',\n",
       " 'wise_SDSSJ164900.95+452016.8_neo.csv',\n",
       " 'wise_SDSSJ165106.49+452736.8_mep.csv',\n",
       " 'wise_SDSSJ165106.49+452736.8_neo.csv',\n",
       " 'wise_SDSSJ165547.72+503442.3_mep.csv',\n",
       " 'wise_SDSSJ165547.72+503442.3_neo.csv',\n",
       " 'wise_SDSSJ170154.62+264324.8_mep.csv',\n",
       " 'wise_SDSSJ170154.62+264324.8_neo.csv',\n",
       " 'wise_SDSSJ170707.08+412650.5_mep.csv',\n",
       " 'wise_SDSSJ170707.08+412650.5_neo.csv',\n",
       " 'wise_SDSSJ171104.42+432759.0_mep.csv',\n",
       " 'wise_SDSSJ171104.42+432759.0_neo.csv',\n",
       " 'wise_SDSSJ171135.19+405931.2_mep.csv',\n",
       " 'wise_SDSSJ171135.19+405931.2_neo.csv',\n",
       " 'wise_SDSSJ204449.76+004144.3_mep.csv',\n",
       " 'wise_SDSSJ204449.76+004144.3_neo.csv',\n",
       " 'wise_SDSSJ211630.87+011446.8_mep.csv',\n",
       " 'wise_SDSSJ211630.87+011446.8_neo.csv',\n",
       " 'wise_SDSSJ212311.10+053012.6_mep.csv',\n",
       " 'wise_SDSSJ212311.10+053012.6_neo.csv',\n",
       " 'wise_SDSSJ213135.84+001517.0_mep.csv',\n",
       " 'wise_SDSSJ213135.84+001517.0_neo.csv',\n",
       " 'wise_SDSSJ213400.68+013828.4_mep.csv',\n",
       " 'wise_SDSSJ213400.68+013828.4_neo.csv',\n",
       " 'wise_SDSSJ213628.50-003811.8_mep.csv',\n",
       " 'wise_SDSSJ213628.50-003811.8_neo.csv',\n",
       " 'wise_SDSSJ214822.25+011217.6_mep.csv',\n",
       " 'wise_SDSSJ214822.25+011217.6_neo.csv',\n",
       " 'wise_SDSSJ221044.76+245958.0_mep.csv',\n",
       " 'wise_SDSSJ221044.76+245958.0_neo.csv',\n",
       " 'wise_SDSSJ221925.57+272806.4_mep.csv',\n",
       " 'wise_SDSSJ221925.57+272806.4_neo.csv',\n",
       " 'wise_SDSSJ223440.56+272437.9_mep.csv',\n",
       " 'wise_SDSSJ223440.56+272437.9_neo.csv',\n",
       " 'wise_SDSSJ224547.01+284612.6_mep.csv',\n",
       " 'wise_SDSSJ224547.01+284612.6_neo.csv',\n",
       " 'wise_SDSSJ224657.70-003242.5_mep.csv',\n",
       " 'wise_SDSSJ224657.70-003242.5_neo.csv']"
      ]
     },
     "execution_count": 127,
     "metadata": {},
     "output_type": "execute_result"
    }
   ],
   "source": [
    "os.listdir(wisedata_path)"
   ]
  },
  {
   "cell_type": "code",
   "execution_count": null,
   "metadata": {},
   "outputs": [],
   "source": []
  },
  {
   "cell_type": "code",
   "execution_count": 130,
   "metadata": {
    "ExecuteTime": {
     "end_time": "2023-08-18T14:31:32.618688Z",
     "start_time": "2023-08-18T14:31:32.573622Z"
    }
   },
   "outputs": [],
   "source": []
  },
  {
   "cell_type": "code",
   "execution_count": 138,
   "metadata": {
    "ExecuteTime": {
     "end_time": "2023-08-18T14:34:39.107947Z",
     "start_time": "2023-08-18T14:34:38.864502Z"
    }
   },
   "outputs": [
    {
     "data": {
      "image/svg+xml": [
       "<?xml version=\"1.0\" encoding=\"utf-8\" standalone=\"no\"?>\n",
       "<!DOCTYPE svg PUBLIC \"-//W3C//DTD SVG 1.1//EN\"\n",
       "  \"http://www.w3.org/Graphics/SVG/1.1/DTD/svg11.dtd\">\n",
       "<svg xmlns:xlink=\"http://www.w3.org/1999/xlink\" width=\"519.682813pt\" height=\"303.036625pt\" viewBox=\"0 0 519.682813 303.036625\" xmlns=\"http://www.w3.org/2000/svg\" version=\"1.1\">\n",
       " <metadata>\n",
       "  <rdf:RDF xmlns:dc=\"http://purl.org/dc/elements/1.1/\" xmlns:cc=\"http://creativecommons.org/ns#\" xmlns:rdf=\"http://www.w3.org/1999/02/22-rdf-syntax-ns#\">\n",
       "   <cc:Work>\n",
       "    <dc:type rdf:resource=\"http://purl.org/dc/dcmitype/StillImage\"/>\n",
       "    <dc:date>2023-08-18T22:34:39.078668</dc:date>\n",
       "    <dc:format>image/svg+xml</dc:format>\n",
       "    <dc:creator>\n",
       "     <cc:Agent>\n",
       "      <dc:title>Matplotlib v3.7.1, https://matplotlib.org/</dc:title>\n",
       "     </cc:Agent>\n",
       "    </dc:creator>\n",
       "   </cc:Work>\n",
       "  </rdf:RDF>\n",
       " </metadata>\n",
       " <defs>\n",
       "  <style type=\"text/css\">*{stroke-linejoin: round; stroke-linecap: butt}</style>\n",
       " </defs>\n",
       " <g id=\"figure_1\">\n",
       "  <g id=\"patch_1\">\n",
       "   <path d=\"M 0 303.036625 \n",
       "L 519.682813 303.036625 \n",
       "L 519.682813 0 \n",
       "L 0 0 \n",
       "L 0 303.036625 \n",
       "z\n",
       "\" style=\"fill: none\"/>\n",
       "  </g>\n",
       "  <g id=\"axes_1\">\n",
       "   <g id=\"patch_2\">\n",
       "    <path d=\"M 66.082813 245.6385 \n",
       "L 512.482813 245.6385 \n",
       "L 512.482813 28.1985 \n",
       "L 66.082813 28.1985 \n",
       "z\n",
       "\" style=\"fill: #ffffff\"/>\n",
       "   </g>\n",
       "   <g id=\"matplotlib.axis_1\">\n",
       "    <g id=\"xtick_1\">\n",
       "     <g id=\"line2d_1\">\n",
       "      <defs>\n",
       "       <path id=\"m7d0a77ae80\" d=\"M 0 0 \n",
       "L 0 10 \n",
       "\" style=\"stroke: #000000; stroke-width: 2\"/>\n",
       "      </defs>\n",
       "      <g>\n",
       "       <use xlink:href=\"#m7d0a77ae80\" x=\"156.885129\" y=\"245.6385\" style=\"stroke: #000000; stroke-width: 2\"/>\n",
       "      </g>\n",
       "     </g>\n",
       "     <g id=\"text_1\">\n",
       "      <!-- 56000 -->\n",
       "      <g transform=\"translate(134.385129 271.63725) scale(0.18 -0.18)\">\n",
       "       <defs>\n",
       "        <path id=\"TimesNewRomanPSMT-35\" d=\"M 2778 4238 \n",
       "L 2534 3706 \n",
       "L 1259 3706 \n",
       "L 981 3138 \n",
       "Q 1809 3016 2294 2522 \n",
       "Q 2709 2097 2709 1522 \n",
       "Q 2709 1188 2573 903 \n",
       "Q 2438 619 2231 419 \n",
       "Q 2025 219 1772 97 \n",
       "Q 1413 -75 1034 -75 \n",
       "Q 653 -75 479 54 \n",
       "Q 306 184 306 341 \n",
       "Q 306 428 378 495 \n",
       "Q 450 563 559 563 \n",
       "Q 641 563 702 538 \n",
       "Q 763 513 909 409 \n",
       "Q 1144 247 1384 247 \n",
       "Q 1750 247 2026 523 \n",
       "Q 2303 800 2303 1197 \n",
       "Q 2303 1581 2056 1914 \n",
       "Q 1809 2247 1375 2428 \n",
       "Q 1034 2569 447 2591 \n",
       "L 1259 4238 \n",
       "L 2778 4238 \n",
       "z\n",
       "\" transform=\"scale(0.015625)\"/>\n",
       "        <path id=\"TimesNewRomanPSMT-36\" d=\"M 2869 4325 \n",
       "L 2869 4209 \n",
       "Q 2456 4169 2195 4045 \n",
       "Q 1934 3922 1679 3669 \n",
       "Q 1425 3416 1258 3105 \n",
       "Q 1091 2794 978 2366 \n",
       "Q 1428 2675 1881 2675 \n",
       "Q 2316 2675 2634 2325 \n",
       "Q 2953 1975 2953 1425 \n",
       "Q 2953 894 2631 456 \n",
       "Q 2244 -75 1606 -75 \n",
       "Q 1172 -75 869 213 \n",
       "Q 275 772 275 1663 \n",
       "Q 275 2231 503 2743 \n",
       "Q 731 3256 1154 3653 \n",
       "Q 1578 4050 1965 4187 \n",
       "Q 2353 4325 2688 4325 \n",
       "L 2869 4325 \n",
       "z\n",
       "M 925 2138 \n",
       "Q 869 1716 869 1456 \n",
       "Q 869 1156 980 804 \n",
       "Q 1091 453 1309 247 \n",
       "Q 1469 100 1697 100 \n",
       "Q 1969 100 2183 356 \n",
       "Q 2397 613 2397 1088 \n",
       "Q 2397 1622 2184 2012 \n",
       "Q 1972 2403 1581 2403 \n",
       "Q 1463 2403 1327 2353 \n",
       "Q 1191 2303 925 2138 \n",
       "z\n",
       "\" transform=\"scale(0.015625)\"/>\n",
       "        <path id=\"TimesNewRomanPSMT-30\" d=\"M 231 2094 \n",
       "Q 231 2819 450 3342 \n",
       "Q 669 3866 1031 4122 \n",
       "Q 1313 4325 1613 4325 \n",
       "Q 2100 4325 2488 3828 \n",
       "Q 2972 3213 2972 2159 \n",
       "Q 2972 1422 2759 906 \n",
       "Q 2547 391 2217 158 \n",
       "Q 1888 -75 1581 -75 \n",
       "Q 975 -75 572 641 \n",
       "Q 231 1244 231 2094 \n",
       "z\n",
       "M 844 2016 \n",
       "Q 844 1141 1059 588 \n",
       "Q 1238 122 1591 122 \n",
       "Q 1759 122 1940 273 \n",
       "Q 2122 425 2216 781 \n",
       "Q 2359 1319 2359 2297 \n",
       "Q 2359 3022 2209 3506 \n",
       "Q 2097 3866 1919 4016 \n",
       "Q 1791 4119 1609 4119 \n",
       "Q 1397 4119 1231 3928 \n",
       "Q 1006 3669 925 3112 \n",
       "Q 844 2556 844 2016 \n",
       "z\n",
       "\" transform=\"scale(0.015625)\"/>\n",
       "       </defs>\n",
       "       <use xlink:href=\"#TimesNewRomanPSMT-35\"/>\n",
       "       <use xlink:href=\"#TimesNewRomanPSMT-36\" x=\"50\"/>\n",
       "       <use xlink:href=\"#TimesNewRomanPSMT-30\" x=\"100\"/>\n",
       "       <use xlink:href=\"#TimesNewRomanPSMT-30\" x=\"150\"/>\n",
       "       <use xlink:href=\"#TimesNewRomanPSMT-30\" x=\"200\"/>\n",
       "      </g>\n",
       "     </g>\n",
       "    </g>\n",
       "    <g id=\"xtick_2\">\n",
       "     <g id=\"line2d_2\">\n",
       "      <g>\n",
       "       <use xlink:href=\"#m7d0a77ae80\" x=\"262.476939\" y=\"245.6385\" style=\"stroke: #000000; stroke-width: 2\"/>\n",
       "      </g>\n",
       "     </g>\n",
       "     <g id=\"text_2\">\n",
       "      <!-- 57000 -->\n",
       "      <g transform=\"translate(239.976939 271.63725) scale(0.18 -0.18)\">\n",
       "       <defs>\n",
       "        <path id=\"TimesNewRomanPSMT-37\" d=\"M 644 4238 \n",
       "L 2916 4238 \n",
       "L 2916 4119 \n",
       "L 1503 -88 \n",
       "L 1153 -88 \n",
       "L 2419 3728 \n",
       "L 1253 3728 \n",
       "Q 900 3728 750 3644 \n",
       "Q 488 3500 328 3200 \n",
       "L 238 3234 \n",
       "L 644 4238 \n",
       "z\n",
       "\" transform=\"scale(0.015625)\"/>\n",
       "       </defs>\n",
       "       <use xlink:href=\"#TimesNewRomanPSMT-35\"/>\n",
       "       <use xlink:href=\"#TimesNewRomanPSMT-37\" x=\"50\"/>\n",
       "       <use xlink:href=\"#TimesNewRomanPSMT-30\" x=\"100\"/>\n",
       "       <use xlink:href=\"#TimesNewRomanPSMT-30\" x=\"150\"/>\n",
       "       <use xlink:href=\"#TimesNewRomanPSMT-30\" x=\"200\"/>\n",
       "      </g>\n",
       "     </g>\n",
       "    </g>\n",
       "    <g id=\"xtick_3\">\n",
       "     <g id=\"line2d_3\">\n",
       "      <g>\n",
       "       <use xlink:href=\"#m7d0a77ae80\" x=\"368.068749\" y=\"245.6385\" style=\"stroke: #000000; stroke-width: 2\"/>\n",
       "      </g>\n",
       "     </g>\n",
       "     <g id=\"text_3\">\n",
       "      <!-- 58000 -->\n",
       "      <g transform=\"translate(345.568749 271.63725) scale(0.18 -0.18)\">\n",
       "       <defs>\n",
       "        <path id=\"TimesNewRomanPSMT-38\" d=\"M 1228 2134 \n",
       "Q 725 2547 579 2797 \n",
       "Q 434 3047 434 3316 \n",
       "Q 434 3728 753 4026 \n",
       "Q 1072 4325 1600 4325 \n",
       "Q 2113 4325 2425 4047 \n",
       "Q 2738 3769 2738 3413 \n",
       "Q 2738 3175 2569 2928 \n",
       "Q 2400 2681 1866 2347 \n",
       "Q 2416 1922 2594 1678 \n",
       "Q 2831 1359 2831 1006 \n",
       "Q 2831 559 2490 242 \n",
       "Q 2150 -75 1597 -75 \n",
       "Q 994 -75 656 303 \n",
       "Q 388 606 388 966 \n",
       "Q 388 1247 577 1523 \n",
       "Q 766 1800 1228 2134 \n",
       "z\n",
       "M 1719 2469 \n",
       "Q 2094 2806 2194 3001 \n",
       "Q 2294 3197 2294 3444 \n",
       "Q 2294 3772 2109 3958 \n",
       "Q 1925 4144 1606 4144 \n",
       "Q 1288 4144 1088 3959 \n",
       "Q 888 3775 888 3528 \n",
       "Q 888 3366 970 3203 \n",
       "Q 1053 3041 1206 2894 \n",
       "L 1719 2469 \n",
       "z\n",
       "M 1375 2016 \n",
       "Q 1116 1797 991 1539 \n",
       "Q 866 1281 866 981 \n",
       "Q 866 578 1086 336 \n",
       "Q 1306 94 1647 94 \n",
       "Q 1984 94 2187 284 \n",
       "Q 2391 475 2391 747 \n",
       "Q 2391 972 2272 1150 \n",
       "Q 2050 1481 1375 2016 \n",
       "z\n",
       "\" transform=\"scale(0.015625)\"/>\n",
       "       </defs>\n",
       "       <use xlink:href=\"#TimesNewRomanPSMT-35\"/>\n",
       "       <use xlink:href=\"#TimesNewRomanPSMT-38\" x=\"50\"/>\n",
       "       <use xlink:href=\"#TimesNewRomanPSMT-30\" x=\"100\"/>\n",
       "       <use xlink:href=\"#TimesNewRomanPSMT-30\" x=\"150\"/>\n",
       "       <use xlink:href=\"#TimesNewRomanPSMT-30\" x=\"200\"/>\n",
       "      </g>\n",
       "     </g>\n",
       "    </g>\n",
       "    <g id=\"xtick_4\">\n",
       "     <g id=\"line2d_4\">\n",
       "      <g>\n",
       "       <use xlink:href=\"#m7d0a77ae80\" x=\"473.66056\" y=\"245.6385\" style=\"stroke: #000000; stroke-width: 2\"/>\n",
       "      </g>\n",
       "     </g>\n",
       "     <g id=\"text_4\">\n",
       "      <!-- 59000 -->\n",
       "      <g transform=\"translate(451.16056 271.63725) scale(0.18 -0.18)\">\n",
       "       <defs>\n",
       "        <path id=\"TimesNewRomanPSMT-39\" d=\"M 338 -88 \n",
       "L 338 28 \n",
       "Q 744 34 1094 217 \n",
       "Q 1444 400 1770 856 \n",
       "Q 2097 1313 2225 1859 \n",
       "Q 1734 1544 1338 1544 \n",
       "Q 891 1544 572 1889 \n",
       "Q 253 2234 253 2806 \n",
       "Q 253 3363 572 3797 \n",
       "Q 956 4325 1575 4325 \n",
       "Q 2097 4325 2469 3894 \n",
       "Q 2925 3359 2925 2575 \n",
       "Q 2925 1869 2578 1258 \n",
       "Q 2231 647 1613 244 \n",
       "Q 1109 -88 516 -88 \n",
       "L 338 -88 \n",
       "z\n",
       "M 2275 2091 \n",
       "Q 2331 2497 2331 2741 \n",
       "Q 2331 3044 2228 3395 \n",
       "Q 2125 3747 1936 3934 \n",
       "Q 1747 4122 1506 4122 \n",
       "Q 1228 4122 1018 3872 \n",
       "Q 809 3622 809 3128 \n",
       "Q 809 2469 1088 2097 \n",
       "Q 1291 1828 1588 1828 \n",
       "Q 1731 1828 1928 1897 \n",
       "Q 2125 1966 2275 2091 \n",
       "z\n",
       "\" transform=\"scale(0.015625)\"/>\n",
       "       </defs>\n",
       "       <use xlink:href=\"#TimesNewRomanPSMT-35\"/>\n",
       "       <use xlink:href=\"#TimesNewRomanPSMT-39\" x=\"50\"/>\n",
       "       <use xlink:href=\"#TimesNewRomanPSMT-30\" x=\"100\"/>\n",
       "       <use xlink:href=\"#TimesNewRomanPSMT-30\" x=\"150\"/>\n",
       "       <use xlink:href=\"#TimesNewRomanPSMT-30\" x=\"200\"/>\n",
       "      </g>\n",
       "     </g>\n",
       "    </g>\n",
       "    <g id=\"text_5\">\n",
       "     <!-- MJD -->\n",
       "     <g transform=\"translate(271.277188 291.986312) scale(0.18 -0.18)\">\n",
       "      <defs>\n",
       "       <path id=\"TimesNewRomanPSMT-4d\" d=\"M 2619 0 \n",
       "L 981 3566 \n",
       "L 981 734 \n",
       "Q 981 344 1066 247 \n",
       "Q 1181 116 1431 116 \n",
       "L 1581 116 \n",
       "L 1581 0 \n",
       "L 106 0 \n",
       "L 106 116 \n",
       "L 256 116 \n",
       "Q 525 116 638 278 \n",
       "Q 706 378 706 734 \n",
       "L 706 3503 \n",
       "Q 706 3784 644 3909 \n",
       "Q 600 4000 483 4061 \n",
       "Q 366 4122 106 4122 \n",
       "L 106 4238 \n",
       "L 1306 4238 \n",
       "L 2844 922 \n",
       "L 4356 4238 \n",
       "L 5556 4238 \n",
       "L 5556 4122 \n",
       "L 5409 4122 \n",
       "Q 5138 4122 5025 3959 \n",
       "Q 4956 3859 4956 3503 \n",
       "L 4956 734 \n",
       "Q 4956 344 5044 247 \n",
       "Q 5159 116 5409 116 \n",
       "L 5556 116 \n",
       "L 5556 0 \n",
       "L 3756 0 \n",
       "L 3756 116 \n",
       "L 3906 116 \n",
       "Q 4178 116 4288 278 \n",
       "Q 4356 378 4356 734 \n",
       "L 4356 3566 \n",
       "L 2722 0 \n",
       "L 2619 0 \n",
       "z\n",
       "\" transform=\"scale(0.015625)\"/>\n",
       "       <path id=\"TimesNewRomanPSMT-4a\" d=\"M 638 4122 \n",
       "L 638 4238 \n",
       "L 2453 4238 \n",
       "L 2453 4122 \n",
       "L 2300 4122 \n",
       "Q 2041 4122 1922 3969 \n",
       "Q 1847 3869 1847 3488 \n",
       "L 1847 1416 \n",
       "Q 1847 938 1742 641 \n",
       "Q 1638 344 1381 123 \n",
       "Q 1125 -97 763 -97 \n",
       "Q 469 -97 300 48 \n",
       "Q 131 194 131 381 \n",
       "Q 131 534 209 613 \n",
       "Q 313 709 450 709 \n",
       "Q 550 709 629 643 \n",
       "Q 709 578 831 294 \n",
       "Q 903 125 1016 125 \n",
       "Q 1100 125 1173 228 \n",
       "Q 1247 331 1247 594 \n",
       "L 1247 3488 \n",
       "Q 1247 3809 1206 3913 \n",
       "Q 1175 3991 1075 4047 \n",
       "Q 941 4122 791 4122 \n",
       "L 638 4122 \n",
       "z\n",
       "\" transform=\"scale(0.015625)\"/>\n",
       "       <path id=\"TimesNewRomanPSMT-44\" d=\"M 109 0 \n",
       "L 109 116 \n",
       "L 269 116 \n",
       "Q 538 116 650 288 \n",
       "Q 719 391 719 750 \n",
       "L 719 3488 \n",
       "Q 719 3884 631 3984 \n",
       "Q 509 4122 269 4122 \n",
       "L 109 4122 \n",
       "L 109 4238 \n",
       "L 1834 4238 \n",
       "Q 2784 4238 3279 4022 \n",
       "Q 3775 3806 4076 3303 \n",
       "Q 4378 2800 4378 2141 \n",
       "Q 4378 1256 3841 663 \n",
       "Q 3238 0 2003 0 \n",
       "L 109 0 \n",
       "z\n",
       "M 1319 306 \n",
       "Q 1716 219 1984 219 \n",
       "Q 2709 219 3187 728 \n",
       "Q 3666 1238 3666 2109 \n",
       "Q 3666 2988 3187 3494 \n",
       "Q 2709 4000 1959 4000 \n",
       "Q 1678 4000 1319 3909 \n",
       "L 1319 306 \n",
       "z\n",
       "\" transform=\"scale(0.015625)\"/>\n",
       "      </defs>\n",
       "      <use xlink:href=\"#TimesNewRomanPSMT-4d\"/>\n",
       "      <use xlink:href=\"#TimesNewRomanPSMT-4a\" x=\"88.916016\"/>\n",
       "      <use xlink:href=\"#TimesNewRomanPSMT-44\" x=\"127.832031\"/>\n",
       "     </g>\n",
       "    </g>\n",
       "   </g>\n",
       "   <g id=\"matplotlib.axis_2\">\n",
       "    <g id=\"ytick_1\">\n",
       "     <g id=\"line2d_5\">\n",
       "      <defs>\n",
       "       <path id=\"m4d9ec652c2\" d=\"M 0 0 \n",
       "L -3.5 0 \n",
       "\" style=\"stroke: #000000; stroke-width: 0.8\"/>\n",
       "      </defs>\n",
       "      <g>\n",
       "       <use xlink:href=\"#m4d9ec652c2\" x=\"66.082813\" y=\"210.818863\" style=\"stroke: #000000; stroke-width: 0.8\"/>\n",
       "      </g>\n",
       "     </g>\n",
       "     <g id=\"text_6\">\n",
       "      <!-- 44.0 -->\n",
       "      <g transform=\"translate(27.582813 217.068238) scale(0.18 -0.18)\">\n",
       "       <defs>\n",
       "        <path id=\"TimesNewRomanPSMT-34\" d=\"M 2978 1563 \n",
       "L 2978 1119 \n",
       "L 2409 1119 \n",
       "L 2409 0 \n",
       "L 1894 0 \n",
       "L 1894 1119 \n",
       "L 100 1119 \n",
       "L 100 1519 \n",
       "L 2066 4325 \n",
       "L 2409 4325 \n",
       "L 2409 1563 \n",
       "L 2978 1563 \n",
       "z\n",
       "M 1894 1563 \n",
       "L 1894 3666 \n",
       "L 406 1563 \n",
       "L 1894 1563 \n",
       "z\n",
       "\" transform=\"scale(0.015625)\"/>\n",
       "        <path id=\"TimesNewRomanPSMT-2e\" d=\"M 800 606 \n",
       "Q 947 606 1047 504 \n",
       "Q 1147 403 1147 259 \n",
       "Q 1147 116 1045 14 \n",
       "Q 944 -88 800 -88 \n",
       "Q 656 -88 554 14 \n",
       "Q 453 116 453 259 \n",
       "Q 453 406 554 506 \n",
       "Q 656 606 800 606 \n",
       "z\n",
       "\" transform=\"scale(0.015625)\"/>\n",
       "       </defs>\n",
       "       <use xlink:href=\"#TimesNewRomanPSMT-34\"/>\n",
       "       <use xlink:href=\"#TimesNewRomanPSMT-34\" x=\"50\"/>\n",
       "       <use xlink:href=\"#TimesNewRomanPSMT-2e\" x=\"100\"/>\n",
       "       <use xlink:href=\"#TimesNewRomanPSMT-30\" x=\"125\"/>\n",
       "      </g>\n",
       "     </g>\n",
       "    </g>\n",
       "    <g id=\"ytick_2\">\n",
       "     <g id=\"line2d_6\">\n",
       "      <g>\n",
       "       <use xlink:href=\"#m4d9ec652c2\" x=\"66.082813\" y=\"149.778528\" style=\"stroke: #000000; stroke-width: 0.8\"/>\n",
       "      </g>\n",
       "     </g>\n",
       "     <g id=\"text_7\">\n",
       "      <!-- 44.2 -->\n",
       "      <g transform=\"translate(27.582813 156.027903) scale(0.18 -0.18)\">\n",
       "       <defs>\n",
       "        <path id=\"TimesNewRomanPSMT-32\" d=\"M 2934 816 \n",
       "L 2638 0 \n",
       "L 138 0 \n",
       "L 138 116 \n",
       "Q 1241 1122 1691 1759 \n",
       "Q 2141 2397 2141 2925 \n",
       "Q 2141 3328 1894 3587 \n",
       "Q 1647 3847 1303 3847 \n",
       "Q 991 3847 742 3664 \n",
       "Q 494 3481 375 3128 \n",
       "L 259 3128 \n",
       "Q 338 3706 661 4015 \n",
       "Q 984 4325 1469 4325 \n",
       "Q 1984 4325 2329 3994 \n",
       "Q 2675 3663 2675 3213 \n",
       "Q 2675 2891 2525 2569 \n",
       "Q 2294 2063 1775 1497 \n",
       "Q 997 647 803 472 \n",
       "L 1909 472 \n",
       "Q 2247 472 2383 497 \n",
       "Q 2519 522 2628 598 \n",
       "Q 2738 675 2819 816 \n",
       "L 2934 816 \n",
       "z\n",
       "\" transform=\"scale(0.015625)\"/>\n",
       "       </defs>\n",
       "       <use xlink:href=\"#TimesNewRomanPSMT-34\"/>\n",
       "       <use xlink:href=\"#TimesNewRomanPSMT-34\" x=\"50\"/>\n",
       "       <use xlink:href=\"#TimesNewRomanPSMT-2e\" x=\"100\"/>\n",
       "       <use xlink:href=\"#TimesNewRomanPSMT-32\" x=\"125\"/>\n",
       "      </g>\n",
       "     </g>\n",
       "    </g>\n",
       "    <g id=\"ytick_3\">\n",
       "     <g id=\"line2d_7\">\n",
       "      <g>\n",
       "       <use xlink:href=\"#m4d9ec652c2\" x=\"66.082813\" y=\"88.738193\" style=\"stroke: #000000; stroke-width: 0.8\"/>\n",
       "      </g>\n",
       "     </g>\n",
       "     <g id=\"text_8\">\n",
       "      <!-- 44.4 -->\n",
       "      <g transform=\"translate(27.582813 94.987568) scale(0.18 -0.18)\">\n",
       "       <use xlink:href=\"#TimesNewRomanPSMT-34\"/>\n",
       "       <use xlink:href=\"#TimesNewRomanPSMT-34\" x=\"50\"/>\n",
       "       <use xlink:href=\"#TimesNewRomanPSMT-2e\" x=\"100\"/>\n",
       "       <use xlink:href=\"#TimesNewRomanPSMT-34\" x=\"125\"/>\n",
       "      </g>\n",
       "     </g>\n",
       "    </g>\n",
       "    <g id=\"text_9\">\n",
       "     <!-- log(L_MIR) -->\n",
       "     <g transform=\"translate(19.69875 181.41225) rotate(-90) scale(0.18 -0.18)\">\n",
       "      <defs>\n",
       "       <path id=\"TimesNewRomanPSMT-6c\" d=\"M 1184 4444 \n",
       "L 1184 647 \n",
       "Q 1184 378 1223 290 \n",
       "Q 1263 203 1344 158 \n",
       "Q 1425 113 1647 113 \n",
       "L 1647 0 \n",
       "L 244 0 \n",
       "L 244 113 \n",
       "Q 441 113 512 153 \n",
       "Q 584 194 625 287 \n",
       "Q 666 381 666 647 \n",
       "L 666 3247 \n",
       "Q 666 3731 644 3842 \n",
       "Q 622 3953 573 3993 \n",
       "Q 525 4034 450 4034 \n",
       "Q 369 4034 244 3984 \n",
       "L 191 4094 \n",
       "L 1044 4444 \n",
       "L 1184 4444 \n",
       "z\n",
       "\" transform=\"scale(0.015625)\"/>\n",
       "       <path id=\"TimesNewRomanPSMT-6f\" d=\"M 1600 2947 \n",
       "Q 2250 2947 2644 2453 \n",
       "Q 2978 2031 2978 1484 \n",
       "Q 2978 1100 2793 706 \n",
       "Q 2609 313 2286 112 \n",
       "Q 1963 -88 1566 -88 \n",
       "Q 919 -88 538 428 \n",
       "Q 216 863 216 1403 \n",
       "Q 216 1797 411 2186 \n",
       "Q 606 2575 925 2761 \n",
       "Q 1244 2947 1600 2947 \n",
       "z\n",
       "M 1503 2744 \n",
       "Q 1338 2744 1170 2645 \n",
       "Q 1003 2547 900 2300 \n",
       "Q 797 2053 797 1666 \n",
       "Q 797 1041 1045 587 \n",
       "Q 1294 134 1700 134 \n",
       "Q 2003 134 2200 384 \n",
       "Q 2397 634 2397 1244 \n",
       "Q 2397 2006 2069 2444 \n",
       "Q 1847 2744 1503 2744 \n",
       "z\n",
       "\" transform=\"scale(0.015625)\"/>\n",
       "       <path id=\"TimesNewRomanPSMT-67\" d=\"M 966 1044 \n",
       "Q 703 1172 562 1401 \n",
       "Q 422 1631 422 1909 \n",
       "Q 422 2334 742 2640 \n",
       "Q 1063 2947 1563 2947 \n",
       "Q 1972 2947 2272 2747 \n",
       "L 2878 2747 \n",
       "Q 3013 2747 3034 2739 \n",
       "Q 3056 2731 3066 2713 \n",
       "Q 3084 2684 3084 2613 \n",
       "Q 3084 2531 3069 2500 \n",
       "Q 3059 2484 3036 2475 \n",
       "Q 3013 2466 2878 2466 \n",
       "L 2506 2466 \n",
       "Q 2681 2241 2681 1891 \n",
       "Q 2681 1491 2375 1206 \n",
       "Q 2069 922 1553 922 \n",
       "Q 1341 922 1119 984 \n",
       "Q 981 866 932 777 \n",
       "Q 884 688 884 625 \n",
       "Q 884 572 936 522 \n",
       "Q 988 472 1138 450 \n",
       "Q 1225 438 1575 428 \n",
       "Q 2219 413 2409 384 \n",
       "Q 2700 344 2873 169 \n",
       "Q 3047 -6 3047 -263 \n",
       "Q 3047 -616 2716 -925 \n",
       "Q 2228 -1381 1444 -1381 \n",
       "Q 841 -1381 425 -1109 \n",
       "Q 191 -953 191 -784 \n",
       "Q 191 -709 225 -634 \n",
       "Q 278 -519 444 -313 \n",
       "Q 466 -284 763 25 \n",
       "Q 600 122 533 198 \n",
       "Q 466 275 466 372 \n",
       "Q 466 481 555 628 \n",
       "Q 644 775 966 1044 \n",
       "z\n",
       "M 1509 2797 \n",
       "Q 1278 2797 1122 2612 \n",
       "Q 966 2428 966 2047 \n",
       "Q 966 1553 1178 1281 \n",
       "Q 1341 1075 1591 1075 \n",
       "Q 1828 1075 1981 1253 \n",
       "Q 2134 1431 2134 1813 \n",
       "Q 2134 2309 1919 2591 \n",
       "Q 1759 2797 1509 2797 \n",
       "z\n",
       "M 934 0 \n",
       "Q 788 -159 713 -296 \n",
       "Q 638 -434 638 -550 \n",
       "Q 638 -700 819 -813 \n",
       "Q 1131 -1006 1722 -1006 \n",
       "Q 2284 -1006 2551 -807 \n",
       "Q 2819 -609 2819 -384 \n",
       "Q 2819 -222 2659 -153 \n",
       "Q 2497 -84 2016 -72 \n",
       "Q 1313 -53 934 0 \n",
       "z\n",
       "\" transform=\"scale(0.015625)\"/>\n",
       "       <path id=\"TimesNewRomanPSMT-28\" d=\"M 1988 -1253 \n",
       "L 1988 -1369 \n",
       "Q 1516 -1131 1200 -813 \n",
       "Q 750 -359 506 256 \n",
       "Q 263 872 263 1534 \n",
       "Q 263 2503 741 3301 \n",
       "Q 1219 4100 1988 4444 \n",
       "L 1988 4313 \n",
       "Q 1603 4100 1356 3731 \n",
       "Q 1109 3363 987 2797 \n",
       "Q 866 2231 866 1616 \n",
       "Q 866 947 969 400 \n",
       "Q 1050 -31 1165 -292 \n",
       "Q 1281 -553 1476 -793 \n",
       "Q 1672 -1034 1988 -1253 \n",
       "z\n",
       "\" transform=\"scale(0.015625)\"/>\n",
       "       <path id=\"TimesNewRomanPSMT-4c\" d=\"M 3669 1172 \n",
       "L 3772 1150 \n",
       "L 3409 0 \n",
       "L 128 0 \n",
       "L 128 116 \n",
       "L 288 116 \n",
       "Q 556 116 672 291 \n",
       "Q 738 391 738 753 \n",
       "L 738 3488 \n",
       "Q 738 3884 650 3984 \n",
       "Q 528 4122 288 4122 \n",
       "L 128 4122 \n",
       "L 128 4238 \n",
       "L 2047 4238 \n",
       "L 2047 4122 \n",
       "Q 1709 4125 1573 4059 \n",
       "Q 1438 3994 1388 3894 \n",
       "Q 1338 3794 1338 3416 \n",
       "L 1338 753 \n",
       "Q 1338 494 1388 397 \n",
       "Q 1425 331 1503 300 \n",
       "Q 1581 269 1991 269 \n",
       "L 2300 269 \n",
       "Q 2788 269 2984 341 \n",
       "Q 3181 413 3343 595 \n",
       "Q 3506 778 3669 1172 \n",
       "z\n",
       "\" transform=\"scale(0.015625)\"/>\n",
       "       <path id=\"TimesNewRomanPSMT-5f\" d=\"M 3256 -1381 \n",
       "L -53 -1381 \n",
       "L -53 -1119 \n",
       "L 3256 -1119 \n",
       "L 3256 -1381 \n",
       "z\n",
       "\" transform=\"scale(0.015625)\"/>\n",
       "       <path id=\"TimesNewRomanPSMT-49\" d=\"M 1975 116 \n",
       "L 1975 0 \n",
       "L 159 0 \n",
       "L 159 116 \n",
       "L 309 116 \n",
       "Q 572 116 691 269 \n",
       "Q 766 369 766 750 \n",
       "L 766 3488 \n",
       "Q 766 3809 725 3913 \n",
       "Q 694 3991 597 4047 \n",
       "Q 459 4122 309 4122 \n",
       "L 159 4122 \n",
       "L 159 4238 \n",
       "L 1975 4238 \n",
       "L 1975 4122 \n",
       "L 1822 4122 \n",
       "Q 1563 4122 1444 3969 \n",
       "Q 1366 3869 1366 3488 \n",
       "L 1366 750 \n",
       "Q 1366 428 1406 325 \n",
       "Q 1438 247 1538 191 \n",
       "Q 1672 116 1822 116 \n",
       "L 1975 116 \n",
       "z\n",
       "\" transform=\"scale(0.015625)\"/>\n",
       "       <path id=\"TimesNewRomanPSMT-52\" d=\"M 4325 0 \n",
       "L 3194 0 \n",
       "L 1759 1981 \n",
       "Q 1600 1975 1500 1975 \n",
       "Q 1459 1975 1412 1976 \n",
       "Q 1366 1978 1316 1981 \n",
       "L 1316 750 \n",
       "Q 1316 350 1403 253 \n",
       "Q 1522 116 1759 116 \n",
       "L 1925 116 \n",
       "L 1925 0 \n",
       "L 109 0 \n",
       "L 109 116 \n",
       "L 269 116 \n",
       "Q 538 116 653 291 \n",
       "Q 719 388 719 750 \n",
       "L 719 3488 \n",
       "Q 719 3888 631 3984 \n",
       "Q 509 4122 269 4122 \n",
       "L 109 4122 \n",
       "L 109 4238 \n",
       "L 1653 4238 \n",
       "Q 2328 4238 2648 4139 \n",
       "Q 2969 4041 3192 3777 \n",
       "Q 3416 3513 3416 3147 \n",
       "Q 3416 2756 3161 2468 \n",
       "Q 2906 2181 2372 2063 \n",
       "L 3247 847 \n",
       "Q 3547 428 3762 290 \n",
       "Q 3978 153 4325 116 \n",
       "L 4325 0 \n",
       "z\n",
       "M 1316 2178 \n",
       "Q 1375 2178 1419 2176 \n",
       "Q 1463 2175 1491 2175 \n",
       "Q 2097 2175 2405 2437 \n",
       "Q 2713 2700 2713 3106 \n",
       "Q 2713 3503 2464 3751 \n",
       "Q 2216 4000 1806 4000 \n",
       "Q 1625 4000 1316 3941 \n",
       "L 1316 2178 \n",
       "z\n",
       "\" transform=\"scale(0.015625)\"/>\n",
       "       <path id=\"TimesNewRomanPSMT-29\" d=\"M 144 4313 \n",
       "L 144 4444 \n",
       "Q 619 4209 934 3891 \n",
       "Q 1381 3434 1625 2820 \n",
       "Q 1869 2206 1869 1541 \n",
       "Q 1869 572 1392 -226 \n",
       "Q 916 -1025 144 -1369 \n",
       "L 144 -1253 \n",
       "Q 528 -1038 776 -670 \n",
       "Q 1025 -303 1145 264 \n",
       "Q 1266 831 1266 1447 \n",
       "Q 1266 2113 1163 2663 \n",
       "Q 1084 3094 967 3353 \n",
       "Q 850 3613 656 3853 \n",
       "Q 463 4094 144 4313 \n",
       "z\n",
       "\" transform=\"scale(0.015625)\"/>\n",
       "      </defs>\n",
       "      <use xlink:href=\"#TimesNewRomanPSMT-6c\"/>\n",
       "      <use xlink:href=\"#TimesNewRomanPSMT-6f\" x=\"27.783203\"/>\n",
       "      <use xlink:href=\"#TimesNewRomanPSMT-67\" x=\"77.783203\"/>\n",
       "      <use xlink:href=\"#TimesNewRomanPSMT-28\" x=\"127.783203\"/>\n",
       "      <use xlink:href=\"#TimesNewRomanPSMT-4c\" x=\"161.083984\"/>\n",
       "      <use xlink:href=\"#TimesNewRomanPSMT-5f\" x=\"222.167969\"/>\n",
       "      <use xlink:href=\"#TimesNewRomanPSMT-4d\" x=\"272.167969\"/>\n",
       "      <use xlink:href=\"#TimesNewRomanPSMT-49\" x=\"361.083984\"/>\n",
       "      <use xlink:href=\"#TimesNewRomanPSMT-52\" x=\"394.384766\"/>\n",
       "      <use xlink:href=\"#TimesNewRomanPSMT-29\" x=\"461.083984\"/>\n",
       "     </g>\n",
       "    </g>\n",
       "   </g>\n",
       "   <g id=\"LineCollection_1\">\n",
       "    <path d=\"M 86.373722 197.405274 \n",
       "L 86.373722 178.586954 \n",
       "\" clip-path=\"url(#p1f8e2fb794)\" style=\"fill: none; stroke: #1f77b4; stroke-width: 1.5\"/>\n",
       "    <path d=\"M 106.455831 209.155266 \n",
       "L 106.455831 182.192036 \n",
       "\" clip-path=\"url(#p1f8e2fb794)\" style=\"fill: none; stroke: #1f77b4; stroke-width: 1.5\"/>\n",
       "    <path d=\"M 240.993946 139.295236 \n",
       "L 240.993946 122.185608 \n",
       "\" clip-path=\"url(#p1f8e2fb794)\" style=\"fill: none; stroke: #1f77b4; stroke-width: 1.5\"/>\n",
       "    <path d=\"M 261.102444 55.987532 \n",
       "L 261.102444 45.955934 \n",
       "\" clip-path=\"url(#p1f8e2fb794)\" style=\"fill: none; stroke: #1f77b4; stroke-width: 1.5\"/>\n",
       "    <path d=\"M 278.888497 47.211459 \n",
       "L 278.888497 40.063397 \n",
       "\" clip-path=\"url(#p1f8e2fb794)\" style=\"fill: none; stroke: #1f77b4; stroke-width: 1.5\"/>\n",
       "    <path d=\"M 299.326777 55.192032 \n",
       "L 299.326777 44.929697 \n",
       "\" clip-path=\"url(#p1f8e2fb794)\" style=\"fill: none; stroke: #1f77b4; stroke-width: 1.5\"/>\n",
       "    <path d=\"M 316.873112 69.532732 \n",
       "L 316.873112 62.965215 \n",
       "\" clip-path=\"url(#p1f8e2fb794)\" style=\"fill: none; stroke: #1f77b4; stroke-width: 1.5\"/>\n",
       "    <path d=\"M 337.948281 121.847278 \n",
       "L 337.948281 113.03723 \n",
       "\" clip-path=\"url(#p1f8e2fb794)\" style=\"fill: none; stroke: #1f77b4; stroke-width: 1.5\"/>\n",
       "    <path d=\"M 354.94503 161.746646 \n",
       "L 354.94503 146.114267 \n",
       "\" clip-path=\"url(#p1f8e2fb794)\" style=\"fill: none; stroke: #1f77b4; stroke-width: 1.5\"/>\n",
       "    <path d=\"M 376.547182 191.678099 \n",
       "L 376.547182 165.995835 \n",
       "\" clip-path=\"url(#p1f8e2fb794)\" style=\"fill: none; stroke: #1f77b4; stroke-width: 1.5\"/>\n",
       "    <path d=\"M 393.216878 211.560221 \n",
       "L 393.216878 190.974337 \n",
       "\" clip-path=\"url(#p1f8e2fb794)\" style=\"fill: none; stroke: #1f77b4; stroke-width: 1.5\"/>\n",
       "    <path d=\"M 415.183517 214.970776 \n",
       "L 415.183517 164.619789 \n",
       "\" clip-path=\"url(#p1f8e2fb794)\" style=\"fill: none; stroke: #1f77b4; stroke-width: 1.5\"/>\n",
       "    <path d=\"M 431.633036 235.754864 \n",
       "L 431.633036 205.339833 \n",
       "\" clip-path=\"url(#p1f8e2fb794)\" style=\"fill: none; stroke: #1f77b4; stroke-width: 1.5\"/>\n",
       "    <path d=\"M 470.115631 212.311592 \n",
       "L 470.115631 186.07379 \n",
       "\" clip-path=\"url(#p1f8e2fb794)\" style=\"fill: none; stroke: #1f77b4; stroke-width: 1.5\"/>\n",
       "    <path d=\"M 492.191903 233.194563 \n",
       "L 492.191903 194.935911 \n",
       "\" clip-path=\"url(#p1f8e2fb794)\" style=\"fill: none; stroke: #1f77b4; stroke-width: 1.5\"/>\n",
       "   </g>\n",
       "   <g id=\"LineCollection_2\">\n",
       "    <path d=\"M 86.373722 198.194947 \n",
       "L 86.373722 183.879417 \n",
       "\" clip-path=\"url(#p1f8e2fb794)\" style=\"fill: none; stroke: #ff7f0e; stroke-width: 1.5\"/>\n",
       "    <path d=\"M 106.455831 213.616597 \n",
       "L 106.455831 175.944648 \n",
       "\" clip-path=\"url(#p1f8e2fb794)\" style=\"fill: none; stroke: #ff7f0e; stroke-width: 1.5\"/>\n",
       "    <path d=\"M 240.993946 161.063365 \n",
       "L 240.993946 142.44028 \n",
       "\" clip-path=\"url(#p1f8e2fb794)\" style=\"fill: none; stroke: #ff7f0e; stroke-width: 1.5\"/>\n",
       "    <path d=\"M 261.102444 77.701169 \n",
       "L 261.102444 67.316023 \n",
       "\" clip-path=\"url(#p1f8e2fb794)\" style=\"fill: none; stroke: #ff7f0e; stroke-width: 1.5\"/>\n",
       "    <path d=\"M 278.888497 61.346622 \n",
       "L 278.888497 44.817231 \n",
       "\" clip-path=\"url(#p1f8e2fb794)\" style=\"fill: none; stroke: #ff7f0e; stroke-width: 1.5\"/>\n",
       "    <path d=\"M 299.326777 48.813292 \n",
       "L 299.326777 38.082136 \n",
       "\" clip-path=\"url(#p1f8e2fb794)\" style=\"fill: none; stroke: #ff7f0e; stroke-width: 1.5\"/>\n",
       "    <path d=\"M 316.873112 67.726274 \n",
       "L 316.873112 57.103336 \n",
       "\" clip-path=\"url(#p1f8e2fb794)\" style=\"fill: none; stroke: #ff7f0e; stroke-width: 1.5\"/>\n",
       "    <path d=\"M 337.948281 116.764424 \n",
       "L 337.948281 105.858075 \n",
       "\" clip-path=\"url(#p1f8e2fb794)\" style=\"fill: none; stroke: #ff7f0e; stroke-width: 1.5\"/>\n",
       "    <path d=\"M 354.94503 140.593214 \n",
       "L 354.94503 128.429213 \n",
       "\" clip-path=\"url(#p1f8e2fb794)\" style=\"fill: none; stroke: #ff7f0e; stroke-width: 1.5\"/>\n",
       "    <path d=\"M 376.547182 168.532164 \n",
       "L 376.547182 145.361688 \n",
       "\" clip-path=\"url(#p1f8e2fb794)\" style=\"fill: none; stroke: #ff7f0e; stroke-width: 1.5\"/>\n",
       "    <path d=\"M 393.216878 178.01742 \n",
       "L 393.216878 148.140977 \n",
       "\" clip-path=\"url(#p1f8e2fb794)\" style=\"fill: none; stroke: #ff7f0e; stroke-width: 1.5\"/>\n",
       "    <path d=\"M 415.183517 186.296921 \n",
       "L 415.183517 148.10978 \n",
       "\" clip-path=\"url(#p1f8e2fb794)\" style=\"fill: none; stroke: #ff7f0e; stroke-width: 1.5\"/>\n",
       "    <path d=\"M 431.633036 205.693214 \n",
       "L 431.633036 146.953443 \n",
       "\" clip-path=\"url(#p1f8e2fb794)\" style=\"fill: none; stroke: #ff7f0e; stroke-width: 1.5\"/>\n",
       "    <path d=\"M 470.115631 182.480246 \n",
       "L 470.115631 161.927331 \n",
       "\" clip-path=\"url(#p1f8e2fb794)\" style=\"fill: none; stroke: #ff7f0e; stroke-width: 1.5\"/>\n",
       "    <path d=\"M 492.191903 186.241932 \n",
       "L 492.191903 113.160735 \n",
       "\" clip-path=\"url(#p1f8e2fb794)\" style=\"fill: none; stroke: #ff7f0e; stroke-width: 1.5\"/>\n",
       "   </g>\n",
       "   <g id=\"line2d_8\">\n",
       "    <path d=\"M 86.373722 187.996114 \n",
       "L 106.455831 195.673651 \n",
       "L 240.993946 130.740422 \n",
       "L 261.102444 50.971733 \n",
       "L 278.888497 43.637428 \n",
       "L 299.326777 50.060864 \n",
       "L 316.873112 66.248974 \n",
       "L 337.948281 117.442254 \n",
       "L 354.94503 153.930456 \n",
       "L 376.547182 178.836967 \n",
       "L 393.216878 201.267279 \n",
       "L 415.183517 189.795282 \n",
       "L 431.633036 220.547348 \n",
       "L 470.115631 199.192691 \n",
       "L 492.191903 214.065237 \n",
       "\" clip-path=\"url(#p1f8e2fb794)\" style=\"fill: none; stroke-dasharray: 1.5,2.475; stroke-dashoffset: 0; stroke: #1f77b4; stroke-width: 1.5\"/>\n",
       "    <defs>\n",
       "     <path id=\"mb45bb700c4\" d=\"M 0 -3 \n",
       "L -0.673542 -0.927051 \n",
       "L -2.85317 -0.927051 \n",
       "L -1.089814 0.354102 \n",
       "L -1.763356 2.427051 \n",
       "L -0 1.145898 \n",
       "L 1.763356 2.427051 \n",
       "L 1.089814 0.354102 \n",
       "L 2.85317 -0.927051 \n",
       "L 0.673542 -0.927051 \n",
       "z\n",
       "\" style=\"stroke: #1f77b4; stroke-linejoin: bevel\"/>\n",
       "    </defs>\n",
       "    <g clip-path=\"url(#p1f8e2fb794)\">\n",
       "     <use xlink:href=\"#mb45bb700c4\" x=\"86.373722\" y=\"187.996114\" style=\"fill: #1f77b4; stroke: #1f77b4; stroke-linejoin: bevel\"/>\n",
       "     <use xlink:href=\"#mb45bb700c4\" x=\"106.455831\" y=\"195.673651\" style=\"fill: #1f77b4; stroke: #1f77b4; stroke-linejoin: bevel\"/>\n",
       "     <use xlink:href=\"#mb45bb700c4\" x=\"240.993946\" y=\"130.740422\" style=\"fill: #1f77b4; stroke: #1f77b4; stroke-linejoin: bevel\"/>\n",
       "     <use xlink:href=\"#mb45bb700c4\" x=\"261.102444\" y=\"50.971733\" style=\"fill: #1f77b4; stroke: #1f77b4; stroke-linejoin: bevel\"/>\n",
       "     <use xlink:href=\"#mb45bb700c4\" x=\"278.888497\" y=\"43.637428\" style=\"fill: #1f77b4; stroke: #1f77b4; stroke-linejoin: bevel\"/>\n",
       "     <use xlink:href=\"#mb45bb700c4\" x=\"299.326777\" y=\"50.060864\" style=\"fill: #1f77b4; stroke: #1f77b4; stroke-linejoin: bevel\"/>\n",
       "     <use xlink:href=\"#mb45bb700c4\" x=\"316.873112\" y=\"66.248974\" style=\"fill: #1f77b4; stroke: #1f77b4; stroke-linejoin: bevel\"/>\n",
       "     <use xlink:href=\"#mb45bb700c4\" x=\"337.948281\" y=\"117.442254\" style=\"fill: #1f77b4; stroke: #1f77b4; stroke-linejoin: bevel\"/>\n",
       "     <use xlink:href=\"#mb45bb700c4\" x=\"354.94503\" y=\"153.930456\" style=\"fill: #1f77b4; stroke: #1f77b4; stroke-linejoin: bevel\"/>\n",
       "     <use xlink:href=\"#mb45bb700c4\" x=\"376.547182\" y=\"178.836967\" style=\"fill: #1f77b4; stroke: #1f77b4; stroke-linejoin: bevel\"/>\n",
       "     <use xlink:href=\"#mb45bb700c4\" x=\"393.216878\" y=\"201.267279\" style=\"fill: #1f77b4; stroke: #1f77b4; stroke-linejoin: bevel\"/>\n",
       "     <use xlink:href=\"#mb45bb700c4\" x=\"415.183517\" y=\"189.795282\" style=\"fill: #1f77b4; stroke: #1f77b4; stroke-linejoin: bevel\"/>\n",
       "     <use xlink:href=\"#mb45bb700c4\" x=\"431.633036\" y=\"220.547348\" style=\"fill: #1f77b4; stroke: #1f77b4; stroke-linejoin: bevel\"/>\n",
       "     <use xlink:href=\"#mb45bb700c4\" x=\"470.115631\" y=\"199.192691\" style=\"fill: #1f77b4; stroke: #1f77b4; stroke-linejoin: bevel\"/>\n",
       "     <use xlink:href=\"#mb45bb700c4\" x=\"492.191903\" y=\"214.065237\" style=\"fill: #1f77b4; stroke: #1f77b4; stroke-linejoin: bevel\"/>\n",
       "    </g>\n",
       "   </g>\n",
       "   <g id=\"line2d_9\">\n",
       "    <path d=\"M 86.373722 191.037182 \n",
       "L 106.455831 194.780622 \n",
       "L 240.993946 151.751822 \n",
       "L 261.102444 72.508596 \n",
       "L 278.888497 53.081927 \n",
       "L 299.326777 43.447714 \n",
       "L 316.873112 62.414805 \n",
       "L 337.948281 111.311249 \n",
       "L 354.94503 134.511213 \n",
       "L 376.547182 156.946926 \n",
       "L 393.216878 163.079199 \n",
       "L 415.183517 167.203351 \n",
       "L 431.633036 176.323328 \n",
       "L 470.115631 172.203789 \n",
       "L 492.191903 149.701333 \n",
       "\" clip-path=\"url(#p1f8e2fb794)\" style=\"fill: none; stroke-dasharray: 1.5,2.475; stroke-dashoffset: 0; stroke: #ff7f0e; stroke-width: 1.5\"/>\n",
       "    <defs>\n",
       "     <path id=\"mcfea703134\" d=\"M 0 -3 \n",
       "L -0.673542 -0.927051 \n",
       "L -2.85317 -0.927051 \n",
       "L -1.089814 0.354102 \n",
       "L -1.763356 2.427051 \n",
       "L -0 1.145898 \n",
       "L 1.763356 2.427051 \n",
       "L 1.089814 0.354102 \n",
       "L 2.85317 -0.927051 \n",
       "L 0.673542 -0.927051 \n",
       "z\n",
       "\" style=\"stroke: #ff7f0e; stroke-linejoin: bevel\"/>\n",
       "    </defs>\n",
       "    <g clip-path=\"url(#p1f8e2fb794)\">\n",
       "     <use xlink:href=\"#mcfea703134\" x=\"86.373722\" y=\"191.037182\" style=\"fill: #ff7f0e; stroke: #ff7f0e; stroke-linejoin: bevel\"/>\n",
       "     <use xlink:href=\"#mcfea703134\" x=\"106.455831\" y=\"194.780622\" style=\"fill: #ff7f0e; stroke: #ff7f0e; stroke-linejoin: bevel\"/>\n",
       "     <use xlink:href=\"#mcfea703134\" x=\"240.993946\" y=\"151.751822\" style=\"fill: #ff7f0e; stroke: #ff7f0e; stroke-linejoin: bevel\"/>\n",
       "     <use xlink:href=\"#mcfea703134\" x=\"261.102444\" y=\"72.508596\" style=\"fill: #ff7f0e; stroke: #ff7f0e; stroke-linejoin: bevel\"/>\n",
       "     <use xlink:href=\"#mcfea703134\" x=\"278.888497\" y=\"53.081927\" style=\"fill: #ff7f0e; stroke: #ff7f0e; stroke-linejoin: bevel\"/>\n",
       "     <use xlink:href=\"#mcfea703134\" x=\"299.326777\" y=\"43.447714\" style=\"fill: #ff7f0e; stroke: #ff7f0e; stroke-linejoin: bevel\"/>\n",
       "     <use xlink:href=\"#mcfea703134\" x=\"316.873112\" y=\"62.414805\" style=\"fill: #ff7f0e; stroke: #ff7f0e; stroke-linejoin: bevel\"/>\n",
       "     <use xlink:href=\"#mcfea703134\" x=\"337.948281\" y=\"111.311249\" style=\"fill: #ff7f0e; stroke: #ff7f0e; stroke-linejoin: bevel\"/>\n",
       "     <use xlink:href=\"#mcfea703134\" x=\"354.94503\" y=\"134.511213\" style=\"fill: #ff7f0e; stroke: #ff7f0e; stroke-linejoin: bevel\"/>\n",
       "     <use xlink:href=\"#mcfea703134\" x=\"376.547182\" y=\"156.946926\" style=\"fill: #ff7f0e; stroke: #ff7f0e; stroke-linejoin: bevel\"/>\n",
       "     <use xlink:href=\"#mcfea703134\" x=\"393.216878\" y=\"163.079199\" style=\"fill: #ff7f0e; stroke: #ff7f0e; stroke-linejoin: bevel\"/>\n",
       "     <use xlink:href=\"#mcfea703134\" x=\"415.183517\" y=\"167.203351\" style=\"fill: #ff7f0e; stroke: #ff7f0e; stroke-linejoin: bevel\"/>\n",
       "     <use xlink:href=\"#mcfea703134\" x=\"431.633036\" y=\"176.323328\" style=\"fill: #ff7f0e; stroke: #ff7f0e; stroke-linejoin: bevel\"/>\n",
       "     <use xlink:href=\"#mcfea703134\" x=\"470.115631\" y=\"172.203789\" style=\"fill: #ff7f0e; stroke: #ff7f0e; stroke-linejoin: bevel\"/>\n",
       "     <use xlink:href=\"#mcfea703134\" x=\"492.191903\" y=\"149.701333\" style=\"fill: #ff7f0e; stroke: #ff7f0e; stroke-linejoin: bevel\"/>\n",
       "    </g>\n",
       "   </g>\n",
       "   <g id=\"patch_3\">\n",
       "    <path d=\"M 66.082813 245.6385 \n",
       "L 66.082813 28.1985 \n",
       "\" style=\"fill: none; stroke: #000000; stroke-width: 2; stroke-linejoin: miter; stroke-linecap: square\"/>\n",
       "   </g>\n",
       "   <g id=\"patch_4\">\n",
       "    <path d=\"M 512.482813 245.6385 \n",
       "L 512.482813 28.1985 \n",
       "\" style=\"fill: none; stroke: #000000; stroke-width: 2; stroke-linejoin: miter; stroke-linecap: square\"/>\n",
       "   </g>\n",
       "   <g id=\"patch_5\">\n",
       "    <path d=\"M 66.082812 245.6385 \n",
       "L 512.482813 245.6385 \n",
       "\" style=\"fill: none; stroke: #000000; stroke-width: 2; stroke-linejoin: miter; stroke-linecap: square\"/>\n",
       "   </g>\n",
       "   <g id=\"patch_6\">\n",
       "    <path d=\"M 66.082812 28.1985 \n",
       "L 512.482813 28.1985 \n",
       "\" style=\"fill: none; stroke: #000000; stroke-width: 2; stroke-linejoin: miter; stroke-linecap: square\"/>\n",
       "   </g>\n",
       "   <g id=\"text_10\">\n",
       "    <!-- SDSSJ115103.77+530140.6 z=0.5475 -->\n",
       "    <g transform=\"translate(123.892625 22.1985) scale(0.216 -0.216)\">\n",
       "     <defs>\n",
       "      <path id=\"TimesNewRomanPSMT-53\" d=\"M 2934 4334 \n",
       "L 2934 2869 \n",
       "L 2819 2869 \n",
       "Q 2763 3291 2617 3541 \n",
       "Q 2472 3791 2203 3937 \n",
       "Q 1934 4084 1647 4084 \n",
       "Q 1322 4084 1109 3886 \n",
       "Q 897 3688 897 3434 \n",
       "Q 897 3241 1031 3081 \n",
       "Q 1225 2847 1953 2456 \n",
       "Q 2547 2138 2764 1967 \n",
       "Q 2981 1797 3098 1565 \n",
       "Q 3216 1334 3216 1081 \n",
       "Q 3216 600 2842 251 \n",
       "Q 2469 -97 1881 -97 \n",
       "Q 1697 -97 1534 -69 \n",
       "Q 1438 -53 1133 45 \n",
       "Q 828 144 747 144 \n",
       "Q 669 144 623 97 \n",
       "Q 578 50 556 -97 \n",
       "L 441 -97 \n",
       "L 441 1356 \n",
       "L 556 1356 \n",
       "Q 638 900 775 673 \n",
       "Q 913 447 1195 297 \n",
       "Q 1478 147 1816 147 \n",
       "Q 2206 147 2432 353 \n",
       "Q 2659 559 2659 841 \n",
       "Q 2659 997 2573 1156 \n",
       "Q 2488 1316 2306 1453 \n",
       "Q 2184 1547 1640 1851 \n",
       "Q 1097 2156 867 2337 \n",
       "Q 638 2519 519 2737 \n",
       "Q 400 2956 400 3219 \n",
       "Q 400 3675 750 4004 \n",
       "Q 1100 4334 1641 4334 \n",
       "Q 1978 4334 2356 4169 \n",
       "Q 2531 4091 2603 4091 \n",
       "Q 2684 4091 2736 4139 \n",
       "Q 2788 4188 2819 4334 \n",
       "L 2934 4334 \n",
       "z\n",
       "\" transform=\"scale(0.015625)\"/>\n",
       "      <path id=\"TimesNewRomanPSMT-31\" d=\"M 750 3822 \n",
       "L 1781 4325 \n",
       "L 1884 4325 \n",
       "L 1884 747 \n",
       "Q 1884 391 1914 303 \n",
       "Q 1944 216 2037 169 \n",
       "Q 2131 122 2419 116 \n",
       "L 2419 0 \n",
       "L 825 0 \n",
       "L 825 116 \n",
       "Q 1125 122 1212 167 \n",
       "Q 1300 213 1334 289 \n",
       "Q 1369 366 1369 747 \n",
       "L 1369 3034 \n",
       "Q 1369 3497 1338 3628 \n",
       "Q 1316 3728 1258 3775 \n",
       "Q 1200 3822 1119 3822 \n",
       "Q 1003 3822 797 3725 \n",
       "L 750 3822 \n",
       "z\n",
       "\" transform=\"scale(0.015625)\"/>\n",
       "      <path id=\"TimesNewRomanPSMT-33\" d=\"M 325 3431 \n",
       "Q 506 3859 782 4092 \n",
       "Q 1059 4325 1472 4325 \n",
       "Q 1981 4325 2253 3994 \n",
       "Q 2459 3747 2459 3466 \n",
       "Q 2459 3003 1878 2509 \n",
       "Q 2269 2356 2469 2072 \n",
       "Q 2669 1788 2669 1403 \n",
       "Q 2669 853 2319 450 \n",
       "Q 1863 -75 997 -75 \n",
       "Q 569 -75 414 31 \n",
       "Q 259 138 259 259 \n",
       "Q 259 350 332 419 \n",
       "Q 406 488 509 488 \n",
       "Q 588 488 669 463 \n",
       "Q 722 447 909 348 \n",
       "Q 1097 250 1169 231 \n",
       "Q 1284 197 1416 197 \n",
       "Q 1734 197 1970 444 \n",
       "Q 2206 691 2206 1028 \n",
       "Q 2206 1275 2097 1509 \n",
       "Q 2016 1684 1919 1775 \n",
       "Q 1784 1900 1550 2001 \n",
       "Q 1316 2103 1072 2103 \n",
       "L 972 2103 \n",
       "L 972 2197 \n",
       "Q 1219 2228 1467 2375 \n",
       "Q 1716 2522 1828 2728 \n",
       "Q 1941 2934 1941 3181 \n",
       "Q 1941 3503 1739 3701 \n",
       "Q 1538 3900 1238 3900 \n",
       "Q 753 3900 428 3381 \n",
       "L 325 3431 \n",
       "z\n",
       "\" transform=\"scale(0.015625)\"/>\n",
       "      <path id=\"TimesNewRomanPSMT-2b\" d=\"M 1672 441 \n",
       "L 1672 2000 \n",
       "L 116 2000 \n",
       "L 116 2256 \n",
       "L 1672 2256 \n",
       "L 1672 3809 \n",
       "L 1922 3809 \n",
       "L 1922 2256 \n",
       "L 3484 2256 \n",
       "L 3484 2000 \n",
       "L 1922 2000 \n",
       "L 1922 441 \n",
       "L 1672 441 \n",
       "z\n",
       "\" transform=\"scale(0.015625)\"/>\n",
       "      <path id=\"TimesNewRomanPSMT-20\" transform=\"scale(0.015625)\"/>\n",
       "      <path id=\"TimesNewRomanPSMT-7a\" d=\"M 2688 878 \n",
       "L 2653 0 \n",
       "L 128 0 \n",
       "L 128 113 \n",
       "L 2028 2644 \n",
       "L 1091 2644 \n",
       "Q 788 2644 694 2605 \n",
       "Q 600 2566 541 2456 \n",
       "Q 456 2300 444 2069 \n",
       "L 319 2069 \n",
       "L 338 2863 \n",
       "L 2738 2863 \n",
       "L 2738 2747 \n",
       "L 819 209 \n",
       "L 1863 209 \n",
       "Q 2191 209 2308 264 \n",
       "Q 2425 319 2497 456 \n",
       "Q 2547 556 2581 878 \n",
       "L 2688 878 \n",
       "z\n",
       "\" transform=\"scale(0.015625)\"/>\n",
       "      <path id=\"TimesNewRomanPSMT-3d\" d=\"M 116 2759 \n",
       "L 3488 2759 \n",
       "L 3488 2503 \n",
       "L 116 2503 \n",
       "L 116 2759 \n",
       "z\n",
       "M 116 1741 \n",
       "L 3488 1741 \n",
       "L 3488 1484 \n",
       "L 116 1484 \n",
       "L 116 1741 \n",
       "z\n",
       "\" transform=\"scale(0.015625)\"/>\n",
       "     </defs>\n",
       "     <use xlink:href=\"#TimesNewRomanPSMT-53\"/>\n",
       "     <use xlink:href=\"#TimesNewRomanPSMT-44\" x=\"55.615234\"/>\n",
       "     <use xlink:href=\"#TimesNewRomanPSMT-53\" x=\"127.832031\"/>\n",
       "     <use xlink:href=\"#TimesNewRomanPSMT-53\" x=\"183.447266\"/>\n",
       "     <use xlink:href=\"#TimesNewRomanPSMT-4a\" x=\"239.0625\"/>\n",
       "     <use xlink:href=\"#TimesNewRomanPSMT-31\" x=\"277.978516\"/>\n",
       "     <use xlink:href=\"#TimesNewRomanPSMT-31\" x=\"324.228516\"/>\n",
       "     <use xlink:href=\"#TimesNewRomanPSMT-35\" x=\"374.228516\"/>\n",
       "     <use xlink:href=\"#TimesNewRomanPSMT-31\" x=\"424.228516\"/>\n",
       "     <use xlink:href=\"#TimesNewRomanPSMT-30\" x=\"474.228516\"/>\n",
       "     <use xlink:href=\"#TimesNewRomanPSMT-33\" x=\"524.228516\"/>\n",
       "     <use xlink:href=\"#TimesNewRomanPSMT-2e\" x=\"574.228516\"/>\n",
       "     <use xlink:href=\"#TimesNewRomanPSMT-37\" x=\"599.228516\"/>\n",
       "     <use xlink:href=\"#TimesNewRomanPSMT-37\" x=\"649.228516\"/>\n",
       "     <use xlink:href=\"#TimesNewRomanPSMT-2b\" x=\"699.228516\"/>\n",
       "     <use xlink:href=\"#TimesNewRomanPSMT-35\" x=\"755.625\"/>\n",
       "     <use xlink:href=\"#TimesNewRomanPSMT-33\" x=\"805.625\"/>\n",
       "     <use xlink:href=\"#TimesNewRomanPSMT-30\" x=\"855.625\"/>\n",
       "     <use xlink:href=\"#TimesNewRomanPSMT-31\" x=\"905.625\"/>\n",
       "     <use xlink:href=\"#TimesNewRomanPSMT-34\" x=\"955.625\"/>\n",
       "     <use xlink:href=\"#TimesNewRomanPSMT-30\" x=\"1005.625\"/>\n",
       "     <use xlink:href=\"#TimesNewRomanPSMT-2e\" x=\"1055.625\"/>\n",
       "     <use xlink:href=\"#TimesNewRomanPSMT-36\" x=\"1080.625\"/>\n",
       "     <use xlink:href=\"#TimesNewRomanPSMT-20\" x=\"1130.625\"/>\n",
       "     <use xlink:href=\"#TimesNewRomanPSMT-7a\" x=\"1155.625\"/>\n",
       "     <use xlink:href=\"#TimesNewRomanPSMT-3d\" x=\"1200.009766\"/>\n",
       "     <use xlink:href=\"#TimesNewRomanPSMT-30\" x=\"1256.40625\"/>\n",
       "     <use xlink:href=\"#TimesNewRomanPSMT-2e\" x=\"1306.40625\"/>\n",
       "     <use xlink:href=\"#TimesNewRomanPSMT-35\" x=\"1331.40625\"/>\n",
       "     <use xlink:href=\"#TimesNewRomanPSMT-34\" x=\"1381.40625\"/>\n",
       "     <use xlink:href=\"#TimesNewRomanPSMT-37\" x=\"1431.40625\"/>\n",
       "     <use xlink:href=\"#TimesNewRomanPSMT-35\" x=\"1481.40625\"/>\n",
       "    </g>\n",
       "   </g>\n",
       "   <g id=\"legend_1\">\n",
       "    <g id=\"patch_7\">\n",
       "     <path d=\"M 78.246813 70.278838 \n",
       "L 126.890875 70.278838 \n",
       "Q 129.090875 70.278838 129.090875 68.078838 \n",
       "L 129.090875 38.0729 \n",
       "Q 129.090875 35.8729 126.890875 35.8729 \n",
       "L 78.246813 35.8729 \n",
       "Q 76.046813 35.8729 76.046813 38.0729 \n",
       "L 76.046813 68.078838 \n",
       "Q 76.046813 70.278838 78.246813 70.278838 \n",
       "z\n",
       "\" style=\"fill: #ffffff; opacity: 0.8; stroke: #cccccc; stroke-linejoin: miter\"/>\n",
       "    </g>\n",
       "    <g id=\"LineCollection_3\">\n",
       "     <path d=\"M 91.446813 49.6229 \n",
       "L 91.446813 38.6229 \n",
       "\" style=\"fill: none; stroke: #1f77b4; stroke-width: 1.5\"/>\n",
       "    </g>\n",
       "    <g id=\"line2d_10\">\n",
       "     <path d=\"M 80.446813 44.1229 \n",
       "L 102.446813 44.1229 \n",
       "\" style=\"fill: none; stroke-dasharray: 1.5,2.475; stroke-dashoffset: 0; stroke: #1f77b4; stroke-width: 1.5\"/>\n",
       "    </g>\n",
       "    <g id=\"line2d_11\">\n",
       "     <g>\n",
       "      <use xlink:href=\"#mb45bb700c4\" x=\"91.446813\" y=\"44.1229\" style=\"fill: #1f77b4; stroke: #1f77b4; stroke-linejoin: bevel\"/>\n",
       "     </g>\n",
       "    </g>\n",
       "    <g id=\"text_11\">\n",
       "     <!-- w1 -->\n",
       "     <g transform=\"translate(111.246813 47.9729) scale(0.11 -0.11)\">\n",
       "      <defs>\n",
       "       <path id=\"TimesNewRomanPSMT-77\" d=\"M 41 2863 \n",
       "L 1241 2863 \n",
       "L 1241 2747 \n",
       "Q 1075 2734 1023 2687 \n",
       "Q 972 2641 972 2553 \n",
       "Q 972 2456 1025 2319 \n",
       "L 1638 672 \n",
       "L 2253 2013 \n",
       "L 2091 2434 \n",
       "Q 2016 2622 1894 2694 \n",
       "Q 1825 2738 1638 2747 \n",
       "L 1638 2863 \n",
       "L 3000 2863 \n",
       "L 3000 2747 \n",
       "Q 2775 2738 2681 2666 \n",
       "Q 2619 2616 2619 2506 \n",
       "Q 2619 2444 2644 2378 \n",
       "L 3294 734 \n",
       "L 3897 2319 \n",
       "Q 3959 2488 3959 2588 \n",
       "Q 3959 2647 3898 2694 \n",
       "Q 3838 2741 3659 2747 \n",
       "L 3659 2863 \n",
       "L 4563 2863 \n",
       "L 4563 2747 \n",
       "Q 4291 2706 4163 2378 \n",
       "L 3206 -88 \n",
       "L 3078 -88 \n",
       "L 2363 1741 \n",
       "L 1528 -88 \n",
       "L 1413 -88 \n",
       "L 494 2319 \n",
       "Q 403 2547 315 2626 \n",
       "Q 228 2706 41 2747 \n",
       "L 41 2863 \n",
       "z\n",
       "\" transform=\"scale(0.015625)\"/>\n",
       "      </defs>\n",
       "      <use xlink:href=\"#TimesNewRomanPSMT-77\"/>\n",
       "      <use xlink:href=\"#TimesNewRomanPSMT-31\" x=\"72.216797\"/>\n",
       "     </g>\n",
       "    </g>\n",
       "    <g id=\"LineCollection_4\">\n",
       "     <path d=\"M 91.446813 65.175869 \n",
       "L 91.446813 54.175869 \n",
       "\" style=\"fill: none; stroke: #ff7f0e; stroke-width: 1.5\"/>\n",
       "    </g>\n",
       "    <g id=\"line2d_12\">\n",
       "     <path d=\"M 80.446813 59.675869 \n",
       "L 102.446813 59.675869 \n",
       "\" style=\"fill: none; stroke-dasharray: 1.5,2.475; stroke-dashoffset: 0; stroke: #ff7f0e; stroke-width: 1.5\"/>\n",
       "    </g>\n",
       "    <g id=\"line2d_13\">\n",
       "     <g>\n",
       "      <use xlink:href=\"#mcfea703134\" x=\"91.446813\" y=\"59.675869\" style=\"fill: #ff7f0e; stroke: #ff7f0e; stroke-linejoin: bevel\"/>\n",
       "     </g>\n",
       "    </g>\n",
       "    <g id=\"text_12\">\n",
       "     <!-- w2 -->\n",
       "     <g transform=\"translate(111.246813 63.525869) scale(0.11 -0.11)\">\n",
       "      <use xlink:href=\"#TimesNewRomanPSMT-77\"/>\n",
       "      <use xlink:href=\"#TimesNewRomanPSMT-32\" x=\"72.216797\"/>\n",
       "     </g>\n",
       "    </g>\n",
       "   </g>\n",
       "  </g>\n",
       " </g>\n",
       " <defs>\n",
       "  <clipPath id=\"p1f8e2fb794\">\n",
       "   <rect x=\"66.082813\" y=\"28.1985\" width=\"446.4\" height=\"217.44\"/>\n",
       "  </clipPath>\n",
       " </defs>\n",
       "</svg>\n"
      ],
      "text/plain": [
       "<Figure size 576x288 with 1 Axes>"
      ]
     },
     "metadata": {
      "needs_background": "light"
     },
     "output_type": "display_data"
    }
   ],
   "source": [
    "name='SDSSJ115103.77+530140.6'\n",
    "name=name.strip()\n",
    "D_cm_115103= cosmo.luminosity_distance(z=0.5475).to(u.cm)\n",
    "data_test_neo,data_test_mep=get_wise_data(name,wisedata_path)\n",
    "data_rebin_neo,data_rebin_mep=get_rebinwise_data(data_test_neo,data_test_mep)\n",
    "\n",
    "data_rebinflux_neo,data_rebinflux_mep=get_wiseflux_rebin(data_rebin_neo,data_rebin_mep,D_cm_115103)\n",
    "datalag_w1_115103,datalag_w2_115103=get_wise_lc(data_rebinflux_neo,data_rebinflux_mep)\n",
    "\n",
    "fig = plt.figure(figsize=(8,4))\n",
    "fig.subplots_adjust(hspace=0.0, wspace = 0.0)\n",
    "ax = fig.add_subplot(111)\n",
    "\n",
    "\n",
    "#BH_mass_115103=1e6*u.solMass\n",
    "#Ledd_115103=1.26*10**38*BH_mass_115103/u.solMass\n",
    "\n",
    "ax.errorbar(datalag_w1_115103['t'],datalag_w1_115103['flux'],datalag_w1_115103['err'],label='w1',ls=':',marker='*')\n",
    "ax.errorbar(datalag_w2_115103['t'],datalag_w2_115103['flux'],datalag_w2_115103['err'],label='w2',ls=':',marker='*')\n",
    "\n",
    "#ax.axhline(np.log10(Ledd_115103),ls='-.',label='Ledd') #+np.log10(9)\n",
    "ax.set_xlabel('MJD')\n",
    "ax.set_ylabel('log(L_MIR)')\n",
    "ax.set_title('%s z=0.5475'%name)\n",
    "set_ax_legend(ax,bbox_to_anchor=(0.01, 0.99))\n"
   ]
  },
  {
   "cell_type": "code",
   "execution_count": 139,
   "metadata": {
    "ExecuteTime": {
     "end_time": "2023-08-18T14:34:53.467580Z",
     "start_time": "2023-08-18T14:34:53.233005Z"
    }
   },
   "outputs": [
    {
     "data": {
      "image/svg+xml": [
       "<?xml version=\"1.0\" encoding=\"utf-8\" standalone=\"no\"?>\n",
       "<!DOCTYPE svg PUBLIC \"-//W3C//DTD SVG 1.1//EN\"\n",
       "  \"http://www.w3.org/Graphics/SVG/1.1/DTD/svg11.dtd\">\n",
       "<svg xmlns:xlink=\"http://www.w3.org/1999/xlink\" width=\"541.368214pt\" height=\"303.036625pt\" viewBox=\"0 0 541.368214 303.036625\" xmlns=\"http://www.w3.org/2000/svg\" version=\"1.1\">\n",
       " <metadata>\n",
       "  <rdf:RDF xmlns:dc=\"http://purl.org/dc/elements/1.1/\" xmlns:cc=\"http://creativecommons.org/ns#\" xmlns:rdf=\"http://www.w3.org/1999/02/22-rdf-syntax-ns#\">\n",
       "   <cc:Work>\n",
       "    <dc:type rdf:resource=\"http://purl.org/dc/dcmitype/StillImage\"/>\n",
       "    <dc:date>2023-08-18T22:34:53.440772</dc:date>\n",
       "    <dc:format>image/svg+xml</dc:format>\n",
       "    <dc:creator>\n",
       "     <cc:Agent>\n",
       "      <dc:title>Matplotlib v3.7.1, https://matplotlib.org/</dc:title>\n",
       "     </cc:Agent>\n",
       "    </dc:creator>\n",
       "   </cc:Work>\n",
       "  </rdf:RDF>\n",
       " </metadata>\n",
       " <defs>\n",
       "  <style type=\"text/css\">*{stroke-linejoin: round; stroke-linecap: butt}</style>\n",
       " </defs>\n",
       " <g id=\"figure_1\">\n",
       "  <g id=\"patch_1\">\n",
       "   <path d=\"M 0 303.036625 \n",
       "L 541.368214 303.036625 \n",
       "L 541.368214 0 \n",
       "L 0 0 \n",
       "L 0 303.036625 \n",
       "z\n",
       "\" style=\"fill: none\"/>\n",
       "  </g>\n",
       "  <g id=\"axes_1\">\n",
       "   <g id=\"patch_2\">\n",
       "    <path d=\"M 66.082813 245.6385 \n",
       "L 512.482813 245.6385 \n",
       "L 512.482813 28.1985 \n",
       "L 66.082813 28.1985 \n",
       "z\n",
       "\" style=\"fill: #ffffff\"/>\n",
       "   </g>\n",
       "   <g id=\"matplotlib.axis_1\">\n",
       "    <g id=\"xtick_1\">\n",
       "     <g id=\"line2d_1\">\n",
       "      <defs>\n",
       "       <path id=\"mc63e5621ed\" d=\"M 0 0 \n",
       "L 0 10 \n",
       "\" style=\"stroke: #000000; stroke-width: 2\"/>\n",
       "      </defs>\n",
       "      <g>\n",
       "       <use xlink:href=\"#mc63e5621ed\" x=\"154.476905\" y=\"245.6385\" style=\"stroke: #000000; stroke-width: 2\"/>\n",
       "      </g>\n",
       "     </g>\n",
       "     <g id=\"text_1\">\n",
       "      <!-- 56000 -->\n",
       "      <g transform=\"translate(131.976905 271.63725) scale(0.18 -0.18)\">\n",
       "       <defs>\n",
       "        <path id=\"TimesNewRomanPSMT-35\" d=\"M 2778 4238 \n",
       "L 2534 3706 \n",
       "L 1259 3706 \n",
       "L 981 3138 \n",
       "Q 1809 3016 2294 2522 \n",
       "Q 2709 2097 2709 1522 \n",
       "Q 2709 1188 2573 903 \n",
       "Q 2438 619 2231 419 \n",
       "Q 2025 219 1772 97 \n",
       "Q 1413 -75 1034 -75 \n",
       "Q 653 -75 479 54 \n",
       "Q 306 184 306 341 \n",
       "Q 306 428 378 495 \n",
       "Q 450 563 559 563 \n",
       "Q 641 563 702 538 \n",
       "Q 763 513 909 409 \n",
       "Q 1144 247 1384 247 \n",
       "Q 1750 247 2026 523 \n",
       "Q 2303 800 2303 1197 \n",
       "Q 2303 1581 2056 1914 \n",
       "Q 1809 2247 1375 2428 \n",
       "Q 1034 2569 447 2591 \n",
       "L 1259 4238 \n",
       "L 2778 4238 \n",
       "z\n",
       "\" transform=\"scale(0.015625)\"/>\n",
       "        <path id=\"TimesNewRomanPSMT-36\" d=\"M 2869 4325 \n",
       "L 2869 4209 \n",
       "Q 2456 4169 2195 4045 \n",
       "Q 1934 3922 1679 3669 \n",
       "Q 1425 3416 1258 3105 \n",
       "Q 1091 2794 978 2366 \n",
       "Q 1428 2675 1881 2675 \n",
       "Q 2316 2675 2634 2325 \n",
       "Q 2953 1975 2953 1425 \n",
       "Q 2953 894 2631 456 \n",
       "Q 2244 -75 1606 -75 \n",
       "Q 1172 -75 869 213 \n",
       "Q 275 772 275 1663 \n",
       "Q 275 2231 503 2743 \n",
       "Q 731 3256 1154 3653 \n",
       "Q 1578 4050 1965 4187 \n",
       "Q 2353 4325 2688 4325 \n",
       "L 2869 4325 \n",
       "z\n",
       "M 925 2138 \n",
       "Q 869 1716 869 1456 \n",
       "Q 869 1156 980 804 \n",
       "Q 1091 453 1309 247 \n",
       "Q 1469 100 1697 100 \n",
       "Q 1969 100 2183 356 \n",
       "Q 2397 613 2397 1088 \n",
       "Q 2397 1622 2184 2012 \n",
       "Q 1972 2403 1581 2403 \n",
       "Q 1463 2403 1327 2353 \n",
       "Q 1191 2303 925 2138 \n",
       "z\n",
       "\" transform=\"scale(0.015625)\"/>\n",
       "        <path id=\"TimesNewRomanPSMT-30\" d=\"M 231 2094 \n",
       "Q 231 2819 450 3342 \n",
       "Q 669 3866 1031 4122 \n",
       "Q 1313 4325 1613 4325 \n",
       "Q 2100 4325 2488 3828 \n",
       "Q 2972 3213 2972 2159 \n",
       "Q 2972 1422 2759 906 \n",
       "Q 2547 391 2217 158 \n",
       "Q 1888 -75 1581 -75 \n",
       "Q 975 -75 572 641 \n",
       "Q 231 1244 231 2094 \n",
       "z\n",
       "M 844 2016 \n",
       "Q 844 1141 1059 588 \n",
       "Q 1238 122 1591 122 \n",
       "Q 1759 122 1940 273 \n",
       "Q 2122 425 2216 781 \n",
       "Q 2359 1319 2359 2297 \n",
       "Q 2359 3022 2209 3506 \n",
       "Q 2097 3866 1919 4016 \n",
       "Q 1791 4119 1609 4119 \n",
       "Q 1397 4119 1231 3928 \n",
       "Q 1006 3669 925 3112 \n",
       "Q 844 2556 844 2016 \n",
       "z\n",
       "\" transform=\"scale(0.015625)\"/>\n",
       "       </defs>\n",
       "       <use xlink:href=\"#TimesNewRomanPSMT-35\"/>\n",
       "       <use xlink:href=\"#TimesNewRomanPSMT-36\" x=\"50\"/>\n",
       "       <use xlink:href=\"#TimesNewRomanPSMT-30\" x=\"100\"/>\n",
       "       <use xlink:href=\"#TimesNewRomanPSMT-30\" x=\"150\"/>\n",
       "       <use xlink:href=\"#TimesNewRomanPSMT-30\" x=\"200\"/>\n",
       "      </g>\n",
       "     </g>\n",
       "    </g>\n",
       "    <g id=\"xtick_2\">\n",
       "     <g id=\"line2d_2\">\n",
       "      <g>\n",
       "       <use xlink:href=\"#mc63e5621ed\" x=\"243.774732\" y=\"245.6385\" style=\"stroke: #000000; stroke-width: 2\"/>\n",
       "      </g>\n",
       "     </g>\n",
       "     <g id=\"text_2\">\n",
       "      <!-- 57000 -->\n",
       "      <g transform=\"translate(221.274732 271.63725) scale(0.18 -0.18)\">\n",
       "       <defs>\n",
       "        <path id=\"TimesNewRomanPSMT-37\" d=\"M 644 4238 \n",
       "L 2916 4238 \n",
       "L 2916 4119 \n",
       "L 1503 -88 \n",
       "L 1153 -88 \n",
       "L 2419 3728 \n",
       "L 1253 3728 \n",
       "Q 900 3728 750 3644 \n",
       "Q 488 3500 328 3200 \n",
       "L 238 3234 \n",
       "L 644 4238 \n",
       "z\n",
       "\" transform=\"scale(0.015625)\"/>\n",
       "       </defs>\n",
       "       <use xlink:href=\"#TimesNewRomanPSMT-35\"/>\n",
       "       <use xlink:href=\"#TimesNewRomanPSMT-37\" x=\"50\"/>\n",
       "       <use xlink:href=\"#TimesNewRomanPSMT-30\" x=\"100\"/>\n",
       "       <use xlink:href=\"#TimesNewRomanPSMT-30\" x=\"150\"/>\n",
       "       <use xlink:href=\"#TimesNewRomanPSMT-30\" x=\"200\"/>\n",
       "      </g>\n",
       "     </g>\n",
       "    </g>\n",
       "    <g id=\"xtick_3\">\n",
       "     <g id=\"line2d_3\">\n",
       "      <g>\n",
       "       <use xlink:href=\"#mc63e5621ed\" x=\"333.07256\" y=\"245.6385\" style=\"stroke: #000000; stroke-width: 2\"/>\n",
       "      </g>\n",
       "     </g>\n",
       "     <g id=\"text_3\">\n",
       "      <!-- 58000 -->\n",
       "      <g transform=\"translate(310.57256 271.63725) scale(0.18 -0.18)\">\n",
       "       <defs>\n",
       "        <path id=\"TimesNewRomanPSMT-38\" d=\"M 1228 2134 \n",
       "Q 725 2547 579 2797 \n",
       "Q 434 3047 434 3316 \n",
       "Q 434 3728 753 4026 \n",
       "Q 1072 4325 1600 4325 \n",
       "Q 2113 4325 2425 4047 \n",
       "Q 2738 3769 2738 3413 \n",
       "Q 2738 3175 2569 2928 \n",
       "Q 2400 2681 1866 2347 \n",
       "Q 2416 1922 2594 1678 \n",
       "Q 2831 1359 2831 1006 \n",
       "Q 2831 559 2490 242 \n",
       "Q 2150 -75 1597 -75 \n",
       "Q 994 -75 656 303 \n",
       "Q 388 606 388 966 \n",
       "Q 388 1247 577 1523 \n",
       "Q 766 1800 1228 2134 \n",
       "z\n",
       "M 1719 2469 \n",
       "Q 2094 2806 2194 3001 \n",
       "Q 2294 3197 2294 3444 \n",
       "Q 2294 3772 2109 3958 \n",
       "Q 1925 4144 1606 4144 \n",
       "Q 1288 4144 1088 3959 \n",
       "Q 888 3775 888 3528 \n",
       "Q 888 3366 970 3203 \n",
       "Q 1053 3041 1206 2894 \n",
       "L 1719 2469 \n",
       "z\n",
       "M 1375 2016 \n",
       "Q 1116 1797 991 1539 \n",
       "Q 866 1281 866 981 \n",
       "Q 866 578 1086 336 \n",
       "Q 1306 94 1647 94 \n",
       "Q 1984 94 2187 284 \n",
       "Q 2391 475 2391 747 \n",
       "Q 2391 972 2272 1150 \n",
       "Q 2050 1481 1375 2016 \n",
       "z\n",
       "\" transform=\"scale(0.015625)\"/>\n",
       "       </defs>\n",
       "       <use xlink:href=\"#TimesNewRomanPSMT-35\"/>\n",
       "       <use xlink:href=\"#TimesNewRomanPSMT-38\" x=\"50\"/>\n",
       "       <use xlink:href=\"#TimesNewRomanPSMT-30\" x=\"100\"/>\n",
       "       <use xlink:href=\"#TimesNewRomanPSMT-30\" x=\"150\"/>\n",
       "       <use xlink:href=\"#TimesNewRomanPSMT-30\" x=\"200\"/>\n",
       "      </g>\n",
       "     </g>\n",
       "    </g>\n",
       "    <g id=\"xtick_4\">\n",
       "     <g id=\"line2d_4\">\n",
       "      <g>\n",
       "       <use xlink:href=\"#mc63e5621ed\" x=\"422.370387\" y=\"245.6385\" style=\"stroke: #000000; stroke-width: 2\"/>\n",
       "      </g>\n",
       "     </g>\n",
       "     <g id=\"text_4\">\n",
       "      <!-- 59000 -->\n",
       "      <g transform=\"translate(399.870387 271.63725) scale(0.18 -0.18)\">\n",
       "       <defs>\n",
       "        <path id=\"TimesNewRomanPSMT-39\" d=\"M 338 -88 \n",
       "L 338 28 \n",
       "Q 744 34 1094 217 \n",
       "Q 1444 400 1770 856 \n",
       "Q 2097 1313 2225 1859 \n",
       "Q 1734 1544 1338 1544 \n",
       "Q 891 1544 572 1889 \n",
       "Q 253 2234 253 2806 \n",
       "Q 253 3363 572 3797 \n",
       "Q 956 4325 1575 4325 \n",
       "Q 2097 4325 2469 3894 \n",
       "Q 2925 3359 2925 2575 \n",
       "Q 2925 1869 2578 1258 \n",
       "Q 2231 647 1613 244 \n",
       "Q 1109 -88 516 -88 \n",
       "L 338 -88 \n",
       "z\n",
       "M 2275 2091 \n",
       "Q 2331 2497 2331 2741 \n",
       "Q 2331 3044 2228 3395 \n",
       "Q 2125 3747 1936 3934 \n",
       "Q 1747 4122 1506 4122 \n",
       "Q 1228 4122 1018 3872 \n",
       "Q 809 3622 809 3128 \n",
       "Q 809 2469 1088 2097 \n",
       "Q 1291 1828 1588 1828 \n",
       "Q 1731 1828 1928 1897 \n",
       "Q 2125 1966 2275 2091 \n",
       "z\n",
       "\" transform=\"scale(0.015625)\"/>\n",
       "       </defs>\n",
       "       <use xlink:href=\"#TimesNewRomanPSMT-35\"/>\n",
       "       <use xlink:href=\"#TimesNewRomanPSMT-39\" x=\"50\"/>\n",
       "       <use xlink:href=\"#TimesNewRomanPSMT-30\" x=\"100\"/>\n",
       "       <use xlink:href=\"#TimesNewRomanPSMT-30\" x=\"150\"/>\n",
       "       <use xlink:href=\"#TimesNewRomanPSMT-30\" x=\"200\"/>\n",
       "      </g>\n",
       "     </g>\n",
       "    </g>\n",
       "    <g id=\"xtick_5\">\n",
       "     <g id=\"line2d_5\">\n",
       "      <g>\n",
       "       <use xlink:href=\"#mc63e5621ed\" x=\"511.668214\" y=\"245.6385\" style=\"stroke: #000000; stroke-width: 2\"/>\n",
       "      </g>\n",
       "     </g>\n",
       "     <g id=\"text_5\">\n",
       "      <!-- 60000 -->\n",
       "      <g transform=\"translate(489.168214 271.63725) scale(0.18 -0.18)\">\n",
       "       <use xlink:href=\"#TimesNewRomanPSMT-36\"/>\n",
       "       <use xlink:href=\"#TimesNewRomanPSMT-30\" x=\"50\"/>\n",
       "       <use xlink:href=\"#TimesNewRomanPSMT-30\" x=\"100\"/>\n",
       "       <use xlink:href=\"#TimesNewRomanPSMT-30\" x=\"150\"/>\n",
       "       <use xlink:href=\"#TimesNewRomanPSMT-30\" x=\"200\"/>\n",
       "      </g>\n",
       "     </g>\n",
       "    </g>\n",
       "    <g id=\"text_6\">\n",
       "     <!-- MJD -->\n",
       "     <g transform=\"translate(271.277188 291.986312) scale(0.18 -0.18)\">\n",
       "      <defs>\n",
       "       <path id=\"TimesNewRomanPSMT-4d\" d=\"M 2619 0 \n",
       "L 981 3566 \n",
       "L 981 734 \n",
       "Q 981 344 1066 247 \n",
       "Q 1181 116 1431 116 \n",
       "L 1581 116 \n",
       "L 1581 0 \n",
       "L 106 0 \n",
       "L 106 116 \n",
       "L 256 116 \n",
       "Q 525 116 638 278 \n",
       "Q 706 378 706 734 \n",
       "L 706 3503 \n",
       "Q 706 3784 644 3909 \n",
       "Q 600 4000 483 4061 \n",
       "Q 366 4122 106 4122 \n",
       "L 106 4238 \n",
       "L 1306 4238 \n",
       "L 2844 922 \n",
       "L 4356 4238 \n",
       "L 5556 4238 \n",
       "L 5556 4122 \n",
       "L 5409 4122 \n",
       "Q 5138 4122 5025 3959 \n",
       "Q 4956 3859 4956 3503 \n",
       "L 4956 734 \n",
       "Q 4956 344 5044 247 \n",
       "Q 5159 116 5409 116 \n",
       "L 5556 116 \n",
       "L 5556 0 \n",
       "L 3756 0 \n",
       "L 3756 116 \n",
       "L 3906 116 \n",
       "Q 4178 116 4288 278 \n",
       "Q 4356 378 4356 734 \n",
       "L 4356 3566 \n",
       "L 2722 0 \n",
       "L 2619 0 \n",
       "z\n",
       "\" transform=\"scale(0.015625)\"/>\n",
       "       <path id=\"TimesNewRomanPSMT-4a\" d=\"M 638 4122 \n",
       "L 638 4238 \n",
       "L 2453 4238 \n",
       "L 2453 4122 \n",
       "L 2300 4122 \n",
       "Q 2041 4122 1922 3969 \n",
       "Q 1847 3869 1847 3488 \n",
       "L 1847 1416 \n",
       "Q 1847 938 1742 641 \n",
       "Q 1638 344 1381 123 \n",
       "Q 1125 -97 763 -97 \n",
       "Q 469 -97 300 48 \n",
       "Q 131 194 131 381 \n",
       "Q 131 534 209 613 \n",
       "Q 313 709 450 709 \n",
       "Q 550 709 629 643 \n",
       "Q 709 578 831 294 \n",
       "Q 903 125 1016 125 \n",
       "Q 1100 125 1173 228 \n",
       "Q 1247 331 1247 594 \n",
       "L 1247 3488 \n",
       "Q 1247 3809 1206 3913 \n",
       "Q 1175 3991 1075 4047 \n",
       "Q 941 4122 791 4122 \n",
       "L 638 4122 \n",
       "z\n",
       "\" transform=\"scale(0.015625)\"/>\n",
       "       <path id=\"TimesNewRomanPSMT-44\" d=\"M 109 0 \n",
       "L 109 116 \n",
       "L 269 116 \n",
       "Q 538 116 650 288 \n",
       "Q 719 391 719 750 \n",
       "L 719 3488 \n",
       "Q 719 3884 631 3984 \n",
       "Q 509 4122 269 4122 \n",
       "L 109 4122 \n",
       "L 109 4238 \n",
       "L 1834 4238 \n",
       "Q 2784 4238 3279 4022 \n",
       "Q 3775 3806 4076 3303 \n",
       "Q 4378 2800 4378 2141 \n",
       "Q 4378 1256 3841 663 \n",
       "Q 3238 0 2003 0 \n",
       "L 109 0 \n",
       "z\n",
       "M 1319 306 \n",
       "Q 1716 219 1984 219 \n",
       "Q 2709 219 3187 728 \n",
       "Q 3666 1238 3666 2109 \n",
       "Q 3666 2988 3187 3494 \n",
       "Q 2709 4000 1959 4000 \n",
       "Q 1678 4000 1319 3909 \n",
       "L 1319 306 \n",
       "z\n",
       "\" transform=\"scale(0.015625)\"/>\n",
       "      </defs>\n",
       "      <use xlink:href=\"#TimesNewRomanPSMT-4d\"/>\n",
       "      <use xlink:href=\"#TimesNewRomanPSMT-4a\" x=\"88.916016\"/>\n",
       "      <use xlink:href=\"#TimesNewRomanPSMT-44\" x=\"127.832031\"/>\n",
       "     </g>\n",
       "    </g>\n",
       "   </g>\n",
       "   <g id=\"matplotlib.axis_2\">\n",
       "    <g id=\"ytick_1\">\n",
       "     <g id=\"line2d_6\">\n",
       "      <defs>\n",
       "       <path id=\"m22abd37971\" d=\"M 0 0 \n",
       "L -3.5 0 \n",
       "\" style=\"stroke: #000000; stroke-width: 0.8\"/>\n",
       "      </defs>\n",
       "      <g>\n",
       "       <use xlink:href=\"#m22abd37971\" x=\"66.082813\" y=\"236.532593\" style=\"stroke: #000000; stroke-width: 0.8\"/>\n",
       "      </g>\n",
       "     </g>\n",
       "     <g id=\"text_7\">\n",
       "      <!-- 44.0 -->\n",
       "      <g transform=\"translate(27.582813 242.781968) scale(0.18 -0.18)\">\n",
       "       <defs>\n",
       "        <path id=\"TimesNewRomanPSMT-34\" d=\"M 2978 1563 \n",
       "L 2978 1119 \n",
       "L 2409 1119 \n",
       "L 2409 0 \n",
       "L 1894 0 \n",
       "L 1894 1119 \n",
       "L 100 1119 \n",
       "L 100 1519 \n",
       "L 2066 4325 \n",
       "L 2409 4325 \n",
       "L 2409 1563 \n",
       "L 2978 1563 \n",
       "z\n",
       "M 1894 1563 \n",
       "L 1894 3666 \n",
       "L 406 1563 \n",
       "L 1894 1563 \n",
       "z\n",
       "\" transform=\"scale(0.015625)\"/>\n",
       "        <path id=\"TimesNewRomanPSMT-2e\" d=\"M 800 606 \n",
       "Q 947 606 1047 504 \n",
       "Q 1147 403 1147 259 \n",
       "Q 1147 116 1045 14 \n",
       "Q 944 -88 800 -88 \n",
       "Q 656 -88 554 14 \n",
       "Q 453 116 453 259 \n",
       "Q 453 406 554 506 \n",
       "Q 656 606 800 606 \n",
       "z\n",
       "\" transform=\"scale(0.015625)\"/>\n",
       "       </defs>\n",
       "       <use xlink:href=\"#TimesNewRomanPSMT-34\"/>\n",
       "       <use xlink:href=\"#TimesNewRomanPSMT-34\" x=\"50\"/>\n",
       "       <use xlink:href=\"#TimesNewRomanPSMT-2e\" x=\"100\"/>\n",
       "       <use xlink:href=\"#TimesNewRomanPSMT-30\" x=\"125\"/>\n",
       "      </g>\n",
       "     </g>\n",
       "    </g>\n",
       "    <g id=\"ytick_2\">\n",
       "     <g id=\"line2d_7\">\n",
       "      <g>\n",
       "       <use xlink:href=\"#m22abd37971\" x=\"66.082813\" y=\"184.055579\" style=\"stroke: #000000; stroke-width: 0.8\"/>\n",
       "      </g>\n",
       "     </g>\n",
       "     <g id=\"text_8\">\n",
       "      <!-- 44.2 -->\n",
       "      <g transform=\"translate(27.582813 190.304954) scale(0.18 -0.18)\">\n",
       "       <defs>\n",
       "        <path id=\"TimesNewRomanPSMT-32\" d=\"M 2934 816 \n",
       "L 2638 0 \n",
       "L 138 0 \n",
       "L 138 116 \n",
       "Q 1241 1122 1691 1759 \n",
       "Q 2141 2397 2141 2925 \n",
       "Q 2141 3328 1894 3587 \n",
       "Q 1647 3847 1303 3847 \n",
       "Q 991 3847 742 3664 \n",
       "Q 494 3481 375 3128 \n",
       "L 259 3128 \n",
       "Q 338 3706 661 4015 \n",
       "Q 984 4325 1469 4325 \n",
       "Q 1984 4325 2329 3994 \n",
       "Q 2675 3663 2675 3213 \n",
       "Q 2675 2891 2525 2569 \n",
       "Q 2294 2063 1775 1497 \n",
       "Q 997 647 803 472 \n",
       "L 1909 472 \n",
       "Q 2247 472 2383 497 \n",
       "Q 2519 522 2628 598 \n",
       "Q 2738 675 2819 816 \n",
       "L 2934 816 \n",
       "z\n",
       "\" transform=\"scale(0.015625)\"/>\n",
       "       </defs>\n",
       "       <use xlink:href=\"#TimesNewRomanPSMT-34\"/>\n",
       "       <use xlink:href=\"#TimesNewRomanPSMT-34\" x=\"50\"/>\n",
       "       <use xlink:href=\"#TimesNewRomanPSMT-2e\" x=\"100\"/>\n",
       "       <use xlink:href=\"#TimesNewRomanPSMT-32\" x=\"125\"/>\n",
       "      </g>\n",
       "     </g>\n",
       "    </g>\n",
       "    <g id=\"ytick_3\">\n",
       "     <g id=\"line2d_8\">\n",
       "      <g>\n",
       "       <use xlink:href=\"#m22abd37971\" x=\"66.082813\" y=\"131.578566\" style=\"stroke: #000000; stroke-width: 0.8\"/>\n",
       "      </g>\n",
       "     </g>\n",
       "     <g id=\"text_9\">\n",
       "      <!-- 44.4 -->\n",
       "      <g transform=\"translate(27.582813 137.827941) scale(0.18 -0.18)\">\n",
       "       <use xlink:href=\"#TimesNewRomanPSMT-34\"/>\n",
       "       <use xlink:href=\"#TimesNewRomanPSMT-34\" x=\"50\"/>\n",
       "       <use xlink:href=\"#TimesNewRomanPSMT-2e\" x=\"100\"/>\n",
       "       <use xlink:href=\"#TimesNewRomanPSMT-34\" x=\"125\"/>\n",
       "      </g>\n",
       "     </g>\n",
       "    </g>\n",
       "    <g id=\"ytick_4\">\n",
       "     <g id=\"line2d_9\">\n",
       "      <g>\n",
       "       <use xlink:href=\"#m22abd37971\" x=\"66.082813\" y=\"79.101553\" style=\"stroke: #000000; stroke-width: 0.8\"/>\n",
       "      </g>\n",
       "     </g>\n",
       "     <g id=\"text_10\">\n",
       "      <!-- 44.6 -->\n",
       "      <g transform=\"translate(27.582813 85.350928) scale(0.18 -0.18)\">\n",
       "       <use xlink:href=\"#TimesNewRomanPSMT-34\"/>\n",
       "       <use xlink:href=\"#TimesNewRomanPSMT-34\" x=\"50\"/>\n",
       "       <use xlink:href=\"#TimesNewRomanPSMT-2e\" x=\"100\"/>\n",
       "       <use xlink:href=\"#TimesNewRomanPSMT-36\" x=\"125\"/>\n",
       "      </g>\n",
       "     </g>\n",
       "    </g>\n",
       "    <g id=\"text_11\">\n",
       "     <!-- log(L_MIR) -->\n",
       "     <g transform=\"translate(19.69875 181.41225) rotate(-90) scale(0.18 -0.18)\">\n",
       "      <defs>\n",
       "       <path id=\"TimesNewRomanPSMT-6c\" d=\"M 1184 4444 \n",
       "L 1184 647 \n",
       "Q 1184 378 1223 290 \n",
       "Q 1263 203 1344 158 \n",
       "Q 1425 113 1647 113 \n",
       "L 1647 0 \n",
       "L 244 0 \n",
       "L 244 113 \n",
       "Q 441 113 512 153 \n",
       "Q 584 194 625 287 \n",
       "Q 666 381 666 647 \n",
       "L 666 3247 \n",
       "Q 666 3731 644 3842 \n",
       "Q 622 3953 573 3993 \n",
       "Q 525 4034 450 4034 \n",
       "Q 369 4034 244 3984 \n",
       "L 191 4094 \n",
       "L 1044 4444 \n",
       "L 1184 4444 \n",
       "z\n",
       "\" transform=\"scale(0.015625)\"/>\n",
       "       <path id=\"TimesNewRomanPSMT-6f\" d=\"M 1600 2947 \n",
       "Q 2250 2947 2644 2453 \n",
       "Q 2978 2031 2978 1484 \n",
       "Q 2978 1100 2793 706 \n",
       "Q 2609 313 2286 112 \n",
       "Q 1963 -88 1566 -88 \n",
       "Q 919 -88 538 428 \n",
       "Q 216 863 216 1403 \n",
       "Q 216 1797 411 2186 \n",
       "Q 606 2575 925 2761 \n",
       "Q 1244 2947 1600 2947 \n",
       "z\n",
       "M 1503 2744 \n",
       "Q 1338 2744 1170 2645 \n",
       "Q 1003 2547 900 2300 \n",
       "Q 797 2053 797 1666 \n",
       "Q 797 1041 1045 587 \n",
       "Q 1294 134 1700 134 \n",
       "Q 2003 134 2200 384 \n",
       "Q 2397 634 2397 1244 \n",
       "Q 2397 2006 2069 2444 \n",
       "Q 1847 2744 1503 2744 \n",
       "z\n",
       "\" transform=\"scale(0.015625)\"/>\n",
       "       <path id=\"TimesNewRomanPSMT-67\" d=\"M 966 1044 \n",
       "Q 703 1172 562 1401 \n",
       "Q 422 1631 422 1909 \n",
       "Q 422 2334 742 2640 \n",
       "Q 1063 2947 1563 2947 \n",
       "Q 1972 2947 2272 2747 \n",
       "L 2878 2747 \n",
       "Q 3013 2747 3034 2739 \n",
       "Q 3056 2731 3066 2713 \n",
       "Q 3084 2684 3084 2613 \n",
       "Q 3084 2531 3069 2500 \n",
       "Q 3059 2484 3036 2475 \n",
       "Q 3013 2466 2878 2466 \n",
       "L 2506 2466 \n",
       "Q 2681 2241 2681 1891 \n",
       "Q 2681 1491 2375 1206 \n",
       "Q 2069 922 1553 922 \n",
       "Q 1341 922 1119 984 \n",
       "Q 981 866 932 777 \n",
       "Q 884 688 884 625 \n",
       "Q 884 572 936 522 \n",
       "Q 988 472 1138 450 \n",
       "Q 1225 438 1575 428 \n",
       "Q 2219 413 2409 384 \n",
       "Q 2700 344 2873 169 \n",
       "Q 3047 -6 3047 -263 \n",
       "Q 3047 -616 2716 -925 \n",
       "Q 2228 -1381 1444 -1381 \n",
       "Q 841 -1381 425 -1109 \n",
       "Q 191 -953 191 -784 \n",
       "Q 191 -709 225 -634 \n",
       "Q 278 -519 444 -313 \n",
       "Q 466 -284 763 25 \n",
       "Q 600 122 533 198 \n",
       "Q 466 275 466 372 \n",
       "Q 466 481 555 628 \n",
       "Q 644 775 966 1044 \n",
       "z\n",
       "M 1509 2797 \n",
       "Q 1278 2797 1122 2612 \n",
       "Q 966 2428 966 2047 \n",
       "Q 966 1553 1178 1281 \n",
       "Q 1341 1075 1591 1075 \n",
       "Q 1828 1075 1981 1253 \n",
       "Q 2134 1431 2134 1813 \n",
       "Q 2134 2309 1919 2591 \n",
       "Q 1759 2797 1509 2797 \n",
       "z\n",
       "M 934 0 \n",
       "Q 788 -159 713 -296 \n",
       "Q 638 -434 638 -550 \n",
       "Q 638 -700 819 -813 \n",
       "Q 1131 -1006 1722 -1006 \n",
       "Q 2284 -1006 2551 -807 \n",
       "Q 2819 -609 2819 -384 \n",
       "Q 2819 -222 2659 -153 \n",
       "Q 2497 -84 2016 -72 \n",
       "Q 1313 -53 934 0 \n",
       "z\n",
       "\" transform=\"scale(0.015625)\"/>\n",
       "       <path id=\"TimesNewRomanPSMT-28\" d=\"M 1988 -1253 \n",
       "L 1988 -1369 \n",
       "Q 1516 -1131 1200 -813 \n",
       "Q 750 -359 506 256 \n",
       "Q 263 872 263 1534 \n",
       "Q 263 2503 741 3301 \n",
       "Q 1219 4100 1988 4444 \n",
       "L 1988 4313 \n",
       "Q 1603 4100 1356 3731 \n",
       "Q 1109 3363 987 2797 \n",
       "Q 866 2231 866 1616 \n",
       "Q 866 947 969 400 \n",
       "Q 1050 -31 1165 -292 \n",
       "Q 1281 -553 1476 -793 \n",
       "Q 1672 -1034 1988 -1253 \n",
       "z\n",
       "\" transform=\"scale(0.015625)\"/>\n",
       "       <path id=\"TimesNewRomanPSMT-4c\" d=\"M 3669 1172 \n",
       "L 3772 1150 \n",
       "L 3409 0 \n",
       "L 128 0 \n",
       "L 128 116 \n",
       "L 288 116 \n",
       "Q 556 116 672 291 \n",
       "Q 738 391 738 753 \n",
       "L 738 3488 \n",
       "Q 738 3884 650 3984 \n",
       "Q 528 4122 288 4122 \n",
       "L 128 4122 \n",
       "L 128 4238 \n",
       "L 2047 4238 \n",
       "L 2047 4122 \n",
       "Q 1709 4125 1573 4059 \n",
       "Q 1438 3994 1388 3894 \n",
       "Q 1338 3794 1338 3416 \n",
       "L 1338 753 \n",
       "Q 1338 494 1388 397 \n",
       "Q 1425 331 1503 300 \n",
       "Q 1581 269 1991 269 \n",
       "L 2300 269 \n",
       "Q 2788 269 2984 341 \n",
       "Q 3181 413 3343 595 \n",
       "Q 3506 778 3669 1172 \n",
       "z\n",
       "\" transform=\"scale(0.015625)\"/>\n",
       "       <path id=\"TimesNewRomanPSMT-5f\" d=\"M 3256 -1381 \n",
       "L -53 -1381 \n",
       "L -53 -1119 \n",
       "L 3256 -1119 \n",
       "L 3256 -1381 \n",
       "z\n",
       "\" transform=\"scale(0.015625)\"/>\n",
       "       <path id=\"TimesNewRomanPSMT-49\" d=\"M 1975 116 \n",
       "L 1975 0 \n",
       "L 159 0 \n",
       "L 159 116 \n",
       "L 309 116 \n",
       "Q 572 116 691 269 \n",
       "Q 766 369 766 750 \n",
       "L 766 3488 \n",
       "Q 766 3809 725 3913 \n",
       "Q 694 3991 597 4047 \n",
       "Q 459 4122 309 4122 \n",
       "L 159 4122 \n",
       "L 159 4238 \n",
       "L 1975 4238 \n",
       "L 1975 4122 \n",
       "L 1822 4122 \n",
       "Q 1563 4122 1444 3969 \n",
       "Q 1366 3869 1366 3488 \n",
       "L 1366 750 \n",
       "Q 1366 428 1406 325 \n",
       "Q 1438 247 1538 191 \n",
       "Q 1672 116 1822 116 \n",
       "L 1975 116 \n",
       "z\n",
       "\" transform=\"scale(0.015625)\"/>\n",
       "       <path id=\"TimesNewRomanPSMT-52\" d=\"M 4325 0 \n",
       "L 3194 0 \n",
       "L 1759 1981 \n",
       "Q 1600 1975 1500 1975 \n",
       "Q 1459 1975 1412 1976 \n",
       "Q 1366 1978 1316 1981 \n",
       "L 1316 750 \n",
       "Q 1316 350 1403 253 \n",
       "Q 1522 116 1759 116 \n",
       "L 1925 116 \n",
       "L 1925 0 \n",
       "L 109 0 \n",
       "L 109 116 \n",
       "L 269 116 \n",
       "Q 538 116 653 291 \n",
       "Q 719 388 719 750 \n",
       "L 719 3488 \n",
       "Q 719 3888 631 3984 \n",
       "Q 509 4122 269 4122 \n",
       "L 109 4122 \n",
       "L 109 4238 \n",
       "L 1653 4238 \n",
       "Q 2328 4238 2648 4139 \n",
       "Q 2969 4041 3192 3777 \n",
       "Q 3416 3513 3416 3147 \n",
       "Q 3416 2756 3161 2468 \n",
       "Q 2906 2181 2372 2063 \n",
       "L 3247 847 \n",
       "Q 3547 428 3762 290 \n",
       "Q 3978 153 4325 116 \n",
       "L 4325 0 \n",
       "z\n",
       "M 1316 2178 \n",
       "Q 1375 2178 1419 2176 \n",
       "Q 1463 2175 1491 2175 \n",
       "Q 2097 2175 2405 2437 \n",
       "Q 2713 2700 2713 3106 \n",
       "Q 2713 3503 2464 3751 \n",
       "Q 2216 4000 1806 4000 \n",
       "Q 1625 4000 1316 3941 \n",
       "L 1316 2178 \n",
       "z\n",
       "\" transform=\"scale(0.015625)\"/>\n",
       "       <path id=\"TimesNewRomanPSMT-29\" d=\"M 144 4313 \n",
       "L 144 4444 \n",
       "Q 619 4209 934 3891 \n",
       "Q 1381 3434 1625 2820 \n",
       "Q 1869 2206 1869 1541 \n",
       "Q 1869 572 1392 -226 \n",
       "Q 916 -1025 144 -1369 \n",
       "L 144 -1253 \n",
       "Q 528 -1038 776 -670 \n",
       "Q 1025 -303 1145 264 \n",
       "Q 1266 831 1266 1447 \n",
       "Q 1266 2113 1163 2663 \n",
       "Q 1084 3094 967 3353 \n",
       "Q 850 3613 656 3853 \n",
       "Q 463 4094 144 4313 \n",
       "z\n",
       "\" transform=\"scale(0.015625)\"/>\n",
       "      </defs>\n",
       "      <use xlink:href=\"#TimesNewRomanPSMT-6c\"/>\n",
       "      <use xlink:href=\"#TimesNewRomanPSMT-6f\" x=\"27.783203\"/>\n",
       "      <use xlink:href=\"#TimesNewRomanPSMT-67\" x=\"77.783203\"/>\n",
       "      <use xlink:href=\"#TimesNewRomanPSMT-28\" x=\"127.783203\"/>\n",
       "      <use xlink:href=\"#TimesNewRomanPSMT-4c\" x=\"161.083984\"/>\n",
       "      <use xlink:href=\"#TimesNewRomanPSMT-5f\" x=\"222.167969\"/>\n",
       "      <use xlink:href=\"#TimesNewRomanPSMT-4d\" x=\"272.167969\"/>\n",
       "      <use xlink:href=\"#TimesNewRomanPSMT-49\" x=\"361.083984\"/>\n",
       "      <use xlink:href=\"#TimesNewRomanPSMT-52\" x=\"394.384766\"/>\n",
       "      <use xlink:href=\"#TimesNewRomanPSMT-29\" x=\"461.083984\"/>\n",
       "     </g>\n",
       "    </g>\n",
       "   </g>\n",
       "   <g id=\"LineCollection_1\">\n",
       "    <path d=\"M 86.373722 45.94396 \n",
       "L 86.373722 38.082136 \n",
       "\" clip-path=\"url(#p00516d9883)\" style=\"fill: none; stroke: #1f77b4; stroke-width: 1.5\"/>\n",
       "    <path d=\"M 102.335768 53.728404 \n",
       "L 102.335768 48.566447 \n",
       "\" clip-path=\"url(#p00516d9883)\" style=\"fill: none; stroke: #1f77b4; stroke-width: 1.5\"/>\n",
       "    <path d=\"M 216.96668 88.598395 \n",
       "L 216.96668 62.986757 \n",
       "\" clip-path=\"url(#p00516d9883)\" style=\"fill: none; stroke: #1f77b4; stroke-width: 1.5\"/>\n",
       "    <path d=\"M 233.137174 121.455638 \n",
       "L 233.137174 111.555228 \n",
       "\" clip-path=\"url(#p00516d9883)\" style=\"fill: none; stroke: #1f77b4; stroke-width: 1.5\"/>\n",
       "    <path d=\"M 249.312299 121.675361 \n",
       "L 249.312299 114.890574 \n",
       "\" clip-path=\"url(#p00516d9883)\" style=\"fill: none; stroke: #1f77b4; stroke-width: 1.5\"/>\n",
       "    <path d=\"M 265.179159 134.748913 \n",
       "L 265.179159 125.858196 \n",
       "\" clip-path=\"url(#p00516d9883)\" style=\"fill: none; stroke: #1f77b4; stroke-width: 1.5\"/>\n",
       "    <path d=\"M 282.06315 128.461508 \n",
       "L 282.06315 118.107676 \n",
       "\" clip-path=\"url(#p00516d9883)\" style=\"fill: none; stroke: #1f77b4; stroke-width: 1.5\"/>\n",
       "    <path d=\"M 297.222271 135.816433 \n",
       "L 297.222271 125.780251 \n",
       "\" clip-path=\"url(#p00516d9883)\" style=\"fill: none; stroke: #1f77b4; stroke-width: 1.5\"/>\n",
       "    <path d=\"M 314.586884 101.055034 \n",
       "L 314.586884 65.983693 \n",
       "\" clip-path=\"url(#p00516d9883)\" style=\"fill: none; stroke: #1f77b4; stroke-width: 1.5\"/>\n",
       "    <path d=\"M 329.474239 149.34742 \n",
       "L 329.474239 141.744871 \n",
       "\" clip-path=\"url(#p00516d9883)\" style=\"fill: none; stroke: #1f77b4; stroke-width: 1.5\"/>\n",
       "    <path d=\"M 347.372033 141.162305 \n",
       "L 347.372033 127.479667 \n",
       "\" clip-path=\"url(#p00516d9883)\" style=\"fill: none; stroke: #1f77b4; stroke-width: 1.5\"/>\n",
       "    <path d=\"M 361.713631 146.015988 \n",
       "L 361.713631 139.308345 \n",
       "\" clip-path=\"url(#p00516d9883)\" style=\"fill: none; stroke: #1f77b4; stroke-width: 1.5\"/>\n",
       "    <path d=\"M 379.891279 143.534304 \n",
       "L 379.891279 129.25901 \n",
       "\" clip-path=\"url(#p00516d9883)\" style=\"fill: none; stroke: #1f77b4; stroke-width: 1.5\"/>\n",
       "    <path d=\"M 394.387172 156.584498 \n",
       "L 394.387172 146.038808 \n",
       "\" clip-path=\"url(#p00516d9883)\" style=\"fill: none; stroke: #1f77b4; stroke-width: 1.5\"/>\n",
       "    <path d=\"M 412.499447 112.866386 \n",
       "L 412.499447 73.85265 \n",
       "\" clip-path=\"url(#p00516d9883)\" style=\"fill: none; stroke: #1f77b4; stroke-width: 1.5\"/>\n",
       "    <path d=\"M 426.992179 173.337233 \n",
       "L 426.992179 159.987942 \n",
       "\" clip-path=\"url(#p00516d9883)\" style=\"fill: none; stroke: #1f77b4; stroke-width: 1.5\"/>\n",
       "    <path d=\"M 445.185052 130.648338 \n",
       "L 445.185052 104.465708 \n",
       "\" clip-path=\"url(#p00516d9883)\" style=\"fill: none; stroke: #1f77b4; stroke-width: 1.5\"/>\n",
       "    <path d=\"M 459.684013 153.899978 \n",
       "L 459.684013 136.230628 \n",
       "\" clip-path=\"url(#p00516d9883)\" style=\"fill: none; stroke: #1f77b4; stroke-width: 1.5\"/>\n",
       "    <path d=\"M 477.724262 158.399685 \n",
       "L 477.724262 142.021795 \n",
       "\" clip-path=\"url(#p00516d9883)\" style=\"fill: none; stroke: #1f77b4; stroke-width: 1.5\"/>\n",
       "    <path d=\"M 492.191903 140.863047 \n",
       "L 492.191903 124.278598 \n",
       "\" clip-path=\"url(#p00516d9883)\" style=\"fill: none; stroke: #1f77b4; stroke-width: 1.5\"/>\n",
       "   </g>\n",
       "   <g id=\"LineCollection_2\">\n",
       "    <path d=\"M 86.373722 48.324413 \n",
       "L 86.373722 42.102141 \n",
       "\" clip-path=\"url(#p00516d9883)\" style=\"fill: none; stroke: #ff7f0e; stroke-width: 1.5\"/>\n",
       "    <path d=\"M 102.335768 53.75037 \n",
       "L 102.335768 50.356337 \n",
       "\" clip-path=\"url(#p00516d9883)\" style=\"fill: none; stroke: #ff7f0e; stroke-width: 1.5\"/>\n",
       "    <path d=\"M 216.96668 93.887509 \n",
       "L 216.96668 76.570304 \n",
       "\" clip-path=\"url(#p00516d9883)\" style=\"fill: none; stroke: #ff7f0e; stroke-width: 1.5\"/>\n",
       "    <path d=\"M 233.137174 121.469769 \n",
       "L 233.137174 111.017758 \n",
       "\" clip-path=\"url(#p00516d9883)\" style=\"fill: none; stroke: #ff7f0e; stroke-width: 1.5\"/>\n",
       "    <path d=\"M 249.312299 147.629291 \n",
       "L 249.312299 138.660624 \n",
       "\" clip-path=\"url(#p00516d9883)\" style=\"fill: none; stroke: #ff7f0e; stroke-width: 1.5\"/>\n",
       "    <path d=\"M 265.179159 152.517074 \n",
       "L 265.179159 140.608363 \n",
       "\" clip-path=\"url(#p00516d9883)\" style=\"fill: none; stroke: #ff7f0e; stroke-width: 1.5\"/>\n",
       "    <path d=\"M 282.06315 156.71822 \n",
       "L 282.06315 142.36717 \n",
       "\" clip-path=\"url(#p00516d9883)\" style=\"fill: none; stroke: #ff7f0e; stroke-width: 1.5\"/>\n",
       "    <path d=\"M 297.222271 164.603831 \n",
       "L 297.222271 150.788449 \n",
       "\" clip-path=\"url(#p00516d9883)\" style=\"fill: none; stroke: #ff7f0e; stroke-width: 1.5\"/>\n",
       "    <path d=\"M 314.586884 155.788221 \n",
       "L 314.586884 129.797946 \n",
       "\" clip-path=\"url(#p00516d9883)\" style=\"fill: none; stroke: #ff7f0e; stroke-width: 1.5\"/>\n",
       "    <path d=\"M 329.474239 185.058798 \n",
       "L 329.474239 173.00406 \n",
       "\" clip-path=\"url(#p00516d9883)\" style=\"fill: none; stroke: #ff7f0e; stroke-width: 1.5\"/>\n",
       "    <path d=\"M 347.372033 174.21037 \n",
       "L 347.372033 159.702881 \n",
       "\" clip-path=\"url(#p00516d9883)\" style=\"fill: none; stroke: #ff7f0e; stroke-width: 1.5\"/>\n",
       "    <path d=\"M 361.713631 195.151244 \n",
       "L 361.713631 184.318163 \n",
       "\" clip-path=\"url(#p00516d9883)\" style=\"fill: none; stroke: #ff7f0e; stroke-width: 1.5\"/>\n",
       "    <path d=\"M 379.891279 188.357237 \n",
       "L 379.891279 173.682724 \n",
       "\" clip-path=\"url(#p00516d9883)\" style=\"fill: none; stroke: #ff7f0e; stroke-width: 1.5\"/>\n",
       "    <path d=\"M 394.387172 190.939398 \n",
       "L 394.387172 174.590129 \n",
       "\" clip-path=\"url(#p00516d9883)\" style=\"fill: none; stroke: #ff7f0e; stroke-width: 1.5\"/>\n",
       "    <path d=\"M 412.499447 172.779838 \n",
       "L 412.499447 148.526057 \n",
       "\" clip-path=\"url(#p00516d9883)\" style=\"fill: none; stroke: #ff7f0e; stroke-width: 1.5\"/>\n",
       "    <path d=\"M 426.992179 175.178793 \n",
       "L 426.992179 142.829884 \n",
       "\" clip-path=\"url(#p00516d9883)\" style=\"fill: none; stroke: #ff7f0e; stroke-width: 1.5\"/>\n",
       "    <path d=\"M 445.185052 183.492102 \n",
       "L 445.185052 165.798242 \n",
       "\" clip-path=\"url(#p00516d9883)\" style=\"fill: none; stroke: #ff7f0e; stroke-width: 1.5\"/>\n",
       "    <path d=\"M 459.684013 190.477125 \n",
       "L 459.684013 171.69228 \n",
       "\" clip-path=\"url(#p00516d9883)\" style=\"fill: none; stroke: #ff7f0e; stroke-width: 1.5\"/>\n",
       "    <path d=\"M 477.724262 204.316623 \n",
       "L 477.724262 179.802203 \n",
       "\" clip-path=\"url(#p00516d9883)\" style=\"fill: none; stroke: #ff7f0e; stroke-width: 1.5\"/>\n",
       "    <path d=\"M 492.191903 235.754864 \n",
       "L 492.191903 217.310221 \n",
       "\" clip-path=\"url(#p00516d9883)\" style=\"fill: none; stroke: #ff7f0e; stroke-width: 1.5\"/>\n",
       "   </g>\n",
       "   <g id=\"line2d_10\">\n",
       "    <path d=\"M 86.373722 42.013048 \n",
       "L 102.335768 51.147425 \n",
       "L 216.96668 75.792576 \n",
       "L 233.137174 116.505433 \n",
       "L 249.312299 118.282968 \n",
       "L 265.179159 130.303555 \n",
       "L 282.06315 123.284592 \n",
       "L 297.222271 130.798342 \n",
       "L 314.586884 83.519363 \n",
       "L 329.474239 145.546146 \n",
       "L 347.372033 134.320986 \n",
       "L 361.713631 142.662166 \n",
       "L 379.891279 136.396657 \n",
       "L 394.387172 151.311653 \n",
       "L 412.499447 93.359518 \n",
       "L 426.992179 166.662587 \n",
       "L 445.185052 117.557023 \n",
       "L 459.684013 145.065303 \n",
       "L 477.724262 150.21074 \n",
       "L 492.191903 132.570823 \n",
       "\" clip-path=\"url(#p00516d9883)\" style=\"fill: none; stroke-dasharray: 1.5,2.475; stroke-dashoffset: 0; stroke: #1f77b4; stroke-width: 1.5\"/>\n",
       "    <defs>\n",
       "     <path id=\"m055abd74b3\" d=\"M 0 -3 \n",
       "L -0.673542 -0.927051 \n",
       "L -2.85317 -0.927051 \n",
       "L -1.089814 0.354102 \n",
       "L -1.763356 2.427051 \n",
       "L -0 1.145898 \n",
       "L 1.763356 2.427051 \n",
       "L 1.089814 0.354102 \n",
       "L 2.85317 -0.927051 \n",
       "L 0.673542 -0.927051 \n",
       "z\n",
       "\" style=\"stroke: #1f77b4; stroke-linejoin: bevel\"/>\n",
       "    </defs>\n",
       "    <g clip-path=\"url(#p00516d9883)\">\n",
       "     <use xlink:href=\"#m055abd74b3\" x=\"86.373722\" y=\"42.013048\" style=\"fill: #1f77b4; stroke: #1f77b4; stroke-linejoin: bevel\"/>\n",
       "     <use xlink:href=\"#m055abd74b3\" x=\"102.335768\" y=\"51.147425\" style=\"fill: #1f77b4; stroke: #1f77b4; stroke-linejoin: bevel\"/>\n",
       "     <use xlink:href=\"#m055abd74b3\" x=\"216.96668\" y=\"75.792576\" style=\"fill: #1f77b4; stroke: #1f77b4; stroke-linejoin: bevel\"/>\n",
       "     <use xlink:href=\"#m055abd74b3\" x=\"233.137174\" y=\"116.505433\" style=\"fill: #1f77b4; stroke: #1f77b4; stroke-linejoin: bevel\"/>\n",
       "     <use xlink:href=\"#m055abd74b3\" x=\"249.312299\" y=\"118.282968\" style=\"fill: #1f77b4; stroke: #1f77b4; stroke-linejoin: bevel\"/>\n",
       "     <use xlink:href=\"#m055abd74b3\" x=\"265.179159\" y=\"130.303555\" style=\"fill: #1f77b4; stroke: #1f77b4; stroke-linejoin: bevel\"/>\n",
       "     <use xlink:href=\"#m055abd74b3\" x=\"282.06315\" y=\"123.284592\" style=\"fill: #1f77b4; stroke: #1f77b4; stroke-linejoin: bevel\"/>\n",
       "     <use xlink:href=\"#m055abd74b3\" x=\"297.222271\" y=\"130.798342\" style=\"fill: #1f77b4; stroke: #1f77b4; stroke-linejoin: bevel\"/>\n",
       "     <use xlink:href=\"#m055abd74b3\" x=\"314.586884\" y=\"83.519363\" style=\"fill: #1f77b4; stroke: #1f77b4; stroke-linejoin: bevel\"/>\n",
       "     <use xlink:href=\"#m055abd74b3\" x=\"329.474239\" y=\"145.546146\" style=\"fill: #1f77b4; stroke: #1f77b4; stroke-linejoin: bevel\"/>\n",
       "     <use xlink:href=\"#m055abd74b3\" x=\"347.372033\" y=\"134.320986\" style=\"fill: #1f77b4; stroke: #1f77b4; stroke-linejoin: bevel\"/>\n",
       "     <use xlink:href=\"#m055abd74b3\" x=\"361.713631\" y=\"142.662166\" style=\"fill: #1f77b4; stroke: #1f77b4; stroke-linejoin: bevel\"/>\n",
       "     <use xlink:href=\"#m055abd74b3\" x=\"379.891279\" y=\"136.396657\" style=\"fill: #1f77b4; stroke: #1f77b4; stroke-linejoin: bevel\"/>\n",
       "     <use xlink:href=\"#m055abd74b3\" x=\"394.387172\" y=\"151.311653\" style=\"fill: #1f77b4; stroke: #1f77b4; stroke-linejoin: bevel\"/>\n",
       "     <use xlink:href=\"#m055abd74b3\" x=\"412.499447\" y=\"93.359518\" style=\"fill: #1f77b4; stroke: #1f77b4; stroke-linejoin: bevel\"/>\n",
       "     <use xlink:href=\"#m055abd74b3\" x=\"426.992179\" y=\"166.662587\" style=\"fill: #1f77b4; stroke: #1f77b4; stroke-linejoin: bevel\"/>\n",
       "     <use xlink:href=\"#m055abd74b3\" x=\"445.185052\" y=\"117.557023\" style=\"fill: #1f77b4; stroke: #1f77b4; stroke-linejoin: bevel\"/>\n",
       "     <use xlink:href=\"#m055abd74b3\" x=\"459.684013\" y=\"145.065303\" style=\"fill: #1f77b4; stroke: #1f77b4; stroke-linejoin: bevel\"/>\n",
       "     <use xlink:href=\"#m055abd74b3\" x=\"477.724262\" y=\"150.21074\" style=\"fill: #1f77b4; stroke: #1f77b4; stroke-linejoin: bevel\"/>\n",
       "     <use xlink:href=\"#m055abd74b3\" x=\"492.191903\" y=\"132.570823\" style=\"fill: #1f77b4; stroke: #1f77b4; stroke-linejoin: bevel\"/>\n",
       "    </g>\n",
       "   </g>\n",
       "   <g id=\"line2d_11\">\n",
       "    <path d=\"M 86.373722 45.213277 \n",
       "L 102.335768 52.053353 \n",
       "L 216.96668 85.228907 \n",
       "L 233.137174 116.243763 \n",
       "L 249.312299 143.144957 \n",
       "L 265.179159 146.562718 \n",
       "L 282.06315 149.542695 \n",
       "L 297.222271 157.69614 \n",
       "L 314.586884 142.793084 \n",
       "L 329.474239 179.031429 \n",
       "L 347.372033 166.956625 \n",
       "L 361.713631 189.734703 \n",
       "L 379.891279 181.019981 \n",
       "L 394.387172 182.764764 \n",
       "L 412.499447 160.652948 \n",
       "L 426.992179 159.004338 \n",
       "L 445.185052 174.645172 \n",
       "L 459.684013 181.084702 \n",
       "L 477.724262 192.059413 \n",
       "L 492.191903 226.532542 \n",
       "\" clip-path=\"url(#p00516d9883)\" style=\"fill: none; stroke-dasharray: 1.5,2.475; stroke-dashoffset: 0; stroke: #ff7f0e; stroke-width: 1.5\"/>\n",
       "    <defs>\n",
       "     <path id=\"m96aaccecd9\" d=\"M 0 -3 \n",
       "L -0.673542 -0.927051 \n",
       "L -2.85317 -0.927051 \n",
       "L -1.089814 0.354102 \n",
       "L -1.763356 2.427051 \n",
       "L -0 1.145898 \n",
       "L 1.763356 2.427051 \n",
       "L 1.089814 0.354102 \n",
       "L 2.85317 -0.927051 \n",
       "L 0.673542 -0.927051 \n",
       "z\n",
       "\" style=\"stroke: #ff7f0e; stroke-linejoin: bevel\"/>\n",
       "    </defs>\n",
       "    <g clip-path=\"url(#p00516d9883)\">\n",
       "     <use xlink:href=\"#m96aaccecd9\" x=\"86.373722\" y=\"45.213277\" style=\"fill: #ff7f0e; stroke: #ff7f0e; stroke-linejoin: bevel\"/>\n",
       "     <use xlink:href=\"#m96aaccecd9\" x=\"102.335768\" y=\"52.053353\" style=\"fill: #ff7f0e; stroke: #ff7f0e; stroke-linejoin: bevel\"/>\n",
       "     <use xlink:href=\"#m96aaccecd9\" x=\"216.96668\" y=\"85.228907\" style=\"fill: #ff7f0e; stroke: #ff7f0e; stroke-linejoin: bevel\"/>\n",
       "     <use xlink:href=\"#m96aaccecd9\" x=\"233.137174\" y=\"116.243763\" style=\"fill: #ff7f0e; stroke: #ff7f0e; stroke-linejoin: bevel\"/>\n",
       "     <use xlink:href=\"#m96aaccecd9\" x=\"249.312299\" y=\"143.144957\" style=\"fill: #ff7f0e; stroke: #ff7f0e; stroke-linejoin: bevel\"/>\n",
       "     <use xlink:href=\"#m96aaccecd9\" x=\"265.179159\" y=\"146.562718\" style=\"fill: #ff7f0e; stroke: #ff7f0e; stroke-linejoin: bevel\"/>\n",
       "     <use xlink:href=\"#m96aaccecd9\" x=\"282.06315\" y=\"149.542695\" style=\"fill: #ff7f0e; stroke: #ff7f0e; stroke-linejoin: bevel\"/>\n",
       "     <use xlink:href=\"#m96aaccecd9\" x=\"297.222271\" y=\"157.69614\" style=\"fill: #ff7f0e; stroke: #ff7f0e; stroke-linejoin: bevel\"/>\n",
       "     <use xlink:href=\"#m96aaccecd9\" x=\"314.586884\" y=\"142.793084\" style=\"fill: #ff7f0e; stroke: #ff7f0e; stroke-linejoin: bevel\"/>\n",
       "     <use xlink:href=\"#m96aaccecd9\" x=\"329.474239\" y=\"179.031429\" style=\"fill: #ff7f0e; stroke: #ff7f0e; stroke-linejoin: bevel\"/>\n",
       "     <use xlink:href=\"#m96aaccecd9\" x=\"347.372033\" y=\"166.956625\" style=\"fill: #ff7f0e; stroke: #ff7f0e; stroke-linejoin: bevel\"/>\n",
       "     <use xlink:href=\"#m96aaccecd9\" x=\"361.713631\" y=\"189.734703\" style=\"fill: #ff7f0e; stroke: #ff7f0e; stroke-linejoin: bevel\"/>\n",
       "     <use xlink:href=\"#m96aaccecd9\" x=\"379.891279\" y=\"181.019981\" style=\"fill: #ff7f0e; stroke: #ff7f0e; stroke-linejoin: bevel\"/>\n",
       "     <use xlink:href=\"#m96aaccecd9\" x=\"394.387172\" y=\"182.764764\" style=\"fill: #ff7f0e; stroke: #ff7f0e; stroke-linejoin: bevel\"/>\n",
       "     <use xlink:href=\"#m96aaccecd9\" x=\"412.499447\" y=\"160.652948\" style=\"fill: #ff7f0e; stroke: #ff7f0e; stroke-linejoin: bevel\"/>\n",
       "     <use xlink:href=\"#m96aaccecd9\" x=\"426.992179\" y=\"159.004338\" style=\"fill: #ff7f0e; stroke: #ff7f0e; stroke-linejoin: bevel\"/>\n",
       "     <use xlink:href=\"#m96aaccecd9\" x=\"445.185052\" y=\"174.645172\" style=\"fill: #ff7f0e; stroke: #ff7f0e; stroke-linejoin: bevel\"/>\n",
       "     <use xlink:href=\"#m96aaccecd9\" x=\"459.684013\" y=\"181.084702\" style=\"fill: #ff7f0e; stroke: #ff7f0e; stroke-linejoin: bevel\"/>\n",
       "     <use xlink:href=\"#m96aaccecd9\" x=\"477.724262\" y=\"192.059413\" style=\"fill: #ff7f0e; stroke: #ff7f0e; stroke-linejoin: bevel\"/>\n",
       "     <use xlink:href=\"#m96aaccecd9\" x=\"492.191903\" y=\"226.532542\" style=\"fill: #ff7f0e; stroke: #ff7f0e; stroke-linejoin: bevel\"/>\n",
       "    </g>\n",
       "   </g>\n",
       "   <g id=\"patch_3\">\n",
       "    <path d=\"M 66.082813 245.6385 \n",
       "L 66.082813 28.1985 \n",
       "\" style=\"fill: none; stroke: #000000; stroke-width: 2; stroke-linejoin: miter; stroke-linecap: square\"/>\n",
       "   </g>\n",
       "   <g id=\"patch_4\">\n",
       "    <path d=\"M 512.482813 245.6385 \n",
       "L 512.482813 28.1985 \n",
       "\" style=\"fill: none; stroke: #000000; stroke-width: 2; stroke-linejoin: miter; stroke-linecap: square\"/>\n",
       "   </g>\n",
       "   <g id=\"patch_5\">\n",
       "    <path d=\"M 66.082812 245.6385 \n",
       "L 512.482813 245.6385 \n",
       "\" style=\"fill: none; stroke: #000000; stroke-width: 2; stroke-linejoin: miter; stroke-linecap: square\"/>\n",
       "   </g>\n",
       "   <g id=\"patch_6\">\n",
       "    <path d=\"M 66.082812 28.1985 \n",
       "L 512.482813 28.1985 \n",
       "\" style=\"fill: none; stroke: #000000; stroke-width: 2; stroke-linejoin: miter; stroke-linecap: square\"/>\n",
       "   </g>\n",
       "   <g id=\"text_12\">\n",
       "    <!-- SDSSJ155426.13+200527.7 z=0.5215 -->\n",
       "    <g transform=\"translate(123.487625 22.1985) scale(0.216 -0.216)\">\n",
       "     <defs>\n",
       "      <path id=\"TimesNewRomanPSMT-53\" d=\"M 2934 4334 \n",
       "L 2934 2869 \n",
       "L 2819 2869 \n",
       "Q 2763 3291 2617 3541 \n",
       "Q 2472 3791 2203 3937 \n",
       "Q 1934 4084 1647 4084 \n",
       "Q 1322 4084 1109 3886 \n",
       "Q 897 3688 897 3434 \n",
       "Q 897 3241 1031 3081 \n",
       "Q 1225 2847 1953 2456 \n",
       "Q 2547 2138 2764 1967 \n",
       "Q 2981 1797 3098 1565 \n",
       "Q 3216 1334 3216 1081 \n",
       "Q 3216 600 2842 251 \n",
       "Q 2469 -97 1881 -97 \n",
       "Q 1697 -97 1534 -69 \n",
       "Q 1438 -53 1133 45 \n",
       "Q 828 144 747 144 \n",
       "Q 669 144 623 97 \n",
       "Q 578 50 556 -97 \n",
       "L 441 -97 \n",
       "L 441 1356 \n",
       "L 556 1356 \n",
       "Q 638 900 775 673 \n",
       "Q 913 447 1195 297 \n",
       "Q 1478 147 1816 147 \n",
       "Q 2206 147 2432 353 \n",
       "Q 2659 559 2659 841 \n",
       "Q 2659 997 2573 1156 \n",
       "Q 2488 1316 2306 1453 \n",
       "Q 2184 1547 1640 1851 \n",
       "Q 1097 2156 867 2337 \n",
       "Q 638 2519 519 2737 \n",
       "Q 400 2956 400 3219 \n",
       "Q 400 3675 750 4004 \n",
       "Q 1100 4334 1641 4334 \n",
       "Q 1978 4334 2356 4169 \n",
       "Q 2531 4091 2603 4091 \n",
       "Q 2684 4091 2736 4139 \n",
       "Q 2788 4188 2819 4334 \n",
       "L 2934 4334 \n",
       "z\n",
       "\" transform=\"scale(0.015625)\"/>\n",
       "      <path id=\"TimesNewRomanPSMT-31\" d=\"M 750 3822 \n",
       "L 1781 4325 \n",
       "L 1884 4325 \n",
       "L 1884 747 \n",
       "Q 1884 391 1914 303 \n",
       "Q 1944 216 2037 169 \n",
       "Q 2131 122 2419 116 \n",
       "L 2419 0 \n",
       "L 825 0 \n",
       "L 825 116 \n",
       "Q 1125 122 1212 167 \n",
       "Q 1300 213 1334 289 \n",
       "Q 1369 366 1369 747 \n",
       "L 1369 3034 \n",
       "Q 1369 3497 1338 3628 \n",
       "Q 1316 3728 1258 3775 \n",
       "Q 1200 3822 1119 3822 \n",
       "Q 1003 3822 797 3725 \n",
       "L 750 3822 \n",
       "z\n",
       "\" transform=\"scale(0.015625)\"/>\n",
       "      <path id=\"TimesNewRomanPSMT-33\" d=\"M 325 3431 \n",
       "Q 506 3859 782 4092 \n",
       "Q 1059 4325 1472 4325 \n",
       "Q 1981 4325 2253 3994 \n",
       "Q 2459 3747 2459 3466 \n",
       "Q 2459 3003 1878 2509 \n",
       "Q 2269 2356 2469 2072 \n",
       "Q 2669 1788 2669 1403 \n",
       "Q 2669 853 2319 450 \n",
       "Q 1863 -75 997 -75 \n",
       "Q 569 -75 414 31 \n",
       "Q 259 138 259 259 \n",
       "Q 259 350 332 419 \n",
       "Q 406 488 509 488 \n",
       "Q 588 488 669 463 \n",
       "Q 722 447 909 348 \n",
       "Q 1097 250 1169 231 \n",
       "Q 1284 197 1416 197 \n",
       "Q 1734 197 1970 444 \n",
       "Q 2206 691 2206 1028 \n",
       "Q 2206 1275 2097 1509 \n",
       "Q 2016 1684 1919 1775 \n",
       "Q 1784 1900 1550 2001 \n",
       "Q 1316 2103 1072 2103 \n",
       "L 972 2103 \n",
       "L 972 2197 \n",
       "Q 1219 2228 1467 2375 \n",
       "Q 1716 2522 1828 2728 \n",
       "Q 1941 2934 1941 3181 \n",
       "Q 1941 3503 1739 3701 \n",
       "Q 1538 3900 1238 3900 \n",
       "Q 753 3900 428 3381 \n",
       "L 325 3431 \n",
       "z\n",
       "\" transform=\"scale(0.015625)\"/>\n",
       "      <path id=\"TimesNewRomanPSMT-2b\" d=\"M 1672 441 \n",
       "L 1672 2000 \n",
       "L 116 2000 \n",
       "L 116 2256 \n",
       "L 1672 2256 \n",
       "L 1672 3809 \n",
       "L 1922 3809 \n",
       "L 1922 2256 \n",
       "L 3484 2256 \n",
       "L 3484 2000 \n",
       "L 1922 2000 \n",
       "L 1922 441 \n",
       "L 1672 441 \n",
       "z\n",
       "\" transform=\"scale(0.015625)\"/>\n",
       "      <path id=\"TimesNewRomanPSMT-20\" transform=\"scale(0.015625)\"/>\n",
       "      <path id=\"TimesNewRomanPSMT-7a\" d=\"M 2688 878 \n",
       "L 2653 0 \n",
       "L 128 0 \n",
       "L 128 113 \n",
       "L 2028 2644 \n",
       "L 1091 2644 \n",
       "Q 788 2644 694 2605 \n",
       "Q 600 2566 541 2456 \n",
       "Q 456 2300 444 2069 \n",
       "L 319 2069 \n",
       "L 338 2863 \n",
       "L 2738 2863 \n",
       "L 2738 2747 \n",
       "L 819 209 \n",
       "L 1863 209 \n",
       "Q 2191 209 2308 264 \n",
       "Q 2425 319 2497 456 \n",
       "Q 2547 556 2581 878 \n",
       "L 2688 878 \n",
       "z\n",
       "\" transform=\"scale(0.015625)\"/>\n",
       "      <path id=\"TimesNewRomanPSMT-3d\" d=\"M 116 2759 \n",
       "L 3488 2759 \n",
       "L 3488 2503 \n",
       "L 116 2503 \n",
       "L 116 2759 \n",
       "z\n",
       "M 116 1741 \n",
       "L 3488 1741 \n",
       "L 3488 1484 \n",
       "L 116 1484 \n",
       "L 116 1741 \n",
       "z\n",
       "\" transform=\"scale(0.015625)\"/>\n",
       "     </defs>\n",
       "     <use xlink:href=\"#TimesNewRomanPSMT-53\"/>\n",
       "     <use xlink:href=\"#TimesNewRomanPSMT-44\" x=\"55.615234\"/>\n",
       "     <use xlink:href=\"#TimesNewRomanPSMT-53\" x=\"127.832031\"/>\n",
       "     <use xlink:href=\"#TimesNewRomanPSMT-53\" x=\"183.447266\"/>\n",
       "     <use xlink:href=\"#TimesNewRomanPSMT-4a\" x=\"239.0625\"/>\n",
       "     <use xlink:href=\"#TimesNewRomanPSMT-31\" x=\"277.978516\"/>\n",
       "     <use xlink:href=\"#TimesNewRomanPSMT-35\" x=\"327.978516\"/>\n",
       "     <use xlink:href=\"#TimesNewRomanPSMT-35\" x=\"377.978516\"/>\n",
       "     <use xlink:href=\"#TimesNewRomanPSMT-34\" x=\"427.978516\"/>\n",
       "     <use xlink:href=\"#TimesNewRomanPSMT-32\" x=\"477.978516\"/>\n",
       "     <use xlink:href=\"#TimesNewRomanPSMT-36\" x=\"527.978516\"/>\n",
       "     <use xlink:href=\"#TimesNewRomanPSMT-2e\" x=\"577.978516\"/>\n",
       "     <use xlink:href=\"#TimesNewRomanPSMT-31\" x=\"602.978516\"/>\n",
       "     <use xlink:href=\"#TimesNewRomanPSMT-33\" x=\"652.978516\"/>\n",
       "     <use xlink:href=\"#TimesNewRomanPSMT-2b\" x=\"702.978516\"/>\n",
       "     <use xlink:href=\"#TimesNewRomanPSMT-32\" x=\"759.375\"/>\n",
       "     <use xlink:href=\"#TimesNewRomanPSMT-30\" x=\"809.375\"/>\n",
       "     <use xlink:href=\"#TimesNewRomanPSMT-30\" x=\"859.375\"/>\n",
       "     <use xlink:href=\"#TimesNewRomanPSMT-35\" x=\"909.375\"/>\n",
       "     <use xlink:href=\"#TimesNewRomanPSMT-32\" x=\"959.375\"/>\n",
       "     <use xlink:href=\"#TimesNewRomanPSMT-37\" x=\"1009.375\"/>\n",
       "     <use xlink:href=\"#TimesNewRomanPSMT-2e\" x=\"1059.375\"/>\n",
       "     <use xlink:href=\"#TimesNewRomanPSMT-37\" x=\"1084.375\"/>\n",
       "     <use xlink:href=\"#TimesNewRomanPSMT-20\" x=\"1134.375\"/>\n",
       "     <use xlink:href=\"#TimesNewRomanPSMT-7a\" x=\"1159.375\"/>\n",
       "     <use xlink:href=\"#TimesNewRomanPSMT-3d\" x=\"1203.759766\"/>\n",
       "     <use xlink:href=\"#TimesNewRomanPSMT-30\" x=\"1260.15625\"/>\n",
       "     <use xlink:href=\"#TimesNewRomanPSMT-2e\" x=\"1310.15625\"/>\n",
       "     <use xlink:href=\"#TimesNewRomanPSMT-35\" x=\"1335.15625\"/>\n",
       "     <use xlink:href=\"#TimesNewRomanPSMT-32\" x=\"1385.15625\"/>\n",
       "     <use xlink:href=\"#TimesNewRomanPSMT-31\" x=\"1435.15625\"/>\n",
       "     <use xlink:href=\"#TimesNewRomanPSMT-35\" x=\"1485.15625\"/>\n",
       "    </g>\n",
       "   </g>\n",
       "   <g id=\"legend_1\">\n",
       "    <g id=\"patch_7\">\n",
       "     <path d=\"M 78.246813 70.278838 \n",
       "L 126.890875 70.278838 \n",
       "Q 129.090875 70.278838 129.090875 68.078838 \n",
       "L 129.090875 38.0729 \n",
       "Q 129.090875 35.8729 126.890875 35.8729 \n",
       "L 78.246813 35.8729 \n",
       "Q 76.046813 35.8729 76.046813 38.0729 \n",
       "L 76.046813 68.078838 \n",
       "Q 76.046813 70.278838 78.246813 70.278838 \n",
       "z\n",
       "\" style=\"fill: #ffffff; opacity: 0.8; stroke: #cccccc; stroke-linejoin: miter\"/>\n",
       "    </g>\n",
       "    <g id=\"LineCollection_3\">\n",
       "     <path d=\"M 91.446813 49.6229 \n",
       "L 91.446813 38.6229 \n",
       "\" style=\"fill: none; stroke: #1f77b4; stroke-width: 1.5\"/>\n",
       "    </g>\n",
       "    <g id=\"line2d_12\">\n",
       "     <path d=\"M 80.446813 44.1229 \n",
       "L 102.446813 44.1229 \n",
       "\" style=\"fill: none; stroke-dasharray: 1.5,2.475; stroke-dashoffset: 0; stroke: #1f77b4; stroke-width: 1.5\"/>\n",
       "    </g>\n",
       "    <g id=\"line2d_13\">\n",
       "     <g>\n",
       "      <use xlink:href=\"#m055abd74b3\" x=\"91.446813\" y=\"44.1229\" style=\"fill: #1f77b4; stroke: #1f77b4; stroke-linejoin: bevel\"/>\n",
       "     </g>\n",
       "    </g>\n",
       "    <g id=\"text_13\">\n",
       "     <!-- w1 -->\n",
       "     <g transform=\"translate(111.246813 47.9729) scale(0.11 -0.11)\">\n",
       "      <defs>\n",
       "       <path id=\"TimesNewRomanPSMT-77\" d=\"M 41 2863 \n",
       "L 1241 2863 \n",
       "L 1241 2747 \n",
       "Q 1075 2734 1023 2687 \n",
       "Q 972 2641 972 2553 \n",
       "Q 972 2456 1025 2319 \n",
       "L 1638 672 \n",
       "L 2253 2013 \n",
       "L 2091 2434 \n",
       "Q 2016 2622 1894 2694 \n",
       "Q 1825 2738 1638 2747 \n",
       "L 1638 2863 \n",
       "L 3000 2863 \n",
       "L 3000 2747 \n",
       "Q 2775 2738 2681 2666 \n",
       "Q 2619 2616 2619 2506 \n",
       "Q 2619 2444 2644 2378 \n",
       "L 3294 734 \n",
       "L 3897 2319 \n",
       "Q 3959 2488 3959 2588 \n",
       "Q 3959 2647 3898 2694 \n",
       "Q 3838 2741 3659 2747 \n",
       "L 3659 2863 \n",
       "L 4563 2863 \n",
       "L 4563 2747 \n",
       "Q 4291 2706 4163 2378 \n",
       "L 3206 -88 \n",
       "L 3078 -88 \n",
       "L 2363 1741 \n",
       "L 1528 -88 \n",
       "L 1413 -88 \n",
       "L 494 2319 \n",
       "Q 403 2547 315 2626 \n",
       "Q 228 2706 41 2747 \n",
       "L 41 2863 \n",
       "z\n",
       "\" transform=\"scale(0.015625)\"/>\n",
       "      </defs>\n",
       "      <use xlink:href=\"#TimesNewRomanPSMT-77\"/>\n",
       "      <use xlink:href=\"#TimesNewRomanPSMT-31\" x=\"72.216797\"/>\n",
       "     </g>\n",
       "    </g>\n",
       "    <g id=\"LineCollection_4\">\n",
       "     <path d=\"M 91.446813 65.175869 \n",
       "L 91.446813 54.175869 \n",
       "\" style=\"fill: none; stroke: #ff7f0e; stroke-width: 1.5\"/>\n",
       "    </g>\n",
       "    <g id=\"line2d_14\">\n",
       "     <path d=\"M 80.446813 59.675869 \n",
       "L 102.446813 59.675869 \n",
       "\" style=\"fill: none; stroke-dasharray: 1.5,2.475; stroke-dashoffset: 0; stroke: #ff7f0e; stroke-width: 1.5\"/>\n",
       "    </g>\n",
       "    <g id=\"line2d_15\">\n",
       "     <g>\n",
       "      <use xlink:href=\"#m96aaccecd9\" x=\"91.446813\" y=\"59.675869\" style=\"fill: #ff7f0e; stroke: #ff7f0e; stroke-linejoin: bevel\"/>\n",
       "     </g>\n",
       "    </g>\n",
       "    <g id=\"text_14\">\n",
       "     <!-- w2 -->\n",
       "     <g transform=\"translate(111.246813 63.525869) scale(0.11 -0.11)\">\n",
       "      <use xlink:href=\"#TimesNewRomanPSMT-77\"/>\n",
       "      <use xlink:href=\"#TimesNewRomanPSMT-32\" x=\"72.216797\"/>\n",
       "     </g>\n",
       "    </g>\n",
       "   </g>\n",
       "  </g>\n",
       " </g>\n",
       " <defs>\n",
       "  <clipPath id=\"p00516d9883\">\n",
       "   <rect x=\"66.082813\" y=\"28.1985\" width=\"446.4\" height=\"217.44\"/>\n",
       "  </clipPath>\n",
       " </defs>\n",
       "</svg>\n"
      ],
      "text/plain": [
       "<Figure size 576x288 with 1 Axes>"
      ]
     },
     "metadata": {
      "needs_background": "light"
     },
     "output_type": "display_data"
    }
   ],
   "source": [
    "name='SDSSJ155426.13+200527.7'\n",
    "name=name.strip()\n",
    "D_cm_115103= cosmo.luminosity_distance(z=0.5215).to(u.cm)\n",
    "data_test_neo,data_test_mep=get_wise_data(name,wisedata_path)\n",
    "data_rebin_neo,data_rebin_mep=get_rebinwise_data(data_test_neo,data_test_mep)\n",
    "\n",
    "data_rebinflux_neo,data_rebinflux_mep=get_wiseflux_rebin(data_rebin_neo,data_rebin_mep,D_cm_115103)\n",
    "datalag_w1_115103,datalag_w2_115103=get_wise_lc(data_rebinflux_neo,data_rebinflux_mep)\n",
    "\n",
    "fig = plt.figure(figsize=(8,4))\n",
    "fig.subplots_adjust(hspace=0.0, wspace = 0.0)\n",
    "ax = fig.add_subplot(111)\n",
    "\n",
    "\n",
    "#BH_mass_115103=1e6*u.solMass\n",
    "#Ledd_115103=1.26*10**38*BH_mass_115103/u.solMass\n",
    "\n",
    "ax.errorbar(datalag_w1_115103['t'],datalag_w1_115103['flux'],datalag_w1_115103['err'],label='w1',ls=':',marker='*')\n",
    "ax.errorbar(datalag_w2_115103['t'],datalag_w2_115103['flux'],datalag_w2_115103['err'],label='w2',ls=':',marker='*')\n",
    "\n",
    "#ax.axhline(np.log10(Ledd_115103),ls='-.',label='Ledd') #+np.log10(9)\n",
    "ax.set_xlabel('MJD')\n",
    "ax.set_ylabel('log(L_MIR)')\n",
    "ax.set_title('%s z=0.5215'%name)\n",
    "set_ax_legend(ax,bbox_to_anchor=(0.01, 0.99))\n"
   ]
  },
  {
   "cell_type": "code",
   "execution_count": 140,
   "metadata": {
    "ExecuteTime": {
     "end_time": "2023-08-18T14:35:56.647996Z",
     "start_time": "2023-08-18T14:35:56.389314Z"
    }
   },
   "outputs": [
    {
     "data": {
      "image/svg+xml": [
       "<?xml version=\"1.0\" encoding=\"utf-8\" standalone=\"no\"?>\n",
       "<!DOCTYPE svg PUBLIC \"-//W3C//DTD SVG 1.1//EN\"\n",
       "  \"http://www.w3.org/Graphics/SVG/1.1/DTD/svg11.dtd\">\n",
       "<svg xmlns:xlink=\"http://www.w3.org/1999/xlink\" width=\"519.682813pt\" height=\"303.036625pt\" viewBox=\"0 0 519.682813 303.036625\" xmlns=\"http://www.w3.org/2000/svg\" version=\"1.1\">\n",
       " <metadata>\n",
       "  <rdf:RDF xmlns:dc=\"http://purl.org/dc/elements/1.1/\" xmlns:cc=\"http://creativecommons.org/ns#\" xmlns:rdf=\"http://www.w3.org/1999/02/22-rdf-syntax-ns#\">\n",
       "   <cc:Work>\n",
       "    <dc:type rdf:resource=\"http://purl.org/dc/dcmitype/StillImage\"/>\n",
       "    <dc:date>2023-08-18T22:35:56.615860</dc:date>\n",
       "    <dc:format>image/svg+xml</dc:format>\n",
       "    <dc:creator>\n",
       "     <cc:Agent>\n",
       "      <dc:title>Matplotlib v3.7.1, https://matplotlib.org/</dc:title>\n",
       "     </cc:Agent>\n",
       "    </dc:creator>\n",
       "   </cc:Work>\n",
       "  </rdf:RDF>\n",
       " </metadata>\n",
       " <defs>\n",
       "  <style type=\"text/css\">*{stroke-linejoin: round; stroke-linecap: butt}</style>\n",
       " </defs>\n",
       " <g id=\"figure_1\">\n",
       "  <g id=\"patch_1\">\n",
       "   <path d=\"M 0 303.036625 \n",
       "L 519.682813 303.036625 \n",
       "L 519.682813 0 \n",
       "L 0 0 \n",
       "L 0 303.036625 \n",
       "z\n",
       "\" style=\"fill: none\"/>\n",
       "  </g>\n",
       "  <g id=\"axes_1\">\n",
       "   <g id=\"patch_2\">\n",
       "    <path d=\"M 66.082813 245.6385 \n",
       "L 512.482813 245.6385 \n",
       "L 512.482813 28.1985 \n",
       "L 66.082813 28.1985 \n",
       "z\n",
       "\" style=\"fill: #ffffff\"/>\n",
       "   </g>\n",
       "   <g id=\"matplotlib.axis_1\">\n",
       "    <g id=\"xtick_1\">\n",
       "     <g id=\"line2d_1\">\n",
       "      <defs>\n",
       "       <path id=\"m7ba1e29ca9\" d=\"M 0 0 \n",
       "L 0 10 \n",
       "\" style=\"stroke: #000000; stroke-width: 2\"/>\n",
       "      </defs>\n",
       "      <g>\n",
       "       <use xlink:href=\"#m7ba1e29ca9\" x=\"66.88591\" y=\"245.6385\" style=\"stroke: #000000; stroke-width: 2\"/>\n",
       "      </g>\n",
       "     </g>\n",
       "     <g id=\"text_1\">\n",
       "      <!-- 55000 -->\n",
       "      <g transform=\"translate(44.38591 271.63725) scale(0.18 -0.18)\">\n",
       "       <defs>\n",
       "        <path id=\"TimesNewRomanPSMT-35\" d=\"M 2778 4238 \n",
       "L 2534 3706 \n",
       "L 1259 3706 \n",
       "L 981 3138 \n",
       "Q 1809 3016 2294 2522 \n",
       "Q 2709 2097 2709 1522 \n",
       "Q 2709 1188 2573 903 \n",
       "Q 2438 619 2231 419 \n",
       "Q 2025 219 1772 97 \n",
       "Q 1413 -75 1034 -75 \n",
       "Q 653 -75 479 54 \n",
       "Q 306 184 306 341 \n",
       "Q 306 428 378 495 \n",
       "Q 450 563 559 563 \n",
       "Q 641 563 702 538 \n",
       "Q 763 513 909 409 \n",
       "Q 1144 247 1384 247 \n",
       "Q 1750 247 2026 523 \n",
       "Q 2303 800 2303 1197 \n",
       "Q 2303 1581 2056 1914 \n",
       "Q 1809 2247 1375 2428 \n",
       "Q 1034 2569 447 2591 \n",
       "L 1259 4238 \n",
       "L 2778 4238 \n",
       "z\n",
       "\" transform=\"scale(0.015625)\"/>\n",
       "        <path id=\"TimesNewRomanPSMT-30\" d=\"M 231 2094 \n",
       "Q 231 2819 450 3342 \n",
       "Q 669 3866 1031 4122 \n",
       "Q 1313 4325 1613 4325 \n",
       "Q 2100 4325 2488 3828 \n",
       "Q 2972 3213 2972 2159 \n",
       "Q 2972 1422 2759 906 \n",
       "Q 2547 391 2217 158 \n",
       "Q 1888 -75 1581 -75 \n",
       "Q 975 -75 572 641 \n",
       "Q 231 1244 231 2094 \n",
       "z\n",
       "M 844 2016 \n",
       "Q 844 1141 1059 588 \n",
       "Q 1238 122 1591 122 \n",
       "Q 1759 122 1940 273 \n",
       "Q 2122 425 2216 781 \n",
       "Q 2359 1319 2359 2297 \n",
       "Q 2359 3022 2209 3506 \n",
       "Q 2097 3866 1919 4016 \n",
       "Q 1791 4119 1609 4119 \n",
       "Q 1397 4119 1231 3928 \n",
       "Q 1006 3669 925 3112 \n",
       "Q 844 2556 844 2016 \n",
       "z\n",
       "\" transform=\"scale(0.015625)\"/>\n",
       "       </defs>\n",
       "       <use xlink:href=\"#TimesNewRomanPSMT-35\"/>\n",
       "       <use xlink:href=\"#TimesNewRomanPSMT-35\" x=\"50\"/>\n",
       "       <use xlink:href=\"#TimesNewRomanPSMT-30\" x=\"100\"/>\n",
       "       <use xlink:href=\"#TimesNewRomanPSMT-30\" x=\"150\"/>\n",
       "       <use xlink:href=\"#TimesNewRomanPSMT-30\" x=\"200\"/>\n",
       "      </g>\n",
       "     </g>\n",
       "    </g>\n",
       "    <g id=\"xtick_2\">\n",
       "     <g id=\"line2d_2\">\n",
       "      <g>\n",
       "       <use xlink:href=\"#m7ba1e29ca9\" x=\"156.219963\" y=\"245.6385\" style=\"stroke: #000000; stroke-width: 2\"/>\n",
       "      </g>\n",
       "     </g>\n",
       "     <g id=\"text_2\">\n",
       "      <!-- 56000 -->\n",
       "      <g transform=\"translate(133.719963 271.63725) scale(0.18 -0.18)\">\n",
       "       <defs>\n",
       "        <path id=\"TimesNewRomanPSMT-36\" d=\"M 2869 4325 \n",
       "L 2869 4209 \n",
       "Q 2456 4169 2195 4045 \n",
       "Q 1934 3922 1679 3669 \n",
       "Q 1425 3416 1258 3105 \n",
       "Q 1091 2794 978 2366 \n",
       "Q 1428 2675 1881 2675 \n",
       "Q 2316 2675 2634 2325 \n",
       "Q 2953 1975 2953 1425 \n",
       "Q 2953 894 2631 456 \n",
       "Q 2244 -75 1606 -75 \n",
       "Q 1172 -75 869 213 \n",
       "Q 275 772 275 1663 \n",
       "Q 275 2231 503 2743 \n",
       "Q 731 3256 1154 3653 \n",
       "Q 1578 4050 1965 4187 \n",
       "Q 2353 4325 2688 4325 \n",
       "L 2869 4325 \n",
       "z\n",
       "M 925 2138 \n",
       "Q 869 1716 869 1456 \n",
       "Q 869 1156 980 804 \n",
       "Q 1091 453 1309 247 \n",
       "Q 1469 100 1697 100 \n",
       "Q 1969 100 2183 356 \n",
       "Q 2397 613 2397 1088 \n",
       "Q 2397 1622 2184 2012 \n",
       "Q 1972 2403 1581 2403 \n",
       "Q 1463 2403 1327 2353 \n",
       "Q 1191 2303 925 2138 \n",
       "z\n",
       "\" transform=\"scale(0.015625)\"/>\n",
       "       </defs>\n",
       "       <use xlink:href=\"#TimesNewRomanPSMT-35\"/>\n",
       "       <use xlink:href=\"#TimesNewRomanPSMT-36\" x=\"50\"/>\n",
       "       <use xlink:href=\"#TimesNewRomanPSMT-30\" x=\"100\"/>\n",
       "       <use xlink:href=\"#TimesNewRomanPSMT-30\" x=\"150\"/>\n",
       "       <use xlink:href=\"#TimesNewRomanPSMT-30\" x=\"200\"/>\n",
       "      </g>\n",
       "     </g>\n",
       "    </g>\n",
       "    <g id=\"xtick_3\">\n",
       "     <g id=\"line2d_3\">\n",
       "      <g>\n",
       "       <use xlink:href=\"#m7ba1e29ca9\" x=\"245.554015\" y=\"245.6385\" style=\"stroke: #000000; stroke-width: 2\"/>\n",
       "      </g>\n",
       "     </g>\n",
       "     <g id=\"text_3\">\n",
       "      <!-- 57000 -->\n",
       "      <g transform=\"translate(223.054015 271.63725) scale(0.18 -0.18)\">\n",
       "       <defs>\n",
       "        <path id=\"TimesNewRomanPSMT-37\" d=\"M 644 4238 \n",
       "L 2916 4238 \n",
       "L 2916 4119 \n",
       "L 1503 -88 \n",
       "L 1153 -88 \n",
       "L 2419 3728 \n",
       "L 1253 3728 \n",
       "Q 900 3728 750 3644 \n",
       "Q 488 3500 328 3200 \n",
       "L 238 3234 \n",
       "L 644 4238 \n",
       "z\n",
       "\" transform=\"scale(0.015625)\"/>\n",
       "       </defs>\n",
       "       <use xlink:href=\"#TimesNewRomanPSMT-35\"/>\n",
       "       <use xlink:href=\"#TimesNewRomanPSMT-37\" x=\"50\"/>\n",
       "       <use xlink:href=\"#TimesNewRomanPSMT-30\" x=\"100\"/>\n",
       "       <use xlink:href=\"#TimesNewRomanPSMT-30\" x=\"150\"/>\n",
       "       <use xlink:href=\"#TimesNewRomanPSMT-30\" x=\"200\"/>\n",
       "      </g>\n",
       "     </g>\n",
       "    </g>\n",
       "    <g id=\"xtick_4\">\n",
       "     <g id=\"line2d_4\">\n",
       "      <g>\n",
       "       <use xlink:href=\"#m7ba1e29ca9\" x=\"334.888068\" y=\"245.6385\" style=\"stroke: #000000; stroke-width: 2\"/>\n",
       "      </g>\n",
       "     </g>\n",
       "     <g id=\"text_4\">\n",
       "      <!-- 58000 -->\n",
       "      <g transform=\"translate(312.388068 271.63725) scale(0.18 -0.18)\">\n",
       "       <defs>\n",
       "        <path id=\"TimesNewRomanPSMT-38\" d=\"M 1228 2134 \n",
       "Q 725 2547 579 2797 \n",
       "Q 434 3047 434 3316 \n",
       "Q 434 3728 753 4026 \n",
       "Q 1072 4325 1600 4325 \n",
       "Q 2113 4325 2425 4047 \n",
       "Q 2738 3769 2738 3413 \n",
       "Q 2738 3175 2569 2928 \n",
       "Q 2400 2681 1866 2347 \n",
       "Q 2416 1922 2594 1678 \n",
       "Q 2831 1359 2831 1006 \n",
       "Q 2831 559 2490 242 \n",
       "Q 2150 -75 1597 -75 \n",
       "Q 994 -75 656 303 \n",
       "Q 388 606 388 966 \n",
       "Q 388 1247 577 1523 \n",
       "Q 766 1800 1228 2134 \n",
       "z\n",
       "M 1719 2469 \n",
       "Q 2094 2806 2194 3001 \n",
       "Q 2294 3197 2294 3444 \n",
       "Q 2294 3772 2109 3958 \n",
       "Q 1925 4144 1606 4144 \n",
       "Q 1288 4144 1088 3959 \n",
       "Q 888 3775 888 3528 \n",
       "Q 888 3366 970 3203 \n",
       "Q 1053 3041 1206 2894 \n",
       "L 1719 2469 \n",
       "z\n",
       "M 1375 2016 \n",
       "Q 1116 1797 991 1539 \n",
       "Q 866 1281 866 981 \n",
       "Q 866 578 1086 336 \n",
       "Q 1306 94 1647 94 \n",
       "Q 1984 94 2187 284 \n",
       "Q 2391 475 2391 747 \n",
       "Q 2391 972 2272 1150 \n",
       "Q 2050 1481 1375 2016 \n",
       "z\n",
       "\" transform=\"scale(0.015625)\"/>\n",
       "       </defs>\n",
       "       <use xlink:href=\"#TimesNewRomanPSMT-35\"/>\n",
       "       <use xlink:href=\"#TimesNewRomanPSMT-38\" x=\"50\"/>\n",
       "       <use xlink:href=\"#TimesNewRomanPSMT-30\" x=\"100\"/>\n",
       "       <use xlink:href=\"#TimesNewRomanPSMT-30\" x=\"150\"/>\n",
       "       <use xlink:href=\"#TimesNewRomanPSMT-30\" x=\"200\"/>\n",
       "      </g>\n",
       "     </g>\n",
       "    </g>\n",
       "    <g id=\"xtick_5\">\n",
       "     <g id=\"line2d_5\">\n",
       "      <g>\n",
       "       <use xlink:href=\"#m7ba1e29ca9\" x=\"424.222121\" y=\"245.6385\" style=\"stroke: #000000; stroke-width: 2\"/>\n",
       "      </g>\n",
       "     </g>\n",
       "     <g id=\"text_5\">\n",
       "      <!-- 59000 -->\n",
       "      <g transform=\"translate(401.722121 271.63725) scale(0.18 -0.18)\">\n",
       "       <defs>\n",
       "        <path id=\"TimesNewRomanPSMT-39\" d=\"M 338 -88 \n",
       "L 338 28 \n",
       "Q 744 34 1094 217 \n",
       "Q 1444 400 1770 856 \n",
       "Q 2097 1313 2225 1859 \n",
       "Q 1734 1544 1338 1544 \n",
       "Q 891 1544 572 1889 \n",
       "Q 253 2234 253 2806 \n",
       "Q 253 3363 572 3797 \n",
       "Q 956 4325 1575 4325 \n",
       "Q 2097 4325 2469 3894 \n",
       "Q 2925 3359 2925 2575 \n",
       "Q 2925 1869 2578 1258 \n",
       "Q 2231 647 1613 244 \n",
       "Q 1109 -88 516 -88 \n",
       "L 338 -88 \n",
       "z\n",
       "M 2275 2091 \n",
       "Q 2331 2497 2331 2741 \n",
       "Q 2331 3044 2228 3395 \n",
       "Q 2125 3747 1936 3934 \n",
       "Q 1747 4122 1506 4122 \n",
       "Q 1228 4122 1018 3872 \n",
       "Q 809 3622 809 3128 \n",
       "Q 809 2469 1088 2097 \n",
       "Q 1291 1828 1588 1828 \n",
       "Q 1731 1828 1928 1897 \n",
       "Q 2125 1966 2275 2091 \n",
       "z\n",
       "\" transform=\"scale(0.015625)\"/>\n",
       "       </defs>\n",
       "       <use xlink:href=\"#TimesNewRomanPSMT-35\"/>\n",
       "       <use xlink:href=\"#TimesNewRomanPSMT-39\" x=\"50\"/>\n",
       "       <use xlink:href=\"#TimesNewRomanPSMT-30\" x=\"100\"/>\n",
       "       <use xlink:href=\"#TimesNewRomanPSMT-30\" x=\"150\"/>\n",
       "       <use xlink:href=\"#TimesNewRomanPSMT-30\" x=\"200\"/>\n",
       "      </g>\n",
       "     </g>\n",
       "    </g>\n",
       "    <g id=\"text_6\">\n",
       "     <!-- MJD -->\n",
       "     <g transform=\"translate(271.277188 291.986312) scale(0.18 -0.18)\">\n",
       "      <defs>\n",
       "       <path id=\"TimesNewRomanPSMT-4d\" d=\"M 2619 0 \n",
       "L 981 3566 \n",
       "L 981 734 \n",
       "Q 981 344 1066 247 \n",
       "Q 1181 116 1431 116 \n",
       "L 1581 116 \n",
       "L 1581 0 \n",
       "L 106 0 \n",
       "L 106 116 \n",
       "L 256 116 \n",
       "Q 525 116 638 278 \n",
       "Q 706 378 706 734 \n",
       "L 706 3503 \n",
       "Q 706 3784 644 3909 \n",
       "Q 600 4000 483 4061 \n",
       "Q 366 4122 106 4122 \n",
       "L 106 4238 \n",
       "L 1306 4238 \n",
       "L 2844 922 \n",
       "L 4356 4238 \n",
       "L 5556 4238 \n",
       "L 5556 4122 \n",
       "L 5409 4122 \n",
       "Q 5138 4122 5025 3959 \n",
       "Q 4956 3859 4956 3503 \n",
       "L 4956 734 \n",
       "Q 4956 344 5044 247 \n",
       "Q 5159 116 5409 116 \n",
       "L 5556 116 \n",
       "L 5556 0 \n",
       "L 3756 0 \n",
       "L 3756 116 \n",
       "L 3906 116 \n",
       "Q 4178 116 4288 278 \n",
       "Q 4356 378 4356 734 \n",
       "L 4356 3566 \n",
       "L 2722 0 \n",
       "L 2619 0 \n",
       "z\n",
       "\" transform=\"scale(0.015625)\"/>\n",
       "       <path id=\"TimesNewRomanPSMT-4a\" d=\"M 638 4122 \n",
       "L 638 4238 \n",
       "L 2453 4238 \n",
       "L 2453 4122 \n",
       "L 2300 4122 \n",
       "Q 2041 4122 1922 3969 \n",
       "Q 1847 3869 1847 3488 \n",
       "L 1847 1416 \n",
       "Q 1847 938 1742 641 \n",
       "Q 1638 344 1381 123 \n",
       "Q 1125 -97 763 -97 \n",
       "Q 469 -97 300 48 \n",
       "Q 131 194 131 381 \n",
       "Q 131 534 209 613 \n",
       "Q 313 709 450 709 \n",
       "Q 550 709 629 643 \n",
       "Q 709 578 831 294 \n",
       "Q 903 125 1016 125 \n",
       "Q 1100 125 1173 228 \n",
       "Q 1247 331 1247 594 \n",
       "L 1247 3488 \n",
       "Q 1247 3809 1206 3913 \n",
       "Q 1175 3991 1075 4047 \n",
       "Q 941 4122 791 4122 \n",
       "L 638 4122 \n",
       "z\n",
       "\" transform=\"scale(0.015625)\"/>\n",
       "       <path id=\"TimesNewRomanPSMT-44\" d=\"M 109 0 \n",
       "L 109 116 \n",
       "L 269 116 \n",
       "Q 538 116 650 288 \n",
       "Q 719 391 719 750 \n",
       "L 719 3488 \n",
       "Q 719 3884 631 3984 \n",
       "Q 509 4122 269 4122 \n",
       "L 109 4122 \n",
       "L 109 4238 \n",
       "L 1834 4238 \n",
       "Q 2784 4238 3279 4022 \n",
       "Q 3775 3806 4076 3303 \n",
       "Q 4378 2800 4378 2141 \n",
       "Q 4378 1256 3841 663 \n",
       "Q 3238 0 2003 0 \n",
       "L 109 0 \n",
       "z\n",
       "M 1319 306 \n",
       "Q 1716 219 1984 219 \n",
       "Q 2709 219 3187 728 \n",
       "Q 3666 1238 3666 2109 \n",
       "Q 3666 2988 3187 3494 \n",
       "Q 2709 4000 1959 4000 \n",
       "Q 1678 4000 1319 3909 \n",
       "L 1319 306 \n",
       "z\n",
       "\" transform=\"scale(0.015625)\"/>\n",
       "      </defs>\n",
       "      <use xlink:href=\"#TimesNewRomanPSMT-4d\"/>\n",
       "      <use xlink:href=\"#TimesNewRomanPSMT-4a\" x=\"88.916016\"/>\n",
       "      <use xlink:href=\"#TimesNewRomanPSMT-44\" x=\"127.832031\"/>\n",
       "     </g>\n",
       "    </g>\n",
       "   </g>\n",
       "   <g id=\"matplotlib.axis_2\">\n",
       "    <g id=\"ytick_1\">\n",
       "     <g id=\"line2d_6\">\n",
       "      <defs>\n",
       "       <path id=\"m6b605e0064\" d=\"M 0 0 \n",
       "L -3.5 0 \n",
       "\" style=\"stroke: #000000; stroke-width: 0.8\"/>\n",
       "      </defs>\n",
       "      <g>\n",
       "       <use xlink:href=\"#m6b605e0064\" x=\"66.082813\" y=\"218.485696\" style=\"stroke: #000000; stroke-width: 0.8\"/>\n",
       "      </g>\n",
       "     </g>\n",
       "     <g id=\"text_7\">\n",
       "      <!-- 44.4 -->\n",
       "      <g transform=\"translate(27.582813 224.735071) scale(0.18 -0.18)\">\n",
       "       <defs>\n",
       "        <path id=\"TimesNewRomanPSMT-34\" d=\"M 2978 1563 \n",
       "L 2978 1119 \n",
       "L 2409 1119 \n",
       "L 2409 0 \n",
       "L 1894 0 \n",
       "L 1894 1119 \n",
       "L 100 1119 \n",
       "L 100 1519 \n",
       "L 2066 4325 \n",
       "L 2409 4325 \n",
       "L 2409 1563 \n",
       "L 2978 1563 \n",
       "z\n",
       "M 1894 1563 \n",
       "L 1894 3666 \n",
       "L 406 1563 \n",
       "L 1894 1563 \n",
       "z\n",
       "\" transform=\"scale(0.015625)\"/>\n",
       "        <path id=\"TimesNewRomanPSMT-2e\" d=\"M 800 606 \n",
       "Q 947 606 1047 504 \n",
       "Q 1147 403 1147 259 \n",
       "Q 1147 116 1045 14 \n",
       "Q 944 -88 800 -88 \n",
       "Q 656 -88 554 14 \n",
       "Q 453 116 453 259 \n",
       "Q 453 406 554 506 \n",
       "Q 656 606 800 606 \n",
       "z\n",
       "\" transform=\"scale(0.015625)\"/>\n",
       "       </defs>\n",
       "       <use xlink:href=\"#TimesNewRomanPSMT-34\"/>\n",
       "       <use xlink:href=\"#TimesNewRomanPSMT-34\" x=\"50\"/>\n",
       "       <use xlink:href=\"#TimesNewRomanPSMT-2e\" x=\"100\"/>\n",
       "       <use xlink:href=\"#TimesNewRomanPSMT-34\" x=\"125\"/>\n",
       "      </g>\n",
       "     </g>\n",
       "    </g>\n",
       "    <g id=\"ytick_2\">\n",
       "     <g id=\"line2d_7\">\n",
       "      <g>\n",
       "       <use xlink:href=\"#m6b605e0064\" x=\"66.082813\" y=\"174.258982\" style=\"stroke: #000000; stroke-width: 0.8\"/>\n",
       "      </g>\n",
       "     </g>\n",
       "     <g id=\"text_8\">\n",
       "      <!-- 44.5 -->\n",
       "      <g transform=\"translate(27.582813 180.508357) scale(0.18 -0.18)\">\n",
       "       <use xlink:href=\"#TimesNewRomanPSMT-34\"/>\n",
       "       <use xlink:href=\"#TimesNewRomanPSMT-34\" x=\"50\"/>\n",
       "       <use xlink:href=\"#TimesNewRomanPSMT-2e\" x=\"100\"/>\n",
       "       <use xlink:href=\"#TimesNewRomanPSMT-35\" x=\"125\"/>\n",
       "      </g>\n",
       "     </g>\n",
       "    </g>\n",
       "    <g id=\"ytick_3\">\n",
       "     <g id=\"line2d_8\">\n",
       "      <g>\n",
       "       <use xlink:href=\"#m6b605e0064\" x=\"66.082813\" y=\"130.032268\" style=\"stroke: #000000; stroke-width: 0.8\"/>\n",
       "      </g>\n",
       "     </g>\n",
       "     <g id=\"text_9\">\n",
       "      <!-- 44.6 -->\n",
       "      <g transform=\"translate(27.582813 136.281643) scale(0.18 -0.18)\">\n",
       "       <use xlink:href=\"#TimesNewRomanPSMT-34\"/>\n",
       "       <use xlink:href=\"#TimesNewRomanPSMT-34\" x=\"50\"/>\n",
       "       <use xlink:href=\"#TimesNewRomanPSMT-2e\" x=\"100\"/>\n",
       "       <use xlink:href=\"#TimesNewRomanPSMT-36\" x=\"125\"/>\n",
       "      </g>\n",
       "     </g>\n",
       "    </g>\n",
       "    <g id=\"ytick_4\">\n",
       "     <g id=\"line2d_9\">\n",
       "      <g>\n",
       "       <use xlink:href=\"#m6b605e0064\" x=\"66.082813\" y=\"85.805555\" style=\"stroke: #000000; stroke-width: 0.8\"/>\n",
       "      </g>\n",
       "     </g>\n",
       "     <g id=\"text_10\">\n",
       "      <!-- 44.7 -->\n",
       "      <g transform=\"translate(27.582813 92.05493) scale(0.18 -0.18)\">\n",
       "       <use xlink:href=\"#TimesNewRomanPSMT-34\"/>\n",
       "       <use xlink:href=\"#TimesNewRomanPSMT-34\" x=\"50\"/>\n",
       "       <use xlink:href=\"#TimesNewRomanPSMT-2e\" x=\"100\"/>\n",
       "       <use xlink:href=\"#TimesNewRomanPSMT-37\" x=\"125\"/>\n",
       "      </g>\n",
       "     </g>\n",
       "    </g>\n",
       "    <g id=\"ytick_5\">\n",
       "     <g id=\"line2d_10\">\n",
       "      <g>\n",
       "       <use xlink:href=\"#m6b605e0064\" x=\"66.082813\" y=\"41.578841\" style=\"stroke: #000000; stroke-width: 0.8\"/>\n",
       "      </g>\n",
       "     </g>\n",
       "     <g id=\"text_11\">\n",
       "      <!-- 44.8 -->\n",
       "      <g transform=\"translate(27.582813 47.828216) scale(0.18 -0.18)\">\n",
       "       <use xlink:href=\"#TimesNewRomanPSMT-34\"/>\n",
       "       <use xlink:href=\"#TimesNewRomanPSMT-34\" x=\"50\"/>\n",
       "       <use xlink:href=\"#TimesNewRomanPSMT-2e\" x=\"100\"/>\n",
       "       <use xlink:href=\"#TimesNewRomanPSMT-38\" x=\"125\"/>\n",
       "      </g>\n",
       "     </g>\n",
       "    </g>\n",
       "    <g id=\"text_12\">\n",
       "     <!-- log(L_MIR) -->\n",
       "     <g transform=\"translate(19.69875 181.41225) rotate(-90) scale(0.18 -0.18)\">\n",
       "      <defs>\n",
       "       <path id=\"TimesNewRomanPSMT-6c\" d=\"M 1184 4444 \n",
       "L 1184 647 \n",
       "Q 1184 378 1223 290 \n",
       "Q 1263 203 1344 158 \n",
       "Q 1425 113 1647 113 \n",
       "L 1647 0 \n",
       "L 244 0 \n",
       "L 244 113 \n",
       "Q 441 113 512 153 \n",
       "Q 584 194 625 287 \n",
       "Q 666 381 666 647 \n",
       "L 666 3247 \n",
       "Q 666 3731 644 3842 \n",
       "Q 622 3953 573 3993 \n",
       "Q 525 4034 450 4034 \n",
       "Q 369 4034 244 3984 \n",
       "L 191 4094 \n",
       "L 1044 4444 \n",
       "L 1184 4444 \n",
       "z\n",
       "\" transform=\"scale(0.015625)\"/>\n",
       "       <path id=\"TimesNewRomanPSMT-6f\" d=\"M 1600 2947 \n",
       "Q 2250 2947 2644 2453 \n",
       "Q 2978 2031 2978 1484 \n",
       "Q 2978 1100 2793 706 \n",
       "Q 2609 313 2286 112 \n",
       "Q 1963 -88 1566 -88 \n",
       "Q 919 -88 538 428 \n",
       "Q 216 863 216 1403 \n",
       "Q 216 1797 411 2186 \n",
       "Q 606 2575 925 2761 \n",
       "Q 1244 2947 1600 2947 \n",
       "z\n",
       "M 1503 2744 \n",
       "Q 1338 2744 1170 2645 \n",
       "Q 1003 2547 900 2300 \n",
       "Q 797 2053 797 1666 \n",
       "Q 797 1041 1045 587 \n",
       "Q 1294 134 1700 134 \n",
       "Q 2003 134 2200 384 \n",
       "Q 2397 634 2397 1244 \n",
       "Q 2397 2006 2069 2444 \n",
       "Q 1847 2744 1503 2744 \n",
       "z\n",
       "\" transform=\"scale(0.015625)\"/>\n",
       "       <path id=\"TimesNewRomanPSMT-67\" d=\"M 966 1044 \n",
       "Q 703 1172 562 1401 \n",
       "Q 422 1631 422 1909 \n",
       "Q 422 2334 742 2640 \n",
       "Q 1063 2947 1563 2947 \n",
       "Q 1972 2947 2272 2747 \n",
       "L 2878 2747 \n",
       "Q 3013 2747 3034 2739 \n",
       "Q 3056 2731 3066 2713 \n",
       "Q 3084 2684 3084 2613 \n",
       "Q 3084 2531 3069 2500 \n",
       "Q 3059 2484 3036 2475 \n",
       "Q 3013 2466 2878 2466 \n",
       "L 2506 2466 \n",
       "Q 2681 2241 2681 1891 \n",
       "Q 2681 1491 2375 1206 \n",
       "Q 2069 922 1553 922 \n",
       "Q 1341 922 1119 984 \n",
       "Q 981 866 932 777 \n",
       "Q 884 688 884 625 \n",
       "Q 884 572 936 522 \n",
       "Q 988 472 1138 450 \n",
       "Q 1225 438 1575 428 \n",
       "Q 2219 413 2409 384 \n",
       "Q 2700 344 2873 169 \n",
       "Q 3047 -6 3047 -263 \n",
       "Q 3047 -616 2716 -925 \n",
       "Q 2228 -1381 1444 -1381 \n",
       "Q 841 -1381 425 -1109 \n",
       "Q 191 -953 191 -784 \n",
       "Q 191 -709 225 -634 \n",
       "Q 278 -519 444 -313 \n",
       "Q 466 -284 763 25 \n",
       "Q 600 122 533 198 \n",
       "Q 466 275 466 372 \n",
       "Q 466 481 555 628 \n",
       "Q 644 775 966 1044 \n",
       "z\n",
       "M 1509 2797 \n",
       "Q 1278 2797 1122 2612 \n",
       "Q 966 2428 966 2047 \n",
       "Q 966 1553 1178 1281 \n",
       "Q 1341 1075 1591 1075 \n",
       "Q 1828 1075 1981 1253 \n",
       "Q 2134 1431 2134 1813 \n",
       "Q 2134 2309 1919 2591 \n",
       "Q 1759 2797 1509 2797 \n",
       "z\n",
       "M 934 0 \n",
       "Q 788 -159 713 -296 \n",
       "Q 638 -434 638 -550 \n",
       "Q 638 -700 819 -813 \n",
       "Q 1131 -1006 1722 -1006 \n",
       "Q 2284 -1006 2551 -807 \n",
       "Q 2819 -609 2819 -384 \n",
       "Q 2819 -222 2659 -153 \n",
       "Q 2497 -84 2016 -72 \n",
       "Q 1313 -53 934 0 \n",
       "z\n",
       "\" transform=\"scale(0.015625)\"/>\n",
       "       <path id=\"TimesNewRomanPSMT-28\" d=\"M 1988 -1253 \n",
       "L 1988 -1369 \n",
       "Q 1516 -1131 1200 -813 \n",
       "Q 750 -359 506 256 \n",
       "Q 263 872 263 1534 \n",
       "Q 263 2503 741 3301 \n",
       "Q 1219 4100 1988 4444 \n",
       "L 1988 4313 \n",
       "Q 1603 4100 1356 3731 \n",
       "Q 1109 3363 987 2797 \n",
       "Q 866 2231 866 1616 \n",
       "Q 866 947 969 400 \n",
       "Q 1050 -31 1165 -292 \n",
       "Q 1281 -553 1476 -793 \n",
       "Q 1672 -1034 1988 -1253 \n",
       "z\n",
       "\" transform=\"scale(0.015625)\"/>\n",
       "       <path id=\"TimesNewRomanPSMT-4c\" d=\"M 3669 1172 \n",
       "L 3772 1150 \n",
       "L 3409 0 \n",
       "L 128 0 \n",
       "L 128 116 \n",
       "L 288 116 \n",
       "Q 556 116 672 291 \n",
       "Q 738 391 738 753 \n",
       "L 738 3488 \n",
       "Q 738 3884 650 3984 \n",
       "Q 528 4122 288 4122 \n",
       "L 128 4122 \n",
       "L 128 4238 \n",
       "L 2047 4238 \n",
       "L 2047 4122 \n",
       "Q 1709 4125 1573 4059 \n",
       "Q 1438 3994 1388 3894 \n",
       "Q 1338 3794 1338 3416 \n",
       "L 1338 753 \n",
       "Q 1338 494 1388 397 \n",
       "Q 1425 331 1503 300 \n",
       "Q 1581 269 1991 269 \n",
       "L 2300 269 \n",
       "Q 2788 269 2984 341 \n",
       "Q 3181 413 3343 595 \n",
       "Q 3506 778 3669 1172 \n",
       "z\n",
       "\" transform=\"scale(0.015625)\"/>\n",
       "       <path id=\"TimesNewRomanPSMT-5f\" d=\"M 3256 -1381 \n",
       "L -53 -1381 \n",
       "L -53 -1119 \n",
       "L 3256 -1119 \n",
       "L 3256 -1381 \n",
       "z\n",
       "\" transform=\"scale(0.015625)\"/>\n",
       "       <path id=\"TimesNewRomanPSMT-49\" d=\"M 1975 116 \n",
       "L 1975 0 \n",
       "L 159 0 \n",
       "L 159 116 \n",
       "L 309 116 \n",
       "Q 572 116 691 269 \n",
       "Q 766 369 766 750 \n",
       "L 766 3488 \n",
       "Q 766 3809 725 3913 \n",
       "Q 694 3991 597 4047 \n",
       "Q 459 4122 309 4122 \n",
       "L 159 4122 \n",
       "L 159 4238 \n",
       "L 1975 4238 \n",
       "L 1975 4122 \n",
       "L 1822 4122 \n",
       "Q 1563 4122 1444 3969 \n",
       "Q 1366 3869 1366 3488 \n",
       "L 1366 750 \n",
       "Q 1366 428 1406 325 \n",
       "Q 1438 247 1538 191 \n",
       "Q 1672 116 1822 116 \n",
       "L 1975 116 \n",
       "z\n",
       "\" transform=\"scale(0.015625)\"/>\n",
       "       <path id=\"TimesNewRomanPSMT-52\" d=\"M 4325 0 \n",
       "L 3194 0 \n",
       "L 1759 1981 \n",
       "Q 1600 1975 1500 1975 \n",
       "Q 1459 1975 1412 1976 \n",
       "Q 1366 1978 1316 1981 \n",
       "L 1316 750 \n",
       "Q 1316 350 1403 253 \n",
       "Q 1522 116 1759 116 \n",
       "L 1925 116 \n",
       "L 1925 0 \n",
       "L 109 0 \n",
       "L 109 116 \n",
       "L 269 116 \n",
       "Q 538 116 653 291 \n",
       "Q 719 388 719 750 \n",
       "L 719 3488 \n",
       "Q 719 3888 631 3984 \n",
       "Q 509 4122 269 4122 \n",
       "L 109 4122 \n",
       "L 109 4238 \n",
       "L 1653 4238 \n",
       "Q 2328 4238 2648 4139 \n",
       "Q 2969 4041 3192 3777 \n",
       "Q 3416 3513 3416 3147 \n",
       "Q 3416 2756 3161 2468 \n",
       "Q 2906 2181 2372 2063 \n",
       "L 3247 847 \n",
       "Q 3547 428 3762 290 \n",
       "Q 3978 153 4325 116 \n",
       "L 4325 0 \n",
       "z\n",
       "M 1316 2178 \n",
       "Q 1375 2178 1419 2176 \n",
       "Q 1463 2175 1491 2175 \n",
       "Q 2097 2175 2405 2437 \n",
       "Q 2713 2700 2713 3106 \n",
       "Q 2713 3503 2464 3751 \n",
       "Q 2216 4000 1806 4000 \n",
       "Q 1625 4000 1316 3941 \n",
       "L 1316 2178 \n",
       "z\n",
       "\" transform=\"scale(0.015625)\"/>\n",
       "       <path id=\"TimesNewRomanPSMT-29\" d=\"M 144 4313 \n",
       "L 144 4444 \n",
       "Q 619 4209 934 3891 \n",
       "Q 1381 3434 1625 2820 \n",
       "Q 1869 2206 1869 1541 \n",
       "Q 1869 572 1392 -226 \n",
       "Q 916 -1025 144 -1369 \n",
       "L 144 -1253 \n",
       "Q 528 -1038 776 -670 \n",
       "Q 1025 -303 1145 264 \n",
       "Q 1266 831 1266 1447 \n",
       "Q 1266 2113 1163 2663 \n",
       "Q 1084 3094 967 3353 \n",
       "Q 850 3613 656 3853 \n",
       "Q 463 4094 144 4313 \n",
       "z\n",
       "\" transform=\"scale(0.015625)\"/>\n",
       "      </defs>\n",
       "      <use xlink:href=\"#TimesNewRomanPSMT-6c\"/>\n",
       "      <use xlink:href=\"#TimesNewRomanPSMT-6f\" x=\"27.783203\"/>\n",
       "      <use xlink:href=\"#TimesNewRomanPSMT-67\" x=\"77.783203\"/>\n",
       "      <use xlink:href=\"#TimesNewRomanPSMT-28\" x=\"127.783203\"/>\n",
       "      <use xlink:href=\"#TimesNewRomanPSMT-4c\" x=\"161.083984\"/>\n",
       "      <use xlink:href=\"#TimesNewRomanPSMT-5f\" x=\"222.167969\"/>\n",
       "      <use xlink:href=\"#TimesNewRomanPSMT-4d\" x=\"272.167969\"/>\n",
       "      <use xlink:href=\"#TimesNewRomanPSMT-49\" x=\"361.083984\"/>\n",
       "      <use xlink:href=\"#TimesNewRomanPSMT-52\" x=\"394.384766\"/>\n",
       "      <use xlink:href=\"#TimesNewRomanPSMT-29\" x=\"461.083984\"/>\n",
       "     </g>\n",
       "    </g>\n",
       "   </g>\n",
       "   <g id=\"LineCollection_1\">\n",
       "    <path d=\"M 86.373722 42.409503 \n",
       "L 86.373722 38.082136 \n",
       "\" clip-path=\"url(#p4768d93a16)\" style=\"fill: none; stroke: #1f77b4; stroke-width: 1.5\"/>\n",
       "    <path d=\"M 102.226088 58.266949 \n",
       "L 102.226088 55.150219 \n",
       "\" clip-path=\"url(#p4768d93a16)\" style=\"fill: none; stroke: #1f77b4; stroke-width: 1.5\"/>\n",
       "    <path d=\"M 118.845124 86.295119 \n",
       "L 118.845124 83.635793 \n",
       "\" clip-path=\"url(#p4768d93a16)\" style=\"fill: none; stroke: #1f77b4; stroke-width: 1.5\"/>\n",
       "    <path d=\"M 217.072506 143.846822 \n",
       "L 217.072506 135.817388 \n",
       "\" clip-path=\"url(#p4768d93a16)\" style=\"fill: none; stroke: #1f77b4; stroke-width: 1.5\"/>\n",
       "    <path d=\"M 232.968584 143.271735 \n",
       "L 232.968584 138.897251 \n",
       "\" clip-path=\"url(#p4768d93a16)\" style=\"fill: none; stroke: #1f77b4; stroke-width: 1.5\"/>\n",
       "    <path d=\"M 249.576457 131.01429 \n",
       "L 249.576457 125.444533 \n",
       "\" clip-path=\"url(#p4768d93a16)\" style=\"fill: none; stroke: #1f77b4; stroke-width: 1.5\"/>\n",
       "    <path d=\"M 265.095132 119.549149 \n",
       "L 265.095132 115.556949 \n",
       "\" clip-path=\"url(#p4768d93a16)\" style=\"fill: none; stroke: #1f77b4; stroke-width: 1.5\"/>\n",
       "    <path d=\"M 282.015442 130.243437 \n",
       "L 282.015442 121.751725 \n",
       "\" clip-path=\"url(#p4768d93a16)\" style=\"fill: none; stroke: #1f77b4; stroke-width: 1.5\"/>\n",
       "    <path d=\"M 297.11702 147.89546 \n",
       "L 297.11702 141.121412 \n",
       "\" clip-path=\"url(#p4768d93a16)\" style=\"fill: none; stroke: #1f77b4; stroke-width: 1.5\"/>\n",
       "    <path d=\"M 314.691133 155.893147 \n",
       "L 314.691133 151.707098 \n",
       "\" clip-path=\"url(#p4768d93a16)\" style=\"fill: none; stroke: #1f77b4; stroke-width: 1.5\"/>\n",
       "    <path d=\"M 329.54777 162.646528 \n",
       "L 329.54777 155.260313 \n",
       "\" clip-path=\"url(#p4768d93a16)\" style=\"fill: none; stroke: #1f77b4; stroke-width: 1.5\"/>\n",
       "    <path d=\"M 347.36467 157.69499 \n",
       "L 347.36467 149.999258 \n",
       "\" clip-path=\"url(#p4768d93a16)\" style=\"fill: none; stroke: #1f77b4; stroke-width: 1.5\"/>\n",
       "    <path d=\"M 361.746406 163.7262 \n",
       "L 361.746406 157.645354 \n",
       "\" clip-path=\"url(#p4768d93a16)\" style=\"fill: none; stroke: #1f77b4; stroke-width: 1.5\"/>\n",
       "    <path d=\"M 379.932549 147.0107 \n",
       "L 379.932549 142.446347 \n",
       "\" clip-path=\"url(#p4768d93a16)\" style=\"fill: none; stroke: #1f77b4; stroke-width: 1.5\"/>\n",
       "    <path d=\"M 394.279789 147.58909 \n",
       "L 394.279789 141.813156 \n",
       "\" clip-path=\"url(#p4768d93a16)\" style=\"fill: none; stroke: #1f77b4; stroke-width: 1.5\"/>\n",
       "    <path d=\"M 412.667801 139.407941 \n",
       "L 412.667801 134.065916 \n",
       "\" clip-path=\"url(#p4768d93a16)\" style=\"fill: none; stroke: #1f77b4; stroke-width: 1.5\"/>\n",
       "    <path d=\"M 426.935765 153.159394 \n",
       "L 426.935765 148.115968 \n",
       "\" clip-path=\"url(#p4768d93a16)\" style=\"fill: none; stroke: #1f77b4; stroke-width: 1.5\"/>\n",
       "    <path d=\"M 445.206947 179.5884 \n",
       "L 445.206947 174.546234 \n",
       "\" clip-path=\"url(#p4768d93a16)\" style=\"fill: none; stroke: #1f77b4; stroke-width: 1.5\"/>\n",
       "    <path d=\"M 459.601799 201.05727 \n",
       "L 459.601799 197.441734 \n",
       "\" clip-path=\"url(#p4768d93a16)\" style=\"fill: none; stroke: #1f77b4; stroke-width: 1.5\"/>\n",
       "    <path d=\"M 477.791178 212.957915 \n",
       "L 477.791178 204.693786 \n",
       "\" clip-path=\"url(#p4768d93a16)\" style=\"fill: none; stroke: #1f77b4; stroke-width: 1.5\"/>\n",
       "    <path d=\"M 492.191903 199.020004 \n",
       "L 492.191903 193.246582 \n",
       "\" clip-path=\"url(#p4768d93a16)\" style=\"fill: none; stroke: #1f77b4; stroke-width: 1.5\"/>\n",
       "   </g>\n",
       "   <g id=\"LineCollection_2\">\n",
       "    <path d=\"M 86.373722 46.246645 \n",
       "L 86.373722 39.755756 \n",
       "\" clip-path=\"url(#p4768d93a16)\" style=\"fill: none; stroke: #ff7f0e; stroke-width: 1.5\"/>\n",
       "    <path d=\"M 102.226088 57.667428 \n",
       "L 102.226088 53.237321 \n",
       "\" clip-path=\"url(#p4768d93a16)\" style=\"fill: none; stroke: #ff7f0e; stroke-width: 1.5\"/>\n",
       "    <path d=\"M 118.845124 83.332983 \n",
       "L 118.845124 76.774582 \n",
       "\" clip-path=\"url(#p4768d93a16)\" style=\"fill: none; stroke: #ff7f0e; stroke-width: 1.5\"/>\n",
       "    <path d=\"M 217.072506 159.458915 \n",
       "L 217.072506 152.470984 \n",
       "\" clip-path=\"url(#p4768d93a16)\" style=\"fill: none; stroke: #ff7f0e; stroke-width: 1.5\"/>\n",
       "    <path d=\"M 232.968584 155.016949 \n",
       "L 232.968584 150.054307 \n",
       "\" clip-path=\"url(#p4768d93a16)\" style=\"fill: none; stroke: #ff7f0e; stroke-width: 1.5\"/>\n",
       "    <path d=\"M 249.576457 146.541092 \n",
       "L 249.576457 140.446804 \n",
       "\" clip-path=\"url(#p4768d93a16)\" style=\"fill: none; stroke: #ff7f0e; stroke-width: 1.5\"/>\n",
       "    <path d=\"M 265.095132 143.412497 \n",
       "L 265.095132 135.982807 \n",
       "\" clip-path=\"url(#p4768d93a16)\" style=\"fill: none; stroke: #ff7f0e; stroke-width: 1.5\"/>\n",
       "    <path d=\"M 282.015442 143.970885 \n",
       "L 282.015442 135.789618 \n",
       "\" clip-path=\"url(#p4768d93a16)\" style=\"fill: none; stroke: #ff7f0e; stroke-width: 1.5\"/>\n",
       "    <path d=\"M 297.11702 159.571068 \n",
       "L 297.11702 153.428957 \n",
       "\" clip-path=\"url(#p4768d93a16)\" style=\"fill: none; stroke: #ff7f0e; stroke-width: 1.5\"/>\n",
       "    <path d=\"M 314.691133 168.828335 \n",
       "L 314.691133 162.336178 \n",
       "\" clip-path=\"url(#p4768d93a16)\" style=\"fill: none; stroke: #ff7f0e; stroke-width: 1.5\"/>\n",
       "    <path d=\"M 329.54777 175.885646 \n",
       "L 329.54777 170.808331 \n",
       "\" clip-path=\"url(#p4768d93a16)\" style=\"fill: none; stroke: #ff7f0e; stroke-width: 1.5\"/>\n",
       "    <path d=\"M 347.36467 174.933385 \n",
       "L 347.36467 169.347389 \n",
       "\" clip-path=\"url(#p4768d93a16)\" style=\"fill: none; stroke: #ff7f0e; stroke-width: 1.5\"/>\n",
       "    <path d=\"M 361.746406 185.037557 \n",
       "L 361.746406 178.547545 \n",
       "\" clip-path=\"url(#p4768d93a16)\" style=\"fill: none; stroke: #ff7f0e; stroke-width: 1.5\"/>\n",
       "    <path d=\"M 379.932549 170.03207 \n",
       "L 379.932549 163.277003 \n",
       "\" clip-path=\"url(#p4768d93a16)\" style=\"fill: none; stroke: #ff7f0e; stroke-width: 1.5\"/>\n",
       "    <path d=\"M 394.279789 182.911263 \n",
       "L 394.279789 173.203977 \n",
       "\" clip-path=\"url(#p4768d93a16)\" style=\"fill: none; stroke: #ff7f0e; stroke-width: 1.5\"/>\n",
       "    <path d=\"M 412.667801 165.747431 \n",
       "L 412.667801 156.76457 \n",
       "\" clip-path=\"url(#p4768d93a16)\" style=\"fill: none; stroke: #ff7f0e; stroke-width: 1.5\"/>\n",
       "    <path d=\"M 426.935765 186.343192 \n",
       "L 426.935765 179.662291 \n",
       "\" clip-path=\"url(#p4768d93a16)\" style=\"fill: none; stroke: #ff7f0e; stroke-width: 1.5\"/>\n",
       "    <path d=\"M 445.206947 201.08842 \n",
       "L 445.206947 189.964716 \n",
       "\" clip-path=\"url(#p4768d93a16)\" style=\"fill: none; stroke: #ff7f0e; stroke-width: 1.5\"/>\n",
       "    <path d=\"M 459.601799 225.650496 \n",
       "L 459.601799 211.086505 \n",
       "\" clip-path=\"url(#p4768d93a16)\" style=\"fill: none; stroke: #ff7f0e; stroke-width: 1.5\"/>\n",
       "    <path d=\"M 477.791178 235.754864 \n",
       "L 477.791178 224.146096 \n",
       "\" clip-path=\"url(#p4768d93a16)\" style=\"fill: none; stroke: #ff7f0e; stroke-width: 1.5\"/>\n",
       "    <path d=\"M 492.191903 231.630346 \n",
       "L 492.191903 221.403883 \n",
       "\" clip-path=\"url(#p4768d93a16)\" style=\"fill: none; stroke: #ff7f0e; stroke-width: 1.5\"/>\n",
       "   </g>\n",
       "   <g id=\"line2d_11\">\n",
       "    <path d=\"M 86.373722 40.24582 \n",
       "L 102.226088 56.708584 \n",
       "L 118.845124 84.965456 \n",
       "L 217.072506 139.832105 \n",
       "L 232.968584 141.084493 \n",
       "L 249.576457 128.229411 \n",
       "L 265.095132 117.553049 \n",
       "L 282.015442 125.997581 \n",
       "L 297.11702 144.508436 \n",
       "L 314.691133 153.800123 \n",
       "L 329.54777 158.95342 \n",
       "L 347.36467 153.847124 \n",
       "L 361.746406 160.685777 \n",
       "L 379.932549 144.728523 \n",
       "L 394.279789 144.701123 \n",
       "L 412.667801 136.736929 \n",
       "L 426.935765 150.637681 \n",
       "L 445.206947 177.067317 \n",
       "L 459.601799 199.249502 \n",
       "L 477.791178 208.825851 \n",
       "L 492.191903 196.133293 \n",
       "\" clip-path=\"url(#p4768d93a16)\" style=\"fill: none; stroke-dasharray: 1.5,2.475; stroke-dashoffset: 0; stroke: #1f77b4; stroke-width: 1.5\"/>\n",
       "    <defs>\n",
       "     <path id=\"m0d47ecba03\" d=\"M 0 -3 \n",
       "L -0.673542 -0.927051 \n",
       "L -2.85317 -0.927051 \n",
       "L -1.089814 0.354102 \n",
       "L -1.763356 2.427051 \n",
       "L -0 1.145898 \n",
       "L 1.763356 2.427051 \n",
       "L 1.089814 0.354102 \n",
       "L 2.85317 -0.927051 \n",
       "L 0.673542 -0.927051 \n",
       "z\n",
       "\" style=\"stroke: #1f77b4; stroke-linejoin: bevel\"/>\n",
       "    </defs>\n",
       "    <g clip-path=\"url(#p4768d93a16)\">\n",
       "     <use xlink:href=\"#m0d47ecba03\" x=\"86.373722\" y=\"40.24582\" style=\"fill: #1f77b4; stroke: #1f77b4; stroke-linejoin: bevel\"/>\n",
       "     <use xlink:href=\"#m0d47ecba03\" x=\"102.226088\" y=\"56.708584\" style=\"fill: #1f77b4; stroke: #1f77b4; stroke-linejoin: bevel\"/>\n",
       "     <use xlink:href=\"#m0d47ecba03\" x=\"118.845124\" y=\"84.965456\" style=\"fill: #1f77b4; stroke: #1f77b4; stroke-linejoin: bevel\"/>\n",
       "     <use xlink:href=\"#m0d47ecba03\" x=\"217.072506\" y=\"139.832105\" style=\"fill: #1f77b4; stroke: #1f77b4; stroke-linejoin: bevel\"/>\n",
       "     <use xlink:href=\"#m0d47ecba03\" x=\"232.968584\" y=\"141.084493\" style=\"fill: #1f77b4; stroke: #1f77b4; stroke-linejoin: bevel\"/>\n",
       "     <use xlink:href=\"#m0d47ecba03\" x=\"249.576457\" y=\"128.229411\" style=\"fill: #1f77b4; stroke: #1f77b4; stroke-linejoin: bevel\"/>\n",
       "     <use xlink:href=\"#m0d47ecba03\" x=\"265.095132\" y=\"117.553049\" style=\"fill: #1f77b4; stroke: #1f77b4; stroke-linejoin: bevel\"/>\n",
       "     <use xlink:href=\"#m0d47ecba03\" x=\"282.015442\" y=\"125.997581\" style=\"fill: #1f77b4; stroke: #1f77b4; stroke-linejoin: bevel\"/>\n",
       "     <use xlink:href=\"#m0d47ecba03\" x=\"297.11702\" y=\"144.508436\" style=\"fill: #1f77b4; stroke: #1f77b4; stroke-linejoin: bevel\"/>\n",
       "     <use xlink:href=\"#m0d47ecba03\" x=\"314.691133\" y=\"153.800123\" style=\"fill: #1f77b4; stroke: #1f77b4; stroke-linejoin: bevel\"/>\n",
       "     <use xlink:href=\"#m0d47ecba03\" x=\"329.54777\" y=\"158.95342\" style=\"fill: #1f77b4; stroke: #1f77b4; stroke-linejoin: bevel\"/>\n",
       "     <use xlink:href=\"#m0d47ecba03\" x=\"347.36467\" y=\"153.847124\" style=\"fill: #1f77b4; stroke: #1f77b4; stroke-linejoin: bevel\"/>\n",
       "     <use xlink:href=\"#m0d47ecba03\" x=\"361.746406\" y=\"160.685777\" style=\"fill: #1f77b4; stroke: #1f77b4; stroke-linejoin: bevel\"/>\n",
       "     <use xlink:href=\"#m0d47ecba03\" x=\"379.932549\" y=\"144.728523\" style=\"fill: #1f77b4; stroke: #1f77b4; stroke-linejoin: bevel\"/>\n",
       "     <use xlink:href=\"#m0d47ecba03\" x=\"394.279789\" y=\"144.701123\" style=\"fill: #1f77b4; stroke: #1f77b4; stroke-linejoin: bevel\"/>\n",
       "     <use xlink:href=\"#m0d47ecba03\" x=\"412.667801\" y=\"136.736929\" style=\"fill: #1f77b4; stroke: #1f77b4; stroke-linejoin: bevel\"/>\n",
       "     <use xlink:href=\"#m0d47ecba03\" x=\"426.935765\" y=\"150.637681\" style=\"fill: #1f77b4; stroke: #1f77b4; stroke-linejoin: bevel\"/>\n",
       "     <use xlink:href=\"#m0d47ecba03\" x=\"445.206947\" y=\"177.067317\" style=\"fill: #1f77b4; stroke: #1f77b4; stroke-linejoin: bevel\"/>\n",
       "     <use xlink:href=\"#m0d47ecba03\" x=\"459.601799\" y=\"199.249502\" style=\"fill: #1f77b4; stroke: #1f77b4; stroke-linejoin: bevel\"/>\n",
       "     <use xlink:href=\"#m0d47ecba03\" x=\"477.791178\" y=\"208.825851\" style=\"fill: #1f77b4; stroke: #1f77b4; stroke-linejoin: bevel\"/>\n",
       "     <use xlink:href=\"#m0d47ecba03\" x=\"492.191903\" y=\"196.133293\" style=\"fill: #1f77b4; stroke: #1f77b4; stroke-linejoin: bevel\"/>\n",
       "    </g>\n",
       "   </g>\n",
       "   <g id=\"line2d_12\">\n",
       "    <path d=\"M 86.373722 43.001201 \n",
       "L 102.226088 55.452374 \n",
       "L 118.845124 80.053783 \n",
       "L 217.072506 155.96495 \n",
       "L 232.968584 152.535628 \n",
       "L 249.576457 143.493948 \n",
       "L 265.095132 139.697652 \n",
       "L 282.015442 139.880251 \n",
       "L 297.11702 156.500013 \n",
       "L 314.691133 165.582256 \n",
       "L 329.54777 173.346989 \n",
       "L 347.36467 172.140387 \n",
       "L 361.746406 181.792551 \n",
       "L 379.932549 166.654536 \n",
       "L 394.279789 178.05762 \n",
       "L 412.667801 161.256 \n",
       "L 426.935765 183.002741 \n",
       "L 445.206947 195.526568 \n",
       "L 459.601799 218.3685 \n",
       "L 477.791178 229.95048 \n",
       "L 492.191903 226.517115 \n",
       "\" clip-path=\"url(#p4768d93a16)\" style=\"fill: none; stroke-dasharray: 1.5,2.475; stroke-dashoffset: 0; stroke: #ff7f0e; stroke-width: 1.5\"/>\n",
       "    <defs>\n",
       "     <path id=\"mfbeadc4be7\" d=\"M 0 -3 \n",
       "L -0.673542 -0.927051 \n",
       "L -2.85317 -0.927051 \n",
       "L -1.089814 0.354102 \n",
       "L -1.763356 2.427051 \n",
       "L -0 1.145898 \n",
       "L 1.763356 2.427051 \n",
       "L 1.089814 0.354102 \n",
       "L 2.85317 -0.927051 \n",
       "L 0.673542 -0.927051 \n",
       "z\n",
       "\" style=\"stroke: #ff7f0e; stroke-linejoin: bevel\"/>\n",
       "    </defs>\n",
       "    <g clip-path=\"url(#p4768d93a16)\">\n",
       "     <use xlink:href=\"#mfbeadc4be7\" x=\"86.373722\" y=\"43.001201\" style=\"fill: #ff7f0e; stroke: #ff7f0e; stroke-linejoin: bevel\"/>\n",
       "     <use xlink:href=\"#mfbeadc4be7\" x=\"102.226088\" y=\"55.452374\" style=\"fill: #ff7f0e; stroke: #ff7f0e; stroke-linejoin: bevel\"/>\n",
       "     <use xlink:href=\"#mfbeadc4be7\" x=\"118.845124\" y=\"80.053783\" style=\"fill: #ff7f0e; stroke: #ff7f0e; stroke-linejoin: bevel\"/>\n",
       "     <use xlink:href=\"#mfbeadc4be7\" x=\"217.072506\" y=\"155.96495\" style=\"fill: #ff7f0e; stroke: #ff7f0e; stroke-linejoin: bevel\"/>\n",
       "     <use xlink:href=\"#mfbeadc4be7\" x=\"232.968584\" y=\"152.535628\" style=\"fill: #ff7f0e; stroke: #ff7f0e; stroke-linejoin: bevel\"/>\n",
       "     <use xlink:href=\"#mfbeadc4be7\" x=\"249.576457\" y=\"143.493948\" style=\"fill: #ff7f0e; stroke: #ff7f0e; stroke-linejoin: bevel\"/>\n",
       "     <use xlink:href=\"#mfbeadc4be7\" x=\"265.095132\" y=\"139.697652\" style=\"fill: #ff7f0e; stroke: #ff7f0e; stroke-linejoin: bevel\"/>\n",
       "     <use xlink:href=\"#mfbeadc4be7\" x=\"282.015442\" y=\"139.880251\" style=\"fill: #ff7f0e; stroke: #ff7f0e; stroke-linejoin: bevel\"/>\n",
       "     <use xlink:href=\"#mfbeadc4be7\" x=\"297.11702\" y=\"156.500013\" style=\"fill: #ff7f0e; stroke: #ff7f0e; stroke-linejoin: bevel\"/>\n",
       "     <use xlink:href=\"#mfbeadc4be7\" x=\"314.691133\" y=\"165.582256\" style=\"fill: #ff7f0e; stroke: #ff7f0e; stroke-linejoin: bevel\"/>\n",
       "     <use xlink:href=\"#mfbeadc4be7\" x=\"329.54777\" y=\"173.346989\" style=\"fill: #ff7f0e; stroke: #ff7f0e; stroke-linejoin: bevel\"/>\n",
       "     <use xlink:href=\"#mfbeadc4be7\" x=\"347.36467\" y=\"172.140387\" style=\"fill: #ff7f0e; stroke: #ff7f0e; stroke-linejoin: bevel\"/>\n",
       "     <use xlink:href=\"#mfbeadc4be7\" x=\"361.746406\" y=\"181.792551\" style=\"fill: #ff7f0e; stroke: #ff7f0e; stroke-linejoin: bevel\"/>\n",
       "     <use xlink:href=\"#mfbeadc4be7\" x=\"379.932549\" y=\"166.654536\" style=\"fill: #ff7f0e; stroke: #ff7f0e; stroke-linejoin: bevel\"/>\n",
       "     <use xlink:href=\"#mfbeadc4be7\" x=\"394.279789\" y=\"178.05762\" style=\"fill: #ff7f0e; stroke: #ff7f0e; stroke-linejoin: bevel\"/>\n",
       "     <use xlink:href=\"#mfbeadc4be7\" x=\"412.667801\" y=\"161.256\" style=\"fill: #ff7f0e; stroke: #ff7f0e; stroke-linejoin: bevel\"/>\n",
       "     <use xlink:href=\"#mfbeadc4be7\" x=\"426.935765\" y=\"183.002741\" style=\"fill: #ff7f0e; stroke: #ff7f0e; stroke-linejoin: bevel\"/>\n",
       "     <use xlink:href=\"#mfbeadc4be7\" x=\"445.206947\" y=\"195.526568\" style=\"fill: #ff7f0e; stroke: #ff7f0e; stroke-linejoin: bevel\"/>\n",
       "     <use xlink:href=\"#mfbeadc4be7\" x=\"459.601799\" y=\"218.3685\" style=\"fill: #ff7f0e; stroke: #ff7f0e; stroke-linejoin: bevel\"/>\n",
       "     <use xlink:href=\"#mfbeadc4be7\" x=\"477.791178\" y=\"229.95048\" style=\"fill: #ff7f0e; stroke: #ff7f0e; stroke-linejoin: bevel\"/>\n",
       "     <use xlink:href=\"#mfbeadc4be7\" x=\"492.191903\" y=\"226.517115\" style=\"fill: #ff7f0e; stroke: #ff7f0e; stroke-linejoin: bevel\"/>\n",
       "    </g>\n",
       "   </g>\n",
       "   <g id=\"patch_3\">\n",
       "    <path d=\"M 66.082813 245.6385 \n",
       "L 66.082813 28.1985 \n",
       "\" style=\"fill: none; stroke: #000000; stroke-width: 2; stroke-linejoin: miter; stroke-linecap: square\"/>\n",
       "   </g>\n",
       "   <g id=\"patch_4\">\n",
       "    <path d=\"M 512.482813 245.6385 \n",
       "L 512.482813 28.1985 \n",
       "\" style=\"fill: none; stroke: #000000; stroke-width: 2; stroke-linejoin: miter; stroke-linecap: square\"/>\n",
       "   </g>\n",
       "   <g id=\"patch_5\">\n",
       "    <path d=\"M 66.082812 245.6385 \n",
       "L 512.482812 245.6385 \n",
       "\" style=\"fill: none; stroke: #000000; stroke-width: 2; stroke-linejoin: miter; stroke-linecap: square\"/>\n",
       "   </g>\n",
       "   <g id=\"patch_6\">\n",
       "    <path d=\"M 66.082812 28.1985 \n",
       "L 512.482812 28.1985 \n",
       "\" style=\"fill: none; stroke: #000000; stroke-width: 2; stroke-linejoin: miter; stroke-linecap: square\"/>\n",
       "   </g>\n",
       "   <g id=\"text_13\">\n",
       "    <!-- SDSSJ141535.46+022338.7 z=0.3519 -->\n",
       "    <g transform=\"translate(123.487625 22.1985) scale(0.216 -0.216)\">\n",
       "     <defs>\n",
       "      <path id=\"TimesNewRomanPSMT-53\" d=\"M 2934 4334 \n",
       "L 2934 2869 \n",
       "L 2819 2869 \n",
       "Q 2763 3291 2617 3541 \n",
       "Q 2472 3791 2203 3937 \n",
       "Q 1934 4084 1647 4084 \n",
       "Q 1322 4084 1109 3886 \n",
       "Q 897 3688 897 3434 \n",
       "Q 897 3241 1031 3081 \n",
       "Q 1225 2847 1953 2456 \n",
       "Q 2547 2138 2764 1967 \n",
       "Q 2981 1797 3098 1565 \n",
       "Q 3216 1334 3216 1081 \n",
       "Q 3216 600 2842 251 \n",
       "Q 2469 -97 1881 -97 \n",
       "Q 1697 -97 1534 -69 \n",
       "Q 1438 -53 1133 45 \n",
       "Q 828 144 747 144 \n",
       "Q 669 144 623 97 \n",
       "Q 578 50 556 -97 \n",
       "L 441 -97 \n",
       "L 441 1356 \n",
       "L 556 1356 \n",
       "Q 638 900 775 673 \n",
       "Q 913 447 1195 297 \n",
       "Q 1478 147 1816 147 \n",
       "Q 2206 147 2432 353 \n",
       "Q 2659 559 2659 841 \n",
       "Q 2659 997 2573 1156 \n",
       "Q 2488 1316 2306 1453 \n",
       "Q 2184 1547 1640 1851 \n",
       "Q 1097 2156 867 2337 \n",
       "Q 638 2519 519 2737 \n",
       "Q 400 2956 400 3219 \n",
       "Q 400 3675 750 4004 \n",
       "Q 1100 4334 1641 4334 \n",
       "Q 1978 4334 2356 4169 \n",
       "Q 2531 4091 2603 4091 \n",
       "Q 2684 4091 2736 4139 \n",
       "Q 2788 4188 2819 4334 \n",
       "L 2934 4334 \n",
       "z\n",
       "\" transform=\"scale(0.015625)\"/>\n",
       "      <path id=\"TimesNewRomanPSMT-31\" d=\"M 750 3822 \n",
       "L 1781 4325 \n",
       "L 1884 4325 \n",
       "L 1884 747 \n",
       "Q 1884 391 1914 303 \n",
       "Q 1944 216 2037 169 \n",
       "Q 2131 122 2419 116 \n",
       "L 2419 0 \n",
       "L 825 0 \n",
       "L 825 116 \n",
       "Q 1125 122 1212 167 \n",
       "Q 1300 213 1334 289 \n",
       "Q 1369 366 1369 747 \n",
       "L 1369 3034 \n",
       "Q 1369 3497 1338 3628 \n",
       "Q 1316 3728 1258 3775 \n",
       "Q 1200 3822 1119 3822 \n",
       "Q 1003 3822 797 3725 \n",
       "L 750 3822 \n",
       "z\n",
       "\" transform=\"scale(0.015625)\"/>\n",
       "      <path id=\"TimesNewRomanPSMT-33\" d=\"M 325 3431 \n",
       "Q 506 3859 782 4092 \n",
       "Q 1059 4325 1472 4325 \n",
       "Q 1981 4325 2253 3994 \n",
       "Q 2459 3747 2459 3466 \n",
       "Q 2459 3003 1878 2509 \n",
       "Q 2269 2356 2469 2072 \n",
       "Q 2669 1788 2669 1403 \n",
       "Q 2669 853 2319 450 \n",
       "Q 1863 -75 997 -75 \n",
       "Q 569 -75 414 31 \n",
       "Q 259 138 259 259 \n",
       "Q 259 350 332 419 \n",
       "Q 406 488 509 488 \n",
       "Q 588 488 669 463 \n",
       "Q 722 447 909 348 \n",
       "Q 1097 250 1169 231 \n",
       "Q 1284 197 1416 197 \n",
       "Q 1734 197 1970 444 \n",
       "Q 2206 691 2206 1028 \n",
       "Q 2206 1275 2097 1509 \n",
       "Q 2016 1684 1919 1775 \n",
       "Q 1784 1900 1550 2001 \n",
       "Q 1316 2103 1072 2103 \n",
       "L 972 2103 \n",
       "L 972 2197 \n",
       "Q 1219 2228 1467 2375 \n",
       "Q 1716 2522 1828 2728 \n",
       "Q 1941 2934 1941 3181 \n",
       "Q 1941 3503 1739 3701 \n",
       "Q 1538 3900 1238 3900 \n",
       "Q 753 3900 428 3381 \n",
       "L 325 3431 \n",
       "z\n",
       "\" transform=\"scale(0.015625)\"/>\n",
       "      <path id=\"TimesNewRomanPSMT-2b\" d=\"M 1672 441 \n",
       "L 1672 2000 \n",
       "L 116 2000 \n",
       "L 116 2256 \n",
       "L 1672 2256 \n",
       "L 1672 3809 \n",
       "L 1922 3809 \n",
       "L 1922 2256 \n",
       "L 3484 2256 \n",
       "L 3484 2000 \n",
       "L 1922 2000 \n",
       "L 1922 441 \n",
       "L 1672 441 \n",
       "z\n",
       "\" transform=\"scale(0.015625)\"/>\n",
       "      <path id=\"TimesNewRomanPSMT-32\" d=\"M 2934 816 \n",
       "L 2638 0 \n",
       "L 138 0 \n",
       "L 138 116 \n",
       "Q 1241 1122 1691 1759 \n",
       "Q 2141 2397 2141 2925 \n",
       "Q 2141 3328 1894 3587 \n",
       "Q 1647 3847 1303 3847 \n",
       "Q 991 3847 742 3664 \n",
       "Q 494 3481 375 3128 \n",
       "L 259 3128 \n",
       "Q 338 3706 661 4015 \n",
       "Q 984 4325 1469 4325 \n",
       "Q 1984 4325 2329 3994 \n",
       "Q 2675 3663 2675 3213 \n",
       "Q 2675 2891 2525 2569 \n",
       "Q 2294 2063 1775 1497 \n",
       "Q 997 647 803 472 \n",
       "L 1909 472 \n",
       "Q 2247 472 2383 497 \n",
       "Q 2519 522 2628 598 \n",
       "Q 2738 675 2819 816 \n",
       "L 2934 816 \n",
       "z\n",
       "\" transform=\"scale(0.015625)\"/>\n",
       "      <path id=\"TimesNewRomanPSMT-20\" transform=\"scale(0.015625)\"/>\n",
       "      <path id=\"TimesNewRomanPSMT-7a\" d=\"M 2688 878 \n",
       "L 2653 0 \n",
       "L 128 0 \n",
       "L 128 113 \n",
       "L 2028 2644 \n",
       "L 1091 2644 \n",
       "Q 788 2644 694 2605 \n",
       "Q 600 2566 541 2456 \n",
       "Q 456 2300 444 2069 \n",
       "L 319 2069 \n",
       "L 338 2863 \n",
       "L 2738 2863 \n",
       "L 2738 2747 \n",
       "L 819 209 \n",
       "L 1863 209 \n",
       "Q 2191 209 2308 264 \n",
       "Q 2425 319 2497 456 \n",
       "Q 2547 556 2581 878 \n",
       "L 2688 878 \n",
       "z\n",
       "\" transform=\"scale(0.015625)\"/>\n",
       "      <path id=\"TimesNewRomanPSMT-3d\" d=\"M 116 2759 \n",
       "L 3488 2759 \n",
       "L 3488 2503 \n",
       "L 116 2503 \n",
       "L 116 2759 \n",
       "z\n",
       "M 116 1741 \n",
       "L 3488 1741 \n",
       "L 3488 1484 \n",
       "L 116 1484 \n",
       "L 116 1741 \n",
       "z\n",
       "\" transform=\"scale(0.015625)\"/>\n",
       "     </defs>\n",
       "     <use xlink:href=\"#TimesNewRomanPSMT-53\"/>\n",
       "     <use xlink:href=\"#TimesNewRomanPSMT-44\" x=\"55.615234\"/>\n",
       "     <use xlink:href=\"#TimesNewRomanPSMT-53\" x=\"127.832031\"/>\n",
       "     <use xlink:href=\"#TimesNewRomanPSMT-53\" x=\"183.447266\"/>\n",
       "     <use xlink:href=\"#TimesNewRomanPSMT-4a\" x=\"239.0625\"/>\n",
       "     <use xlink:href=\"#TimesNewRomanPSMT-31\" x=\"277.978516\"/>\n",
       "     <use xlink:href=\"#TimesNewRomanPSMT-34\" x=\"327.978516\"/>\n",
       "     <use xlink:href=\"#TimesNewRomanPSMT-31\" x=\"377.978516\"/>\n",
       "     <use xlink:href=\"#TimesNewRomanPSMT-35\" x=\"427.978516\"/>\n",
       "     <use xlink:href=\"#TimesNewRomanPSMT-33\" x=\"477.978516\"/>\n",
       "     <use xlink:href=\"#TimesNewRomanPSMT-35\" x=\"527.978516\"/>\n",
       "     <use xlink:href=\"#TimesNewRomanPSMT-2e\" x=\"577.978516\"/>\n",
       "     <use xlink:href=\"#TimesNewRomanPSMT-34\" x=\"602.978516\"/>\n",
       "     <use xlink:href=\"#TimesNewRomanPSMT-36\" x=\"652.978516\"/>\n",
       "     <use xlink:href=\"#TimesNewRomanPSMT-2b\" x=\"702.978516\"/>\n",
       "     <use xlink:href=\"#TimesNewRomanPSMT-30\" x=\"759.375\"/>\n",
       "     <use xlink:href=\"#TimesNewRomanPSMT-32\" x=\"809.375\"/>\n",
       "     <use xlink:href=\"#TimesNewRomanPSMT-32\" x=\"859.375\"/>\n",
       "     <use xlink:href=\"#TimesNewRomanPSMT-33\" x=\"909.375\"/>\n",
       "     <use xlink:href=\"#TimesNewRomanPSMT-33\" x=\"959.375\"/>\n",
       "     <use xlink:href=\"#TimesNewRomanPSMT-38\" x=\"1009.375\"/>\n",
       "     <use xlink:href=\"#TimesNewRomanPSMT-2e\" x=\"1059.375\"/>\n",
       "     <use xlink:href=\"#TimesNewRomanPSMT-37\" x=\"1084.375\"/>\n",
       "     <use xlink:href=\"#TimesNewRomanPSMT-20\" x=\"1134.375\"/>\n",
       "     <use xlink:href=\"#TimesNewRomanPSMT-7a\" x=\"1159.375\"/>\n",
       "     <use xlink:href=\"#TimesNewRomanPSMT-3d\" x=\"1203.759766\"/>\n",
       "     <use xlink:href=\"#TimesNewRomanPSMT-30\" x=\"1260.15625\"/>\n",
       "     <use xlink:href=\"#TimesNewRomanPSMT-2e\" x=\"1310.15625\"/>\n",
       "     <use xlink:href=\"#TimesNewRomanPSMT-33\" x=\"1335.15625\"/>\n",
       "     <use xlink:href=\"#TimesNewRomanPSMT-35\" x=\"1385.15625\"/>\n",
       "     <use xlink:href=\"#TimesNewRomanPSMT-31\" x=\"1435.15625\"/>\n",
       "     <use xlink:href=\"#TimesNewRomanPSMT-39\" x=\"1485.15625\"/>\n",
       "    </g>\n",
       "   </g>\n",
       "   <g id=\"legend_1\">\n",
       "    <g id=\"patch_7\">\n",
       "     <path d=\"M 78.246813 70.278838 \n",
       "L 126.890875 70.278838 \n",
       "Q 129.090875 70.278838 129.090875 68.078838 \n",
       "L 129.090875 38.0729 \n",
       "Q 129.090875 35.8729 126.890875 35.8729 \n",
       "L 78.246813 35.8729 \n",
       "Q 76.046813 35.8729 76.046813 38.0729 \n",
       "L 76.046813 68.078838 \n",
       "Q 76.046813 70.278838 78.246813 70.278838 \n",
       "z\n",
       "\" style=\"fill: #ffffff; opacity: 0.8; stroke: #cccccc; stroke-linejoin: miter\"/>\n",
       "    </g>\n",
       "    <g id=\"LineCollection_3\">\n",
       "     <path d=\"M 91.446813 49.6229 \n",
       "L 91.446813 38.6229 \n",
       "\" style=\"fill: none; stroke: #1f77b4; stroke-width: 1.5\"/>\n",
       "    </g>\n",
       "    <g id=\"line2d_13\">\n",
       "     <path d=\"M 80.446813 44.1229 \n",
       "L 102.446813 44.1229 \n",
       "\" style=\"fill: none; stroke-dasharray: 1.5,2.475; stroke-dashoffset: 0; stroke: #1f77b4; stroke-width: 1.5\"/>\n",
       "    </g>\n",
       "    <g id=\"line2d_14\">\n",
       "     <g>\n",
       "      <use xlink:href=\"#m0d47ecba03\" x=\"91.446813\" y=\"44.1229\" style=\"fill: #1f77b4; stroke: #1f77b4; stroke-linejoin: bevel\"/>\n",
       "     </g>\n",
       "    </g>\n",
       "    <g id=\"text_14\">\n",
       "     <!-- w1 -->\n",
       "     <g transform=\"translate(111.246813 47.9729) scale(0.11 -0.11)\">\n",
       "      <defs>\n",
       "       <path id=\"TimesNewRomanPSMT-77\" d=\"M 41 2863 \n",
       "L 1241 2863 \n",
       "L 1241 2747 \n",
       "Q 1075 2734 1023 2687 \n",
       "Q 972 2641 972 2553 \n",
       "Q 972 2456 1025 2319 \n",
       "L 1638 672 \n",
       "L 2253 2013 \n",
       "L 2091 2434 \n",
       "Q 2016 2622 1894 2694 \n",
       "Q 1825 2738 1638 2747 \n",
       "L 1638 2863 \n",
       "L 3000 2863 \n",
       "L 3000 2747 \n",
       "Q 2775 2738 2681 2666 \n",
       "Q 2619 2616 2619 2506 \n",
       "Q 2619 2444 2644 2378 \n",
       "L 3294 734 \n",
       "L 3897 2319 \n",
       "Q 3959 2488 3959 2588 \n",
       "Q 3959 2647 3898 2694 \n",
       "Q 3838 2741 3659 2747 \n",
       "L 3659 2863 \n",
       "L 4563 2863 \n",
       "L 4563 2747 \n",
       "Q 4291 2706 4163 2378 \n",
       "L 3206 -88 \n",
       "L 3078 -88 \n",
       "L 2363 1741 \n",
       "L 1528 -88 \n",
       "L 1413 -88 \n",
       "L 494 2319 \n",
       "Q 403 2547 315 2626 \n",
       "Q 228 2706 41 2747 \n",
       "L 41 2863 \n",
       "z\n",
       "\" transform=\"scale(0.015625)\"/>\n",
       "      </defs>\n",
       "      <use xlink:href=\"#TimesNewRomanPSMT-77\"/>\n",
       "      <use xlink:href=\"#TimesNewRomanPSMT-31\" x=\"72.216797\"/>\n",
       "     </g>\n",
       "    </g>\n",
       "    <g id=\"LineCollection_4\">\n",
       "     <path d=\"M 91.446813 65.175869 \n",
       "L 91.446813 54.175869 \n",
       "\" style=\"fill: none; stroke: #ff7f0e; stroke-width: 1.5\"/>\n",
       "    </g>\n",
       "    <g id=\"line2d_15\">\n",
       "     <path d=\"M 80.446813 59.675869 \n",
       "L 102.446813 59.675869 \n",
       "\" style=\"fill: none; stroke-dasharray: 1.5,2.475; stroke-dashoffset: 0; stroke: #ff7f0e; stroke-width: 1.5\"/>\n",
       "    </g>\n",
       "    <g id=\"line2d_16\">\n",
       "     <g>\n",
       "      <use xlink:href=\"#mfbeadc4be7\" x=\"91.446813\" y=\"59.675869\" style=\"fill: #ff7f0e; stroke: #ff7f0e; stroke-linejoin: bevel\"/>\n",
       "     </g>\n",
       "    </g>\n",
       "    <g id=\"text_15\">\n",
       "     <!-- w2 -->\n",
       "     <g transform=\"translate(111.246813 63.525869) scale(0.11 -0.11)\">\n",
       "      <use xlink:href=\"#TimesNewRomanPSMT-77\"/>\n",
       "      <use xlink:href=\"#TimesNewRomanPSMT-32\" x=\"72.216797\"/>\n",
       "     </g>\n",
       "    </g>\n",
       "   </g>\n",
       "  </g>\n",
       " </g>\n",
       " <defs>\n",
       "  <clipPath id=\"p4768d93a16\">\n",
       "   <rect x=\"66.082813\" y=\"28.1985\" width=\"446.4\" height=\"217.44\"/>\n",
       "  </clipPath>\n",
       " </defs>\n",
       "</svg>\n"
      ],
      "text/plain": [
       "<Figure size 576x288 with 1 Axes>"
      ]
     },
     "metadata": {
      "needs_background": "light"
     },
     "output_type": "display_data"
    }
   ],
   "source": [
    "name='SDSSJ141535.46+022338.7'\n",
    "name=name.strip()\n",
    "D_cm_115103= cosmo.luminosity_distance(z=0.3519).to(u.cm)\n",
    "data_test_neo,data_test_mep=get_wise_data(name,wisedata_path)\n",
    "data_rebin_neo,data_rebin_mep=get_rebinwise_data(data_test_neo,data_test_mep)\n",
    "\n",
    "data_rebinflux_neo,data_rebinflux_mep=get_wiseflux_rebin(data_rebin_neo,data_rebin_mep,D_cm_115103)\n",
    "datalag_w1_115103,datalag_w2_115103=get_wise_lc(data_rebinflux_neo,data_rebinflux_mep)\n",
    "\n",
    "fig = plt.figure(figsize=(8,4))\n",
    "fig.subplots_adjust(hspace=0.0, wspace = 0.0)\n",
    "ax = fig.add_subplot(111)\n",
    "\n",
    "\n",
    "#BH_mass_115103=1e6*u.solMass\n",
    "#Ledd_115103=1.26*10**38*BH_mass_115103/u.solMass\n",
    "\n",
    "ax.errorbar(datalag_w1_115103['t'],datalag_w1_115103['flux'],datalag_w1_115103['err'],label='w1',ls=':',marker='*')\n",
    "ax.errorbar(datalag_w2_115103['t'],datalag_w2_115103['flux'],datalag_w2_115103['err'],label='w2',ls=':',marker='*')\n",
    "\n",
    "#ax.axhline(np.log10(Ledd_115103),ls='-.',label='Ledd') #+np.log10(9)\n",
    "ax.set_xlabel('MJD')\n",
    "ax.set_ylabel('log(L_MIR)')\n",
    "ax.set_title('%s z=0.3519'%name)\n",
    "set_ax_legend(ax,bbox_to_anchor=(0.01, 0.99))\n"
   ]
  },
  {
   "cell_type": "code",
   "execution_count": null,
   "metadata": {},
   "outputs": [],
   "source": []
  },
  {
   "cell_type": "code",
   "execution_count": null,
   "metadata": {},
   "outputs": [],
   "source": []
  },
  {
   "cell_type": "code",
   "execution_count": null,
   "metadata": {},
   "outputs": [],
   "source": []
  },
  {
   "cell_type": "code",
   "execution_count": null,
   "metadata": {},
   "outputs": [],
   "source": []
  },
  {
   "cell_type": "code",
   "execution_count": null,
   "metadata": {},
   "outputs": [],
   "source": []
  },
  {
   "cell_type": "code",
   "execution_count": 108,
   "metadata": {
    "ExecuteTime": {
     "end_time": "2023-08-18T13:19:32.545653Z",
     "start_time": "2023-08-18T13:18:53.789725Z"
    }
   },
   "outputs": [
    {
     "name": "stderr",
     "output_type": "stream",
     "text": [
      "/var/folders/jp/4mwsn7_x6j9gnv1hl1dztqth0000gn/T/ipykernel_2530/2398993980.py:38: FutureWarning: The frame.append method is deprecated and will be removed from pandas in a future version. Use pandas.concat instead.\n",
      "  data_remove=data_remove.append(data_remove_outlier,ignore_index=True)\n",
      "/var/folders/jp/4mwsn7_x6j9gnv1hl1dztqth0000gn/T/ipykernel_2530/2398993980.py:38: FutureWarning: The frame.append method is deprecated and will be removed from pandas in a future version. Use pandas.concat instead.\n",
      "  data_remove=data_remove.append(data_remove_outlier,ignore_index=True)\n",
      "/var/folders/jp/4mwsn7_x6j9gnv1hl1dztqth0000gn/T/ipykernel_2530/2398993980.py:38: FutureWarning: The frame.append method is deprecated and will be removed from pandas in a future version. Use pandas.concat instead.\n",
      "  data_remove=data_remove.append(data_remove_outlier,ignore_index=True)\n",
      "/var/folders/jp/4mwsn7_x6j9gnv1hl1dztqth0000gn/T/ipykernel_2530/2398993980.py:38: FutureWarning: The frame.append method is deprecated and will be removed from pandas in a future version. Use pandas.concat instead.\n",
      "  data_remove=data_remove.append(data_remove_outlier,ignore_index=True)\n",
      "/var/folders/jp/4mwsn7_x6j9gnv1hl1dztqth0000gn/T/ipykernel_2530/2398993980.py:38: FutureWarning: The frame.append method is deprecated and will be removed from pandas in a future version. Use pandas.concat instead.\n",
      "  data_remove=data_remove.append(data_remove_outlier,ignore_index=True)\n",
      "/var/folders/jp/4mwsn7_x6j9gnv1hl1dztqth0000gn/T/ipykernel_2530/2398993980.py:38: FutureWarning: The frame.append method is deprecated and will be removed from pandas in a future version. Use pandas.concat instead.\n",
      "  data_remove=data_remove.append(data_remove_outlier,ignore_index=True)\n",
      "/var/folders/jp/4mwsn7_x6j9gnv1hl1dztqth0000gn/T/ipykernel_2530/2398993980.py:38: FutureWarning: The frame.append method is deprecated and will be removed from pandas in a future version. Use pandas.concat instead.\n",
      "  data_remove=data_remove.append(data_remove_outlier,ignore_index=True)\n",
      "/var/folders/jp/4mwsn7_x6j9gnv1hl1dztqth0000gn/T/ipykernel_2530/2398993980.py:38: FutureWarning: The frame.append method is deprecated and will be removed from pandas in a future version. Use pandas.concat instead.\n",
      "  data_remove=data_remove.append(data_remove_outlier,ignore_index=True)\n",
      "/var/folders/jp/4mwsn7_x6j9gnv1hl1dztqth0000gn/T/ipykernel_2530/2398993980.py:38: FutureWarning: The frame.append method is deprecated and will be removed from pandas in a future version. Use pandas.concat instead.\n",
      "  data_remove=data_remove.append(data_remove_outlier,ignore_index=True)\n",
      "/var/folders/jp/4mwsn7_x6j9gnv1hl1dztqth0000gn/T/ipykernel_2530/2398993980.py:38: FutureWarning: The frame.append method is deprecated and will be removed from pandas in a future version. Use pandas.concat instead.\n",
      "  data_remove=data_remove.append(data_remove_outlier,ignore_index=True)\n",
      "/var/folders/jp/4mwsn7_x6j9gnv1hl1dztqth0000gn/T/ipykernel_2530/2398993980.py:38: FutureWarning: The frame.append method is deprecated and will be removed from pandas in a future version. Use pandas.concat instead.\n",
      "  data_remove=data_remove.append(data_remove_outlier,ignore_index=True)\n",
      "/var/folders/jp/4mwsn7_x6j9gnv1hl1dztqth0000gn/T/ipykernel_2530/2398993980.py:38: FutureWarning: The frame.append method is deprecated and will be removed from pandas in a future version. Use pandas.concat instead.\n",
      "  data_remove=data_remove.append(data_remove_outlier,ignore_index=True)\n",
      "/var/folders/jp/4mwsn7_x6j9gnv1hl1dztqth0000gn/T/ipykernel_2530/2398993980.py:38: FutureWarning: The frame.append method is deprecated and will be removed from pandas in a future version. Use pandas.concat instead.\n",
      "  data_remove=data_remove.append(data_remove_outlier,ignore_index=True)\n",
      "/var/folders/jp/4mwsn7_x6j9gnv1hl1dztqth0000gn/T/ipykernel_2530/2398993980.py:38: FutureWarning: The frame.append method is deprecated and will be removed from pandas in a future version. Use pandas.concat instead.\n",
      "  data_remove=data_remove.append(data_remove_outlier,ignore_index=True)\n",
      "/var/folders/jp/4mwsn7_x6j9gnv1hl1dztqth0000gn/T/ipykernel_2530/2398993980.py:38: FutureWarning: The frame.append method is deprecated and will be removed from pandas in a future version. Use pandas.concat instead.\n",
      "  data_remove=data_remove.append(data_remove_outlier,ignore_index=True)\n",
      "/var/folders/jp/4mwsn7_x6j9gnv1hl1dztqth0000gn/T/ipykernel_2530/2398993980.py:38: FutureWarning: The frame.append method is deprecated and will be removed from pandas in a future version. Use pandas.concat instead.\n",
      "  data_remove=data_remove.append(data_remove_outlier,ignore_index=True)\n",
      "/var/folders/jp/4mwsn7_x6j9gnv1hl1dztqth0000gn/T/ipykernel_2530/2398993980.py:38: FutureWarning: The frame.append method is deprecated and will be removed from pandas in a future version. Use pandas.concat instead.\n",
      "  data_remove=data_remove.append(data_remove_outlier,ignore_index=True)\n",
      "/var/folders/jp/4mwsn7_x6j9gnv1hl1dztqth0000gn/T/ipykernel_2530/2398993980.py:38: FutureWarning: The frame.append method is deprecated and will be removed from pandas in a future version. Use pandas.concat instead.\n",
      "  data_remove=data_remove.append(data_remove_outlier,ignore_index=True)\n",
      "/var/folders/jp/4mwsn7_x6j9gnv1hl1dztqth0000gn/T/ipykernel_2530/2398993980.py:38: FutureWarning: The frame.append method is deprecated and will be removed from pandas in a future version. Use pandas.concat instead.\n",
      "  data_remove=data_remove.append(data_remove_outlier,ignore_index=True)\n",
      "/var/folders/jp/4mwsn7_x6j9gnv1hl1dztqth0000gn/T/ipykernel_2530/2398993980.py:38: FutureWarning: The frame.append method is deprecated and will be removed from pandas in a future version. Use pandas.concat instead.\n",
      "  data_remove=data_remove.append(data_remove_outlier,ignore_index=True)\n",
      "/var/folders/jp/4mwsn7_x6j9gnv1hl1dztqth0000gn/T/ipykernel_2530/2398993980.py:38: FutureWarning: The frame.append method is deprecated and will be removed from pandas in a future version. Use pandas.concat instead.\n",
      "  data_remove=data_remove.append(data_remove_outlier,ignore_index=True)\n"
     ]
    }
   ],
   "source": [
    "save_lc_img_dir='/Volumes/ExtremeSSD/data_source/WISE_data/DESI_CLAGN_plot/mul_line'\n",
    "for i in DESI_CLAGN_multi:\n",
    "    name_i='SDSS J'+i\n",
    "    wise_rebin_lc(name_i,save_lc_img_dir=save_lc_img_dir, datawise_dir=wisedata_path)"
   ]
  },
  {
   "cell_type": "code",
   "execution_count": null,
   "metadata": {},
   "outputs": [],
   "source": []
  },
  {
   "cell_type": "code",
   "execution_count": 41,
   "metadata": {
    "ExecuteTime": {
     "end_time": "2023-08-18T11:25:08.850214Z",
     "start_time": "2023-08-18T11:25:08.813457Z"
    }
   },
   "outputs": [],
   "source": [
    "DESI_CLAGN=pd.read_excel('/Users/lyubing/Downloads/DESI_CLAGN.xlsx',sheet_name='Sheet2')\n",
    "DESI_CLAGN=DESI_CLAGN[DESI_CLAGN['Name'].notnull()]"
   ]
  },
  {
   "cell_type": "code",
   "execution_count": 42,
   "metadata": {
    "ExecuteTime": {
     "end_time": "2023-08-18T11:25:09.263089Z",
     "start_time": "2023-08-18T11:25:09.242908Z"
    }
   },
   "outputs": [
    {
     "data": {
      "text/html": [
       "<div>\n",
       "<style scoped>\n",
       "    .dataframe tbody tr th:only-of-type {\n",
       "        vertical-align: middle;\n",
       "    }\n",
       "\n",
       "    .dataframe tbody tr th {\n",
       "        vertical-align: top;\n",
       "    }\n",
       "\n",
       "    .dataframe thead th {\n",
       "        text-align: right;\n",
       "    }\n",
       "</style>\n",
       "<table border=\"1\" class=\"dataframe\">\n",
       "  <thead>\n",
       "    <tr style=\"text-align: right;\">\n",
       "      <th></th>\n",
       "      <th>Name</th>\n",
       "      <th>ra</th>\n",
       "      <th>dec</th>\n",
       "      <th>z</th>\n",
       "    </tr>\n",
       "  </thead>\n",
       "  <tbody>\n",
       "    <tr>\n",
       "      <th>0</th>\n",
       "      <td>133335.80+314306.7</td>\n",
       "      <td>203.3992</td>\n",
       "      <td>31.7185</td>\n",
       "      <td>2.3262</td>\n",
       "    </tr>\n",
       "    <tr>\n",
       "      <th>1</th>\n",
       "      <td>022250.60-041051.6</td>\n",
       "      <td>35.7109</td>\n",
       "      <td>-4.1810</td>\n",
       "      <td>0.9475</td>\n",
       "    </tr>\n",
       "    <tr>\n",
       "      <th>2</th>\n",
       "      <td>022335.06-043422.8</td>\n",
       "      <td>35.8961</td>\n",
       "      <td>-4.5730</td>\n",
       "      <td>2.2169</td>\n",
       "    </tr>\n",
       "    <tr>\n",
       "      <th>3</th>\n",
       "      <td>022558.88-041801.1</td>\n",
       "      <td>36.4953</td>\n",
       "      <td>-4.3003</td>\n",
       "      <td>2.2856</td>\n",
       "    </tr>\n",
       "    <tr>\n",
       "      <th>4</th>\n",
       "      <td>022601.58-045919.1</td>\n",
       "      <td>36.5066</td>\n",
       "      <td>-4.9886</td>\n",
       "      <td>1.6567</td>\n",
       "    </tr>\n",
       "    <tr>\n",
       "      <th>...</th>\n",
       "      <td>...</td>\n",
       "      <td>...</td>\n",
       "      <td>...</td>\n",
       "      <td>...</td>\n",
       "    </tr>\n",
       "    <tr>\n",
       "      <th>126</th>\n",
       "      <td>221044.76+245958.0</td>\n",
       "      <td>332.6865</td>\n",
       "      <td>24.9995</td>\n",
       "      <td>0.1199</td>\n",
       "    </tr>\n",
       "    <tr>\n",
       "      <th>127</th>\n",
       "      <td>221925.57+272806.4</td>\n",
       "      <td>334.8566</td>\n",
       "      <td>27.4685</td>\n",
       "      <td>0.2282</td>\n",
       "    </tr>\n",
       "    <tr>\n",
       "      <th>128</th>\n",
       "      <td>223440.56+272437.9</td>\n",
       "      <td>338.6690</td>\n",
       "      <td>27.4105</td>\n",
       "      <td>1.0203</td>\n",
       "    </tr>\n",
       "    <tr>\n",
       "      <th>129</th>\n",
       "      <td>224547.01+284612.6</td>\n",
       "      <td>341.4459</td>\n",
       "      <td>28.7702</td>\n",
       "      <td>0.9270</td>\n",
       "    </tr>\n",
       "    <tr>\n",
       "      <th>130</th>\n",
       "      <td>224657.70-003242.5</td>\n",
       "      <td>341.7404</td>\n",
       "      <td>-0.5451</td>\n",
       "      <td>0.4157</td>\n",
       "    </tr>\n",
       "  </tbody>\n",
       "</table>\n",
       "<p>131 rows × 4 columns</p>\n",
       "</div>"
      ],
      "text/plain": [
       "                    Name        ra      dec       z\n",
       "0    133335.80+314306.7   203.3992  31.7185  2.3262\n",
       "1    022250.60-041051.6    35.7109  -4.1810  0.9475\n",
       "2    022335.06-043422.8    35.8961  -4.5730  2.2169\n",
       "3    022558.88-041801.1    36.4953  -4.3003  2.2856\n",
       "4    022601.58-045919.1    36.5066  -4.9886  1.6567\n",
       "..                   ...       ...      ...     ...\n",
       "126  221044.76+245958.0   332.6865  24.9995  0.1199\n",
       "127  221925.57+272806.4   334.8566  27.4685  0.2282\n",
       "128  223440.56+272437.9   338.6690  27.4105  1.0203\n",
       "129  224547.01+284612.6   341.4459  28.7702  0.9270\n",
       "130  224657.70-003242.5   341.7404  -0.5451  0.4157\n",
       "\n",
       "[131 rows x 4 columns]"
      ]
     },
     "execution_count": 42,
     "metadata": {},
     "output_type": "execute_result"
    }
   ],
   "source": [
    "DESI_CLAGN"
   ]
  },
  {
   "cell_type": "code",
   "execution_count": 43,
   "metadata": {
    "ExecuteTime": {
     "end_time": "2023-08-18T11:25:14.311491Z",
     "start_time": "2023-08-18T11:25:14.302560Z"
    }
   },
   "outputs": [
    {
     "data": {
      "text/plain": [
       "'/Volumes/ExtremeSSD/data_source/WISE_data/DESI_CLAGN'"
      ]
     },
     "execution_count": 43,
     "metadata": {},
     "output_type": "execute_result"
    }
   ],
   "source": [
    "wisedata_path"
   ]
  },
  {
   "cell_type": "code",
   "execution_count": 84,
   "metadata": {
    "ExecuteTime": {
     "end_time": "2023-08-18T12:50:52.430273Z",
     "start_time": "2023-08-18T11:42:28.763110Z"
    }
   },
   "outputs": [
    {
     "name": "stdout",
     "output_type": "stream",
     "text": [
      "SDSS J133335.80+314306.7 \n"
     ]
    },
    {
     "name": "stderr",
     "output_type": "stream",
     "text": [
      "/var/folders/jp/4mwsn7_x6j9gnv1hl1dztqth0000gn/T/ipykernel_2530/2398993980.py:38: FutureWarning: The frame.append method is deprecated and will be removed from pandas in a future version. Use pandas.concat instead.\n",
      "  data_remove=data_remove.append(data_remove_outlier,ignore_index=True)\n"
     ]
    },
    {
     "name": "stdout",
     "output_type": "stream",
     "text": [
      "SDSS J022250.60-041051.6 \n",
      "SDSS J022335.06-043422.8 \n",
      "SDSS J022558.88-041801.1 \n",
      "SDSS J022601.58-045919.1 \n",
      "SDSSJ022601.58-045919.1\n",
      "SDSS J022601.58-045919.1  mep\n",
      "SDSS J022601.58-045919.1  neo\n",
      "SDSS J022953.17-045301.1 \n",
      "SDSSJ022953.17-045301.1\n",
      "SDSS J022953.17-045301.1  mep\n",
      "SDSS J022953.17-045301.1  neo\n",
      "SDSS J023348.69-030949.0 \n",
      "SDSS J075448.10+345828.5 \n"
     ]
    },
    {
     "name": "stderr",
     "output_type": "stream",
     "text": [
      "/var/folders/jp/4mwsn7_x6j9gnv1hl1dztqth0000gn/T/ipykernel_2530/2398993980.py:38: FutureWarning: The frame.append method is deprecated and will be removed from pandas in a future version. Use pandas.concat instead.\n",
      "  data_remove=data_remove.append(data_remove_outlier,ignore_index=True)\n"
     ]
    },
    {
     "name": "stdout",
     "output_type": "stream",
     "text": [
      "SDSS J082100.68+341135.6 \n"
     ]
    },
    {
     "name": "stderr",
     "output_type": "stream",
     "text": [
      "/var/folders/jp/4mwsn7_x6j9gnv1hl1dztqth0000gn/T/ipykernel_2530/2398993980.py:38: FutureWarning: The frame.append method is deprecated and will be removed from pandas in a future version. Use pandas.concat instead.\n",
      "  data_remove=data_remove.append(data_remove_outlier,ignore_index=True)\n"
     ]
    },
    {
     "name": "stdout",
     "output_type": "stream",
     "text": [
      "SDSS J083537.25+314209.9 \n",
      "SDSS J085913.72+323050.8 \n"
     ]
    },
    {
     "name": "stderr",
     "output_type": "stream",
     "text": [
      "/var/folders/jp/4mwsn7_x6j9gnv1hl1dztqth0000gn/T/ipykernel_2530/2398993980.py:38: FutureWarning: The frame.append method is deprecated and will be removed from pandas in a future version. Use pandas.concat instead.\n",
      "  data_remove=data_remove.append(data_remove_outlier,ignore_index=True)\n"
     ]
    },
    {
     "name": "stdout",
     "output_type": "stream",
     "text": [
      "SDSS J091238.78+332429.0 \n",
      "SDSS J091415.43+321501.4 \n"
     ]
    },
    {
     "name": "stderr",
     "output_type": "stream",
     "text": [
      "/var/folders/jp/4mwsn7_x6j9gnv1hl1dztqth0000gn/T/ipykernel_2530/2398993980.py:38: FutureWarning: The frame.append method is deprecated and will be removed from pandas in a future version. Use pandas.concat instead.\n",
      "  data_remove=data_remove.append(data_remove_outlier,ignore_index=True)\n"
     ]
    },
    {
     "name": "stdout",
     "output_type": "stream",
     "text": [
      "SDSS J091534.82+331152.6 \n",
      "SDSS J091552.73+332904.6 \n"
     ]
    },
    {
     "name": "stderr",
     "output_type": "stream",
     "text": [
      "/var/folders/jp/4mwsn7_x6j9gnv1hl1dztqth0000gn/T/ipykernel_2530/2398993980.py:38: FutureWarning: The frame.append method is deprecated and will be removed from pandas in a future version. Use pandas.concat instead.\n",
      "  data_remove=data_remove.append(data_remove_outlier,ignore_index=True)\n"
     ]
    },
    {
     "name": "stdout",
     "output_type": "stream",
     "text": [
      "SDSS J091729.23+323908.1 \n",
      "SDSS J092010.07+315214.7 \n"
     ]
    },
    {
     "name": "stderr",
     "output_type": "stream",
     "text": [
      "/var/folders/jp/4mwsn7_x6j9gnv1hl1dztqth0000gn/T/ipykernel_2530/2398993980.py:38: FutureWarning: The frame.append method is deprecated and will be removed from pandas in a future version. Use pandas.concat instead.\n",
      "  data_remove=data_remove.append(data_remove_outlier,ignore_index=True)\n"
     ]
    },
    {
     "name": "stdout",
     "output_type": "stream",
     "text": [
      "SDSS J095035.55+321601.0 \n"
     ]
    },
    {
     "name": "stderr",
     "output_type": "stream",
     "text": [
      "/var/folders/jp/4mwsn7_x6j9gnv1hl1dztqth0000gn/T/ipykernel_2530/2398993980.py:38: FutureWarning: The frame.append method is deprecated and will be removed from pandas in a future version. Use pandas.concat instead.\n",
      "  data_remove=data_remove.append(data_remove_outlier,ignore_index=True)\n"
     ]
    },
    {
     "name": "stdout",
     "output_type": "stream",
     "text": [
      "SDSS J103818.29+332437.2 \n"
     ]
    },
    {
     "name": "stderr",
     "output_type": "stream",
     "text": [
      "/var/folders/jp/4mwsn7_x6j9gnv1hl1dztqth0000gn/T/ipykernel_2530/2398993980.py:38: FutureWarning: The frame.append method is deprecated and will be removed from pandas in a future version. Use pandas.concat instead.\n",
      "  data_remove=data_remove.append(data_remove_outlier,ignore_index=True)\n"
     ]
    },
    {
     "name": "stdout",
     "output_type": "stream",
     "text": [
      "SDSS J104810.07+470225.8 \n"
     ]
    },
    {
     "name": "stderr",
     "output_type": "stream",
     "text": [
      "/var/folders/jp/4mwsn7_x6j9gnv1hl1dztqth0000gn/T/ipykernel_2530/2398993980.py:38: FutureWarning: The frame.append method is deprecated and will be removed from pandas in a future version. Use pandas.concat instead.\n",
      "  data_remove=data_remove.append(data_remove_outlier,ignore_index=True)\n"
     ]
    },
    {
     "name": "stdout",
     "output_type": "stream",
     "text": [
      "SDSS J110326.97+314115.9 \n"
     ]
    },
    {
     "name": "stderr",
     "output_type": "stream",
     "text": [
      "/var/folders/jp/4mwsn7_x6j9gnv1hl1dztqth0000gn/T/ipykernel_2530/2398993980.py:38: FutureWarning: The frame.append method is deprecated and will be removed from pandas in a future version. Use pandas.concat instead.\n",
      "  data_remove=data_remove.append(data_remove_outlier,ignore_index=True)\n"
     ]
    },
    {
     "name": "stdout",
     "output_type": "stream",
     "text": [
      "SDSS J112631.06+544414.7 \n",
      "SDSS J113737.38+511839.9 \n"
     ]
    },
    {
     "name": "stderr",
     "output_type": "stream",
     "text": [
      "/var/folders/jp/4mwsn7_x6j9gnv1hl1dztqth0000gn/T/ipykernel_2530/2398993980.py:38: FutureWarning: The frame.append method is deprecated and will be removed from pandas in a future version. Use pandas.concat instead.\n",
      "  data_remove=data_remove.append(data_remove_outlier,ignore_index=True)\n"
     ]
    },
    {
     "name": "stdout",
     "output_type": "stream",
     "text": [
      "SDSS J115103.77+530140.6 \n"
     ]
    },
    {
     "name": "stderr",
     "output_type": "stream",
     "text": [
      "/var/folders/jp/4mwsn7_x6j9gnv1hl1dztqth0000gn/T/ipykernel_2530/2398993980.py:38: FutureWarning: The frame.append method is deprecated and will be removed from pandas in a future version. Use pandas.concat instead.\n",
      "  data_remove=data_remove.append(data_remove_outlier,ignore_index=True)\n"
     ]
    },
    {
     "name": "stdout",
     "output_type": "stream",
     "text": [
      "SDSS J115210.24+520205.1 \n"
     ]
    },
    {
     "name": "stderr",
     "output_type": "stream",
     "text": [
      "/var/folders/jp/4mwsn7_x6j9gnv1hl1dztqth0000gn/T/ipykernel_2530/2398993980.py:38: FutureWarning: The frame.append method is deprecated and will be removed from pandas in a future version. Use pandas.concat instead.\n",
      "  data_remove=data_remove.append(data_remove_outlier,ignore_index=True)\n"
     ]
    },
    {
     "name": "stdout",
     "output_type": "stream",
     "text": [
      "SDSS J115403.00+003154.0 \n"
     ]
    },
    {
     "name": "stderr",
     "output_type": "stream",
     "text": [
      "/var/folders/jp/4mwsn7_x6j9gnv1hl1dztqth0000gn/T/ipykernel_2530/2398993980.py:38: FutureWarning: The frame.append method is deprecated and will be removed from pandas in a future version. Use pandas.concat instead.\n",
      "  data_remove=data_remove.append(data_remove_outlier,ignore_index=True)\n"
     ]
    },
    {
     "name": "stdout",
     "output_type": "stream",
     "text": [
      "SDSS J120710.25+000806.1 \n"
     ]
    },
    {
     "name": "stderr",
     "output_type": "stream",
     "text": [
      "/var/folders/jp/4mwsn7_x6j9gnv1hl1dztqth0000gn/T/ipykernel_2530/2398993980.py:38: FutureWarning: The frame.append method is deprecated and will be removed from pandas in a future version. Use pandas.concat instead.\n",
      "  data_remove=data_remove.append(data_remove_outlier,ignore_index=True)\n"
     ]
    },
    {
     "name": "stdout",
     "output_type": "stream",
     "text": [
      "SDSS J121033.30-011755.6 \n"
     ]
    },
    {
     "name": "stderr",
     "output_type": "stream",
     "text": [
      "/var/folders/jp/4mwsn7_x6j9gnv1hl1dztqth0000gn/T/ipykernel_2530/2398993980.py:38: FutureWarning: The frame.append method is deprecated and will be removed from pandas in a future version. Use pandas.concat instead.\n",
      "  data_remove=data_remove.append(data_remove_outlier,ignore_index=True)\n"
     ]
    },
    {
     "name": "stdout",
     "output_type": "stream",
     "text": [
      "SDSS J122319.70+312737.0 \n"
     ]
    },
    {
     "name": "stderr",
     "output_type": "stream",
     "text": [
      "/var/folders/jp/4mwsn7_x6j9gnv1hl1dztqth0000gn/T/ipykernel_2530/2398993980.py:38: FutureWarning: The frame.append method is deprecated and will be removed from pandas in a future version. Use pandas.concat instead.\n",
      "  data_remove=data_remove.append(data_remove_outlier,ignore_index=True)\n"
     ]
    },
    {
     "name": "stdout",
     "output_type": "stream",
     "text": [
      "SDSS J123201.11+552151.8 \n"
     ]
    },
    {
     "name": "stderr",
     "output_type": "stream",
     "text": [
      "/var/folders/jp/4mwsn7_x6j9gnv1hl1dztqth0000gn/T/ipykernel_2530/2398993980.py:38: FutureWarning: The frame.append method is deprecated and will be removed from pandas in a future version. Use pandas.concat instead.\n",
      "  data_remove=data_remove.append(data_remove_outlier,ignore_index=True)\n"
     ]
    },
    {
     "name": "stdout",
     "output_type": "stream",
     "text": [
      "SDSS J125217.63+580900.0 \n",
      "SDSS J125545.34+232348.0 \n"
     ]
    },
    {
     "name": "stderr",
     "output_type": "stream",
     "text": [
      "/var/folders/jp/4mwsn7_x6j9gnv1hl1dztqth0000gn/T/ipykernel_2530/2398993980.py:38: FutureWarning: The frame.append method is deprecated and will be removed from pandas in a future version. Use pandas.concat instead.\n",
      "  data_remove=data_remove.append(data_remove_outlier,ignore_index=True)\n"
     ]
    },
    {
     "name": "stdout",
     "output_type": "stream",
     "text": [
      "SDSS J125610.42+260103.4 \n"
     ]
    },
    {
     "name": "stderr",
     "output_type": "stream",
     "text": [
      "/var/folders/jp/4mwsn7_x6j9gnv1hl1dztqth0000gn/T/ipykernel_2530/2398993980.py:38: FutureWarning: The frame.append method is deprecated and will be removed from pandas in a future version. Use pandas.concat instead.\n",
      "  data_remove=data_remove.append(data_remove_outlier,ignore_index=True)\n"
     ]
    },
    {
     "name": "stdout",
     "output_type": "stream",
     "text": [
      "SDSS J125747.09+314217.9 \n"
     ]
    },
    {
     "name": "stderr",
     "output_type": "stream",
     "text": [
      "/var/folders/jp/4mwsn7_x6j9gnv1hl1dztqth0000gn/T/ipykernel_2530/2398993980.py:38: FutureWarning: The frame.append method is deprecated and will be removed from pandas in a future version. Use pandas.concat instead.\n",
      "  data_remove=data_remove.append(data_remove_outlier,ignore_index=True)\n"
     ]
    },
    {
     "name": "stdout",
     "output_type": "stream",
     "text": [
      "SDSS J125901.02+265242.5 \n"
     ]
    },
    {
     "name": "stderr",
     "output_type": "stream",
     "text": [
      "/var/folders/jp/4mwsn7_x6j9gnv1hl1dztqth0000gn/T/ipykernel_2530/2398993980.py:38: FutureWarning: The frame.append method is deprecated and will be removed from pandas in a future version. Use pandas.concat instead.\n",
      "  data_remove=data_remove.append(data_remove_outlier,ignore_index=True)\n"
     ]
    },
    {
     "name": "stdout",
     "output_type": "stream",
     "text": [
      "SDSS J125924.34-024608.9 \n"
     ]
    },
    {
     "name": "stderr",
     "output_type": "stream",
     "text": [
      "/var/folders/jp/4mwsn7_x6j9gnv1hl1dztqth0000gn/T/ipykernel_2530/2398993980.py:38: FutureWarning: The frame.append method is deprecated and will be removed from pandas in a future version. Use pandas.concat instead.\n",
      "  data_remove=data_remove.append(data_remove_outlier,ignore_index=True)\n"
     ]
    },
    {
     "name": "stdout",
     "output_type": "stream",
     "text": [
      "SDSS J125938.24+322809.7 \n"
     ]
    },
    {
     "name": "stderr",
     "output_type": "stream",
     "text": [
      "/var/folders/jp/4mwsn7_x6j9gnv1hl1dztqth0000gn/T/ipykernel_2530/2398993980.py:38: FutureWarning: The frame.append method is deprecated and will be removed from pandas in a future version. Use pandas.concat instead.\n",
      "  data_remove=data_remove.append(data_remove_outlier,ignore_index=True)\n"
     ]
    },
    {
     "name": "stdout",
     "output_type": "stream",
     "text": [
      "SDSS J130035.57+322704.8 \n",
      "SDSS J130139.41+330805.6 \n"
     ]
    },
    {
     "name": "stderr",
     "output_type": "stream",
     "text": [
      "/var/folders/jp/4mwsn7_x6j9gnv1hl1dztqth0000gn/T/ipykernel_2530/2398993980.py:38: FutureWarning: The frame.append method is deprecated and will be removed from pandas in a future version. Use pandas.concat instead.\n",
      "  data_remove=data_remove.append(data_remove_outlier,ignore_index=True)\n"
     ]
    },
    {
     "name": "stdout",
     "output_type": "stream",
     "text": [
      "SDSS J130225.86+331423.9 \n"
     ]
    },
    {
     "name": "stderr",
     "output_type": "stream",
     "text": [
      "/var/folders/jp/4mwsn7_x6j9gnv1hl1dztqth0000gn/T/ipykernel_2530/2398993980.py:38: FutureWarning: The frame.append method is deprecated and will be removed from pandas in a future version. Use pandas.concat instead.\n",
      "  data_remove=data_remove.append(data_remove_outlier,ignore_index=True)\n"
     ]
    },
    {
     "name": "stdout",
     "output_type": "stream",
     "text": [
      "SDSS J130732.60+330610.8 \n"
     ]
    },
    {
     "name": "stderr",
     "output_type": "stream",
     "text": [
      "/var/folders/jp/4mwsn7_x6j9gnv1hl1dztqth0000gn/T/ipykernel_2530/2398993980.py:38: FutureWarning: The frame.append method is deprecated and will be removed from pandas in a future version. Use pandas.concat instead.\n",
      "  data_remove=data_remove.append(data_remove_outlier,ignore_index=True)\n"
     ]
    },
    {
     "name": "stdout",
     "output_type": "stream",
     "text": [
      "SDSS J133006.57+332738.0 \n"
     ]
    },
    {
     "name": "stderr",
     "output_type": "stream",
     "text": [
      "/var/folders/jp/4mwsn7_x6j9gnv1hl1dztqth0000gn/T/ipykernel_2530/2398993980.py:38: FutureWarning: The frame.append method is deprecated and will be removed from pandas in a future version. Use pandas.concat instead.\n",
      "  data_remove=data_remove.append(data_remove_outlier,ignore_index=True)\n"
     ]
    },
    {
     "name": "stdout",
     "output_type": "stream",
     "text": [
      "SDSS J133044.43+072628.8 \n"
     ]
    },
    {
     "name": "stderr",
     "output_type": "stream",
     "text": [
      "/var/folders/jp/4mwsn7_x6j9gnv1hl1dztqth0000gn/T/ipykernel_2530/2398993980.py:38: FutureWarning: The frame.append method is deprecated and will be removed from pandas in a future version. Use pandas.concat instead.\n",
      "  data_remove=data_remove.append(data_remove_outlier,ignore_index=True)\n"
     ]
    },
    {
     "name": "stdout",
     "output_type": "stream",
     "text": [
      "SDSS J133335.80+314306.7 \n"
     ]
    },
    {
     "name": "stderr",
     "output_type": "stream",
     "text": [
      "/var/folders/jp/4mwsn7_x6j9gnv1hl1dztqth0000gn/T/ipykernel_2530/2398993980.py:38: FutureWarning: The frame.append method is deprecated and will be removed from pandas in a future version. Use pandas.concat instead.\n",
      "  data_remove=data_remove.append(data_remove_outlier,ignore_index=True)\n"
     ]
    },
    {
     "name": "stdout",
     "output_type": "stream",
     "text": [
      "SDSS J133344.70+335622.7 \n",
      "SDSS J134037.05+131819.2 \n",
      "SDSSJ134037.05+131819.2\n"
     ]
    },
    {
     "name": "stderr",
     "output_type": "stream",
     "text": [
      "/var/folders/jp/4mwsn7_x6j9gnv1hl1dztqth0000gn/T/ipykernel_2530/2398993980.py:38: FutureWarning: The frame.append method is deprecated and will be removed from pandas in a future version. Use pandas.concat instead.\n",
      "  data_remove=data_remove.append(data_remove_outlier,ignore_index=True)\n"
     ]
    },
    {
     "name": "stdout",
     "output_type": "stream",
     "text": [
      "SDSS J134259.55+340404.9 \n",
      "SDSSJ134259.55+340404.9\n"
     ]
    },
    {
     "name": "stderr",
     "output_type": "stream",
     "text": [
      "/var/folders/jp/4mwsn7_x6j9gnv1hl1dztqth0000gn/T/ipykernel_2530/2398993980.py:38: FutureWarning: The frame.append method is deprecated and will be removed from pandas in a future version. Use pandas.concat instead.\n",
      "  data_remove=data_remove.append(data_remove_outlier,ignore_index=True)\n"
     ]
    },
    {
     "name": "stdout",
     "output_type": "stream",
     "text": [
      "SDSS J134554.00+084537.3 \n",
      "SDSSJ134554.00+084537.3\n"
     ]
    },
    {
     "name": "stderr",
     "output_type": "stream",
     "text": [
      "/var/folders/jp/4mwsn7_x6j9gnv1hl1dztqth0000gn/T/ipykernel_2530/2398993980.py:38: FutureWarning: The frame.append method is deprecated and will be removed from pandas in a future version. Use pandas.concat instead.\n",
      "  data_remove=data_remove.append(data_remove_outlier,ignore_index=True)\n"
     ]
    },
    {
     "name": "stdout",
     "output_type": "stream",
     "text": [
      "SDSS J134802.94+341241.3 \n",
      "SDSSJ134802.94+341241.3\n"
     ]
    },
    {
     "name": "stderr",
     "output_type": "stream",
     "text": [
      "/var/folders/jp/4mwsn7_x6j9gnv1hl1dztqth0000gn/T/ipykernel_2530/2398993980.py:38: FutureWarning: The frame.append method is deprecated and will be removed from pandas in a future version. Use pandas.concat instead.\n",
      "  data_remove=data_remove.append(data_remove_outlier,ignore_index=True)\n"
     ]
    },
    {
     "name": "stdout",
     "output_type": "stream",
     "text": [
      "SDSS J135054.40+380633.6 \n",
      "SDSSJ135054.40+380633.6\n"
     ]
    },
    {
     "name": "stderr",
     "output_type": "stream",
     "text": [
      "/var/folders/jp/4mwsn7_x6j9gnv1hl1dztqth0000gn/T/ipykernel_2530/2398993980.py:38: FutureWarning: The frame.append method is deprecated and will be removed from pandas in a future version. Use pandas.concat instead.\n",
      "  data_remove=data_remove.append(data_remove_outlier,ignore_index=True)\n"
     ]
    },
    {
     "name": "stdout",
     "output_type": "stream",
     "text": [
      "SDSS J135613.60+001958.6 \n",
      "SDSSJ135613.60+001958.6\n",
      "SDSS J135624.58+350813.1 \n",
      "SDSSJ135624.58+350813.1\n"
     ]
    },
    {
     "name": "stderr",
     "output_type": "stream",
     "text": [
      "/var/folders/jp/4mwsn7_x6j9gnv1hl1dztqth0000gn/T/ipykernel_2530/2398993980.py:38: FutureWarning: The frame.append method is deprecated and will be removed from pandas in a future version. Use pandas.concat instead.\n",
      "  data_remove=data_remove.append(data_remove_outlier,ignore_index=True)\n"
     ]
    },
    {
     "name": "stdout",
     "output_type": "stream",
     "text": [
      "SDSS J135715.07+375647.0 \n",
      "SDSSJ135715.07+375647.0\n",
      "SDSS J135801.62+115331.8 \n",
      "SDSSJ135801.62+115331.8\n"
     ]
    },
    {
     "name": "stderr",
     "output_type": "stream",
     "text": [
      "/var/folders/jp/4mwsn7_x6j9gnv1hl1dztqth0000gn/T/ipykernel_2530/2398993980.py:38: FutureWarning: The frame.append method is deprecated and will be removed from pandas in a future version. Use pandas.concat instead.\n",
      "  data_remove=data_remove.append(data_remove_outlier,ignore_index=True)\n"
     ]
    },
    {
     "name": "stdout",
     "output_type": "stream",
     "text": [
      "SDSS J140659.07+032601.9 \n",
      "SDSSJ140659.07+032601.9\n"
     ]
    },
    {
     "name": "stderr",
     "output_type": "stream",
     "text": [
      "/var/folders/jp/4mwsn7_x6j9gnv1hl1dztqth0000gn/T/ipykernel_2530/2398993980.py:38: FutureWarning: The frame.append method is deprecated and will be removed from pandas in a future version. Use pandas.concat instead.\n",
      "  data_remove=data_remove.append(data_remove_outlier,ignore_index=True)\n"
     ]
    },
    {
     "name": "stdout",
     "output_type": "stream",
     "text": [
      "SDSS J140945.30+521033.7 \n",
      "SDSSJ140945.30+521033.7\n"
     ]
    },
    {
     "name": "stderr",
     "output_type": "stream",
     "text": [
      "/var/folders/jp/4mwsn7_x6j9gnv1hl1dztqth0000gn/T/ipykernel_2530/2398993980.py:38: FutureWarning: The frame.append method is deprecated and will be removed from pandas in a future version. Use pandas.concat instead.\n",
      "  data_remove=data_remove.append(data_remove_outlier,ignore_index=True)\n"
     ]
    },
    {
     "name": "stdout",
     "output_type": "stream",
     "text": [
      "SDSS J140957.72-012850.5 \n",
      "SDSSJ140957.72-012850.5\n"
     ]
    },
    {
     "name": "stderr",
     "output_type": "stream",
     "text": [
      "/var/folders/jp/4mwsn7_x6j9gnv1hl1dztqth0000gn/T/ipykernel_2530/2398993980.py:38: FutureWarning: The frame.append method is deprecated and will be removed from pandas in a future version. Use pandas.concat instead.\n",
      "  data_remove=data_remove.append(data_remove_outlier,ignore_index=True)\n"
     ]
    },
    {
     "name": "stdout",
     "output_type": "stream",
     "text": [
      "SDSS J141511.61+321937.4 \n",
      "SDSSJ141511.61+321937.4\n"
     ]
    },
    {
     "name": "stderr",
     "output_type": "stream",
     "text": [
      "/var/folders/jp/4mwsn7_x6j9gnv1hl1dztqth0000gn/T/ipykernel_2530/2398993980.py:38: FutureWarning: The frame.append method is deprecated and will be removed from pandas in a future version. Use pandas.concat instead.\n",
      "  data_remove=data_remove.append(data_remove_outlier,ignore_index=True)\n"
     ]
    },
    {
     "name": "stdout",
     "output_type": "stream",
     "text": [
      "SDSS J141535.46+022338.7 \n",
      "SDSSJ141535.46+022338.7\n"
     ]
    },
    {
     "name": "stderr",
     "output_type": "stream",
     "text": [
      "/var/folders/jp/4mwsn7_x6j9gnv1hl1dztqth0000gn/T/ipykernel_2530/2398993980.py:38: FutureWarning: The frame.append method is deprecated and will be removed from pandas in a future version. Use pandas.concat instead.\n",
      "  data_remove=data_remove.append(data_remove_outlier,ignore_index=True)\n"
     ]
    },
    {
     "name": "stdout",
     "output_type": "stream",
     "text": [
      "SDSS J141550.68+334359.3 \n",
      "SDSSJ141550.68+334359.3\n"
     ]
    },
    {
     "name": "stderr",
     "output_type": "stream",
     "text": [
      "/var/folders/jp/4mwsn7_x6j9gnv1hl1dztqth0000gn/T/ipykernel_2530/2398993980.py:38: FutureWarning: The frame.append method is deprecated and will be removed from pandas in a future version. Use pandas.concat instead.\n",
      "  data_remove=data_remove.append(data_remove_outlier,ignore_index=True)\n"
     ]
    },
    {
     "name": "stdout",
     "output_type": "stream",
     "text": [
      "SDSS J141801.50+525200.7 \n",
      "SDSSJ141801.50+525200.7\n"
     ]
    },
    {
     "name": "stderr",
     "output_type": "stream",
     "text": [
      "/var/folders/jp/4mwsn7_x6j9gnv1hl1dztqth0000gn/T/ipykernel_2530/2398993980.py:38: FutureWarning: The frame.append method is deprecated and will be removed from pandas in a future version. Use pandas.concat instead.\n",
      "  data_remove=data_remove.append(data_remove_outlier,ignore_index=True)\n"
     ]
    },
    {
     "name": "stdout",
     "output_type": "stream",
     "text": [
      "SDSS J141923.44-030458.7 \n",
      "SDSSJ141923.44-030458.7\n",
      "SDSS J142641.03+521214.3 \n",
      "SDSSJ142641.03+521214.3\n"
     ]
    },
    {
     "name": "stderr",
     "output_type": "stream",
     "text": [
      "/var/folders/jp/4mwsn7_x6j9gnv1hl1dztqth0000gn/T/ipykernel_2530/2398993980.py:38: FutureWarning: The frame.append method is deprecated and will be removed from pandas in a future version. Use pandas.concat instead.\n",
      "  data_remove=data_remove.append(data_remove_outlier,ignore_index=True)\n"
     ]
    },
    {
     "name": "stdout",
     "output_type": "stream",
     "text": [
      "SDSS J143642.57+042355.3 \n",
      "SDSSJ143642.57+042355.3\n",
      "SDSS J144003.98+061936.5 \n",
      "SDSSJ144003.98+061936.5\n"
     ]
    },
    {
     "name": "stderr",
     "output_type": "stream",
     "text": [
      "/var/folders/jp/4mwsn7_x6j9gnv1hl1dztqth0000gn/T/ipykernel_2530/2398993980.py:38: FutureWarning: The frame.append method is deprecated and will be removed from pandas in a future version. Use pandas.concat instead.\n",
      "  data_remove=data_remove.append(data_remove_outlier,ignore_index=True)\n"
     ]
    },
    {
     "name": "stdout",
     "output_type": "stream",
     "text": [
      "SDSS J144051.17+024415.8 \n",
      "SDSSJ144051.17+024415.8\n"
     ]
    },
    {
     "name": "stderr",
     "output_type": "stream",
     "text": [
      "/var/folders/jp/4mwsn7_x6j9gnv1hl1dztqth0000gn/T/ipykernel_2530/2398993980.py:38: FutureWarning: The frame.append method is deprecated and will be removed from pandas in a future version. Use pandas.concat instead.\n",
      "  data_remove=data_remove.append(data_remove_outlier,ignore_index=True)\n"
     ]
    },
    {
     "name": "stdout",
     "output_type": "stream",
     "text": [
      "SDSS J144051.68+452934.2 \n",
      "SDSSJ144051.68+452934.2\n"
     ]
    },
    {
     "name": "stderr",
     "output_type": "stream",
     "text": [
      "/var/folders/jp/4mwsn7_x6j9gnv1hl1dztqth0000gn/T/ipykernel_2530/2398993980.py:38: FutureWarning: The frame.append method is deprecated and will be removed from pandas in a future version. Use pandas.concat instead.\n",
      "  data_remove=data_remove.append(data_remove_outlier,ignore_index=True)\n"
     ]
    },
    {
     "name": "stdout",
     "output_type": "stream",
     "text": [
      "SDSS J144924.75+095523.7 \n",
      "SDSSJ144924.75+095523.7\n"
     ]
    },
    {
     "name": "stderr",
     "output_type": "stream",
     "text": [
      "/var/folders/jp/4mwsn7_x6j9gnv1hl1dztqth0000gn/T/ipykernel_2530/2398993980.py:38: FutureWarning: The frame.append method is deprecated and will be removed from pandas in a future version. Use pandas.concat instead.\n",
      "  data_remove=data_remove.append(data_remove_outlier,ignore_index=True)\n"
     ]
    },
    {
     "name": "stdout",
     "output_type": "stream",
     "text": [
      "SDSS J145854.93+364009.7 \n",
      "SDSSJ145854.93+364009.7\n"
     ]
    },
    {
     "name": "stderr",
     "output_type": "stream",
     "text": [
      "/var/folders/jp/4mwsn7_x6j9gnv1hl1dztqth0000gn/T/ipykernel_2530/2398993980.py:38: FutureWarning: The frame.append method is deprecated and will be removed from pandas in a future version. Use pandas.concat instead.\n",
      "  data_remove=data_remove.append(data_remove_outlier,ignore_index=True)\n"
     ]
    },
    {
     "name": "stdout",
     "output_type": "stream",
     "text": [
      "SDSS J145858.32+375305.4 \n",
      "SDSSJ145858.32+375305.4\n"
     ]
    },
    {
     "name": "stderr",
     "output_type": "stream",
     "text": [
      "/var/folders/jp/4mwsn7_x6j9gnv1hl1dztqth0000gn/T/ipykernel_2530/2398993980.py:38: FutureWarning: The frame.append method is deprecated and will be removed from pandas in a future version. Use pandas.concat instead.\n",
      "  data_remove=data_remove.append(data_remove_outlier,ignore_index=True)\n"
     ]
    },
    {
     "name": "stdout",
     "output_type": "stream",
     "text": [
      "SDSS J145913.90+360051.4 \n",
      "SDSSJ145913.90+360051.4\n"
     ]
    },
    {
     "name": "stderr",
     "output_type": "stream",
     "text": [
      "/var/folders/jp/4mwsn7_x6j9gnv1hl1dztqth0000gn/T/ipykernel_2530/2398993980.py:38: FutureWarning: The frame.append method is deprecated and will be removed from pandas in a future version. Use pandas.concat instead.\n",
      "  data_remove=data_remove.append(data_remove_outlier,ignore_index=True)\n"
     ]
    },
    {
     "name": "stdout",
     "output_type": "stream",
     "text": [
      "SDSS J150519.52+075843.8 \n",
      "SDSSJ150519.52+075843.8\n",
      "SDSS J151130.51+345959.9 \n",
      "SDSSJ151130.51+345959.9\n"
     ]
    },
    {
     "name": "stderr",
     "output_type": "stream",
     "text": [
      "/var/folders/jp/4mwsn7_x6j9gnv1hl1dztqth0000gn/T/ipykernel_2530/2398993980.py:38: FutureWarning: The frame.append method is deprecated and will be removed from pandas in a future version. Use pandas.concat instead.\n",
      "  data_remove=data_remove.append(data_remove_outlier,ignore_index=True)\n"
     ]
    },
    {
     "name": "stdout",
     "output_type": "stream",
     "text": [
      "SDSS J151609.80+155219.6 \n",
      "SDSSJ151609.80+155219.6\n"
     ]
    },
    {
     "name": "stderr",
     "output_type": "stream",
     "text": [
      "/var/folders/jp/4mwsn7_x6j9gnv1hl1dztqth0000gn/T/ipykernel_2530/2398993980.py:38: FutureWarning: The frame.append method is deprecated and will be removed from pandas in a future version. Use pandas.concat instead.\n",
      "  data_remove=data_remove.append(data_remove_outlier,ignore_index=True)\n"
     ]
    },
    {
     "name": "stdout",
     "output_type": "stream",
     "text": [
      "SDSS J151904.85+151251.7 \n",
      "SDSSJ151904.85+151251.7\n"
     ]
    },
    {
     "name": "stderr",
     "output_type": "stream",
     "text": [
      "/var/folders/jp/4mwsn7_x6j9gnv1hl1dztqth0000gn/T/ipykernel_2530/2398993980.py:38: FutureWarning: The frame.append method is deprecated and will be removed from pandas in a future version. Use pandas.concat instead.\n",
      "  data_remove=data_remove.append(data_remove_outlier,ignore_index=True)\n"
     ]
    },
    {
     "name": "stdout",
     "output_type": "stream",
     "text": [
      "SDSS J152517.57+401357.6 \n",
      "SDSSJ152517.57+401357.6\n"
     ]
    },
    {
     "name": "stderr",
     "output_type": "stream",
     "text": [
      "/var/folders/jp/4mwsn7_x6j9gnv1hl1dztqth0000gn/T/ipykernel_2530/2398993980.py:38: FutureWarning: The frame.append method is deprecated and will be removed from pandas in a future version. Use pandas.concat instead.\n",
      "  data_remove=data_remove.append(data_remove_outlier,ignore_index=True)\n"
     ]
    },
    {
     "name": "stdout",
     "output_type": "stream",
     "text": [
      "SDSS J152551.37+184552.0 \n",
      "SDSSJ152551.37+184552.0\n"
     ]
    },
    {
     "name": "stderr",
     "output_type": "stream",
     "text": [
      "/var/folders/jp/4mwsn7_x6j9gnv1hl1dztqth0000gn/T/ipykernel_2530/2398993980.py:38: FutureWarning: The frame.append method is deprecated and will be removed from pandas in a future version. Use pandas.concat instead.\n",
      "  data_remove=data_remove.append(data_remove_outlier,ignore_index=True)\n"
     ]
    },
    {
     "name": "stdout",
     "output_type": "stream",
     "text": [
      "SDSS J152759.29+141743.3 \n",
      "SDSSJ152759.29+141743.3\n"
     ]
    },
    {
     "name": "stderr",
     "output_type": "stream",
     "text": [
      "/var/folders/jp/4mwsn7_x6j9gnv1hl1dztqth0000gn/T/ipykernel_2530/2398993980.py:38: FutureWarning: The frame.append method is deprecated and will be removed from pandas in a future version. Use pandas.concat instead.\n",
      "  data_remove=data_remove.append(data_remove_outlier,ignore_index=True)\n"
     ]
    },
    {
     "name": "stdout",
     "output_type": "stream",
     "text": [
      "SDSS J152908.75+083203.5 \n",
      "SDSSJ152908.75+083203.5\n",
      "SDSS J153011.79+325937.1 \n",
      "SDSSJ153011.79+325937.1\n",
      "SDSS J153149.94+372755.4 \n",
      "SDSSJ153149.94+372755.4\n"
     ]
    },
    {
     "name": "stderr",
     "output_type": "stream",
     "text": [
      "/var/folders/jp/4mwsn7_x6j9gnv1hl1dztqth0000gn/T/ipykernel_2530/2398993980.py:38: FutureWarning: The frame.append method is deprecated and will be removed from pandas in a future version. Use pandas.concat instead.\n",
      "  data_remove=data_remove.append(data_remove_outlier,ignore_index=True)\n"
     ]
    },
    {
     "name": "stdout",
     "output_type": "stream",
     "text": [
      "SDSS J153154.37+024805.4 \n",
      "SDSSJ153154.37+024805.4\n"
     ]
    },
    {
     "name": "stderr",
     "output_type": "stream",
     "text": [
      "/var/folders/jp/4mwsn7_x6j9gnv1hl1dztqth0000gn/T/ipykernel_2530/2398993980.py:38: FutureWarning: The frame.append method is deprecated and will be removed from pandas in a future version. Use pandas.concat instead.\n",
      "  data_remove=data_remove.append(data_remove_outlier,ignore_index=True)\n"
     ]
    },
    {
     "name": "stdout",
     "output_type": "stream",
     "text": [
      "SDSS J153528.91+352834.5 \n",
      "SDSSJ153528.91+352834.5\n"
     ]
    },
    {
     "name": "stderr",
     "output_type": "stream",
     "text": [
      "/var/folders/jp/4mwsn7_x6j9gnv1hl1dztqth0000gn/T/ipykernel_2530/2398993980.py:38: FutureWarning: The frame.append method is deprecated and will be removed from pandas in a future version. Use pandas.concat instead.\n",
      "  data_remove=data_remove.append(data_remove_outlier,ignore_index=True)\n"
     ]
    },
    {
     "name": "stdout",
     "output_type": "stream",
     "text": [
      "SDSS J153714.41+454347.7 \n",
      "SDSSJ153714.41+454347.7\n"
     ]
    },
    {
     "name": "stderr",
     "output_type": "stream",
     "text": [
      "/var/folders/jp/4mwsn7_x6j9gnv1hl1dztqth0000gn/T/ipykernel_2530/2398993980.py:38: FutureWarning: The frame.append method is deprecated and will be removed from pandas in a future version. Use pandas.concat instead.\n",
      "  data_remove=data_remove.append(data_remove_outlier,ignore_index=True)\n"
     ]
    },
    {
     "name": "stdout",
     "output_type": "stream",
     "text": [
      "SDSS J153904.63+375248.3 \n",
      "SDSSJ153904.63+375248.3\n"
     ]
    },
    {
     "name": "stderr",
     "output_type": "stream",
     "text": [
      "/var/folders/jp/4mwsn7_x6j9gnv1hl1dztqth0000gn/T/ipykernel_2530/2398993980.py:38: FutureWarning: The frame.append method is deprecated and will be removed from pandas in a future version. Use pandas.concat instead.\n",
      "  data_remove=data_remove.append(data_remove_outlier,ignore_index=True)\n"
     ]
    },
    {
     "name": "stdout",
     "output_type": "stream",
     "text": [
      "SDSS J153938.92+373853.8 \n",
      "SDSSJ153938.92+373853.8\n"
     ]
    },
    {
     "name": "stderr",
     "output_type": "stream",
     "text": [
      "/var/folders/jp/4mwsn7_x6j9gnv1hl1dztqth0000gn/T/ipykernel_2530/2398993980.py:38: FutureWarning: The frame.append method is deprecated and will be removed from pandas in a future version. Use pandas.concat instead.\n",
      "  data_remove=data_remove.append(data_remove_outlier,ignore_index=True)\n"
     ]
    },
    {
     "name": "stdout",
     "output_type": "stream",
     "text": [
      "SDSS J154742.72+012541.0 \n",
      "SDSSJ154742.72+012541.0\n"
     ]
    },
    {
     "name": "stderr",
     "output_type": "stream",
     "text": [
      "/var/folders/jp/4mwsn7_x6j9gnv1hl1dztqth0000gn/T/ipykernel_2530/2398993980.py:38: FutureWarning: The frame.append method is deprecated and will be removed from pandas in a future version. Use pandas.concat instead.\n",
      "  data_remove=data_remove.append(data_remove_outlier,ignore_index=True)\n"
     ]
    },
    {
     "name": "stdout",
     "output_type": "stream",
     "text": [
      "SDSS J154753.40+431650.4 \n",
      "SDSSJ154753.40+431650.4\n"
     ]
    },
    {
     "name": "stderr",
     "output_type": "stream",
     "text": [
      "/var/folders/jp/4mwsn7_x6j9gnv1hl1dztqth0000gn/T/ipykernel_2530/2398993980.py:38: FutureWarning: The frame.append method is deprecated and will be removed from pandas in a future version. Use pandas.concat instead.\n",
      "  data_remove=data_remove.append(data_remove_outlier,ignore_index=True)\n"
     ]
    },
    {
     "name": "stdout",
     "output_type": "stream",
     "text": [
      "SDSS J155426.13+200527.7 \n",
      "SDSSJ155426.13+200527.7\n"
     ]
    },
    {
     "name": "stderr",
     "output_type": "stream",
     "text": [
      "/var/folders/jp/4mwsn7_x6j9gnv1hl1dztqth0000gn/T/ipykernel_2530/2398993980.py:38: FutureWarning: The frame.append method is deprecated and will be removed from pandas in a future version. Use pandas.concat instead.\n",
      "  data_remove=data_remove.append(data_remove_outlier,ignore_index=True)\n"
     ]
    },
    {
     "name": "stdout",
     "output_type": "stream",
     "text": [
      "SDSS J155600.10+401645.3 \n",
      "SDSSJ155600.10+401645.3\n"
     ]
    },
    {
     "name": "stderr",
     "output_type": "stream",
     "text": [
      "/var/folders/jp/4mwsn7_x6j9gnv1hl1dztqth0000gn/T/ipykernel_2530/2398993980.py:38: FutureWarning: The frame.append method is deprecated and will be removed from pandas in a future version. Use pandas.concat instead.\n",
      "  data_remove=data_remove.append(data_remove_outlier,ignore_index=True)\n"
     ]
    },
    {
     "name": "stdout",
     "output_type": "stream",
     "text": [
      "SDSS J160047.63+331310.7 \n",
      "SDSSJ160047.63+331310.7\n"
     ]
    },
    {
     "name": "stderr",
     "output_type": "stream",
     "text": [
      "/var/folders/jp/4mwsn7_x6j9gnv1hl1dztqth0000gn/T/ipykernel_2530/2398993980.py:38: FutureWarning: The frame.append method is deprecated and will be removed from pandas in a future version. Use pandas.concat instead.\n",
      "  data_remove=data_remove.append(data_remove_outlier,ignore_index=True)\n"
     ]
    },
    {
     "name": "stdout",
     "output_type": "stream",
     "text": [
      "SDSS J160139.10+412529.3 \n",
      "SDSSJ160139.10+412529.3\n"
     ]
    },
    {
     "name": "stderr",
     "output_type": "stream",
     "text": [
      "/var/folders/jp/4mwsn7_x6j9gnv1hl1dztqth0000gn/T/ipykernel_2530/2398993980.py:38: FutureWarning: The frame.append method is deprecated and will be removed from pandas in a future version. Use pandas.concat instead.\n",
      "  data_remove=data_remove.append(data_remove_outlier,ignore_index=True)\n"
     ]
    },
    {
     "name": "stdout",
     "output_type": "stream",
     "text": [
      "SDSS J160145.49+420739.1 \n",
      "SDSSJ160145.49+420739.1\n",
      "SDSS J160310.99+432928.9 \n",
      "SDSSJ160310.99+432928.9\n"
     ]
    },
    {
     "name": "stderr",
     "output_type": "stream",
     "text": [
      "/var/folders/jp/4mwsn7_x6j9gnv1hl1dztqth0000gn/T/ipykernel_2530/2398993980.py:38: FutureWarning: The frame.append method is deprecated and will be removed from pandas in a future version. Use pandas.concat instead.\n",
      "  data_remove=data_remove.append(data_remove_outlier,ignore_index=True)\n"
     ]
    },
    {
     "name": "stdout",
     "output_type": "stream",
     "text": [
      "SDSS J160337.12+242513.9 \n",
      "SDSSJ160337.12+242513.9\n"
     ]
    },
    {
     "name": "stderr",
     "output_type": "stream",
     "text": [
      "/var/folders/jp/4mwsn7_x6j9gnv1hl1dztqth0000gn/T/ipykernel_2530/2398993980.py:38: FutureWarning: The frame.append method is deprecated and will be removed from pandas in a future version. Use pandas.concat instead.\n",
      "  data_remove=data_remove.append(data_remove_outlier,ignore_index=True)\n"
     ]
    },
    {
     "name": "stdout",
     "output_type": "stream",
     "text": [
      "SDSS J160356.22+313348.7 \n",
      "SDSSJ160356.22+313348.7\n"
     ]
    },
    {
     "name": "stderr",
     "output_type": "stream",
     "text": [
      "/var/folders/jp/4mwsn7_x6j9gnv1hl1dztqth0000gn/T/ipykernel_2530/2398993980.py:38: FutureWarning: The frame.append method is deprecated and will be removed from pandas in a future version. Use pandas.concat instead.\n",
      "  data_remove=data_remove.append(data_remove_outlier,ignore_index=True)\n"
     ]
    },
    {
     "name": "stdout",
     "output_type": "stream",
     "text": [
      "SDSS J160717.35+324703.1 \n",
      "SDSSJ160717.35+324703.1\n"
     ]
    },
    {
     "name": "stderr",
     "output_type": "stream",
     "text": [
      "/var/folders/jp/4mwsn7_x6j9gnv1hl1dztqth0000gn/T/ipykernel_2530/2398993980.py:38: FutureWarning: The frame.append method is deprecated and will be removed from pandas in a future version. Use pandas.concat instead.\n",
      "  data_remove=data_remove.append(data_remove_outlier,ignore_index=True)\n"
     ]
    },
    {
     "name": "stdout",
     "output_type": "stream",
     "text": [
      "SDSS J160730.20+560305.5 \n",
      "SDSSJ160730.20+560305.5\n"
     ]
    },
    {
     "name": "stderr",
     "output_type": "stream",
     "text": [
      "/var/folders/jp/4mwsn7_x6j9gnv1hl1dztqth0000gn/T/ipykernel_2530/2398993980.py:38: FutureWarning: The frame.append method is deprecated and will be removed from pandas in a future version. Use pandas.concat instead.\n",
      "  data_remove=data_remove.append(data_remove_outlier,ignore_index=True)\n"
     ]
    },
    {
     "name": "stdout",
     "output_type": "stream",
     "text": [
      "SDSS J161052.72+482308.9 \n",
      "SDSSJ161052.72+482308.9\n"
     ]
    },
    {
     "name": "stderr",
     "output_type": "stream",
     "text": [
      "/var/folders/jp/4mwsn7_x6j9gnv1hl1dztqth0000gn/T/ipykernel_2530/2398993980.py:38: FutureWarning: The frame.append method is deprecated and will be removed from pandas in a future version. Use pandas.concat instead.\n",
      "  data_remove=data_remove.append(data_remove_outlier,ignore_index=True)\n"
     ]
    },
    {
     "name": "stdout",
     "output_type": "stream",
     "text": [
      "SDSS J161305.50+491340.2 \n",
      "SDSSJ161305.50+491340.2\n"
     ]
    },
    {
     "name": "stderr",
     "output_type": "stream",
     "text": [
      "/var/folders/jp/4mwsn7_x6j9gnv1hl1dztqth0000gn/T/ipykernel_2530/2398993980.py:38: FutureWarning: The frame.append method is deprecated and will be removed from pandas in a future version. Use pandas.concat instead.\n",
      "  data_remove=data_remove.append(data_remove_outlier,ignore_index=True)\n"
     ]
    },
    {
     "name": "stdout",
     "output_type": "stream",
     "text": [
      "SDSS J161542.41+233143.9 \n",
      "SDSSJ161542.41+233143.9\n"
     ]
    },
    {
     "name": "stderr",
     "output_type": "stream",
     "text": [
      "/var/folders/jp/4mwsn7_x6j9gnv1hl1dztqth0000gn/T/ipykernel_2530/2398993980.py:38: FutureWarning: The frame.append method is deprecated and will be removed from pandas in a future version. Use pandas.concat instead.\n",
      "  data_remove=data_remove.append(data_remove_outlier,ignore_index=True)\n"
     ]
    },
    {
     "name": "stdout",
     "output_type": "stream",
     "text": [
      "SDSS J161903.04+540529.0 \n",
      "SDSSJ161903.04+540529.0\n"
     ]
    },
    {
     "name": "stderr",
     "output_type": "stream",
     "text": [
      "/var/folders/jp/4mwsn7_x6j9gnv1hl1dztqth0000gn/T/ipykernel_2530/2398993980.py:38: FutureWarning: The frame.append method is deprecated and will be removed from pandas in a future version. Use pandas.concat instead.\n",
      "  data_remove=data_remove.append(data_remove_outlier,ignore_index=True)\n"
     ]
    },
    {
     "name": "stdout",
     "output_type": "stream",
     "text": [
      "SDSS J162106.25+371950.7 \n",
      "SDSSJ162106.25+371950.7\n"
     ]
    },
    {
     "name": "stderr",
     "output_type": "stream",
     "text": [
      "/var/folders/jp/4mwsn7_x6j9gnv1hl1dztqth0000gn/T/ipykernel_2530/2398993980.py:38: FutureWarning: The frame.append method is deprecated and will be removed from pandas in a future version. Use pandas.concat instead.\n",
      "  data_remove=data_remove.append(data_remove_outlier,ignore_index=True)\n"
     ]
    },
    {
     "name": "stdout",
     "output_type": "stream",
     "text": [
      "SDSS J162829.18+432948.5 \n",
      "SDSSJ162829.18+432948.5\n"
     ]
    },
    {
     "name": "stderr",
     "output_type": "stream",
     "text": [
      "/var/folders/jp/4mwsn7_x6j9gnv1hl1dztqth0000gn/T/ipykernel_2530/2398993980.py:38: FutureWarning: The frame.append method is deprecated and will be removed from pandas in a future version. Use pandas.concat instead.\n",
      "  data_remove=data_remove.append(data_remove_outlier,ignore_index=True)\n"
     ]
    },
    {
     "name": "stdout",
     "output_type": "stream",
     "text": [
      "SDSS J162830.55+170725.6 \n",
      "SDSSJ162830.55+170725.6\n"
     ]
    },
    {
     "name": "stderr",
     "output_type": "stream",
     "text": [
      "/var/folders/jp/4mwsn7_x6j9gnv1hl1dztqth0000gn/T/ipykernel_2530/2398993980.py:38: FutureWarning: The frame.append method is deprecated and will be removed from pandas in a future version. Use pandas.concat instead.\n",
      "  data_remove=data_remove.append(data_remove_outlier,ignore_index=True)\n"
     ]
    },
    {
     "name": "stdout",
     "output_type": "stream",
     "text": [
      "SDSS J163116.64+261711.9 \n",
      "SDSSJ163116.64+261711.9\n"
     ]
    },
    {
     "name": "stderr",
     "output_type": "stream",
     "text": [
      "/var/folders/jp/4mwsn7_x6j9gnv1hl1dztqth0000gn/T/ipykernel_2530/2398993980.py:38: FutureWarning: The frame.append method is deprecated and will be removed from pandas in a future version. Use pandas.concat instead.\n",
      "  data_remove=data_remove.append(data_remove_outlier,ignore_index=True)\n"
     ]
    },
    {
     "name": "stdout",
     "output_type": "stream",
     "text": [
      "SDSS J163438.42+120436.9 \n",
      "SDSSJ163438.42+120436.9\n"
     ]
    },
    {
     "name": "stderr",
     "output_type": "stream",
     "text": [
      "/var/folders/jp/4mwsn7_x6j9gnv1hl1dztqth0000gn/T/ipykernel_2530/2398993980.py:38: FutureWarning: The frame.append method is deprecated and will be removed from pandas in a future version. Use pandas.concat instead.\n",
      "  data_remove=data_remove.append(data_remove_outlier,ignore_index=True)\n"
     ]
    },
    {
     "name": "stdout",
     "output_type": "stream",
     "text": [
      "SDSS J163609.96+310630.9 \n",
      "SDSSJ163609.96+310630.9\n"
     ]
    },
    {
     "name": "stderr",
     "output_type": "stream",
     "text": [
      "WARNING: NoResultsWarning: Query returned no results, so the table will be empty [astroquery.ipac.irsa.core]\n"
     ]
    },
    {
     "name": "stdout",
     "output_type": "stream",
     "text": [
      "SDSS J163852.93+282707.7 \n",
      "SDSSJ163852.93+282707.7\n"
     ]
    },
    {
     "name": "stderr",
     "output_type": "stream",
     "text": [
      "/var/folders/jp/4mwsn7_x6j9gnv1hl1dztqth0000gn/T/ipykernel_2530/2398993980.py:38: FutureWarning: The frame.append method is deprecated and will be removed from pandas in a future version. Use pandas.concat instead.\n",
      "  data_remove=data_remove.append(data_remove_outlier,ignore_index=True)\n"
     ]
    },
    {
     "name": "stdout",
     "output_type": "stream",
     "text": [
      "SDSS J164331.90+304835.5 \n",
      "SDSSJ164331.90+304835.5\n"
     ]
    },
    {
     "name": "stderr",
     "output_type": "stream",
     "text": [
      "/var/folders/jp/4mwsn7_x6j9gnv1hl1dztqth0000gn/T/ipykernel_2530/2398993980.py:38: FutureWarning: The frame.append method is deprecated and will be removed from pandas in a future version. Use pandas.concat instead.\n",
      "  data_remove=data_remove.append(data_remove_outlier,ignore_index=True)\n"
     ]
    },
    {
     "name": "stdout",
     "output_type": "stream",
     "text": [
      "SDSS J164709.87+532202.2 \n",
      "SDSSJ164709.87+532202.2\n"
     ]
    },
    {
     "name": "stderr",
     "output_type": "stream",
     "text": [
      "/var/folders/jp/4mwsn7_x6j9gnv1hl1dztqth0000gn/T/ipykernel_2530/2398993980.py:38: FutureWarning: The frame.append method is deprecated and will be removed from pandas in a future version. Use pandas.concat instead.\n",
      "  data_remove=data_remove.append(data_remove_outlier,ignore_index=True)\n"
     ]
    },
    {
     "name": "stdout",
     "output_type": "stream",
     "text": [
      "SDSS J164725.15+351754.3 \n",
      "SDSSJ164725.15+351754.3\n"
     ]
    },
    {
     "name": "stderr",
     "output_type": "stream",
     "text": [
      "/var/folders/jp/4mwsn7_x6j9gnv1hl1dztqth0000gn/T/ipykernel_2530/2398993980.py:38: FutureWarning: The frame.append method is deprecated and will be removed from pandas in a future version. Use pandas.concat instead.\n",
      "  data_remove=data_remove.append(data_remove_outlier,ignore_index=True)\n"
     ]
    },
    {
     "name": "stdout",
     "output_type": "stream",
     "text": [
      "SDSS J164900.95+452016.8 \n",
      "SDSSJ164900.95+452016.8\n"
     ]
    },
    {
     "name": "stderr",
     "output_type": "stream",
     "text": [
      "/var/folders/jp/4mwsn7_x6j9gnv1hl1dztqth0000gn/T/ipykernel_2530/2398993980.py:38: FutureWarning: The frame.append method is deprecated and will be removed from pandas in a future version. Use pandas.concat instead.\n",
      "  data_remove=data_remove.append(data_remove_outlier,ignore_index=True)\n"
     ]
    },
    {
     "name": "stdout",
     "output_type": "stream",
     "text": [
      "SDSS J165106.49+452736.8 \n",
      "SDSSJ165106.49+452736.8\n"
     ]
    },
    {
     "name": "stderr",
     "output_type": "stream",
     "text": [
      "/var/folders/jp/4mwsn7_x6j9gnv1hl1dztqth0000gn/T/ipykernel_2530/2398993980.py:38: FutureWarning: The frame.append method is deprecated and will be removed from pandas in a future version. Use pandas.concat instead.\n",
      "  data_remove=data_remove.append(data_remove_outlier,ignore_index=True)\n"
     ]
    },
    {
     "name": "stdout",
     "output_type": "stream",
     "text": [
      "SDSS J165547.72+503442.3 \n",
      "SDSSJ165547.72+503442.3\n"
     ]
    },
    {
     "name": "stderr",
     "output_type": "stream",
     "text": [
      "/var/folders/jp/4mwsn7_x6j9gnv1hl1dztqth0000gn/T/ipykernel_2530/2398993980.py:38: FutureWarning: The frame.append method is deprecated and will be removed from pandas in a future version. Use pandas.concat instead.\n",
      "  data_remove=data_remove.append(data_remove_outlier,ignore_index=True)\n"
     ]
    },
    {
     "name": "stdout",
     "output_type": "stream",
     "text": [
      "SDSS J170154.62+264324.8 \n",
      "SDSSJ170154.62+264324.8\n"
     ]
    },
    {
     "name": "stderr",
     "output_type": "stream",
     "text": [
      "/var/folders/jp/4mwsn7_x6j9gnv1hl1dztqth0000gn/T/ipykernel_2530/2398993980.py:38: FutureWarning: The frame.append method is deprecated and will be removed from pandas in a future version. Use pandas.concat instead.\n",
      "  data_remove=data_remove.append(data_remove_outlier,ignore_index=True)\n"
     ]
    },
    {
     "name": "stdout",
     "output_type": "stream",
     "text": [
      "SDSS J170707.08+412650.5 \n",
      "SDSSJ170707.08+412650.5\n"
     ]
    },
    {
     "name": "stderr",
     "output_type": "stream",
     "text": [
      "/var/folders/jp/4mwsn7_x6j9gnv1hl1dztqth0000gn/T/ipykernel_2530/2398993980.py:38: FutureWarning: The frame.append method is deprecated and will be removed from pandas in a future version. Use pandas.concat instead.\n",
      "  data_remove=data_remove.append(data_remove_outlier,ignore_index=True)\n"
     ]
    },
    {
     "name": "stdout",
     "output_type": "stream",
     "text": [
      "SDSS J171104.42+432759.0 \n",
      "SDSSJ171104.42+432759.0\n"
     ]
    },
    {
     "name": "stderr",
     "output_type": "stream",
     "text": [
      "/var/folders/jp/4mwsn7_x6j9gnv1hl1dztqth0000gn/T/ipykernel_2530/2398993980.py:38: FutureWarning: The frame.append method is deprecated and will be removed from pandas in a future version. Use pandas.concat instead.\n",
      "  data_remove=data_remove.append(data_remove_outlier,ignore_index=True)\n"
     ]
    },
    {
     "name": "stdout",
     "output_type": "stream",
     "text": [
      "SDSS J171135.19+405931.2 \n",
      "SDSSJ171135.19+405931.2\n"
     ]
    },
    {
     "name": "stderr",
     "output_type": "stream",
     "text": [
      "/var/folders/jp/4mwsn7_x6j9gnv1hl1dztqth0000gn/T/ipykernel_2530/2398993980.py:38: FutureWarning: The frame.append method is deprecated and will be removed from pandas in a future version. Use pandas.concat instead.\n",
      "  data_remove=data_remove.append(data_remove_outlier,ignore_index=True)\n"
     ]
    },
    {
     "name": "stdout",
     "output_type": "stream",
     "text": [
      "SDSS J204449.76+004144.3 \n",
      "SDSSJ204449.76+004144.3\n"
     ]
    },
    {
     "name": "stderr",
     "output_type": "stream",
     "text": [
      "/var/folders/jp/4mwsn7_x6j9gnv1hl1dztqth0000gn/T/ipykernel_2530/2398993980.py:38: FutureWarning: The frame.append method is deprecated and will be removed from pandas in a future version. Use pandas.concat instead.\n",
      "  data_remove=data_remove.append(data_remove_outlier,ignore_index=True)\n"
     ]
    },
    {
     "name": "stdout",
     "output_type": "stream",
     "text": [
      "SDSS J211630.87+011446.8 \n",
      "SDSSJ211630.87+011446.8\n",
      "SDSS J212311.10+053012.6 \n",
      "SDSSJ212311.10+053012.6\n",
      "SDSS J213135.84+001517.0 \n",
      "SDSSJ213135.84+001517.0\n"
     ]
    },
    {
     "name": "stderr",
     "output_type": "stream",
     "text": [
      "/var/folders/jp/4mwsn7_x6j9gnv1hl1dztqth0000gn/T/ipykernel_2530/2398993980.py:38: FutureWarning: The frame.append method is deprecated and will be removed from pandas in a future version. Use pandas.concat instead.\n",
      "  data_remove=data_remove.append(data_remove_outlier,ignore_index=True)\n"
     ]
    },
    {
     "name": "stdout",
     "output_type": "stream",
     "text": [
      "SDSS J213400.68+013828.4 \n",
      "SDSSJ213400.68+013828.4\n"
     ]
    },
    {
     "name": "stderr",
     "output_type": "stream",
     "text": [
      "/var/folders/jp/4mwsn7_x6j9gnv1hl1dztqth0000gn/T/ipykernel_2530/2398993980.py:38: FutureWarning: The frame.append method is deprecated and will be removed from pandas in a future version. Use pandas.concat instead.\n",
      "  data_remove=data_remove.append(data_remove_outlier,ignore_index=True)\n"
     ]
    },
    {
     "name": "stdout",
     "output_type": "stream",
     "text": [
      "SDSS J213628.50-003811.8 \n",
      "SDSSJ213628.50-003811.8\n"
     ]
    },
    {
     "name": "stderr",
     "output_type": "stream",
     "text": [
      "/var/folders/jp/4mwsn7_x6j9gnv1hl1dztqth0000gn/T/ipykernel_2530/2398993980.py:38: FutureWarning: The frame.append method is deprecated and will be removed from pandas in a future version. Use pandas.concat instead.\n",
      "  data_remove=data_remove.append(data_remove_outlier,ignore_index=True)\n"
     ]
    },
    {
     "name": "stdout",
     "output_type": "stream",
     "text": [
      "SDSS J214822.25+011217.6 \n",
      "SDSSJ214822.25+011217.6\n"
     ]
    },
    {
     "name": "stderr",
     "output_type": "stream",
     "text": [
      "/var/folders/jp/4mwsn7_x6j9gnv1hl1dztqth0000gn/T/ipykernel_2530/2398993980.py:38: FutureWarning: The frame.append method is deprecated and will be removed from pandas in a future version. Use pandas.concat instead.\n",
      "  data_remove=data_remove.append(data_remove_outlier,ignore_index=True)\n"
     ]
    },
    {
     "name": "stdout",
     "output_type": "stream",
     "text": [
      "SDSS J221044.76+245958.0 \n",
      "SDSSJ221044.76+245958.0\n"
     ]
    },
    {
     "name": "stderr",
     "output_type": "stream",
     "text": [
      "/var/folders/jp/4mwsn7_x6j9gnv1hl1dztqth0000gn/T/ipykernel_2530/2398993980.py:38: FutureWarning: The frame.append method is deprecated and will be removed from pandas in a future version. Use pandas.concat instead.\n",
      "  data_remove=data_remove.append(data_remove_outlier,ignore_index=True)\n"
     ]
    },
    {
     "name": "stdout",
     "output_type": "stream",
     "text": [
      "SDSS J221925.57+272806.4 \n",
      "SDSSJ221925.57+272806.4\n"
     ]
    },
    {
     "name": "stderr",
     "output_type": "stream",
     "text": [
      "/var/folders/jp/4mwsn7_x6j9gnv1hl1dztqth0000gn/T/ipykernel_2530/2398993980.py:38: FutureWarning: The frame.append method is deprecated and will be removed from pandas in a future version. Use pandas.concat instead.\n",
      "  data_remove=data_remove.append(data_remove_outlier,ignore_index=True)\n"
     ]
    },
    {
     "name": "stdout",
     "output_type": "stream",
     "text": [
      "SDSS J223440.56+272437.9 \n",
      "SDSSJ223440.56+272437.9\n"
     ]
    },
    {
     "name": "stderr",
     "output_type": "stream",
     "text": [
      "/var/folders/jp/4mwsn7_x6j9gnv1hl1dztqth0000gn/T/ipykernel_2530/2398993980.py:38: FutureWarning: The frame.append method is deprecated and will be removed from pandas in a future version. Use pandas.concat instead.\n",
      "  data_remove=data_remove.append(data_remove_outlier,ignore_index=True)\n"
     ]
    },
    {
     "name": "stdout",
     "output_type": "stream",
     "text": [
      "SDSS J224547.01+284612.6 \n",
      "SDSSJ224547.01+284612.6\n"
     ]
    },
    {
     "name": "stderr",
     "output_type": "stream",
     "text": [
      "/var/folders/jp/4mwsn7_x6j9gnv1hl1dztqth0000gn/T/ipykernel_2530/2398993980.py:38: FutureWarning: The frame.append method is deprecated and will be removed from pandas in a future version. Use pandas.concat instead.\n",
      "  data_remove=data_remove.append(data_remove_outlier,ignore_index=True)\n"
     ]
    },
    {
     "name": "stdout",
     "output_type": "stream",
     "text": [
      "SDSS J224657.70-003242.5 \n",
      "SDSSJ224657.70-003242.5\n"
     ]
    },
    {
     "name": "stderr",
     "output_type": "stream",
     "text": [
      "/var/folders/jp/4mwsn7_x6j9gnv1hl1dztqth0000gn/T/ipykernel_2530/2398993980.py:38: FutureWarning: The frame.append method is deprecated and will be removed from pandas in a future version. Use pandas.concat instead.\n",
      "  data_remove=data_remove.append(data_remove_outlier,ignore_index=True)\n"
     ]
    }
   ],
   "source": [
    "wisedata_path='/Volumes/ExtremeSSD/data_source/WISE_data/DESI_CLAGN'\n",
    "save_lc_img_dir='/Volumes/ExtremeSSD/data_source/WISE_data/DESI_CLAGN_plot'\n",
    "\n",
    "for index,(ra,dec) in enumerate(zip(DESI_CLAGN['ra'],DESI_CLAGN['dec'])):\n",
    "    name_i='SDSS J'+DESI_CLAGN.loc[index,'Name']\n",
    "    print(name_i)\n",
    "    \n",
    "    download_wise(name_i,wisedata_path)\n",
    "    wise_rebin_lc(name_i,save_lc_img_dir=save_lc_img_dir, datawise_dir=wisedata_path)"
   ]
  },
  {
   "cell_type": "code",
   "execution_count": null,
   "metadata": {},
   "outputs": [],
   "source": []
  },
  {
   "cell_type": "code",
   "execution_count": null,
   "metadata": {},
   "outputs": [],
   "source": []
  },
  {
   "cell_type": "code",
   "execution_count": null,
   "metadata": {},
   "outputs": [],
   "source": []
  },
  {
   "cell_type": "code",
   "execution_count": null,
   "metadata": {},
   "outputs": [],
   "source": []
  },
  {
   "cell_type": "code",
   "execution_count": null,
   "metadata": {},
   "outputs": [],
   "source": []
  },
  {
   "cell_type": "markdown",
   "metadata": {
    "ExecuteTime": {
     "end_time": "2023-08-18T11:27:42.650105Z",
     "start_time": "2023-08-18T11:27:42.572795Z"
    }
   },
   "source": [
    "wisedata_path='/Volumes/ExtremeSSD/data_source/WISE_data/DESI_CLAGN'\n",
    "save_lc_img_dir='/Volumes/ExtremeSSD/data_source/WISE_data/DESI_CLAGN_plot'\n",
    "\n",
    "\n",
    "for index,(ra,dec) in enumerate(zip(DESI_CLAGN['ra'],DESI_CLAGN['dec'])):\n",
    "    name_i='SDSS J'+DESI_CLAGN.loc[index,'Name']\n",
    "    print(name_i)    \n",
    "    wise_rebin_lc(name_i,save_lc_img_dir=save_lc_img_dir, datawise_dir=wisedata_path)"
   ]
  },
  {
   "cell_type": "code",
   "execution_count": null,
   "metadata": {},
   "outputs": [],
   "source": []
  },
  {
   "cell_type": "code",
   "execution_count": null,
   "metadata": {},
   "outputs": [],
   "source": []
  },
  {
   "cell_type": "code",
   "execution_count": null,
   "metadata": {},
   "outputs": [],
   "source": []
  },
  {
   "cell_type": "markdown",
   "metadata": {},
   "source": [
    "## MWA J221304-414358"
   ]
  },
  {
   "cell_type": "code",
   "execution_count": 56,
   "metadata": {
    "ExecuteTime": {
     "end_time": "2023-07-23T02:56:30.252579Z",
     "start_time": "2023-07-23T02:56:30.237871Z"
    }
   },
   "outputs": [],
   "source": [
    "from astropy import units as u\n",
    "from astropy.coordinates import SkyCoord\n",
    "\n",
    "#22 13 04.40 -41 43 56.9\n",
    "name='MWAJ221304'\n",
    "coord_MWAJ221304=SkyCoord('22h13m04.40s','-41d43m56.9s', unit=(u.hourangle, u.deg),frame=\"icrs\",) \n",
    "ra_MWAJ221304=coord_MWAJ221304.ra.deg\n",
    "dec_MWAJ221304=coord_MWAJ221304.dec.deg\n",
    "z_MWAJ221304=0.080456"
   ]
  },
  {
   "cell_type": "code",
   "execution_count": 50,
   "metadata": {
    "ExecuteTime": {
     "end_time": "2023-07-23T02:24:32.799190Z",
     "start_time": "2023-07-23T02:24:32.777618Z"
    }
   },
   "outputs": [],
   "source": [
    "data_test_neo,data_test_mep=get_wise_radec_data(ra_MWAJ221304,dec_MWAJ221304,datawise_dir=wisedata_path_name)"
   ]
  },
  {
   "cell_type": "code",
   "execution_count": 51,
   "metadata": {
    "ExecuteTime": {
     "end_time": "2023-07-23T02:24:33.470977Z",
     "start_time": "2023-07-23T02:24:33.446665Z"
    }
   },
   "outputs": [
    {
     "data": {
      "text/html": [
       "<div>\n",
       "<style scoped>\n",
       "    .dataframe tbody tr th:only-of-type {\n",
       "        vertical-align: middle;\n",
       "    }\n",
       "\n",
       "    .dataframe tbody tr th {\n",
       "        vertical-align: top;\n",
       "    }\n",
       "\n",
       "    .dataframe thead th {\n",
       "        text-align: right;\n",
       "    }\n",
       "</style>\n",
       "<table border=\"1\" class=\"dataframe\">\n",
       "  <thead>\n",
       "    <tr style=\"text-align: right;\">\n",
       "      <th></th>\n",
       "      <th>mjd</th>\n",
       "      <th>w1mpro_ep</th>\n",
       "      <th>w2mpro_ep</th>\n",
       "      <th>w1sigmpro_ep</th>\n",
       "      <th>w2sigmpro_ep</th>\n",
       "    </tr>\n",
       "  </thead>\n",
       "  <tbody>\n",
       "    <tr>\n",
       "      <th>0</th>\n",
       "      <td>55326.618166</td>\n",
       "      <td>12.298</td>\n",
       "      <td>12.355</td>\n",
       "      <td>0.026</td>\n",
       "      <td>0.042</td>\n",
       "    </tr>\n",
       "    <tr>\n",
       "      <th>1</th>\n",
       "      <td>55326.750471</td>\n",
       "      <td>12.409</td>\n",
       "      <td>12.274</td>\n",
       "      <td>0.025</td>\n",
       "      <td>0.041</td>\n",
       "    </tr>\n",
       "    <tr>\n",
       "      <th>2</th>\n",
       "      <td>55326.882775</td>\n",
       "      <td>12.629</td>\n",
       "      <td>12.560</td>\n",
       "      <td>0.035</td>\n",
       "      <td>0.054</td>\n",
       "    </tr>\n",
       "    <tr>\n",
       "      <th>3</th>\n",
       "      <td>55326.948863</td>\n",
       "      <td>12.293</td>\n",
       "      <td>12.328</td>\n",
       "      <td>0.031</td>\n",
       "      <td>0.043</td>\n",
       "    </tr>\n",
       "    <tr>\n",
       "      <th>4</th>\n",
       "      <td>55327.015079</td>\n",
       "      <td>12.379</td>\n",
       "      <td>12.393</td>\n",
       "      <td>0.028</td>\n",
       "      <td>0.045</td>\n",
       "    </tr>\n",
       "    <tr>\n",
       "      <th>5</th>\n",
       "      <td>55327.081167</td>\n",
       "      <td>12.431</td>\n",
       "      <td>12.409</td>\n",
       "      <td>0.028</td>\n",
       "      <td>0.044</td>\n",
       "    </tr>\n",
       "    <tr>\n",
       "      <th>6</th>\n",
       "      <td>55327.147383</td>\n",
       "      <td>12.376</td>\n",
       "      <td>12.439</td>\n",
       "      <td>0.027</td>\n",
       "      <td>0.047</td>\n",
       "    </tr>\n",
       "    <tr>\n",
       "      <th>7</th>\n",
       "      <td>55327.213471</td>\n",
       "      <td>12.645</td>\n",
       "      <td>12.622</td>\n",
       "      <td>0.037</td>\n",
       "      <td>0.060</td>\n",
       "    </tr>\n",
       "    <tr>\n",
       "      <th>8</th>\n",
       "      <td>55327.478080</td>\n",
       "      <td>12.368</td>\n",
       "      <td>12.345</td>\n",
       "      <td>0.029</td>\n",
       "      <td>0.044</td>\n",
       "    </tr>\n",
       "    <tr>\n",
       "      <th>9</th>\n",
       "      <td>55327.610384</td>\n",
       "      <td>12.600</td>\n",
       "      <td>12.542</td>\n",
       "      <td>0.036</td>\n",
       "      <td>0.055</td>\n",
       "    </tr>\n",
       "    <tr>\n",
       "      <th>10</th>\n",
       "      <td>55327.742688</td>\n",
       "      <td>12.653</td>\n",
       "      <td>12.607</td>\n",
       "      <td>0.048</td>\n",
       "      <td>0.053</td>\n",
       "    </tr>\n",
       "    <tr>\n",
       "      <th>11</th>\n",
       "      <td>55505.756924</td>\n",
       "      <td>12.441</td>\n",
       "      <td>12.432</td>\n",
       "      <td>0.039</td>\n",
       "      <td>0.047</td>\n",
       "    </tr>\n",
       "    <tr>\n",
       "      <th>12</th>\n",
       "      <td>55505.757051</td>\n",
       "      <td>12.435</td>\n",
       "      <td>12.409</td>\n",
       "      <td>0.029</td>\n",
       "      <td>0.050</td>\n",
       "    </tr>\n",
       "    <tr>\n",
       "      <th>13</th>\n",
       "      <td>55506.021532</td>\n",
       "      <td>12.792</td>\n",
       "      <td>12.607</td>\n",
       "      <td>0.039</td>\n",
       "      <td>0.052</td>\n",
       "    </tr>\n",
       "    <tr>\n",
       "      <th>14</th>\n",
       "      <td>55506.153836</td>\n",
       "      <td>12.464</td>\n",
       "      <td>12.492</td>\n",
       "      <td>0.034</td>\n",
       "      <td>0.047</td>\n",
       "    </tr>\n",
       "    <tr>\n",
       "      <th>15</th>\n",
       "      <td>55506.219924</td>\n",
       "      <td>12.657</td>\n",
       "      <td>12.512</td>\n",
       "      <td>0.034</td>\n",
       "      <td>0.046</td>\n",
       "    </tr>\n",
       "    <tr>\n",
       "      <th>16</th>\n",
       "      <td>55506.286013</td>\n",
       "      <td>12.350</td>\n",
       "      <td>12.429</td>\n",
       "      <td>0.028</td>\n",
       "      <td>0.048</td>\n",
       "    </tr>\n",
       "    <tr>\n",
       "      <th>17</th>\n",
       "      <td>55506.352228</td>\n",
       "      <td>12.688</td>\n",
       "      <td>12.584</td>\n",
       "      <td>0.037</td>\n",
       "      <td>0.053</td>\n",
       "    </tr>\n",
       "    <tr>\n",
       "      <th>18</th>\n",
       "      <td>55506.418317</td>\n",
       "      <td>12.343</td>\n",
       "      <td>12.352</td>\n",
       "      <td>0.027</td>\n",
       "      <td>0.043</td>\n",
       "    </tr>\n",
       "    <tr>\n",
       "      <th>19</th>\n",
       "      <td>55506.484405</td>\n",
       "      <td>12.679</td>\n",
       "      <td>12.474</td>\n",
       "      <td>0.038</td>\n",
       "      <td>0.047</td>\n",
       "    </tr>\n",
       "    <tr>\n",
       "      <th>20</th>\n",
       "      <td>55506.616709</td>\n",
       "      <td>12.397</td>\n",
       "      <td>12.360</td>\n",
       "      <td>0.027</td>\n",
       "      <td>0.042</td>\n",
       "    </tr>\n",
       "    <tr>\n",
       "      <th>21</th>\n",
       "      <td>55506.749013</td>\n",
       "      <td>12.425</td>\n",
       "      <td>12.416</td>\n",
       "      <td>0.026</td>\n",
       "      <td>0.047</td>\n",
       "    </tr>\n",
       "  </tbody>\n",
       "</table>\n",
       "</div>"
      ],
      "text/plain": [
       "             mjd  w1mpro_ep  w2mpro_ep  w1sigmpro_ep  w2sigmpro_ep\n",
       "0   55326.618166     12.298     12.355         0.026         0.042\n",
       "1   55326.750471     12.409     12.274         0.025         0.041\n",
       "2   55326.882775     12.629     12.560         0.035         0.054\n",
       "3   55326.948863     12.293     12.328         0.031         0.043\n",
       "4   55327.015079     12.379     12.393         0.028         0.045\n",
       "5   55327.081167     12.431     12.409         0.028         0.044\n",
       "6   55327.147383     12.376     12.439         0.027         0.047\n",
       "7   55327.213471     12.645     12.622         0.037         0.060\n",
       "8   55327.478080     12.368     12.345         0.029         0.044\n",
       "9   55327.610384     12.600     12.542         0.036         0.055\n",
       "10  55327.742688     12.653     12.607         0.048         0.053\n",
       "11  55505.756924     12.441     12.432         0.039         0.047\n",
       "12  55505.757051     12.435     12.409         0.029         0.050\n",
       "13  55506.021532     12.792     12.607         0.039         0.052\n",
       "14  55506.153836     12.464     12.492         0.034         0.047\n",
       "15  55506.219924     12.657     12.512         0.034         0.046\n",
       "16  55506.286013     12.350     12.429         0.028         0.048\n",
       "17  55506.352228     12.688     12.584         0.037         0.053\n",
       "18  55506.418317     12.343     12.352         0.027         0.043\n",
       "19  55506.484405     12.679     12.474         0.038         0.047\n",
       "20  55506.616709     12.397     12.360         0.027         0.042\n",
       "21  55506.749013     12.425     12.416         0.026         0.047"
      ]
     },
     "execution_count": 51,
     "metadata": {},
     "output_type": "execute_result"
    }
   ],
   "source": [
    "data_test_mep"
   ]
  },
  {
   "cell_type": "code",
   "execution_count": null,
   "metadata": {},
   "outputs": [],
   "source": []
  },
  {
   "cell_type": "code",
   "execution_count": null,
   "metadata": {},
   "outputs": [],
   "source": []
  },
  {
   "cell_type": "code",
   "execution_count": null,
   "metadata": {},
   "outputs": [],
   "source": []
  },
  {
   "cell_type": "code",
   "execution_count": null,
   "metadata": {},
   "outputs": [],
   "source": []
  },
  {
   "cell_type": "code",
   "execution_count": null,
   "metadata": {},
   "outputs": [],
   "source": []
  },
  {
   "cell_type": "code",
   "execution_count": 43,
   "metadata": {
    "ExecuteTime": {
     "end_time": "2023-07-23T02:21:26.679246Z",
     "start_time": "2023-07-23T02:21:26.668639Z"
    }
   },
   "outputs": [
    {
     "data": {
      "text/plain": [
       "(333.26833333333326, -41.73247222222222)"
      ]
     },
     "execution_count": 43,
     "metadata": {},
     "output_type": "execute_result"
    }
   ],
   "source": [
    "ra_MWAJ221304,dec_MWAJ221304"
   ]
  },
  {
   "cell_type": "code",
   "execution_count": null,
   "metadata": {
    "ExecuteTime": {
     "start_time": "2023-07-22T04:41:31.427Z"
    }
   },
   "outputs": [],
   "source": [
    "wisedata_path_name"
   ]
  },
  {
   "cell_type": "code",
   "execution_count": null,
   "metadata": {
    "ExecuteTime": {
     "start_time": "2023-07-22T04:41:31.432Z"
    }
   },
   "outputs": [],
   "source": [
    "save_lc_img_dir"
   ]
  },
  {
   "cell_type": "code",
   "execution_count": null,
   "metadata": {
    "ExecuteTime": {
     "start_time": "2023-07-22T04:41:31.437Z"
    }
   },
   "outputs": [],
   "source": [
    "!open /Users/lyubing/blog/brettlv.github.io/pythoncode/WISEDATA"
   ]
  },
  {
   "cell_type": "code",
   "execution_count": 60,
   "metadata": {
    "ExecuteTime": {
     "end_time": "2023-07-23T02:58:55.920300Z",
     "start_time": "2023-07-23T02:58:55.689410Z"
    }
   },
   "outputs": [],
   "source": [
    "!open /Volumes/ExtremeSSD/CLAGN_statistic_plot/WISE_lc"
   ]
  },
  {
   "cell_type": "code",
   "execution_count": null,
   "metadata": {},
   "outputs": [],
   "source": []
  },
  {
   "cell_type": "code",
   "execution_count": null,
   "metadata": {},
   "outputs": [],
   "source": []
  },
  {
   "cell_type": "code",
   "execution_count": 59,
   "metadata": {
    "ExecuteTime": {
     "end_time": "2023-07-23T02:58:55.687865Z",
     "start_time": "2023-07-23T02:58:53.648273Z"
    }
   },
   "outputs": [
    {
     "name": "stderr",
     "output_type": "stream",
     "text": [
      "/var/folders/jp/4mwsn7_x6j9gnv1hl1dztqth0000gn/T/ipykernel_84177/2398993980.py:38: FutureWarning: The frame.append method is deprecated and will be removed from pandas in a future version. Use pandas.concat instead.\n",
      "  data_remove=data_remove.append(data_remove_outlier,ignore_index=True)\n",
      "/var/folders/jp/4mwsn7_x6j9gnv1hl1dztqth0000gn/T/ipykernel_84177/829175613.py:43: FutureWarning: The frame.append method is deprecated and will be removed from pandas in a future version. Use pandas.concat instead.\n",
      "  data_outlier=data_outlier.append(data_out,ignore_index=True)\n"
     ]
    }
   ],
   "source": [
    "#download_wise_withradec(ra_MWAJ221304,dec_MWAJ221304,wisedata_path_name)\n",
    "#wise_radec_rebin_lc(ra_MWAJ221304,dec_MWAJ221304,datawise_dir=wisedata_path_name,plotwise_dir=save_lc_img_dir)\n",
    "wise_plotradec_lc(ra_MWAJ221304,dec_MWAJ221304,datawise_dir=wisedata_path_name,plotwise_dir=save_lc_img_dir)"
   ]
  },
  {
   "cell_type": "code",
   "execution_count": null,
   "metadata": {},
   "outputs": [],
   "source": []
  },
  {
   "cell_type": "code",
   "execution_count": null,
   "metadata": {},
   "outputs": [],
   "source": []
  },
  {
   "cell_type": "code",
   "execution_count": null,
   "metadata": {},
   "outputs": [],
   "source": []
  },
  {
   "cell_type": "code",
   "execution_count": null,
   "metadata": {},
   "outputs": [],
   "source": []
  },
  {
   "cell_type": "code",
   "execution_count": null,
   "metadata": {},
   "outputs": [],
   "source": []
  },
  {
   "cell_type": "code",
   "execution_count": null,
   "metadata": {},
   "outputs": [],
   "source": []
  },
  {
   "cell_type": "markdown",
   "metadata": {},
   "source": [
    "## ZTF20aawpldl"
   ]
  },
  {
   "cell_type": "code",
   "execution_count": null,
   "metadata": {
    "ExecuteTime": {
     "start_time": "2023-07-22T04:41:31.600Z"
    }
   },
   "outputs": [],
   "source": [
    "name='ZTF20aawpldl'\n",
    "download_wise(name,wisedata_path_name)"
   ]
  },
  {
   "cell_type": "code",
   "execution_count": null,
   "metadata": {
    "ExecuteTime": {
     "start_time": "2023-07-22T04:41:31.605Z"
    }
   },
   "outputs": [],
   "source": [
    "radeg_ZTF20aawpldl=356.869696888455 \n",
    "decdeg_ZTF20aawpldl=24.462699346859083\n",
    "download_wise_withradec(radeg_ZTF20aawpldl,decdeg_ZTF20aawpldl,wisedata_path_name)"
   ]
  },
  {
   "cell_type": "code",
   "execution_count": null,
   "metadata": {
    "ExecuteTime": {
     "start_time": "2023-07-22T04:41:31.610Z"
    }
   },
   "outputs": [],
   "source": [
    "wisedata_path_name"
   ]
  },
  {
   "cell_type": "code",
   "execution_count": null,
   "metadata": {
    "ExecuteTime": {
     "start_time": "2023-07-22T04:41:31.615Z"
    }
   },
   "outputs": [],
   "source": [
    "!open /Users/lyubing/blog/brettlv.github.io/pythoncode/WISEDATA"
   ]
  },
  {
   "cell_type": "code",
   "execution_count": null,
   "metadata": {
    "ExecuteTime": {
     "start_time": "2023-07-22T04:41:31.619Z"
    }
   },
   "outputs": [],
   "source": [
    "wise_radec_rebin_lc(radeg_ZTF20aawpldl,decdeg_ZTF20aawpldl,datawise_dir=wisedata_path_name,plotwise_dir=save_lc_img_dir)\n",
    "\n"
   ]
  },
  {
   "cell_type": "code",
   "execution_count": null,
   "metadata": {
    "ExecuteTime": {
     "start_time": "2023-07-22T04:41:31.625Z"
    }
   },
   "outputs": [],
   "source": [
    "wise_plotradec_lc(radeg_ZTF20aawpldl,decdeg_ZTF20aawpldl,datawise_dir=wisedata_path_name,plotwise_dir=save_lc_img_dir)\n"
   ]
  },
  {
   "cell_type": "code",
   "execution_count": null,
   "metadata": {
    "ExecuteTime": {
     "start_time": "2023-07-22T04:41:31.630Z"
    }
   },
   "outputs": [],
   "source": [
    "save_lc_img_dir"
   ]
  },
  {
   "cell_type": "code",
   "execution_count": null,
   "metadata": {
    "ExecuteTime": {
     "start_time": "2023-07-22T04:41:31.636Z"
    }
   },
   "outputs": [],
   "source": [
    "!open /Volumes/ExtremeSSD/CLAGN_statistic_plot/WISE_lc"
   ]
  },
  {
   "cell_type": "code",
   "execution_count": null,
   "metadata": {},
   "outputs": [],
   "source": []
  },
  {
   "cell_type": "markdown",
   "metadata": {},
   "source": [
    "## PS16dtm"
   ]
  },
  {
   "cell_type": "code",
   "execution_count": null,
   "metadata": {
    "ExecuteTime": {
     "start_time": "2023-07-22T04:41:31.806Z"
    }
   },
   "outputs": [],
   "source": [
    "name='PS16dtm'\n",
    "download_wise(name,wisedata_path_name)"
   ]
  },
  {
   "cell_type": "code",
   "execution_count": null,
   "metadata": {
    "ExecuteTime": {
     "start_time": "2023-07-22T04:41:31.811Z"
    }
   },
   "outputs": [],
   "source": [
    "!open /Users/lyubing/blog/brettlv.github.io/pythoncode/WISEDATA"
   ]
  },
  {
   "cell_type": "code",
   "execution_count": null,
   "metadata": {
    "ExecuteTime": {
     "end_time": "2022-11-21T01:46:11.098085Z",
     "start_time": "2022-11-21T01:46:11.087862Z"
    }
   },
   "outputs": [],
   "source": []
  },
  {
   "cell_type": "code",
   "execution_count": null,
   "metadata": {
    "ExecuteTime": {
     "start_time": "2023-07-22T04:41:31.820Z"
    }
   },
   "outputs": [],
   "source": [
    "name='PS16dtm'\n",
    "D_cm_PS16dtm= cosmo.luminosity_distance(z=0.0804).to(u.cm) \n",
    "data_test_neo,data_test_mep=get_wise_data(name,wisedata_path_name)\n",
    "data_rebin_neo,data_rebin_mep=get_rebinwise_data(data_test_neo,data_test_mep)\n",
    "\n",
    "data_rebinflux_neo,data_rebinflux_mep=get_wiseflux_rebin(data_rebin_neo,data_rebin_mep,D_cm_PS16dtm)\n",
    "datalag_w1_PS16dtm,datalag_w2_PS16dtm=get_wise_lc(data_rebinflux_neo,data_rebinflux_mep)"
   ]
  },
  {
   "cell_type": "markdown",
   "metadata": {},
   "source": [
    "### plot_WISE_Lum"
   ]
  },
  {
   "cell_type": "code",
   "execution_count": null,
   "metadata": {
    "ExecuteTime": {
     "start_time": "2023-07-22T04:41:31.984Z"
    }
   },
   "outputs": [],
   "source": [
    "fig = plt.figure(figsize=(8,4))\n",
    "fig.subplots_adjust(hspace=0.0, wspace = 0.0)\n",
    "ax = fig.add_subplot(111)\n",
    "\n",
    "name='PS16dtm'\n",
    "BH_mass_PS16dtm=1e6*u.solMass\n",
    "Ledd_PS16dtm=1.26*10**38*BH_mass_PS16dtm/u.solMass\n",
    "\n",
    "ax.errorbar(datalag_w1_PS16dtm['t'],datalag_w1_PS16dtm['flux']+np.log10(9),datalag_w1_PS16dtm['err'],label='w1',ls=':',marker='*')\n",
    "ax.errorbar(datalag_w2_PS16dtm['t'],datalag_w2_PS16dtm['flux']+np.log10(9),datalag_w2_PS16dtm['err'],label='w2',ls=':',marker='*')\n",
    "\n",
    "ax.axhline(np.log10(Ledd_PS16dtm),ls='-.',label='Ledd')\n",
    "ax.set_xlabel('MJD')\n",
    "ax.set_ylabel('log(9*L_MIR)')\n",
    "ax.set_title('%s'%name)\n",
    "set_ax_legend(ax,bbox_to_anchor=(0.01, 0.99))"
   ]
  },
  {
   "cell_type": "code",
   "execution_count": null,
   "metadata": {},
   "outputs": [],
   "source": []
  },
  {
   "cell_type": "code",
   "execution_count": null,
   "metadata": {
    "ExecuteTime": {
     "start_time": "2023-07-22T04:41:31.992Z"
    }
   },
   "outputs": [],
   "source": [
    "datalag_w1_PS16dtm,datalag_w2_PS16dtm"
   ]
  },
  {
   "cell_type": "code",
   "execution_count": null,
   "metadata": {},
   "outputs": [],
   "source": []
  },
  {
   "cell_type": "code",
   "execution_count": null,
   "metadata": {},
   "outputs": [],
   "source": []
  },
  {
   "cell_type": "code",
   "execution_count": null,
   "metadata": {
    "ExecuteTime": {
     "start_time": "2023-07-22T04:41:32.001Z"
    }
   },
   "outputs": [],
   "source": [
    "name='PS16dtm'\n",
    "wise_plot_lc(name,datawise_dir=wisedata_path_name)"
   ]
  },
  {
   "cell_type": "code",
   "execution_count": null,
   "metadata": {},
   "outputs": [],
   "source": []
  },
  {
   "cell_type": "code",
   "execution_count": null,
   "metadata": {
    "ExecuteTime": {
     "start_time": "2023-07-22T04:41:32.009Z"
    }
   },
   "outputs": [],
   "source": [
    "name='PS16dtm'\n",
    "wise_rebin_lc(name,datawise_dir=wisedata_path_name)"
   ]
  },
  {
   "cell_type": "code",
   "execution_count": null,
   "metadata": {},
   "outputs": [],
   "source": []
  },
  {
   "cell_type": "code",
   "execution_count": null,
   "metadata": {
    "ExecuteTime": {
     "start_time": "2023-07-22T04:41:32.017Z"
    }
   },
   "outputs": [],
   "source": [
    "save_lc_img_dir"
   ]
  },
  {
   "cell_type": "code",
   "execution_count": null,
   "metadata": {
    "ExecuteTime": {
     "start_time": "2023-07-22T04:41:32.022Z"
    }
   },
   "outputs": [],
   "source": [
    "!open /Volumes/ExtremeSSD/CLAGN_statistic_plot/WISE_lc"
   ]
  },
  {
   "cell_type": "markdown",
   "metadata": {},
   "source": [
    "## ASASSN-20hx"
   ]
  },
  {
   "cell_type": "code",
   "execution_count": null,
   "metadata": {
    "ExecuteTime": {
     "start_time": "2023-07-22T04:41:32.198Z"
    }
   },
   "outputs": [],
   "source": [
    "wisedata_path_name"
   ]
  },
  {
   "cell_type": "code",
   "execution_count": null,
   "metadata": {
    "ExecuteTime": {
     "start_time": "2023-07-22T04:41:32.203Z"
    }
   },
   "outputs": [],
   "source": [
    "name='ASASSN-20hx'\n",
    "download_wise(name,wisedata_path_name)"
   ]
  },
  {
   "cell_type": "code",
   "execution_count": null,
   "metadata": {
    "ExecuteTime": {
     "start_time": "2023-07-22T04:41:32.208Z"
    }
   },
   "outputs": [],
   "source": [
    "D_cm_ASASSN_20hx= cosmo.luminosity_distance(z=0.0167).to(u.cm) \n",
    "\n",
    "name='ASASSN-20hx'\n",
    "data_test_neo,data_test_mep=get_wise_data(name,wisedata_path_name)\n",
    "data_rebin_neo,data_rebin_mep=get_rebinwise_data(data_test_neo,data_test_mep)\n",
    "data_rebinflux_neo,data_rebinflux_mep=get_wiseflux_rebin(data_rebin_neo,data_rebin_mep,D_cm_ASASSN_20hx)\n",
    "datalag_w1_ASASSN_20hx,datalag_w2_ASASSN_20hx=get_wise_lc(data_rebinflux_neo,data_rebinflux_mep)"
   ]
  },
  {
   "cell_type": "code",
   "execution_count": null,
   "metadata": {
    "ExecuteTime": {
     "start_time": "2023-07-22T04:41:32.213Z"
    }
   },
   "outputs": [],
   "source": [
    "name='ASASSN-20hx'\n",
    "wise_plot_lc(name,datawise_dir=wisedata_path_name)\n",
    "wise_rebin_lc(name,datawise_dir=wisedata_path_name)"
   ]
  },
  {
   "cell_type": "code",
   "execution_count": null,
   "metadata": {},
   "outputs": [],
   "source": []
  },
  {
   "cell_type": "code",
   "execution_count": null,
   "metadata": {
    "ExecuteTime": {
     "start_time": "2023-07-22T04:41:32.220Z"
    }
   },
   "outputs": [],
   "source": [
    "fig = plt.figure(figsize=(8,4))\n",
    "fig.subplots_adjust(hspace=0.0, wspace = 0.0)\n",
    "ax = fig.add_subplot(111)\n",
    "\n",
    "name='ASASSN-20hx'\n",
    "\n",
    "BH_mass_ASASSN_20hx=10**7.9*u.solMass\n",
    "Ledd_ASASSN_20hx=1.26*10**38*BH_mass_ASASSN_20hx/u.solMass\n",
    "\n",
    "ax.errorbar(datalag_w1_ASASSN_20hx['t'],datalag_w1_ASASSN_20hx['flux']+np.log10(3),datalag_w1_ASASSN_20hx['err'],label='w1',ls=':',marker='*')\n",
    "ax.errorbar(datalag_w2_ASASSN_20hx['t'],datalag_w2_ASASSN_20hx['flux']+np.log10(3),datalag_w2_ASASSN_20hx['err'],label='w2',ls=':',marker='*')\n",
    "\n",
    "#ax.axhline(np.log10(Ledd_ASASSN_20hx),ls='-.',label='Ledd')\n",
    "ax.set_xlabel('MJD')\n",
    "ax.set_ylabel('log(3*L_MIR)')\n",
    "ax.set_title('%s'%name)\n",
    "set_ax_legend(ax,bbox_to_anchor=(0.01, 0.99))\n"
   ]
  },
  {
   "cell_type": "code",
   "execution_count": null,
   "metadata": {},
   "outputs": [],
   "source": []
  },
  {
   "cell_type": "code",
   "execution_count": null,
   "metadata": {},
   "outputs": [],
   "source": []
  },
  {
   "cell_type": "markdown",
   "metadata": {},
   "source": [
    "## ULIRG F01004−2237"
   ]
  },
  {
   "cell_type": "code",
   "execution_count": null,
   "metadata": {
    "ExecuteTime": {
     "start_time": "2023-07-22T04:41:32.405Z"
    }
   },
   "outputs": [],
   "source": [
    "The nearby ULIRG F01004-2237 (RA:01h 02m 50.007s and Dec: -22d 21m 57.22s (J2000); z=0.117835) w"
   ]
  },
  {
   "cell_type": "code",
   "execution_count": null,
   "metadata": {
    "ExecuteTime": {
     "start_time": "2023-07-22T04:41:32.411Z"
    }
   },
   "outputs": [],
   "source": [
    "from astropy import units as u\n",
    "from astropy.coordinates import SkyCoord\n",
    "\n",
    "name='ULIRG_F01004_2237'\n",
    "coord_ULIRG_F01004_2237=SkyCoord('01h02m50.007s','-22d21m57.22s', unit=(u.hourangle, u.deg),frame=\"icrs\",) \n",
    "ra_ULIRG_F01004_2237=coord_ULIRG_F01004_2237.ra.deg\n",
    "dec_ULIRG_F01004_2237=coord_ULIRG_F01004_2237.dec.deg\n",
    "z_ULIRG_F01004_2237=0.117835"
   ]
  },
  {
   "cell_type": "code",
   "execution_count": null,
   "metadata": {
    "ExecuteTime": {
     "start_time": "2023-07-22T04:41:32.416Z"
    }
   },
   "outputs": [],
   "source": [
    "ra_ULIRG_F01004_2237,dec_ULIRG_F01004_2237"
   ]
  },
  {
   "cell_type": "code",
   "execution_count": null,
   "metadata": {
    "ExecuteTime": {
     "start_time": "2023-07-22T04:41:32.420Z"
    }
   },
   "outputs": [],
   "source": [
    "download_wise_withradec(ra_ULIRG_F01004_2237,dec_ULIRG_F01004_2237,wisedata_path_name)"
   ]
  },
  {
   "cell_type": "code",
   "execution_count": null,
   "metadata": {
    "ExecuteTime": {
     "start_time": "2023-07-22T04:41:32.425Z"
    }
   },
   "outputs": [],
   "source": [
    "wise_radec_rebin_lc(ra_ULIRG_F01004_2237,dec_ULIRG_F01004_2237,datawise_dir=wisedata_path_name,plotwise_dir=save_lc_img_dir)\n"
   ]
  },
  {
   "cell_type": "code",
   "execution_count": null,
   "metadata": {
    "ExecuteTime": {
     "start_time": "2023-07-22T04:41:32.430Z"
    }
   },
   "outputs": [],
   "source": [
    "wise_plotradec_lc(ra_ULIRG_F01004_2237,dec_ULIRG_F01004_2237,datawise_dir=wisedata_path_name,plotwise_dir=save_lc_img_dir)\n"
   ]
  },
  {
   "cell_type": "code",
   "execution_count": null,
   "metadata": {
    "ExecuteTime": {
     "start_time": "2023-07-22T04:41:32.435Z"
    }
   },
   "outputs": [],
   "source": [
    "save_lc_img_dir"
   ]
  },
  {
   "cell_type": "code",
   "execution_count": null,
   "metadata": {
    "ExecuteTime": {
     "start_time": "2023-07-22T04:41:32.440Z"
    }
   },
   "outputs": [],
   "source": [
    "!open /Volumes/ExtremeSSD/CLAGN_statistic_plot/WISE_lc"
   ]
  },
  {
   "cell_type": "code",
   "execution_count": null,
   "metadata": {},
   "outputs": [],
   "source": []
  },
  {
   "cell_type": "markdown",
   "metadata": {},
   "source": [
    "## WISEA J195739.10+503320.4"
   ]
  },
  {
   "cell_type": "code",
   "execution_count": null,
   "metadata": {
    "ExecuteTime": {
     "start_time": "2023-07-22T04:41:32.647Z"
    }
   },
   "outputs": [],
   "source": [
    "name='WISEA J195739.10+503320.4'\n",
    "wisedata_path_name='/Users/lyubing/blog/brettlv.github.io/pythoncode/WISEDATA'"
   ]
  },
  {
   "cell_type": "code",
   "execution_count": null,
   "metadata": {
    "ExecuteTime": {
     "start_time": "2023-07-22T04:41:32.653Z"
    }
   },
   "outputs": [],
   "source": [
    "print(name,wisedata_path_name)"
   ]
  },
  {
   "cell_type": "markdown",
   "metadata": {
    "ExecuteTime": {
     "end_time": "2022-07-04T12:40:43.719171Z",
     "start_time": "2022-07-04T12:39:00.385490Z"
    }
   },
   "source": [
    "download_wise(name,wisedata_path)"
   ]
  },
  {
   "cell_type": "code",
   "execution_count": null,
   "metadata": {},
   "outputs": [],
   "source": []
  },
  {
   "cell_type": "markdown",
   "metadata": {},
   "source": [
    "##  'WISEA J160450.22+520159.0'"
   ]
  },
  {
   "cell_type": "code",
   "execution_count": null,
   "metadata": {
    "ExecuteTime": {
     "start_time": "2023-07-22T04:41:33.037Z"
    }
   },
   "outputs": [],
   "source": [
    "name='WISEA J160450.22+520159.0'\n",
    "print(name,wisedata_path_name)"
   ]
  },
  {
   "cell_type": "code",
   "execution_count": null,
   "metadata": {
    "ExecuteTime": {
     "start_time": "2023-07-22T04:41:33.042Z"
    }
   },
   "outputs": [],
   "source": [
    "data_test_neo,data_test_mep=get_wise_data(name,wisedata_path_name)"
   ]
  },
  {
   "cell_type": "code",
   "execution_count": null,
   "metadata": {
    "ExecuteTime": {
     "start_time": "2023-07-22T04:41:33.047Z"
    }
   },
   "outputs": [],
   "source": [
    "data_test_neo,"
   ]
  },
  {
   "cell_type": "code",
   "execution_count": null,
   "metadata": {
    "ExecuteTime": {
     "start_time": "2023-07-22T04:41:33.051Z"
    }
   },
   "outputs": [],
   "source": [
    "data_test_mep"
   ]
  },
  {
   "cell_type": "markdown",
   "metadata": {},
   "source": [
    "# plot"
   ]
  },
  {
   "cell_type": "markdown",
   "metadata": {
    "ExecuteTime": {
     "end_time": "2022-06-16T04:11:52.090623Z",
     "start_time": "2022-06-16T04:11:51.731467Z"
    }
   },
   "source": []
  },
  {
   "cell_type": "code",
   "execution_count": null,
   "metadata": {
    "ExecuteTime": {
     "start_time": "2023-07-22T04:41:33.481Z"
    }
   },
   "outputs": [],
   "source": [
    "data_test_neo,data_test_mep"
   ]
  },
  {
   "cell_type": "code",
   "execution_count": null,
   "metadata": {
    "ExecuteTime": {
     "end_time": "2022-07-04T12:50:07.480311Z",
     "start_time": "2022-07-04T12:50:07.475553Z"
    }
   },
   "outputs": [],
   "source": []
  },
  {
   "cell_type": "markdown",
   "metadata": {
    "ExecuteTime": {
     "end_time": "2022-06-16T03:28:01.842446Z",
     "start_time": "2022-06-16T03:28:01.752428Z"
    }
   },
   "source": [
    "## wise_plot_lc"
   ]
  },
  {
   "cell_type": "code",
   "execution_count": null,
   "metadata": {
    "ExecuteTime": {
     "start_time": "2023-07-22T04:41:33.723Z"
    }
   },
   "outputs": [],
   "source": [
    "name='WISEA J160450.22+520159.0'\n",
    "wise_plot_lc(name,datawise_dir=wisedata_path_name)"
   ]
  },
  {
   "cell_type": "markdown",
   "metadata": {},
   "source": [
    "## wise_rebin_lc"
   ]
  },
  {
   "cell_type": "code",
   "execution_count": null,
   "metadata": {
    "ExecuteTime": {
     "start_time": "2023-07-22T04:41:33.937Z"
    }
   },
   "outputs": [],
   "source": [
    "wise_rebin_lc(name,datawise_dir=wisedata_path)"
   ]
  },
  {
   "cell_type": "markdown",
   "metadata": {
    "ExecuteTime": {
     "end_time": "2022-06-16T04:27:47.700568Z",
     "start_time": "2022-06-16T04:27:47.687124Z"
    }
   },
   "source": [
    "data_rebin_neo,data_rebin_mep"
   ]
  },
  {
   "cell_type": "markdown",
   "metadata": {},
   "source": [
    "## download_wise_radecdata"
   ]
  },
  {
   "cell_type": "code",
   "execution_count": null,
   "metadata": {
    "ExecuteTime": {
     "start_time": "2023-07-22T04:41:34.349Z"
    }
   },
   "outputs": [],
   "source": [
    "RG_OIII_match_LoTSS_selectsnrgt5_fadeing=pd.read_csv('%s/RG_OIII_match_LoTSS_selectsnrgt5_fadeing.csv'%Surveyfits_root)\n",
    "print(len(RG_OIII_match_LoTSS_selectsnrgt5_fadeing))\n",
    "for index, (radeg,decdeg) in enumerate(zip(RG_OIII_match_LoTSS_selectsnrgt5_fadeing['RAdeg'],RG_OIII_match_LoTSS_selectsnrgt5_fadeing['DEdeg'])):\n",
    "    download_wise_withradec(radeg,decdeg,wisedata_path_LoTSS) \n",
    "    #save_name='RA%.5f_DEC%.5f'%(radeg,decdeg)\n",
    "    #print(save_name)"
   ]
  },
  {
   "cell_type": "code",
   "execution_count": null,
   "metadata": {
    "ExecuteTime": {
     "start_time": "2023-07-22T04:41:34.354Z"
    }
   },
   "outputs": [],
   "source": [
    "RG_OIII_match_TGSS_selectsnrgt5_fadeing=pd.read_csv('%s/RG_OIII_match_TGSS_selectsnrgt5_fadeing.csv'%Surveyfits_root)\n",
    "print(len(RG_OIII_match_TGSS_selectsnrgt5_fadeing))\n",
    "for index, (radeg,decdeg) in enumerate(zip(RG_OIII_match_TGSS_selectsnrgt5_fadeing['RAdeg'],RG_OIII_match_TGSS_selectsnrgt5_fadeing['DEdeg'])):\n",
    "    download_wise_withradec(radeg,decdeg,wisedata_path_TGSS)\n",
    "    #save_name='RA%.5f_DEC%.5f'%(radeg,decdeg)\n",
    "    #print(save_name)"
   ]
  },
  {
   "cell_type": "code",
   "execution_count": null,
   "metadata": {
    "ExecuteTime": {
     "start_time": "2023-07-22T04:41:34.359Z"
    }
   },
   "outputs": [],
   "source": [
    "RG_OIII_match_GGSM_selectsnrgt5_fadeing=pd.read_csv('%s/RG_OIII_match_GGSM_selectsnrgt5_fadeing.csv'%Surveyfits_root)\n",
    "print(len(RG_OIII_match_GGSM_selectsnrgt5_fadeing))\n",
    "for index, (radeg,decdeg) in enumerate(zip(RG_OIII_match_GGSM_selectsnrgt5_fadeing['RAdeg'],RG_OIII_match_GGSM_selectsnrgt5_fadeing['DEdeg'])):\n",
    "    download_wise_withradec(radeg,decdeg,wisedata_path_GGSM)\n",
    "    #save_name='RA%.5f_DEC%.5f'%(radeg,decdeg)\n",
    "    #print(save_name)\n"
   ]
  },
  {
   "cell_type": "code",
   "execution_count": null,
   "metadata": {},
   "outputs": [],
   "source": []
  },
  {
   "cell_type": "code",
   "execution_count": null,
   "metadata": {
    "ExecuteTime": {
     "start_time": "2023-07-22T04:41:34.366Z"
    }
   },
   "outputs": [],
   "source": [
    "RG_OIII_match_LoTSS_selectsnrgt5_fadeing.loc[0].values"
   ]
  },
  {
   "cell_type": "code",
   "execution_count": null,
   "metadata": {},
   "outputs": [],
   "source": []
  },
  {
   "cell_type": "markdown",
   "metadata": {},
   "source": [
    "## wise_plotradec_lc"
   ]
  },
  {
   "cell_type": "code",
   "execution_count": null,
   "metadata": {
    "ExecuteTime": {
     "start_time": "2023-07-22T04:41:34.587Z"
    }
   },
   "outputs": [],
   "source": [
    "save_name='RA%.5f_DEC%.5f'%(radeg,decdeg)\n",
    "print(save_name)  \n",
    "#name=save_name\n",
    "data_test_neo=pd.read_csv(os.path.join(wisedata_path_GGSM,'wise_%s_neo.csv'%save_name))\n",
    "data_test_mep=pd.read_csv(os.path.join(wisedata_path_GGSM,'wise_%s_mep.csv'%save_name))"
   ]
  },
  {
   "cell_type": "code",
   "execution_count": null,
   "metadata": {
    "ExecuteTime": {
     "start_time": "2023-07-22T04:41:34.592Z"
    }
   },
   "outputs": [],
   "source": [
    "data_test_neo.columns"
   ]
  },
  {
   "cell_type": "code",
   "execution_count": null,
   "metadata": {
    "ExecuteTime": {
     "start_time": "2023-07-22T04:41:34.596Z"
    }
   },
   "outputs": [],
   "source": [
    "data_test_neo[['w1snr','w2snr']]"
   ]
  },
  {
   "cell_type": "code",
   "execution_count": null,
   "metadata": {
    "ExecuteTime": {
     "start_time": "2023-07-22T04:41:34.601Z"
    }
   },
   "outputs": [],
   "source": [
    "data_test_neo['cc_flags'][0]"
   ]
  },
  {
   "cell_type": "code",
   "execution_count": null,
   "metadata": {
    "ExecuteTime": {
     "start_time": "2023-07-22T04:41:34.606Z"
    }
   },
   "outputs": [],
   "source": [
    "data_test_mep.columns"
   ]
  },
  {
   "cell_type": "code",
   "execution_count": null,
   "metadata": {
    "ExecuteTime": {
     "start_time": "2023-07-22T04:41:34.610Z"
    }
   },
   "outputs": [],
   "source": [
    "data_test_mep['cc_flags']#[0]"
   ]
  },
  {
   "cell_type": "code",
   "execution_count": null,
   "metadata": {
    "ExecuteTime": {
     "start_time": "2023-07-22T04:41:34.615Z"
    }
   },
   "outputs": [],
   "source": [
    "radeg,decdeg=RG_OIII_match_GGSM_selectsnrgt5_fadeing.loc[0].values\n",
    "save_name='RA%.5f_DEC%.5f'%(radeg,decdeg)\n",
    "print(save_name)       \n",
    "data_test_neo,data_test_mep=get_wise_radec_data(radeg,decdeg,wisedata_path_GGSM)"
   ]
  },
  {
   "cell_type": "code",
   "execution_count": null,
   "metadata": {
    "ExecuteTime": {
     "start_time": "2023-07-22T04:41:34.620Z"
    }
   },
   "outputs": [],
   "source": [
    "data_test_neo,data_test_mep"
   ]
  },
  {
   "cell_type": "code",
   "execution_count": null,
   "metadata": {},
   "outputs": [],
   "source": []
  },
  {
   "cell_type": "markdown",
   "metadata": {
    "ExecuteTime": {
     "end_time": "2022-08-31T09:15:40.189051Z",
     "start_time": "2022-08-31T09:15:40.181941Z"
    }
   },
   "source": [
    "wisedata_path"
   ]
  },
  {
   "cell_type": "code",
   "execution_count": null,
   "metadata": {
    "ExecuteTime": {
     "start_time": "2023-07-22T04:41:34.857Z"
    }
   },
   "outputs": [],
   "source": [
    "for index, (radeg,decdeg) in enumerate(zip(RG_OIII_match_LoTSS_selectsnrgt5_fadeing['RAdeg'],RG_OIII_match_LoTSS_selectsnrgt5_fadeing['DEdeg'])):\n",
    "    wise_plotradec_lc(radeg,decdeg,wisedata_path_LoTSS,wiseplot_path_LoTSS)                                        \n",
    "    #save_name='RA%.5f_DEC%.5f'%(radeg,decdeg)\n",
    "    #print(save_name)                                       \n"
   ]
  },
  {
   "cell_type": "code",
   "execution_count": null,
   "metadata": {
    "ExecuteTime": {
     "start_time": "2023-07-22T04:41:34.863Z"
    }
   },
   "outputs": [],
   "source": [
    "for index, (radeg,decdeg) in enumerate(zip(RG_OIII_match_TGSS_selectsnrgt5_fadeing['RAdeg'],RG_OIII_match_TGSS_selectsnrgt5_fadeing['DEdeg'])):\n",
    "    wise_plotradec_lc(radeg,decdeg,wisedata_path_TGSS,wiseplot_path_TGSS)                                        \n",
    "    #save_name='RA%.5f_DEC%.5f'%(radeg,decdeg)\n",
    "    #print(save_name)                                       \n"
   ]
  },
  {
   "cell_type": "code",
   "execution_count": null,
   "metadata": {
    "ExecuteTime": {
     "start_time": "2023-07-22T04:41:34.867Z"
    }
   },
   "outputs": [],
   "source": [
    "for index, (radeg,decdeg) in enumerate(zip(RG_OIII_match_GGSM_selectsnrgt5_fadeing['RAdeg'],RG_OIII_match_GGSM_selectsnrgt5_fadeing['DEdeg'])):\n",
    "    wise_plotradec_lc(radeg,decdeg,wisedata_path_GGSM,wiseplot_path_GGSM)                                        \n",
    "    #save_name='RA%.5f_DEC%.5f'%(radeg,decdeg)\n",
    "    #print(save_name)                                       \n"
   ]
  },
  {
   "cell_type": "markdown",
   "metadata": {},
   "source": [
    "## wise_radec_rebin_lc"
   ]
  },
  {
   "cell_type": "code",
   "execution_count": null,
   "metadata": {
    "ExecuteTime": {
     "start_time": "2023-07-22T04:41:35.106Z"
    }
   },
   "outputs": [],
   "source": [
    "for index, (radeg,decdeg) in enumerate(zip(RG_OIII_match_LoTSS_selectsnrgt5_fadeing['RAdeg'],RG_OIII_match_LoTSS_selectsnrgt5_fadeing['DEdeg'])):\n",
    "    wise_radec_rebin_lc(radeg,decdeg,wisedata_path_LoTSS,wise_rebin_plot_path_LoTSS)    "
   ]
  },
  {
   "cell_type": "code",
   "execution_count": null,
   "metadata": {
    "ExecuteTime": {
     "start_time": "2023-07-22T04:41:35.111Z"
    }
   },
   "outputs": [],
   "source": [
    "for index, (radeg,decdeg) in enumerate(zip(RG_OIII_match_TGSS_selectsnrgt5_fadeing['RAdeg'],RG_OIII_match_TGSS_selectsnrgt5_fadeing['DEdeg'])):\n",
    "    wise_radec_rebin_lc(radeg,decdeg,wisedata_path_TGSS,wise_rebin_plot_path_TGSS)                                        \n",
    "    #save_name='RA%.5f_DEC%.5f'%(radeg,decdeg)\n",
    "    #print(save_name)                                       \n"
   ]
  },
  {
   "cell_type": "code",
   "execution_count": null,
   "metadata": {
    "ExecuteTime": {
     "start_time": "2023-07-22T04:41:35.115Z"
    }
   },
   "outputs": [],
   "source": [
    "for index, (radeg,decdeg) in enumerate(zip(RG_OIII_match_GGSM_selectsnrgt5_fadeing['RAdeg'],RG_OIII_match_GGSM_selectsnrgt5_fadeing['DEdeg'])):\n",
    "    wise_radec_rebin_lc(radeg,decdeg,wisedata_path_GGSM,wise_rebin_plot_path_GGSM)                                        \n",
    "    #save_name='RA%.5f_DEC%.5f'%(radeg,decdeg)\n",
    "    #print(save_name)                                       \n"
   ]
  },
  {
   "cell_type": "code",
   "execution_count": null,
   "metadata": {
    "ExecuteTime": {
     "start_time": "2023-07-22T04:41:35.120Z"
    }
   },
   "outputs": [],
   "source": [
    "RG_OIII_match_GGSM_selectsnrgt5_fadeing"
   ]
  },
  {
   "cell_type": "code",
   "execution_count": null,
   "metadata": {},
   "outputs": [],
   "source": []
  },
  {
   "cell_type": "markdown",
   "metadata": {},
   "source": [
    "# RG_OIII_match_ALL_selectsnrgt5_fadeing"
   ]
  },
  {
   "cell_type": "code",
   "execution_count": null,
   "metadata": {
    "ExecuteTime": {
     "start_time": "2023-07-22T04:41:35.368Z"
    }
   },
   "outputs": [],
   "source": [
    "RG_OIII_match_ALL_selectsnrgt5_fadeing_radec=pd.read_csv('%s/RG_OIII_match_ALL_selectsnrgt5_fadeing_radec.csv'%Surveyfits_root)\n",
    "RG_OIII_match_ALL_selectsnrgt5_fadeing_radec_Table=Table.read('%s/RG_OIII_match_ALL_selectsnrgt5_fadeing_radec.csv'%Surveyfits_root)"
   ]
  },
  {
   "cell_type": "code",
   "execution_count": null,
   "metadata": {
    "ExecuteTime": {
     "start_time": "2023-07-22T04:41:35.373Z"
    }
   },
   "outputs": [],
   "source": [
    "RG_OIII_match_ALL_selectsnrgt5_fadeing=RG_OIII_match_ALL_selectsnrgt5_fadeing_radec"
   ]
  },
  {
   "cell_type": "markdown",
   "metadata": {
    "ExecuteTime": {
     "end_time": "2022-09-05T08:21:46.660189Z",
     "start_time": "2022-09-05T08:21:46.637889Z"
    }
   },
   "source": [
    "RG_OIII_match_ALL_selectsnrgt5_fadeing"
   ]
  },
  {
   "cell_type": "code",
   "execution_count": null,
   "metadata": {},
   "outputs": [],
   "source": []
  },
  {
   "cell_type": "code",
   "execution_count": null,
   "metadata": {},
   "outputs": [],
   "source": []
  },
  {
   "cell_type": "code",
   "execution_count": null,
   "metadata": {
    "ExecuteTime": {
     "start_time": "2023-07-22T04:41:35.619Z"
    }
   },
   "outputs": [],
   "source": [
    "RG_OIII_match_Radio_selectsnrgt5_fadeing=pd.read_csv('%s/RG_OIII_match_Radio_selectsnrgt5_fadeing_all'%Surveyfits_root)\n"
   ]
  },
  {
   "cell_type": "code",
   "execution_count": null,
   "metadata": {
    "ExecuteTime": {
     "start_time": "2023-07-22T04:41:35.623Z"
    }
   },
   "outputs": [],
   "source": [
    "RG_OIII_match_Radio_selectsnrgt5_fadeing.columns"
   ]
  },
  {
   "cell_type": "markdown",
   "metadata": {
    "ExecuteTime": {
     "end_time": "2022-09-05T08:16:55.960463Z",
     "start_time": "2022-09-05T08:16:55.945129Z"
    }
   },
   "source": [
    "RG_OIII_match_Radio_selectsnrgt5_fadeing['logLw1']=W1mag_to_Lum(RG_OIII_match_Radio_selectsnrgt5_fadeing['w1mpro_wise'],RG_OIII_match_Radio_selectsnrgt5_fadeing['Dcm'])\n",
    "RG_OIII_match_Radio_selectsnrgt5_fadeing['logLw2']=W2mag_to_Lum(RG_OIII_match_Radio_selectsnrgt5_fadeing['w2mpro_wise'],RG_OIII_match_Radio_selectsnrgt5_fadeing['Dcm'])\n",
    "RG_OIII_match_Radio_selectsnrgt5_fadeing['logLw3']=W3mag_to_Lum(RG_OIII_match_Radio_selectsnrgt5_fadeing['w3mpro_wise'],RG_OIII_match_Radio_selectsnrgt5_fadeing['Dcm'])\n",
    "RG_OIII_match_Radio_selectsnrgt5_fadeing['logLw4']=W4mag_to_Lum(RG_OIII_match_Radio_selectsnrgt5_fadeing['w4mpro_wise'],RG_OIII_match_Radio_selectsnrgt5_fadeing['Dcm'])"
   ]
  },
  {
   "cell_type": "code",
   "execution_count": null,
   "metadata": {},
   "outputs": [],
   "source": []
  },
  {
   "cell_type": "code",
   "execution_count": null,
   "metadata": {},
   "outputs": [],
   "source": []
  },
  {
   "cell_type": "code",
   "execution_count": null,
   "metadata": {},
   "outputs": [],
   "source": []
  },
  {
   "cell_type": "code",
   "execution_count": null,
   "metadata": {},
   "outputs": [],
   "source": []
  },
  {
   "cell_type": "code",
   "execution_count": null,
   "metadata": {
    "ExecuteTime": {
     "start_time": "2023-07-22T04:41:35.903Z"
    }
   },
   "outputs": [],
   "source": [
    "RG_OIII_match_Radio_selectsnrgt5_fadeing.columns"
   ]
  },
  {
   "cell_type": "code",
   "execution_count": null,
   "metadata": {},
   "outputs": [],
   "source": []
  },
  {
   "cell_type": "code",
   "execution_count": null,
   "metadata": {
    "ExecuteTime": {
     "start_time": "2023-07-22T04:41:35.912Z"
    }
   },
   "outputs": [],
   "source": [
    "wisedata_path_GGSM"
   ]
  },
  {
   "cell_type": "code",
   "execution_count": null,
   "metadata": {
    "ExecuteTime": {
     "start_time": "2023-07-22T04:41:35.916Z"
    }
   },
   "outputs": [],
   "source": [
    "ALLdatawise_dir='/Volumes/ExtremeSSD/Survey_fits//FadingGalaxy_wisedata/ALL/'"
   ]
  },
  {
   "cell_type": "markdown",
   "metadata": {
    "ExecuteTime": {
     "end_time": "2022-09-05T07:11:07.861755Z",
     "start_time": "2022-09-05T07:11:07.583167Z"
    }
   },
   "source": [
    "RG_OIII_match_ALL_selectsnrgt5_fadeing_Table.loc[0,'RAdeg']"
   ]
  },
  {
   "cell_type": "code",
   "execution_count": null,
   "metadata": {},
   "outputs": [],
   "source": []
  },
  {
   "cell_type": "code",
   "execution_count": null,
   "metadata": {
    "ExecuteTime": {
     "start_time": "2023-07-22T04:41:36.173Z"
    }
   },
   "outputs": [],
   "source": [
    "epsilon_s_w1=0.024\n",
    "epsilon_s_w2=0.028\n",
    "\n",
    "for index, (radeg,decdeg) in enumerate(zip(RG_OIII_match_ALL_selectsnrgt5_fadeing['RAdeg'],RG_OIII_match_ALL_selectsnrgt5_fadeing['DEdeg'])):\n",
    "    #print(i)\n",
    "    #search_name='SDSS'+name.replace(' ','')\n",
    "    #save_name='SDSS '+name.replace(' ','')\n",
    "    \n",
    "    data_test_neo,data_test_mep=get_wise_radec_data(radeg,decdeg,ALLdatawise_dir)\n",
    "    #data_test_neo,data_test_mep=get_remove_neo_mep(data_test_neo,data_test_mep)\n",
    "    \n",
    "    data_test_neo_copy=data_test_neo[['mjd','w1mpro','w1sigmpro','w2mpro','w2sigmpro']]\n",
    "    data_test_mep_copy=data_test_mep[['mjd','w1mpro_ep','w1sigmpro_ep','w2mpro_ep','w2sigmpro_ep']]\n",
    "    data_test_mep_copy.columns=['mjd','w1mpro','w1sigmpro','w2mpro','w2sigmpro']\n",
    "    \n",
    "    data_test_neo_plus_mep=pd.concat([data_test_neo_copy,data_test_mep_copy],ignore_index=True)\n",
    "    data_test_neo_plus_mep=drop_index(data_test_neo_plus_mep)\n",
    "    \n",
    "    #data_rebin_neo,data_rebin_mep=get_rebinwise_data(data_test_neo,data_test_mep,sigma_outlier=100)\n",
    "   \n",
    "    if len(data_test_neo_plus_mep)>2:\n",
    "        mag_label='w1mpro'\n",
    "        magerr_label='w1sigmpro'\n",
    "        epsilon_s=epsilon_s_w1\n",
    "\n",
    "        pearson_coeff,p_value=pearsonr(data_test_neo_plus_mep['w1mpro'],data_test_neo_plus_mep['w2mpro'])\n",
    "        RG_OIII_match_ALL_selectsnrgt5_fadeing.loc[index,'pearson_coeff_neo']=pearson_coeff\n",
    "\n",
    "        sigma_m_w1=get_intrinsic_var(data_test_neo_plus_mep,mag_label,magerr_label,epsilon_s)\n",
    "        RG_OIII_match_ALL_selectsnrgt5_fadeing.loc[index,'sigma_m_w1_neo']=sigma_m_w1\n",
    "        \n",
    "        mags=data_test_neo_plus_mep[mag_label]\n",
    "        e_mags=data_test_neo_plus_mep[magerr_label]\n",
    "        \n",
    "        RG_OIII_match_ALL_selectsnrgt5_fadeing.loc[index,'mean_m_w1_neo']=get_mag_weighted_mean_mag(mags,e_mags)\n",
    "        RG_OIII_match_ALL_selectsnrgt5_fadeing.loc[index,'mean_e_m_w1_neo']=get_mag_weighted_mean_e_mag(mags,e_mags)\n",
    "\n",
    "\n",
    "        mag_label='w2mpro'\n",
    "        magerr_label='w2sigmpro'\n",
    "        epsilon_s=epsilon_s_w2\n",
    "        sigma_m_w2=get_intrinsic_var(data_test_neo_plus_mep,mag_label,magerr_label,epsilon_s)\n",
    "        RG_OIII_match_ALL_selectsnrgt5_fadeing.loc[index,'sigma_m_w2_neo']=sigma_m_w2\n",
    "        \n",
    "        mags=data_test_neo_plus_mep[mag_label]\n",
    "        e_mags=data_test_neo_plus_mep[magerr_label]\n",
    "        \n",
    "        RG_OIII_match_ALL_selectsnrgt5_fadeing.loc[index,'mean_m_w2_neo']=get_mag_weighted_mean_mag(mags,e_mags)\n",
    "        RG_OIII_match_ALL_selectsnrgt5_fadeing.loc[index,'mean_e_m_w2_neo']=get_mag_weighted_mean_e_mag(mags,e_mags)\n",
    "        \n",
    "        RG_OIII_match_ALL_selectsnrgt5_fadeing.loc[index,'len_neo_mep']=len(data_test_neo_plus_mep)\n",
    "        RG_OIII_match_ALL_selectsnrgt5_fadeing.loc[index,'W1-W2']=np.average(data_test_neo_plus_mep['w1mpro']-data_test_neo_plus_mep['w2mpro'])\n",
    "\n",
    "\n",
    "    else:\n",
    "        RG_OIII_match_ALL_selectsnrgt5_fadeing.loc[index,'len_neo_mep']=0\n",
    "\n"
   ]
  },
  {
   "cell_type": "code",
   "execution_count": null,
   "metadata": {
    "ExecuteTime": {
     "start_time": "2023-07-22T04:41:36.179Z"
    }
   },
   "outputs": [],
   "source": [
    "RG_OIII_match_ALL_selectsnrgt5_fadeing.columns"
   ]
  },
  {
   "cell_type": "code",
   "execution_count": null,
   "metadata": {
    "ExecuteTime": {
     "start_time": "2023-07-22T04:41:36.184Z"
    }
   },
   "outputs": [],
   "source": [
    "RG_OIII_match_ALL_selectsnrgt5_fadeing['mean_logLw1']=W1mag_to_Lum(RG_OIII_match_ALL_selectsnrgt5_fadeing['mean_m_w1_neo'],\n",
    "                                                        RG_OIII_match_Radio_selectsnrgt5_fadeing['Dcm']          \n",
    "                                                                  )\n",
    "\n",
    "\n",
    "RG_OIII_match_ALL_selectsnrgt5_fadeing['mean_logLw2']=W1mag_to_Lum(RG_OIII_match_ALL_selectsnrgt5_fadeing['mean_m_w2_neo'],\n",
    "                                                        RG_OIII_match_Radio_selectsnrgt5_fadeing['Dcm']          \n",
    "                                                                  )\n"
   ]
  },
  {
   "cell_type": "code",
   "execution_count": null,
   "metadata": {},
   "outputs": [],
   "source": []
  },
  {
   "cell_type": "code",
   "execution_count": null,
   "metadata": {
    "ExecuteTime": {
     "start_time": "2023-07-22T04:41:36.192Z"
    }
   },
   "outputs": [],
   "source": [
    "RG_OIII_match_ALL_selectsnrgt5_fadeing[RG_OIII_match_ALL_selectsnrgt5_fadeing['W1-W2']>0.5]"
   ]
  },
  {
   "cell_type": "code",
   "execution_count": null,
   "metadata": {
    "ExecuteTime": {
     "start_time": "2023-07-22T04:41:36.197Z"
    }
   },
   "outputs": [],
   "source": [
    "RG_OIII_match_ALL_selectsnrgt5_fadeing[RG_OIII_match_ALL_selectsnrgt5_fadeing['sigma_m_w1_neo']>0.2].sort_values('RAdeg')"
   ]
  },
  {
   "cell_type": "code",
   "execution_count": null,
   "metadata": {},
   "outputs": [],
   "source": []
  },
  {
   "cell_type": "markdown",
   "metadata": {},
   "source": [
    "wise_radec_rebin_lc(radeg,decdeg,datawise_dir,plotwise_dir)\n",
    "    \n",
    "data_test_neo,data_test_mep=get_wise_radec_data(radeg,decdeg,datawise_dir)\n",
    "\n",
    "data_test_neo,data_test_mep=get_remove_neo_mep(data_test_neo,data_test_mep)\n",
    "data_rebin_neo,data_rebin_mep=get_rebinwise_data(data_test_neo,data_test_mep,sigma_outlier=100)    \n",
    "\n",
    "#data_rebin_neo,data_rebin_mep=get_rebinwise_data(data_test_neo,data_test_mep,sigma_outlier=10)\n",
    "\n",
    "save_name='RA%.5f_DEC%.5f'%(radeg,decdeg)"
   ]
  },
  {
   "cell_type": "code",
   "execution_count": null,
   "metadata": {},
   "outputs": [],
   "source": []
  },
  {
   "cell_type": "markdown",
   "metadata": {},
   "source": [
    "# QSO"
   ]
  },
  {
   "cell_type": "code",
   "execution_count": null,
   "metadata": {
    "ExecuteTime": {
     "start_time": "2023-07-22T04:41:36.724Z"
    }
   },
   "outputs": [],
   "source": [
    "CLAGN_statistic_plot_dir"
   ]
  },
  {
   "cell_type": "code",
   "execution_count": null,
   "metadata": {
    "ExecuteTime": {
     "start_time": "2023-07-22T04:41:36.729Z"
    }
   },
   "outputs": [],
   "source": [
    "#CLAGN_statistic_plot_dir='/Volumes/ExtremeSSD/CLAGN_statistic_plot/'\n",
    "#QSO=pd.read_csv('/Users/brettlv/Downloads/CLAGN_statistic_plot/QSO_wise_var.csv')\n",
    "QSO=pd.read_csv('%s/QSO_wise_var.csv'%CLAGN_statistic_plot_dir)\n",
    "print(QSO.columns)"
   ]
  },
  {
   "cell_type": "code",
   "execution_count": null,
   "metadata": {
    "ExecuteTime": {
     "start_time": "2023-07-22T04:41:36.733Z"
    }
   },
   "outputs": [],
   "source": [
    "QSO=QSO[QSO['len_neo']>20]\n",
    "QSO=drop_index(QSO)"
   ]
  },
  {
   "cell_type": "code",
   "execution_count": null,
   "metadata": {
    "ExecuteTime": {
     "start_time": "2023-07-22T04:41:36.738Z"
    }
   },
   "outputs": [],
   "source": [
    "QSO"
   ]
  },
  {
   "cell_type": "code",
   "execution_count": null,
   "metadata": {
    "ExecuteTime": {
     "start_time": "2023-07-22T04:41:36.742Z"
    }
   },
   "outputs": [],
   "source": [
    "len(QSO)"
   ]
  },
  {
   "cell_type": "code",
   "execution_count": null,
   "metadata": {
    "ExecuteTime": {
     "start_time": "2023-07-22T04:41:36.747Z"
    }
   },
   "outputs": [],
   "source": [
    "QSO['log(L5100)']=(QSO['lg(LHalpha)']-np.log10(5.25)-42)/1.157+44\n",
    "QSO['log(Lbol)']=np.log10(9)+QSO['log(L5100)']\n",
    "QSO['log(Ledd)']=np.log10(1.263*10**38)+QSO['lg(L_Mbh)']\n",
    "QSO['log(Lbol/Ledd)']=QSO['log(Lbol)']-QSO['log(Ledd)']\n",
    "#print(QSO.columns)\n",
    "#D_cm_QSO=cosmo.luminosity_distance(z=QSO['redshift']).to(u.cm)"
   ]
  },
  {
   "cell_type": "code",
   "execution_count": null,
   "metadata": {
    "ExecuteTime": {
     "start_time": "2023-07-22T04:41:36.752Z"
    }
   },
   "outputs": [],
   "source": [
    "QSO"
   ]
  },
  {
   "cell_type": "code",
   "execution_count": null,
   "metadata": {
    "ExecuteTime": {
     "start_time": "2023-07-22T04:41:36.758Z"
    }
   },
   "outputs": [],
   "source": [
    "QSO['D_cm']=cosmo.luminosity_distance(z=QSO['redshift'].values).to(u.cm).value\n",
    "\n",
    "QSO['logL_W1']= (-48.6-QSO['mean_m_w1_neo']-2.699)/2.5+np.log10(4*np.pi*QSO['D_cm']**2)+np.log10((constants.c/(3.4*u.um)).to(u.Hz).value)\n",
    "QSO['logL_W2']= (-48.6-QSO['mean_m_w2_neo']-3.339)/2.5+np.log10(4*np.pi*QSO['D_cm']**2)+np.log10((constants.c/(4.6*u.um)).to(u.Hz).value)"
   ]
  },
  {
   "cell_type": "code",
   "execution_count": null,
   "metadata": {},
   "outputs": [],
   "source": []
  },
  {
   "cell_type": "code",
   "execution_count": null,
   "metadata": {
    "ExecuteTime": {
     "start_time": "2023-07-22T04:41:36.766Z"
    }
   },
   "outputs": [],
   "source": [
    "QSO.columns"
   ]
  },
  {
   "cell_type": "markdown",
   "metadata": {},
   "source": [
    "# LLAGN"
   ]
  },
  {
   "cell_type": "code",
   "execution_count": null,
   "metadata": {
    "ExecuteTime": {
     "start_time": "2023-07-22T04:41:37.046Z"
    }
   },
   "outputs": [],
   "source": [
    "LLAGN_gu2009=pd.read_csv('%s/LLAGN_gu2009.csv'%CLAGN_statistic_plot_dir)\n",
    "LLAGN_gu2009=LLAGN_gu2009[LLAGN_gu2009['len_neo']>10]\n",
    "LLAGN_gu2009=drop_index(LLAGN_gu2009)"
   ]
  },
  {
   "cell_type": "code",
   "execution_count": null,
   "metadata": {
    "ExecuteTime": {
     "start_time": "2023-07-22T04:41:37.051Z"
    }
   },
   "outputs": [],
   "source": [
    "len(LLAGN_gu2009)"
   ]
  },
  {
   "cell_type": "code",
   "execution_count": null,
   "metadata": {
    "ExecuteTime": {
     "start_time": "2023-07-22T04:41:37.056Z"
    }
   },
   "outputs": [],
   "source": [
    "LLAGN_gu2009.columns"
   ]
  },
  {
   "cell_type": "code",
   "execution_count": null,
   "metadata": {
    "ExecuteTime": {
     "start_time": "2023-07-22T04:41:37.060Z"
    }
   },
   "outputs": [],
   "source": [
    "plt.scatter(RG_OIII_match_ALL_selectsnrgt5_fadeing['sigma_m_w1_neo'],RG_OIII_match_ALL_selectsnrgt5_fadeing['W1-W2'])\n",
    "plt.xlabel(r'$\\sigma W1$')\n",
    "plt.ylabel(r'$W1-W2$')"
   ]
  },
  {
   "cell_type": "code",
   "execution_count": null,
   "metadata": {
    "ExecuteTime": {
     "start_time": "2023-07-22T04:41:37.065Z"
    }
   },
   "outputs": [],
   "source": [
    "RG_OIII_match_ALL_selectsnrgt5_fadeing.columns"
   ]
  },
  {
   "cell_type": "code",
   "execution_count": null,
   "metadata": {
    "ExecuteTime": {
     "start_time": "2023-07-22T04:41:37.069Z"
    }
   },
   "outputs": [],
   "source": [
    "fig = plt.figure(figsize=(9,9))\n",
    "fig.subplots_adjust(hspace=0.4, wspace = 0.4)\n",
    "\n",
    "\n",
    "\n",
    "ax = fig.add_subplot(221)\n",
    "plotdata=RG_OIII_match_ALL_selectsnrgt5_fadeing\n",
    "#column_x=3\n",
    "#column_y=4\n",
    "colum_xlabel='mean_logLw1'\n",
    "colum_ylabel='sigma_m_w1_neo'\n",
    "print(colum_xlabel,colum_ylabel)\n",
    "for i in range(len(plotdata)):\n",
    "    if isinstance(plotdata[colum_xlabel][i],float) and isinstance(plotdata[colum_xlabel][i],float):\n",
    "        ax.scatter(plotdata[colum_xlabel][i],\n",
    "                   plotdata[colum_ylabel][i],\n",
    "                   color='red',marker='*',label='')\n",
    "                \n",
    "                \n",
    "plotdata=QSO\n",
    "#column_x=3\n",
    "#column_y=4\n",
    "colum_xlabel='logL_W1'\n",
    "colum_ylabel='sigma_m_w1_neo'\n",
    "print(colum_xlabel,colum_ylabel)\n",
    "for i in range(len(plotdata)):\n",
    "    if isinstance(plotdata[colum_xlabel][i],float) and isinstance(plotdata[colum_xlabel][i],float):\n",
    "        ax.scatter(plotdata[colum_xlabel][i],\n",
    "                   plotdata[colum_ylabel][i],\n",
    "                   color='black',marker='.',label='QSO')\n",
    "                \n",
    "plotdata=LLAGN_gu2009\n",
    "#column_x=3\n",
    "#column_y=4\n",
    "colum_xlabel='logL_W1'\n",
    "colum_ylabel='sigma_m_w1_neo'\n",
    "print(colum_xlabel,colum_ylabel)\n",
    "for i in range(len(plotdata)):\n",
    "    if isinstance(plotdata[colum_xlabel][i],float) and isinstance(plotdata[colum_xlabel][i],float):\n",
    "        ax.scatter(plotdata[colum_xlabel][i],\n",
    "                   plotdata[colum_ylabel][i],\n",
    "                   color='grey',marker='+',label='LLAGN')\n",
    "                \n",
    "                \n",
    "#ax.set_xlabel(r'$L_{178MHz}$')\n",
    "#ax.set_ylabel(r'$L_{OIII}$')\n",
    "#linx_plot=np.linspace(41,46,10)\n",
    "#ax.plot(linx_plot,linx_plot,ls=':')\n",
    "ax.set_xlabel(colum_xlabel)\n",
    "ax.set_ylabel(colum_ylabel)\n",
    "set_ax_tick(ax)\n",
    "handles, labels = ax.get_legend_handles_labels()\n",
    "# remove the errorbars\n",
    "hdl=handles\n",
    "#hdl = [h[0] for h in handles]\n",
    "# use them in the legend\n",
    "#\n",
    "labels_dict=dict(zip(labels, hdl)) #key,values\n",
    "#by_label=OrderedDict(sorted(labels_dict.items(),key=lambda t:t[0]))\n",
    "by_label = OrderedDict(zip(labels, hdl)) \n",
    "ax.legend(by_label.values(), by_label.keys(), bbox_to_anchor=(0.01, 0.99),\n",
    "          loc=2, numpoints=1,ncol=1,fontsize=11.)\n",
    "\n",
    "\n",
    "\n",
    "###########################################\n",
    "ax = fig.add_subplot(222)\n",
    "plotdata=RG_OIII_match_ALL_selectsnrgt5_fadeing\n",
    "#column_x=3\n",
    "#column_y=4\n",
    "colum_xlabel='mean_logLw1'\n",
    "colum_ylabel='W1-W2'\n",
    "print(colum_xlabel,colum_ylabel)\n",
    "for i in range(len(plotdata)):\n",
    "    if isinstance(plotdata[colum_xlabel][i],float) and isinstance(plotdata[colum_xlabel][i],float):\n",
    "        ax.scatter(plotdata[colum_xlabel][i],\n",
    "                   plotdata[colum_ylabel][i],\n",
    "                   color='red',marker='*',label='')\n",
    "                \n",
    "                \n",
    "plotdata=QSO\n",
    "#column_x=3\n",
    "#column_y=4\n",
    "colum_xlabel='logL_W1'\n",
    "colum_ylabel='W1-W2'\n",
    "print(colum_xlabel,colum_ylabel)\n",
    "for i in range(len(plotdata)):\n",
    "    if isinstance(plotdata[colum_xlabel][i],float) and isinstance(plotdata[colum_xlabel][i],float):\n",
    "        ax.scatter(plotdata[colum_xlabel][i],\n",
    "                   plotdata[colum_ylabel][i],\n",
    "                   color='black',marker='.',label='QSO')\n",
    "                \n",
    "plotdata=LLAGN_gu2009\n",
    "#column_x=3\n",
    "#column_y=4\n",
    "colum_xlabel='logL_W1'\n",
    "colum_ylabel='W1-W2'\n",
    "print(colum_xlabel,colum_ylabel)\n",
    "for i in range(len(plotdata)):\n",
    "    if isinstance(plotdata[colum_xlabel][i],float) and isinstance(plotdata[colum_xlabel][i],float):\n",
    "        ax.scatter(plotdata[colum_xlabel][i],\n",
    "                   plotdata[colum_ylabel][i],\n",
    "                   color='grey',marker='+',label='LLAGN')\n",
    "                \n",
    "                \n",
    "#ax.set_xlabel(r'$L_{178MHz}$')\n",
    "#ax.set_ylabel(r'$L_{OIII}$')\n",
    "#linx_plot=np.linspace(41,46,10)\n",
    "#ax.plot(linx_plot,linx_plot,ls=':')\n",
    "ax.set_xlabel(colum_xlabel)\n",
    "ax.set_ylabel(colum_ylabel)\n",
    "set_ax_tick(ax)\n",
    "handles, labels = ax.get_legend_handles_labels()\n",
    "# remove the errorbars\n",
    "hdl=handles\n",
    "#hdl = [h[0] for h in handles]\n",
    "# use them in the legend\n",
    "#\n",
    "labels_dict=dict(zip(labels, hdl)) #key,values\n",
    "#by_label=OrderedDict(sorted(labels_dict.items(),key=lambda t:t[0]))\n",
    "by_label = OrderedDict(zip(labels, hdl)) \n",
    "ax.legend(by_label.values(), by_label.keys(), bbox_to_anchor=(0.01, 0.99),\n",
    "          loc=2, numpoints=1,ncol=1,fontsize=11.)\n",
    "###########################################\n",
    "\n",
    "\n",
    "\n",
    "\n",
    "\n",
    "###########################################\n",
    "\n"
   ]
  },
  {
   "cell_type": "code",
   "execution_count": null,
   "metadata": {
    "ExecuteTime": {
     "start_time": "2023-07-22T04:41:37.074Z"
    }
   },
   "outputs": [],
   "source": [
    "colum_ylabel='sigma_m_w1_neo'\n",
    "np.mean(LLAGN_gu2009[colum_ylabel]),np.mean(QSO[colum_ylabel]),np.mean(RG_OIII_match_ALL_selectsnrgt5_fadeing['sigma_m_w1_neo'])"
   ]
  },
  {
   "cell_type": "code",
   "execution_count": null,
   "metadata": {},
   "outputs": [],
   "source": []
  },
  {
   "cell_type": "code",
   "execution_count": null,
   "metadata": {},
   "outputs": [],
   "source": []
  },
  {
   "cell_type": "markdown",
   "metadata": {},
   "source": [
    "# rebin data"
   ]
  },
  {
   "cell_type": "markdown",
   "metadata": {
    "ExecuteTime": {
     "end_time": "2022-07-04T12:43:49.300016Z",
     "start_time": "2022-07-04T12:43:49.288591Z"
    }
   },
   "source": [
    "data_rebin_neo,data_rebin_mep"
   ]
  },
  {
   "cell_type": "markdown",
   "metadata": {},
   "source": [
    "# def_wise_mag_to_flux"
   ]
  },
  {
   "cell_type": "code",
   "execution_count": 133,
   "metadata": {
    "ExecuteTime": {
     "end_time": "2023-08-18T14:32:05.799199Z",
     "start_time": "2023-08-18T14:32:05.780943Z"
    }
   },
   "outputs": [],
   "source": [
    "def wise_mag_to_flux(data,maglabel_w1,maglabel_w2,e_maglabel_w1,e_maglabel_w2,D_cm):\n",
    "    data['logL_W1']= (-48.6-data[maglabel_w1]-2.699)/2.5+np.log10(4*np.pi*D_cm.value**2)+np.log10((constants.c/(3.4*u.um)).to(u.Hz).value)\n",
    "    data['logL_W2']= (-48.6-data[maglabel_w2]-3.339)/2.5+np.log10(4*np.pi*D_cm.value**2)+np.log10((constants.c/(4.6*u.um)).to(u.Hz).value)\n",
    "    data['e_logL_W1'] =   data[e_maglabel_w1]/2.5\n",
    "    data['e_logL_W2'] =   data[e_maglabel_w2]/2.5\n",
    "    return data\n",
    "\n",
    "def get_wiseflux_rebin(data_rebin_neo,data_rebin_mep,D_cm):\n",
    "    maglabel_w1,maglabel_w2,e_maglabel_w1,e_maglabel_w2=('W1','W2','e_W1','e_W2')  \n",
    "    data_rebinflux_neo=wise_mag_to_flux(data_rebin_neo,maglabel_w1,maglabel_w2,e_maglabel_w1,e_maglabel_w2,D_cm)\n",
    "    data_rebinflux_mep=wise_mag_to_flux(data_rebin_mep,maglabel_w1,maglabel_w2,e_maglabel_w1,e_maglabel_w2,D_cm)\n",
    "                                                                                                              \n",
    "    return data_rebinflux_neo,data_rebinflux_mep"
   ]
  },
  {
   "cell_type": "markdown",
   "metadata": {},
   "source": [
    "## def get_wise_lc"
   ]
  },
  {
   "cell_type": "code",
   "execution_count": 110,
   "metadata": {
    "ExecuteTime": {
     "end_time": "2023-08-18T14:25:07.587561Z",
     "start_time": "2023-08-18T14:25:07.574173Z"
    }
   },
   "outputs": [],
   "source": [
    "def get_wise_lc(data_rebinflux_neo,data_rebinflux_mep):\n",
    "    lc_w1= pd.concat([data_rebinflux_neo[['t_W1','logL_W1','e_logL_W1']],data_rebinflux_mep[['t_W1','logL_W1','e_logL_W1']]])\n",
    "    lc_w2= pd.concat([data_rebinflux_neo[['t_W2','logL_W2','e_logL_W2']],data_rebinflux_mep[['t_W2','logL_W2','e_logL_W2']]])\n",
    "    \n",
    "    lc_w1=lc_w1.sort_values('t_W1')\n",
    "    lc_w2=lc_w2.sort_values('t_W2')\n",
    "    lc_w1=drop_index(lc_w1)\n",
    "    lc_w2=drop_index(lc_w2)\n",
    "    \n",
    "    #return lc_w1,lc_w2\n",
    "    datalag_w1=get_lag_data(lc_w1,'t_W1','logL_W1','e_logL_W1')\n",
    "    datalag_w2=get_lag_data(lc_w2,'t_W2','logL_W2','e_logL_W2')\n",
    "    return datalag_w1,datalag_w2"
   ]
  },
  {
   "cell_type": "code",
   "execution_count": null,
   "metadata": {},
   "outputs": [],
   "source": []
  },
  {
   "cell_type": "markdown",
   "metadata": {},
   "source": [
    "## def get_lag_data"
   ]
  },
  {
   "cell_type": "code",
   "execution_count": 135,
   "metadata": {
    "ExecuteTime": {
     "end_time": "2023-08-18T14:32:53.575898Z",
     "start_time": "2023-08-18T14:32:53.564955Z"
    }
   },
   "outputs": [],
   "source": [
    "def get_lag_data(data,timelabel,fluxlabel_w1,e_fluxlabel_w1):\n",
    "    \n",
    "    datalag_w1=pd.DataFrame({'t':data[timelabel],'flux':data[fluxlabel_w1],\\\n",
    "                                  'err':data[e_fluxlabel_w1]},\\\n",
    "                                  index=None,columns=['t','flux','err'])\n",
    "    return datalag_w1"
   ]
  },
  {
   "cell_type": "markdown",
   "metadata": {},
   "source": [
    "## def write_lagfile"
   ]
  },
  {
   "cell_type": "code",
   "execution_count": null,
   "metadata": {
    "ExecuteTime": {
     "start_time": "2023-07-22T04:41:38.896Z"
    }
   },
   "outputs": [],
   "source": [
    "def write_lagfile(rootdir,sourcename,labelname1,labelname2,dataname1,dataname2,rangemin,rangemax):\n",
    "    if not os.path.exists(os.path.join(rootdir,sourcename)):\n",
    "        os.mkdir(os.path.join(rootdir,sourcename))\n",
    "        \n",
    "    data1= dataname1[dataname1['t']>rangemin]\n",
    "    data1= data1[data1['t']<rangemax]   \n",
    "    path_data1=os.path.join(rootdir,sourcename,labelname1+'.csv')\n",
    "    data1.to_csv(path_data1,index=False,header=False,sep=',')\n",
    "    \n",
    "    data2= dataname2[dataname2['t']>rangemin]\n",
    "    data2= data2[data2['t']<rangemax]    \n",
    "    path_data2=os.path.join(rootdir,sourcename,labelname2+'.csv')\n",
    "    data2.to_csv(path_data2,index=False,header=False,sep=',')  \n",
    "    return path_data1,path_data2    "
   ]
  },
  {
   "cell_type": "markdown",
   "metadata": {},
   "source": [
    "## def get_lagfile_path"
   ]
  },
  {
   "cell_type": "code",
   "execution_count": null,
   "metadata": {
    "ExecuteTime": {
     "start_time": "2023-07-22T04:41:39.219Z"
    }
   },
   "outputs": [],
   "source": [
    "def get_lagfile(rootdir,sourcename,labelname1,labelname2,dataname1,dataname2,rangemin,rangemax):\n",
    "    \n",
    "    #data1= dataname1[dataname1['t']>rangemin]\n",
    "    #data1= data1[data1['t']<rangemax]   \n",
    "    path_data1=os.path.join(rootdir,sourcename,labelname1+'.csv')\n",
    "    #data1.to_csv(path_data1,index=False,header=False,sep=',')\n",
    "    \n",
    "    #data2= dataname2[dataname2['t']>rangemin]\n",
    "    #data2= data2[data2['t']<rangemax]    \n",
    "    path_data2=os.path.join(rootdir,sourcename,labelname2+'.csv')\n",
    "    #data2.to_csv(path_data2,index=False,header=False,sep=',')  \n",
    "    return path_data1,path_data2 "
   ]
  },
  {
   "cell_type": "code",
   "execution_count": null,
   "metadata": {},
   "outputs": [],
   "source": []
  },
  {
   "cell_type": "code",
   "execution_count": null,
   "metadata": {
    "ExecuteTime": {
     "start_time": "2023-07-22T04:41:39.227Z"
    }
   },
   "outputs": [],
   "source": [
    "name"
   ]
  },
  {
   "cell_type": "code",
   "execution_count": null,
   "metadata": {},
   "outputs": [],
   "source": []
  },
  {
   "cell_type": "code",
   "execution_count": null,
   "metadata": {},
   "outputs": [],
   "source": []
  },
  {
   "cell_type": "code",
   "execution_count": null,
   "metadata": {
    "ExecuteTime": {
     "start_time": "2023-07-22T04:41:39.238Z"
    }
   },
   "outputs": [],
   "source": [
    "#name_test='NGC 1566'\n",
    "name_test='WISEA J195739.10+503320.4'\n",
    "z_WISEAJ195739=0.1\n",
    "D_cm_WISEAJ195739=cosmo.luminosity_distance(z=z_WISEAJ195739).to(u.cm).value\n",
    "\n",
    "print(name_test,D_cm_WISEAJ195739)\n",
    "data_test_neo,data_test_mep=get_wise_data(name,datawise_dir=wisedata_path)\n",
    "data_test_neo,data_test_mep=get_remove_neo_mep(data_test_neo,data_test_mep)\n",
    "data_rebin_neo,data_rebin_mep=get_rebinwise_data(data_test_neo,data_test_mep,sigma_outlier=100)\n",
    "\n"
   ]
  },
  {
   "cell_type": "code",
   "execution_count": null,
   "metadata": {
    "ExecuteTime": {
     "start_time": "2023-07-22T04:41:39.246Z"
    }
   },
   "outputs": [],
   "source": [
    "data_rebin_neo,data_rebin_mep"
   ]
  },
  {
   "cell_type": "code",
   "execution_count": null,
   "metadata": {
    "ExecuteTime": {
     "start_time": "2023-07-22T04:41:39.253Z"
    },
    "scrolled": true
   },
   "outputs": [],
   "source": [
    "data_rebinflux_neo,data_rebinflux_mep=get_wiseflux_rebin(data_rebin_neo,data_rebin_mep,D_cm_WISEAJ195739)\n",
    "datalag_w1_WISEAJ195739,datalag_w2_WISEAJ195739=get_wise_lc(data_rebinflux_neo,data_rebinflux_mep)"
   ]
  },
  {
   "cell_type": "code",
   "execution_count": null,
   "metadata": {
    "ExecuteTime": {
     "start_time": "2023-07-22T04:41:39.258Z"
    }
   },
   "outputs": [],
   "source": [
    "rootdir_WWZ='/Users/brettlv/Downloads/WWZ/'\n",
    "if not os.path.exists(rootdir_WWZ):\n",
    "    os.mkdir(rootdir_WWZ)\n",
    "    print(rootdir_WWZ)"
   ]
  },
  {
   "cell_type": "code",
   "execution_count": null,
   "metadata": {
    "ExecuteTime": {
     "start_time": "2023-07-22T04:41:39.263Z"
    }
   },
   "outputs": [],
   "source": [
    "min(datalag_w1_WISEAJ195739['t']),max(datalag_w1_WISEAJ195739['t'])"
   ]
  },
  {
   "cell_type": "code",
   "execution_count": null,
   "metadata": {
    "ExecuteTime": {
     "start_time": "2023-07-22T04:41:39.269Z"
    }
   },
   "outputs": [],
   "source": [
    "labelname1=\"W1\"\n",
    "labelname2=\"W2\"\n",
    "#dataname1=lag_NGC1566_V\n",
    "dataname1=datalag_w1_WISEAJ195739\n",
    "dataname2=datalag_w2_WISEAJ195739\n",
    "sourcename=name\n",
    "\n",
    "rangemin,rangemax=55000,59900\n",
    "lagrangel=0\n",
    "lagrangeh=180"
   ]
  },
  {
   "cell_type": "code",
   "execution_count": null,
   "metadata": {
    "ExecuteTime": {
     "start_time": "2023-07-22T04:41:39.274Z"
    }
   },
   "outputs": [],
   "source": [
    "rootdir=rootdir_WWZ\n",
    "os.chdir(rootdir)\n",
    "source_path=os.path.join(rootdir,sourcename)\n",
    "path_data1,path_data2=write_lagfile(rootdir,sourcename,labelname1,labelname2,dataname1,dataname2,rangemin,rangemax)\n"
   ]
  },
  {
   "cell_type": "markdown",
   "metadata": {},
   "source": [
    "# Lomb-scargle"
   ]
  },
  {
   "cell_type": "code",
   "execution_count": null,
   "metadata": {
    "ExecuteTime": {
     "start_time": "2023-07-22T04:41:39.595Z"
    }
   },
   "outputs": [],
   "source": [
    "datalag_w1_WISEAJ195739.columns"
   ]
  },
  {
   "cell_type": "code",
   "execution_count": null,
   "metadata": {
    "ExecuteTime": {
     "start_time": "2023-07-22T04:41:39.601Z"
    }
   },
   "outputs": [],
   "source": [
    "from astropy.stats import LombScargle"
   ]
  },
  {
   "cell_type": "code",
   "execution_count": null,
   "metadata": {
    "ExecuteTime": {
     "start_time": "2023-07-22T04:41:39.605Z"
    }
   },
   "outputs": [],
   "source": [
    "fig = plt.figure(figsize=(12, 6))\n",
    "gs = plt.GridSpec(2, 2)\n",
    "\n",
    "f = lambda x: 0.8 * np.sin(x)\n",
    "rng = np.random.RandomState(15566)\n",
    "\n",
    "#data=datalag_w1_WISEAJ195739\n",
    "t = datalag_w1_WISEAJ195739['t']\n",
    "y= datalag_w1_WISEAJ195739['flux']\n",
    "dy =datalag_w1_WISEAJ195739['err']\n",
    "\n",
    "ax = fig.add_subplot(gs[:, 0])\n",
    "ax.errorbar(t, y, dy, fmt='ok', ecolor='gray',\n",
    "            markersize=3, capsize=0)\n",
    "#ax.plot(tfit, f(tfit), '-k', color='gray')\n",
    "ax.set(xlabel='MJD',\n",
    "       ylabel='signal',\n",
    "       title='W1')\n",
    "ax.set_xlim(55000, 59900)\n",
    "set_ax_tick(ax)\n",
    "plot_secax(ax)\n",
    "\n",
    "\n",
    "\n",
    "ls = LombScargle(t, y,dy)\n",
    "freq, power = ls.autopower(normalization='standard',\n",
    "                           minimum_frequency=0,\n",
    "                           maximum_frequency=0.1,\n",
    "                           samples_per_peak=20)\n",
    "freq, p = ls.autopower(normalization='psd',\n",
    "                       minimum_frequency=0,\n",
    "                       maximum_frequency=0.1,\n",
    "                       samples_per_peak=20)\n",
    "#p = np.exp(p)\n",
    "\n",
    "ax = [fig.add_subplot(gs[0, 1]),\n",
    "      fig.add_subplot(gs[1, 1])]\n",
    "ax[0].set_yscale('log')\n",
    "ax[1].set_yscale('log')\n",
    "ax[0].set_xscale('log')\n",
    "ax[1].set_xscale('log')\n",
    "\n",
    "ax[0].plot(freq, power, '-k')\n",
    "ax[0].set(xlim=(0, 0.1),\n",
    "          ylabel='$P_{LS}$',\n",
    "          title='Lomb-Scargle Periodogram')\n",
    "ax[0].xaxis.set_major_formatter(plt.NullFormatter())\n",
    "\n",
    "ax[1].plot(freq, p, '-k')\n",
    "ax[1].set(xlim=(0, 0.1),\n",
    "          xlabel='frequency',\n",
    "          ylabel='$p(f|D)$',\n",
    "          title='Bayesian Periodogram')\n",
    "\n",
    "fig.savefig('/Users/brettlv/Downloads/WWZ/WISEA J195739.10+503320.4/WISEAJ195739_ls.png',dpi=300)"
   ]
  },
  {
   "cell_type": "code",
   "execution_count": null,
   "metadata": {},
   "outputs": [],
   "source": []
  },
  {
   "cell_type": "code",
   "execution_count": null,
   "metadata": {
    "ExecuteTime": {
     "start_time": "2023-07-22T04:41:39.613Z"
    }
   },
   "outputs": [],
   "source": [
    "fig = plt.figure(figsize=(12, 6))\n",
    "gs = plt.GridSpec(2, 2)\n",
    "\n",
    "f = lambda x: 0.8 * np.sin(x)\n",
    "rng = np.random.RandomState(15566)\n",
    "\n",
    "#data=datalag_w1_WISEAJ195739\n",
    "t = datalag_w2_WISEAJ195739['t']\n",
    "y= datalag_w2_WISEAJ195739['flux']\n",
    "dy =datalag_w2_WISEAJ195739['err']\n",
    "\n",
    "ax = fig.add_subplot(gs[:, 0])\n",
    "ax.errorbar(t, y, dy, fmt='ok', ecolor='gray',\n",
    "            markersize=3, capsize=0)\n",
    "#ax.plot(tfit, f(tfit), '-k', color='gray')\n",
    "ax.set(xlabel='MJD',\n",
    "       ylabel='signal',\n",
    "       title='W2')\n",
    "ax.set_xlim(55000, 59900)\n",
    "set_ax_tick(ax)\n",
    "plot_secax(ax)\n",
    "\n",
    "\n",
    "\n",
    "ls = LombScargle(t, y,dy)\n",
    "freq, power = ls.autopower(normalization='standard',\n",
    "                           minimum_frequency=0,\n",
    "                           maximum_frequency=0.1,\n",
    "                           samples_per_peak=20)\n",
    "freq, p = ls.autopower(normalization='psd',\n",
    "                       minimum_frequency=0,\n",
    "                       maximum_frequency=0.1,\n",
    "                       samples_per_peak=20)\n",
    "#p = np.exp(p)\n",
    "\n",
    "ax = [fig.add_subplot(gs[0, 1]),\n",
    "      fig.add_subplot(gs[1, 1])]\n",
    "ax[0].set_yscale('log')\n",
    "ax[1].set_yscale('log')\n",
    "ax[0].set_xscale('log')\n",
    "ax[1].set_xscale('log')\n",
    "\n",
    "ax[0].plot(freq, power, '-k')\n",
    "ax[0].set(xlim=(0, 0.1),\n",
    "          ylabel='$P_{LS}$',\n",
    "          title='Lomb-Scargle Periodogram')\n",
    "ax[0].xaxis.set_major_formatter(plt.NullFormatter())\n",
    "\n",
    "ax[1].plot(freq, p, '-k')\n",
    "ax[1].set(xlim=(0, 0.1),\n",
    "          xlabel='frequency',\n",
    "          ylabel='$p(f|D)$',\n",
    "          title='Bayesian Periodogram')\n",
    "\n",
    "fig.savefig('/Users/brettlv/Downloads/WWZ/WISEA J195739.10+503320.4/WISEAJ195739_ls_W2.png',dpi=300)"
   ]
  },
  {
   "cell_type": "code",
   "execution_count": null,
   "metadata": {},
   "outputs": [],
   "source": []
  },
  {
   "cell_type": "markdown",
   "metadata": {},
   "source": [
    "## LS and BIC"
   ]
  },
  {
   "cell_type": "code",
   "execution_count": null,
   "metadata": {
    "ExecuteTime": {
     "start_time": "2023-07-22T04:41:39.955Z"
    }
   },
   "outputs": [],
   "source": [
    " np.linspace(1, 3, 100)"
   ]
  },
  {
   "cell_type": "code",
   "execution_count": null,
   "metadata": {
    "ExecuteTime": {
     "start_time": "2023-07-22T04:41:39.961Z"
    }
   },
   "outputs": [],
   "source": [
    "# Author: Jake VanderPlas\n",
    "# License: BSD\n",
    "#   The figure produced by this code is published in the textbook\n",
    "#   \"Statistics, Data Mining, and Machine Learning in Astronomy\" (2013)\n",
    "#   For more information, see http://astroML.github.com\n",
    "#   To report a bug or issue, use the following forum:\n",
    "#    https://groups.google.com/forum/#!forum/astroml-general\n",
    "import numpy as np\n",
    "from matplotlib import pyplot as plt\n",
    "from astroML.time_series import lomb_scargle, lomb_scargle_BIC, lomb_scargle_bootstrap\n",
    "\n",
    "#----------------------------------------------------------------------\n",
    "# This function adjusts matplotlib settings for a uniform feel in the textbook.\n",
    "# Note that with usetex=True, fonts are rendered with LaTeX.  This may\n",
    "# result in an error if LaTeX is not installed on your system.  In that case,\n",
    "# you can set usetex to False.\n",
    "from astroML.plotting import setup_text_plots\n",
    "setup_text_plots(fontsize=8, usetex=True)\n",
    "\n",
    "#------------------------------------------------------------\n",
    "# Generate Data\n",
    "np.random.seed(0)\n",
    "\n",
    "\n",
    "'''\n",
    "N = 30\n",
    "P = 0.3\n",
    "t = np.random.randint(100, size=N) + 0.3 + 0.4 * np.random.random(N)\n",
    "y = 10 + np.sin(2 * np.pi * t / P)\n",
    "dy = 0.5 + 0.5 * np.random.random(N)\n",
    "y_obs = np.random.normal(y, dy)\n",
    "\n",
    "'''\n",
    "t = datalag_w1_WISEAJ195739['t']\n",
    "y_obs= datalag_w1_WISEAJ195739['flux']\n",
    "dy =datalag_w1_WISEAJ195739['err']\n",
    "\n",
    "\n",
    "#------------------------------------------------------------\n",
    "# Compute periodogram\n",
    "period = 10 ** np.linspace(2, 3.5, 1000)\n",
    "omega = 2 * np.pi / period\n",
    "PS = lomb_scargle(t, y_obs, dy, omega, generalized=True)\n",
    "\n",
    "#------------------------------------------------------------\n",
    "# Get significance via bootstrap\n",
    "D = lomb_scargle_bootstrap(t, y_obs, dy, omega, generalized=True,\n",
    "                           N_bootstraps=1000, random_state=0)\n",
    "\n",
    "sig1, sig3, sig2 = np.percentile(D, [68, 99.74, 95.44])\n",
    "\n",
    "#------------------------------------------------------------\n",
    "\n"
   ]
  },
  {
   "cell_type": "code",
   "execution_count": null,
   "metadata": {
    "ExecuteTime": {
     "start_time": "2023-07-22T04:41:39.967Z"
    }
   },
   "outputs": [],
   "source": [
    "t"
   ]
  },
  {
   "cell_type": "code",
   "execution_count": null,
   "metadata": {
    "ExecuteTime": {
     "start_time": "2023-07-22T04:41:39.972Z"
    }
   },
   "outputs": [],
   "source": [
    "# Plot the results\n",
    "fig = plt.figure(figsize=(10, 6))\n",
    "fig.subplots_adjust(left=0.1, right=0.9, hspace=0.25)\n",
    "\n",
    "# First panel: the data\n",
    "ax = fig.add_subplot(211)\n",
    "ax.errorbar(t, y_obs, dy, fmt='ok', ecolor='gray',\n",
    "            markersize=3, capsize=0)\n",
    "#ax.set_xlabel('MJD')\n",
    "#ax.set_ylabel('flux')\n",
    "\n",
    "ax.set(xlabel='MJD',\n",
    "       ylabel='signal',\n",
    "       title='W1')\n",
    "\n",
    "ax.set_xlim(55000, 59900)\n",
    "set_ax_tick(ax)\n",
    "plot_secax(ax)\n",
    "# Second panel: the periodogram & significance levels\n",
    "\n",
    "ax1 = fig.add_subplot(212, xscale='log')\n",
    "ax1.plot(period, PS, '-', c='black', lw=1, zorder=1)\n",
    "#ax1.plot([period[0], period[-1]], [sig1, sig1], ':', c='black')\n",
    "#ax1.plot([period[0], period[-1]], [sig3, sig3], ':', c='blue')\n",
    "#ax1.plot([period[0], period[-1]], [sig2, sig2], ':', c='red')\n",
    "ax1.axhline(sig1, linestyle='dotted', c='black',label=r'1$\\sigma$')\n",
    "ax1.axhline(sig2, linestyle='-', c='red',label=r'2$\\sigma$')\n",
    "ax1.axhline(sig3, linestyle='-.', c='blue',label=r'3$\\sigma$')\n",
    "\n",
    "'''ax1.annotate(\"\", (0.3, 0.65), (0.3, 0.85), ha='center',\n",
    "             arrowprops=dict(arrowstyle='->'))\n",
    "'''\n",
    "#ax1.set_xlim(period[0], period[-1])\n",
    "ax1.set_ylim(-0.05, 0.95)\n",
    "\n",
    "ax1.set_xlabel(r'period (days)')\n",
    "ax1.set_ylabel('power')\n",
    "\n",
    "# Twin axis: label BIC on the right side\n",
    "ax2 = ax1.twinx()\n",
    "ax2.set_ylim(tuple(lomb_scargle_BIC(ax1.get_ylim(), y_obs, dy)))\n",
    "ax2.set_ylabel(r'$\\Delta BIC$')\n",
    "\n",
    "ax1.xaxis.set_major_formatter(plt.FormatStrFormatter('%.1f'))\n",
    "ax1.xaxis.set_minor_formatter(plt.FormatStrFormatter('%.1f'))\n",
    "ax1.xaxis.set_major_locator(plt.LogLocator(10))\n",
    "ax1.xaxis.set_major_formatter(plt.FormatStrFormatter('%.3g'))\n",
    "\n",
    "ax1.legend()\n",
    "#plt.show()\n",
    "fig.savefig('/Users/brettlv/Downloads/WWZ/WISEA J195739.10+503320.4/WISEAJ195739_ls_sig.png',dpi=300)"
   ]
  },
  {
   "cell_type": "code",
   "execution_count": null,
   "metadata": {
    "ExecuteTime": {
     "start_time": "2023-07-22T04:41:39.977Z"
    }
   },
   "outputs": [],
   "source": [
    "t = datalag_w2_WISEAJ195739['t']\n",
    "y_obs= datalag_w2_WISEAJ195739['flux']\n",
    "dy =datalag_w2_WISEAJ195739['err']\n",
    "\n",
    "\n",
    "#------------------------------------------------------------\n",
    "# Compute periodogram\n",
    "period = 10 ** np.linspace(2, 3.5, 1000)\n",
    "omega = 2 * np.pi / period\n",
    "PS = lomb_scargle(t, y_obs, dy, omega, generalized=True)\n",
    "\n",
    "#------------------------------------------------------------\n",
    "# Get significance via bootstrap\n",
    "D = lomb_scargle_bootstrap(t, y_obs, dy, omega, generalized=True,\n",
    "                           N_bootstraps=1000, random_state=0)\n",
    "\n",
    "sig1, sig3, sig2 = np.percentile(D, [68, 99.74, 95.44])\n",
    "\n",
    "#------------------------------------------------------------\n",
    "# Plot the results\n",
    "fig = plt.figure(figsize=(10, 6))\n",
    "fig.subplots_adjust(left=0.1, right=0.9, hspace=0.25)\n",
    "\n",
    "# First panel: the data\n",
    "ax = fig.add_subplot(211)\n",
    "ax.errorbar(t, y_obs, dy, fmt='ok', ecolor='gray',\n",
    "            markersize=3, capsize=0)\n",
    "#ax.set_xlabel('MJD')\n",
    "#ax.set_ylabel('flux')\n",
    "\n",
    "ax.set(xlabel='MJD',\n",
    "       ylabel='signal',\n",
    "       title='W2')\n",
    "\n",
    "ax.set_xlim(55000, 59900)\n",
    "set_ax_tick(ax)\n",
    "plot_secax(ax)\n",
    "# Second panel: the periodogram & significance levels\n",
    "\n",
    "ax1 = fig.add_subplot(212, xscale='log')\n",
    "ax1.plot(period, PS, '-', c='black', lw=1, zorder=1)\n",
    "#ax1.plot([period[0], period[-1]], [sig1, sig1], ':', c='black')\n",
    "#ax1.plot([period[0], period[-1]], [sig3, sig3], ':', c='blue')\n",
    "#ax1.plot([period[0], period[-1]], [sig2, sig2], ':', c='red')\n",
    "ax1.axhline(sig1, linestyle='dotted', c='black',label=r'1$\\sigma$')\n",
    "ax1.axhline(sig2, linestyle='-', c='red',label=r'2$\\sigma$')\n",
    "ax1.axhline(sig3, linestyle='-.', c='blue',label=r'3$\\sigma$')\n",
    "\n",
    "'''ax1.annotate(\"\", (0.3, 0.65), (0.3, 0.85), ha='center',\n",
    "             arrowprops=dict(arrowstyle='->'))\n",
    "'''\n",
    "#ax1.set_xlim(period[0], period[-1])\n",
    "ax1.set_ylim(-0.05, 0.95)\n",
    "\n",
    "ax1.set_xlabel(r'period (days)')\n",
    "ax1.set_ylabel('power')\n",
    "\n",
    "# Twin axis: label BIC on the right side\n",
    "ax2 = ax1.twinx()\n",
    "ax2.set_ylim(tuple(lomb_scargle_BIC(ax1.get_ylim(), y_obs, dy)))\n",
    "ax2.set_ylabel(r'$\\Delta BIC$')\n",
    "\n",
    "ax1.xaxis.set_major_formatter(plt.FormatStrFormatter('%.1f'))\n",
    "ax1.xaxis.set_minor_formatter(plt.FormatStrFormatter('%.1f'))\n",
    "ax1.xaxis.set_major_locator(plt.LogLocator(10))\n",
    "ax1.xaxis.set_major_formatter(plt.FormatStrFormatter('%.3g'))\n",
    "\n",
    "ax1.legend()\n",
    "#plt.show()\n",
    "fig.savefig('/Users/brettlv/Downloads/WWZ/WISEA J195739.10+503320.4/WISEAJ195739_ls_sig_W2.png',dpi=300)"
   ]
  },
  {
   "cell_type": "markdown",
   "metadata": {},
   "source": [
    "# ZTF"
   ]
  },
  {
   "cell_type": "markdown",
   "metadata": {},
   "source": [
    "## def ztflc_show_in_jupyter"
   ]
  },
  {
   "cell_type": "code",
   "execution_count": null,
   "metadata": {
    "ExecuteTime": {
     "start_time": "2023-07-22T04:41:40.658Z"
    }
   },
   "outputs": [],
   "source": [
    "def ztflc_show_in_jupyter(data,name,band, showtoday=False, show_upperlimits=False, formattime=False,\n",
    "             marker=\"o\", mec=\"0.7\", ms=7, ecolor=\"0.7\", ls=\"None\", zorder=4, **kwargs):\n",
    "        \"\"\" kwargs goes to matplotlib's errorbar() \"\"\"\n",
    "        FILTER_COLORS = [\"C2\",\"C3\",\"C1\"]\n",
    "        FILTER_CODE   = [\"zg\",\"zr\",\"zi\"]\n",
    "        save_name=name.strip().replace(' ','_')\n",
    "        \n",
    "\n",
    "        from astropy import time\n",
    "        import matplotlib.pyplot as mpl\n",
    "\n",
    "        # ----------- #\n",
    "        # Global      #\n",
    "        # ----------- #\n",
    "        lc_dataframe = data\n",
    "        prop = dict(marker=marker, mec=mec, ms=ms, ecolor=ecolor, ls=ls, zorder=zorder)\n",
    "\n",
    "        # ----------- #\n",
    "        #\n",
    "        # ----------- #\n",
    "        fig = mpl.figure(figsize=[7,4])\n",
    "        ax = fig.add_axes([0.1,0.15,0.8,0.75])\n",
    "        for filter_ in np.unique(lc_dataframe[\"filtercode\"]):\n",
    "            d = lc_dataframe[lc_dataframe[\"filtercode\"]==filter_]\n",
    "            if filter_ in FILTER_CODE:\n",
    "                prop[\"color\"] = np.asarray(FILTER_COLORS)[np.where(np.asarray(FILTER_CODE)==filter_)][0]\n",
    "            else:\n",
    "                prop[\"color\"] = \"0.7\"\n",
    "\n",
    "            if formattime:\n",
    "                dates = time.Time(np.asarray(d[\"mjd\"].values, dtype=\"float\"), format=\"mjd\").datetime\n",
    "            else:\n",
    "                dates = d[\"mjd\"]\n",
    "            ax.errorbar(dates, d[\"mag\"], \n",
    "                                yerr=d[\"magerr\"],\n",
    "                                **{**prop,**kwargs})\n",
    "\n",
    "        ax.invert_yaxis()\n",
    "        \n",
    "        \n",
    "        if show_upperlimits:\n",
    "            for filter_ in np.unique(lc_dataframe[\"filtercode\"]):\n",
    "                d = lc_dataframe[lc_dataframe[\"filtercode\"]==filter_]\n",
    "                if filter_ in FILTER_CODE:\n",
    "                    color = np.asarray(FILTER_COLORS)[np.where(np.asarray(FILTER_CODE)==filter_)][0]\n",
    "                else:\n",
    "                    color = \"0.7\"\n",
    "\n",
    "                if formattime:\n",
    "                    dates = time.Time(np.asarray(d[\"mjd\"].values, dtype=\"float\"), format=\"mjd\").datetime\n",
    "                else:\n",
    "                    dates = d[\"mjd\"]\n",
    "                    \n",
    "                ax.errorbar(dates, d[\"limitmag\"], \n",
    "                            yerr=0.1, lolims=True,marker=\"None\", ls=\"None\", \n",
    "                            color=color, alpha=0.1,\n",
    "                            )\n",
    "\n",
    "        if showtoday:\n",
    "            today_color = \"0.7\"\n",
    "            import datetime\n",
    "            today = time.Time(datetime.date.today().isoformat(),format=\"iso\").mjd\n",
    "            ax.axvline(today, ls=\"--\", color=today_color, zorder=1, lw=1)\n",
    "            ax.text(today, ax.get_ylim()[0]-0.05, \"Today\", va=\"bottom\", ha=\"right\", rotation=90, color=today_color)\n",
    "\n",
    "        if formattime:\n",
    "            from matplotlib import dates as mdates            \n",
    "            locator = mdates.AutoDateLocator()\n",
    "            formatter = mdates.ConciseDateFormatter(locator)\n",
    "            ax.xaxis.set_major_locator(locator)\n",
    "            ax.xaxis.set_major_formatter(formatter)\n",
    "            ax.set_xlabel(\"Date\")\n",
    "        else:\n",
    "            ax.set_xlabel(\"MJD\")\n",
    "        # - Labels\n",
    "\n",
    "        ax.set_ylabel(\"mag\")\n",
    "        ax.set_title('%s_%s'%(name,band))\n",
    "        plot_secax(ax,mi_interval=30,ma_interval=180,rotation=30)  \n",
    "        return fig\n",
    "        "
   ]
  },
  {
   "cell_type": "markdown",
   "metadata": {},
   "source": [
    "## ztflc_Lum_show_in_jupyter"
   ]
  },
  {
   "cell_type": "code",
   "execution_count": null,
   "metadata": {
    "ExecuteTime": {
     "start_time": "2023-07-22T04:41:40.990Z"
    }
   },
   "outputs": [],
   "source": [
    "def ztflc_Lum_show_in_jupyter(data,name,band,D_cm, showtoday=False, show_upperlimits=False, formattime=True,\n",
    "             marker=\"o\", mec=\"0.7\", ms=7, ecolor=\"0.7\", ls=\"None\", zorder=4, **kwargs):\n",
    "        \"\"\" kwargs goes to matplotlib's errorbar() \"\"\"\n",
    "        FILTER_COLORS = [\"C2\",\"C3\",\"C1\"]\n",
    "        FILTER_CODE   = [\"zg\",\"zr\",\"zi\"]\n",
    "        save_name=name.strip().replace(' ','_')\n",
    "        \n",
    "        if band=='g':\n",
    "            wavelength=(410+550)/2*10\n",
    "    \n",
    "        if band=='r':\n",
    "            wavelength=(700+550)/2*10 \n",
    "            \n",
    "        if band=='i':\n",
    "            wavelength=(700+900)/2*10 \n",
    "            \n",
    "            \n",
    "        from astropy import time\n",
    "        import matplotlib.pyplot as mpl\n",
    "\n",
    "        # ----------- #\n",
    "        # Global      #\n",
    "        # ----------- #\n",
    "        lc_dataframe = data\n",
    "        prop = dict(marker=marker, mec=mec, ms=ms, ecolor=ecolor, ls=ls, zorder=zorder)\n",
    "\n",
    "        # ----------- #\n",
    "        #\n",
    "        # ----------- #\n",
    "        fig = mpl.figure(figsize=[7,4])\n",
    "        ax = fig.add_axes([0.1,0.15,0.8,0.75])\n",
    "        for filter_ in np.unique(lc_dataframe[\"filtercode\"]):\n",
    "            d = lc_dataframe[lc_dataframe[\"filtercode\"]==filter_]\n",
    "            if filter_ in FILTER_CODE:\n",
    "                prop[\"color\"] = np.asarray(FILTER_COLORS)[np.where(np.asarray(FILTER_CODE)==filter_)][0]\n",
    "            else:\n",
    "                prop[\"color\"] = \"0.7\"\n",
    "\n",
    "            if formattime:\n",
    "                dates = time.Time(np.asarray(d[\"mjd\"].values, dtype=\"float\"), format=\"mjd\").datetime\n",
    "            else:\n",
    "                dates = d[\"mjd\"]\n",
    "            ax.errorbar(dates, d[\"flux\"]*4*np.pi*D_cm**2*1e-23*wavelength, \n",
    "                                yerr=d[\"flux_err\"]*4*np.pi*D_cm**2*1e-23*wavelength,\n",
    "                                **{**prop,**kwargs})\n",
    "\n",
    "    \n",
    "\n",
    "        if showtoday:\n",
    "            today_color = \"0.7\"\n",
    "            import datetime\n",
    "            today = time.Time(datetime.date.today().isoformat(),format=\"iso\").mjd\n",
    "            ax.axvline(today, ls=\"--\", color=today_color, zorder=1, lw=1)\n",
    "            ax.text(today, ax.get_ylim()[0]-0.05, \"Today\", va=\"bottom\", ha=\"right\", rotation=90, color=today_color)\n",
    "\n",
    "        if formattime:\n",
    "            from matplotlib import dates as mdates            \n",
    "            locator = mdates.AutoDateLocator()\n",
    "            formatter = mdates.ConciseDateFormatter(locator)\n",
    "            ax.xaxis.set_major_locator(locator)\n",
    "            ax.xaxis.set_major_formatter(formatter)\n",
    "            ax.set_xlabel(\"Date\")\n",
    "        else:\n",
    "            ax.set_xlabel(\"MJD\")\n",
    "        # - Labels\n",
    "\n",
    "        ax.set_ylabel(\"$\\lambda*L_{%s}$\"%band)\n",
    "        ax.set_title('%s_%s'%(name,band))\n",
    "        plot_secax(ax)       \n",
    "        "
   ]
  },
  {
   "cell_type": "code",
   "execution_count": null,
   "metadata": {},
   "outputs": [],
   "source": []
  },
  {
   "cell_type": "code",
   "execution_count": null,
   "metadata": {
    "ExecuteTime": {
     "end_time": "2023-07-22T04:41:46.558782Z",
     "start_time": "2023-07-22T04:41:41.023972Z"
    }
   },
   "outputs": [],
   "source": [
    "table_IRSA=Irsa.list_catalogs()   "
   ]
  },
  {
   "cell_type": "code",
   "execution_count": null,
   "metadata": {
    "ExecuteTime": {
     "end_time": "2023-07-22T04:41:46.572519Z",
     "start_time": "2023-07-22T04:41:46.560134Z"
    }
   },
   "outputs": [],
   "source": [
    "table_IRSA"
   ]
  },
  {
   "cell_type": "code",
   "execution_count": null,
   "metadata": {
    "ExecuteTime": {
     "end_time": "2023-07-22T04:41:46.577318Z",
     "start_time": "2023-07-22T04:41:46.574473Z"
    }
   },
   "outputs": [],
   "source": [
    "name"
   ]
  },
  {
   "cell_type": "markdown",
   "metadata": {},
   "source": [
    "## ptf"
   ]
  },
  {
   "cell_type": "code",
   "execution_count": null,
   "metadata": {
    "ExecuteTime": {
     "end_time": "2023-07-22T04:41:46.615783Z",
     "start_time": "2023-07-22T04:41:46.578279Z"
    }
   },
   "outputs": [],
   "source": [
    "#Irsa.ROW_LIMIT = 1000 # value of new row limit here.\n",
    "#Irsa.TIMEOUT = 120\n",
    "\n",
    "#name='Mrk 6'\n",
    "search_name=name.strip().replace(' ','')\n",
    "save_name=search_name\n",
    "ztf_datadir='/Users/brettlv/Downloads/WWZ/WISEA J195739.10+503320.4/'\n",
    "catalog='ptf_lightcurves'\n",
    "ztf_datapath='%s/%s_%s.csv'%(ztf_datadir,catalog,save_name)\n",
    "# objects_dr7\n",
    "\n",
    "if not os.path.exists(ztf_datapath):\n",
    "    print(search_name)\n",
    "    Irsa.ROW_LIMIT = 10000\n",
    "    Irsa.TIMEOUT = 120\n",
    "    table_ztf_objects_dr7 =Irsa.query_region(search_name,catalog,spatial='Cone',radius=1*u.arcsec,)\n",
    "    table_ztf_objects_dr7.write(ztf_datapath, format='csv')\n",
    "    time.sleep(15+np.random.randint(5,10))    "
   ]
  },
  {
   "cell_type": "code",
   "execution_count": null,
   "metadata": {
    "ExecuteTime": {
     "end_time": "2023-07-22T04:41:46.618140Z",
     "start_time": "2023-07-22T04:41:46.618131Z"
    }
   },
   "outputs": [],
   "source": [
    "\n",
    "search_name=name.strip().replace(' ','')\n",
    "save_name=search_name\n",
    "ztf_datadir='/Users/brettlv/Downloads/WWZ/WISEA J195739.10+503320.4/'\n",
    "catalog='ptf_lightcurves'\n",
    "ztf_datapath='%s/%s_%s.csv'%(ztf_datadir,catalog,save_name)\n",
    "print(save_name)\n",
    "ztf_lc=pd.read_csv(ztf_datapath)"
   ]
  },
  {
   "cell_type": "code",
   "execution_count": null,
   "metadata": {
    "ExecuteTime": {
     "end_time": "2023-07-22T04:41:46.618732Z",
     "start_time": "2023-07-22T04:41:46.618725Z"
    }
   },
   "outputs": [],
   "source": [
    "ztf_lc.columns"
   ]
  },
  {
   "cell_type": "code",
   "execution_count": null,
   "metadata": {
    "ExecuteTime": {
     "end_time": "2023-07-22T04:41:46.619479Z",
     "start_time": "2023-07-22T04:41:46.619472Z"
    }
   },
   "outputs": [],
   "source": [
    "min(ztf_lc['obsmjd']),max(ztf_lc['obsmjd']),max(ztf_lc['obsmjd'])-min(ztf_lc['obsmjd'])"
   ]
  },
  {
   "cell_type": "code",
   "execution_count": null,
   "metadata": {
    "ExecuteTime": {
     "end_time": "2023-07-22T04:41:46.620672Z",
     "start_time": "2023-07-22T04:41:46.620659Z"
    }
   },
   "outputs": [],
   "source": [
    "fig = plt.figure(figsize=(6, 6))\n",
    "#gs = plt.GridSpec(2, 2)\n",
    "\n",
    "\n",
    "\n",
    "#data=datalag_w1_WISEAJ195739\n",
    "t = ztf_lc['obsmjd']\n",
    "y= ztf_lc['mag_autocorr']\n",
    "dy =ztf_lc['magerr_auto']\n",
    "\n",
    "ax = fig.add_subplot(111)\n",
    "ax.errorbar(t, y, dy, fmt='ok', ecolor='gray',\n",
    "            markersize=3, capsize=0)\n",
    "#ax.plot(tfit, f(tfit), '-k', color='gray')\n",
    "ax.set(xlabel='MJD',\n",
    "       ylabel='signal',\n",
    "       title='ptf')\n",
    "ax.set_xlim(56775, 56850)\n",
    "set_ax_tick(ax)\n",
    "plot_secax(ax,30,10)"
   ]
  },
  {
   "cell_type": "markdown",
   "metadata": {},
   "source": [
    "## ztf"
   ]
  },
  {
   "cell_type": "code",
   "execution_count": null,
   "metadata": {
    "ExecuteTime": {
     "end_time": "2023-07-22T04:41:46.621461Z",
     "start_time": "2023-07-22T04:41:46.621451Z"
    }
   },
   "outputs": [],
   "source": [
    "ztf_datadir"
   ]
  },
  {
   "cell_type": "code",
   "execution_count": null,
   "metadata": {
    "ExecuteTime": {
     "end_time": "2023-07-22T04:41:46.622206Z",
     "start_time": "2023-07-22T04:41:46.622197Z"
    }
   },
   "outputs": [],
   "source": [
    "#Irsa.ROW_LIMIT = 1000 # value of new row limit here.\n",
    "#Irsa.TIMEOUT = 120\n",
    "\n",
    "#name='Mrk 6'\n",
    "name='PS16dtm'\n",
    "search_name=name.strip().replace(' ','')\n",
    "save_name=search_name\n",
    "ztf_datadir='/Users/brettlv/Downloads/WWZ/WISEA J195739.10+503320.4/'\n",
    "catalog='ztf_objects_dr11'\n",
    "ztf_datapath='%s/%s_%s.csv'%(ztf_datadir,catalog,save_name)\n",
    "# objects_dr7\n",
    "\n",
    "if not os.path.exists(ztf_datapath):\n",
    "    print(search_name)\n",
    "    Irsa.ROW_LIMIT = 10000\n",
    "    Irsa.TIMEOUT = 120\n",
    "    table_ztf_objects_dr7 =Irsa.query_region(search_name,catalog=catalog,spatial='Cone',radius=1*u.arcsec,)\n",
    "    table_ztf_objects_dr7.write(ztf_datapath, format='csv')\n",
    "    time.sleep(15+np.random.randint(5,10))    "
   ]
  },
  {
   "cell_type": "code",
   "execution_count": null,
   "metadata": {
    "ExecuteTime": {
     "end_time": "2023-07-22T04:41:46.623133Z",
     "start_time": "2023-07-22T04:41:46.623124Z"
    }
   },
   "outputs": [],
   "source": [
    "search_name=name.strip().replace(' ','')\n",
    "save_name=search_name\n",
    "ztf_datadir='/Users/brettlv/Downloads/WWZ/WISEA J195739.10+503320.4/'\n",
    "catalog='ztf_objects_dr11'\n",
    "ztf_datapath='%s/%s_%s.csv'%(ztf_datadir,catalog,save_name)\n",
    "print(save_name)\n",
    "ztf_lc=pd.read_csv(ztf_datapath)"
   ]
  },
  {
   "cell_type": "code",
   "execution_count": null,
   "metadata": {
    "ExecuteTime": {
     "end_time": "2023-07-22T04:41:46.624464Z",
     "start_time": "2023-07-22T04:41:46.624450Z"
    }
   },
   "outputs": [],
   "source": [
    "ztf_lc.columns"
   ]
  },
  {
   "cell_type": "code",
   "execution_count": null,
   "metadata": {
    "ExecuteTime": {
     "end_time": "2023-07-22T04:41:46.625163Z",
     "start_time": "2023-07-22T04:41:46.625155Z"
    }
   },
   "outputs": [],
   "source": [
    "ztf_lc"
   ]
  },
  {
   "cell_type": "markdown",
   "metadata": {},
   "source": [
    "## ztfquery "
   ]
  },
  {
   "cell_type": "code",
   "execution_count": null,
   "metadata": {
    "ExecuteTime": {
     "end_time": "2023-07-22T04:41:46.625817Z",
     "start_time": "2023-07-22T04:41:46.625810Z"
    }
   },
   "outputs": [],
   "source": [
    "$ZTFDATA"
   ]
  },
  {
   "cell_type": "code",
   "execution_count": null,
   "metadata": {
    "ExecuteTime": {
     "end_time": "2023-07-22T04:41:46.626644Z",
     "start_time": "2023-07-22T04:41:46.626637Z"
    }
   },
   "outputs": [],
   "source": [
    "ZTFDATA='/Volumes/ExtremeSSD/ZTFdata'\n",
    "if not os.path.exists(ZTFDATA):\n",
    "    os.mkdir(ZTFDATA)"
   ]
  },
  {
   "cell_type": "code",
   "execution_count": null,
   "metadata": {
    "ExecuteTime": {
     "end_time": "2023-07-22T04:41:46.627588Z",
     "start_time": "2023-07-22T04:41:46.627577Z"
    }
   },
   "outputs": [],
   "source": [
    "import ztfquery"
   ]
  },
  {
   "cell_type": "code",
   "execution_count": null,
   "metadata": {
    "ExecuteTime": {
     "end_time": "2023-07-22T04:41:46.628413Z",
     "start_time": "2023-07-22T04:41:46.628404Z"
    }
   },
   "outputs": [],
   "source": [
    "from ztfquery import query\n",
    "zquery = query.ZTFQuery()"
   ]
  },
  {
   "cell_type": "code",
   "execution_count": null,
   "metadata": {},
   "outputs": [],
   "source": []
  },
  {
   "cell_type": "code",
   "execution_count": null,
   "metadata": {},
   "outputs": [],
   "source": []
  },
  {
   "cell_type": "code",
   "execution_count": null,
   "metadata": {},
   "outputs": [],
   "source": []
  },
  {
   "cell_type": "markdown",
   "metadata": {
    "ExecuteTime": {
     "end_time": "2022-06-16T10:40:53.819019Z",
     "start_time": "2022-06-16T10:40:53.770500Z"
    }
   },
   "source": [
    "ztfquery.io.load_id({service_name})"
   ]
  },
  {
   "cell_type": "code",
   "execution_count": null,
   "metadata": {
    "ExecuteTime": {
     "end_time": "2023-07-22T04:41:46.629324Z",
     "start_time": "2023-07-22T04:41:46.629316Z"
    }
   },
   "outputs": [],
   "source": [
    "fritz.download_lightcurve?"
   ]
  },
  {
   "cell_type": "markdown",
   "metadata": {
    "ExecuteTime": {
     "end_time": "2022-06-16T11:01:16.649937Z",
     "start_time": "2022-06-16T11:01:16.647139Z"
    }
   },
   "source": [
    "#LOCALSOURCE=ZTFDATA"
   ]
  },
  {
   "cell_type": "markdown",
   "metadata": {
    "ExecuteTime": {
     "end_time": "2022-06-16T11:02:01.304418Z",
     "start_time": "2022-06-16T11:02:01.298592Z"
    }
   },
   "source": [
    "export $ZTFDATA=/Volumes/ExtremeSSD/ZTFdata"
   ]
  },
  {
   "cell_type": "markdown",
   "metadata": {
    "ExecuteTime": {
     "end_time": "2022-06-16T11:10:13.802429Z",
     "start_time": "2022-06-16T11:10:13.796735Z"
    }
   },
   "source": [
    "%env ZTFDATA=/Volumes/ExtremeSSD/ZTFdata\n",
    "%env LOCALSOURCE=/Volumes/ExtremeSSD/ZTFdata"
   ]
  },
  {
   "cell_type": "code",
   "execution_count": null,
   "metadata": {
    "ExecuteTime": {
     "end_time": "2023-07-22T04:41:46.630042Z",
     "start_time": "2023-07-22T04:41:46.630034Z"
    }
   },
   "outputs": [],
   "source": [
    "%set_env ZTFDATA=/Volumes/ExtremeSSD/ZTFdata\n",
    "%set_env LOCALSOURCE=/Volumes/ExtremeSSD/ZTFdata/Data"
   ]
  },
  {
   "cell_type": "code",
   "execution_count": null,
   "metadata": {
    "ExecuteTime": {
     "end_time": "2023-07-22T04:41:46.630778Z",
     "start_time": "2023-07-22T04:41:46.630766Z"
    }
   },
   "outputs": [],
   "source": [
    "pwd"
   ]
  },
  {
   "cell_type": "code",
   "execution_count": null,
   "metadata": {
    "ExecuteTime": {
     "end_time": "2023-07-22T04:41:46.631502Z",
     "start_time": "2023-07-22T04:41:46.631494Z"
    }
   },
   "outputs": [],
   "source": [
    "os.chdir(ZTFDATA)"
   ]
  },
  {
   "cell_type": "code",
   "execution_count": null,
   "metadata": {
    "ExecuteTime": {
     "end_time": "2023-07-22T04:41:46.632619Z",
     "start_time": "2023-07-22T04:41:46.632611Z"
    }
   },
   "outputs": [],
   "source": [
    "#%matplotlib notebook\n",
    "from ztfquery import fritz"
   ]
  },
  {
   "cell_type": "code",
   "execution_count": null,
   "metadata": {
    "ExecuteTime": {
     "end_time": "2023-07-22T04:41:46.633267Z",
     "start_time": "2023-07-22T04:41:46.633260Z"
    }
   },
   "outputs": [],
   "source": [
    "pwd"
   ]
  },
  {
   "cell_type": "markdown",
   "metadata": {
    "ExecuteTime": {
     "end_time": "2022-06-16T11:11:51.822503Z",
     "start_time": "2022-06-16T11:11:18.290544Z"
    }
   },
   "source": [
    "lc = fritz.download_lightcurve(\"ZTF20acrzwvx\")"
   ]
  },
  {
   "cell_type": "code",
   "execution_count": null,
   "metadata": {
    "ExecuteTime": {
     "end_time": "2023-07-22T04:41:46.634303Z",
     "start_time": "2023-07-22T04:41:46.634295Z"
    }
   },
   "outputs": [],
   "source": [
    "os.getenv('ZTFDATA'),os.getenv('LOCALSOURCE')"
   ]
  },
  {
   "cell_type": "code",
   "execution_count": null,
   "metadata": {
    "ExecuteTime": {
     "end_time": "2023-07-22T04:41:46.635042Z",
     "start_time": "2023-07-22T04:41:46.635034Z"
    }
   },
   "outputs": [],
   "source": [
    "{service_name}"
   ]
  },
  {
   "cell_type": "code",
   "execution_count": null,
   "metadata": {
    "ExecuteTime": {
     "end_time": "2023-07-22T04:41:46.635667Z",
     "start_time": "2023-07-22T04:41:46.635660Z"
    }
   },
   "outputs": [],
   "source": [
    "ztfquery.io._load_id_('irsa') #{\"username\":\"lyubing@hust.edu.cn\",'password':'qwe123irsa'}"
   ]
  },
  {
   "cell_type": "code",
   "execution_count": null,
   "metadata": {
    "ExecuteTime": {
     "end_time": "2022-06-16T11:31:13.404316Z",
     "start_time": "2022-06-16T11:31:13.399722Z"
    }
   },
   "outputs": [],
   "source": []
  },
  {
   "cell_type": "code",
   "execution_count": null,
   "metadata": {},
   "outputs": [],
   "source": []
  },
  {
   "cell_type": "markdown",
   "metadata": {
    "ExecuteTime": {
     "end_time": "2022-06-16T11:20:23.638769Z",
     "start_time": "2022-06-16T11:20:23.433230Z"
    }
   },
   "source": [
    "cat /Users/brettlv/anaconda3/lib/python3.8/site-packages/ztfquery/io.py"
   ]
  },
  {
   "cell_type": "code",
   "execution_count": null,
   "metadata": {
    "ExecuteTime": {
     "end_time": "2023-07-22T04:41:46.636339Z",
     "start_time": "2023-07-22T04:41:46.636332Z"
    }
   },
   "outputs": [],
   "source": [
    "coord_WISEAJ195739=SkyCoord('19h57m38.9s','+50d33m18s')"
   ]
  },
  {
   "cell_type": "code",
   "execution_count": null,
   "metadata": {
    "ExecuteTime": {
     "end_time": "2023-07-22T04:41:46.637880Z",
     "start_time": "2023-07-22T04:41:46.637867Z"
    }
   },
   "outputs": [],
   "source": [
    "coord_WISEAJ195739.ra.deg,coord_WISEAJ195739.dec.deg"
   ]
  },
  {
   "cell_type": "code",
   "execution_count": null,
   "metadata": {
    "ExecuteTime": {
     "end_time": "2023-07-22T04:41:46.638565Z",
     "start_time": "2023-07-22T04:41:46.638557Z"
    }
   },
   "outputs": [],
   "source": [
    "299.41200    50.55500"
   ]
  },
  {
   "cell_type": "markdown",
   "metadata": {},
   "source": [
    "## from ztfquery import lightcurve"
   ]
  },
  {
   "cell_type": "code",
   "execution_count": null,
   "metadata": {
    "ExecuteTime": {
     "end_time": "2023-07-22T04:41:46.639103Z",
     "start_time": "2023-07-22T04:41:46.639096Z"
    }
   },
   "outputs": [],
   "source": [
    "name='PS16dtm'"
   ]
  },
  {
   "cell_type": "code",
   "execution_count": null,
   "metadata": {},
   "outputs": [],
   "source": []
  },
  {
   "cell_type": "code",
   "execution_count": null,
   "metadata": {
    "ExecuteTime": {
     "end_time": "2023-07-22T04:41:46.639984Z",
     "start_time": "2023-07-22T04:41:46.639977Z"
    }
   },
   "outputs": [],
   "source": [
    "from ztfquery import lightcurve\n",
    "#lcq_PS16dtm = lightcurve.LCQuery.from_position(29.519793, -0.872746, 3)\n",
    "#lcq = lightcurve.LCQuery.from_position(299.412,50.55500, 3)"
   ]
  },
  {
   "cell_type": "markdown",
   "metadata": {
    "ExecuteTime": {
     "end_time": "2022-06-16T11:41:34.749480Z",
     "start_time": "2022-06-16T11:41:34.744889Z"
    }
   },
   "source": [
    "## lcq_PS16dtm"
   ]
  },
  {
   "cell_type": "markdown",
   "metadata": {
    "ExecuteTime": {
     "end_time": "2022-11-21T02:13:02.363985Z",
     "start_time": "2022-11-21T02:12:35.843186Z"
    }
   },
   "source": [
    "lcq_PS16dtm = lightcurve.LCQuery.from_position(29.519793, -0.872746, 3)"
   ]
  },
  {
   "cell_type": "code",
   "execution_count": null,
   "metadata": {},
   "outputs": [],
   "source": []
  },
  {
   "cell_type": "code",
   "execution_count": null,
   "metadata": {
    "ExecuteTime": {
     "start_time": "2023-07-22T04:41:45.742Z"
    }
   },
   "outputs": [],
   "source": [
    "data_g_PS16dtm = lightcurve.LCQuery.download_data(circle=[29.519793, -0.872746,0.0014], bandname=\"g\",BAD_CATFLAGS_MASK=32768)"
   ]
  },
  {
   "cell_type": "code",
   "execution_count": null,
   "metadata": {
    "ExecuteTime": {
     "start_time": "2023-07-22T04:41:45.749Z"
    }
   },
   "outputs": [],
   "source": [
    "data_i_PS16dtm = lightcurve.LCQuery.download_data(circle=[29.519793, -0.872746,0.0014], bandname=\"i\",BAD_CATFLAGS_MASK=15)"
   ]
  },
  {
   "cell_type": "code",
   "execution_count": null,
   "metadata": {
    "ExecuteTime": {
     "start_time": "2023-07-22T04:41:45.754Z"
    }
   },
   "outputs": [],
   "source": [
    "data_r_PS16dtm= lightcurve.LCQuery.download_data(circle=[29.519793, -0.872746,0.0014], bandname=\"r\",BAD_CATFLAGS_MASK=32768)"
   ]
  },
  {
   "cell_type": "code",
   "execution_count": null,
   "metadata": {
    "ExecuteTime": {
     "start_time": "2023-07-22T04:41:45.760Z"
    }
   },
   "outputs": [],
   "source": [
    "data_g_PS16dtm['flux']=  10**((data_g_PS16dtm['mag']-8.9)*(-0.4))#Jy\n",
    "data_g_PS16dtm['flux_err'] =0.4 *np.log(10)*data_g_PS16dtm['flux']*data_g_PS16dtm['magerr']\n",
    "\n",
    "\n",
    "data_i_PS16dtm['flux']=  10**((data_i_PS16dtm['mag']-8.9)*(-0.4))#Jy\n",
    "data_i_PS16dtm['flux_err'] =0.4 *np.log(10)*data_i_PS16dtm['flux']*data_i_PS16dtm['magerr']\n",
    "\n",
    "\n",
    "data_r_PS16dtm['flux']=  10**((data_r_PS16dtm['mag']-8.9)*(-0.4))#Jy\n",
    "data_r_PS16dtm['flux_err'] =0.4 *np.log(10)*data_r_PS16dtm['flux']*data_r_PS16dtm['magerr']"
   ]
  },
  {
   "cell_type": "code",
   "execution_count": null,
   "metadata": {
    "ExecuteTime": {
     "start_time": "2023-07-22T04:41:45.774Z"
    }
   },
   "outputs": [],
   "source": [
    "data_r_PS16dtm.columns"
   ]
  },
  {
   "cell_type": "code",
   "execution_count": null,
   "metadata": {
    "ExecuteTime": {
     "start_time": "2023-07-22T04:41:45.785Z"
    }
   },
   "outputs": [],
   "source": [
    "ztf_data_PS16dtm=[data_g_PS16dtm,data_r_PS16dtm,data_i_PS16dtm]\n",
    "ztf_bands=['g','r','i']\n",
    "ztf_bands_color=['green','red','cyan']\n"
   ]
  },
  {
   "cell_type": "markdown",
   "metadata": {},
   "source": [
    "## data_TDE_PS16dtm"
   ]
  },
  {
   "cell_type": "code",
   "execution_count": null,
   "metadata": {},
   "outputs": [],
   "source": []
  },
  {
   "cell_type": "code",
   "execution_count": null,
   "metadata": {},
   "outputs": [],
   "source": []
  },
  {
   "cell_type": "code",
   "execution_count": null,
   "metadata": {
    "ExecuteTime": {
     "start_time": "2023-07-22T04:41:46.294Z"
    }
   },
   "outputs": [],
   "source": [
    "data_TDE_PS16dtm=pd.read_excel('/Users/lyubing/Downloads/PS16dtm/PS16dtmTDE.xlsx')"
   ]
  },
  {
   "cell_type": "code",
   "execution_count": null,
   "metadata": {
    "ExecuteTime": {
     "start_time": "2023-07-22T04:41:46.299Z"
    }
   },
   "outputs": [],
   "source": [
    "data_TDE_PS16dtm"
   ]
  },
  {
   "cell_type": "code",
   "execution_count": null,
   "metadata": {
    "ExecuteTime": {
     "start_time": "2023-07-22T04:41:46.304Z"
    }
   },
   "outputs": [],
   "source": [
    "data_TDE_PS16dtm.columns"
   ]
  },
  {
   "cell_type": "code",
   "execution_count": null,
   "metadata": {
    "ExecuteTime": {
     "start_time": "2023-07-22T04:41:46.308Z"
    }
   },
   "outputs": [],
   "source": [
    "len(data_TDE_PS16dtm.columns)"
   ]
  },
  {
   "cell_type": "code",
   "execution_count": null,
   "metadata": {
    "ExecuteTime": {
     "start_time": "2023-07-22T04:41:46.313Z"
    }
   },
   "outputs": [],
   "source": [
    "colors_cm_10 = cm.get_cmap('tab10', 10)\n",
    "\n",
    "markers_bands_9=['o','+','^','v','d','.','.','.','.']\n",
    "colors_bands_9=['purple',colors_cm_10(4),'yellow',colors_cm_10(3),'blue',colors_cm_10(0),colors_cm_10(2),'red','cyan']\n",
    "\n",
    "marker_dict_uv = dict(zip(data_TDE_PS16dtm.columns[1:], markers_bands_9))\n",
    "color_dict_uv = dict(zip(data_TDE_PS16dtm.columns[1:], colors_bands_9))\n",
    "#label_dict_uv= dict(zip(data_TDE_PS16dtm.columns[1:], labels_bands))"
   ]
  },
  {
   "cell_type": "code",
   "execution_count": null,
   "metadata": {},
   "outputs": [],
   "source": []
  },
  {
   "cell_type": "markdown",
   "metadata": {
    "ExecuteTime": {
     "end_time": "2022-11-21T04:47:59.909263Z",
     "start_time": "2022-11-21T04:47:59.894304Z"
    }
   },
   "source": [
    "for index,j in enumerate(data_TDE_PS16dtm['uvw2']):\n",
    "    if j!='cdots':\n",
    "        mag= j.split('(')[0]\n",
    "        magerr=j.split('(')[1].split(')')[0]\n",
    "        print(data_TDE_PS16dtm.loc[index,'MJD'],mag,magerr)"
   ]
  },
  {
   "cell_type": "code",
   "execution_count": null,
   "metadata": {
    "ExecuteTime": {
     "start_time": "2023-07-22T04:41:46.748Z"
    }
   },
   "outputs": [],
   "source": [
    "fig = plt.figure(figsize=(8,4))\n",
    "fig.subplots_adjust(hspace=0.0, wspace = 0.0)\n",
    "ax = fig.add_subplot(111)\n",
    "\n",
    "\n",
    "BH_mass_PS16dtm=1e6*u.solMass\n",
    "Ledd_PS16dtm=1.26*10**38*BH_mass_PS16dtm/u.solMass\n",
    "\n",
    "for i in data_TDE_PS16dtm.columns[1:]:\n",
    "    for index,j in enumerate(data_TDE_PS16dtm[i]):\n",
    "        if j!='cdots':\n",
    "            mag= j.split('(')[0]\n",
    "            magerr=j.split('(')[1].split(')')[0]\n",
    "            mag=float(mag)\n",
    "            magerr=float(magerr)\n",
    "            \n",
    "            marker=marker_dict_uv[i]\n",
    "            color=color_dict_uv[i]\n",
    "            \n",
    "            #print(mag,magerr)\n",
    "            ax.errorbar(data_TDE_PS16dtm.loc[index,'MJD'],mag,magerr,\n",
    "                        marker=marker,\n",
    "                        color=color,\n",
    "                        label=i)\n",
    "#ax.errorbar(datalag_w1_PS16dtm['t'],datalag_w1_PS16dtm['flux']+np.log10(9),datalag_w1_PS16dtm['err'],label='w1',ls=':',marker='*')\n",
    "#ax.errorbar(datalag_w2_PS16dtm['t'],datalag_w2_PS16dtm['flux']+np.log10(9),datalag_w2_PS16dtm['err'],label='w2',ls=':',marker='*')\n",
    "\n",
    "#ax.axhline(np.log10(Ledd_PS16dtm),ls='-.',label='Ledd')\n",
    "\n",
    "for index,i in enumerate(ztf_data_PS16dtm):\n",
    "    ax.errorbar(i['mjd'],i['mag'],yerr=i['magerr'],\n",
    "                ls='',marker='*',\n",
    "                color='%s'%ztf_bands_color[index],label='ztf+%s'%ztf_bands[index])\n",
    "\n",
    "plot_rebinmag_w1(ax,data_rebin_neo,data_rebin_mep)\n",
    "plot_rebinmag_w2(ax,data_rebin_neo,data_rebin_mep)    \n",
    "    \n",
    "set_ax_tick(ax)\n",
    "ax.set_xlabel('MJD')\n",
    "ax.set_ylabel('mag')\n",
    "set_mag_ylim(ax)\n",
    "#set_ax_legend(ax,bbox_to_anchor=(0.99, 0.99))\n",
    "#ax.legend(bbox_to_anchor=(0.99, 0.99),ncol=3)\n",
    "ax.xaxis.set_tick_params(which='major', size=10, width=2, rotation=0,)\n",
    "handles, labels = ax.get_legend_handles_labels()\n",
    "# remove the errorbars\n",
    "#hdl = [h[0] for h in handles]\n",
    "hdl = handles\n",
    "labels_dict=dict(zip(labels, hdl)) #key,values\n",
    "#by_label=OrderedDict(sorted(labels_dict.items(),key=lambda t:t[0]))\n",
    "by_label = OrderedDict(zip(labels, handles))\n",
    "bbox_to_anchor=(0.99, 0.99)\n",
    "plot_secax(ax)\n",
    "ax.legend(by_label.values(), by_label.keys(), bbox_to_anchor=bbox_to_anchor,\n",
    "          loc=2, numpoints=1,ncol=3,fontsize=11.)"
   ]
  },
  {
   "cell_type": "code",
   "execution_count": null,
   "metadata": {
    "ExecuteTime": {
     "start_time": "2023-07-22T04:41:46.753Z"
    }
   },
   "outputs": [],
   "source": [
    "lcq_g_PS16dtm = lightcurve.LCQuery(data_g_PS16dtm)\n",
    "lcq_i_PS16dtm = lightcurve.LCQuery(data_i_PS16dtm)\n",
    "lcq_r_PS16dtm = lightcurve.LCQuery(data_r_PS16dtm)"
   ]
  },
  {
   "cell_type": "code",
   "execution_count": null,
   "metadata": {
    "ExecuteTime": {
     "start_time": "2023-07-22T04:41:46.761Z"
    }
   },
   "outputs": [],
   "source": [
    "ztflc_show_in_jupyter(data_g_PS16dtm,name,'g',formattime=False)"
   ]
  },
  {
   "cell_type": "code",
   "execution_count": null,
   "metadata": {
    "ExecuteTime": {
     "start_time": "2023-07-22T04:41:46.766Z"
    }
   },
   "outputs": [],
   "source": [
    "ztflc_Lum_show_in_jupyter(data_g_PS16dtm,name,'g',D_cm_PS16dtm,formattime=False)"
   ]
  },
  {
   "cell_type": "code",
   "execution_count": null,
   "metadata": {
    "ExecuteTime": {
     "start_time": "2023-07-22T04:41:46.771Z"
    }
   },
   "outputs": [],
   "source": [
    "ztflc_Lum_show_in_jupyter(data_r_PS16dtm,name,'r',D_cm_PS16dtm,formattime=False)"
   ]
  },
  {
   "cell_type": "code",
   "execution_count": null,
   "metadata": {
    "ExecuteTime": {
     "start_time": "2023-07-22T04:41:46.775Z"
    }
   },
   "outputs": [],
   "source": [
    "ztflc_Lum_show_in_jupyter(data_i_PS16dtm,name,'i',D_cm_PS16dtm,formattime=False)"
   ]
  },
  {
   "cell_type": "code",
   "execution_count": null,
   "metadata": {
    "ExecuteTime": {
     "start_time": "2023-07-22T04:41:46.780Z"
    }
   },
   "outputs": [],
   "source": [
    "ztflc_show_in_jupyter(data_i_PS16dtm,name,'i',formattime=False)"
   ]
  },
  {
   "cell_type": "code",
   "execution_count": null,
   "metadata": {
    "ExecuteTime": {
     "start_time": "2023-07-22T04:41:46.784Z"
    }
   },
   "outputs": [],
   "source": [
    "ztflc_show_in_jupyter(data_r_PS16dtm,name,'r',formattime=False)"
   ]
  },
  {
   "cell_type": "code",
   "execution_count": null,
   "metadata": {},
   "outputs": [],
   "source": []
  },
  {
   "cell_type": "code",
   "execution_count": null,
   "metadata": {
    "ExecuteTime": {
     "start_time": "2023-07-22T04:41:46.791Z"
    }
   },
   "outputs": [],
   "source": [
    "lcq_g_PS16dtm.show()"
   ]
  },
  {
   "cell_type": "code",
   "execution_count": null,
   "metadata": {
    "ExecuteTime": {
     "start_time": "2023-07-22T04:41:46.796Z"
    }
   },
   "outputs": [],
   "source": [
    "lcq_i_PS16dtm.show()"
   ]
  },
  {
   "cell_type": "markdown",
   "metadata": {},
   "source": [
    "### 51 3 arcsec"
   ]
  },
  {
   "cell_type": "code",
   "execution_count": null,
   "metadata": {
    "ExecuteTime": {
     "start_time": "2023-07-22T04:41:47.216Z"
    }
   },
   "outputs": [],
   "source": [
    "0.0014*3600,1/3600,3/3600"
   ]
  },
  {
   "cell_type": "markdown",
   "metadata": {},
   "source": [
    "## Changing-Look blazar OQ 334 (B2 1420+32)"
   ]
  },
  {
   "cell_type": "code",
   "execution_count": null,
   "metadata": {
    "ExecuteTime": {
     "start_time": "2023-07-22T04:41:47.725Z"
    }
   },
   "outputs": [],
   "source": [
    "ra_OQ_334=215.62657165527344\n",
    "dec_OQ_334=32.386234283447266\n",
    "\n",
    "\n",
    "data_OQ_334 = lightcurve.LCQuery.download_data(circle=[ra_OQ_334, dec_OQ_334,0.00027],BAD_CATFLAGS_MASK=0)"
   ]
  },
  {
   "cell_type": "markdown",
   "metadata": {
    "ExecuteTime": {
     "end_time": "2022-12-11T15:23:01.098152Z",
     "start_time": "2022-12-11T15:23:01.017785Z"
    }
   },
   "source": [
    "data_OQ_334.to_csv('/Users/lyubing/Downloads/OQ334_ztfdata.csv')"
   ]
  },
  {
   "cell_type": "code",
   "execution_count": null,
   "metadata": {
    "ExecuteTime": {
     "start_time": "2023-07-22T04:41:48.232Z"
    }
   },
   "outputs": [],
   "source": [
    "data_OQ_334.columns"
   ]
  },
  {
   "cell_type": "markdown",
   "metadata": {
    "ExecuteTime": {
     "end_time": "2022-12-07T07:41:38.202911Z",
     "start_time": "2022-12-07T07:41:38.173763Z"
    }
   },
   "source": [
    "data_OQ_334"
   ]
  },
  {
   "cell_type": "code",
   "execution_count": null,
   "metadata": {
    "ExecuteTime": {
     "start_time": "2023-07-22T04:41:48.649Z"
    }
   },
   "outputs": [],
   "source": [
    "data_OQ_334_g=data_OQ_334[data_OQ_334['filtercode']=='zg']\n",
    "data_OQ_334_r=data_OQ_334[data_OQ_334['filtercode']=='zr']\n",
    "data_OQ_334_i=data_OQ_334[data_OQ_334['filtercode']=='zi']"
   ]
  },
  {
   "cell_type": "code",
   "execution_count": null,
   "metadata": {
    "ExecuteTime": {
     "start_time": "2023-07-22T04:41:48.654Z"
    }
   },
   "outputs": [],
   "source": [
    "fig=ztflc_show_in_jupyter(data_OQ_334_g,'OQ_334','g', showtoday=False,formattime=False)\n",
    "fig.savefig('/Users/lyubing/Downloads/data_OQ_334_g.png',dpi=400, transparent=False, bbox_inches='tight')"
   ]
  },
  {
   "cell_type": "code",
   "execution_count": null,
   "metadata": {
    "ExecuteTime": {
     "start_time": "2023-07-22T04:41:48.659Z"
    }
   },
   "outputs": [],
   "source": [
    "fig=ztflc_show_in_jupyter(data_OQ_334_r,'OQ_334','r', showtoday=False,formattime=False)\n",
    "fig.savefig('/Users/lyubing/Downloads/data_OQ_334_r.png',dpi=400, transparent=False, bbox_inches='tight')"
   ]
  },
  {
   "cell_type": "code",
   "execution_count": null,
   "metadata": {
    "ExecuteTime": {
     "start_time": "2023-07-22T04:41:48.664Z"
    }
   },
   "outputs": [],
   "source": [
    "fig=ztflc_show_in_jupyter(data_OQ_334_i,'OQ_334','i', showtoday=False,formattime=False)\n",
    "fig.savefig('/Users/lyubing/Downloads/data_OQ_334_i.png',dpi=400, transparent=False, bbox_inches='tight')"
   ]
  },
  {
   "cell_type": "code",
   "execution_count": null,
   "metadata": {},
   "outputs": [],
   "source": []
  },
  {
   "cell_type": "code",
   "execution_count": null,
   "metadata": {},
   "outputs": [],
   "source": []
  },
  {
   "cell_type": "code",
   "execution_count": null,
   "metadata": {},
   "outputs": [],
   "source": []
  },
  {
   "cell_type": "code",
   "execution_count": null,
   "metadata": {},
   "outputs": [],
   "source": []
  },
  {
   "cell_type": "code",
   "execution_count": null,
   "metadata": {},
   "outputs": [],
   "source": []
  },
  {
   "cell_type": "markdown",
   "metadata": {
    "ExecuteTime": {
     "end_time": "2022-12-07T07:25:37.334608Z",
     "start_time": "2022-12-07T07:25:37.305974Z"
    }
   },
   "source": [
    "data_OQ_334_g"
   ]
  },
  {
   "cell_type": "code",
   "execution_count": null,
   "metadata": {},
   "outputs": [],
   "source": []
  },
  {
   "cell_type": "code",
   "execution_count": null,
   "metadata": {},
   "outputs": [],
   "source": []
  },
  {
   "cell_type": "code",
   "execution_count": null,
   "metadata": {},
   "outputs": [],
   "source": []
  },
  {
   "cell_type": "markdown",
   "metadata": {},
   "source": [
    "## ZTF light curve parameters"
   ]
  },
  {
   "cell_type": "markdown",
   "metadata": {},
   "source": [
    "The complete list of parameters supported by IRSA's ZTF-LC-API implementation is\n",
    "ID\n",
    "CIRCLE\n",
    "POS\n",
    "BAND\n",
    "BANDNAME\n",
    "MAG\n",
    "NUM_OBS\n",
    "TIME\n",
    "BAD_CATFLAGS_MASK\n",
    "COLLECTION\n",
    "FORMAT\n",
    "\n",
    "\n",
    "The BANDNAME parameter identifies by filter-id the wavelength interval(s) to be searched for data. Possible values are \"g\", \"r\", and \"i\", respectively equivalent to \"1\", \"2\" and \"3\", and comma-separated combinations thereof."
   ]
  },
  {
   "cell_type": "markdown",
   "metadata": {},
   "source": [
    "## gband "
   ]
  },
  {
   "cell_type": "code",
   "execution_count": null,
   "metadata": {
    "ExecuteTime": {
     "start_time": "2023-07-22T04:41:50.379Z"
    }
   },
   "outputs": [],
   "source": [
    "data_g = lightcurve.LCQuery.download_data(circle=[299.412,50.55500,0.0014], bandname=\"g\",BAD_CATFLAGS_MASK=32768)"
   ]
  },
  {
   "cell_type": "code",
   "execution_count": null,
   "metadata": {
    "ExecuteTime": {
     "start_time": "2023-07-22T04:41:50.384Z"
    }
   },
   "outputs": [],
   "source": [
    "len(data_g)"
   ]
  },
  {
   "cell_type": "markdown",
   "metadata": {
    "ExecuteTime": {
     "end_time": "2022-06-16T11:50:44.463514Z",
     "start_time": "2022-06-16T11:50:44.458805Z"
    }
   },
   "source": [
    "data_g.columns"
   ]
  },
  {
   "cell_type": "code",
   "execution_count": null,
   "metadata": {
    "ExecuteTime": {
     "start_time": "2023-07-22T04:41:50.836Z"
    }
   },
   "outputs": [],
   "source": [
    "data_g.head()"
   ]
  },
  {
   "cell_type": "code",
   "execution_count": null,
   "metadata": {
    "ExecuteTime": {
     "start_time": "2023-07-22T04:41:50.841Z"
    }
   },
   "outputs": [],
   "source": [
    "lcq = lightcurve.LCQuery(data_g)"
   ]
  },
  {
   "cell_type": "code",
   "execution_count": null,
   "metadata": {
    "ExecuteTime": {
     "start_time": "2023-07-22T04:41:50.845Z"
    }
   },
   "outputs": [],
   "source": [
    "lcq.show()"
   ]
  },
  {
   "cell_type": "code",
   "execution_count": null,
   "metadata": {},
   "outputs": [],
   "source": []
  },
  {
   "cell_type": "markdown",
   "metadata": {},
   "source": [
    "## LSBIC gbandZTF"
   ]
  },
  {
   "cell_type": "code",
   "execution_count": null,
   "metadata": {
    "ExecuteTime": {
     "start_time": "2023-07-22T04:41:51.284Z"
    }
   },
   "outputs": [],
   "source": [
    "# Author: Jake VanderPlas\n",
    "# License: BSD\n",
    "#   The figure produced by this code is published in the textbook\n",
    "#   \"Statistics, Data Mining, and Machine Learning in Astronomy\" (2013)\n",
    "#   For more information, see http://astroML.github.com\n",
    "#   To report a bug or issue, use the following forum:\n",
    "#    https://groups.google.com/forum/#!forum/astroml-general\n",
    "import numpy as np\n",
    "from matplotlib import pyplot as plt\n",
    "from astroML.time_series import lomb_scargle, lomb_scargle_BIC, lomb_scargle_bootstrap\n",
    "\n",
    "#----------------------------------------------------------------------\n",
    "# This function adjusts matplotlib settings for a uniform feel in the textbook.\n",
    "# Note that with usetex=True, fonts are rendered with LaTeX.  This may\n",
    "# result in an error if LaTeX is not installed on your system.  In that case,\n",
    "# you can set usetex to False.\n",
    "from astroML.plotting import setup_text_plots\n",
    "setup_text_plots(fontsize=8, usetex=True)\n",
    "\n",
    "#------------------------------------------------------------\n",
    "# Generate Data\n",
    "np.random.seed(0)\n",
    "\n",
    "\n",
    "'''\n",
    "N = 30\n",
    "P = 0.3\n",
    "t = np.random.randint(100, size=N) + 0.3 + 0.4 * np.random.random(N)\n",
    "y = 10 + np.sin(2 * np.pi * t / P)\n",
    "dy = 0.5 + 0.5 * np.random.random(N)\n",
    "y_obs = np.random.normal(y, dy)\n",
    "\n",
    "'''\n",
    "t = data_g['mjd']\n",
    "y_obs= -data_g['mag']\n",
    "dy =data_g['magerr']\n",
    "\n",
    "\n",
    "#------------------------------------------------------------\n",
    "# Compute periodogram\n",
    "period = 10 ** np.linspace(-1, 1, 1000)\n",
    "omega = 2 * np.pi / period\n",
    "PS = lomb_scargle(t, y_obs, dy, omega, generalized=True)\n",
    "\n",
    "#------------------------------------------------------------\n",
    "# Get significance via bootstrap\n",
    "D = lomb_scargle_bootstrap(t, y_obs, dy, omega, generalized=True,\n",
    "                           N_bootstraps=1000, random_state=0)\n",
    "\n",
    "sig1, sig3, sig2 = np.percentile(D, [68, 99.74, 95.44])\n",
    "\n",
    "#------------------------------------------------------------\n",
    "\n"
   ]
  },
  {
   "cell_type": "code",
   "execution_count": null,
   "metadata": {
    "ExecuteTime": {
     "start_time": "2023-07-22T04:41:51.289Z"
    }
   },
   "outputs": [],
   "source": [
    "min(t),max(t),max(t)-min(t),(max(t)-min(t))/len(t)"
   ]
  },
  {
   "cell_type": "code",
   "execution_count": null,
   "metadata": {
    "ExecuteTime": {
     "start_time": "2023-07-22T04:41:51.293Z"
    },
    "scrolled": false
   },
   "outputs": [],
   "source": [
    "# Plot the results\n",
    "fig = plt.figure(figsize=(10, 6))\n",
    "fig.subplots_adjust(left=0.1, right=0.9, hspace=0.25)\n",
    "\n",
    "# First panel: the data\n",
    "ax = fig.add_subplot(211)\n",
    "ax.errorbar(t, y_obs, dy, fmt='ok', ecolor='gray',\n",
    "            markersize=3, capsize=0)\n",
    "#ax.set_xlabel('MJD')\n",
    "#ax.set_ylabel('flux')\n",
    "\n",
    "ax.set(xlabel='MJD',\n",
    "       ylabel='signal',\n",
    "       title='g band')\n",
    "\n",
    "ax.set_xlim(58000, 59900)\n",
    "set_ax_tick(ax)\n",
    "plot_secax(ax)\n",
    "# Second panel: the periodogram & significance levels\n",
    "\n",
    "ax1 = fig.add_subplot(212, xscale='log')\n",
    "ax1.plot(period, PS, '-', c='black', lw=1, zorder=1)\n",
    "#ax1.plot([period[0], period[-1]], [sig1, sig1], ':', c='black')\n",
    "#ax1.plot([period[0], period[-1]], [sig3, sig3], ':', c='blue')\n",
    "#ax1.plot([period[0], period[-1]], [sig2, sig2], ':', c='red')\n",
    "ax1.axhline(sig1, linestyle='dotted', c='black',label=r'1$\\sigma$')\n",
    "ax1.axhline(sig2, linestyle='-', c='red',label=r'2$\\sigma$')\n",
    "ax1.axhline(sig3, linestyle='-.', c='blue',label=r'3$\\sigma$')\n",
    "\n",
    "'''ax1.annotate(\"\", (0.3, 0.65), (0.3, 0.85), ha='center',\n",
    "             arrowprops=dict(arrowstyle='->'))\n",
    "'''\n",
    "#ax1.set_xlim(period[0], period[-1])\n",
    "ax1.set_ylim(-0.05, 0.1)\n",
    "\n",
    "ax1.set_xlabel(r'period (days)')\n",
    "ax1.set_ylabel('power')\n",
    "\n",
    "# Twin axis: label BIC on the right side\n",
    "ax2 = ax1.twinx()\n",
    "ax2.set_ylim(tuple(lomb_scargle_BIC(ax1.get_ylim(), y_obs, dy)))\n",
    "ax2.set_ylabel(r'$\\Delta BIC$')\n",
    "\n",
    "ax1.xaxis.set_major_formatter(plt.FormatStrFormatter('%.1f'))\n",
    "ax1.xaxis.set_minor_formatter(plt.FormatStrFormatter('%.1f'))\n",
    "ax1.xaxis.set_major_locator(plt.LogLocator(10))\n",
    "ax1.xaxis.set_major_formatter(plt.FormatStrFormatter('%.3g'))\n",
    "\n",
    "ax1.legend()\n",
    "#plt.show()\n",
    "fig.savefig('/Users/brettlv/Downloads/WWZ/WISEA J195739.10+503320.4/WISEAJ195739_ls_sig_gband.png',dpi=300)"
   ]
  },
  {
   "cell_type": "markdown",
   "metadata": {},
   "source": [
    "## iband"
   ]
  },
  {
   "cell_type": "code",
   "execution_count": null,
   "metadata": {
    "ExecuteTime": {
     "start_time": "2023-07-22T04:41:51.734Z"
    }
   },
   "outputs": [],
   "source": [
    "BAD_CATFLAGS_MASK=15"
   ]
  },
  {
   "cell_type": "code",
   "execution_count": null,
   "metadata": {
    "ExecuteTime": {
     "start_time": "2023-07-22T04:41:51.739Z"
    }
   },
   "outputs": [],
   "source": [
    "data_i = lightcurve.LCQuery.download_data(circle=[299.412,50.55500,0.0014], bandname=\"i\",BAD_CATFLAGS_MASK=15)"
   ]
  },
  {
   "cell_type": "code",
   "execution_count": null,
   "metadata": {
    "ExecuteTime": {
     "start_time": "2023-07-22T04:41:51.744Z"
    }
   },
   "outputs": [],
   "source": [
    "len(data_i )"
   ]
  },
  {
   "cell_type": "markdown",
   "metadata": {},
   "source": [
    "## rband"
   ]
  },
  {
   "cell_type": "code",
   "execution_count": null,
   "metadata": {
    "ExecuteTime": {
     "start_time": "2023-07-22T04:41:52.192Z"
    }
   },
   "outputs": [],
   "source": [
    "data_r_3arcsec= lightcurve.LCQuery.download_data(circle=[299.412,50.55500,3.0/3600], bandname=\"r\",BAD_CATFLAGS_MASK=15)\n",
    "print(len(data_r_3arcsec))"
   ]
  },
  {
   "cell_type": "code",
   "execution_count": null,
   "metadata": {},
   "outputs": [],
   "source": []
  },
  {
   "cell_type": "code",
   "execution_count": null,
   "metadata": {
    "ExecuteTime": {
     "start_time": "2023-07-22T04:41:52.203Z"
    }
   },
   "outputs": [],
   "source": [
    "data_r= lightcurve.LCQuery.download_data(circle=[299.412,50.55500,0.0014], bandname=\"r\",BAD_CATFLAGS_MASK=32768)"
   ]
  },
  {
   "cell_type": "code",
   "execution_count": null,
   "metadata": {
    "ExecuteTime": {
     "start_time": "2023-07-22T04:41:52.209Z"
    }
   },
   "outputs": [],
   "source": [
    "len(data_r)"
   ]
  },
  {
   "cell_type": "code",
   "execution_count": null,
   "metadata": {
    "ExecuteTime": {
     "start_time": "2023-07-22T04:41:52.216Z"
    }
   },
   "outputs": [],
   "source": [
    "'''\n",
    "N = 30\n",
    "P = 0.3\n",
    "t = np.random.randint(100, size=N) + 0.3 + 0.4 * np.random.random(N)\n",
    "y = 10 + np.sin(2 * np.pi * t / P)\n",
    "dy = 0.5 + 0.5 * np.random.random(N)\n",
    "y_obs = np.random.normal(y, dy)\n",
    "\n",
    "'''\n",
    "t = data_r['mjd']\n",
    "y_obs= -data_r['mag']\n",
    "dy =data_r['magerr']\n",
    "\n",
    "\n",
    "#------------------------------------------------------------\n",
    "# Compute periodogram\n",
    "period = 10 ** np.linspace(-1, 1, 1000)\n",
    "omega = 2 * np.pi / period\n",
    "PS = lomb_scargle(t, y_obs, dy, omega, generalized=True)\n",
    "\n",
    "#------------------------------------------------------------\n",
    "# Get significance via bootstrap\n",
    "D = lomb_scargle_bootstrap(t, y_obs, dy, omega, generalized=True,\n",
    "                           N_bootstraps=1000, random_state=0)\n",
    "\n",
    "sig1, sig3, sig2 = np.percentile(D, [68, 99.74, 95.44])\n",
    "\n",
    "#------------------------------------------------------------\n",
    "\n"
   ]
  },
  {
   "cell_type": "code",
   "execution_count": null,
   "metadata": {
    "ExecuteTime": {
     "start_time": "2023-07-22T04:41:52.221Z"
    }
   },
   "outputs": [],
   "source": [
    "min(t),max(t),max(t)-min(t),(max(t)-min(t))/len(t),len(t)"
   ]
  },
  {
   "cell_type": "code",
   "execution_count": null,
   "metadata": {
    "ExecuteTime": {
     "start_time": "2023-07-22T04:41:52.226Z"
    },
    "scrolled": false
   },
   "outputs": [],
   "source": [
    "# Plot the results\n",
    "fig = plt.figure(figsize=(10, 6))\n",
    "fig.subplots_adjust(left=0.1, right=0.9, hspace=0.25)\n",
    "\n",
    "# First panel: the data\n",
    "ax = fig.add_subplot(211)\n",
    "ax.errorbar(t, y_obs, dy, fmt='ok', ecolor='gray',\n",
    "            markersize=3, capsize=0)\n",
    "#ax.set_xlabel('MJD')\n",
    "#ax.set_ylabel('flux')\n",
    "\n",
    "ax.set(xlabel='MJD',\n",
    "       ylabel='signal',\n",
    "       title='r band')\n",
    "\n",
    "ax.set_xlim(58000, 59900)\n",
    "set_ax_tick(ax)\n",
    "plot_secax(ax)\n",
    "# Second panel: the periodogram & significance levels\n",
    "\n",
    "ax1 = fig.add_subplot(212, xscale='log')\n",
    "ax1.plot(period, PS, '-', c='black', lw=1, zorder=1)\n",
    "#ax1.plot([period[0], period[-1]], [sig1, sig1], ':', c='black')\n",
    "#ax1.plot([period[0], period[-1]], [sig3, sig3], ':', c='blue')\n",
    "#ax1.plot([period[0], period[-1]], [sig2, sig2], ':', c='red')\n",
    "ax1.axhline(sig1, linestyle='dotted', c='black',label=r'1$\\sigma$')\n",
    "ax1.axhline(sig2, linestyle='-', c='red',label=r'2$\\sigma$')\n",
    "ax1.axhline(sig3, linestyle='-.', c='blue',label=r'3$\\sigma$')\n",
    "\n",
    "'''ax1.annotate(\"\", (0.3, 0.65), (0.3, 0.85), ha='center',\n",
    "             arrowprops=dict(arrowstyle='->'))\n",
    "'''\n",
    "#ax1.set_xlim(period[0], period[-1])\n",
    "ax1.set_ylim(-0.05, 0.1)\n",
    "\n",
    "ax1.set_xlabel(r'period (days)')\n",
    "ax1.set_ylabel('power')\n",
    "\n",
    "# Twin axis: label BIC on the right side\n",
    "ax2 = ax1.twinx()\n",
    "ax2.set_ylim(tuple(lomb_scargle_BIC(ax1.get_ylim(), y_obs, dy)))\n",
    "ax2.set_ylabel(r'$\\Delta BIC$')\n",
    "\n",
    "ax1.xaxis.set_major_formatter(plt.FormatStrFormatter('%.1f'))\n",
    "ax1.xaxis.set_minor_formatter(plt.FormatStrFormatter('%.1f'))\n",
    "ax1.xaxis.set_major_locator(plt.LogLocator(10))\n",
    "ax1.xaxis.set_major_formatter(plt.FormatStrFormatter('%.3g'))\n",
    "\n",
    "ax1.legend()\n",
    "#plt.show()\n",
    "fig.savefig('/Users/brettlv/Downloads/WWZ/WISEA J195739.10+503320.4/WISEAJ195739_ls_sig_rband.png',dpi=300)"
   ]
  },
  {
   "cell_type": "code",
   "execution_count": null,
   "metadata": {},
   "outputs": [],
   "source": []
  },
  {
   "cell_type": "markdown",
   "metadata": {},
   "source": [
    "## Mrk590"
   ]
  },
  {
   "cell_type": "code",
   "execution_count": null,
   "metadata": {
    "ExecuteTime": {
     "start_time": "2023-07-22T04:58:14.233Z"
    }
   },
   "outputs": [],
   "source": [
    "circle_Mrk590=[33.6398442,-0.7666930,0.0014]"
   ]
  },
  {
   "cell_type": "code",
   "execution_count": null,
   "metadata": {
    "ExecuteTime": {
     "start_time": "2023-07-22T04:58:14.238Z"
    }
   },
   "outputs": [],
   "source": [
    "data_g_Mrk590 = lightcurve.LCQuery.download_data(circle=circle_Mrk590, bandname=\"g\",BAD_CATFLAGS_MASK=32768)\n",
    "\n",
    "data_i_Mrk590 = lightcurve.LCQuery.download_data(circle=circle_Mrk590, bandname=\"i\",BAD_CATFLAGS_MASK=15)\n",
    "\n",
    "data_r_Mrk590= lightcurve.LCQuery.download_data(circle=circle_Mrk590, bandname=\"r\",BAD_CATFLAGS_MASK=32768)"
   ]
  },
  {
   "cell_type": "code",
   "execution_count": null,
   "metadata": {},
   "outputs": [],
   "source": []
  },
  {
   "cell_type": "code",
   "execution_count": null,
   "metadata": {},
   "outputs": [],
   "source": []
  },
  {
   "cell_type": "code",
   "execution_count": null,
   "metadata": {},
   "outputs": [],
   "source": []
  },
  {
   "cell_type": "code",
   "execution_count": null,
   "metadata": {},
   "outputs": [],
   "source": []
  },
  {
   "cell_type": "markdown",
   "metadata": {},
   "source": [
    "# WWZ"
   ]
  },
  {
   "cell_type": "markdown",
   "metadata": {},
   "source": [
    "ls.py"
   ]
  },
  {
   "cell_type": "code",
   "execution_count": null,
   "metadata": {
    "ExecuteTime": {
     "start_time": "2023-07-22T04:58:15.284Z"
    }
   },
   "outputs": [],
   "source": [
    "WWZ_path='/Volumes/ExtremeSSD/Code_backup/timing_analysis/WWZ/'"
   ]
  },
  {
   "cell_type": "code",
   "execution_count": null,
   "metadata": {
    "ExecuteTime": {
     "start_time": "2023-07-22T04:58:15.289Z"
    }
   },
   "outputs": [],
   "source": [
    "pwd_path='/Users/brettlv/blog/brettlv.github.io/pythoncode/changinglookAGN'"
   ]
  },
  {
   "cell_type": "code",
   "execution_count": null,
   "metadata": {},
   "outputs": [],
   "source": []
  },
  {
   "cell_type": "code",
   "execution_count": null,
   "metadata": {
    "ExecuteTime": {
     "start_time": "2023-07-22T04:58:15.297Z"
    }
   },
   "outputs": [],
   "source": [
    "cmd ='python2 ls.py -f W1_timemag.csv -o ls_freq_power.txt -l 0.001 -hi 0.1 -n 10000'\n",
    "print(cmd)"
   ]
  },
  {
   "cell_type": "code",
   "execution_count": null,
   "metadata": {
    "ExecuteTime": {
     "start_time": "2023-07-22T04:58:15.301Z"
    }
   },
   "outputs": [],
   "source": [
    "data=pd.read_csv('%s/W1_timemag.csv'%WWZ_path,header=None,delimiter=',')\n",
    "data.columns=['mjd','arbitary_flux']"
   ]
  },
  {
   "cell_type": "code",
   "execution_count": null,
   "metadata": {
    "ExecuteTime": {
     "start_time": "2023-07-22T04:58:15.306Z"
    }
   },
   "outputs": [],
   "source": [
    "np.array(data['mjd']),np.array(data['arbitary_flux'])"
   ]
  },
  {
   "cell_type": "code",
   "execution_count": null,
   "metadata": {
    "ExecuteTime": {
     "start_time": "2023-07-22T04:58:15.310Z"
    }
   },
   "outputs": [],
   "source": [
    "cmd ='python2 ls_origin.py -f W1_t_mag.py -o ls_freq_power.txt -l 0.001 -hi 0.1 -n 10000'\n",
    "print(cmd)"
   ]
  },
  {
   "cell_type": "code",
   "execution_count": null,
   "metadata": {
    "ExecuteTime": {
     "start_time": "2023-07-22T04:58:15.315Z"
    }
   },
   "outputs": [],
   "source": [
    "#data_time = []\n",
    "#data_flux= []\n",
    "data_time=np.loadtxt('%s/W1_timemag.csv'%WWZ_path,dtype=np.str,unpack=True, usecols=[0],delimiter=\",\")\n",
    "data_flux=np.loadtxt('%s/W1_timemag.csv'%WWZ_path,dtype=np.str,unpack=True, usecols=[1],delimiter=\",\")\n",
    "\n"
   ]
  },
  {
   "cell_type": "code",
   "execution_count": null,
   "metadata": {
    "ExecuteTime": {
     "start_time": "2023-07-22T04:58:15.320Z"
    }
   },
   "outputs": [],
   "source": [
    "data_time,data_flux"
   ]
  },
  {
   "cell_type": "code",
   "execution_count": null,
   "metadata": {
    "ExecuteTime": {
     "start_time": "2023-07-22T04:58:15.324Z"
    },
    "scrolled": true
   },
   "outputs": [],
   "source": [
    "ls_freq_power=pd.read_csv('%s/ls_freq_power.txt'%WWZ_path,header=None,delimiter='\\s+')\n",
    "#ls_freq_power.columns=['mjd','arbitary_flux']"
   ]
  },
  {
   "cell_type": "code",
   "execution_count": null,
   "metadata": {
    "ExecuteTime": {
     "start_time": "2023-07-22T04:58:15.329Z"
    }
   },
   "outputs": [],
   "source": [
    "np.array(ls_freq_power[ls_freq_power.columns[0]]),np.array(ls_freq_power[ls_freq_power.columns[1]])"
   ]
  },
  {
   "cell_type": "code",
   "execution_count": null,
   "metadata": {
    "ExecuteTime": {
     "start_time": "2023-07-22T04:58:15.333Z"
    }
   },
   "outputs": [],
   "source": [
    "np.array(ls_freq_power[ls_freq_power.columns[0]])==ls_freq"
   ]
  },
  {
   "cell_type": "code",
   "execution_count": null,
   "metadata": {},
   "outputs": [],
   "source": []
  },
  {
   "cell_type": "code",
   "execution_count": null,
   "metadata": {
    "ExecuteTime": {
     "start_time": "2023-07-22T04:58:15.341Z"
    }
   },
   "outputs": [],
   "source": [
    "#ls_freq = []\n",
    "#ls_power = []\n",
    "ls_freq=np.loadtxt('%s/ls_freq_power.txt'%WWZ_path,dtype=np.float,unpack=True, usecols=[0])\n",
    "ls_power=np.loadtxt('%s/ls_freq_power.txt'%WWZ_path,dtype=np.float,unpack=True, usecols=[1])"
   ]
  },
  {
   "cell_type": "code",
   "execution_count": null,
   "metadata": {
    "ExecuteTime": {
     "start_time": "2023-07-22T04:58:15.345Z"
    }
   },
   "outputs": [],
   "source": [
    "ls_freq,ls_power"
   ]
  },
  {
   "cell_type": "code",
   "execution_count": null,
   "metadata": {
    "ExecuteTime": {
     "start_time": "2023-07-22T04:58:15.350Z"
    }
   },
   "outputs": [],
   "source": [
    "# Plot the results\n",
    "fig = plt.figure(figsize=(6, 6))\n",
    "fig.subplots_adjust(left=0.1, right=0.9, hspace=0.25)\n",
    "\n",
    "# First panel: the data\n",
    "ax = fig.add_subplot(111)\n",
    "ax.scatter(ls_freq,ls_power)\n",
    "set_ax_tick(ax)\n"
   ]
  },
  {
   "cell_type": "code",
   "execution_count": null,
   "metadata": {},
   "outputs": [],
   "source": []
  },
  {
   "cell_type": "markdown",
   "metadata": {},
   "source": [
    "# CLB"
   ]
  },
  {
   "cell_type": "markdown",
   "metadata": {},
   "source": [
    "## plot_lc"
   ]
  },
  {
   "cell_type": "code",
   "execution_count": null,
   "metadata": {
    "ExecuteTime": {
     "start_time": "2023-07-22T04:58:16.334Z"
    }
   },
   "outputs": [],
   "source": [
    "CLB_list_CLB_neogt20_var=CLB_list_CLB_neogt20[CLB_list_CLB_neogt20['sigma_m_w1_neo']>0.2]\n",
    "CLB_list_CLB_neogt20_var=drop_index(CLB_list_CLB_neogt20_var)#['V1']"
   ]
  },
  {
   "cell_type": "code",
   "execution_count": null,
   "metadata": {
    "ExecuteTime": {
     "start_time": "2023-07-22T04:58:16.339Z"
    }
   },
   "outputs": [],
   "source": [
    "len(CLB_list_CLB_neogt20),len(CLB_list_CLB_neogt20_var),len(CLB_list_CLB_neogt20_var0)"
   ]
  },
  {
   "cell_type": "code",
   "execution_count": null,
   "metadata": {
    "ExecuteTime": {
     "start_time": "2023-07-22T04:58:16.344Z"
    }
   },
   "outputs": [],
   "source": [
    "CLB_list_CLB_neogt20_var0=CLB_list_CLB_neogt20[CLB_list_CLB_neogt20['sigma_m_w1_neo']<0.1]\n",
    "CLB_list_CLB_neogt20_var0=drop_index(CLB_list_CLB_neogt20_var0)#['V1']"
   ]
  },
  {
   "cell_type": "markdown",
   "metadata": {
    "ExecuteTime": {
     "end_time": "2023-06-18T11:57:26.950923Z",
     "start_time": "2023-06-18T11:57:26.935851Z"
    }
   },
   "source": [
    "CLB_list_CLB_neogt20_var['len_neo']"
   ]
  },
  {
   "cell_type": "code",
   "execution_count": null,
   "metadata": {
    "ExecuteTime": {
     "start_time": "2023-07-22T04:58:16.835Z"
    }
   },
   "outputs": [],
   "source": [
    "save_lc_img_dir='/Volumes/ExtremeSSD/CLAGN_statistic_plot/WISE_lc/CLB_var0'\n",
    "if not os.path.exists(save_lc_img_dir):\n",
    "    os.mkdir(save_lc_img_dir)\n",
    "for index,name in enumerate(CLB_list_CLB_neogt20_var0['V1']):\n",
    "    search_name=name.strip()\n",
    "    save_name=name.strip().replace(' ','')\n",
    "    neo_path='%s/wise_%s_neo.csv'%(CLB_wisedata_dir,save_name)\n",
    "    #if os.path.exists(neo_path):\n",
    "        #print(index,neo_path)\n",
    "    wise_plot_lc(save_name,save_lc_img_dir=save_lc_img_dir,datawise_dir=CLB_wisedata_dir)"
   ]
  },
  {
   "cell_type": "code",
   "execution_count": null,
   "metadata": {},
   "outputs": [],
   "source": []
  },
  {
   "cell_type": "markdown",
   "metadata": {},
   "source": [
    "## Fermi_bll_lc"
   ]
  },
  {
   "cell_type": "code",
   "execution_count": null,
   "metadata": {
    "ExecuteTime": {
     "start_time": "2023-07-22T04:58:17.334Z"
    }
   },
   "outputs": [],
   "source": [
    "save_lc_img_dir='/Volumes/ExtremeSSD/CLAGN_statistic_plot/WISE_lc/Fermi_bll'\n",
    "if not os.path.exists(save_lc_img_dir):\n",
    "    os.mkdir(save_lc_img_dir)\n",
    "for index,name in enumerate(Fermi_4LAC_DR3_h_bll_pd_neogt20['Source_Name']):\n",
    "    search_name=name.strip()\n",
    "    save_name=name.strip().replace(' ','')\n",
    "    \n",
    "    #name_neo= os.path.join(Fermi_bll_wisedata_dir,'wise_%s_neo.csv'%save_name)\n",
    "    #name_mep= os.path.join(Fermi_bll_wisedata_dir,'wise_%s_mep.csv'%save_name)\n",
    "    \n",
    "    #if os.path.exists(name_neo) and os.path.exists(name_mep):     \n",
    "    wise_plot_lc(save_name,save_lc_img_dir=save_lc_img_dir,datawise_dir=Fermi_bll_wisedata_dir)"
   ]
  },
  {
   "cell_type": "code",
   "execution_count": null,
   "metadata": {
    "ExecuteTime": {
     "start_time": "2023-07-22T04:58:17.339Z"
    }
   },
   "outputs": [],
   "source": [
    "Fermi_bll_wisedata_dir"
   ]
  },
  {
   "cell_type": "code",
   "execution_count": null,
   "metadata": {
    "ExecuteTime": {
     "start_time": "2023-07-22T04:58:17.344Z"
    }
   },
   "outputs": [],
   "source": [
    "!open /Volumes/ExtremeSSD/data_source/WISE_data/WISE_fermi_blazars/BLL"
   ]
  },
  {
   "cell_type": "code",
   "execution_count": null,
   "metadata": {},
   "outputs": [],
   "source": []
  },
  {
   "cell_type": "code",
   "execution_count": null,
   "metadata": {},
   "outputs": [],
   "source": []
  },
  {
   "cell_type": "code",
   "execution_count": null,
   "metadata": {},
   "outputs": [],
   "source": []
  },
  {
   "cell_type": "code",
   "execution_count": null,
   "metadata": {
    "ExecuteTime": {
     "start_time": "2023-07-22T04:58:17.356Z"
    }
   },
   "outputs": [],
   "source": [
    "save_lc_img_dir='/Volumes/ExtremeSSD/CLAGN_statistic_plot/WISE_lc/Fermi_fsrq'\n",
    "if not os.path.exists(save_lc_img_dir):\n",
    "    os.mkdir(save_lc_img_dir)\n",
    "for index,name in enumerate(Fermi_4LAC_DR3_h_fsrq_pd_neogt20['Source_Name']):\n",
    "    search_name=name.strip()\n",
    "    save_name=name.strip().replace(' ','')\n",
    "    wise_plot_lc(save_name,save_lc_img_dir=save_lc_img_dir,datawise_dir=Fermi_fsrq_wisedata_dir)"
   ]
  },
  {
   "cell_type": "code",
   "execution_count": null,
   "metadata": {},
   "outputs": [],
   "source": []
  },
  {
   "cell_type": "markdown",
   "metadata": {},
   "source": [
    "# CLB_list_CLB"
   ]
  },
  {
   "cell_type": "code",
   "execution_count": null,
   "metadata": {
    "ExecuteTime": {
     "start_time": "2023-07-22T04:58:17.868Z"
    }
   },
   "outputs": [],
   "source": [
    "CLB_list=pd.read_csv('/Users/lyubing/Downloads/kangshiju_paper/A02_Table_catalog_plot.csv')"
   ]
  },
  {
   "cell_type": "code",
   "execution_count": null,
   "metadata": {
    "ExecuteTime": {
     "start_time": "2023-07-22T04:58:17.873Z"
    }
   },
   "outputs": [],
   "source": [
    "CLB_list_CLB=CLB_list[CLB_list['V5']=='CLB']\n",
    "CLB_list_CLB=drop_index(CLB_list_CLB)"
   ]
  },
  {
   "cell_type": "code",
   "execution_count": null,
   "metadata": {
    "ExecuteTime": {
     "start_time": "2023-07-22T04:58:17.877Z"
    }
   },
   "outputs": [],
   "source": [
    "CLB_list_CLB['V1']"
   ]
  },
  {
   "cell_type": "markdown",
   "metadata": {
    "ExecuteTime": {
     "end_time": "2023-06-17T11:49:37.354659Z",
     "start_time": "2023-06-17T11:49:37.340942Z"
    }
   },
   "source": [
    "for index,name in enumerate(CLB_list_CLB_neogt20['V1'][:1]):\n",
    "    search_name=name.strip()\n",
    "    save_name=name.strip().replace(' ','')    \n",
    "    #if os.path.exists('./wise_%s_mep.csv'%save_name): \n",
    "    neo_path='%s/wise_%s_neo.csv'%(CLB_wisedata_dir,save_name)\n",
    "    if os.path.exists(neo_path):# and os.path.exists('./wise_%s_mep.csv'%save_name):\n",
    "        print(save_name)"
   ]
  },
  {
   "cell_type": "markdown",
   "metadata": {},
   "source": [
    "## CLB_list_CLB_neogt20"
   ]
  },
  {
   "cell_type": "markdown",
   "metadata": {
    "ExecuteTime": {
     "end_time": "2023-06-18T12:21:35.492624Z",
     "start_time": "2023-06-18T12:21:35.464693Z"
    }
   },
   "source": [
    "CLB_list_CLB"
   ]
  },
  {
   "cell_type": "code",
   "execution_count": null,
   "metadata": {
    "ExecuteTime": {
     "start_time": "2023-07-22T04:58:19.385Z"
    }
   },
   "outputs": [],
   "source": [
    "for index,name in enumerate(CLB_list_CLB['V1']):\n",
    "    search_name=name.strip()\n",
    "    save_name=name.strip().replace(' ','')\n",
    "    #if os.path.exists('./wise_%s_mep.csv'%save_name):\n",
    "    neo_path='%s/wise_%s_neo.csv'%(CLB_wisedata_dir,save_name)\n",
    "    if not os.path.exists(neo_path):# and os.path.exists('./wise_%s_mep.csv'%save_name):\n",
    "    #if not os.path.exists('./CLB_list_CLB/wise_%s_neo.csv'%save_name):\n",
    "        CLB_list_CLB.loc[index,'len_neo']=0\n",
    "        continue\n",
    "    data=pd.read_csv(neo_path)\n",
    "    data=data[data['w1mpro'].notnull()]\n",
    "    data=data[data['w2mpro'].notnull()]\n",
    "    data=data[data['w1sigmpro'].notnull()]\n",
    "    data=data[data['w2sigmpro'].notnull()]\n",
    "    \n",
    "    #data=data[data['w1mpro']<15]\n",
    "    #data=data[data['w2mpro']<13]\n",
    "    #data=data[data['w1rchi2']<5]\n",
    "    #data=data[data['w2rchi2']<5]\n",
    "    #data=data[data['nb']<3]\n",
    "    #data=data[data['na']==0]\n",
    "    data=data[data['qual_frame']>0]\n",
    "    data=data.reset_index(drop=True)\n",
    "    #data=data.fillna(0)\n",
    "    if len(data)>5:\n",
    "        mag_label='w1mpro'\n",
    "        magerr_label='w1sigmpro'\n",
    "        epsilon_s=epsilon_s_w1\n",
    "        \n",
    "        pearson_coeff,p_value=pearsonr(data['w1mpro'],data['w2mpro'])\n",
    "        CLB_list_CLB.loc[index,'pearson_coeff_neo']=pearson_coeff\n",
    "        \n",
    "        sigma_m_w1=get_intrinsic_var(data,mag_label,magerr_label,epsilon_s)\n",
    "        CLB_list_CLB.loc[index,'sigma_m_w1_neo']=sigma_m_w1\n",
    "        CLB_list_CLB.loc[index,'mean_m_w1_neo']=np.average(data[mag_label])\n",
    "        \n",
    "        \n",
    "        mag_label='w2mpro'\n",
    "        magerr_label='w2sigmpro'\n",
    "        epsilon_s=epsilon_s_w2\n",
    "        sigma_m_w2=get_intrinsic_var(data,mag_label,magerr_label,epsilon_s)\n",
    "        CLB_list_CLB.loc[index,'sigma_m_w2_neo']=sigma_m_w2\n",
    "        CLB_list_CLB.loc[index,'mean_m_w2_neo']=np.average(data[mag_label])\n",
    "        CLB_list_CLB.loc[index,'len_neo']=len(data)\n",
    "        CLB_list_CLB.loc[index,'W1-W2']=np.average(data['w1mpro']-data['w2mpro'])\n",
    "    \n",
    "    else:\n",
    "        CLB_list_CLB.loc[index,'len_neo']=0"
   ]
  },
  {
   "cell_type": "code",
   "execution_count": null,
   "metadata": {
    "ExecuteTime": {
     "start_time": "2023-07-22T04:58:19.390Z"
    }
   },
   "outputs": [],
   "source": [
    "CLB_list_CLB_neogt20=CLB_list_CLB[CLB_list_CLB['len_neo']>20]\n",
    "CLB_list_CLB_neogt20=drop_index(CLB_list_CLB_neogt20)"
   ]
  },
  {
   "cell_type": "code",
   "execution_count": null,
   "metadata": {
    "ExecuteTime": {
     "start_time": "2023-07-22T04:58:19.395Z"
    }
   },
   "outputs": [],
   "source": [
    "CLB_list_CLB_neogt20.to_csv('CLB_neogt20.csv',index=False)"
   ]
  },
  {
   "cell_type": "markdown",
   "metadata": {
    "ExecuteTime": {
     "end_time": "2023-06-17T13:59:09.717581Z",
     "start_time": "2023-06-17T13:59:09.701714Z"
    }
   },
   "source": [
    "for i in CLB_list_CLB_neogt20.columns:\n",
    "    print(i)"
   ]
  },
  {
   "cell_type": "code",
   "execution_count": null,
   "metadata": {
    "ExecuteTime": {
     "start_time": "2023-07-22T04:58:19.908Z"
    }
   },
   "outputs": [],
   "source": [
    "for index,z in enumerate(CLB_list_CLB_neogt20['Redshift.y']):\n",
    "    d_cm=cosmo.luminosity_distance(z=z).to(u.cm).value\n",
    "    \n",
    "    CLB_list_CLB_neogt20.loc[index,'LW1']=W1mag_to_Lum(CLB_list_CLB_neogt20.loc[index,'mean_m_w1_neo'],d_cm)\n",
    "    CLB_list_CLB_neogt20.loc[index,'LW2']=W1mag_to_Lum(CLB_list_CLB_neogt20.loc[index,'mean_m_w2_neo'],d_cm)\n",
    "    "
   ]
  },
  {
   "cell_type": "markdown",
   "metadata": {
    "ExecuteTime": {
     "end_time": "2023-06-18T12:24:15.102278Z",
     "start_time": "2023-06-18T12:24:15.086254Z"
    }
   },
   "source": [
    "CLB_list_CLB_neogt20[CLB_list_CLB_neogt20['sigma_m_w1_neo']==0]['len_neo']"
   ]
  },
  {
   "cell_type": "code",
   "execution_count": null,
   "metadata": {
    "ExecuteTime": {
     "start_time": "2023-07-22T04:58:20.422Z"
    }
   },
   "outputs": [],
   "source": [
    "len(CLB_list_CLB_neogt20)"
   ]
  },
  {
   "cell_type": "markdown",
   "metadata": {},
   "source": [
    "# CLB_list_CLB_candidates"
   ]
  },
  {
   "cell_type": "code",
   "execution_count": null,
   "metadata": {
    "ExecuteTime": {
     "start_time": "2023-07-22T04:58:21.100Z"
    }
   },
   "outputs": [],
   "source": [
    "CLB_list_CLB_candidates=CLB_list[CLB_list['V5']=='Predictions']\n",
    "CLB_list_CLB_candidates=drop_index(CLB_list_CLB_candidates)"
   ]
  },
  {
   "cell_type": "code",
   "execution_count": null,
   "metadata": {
    "ExecuteTime": {
     "start_time": "2023-07-22T04:58:21.106Z"
    }
   },
   "outputs": [],
   "source": [
    "for index,name in enumerate(CLB_list_CLB_candidates['V1']):\n",
    "    search_name=name.strip()\n",
    "    save_name=name.strip().replace(' ','')\n",
    "    #if os.path.exists('./wise_%s_mep.csv'%save_name):\n",
    "    neo_path='%s/wise_%s_neo.csv'%(CLBcand_wisedata_dir,save_name)\n",
    "    if not os.path.exists(neo_path):# and os.path.exists('./wise_%s_mep.csv'%save_name):\n",
    "    #if not os.path.exists('./CLB_list_CLB/wise_%s_neo.csv'%save_name):\n",
    "        CLB_list_CLB.loc[index,'len_neo']=0\n",
    "        continue\n",
    "    data=pd.read_csv(neo_path)\n",
    "    data=data[data['w1mpro'].notnull()]\n",
    "    data=data[data['w2mpro'].notnull()]\n",
    "    data=data[data['w1sigmpro'].notnull()]\n",
    "    data=data[data['w2sigmpro'].notnull()]\n",
    "    \n",
    "    #data=data[data['w1mpro']<15]\n",
    "    #data=data[data['w2mpro']<13]\n",
    "    #data=data[data['w1rchi2']<5]\n",
    "    #data=data[data['w2rchi2']<5]\n",
    "    #data=data[data['nb']<3]\n",
    "    #data=data[data['na']==0]\n",
    "    data=data[data['qual_frame']>0]\n",
    "    data=data.reset_index(drop=True)\n",
    "    #data=data.fillna(0)\n",
    "    if len(data)>5:\n",
    "        mag_label='w1mpro'\n",
    "        magerr_label='w1sigmpro'\n",
    "        epsilon_s=epsilon_s_w1\n",
    "        \n",
    "        pearson_coeff,p_value=pearsonr(data['w1mpro'],data['w2mpro'])\n",
    "        CLB_list_CLB.loc[index,'pearson_coeff_neo']=pearson_coeff\n",
    "        \n",
    "        sigma_m_w1=get_intrinsic_var(data,mag_label,magerr_label,epsilon_s)\n",
    "        CLB_list_CLB_candidates.loc[index,'sigma_m_w1_neo']=sigma_m_w1\n",
    "        CLB_list_CLB_candidates.loc[index,'mean_m_w1_neo']=np.average(data[mag_label])\n",
    "        \n",
    "        \n",
    "        mag_label='w2mpro'\n",
    "        magerr_label='w2sigmpro'\n",
    "        epsilon_s=epsilon_s_w2\n",
    "        sigma_m_w2=get_intrinsic_var(data,mag_label,magerr_label,epsilon_s)\n",
    "        CLB_list_CLB_candidates.loc[index,'sigma_m_w2_neo']=sigma_m_w2\n",
    "        CLB_list_CLB_candidates.loc[index,'mean_m_w2_neo']=np.average(data[mag_label])\n",
    "        CLB_list_CLB_candidates.loc[index,'len_neo']=len(data)\n",
    "        CLB_list_CLB_candidates.loc[index,'W1-W2']=np.average(data['w1mpro']-data['w2mpro'])\n",
    "    \n",
    "    else:\n",
    "        CLB_list_CLB_candidates.loc[index,'len_neo']=0"
   ]
  },
  {
   "cell_type": "markdown",
   "metadata": {},
   "source": [
    "## CLB_list_CLB_candidates_neogt20"
   ]
  },
  {
   "cell_type": "code",
   "execution_count": null,
   "metadata": {
    "ExecuteTime": {
     "start_time": "2023-07-22T04:58:21.675Z"
    }
   },
   "outputs": [],
   "source": [
    "CLB_list_CLB_candidates_neogt20=CLB_list_CLB_candidates[CLB_list_CLB_candidates['len_neo']>20]\n",
    "CLB_list_CLB_candidates_neogt20=drop_index(CLB_list_CLB_candidates_neogt20)"
   ]
  },
  {
   "cell_type": "code",
   "execution_count": null,
   "metadata": {
    "ExecuteTime": {
     "start_time": "2023-07-22T04:58:21.681Z"
    }
   },
   "outputs": [],
   "source": [
    "for index,z in enumerate(CLB_list_CLB_candidates_neogt20['Redshift.y']):\n",
    "    d_cm=cosmo.luminosity_distance(z=z).to(u.cm).value\n",
    "    \n",
    "    CLB_list_CLB_candidates_neogt20.loc[index,'LW1']=W1mag_to_Lum(CLB_list_CLB_candidates_neogt20.loc[index,'mean_m_w1_neo'],d_cm)\n",
    "    CLB_list_CLB_candidates_neogt20.loc[index,'LW2']=W1mag_to_Lum(CLB_list_CLB_candidates_neogt20.loc[index,'mean_m_w2_neo'],d_cm)\n",
    "    "
   ]
  },
  {
   "cell_type": "code",
   "execution_count": null,
   "metadata": {},
   "outputs": [],
   "source": []
  },
  {
   "cell_type": "markdown",
   "metadata": {},
   "source": [
    "# Fermi_4LAC_DR3_h"
   ]
  },
  {
   "cell_type": "code",
   "execution_count": null,
   "metadata": {
    "ExecuteTime": {
     "start_time": "2023-07-22T04:58:22.220Z"
    }
   },
   "outputs": [],
   "source": [
    "'Source_Name'"
   ]
  },
  {
   "cell_type": "code",
   "execution_count": null,
   "metadata": {
    "ExecuteTime": {
     "start_time": "2023-07-22T04:58:22.224Z"
    }
   },
   "outputs": [],
   "source": [
    "Fermi_4LAC_DR3_h = fits.open('/Users/lyubing/Downloads/kangshiju_paper/table-4LAC-DR3-h.fits')\n",
    "Fermi_4LAC_DR3_h_data = Fermi_4LAC_DR3_h[1].data"
   ]
  },
  {
   "cell_type": "code",
   "execution_count": null,
   "metadata": {
    "ExecuteTime": {
     "start_time": "2023-07-22T04:58:22.229Z"
    }
   },
   "outputs": [],
   "source": [
    "len(Fermi_4LAC_DR3_h_bll),len(Fermi_4LAC_DR3_h_fsrq)"
   ]
  },
  {
   "cell_type": "code",
   "execution_count": null,
   "metadata": {
    "ExecuteTime": {
     "start_time": "2023-07-22T04:58:22.233Z"
    }
   },
   "outputs": [],
   "source": [
    "Fermi_4LAC_DR3_h_bll = Fermi_4LAC_DR3_h_data[Fermi_4LAC_DR3_h_data['CLASS'].lower()=='bll']"
   ]
  },
  {
   "cell_type": "code",
   "execution_count": null,
   "metadata": {
    "ExecuteTime": {
     "start_time": "2023-07-22T04:58:22.238Z"
    }
   },
   "outputs": [],
   "source": [
    "Fermi_4LAC_DR3_h_fsrq=Fermi_4LAC_DR3_h_data[Fermi_4LAC_DR3_h_data['CLASS'].lower()=='fsrq']"
   ]
  },
  {
   "cell_type": "code",
   "execution_count": null,
   "metadata": {
    "ExecuteTime": {
     "start_time": "2023-07-22T04:58:22.242Z"
    }
   },
   "outputs": [],
   "source": [
    "Fermi_4LAC_DR3_h_bll_pd=Table(Fermi_4LAC_DR3_h_bll).to_pandas()"
   ]
  },
  {
   "cell_type": "code",
   "execution_count": null,
   "metadata": {
    "ExecuteTime": {
     "start_time": "2023-07-22T04:58:22.247Z"
    }
   },
   "outputs": [],
   "source": [
    "Fermi_4LAC_DR3_h_fsrq_pd=Table(Fermi_4LAC_DR3_h_fsrq).to_pandas()"
   ]
  },
  {
   "cell_type": "code",
   "execution_count": null,
   "metadata": {
    "ExecuteTime": {
     "start_time": "2023-07-22T04:58:22.252Z"
    }
   },
   "outputs": [],
   "source": [
    "Fermi_4LAC_DR3_h_bll_pd.columns"
   ]
  },
  {
   "cell_type": "markdown",
   "metadata": {},
   "source": [
    "## Fermi_4LAC_DR3_h_bll_pd"
   ]
  },
  {
   "cell_type": "code",
   "execution_count": null,
   "metadata": {
    "ExecuteTime": {
     "start_time": "2023-07-22T05:10:31.072Z"
    }
   },
   "outputs": [],
   "source": [
    "for index,name in enumerate(Fermi_4LAC_DR3_h_bll_pd['Source_Name']):\n",
    "    search_name=name.strip()\n",
    "    save_name=name.strip().replace(' ','')\n",
    "    #if os.path.exists('./wise_%s_mep.csv'%save_name):\n",
    "    neo_path='%s/wise_%s_neo.csv'%(Fermi_bll_wisedata_dir,save_name)\n",
    "    if not os.path.exists(neo_path):# and os.path.exists('./wise_%s_mep.csv'%save_name):\n",
    "    #if not os.path.exists('./Fermi_4LAC_DR3_h_bll_pd/wise_%s_neo.csv'%save_name):\n",
    "        Fermi_4LAC_DR3_h_bll_pd.loc[index,'len_neo']=0\n",
    "        continue\n",
    "    data=pd.read_csv(neo_path)\n",
    "    data=data[data['w1mpro'].notnull()]\n",
    "    data=data[data['w2mpro'].notnull()]\n",
    "    data=data[data['w1sigmpro'].notnull()]\n",
    "    data=data[data['w2sigmpro'].notnull()]\n",
    "    \n",
    "    #data=data[data['w1mpro']<15]\n",
    "    #data=data[data['w2mpro']<13]\n",
    "    #data=data[data['w1rchi2']<5]\n",
    "    #data=data[data['w2rchi2']<5]\n",
    "    #data=data[data['nb']<3]\n",
    "    #data=data[data['na']==0]\n",
    "    data=data[data['qual_frame']>0]\n",
    "    data=data.reset_index(drop=True)\n",
    "    #data=data.fillna(0)\n",
    "    if len(data)>5:\n",
    "        mag_label='w1mpro'\n",
    "        magerr_label='w1sigmpro'\n",
    "        epsilon_s=epsilon_s_w1\n",
    "        \n",
    "        pearson_coeff,p_value=pearsonr(data['w1mpro'],data['w2mpro'])\n",
    "        Fermi_4LAC_DR3_h_bll_pd.loc[index,'pearson_coeff_neo']=pearson_coeff\n",
    "        \n",
    "        sigma_m_w1=get_intrinsic_var(data,mag_label,magerr_label,epsilon_s)\n",
    "        Fermi_4LAC_DR3_h_bll_pd.loc[index,'sigma_m_w1_neo']=sigma_m_w1\n",
    "        Fermi_4LAC_DR3_h_bll_pd.loc[index,'mean_m_w1_neo']=np.average(data[mag_label])\n",
    "        \n",
    "        \n",
    "        mag_label='w2mpro'\n",
    "        magerr_label='w2sigmpro'\n",
    "        epsilon_s=epsilon_s_w2\n",
    "        sigma_m_w2=get_intrinsic_var(data,mag_label,magerr_label,epsilon_s)\n",
    "        Fermi_4LAC_DR3_h_bll_pd.loc[index,'sigma_m_w2_neo']=sigma_m_w2\n",
    "        Fermi_4LAC_DR3_h_bll_pd.loc[index,'mean_m_w2_neo']=np.average(data[mag_label])\n",
    "        Fermi_4LAC_DR3_h_bll_pd.loc[index,'len_neo']=len(data)\n",
    "        Fermi_4LAC_DR3_h_bll_pd.loc[index,'W1-W2']=np.average(data['w1mpro']-data['w2mpro'])\n",
    "    \n",
    "    else:\n",
    "        Fermi_4LAC_DR3_h_bll_pd.loc[index,'len_neo']=0\n"
   ]
  },
  {
   "cell_type": "code",
   "execution_count": null,
   "metadata": {
    "ExecuteTime": {
     "start_time": "2023-07-22T05:10:31.078Z"
    }
   },
   "outputs": [],
   "source": [
    "Fermi_4LAC_DR3_h_bll_pd_neogt20=Fermi_4LAC_DR3_h_bll_pd[Fermi_4LAC_DR3_h_bll_pd['len_neo']>20]\n",
    "Fermi_4LAC_DR3_h_bll_pd_neogt20=drop_index(Fermi_4LAC_DR3_h_bll_pd_neogt20)"
   ]
  },
  {
   "cell_type": "code",
   "execution_count": null,
   "metadata": {
    "ExecuteTime": {
     "start_time": "2023-07-22T05:10:31.083Z"
    }
   },
   "outputs": [],
   "source": [
    "Fermi_4LAC_DR3_h_bll_pd_neogt20.to_csv('Fermi_4LAC_DR3_h_bll_pd_neogt20.csv',index=False)"
   ]
  },
  {
   "cell_type": "code",
   "execution_count": null,
   "metadata": {
    "ExecuteTime": {
     "start_time": "2023-07-22T05:10:31.088Z"
    }
   },
   "outputs": [],
   "source": [
    "Fermi_4LAC_DR3_h_bll_pd_neogt20.columns"
   ]
  },
  {
   "cell_type": "markdown",
   "metadata": {
    "ExecuteTime": {
     "end_time": "2023-06-17T14:53:05.562463Z",
     "start_time": "2023-06-17T14:53:05.541691Z"
    }
   },
   "source": [
    "for i in Fermi_4LAC_DR3_h_bll_pd_neogt20[Fermi_4LAC_DR3_h_bll_pd_neogt20['sigma_m_w1_neo']==0]['len_neo']:\n",
    "    print(i)"
   ]
  },
  {
   "cell_type": "markdown",
   "metadata": {
    "ExecuteTime": {
     "end_time": "2023-06-17T14:54:26.833688Z",
     "start_time": "2023-06-17T14:54:26.817086Z"
    }
   },
   "source": [
    "for i in Fermi_4LAC_DR3_h_fsrq_pd_neogt20[Fermi_4LAC_DR3_h_fsrq_pd_neogt20['sigma_m_w1_neo']==0]['len_neo']:\n",
    "    print(i)"
   ]
  },
  {
   "cell_type": "code",
   "execution_count": null,
   "metadata": {},
   "outputs": [],
   "source": []
  },
  {
   "cell_type": "code",
   "execution_count": null,
   "metadata": {},
   "outputs": [],
   "source": []
  },
  {
   "cell_type": "code",
   "execution_count": null,
   "metadata": {
    "ExecuteTime": {
     "start_time": "2023-07-22T05:10:32.224Z"
    }
   },
   "outputs": [],
   "source": [
    "#D_cm_bll= cosmo.luminosity_distance(z=Fermi_4LAC_DR3_h_bll_pd_neogt20['Redshift']).to(u.cm) \n",
    "for index,z in enumerate(Fermi_4LAC_DR3_h_bll_pd_neogt20['Redshift']):\n",
    "    if z>0:\n",
    "        d_cm=cosmo.luminosity_distance(z=z).to(u.cm).value    \n",
    "        Fermi_4LAC_DR3_h_bll_pd_neogt20.loc[index,'LW1']=W1mag_to_Lum(Fermi_4LAC_DR3_h_bll_pd_neogt20.loc[index,'mean_m_w1_neo'],d_cm)\n",
    "        Fermi_4LAC_DR3_h_bll_pd_neogt20.loc[index,'LW2']=W1mag_to_Lum(Fermi_4LAC_DR3_h_bll_pd_neogt20.loc[index,'mean_m_w2_neo'],d_cm)\n",
    "    else:\n",
    "        Fermi_4LAC_DR3_h_bll_pd_neogt20.loc[index,'LW1']=-1\n",
    "        Fermi_4LAC_DR3_h_bll_pd_neogt20.loc[index,'LW2']=-1\n",
    "           "
   ]
  },
  {
   "cell_type": "markdown",
   "metadata": {},
   "source": [
    "### Withredshift"
   ]
  },
  {
   "cell_type": "code",
   "execution_count": null,
   "metadata": {
    "ExecuteTime": {
     "start_time": "2023-07-22T05:10:32.772Z"
    }
   },
   "outputs": [],
   "source": [
    "Fermi_4LAC_DR3_h_bll_pd_neogt20_redshift=Fermi_4LAC_DR3_h_bll_pd_neogt20[Fermi_4LAC_DR3_h_bll_pd_neogt20['LW1']>0]\n",
    "Fermi_4LAC_DR3_h_bll_pd_neogt20_redshift=drop_index(Fermi_4LAC_DR3_h_bll_pd_neogt20_redshift)                                                                                                                           \n",
    "    "
   ]
  },
  {
   "cell_type": "code",
   "execution_count": null,
   "metadata": {
    "ExecuteTime": {
     "start_time": "2023-07-22T05:10:32.777Z"
    }
   },
   "outputs": [],
   "source": [
    "plt.hist(Fermi_4LAC_DR3_h_bll_pd_neogt20_redshift['Redshift'])"
   ]
  },
  {
   "cell_type": "code",
   "execution_count": null,
   "metadata": {},
   "outputs": [],
   "source": []
  },
  {
   "cell_type": "markdown",
   "metadata": {},
   "source": [
    "## Fermi_4LAC_DR3_h_fsrq_pd"
   ]
  },
  {
   "cell_type": "code",
   "execution_count": null,
   "metadata": {
    "ExecuteTime": {
     "start_time": "2023-07-22T05:10:33.346Z"
    }
   },
   "outputs": [],
   "source": [
    "for index,name in enumerate(Fermi_4LAC_DR3_h_fsrq_pd['Source_Name']):\n",
    "    search_name=name.strip()\n",
    "    save_name=name.strip().replace(' ','')\n",
    "    #if os.path.exists('./wise_%s_mep.csv'%save_name):\n",
    "    neo_path='%s/wise_%s_neo.csv'%(Fermi_fsrq_wisedata_dir,save_name)\n",
    "    if not os.path.exists(neo_path):# and os.path.exists('./wise_%s_mep.csv'%save_name):\n",
    "    #if not os.path.exists('./Fermi_4LAC_DR3_h_fsrq_pd/wise_%s_neo.csv'%save_name):\n",
    "        Fermi_4LAC_DR3_h_fsrq_pd.loc[index,'len_neo']=0\n",
    "        continue\n",
    "    data=pd.read_csv(neo_path)\n",
    "    data=data[data['w1mpro'].notnull()]\n",
    "    data=data[data['w2mpro'].notnull()]\n",
    "    data=data[data['w1sigmpro'].notnull()]\n",
    "    data=data[data['w2sigmpro'].notnull()]\n",
    "    \n",
    "    #data=data[data['w1mpro']<15]\n",
    "    #data=data[data['w2mpro']<13]\n",
    "    #data=data[data['w1rchi2']<5]\n",
    "    #data=data[data['w2rchi2']<5]\n",
    "    #data=data[data['nb']<3]\n",
    "    #data=data[data['na']==0]\n",
    "    data=data[data['qual_frame']>0]\n",
    "    data=data.reset_index(drop=True)\n",
    "    #data=data.fillna(0)\n",
    "    if len(data)>5:\n",
    "        mag_label='w1mpro'\n",
    "        magerr_label='w1sigmpro'\n",
    "        epsilon_s=epsilon_s_w1\n",
    "        \n",
    "        pearson_coeff,p_value=pearsonr(data['w1mpro'],data['w2mpro'])\n",
    "        Fermi_4LAC_DR3_h_fsrq_pd.loc[index,'pearson_coeff_neo']=pearson_coeff\n",
    "        \n",
    "        sigma_m_w1=get_intrinsic_var(data,mag_label,magerr_label,epsilon_s)\n",
    "        Fermi_4LAC_DR3_h_fsrq_pd.loc[index,'sigma_m_w1_neo']=sigma_m_w1\n",
    "        Fermi_4LAC_DR3_h_fsrq_pd.loc[index,'mean_m_w1_neo']=np.average(data[mag_label])\n",
    "        \n",
    "        \n",
    "        mag_label='w2mpro'\n",
    "        magerr_label='w2sigmpro'\n",
    "        epsilon_s=epsilon_s_w2\n",
    "        sigma_m_w2=get_intrinsic_var(data,mag_label,magerr_label,epsilon_s)\n",
    "        Fermi_4LAC_DR3_h_fsrq_pd.loc[index,'sigma_m_w2_neo']=sigma_m_w2\n",
    "        Fermi_4LAC_DR3_h_fsrq_pd.loc[index,'mean_m_w2_neo']=np.average(data[mag_label])\n",
    "        Fermi_4LAC_DR3_h_fsrq_pd.loc[index,'len_neo']=len(data)\n",
    "        Fermi_4LAC_DR3_h_fsrq_pd.loc[index,'W1-W2']=np.average(data['w1mpro']-data['w2mpro'])\n",
    "    \n",
    "    else:\n",
    "        Fermi_4LAC_DR3_h_fsrq_pd.loc[index,'len_neo']=0\n"
   ]
  },
  {
   "cell_type": "code",
   "execution_count": null,
   "metadata": {
    "ExecuteTime": {
     "start_time": "2023-07-22T05:10:33.351Z"
    }
   },
   "outputs": [],
   "source": [
    "Fermi_4LAC_DR3_h_fsrq_pd_neogt20=Fermi_4LAC_DR3_h_fsrq_pd[Fermi_4LAC_DR3_h_fsrq_pd['len_neo']>20]\n",
    "Fermi_4LAC_DR3_h_fsrq_pd_neogt20=drop_index(Fermi_4LAC_DR3_h_fsrq_pd_neogt20)\n"
   ]
  },
  {
   "cell_type": "code",
   "execution_count": null,
   "metadata": {
    "ExecuteTime": {
     "start_time": "2023-07-22T05:10:33.356Z"
    }
   },
   "outputs": [],
   "source": [
    "#Fermi_4LAC_DR3_h_fsrq_pd_neogt20.to_csv('Fermi_4LAC_DR3_h_fsrq_pd_neogt20.csv',index=False)"
   ]
  },
  {
   "cell_type": "code",
   "execution_count": null,
   "metadata": {
    "ExecuteTime": {
     "start_time": "2023-07-22T05:10:33.361Z"
    }
   },
   "outputs": [],
   "source": [
    "for index,z in enumerate(Fermi_4LAC_DR3_h_fsrq_pd_neogt20['Redshift']):\n",
    "    d_cm=cosmo.luminosity_distance(z=z).to(u.cm).value\n",
    "    \n",
    "    Fermi_4LAC_DR3_h_fsrq_pd_neogt20.loc[index,'LW1']=W1mag_to_Lum(Fermi_4LAC_DR3_h_fsrq_pd_neogt20.loc[index,'mean_m_w1_neo'],d_cm)\n",
    "    Fermi_4LAC_DR3_h_fsrq_pd_neogt20.loc[index,'LW2']=W1mag_to_Lum(Fermi_4LAC_DR3_h_fsrq_pd_neogt20.loc[index,'mean_m_w2_neo'],d_cm)\n",
    "    \n",
    "   "
   ]
  },
  {
   "cell_type": "markdown",
   "metadata": {
    "ExecuteTime": {
     "end_time": "2023-06-17T11:57:25.167403Z",
     "start_time": "2023-06-17T11:57:24.850181Z"
    }
   },
   "source": [
    "!open ."
   ]
  },
  {
   "cell_type": "code",
   "execution_count": null,
   "metadata": {
    "ExecuteTime": {
     "start_time": "2023-07-22T05:10:33.919Z"
    }
   },
   "outputs": [],
   "source": [
    "CLB_list_CLB_neogt20,Fermi_4LAC_DR3_h_bll_pd_neogt20,Fermi_4LAC_DR3_h_fsrq_pd_neogt20"
   ]
  },
  {
   "cell_type": "markdown",
   "metadata": {
    "ExecuteTime": {
     "end_time": "2023-06-17T13:28:57.206235Z",
     "start_time": "2023-06-17T13:28:57.170651Z"
    }
   },
   "source": [
    "Fermi_4LAC_DR3_h_bll_pd_neogt20"
   ]
  },
  {
   "cell_type": "code",
   "execution_count": null,
   "metadata": {
    "ExecuteTime": {
     "start_time": "2023-07-22T05:10:34.498Z"
    }
   },
   "outputs": [],
   "source": [
    "Fermi_4LAC_DR3_h_bll_pd_neogt20.columns\n"
   ]
  },
  {
   "cell_type": "markdown",
   "metadata": {},
   "source": [
    "## sigma_W1 W1-W2"
   ]
  },
  {
   "cell_type": "code",
   "execution_count": null,
   "metadata": {
    "ExecuteTime": {
     "start_time": "2023-07-22T05:10:35.076Z"
    }
   },
   "outputs": [],
   "source": [
    "#fig = plt.figure(figsize=(6, 6))\n",
    "#ax_histx=fig.add_subplot(1,1,1)\n",
    "\n",
    "# definitions for the axes\n",
    "left, width = 0.1, 0.65\n",
    "bottom, height = 0.1, 0.65\n",
    "spacing = 0.005\n",
    "\n",
    "#x = np.random.randn(1000)\n",
    "#y = np.random.randn(1000)\n",
    "\n",
    "rect_scatter = [left, bottom, width, height]\n",
    "rect_histx = [left, bottom + height + spacing, width, 0.2]\n",
    "rect_histy = [left + width + spacing, bottom, 0.4, height]\n",
    "\n",
    "# start with a square Figure\n",
    "fig = plt.figure(figsize=(6, 6))\n",
    "\n",
    "ax = fig.add_axes(rect_scatter)\n",
    "#ax_histx = fig.add_axes(rect_histx, sharex=ax)\n",
    "'''ax_histy = fig.add_axes(rect_histy, sharey=ax)\n",
    "#ax_histx.tick_params(axis=\"x\", labelbottom=False)\n",
    "ax_histy.tick_params(axis=\"y\", labelleft=False)\n",
    "'''\n",
    "\n",
    "'''for index,name in enumerate(Extreme_QSO_select['Name']):\n",
    "    ax.scatter(Extreme_QSO_select.loc[index,'logL_W1']-Extreme_QSO_select.loc[index,'logBH']-np.log10(1.263e38),\n",
    "               Extreme_QSO_select.loc[index,'W1-W2'],\n",
    "               s=size,color='cyan',marker='*',alpha=0.5,label='EVQ',zorder=1)\n",
    "'''\n",
    "        \n",
    "select_plot=Fermi_4LAC_DR3_h_bll_pd_neogt20\n",
    "xplot_label='W1-W2'\n",
    "yplot_label='sigma_m_w1_neo'\n",
    "ax.errorbar(x= select_plot[xplot_label],\n",
    "           y=select_plot[yplot_label],\n",
    "           marker='o',label='BLL',\n",
    "           ms=3., mew=1, capsize=0,mec='r',ecolor='r',\n",
    "           elinewidth=2,ls='',fillstyle='none',zorder=0)\n",
    "\n",
    "\n",
    "select_plot=Fermi_4LAC_DR3_h_fsrq_pd_neogt20\n",
    "xplot_label='W1-W2'\n",
    "yplot_label='sigma_m_w1_neo'\n",
    "ax.errorbar(x= select_plot[xplot_label],\n",
    "           y=select_plot[yplot_label],\n",
    "           marker='o',label='FSRQ',\n",
    "           ms=3., mew=1, capsize=0,mec='g',ecolor='r',\n",
    "           elinewidth=2,ls='',fillstyle='none',zorder=0)\n",
    "\n",
    "\n",
    "\n",
    "select_plot=CLB_list_CLB_neogt20\n",
    "xplot_label='W1-W2'\n",
    "yplot_label='sigma_m_w1_neo'\n",
    "ax.errorbar(x= select_plot[xplot_label],\n",
    "           y=select_plot[yplot_label],\n",
    "           marker='o',label='CLB',\n",
    "           ms=6., mew=1, capsize=0,mec='blue',ecolor='r',\n",
    "           elinewidth=2,ls='',fillstyle='none',zorder=1)\n",
    "\n",
    "\n",
    "\n",
    "select_plot=CLB_list_CLB_candidates_neogt20\n",
    "xplot_label='W1-W2'\n",
    "yplot_label='sigma_m_w1_neo'\n",
    "ax.errorbar(x= select_plot[xplot_label],\n",
    "           y=select_plot[yplot_label],\n",
    "           marker='o',label='CLB_candidates',\n",
    "           ms=3., mew=0, capsize=0,mec='blue',ecolor='blue',\n",
    "           mfc='blue',\n",
    "           elinewidth=2,ls='',fillstyle='full',zorder=0)\n",
    "\n",
    "\n",
    "\n",
    "\n",
    "set_ax_legend(ax,bbox_to_anchor=(0.51,0.99))\n",
    "ax.set_xlabel('<W1-W2>')\n",
    "ax.set_ylabel(r'$\\sigma_{W1}$')\n",
    "ax.set_ylim(0.01,1.8)\n",
    "set_ax_tick(ax)\n",
    "\n",
    "fig.savefig('%s/WISE_plot/CLB_WISE_sigmaW1_W1-W2.png'%CLAGN_statistic_plot_dir,\n",
    "            dpi=400, transparent=False, bbox_inches='tight')\n",
    "plt.show()\n",
    "plt.close()"
   ]
  },
  {
   "cell_type": "markdown",
   "metadata": {},
   "source": [
    "## LW1 sigma W1"
   ]
  },
  {
   "cell_type": "code",
   "execution_count": null,
   "metadata": {
    "ExecuteTime": {
     "start_time": "2023-07-22T05:10:35.630Z"
    }
   },
   "outputs": [],
   "source": [
    "#fig = plt.figure(figsize=(6, 6))\n",
    "#ax_histx=fig.add_subplot(1,1,1)\n",
    "\n",
    "# definitions for the axes\n",
    "left, width = 0.1, 0.65\n",
    "bottom, height = 0.1, 0.65\n",
    "spacing = 0.005\n",
    "\n",
    "#x = np.random.randn(1000)\n",
    "#y = np.random.randn(1000)\n",
    "\n",
    "rect_scatter = [left, bottom, width, height]\n",
    "rect_histx = [left, bottom + height + spacing, width, 0.2]\n",
    "rect_histy = [left + width + spacing, bottom, 0.4, height]\n",
    "\n",
    "# start with a square Figure\n",
    "fig = plt.figure(figsize=(6, 6))\n",
    "\n",
    "ax = fig.add_axes(rect_scatter)\n",
    "#ax_histx = fig.add_axes(rect_histx, sharex=ax)\n",
    "'''ax_histy = fig.add_axes(rect_histy, sharey=ax)\n",
    "#ax_histx.tick_params(axis=\"x\", labelbottom=False)\n",
    "ax_histy.tick_params(axis=\"y\", labelleft=False)\n",
    "'''\n",
    "\n",
    "'''for index,name in enumerate(Extreme_QSO_select['Name']):\n",
    "    ax.scatter(Extreme_QSO_select.loc[index,'logL_W1']-Extreme_QSO_select.loc[index,'logBH']-np.log10(1.263e38),\n",
    "               Extreme_QSO_select.loc[index,'W1-W2'],\n",
    "               s=size,color='cyan',marker='*',alpha=0.5,label='EVQ',zorder=1)\n",
    "'''\n",
    "        \n",
    "select_plot=Fermi_4LAC_DR3_h_bll_pd_neogt20_redshift\n",
    "xplot_label='LW1'\n",
    "yplot_label='sigma_m_w1_neo'\n",
    "ax.errorbar(x= select_plot[xplot_label],\n",
    "           y=select_plot[yplot_label],\n",
    "           marker='o',label='BLL',\n",
    "           ms=3., mew=1, capsize=0,mec='r',ecolor='r',\n",
    "           elinewidth=2,ls='',fillstyle='none',zorder=1)\n",
    "\n",
    "\n",
    "select_plot=Fermi_4LAC_DR3_h_fsrq_pd_neogt20\n",
    "xplot_label='LW1'\n",
    "yplot_label='sigma_m_w1_neo'\n",
    "ax.errorbar(x= select_plot[xplot_label],\n",
    "           y=select_plot[yplot_label],\n",
    "           marker='o',label='FSRQ',\n",
    "           ms=3., mew=1, capsize=0,mec='g',ecolor='r',\n",
    "           elinewidth=2,ls='',fillstyle='none',zorder=1)\n",
    "\n",
    "\n",
    "\n",
    "select_plot=CLB_list_CLB_neogt20\n",
    "xplot_label='LW1'\n",
    "yplot_label='sigma_m_w1_neo'\n",
    "ax.errorbar(x= select_plot[xplot_label],\n",
    "           y=select_plot[yplot_label],\n",
    "           marker='o',label='CLB',\n",
    "           ms=6., mew=1, capsize=0,mec='blue',ecolor='r',\n",
    "           elinewidth=2,ls='',fillstyle='none',zorder=1)\n",
    "\n",
    "\n",
    "select_plot=CLB_list_CLB_candidates_neogt20\n",
    "xplot_label='LW1'\n",
    "yplot_label='sigma_m_w1_neo'\n",
    "ax.errorbar(x= select_plot[xplot_label],\n",
    "           y=select_plot[yplot_label],\n",
    "           marker='o',label='CLB_candidates',\n",
    "           ms=3., mew=0, capsize=0,mec='blue',ecolor='blue',\n",
    "           mfc='blue',\n",
    "           elinewidth=2,ls='',fillstyle='full',zorder=0)\n",
    "\n",
    "\n",
    "ax.set_xlabel('LW1')\n",
    "ax.set_ylabel(r'$\\sigma_{W1}$')\n",
    "ax.set_ylim(0.01,1.8)\n",
    "\n",
    "set_ax_tick(ax)\n",
    "set_ax_legend(ax,bbox_to_anchor=(0.51,0.99))\n",
    "\n",
    "fig.savefig('%s/WISE_plot/CLB_WISE_sigmaW1-LW1.png'%CLAGN_statistic_plot_dir,\n",
    "            dpi=400, transparent=False, bbox_inches='tight')\n",
    "plt.show()\n",
    "plt.close()"
   ]
  },
  {
   "cell_type": "markdown",
   "metadata": {},
   "source": [
    "## LW2 sigma w2"
   ]
  },
  {
   "cell_type": "code",
   "execution_count": null,
   "metadata": {
    "ExecuteTime": {
     "start_time": "2023-07-22T05:10:36.183Z"
    }
   },
   "outputs": [],
   "source": [
    "#fig = plt.figure(figsize=(6, 6))\n",
    "#ax_histx=fig.add_subplot(1,1,1)\n",
    "\n",
    "# definitions for the axes\n",
    "left, width = 0.1, 0.65\n",
    "bottom, height = 0.1, 0.65\n",
    "spacing = 0.005\n",
    "\n",
    "#x = np.random.randn(1000)\n",
    "#y = np.random.randn(1000)\n",
    "\n",
    "rect_scatter = [left, bottom, width, height]\n",
    "rect_histx = [left, bottom + height + spacing, width, 0.2]\n",
    "rect_histy = [left + width + spacing, bottom, 0.4, height]\n",
    "\n",
    "# start with a square Figure\n",
    "fig = plt.figure(figsize=(6, 6))\n",
    "\n",
    "ax = fig.add_axes(rect_scatter)\n",
    "#ax_histx = fig.add_axes(rect_histx, sharex=ax)\n",
    "'''ax_histy = fig.add_axes(rect_histy, sharey=ax)\n",
    "#ax_histx.tick_params(axis=\"x\", labelbottom=False)\n",
    "ax_histy.tick_params(axis=\"y\", labelleft=False)\n",
    "'''\n",
    "\n",
    "'''for index,name in enumerate(Extreme_QSO_select['Name']):\n",
    "    ax.scatter(Extreme_QSO_select.loc[index,'logL_W1']-Extreme_QSO_select.loc[index,'logBH']-np.log10(1.263e38),\n",
    "               Extreme_QSO_select.loc[index,'W1-W2'],\n",
    "               s=size,color='cyan',marker='*',alpha=0.5,label='EVQ',zorder=1)\n",
    "'''\n",
    "        \n",
    "select_plot=Fermi_4LAC_DR3_h_bll_pd_neogt20_redshift\n",
    "xplot_label='LW2'\n",
    "yplot_label='sigma_m_w2_neo'\n",
    "ax.errorbar(x= select_plot[xplot_label],\n",
    "           y=select_plot[yplot_label],\n",
    "           marker='o',label='BLL',\n",
    "           ms=3., mew=1, capsize=0,mec='r',ecolor='r',\n",
    "           elinewidth=2,ls='',fillstyle='none',zorder=1)\n",
    "\n",
    "\n",
    "select_plot=Fermi_4LAC_DR3_h_fsrq_pd_neogt20\n",
    "xplot_label='LW2'\n",
    "yplot_label='sigma_m_w2_neo'\n",
    "ax.errorbar(x= select_plot[xplot_label],\n",
    "           y=select_plot[yplot_label],\n",
    "           marker='o',label='FSRQ',\n",
    "           ms=3., mew=1, capsize=0,mec='g',ecolor='r',\n",
    "           elinewidth=2,ls='',fillstyle='none',zorder=1)\n",
    "\n",
    "\n",
    "\n",
    "select_plot=CLB_list_CLB_neogt20\n",
    "xplot_label='LW2'\n",
    "yplot_label='sigma_m_w2_neo'\n",
    "ax.errorbar(x= select_plot[xplot_label],\n",
    "           y=select_plot[yplot_label],\n",
    "           marker='o',label='CLB',\n",
    "           ms=6., mew=1, capsize=0,mec='blue',ecolor='r',\n",
    "           elinewidth=2,ls='',fillstyle='none',zorder=1)\n",
    "\n",
    "\n",
    "select_plot=CLB_list_CLB_candidates_neogt20\n",
    "xplot_label='LW2'\n",
    "yplot_label='sigma_m_w2_neo'\n",
    "ax.errorbar(x= select_plot[xplot_label],\n",
    "           y=select_plot[yplot_label],\n",
    "           marker='o',label='CLB_candidates',\n",
    "           ms=3., mew=0, capsize=0,mec='blue',ecolor='blue',\n",
    "           mfc='blue',\n",
    "           elinewidth=2,ls='',fillstyle='full',zorder=0)\n",
    "\n",
    "\n",
    "ax.set_xlabel('LW2')\n",
    "ax.set_ylabel(r'$\\sigma_{W2}$')\n",
    "ax.set_ylim(0.01,1.8)\n",
    "\n",
    "set_ax_tick(ax)\n",
    "set_ax_legend(ax,bbox_to_anchor=(0.51,0.99))\n",
    "\n",
    "fig.savefig('%s/WISE_plot/CLB_WISE_sigmaW2-LW2.png'%CLAGN_statistic_plot_dir,\n",
    "            dpi=400, transparent=False, bbox_inches='tight')\n",
    "plt.show()\n",
    "plt.close()\n"
   ]
  },
  {
   "cell_type": "code",
   "execution_count": null,
   "metadata": {},
   "outputs": [],
   "source": []
  },
  {
   "cell_type": "code",
   "execution_count": null,
   "metadata": {},
   "outputs": [],
   "source": []
  },
  {
   "cell_type": "markdown",
   "metadata": {},
   "source": [
    "## Lw1 vs W1-W2"
   ]
  },
  {
   "cell_type": "code",
   "execution_count": null,
   "metadata": {
    "ExecuteTime": {
     "start_time": "2023-07-22T05:10:36.737Z"
    },
    "scrolled": false
   },
   "outputs": [],
   "source": [
    "#fig = plt.figure(figsize=(6, 6))\n",
    "#ax_histx=fig.add_subplot(1,1,1)\n",
    "\n",
    "# definitions for the axes\n",
    "left, width = 0.1, 0.65\n",
    "bottom, height = 0.1, 0.65\n",
    "spacing = 0.005\n",
    "\n",
    "#x = np.random.randn(1000)\n",
    "#y = np.random.randn(1000)\n",
    "\n",
    "rect_scatter = [left, bottom, width, height]\n",
    "rect_histx = [left, bottom + height + spacing, width, 0.4]\n",
    "rect_histy = [left + width + spacing, bottom, 0.4, height]\n",
    "\n",
    "# start with a square Figure\n",
    "fig = plt.figure(figsize=(6, 6))\n",
    "\n",
    "ax = fig.add_axes(rect_scatter)\n",
    "\n",
    "ax_histx = fig.add_axes(rect_histx, sharex=ax)\n",
    "ax_histy = fig.add_axes(rect_histy, sharey=ax)\n",
    "ax_histx.tick_params(axis=\"x\", labelbottom=False)\n",
    "ax_histy.tick_params(axis=\"y\", labelleft=False)\n",
    "\n",
    "\n",
    "\n",
    "        \n",
    "#select_plot=Fermi_4LAC_DR3_h_bll_pd_neogt20 \n",
    "select_plot=Fermi_4LAC_DR3_h_bll_pd_neogt20_redshift\n",
    "\n",
    "xplot_label='LW1'\n",
    "yplot_label='W1-W2'\n",
    "ax.errorbar(x= select_plot[xplot_label],\n",
    "           y=select_plot[yplot_label],\n",
    "           marker='o',label='BLL',\n",
    "           ms=3., mew=1, capsize=0,mec='r',ecolor='r',\n",
    "           elinewidth=2,ls='',fillstyle='none',zorder=0)\n",
    "ax_histx.hist(select_plot[xplot_label], bins=8,fill=False,density=True,stacked =True,\n",
    "              histtype='step',\n",
    "         #linestyle ='--',\n",
    "              linewidth=2,\n",
    "        label='BLL',edgecolor='red',\n",
    "              #orientation='horizontal'\n",
    "             )\n",
    "ax_histy.hist(select_plot[yplot_label], bins=8,fill=False,density=True,stacked =True,\n",
    "              histtype='step',\n",
    "         #linestyle ='--',\n",
    "              linewidth=2,\n",
    "        label='BLL',edgecolor='red',\n",
    "              orientation='horizontal'\n",
    "             )\n",
    "\n",
    "\n",
    "\n",
    "select_plot=Fermi_4LAC_DR3_h_fsrq_pd_neogt20\n",
    "xplot_label='LW1'\n",
    "yplot_label='W1-W2'\n",
    "ax.errorbar(x= select_plot[xplot_label],\n",
    "           y=select_plot[yplot_label],\n",
    "           marker='o',label='FSRQ',\n",
    "           ms=3., mew=1, capsize=0,mec='g',ecolor='r',\n",
    "           elinewidth=2,ls='',fillstyle='none',zorder=0)\n",
    "ax_histx.hist(select_plot[xplot_label], bins=8,fill=False,density=True,stacked =True,\n",
    "              histtype='step',\n",
    "         #linestyle ='--',\n",
    "              linewidth=2,\n",
    "        label='FSRQ',edgecolor='g',\n",
    "              #orientation='horizontal'\n",
    "             )\n",
    "ax_histy.hist(select_plot[yplot_label], bins=8,fill=False,density=True,stacked =True,\n",
    "              histtype='step',\n",
    "         #linestyle ='--',\n",
    "              linewidth=2,\n",
    "        label='FSRQ',edgecolor='g',\n",
    "              orientation='horizontal'\n",
    "             )\n",
    "\n",
    "\n",
    "select_plot=CLB_list_CLB_neogt20\n",
    "xplot_label='LW1'\n",
    "yplot_label='W1-W2'\n",
    "ax.errorbar(x= select_plot[xplot_label],\n",
    "           y=select_plot[yplot_label],\n",
    "           marker='o',label='CLB',\n",
    "           ms=6., mew=1, capsize=0,mec='blue',ecolor='r',\n",
    "           elinewidth=2,ls='',fillstyle='none',zorder=1)\n",
    "\n",
    "ax_histx.hist(select_plot[xplot_label], bins=8,fill=False,density=True,stacked =True,\n",
    "              histtype='step',\n",
    "         #linestyle ='--',\n",
    "              linewidth=2,\n",
    "        label='CLB',edgecolor='blue',\n",
    "              #orientation='horizontal'\n",
    "             )\n",
    "ax_histy.hist(select_plot[yplot_label], bins=8,fill=False,density=True,stacked =True,\n",
    "              histtype='step',\n",
    "              #linestyle ='--',\n",
    "              linewidth=2,\n",
    "              label='CLB',edgecolor='blue',\n",
    "              orientation='horizontal'\n",
    "             )\n",
    "\n",
    "select_plot=CLB_list_CLB_candidates_neogt20\n",
    "xplot_label='LW1'\n",
    "yplot_label='W1-W2'\n",
    "ax.errorbar(x= select_plot[xplot_label],\n",
    "           y=select_plot[yplot_label],\n",
    "           marker='o',label='CLB_candidates',\n",
    "           ms=3., mew=0, capsize=0,mec='blue',ecolor='blue',\n",
    "           mfc='blue',\n",
    "           elinewidth=2,ls='',fillstyle='full',zorder=0)\n",
    "\n",
    "ax_histx.hist(select_plot[xplot_label], bins=8,fill=False,density=True,stacked =True,\n",
    "              histtype='step',\n",
    "              linestyle ='--',\n",
    "              linewidth=2,\n",
    "        label='CLB_candidates',edgecolor='blue',\n",
    "              #orientation='horizontal'\n",
    "             )\n",
    "ax_histy.hist(select_plot[yplot_label], bins=8,fill=False,density=True,stacked =True,\n",
    "              histtype='step',\n",
    "              linestyle ='--',\n",
    "              linewidth=2,\n",
    "              label='CLB_candidates',edgecolor='blue',\n",
    "              orientation='horizontal'\n",
    "             )\n",
    "\n",
    "\n",
    "\n",
    "\n",
    "\n",
    "select_plot=QSO_select\n",
    "xplot_label='logL_W1'\n",
    "yplot_label='W1-W2'\n",
    "ax.errorbar(x= select_plot[xplot_label],\n",
    "           y=select_plot[yplot_label],\n",
    "           marker='*',label='QSO',\n",
    "           ms=3., mew=1, capsize=0,mec='grey',ecolor='r',\n",
    "           elinewidth=2,ls='',fillstyle='none',zorder=0)\n",
    "\n",
    "ax_histx.hist(select_plot[xplot_label], bins=8,fill=False,density=True,stacked =True,\n",
    "              histtype='step',\n",
    "         linestyle ='--',\n",
    "              linewidth=2,\n",
    "        label='QSO',edgecolor='grey',\n",
    "              #orientation='horizontal'\n",
    "             )\n",
    "ax_histy.hist(select_plot[yplot_label], bins=8,fill=False,density=True,stacked =True,\n",
    "              histtype='step',\n",
    "              #linestyle ='--',\n",
    "              linewidth=2,\n",
    "              label='QSO',edgecolor='grey',\n",
    "              orientation='horizontal'\n",
    "             )\n",
    "\n",
    "\n",
    "\n",
    "select_plot=LLAGN_gu2009\n",
    "xplot_label='logL_W1'\n",
    "yplot_label='W1-W2'\n",
    "ax.errorbar(x= select_plot[xplot_label],\n",
    "           y=select_plot[yplot_label],\n",
    "           marker='+',label='LLAGN',\n",
    "           ms=3., mew=1, capsize=0,mec='black',ecolor='r',\n",
    "           elinewidth=2,ls='',fillstyle='none',zorder=0)\n",
    "\n",
    "ax_histx.hist(select_plot[xplot_label], bins=8,fill=False,density=True,stacked =True,\n",
    "              histtype='step',\n",
    "         linestyle ='-.',\n",
    "              linewidth=2,\n",
    "        label='LLAGN',edgecolor='black',\n",
    "              #orientation='horizontal'\n",
    "             )\n",
    "ax_histy.hist(select_plot[yplot_label], bins=8,fill=False,density=True,stacked =True,\n",
    "              histtype='step',\n",
    "              linestyle ='-.',\n",
    "              linewidth=2,\n",
    "              label='LLAGN',edgecolor='black',\n",
    "              orientation='horizontal'\n",
    "             )\n",
    "\n",
    "\n",
    "\n",
    "\n",
    "\n",
    "ax.set_xlabel(r'$L_{W1}$')\n",
    "ax.set_ylabel(r'<W1-W2>')\n",
    "#ax.set_ylim(0.01,1.3)\n",
    "set_ax_tick(ax)\n",
    "#set_ax_legend(ax,bbox_to_anchor=(0.69,0.5))\n",
    "set_ax_legend(ax_histx,bbox_to_anchor=(0.57,0.99))\n",
    "set_ax_legend(ax,bbox_to_anchor=(0.61,0.99))\n",
    "ax_histx.yaxis.set_major_locator(mpl.ticker.MultipleLocator(0.2))\n",
    "ax_histx.yaxis.set_minor_locator(mpl.ticker.MultipleLocator(0.1))\n",
    "#ax_histx.set_ylim(0.01,0.9)\n",
    "#set_ax_tick(ax_histx,)\n",
    "\n",
    "ax.set_xlim(41-0.1,51.1)\n",
    "\n",
    "fig.savefig('%s/WISE_plot/CLB_WISE_W1-W2_LW1.png'%CLAGN_statistic_plot_dir,\n",
    "            dpi=400, transparent=False, bbox_inches='tight')\n",
    "plt.show()\n",
    "plt.close()"
   ]
  },
  {
   "cell_type": "code",
   "execution_count": null,
   "metadata": {
    "ExecuteTime": {
     "start_time": "2023-07-22T05:10:36.742Z"
    }
   },
   "outputs": [],
   "source": [
    "CLAGN_statistic_plot_dir"
   ]
  },
  {
   "cell_type": "code",
   "execution_count": null,
   "metadata": {
    "ExecuteTime": {
     "start_time": "2023-07-22T05:10:36.746Z"
    }
   },
   "outputs": [],
   "source": [
    "!open /Volumes/ExtremeSSD/CLAGN_statistic_plot/WISE_plot"
   ]
  },
  {
   "cell_type": "markdown",
   "metadata": {
    "ExecuteTime": {
     "end_time": "2023-06-17T14:28:53.889190Z",
     "start_time": "2023-06-17T14:28:53.874921Z"
    }
   },
   "source": [
    "QSO_select['LW1']"
   ]
  },
  {
   "cell_type": "markdown",
   "metadata": {
    "ExecuteTime": {
     "end_time": "2023-06-17T14:29:15.670295Z",
     "start_time": "2023-06-17T14:29:15.658576Z"
    }
   },
   "source": [
    "Fermi_4LAC_DR3_h_bll_pd_neogt20['LW1']#['Redshift']"
   ]
  },
  {
   "cell_type": "code",
   "execution_count": null,
   "metadata": {
    "ExecuteTime": {
     "start_time": "2023-07-22T05:10:37.862Z"
    }
   },
   "outputs": [],
   "source": [
    "len(Fermi_4LAC_DR3_h_bll_pd_neogt20)"
   ]
  },
  {
   "cell_type": "code",
   "execution_count": null,
   "metadata": {
    "ExecuteTime": {
     "start_time": "2023-07-22T05:10:37.866Z"
    }
   },
   "outputs": [],
   "source": [
    "len(Fermi_4LAC_DR3_h_bll_pd_neogt20_redshift)"
   ]
  },
  {
   "cell_type": "code",
   "execution_count": null,
   "metadata": {
    "ExecuteTime": {
     "start_time": "2023-07-22T05:10:37.870Z"
    }
   },
   "outputs": [],
   "source": [
    "len(Fermi_4LAC_DR3_h_fsrq_pd_neogt20)"
   ]
  },
  {
   "cell_type": "markdown",
   "metadata": {},
   "source": [
    "# QSO"
   ]
  },
  {
   "cell_type": "code",
   "execution_count": null,
   "metadata": {
    "ExecuteTime": {
     "start_time": "2023-07-22T05:10:38.410Z"
    }
   },
   "outputs": [],
   "source": [
    "#CLAGN_statistic_plot_dir='/Volumes/ExtremeSSD/CLAGN_statistic_plot/'\n",
    "#QSO=pd.read_csv('/Users/brettlv/Downloads/CLAGN_statistic_plot/QSO_wise_var.csv')\n",
    "QSO=pd.read_csv('%s/QSO_wise_var.csv'%CLAGN_statistic_plot_dir)\n",
    "\n",
    "QSO['log(L5100)']=(QSO['lg(LHalpha)']-np.log10(5.25)-42)/1.157+44\n",
    "QSO['log(Lbol)']=np.log10(9)+QSO['log(L5100)']\n",
    "QSO['log(Ledd)']=np.log10(1.263*10**38)+QSO['lg(L_Mbh)']\n",
    "QSO['log(Lbol/Ledd)']=QSO['log(Lbol)']-QSO['log(Ledd)']\n",
    "#print(QSO.columns)\n",
    "#D_cm_QSO=cosmo.luminosity_distance(z=QSO['redshift']).to(u.cm)\n",
    "#QSO['D_cm']=cosmo.luminosity_distance(z=QSO['redshift']).to(u.cm)"
   ]
  },
  {
   "cell_type": "code",
   "execution_count": null,
   "metadata": {
    "ExecuteTime": {
     "start_time": "2023-07-22T05:10:38.414Z"
    }
   },
   "outputs": [],
   "source": [
    "for index,z in enumerate(QSO['redshift']):\n",
    "    d_cm=cosmo.luminosity_distance(z=z).to(u.cm).value\n",
    "    QSO.loc[index,'D_cm']=d_cm"
   ]
  },
  {
   "cell_type": "code",
   "execution_count": null,
   "metadata": {
    "ExecuteTime": {
     "start_time": "2023-07-22T05:10:38.419Z"
    }
   },
   "outputs": [],
   "source": [
    "QSO['logL_W1']= (-48.6-QSO['mean_m_w1_neo']-2.699)/2.5+np.log10(4*np.pi*QSO['D_cm']**2)+np.log10((constants.c/(3.4*u.um)).to(u.Hz).value)\n",
    "QSO['logL_W2']= (-48.6-QSO['mean_m_w2_neo']-3.339)/2.5+np.log10(4*np.pi*QSO['D_cm']**2)+np.log10((constants.c/(4.6*u.um)).to(u.Hz).value)\n"
   ]
  },
  {
   "cell_type": "markdown",
   "metadata": {
    "ExecuteTime": {
     "end_time": "2023-06-17T14:27:45.383526Z",
     "start_time": "2023-06-17T14:27:45.375650Z"
    }
   },
   "source": [
    "QSO['LW1']=10**QSO['logL_W1']\n",
    "QSO['LW2']=10**QSO['logL_W2']"
   ]
  },
  {
   "cell_type": "code",
   "execution_count": null,
   "metadata": {
    "ExecuteTime": {
     "start_time": "2023-07-22T05:10:38.948Z"
    }
   },
   "outputs": [],
   "source": [
    "QSO_select=QSO[QSO['len_neo']>20]\n",
    "#QSO_select=QSO_select[QSO_select['pearson_coeff_neo']>0.8]\n",
    "QSO_select=drop_index(QSO_select)"
   ]
  },
  {
   "cell_type": "code",
   "execution_count": null,
   "metadata": {
    "ExecuteTime": {
     "start_time": "2023-07-22T05:10:38.952Z"
    }
   },
   "outputs": [],
   "source": [
    "len(QSO_select)"
   ]
  },
  {
   "cell_type": "markdown",
   "metadata": {},
   "source": [
    "# LLAGN"
   ]
  },
  {
   "cell_type": "code",
   "execution_count": null,
   "metadata": {
    "ExecuteTime": {
     "start_time": "2023-07-22T05:10:39.488Z"
    }
   },
   "outputs": [],
   "source": [
    "LLAGN_gu2009=pd.read_csv('%s/LLAGN_gu2009.csv'%CLAGN_statistic_plot_dir)\n",
    "\n",
    "LLAGN_gu2009=LLAGN_gu2009[LLAGN_gu2009['len_neo']>20]\n",
    "LLAGN_gu2009=drop_index(LLAGN_gu2009)"
   ]
  },
  {
   "cell_type": "markdown",
   "metadata": {},
   "source": [
    "# plot LW1/Lbol"
   ]
  },
  {
   "cell_type": "code",
   "execution_count": 21,
   "metadata": {
    "ExecuteTime": {
     "end_time": "2023-09-05T06:49:57.936794Z",
     "start_time": "2023-09-05T06:49:57.930484Z"
    }
   },
   "outputs": [],
   "source": [
    "AGN_wisedata_dir='/Volumes/ExtremeSSD/data_source/WISE_data'\n",
    "\n",
    "CLAGN_statistic_plot_dir='/Volumes/ExtremeSSD/CLAGN_statistic_plot/'"
   ]
  },
  {
   "cell_type": "code",
   "execution_count": 17,
   "metadata": {
    "ExecuteTime": {
     "end_time": "2023-09-05T06:44:11.325052Z",
     "start_time": "2023-09-05T06:44:11.268875Z"
    }
   },
   "outputs": [],
   "source": [
    "CLAGN_210919=pd.read_excel('/Users/lyubing/IHEPBox//data/data_clagn/CLAGN_list210919.xlsx',sheet_name='Sheet1')"
   ]
  },
  {
   "cell_type": "code",
   "execution_count": 19,
   "metadata": {
    "ExecuteTime": {
     "end_time": "2023-09-05T06:49:20.776298Z",
     "start_time": "2023-09-05T06:49:20.763740Z"
    }
   },
   "outputs": [
    {
     "data": {
      "text/plain": [
       "Index(['Name', 'RA', 'DEC', 'Ref.', 'Type_Ref', 'Redshift', 'lg(MBH/Msun)',\n",
       "       'Ref..1', 'mass_Ref', 'Type_CL', 'Type_X', 'OX', 'logM', 'pos',\n",
       "       'E(B-V)mean', 'E(B-V)weighted', 'NHImean', 'NHIweighted', 'NH2mean',\n",
       "       'NH2weighted', 'NH,totmean', 'NH,totweighted'],\n",
       "      dtype='object')"
      ]
     },
     "execution_count": 19,
     "metadata": {},
     "output_type": "execute_result"
    }
   ],
   "source": [
    "CLAGN_210919.columns"
   ]
  },
  {
   "cell_type": "code",
   "execution_count": 22,
   "metadata": {
    "ExecuteTime": {
     "end_time": "2023-09-05T06:49:59.784205Z",
     "start_time": "2023-09-05T06:49:59.739142Z"
    }
   },
   "outputs": [],
   "source": [
    "CLAGN_210919_mass=pd.read_csv('%s/CLAGN_210919_mass_wisevar.csv'%CLAGN_statistic_plot_dir)"
   ]
  },
  {
   "cell_type": "code",
   "execution_count": 28,
   "metadata": {
    "ExecuteTime": {
     "end_time": "2023-09-05T06:56:18.787157Z",
     "start_time": "2023-09-05T06:56:18.754386Z"
    }
   },
   "outputs": [
    {
     "data": {
      "text/html": [
       "<div>\n",
       "<style scoped>\n",
       "    .dataframe tbody tr th:only-of-type {\n",
       "        vertical-align: middle;\n",
       "    }\n",
       "\n",
       "    .dataframe tbody tr th {\n",
       "        vertical-align: top;\n",
       "    }\n",
       "\n",
       "    .dataframe thead th {\n",
       "        text-align: right;\n",
       "    }\n",
       "</style>\n",
       "<table border=\"1\" class=\"dataframe\">\n",
       "  <thead>\n",
       "    <tr style=\"text-align: right;\">\n",
       "      <th></th>\n",
       "      <th>Name</th>\n",
       "      <th>RA</th>\n",
       "      <th>DEC</th>\n",
       "      <th>Ref.</th>\n",
       "      <th>Type_Ref</th>\n",
       "      <th>Redshift</th>\n",
       "      <th>lg(MBH/Msun)</th>\n",
       "      <th>Ref..1</th>\n",
       "      <th>mass_Ref</th>\n",
       "      <th>Type_CL</th>\n",
       "      <th>...</th>\n",
       "      <th>W1-W2_sigma</th>\n",
       "      <th>D_cm</th>\n",
       "      <th>logL_W1</th>\n",
       "      <th>logL_W2</th>\n",
       "      <th>e_logL_W1</th>\n",
       "      <th>e_logL_W2</th>\n",
       "      <th>logL_W1/Ledd</th>\n",
       "      <th>logL_W2/Ledd</th>\n",
       "      <th>deltaW1</th>\n",
       "      <th>deltaW2</th>\n",
       "    </tr>\n",
       "  </thead>\n",
       "  <tbody>\n",
       "    <tr>\n",
       "      <th>0</th>\n",
       "      <td>1ES 1927+654</td>\n",
       "      <td>19h27m19.54s</td>\n",
       "      <td>+65d33m54.2s</td>\n",
       "      <td>arxiv:1903.11084</td>\n",
       "      <td>2019ApJ...883...94T</td>\n",
       "      <td>0.01700</td>\n",
       "      <td>7.300</td>\n",
       "      <td>arxiv:2011.01954</td>\n",
       "      <td>2021MNRAS.502L..50S</td>\n",
       "      <td>NaN</td>\n",
       "      <td>...</td>\n",
       "      <td>NaN</td>\n",
       "      <td>2.276002e+26</td>\n",
       "      <td>NaN</td>\n",
       "      <td>NaN</td>\n",
       "      <td>NaN</td>\n",
       "      <td>NaN</td>\n",
       "      <td>NaN</td>\n",
       "      <td>NaN</td>\n",
       "      <td>0.030446</td>\n",
       "      <td>0.152550</td>\n",
       "    </tr>\n",
       "    <tr>\n",
       "      <th>1</th>\n",
       "      <td>1H 0419-577</td>\n",
       "      <td>04h26m00.724s</td>\n",
       "      <td>-57d12m00.97s</td>\n",
       "      <td>arxiv:1201.2169</td>\n",
       "      <td>2012MNRAS.421.1803M</td>\n",
       "      <td>0.10400</td>\n",
       "      <td>8.580</td>\n",
       "      <td>arxiv:1401.5614</td>\n",
       "      <td>2014A&amp;A...563A..95D</td>\n",
       "      <td>X</td>\n",
       "      <td>...</td>\n",
       "      <td>0.031816</td>\n",
       "      <td>1.481107e+27</td>\n",
       "      <td>44.515696</td>\n",
       "      <td>44.534762</td>\n",
       "      <td>0.000617</td>\n",
       "      <td>0.000532</td>\n",
       "      <td>-2.165707</td>\n",
       "      <td>-2.146641</td>\n",
       "      <td>0.095820</td>\n",
       "      <td>0.107836</td>\n",
       "    </tr>\n",
       "    <tr>\n",
       "      <th>2</th>\n",
       "      <td>2MASS J01264811-0839481</td>\n",
       "      <td>01h26m48.088s</td>\n",
       "      <td>-08d39m48.08s</td>\n",
       "      <td>arxiv:1509.03634</td>\n",
       "      <td>2016ApJ...826..188R</td>\n",
       "      <td>0.19791</td>\n",
       "      <td>8.080</td>\n",
       "      <td>arxiv:1903.02553</td>\n",
       "      <td>2019ApJ...883...76R</td>\n",
       "      <td>NaN</td>\n",
       "      <td>...</td>\n",
       "      <td>NaN</td>\n",
       "      <td>2.988915e+27</td>\n",
       "      <td>NaN</td>\n",
       "      <td>NaN</td>\n",
       "      <td>NaN</td>\n",
       "      <td>NaN</td>\n",
       "      <td>NaN</td>\n",
       "      <td>NaN</td>\n",
       "      <td>0.055540</td>\n",
       "      <td>0.031486</td>\n",
       "    </tr>\n",
       "    <tr>\n",
       "      <th>3</th>\n",
       "      <td>2MASS J07451198+3809114</td>\n",
       "      <td>07h45m11.983s</td>\n",
       "      <td>+38d09m11.30s</td>\n",
       "      <td>arxiv:1810.00087</td>\n",
       "      <td>2019ApJ...874....8M</td>\n",
       "      <td>0.23648</td>\n",
       "      <td>9.100</td>\n",
       "      <td>arxiv:1905.02262</td>\n",
       "      <td>2020MNRAS.491.4925G</td>\n",
       "      <td>NaN</td>\n",
       "      <td>...</td>\n",
       "      <td>NaN</td>\n",
       "      <td>3.650899e+27</td>\n",
       "      <td>NaN</td>\n",
       "      <td>NaN</td>\n",
       "      <td>NaN</td>\n",
       "      <td>NaN</td>\n",
       "      <td>NaN</td>\n",
       "      <td>NaN</td>\n",
       "      <td>0.291148</td>\n",
       "      <td>0.238615</td>\n",
       "    </tr>\n",
       "    <tr>\n",
       "      <th>4</th>\n",
       "      <td>2MASS J10022021+4509276</td>\n",
       "      <td>10h02m20.181s</td>\n",
       "      <td>+45d09m27.36s</td>\n",
       "      <td>arxiv:1509.08393</td>\n",
       "      <td>2021A&amp;A...650A..33P</td>\n",
       "      <td>0.40090</td>\n",
       "      <td>8.700</td>\n",
       "      <td>arxiv:1903.02553</td>\n",
       "      <td>2019ApJ...883...76R</td>\n",
       "      <td>NaN</td>\n",
       "      <td>...</td>\n",
       "      <td>NaN</td>\n",
       "      <td>6.720405e+27</td>\n",
       "      <td>NaN</td>\n",
       "      <td>NaN</td>\n",
       "      <td>NaN</td>\n",
       "      <td>NaN</td>\n",
       "      <td>NaN</td>\n",
       "      <td>NaN</td>\n",
       "      <td>0.000274</td>\n",
       "      <td>0.049758</td>\n",
       "    </tr>\n",
       "    <tr>\n",
       "      <th>...</th>\n",
       "      <td>...</td>\n",
       "      <td>...</td>\n",
       "      <td>...</td>\n",
       "      <td>...</td>\n",
       "      <td>...</td>\n",
       "      <td>...</td>\n",
       "      <td>...</td>\n",
       "      <td>...</td>\n",
       "      <td>...</td>\n",
       "      <td>...</td>\n",
       "      <td>...</td>\n",
       "      <td>...</td>\n",
       "      <td>...</td>\n",
       "      <td>...</td>\n",
       "      <td>...</td>\n",
       "      <td>...</td>\n",
       "      <td>...</td>\n",
       "      <td>...</td>\n",
       "      <td>...</td>\n",
       "      <td>...</td>\n",
       "      <td>...</td>\n",
       "    </tr>\n",
       "    <tr>\n",
       "      <th>114</th>\n",
       "      <td>WISEA J154507.52+170950.8</td>\n",
       "      <td>15h45m07.524s</td>\n",
       "      <td>+17d09m50.99s</td>\n",
       "      <td>arxiv:1905.02262</td>\n",
       "      <td>2020MNRAS.491.4925G</td>\n",
       "      <td>0.04832</td>\n",
       "      <td>7.400</td>\n",
       "      <td>arxiv:1905.02262</td>\n",
       "      <td>2020MNRAS.491.4925G</td>\n",
       "      <td>NaN</td>\n",
       "      <td>...</td>\n",
       "      <td>0.062243</td>\n",
       "      <td>6.620631e+26</td>\n",
       "      <td>43.258411</td>\n",
       "      <td>43.118827</td>\n",
       "      <td>0.005231</td>\n",
       "      <td>0.005888</td>\n",
       "      <td>-2.242993</td>\n",
       "      <td>-2.382577</td>\n",
       "      <td>0.707434</td>\n",
       "      <td>0.800575</td>\n",
       "    </tr>\n",
       "    <tr>\n",
       "      <th>115</th>\n",
       "      <td>WISEA J154529.63+251127.9</td>\n",
       "      <td>15h45m29.641s</td>\n",
       "      <td>+25d11m27.86s</td>\n",
       "      <td>arxiv:1711.08122</td>\n",
       "      <td>2018ApJ...862..109Y</td>\n",
       "      <td>0.11696</td>\n",
       "      <td>8.124</td>\n",
       "      <td>arxiv:2010.10527</td>\n",
       "      <td>2021ApJ...907L..21D</td>\n",
       "      <td>NaN</td>\n",
       "      <td>...</td>\n",
       "      <td>0.095225</td>\n",
       "      <td>1.680001e+27</td>\n",
       "      <td>43.705489</td>\n",
       "      <td>43.565460</td>\n",
       "      <td>0.003559</td>\n",
       "      <td>0.004462</td>\n",
       "      <td>-2.519914</td>\n",
       "      <td>-2.659944</td>\n",
       "      <td>0.519187</td>\n",
       "      <td>0.581643</td>\n",
       "    </tr>\n",
       "    <tr>\n",
       "      <th>116</th>\n",
       "      <td>WISEA J155017.23+413902.4</td>\n",
       "      <td>15h50m17.229s</td>\n",
       "      <td>+41d39m02.32s</td>\n",
       "      <td>arxiv:1711.08122</td>\n",
       "      <td>2018ApJ...862..109Y</td>\n",
       "      <td>0.22014</td>\n",
       "      <td>8.265</td>\n",
       "      <td>arxiv:2010.10527</td>\n",
       "      <td>2021ApJ...907L..21D</td>\n",
       "      <td>NaN</td>\n",
       "      <td>...</td>\n",
       "      <td>0.065516</td>\n",
       "      <td>3.367556e+27</td>\n",
       "      <td>44.094809</td>\n",
       "      <td>44.007257</td>\n",
       "      <td>0.004460</td>\n",
       "      <td>0.003519</td>\n",
       "      <td>-2.271594</td>\n",
       "      <td>-2.359147</td>\n",
       "      <td>0.071001</td>\n",
       "      <td>0.035404</td>\n",
       "    </tr>\n",
       "    <tr>\n",
       "      <th>117</th>\n",
       "      <td>WISEA J155258.27+273728.5</td>\n",
       "      <td>15h52m58.301s</td>\n",
       "      <td>+27d37m28.41s</td>\n",
       "      <td>arxiv:1711.08122</td>\n",
       "      <td>2018ApJ...862..109Y</td>\n",
       "      <td>0.08648</td>\n",
       "      <td>8.086</td>\n",
       "      <td>arxiv:2010.10527</td>\n",
       "      <td>2021ApJ...907L..21D</td>\n",
       "      <td>NaN</td>\n",
       "      <td>...</td>\n",
       "      <td>0.092416</td>\n",
       "      <td>1.217115e+27</td>\n",
       "      <td>43.292308</td>\n",
       "      <td>43.138386</td>\n",
       "      <td>0.006066</td>\n",
       "      <td>0.005427</td>\n",
       "      <td>-2.895095</td>\n",
       "      <td>-3.049017</td>\n",
       "      <td>0.317546</td>\n",
       "      <td>0.492641</td>\n",
       "    </tr>\n",
       "    <tr>\n",
       "      <th>118</th>\n",
       "      <td>WISEA J162415.02+455130.2</td>\n",
       "      <td>16h24m15.024s</td>\n",
       "      <td>+45d51m30.12s</td>\n",
       "      <td>arxiv:1810.00087</td>\n",
       "      <td>2019ApJ...874....8M</td>\n",
       "      <td>0.48063</td>\n",
       "      <td>8.100</td>\n",
       "      <td>arxiv:1905.02262</td>\n",
       "      <td>2020MNRAS.491.4925G</td>\n",
       "      <td>NaN</td>\n",
       "      <td>...</td>\n",
       "      <td>NaN</td>\n",
       "      <td>8.337364e+27</td>\n",
       "      <td>NaN</td>\n",
       "      <td>NaN</td>\n",
       "      <td>NaN</td>\n",
       "      <td>NaN</td>\n",
       "      <td>NaN</td>\n",
       "      <td>NaN</td>\n",
       "      <td>0.053137</td>\n",
       "      <td>0.053875</td>\n",
       "    </tr>\n",
       "  </tbody>\n",
       "</table>\n",
       "<p>119 rows × 43 columns</p>\n",
       "</div>"
      ],
      "text/plain": [
       "                               Name             RA            DEC  \\\n",
       "0                      1ES 1927+654   19h27m19.54s   +65d33m54.2s   \n",
       "1                       1H 0419-577  04h26m00.724s  -57d12m00.97s   \n",
       "2    2MASS J01264811-0839481         01h26m48.088s  -08d39m48.08s   \n",
       "3           2MASS J07451198+3809114  07h45m11.983s  +38d09m11.30s   \n",
       "4    2MASS J10022021+4509276         10h02m20.181s  +45d09m27.36s   \n",
       "..                              ...            ...            ...   \n",
       "114       WISEA J154507.52+170950.8  15h45m07.524s  +17d09m50.99s   \n",
       "115       WISEA J154529.63+251127.9  15h45m29.641s  +25d11m27.86s   \n",
       "116       WISEA J155017.23+413902.4  15h50m17.229s  +41d39m02.32s   \n",
       "117       WISEA J155258.27+273728.5  15h52m58.301s  +27d37m28.41s   \n",
       "118       WISEA J162415.02+455130.2  16h24m15.024s  +45d51m30.12s   \n",
       "\n",
       "                 Ref.             Type_Ref  Redshift  lg(MBH/Msun)  \\\n",
       "0    arxiv:1903.11084  2019ApJ...883...94T   0.01700         7.300   \n",
       "1     arxiv:1201.2169  2012MNRAS.421.1803M   0.10400         8.580   \n",
       "2    arxiv:1509.03634  2016ApJ...826..188R   0.19791         8.080   \n",
       "3    arxiv:1810.00087  2019ApJ...874....8M   0.23648         9.100   \n",
       "4    arxiv:1509.08393  2021A&A...650A..33P   0.40090         8.700   \n",
       "..                ...                  ...       ...           ...   \n",
       "114  arxiv:1905.02262  2020MNRAS.491.4925G   0.04832         7.400   \n",
       "115  arxiv:1711.08122  2018ApJ...862..109Y   0.11696         8.124   \n",
       "116  arxiv:1711.08122  2018ApJ...862..109Y   0.22014         8.265   \n",
       "117  arxiv:1711.08122  2018ApJ...862..109Y   0.08648         8.086   \n",
       "118  arxiv:1810.00087  2019ApJ...874....8M   0.48063         8.100   \n",
       "\n",
       "               Ref..1             mass_Ref Type_CL  ... W1-W2_sigma  \\\n",
       "0    arxiv:2011.01954  2021MNRAS.502L..50S     NaN  ...         NaN   \n",
       "1     arxiv:1401.5614  2014A&A...563A..95D       X  ...    0.031816   \n",
       "2    arxiv:1903.02553  2019ApJ...883...76R     NaN  ...         NaN   \n",
       "3    arxiv:1905.02262  2020MNRAS.491.4925G     NaN  ...         NaN   \n",
       "4    arxiv:1903.02553  2019ApJ...883...76R     NaN  ...         NaN   \n",
       "..                ...                  ...     ...  ...         ...   \n",
       "114  arxiv:1905.02262  2020MNRAS.491.4925G     NaN  ...    0.062243   \n",
       "115  arxiv:2010.10527  2021ApJ...907L..21D     NaN  ...    0.095225   \n",
       "116  arxiv:2010.10527  2021ApJ...907L..21D     NaN  ...    0.065516   \n",
       "117  arxiv:2010.10527  2021ApJ...907L..21D     NaN  ...    0.092416   \n",
       "118  arxiv:1905.02262  2020MNRAS.491.4925G     NaN  ...         NaN   \n",
       "\n",
       "             D_cm    logL_W1    logL_W2  e_logL_W1  e_logL_W2  logL_W1/Ledd  \\\n",
       "0    2.276002e+26        NaN        NaN        NaN        NaN           NaN   \n",
       "1    1.481107e+27  44.515696  44.534762   0.000617   0.000532     -2.165707   \n",
       "2    2.988915e+27        NaN        NaN        NaN        NaN           NaN   \n",
       "3    3.650899e+27        NaN        NaN        NaN        NaN           NaN   \n",
       "4    6.720405e+27        NaN        NaN        NaN        NaN           NaN   \n",
       "..            ...        ...        ...        ...        ...           ...   \n",
       "114  6.620631e+26  43.258411  43.118827   0.005231   0.005888     -2.242993   \n",
       "115  1.680001e+27  43.705489  43.565460   0.003559   0.004462     -2.519914   \n",
       "116  3.367556e+27  44.094809  44.007257   0.004460   0.003519     -2.271594   \n",
       "117  1.217115e+27  43.292308  43.138386   0.006066   0.005427     -2.895095   \n",
       "118  8.337364e+27        NaN        NaN        NaN        NaN           NaN   \n",
       "\n",
       "     logL_W2/Ledd   deltaW1   deltaW2  \n",
       "0             NaN  0.030446  0.152550  \n",
       "1       -2.146641  0.095820  0.107836  \n",
       "2             NaN  0.055540  0.031486  \n",
       "3             NaN  0.291148  0.238615  \n",
       "4             NaN  0.000274  0.049758  \n",
       "..            ...       ...       ...  \n",
       "114     -2.382577  0.707434  0.800575  \n",
       "115     -2.659944  0.519187  0.581643  \n",
       "116     -2.359147  0.071001  0.035404  \n",
       "117     -3.049017  0.317546  0.492641  \n",
       "118           NaN  0.053137  0.053875  \n",
       "\n",
       "[119 rows x 43 columns]"
      ]
     },
     "execution_count": 28,
     "metadata": {},
     "output_type": "execute_result"
    }
   ],
   "source": [
    "CLAGN_210919_mass#.columns"
   ]
  },
  {
   "cell_type": "code",
   "execution_count": 25,
   "metadata": {
    "ExecuteTime": {
     "end_time": "2023-09-05T06:50:27.297095Z",
     "start_time": "2023-09-05T06:50:27.034254Z"
    }
   },
   "outputs": [],
   "source": [
    "!open /Users/lyubing/IHEPBox/data/data_lag/"
   ]
  },
  {
   "cell_type": "code",
   "execution_count": 29,
   "metadata": {
    "ExecuteTime": {
     "end_time": "2023-09-05T06:59:15.846009Z",
     "start_time": "2023-09-05T06:59:15.824342Z"
    }
   },
   "outputs": [],
   "source": [
    "#timelag_sources=pd.read_excel('/home/brettlv/Documents/timelag.xlsx',sheet_name='工作表2')\n",
    "timelag_sources=pd.read_csv('/Users/lyubing/IHEPBox/data/data_lag/Timelag_thiswork.csv')\n",
    "#timelag_sources=timelag_sources[timelag_sources['select']==1.0]\n",
    "timelag_sources=timelag_sources.reset_index(drop=True)\n",
    "timelag_sources['Lbol11']=timelag_sources['Lbol']/10**11/(3.828e26*10**7)\n",
    "timelag_sources['logLbol11']=np.log10(timelag_sources['Lbol11'])\n",
    "timelag_sources['logLbol']=np.log10(timelag_sources['Lbol'])"
   ]
  },
  {
   "cell_type": "code",
   "execution_count": 30,
   "metadata": {
    "ExecuteTime": {
     "end_time": "2023-09-05T06:59:16.628014Z",
     "start_time": "2023-09-05T06:59:16.594929Z"
    }
   },
   "outputs": [
    {
     "data": {
      "text/html": [
       "<div>\n",
       "<style scoped>\n",
       "    .dataframe tbody tr th:only-of-type {\n",
       "        vertical-align: middle;\n",
       "    }\n",
       "\n",
       "    .dataframe tbody tr th {\n",
       "        vertical-align: top;\n",
       "    }\n",
       "\n",
       "    .dataframe thead th {\n",
       "        text-align: right;\n",
       "    }\n",
       "</style>\n",
       "<table border=\"1\" class=\"dataframe\">\n",
       "  <thead>\n",
       "    <tr style=\"text-align: right;\">\n",
       "      <th></th>\n",
       "      <th>Name</th>\n",
       "      <th>type</th>\n",
       "      <th>logmass</th>\n",
       "      <th>Lsigma_lo</th>\n",
       "      <th>Lbol</th>\n",
       "      <th>Lsigma_hi</th>\n",
       "      <th>lag_lower_CCFw1</th>\n",
       "      <th>timelag_CCFw1</th>\n",
       "      <th>lag_upper_CCFw1</th>\n",
       "      <th>lag_lower_Jw1</th>\n",
       "      <th>...</th>\n",
       "      <th>lag_upper_Jw1</th>\n",
       "      <th>lag_lower_CCFw2</th>\n",
       "      <th>timelag_CCFw2</th>\n",
       "      <th>lag_upper_CCFw2</th>\n",
       "      <th>lag_lower_Jw2</th>\n",
       "      <th>timelag_Jw2</th>\n",
       "      <th>lag_upper_Jw2</th>\n",
       "      <th>Lbol11</th>\n",
       "      <th>logLbol11</th>\n",
       "      <th>logLbol</th>\n",
       "    </tr>\n",
       "  </thead>\n",
       "  <tbody>\n",
       "    <tr>\n",
       "      <th>0</th>\n",
       "      <td>3C 390.3</td>\n",
       "      <td>CLAGN</td>\n",
       "      <td>9.30</td>\n",
       "      <td>1.180000e+44</td>\n",
       "      <td>6.190000e+45</td>\n",
       "      <td>1.250000e+44</td>\n",
       "      <td>16.6</td>\n",
       "      <td>180.5</td>\n",
       "      <td>18.9</td>\n",
       "      <td>9.5</td>\n",
       "      <td>...</td>\n",
       "      <td>11.3</td>\n",
       "      <td>21.3</td>\n",
       "      <td>184.8</td>\n",
       "      <td>25.0</td>\n",
       "      <td>10.6</td>\n",
       "      <td>200.1</td>\n",
       "      <td>26.4</td>\n",
       "      <td>16.170324</td>\n",
       "      <td>1.208719</td>\n",
       "      <td>45.791691</td>\n",
       "    </tr>\n",
       "    <tr>\n",
       "      <th>1</th>\n",
       "      <td>HE 1136-2304</td>\n",
       "      <td>CLAGN</td>\n",
       "      <td>7.58</td>\n",
       "      <td>3.440000e+43</td>\n",
       "      <td>2.040000e+44</td>\n",
       "      <td>3.850000e+43</td>\n",
       "      <td>43.9</td>\n",
       "      <td>127.6</td>\n",
       "      <td>68.3</td>\n",
       "      <td>47.6</td>\n",
       "      <td>...</td>\n",
       "      <td>54.9</td>\n",
       "      <td>62.6</td>\n",
       "      <td>177.0</td>\n",
       "      <td>70.6</td>\n",
       "      <td>28.9</td>\n",
       "      <td>196.8</td>\n",
       "      <td>50.8</td>\n",
       "      <td>0.532915</td>\n",
       "      <td>-0.273342</td>\n",
       "      <td>44.309630</td>\n",
       "    </tr>\n",
       "    <tr>\n",
       "      <th>2</th>\n",
       "      <td>Mrk 530</td>\n",
       "      <td>CLAGN</td>\n",
       "      <td>8.06</td>\n",
       "      <td>5.200000e+43</td>\n",
       "      <td>8.030000e+44</td>\n",
       "      <td>6.010000e+43</td>\n",
       "      <td>39.7</td>\n",
       "      <td>212.2</td>\n",
       "      <td>15.2</td>\n",
       "      <td>6.5</td>\n",
       "      <td>...</td>\n",
       "      <td>6.1</td>\n",
       "      <td>20.3</td>\n",
       "      <td>215.0</td>\n",
       "      <td>12.9</td>\n",
       "      <td>6.5</td>\n",
       "      <td>216.8</td>\n",
       "      <td>11.4</td>\n",
       "      <td>2.097701</td>\n",
       "      <td>0.321744</td>\n",
       "      <td>44.904716</td>\n",
       "    </tr>\n",
       "    <tr>\n",
       "      <th>3</th>\n",
       "      <td>Mrk 590</td>\n",
       "      <td>CLAGN</td>\n",
       "      <td>7.50</td>\n",
       "      <td>3.400000e+43</td>\n",
       "      <td>1.360000e+44</td>\n",
       "      <td>3.140000e+43</td>\n",
       "      <td>20.0</td>\n",
       "      <td>57.9</td>\n",
       "      <td>17.8</td>\n",
       "      <td>29.2</td>\n",
       "      <td>...</td>\n",
       "      <td>30.6</td>\n",
       "      <td>21.3</td>\n",
       "      <td>56.6</td>\n",
       "      <td>13.8</td>\n",
       "      <td>36.5</td>\n",
       "      <td>115.0</td>\n",
       "      <td>30.1</td>\n",
       "      <td>0.355277</td>\n",
       "      <td>-0.449433</td>\n",
       "      <td>44.133539</td>\n",
       "    </tr>\n",
       "    <tr>\n",
       "      <th>4</th>\n",
       "      <td>Mrk 6</td>\n",
       "      <td>CLAGN</td>\n",
       "      <td>8.18</td>\n",
       "      <td>2.000000e+43</td>\n",
       "      <td>3.900000e+44</td>\n",
       "      <td>1.560000e+43</td>\n",
       "      <td>11.0</td>\n",
       "      <td>141.6</td>\n",
       "      <td>31.7</td>\n",
       "      <td>15.4</td>\n",
       "      <td>...</td>\n",
       "      <td>13.5</td>\n",
       "      <td>15.1</td>\n",
       "      <td>180.4</td>\n",
       "      <td>16.6</td>\n",
       "      <td>34.8</td>\n",
       "      <td>222.8</td>\n",
       "      <td>9.1</td>\n",
       "      <td>1.018809</td>\n",
       "      <td>0.008093</td>\n",
       "      <td>44.591065</td>\n",
       "    </tr>\n",
       "    <tr>\n",
       "      <th>5</th>\n",
       "      <td>Mrk 609</td>\n",
       "      <td>CLAGN</td>\n",
       "      <td>7.80</td>\n",
       "      <td>7.290000e+43</td>\n",
       "      <td>2.700000e+44</td>\n",
       "      <td>7.290000e+43</td>\n",
       "      <td>37.9</td>\n",
       "      <td>173.0</td>\n",
       "      <td>43.6</td>\n",
       "      <td>19.0</td>\n",
       "      <td>...</td>\n",
       "      <td>33.0</td>\n",
       "      <td>60.7</td>\n",
       "      <td>187.0</td>\n",
       "      <td>49.5</td>\n",
       "      <td>18.8</td>\n",
       "      <td>262.3</td>\n",
       "      <td>19.5</td>\n",
       "      <td>0.705329</td>\n",
       "      <td>-0.151608</td>\n",
       "      <td>44.431364</td>\n",
       "    </tr>\n",
       "    <tr>\n",
       "      <th>6</th>\n",
       "      <td>Mrk 926</td>\n",
       "      <td>CLAGN</td>\n",
       "      <td>8.05</td>\n",
       "      <td>1.170000e+44</td>\n",
       "      <td>4.590000e+45</td>\n",
       "      <td>1.100000e+44</td>\n",
       "      <td>31.0</td>\n",
       "      <td>213.8</td>\n",
       "      <td>25.3</td>\n",
       "      <td>9.8</td>\n",
       "      <td>...</td>\n",
       "      <td>11.7</td>\n",
       "      <td>38.3</td>\n",
       "      <td>252.5</td>\n",
       "      <td>27.5</td>\n",
       "      <td>13.3</td>\n",
       "      <td>273.1</td>\n",
       "      <td>14.2</td>\n",
       "      <td>11.990596</td>\n",
       "      <td>1.078841</td>\n",
       "      <td>45.661813</td>\n",
       "    </tr>\n",
       "    <tr>\n",
       "      <th>7</th>\n",
       "      <td>NGC 1566</td>\n",
       "      <td>CLAGN</td>\n",
       "      <td>6.90</td>\n",
       "      <td>8.290000e+41</td>\n",
       "      <td>8.710000e+42</td>\n",
       "      <td>8.740000e+41</td>\n",
       "      <td>11.9</td>\n",
       "      <td>37.1</td>\n",
       "      <td>23.2</td>\n",
       "      <td>7.1</td>\n",
       "      <td>...</td>\n",
       "      <td>8.5</td>\n",
       "      <td>12.2</td>\n",
       "      <td>37.6</td>\n",
       "      <td>27.8</td>\n",
       "      <td>3.5</td>\n",
       "      <td>23.1</td>\n",
       "      <td>11.8</td>\n",
       "      <td>0.022753</td>\n",
       "      <td>-1.642954</td>\n",
       "      <td>42.940018</td>\n",
       "    </tr>\n",
       "    <tr>\n",
       "      <th>8</th>\n",
       "      <td>NGC 2617</td>\n",
       "      <td>CLAGN</td>\n",
       "      <td>NaN</td>\n",
       "      <td>1.340000e+43</td>\n",
       "      <td>5.830000e+43</td>\n",
       "      <td>9.460000e+42</td>\n",
       "      <td>17.6</td>\n",
       "      <td>93.8</td>\n",
       "      <td>17.0</td>\n",
       "      <td>12.6</td>\n",
       "      <td>...</td>\n",
       "      <td>11.9</td>\n",
       "      <td>17.0</td>\n",
       "      <td>93.5</td>\n",
       "      <td>19.1</td>\n",
       "      <td>16.0</td>\n",
       "      <td>73.9</td>\n",
       "      <td>9.7</td>\n",
       "      <td>0.152299</td>\n",
       "      <td>-0.817303</td>\n",
       "      <td>43.765669</td>\n",
       "    </tr>\n",
       "    <tr>\n",
       "      <th>9</th>\n",
       "      <td>NGC 3516</td>\n",
       "      <td>CLAGN</td>\n",
       "      <td>7.49</td>\n",
       "      <td>3.100000e+42</td>\n",
       "      <td>1.560000e+44</td>\n",
       "      <td>3.250000e+42</td>\n",
       "      <td>31.4</td>\n",
       "      <td>91.1</td>\n",
       "      <td>64.0</td>\n",
       "      <td>34.1</td>\n",
       "      <td>...</td>\n",
       "      <td>48.5</td>\n",
       "      <td>28.5</td>\n",
       "      <td>100.7</td>\n",
       "      <td>54.4</td>\n",
       "      <td>37.5</td>\n",
       "      <td>119.8</td>\n",
       "      <td>43.3</td>\n",
       "      <td>0.407524</td>\n",
       "      <td>-0.389847</td>\n",
       "      <td>44.193125</td>\n",
       "    </tr>\n",
       "    <tr>\n",
       "      <th>10</th>\n",
       "      <td>NGC 4051</td>\n",
       "      <td>CLAGN X</td>\n",
       "      <td>6.36</td>\n",
       "      <td>1.670000e+41</td>\n",
       "      <td>4.100000e+42</td>\n",
       "      <td>1.360000e+41</td>\n",
       "      <td>10.0</td>\n",
       "      <td>22.3</td>\n",
       "      <td>10.4</td>\n",
       "      <td>11.4</td>\n",
       "      <td>...</td>\n",
       "      <td>17.0</td>\n",
       "      <td>12.2</td>\n",
       "      <td>24.8</td>\n",
       "      <td>10.2</td>\n",
       "      <td>12.3</td>\n",
       "      <td>29.0</td>\n",
       "      <td>20.9</td>\n",
       "      <td>0.010711</td>\n",
       "      <td>-1.970188</td>\n",
       "      <td>42.612784</td>\n",
       "    </tr>\n",
       "    <tr>\n",
       "      <th>11</th>\n",
       "      <td>NGC 4151</td>\n",
       "      <td>CLAGN</td>\n",
       "      <td>7.56</td>\n",
       "      <td>4.910000e+41</td>\n",
       "      <td>1.210000e+44</td>\n",
       "      <td>4.770000e+41</td>\n",
       "      <td>19.5</td>\n",
       "      <td>74.4</td>\n",
       "      <td>40.8</td>\n",
       "      <td>12.9</td>\n",
       "      <td>...</td>\n",
       "      <td>26.1</td>\n",
       "      <td>32.6</td>\n",
       "      <td>99.3</td>\n",
       "      <td>40.7</td>\n",
       "      <td>12.2</td>\n",
       "      <td>89.4</td>\n",
       "      <td>17.0</td>\n",
       "      <td>0.316092</td>\n",
       "      <td>-0.500187</td>\n",
       "      <td>44.082785</td>\n",
       "    </tr>\n",
       "    <tr>\n",
       "      <th>12</th>\n",
       "      <td>NGC 5548</td>\n",
       "      <td>CLAGN</td>\n",
       "      <td>7.51</td>\n",
       "      <td>1.210000e+43</td>\n",
       "      <td>4.600000e+44</td>\n",
       "      <td>1.250000e+43</td>\n",
       "      <td>31.7</td>\n",
       "      <td>162.7</td>\n",
       "      <td>37.2</td>\n",
       "      <td>4.8</td>\n",
       "      <td>...</td>\n",
       "      <td>5.7</td>\n",
       "      <td>29.0</td>\n",
       "      <td>207.3</td>\n",
       "      <td>25.7</td>\n",
       "      <td>5.7</td>\n",
       "      <td>236.3</td>\n",
       "      <td>4.7</td>\n",
       "      <td>1.201672</td>\n",
       "      <td>0.079786</td>\n",
       "      <td>44.662758</td>\n",
       "    </tr>\n",
       "    <tr>\n",
       "      <th>13</th>\n",
       "      <td>NGC 7469</td>\n",
       "      <td>CLAGN X</td>\n",
       "      <td>7.32</td>\n",
       "      <td>1.250000e+43</td>\n",
       "      <td>3.390000e+44</td>\n",
       "      <td>1.160000e+43</td>\n",
       "      <td>22.4</td>\n",
       "      <td>131.2</td>\n",
       "      <td>37.9</td>\n",
       "      <td>11.9</td>\n",
       "      <td>...</td>\n",
       "      <td>8.5</td>\n",
       "      <td>29.5</td>\n",
       "      <td>159.7</td>\n",
       "      <td>39.4</td>\n",
       "      <td>11.2</td>\n",
       "      <td>152.4</td>\n",
       "      <td>17.5</td>\n",
       "      <td>0.885580</td>\n",
       "      <td>-0.052772</td>\n",
       "      <td>44.530200</td>\n",
       "    </tr>\n",
       "    <tr>\n",
       "      <th>14</th>\n",
       "      <td>PG 1535+547</td>\n",
       "      <td>CLAGN X</td>\n",
       "      <td>7.34</td>\n",
       "      <td>1.400000e+44</td>\n",
       "      <td>1.400000e+45</td>\n",
       "      <td>1.400000e+44</td>\n",
       "      <td>25.6</td>\n",
       "      <td>155.0</td>\n",
       "      <td>22.0</td>\n",
       "      <td>4.0</td>\n",
       "      <td>...</td>\n",
       "      <td>11.7</td>\n",
       "      <td>35.4</td>\n",
       "      <td>160.9</td>\n",
       "      <td>19.5</td>\n",
       "      <td>5.3</td>\n",
       "      <td>176.4</td>\n",
       "      <td>6.4</td>\n",
       "      <td>3.657262</td>\n",
       "      <td>0.563156</td>\n",
       "      <td>45.146128</td>\n",
       "    </tr>\n",
       "  </tbody>\n",
       "</table>\n",
       "<p>15 rows × 21 columns</p>\n",
       "</div>"
      ],
      "text/plain": [
       "            Name     type  logmass     Lsigma_lo          Lbol     Lsigma_hi  \\\n",
       "0       3C 390.3    CLAGN     9.30  1.180000e+44  6.190000e+45  1.250000e+44   \n",
       "1   HE 1136-2304    CLAGN     7.58  3.440000e+43  2.040000e+44  3.850000e+43   \n",
       "2        Mrk 530    CLAGN     8.06  5.200000e+43  8.030000e+44  6.010000e+43   \n",
       "3        Mrk 590    CLAGN     7.50  3.400000e+43  1.360000e+44  3.140000e+43   \n",
       "4          Mrk 6    CLAGN     8.18  2.000000e+43  3.900000e+44  1.560000e+43   \n",
       "5        Mrk 609    CLAGN     7.80  7.290000e+43  2.700000e+44  7.290000e+43   \n",
       "6        Mrk 926    CLAGN     8.05  1.170000e+44  4.590000e+45  1.100000e+44   \n",
       "7       NGC 1566    CLAGN     6.90  8.290000e+41  8.710000e+42  8.740000e+41   \n",
       "8       NGC 2617    CLAGN      NaN  1.340000e+43  5.830000e+43  9.460000e+42   \n",
       "9       NGC 3516    CLAGN     7.49  3.100000e+42  1.560000e+44  3.250000e+42   \n",
       "10      NGC 4051  CLAGN X     6.36  1.670000e+41  4.100000e+42  1.360000e+41   \n",
       "11      NGC 4151    CLAGN     7.56  4.910000e+41  1.210000e+44  4.770000e+41   \n",
       "12      NGC 5548    CLAGN     7.51  1.210000e+43  4.600000e+44  1.250000e+43   \n",
       "13      NGC 7469  CLAGN X     7.32  1.250000e+43  3.390000e+44  1.160000e+43   \n",
       "14   PG 1535+547  CLAGN X     7.34  1.400000e+44  1.400000e+45  1.400000e+44   \n",
       "\n",
       "    lag_lower_CCFw1  timelag_CCFw1  lag_upper_CCFw1  lag_lower_Jw1  ...  \\\n",
       "0              16.6          180.5             18.9            9.5  ...   \n",
       "1              43.9          127.6             68.3           47.6  ...   \n",
       "2              39.7          212.2             15.2            6.5  ...   \n",
       "3              20.0           57.9             17.8           29.2  ...   \n",
       "4              11.0          141.6             31.7           15.4  ...   \n",
       "5              37.9          173.0             43.6           19.0  ...   \n",
       "6              31.0          213.8             25.3            9.8  ...   \n",
       "7              11.9           37.1             23.2            7.1  ...   \n",
       "8              17.6           93.8             17.0           12.6  ...   \n",
       "9              31.4           91.1             64.0           34.1  ...   \n",
       "10             10.0           22.3             10.4           11.4  ...   \n",
       "11             19.5           74.4             40.8           12.9  ...   \n",
       "12             31.7          162.7             37.2            4.8  ...   \n",
       "13             22.4          131.2             37.9           11.9  ...   \n",
       "14             25.6          155.0             22.0            4.0  ...   \n",
       "\n",
       "    lag_upper_Jw1  lag_lower_CCFw2  timelag_CCFw2  lag_upper_CCFw2  \\\n",
       "0            11.3             21.3          184.8             25.0   \n",
       "1            54.9             62.6          177.0             70.6   \n",
       "2             6.1             20.3          215.0             12.9   \n",
       "3            30.6             21.3           56.6             13.8   \n",
       "4            13.5             15.1          180.4             16.6   \n",
       "5            33.0             60.7          187.0             49.5   \n",
       "6            11.7             38.3          252.5             27.5   \n",
       "7             8.5             12.2           37.6             27.8   \n",
       "8            11.9             17.0           93.5             19.1   \n",
       "9            48.5             28.5          100.7             54.4   \n",
       "10           17.0             12.2           24.8             10.2   \n",
       "11           26.1             32.6           99.3             40.7   \n",
       "12            5.7             29.0          207.3             25.7   \n",
       "13            8.5             29.5          159.7             39.4   \n",
       "14           11.7             35.4          160.9             19.5   \n",
       "\n",
       "    lag_lower_Jw2  timelag_Jw2  lag_upper_Jw2     Lbol11  logLbol11    logLbol  \n",
       "0            10.6        200.1           26.4  16.170324   1.208719  45.791691  \n",
       "1            28.9        196.8           50.8   0.532915  -0.273342  44.309630  \n",
       "2             6.5        216.8           11.4   2.097701   0.321744  44.904716  \n",
       "3            36.5        115.0           30.1   0.355277  -0.449433  44.133539  \n",
       "4            34.8        222.8            9.1   1.018809   0.008093  44.591065  \n",
       "5            18.8        262.3           19.5   0.705329  -0.151608  44.431364  \n",
       "6            13.3        273.1           14.2  11.990596   1.078841  45.661813  \n",
       "7             3.5         23.1           11.8   0.022753  -1.642954  42.940018  \n",
       "8            16.0         73.9            9.7   0.152299  -0.817303  43.765669  \n",
       "9            37.5        119.8           43.3   0.407524  -0.389847  44.193125  \n",
       "10           12.3         29.0           20.9   0.010711  -1.970188  42.612784  \n",
       "11           12.2         89.4           17.0   0.316092  -0.500187  44.082785  \n",
       "12            5.7        236.3            4.7   1.201672   0.079786  44.662758  \n",
       "13           11.2        152.4           17.5   0.885580  -0.052772  44.530200  \n",
       "14            5.3        176.4            6.4   3.657262   0.563156  45.146128  \n",
       "\n",
       "[15 rows x 21 columns]"
      ]
     },
     "execution_count": 30,
     "metadata": {},
     "output_type": "execute_result"
    }
   ],
   "source": [
    "timelag_sources"
   ]
  },
  {
   "cell_type": "code",
   "execution_count": 34,
   "metadata": {
    "ExecuteTime": {
     "end_time": "2023-09-05T07:00:56.929350Z",
     "start_time": "2023-09-05T07:00:56.920268Z"
    }
   },
   "outputs": [],
   "source": [
    "timelag_sources['log(Lw1/Lbol)']=0"
   ]
  },
  {
   "cell_type": "code",
   "execution_count": 37,
   "metadata": {
    "ExecuteTime": {
     "end_time": "2023-09-05T07:01:21.589445Z",
     "start_time": "2023-09-05T07:01:21.567317Z"
    }
   },
   "outputs": [
    {
     "name": "stdout",
     "output_type": "stream",
     "text": [
      "3C 390.3 -1.447998644406745\n",
      "HE 1136-2304 -0.9987442040834935\n",
      "Mrk 530 -0.6029765402141081\n",
      "Mrk 590 -0.5933816376714773\n",
      "Mrk 6 -0.6550822516113044\n",
      "Mrk 609 -0.7386144948463667\n",
      "Mrk 926 -1.3419153113945441\n",
      "NGC 1566 -0.29776646853439104\n",
      "NGC 2617 -0.733839314337736\n",
      "NGC 3516 -1.0587846567442654\n",
      "NGC 4051 -0.6676544491772916\n",
      "NGC 4151 -1.1972565709642282\n",
      "NGC 5548 -0.9937712961083633\n",
      "NGC 7469 -0.6395307392923044\n",
      "PG 1535+547 -1.0892898439554486\n"
     ]
    }
   ],
   "source": [
    "for index,Lbol in enumerate(timelag_sources['logLbol']):\n",
    "    name=timelag_sources.loc[index,'Name']#.strip().relace(' ','')\n",
    "    select_= CLAGN_210919_mass[CLAGN_210919_mass['Name']==name]\n",
    "    if len(select_)>0:\n",
    "        select_=drop_index(select_)\n",
    "        Lw1=select_.loc[0,'logL_W1']\n",
    "        print(name, Lw1-Lbol)\n",
    "        timelag_sources.loc[index,'log(Lw1/Lbol)']=Lw1-Lbol\n",
    "        "
   ]
  },
  {
   "cell_type": "code",
   "execution_count": 38,
   "metadata": {
    "ExecuteTime": {
     "end_time": "2023-09-05T07:01:22.854489Z",
     "start_time": "2023-09-05T07:01:22.820321Z"
    }
   },
   "outputs": [
    {
     "data": {
      "text/html": [
       "<div>\n",
       "<style scoped>\n",
       "    .dataframe tbody tr th:only-of-type {\n",
       "        vertical-align: middle;\n",
       "    }\n",
       "\n",
       "    .dataframe tbody tr th {\n",
       "        vertical-align: top;\n",
       "    }\n",
       "\n",
       "    .dataframe thead th {\n",
       "        text-align: right;\n",
       "    }\n",
       "</style>\n",
       "<table border=\"1\" class=\"dataframe\">\n",
       "  <thead>\n",
       "    <tr style=\"text-align: right;\">\n",
       "      <th></th>\n",
       "      <th>Name</th>\n",
       "      <th>type</th>\n",
       "      <th>logmass</th>\n",
       "      <th>Lsigma_lo</th>\n",
       "      <th>Lbol</th>\n",
       "      <th>Lsigma_hi</th>\n",
       "      <th>lag_lower_CCFw1</th>\n",
       "      <th>timelag_CCFw1</th>\n",
       "      <th>lag_upper_CCFw1</th>\n",
       "      <th>lag_lower_Jw1</th>\n",
       "      <th>...</th>\n",
       "      <th>lag_lower_CCFw2</th>\n",
       "      <th>timelag_CCFw2</th>\n",
       "      <th>lag_upper_CCFw2</th>\n",
       "      <th>lag_lower_Jw2</th>\n",
       "      <th>timelag_Jw2</th>\n",
       "      <th>lag_upper_Jw2</th>\n",
       "      <th>Lbol11</th>\n",
       "      <th>logLbol11</th>\n",
       "      <th>logLbol</th>\n",
       "      <th>log(Lw1/Lbol)</th>\n",
       "    </tr>\n",
       "  </thead>\n",
       "  <tbody>\n",
       "    <tr>\n",
       "      <th>0</th>\n",
       "      <td>3C 390.3</td>\n",
       "      <td>CLAGN</td>\n",
       "      <td>9.30</td>\n",
       "      <td>1.180000e+44</td>\n",
       "      <td>6.190000e+45</td>\n",
       "      <td>1.250000e+44</td>\n",
       "      <td>16.6</td>\n",
       "      <td>180.5</td>\n",
       "      <td>18.9</td>\n",
       "      <td>9.5</td>\n",
       "      <td>...</td>\n",
       "      <td>21.3</td>\n",
       "      <td>184.8</td>\n",
       "      <td>25.0</td>\n",
       "      <td>10.6</td>\n",
       "      <td>200.1</td>\n",
       "      <td>26.4</td>\n",
       "      <td>16.170324</td>\n",
       "      <td>1.208719</td>\n",
       "      <td>45.791691</td>\n",
       "      <td>-1.447999</td>\n",
       "    </tr>\n",
       "    <tr>\n",
       "      <th>1</th>\n",
       "      <td>HE 1136-2304</td>\n",
       "      <td>CLAGN</td>\n",
       "      <td>7.58</td>\n",
       "      <td>3.440000e+43</td>\n",
       "      <td>2.040000e+44</td>\n",
       "      <td>3.850000e+43</td>\n",
       "      <td>43.9</td>\n",
       "      <td>127.6</td>\n",
       "      <td>68.3</td>\n",
       "      <td>47.6</td>\n",
       "      <td>...</td>\n",
       "      <td>62.6</td>\n",
       "      <td>177.0</td>\n",
       "      <td>70.6</td>\n",
       "      <td>28.9</td>\n",
       "      <td>196.8</td>\n",
       "      <td>50.8</td>\n",
       "      <td>0.532915</td>\n",
       "      <td>-0.273342</td>\n",
       "      <td>44.309630</td>\n",
       "      <td>-0.998744</td>\n",
       "    </tr>\n",
       "    <tr>\n",
       "      <th>2</th>\n",
       "      <td>Mrk 530</td>\n",
       "      <td>CLAGN</td>\n",
       "      <td>8.06</td>\n",
       "      <td>5.200000e+43</td>\n",
       "      <td>8.030000e+44</td>\n",
       "      <td>6.010000e+43</td>\n",
       "      <td>39.7</td>\n",
       "      <td>212.2</td>\n",
       "      <td>15.2</td>\n",
       "      <td>6.5</td>\n",
       "      <td>...</td>\n",
       "      <td>20.3</td>\n",
       "      <td>215.0</td>\n",
       "      <td>12.9</td>\n",
       "      <td>6.5</td>\n",
       "      <td>216.8</td>\n",
       "      <td>11.4</td>\n",
       "      <td>2.097701</td>\n",
       "      <td>0.321744</td>\n",
       "      <td>44.904716</td>\n",
       "      <td>-0.602977</td>\n",
       "    </tr>\n",
       "    <tr>\n",
       "      <th>3</th>\n",
       "      <td>Mrk 590</td>\n",
       "      <td>CLAGN</td>\n",
       "      <td>7.50</td>\n",
       "      <td>3.400000e+43</td>\n",
       "      <td>1.360000e+44</td>\n",
       "      <td>3.140000e+43</td>\n",
       "      <td>20.0</td>\n",
       "      <td>57.9</td>\n",
       "      <td>17.8</td>\n",
       "      <td>29.2</td>\n",
       "      <td>...</td>\n",
       "      <td>21.3</td>\n",
       "      <td>56.6</td>\n",
       "      <td>13.8</td>\n",
       "      <td>36.5</td>\n",
       "      <td>115.0</td>\n",
       "      <td>30.1</td>\n",
       "      <td>0.355277</td>\n",
       "      <td>-0.449433</td>\n",
       "      <td>44.133539</td>\n",
       "      <td>-0.593382</td>\n",
       "    </tr>\n",
       "    <tr>\n",
       "      <th>4</th>\n",
       "      <td>Mrk 6</td>\n",
       "      <td>CLAGN</td>\n",
       "      <td>8.18</td>\n",
       "      <td>2.000000e+43</td>\n",
       "      <td>3.900000e+44</td>\n",
       "      <td>1.560000e+43</td>\n",
       "      <td>11.0</td>\n",
       "      <td>141.6</td>\n",
       "      <td>31.7</td>\n",
       "      <td>15.4</td>\n",
       "      <td>...</td>\n",
       "      <td>15.1</td>\n",
       "      <td>180.4</td>\n",
       "      <td>16.6</td>\n",
       "      <td>34.8</td>\n",
       "      <td>222.8</td>\n",
       "      <td>9.1</td>\n",
       "      <td>1.018809</td>\n",
       "      <td>0.008093</td>\n",
       "      <td>44.591065</td>\n",
       "      <td>-0.655082</td>\n",
       "    </tr>\n",
       "    <tr>\n",
       "      <th>5</th>\n",
       "      <td>Mrk 609</td>\n",
       "      <td>CLAGN</td>\n",
       "      <td>7.80</td>\n",
       "      <td>7.290000e+43</td>\n",
       "      <td>2.700000e+44</td>\n",
       "      <td>7.290000e+43</td>\n",
       "      <td>37.9</td>\n",
       "      <td>173.0</td>\n",
       "      <td>43.6</td>\n",
       "      <td>19.0</td>\n",
       "      <td>...</td>\n",
       "      <td>60.7</td>\n",
       "      <td>187.0</td>\n",
       "      <td>49.5</td>\n",
       "      <td>18.8</td>\n",
       "      <td>262.3</td>\n",
       "      <td>19.5</td>\n",
       "      <td>0.705329</td>\n",
       "      <td>-0.151608</td>\n",
       "      <td>44.431364</td>\n",
       "      <td>-0.738614</td>\n",
       "    </tr>\n",
       "    <tr>\n",
       "      <th>6</th>\n",
       "      <td>Mrk 926</td>\n",
       "      <td>CLAGN</td>\n",
       "      <td>8.05</td>\n",
       "      <td>1.170000e+44</td>\n",
       "      <td>4.590000e+45</td>\n",
       "      <td>1.100000e+44</td>\n",
       "      <td>31.0</td>\n",
       "      <td>213.8</td>\n",
       "      <td>25.3</td>\n",
       "      <td>9.8</td>\n",
       "      <td>...</td>\n",
       "      <td>38.3</td>\n",
       "      <td>252.5</td>\n",
       "      <td>27.5</td>\n",
       "      <td>13.3</td>\n",
       "      <td>273.1</td>\n",
       "      <td>14.2</td>\n",
       "      <td>11.990596</td>\n",
       "      <td>1.078841</td>\n",
       "      <td>45.661813</td>\n",
       "      <td>-1.341915</td>\n",
       "    </tr>\n",
       "    <tr>\n",
       "      <th>7</th>\n",
       "      <td>NGC 1566</td>\n",
       "      <td>CLAGN</td>\n",
       "      <td>6.90</td>\n",
       "      <td>8.290000e+41</td>\n",
       "      <td>8.710000e+42</td>\n",
       "      <td>8.740000e+41</td>\n",
       "      <td>11.9</td>\n",
       "      <td>37.1</td>\n",
       "      <td>23.2</td>\n",
       "      <td>7.1</td>\n",
       "      <td>...</td>\n",
       "      <td>12.2</td>\n",
       "      <td>37.6</td>\n",
       "      <td>27.8</td>\n",
       "      <td>3.5</td>\n",
       "      <td>23.1</td>\n",
       "      <td>11.8</td>\n",
       "      <td>0.022753</td>\n",
       "      <td>-1.642954</td>\n",
       "      <td>42.940018</td>\n",
       "      <td>-0.297766</td>\n",
       "    </tr>\n",
       "    <tr>\n",
       "      <th>8</th>\n",
       "      <td>NGC 2617</td>\n",
       "      <td>CLAGN</td>\n",
       "      <td>NaN</td>\n",
       "      <td>1.340000e+43</td>\n",
       "      <td>5.830000e+43</td>\n",
       "      <td>9.460000e+42</td>\n",
       "      <td>17.6</td>\n",
       "      <td>93.8</td>\n",
       "      <td>17.0</td>\n",
       "      <td>12.6</td>\n",
       "      <td>...</td>\n",
       "      <td>17.0</td>\n",
       "      <td>93.5</td>\n",
       "      <td>19.1</td>\n",
       "      <td>16.0</td>\n",
       "      <td>73.9</td>\n",
       "      <td>9.7</td>\n",
       "      <td>0.152299</td>\n",
       "      <td>-0.817303</td>\n",
       "      <td>43.765669</td>\n",
       "      <td>-0.733839</td>\n",
       "    </tr>\n",
       "    <tr>\n",
       "      <th>9</th>\n",
       "      <td>NGC 3516</td>\n",
       "      <td>CLAGN</td>\n",
       "      <td>7.49</td>\n",
       "      <td>3.100000e+42</td>\n",
       "      <td>1.560000e+44</td>\n",
       "      <td>3.250000e+42</td>\n",
       "      <td>31.4</td>\n",
       "      <td>91.1</td>\n",
       "      <td>64.0</td>\n",
       "      <td>34.1</td>\n",
       "      <td>...</td>\n",
       "      <td>28.5</td>\n",
       "      <td>100.7</td>\n",
       "      <td>54.4</td>\n",
       "      <td>37.5</td>\n",
       "      <td>119.8</td>\n",
       "      <td>43.3</td>\n",
       "      <td>0.407524</td>\n",
       "      <td>-0.389847</td>\n",
       "      <td>44.193125</td>\n",
       "      <td>-1.058785</td>\n",
       "    </tr>\n",
       "    <tr>\n",
       "      <th>10</th>\n",
       "      <td>NGC 4051</td>\n",
       "      <td>CLAGN X</td>\n",
       "      <td>6.36</td>\n",
       "      <td>1.670000e+41</td>\n",
       "      <td>4.100000e+42</td>\n",
       "      <td>1.360000e+41</td>\n",
       "      <td>10.0</td>\n",
       "      <td>22.3</td>\n",
       "      <td>10.4</td>\n",
       "      <td>11.4</td>\n",
       "      <td>...</td>\n",
       "      <td>12.2</td>\n",
       "      <td>24.8</td>\n",
       "      <td>10.2</td>\n",
       "      <td>12.3</td>\n",
       "      <td>29.0</td>\n",
       "      <td>20.9</td>\n",
       "      <td>0.010711</td>\n",
       "      <td>-1.970188</td>\n",
       "      <td>42.612784</td>\n",
       "      <td>-0.667654</td>\n",
       "    </tr>\n",
       "    <tr>\n",
       "      <th>11</th>\n",
       "      <td>NGC 4151</td>\n",
       "      <td>CLAGN</td>\n",
       "      <td>7.56</td>\n",
       "      <td>4.910000e+41</td>\n",
       "      <td>1.210000e+44</td>\n",
       "      <td>4.770000e+41</td>\n",
       "      <td>19.5</td>\n",
       "      <td>74.4</td>\n",
       "      <td>40.8</td>\n",
       "      <td>12.9</td>\n",
       "      <td>...</td>\n",
       "      <td>32.6</td>\n",
       "      <td>99.3</td>\n",
       "      <td>40.7</td>\n",
       "      <td>12.2</td>\n",
       "      <td>89.4</td>\n",
       "      <td>17.0</td>\n",
       "      <td>0.316092</td>\n",
       "      <td>-0.500187</td>\n",
       "      <td>44.082785</td>\n",
       "      <td>-1.197257</td>\n",
       "    </tr>\n",
       "    <tr>\n",
       "      <th>12</th>\n",
       "      <td>NGC 5548</td>\n",
       "      <td>CLAGN</td>\n",
       "      <td>7.51</td>\n",
       "      <td>1.210000e+43</td>\n",
       "      <td>4.600000e+44</td>\n",
       "      <td>1.250000e+43</td>\n",
       "      <td>31.7</td>\n",
       "      <td>162.7</td>\n",
       "      <td>37.2</td>\n",
       "      <td>4.8</td>\n",
       "      <td>...</td>\n",
       "      <td>29.0</td>\n",
       "      <td>207.3</td>\n",
       "      <td>25.7</td>\n",
       "      <td>5.7</td>\n",
       "      <td>236.3</td>\n",
       "      <td>4.7</td>\n",
       "      <td>1.201672</td>\n",
       "      <td>0.079786</td>\n",
       "      <td>44.662758</td>\n",
       "      <td>-0.993771</td>\n",
       "    </tr>\n",
       "    <tr>\n",
       "      <th>13</th>\n",
       "      <td>NGC 7469</td>\n",
       "      <td>CLAGN X</td>\n",
       "      <td>7.32</td>\n",
       "      <td>1.250000e+43</td>\n",
       "      <td>3.390000e+44</td>\n",
       "      <td>1.160000e+43</td>\n",
       "      <td>22.4</td>\n",
       "      <td>131.2</td>\n",
       "      <td>37.9</td>\n",
       "      <td>11.9</td>\n",
       "      <td>...</td>\n",
       "      <td>29.5</td>\n",
       "      <td>159.7</td>\n",
       "      <td>39.4</td>\n",
       "      <td>11.2</td>\n",
       "      <td>152.4</td>\n",
       "      <td>17.5</td>\n",
       "      <td>0.885580</td>\n",
       "      <td>-0.052772</td>\n",
       "      <td>44.530200</td>\n",
       "      <td>-0.639531</td>\n",
       "    </tr>\n",
       "    <tr>\n",
       "      <th>14</th>\n",
       "      <td>PG 1535+547</td>\n",
       "      <td>CLAGN X</td>\n",
       "      <td>7.34</td>\n",
       "      <td>1.400000e+44</td>\n",
       "      <td>1.400000e+45</td>\n",
       "      <td>1.400000e+44</td>\n",
       "      <td>25.6</td>\n",
       "      <td>155.0</td>\n",
       "      <td>22.0</td>\n",
       "      <td>4.0</td>\n",
       "      <td>...</td>\n",
       "      <td>35.4</td>\n",
       "      <td>160.9</td>\n",
       "      <td>19.5</td>\n",
       "      <td>5.3</td>\n",
       "      <td>176.4</td>\n",
       "      <td>6.4</td>\n",
       "      <td>3.657262</td>\n",
       "      <td>0.563156</td>\n",
       "      <td>45.146128</td>\n",
       "      <td>-1.089290</td>\n",
       "    </tr>\n",
       "  </tbody>\n",
       "</table>\n",
       "<p>15 rows × 22 columns</p>\n",
       "</div>"
      ],
      "text/plain": [
       "            Name     type  logmass     Lsigma_lo          Lbol     Lsigma_hi  \\\n",
       "0       3C 390.3    CLAGN     9.30  1.180000e+44  6.190000e+45  1.250000e+44   \n",
       "1   HE 1136-2304    CLAGN     7.58  3.440000e+43  2.040000e+44  3.850000e+43   \n",
       "2        Mrk 530    CLAGN     8.06  5.200000e+43  8.030000e+44  6.010000e+43   \n",
       "3        Mrk 590    CLAGN     7.50  3.400000e+43  1.360000e+44  3.140000e+43   \n",
       "4          Mrk 6    CLAGN     8.18  2.000000e+43  3.900000e+44  1.560000e+43   \n",
       "5        Mrk 609    CLAGN     7.80  7.290000e+43  2.700000e+44  7.290000e+43   \n",
       "6        Mrk 926    CLAGN     8.05  1.170000e+44  4.590000e+45  1.100000e+44   \n",
       "7       NGC 1566    CLAGN     6.90  8.290000e+41  8.710000e+42  8.740000e+41   \n",
       "8       NGC 2617    CLAGN      NaN  1.340000e+43  5.830000e+43  9.460000e+42   \n",
       "9       NGC 3516    CLAGN     7.49  3.100000e+42  1.560000e+44  3.250000e+42   \n",
       "10      NGC 4051  CLAGN X     6.36  1.670000e+41  4.100000e+42  1.360000e+41   \n",
       "11      NGC 4151    CLAGN     7.56  4.910000e+41  1.210000e+44  4.770000e+41   \n",
       "12      NGC 5548    CLAGN     7.51  1.210000e+43  4.600000e+44  1.250000e+43   \n",
       "13      NGC 7469  CLAGN X     7.32  1.250000e+43  3.390000e+44  1.160000e+43   \n",
       "14   PG 1535+547  CLAGN X     7.34  1.400000e+44  1.400000e+45  1.400000e+44   \n",
       "\n",
       "    lag_lower_CCFw1  timelag_CCFw1  lag_upper_CCFw1  lag_lower_Jw1  ...  \\\n",
       "0              16.6          180.5             18.9            9.5  ...   \n",
       "1              43.9          127.6             68.3           47.6  ...   \n",
       "2              39.7          212.2             15.2            6.5  ...   \n",
       "3              20.0           57.9             17.8           29.2  ...   \n",
       "4              11.0          141.6             31.7           15.4  ...   \n",
       "5              37.9          173.0             43.6           19.0  ...   \n",
       "6              31.0          213.8             25.3            9.8  ...   \n",
       "7              11.9           37.1             23.2            7.1  ...   \n",
       "8              17.6           93.8             17.0           12.6  ...   \n",
       "9              31.4           91.1             64.0           34.1  ...   \n",
       "10             10.0           22.3             10.4           11.4  ...   \n",
       "11             19.5           74.4             40.8           12.9  ...   \n",
       "12             31.7          162.7             37.2            4.8  ...   \n",
       "13             22.4          131.2             37.9           11.9  ...   \n",
       "14             25.6          155.0             22.0            4.0  ...   \n",
       "\n",
       "    lag_lower_CCFw2  timelag_CCFw2  lag_upper_CCFw2  lag_lower_Jw2  \\\n",
       "0              21.3          184.8             25.0           10.6   \n",
       "1              62.6          177.0             70.6           28.9   \n",
       "2              20.3          215.0             12.9            6.5   \n",
       "3              21.3           56.6             13.8           36.5   \n",
       "4              15.1          180.4             16.6           34.8   \n",
       "5              60.7          187.0             49.5           18.8   \n",
       "6              38.3          252.5             27.5           13.3   \n",
       "7              12.2           37.6             27.8            3.5   \n",
       "8              17.0           93.5             19.1           16.0   \n",
       "9              28.5          100.7             54.4           37.5   \n",
       "10             12.2           24.8             10.2           12.3   \n",
       "11             32.6           99.3             40.7           12.2   \n",
       "12             29.0          207.3             25.7            5.7   \n",
       "13             29.5          159.7             39.4           11.2   \n",
       "14             35.4          160.9             19.5            5.3   \n",
       "\n",
       "    timelag_Jw2  lag_upper_Jw2     Lbol11  logLbol11    logLbol  log(Lw1/Lbol)  \n",
       "0         200.1           26.4  16.170324   1.208719  45.791691      -1.447999  \n",
       "1         196.8           50.8   0.532915  -0.273342  44.309630      -0.998744  \n",
       "2         216.8           11.4   2.097701   0.321744  44.904716      -0.602977  \n",
       "3         115.0           30.1   0.355277  -0.449433  44.133539      -0.593382  \n",
       "4         222.8            9.1   1.018809   0.008093  44.591065      -0.655082  \n",
       "5         262.3           19.5   0.705329  -0.151608  44.431364      -0.738614  \n",
       "6         273.1           14.2  11.990596   1.078841  45.661813      -1.341915  \n",
       "7          23.1           11.8   0.022753  -1.642954  42.940018      -0.297766  \n",
       "8          73.9            9.7   0.152299  -0.817303  43.765669      -0.733839  \n",
       "9         119.8           43.3   0.407524  -0.389847  44.193125      -1.058785  \n",
       "10         29.0           20.9   0.010711  -1.970188  42.612784      -0.667654  \n",
       "11         89.4           17.0   0.316092  -0.500187  44.082785      -1.197257  \n",
       "12        236.3            4.7   1.201672   0.079786  44.662758      -0.993771  \n",
       "13        152.4           17.5   0.885580  -0.052772  44.530200      -0.639531  \n",
       "14        176.4            6.4   3.657262   0.563156  45.146128      -1.089290  \n",
       "\n",
       "[15 rows x 22 columns]"
      ]
     },
     "execution_count": 38,
     "metadata": {},
     "output_type": "execute_result"
    }
   ],
   "source": [
    "timelag_sources"
   ]
  },
  {
   "cell_type": "code",
   "execution_count": 47,
   "metadata": {
    "ExecuteTime": {
     "end_time": "2023-09-05T07:08:07.440970Z",
     "start_time": "2023-09-05T07:08:07.330782Z"
    }
   },
   "outputs": [
    {
     "data": {
      "text/plain": [
       "Text(0.5, 0, 'log(Lw1/Lbol)')"
      ]
     },
     "execution_count": 47,
     "metadata": {},
     "output_type": "execute_result"
    },
    {
     "data": {
      "image/svg+xml": [
       "<?xml version=\"1.0\" encoding=\"utf-8\" standalone=\"no\"?>\n",
       "<!DOCTYPE svg PUBLIC \"-//W3C//DTD SVG 1.1//EN\"\n",
       "  \"http://www.w3.org/Graphics/SVG/1.1/DTD/svg11.dtd\">\n",
       "<svg xmlns:xlink=\"http://www.w3.org/1999/xlink\" width=\"386.813574pt\" height=\"275.571875pt\" viewBox=\"0 0 386.813574 275.571875\" xmlns=\"http://www.w3.org/2000/svg\" version=\"1.1\">\n",
       " <metadata>\n",
       "  <rdf:RDF xmlns:dc=\"http://purl.org/dc/elements/1.1/\" xmlns:cc=\"http://creativecommons.org/ns#\" xmlns:rdf=\"http://www.w3.org/1999/02/22-rdf-syntax-ns#\">\n",
       "   <cc:Work>\n",
       "    <dc:type rdf:resource=\"http://purl.org/dc/dcmitype/StillImage\"/>\n",
       "    <dc:date>2023-09-05T15:08:07.423788</dc:date>\n",
       "    <dc:format>image/svg+xml</dc:format>\n",
       "    <dc:creator>\n",
       "     <cc:Agent>\n",
       "      <dc:title>Matplotlib v3.7.1, https://matplotlib.org/</dc:title>\n",
       "     </cc:Agent>\n",
       "    </dc:creator>\n",
       "   </cc:Work>\n",
       "  </rdf:RDF>\n",
       " </metadata>\n",
       " <defs>\n",
       "  <style type=\"text/css\">*{stroke-linejoin: round; stroke-linecap: butt}</style>\n",
       " </defs>\n",
       " <g id=\"figure_1\">\n",
       "  <g id=\"patch_1\">\n",
       "   <path d=\"M 0 275.571875 \n",
       "L 386.813574 275.571875 \n",
       "L 386.813574 0 \n",
       "L 0 0 \n",
       "L 0 275.571875 \n",
       "z\n",
       "\" style=\"fill: none\"/>\n",
       "  </g>\n",
       "  <g id=\"axes_1\">\n",
       "   <g id=\"patch_2\">\n",
       "    <path d=\"M 26.567085 224.64 \n",
       "L 361.367085 224.64 \n",
       "L 361.367085 7.2 \n",
       "L 26.567085 7.2 \n",
       "z\n",
       "\" style=\"fill: #ffffff\"/>\n",
       "   </g>\n",
       "   <g id=\"patch_3\">\n",
       "    <path d=\"M 41.785267 224.64 \n",
       "L 102.657994 224.64 \n",
       "L 102.657994 165.472653 \n",
       "L 41.785267 165.472653 \n",
       "z\n",
       "\" clip-path=\"url(#pe9cc5674bf)\" style=\"fill: #1f77b4\"/>\n",
       "   </g>\n",
       "   <g id=\"patch_4\">\n",
       "    <path d=\"M 102.657994 224.64 \n",
       "L 163.530721 224.64 \n",
       "L 163.530721 76.721633 \n",
       "L 102.657994 76.721633 \n",
       "z\n",
       "\" clip-path=\"url(#pe9cc5674bf)\" style=\"fill: #1f77b4\"/>\n",
       "   </g>\n",
       "   <g id=\"patch_5\">\n",
       "    <path d=\"M 163.530721 224.64 \n",
       "L 224.403448 224.64 \n",
       "L 224.403448 224.64 \n",
       "L 163.530721 224.64 \n",
       "z\n",
       "\" clip-path=\"url(#pe9cc5674bf)\" style=\"fill: #1f77b4\"/>\n",
       "   </g>\n",
       "   <g id=\"patch_6\">\n",
       "    <path d=\"M 224.403448 224.64 \n",
       "L 285.276176 224.64 \n",
       "L 285.276176 17.554286 \n",
       "L 224.403448 17.554286 \n",
       "z\n",
       "\" clip-path=\"url(#pe9cc5674bf)\" style=\"fill: #1f77b4\"/>\n",
       "   </g>\n",
       "   <g id=\"patch_7\">\n",
       "    <path d=\"M 285.276176 224.64 \n",
       "L 346.148903 224.64 \n",
       "L 346.148903 195.056327 \n",
       "L 285.276176 195.056327 \n",
       "z\n",
       "\" clip-path=\"url(#pe9cc5674bf)\" style=\"fill: #1f77b4\"/>\n",
       "   </g>\n",
       "   <g id=\"matplotlib.axis_1\">\n",
       "    <g id=\"xtick_1\">\n",
       "     <g id=\"line2d_1\">\n",
       "      <defs>\n",
       "       <path id=\"m2a4a56bbe0\" d=\"M 0 0 \n",
       "L 0 3.5 \n",
       "\" style=\"stroke: #000000; stroke-width: 0.8\"/>\n",
       "      </defs>\n",
       "      <g>\n",
       "       <use xlink:href=\"#m2a4a56bbe0\" x=\"28.025156\" y=\"224.64\" style=\"stroke: #000000; stroke-width: 0.8\"/>\n",
       "      </g>\n",
       "     </g>\n",
       "     <g id=\"text_1\">\n",
       "      <!-- −1.50 -->\n",
       "      <g transform=\"translate(7.2 244.13875) scale(0.18 -0.18)\">\n",
       "       <defs>\n",
       "        <path id=\"TimesNewRomanPSMT-2212\" d=\"M 3484 2000 \n",
       "L 116 2000 \n",
       "L 116 2256 \n",
       "L 3484 2256 \n",
       "L 3484 2000 \n",
       "z\n",
       "\" transform=\"scale(0.015625)\"/>\n",
       "        <path id=\"TimesNewRomanPSMT-31\" d=\"M 750 3822 \n",
       "L 1781 4325 \n",
       "L 1884 4325 \n",
       "L 1884 747 \n",
       "Q 1884 391 1914 303 \n",
       "Q 1944 216 2037 169 \n",
       "Q 2131 122 2419 116 \n",
       "L 2419 0 \n",
       "L 825 0 \n",
       "L 825 116 \n",
       "Q 1125 122 1212 167 \n",
       "Q 1300 213 1334 289 \n",
       "Q 1369 366 1369 747 \n",
       "L 1369 3034 \n",
       "Q 1369 3497 1338 3628 \n",
       "Q 1316 3728 1258 3775 \n",
       "Q 1200 3822 1119 3822 \n",
       "Q 1003 3822 797 3725 \n",
       "L 750 3822 \n",
       "z\n",
       "\" transform=\"scale(0.015625)\"/>\n",
       "        <path id=\"TimesNewRomanPSMT-2e\" d=\"M 800 606 \n",
       "Q 947 606 1047 504 \n",
       "Q 1147 403 1147 259 \n",
       "Q 1147 116 1045 14 \n",
       "Q 944 -88 800 -88 \n",
       "Q 656 -88 554 14 \n",
       "Q 453 116 453 259 \n",
       "Q 453 406 554 506 \n",
       "Q 656 606 800 606 \n",
       "z\n",
       "\" transform=\"scale(0.015625)\"/>\n",
       "        <path id=\"TimesNewRomanPSMT-35\" d=\"M 2778 4238 \n",
       "L 2534 3706 \n",
       "L 1259 3706 \n",
       "L 981 3138 \n",
       "Q 1809 3016 2294 2522 \n",
       "Q 2709 2097 2709 1522 \n",
       "Q 2709 1188 2573 903 \n",
       "Q 2438 619 2231 419 \n",
       "Q 2025 219 1772 97 \n",
       "Q 1413 -75 1034 -75 \n",
       "Q 653 -75 479 54 \n",
       "Q 306 184 306 341 \n",
       "Q 306 428 378 495 \n",
       "Q 450 563 559 563 \n",
       "Q 641 563 702 538 \n",
       "Q 763 513 909 409 \n",
       "Q 1144 247 1384 247 \n",
       "Q 1750 247 2026 523 \n",
       "Q 2303 800 2303 1197 \n",
       "Q 2303 1581 2056 1914 \n",
       "Q 1809 2247 1375 2428 \n",
       "Q 1034 2569 447 2591 \n",
       "L 1259 4238 \n",
       "L 2778 4238 \n",
       "z\n",
       "\" transform=\"scale(0.015625)\"/>\n",
       "        <path id=\"TimesNewRomanPSMT-30\" d=\"M 231 2094 \n",
       "Q 231 2819 450 3342 \n",
       "Q 669 3866 1031 4122 \n",
       "Q 1313 4325 1613 4325 \n",
       "Q 2100 4325 2488 3828 \n",
       "Q 2972 3213 2972 2159 \n",
       "Q 2972 1422 2759 906 \n",
       "Q 2547 391 2217 158 \n",
       "Q 1888 -75 1581 -75 \n",
       "Q 975 -75 572 641 \n",
       "Q 231 1244 231 2094 \n",
       "z\n",
       "M 844 2016 \n",
       "Q 844 1141 1059 588 \n",
       "Q 1238 122 1591 122 \n",
       "Q 1759 122 1940 273 \n",
       "Q 2122 425 2216 781 \n",
       "Q 2359 1319 2359 2297 \n",
       "Q 2359 3022 2209 3506 \n",
       "Q 2097 3866 1919 4016 \n",
       "Q 1791 4119 1609 4119 \n",
       "Q 1397 4119 1231 3928 \n",
       "Q 1006 3669 925 3112 \n",
       "Q 844 2556 844 2016 \n",
       "z\n",
       "\" transform=\"scale(0.015625)\"/>\n",
       "       </defs>\n",
       "       <use xlink:href=\"#TimesNewRomanPSMT-2212\"/>\n",
       "       <use xlink:href=\"#TimesNewRomanPSMT-31\" x=\"56.396484\"/>\n",
       "       <use xlink:href=\"#TimesNewRomanPSMT-2e\" x=\"106.396484\"/>\n",
       "       <use xlink:href=\"#TimesNewRomanPSMT-35\" x=\"131.396484\"/>\n",
       "       <use xlink:href=\"#TimesNewRomanPSMT-30\" x=\"181.396484\"/>\n",
       "      </g>\n",
       "     </g>\n",
       "    </g>\n",
       "    <g id=\"xtick_2\">\n",
       "     <g id=\"line2d_2\">\n",
       "      <g>\n",
       "       <use xlink:href=\"#m2a4a56bbe0\" x=\"94.177808\" y=\"224.64\" style=\"stroke: #000000; stroke-width: 0.8\"/>\n",
       "      </g>\n",
       "     </g>\n",
       "     <g id=\"text_2\">\n",
       "      <!-- −1.25 -->\n",
       "      <g transform=\"translate(73.352652 244.13875) scale(0.18 -0.18)\">\n",
       "       <defs>\n",
       "        <path id=\"TimesNewRomanPSMT-32\" d=\"M 2934 816 \n",
       "L 2638 0 \n",
       "L 138 0 \n",
       "L 138 116 \n",
       "Q 1241 1122 1691 1759 \n",
       "Q 2141 2397 2141 2925 \n",
       "Q 2141 3328 1894 3587 \n",
       "Q 1647 3847 1303 3847 \n",
       "Q 991 3847 742 3664 \n",
       "Q 494 3481 375 3128 \n",
       "L 259 3128 \n",
       "Q 338 3706 661 4015 \n",
       "Q 984 4325 1469 4325 \n",
       "Q 1984 4325 2329 3994 \n",
       "Q 2675 3663 2675 3213 \n",
       "Q 2675 2891 2525 2569 \n",
       "Q 2294 2063 1775 1497 \n",
       "Q 997 647 803 472 \n",
       "L 1909 472 \n",
       "Q 2247 472 2383 497 \n",
       "Q 2519 522 2628 598 \n",
       "Q 2738 675 2819 816 \n",
       "L 2934 816 \n",
       "z\n",
       "\" transform=\"scale(0.015625)\"/>\n",
       "       </defs>\n",
       "       <use xlink:href=\"#TimesNewRomanPSMT-2212\"/>\n",
       "       <use xlink:href=\"#TimesNewRomanPSMT-31\" x=\"56.396484\"/>\n",
       "       <use xlink:href=\"#TimesNewRomanPSMT-2e\" x=\"106.396484\"/>\n",
       "       <use xlink:href=\"#TimesNewRomanPSMT-32\" x=\"131.396484\"/>\n",
       "       <use xlink:href=\"#TimesNewRomanPSMT-35\" x=\"181.396484\"/>\n",
       "      </g>\n",
       "     </g>\n",
       "    </g>\n",
       "    <g id=\"xtick_3\">\n",
       "     <g id=\"line2d_3\">\n",
       "      <g>\n",
       "       <use xlink:href=\"#m2a4a56bbe0\" x=\"160.330461\" y=\"224.64\" style=\"stroke: #000000; stroke-width: 0.8\"/>\n",
       "      </g>\n",
       "     </g>\n",
       "     <g id=\"text_3\">\n",
       "      <!-- −1.00 -->\n",
       "      <g transform=\"translate(139.505304 244.13875) scale(0.18 -0.18)\">\n",
       "       <use xlink:href=\"#TimesNewRomanPSMT-2212\"/>\n",
       "       <use xlink:href=\"#TimesNewRomanPSMT-31\" x=\"56.396484\"/>\n",
       "       <use xlink:href=\"#TimesNewRomanPSMT-2e\" x=\"106.396484\"/>\n",
       "       <use xlink:href=\"#TimesNewRomanPSMT-30\" x=\"131.396484\"/>\n",
       "       <use xlink:href=\"#TimesNewRomanPSMT-30\" x=\"181.396484\"/>\n",
       "      </g>\n",
       "     </g>\n",
       "    </g>\n",
       "    <g id=\"xtick_4\">\n",
       "     <g id=\"line2d_4\">\n",
       "      <g>\n",
       "       <use xlink:href=\"#m2a4a56bbe0\" x=\"226.483113\" y=\"224.64\" style=\"stroke: #000000; stroke-width: 0.8\"/>\n",
       "      </g>\n",
       "     </g>\n",
       "     <g id=\"text_4\">\n",
       "      <!-- −0.75 -->\n",
       "      <g transform=\"translate(205.657957 244.13875) scale(0.18 -0.18)\">\n",
       "       <defs>\n",
       "        <path id=\"TimesNewRomanPSMT-37\" d=\"M 644 4238 \n",
       "L 2916 4238 \n",
       "L 2916 4119 \n",
       "L 1503 -88 \n",
       "L 1153 -88 \n",
       "L 2419 3728 \n",
       "L 1253 3728 \n",
       "Q 900 3728 750 3644 \n",
       "Q 488 3500 328 3200 \n",
       "L 238 3234 \n",
       "L 644 4238 \n",
       "z\n",
       "\" transform=\"scale(0.015625)\"/>\n",
       "       </defs>\n",
       "       <use xlink:href=\"#TimesNewRomanPSMT-2212\"/>\n",
       "       <use xlink:href=\"#TimesNewRomanPSMT-30\" x=\"56.396484\"/>\n",
       "       <use xlink:href=\"#TimesNewRomanPSMT-2e\" x=\"106.396484\"/>\n",
       "       <use xlink:href=\"#TimesNewRomanPSMT-37\" x=\"131.396484\"/>\n",
       "       <use xlink:href=\"#TimesNewRomanPSMT-35\" x=\"181.396484\"/>\n",
       "      </g>\n",
       "     </g>\n",
       "    </g>\n",
       "    <g id=\"xtick_5\">\n",
       "     <g id=\"line2d_5\">\n",
       "      <g>\n",
       "       <use xlink:href=\"#m2a4a56bbe0\" x=\"292.635765\" y=\"224.64\" style=\"stroke: #000000; stroke-width: 0.8\"/>\n",
       "      </g>\n",
       "     </g>\n",
       "     <g id=\"text_5\">\n",
       "      <!-- −0.50 -->\n",
       "      <g transform=\"translate(271.810609 244.13875) scale(0.18 -0.18)\">\n",
       "       <use xlink:href=\"#TimesNewRomanPSMT-2212\"/>\n",
       "       <use xlink:href=\"#TimesNewRomanPSMT-30\" x=\"56.396484\"/>\n",
       "       <use xlink:href=\"#TimesNewRomanPSMT-2e\" x=\"106.396484\"/>\n",
       "       <use xlink:href=\"#TimesNewRomanPSMT-35\" x=\"131.396484\"/>\n",
       "       <use xlink:href=\"#TimesNewRomanPSMT-30\" x=\"181.396484\"/>\n",
       "      </g>\n",
       "     </g>\n",
       "    </g>\n",
       "    <g id=\"xtick_6\">\n",
       "     <g id=\"line2d_6\">\n",
       "      <g>\n",
       "       <use xlink:href=\"#m2a4a56bbe0\" x=\"358.788417\" y=\"224.64\" style=\"stroke: #000000; stroke-width: 0.8\"/>\n",
       "      </g>\n",
       "     </g>\n",
       "     <g id=\"text_6\">\n",
       "      <!-- −0.25 -->\n",
       "      <g transform=\"translate(337.963261 244.13875) scale(0.18 -0.18)\">\n",
       "       <use xlink:href=\"#TimesNewRomanPSMT-2212\"/>\n",
       "       <use xlink:href=\"#TimesNewRomanPSMT-30\" x=\"56.396484\"/>\n",
       "       <use xlink:href=\"#TimesNewRomanPSMT-2e\" x=\"106.396484\"/>\n",
       "       <use xlink:href=\"#TimesNewRomanPSMT-32\" x=\"131.396484\"/>\n",
       "       <use xlink:href=\"#TimesNewRomanPSMT-35\" x=\"181.396484\"/>\n",
       "      </g>\n",
       "     </g>\n",
       "    </g>\n",
       "    <g id=\"text_7\">\n",
       "     <!-- log(Lw1/Lbol) -->\n",
       "     <g transform=\"translate(140.47896 264.487812) scale(0.18 -0.18)\">\n",
       "      <defs>\n",
       "       <path id=\"TimesNewRomanPSMT-6c\" d=\"M 1184 4444 \n",
       "L 1184 647 \n",
       "Q 1184 378 1223 290 \n",
       "Q 1263 203 1344 158 \n",
       "Q 1425 113 1647 113 \n",
       "L 1647 0 \n",
       "L 244 0 \n",
       "L 244 113 \n",
       "Q 441 113 512 153 \n",
       "Q 584 194 625 287 \n",
       "Q 666 381 666 647 \n",
       "L 666 3247 \n",
       "Q 666 3731 644 3842 \n",
       "Q 622 3953 573 3993 \n",
       "Q 525 4034 450 4034 \n",
       "Q 369 4034 244 3984 \n",
       "L 191 4094 \n",
       "L 1044 4444 \n",
       "L 1184 4444 \n",
       "z\n",
       "\" transform=\"scale(0.015625)\"/>\n",
       "       <path id=\"TimesNewRomanPSMT-6f\" d=\"M 1600 2947 \n",
       "Q 2250 2947 2644 2453 \n",
       "Q 2978 2031 2978 1484 \n",
       "Q 2978 1100 2793 706 \n",
       "Q 2609 313 2286 112 \n",
       "Q 1963 -88 1566 -88 \n",
       "Q 919 -88 538 428 \n",
       "Q 216 863 216 1403 \n",
       "Q 216 1797 411 2186 \n",
       "Q 606 2575 925 2761 \n",
       "Q 1244 2947 1600 2947 \n",
       "z\n",
       "M 1503 2744 \n",
       "Q 1338 2744 1170 2645 \n",
       "Q 1003 2547 900 2300 \n",
       "Q 797 2053 797 1666 \n",
       "Q 797 1041 1045 587 \n",
       "Q 1294 134 1700 134 \n",
       "Q 2003 134 2200 384 \n",
       "Q 2397 634 2397 1244 \n",
       "Q 2397 2006 2069 2444 \n",
       "Q 1847 2744 1503 2744 \n",
       "z\n",
       "\" transform=\"scale(0.015625)\"/>\n",
       "       <path id=\"TimesNewRomanPSMT-67\" d=\"M 966 1044 \n",
       "Q 703 1172 562 1401 \n",
       "Q 422 1631 422 1909 \n",
       "Q 422 2334 742 2640 \n",
       "Q 1063 2947 1563 2947 \n",
       "Q 1972 2947 2272 2747 \n",
       "L 2878 2747 \n",
       "Q 3013 2747 3034 2739 \n",
       "Q 3056 2731 3066 2713 \n",
       "Q 3084 2684 3084 2613 \n",
       "Q 3084 2531 3069 2500 \n",
       "Q 3059 2484 3036 2475 \n",
       "Q 3013 2466 2878 2466 \n",
       "L 2506 2466 \n",
       "Q 2681 2241 2681 1891 \n",
       "Q 2681 1491 2375 1206 \n",
       "Q 2069 922 1553 922 \n",
       "Q 1341 922 1119 984 \n",
       "Q 981 866 932 777 \n",
       "Q 884 688 884 625 \n",
       "Q 884 572 936 522 \n",
       "Q 988 472 1138 450 \n",
       "Q 1225 438 1575 428 \n",
       "Q 2219 413 2409 384 \n",
       "Q 2700 344 2873 169 \n",
       "Q 3047 -6 3047 -263 \n",
       "Q 3047 -616 2716 -925 \n",
       "Q 2228 -1381 1444 -1381 \n",
       "Q 841 -1381 425 -1109 \n",
       "Q 191 -953 191 -784 \n",
       "Q 191 -709 225 -634 \n",
       "Q 278 -519 444 -313 \n",
       "Q 466 -284 763 25 \n",
       "Q 600 122 533 198 \n",
       "Q 466 275 466 372 \n",
       "Q 466 481 555 628 \n",
       "Q 644 775 966 1044 \n",
       "z\n",
       "M 1509 2797 \n",
       "Q 1278 2797 1122 2612 \n",
       "Q 966 2428 966 2047 \n",
       "Q 966 1553 1178 1281 \n",
       "Q 1341 1075 1591 1075 \n",
       "Q 1828 1075 1981 1253 \n",
       "Q 2134 1431 2134 1813 \n",
       "Q 2134 2309 1919 2591 \n",
       "Q 1759 2797 1509 2797 \n",
       "z\n",
       "M 934 0 \n",
       "Q 788 -159 713 -296 \n",
       "Q 638 -434 638 -550 \n",
       "Q 638 -700 819 -813 \n",
       "Q 1131 -1006 1722 -1006 \n",
       "Q 2284 -1006 2551 -807 \n",
       "Q 2819 -609 2819 -384 \n",
       "Q 2819 -222 2659 -153 \n",
       "Q 2497 -84 2016 -72 \n",
       "Q 1313 -53 934 0 \n",
       "z\n",
       "\" transform=\"scale(0.015625)\"/>\n",
       "       <path id=\"TimesNewRomanPSMT-28\" d=\"M 1988 -1253 \n",
       "L 1988 -1369 \n",
       "Q 1516 -1131 1200 -813 \n",
       "Q 750 -359 506 256 \n",
       "Q 263 872 263 1534 \n",
       "Q 263 2503 741 3301 \n",
       "Q 1219 4100 1988 4444 \n",
       "L 1988 4313 \n",
       "Q 1603 4100 1356 3731 \n",
       "Q 1109 3363 987 2797 \n",
       "Q 866 2231 866 1616 \n",
       "Q 866 947 969 400 \n",
       "Q 1050 -31 1165 -292 \n",
       "Q 1281 -553 1476 -793 \n",
       "Q 1672 -1034 1988 -1253 \n",
       "z\n",
       "\" transform=\"scale(0.015625)\"/>\n",
       "       <path id=\"TimesNewRomanPSMT-4c\" d=\"M 3669 1172 \n",
       "L 3772 1150 \n",
       "L 3409 0 \n",
       "L 128 0 \n",
       "L 128 116 \n",
       "L 288 116 \n",
       "Q 556 116 672 291 \n",
       "Q 738 391 738 753 \n",
       "L 738 3488 \n",
       "Q 738 3884 650 3984 \n",
       "Q 528 4122 288 4122 \n",
       "L 128 4122 \n",
       "L 128 4238 \n",
       "L 2047 4238 \n",
       "L 2047 4122 \n",
       "Q 1709 4125 1573 4059 \n",
       "Q 1438 3994 1388 3894 \n",
       "Q 1338 3794 1338 3416 \n",
       "L 1338 753 \n",
       "Q 1338 494 1388 397 \n",
       "Q 1425 331 1503 300 \n",
       "Q 1581 269 1991 269 \n",
       "L 2300 269 \n",
       "Q 2788 269 2984 341 \n",
       "Q 3181 413 3343 595 \n",
       "Q 3506 778 3669 1172 \n",
       "z\n",
       "\" transform=\"scale(0.015625)\"/>\n",
       "       <path id=\"TimesNewRomanPSMT-77\" d=\"M 41 2863 \n",
       "L 1241 2863 \n",
       "L 1241 2747 \n",
       "Q 1075 2734 1023 2687 \n",
       "Q 972 2641 972 2553 \n",
       "Q 972 2456 1025 2319 \n",
       "L 1638 672 \n",
       "L 2253 2013 \n",
       "L 2091 2434 \n",
       "Q 2016 2622 1894 2694 \n",
       "Q 1825 2738 1638 2747 \n",
       "L 1638 2863 \n",
       "L 3000 2863 \n",
       "L 3000 2747 \n",
       "Q 2775 2738 2681 2666 \n",
       "Q 2619 2616 2619 2506 \n",
       "Q 2619 2444 2644 2378 \n",
       "L 3294 734 \n",
       "L 3897 2319 \n",
       "Q 3959 2488 3959 2588 \n",
       "Q 3959 2647 3898 2694 \n",
       "Q 3838 2741 3659 2747 \n",
       "L 3659 2863 \n",
       "L 4563 2863 \n",
       "L 4563 2747 \n",
       "Q 4291 2706 4163 2378 \n",
       "L 3206 -88 \n",
       "L 3078 -88 \n",
       "L 2363 1741 \n",
       "L 1528 -88 \n",
       "L 1413 -88 \n",
       "L 494 2319 \n",
       "Q 403 2547 315 2626 \n",
       "Q 228 2706 41 2747 \n",
       "L 41 2863 \n",
       "z\n",
       "\" transform=\"scale(0.015625)\"/>\n",
       "       <path id=\"TimesNewRomanPSMT-2f\" d=\"M 1794 4444 \n",
       "L 259 -88 \n",
       "L 9 -88 \n",
       "L 1544 4444 \n",
       "L 1794 4444 \n",
       "z\n",
       "\" transform=\"scale(0.015625)\"/>\n",
       "       <path id=\"TimesNewRomanPSMT-62\" d=\"M 984 2369 \n",
       "Q 1400 2947 1881 2947 \n",
       "Q 2322 2947 2650 2570 \n",
       "Q 2978 2194 2978 1541 \n",
       "Q 2978 778 2472 313 \n",
       "Q 2038 -88 1503 -88 \n",
       "Q 1253 -88 995 3 \n",
       "Q 738 94 469 275 \n",
       "L 469 3241 \n",
       "Q 469 3728 445 3840 \n",
       "Q 422 3953 372 3993 \n",
       "Q 322 4034 247 4034 \n",
       "Q 159 4034 28 3984 \n",
       "L -16 4094 \n",
       "L 844 4444 \n",
       "L 984 4444 \n",
       "L 984 2369 \n",
       "z\n",
       "M 984 2169 \n",
       "L 984 456 \n",
       "Q 1144 300 1314 220 \n",
       "Q 1484 141 1663 141 \n",
       "Q 1947 141 2192 453 \n",
       "Q 2438 766 2438 1363 \n",
       "Q 2438 1913 2192 2208 \n",
       "Q 1947 2503 1634 2503 \n",
       "Q 1469 2503 1303 2419 \n",
       "Q 1178 2356 984 2169 \n",
       "z\n",
       "\" transform=\"scale(0.015625)\"/>\n",
       "       <path id=\"TimesNewRomanPSMT-29\" d=\"M 144 4313 \n",
       "L 144 4444 \n",
       "Q 619 4209 934 3891 \n",
       "Q 1381 3434 1625 2820 \n",
       "Q 1869 2206 1869 1541 \n",
       "Q 1869 572 1392 -226 \n",
       "Q 916 -1025 144 -1369 \n",
       "L 144 -1253 \n",
       "Q 528 -1038 776 -670 \n",
       "Q 1025 -303 1145 264 \n",
       "Q 1266 831 1266 1447 \n",
       "Q 1266 2113 1163 2663 \n",
       "Q 1084 3094 967 3353 \n",
       "Q 850 3613 656 3853 \n",
       "Q 463 4094 144 4313 \n",
       "z\n",
       "\" transform=\"scale(0.015625)\"/>\n",
       "      </defs>\n",
       "      <use xlink:href=\"#TimesNewRomanPSMT-6c\"/>\n",
       "      <use xlink:href=\"#TimesNewRomanPSMT-6f\" x=\"27.783203\"/>\n",
       "      <use xlink:href=\"#TimesNewRomanPSMT-67\" x=\"77.783203\"/>\n",
       "      <use xlink:href=\"#TimesNewRomanPSMT-28\" x=\"127.783203\"/>\n",
       "      <use xlink:href=\"#TimesNewRomanPSMT-4c\" x=\"161.083984\"/>\n",
       "      <use xlink:href=\"#TimesNewRomanPSMT-77\" x=\"222.167969\"/>\n",
       "      <use xlink:href=\"#TimesNewRomanPSMT-31\" x=\"294.384766\"/>\n",
       "      <use xlink:href=\"#TimesNewRomanPSMT-2f\" x=\"344.384766\"/>\n",
       "      <use xlink:href=\"#TimesNewRomanPSMT-4c\" x=\"372.167969\"/>\n",
       "      <use xlink:href=\"#TimesNewRomanPSMT-62\" x=\"433.251953\"/>\n",
       "      <use xlink:href=\"#TimesNewRomanPSMT-6f\" x=\"483.251953\"/>\n",
       "      <use xlink:href=\"#TimesNewRomanPSMT-6c\" x=\"533.251953\"/>\n",
       "      <use xlink:href=\"#TimesNewRomanPSMT-29\" x=\"561.035156\"/>\n",
       "     </g>\n",
       "    </g>\n",
       "   </g>\n",
       "   <g id=\"matplotlib.axis_2\">\n",
       "    <g id=\"ytick_1\">\n",
       "     <g id=\"line2d_7\">\n",
       "      <defs>\n",
       "       <path id=\"m31011a2a41\" d=\"M 0 0 \n",
       "L -3.5 0 \n",
       "\" style=\"stroke: #000000; stroke-width: 0.8\"/>\n",
       "      </defs>\n",
       "      <g>\n",
       "       <use xlink:href=\"#m31011a2a41\" x=\"26.567085\" y=\"224.64\" style=\"stroke: #000000; stroke-width: 0.8\"/>\n",
       "      </g>\n",
       "     </g>\n",
       "     <g id=\"text_8\">\n",
       "      <!-- 0 -->\n",
       "      <g transform=\"translate(10.567085 230.889375) scale(0.18 -0.18)\">\n",
       "       <use xlink:href=\"#TimesNewRomanPSMT-30\"/>\n",
       "      </g>\n",
       "     </g>\n",
       "    </g>\n",
       "    <g id=\"ytick_2\">\n",
       "     <g id=\"line2d_8\">\n",
       "      <g>\n",
       "       <use xlink:href=\"#m31011a2a41\" x=\"26.567085\" y=\"165.472653\" style=\"stroke: #000000; stroke-width: 0.8\"/>\n",
       "      </g>\n",
       "     </g>\n",
       "     <g id=\"text_9\">\n",
       "      <!-- 2 -->\n",
       "      <g transform=\"translate(10.567085 171.722028) scale(0.18 -0.18)\">\n",
       "       <use xlink:href=\"#TimesNewRomanPSMT-32\"/>\n",
       "      </g>\n",
       "     </g>\n",
       "    </g>\n",
       "    <g id=\"ytick_3\">\n",
       "     <g id=\"line2d_9\">\n",
       "      <g>\n",
       "       <use xlink:href=\"#m31011a2a41\" x=\"26.567085\" y=\"106.305306\" style=\"stroke: #000000; stroke-width: 0.8\"/>\n",
       "      </g>\n",
       "     </g>\n",
       "     <g id=\"text_10\">\n",
       "      <!-- 4 -->\n",
       "      <g transform=\"translate(10.567085 112.554681) scale(0.18 -0.18)\">\n",
       "       <defs>\n",
       "        <path id=\"TimesNewRomanPSMT-34\" d=\"M 2978 1563 \n",
       "L 2978 1119 \n",
       "L 2409 1119 \n",
       "L 2409 0 \n",
       "L 1894 0 \n",
       "L 1894 1119 \n",
       "L 100 1119 \n",
       "L 100 1519 \n",
       "L 2066 4325 \n",
       "L 2409 4325 \n",
       "L 2409 1563 \n",
       "L 2978 1563 \n",
       "z\n",
       "M 1894 1563 \n",
       "L 1894 3666 \n",
       "L 406 1563 \n",
       "L 1894 1563 \n",
       "z\n",
       "\" transform=\"scale(0.015625)\"/>\n",
       "       </defs>\n",
       "       <use xlink:href=\"#TimesNewRomanPSMT-34\"/>\n",
       "      </g>\n",
       "     </g>\n",
       "    </g>\n",
       "    <g id=\"ytick_4\">\n",
       "     <g id=\"line2d_10\">\n",
       "      <g>\n",
       "       <use xlink:href=\"#m31011a2a41\" x=\"26.567085\" y=\"47.137959\" style=\"stroke: #000000; stroke-width: 0.8\"/>\n",
       "      </g>\n",
       "     </g>\n",
       "     <g id=\"text_11\">\n",
       "      <!-- 6 -->\n",
       "      <g transform=\"translate(10.567085 53.387334) scale(0.18 -0.18)\">\n",
       "       <defs>\n",
       "        <path id=\"TimesNewRomanPSMT-36\" d=\"M 2869 4325 \n",
       "L 2869 4209 \n",
       "Q 2456 4169 2195 4045 \n",
       "Q 1934 3922 1679 3669 \n",
       "Q 1425 3416 1258 3105 \n",
       "Q 1091 2794 978 2366 \n",
       "Q 1428 2675 1881 2675 \n",
       "Q 2316 2675 2634 2325 \n",
       "Q 2953 1975 2953 1425 \n",
       "Q 2953 894 2631 456 \n",
       "Q 2244 -75 1606 -75 \n",
       "Q 1172 -75 869 213 \n",
       "Q 275 772 275 1663 \n",
       "Q 275 2231 503 2743 \n",
       "Q 731 3256 1154 3653 \n",
       "Q 1578 4050 1965 4187 \n",
       "Q 2353 4325 2688 4325 \n",
       "L 2869 4325 \n",
       "z\n",
       "M 925 2138 \n",
       "Q 869 1716 869 1456 \n",
       "Q 869 1156 980 804 \n",
       "Q 1091 453 1309 247 \n",
       "Q 1469 100 1697 100 \n",
       "Q 1969 100 2183 356 \n",
       "Q 2397 613 2397 1088 \n",
       "Q 2397 1622 2184 2012 \n",
       "Q 1972 2403 1581 2403 \n",
       "Q 1463 2403 1327 2353 \n",
       "Q 1191 2303 925 2138 \n",
       "z\n",
       "\" transform=\"scale(0.015625)\"/>\n",
       "       </defs>\n",
       "       <use xlink:href=\"#TimesNewRomanPSMT-36\"/>\n",
       "      </g>\n",
       "     </g>\n",
       "    </g>\n",
       "   </g>\n",
       "   <g id=\"patch_8\">\n",
       "    <path d=\"M 26.567085 224.64 \n",
       "L 26.567085 7.2 \n",
       "\" style=\"fill: none; stroke: #000000; stroke-width: 2; stroke-linejoin: miter; stroke-linecap: square\"/>\n",
       "   </g>\n",
       "   <g id=\"patch_9\">\n",
       "    <path d=\"M 361.367085 224.64 \n",
       "L 361.367085 7.2 \n",
       "\" style=\"fill: none; stroke: #000000; stroke-width: 2; stroke-linejoin: miter; stroke-linecap: square\"/>\n",
       "   </g>\n",
       "   <g id=\"patch_10\">\n",
       "    <path d=\"M 26.567085 224.64 \n",
       "L 361.367085 224.64 \n",
       "\" style=\"fill: none; stroke: #000000; stroke-width: 2; stroke-linejoin: miter; stroke-linecap: square\"/>\n",
       "   </g>\n",
       "   <g id=\"patch_11\">\n",
       "    <path d=\"M 26.567085 7.2 \n",
       "L 361.367085 7.2 \n",
       "\" style=\"fill: none; stroke: #000000; stroke-width: 2; stroke-linejoin: miter; stroke-linecap: square\"/>\n",
       "   </g>\n",
       "  </g>\n",
       " </g>\n",
       " <defs>\n",
       "  <clipPath id=\"pe9cc5674bf\">\n",
       "   <rect x=\"26.567085\" y=\"7.2\" width=\"334.8\" height=\"217.44\"/>\n",
       "  </clipPath>\n",
       " </defs>\n",
       "</svg>\n"
      ],
      "text/plain": [
       "<Figure size 432x288 with 1 Axes>"
      ]
     },
     "metadata": {
      "needs_background": "light"
     },
     "output_type": "display_data"
    }
   ],
   "source": [
    "plt.hist(timelag_sources['log(Lw1/Lbol)'],bins=5)\n",
    "plt.xlabel('log(Lw1/Lbol)')"
   ]
  },
  {
   "cell_type": "code",
   "execution_count": 42,
   "metadata": {
    "ExecuteTime": {
     "end_time": "2023-09-05T07:07:05.468954Z",
     "start_time": "2023-09-05T07:07:05.456023Z"
    }
   },
   "outputs": [
    {
     "data": {
      "text/plain": [
       "(-0.5228787452803376, -0.045757490560675115)"
      ]
     },
     "execution_count": 42,
     "metadata": {},
     "output_type": "execute_result"
    }
   ],
   "source": [
    "np.log10(0.3),np.log10(0.9)"
   ]
  },
  {
   "cell_type": "code",
   "execution_count": null,
   "metadata": {},
   "outputs": [],
   "source": []
  }
 ],
 "metadata": {
  "kernelspec": {
   "display_name": "Python 3 (ipykernel)",
   "language": "python",
   "name": "python3"
  },
  "language_info": {
   "codemirror_mode": {
    "name": "ipython",
    "version": 3
   },
   "file_extension": ".py",
   "mimetype": "text/x-python",
   "name": "python",
   "nbconvert_exporter": "python",
   "pygments_lexer": "ipython3",
   "version": "3.9.12"
  },
  "latex_envs": {
   "LaTeX_envs_menu_present": true,
   "autoclose": false,
   "autocomplete": true,
   "bibliofile": "biblio.bib",
   "cite_by": "apalike",
   "current_citInitial": 1,
   "eqLabelWithNumbers": true,
   "eqNumInitial": 1,
   "hotkeys": {
    "equation": "Ctrl-E",
    "itemize": "Ctrl-I"
   },
   "labels_anchors": false,
   "latex_user_defs": false,
   "report_style_numbering": false,
   "user_envs_cfg": false
  },
  "toc": {
   "base_numbering": 1,
   "nav_menu": {},
   "number_sections": true,
   "sideBar": true,
   "skip_h1_title": false,
   "title_cell": "Table of Contents",
   "title_sidebar": "Contents",
   "toc_cell": false,
   "toc_position": {
    "height": "473.273px",
    "left": "0px",
    "right": "1339.28px",
    "top": "135.711px",
    "width": "266.96px"
   },
   "toc_section_display": "block",
   "toc_window_display": true
  }
 },
 "nbformat": 4,
 "nbformat_minor": 2
}
