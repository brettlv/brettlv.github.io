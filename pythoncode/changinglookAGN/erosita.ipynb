{
 "cells": [
  {
   "cell_type": "markdown",
   "id": "41e9f600",
   "metadata": {},
   "source": [
    "# [esasscookbook](https://erosita.mpe.mpg.de/edr/DataAnalysis/esasscookbook.html)"
   ]
  },
  {
   "cell_type": "code",
   "execution_count": 5,
   "id": "0ad07a1a",
   "metadata": {
    "ExecuteTime": {
     "end_time": "2023-10-19T13:15:41.108878Z",
     "start_time": "2023-10-19T13:15:39.331073Z"
    }
   },
   "outputs": [],
   "source": [
    "import matplotlib as mpl\n",
    "import matplotlib.pyplot as plt\n",
    "import matplotlib.ticker as ticker\n",
    "from pylab import cm\n",
    "\n",
    "import matplotlib.dates as mdates\n",
    "from matplotlib.pyplot import MultipleLocator\n",
    "import matplotlib.dates as mdates\n",
    "from matplotlib.transforms import Transform\n",
    "from matplotlib.ticker import (AutoLocator, AutoMinorLocator)\n",
    "from matplotlib.dates import DateFormatter\n",
    "#import matplotlib.cm as cm\n",
    "import matplotlib.colors as colors\n",
    "from collections import OrderedDict\n",
    "\n",
    "\n",
    "# Import required packages\n",
    "import numpy as np\n",
    "import pandas as pd\n",
    "#import plotly_express as px\n",
    "\n",
    "\n",
    "from scipy.stats import spearmanr#\n",
    "from scipy.stats.stats import pearsonr\n",
    "from astropy import constants\n",
    "from astropy import units as u\n",
    "from astropy import units\n",
    "\n",
    "from datetime import datetime, date, time, timezone\n",
    "from datetime import datetime\n",
    "from datetime import timedelta\n",
    "from astropy.time import Time\n",
    "from astropy.io import ascii\n",
    "\n",
    "\n",
    "\n",
    "\n",
    "%matplotlib inline\n",
    "%config InlineBackend.figure_format='svg'\n",
    "\n",
    "\n",
    "import matplotlib.font_manager as fm\n",
    "# Collect all the font names available to matplotlib\n",
    "font_names = [f.name for f in fm.fontManager.ttflist]\n",
    "\n",
    "# Edit the font, font size, and axes width\n",
    "mpl.rcParams['font.family'] = 'Times New Roman'\n",
    "plt.rcParams['font.size'] = 18\n",
    "plt.rcParams['axes.linewidth'] = 2"
   ]
  },
  {
   "cell_type": "code",
   "execution_count": 6,
   "id": "6882c32a",
   "metadata": {
    "ExecuteTime": {
     "end_time": "2023-10-19T13:15:41.114268Z",
     "start_time": "2023-10-19T13:15:41.110763Z"
    }
   },
   "outputs": [],
   "source": [
    "import pandas as pd\n",
    "import numpy as np\n",
    "import os\n",
    "\n",
    "def get_obsids(path):\n",
    "    dirname=os.listdir(path)\n",
    "    obsids=[]\n",
    "    for i in dirname:\n",
    "        if i.isdigit():\n",
    "            obsids.append(i)\n",
    "    obsids.sort()        \n",
    "    return obsids\n",
    "\n",
    "def drop_index(data):\n",
    "    data=data.reset_index(drop=True)\n",
    "    return data\n",
    "\n",
    "def get_info(data,label,label_err=None):\n",
    "    return min(data[label]),max(data[label]),np.mean(data[label])\n",
    "    "
   ]
  },
  {
   "cell_type": "code",
   "execution_count": 7,
   "id": "20aa5ce5",
   "metadata": {
    "ExecuteTime": {
     "end_time": "2023-10-19T13:15:41.124223Z",
     "start_time": "2023-10-19T13:15:41.115821Z"
    }
   },
   "outputs": [],
   "source": [
    "from astropy.time import Time\n",
    "from astropy.io import fits\n",
    "import time\n",
    "from matplotlib.pyplot import MultipleLocator\n",
    "import matplotlib.dates as mdates\n",
    "\n",
    "def datetime2mjd(x):\n",
    "    mjd_ref=59000\n",
    "    mjd_minus_mdates_num=mdates.date2num(convert_xaxis_time(mjd_ref))-mjd_ref\n",
    "    \n",
    "    x=mdates.date2num(x)\n",
    "    y = x - mjd_minus_mdates_num   \n",
    "    return y\n",
    "\n",
    "def mjd2datetime(x):\n",
    "    mjd_ref=59000\n",
    "    mjd_minus_mdates_num=mdates.date2num(convert_xaxis_time(mjd_ref))-mjd_ref\n",
    "    y= x + mjd_minus_mdates_num\n",
    "    y= mdates.num2date(y)\n",
    "    return y\n",
    "\n",
    "\n",
    "\n",
    "def datenums2mjd(x):\n",
    "    #x=mdates.date2num(x)\n",
    "    mjd_ref=59000\n",
    "    mjd_minus_mdates_num=mdates.date2num(convert_xaxis_time(mjd_ref))-mjd_ref\n",
    "    y = x - mjd_minus_mdates_num   \n",
    "    return y\n",
    "\n",
    "def mjd2numsdate(x):\n",
    "    mjd_ref=59000\n",
    "    mjd_minus_mdates_num=mdates.date2num(convert_xaxis_time(mjd_ref))-mjd_ref\n",
    "    \n",
    "    y= x + mjd_minus_mdates_num\n",
    "    #y= mdates.num2date(y)\n",
    "    return y\n",
    "\n",
    "\n",
    "def convert_xaxis_mjd(time):\n",
    "    return Time(time).mjd   \n",
    "\n",
    "def convert_xaxis_time(mjd):\n",
    "    return Time(mjd,format='mjd').to_datetime()\n",
    "\n",
    "\n",
    "def date2yday(x):\n",
    "    \"\"\"\n",
    "    x is in matplotlib datenums, so they are floats.\n",
    "    \"\"\"\n",
    "    y = x - mdates.date2num(datetime(2018, 1, 1))\n",
    "    return y\n",
    "\n",
    "def yday2date(x):\n",
    "    \"\"\"\n",
    "    return a matplotlib datenum (x is days since start of year of 2018)\n",
    "    \"\"\"\n",
    "    y = x + mdates.date2num(datetime(2018, 1, 1))\n",
    "    return y\n",
    "\n",
    "\n",
    "def convert_partial_year(numbers):\n",
    "    datetimes=[]\n",
    "    for number in numbers:\n",
    "        year = int(number)\n",
    "        d = timedelta(days=(number - year)*(365 + is_leap(year)))\n",
    "        day_one = datetime(year,1,1)\n",
    "        date = d + day_one\n",
    "        datetimes.append(date)\n",
    "    return datetimes\n",
    "\n",
    "\n",
    "def is_leap(year):\n",
    "    if not year%4 and  year%100 or not year%400:\n",
    "        return True\n",
    "    return False\n",
    "\n",
    "\n",
    "def convert_mjd(times):\n",
    "    timesmjd=[]\n",
    "    for i in times:\n",
    "        timesmjd.append(Time(i).mjd)\n",
    "    return timesmjd  \n",
    "\n",
    "\n",
    "def convert_date(times):\n",
    "    timesdate=[]\n",
    "    for i in times:\n",
    "        timesdate.append(Time(i,format='mjd').datetime)\n",
    "    return timesdate\n",
    "\n",
    "def convert_date_single(time):\n",
    "    timedate=Time(time,format='mjd').datetime\n",
    "    return timedate"
   ]
  },
  {
   "cell_type": "code",
   "execution_count": 8,
   "id": "795fbf81",
   "metadata": {
    "ExecuteTime": {
     "end_time": "2023-10-19T13:15:41.137178Z",
     "start_time": "2023-10-19T13:15:41.126597Z"
    }
   },
   "outputs": [],
   "source": [
    "from adjustText import adjust_text\n",
    "import matplotlib as mpl\n",
    "def set_ax_tick(ax):\n",
    "    ax.xaxis.set_tick_params(which='major', size=10, width=2, direction='in', top='on',)\n",
    "    ax.xaxis.set_tick_params(which='minor', size=5, width=2, direction='in', top='on')\n",
    "    ax.yaxis.set_tick_params(which='major', size=10, width=2, direction='in', right='on')\n",
    "    ax.yaxis.set_tick_params(which='minor', size=5, width=2, direction='in', right='on')\n",
    "\n",
    "def set_ax_locator(ax,xma=1,xmi=0.2,yma=1,ymi=0.2):\n",
    "    ax.xaxis.set_major_locator(mpl.ticker.MultipleLocator(xma))\n",
    "    ax.xaxis.set_minor_locator(mpl.ticker.MultipleLocator(xmi))\n",
    "    ax.yaxis.set_major_locator(mpl.ticker.MultipleLocator(yma))\n",
    "    ax.yaxis.set_minor_locator(mpl.ticker.MultipleLocator(ymi))\n",
    "    \n",
    "def plot_secax(ax,mi_interval=365,ma_interval=365*2,rotation=30,):\n",
    "    secax1 = ax.secondary_xaxis('top', functions=(mjd2numsdate,datenums2mjd))\n",
    "    secax1.xaxis.set_major_formatter(mdates.DateFormatter(\"%Y-%m\"))\n",
    "    secax1.xaxis.set_major_locator(mdates.DayLocator(interval=ma_interval))\n",
    "    secax1.xaxis.set_minor_locator(mdates.DayLocator(interval=mi_interval))\n",
    "    secax1.xaxis.set_tick_params(which='major', size=10, width=2, direction='out')\n",
    "    secax1.xaxis.set_tick_params(which='minor', size=5, width=2, direction='out')\n",
    "    secax1.xaxis.set_tick_params(which='major', size=10, width=2, direction='out', rotation=rotation,)    \n",
    "    \n",
    "def set_ax_legend(ax,bbox_to_anchor=(0.01, 0.99)):\n",
    "    ax.xaxis.set_tick_params(which='major', size=10, width=2, rotation=0,)\n",
    "    handles, labels = ax.get_legend_handles_labels()\n",
    "    # remove the errorbars\n",
    "    #hdl = [h[0] for h in handles]\n",
    "    hdl = handles\n",
    "    labels_dict=dict(zip(labels, hdl)) #key,values\n",
    "    by_label=OrderedDict(sorted(labels_dict.items(),key=lambda t:t[0]))\n",
    "    #by_label = OrderedDict(zip(labels, handles))\n",
    "    ax.legend(by_label.values(), by_label.keys(), bbox_to_anchor=bbox_to_anchor,\n",
    "              loc=2, numpoints=1,ncol=1,fontsize=11.)\n",
    "    \n",
    "def set_ax_legend_sequence(ax,bbox_to_anchor=(0.01, 0.99)):\n",
    "    ax.xaxis.set_tick_params(which='major', size=10, width=2, rotation=0,)\n",
    "    handles, labels = ax.get_legend_handles_labels()\n",
    "    # remove the errorbars\n",
    "    #hdl = [h[0] for h in handles]\n",
    "    hdl = handles\n",
    "    labels_dict=dict(zip(labels, hdl)) #key,values\n",
    "    #by_label=OrderedDict(sorted(labels_dict.items(),key=lambda t:t[0]))\n",
    "    by_label = OrderedDict(zip(labels, handles))\n",
    "    ax.legend(by_label.values(), by_label.keys(), bbox_to_anchor=bbox_to_anchor,\n",
    "              loc=2, numpoints=1,ncol=1,fontsize=11.)    \n",
    "    \n",
    "\n",
    "def set_mag_ylim(ax):\n",
    "    bottom, top = ax.set_ylim()\n",
    "    if bottom< top:\n",
    "        ax.set_ylim(top,bottom)   \n",
    "        \n",
    "        \n",
    "def set_mag_xlim(ax):\n",
    "    bottom, top = ax.set_xlim()\n",
    "    if bottom< top:\n",
    "        ax.set_xlim(top,bottom)         "
   ]
  },
  {
   "cell_type": "markdown",
   "id": "f4b1fb8e",
   "metadata": {},
   "source": [
    "## eROSITA/eFEDS main catalogue"
   ]
  },
  {
   "cell_type": "code",
   "execution_count": 21,
   "id": "e1d47d26",
   "metadata": {
    "ExecuteTime": {
     "end_time": "2023-10-19T17:02:49.752697Z",
     "start_time": "2023-10-19T17:02:49.739887Z"
    }
   },
   "outputs": [],
   "source": [
    "eFEDS_c001_main=fits.open('/Users/lyubing/Downloads/erosita/eFEDS_c001_main_V7.4.fits')"
   ]
  },
  {
   "cell_type": "code",
   "execution_count": 22,
   "id": "679cff5a",
   "metadata": {
    "ExecuteTime": {
     "end_time": "2023-10-19T17:02:54.169136Z",
     "start_time": "2023-10-19T17:02:54.147666Z"
    }
   },
   "outputs": [
    {
     "name": "stdout",
     "output_type": "stream",
     "text": [
      "Filename: /Users/lyubing/Downloads/erosita/eFEDS_c001_main_V7.4.fits\n",
      "No.    Name      Ver    Type      Cards   Dimensions   Format\n",
      "  0  PRIMARY       1 PrimaryHDU       4   ()      \n",
      "  1                1 BinTableHDU    662   27910R x 162C   [22A, J, J, D, D, E, 1D, 1D, 1D, E, E, E, E, E, E, E, E, E, E, E, E, 1L, 1D, 1D, 1D, 1D, 1D, 1D, 1D, 1D, 1D, 1D, 1D, 1D, 1D, 1D, 1D, 1D, 1D, 1D, 1D, 1D, 1D, 1D, 1D, 1D, 1D, 1D, 1D, 1D, 1D, 1D, 1D, 1D, 1D, 1D, 1D, 1D, 1D, 1D, 1D, 1D, 1D, 1D, 1D, 1D, 1D, 1D, 1D, 1D, 1D, 1D, 1D, 1D, 1D, 1D, 1D, 1D, 1D, 1D, 1D, 1D, 1D, 1D, 1D, 1D, 1D, 1D, 1D, 1D, 1D, 1D, 1D, 1D, 1D, 1D, 1D, 1D, 1D, 1D, 1D, 1D, 1D, 1D, 1D, 1D, 1D, 1D, 1D, 1D, 1D, 1D, 1D, 1D, 1D, 1D, 1D, 1D, 1D, 1D, 1D, 1D, 1D, 1D, 1D, 1D, 1D, 1J, 1J, 1J, 1J, 1J, 1J, 1J, 1D, 1D, 1D, 1D, 1D, 1D, 1D, 1D, 1D, 1D, 1D, 1D, 1D, 1D, 1D, 1D, 1D, 1D, 1D, 1D, 1D, 1D, 1D, 1D, 1D, 1D, 1D, 1D]   \n"
     ]
    }
   ],
   "source": [
    "eFEDS_c001_main.info()"
   ]
  },
  {
   "cell_type": "code",
   "execution_count": 23,
   "id": "2c3caacf",
   "metadata": {
    "ExecuteTime": {
     "end_time": "2023-10-19T17:03:01.109093Z",
     "start_time": "2023-10-19T17:03:00.995589Z"
    }
   },
   "outputs": [],
   "source": [
    "eFEDS_c001_maindata=eFEDS_c001_main[1].data"
   ]
  },
  {
   "cell_type": "code",
   "execution_count": 29,
   "id": "7c7006bd",
   "metadata": {
    "ExecuteTime": {
     "end_time": "2023-10-19T17:03:12.604543Z",
     "start_time": "2023-10-19T17:03:12.597420Z"
    }
   },
   "outputs": [
    {
     "data": {
      "text/plain": [
       "ColDefs(\n",
       "    name = 'Name'; format = '22A'\n",
       "    name = 'ID_SRC'; format = 'J'\n",
       "    name = 'ID_hard'; format = 'J'\n",
       "    name = 'RA'; format = 'D'; unit = 'deg'\n",
       "    name = 'DEC'; format = 'D'; unit = 'deg'\n",
       "    name = 'RADEC_ERR'; format = 'E'; unit = 'arcsec'\n",
       "    name = 'RA_CORR'; format = '1D'; unit = 'deg'\n",
       "    name = 'DEC_CORR'; format = '1D'; unit = 'deg'\n",
       "    name = 'RADEC_ERR_CORR'; format = '1D'; unit = 'arcsec'\n",
       "    name = 'EXT'; format = 'E'; unit = 'arcsec'\n",
       "    name = 'EXT_ERR'; format = 'E'; unit = 'arcsec'\n",
       "    name = 'EXT_LIKE'; format = 'E'\n",
       "    name = 'DET_LIKE'; format = 'E'\n",
       "    name = 'ML_RATE'; format = 'E'; unit = 'counts/s'\n",
       "    name = 'ML_RATE_ERR'; format = 'E'; unit = 'counts/s'\n",
       "    name = 'ML_CTS'; format = 'E'; unit = 'counts'\n",
       "    name = 'ML_CTS_ERR'; format = 'E'; unit = 'counts'\n",
       "    name = 'ML_FLUX'; format = 'E'; unit = 'erg/cm^2/s'\n",
       "    name = 'ML_FLUX_ERR'; format = 'E'; unit = 'erg/cm^2/s'\n",
       "    name = 'ML_EXP'; format = 'E'; unit = 'seconds'\n",
       "    name = 'ML_BKG'; format = 'E'; unit = 'counts/arcmin^2'\n",
       "    name = 'inArea90'; format = '1L'\n",
       "    name = 'DET_LIKE_b1'; format = '1D'\n",
       "    name = 'DET_LIKE_b2'; format = '1D'\n",
       "    name = 'DET_LIKE_b3'; format = '1D'\n",
       "    name = 'DET_LIKE_b4'; format = '1D'\n",
       "    name = 'DET_LIKE_s'; format = '1D'\n",
       "    name = 'DET_LIKE_h'; format = '1D'\n",
       "    name = 'DET_LIKE_u'; format = '1D'\n",
       "    name = 'ML_RATE_b1'; format = '1D'; unit = 'counts/s'\n",
       "    name = 'ML_RATE_b2'; format = '1D'; unit = 'counts/s'\n",
       "    name = 'ML_RATE_b3'; format = '1D'; unit = 'counts/s'\n",
       "    name = 'ML_RATE_b4'; format = '1D'; unit = 'counts/s'\n",
       "    name = 'ML_RATE_s'; format = '1D'; unit = 'counts/s'\n",
       "    name = 'ML_RATE_h'; format = '1D'; unit = 'counts/s'\n",
       "    name = 'ML_RATE_u'; format = '1D'; unit = 'counts/s'\n",
       "    name = 'ML_RATE_ERR_b1'; format = '1D'; unit = 'counts/s'\n",
       "    name = 'ML_RATE_ERR_b2'; format = '1D'; unit = 'counts/s'\n",
       "    name = 'ML_RATE_ERR_b3'; format = '1D'; unit = 'counts/s'\n",
       "    name = 'ML_RATE_ERR_b4'; format = '1D'; unit = 'counts/s'\n",
       "    name = 'ML_RATE_ERR_s'; format = '1D'; unit = 'counts/s'\n",
       "    name = 'ML_RATE_ERR_h'; format = '1D'; unit = 'counts/s'\n",
       "    name = 'ML_RATE_ERR_u'; format = '1D'; unit = 'counts/s'\n",
       "    name = 'ML_RATE_LOWERR_b1'; format = '1D'; unit = 'counts/s'\n",
       "    name = 'ML_RATE_LOWERR_b2'; format = '1D'; unit = 'counts/s'\n",
       "    name = 'ML_RATE_LOWERR_b3'; format = '1D'; unit = 'counts/s'\n",
       "    name = 'ML_RATE_LOWERR_b4'; format = '1D'; unit = 'counts/s'\n",
       "    name = 'ML_RATE_LOWERR_s'; format = '1D'; unit = 'counts/s'\n",
       "    name = 'ML_RATE_LOWERR_h'; format = '1D'; unit = 'counts/s'\n",
       "    name = 'ML_RATE_LOWERR_u'; format = '1D'; unit = 'counts/s'\n",
       "    name = 'ML_RATE_UPERR_b1'; format = '1D'; unit = 'counts/s'\n",
       "    name = 'ML_RATE_UPERR_b2'; format = '1D'; unit = 'counts/s'\n",
       "    name = 'ML_RATE_UPERR_b3'; format = '1D'; unit = 'counts/s'\n",
       "    name = 'ML_RATE_UPERR_b4'; format = '1D'; unit = 'counts/s'\n",
       "    name = 'ML_RATE_UPERR_s'; format = '1D'; unit = 'counts/s'\n",
       "    name = 'ML_RATE_UPERR_h'; format = '1D'; unit = 'counts/s'\n",
       "    name = 'ML_RATE_UPERR_u'; format = '1D'; unit = 'counts/s'\n",
       "    name = 'ML_CTS_b1'; format = '1D'; unit = 'counts'\n",
       "    name = 'ML_CTS_b2'; format = '1D'; unit = 'counts'\n",
       "    name = 'ML_CTS_b3'; format = '1D'; unit = 'counts'\n",
       "    name = 'ML_CTS_b4'; format = '1D'; unit = 'counts'\n",
       "    name = 'ML_CTS_s'; format = '1D'; unit = 'counts'\n",
       "    name = 'ML_CTS_h'; format = '1D'; unit = 'counts'\n",
       "    name = 'ML_CTS_u'; format = '1D'; unit = 'counts'\n",
       "    name = 'ML_CTS_ERR_b1'; format = '1D'; unit = 'counts'\n",
       "    name = 'ML_CTS_ERR_b2'; format = '1D'; unit = 'counts'\n",
       "    name = 'ML_CTS_ERR_b3'; format = '1D'; unit = 'counts'\n",
       "    name = 'ML_CTS_ERR_b4'; format = '1D'; unit = 'counts'\n",
       "    name = 'ML_CTS_ERR_s'; format = '1D'; unit = 'counts'\n",
       "    name = 'ML_CTS_ERR_h'; format = '1D'; unit = 'counts'\n",
       "    name = 'ML_CTS_ERR_u'; format = '1D'; unit = 'counts'\n",
       "    name = 'ML_CTS_LOWERR_b1'; format = '1D'; unit = 'counts'\n",
       "    name = 'ML_CTS_LOWERR_b2'; format = '1D'; unit = 'counts'\n",
       "    name = 'ML_CTS_LOWERR_b3'; format = '1D'; unit = 'counts'\n",
       "    name = 'ML_CTS_LOWERR_b4'; format = '1D'; unit = 'counts'\n",
       "    name = 'ML_CTS_LOWERR_s'; format = '1D'; unit = 'counts'\n",
       "    name = 'ML_CTS_LOWERR_h'; format = '1D'; unit = 'counts'\n",
       "    name = 'ML_CTS_LOWERR_u'; format = '1D'; unit = 'counts'\n",
       "    name = 'ML_CTS_UPERR_b1'; format = '1D'; unit = 'counts'\n",
       "    name = 'ML_CTS_UPERR_b2'; format = '1D'; unit = 'counts'\n",
       "    name = 'ML_CTS_UPERR_b3'; format = '1D'; unit = 'counts'\n",
       "    name = 'ML_CTS_UPERR_b4'; format = '1D'; unit = 'counts'\n",
       "    name = 'ML_CTS_UPERR_s'; format = '1D'; unit = 'counts'\n",
       "    name = 'ML_CTS_UPERR_h'; format = '1D'; unit = 'counts'\n",
       "    name = 'ML_CTS_UPERR_u'; format = '1D'; unit = 'counts'\n",
       "    name = 'ML_FLUX_b1'; format = '1D'; unit = 'erg/cm^2/s'\n",
       "    name = 'ML_FLUX_b2'; format = '1D'; unit = 'erg/cm^2/s'\n",
       "    name = 'ML_FLUX_b3'; format = '1D'; unit = 'erg/cm^2/s'\n",
       "    name = 'ML_FLUX_b4'; format = '1D'; unit = 'erg/cm^2/s'\n",
       "    name = 'ML_FLUX_s'; format = '1D'; unit = 'erg/cm^2/s'\n",
       "    name = 'ML_FLUX_h'; format = '1D'; unit = 'erg/cm^2/s'\n",
       "    name = 'ML_FLUX_u'; format = '1D'; unit = 'erg/cm^2/s'\n",
       "    name = 'ML_FLUX_ERR_b1'; format = '1D'; unit = 'erg/cm^2/s'\n",
       "    name = 'ML_FLUX_ERR_b2'; format = '1D'; unit = 'erg/cm^2/s'\n",
       "    name = 'ML_FLUX_ERR_b3'; format = '1D'; unit = 'erg/cm^2/s'\n",
       "    name = 'ML_FLUX_ERR_b4'; format = '1D'; unit = 'erg/cm^2/s'\n",
       "    name = 'ML_FLUX_ERR_s'; format = '1D'; unit = 'erg/cm^2/s'\n",
       "    name = 'ML_FLUX_ERR_h'; format = '1D'; unit = 'erg/cm^2/s'\n",
       "    name = 'ML_FLUX_ERR_u'; format = '1D'; unit = 'erg/cm^2/s'\n",
       "    name = 'ML_FLUX_LOWERR_b1'; format = '1D'; unit = 'erg/cm^2/s'\n",
       "    name = 'ML_FLUX_LOWERR_b2'; format = '1D'; unit = 'erg/cm^2/s'\n",
       "    name = 'ML_FLUX_LOWERR_b3'; format = '1D'; unit = 'erg/cm^2/s'\n",
       "    name = 'ML_FLUX_LOWERR_b4'; format = '1D'; unit = 'erg/cm^2/s'\n",
       "    name = 'ML_FLUX_LOWERR_s'; format = '1D'; unit = 'erg/cm^2/s'\n",
       "    name = 'ML_FLUX_LOWERR_h'; format = '1D'; unit = 'erg/cm^2/s'\n",
       "    name = 'ML_FLUX_LOWERR_u'; format = '1D'; unit = 'erg/cm^2/s'\n",
       "    name = 'ML_FLUX_UPERR_b1'; format = '1D'; unit = 'erg/cm^2/s'\n",
       "    name = 'ML_FLUX_UPERR_b2'; format = '1D'; unit = 'erg/cm^2/s'\n",
       "    name = 'ML_FLUX_UPERR_b3'; format = '1D'; unit = 'erg/cm^2/s'\n",
       "    name = 'ML_FLUX_UPERR_b4'; format = '1D'; unit = 'erg/cm^2/s'\n",
       "    name = 'ML_FLUX_UPERR_s'; format = '1D'; unit = 'erg/cm^2/s'\n",
       "    name = 'ML_FLUX_UPERR_h'; format = '1D'; unit = 'erg/cm^2/s'\n",
       "    name = 'ML_FLUX_UPERR_u'; format = '1D'; unit = 'erg/cm^2/s'\n",
       "    name = 'ML_EXP_b1'; format = '1D'; unit = 'seconds'\n",
       "    name = 'ML_EXP_b2'; format = '1D'; unit = 'seconds'\n",
       "    name = 'ML_EXP_b3'; format = '1D'; unit = 'seconds'\n",
       "    name = 'ML_EXP_b4'; format = '1D'; unit = 'seconds'\n",
       "    name = 'ML_EXP_s'; format = '1D'; unit = 'seconds'\n",
       "    name = 'ML_EXP_h'; format = '1D'; unit = 'seconds'\n",
       "    name = 'ML_EXP_u'; format = '1D'; unit = 'seconds'\n",
       "    name = 'ML_BKG_b1'; format = '1D'; unit = 'counts/arcmin^2'\n",
       "    name = 'ML_BKG_b2'; format = '1D'; unit = 'counts/arcmin^2'\n",
       "    name = 'ML_BKG_b3'; format = '1D'; unit = 'counts/arcmin^2'\n",
       "    name = 'ML_BKG_b4'; format = '1D'; unit = 'counts/arcmin^2'\n",
       "    name = 'ML_BKG_s'; format = '1D'; unit = 'counts/arcmin^2'\n",
       "    name = 'ML_BKG_h'; format = '1D'; unit = 'counts/arcmin^2'\n",
       "    name = 'ML_BKG_u'; format = '1D'; unit = 'counts/arcmin^2'\n",
       "    name = 'APE_CTS_b1'; format = '1J'; unit = 'counts'\n",
       "    name = 'APE_CTS_b2'; format = '1J'; unit = 'counts'\n",
       "    name = 'APE_CTS_b3'; format = '1J'; unit = 'counts'\n",
       "    name = 'APE_CTS_b4'; format = '1J'; unit = 'counts'\n",
       "    name = 'APE_CTS_s'; format = '1J'; unit = 'counts'\n",
       "    name = 'APE_CTS_h'; format = '1J'; unit = 'counts'\n",
       "    name = 'APE_CTS_u'; format = '1J'; unit = 'counts'\n",
       "    name = 'APE_EXP_b1'; format = '1D'; unit = 'seconds'\n",
       "    name = 'APE_EXP_b2'; format = '1D'; unit = 'seconds'\n",
       "    name = 'APE_EXP_b3'; format = '1D'; unit = 'seconds'\n",
       "    name = 'APE_EXP_b4'; format = '1D'; unit = 'seconds'\n",
       "    name = 'APE_EXP_s'; format = '1D'; unit = 'seconds'\n",
       "    name = 'APE_EXP_h'; format = '1D'; unit = 'seconds'\n",
       "    name = 'APE_EXP_u'; format = '1D'; unit = 'seconds'\n",
       "    name = 'APE_BKG_b1'; format = '1D'; unit = 'counts'\n",
       "    name = 'APE_BKG_b2'; format = '1D'; unit = 'counts'\n",
       "    name = 'APE_BKG_b3'; format = '1D'; unit = 'counts'\n",
       "    name = 'APE_BKG_b4'; format = '1D'; unit = 'counts'\n",
       "    name = 'APE_BKG_s'; format = '1D'; unit = 'counts'\n",
       "    name = 'APE_BKG_h'; format = '1D'; unit = 'counts'\n",
       "    name = 'APE_BKG_u'; format = '1D'; unit = 'counts'\n",
       "    name = 'APE_RADIUS_b1'; format = '1D'; unit = 'pixels'\n",
       "    name = 'APE_RADIUS_b2'; format = '1D'; unit = 'pixels'\n",
       "    name = 'APE_RADIUS_b3'; format = '1D'; unit = 'pixels'\n",
       "    name = 'APE_RADIUS_b4'; format = '1D'; unit = 'pixels'\n",
       "    name = 'APE_RADIUS_s'; format = '1D'; unit = 'pixels'\n",
       "    name = 'APE_RADIUS_h'; format = '1D'; unit = 'pixels'\n",
       "    name = 'APE_RADIUS_u'; format = '1D'; unit = 'pixels'\n",
       "    name = 'APE_POIS_b1'; format = '1D'\n",
       "    name = 'APE_POIS_b2'; format = '1D'\n",
       "    name = 'APE_POIS_b3'; format = '1D'\n",
       "    name = 'APE_POIS_b4'; format = '1D'\n",
       "    name = 'APE_POIS_s'; format = '1D'\n",
       "    name = 'APE_POIS_h'; format = '1D'\n",
       "    name = 'APE_POIS_u'; format = '1D'\n",
       ")"
      ]
     },
     "execution_count": 29,
     "metadata": {},
     "output_type": "execute_result"
    }
   ],
   "source": [
    "eFEDS_c001_maindata.columns"
   ]
  },
  {
   "cell_type": "markdown",
   "id": "ad70bc4b",
   "metadata": {},
   "source": [
    "## eROSITA/eFEDS variable point sources"
   ]
  },
  {
   "cell_type": "code",
   "execution_count": null,
   "id": "09dba2c0",
   "metadata": {},
   "outputs": [],
   "source": []
  },
  {
   "cell_type": "code",
   "execution_count": null,
   "id": "6241a378",
   "metadata": {},
   "outputs": [],
   "source": []
  },
  {
   "cell_type": "code",
   "execution_count": 24,
   "id": "9b1e8a53",
   "metadata": {
    "ExecuteTime": {
     "end_time": "2023-10-19T17:03:03.655478Z",
     "start_time": "2023-10-19T17:03:03.648176Z"
    }
   },
   "outputs": [],
   "source": [
    "eFEDS_c001_Lightcurves_softhard_V=fits.open('/Users/lyubing/Downloads/erosita/eFEDS_c001_Lightcurves_softhard_V5.fits')"
   ]
  },
  {
   "cell_type": "code",
   "execution_count": 25,
   "id": "621d289c",
   "metadata": {
    "ExecuteTime": {
     "end_time": "2023-10-19T17:03:03.998364Z",
     "start_time": "2023-10-19T17:03:03.984453Z"
    }
   },
   "outputs": [
    {
     "name": "stdout",
     "output_type": "stream",
     "text": [
      "Filename: /Users/lyubing/Downloads/erosita/eFEDS_c001_Lightcurves_softhard_V5.fits\n",
      "No.    Name      Ver    Type      Cards   Dimensions   Format\n",
      "  0  PRIMARY       1 PrimaryHDU      16   (19633,)   uint8   \n",
      "  1  data_all_eFEDS_variability.tsv    1 BinTableHDU    175   27910R x 62C   [I, E, D, D, D, D, D, L, D, D, L, E, L, E, E, L, E, E, E, E, D, D, D, D, D, L, D, D, L, E, L, E, E, L, E, E, E, E, D, D, D, D, D, L, D, D, L, E, L, E, E, L, E, E, E, L, L, L, L, L, L, L]   \n"
     ]
    }
   ],
   "source": [
    "eFEDS_c001_Lightcurves_softhard_V.info()"
   ]
  },
  {
   "cell_type": "code",
   "execution_count": 26,
   "id": "2e03a115",
   "metadata": {
    "ExecuteTime": {
     "end_time": "2023-10-19T17:03:04.720539Z",
     "start_time": "2023-10-19T17:03:04.680116Z"
    }
   },
   "outputs": [],
   "source": [
    "eFEDS_c001_Lightcurves_softhard_Vdata=eFEDS_c001_Lightcurves_softhard_V[1].data"
   ]
  },
  {
   "cell_type": "code",
   "execution_count": 27,
   "id": "06cff6af",
   "metadata": {
    "ExecuteTime": {
     "end_time": "2023-10-19T17:03:05.307818Z",
     "start_time": "2023-10-19T17:03:05.298274Z"
    }
   },
   "outputs": [
    {
     "data": {
      "text/plain": [
       "SIMPLE  =                    T / Standard FITS format                           \n",
       "BITPIX  =                    8 / Character data                                 \n",
       "NAXIS   =                    1 / Text string                                    \n",
       "NAXIS1  =                19633 / Number of characters                           \n",
       "VOTMETA =                    T / Table metadata in VOTable format               \n",
       "EXTEND  =                    T / There are standard extensions                  \n",
       "COMMENT                                                                         \n",
       "COMMENT The data in this primary HDU consists of bytes which                    \n",
       "COMMENT comprise a VOTABLE document.                                            \n",
       "COMMENT The VOTable describes the metadata of the table contained               \n",
       "COMMENT in the following BINTABLE extension.                                    \n",
       "COMMENT Such a BINTABLE extension can be used on its own as a perfectly         \n",
       "COMMENT good table, but the information from this HDU may provide some          \n",
       "COMMENT useful additional metadata.                                             \n",
       "COMMENT There is one following BINTABLE.                                        \n",
       "NTABLE  =                    1 / Number of following BINTABLE HDUs              "
      ]
     },
     "execution_count": 27,
     "metadata": {},
     "output_type": "execute_result"
    }
   ],
   "source": [
    "eFEDS_c001_Lightcurves_softhard_V[0].header"
   ]
  },
  {
   "cell_type": "code",
   "execution_count": 32,
   "id": "60edd416",
   "metadata": {
    "ExecuteTime": {
     "end_time": "2023-10-23T09:30:35.445708Z",
     "start_time": "2023-10-23T09:30:35.433282Z"
    }
   },
   "outputs": [
    {
     "data": {
      "text/plain": [
       "27910"
      ]
     },
     "execution_count": 32,
     "metadata": {},
     "output_type": "execute_result"
    }
   ],
   "source": [
    "len(eFEDS_c001_Lightcurves_softhard_Vdata['SRCID'])#.columns"
   ]
  },
  {
   "cell_type": "code",
   "execution_count": 30,
   "id": "822943eb",
   "metadata": {
    "ExecuteTime": {
     "end_time": "2023-10-23T09:30:23.778657Z",
     "start_time": "2023-10-23T09:30:23.763050Z"
    }
   },
   "outputs": [
    {
     "data": {
      "text/plain": [
       "array([    1,     2,     3, ..., 32680, 32681, 32683], dtype=int16)"
      ]
     },
     "execution_count": 30,
     "metadata": {},
     "output_type": "execute_result"
    }
   ],
   "source": [
    "eFEDS_c001_Lightcurves_softhard_Vdata['SRCID']#.columns"
   ]
  },
  {
   "cell_type": "code",
   "execution_count": null,
   "id": "ac35475b",
   "metadata": {},
   "outputs": [],
   "source": []
  },
  {
   "cell_type": "code",
   "execution_count": null,
   "id": "7ab7521e",
   "metadata": {},
   "outputs": [],
   "source": []
  },
  {
   "cell_type": "code",
   "execution_count": null,
   "id": "80689ad9",
   "metadata": {},
   "outputs": [],
   "source": []
  },
  {
   "cell_type": "code",
   "execution_count": 14,
   "id": "0983f081",
   "metadata": {
    "ExecuteTime": {
     "end_time": "2023-10-19T13:16:06.246715Z",
     "start_time": "2023-10-19T13:16:06.238210Z"
    }
   },
   "outputs": [
    {
     "data": {
      "text/plain": [
       "27910"
      ]
     },
     "execution_count": 14,
     "metadata": {},
     "output_type": "execute_result"
    }
   ],
   "source": [
    "len(eFEDS_c001_Lightcurves_softhard_Vdata)"
   ]
  },
  {
   "cell_type": "code",
   "execution_count": null,
   "id": "8a07d273",
   "metadata": {},
   "outputs": [],
   "source": []
  },
  {
   "cell_type": "code",
   "execution_count": null,
   "id": "24ebf7b6",
   "metadata": {},
   "outputs": [],
   "source": []
  },
  {
   "cell_type": "code",
   "execution_count": null,
   "id": "dc0678d3",
   "metadata": {},
   "outputs": [],
   "source": []
  },
  {
   "cell_type": "markdown",
   "id": "7faec6bd",
   "metadata": {},
   "source": [
    "# 3C390.3"
   ]
  },
  {
   "cell_type": "markdown",
   "id": "89a7af91",
   "metadata": {
    "ExecuteTime": {
     "end_time": "2023-10-16T02:31:21.833920Z",
     "start_time": "2023-10-16T02:31:21.569166Z"
    }
   },
   "source": [
    "c1= fits.open('/Users/lyubing/heasoft/eROSITA_install/eSASS/data/3C390/pi00_900060_020_EventList_c001.fits')\n",
    "\n"
   ]
  },
  {
   "cell_type": "markdown",
   "id": "51134f33",
   "metadata": {
    "ExecuteTime": {
     "end_time": "2023-10-16T02:18:11.680211Z",
     "start_time": "2023-10-16T02:18:11.641553Z"
    }
   },
   "source": [
    "c1.info()"
   ]
  },
  {
   "cell_type": "code",
   "execution_count": 15,
   "id": "23417b27",
   "metadata": {
    "ExecuteTime": {
     "end_time": "2023-10-16T02:31:46.835765Z",
     "start_time": "2023-10-16T02:31:46.670347Z"
    }
   },
   "outputs": [
    {
     "name": "stdout",
     "output_type": "stream",
     "text": [
      "/Users/lyubing/Downloads/erosita/3C390/pi00_900060_020_EventList_c001.fits\r\n",
      "/Users/lyubing/Downloads/erosita/3C390/pi00_900068_020_EventList_c001.fits\r\n",
      "/Users/lyubing/Downloads/erosita/3C390/pi00_900069_020_EventList_c001.fits\r\n",
      "/Users/lyubing/Downloads/erosita/3C390/pi00_900070_020_EventList_c001.fits\r\n"
     ]
    }
   ],
   "source": [
    "ls /Users/lyubing/Downloads/erosita/3C390/*.fits"
   ]
  },
  {
   "cell_type": "markdown",
   "id": "4fc4fbd0",
   "metadata": {},
   "source": [
    "## evtool "
   ]
  },
  {
   "cell_type": "code",
   "execution_count": null,
   "id": "20b2bc78",
   "metadata": {},
   "outputs": [],
   "source": [
    "evtool eventfiles=\"pi00_900060_020_EventList_c001.fits pi00_900060_020_EventList_c001.fits pi00_900069_020_EventList_c001.fits pi00_900070_020_EventList_c001.fits\" outfile=\"events_image_comb.fits\" image=yes emin=0.5 emax=2.0\n",
    "\n",
    "\n",
    "#keV"
   ]
  },
  {
   "cell_type": "markdown",
   "id": "897253c9",
   "metadata": {},
   "source": [
    "## expmap"
   ]
  },
  {
   "cell_type": "code",
   "execution_count": null,
   "id": "4b9010e1",
   "metadata": {},
   "outputs": [],
   "source": [
    "expmap inputdatasets=\"events_image_comb.fits\" emin=0.5 emax=2.0 \\\n",
    "          templateimage=\"events_image_comb.fits\" mergedmaps=\"output_expmap.fits\" \n",
    "\n",
    "#keV"
   ]
  },
  {
   "cell_type": "markdown",
   "id": "91de3e30",
   "metadata": {},
   "source": [
    "## ermask"
   ]
  },
  {
   "cell_type": "code",
   "execution_count": null,
   "id": "dc26915a",
   "metadata": {},
   "outputs": [],
   "source": [
    "ermask expimage=\"output_expmap.fits\" detmask=\"detmask.fits\""
   ]
  },
  {
   "cell_type": "markdown",
   "id": "087ececf",
   "metadata": {},
   "source": [
    "## erbox"
   ]
  },
  {
   "cell_type": "code",
   "execution_count": null,
   "id": "7db8a591",
   "metadata": {},
   "outputs": [],
   "source": [
    "erbox images=\"events_image_comb.fits\" boxlist=\"boxlist_local.fits\" emin=500 emax=2000 expimages=\"output_expmap.fits\" detmasks=\"detmask.fits\" bkgima_flag=N ecf=1\n",
    "\n",
    "#eV\n"
   ]
  },
  {
   "cell_type": "markdown",
   "id": "5373caee",
   "metadata": {},
   "source": [
    "## erbackmap "
   ]
  },
  {
   "cell_type": "code",
   "execution_count": null,
   "id": "8c604619",
   "metadata": {},
   "outputs": [],
   "source": [
    "erbackmap image=\"events_image_comb.fits\" expimage=\"output_expmap.fits\" boxlist=\"boxlist_local.fits\" detmask=\"detmask.fits\" bkgimage=\"bkg_map.fits\" emin=500 emax=2000 cheesemask=\"cheesemask.fits\"\n",
    "\n"
   ]
  },
  {
   "cell_type": "markdown",
   "id": "df261e16",
   "metadata": {},
   "source": [
    "## erbox"
   ]
  },
  {
   "cell_type": "code",
   "execution_count": null,
   "id": "f1abe4a0",
   "metadata": {},
   "outputs": [],
   "source": [
    "erbox images=\"events_image_comb.fits\" boxlist=\"boxlist_map.fits\" expimages=\"output_expmap.fits\" detmasks=\"detmask.fits\" bkgimages=\"bkg_map.fits\" emin=500 emax=2000 bkgima_flag=Y ecf=1\n"
   ]
  },
  {
   "cell_type": "code",
   "execution_count": null,
   "id": "8c9c2b26",
   "metadata": {},
   "outputs": [],
   "source": []
  },
  {
   "cell_type": "code",
   "execution_count": null,
   "id": "2b1dd807",
   "metadata": {},
   "outputs": [],
   "source": []
  },
  {
   "cell_type": "markdown",
   "id": "6cdb188d",
   "metadata": {},
   "source": [
    "## ermldet"
   ]
  },
  {
   "cell_type": "code",
   "execution_count": null,
   "id": "63e5021d",
   "metadata": {},
   "outputs": [],
   "source": [
    "ermldet mllist=\"mllist.fits\" boxlist=\"boxlist_map.fits\" images=\"events_image_comb.fits\" expimages=\"output_expmap.fits\" detmasks=\"detmask.fits\" bkgimages=\"bkg_map.fits\" extentmodel=beta srcimages=\"sourceimage.fits\" emin=500 emax=2000\n"
   ]
  },
  {
   "cell_type": "code",
   "execution_count": null,
   "id": "9fef4c7d",
   "metadata": {},
   "outputs": [],
   "source": [
    "ermldet mllist=\"mllist.fits\" boxlist=\"boxlist_map.fits\" images=\"events_image_comb.fits\" expimages=\"output_expmap.fits\" detmasks=\"detmask.fits\" bkgimages=\"bkg_map.fits\" extentmodel=gaussian srcimages=\"sourceimage.fits\" emin=500 emax=2000\n"
   ]
  },
  {
   "cell_type": "markdown",
   "id": "c7a4bec3",
   "metadata": {},
   "source": [
    "Note that the extended model can be either Gaussian or Beta, depending on the user necessities."
   ]
  },
  {
   "cell_type": "markdown",
   "id": "c7d95804",
   "metadata": {},
   "source": [
    "## catprep"
   ]
  },
  {
   "cell_type": "code",
   "execution_count": null,
   "id": "0cf6b6b1",
   "metadata": {},
   "outputs": [],
   "source": [
    "catprep infile=\"mllist.fits\" outfile=\"catalog.fits\"\n"
   ]
  },
  {
   "cell_type": "markdown",
   "id": "65649c3f",
   "metadata": {},
   "source": [
    "## srctool"
   ]
  },
  {
   "cell_type": "code",
   "execution_count": null,
   "id": "1f1dea4c",
   "metadata": {},
   "outputs": [],
   "source": [
    "srctool eventfiles=\"events_image_comb.fits\" todo=ALL srccoord=\"catalog.fits\" srcreg='fk5;circle * * 60\"' backreg='fk5;annulus * * 90\" 120\"' clobber=yes"
   ]
  },
  {
   "cell_type": "code",
   "execution_count": null,
   "id": "881566ea",
   "metadata": {},
   "outputs": [],
   "source": []
  },
  {
   "cell_type": "code",
   "execution_count": null,
   "id": "be61fa28",
   "metadata": {},
   "outputs": [],
   "source": []
  },
  {
   "cell_type": "markdown",
   "id": "62312e1c",
   "metadata": {},
   "source": [
    "In the following, a step-by-step example of how to obtain source catalogues and products is shown. The example uses the default values for each eSASS task, and not all the task options are shown. For more specific requirements refer to the individual task pages.\n",
    "\n",
    "1. evtool merges the input event files and creates an image in a given energy band:\n",
    "\n",
    " $ evtool eventfiles=\"events1.fits events2.fits ... events7.fits\" \\\n",
    "\t  outfile=\"events_image_comb.fits\" image=yes emin=0.5 emax=2.0\n",
    "The output file events_image_comb.fits will have events and image extensions.\n",
    "\n",
    "2. expmap computes the exposure map in a given energy band:\n",
    "\n",
    " $ expmap inputdatasets=\"events_image_comb.fits\" emin=0.5 emax=2.0 \\\n",
    "          templateimage=\"events_image_comb.fits\" mergedmaps=\"output_expmap.fits\" \n",
    "3. ermask creates a detection mask for the eSASS source detection chain:\n",
    "\n",
    " $ ermask expimage=\"output_expmap.fits\" detmask=\"detmask.fits\"\n",
    "4. erbox in local mode is the first step on the eSASS source detection chain.\n",
    "\n",
    " $ erbox images=\"events_image_comb.fits\" boxlist=\"boxlist_local.fits\" emin=500 emax=2000 \\\n",
    "\t expimages=\"output_expmap.fits\" detmasks=\"detmask.fits\" bkgima_flag=N ecf=1\n",
    "Note that bkgima_flag=N since the background map is created in the next step. An energy conversion factor (ecf) is necessary for erbox to run.\n",
    "\n",
    "5. erbackmap creates a background map by masking sources detected by erbox:\n",
    "\n",
    " $ erbackmap image=\"events_image_comb.fits\" expimage=\"output_expmap.fits\" \\\n",
    "\t     boxlist=\"boxlist_local.fits\" detmask=\"detmask.fits\" bkgimage=\"bkg_map.fits\" emin=500 \\\n",
    "\t     emax=2000 cheesemask=\"cheesemask.fits\"\n",
    "6. erbox in map mode is the second step on the eSASS source detection chain:\n",
    "\n",
    " $ erbox images=\"events_image_comb.fits\" boxlist=\"boxlist_map.fits\" expimages=\"output_expmap.fits\" \\\n",
    "         detmasks=\"detmask.fits\" bkgimages=\"bkg_map.fits\" emin=500 emax=2000 ecf=1\n",
    "7. ermldet characterise the detected sources and determines source parameters:\n",
    "\n",
    " $ ermldet mllist=\"mllist.fits\" boxlist=\"boxlist_map.fits\" images=\"events_image_comb.fits\" \\\n",
    "\t   expimages=\"output_expmap.fits\" detmasks=\"detmask.fits\" bkgimages=\"bkg_map.fits\" \\\n",
    "\t   extentmodel=beta srcimages=\"sourceimage.fits\" emin=500 emax=2000\n",
    "Note that the extended model can be either Gaussian or Beta, depending on the user necessities.\n",
    "\n",
    "8. catprep converts the output of ermldet into the catalog file format:\n",
    "\n",
    " $ catprep infile=\"mllist.fits\" outfile=\"catalog.fits\"\n",
    "9. srctool derives source products (spectra, light-curves and corresponding instrumental files):\n",
    "\n",
    " $ srctool eventfiles=\"events_image_comb.fits\" todo=ALL srccoord=\"catalog.fits\" \\\n",
    "           srcreg='fk5;circle * * 60\"' backreg='fk5;annulus * * 90\" 120\"' clobber=yes\n",
    "In this case, srctool will extract all types of source and background products for all detected sources in the catalog.fits file.\n",
    "\n",
    "2 Quick analysis guide"
   ]
  },
  {
   "cell_type": "code",
   "execution_count": null,
   "id": "cd4b4b03",
   "metadata": {},
   "outputs": [],
   "source": []
  },
  {
   "cell_type": "code",
   "execution_count": null,
   "id": "3a3bcffb",
   "metadata": {},
   "outputs": [],
   "source": []
  },
  {
   "cell_type": "markdown",
   "id": "7a2b4444",
   "metadata": {},
   "source": [
    "2.7 How to create an event file from a given region?\n",
    "evtool can filter an input event list according to a specified region (file or expression):\n",
    "\n",
    " $ evtool eventfiles=\"events.fits\" outfile=\"events_image_comb.fits\" region=\"fk5;circle(90,23,1.2)\"\n",
    "or\n",
    "\n",
    " $ evtool eventfiles=\"events.fits\" outfile=\"events_image_comb.fits\" region=\"regionfile.reg\"\n",
    "The region files must be created before calling evtool with your favourite text editor, and it must contain one region per line.\n",
    "\n",
    "2.8 How to extract an event file using good time intervals (GTIs)?\n",
    "evtool can filter an input event list according to a specified time range (STDGTI extension or time range):\n",
    "\n",
    " $ evtool eventfiles=\"events.fits\" gti=\"TSTART TSTOP\" outfile=\"events_filtered.fits\"\n",
    "where TSTART is the beginning of the GTI and TSTOP is the end of the GTI in seconds. TSTART and TSTOP values must be covered by the used observation.\n",
    "\n",
    "2.9 Which good time intervals (GTIs) should I use to produce an exposure map?\n",
    "The option gtitype in the task expmap specifies the type of good time intervals (GTIs) to be used for exposure map creation. The default value is GTI. If the user wishes to also exclude flared times, obtained e.g. with the task flaregti, then gtitype=FLAREGTI should be used:\n",
    "\n",
    " $ expmap eventfiles=\"events.fits\" gtitype=FLAREGTI outfile=\"events_flarefiltered.fits\"\n",
    "2.10 How to extract a light-curve of a point source?\n",
    "One of the source products from srctool is a light curve ( todo=\"LC LCCORR\" ) option), for example:\n",
    "\n",
    " $ srctool eventfiles=\"events.fits\" exttype=\"POINT\" srccoord=\"fk5;99.0,-20.0\" todo=\"LC LCCORR\"\n",
    "The option srccoord should include the coordinates of the source of interest within the observation. One can choose the instrument (insts option), the binning (lcpars option), energy range (lcemin and lcemax options), etc.\n",
    "\n",
    "2.11 How to extract a spectrum/ARF/RMF for a point source?\n",
    "srctool can extract the spectrum of a point source (exttype=\"POINT\"):\n",
    "\n",
    " $ srctool eventfiles=\"events.fits\" exttype=\"POINT\" srccoord=\"fk5;99.0,-20.0\" todo=\"SPEC ARF RMF\"\n",
    "2.12 How to extract a spectrum/ARF/RMF for an extended source?\n",
    "srctool can extract the spectrum of an extended source (exttype=\"tophat\"):\n",
    "\n",
    " $ srctool eventfiles=\"events.fits\" exttype=\"tophat\" srccoord=\"fk5;20.0,-99.0\" \\\n",
    "\t   todo=\"SPEC ARF RMF\" PSFtype=none extpars=60\n",
    "The extpars option depends on the value of the exttype parameter. When using a map to describe a source extent, the PSF corrections must be turned off (PSFtype=none). However, when extracting source products for relatively compact and circularly symmetric extended source, one should turn on PSF modelling, since PSF losses are likely to be important."
   ]
  },
  {
   "cell_type": "code",
   "execution_count": null,
   "id": "f0b25129",
   "metadata": {},
   "outputs": [],
   "source": []
  }
 ],
 "metadata": {
  "kernelspec": {
   "display_name": "Python 3 (ipykernel)",
   "language": "python",
   "name": "python3"
  },
  "language_info": {
   "codemirror_mode": {
    "name": "ipython",
    "version": 3
   },
   "file_extension": ".py",
   "mimetype": "text/x-python",
   "name": "python",
   "nbconvert_exporter": "python",
   "pygments_lexer": "ipython3",
   "version": "3.9.12"
  },
  "latex_envs": {
   "LaTeX_envs_menu_present": true,
   "autoclose": false,
   "autocomplete": true,
   "bibliofile": "biblio.bib",
   "cite_by": "apalike",
   "current_citInitial": 1,
   "eqLabelWithNumbers": true,
   "eqNumInitial": 1,
   "hotkeys": {
    "equation": "Ctrl-E",
    "itemize": "Ctrl-I"
   },
   "labels_anchors": false,
   "latex_user_defs": false,
   "report_style_numbering": false,
   "user_envs_cfg": false
  },
  "toc": {
   "base_numbering": 1,
   "nav_menu": {},
   "number_sections": true,
   "sideBar": true,
   "skip_h1_title": false,
   "title_cell": "Table of Contents",
   "title_sidebar": "Contents",
   "toc_cell": false,
   "toc_position": {},
   "toc_section_display": true,
   "toc_window_display": false
  }
 },
 "nbformat": 4,
 "nbformat_minor": 5
}
