{
 "cells": [
  {
   "cell_type": "code",
   "execution_count": 1,
   "metadata": {
    "ExecuteTime": {
     "end_time": "2020-06-29T15:13:20.503879Z",
     "start_time": "2020-06-29T15:13:17.980356Z"
    },
    "collapsed": true
   },
   "outputs": [],
   "source": [
    "from pylab import *\n",
    "from matplotlib.ticker import MultipleLocator, FormatStrFormatter\n",
    "import matplotlib.pyplot as plt\n",
    "import numpy as np\n",
    "import pandas as pd\n",
    "import pyfits\n",
    "from astropy import constants\n",
    "from astropy import units\n",
    "from collections import OrderedDict\n",
    "\n",
    "from matplotlib.ticker import NullFormatter  # useful for `logit` scale\n",
    "from astropy.time import Time\n",
    "\n",
    "from astropy.stats import LombScargle\n",
    "plt.style.use('seaborn-whitegrid')\n",
    "\n",
    "%matplotlib inline\n",
    "%config InlineBackend.figure_format='svg'\n",
    "#%config InlineBackend.figure_format='retina'"
   ]
  },
  {
   "cell_type": "markdown",
   "metadata": {},
   "source": [
    "# data"
   ]
  },
  {
   "cell_type": "code",
   "execution_count": 2,
   "metadata": {
    "ExecuteTime": {
     "end_time": "2020-06-29T15:13:25.306938Z",
     "start_time": "2020-06-29T15:13:25.160148Z"
    },
    "collapsed": false
   },
   "outputs": [
    {
     "name": "stderr",
     "output_type": "stream",
     "text": [
      "/Users/brettlv/anaconda3/lib/python3.6/site-packages/ipykernel/__main__.py:4: FutureWarning: read_table is deprecated, use read_csv instead.\n"
     ]
    }
   ],
   "source": [
    "data_allwise_epoch=pd.read_csv('/Users/brettlv/Downloads/wise_cl/NGC1566_multi_epoch.csv')\n",
    "data_neowise=pd.read_csv('/Users/brettlv/Downloads/wise_cl/NGC1566_neo.csv')\n",
    "\n",
    "data_xrt_fit_NGC1566 = pd.read_table(\"/Users/brettlv/Downloads/wise_cl/xrt_fit_result/NGC1566_xrt_fit.txt\",delimiter='\\s+',header=0)  \n",
    "\n",
    "\n",
    "data_ubb_NGC1566 = pd.read_csv(\"/Users/brettlv/Downloads/wise_cl/fig/NGC1566_ubb_sum.csv\",delimiter='|',header=0)  \n",
    "data_um2_NGC1566 = pd.read_csv(\"/Users/brettlv/Downloads/wise_cl/fig/NGC1566_um2_sum.csv\",delimiter='|',header=0)  \n",
    "\n",
    "\n",
    "data_uuu_NGC1566 = pd.read_csv(\"/Users/brettlv/Downloads/wise_cl/fig/NGC1566_uuu_sum.csv\",delimiter='|',header=0)  \n",
    "data_uvv_NGC1566 = pd.read_csv(\"/Users/brettlv/Downloads/wise_cl/fig/NGC1566_uvv_sum.csv\",delimiter='|',header=0)  \n",
    "\n",
    "data_uw1_NGC1566 = pd.read_csv(\"/Users/brettlv/Downloads/wise_cl/fig/NGC1566_uw1_sum.csv\",delimiter='|',header=0)  \n",
    "data_uw2_NGC1566 = pd.read_csv(\"/Users/brettlv/Downloads/wise_cl/fig/NGC1566_uw2_sum.csv\",delimiter='|',header=0)  \n",
    "\n",
    "\n",
    "data_ASAS_NGC1566 = pd.read_csv(\"/Users/brettlv/Downloads/NGC1566/AP36757554_ASASSN-V J042000.52-545616.7 (65.00215, -54.93797) .csv\",header=0) \n",
    "data_ASAS_NGC1566['hmjd']= data_ASAS_NGC1566['hjd']- 2400000.5\n"
   ]
  },
  {
   "cell_type": "code",
   "execution_count": null,
   "metadata": {
    "collapsed": true
   },
   "outputs": [],
   "source": []
  },
  {
   "cell_type": "code",
   "execution_count": null,
   "metadata": {
    "collapsed": true
   },
   "outputs": [],
   "source": []
  },
  {
   "cell_type": "code",
   "execution_count": null,
   "metadata": {
    "ExecuteTime": {
     "end_time": "2020-06-27T11:28:46.091816Z",
     "start_time": "2020-06-27T11:28:46.083349Z"
    },
    "collapsed": false
   },
   "outputs": [],
   "source": [
    "data_xrt_fit_NGC1566.columns"
   ]
  },
  {
   "cell_type": "markdown",
   "metadata": {},
   "source": [
    "## good fit"
   ]
  },
  {
   "cell_type": "code",
   "execution_count": 3,
   "metadata": {
    "ExecuteTime": {
     "end_time": "2020-06-29T15:13:29.111841Z",
     "start_time": "2020-06-29T15:13:29.098164Z"
    },
    "collapsed": true
   },
   "outputs": [],
   "source": [
    "data_xrt_goodfit_NGC1566=data_xrt_fit_NGC1566[data_xrt_fit_NGC1566['chi']<1.5]\n",
    "data_xrt_goodfit_NGC1566=data_xrt_goodfit_NGC1566[data_xrt_goodfit_NGC1566['chi']>0.7]"
   ]
  },
  {
   "cell_type": "markdown",
   "metadata": {
    "ExecuteTime": {
     "end_time": "2020-06-27T11:29:43.446697Z",
     "start_time": "2020-06-27T11:29:43.377202Z"
    }
   },
   "source": [
    "data_xrt_goodfit_NGC1566"
   ]
  },
  {
   "cell_type": "markdown",
   "metadata": {},
   "source": [
    "## F-Gamma good-fit"
   ]
  },
  {
   "cell_type": "code",
   "execution_count": 5,
   "metadata": {
    "ExecuteTime": {
     "end_time": "2020-06-29T15:14:43.978937Z",
     "start_time": "2020-06-29T15:14:42.150130Z"
    },
    "collapsed": false,
    "scrolled": true
   },
   "outputs": [
    {
     "data": {
      "image/svg+xml": [
       "<?xml version=\"1.0\" encoding=\"utf-8\" standalone=\"no\"?>\n",
       "<!DOCTYPE svg PUBLIC \"-//W3C//DTD SVG 1.1//EN\"\n",
       "  \"http://www.w3.org/Graphics/SVG/1.1/DTD/svg11.dtd\">\n",
       "<!-- Created with matplotlib (https://matplotlib.org/) -->\n",
       "<svg height=\"263.398994pt\" version=\"1.1\" viewBox=\"0 0 385.30625 263.398994\" width=\"385.30625pt\" xmlns=\"http://www.w3.org/2000/svg\" xmlns:xlink=\"http://www.w3.org/1999/xlink\">\n",
       " <defs>\n",
       "  <style type=\"text/css\">\n",
       "*{stroke-linecap:butt;stroke-linejoin:round;}\n",
       "  </style>\n",
       " </defs>\n",
       " <g id=\"figure_1\">\n",
       "  <g id=\"patch_1\">\n",
       "   <path d=\"M 0 263.398994 \n",
       "L 385.30625 263.398994 \n",
       "L 385.30625 0 \n",
       "L 0 0 \n",
       "z\n",
       "\" style=\"fill:none;\"/>\n",
       "  </g>\n",
       "  <g id=\"axes_1\">\n",
       "   <g id=\"patch_2\">\n",
       "    <path d=\"M 43.30625 227.253681 \n",
       "L 378.10625 227.253681 \n",
       "L 378.10625 9.813681 \n",
       "L 43.30625 9.813681 \n",
       "z\n",
       "\" style=\"fill:#ffffff;\"/>\n",
       "   </g>\n",
       "   <g id=\"matplotlib.axis_1\">\n",
       "    <g id=\"xtick_1\">\n",
       "     <g id=\"line2d_1\">\n",
       "      <path clip-path=\"url(#pcd4c6be7bf)\" d=\"M 190.162613 227.253681 \n",
       "L 190.162613 9.813681 \n",
       "\" style=\"fill:none;stroke:#cccccc;stroke-linecap:round;stroke-width:0.8;\"/>\n",
       "     </g>\n",
       "     <g id=\"line2d_2\"/>\n",
       "     <g id=\"text_1\">\n",
       "      <!-- $\\mathdefault{10^{-11}}$ -->\n",
       "      <defs>\n",
       "       <path d=\"M 37.25 0 \n",
       "L 28.46875 0 \n",
       "L 28.46875 56 \n",
       "Q 25.296875 52.984375 20.140625 49.953125 \n",
       "Q 14.984375 46.921875 10.890625 45.40625 \n",
       "L 10.890625 53.90625 \n",
       "Q 18.265625 57.375 23.78125 62.296875 \n",
       "Q 29.296875 67.234375 31.59375 71.875 \n",
       "L 37.25 71.875 \n",
       "z\n",
       "\" id=\"ArialMT-49\"/>\n",
       "       <path d=\"M 4.15625 35.296875 \n",
       "Q 4.15625 48 6.765625 55.734375 \n",
       "Q 9.375 63.484375 14.515625 67.671875 \n",
       "Q 19.671875 71.875 27.484375 71.875 \n",
       "Q 33.25 71.875 37.59375 69.546875 \n",
       "Q 41.9375 67.234375 44.765625 62.859375 \n",
       "Q 47.609375 58.5 49.21875 52.21875 \n",
       "Q 50.828125 45.953125 50.828125 35.296875 \n",
       "Q 50.828125 22.703125 48.234375 14.96875 \n",
       "Q 45.65625 7.234375 40.5 3 \n",
       "Q 35.359375 -1.21875 27.484375 -1.21875 \n",
       "Q 17.140625 -1.21875 11.234375 6.203125 \n",
       "Q 4.15625 15.140625 4.15625 35.296875 \n",
       "z\n",
       "M 13.1875 35.296875 \n",
       "Q 13.1875 17.671875 17.3125 11.828125 \n",
       "Q 21.4375 6 27.484375 6 \n",
       "Q 33.546875 6 37.671875 11.859375 \n",
       "Q 41.796875 17.71875 41.796875 35.296875 \n",
       "Q 41.796875 52.984375 37.671875 58.78125 \n",
       "Q 33.546875 64.59375 27.390625 64.59375 \n",
       "Q 21.34375 64.59375 17.71875 59.46875 \n",
       "Q 13.1875 52.9375 13.1875 35.296875 \n",
       "z\n",
       "\" id=\"ArialMT-48\"/>\n",
       "       <path d=\"M 52.828125 31.203125 \n",
       "L 5.5625 31.203125 \n",
       "L 5.5625 39.40625 \n",
       "L 52.828125 39.40625 \n",
       "z\n",
       "\" id=\"ArialMT-8722\"/>\n",
       "      </defs>\n",
       "      <g style=\"fill:#262626;\" transform=\"translate(178.312613 241.066181)scale(0.1 -0.1)\">\n",
       "       <use transform=\"translate(0 0.99375)\" xlink:href=\"#ArialMT-49\"/>\n",
       "       <use transform=\"translate(55.615234 0.99375)\" xlink:href=\"#ArialMT-48\"/>\n",
       "       <use transform=\"translate(112.972813 70.6875)scale(0.7)\" xlink:href=\"#ArialMT-8722\"/>\n",
       "       <use transform=\"translate(153.851719 70.6875)scale(0.7)\" xlink:href=\"#ArialMT-49\"/>\n",
       "       <use transform=\"translate(192.782383 70.6875)scale(0.7)\" xlink:href=\"#ArialMT-49\"/>\n",
       "      </g>\n",
       "     </g>\n",
       "    </g>\n",
       "    <g id=\"xtick_2\">\n",
       "     <g id=\"line2d_3\">\n",
       "      <path clip-path=\"url(#pcd4c6be7bf)\" d=\"M 340.580138 227.253681 \n",
       "L 340.580138 9.813681 \n",
       "\" style=\"fill:none;stroke:#cccccc;stroke-linecap:round;stroke-width:0.8;\"/>\n",
       "     </g>\n",
       "     <g id=\"line2d_4\"/>\n",
       "     <g id=\"text_2\">\n",
       "      <!-- $\\mathdefault{10^{-10}}$ -->\n",
       "      <g style=\"fill:#262626;\" transform=\"translate(328.730138 241.066181)scale(0.1 -0.1)\">\n",
       "       <use transform=\"translate(0 0.99375)\" xlink:href=\"#ArialMT-49\"/>\n",
       "       <use transform=\"translate(55.615234 0.99375)\" xlink:href=\"#ArialMT-48\"/>\n",
       "       <use transform=\"translate(112.972813 70.6875)scale(0.7)\" xlink:href=\"#ArialMT-8722\"/>\n",
       "       <use transform=\"translate(153.851719 70.6875)scale(0.7)\" xlink:href=\"#ArialMT-49\"/>\n",
       "       <use transform=\"translate(192.782383 70.6875)scale(0.7)\" xlink:href=\"#ArialMT-48\"/>\n",
       "      </g>\n",
       "     </g>\n",
       "    </g>\n",
       "    <g id=\"xtick_3\">\n",
       "     <g id=\"line2d_5\"/>\n",
       "    </g>\n",
       "    <g id=\"xtick_4\">\n",
       "     <g id=\"line2d_6\"/>\n",
       "    </g>\n",
       "    <g id=\"xtick_5\">\n",
       "     <g id=\"line2d_7\"/>\n",
       "    </g>\n",
       "    <g id=\"xtick_6\">\n",
       "     <g id=\"line2d_8\"/>\n",
       "    </g>\n",
       "    <g id=\"xtick_7\">\n",
       "     <g id=\"line2d_9\"/>\n",
       "    </g>\n",
       "    <g id=\"xtick_8\">\n",
       "     <g id=\"line2d_10\"/>\n",
       "    </g>\n",
       "    <g id=\"xtick_9\">\n",
       "     <g id=\"line2d_11\"/>\n",
       "    </g>\n",
       "    <g id=\"xtick_10\">\n",
       "     <g id=\"line2d_12\"/>\n",
       "    </g>\n",
       "    <g id=\"xtick_11\">\n",
       "     <g id=\"line2d_13\"/>\n",
       "    </g>\n",
       "    <g id=\"xtick_12\">\n",
       "     <g id=\"line2d_14\"/>\n",
       "    </g>\n",
       "    <g id=\"xtick_13\">\n",
       "     <g id=\"line2d_15\"/>\n",
       "    </g>\n",
       "    <g id=\"xtick_14\">\n",
       "     <g id=\"line2d_16\"/>\n",
       "    </g>\n",
       "    <g id=\"xtick_15\">\n",
       "     <g id=\"line2d_17\"/>\n",
       "    </g>\n",
       "    <g id=\"xtick_16\">\n",
       "     <g id=\"line2d_18\"/>\n",
       "    </g>\n",
       "    <g id=\"xtick_17\">\n",
       "     <g id=\"line2d_19\"/>\n",
       "    </g>\n",
       "    <g id=\"xtick_18\">\n",
       "     <g id=\"line2d_20\"/>\n",
       "    </g>\n",
       "    <g id=\"text_3\">\n",
       "     <!-- $F_{1-10keV}$ -->\n",
       "     <defs>\n",
       "      <path d=\"M 16.890625 72.90625 \n",
       "L 58.6875 72.90625 \n",
       "L 57.078125 64.59375 \n",
       "L 25.09375 64.59375 \n",
       "L 20.90625 43.109375 \n",
       "L 49.8125 43.109375 \n",
       "L 48.1875 34.8125 \n",
       "L 19.28125 34.8125 \n",
       "L 12.5 0 \n",
       "L 2.6875 0 \n",
       "z\n",
       "\" id=\"DejaVuSans-Oblique-70\"/>\n",
       "      <path d=\"M 12.40625 8.296875 \n",
       "L 28.515625 8.296875 \n",
       "L 28.515625 63.921875 \n",
       "L 10.984375 60.40625 \n",
       "L 10.984375 69.390625 \n",
       "L 28.421875 72.90625 \n",
       "L 38.28125 72.90625 \n",
       "L 38.28125 8.296875 \n",
       "L 54.390625 8.296875 \n",
       "L 54.390625 0 \n",
       "L 12.40625 0 \n",
       "z\n",
       "\" id=\"DejaVuSans-49\"/>\n",
       "      <path d=\"M 10.59375 35.5 \n",
       "L 73.1875 35.5 \n",
       "L 73.1875 27.203125 \n",
       "L 10.59375 27.203125 \n",
       "z\n",
       "\" id=\"DejaVuSans-8722\"/>\n",
       "      <path d=\"M 31.78125 66.40625 \n",
       "Q 24.171875 66.40625 20.328125 58.90625 \n",
       "Q 16.5 51.421875 16.5 36.375 \n",
       "Q 16.5 21.390625 20.328125 13.890625 \n",
       "Q 24.171875 6.390625 31.78125 6.390625 \n",
       "Q 39.453125 6.390625 43.28125 13.890625 \n",
       "Q 47.125 21.390625 47.125 36.375 \n",
       "Q 47.125 51.421875 43.28125 58.90625 \n",
       "Q 39.453125 66.40625 31.78125 66.40625 \n",
       "z\n",
       "M 31.78125 74.21875 \n",
       "Q 44.046875 74.21875 50.515625 64.515625 \n",
       "Q 56.984375 54.828125 56.984375 36.375 \n",
       "Q 56.984375 17.96875 50.515625 8.265625 \n",
       "Q 44.046875 -1.421875 31.78125 -1.421875 \n",
       "Q 19.53125 -1.421875 13.0625 8.265625 \n",
       "Q 6.59375 17.96875 6.59375 36.375 \n",
       "Q 6.59375 54.828125 13.0625 64.515625 \n",
       "Q 19.53125 74.21875 31.78125 74.21875 \n",
       "z\n",
       "\" id=\"DejaVuSans-48\"/>\n",
       "      <path d=\"M 18.3125 75.984375 \n",
       "L 27.296875 75.984375 \n",
       "L 18.703125 31.6875 \n",
       "L 49.515625 54.6875 \n",
       "L 61.1875 54.6875 \n",
       "L 26.8125 28.515625 \n",
       "L 51.90625 0 \n",
       "L 41.015625 0 \n",
       "L 17.671875 26.703125 \n",
       "L 12.5 0 \n",
       "L 3.515625 0 \n",
       "z\n",
       "\" id=\"DejaVuSans-Oblique-107\"/>\n",
       "      <path d=\"M 48.09375 32.234375 \n",
       "Q 48.25 33.015625 48.3125 33.84375 \n",
       "Q 48.390625 34.671875 48.390625 35.5 \n",
       "Q 48.390625 41.453125 44.890625 44.921875 \n",
       "Q 41.40625 48.390625 35.40625 48.390625 \n",
       "Q 28.71875 48.390625 23.578125 44.15625 \n",
       "Q 18.453125 39.9375 15.828125 32.171875 \n",
       "z\n",
       "M 55.90625 25.203125 \n",
       "L 14.109375 25.203125 \n",
       "Q 13.8125 23.34375 13.71875 22.265625 \n",
       "Q 13.625 21.1875 13.625 20.40625 \n",
       "Q 13.625 13.625 17.796875 9.90625 \n",
       "Q 21.96875 6.203125 29.59375 6.203125 \n",
       "Q 35.453125 6.203125 40.671875 7.515625 \n",
       "Q 45.90625 8.84375 50.390625 11.375 \n",
       "L 48.6875 2.484375 \n",
       "Q 43.84375 0.53125 38.6875 -0.4375 \n",
       "Q 33.546875 -1.421875 28.21875 -1.421875 \n",
       "Q 16.84375 -1.421875 10.71875 4.015625 \n",
       "Q 4.59375 9.46875 4.59375 19.484375 \n",
       "Q 4.59375 28.03125 7.640625 35.375 \n",
       "Q 10.6875 42.71875 16.609375 48.484375 \n",
       "Q 20.40625 52.09375 25.65625 54.046875 \n",
       "Q 30.90625 56 36.8125 56 \n",
       "Q 46.09375 56 51.578125 50.4375 \n",
       "Q 57.078125 44.875 57.078125 35.5 \n",
       "Q 57.078125 33.25 56.78125 30.6875 \n",
       "Q 56.5 28.125 55.90625 25.203125 \n",
       "z\n",
       "\" id=\"DejaVuSans-Oblique-101\"/>\n",
       "      <path d=\"M 20.609375 0 \n",
       "L 7.8125 72.90625 \n",
       "L 17.484375 72.90625 \n",
       "L 28.078125 10.203125 \n",
       "L 63.484375 72.90625 \n",
       "L 74.21875 72.90625 \n",
       "L 32.078125 0 \n",
       "z\n",
       "\" id=\"DejaVuSans-Oblique-86\"/>\n",
       "     </defs>\n",
       "     <g style=\"fill:#262626;\" transform=\"translate(190.10625 254.211494)scale(0.1 -0.1)\">\n",
       "      <use transform=\"translate(0 0.09375)\" xlink:href=\"#DejaVuSans-Oblique-70\"/>\n",
       "      <use transform=\"translate(57.519531 -16.3125)scale(0.7)\" xlink:href=\"#DejaVuSans-49\"/>\n",
       "      <use transform=\"translate(115.693359 -16.3125)scale(0.7)\" xlink:href=\"#DejaVuSans-8722\"/>\n",
       "      <use transform=\"translate(187.983398 -16.3125)scale(0.7)\" xlink:href=\"#DejaVuSans-49\"/>\n",
       "      <use transform=\"translate(232.519531 -16.3125)scale(0.7)\" xlink:href=\"#DejaVuSans-48\"/>\n",
       "      <use transform=\"translate(277.055664 -16.3125)scale(0.7)\" xlink:href=\"#DejaVuSans-Oblique-107\"/>\n",
       "      <use transform=\"translate(317.592773 -16.3125)scale(0.7)\" xlink:href=\"#DejaVuSans-Oblique-101\"/>\n",
       "      <use transform=\"translate(360.65918 -16.3125)scale(0.7)\" xlink:href=\"#DejaVuSans-Oblique-86\"/>\n",
       "     </g>\n",
       "    </g>\n",
       "   </g>\n",
       "   <g id=\"matplotlib.axis_2\">\n",
       "    <g id=\"ytick_1\">\n",
       "     <g id=\"line2d_21\">\n",
       "      <path clip-path=\"url(#pcd4c6be7bf)\" d=\"M 43.30625 215.017207 \n",
       "L 378.10625 215.017207 \n",
       "\" style=\"fill:none;stroke:#cccccc;stroke-linecap:round;stroke-width:0.8;\"/>\n",
       "     </g>\n",
       "     <g id=\"line2d_22\"/>\n",
       "     <g id=\"text_4\">\n",
       "      <!-- 0.75 -->\n",
       "      <defs>\n",
       "       <path d=\"M 9.078125 0 \n",
       "L 9.078125 10.015625 \n",
       "L 19.09375 10.015625 \n",
       "L 19.09375 0 \n",
       "z\n",
       "\" id=\"ArialMT-46\"/>\n",
       "       <path d=\"M 4.734375 62.203125 \n",
       "L 4.734375 70.65625 \n",
       "L 51.078125 70.65625 \n",
       "L 51.078125 63.8125 \n",
       "Q 44.234375 56.546875 37.515625 44.484375 \n",
       "Q 30.8125 32.421875 27.15625 19.671875 \n",
       "Q 24.515625 10.6875 23.78125 0 \n",
       "L 14.75 0 \n",
       "Q 14.890625 8.453125 18.0625 20.40625 \n",
       "Q 21.234375 32.375 27.171875 43.484375 \n",
       "Q 33.109375 54.59375 39.796875 62.203125 \n",
       "z\n",
       "\" id=\"ArialMT-55\"/>\n",
       "       <path d=\"M 4.15625 18.75 \n",
       "L 13.375 19.53125 \n",
       "Q 14.40625 12.796875 18.140625 9.390625 \n",
       "Q 21.875 6 27.15625 6 \n",
       "Q 33.5 6 37.890625 10.78125 \n",
       "Q 42.28125 15.578125 42.28125 23.484375 \n",
       "Q 42.28125 31 38.0625 35.34375 \n",
       "Q 33.84375 39.703125 27 39.703125 \n",
       "Q 22.75 39.703125 19.328125 37.765625 \n",
       "Q 15.921875 35.84375 13.96875 32.765625 \n",
       "L 5.71875 33.84375 \n",
       "L 12.640625 70.609375 \n",
       "L 48.25 70.609375 \n",
       "L 48.25 62.203125 \n",
       "L 19.671875 62.203125 \n",
       "L 15.828125 42.96875 \n",
       "Q 22.265625 47.46875 29.34375 47.46875 \n",
       "Q 38.71875 47.46875 45.15625 40.96875 \n",
       "Q 51.609375 34.46875 51.609375 24.265625 \n",
       "Q 51.609375 14.546875 45.953125 7.46875 \n",
       "Q 39.0625 -1.21875 27.15625 -1.21875 \n",
       "Q 17.390625 -1.21875 11.203125 4.25 \n",
       "Q 5.03125 9.71875 4.15625 18.75 \n",
       "z\n",
       "\" id=\"ArialMT-53\"/>\n",
       "      </defs>\n",
       "      <g style=\"fill:#262626;\" transform=\"translate(20.345313 218.596113)scale(0.1 -0.1)\">\n",
       "       <use xlink:href=\"#ArialMT-48\"/>\n",
       "       <use x=\"55.615234\" xlink:href=\"#ArialMT-46\"/>\n",
       "       <use x=\"83.398438\" xlink:href=\"#ArialMT-55\"/>\n",
       "       <use x=\"139.013672\" xlink:href=\"#ArialMT-53\"/>\n",
       "      </g>\n",
       "     </g>\n",
       "    </g>\n",
       "    <g id=\"ytick_2\">\n",
       "     <g id=\"line2d_23\">\n",
       "      <path clip-path=\"url(#pcd4c6be7bf)\" d=\"M 43.30625 189.48742 \n",
       "L 378.10625 189.48742 \n",
       "\" style=\"fill:none;stroke:#cccccc;stroke-linecap:round;stroke-width:0.8;\"/>\n",
       "     </g>\n",
       "     <g id=\"line2d_24\"/>\n",
       "     <g id=\"text_5\">\n",
       "      <!-- 1.00 -->\n",
       "      <g style=\"fill:#262626;\" transform=\"translate(20.345313 193.066326)scale(0.1 -0.1)\">\n",
       "       <use xlink:href=\"#ArialMT-49\"/>\n",
       "       <use x=\"55.615234\" xlink:href=\"#ArialMT-46\"/>\n",
       "       <use x=\"83.398438\" xlink:href=\"#ArialMT-48\"/>\n",
       "       <use x=\"139.013672\" xlink:href=\"#ArialMT-48\"/>\n",
       "      </g>\n",
       "     </g>\n",
       "    </g>\n",
       "    <g id=\"ytick_3\">\n",
       "     <g id=\"line2d_25\">\n",
       "      <path clip-path=\"url(#pcd4c6be7bf)\" d=\"M 43.30625 163.957632 \n",
       "L 378.10625 163.957632 \n",
       "\" style=\"fill:none;stroke:#cccccc;stroke-linecap:round;stroke-width:0.8;\"/>\n",
       "     </g>\n",
       "     <g id=\"line2d_26\"/>\n",
       "     <g id=\"text_6\">\n",
       "      <!-- 1.25 -->\n",
       "      <defs>\n",
       "       <path d=\"M 50.34375 8.453125 \n",
       "L 50.34375 0 \n",
       "L 3.03125 0 \n",
       "Q 2.9375 3.171875 4.046875 6.109375 \n",
       "Q 5.859375 10.9375 9.828125 15.625 \n",
       "Q 13.8125 20.3125 21.34375 26.46875 \n",
       "Q 33.015625 36.03125 37.109375 41.625 \n",
       "Q 41.21875 47.21875 41.21875 52.203125 \n",
       "Q 41.21875 57.421875 37.46875 61 \n",
       "Q 33.734375 64.59375 27.734375 64.59375 \n",
       "Q 21.390625 64.59375 17.578125 60.78125 \n",
       "Q 13.765625 56.984375 13.71875 50.25 \n",
       "L 4.6875 51.171875 \n",
       "Q 5.609375 61.28125 11.65625 66.578125 \n",
       "Q 17.71875 71.875 27.9375 71.875 \n",
       "Q 38.234375 71.875 44.234375 66.15625 \n",
       "Q 50.25 60.453125 50.25 52 \n",
       "Q 50.25 47.703125 48.484375 43.546875 \n",
       "Q 46.734375 39.40625 42.65625 34.8125 \n",
       "Q 38.578125 30.21875 29.109375 22.21875 \n",
       "Q 21.1875 15.578125 18.9375 13.203125 \n",
       "Q 16.703125 10.84375 15.234375 8.453125 \n",
       "z\n",
       "\" id=\"ArialMT-50\"/>\n",
       "      </defs>\n",
       "      <g style=\"fill:#262626;\" transform=\"translate(20.345313 167.536538)scale(0.1 -0.1)\">\n",
       "       <use xlink:href=\"#ArialMT-49\"/>\n",
       "       <use x=\"55.615234\" xlink:href=\"#ArialMT-46\"/>\n",
       "       <use x=\"83.398438\" xlink:href=\"#ArialMT-50\"/>\n",
       "       <use x=\"139.013672\" xlink:href=\"#ArialMT-53\"/>\n",
       "      </g>\n",
       "     </g>\n",
       "    </g>\n",
       "    <g id=\"ytick_4\">\n",
       "     <g id=\"line2d_27\">\n",
       "      <path clip-path=\"url(#pcd4c6be7bf)\" d=\"M 43.30625 138.427844 \n",
       "L 378.10625 138.427844 \n",
       "\" style=\"fill:none;stroke:#cccccc;stroke-linecap:round;stroke-width:0.8;\"/>\n",
       "     </g>\n",
       "     <g id=\"line2d_28\"/>\n",
       "     <g id=\"text_7\">\n",
       "      <!-- 1.50 -->\n",
       "      <g style=\"fill:#262626;\" transform=\"translate(20.345313 142.006751)scale(0.1 -0.1)\">\n",
       "       <use xlink:href=\"#ArialMT-49\"/>\n",
       "       <use x=\"55.615234\" xlink:href=\"#ArialMT-46\"/>\n",
       "       <use x=\"83.398438\" xlink:href=\"#ArialMT-53\"/>\n",
       "       <use x=\"139.013672\" xlink:href=\"#ArialMT-48\"/>\n",
       "      </g>\n",
       "     </g>\n",
       "    </g>\n",
       "    <g id=\"ytick_5\">\n",
       "     <g id=\"line2d_29\">\n",
       "      <path clip-path=\"url(#pcd4c6be7bf)\" d=\"M 43.30625 112.898057 \n",
       "L 378.10625 112.898057 \n",
       "\" style=\"fill:none;stroke:#cccccc;stroke-linecap:round;stroke-width:0.8;\"/>\n",
       "     </g>\n",
       "     <g id=\"line2d_30\"/>\n",
       "     <g id=\"text_8\">\n",
       "      <!-- 1.75 -->\n",
       "      <g style=\"fill:#262626;\" transform=\"translate(20.345313 116.476963)scale(0.1 -0.1)\">\n",
       "       <use xlink:href=\"#ArialMT-49\"/>\n",
       "       <use x=\"55.615234\" xlink:href=\"#ArialMT-46\"/>\n",
       "       <use x=\"83.398438\" xlink:href=\"#ArialMT-55\"/>\n",
       "       <use x=\"139.013672\" xlink:href=\"#ArialMT-53\"/>\n",
       "      </g>\n",
       "     </g>\n",
       "    </g>\n",
       "    <g id=\"ytick_6\">\n",
       "     <g id=\"line2d_31\">\n",
       "      <path clip-path=\"url(#pcd4c6be7bf)\" d=\"M 43.30625 87.368269 \n",
       "L 378.10625 87.368269 \n",
       "\" style=\"fill:none;stroke:#cccccc;stroke-linecap:round;stroke-width:0.8;\"/>\n",
       "     </g>\n",
       "     <g id=\"line2d_32\"/>\n",
       "     <g id=\"text_9\">\n",
       "      <!-- 2.00 -->\n",
       "      <g style=\"fill:#262626;\" transform=\"translate(20.345313 90.947175)scale(0.1 -0.1)\">\n",
       "       <use xlink:href=\"#ArialMT-50\"/>\n",
       "       <use x=\"55.615234\" xlink:href=\"#ArialMT-46\"/>\n",
       "       <use x=\"83.398438\" xlink:href=\"#ArialMT-48\"/>\n",
       "       <use x=\"139.013672\" xlink:href=\"#ArialMT-48\"/>\n",
       "      </g>\n",
       "     </g>\n",
       "    </g>\n",
       "    <g id=\"ytick_7\">\n",
       "     <g id=\"line2d_33\">\n",
       "      <path clip-path=\"url(#pcd4c6be7bf)\" d=\"M 43.30625 61.838481 \n",
       "L 378.10625 61.838481 \n",
       "\" style=\"fill:none;stroke:#cccccc;stroke-linecap:round;stroke-width:0.8;\"/>\n",
       "     </g>\n",
       "     <g id=\"line2d_34\"/>\n",
       "     <g id=\"text_10\">\n",
       "      <!-- 2.25 -->\n",
       "      <g style=\"fill:#262626;\" transform=\"translate(20.345313 65.417388)scale(0.1 -0.1)\">\n",
       "       <use xlink:href=\"#ArialMT-50\"/>\n",
       "       <use x=\"55.615234\" xlink:href=\"#ArialMT-46\"/>\n",
       "       <use x=\"83.398438\" xlink:href=\"#ArialMT-50\"/>\n",
       "       <use x=\"139.013672\" xlink:href=\"#ArialMT-53\"/>\n",
       "      </g>\n",
       "     </g>\n",
       "    </g>\n",
       "    <g id=\"ytick_8\">\n",
       "     <g id=\"line2d_35\">\n",
       "      <path clip-path=\"url(#pcd4c6be7bf)\" d=\"M 43.30625 36.308694 \n",
       "L 378.10625 36.308694 \n",
       "\" style=\"fill:none;stroke:#cccccc;stroke-linecap:round;stroke-width:0.8;\"/>\n",
       "     </g>\n",
       "     <g id=\"line2d_36\"/>\n",
       "     <g id=\"text_11\">\n",
       "      <!-- 2.50 -->\n",
       "      <g style=\"fill:#262626;\" transform=\"translate(20.345313 39.8876)scale(0.1 -0.1)\">\n",
       "       <use xlink:href=\"#ArialMT-50\"/>\n",
       "       <use x=\"55.615234\" xlink:href=\"#ArialMT-46\"/>\n",
       "       <use x=\"83.398438\" xlink:href=\"#ArialMT-53\"/>\n",
       "       <use x=\"139.013672\" xlink:href=\"#ArialMT-48\"/>\n",
       "      </g>\n",
       "     </g>\n",
       "    </g>\n",
       "    <g id=\"ytick_9\">\n",
       "     <g id=\"line2d_37\">\n",
       "      <path clip-path=\"url(#pcd4c6be7bf)\" d=\"M 43.30625 10.778906 \n",
       "L 378.10625 10.778906 \n",
       "\" style=\"fill:none;stroke:#cccccc;stroke-linecap:round;stroke-width:0.8;\"/>\n",
       "     </g>\n",
       "     <g id=\"line2d_38\"/>\n",
       "     <g id=\"text_12\">\n",
       "      <!-- 2.75 -->\n",
       "      <g style=\"fill:#262626;\" transform=\"translate(20.345313 14.357812)scale(0.1 -0.1)\">\n",
       "       <use xlink:href=\"#ArialMT-50\"/>\n",
       "       <use x=\"55.615234\" xlink:href=\"#ArialMT-46\"/>\n",
       "       <use x=\"83.398438\" xlink:href=\"#ArialMT-55\"/>\n",
       "       <use x=\"139.013672\" xlink:href=\"#ArialMT-53\"/>\n",
       "      </g>\n",
       "     </g>\n",
       "    </g>\n",
       "    <g id=\"text_13\">\n",
       "     <!-- $\\Gamma$ -->\n",
       "     <defs>\n",
       "      <path d=\"M 9.8125 0 \n",
       "L 9.8125 72.90625 \n",
       "L 55.171875 72.90625 \n",
       "L 55.171875 64.59375 \n",
       "L 19.671875 64.59375 \n",
       "L 19.671875 0 \n",
       "z\n",
       "\" id=\"DejaVuSans-915\"/>\n",
       "     </defs>\n",
       "     <g style=\"fill:#262626;\" transform=\"translate(14.357813 121.333681)rotate(-90)scale(0.1 -0.1)\">\n",
       "      <use transform=\"translate(0 0.09375)\" xlink:href=\"#DejaVuSans-915\"/>\n",
       "     </g>\n",
       "    </g>\n",
       "   </g>\n",
       "   <g id=\"LineCollection_1\">\n",
       "    <path clip-path=\"url(#pcd4c6be7bf)\" d=\"M 206.51744 133.826671 \n",
       "L 213.191124 133.826671 \n",
       "\" style=\"fill:none;stroke:#1f77b4;stroke-width:1.5;\"/>\n",
       "    <path clip-path=\"url(#pcd4c6be7bf)\" d=\"M 188.722831 128.563313 \n",
       "L 199.403572 128.563313 \n",
       "\" style=\"fill:none;stroke:#1f77b4;stroke-width:1.5;\"/>\n",
       "    <path clip-path=\"url(#pcd4c6be7bf)\" d=\"M 153.167307 114.992307 \n",
       "L 164.383972 114.992307 \n",
       "\" style=\"fill:none;stroke:#1f77b4;stroke-width:1.5;\"/>\n",
       "    <path clip-path=\"url(#pcd4c6be7bf)\" d=\"M 157.310845 133.336629 \n",
       "L 170.221867 133.336629 \n",
       "\" style=\"fill:none;stroke:#1f77b4;stroke-width:1.5;\"/>\n",
       "    <path clip-path=\"url(#pcd4c6be7bf)\" d=\"M 192.084929 142.279399 \n",
       "L 213.298933 142.279399 \n",
       "\" style=\"fill:none;stroke:#1f77b4;stroke-width:1.5;\"/>\n",
       "    <path clip-path=\"url(#pcd4c6be7bf)\" d=\"M 145.110555 119.421329 \n",
       "L 161.5049 119.421329 \n",
       "\" style=\"fill:none;stroke:#1f77b4;stroke-width:1.5;\"/>\n",
       "    <path clip-path=\"url(#pcd4c6be7bf)\" d=\"M 131.983582 130.513703 \n",
       "L 145.144702 130.513703 \n",
       "\" style=\"fill:none;stroke:#1f77b4;stroke-width:1.5;\"/>\n",
       "    <path clip-path=\"url(#pcd4c6be7bf)\" d=\"M 124.697422 132.901934 \n",
       "L 135.935603 132.901934 \n",
       "\" style=\"fill:none;stroke:#1f77b4;stroke-width:1.5;\"/>\n",
       "    <path clip-path=\"url(#pcd4c6be7bf)\" d=\"M 122.367107 146.071827 \n",
       "L 135.579854 146.071827 \n",
       "\" style=\"fill:none;stroke:#1f77b4;stroke-width:1.5;\"/>\n",
       "    <path clip-path=\"url(#pcd4c6be7bf)\" d=\"M 120.536388 143.248652 \n",
       "L 142.0396 143.248652 \n",
       "\" style=\"fill:none;stroke:#1f77b4;stroke-width:1.5;\"/>\n",
       "    <path clip-path=\"url(#pcd4c6be7bf)\" d=\"M 80.262754 110.105429 \n",
       "L 102.154776 110.105429 \n",
       "\" style=\"fill:none;stroke:#1f77b4;stroke-width:1.5;\"/>\n",
       "    <path clip-path=\"url(#pcd4c6be7bf)\" d=\"M 111.851015 135.543062 \n",
       "L 129.453993 135.543062 \n",
       "\" style=\"fill:none;stroke:#1f77b4;stroke-width:1.5;\"/>\n",
       "    <path clip-path=\"url(#pcd4c6be7bf)\" d=\"M 104.895551 117.557241 \n",
       "L 113.999133 117.557241 \n",
       "\" style=\"fill:none;stroke:#1f77b4;stroke-width:1.5;\"/>\n",
       "    <path clip-path=\"url(#pcd4c6be7bf)\" d=\"M 111.209585 136.513692 \n",
       "L 129.552266 136.513692 \n",
       "\" style=\"fill:none;stroke:#1f77b4;stroke-width:1.5;\"/>\n",
       "    <path clip-path=\"url(#pcd4c6be7bf)\" d=\"M 84.306773 126.588308 \n",
       "L 105.065776 126.588308 \n",
       "\" style=\"fill:none;stroke:#1f77b4;stroke-width:1.5;\"/>\n",
       "    <path clip-path=\"url(#pcd4c6be7bf)\" d=\"M 122.141088 129.976666 \n",
       "L 139.192814 129.976666 \n",
       "\" style=\"fill:none;stroke:#1f77b4;stroke-width:1.5;\"/>\n",
       "    <path clip-path=\"url(#pcd4c6be7bf)\" d=\"M 108.501991 129.227417 \n",
       "L 126.264932 129.227417 \n",
       "\" style=\"fill:none;stroke:#1f77b4;stroke-width:1.5;\"/>\n",
       "    <path clip-path=\"url(#pcd4c6be7bf)\" d=\"M 117.492863 123.574179 \n",
       "L 134.186884 123.574179 \n",
       "\" style=\"fill:none;stroke:#1f77b4;stroke-width:1.5;\"/>\n",
       "    <path clip-path=\"url(#pcd4c6be7bf)\" d=\"M 123.377651 145.823218 \n",
       "L 154.849026 145.823218 \n",
       "\" style=\"fill:none;stroke:#1f77b4;stroke-width:1.5;\"/>\n",
       "    <path clip-path=\"url(#pcd4c6be7bf)\" d=\"M 100.926758 130.720333 \n",
       "L 129.889993 130.720333 \n",
       "\" style=\"fill:none;stroke:#1f77b4;stroke-width:1.5;\"/>\n",
       "    <path clip-path=\"url(#pcd4c6be7bf)\" d=\"M 77.477846 131.044639 \n",
       "L 104.935881 131.044639 \n",
       "\" style=\"fill:none;stroke:#1f77b4;stroke-width:1.5;\"/>\n",
       "    <path clip-path=\"url(#pcd4c6be7bf)\" d=\"M 59.064758 73.876901 \n",
       "L 84.94867 73.876901 \n",
       "\" style=\"fill:none;stroke:#1f77b4;stroke-width:1.5;\"/>\n",
       "    <path clip-path=\"url(#pcd4c6be7bf)\" d=\"M 79.168684 141.966741 \n",
       "L 107.619274 141.966741 \n",
       "\" style=\"fill:none;stroke:#1f77b4;stroke-width:1.5;\"/>\n",
       "    <path clip-path=\"url(#pcd4c6be7bf)\" d=\"M 58.524432 104.914536 \n",
       "L 88.148535 104.914536 \n",
       "\" style=\"fill:none;stroke:#1f77b4;stroke-width:1.5;\"/>\n",
       "    <path clip-path=\"url(#pcd4c6be7bf)\" d=\"M 87.992838 155.392984 \n",
       "L 123.393881 155.392984 \n",
       "\" style=\"fill:none;stroke:#1f77b4;stroke-width:1.5;\"/>\n",
       "    <path clip-path=\"url(#pcd4c6be7bf)\" d=\"M 96.779835 126.406423 \n",
       "L 123.557263 126.406423 \n",
       "\" style=\"fill:none;stroke:#1f77b4;stroke-width:1.5;\"/>\n",
       "    <path clip-path=\"url(#pcd4c6be7bf)\" d=\"M 79.377684 118.510688 \n",
       "L 120.329361 118.510688 \n",
       "\" style=\"fill:none;stroke:#1f77b4;stroke-width:1.5;\"/>\n",
       "    <path clip-path=\"url(#pcd4c6be7bf)\" d=\"M 141.877748 132.482572 \n",
       "L 155.842808 132.482572 \n",
       "\" style=\"fill:none;stroke:#1f77b4;stroke-width:1.5;\"/>\n",
       "    <path clip-path=\"url(#pcd4c6be7bf)\" d=\"M 76.149724 61.45147 \n",
       "L 104.517013 61.45147 \n",
       "\" style=\"fill:none;stroke:#1f77b4;stroke-width:1.5;\"/>\n",
       "    <path clip-path=\"url(#pcd4c6be7bf)\" d=\"M 119.376428 151.552 \n",
       "L 137.788611 151.552 \n",
       "\" style=\"fill:none;stroke:#1f77b4;stroke-width:1.5;\"/>\n",
       "    <path clip-path=\"url(#pcd4c6be7bf)\" d=\"M 113.883469 136.783942 \n",
       "L 141.955041 136.783942 \n",
       "\" style=\"fill:none;stroke:#1f77b4;stroke-width:1.5;\"/>\n",
       "    <path clip-path=\"url(#pcd4c6be7bf)\" d=\"M 87.156301 87.549968 \n",
       "L 103.964286 87.549968 \n",
       "\" style=\"fill:none;stroke:#1f77b4;stroke-width:1.5;\"/>\n",
       "    <path clip-path=\"url(#pcd4c6be7bf)\" d=\"M 308.590602 110.638199 \n",
       "L 318.427805 110.638199 \n",
       "\" style=\"fill:none;stroke:#1f77b4;stroke-width:1.5;\"/>\n",
       "    <path clip-path=\"url(#pcd4c6be7bf)\" d=\"M 321.371199 148.858936 \n",
       "L 362.888068 148.858936 \n",
       "\" style=\"fill:none;stroke:#1f77b4;stroke-width:1.5;\"/>\n",
       "    <path clip-path=\"url(#pcd4c6be7bf)\" d=\"M 304.399387 107.192296 \n",
       "L 313.819853 107.192296 \n",
       "\" style=\"fill:none;stroke:#1f77b4;stroke-width:1.5;\"/>\n",
       "    <path clip-path=\"url(#pcd4c6be7bf)\" d=\"M 326.14652 110.20347 \n",
       "L 334.818498 110.20347 \n",
       "\" style=\"fill:none;stroke:#1f77b4;stroke-width:1.5;\"/>\n",
       "    <path clip-path=\"url(#pcd4c6be7bf)\" d=\"M 319.012491 98.492486 \n",
       "L 323.662696 98.492486 \n",
       "\" style=\"fill:none;stroke:#1f77b4;stroke-width:1.5;\"/>\n",
       "    <path clip-path=\"url(#pcd4c6be7bf)\" d=\"M 295.498341 82.910311 \n",
       "L 305.962394 82.910311 \n",
       "\" style=\"fill:none;stroke:#1f77b4;stroke-width:1.5;\"/>\n",
       "    <path clip-path=\"url(#pcd4c6be7bf)\" d=\"M 310.80673 96.199296 \n",
       "L 316.028316 96.199296 \n",
       "\" style=\"fill:none;stroke:#1f77b4;stroke-width:1.5;\"/>\n",
       "    <path clip-path=\"url(#pcd4c6be7bf)\" d=\"M 306.207503 113.859374 \n",
       "L 311.487504 113.859374 \n",
       "\" style=\"fill:none;stroke:#1f77b4;stroke-width:1.5;\"/>\n",
       "    <path clip-path=\"url(#pcd4c6be7bf)\" d=\"M 309.784229 100.696897 \n",
       "L 314.43744 100.696897 \n",
       "\" style=\"fill:none;stroke:#1f77b4;stroke-width:1.5;\"/>\n",
       "    <path clip-path=\"url(#pcd4c6be7bf)\" d=\"M 280.190054 111.006376 \n",
       "L 286.524839 111.006376 \n",
       "\" style=\"fill:none;stroke:#1f77b4;stroke-width:1.5;\"/>\n",
       "    <path clip-path=\"url(#pcd4c6be7bf)\" d=\"M 286.681826 113.896962 \n",
       "L 292.79367 113.896962 \n",
       "\" style=\"fill:none;stroke:#1f77b4;stroke-width:1.5;\"/>\n",
       "    <path clip-path=\"url(#pcd4c6be7bf)\" d=\"M 284.811561 104.127798 \n",
       "L 290.655346 104.127798 \n",
       "\" style=\"fill:none;stroke:#1f77b4;stroke-width:1.5;\"/>\n",
       "    <path clip-path=\"url(#pcd4c6be7bf)\" d=\"M 320.756791 110.984762 \n",
       "L 327.357182 110.984762 \n",
       "\" style=\"fill:none;stroke:#1f77b4;stroke-width:1.5;\"/>\n",
       "    <path clip-path=\"url(#pcd4c6be7bf)\" d=\"M 237.536641 106.878578 \n",
       "L 251.962091 106.878578 \n",
       "\" style=\"fill:none;stroke:#1f77b4;stroke-width:1.5;\"/>\n",
       "    <path clip-path=\"url(#pcd4c6be7bf)\" d=\"M 305.790147 111.092487 \n",
       "L 311.083972 111.092487 \n",
       "\" style=\"fill:none;stroke:#1f77b4;stroke-width:1.5;\"/>\n",
       "    <path clip-path=\"url(#pcd4c6be7bf)\" d=\"M 285.674282 121.551553 \n",
       "L 293.232588 121.551553 \n",
       "\" style=\"fill:none;stroke:#1f77b4;stroke-width:1.5;\"/>\n",
       "    <path clip-path=\"url(#pcd4c6be7bf)\" d=\"M 260.064905 105.467963 \n",
       "L 267.259186 105.467963 \n",
       "\" style=\"fill:none;stroke:#1f77b4;stroke-width:1.5;\"/>\n",
       "    <path clip-path=\"url(#pcd4c6be7bf)\" d=\"M 286.556633 116.723608 \n",
       "L 292.769147 116.723608 \n",
       "\" style=\"fill:none;stroke:#1f77b4;stroke-width:1.5;\"/>\n",
       "    <path clip-path=\"url(#pcd4c6be7bf)\" d=\"M 281.093243 123.818862 \n",
       "L 287.869383 123.818862 \n",
       "\" style=\"fill:none;stroke:#1f77b4;stroke-width:1.5;\"/>\n",
       "    <path clip-path=\"url(#pcd4c6be7bf)\" d=\"M 275.950443 114.861462 \n",
       "L 282.408181 114.861462 \n",
       "\" style=\"fill:none;stroke:#1f77b4;stroke-width:1.5;\"/>\n",
       "    <path clip-path=\"url(#pcd4c6be7bf)\" d=\"M 287.432231 120.228244 \n",
       "L 293.689258 120.228244 \n",
       "\" style=\"fill:none;stroke:#1f77b4;stroke-width:1.5;\"/>\n",
       "    <path clip-path=\"url(#pcd4c6be7bf)\" d=\"M 270.596591 121.414664 \n",
       "L 277.147203 121.414664 \n",
       "\" style=\"fill:none;stroke:#1f77b4;stroke-width:1.5;\"/>\n",
       "    <path clip-path=\"url(#pcd4c6be7bf)\" d=\"M 272.629611 124.589798 \n",
       "L 279.656426 124.589798 \n",
       "\" style=\"fill:none;stroke:#1f77b4;stroke-width:1.5;\"/>\n",
       "    <path clip-path=\"url(#pcd4c6be7bf)\" d=\"M 260.963646 136.416795 \n",
       "L 269.782533 136.416795 \n",
       "\" style=\"fill:none;stroke:#1f77b4;stroke-width:1.5;\"/>\n",
       "    <path clip-path=\"url(#pcd4c6be7bf)\" d=\"M 250.743785 134.259092 \n",
       "L 261.392903 134.259092 \n",
       "\" style=\"fill:none;stroke:#1f77b4;stroke-width:1.5;\"/>\n",
       "    <path clip-path=\"url(#pcd4c6be7bf)\" d=\"M 227.808578 117.090615 \n",
       "L 237.698622 117.090615 \n",
       "\" style=\"fill:none;stroke:#1f77b4;stroke-width:1.5;\"/>\n",
       "    <path clip-path=\"url(#pcd4c6be7bf)\" d=\"M 235.011554 109.324457 \n",
       "L 244.048634 109.324457 \n",
       "\" style=\"fill:none;stroke:#1f77b4;stroke-width:1.5;\"/>\n",
       "    <path clip-path=\"url(#pcd4c6be7bf)\" d=\"M 259.585894 112.633483 \n",
       "L 267.115807 112.633483 \n",
       "\" style=\"fill:none;stroke:#1f77b4;stroke-width:1.5;\"/>\n",
       "    <path clip-path=\"url(#pcd4c6be7bf)\" d=\"M 239.662323 125.432019 \n",
       "L 247.670075 125.432019 \n",
       "\" style=\"fill:none;stroke:#1f77b4;stroke-width:1.5;\"/>\n",
       "    <path clip-path=\"url(#pcd4c6be7bf)\" d=\"M 267.829607 110.218262 \n",
       "L 274.734849 110.218262 \n",
       "\" style=\"fill:none;stroke:#1f77b4;stroke-width:1.5;\"/>\n",
       "    <path clip-path=\"url(#pcd4c6be7bf)\" d=\"M 262.274153 121.336017 \n",
       "L 269.819075 121.336017 \n",
       "\" style=\"fill:none;stroke:#1f77b4;stroke-width:1.5;\"/>\n",
       "    <path clip-path=\"url(#pcd4c6be7bf)\" d=\"M 269.590203 137.533046 \n",
       "L 276.971427 137.533046 \n",
       "\" style=\"fill:none;stroke:#1f77b4;stroke-width:1.5;\"/>\n",
       "    <path clip-path=\"url(#pcd4c6be7bf)\" d=\"M 223.323188 110.883839 \n",
       "L 233.618644 110.883839 \n",
       "\" style=\"fill:none;stroke:#1f77b4;stroke-width:1.5;\"/>\n",
       "    <path clip-path=\"url(#pcd4c6be7bf)\" d=\"M 228.531249 114.382001 \n",
       "L 236.709416 114.382001 \n",
       "\" style=\"fill:none;stroke:#1f77b4;stroke-width:1.5;\"/>\n",
       "    <path clip-path=\"url(#pcd4c6be7bf)\" d=\"M 215.740005 116.474137 \n",
       "L 226.502628 116.474137 \n",
       "\" style=\"fill:none;stroke:#1f77b4;stroke-width:1.5;\"/>\n",
       "    <path clip-path=\"url(#pcd4c6be7bf)\" d=\"M 216.897286 117.901384 \n",
       "L 227.401862 117.901384 \n",
       "\" style=\"fill:none;stroke:#1f77b4;stroke-width:1.5;\"/>\n",
       "    <path clip-path=\"url(#pcd4c6be7bf)\" d=\"M 224.271613 126.193947 \n",
       "L 234.786389 126.193947 \n",
       "\" style=\"fill:none;stroke:#1f77b4;stroke-width:1.5;\"/>\n",
       "    <path clip-path=\"url(#pcd4c6be7bf)\" d=\"M 236.573192 120.208116 \n",
       "L 253.657106 120.208116 \n",
       "\" style=\"fill:none;stroke:#1f77b4;stroke-width:1.5;\"/>\n",
       "    <path clip-path=\"url(#pcd4c6be7bf)\" d=\"M 242.660527 126.141944 \n",
       "L 256.219417 126.141944 \n",
       "\" style=\"fill:none;stroke:#1f77b4;stroke-width:1.5;\"/>\n",
       "    <path clip-path=\"url(#pcd4c6be7bf)\" d=\"M 254.633163 130.475506 \n",
       "L 268.421657 130.475506 \n",
       "\" style=\"fill:none;stroke:#1f77b4;stroke-width:1.5;\"/>\n",
       "    <path clip-path=\"url(#pcd4c6be7bf)\" d=\"M 229.358743 132.271457 \n",
       "L 236.318457 132.271457 \n",
       "\" style=\"fill:none;stroke:#1f77b4;stroke-width:1.5;\"/>\n",
       "    <path clip-path=\"url(#pcd4c6be7bf)\" d=\"M 228.995571 134.640217 \n",
       "L 239.262378 134.640217 \n",
       "\" style=\"fill:none;stroke:#1f77b4;stroke-width:1.5;\"/>\n",
       "    <path clip-path=\"url(#pcd4c6be7bf)\" d=\"M 254.507627 133.28774 \n",
       "L 270.592131 133.28774 \n",
       "\" style=\"fill:none;stroke:#1f77b4;stroke-width:1.5;\"/>\n",
       "    <path clip-path=\"url(#pcd4c6be7bf)\" d=\"M 229.600544 145.021059 \n",
       "L 239.563208 145.021059 \n",
       "\" style=\"fill:none;stroke:#1f77b4;stroke-width:1.5;\"/>\n",
       "    <path clip-path=\"url(#pcd4c6be7bf)\" d=\"M 211.663058 143.264291 \n",
       "L 223.114702 143.264291 \n",
       "\" style=\"fill:none;stroke:#1f77b4;stroke-width:1.5;\"/>\n",
       "    <path clip-path=\"url(#pcd4c6be7bf)\" d=\"M 208.021738 136.972351 \n",
       "L 222.736923 136.972351 \n",
       "\" style=\"fill:none;stroke:#1f77b4;stroke-width:1.5;\"/>\n",
       "    <path clip-path=\"url(#pcd4c6be7bf)\" d=\"M 199.422399 115.527409 \n",
       "L 211.494042 115.527409 \n",
       "\" style=\"fill:none;stroke:#1f77b4;stroke-width:1.5;\"/>\n",
       "    <path clip-path=\"url(#pcd4c6be7bf)\" d=\"M 214.46247 128.875499 \n",
       "L 225.056201 128.875499 \n",
       "\" style=\"fill:none;stroke:#1f77b4;stroke-width:1.5;\"/>\n",
       "    <path clip-path=\"url(#pcd4c6be7bf)\" d=\"M 193.491078 108.26742 \n",
       "L 207.524792 108.26742 \n",
       "\" style=\"fill:none;stroke:#1f77b4;stroke-width:1.5;\"/>\n",
       "    <path clip-path=\"url(#pcd4c6be7bf)\" d=\"M 252.196642 129.718586 \n",
       "L 267.525027 129.718586 \n",
       "\" style=\"fill:none;stroke:#1f77b4;stroke-width:1.5;\"/>\n",
       "    <path clip-path=\"url(#pcd4c6be7bf)\" d=\"M 176.400585 133.483767 \n",
       "L 194.65527 133.483767 \n",
       "\" style=\"fill:none;stroke:#1f77b4;stroke-width:1.5;\"/>\n",
       "    <path clip-path=\"url(#pcd4c6be7bf)\" d=\"M 199.646756 122.107412 \n",
       "L 213.815236 122.107412 \n",
       "\" style=\"fill:none;stroke:#1f77b4;stroke-width:1.5;\"/>\n",
       "    <path clip-path=\"url(#pcd4c6be7bf)\" d=\"M 214.763348 142.219089 \n",
       "L 227.741368 142.219089 \n",
       "\" style=\"fill:none;stroke:#1f77b4;stroke-width:1.5;\"/>\n",
       "    <path clip-path=\"url(#pcd4c6be7bf)\" d=\"M 218.621136 117.077216 \n",
       "L 230.844205 117.077216 \n",
       "\" style=\"fill:none;stroke:#1f77b4;stroke-width:1.5;\"/>\n",
       "    <path clip-path=\"url(#pcd4c6be7bf)\" d=\"M 230.783991 131.526264 \n",
       "L 241.195905 131.526264 \n",
       "\" style=\"fill:none;stroke:#1f77b4;stroke-width:1.5;\"/>\n",
       "    <path clip-path=\"url(#pcd4c6be7bf)\" d=\"M 260.746128 136.262863 \n",
       "L 269.362337 136.262863 \n",
       "\" style=\"fill:none;stroke:#1f77b4;stroke-width:1.5;\"/>\n",
       "    <path clip-path=\"url(#pcd4c6be7bf)\" d=\"M 259.006864 118.98311 \n",
       "L 267.129471 118.98311 \n",
       "\" style=\"fill:none;stroke:#1f77b4;stroke-width:1.5;\"/>\n",
       "    <path clip-path=\"url(#pcd4c6be7bf)\" d=\"M 245.036741 110.981787 \n",
       "L 253.143312 110.981787 \n",
       "\" style=\"fill:none;stroke:#1f77b4;stroke-width:1.5;\"/>\n",
       "    <path clip-path=\"url(#pcd4c6be7bf)\" d=\"M 276.656883 109.545137 \n",
       "L 282.870152 109.545137 \n",
       "\" style=\"fill:none;stroke:#1f77b4;stroke-width:1.5;\"/>\n",
       "    <path clip-path=\"url(#pcd4c6be7bf)\" d=\"M 268.985867 117.113658 \n",
       "L 276.25073 117.113658 \n",
       "\" style=\"fill:none;stroke:#1f77b4;stroke-width:1.5;\"/>\n",
       "    <path clip-path=\"url(#pcd4c6be7bf)\" d=\"M 294.620399 124.003648 \n",
       "L 300.666992 124.003648 \n",
       "\" style=\"fill:none;stroke:#1f77b4;stroke-width:1.5;\"/>\n",
       "    <path clip-path=\"url(#pcd4c6be7bf)\" d=\"M 221.507742 133.916752 \n",
       "L 233.000349 133.916752 \n",
       "\" style=\"fill:none;stroke:#1f77b4;stroke-width:1.5;\"/>\n",
       "    <path clip-path=\"url(#pcd4c6be7bf)\" d=\"M 222.165175 127.905302 \n",
       "L 235.878447 127.905302 \n",
       "\" style=\"fill:none;stroke:#1f77b4;stroke-width:1.5;\"/>\n",
       "    <path clip-path=\"url(#pcd4c6be7bf)\" d=\"M 159.689093 118.769175 \n",
       "L 181.953795 118.769175 \n",
       "\" style=\"fill:none;stroke:#1f77b4;stroke-width:1.5;\"/>\n",
       "    <path clip-path=\"url(#pcd4c6be7bf)\" d=\"M 189.199538 128.534049 \n",
       "L 202.31379 128.534049 \n",
       "\" style=\"fill:none;stroke:#1f77b4;stroke-width:1.5;\"/>\n",
       "    <path clip-path=\"url(#pcd4c6be7bf)\" d=\"M 181.701865 124.810991 \n",
       "L 196.43355 124.810991 \n",
       "\" style=\"fill:none;stroke:#1f77b4;stroke-width:1.5;\"/>\n",
       "    <path clip-path=\"url(#pcd4c6be7bf)\" d=\"M 176.791943 122.136604 \n",
       "L 191.950253 122.136604 \n",
       "\" style=\"fill:none;stroke:#1f77b4;stroke-width:1.5;\"/>\n",
       "    <path clip-path=\"url(#pcd4c6be7bf)\" d=\"M 178.252273 132.22634 \n",
       "L 195.069468 132.22634 \n",
       "\" style=\"fill:none;stroke:#1f77b4;stroke-width:1.5;\"/>\n",
       "    <path clip-path=\"url(#pcd4c6be7bf)\" d=\"M 163.496286 107.762847 \n",
       "L 188.77726 107.762847 \n",
       "\" style=\"fill:none;stroke:#1f77b4;stroke-width:1.5;\"/>\n",
       "    <path clip-path=\"url(#pcd4c6be7bf)\" d=\"M 169.83186 134.036634 \n",
       "L 188.933171 134.036634 \n",
       "\" style=\"fill:none;stroke:#1f77b4;stroke-width:1.5;\"/>\n",
       "    <path clip-path=\"url(#pcd4c6be7bf)\" d=\"M 163.871512 143.392658 \n",
       "L 183.591397 143.392658 \n",
       "\" style=\"fill:none;stroke:#1f77b4;stroke-width:1.5;\"/>\n",
       "    <path clip-path=\"url(#pcd4c6be7bf)\" d=\"M 175.718095 139.033688 \n",
       "L 191.964212 139.033688 \n",
       "\" style=\"fill:none;stroke:#1f77b4;stroke-width:1.5;\"/>\n",
       "    <path clip-path=\"url(#pcd4c6be7bf)\" d=\"M 189.091623 137.264239 \n",
       "L 202.836848 137.264239 \n",
       "\" style=\"fill:none;stroke:#1f77b4;stroke-width:1.5;\"/>\n",
       "    <path clip-path=\"url(#pcd4c6be7bf)\" d=\"M 180.028518 134.89032 \n",
       "L 194.14183 134.89032 \n",
       "\" style=\"fill:none;stroke:#1f77b4;stroke-width:1.5;\"/>\n",
       "    <path clip-path=\"url(#pcd4c6be7bf)\" d=\"M 174.864569 122.226484 \n",
       "L 203.387567 122.226484 \n",
       "\" style=\"fill:none;stroke:#1f77b4;stroke-width:1.5;\"/>\n",
       "    <path clip-path=\"url(#pcd4c6be7bf)\" d=\"M 162.925598 120.142384 \n",
       "L 178.627027 120.142384 \n",
       "\" style=\"fill:none;stroke:#1f77b4;stroke-width:1.5;\"/>\n",
       "    <path clip-path=\"url(#pcd4c6be7bf)\" d=\"M 134.297272 115.308036 \n",
       "L 153.167225 115.308036 \n",
       "\" style=\"fill:none;stroke:#1f77b4;stroke-width:1.5;\"/>\n",
       "    <path clip-path=\"url(#pcd4c6be7bf)\" d=\"M 175.015372 138.209568 \n",
       "L 189.986629 138.209568 \n",
       "\" style=\"fill:none;stroke:#1f77b4;stroke-width:1.5;\"/>\n",
       "    <path clip-path=\"url(#pcd4c6be7bf)\" d=\"M 166.716422 142.370311 \n",
       "L 181.745783 142.370311 \n",
       "\" style=\"fill:none;stroke:#1f77b4;stroke-width:1.5;\"/>\n",
       "    <path clip-path=\"url(#pcd4c6be7bf)\" d=\"M 146.737031 120.502285 \n",
       "L 164.018752 120.502285 \n",
       "\" style=\"fill:none;stroke:#1f77b4;stroke-width:1.5;\"/>\n",
       "    <path clip-path=\"url(#pcd4c6be7bf)\" d=\"M 141.118739 131.461429 \n",
       "L 161.615211 131.461429 \n",
       "\" style=\"fill:none;stroke:#1f77b4;stroke-width:1.5;\"/>\n",
       "    <path clip-path=\"url(#pcd4c6be7bf)\" d=\"M 169.246479 113.301475 \n",
       "L 185.48219 113.301475 \n",
       "\" style=\"fill:none;stroke:#1f77b4;stroke-width:1.5;\"/>\n",
       "    <path clip-path=\"url(#pcd4c6be7bf)\" d=\"M 162.749278 153.25466 \n",
       "L 183.076198 153.25466 \n",
       "\" style=\"fill:none;stroke:#1f77b4;stroke-width:1.5;\"/>\n",
       "    <path clip-path=\"url(#pcd4c6be7bf)\" d=\"M 147.137996 124.906158 \n",
       "L 166.740922 124.906158 \n",
       "\" style=\"fill:none;stroke:#1f77b4;stroke-width:1.5;\"/>\n",
       "    <path clip-path=\"url(#pcd4c6be7bf)\" d=\"M 149.020845 120.979467 \n",
       "L 169.580527 120.979467 \n",
       "\" style=\"fill:none;stroke:#1f77b4;stroke-width:1.5;\"/>\n",
       "    <path clip-path=\"url(#pcd4c6be7bf)\" d=\"M 160.039542 136.931794 \n",
       "L 176.51754 136.931794 \n",
       "\" style=\"fill:none;stroke:#1f77b4;stroke-width:1.5;\"/>\n",
       "    <path clip-path=\"url(#pcd4c6be7bf)\" d=\"M 185.686351 141.471345 \n",
       "L 202.763947 141.471345 \n",
       "\" style=\"fill:none;stroke:#1f77b4;stroke-width:1.5;\"/>\n",
       "    <path clip-path=\"url(#pcd4c6be7bf)\" d=\"M 164.464686 144.912791 \n",
       "L 190.618591 144.912791 \n",
       "\" style=\"fill:none;stroke:#1f77b4;stroke-width:1.5;\"/>\n",
       "    <path clip-path=\"url(#pcd4c6be7bf)\" d=\"M 166.309593 129.867726 \n",
       "L 185.211901 129.867726 \n",
       "\" style=\"fill:none;stroke:#1f77b4;stroke-width:1.5;\"/>\n",
       "    <path clip-path=\"url(#pcd4c6be7bf)\" d=\"M 163.936992 131.06787 \n",
       "L 180.196658 131.06787 \n",
       "\" style=\"fill:none;stroke:#1f77b4;stroke-width:1.5;\"/>\n",
       "    <path clip-path=\"url(#pcd4c6be7bf)\" d=\"M 106.234676 131.31794 \n",
       "L 134.35573 131.31794 \n",
       "\" style=\"fill:none;stroke:#1f77b4;stroke-width:1.5;\"/>\n",
       "    <path clip-path=\"url(#pcd4c6be7bf)\" d=\"M 237.822811 117.334654 \n",
       "L 249.337291 117.334654 \n",
       "\" style=\"fill:none;stroke:#1f77b4;stroke-width:1.5;\"/>\n",
       "    <path clip-path=\"url(#pcd4c6be7bf)\" d=\"M 246.821781 120.206128 \n",
       "L 257.784396 120.206128 \n",
       "\" style=\"fill:none;stroke:#1f77b4;stroke-width:1.5;\"/>\n",
       "    <path clip-path=\"url(#pcd4c6be7bf)\" d=\"M 211.954605 134.007778 \n",
       "L 225.973168 134.007778 \n",
       "\" style=\"fill:none;stroke:#1f77b4;stroke-width:1.5;\"/>\n",
       "    <path clip-path=\"url(#pcd4c6be7bf)\" d=\"M 230.923195 169.074669 \n",
       "L 245.549368 169.074669 \n",
       "\" style=\"fill:none;stroke:#1f77b4;stroke-width:1.5;\"/>\n",
       "    <path clip-path=\"url(#pcd4c6be7bf)\" d=\"M 224.006074 140.785136 \n",
       "L 237.75374 140.785136 \n",
       "\" style=\"fill:none;stroke:#1f77b4;stroke-width:1.5;\"/>\n",
       "    <path clip-path=\"url(#pcd4c6be7bf)\" d=\"M 236.657958 130.772823 \n",
       "L 247.731465 130.772823 \n",
       "\" style=\"fill:none;stroke:#1f77b4;stroke-width:1.5;\"/>\n",
       "    <path clip-path=\"url(#pcd4c6be7bf)\" d=\"M 184.321317 121.125078 \n",
       "L 208.331274 121.125078 \n",
       "\" style=\"fill:none;stroke:#1f77b4;stroke-width:1.5;\"/>\n",
       "    <path clip-path=\"url(#pcd4c6be7bf)\" d=\"M 156.671551 128.236754 \n",
       "L 174.920241 128.236754 \n",
       "\" style=\"fill:none;stroke:#1f77b4;stroke-width:1.5;\"/>\n",
       "    <path clip-path=\"url(#pcd4c6be7bf)\" d=\"M 148.931814 99.762089 \n",
       "L 165.467278 99.762089 \n",
       "\" style=\"fill:none;stroke:#1f77b4;stroke-width:1.5;\"/>\n",
       "    <path clip-path=\"url(#pcd4c6be7bf)\" d=\"M 157.0581 122.155199 \n",
       "L 174.962774 122.155199 \n",
       "\" style=\"fill:none;stroke:#1f77b4;stroke-width:1.5;\"/>\n",
       "    <path clip-path=\"url(#pcd4c6be7bf)\" d=\"M 188.931348 137.737789 \n",
       "L 207.098184 137.737789 \n",
       "\" style=\"fill:none;stroke:#1f77b4;stroke-width:1.5;\"/>\n",
       "    <path clip-path=\"url(#pcd4c6be7bf)\" d=\"M 180.718083 110.0592 \n",
       "L 194.695727 110.0592 \n",
       "\" style=\"fill:none;stroke:#1f77b4;stroke-width:1.5;\"/>\n",
       "    <path clip-path=\"url(#pcd4c6be7bf)\" d=\"M 186.076756 114.516251 \n",
       "L 203.919272 114.516251 \n",
       "\" style=\"fill:none;stroke:#1f77b4;stroke-width:1.5;\"/>\n",
       "    <path clip-path=\"url(#pcd4c6be7bf)\" d=\"M 260.006679 135.948574 \n",
       "L 272.279402 135.948574 \n",
       "\" style=\"fill:none;stroke:#1f77b4;stroke-width:1.5;\"/>\n",
       "    <path clip-path=\"url(#pcd4c6be7bf)\" d=\"M 223.710818 124.555548 \n",
       "L 234.230505 124.555548 \n",
       "\" style=\"fill:none;stroke:#1f77b4;stroke-width:1.5;\"/>\n",
       "    <path clip-path=\"url(#pcd4c6be7bf)\" d=\"M 218.273054 137.015286 \n",
       "L 227.791215 137.015286 \n",
       "\" style=\"fill:none;stroke:#1f77b4;stroke-width:1.5;\"/>\n",
       "    <path clip-path=\"url(#pcd4c6be7bf)\" d=\"M 189.938342 132.125674 \n",
       "L 199.684104 132.125674 \n",
       "\" style=\"fill:none;stroke:#1f77b4;stroke-width:1.5;\"/>\n",
       "    <path clip-path=\"url(#pcd4c6be7bf)\" d=\"M 251.340737 137.941611 \n",
       "L 267.834091 137.941611 \n",
       "\" style=\"fill:none;stroke:#1f77b4;stroke-width:1.5;\"/>\n",
       "    <path clip-path=\"url(#pcd4c6be7bf)\" d=\"M 208.81158 133.710993 \n",
       "L 223.449719 133.710993 \n",
       "\" style=\"fill:none;stroke:#1f77b4;stroke-width:1.5;\"/>\n",
       "    <path clip-path=\"url(#pcd4c6be7bf)\" d=\"M 202.953669 120.416453 \n",
       "L 220.680505 120.416453 \n",
       "\" style=\"fill:none;stroke:#1f77b4;stroke-width:1.5;\"/>\n",
       "    <path clip-path=\"url(#pcd4c6be7bf)\" d=\"M 167.632319 123.424009 \n",
       "L 188.195652 123.424009 \n",
       "\" style=\"fill:none;stroke:#1f77b4;stroke-width:1.5;\"/>\n",
       "    <path clip-path=\"url(#pcd4c6be7bf)\" d=\"M 140.77327 113.268691 \n",
       "L 162.484234 113.268691 \n",
       "\" style=\"fill:none;stroke:#1f77b4;stroke-width:1.5;\"/>\n",
       "    <path clip-path=\"url(#pcd4c6be7bf)\" d=\"M 186.690552 123.577256 \n",
       "L 200.368054 123.577256 \n",
       "\" style=\"fill:none;stroke:#1f77b4;stroke-width:1.5;\"/>\n",
       "    <path clip-path=\"url(#pcd4c6be7bf)\" d=\"M 198.21372 146.768731 \n",
       "L 210.405484 146.768731 \n",
       "\" style=\"fill:none;stroke:#1f77b4;stroke-width:1.5;\"/>\n",
       "    <path clip-path=\"url(#pcd4c6be7bf)\" d=\"M 191.251796 163.514329 \n",
       "L 214.006565 163.514329 \n",
       "\" style=\"fill:none;stroke:#1f77b4;stroke-width:1.5;\"/>\n",
       "    <path clip-path=\"url(#pcd4c6be7bf)\" d=\"M 166.851469 109.330155 \n",
       "L 187.193941 109.330155 \n",
       "\" style=\"fill:none;stroke:#1f77b4;stroke-width:1.5;\"/>\n",
       "    <path clip-path=\"url(#pcd4c6be7bf)\" d=\"M 218.661632 142.03603 \n",
       "L 231.198455 142.03603 \n",
       "\" style=\"fill:none;stroke:#1f77b4;stroke-width:1.5;\"/>\n",
       "    <path clip-path=\"url(#pcd4c6be7bf)\" d=\"M 203.188625 142.348119 \n",
       "L 215.357229 142.348119 \n",
       "\" style=\"fill:none;stroke:#1f77b4;stroke-width:1.5;\"/>\n",
       "   </g>\n",
       "   <g id=\"LineCollection_2\">\n",
       "    <path clip-path=\"url(#pcd4c6be7bf)\" d=\"M 209.938558 141.702838 \n",
       "L 209.938558 125.790762 \n",
       "\" style=\"fill:none;stroke:#1f77b4;stroke-width:1.5;\"/>\n",
       "    <path clip-path=\"url(#pcd4c6be7bf)\" d=\"M 194.277887 142.570941 \n",
       "L 194.277887 114.039535 \n",
       "\" style=\"fill:none;stroke:#1f77b4;stroke-width:1.5;\"/>\n",
       "    <path clip-path=\"url(#pcd4c6be7bf)\" d=\"M 159.012241 129.167817 \n",
       "L 159.012241 100.240935 \n",
       "\" style=\"fill:none;stroke:#1f77b4;stroke-width:1.5;\"/>\n",
       "    <path clip-path=\"url(#pcd4c6be7bf)\" d=\"M 163.872907 149.15186 \n",
       "L 163.872907 117.316538 \n",
       "\" style=\"fill:none;stroke:#1f77b4;stroke-width:1.5;\"/>\n",
       "    <path clip-path=\"url(#pcd4c6be7bf)\" d=\"M 202.976449 168.537245 \n",
       "L 202.976449 115.618412 \n",
       "\" style=\"fill:none;stroke:#1f77b4;stroke-width:1.5;\"/>\n",
       "    <path clip-path=\"url(#pcd4c6be7bf)\" d=\"M 153.479507 139.761881 \n",
       "L 153.479507 98.677606 \n",
       "\" style=\"fill:none;stroke:#1f77b4;stroke-width:1.5;\"/>\n",
       "    <path clip-path=\"url(#pcd4c6be7bf)\" d=\"M 138.895356 148.345024 \n",
       "L 138.895356 111.989038 \n",
       "\" style=\"fill:none;stroke:#1f77b4;stroke-width:1.5;\"/>\n",
       "    <path clip-path=\"url(#pcd4c6be7bf)\" d=\"M 130.39779 146.781489 \n",
       "L 130.39779 118.86892 \n",
       "\" style=\"fill:none;stroke:#1f77b4;stroke-width:1.5;\"/>\n",
       "    <path clip-path=\"url(#pcd4c6be7bf)\" d=\"M 129.085276 162.26726 \n",
       "L 129.085276 129.724754 \n",
       "\" style=\"fill:none;stroke:#1f77b4;stroke-width:1.5;\"/>\n",
       "    <path clip-path=\"url(#pcd4c6be7bf)\" d=\"M 131.585049 169.441853 \n",
       "L 131.585049 116.745949 \n",
       "\" style=\"fill:none;stroke:#1f77b4;stroke-width:1.5;\"/>\n",
       "    <path clip-path=\"url(#pcd4c6be7bf)\" d=\"M 91.515526 137.942484 \n",
       "L 91.515526 81.849806 \n",
       "\" style=\"fill:none;stroke:#1f77b4;stroke-width:1.5;\"/>\n",
       "    <path clip-path=\"url(#pcd4c6be7bf)\" d=\"M 120.853233 156.910261 \n",
       "L 120.853233 113.826374 \n",
       "\" style=\"fill:none;stroke:#1f77b4;stroke-width:1.5;\"/>\n",
       "    <path clip-path=\"url(#pcd4c6be7bf)\" d=\"M 109.500896 128.917752 \n",
       "L 109.500896 106.069967 \n",
       "\" style=\"fill:none;stroke:#1f77b4;stroke-width:1.5;\"/>\n",
       "    <path clip-path=\"url(#pcd4c6be7bf)\" d=\"M 120.59874 159.107741 \n",
       "L 120.59874 113.538799 \n",
       "\" style=\"fill:none;stroke:#1f77b4;stroke-width:1.5;\"/>\n",
       "    <path clip-path=\"url(#pcd4c6be7bf)\" d=\"M 94.964671 152.46114 \n",
       "L 94.964671 100.499616 \n",
       "\" style=\"fill:none;stroke:#1f77b4;stroke-width:1.5;\"/>\n",
       "    <path clip-path=\"url(#pcd4c6be7bf)\" d=\"M 130.853021 151.042691 \n",
       "L 130.853021 108.732317 \n",
       "\" style=\"fill:none;stroke:#1f77b4;stroke-width:1.5;\"/>\n",
       "    <path clip-path=\"url(#pcd4c6be7bf)\" d=\"M 117.586043 151.389183 \n",
       "L 117.586043 106.706428 \n",
       "\" style=\"fill:none;stroke:#1f77b4;stroke-width:1.5;\"/>\n",
       "    <path clip-path=\"url(#pcd4c6be7bf)\" d=\"M 126.018218 144.190417 \n",
       "L 126.018218 102.568464 \n",
       "\" style=\"fill:none;stroke:#1f77b4;stroke-width:1.5;\"/>\n",
       "    <path clip-path=\"url(#pcd4c6be7bf)\" d=\"M 139.750016 187.10617 \n",
       "L 139.750016 104.39475 \n",
       "\" style=\"fill:none;stroke:#1f77b4;stroke-width:1.5;\"/>\n",
       "    <path clip-path=\"url(#pcd4c6be7bf)\" d=\"M 115.95172 167.064461 \n",
       "L 115.95172 92.966097 \n",
       "\" style=\"fill:none;stroke:#1f77b4;stroke-width:1.5;\"/>\n",
       "    <path clip-path=\"url(#pcd4c6be7bf)\" d=\"M 91.685845 167.718826 \n",
       "L 91.685845 93.681289 \n",
       "\" style=\"fill:none;stroke:#1f77b4;stroke-width:1.5;\"/>\n",
       "    <path clip-path=\"url(#pcd4c6be7bf)\" d=\"M 72.43361 111.431584 \n",
       "L 72.43361 35.438826 \n",
       "\" style=\"fill:none;stroke:#1f77b4;stroke-width:1.5;\"/>\n",
       "    <path clip-path=\"url(#pcd4c6be7bf)\" d=\"M 93.910083 177.7087 \n",
       "L 93.910083 105.859514 \n",
       "\" style=\"fill:none;stroke:#1f77b4;stroke-width:1.5;\"/>\n",
       "    <path clip-path=\"url(#pcd4c6be7bf)\" d=\"M 73.894336 146.739914 \n",
       "L 73.894336 61.62393 \n",
       "\" style=\"fill:none;stroke:#1f77b4;stroke-width:1.5;\"/>\n",
       "    <path clip-path=\"url(#pcd4c6be7bf)\" d=\"M 106.499618 198.180355 \n",
       "L 106.499618 111.845254 \n",
       "\" style=\"fill:none;stroke:#1f77b4;stroke-width:1.5;\"/>\n",
       "    <path clip-path=\"url(#pcd4c6be7bf)\" d=\"M 110.629629 160.625191 \n",
       "L 110.629629 91.398005 \n",
       "\" style=\"fill:none;stroke:#1f77b4;stroke-width:1.5;\"/>\n",
       "    <path clip-path=\"url(#pcd4c6be7bf)\" d=\"M 101.053606 172.996711 \n",
       "L 101.053606 58.464213 \n",
       "\" style=\"fill:none;stroke:#1f77b4;stroke-width:1.5;\"/>\n",
       "    <path clip-path=\"url(#pcd4c6be7bf)\" d=\"M 148.984728 149.626381 \n",
       "L 148.984728 115.253374 \n",
       "\" style=\"fill:none;stroke:#1f77b4;stroke-width:1.5;\"/>\n",
       "    <path clip-path=\"url(#pcd4c6be7bf)\" d=\"M 90.850243 100.375838 \n",
       "L 90.850243 19.697318 \n",
       "\" style=\"fill:none;stroke:#1f77b4;stroke-width:1.5;\"/>\n",
       "    <path clip-path=\"url(#pcd4c6be7bf)\" d=\"M 128.799088 173.813407 \n",
       "L 128.799088 129.038751 \n",
       "\" style=\"fill:none;stroke:#1f77b4;stroke-width:1.5;\"/>\n",
       "    <path clip-path=\"url(#pcd4c6be7bf)\" d=\"M 128.417099 171.965367 \n",
       "L 128.417099 100.978979 \n",
       "\" style=\"fill:none;stroke:#1f77b4;stroke-width:1.5;\"/>\n",
       "    <path clip-path=\"url(#pcd4c6be7bf)\" d=\"M 95.740284 109.578267 \n",
       "L 95.740284 64.90126 \n",
       "\" style=\"fill:none;stroke:#1f77b4;stroke-width:1.5;\"/>\n",
       "    <path clip-path=\"url(#pcd4c6be7bf)\" d=\"M 313.691513 124.933168 \n",
       "L 313.691513 95.696185 \n",
       "\" style=\"fill:none;stroke:#1f77b4;stroke-width:1.5;\"/>\n",
       "    <path clip-path=\"url(#pcd4c6be7bf)\" d=\"M 343.654363 217.370045 \n",
       "L 343.654363 78.882309 \n",
       "\" style=\"fill:none;stroke:#1f77b4;stroke-width:1.5;\"/>\n",
       "    <path clip-path=\"url(#pcd4c6be7bf)\" d=\"M 309.276892 121.173539 \n",
       "L 309.276892 92.654971 \n",
       "\" style=\"fill:none;stroke:#1f77b4;stroke-width:1.5;\"/>\n",
       "    <path clip-path=\"url(#pcd4c6be7bf)\" d=\"M 330.624397 122.833907 \n",
       "L 330.624397 97.024882 \n",
       "\" style=\"fill:none;stroke:#1f77b4;stroke-width:1.5;\"/>\n",
       "    <path clip-path=\"url(#pcd4c6be7bf)\" d=\"M 321.378638 105.12144 \n",
       "L 321.378638 91.749097 \n",
       "\" style=\"fill:none;stroke:#1f77b4;stroke-width:1.5;\"/>\n",
       "    <path clip-path=\"url(#pcd4c6be7bf)\" d=\"M 300.936516 100.792118 \n",
       "L 300.936516 64.095545 \n",
       "\" style=\"fill:none;stroke:#1f77b4;stroke-width:1.5;\"/>\n",
       "    <path clip-path=\"url(#pcd4c6be7bf)\" d=\"M 313.469237 104.162001 \n",
       "L 313.469237 87.966016 \n",
       "\" style=\"fill:none;stroke:#1f77b4;stroke-width:1.5;\"/>\n",
       "    <path clip-path=\"url(#pcd4c6be7bf)\" d=\"M 308.900369 121.176988 \n",
       "L 308.900369 106.409145 \n",
       "\" style=\"fill:none;stroke:#1f77b4;stroke-width:1.5;\"/>\n",
       "    <path clip-path=\"url(#pcd4c6be7bf)\" d=\"M 312.15194 107.549478 \n",
       "L 312.15194 93.764872 \n",
       "\" style=\"fill:none;stroke:#1f77b4;stroke-width:1.5;\"/>\n",
       "    <path clip-path=\"url(#pcd4c6be7bf)\" d=\"M 283.433419 120.464208 \n",
       "L 283.433419 101.316113 \n",
       "\" style=\"fill:none;stroke:#1f77b4;stroke-width:1.5;\"/>\n",
       "    <path clip-path=\"url(#pcd4c6be7bf)\" d=\"M 289.808488 122.542985 \n",
       "L 289.808488 105.024797 \n",
       "\" style=\"fill:none;stroke:#1f77b4;stroke-width:1.5;\"/>\n",
       "    <path clip-path=\"url(#pcd4c6be7bf)\" d=\"M 287.798151 112.917771 \n",
       "L 287.798151 95.132922 \n",
       "\" style=\"fill:none;stroke:#1f77b4;stroke-width:1.5;\"/>\n",
       "    <path clip-path=\"url(#pcd4c6be7bf)\" d=\"M 324.139426 120.852947 \n",
       "L 324.139426 100.92019 \n",
       "\" style=\"fill:none;stroke:#1f77b4;stroke-width:1.5;\"/>\n",
       "    <path clip-path=\"url(#pcd4c6be7bf)\" d=\"M 245.147242 126.653921 \n",
       "L 245.147242 85.890583 \n",
       "\" style=\"fill:none;stroke:#1f77b4;stroke-width:1.5;\"/>\n",
       "    <path clip-path=\"url(#pcd4c6be7bf)\" d=\"M 308.490201 118.63361 \n",
       "L 308.490201 103.392821 \n",
       "\" style=\"fill:none;stroke:#1f77b4;stroke-width:1.5;\"/>\n",
       "    <path clip-path=\"url(#pcd4c6be7bf)\" d=\"M 289.561389 131.650624 \n",
       "L 289.561389 111.144317 \n",
       "\" style=\"fill:none;stroke:#1f77b4;stroke-width:1.5;\"/>\n",
       "    <path clip-path=\"url(#pcd4c6be7bf)\" d=\"M 263.759903 117.149561 \n",
       "L 263.759903 93.490011 \n",
       "\" style=\"fill:none;stroke:#1f77b4;stroke-width:1.5;\"/>\n",
       "    <path clip-path=\"url(#pcd4c6be7bf)\" d=\"M 289.735968 125.20728 \n",
       "L 289.735968 108.022711 \n",
       "\" style=\"fill:none;stroke:#1f77b4;stroke-width:1.5;\"/>\n",
       "    <path clip-path=\"url(#pcd4c6be7bf)\" d=\"M 284.568182 133.648269 \n",
       "L 284.568182 113.767276 \n",
       "\" style=\"fill:none;stroke:#1f77b4;stroke-width:1.5;\"/>\n",
       "    <path clip-path=\"url(#pcd4c6be7bf)\" d=\"M 279.258253 123.964553 \n",
       "L 279.258253 105.531648 \n",
       "\" style=\"fill:none;stroke:#1f77b4;stroke-width:1.5;\"/>\n",
       "    <path clip-path=\"url(#pcd4c6be7bf)\" d=\"M 290.634869 128.815311 \n",
       "L 290.634869 111.407026 \n",
       "\" style=\"fill:none;stroke:#1f77b4;stroke-width:1.5;\"/>\n",
       "    <path clip-path=\"url(#pcd4c6be7bf)\" d=\"M 273.953127 130.473846 \n",
       "L 273.953127 112.194397 \n",
       "\" style=\"fill:none;stroke:#1f77b4;stroke-width:1.5;\"/>\n",
       "    <path clip-path=\"url(#pcd4c6be7bf)\" d=\"M 276.236412 134.441223 \n",
       "L 276.236412 114.445875 \n",
       "\" style=\"fill:none;stroke:#1f77b4;stroke-width:1.5;\"/>\n",
       "    <path clip-path=\"url(#pcd4c6be7bf)\" d=\"M 265.519797 150.201827 \n",
       "L 265.519797 122.249379 \n",
       "\" style=\"fill:none;stroke:#1f77b4;stroke-width:1.5;\"/>\n",
       "    <path clip-path=\"url(#pcd4c6be7bf)\" d=\"M 256.281752 148.08397 \n",
       "L 256.281752 119.98736 \n",
       "\" style=\"fill:none;stroke:#1f77b4;stroke-width:1.5;\"/>\n",
       "    <path clip-path=\"url(#pcd4c6be7bf)\" d=\"M 232.937888 131.378909 \n",
       "L 232.937888 102.334623 \n",
       "\" style=\"fill:none;stroke:#1f77b4;stroke-width:1.5;\"/>\n",
       "    <path clip-path=\"url(#pcd4c6be7bf)\" d=\"M 239.684125 122.591324 \n",
       "L 239.684125 95.64853 \n",
       "\" style=\"fill:none;stroke:#1f77b4;stroke-width:1.5;\"/>\n",
       "    <path clip-path=\"url(#pcd4c6be7bf)\" d=\"M 263.458 124.007494 \n",
       "L 263.458 100.905728 \n",
       "\" style=\"fill:none;stroke:#1f77b4;stroke-width:1.5;\"/>\n",
       "    <path clip-path=\"url(#pcd4c6be7bf)\" d=\"M 243.787308 136.763883 \n",
       "L 243.787308 113.797987 \n",
       "\" style=\"fill:none;stroke:#1f77b4;stroke-width:1.5;\"/>\n",
       "    <path clip-path=\"url(#pcd4c6be7bf)\" d=\"M 271.372453 120.241977 \n",
       "L 271.372453 99.985799 \n",
       "\" style=\"fill:none;stroke:#1f77b4;stroke-width:1.5;\"/>\n",
       "    <path clip-path=\"url(#pcd4c6be7bf)\" d=\"M 266.154188 132.130981 \n",
       "L 266.154188 110.216346 \n",
       "\" style=\"fill:none;stroke:#1f77b4;stroke-width:1.5;\"/>\n",
       "    <path clip-path=\"url(#pcd4c6be7bf)\" d=\"M 273.383822 146.916147 \n",
       "L 273.383822 127.902652 \n",
       "\" style=\"fill:none;stroke:#1f77b4;stroke-width:1.5;\"/>\n",
       "    <path clip-path=\"url(#pcd4c6be7bf)\" d=\"M 228.670536 125.978264 \n",
       "L 228.670536 95.261675 \n",
       "\" style=\"fill:none;stroke:#1f77b4;stroke-width:1.5;\"/>\n",
       "    <path clip-path=\"url(#pcd4c6be7bf)\" d=\"M 232.746644 125.131541 \n",
       "L 232.746644 103.363547 \n",
       "\" style=\"fill:none;stroke:#1f77b4;stroke-width:1.5;\"/>\n",
       "    <path clip-path=\"url(#pcd4c6be7bf)\" d=\"M 221.339268 132.26579 \n",
       "L 221.339268 100.096189 \n",
       "\" style=\"fill:none;stroke:#1f77b4;stroke-width:1.5;\"/>\n",
       "    <path clip-path=\"url(#pcd4c6be7bf)\" d=\"M 222.357267 132.332338 \n",
       "L 222.357267 102.976707 \n",
       "\" style=\"fill:none;stroke:#1f77b4;stroke-width:1.5;\"/>\n",
       "    <path clip-path=\"url(#pcd4c6be7bf)\" d=\"M 229.737151 139.334635 \n",
       "L 229.737151 112.584767 \n",
       "\" style=\"fill:none;stroke:#1f77b4;stroke-width:1.5;\"/>\n",
       "    <path clip-path=\"url(#pcd4c6be7bf)\" d=\"M 245.301359 141.761653 \n",
       "L 245.301359 98.467314 \n",
       "\" style=\"fill:none;stroke:#1f77b4;stroke-width:1.5;\"/>\n",
       "    <path clip-path=\"url(#pcd4c6be7bf)\" d=\"M 249.791511 144.964081 \n",
       "L 249.791511 106.314465 \n",
       "\" style=\"fill:none;stroke:#1f77b4;stroke-width:1.5;\"/>\n",
       "    <path clip-path=\"url(#pcd4c6be7bf)\" d=\"M 261.648697 147.30814 \n",
       "L 261.648697 113.414698 \n",
       "\" style=\"fill:none;stroke:#1f77b4;stroke-width:1.5;\"/>\n",
       "    <path clip-path=\"url(#pcd4c6be7bf)\" d=\"M 232.930243 141.302344 \n",
       "L 232.930243 123.060378 \n",
       "\" style=\"fill:none;stroke:#1f77b4;stroke-width:1.5;\"/>\n",
       "    <path clip-path=\"url(#pcd4c6be7bf)\" d=\"M 234.327467 149.112246 \n",
       "L 234.327467 119.605521 \n",
       "\" style=\"fill:none;stroke:#1f77b4;stroke-width:1.5;\"/>\n",
       "    <path clip-path=\"url(#pcd4c6be7bf)\" d=\"M 262.715639 153.266255 \n",
       "L 262.715639 113.13464 \n",
       "\" style=\"fill:none;stroke:#1f77b4;stroke-width:1.5;\"/>\n",
       "    <path clip-path=\"url(#pcd4c6be7bf)\" d=\"M 234.768856 157.33479 \n",
       "L 234.768856 132.262288 \n",
       "\" style=\"fill:none;stroke:#1f77b4;stroke-width:1.5;\"/>\n",
       "    <path clip-path=\"url(#pcd4c6be7bf)\" d=\"M 217.635421 157.32626 \n",
       "L 217.635421 128.711344 \n",
       "\" style=\"fill:none;stroke:#1f77b4;stroke-width:1.5;\"/>\n",
       "    <path clip-path=\"url(#pcd4c6be7bf)\" d=\"M 215.793338 158.881033 \n",
       "L 215.793338 114.539963 \n",
       "\" style=\"fill:none;stroke:#1f77b4;stroke-width:1.5;\"/>\n",
       "    <path clip-path=\"url(#pcd4c6be7bf)\" d=\"M 205.731981 133.03617 \n",
       "L 205.731981 97.059591 \n",
       "\" style=\"fill:none;stroke:#1f77b4;stroke-width:1.5;\"/>\n",
       "    <path clip-path=\"url(#pcd4c6be7bf)\" d=\"M 219.970546 143.117866 \n",
       "L 219.970546 114.024552 \n",
       "\" style=\"fill:none;stroke:#1f77b4;stroke-width:1.5;\"/>\n",
       "    <path clip-path=\"url(#pcd4c6be7bf)\" d=\"M 200.884504 126.306484 \n",
       "L 200.884504 89.520287 \n",
       "\" style=\"fill:none;stroke:#1f77b4;stroke-width:1.5;\"/>\n",
       "    <path clip-path=\"url(#pcd4c6be7bf)\" d=\"M 260.010405 148.3954 \n",
       "L 260.010405 110.70746 \n",
       "\" style=\"fill:none;stroke:#1f77b4;stroke-width:1.5;\"/>\n",
       "    <path clip-path=\"url(#pcd4c6be7bf)\" d=\"M 185.740334 155.847847 \n",
       "L 185.740334 110.882446 \n",
       "\" style=\"fill:none;stroke:#1f77b4;stroke-width:1.5;\"/>\n",
       "    <path clip-path=\"url(#pcd4c6be7bf)\" d=\"M 207.114829 145.028908 \n",
       "L 207.114829 97.616358 \n",
       "\" style=\"fill:none;stroke:#1f77b4;stroke-width:1.5;\"/>\n",
       "    <path clip-path=\"url(#pcd4c6be7bf)\" d=\"M 221.574436 158.679739 \n",
       "L 221.574436 125.052166 \n",
       "\" style=\"fill:none;stroke:#1f77b4;stroke-width:1.5;\"/>\n",
       "    <path clip-path=\"url(#pcd4c6be7bf)\" d=\"M 225.013388 136.052312 \n",
       "L 225.013388 97.467477 \n",
       "\" style=\"fill:none;stroke:#1f77b4;stroke-width:1.5;\"/>\n",
       "    <path clip-path=\"url(#pcd4c6be7bf)\" d=\"M 236.194046 144.96257 \n",
       "L 236.194046 117.556914 \n",
       "\" style=\"fill:none;stroke:#1f77b4;stroke-width:1.5;\"/>\n",
       "    <path clip-path=\"url(#pcd4c6be7bf)\" d=\"M 265.194313 147.60573 \n",
       "L 265.194313 124.585041 \n",
       "\" style=\"fill:none;stroke:#1f77b4;stroke-width:1.5;\"/>\n",
       "    <path clip-path=\"url(#pcd4c6be7bf)\" d=\"M 263.192744 131.180426 \n",
       "L 263.192744 106.458903 \n",
       "\" style=\"fill:none;stroke:#1f77b4;stroke-width:1.5;\"/>\n",
       "    <path clip-path=\"url(#pcd4c6be7bf)\" d=\"M 249.21412 123.145705 \n",
       "L 249.21412 98.545032 \n",
       "\" style=\"fill:none;stroke:#1f77b4;stroke-width:1.5;\"/>\n",
       "    <path clip-path=\"url(#pcd4c6be7bf)\" d=\"M 279.836621 117.834318 \n",
       "L 279.836621 101.056593 \n",
       "\" style=\"fill:none;stroke:#1f77b4;stroke-width:1.5;\"/>\n",
       "    <path clip-path=\"url(#pcd4c6be7bf)\" d=\"M 272.718104 126.450495 \n",
       "L 272.718104 107.534127 \n",
       "\" style=\"fill:none;stroke:#1f77b4;stroke-width:1.5;\"/>\n",
       "    <path clip-path=\"url(#pcd4c6be7bf)\" d=\"M 297.712942 132.485981 \n",
       "L 297.712942 115.328958 \n",
       "\" style=\"fill:none;stroke:#1f77b4;stroke-width:1.5;\"/>\n",
       "    <path clip-path=\"url(#pcd4c6be7bf)\" d=\"M 227.502416 150.60778 \n",
       "L 227.502416 116.737585 \n",
       "\" style=\"fill:none;stroke:#1f77b4;stroke-width:1.5;\"/>\n",
       "    <path clip-path=\"url(#pcd4c6be7bf)\" d=\"M 229.381387 148.183772 \n",
       "L 229.381387 106.677613 \n",
       "\" style=\"fill:none;stroke:#1f77b4;stroke-width:1.5;\"/>\n",
       "    <path clip-path=\"url(#pcd4c6be7bf)\" d=\"M 171.136298 149.877278 \n",
       "L 171.136298 87.468528 \n",
       "\" style=\"fill:none;stroke:#1f77b4;stroke-width:1.5;\"/>\n",
       "    <path clip-path=\"url(#pcd4c6be7bf)\" d=\"M 195.866011 144.663632 \n",
       "L 195.866011 112.22061 \n",
       "\" style=\"fill:none;stroke:#1f77b4;stroke-width:1.5;\"/>\n",
       "    <path clip-path=\"url(#pcd4c6be7bf)\" d=\"M 189.482634 147.25035 \n",
       "L 189.482634 101.715133 \n",
       "\" style=\"fill:none;stroke:#1f77b4;stroke-width:1.5;\"/>\n",
       "    <path clip-path=\"url(#pcd4c6be7bf)\" d=\"M 184.517738 141.082266 \n",
       "L 184.517738 102.903488 \n",
       "\" style=\"fill:none;stroke:#1f77b4;stroke-width:1.5;\"/>\n",
       "    <path clip-path=\"url(#pcd4c6be7bf)\" d=\"M 186.841289 152.811833 \n",
       "L 186.841289 111.309281 \n",
       "\" style=\"fill:none;stroke:#1f77b4;stroke-width:1.5;\"/>\n",
       "    <path clip-path=\"url(#pcd4c6be7bf)\" d=\"M 176.542436 140.531749 \n",
       "L 176.542436 73.897769 \n",
       "\" style=\"fill:none;stroke:#1f77b4;stroke-width:1.5;\"/>\n",
       "    <path clip-path=\"url(#pcd4c6be7bf)\" d=\"M 179.621986 158.640542 \n",
       "L 179.621986 108.908715 \n",
       "\" style=\"fill:none;stroke:#1f77b4;stroke-width:1.5;\"/>\n",
       "    <path clip-path=\"url(#pcd4c6be7bf)\" d=\"M 173.979146 168.075148 \n",
       "L 173.979146 118.627382 \n",
       "\" style=\"fill:none;stroke:#1f77b4;stroke-width:1.5;\"/>\n",
       "    <path clip-path=\"url(#pcd4c6be7bf)\" d=\"M 184.009809 158.605708 \n",
       "L 184.009809 119.169182 \n",
       "\" style=\"fill:none;stroke:#1f77b4;stroke-width:1.5;\"/>\n",
       "    <path clip-path=\"url(#pcd4c6be7bf)\" d=\"M 196.32549 156.580906 \n",
       "L 196.32549 116.935872 \n",
       "\" style=\"fill:none;stroke:#1f77b4;stroke-width:1.5;\"/>\n",
       "    <path clip-path=\"url(#pcd4c6be7bf)\" d=\"M 187.46602 155.025435 \n",
       "L 187.46602 114.024529 \n",
       "\" style=\"fill:none;stroke:#1f77b4;stroke-width:1.5;\"/>\n",
       "    <path clip-path=\"url(#pcd4c6be7bf)\" d=\"M 189.638585 158.308237 \n",
       "L 189.638585 85.127239 \n",
       "\" style=\"fill:none;stroke:#1f77b4;stroke-width:1.5;\"/>\n",
       "    <path clip-path=\"url(#pcd4c6be7bf)\" d=\"M 170.933452 139.568908 \n",
       "L 170.933452 100.437113 \n",
       "\" style=\"fill:none;stroke:#1f77b4;stroke-width:1.5;\"/>\n",
       "    <path clip-path=\"url(#pcd4c6be7bf)\" d=\"M 143.959028 139.08505 \n",
       "L 143.959028 91.111775 \n",
       "\" style=\"fill:none;stroke:#1f77b4;stroke-width:1.5;\"/>\n",
       "    <path clip-path=\"url(#pcd4c6be7bf)\" d=\"M 182.644013 156.568603 \n",
       "L 182.644013 119.620394 \n",
       "\" style=\"fill:none;stroke:#1f77b4;stroke-width:1.5;\"/>\n",
       "    <path clip-path=\"url(#pcd4c6be7bf)\" d=\"M 174.37655 160.506402 \n",
       "L 174.37655 123.951286 \n",
       "\" style=\"fill:none;stroke:#1f77b4;stroke-width:1.5;\"/>\n",
       "    <path clip-path=\"url(#pcd4c6be7bf)\" d=\"M 155.569397 142.008652 \n",
       "L 155.569397 98.551929 \n",
       "\" style=\"fill:none;stroke:#1f77b4;stroke-width:1.5;\"/>\n",
       "    <path clip-path=\"url(#pcd4c6be7bf)\" d=\"M 151.634198 158.620566 \n",
       "L 151.634198 104.075662 \n",
       "\" style=\"fill:none;stroke:#1f77b4;stroke-width:1.5;\"/>\n",
       "    <path clip-path=\"url(#pcd4c6be7bf)\" d=\"M 177.868219 138.540818 \n",
       "L 177.868219 86.042358 \n",
       "\" style=\"fill:none;stroke:#1f77b4;stroke-width:1.5;\"/>\n",
       "    <path clip-path=\"url(#pcd4c6be7bf)\" d=\"M 173.175665 178.218799 \n",
       "L 173.175665 127.997139 \n",
       "\" style=\"fill:none;stroke:#1f77b4;stroke-width:1.5;\"/>\n",
       "    <path clip-path=\"url(#pcd4c6be7bf)\" d=\"M 157.183358 149.589033 \n",
       "L 157.183358 99.676383 \n",
       "\" style=\"fill:none;stroke:#1f77b4;stroke-width:1.5;\"/>\n",
       "    <path clip-path=\"url(#pcd4c6be7bf)\" d=\"M 159.56888 147.035299 \n",
       "L 159.56888 94.320243 \n",
       "\" style=\"fill:none;stroke:#1f77b4;stroke-width:1.5;\"/>\n",
       "    <path clip-path=\"url(#pcd4c6be7bf)\" d=\"M 168.451929 156.788876 \n",
       "L 168.451929 116.743544 \n",
       "\" style=\"fill:none;stroke:#1f77b4;stroke-width:1.5;\"/>\n",
       "    <path clip-path=\"url(#pcd4c6be7bf)\" d=\"M 194.411108 162.162402 \n",
       "L 194.411108 120.458218 \n",
       "\" style=\"fill:none;stroke:#1f77b4;stroke-width:1.5;\"/>\n",
       "    <path clip-path=\"url(#pcd4c6be7bf)\" d=\"M 177.974296 176.72202 \n",
       "L 177.974296 112.464292 \n",
       "\" style=\"fill:none;stroke:#1f77b4;stroke-width:1.5;\"/>\n",
       "    <path clip-path=\"url(#pcd4c6be7bf)\" d=\"M 175.989035 152.961641 \n",
       "L 175.989035 106.248266 \n",
       "\" style=\"fill:none;stroke:#1f77b4;stroke-width:1.5;\"/>\n",
       "    <path clip-path=\"url(#pcd4c6be7bf)\" d=\"M 172.23501 151.641318 \n",
       "L 172.23501 110.171137 \n",
       "\" style=\"fill:none;stroke:#1f77b4;stroke-width:1.5;\"/>\n",
       "    <path clip-path=\"url(#pcd4c6be7bf)\" d=\"M 120.796374 167.353319 \n",
       "L 120.796374 94.88496 \n",
       "\" style=\"fill:none;stroke:#1f77b4;stroke-width:1.5;\"/>\n",
       "    <path clip-path=\"url(#pcd4c6be7bf)\" d=\"M 243.829298 131.768908 \n",
       "L 243.829298 102.060904 \n",
       "\" style=\"fill:none;stroke:#1f77b4;stroke-width:1.5;\"/>\n",
       "    <path clip-path=\"url(#pcd4c6be7bf)\" d=\"M 252.52916 138.112044 \n",
       "L 252.52916 101.83917 \n",
       "\" style=\"fill:none;stroke:#1f77b4;stroke-width:1.5;\"/>\n",
       "    <path clip-path=\"url(#pcd4c6be7bf)\" d=\"M 219.339636 154.586701 \n",
       "L 219.339636 112.232183 \n",
       "\" style=\"fill:none;stroke:#1f77b4;stroke-width:1.5;\"/>\n",
       "    <path clip-path=\"url(#pcd4c6be7bf)\" d=\"M 238.645295 189.602087 \n",
       "L 238.645295 147.7377 \n",
       "\" style=\"fill:none;stroke:#1f77b4;stroke-width:1.5;\"/>\n",
       "    <path clip-path=\"url(#pcd4c6be7bf)\" d=\"M 231.241289 158.306782 \n",
       "L 231.241289 122.196959 \n",
       "\" style=\"fill:none;stroke:#1f77b4;stroke-width:1.5;\"/>\n",
       "    <path clip-path=\"url(#pcd4c6be7bf)\" d=\"M 242.425361 147.613267 \n",
       "L 242.425361 113.347835 \n",
       "\" style=\"fill:none;stroke:#1f77b4;stroke-width:1.5;\"/>\n",
       "    <path clip-path=\"url(#pcd4c6be7bf)\" d=\"M 196.813863 150.287671 \n",
       "L 196.813863 90.234019 \n",
       "\" style=\"fill:none;stroke:#1f77b4;stroke-width:1.5;\"/>\n",
       "    <path clip-path=\"url(#pcd4c6be7bf)\" d=\"M 166.432281 157.53289 \n",
       "L 166.432281 97.092488 \n",
       "\" style=\"fill:none;stroke:#1f77b4;stroke-width:1.5;\"/>\n",
       "    <path clip-path=\"url(#pcd4c6be7bf)\" d=\"M 157.37438 121.920482 \n",
       "L 157.37438 77.179741 \n",
       "\" style=\"fill:none;stroke:#1f77b4;stroke-width:1.5;\"/>\n",
       "    <path clip-path=\"url(#pcd4c6be7bf)\" d=\"M 166.222784 144.232988 \n",
       "L 166.222784 99.224002 \n",
       "\" style=\"fill:none;stroke:#1f77b4;stroke-width:1.5;\"/>\n",
       "    <path clip-path=\"url(#pcd4c6be7bf)\" d=\"M 198.226118 159.998673 \n",
       "L 198.226118 115.114115 \n",
       "\" style=\"fill:none;stroke:#1f77b4;stroke-width:1.5;\"/>\n",
       "    <path clip-path=\"url(#pcd4c6be7bf)\" d=\"M 188.080469 129.491616 \n",
       "L 188.080469 89.726464 \n",
       "\" style=\"fill:none;stroke:#1f77b4;stroke-width:1.5;\"/>\n",
       "    <path clip-path=\"url(#pcd4c6be7bf)\" d=\"M 195.201565 138.34544 \n",
       "L 195.201565 90.509371 \n",
       "\" style=\"fill:none;stroke:#1f77b4;stroke-width:1.5;\"/>\n",
       "    <path clip-path=\"url(#pcd4c6be7bf)\" d=\"M 266.426035 156.368417 \n",
       "L 266.426035 115.302831 \n",
       "\" style=\"fill:none;stroke:#1f77b4;stroke-width:1.5;\"/>\n",
       "    <path clip-path=\"url(#pcd4c6be7bf)\" d=\"M 229.179008 137.985648 \n",
       "L 229.179008 110.582301 \n",
       "\" style=\"fill:none;stroke:#1f77b4;stroke-width:1.5;\"/>\n",
       "    <path clip-path=\"url(#pcd4c6be7bf)\" d=\"M 223.202872 147.967233 \n",
       "L 223.202872 125.698617 \n",
       "\" style=\"fill:none;stroke:#1f77b4;stroke-width:1.5;\"/>\n",
       "    <path clip-path=\"url(#pcd4c6be7bf)\" d=\"M 194.990182 143.651942 \n",
       "L 194.990182 120.25099 \n",
       "\" style=\"fill:none;stroke:#1f77b4;stroke-width:1.5;\"/>\n",
       "    <path clip-path=\"url(#pcd4c6be7bf)\" d=\"M 259.761404 157.769337 \n",
       "L 259.761404 117.817899 \n",
       "\" style=\"fill:none;stroke:#1f77b4;stroke-width:1.5;\"/>\n",
       "    <path clip-path=\"url(#pcd4c6be7bf)\" d=\"M 216.540336 152.19208 \n",
       "L 216.540336 114.327069 \n",
       "\" style=\"fill:none;stroke:#1f77b4;stroke-width:1.5;\"/>\n",
       "    <path clip-path=\"url(#pcd4c6be7bf)\" d=\"M 212.01684 142.407629 \n",
       "L 212.01684 97.975714 \n",
       "\" style=\"fill:none;stroke:#1f77b4;stroke-width:1.5;\"/>\n",
       "    <path clip-path=\"url(#pcd4c6be7bf)\" d=\"M 178.184647 149.342644 \n",
       "L 178.184647 96.934837 \n",
       "\" style=\"fill:none;stroke:#1f77b4;stroke-width:1.5;\"/>\n",
       "    <path clip-path=\"url(#pcd4c6be7bf)\" d=\"M 151.928705 142.417976 \n",
       "L 151.928705 84.101808 \n",
       "\" style=\"fill:none;stroke:#1f77b4;stroke-width:1.5;\"/>\n",
       "    <path clip-path=\"url(#pcd4c6be7bf)\" d=\"M 193.887008 142.517646 \n",
       "L 193.887008 103.685701 \n",
       "\" style=\"fill:none;stroke:#1f77b4;stroke-width:1.5;\"/>\n",
       "    <path clip-path=\"url(#pcd4c6be7bf)\" d=\"M 204.588799 165.889775 \n",
       "L 204.588799 126.886652 \n",
       "\" style=\"fill:none;stroke:#1f77b4;stroke-width:1.5;\"/>\n",
       "    <path clip-path=\"url(#pcd4c6be7bf)\" d=\"M 202.958009 191.146649 \n",
       "L 202.958009 135.625111 \n",
       "\" style=\"fill:none;stroke:#1f77b4;stroke-width:1.5;\"/>\n",
       "    <path clip-path=\"url(#pcd4c6be7bf)\" d=\"M 177.284422 136.103519 \n",
       "L 177.284422 81.690863 \n",
       "\" style=\"fill:none;stroke:#1f77b4;stroke-width:1.5;\"/>\n",
       "    <path clip-path=\"url(#pcd4c6be7bf)\" d=\"M 225.225245 159.868484 \n",
       "L 225.225245 123.427889 \n",
       "\" style=\"fill:none;stroke:#1f77b4;stroke-width:1.5;\"/>\n",
       "    <path clip-path=\"url(#pcd4c6be7bf)\" d=\"M 209.551069 157.049382 \n",
       "L 209.551069 127.209178 \n",
       "\" style=\"fill:none;stroke:#1f77b4;stroke-width:1.5;\"/>\n",
       "   </g>\n",
       "   <g id=\"line2d_39\">\n",
       "    <defs>\n",
       "     <path d=\"M 0 1.5 \n",
       "C 0.397805 1.5 0.77937 1.341951 1.06066 1.06066 \n",
       "C 1.341951 0.77937 1.5 0.397805 1.5 0 \n",
       "C 1.5 -0.397805 1.341951 -0.77937 1.06066 -1.06066 \n",
       "C 0.77937 -1.341951 0.397805 -1.5 0 -1.5 \n",
       "C -0.397805 -1.5 -0.77937 -1.341951 -1.06066 -1.06066 \n",
       "C -1.341951 -0.77937 -1.5 -0.397805 -1.5 0 \n",
       "C -1.5 0.397805 -1.341951 0.77937 -1.06066 1.06066 \n",
       "C -0.77937 1.341951 -0.397805 1.5 0 1.5 \n",
       "z\n",
       "\" id=\"m9f7e0b6d3c\" style=\"stroke:#1f77b4;\"/>\n",
       "    </defs>\n",
       "    <g clip-path=\"url(#pcd4c6be7bf)\">\n",
       "     <use style=\"fill:#1f77b4;stroke:#1f77b4;\" x=\"209.938558\" xlink:href=\"#m9f7e0b6d3c\" y=\"133.826671\"/>\n",
       "     <use style=\"fill:#1f77b4;stroke:#1f77b4;\" x=\"194.277887\" xlink:href=\"#m9f7e0b6d3c\" y=\"128.563313\"/>\n",
       "     <use style=\"fill:#1f77b4;stroke:#1f77b4;\" x=\"159.012241\" xlink:href=\"#m9f7e0b6d3c\" y=\"114.992307\"/>\n",
       "     <use style=\"fill:#1f77b4;stroke:#1f77b4;\" x=\"163.872907\" xlink:href=\"#m9f7e0b6d3c\" y=\"133.336629\"/>\n",
       "     <use style=\"fill:#1f77b4;stroke:#1f77b4;\" x=\"202.976449\" xlink:href=\"#m9f7e0b6d3c\" y=\"142.279399\"/>\n",
       "     <use style=\"fill:#1f77b4;stroke:#1f77b4;\" x=\"153.479507\" xlink:href=\"#m9f7e0b6d3c\" y=\"119.421329\"/>\n",
       "     <use style=\"fill:#1f77b4;stroke:#1f77b4;\" x=\"138.895356\" xlink:href=\"#m9f7e0b6d3c\" y=\"130.513703\"/>\n",
       "     <use style=\"fill:#1f77b4;stroke:#1f77b4;\" x=\"130.39779\" xlink:href=\"#m9f7e0b6d3c\" y=\"132.901934\"/>\n",
       "     <use style=\"fill:#1f77b4;stroke:#1f77b4;\" x=\"129.085276\" xlink:href=\"#m9f7e0b6d3c\" y=\"146.071827\"/>\n",
       "     <use style=\"fill:#1f77b4;stroke:#1f77b4;\" x=\"131.585049\" xlink:href=\"#m9f7e0b6d3c\" y=\"143.248652\"/>\n",
       "     <use style=\"fill:#1f77b4;stroke:#1f77b4;\" x=\"91.515526\" xlink:href=\"#m9f7e0b6d3c\" y=\"110.105429\"/>\n",
       "     <use style=\"fill:#1f77b4;stroke:#1f77b4;\" x=\"120.853233\" xlink:href=\"#m9f7e0b6d3c\" y=\"135.543062\"/>\n",
       "     <use style=\"fill:#1f77b4;stroke:#1f77b4;\" x=\"109.500896\" xlink:href=\"#m9f7e0b6d3c\" y=\"117.557241\"/>\n",
       "     <use style=\"fill:#1f77b4;stroke:#1f77b4;\" x=\"120.59874\" xlink:href=\"#m9f7e0b6d3c\" y=\"136.513692\"/>\n",
       "     <use style=\"fill:#1f77b4;stroke:#1f77b4;\" x=\"94.964671\" xlink:href=\"#m9f7e0b6d3c\" y=\"126.588308\"/>\n",
       "     <use style=\"fill:#1f77b4;stroke:#1f77b4;\" x=\"130.853021\" xlink:href=\"#m9f7e0b6d3c\" y=\"129.976666\"/>\n",
       "     <use style=\"fill:#1f77b4;stroke:#1f77b4;\" x=\"117.586043\" xlink:href=\"#m9f7e0b6d3c\" y=\"129.227417\"/>\n",
       "     <use style=\"fill:#1f77b4;stroke:#1f77b4;\" x=\"126.018218\" xlink:href=\"#m9f7e0b6d3c\" y=\"123.574179\"/>\n",
       "     <use style=\"fill:#1f77b4;stroke:#1f77b4;\" x=\"139.750016\" xlink:href=\"#m9f7e0b6d3c\" y=\"145.823218\"/>\n",
       "     <use style=\"fill:#1f77b4;stroke:#1f77b4;\" x=\"115.95172\" xlink:href=\"#m9f7e0b6d3c\" y=\"130.720333\"/>\n",
       "     <use style=\"fill:#1f77b4;stroke:#1f77b4;\" x=\"91.685845\" xlink:href=\"#m9f7e0b6d3c\" y=\"131.044639\"/>\n",
       "     <use style=\"fill:#1f77b4;stroke:#1f77b4;\" x=\"72.43361\" xlink:href=\"#m9f7e0b6d3c\" y=\"73.876901\"/>\n",
       "     <use style=\"fill:#1f77b4;stroke:#1f77b4;\" x=\"93.910083\" xlink:href=\"#m9f7e0b6d3c\" y=\"141.966741\"/>\n",
       "     <use style=\"fill:#1f77b4;stroke:#1f77b4;\" x=\"73.894336\" xlink:href=\"#m9f7e0b6d3c\" y=\"104.914536\"/>\n",
       "     <use style=\"fill:#1f77b4;stroke:#1f77b4;\" x=\"106.499618\" xlink:href=\"#m9f7e0b6d3c\" y=\"155.392984\"/>\n",
       "     <use style=\"fill:#1f77b4;stroke:#1f77b4;\" x=\"110.629629\" xlink:href=\"#m9f7e0b6d3c\" y=\"126.406423\"/>\n",
       "     <use style=\"fill:#1f77b4;stroke:#1f77b4;\" x=\"101.053606\" xlink:href=\"#m9f7e0b6d3c\" y=\"118.510688\"/>\n",
       "     <use style=\"fill:#1f77b4;stroke:#1f77b4;\" x=\"148.984728\" xlink:href=\"#m9f7e0b6d3c\" y=\"132.482572\"/>\n",
       "     <use style=\"fill:#1f77b4;stroke:#1f77b4;\" x=\"90.850243\" xlink:href=\"#m9f7e0b6d3c\" y=\"61.45147\"/>\n",
       "     <use style=\"fill:#1f77b4;stroke:#1f77b4;\" x=\"128.799088\" xlink:href=\"#m9f7e0b6d3c\" y=\"151.552\"/>\n",
       "     <use style=\"fill:#1f77b4;stroke:#1f77b4;\" x=\"128.417099\" xlink:href=\"#m9f7e0b6d3c\" y=\"136.783942\"/>\n",
       "     <use style=\"fill:#1f77b4;stroke:#1f77b4;\" x=\"95.740284\" xlink:href=\"#m9f7e0b6d3c\" y=\"87.549968\"/>\n",
       "     <use style=\"fill:#1f77b4;stroke:#1f77b4;\" x=\"313.691513\" xlink:href=\"#m9f7e0b6d3c\" y=\"110.638199\"/>\n",
       "     <use style=\"fill:#1f77b4;stroke:#1f77b4;\" x=\"343.654363\" xlink:href=\"#m9f7e0b6d3c\" y=\"148.858936\"/>\n",
       "     <use style=\"fill:#1f77b4;stroke:#1f77b4;\" x=\"309.276892\" xlink:href=\"#m9f7e0b6d3c\" y=\"107.192296\"/>\n",
       "     <use style=\"fill:#1f77b4;stroke:#1f77b4;\" x=\"330.624397\" xlink:href=\"#m9f7e0b6d3c\" y=\"110.20347\"/>\n",
       "     <use style=\"fill:#1f77b4;stroke:#1f77b4;\" x=\"321.378638\" xlink:href=\"#m9f7e0b6d3c\" y=\"98.492486\"/>\n",
       "     <use style=\"fill:#1f77b4;stroke:#1f77b4;\" x=\"300.936516\" xlink:href=\"#m9f7e0b6d3c\" y=\"82.910311\"/>\n",
       "     <use style=\"fill:#1f77b4;stroke:#1f77b4;\" x=\"313.469237\" xlink:href=\"#m9f7e0b6d3c\" y=\"96.199296\"/>\n",
       "     <use style=\"fill:#1f77b4;stroke:#1f77b4;\" x=\"308.900369\" xlink:href=\"#m9f7e0b6d3c\" y=\"113.859374\"/>\n",
       "     <use style=\"fill:#1f77b4;stroke:#1f77b4;\" x=\"312.15194\" xlink:href=\"#m9f7e0b6d3c\" y=\"100.696897\"/>\n",
       "     <use style=\"fill:#1f77b4;stroke:#1f77b4;\" x=\"283.433419\" xlink:href=\"#m9f7e0b6d3c\" y=\"111.006376\"/>\n",
       "     <use style=\"fill:#1f77b4;stroke:#1f77b4;\" x=\"289.808488\" xlink:href=\"#m9f7e0b6d3c\" y=\"113.896962\"/>\n",
       "     <use style=\"fill:#1f77b4;stroke:#1f77b4;\" x=\"287.798151\" xlink:href=\"#m9f7e0b6d3c\" y=\"104.127798\"/>\n",
       "     <use style=\"fill:#1f77b4;stroke:#1f77b4;\" x=\"324.139426\" xlink:href=\"#m9f7e0b6d3c\" y=\"110.984762\"/>\n",
       "     <use style=\"fill:#1f77b4;stroke:#1f77b4;\" x=\"245.147242\" xlink:href=\"#m9f7e0b6d3c\" y=\"106.878578\"/>\n",
       "     <use style=\"fill:#1f77b4;stroke:#1f77b4;\" x=\"308.490201\" xlink:href=\"#m9f7e0b6d3c\" y=\"111.092487\"/>\n",
       "     <use style=\"fill:#1f77b4;stroke:#1f77b4;\" x=\"289.561389\" xlink:href=\"#m9f7e0b6d3c\" y=\"121.551553\"/>\n",
       "     <use style=\"fill:#1f77b4;stroke:#1f77b4;\" x=\"263.759903\" xlink:href=\"#m9f7e0b6d3c\" y=\"105.467963\"/>\n",
       "     <use style=\"fill:#1f77b4;stroke:#1f77b4;\" x=\"289.735968\" xlink:href=\"#m9f7e0b6d3c\" y=\"116.723608\"/>\n",
       "     <use style=\"fill:#1f77b4;stroke:#1f77b4;\" x=\"284.568182\" xlink:href=\"#m9f7e0b6d3c\" y=\"123.818862\"/>\n",
       "     <use style=\"fill:#1f77b4;stroke:#1f77b4;\" x=\"279.258253\" xlink:href=\"#m9f7e0b6d3c\" y=\"114.861462\"/>\n",
       "     <use style=\"fill:#1f77b4;stroke:#1f77b4;\" x=\"290.634869\" xlink:href=\"#m9f7e0b6d3c\" y=\"120.228244\"/>\n",
       "     <use style=\"fill:#1f77b4;stroke:#1f77b4;\" x=\"273.953127\" xlink:href=\"#m9f7e0b6d3c\" y=\"121.414664\"/>\n",
       "     <use style=\"fill:#1f77b4;stroke:#1f77b4;\" x=\"276.236412\" xlink:href=\"#m9f7e0b6d3c\" y=\"124.589798\"/>\n",
       "     <use style=\"fill:#1f77b4;stroke:#1f77b4;\" x=\"265.519797\" xlink:href=\"#m9f7e0b6d3c\" y=\"136.416795\"/>\n",
       "     <use style=\"fill:#1f77b4;stroke:#1f77b4;\" x=\"256.281752\" xlink:href=\"#m9f7e0b6d3c\" y=\"134.259092\"/>\n",
       "     <use style=\"fill:#1f77b4;stroke:#1f77b4;\" x=\"232.937888\" xlink:href=\"#m9f7e0b6d3c\" y=\"117.090615\"/>\n",
       "     <use style=\"fill:#1f77b4;stroke:#1f77b4;\" x=\"239.684125\" xlink:href=\"#m9f7e0b6d3c\" y=\"109.324457\"/>\n",
       "     <use style=\"fill:#1f77b4;stroke:#1f77b4;\" x=\"263.458\" xlink:href=\"#m9f7e0b6d3c\" y=\"112.633483\"/>\n",
       "     <use style=\"fill:#1f77b4;stroke:#1f77b4;\" x=\"243.787308\" xlink:href=\"#m9f7e0b6d3c\" y=\"125.432019\"/>\n",
       "     <use style=\"fill:#1f77b4;stroke:#1f77b4;\" x=\"271.372453\" xlink:href=\"#m9f7e0b6d3c\" y=\"110.218262\"/>\n",
       "     <use style=\"fill:#1f77b4;stroke:#1f77b4;\" x=\"266.154188\" xlink:href=\"#m9f7e0b6d3c\" y=\"121.336017\"/>\n",
       "     <use style=\"fill:#1f77b4;stroke:#1f77b4;\" x=\"273.383822\" xlink:href=\"#m9f7e0b6d3c\" y=\"137.533046\"/>\n",
       "     <use style=\"fill:#1f77b4;stroke:#1f77b4;\" x=\"228.670536\" xlink:href=\"#m9f7e0b6d3c\" y=\"110.883839\"/>\n",
       "     <use style=\"fill:#1f77b4;stroke:#1f77b4;\" x=\"232.746644\" xlink:href=\"#m9f7e0b6d3c\" y=\"114.382001\"/>\n",
       "     <use style=\"fill:#1f77b4;stroke:#1f77b4;\" x=\"221.339268\" xlink:href=\"#m9f7e0b6d3c\" y=\"116.474137\"/>\n",
       "     <use style=\"fill:#1f77b4;stroke:#1f77b4;\" x=\"222.357267\" xlink:href=\"#m9f7e0b6d3c\" y=\"117.901384\"/>\n",
       "     <use style=\"fill:#1f77b4;stroke:#1f77b4;\" x=\"229.737151\" xlink:href=\"#m9f7e0b6d3c\" y=\"126.193947\"/>\n",
       "     <use style=\"fill:#1f77b4;stroke:#1f77b4;\" x=\"245.301359\" xlink:href=\"#m9f7e0b6d3c\" y=\"120.208116\"/>\n",
       "     <use style=\"fill:#1f77b4;stroke:#1f77b4;\" x=\"249.791511\" xlink:href=\"#m9f7e0b6d3c\" y=\"126.141944\"/>\n",
       "     <use style=\"fill:#1f77b4;stroke:#1f77b4;\" x=\"261.648697\" xlink:href=\"#m9f7e0b6d3c\" y=\"130.475506\"/>\n",
       "     <use style=\"fill:#1f77b4;stroke:#1f77b4;\" x=\"232.930243\" xlink:href=\"#m9f7e0b6d3c\" y=\"132.271457\"/>\n",
       "     <use style=\"fill:#1f77b4;stroke:#1f77b4;\" x=\"234.327467\" xlink:href=\"#m9f7e0b6d3c\" y=\"134.640217\"/>\n",
       "     <use style=\"fill:#1f77b4;stroke:#1f77b4;\" x=\"262.715639\" xlink:href=\"#m9f7e0b6d3c\" y=\"133.28774\"/>\n",
       "     <use style=\"fill:#1f77b4;stroke:#1f77b4;\" x=\"234.768856\" xlink:href=\"#m9f7e0b6d3c\" y=\"145.021059\"/>\n",
       "     <use style=\"fill:#1f77b4;stroke:#1f77b4;\" x=\"217.635421\" xlink:href=\"#m9f7e0b6d3c\" y=\"143.264291\"/>\n",
       "     <use style=\"fill:#1f77b4;stroke:#1f77b4;\" x=\"215.793338\" xlink:href=\"#m9f7e0b6d3c\" y=\"136.972351\"/>\n",
       "     <use style=\"fill:#1f77b4;stroke:#1f77b4;\" x=\"205.731981\" xlink:href=\"#m9f7e0b6d3c\" y=\"115.527409\"/>\n",
       "     <use style=\"fill:#1f77b4;stroke:#1f77b4;\" x=\"219.970546\" xlink:href=\"#m9f7e0b6d3c\" y=\"128.875499\"/>\n",
       "     <use style=\"fill:#1f77b4;stroke:#1f77b4;\" x=\"200.884504\" xlink:href=\"#m9f7e0b6d3c\" y=\"108.26742\"/>\n",
       "     <use style=\"fill:#1f77b4;stroke:#1f77b4;\" x=\"260.010405\" xlink:href=\"#m9f7e0b6d3c\" y=\"129.718586\"/>\n",
       "     <use style=\"fill:#1f77b4;stroke:#1f77b4;\" x=\"185.740334\" xlink:href=\"#m9f7e0b6d3c\" y=\"133.483767\"/>\n",
       "     <use style=\"fill:#1f77b4;stroke:#1f77b4;\" x=\"207.114829\" xlink:href=\"#m9f7e0b6d3c\" y=\"122.107412\"/>\n",
       "     <use style=\"fill:#1f77b4;stroke:#1f77b4;\" x=\"221.574436\" xlink:href=\"#m9f7e0b6d3c\" y=\"142.219089\"/>\n",
       "     <use style=\"fill:#1f77b4;stroke:#1f77b4;\" x=\"225.013388\" xlink:href=\"#m9f7e0b6d3c\" y=\"117.077216\"/>\n",
       "     <use style=\"fill:#1f77b4;stroke:#1f77b4;\" x=\"236.194046\" xlink:href=\"#m9f7e0b6d3c\" y=\"131.526264\"/>\n",
       "     <use style=\"fill:#1f77b4;stroke:#1f77b4;\" x=\"265.194313\" xlink:href=\"#m9f7e0b6d3c\" y=\"136.262863\"/>\n",
       "     <use style=\"fill:#1f77b4;stroke:#1f77b4;\" x=\"263.192744\" xlink:href=\"#m9f7e0b6d3c\" y=\"118.98311\"/>\n",
       "     <use style=\"fill:#1f77b4;stroke:#1f77b4;\" x=\"249.21412\" xlink:href=\"#m9f7e0b6d3c\" y=\"110.981787\"/>\n",
       "     <use style=\"fill:#1f77b4;stroke:#1f77b4;\" x=\"279.836621\" xlink:href=\"#m9f7e0b6d3c\" y=\"109.545137\"/>\n",
       "     <use style=\"fill:#1f77b4;stroke:#1f77b4;\" x=\"272.718104\" xlink:href=\"#m9f7e0b6d3c\" y=\"117.113658\"/>\n",
       "     <use style=\"fill:#1f77b4;stroke:#1f77b4;\" x=\"297.712942\" xlink:href=\"#m9f7e0b6d3c\" y=\"124.003648\"/>\n",
       "     <use style=\"fill:#1f77b4;stroke:#1f77b4;\" x=\"227.502416\" xlink:href=\"#m9f7e0b6d3c\" y=\"133.916752\"/>\n",
       "     <use style=\"fill:#1f77b4;stroke:#1f77b4;\" x=\"229.381387\" xlink:href=\"#m9f7e0b6d3c\" y=\"127.905302\"/>\n",
       "     <use style=\"fill:#1f77b4;stroke:#1f77b4;\" x=\"171.136298\" xlink:href=\"#m9f7e0b6d3c\" y=\"118.769175\"/>\n",
       "     <use style=\"fill:#1f77b4;stroke:#1f77b4;\" x=\"195.866011\" xlink:href=\"#m9f7e0b6d3c\" y=\"128.534049\"/>\n",
       "     <use style=\"fill:#1f77b4;stroke:#1f77b4;\" x=\"189.482634\" xlink:href=\"#m9f7e0b6d3c\" y=\"124.810991\"/>\n",
       "     <use style=\"fill:#1f77b4;stroke:#1f77b4;\" x=\"184.517738\" xlink:href=\"#m9f7e0b6d3c\" y=\"122.136604\"/>\n",
       "     <use style=\"fill:#1f77b4;stroke:#1f77b4;\" x=\"186.841289\" xlink:href=\"#m9f7e0b6d3c\" y=\"132.22634\"/>\n",
       "     <use style=\"fill:#1f77b4;stroke:#1f77b4;\" x=\"176.542436\" xlink:href=\"#m9f7e0b6d3c\" y=\"107.762847\"/>\n",
       "     <use style=\"fill:#1f77b4;stroke:#1f77b4;\" x=\"179.621986\" xlink:href=\"#m9f7e0b6d3c\" y=\"134.036634\"/>\n",
       "     <use style=\"fill:#1f77b4;stroke:#1f77b4;\" x=\"173.979146\" xlink:href=\"#m9f7e0b6d3c\" y=\"143.392658\"/>\n",
       "     <use style=\"fill:#1f77b4;stroke:#1f77b4;\" x=\"184.009809\" xlink:href=\"#m9f7e0b6d3c\" y=\"139.033688\"/>\n",
       "     <use style=\"fill:#1f77b4;stroke:#1f77b4;\" x=\"196.32549\" xlink:href=\"#m9f7e0b6d3c\" y=\"137.264239\"/>\n",
       "     <use style=\"fill:#1f77b4;stroke:#1f77b4;\" x=\"187.46602\" xlink:href=\"#m9f7e0b6d3c\" y=\"134.89032\"/>\n",
       "     <use style=\"fill:#1f77b4;stroke:#1f77b4;\" x=\"189.638585\" xlink:href=\"#m9f7e0b6d3c\" y=\"122.226484\"/>\n",
       "     <use style=\"fill:#1f77b4;stroke:#1f77b4;\" x=\"170.933452\" xlink:href=\"#m9f7e0b6d3c\" y=\"120.142384\"/>\n",
       "     <use style=\"fill:#1f77b4;stroke:#1f77b4;\" x=\"143.959028\" xlink:href=\"#m9f7e0b6d3c\" y=\"115.308036\"/>\n",
       "     <use style=\"fill:#1f77b4;stroke:#1f77b4;\" x=\"182.644013\" xlink:href=\"#m9f7e0b6d3c\" y=\"138.209568\"/>\n",
       "     <use style=\"fill:#1f77b4;stroke:#1f77b4;\" x=\"174.37655\" xlink:href=\"#m9f7e0b6d3c\" y=\"142.370311\"/>\n",
       "     <use style=\"fill:#1f77b4;stroke:#1f77b4;\" x=\"155.569397\" xlink:href=\"#m9f7e0b6d3c\" y=\"120.502285\"/>\n",
       "     <use style=\"fill:#1f77b4;stroke:#1f77b4;\" x=\"151.634198\" xlink:href=\"#m9f7e0b6d3c\" y=\"131.461429\"/>\n",
       "     <use style=\"fill:#1f77b4;stroke:#1f77b4;\" x=\"177.868219\" xlink:href=\"#m9f7e0b6d3c\" y=\"113.301475\"/>\n",
       "     <use style=\"fill:#1f77b4;stroke:#1f77b4;\" x=\"173.175665\" xlink:href=\"#m9f7e0b6d3c\" y=\"153.25466\"/>\n",
       "     <use style=\"fill:#1f77b4;stroke:#1f77b4;\" x=\"157.183358\" xlink:href=\"#m9f7e0b6d3c\" y=\"124.906158\"/>\n",
       "     <use style=\"fill:#1f77b4;stroke:#1f77b4;\" x=\"159.56888\" xlink:href=\"#m9f7e0b6d3c\" y=\"120.979467\"/>\n",
       "     <use style=\"fill:#1f77b4;stroke:#1f77b4;\" x=\"168.451929\" xlink:href=\"#m9f7e0b6d3c\" y=\"136.931794\"/>\n",
       "     <use style=\"fill:#1f77b4;stroke:#1f77b4;\" x=\"194.411108\" xlink:href=\"#m9f7e0b6d3c\" y=\"141.471345\"/>\n",
       "     <use style=\"fill:#1f77b4;stroke:#1f77b4;\" x=\"177.974296\" xlink:href=\"#m9f7e0b6d3c\" y=\"144.912791\"/>\n",
       "     <use style=\"fill:#1f77b4;stroke:#1f77b4;\" x=\"175.989035\" xlink:href=\"#m9f7e0b6d3c\" y=\"129.867726\"/>\n",
       "     <use style=\"fill:#1f77b4;stroke:#1f77b4;\" x=\"172.23501\" xlink:href=\"#m9f7e0b6d3c\" y=\"131.06787\"/>\n",
       "     <use style=\"fill:#1f77b4;stroke:#1f77b4;\" x=\"120.796374\" xlink:href=\"#m9f7e0b6d3c\" y=\"131.31794\"/>\n",
       "     <use style=\"fill:#1f77b4;stroke:#1f77b4;\" x=\"243.829298\" xlink:href=\"#m9f7e0b6d3c\" y=\"117.334654\"/>\n",
       "     <use style=\"fill:#1f77b4;stroke:#1f77b4;\" x=\"252.52916\" xlink:href=\"#m9f7e0b6d3c\" y=\"120.206128\"/>\n",
       "     <use style=\"fill:#1f77b4;stroke:#1f77b4;\" x=\"219.339636\" xlink:href=\"#m9f7e0b6d3c\" y=\"134.007778\"/>\n",
       "     <use style=\"fill:#1f77b4;stroke:#1f77b4;\" x=\"238.645295\" xlink:href=\"#m9f7e0b6d3c\" y=\"169.074669\"/>\n",
       "     <use style=\"fill:#1f77b4;stroke:#1f77b4;\" x=\"231.241289\" xlink:href=\"#m9f7e0b6d3c\" y=\"140.785136\"/>\n",
       "     <use style=\"fill:#1f77b4;stroke:#1f77b4;\" x=\"242.425361\" xlink:href=\"#m9f7e0b6d3c\" y=\"130.772823\"/>\n",
       "     <use style=\"fill:#1f77b4;stroke:#1f77b4;\" x=\"196.813863\" xlink:href=\"#m9f7e0b6d3c\" y=\"121.125078\"/>\n",
       "     <use style=\"fill:#1f77b4;stroke:#1f77b4;\" x=\"166.432281\" xlink:href=\"#m9f7e0b6d3c\" y=\"128.236754\"/>\n",
       "     <use style=\"fill:#1f77b4;stroke:#1f77b4;\" x=\"157.37438\" xlink:href=\"#m9f7e0b6d3c\" y=\"99.762089\"/>\n",
       "     <use style=\"fill:#1f77b4;stroke:#1f77b4;\" x=\"166.222784\" xlink:href=\"#m9f7e0b6d3c\" y=\"122.155199\"/>\n",
       "     <use style=\"fill:#1f77b4;stroke:#1f77b4;\" x=\"198.226118\" xlink:href=\"#m9f7e0b6d3c\" y=\"137.737789\"/>\n",
       "     <use style=\"fill:#1f77b4;stroke:#1f77b4;\" x=\"188.080469\" xlink:href=\"#m9f7e0b6d3c\" y=\"110.0592\"/>\n",
       "     <use style=\"fill:#1f77b4;stroke:#1f77b4;\" x=\"195.201565\" xlink:href=\"#m9f7e0b6d3c\" y=\"114.516251\"/>\n",
       "     <use style=\"fill:#1f77b4;stroke:#1f77b4;\" x=\"266.426035\" xlink:href=\"#m9f7e0b6d3c\" y=\"135.948574\"/>\n",
       "     <use style=\"fill:#1f77b4;stroke:#1f77b4;\" x=\"229.179008\" xlink:href=\"#m9f7e0b6d3c\" y=\"124.555548\"/>\n",
       "     <use style=\"fill:#1f77b4;stroke:#1f77b4;\" x=\"223.202872\" xlink:href=\"#m9f7e0b6d3c\" y=\"137.015286\"/>\n",
       "     <use style=\"fill:#1f77b4;stroke:#1f77b4;\" x=\"194.990182\" xlink:href=\"#m9f7e0b6d3c\" y=\"132.125674\"/>\n",
       "     <use style=\"fill:#1f77b4;stroke:#1f77b4;\" x=\"259.761404\" xlink:href=\"#m9f7e0b6d3c\" y=\"137.941611\"/>\n",
       "     <use style=\"fill:#1f77b4;stroke:#1f77b4;\" x=\"216.540336\" xlink:href=\"#m9f7e0b6d3c\" y=\"133.710993\"/>\n",
       "     <use style=\"fill:#1f77b4;stroke:#1f77b4;\" x=\"212.01684\" xlink:href=\"#m9f7e0b6d3c\" y=\"120.416453\"/>\n",
       "     <use style=\"fill:#1f77b4;stroke:#1f77b4;\" x=\"178.184647\" xlink:href=\"#m9f7e0b6d3c\" y=\"123.424009\"/>\n",
       "     <use style=\"fill:#1f77b4;stroke:#1f77b4;\" x=\"151.928705\" xlink:href=\"#m9f7e0b6d3c\" y=\"113.268691\"/>\n",
       "     <use style=\"fill:#1f77b4;stroke:#1f77b4;\" x=\"193.887008\" xlink:href=\"#m9f7e0b6d3c\" y=\"123.577256\"/>\n",
       "     <use style=\"fill:#1f77b4;stroke:#1f77b4;\" x=\"204.588799\" xlink:href=\"#m9f7e0b6d3c\" y=\"146.768731\"/>\n",
       "     <use style=\"fill:#1f77b4;stroke:#1f77b4;\" x=\"202.958009\" xlink:href=\"#m9f7e0b6d3c\" y=\"163.514329\"/>\n",
       "     <use style=\"fill:#1f77b4;stroke:#1f77b4;\" x=\"177.284422\" xlink:href=\"#m9f7e0b6d3c\" y=\"109.330155\"/>\n",
       "     <use style=\"fill:#1f77b4;stroke:#1f77b4;\" x=\"225.225245\" xlink:href=\"#m9f7e0b6d3c\" y=\"142.03603\"/>\n",
       "     <use style=\"fill:#1f77b4;stroke:#1f77b4;\" x=\"209.551069\" xlink:href=\"#m9f7e0b6d3c\" y=\"142.348119\"/>\n",
       "    </g>\n",
       "   </g>\n",
       "   <g id=\"patch_3\">\n",
       "    <path d=\"M 43.30625 227.253681 \n",
       "L 43.30625 9.813681 \n",
       "\" style=\"fill:none;stroke:#cccccc;stroke-linecap:square;stroke-linejoin:miter;\"/>\n",
       "   </g>\n",
       "   <g id=\"patch_4\">\n",
       "    <path d=\"M 378.10625 227.253681 \n",
       "L 378.10625 9.813681 \n",
       "\" style=\"fill:none;stroke:#cccccc;stroke-linecap:square;stroke-linejoin:miter;\"/>\n",
       "   </g>\n",
       "   <g id=\"patch_5\">\n",
       "    <path d=\"M 43.30625 227.253681 \n",
       "L 378.10625 227.253681 \n",
       "\" style=\"fill:none;stroke:#cccccc;stroke-linecap:square;stroke-linejoin:miter;\"/>\n",
       "   </g>\n",
       "   <g id=\"patch_6\">\n",
       "    <path d=\"M 43.30625 9.813681 \n",
       "L 378.10625 9.813681 \n",
       "\" style=\"fill:none;stroke:#cccccc;stroke-linecap:square;stroke-linejoin:miter;\"/>\n",
       "   </g>\n",
       "  </g>\n",
       " </g>\n",
       " <defs>\n",
       "  <clipPath id=\"pcd4c6be7bf\">\n",
       "   <rect height=\"217.44\" width=\"334.8\" x=\"43.30625\" y=\"9.813681\"/>\n",
       "  </clipPath>\n",
       " </defs>\n",
       "</svg>\n"
      ],
      "text/plain": [
       "<Figure size 432x288 with 1 Axes>"
      ]
     },
     "metadata": {},
     "output_type": "display_data"
    }
   ],
   "source": [
    "lower_error_f = data_xrt_goodfit_NGC1566['xflux_lo']#1-10keV\n",
    "upper_error_f = data_xrt_goodfit_NGC1566['xflux_up']\n",
    "lower_error_g = data_xrt_goodfit_NGC1566['gamma_lo']\n",
    "upper_error_g = data_xrt_goodfit_NGC1566['gamma_up']\n",
    "asymmetric_error_f = [lower_error_f, upper_error_f]\n",
    "asymmetric_error_g = [lower_error_g, upper_error_g]\n",
    "plt.xlabel(r'$F_{1-10keV}$')\n",
    "plt.ylabel(r'$\\Gamma$')\n",
    "plt.semilogx()\n",
    "plt.errorbar(data_xrt_goodfit_NGC1566['xflux'],data_xrt_goodfit_NGC1566['gamma'],xerr=asymmetric_error_f,yerr=asymmetric_error_g,fmt='.',label='F-gamma') \n",
    "plt.savefig('/Users/brettlv/Downloads/NGC1566/NGC1566_goodfit_F-Gamma.png',dpi=400)"
   ]
  },
  {
   "cell_type": "code",
   "execution_count": 6,
   "metadata": {
    "ExecuteTime": {
     "end_time": "2020-06-29T15:17:29.866384Z",
     "start_time": "2020-06-29T15:17:29.853909Z"
    },
    "collapsed": false
   },
   "outputs": [
    {
     "data": {
      "text/plain": [
       "Index(['obs_id', 'obs_time', 'gamma', 'gamma_lo', 'gamma_up', 'xflux',\n",
       "       'xflux_lo', 'xflux_up', 'chi'],\n",
       "      dtype='object')"
      ]
     },
     "execution_count": 6,
     "metadata": {},
     "output_type": "execute_result"
    }
   ],
   "source": [
    "data_xrt_goodfit_NGC1566.columns"
   ]
  },
  {
   "cell_type": "code",
   "execution_count": 16,
   "metadata": {
    "ExecuteTime": {
     "end_time": "2020-06-29T15:25:20.020681Z",
     "start_time": "2020-06-29T15:25:20.008216Z"
    },
    "collapsed": false
   },
   "outputs": [],
   "source": [
    "import plotly_express as px\n",
    "px.scatter?"
   ]
  },
  {
   "cell_type": "code",
   "execution_count": 14,
   "metadata": {
    "ExecuteTime": {
     "end_time": "2020-06-29T15:24:47.790918Z",
     "start_time": "2020-06-29T15:24:47.237422Z"
    },
    "collapsed": false
   },
   "outputs": [
    {
     "data": {
      "application/vnd.plotly.v1+json": {
       "config": {
        "plotlyServerURL": "https://plot.ly"
       },
       "data": [
        {
         "customdata": [
          [
           54467.5166782407,
           1.1542943435035204,
           35880003
          ],
          [
           55370.1013888889,
           1.1922569657102675,
           31742001
          ],
          [
           55375.24375,
           1.1546262401911644,
           31742003
          ],
          [
           55381.792361111104,
           1.4322826598414335,
           31742004
          ],
          [
           55798.51875,
           1.2822747666921384,
           45604001
          ],
          [
           55868.2625,
           1.0940244433478372,
           45604002
          ],
          [
           56199.1249884259,
           0.8827632896937785,
           45604005
          ],
          [
           56199.999293981506,
           1.2929556361971413,
           45604006
          ],
          [
           56209.5541550926,
           1.071357255818303,
           45604007
          ],
          [
           56210.0152546296,
           0.9245470338186442,
           45604008
          ],
          [
           56911.8472685185,
           0.8152446908379123,
           33411001
          ],
          [
           56912.2706481482,
           1.4485096422173964,
           33411002
          ],
          [
           56912.581388888895,
           1.1181894850333989,
           33411003
          ],
          [
           56913.3312384259,
           1.177985925538109,
           33411004
          ],
          [
           56913.782337963,
           0.8185732673788979,
           33411005
          ],
          [
           56914.7877662037,
           1.0680627712009791,
           33411007
          ],
          [
           56915.054293981506,
           0.9247136213127805,
           33411008
          ],
          [
           56915.186099537,
           0.7514578115097064,
           33411009
          ],
          [
           56917.586099537,
           1.1425331830319985,
           33411012
          ],
          [
           56919.9159606481,
           1.326260727390765,
           33411013
          ],
          [
           56923.0465162037,
           0.905612262537156,
           33411015
          ],
          [
           56930.51387731481,
           1.1522544871043774,
           33411016
          ],
          [
           56932.036793981504,
           0.9961015451506368,
           33411017
          ],
          [
           56936.9680324074,
           0.9190737162183196,
           33411019
          ],
          [
           56938.572905092595,
           1.0460633355449662,
           33411020
          ],
          [
           56945.036805555595,
           0.919463765927944,
           33411023
          ],
          [
           56945.3590162037,
           0.9520082805066692,
           33411022
          ],
          [
           56949.0374768519,
           0.9508127253780329,
           33411025
          ],
          [
           56950.7687384259,
           0.7667809017541637,
           33411024
          ],
          [
           56955.479155092595,
           1.0465543448050056,
           33411027
          ],
          [
           56955.5506828704,
           1.0781699907806244,
           33411026
          ],
          [
           57233.016643518495,
           1.0541871303106751,
           33411029
          ],
          [
           58293.716087962996,
           1.0593894351434765,
           35880004
          ],
          [
           58309.0562152778,
           1.2488806190258754,
           35880005
          ],
          [
           58309.0596875,
           1.1485418536239371,
           35880006
          ],
          [
           58316.2263541667,
           0.9138422923583964,
           35880007
          ],
          [
           58316.2312152778,
           1.0988628964240474,
           35880008
          ],
          [
           58323.9312152778,
           1.3241288986568902,
           35880009
          ],
          [
           58330.8520486111,
           1.3793369996048048,
           35880013
          ],
          [
           58338.35273148151,
           0.9263693789464686,
           35880014
          ],
          [
           58339.7409375,
           1.1212649719455556,
           35880015
          ],
          [
           58340.13954861111,
           1.0209134742994024,
           35880016
          ],
          [
           58341.136076388895,
           1.0813009174625614,
           35880017
          ],
          [
           58343.854131944405,
           0.9174014775437708,
           35880019
          ],
          [
           58346.3735763889,
           0.9998441454542832,
           35880021
          ],
          [
           58349.0964814815,
           1.0848389948904755,
           35880022
          ],
          [
           58350.291631944405,
           1.101998288120792,
           35880023
          ],
          [
           58351.097881944406,
           0.8374761229725503,
           35880025
          ],
          [
           58353.2180208333,
           1.2645685594139064,
           35880026
          ],
          [
           58354.8138541667,
           1.1947042393744138,
           35880027
          ],
          [
           58355.6756597222,
           0.9516379610453592,
           35880028
          ],
          [
           58356.6728819444,
           0.8644302802388902,
           35880029
          ],
          [
           58357.4707986111,
           0.8049550377275331,
           35880030
          ],
          [
           58358.666631944405,
           1.0996727262571724,
           35880031
          ],
          [
           58359.8659375,
           0.9468217910290858,
           35880032
          ],
          [
           58360.3312152778,
           1.3688675673433484,
           35880033
          ],
          [
           58361.6610763889,
           1.1828957209407318,
           35880034
          ],
          [
           58362.056909722196,
           1.4005773973849185,
           35880035
          ],
          [
           58363.1201041667,
           1.4095723256162282,
           35880036
          ],
          [
           58364.7138541667,
           1.1868439264492625,
           35880037
          ],
          [
           58365.306909722196,
           1.0165590217996792,
           35880038
          ],
          [
           58365.7742708333,
           0.9588408880501846,
           35880039
          ],
          [
           58366.0388657407,
           0.978783384382915,
           35880040
          ],
          [
           58367.7805208333,
           1.0510097755741548,
           35880041
          ],
          [
           58374.9451041667,
           1.0017221814626491,
           35880042
          ],
          [
           58379.9826041667,
           1.3337861385229446,
           35880044
          ],
          [
           58380.9826041667,
           1.1226466394468797,
           35880045
          ],
          [
           58382.90413194441,
           1.12295783604969,
           35880046
          ],
          [
           58384.693715277805,
           0.8082262833127336,
           35880047
          ],
          [
           58386.831412037005,
           0.7555462534092744,
           35880048
          ],
          [
           58390.6694097222,
           1.2527435870684631,
           35880050
          ],
          [
           58392.92981481481,
           1.075945241412864,
           35880051
          ],
          [
           58395.6451041667,
           0.7940773450074518,
           35880053
          ],
          [
           58399.4492708333,
           0.7680829772212384,
           35880054
          ],
          [
           58404.0200925926,
           1.0251616440402147,
           35880057
          ],
          [
           58406.9451041667,
           0.8564908247931093,
           35880058
          ],
          [
           58408.8812268519,
           0.7993199858728874,
           35880059
          ],
          [
           58410.004131944406,
           1.0985519408732325,
           35880060
          ],
          [
           58413.323576388895,
           0.9464653377842276,
           35880061
          ],
          [
           58419.5673263889,
           1.3114945467507475,
           35880063
          ],
          [
           58422.8159375,
           0.8739003291508525,
           35880064
          ],
          [
           58431.715243055594,
           1.015864595892523,
           35880066
          ],
          [
           58434.5753935185,
           0.9929401774007496,
           35880067
          ],
          [
           58437.219143518494,
           1.2460784649979468,
           35880068
          ],
          [
           58440.3392824074,
           0.7873019499624703,
           35880069
          ],
          [
           58443.467777777805,
           1.3905545234450505,
           35880070
          ],
          [
           58446.7865162037,
           1.3816971805295104,
           35880071
          ],
          [
           58452.9733333333,
           0.9159014308437834,
           35880073
          ],
          [
           58455.4175115741,
           1.1676273771882342,
           35880074
          ],
          [
           58458.947615740704,
           1.2527611027301573,
           35880075
          ],
          [
           58464.8552777778,
           0.8374661136746613,
           35880076
          ],
          [
           58467.513587962996,
           0.9527541734632272,
           35880077
          ],
          [
           58470.233043981505,
           1.0829517080709812,
           35880078
          ],
          [
           58476.27262731481,
           0.8178786134003346,
           35880080
          ],
          [
           58483.1788888889,
           1.232232629744727,
           35880082
          ],
          [
           58497.4559722222,
           0.8272586096610772,
           35880086
          ],
          [
           58500.6427662037,
           0.993607261045342,
           35880087
          ],
          [
           58503.3629166667,
           0.8102850515227473,
           35880088
          ],
          [
           58506.3649768519,
           0.9149856192936464,
           35880089
          ],
          [
           58512.469837963,
           1.031128526195297,
           35880091
          ],
          [
           58516.0580439815,
           0.7093114102153742,
           35880092
          ],
          [
           58519.0434606482,
           0.867112780472374,
           35880094
          ],
          [
           58521.8976157407,
           0.9287277903876352,
           35880095
          ],
          [
           58524.222615740706,
           1.0981053625799864,
           35880096
          ],
          [
           58528.7462268519,
           1.2587067057223549,
           35880097
          ],
          [
           58530.1295833333,
           0.8935953374209478,
           35880098
          ],
          [
           58534.4655902778,
           1.218897816207292,
           35880099
          ],
          [
           58543.937222222194,
           0.8552061940930549,
           35880101
          ],
          [
           58546.3344444444,
           0.9386775256231936,
           35880102
          ],
          [
           58549.3149884259,
           1.0644166394719659,
           35880103
          ],
          [
           58552.3712384259,
           1.2318997013112227,
           35880104
          ],
          [
           58555.493472222195,
           1.0086442978675776,
           35880105
          ],
          [
           58558.0261111111,
           0.8975186437563663,
           35880106
          ],
          [
           58561.2149884259,
           0.7002331645450679,
           35880107
          ],
          [
           58572.8996990741,
           1.4049718311678006,
           35880108
          ],
          [
           58575.155960648095,
           1.0091749678525406,
           35880109
          ],
          [
           58582.9879166667,
           1.0674977342992422,
           35880110
          ],
          [
           58589.030277777805,
           0.9562151630119629,
           35880111
          ],
          [
           58596.942071759295,
           0.9884836827658356,
           35880112
          ],
          [
           58603.5122337963,
           1.391332052578962,
           35880113
          ],
          [
           58610.2830324074,
           0.9729241205440372,
           35880114
          ],
          [
           58617.063587963,
           0.9481654170622684,
           35880115
          ],
          [
           58624.230266203704,
           1.1017107301403208,
           35880116
          ],
          [
           58634.7811342593,
           1.1819048630156814,
           35880120
          ],
          [
           58635.7103587963,
           1.2764775647128912,
           35880121
          ],
          [
           58637.4531828704,
           1.4897205339045387,
           35880123
          ],
          [
           58641.294837962996,
           0.9476537500266788,
           35880128
          ],
          [
           58644.8233449074,
           1.0235001982955192,
           35880131
          ],
          [
           58645.75085648151,
           0.9365914339409638,
           35880132
          ],
          [
           58647.213587963,
           0.7646776359756025,
           35880133
          ],
          [
           58648.9906828704,
           0.965128861502108,
           35880134
          ],
          [
           58653.0365162037,
           0.9470806906513906,
           35880137
          ],
          [
           58654.4469328704,
           0.8736947945206001,
           35880138
          ],
          [
           58660.6809490741,
           1.239363469847964,
           35880139
          ],
          [
           58667.9281712963,
           1.2563445470592138,
           35880140
          ],
          [
           58674.7621990741,
           0.9609759031943932,
           35880141
          ],
          [
           58681.2740162037,
           1.3674185766670413,
           35880142
          ],
          [
           58695.218472222194,
           0.8364742435575331,
           35880144
          ],
          [
           58713.28375,
           1.0831226973380197,
           88910002
          ],
          [
           58716.5948611111,
           1.140076775781666,
           88910003
          ],
          [
           58731.9441550926,
           1.3018532181312945,
           45604011
          ],
          [
           58745.74137731481,
           0.8326615671867352,
           45604013
          ],
          [
           58752.9816550926,
           1.0746521499623365,
           45604014
          ],
          [
           58759.880243055595,
           1.0249783563054642,
           45604015
          ],
          [
           58766.13096064809,
           1.1707859994521546,
           45604016
          ],
          [
           58773.9677546296,
           1.3822860147108875,
           45604017
          ],
          [
           58796.6726388889,
           1.3236357426834038,
           45604020
          ],
          [
           58801.065694444405,
           0.7416642575125518,
           45604021
          ],
          [
           58815.0017824074,
           0.91903396668307,
           45604023
          ],
          [
           58822.2483101852,
           0.9864433366916902,
           45604024
          ],
          [
           58829.013599537,
           0.892283022427865,
           45604025
          ]
         ],
         "error_x": {
          "array": [
           6.909931384188263e-13,
           8.69316220327699e-13,
           5.320067738938312e-13,
           6.825225695689858e-13,
           2.082833013456383e-12,
           7.455186080000816e-13,
           4.579918106475553e-13,
           3.543786186302989e-13,
           4.1037752026856315e-13,
           7.07953367718491e-13,
           3.907078009153489e-13,
           4.870542648098623e-13,
           2.0736991780320486e-13,
           5.064558997495358e-13,
           3.894074640584768e-13,
           5.492749832816957e-13,
           4.677882401097084e-13,
           4.989560388932349e-13,
           1.2019081365024909e-12,
           7.636874193430779e-13,
           4.980044990852108e-13,
           3.4828422049483594e-13,
           5.350493066354121e-13,
           4.1127576333290834e-13,
           8.2000954475146e-13,
           6.47692863336426e-13,
           8.773364138062756e-13,
           5.893303363032713e-13,
           5.088146942151205e-13,
           5.766652971934662e-13,
           8.948574103741598e-13,
           3.1614735464093894e-13,
           4.982355804958472e-12,
           3.5885589807111904e-11,
           4.460010626714576e-12,
           5.693572529223863e-12,
           2.6520656253226755e-12,
           4.358986301750112e-12,
           2.638138940239388e-12,
           2.4874382841657407e-12,
           2.304213444085499e-12,
           2.0205579829054488e-12,
           2.1493677758398287e-12,
           1.9929024552700496e-12,
           3.925633942447209e-12,
           2.551350859379323e-12,
           2.4783363748578037e-12,
           2.6473102596511053e-12,
           1.6977224889638776e-12,
           2.1823106745659784e-12,
           2.1990363712357787e-12,
           1.932203174833041e-12,
           2.228384357565143e-12,
           1.807074336061164e-12,
           2.00722317819448e-12,
           2.137170560596108e-12,
           2.2392741721608144e-12,
           1.4550880517074596e-12,
           1.474580327308628e-12,
           1.7686143487305112e-12,
           1.3916651193149996e-12,
           1.8309945503809577e-12,
           1.846806227944704e-12,
           2.018226407519208e-12,
           1.4187797121455704e-12,
           1.2002204770622957e-12,
           1.3255421968214122e-12,
           1.3141814776589242e-12,
           1.4727640282889034e-12,
           3.173547698636144e-12,
           2.5760330391820916e-12,
           3.2632865488857e-12,
           1.0245321901656714e-12,
           1.5428331711397258e-12,
           3.890804878813011e-12,
           1.507408620116215e-12,
           1.3323714844228796e-12,
           1.6602889578802989e-12,
           1.1702996697189754e-12,
           1.2777530775223132e-12,
           1.2607960425586089e-12,
           3.5514235285322384e-12,
           1.3664898290829486e-12,
           1.4001757666689943e-12,
           1.6013191426129478e-12,
           1.5917192095817031e-12,
           1.6099253443810155e-12,
           2.0777765034559352e-12,
           1.8998545578236067e-12,
           1.5308437434434895e-12,
           1.8756668099094533e-12,
           1.96631346369056e-12,
           2.3999578632722218e-12,
           1.5551110593058423e-12,
           1.906086294959325e-12,
           1.3458862002137475e-12,
           1.1320190186758198e-12,
           1.1110891977455483e-12,
           1.1052625994288176e-12,
           1.2757878568467122e-12,
           1.6721296279385202e-12,
           1.3036623560736355e-12,
           1.237358946607767e-12,
           1.1784993707219106e-12,
           1.1518202305048213e-12,
           1.0324611820951192e-12,
           2.323849342511759e-12,
           9.311763577784486e-13,
           7.462618412976952e-13,
           1.0602767925574509e-12,
           9.37815582723914e-13,
           8.131086290529316e-13,
           9.15269119114578e-13,
           1.024114726527833e-12,
           1.2617391169419606e-12,
           9.509779182637863e-13,
           1.0368959069451645e-12,
           9.425511509312831e-13,
           1.455651351100838e-12,
           1.7721087116478532e-12,
           1.2205992116749387e-12,
           9.850733598867526e-13,
           7.977193158736106e-13,
           2.0004747797672388e-12,
           2.17629764605134e-12,
           1.6706005471382058e-12,
           2.341505018104565e-12,
           1.9660165472193905e-12,
           1.8832218488674488e-12,
           2.134704875264254e-12,
           9.648896748365308e-13,
           7.983971128798866e-13,
           9.923128135157898e-13,
           1.645790966462536e-12,
           1.0322783475021296e-12,
           1.5421260321415777e-12,
           3.012568616853334e-12,
           1.460913343847453e-12,
           1.2066225832256755e-12,
           8.021285124255379e-13,
           3.8172440834512194e-12,
           1.67066616136269e-12,
           1.9816470609611497e-12,
           1.378687350139523e-12,
           9.767240255079442e-13,
           1.1041914466381241e-12,
           1.161392368761096e-12,
           2.241467314710593e-12,
           1.3449616627067044e-12,
           1.63769781435874e-12,
           1.2506821122630155e-12
          ],
          "arrayminus": [
           6.906158076272851e-13,
           8.682205238104502e-13,
           5.312758033764188e-13,
           6.390710123160244e-13,
           1.868498713950714e-12,
           6.857897552506741e-13,
           4.580375369459054e-13,
           3.347212249474275e-13,
           3.836858515440772e-13,
           6.347236723071203e-13,
           3.495318144509893e-13,
           4.4556014258075375e-13,
           1.980198318870952e-13,
           4.615676316693588e-13,
           3.505511548120895e-13,
           5.036103927010577e-13,
           4.2741512561968013e-13,
           4.583071540126417e-13,
           1.024685450912831e-12,
           6.597468316154255e-13,
           4.3290024479912234e-13,
           3.0524487879613056e-13,
           4.628849689996821e-13,
           3.5361330415134695e-13,
           6.854508980978674e-13,
           5.654415002709726e-13,
           7.218081003024997e-13,
           5.488265751849948e-13,
           4.406111789670137e-13,
           5.250381881750478e-13,
           7.751424875338084e-13,
           2.901681767640305e-13,
           4.976907432073292e-12,
           3.02945495110647e-11,
           4.455470979562731e-12,
           5.6885583497179686e-12,
           2.651324226773504e-12,
           4.353732077361064e-12,
           2.637242485293373e-12,
           2.4865615296691384e-12,
           2.3035831557116078e-12,
           2.0195556278111998e-12,
           2.148365811401483e-12,
           1.9920484629327327e-12,
           3.9235235268412025e-12,
           2.5517037436498987e-12,
           2.4774577939635984e-12,
           2.6454885146365237e-12,
           1.6966554473471134e-12,
           2.181262127576012e-12,
           2.197799581770981e-12,
           1.931216218243977e-12,
           2.2272991581280467e-12,
           1.8061415493790863e-12,
           2.0060318538883207e-12,
           2.135232122165936e-12,
           2.236452774399165e-12,
           1.4534980088260126e-12,
           1.4731965995175143e-12,
           1.767406684822806e-12,
           1.3906107881494825e-12,
           1.829962508462041e-12,
           1.8455401975760857e-12,
           2.0169252439017507e-12,
           1.417127137602431e-12,
           1.1992897436304396e-12,
           1.3238416642117748e-12,
           1.312564314671609e-12,
           1.4709803679480889e-12,
           2.908850765921492e-12,
           2.5763264766285366e-12,
           3.0417078657200137e-12,
           1.023943920410632e-12,
           1.5410293318488072e-12,
           3.585097907310126e-12,
           1.5057359552376253e-12,
           1.330472000726387e-12,
           1.660533053052986e-12,
           1.1684786162193414e-12,
           1.2761579355225503e-12,
           1.260954079638533e-12,
           3.2841436265744553e-12,
           1.2450195257284073e-12,
           1.4003573531979844e-12,
           1.601477091405557e-12,
           1.5892405569431799e-12,
           1.6079924109462613e-12,
           2.0759683329813748e-12,
           1.8983671649351863e-12,
           1.5296538801935616e-12,
           1.874774330648052e-12,
           1.9650859346069856e-12,
           2.398864197929066e-12,
           1.5529215438384109e-12,
           1.906306799454206e-12,
           1.2012428070452451e-12,
           1.0586661968494304e-12,
           1.1112504593582444e-12,
           1.0230675999565345e-12,
           1.1709602356900331e-12,
           1.4696215978178358e-12,
           1.184385086951608e-12,
           1.1189507495505108e-12,
           1.084890484862183e-12,
           1.15195492224589e-12,
           1.0325916968841049e-12,
           2.007923408976212e-12,
           8.595040332560934e-13,
           6.777721247988023e-13,
           9.823541022978054e-13,
           8.689422301185461e-13,
           7.447049873978614e-13,
           8.243599809155279e-13,
           1.0243133895065251e-12,
           1.1374225391448245e-12,
           8.603351678335215e-13,
           9.33481901944307e-13,
           8.666365328314267e-13,
           1.3342469804852743e-12,
           1.550232245882146e-12,
           1.1085653475018133e-12,
           9.065978012647223e-13,
           6.90980526998869e-13,
           1.9976044598553348e-12,
           2.173417700971297e-12,
           1.6708057360376945e-12,
           2.3418407478636567e-12,
           1.9662462322025858e-12,
           1.880695420505286e-12,
           1.9271794514034464e-12,
           9.651501710402035e-13,
           7.339199907010646e-13,
           9.073417233557775e-13,
           1.5004899744192425e-12,
           1.0324049610202986e-12,
           1.4081930104677172e-12,
           3.0078522165463063e-12,
           1.459144294426691e-12,
           1.2053717052979839e-12,
           8.012661951414549e-13,
           3.509759758157091e-12,
           1.6709077565016504e-12,
           1.8101283707059283e-12,
           1.2417362020512788e-12,
           8.743081943449586e-13,
           1.1043183453778938e-12,
           1.1595553279065205e-12,
           1.995575075232685e-12,
           1.2119639810859687e-12,
           1.6350347653462605e-12,
           1.2487088384677435e-12
          ]
         },
         "error_y": {
          "array": [
           0.07869149522960805,
           0.14222384493014073,
           0.14445254364243598,
           0.15687646692792098,
           0.2610772555129224,
           0.20313254368180456,
           0.1814024588015057,
           0.1374180462854806,
           0.16007842069166478,
           0.2595272626083567,
           0.2766926910627634,
           0.21266028533121628,
           0.11248892412108824,
           0.22498123837821996,
           0.25547306084339594,
           0.20803492006020674,
           0.2205363957281372,
           0.20569810027702773,
           0.40568755344010704,
           0.3697077019591963,
           0.3658799529268613,
           0.3764041805009093,
           0.3535793927018997,
           0.4239225003042295,
           0.426440387895783,
           0.34281931585062564,
           0.5880040649483669,
           0.16871662241838092,
           0.40887680450104336,
           0.22046059345212954,
           0.3506194764659585,
           0.22178708050491425,
           0.14631941844259733,
           0.6852449057987118,
           0.14235650527075872,
           0.12905109087332645,
           0.06603452178338354,
           0.18424326755214748,
           0.08062425482749669,
           0.0729562366000518,
           0.0678817340302369,
           0.09489173226906034,
           0.08688052162465533,
           0.0880821660694262,
           0.09855715167028434,
           0.20552457638673996,
           0.07539884132945351,
           0.10191267050963272,
           0.11729388440245934,
           0.08520338107281722,
           0.09842997761544224,
           0.09136203940577924,
           0.0863816203014689,
           0.09028930212429187,
           0.09933419373091423,
           0.13873417289423928,
           0.13975568795764826,
           0.14449779209366898,
           0.1339212818745803,
           0.11484383961896415,
           0.1139260617359248,
           0.10020121220626477,
           0.10888919038000533,
           0.09430546446245393,
           0.15297977055912493,
           0.1078980212504912,
           0.16038076982621366,
           0.1461496386547214,
           0.13326765742080848,
           0.21289642762291816,
           0.1941602490571983,
           0.16706766873690326,
           0.090199326908162,
           0.14722699747995582,
           0.19734887315606287,
           0.1249400441165689,
           0.1425094832522389,
           0.2196687598933216,
           0.1808457845299556,
           0.14542763812226256,
           0.18358097280722266,
           0.18616611647947326,
           0.22132304169946515,
           0.2398282185741105,
           0.16810678839459348,
           0.1920280247751427,
           0.13679461251457647,
           0.1143548685586726,
           0.12264307271674868,
           0.12178670588178342,
           0.0831239205809744,
           0.09380739461123656,
           0.0849467470475318,
           0.16822669752147967,
           0.20787177415682545,
           0.3065110348401636,
           0.1597490699416375,
           0.22616579160556416,
           0.1883399496140763,
           0.20482994342682506,
           0.3316231826149991,
           0.2460647081902878,
           0.24251353408413198,
           0.19452282532553775,
           0.1990651840320996,
           0.2043278987730217,
           0.3632937129826421,
           0.19296352895735724,
           0.23694145877563355,
           0.182034157033844,
           0.18036798429301504,
           0.21494847852922686,
           0.2681746453225107,
           0.2669344273968626,
           0.24733383494567485,
           0.2470621229275618,
           0.2610599853033839,
           0.1976930800714478,
           0.2057706786461897,
           0.31775135986897984,
           0.2312931548059933,
           0.2046308862772748,
           0.3567693263206182,
           0.14956793165089155,
           0.17985812184660288,
           0.2132371414931742,
           0.20894189549785724,
           0.18202440420980914,
           0.1706338926572737,
           0.3025001528665552,
           0.30497967712968843,
           0.2211372505231981,
           0.2245533523749106,
           0.22154193957869395,
           0.19910796146415805,
           0.2350869576927066,
           0.20217307915477398,
           0.1368327850008213,
           0.11081828658984194,
           0.1162826359874527,
           0.19706109714172348,
           0.1898167315547017,
           0.21975054609458836,
           0.25939475486969554,
           0.2856161914003221,
           0.194787707927246,
           0.1946949201646273,
           0.2731046796131764,
           0.27065728468877115,
           0.182219899660081,
           0.14824781850928034
          ],
          "arrayminus": [
           0.07712723094959739,
           0.1371694484726722,
           0.13881344107524685,
           0.15487037459835706,
           0.25712949791384165,
           0.19918450318008246,
           0.17461289834331215,
           0.13591529663948546,
           0.1585935039705495,
           0.2564964655879194,
           0.2725938795531919,
           0.20923792378727926,
           0.11124760714136372,
           0.22125183661681944,
           0.2533592542822425,
           0.2062886803606041,
           0.21701870401113266,
           0.2018841490554004,
           0.4042625868228227,
           0.3558992304289845,
           0.3591313394669744,
           0.3677535788455375,
           0.3500025107169751,
           0.4095742863853524,
           0.4189945863799052,
           0.3350866890531363,
           0.5335534286931116,
           0.167880449100146,
           0.38116619786127415,
           0.21799443752863826,
           0.3445134921780149,
           0.2157117339110413,
           0.13998322806275554,
           0.6708938370540269,
           0.13691107809801514,
           0.1236833354250646,
           0.06491391030676086,
           0.17510728418348598,
           0.07797465164442885,
           0.07165760596909476,
           0.06710377663759992,
           0.09261565540193484,
           0.08466602640208931,
           0.08607566105211006,
           0.09663403124679193,
           0.19364969540043964,
           0.07384631177419854,
           0.09889497745423624,
           0.11439184249908264,
           0.08307620677674099,
           0.09625429918202744,
           0.08914185585369294,
           0.08408871085328662,
           0.08871187770351696,
           0.09646990262039212,
           0.13498968799636302,
           0.13537987620383785,
           0.13991786469505166,
           0.1299155601600941,
           0.11137980454602724,
           0.1109670784026573,
           0.0981570596330852,
           0.10570949289719778,
           0.09188385421538524,
           0.14781189348595247,
           0.10526468233986663,
           0.1546394795166628,
           0.14131486438080246,
           0.1286799612248708,
           0.21106263383153112,
           0.18431544733442573,
           0.16483327374003087,
           0.0884348037627094,
           0.14171708602416988,
           0.19563926655506614,
           0.1205819931835519,
           0.1377015858532773,
           0.21454038584943855,
           0.1714542422462284,
           0.13946813491493515,
           0.17664721944278794,
           0.18289237464741914,
           0.2189998626162528,
           0.22445835143871107,
           0.16119063144804024,
           0.1858132975639155,
           0.13157479514602066,
           0.11107483417358076,
           0.1194420109305474,
           0.11911495168338805,
           0.08117165467407839,
           0.09143080727025343,
           0.08306310078506217,
           0.16344659889597413,
           0.19857655862298615,
           0.3046255647526788,
           0.1579486545822466,
           0.2197370298069521,
           0.1855250619429496,
           0.20158307623983893,
           0.3208888993425556,
           0.24093333665115454,
           0.241702857803104,
           0.1916586669146336,
           0.1891581198927608,
           0.19717276125853966,
           0.3533299357935611,
           0.19023389125929047,
           0.2328359953396091,
           0.1797805297447077,
           0.17759735342577398,
           0.2106007242292478,
           0.2659553790896163,
           0.24715582560082394,
           0.2444609030422085,
           0.2417066269216557,
           0.25515128270384313,
           0.1944501311173139,
           0.2026168092209899,
           0.3114913260264762,
           0.2261467605172871,
           0.20146513392997445,
           0.3528758213378216,
           0.14134717949130438,
           0.17534336265366424,
           0.2015187401573133,
           0.2010143835266205,
           0.17158040541623332,
           0.16490975029329102,
           0.28557418425462666,
           0.2868819031800749,
           0.2169856729282691,
           0.2161963594928573,
           0.21798931373825936,
           0.1902915997514507,
           0.23334691516963346,
           0.19996095355820365,
           0.13151401344633484,
           0.1072467442459808,
           0.11287077465621785,
           0.19416266238314075,
           0.18097572414940852,
           0.2153482069509769,
           0.2538077894154493,
           0.2854438662218011,
           0.1854734349207947,
           0.18724248940359112,
           0.2705890164004037,
           0.2621777024810714,
           0.17462399220494018,
           0.14396185744016865
          ]
         },
         "hoverlabel": {
          "namelength": 0
         },
         "hovertemplate": "<b>%{hovertext}</b><br><br>xflux=%{x}<br>gamma=%{y}<br>obs_time=%{marker.color}<br>chi=%{customdata[1]}<br>obs_id=%{customdata[2]}",
         "hovertext": [
          54467.5166782407,
          55370.1013888889,
          55375.24375,
          55381.792361111104,
          55798.51875,
          55868.2625,
          56199.1249884259,
          56199.999293981506,
          56209.5541550926,
          56210.0152546296,
          56911.8472685185,
          56912.2706481482,
          56912.581388888895,
          56913.3312384259,
          56913.782337963,
          56914.7877662037,
          56915.054293981506,
          56915.186099537,
          56917.586099537,
          56919.9159606481,
          56923.0465162037,
          56930.51387731481,
          56932.036793981504,
          56936.9680324074,
          56938.572905092595,
          56945.036805555595,
          56945.3590162037,
          56949.0374768519,
          56950.7687384259,
          56955.479155092595,
          56955.5506828704,
          57233.016643518495,
          58293.716087962996,
          58309.0562152778,
          58309.0596875,
          58316.2263541667,
          58316.2312152778,
          58323.9312152778,
          58330.8520486111,
          58338.35273148151,
          58339.7409375,
          58340.13954861111,
          58341.136076388895,
          58343.854131944405,
          58346.3735763889,
          58349.0964814815,
          58350.291631944405,
          58351.097881944406,
          58353.2180208333,
          58354.8138541667,
          58355.6756597222,
          58356.6728819444,
          58357.4707986111,
          58358.666631944405,
          58359.8659375,
          58360.3312152778,
          58361.6610763889,
          58362.056909722196,
          58363.1201041667,
          58364.7138541667,
          58365.306909722196,
          58365.7742708333,
          58366.0388657407,
          58367.7805208333,
          58374.9451041667,
          58379.9826041667,
          58380.9826041667,
          58382.90413194441,
          58384.693715277805,
          58386.831412037005,
          58390.6694097222,
          58392.92981481481,
          58395.6451041667,
          58399.4492708333,
          58404.0200925926,
          58406.9451041667,
          58408.8812268519,
          58410.004131944406,
          58413.323576388895,
          58419.5673263889,
          58422.8159375,
          58431.715243055594,
          58434.5753935185,
          58437.219143518494,
          58440.3392824074,
          58443.467777777805,
          58446.7865162037,
          58452.9733333333,
          58455.4175115741,
          58458.947615740704,
          58464.8552777778,
          58467.513587962996,
          58470.233043981505,
          58476.27262731481,
          58483.1788888889,
          58497.4559722222,
          58500.6427662037,
          58503.3629166667,
          58506.3649768519,
          58512.469837963,
          58516.0580439815,
          58519.0434606482,
          58521.8976157407,
          58524.222615740706,
          58528.7462268519,
          58530.1295833333,
          58534.4655902778,
          58543.937222222194,
          58546.3344444444,
          58549.3149884259,
          58552.3712384259,
          58555.493472222195,
          58558.0261111111,
          58561.2149884259,
          58572.8996990741,
          58575.155960648095,
          58582.9879166667,
          58589.030277777805,
          58596.942071759295,
          58603.5122337963,
          58610.2830324074,
          58617.063587963,
          58624.230266203704,
          58634.7811342593,
          58635.7103587963,
          58637.4531828704,
          58641.294837962996,
          58644.8233449074,
          58645.75085648151,
          58647.213587963,
          58648.9906828704,
          58653.0365162037,
          58654.4469328704,
          58660.6809490741,
          58667.9281712963,
          58674.7621990741,
          58681.2740162037,
          58695.218472222194,
          58713.28375,
          58716.5948611111,
          58731.9441550926,
          58745.74137731481,
          58752.9816550926,
          58759.880243055595,
          58766.13096064809,
          58773.9677546296,
          58796.6726388889,
          58801.065694444405,
          58815.0017824074,
          58822.2483101852,
          58829.013599537
         ],
         "legendgroup": "",
         "marker": {
          "color": [
           54467.5166782407,
           55370.1013888889,
           55375.24375,
           55381.792361111104,
           55798.51875,
           55868.2625,
           56199.1249884259,
           56199.999293981506,
           56209.5541550926,
           56210.0152546296,
           56911.8472685185,
           56912.2706481482,
           56912.581388888895,
           56913.3312384259,
           56913.782337963,
           56914.7877662037,
           56915.054293981506,
           56915.186099537,
           56917.586099537,
           56919.9159606481,
           56923.0465162037,
           56930.51387731481,
           56932.036793981504,
           56936.9680324074,
           56938.572905092595,
           56945.036805555595,
           56945.3590162037,
           56949.0374768519,
           56950.7687384259,
           56955.479155092595,
           56955.5506828704,
           57233.016643518495,
           58293.716087962996,
           58309.0562152778,
           58309.0596875,
           58316.2263541667,
           58316.2312152778,
           58323.9312152778,
           58330.8520486111,
           58338.35273148151,
           58339.7409375,
           58340.13954861111,
           58341.136076388895,
           58343.854131944405,
           58346.3735763889,
           58349.0964814815,
           58350.291631944405,
           58351.097881944406,
           58353.2180208333,
           58354.8138541667,
           58355.6756597222,
           58356.6728819444,
           58357.4707986111,
           58358.666631944405,
           58359.8659375,
           58360.3312152778,
           58361.6610763889,
           58362.056909722196,
           58363.1201041667,
           58364.7138541667,
           58365.306909722196,
           58365.7742708333,
           58366.0388657407,
           58367.7805208333,
           58374.9451041667,
           58379.9826041667,
           58380.9826041667,
           58382.90413194441,
           58384.693715277805,
           58386.831412037005,
           58390.6694097222,
           58392.92981481481,
           58395.6451041667,
           58399.4492708333,
           58404.0200925926,
           58406.9451041667,
           58408.8812268519,
           58410.004131944406,
           58413.323576388895,
           58419.5673263889,
           58422.8159375,
           58431.715243055594,
           58434.5753935185,
           58437.219143518494,
           58440.3392824074,
           58443.467777777805,
           58446.7865162037,
           58452.9733333333,
           58455.4175115741,
           58458.947615740704,
           58464.8552777778,
           58467.513587962996,
           58470.233043981505,
           58476.27262731481,
           58483.1788888889,
           58497.4559722222,
           58500.6427662037,
           58503.3629166667,
           58506.3649768519,
           58512.469837963,
           58516.0580439815,
           58519.0434606482,
           58521.8976157407,
           58524.222615740706,
           58528.7462268519,
           58530.1295833333,
           58534.4655902778,
           58543.937222222194,
           58546.3344444444,
           58549.3149884259,
           58552.3712384259,
           58555.493472222195,
           58558.0261111111,
           58561.2149884259,
           58572.8996990741,
           58575.155960648095,
           58582.9879166667,
           58589.030277777805,
           58596.942071759295,
           58603.5122337963,
           58610.2830324074,
           58617.063587963,
           58624.230266203704,
           58634.7811342593,
           58635.7103587963,
           58637.4531828704,
           58641.294837962996,
           58644.8233449074,
           58645.75085648151,
           58647.213587963,
           58648.9906828704,
           58653.0365162037,
           58654.4469328704,
           58660.6809490741,
           58667.9281712963,
           58674.7621990741,
           58681.2740162037,
           58695.218472222194,
           58713.28375,
           58716.5948611111,
           58731.9441550926,
           58745.74137731481,
           58752.9816550926,
           58759.880243055595,
           58766.13096064809,
           58773.9677546296,
           58796.6726388889,
           58801.065694444405,
           58815.0017824074,
           58822.2483101852,
           58829.013599537
          ],
          "coloraxis": "coloraxis",
          "symbol": "circle"
         },
         "mode": "markers",
         "name": "",
         "showlegend": false,
         "type": "scatter",
         "x": [
          1.3535480483263035e-11,
          1.0650230502851076e-11,
          6.207365259269335e-12,
          6.6868532138208885e-12,
          1.2167138497340678e-11,
          5.703281240410761e-12,
          4.562123124131462e-12,
          4.005657463122902e-12,
          3.925979276304184e-12,
          4.079123923787765e-12,
          2.2089111067004226e-12,
          3.4611470723432934e-12,
          2.9090278748356376e-12,
          3.4476894450936868e-12,
          2.3286741024089947e-12,
          4.033669005844148e-12,
          3.292298827158947e-12,
          3.7459131863987665e-12,
          4.62220193690108e-12,
          3.2109534073355816e-12,
          2.214677761433787e-12,
          1.6493718446500825e-12,
          2.291382761972198e-12,
          1.6866684492295845e-12,
          2.778400835522976e-12,
          2.959728546828509e-12,
          2.5561652917789222e-12,
          5.324057974153646e-12,
          2.1865294235558417e-12,
          3.908817350908908e-12,
          3.886027349639412e-12,
          2.356487335377439e-12,
          6.625826771641199e-11,
          1.0481850048871972e-10,
          6.192855786780018e-11,
          8.586429882386545e-11,
          7.453243787749533e-11,
          5.450581032221992e-11,
          6.603320159076824e-11,
          6.157264061923922e-11,
          6.471496872972831e-11,
          4.169455890890953e-11,
          4.596866303699616e-11,
          4.457556209084958e-11,
          7.774983789489675e-11,
          2.3203136529688523e-11,
          6.118724732959685e-11,
          4.579511120592468e-11,
          3.0852238126737397e-11,
          4.59176601376293e-11,
          4.242515815977956e-11,
          3.9113096800532574e-11,
          4.6553869338802045e-11,
          3.6062254223206454e-11,
          3.734500458714848e-11,
          3.169470625200289e-11,
          2.7515076141622494e-11,
          1.924761573992424e-11,
          2.1341601662088007e-11,
          3.070998285204145e-11,
          2.272509113591745e-11,
          3.466539330493047e-11,
          3.2004000463913844e-11,
          3.5749341093825546e-11,
          1.803046369207649e-11,
          1.9191349684168035e-11,
          1.611637777080371e-11,
          1.636949418827893e-11,
          1.832727602828164e-11,
          2.325794240202514e-11,
          2.491280013408525e-11,
          2.987108728496946e-11,
          1.9245363270737287e-11,
          1.966142930556384e-11,
          3.0362969185068234e-11,
          1.9794726559598533e-11,
          1.5228028063994745e-11,
          1.4804617808456367e-11,
          1.2691345733948822e-11,
          1.578221490287832e-11,
          1.1783677916536553e-11,
          2.913126880504804e-11,
          9.345444754050502e-12,
          1.2962867301346342e-11,
          1.6174500402912946e-11,
          1.7048790899947295e-11,
          2.023132862623715e-11,
          3.1537180547369066e-11,
          3.0585536679116765e-11,
          2.469357434884967e-11,
          3.9460927437959096e-11,
          3.5386877225903646e-11,
          5.188143250520664e-11,
          1.7710916924587955e-11,
          1.8227736779078163e-11,
          7.473258237618859e-12,
          1.0912320513654711e-11,
          9.89644908108866e-12,
          9.172167200338843e-12,
          9.504281773646547e-12,
          8.118034067682685e-12,
          8.509895232171047e-12,
          7.805661233289554e-12,
          9.101126824825193e-12,
          1.0989344890345916e-11,
          9.595610556266068e-12,
          9.920103034548713e-12,
          7.450088505112451e-12,
          4.929820481699129e-12,
          8.912819966444203e-12,
          7.85329129038003e-12,
          5.888690332151465e-12,
          5.5444296554495885e-12,
          8.284472929642763e-12,
          7.710242356383268e-12,
          6.035991119260466e-12,
          6.260484199477594e-12,
          7.172389593979036e-12,
          1.0671972147238317e-11,
          8.297936388856367e-12,
          8.049553030724005e-12,
          7.60001414685827e-12,
          3.4581357848359477e-12,
          2.273970307467577e-11,
          2.5979026841609147e-11,
          1.5630524922000824e-11,
          2.100490418671026e-11,
          1.8754162495767406e-11,
          2.22562090040788e-11,
          1.1071809082494836e-11,
          6.954035766933571e-12,
          6.0536671378103765e-12,
          6.931770178654997e-12,
          1.1313773627757338e-11,
          9.68629239309526e-12,
          1.0801890457035464e-11,
          3.213745969466191e-11,
          1.817135435126989e-11,
          1.6582766242372782e-11,
          1.0766993826503268e-11,
          2.902044062287612e-11,
          1.4974880449134846e-11,
          1.3973024859184006e-11,
          8.324699157076634e-12,
          5.5694820008527616e-12,
          1.0586694540104609e-11,
          1.2471181996915785e-11,
          1.2163704510424685e-11,
          8.210766667197821e-12,
          1.710417162738393e-11,
          1.3455430300172052e-11
         ],
         "xaxis": "x",
         "y": [
          1.5450569100859728,
          1.5965982498566638,
          1.7294920954519688,
          1.5498556347590726,
          1.4622837174751733,
          1.6861209702023323,
          1.57749909327081,
          1.5541123811868551,
          1.4251464375817413,
          1.4527923225796988,
          1.7773467619651249,
          1.528249180414213,
          1.7043750230816663,
          1.5187443078688674,
          1.6159384512773338,
          1.5827580169149107,
          1.590095022425369,
          1.645454254948702,
          1.4275809308722642,
          1.5754756659313391,
          1.5722999135655988,
          2.132113988360812,
          1.465345414137225,
          1.8281784866145463,
          1.333869169036208,
          1.6177195613440314,
          1.6950384033544292,
          1.5582189767657515,
          2.2537898058502512,
          1.371481936713666,
          1.5160978827950522,
          1.998220715688482,
          1.772129613108417,
          1.3978537134030389,
          1.8058735625958688,
          1.7763866940113495,
          1.8910662981331083,
          2.043654476161958,
          1.9135223233969323,
          1.740586319792521,
          1.8694796406360803,
          1.768524251139746,
          1.7402182376518394,
          1.8358826086896745,
          1.7687359041260764,
          1.8089456356831264,
          1.7676810105204332,
          1.6652607913562765,
          1.8227590649650895,
          1.7125383560231031,
          1.643058206638098,
          1.7307733862976538,
          1.6782192713929582,
          1.6666012690758627,
          1.6355088265331743,
          1.519693168199434,
          1.5408224300389641,
          1.7089444446005309,
          1.7849944104471076,
          1.7525908308086018,
          1.6272613896151498,
          1.776241843927449,
          1.667371417198577,
          1.5087623015367446,
          1.769724189250821,
          1.7354685032332469,
          1.7149812925012016,
          1.7010050024834686,
          1.6198002249564705,
          1.6784163731525137,
          1.6203094605355666,
          1.5778731335128673,
          1.5602863184015894,
          1.5370902725476057,
          1.550334386606088,
          1.4354360595584654,
          1.4526391789259447,
          1.5142528969650388,
          1.7242521180764927,
          1.5935411789622511,
          1.7953454325716949,
          1.5852852591847792,
          1.5484147898369345,
          1.6598175490294502,
          1.462874307065681,
          1.7090756538547598,
          1.5675836097520215,
          1.5212005459262208,
          1.6904122266897204,
          1.7687650387502134,
          1.7828334042752776,
          1.7087187956980667,
          1.641248694017781,
          1.5441747936280348,
          1.603041810127814,
          1.6925071808914476,
          1.5968848159202231,
          1.6333427942592105,
          1.6595316891212784,
          1.5607281190091151,
          1.8002864535953849,
          1.5430008481792714,
          1.4513821531021838,
          1.4940672857147332,
          1.5113945852950317,
          1.5346411417590824,
          1.6586515364254308,
          1.6790600470610495,
          1.7264003227250408,
          1.502137471800329,
          1.4613934605320438,
          1.6755357254751824,
          1.5682185055812654,
          1.7460495317696652,
          1.354808669244678,
          1.632410882004886,
          1.6708629324900357,
          1.514650051340806,
          1.4701965701698492,
          1.4364962756679405,
          1.5838248055769732,
          1.5720724241439412,
          1.5696236117581448,
          1.7065546950657713,
          1.6784358360121394,
          1.543283419266814,
          1.199891506117029,
          1.4769162588380322,
          1.5749616625365606,
          1.6694370415258888,
          1.5997960753244718,
          1.8786337349318818,
          1.6593495918063126,
          1.5067573514773118,
          1.7777994559961554,
          1.7341538571774289,
          1.524278210123124,
          1.6358442170611849,
          1.5138324521144817,
          1.5617138941288151,
          1.504761435124741,
          1.5461896879310812,
          1.6763762315069235,
          1.6469247997140632,
          1.7463705674291037,
          1.6454241234999312,
          1.4183220095327989,
          1.2543410396692298,
          1.7849386171235704,
          1.4646669022577443,
          1.4616107753569942
         ],
         "yaxis": "y"
        }
       ],
       "layout": {
        "coloraxis": {
         "colorbar": {
          "title": {
           "text": "obs_time"
          }
         },
         "colorscale": [
          [
           0,
           "#0d0887"
          ],
          [
           0.1111111111111111,
           "#46039f"
          ],
          [
           0.2222222222222222,
           "#7201a8"
          ],
          [
           0.3333333333333333,
           "#9c179e"
          ],
          [
           0.4444444444444444,
           "#bd3786"
          ],
          [
           0.5555555555555556,
           "#d8576b"
          ],
          [
           0.6666666666666666,
           "#ed7953"
          ],
          [
           0.7777777777777778,
           "#fb9f3a"
          ],
          [
           0.8888888888888888,
           "#fdca26"
          ],
          [
           1,
           "#f0f921"
          ]
         ]
        },
        "height": 600,
        "legend": {
         "tracegroupgap": 0
        },
        "margin": {
         "t": 60
        },
        "template": {
         "data": {
          "bar": [
           {
            "error_x": {
             "color": "#2a3f5f"
            },
            "error_y": {
             "color": "#2a3f5f"
            },
            "marker": {
             "line": {
              "color": "#E5ECF6",
              "width": 0.5
             }
            },
            "type": "bar"
           }
          ],
          "barpolar": [
           {
            "marker": {
             "line": {
              "color": "#E5ECF6",
              "width": 0.5
             }
            },
            "type": "barpolar"
           }
          ],
          "carpet": [
           {
            "aaxis": {
             "endlinecolor": "#2a3f5f",
             "gridcolor": "white",
             "linecolor": "white",
             "minorgridcolor": "white",
             "startlinecolor": "#2a3f5f"
            },
            "baxis": {
             "endlinecolor": "#2a3f5f",
             "gridcolor": "white",
             "linecolor": "white",
             "minorgridcolor": "white",
             "startlinecolor": "#2a3f5f"
            },
            "type": "carpet"
           }
          ],
          "choropleth": [
           {
            "colorbar": {
             "outlinewidth": 0,
             "ticks": ""
            },
            "type": "choropleth"
           }
          ],
          "contour": [
           {
            "colorbar": {
             "outlinewidth": 0,
             "ticks": ""
            },
            "colorscale": [
             [
              0,
              "#0d0887"
             ],
             [
              0.1111111111111111,
              "#46039f"
             ],
             [
              0.2222222222222222,
              "#7201a8"
             ],
             [
              0.3333333333333333,
              "#9c179e"
             ],
             [
              0.4444444444444444,
              "#bd3786"
             ],
             [
              0.5555555555555556,
              "#d8576b"
             ],
             [
              0.6666666666666666,
              "#ed7953"
             ],
             [
              0.7777777777777778,
              "#fb9f3a"
             ],
             [
              0.8888888888888888,
              "#fdca26"
             ],
             [
              1,
              "#f0f921"
             ]
            ],
            "type": "contour"
           }
          ],
          "contourcarpet": [
           {
            "colorbar": {
             "outlinewidth": 0,
             "ticks": ""
            },
            "type": "contourcarpet"
           }
          ],
          "heatmap": [
           {
            "colorbar": {
             "outlinewidth": 0,
             "ticks": ""
            },
            "colorscale": [
             [
              0,
              "#0d0887"
             ],
             [
              0.1111111111111111,
              "#46039f"
             ],
             [
              0.2222222222222222,
              "#7201a8"
             ],
             [
              0.3333333333333333,
              "#9c179e"
             ],
             [
              0.4444444444444444,
              "#bd3786"
             ],
             [
              0.5555555555555556,
              "#d8576b"
             ],
             [
              0.6666666666666666,
              "#ed7953"
             ],
             [
              0.7777777777777778,
              "#fb9f3a"
             ],
             [
              0.8888888888888888,
              "#fdca26"
             ],
             [
              1,
              "#f0f921"
             ]
            ],
            "type": "heatmap"
           }
          ],
          "heatmapgl": [
           {
            "colorbar": {
             "outlinewidth": 0,
             "ticks": ""
            },
            "colorscale": [
             [
              0,
              "#0d0887"
             ],
             [
              0.1111111111111111,
              "#46039f"
             ],
             [
              0.2222222222222222,
              "#7201a8"
             ],
             [
              0.3333333333333333,
              "#9c179e"
             ],
             [
              0.4444444444444444,
              "#bd3786"
             ],
             [
              0.5555555555555556,
              "#d8576b"
             ],
             [
              0.6666666666666666,
              "#ed7953"
             ],
             [
              0.7777777777777778,
              "#fb9f3a"
             ],
             [
              0.8888888888888888,
              "#fdca26"
             ],
             [
              1,
              "#f0f921"
             ]
            ],
            "type": "heatmapgl"
           }
          ],
          "histogram": [
           {
            "marker": {
             "colorbar": {
              "outlinewidth": 0,
              "ticks": ""
             }
            },
            "type": "histogram"
           }
          ],
          "histogram2d": [
           {
            "colorbar": {
             "outlinewidth": 0,
             "ticks": ""
            },
            "colorscale": [
             [
              0,
              "#0d0887"
             ],
             [
              0.1111111111111111,
              "#46039f"
             ],
             [
              0.2222222222222222,
              "#7201a8"
             ],
             [
              0.3333333333333333,
              "#9c179e"
             ],
             [
              0.4444444444444444,
              "#bd3786"
             ],
             [
              0.5555555555555556,
              "#d8576b"
             ],
             [
              0.6666666666666666,
              "#ed7953"
             ],
             [
              0.7777777777777778,
              "#fb9f3a"
             ],
             [
              0.8888888888888888,
              "#fdca26"
             ],
             [
              1,
              "#f0f921"
             ]
            ],
            "type": "histogram2d"
           }
          ],
          "histogram2dcontour": [
           {
            "colorbar": {
             "outlinewidth": 0,
             "ticks": ""
            },
            "colorscale": [
             [
              0,
              "#0d0887"
             ],
             [
              0.1111111111111111,
              "#46039f"
             ],
             [
              0.2222222222222222,
              "#7201a8"
             ],
             [
              0.3333333333333333,
              "#9c179e"
             ],
             [
              0.4444444444444444,
              "#bd3786"
             ],
             [
              0.5555555555555556,
              "#d8576b"
             ],
             [
              0.6666666666666666,
              "#ed7953"
             ],
             [
              0.7777777777777778,
              "#fb9f3a"
             ],
             [
              0.8888888888888888,
              "#fdca26"
             ],
             [
              1,
              "#f0f921"
             ]
            ],
            "type": "histogram2dcontour"
           }
          ],
          "mesh3d": [
           {
            "colorbar": {
             "outlinewidth": 0,
             "ticks": ""
            },
            "type": "mesh3d"
           }
          ],
          "parcoords": [
           {
            "line": {
             "colorbar": {
              "outlinewidth": 0,
              "ticks": ""
             }
            },
            "type": "parcoords"
           }
          ],
          "pie": [
           {
            "automargin": true,
            "type": "pie"
           }
          ],
          "scatter": [
           {
            "marker": {
             "colorbar": {
              "outlinewidth": 0,
              "ticks": ""
             }
            },
            "type": "scatter"
           }
          ],
          "scatter3d": [
           {
            "line": {
             "colorbar": {
              "outlinewidth": 0,
              "ticks": ""
             }
            },
            "marker": {
             "colorbar": {
              "outlinewidth": 0,
              "ticks": ""
             }
            },
            "type": "scatter3d"
           }
          ],
          "scattercarpet": [
           {
            "marker": {
             "colorbar": {
              "outlinewidth": 0,
              "ticks": ""
             }
            },
            "type": "scattercarpet"
           }
          ],
          "scattergeo": [
           {
            "marker": {
             "colorbar": {
              "outlinewidth": 0,
              "ticks": ""
             }
            },
            "type": "scattergeo"
           }
          ],
          "scattergl": [
           {
            "marker": {
             "colorbar": {
              "outlinewidth": 0,
              "ticks": ""
             }
            },
            "type": "scattergl"
           }
          ],
          "scattermapbox": [
           {
            "marker": {
             "colorbar": {
              "outlinewidth": 0,
              "ticks": ""
             }
            },
            "type": "scattermapbox"
           }
          ],
          "scatterpolar": [
           {
            "marker": {
             "colorbar": {
              "outlinewidth": 0,
              "ticks": ""
             }
            },
            "type": "scatterpolar"
           }
          ],
          "scatterpolargl": [
           {
            "marker": {
             "colorbar": {
              "outlinewidth": 0,
              "ticks": ""
             }
            },
            "type": "scatterpolargl"
           }
          ],
          "scatterternary": [
           {
            "marker": {
             "colorbar": {
              "outlinewidth": 0,
              "ticks": ""
             }
            },
            "type": "scatterternary"
           }
          ],
          "surface": [
           {
            "colorbar": {
             "outlinewidth": 0,
             "ticks": ""
            },
            "colorscale": [
             [
              0,
              "#0d0887"
             ],
             [
              0.1111111111111111,
              "#46039f"
             ],
             [
              0.2222222222222222,
              "#7201a8"
             ],
             [
              0.3333333333333333,
              "#9c179e"
             ],
             [
              0.4444444444444444,
              "#bd3786"
             ],
             [
              0.5555555555555556,
              "#d8576b"
             ],
             [
              0.6666666666666666,
              "#ed7953"
             ],
             [
              0.7777777777777778,
              "#fb9f3a"
             ],
             [
              0.8888888888888888,
              "#fdca26"
             ],
             [
              1,
              "#f0f921"
             ]
            ],
            "type": "surface"
           }
          ],
          "table": [
           {
            "cells": {
             "fill": {
              "color": "#EBF0F8"
             },
             "line": {
              "color": "white"
             }
            },
            "header": {
             "fill": {
              "color": "#C8D4E3"
             },
             "line": {
              "color": "white"
             }
            },
            "type": "table"
           }
          ]
         },
         "layout": {
          "annotationdefaults": {
           "arrowcolor": "#2a3f5f",
           "arrowhead": 0,
           "arrowwidth": 1
          },
          "coloraxis": {
           "colorbar": {
            "outlinewidth": 0,
            "ticks": ""
           }
          },
          "colorscale": {
           "diverging": [
            [
             0,
             "#8e0152"
            ],
            [
             0.1,
             "#c51b7d"
            ],
            [
             0.2,
             "#de77ae"
            ],
            [
             0.3,
             "#f1b6da"
            ],
            [
             0.4,
             "#fde0ef"
            ],
            [
             0.5,
             "#f7f7f7"
            ],
            [
             0.6,
             "#e6f5d0"
            ],
            [
             0.7,
             "#b8e186"
            ],
            [
             0.8,
             "#7fbc41"
            ],
            [
             0.9,
             "#4d9221"
            ],
            [
             1,
             "#276419"
            ]
           ],
           "sequential": [
            [
             0,
             "#0d0887"
            ],
            [
             0.1111111111111111,
             "#46039f"
            ],
            [
             0.2222222222222222,
             "#7201a8"
            ],
            [
             0.3333333333333333,
             "#9c179e"
            ],
            [
             0.4444444444444444,
             "#bd3786"
            ],
            [
             0.5555555555555556,
             "#d8576b"
            ],
            [
             0.6666666666666666,
             "#ed7953"
            ],
            [
             0.7777777777777778,
             "#fb9f3a"
            ],
            [
             0.8888888888888888,
             "#fdca26"
            ],
            [
             1,
             "#f0f921"
            ]
           ],
           "sequentialminus": [
            [
             0,
             "#0d0887"
            ],
            [
             0.1111111111111111,
             "#46039f"
            ],
            [
             0.2222222222222222,
             "#7201a8"
            ],
            [
             0.3333333333333333,
             "#9c179e"
            ],
            [
             0.4444444444444444,
             "#bd3786"
            ],
            [
             0.5555555555555556,
             "#d8576b"
            ],
            [
             0.6666666666666666,
             "#ed7953"
            ],
            [
             0.7777777777777778,
             "#fb9f3a"
            ],
            [
             0.8888888888888888,
             "#fdca26"
            ],
            [
             1,
             "#f0f921"
            ]
           ]
          },
          "colorway": [
           "#636efa",
           "#EF553B",
           "#00cc96",
           "#ab63fa",
           "#FFA15A",
           "#19d3f3",
           "#FF6692",
           "#B6E880",
           "#FF97FF",
           "#FECB52"
          ],
          "font": {
           "color": "#2a3f5f"
          },
          "geo": {
           "bgcolor": "white",
           "lakecolor": "white",
           "landcolor": "#E5ECF6",
           "showlakes": true,
           "showland": true,
           "subunitcolor": "white"
          },
          "hoverlabel": {
           "align": "left"
          },
          "hovermode": "closest",
          "mapbox": {
           "style": "light"
          },
          "paper_bgcolor": "white",
          "plot_bgcolor": "#E5ECF6",
          "polar": {
           "angularaxis": {
            "gridcolor": "white",
            "linecolor": "white",
            "ticks": ""
           },
           "bgcolor": "#E5ECF6",
           "radialaxis": {
            "gridcolor": "white",
            "linecolor": "white",
            "ticks": ""
           }
          },
          "scene": {
           "xaxis": {
            "backgroundcolor": "#E5ECF6",
            "gridcolor": "white",
            "gridwidth": 2,
            "linecolor": "white",
            "showbackground": true,
            "ticks": "",
            "zerolinecolor": "white"
           },
           "yaxis": {
            "backgroundcolor": "#E5ECF6",
            "gridcolor": "white",
            "gridwidth": 2,
            "linecolor": "white",
            "showbackground": true,
            "ticks": "",
            "zerolinecolor": "white"
           },
           "zaxis": {
            "backgroundcolor": "#E5ECF6",
            "gridcolor": "white",
            "gridwidth": 2,
            "linecolor": "white",
            "showbackground": true,
            "ticks": "",
            "zerolinecolor": "white"
           }
          },
          "shapedefaults": {
           "line": {
            "color": "#2a3f5f"
           }
          },
          "ternary": {
           "aaxis": {
            "gridcolor": "white",
            "linecolor": "white",
            "ticks": ""
           },
           "baxis": {
            "gridcolor": "white",
            "linecolor": "white",
            "ticks": ""
           },
           "bgcolor": "#E5ECF6",
           "caxis": {
            "gridcolor": "white",
            "linecolor": "white",
            "ticks": ""
           }
          },
          "title": {
           "x": 0.05
          },
          "xaxis": {
           "automargin": true,
           "gridcolor": "white",
           "linecolor": "white",
           "ticks": "",
           "title": {
            "standoff": 15
           },
           "zerolinecolor": "white",
           "zerolinewidth": 2
          },
          "yaxis": {
           "automargin": true,
           "gridcolor": "white",
           "linecolor": "white",
           "ticks": "",
           "title": {
            "standoff": 15
           },
           "zerolinecolor": "white",
           "zerolinewidth": 2
          }
         }
        },
        "title": {
         "text": ""
        },
        "width": 800,
        "xaxis": {
         "anchor": "y",
         "domain": [
          0,
          1
         ],
         "nticks": 4,
         "tickformat": "0.1e",
         "title": {
          "text": "flux"
         },
         "type": "log"
        },
        "yaxis": {
         "anchor": "x",
         "domain": [
          0,
          1
         ],
         "nticks": 10,
         "tickformat": "0.2f",
         "title": {
          "text": "gamma"
         },
         "type": "linear"
        }
       }
      },
      "text/html": [
       "<div>\n",
       "        \n",
       "        \n",
       "            <div id=\"1f09f4f9-61ea-4401-b0e1-8746c3ee1945\" class=\"plotly-graph-div\" style=\"height:600px; width:800px;\"></div>\n",
       "            <script type=\"text/javascript\">\n",
       "                require([\"plotly\"], function(Plotly) {\n",
       "                    window.PLOTLYENV=window.PLOTLYENV || {};\n",
       "                    \n",
       "                if (document.getElementById(\"1f09f4f9-61ea-4401-b0e1-8746c3ee1945\")) {\n",
       "                    Plotly.newPlot(\n",
       "                        '1f09f4f9-61ea-4401-b0e1-8746c3ee1945',\n",
       "                        [{\"customdata\": [[54467.5166782407, 1.1542943435035204, 35880003.0], [55370.1013888889, 1.1922569657102675, 31742001.0], [55375.24375, 1.1546262401911644, 31742003.0], [55381.792361111104, 1.4322826598414335, 31742004.0], [55798.51875, 1.2822747666921384, 45604001.0], [55868.2625, 1.0940244433478372, 45604002.0], [56199.1249884259, 0.8827632896937785, 45604005.0], [56199.999293981506, 1.2929556361971413, 45604006.0], [56209.5541550926, 1.071357255818303, 45604007.0], [56210.0152546296, 0.9245470338186442, 45604008.0], [56911.8472685185, 0.8152446908379123, 33411001.0], [56912.2706481482, 1.4485096422173964, 33411002.0], [56912.581388888895, 1.1181894850333989, 33411003.0], [56913.3312384259, 1.177985925538109, 33411004.0], [56913.782337963, 0.8185732673788979, 33411005.0], [56914.7877662037, 1.0680627712009791, 33411007.0], [56915.054293981506, 0.9247136213127805, 33411008.0], [56915.186099537, 0.7514578115097064, 33411009.0], [56917.586099537, 1.1425331830319985, 33411012.0], [56919.9159606481, 1.326260727390765, 33411013.0], [56923.0465162037, 0.905612262537156, 33411015.0], [56930.51387731481, 1.1522544871043774, 33411016.0], [56932.036793981504, 0.9961015451506368, 33411017.0], [56936.9680324074, 0.9190737162183196, 33411019.0], [56938.572905092595, 1.0460633355449662, 33411020.0], [56945.036805555595, 0.919463765927944, 33411023.0], [56945.3590162037, 0.9520082805066692, 33411022.0], [56949.0374768519, 0.9508127253780329, 33411025.0], [56950.7687384259, 0.7667809017541637, 33411024.0], [56955.479155092595, 1.0465543448050056, 33411027.0], [56955.5506828704, 1.0781699907806244, 33411026.0], [57233.016643518495, 1.0541871303106751, 33411029.0], [58293.716087962996, 1.0593894351434765, 35880004.0], [58309.0562152778, 1.2488806190258754, 35880005.0], [58309.0596875, 1.1485418536239371, 35880006.0], [58316.2263541667, 0.9138422923583964, 35880007.0], [58316.2312152778, 1.0988628964240474, 35880008.0], [58323.9312152778, 1.3241288986568902, 35880009.0], [58330.8520486111, 1.3793369996048048, 35880013.0], [58338.35273148151, 0.9263693789464686, 35880014.0], [58339.7409375, 1.1212649719455556, 35880015.0], [58340.13954861111, 1.0209134742994024, 35880016.0], [58341.136076388895, 1.0813009174625614, 35880017.0], [58343.854131944405, 0.9174014775437708, 35880019.0], [58346.3735763889, 0.9998441454542832, 35880021.0], [58349.0964814815, 1.0848389948904755, 35880022.0], [58350.291631944405, 1.101998288120792, 35880023.0], [58351.097881944406, 0.8374761229725503, 35880025.0], [58353.2180208333, 1.2645685594139064, 35880026.0], [58354.8138541667, 1.1947042393744138, 35880027.0], [58355.6756597222, 0.9516379610453592, 35880028.0], [58356.6728819444, 0.8644302802388902, 35880029.0], [58357.4707986111, 0.8049550377275331, 35880030.0], [58358.666631944405, 1.0996727262571724, 35880031.0], [58359.8659375, 0.9468217910290858, 35880032.0], [58360.3312152778, 1.3688675673433484, 35880033.0], [58361.6610763889, 1.1828957209407318, 35880034.0], [58362.056909722196, 1.4005773973849185, 35880035.0], [58363.1201041667, 1.4095723256162282, 35880036.0], [58364.7138541667, 1.1868439264492625, 35880037.0], [58365.306909722196, 1.0165590217996792, 35880038.0], [58365.7742708333, 0.9588408880501846, 35880039.0], [58366.0388657407, 0.978783384382915, 35880040.0], [58367.7805208333, 1.0510097755741548, 35880041.0], [58374.9451041667, 1.0017221814626491, 35880042.0], [58379.9826041667, 1.3337861385229446, 35880044.0], [58380.9826041667, 1.1226466394468797, 35880045.0], [58382.90413194441, 1.12295783604969, 35880046.0], [58384.693715277805, 0.8082262833127336, 35880047.0], [58386.831412037005, 0.7555462534092744, 35880048.0], [58390.6694097222, 1.2527435870684631, 35880050.0], [58392.92981481481, 1.075945241412864, 35880051.0], [58395.6451041667, 0.7940773450074518, 35880053.0], [58399.4492708333, 0.7680829772212384, 35880054.0], [58404.0200925926, 1.0251616440402147, 35880057.0], [58406.9451041667, 0.8564908247931093, 35880058.0], [58408.8812268519, 0.7993199858728874, 35880059.0], [58410.004131944406, 1.0985519408732325, 35880060.0], [58413.323576388895, 0.9464653377842276, 35880061.0], [58419.5673263889, 1.3114945467507475, 35880063.0], [58422.8159375, 0.8739003291508525, 35880064.0], [58431.715243055594, 1.015864595892523, 35880066.0], [58434.5753935185, 0.9929401774007496, 35880067.0], [58437.219143518494, 1.2460784649979468, 35880068.0], [58440.3392824074, 0.7873019499624703, 35880069.0], [58443.467777777805, 1.3905545234450505, 35880070.0], [58446.7865162037, 1.3816971805295104, 35880071.0], [58452.9733333333, 0.9159014308437834, 35880073.0], [58455.4175115741, 1.1676273771882342, 35880074.0], [58458.947615740704, 1.2527611027301573, 35880075.0], [58464.8552777778, 0.8374661136746613, 35880076.0], [58467.513587962996, 0.9527541734632272, 35880077.0], [58470.233043981505, 1.0829517080709812, 35880078.0], [58476.27262731481, 0.8178786134003346, 35880080.0], [58483.1788888889, 1.232232629744727, 35880082.0], [58497.4559722222, 0.8272586096610772, 35880086.0], [58500.6427662037, 0.993607261045342, 35880087.0], [58503.3629166667, 0.8102850515227473, 35880088.0], [58506.3649768519, 0.9149856192936464, 35880089.0], [58512.469837963, 1.031128526195297, 35880091.0], [58516.0580439815, 0.7093114102153742, 35880092.0], [58519.0434606482, 0.867112780472374, 35880094.0], [58521.8976157407, 0.9287277903876352, 35880095.0], [58524.222615740706, 1.0981053625799864, 35880096.0], [58528.7462268519, 1.2587067057223549, 35880097.0], [58530.1295833333, 0.8935953374209478, 35880098.0], [58534.4655902778, 1.218897816207292, 35880099.0], [58543.937222222194, 0.8552061940930549, 35880101.0], [58546.3344444444, 0.9386775256231936, 35880102.0], [58549.3149884259, 1.0644166394719659, 35880103.0], [58552.3712384259, 1.2318997013112227, 35880104.0], [58555.493472222195, 1.0086442978675776, 35880105.0], [58558.0261111111, 0.8975186437563663, 35880106.0], [58561.2149884259, 0.7002331645450679, 35880107.0], [58572.8996990741, 1.4049718311678006, 35880108.0], [58575.155960648095, 1.0091749678525406, 35880109.0], [58582.9879166667, 1.0674977342992422, 35880110.0], [58589.030277777805, 0.9562151630119629, 35880111.0], [58596.942071759295, 0.9884836827658356, 35880112.0], [58603.5122337963, 1.391332052578962, 35880113.0], [58610.2830324074, 0.9729241205440372, 35880114.0], [58617.063587963, 0.9481654170622684, 35880115.0], [58624.230266203704, 1.1017107301403208, 35880116.0], [58634.7811342593, 1.1819048630156814, 35880120.0], [58635.7103587963, 1.2764775647128912, 35880121.0], [58637.4531828704, 1.4897205339045387, 35880123.0], [58641.294837962996, 0.9476537500266788, 35880128.0], [58644.8233449074, 1.0235001982955192, 35880131.0], [58645.75085648151, 0.9365914339409638, 35880132.0], [58647.213587963, 0.7646776359756025, 35880133.0], [58648.9906828704, 0.965128861502108, 35880134.0], [58653.0365162037, 0.9470806906513906, 35880137.0], [58654.4469328704, 0.8736947945206001, 35880138.0], [58660.6809490741, 1.239363469847964, 35880139.0], [58667.9281712963, 1.2563445470592138, 35880140.0], [58674.7621990741, 0.9609759031943932, 35880141.0], [58681.2740162037, 1.3674185766670413, 35880142.0], [58695.218472222194, 0.8364742435575331, 35880144.0], [58713.28375, 1.0831226973380197, 88910002.0], [58716.5948611111, 1.140076775781666, 88910003.0], [58731.9441550926, 1.3018532181312945, 45604011.0], [58745.74137731481, 0.8326615671867352, 45604013.0], [58752.9816550926, 1.0746521499623365, 45604014.0], [58759.880243055595, 1.0249783563054642, 45604015.0], [58766.13096064809, 1.1707859994521546, 45604016.0], [58773.9677546296, 1.3822860147108875, 45604017.0], [58796.6726388889, 1.3236357426834038, 45604020.0], [58801.065694444405, 0.7416642575125518, 45604021.0], [58815.0017824074, 0.91903396668307, 45604023.0], [58822.2483101852, 0.9864433366916902, 45604024.0], [58829.013599537, 0.892283022427865, 45604025.0]], \"error_x\": {\"array\": [6.909931384188263e-13, 8.69316220327699e-13, 5.320067738938312e-13, 6.825225695689858e-13, 2.082833013456383e-12, 7.455186080000816e-13, 4.579918106475553e-13, 3.543786186302989e-13, 4.1037752026856315e-13, 7.07953367718491e-13, 3.907078009153489e-13, 4.870542648098623e-13, 2.0736991780320486e-13, 5.064558997495358e-13, 3.894074640584768e-13, 5.492749832816957e-13, 4.677882401097084e-13, 4.989560388932349e-13, 1.2019081365024909e-12, 7.636874193430779e-13, 4.980044990852108e-13, 3.4828422049483594e-13, 5.350493066354121e-13, 4.1127576333290834e-13, 8.2000954475146e-13, 6.47692863336426e-13, 8.773364138062756e-13, 5.893303363032713e-13, 5.088146942151205e-13, 5.766652971934662e-13, 8.948574103741598e-13, 3.1614735464093894e-13, 4.982355804958472e-12, 3.5885589807111904e-11, 4.460010626714576e-12, 5.693572529223863e-12, 2.6520656253226755e-12, 4.358986301750112e-12, 2.638138940239388e-12, 2.4874382841657407e-12, 2.304213444085499e-12, 2.0205579829054488e-12, 2.1493677758398287e-12, 1.9929024552700496e-12, 3.925633942447209e-12, 2.551350859379323e-12, 2.4783363748578037e-12, 2.6473102596511053e-12, 1.6977224889638776e-12, 2.1823106745659784e-12, 2.1990363712357787e-12, 1.932203174833041e-12, 2.228384357565143e-12, 1.807074336061164e-12, 2.00722317819448e-12, 2.137170560596108e-12, 2.2392741721608144e-12, 1.4550880517074596e-12, 1.474580327308628e-12, 1.7686143487305112e-12, 1.3916651193149996e-12, 1.8309945503809577e-12, 1.846806227944704e-12, 2.018226407519208e-12, 1.4187797121455704e-12, 1.2002204770622957e-12, 1.3255421968214122e-12, 1.3141814776589242e-12, 1.4727640282889034e-12, 3.173547698636144e-12, 2.5760330391820916e-12, 3.2632865488857e-12, 1.0245321901656714e-12, 1.5428331711397258e-12, 3.890804878813011e-12, 1.507408620116215e-12, 1.3323714844228796e-12, 1.6602889578802989e-12, 1.1702996697189754e-12, 1.2777530775223132e-12, 1.2607960425586089e-12, 3.5514235285322384e-12, 1.3664898290829486e-12, 1.4001757666689943e-12, 1.6013191426129478e-12, 1.5917192095817031e-12, 1.6099253443810155e-12, 2.0777765034559352e-12, 1.8998545578236067e-12, 1.5308437434434895e-12, 1.8756668099094533e-12, 1.96631346369056e-12, 2.3999578632722218e-12, 1.5551110593058423e-12, 1.906086294959325e-12, 1.3458862002137475e-12, 1.1320190186758198e-12, 1.1110891977455483e-12, 1.1052625994288176e-12, 1.2757878568467122e-12, 1.6721296279385202e-12, 1.3036623560736355e-12, 1.237358946607767e-12, 1.1784993707219106e-12, 1.1518202305048213e-12, 1.0324611820951192e-12, 2.323849342511759e-12, 9.311763577784486e-13, 7.462618412976952e-13, 1.0602767925574509e-12, 9.37815582723914e-13, 8.131086290529316e-13, 9.15269119114578e-13, 1.024114726527833e-12, 1.2617391169419606e-12, 9.509779182637863e-13, 1.0368959069451645e-12, 9.425511509312831e-13, 1.455651351100838e-12, 1.7721087116478532e-12, 1.2205992116749387e-12, 9.850733598867526e-13, 7.977193158736106e-13, 2.0004747797672388e-12, 2.17629764605134e-12, 1.6706005471382058e-12, 2.341505018104565e-12, 1.9660165472193905e-12, 1.8832218488674488e-12, 2.134704875264254e-12, 9.648896748365308e-13, 7.983971128798866e-13, 9.923128135157898e-13, 1.645790966462536e-12, 1.0322783475021296e-12, 1.5421260321415777e-12, 3.012568616853334e-12, 1.460913343847453e-12, 1.2066225832256755e-12, 8.021285124255379e-13, 3.8172440834512194e-12, 1.67066616136269e-12, 1.9816470609611497e-12, 1.378687350139523e-12, 9.767240255079442e-13, 1.1041914466381241e-12, 1.161392368761096e-12, 2.241467314710593e-12, 1.3449616627067044e-12, 1.63769781435874e-12, 1.2506821122630155e-12], \"arrayminus\": [6.906158076272851e-13, 8.682205238104502e-13, 5.312758033764188e-13, 6.390710123160244e-13, 1.868498713950714e-12, 6.857897552506741e-13, 4.580375369459054e-13, 3.347212249474275e-13, 3.836858515440772e-13, 6.347236723071203e-13, 3.495318144509893e-13, 4.4556014258075375e-13, 1.980198318870952e-13, 4.615676316693588e-13, 3.505511548120895e-13, 5.036103927010577e-13, 4.2741512561968013e-13, 4.583071540126417e-13, 1.024685450912831e-12, 6.597468316154255e-13, 4.3290024479912234e-13, 3.0524487879613056e-13, 4.628849689996821e-13, 3.5361330415134695e-13, 6.854508980978674e-13, 5.654415002709726e-13, 7.218081003024997e-13, 5.488265751849948e-13, 4.406111789670137e-13, 5.250381881750478e-13, 7.751424875338084e-13, 2.901681767640305e-13, 4.976907432073292e-12, 3.02945495110647e-11, 4.455470979562731e-12, 5.6885583497179686e-12, 2.651324226773504e-12, 4.353732077361064e-12, 2.637242485293373e-12, 2.4865615296691384e-12, 2.3035831557116078e-12, 2.0195556278111998e-12, 2.148365811401483e-12, 1.9920484629327327e-12, 3.9235235268412025e-12, 2.5517037436498987e-12, 2.4774577939635984e-12, 2.6454885146365237e-12, 1.6966554473471134e-12, 2.181262127576012e-12, 2.197799581770981e-12, 1.931216218243977e-12, 2.2272991581280467e-12, 1.8061415493790863e-12, 2.0060318538883207e-12, 2.135232122165936e-12, 2.236452774399165e-12, 1.4534980088260126e-12, 1.4731965995175143e-12, 1.767406684822806e-12, 1.3906107881494825e-12, 1.829962508462041e-12, 1.8455401975760857e-12, 2.0169252439017507e-12, 1.417127137602431e-12, 1.1992897436304396e-12, 1.3238416642117748e-12, 1.312564314671609e-12, 1.4709803679480889e-12, 2.908850765921492e-12, 2.5763264766285366e-12, 3.0417078657200137e-12, 1.023943920410632e-12, 1.5410293318488072e-12, 3.585097907310126e-12, 1.5057359552376253e-12, 1.330472000726387e-12, 1.660533053052986e-12, 1.1684786162193414e-12, 1.2761579355225503e-12, 1.260954079638533e-12, 3.2841436265744553e-12, 1.2450195257284073e-12, 1.4003573531979844e-12, 1.601477091405557e-12, 1.5892405569431799e-12, 1.6079924109462613e-12, 2.0759683329813748e-12, 1.8983671649351863e-12, 1.5296538801935616e-12, 1.874774330648052e-12, 1.9650859346069856e-12, 2.398864197929066e-12, 1.5529215438384109e-12, 1.906306799454206e-12, 1.2012428070452451e-12, 1.0586661968494304e-12, 1.1112504593582444e-12, 1.0230675999565345e-12, 1.1709602356900331e-12, 1.4696215978178358e-12, 1.184385086951608e-12, 1.1189507495505108e-12, 1.084890484862183e-12, 1.15195492224589e-12, 1.0325916968841049e-12, 2.007923408976212e-12, 8.595040332560934e-13, 6.777721247988023e-13, 9.823541022978054e-13, 8.689422301185461e-13, 7.447049873978614e-13, 8.243599809155279e-13, 1.0243133895065251e-12, 1.1374225391448245e-12, 8.603351678335215e-13, 9.33481901944307e-13, 8.666365328314267e-13, 1.3342469804852743e-12, 1.550232245882146e-12, 1.1085653475018133e-12, 9.065978012647223e-13, 6.90980526998869e-13, 1.9976044598553348e-12, 2.173417700971297e-12, 1.6708057360376945e-12, 2.3418407478636567e-12, 1.9662462322025858e-12, 1.880695420505286e-12, 1.9271794514034464e-12, 9.651501710402035e-13, 7.339199907010646e-13, 9.073417233557775e-13, 1.5004899744192425e-12, 1.0324049610202986e-12, 1.4081930104677172e-12, 3.0078522165463063e-12, 1.459144294426691e-12, 1.2053717052979839e-12, 8.012661951414549e-13, 3.509759758157091e-12, 1.6709077565016504e-12, 1.8101283707059283e-12, 1.2417362020512788e-12, 8.743081943449586e-13, 1.1043183453778938e-12, 1.1595553279065205e-12, 1.995575075232685e-12, 1.2119639810859687e-12, 1.6350347653462605e-12, 1.2487088384677435e-12]}, \"error_y\": {\"array\": [0.07869149522960805, 0.14222384493014073, 0.14445254364243598, 0.15687646692792098, 0.2610772555129224, 0.20313254368180456, 0.1814024588015057, 0.1374180462854806, 0.16007842069166478, 0.2595272626083567, 0.2766926910627634, 0.21266028533121628, 0.11248892412108824, 0.22498123837821996, 0.25547306084339594, 0.20803492006020674, 0.2205363957281372, 0.20569810027702773, 0.40568755344010704, 0.3697077019591963, 0.3658799529268613, 0.3764041805009093, 0.3535793927018997, 0.4239225003042295, 0.426440387895783, 0.34281931585062564, 0.5880040649483669, 0.16871662241838092, 0.40887680450104336, 0.22046059345212954, 0.3506194764659585, 0.22178708050491425, 0.14631941844259733, 0.6852449057987118, 0.14235650527075872, 0.12905109087332645, 0.06603452178338354, 0.18424326755214748, 0.08062425482749669, 0.0729562366000518, 0.0678817340302369, 0.09489173226906034, 0.08688052162465533, 0.0880821660694262, 0.09855715167028434, 0.20552457638673996, 0.07539884132945351, 0.10191267050963272, 0.11729388440245934, 0.08520338107281722, 0.09842997761544224, 0.09136203940577924, 0.0863816203014689, 0.09028930212429187, 0.09933419373091423, 0.13873417289423928, 0.13975568795764826, 0.14449779209366898, 0.1339212818745803, 0.11484383961896415, 0.1139260617359248, 0.10020121220626477, 0.10888919038000533, 0.09430546446245393, 0.15297977055912493, 0.1078980212504912, 0.16038076982621366, 0.1461496386547214, 0.13326765742080848, 0.21289642762291816, 0.1941602490571983, 0.16706766873690326, 0.090199326908162, 0.14722699747995582, 0.19734887315606287, 0.1249400441165689, 0.1425094832522389, 0.2196687598933216, 0.1808457845299556, 0.14542763812226256, 0.18358097280722266, 0.18616611647947326, 0.22132304169946515, 0.2398282185741105, 0.16810678839459348, 0.1920280247751427, 0.13679461251457647, 0.1143548685586726, 0.12264307271674868, 0.12178670588178342, 0.0831239205809744, 0.09380739461123656, 0.0849467470475318, 0.16822669752147967, 0.20787177415682545, 0.3065110348401636, 0.1597490699416375, 0.22616579160556416, 0.1883399496140763, 0.20482994342682506, 0.3316231826149991, 0.2460647081902878, 0.24251353408413198, 0.19452282532553775, 0.1990651840320996, 0.2043278987730217, 0.3632937129826421, 0.19296352895735724, 0.23694145877563355, 0.182034157033844, 0.18036798429301504, 0.21494847852922686, 0.2681746453225107, 0.2669344273968626, 0.24733383494567485, 0.2470621229275618, 0.2610599853033839, 0.1976930800714478, 0.2057706786461897, 0.31775135986897984, 0.2312931548059933, 0.2046308862772748, 0.3567693263206182, 0.14956793165089155, 0.17985812184660288, 0.2132371414931742, 0.20894189549785724, 0.18202440420980914, 0.1706338926572737, 0.3025001528665552, 0.30497967712968843, 0.2211372505231981, 0.2245533523749106, 0.22154193957869395, 0.19910796146415805, 0.2350869576927066, 0.20217307915477398, 0.1368327850008213, 0.11081828658984194, 0.1162826359874527, 0.19706109714172348, 0.1898167315547017, 0.21975054609458836, 0.25939475486969554, 0.2856161914003221, 0.194787707927246, 0.1946949201646273, 0.2731046796131764, 0.27065728468877115, 0.182219899660081, 0.14824781850928034], \"arrayminus\": [0.07712723094959739, 0.1371694484726722, 0.13881344107524685, 0.15487037459835706, 0.25712949791384165, 0.19918450318008246, 0.17461289834331215, 0.13591529663948546, 0.1585935039705495, 0.2564964655879194, 0.2725938795531919, 0.20923792378727926, 0.11124760714136372, 0.22125183661681944, 0.2533592542822425, 0.2062886803606041, 0.21701870401113266, 0.2018841490554004, 0.4042625868228227, 0.3558992304289845, 0.3591313394669744, 0.3677535788455375, 0.3500025107169751, 0.4095742863853524, 0.4189945863799052, 0.3350866890531363, 0.5335534286931116, 0.167880449100146, 0.38116619786127415, 0.21799443752863826, 0.3445134921780149, 0.2157117339110413, 0.13998322806275554, 0.6708938370540269, 0.13691107809801514, 0.1236833354250646, 0.06491391030676086, 0.17510728418348598, 0.07797465164442885, 0.07165760596909476, 0.06710377663759992, 0.09261565540193484, 0.08466602640208931, 0.08607566105211006, 0.09663403124679193, 0.19364969540043964, 0.07384631177419854, 0.09889497745423624, 0.11439184249908264, 0.08307620677674099, 0.09625429918202744, 0.08914185585369294, 0.08408871085328662, 0.08871187770351696, 0.09646990262039212, 0.13498968799636302, 0.13537987620383785, 0.13991786469505166, 0.1299155601600941, 0.11137980454602724, 0.1109670784026573, 0.0981570596330852, 0.10570949289719778, 0.09188385421538524, 0.14781189348595247, 0.10526468233986663, 0.1546394795166628, 0.14131486438080246, 0.1286799612248708, 0.21106263383153112, 0.18431544733442573, 0.16483327374003087, 0.0884348037627094, 0.14171708602416988, 0.19563926655506614, 0.1205819931835519, 0.1377015858532773, 0.21454038584943855, 0.1714542422462284, 0.13946813491493515, 0.17664721944278794, 0.18289237464741914, 0.2189998626162528, 0.22445835143871107, 0.16119063144804024, 0.1858132975639155, 0.13157479514602066, 0.11107483417358076, 0.1194420109305474, 0.11911495168338805, 0.08117165467407839, 0.09143080727025343, 0.08306310078506217, 0.16344659889597413, 0.19857655862298615, 0.3046255647526788, 0.1579486545822466, 0.2197370298069521, 0.1855250619429496, 0.20158307623983893, 0.3208888993425556, 0.24093333665115454, 0.241702857803104, 0.1916586669146336, 0.1891581198927608, 0.19717276125853966, 0.3533299357935611, 0.19023389125929047, 0.2328359953396091, 0.1797805297447077, 0.17759735342577398, 0.2106007242292478, 0.2659553790896163, 0.24715582560082394, 0.2444609030422085, 0.2417066269216557, 0.25515128270384313, 0.1944501311173139, 0.2026168092209899, 0.3114913260264762, 0.2261467605172871, 0.20146513392997445, 0.3528758213378216, 0.14134717949130438, 0.17534336265366424, 0.2015187401573133, 0.2010143835266205, 0.17158040541623332, 0.16490975029329102, 0.28557418425462666, 0.2868819031800749, 0.2169856729282691, 0.2161963594928573, 0.21798931373825936, 0.1902915997514507, 0.23334691516963346, 0.19996095355820365, 0.13151401344633484, 0.1072467442459808, 0.11287077465621785, 0.19416266238314075, 0.18097572414940852, 0.2153482069509769, 0.2538077894154493, 0.2854438662218011, 0.1854734349207947, 0.18724248940359112, 0.2705890164004037, 0.2621777024810714, 0.17462399220494018, 0.14396185744016865]}, \"hoverlabel\": {\"namelength\": 0}, \"hovertemplate\": \"<b>%{hovertext}</b><br><br>xflux=%{x}<br>gamma=%{y}<br>obs_time=%{marker.color}<br>chi=%{customdata[1]}<br>obs_id=%{customdata[2]}\", \"hovertext\": [54467.5166782407, 55370.1013888889, 55375.24375, 55381.792361111104, 55798.51875, 55868.2625, 56199.1249884259, 56199.999293981506, 56209.5541550926, 56210.0152546296, 56911.8472685185, 56912.2706481482, 56912.581388888895, 56913.3312384259, 56913.782337963, 56914.7877662037, 56915.054293981506, 56915.186099537, 56917.586099537, 56919.9159606481, 56923.0465162037, 56930.51387731481, 56932.036793981504, 56936.9680324074, 56938.572905092595, 56945.036805555595, 56945.3590162037, 56949.0374768519, 56950.7687384259, 56955.479155092595, 56955.5506828704, 57233.016643518495, 58293.716087962996, 58309.0562152778, 58309.0596875, 58316.2263541667, 58316.2312152778, 58323.9312152778, 58330.8520486111, 58338.35273148151, 58339.7409375, 58340.13954861111, 58341.136076388895, 58343.854131944405, 58346.3735763889, 58349.0964814815, 58350.291631944405, 58351.097881944406, 58353.2180208333, 58354.8138541667, 58355.6756597222, 58356.6728819444, 58357.4707986111, 58358.666631944405, 58359.8659375, 58360.3312152778, 58361.6610763889, 58362.056909722196, 58363.1201041667, 58364.7138541667, 58365.306909722196, 58365.7742708333, 58366.0388657407, 58367.7805208333, 58374.9451041667, 58379.9826041667, 58380.9826041667, 58382.90413194441, 58384.693715277805, 58386.831412037005, 58390.6694097222, 58392.92981481481, 58395.6451041667, 58399.4492708333, 58404.0200925926, 58406.9451041667, 58408.8812268519, 58410.004131944406, 58413.323576388895, 58419.5673263889, 58422.8159375, 58431.715243055594, 58434.5753935185, 58437.219143518494, 58440.3392824074, 58443.467777777805, 58446.7865162037, 58452.9733333333, 58455.4175115741, 58458.947615740704, 58464.8552777778, 58467.513587962996, 58470.233043981505, 58476.27262731481, 58483.1788888889, 58497.4559722222, 58500.6427662037, 58503.3629166667, 58506.3649768519, 58512.469837963, 58516.0580439815, 58519.0434606482, 58521.8976157407, 58524.222615740706, 58528.7462268519, 58530.1295833333, 58534.4655902778, 58543.937222222194, 58546.3344444444, 58549.3149884259, 58552.3712384259, 58555.493472222195, 58558.0261111111, 58561.2149884259, 58572.8996990741, 58575.155960648095, 58582.9879166667, 58589.030277777805, 58596.942071759295, 58603.5122337963, 58610.2830324074, 58617.063587963, 58624.230266203704, 58634.7811342593, 58635.7103587963, 58637.4531828704, 58641.294837962996, 58644.8233449074, 58645.75085648151, 58647.213587963, 58648.9906828704, 58653.0365162037, 58654.4469328704, 58660.6809490741, 58667.9281712963, 58674.7621990741, 58681.2740162037, 58695.218472222194, 58713.28375, 58716.5948611111, 58731.9441550926, 58745.74137731481, 58752.9816550926, 58759.880243055595, 58766.13096064809, 58773.9677546296, 58796.6726388889, 58801.065694444405, 58815.0017824074, 58822.2483101852, 58829.013599537], \"legendgroup\": \"\", \"marker\": {\"color\": [54467.5166782407, 55370.1013888889, 55375.24375, 55381.792361111104, 55798.51875, 55868.2625, 56199.1249884259, 56199.999293981506, 56209.5541550926, 56210.0152546296, 56911.8472685185, 56912.2706481482, 56912.581388888895, 56913.3312384259, 56913.782337963, 56914.7877662037, 56915.054293981506, 56915.186099537, 56917.586099537, 56919.9159606481, 56923.0465162037, 56930.51387731481, 56932.036793981504, 56936.9680324074, 56938.572905092595, 56945.036805555595, 56945.3590162037, 56949.0374768519, 56950.7687384259, 56955.479155092595, 56955.5506828704, 57233.016643518495, 58293.716087962996, 58309.0562152778, 58309.0596875, 58316.2263541667, 58316.2312152778, 58323.9312152778, 58330.8520486111, 58338.35273148151, 58339.7409375, 58340.13954861111, 58341.136076388895, 58343.854131944405, 58346.3735763889, 58349.0964814815, 58350.291631944405, 58351.097881944406, 58353.2180208333, 58354.8138541667, 58355.6756597222, 58356.6728819444, 58357.4707986111, 58358.666631944405, 58359.8659375, 58360.3312152778, 58361.6610763889, 58362.056909722196, 58363.1201041667, 58364.7138541667, 58365.306909722196, 58365.7742708333, 58366.0388657407, 58367.7805208333, 58374.9451041667, 58379.9826041667, 58380.9826041667, 58382.90413194441, 58384.693715277805, 58386.831412037005, 58390.6694097222, 58392.92981481481, 58395.6451041667, 58399.4492708333, 58404.0200925926, 58406.9451041667, 58408.8812268519, 58410.004131944406, 58413.323576388895, 58419.5673263889, 58422.8159375, 58431.715243055594, 58434.5753935185, 58437.219143518494, 58440.3392824074, 58443.467777777805, 58446.7865162037, 58452.9733333333, 58455.4175115741, 58458.947615740704, 58464.8552777778, 58467.513587962996, 58470.233043981505, 58476.27262731481, 58483.1788888889, 58497.4559722222, 58500.6427662037, 58503.3629166667, 58506.3649768519, 58512.469837963, 58516.0580439815, 58519.0434606482, 58521.8976157407, 58524.222615740706, 58528.7462268519, 58530.1295833333, 58534.4655902778, 58543.937222222194, 58546.3344444444, 58549.3149884259, 58552.3712384259, 58555.493472222195, 58558.0261111111, 58561.2149884259, 58572.8996990741, 58575.155960648095, 58582.9879166667, 58589.030277777805, 58596.942071759295, 58603.5122337963, 58610.2830324074, 58617.063587963, 58624.230266203704, 58634.7811342593, 58635.7103587963, 58637.4531828704, 58641.294837962996, 58644.8233449074, 58645.75085648151, 58647.213587963, 58648.9906828704, 58653.0365162037, 58654.4469328704, 58660.6809490741, 58667.9281712963, 58674.7621990741, 58681.2740162037, 58695.218472222194, 58713.28375, 58716.5948611111, 58731.9441550926, 58745.74137731481, 58752.9816550926, 58759.880243055595, 58766.13096064809, 58773.9677546296, 58796.6726388889, 58801.065694444405, 58815.0017824074, 58822.2483101852, 58829.013599537], \"coloraxis\": \"coloraxis\", \"symbol\": \"circle\"}, \"mode\": \"markers\", \"name\": \"\", \"showlegend\": false, \"type\": \"scatter\", \"x\": [1.3535480483263035e-11, 1.0650230502851076e-11, 6.207365259269335e-12, 6.6868532138208885e-12, 1.2167138497340678e-11, 5.703281240410761e-12, 4.562123124131462e-12, 4.005657463122902e-12, 3.925979276304184e-12, 4.079123923787765e-12, 2.2089111067004226e-12, 3.4611470723432934e-12, 2.9090278748356376e-12, 3.4476894450936868e-12, 2.3286741024089947e-12, 4.033669005844148e-12, 3.292298827158947e-12, 3.7459131863987665e-12, 4.62220193690108e-12, 3.2109534073355816e-12, 2.214677761433787e-12, 1.6493718446500825e-12, 2.291382761972198e-12, 1.6866684492295845e-12, 2.778400835522976e-12, 2.959728546828509e-12, 2.5561652917789222e-12, 5.324057974153646e-12, 2.1865294235558417e-12, 3.908817350908908e-12, 3.886027349639412e-12, 2.356487335377439e-12, 6.625826771641199e-11, 1.0481850048871972e-10, 6.192855786780018e-11, 8.586429882386545e-11, 7.453243787749533e-11, 5.450581032221992e-11, 6.603320159076824e-11, 6.157264061923922e-11, 6.471496872972831e-11, 4.169455890890953e-11, 4.596866303699616e-11, 4.457556209084958e-11, 7.774983789489675e-11, 2.3203136529688523e-11, 6.118724732959685e-11, 4.579511120592468e-11, 3.0852238126737397e-11, 4.59176601376293e-11, 4.242515815977956e-11, 3.9113096800532574e-11, 4.6553869338802045e-11, 3.6062254223206454e-11, 3.734500458714848e-11, 3.169470625200289e-11, 2.7515076141622494e-11, 1.924761573992424e-11, 2.1341601662088007e-11, 3.070998285204145e-11, 2.272509113591745e-11, 3.466539330493047e-11, 3.2004000463913844e-11, 3.5749341093825546e-11, 1.803046369207649e-11, 1.9191349684168035e-11, 1.611637777080371e-11, 1.636949418827893e-11, 1.832727602828164e-11, 2.325794240202514e-11, 2.491280013408525e-11, 2.987108728496946e-11, 1.9245363270737287e-11, 1.966142930556384e-11, 3.0362969185068234e-11, 1.9794726559598533e-11, 1.5228028063994745e-11, 1.4804617808456367e-11, 1.2691345733948822e-11, 1.578221490287832e-11, 1.1783677916536553e-11, 2.913126880504804e-11, 9.345444754050502e-12, 1.2962867301346342e-11, 1.6174500402912946e-11, 1.7048790899947295e-11, 2.023132862623715e-11, 3.1537180547369066e-11, 3.0585536679116765e-11, 2.469357434884967e-11, 3.9460927437959096e-11, 3.5386877225903646e-11, 5.188143250520664e-11, 1.7710916924587955e-11, 1.8227736779078163e-11, 7.473258237618859e-12, 1.0912320513654711e-11, 9.89644908108866e-12, 9.172167200338843e-12, 9.504281773646547e-12, 8.118034067682685e-12, 8.509895232171047e-12, 7.805661233289554e-12, 9.101126824825193e-12, 1.0989344890345916e-11, 9.595610556266068e-12, 9.920103034548713e-12, 7.450088505112451e-12, 4.929820481699129e-12, 8.912819966444203e-12, 7.85329129038003e-12, 5.888690332151465e-12, 5.5444296554495885e-12, 8.284472929642763e-12, 7.710242356383268e-12, 6.035991119260466e-12, 6.260484199477594e-12, 7.172389593979036e-12, 1.0671972147238317e-11, 8.297936388856367e-12, 8.049553030724005e-12, 7.60001414685827e-12, 3.4581357848359477e-12, 2.273970307467577e-11, 2.5979026841609147e-11, 1.5630524922000824e-11, 2.100490418671026e-11, 1.8754162495767406e-11, 2.22562090040788e-11, 1.1071809082494836e-11, 6.954035766933571e-12, 6.0536671378103765e-12, 6.931770178654997e-12, 1.1313773627757338e-11, 9.68629239309526e-12, 1.0801890457035464e-11, 3.213745969466191e-11, 1.817135435126989e-11, 1.6582766242372782e-11, 1.0766993826503268e-11, 2.902044062287612e-11, 1.4974880449134846e-11, 1.3973024859184006e-11, 8.324699157076634e-12, 5.5694820008527616e-12, 1.0586694540104609e-11, 1.2471181996915785e-11, 1.2163704510424685e-11, 8.210766667197821e-12, 1.710417162738393e-11, 1.3455430300172052e-11], \"xaxis\": \"x\", \"y\": [1.5450569100859728, 1.5965982498566638, 1.7294920954519688, 1.5498556347590726, 1.4622837174751733, 1.6861209702023323, 1.57749909327081, 1.5541123811868551, 1.4251464375817413, 1.4527923225796988, 1.7773467619651249, 1.528249180414213, 1.7043750230816663, 1.5187443078688674, 1.6159384512773338, 1.5827580169149107, 1.590095022425369, 1.645454254948702, 1.4275809308722642, 1.5754756659313391, 1.5722999135655988, 2.132113988360812, 1.465345414137225, 1.8281784866145463, 1.333869169036208, 1.6177195613440314, 1.6950384033544292, 1.5582189767657515, 2.2537898058502512, 1.371481936713666, 1.5160978827950522, 1.998220715688482, 1.772129613108417, 1.3978537134030389, 1.8058735625958688, 1.7763866940113495, 1.8910662981331083, 2.043654476161958, 1.9135223233969323, 1.740586319792521, 1.8694796406360803, 1.768524251139746, 1.7402182376518394, 1.8358826086896745, 1.7687359041260764, 1.8089456356831264, 1.7676810105204332, 1.6652607913562765, 1.8227590649650895, 1.7125383560231031, 1.643058206638098, 1.7307733862976538, 1.6782192713929582, 1.6666012690758627, 1.6355088265331743, 1.519693168199434, 1.5408224300389641, 1.7089444446005309, 1.7849944104471076, 1.7525908308086018, 1.6272613896151498, 1.776241843927449, 1.667371417198577, 1.5087623015367446, 1.769724189250821, 1.7354685032332469, 1.7149812925012016, 1.7010050024834686, 1.6198002249564705, 1.6784163731525137, 1.6203094605355666, 1.5778731335128673, 1.5602863184015894, 1.5370902725476057, 1.550334386606088, 1.4354360595584654, 1.4526391789259447, 1.5142528969650388, 1.7242521180764927, 1.5935411789622511, 1.7953454325716949, 1.5852852591847792, 1.5484147898369345, 1.6598175490294502, 1.462874307065681, 1.7090756538547598, 1.5675836097520215, 1.5212005459262208, 1.6904122266897204, 1.7687650387502134, 1.7828334042752776, 1.7087187956980667, 1.641248694017781, 1.5441747936280348, 1.603041810127814, 1.6925071808914476, 1.5968848159202231, 1.6333427942592105, 1.6595316891212784, 1.5607281190091151, 1.8002864535953849, 1.5430008481792714, 1.4513821531021838, 1.4940672857147332, 1.5113945852950317, 1.5346411417590824, 1.6586515364254308, 1.6790600470610495, 1.7264003227250408, 1.502137471800329, 1.4613934605320438, 1.6755357254751824, 1.5682185055812654, 1.7460495317696652, 1.354808669244678, 1.632410882004886, 1.6708629324900357, 1.514650051340806, 1.4701965701698492, 1.4364962756679405, 1.5838248055769732, 1.5720724241439412, 1.5696236117581448, 1.7065546950657713, 1.6784358360121394, 1.543283419266814, 1.199891506117029, 1.4769162588380322, 1.5749616625365606, 1.6694370415258888, 1.5997960753244718, 1.8786337349318818, 1.6593495918063126, 1.5067573514773118, 1.7777994559961554, 1.7341538571774289, 1.524278210123124, 1.6358442170611849, 1.5138324521144817, 1.5617138941288151, 1.504761435124741, 1.5461896879310812, 1.6763762315069235, 1.6469247997140632, 1.7463705674291037, 1.6454241234999312, 1.4183220095327989, 1.2543410396692298, 1.7849386171235704, 1.4646669022577443, 1.4616107753569942], \"yaxis\": \"y\"}],\n",
       "                        {\"coloraxis\": {\"colorbar\": {\"title\": {\"text\": \"obs_time\"}}, \"colorscale\": [[0.0, \"#0d0887\"], [0.1111111111111111, \"#46039f\"], [0.2222222222222222, \"#7201a8\"], [0.3333333333333333, \"#9c179e\"], [0.4444444444444444, \"#bd3786\"], [0.5555555555555556, \"#d8576b\"], [0.6666666666666666, \"#ed7953\"], [0.7777777777777778, \"#fb9f3a\"], [0.8888888888888888, \"#fdca26\"], [1.0, \"#f0f921\"]]}, \"height\": 600, \"legend\": {\"tracegroupgap\": 0}, \"margin\": {\"t\": 60}, \"template\": {\"data\": {\"bar\": [{\"error_x\": {\"color\": \"#2a3f5f\"}, \"error_y\": {\"color\": \"#2a3f5f\"}, \"marker\": {\"line\": {\"color\": \"#E5ECF6\", \"width\": 0.5}}, \"type\": \"bar\"}], \"barpolar\": [{\"marker\": {\"line\": {\"color\": \"#E5ECF6\", \"width\": 0.5}}, \"type\": \"barpolar\"}], \"carpet\": [{\"aaxis\": {\"endlinecolor\": \"#2a3f5f\", \"gridcolor\": \"white\", \"linecolor\": \"white\", \"minorgridcolor\": \"white\", \"startlinecolor\": \"#2a3f5f\"}, \"baxis\": {\"endlinecolor\": \"#2a3f5f\", \"gridcolor\": \"white\", \"linecolor\": \"white\", \"minorgridcolor\": \"white\", \"startlinecolor\": \"#2a3f5f\"}, \"type\": \"carpet\"}], \"choropleth\": [{\"colorbar\": {\"outlinewidth\": 0, \"ticks\": \"\"}, \"type\": \"choropleth\"}], \"contour\": [{\"colorbar\": {\"outlinewidth\": 0, \"ticks\": \"\"}, \"colorscale\": [[0.0, \"#0d0887\"], [0.1111111111111111, \"#46039f\"], [0.2222222222222222, \"#7201a8\"], [0.3333333333333333, \"#9c179e\"], [0.4444444444444444, \"#bd3786\"], [0.5555555555555556, \"#d8576b\"], [0.6666666666666666, \"#ed7953\"], [0.7777777777777778, \"#fb9f3a\"], [0.8888888888888888, \"#fdca26\"], [1.0, \"#f0f921\"]], \"type\": \"contour\"}], \"contourcarpet\": [{\"colorbar\": {\"outlinewidth\": 0, \"ticks\": \"\"}, \"type\": \"contourcarpet\"}], \"heatmap\": [{\"colorbar\": {\"outlinewidth\": 0, \"ticks\": \"\"}, \"colorscale\": [[0.0, \"#0d0887\"], [0.1111111111111111, \"#46039f\"], [0.2222222222222222, \"#7201a8\"], [0.3333333333333333, \"#9c179e\"], [0.4444444444444444, \"#bd3786\"], [0.5555555555555556, \"#d8576b\"], [0.6666666666666666, \"#ed7953\"], [0.7777777777777778, \"#fb9f3a\"], [0.8888888888888888, \"#fdca26\"], [1.0, \"#f0f921\"]], \"type\": \"heatmap\"}], \"heatmapgl\": [{\"colorbar\": {\"outlinewidth\": 0, \"ticks\": \"\"}, \"colorscale\": [[0.0, \"#0d0887\"], [0.1111111111111111, \"#46039f\"], [0.2222222222222222, \"#7201a8\"], [0.3333333333333333, \"#9c179e\"], [0.4444444444444444, \"#bd3786\"], [0.5555555555555556, \"#d8576b\"], [0.6666666666666666, \"#ed7953\"], [0.7777777777777778, \"#fb9f3a\"], [0.8888888888888888, \"#fdca26\"], [1.0, \"#f0f921\"]], \"type\": \"heatmapgl\"}], \"histogram\": [{\"marker\": {\"colorbar\": {\"outlinewidth\": 0, \"ticks\": \"\"}}, \"type\": \"histogram\"}], \"histogram2d\": [{\"colorbar\": {\"outlinewidth\": 0, \"ticks\": \"\"}, \"colorscale\": [[0.0, \"#0d0887\"], [0.1111111111111111, \"#46039f\"], [0.2222222222222222, \"#7201a8\"], [0.3333333333333333, \"#9c179e\"], [0.4444444444444444, \"#bd3786\"], [0.5555555555555556, \"#d8576b\"], [0.6666666666666666, \"#ed7953\"], [0.7777777777777778, \"#fb9f3a\"], [0.8888888888888888, \"#fdca26\"], [1.0, \"#f0f921\"]], \"type\": \"histogram2d\"}], \"histogram2dcontour\": [{\"colorbar\": {\"outlinewidth\": 0, \"ticks\": \"\"}, \"colorscale\": [[0.0, \"#0d0887\"], [0.1111111111111111, \"#46039f\"], [0.2222222222222222, \"#7201a8\"], [0.3333333333333333, \"#9c179e\"], [0.4444444444444444, \"#bd3786\"], [0.5555555555555556, \"#d8576b\"], [0.6666666666666666, \"#ed7953\"], [0.7777777777777778, \"#fb9f3a\"], [0.8888888888888888, \"#fdca26\"], [1.0, \"#f0f921\"]], \"type\": \"histogram2dcontour\"}], \"mesh3d\": [{\"colorbar\": {\"outlinewidth\": 0, \"ticks\": \"\"}, \"type\": \"mesh3d\"}], \"parcoords\": [{\"line\": {\"colorbar\": {\"outlinewidth\": 0, \"ticks\": \"\"}}, \"type\": \"parcoords\"}], \"pie\": [{\"automargin\": true, \"type\": \"pie\"}], \"scatter\": [{\"marker\": {\"colorbar\": {\"outlinewidth\": 0, \"ticks\": \"\"}}, \"type\": \"scatter\"}], \"scatter3d\": [{\"line\": {\"colorbar\": {\"outlinewidth\": 0, \"ticks\": \"\"}}, \"marker\": {\"colorbar\": {\"outlinewidth\": 0, \"ticks\": \"\"}}, \"type\": \"scatter3d\"}], \"scattercarpet\": [{\"marker\": {\"colorbar\": {\"outlinewidth\": 0, \"ticks\": \"\"}}, \"type\": \"scattercarpet\"}], \"scattergeo\": [{\"marker\": {\"colorbar\": {\"outlinewidth\": 0, \"ticks\": \"\"}}, \"type\": \"scattergeo\"}], \"scattergl\": [{\"marker\": {\"colorbar\": {\"outlinewidth\": 0, \"ticks\": \"\"}}, \"type\": \"scattergl\"}], \"scattermapbox\": [{\"marker\": {\"colorbar\": {\"outlinewidth\": 0, \"ticks\": \"\"}}, \"type\": \"scattermapbox\"}], \"scatterpolar\": [{\"marker\": {\"colorbar\": {\"outlinewidth\": 0, \"ticks\": \"\"}}, \"type\": \"scatterpolar\"}], \"scatterpolargl\": [{\"marker\": {\"colorbar\": {\"outlinewidth\": 0, \"ticks\": \"\"}}, \"type\": \"scatterpolargl\"}], \"scatterternary\": [{\"marker\": {\"colorbar\": {\"outlinewidth\": 0, \"ticks\": \"\"}}, \"type\": \"scatterternary\"}], \"surface\": [{\"colorbar\": {\"outlinewidth\": 0, \"ticks\": \"\"}, \"colorscale\": [[0.0, \"#0d0887\"], [0.1111111111111111, \"#46039f\"], [0.2222222222222222, \"#7201a8\"], [0.3333333333333333, \"#9c179e\"], [0.4444444444444444, \"#bd3786\"], [0.5555555555555556, \"#d8576b\"], [0.6666666666666666, \"#ed7953\"], [0.7777777777777778, \"#fb9f3a\"], [0.8888888888888888, \"#fdca26\"], [1.0, \"#f0f921\"]], \"type\": \"surface\"}], \"table\": [{\"cells\": {\"fill\": {\"color\": \"#EBF0F8\"}, \"line\": {\"color\": \"white\"}}, \"header\": {\"fill\": {\"color\": \"#C8D4E3\"}, \"line\": {\"color\": \"white\"}}, \"type\": \"table\"}]}, \"layout\": {\"annotationdefaults\": {\"arrowcolor\": \"#2a3f5f\", \"arrowhead\": 0, \"arrowwidth\": 1}, \"coloraxis\": {\"colorbar\": {\"outlinewidth\": 0, \"ticks\": \"\"}}, \"colorscale\": {\"diverging\": [[0, \"#8e0152\"], [0.1, \"#c51b7d\"], [0.2, \"#de77ae\"], [0.3, \"#f1b6da\"], [0.4, \"#fde0ef\"], [0.5, \"#f7f7f7\"], [0.6, \"#e6f5d0\"], [0.7, \"#b8e186\"], [0.8, \"#7fbc41\"], [0.9, \"#4d9221\"], [1, \"#276419\"]], \"sequential\": [[0.0, \"#0d0887\"], [0.1111111111111111, \"#46039f\"], [0.2222222222222222, \"#7201a8\"], [0.3333333333333333, \"#9c179e\"], [0.4444444444444444, \"#bd3786\"], [0.5555555555555556, \"#d8576b\"], [0.6666666666666666, \"#ed7953\"], [0.7777777777777778, \"#fb9f3a\"], [0.8888888888888888, \"#fdca26\"], [1.0, \"#f0f921\"]], \"sequentialminus\": [[0.0, \"#0d0887\"], [0.1111111111111111, \"#46039f\"], [0.2222222222222222, \"#7201a8\"], [0.3333333333333333, \"#9c179e\"], [0.4444444444444444, \"#bd3786\"], [0.5555555555555556, \"#d8576b\"], [0.6666666666666666, \"#ed7953\"], [0.7777777777777778, \"#fb9f3a\"], [0.8888888888888888, \"#fdca26\"], [1.0, \"#f0f921\"]]}, \"colorway\": [\"#636efa\", \"#EF553B\", \"#00cc96\", \"#ab63fa\", \"#FFA15A\", \"#19d3f3\", \"#FF6692\", \"#B6E880\", \"#FF97FF\", \"#FECB52\"], \"font\": {\"color\": \"#2a3f5f\"}, \"geo\": {\"bgcolor\": \"white\", \"lakecolor\": \"white\", \"landcolor\": \"#E5ECF6\", \"showlakes\": true, \"showland\": true, \"subunitcolor\": \"white\"}, \"hoverlabel\": {\"align\": \"left\"}, \"hovermode\": \"closest\", \"mapbox\": {\"style\": \"light\"}, \"paper_bgcolor\": \"white\", \"plot_bgcolor\": \"#E5ECF6\", \"polar\": {\"angularaxis\": {\"gridcolor\": \"white\", \"linecolor\": \"white\", \"ticks\": \"\"}, \"bgcolor\": \"#E5ECF6\", \"radialaxis\": {\"gridcolor\": \"white\", \"linecolor\": \"white\", \"ticks\": \"\"}}, \"scene\": {\"xaxis\": {\"backgroundcolor\": \"#E5ECF6\", \"gridcolor\": \"white\", \"gridwidth\": 2, \"linecolor\": \"white\", \"showbackground\": true, \"ticks\": \"\", \"zerolinecolor\": \"white\"}, \"yaxis\": {\"backgroundcolor\": \"#E5ECF6\", \"gridcolor\": \"white\", \"gridwidth\": 2, \"linecolor\": \"white\", \"showbackground\": true, \"ticks\": \"\", \"zerolinecolor\": \"white\"}, \"zaxis\": {\"backgroundcolor\": \"#E5ECF6\", \"gridcolor\": \"white\", \"gridwidth\": 2, \"linecolor\": \"white\", \"showbackground\": true, \"ticks\": \"\", \"zerolinecolor\": \"white\"}}, \"shapedefaults\": {\"line\": {\"color\": \"#2a3f5f\"}}, \"ternary\": {\"aaxis\": {\"gridcolor\": \"white\", \"linecolor\": \"white\", \"ticks\": \"\"}, \"baxis\": {\"gridcolor\": \"white\", \"linecolor\": \"white\", \"ticks\": \"\"}, \"bgcolor\": \"#E5ECF6\", \"caxis\": {\"gridcolor\": \"white\", \"linecolor\": \"white\", \"ticks\": \"\"}}, \"title\": {\"x\": 0.05}, \"xaxis\": {\"automargin\": true, \"gridcolor\": \"white\", \"linecolor\": \"white\", \"ticks\": \"\", \"title\": {\"standoff\": 15}, \"zerolinecolor\": \"white\", \"zerolinewidth\": 2}, \"yaxis\": {\"automargin\": true, \"gridcolor\": \"white\", \"linecolor\": \"white\", \"ticks\": \"\", \"title\": {\"standoff\": 15}, \"zerolinecolor\": \"white\", \"zerolinewidth\": 2}}}, \"title\": {\"text\": \"\"}, \"width\": 800, \"xaxis\": {\"anchor\": \"y\", \"domain\": [0.0, 1.0], \"nticks\": 4, \"tickformat\": \"0.1e\", \"title\": {\"text\": \"flux\"}, \"type\": \"log\"}, \"yaxis\": {\"anchor\": \"x\", \"domain\": [0.0, 1.0], \"nticks\": 10, \"tickformat\": \"0.2f\", \"title\": {\"text\": \"gamma\"}, \"type\": \"linear\"}},\n",
       "                        {\"responsive\": true}\n",
       "                    ).then(function(){\n",
       "                            \n",
       "var gd = document.getElementById('1f09f4f9-61ea-4401-b0e1-8746c3ee1945');\n",
       "var x = new MutationObserver(function (mutations, observer) {{\n",
       "        var display = window.getComputedStyle(gd).display;\n",
       "        if (!display || display === 'none') {{\n",
       "            console.log([gd, 'removed!']);\n",
       "            Plotly.purge(gd);\n",
       "            observer.disconnect();\n",
       "        }}\n",
       "}});\n",
       "\n",
       "// Listen for the removal of the full notebook cells\n",
       "var notebookContainer = gd.closest('#notebook-container');\n",
       "if (notebookContainer) {{\n",
       "    x.observe(notebookContainer, {childList: true});\n",
       "}}\n",
       "\n",
       "// Listen for the clearing of the current output cell\n",
       "var outputEl = gd.closest('.output');\n",
       "if (outputEl) {{\n",
       "    x.observe(outputEl, {childList: true});\n",
       "}}\n",
       "\n",
       "                        })\n",
       "                };\n",
       "                });\n",
       "            </script>\n",
       "        </div>"
      ]
     },
     "metadata": {},
     "output_type": "display_data"
    }
   ],
   "source": [
    "\n",
    "import plotly_express as px\n",
    "\n",
    "fig = px.scatter(data_xrt_goodfit_NGC1566, x='xflux',error_x='xflux_up',\n",
    "                 error_x_minus='xflux_lo',y='gamma',error_y='gamma_up',error_y_minus='gamma_lo',\n",
    "                 hover_name=\"obs_time\",hover_data=['obs_time','chi','obs_id'],\n",
    "                 size_max=15,color='obs_time')\n",
    "\n",
    "\n",
    "fig.update_xaxes(tickformat= \"0.1e\",nticks=4,type=\"log\",title_text=\"flux\")\n",
    "fig.update_yaxes(tickformat= \"0.2f\",nticks=10,type=\"linear\",title_text=\"gamma\")\n",
    "fig.update_layout(title_text=\"\", width = 800,height = 600)\n",
    "#fig.update_xaxes(range=[np.log10(2e-4),np.log10(1e-2)])\n",
    "#fig.update_yaxes(range=[1.0,2.5])\n",
    "fig.show()\n",
    "#fig.write_image('xray-paper-g-eddrate.gif')\n",
    "#fig.write_image('xray-paper-g-eddrate.png')\n",
    "fig.write_html('/Users/brettlv/Downloads/NGC1566/g-f-with-time.html')"
   ]
  },
  {
   "cell_type": "code",
   "execution_count": 15,
   "metadata": {
    "ExecuteTime": {
     "end_time": "2020-06-29T15:25:13.726830Z",
     "start_time": "2020-06-29T15:25:13.694471Z"
    },
    "collapsed": false
   },
   "outputs": [
    {
     "ename": "TypeError",
     "evalue": "scatter() got an unexpected keyword argument 'animation'",
     "output_type": "error",
     "traceback": [
      "\u001b[0;31m---------------------------------------------------------------------------\u001b[0m",
      "\u001b[0;31mTypeError\u001b[0m                                 Traceback (most recent call last)",
      "\u001b[0;32m<ipython-input-15-b8828659fe6a>\u001b[0m in \u001b[0;36m<module>\u001b[0;34m()\u001b[0m\n\u001b[1;32m      5\u001b[0m                  \u001b[0merror_x_minus\u001b[0m\u001b[0;34m=\u001b[0m\u001b[0;34m'xflux_lo'\u001b[0m\u001b[0;34m,\u001b[0m\u001b[0my\u001b[0m\u001b[0;34m=\u001b[0m\u001b[0;34m'gamma'\u001b[0m\u001b[0;34m,\u001b[0m\u001b[0merror_y\u001b[0m\u001b[0;34m=\u001b[0m\u001b[0;34m'gamma_up'\u001b[0m\u001b[0;34m,\u001b[0m\u001b[0merror_y_minus\u001b[0m\u001b[0;34m=\u001b[0m\u001b[0;34m'gamma_lo'\u001b[0m\u001b[0;34m,\u001b[0m\u001b[0;34m\u001b[0m\u001b[0m\n\u001b[1;32m      6\u001b[0m                  \u001b[0mhover_name\u001b[0m\u001b[0;34m=\u001b[0m\u001b[0;34m\"obs_time\"\u001b[0m\u001b[0;34m,\u001b[0m\u001b[0mhover_data\u001b[0m\u001b[0;34m=\u001b[0m\u001b[0;34m[\u001b[0m\u001b[0;34m'obs_time'\u001b[0m\u001b[0;34m,\u001b[0m\u001b[0;34m'chi'\u001b[0m\u001b[0;34m,\u001b[0m\u001b[0;34m'obs_id'\u001b[0m\u001b[0;34m]\u001b[0m\u001b[0;34m,\u001b[0m\u001b[0;34m\u001b[0m\u001b[0m\n\u001b[0;32m----> 7\u001b[0;31m                  size_max=15,color='obs_time',animation='obs_time')\n\u001b[0m\u001b[1;32m      8\u001b[0m \u001b[0;34m\u001b[0m\u001b[0m\n\u001b[1;32m      9\u001b[0m \u001b[0;34m\u001b[0m\u001b[0m\n",
      "\u001b[0;31mTypeError\u001b[0m: scatter() got an unexpected keyword argument 'animation'"
     ]
    }
   ],
   "source": [
    "\n",
    "import plotly_express as px\n",
    "\n",
    "fig = px.scatter(data_xrt_goodfit_NGC1566, x='xflux',error_x='xflux_up',\n",
    "                 error_x_minus='xflux_lo',y='gamma',error_y='gamma_up',error_y_minus='gamma_lo',\n",
    "                 hover_name=\"obs_time\",hover_data=['obs_time','chi','obs_id'],\n",
    "                 size_max=15,color='obs_time',animation='obs_time')\n",
    "\n",
    "\n",
    "fig.update_xaxes(tickformat= \"0.1e\",nticks=4,type=\"log\",title_text=\"flux\")\n",
    "fig.update_yaxes(tickformat= \"0.2f\",nticks=10,type=\"linear\",title_text=\"gamma\")\n",
    "fig.update_layout(title_text=\"\", width = 800,height = 600)\n",
    "#fig.update_xaxes(range=[np.log10(2e-4),np.log10(1e-2)])\n",
    "#fig.update_yaxes(range=[1.0,2.5])\n",
    "fig.show()\n",
    "#fig.write_image('xray-paper-g-eddrate.gif')\n",
    "#fig.write_image('xray-paper-g-eddrate.png')\n",
    "fig.write_html('/Users/brettlv/Downloads/NGC1566/g-f-with-time.html')"
   ]
  },
  {
   "cell_type": "code",
   "execution_count": null,
   "metadata": {
    "collapsed": true
   },
   "outputs": [],
   "source": []
  },
  {
   "cell_type": "markdown",
   "metadata": {},
   "source": [
    "A(E) \\prop E^{-\\Gamma}\n",
    "F_v \\prop v^{-\\alpha}\n",
    "\\Gamma=\\alpha+1"
   ]
  },
  {
   "cell_type": "markdown",
   "metadata": {},
   "source": [
    "## XRT_good_fit"
   ]
  },
  {
   "cell_type": "code",
   "execution_count": null,
   "metadata": {
    "ExecuteTime": {
     "end_time": "2020-06-27T21:30:57.377827Z",
     "start_time": "2020-06-27T21:30:57.325788Z"
    },
    "collapsed": true
   },
   "outputs": [],
   "source": [
    "v_1keV=2.418e17 #Hz\n",
    "alpha_goodfit=data_xrt_goodfit_NGC1566['gamma']-1\n",
    "\n",
    "data_xrt_goodfit_NGC1566['F_{1keV}']=data_xrt_goodfit_NGC1566['xflux']*(1-alpha_goodfit)/(10**(1-alpha_goodfit)-1)/v_1keV\n",
    "data_xrt_goodfit_NGC1566['F_{2keV}']=2**(-alpha_goodfit)*data_xrt_goodfit_NGC1566['F_{1keV}']\n",
    "data_xrt_goodfit_NGC1566['F_{4keV}']=4**(-alpha_goodfit)*data_xrt_goodfit_NGC1566['F_{1keV}']\n",
    "data_xrt_goodfit_NGC1566['F_{6keV}']=6**(-alpha_goodfit)*data_xrt_goodfit_NGC1566['F_{1keV}']\n",
    "data_xrt_goodfit_NGC1566['F_{8keV}']=8**(-alpha_goodfit)*data_xrt_goodfit_NGC1566['F_{1keV}']\n",
    "data_xrt_goodfit_NGC1566['F_{10keV}']=10**(-alpha_goodfit)*data_xrt_goodfit_NGC1566['F_{1keV}']"
   ]
  },
  {
   "cell_type": "code",
   "execution_count": null,
   "metadata": {
    "ExecuteTime": {
     "end_time": "2020-06-27T21:31:02.238268Z",
     "start_time": "2020-06-27T21:31:02.226852Z"
    },
    "collapsed": false
   },
   "outputs": [],
   "source": [
    "data_xrt_goodfit_NGC1566.columns"
   ]
  },
  {
   "cell_type": "markdown",
   "metadata": {
    "ExecuteTime": {
     "end_time": "2020-06-27T21:31:06.232965Z",
     "start_time": "2020-06-27T21:31:06.185538Z"
    }
   },
   "source": [
    "alpha=gamma-1"
   ]
  },
  {
   "cell_type": "markdown",
   "metadata": {},
   "source": [
    "## cal_mono_flux"
   ]
  },
  {
   "cell_type": "code",
   "execution_count": null,
   "metadata": {
    "collapsed": true
   },
   "outputs": [],
   "source": [
    "v2=k*v1\n",
    "F_{v}=m*v**(-gamma)\n",
    "F_{v1}=F_{v1-v2}*(1-gamma)/(k**(1-gamma)-1)/v2"
   ]
  },
  {
   "cell_type": "code",
   "execution_count": null,
   "metadata": {
    "collapsed": true
   },
   "outputs": [],
   "source": [
    "F_{2keV}=F_{2-10keV}*(1-gamma)/(5**(1-g)-1)/v_{2keV}"
   ]
  },
  {
   "cell_type": "code",
   "execution_count": null,
   "metadata": {
    "collapsed": true
   },
   "outputs": [],
   "source": [
    "F_{1keV}=F_{1-10keV}*(1-gamma)/(10**(1-g)-1)/v_{1keV}\n",
    "\n",
    "F_{2keV}=2**(-g)*F_{1keV}\n",
    "\n"
   ]
  },
  {
   "cell_type": "markdown",
   "metadata": {
    "ExecuteTime": {
     "end_time": "2020-06-27T11:29:35.672317Z",
     "start_time": "2020-06-27T11:29:35.662261Z"
    }
   },
   "source": [
    "np.sum(data_xrt_goodfit_NGC1566[data_xrt_goodfit_NGC1566.columns[2]]==1.0)"
   ]
  },
  {
   "cell_type": "markdown",
   "metadata": {},
   "source": [
    "## ASAS-SN -48.8"
   ]
  },
  {
   "cell_type": "code",
   "execution_count": null,
   "metadata": {
    "ExecuteTime": {
     "end_time": "2020-06-29T13:55:59.798536Z",
     "start_time": "2020-06-29T13:55:59.763258Z"
    },
    "collapsed": true
   },
   "outputs": [],
   "source": [
    "data_ASAS_NGC1566['flux']=(data_ASAS_NGC1566['flux (mJy)']-48.8)*1.0e-26*1.0e-3*1.0e7*1.0e-4"
   ]
  },
  {
   "cell_type": "code",
   "execution_count": null,
   "metadata": {
    "ExecuteTime": {
     "end_time": "2020-06-27T18:51:28.530175Z",
     "start_time": "2020-06-27T18:51:28.522480Z"
    },
    "collapsed": false
   },
   "outputs": [],
   "source": [
    "for i,j in enumerate(data_ubb_NGC1566.columns):\n",
    "    print(i,j)"
   ]
  },
  {
   "cell_type": "markdown",
   "metadata": {},
   "source": [
    "## UV"
   ]
  },
  {
   "cell_type": "code",
   "execution_count": null,
   "metadata": {
    "ExecuteTime": {
     "end_time": "2020-06-27T18:51:53.846257Z",
     "start_time": "2020-06-27T18:51:53.840860Z"
    },
    "collapsed": true
   },
   "outputs": [],
   "source": [
    "UV_namelist=['v','b','u','uvw1','uvm2','uvw2']\n",
    "UV_datalist=[data_uvv_NGC1566,data_ubb_NGC1566,data_uuu_NGC1566,data_uw1_NGC1566,data_um2_NGC1566,data_uw2_NGC1566  ]\n",
    "UV_lambda_list=[5.468E-07,4.392E-07,3.465E-07,2.600E-07,2.246E-07,1.928E-07]"
   ]
  },
  {
   "cell_type": "code",
   "execution_count": null,
   "metadata": {
    "ExecuteTime": {
     "end_time": "2020-06-29T13:55:28.916047Z",
     "start_time": "2020-06-29T13:55:28.579597Z"
    },
    "collapsed": false,
    "scrolled": true
   },
   "outputs": [],
   "source": [
    "for i in UV_datalist:\n",
    "    print(i.columns[6])\n",
    "    i['flux']=i[i.columns[6]]*1.0e-26*1.0e-3*1.0e7*1.0e-4"
   ]
  },
  {
   "cell_type": "code",
   "execution_count": null,
   "metadata": {
    "ExecuteTime": {
     "end_time": "2020-06-27T14:00:23.974288Z",
     "start_time": "2020-06-27T14:00:23.966365Z"
    },
    "collapsed": true
   },
   "outputs": [],
   "source": []
  },
  {
   "cell_type": "markdown",
   "metadata": {},
   "source": [
    "## wise"
   ]
  },
  {
   "cell_type": "code",
   "execution_count": null,
   "metadata": {
    "ExecuteTime": {
     "end_time": "2020-06-27T18:52:11.162039Z",
     "start_time": "2020-06-27T18:52:10.966343Z"
    },
    "collapsed": false
   },
   "outputs": [],
   "source": [
    "for i in range(4):\n",
    "    name_mjd='mjd'\n",
    "    name_band=data_allwise_epoch.columns[i*3+8]\n",
    "    name_err=data_allwise_epoch.columns[i*3+9]\n",
    "    print(name_mjd,name_band,name_err)\n",
    "    data_band=data_allwise_epoch[data_allwise_epoch[name_mjd].notnull()] \n",
    "    data_band=data_band[data_band[name_band].notnull()]   \n",
    "    mag_wise_data=pd.DataFrame({'t':data_band[name_mjd],'flux':data_band[name_band],'err':data_band[name_err]},index=None,columns=['t','flux','err'])\n",
    "    sed_wise_data=pd.DataFrame({'t':data_band[name_mjd],'logflux':(-48.6-data_band[name_band])/2.5,'logerr':data_band[name_err]/2.5},index=None,columns=['t','logflux','logerr'])\n",
    "    sed_wise_data['flux']=10**(sed_wise_data['logflux'])\n",
    "    sed_wise_data=sed_wise_data.sort_values('t')\n",
    "    sed_wise_data.to_csv('/Users/brettlv/Downloads/NGC1566/sed_wise_multi_%s_data.csv'%name_band,index=False,header=False)      \n",
    "    \n",
    "data_neowise_select=data_neowise.loc[:, ['w1mpro', 'w1sigmpro',\n",
    "         'w2mpro', 'w2sigmpro','w1mpro_allwise', 'w1sigmpro_allwise', 'w2mpro_allwise',\n",
    "        'w2sigmpro_allwise', 'w3mpro_allwise', 'w3sigmpro_allwise',\n",
    "        'w4mpro_allwise', 'w4sigmpro_allwise','mjd']]\n",
    "\n",
    "for i in range(6):\n",
    "    name_mjd='mjd'\n",
    "    name_band=data_neowise_select.columns[i*2]\n",
    "    data_band=data_neowise_select[data_neowise_select[name_mjd].notnull()]\n",
    "    data_band=data_band[data_band[name_band].notnull()]\n",
    "    name_err=data_neowise_select.columns[i*2+1]    \n",
    "    print(name_mjd,name_band,name_err)    \n",
    "    mag_neowise_data=pd.DataFrame({'t':data_band[name_mjd],'flux':data_band[name_band],'err':data_band[name_err]},index=None,columns=['t','flux','err'])\n",
    "    sed_neowise_data=pd.DataFrame({'t':data_band[name_mjd],'logflux':(-48.6-data_band[name_band])/2.5,'logerr':data_band[name_err]/2.5},index=None,columns=['t','logflux','logerr'])    \n",
    "    sed_neowise_data['flux']=10**(sed_neowise_data['logflux'])\n",
    "    sed_neowise_data=sed_neowise_data.sort_values('t')\n",
    "    sed_neowise_data.to_csv('/Users/brettlv/Downloads/NGC1566/sed_neowise_%s_data.csv'%name_band,index=False,header=False)"
   ]
  },
  {
   "cell_type": "code",
   "execution_count": null,
   "metadata": {
    "ExecuteTime": {
     "end_time": "2020-06-27T18:52:14.658260Z",
     "start_time": "2020-06-27T18:52:14.653762Z"
    },
    "collapsed": false
   },
   "outputs": [],
   "source": [
    "print(data_xrt_goodfit_NGC1566.columns)"
   ]
  },
  {
   "cell_type": "markdown",
   "metadata": {},
   "source": [
    "# get sed data"
   ]
  },
  {
   "cell_type": "markdown",
   "metadata": {
    "ExecuteTime": {
     "end_time": "2020-06-27T13:24:38.191046Z",
     "start_time": "2020-06-27T13:24:38.179169Z"
    }
   },
   "source": [
    "data_xrt_goodfit_NGC1566['obs_time']"
   ]
  },
  {
   "cell_type": "markdown",
   "metadata": {
    "ExecuteTime": {
     "end_time": "2020-06-27T14:27:32.123429Z",
     "start_time": "2020-06-27T14:27:32.115120Z"
    }
   },
   "source": [
    "for l in UV_lambda_list:\n",
    "    v_i=(constants.c/l/units.m).to(units.Hz).value\n",
    "    print(v_i)"
   ]
  },
  {
   "cell_type": "markdown",
   "metadata": {
    "ExecuteTime": {
     "end_time": "2020-06-27T15:02:56.233074Z",
     "start_time": "2020-06-27T15:02:56.205755Z"
    }
   },
   "source": [
    "for i in data_xrt_goodfit_NGC1566['obs_time']:\n",
    "    print(i)"
   ]
  },
  {
   "cell_type": "code",
   "execution_count": null,
   "metadata": {
    "ExecuteTime": {
     "end_time": "2020-06-27T19:26:44.736283Z",
     "start_time": "2020-06-27T19:26:44.576695Z"
    },
    "collapsed": false
   },
   "outputs": [],
   "source": []
  },
  {
   "cell_type": "code",
   "execution_count": null,
   "metadata": {
    "ExecuteTime": {
     "end_time": "2020-06-27T18:53:18.789576Z",
     "start_time": "2020-06-27T18:53:18.737534Z"
    },
    "collapsed": true
   },
   "outputs": [],
   "source": [
    "sed_neowise_w1mpro_data=pd.read_csv('/Users/brettlv/Downloads/NGC1566/neo-sed/sed_neowise_w1mpro_data.csv',header=None)\n",
    "sed_neowise_w2mpro_data=pd.read_csv('/Users/brettlv/Downloads/NGC1566/neo-sed/sed_neowise_w2mpro_data.csv',header=None)\n",
    "\n",
    "sed_neowise_w3mpro_data=pd.read_csv('/Users/brettlv/Downloads/NGC1566/neo-sed/sed_neowise_w3mpro_allwise_data.csv',header=None)\n",
    "sed_neowise_w4mpro_data=pd.read_csv('/Users/brettlv/Downloads/NGC1566/neo-sed/sed_neowise_w4mpro_allwise_data.csv',header=None)\n",
    "\n",
    "\n",
    "sed_multiwise_w1mpro_data=pd.read_csv('/Users/brettlv/Downloads/NGC1566/multi-sed/sed_wise_multi_w1mpro_ep_data.csv',header=None)\n",
    "sed_multiwise_w2mpro_data=pd.read_csv('/Users/brettlv/Downloads/NGC1566/multi-sed/sed_wise_multi_w2mpro_ep_data.csv',header=None)\n",
    "sed_multiwise_w3mpro_data=pd.read_csv('/Users/brettlv/Downloads/NGC1566/multi-sed/sed_wise_multi_w3mpro_ep_data.csv',header=None)\n",
    "sed_multiwise_w4mpro_data=pd.read_csv('/Users/brettlv/Downloads/NGC1566/multi-sed/sed_wise_multi_w4mpro_ep_data.csv',header=None)\n",
    "\n",
    "\n"
   ]
  },
  {
   "cell_type": "markdown",
   "metadata": {
    "ExecuteTime": {
     "end_time": "2020-06-27T15:38:34.516941Z",
     "start_time": "2020-06-27T15:38:34.304316Z"
    }
   },
   "source": [
    "ls /Users/brettlv/Downloads/NGC1566/neo-sed/\n",
    "ls /Users/brettlv/Downloads/NGC1566/multi-sed/"
   ]
  },
  {
   "cell_type": "code",
   "execution_count": null,
   "metadata": {
    "ExecuteTime": {
     "end_time": "2020-06-27T18:53:23.382057Z",
     "start_time": "2020-06-27T18:53:23.377016Z"
    },
    "collapsed": true
   },
   "outputs": [],
   "source": [
    "neowise_namelist=['w1mpro','w2mpro','w3mpro_allwise','w4mpro_allwise']\n",
    "neowise_datalist=[sed_neowise_w1mpro_data,sed_neowise_w2mpro_data,sed_neowise_w3mpro_data,sed_neowise_w4mpro_data]\n",
    "multiwise_namelist=['w1mpro_ep','w2mpro_ep','w3mpro_ep','w4mpro_ep']\n",
    "multiwise_datalist=[sed_multiwise_w1mpro_data,sed_multiwise_w2mpro_data,sed_multiwise_w3mpro_data,sed_multiwise_w4mpro_data]\n",
    "wise_lambdalist=[3.400E-06,4.600E-06,1.200E-05,2.200E-05]"
   ]
  },
  {
   "cell_type": "markdown",
   "metadata": {},
   "source": [
    "plot_wise_sed_time(mjd,neowise_namelist,neowise_datalist,wise_lambdalist)\n",
    "plot_wise_sed_time(mjd,multiwise_namelist,multiwise_datalist,wise_lambdalist)"
   ]
  },
  {
   "cell_type": "code",
   "execution_count": null,
   "metadata": {
    "ExecuteTime": {
     "end_time": "2020-06-27T19:11:29.269170Z",
     "start_time": "2020-06-27T19:11:29.263278Z"
    },
    "collapsed": true
   },
   "outputs": [],
   "source": [
    "def plot_mjd_sed(mjd,marker,color):\n",
    "    plot_wise_sed_time(mjd,neowise_namelist,neowise_datalist,wise_lambdalist,marker,color)\n",
    "    plot_uvot_sed_time(mjd,UV_namelist,UV_datalist,UV_lambda_list,marker,color)\n",
    "    plot_xrt_sed_time(mjd,data_xrt_goodfit_NGC1566,marker,color)\n",
    "    plot_wise_sed_time(mjd,multiwise_namelist,multiwise_datalist,wise_lambdalist,marker,color)\n",
    "\n",
    "    "
   ]
  },
  {
   "cell_type": "code",
   "execution_count": null,
   "metadata": {
    "collapsed": true
   },
   "outputs": [],
   "source": []
  },
  {
   "cell_type": "code",
   "execution_count": null,
   "metadata": {
    "ExecuteTime": {
     "end_time": "2020-06-27T19:46:25.044565Z",
     "start_time": "2020-06-27T19:46:25.031941Z"
    },
    "collapsed": false
   },
   "outputs": [],
   "source": [
    "markers_pd=['*','.','+','d','h','v','^','x','>','1','2','3','4','8','p','P','<','H','X','D','|','_']\n",
    "colors_pd=['red','green','blue','yellow','lightblue','cyan','tan','gold','sandybrown','olivedrab','chartreuse','darkgreen','m','skyblue','violet','crimson','purple','magenta','lime','turquoise','lightcyan','teal','indigo']"
   ]
  },
  {
   "cell_type": "markdown",
   "metadata": {},
   "source": [
    "## plot_vFv-v"
   ]
  },
  {
   "cell_type": "code",
   "execution_count": null,
   "metadata": {
    "collapsed": true
   },
   "outputs": [],
   "source": []
  },
  {
   "cell_type": "code",
   "execution_count": null,
   "metadata": {
    "ExecuteTime": {
     "end_time": "2020-06-27T21:58:31.862079Z",
     "start_time": "2020-06-27T21:58:31.840786Z"
    },
    "collapsed": false
   },
   "outputs": [],
   "source": [
    "mjd_list=[54446,55370,55798,55868,58338,58465,58483,59689]\n",
    "marker_dict = dict(zip(mjd_list, markers_pd[:len(mjd_list)]))\n",
    "color_dict=dict(zip(mjd_list, colors_pd[:len(mjd_list)]))"
   ]
  },
  {
   "cell_type": "code",
   "execution_count": null,
   "metadata": {
    "collapsed": true
   },
   "outputs": [],
   "source": []
  },
  {
   "cell_type": "code",
   "execution_count": null,
   "metadata": {
    "ExecuteTime": {
     "end_time": "2020-06-27T21:59:54.415773Z",
     "start_time": "2020-06-27T21:59:46.195321Z"
    },
    "collapsed": false,
    "scrolled": true
   },
   "outputs": [],
   "source": [
    "def plot_xrt_sed_time(mjd,data_xrt_goodfit_NGC1566,marker,color='r'):\n",
    "    mjd_near_i=np.argmin(abs(data_xrt_goodfit_NGC1566['obs_time']-mjd))\n",
    "    mjd_near=data_xrt_goodfit_NGC1566['obs_time'][mjd_near_i]\n",
    "    if abs(mjd_near-mjd)<5.0:\n",
    "        print('xrt',mjd_near)\n",
    "        for i in range(5):\n",
    "            #print(i+1,data_xrt_goodfit_NGC1566.columns[i+10])\n",
    "            v_i=(i+1)*2*v_1keV\n",
    "            f_v_i=data_xrt_goodfit_NGC1566[data_xrt_goodfit_NGC1566.columns[i+10]][mjd_near_i]\n",
    "            axs.scatter(v_i,v_i*f_v_i,marker=marker,label=mjd,color=color)\n",
    "            #axs.text(v_i,v_i*f_v_i,str((i+1)*2))\n",
    "            \n",
    "            \n",
    "def plot_uvot_sed_time(mjd,UV_namelist,UV_datalist,UV_lambda_list,marker,color='r'):\n",
    "    for i,j,l in zip(UV_namelist,UV_datalist,UV_lambda_list):\n",
    "        mjd_near_i=np.argmin(abs(j[j.columns[3]]-mjd))\n",
    "        mjd_near=j[j.columns[3]][mjd_near_i]           \n",
    "        if abs(mjd_near-mjd)<5.0:\n",
    "            print(i,mjd_near)\n",
    "            v_i=(constants.c/l/units.m).to(units.Hz).value\n",
    "            f_v_i=j[j.columns[-1]][mjd_near_i]  \n",
    "            axs.scatter(v_i,v_i*f_v_i,marker=marker,label=mjd,color=color) \n",
    "            #axs.text(v_i,v_i*f_v_i,i)\n",
    "\n",
    "def plot_wise_sed_time(mjd,wise_namelist,wise_datalist,wise_lambdalist,marker,color='r'):\n",
    "    for i,j,l in zip(wise_namelist,wise_datalist,wise_lambdalist):\n",
    "        mjd_near_i=np.argmin(abs(j[j.columns[0]]-mjd))\n",
    "        mjd_near=j[j.columns[0]][mjd_near_i]           \n",
    "        if abs(mjd_near-mjd)<100:\n",
    "            print(i,mjd_near)\n",
    "            v_i=(constants.c/l/units.m).to(units.Hz).value\n",
    "            f_v_i=j[j.columns[-1]][mjd_near_i]\n",
    "            print(\"%10.3e\"% (v_i),\"%10.3e\"% (f_v_i))\n",
    "            axs.scatter(v_i,v_i*f_v_i,marker=marker,label=mjd,color=color) \n",
    "            #axs.text(v_i,v_i*f_v_i,i[:2])\n",
    "            \n",
    "            \n",
    "\n",
    "fig, axs = plt.subplots(1, 1,figsize=(16,9))\n",
    "axs.set_title('NGC1566_SED')\n",
    "axs.semilogy()\n",
    "axs.semilogx()\n",
    "axs.set_ylabel(r'$\\nu F_{\\nu}$ ($erg s^{-1} cm^{-2} Hz^{-1}$)')\n",
    "axs.set_xlabel('Hz')\n",
    "\n",
    "for i in mjd_list:\n",
    "    marker=marker_dict[i]\n",
    "    color=color_dict[i]\n",
    "    plot_mjd_sed(i,marker,color)\n",
    "    \n",
    "handles, labels = plt.gca().get_legend_handles_labels()\n",
    "by_label = OrderedDict(zip(labels, handles))    \n",
    "axs.legend(by_label.values(), by_label.keys(),bbox_to_anchor=(1.05, 0.7),ncol=1,loc='right')    \n",
    "axs.grid(which='minor',ls='-.',alpha=0.3)\n",
    "plt.tight_layout()\n",
    "plt.savefig('/Users/brettlv/Downloads/NGC1566/NGC1566_sed.png',dpi=400)"
   ]
  },
  {
   "cell_type": "code",
   "execution_count": null,
   "metadata": {
    "collapsed": true
   },
   "outputs": [],
   "source": []
  },
  {
   "cell_type": "code",
   "execution_count": null,
   "metadata": {
    "collapsed": true
   },
   "outputs": [],
   "source": []
  },
  {
   "cell_type": "markdown",
   "metadata": {
    "ExecuteTime": {
     "end_time": "2020-06-27T14:59:10.977563Z",
     "start_time": "2020-06-27T14:59:10.445972Z"
    }
   },
   "source": [
    "fig, axs = plt.subplots(1, 1,figsize=(8,5))\n",
    "axs.set_title('NGC1566_SED')\n",
    "\n",
    "axs.semilogy()\n",
    "axs.semilogx()\n",
    "axs.set_ylabel(r'$\\nu F_{\\nu}$ ($erg s^{-1} cm^{-2} Hz^{-1}$)')\n",
    "axs.set_xlabel('Hz')\n",
    "\n",
    "mjd=58123\n",
    "plot_uvot_sed_time(mjd,UV_namelist,UV_datalist,UV_lambda_list)\n",
    "plot_xrt_sed_time(mjd,data_xrt_goodfit_NGC1566)\n",
    "\n",
    "handles, labels = plt.gca().get_legend_handles_labels()\n",
    "by_label = OrderedDict(zip(labels, handles))    \n",
    "axs.legend(by_label.values(), by_label.keys(),bbox_to_anchor=(1.0, 0.5),ncol=1,loc='right')    \n",
    "axs.grid(which='minor',ls='-.',alpha=0.3)\n"
   ]
  },
  {
   "cell_type": "code",
   "execution_count": null,
   "metadata": {
    "collapsed": true
   },
   "outputs": [],
   "source": []
  },
  {
   "cell_type": "code",
   "execution_count": null,
   "metadata": {
    "ExecuteTime": {
     "end_time": "2020-06-27T15:00:24.810384Z",
     "start_time": "2020-06-27T15:00:23.486332Z"
    },
    "collapsed": false
   },
   "outputs": [],
   "source": [
    "fig, axs = plt.subplots(1, 1,figsize=(8,5))\n",
    "axs.set_title('NGC1566_SED')\n",
    "\n",
    "axs.semilogy()\n",
    "axs.semilogx()\n",
    "axs.set_ylabel(r'$\\nu F_{\\nu}$ ($erg s^{-1} cm^{-2} Hz^{-1}$)')\n",
    "axs.set_xlabel('Hz')\n",
    "\n",
    "mjd=58821\n",
    "plot_uvot_sed_time(mjd,UV_namelist,UV_datalist,UV_lambda_list)\n",
    "plot_xrt_sed_time(mjd,data_xrt_goodfit_NGC1566)\n",
    "\n",
    "handles, labels = plt.gca().get_legend_handles_labels()\n",
    "by_label = OrderedDict(zip(labels, handles))    \n",
    "axs.legend(by_label.values(), by_label.keys(),bbox_to_anchor=(1.0, 0.5),ncol=1,loc='right')    \n",
    "axs.grid(which='minor',ls='-.',alpha=0.3)\n"
   ]
  },
  {
   "cell_type": "code",
   "execution_count": null,
   "metadata": {
    "ExecuteTime": {
     "end_time": "2020-06-27T14:54:41.431661Z",
     "start_time": "2020-06-27T14:54:40.258300Z"
    },
    "collapsed": false
   },
   "outputs": [],
   "source": [
    "fig, axs = plt.subplots(1, 1,figsize=(8,5))\n",
    "axs.set_title('NGC1566_SED')\n",
    "\n",
    "axs.semilogy()\n",
    "axs.semilogx()\n",
    "axs.set_ylabel(r'$\\nu F_{\\nu}$ ($erg s^{-1} cm^{-2} Hz^{-1}$)')\n",
    "axs.set_xlabel('Hz')\n",
    "\n",
    "mjd=58483\n",
    "plot_uvot_sed_time(mjd,UV_namelist,UV_datalist,UV_lambda_list)\n",
    "plot_xrt_sed_time(mjd,data_xrt_goodfit_NGC1566)\n",
    "\n",
    "handles, labels = plt.gca().get_legend_handles_labels()\n",
    "by_label = OrderedDict(zip(labels, handles))    \n",
    "axs.legend(by_label.values(), by_label.keys(),bbox_to_anchor=(1.0, 0.5),ncol=1,loc='right')    \n",
    "axs.grid(which='minor',ls='-.',alpha=0.3)\n"
   ]
  },
  {
   "cell_type": "code",
   "execution_count": null,
   "metadata": {
    "ExecuteTime": {
     "end_time": "2020-06-27T14:57:14.999954Z",
     "start_time": "2020-06-27T14:57:14.987056Z"
    },
    "collapsed": false
   },
   "outputs": [],
   "source": []
  },
  {
   "cell_type": "code",
   "execution_count": null,
   "metadata": {
    "ExecuteTime": {
     "end_time": "2020-06-27T15:03:33.056199Z",
     "start_time": "2020-06-27T15:03:31.577894Z"
    },
    "collapsed": false
   },
   "outputs": [],
   "source": [
    "fig, axs = plt.subplots(1, 1,figsize=(8,5))\n",
    "axs.set_title('NGC1566_SED')\n",
    "\n",
    "axs.semilogy()\n",
    "axs.semilogx()\n",
    "axs.set_ylabel(r'$\\nu F_{\\nu}$ ($erg s^{-1} cm^{-2} Hz^{-1}$)')\n",
    "axs.set_xlabel('Hz')\n",
    "\n",
    "mjd=58695\n",
    "plot_uvot_sed_time(mjd,UV_namelist,UV_datalist,UV_lambda_list)\n",
    "plot_xrt_sed_time(mjd,data_xrt_goodfit_NGC1566)\n",
    "\n",
    "handles, labels = plt.gca().get_legend_handles_labels()\n",
    "by_label = OrderedDict(zip(labels, handles))    \n",
    "axs.legend(by_label.values(), by_label.keys(),bbox_to_anchor=(1.0, 0.5),ncol=1,loc='right')    \n",
    "axs.grid(which='minor',ls='-.',alpha=0.3)\n"
   ]
  },
  {
   "cell_type": "markdown",
   "metadata": {},
   "source": [
    "## plot_2_fv-v"
   ]
  },
  {
   "cell_type": "code",
   "execution_count": null,
   "metadata": {
    "ExecuteTime": {
     "end_time": "2020-06-27T22:00:41.774264Z",
     "start_time": "2020-06-27T22:00:34.653969Z"
    },
    "collapsed": false
   },
   "outputs": [],
   "source": [
    "def plot_xrt_sed_time(mjd,data_xrt_goodfit_NGC1566,marker,color='r'):\n",
    "    mjd_near_i=np.argmin(abs(data_xrt_goodfit_NGC1566['obs_time']-mjd))\n",
    "    mjd_near=data_xrt_goodfit_NGC1566['obs_time'][mjd_near_i]\n",
    "    if abs(mjd_near-mjd)<5.0:\n",
    "        print('xrt',mjd_near)\n",
    "        for i in range(5):\n",
    "            #print(i+1,data_xrt_goodfit_NGC1566.columns[i+10])\n",
    "            v_i=(i+1)*2*v_1keV\n",
    "            f_v_i=data_xrt_goodfit_NGC1566[data_xrt_goodfit_NGC1566.columns[i+10]][mjd_near_i]\n",
    "            axs.scatter(v_i,f_v_i*1.0e19,marker=marker,label=mjd,color=color)\n",
    "            #axs.text(v_i,v_i*f_v_i,str((i+1)*2))\n",
    "            \n",
    "            \n",
    "def plot_uvot_sed_time(mjd,UV_namelist,UV_datalist,UV_lambda_list,marker,color='r'):\n",
    "    for i,j,l in zip(UV_namelist,UV_datalist,UV_lambda_list):\n",
    "        mjd_near_i=np.argmin(abs(j[j.columns[3]]-mjd))\n",
    "        mjd_near=j[j.columns[3]][mjd_near_i]           \n",
    "        if abs(mjd_near-mjd)<5.0:\n",
    "            print(i,mjd_near)\n",
    "            v_i=(constants.c/l/units.m).to(units.Hz).value\n",
    "            f_v_i=j[j.columns[-1]][mjd_near_i]  \n",
    "            axs.scatter(v_i,f_v_i*1.0e19,marker=marker,label=mjd,color=color) \n",
    "            #axs.text(v_i,v_i*f_v_i,i)\n",
    "\n",
    "def plot_wise_sed_time(mjd,wise_namelist,wise_datalist,wise_lambdalist,marker,color='r'):\n",
    "    for i,j,l in zip(wise_namelist,wise_datalist,wise_lambdalist):\n",
    "        mjd_near_i=np.argmin(abs(j[j.columns[0]]-mjd))\n",
    "        mjd_near=j[j.columns[0]][mjd_near_i]           \n",
    "        if abs(mjd_near-mjd)<100:\n",
    "            print(i,mjd_near)\n",
    "            v_i=(constants.c/l/units.m).to(units.Hz).value\n",
    "            f_v_i=j[j.columns[-1]][mjd_near_i]\n",
    "            print(\"%10.3e\"% (v_i),\"%10.3e\"% (f_v_i))\n",
    "            axs.scatter(v_i,f_v_i*1.0e19,marker=marker,label=mjd,color=color) \n",
    "            #axs.text(v_i,v_i*f_v_i,i[:2])\n",
    "            \n",
    "fig, axs = plt.subplots(1, 1,figsize=(16,9))\n",
    "axs.set_title('NGC1566_SED')\n",
    "\n",
    "\n",
    "axs.semilogy()\n",
    "axs.semilogx()\n",
    "axs.set_ylabel(r'$ F_{\\nu}$ ($Jy$)')\n",
    "axs.set_xlabel('Hz')\n",
    "\n",
    "for i in mjd_list:\n",
    "    marker=marker_dict[i]\n",
    "    color=color_dict[i]\n",
    "    plot_mjd_sed(i,marker,color)\n",
    "    \n",
    "handles, labels = plt.gca().get_legend_handles_labels()\n",
    "by_label = OrderedDict(zip(labels, handles))    \n",
    "axs.legend(by_label.values(), by_label.keys(),bbox_to_anchor=(1.05, 0.7),ncol=1,loc='right')    \n",
    "axs.grid(which='minor',ls='-.',alpha=0.3)\n",
    "plt.tight_layout()\n",
    "plt.savefig('/Users/brettlv/Downloads/NGC1566/NGC1566_sed_Jy.png',dpi=400)            "
   ]
  },
  {
   "cell_type": "code",
   "execution_count": null,
   "metadata": {
    "collapsed": true
   },
   "outputs": [],
   "source": []
  }
 ],
 "metadata": {
  "kernelspec": {
   "display_name": "Python 3",
   "language": "python",
   "name": "python3"
  },
  "language_info": {
   "codemirror_mode": {
    "name": "ipython",
    "version": 3
   },
   "file_extension": ".py",
   "mimetype": "text/x-python",
   "name": "python",
   "nbconvert_exporter": "python",
   "pygments_lexer": "ipython3",
   "version": "3.6.0"
  },
  "latex_envs": {
   "LaTeX_envs_menu_present": true,
   "autocomplete": true,
   "bibliofile": "biblio.bib",
   "cite_by": "apalike",
   "current_citInitial": 1,
   "eqLabelWithNumbers": true,
   "eqNumInitial": 1,
   "hotkeys": {
    "equation": "Ctrl-E",
    "itemize": "Ctrl-I"
   },
   "labels_anchors": false,
   "latex_user_defs": false,
   "report_style_numbering": false,
   "user_envs_cfg": false
  },
  "toc": {
   "nav_menu": {},
   "number_sections": true,
   "sideBar": true,
   "skip_h1_title": false,
   "toc_cell": false,
   "toc_position": {
    "height": "458px",
    "left": "0px",
    "right": "988px",
    "top": "115px",
    "width": "212px"
   },
   "toc_section_display": "block",
   "toc_window_display": true
  }
 },
 "nbformat": 4,
 "nbformat_minor": 2
}
