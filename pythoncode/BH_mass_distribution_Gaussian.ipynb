{
 "cells": [
  {
   "cell_type": "code",
   "execution_count": 48,
   "metadata": {
    "ExecuteTime": {
     "end_time": "2019-04-09T08:33:23.195696Z",
     "start_time": "2019-04-09T08:33:23.190833Z"
    },
    "collapsed": true
   },
   "outputs": [],
   "source": [
    "import matplotlib\n",
    "#matplotlib.use('TkAgg')\n",
    "#matplotlib.use('GTKAgg')\n",
    "#matplotlib.use('WX')\n",
    "#matplotlib.use('MacOSX')\n",
    "%matplotlib inline\n",
    "import matplotlib.pyplot as plt\n",
    "import numpy as np\n",
    "import pandas as pd\n",
    "import matplotlib.ticker as ticker\n"
   ]
  },
  {
   "cell_type": "code",
   "execution_count": null,
   "metadata": {
    "collapsed": true
   },
   "outputs": [],
   "source": [
    "#np.logspace(2.0, 3.0, num=4)\n",
    "#x=np.linspace(0,12,num=100)"
   ]
  },
  {
   "cell_type": "code",
   "execution_count": null,
   "metadata": {
    "collapsed": true
   },
   "outputs": [],
   "source": [
    "weight='bold',textcoords=\"data\", "
   ]
  },
  {
   "cell_type": "code",
   "execution_count": 238,
   "metadata": {
    "ExecuteTime": {
     "end_time": "2019-04-09T13:58:36.197300Z",
     "start_time": "2019-04-09T13:58:30.146034Z"
    },
    "collapsed": false,
    "scrolled": true
   },
   "outputs": [
    {
     "name": "stderr",
     "output_type": "stream",
     "text": [
      "/Users/brettlv/anaconda3/lib/python3.6/site-packages/matplotlib/font_manager.py:1297: UserWarning: findfont: Font family ['sans-serif'] not found. Falling back to DejaVu Sans\n",
      "  (prop.get_family(), self.defaultFamily[fontext]))\n"
     ]
    }
   ],
   "source": [
    "from matplotlib.font_manager import FontProperties\n",
    "font = FontProperties(fname='/Library/Fonts/Songti.ttc') #中文字体\n",
    "\n",
    "def gaussian(x, mu, sig):\n",
    "    return np.exp(-np.power(x - mu, 2.) / (2 * np.power(sig, 2.)))\n",
    "\n",
    "\n",
    "#x=np.logspace(0,12.5,num=100)\n",
    "x1=np.linspace(0,3,num=1000)\n",
    "x2=np.linspace(2,12,num=1000)\n",
    "\n",
    "y1=gaussian(x1, 1.2, 0.3)\n",
    "y2=(gaussian(x2, 7, 1.2))\n",
    "\n",
    "fig, ax = plt.subplots(figsize=(10, 6.18))\n",
    "ax.fill(x1, y1, 'b', x2, y2, 'g', alpha=0.1)\n",
    "#ax.fill(x1, y1, 'g', alpha=0.1)\n",
    "\n",
    "\n",
    "ax.set_title(u'黑洞质量分布',fontsize=18,fontproperties=font)\n",
    "ax.set_xlabel('log(${M_{BH}}/{M_{\\odot}}$)',fontsize=18)\n",
    "ax.set_ylabel(u'相对数量',fontsize=18,fontproperties=font)\n",
    "#ax.spines['left'].set_color('none')\n",
    "ax.yaxis.set_major_locator(ticker.NullLocator())\n",
    "ax.tick_params(which='major', width=1.00)\n",
    "ax.tick_params(which='major', length=5)\n",
    "ax.tick_params(which='minor', width=0.75)\n",
    "ax.tick_params(which='minor', length=2.5)\n",
    "#ax.text(6.3, 0.3, \"Sgr A\",fontsize=14)\n",
    "#ax.text(4.3, 0.3, \"RGG118\",fontsize=14,)\n",
    "#ax.text(10, 0.3, \"S50014+813\",fontsize=14,)\n",
    "\n",
    "\n",
    "\n",
    "ax.annotate('Sgr $A^{*}$', xy=(6.3, 0.0), xycoords=\"data\",\n",
    "            xytext=(6.3, 0.2),\n",
    "            va=\"center\", ha=\"center\",fontsize=14,\n",
    "            arrowprops=dict(arrowstyle='-',connectionstyle='angle'))\n",
    "\n",
    "ax.annotate('RGG118', xy=(4.3, 0.0), xycoords=\"data\",\n",
    "            xytext=(4.3, 0.2),\n",
    "            va=\"center\", ha=\"center\",fontsize=14,\n",
    "            arrowprops=dict(arrowstyle='-',connectionstyle='angle'))\n",
    "\n",
    "ax.annotate('S50014+813', xy=(10, 0.0), xycoords=\"data\",\n",
    "            xytext=(10, 0.2),\n",
    "            va=\"center\", ha=\"center\",fontsize=14,\n",
    "            arrowprops=dict(arrowstyle='-',connectionstyle='angle'))\n",
    "\n",
    "\n",
    "ix = np.linspace(1.8, 2.1)\n",
    "rect = plt.Rectangle((1.8,0.0),3,1.2,color='grey',alpha=0.0)\n",
    "ax.add_patch(rect)\n",
    "            \n",
    "#ax.text(2., 0.9, \"Pair instability\",fontsize=14,rotation=90)\n",
    "ax.text(1.2, 0.5, u\"恒星级黑洞\",fontsize=18,rotation=0,fontproperties=font,verticalalignment='center', horizontalalignment='center',)\n",
    "ax.text(3.5, 0.5, u\"中等质量黑洞沙漠\",fontsize=18,rotation=0,fontproperties=font,verticalalignment='center', horizontalalignment='center',)\n",
    "ax.text(7., 0.5, u\"超大质量黑洞\",fontsize=18,rotation=0,fontproperties=font,verticalalignment='center', horizontalalignment='center',)\n",
    "\n",
    "\n",
    "#plt.rcParams['font.sans-serif']=['SimHei'] #用来正常显示中文标签\n",
    "#plt.rcParams['axes.unicode_minus']=False #用来正常显示负号\n",
    "plt.subplots_adjust(bottom=0.4)\n",
    "\n",
    "\n",
    "plt.xlim(-0.1,12)\n",
    "plt.ylim(0.0,1.2)\n",
    "#plt.show()\n",
    "#plt.savefig('/Users/brettlv/blog/IHEP_sync/BHmassdist_chi.png',dpi=300)#保存图片\n",
    "plt.savefig('./BHmassdist_chi6.png',dpi=600,bbox_inches='tight')#保存图片"
   ]
  },
  {
   "cell_type": "code",
   "execution_count": null,
   "metadata": {
    "collapsed": true
   },
   "outputs": [],
   "source": []
  },
  {
   "cell_type": "code",
   "execution_count": null,
   "metadata": {
    "collapsed": true
   },
   "outputs": [],
   "source": []
  },
  {
   "cell_type": "code",
   "execution_count": null,
   "metadata": {
    "collapsed": true
   },
   "outputs": [],
   "source": []
  },
  {
   "cell_type": "code",
   "execution_count": 241,
   "metadata": {
    "ExecuteTime": {
     "end_time": "2019-04-09T14:00:39.827240Z",
     "start_time": "2019-04-09T14:00:37.695448Z"
    },
    "collapsed": false
   },
   "outputs": [
    {
     "name": "stderr",
     "output_type": "stream",
     "text": [
      "/Users/brettlv/anaconda3/lib/python3.6/site-packages/matplotlib/font_manager.py:1297: UserWarning: findfont: Font family ['sans-serif'] not found. Falling back to DejaVu Sans\n",
      "  (prop.get_family(), self.defaultFamily[fontext]))\n"
     ]
    }
   ],
   "source": [
    "from matplotlib.font_manager import FontProperties\n",
    "#font = FontProperties(fname='/Library/Fonts/Songti.ttc') #中文字体\n",
    "\n",
    "def gaussian(x, mu, sig):\n",
    "    return np.exp(-np.power(x - mu, 2.) / (2 * np.power(sig, 2.)))\n",
    "\n",
    "\n",
    "#x=np.logspace(0,12.5,num=100)\n",
    "x1=np.linspace(0,3,num=1000)\n",
    "x2=np.linspace(2,12,num=1000)\n",
    "\n",
    "y1=gaussian(x1, 1.2, 0.3)\n",
    "y2=(gaussian(x2, 7, 1.2))\n",
    "\n",
    "fig, ax = plt.subplots(figsize=(12, 5))\n",
    "ax.fill(x1, y1, 'b', x2, y2, 'g', alpha=0.1)\n",
    "#ax.fill(x1, y1, 'g', alpha=0.1)\n",
    "\n",
    "\n",
    "ax.set_title(u'BH Mass distribution',fontsize=18,)\n",
    "ax.set_xlabel('log(${M_{BH}}/{M_{\\odot}}$)',fontsize=18)\n",
    "ax.set_ylabel(u'Relative Number',fontsize=18,)\n",
    "#ax.spines['left'].set_color('none')\n",
    "ax.yaxis.set_major_locator(ticker.NullLocator())\n",
    "ax.tick_params(which='major', width=1.00)\n",
    "ax.tick_params(which='major', length=5)\n",
    "ax.tick_params(which='minor', width=0.75)\n",
    "ax.tick_params(which='minor', length=2.5)\n",
    "#ax.text(6.3, 0.3, \"Sgr A\",fontsize=14)\n",
    "#ax.text(4.3, 0.3, \"RGG118\",fontsize=14,)\n",
    "#ax.text(10, 0.3, \"S50014+813\",fontsize=14,)\n",
    "\n",
    "\n",
    "\n",
    "ax.annotate('Sgr $A^{*}$', xy=(6.3, 0.0), xycoords=\"data\",\n",
    "            xytext=(6.3, 0.2),\n",
    "            va=\"center\", ha=\"center\",fontsize=12,\n",
    "            arrowprops=dict(arrowstyle='-',connectionstyle='angle'))\n",
    "\n",
    "ax.annotate('RGG118', xy=(4.3, 0.0), xycoords=\"data\",\n",
    "            xytext=(4.3, 0.2),\n",
    "            va=\"center\", ha=\"center\",fontsize=12,\n",
    "            arrowprops=dict(arrowstyle='-',connectionstyle='angle'))\n",
    "\n",
    "ax.annotate('S50014+813', xy=(10, 0.0), xycoords=\"data\",\n",
    "            xytext=(10, 0.2),\n",
    "            va=\"center\", ha=\"center\",fontsize=12,\n",
    "            arrowprops=dict(arrowstyle='-',connectionstyle='angle'))\n",
    "\n",
    "\n",
    "ix = np.linspace(1.8, 2.1)\n",
    "rect = plt.Rectangle((1.8,0.0),3,1.2,color='grey',alpha=0.0)\n",
    "ax.add_patch(rect)\n",
    "            \n",
    "#ax.text(2., 0.9, \"Pair instability\",fontsize=14,rotation=90)\n",
    "ax.text(1.2, 0.5, \"Stellar BHs\",fontsize=18,rotation=0,verticalalignment='center', horizontalalignment='center',)\n",
    "ax.text(3.5, 0.5, \"IMBHs\",fontsize=18,rotation=0,verticalalignment='center', horizontalalignment='center',)\n",
    "ax.text(7., 0.5, \"SMBHs\",fontsize=18,rotation=0,verticalalignment='center', horizontalalignment='center',)\n",
    "\n",
    "\n",
    "#plt.rcParams['font.sans-serif']=['SimHei'] #用来正常显示中文标签\n",
    "#plt.rcParams['axes.unicode_minus']=False #用来正常显示负号\n",
    "\n",
    "plt.xlim(-0.1,12)\n",
    "plt.ylim(0.0,1.2)\n",
    "#plt.show()\n",
    "#plt.savefig('/Users/brettlv/blog/IHEP_sync/BHmassdist_eng.png',dpi=300)#保存图片\n",
    "plt.savefig('./BHmassdist_eng3.png',dpi=300,bbox_inches='tight')#保存图片"
   ]
  },
  {
   "cell_type": "code",
   "execution_count": null,
   "metadata": {
    "ExecuteTime": {
     "end_time": "2019-04-09T08:57:13.448244Z",
     "start_time": "2019-04-09T08:57:13.441732Z"
    },
    "collapsed": true
   },
   "outputs": [],
   "source": []
  },
  {
   "cell_type": "code",
   "execution_count": null,
   "metadata": {
    "collapsed": true
   },
   "outputs": [],
   "source": []
  },
  {
   "cell_type": "code",
   "execution_count": null,
   "metadata": {
    "collapsed": true
   },
   "outputs": [],
   "source": []
  },
  {
   "cell_type": "code",
   "execution_count": null,
   "metadata": {
    "collapsed": true
   },
   "outputs": [],
   "source": []
  }
 ],
 "metadata": {
  "kernelspec": {
   "display_name": "Python 3",
   "language": "python",
   "name": "python3"
  },
  "language_info": {
   "codemirror_mode": {
    "name": "ipython",
    "version": 3
   },
   "file_extension": ".py",
   "mimetype": "text/x-python",
   "name": "python",
   "nbconvert_exporter": "python",
   "pygments_lexer": "ipython3",
   "version": "3.6.0"
  },
  "latex_envs": {
   "LaTeX_envs_menu_present": true,
   "autocomplete": true,
   "bibliofile": "biblio.bib",
   "cite_by": "apalike",
   "current_citInitial": 1,
   "eqLabelWithNumbers": true,
   "eqNumInitial": 1,
   "hotkeys": {
    "equation": "Ctrl-E",
    "itemize": "Ctrl-I"
   },
   "labels_anchors": false,
   "latex_user_defs": false,
   "report_style_numbering": false,
   "user_envs_cfg": false
  },
  "toc": {
   "nav_menu": {},
   "number_sections": true,
   "sideBar": true,
   "skip_h1_title": false,
   "toc_cell": false,
   "toc_position": {},
   "toc_section_display": "block",
   "toc_window_display": false
  }
 },
 "nbformat": 4,
 "nbformat_minor": 2
}
