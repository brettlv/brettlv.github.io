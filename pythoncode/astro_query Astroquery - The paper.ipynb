{
 "cells": [
  {
   "cell_type": "code",
   "execution_count": 1,
   "metadata": {
    "ExecuteTime": {
     "end_time": "2019-04-04T10:16:30.820629Z",
     "start_time": "2019-04-04T10:16:28.417959Z"
    },
    "collapsed": true
   },
   "outputs": [],
   "source": [
    "from astroquery.nrao import Nrao\n",
    "import astropy.units as u\n",
    "import astropy.coordinates as coord\n",
    "\n"
   ]
  },
  {
   "cell_type": "markdown",
   "metadata": {},
   "source": [
    "result_table = Nrao.query_region(coord.SkyCoord(68.29625,\n",
    "5.35431,  unit=(u.deg, u.deg), frame='icrs'), radius=2*u.arcmin,\n",
    "telescope='historical_vla', start_date='1985-06-30 18:16:49',\n",
    "end_date='1985-06-30 18:20:19', freq_low=1600*u.MHz, freq_up=1700*u.MHz,\n",
    "telescope_config='all', sub_array=1)"
   ]
  },
  {
   "cell_type": "code",
   "execution_count": 2,
   "metadata": {
    "ExecuteTime": {
     "end_time": "2019-04-04T10:16:49.988084Z",
     "start_time": "2019-04-04T10:16:35.041890Z"
    },
    "collapsed": false
   },
   "outputs": [
    {
     "name": "stderr",
     "output_type": "stream",
     "text": [
      "/Users/brettlv/anaconda3/lib/python3.6/site-packages/astroquery/utils/commons.py:159: UserWarning: Coordinate string is being interpreted as an ICRS coordinate.\n",
      "  warnings.warn(\"Coordinate string is being interpreted as an \"\n"
     ]
    }
   ],
   "source": [
    "result_table = Nrao.query_region(\"02h06m16.0s -00d17m29s\")"
   ]
  },
  {
   "cell_type": "code",
   "execution_count": 3,
   "metadata": {
    "ExecuteTime": {
     "end_time": "2019-04-04T10:16:50.023194Z",
     "start_time": "2019-04-04T10:16:49.989588Z"
    },
    "collapsed": false
   },
   "outputs": [
    {
     "name": "stdout",
     "output_type": "stream",
     "text": [
      "   Source      Project        Start Time     ...      DEC      ARCH_FILE_ID\n",
      "                                 days        ...    degrees                \n",
      "----------- ------------- ------------------ ... ------------- ------------\n",
      "    MKN1018 AU0020-public 84-Nov-28 05:15:29 ... -00d17'32.28\"    181894544\n",
      "    MKN1018 AU0020-public 84-Nov-28 05:15:29 ... -00d17'32.28\"    181894544\n",
      "    MKN1018 AU0020-public 84-Nov-28 05:28:49 ... -00d17'32.28\"    181894544\n",
      "    MKN1018 AU0020-public 84-Nov-28 05:28:49 ... -00d17'32.28\"    181894544\n",
      "   0203-006 AB0476-public 88-Apr-10 17:25:20 ... -00d17'43.26\"    181862537\n",
      "   0203-006 AB0476-public 88-Apr-10 17:25:20 ... -00d17'43.26\"    181862537\n",
      "   0203-006 AB0540-public 89-Jun-15 13:17:29 ... -00d17'43.26\"    181851122\n",
      "   0203-006 AB0540-public 89-Jun-15 13:17:29 ... -00d17'43.26\"    181851122\n",
      "   0203-006 AB0540-public 89-Jul-25 15:45:29 ... -00d17'43.26\"    181849923\n",
      "   0203-006 AB0540-public 89-Jul-25 15:45:29 ... -00d17'43.26\"    181849923\n",
      "        ...           ...                ... ...           ...          ...\n",
      "HE0203-0031  16B-084-lock 17-Jan-15 00:39:26 ... -00d17'29.10\"    537760068\n",
      "HE0203-0031  16B-084-lock 17-Jan-15 00:39:26 ... -00d17'29.10\"    537760068\n",
      "HE0203-0031  16B-084-lock 17-Jan-15 00:39:26 ... -00d17'29.10\"    537760068\n",
      "HE0203-0031  16B-084-lock 17-Jan-15 00:39:26 ... -00d17'29.10\"    537760068\n",
      "HE0203-0031  16B-084-lock 17-Jan-15 00:39:26 ... -00d17'29.10\"    537760068\n",
      "HE0203-0031  16B-084-lock 17-Jan-15 00:39:26 ... -00d17'29.10\"    537760068\n",
      "HE0203-0031  16B-084-lock 17-Jan-15 00:39:26 ... -00d17'29.10\"    537760068\n",
      "HE0203-0031  16B-084-lock 17-Jan-15 00:39:26 ... -00d17'29.10\"    537760068\n",
      "HE0203-0031  16B-084-lock 17-Jan-15 00:39:26 ... -00d17'29.10\"    537760068\n",
      "HE0203-0031  16B-084-lock 17-Jan-15 00:39:26 ... -00d17'29.10\"    537760068\n",
      "Length = 108 rows\n"
     ]
    }
   ],
   "source": [
    "print(result_table)"
   ]
  },
  {
   "cell_type": "code",
   "execution_count": 9,
   "metadata": {
    "ExecuteTime": {
     "end_time": "2019-04-04T22:34:09.713144Z",
     "start_time": "2019-04-04T22:33:55.484305Z"
    },
    "collapsed": false
   },
   "outputs": [
    {
     "name": "stdout",
     "output_type": "stream",
     "text": [
      "Source Project Start Time Stop Time ...    RA     DEC   ARCH_FILE_ID\n",
      "                  days       days   ... degrees degrees             \n",
      "------ ------- ---------- --------- ... ------- ------- ------------\n"
     ]
    }
   ],
   "source": [
    "from astroquery.nrao import Nrao\n",
    "import astropy.units as u\n",
    "import astropy.coordinates as coord\n",
    "result_table = Nrao.query_region(coord.SkyCoord(31.5666250,\n",
    "-0.2914444,  unit=(u.deg, u.deg), frame='icrs'), radius=2*u.arcmin,\n",
    "telescope='historical_vla', start_date='2000-01-01 00:00:00',\n",
    "end_date='2019-04-04 00:00:00', freq_low=1.3*u.GHz, freq_up=10*u.GHz,\n",
    "telescope_config='all', sub_array=1)\n",
    "print(result_table)\n",
    "\n"
   ]
  },
  {
   "cell_type": "code",
   "execution_count": null,
   "metadata": {
    "collapsed": true
   },
   "outputs": [],
   "source": []
  },
  {
   "cell_type": "code",
   "execution_count": null,
   "metadata": {
    "collapsed": true
   },
   "outputs": [],
   "source": []
  },
  {
   "cell_type": "code",
   "execution_count": null,
   "metadata": {
    "collapsed": true
   },
   "outputs": [],
   "source": []
  },
  {
   "cell_type": "code",
   "execution_count": null,
   "metadata": {
    "collapsed": true
   },
   "outputs": [],
   "source": []
  },
  {
   "cell_type": "code",
   "execution_count": null,
   "metadata": {
    "collapsed": true
   },
   "outputs": [],
   "source": []
  },
  {
   "cell_type": "code",
   "execution_count": null,
   "metadata": {
    "collapsed": true
   },
   "outputs": [],
   "source": []
  },
  {
   "cell_type": "code",
   "execution_count": null,
   "metadata": {
    "collapsed": true
   },
   "outputs": [],
   "source": []
  },
  {
   "cell_type": "code",
   "execution_count": 4,
   "metadata": {
    "ExecuteTime": {
     "end_time": "2019-04-04T10:18:14.597922Z",
     "start_time": "2019-04-04T10:18:02.816439Z"
    },
    "collapsed": false
   },
   "outputs": [
    {
     "name": "stdout",
     "output_type": "stream",
     "text": [
      "No.        Object Name         ... Diameter Points Associations\n",
      "                               ...                             \n",
      "--- -------------------------- ... --------------- ------------\n",
      "  1 SSTSL2 J122855.02+020308.1 ...               0            0\n",
      "  2 SSTSL2 J122855.02+020313.7 ...               0            0\n",
      "  3 SSTSL2 J122855.23+020341.5 ...               0            0\n",
      "  4 SSTSL2 J122855.36+020346.9 ...               0            0\n",
      "  5 SSTSL2 J122855.64+020239.1 ...               0            0\n",
      "  6 SSTSL2 J122855.66+020407.1 ...               0            0\n",
      "  7 SSTSL2 J122855.73+020232.2 ...               0            0\n",
      "  8 SSTSL2 J122855.75+020245.2 ...               0            0\n",
      "  9 SSTSL2 J122855.86+020333.4 ...               0            0\n",
      " 10 SSTSL2 J122855.84+020350.7 ...               0            0\n",
      "...                        ... ...             ...          ...\n",
      "839 SSTSL2 J122917.56+020216.7 ...               0            0\n",
      "840 SSTSL2 J122917.69+020335.2 ...               0            0\n",
      "841 SSTSL2 J122917.77+020415.1 ...               0            0\n",
      "842   SDSS J122917.72+020356.8 ...               3            0\n",
      "843 SSTSL2 J122917.87+020349.7 ...               0            0\n",
      "844 SSTSL2 J122918.04+020334.2 ...               0            0\n",
      "845 SSTSL2 J122918.24+020330.7 ...               0            0\n",
      "846   SDSS J122918.38+020323.4 ...               4            0\n",
      "847 SSTSL2 J122918.52+020338.9 ...               0            0\n",
      "848 SSTSL2 J122918.64+020326.7 ...               0            0\n",
      "Length = 848 rows\n"
     ]
    }
   ],
   "source": [
    "from astroquery.ned import Ned\n",
    "import astropy.units as u\n",
    "result_table = Ned.query_region(\"3c 273\", radius=0.05 * u.deg)\n",
    "print(result_table)"
   ]
  },
  {
   "cell_type": "code",
   "execution_count": null,
   "metadata": {
    "collapsed": true
   },
   "outputs": [],
   "source": []
  },
  {
   "cell_type": "code",
   "execution_count": null,
   "metadata": {
    "collapsed": true
   },
   "outputs": [],
   "source": []
  },
  {
   "cell_type": "code",
   "execution_count": 5,
   "metadata": {
    "ExecuteTime": {
     "end_time": "2019-04-04T10:21:21.070410Z",
     "start_time": "2019-04-04T10:21:15.644764Z"
    },
    "collapsed": false
   },
   "outputs": [
    {
     "name": "stdout",
     "output_type": "stream",
     "text": [
      "{'J/ApJS/119/277': '-3.5<=DE<=8.5, -1.5<RA<13.5 redshift survey (Grogin+, 1998)', 'J/ApJS/213/26': 'Optical light curves of PHL1811 and 3C273 (Fan+, 2014)', 'J/ApJS/229/21': 'VRI monitoring of the QSO 3C 273 in 2005-2016 (Xiong+, 2017)', 'J/A+A/576/A122': '3C 273 high energy spectrum (Esposito+, 2015)', 'J/A+A/601/A35': 'High-fidelity VLA imaging of 3C273 (Perley+, 2017)', 'J/A+A/604/A111': '22GHz image of 3C 273 (Bruni+, 2017)', 'J/MNRAS/392/1181': 'BV(RI)c photometry of 3C 273 (Dai+, 2009)', 'J/MNRAS/459/140': 'M81, LMC and 3C 273/Coma 17-60keV obs. (Mereminskiy+, 2016)'}\n"
     ]
    }
   ],
   "source": [
    "from astroquery.vizier import Vizier\n",
    "catalog_list = Vizier.find_catalogs('3c 273')\n",
    "print({k:v.description for k,v in catalog_list.items()})"
   ]
  },
  {
   "cell_type": "code",
   "execution_count": 6,
   "metadata": {
    "ExecuteTime": {
     "end_time": "2019-04-04T10:21:58.398652Z",
     "start_time": "2019-04-04T10:21:48.700110Z"
    },
    "collapsed": false
   },
   "outputs": [
    {
     "name": "stdout",
     "output_type": "stream",
     "text": [
      "TableList with 15 tables:\n",
      "\t'0:J/ApJS/119/277/table1' with 10 column(s) and 50 row(s) \n",
      "\t'1:J/ApJS/119/277/refs' with 4 column(s) and 50 row(s) \n",
      "\t'2:J/ApJS/119/277/table3' with 9 column(s) and 50 row(s) \n",
      "\t'3:J/ApJS/213/26/table1' with 3 column(s) and 50 row(s) \n",
      "\t'4:J/ApJS/213/26/table3' with 12 column(s) and 50 row(s) \n",
      "\t'5:J/ApJS/229/21/table2' with 4 column(s) and 50 row(s) \n",
      "\t'6:J/ApJS/229/21/table3' with 4 column(s) and 50 row(s) \n",
      "\t'7:J/ApJS/229/21/table4' with 4 column(s) and 50 row(s) \n",
      "\t'8:J/A+A/576/A122/latspect' with 3 column(s) and 47 row(s) \n",
      "\t'9:J/A+A/576/A122/pcaspect' with 3 column(s) and 41 row(s) \n",
      "\t'10:J/A+A/601/A35/table1' with 5 column(s) and 10 row(s) \n",
      "\t'11:J/A+A/601/A35/list' with 9 column(s) and 50 row(s) \n",
      "\t'12:J/A+A/604/A111/list' with 9 column(s) and 1 row(s) \n",
      "\t'13:J/MNRAS/392/1181/table3' with 6 column(s) and 50 row(s) \n",
      "\t'14:J/MNRAS/459/140/table1' with 16 column(s) and 50 row(s) \n"
     ]
    }
   ],
   "source": [
    "catalogs = Vizier.get_catalogs(catalog_list.keys())\n",
    "print(catalogs)"
   ]
  },
  {
   "cell_type": "code",
   "execution_count": 8,
   "metadata": {
    "ExecuteTime": {
     "end_time": "2019-04-04T16:26:24.270439Z",
     "start_time": "2019-04-04T16:26:24.258659Z"
    },
    "collapsed": false
   },
   "outputs": [
    {
     "ename": "ModuleNotFoundError",
     "evalue": "No module named 'casa'",
     "output_type": "error",
     "traceback": [
      "\u001b[0;31m---------------------------------------------------------------------------\u001b[0m",
      "\u001b[0;31mModuleNotFoundError\u001b[0m                       Traceback (most recent call last)",
      "\u001b[0;32m<ipython-input-8-3608f5124fa2>\u001b[0m in \u001b[0;36m<module>\u001b[0;34m()\u001b[0m\n\u001b[0;32m----> 1\u001b[0;31m \u001b[0;32mimport\u001b[0m \u001b[0mcasa\u001b[0m\u001b[0;34m\u001b[0m\u001b[0m\n\u001b[0m",
      "\u001b[0;31mModuleNotFoundError\u001b[0m: No module named 'casa'"
     ]
    }
   ],
   "source": []
  },
  {
   "cell_type": "code",
   "execution_count": null,
   "metadata": {
    "collapsed": true
   },
   "outputs": [],
   "source": []
  }
 ],
 "metadata": {
  "kernelspec": {
   "display_name": "Python 3",
   "language": "python",
   "name": "python3"
  },
  "language_info": {
   "codemirror_mode": {
    "name": "ipython",
    "version": 3
   },
   "file_extension": ".py",
   "mimetype": "text/x-python",
   "name": "python",
   "nbconvert_exporter": "python",
   "pygments_lexer": "ipython3",
   "version": "3.6.0"
  },
  "latex_envs": {
   "LaTeX_envs_menu_present": true,
   "autocomplete": true,
   "bibliofile": "biblio.bib",
   "cite_by": "apalike",
   "current_citInitial": 1,
   "eqLabelWithNumbers": true,
   "eqNumInitial": 1,
   "hotkeys": {
    "equation": "Ctrl-E",
    "itemize": "Ctrl-I"
   },
   "labels_anchors": false,
   "latex_user_defs": false,
   "report_style_numbering": false,
   "user_envs_cfg": false
  },
  "toc": {
   "nav_menu": {},
   "number_sections": true,
   "sideBar": true,
   "skip_h1_title": false,
   "toc_cell": false,
   "toc_position": {},
   "toc_section_display": "block",
   "toc_window_display": false
  }
 },
 "nbformat": 4,
 "nbformat_minor": 2
}
