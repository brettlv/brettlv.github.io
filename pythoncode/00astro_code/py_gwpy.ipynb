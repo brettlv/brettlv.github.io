{
 "cells": [
  {
   "cell_type": "code",
   "execution_count": null,
   "metadata": {
    "collapsed": true
   },
   "outputs": [],
   "source": []
  },
  {
   "cell_type": "code",
   "execution_count": null,
   "metadata": {
    "collapsed": true
   },
   "outputs": [],
   "source": []
  },
  {
   "cell_type": "code",
   "execution_count": null,
   "metadata": {
    "collapsed": true
   },
   "outputs": [],
   "source": []
  },
  {
   "cell_type": "code",
   "execution_count": 1,
   "metadata": {
    "ExecuteTime": {
     "end_time": "2018-08-03T17:18:08.375606+08:00",
     "start_time": "2018-08-03T17:18:08.370581Z"
    },
    "collapsed": true
   },
   "outputs": [],
   "source": [
    "import gwpy"
   ]
  },
  {
   "cell_type": "code",
   "execution_count": 2,
   "metadata": {
    "ExecuteTime": {
     "end_time": "2018-08-03T17:18:09.404993+08:00",
     "start_time": "2018-08-03T17:18:09.339710Z"
    }
   },
   "outputs": [
    {
     "ename": "AttributeError",
     "evalue": "module 'gwpy' has no attribute '__version__'",
     "output_type": "error",
     "traceback": [
      "\u001b[0;31m---------------------------------------------------------------------------\u001b[0m",
      "\u001b[0;31mAttributeError\u001b[0m                            Traceback (most recent call last)",
      "\u001b[0;32m<ipython-input-2-58c171e03edf>\u001b[0m in \u001b[0;36m<module>\u001b[0;34m()\u001b[0m\n\u001b[0;32m----> 1\u001b[0;31m \u001b[0mgwpy\u001b[0m\u001b[0;34m.\u001b[0m\u001b[0m__version__\u001b[0m\u001b[0;34m\u001b[0m\u001b[0m\n\u001b[0m",
      "\u001b[0;31mAttributeError\u001b[0m: module 'gwpy' has no attribute '__version__'"
     ]
    }
   ],
   "source": [
    "gwpy.__version__"
   ]
  },
  {
   "cell_type": "code",
   "execution_count": null,
   "metadata": {
    "ExecuteTime": {
     "end_time": "2018-08-03T17:02:41.164810+08:00",
     "start_time": "2018-08-03T17:02:41.160993Z"
    },
    "collapsed": true
   },
   "outputs": [],
   "source": []
  },
  {
   "cell_type": "code",
   "execution_count": null,
   "metadata": {
    "ExecuteTime": {
     "end_time": "2018-08-02T16:11:04.517202+08:00",
     "start_time": "2018-08-02T16:04:37.887782Z"
    },
    "collapsed": true
   },
   "outputs": [],
   "source": []
  },
  {
   "cell_type": "code",
   "execution_count": null,
   "metadata": {
    "ExecuteTime": {
     "start_time": "2018-08-03T09:12:26.478Z"
    },
    "collapsed": true
   },
   "outputs": [],
   "source": [
    "from gwpy.timeseries import TimeSeries\n",
    "import matplotlib.pyplot as plt\n",
    "%matplotlib inline\n",
    "\n",
    "data = TimeSeries.fetch_open_data('L1', 968654552, 968654562)\n",
    "#plot = data.plot(title='LIGO Livingston Observatory data for HW100916',ylabel='Gravitational-wave strain amplitude',)\n",
    "#plot.show()\n"
   ]
  },
  {
   "cell_type": "code",
   "execution_count": null,
   "metadata": {
    "collapsed": true
   },
   "outputs": [],
   "source": []
  },
  {
   "cell_type": "code",
   "execution_count": null,
   "metadata": {
    "ExecuteTime": {
     "end_time": "2018-08-02T16:11:05.430626+08:00",
     "start_time": "2018-08-02T08:04:35.742Z"
    },
    "collapsed": true
   },
   "outputs": [],
   "source": [
    "#plot.savefig('gwpytest01.pdf',dpi=300)\n",
    "#plot.savefig('gwpytest01.png',dpi=300)"
   ]
  },
  {
   "cell_type": "code",
   "execution_count": null,
   "metadata": {
    "ExecuteTime": {
     "start_time": "2018-08-03T09:12:48.077Z"
    },
    "collapsed": true
   },
   "outputs": [],
   "source": [
    "import nds2"
   ]
  },
  {
   "cell_type": "code",
   "execution_count": null,
   "metadata": {
    "ExecuteTime": {
     "end_time": "2018-08-03T14:36:38.684091+08:00",
     "start_time": "2018-08-03T14:36:38.641310Z"
    },
    "collapsed": true
   },
   "outputs": [],
   "source": [
    "from gwpy.timeseries import TimeSeries\n",
    "white = TimeSeries.get(\n",
    "    'L1:OAF-CAL_DARM_DQ', 'March 2 2015 12:00', 'March 2 2015 12:30')"
   ]
  },
  {
   "cell_type": "code",
   "execution_count": null,
   "metadata": {
    "collapsed": true
   },
   "outputs": [],
   "source": []
  },
  {
   "cell_type": "code",
   "execution_count": null,
   "metadata": {
    "collapsed": true
   },
   "outputs": [],
   "source": []
  },
  {
   "cell_type": "code",
   "execution_count": null,
   "metadata": {
    "collapsed": true
   },
   "outputs": [],
   "source": []
  },
  {
   "cell_type": "code",
   "execution_count": null,
   "metadata": {
    "collapsed": true
   },
   "outputs": [],
   "source": []
  },
  {
   "cell_type": "code",
   "execution_count": null,
   "metadata": {
    "collapsed": true
   },
   "outputs": [],
   "source": []
  },
  {
   "cell_type": "code",
   "execution_count": null,
   "metadata": {
    "ExecuteTime": {
     "end_time": "2018-08-02T16:11:05.431817+08:00",
     "start_time": "2018-08-02T08:04:35.758Z"
    },
    "collapsed": true
   },
   "outputs": [],
   "source": [
    "import nds2"
   ]
  },
  {
   "cell_type": "code",
   "execution_count": null,
   "metadata": {
    "ExecuteTime": {
     "end_time": "2018-08-02T16:11:05.432174+08:00",
     "start_time": "2018-08-02T08:04:35.761Z"
    },
    "collapsed": true
   },
   "outputs": [],
   "source": [
    "print(nds2.__file__)"
   ]
  },
  {
   "cell_type": "code",
   "execution_count": null,
   "metadata": {
    "ExecuteTime": {
     "end_time": "2018-08-02T16:11:05.432501+08:00",
     "start_time": "2018-08-02T08:04:35.766Z"
    },
    "collapsed": true
   },
   "outputs": [],
   "source": [
    "from gwpy.timeseries import TimeSeries\n",
    "data = TimeSeries.get('H1:ASC-Y_TR_A_NSUM_OUT_DQ', 1123084671, 1123084703)"
   ]
  },
  {
   "cell_type": "code",
   "execution_count": null,
   "metadata": {
    "collapsed": true
   },
   "outputs": [],
   "source": []
  },
  {
   "cell_type": "code",
   "execution_count": null,
   "metadata": {
    "collapsed": true
   },
   "outputs": [],
   "source": []
  },
  {
   "cell_type": "code",
   "execution_count": null,
   "metadata": {
    "collapsed": true
   },
   "outputs": [],
   "source": []
  },
  {
   "cell_type": "code",
   "execution_count": null,
   "metadata": {
    "ExecuteTime": {
     "end_time": "2018-08-02T16:11:05.432764+08:00",
     "start_time": "2018-08-02T08:04:35.772Z"
    },
    "collapsed": true
   },
   "outputs": [],
   "source": [
    "import spyder"
   ]
  },
  {
   "cell_type": "code",
   "execution_count": null,
   "metadata": {
    "ExecuteTime": {
     "end_time": "2018-08-02T16:11:05.432979+08:00",
     "start_time": "2018-08-02T08:04:35.774Z"
    },
    "collapsed": true
   },
   "outputs": [],
   "source": [
    "from gwpy.timeseries import TimeSeriesDict\n",
    "from gwpy.plotter import TimeSeriesPlot"
   ]
  },
  {
   "cell_type": "code",
   "execution_count": null,
   "metadata": {
    "ExecuteTime": {
     "end_time": "2018-08-02T16:11:05.433303+08:00",
     "start_time": "2018-08-02T08:04:35.778Z"
    },
    "collapsed": true
   },
   "outputs": [],
   "source": [
    "channels = [\n",
    "    '%s:ISI-BS_ST1_SENSCOR_GND_STS_X_BLRMS_30M_100M.mean,s-trend',\n",
    "    '%s:ISI-BS_ST1_SENSCOR_GND_STS_Y_BLRMS_30M_100M.mean,s-trend',\n",
    "    '%s:ISI-BS_ST1_SENSCOR_GND_STS_Z_BLRMS_30M_100M.mean,s-trend',\n",
    "]"
   ]
  },
  {
   "cell_type": "code",
   "execution_count": null,
   "metadata": {
    "ExecuteTime": {
     "end_time": "2018-08-02T16:11:05.433666+08:00",
     "start_time": "2018-08-02T08:04:35.786Z"
    },
    "collapsed": true
   },
   "outputs": [],
   "source": [
    "lho = TimeSeriesDict.fetch([c % 'H1' for c in channels],\n",
    "                         'Feb 13 2015 16:00', 'Feb 14 2015 04:00', verbose=True)\n",
    "llo = TimeSeriesDict.fetch([c % 'L1' for c in channels],\n",
    "                         'Feb 13 2015 16:00', 'Feb 14 2015 04:00', verbose=True)"
   ]
  },
  {
   "cell_type": "code",
   "execution_count": null,
   "metadata": {
    "collapsed": true
   },
   "outputs": [],
   "source": []
  }
 ],
 "metadata": {
  "kernelspec": {
   "display_name": "Python 3",
   "language": "python",
   "name": "python3"
  },
  "language_info": {
   "codemirror_mode": {
    "name": "ipython",
    "version": 3
   },
   "file_extension": ".py",
   "mimetype": "text/x-python",
   "name": "python",
   "nbconvert_exporter": "python",
   "pygments_lexer": "ipython3",
   "version": "3.6.0"
  },
  "latex_envs": {
   "LaTeX_envs_menu_present": true,
   "autocomplete": true,
   "bibliofile": "biblio.bib",
   "cite_by": "apalike",
   "current_citInitial": 1,
   "eqLabelWithNumbers": true,
   "eqNumInitial": 1,
   "hotkeys": {
    "equation": "Ctrl-E",
    "itemize": "Ctrl-I"
   },
   "labels_anchors": false,
   "latex_user_defs": false,
   "report_style_numbering": false,
   "user_envs_cfg": false
  },
  "toc": {
   "nav_menu": {},
   "number_sections": true,
   "sideBar": true,
   "skip_h1_title": false,
   "toc_cell": false,
   "toc_position": {},
   "toc_section_display": "block",
   "toc_window_display": false
  }
 },
 "nbformat": 4,
 "nbformat_minor": 2
}
