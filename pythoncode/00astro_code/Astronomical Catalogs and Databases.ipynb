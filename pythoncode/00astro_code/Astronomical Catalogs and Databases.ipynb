{
 "cells": [
  {
   "cell_type": "markdown",
   "id": "a48f99e0",
   "metadata": {},
   "source": [
    "# [Astronomical Catalogs and Databases](https://astrodatascience.net/astronomical-catalogs-and-databases/)"
   ]
  },
  {
   "cell_type": "code",
   "execution_count": 2,
   "id": "4aaef56b",
   "metadata": {
    "ExecuteTime": {
     "end_time": "2023-06-07T04:41:07.285995Z",
     "start_time": "2023-06-07T04:41:03.139577Z"
    }
   },
   "outputs": [
    {
     "name": "stdout",
     "output_type": "stream",
     "text": [
      "Collecting hypatie\n",
      "  Downloading hypatie-2.20.1-py3-none-any.whl (70 kB)\n",
      "\u001b[K     |████████████████████████████████| 70 kB 755 kB/s eta 0:00:01\n",
      "\u001b[?25hRequirement already satisfied: scipy in /Users/lyubing/opt/anaconda3/lib/python3.9/site-packages (from hypatie) (1.10.1)\n",
      "Requirement already satisfied: matplotlib in /Users/lyubing/opt/anaconda3/lib/python3.9/site-packages (from hypatie) (3.5.2)\n",
      "Requirement already satisfied: pandas in /Users/lyubing/opt/anaconda3/lib/python3.9/site-packages (from hypatie) (1.4.2)\n",
      "Requirement already satisfied: numpy in /Users/lyubing/opt/anaconda3/lib/python3.9/site-packages (from hypatie) (1.22.4)\n",
      "Requirement already satisfied: requests in /Users/lyubing/opt/anaconda3/lib/python3.9/site-packages (from hypatie) (2.27.1)\n",
      "Requirement already satisfied: pyparsing>=2.2.1 in /Users/lyubing/opt/anaconda3/lib/python3.9/site-packages (from matplotlib->hypatie) (3.0.4)\n",
      "Requirement already satisfied: pillow>=6.2.0 in /Users/lyubing/opt/anaconda3/lib/python3.9/site-packages (from matplotlib->hypatie) (9.0.1)\n",
      "Requirement already satisfied: packaging>=20.0 in /Users/lyubing/opt/anaconda3/lib/python3.9/site-packages (from matplotlib->hypatie) (21.3)\n",
      "Requirement already satisfied: python-dateutil>=2.7 in /Users/lyubing/opt/anaconda3/lib/python3.9/site-packages (from matplotlib->hypatie) (2.8.2)\n",
      "Requirement already satisfied: cycler>=0.10 in /Users/lyubing/opt/anaconda3/lib/python3.9/site-packages (from matplotlib->hypatie) (0.11.0)\n",
      "Requirement already satisfied: fonttools>=4.22.0 in /Users/lyubing/opt/anaconda3/lib/python3.9/site-packages (from matplotlib->hypatie) (4.25.0)\n",
      "Requirement already satisfied: kiwisolver>=1.0.1 in /Users/lyubing/opt/anaconda3/lib/python3.9/site-packages (from matplotlib->hypatie) (1.3.2)\n",
      "Requirement already satisfied: six>=1.5 in /Users/lyubing/opt/anaconda3/lib/python3.9/site-packages (from python-dateutil>=2.7->matplotlib->hypatie) (1.16.0)\n",
      "Requirement already satisfied: pytz>=2020.1 in /Users/lyubing/opt/anaconda3/lib/python3.9/site-packages (from pandas->hypatie) (2021.3)\n",
      "Requirement already satisfied: charset-normalizer~=2.0.0 in /Users/lyubing/opt/anaconda3/lib/python3.9/site-packages (from requests->hypatie) (2.0.4)\n",
      "Requirement already satisfied: idna<4,>=2.5 in /Users/lyubing/opt/anaconda3/lib/python3.9/site-packages (from requests->hypatie) (3.3)\n",
      "Requirement already satisfied: certifi>=2017.4.17 in /Users/lyubing/opt/anaconda3/lib/python3.9/site-packages (from requests->hypatie) (2022.9.24)\n",
      "Requirement already satisfied: urllib3<1.27,>=1.21.1 in /Users/lyubing/opt/anaconda3/lib/python3.9/site-packages (from requests->hypatie) (1.26.9)\n",
      "Installing collected packages: hypatie\n",
      "Successfully installed hypatie-2.20.1\n"
     ]
    }
   ],
   "source": [
    "#Install a pip package in the current Jupyter kernel\n",
    "import sys\n",
    "!{sys.executable} -m pip install hypatie\n",
    "#pip install hypatie"
   ]
  },
  {
   "cell_type": "code",
   "execution_count": 8,
   "id": "48953c75",
   "metadata": {
    "ExecuteTime": {
     "end_time": "2023-06-07T04:45:00.316681Z",
     "start_time": "2023-06-07T04:45:00.307788Z"
    }
   },
   "outputs": [],
   "source": [
    "from hypatie.simbad import object_type, sql2df"
   ]
  },
  {
   "cell_type": "markdown",
   "id": "9de72178",
   "metadata": {
    "ExecuteTime": {
     "end_time": "2023-06-07T04:41:49.366056Z",
     "start_time": "2023-06-07T04:41:07.289273Z"
    }
   },
   "source": [
    "\n",
    "sql2df(\"SELECT COUNT(*) FROM basic\")\n",
    "#COUNT_ALL"
   ]
  },
  {
   "cell_type": "code",
   "execution_count": 4,
   "id": "682235c7",
   "metadata": {
    "ExecuteTime": {
     "end_time": "2023-06-07T04:43:08.989677Z",
     "start_time": "2023-06-07T04:42:23.053130Z"
    }
   },
   "outputs": [
    {
     "data": {
      "text/html": [
       "<div>\n",
       "<style scoped>\n",
       "    .dataframe tbody tr th:only-of-type {\n",
       "        vertical-align: middle;\n",
       "    }\n",
       "\n",
       "    .dataframe tbody tr th {\n",
       "        vertical-align: top;\n",
       "    }\n",
       "\n",
       "    .dataframe thead th {\n",
       "        text-align: right;\n",
       "    }\n",
       "</style>\n",
       "<table border=\"1\" class=\"dataframe\">\n",
       "  <thead>\n",
       "    <tr style=\"text-align: right;\">\n",
       "      <th></th>\n",
       "      <th>COUNT_ALL</th>\n",
       "    </tr>\n",
       "  </thead>\n",
       "  <tbody>\n",
       "    <tr>\n",
       "      <th>0</th>\n",
       "      <td>6591207</td>\n",
       "    </tr>\n",
       "  </tbody>\n",
       "</table>\n",
       "</div>"
      ],
      "text/plain": [
       "  COUNT_ALL\n",
       "0   6591207"
      ]
     },
     "execution_count": 4,
     "metadata": {},
     "output_type": "execute_result"
    }
   ],
   "source": [
    "stars = str(tuple(object_type('star')))\n",
    "sql2df(f\"SELECT COUNT(*) FROM basic WHERE otype_txt IN {stars}\")\n",
    "#COUNT_ALL"
   ]
  },
  {
   "cell_type": "code",
   "execution_count": null,
   "id": "2f48b94f",
   "metadata": {},
   "outputs": [],
   "source": []
  },
  {
   "cell_type": "code",
   "execution_count": null,
   "id": "53d38bc2",
   "metadata": {},
   "outputs": [],
   "source": [
    "from hypatie import Catalogue\n",
    " \n",
    "cols = ['source_id','ra','dec','parallax','phot_g_mean_mag']\n",
    " \n",
    "hip = Catalogue(\n",
    "    name='gaia2',\n",
    "    columns=cols,\n",
    "    where='phot_g_mean_mag BETWEEN 0 AND 4',\n",
    "    n_max=10#0000\n",
    "    )\n",
    " \n",
    "data, meta = hip.download()"
   ]
  },
  {
   "cell_type": "code",
   "execution_count": 11,
   "id": "c70369ed",
   "metadata": {
    "ExecuteTime": {
     "end_time": "2023-06-07T04:45:17.458727Z",
     "start_time": "2023-06-07T04:45:17.429403Z"
    }
   },
   "outputs": [
    {
     "ename": "ImportError",
     "evalue": "cannot import name 'Catalogue' from 'hypatie' (/Users/lyubing/opt/anaconda3/lib/python3.9/site-packages/hypatie/__init__.py)",
     "output_type": "error",
     "traceback": [
      "\u001b[0;31m---------------------------------------------------------------------------\u001b[0m",
      "\u001b[0;31mImportError\u001b[0m                               Traceback (most recent call last)",
      "Input \u001b[0;32mIn [11]\u001b[0m, in \u001b[0;36m<cell line: 1>\u001b[0;34m()\u001b[0m\n\u001b[0;32m----> 1\u001b[0m \u001b[38;5;28;01mfrom\u001b[39;00m \u001b[38;5;21;01mhypatie\u001b[39;00m \u001b[38;5;28;01mimport\u001b[39;00m Catalogue\n",
      "\u001b[0;31mImportError\u001b[0m: cannot import name 'Catalogue' from 'hypatie' (/Users/lyubing/opt/anaconda3/lib/python3.9/site-packages/hypatie/__init__.py)"
     ]
    }
   ],
   "source": [
    "from hypatie import Catalogue"
   ]
  },
  {
   "cell_type": "code",
   "execution_count": 12,
   "id": "dfe7a543",
   "metadata": {
    "ExecuteTime": {
     "end_time": "2023-06-07T04:45:21.227341Z",
     "start_time": "2023-06-07T04:45:21.220025Z"
    }
   },
   "outputs": [],
   "source": [
    "import hypatie as hp"
   ]
  },
  {
   "cell_type": "code",
   "execution_count": 14,
   "id": "e6273b65",
   "metadata": {
    "ExecuteTime": {
     "end_time": "2023-06-07T04:45:31.499280Z",
     "start_time": "2023-06-07T04:45:31.488793Z"
    }
   },
   "outputs": [],
   "source": [
    "hp?"
   ]
  },
  {
   "cell_type": "code",
   "execution_count": 13,
   "id": "0c7f4ecd",
   "metadata": {
    "ExecuteTime": {
     "end_time": "2023-06-07T04:45:24.633400Z",
     "start_time": "2023-06-07T04:45:24.601976Z"
    }
   },
   "outputs": [
    {
     "ename": "AttributeError",
     "evalue": "module 'hypatie' has no attribute 'Catalogue'",
     "output_type": "error",
     "traceback": [
      "\u001b[0;31m---------------------------------------------------------------------------\u001b[0m",
      "\u001b[0;31mAttributeError\u001b[0m                            Traceback (most recent call last)",
      "Input \u001b[0;32mIn [13]\u001b[0m, in \u001b[0;36m<cell line: 3>\u001b[0;34m()\u001b[0m\n\u001b[1;32m      1\u001b[0m \u001b[38;5;28;01mimport\u001b[39;00m \u001b[38;5;21;01mhypatie\u001b[39;00m \u001b[38;5;28;01mas\u001b[39;00m \u001b[38;5;21;01mhp\u001b[39;00m\n\u001b[1;32m      2\u001b[0m \u001b[38;5;66;03m#\u001b[39;00m\n\u001b[0;32m----> 3\u001b[0m hip \u001b[38;5;241m=\u001b[39m \u001b[43mhp\u001b[49m\u001b[38;5;241;43m.\u001b[39;49m\u001b[43mCatalogue\u001b[49m(name\u001b[38;5;241m=\u001b[39m\u001b[38;5;124m'\u001b[39m\u001b[38;5;124mhipparcos\u001b[39m\u001b[38;5;124m'\u001b[39m, where\u001b[38;5;241m=\u001b[39m\u001b[38;5;124m'\u001b[39m\u001b[38;5;124mVmag > 1\u001b[39m\u001b[38;5;124m'\u001b[39m)\n\u001b[1;32m      4\u001b[0m data, meta \u001b[38;5;241m=\u001b[39m hip\u001b[38;5;241m.\u001b[39mdownload()\n",
      "\u001b[0;31mAttributeError\u001b[0m: module 'hypatie' has no attribute 'Catalogue'"
     ]
    }
   ],
   "source": [
    "import hypatie as hp\n",
    "#\n",
    "hip = hp.Catalogue(name='hipparcos', where='Vmag > 1')\n",
    "data, meta = hip.download()"
   ]
  },
  {
   "cell_type": "code",
   "execution_count": null,
   "id": "6b39a735",
   "metadata": {},
   "outputs": [],
   "source": [
    "data.shape\n",
    "data.head()"
   ]
  }
 ],
 "metadata": {
  "kernelspec": {
   "display_name": "Python 3 (ipykernel)",
   "language": "python",
   "name": "python3"
  },
  "language_info": {
   "codemirror_mode": {
    "name": "ipython",
    "version": 3
   },
   "file_extension": ".py",
   "mimetype": "text/x-python",
   "name": "python",
   "nbconvert_exporter": "python",
   "pygments_lexer": "ipython3",
   "version": "3.9.12"
  },
  "latex_envs": {
   "LaTeX_envs_menu_present": true,
   "autoclose": false,
   "autocomplete": true,
   "bibliofile": "biblio.bib",
   "cite_by": "apalike",
   "current_citInitial": 1,
   "eqLabelWithNumbers": true,
   "eqNumInitial": 1,
   "hotkeys": {
    "equation": "Ctrl-E",
    "itemize": "Ctrl-I"
   },
   "labels_anchors": false,
   "latex_user_defs": false,
   "report_style_numbering": false,
   "user_envs_cfg": false
  },
  "toc": {
   "base_numbering": 1,
   "nav_menu": {},
   "number_sections": true,
   "sideBar": true,
   "skip_h1_title": false,
   "title_cell": "Table of Contents",
   "title_sidebar": "Contents",
   "toc_cell": false,
   "toc_position": {},
   "toc_section_display": true,
   "toc_window_display": false
  }
 },
 "nbformat": 4,
 "nbformat_minor": 5
}
