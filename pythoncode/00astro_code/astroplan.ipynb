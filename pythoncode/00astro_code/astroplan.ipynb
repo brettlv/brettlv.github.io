{
 "cells": [
  {
   "cell_type": "code",
   "execution_count": 2,
   "id": "d5177044",
   "metadata": {
    "ExecuteTime": {
     "end_time": "2023-06-07T04:36:12.850789Z",
     "start_time": "2023-06-07T04:36:01.072123Z"
    }
   },
   "outputs": [
    {
     "name": "stdout",
     "output_type": "stream",
     "text": [
      "Collecting astroplan\n",
      "  Downloading astroplan-0.8.tar.gz (134 kB)\n",
      "\u001b[K     |████████████████████████████████| 134 kB 796 kB/s eta 0:00:01\n",
      "\u001b[?25h  Installing build dependencies ... \u001b[?25ldone\n",
      "\u001b[?25h  Getting requirements to build wheel ... \u001b[?25ldone\n",
      "\u001b[?25h    Preparing wheel metadata ... \u001b[?25ldone\n",
      "\u001b[?25hRequirement already satisfied: numpy>=1.17 in /Users/lyubing/opt/anaconda3/lib/python3.9/site-packages (from astroplan) (1.22.4)\n",
      "Requirement already satisfied: pytz in /Users/lyubing/opt/anaconda3/lib/python3.9/site-packages (from astroplan) (2021.3)\n",
      "Requirement already satisfied: astropy>=4 in /Users/lyubing/opt/anaconda3/lib/python3.9/site-packages (from astroplan) (4.3.1)\n",
      "Requirement already satisfied: six in /Users/lyubing/opt/anaconda3/lib/python3.9/site-packages (from astroplan) (1.16.0)\n",
      "Requirement already satisfied: pyerfa>=1.7.3 in /Users/lyubing/opt/anaconda3/lib/python3.9/site-packages (from astropy>=4->astroplan) (2.0.0)\n",
      "Building wheels for collected packages: astroplan\n",
      "  Building wheel for astroplan (PEP 517) ... \u001b[?25ldone\n",
      "\u001b[?25h  Created wheel for astroplan: filename=astroplan-0.8-py3-none-any.whl size=83258 sha256=2e5fd99e36edf4880787687c00a80e503bc6c1088b9f60c0da2335fad2f2e225\n",
      "  Stored in directory: /Users/lyubing/Library/Caches/pip/wheels/2e/b0/14/4b1df814cb32ad11a009136db6e84c63bc17bc1205ad5dedfa\n",
      "Successfully built astroplan\n",
      "Installing collected packages: astroplan\n",
      "Successfully installed astroplan-0.8\n"
     ]
    }
   ],
   "source": [
    "#Install a pip package in the current Jupyter kernel\n",
    "import sys\n",
    "!{sys.executable} -m pip install astroplan"
   ]
  },
  {
   "cell_type": "code",
   "execution_count": 4,
   "id": "94ee51ea",
   "metadata": {
    "ExecuteTime": {
     "end_time": "2023-06-07T04:36:44.876485Z",
     "start_time": "2023-06-07T04:36:34.091609Z"
    }
   },
   "outputs": [
    {
     "name": "stdout",
     "output_type": "stream",
     "text": [
      "Collecting pytest-astropy\n",
      "  Downloading pytest_astropy-0.10.0-py3-none-any.whl (5.1 kB)\n",
      "Collecting pytest-remotedata>=0.3.1\n",
      "  Downloading pytest_remotedata-0.4.0-py3-none-any.whl (8.6 kB)\n",
      "Requirement already satisfied: pytest>=4.6 in /Users/lyubing/opt/anaconda3/lib/python3.9/site-packages (from pytest-astropy) (7.1.1)\n",
      "Collecting pytest-cov>=2.3.1\n",
      "  Downloading pytest_cov-4.1.0-py3-none-any.whl (21 kB)\n",
      "Requirement already satisfied: attrs>=19.2.0 in /Users/lyubing/opt/anaconda3/lib/python3.9/site-packages (from pytest-astropy) (21.4.0)\n",
      "Collecting pytest-openfiles>=0.3.1\n",
      "  Downloading pytest_openfiles-0.5.0-py3-none-any.whl (6.5 kB)\n",
      "Collecting pytest-mock>=2.0\n",
      "  Downloading pytest_mock-3.10.0-py3-none-any.whl (9.3 kB)\n",
      "Collecting pytest-doctestplus>=0.11.0\n",
      "  Downloading pytest_doctestplus-0.12.1-py3-none-any.whl (20 kB)\n",
      "Collecting pytest-filter-subpackage>=0.1\n",
      "  Downloading pytest_filter_subpackage-0.1.2-py2.py3-none-any.whl (5.2 kB)\n",
      "Collecting hypothesis>=5.1\n",
      "  Downloading hypothesis-6.76.0-py3-none-any.whl (414 kB)\n",
      "\u001b[K     |████████████████████████████████| 414 kB 533 kB/s eta 0:00:01\n",
      "\u001b[?25hCollecting pytest-arraydiff>=0.1\n",
      "  Downloading pytest_arraydiff-0.5.0-py3-none-any.whl (9.4 kB)\n",
      "Collecting pytest-astropy-header>=0.1.2\n",
      "  Downloading pytest_astropy_header-0.2.2-py3-none-any.whl (7.8 kB)\n",
      "Collecting exceptiongroup>=1.0.0\n",
      "  Downloading exceptiongroup-1.1.1-py3-none-any.whl (14 kB)\n",
      "Requirement already satisfied: sortedcontainers<3.0.0,>=2.1.0 in /Users/lyubing/opt/anaconda3/lib/python3.9/site-packages (from hypothesis>=5.1->pytest-astropy) (2.4.0)\n",
      "Requirement already satisfied: iniconfig in /Users/lyubing/opt/anaconda3/lib/python3.9/site-packages (from pytest>=4.6->pytest-astropy) (1.1.1)\n",
      "Requirement already satisfied: packaging in /Users/lyubing/opt/anaconda3/lib/python3.9/site-packages (from pytest>=4.6->pytest-astropy) (21.3)\n",
      "Requirement already satisfied: pluggy<2.0,>=0.12 in /Users/lyubing/opt/anaconda3/lib/python3.9/site-packages (from pytest>=4.6->pytest-astropy) (1.0.0)\n",
      "Requirement already satisfied: py>=1.8.2 in /Users/lyubing/opt/anaconda3/lib/python3.9/site-packages (from pytest>=4.6->pytest-astropy) (1.11.0)\n",
      "Requirement already satisfied: tomli>=1.0.0 in /Users/lyubing/opt/anaconda3/lib/python3.9/site-packages (from pytest>=4.6->pytest-astropy) (1.2.2)\n",
      "Requirement already satisfied: numpy in /Users/lyubing/opt/anaconda3/lib/python3.9/site-packages (from pytest-arraydiff>=0.1->pytest-astropy) (1.22.4)\n",
      "Collecting coverage[toml]>=5.2.1\n",
      "  Downloading coverage-7.2.7-cp39-cp39-macosx_10_9_x86_64.whl (200 kB)\n",
      "\u001b[K     |████████████████████████████████| 200 kB 668 kB/s eta 0:00:01\n",
      "\u001b[?25hRequirement already satisfied: setuptools>=30.3.0 in /Users/lyubing/opt/anaconda3/lib/python3.9/site-packages (from pytest-doctestplus>=0.11.0->pytest-astropy) (59.8.0)\n",
      "Requirement already satisfied: pyparsing!=3.0.5,>=2.0.2 in /Users/lyubing/opt/anaconda3/lib/python3.9/site-packages (from packaging->pytest>=4.6->pytest-astropy) (3.0.4)\n",
      "Requirement already satisfied: psutil in /Users/lyubing/opt/anaconda3/lib/python3.9/site-packages (from pytest-openfiles>=0.3.1->pytest-astropy) (5.8.0)\n",
      "Installing collected packages: coverage, exceptiongroup, pytest-remotedata, pytest-openfiles, pytest-mock, pytest-filter-subpackage, pytest-doctestplus, pytest-cov, pytest-astropy-header, pytest-arraydiff, hypothesis, pytest-astropy\n",
      "Successfully installed coverage-7.2.7 exceptiongroup-1.1.1 hypothesis-6.76.0 pytest-arraydiff-0.5.0 pytest-astropy-0.10.0 pytest-astropy-header-0.2.2 pytest-cov-4.1.0 pytest-doctestplus-0.12.1 pytest-filter-subpackage-0.1.2 pytest-mock-3.10.0 pytest-openfiles-0.5.0 pytest-remotedata-0.4.0\n"
     ]
    }
   ],
   "source": [
    "!{sys.executable} -m pip install pytest-astropy"
   ]
  },
  {
   "cell_type": "code",
   "execution_count": 5,
   "id": "2983b8ae",
   "metadata": {
    "ExecuteTime": {
     "end_time": "2023-06-07T04:37:11.146851Z",
     "start_time": "2023-06-07T04:36:44.879477Z"
    }
   },
   "outputs": [
    {
     "name": "stdout",
     "output_type": "stream",
     "text": [
      "============================= test session starts ==============================\n",
      "platform darwin -- Python 3.9.12, pytest-7.1.1, pluggy-1.0.0\n",
      "rootdir: /Users/lyubing\n",
      "plugins: remotedata-0.4.0, anyio-3.5.0, hypothesis-6.76.0, asdf-2.13.0, mock-3.10.0, cov-4.1.0, filter-subpackage-0.1.2, astropy-header-0.2.2, doctestplus-0.12.1, astropy-0.10.0, openfiles-0.5.0, arraydiff-0.5.0\n",
      "collected 84 items\n",
      "\n",
      "../../../../opt/anaconda3/lib/python3.9/site-packages/astroplan/plots/tests/test_sky.py . [  1%]\n",
      ".                                                                        [  2%]\n",
      "../../../../opt/anaconda3/lib/python3.9/site-packages/astroplan/tests/test_constraints.py . [  3%]\n",
      ".......................                                                  [ 30%]\n",
      "../../../../opt/anaconda3/lib/python3.9/site-packages/astroplan/tests/test_moon.py . [ 32%]\n",
      "                                                                         [ 32%]\n",
      "../../../../opt/anaconda3/lib/python3.9/site-packages/astroplan/tests/test_observer.py . [ 33%]\n",
      "................................                                         [ 71%]\n",
      "../../../../opt/anaconda3/lib/python3.9/site-packages/astroplan/tests/test_periodic.py . [ 72%]\n",
      "....                                                                     [ 77%]\n",
      "../../../../opt/anaconda3/lib/python3.9/site-packages/astroplan/tests/test_scheduling.py . [ 78%]\n",
      "............                                                             [ 92%]\n",
      "../../../../opt/anaconda3/lib/python3.9/site-packages/astroplan/tests/test_target.py . [ 94%]\n",
      "..                                                                       [ 96%]\n",
      "../../../../opt/anaconda3/lib/python3.9/site-packages/astroplan/tests/test_utils.py . [ 97%]\n",
      "..                                                                       [100%]\n",
      "\n",
      "=============================== warnings summary ===============================\n",
      "../../../../opt/anaconda3/lib/python3.9/site-packages/astroplan/plots/tests/test_sky.py:18\n",
      "  /Users/lyubing/opt/anaconda3/lib/python3.9/site-packages/astroplan/plots/tests/test_sky.py:18: PytestUnknownMarkWarning: Unknown pytest.mark.mpl_image_compare - is this a typo?  You can register custom marks to avoid this warning - for details, see https://docs.pytest.org/en/stable/how-to/mark.html\n",
      "    @pytest.mark.mpl_image_compare\n",
      "\n",
      "../../../../opt/anaconda3/lib/python3.9/site-packages/astroplan/plots/tests/test_sky.py:28\n",
      "  /Users/lyubing/opt/anaconda3/lib/python3.9/site-packages/astroplan/plots/tests/test_sky.py:28: PytestUnknownMarkWarning: Unknown pytest.mark.mpl_image_compare - is this a typo?  You can register custom marks to avoid this warning - for details, see https://docs.pytest.org/en/stable/how-to/mark.html\n",
      "    @pytest.mark.mpl_image_compare\n",
      "\n",
      "opt/anaconda3/lib/python3.9/site-packages/astroplan/plots/tests/test_sky.py::test_timezone\n",
      "  /Users/lyubing/opt/anaconda3/lib/python3.9/site-packages/astroplan/plots/time_dependent.py:194: UserWarning: linestyle is redundantly defined by the 'linestyle' keyword argument and the fmt string \"-\" (-> linestyle='-'). The keyword argument will take precedence.\n",
      "    ax.plot_date(timetoplot.plot_date, masked_airmass, label=target_name, **style_kwargs)\n",
      "\n",
      "opt/anaconda3/lib/python3.9/site-packages/astroplan/tests/test_observer.py::test_rise_set_transit_nearest_vector\n",
      "  /Users/lyubing/opt/anaconda3/lib/python3.9/site-packages/astroplan/observer.py:615: TargetAlwaysUpWarning: Target with index 3 does not cross horizon=0.0 deg within 24 hours\n",
      "    warnings.warn(warnmsg, TargetAlwaysUpWarning)\n",
      "\n",
      "opt/anaconda3/lib/python3.9/site-packages/astroplan/tests/test_observer.py::test_rise_set_transit_nearest_vector\n",
      "  /Users/lyubing/opt/anaconda3/lib/python3.9/site-packages/erfa/core.py:154: ErfaWarning: ERFA function \"utctai\" yielded 1 of \"dubious year (Note 3)\"\n",
      "    warnings.warn('ERFA function \"{}\" yielded {}'.format(func_name, wmsg),\n",
      "\n",
      "opt/anaconda3/lib/python3.9/site-packages/astroplan/tests/test_observer.py::test_rise_set_transit_nearest_vector\n",
      "  /Users/lyubing/opt/anaconda3/lib/python3.9/site-packages/astroplan/observer.py:615: TargetAlwaysUpWarning: Target with index 0 does not cross horizon=0.0 deg within 24 hours\n",
      "    warnings.warn(warnmsg, TargetAlwaysUpWarning)\n",
      "\n",
      "opt/anaconda3/lib/python3.9/site-packages/astroplan/tests/test_scheduling.py: 13 warnings\n",
      "  /Users/lyubing/opt/anaconda3/lib/python3.9/site-packages/astroplan/scheduling.py:766: DeprecationWarning: `np.int` is a deprecated alias for the builtin `int`. To silence this warning, use `int` by itself. Doing this will not modify any behavior and is safe. When replacing `np.int`, you may wish to use e.g. `np.int64` or `np.int32` to specify the precision. If you wish to review your current use, check the release note link for additional information.\n",
      "  Deprecated in NumPy 1.20; for more details and guidance: https://numpy.org/devdocs/release/1.20.0-notes.html#deprecations\n",
      "    _stride_by = np.int(np.ceil(float(b.duration / time_resolution)))\n",
      "\n",
      "opt/anaconda3/lib/python3.9/site-packages/astroplan/tests/test_scheduling.py: 10 warnings\n",
      "  /Users/lyubing/opt/anaconda3/lib/python3.9/site-packages/astroplan/scheduling.py:810: DeprecationWarning: `np.int` is a deprecated alias for the builtin `int`. To silence this warning, use `int` by itself. Doing this will not modify any behavior and is safe. When replacing `np.int`, you may wish to use e.g. `np.int64` or `np.int32` to specify the precision. If you wish to review your current use, check the release note link for additional information.\n",
      "  Deprecated in NumPy 1.20; for more details and guidance: https://numpy.org/devdocs/release/1.20.0-notes.html#deprecations\n",
      "    duration_indices = np.int(np.ceil(\n",
      "\n",
      "opt/anaconda3/lib/python3.9/site-packages/astroplan/tests/test_scheduling.py::test_priority_scheduler\n",
      "opt/anaconda3/lib/python3.9/site-packages/astroplan/tests/test_scheduling.py::test_priority_scheduler\n",
      "opt/anaconda3/lib/python3.9/site-packages/astroplan/tests/test_scheduling.py::test_priority_scheduler\n",
      "opt/anaconda3/lib/python3.9/site-packages/astroplan/tests/test_scheduling.py::test_priority_scheduler\n",
      "opt/anaconda3/lib/python3.9/site-packages/astroplan/tests/test_scheduling.py::test_priority_scheduler\n",
      "opt/anaconda3/lib/python3.9/site-packages/astroplan/tests/test_scheduling.py::test_priority_scheduler\n",
      "opt/anaconda3/lib/python3.9/site-packages/astroplan/tests/test_scheduling.py::test_priority_scheduler\n",
      "opt/anaconda3/lib/python3.9/site-packages/astroplan/tests/test_scheduling.py::test_priority_scheduler\n",
      "opt/anaconda3/lib/python3.9/site-packages/astroplan/tests/test_scheduling.py::test_priority_scheduler\n",
      "  /Users/lyubing/opt/anaconda3/lib/python3.9/site-packages/astroplan/scheduling.py:877: DeprecationWarning: `np.int` is a deprecated alias for the builtin `int`. To silence this warning, use `int` by itself. Doing this will not modify any behavior and is safe. When replacing `np.int`, you may wish to use e.g. `np.int64` or `np.int32` to specify the precision. If you wish to review your current use, check the release note link for additional information.\n",
      "  Deprecated in NumPy 1.20; for more details and guidance: https://numpy.org/devdocs/release/1.20.0-notes.html#deprecations\n",
      "    block.duration = self.time_resolution * np.int(\n",
      "\n",
      "opt/anaconda3/lib/python3.9/site-packages/astroplan/tests/test_scheduling.py::test_priority_scheduler\n",
      "opt/anaconda3/lib/python3.9/site-packages/astroplan/tests/test_scheduling.py::test_priority_scheduler\n",
      "opt/anaconda3/lib/python3.9/site-packages/astroplan/tests/test_scheduling.py::test_priority_scheduler\n",
      "opt/anaconda3/lib/python3.9/site-packages/astroplan/tests/test_scheduling.py::test_priority_scheduler\n",
      "opt/anaconda3/lib/python3.9/site-packages/astroplan/tests/test_scheduling.py::test_priority_scheduler\n",
      "  /Users/lyubing/opt/anaconda3/lib/python3.9/site-packages/astroplan/scheduling.py:909: DeprecationWarning: `np.int` is a deprecated alias for the builtin `int`. To silence this warning, use `int` by itself. Doing this will not modify any behavior and is safe. When replacing `np.int`, you may wish to use e.g. `np.int64` or `np.int32` to specify the precision. If you wish to review your current use, check the release note link for additional information.\n",
      "  Deprecated in NumPy 1.20; for more details and guidance: https://numpy.org/devdocs/release/1.20.0-notes.html#deprecations\n",
      "    end_idx += np.int(tb_after.duration/self.time_resolution)\n",
      "\n",
      "opt/anaconda3/lib/python3.9/site-packages/astroplan/tests/test_scheduling.py::test_priority_scheduler\n",
      "opt/anaconda3/lib/python3.9/site-packages/astroplan/tests/test_scheduling.py::test_priority_scheduler\n",
      "opt/anaconda3/lib/python3.9/site-packages/astroplan/tests/test_scheduling.py::test_priority_scheduler\n",
      "opt/anaconda3/lib/python3.9/site-packages/astroplan/tests/test_scheduling.py::test_priority_scheduler\n",
      "  /Users/lyubing/opt/anaconda3/lib/python3.9/site-packages/astroplan/scheduling.py:894: DeprecationWarning: `np.int` is a deprecated alias for the builtin `int`. To silence this warning, use `int` by itself. Doing this will not modify any behavior and is safe. When replacing `np.int`, you may wish to use e.g. `np.int64` or `np.int32` to specify the precision. If you wish to review your current use, check the release note link for additional information.\n",
      "  Deprecated in NumPy 1.20; for more details and guidance: https://numpy.org/devdocs/release/1.20.0-notes.html#deprecations\n",
      "    transition_indices = np.int(tb_before.duration / self.time_resolution)\n",
      "\n",
      "-- Docs: https://docs.pytest.org/en/stable/how-to/capture-warnings.html\n",
      "======================= 84 passed, 47 warnings in 25.00s =======================\n"
     ]
    },
    {
     "data": {
      "text/plain": [
       "<ExitCode.OK: 0>"
      ]
     },
     "execution_count": 5,
     "metadata": {},
     "output_type": "execute_result"
    },
    {
     "data": {
      "image/png": "[encoded data removed]",
      "text/plain": [
       "<Figure size 432x288 with 1 Axes>"
      ]
     },
     "metadata": {
      "needs_background": "light"
     },
     "output_type": "display_data"
    }
   ],
   "source": [
    "import astroplan\n",
    "astroplan.test()"
   ]
  },
  {
   "cell_type": "code",
   "execution_count": null,
   "id": "3933093d",
   "metadata": {},
   "outputs": [],
   "source": []
  },
  {
   "cell_type": "code",
   "execution_count": 6,
   "id": "63afc9c3",
   "metadata": {
    "ExecuteTime": {
     "end_time": "2023-06-07T04:49:12.331368Z",
     "start_time": "2023-06-07T04:49:12.263033Z"
    }
   },
   "outputs": [
    {
     "ename": "NameError",
     "evalue": "name 'target' is not defined",
     "output_type": "error",
     "traceback": [
      "\u001b[0;31m---------------------------------------------------------------------------\u001b[0m",
      "\u001b[0;31mNameError\u001b[0m                                 Traceback (most recent call last)",
      "Input \u001b[0;32mIn [6]\u001b[0m, in \u001b[0;36m<cell line: 3>\u001b[0;34m()\u001b[0m\n\u001b[1;32m      1\u001b[0m \u001b[38;5;28;01mfrom\u001b[39;00m \u001b[38;5;21;01mastroplan\u001b[39;00m\u001b[38;5;21;01m.\u001b[39;00m\u001b[38;5;21;01mplots\u001b[39;00m \u001b[38;5;28;01mimport\u001b[39;00m plot_airmass\n\u001b[0;32m----> 3\u001b[0m plot_airmass(\u001b[43mtarget\u001b[49m, observer, time)\n",
      "\u001b[0;31mNameError\u001b[0m: name 'target' is not defined"
     ]
    }
   ],
   "source": [
    "from astroplan.plots import plot_airmass\n",
    "\n",
    "plot_airmass(target, observer, time)"
   ]
  },
  {
   "cell_type": "code",
   "execution_count": 7,
   "id": "f0cfd13c",
   "metadata": {
    "ExecuteTime": {
     "end_time": "2023-06-07T04:49:29.421651Z",
     "start_time": "2023-06-07T04:49:29.396156Z"
    }
   },
   "outputs": [
    {
     "ename": "NameError",
     "evalue": "name 'plot_parallactic' is not defined",
     "output_type": "error",
     "traceback": [
      "\u001b[0;31m---------------------------------------------------------------------------\u001b[0m",
      "\u001b[0;31mNameError\u001b[0m                                 Traceback (most recent call last)",
      "Input \u001b[0;32mIn [7]\u001b[0m, in \u001b[0;36m<cell line: 3>\u001b[0;34m()\u001b[0m\n\u001b[1;32m      1\u001b[0m \u001b[38;5;28;01mfrom\u001b[39;00m \u001b[38;5;21;01mastroplan\u001b[39;00m\u001b[38;5;21;01m.\u001b[39;00m\u001b[38;5;21;01mplots\u001b[39;00m \u001b[38;5;28;01mimport\u001b[39;00m plot_airmass\n\u001b[0;32m----> 3\u001b[0m \u001b[43mplot_parallactic\u001b[49m(target, observer, time)\n",
      "\u001b[0;31mNameError\u001b[0m: name 'plot_parallactic' is not defined"
     ]
    }
   ],
   "source": [
    "from astroplan.plots import plot_airmass\n",
    "\n",
    "plot_parallactic(target, observer, time)"
   ]
  },
  {
   "cell_type": "code",
   "execution_count": 12,
   "id": "a29e23c9",
   "metadata": {
    "ExecuteTime": {
     "end_time": "2023-06-07T04:51:28.097270Z",
     "start_time": "2023-06-07T04:51:27.953894Z"
    }
   },
   "outputs": [
    {
     "name": "stderr",
     "output_type": "stream",
     "text": [
      "/Users/lyubing/opt/anaconda3/lib/python3.9/site-packages/astroplan/plots/time_dependent.py:194: UserWarning: linestyle is redundantly defined by the 'linestyle' keyword argument and the fmt string \"-\" (-> linestyle='-'). The keyword argument will take precedence.\n",
      "  ax.plot_date(timetoplot.plot_date, masked_airmass, label=target_name, **style_kwargs)\n"
     ]
    },
    {
     "data": {
      "image/png": "[encoded data removed]",
      "text/plain": [
       "<Figure size 432x288 with 1 Axes>"
      ]
     },
     "metadata": {
      "needs_background": "light"
     },
     "output_type": "display_data"
    }
   ],
   "source": [
    "import matplotlib.pyplot as plt\n",
    "from astropy.time import Time\n",
    "from astroplan.plots import plot_airmass\n",
    "\n",
    "observe_time = Time('2023-06-08 23:30:00')\n",
    "target = FixedTarget.from_name('Mrk 1018')\n",
    "apo = Observer.at_site('APO')\n",
    "observer=apo\n",
    "plot_airmass(target, observer, observe_time)\n",
    "plt.show()"
   ]
  },
  {
   "cell_type": "code",
   "execution_count": null,
   "id": "0f5eb818",
   "metadata": {},
   "outputs": [],
   "source": []
  },
  {
   "cell_type": "code",
   "execution_count": null,
   "id": "ddd6c4a5",
   "metadata": {},
   "outputs": [],
   "source": []
  },
  {
   "cell_type": "code",
   "execution_count": 9,
   "id": "e2d19065",
   "metadata": {
    "ExecuteTime": {
     "end_time": "2023-06-07T04:50:39.063066Z",
     "start_time": "2023-06-07T04:50:37.285340Z"
    }
   },
   "outputs": [
    {
     "name": "stderr",
     "output_type": "stream",
     "text": [
      "/Users/lyubing/opt/anaconda3/lib/python3.9/site-packages/astroplan/plots/time_dependent.py:194: UserWarning: linestyle is redundantly defined by the 'linestyle' keyword argument and the fmt string \"-\" (-> linestyle='-'). The keyword argument will take precedence.\n",
      "  ax.plot_date(timetoplot.plot_date, masked_airmass, label=target_name, **style_kwargs)\n"
     ]
    },
    {
     "data": {
      "text/plain": [
       "<AxesSubplot:xlabel='Time from 2018-01-02 [UTC]', ylabel='Airmass'>"
      ]
     },
     "execution_count": 9,
     "metadata": {},
     "output_type": "execute_result"
    },
    {
     "data": {
      "image/png": "[encoded data removed]",
      "text/plain": [
       "<Figure size 432x288 with 2 Axes>"
      ]
     },
     "metadata": {
      "needs_background": "light"
     },
     "output_type": "display_data"
    }
   ],
   "source": [
    "import matplotlib.pyplot as plt\n",
    "from astropy.time import Time\n",
    "from astroplan import FixedTarget, Observer\n",
    "from astroplan.plots import plot_airmass\n",
    "\n",
    "time = Time('2018-01-02 19:00')\n",
    "target = FixedTarget.from_name('HD 189733')\n",
    "apo = Observer.at_site('APO')\n",
    "plot_airmass(target, apo, time, brightness_shading=True, altitude_yaxis=True)"
   ]
  },
  {
   "cell_type": "code",
   "execution_count": 13,
   "id": "c5d00c4e",
   "metadata": {
    "ExecuteTime": {
     "end_time": "2023-06-07T04:51:47.667595Z",
     "start_time": "2023-06-07T04:51:47.434647Z"
    }
   },
   "outputs": [
    {
     "data": {
      "text/plain": [
       "<PolarAxesSubplot:>"
      ]
     },
     "execution_count": 13,
     "metadata": {},
     "output_type": "execute_result"
    },
    {
     "data": {
      "image/png": "[encoded data removed]",
      "text/plain": [
       "<Figure size 432x288 with 1 Axes>"
      ]
     },
     "metadata": {
      "needs_background": "light"
     },
     "output_type": "display_data"
    }
   ],
   "source": [
    "from astroplan.plots import plot_sky\n",
    "\n",
    "plot_sky(target, observer, time)"
   ]
  },
  {
   "cell_type": "code",
   "execution_count": null,
   "id": "9e29da7e",
   "metadata": {},
   "outputs": [],
   "source": []
  },
  {
   "cell_type": "markdown",
   "id": "737a1b41",
   "metadata": {},
   "source": [
    "https://astroplan.readthedocs.io/en/latest/tutorials/plots.html"
   ]
  },
  {
   "cell_type": "code",
   "execution_count": 14,
   "id": "ec8e4166",
   "metadata": {
    "ExecuteTime": {
     "end_time": "2023-06-07T04:52:21.615697Z",
     "start_time": "2023-06-07T04:52:09.079297Z"
    }
   },
   "outputs": [
    {
     "data": {
      "image/png": "[encoded data removed]",
      "text/plain": [
       "<Figure size 432x288 with 1 Axes>"
      ]
     },
     "metadata": {
      "needs_background": "light"
     },
     "output_type": "display_data"
    }
   ],
   "source": [
    "from astroplan.plots import plot_finder_image\n",
    "from astroplan import FixedTarget\n",
    "import matplotlib.pyplot as plt\n",
    "\n",
    "messier1 = FixedTarget.from_name(\"M1\")\n",
    "ax, hdu = plot_finder_image(messier1)\n",
    "plt.show()"
   ]
  },
  {
   "cell_type": "markdown",
   "id": "b92f6676",
   "metadata": {},
   "source": [
    "# SimpleScheduler"
   ]
  },
  {
   "cell_type": "code",
   "execution_count": 15,
   "id": "03e34cd3",
   "metadata": {
    "ExecuteTime": {
     "end_time": "2023-06-07T08:37:33.029822Z",
     "start_time": "2023-06-07T08:37:33.009532Z"
    }
   },
   "outputs": [],
   "source": [
    "from astroplan.scheduling import Scheduler, Scorer\n",
    "from astroplan.utils import time_grid_from_range\n",
    "from astroplan.constraints import AltitudeConstraint\n",
    "from astropy import units as u\n",
    "import numpy as np\n",
    "\n",
    "class SimpleScheduler(Scheduler):\n",
    "    \"\"\"\n",
    "    schedule blocks randomly\n",
    "    \"\"\"\n",
    "    def __init__(self, *args, **kwargs):\n",
    "        super(SimpleScheduler, self).__init__(*args, **kwargs)\n",
    "\n",
    "    def _make_schedule(self, blocks):\n",
    "        # gather all the constraints on each block into a single attribute\n",
    "        for b in blocks:\n",
    "            if b.constraints is None:\n",
    "                b._all_constraints = self.constraints\n",
    "            else:\n",
    "                b._all_constraints = self.constraints + b.constraints\n",
    "\n",
    "            # to make sure the Scorer has some constraint to work off of\n",
    "            # and to prevent scheduling of targets below the horizon\n",
    "            if b._all_constraints is None:\n",
    "                b._all_constraints = [AltitudeConstraint(min=0*u.deg)]\n",
    "                b.constraints = [AltitudeConstraint(min=0*u.deg)]\n",
    "            elif not any(isinstance(c, AltitudeConstraint) for c in b._all_constraints):\n",
    "                b._all_constraints.append(AltitudeConstraint(min=0*u.deg))\n",
    "                if b.constraints is None:\n",
    "                    b.constraints = [AltitudeConstraint(min=0*u.deg)]\n",
    "                else:\n",
    "                    b.constraints.append(AltitudeConstraint(min=0*u.deg))\n",
    "            b.observer = self.observer\n",
    "\n",
    "        # before we can schedule, we need to know where blocks meet the constraints\n",
    "        scorer = Scorer(blocks, self.observer, self.schedule,\n",
    "                        global_constraints=self.constraints)\n",
    "        score_array = scorer.create_score_array(self.time_resolution)\n",
    "        # now we have an array of the scores for the blocks at intervals of\n",
    "        # ``time_resolution``. The scores range from zero to one, some blocks may have\n",
    "        # higher scores than others, but we only care if they are greater than zero\n",
    "\n",
    "        # we want to start from the beginning and start scheduling\n",
    "        start_time = self.schedule.start_time\n",
    "        current_time = start_time\n",
    "        while current_time < self.schedule.end_time:\n",
    "            scheduled = False\n",
    "            i=0\n",
    "            while i < len(blocks) and scheduled is False:\n",
    "                block = blocks[i]\n",
    "                # the schedule starts with only 1 slot\n",
    "                if len(self.schedule.slots) == 1:\n",
    "                    test_time = current_time\n",
    "                # when a block is inserted, the number of slots increases\n",
    "                else:\n",
    "                    # a test transition between the last scheduled block and this one\n",
    "                    transition = self.transitioner(schedule.observing_blocks[-1],\n",
    "                                                   block, current_time, self.observer)\n",
    "                    test_time = current_time + transition.duration\n",
    "                # how many time intervals are we from the start\n",
    "                start_idx = int((test_time - start_time)/self.time_resolution)\n",
    "                duration_idx = int(block.duration/self.time_resolution)\n",
    "                # if any score during the block's duration would be 0, reject it\n",
    "                if any(score_array[i][start_idx:start_idx+duration_idx] == 0):\n",
    "                    i +=1\n",
    "                # if all of the scores are >0, accept and schedule it\n",
    "                else:\n",
    "                    if len(self.schedule.slots) >1:\n",
    "                        self.schedule.insert_slot(current_time, transition)\n",
    "                    self.schedule.insert_slot(test_time, block)\n",
    "                    # advance the time and remove the block from the list\n",
    "                    current_time = test_time + block.duration\n",
    "                    scheduled = True\n",
    "                    blocks.remove(block)\n",
    "            # if every block failed, progress the time\n",
    "            if i == len(blocks):\n",
    "                current_time += self.gap_time\n",
    "        return schedule"
   ]
  },
  {
   "cell_type": "code",
   "execution_count": 17,
   "id": "f516e0bd",
   "metadata": {
    "ExecuteTime": {
     "end_time": "2023-06-07T08:37:58.183957Z",
     "start_time": "2023-06-07T08:37:58.170236Z"
    }
   },
   "outputs": [],
   "source": [
    "Observer.at_site?"
   ]
  },
  {
   "cell_type": "code",
   "execution_count": 20,
   "id": "87e7e76d",
   "metadata": {
    "ExecuteTime": {
     "end_time": "2023-06-07T08:38:45.543931Z",
     "start_time": "2023-06-07T08:38:45.527825Z"
    }
   },
   "outputs": [
    {
     "data": {
      "text/plain": [
       "['',\n",
       " '',\n",
       " '',\n",
       " 'ALMA',\n",
       " 'AO',\n",
       " 'ARCA',\n",
       " 'ASKAP',\n",
       " 'ATA',\n",
       " 'ATST',\n",
       " 'Allen Telescope Array',\n",
       " 'Anderson Mesa',\n",
       " 'Anglo-Australian Observatory',\n",
       " 'Apache Point',\n",
       " 'Apache Point Observatory',\n",
       " 'Arecibo',\n",
       " 'Arecibo Observatory',\n",
       " 'Atacama Large Millimeter Array',\n",
       " 'Australian Square Kilometre Array Pathfinder',\n",
       " 'BAO',\n",
       " 'BBSO',\n",
       " 'Beijing XingLong Observatory',\n",
       " 'Black Moshannon Observatory',\n",
       " 'CAHA',\n",
       " 'CAHA',\n",
       " 'CHARA',\n",
       " 'CHIME',\n",
       " 'Canada-France-Hawaii Telescope',\n",
       " 'Catalina Observatory',\n",
       " 'Cerro Pachon',\n",
       " 'Cerro Paranal',\n",
       " 'Cerro Tololo',\n",
       " 'Cerro Tololo Interamerican Observatory',\n",
       " 'Cima Ekar Observing Station',\n",
       " 'DCT',\n",
       " 'DKIST',\n",
       " 'DRAO',\n",
       " 'DRAO 26m Telescope',\n",
       " 'Discovery Channel Telescope',\n",
       " 'Dominion Astrophysical Observatory',\n",
       " 'Dominion Radio Astrophysical Observatory',\n",
       " 'Effelsberg',\n",
       " 'FAST',\n",
       " 'G1',\n",
       " 'GBT',\n",
       " 'GEO',\n",
       " 'GEO_600',\n",
       " 'GMRT',\n",
       " 'Gemini South',\n",
       " 'Green Bank Observatory',\n",
       " 'Green Bank Telescope',\n",
       " 'H1',\n",
       " 'HALO',\n",
       " 'HET',\n",
       " 'Hale Telescope',\n",
       " 'Haleakala Observatories',\n",
       " 'Happy Jack',\n",
       " 'Hat Creek',\n",
       " 'Hobby Eberly Telescope',\n",
       " 'HyperK',\n",
       " 'Hyperk',\n",
       " 'IAO',\n",
       " 'ICECUBE',\n",
       " 'IceCube',\n",
       " 'JCMT',\n",
       " 'James Clerk Maxwell Telescope',\n",
       " 'Jansky Very Large Array',\n",
       " 'John Galt Telescope',\n",
       " 'K1',\n",
       " 'KAGRA',\n",
       " 'KM3NeT ARCA',\n",
       " 'KM3NeT ORCA',\n",
       " 'KM3NeT arca',\n",
       " 'KM3NeT orca',\n",
       " 'Keck Observatory',\n",
       " 'Kitt Peak',\n",
       " 'Kitt Peak National Observatory',\n",
       " 'L1',\n",
       " 'LDT',\n",
       " 'LHO',\n",
       " 'LHO_4k',\n",
       " 'LLO',\n",
       " 'LLO_4k',\n",
       " 'LOFAR',\n",
       " 'LWA1',\n",
       " 'La Silla Observatory',\n",
       " 'Large Binocular Telescope',\n",
       " 'Las Campanas Observatory',\n",
       " 'Lick Observatory',\n",
       " 'Lowell Discovery Telescope',\n",
       " 'Lowell Observatory',\n",
       " 'MEERKAT',\n",
       " 'MJO',\n",
       " 'MOA',\n",
       " 'MWA',\n",
       " 'Manastash Ridge Observatory',\n",
       " 'Mars Hill',\n",
       " 'McDonald Observatory',\n",
       " 'Medicina',\n",
       " 'Medicina Dish',\n",
       " 'MeerKAT',\n",
       " 'Michigan-Dartmouth-MIT Observatory',\n",
       " 'Mont Mégantic Observatory',\n",
       " 'Mount Graham International Observatory',\n",
       " 'Mt Graham',\n",
       " 'Mt John',\n",
       " 'Mt. Ekar 182 cm Telescope',\n",
       " 'Mt. Stromlo Observatory',\n",
       " 'Multiple Mirror Telescope',\n",
       " 'Murchison Widefield Array',\n",
       " 'Murriyang',\n",
       " 'NANCAY',\n",
       " 'NOV',\n",
       " 'NOVA',\n",
       " 'NOvA',\n",
       " 'NPOI',\n",
       " 'NST',\n",
       " 'Nancay',\n",
       " 'National Observatory of Venezuela',\n",
       " 'Navy Precision Optical Interferometer',\n",
       " 'Noto',\n",
       " 'OAJ',\n",
       " 'OAJ',\n",
       " 'OAO',\n",
       " 'OAO',\n",
       " 'OARMA',\n",
       " 'OARMA',\n",
       " 'OMM',\n",
       " 'ORCA',\n",
       " 'OT',\n",
       " 'Observatoire du Mont Mégantic',\n",
       " 'Observatorio Astronomico Nacional, San Pedro Martir',\n",
       " 'Observatorio Astronomico Nacional, Tonantzintla',\n",
       " 'Observatorio Ramon Maria Aller',\n",
       " 'Observatorio de Calar Alto',\n",
       " 'Observatorio del Teide',\n",
       " 'Otehiwai',\n",
       " 'Otehiwai Observatory',\n",
       " 'PTO',\n",
       " 'Palomar',\n",
       " 'Paranal Observatory',\n",
       " 'Parkes',\n",
       " 'Perkins',\n",
       " 'Roque de los Muchachos',\n",
       " 'SAAO',\n",
       " 'SALT',\n",
       " 'SNO+',\n",
       " 'SPO',\n",
       " 'SRT',\n",
       " 'Sac Peak',\n",
       " 'Sacramento Peak',\n",
       " 'Siding Spring Observatory',\n",
       " 'Southern African Large Telescope',\n",
       " 'Subaru',\n",
       " 'Subaru Telescope',\n",
       " 'Sunspot',\n",
       " 'SuperK',\n",
       " 'Superk',\n",
       " 'Sutherland',\n",
       " 'TNO',\n",
       " 'TNO',\n",
       " 'TUG',\n",
       " 'UKIRT',\n",
       " 'United Kingdom Infrared Telescope',\n",
       " 'V1',\n",
       " 'VIRGO',\n",
       " 'Vainu Bappu Observatory',\n",
       " 'Very Large Array',\n",
       " 'Virgo',\n",
       " 'W. M. Keck Observatory',\n",
       " 'WIYN',\n",
       " 'WIYN 3.5 m',\n",
       " 'WIYN Observatory',\n",
       " 'Whipple',\n",
       " 'Whipple Observatory',\n",
       " 'Wise Observatory',\n",
       " 'aao',\n",
       " 'alma',\n",
       " 'ao',\n",
       " 'apo',\n",
       " 'arca',\n",
       " 'arecibo',\n",
       " 'askap',\n",
       " 'bbso',\n",
       " 'bmo',\n",
       " 'cfht',\n",
       " 'chime',\n",
       " 'ctio',\n",
       " 'dao',\n",
       " 'dct',\n",
       " 'dkist',\n",
       " 'drao',\n",
       " 'effelsberg',\n",
       " 'ekar',\n",
       " 'example_site',\n",
       " 'fast',\n",
       " 'flwo',\n",
       " 'gbt',\n",
       " 'gemini_north',\n",
       " 'gemini_south',\n",
       " 'gemn',\n",
       " 'gems',\n",
       " 'geo_600',\n",
       " 'gmrt',\n",
       " 'greenwich',\n",
       " 'haleakala',\n",
       " 'halo',\n",
       " 'hcro',\n",
       " 'het',\n",
       " 'hyperK',\n",
       " 'hyperk',\n",
       " 'iao',\n",
       " 'icecube',\n",
       " 'irtf',\n",
       " 'jcmt',\n",
       " 'kagra',\n",
       " 'keck',\n",
       " 'km3net arca',\n",
       " 'km3net orca',\n",
       " 'kpno',\n",
       " 'lapalma',\n",
       " 'lasilla',\n",
       " 'lbt',\n",
       " 'lco',\n",
       " 'ldt',\n",
       " 'lho_4k',\n",
       " 'lick',\n",
       " 'llo_4k',\n",
       " 'lo-am',\n",
       " 'lo-mh',\n",
       " 'lofar',\n",
       " 'lowell',\n",
       " 'lwa1',\n",
       " 'mars_hill',\n",
       " 'mcdonald',\n",
       " 'mdm',\n",
       " 'medicina',\n",
       " 'meerkat',\n",
       " 'mh',\n",
       " 'mma',\n",
       " 'mmt',\n",
       " 'mro',\n",
       " 'mso',\n",
       " 'mtbigelow',\n",
       " 'mwa',\n",
       " 'mwo',\n",
       " 'nancay',\n",
       " 'noto',\n",
       " 'nova',\n",
       " 'ohp',\n",
       " 'omm',\n",
       " 'orca',\n",
       " 'ovro',\n",
       " 'paranal',\n",
       " 'parkes',\n",
       " 'pto',\n",
       " 'salt',\n",
       " 'sirene',\n",
       " 'sno+',\n",
       " 'spm',\n",
       " 'spo',\n",
       " 'srt',\n",
       " 'sso',\n",
       " 'superK',\n",
       " 'superk',\n",
       " 'teide',\n",
       " 'tona',\n",
       " 'tug',\n",
       " 'ukirt',\n",
       " 'vbo',\n",
       " 'virgo',\n",
       " 'vla',\n",
       " 'wise',\n",
       " 'wise',\n",
       " 'wiyn']"
      ]
     },
     "execution_count": 20,
     "metadata": {},
     "output_type": "execute_result"
    }
   ],
   "source": [
    "import astropy\n",
    "astropy.coordinates.EarthLocation.get_site_names()"
   ]
  },
  {
   "cell_type": "code",
   "execution_count": 23,
   "id": "1b2de4cf",
   "metadata": {
    "ExecuteTime": {
     "end_time": "2023-06-07T08:41:22.219557Z",
     "start_time": "2023-06-07T08:41:21.754394Z"
    }
   },
   "outputs": [
    {
     "name": "stderr",
     "output_type": "stream",
     "text": [
      "/Users/lyubing/opt/anaconda3/lib/python3.9/site-packages/astroplan/plots/time_dependent.py:194: UserWarning: linestyle is redundantly defined by the 'linestyle' keyword argument and the fmt string \"-\" (-> linestyle='-'). The keyword argument will take precedence.\n",
      "  ax.plot_date(timetoplot.plot_date, masked_airmass, label=target_name, **style_kwargs)\n",
      "/Users/lyubing/opt/anaconda3/lib/python3.9/site-packages/astroplan/plots/time_dependent.py:194: UserWarning: linestyle is redundantly defined by the 'linestyle' keyword argument and the fmt string \"-\" (-> linestyle='-'). The keyword argument will take precedence.\n",
      "  ax.plot_date(timetoplot.plot_date, masked_airmass, label=target_name, **style_kwargs)\n"
     ]
    },
    {
     "data": {
      "image/png": "[encoded data removed]",
      "text/plain": [
       "<Figure size 432x288 with 1 Axes>"
      ]
     },
     "metadata": {
      "needs_background": "light"
     },
     "output_type": "display_data"
    }
   ],
   "source": [
    "from astroplan.constraints import AtNightConstraint\n",
    "from astroplan.scheduling import Schedule, ObservingBlock\n",
    "from astroplan import FixedTarget, Observer, Transitioner\n",
    "from astropy.time import Time\n",
    "\n",
    "# Initialize the observer and targets, and create observing blocks\n",
    "apo = Observer.at_site('Beijing XingLong Observatory')\n",
    "deneb = FixedTarget.from_name('Deneb')\n",
    "m13 = FixedTarget.from_name('M13')\n",
    "blocks = [ObservingBlock(deneb, 20*u.minute, 0)]\n",
    "blocks.append(ObservingBlock(m13, 20*u.minute, 0))\n",
    "\n",
    "# For a telescope that can slew at a rate of 2 degrees/second\n",
    "transitioner = Transitioner(slew_rate=2*u.deg/u.second)\n",
    "\n",
    "# Schedule the observing blocks using the simple scheduler\n",
    "schedule = Schedule(Time('2023-06-08 19:00'), Time('2023-06-09 06:00'))\n",
    "scheduler = SimpleScheduler(observer = apo, transitioner = transitioner,\n",
    "                                constraints = [])\n",
    "scheduler(blocks, schedule)\n",
    "\n",
    "# Plot the created schedule\n",
    "import matplotlib.pyplot as plt\n",
    "from astroplan.plots import plot_schedule_airmass\n",
    "plot_schedule_airmass(schedule)\n",
    "plt.legend()\n",
    "plt.show()"
   ]
  },
  {
   "cell_type": "code",
   "execution_count": null,
   "id": "493b682c",
   "metadata": {},
   "outputs": [],
   "source": []
  },
  {
   "cell_type": "code",
   "execution_count": null,
   "id": "25ccfc4b",
   "metadata": {},
   "outputs": [],
   "source": []
  },
  {
   "cell_type": "code",
   "execution_count": 27,
   "id": "d86f1fcd",
   "metadata": {
    "ExecuteTime": {
     "end_time": "2023-06-07T08:42:53.101607Z",
     "start_time": "2023-06-07T08:42:53.087400Z"
    }
   },
   "outputs": [
    {
     "data": {
      "text/plain": [
       "60102.791666666664"
      ]
     },
     "execution_count": 27,
     "metadata": {},
     "output_type": "execute_result"
    }
   ],
   "source": [
    "Time('2023-06-07 19:00').mjd"
   ]
  },
  {
   "cell_type": "code",
   "execution_count": 26,
   "id": "3c16f7aa",
   "metadata": {
    "ExecuteTime": {
     "end_time": "2023-06-07T08:42:47.294023Z",
     "start_time": "2023-06-07T08:42:47.282399Z"
    }
   },
   "outputs": [
    {
     "data": {
      "text/plain": [
       "60102.791666666664"
      ]
     },
     "execution_count": 26,
     "metadata": {},
     "output_type": "execute_result"
    }
   ],
   "source": [
    "Time('2023-06-07T19:00').mjd"
   ]
  },
  {
   "cell_type": "code",
   "execution_count": 28,
   "id": "255e3f40",
   "metadata": {
    "ExecuteTime": {
     "end_time": "2023-06-07T08:44:32.990356Z",
     "start_time": "2023-06-07T08:44:32.972796Z"
    }
   },
   "outputs": [],
   "source": [
    "t1 = Time(50100.0, scale='tt', format='mjd')\n",
    "t2 = Time('2010-01-01 00:00:00', scale='utc')"
   ]
  },
  {
   "cell_type": "code",
   "execution_count": 29,
   "id": "1c7eb010",
   "metadata": {
    "ExecuteTime": {
     "end_time": "2023-06-07T08:44:42.057131Z",
     "start_time": "2023-06-07T08:44:42.048168Z"
    }
   },
   "outputs": [
    {
     "data": {
      "text/plain": [
       "<Time object: scale='tt' format='mjd' value=[50100.         55197.00076602]>"
      ]
     },
     "execution_count": 29,
     "metadata": {},
     "output_type": "execute_result"
    }
   ],
   "source": [
    "Time([t1, t2]) "
   ]
  },
  {
   "cell_type": "code",
   "execution_count": 31,
   "id": "fc3ec11c",
   "metadata": {
    "ExecuteTime": {
     "end_time": "2023-06-07T08:45:38.449374Z",
     "start_time": "2023-06-07T08:45:38.437819Z"
    }
   },
   "outputs": [],
   "source": [
    "from datetime import datetime\n",
    "from astropy.time import Time\n",
    "\n",
    "nt = Time.now()\n",
    "ut = Time(datetime.utcnow(), scale='utc')"
   ]
  },
  {
   "cell_type": "code",
   "execution_count": 32,
   "id": "db6b872d",
   "metadata": {
    "ExecuteTime": {
     "end_time": "2023-06-07T08:45:40.356789Z",
     "start_time": "2023-06-07T08:45:40.345805Z"
    }
   },
   "outputs": [
    {
     "data": {
      "text/plain": [
       "<Time object: scale='utc' format='datetime' value=2023-06-07 08:45:38.442397>"
      ]
     },
     "execution_count": 32,
     "metadata": {},
     "output_type": "execute_result"
    }
   ],
   "source": [
    "nt"
   ]
  },
  {
   "cell_type": "code",
   "execution_count": 33,
   "id": "8a582e0a",
   "metadata": {
    "ExecuteTime": {
     "end_time": "2023-06-07T08:45:46.603305Z",
     "start_time": "2023-06-07T08:45:46.593140Z"
    }
   },
   "outputs": [
    {
     "data": {
      "text/plain": [
       "<Time object: scale='utc' format='datetime' value=2023-06-07 08:45:38.443505>"
      ]
     },
     "execution_count": 33,
     "metadata": {},
     "output_type": "execute_result"
    }
   ],
   "source": [
    "ut"
   ]
  },
  {
   "cell_type": "code",
   "execution_count": 36,
   "id": "075aec21",
   "metadata": {
    "ExecuteTime": {
     "end_time": "2023-06-07T08:46:55.878207Z",
     "start_time": "2023-06-07T08:46:55.870919Z"
    }
   },
   "outputs": [],
   "source": [
    "t = Time('2023-06-07 00:00:00', format='iso', scale='utc')"
   ]
  },
  {
   "cell_type": "code",
   "execution_count": 37,
   "id": "89275a58",
   "metadata": {
    "ExecuteTime": {
     "end_time": "2023-06-07T08:46:57.038215Z",
     "start_time": "2023-06-07T08:46:57.028831Z"
    }
   },
   "outputs": [
    {
     "data": {
      "text/plain": [
       "60102.0"
      ]
     },
     "execution_count": 37,
     "metadata": {},
     "output_type": "execute_result"
    }
   ],
   "source": [
    "t.mjd"
   ]
  },
  {
   "cell_type": "code",
   "execution_count": 38,
   "id": "35669863",
   "metadata": {
    "ExecuteTime": {
     "end_time": "2023-06-07T08:47:20.289645Z",
     "start_time": "2023-06-07T08:47:20.281167Z"
    }
   },
   "outputs": [
    {
     "data": {
      "text/plain": [
       "'2023-06-07 00:00:00.000'"
      ]
     },
     "execution_count": 38,
     "metadata": {},
     "output_type": "execute_result"
    }
   ],
   "source": [
    "t.iso  "
   ]
  },
  {
   "cell_type": "code",
   "execution_count": 40,
   "id": "53b5f2ad",
   "metadata": {
    "ExecuteTime": {
     "end_time": "2023-06-07T08:48:01.113793Z",
     "start_time": "2023-06-07T08:48:00.991714Z"
    }
   },
   "outputs": [
    {
     "data": {
      "image/png": "[encoded data removed]",
      "text/plain": [
       "<Figure size 432x288 with 1 Axes>"
      ]
     },
     "metadata": {
      "needs_background": "light"
     },
     "output_type": "display_data"
    }
   ],
   "source": [
    "import matplotlib.pyplot as plt  \n",
    "jyear = np.linspace(2000, 2023, 20)  \n",
    "t = Time(jyear, format='jyear')  \n",
    "plt.plot_date(t.plot_date, jyear)  \n",
    "plt.gcf().autofmt_xdate()  # orient date labels at a slant  \n",
    "plt.draw()  "
   ]
  },
  {
   "cell_type": "code",
   "execution_count": null,
   "id": "126f08f6",
   "metadata": {},
   "outputs": [],
   "source": []
  }
 ],
 "metadata": {
  "kernelspec": {
   "display_name": "Python 3 (ipykernel)",
   "language": "python",
   "name": "python3"
  },
  "language_info": {
   "codemirror_mode": {
    "name": "ipython",
    "version": 3
   },
   "file_extension": ".py",
   "mimetype": "text/x-python",
   "name": "python",
   "nbconvert_exporter": "python",
   "pygments_lexer": "ipython3",
   "version": "3.9.12"
  },
  "latex_envs": {
   "LaTeX_envs_menu_present": true,
   "autoclose": false,
   "autocomplete": true,
   "bibliofile": "biblio.bib",
   "cite_by": "apalike",
   "current_citInitial": 1,
   "eqLabelWithNumbers": true,
   "eqNumInitial": 1,
   "hotkeys": {
    "equation": "Ctrl-E",
    "itemize": "Ctrl-I"
   },
   "labels_anchors": false,
   "latex_user_defs": false,
   "report_style_numbering": false,
   "user_envs_cfg": false
  },
  "toc": {
   "base_numbering": 1,
   "nav_menu": {},
   "number_sections": true,
   "sideBar": true,
   "skip_h1_title": false,
   "title_cell": "Table of Contents",
   "title_sidebar": "Contents",
   "toc_cell": false,
   "toc_position": {},
   "toc_section_display": true,
   "toc_window_display": false
  }
 },
 "nbformat": 4,
 "nbformat_minor": 5
}
