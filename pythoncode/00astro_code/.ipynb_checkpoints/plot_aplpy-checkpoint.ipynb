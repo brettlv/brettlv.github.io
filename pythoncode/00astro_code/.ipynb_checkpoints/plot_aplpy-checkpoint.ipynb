{
 "cells": [
  {
   "cell_type": "code",
   "execution_count": 7,
   "metadata": {
    "ExecuteTime": {
     "end_time": "2021-08-18T02:14:13.804056Z",
     "start_time": "2021-08-18T02:14:13.793301Z"
    }
   },
   "outputs": [],
   "source": [
    "import aplpy\n",
    "import os"
   ]
  },
  {
   "cell_type": "code",
   "execution_count": 8,
   "metadata": {
    "ExecuteTime": {
     "end_time": "2021-08-18T02:14:14.569869Z",
     "start_time": "2021-08-18T02:14:14.558156Z"
    }
   },
   "outputs": [],
   "source": [
    "import matplotlib\n",
    "matplotlib.use('MacOSX')\n",
    "%matplotlib inline"
   ]
  },
  {
   "cell_type": "code",
   "execution_count": 9,
   "metadata": {
    "ExecuteTime": {
     "end_time": "2021-08-18T02:14:15.305681Z",
     "start_time": "2021-08-18T02:14:15.302027Z"
    }
   },
   "outputs": [],
   "source": [
    "import numpy as np\n",
    "import matplotlib\n",
    "import matplotlib.pyplot as plt\n",
    "from mpl_toolkits.mplot3d import Axes3D"
   ]
  },
  {
   "cell_type": "code",
   "execution_count": null,
   "metadata": {},
   "outputs": [],
   "source": []
  },
  {
   "cell_type": "code",
   "execution_count": 10,
   "metadata": {
    "ExecuteTime": {
     "end_time": "2021-08-18T02:14:16.636695Z",
     "start_time": "2021-08-18T02:14:16.420676Z"
    }
   },
   "outputs": [
    {
     "data": {
      "image/png": "[encoded data removed]",
      "text/plain": [
       "<Figure size 432x288 with 1 Axes>"
      ]
     },
     "metadata": {
      "needs_background": "light"
     },
     "output_type": "display_data"
    }
   ],
   "source": [
    "n=30\n",
    "x=np.arange(n)/10.0\n",
    "y=np.sin(x+np.random.random(n)*1-0.5)\n",
    "z=np.cos(x+np.random.random(n)*1-0.5)\n",
    "t=np.linspace(1,2,n)\n",
    "\n",
    "fig=plt.figure()\n",
    "ax=fig.add_subplot(111)\n",
    "ax.scatter(y,z,s=10,c=t,marker='o',label='time')\n",
    "plt.legend(loc='best')\n",
    "plt.ylabel('y')\n",
    "plt.xlabel('x')\n",
    "plt.show()\n",
    "#ax.scatter"
   ]
  },
  {
   "cell_type": "markdown",
   "metadata": {},
   "source": [
    "region = 'fk5;circle(290.96388,14.019167,843.31194\")'\n",
    "r = pyregion.parse(region)"
   ]
  },
  {
   "cell_type": "markdown",
   "metadata": {
    "ExecuteTime": {
     "end_time": "2019-05-12T11:23:19.618924Z",
     "start_time": "2019-05-12T11:23:19.153858Z"
    }
   },
   "source": [
    "from astropy.io import fits\n",
    "import pyregion\n",
    "\n",
    "region_string = \"\"\"\n",
    "# Region file format: DS9 version 4.1\n",
    "# Filename: test01.fits\n",
    "global color=green dashlist=8 3 width=1 font=\"helvetica 10 normal\" select=1 highlite=1 dash=0 fixed=0 edit=1 move=1 delete=1 include=1 source=1\n",
    "fk5\n",
    "circle(2:06:15.982,-0:17:30.372,25.0\") # color=cyan background\n",
    "box(11:24:39.213,-59:16:53.91,42.804\",23.616\",19.0384) # width=4\n",
    "\"\"\"\n",
    "\n",
    "r = pyregion.parse(region_string)\n",
    "#f = fits.open(\"/Volumes/Brettlv_G_m/Mrk1018/swift/00030955001_xrt/sw00030955001xpcw2po_ex.img\")\n",
    "#r2 = pyregion.parse(region_string).as_imagecoord(f[0].header)"
   ]
  },
  {
   "cell_type": "code",
   "execution_count": null,
   "metadata": {},
   "outputs": [],
   "source": [
    "#fig = aplpy.FITSFigure('myimage.fits')"
   ]
  },
  {
   "cell_type": "markdown",
   "metadata": {},
   "source": [
    "# gleam_image_plot"
   ]
  },
  {
   "cell_type": "code",
   "execution_count": null,
   "metadata": {},
   "outputs": [],
   "source": [
    "def gleam_image_plot_PKS0736(fits_image_filename,regfile,ra=114.825,dec=1.618,name='PKS 0736+01'):       \n",
    "    hdul_gleam_image=fits.open(fits_image_filename)\n",
    "    hdul_gleam_image[0].data *=1e3                                 \n",
    "    \n",
    "    fig0 = plt.figure(figsize=(8, 8))\n",
    "    fig = aplpy.FITSFigure(hdul_gleam_image,figure=fig0, subplot=[0.,0.0,1.0,1.0],)#slices=['x','y',0,0],\n",
    "    fig.show_colorscale()\n",
    "    #fig.add_grid()\n",
    "    fig.add_colorbar()\n",
    "    fig.show_colorscale()\n",
    "\n",
    "    fig.colorbar.set_location('top')\n",
    "    fig.colorbar.set_pad(0.05)\n",
    "    fig.colorbar.set_font(size='medium', weight='medium', \\\n",
    "                      stretch='normal', family='sans-serif', \\\n",
    "                      style='normal', variant='normal')\n",
    "\n",
    "    fig.colorbar.set_axis_label_text('Flux Density (mJy/beam)')\n",
    "    fig.colorbar.set_axis_label_pad(10)\n",
    "    fig.colorbar.set_axis_label_rotation(0)\n",
    "    fig.colorbar.set_axis_label_font(size=10, weight='bold')\n",
    "    fig.colorbar.set_width(0.1)  # arbitrary units, default is 0.2\n",
    "\n",
    "    #fig.add_scalebar(0.2)\n",
    "    #fig.scalebar.show(0.2)  # length in degrees\n",
    "\n",
    "    #fig.scalebar.set_length(15 * u.arcminute)\n",
    "\n",
    "    fig.axis_labels.set_font(size='medium', weight='medium', \\\n",
    "                         stretch='normal', family='sans-serif', \\\n",
    "                         style='normal', variant='normal')\n",
    "\n",
    "    fig.show_regions(regfile)\n",
    "    fig.show_markers(ras, decs, layer='marker_set_3', edgecolor='red',\n",
    "                facecolor='none', marker='o', s=100, alpha=1.0)\n",
    "    fig.recenter(ra,dec, 2.0, 2.0)  # degrees\n",
    "    #fig.show_regions('/home/brettlv/python_code/mwa/mwa_code_py/gleam_specfit/PKS 0736+01/PKS0736_src.reg')\n",
    "    fig.show_circles(ra, dec, radius=0.2,)#x_world, y_world, radius\n",
    "    fig.add_label(ra,dec+0.08, name,color='yellow',fontsize=14)\n",
    "   \n",
    "    fig.ticks.set_color('black')\n",
    "    fig.tick_labels.set_xformat('dd.dd')\n",
    "    fig.tick_labels.set_yformat('dd.dd')\n",
    "\n",
    "#fig.tick_labels.set_xformat('hh:mm')\n",
    "#fig.tick_labels.set_yformat('dd:mm')\n",
    "#fig.ticks.set_xspacing(0.25)  # degrees\n",
    "#fig.ticks.set_yspacing(2.0)  # degrees\n",
    "\n",
    "#fig.ticks.set_minor_frequency(5.0)\n",
    "    fig.tick_labels.set_font(size='large')\n",
    "    fig.axis_labels.set_font(size='large')\n",
    "    fig.colorbar.set_axis_label_font(size=14)\n",
    "    fig.ticks.show()\n",
    "#fig.axis_labels.set_xtext('Right Ascension (J2000)')\n",
    "#fig.axis_labels.set_ytext('Declination (J2000)')\n",
    "#fig.set_system_latex(True)\n",
    "#fig.set_theme('publication')\n",
    "\n",
    "    fig2=aplpy.FITSFigure(hdul_gleam_image, figure=fig0, subplot=[1.0,0.4,0.3,0.3])\n",
    "    fig2.show_grayscale()\n",
    "    fig2.show_colorscale(aspect='auto')#aspect='auto'\n",
    "    # some code here with ax2\n",
    "    fig2.recenter(ra,dec, 0.2, 0.2)  # degrees\n",
    "    fig2.ticks.set_color('black')\n",
    "    fig2.tick_labels.set_xformat('dd.dd')\n",
    "    fig2.tick_labels.set_yformat('dd.dd')\n",
    "    fig2.tick_labels.set_yposition('right')\n",
    "    fig2.axis_labels.set_yposition('right')\n",
    "\n",
    "    fig2.refresh()\n",
    "    fig0.canvas.draw()\n",
    "    #print('gleam_aplpy_%s.png'%(fits_image_filename.split('/')[-1]))\n",
    "    save_png_path=fits_image_filename+'.png'\n",
    "    fig.savefig(save_png_path,dpi=400)"
   ]
  },
  {
   "cell_type": "code",
   "execution_count": null,
   "metadata": {},
   "outputs": [],
   "source": []
  },
  {
   "cell_type": "code",
   "execution_count": 59,
   "metadata": {
    "ExecuteTime": {
     "end_time": "2022-01-18T06:22:23.599950Z",
     "start_time": "2022-01-18T06:22:23.595991Z"
    }
   },
   "outputs": [],
   "source": [
    "import aplpy\n",
    "from astropy.io import fits \n",
    "from numpy import *\n",
    "import matplotlib as plt\n",
    "# import montage_wrapper as montage\n",
    "import PIL\n",
    "import os"
   ]
  },
  {
   "cell_type": "markdown",
   "metadata": {
    "ExecuteTime": {
     "end_time": "2022-01-18T03:34:47.398988Z",
     "start_time": "2022-01-18T03:34:47.390036Z"
    }
   },
   "source": [
    "pwd"
   ]
  },
  {
   "cell_type": "code",
   "execution_count": 60,
   "metadata": {
    "ExecuteTime": {
     "end_time": "2022-01-18T06:22:28.203784Z",
     "start_time": "2022-01-18T06:22:28.200303Z"
    }
   },
   "outputs": [],
   "source": [
    "data_path='/Users/brettlv/blog/brettlv.github.io/pythoncode/aplpy/'\n",
    "os.chdir(data_path)"
   ]
  },
  {
   "cell_type": "code",
   "execution_count": 61,
   "metadata": {
    "ExecuteTime": {
     "end_time": "2022-01-18T06:22:36.216590Z",
     "start_time": "2022-01-18T06:22:35.974868Z"
    }
   },
   "outputs": [],
   "source": [
    "r_path = '%s/sdss_r.fits'%data_path\n",
    "b_path = '%s/sdss_b.fits'%data_path\n",
    "g_path = '%s/sdss_g.fits'%data_path\n",
    "\n",
    "r = fits.open(r_path)\n",
    "b = fits.open(g_path)\n",
    "g = fits.open(b_path)\n",
    "# r.info()\n",
    "# g.info()\n",
    "# b.info()\n",
    "# print(r[1].header)\n",
    "# print(g[1].header)\n",
    "# print(b[1].header)\n",
    "r1 = r[0].data\n",
    "g1 = g[0].data\n",
    "b1 = b[0].data\n",
    "\n",
    "hdu = fits.PrimaryHDU(r[0].data)\n",
    "hdulist = fits.HDUList([hdu])\n",
    "hdulist[0].header=r[0].header\n",
    "hdulist.writeto('r_new.fits',overwrite=True)\n",
    "\n",
    "hdu = fits.PrimaryHDU(g[0].data)\n",
    "hdulist = fits.HDUList([hdu])\n",
    "hdulist[0].header=g[0].header\n",
    "hdulist.writeto('g_new.fits',overwrite=True)\n",
    "hdu = fits.PrimaryHDU(b[0].data)\n",
    "hdulist = fits.HDUList([hdu])\n",
    "hdulist[0].header=b[0].header\n",
    "hdulist.writeto('b_new.fits',overwrite=True)"
   ]
  },
  {
   "cell_type": "code",
   "execution_count": null,
   "metadata": {
    "ExecuteTime": {
     "start_time": "2022-01-18T06:23:35.061Z"
    }
   },
   "outputs": [
    {
     "name": "stderr",
     "output_type": "stream",
     "text": [
      "WARNING: FITSFixedWarning: RADECSYS= 'ICRS ' / International Celestial Ref. System \n",
      "the RADECSYS keyword is deprecated, use RADESYSa. [astropy.wcs.wcs]\n"
     ]
    }
   ],
   "source": [
    "aplpy.make_rgb_cube(['r_new.fits','g_new.fits','b_new.fits'], 'sdss_rgb.fits',north=True)\n",
    "aplpy.make_rgb_image('sdss_rgb.fits','sdss_rgb.png')"
   ]
  },
  {
   "cell_type": "markdown",
   "metadata": {
    "ExecuteTime": {
     "end_time": "2022-01-18T06:15:15.008621Z",
     "start_time": "2022-01-18T06:15:14.994438Z"
    }
   },
   "source": [
    "r_new=fits.open('r_new.fits')\n",
    "g_new=fits.open('g_new.fits')\n",
    "b_new=fits.open('b_new.fits')"
   ]
  },
  {
   "cell_type": "markdown",
   "metadata": {
    "ExecuteTime": {
     "end_time": "2022-01-18T05:51:58.817147Z",
     "start_time": "2022-01-18T05:51:58.790219Z"
    }
   },
   "source": [
    "aplpy.make_rgb_cube([r_path,g_path,b_path], 'sdss_rgb.fits')#north=True,hdu_in=0\n",
    "aplpy.make_rgb_image('sdss_rgb.fits','sdss_rgb.png')"
   ]
  },
  {
   "cell_type": "code",
   "execution_count": null,
   "metadata": {},
   "outputs": [],
   "source": []
  }
 ],
 "metadata": {
  "kernelspec": {
   "display_name": "Python 3",
   "language": "python",
   "name": "python3"
  },
  "language_info": {
   "codemirror_mode": {
    "name": "ipython",
    "version": 3
   },
   "file_extension": ".py",
   "mimetype": "text/x-python",
   "name": "python",
   "nbconvert_exporter": "python",
   "pygments_lexer": "ipython3",
   "version": "3.8.5"
  },
  "latex_envs": {
   "LaTeX_envs_menu_present": true,
   "autocomplete": true,
   "bibliofile": "biblio.bib",
   "cite_by": "apalike",
   "current_citInitial": 1,
   "eqLabelWithNumbers": true,
   "eqNumInitial": 1,
   "hotkeys": {
    "equation": "Ctrl-E",
    "itemize": "Ctrl-I"
   },
   "labels_anchors": false,
   "latex_user_defs": false,
   "report_style_numbering": false,
   "user_envs_cfg": false
  },
  "toc": {
   "nav_menu": {},
   "number_sections": true,
   "sideBar": true,
   "skip_h1_title": false,
   "toc_cell": false,
   "toc_position": {},
   "toc_section_display": "block",
   "toc_window_display": true
  }
 },
 "nbformat": 4,
 "nbformat_minor": 2
}
