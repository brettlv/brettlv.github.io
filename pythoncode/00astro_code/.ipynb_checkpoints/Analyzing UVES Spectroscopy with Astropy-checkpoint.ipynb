{
 "cells": [
  {
   "cell_type": "code",
   "execution_count": 1,
   "metadata": {
    "ExecuteTime": {
     "end_time": "2019-04-24T15:11:12.826823Z",
     "start_time": "2019-04-24T15:11:12.811166Z"
    }
   },
   "outputs": [
    {
     "data": {
      "text/plain": [
       "'/Users/brettlv/blog/brettlv.github.io/pythoncode'"
      ]
     },
     "execution_count": 1,
     "metadata": {},
     "output_type": "execute_result"
    }
   ],
   "source": [
    "pwd"
   ]
  },
  {
   "cell_type": "code",
   "execution_count": 2,
   "metadata": {
    "ExecuteTime": {
     "end_time": "2019-04-24T15:11:28.866702Z",
     "start_time": "2019-04-24T15:11:28.708063Z"
    },
    "collapsed": true
   },
   "outputs": [],
   "source": [
    "mkdir UVES"
   ]
  },
  {
   "cell_type": "code",
   "execution_count": 3,
   "metadata": {
    "ExecuteTime": {
     "end_time": "2019-04-24T15:11:37.769480Z",
     "start_time": "2019-04-24T15:11:37.620809Z"
    },
    "collapsed": true
   },
   "outputs": [],
   "source": [
    "ls UVES"
   ]
  },
  {
   "cell_type": "code",
   "execution_count": null,
   "metadata": {
    "collapsed": true
   },
   "outputs": [],
   "source": []
  },
  {
   "cell_type": "code",
   "execution_count": 4,
   "metadata": {
    "ExecuteTime": {
     "end_time": "2019-04-24T15:12:47.521576Z",
     "start_time": "2019-04-24T15:11:49.055622Z"
    }
   },
   "outputs": [
    {
     "name": "stdout",
     "output_type": "stream",
     "text": [
      "Downloading http://data.astropy.org/tutorials/UVES/data_UVES.tar.gz [Done]\n"
     ]
    }
   ],
   "source": [
    "import tarfile\n",
    "from astropy.utils.data import download_file\n",
    "url = 'http://data.astropy.org/tutorials/UVES/data_UVES.tar.gz'\n",
    "f = tarfile.open(download_file(url, cache=True), mode='r|*')\n",
    "working_dir_path = '/Users/brettlv/blog/brettlv.github.io/pythoncode/UVES'  # CHANGE TO WHEREVER YOU WANT THE DATA TO BE EXTRACTED\n",
    "f.extractall(path=working_dir_path)"
   ]
  },
  {
   "cell_type": "code",
   "execution_count": 5,
   "metadata": {
    "ExecuteTime": {
     "end_time": "2019-04-24T15:13:23.780099Z",
     "start_time": "2019-04-24T15:13:23.774934Z"
    }
   },
   "outputs": [
    {
     "data": {
      "text/plain": [
       "'/Users/brettlv/blog/brettlv.github.io/pythoncode'"
      ]
     },
     "execution_count": 5,
     "metadata": {},
     "output_type": "execute_result"
    }
   ],
   "source": [
    "pwd"
   ]
  },
  {
   "cell_type": "code",
   "execution_count": 2,
   "metadata": {
    "ExecuteTime": {
     "end_time": "2021-07-23T13:16:47.847369Z",
     "start_time": "2021-07-23T13:16:46.544536Z"
    }
   },
   "outputs": [],
   "source": [
    "from glob import glob\n",
    "import os\n",
    "\n",
    "import numpy as np\n",
    "\n",
    "from astropy.wcs import WCS\n",
    "from astropy.io import fits\n",
    "\n"
   ]
  },
  {
   "cell_type": "code",
   "execution_count": 3,
   "metadata": {
    "ExecuteTime": {
     "end_time": "2021-07-23T13:16:47.887567Z",
     "start_time": "2021-07-23T13:16:47.852322Z"
    }
   },
   "outputs": [],
   "source": [
    "working_dir_path = '/Users/brettlv/blog/brettlv.github.io/pythoncode/UVES'\n",
    "# os.path.join is a platform-independent way to join two directories\n",
    "globpath = os.path.join(working_dir_path, 'UVES/*.fits')\n",
    "\n",
    "#print globpath\n",
    "# glob searches through directories similar to the Unix shell\n",
    "filelist = glob(globpath)\n",
    "\n",
    "# sort alphabetically - given the way the filenames are\n",
    "# this also sorts in time\n",
    "filelist.sort()"
   ]
  },
  {
   "cell_type": "code",
   "execution_count": 4,
   "metadata": {
    "ExecuteTime": {
     "end_time": "2021-07-23T13:16:49.591324Z",
     "start_time": "2021-07-23T13:16:49.575484Z"
    }
   },
   "outputs": [
    {
     "data": {
      "text/plain": [
       "'/Users/brettlv/blog/brettlv.github.io/pythoncode/UVES/UVES/*.fits'"
      ]
     },
     "execution_count": 4,
     "metadata": {},
     "output_type": "execute_result"
    }
   ],
   "source": [
    "globpath"
   ]
  },
  {
   "cell_type": "code",
   "execution_count": 5,
   "metadata": {
    "ExecuteTime": {
     "end_time": "2021-07-23T13:16:50.387035Z",
     "start_time": "2021-07-23T13:16:50.381340Z"
    }
   },
   "outputs": [
    {
     "data": {
      "text/plain": [
       "['/Users/brettlv/blog/brettlv.github.io/pythoncode/UVES/UVES/r.UVES.2011-08-11T232352.266-A01_0000.fits',\n",
       " '/Users/brettlv/blog/brettlv.github.io/pythoncode/UVES/UVES/r.UVES.2011-08-11T234521.856-A01_0000.fits',\n",
       " '/Users/brettlv/blog/brettlv.github.io/pythoncode/UVES/UVES/r.UVES.2011-08-12T000651.936-A01_0000.fits',\n",
       " '/Users/brettlv/blog/brettlv.github.io/pythoncode/UVES/UVES/r.UVES.2011-08-12T002805.585-A01_0000.fits',\n",
       " '/Users/brettlv/blog/brettlv.github.io/pythoncode/UVES/UVES/r.UVES.2011-08-12T004955.136-A01_0000.fits',\n",
       " '/Users/brettlv/blog/brettlv.github.io/pythoncode/UVES/UVES/r.UVES.2011-08-12T011113.045-A01_0000.fits',\n",
       " '/Users/brettlv/blog/brettlv.github.io/pythoncode/UVES/UVES/r.UVES.2011-08-12T013243.455-A01_0000.fits',\n",
       " '/Users/brettlv/blog/brettlv.github.io/pythoncode/UVES/UVES/r.UVES.2011-08-12T015353.214-A01_0000.fits',\n",
       " '/Users/brettlv/blog/brettlv.github.io/pythoncode/UVES/UVES/r.UVES.2011-08-12T021503.172-A01_0000.fits',\n",
       " '/Users/brettlv/blog/brettlv.github.io/pythoncode/UVES/UVES/r.UVES.2011-08-12T023631.872-A01_0000.fits',\n",
       " '/Users/brettlv/blog/brettlv.github.io/pythoncode/UVES/UVES/r.UVES.2011-08-12T025742.000-A01_0000.fits',\n",
       " '/Users/brettlv/blog/brettlv.github.io/pythoncode/UVES/UVES/r.UVES.2011-08-12T031911.790-A01_0000.fits',\n",
       " '/Users/brettlv/blog/brettlv.github.io/pythoncode/UVES/UVES/r.UVES.2011-08-12T034021.358-A01_0000.fits',\n",
       " '/Users/brettlv/blog/brettlv.github.io/pythoncode/UVES/UVES/r.UVES.2011-08-12T232000.666-A01_0000.fits',\n",
       " '/Users/brettlv/blog/brettlv.github.io/pythoncode/UVES/UVES/r.UVES.2011-08-12T234259.018-A01_0000.fits',\n",
       " '/Users/brettlv/blog/brettlv.github.io/pythoncode/UVES/UVES/r.UVES.2011-08-13T000434.254-A01_0000.fits',\n",
       " '/Users/brettlv/blog/brettlv.github.io/pythoncode/UVES/UVES/r.UVES.2011-08-13T004052.407-A01_0000.fits',\n",
       " '/Users/brettlv/blog/brettlv.github.io/pythoncode/UVES/UVES/r.UVES.2011-08-13T010402.611-A01_0000.fits',\n",
       " '/Users/brettlv/blog/brettlv.github.io/pythoncode/UVES/UVES/r.UVES.2011-08-13T012512.346-A01_0000.fits',\n",
       " '/Users/brettlv/blog/brettlv.github.io/pythoncode/UVES/UVES/r.UVES.2011-08-13T014642.002-A01_0000.fits',\n",
       " '/Users/brettlv/blog/brettlv.github.io/pythoncode/UVES/UVES/r.UVES.2011-08-13T020756.237-A01_0000.fits',\n",
       " '/Users/brettlv/blog/brettlv.github.io/pythoncode/UVES/UVES/r.UVES.2011-08-13T022906.332-A01_0000.fits',\n",
       " '/Users/brettlv/blog/brettlv.github.io/pythoncode/UVES/UVES/r.UVES.2011-08-13T025035.998-A01_0000.fits',\n",
       " '/Users/brettlv/blog/brettlv.github.io/pythoncode/UVES/UVES/r.UVES.2011-08-13T031149.083-A01_0000.fits',\n",
       " '/Users/brettlv/blog/brettlv.github.io/pythoncode/UVES/UVES/r.UVES.2011-08-13T033258.638-A01_0000.fits']"
      ]
     },
     "execution_count": 5,
     "metadata": {},
     "output_type": "execute_result"
    }
   ],
   "source": [
    "filelist"
   ]
  },
  {
   "cell_type": "code",
   "execution_count": 6,
   "metadata": {
    "ExecuteTime": {
     "end_time": "2021-07-23T13:16:54.348665Z",
     "start_time": "2021-07-23T13:16:54.326855Z"
    }
   },
   "outputs": [
    {
     "name": "stdout",
     "output_type": "stream",
     "text": [
      "Filename: /Users/brettlv/blog/brettlv.github.io/pythoncode/UVES/UVES/r.UVES.2011-08-11T232352.266-A01_0000.fits\n",
      "No.    Name      Ver    Type      Cards   Dimensions   Format\n",
      "  0  PRIMARY       1 PrimaryHDU     609   (42751,)   float32   \n"
     ]
    }
   ],
   "source": [
    "sp = fits.open(filelist[0])\n",
    "sp.info()"
   ]
  },
  {
   "cell_type": "code",
   "execution_count": 7,
   "metadata": {
    "ExecuteTime": {
     "end_time": "2021-07-23T13:16:58.892379Z",
     "start_time": "2021-07-23T13:16:58.798053Z"
    }
   },
   "outputs": [],
   "source": [
    "header = sp[0].header\n",
    "\n",
    "wcs = WCS(header)\n",
    "#make index array\n",
    "index = np.arange(header['NAXIS1'])\n",
    "\n",
    "wavelength = wcs.wcs_pix2world(index[:,np.newaxis], 0)\n",
    "wavelength.shape\n",
    "#Ahh, this has the wrong dimension. So we flatten it.\n",
    "wavelength = wavelength.flatten()"
   ]
  },
  {
   "cell_type": "code",
   "execution_count": 8,
   "metadata": {
    "ExecuteTime": {
     "end_time": "2021-07-23T13:17:00.296268Z",
     "start_time": "2021-07-23T13:17:00.288477Z"
    }
   },
   "outputs": [
    {
     "data": {
      "text/plain": [
       "array([3732.05623192, 3732.0858853 , 3732.11553869, ..., 4999.67906915,\n",
       "       4999.70872253, 4999.73837591])"
      ]
     },
     "execution_count": 8,
     "metadata": {},
     "output_type": "execute_result"
    }
   ],
   "source": [
    "wavelength"
   ]
  },
  {
   "cell_type": "code",
   "execution_count": 9,
   "metadata": {
    "ExecuteTime": {
     "end_time": "2021-07-23T13:17:00.999285Z",
     "start_time": "2021-07-23T13:17:00.983536Z"
    }
   },
   "outputs": [],
   "source": [
    "flux = sp[0].data"
   ]
  },
  {
   "cell_type": "code",
   "execution_count": 10,
   "metadata": {
    "ExecuteTime": {
     "end_time": "2021-07-23T13:17:02.378196Z",
     "start_time": "2021-07-23T13:17:02.371228Z"
    }
   },
   "outputs": [
    {
     "data": {
      "text/plain": [
       "array([0., 0., 0., ..., 0., 0., 0.], dtype=float32)"
      ]
     },
     "execution_count": 10,
     "metadata": {},
     "output_type": "execute_result"
    }
   ],
   "source": [
    "flux"
   ]
  },
  {
   "cell_type": "code",
   "execution_count": null,
   "metadata": {
    "collapsed": true
   },
   "outputs": [],
   "source": []
  },
  {
   "cell_type": "code",
   "execution_count": 11,
   "metadata": {
    "ExecuteTime": {
     "end_time": "2021-07-23T13:17:04.741043Z",
     "start_time": "2021-07-23T13:17:04.731783Z"
    }
   },
   "outputs": [],
   "source": [
    "import astropy.units as u\n",
    "from astropy.constants.si import c, G, M_sun, R_sun\n",
    "\n",
    "wavelength = wavelength * u.AA\n",
    "\n",
    "# Let's define some constants we need for the exercises further down\n",
    "# Again, we multiply the value with a unit here\n",
    "heliocentric = -23. * u.km/u.s\n",
    "v_rad = -4.77 * u.km / u.s  # Strassmeier et al. (2005)\n",
    "R_MN_Lup = 0.9 * R_sun      # Strassmeier et al. (2005)\n",
    "M_MN_Lup = 0.6 * M_sun      # Strassmeier et al. (2005)\n",
    "vsini = 74.6 * u.km / u.s   # Strassmeier et al. (2005)\n",
    "period = 0.439 * u.day      # Strassmeier et al. (2005)\n",
    "\n",
    "inclination = 45. * u.degree # Strassmeier et al. (2005)\n",
    "# All numpy trigonometric functions expect the input in radian.\n",
    "# So far, astropy does not know this, so we need to convert the\n",
    "# angle manually\n",
    "incl = inclination.to(u.radian)"
   ]
  },
  {
   "cell_type": "code",
   "execution_count": 12,
   "metadata": {
    "ExecuteTime": {
     "end_time": "2021-07-23T13:17:05.946952Z",
     "start_time": "2021-07-23T13:17:05.940777Z"
    }
   },
   "outputs": [
    {
     "data": {
      "text/plain": [
       "(<Quantity 0.78539816 rad>, <Quantity 45. deg>)"
      ]
     },
     "execution_count": 12,
     "metadata": {},
     "output_type": "execute_result"
    }
   ],
   "source": [
    "incl,inclination"
   ]
  },
  {
   "cell_type": "code",
   "execution_count": 13,
   "metadata": {
    "ExecuteTime": {
     "end_time": "2021-07-23T13:17:08.748381Z",
     "start_time": "2021-07-23T13:17:08.739231Z"
    }
   },
   "outputs": [
    {
     "name": "stdout",
     "output_type": "stream",
     "text": [
      "504329.2809002659 m / s\n",
      "50432928.09002659 cm / s\n",
      "1985548350.0010464 yd / h\n"
     ]
    }
   ],
   "source": [
    "v_accr = (2.* G * M_MN_Lup/R_MN_Lup)**0.5 \n",
    "print(v_accr)\n",
    "# Maybe astronomers prefer it in the traditional cgs system?\n",
    "print(v_accr.cgs)\n",
    "# Or in some really obscure unit?\n",
    "from astropy.units import imperial\n",
    "print(v_accr.to(imperial.yd / u.hour))"
   ]
  },
  {
   "cell_type": "code",
   "execution_count": 14,
   "metadata": {
    "ExecuteTime": {
     "end_time": "2021-07-23T13:17:12.095276Z",
     "start_time": "2021-07-23T13:17:11.562792Z"
    }
   },
   "outputs": [],
   "source": [
    "from astropy.time import Time\n",
    "t1 = Time(header['MJD-Obs'], format = 'mjd', scale = 'utc')\n",
    "t2 = Time(header['Date-Obs'], scale = 'utc')"
   ]
  },
  {
   "cell_type": "code",
   "execution_count": 15,
   "metadata": {
    "ExecuteTime": {
     "end_time": "2021-07-23T13:17:12.912099Z",
     "start_time": "2021-07-23T13:17:12.908123Z"
    }
   },
   "outputs": [
    {
     "data": {
      "text/plain": [
       "<Time object: scale='utc' format='mjd' value=55784.97491049>"
      ]
     },
     "execution_count": 15,
     "metadata": {},
     "output_type": "execute_result"
    }
   ],
   "source": [
    "t1"
   ]
  },
  {
   "cell_type": "code",
   "execution_count": 16,
   "metadata": {
    "ExecuteTime": {
     "end_time": "2021-07-23T13:17:22.786959Z",
     "start_time": "2021-07-23T13:17:22.781339Z"
    }
   },
   "outputs": [
    {
     "data": {
      "text/plain": [
       "<Time object: scale='utc' format='isot' value=2011-08-11T23:23:52.266>"
      ]
     },
     "execution_count": 16,
     "metadata": {},
     "output_type": "execute_result"
    }
   ],
   "source": [
    "t2"
   ]
  },
  {
   "cell_type": "code",
   "execution_count": null,
   "metadata": {
    "collapsed": true
   },
   "outputs": [],
   "source": []
  },
  {
   "cell_type": "code",
   "execution_count": null,
   "metadata": {
    "collapsed": true
   },
   "outputs": [],
   "source": []
  }
 ],
 "metadata": {
  "kernelspec": {
   "display_name": "Python 3",
   "language": "python",
   "name": "python3"
  },
  "language_info": {
   "codemirror_mode": {
    "name": "ipython",
    "version": 3
   },
   "file_extension": ".py",
   "mimetype": "text/x-python",
   "name": "python",
   "nbconvert_exporter": "python",
   "pygments_lexer": "ipython3",
   "version": "3.8.5"
  },
  "latex_envs": {
   "LaTeX_envs_menu_present": true,
   "autocomplete": true,
   "bibliofile": "biblio.bib",
   "cite_by": "apalike",
   "current_citInitial": 1,
   "eqLabelWithNumbers": true,
   "eqNumInitial": 1,
   "hotkeys": {
    "equation": "Ctrl-E",
    "itemize": "Ctrl-I"
   },
   "labels_anchors": false,
   "latex_user_defs": false,
   "report_style_numbering": false,
   "user_envs_cfg": false
  },
  "toc": {
   "nav_menu": {},
   "number_sections": true,
   "sideBar": true,
   "skip_h1_title": false,
   "toc_cell": false,
   "toc_position": {},
   "toc_section_display": "block",
   "toc_window_display": false
  }
 },
 "nbformat": 4,
 "nbformat_minor": 2
}
