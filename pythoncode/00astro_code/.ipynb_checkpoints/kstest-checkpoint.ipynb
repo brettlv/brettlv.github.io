{
 "cells": [
  {
   "cell_type": "markdown",
   "id": "c8c1f3eb",
   "metadata": {
    "ExecuteTime": {
     "end_time": "2022-10-04T11:19:42.700872Z",
     "start_time": "2022-10-04T11:19:42.687182Z"
    }
   },
   "source": [
    "[ks_2samp](https://docs.scipy.org/doc/scipy/reference/generated/scipy.stats.ks_2samp.html?highlight=scipy%20stats%20t)"
   ]
  },
  {
   "cell_type": "code",
   "execution_count": 5,
   "id": "64981bfc",
   "metadata": {
    "ExecuteTime": {
     "end_time": "2022-10-04T11:18:34.649241Z",
     "start_time": "2022-10-04T11:18:34.642653Z"
    }
   },
   "outputs": [],
   "source": [
    "from scipy import stats\n",
    "import numpy as np\n"
   ]
  },
  {
   "cell_type": "code",
   "execution_count": 6,
   "id": "89656b34",
   "metadata": {
    "ExecuteTime": {
     "end_time": "2022-10-04T11:18:34.941563Z",
     "start_time": "2022-10-04T11:18:34.922379Z"
    }
   },
   "outputs": [
    {
     "data": {
      "text/plain": [
       "KstestResult(statistic=0.4909090909090909, pvalue=5.299649608048185e-12)"
      ]
     },
     "execution_count": 6,
     "metadata": {},
     "output_type": "execute_result"
    }
   ],
   "source": [
    "rng = np.random.default_rng()\n",
    "sample1 = stats.uniform.rvs(size=100, random_state=rng)\n",
    "sample2 = stats.norm.rvs(size=110, random_state=rng)\n",
    "stats.ks_2samp(sample1, sample2)\n",
    "\n"
   ]
  },
  {
   "cell_type": "code",
   "execution_count": null,
   "id": "5470660d",
   "metadata": {},
   "outputs": [],
   "source": []
  },
  {
   "cell_type": "code",
   "execution_count": 12,
   "id": "48b08589",
   "metadata": {
    "ExecuteTime": {
     "end_time": "2022-10-04T11:19:10.460384Z",
     "start_time": "2022-10-04T11:19:10.442107Z"
    }
   },
   "outputs": [
    {
     "data": {
      "text/plain": [
       "KstestResult(statistic=0.11328320802005012, pvalue=0.49810608124386524)"
      ]
     },
     "execution_count": 12,
     "metadata": {},
     "output_type": "execute_result"
    }
   ],
   "source": [
    "sample1 = stats.norm.rvs(size=105, random_state=rng)\n",
    "sample2 = stats.norm.rvs(size=95, random_state=rng)\n",
    "stats.ks_2samp(sample1, sample2)"
   ]
  },
  {
   "cell_type": "code",
   "execution_count": null,
   "id": "f193ea15",
   "metadata": {},
   "outputs": [],
   "source": []
  },
  {
   "cell_type": "code",
   "execution_count": 14,
   "id": "feae775a",
   "metadata": {
    "ExecuteTime": {
     "end_time": "2022-10-04T11:20:02.020097Z",
     "start_time": "2022-10-04T11:20:01.980240Z"
    }
   },
   "outputs": [
    {
     "data": {
      "text/plain": [
       "KstestResult(statistic=0.3132832080200501, pvalue=3.799863756883175e-05)"
      ]
     },
     "execution_count": 14,
     "metadata": {},
     "output_type": "execute_result"
    }
   ],
   "source": [
    "sample1 = stats.norm.rvs(size=105, loc=0.5, random_state=rng)\n",
    "stats.ks_2samp(sample1, sample2, alternative='less')"
   ]
  },
  {
   "cell_type": "code",
   "execution_count": null,
   "id": "9327b2c4",
   "metadata": {},
   "outputs": [],
   "source": []
  }
 ],
 "metadata": {
  "kernelspec": {
   "display_name": "Python 3 (ipykernel)",
   "language": "python",
   "name": "python3"
  },
  "language_info": {
   "codemirror_mode": {
    "name": "ipython",
    "version": 3
   },
   "file_extension": ".py",
   "mimetype": "text/x-python",
   "name": "python",
   "nbconvert_exporter": "python",
   "pygments_lexer": "ipython3",
   "version": "3.9.12"
  },
  "latex_envs": {
   "LaTeX_envs_menu_present": true,
   "autoclose": false,
   "autocomplete": true,
   "bibliofile": "biblio.bib",
   "cite_by": "apalike",
   "current_citInitial": 1,
   "eqLabelWithNumbers": true,
   "eqNumInitial": 1,
   "hotkeys": {
    "equation": "Ctrl-E",
    "itemize": "Ctrl-I"
   },
   "labels_anchors": false,
   "latex_user_defs": false,
   "report_style_numbering": false,
   "user_envs_cfg": false
  },
  "toc": {
   "base_numbering": 1,
   "nav_menu": {},
   "number_sections": true,
   "sideBar": true,
   "skip_h1_title": false,
   "title_cell": "Table of Contents",
   "title_sidebar": "Contents",
   "toc_cell": false,
   "toc_position": {},
   "toc_section_display": true,
   "toc_window_display": false
  }
 },
 "nbformat": 4,
 "nbformat_minor": 5
}
