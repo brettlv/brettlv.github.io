{
 "cells": [
  {
   "cell_type": "code",
   "execution_count": 2,
   "metadata": {
    "ExecuteTime": {
     "end_time": "2023-06-08T11:17:42.691837Z",
     "start_time": "2023-06-08T11:17:26.937025Z"
    }
   },
   "outputs": [],
   "source": [
    "from scipy.signal import medfilt"
   ]
  },
  {
   "cell_type": "markdown",
   "metadata": {},
   "source": [
    "# jwst"
   ]
  },
  {
   "cell_type": "code",
   "execution_count": 1,
   "metadata": {
    "ExecuteTime": {
     "end_time": "2023-06-08T11:17:24.783139Z",
     "start_time": "2023-06-08T11:17:24.766626Z"
    }
   },
   "outputs": [],
   "source": [
    "import jwst"
   ]
  },
  {
   "cell_type": "markdown",
   "metadata": {},
   "source": [
    "filename='/Volumes/ExtremeSSD/Papers_Project/JWST/JWST_data/jw02731/jw02731001001/jw02731001001_02101_00002_nrcb1_o001_crf.fits'\n"
   ]
  },
  {
   "cell_type": "markdown",
   "metadata": {},
   "source": [
    "from jwst.pipeline import Detector1Pipeline\n",
    "result = Detector1Pipeline.call('jw00017001001_01101_00001_nrca1_uncal.fits')\n",
    "\n",
    "from jwst.linearity import LinearityStep\n",
    "result = LinearityStep.call('jw00001001001_01101_00001_mirimage_uncal.fits')\n"
   ]
  },
  {
   "cell_type": "markdown",
   "metadata": {},
   "source": [
    "#pip install --upgrade jwst\n",
    "#import sys\n",
    "#Install a pip package in the current Jupyter kernel\n",
    "import sys\n",
    "!{sys.executable} -m pip install jwst"
   ]
  },
  {
   "cell_type": "markdown",
   "metadata": {},
   "source": [
    "# Calibration References Data System (CRDS) Setup"
   ]
  },
  {
   "cell_type": "code",
   "execution_count": null,
   "metadata": {},
   "outputs": [],
   "source": [
    "export CRDS_PATH=$HOME/crds_cache\n",
    "export CRDS_SERVER_URL=https://jwst-crds.stsci.edu"
   ]
  },
  {
   "cell_type": "code",
   "execution_count": null,
   "metadata": {},
   "outputs": [],
   "source": []
  },
  {
   "cell_type": "markdown",
   "metadata": {},
   "source": [
    "# [Running From Within Python](https://jwst-pipeline.readthedocs.io/en/stable/jwst/introduction.html#running-from-within-python)"
   ]
  },
  {
   "cell_type": "code",
   "execution_count": null,
   "metadata": {},
   "outputs": [],
   "source": [
    "from jwst.pipeline import Detector1Pipeline\n",
    "result = Detector1Pipeline.call('jw00017001001_01101_00001_nrca1_uncal.fits')\n",
    "\n",
    "from jwst.linearity import LinearityStep\n",
    "result = LinearityStep.call('jw00001001001_01101_00001_mirimage_uncal.fits')"
   ]
  },
  {
   "cell_type": "markdown",
   "metadata": {},
   "source": [
    "import os\n",
    "os.environ['CRDS_PATH'] = 'path_to_local_cache'\n",
    "os.environ['CRDS_SERVER_URL'] = 'url-of-server-to-use'\n",
    "\n",
    "#Now import anything else needed\n",
    "import jwst"
   ]
  },
  {
   "cell_type": "code",
   "execution_count": null,
   "metadata": {},
   "outputs": [],
   "source": []
  },
  {
   "cell_type": "markdown",
   "metadata": {},
   "source": [
    "# Qfitsview"
   ]
  },
  {
   "cell_type": "code",
   "execution_count": null,
   "metadata": {},
   "outputs": [],
   "source": [
    "filename='/Volumes/ExtremeSSD/Papers_Project/JWST/JWST_data/jw02731/jw02731001001/jw02731001001_02101_00002_nrcb1_o001_crf.fits'"
   ]
  },
  {
   "cell_type": "code",
   "execution_count": null,
   "metadata": {},
   "outputs": [],
   "source": [
    "image = readfits(filename)"
   ]
  },
  {
   "cell_type": "code",
   "execution_count": null,
   "metadata": {},
   "outputs": [],
   "source": [
    "image = '/Volumes/ExtremeSSD/Papers_Project/JWST/JWST_data/jw02731/jw02731001001/jw02731001001_02101_00002_nrcb1_o001_crf.fits'"
   ]
  }
 ],
 "metadata": {
  "kernelspec": {
   "display_name": "Python 3 (ipykernel)",
   "language": "python",
   "name": "python3"
  },
  "language_info": {
   "codemirror_mode": {
    "name": "ipython",
    "version": 3
   },
   "file_extension": ".py",
   "mimetype": "text/x-python",
   "name": "python",
   "nbconvert_exporter": "python",
   "pygments_lexer": "ipython3",
   "version": "3.9.12"
  },
  "latex_envs": {
   "LaTeX_envs_menu_present": true,
   "autoclose": false,
   "autocomplete": true,
   "bibliofile": "biblio.bib",
   "cite_by": "apalike",
   "current_citInitial": 1,
   "eqLabelWithNumbers": true,
   "eqNumInitial": 1,
   "hotkeys": {
    "equation": "Ctrl-E",
    "itemize": "Ctrl-I"
   },
   "labels_anchors": false,
   "latex_user_defs": false,
   "report_style_numbering": false,
   "user_envs_cfg": false
  },
  "toc": {
   "base_numbering": 1,
   "nav_menu": {},
   "number_sections": true,
   "sideBar": true,
   "skip_h1_title": false,
   "title_cell": "Table of Contents",
   "title_sidebar": "Contents",
   "toc_cell": false,
   "toc_position": {},
   "toc_section_display": "block",
   "toc_window_display": false
  }
 },
 "nbformat": 4,
 "nbformat_minor": 2
}
