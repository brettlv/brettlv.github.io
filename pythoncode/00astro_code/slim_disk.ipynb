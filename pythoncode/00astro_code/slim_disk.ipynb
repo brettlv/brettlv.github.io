{
 "cells": [
  {
   "cell_type": "markdown",
   "metadata": {},
   "source": [
    "## Slim disk\n",
    "\\begin{equation}\n",
    "\\dot{M}=-2\\pi r \\Sigma v_r\n",
    "\\tag{1.a}\n",
    "\\end{equation}\n",
    "\n",
    "\\begin{equation}\n",
    "\\dot{M}(l-l_{in})=-2\\pi r^2 T_{r \\phi}\n",
    "\\tag{1.b}\n",
    "\\end{equation}\n",
    "\n",
    "\\begin{equation}\n",
    "v_r\\frac{d v_r}{d r}+\\frac{d \\Pi}{\\Sigma d r}=\\frac{l^2-l^2_K}{r^3}-\\frac{\\Pi d ln \\Omega_K}{\\Sigma d r}\n",
    "\\tag{1.c}\n",
    "\\end{equation}\n",
    "\n",
    "\\begin{equation}\n",
    "Q_{vis}=Q_{adv}+Q_{rad}\n",
    "\\tag{1.d}\n",
    "\\end{equation}\n",
    "\n",
    "\n",
    "\\begin{equation}\n",
    "Q_{vis}=-r\\alpha \\Pi\\frac{d \\Omega}{dr}=-\\alpha \\Pi\\frac{d l}{r dr}+2\\alpha \\Pi\\frac{l}{r^2}\n",
    "\\tag{1.e}\n",
    "\\end{equation}\n",
    "\n",
    "\\begin{equation}\n",
    "Q_{adv}=-\\frac{\\dot{M}}{4\\pi r}\\frac{W}{\\Sigma}\\frac{1}{\\Gamma_3-1}(\\frac{d lnW}{d r}-\\Gamma_1\\frac{d ln\\Sigma}{d r}+(\\Gamma_1-1)\\frac{d ln H}{d r})\n",
    "\\tag{1.f}\n",
    "\\end{equation}\n",
    "\n",
    "\\begin{equation}\n",
    "Q_{rad}=\\frac{8acT^4}{3\\kappa \\rho H}=\\Gamma_z\n",
    "\\tag{1.g}\n",
    "\\end{equation}\n"
   ]
  },
  {
   "cell_type": "code",
   "execution_count": null,
   "metadata": {
    "collapsed": true
   },
   "outputs": [],
   "source": []
  }
 ],
 "metadata": {
  "kernelspec": {
   "display_name": "Python 3",
   "language": "python",
   "name": "python3"
  },
  "language_info": {
   "codemirror_mode": {
    "name": "ipython",
    "version": 3
   },
   "file_extension": ".py",
   "mimetype": "text/x-python",
   "name": "python",
   "nbconvert_exporter": "python",
   "pygments_lexer": "ipython3",
   "version": "3.6.0"
  }
 },
 "nbformat": 4,
 "nbformat_minor": 2
}
