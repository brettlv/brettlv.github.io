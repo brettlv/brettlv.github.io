{
 "cells": [
  {
   "cell_type": "code",
   "execution_count": 3,
   "metadata": {
    "ExecuteTime": {
     "end_time": "2021-11-17T08:40:53.341133Z",
     "start_time": "2021-11-17T08:40:52.934982Z"
    }
   },
   "outputs": [],
   "source": [
    "#import cv2  \n",
    "import random \n",
    "import numpy as np "
   ]
  },
  {
   "cell_type": "code",
   "execution_count": null,
   "metadata": {},
   "outputs": [],
   "source": []
  },
  {
   "cell_type": "code",
   "execution_count": 4,
   "metadata": {
    "ExecuteTime": {
     "end_time": "2021-11-17T08:40:55.331370Z",
     "start_time": "2021-11-17T08:40:55.318291Z"
    }
   },
   "outputs": [
    {
     "name": "stdout",
     "output_type": "stream",
     "text": [
      "[[0, 1], [0, 5], [1, 2], [1, 6], [2, 3], [2, 7], [3, 4], [3, 8], [4, 9], [5, 6], [5, 10], [6, 7], [6, 11], [7, 8], [7, 12], [8, 9], [8, 13], [9, 14], [10, 11], [10, 15], [11, 12], [11, 16], [12, 13], [12, 17], [13, 14], [13, 18], [14, 19], [15, 16], [15, 20], [16, 17], [16, 21], [17, 18], [17, 22], [18, 19], [18, 23], [19, 24], [20, 21], [21, 22], [22, 23], [23, 24]]\n"
     ]
    }
   ],
   "source": [
    "random.seed(88843)\n",
    "\n",
    "point_list =  [\n",
    "    [0, 0],[1, 0], [2, 0], [3, 0], [4, 0], \n",
    "    [0, 1],[1, 1], [2, 1], [3, 1], [4, 1], \n",
    "    [0, 2],[1, 2], [2, 2], [3, 2], [4, 2], \n",
    "    [0, 3],[1, 3], [2, 3], [3, 3], [4, 3], \n",
    "    [0, 4],[1, 4], [2, 4], [3, 4], [4, 4], \n",
    "]\n",
    "\n",
    "road_list = []\n",
    "for i in range(5):\n",
    "    for j in range(5):\n",
    "        if j+1 < 5 and  i*5+j+5 < 5*5:\n",
    "            road_list.append([i*5+j, i*5+j+1])\n",
    "            road_list.append([i*5+j, i*5+j+5])\n",
    "        if j+1 == 5 and i*5+j+5 < 5*5:\n",
    "            road_list.append([i*5+j, i*5+j+5])\n",
    "        if i*5+j+5 >= 5*5 and j+1 < 5:\n",
    "            road_list.append([i*5+j, i*5+j+1])\n",
    "\n",
    "print(road_list) "
   ]
  },
  {
   "cell_type": "code",
   "execution_count": 5,
   "metadata": {
    "ExecuteTime": {
     "end_time": "2021-11-17T08:41:10.828244Z",
     "start_time": "2021-11-17T08:41:10.812883Z"
    }
   },
   "outputs": [
    {
     "data": {
      "text/plain": [
       "[[0, 1],\n",
       " [0, 5],\n",
       " [1, 2],\n",
       " [1, 6],\n",
       " [2, 3],\n",
       " [2, 7],\n",
       " [3, 4],\n",
       " [3, 8],\n",
       " [4, 9],\n",
       " [5, 6],\n",
       " [5, 10],\n",
       " [6, 7],\n",
       " [6, 11],\n",
       " [7, 8],\n",
       " [7, 12],\n",
       " [8, 9],\n",
       " [8, 13],\n",
       " [9, 14],\n",
       " [10, 11],\n",
       " [10, 15],\n",
       " [11, 12],\n",
       " [11, 16],\n",
       " [12, 13],\n",
       " [12, 17],\n",
       " [13, 14],\n",
       " [13, 18],\n",
       " [14, 19],\n",
       " [15, 16],\n",
       " [15, 20],\n",
       " [16, 17],\n",
       " [16, 21],\n",
       " [17, 18],\n",
       " [17, 22],\n",
       " [18, 19],\n",
       " [18, 23],\n",
       " [19, 24],\n",
       " [20, 21],\n",
       " [21, 22],\n",
       " [22, 23],\n",
       " [23, 24]]"
      ]
     },
     "execution_count": 5,
     "metadata": {},
     "output_type": "execute_result"
    }
   ],
   "source": [
    "road_list"
   ]
  },
  {
   "cell_type": "code",
   "execution_count": 8,
   "metadata": {
    "ExecuteTime": {
     "end_time": "2021-11-17T08:53:49.732718Z",
     "start_time": "2021-11-17T08:53:49.691497Z"
    }
   },
   "outputs": [
    {
     "ename": "ModuleNotFoundError",
     "evalue": "No module named 'cv2'",
     "output_type": "error",
     "traceback": [
      "\u001b[0;31m---------------------------------------------------------------------------\u001b[0m",
      "\u001b[0;31mModuleNotFoundError\u001b[0m                       Traceback (most recent call last)",
      "\u001b[0;32m<ipython-input-8-d72219f4e478>\u001b[0m in \u001b[0;36m<module>\u001b[0;34m\u001b[0m\n\u001b[0;32m----> 1\u001b[0;31m \u001b[0;32mimport\u001b[0m \u001b[0mcv2\u001b[0m\u001b[0;34m\u001b[0m\u001b[0;34m\u001b[0m\u001b[0m\n\u001b[0m",
      "\u001b[0;31mModuleNotFoundError\u001b[0m: No module named 'cv2'"
     ]
    }
   ],
   "source": [
    "import cv2  "
   ]
  },
  {
   "cell_type": "code",
   "execution_count": 12,
   "metadata": {
    "ExecuteTime": {
     "end_time": "2021-11-17T08:54:39.715106Z",
     "start_time": "2021-11-17T08:54:39.709562Z"
    }
   },
   "outputs": [
    {
     "data": {
      "text/plain": [
       "25"
      ]
     },
     "execution_count": 12,
     "metadata": {},
     "output_type": "execute_result"
    }
   ],
   "source": [
    "len(point_list)"
   ]
  },
  {
   "cell_type": "code",
   "execution_count": 13,
   "metadata": {
    "ExecuteTime": {
     "end_time": "2021-11-17T08:55:29.278841Z",
     "start_time": "2021-11-17T08:55:29.273047Z"
    }
   },
   "outputs": [],
   "source": [
    "for i in range( len(point_list) ) :\n",
    "    temp  = point_list[i][0] +  (random.random() - 0.5 ) * 0.4 \n",
    "    point_list[i][0] = int( temp * 70  +  50  ) \n",
    "    temp = point_list[i][1] +  (random.random() - 0.5 ) * 0.4 \n",
    "    point_list[i][1] = int( temp * 70  +  50  )\n",
    "\n",
    "\n",
    "blank = np.zeros((400,400,3), np.uint8)"
   ]
  },
  {
   "cell_type": "code",
   "execution_count": 14,
   "metadata": {
    "ExecuteTime": {
     "end_time": "2021-11-17T08:55:34.622798Z",
     "start_time": "2021-11-17T08:55:34.616376Z"
    }
   },
   "outputs": [
    {
     "data": {
      "text/plain": [
       "[[3267, 2636],\n",
       " [8028, 3768],\n",
       " [13770, 2557],\n",
       " [17278, 3481],\n",
       " [22716, 3907],\n",
       " [3476, 7612],\n",
       " [9015, 8803],\n",
       " [14186, 8808],\n",
       " [17895, 8805],\n",
       " [22738, 8877],\n",
       " [3258, 13069],\n",
       " [9136, 12448],\n",
       " [13993, 12869],\n",
       " [17346, 14203],\n",
       " [22874, 13489],\n",
       " [2568, 18393],\n",
       " [8436, 18804],\n",
       " [14120, 18728],\n",
       " [18392, 17257],\n",
       " [22532, 17911],\n",
       " [2649, 24068],\n",
       " [9089, 23977],\n",
       " [12924, 22506],\n",
       " [19021, 22383],\n",
       " [23229, 22244]]"
      ]
     },
     "execution_count": 14,
     "metadata": {},
     "output_type": "execute_result"
    }
   ],
   "source": [
    "point_list"
   ]
  },
  {
   "cell_type": "code",
   "execution_count": 6,
   "metadata": {
    "ExecuteTime": {
     "end_time": "2021-11-17T08:41:32.533346Z",
     "start_time": "2021-11-17T08:41:32.504627Z"
    }
   },
   "outputs": [
    {
     "ename": "NameError",
     "evalue": "name 'cv2' is not defined",
     "output_type": "error",
     "traceback": [
      "\u001b[0;31m---------------------------------------------------------------------------\u001b[0m",
      "\u001b[0;31mNameError\u001b[0m                                 Traceback (most recent call last)",
      "\u001b[0;32m<ipython-input-6-c90528b49100>\u001b[0m in \u001b[0;36m<module>\u001b[0;34m\u001b[0m\n\u001b[1;32m     12\u001b[0m     \u001b[0mx\u001b[0m \u001b[0;34m=\u001b[0m \u001b[0mp\u001b[0m\u001b[0;34m[\u001b[0m\u001b[0;36m0\u001b[0m\u001b[0;34m]\u001b[0m\u001b[0;34m\u001b[0m\u001b[0;34m\u001b[0m\u001b[0m\n\u001b[1;32m     13\u001b[0m     \u001b[0my\u001b[0m \u001b[0;34m=\u001b[0m \u001b[0mp\u001b[0m\u001b[0;34m[\u001b[0m\u001b[0;36m1\u001b[0m\u001b[0;34m]\u001b[0m\u001b[0;34m\u001b[0m\u001b[0;34m\u001b[0m\u001b[0m\n\u001b[0;32m---> 14\u001b[0;31m     \u001b[0mcv2\u001b[0m\u001b[0;34m.\u001b[0m\u001b[0mcircle\u001b[0m\u001b[0;34m(\u001b[0m\u001b[0mblank\u001b[0m\u001b[0;34m,\u001b[0m  \u001b[0;34m(\u001b[0m\u001b[0mx\u001b[0m\u001b[0;34m,\u001b[0m \u001b[0my\u001b[0m\u001b[0;34m)\u001b[0m\u001b[0;34m,\u001b[0m  \u001b[0;36m3\u001b[0m\u001b[0;34m,\u001b[0m \u001b[0;34m(\u001b[0m\u001b[0;36m0\u001b[0m\u001b[0;34m,\u001b[0m \u001b[0;36m0\u001b[0m\u001b[0;34m,\u001b[0m \u001b[0;36m255\u001b[0m\u001b[0;34m)\u001b[0m \u001b[0;34m)\u001b[0m\u001b[0;34m\u001b[0m\u001b[0;34m\u001b[0m\u001b[0m\n\u001b[0m\u001b[1;32m     15\u001b[0m \u001b[0;34m\u001b[0m\u001b[0m\n\u001b[1;32m     16\u001b[0m \u001b[0;32mfor\u001b[0m \u001b[0mr\u001b[0m \u001b[0;32min\u001b[0m \u001b[0mroad_list\u001b[0m\u001b[0;34m:\u001b[0m\u001b[0;34m\u001b[0m\u001b[0;34m\u001b[0m\u001b[0m\n",
      "\u001b[0;31mNameError\u001b[0m: name 'cv2' is not defined"
     ]
    }
   ],
   "source": [
    "for p in point_list:\n",
    "    x = p[0]\n",
    "    y = p[1]\n",
    "    cv2.circle(blank,  (x, y),  3, (0, 0, 255) )\n",
    "\n",
    "for r in road_list:\n",
    "    x_0 = point_list[ r[0] ][0]\n",
    "    y_0 = point_list[ r[0] ][1]\n",
    "    x_1 = point_list[ r[1] ][0]\n",
    "    y_1 = point_list[ r[1] ][1]\n",
    "    cv2.line(blank, (x_0, y_0), (x_1, y_1), (0,255,0), 1)\n",
    "\n",
    "\n",
    "cv2.imwrite(\"test.png\", blank )  \n"
   ]
  },
  {
   "cell_type": "code",
   "execution_count": null,
   "metadata": {},
   "outputs": [],
   "source": []
  }
 ],
 "metadata": {
  "kernelspec": {
   "display_name": "Python 3",
   "language": "python",
   "name": "python3"
  },
  "language_info": {
   "codemirror_mode": {
    "name": "ipython",
    "version": 3
   },
   "file_extension": ".py",
   "mimetype": "text/x-python",
   "name": "python",
   "nbconvert_exporter": "python",
   "pygments_lexer": "ipython3",
   "version": "3.8.5"
  },
  "latex_envs": {
   "LaTeX_envs_menu_present": true,
   "autocomplete": true,
   "bibliofile": "biblio.bib",
   "cite_by": "apalike",
   "current_citInitial": 1,
   "eqLabelWithNumbers": true,
   "eqNumInitial": 1,
   "hotkeys": {
    "equation": "Ctrl-E",
    "itemize": "Ctrl-I"
   },
   "labels_anchors": false,
   "latex_user_defs": false,
   "report_style_numbering": false,
   "user_envs_cfg": false
  },
  "toc": {
   "nav_menu": {},
   "number_sections": true,
   "sideBar": true,
   "skip_h1_title": false,
   "toc_cell": false,
   "toc_position": {},
   "toc_section_display": "block",
   "toc_window_display": false
  }
 },
 "nbformat": 4,
 "nbformat_minor": 2
}
