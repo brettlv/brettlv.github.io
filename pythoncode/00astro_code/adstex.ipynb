{
 "cells": [
  {
   "cell_type": "markdown",
   "id": "b66058d8",
   "metadata": {},
   "source": [
    "[adstex](https://github.com/JohannesBuchner/adstex)"
   ]
  },
  {
   "cell_type": "code",
   "execution_count": null,
   "id": "15aad285",
   "metadata": {
    "ExecuteTime": {
     "end_time": "2022-11-13T07:21:53.102471Z",
     "start_time": "2022-11-13T07:21:52.945892Z"
    }
   },
   "outputs": [],
   "source": [
    "# If you use bash or bash-like shells --\n",
    "!export ADS_API_TOKEN=\"58FxzgBrFGr1P1vulJgmIIQDdlCjsf2Rw1PXNccH\""
   ]
  },
  {
   "cell_type": "code",
   "execution_count": null,
   "id": "f10e5fd0",
   "metadata": {},
   "outputs": [],
   "source": [
    "adstex input_file1.tex [input_file2.tex [...]] -o output_references.bib"
   ]
  },
  {
   "cell_type": "code",
   "execution_count": 1,
   "id": "d28f6d75",
   "metadata": {
    "ExecuteTime": {
     "end_time": "2022-11-13T07:40:23.191883Z",
     "start_time": "2022-11-13T07:40:23.169132Z"
    }
   },
   "outputs": [],
   "source": [
    "import os"
   ]
  },
  {
   "cell_type": "code",
   "execution_count": 2,
   "id": "140d8a0d",
   "metadata": {
    "ExecuteTime": {
     "end_time": "2022-11-13T07:40:24.074703Z",
     "start_time": "2022-11-13T07:40:24.048008Z"
    }
   },
   "outputs": [
    {
     "data": {
      "text/plain": [
       "'/Users/lyubing/blog/brettlv.github.io/pythoncode/astro_code'"
      ]
     },
     "execution_count": 2,
     "metadata": {},
     "output_type": "execute_result"
    }
   ],
   "source": [
    "pwd"
   ]
  },
  {
   "cell_type": "markdown",
   "id": "89773bab",
   "metadata": {
    "ExecuteTime": {
     "end_time": "2022-11-13T07:40:49.224406Z",
     "start_time": "2022-11-13T07:40:49.217630Z"
    }
   },
   "source": [
    "cmd_adstex='adstex /Users/lyubing/Downloads/OXCLAGN/OXCLAGN/main.tex -o /Users/lyubing/Downloads/output_references.bib'\n",
    "print(cmd_adstex)\n",
    "#os.system(cmd_adstex)"
   ]
  },
  {
   "cell_type": "code",
   "execution_count": null,
   "id": "9b37c952",
   "metadata": {},
   "outputs": [],
   "source": []
  },
  {
   "cell_type": "code",
   "execution_count": 5,
   "id": "2aa40aaa",
   "metadata": {
    "ExecuteTime": {
     "end_time": "2022-11-13T08:09:44.764483Z",
     "start_time": "2022-11-13T08:09:44.754218Z"
    }
   },
   "outputs": [
    {
     "name": "stdout",
     "output_type": "stream",
     "text": [
      "adstex /Users/lyubing/Downloads/OXCLAGN/OXCLAGN/main.tex -o /Users/lyubing/Downloads/OXCLAGN/OXCLAGN/output_references.bib\n"
     ]
    }
   ],
   "source": [
    "cmd_adstex='adstex /Users/lyubing/Downloads/OXCLAGN/OXCLAGN/main.tex -o /Users/lyubing/Downloads/OXCLAGN/OXCLAGN/output_references.bib'\n",
    "print(cmd_adstex)\n",
    "#os.system(cmd_adstex)"
   ]
  },
  {
   "cell_type": "code",
   "execution_count": null,
   "id": "4be420bf",
   "metadata": {},
   "outputs": [],
   "source": []
  }
 ],
 "metadata": {
  "kernelspec": {
   "display_name": "Python 3.10",
   "language": "python",
   "name": "py310"
  },
  "language_info": {
   "codemirror_mode": {
    "name": "ipython",
    "version": 3
   },
   "file_extension": ".py",
   "mimetype": "text/x-python",
   "name": "python",
   "nbconvert_exporter": "python",
   "pygments_lexer": "ipython3",
   "version": "3.9.12"
  },
  "latex_envs": {
   "LaTeX_envs_menu_present": true,
   "autoclose": false,
   "autocomplete": true,
   "bibliofile": "biblio.bib",
   "cite_by": "apalike",
   "current_citInitial": 1,
   "eqLabelWithNumbers": true,
   "eqNumInitial": 1,
   "hotkeys": {
    "equation": "Ctrl-E",
    "itemize": "Ctrl-I"
   },
   "labels_anchors": false,
   "latex_user_defs": false,
   "report_style_numbering": false,
   "user_envs_cfg": false
  },
  "toc": {
   "base_numbering": 1,
   "nav_menu": {},
   "number_sections": true,
   "sideBar": true,
   "skip_h1_title": false,
   "title_cell": "Table of Contents",
   "title_sidebar": "Contents",
   "toc_cell": false,
   "toc_position": {},
   "toc_section_display": true,
   "toc_window_display": false
  }
 },
 "nbformat": 4,
 "nbformat_minor": 5
}
