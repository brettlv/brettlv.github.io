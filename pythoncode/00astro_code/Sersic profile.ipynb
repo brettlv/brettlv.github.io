{
 "cells": [
  {
   "cell_type": "code",
   "execution_count": null,
   "id": "40a01901",
   "metadata": {},
   "outputs": [],
   "source": [
    "S´ersic profile"
   ]
  },
  {
   "cell_type": "code",
   "execution_count": null,
   "id": "149293ad",
   "metadata": {},
   "outputs": [],
   "source": []
  },
  {
   "cell_type": "markdown",
   "id": "e7504c06",
   "metadata": {},
   "source": [
    "The most commonly used brightness profile is the S\\'ersic profile \\citep{Sersic1963, Sersic1968}. This profile is defined as\n",
    "\\begin{equation}\n",
    "    \\Sigma (r) = \\Sigma_e \\exp{\\left[ -\\kappa_n \\left( \\left( \\frac{r}{r_e} \\right)^{\\frac{1}{n}} -1 \\right) \\right]},\n",
    "\\end{equation}\n",
    "where $\\Sigma_e$ is the pixel surface brightness at the half-light radius $r_e$ (defined to be the radius of the isophote containing half of the luminosity of the galaxy), $n$ a parameter called the S\\'ersic index, and $\\kappa_n$ a variable dependent on $n$ defined by\n",
    "\\begin{equation}\n",
    "    \\gamma (2n;\\kappa_n) = \\frac{1}{2} \\Gamma (2n),\n",
    "\\end{equation}\n",
    "where $\\Gamma$ and $\\gamma$ are the Gamma and lower incomplete Gamma functions, respectively. The S\\'ersic profile with $n=1$ is identical to the exponential disk profile used to model spiral galaxies \\citep{Freeman1970}. Similarly, the value $n=4$ gives the de Vaucouleurs profile historically used to model many elliptical galaxies \\citep{deVaucouleurs1948, deVaucouleurs1976, deVaucouleurs1991}. The total flux of the source can be calculated by integrating $\\Sigma(r)$ out to $r=\\infty$, resulting in the expression\n",
    "\\begin{equation} \\label{eq:flux}\n",
    "    F_\\mathrm{total} = 2 \\pi r_e^2 \\Sigma_e \\mathrm{e}^{\\kappa_n} n \\kappa_n^{-2n} \\Gamma(2n) q / R(C_0;m),\n",
    "\\end{equation}\n",
    "where $q$ is the axis ratio and $R(C_0;m)$ is a geometric correction factor. This correction factor is typically 1 and is related to optional Fourier modes and a diskiness/boxiness factor which are used only for complicated fits of nearby galaxies \\citep{Peng2010}."
   ]
  },
  {
   "cell_type": "code",
   "execution_count": null,
   "id": "e2231964",
   "metadata": {},
   "outputs": [],
   "source": []
  },
  {
   "cell_type": "code",
   "execution_count": null,
   "id": "477dbd60",
   "metadata": {},
   "outputs": [],
   "source": []
  }
 ],
 "metadata": {
  "kernelspec": {
   "display_name": "Python 3 (ipykernel)",
   "language": "python",
   "name": "python3"
  },
  "language_info": {
   "codemirror_mode": {
    "name": "ipython",
    "version": 3
   },
   "file_extension": ".py",
   "mimetype": "text/x-python",
   "name": "python",
   "nbconvert_exporter": "python",
   "pygments_lexer": "ipython3",
   "version": "3.9.12"
  },
  "latex_envs": {
   "LaTeX_envs_menu_present": true,
   "autoclose": false,
   "autocomplete": true,
   "bibliofile": "biblio.bib",
   "cite_by": "apalike",
   "current_citInitial": 1,
   "eqLabelWithNumbers": true,
   "eqNumInitial": 1,
   "hotkeys": {
    "equation": "Ctrl-E",
    "itemize": "Ctrl-I"
   },
   "labels_anchors": false,
   "latex_user_defs": false,
   "report_style_numbering": false,
   "user_envs_cfg": false
  },
  "toc": {
   "base_numbering": 1,
   "nav_menu": {},
   "number_sections": true,
   "sideBar": true,
   "skip_h1_title": false,
   "title_cell": "Table of Contents",
   "title_sidebar": "Contents",
   "toc_cell": false,
   "toc_position": {},
   "toc_section_display": true,
   "toc_window_display": false
  }
 },
 "nbformat": 4,
 "nbformat_minor": 5
}
