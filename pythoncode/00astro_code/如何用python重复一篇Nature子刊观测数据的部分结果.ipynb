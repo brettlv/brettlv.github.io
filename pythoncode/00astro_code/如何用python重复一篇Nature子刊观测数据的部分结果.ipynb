{
 "cells": [
  {
   "cell_type": "markdown",
   "metadata": {},
   "source": [
    "[如何用python重复一篇Nature子刊观测数据的部分结果](https://zhuanlan.zhihu.com/p/409488179?utm_source=wechat_session&utm_medium=social&utm_oi=557157888095735808&utm_campaign=shareopn&s_r=0如何用python重复一篇Nature子刊观测数据的部分结果)"
   ]
  },
  {
   "cell_type": "markdown",
   "metadata": {},
   "source": [
    "[Cosmological constraints from the Hubble diagram of quasars at high redshifts, G. Risaliti  and E. Lusso(2019)](https://www.nature.com/articles/s41550-018-0657-z)"
   ]
  },
  {
   "cell_type": "markdown",
   "metadata": {},
   "source": [
    "这是一篇关于类星体（Quasar）观测数据给出宇宙学模型检验的文章，发表在Nature Astronomy."
   ]
  },
  {
   "cell_type": "markdown",
   "metadata": {},
   "source": [
    "简单介绍这里的物理内容。\n",
    "\n",
    "参考arXiv:2103.16032, arXiv:2105.04992"
   ]
  },
  {
   "cell_type": "code",
   "execution_count": null,
   "metadata": {},
   "outputs": [],
   "source": []
  },
  {
   "cell_type": "code",
   "execution_count": 1,
   "metadata": {
    "ExecuteTime": {
     "end_time": "2021-09-12T05:58:54.410178Z",
     "start_time": "2021-09-12T05:58:52.211057Z"
    }
   },
   "outputs": [],
   "source": [
    "import matplotlib.pyplot as plt\n",
    "from scipy import integrate\n",
    "import math\n",
    "import sys, os\n",
    "#sys.path.insert(0,os.path.realpath(os.path.join(os.getcwd(),'..')))\n",
    "#from sympy import Symbol\n",
    "from sympy import *\n",
    "from scipy.integrate import simps\n",
    "from scipy.optimize import root\n",
    "from scipy.optimize import minimize"
   ]
  },
  {
   "cell_type": "code",
   "execution_count": null,
   "metadata": {},
   "outputs": [],
   "source": []
  },
  {
   "cell_type": "code",
   "execution_count": null,
   "metadata": {},
   "outputs": [],
   "source": [
    "file_name = 'quasar_data_RL.txt'\n",
    "data=np.loadtxt(file_name, skiprows=0, usecols = (0,3,4,5), dtype=np.float32)\n",
    "data\n",
    "\n",
    "zx=data[:,0]\n",
    "FUV=data[:,1]\n",
    "FX=data[:,2]\n",
    "eFX=data[:,3]\n",
    "\n",
    "\n",
    "ss=np.argsort(zx)\n",
    "FUVsort=FUV[ss]\n",
    "FXsort=FX[ss]\n",
    "eFXsort=eFX[ss]\n",
    "zxsort=zx[ss]\n",
    "\n",
    "from mpl_toolkits.mplot3d import Axes3D\n",
    "plt.rcParams['figure.figsize'] = (8.0, 8.0)\n",
    "fig = plt.figure('3D scatter plot')\n",
    "ax = fig.add_subplot(111, projection= '3d')  #3d图需要加projection='3d'\n",
    "cValue = ['r','y','g','b','r','y','g','b','r'] \n",
    "# 用不同颜色、形状的图标区分两组数据\n",
    "ax.scatter(zx,FUV,FX, c='r' , marker='.')\n",
    "ax.set_xlabel('z')\n",
    "ax.set_ylabel('$log_{10}F_{UV}$',fontsize='10')\n",
    "ax.set_zlabel('$log_{10}F_{X}$',fontsize='10')\n",
    "ax.set_title('Quasar',fontsize='10')\n",
    "plt.savefig('QuasarDataPlot1.pdf')\n",
    "plt.show()"
   ]
  },
  {
   "cell_type": "code",
   "execution_count": null,
   "metadata": {},
   "outputs": [],
   "source": []
  },
  {
   "cell_type": "code",
   "execution_count": null,
   "metadata": {},
   "outputs": [],
   "source": [
    "def CutbinbyZ(data0,ztable,z1,z2):\n",
    "    data1=data0[np.where((ztable>=z1)&(ztable<z2))]\n",
    "    return data1\n",
    "\n",
    "z1=0\n",
    "z2=1.4\n",
    "FUV14= CutbinbyZ(FUVsort,zxsort,z1,z2)\n",
    "FX14= CutbinbyZ(FXsort,zxsort,z1,z2)\n",
    "eFX14= CutbinbyZ(eFXsort,zxsort,z1,z2)\n",
    "zx14= CutbinbyZ(zxsort,zxsort,z1,z2)\n",
    "\n",
    "z1=1.4\n",
    "z2=10\n",
    "FUV0= CutbinbyZ(FUVsort,zxsort,z1,z2)\n",
    "FX0= CutbinbyZ(FXsort,zxsort,z1,z2)\n",
    "eFX0= CutbinbyZ(eFXsort,zxsort,z1,z2)\n",
    "zx0= CutbinbyZ(zxsort,zxsort,z1,z2)\n",
    "\n",
    "from mpl_toolkits.mplot3d import Axes3D\n",
    "plt.rcParams['figure.figsize'] = (8.0, 8.0)\n",
    "fig = plt.figure('3D scatter plot')\n",
    "ax = fig.add_subplot(111, projection= '3d')  #3d图需要加projection='3d'\n",
    "cValue = ['blue','y','g','b','r','y','g','b','r'] \n",
    "# 用不同颜色、形状的图标区分两组数据\n",
    "ax.scatter(zx0,FUV0,FX0, c='y' , marker='.')\n",
    "ax.scatter(zx14,FUV14,FX14, c='blue' , marker='.')\n",
    "ax.set_xlabel('z')\n",
    "ax.set_ylabel('$\\log_{10}F_{UV}$',fontsize='30')\n",
    "ax.set_zlabel('$\\log_{10}F_{X}$',fontsize='30')\n",
    "ax.set_title('Quasar',fontsize='30')\n",
    "plt.savefig('QuasarDataPlot2.pdf')\n",
    "plt.show()"
   ]
  },
  {
   "cell_type": "code",
   "execution_count": null,
   "metadata": {},
   "outputs": [],
   "source": []
  },
  {
   "cell_type": "code",
   "execution_count": null,
   "metadata": {},
   "outputs": [],
   "source": [
    "plt.rcParams['figure.figsize'] = (10.0, 8.0)\n",
    "plt.errorbar(FUV14,FX14,eFX14, fmt=\".r\", capsize=2, label= 'QSO(0<z<1.4)',ecolor='green')\n",
    "plt.errorbar(FUV0,FX0,eFX0, fmt=\".b\", capsize=2, label= 'QSO(z>1.4)',ecolor='blue')\n",
    "plt.legend(fontsize=14)\n",
    "plt.xlim()\n",
    "plt.ylim()\n",
    "plt.xlabel('$log_{10}F_{UV}$',fontsize='30')\n",
    "plt.ylabel('$log_{10}F_{X}$',fontsize='30')\n",
    "plt.title('Quasar',fontsize='30')\n",
    "plt.savefig('QuasarF.pdf')\n",
    "plt.show()"
   ]
  },
  {
   "cell_type": "code",
   "execution_count": null,
   "metadata": {},
   "outputs": [],
   "source": []
  },
  {
   "cell_type": "code",
   "execution_count": null,
   "metadata": {},
   "outputs": [],
   "source": [
    "H0=0.7000\n",
    "PI=np.pi\n",
    "def log_likelihoodQ(theta):\n",
    "    gamma,beta,delta,a2,a3 = theta\n",
    "    z=zxsort\n",
    "    x=FUVsort\n",
    "    y=FXsort\n",
    "    yerr=eFXsort\n",
    "    xx=np.log10(z+1)+a2*np.log10(z+1)**2+a3*np.log10(z+1)**3\n",
    "    yy=np.log(10)*3e5/(100.0*H0)*xx\n",
    "    logD=np.log10(yy)            \n",
    "    model=gamma*x+(2*gamma-2)*(logD+24.48935370050942)+1*(gamma-1)*np.log10(4*PI )+beta\n",
    "    sigamaUV=0\n",
    "    sigma2 = yerr ** 2+gamma**2*sigamaUV**2+delta**2\n",
    "    xi=(y - model) ** 2 / sigma2+np.log(2*PI*sigma2 )\n",
    "    ChiS=np.sum(xi)\n",
    "    return   -ChiS\n",
    "\n",
    "def log_priorQ(theta):\n",
    "    gamma,beta,delta,a2,a3= theta\n",
    "    if 0.0 < gamma < 2.0 and -30.0 <beta <30.0\\\n",
    "    and 0.0 < delta < 2.0 and -5 <a2 < 10.0\\\n",
    "    and -5 < a3 < 10.0:\n",
    "        return -0\n",
    "    return -np.inf\n",
    "\n",
    "def log_probabilityQ(theta):\n",
    "    lp = log_priorQ(theta)\n",
    "    if not np.isfinite(lp):\n",
    "        return -np.inf\n",
    "    return lp + log_likelihoodQ(theta)"
   ]
  },
  {
   "cell_type": "code",
   "execution_count": null,
   "metadata": {},
   "outputs": [],
   "source": []
  },
  {
   "cell_type": "code",
   "execution_count": null,
   "metadata": {},
   "outputs": [],
   "source": [
    "plt.rcParams['figure.figsize'] = (10.0, 8.0)\n",
    "file_name = 'lcparam_full_long_zhel.txt'\n",
    "data=np.loadtxt(file_name, skiprows=1, usecols = (1,4,5), dtype=np.float32)\n",
    "xS=data[:,0]\n",
    "yS=data[:,1]\n",
    "yerrS=data[:,2]\n",
    "plt.errorbar(xS, yS, yerrS, fmt=\".b\", capsize=0, label=\"SNIa\",ecolor='orange')\n",
    "plt.legend(fontsize=14)\n",
    "plt.xlim(0, 2.5)\n",
    "plt.xlabel(\"z\")\n",
    "plt.ylabel(\"Apparent Magnitude $m$\");\n",
    "plt.savefig('SNIa.pdf')\n",
    "plt.show()\n"
   ]
  },
  {
   "cell_type": "code",
   "execution_count": null,
   "metadata": {},
   "outputs": [],
   "source": [
    "def log_likelihoodS(theta):\n",
    "    Mb,a2,a3 = theta\n",
    "    z=xS\n",
    "    y=yS\n",
    "    yerr=yerrS\n",
    "    xx=np.log10(z+1)+a2*np.log10(z+1)**2+a3*np.log10(z+1)**3\n",
    "    yy=np.log(10)*3e5/(100.0*H0)*xx\n",
    "    modelS=25+5*np.log10(yy)+Mb\n",
    "    sigma2S = yerr ** 2\n",
    "    xiS=(y - modelS) ** 2 / sigma2S\n",
    "    ChiS=np.sum(xiS)\n",
    "    return   -ChiS\n",
    "def log_priorS(theta):\n",
    "    Mb,a2,a3= theta\n",
    "    if -30 < Mb < 0 and -5 <a2 < 10.0\\\n",
    "    and -5 < a3 < 10.0:\n",
    "        return -0\n",
    "    return -np.inf\n",
    "\n",
    "def log_probabilityS(theta):\n",
    "    lp = log_priorS(theta)\n",
    "    if not np.isfinite(lp):\n",
    "        return -np.inf\n",
    "    return lp + log_likelihoodS(theta)"
   ]
  },
  {
   "cell_type": "code",
   "execution_count": null,
   "metadata": {},
   "outputs": [],
   "source": [
    "#theta= [gamma,beta,delta,Mb,a2,a3]\n",
    "def log_likelihood(theta):\n",
    "    gamma,beta,delta,Mb,a2,a3=theta\n",
    "    thetaQ=gamma,beta,delta,a2,a3\n",
    "    thetaS=Mb,a2,a3 \n",
    "    lkh=log_likelihoodS(thetaS)+log_likelihoodQ(thetaQ)\n",
    "    return lkh\n",
    "\n",
    "def log_probability(theta):\n",
    "    gamma,beta,delta,Mb,a2,a3=theta\n",
    "    thetaQ=gamma,beta,delta,a2,a3\n",
    "    thetaS=Mb,a2,a3 \n",
    "    lkh=log_probabilityS(thetaS)+log_probabilityQ(thetaQ)\n",
    "    return lkh"
   ]
  },
  {
   "cell_type": "code",
   "execution_count": null,
   "metadata": {},
   "outputs": [],
   "source": []
  },
  {
   "cell_type": "code",
   "execution_count": null,
   "metadata": {},
   "outputs": [],
   "source": [
    "# Bounds on variables for Nelder-Mead, L-BFGS-B, TNC, SLSQP, Powell, and trust-constr methods. \n",
    "dim=6\n",
    "theta0=[0.6,7,0.23,-19, 3.0,3.0]\n",
    "s0=1\n",
    "s1=5\n",
    "s2=1\n",
    "s3=4\n",
    "s4=4\n",
    "s5=4\n",
    "# gamma, beta,delta,a2,a3= theta\n",
    "\n",
    "bounds=((theta0[0]-s0,theta0[0]+s0),(theta0[1]-s1,theta0[1]+s1),(theta0[2]-s2,theta0[2]+s2),\n",
    "        (theta0[3]-s3,theta0[3]+s3),(theta0[4]-s4,theta0[4]+s4),(theta0[5]-s5,theta0[5]+s5))\n",
    "np.random.seed(42)\n",
    "nll = lambda *args: -log_likelihood(*args)\n",
    "initial = np.array(theta0) + 0.001 * np.random.randn(dim)\n",
    "soln = minimize(nll, initial, args=(),bounds=bounds, method='Powell')\n",
    "sol= soln.x\n",
    "\n",
    "print('Best-fit result is\\n %s \\nThe minima of chi square is %s\\n'%(sol,log_likelihood(sol)))\n",
    "\n",
    "thetam=[ 0.63126393,   7.31041219,   0.23628922, -19.37243797,   3.1449026, 3.28581407]\n",
    "print('Median value from MCMC result is \\n %s \\\n",
    "      \\nThe chi square for median value is %s'%(thetam,log_likelihood(thetam)))"
   ]
  },
  {
   "cell_type": "code",
   "execution_count": null,
   "metadata": {},
   "outputs": [],
   "source": []
  },
  {
   "cell_type": "code",
   "execution_count": null,
   "metadata": {},
   "outputs": [],
   "source": [
    "sol=theta0\n",
    "import emcee\n",
    "pos = sol + 1e-6 * np.random.randn(32, dim)\n",
    "nwalkers, ndim = pos.shape\n",
    "sampler = emcee.EnsembleSampler(nwalkers, ndim, log_probability, args=())\n",
    "\n",
    "sampler.run_mcmc(pos,3000, progress=True);\n"
   ]
  },
  {
   "cell_type": "code",
   "execution_count": null,
   "metadata": {},
   "outputs": [],
   "source": [
    "samples = sampler.get_chain()\n",
    "flat_samples = sampler.get_chain(discard=1000, thin=10, flat=True)  \n",
    "\n",
    "from getdist import plots, MCSamples\n",
    "import getdist\n",
    "\n",
    "labels= ['\\gamma', r'\\beta', '\\delta','M_B','a_2','a_3']\n",
    "names=  [ '\\gamma', r'\\beta', '\\delta','M_B','a_2','a_3']\n",
    "samples0 = MCSamples(samples=flat_samples,names =names, labels = labels)\n",
    "g = plots.get_subplot_plotter()\n",
    "g.settings.alpha_filled_add=0.4\n",
    "g.settings.title_limit_fontsize = 14\n",
    "g.triangle_plot(samples0 , filled=True, legend_labels=['Quasars(QSO)\\narXiv:2004.09979\\narXiv:2103.07139', 'Simulation 2'], \n",
    "    legend_loc='upper right',title_limit=1)\n",
    "\n",
    "labels=labels\n",
    "plt.savefig('QSQ_SNe.pdf')"
   ]
  },
  {
   "cell_type": "code",
   "execution_count": null,
   "metadata": {},
   "outputs": [],
   "source": [
    "g = plots.get_subplot_plotter()\n",
    "g.settings.alpha_filled_add=0.4\n",
    "g.settings.title_limit_fontsize = 14\n",
    "samples0.updateSettings({'contours': [0.68, 0.95, 0.997,0.9999]})\n",
    "g.settings.num_plot_contours = 4\n",
    "\n",
    "g.triangle_plot([samples0], ['a_2', 'a_3'] , filled=True,\n",
    "                legend_labels=['$a_2$-$a_3$', 'Simulation 2'], \n",
    "                legend_loc='upper right',title_limit=1,\n",
    "                colors=['orange'],\n",
    "                line_args=[{'ls':'--', 'color':'blue'}])\n",
    "\n",
    "plt.savefig('a2a32.pdf')"
   ]
  }
 ],
 "metadata": {
  "kernelspec": {
   "display_name": "Python 3",
   "language": "python",
   "name": "python3"
  },
  "language_info": {
   "codemirror_mode": {
    "name": "ipython",
    "version": 3
   },
   "file_extension": ".py",
   "mimetype": "text/x-python",
   "name": "python",
   "nbconvert_exporter": "python",
   "pygments_lexer": "ipython3",
   "version": "3.8.5"
  },
  "latex_envs": {
   "LaTeX_envs_menu_present": true,
   "autocomplete": true,
   "bibliofile": "biblio.bib",
   "cite_by": "apalike",
   "current_citInitial": 1,
   "eqLabelWithNumbers": true,
   "eqNumInitial": 1,
   "hotkeys": {
    "equation": "Ctrl-E",
    "itemize": "Ctrl-I"
   },
   "labels_anchors": false,
   "latex_user_defs": false,
   "report_style_numbering": false,
   "user_envs_cfg": false
  },
  "toc": {
   "nav_menu": {},
   "number_sections": true,
   "sideBar": true,
   "skip_h1_title": false,
   "toc_cell": false,
   "toc_position": {},
   "toc_section_display": "block",
   "toc_window_display": false
  }
 },
 "nbformat": 4,
 "nbformat_minor": 2
}
