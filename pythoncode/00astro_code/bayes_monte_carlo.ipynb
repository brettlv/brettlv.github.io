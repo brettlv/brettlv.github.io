{
 "cells": [
  {
   "cell_type": "markdown",
   "metadata": {
    "collapsed": true,
    "deletable": true,
    "editable": true
   },
   "source": [
    "p(H|D)=p(H)p(D|H)/p(D)\n",
    "p(H)先验概率 \n",
    "p(H|D)后验概率 \n",
    "p(D|H)似然度 \n",
    "p(D)标准化常量"
   ]
  },
  {
   "cell_type": "code",
   "execution_count": null,
   "metadata": {
    "collapsed": false,
    "deletable": true,
    "editable": true
   },
   "outputs": [],
   "source": [
    "pwd"
   ]
  },
  {
   "cell_type": "code",
   "execution_count": null,
   "metadata": {
    "collapsed": true,
    "deletable": true,
    "editable": true
   },
   "outputs": [],
   "source": [
    "import numpy as np\n",
    "import matplotlib.pyplot as plt\n"
   ]
  },
  {
   "cell_type": "code",
   "execution_count": null,
   "metadata": {
    "collapsed": false,
    "deletable": true,
    "editable": true
   },
   "outputs": [],
   "source": [
    "a=np.loadtxt('/Users/brettlv/bayes/2200+420.txt')"
   ]
  },
  {
   "cell_type": "code",
   "execution_count": null,
   "metadata": {
    "collapsed": false,
    "deletable": true,
    "editable": true
   },
   "outputs": [],
   "source": [
    "a.shape"
   ]
  },
  {
   "cell_type": "code",
   "execution_count": null,
   "metadata": {
    "collapsed": false,
    "deletable": true,
    "editable": true
   },
   "outputs": [],
   "source": [
    "a0=a[:,0]\n",
    "a1=a[:,1]\n",
    "a2=a[:,2]"
   ]
  },
  {
   "cell_type": "code",
   "execution_count": null,
   "metadata": {
    "collapsed": false,
    "deletable": true,
    "editable": true
   },
   "outputs": [],
   "source": [
    "plt.errorbar(a0,a1,yerr=a2,fmt='o')\n",
    "plt.show()"
   ]
  },
  {
   "cell_type": "code",
   "execution_count": null,
   "metadata": {
    "collapsed": false,
    "deletable": true,
    "editable": true
   },
   "outputs": [],
   "source": [
    "import bmcmc\n",
    "import scipy.stats"
   ]
  },
  {
   "cell_type": "code",
   "execution_count": null,
   "metadata": {
    "collapsed": false,
    "deletable": true,
    "editable": true
   },
   "outputs": [],
   "source": [
    "import bmcmc# unsuitable for py3"
   ]
  },
  {
   "cell_type": "code",
   "execution_count": null,
   "metadata": {
    "collapsed": true,
    "deletable": true,
    "editable": true
   },
   "outputs": [],
   "source": [
    "# Generating some simple photon count data\n",
    "import numpy as np\n",
    "from scipy import stats\n",
    "np.random.seed(1)  # for repeatability\n",
    "\n",
    "F_true = 1000  # true flux, say number of photons measured in 1 second\n",
    "N = 50 # number of measurements\n",
    "F = stats.poisson(F_true).rvs(N)  # N measurements of the flux\n",
    "e = np.sqrt(F)  # errors on Poisson counts estimated via square root"
   ]
  },
  {
   "cell_type": "code",
   "execution_count": null,
   "metadata": {
    "collapsed": false,
    "deletable": true,
    "editable": true
   },
   "outputs": [],
   "source": [
    "%matplotlib inline\n",
    "import matplotlib.pyplot as plt\n",
    "\n",
    "fig, ax = plt.subplots()\n",
    "ax.errorbar(F, np.arange(N), xerr=e, fmt='ok', ecolor='gray', alpha=0.5)\n",
    "ax.vlines([F_true], 0, N, linewidth=5, alpha=0.2)\n",
    "ax.set_xlabel(\"Flux\")\n",
    "ax.set_ylabel(\"measurement number\")\n",
    "fig.show()"
   ]
  },
  {
   "cell_type": "code",
   "execution_count": null,
   "metadata": {
    "collapsed": false,
    "deletable": true,
    "editable": true
   },
   "outputs": [],
   "source": [
    "fig, ax = plt.subplots()\n",
    "ax.errorbar(np.arange(N),F,xerr=None,yerr=e, fmt='ok', ecolor='gray', alpha=0.5)\n",
    "ax.hlines([F_true], 0, N, linewidth=5, alpha=0.2)\n",
    "ax.set_ylabel(\"Flux\")\n",
    "ax.set_xlabel(\"measurement number\")\n",
    "fig.show()"
   ]
  },
  {
   "cell_type": "code",
   "execution_count": null,
   "metadata": {
    "collapsed": false,
    "deletable": true,
    "editable": true
   },
   "outputs": [],
   "source": [
    "w=1/e**2\n",
    "F_est=np.sum(w*F)/np.sum(w)\n",
    "F_mean=np.sum(F)/len(F)\n",
    "sigma_est=1/np.sqrt(np.sum(w))"
   ]
  },
  {
   "cell_type": "code",
   "execution_count": null,
   "metadata": {
    "collapsed": false,
    "deletable": true,
    "editable": true
   },
   "outputs": [],
   "source": [
    "F_est,F_mean,sigma_est"
   ]
  },
  {
   "cell_type": "code",
   "execution_count": null,
   "metadata": {
    "collapsed": false,
    "deletable": true,
    "editable": true
   },
   "outputs": [],
   "source": [
    "w = 1. / e ** 2\n",
    "print(\"\"\"\n",
    "      F_true = {0}\n",
    "      F_est  = {1:.1f} +/- {2:.1f} (based on {3} measurements)\n",
    "      F_mean = {4:.1f}\n",
    "      \"\"\".format(F_true, (w * F).sum() / w.sum(), w.sum() ** -0.5, N,F_mean))"
   ]
  },
  {
   "cell_type": "code",
   "execution_count": null,
   "metadata": {
    "collapsed": true,
    "deletable": true,
    "editable": true
   },
   "outputs": [],
   "source": [
    "def log_prior(theta):\n",
    "    return 1  # flat prior\n",
    "\n",
    "def log_likelihood(theta, F, e):\n",
    "    return -0.5 * np.sum(np.log(2 * np.pi * e ** 2)\n",
    "                         + (F - theta[0]) ** 2 / e ** 2)\n",
    "\n",
    "def log_posterior(theta, F, e):\n",
    "    return log_prior(theta) + log_likelihood(theta, F, e)"
   ]
  },
  {
   "cell_type": "code",
   "execution_count": null,
   "metadata": {
    "collapsed": false,
    "deletable": true,
    "editable": true
   },
   "outputs": [],
   "source": [
    "ndim = 1  # number of parameters in the model\n",
    "nwalkers = 50  # number of MCMC walkers\n",
    "nburn = 1000  # \"burn-in\" period to let chains stabilize\n",
    "nsteps = 2000  # number of MCMC steps to take\n",
    "\n",
    "# we'll start at random locations between 0 and 2000\n",
    "starting_guesses = 2000 * np.random.rand(nwalkers, ndim)\n",
    "\n",
    "import emcee\n",
    "sampler = emcee.EnsembleSampler(nwalkers, ndim, log_posterior, args=[F, e])\n",
    "sampler.run_mcmc(starting_guesses, nsteps)\n",
    "\n",
    "sample = sampler.chain  # shape = (nwalkers, nsteps, ndim)\n",
    "sample = sampler.chain[:, nburn:, :].ravel()  # discard burn-in points"
   ]
  },
  {
   "cell_type": "code",
   "execution_count": null,
   "metadata": {
    "collapsed": false,
    "deletable": true,
    "editable": true
   },
   "outputs": [],
   "source": [
    "# plot a histogram of the sample\n",
    "plt.hist(sample, bins=50, histtype=\"stepfilled\", alpha=0.3, normed=True)\n",
    "\n",
    "# plot a best-fit Gaussian\n",
    "F_fit = np.linspace(975, 1025)\n",
    "pdf = stats.norm(np.mean(sample), np.std(sample)).pdf(F_fit)\n",
    "\n",
    "plt.plot(F_fit, pdf, '-k')\n",
    "plt.xlabel(\"F\"); plt.ylabel(\"P(F)\")\n",
    "plt.show()"
   ]
  },
  {
   "cell_type": "code",
   "execution_count": null,
   "metadata": {
    "collapsed": false,
    "deletable": true,
    "editable": true
   },
   "outputs": [],
   "source": [
    "F_fit.shape,pdf.shape"
   ]
  },
  {
   "cell_type": "code",
   "execution_count": null,
   "metadata": {
    "collapsed": false,
    "deletable": true,
    "editable": true
   },
   "outputs": [],
   "source": [
    "print(\"\"\"\n",
    "      F_true = {0}\n",
    "      F_est  = {1:.1f} +/- {2:.1f} (based on {3} measurements)\n",
    "      \"\"\".format(F_true, np.mean(sample), np.std(sample), N))"
   ]
  },
  {
   "cell_type": "code",
   "execution_count": null,
   "metadata": {
    "collapsed": false,
    "deletable": true,
    "editable": true
   },
   "outputs": [],
   "source": [
    "#two dimensional data\n",
    "#theta=[mu,sigma]\n",
    "\n",
    "np.random.seed(42)  # for reproducibility\n",
    "N = 100  # we'll use more samples for the more complicated model\n",
    "mu_true, sigma_true = 1000, 15  # stochastic flux model\n",
    "\n",
    "F_true = stats.norm(mu_true, sigma_true).rvs(N)  # (unknown) true flux\n",
    "F = stats.poisson(F_true).rvs()  # observed flux: true flux plus Poisson errors.\n",
    "e = np.sqrt(F)  # root-N error, as above\n",
    "\n",
    "\n",
    "\n",
    "def log_likelihood(theta, F, e):\n",
    "    return -0.5 * np.sum(np.log(2 * np.pi * (theta[1] ** 2 + e ** 2))\n",
    "                         + (F - theta[0]) ** 2 / (theta[1] ** 2 + e ** 2))\n",
    "\n",
    "# maximize likelihood <--> minimize negative likelihood\n",
    "def neg_log_likelihood(theta, F, e):\n",
    "    return -log_likelihood(theta, F, e)\n",
    "\n",
    "from scipy import optimize\n",
    "theta_guess = [900, 5]\n",
    "theta_est = optimize.fmin(neg_log_likelihood, theta_guess, args=(F, e))\n",
    "print(\"\"\"\n",
    "      Maximum likelihood estimate for {0} data points:\n",
    "          mu={theta[0]:.0f}, sigma={theta[1]:.0f}\n",
    "      \"\"\".format(N, theta=theta_est))"
   ]
  },
  {
   "cell_type": "code",
   "execution_count": null,
   "metadata": {
    "collapsed": false,
    "deletable": true,
    "editable": true
   },
   "outputs": [],
   "source": [
    "from astroML.resample import bootstrap\n",
    "\n",
    "def fit_samples(sample):\n",
    "    # sample is an array of size [n_bootstraps, n_samples]\n",
    "    # compute the maximum likelihood for each bootstrap.\n",
    "    return np.array([optimize.fmin(neg_log_likelihood, theta_guess,\n",
    "                                   args=(F, np.sqrt(F)), disp=0)\n",
    "                     for F in sample])\n",
    "\n",
    "samples = bootstrap(F, 1000, fit_samples)  # 1000 bootstrap resamplings"
   ]
  },
  {
   "cell_type": "code",
   "execution_count": null,
   "metadata": {
    "collapsed": false,
    "deletable": true,
    "editable": true
   },
   "outputs": [],
   "source": [
    "samples.shape"
   ]
  },
  {
   "cell_type": "code",
   "execution_count": null,
   "metadata": {
    "collapsed": false,
    "deletable": true,
    "editable": true
   },
   "outputs": [],
   "source": [
    "mu_samp = samples[:, 0]\n",
    "sig_samp = abs(samples[:, 1])\n",
    "\n",
    "print(\" mu    = {0:.1f} +/- {1:.1f}\".format(mu_samp.mean(), mu_samp.std()))\n",
    "print(\" sigma = {0:.1f} +/- {1:.1f}\".format(sig_samp.mean(), sig_samp.std()))"
   ]
  },
  {
   "cell_type": "code",
   "execution_count": null,
   "metadata": {
    "collapsed": true,
    "deletable": true,
    "editable": true
   },
   "outputs": [],
   "source": [
    "def log_prior(theta):\n",
    "    # sigma needs to be positive.\n",
    "    if theta[1] <= 0:\n",
    "        return -np.inf\n",
    "    else:\n",
    "        return 0\n",
    "\n",
    "def log_posterior(theta, F, e):\n",
    "    return log_prior(theta) + log_likelihood(theta, F, e)\n",
    "\n",
    "# same setup as above:\n",
    "ndim, nwalkers = 2, 50\n",
    "nsteps, nburn = 2000, 1000\n",
    "\n",
    "starting_guesses = np.random.rand(nwalkers, ndim)\n",
    "starting_guesses[:, 0] *= 2000  # start mu between 0 and 2000\n",
    "starting_guesses[:, 1] *= 20    # start sigma between 0 and 20\n",
    "\n",
    "sampler = emcee.EnsembleSampler(nwalkers, ndim, log_posterior, args=[F, e])\n",
    "sampler.run_mcmc(starting_guesses, nsteps)\n",
    "\n",
    "sample = sampler.chain  # shape = (nwalkers, nsteps, ndim)\n",
    "sample = sampler.chain[:, nburn:, :].reshape(-1, 2)"
   ]
  },
  {
   "cell_type": "code",
   "execution_count": null,
   "metadata": {
    "collapsed": false,
    "deletable": true,
    "editable": true
   },
   "outputs": [],
   "source": [
    "sample.shape"
   ]
  },
  {
   "cell_type": "code",
   "execution_count": null,
   "metadata": {
    "collapsed": false,
    "deletable": true,
    "editable": true
   },
   "outputs": [],
   "source": [
    "from astroML.plotting import plot_mcmc\n",
    "fig = plt.figure()\n",
    "ax = plot_mcmc(sample.T, fig=fig, labels=[r'$\\mu$', r'$\\sigma$'], colors='k')\n",
    "ax[0].plot(sample[:, 0], sample[:, 1], ',k', alpha=0.1)\n",
    "ax[0].plot([mu_true], [sigma_true], 'o', color='red', ms=10)"
   ]
  },
  {
   "cell_type": "code",
   "execution_count": null,
   "metadata": {
    "collapsed": false,
    "deletable": true,
    "editable": true
   },
   "outputs": [],
   "source": [
    "sample[:,0].mean(),sample[:,1].mean()"
   ]
  },
  {
   "cell_type": "code",
   "execution_count": null,
   "metadata": {
    "collapsed": true,
    "deletable": true,
    "editable": true
   },
   "outputs": [],
   "source": []
  },
  {
   "cell_type": "code",
   "execution_count": null,
   "metadata": {
    "collapsed": true,
    "deletable": true,
    "editable": true
   },
   "outputs": [],
   "source": []
  },
  {
   "cell_type": "code",
   "execution_count": null,
   "metadata": {
    "collapsed": true,
    "deletable": true,
    "editable": true
   },
   "outputs": [],
   "source": []
  },
  {
   "cell_type": "code",
   "execution_count": null,
   "metadata": {
    "collapsed": false,
    "deletable": true,
    "editable": true
   },
   "outputs": [],
   "source": [
    "#part II\n",
    "p_hat = 5. / 8.\n",
    "freq_prob = (1 - p_hat) ** 3\n",
    "print(\"Naïve Frequentist Probability of Bob Winning: {0:.2f}\".format(freq_prob))\n",
    "\n"
   ]
  },
  {
   "cell_type": "code",
   "execution_count": null,
   "metadata": {
    "collapsed": false,
    "deletable": true,
    "editable": true
   },
   "outputs": [],
   "source": [
    "from scipy.special import beta\n",
    "bayes_prob = beta(6 + 1, 5 + 1) / beta(3 + 1, 5 + 1)\n",
    "print(\"P(B|D) = {0:.2f}\".format(bayes_prob))\n",
    "\n"
   ]
  },
  {
   "cell_type": "code",
   "execution_count": null,
   "metadata": {
    "collapsed": false,
    "deletable": true,
    "editable": true
   },
   "outputs": [],
   "source": [
    "import numpy as np\n",
    "np.random.seed(0)\n",
    "# play 100000 games with randomly-drawn p, between 0 and 1\n",
    "p = np.random.random(100000)\n",
    "\n",
    "# each game needs at most 11 rolls for one player to reach 6 wins\n",
    "rolls = np.random.random((11, len(p)))\n",
    "\n",
    "# count the cumulative wins for Alice and Bob at each roll\n",
    "Alice_count = np.cumsum(rolls < p, 0)\n",
    "Bob_count = np.cumsum(rolls >= p, 0)\n",
    "print(\"Alice_count.shape:\",Alice_count.shape)\n",
    "print(\"Bob_count:\",Bob_count.shape)\n",
    "\n",
    "# sanity check: total number of wins should equal number of rolls\n",
    "total_wins = Alice_count + Bob_count\n",
    "assert np.all(total_wins.T == np.arange(1, 12))\n",
    "print(\"(Sanity check passed)\")\n",
    "\n",
    "# determine number of games which meet our criterion of (A wins, B wins)=(5, 3)\n",
    "# this means Bob's win count at eight rolls must equal 3\n",
    "good_games = Bob_count[7] == 3\n",
    "print(Bob_count[7].shape)\n",
    "print(\"Number of suitable games: {0}\".format(good_games.sum()))\n",
    "\n",
    "# truncate our results to consider only these games\n",
    "Alice_count = Alice_count[:, good_games]\n",
    "Bob_count = Bob_count[:, good_games]\n",
    "\n",
    "print(\"Alice_count.shape:\",Alice_count.shape)\n",
    "print(\"Bob_count:\",Bob_count.shape)\n",
    "\n",
    "# determine which of these games Bob won.\n",
    "# to win, he must reach six wins after 11 rolls.\n",
    "bob_won = np.sum(Bob_count[10] == 6)\n",
    "print(\"Number of these games Bob won: {0}\".format(bob_won.sum()))\n",
    "\n",
    "# compute the probability\n",
    "mc_prob = bob_won.sum() * 1. / good_games.sum()\n",
    "print(\"Monte Carlo Probability of Bob winning: {0:.2f}\".format(mc_prob))\n",
    "print(\"MC Odds against Bob winning: {0:.0f} to 1\".format((1. - mc_prob) / mc_prob))\n",
    "\n",
    "\n"
   ]
  },
  {
   "cell_type": "code",
   "execution_count": null,
   "metadata": {
    "collapsed": false,
    "deletable": true,
    "editable": true
   },
   "outputs": [],
   "source": []
  },
  {
   "cell_type": "code",
   "execution_count": null,
   "metadata": {
    "collapsed": false,
    "deletable": true,
    "editable": true
   },
   "outputs": [],
   "source": [
    "import numpy as np\n",
    "\n",
    "np.random.seed(0)\n",
    "# play 100000 games with randomly-drawn p, between 0 and 1\n",
    "p = np.random.random(100000)\n",
    "# each game needs at most 11 rolls for one player to reach 6 wins\n",
    "rolls = np.random.random((11, len(p)))\n",
    "count=np.zeros((11,100000,2),dtype=np.int)\n",
    "for i in np.arange(11):\n",
    "    for j in np.arange(len(p)):\n",
    "        if rolls[i,j]>p[j]:\n",
    "            count[i,j,1]=count[i-np.sign(i),j,1]+1\n",
    "            count[i,j,0]=count[i-np.sign(i),j,0]\n",
    "        else:\n",
    "            count[i,j,1]=count[i-np.sign(i),j,1]\n",
    "            count[i,j,0]=count[i-np.sign(i),j,0]+1\n",
    "            \n",
    "            \n",
    "            "
   ]
  },
  {
   "cell_type": "code",
   "execution_count": null,
   "metadata": {
    "collapsed": false,
    "deletable": true,
    "editable": true
   },
   "outputs": [],
   "source": [
    "def bobwin(count):\n",
    "    sumofgood=0\n",
    "    sumofbobwin=0\n",
    "    for j in np.arange(len(p)):\n",
    "        if count[7,j,1]==3:\n",
    "            sumofgood+=1\n",
    "            if count[10,j,1]==6:\n",
    "                sumofbobwin+=1\n",
    "    winrate=sumofbobwin/sumofgood            \n",
    "    return sumofbobwin,sumofgood,winrate  \n",
    "bobwin(count)\n",
    "\n"
   ]
  },
  {
   "cell_type": "code",
   "execution_count": null,
   "metadata": {
    "collapsed": false,
    "deletable": true,
    "editable": true
   },
   "outputs": [],
   "source": []
  },
  {
   "cell_type": "code",
   "execution_count": 2,
   "metadata": {
    "collapsed": false,
    "deletable": true,
    "editable": true
   },
   "outputs": [
    {
     "data": {
      "image/png": "[encoded data removed]",
      "text/plain": [
       "<matplotlib.figure.Figure at 0x10565c320>"
      ]
     },
     "metadata": {},
     "output_type": "display_data"
    }
   ],
   "source": [
    "import numpy as np\n",
    "x = np.array([ 0,  3,  9, 14, 15, 19, 20, 21, 30, 35,\n",
    "              40, 41, 42, 43, 54, 56, 67, 69, 72, 88])\n",
    "y = np.array([33, 68, 34, 34, 37, 71, 37, 44, 48, 49,\n",
    "              53, 49, 50, 48, 56, 60, 61, 63, 44, 71])\n",
    "e = np.array([ 3.6, 3.9, 2.6, 3.4, 3.8, 3.8, 2.2, 2.1, 2.3, 3.8,\n",
    "               2.2, 2.8, 3.9, 3.1, 3.4, 2.6, 3.4, 3.7, 2.0, 3.5])\n",
    "\n",
    "\n",
    "%matplotlib inline\n",
    "import matplotlib.pyplot as plt\n",
    "plt.errorbar(x, y,e, fmt='.k', ecolor='gray');\n",
    "\n",
    "\n",
    "\n",
    "from scipy import optimize\n",
    "\n",
    "def squared_loss(theta, x=x, y=y, e=e):\n",
    "    dy = y - theta[0] - theta[1] * x\n",
    "    return np.sum(0.5 * (dy / e) ** 2)\n",
    "\n",
    "theta1 = optimize.fmin(squared_loss, [0, 0], disp=False)\n",
    "\n",
    "xfit = np.linspace(0, 100)\n",
    "plt.errorbar(x, y, e, fmt='.k', ecolor='gray')\n",
    "plt.plot(xfit, theta1[0] + theta1[1] * xfit, '-k')\n",
    "plt.title('Maximum Likelihood fit: Squared Loss') \n",
    "\n",
    "theta1\n",
    "\n",
    "t = np.linspace(-20, 20)\n",
    "\n",
    "def huber_loss(t, c=3):\n",
    "    return ((abs(t) < c) * 0.5 * t ** 2\n",
    "            + (abs(t) >= c) * -c * (0.5 * c - abs(t)))\n",
    "\n",
    "plt.plot(t, 0.5 * t ** 2, label=\"squared loss\", lw=2)\n",
    "for c in (10, 5, 3):\n",
    "    plt.plot(t, huber_loss(t, c), label=\"Huber loss, c={0}\".format(c), lw=2)\n",
    "plt.ylabel('loss')\n",
    "plt.xlabel('standard deviations')\n",
    "plt.legend(loc='best', frameon=False);\n",
    "\n",
    "\n",
    "def total_huber_loss(theta, x=x, y=y, e=e, c=3):\n",
    "    return huber_loss((y - theta[0] - theta[1] * x) / e, c).sum()\n",
    "\n",
    "theta2 = optimize.fmin(total_huber_loss, [0, 0], disp=False)\n",
    "\n",
    "plt.errorbar(x, y, e, fmt='.k', ecolor='gray')\n",
    "plt.plot(xfit, theta1[0] + theta1[1] * xfit, color='lightgray')\n",
    "plt.plot(xfit, theta2[0] + theta2[1] * xfit, color='black')\n",
    "plt.title('Maximum Likelihood fit: Huber loss');\n",
    "\n",
    "test=np.arange(10)\n",
    "print(test)\n",
    "\n",
    "test[2:]\n",
    "\n",
    "len(x)\n",
    "\n",
    "# theta will be an array of length 2 + N, where N is the number of points\n",
    "# theta[0] is the intercept, theta[1] is the slope,\n",
    "# and theta[2 + i] is the weight g_i\n",
    "\n",
    "def log_prior(theta):\n",
    "    #g_i needs to be between 0 and 1\n",
    "    if (all(theta[2:] > 0) and all(theta[2:] < 1)):\n",
    "        return 0\n",
    "    else:\n",
    "        return -np.inf  # recall log(0) = -inf\n",
    "\n",
    "def log_likelihood(theta, x, y, e, sigma_B):\n",
    "    dy = y - theta[0] - theta[1] * x\n",
    "    g = np.clip(theta[2:], 0, 1)  # g<0 or g>1 leads to NaNs in logarithm\n",
    "    logL1 = np.log(g) - 0.5 * np.log(2 * np.pi * e ** 2) - 0.5 * (dy / e) ** 2\n",
    "    logL2 = np.log(1 - g) - 0.5 * np.log(2 * np.pi * sigma_B ** 2) - 0.5 * (dy / sigma_B) ** 2\n",
    "    return np.sum(np.logaddexp(logL1, logL2))\n",
    "\n",
    "def log_posterior(theta, x, y, e, sigma_B):\n",
    "    return log_prior(theta) + log_likelihood(theta, x, y, e, sigma_B)\n",
    "\n",
    "\n",
    "\n",
    "# Note that this step will take a few minutes to run!\n",
    "\n",
    "ndim = 2 + len(x)  # number of parameters in the model\n",
    "nwalkers = 50  # number of MCMC walkers\n",
    "nburn = 10000  # \"burn-in\" period to let chains stabilize\n",
    "nsteps = 15000  # number of MCMC steps to take\n",
    "\n",
    "# set theta near the maximum likelihood, with \n",
    "np.random.seed(0)\n",
    "starting_guesses = np.zeros((nwalkers, ndim))\n",
    "starting_guesses[:, :2] = np.random.normal(theta1, 1, (nwalkers, 2))\n",
    "starting_guesses[:, 2:] = np.random.normal(0.5, 0.1, (nwalkers, ndim - 2))\n",
    "\n",
    "import emcee\n",
    "sampler = emcee.EnsembleSampler(nwalkers, ndim, log_posterior, args=[x, y, e, 50])\n",
    "sampler.run_mcmc(starting_guesses, nsteps)\n",
    "\n",
    "sample = sampler.chain  # shape = (nwalkers, nsteps, ndim)\n",
    "print(sample.shape)\n",
    "sample = sampler.chain[:, nburn:, :].reshape(-1, ndim)\n",
    "print(sample.shape)\n",
    "\n",
    "\n",
    "\n",
    "plt.plot(sample[:, 0], sample[:, 1], ',k', alpha=0.1)\n",
    "plt.xlabel('intercept')\n",
    "plt.ylabel('slope');\n",
    "\n",
    "\n",
    "\n",
    "\n",
    "plt.plot(sample[:, 2], sample[:, 3], ',k', alpha=0.1)\n",
    "plt.xlabel('$g_1$')\n",
    "plt.ylabel('$g_2$')\n",
    "\n",
    "print(\"g1 mean: {0:.2f}\".format(sample[:, 2].mean()))\n",
    "print(\"g2 mean: {0:.2f}\".format(sample[:, 3].mean()))\n",
    "print(\"g3 mean: {0:.2f}\".format(sample[:, 4].mean()))\n",
    "print(\"g4 mean: {0:.2f}\".format(sample[:, 5].mean()))\n",
    "\n",
    "\n",
    "\n",
    "\n",
    "\n",
    "\n",
    "\n",
    "\n",
    "\n",
    "\n",
    "theta3 = np.mean(sample[:, :2], 0)\n",
    "g = np.mean(sample[:, 2:], 0)\n",
    "outliers = (g < 0.5)\n",
    "xfit = np.linspace(0, 100)\n",
    "plt.errorbar(x, y, e, fmt='.k', ecolor='gray')\n",
    "plt.plot(xfit, theta1[0] + theta1[1] * xfit, color='lightgray')\n",
    "plt.plot(xfit, theta2[0] + theta2[1] * xfit, color='lightgray')\n",
    "plt.plot(xfit, theta3[0] + theta3[1] * xfit, color='black')\n",
    "plt.plot(x[outliers], y[outliers], 'ro', ms=20, mfc='none', mec='red')\n",
    "plt.title('Maximum Likelihood fit: Bayesian Marginalization');\n",
    "\n",
    "\n",
    "\n",
    "import corner\n",
    "#intercept=sample[:,0]\n",
    "#slope=sample[:,1]\n",
    "fig = corner.corner(sample[:,:2], labels=[\"$Intercept$\", \"$Slope$\",],\n",
    "                      truths=[31.2, 0.48])\n",
    "fig.show()"
   ]
  },
  {
   "cell_type": "code",
   "execution_count": null,
   "metadata": {
    "collapsed": false,
    "deletable": true,
    "editable": true
   },
   "outputs": [],
   "source": [
    "theta3"
   ]
  },
  {
   "cell_type": "code",
   "execution_count": null,
   "metadata": {
    "collapsed": false,
    "deletable": true,
    "editable": true
   },
   "outputs": [],
   "source": [
    "theta30=sample[:,0]\n",
    "theta31=sample[:,1]\n",
    "#theta30.shape\n",
    "plt.hist2d(theta30,theta31,bins=(500,500),range=((25,40),(0.3,0.6)))"
   ]
  },
  {
   "cell_type": "code",
   "execution_count": null,
   "metadata": {
    "collapsed": false,
    "deletable": true,
    "editable": true
   },
   "outputs": [],
   "source": [
    "plt.hist(theta30,bins=100)"
   ]
  },
  {
   "cell_type": "code",
   "execution_count": null,
   "metadata": {
    "collapsed": false,
    "deletable": true,
    "editable": true
   },
   "outputs": [],
   "source": [
    "plt.hist(theta31,bins=100)"
   ]
  },
  {
   "cell_type": "code",
   "execution_count": null,
   "metadata": {
    "collapsed": true,
    "deletable": true,
    "editable": true
   },
   "outputs": [],
   "source": []
  },
  {
   "cell_type": "code",
   "execution_count": null,
   "metadata": {
    "collapsed": true,
    "deletable": true,
    "editable": true
   },
   "outputs": [],
   "source": []
  },
  {
   "cell_type": "code",
   "execution_count": null,
   "metadata": {
    "collapsed": true,
    "deletable": true,
    "editable": true
   },
   "outputs": [],
   "source": []
  },
  {
   "cell_type": "code",
   "execution_count": null,
   "metadata": {
    "collapsed": true,
    "deletable": true,
    "editable": true
   },
   "outputs": [],
   "source": []
  },
  {
   "cell_type": "code",
   "execution_count": null,
   "metadata": {
    "collapsed": false,
    "deletable": true,
    "editable": true
   },
   "outputs": [],
   "source": [
    "%matplotlib inline\n",
    "import numpy as np\n",
    "import matplotlib.pyplot as plt\n",
    "\n",
    "def p(x, theta):\n",
    "    return (x > theta) * np.exp(theta - x)\n",
    "\n",
    "x = np.linspace(5, 18, 1000)\n",
    "plt.fill(x, p(x, 10), alpha=0.3)\n",
    "plt.ylim(0, 1.2)\n",
    "plt.xlabel('x')\n",
    "plt.ylabel('p(x)');\n"
   ]
  },
  {
   "cell_type": "code",
   "execution_count": null,
   "metadata": {
    "collapsed": true,
    "deletable": true,
    "editable": true
   },
   "outputs": [],
   "source": [
    "\n",
    "\n"
   ]
  },
  {
   "cell_type": "code",
   "execution_count": null,
   "metadata": {
    "collapsed": true,
    "deletable": true,
    "editable": true
   },
   "outputs": [],
   "source": [
    "%matplotlib inline\n",
    "import matplotlib.pyplot as plt\n",
    "import numpy as np\n",
    "\n",
    "np.random.seed(42)\n",
    "theta_true = (25, 0.5)\n",
    "xdata = 100 * np.random.random(20)\n",
    "ydata = theta_true[0] + theta_true[1] * xdata\n",
    "\n",
    "# add scatter to points\n",
    "xdata = np.random.normal(xdata, 10)\n",
    "ydata = np.random.normal(ydata, 10)"
   ]
  },
  {
   "cell_type": "code",
   "execution_count": null,
   "metadata": {
    "collapsed": false,
    "deletable": true,
    "editable": true
   },
   "outputs": [],
   "source": [
    "plt.plot(xdata, ydata, 'ok')\n",
    "plt.xlabel('x')\n",
    "plt.ylabel('y');"
   ]
  },
  {
   "cell_type": "code",
   "execution_count": null,
   "metadata": {
    "collapsed": false,
    "deletable": true,
    "editable": true
   },
   "outputs": [],
   "source": [
    "fig, ax = plt.subplots(subplot_kw=dict(aspect='equal'))\n",
    "x = np.linspace(-1, 1)\n",
    "\n",
    "for slope in np.arange(0, 10, 0.1):\n",
    "    plt.plot(x, slope * x, '-k')\n",
    "\n",
    "ax.axis([-1, 1, -1, 1], aspect='equal');"
   ]
  },
  {
   "cell_type": "code",
   "execution_count": null,
   "metadata": {
    "collapsed": true,
    "deletable": true,
    "editable": true
   },
   "outputs": [],
   "source": [
    "# Create some convenience routines for plotting\n",
    "\n",
    "def compute_sigma_level(trace1, trace2, nbins=20):\n",
    "    \"\"\"From a set of traces, bin by number of standard deviations\"\"\"\n",
    "    L, xbins, ybins = np.histogram2d(trace1, trace2, nbins)\n",
    "    L[L == 0] = 1E-16\n",
    "    logL = np.log(L)\n",
    "\n",
    "    shape = L.shape\n",
    "    L = L.ravel()\n",
    "\n",
    "    # obtain the indices to sort and unsort the flattened array\n",
    "    i_sort = np.argsort(L)[::-1]\n",
    "    i_unsort = np.argsort(i_sort)\n",
    "\n",
    "    L_cumsum = L[i_sort].cumsum()\n",
    "    L_cumsum /= L_cumsum[-1]\n",
    "    \n",
    "    xbins = 0.5 * (xbins[1:] + xbins[:-1])\n",
    "    ybins = 0.5 * (ybins[1:] + ybins[:-1])\n",
    "\n",
    "    return xbins, ybins, L_cumsum[i_unsort].reshape(shape)\n",
    "\n",
    "\n",
    "def plot_MCMC_trace(ax, xdata, ydata, trace, scatter=False, **kwargs):\n",
    "    \"\"\"Plot traces and contours\"\"\"\n",
    "    xbins, ybins, sigma = compute_sigma_level(trace[0], trace[1])\n",
    "    ax.contour(xbins, ybins, sigma.T, levels=[0.683, 0.955], **kwargs)\n",
    "    if scatter:\n",
    "        ax.plot(trace[0], trace[1], ',k', alpha=0.1)\n",
    "    ax.set_xlabel(r'$\\alpha$')\n",
    "    ax.set_ylabel(r'$\\beta$')\n",
    "    \n",
    "    \n",
    "def plot_MCMC_model(ax, xdata, ydata, trace):\n",
    "    \"\"\"Plot the linear model and 2sigma contours\"\"\"\n",
    "    ax.plot(xdata, ydata, 'ok')\n",
    "\n",
    "    alpha, beta = trace[:2]\n",
    "    xfit = np.linspace(-20, 120, 10)\n",
    "    yfit = alpha[:, None] + beta[:, None] * xfit\n",
    "    mu = yfit.mean(0)\n",
    "    sig = 2 * yfit.std(0)\n",
    "\n",
    "    ax.plot(xfit, mu, '-k')\n",
    "    ax.fill_between(xfit, mu - sig, mu + sig, color='lightgray')\n",
    "\n",
    "    ax.set_xlabel('x')\n",
    "    ax.set_ylabel('y')\n",
    "\n",
    "\n",
    "def plot_MCMC_results(xdata, ydata, trace, colors='k'):\n",
    "    \"\"\"Plot both the trace and the model together\"\"\"\n",
    "    fig, ax = plt.subplots(1, 2, figsize=(10, 4))\n",
    "    plot_MCMC_trace(ax[0], xdata, ydata, trace, True, colors=colors)\n",
    "    plot_MCMC_model(ax[1], xdata, ydata, trace)"
   ]
  },
  {
   "cell_type": "code",
   "execution_count": null,
   "metadata": {
    "collapsed": false,
    "deletable": true,
    "editable": true
   },
   "outputs": [],
   "source": [
    "import emcee\n",
    "print(emcee.__version__)"
   ]
  },
  {
   "cell_type": "code",
   "execution_count": null,
   "metadata": {
    "collapsed": true,
    "deletable": true,
    "editable": true
   },
   "outputs": [],
   "source": [
    "# Define our posterior using Python functions\n",
    "# for clarity, I've separated-out the prior and likelihood\n",
    "# but this is not necessary. Note that emcee requires log-posterior\n",
    "\n",
    "def log_prior(theta):\n",
    "    alpha, beta, sigma = theta\n",
    "    if sigma < 0:\n",
    "        return -np.inf  # log(0)\n",
    "    else:\n",
    "        return -1.5 * np.log(1 + beta ** 2) - np.log(sigma)\n",
    "\n",
    "def log_likelihood(theta, x, y):\n",
    "    alpha, beta, sigma = theta\n",
    "    y_model = alpha + beta * x\n",
    "    return -0.5 * np.sum(np.log(2 * np.pi * sigma ** 2) + (y - y_model) ** 2 / sigma ** 2)\n",
    "\n",
    "def log_posterior(theta, x, y):\n",
    "    return log_prior(theta) + log_likelihood(theta, x, y)\n",
    "\n"
   ]
  },
  {
   "cell_type": "code",
   "execution_count": null,
   "metadata": {
    "collapsed": true,
    "deletable": true,
    "editable": true
   },
   "outputs": [],
   "source": [
    "\n",
    "# Here we'll set up the computation. emcee combines multiple \"walkers\",\n",
    "# each of which is its own MCMC chain. The number of trace results will\n",
    "# be nwalkers * nsteps\n",
    "\n",
    "ndim = 3  # number of parameters in the model\n",
    "nwalkers = 50  # number of MCMC walkers\n",
    "nburn = 1000  # \"burn-in\" period to let chains stabilize\n",
    "nsteps = 2000  # number of MCMC steps to take\n",
    "\n",
    "# set theta near the maximum likelihood, with \n",
    "np.random.seed(0)\n",
    "starting_guesses = np.random.random((nwalkers, ndim))\n",
    "\n"
   ]
  },
  {
   "cell_type": "code",
   "execution_count": null,
   "metadata": {
    "collapsed": false,
    "deletable": true,
    "editable": true
   },
   "outputs": [],
   "source": [
    "# Here's the function call where all the work happens:\n",
    "# we'll time it using IPython's %time magic\n",
    "\n",
    "sampler = emcee.EnsembleSampler(nwalkers, ndim, log_posterior, args=[xdata, ydata])\n",
    "%time sampler.run_mcmc(starting_guesses, nsteps)\n",
    "print(\"done\")"
   ]
  },
  {
   "cell_type": "code",
   "execution_count": null,
   "metadata": {
    "collapsed": false,
    "deletable": true,
    "editable": true,
    "scrolled": true
   },
   "outputs": [],
   "source": [
    "# sampler.chain is of shape (nwalkers, nsteps, ndim)\n",
    "# we'll throw-out the burn-in points and reshape:\n",
    "emcee_trace = sampler.chain[:, nburn:, :].reshape(-1, ndim).T\n",
    "plot_MCMC_results(xdata, ydata, emcee_trace)"
   ]
  },
  {
   "cell_type": "code",
   "execution_count": null,
   "metadata": {
    "collapsed": true,
    "deletable": true,
    "editable": true
   },
   "outputs": [],
   "source": []
  },
  {
   "cell_type": "code",
   "execution_count": null,
   "metadata": {
    "collapsed": true,
    "deletable": true,
    "editable": true
   },
   "outputs": [],
   "source": []
  },
  {
   "cell_type": "code",
   "execution_count": null,
   "metadata": {
    "collapsed": false,
    "deletable": true,
    "editable": true
   },
   "outputs": [],
   "source": [
    "import pymc\n",
    "print(pymc.__version__)"
   ]
  },
  {
   "cell_type": "code",
   "execution_count": null,
   "metadata": {
    "collapsed": false,
    "deletable": true,
    "editable": true
   },
   "outputs": [],
   "source": [
    "# Define the variables needed for the routine, with their prior distributions\n",
    "alpha = pymc.Uniform('alpha', -100, 100)\n",
    "\n",
    "@pymc.stochastic(observed=False)\n",
    "def beta(value=0):\n",
    "    return -1.5 * np.log(1 + value ** 2)\n",
    "\n",
    "@pymc.stochastic(observed=False)\n",
    "def sigma(value=1):\n",
    "    return -np.log(abs(value))\n",
    "\n",
    "# Define the form of the model and likelihood\n",
    "@pymc.deterministic\n",
    "def y_model(x=xdata, alpha=alpha, beta=beta):\n",
    "    return alpha + beta * x\n",
    "\n",
    "y = pymc.Normal('y', mu=y_model, tau=1. / sigma ** 2, observed=True, value=ydata)\n",
    "\n",
    "# package the full model in a dictionary\n",
    "model1 = dict(alpha=alpha, beta=beta, sigma=sigma,\n",
    "              y_model=y_model, y=y)"
   ]
  },
  {
   "cell_type": "code",
   "execution_count": null,
   "metadata": {
    "collapsed": false,
    "deletable": true,
    "editable": true
   },
   "outputs": [],
   "source": [
    "# run the basic MCMC: we'll do 100000 iterations to match emcee above\n",
    "S = pymc.MCMC(model1)\n",
    "S.sample(iter=100000, burn=50000)"
   ]
  },
  {
   "cell_type": "code",
   "execution_count": null,
   "metadata": {
    "collapsed": false,
    "deletable": true,
    "editable": true
   },
   "outputs": [],
   "source": [
    "# extract the traces and plot the results\n",
    "pymc_trace = [S.trace('alpha')[:],\n",
    "              S.trace('beta')[:],\n",
    "              S.trace('sigma')[:]]\n",
    "\n",
    "plot_MCMC_results(xdata, ydata, pymc_trace)"
   ]
  },
  {
   "cell_type": "code",
   "execution_count": null,
   "metadata": {
    "collapsed": true,
    "deletable": true,
    "editable": true
   },
   "outputs": [],
   "source": []
  },
  {
   "cell_type": "code",
   "execution_count": null,
   "metadata": {
    "collapsed": true,
    "deletable": true,
    "editable": true
   },
   "outputs": [],
   "source": []
  },
  {
   "cell_type": "code",
   "execution_count": null,
   "metadata": {
    "collapsed": true,
    "deletable": true,
    "editable": true
   },
   "outputs": [],
   "source": []
  },
  {
   "cell_type": "code",
   "execution_count": null,
   "metadata": {
    "collapsed": true,
    "deletable": true,
    "editable": true
   },
   "outputs": [],
   "source": []
  },
  {
   "cell_type": "code",
   "execution_count": null,
   "metadata": {
    "collapsed": false,
    "deletable": true,
    "editable": true
   },
   "outputs": [],
   "source": [
    "import pystan\n",
    "print(pystan.__version__)"
   ]
  },
  {
   "cell_type": "code",
   "execution_count": null,
   "metadata": {
    "collapsed": false,
    "deletable": true,
    "editable": true
   },
   "outputs": [],
   "source": [
    "from sklearn import linear_model\n",
    "import numpy as np\n"
   ]
  },
  {
   "cell_type": "code",
   "execution_count": null,
   "metadata": {
    "collapsed": false,
    "deletable": true,
    "editable": true
   },
   "outputs": [],
   "source": [
    "x=np.random.rand(2,20)*10+5\n",
    "y=3+0.6*x[0]+1.1*x[1]+np.random.normal(0,1,20)*0.1 \n",
    "\n"
   ]
  },
  {
   "cell_type": "code",
   "execution_count": null,
   "metadata": {
    "collapsed": true,
    "deletable": true,
    "editable": true
   },
   "outputs": [],
   "source": [
    "X=[[0,0],[1,1],[2,2],[3,3]]\n",
    "Y=[0,1,2,3]"
   ]
  },
  {
   "cell_type": "code",
   "execution_count": null,
   "metadata": {
    "collapsed": false,
    "deletable": true,
    "editable": true
   },
   "outputs": [],
   "source": [
    "reg=linear_model.BayesianRidge()\n",
    "reg.fit(X,Y)"
   ]
  },
  {
   "cell_type": "code",
   "execution_count": null,
   "metadata": {
    "collapsed": false,
    "deletable": true,
    "editable": true
   },
   "outputs": [],
   "source": [
    "reg.coef_"
   ]
  },
  {
   "cell_type": "code",
   "execution_count": null,
   "metadata": {
    "collapsed": false,
    "deletable": true,
    "editable": true
   },
   "outputs": [],
   "source": []
  },
  {
   "cell_type": "markdown",
   "metadata": {
    "deletable": true,
    "editable": true
   },
   "source": [
    "bmcmc not suitable for py3"
   ]
  },
  {
   "cell_type": "code",
   "execution_count": null,
   "metadata": {
    "collapsed": false,
    "deletable": true,
    "editable": true
   },
   "outputs": [],
   "source": [
    "import bmcmc\n",
    "class stlineb(bmcmc.Model):\n",
    "  def set_descr(self):\n",
    "      # setup descriptor\n",
    "      self.descr['m']      =['l0', 1.0, 0.2,'$m$',        -1e10,1e10]\n",
    "      self.descr['c']      =['l0',10.0, 1.0,'$c$',        -1e10,1e10]\n",
    "      self.descr['mu_b']   =['l0', 1.0, 1.0,'$\\mu_b$',    -1e10,1e10]\n",
    "      self.descr['sigma_b']=['l0', 1.0, 1.0,'$\\sigma_b$', 1e-10,1e10]\n",
    "      self.descr['p_b']    =['l0',0.1,0.01,'$P_b$',      1e-10,0.999]\n",
    "\n",
    "  def set_args(self):\n",
    "      # setup data points\n",
    "      np.random.seed(11)\n",
    "      self.args['x']=0.5+np.random.ranf(self.eargs['dsize'])*9.5\n",
    "      self.args['sigma_y']=0.25+np.random.ranf(self.eargs['dsize'])\n",
    "      self.args['y']=np.random.normal(self.args['x']*2+10,self.args['sigma_y'])\n",
    "      # add outliers\n",
    "      self.ind=np.array([0,2,4,6,8,10,12,14,16,18])\n",
    "      self.args['y'][self.ind]=np.random.normal(30,5,self.ind.size)\n",
    "      self.args['y'][self.ind]=self.args['y'][self.ind]+np.random.normal(0.0,self.args['sigma_y'][self.ind])\n",
    "\n",
    "  def lnfunc(self,args):\n",
    "      # log posterior\n",
    "      if self.eargs['outliers'] == False:\n",
    "          temp1=(args['y']-(self.args['m']*self.args['x']+self.args['c']))/args['sigma_y']\n",
    "          return -0.5*(temp1*temp1)-np.log(np.sqrt(2*np.pi)*args['sigma_y'])\n",
    "      else:\n",
    "          temp11=scipy.stats.norm.pdf(args['y'],loc=(self.args['m']*self.args['x']+self.args['c']),scale=args['sigma_y'])\n",
    "          sigma_b=np.sqrt(np.square(args['sigma_y'])+np.square(args['sigma_b']))\n",
    "          temp22=scipy.stats.norm.pdf(args['y'],loc=self.args['mu_b'],scale=sigma_b)\n",
    "          return np.log((1-args['p_b'])*temp11+args['p_b']*temp22)\n",
    "\n",
    "  def myplot(self,chain):\n",
    "     # optional method for plotting\n",
    "     # plot best fit line corrsponding to chain of this model\n",
    "      plt.clf()\n",
    "      x = np.linspace(0,10)\n",
    "      burn=self.chain['m'].size/2\n",
    "      vals=self.best_fit(burn=burn)\n",
    "      plt.errorbar(self.args['x'], self.args['y'], yerr=self.args['sigma_y'], fmt=\".k\")\n",
    "      plt.errorbar(self.args['x'][self.ind], self.args['y'][self.ind], yerr=self.args['sigma_y'][self.ind], fmt=\".r\")\n",
    "      plt.plot(x,vals[0]*x+vals[1], color=\"g\", lw=2, alpha=0.5)\n",
    "      for i,key in enumerate(self.names0):\n",
    "          print(key)\n",
    "          plt.text(0.5,0.3-i*0.06,self.descr[key][3]+'='+bmcmc.stat_text(self.chain[key][burn:]),transform=plt.gca().transAxes)\n",
    "\n",
    "     # plot best fit line corrsponding to some other chain\n",
    "      vals1=[]\n",
    "      burn1=chain['m'].size/2\n",
    "      for i,key in enumerate(['m','c']):\n",
    "          print(key)\n",
    "          plt.text(0.05,0.5-i*0.05,self.descr[key][3]+'='+bmcmc.stat_text(chain[key][burn1:]),transform=plt.gca().transAxes)\n",
    "          vals1.append(np.mean(chain[key][burn1:]))\n",
    "      plt.plot(x,vals1[0]*x+vals1[1], 'g--', lw=2, alpha=0.5)\n",
    "      plt.xlabel(r'$x$')\n",
    "      plt.ylabel(r'$y$')\n",
    "      plt.axis([0,10,5,40,])"
   ]
  },
  {
   "cell_type": "code",
   "execution_count": null,
   "metadata": {
    "collapsed": true,
    "deletable": true,
    "editable": true
   },
   "outputs": [],
   "source": []
  }
 ],
 "metadata": {
  "kernelspec": {
   "display_name": "Python 3",
   "language": "python",
   "name": "python3"
  },
  "language_info": {
   "codemirror_mode": {
    "name": "ipython",
    "version": 3
   },
   "file_extension": ".py",
   "mimetype": "text/x-python",
   "name": "python",
   "nbconvert_exporter": "python",
   "pygments_lexer": "ipython3",
   "version": "3.6.0"
  }
 },
 "nbformat": 4,
 "nbformat_minor": 2
}
