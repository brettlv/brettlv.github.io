{
 "cells": [
  {
   "cell_type": "code",
   "execution_count": 31,
   "id": "f8e9ce39",
   "metadata": {
    "ExecuteTime": {
     "end_time": "2022-09-28T12:28:35.446223Z",
     "start_time": "2022-09-28T12:28:35.390323Z"
    }
   },
   "outputs": [],
   "source": [
    "import numpy as np, math\n",
    "import matplotlib.pyplot as plt\n",
    "from astropy.table import Table\n",
    "from matplotlib.colors import LogNorm\n",
    "from scipy.interpolate import interp1d\n",
    "\n",
    "data=Table.read('/Users/lyubing/Downloads/QSO_galaxy_LF/lum.fits')"
   ]
  },
  {
   "cell_type": "markdown",
   "id": "952afb0e",
   "metadata": {
    "ExecuteTime": {
     "end_time": "2022-09-28T07:54:14.706955Z",
     "start_time": "2022-09-28T07:54:14.695148Z"
    }
   },
   "source": [
    "data['ha_luminosity_log']"
   ]
  },
  {
   "cell_type": "markdown",
   "id": "b2d09bd1",
   "metadata": {
    "ExecuteTime": {
     "end_time": "2022-09-28T07:53:07.042686Z",
     "start_time": "2022-09-28T07:53:06.790719Z"
    }
   },
   "source": [
    "data=data.to_pandas()"
   ]
  },
  {
   "cell_type": "code",
   "execution_count": 32,
   "id": "8587a0c9",
   "metadata": {
    "ExecuteTime": {
     "end_time": "2022-09-28T12:28:44.048362Z",
     "start_time": "2022-09-28T12:28:44.039633Z"
    }
   },
   "outputs": [
    {
     "data": {
      "text/plain": [
       "['object_id', 'ha_luminosity', 'ha_luminosity_log']"
      ]
     },
     "execution_count": 32,
     "metadata": {},
     "output_type": "execute_result"
    }
   ],
   "source": [
    "data.colnames"
   ]
  },
  {
   "cell_type": "markdown",
   "id": "eec337c0",
   "metadata": {},
   "source": [
    "(https://astronomy.stackexchange.com/questions/41978/schechter-luminosity-function-fitting-plot-of-galaxies)"
   ]
  },
  {
   "cell_type": "markdown",
   "id": "0c626b6b",
   "metadata": {
    "ExecuteTime": {
     "end_time": "2022-09-28T12:06:54.347103Z",
     "start_time": "2022-09-28T12:06:54.337687Z"
    }
   },
   "source": [
    "data_ha_lum_log=np.array(data['ha_luminosity_log'])"
   ]
  },
  {
   "cell_type": "code",
   "execution_count": 56,
   "id": "7644a679",
   "metadata": {
    "ExecuteTime": {
     "end_time": "2022-09-28T12:38:23.124678Z",
     "start_time": "2022-09-28T12:38:23.109640Z"
    }
   },
   "outputs": [],
   "source": [
    "def Schechter_Lum(L, L_star=None, Alpha=None, P_star=None):\n",
    "    '''\n",
    "    Schechter luminosity function in LUMINOSITY  \n",
    "    number per dex\n",
    "    '''\n",
    "    ratio = L/L_star\n",
    "    f = np.log(10.)*P_star* np.exp(-ratio)*(ratio)**(Alpha+1)*ratio\n",
    "    return f\n",
    "\n"
   ]
  },
  {
   "cell_type": "code",
   "execution_count": 57,
   "id": "1e709614",
   "metadata": {
    "ExecuteTime": {
     "end_time": "2022-09-28T12:38:23.805169Z",
     "start_time": "2022-09-28T12:38:23.786056Z"
    }
   },
   "outputs": [
    {
     "data": {
      "text/plain": [
       "2.302585092994046"
      ]
     },
     "execution_count": 57,
     "metadata": {},
     "output_type": "execute_result"
    }
   ],
   "source": [
    "np.log(10.)"
   ]
  },
  {
   "cell_type": "code",
   "execution_count": 74,
   "id": "0d151b35",
   "metadata": {
    "ExecuteTime": {
     "end_time": "2022-09-28T13:04:29.498589Z",
     "start_time": "2022-09-28T13:04:29.326482Z"
    }
   },
   "outputs": [
    {
     "data": {
      "image/png": "[encoded data removed]",
      "text/plain": [
       "<Figure size 432x288 with 1 Axes>"
      ]
     },
     "metadata": {
      "needs_background": "light"
     },
     "output_type": "display_data"
    }
   ],
   "source": [
    "#For the reference, I used this value from the paper\n",
    "L_star=10**42.64\n",
    "P_star=-3.32\n",
    "Alpha= 0.75\n",
    "\n",
    "schechter_lf=Schechter_Lum(data['ha_luminosity'],L_star,Alpha,P_star) #data['ha_luminosity_log']\n",
    "\n",
    "\n",
    "figure_n= 1\n",
    "fig = plt.figure(figsize=(6,figure_n*4))\n",
    "fig.subplots_adjust(hspace=0.0, wspace = 0.0)\n",
    "ax = fig.add_subplot(figure_n,1,1) \n",
    "    \n",
    "ax.scatter(data['ha_luminosity_log'],schechter_lf)\n",
    "#plt.yscale('log')\n",
    "#plt.xscale('log')\n",
    "ax.semilogx()\n",
    "\n",
    "plt.title(r'H$\\alpha$ Luminosity Functions')\n",
    "ax.set_xlabel(r'Log (L[H$\\alpha$]) erg/s', fontsize=14)\n",
    "ax.set_ylabel(r'$\\phi$ (log$L$) per Mpc$^{-3}$ per log$L $',fontsize=14)\n",
    "#plt.ylim(0,1e-14)\n",
    "plt.tight_layout()\n",
    "plt.show()"
   ]
  },
  {
   "cell_type": "markdown",
   "id": "4faf0413",
   "metadata": {
    "ExecuteTime": {
     "end_time": "2022-09-28T12:41:32.817182Z",
     "start_time": "2022-09-28T12:41:32.799470Z"
    }
   },
   "source": [
    "schechter_lf"
   ]
  },
  {
   "cell_type": "code",
   "execution_count": 2,
   "id": "3fcf33c2",
   "metadata": {
    "ExecuteTime": {
     "end_time": "2022-10-11T09:51:21.802952Z",
     "start_time": "2022-10-11T09:51:18.899768Z"
    }
   },
   "outputs": [
    {
     "name": "stdout",
     "output_type": "stream",
     "text": [
      "Collecting skypy\n",
      "  Using cached skypy-0.5-py3-none-any.whl\n",
      "Requirement already satisfied: networkx in /Users/lyubing/opt/anaconda3/lib/python3.9/site-packages (from skypy) (2.7.1)\n",
      "Requirement already satisfied: numpy in /Users/lyubing/opt/anaconda3/lib/python3.9/site-packages (from skypy) (1.22.4)\n",
      "Requirement already satisfied: astropy>=4 in /Users/lyubing/opt/anaconda3/lib/python3.9/site-packages (from skypy) (5.1)\n",
      "Requirement already satisfied: scipy in /Users/lyubing/opt/anaconda3/lib/python3.9/site-packages (from skypy) (1.8.1)\n",
      "Requirement already satisfied: pyyaml in /Users/lyubing/opt/anaconda3/lib/python3.9/site-packages (from skypy) (6.0)\n",
      "Requirement already satisfied: packaging>=19.0 in /Users/lyubing/opt/anaconda3/lib/python3.9/site-packages (from astropy>=4->skypy) (21.3)\n",
      "Requirement already satisfied: pyerfa>=2.0 in /Users/lyubing/opt/anaconda3/lib/python3.9/site-packages (from astropy>=4->skypy) (2.0.0)\n",
      "Requirement already satisfied: pyparsing!=3.0.5,>=2.0.2 in /Users/lyubing/opt/anaconda3/lib/python3.9/site-packages (from packaging>=19.0->astropy>=4->skypy) (3.0.4)\n",
      "Installing collected packages: skypy\n",
      "Successfully installed skypy-0.5\n",
      "Note: you may need to restart the kernel to use updated packages.\n"
     ]
    }
   ],
   "source": [
    "pip install skypy"
   ]
  },
  {
   "cell_type": "code",
   "execution_count": 3,
   "id": "ad7264e5",
   "metadata": {
    "ExecuteTime": {
     "end_time": "2022-10-11T09:51:24.688763Z",
     "start_time": "2022-10-11T09:51:23.786761Z"
    }
   },
   "outputs": [],
   "source": [
    "from astropy.cosmology import FlatLambdaCDM\n",
    "from astropy.modeling.models import Linear1D, Exponential1D\n",
    "from astropy.table import Table\n",
    "from astropy.units import Quantity\n",
    "from matplotlib import pyplot as plt\n",
    "import numpy as np\n",
    "from skypy.galaxies import schechter_lf\n",
    "\n",
    "z_range = np.linspace(0.2, 1.0, 100)\n",
    "m_star = Linear1D(-1.03, -20.485)\n",
    "phi_star = Exponential1D(0.00312608, -43.4294)\n",
    "alpha, mag_lim = -1.29, 30\n",
    "sky_area = Quantity(2.381, \"deg2\")\n",
    "cosmology = FlatLambdaCDM(H0=70, Om0=0.3)\n",
    "redshift, magnitude = schechter_lf(z_range, m_star, phi_star, alpha,\n",
    "                                   mag_lim, sky_area, cosmology, noise=True)"
   ]
  },
  {
   "cell_type": "code",
   "execution_count": 6,
   "id": "84facf0a",
   "metadata": {
    "ExecuteTime": {
     "end_time": "2022-10-11T09:52:17.190640Z",
     "start_time": "2022-10-11T09:52:17.172515Z"
    }
   },
   "outputs": [
    {
     "data": {
      "text/plain": [
       "(array([0.85044376, 0.80827943, 0.4713299 , ..., 0.60098541, 0.55563069,\n",
       "        0.32782954]),\n",
       " array([-16.49206793, -15.76532657, -12.6151751 , ..., -17.96353859,\n",
       "        -16.59844287, -12.20318269]))"
      ]
     },
     "execution_count": 6,
     "metadata": {},
     "output_type": "execute_result"
    }
   ],
   "source": [
    "redshift, magnitude"
   ]
  },
  {
   "cell_type": "code",
   "execution_count": null,
   "id": "767cc407",
   "metadata": {},
   "outputs": [],
   "source": []
  },
  {
   "cell_type": "code",
   "execution_count": 5,
   "id": "a26f18f7",
   "metadata": {
    "ExecuteTime": {
     "end_time": "2022-10-11T09:51:58.261962Z",
     "start_time": "2022-10-11T09:51:57.657296Z"
    }
   },
   "outputs": [
    {
     "data": {
      "image/png": "[encoded data removed]",
      "text/plain": [
       "<Figure size 432x288 with 4 Axes>"
      ]
     },
     "metadata": {
      "needs_background": "light"
     },
     "output_type": "display_data"
    }
   ],
   "source": [
    "data = Table.read(\"/Users/lyubing/Downloads/skypy/lopez_sanjuan+17_B1.ecsv\", format='ascii.ecsv')\n",
    "fig, ((a1, a2), (a3, a4)) = plt.subplots(nrows=2, ncols=2, constrained_layout=True)\n",
    "bins = np.linspace(-24, -14, 35)\n",
    "z_slices = ((0.2, 0.4), (0.4, 0.6), (0.6, 0.8), (0.8, 1.0))\n",
    "\n",
    "for ax, (z_min, z_max) in zip([a1, a2, a3, a4], z_slices):\n",
    "\n",
    "    # Redshift grid\n",
    "    z = np.linspace(z_min, z_max, 100)\n",
    "\n",
    "    # SkyPy simulated galaxies\n",
    "    z_mask = np.logical_and(redshift >= z_min, redshift < z_max)\n",
    "    dV_dz = (cosmology.differential_comoving_volume(z) * sky_area).to_value('Mpc3')\n",
    "    dV = np.trapz(dV_dz, z)\n",
    "    dM = (np.max(bins)-np.min(bins)) / (np.size(bins)-1)\n",
    "    phi_skypy = np.histogram(magnitude[z_mask], bins=bins)[0] / dV / dM\n",
    "\n",
    "    # ALHAMBRA Survey star-forming galaxies (López-Sanjuan et al. 2017)\n",
    "    M_data = data[f'MB_{z_min:.1f}_{z_max:.1f}']\n",
    "    phi_data = 10 ** data[f'phi_{z_min:.1f}_{z_max:.1f}']\n",
    "\n",
    "    # Median-redshift Schechter function\n",
    "    L = 10 ** (0.4 * (m_star(z) - bins[:, np.newaxis]))\n",
    "    phi_model_z = 0.4 * np.log(10) * phi_star(z) * L ** (alpha+1) * np.exp(-L)\n",
    "    phi_model = np.median(phi_model_z, axis=1)\n",
    "\n",
    "    # Plotting\n",
    "    ax.step(bins[:-1], phi_skypy, where='post', label='SkyPy', color='r', zorder=3)\n",
    "    ax.plot(M_data, phi_data, 's', mfc='c', mec='k', label='López-Sanjuan+17')\n",
    "    ax.plot(bins, phi_model, label='Model', color='b')\n",
    "    ax.text(-14.3, 5e-7, r'${:.2f} \\leq z < {:.2f}$'.format(z_min, z_max))\n",
    "    ax.set_xlabel(r'$M_B$')\n",
    "    ax.set_ylabel(r'$\\log_{10} \\Phi \\, [\\mathrm{Mpc}^{-3} \\, \\mathrm{mag}^{-1}]$')\n",
    "    ax.set_yscale('log')\n",
    "    ax.set_xlim([-14, -24])\n",
    "    ax.set_ylim([3e-7, 3e-2])\n",
    "\n",
    "a1.legend(loc=6, fontsize='small', frameon=False)\n",
    "plt.show()"
   ]
  },
  {
   "cell_type": "code",
   "execution_count": 10,
   "id": "de069992",
   "metadata": {
    "ExecuteTime": {
     "end_time": "2022-10-11T10:40:23.925176Z",
     "start_time": "2022-10-11T10:40:23.912288Z"
    }
   },
   "outputs": [],
   "source": [
    "L = 10 ** (0.4 * (m_star(z) - bins[:, np.newaxis]))"
   ]
  },
  {
   "cell_type": "code",
   "execution_count": 12,
   "id": "6adb8702",
   "metadata": {
    "ExecuteTime": {
     "end_time": "2022-10-11T10:40:28.947923Z",
     "start_time": "2022-10-11T10:40:28.929946Z"
    }
   },
   "outputs": [
    {
     "data": {
      "text/plain": [
       "(35, 100)"
      ]
     },
     "execution_count": 12,
     "metadata": {},
     "output_type": "execute_result"
    }
   ],
   "source": [
    "L.shape"
   ]
  },
  {
   "cell_type": "code",
   "execution_count": null,
   "id": "d64a0676",
   "metadata": {},
   "outputs": [],
   "source": []
  }
 ],
 "metadata": {
  "kernelspec": {
   "display_name": "Python 3 (ipykernel)",
   "language": "python",
   "name": "python3"
  },
  "language_info": {
   "codemirror_mode": {
    "name": "ipython",
    "version": 3
   },
   "file_extension": ".py",
   "mimetype": "text/x-python",
   "name": "python",
   "nbconvert_exporter": "python",
   "pygments_lexer": "ipython3",
   "version": "3.9.12"
  },
  "latex_envs": {
   "LaTeX_envs_menu_present": true,
   "autoclose": false,
   "autocomplete": true,
   "bibliofile": "biblio.bib",
   "cite_by": "apalike",
   "current_citInitial": 1,
   "eqLabelWithNumbers": true,
   "eqNumInitial": 1,
   "hotkeys": {
    "equation": "Ctrl-E",
    "itemize": "Ctrl-I"
   },
   "labels_anchors": false,
   "latex_user_defs": false,
   "report_style_numbering": false,
   "user_envs_cfg": false
  },
  "toc": {
   "base_numbering": 1,
   "nav_menu": {},
   "number_sections": true,
   "sideBar": true,
   "skip_h1_title": false,
   "title_cell": "Table of Contents",
   "title_sidebar": "Contents",
   "toc_cell": false,
   "toc_position": {},
   "toc_section_display": true,
   "toc_window_display": false
  }
 },
 "nbformat": 4,
 "nbformat_minor": 5
}
