{
 "cells": [
  {
   "cell_type": "code",
   "execution_count": null,
   "metadata": {},
   "outputs": [],
   "source": [
    "from astropy.table import Table"
   ]
  },
  {
   "cell_type": "code",
   "execution_count": 1,
   "metadata": {
    "ExecuteTime": {
     "end_time": "2021-07-23T13:42:26.121689Z",
     "start_time": "2021-07-23T13:42:13.975005Z"
    }
   },
   "outputs": [
    {
     "data": {
      "text/html": [
       "<i>Table length=274</i>\n",
       "<table id=\"table4583292112\" class=\"table-striped table-bordered table-condensed\">\n",
       "<thead><tr><th>SNR</th><th>RAh</th><th>RAm</th><th>RAs</th><th>DE-</th><th>DEd</th><th>DEm</th><th>MajDiam</th><th>---</th><th>MinDiam</th><th>u_MinDiam</th><th>type</th><th>l_S(1GHz)</th><th>S(1GHz)</th><th>u_S(1GHz)</th><th>Sp-Index</th><th>u_Sp-Index</th><th>Names</th></tr></thead>\n",
       "<thead><tr><th></th><th>h</th><th>min</th><th>s</th><th></th><th>deg</th><th>arcmin</th><th>arcmin</th><th></th><th>arcmin</th><th></th><th></th><th></th><th>Jy</th><th></th><th></th><th></th><th></th></tr></thead>\n",
       "<thead><tr><th>str11</th><th>int64</th><th>int64</th><th>int64</th><th>str1</th><th>int64</th><th>int64</th><th>float64</th><th>str1</th><th>float64</th><th>str1</th><th>str2</th><th>str1</th><th>float64</th><th>str1</th><th>float64</th><th>str1</th><th>str26</th></tr></thead>\n",
       "<tr><td>G000.0+00.0</td><td>17</td><td>45</td><td>44</td><td>-</td><td>29</td><td>0</td><td>3.5</td><td>x</td><td>2.5</td><td>--</td><td>S</td><td>--</td><td>100.0</td><td>?</td><td>0.8</td><td>?</td><td>Sgr A East</td></tr>\n",
       "<tr><td>G000.3+00.0</td><td>17</td><td>46</td><td>15</td><td>-</td><td>28</td><td>38</td><td>15.0</td><td>x</td><td>8.0</td><td>--</td><td>S</td><td>--</td><td>22.0</td><td>--</td><td>0.6</td><td>--</td><td>--</td></tr>\n",
       "<tr><td>G000.9+00.1</td><td>17</td><td>47</td><td>21</td><td>-</td><td>28</td><td>9</td><td>8.0</td><td>--</td><td>--</td><td>--</td><td>C</td><td>--</td><td>18.0</td><td>?</td><td>--</td><td>v</td><td>--</td></tr>\n",
       "<tr><td>G001.0-00.1</td><td>17</td><td>48</td><td>30</td><td>-</td><td>28</td><td>9</td><td>8.0</td><td>--</td><td>--</td><td>--</td><td>S</td><td>--</td><td>15.0</td><td>--</td><td>0.6</td><td>?</td><td>--</td></tr>\n",
       "<tr><td>G001.4-00.1</td><td>17</td><td>49</td><td>39</td><td>-</td><td>27</td><td>46</td><td>10.0</td><td>--</td><td>--</td><td>--</td><td>S</td><td>--</td><td>2.0</td><td>?</td><td>--</td><td>?</td><td>--</td></tr>\n",
       "<tr><td>G001.9+00.3</td><td>17</td><td>48</td><td>45</td><td>-</td><td>27</td><td>10</td><td>1.5</td><td>--</td><td>--</td><td>--</td><td>S</td><td>--</td><td>0.6</td><td>--</td><td>0.6</td><td>--</td><td>--</td></tr>\n",
       "<tr><td>G003.7-00.2</td><td>17</td><td>55</td><td>26</td><td>-</td><td>25</td><td>50</td><td>14.0</td><td>x</td><td>11.0</td><td>--</td><td>S</td><td>--</td><td>2.3</td><td>--</td><td>0.65</td><td>--</td><td>--</td></tr>\n",
       "<tr><td>G003.8+00.3</td><td>17</td><td>52</td><td>55</td><td>-</td><td>25</td><td>28</td><td>18.0</td><td>--</td><td>--</td><td>--</td><td>S?</td><td>--</td><td>3.0</td><td>?</td><td>0.6</td><td>--</td><td>--</td></tr>\n",
       "<tr><td>G004.2-03.5</td><td>18</td><td>8</td><td>55</td><td>-</td><td>27</td><td>3</td><td>28.0</td><td>--</td><td>--</td><td>--</td><td>S</td><td>--</td><td>3.2</td><td>?</td><td>0.6</td><td>?</td><td>--</td></tr>\n",
       "<tr><td>...</td><td>...</td><td>...</td><td>...</td><td>...</td><td>...</td><td>...</td><td>...</td><td>...</td><td>...</td><td>...</td><td>...</td><td>...</td><td>...</td><td>...</td><td>...</td><td>...</td><td>...</td></tr>\n",
       "<tr><td>G356.3-00.3</td><td>17</td><td>37</td><td>56</td><td>-</td><td>32</td><td>16</td><td>11.0</td><td>x</td><td>7.0</td><td>--</td><td>S</td><td>--</td><td>3.0</td><td>?</td><td>--</td><td>?</td><td>--</td></tr>\n",
       "<tr><td>G356.3-01.5</td><td>17</td><td>42</td><td>35</td><td>-</td><td>32</td><td>52</td><td>20.0</td><td>x</td><td>15.0</td><td>--</td><td>S</td><td>--</td><td>3.0</td><td>?</td><td>--</td><td>?</td><td>--</td></tr>\n",
       "<tr><td>G357.7-00.1</td><td>17</td><td>40</td><td>29</td><td>-</td><td>30</td><td>58</td><td>8.0</td><td>x</td><td>3.0</td><td>?</td><td>?</td><td>--</td><td>37.0</td><td>--</td><td>0.4</td><td>--</td><td>MSH 17-39</td></tr>\n",
       "<tr><td>G357.7+00.3</td><td>17</td><td>38</td><td>35</td><td>-</td><td>30</td><td>44</td><td>24.0</td><td>--</td><td>--</td><td>--</td><td>S</td><td>--</td><td>10.0</td><td>--</td><td>0.4</td><td>?</td><td>--</td></tr>\n",
       "<tr><td>G358.0+03.8</td><td>17</td><td>26</td><td>0</td><td>-</td><td>28</td><td>36</td><td>38.0</td><td>--</td><td>--</td><td>--</td><td>S</td><td>--</td><td>1.5</td><td>?</td><td>--</td><td>?</td><td>--</td></tr>\n",
       "<tr><td>G358.1+00.1</td><td>17</td><td>37</td><td>0</td><td>-</td><td>29</td><td>59</td><td>20.0</td><td>--</td><td>--</td><td>--</td><td>S</td><td>--</td><td>2.0</td><td>?</td><td>--</td><td>?</td><td>--</td></tr>\n",
       "<tr><td>G358.5-00.9</td><td>17</td><td>46</td><td>10</td><td>-</td><td>30</td><td>40</td><td>17.0</td><td>--</td><td>--</td><td>--</td><td>S</td><td>--</td><td>4.0</td><td>?</td><td>--</td><td>?</td><td>--</td></tr>\n",
       "<tr><td>G359.0-00.9</td><td>17</td><td>46</td><td>50</td><td>-</td><td>30</td><td>16</td><td>23.0</td><td>--</td><td>--</td><td>--</td><td>S</td><td>--</td><td>23.0</td><td>--</td><td>0.5</td><td>--</td><td>--</td></tr>\n",
       "<tr><td>G359.1-00.5</td><td>17</td><td>45</td><td>30</td><td>-</td><td>29</td><td>57</td><td>24.0</td><td>--</td><td>--</td><td>--</td><td>S</td><td>--</td><td>14.0</td><td>--</td><td>0.4</td><td>?</td><td>--</td></tr>\n",
       "<tr><td>G359.1+00.9</td><td>17</td><td>39</td><td>36</td><td>-</td><td>29</td><td>11</td><td>12.0</td><td>x</td><td>11.0</td><td>--</td><td>S</td><td>--</td><td>2.0</td><td>?</td><td>--</td><td>?</td><td>--</td></tr>\n",
       "</table>"
      ],
      "text/plain": [
       "<Table length=274>\n",
       "    SNR      RAh   RAm   RAs  DE-  ... u_S(1GHz) Sp-Index u_Sp-Index   Names   \n",
       "              h    min    s        ...                                         \n",
       "   str11    int64 int64 int64 str1 ...    str1   float64     str1      str26   \n",
       "----------- ----- ----- ----- ---- ... --------- -------- ---------- ----------\n",
       "G000.0+00.0    17    45    44    - ...         ?      0.8          ? Sgr A East\n",
       "G000.3+00.0    17    46    15    - ...        --      0.6         --         --\n",
       "G000.9+00.1    17    47    21    - ...         ?       --          v         --\n",
       "G001.0-00.1    17    48    30    - ...        --      0.6          ?         --\n",
       "G001.4-00.1    17    49    39    - ...         ?       --          ?         --\n",
       "G001.9+00.3    17    48    45    - ...        --      0.6         --         --\n",
       "G003.7-00.2    17    55    26    - ...        --     0.65         --         --\n",
       "G003.8+00.3    17    52    55    - ...         ?      0.6         --         --\n",
       "G004.2-03.5    18     8    55    - ...         ?      0.6          ?         --\n",
       "        ...   ...   ...   ...  ... ...       ...      ...        ...        ...\n",
       "G356.3-00.3    17    37    56    - ...         ?       --          ?         --\n",
       "G356.3-01.5    17    42    35    - ...         ?       --          ?         --\n",
       "G357.7-00.1    17    40    29    - ...        --      0.4         --  MSH 17-39\n",
       "G357.7+00.3    17    38    35    - ...        --      0.4          ?         --\n",
       "G358.0+03.8    17    26     0    - ...         ?       --          ?         --\n",
       "G358.1+00.1    17    37     0    - ...         ?       --          ?         --\n",
       "G358.5-00.9    17    46    10    - ...         ?       --          ?         --\n",
       "G359.0-00.9    17    46    50    - ...        --      0.5         --         --\n",
       "G359.1-00.5    17    45    30    - ...        --      0.4          ?         --\n",
       "G359.1+00.9    17    39    36    - ...         ?       --          ?         --"
      ]
     },
     "execution_count": 1,
     "metadata": {},
     "output_type": "execute_result"
    }
   ],
   "source": [
    "\n",
    "\n",
    "t=Table.read('ftp://cdsarc.u-strasbg.fr/pub/cats/VII/253/snrs.dat',readme='ftp://cdsarc.u-strasbg.fr/pub/cats/VII/253/ReadMe',\n",
    "            format='ascii.cds')\n",
    "\n",
    "t\n",
    "\n",
    "#"
   ]
  },
  {
   "cell_type": "code",
   "execution_count": null,
   "metadata": {},
   "outputs": [],
   "source": []
  },
  {
   "cell_type": "code",
   "execution_count": 2,
   "metadata": {
    "ExecuteTime": {
     "end_time": "2021-07-23T13:43:56.286458Z",
     "start_time": "2021-07-23T13:43:50.412715Z"
    }
   },
   "outputs": [],
   "source": [
    "t2=Table.read('http://ned.ipac.caltech.edu/cgi-bin/datasearch?search_type=Photo_id&&img_stamp=YES&hconst=73.0&omegam=0.27&omegav=0.73&corr_z=1&of=table&objid=170120&objname=LQAC%20017%2B039%20003',format='ascii')"
   ]
  },
  {
   "cell_type": "code",
   "execution_count": 3,
   "metadata": {
    "ExecuteTime": {
     "end_time": "2021-07-23T13:44:00.044598Z",
     "start_time": "2021-07-23T13:44:00.038072Z"
    }
   },
   "outputs": [
    {
     "data": {
      "text/html": [
       "<i>Table length=1</i>\n",
       "<table id=\"table4889480208\" class=\"table-striped table-bordered table-condensed\">\n",
       "<thead><tr><th>col1</th><th>col2</th></tr></thead>\n",
       "<thead><tr><th>str202</th><th>str430</th></tr></thead>\n",
       "<tr><td>Click to zoom in at a position of interest (uses a separate window).  \n",
       "\n",
       "Select zoom factor:  \n",
       "\n",
       " 2X\n",
       " 3X\n",
       " 4X\n",
       " 5X\n",
       " 8X\n",
       " 10X\n",
       " 15X\n",
       " 20X\n",
       " 30X\n",
       " 40X\n",
       " \n",
       "\n",
       "\n",
       "\n",
       "\n",
       "\n",
       "\n",
       "\n",
       "\n",
       "\n",
       "\n",
       "                Postscript version of the SED plot</td><td>Error Bars\n",
       " No Error Bars\n",
       " \n",
       "\n",
       " Point Labels\n",
       " No Point Labels\n",
       " \n",
       "\n",
       " X=log(Freq.)(Hz)\n",
       " X=log(Wave.)(microns)\n",
       " \n",
       "\n",
       " Y=log(Fnu)(Jy)\n",
       " Y=log(Fnu)(W/m2/Hz)\n",
       " Y=log(NuFnu)(Jy-Hz)\n",
       " Y=log(NuFnu)(W/m2)\n",
       " \n",
       "\n",
       " Fixed data range (for comparisons)\n",
       " Autoscale data range\n",
       " \n",
       "\n",
       "\n",
       "\n",
       "\n",
       "\n",
       "\n",
       "\n",
       "\n",
       "  New options   \n",
       "Format tabular data as:\n",
       "\n",
       "\n",
       "HTML Table \n",
       "HTML preformatted text \n",
       "Text (ASCII) table - Bar Separated Values\n",
       "Text (ASCII) table - Tab Separated Values\n",
       "XML VOTable</td></tr>\n",
       "</table>"
      ],
      "text/plain": [
       "<Table length=1>\n",
       "                                                                                                   col1                                                                                                    ...\n",
       "                                                                                                  str202                                                                                                   ...\n",
       "---------------------------------------------------------------------------------------------------------------------------------------------------------------------------------------------------------- ...\n",
       "Click to zoom in at a position of interest (uses a separate window).  \n",
       "\n",
       "Select zoom factor:  \n",
       "\n",
       " 2X\n",
       " 3X\n",
       " 4X\n",
       " 5X\n",
       " 8X\n",
       " 10X\n",
       " 15X\n",
       " 20X\n",
       " 30X\n",
       " 40X\n",
       " \n",
       "\n",
       "\n",
       "\n",
       "\n",
       "\n",
       "\n",
       "\n",
       "\n",
       "\n",
       "\n",
       "                Postscript version of the SED plot ..."
      ]
     },
     "execution_count": 3,
     "metadata": {},
     "output_type": "execute_result"
    }
   ],
   "source": [
    "t2"
   ]
  },
  {
   "cell_type": "code",
   "execution_count": 4,
   "metadata": {
    "ExecuteTime": {
     "end_time": "2021-07-23T13:44:47.077639Z",
     "start_time": "2021-07-23T13:44:47.067509Z"
    }
   },
   "outputs": [],
   "source": [
    "import numpy as np\n",
    "import sys\n",
    "from astropy.table import Table, Column,MaskedColumn\n",
    "from astropy.io import ascii\n",
    "x = np.array([1, 2, 3])\n",
    "y = x ** 2\n",
    "data = Table([x, y], names=[ 'x' ,  'y' ]) \n",
    "ascii.write(data,'values.dat',overwrite=True)"
   ]
  },
  {
   "cell_type": "code",
   "execution_count": 5,
   "metadata": {
    "ExecuteTime": {
     "end_time": "2021-07-23T13:44:54.439556Z",
     "start_time": "2021-07-23T13:44:54.436151Z"
    }
   },
   "outputs": [],
   "source": [
    "more values.dat"
   ]
  },
  {
   "cell_type": "code",
   "execution_count": 6,
   "metadata": {
    "ExecuteTime": {
     "end_time": "2021-07-23T13:45:02.969792Z",
     "start_time": "2021-07-23T13:45:02.964605Z"
    },
    "code_folding": []
   },
   "outputs": [
    {
     "name": "stdout",
     "output_type": "stream",
     "text": [
      "\\begin{table}\n",
      "\\begin{tabular}{cc}\n",
      "x & y \\\\\n",
      "1 & 1 \\\\\n",
      "2 & 4 \\\\\n",
      "3 & 9 \\\\\n",
      "\\end{tabular}\n",
      "\\end{table}\n"
     ]
    }
   ],
   "source": [
    "ascii.write(data,sys.stdout,format='latex')"
   ]
  },
  {
   "cell_type": "code",
   "execution_count": null,
   "metadata": {},
   "outputs": [],
   "source": []
  }
 ],
 "metadata": {
  "kernelspec": {
   "display_name": "Python 3",
   "language": "python",
   "name": "python3"
  },
  "language_info": {
   "codemirror_mode": {
    "name": "ipython",
    "version": 3
   },
   "file_extension": ".py",
   "mimetype": "text/x-python",
   "name": "python",
   "nbconvert_exporter": "python",
   "pygments_lexer": "ipython3",
   "version": "3.8.5"
  },
  "latex_envs": {
   "LaTeX_envs_menu_present": true,
   "autocomplete": true,
   "bibliofile": "biblio.bib",
   "cite_by": "apalike",
   "current_citInitial": 1,
   "eqLabelWithNumbers": true,
   "eqNumInitial": 1,
   "hotkeys": {
    "equation": "Ctrl-E",
    "itemize": "Ctrl-I"
   },
   "labels_anchors": false,
   "latex_user_defs": false,
   "report_style_numbering": false,
   "user_envs_cfg": false
  },
  "toc": {
   "nav_menu": {},
   "number_sections": true,
   "sideBar": true,
   "skip_h1_title": false,
   "toc_cell": false,
   "toc_position": {},
   "toc_section_display": "block",
   "toc_window_display": false
  }
 },
 "nbformat": 4,
 "nbformat_minor": 2
}
