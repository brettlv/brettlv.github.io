{
 "cells": [
  {
   "cell_type": "markdown",
   "metadata": {},
   "source": [
    "# Example of using PyImfit with Markov-Chain Monte Carlo code \"emcee\""
   ]
  },
  {
   "cell_type": "markdown",
   "metadata": {},
   "source": [
    "This is a Jupyter notebook demonstrating how to use PyImfit with the MCMC code [emcee](https://github.com/dfm/emcee).\n",
    "\n",
    "If you are seeing this as part of the readthedocs.org HTML documentation, you can retrieve the original .ipynb file\n",
    "[here](https://github.com/perwin/pyimfit/blob/master/docs/pyimfit_emcee.ipynb)."
   ]
  },
  {
   "cell_type": "markdown",
   "metadata": {},
   "source": [
    "Some initial setup for nice-looking plots:"
   ]
  },
  {
   "cell_type": "code",
   "execution_count": 1,
   "metadata": {
    "ExecuteTime": {
     "end_time": "2020-12-07T19:58:03.334994Z",
     "start_time": "2020-12-07T19:58:02.777932Z"
    },
    "collapsed": false
   },
   "outputs": [
    {
     "name": "stdout",
     "output_type": "stream",
     "text": [
      "Populating the interactive namespace from numpy and matplotlib\n"
     ]
    }
   ],
   "source": [
    "%pylab inline\n",
    "\n",
    "matplotlib.rcParams['figure.figsize'] = (8,6)\n",
    "matplotlib.rcParams['xtick.labelsize'] = 16\n",
    "matplotlib.rcParams['ytick.labelsize'] = 16\n",
    "matplotlib.rcParams['axes.labelsize'] = 20"
   ]
  },
  {
   "cell_type": "markdown",
   "metadata": {},
   "source": [
    "### Create image-fitting model using PyImfit"
   ]
  },
  {
   "cell_type": "markdown",
   "metadata": {},
   "source": [
    "Load the pymfit package; also load astropy.io.fits so we can read FITS files:"
   ]
  },
  {
   "cell_type": "code",
   "execution_count": 2,
   "metadata": {
    "ExecuteTime": {
     "end_time": "2020-12-07T19:58:04.281832Z",
     "start_time": "2020-12-07T19:58:03.336614Z"
    },
    "collapsed": true
   },
   "outputs": [],
   "source": [
    "import pyimfit\n",
    "from astropy.io import fits"
   ]
  },
  {
   "cell_type": "markdown",
   "metadata": {},
   "source": [
    "Load data image (in this case, a small cutout of an SDSS image showing a faint star):"
   ]
  },
  {
   "cell_type": "code",
   "execution_count": 3,
   "metadata": {
    "ExecuteTime": {
     "end_time": "2020-12-07T19:58:04.286974Z",
     "start_time": "2020-12-07T19:58:04.283915Z"
    },
    "collapsed": true
   },
   "outputs": [],
   "source": [
    "datapath='/Volumes/ExtremeSSD/Papers_Project/MWA/MWA_Code/pyimfit/docs/'"
   ]
  },
  {
   "cell_type": "code",
   "execution_count": 4,
   "metadata": {
    "ExecuteTime": {
     "end_time": "2020-12-07T19:58:04.298790Z",
     "start_time": "2020-12-07T19:58:04.289275Z"
    },
    "collapsed": false
   },
   "outputs": [],
   "source": [
    "imageFile = \"%s/pyimfit_emcee_files/faintstar.fits\"%datapath\n",
    "image_faintstar = fits.getdata(imageFile)"
   ]
  },
  {
   "cell_type": "markdown",
   "metadata": {},
   "source": [
    "Create a ModelDescription instance based on an imfit configuration file (which specifies a single elliptical Gaussian model):"
   ]
  },
  {
   "cell_type": "code",
   "execution_count": 5,
   "metadata": {
    "ExecuteTime": {
     "end_time": "2020-12-07T19:58:04.305294Z",
     "start_time": "2020-12-07T19:58:04.300932Z"
    },
    "collapsed": true
   },
   "outputs": [],
   "source": [
    "configFile = \"%s/pyimfit_emcee_files/config_imfit_faintstar.dat\"%datapath\n",
    "model_desc = pyimfit.ModelDescription.load(configFile)"
   ]
  },
  {
   "cell_type": "markdown",
   "metadata": {},
   "source": [
    "Alternately, you can create the ModelDescription programmatically from within Python:"
   ]
  },
  {
   "cell_type": "code",
   "execution_count": 6,
   "metadata": {
    "ExecuteTime": {
     "end_time": "2020-12-07T19:58:04.315489Z",
     "start_time": "2020-12-07T19:58:04.307302Z"
    },
    "collapsed": true
   },
   "outputs": [],
   "source": [
    "# create a SimpleModelDescription instance (one function block); specify the x0,y0 center for the function block.\n",
    "model_desc = pyimfit.SimpleModelDescription()\n",
    "# define the X0,Y0 initial guess and limits\n",
    "model_desc.x0.setValue(5.0, [3.0,8.0])\n",
    "model_desc.y0.setValue(6.0, [3.0,8.0])\n",
    "# create a Gaussian image function for the star and set its parameters' initial guesses and limits\n",
    "star_function = pyimfit.make_imfit_function(\"Gaussian\")\n",
    "star_function.PA.setValue(155, [140,170])\n",
    "star_function.ell.setValue(0.1, [0,0.3])\n",
    "star_function.I_0.setValue(250, [220,320])\n",
    "star_function.sigma.setValue(1.0, [0.1,1.5])\n",
    "# now add the image function to the model\n",
    "model_desc.addFunction(star_function)"
   ]
  },
  {
   "cell_type": "markdown",
   "metadata": {},
   "source": [
    "Create an Imfit instance containing the model, and add the image data and image-description info:"
   ]
  },
  {
   "cell_type": "code",
   "execution_count": 7,
   "metadata": {
    "ExecuteTime": {
     "end_time": "2020-12-07T19:58:04.321088Z",
     "start_time": "2020-12-07T19:58:04.317348Z"
    },
    "collapsed": true
   },
   "outputs": [],
   "source": [
    "imfit_fitter = pyimfit.Imfit(model_desc)\n",
    "imfit_fitter.loadData(image_faintstar, gain=4.72, read_noise=1.15, original_sky=124.94)"
   ]
  },
  {
   "cell_type": "markdown",
   "metadata": {},
   "source": [
    "Fit the model to the data (using the default Levenberg-Marquardt solver) and extract the best-fitting parameter values\n",
    "(X0, Y0, PA, ellipticity, I_0, sigma):"
   ]
  },
  {
   "cell_type": "code",
   "execution_count": 8,
   "metadata": {
    "ExecuteTime": {
     "end_time": "2020-12-07T19:58:04.356143Z",
     "start_time": "2020-12-07T19:58:04.322669Z"
    },
    "collapsed": false
   },
   "outputs": [
    {
     "name": "stdout",
     "output_type": "stream",
     "text": [
      "Best-fitting parameter values:\n",
      "5.64339, 6.18794, 155.354, 0.0950157, 268.92, 1.00772\n",
      "\n"
     ]
    }
   ],
   "source": [
    "results = imfit_fitter.doFit(getSummary=True)\n",
    "p_bestfit = results.params\n",
    "\n",
    "print(\"Best-fitting parameter values:\")\n",
    "for i in range(len(p_bestfit) - 1):\n",
    "    print(\"{0:g}\".format(p_bestfit[i]), end=\", \")\n",
    "print(\"{0:g}\\n\".format(p_bestfit[-1]))"
   ]
  },
  {
   "cell_type": "markdown",
   "metadata": {},
   "source": [
    "### Define log-probability functions for use with emcee"
   ]
  },
  {
   "cell_type": "markdown",
   "metadata": {},
   "source": [
    "Emcee requires a function which calculates and returns the log of the posterior probability (using the likelihood and the prior probability).\n",
    "\n",
    "We'll create a general function for this which takes as input the current model parameters, an Imfit instance which can compute the fit statistic for those parameters (= $-2 \\: \\times$ log likelihood) and a user-supplied function for computing the prior; this will return the sum of the log likelihood and the log of the prior:"
   ]
  },
  {
   "cell_type": "code",
   "execution_count": 9,
   "metadata": {
    "ExecuteTime": {
     "end_time": "2020-12-07T19:58:04.366147Z",
     "start_time": "2020-12-07T19:58:04.358581Z"
    },
    "collapsed": true
   },
   "outputs": [],
   "source": [
    "def lnPosterior_for_emcee( params, imfitter, lnPrior_func ):\n",
    "    \"\"\"\n",
    "    Returns log of posterior probability (which is calculated as the\n",
    "    product of the specified prior and the likelihood computed by the\n",
    "    Imfit object using the specified parameter values).\n",
    "    \n",
    "    Parameters\n",
    "    ----------\n",
    "    params : 1D numpy ndarray of float\n",
    "        vector of current parameter values\n",
    "    \n",
    "    imfitter : pyimfit.Imfit instance\n",
    "    \n",
    "    lnPrior_func : function or other callable\n",
    "        Should compute and return log of prior probability\n",
    "        signature = lnPrior_func(parameter_vector, Imfit_instance)\n",
    "    \n",
    "    Returns\n",
    "    -------\n",
    "    logPosterior : float\n",
    "    \"\"\"\n",
    "    lnPrior = lnPrior_func(params, imfitter)\n",
    "    if not np.isfinite(lnPrior):\n",
    "        return -np.inf\n",
    "    # note that Imfit.computeFitStatistic returns -2 log(likelihood)\n",
    "    lnLikelihood = -0.5 * imfitter.computeFitStatistic(params)\n",
    "    return lnPrior + lnLikelihood"
   ]
  },
  {
   "cell_type": "markdown",
   "metadata": {},
   "source": [
    "Now, we'll create a prior-probability function.\n",
    "\n",
    "For simplicity, we'll use the case of constant priors within parameter limits, with the parameter limits obtained from a user-supplied Imfit instance. (But you can make the prior-probability function as complicated as you like.)"
   ]
  },
  {
   "cell_type": "code",
   "execution_count": 10,
   "metadata": {
    "ExecuteTime": {
     "end_time": "2020-12-07T19:58:04.376713Z",
     "start_time": "2020-12-07T19:58:04.368435Z"
    },
    "collapsed": true
   },
   "outputs": [],
   "source": [
    "def lnPrior_limits( params, imfitter ):\n",
    "    \"\"\"\n",
    "    Defines prior-probability distributions as flat within specified limits.\n",
    "    If any parameter is outside the limits, we return -np.inf; otherwise, we\n",
    "    return ln(1.0) = 0 (not strictly speaking a correct probability, but it\n",
    "    works for this case).\n",
    "    \n",
    "    Parameters\n",
    "    ----------\n",
    "    params : 1D numpy ndarray of float\n",
    "    \n",
    "    imfitter : pyimfit.Imfit instance\n",
    "    \n",
    "    Returns\n",
    "    -------\n",
    "    logPrior : float\n",
    "    \"\"\"\n",
    "    parameterLimits = imfitter.getParameterLimits()\n",
    "    if None in parameterLimits:\n",
    "        raise ValueError(\"All parameters must have lower and upper limits.\")\n",
    "    nParams = len(params)\n",
    "    for i in range(nParams):\n",
    "        if params[i] < parameterLimits[i][0] or params[i] > parameterLimits[i][1]:\n",
    "            return -np.inf\n",
    "    return 0.0"
   ]
  },
  {
   "cell_type": "markdown",
   "metadata": {},
   "source": [
    "### Set up and run Markov-Chain Monte Carlo using emcee"
   ]
  },
  {
   "cell_type": "markdown",
   "metadata": {},
   "source": [
    "Import [emcee](https://emcee.readthedocs.io/en/latest/), and also [corner](https://corner.readthedocs.io/en/latest/) (so we can make a nice plot of the results):"
   ]
  },
  {
   "cell_type": "code",
   "execution_count": 11,
   "metadata": {
    "ExecuteTime": {
     "end_time": "2020-12-07T19:58:04.431926Z",
     "start_time": "2020-12-07T19:58:04.379019Z"
    },
    "collapsed": true
   },
   "outputs": [],
   "source": [
    "import emcee\n",
    "import corner"
   ]
  },
  {
   "cell_type": "markdown",
   "metadata": {},
   "source": [
    "Specify the number of dimensions (= number of parameters in the model) and a large number of walkers, then instantiate\n",
    "a standard emcee sampler, using our previously defined posterior function (the Imfit instance containing the data and model and the simple prior function are provided as extra arguments):"
   ]
  },
  {
   "cell_type": "code",
   "execution_count": 12,
   "metadata": {
    "ExecuteTime": {
     "end_time": "2020-12-07T19:58:04.438501Z",
     "start_time": "2020-12-07T19:58:04.433848Z"
    },
    "collapsed": true
   },
   "outputs": [],
   "source": [
    "#ndims, nwalkers = 6, 100\n",
    "ndims, nwalkers = 6, 100\n",
    "sampler = emcee.EnsembleSampler(nwalkers, ndims, lnPosterior_for_emcee, args=(imfit_fitter, lnPrior_limits))"
   ]
  },
  {
   "cell_type": "code",
   "execution_count": 13,
   "metadata": {
    "ExecuteTime": {
     "end_time": "2020-12-07T19:58:04.446813Z",
     "start_time": "2020-12-07T19:58:04.440461Z"
    },
    "collapsed": false
   },
   "outputs": [
    {
     "data": {
      "text/plain": [
       "array([5.64339050e+00, 6.18793826e+00, 1.55354231e+02, 9.50156953e-02,\n",
       "       2.68919573e+02, 1.00771690e+00])"
      ]
     },
     "execution_count": 13,
     "metadata": {},
     "output_type": "execute_result"
    }
   ],
   "source": [
    "p_bestfit"
   ]
  },
  {
   "cell_type": "markdown",
   "metadata": {},
   "source": [
    "Define some initial starting values -- 0.1% Gaussian perturbations around the previously determined best-fit parameters:"
   ]
  },
  {
   "cell_type": "code",
   "execution_count": 14,
   "metadata": {
    "ExecuteTime": {
     "end_time": "2020-12-07T19:58:04.453993Z",
     "start_time": "2020-12-07T19:58:04.448880Z"
    },
    "collapsed": false
   },
   "outputs": [],
   "source": [
    "initial_pos = [p_bestfit * (1 + 0.001*np.random.randn(ndims)) for i in range(nwalkers)]"
   ]
  },
  {
   "cell_type": "markdown",
   "metadata": {},
   "source": [
    "Run the sampler for 500 steps (reset it first, in case we're running this again, to ensure we start anew):"
   ]
  },
  {
   "cell_type": "code",
   "execution_count": 15,
   "metadata": {
    "ExecuteTime": {
     "end_time": "2020-12-07T19:58:04.496800Z",
     "start_time": "2020-12-07T19:58:04.456022Z"
    },
    "collapsed": false,
    "scrolled": false
   },
   "outputs": [
    {
     "name": "stdout",
     "output_type": "stream",
     "text": [
      "emcee: Exception while calling your likelihood function:\n",
      "  params: [5.64566597e+00 6.18735402e+00 1.55410207e+02 9.50860310e-02\n",
      " 2.69413757e+02 1.00697728e+00]\n",
      "  args: (<pyimfit.fitting.Imfit object at 0x11983be10>, <function lnPrior_limits at 0x10d078a60>)\n",
      "  kwargs: {}\n",
      "  exception:\n"
     ]
    },
    {
     "name": "stderr",
     "output_type": "stream",
     "text": [
      "Traceback (most recent call last):\n",
      "  File \"/Users/brettlv/anaconda3/lib/python3.6/site-packages/emcee/ensemble.py\", line 519, in __call__\n",
      "    return self.f(x, *self.args, **self.kwargs)\n",
      "  File \"<ipython-input-9-550f70323869>\", line 26, in lnPosterior_for_emcee\n",
      "    lnLikelihood = -0.5 * imfitter.computeFitStatistic(params)\n",
      "  File \"/Users/brettlv/anaconda3/lib/python3.6/site-packages/pyimfit/fitting.py\", line 642, in computeFitStatistic\n",
      "    raise ValueError(msg)\n",
      "ValueError: Number of input parameters (6) does not equal number of model parameters (2)!\n"
     ]
    },
    {
     "ename": "ValueError",
     "evalue": "Number of input parameters (6) does not equal number of model parameters (2)!",
     "output_type": "error",
     "traceback": [
      "\u001b[0;31m---------------------------------------------------------------------------\u001b[0m",
      "\u001b[0;31mValueError\u001b[0m                                Traceback (most recent call last)",
      "\u001b[0;32m<ipython-input-15-82d2701ae501>\u001b[0m in \u001b[0;36m<module>\u001b[0;34m()\u001b[0m\n\u001b[1;32m      1\u001b[0m \u001b[0;31m#sampler.reset()\u001b[0m\u001b[0;34m\u001b[0m\u001b[0;34m\u001b[0m\u001b[0m\n\u001b[0;32m----> 2\u001b[0;31m \u001b[0mfinal_state\u001b[0m \u001b[0;34m=\u001b[0m \u001b[0msampler\u001b[0m\u001b[0;34m.\u001b[0m\u001b[0mrun_mcmc\u001b[0m\u001b[0;34m(\u001b[0m\u001b[0minitial_pos\u001b[0m\u001b[0;34m,\u001b[0m \u001b[0;36m100\u001b[0m\u001b[0;34m)\u001b[0m\u001b[0;34m\u001b[0m\u001b[0m\n\u001b[0m",
      "\u001b[0;32m/Users/brettlv/anaconda3/lib/python3.6/site-packages/emcee/sampler.py\u001b[0m in \u001b[0;36mrun_mcmc\u001b[0;34m(self, pos0, N, rstate0, lnprob0, **kwargs)\u001b[0m\n\u001b[1;32m    170\u001b[0m \u001b[0;34m\u001b[0m\u001b[0m\n\u001b[1;32m    171\u001b[0m         for results in self.sample(pos0, lnprob0, rstate0, iterations=N,\n\u001b[0;32m--> 172\u001b[0;31m                                    **kwargs):\n\u001b[0m\u001b[1;32m    173\u001b[0m             \u001b[0;32mpass\u001b[0m\u001b[0;34m\u001b[0m\u001b[0m\n\u001b[1;32m    174\u001b[0m \u001b[0;34m\u001b[0m\u001b[0m\n",
      "\u001b[0;32m/Users/brettlv/anaconda3/lib/python3.6/site-packages/emcee/ensemble.py\u001b[0m in \u001b[0;36msample\u001b[0;34m(self, p0, lnprob0, rstate0, blobs0, iterations, thin, storechain, mh_proposal)\u001b[0m\n\u001b[1;32m    196\u001b[0m         \u001b[0mblobs\u001b[0m \u001b[0;34m=\u001b[0m \u001b[0mblobs0\u001b[0m\u001b[0;34m\u001b[0m\u001b[0m\n\u001b[1;32m    197\u001b[0m         \u001b[0;32mif\u001b[0m \u001b[0mlnprob\u001b[0m \u001b[0;32mis\u001b[0m \u001b[0;32mNone\u001b[0m\u001b[0;34m:\u001b[0m\u001b[0;34m\u001b[0m\u001b[0m\n\u001b[0;32m--> 198\u001b[0;31m             \u001b[0mlnprob\u001b[0m\u001b[0;34m,\u001b[0m \u001b[0mblobs\u001b[0m \u001b[0;34m=\u001b[0m \u001b[0mself\u001b[0m\u001b[0;34m.\u001b[0m\u001b[0m_get_lnprob\u001b[0m\u001b[0;34m(\u001b[0m\u001b[0mp\u001b[0m\u001b[0;34m)\u001b[0m\u001b[0;34m\u001b[0m\u001b[0m\n\u001b[0m\u001b[1;32m    199\u001b[0m \u001b[0;34m\u001b[0m\u001b[0m\n\u001b[1;32m    200\u001b[0m         \u001b[0;31m# Check to make sure that the probability function didn't return\u001b[0m\u001b[0;34m\u001b[0m\u001b[0;34m\u001b[0m\u001b[0m\n",
      "\u001b[0;32m/Users/brettlv/anaconda3/lib/python3.6/site-packages/emcee/ensemble.py\u001b[0m in \u001b[0;36m_get_lnprob\u001b[0;34m(self, pos)\u001b[0m\n\u001b[1;32m    380\u001b[0m \u001b[0;34m\u001b[0m\u001b[0m\n\u001b[1;32m    381\u001b[0m         \u001b[0;31m# Run the log-probability calculations (optionally in parallel).\u001b[0m\u001b[0;34m\u001b[0m\u001b[0;34m\u001b[0m\u001b[0m\n\u001b[0;32m--> 382\u001b[0;31m         \u001b[0mresults\u001b[0m \u001b[0;34m=\u001b[0m \u001b[0mlist\u001b[0m\u001b[0;34m(\u001b[0m\u001b[0mM\u001b[0m\u001b[0;34m(\u001b[0m\u001b[0mself\u001b[0m\u001b[0;34m.\u001b[0m\u001b[0mlnprobfn\u001b[0m\u001b[0;34m,\u001b[0m \u001b[0;34m[\u001b[0m\u001b[0mp\u001b[0m\u001b[0;34m[\u001b[0m\u001b[0mi\u001b[0m\u001b[0;34m]\u001b[0m \u001b[0;32mfor\u001b[0m \u001b[0mi\u001b[0m \u001b[0;32min\u001b[0m \u001b[0mrange\u001b[0m\u001b[0;34m(\u001b[0m\u001b[0mlen\u001b[0m\u001b[0;34m(\u001b[0m\u001b[0mp\u001b[0m\u001b[0;34m)\u001b[0m\u001b[0;34m)\u001b[0m\u001b[0;34m]\u001b[0m\u001b[0;34m)\u001b[0m\u001b[0;34m)\u001b[0m\u001b[0;34m\u001b[0m\u001b[0m\n\u001b[0m\u001b[1;32m    383\u001b[0m \u001b[0;34m\u001b[0m\u001b[0m\n\u001b[1;32m    384\u001b[0m         \u001b[0;32mtry\u001b[0m\u001b[0;34m:\u001b[0m\u001b[0;34m\u001b[0m\u001b[0m\n",
      "\u001b[0;32m/Users/brettlv/anaconda3/lib/python3.6/site-packages/emcee/ensemble.py\u001b[0m in \u001b[0;36m__call__\u001b[0;34m(self, x)\u001b[0m\n\u001b[1;32m    517\u001b[0m     \u001b[0;32mdef\u001b[0m \u001b[0m__call__\u001b[0m\u001b[0;34m(\u001b[0m\u001b[0mself\u001b[0m\u001b[0;34m,\u001b[0m \u001b[0mx\u001b[0m\u001b[0;34m)\u001b[0m\u001b[0;34m:\u001b[0m\u001b[0;34m\u001b[0m\u001b[0m\n\u001b[1;32m    518\u001b[0m         \u001b[0;32mtry\u001b[0m\u001b[0;34m:\u001b[0m\u001b[0;34m\u001b[0m\u001b[0m\n\u001b[0;32m--> 519\u001b[0;31m             \u001b[0;32mreturn\u001b[0m \u001b[0mself\u001b[0m\u001b[0;34m.\u001b[0m\u001b[0mf\u001b[0m\u001b[0;34m(\u001b[0m\u001b[0mx\u001b[0m\u001b[0;34m,\u001b[0m \u001b[0;34m*\u001b[0m\u001b[0mself\u001b[0m\u001b[0;34m.\u001b[0m\u001b[0margs\u001b[0m\u001b[0;34m,\u001b[0m \u001b[0;34m**\u001b[0m\u001b[0mself\u001b[0m\u001b[0;34m.\u001b[0m\u001b[0mkwargs\u001b[0m\u001b[0;34m)\u001b[0m\u001b[0;34m\u001b[0m\u001b[0m\n\u001b[0m\u001b[1;32m    520\u001b[0m         \u001b[0;32mexcept\u001b[0m\u001b[0;34m:\u001b[0m\u001b[0;34m\u001b[0m\u001b[0m\n\u001b[1;32m    521\u001b[0m             \u001b[0;32mimport\u001b[0m \u001b[0mtraceback\u001b[0m\u001b[0;34m\u001b[0m\u001b[0m\n",
      "\u001b[0;32m<ipython-input-9-550f70323869>\u001b[0m in \u001b[0;36mlnPosterior_for_emcee\u001b[0;34m(params, imfitter, lnPrior_func)\u001b[0m\n\u001b[1;32m     24\u001b[0m         \u001b[0;32mreturn\u001b[0m \u001b[0;34m-\u001b[0m\u001b[0mnp\u001b[0m\u001b[0;34m.\u001b[0m\u001b[0minf\u001b[0m\u001b[0;34m\u001b[0m\u001b[0m\n\u001b[1;32m     25\u001b[0m     \u001b[0;31m# note that Imfit.computeFitStatistic returns -2 log(likelihood)\u001b[0m\u001b[0;34m\u001b[0m\u001b[0;34m\u001b[0m\u001b[0m\n\u001b[0;32m---> 26\u001b[0;31m     \u001b[0mlnLikelihood\u001b[0m \u001b[0;34m=\u001b[0m \u001b[0;34m-\u001b[0m\u001b[0;36m0.5\u001b[0m \u001b[0;34m*\u001b[0m \u001b[0mimfitter\u001b[0m\u001b[0;34m.\u001b[0m\u001b[0mcomputeFitStatistic\u001b[0m\u001b[0;34m(\u001b[0m\u001b[0mparams\u001b[0m\u001b[0;34m)\u001b[0m\u001b[0;34m\u001b[0m\u001b[0m\n\u001b[0m\u001b[1;32m     27\u001b[0m     \u001b[0;32mreturn\u001b[0m \u001b[0mlnPrior\u001b[0m \u001b[0;34m+\u001b[0m \u001b[0mlnLikelihood\u001b[0m\u001b[0;34m\u001b[0m\u001b[0m\n",
      "\u001b[0;32m/Users/brettlv/anaconda3/lib/python3.6/site-packages/pyimfit/fitting.py\u001b[0m in \u001b[0;36mcomputeFitStatistic\u001b[0;34m(self, newParameters)\u001b[0m\n\u001b[1;32m    640\u001b[0m             \u001b[0mmsg\u001b[0m \u001b[0;34m=\u001b[0m \u001b[0;34m\"Number of input parameters (%d) \"\u001b[0m \u001b[0;34m%\u001b[0m \u001b[0mlen\u001b[0m\u001b[0;34m(\u001b[0m\u001b[0mnewParameters\u001b[0m\u001b[0;34m)\u001b[0m\u001b[0;34m\u001b[0m\u001b[0m\n\u001b[1;32m    641\u001b[0m             \u001b[0mmsg\u001b[0m \u001b[0;34m+=\u001b[0m \u001b[0;34m\"does not equal number of model parameters (%d)!\"\u001b[0m \u001b[0;34m%\u001b[0m \u001b[0mself\u001b[0m\u001b[0;34m.\u001b[0m\u001b[0mnParameters\u001b[0m\u001b[0;34m\u001b[0m\u001b[0m\n\u001b[0;32m--> 642\u001b[0;31m             \u001b[0;32mraise\u001b[0m \u001b[0mValueError\u001b[0m\u001b[0;34m(\u001b[0m\u001b[0mmsg\u001b[0m\u001b[0;34m)\u001b[0m\u001b[0;34m\u001b[0m\u001b[0m\n\u001b[0m\u001b[1;32m    643\u001b[0m         \u001b[0;32mif\u001b[0m \u001b[0;32mnot\u001b[0m \u001b[0misinstance\u001b[0m\u001b[0;34m(\u001b[0m\u001b[0mnewParameters\u001b[0m\u001b[0;34m,\u001b[0m \u001b[0mnp\u001b[0m\u001b[0;34m.\u001b[0m\u001b[0mndarray\u001b[0m\u001b[0;34m)\u001b[0m\u001b[0;34m:\u001b[0m\u001b[0;34m\u001b[0m\u001b[0m\n\u001b[1;32m    644\u001b[0m             \u001b[0mnewParams\u001b[0m \u001b[0;34m=\u001b[0m \u001b[0mnp\u001b[0m\u001b[0;34m.\u001b[0m\u001b[0marray\u001b[0m\u001b[0;34m(\u001b[0m\u001b[0mnewParameters\u001b[0m\u001b[0;34m)\u001b[0m\u001b[0;34m.\u001b[0m\u001b[0mastype\u001b[0m\u001b[0;34m(\u001b[0m\u001b[0mnp\u001b[0m\u001b[0;34m.\u001b[0m\u001b[0mfloat64\u001b[0m\u001b[0;34m)\u001b[0m\u001b[0;34m\u001b[0m\u001b[0m\n",
      "\u001b[0;31mValueError\u001b[0m: Number of input parameters (6) does not equal number of model parameters (2)!"
     ]
    }
   ],
   "source": [
    "#sampler.reset()\n",
    "final_state = sampler.run_mcmc(initial_pos, 100)"
   ]
  },
  {
   "cell_type": "markdown",
   "metadata": {},
   "source": [
    "Plot values from all the walkers versus step number to get an idea of where convergence might happend\n",
    "(here, we just plot the ellipticity and I_0 values):"
   ]
  },
  {
   "cell_type": "code",
   "execution_count": null,
   "metadata": {
    "ExecuteTime": {
     "end_time": "2020-12-07T19:58:04.497444Z",
     "start_time": "2020-12-07T11:58:04.301Z"
    },
    "collapsed": false
   },
   "outputs": [],
   "source": [
    "def PlotAllWalkers( sample_chain, parameterIndex, yAxisLabel ):\n",
    "    nWalkers = sample_chain.shape[0]\n",
    "    for i in range(nWalkers):\n",
    "        plot(sample_chain[i,:,parameterIndex], color='0.5')\n",
    "    xlabel('Step number')\n",
    "    ylabel(yAxisLabel)\n",
    "\n",
    "PlotAllWalkers(sampler.chain, 3, 'ellipticity')"
   ]
  },
  {
   "cell_type": "code",
   "execution_count": null,
   "metadata": {
    "ExecuteTime": {
     "end_time": "2020-12-07T19:58:04.497769Z",
     "start_time": "2020-12-07T11:58:04.303Z"
    },
    "collapsed": false
   },
   "outputs": [],
   "source": [
    "PlotAllWalkers(sampler.chain, 4, 'I_0')"
   ]
  },
  {
   "cell_type": "markdown",
   "metadata": {},
   "source": [
    "Define the \"converged\" subset of the chains as step numbers $\\ge 200$, and merge all the individual walkers:"
   ]
  },
  {
   "cell_type": "code",
   "execution_count": null,
   "metadata": {
    "ExecuteTime": {
     "end_time": "2020-12-07T19:58:04.498071Z",
     "start_time": "2020-12-07T11:58:04.428Z"
    },
    "collapsed": false
   },
   "outputs": [],
   "source": [
    "converged_samples = sampler.chain[:, 200:, :].reshape((-1, ndims))\n",
    "print(\"Number of samples in \\\"converged\\\" chain = {0}\".format(len(converged_samples)))"
   ]
  },
  {
   "cell_type": "markdown",
   "metadata": {},
   "source": [
    "### Corner plot of converged MCMC samples"
   ]
  },
  {
   "cell_type": "markdown",
   "metadata": {},
   "source": [
    "Define some nice labels and parameter ranges for the corner plot:"
   ]
  },
  {
   "cell_type": "code",
   "execution_count": 16,
   "metadata": {
    "ExecuteTime": {
     "end_time": "2020-12-07T19:58:04.639328Z",
     "start_time": "2020-12-07T19:58:04.634275Z"
    },
    "collapsed": true
   },
   "outputs": [],
   "source": [
    "cornerLabels = [r\"$X_{0}$\", r\"$Y_{0}$\", \"PA\", \"ell\", r\"$I_{0}$\", r\"$\\sigma$\"] \n",
    "\n",
    "x0_range = (5.55, 5.73)\n",
    "y0_range = (6.09, 6.29)\n",
    "pa_range = (138,173)\n",
    "ell_range = (0, 0.2)\n",
    "i0_range = (240,300)\n",
    "sigma_range = (0.92, 1.1)\n",
    "ranges = [x0_range, y0_range, pa_range, ell_range, i0_range, sigma_range]"
   ]
  },
  {
   "cell_type": "markdown",
   "metadata": {},
   "source": [
    "Make a corner plot; the thin blue lines/points indicate best-fit values from above. [Note that we have to explicitly capture the Figure instance returned by corner.corner, otherwise we'll get a duplicate display of the plot]:"
   ]
  },
  {
   "cell_type": "code",
   "execution_count": 17,
   "metadata": {
    "ExecuteTime": {
     "end_time": "2020-12-07T19:58:04.734279Z",
     "start_time": "2020-12-07T19:58:04.725617Z"
    },
    "collapsed": false,
    "scrolled": false
   },
   "outputs": [
    {
     "ename": "NameError",
     "evalue": "name 'converged_samples' is not defined",
     "output_type": "error",
     "traceback": [
      "\u001b[0;31m---------------------------------------------------------------------------\u001b[0m",
      "\u001b[0;31mNameError\u001b[0m                                 Traceback (most recent call last)",
      "\u001b[0;32m<ipython-input-17-1fab0b1ba943>\u001b[0m in \u001b[0;36m<module>\u001b[0;34m()\u001b[0m\n\u001b[0;32m----> 1\u001b[0;31m \u001b[0mfig\u001b[0m \u001b[0;34m=\u001b[0m \u001b[0mcorner\u001b[0m\u001b[0;34m.\u001b[0m\u001b[0mcorner\u001b[0m\u001b[0;34m(\u001b[0m\u001b[0mconverged_samples\u001b[0m\u001b[0;34m,\u001b[0m \u001b[0mlabels\u001b[0m\u001b[0;34m=\u001b[0m\u001b[0mcornerLabels\u001b[0m\u001b[0;34m,\u001b[0m \u001b[0mrange\u001b[0m\u001b[0;34m=\u001b[0m\u001b[0mranges\u001b[0m\u001b[0;34m,\u001b[0m \u001b[0mtruths\u001b[0m\u001b[0;34m=\u001b[0m\u001b[0mp_bestfit\u001b[0m\u001b[0;34m)\u001b[0m\u001b[0;34m\u001b[0m\u001b[0m\n\u001b[0m",
      "\u001b[0;31mNameError\u001b[0m: name 'converged_samples' is not defined"
     ]
    }
   ],
   "source": [
    "fig = corner.corner(converged_samples, labels=cornerLabels, range=ranges, truths=p_bestfit)"
   ]
  },
  {
   "cell_type": "markdown",
   "metadata": {},
   "source": [
    "One thing to notice is that the PA values are running up against our (rather narrow) limits for that parameter, so a next step might be to re-run this with larger PA limits."
   ]
  }
 ],
 "metadata": {
  "kernelspec": {
   "display_name": "Python 3",
   "language": "python",
   "name": "python3"
  },
  "language_info": {
   "codemirror_mode": {
    "name": "ipython",
    "version": 3
   },
   "file_extension": ".py",
   "mimetype": "text/x-python",
   "name": "python",
   "nbconvert_exporter": "python",
   "pygments_lexer": "ipython3",
   "version": "3.6.0"
  },
  "latex_envs": {
   "LaTeX_envs_menu_present": true,
   "autocomplete": true,
   "bibliofile": "biblio.bib",
   "cite_by": "apalike",
   "current_citInitial": 1,
   "eqLabelWithNumbers": true,
   "eqNumInitial": 1,
   "hotkeys": {
    "equation": "Ctrl-E",
    "itemize": "Ctrl-I"
   },
   "labels_anchors": false,
   "latex_user_defs": false,
   "report_style_numbering": false,
   "user_envs_cfg": false
  },
  "toc": {
   "nav_menu": {
    "height": "99px",
    "width": "252px"
   },
   "number_sections": false,
   "sideBar": true,
   "skip_h1_title": false,
   "toc_cell": false,
   "toc_position": {},
   "toc_section_display": "none",
   "toc_window_display": false
  }
 },
 "nbformat": 4,
 "nbformat_minor": 2
}
