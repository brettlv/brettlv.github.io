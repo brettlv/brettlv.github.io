{
 "cells": [
  {
   "cell_type": "code",
   "execution_count": 1,
   "metadata": {
    "ExecuteTime": {
     "end_time": "2017-12-20T10:06:48.452400Z",
     "start_time": "2017-12-20T10:06:27.209559Z"
    },
    "code_folding": [],
    "collapsed": false,
    "scrolled": false
   },
   "outputs": [
    {
     "name": "stdout",
     "output_type": "stream",
     "text": [
      "New submissions for Wed, 20 Dec 17\n"
     ]
    }
   ],
   "source": [
    "from urllib.request import urlretrieve\n",
    "from urllib.request import urlopen\n",
    "from bs4 import BeautifulSoup \n",
    "import numpy as np\n",
    "import pandas as pd\n",
    "import urllib\n",
    "import re\n",
    "import os\n",
    "\n",
    "'''\n",
    "ref:http://m.blog.csdn.net/yuliumt/article/details/78783418\n",
    "author:liuyu\n",
    "'''\n",
    "\n",
    "\n",
    "html = urlopen(\"https://arxiv.org/list/astro-ph/new\")\n",
    "bsObj = BeautifulSoup(html, \"lxml\")\n",
    "\n",
    "dateline = bsObj.find(\"h3\")  \n",
    "print(dateline.get_text()) #date\n",
    "\n",
    "year = '20' + dateline.get_text().split(' ')[-1] + '/'\n",
    "month = dateline.get_text().split(' ')[-2] + '/'\n",
    "day=  dateline.get_text().split(' ')[-3] + '/'\n",
    "week= dateline.get_text().split(' ')[-4] + '/'\n",
    "path = '/Users/brettlv/ArXiv/' + year + month\n",
    "\n",
    "\n",
    "\n",
    "\n",
    "\n"
   ]
  },
  {
   "cell_type": "code",
   "execution_count": null,
   "metadata": {
    "ExecuteTime": {
     "end_time": "2017-12-20T10:03:51.414427Z",
     "start_time": "2017-12-20T10:03:51.387169Z"
    },
    "collapsed": false
   },
   "outputs": [],
   "source": [
    "print(year,month,day,week)"
   ]
  },
  {
   "cell_type": "code",
   "execution_count": 90,
   "metadata": {
    "ExecuteTime": {
     "end_time": "2017-12-20T10:55:22.476877Z",
     "start_time": "2017-12-20T10:55:22.404722Z"
    },
    "collapsed": false
   },
   "outputs": [
    {
     "name": "stdout",
     "output_type": "stream",
     "text": [
      "Dhruv_Pathak__\n",
      "Ido_Reiss__\n",
      "Olivia_C._Jones__\n",
      "Kyrylo_Bondarenko__\n",
      "D._J._K._Buisson__\n",
      "Paula_Tarrío__\n",
      "D._A._Frail__\n",
      "Kameswara_Bharadwaj_Mantha__\n",
      "Hitomi_Collaboration__\n",
      "Matthew_R._Buckley__\n"
     ]
    }
   ],
   "source": [
    "authorList = bsObj.findAll(\"div\", {\"class\":\"list-authors\"})  \n",
    "for author in authorList[:10]:  \n",
    "    authorname=(author.get_text())\n",
    "    namelist= authorname.split('\\n')\n",
    "    firstauthor=namelist[2].replace(',','_')\n",
    "    firstauthor=firstauthor.replace(' ','_')\n",
    "    firstauthor=firstauthor.replace(':','_')\n",
    "    print(firstauthor)\n",
    "    "
   ]
  },
  {
   "cell_type": "code",
   "execution_count": null,
   "metadata": {
    "ExecuteTime": {
     "end_time": "2017-12-20T10:38:14.692316Z",
     "start_time": "2017-12-20T10:38:14.687280Z"
    },
    "collapsed": false
   },
   "outputs": [],
   "source": []
  },
  {
   "cell_type": "code",
   "execution_count": 12,
   "metadata": {
    "ExecuteTime": {
     "end_time": "2017-12-20T10:19:48.972852Z",
     "start_time": "2017-12-20T10:19:48.876560Z"
    },
    "collapsed": false
   },
   "outputs": [
    {
     "name": "stdout",
     "output_type": "stream",
     "text": [
      "arXiv:1712.06590 [pdf, ps, other]\n",
      "arXiv:1712.06591 [pdf, ps, other]\n",
      "arXiv:1712.06594 [pdf, ps, other]\n",
      "arXiv:1712.06602 [pdf, other]\n",
      "arXiv:1712.06606 [pdf, ps, other]\n",
      "arXiv:1712.06607 [pdf, other]\n",
      "arXiv:1712.06609 [pdf, other]\n",
      "arXiv:1712.06611 [pdf, other]\n",
      "arXiv:1712.06612 [pdf, ps, other]\n",
      "arXiv:1712.06615 [pdf, other]\n",
      "arXiv:1712.06616 [pdf, ps, other]\n",
      "arXiv:1712.06618 [pdf]\n",
      "arXiv:1712.06619 [pdf, other]\n",
      "arXiv:1712.06635 [pdf, other]\n",
      "arXiv:1712.06636 [pdf, other]\n",
      "arXiv:1712.06637 [pdf]\n",
      "arXiv:1712.06638 [pdf]\n",
      "arXiv:1712.06639 [pdf, other]\n",
      "arXiv:1712.06642 [pdf, other]\n",
      "arXiv:1712.06650 [pdf, ps, other]\n",
      "arXiv:1712.06661 [pdf, other]\n",
      "arXiv:1712.06668 [pdf, ps, other]\n",
      "arXiv:1712.06673 [pdf, other]\n",
      "arXiv:1712.06684 [pdf, other]\n",
      "arXiv:1712.06696 [pdf, other]\n",
      "arXiv:1712.06708 [pdf, other]\n",
      "arXiv:1712.06721 [pdf, ps, other]\n",
      "arXiv:1712.06753 [pdf, other]\n",
      "arXiv:1712.06771 [pdf, other]\n",
      "arXiv:1712.06774 [pdf, other]\n",
      "arXiv:1712.06777 [pdf, ps, other]\n",
      "arXiv:1712.06781 [pdf, other]\n",
      "arXiv:1712.06783 [pdf, ps, other]\n",
      "arXiv:1712.06799 [pdf, ps, other]\n",
      "arXiv:1712.06808 [pdf, ps, other]\n",
      "arXiv:1712.06828 [pdf]\n",
      "arXiv:1712.06829 [pdf]\n",
      "arXiv:1712.06852 [pdf, other]\n",
      "arXiv:1712.06869 [pdf, other]\n",
      "arXiv:1712.06881 [pdf, ps, other]\n",
      "arXiv:1712.06885 [pdf, other]\n",
      "arXiv:1712.06887 [pdf, other]\n",
      "arXiv:1712.06900 [pdf, ps, other]\n",
      "arXiv:1712.06902 [pdf, other]\n",
      "arXiv:1712.06912 [pdf, other]\n",
      "arXiv:1712.06913 [pdf, other]\n",
      "arXiv:1712.06915 [pdf, ps, other]\n",
      "arXiv:1712.06917 [pdf, ps, other]\n",
      "arXiv:1712.06942 [pdf]\n",
      "arXiv:1712.06948 [pdf, other]\n",
      "arXiv:1712.06950 [pdf, other]\n",
      "arXiv:1712.06955 [pdf, other]\n",
      "arXiv:1712.06960 [pdf, ps, other]\n",
      "arXiv:1712.06965 [pdf, other]\n",
      "arXiv:1712.06967 [pdf, ps, other]\n",
      "arXiv:1712.06972 [pdf]\n",
      "arXiv:1712.06984 [pdf, other]\n",
      "arXiv:1712.06986 [pdf, ps, other]\n",
      "arXiv:1712.06987 [pdf, other]\n",
      "arXiv:1712.06990 [pdf, ps, other]\n",
      "arXiv:1712.07005 [pdf, other]\n",
      "arXiv:1712.07006 [pdf, ps, other]\n",
      "arXiv:1712.07014 [pdf, other]\n",
      "arXiv:1712.07049 [pdf, other]\n",
      "arXiv:1712.07058 [pdf, other]\n",
      "arXiv:1712.07059 [pdf, other]\n",
      "arXiv:1712.07070 [pdf, other]\n",
      "arXiv:1712.07077 [pdf, ps, other]\n",
      "arXiv:1712.07109 [pdf, other]\n",
      "arXiv:1712.07112 [pdf, ps, other]\n",
      "arXiv:1712.04522 (cross-list from gr-qc) [pdf, other]\n",
      "arXiv:1712.06588 (cross-list from hep-ph) [pdf, ps, other]\n",
      "arXiv:1712.06598 (cross-list from hep-ph) [pdf, other]\n",
      "arXiv:1712.06601 (cross-list from gr-qc) [pdf, other]\n",
      "arXiv:1712.06624 (cross-list from hep-th) [pdf, other]\n",
      "arXiv:1712.06626 (cross-list from hep-th) [pdf, other]\n",
      "arXiv:1712.06644 (cross-list from hep-ph) [pdf, other]\n",
      "arXiv:1712.06667 (cross-list from gr-qc) [pdf, ps, other]\n",
      "arXiv:1712.06735 (cross-list from nucl-th) [pdf, other]\n",
      "arXiv:1712.06985 (cross-list from hep-ph) [pdf, ps, other]\n",
      "arXiv:1712.07013 (cross-list from hep-ph) [pdf, other]\n",
      "arXiv:1712.07066 (cross-list from hep-th) [pdf, other]\n",
      "arXiv:1712.07071 (cross-list from hep-ph) [pdf, other]\n",
      "arXiv:1410.2250 (replaced) [pdf, other]\n",
      "arXiv:1607.01380 (replaced) [pdf, ps, other]\n",
      "arXiv:1610.00008 (replaced) [pdf, other]\n",
      "arXiv:1611.09787 (replaced) [pdf, other]\n",
      "arXiv:1611.09892 (replaced) [pdf, other]\n",
      "arXiv:1703.04412 (replaced) [pdf, other]\n",
      "arXiv:1704.08942 (replaced) [pdf, other]\n",
      "arXiv:1706.02736 (replaced) [pdf, other]\n",
      "arXiv:1706.09191 (replaced) [pdf, other]\n",
      "arXiv:1706.09701 (replaced) [pdf, ps, other]\n",
      "arXiv:1706.09971 (replaced) [pdf, other]\n",
      "arXiv:1707.07019 (replaced) [pdf, other]\n",
      "arXiv:1709.01246 (replaced) [pdf, other]\n",
      "arXiv:1709.04890 (replaced) [pdf, other]\n",
      "arXiv:1710.02498 (replaced) [pdf]\n",
      "arXiv:1710.05448 (replaced) [pdf, other]\n",
      "arXiv:1710.05893 (replaced) [pdf, other]\n",
      "arXiv:1710.06352 (replaced) [pdf, ps, other]\n",
      "arXiv:1710.09818 (replaced) [pdf, other]\n",
      "arXiv:1711.04589 (replaced) [pdf, other]\n",
      "arXiv:1711.05180 (replaced) [pdf, ps, other]\n",
      "arXiv:1711.07282 (replaced) [pdf, other]\n",
      "arXiv:1711.09108 (replaced) [pdf, ps, other]\n",
      "arXiv:1711.11465 (replaced) [pdf, ps, other]\n",
      "arXiv:1712.00370 (replaced) [pdf, other]\n",
      "arXiv:1712.02129 (replaced) [pdf, other]\n",
      "arXiv:1712.04261 (replaced) [pdf, other]\n",
      "arXiv:1712.04510 (replaced) [pdf, ps, other]\n",
      "arXiv:1712.05143 (replaced) [pdf, ps, other]\n",
      "arXiv:1712.05502 (replaced) [pdf, ps, other]\n",
      "arXiv:1712.05599 (replaced) [pdf, ps, other]\n",
      "arXiv:1712.05828 (replaced) [pdf, other]\n",
      "arXiv:1712.05836 (replaced) [pdf, other]\n",
      "arXiv:1712.05964 (replaced) [pdf, ps, other]\n",
      "arXiv:1712.05992 (replaced) [pdf, other]\n",
      "arXiv:1712.06003 (replaced) [pdf, other]\n",
      "arXiv:1712.06291 (replaced) [pdf, other]\n",
      "arXiv:1712.06313 (replaced) [pdf, other]\n",
      "arXiv:1712.06500 (replaced) [pdf, other]\n"
     ]
    }
   ],
   "source": [
    "articleList = bsObj.findAll(\"span\", {\"class\":\"list-identifier\"})  \n",
    "for article in articleList:  \n",
    "    print(article.get_text())  \n"
   ]
  },
  {
   "cell_type": "code",
   "execution_count": 22,
   "metadata": {
    "ExecuteTime": {
     "end_time": "2017-12-20T10:21:37.465152Z",
     "start_time": "2017-12-20T10:21:37.394670Z"
    },
    "collapsed": false
   },
   "outputs": [
    {
     "name": "stdout",
     "output_type": "stream",
     "text": [
      "GalDynPsr: A package to estimate dynamical contributions in the rate of  change of the period of radio pulsars\n",
      "\n"
     ]
    }
   ],
   "source": [
    "titleList = bsObj.findAll(\"div\", {\"class\":\"list-title mathjax\"})  \n",
    "for title in titleList[:1]:\n",
    "    #continue\n",
    "    print(title.get_text()[8:])"
   ]
  },
  {
   "cell_type": "code",
   "execution_count": 15,
   "metadata": {
    "ExecuteTime": {
     "end_time": "2017-12-20T10:20:30.730025Z",
     "start_time": "2017-12-20T10:20:30.725248Z"
    },
    "code_folding": [],
    "collapsed": false
   },
   "outputs": [
    {
     "ename": "IndentationError",
     "evalue": "expected an indented block (<ipython-input-15-eb6ebff5a9c7>, line 4)",
     "output_type": "error",
     "traceback": [
      "\u001b[0;36m  File \u001b[0;32m\"<ipython-input-15-eb6ebff5a9c7>\"\u001b[0;36m, line \u001b[0;32m4\u001b[0m\n\u001b[0;31m    continue\u001b[0m\n\u001b[0m           ^\u001b[0m\n\u001b[0;31mIndentationError\u001b[0m\u001b[0;31m:\u001b[0m expected an indented block\n"
     ]
    }
   ],
   "source": [
    "    \n"
   ]
  },
  {
   "cell_type": "code",
   "execution_count": null,
   "metadata": {
    "ExecuteTime": {
     "end_time": "2017-12-20T08:46:24.042067Z",
     "start_time": "2017-12-20T08:46:23.967136Z"
    },
    "collapsed": false
   },
   "outputs": [],
   "source": [
    "abstracts=bsObj.findAll(\"p\", {\"class\":\"mathjax\"}) \n",
    "for abstract in abstracts: \n",
    "    continue\n",
    "    #print(abstract.get_text()) \n",
    "\n",
    " "
   ]
  },
  {
   "cell_type": "code",
   "execution_count": null,
   "metadata": {
    "collapsed": true
   },
   "outputs": [],
   "source": [
    "for pdflink in bsObj.findAll(\"a\", {\"title\":\"Download PDF\"}):  \n",
    "    if \"href\" in pdflink.attrs:  \n",
    "        print(pdflink.attrs['href'])"
   ]
  },
  {
   "cell_type": "code",
   "execution_count": null,
   "metadata": {
    "ExecuteTime": {
     "end_time": "2017-12-20T09:12:20.320075Z",
     "start_time": "2017-12-20T09:09:57.806097Z"
    },
    "collapsed": false
   },
   "outputs": [],
   "source": [
    "# 判断是否下载pdf文件：\n",
    "def decide(title, abstract, regular):\n",
    "    s1 = re.search(regular, str(title.get_text()))\n",
    "    s2 = re.search(regular, str(abstract.get_text()))\n",
    "    if s1 is not None:\n",
    "        return True\n",
    "    elif s2 is not None:\n",
    "        return True\n",
    "    else:\n",
    "        return False\n",
    "\n",
    "# 无输入用默认\n",
    "regular = input(\"input regular expression:\")\n",
    "if regular == '':\n",
    "    regular = \"GW|chandra|vla|VLA|Chandra\"\n",
    "\n",
    "# 将pdf保存到path路径下：\n",
    "#dateline = bsObj.find(\"h3\")\n",
    "\n",
    "# 若没有此路径，创建一个路径：\n",
    "isExists = os.path.exists(path)\n",
    "if not isExists:\n",
    "    os.makedirs(path)\n",
    "\n",
    "titleList = bsObj.findAll(\"div\", {\"class\":\"list-title mathjax\"})\n",
    "for title in titleList:\n",
    "    abstract = title.parent.find(\"p\", {\"class\":\"mathjax\"})\n",
    "    if abstract is not None:\n",
    "        if decide(title, abstract, regular):      # 判断是否下载到本地\n",
    "            download = title.parent.parent.previous_sibling.previous_sibling.find(\"a\", {\"title\":\"Download PDF\"}).attrs['href']\n",
    "            fileUrl = 'https://arxiv.org' + download\n",
    "            savePath = path + download[5:] + '.pdf'\n",
    "            if os.path.isfile(savePath):\n",
    "                os.remove(savePath)             # 覆盖原文件\n",
    "            urlretrieve(fileUrl, savePath)\n",
    "            print('%s is done!' %title.get_text())\n",
    "print('Finished')"
   ]
  },
  {
   "cell_type": "code",
   "execution_count": null,
   "metadata": {
    "collapsed": true
   },
   "outputs": [],
   "source": []
  }
 ],
 "metadata": {
  "kernelspec": {
   "display_name": "Python 3",
   "language": "python",
   "name": "python3"
  },
  "language_info": {
   "codemirror_mode": {
    "name": "ipython",
    "version": 3
   },
   "file_extension": ".py",
   "mimetype": "text/x-python",
   "name": "python",
   "nbconvert_exporter": "python",
   "pygments_lexer": "ipython3",
   "version": "3.6.0"
  },
  "latex_envs": {
   "LaTeX_envs_menu_present": true,
   "autocomplete": true,
   "bibliofile": "biblio.bib",
   "cite_by": "apalike",
   "current_citInitial": 1,
   "eqLabelWithNumbers": true,
   "eqNumInitial": 1,
   "hotkeys": {
    "equation": "Ctrl-E",
    "itemize": "Ctrl-I"
   },
   "labels_anchors": false,
   "latex_user_defs": false,
   "report_style_numbering": false,
   "user_envs_cfg": false
  },
  "toc": {
   "nav_menu": {},
   "number_sections": true,
   "sideBar": true,
   "skip_h1_title": false,
   "toc_cell": false,
   "toc_position": {},
   "toc_section_display": "block",
   "toc_window_display": false
  }
 },
 "nbformat": 4,
 "nbformat_minor": 2
}
