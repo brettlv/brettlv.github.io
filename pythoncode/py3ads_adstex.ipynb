{
 "cells": [
  {
   "cell_type": "code",
   "execution_count": 1,
   "metadata": {
    "ExecuteTime": {
     "end_time": "2019-07-03T11:05:25.857970Z",
     "start_time": "2019-07-03T11:05:25.038741Z"
    },
    "collapsed": true
   },
   "outputs": [],
   "source": [
    "import ads"
   ]
  },
  {
   "cell_type": "code",
   "execution_count": 2,
   "metadata": {
    "ExecuteTime": {
     "end_time": "2019-07-03T11:23:59.689611Z",
     "start_time": "2019-07-03T11:23:59.655234Z"
    },
    "collapsed": true
   },
   "outputs": [],
   "source": [
    "ads.config.token='bX9G1oehABACYywsa6qKCu9bNb1E9FycyJfqMAou'\n",
    "ADS_API_TOKEN='bX9G1oehABACYywsa6qKCu9bNb1E9FycyJfqMAou'"
   ]
  },
  {
   "cell_type": "code",
   "execution_count": 5,
   "metadata": {
    "ExecuteTime": {
     "end_time": "2019-07-03T11:24:22.082782Z",
     "start_time": "2019-07-03T11:24:22.076737Z"
    },
    "collapsed": true
   },
   "outputs": [],
   "source": [
    "papers=ads.SearchQuery(q='Changing look AGN',sort='citation_count')"
   ]
  },
  {
   "cell_type": "code",
   "execution_count": 6,
   "metadata": {
    "ExecuteTime": {
     "end_time": "2019-07-03T11:24:26.284361Z",
     "start_time": "2019-07-03T11:24:23.160647Z"
    },
    "collapsed": false
   },
   "outputs": [
    {
     "name": "stdout",
     "output_type": "stream",
     "text": [
      "['The Man behind the Curtain: X-Rays Drive the UV through NIR Variability in the 2013 Active Galactic Nucleus Outburst in NGC 2617']\n",
      "['The Ionized Gas and Nuclear Environment in NGC 3783. IV. Variability and Modeling of the 900 Kilosecond Chandra Spectrum']\n",
      "['The Discovery of the First “Changing Look” Quasar: New Insights Into the Physics and Phenomenology of Active Galactic Nucleus']\n",
      "['Changing look: from Compton-thick to Compton-thin, or the rebirth of fossil active galactic nuclei']\n",
      "['A systematic search for changing-look quasars in SDSS']\n",
      "['The Typecasting of Active Galactic Nuclei: Mrk 590 no Longer Fits the Role']\n",
      "['Redshifts from Spitzer Spectra for Optically Faint Radio-selected Infrared Sources']\n",
      "['RE J1034+396: the origin of the soft X-ray excess and quasi-periodic oscillation']\n",
      "['Thick Compton-heated media : a solution for the Fe II problem in active galactic nuclei ?']\n",
      "['The Lyman continuum escape fraction of galaxies at z = 3.3 in the VUDS-LBC/COSMOS field']\n",
      "['A search for changing-look AGN in the Grossan catalog']\n",
      "['Chandra monitoring of UGC 4203: the structure of the X-ray absorber']\n",
      "['A tidal disruption flare in a massive galaxy? Implications for the fuelling mechanisms of nuclear black holes']\n",
      "['The Close AGN Reference Survey (CARS). Mrk 1018 returns to the shadows after 30 years as a Seyfert 1']\n",
      "['IC 751: A New Changing Look AGN Discovered by NuSTAR']\n",
      "['A simple disc wind model for broad absorption line quasars']\n",
      "[\"X-ray spectral variability in PG 1535+547: the changing look of a ``soft X-ray weak'' AGN\"]\n",
      "['Discovery of 21 New Changing-look AGNs in the Northern Sky']\n",
      "['A Mid-IR Selected Changing-look Quasar and Physical Scenarios for Abrupt AGN Fading']\n",
      "['Reverberation Mapping of Optical Emission Lines in Five Active Galaxies']\n",
      "['Optical Spectroscopic Observations of Gamma-ray Blazar Candidates. V. TNG, KPNO, and OAN Observations of Blazar Candidates of Uncertain Type in the Northern Hemisphere']\n",
      "[\"NGC 454: unveiling a new 'changing look' active galactic nucleus\"]\n",
      "['The WISE AGN Catalog']\n",
      "['NGC 1365: A Low Column Density State Unveiling a Low Ionization Disk Wind']\n",
      "['On the dust geometry in radio-loud active galactic nuclei']\n",
      "['X-ray spectral variability of Seyfert 2 galaxies']\n",
      "['Quasar Variability and Gravitational Microlensing']\n",
      "[\"The Close AGN Reference Survey (CARS). What is causing Mrk 1018's return to the shadows after 30 years?\"]\n",
      "['Explaining changing-look AGN with state transition triggered by rapid mass accretion rate drop']\n",
      "['Broad Hβ Emission-line Variability in a Sample of 102 Local Active Galaxies']\n",
      "['The Imperial IRAS-FSC Redshift Catalogue: luminosity functions, evolution and galaxy bias']\n",
      "['OGLE16aaa - a signature of a hungry supermassive black hole']\n",
      "['Light breeze in the local Universe']\n",
      "['The detection and X-ray view of the changing look AGN HE 1136-2304']\n",
      "['Mid-infrared Variability of Changing-look AGNs']\n",
      "['Radio Variability in Radio-Quiet Quasars and Low-Luminosity AGN']\n",
      "['The curtain remains open: NGC 2617 continues in a high state']\n",
      "['Insights into Galaxy Evolution from Mid-infrared Wavelengths']\n",
      "['Changing-look Quasar Candidates: First Results from Follow-up Spectroscopy of Highly Optically Variable Quasars']\n",
      "[\"Modelling the X-ray polarimetric signatures of complex geometry: the case study of the `changing look' active galactic nucleus NGC 1365\"]\n",
      "['Have all Questions been Asked - Variability of Active Galaxies']\n",
      "['Galaxy and Mass Assembly (GAMA): merging galaxies and their properties']\n",
      "['ALMA probes the molecular gas reservoirs in the changing-look Seyfert galaxy Mrk 590']\n",
      "['The Extremes of AGN Variability']\n",
      "['Clumpy stellar winds and the obscuration of active galactic nuclei']\n",
      "['Parsec-scale radio morphology and variability of a changing-look AGN: the case of Mrk 590']\n",
      "['The Close AGN Reference Survey (CARS)']\n",
      "['OMEGA - OSIRIS Mapping of Emission-line Galaxies in A901/2 - III. Galaxy properties across projected phase space in A901/2']\n",
      "['The Changing-look Quasar Mrk 590 Is Awakening']\n",
      "['Unveiling the physics behind the spectral variations of changing-look quasars with optical polarimetry']\n"
     ]
    }
   ],
   "source": [
    "for paper in papers:\n",
    "    print(paper.title)"
   ]
  },
  {
   "cell_type": "code",
   "execution_count": 1,
   "metadata": {
    "ExecuteTime": {
     "end_time": "2019-08-20T16:47:02.118745Z",
     "start_time": "2019-08-20T16:47:00.998276Z"
    },
    "collapsed": true
   },
   "outputs": [],
   "source": [
    "import adstex"
   ]
  },
  {
   "cell_type": "code",
   "execution_count": 2,
   "metadata": {
    "ExecuteTime": {
     "end_time": "2019-08-20T16:47:03.401750Z",
     "start_time": "2019-08-20T16:47:03.396938Z"
    },
    "collapsed": false
   },
   "outputs": [],
   "source": [
    "?adstex"
   ]
  },
  {
   "cell_type": "code",
   "execution_count": null,
   "metadata": {
    "collapsed": true
   },
   "outputs": [],
   "source": []
  }
 ],
 "metadata": {
  "kernelspec": {
   "display_name": "Python 3",
   "language": "python",
   "name": "python3"
  },
  "language_info": {
   "codemirror_mode": {
    "name": "ipython",
    "version": 3
   },
   "file_extension": ".py",
   "mimetype": "text/x-python",
   "name": "python",
   "nbconvert_exporter": "python",
   "pygments_lexer": "ipython3",
   "version": "3.6.0"
  },
  "latex_envs": {
   "LaTeX_envs_menu_present": true,
   "autocomplete": true,
   "bibliofile": "biblio.bib",
   "cite_by": "apalike",
   "current_citInitial": 1,
   "eqLabelWithNumbers": true,
   "eqNumInitial": 1,
   "hotkeys": {
    "equation": "Ctrl-E",
    "itemize": "Ctrl-I"
   },
   "labels_anchors": false,
   "latex_user_defs": false,
   "report_style_numbering": false,
   "user_envs_cfg": false
  },
  "toc": {
   "nav_menu": {},
   "number_sections": true,
   "sideBar": true,
   "skip_h1_title": false,
   "toc_cell": false,
   "toc_position": {},
   "toc_section_display": "block",
   "toc_window_display": false
  }
 },
 "nbformat": 4,
 "nbformat_minor": 2
}
