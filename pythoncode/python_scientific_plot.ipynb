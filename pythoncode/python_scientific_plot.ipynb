{
 "cells": [
  {
   "cell_type": "code",
   "execution_count": null,
   "metadata": {
    "collapsed": true
   },
   "outputs": [],
   "source": []
  },
  {
   "cell_type": "markdown",
   "metadata": {},
   "source": [
    "# part1\n",
    "[An Introduction to Making Scientific Publication Plots with Python](https://towardsdatascience.com/an-introduction-to-making-scientific-publication-plots-with-python-ea19dfa7f51e)"
   ]
  },
  {
   "cell_type": "code",
   "execution_count": null,
   "metadata": {
    "ExecuteTime": {
     "end_time": "2020-06-28T23:28:23.049281Z",
     "start_time": "2020-06-28T23:28:22.450881Z"
    },
    "collapsed": true
   },
   "outputs": [],
   "source": [
    "# Import required packages\n",
    "import matplotlib as mpl\n",
    "import matplotlib.pyplot as plt\n",
    "import numpy as np\n",
    "from pylab import cm\n",
    "\n",
    "%matplotlib inline\n",
    "%config InlineBackend.figure_format='svg'"
   ]
  },
  {
   "cell_type": "code",
   "execution_count": null,
   "metadata": {
    "ExecuteTime": {
     "end_time": "2020-06-28T23:28:23.744277Z",
     "start_time": "2020-06-28T23:28:23.738027Z"
    },
    "collapsed": false
   },
   "outputs": [],
   "source": [
    "import matplotlib.font_manager as fm\n",
    "# Collect all the font names available to matplotlib\n",
    "font_names = [f.name for f in fm.fontManager.ttflist]\n",
    "print(font_names)"
   ]
  },
  {
   "cell_type": "code",
   "execution_count": null,
   "metadata": {
    "ExecuteTime": {
     "end_time": "2020-06-28T23:28:27.346387Z",
     "start_time": "2020-06-28T23:28:27.342479Z"
    },
    "collapsed": true
   },
   "outputs": [],
   "source": [
    "# Edit the font, font size, and axes width\n",
    "mpl.rcParams['font.family'] = 'Avenir'\n",
    "plt.rcParams['font.size'] = 18\n",
    "plt.rcParams['axes.linewidth'] = 2"
   ]
  },
  {
   "cell_type": "code",
   "execution_count": null,
   "metadata": {
    "ExecuteTime": {
     "end_time": "2020-06-28T23:28:28.091255Z",
     "start_time": "2020-06-28T23:28:28.086318Z"
    },
    "collapsed": true
   },
   "outputs": [],
   "source": [
    "# Generate 2 colors from the 'tab10' colormap\n",
    "colors = cm.get_cmap('tab10', 2)"
   ]
  },
  {
   "cell_type": "code",
   "execution_count": null,
   "metadata": {
    "ExecuteTime": {
     "end_time": "2020-06-28T23:41:53.958112Z",
     "start_time": "2020-06-28T23:41:53.948676Z"
    },
    "collapsed": false
   },
   "outputs": [],
   "source": []
  },
  {
   "cell_type": "code",
   "execution_count": null,
   "metadata": {
    "ExecuteTime": {
     "end_time": "2020-06-28T23:41:39.953753Z",
     "start_time": "2020-06-28T23:41:39.948414Z"
    },
    "collapsed": false,
    "scrolled": true
   },
   "outputs": [],
   "source": [
    "colors(0)"
   ]
  },
  {
   "cell_type": "markdown",
   "metadata": {},
   "source": [
    "[img](https://miro.medium.com/max/1400/1*GK0aB19sqrC5eBdMW-ktIg.png)"
   ]
  },
  {
   "cell_type": "code",
   "execution_count": null,
   "metadata": {
    "ExecuteTime": {
     "end_time": "2020-06-28T23:18:59.236029Z",
     "start_time": "2020-06-28T23:18:59.231484Z"
    },
    "collapsed": false
   },
   "outputs": [],
   "source": [
    "pwd"
   ]
  },
  {
   "cell_type": "code",
   "execution_count": null,
   "metadata": {
    "ExecuteTime": {
     "end_time": "2020-06-28T23:40:21.076409Z",
     "start_time": "2020-06-28T23:40:21.057540Z"
    },
    "collapsed": false
   },
   "outputs": [],
   "source": [
    "# Use numpy.loadtxt to import our data\n",
    "wavelength, samp_1_abs, samp_2_abs = np.loadtxt('/Users/brettlv/Downloads/books/scientific_plot/python-science-tutorial/intro/Absorbance_Data.csv', unpack=True, delimiter=',', skiprows=1)"
   ]
  },
  {
   "cell_type": "code",
   "execution_count": null,
   "metadata": {
    "ExecuteTime": {
     "end_time": "2020-06-29T09:25:36.289251Z",
     "start_time": "2020-06-29T09:25:36.140682Z"
    },
    "collapsed": false
   },
   "outputs": [],
   "source": [
    "# Create figure and add axes object\n",
    "fig = plt.figure()\n",
    "ax = fig.add_axes([0, 0, 1, 1])\n",
    "# Plot and show our data\n",
    "ax.plot(wavelength, samp_1_abs)\n",
    "ax.plot(wavelength, samp_2_abs)\n",
    "plt.show()"
   ]
  },
  {
   "cell_type": "code",
   "execution_count": null,
   "metadata": {
    "ExecuteTime": {
     "end_time": "2020-06-28T23:28:31.735054Z",
     "start_time": "2020-06-28T23:28:31.727931Z"
    },
    "collapsed": false
   },
   "outputs": [],
   "source": [
    "wavelength, samp_1_abs, samp_2_abs"
   ]
  },
  {
   "cell_type": "code",
   "execution_count": null,
   "metadata": {
    "collapsed": true
   },
   "outputs": [],
   "source": [
    "wavelength, samp_1_abs, samp_2_abs"
   ]
  },
  {
   "cell_type": "code",
   "execution_count": null,
   "metadata": {
    "collapsed": true
   },
   "outputs": [],
   "source": [
    "# Add two axes objects to create a paneled figure\n",
    "ax1 = fig.add_axes([0, 0, 1, 0.4])\n",
    "ax2 = fig.add_axes([0, 0.6, 1, 0.4])\n",
    "\n",
    "# Add two axes objects to create an inset figure\n",
    "ax1 = fig.add_axes([0, 0, 1, 1])\n",
    "ax2 = fig.add_axes([0.5, 0.5, 0.4, 0.4])"
   ]
  },
  {
   "cell_type": "code",
   "execution_count": null,
   "metadata": {
    "ExecuteTime": {
     "end_time": "2020-06-28T23:31:35.557340Z",
     "start_time": "2020-06-28T23:31:35.549984Z"
    },
    "collapsed": false
   },
   "outputs": [],
   "source": [
    "wavelength, samp_1_abs, samp_2_abs"
   ]
  },
  {
   "cell_type": "code",
   "execution_count": null,
   "metadata": {
    "ExecuteTime": {
     "end_time": "2020-06-28T23:40:31.606499Z",
     "start_time": "2020-06-28T23:40:29.966815Z"
    },
    "collapsed": false
   },
   "outputs": [],
   "source": [
    "# Create figure object and store it in a variable called 'fig'\n",
    "fig = plt.figure(figsize=(3, 3))\n",
    "\n",
    "# Add axes object to our figure that takes up entire figure\n",
    "ax = fig.add_axes([0, 0, 1, 1])\n",
    "\n",
    "\n",
    "# Hide the top and right spines of the axis\n",
    "#ax.spines['right'].set_visible(False)\n",
    "#ax.spines['top'].set_visible(False)\n",
    "\n",
    "# Edit the major and minor ticks of the x and y axes\n",
    "ax.xaxis.set_tick_params(which='major', size=10, width=2, direction='in', top='on')\n",
    "ax.xaxis.set_tick_params(which='minor', size=7, width=2, direction='in', top='on')\n",
    "ax.yaxis.set_tick_params(which='major', size=10, width=2, direction='in', right='on')\n",
    "ax.yaxis.set_tick_params(which='minor', size=7, width=2, direction='in', right='on')\n",
    "\n",
    "# Plot the two sample absorbances, using previously generated colors\n",
    "ax.plot(wavelength, samp_1_abs, linewidth=2, color=colors(0), label='Sample 1')\n",
    "ax.plot(wavelength, samp_2_abs, linewidth=2, color=colors(1), label='Sample 2')\n",
    "\n",
    "# Set the axis limits\n",
    "ax.set_xlim(370, 930)\n",
    "ax.set_ylim(-0.2, 2.2)\n",
    "\n",
    "# Edit the major and minor tick locations\n",
    "ax.xaxis.set_major_locator(mpl.ticker.MultipleLocator(100))\n",
    "ax.xaxis.set_minor_locator(mpl.ticker.MultipleLocator(50))\n",
    "ax.yaxis.set_major_locator(mpl.ticker.MultipleLocator(0.5))\n",
    "ax.yaxis.set_minor_locator(mpl.ticker.MultipleLocator(0.25))\n",
    "\n",
    "# Add the x and y-axis labels\n",
    "ax.set_xlabel('Wavelength (nm)', labelpad=10)\n",
    "ax.set_ylabel('Absorbance (O.D.)', labelpad=10)\n",
    "\n",
    "# Add the x-axis label with λ for wavelength\n",
    "ax.set_xlabel(r'$\\mathregular{\\lambda}$ (nm)', labelpad=10)\n",
    "\n",
    "# Create new axes object by cloning the y-axis of the first plot\n",
    "ax2 = ax.twiny()\n",
    "# Edit the tick parameters of the new x-axis\n",
    "ax2.xaxis.set_tick_params(which='major', size=10, width=2, direction='in')\n",
    "ax2.xaxis.set_tick_params(which='minor', size=7, width=2, direction='in')\n",
    "\n",
    "# Function to convert energy (eV) to wavelength (nm)\n",
    "def E_to_WL(E):\n",
    "    return [1240/i for i in E]\n",
    "\n",
    "# Add ticks manually to energy axis\n",
    "ax2.xaxis.set_major_locator(mpl.ticker.FixedLocator(E_to_WL(np.linspace(1.5, 3.0, 4))))\n",
    "ax2.xaxis.set_minor_locator(mpl.ticker.FixedLocator(E_to_WL(np.linspace(1.4, 3.2, 19))))\n",
    "\n",
    "# Add tick labels manually to energy axis\n",
    "ax2.set_xticklabels(['1.5', '2.0', '2.5', '3.0'])\n",
    "\n",
    "# Add energy axis label\n",
    "ax2.set_xlabel('Energy (eV)', labelpad=10)\n",
    "# Set energy axis limits\n",
    "ax2.set_xlim(370, 930)\n",
    "\n",
    "# Add legend to plot\n",
    "ax.legend(bbox_to_anchor=(1, 1), loc=1, frameon=False, fontsize=16)\n",
    "\n",
    "# Save figure\n",
    "plt.savefig('Final_Plot.png', dpi=300, transparent=False, bbox_inches='tight')\n",
    "\n",
    "# Show figure\n",
    "plt.show()"
   ]
  },
  {
   "cell_type": "markdown",
   "metadata": {},
   "source": [
    "# part2\n",
    "Basic Curve Fitting of Scientific Data with Python"
   ]
  },
  {
   "cell_type": "code",
   "execution_count": null,
   "metadata": {
    "ExecuteTime": {
     "end_time": "2020-06-28T23:55:06.509980Z",
     "start_time": "2020-06-28T23:55:06.192861Z"
    },
    "collapsed": false
   },
   "outputs": [],
   "source": [
    "# Import curve fitting package from scipy\n",
    "from scipy.optimize import curve_fit\n",
    "\n",
    "# Function to calculate the exponential with constants a and b\n",
    "def exponential(x, a, b):\n",
    "    return a*np.exp(b*x)\n",
    "# Generate dummy dataset\n",
    "x_dummy = np.linspace(start=5, stop=15, num=50)\n",
    "\n",
    "# Calculate y-values based on dummy x-values\n",
    "y_dummy = exponential(x_dummy, 0.5, 0.5)\n",
    "\n",
    "# Add noise from a Gaussian distribution\n",
    "noise = 5*np.random.normal(size=y_dummy.size)\n",
    "y_dummy = y_dummy + noise\n",
    "\n",
    "\n",
    "# Create figure object and store it in a variable called 'fig'\n",
    "fig = plt.figure(figsize=(3, 3))\n",
    "# Add axes object to our figure that takes up entire figure\n",
    "ax = fig.add_axes([0, 0, 1, 1])\n",
    "\n",
    "# Edit the major and minor tick locations\n",
    "ax.xaxis.set_major_locator(mpl.ticker.MultipleLocator(5))\n",
    "ax.xaxis.set_minor_locator(mpl.ticker.MultipleLocator(1))\n",
    "ax.yaxis.set_major_locator(mpl.ticker.MultipleLocator(200))\n",
    "ax.yaxis.set_minor_locator(mpl.ticker.MultipleLocator(50))\n",
    "\n",
    "ax.xaxis.set_tick_params(which='major', size=10, width=2, direction='in', top='on')\n",
    "ax.xaxis.set_tick_params(which='minor', size=7, width=2, direction='in', top='on')\n",
    "ax.yaxis.set_tick_params(which='major', size=10, width=2, direction='in', right='on')\n",
    "ax.yaxis.set_tick_params(which='minor', size=7, width=2, direction='in', right='on')\n",
    "\n",
    "\n",
    "\n",
    "# Plot the noisy exponential data\n",
    "ax.scatter(x_dummy, y_dummy, s=20, color='#00b3b3', label='Data')\n",
    "# Show figure\n",
    "plt.show()"
   ]
  },
  {
   "cell_type": "code",
   "execution_count": null,
   "metadata": {
    "ExecuteTime": {
     "end_time": "2020-06-28T23:57:25.455544Z",
     "start_time": "2020-06-28T23:57:24.746512Z"
    },
    "collapsed": false
   },
   "outputs": [],
   "source": [
    "# Import curve fitting package from scipy\n",
    "from scipy.optimize import curve_fit\n",
    "\n",
    "# Function to calculate the exponential with constants a and b\n",
    "def exponential(x, a, b):\n",
    "    return a*np.exp(b*x)\n",
    "# Generate dummy dataset\n",
    "x_dummy = np.linspace(start=5, stop=15, num=50)\n",
    "\n",
    "# Calculate y-values based on dummy x-values\n",
    "y_dummy = exponential(x_dummy, 0.5, 0.5)\n",
    "\n",
    "# Add noise from a Gaussian distribution\n",
    "noise = 5*np.random.normal(size=y_dummy.size)\n",
    "y_dummy = y_dummy + noise\n",
    "\n",
    "\n",
    "# Create figure object and store it in a variable called 'fig'\n",
    "fig = plt.figure(figsize=(3, 3))\n",
    "# Add axes object to our figure that takes up entire figure\n",
    "ax = fig.add_axes([0, 0, 1, 1])\n",
    "\n",
    "# Edit the major and minor tick locations\n",
    "ax.xaxis.set_major_locator(mpl.ticker.MultipleLocator(5))\n",
    "ax.xaxis.set_minor_locator(mpl.ticker.MultipleLocator(1))\n",
    "ax.yaxis.set_major_locator(mpl.ticker.MultipleLocator(200))\n",
    "ax.yaxis.set_minor_locator(mpl.ticker.MultipleLocator(40))\n",
    "\n",
    "ax.xaxis.set_tick_params(which='major', size=10, width=2, direction='in', top='on')\n",
    "ax.xaxis.set_tick_params(which='minor', size=7, width=2, direction='in', top='on')\n",
    "ax.yaxis.set_tick_params(which='major', size=10, width=2, direction='in', right='on')\n",
    "ax.yaxis.set_tick_params(which='minor', size=7, width=2, direction='in', right='on')\n",
    "\n",
    "\n",
    "\n",
    "# Set the y-axis scaling to logarithmic\n",
    "ax.set_yscale('log')\n",
    "# Set the y-ticks\n",
    "ax.yaxis.set_major_locator(mpl.ticker.LogLocator(base=10.0))\n",
    "# Set the y-axis limits\n",
    "ax.set_ylim(0.1, 1000)\n",
    "\n",
    "# Plot the fit data as an overlay on the scatter data\n",
    "ax.plot(x_dummy, exponential(x_dummy, *pars), linestyle='--', linewidth=2, color='black')\n",
    "\n",
    "\n",
    "# Plot the noisy exponential data\n",
    "ax.scatter(x_dummy, y_dummy, s=20, color='#00b3b3', label='Data')\n",
    "# Show figure\n",
    "plt.show()"
   ]
  },
  {
   "cell_type": "code",
   "execution_count": null,
   "metadata": {
    "ExecuteTime": {
     "end_time": "2020-06-28T23:56:15.278967Z",
     "start_time": "2020-06-28T23:56:15.259988Z"
    },
    "collapsed": true
   },
   "outputs": [],
   "source": [
    "# Fit the dummy exponential data\n",
    "pars, cov = curve_fit(f=exponential, xdata=x_dummy, ydata=y_dummy, p0=[0, 0], bounds=(-np.inf, np.inf))"
   ]
  },
  {
   "cell_type": "code",
   "execution_count": null,
   "metadata": {
    "ExecuteTime": {
     "end_time": "2020-06-28T23:56:25.153405Z",
     "start_time": "2020-06-28T23:56:25.149441Z"
    },
    "collapsed": true
   },
   "outputs": [],
   "source": [
    "# Get the standard deviations of the parameters (square roots of the # diagonal of the covariance)\n",
    "stdevs = np.sqrt(np.diag(cov))\n",
    "# Calculate the residuals\n",
    "res = y_dummy - exponential(x_dummy, *pars)"
   ]
  },
  {
   "cell_type": "code",
   "execution_count": null,
   "metadata": {
    "ExecuteTime": {
     "end_time": "2020-06-28T23:58:04.892392Z",
     "start_time": "2020-06-28T23:58:04.888147Z"
    },
    "collapsed": false
   },
   "outputs": [],
   "source": [
    "# Function to calculate the power-law with constants a and b\n",
    "def power_law(x, a, b):\n",
    "    return a*np.power(x, b)"
   ]
  },
  {
   "cell_type": "code",
   "execution_count": null,
   "metadata": {
    "ExecuteTime": {
     "end_time": "2020-06-29T00:00:17.372462Z",
     "start_time": "2020-06-29T00:00:17.354717Z"
    },
    "collapsed": true
   },
   "outputs": [],
   "source": [
    "# Generate dummy dataset\n",
    "x_dummy = np.linspace(start=1, stop=1000, num=100)\n",
    "y_dummy = power_law(x_dummy, 1, 0.5)\n",
    "# Add noise from a Gaussian distribution\n",
    "noise = 1.5*np.random.normal(size=y_dummy.size)\n",
    "y_dummy = y_dummy + noise"
   ]
  },
  {
   "cell_type": "code",
   "execution_count": null,
   "metadata": {
    "ExecuteTime": {
     "end_time": "2020-06-29T00:02:50.757304Z",
     "start_time": "2020-06-29T00:02:50.435362Z"
    },
    "collapsed": false
   },
   "outputs": [],
   "source": [
    "\n",
    "\n",
    "\n",
    "# Create figure object and store it in a variable called 'fig'\n",
    "fig = plt.figure(figsize=(3, 3))\n",
    "# Add axes object to our figure that takes up entire figure\n",
    "ax = fig.add_axes([0, 0, 1, 1])\n",
    "\n",
    "# Edit the major and minor tick locations\n",
    "ax.xaxis.set_major_locator(mpl.ticker.MultipleLocator(200))\n",
    "ax.xaxis.set_minor_locator(mpl.ticker.MultipleLocator(50))\n",
    "ax.yaxis.set_major_locator(mpl.ticker.MultipleLocator(20))\n",
    "ax.yaxis.set_minor_locator(mpl.ticker.MultipleLocator(5))\n",
    "\n",
    "ax.xaxis.set_tick_params(which='major', size=10, width=2, direction='in', top='on')\n",
    "ax.xaxis.set_tick_params(which='minor', size=7, width=2, direction='in', top='on')\n",
    "ax.yaxis.set_tick_params(which='major', size=10, width=2, direction='in', right='on')\n",
    "ax.yaxis.set_tick_params(which='minor', size=7, width=2, direction='in', right='on')\n",
    "\n",
    "\n",
    "\n",
    "\n",
    "# Set the axis limits\n",
    "ax.set_xlim(10, 1000)\n",
    "ax.set_ylim(1, 40)\n",
    "\n",
    "\n",
    "# Plot the noisy exponential data\n",
    "ax.scatter(x_dummy, y_dummy, s=20, color='#00b3b3', label='Data')\n",
    "# Show figure\n",
    "plt.show()\n",
    "\n",
    "\n",
    "\n"
   ]
  },
  {
   "cell_type": "code",
   "execution_count": null,
   "metadata": {
    "collapsed": true
   },
   "outputs": [],
   "source": []
  },
  {
   "cell_type": "code",
   "execution_count": null,
   "metadata": {
    "ExecuteTime": {
     "end_time": "2020-06-29T00:03:31.435075Z",
     "start_time": "2020-06-29T00:03:30.867716Z"
    },
    "collapsed": false
   },
   "outputs": [],
   "source": [
    "\n",
    "\n",
    "\n",
    "# Create figure object and store it in a variable called 'fig'\n",
    "fig = plt.figure(figsize=(3, 3))\n",
    "# Add axes object to our figure that takes up entire figure\n",
    "ax = fig.add_axes([0, 0, 1, 1])\n",
    "\n",
    "# Edit the major and minor tick locations\n",
    "ax.xaxis.set_major_locator(mpl.ticker.MultipleLocator(200))\n",
    "ax.xaxis.set_minor_locator(mpl.ticker.MultipleLocator(50))\n",
    "ax.yaxis.set_major_locator(mpl.ticker.MultipleLocator(20))\n",
    "ax.yaxis.set_minor_locator(mpl.ticker.MultipleLocator(5))\n",
    "\n",
    "ax.xaxis.set_tick_params(which='major', size=10, width=2, direction='in', top='on')\n",
    "ax.xaxis.set_tick_params(which='minor', size=7, width=2, direction='in', top='on')\n",
    "ax.yaxis.set_tick_params(which='major', size=10, width=2, direction='in', right='on')\n",
    "ax.yaxis.set_tick_params(which='minor', size=7, width=2, direction='in', right='on')\n",
    "\n",
    "\n",
    "# Set the x and y-axis scaling to logarithmic\n",
    "ax.set_xscale('log')\n",
    "ax.set_yscale('log')\n",
    "# Edit the major and minor tick locations of x and y axes\n",
    "ax.xaxis.set_major_locator(mpl.ticker.LogLocator(base=10.0))\n",
    "ax.yaxis.set_major_locator(mpl.ticker.LogLocator(base=10.0))\n",
    "# Set the axis limits\n",
    "ax.set_xlim(10, 1000)\n",
    "ax.set_ylim(1, 100)\n",
    "\n",
    "\n",
    "# Plot the noisy exponential data\n",
    "ax.scatter(x_dummy, y_dummy, s=20, color='#00b3b3', label='Data')\n",
    "# Show figure\n",
    "plt.show()\n",
    "\n",
    "\n",
    "\n"
   ]
  },
  {
   "cell_type": "code",
   "execution_count": null,
   "metadata": {
    "ExecuteTime": {
     "end_time": "2020-06-29T00:03:45.563454Z",
     "start_time": "2020-06-29T00:03:45.556590Z"
    },
    "collapsed": true
   },
   "outputs": [],
   "source": [
    "# Fit the dummy power-law data\n",
    "pars, cov = curve_fit(f=power_law, xdata=x_dummy, ydata=y_dummy, p0=[0, 0], bounds=(-np.inf, np.inf))\n",
    "# Get the standard deviations of the parameters (square roots of the # diagonal of the covariance)\n",
    "stdevs = np.sqrt(np.diag(cov))\n",
    "# Calculate the residuals\n",
    "res = y_dummy - power_law(x_dummy, *pars)"
   ]
  },
  {
   "cell_type": "code",
   "execution_count": null,
   "metadata": {
    "ExecuteTime": {
     "end_time": "2020-06-29T00:03:55.130108Z",
     "start_time": "2020-06-29T00:03:55.125014Z"
    },
    "collapsed": false
   },
   "outputs": [],
   "source": [
    "pars"
   ]
  },
  {
   "cell_type": "code",
   "execution_count": null,
   "metadata": {
    "ExecuteTime": {
     "end_time": "2020-06-29T00:04:01.535999Z",
     "start_time": "2020-06-29T00:04:01.530967Z"
    },
    "collapsed": false
   },
   "outputs": [],
   "source": [
    "stdevs"
   ]
  },
  {
   "cell_type": "code",
   "execution_count": null,
   "metadata": {
    "ExecuteTime": {
     "end_time": "2020-06-29T00:04:39.739686Z",
     "start_time": "2020-06-29T00:04:39.732993Z"
    },
    "collapsed": true
   },
   "outputs": [],
   "source": [
    "# Function to calculate the Gaussian with constants a, b, and c\n",
    "def gaussian(x, a, b, c):\n",
    "    return a*np.exp(-np.power(x - b, 2)/(2*np.power(c, 2)))\n",
    "# Generate dummy dataset\n",
    "x_dummy = np.linspace(start=-10, stop=10, num=100)\n",
    "y_dummy = gaussian(x_dummy, 8, -1, 3)\n",
    "# Add noise from a Gaussian distribution\n",
    "noise = 0.5*np.random.normal(size=y_dummy.size)\n",
    "y_dummy = y_dummy + noise"
   ]
  },
  {
   "cell_type": "code",
   "execution_count": null,
   "metadata": {
    "ExecuteTime": {
     "end_time": "2020-06-29T00:06:07.661410Z",
     "start_time": "2020-06-29T00:06:07.653810Z"
    },
    "collapsed": false
   },
   "outputs": [],
   "source": [
    "# Fit the dummy Gaussian data\n",
    "pars, cov = curve_fit(f=gaussian, xdata=x_dummy, ydata=y_dummy, p0=[5, -1, 1], bounds=(-np.inf, np.inf))\n",
    "\n",
    "# Get the standard deviations of the parameters (square roots of the # diagonal of the covariance)\n",
    "stdevs = np.sqrt(np.diag(cov))\n",
    "# Calculate the residuals\n",
    "res = y_dummy - gaussian(x_dummy, *pars)"
   ]
  },
  {
   "cell_type": "code",
   "execution_count": null,
   "metadata": {
    "ExecuteTime": {
     "end_time": "2020-06-29T00:06:28.140747Z",
     "start_time": "2020-06-29T00:06:28.135641Z"
    },
    "collapsed": false
   },
   "outputs": [],
   "source": [
    "print(pars)\n",
    "print(stdevs)"
   ]
  },
  {
   "cell_type": "code",
   "execution_count": null,
   "metadata": {
    "collapsed": true
   },
   "outputs": [],
   "source": []
  },
  {
   "cell_type": "code",
   "execution_count": null,
   "metadata": {
    "collapsed": true
   },
   "outputs": [],
   "source": []
  },
  {
   "cell_type": "code",
   "execution_count": null,
   "metadata": {
    "collapsed": true
   },
   "outputs": [],
   "source": []
  },
  {
   "cell_type": "code",
   "execution_count": null,
   "metadata": {
    "collapsed": true
   },
   "outputs": [],
   "source": []
  },
  {
   "cell_type": "markdown",
   "metadata": {},
   "source": [
    "# Wu plot"
   ]
  },
  {
   "cell_type": "code",
   "execution_count": null,
   "metadata": {
    "ExecuteTime": {
     "end_time": "2020-06-28T23:05:14.480682Z",
     "start_time": "2020-06-28T23:05:14.274171Z"
    },
    "collapsed": false
   },
   "outputs": [],
   "source": [
    "HerA_drive0=(HerA_total_178[1]-(HerA_total_178[2]+np.log10(1.3*10**38))+0.983)/0.589\n",
    "HerA_drive1=HerA_total_178[1]-(HerA_total_178[2]+np.log10(1.3*10**38))\n",
    "HerA_drive=np.array([HerA_drive0,HerA_drive1])\n",
    "plt.figure(figsize=(12,9))\n",
    "#fig, ax_f = plt.subplots(figsize=(12,9))\n",
    "#ax_c = ax_f.twinx()\n",
    "plt.scatter(FRI_cat[:,1]+scale,FRI_cat[:,0]+scale,marker='^',c='w',edgecolors='black',linewidth=1.25,s=50,label='FRI/FRII')\n",
    "plt.scatter(FRI_3CR[:,1]+scale,FRI_3CR[:,0]+scale,marker='^',c='w',edgecolors='black',linewidth=1.25,s=50)\n",
    "plt.scatter(FRII_cat[:,1]+scale,FRII_cat[:,0]+scale,marker='^',c='w',edgecolors='black',linewidth=1.25,s=50)\n",
    "plt.scatter(HEG_FRII_3CR[:,1]+scale,HEG_FRII_3CR[:,0]+scale,marker='^',c='w',edgecolors='black',linewidth=1.25)\n",
    "plt.scatter(LEG_FRII_3CR[:,1]+scale,LEG_FRII_3CR[:,0]+scale,marker='^',c='w',edgecolors='black',linewidth=1.25)\n",
    "plt.scatter(HerA_total_178[1],HerA_total_178[0],marker='*',c='w',edgecolors='r',linewidth=1.5,s=200,label='HerA_total')\n",
    "###plt.scatter(HerA_drive[0],HerA_drive[1],marker='*',c='r',edgecolors='r',linewidth=1.5,s=200,label='HerA.derive_total-178 MHz')                                \n",
    "###plt.scatter(HerA_total_5103[0]-(HerA_total_5103[2]+np.log10(1.3*10**38)),HerA_total_5103[1]-(HerA_total_5103[2]+np.log10(1.3*10**38)),marker='o',c='w',edgecolors='r',linewidth=1.5,s=120,label='HerA_total-5103 MHz')\n",
    "plt.scatter(HerA_core_5103[1],HerA_core_5103[0],marker='o',c='r',linewidth=2,s=120,label='HerA_core')\n",
    "###plt.scatter(HerA_bondi0[0]-(HerA_bondi0[2]+np.log10(1.3*10**38)),HerA_bondi0[1]-(HerA_bondi0[2]+np.log10(1.3*10**38)),marker='x',c='r',linewidth=2,s=120,label='HerA_Bondi:0')\n",
    "###plt.scatter(HerA_bondi1[0]-(HerA_bondi1[2]+np.log10(1.3*10**38)),HerA_bondi1[1]-(HerA_bondi1[2]+np.log10(1.3*10**38)),marker='+',c='r',linewidth=2,s=120,label='HerA_Bondi:1')\n",
    "#plt.legend(loc='lower right')\n",
    "#plt.show()\n",
    "#plt.errorbar(data_flux[:,0],np.log10(data_flux[:,1]),yerr=data_flux[:,2]/data_flux[:,1]/2.3,fmt='^',elinewidth=1.25,markersize=6.0,label='flux')\n",
    "#plt.scatter(niter*(-0.16),np.log10(b2))\n",
    "#plt.scatter(niter*(0.16),np.log10(b1))\n",
    "#plt.scatter(niter*(-0.16),np.log10(b2))\n",
    "#plt.scatter(niter*(0.16),b1)\n",
    "###print('HerA_drive',HerA_drive[0],HerA_drive[1])\n",
    "###print('HerA_total_5103',HerA_total_5103[0]-(HerA_total_5103[2]+np.log10(1.3*10**38)),HerA_total_5103[1]-(HerA_total_5103[2]+np.log10(1.3*10**38)))\n",
    "print('HerA_core_5103',HerA_core_5103[0]-(HerA_core_5103[2]+np.log10(1.3*10**38)),HerA_core_5103[1]-(HerA_core_5103[2]+np.log10(1.3*10**38)))\n",
    "###print('HerA_bondi0',HerA_bondi0[0]-(HerA_bondi0[2]+np.log10(1.3*10**38)),HerA_bondi0[1]-(HerA_bondi0[2]+np.log10(1.3*10**38)))\n",
    "###print('HerA_bondi1',HerA_bondi1[0]-(HerA_bondi1[2]+np.log10(1.3*10**38)),HerA_bondi1[1]-(HerA_bondi1[2]+np.log10(1.3*10**38)))\n",
    "plt.xlabel(r'$\\rm log\\ L_{178\\ MHz}\\ (erg\\ Hz^{-1}\\ s^{-1})$ ',fontsize=20)\n",
    "plt.ylabel(r'$\\rm log\\ L_{[O\\ III]}\\ (erg\\ s^{-1})$',fontsize=20)\n",
    "x=np.linspace(29,37,500)\n",
    "y=0.725*x+16.73\n",
    "plt.plot(x,y,c='gold')\n",
    "                           \n",
    "plt.grid(True)\n",
    "plt.xlim(29,37)\n",
    "plt.ylim(37,44)\n",
    "#ax_c.set_ylabel('Log Flux',fontsize=20)\n",
    "axes=plt.gca()#;#获得坐标轴的句柄\n",
    "#axes.set_tick['bottom']\n",
    "axes.tick_params(direction='in',labelcolor='k', labelsize=18, width=1.0)\n",
    "axes.spines['bottom'].set_linewidth(2.1)\n",
    "axes.spines['left'].set_linewidth(2.1)\n",
    "axes.spines['top'].set_linewidth(2.1)\n",
    "axes.spines['right'].set_linewidth(2.1)\n",
    "plt.legend(loc='upper left')\n",
    "#plt.savefig('LOIII_L178.pdf',dpi=300)"
   ]
  },
  {
   "cell_type": "code",
   "execution_count": null,
   "metadata": {
    "collapsed": true
   },
   "outputs": [],
   "source": [
    "def plotData1(x5, y5,x6,y6,x3,y3,x4,y4,errlogi,errlogp,errpa,errfp,name,sl):  \n",
    "    xcut1=x1[min(maxmin)-1]+beam/2 ##第一条竖虚线\n",
    "    #ycut1=np.linspace(0,1,100)\n",
    "    xcut2=x1[max(maxmin)+1] ##第二条竖虚线\n",
    "    #xcut3=x1[19]\n",
    "    icut=icutoff\n",
    "    #ycut2=np.linspace(0,1,100)\n",
    "    fig, axes=plt.subplots(nrows=2, ncols=2, figsize=(12,9))\n",
    "    #axes[0,0].set_title('LOG I 1/3 Beam',fontsize=16)\n",
    "    axes[0,0].errorbar(x5, y5,yerr=errlogi,elinewidth=0.75,fmt='-o',color='r',markersize=2.0)\n",
    "    axes[0,0].axhline(y=icut,color='b',linestyle='dotted',markersize=1.0)# cutoff noise level\n",
    "    axes[0,0].axvline(x=xcut1,color='r',dashes=[6,2],markersize=1.0) \n",
    "    axes[0,0].axvline(x=xcut2,color='r',dashes=[6,2],markersize=1.0)\n",
    "    #axes[0,0].axvline(x=xcut3,color='g',ls='dotted',markersize=1.0)\n",
    "    axes[0,0].set_xlabel('Arc seconds',fontsize=13)\n",
    "    axes[0,0].set_ylim(icutoff-0.477,None)\n",
    "    axes[0,0].set_ylabel('LOG I',fontsize=13)\n",
    "    axes[0,0].tick_params(direction='in',labelcolor='k', labelsize='large', width=2.5)\n",
    "    axes[0,0].spines['bottom'].set_linewidth(2.1)\n",
    "    axes[0,0].spines['left'].set_linewidth(2.1)\n",
    "    axes[0,0].spines['top'].set_linewidth(2.1)\n",
    "    axes[0,0].spines['right'].set_linewidth(2.1)\n",
    "    # plt.figure(1)\n",
    "    #axes[0,1].set_title('LOG P 1/3 Beam',fontsize=16)\n",
    "    axes[0,1].errorbar(x6, y6, yerr=errlogp,elinewidth=0.75,fmt='-o',color='g',markersize=2.0)\n",
    "    axes[0,1].axvline(x=xcut1,color='r',dashes=[6,2],markersize=1.0) \n",
    "    axes[0,1].axvline(x=xcut2,color='r',dashes=[6,2],markersize=1.0)\n",
    "    #axes[0,1].axvline(x=xcut3,color='g',ls='dotted',markersize=1.0)\n",
    "    axes[0,1].set_xlabel('Arc seconds',fontsize=13)\n",
    "    axes[0,1].set_ylim(pcutoff,None)\n",
    "    axes[0,1].set_ylabel('LOG P',fontsize=13)\n",
    "    axes[0,1].tick_params(direction='in',labelcolor='k', labelsize='large', width=4)\n",
    "    axes[0,1].spines['bottom'].set_linewidth(2.1)\n",
    "    axes[0,1].spines['left'].set_linewidth(2.1)\n",
    "    axes[0,1].spines['top'].set_linewidth(2.1)\n",
    "    axes[0,1].spines['right'].set_linewidth(2.1)\n",
    "\n",
    "    #axes[1,0].set_title('Polarization Angle  1/3 Beam',fontsize=16)\n",
    "    axes[1,0].errorbar(x3, y3,yerr=errpa,elinewidth=0.75,fmt='o',c='k',markersize=4.0)\n",
    "    #axes[1,0].axhline(y=icut,color='b',dashes=[6,2],markersize=1.0)# cutoff noise level\n",
    "    axes[1,0].axvline(x=xcut1,color='r',dashes=[6,2],markersize=1.0) \n",
    "    axes[1,0].axvline(x=xcut2,color='r',dashes=[6,2],markersize=1.0)\n",
    "    #axes[1,0].axvline(x=xcut3,color='g',ls='dotted',markersize=1.0)\n",
    "    axes[1,0].set_xlabel('Arc seconds',fontsize=13)\n",
    "    axes[1,0].set_ylabel('PA',fontsize=13)\n",
    "    axes[1,0].tick_params(direction='in',labelcolor='k', labelsize='medium', width=2.5)\n",
    "    axes[1,0].spines['bottom'].set_linewidth(2.1)\n",
    "    axes[1,0].spines['left'].set_linewidth(2.1)\n",
    "    axes[1,0].spines['top'].set_linewidth(2.1)\n",
    "    axes[1,0].spines['right'].set_linewidth(2.1)\n",
    "\n",
    "    #axes[1,1].set_title('Fractional Polarization  1/3 Beam',fontsize=16)\n",
    "    axes[1,1].errorbar(x4, y4,yerr=errfp,elinewidth=0.75,fmt='-o',color='k',markersize=2.0)\n",
    "    #axes[0,0].axhline(y=icut,color='b',dashes=[6,2],markersize=1.0)# cutoff noise level\n",
    "    axes[1,1].axvline(x=xcut1,color='r',dashes=[6,2],markersize=1.0) \n",
    "    axes[1,1].axvline(x=xcut2,color='r',dashes=[6,2],markersize=1.0)\n",
    "    #axes[1,1].axvline(x=xcut3,color='g',ls='dotted',markersize=1.0)\n",
    "    axes[1,1].set_xlabel('Arc seconds',fontsize=13)\n",
    "    axes[1,1].set_ylim(1,110)\n",
    "    axes[1,1].set_ylabel('FPOL',fontsize=13)\n",
    "    axes[1,1].tick_params(direction='in',labelcolor='k', labelsize='medium', width=2.5)\n",
    "    axes[1,1].spines['bottom'].set_linewidth(2.1)\n",
    "    axes[1,1].spines['left'].set_linewidth(2.1)\n",
    "    axes[1,1].spines['top'].set_linewidth(2.1)\n",
    "    axes[1,1].spines['right'].set_linewidth(2.1)\n",
    "\n",
    "    fig.tight_layout()\n",
    "    plt.savefig('%s_third_slice_%s.pdf'%(name,sl),dpi=300)"
   ]
  },
  {
   "cell_type": "code",
   "execution_count": null,
   "metadata": {
    "collapsed": true
   },
   "outputs": [],
   "source": []
  },
  {
   "cell_type": "code",
   "execution_count": null,
   "metadata": {
    "collapsed": true
   },
   "outputs": [],
   "source": []
  },
  {
   "cell_type": "markdown",
   "metadata": {},
   "source": [
    "# [scienceplot](https://github.com/garrettj403/SciencePlots)"
   ]
  },
  {
   "cell_type": "code",
   "execution_count": 1,
   "metadata": {
    "ExecuteTime": {
     "end_time": "2020-06-29T15:36:40.415657Z",
     "start_time": "2020-06-29T15:36:40.105080Z"
    },
    "collapsed": false
   },
   "outputs": [
    {
     "name": "stdout",
     "output_type": "stream",
     "text": [
      "/Users/brettlv/.matplotlib\n"
     ]
    }
   ],
   "source": [
    "import matplotlib\n",
    "print(matplotlib.get_configdir())"
   ]
  },
  {
   "cell_type": "code",
   "execution_count": 2,
   "metadata": {
    "ExecuteTime": {
     "end_time": "2020-06-29T15:36:48.417370Z",
     "start_time": "2020-06-29T15:36:48.271206Z"
    },
    "collapsed": false
   },
   "outputs": [
    {
     "name": "stdout",
     "output_type": "stream",
     "text": [
      "bright.mplstyle    muted.mplstyle     pgf.mplstyle       science.mplstyle\r\n",
      "high-vis.mplstyle  no-latex.mplstyle  retro.mplstyle     vibrant.mplstyle\r\n",
      "ieee.mplstyle      notebook.mplstyle  scatter.mplstyle\r\n"
     ]
    }
   ],
   "source": [
    "ls /Users/brettlv/.matplotlib/stylelib/"
   ]
  },
  {
   "cell_type": "code",
   "execution_count": null,
   "metadata": {
    "ExecuteTime": {
     "end_time": "2020-06-29T15:36:09.596555Z",
     "start_time": "2020-06-29T15:36:09.585379Z"
    },
    "collapsed": false
   },
   "outputs": [],
   "source": [
    "pwd"
   ]
  },
  {
   "cell_type": "code",
   "execution_count": null,
   "metadata": {
    "ExecuteTime": {
     "end_time": "2020-06-29T15:35:13.650978Z",
     "start_time": "2020-06-29T15:35:13.452945Z"
    },
    "collapsed": false
   },
   "outputs": [],
   "source": []
  },
  {
   "cell_type": "code",
   "execution_count": 3,
   "metadata": {
    "ExecuteTime": {
     "end_time": "2020-06-29T15:36:52.783636Z",
     "start_time": "2020-06-29T15:36:52.530341Z"
    },
    "collapsed": false
   },
   "outputs": [],
   "source": [
    "import matplotlib.pyplot as plt\n",
    " \n",
    "plt.style.use('science')"
   ]
  },
  {
   "cell_type": "code",
   "execution_count": 4,
   "metadata": {
    "ExecuteTime": {
     "end_time": "2020-06-29T15:38:25.998524Z",
     "start_time": "2020-06-29T15:38:25.992019Z"
    },
    "collapsed": false
   },
   "outputs": [
    {
     "data": {
      "text/plain": [
       "'/Users/brettlv/blog/brettlv.github.io/pythoncode'"
      ]
     },
     "execution_count": 4,
     "metadata": {},
     "output_type": "execute_result"
    }
   ],
   "source": [
    "pwd"
   ]
  },
  {
   "cell_type": "code",
   "execution_count": 6,
   "metadata": {
    "ExecuteTime": {
     "end_time": "2020-06-29T15:40:57.276422Z",
     "start_time": "2020-06-29T15:40:57.131847Z"
    },
    "collapsed": true
   },
   "outputs": [],
   "source": [
    "mkdir figures"
   ]
  },
  {
   "cell_type": "code",
   "execution_count": 7,
   "metadata": {
    "ExecuteTime": {
     "end_time": "2020-06-29T15:41:27.185164Z",
     "start_time": "2020-06-29T15:41:01.093086Z"
    },
    "collapsed": false
   },
   "outputs": [
    {
     "ename": "OSError",
     "evalue": "'grid' not found in the style library and input is not a valid URL or path; see `style.available` for list of available styles",
     "output_type": "error",
     "traceback": [
      "\u001b[0;31m---------------------------------------------------------------------------\u001b[0m",
      "\u001b[0;31mFileNotFoundError\u001b[0m                         Traceback (most recent call last)",
      "\u001b[0;32m/Users/brettlv/anaconda3/lib/python3.6/site-packages/matplotlib/style/core.py\u001b[0m in \u001b[0;36muse\u001b[0;34m(style)\u001b[0m\n\u001b[1;32m    110\u001b[0m             \u001b[0;32mtry\u001b[0m\u001b[0;34m:\u001b[0m\u001b[0;34m\u001b[0m\u001b[0m\n\u001b[0;32m--> 111\u001b[0;31m                 \u001b[0mrc\u001b[0m \u001b[0;34m=\u001b[0m \u001b[0mrc_params_from_file\u001b[0m\u001b[0;34m(\u001b[0m\u001b[0mstyle\u001b[0m\u001b[0;34m,\u001b[0m \u001b[0muse_default_template\u001b[0m\u001b[0;34m=\u001b[0m\u001b[0;32mFalse\u001b[0m\u001b[0;34m)\u001b[0m\u001b[0;34m\u001b[0m\u001b[0m\n\u001b[0m\u001b[1;32m    112\u001b[0m                 \u001b[0m_apply_style\u001b[0m\u001b[0;34m(\u001b[0m\u001b[0mrc\u001b[0m\u001b[0;34m)\u001b[0m\u001b[0;34m\u001b[0m\u001b[0m\n",
      "\u001b[0;32m/Users/brettlv/anaconda3/lib/python3.6/site-packages/matplotlib/__init__.py\u001b[0m in \u001b[0;36mrc_params_from_file\u001b[0;34m(fname, fail_on_error, use_default_template)\u001b[0m\n\u001b[1;32m   1069\u001b[0m     \"\"\"\n\u001b[0;32m-> 1070\u001b[0;31m     \u001b[0mconfig_from_file\u001b[0m \u001b[0;34m=\u001b[0m \u001b[0m_rc_params_in_file\u001b[0m\u001b[0;34m(\u001b[0m\u001b[0mfname\u001b[0m\u001b[0;34m,\u001b[0m \u001b[0mfail_on_error\u001b[0m\u001b[0;34m)\u001b[0m\u001b[0;34m\u001b[0m\u001b[0m\n\u001b[0m\u001b[1;32m   1071\u001b[0m \u001b[0;34m\u001b[0m\u001b[0m\n",
      "\u001b[0;32m/Users/brettlv/anaconda3/lib/python3.6/site-packages/matplotlib/__init__.py\u001b[0m in \u001b[0;36m_rc_params_in_file\u001b[0;34m(fname, fail_on_error)\u001b[0m\n\u001b[1;32m    985\u001b[0m     \u001b[0mrc_temp\u001b[0m \u001b[0;34m=\u001b[0m \u001b[0;34m{\u001b[0m\u001b[0;34m}\u001b[0m\u001b[0;34m\u001b[0m\u001b[0m\n\u001b[0;32m--> 986\u001b[0;31m     \u001b[0;32mwith\u001b[0m \u001b[0m_open_file_or_url\u001b[0m\u001b[0;34m(\u001b[0m\u001b[0mfname\u001b[0m\u001b[0;34m)\u001b[0m \u001b[0;32mas\u001b[0m \u001b[0mfd\u001b[0m\u001b[0;34m:\u001b[0m\u001b[0;34m\u001b[0m\u001b[0m\n\u001b[0m\u001b[1;32m    987\u001b[0m         \u001b[0;32mtry\u001b[0m\u001b[0;34m:\u001b[0m\u001b[0;34m\u001b[0m\u001b[0m\n",
      "\u001b[0;32m/Users/brettlv/anaconda3/lib/python3.6/contextlib.py\u001b[0m in \u001b[0;36m__enter__\u001b[0;34m(self)\u001b[0m\n\u001b[1;32m     81\u001b[0m         \u001b[0;32mtry\u001b[0m\u001b[0;34m:\u001b[0m\u001b[0;34m\u001b[0m\u001b[0m\n\u001b[0;32m---> 82\u001b[0;31m             \u001b[0;32mreturn\u001b[0m \u001b[0mnext\u001b[0m\u001b[0;34m(\u001b[0m\u001b[0mself\u001b[0m\u001b[0;34m.\u001b[0m\u001b[0mgen\u001b[0m\u001b[0;34m)\u001b[0m\u001b[0;34m\u001b[0m\u001b[0m\n\u001b[0m\u001b[1;32m     83\u001b[0m         \u001b[0;32mexcept\u001b[0m \u001b[0mStopIteration\u001b[0m\u001b[0;34m:\u001b[0m\u001b[0;34m\u001b[0m\u001b[0m\n",
      "\u001b[0;32m/Users/brettlv/anaconda3/lib/python3.6/site-packages/matplotlib/__init__.py\u001b[0m in \u001b[0;36m_open_file_or_url\u001b[0;34m(fname)\u001b[0m\n\u001b[1;32m    970\u001b[0m             \u001b[0mencoding\u001b[0m \u001b[0;34m=\u001b[0m \u001b[0;34m\"utf-8\"\u001b[0m\u001b[0;34m\u001b[0m\u001b[0m\n\u001b[0;32m--> 971\u001b[0;31m         \u001b[0;32mwith\u001b[0m \u001b[0mopen\u001b[0m\u001b[0;34m(\u001b[0m\u001b[0mfname\u001b[0m\u001b[0;34m,\u001b[0m \u001b[0mencoding\u001b[0m\u001b[0;34m=\u001b[0m\u001b[0mencoding\u001b[0m\u001b[0;34m)\u001b[0m \u001b[0;32mas\u001b[0m \u001b[0mf\u001b[0m\u001b[0;34m:\u001b[0m\u001b[0;34m\u001b[0m\u001b[0m\n\u001b[0m\u001b[1;32m    972\u001b[0m             \u001b[0;32myield\u001b[0m \u001b[0mf\u001b[0m\u001b[0;34m\u001b[0m\u001b[0m\n",
      "\u001b[0;31mFileNotFoundError\u001b[0m: [Errno 2] No such file or directory: 'grid'",
      "\nDuring handling of the above exception, another exception occurred:\n",
      "\u001b[0;31mOSError\u001b[0m                                   Traceback (most recent call last)",
      "\u001b[0;32m<ipython-input-7-eb361ad2d701>\u001b[0m in \u001b[0;36m<module>\u001b[0;34m()\u001b[0m\n\u001b[1;32m    126\u001b[0m     \u001b[0mfig\u001b[0m\u001b[0;34m.\u001b[0m\u001b[0msavefig\u001b[0m\u001b[0;34m(\u001b[0m\u001b[0;34m'figures/fig9png'\u001b[0m\u001b[0;34m,\u001b[0m \u001b[0mdpi\u001b[0m\u001b[0;34m=\u001b[0m\u001b[0;36m300\u001b[0m\u001b[0;34m)\u001b[0m\u001b[0;34m\u001b[0m\u001b[0m\n\u001b[1;32m    127\u001b[0m \u001b[0;34m\u001b[0m\u001b[0m\n\u001b[0;32m--> 128\u001b[0;31m \u001b[0;32mwith\u001b[0m \u001b[0mplt\u001b[0m\u001b[0;34m.\u001b[0m\u001b[0mstyle\u001b[0m\u001b[0;34m.\u001b[0m\u001b[0mcontext\u001b[0m\u001b[0;34m(\u001b[0m\u001b[0;34m[\u001b[0m\u001b[0;34m'science'\u001b[0m\u001b[0;34m,\u001b[0m \u001b[0;34m'grid'\u001b[0m\u001b[0;34m]\u001b[0m\u001b[0;34m)\u001b[0m\u001b[0;34m:\u001b[0m\u001b[0;34m\u001b[0m\u001b[0m\n\u001b[0m\u001b[1;32m    129\u001b[0m     \u001b[0mfig\u001b[0m\u001b[0;34m,\u001b[0m \u001b[0max\u001b[0m \u001b[0;34m=\u001b[0m \u001b[0mplt\u001b[0m\u001b[0;34m.\u001b[0m\u001b[0msubplots\u001b[0m\u001b[0;34m(\u001b[0m\u001b[0;34m)\u001b[0m\u001b[0;34m\u001b[0m\u001b[0m\n\u001b[1;32m    130\u001b[0m     \u001b[0;32mfor\u001b[0m \u001b[0mp\u001b[0m \u001b[0;32min\u001b[0m \u001b[0;34m[\u001b[0m\u001b[0;36m10\u001b[0m\u001b[0;34m,\u001b[0m \u001b[0;36m15\u001b[0m\u001b[0;34m,\u001b[0m \u001b[0;36m20\u001b[0m\u001b[0;34m,\u001b[0m \u001b[0;36m30\u001b[0m\u001b[0;34m,\u001b[0m \u001b[0;36m50\u001b[0m\u001b[0;34m,\u001b[0m \u001b[0;36m100\u001b[0m\u001b[0;34m]\u001b[0m\u001b[0;34m:\u001b[0m\u001b[0;34m\u001b[0m\u001b[0m\n",
      "\u001b[0;32m/Users/brettlv/anaconda3/lib/python3.6/contextlib.py\u001b[0m in \u001b[0;36m__enter__\u001b[0;34m(self)\u001b[0m\n\u001b[1;32m     80\u001b[0m     \u001b[0;32mdef\u001b[0m \u001b[0m__enter__\u001b[0m\u001b[0;34m(\u001b[0m\u001b[0mself\u001b[0m\u001b[0;34m)\u001b[0m\u001b[0;34m:\u001b[0m\u001b[0;34m\u001b[0m\u001b[0m\n\u001b[1;32m     81\u001b[0m         \u001b[0;32mtry\u001b[0m\u001b[0;34m:\u001b[0m\u001b[0;34m\u001b[0m\u001b[0m\n\u001b[0;32m---> 82\u001b[0;31m             \u001b[0;32mreturn\u001b[0m \u001b[0mnext\u001b[0m\u001b[0;34m(\u001b[0m\u001b[0mself\u001b[0m\u001b[0;34m.\u001b[0m\u001b[0mgen\u001b[0m\u001b[0;34m)\u001b[0m\u001b[0;34m\u001b[0m\u001b[0m\n\u001b[0m\u001b[1;32m     83\u001b[0m         \u001b[0;32mexcept\u001b[0m \u001b[0mStopIteration\u001b[0m\u001b[0;34m:\u001b[0m\u001b[0;34m\u001b[0m\u001b[0m\n\u001b[1;32m     84\u001b[0m             \u001b[0;32mraise\u001b[0m \u001b[0mRuntimeError\u001b[0m\u001b[0;34m(\u001b[0m\u001b[0;34m\"generator didn't yield\"\u001b[0m\u001b[0;34m)\u001b[0m \u001b[0;32mfrom\u001b[0m \u001b[0;32mNone\u001b[0m\u001b[0;34m\u001b[0m\u001b[0m\n",
      "\u001b[0;32m/Users/brettlv/anaconda3/lib/python3.6/site-packages/matplotlib/style/core.py\u001b[0m in \u001b[0;36mcontext\u001b[0;34m(style, after_reset)\u001b[0m\n\u001b[1;32m    145\u001b[0m         \u001b[0;32mif\u001b[0m \u001b[0mafter_reset\u001b[0m\u001b[0;34m:\u001b[0m\u001b[0;34m\u001b[0m\u001b[0m\n\u001b[1;32m    146\u001b[0m             \u001b[0mmpl\u001b[0m\u001b[0;34m.\u001b[0m\u001b[0mrcdefaults\u001b[0m\u001b[0;34m(\u001b[0m\u001b[0;34m)\u001b[0m\u001b[0;34m\u001b[0m\u001b[0m\n\u001b[0;32m--> 147\u001b[0;31m         \u001b[0muse\u001b[0m\u001b[0;34m(\u001b[0m\u001b[0mstyle\u001b[0m\u001b[0;34m)\u001b[0m\u001b[0;34m\u001b[0m\u001b[0m\n\u001b[0m\u001b[1;32m    148\u001b[0m         \u001b[0;32myield\u001b[0m\u001b[0;34m\u001b[0m\u001b[0m\n\u001b[1;32m    149\u001b[0m \u001b[0;34m\u001b[0m\u001b[0m\n",
      "\u001b[0;32m/Users/brettlv/anaconda3/lib/python3.6/site-packages/matplotlib/style/core.py\u001b[0m in \u001b[0;36muse\u001b[0;34m(style)\u001b[0m\n\u001b[1;32m    115\u001b[0m                     \u001b[0;34m\"{!r} not found in the style library and input is not a \"\u001b[0m\u001b[0;34m\u001b[0m\u001b[0m\n\u001b[1;32m    116\u001b[0m                     \u001b[0;34m\"valid URL or path; see `style.available` for list of \"\u001b[0m\u001b[0;34m\u001b[0m\u001b[0m\n\u001b[0;32m--> 117\u001b[0;31m                     \"available styles\".format(style))\n\u001b[0m\u001b[1;32m    118\u001b[0m \u001b[0;34m\u001b[0m\u001b[0m\n\u001b[1;32m    119\u001b[0m \u001b[0;34m\u001b[0m\u001b[0m\n",
      "\u001b[0;31mOSError\u001b[0m: 'grid' not found in the style library and input is not a valid URL or path; see `style.available` for list of available styles"
     ]
    }
   ],
   "source": [
    "\"\"\" An example of the 'science' theme. \"\"\"\n",
    "\n",
    "import numpy as np \n",
    "import matplotlib.pyplot as plt \n",
    "\n",
    "def model(x, p):\n",
    "    return x ** (2 * p + 1) / (1 + x ** (2 * p))\n",
    "\n",
    "x = np.linspace(0.75, 1.25, 201)\n",
    "\n",
    "with plt.style.context(['science']):\n",
    "    fig, ax = plt.subplots()\n",
    "    for p in [10, 15, 20, 30, 50, 100]:\n",
    "        ax.plot(x, model(x, p), label=p)\n",
    "    ax.legend(title='Order')\n",
    "    ax.set(xlabel='Voltage (mV)')\n",
    "    ax.set(ylabel='Current ($\\mu$A)')\n",
    "    ax.autoscale(tight=True)\n",
    "    #fig.savefig('figures/fig1.pdf')\n",
    "    fig.savefig('figures/fig1png', dpi=300)\n",
    "\n",
    "with plt.style.context(['science', 'ieee']):\n",
    "    fig, ax = plt.subplots()\n",
    "    for p in [10, 20, 50]:\n",
    "        ax.plot(x, model(x, p), label=p)\n",
    "    ax.legend(title='Order')\n",
    "    ax.set(xlabel='Voltage (mV)')\n",
    "    ax.set(ylabel='Current ($\\mu$A)')\n",
    "    ax.autoscale(tight=True)\n",
    "    #fig.savefig('figures/fig2.pdf')\n",
    "    fig.savefig('figures/fig2png', dpi=300)\n",
    "\n",
    "with plt.style.context(['science', 'scatter']):\n",
    "    fig, ax = plt.subplots(figsize=(4,4))\n",
    "    ax.plot([-2, 2], [-2, 2], 'k--')\n",
    "    ax.fill_between([-2, 2], [-2.2, 1.8], [-1.8, 2.2], color='dodgerblue', alpha=0.2, lw=0)\n",
    "    for i in range(7):\n",
    "        x1 = np.random.normal(0, 0.5, 10)\n",
    "        y1 = x1 + np.random.normal(0, 0.2, 10)\n",
    "        ax.plot(x1, y1, label=r\"$^\\#${}\".format(i+1))\n",
    "    ax.legend(title='Sample', loc=2)\n",
    "    ax.set_xlabel(r\"$\\log_{10}\\left(\\frac{L_\\mathrm{IR}}{\\mathrm{L}_\\odot}\\right)$\")\n",
    "    ax.set_ylabel(r\"$\\log_{10}\\left(\\frac{L_\\mathrm{6.2}}{\\mathrm{L}_\\odot}\\right)$\")\n",
    "    ax.set_xlim([-2, 2])\n",
    "    ax.set_ylim([-2, 2])\n",
    "    #fig.savefig('figures/fig3.pdf')\n",
    "    fig.savefig('figures/fig3png', dpi=300)\n",
    "\n",
    "with plt.style.context(['science', 'high-vis']):\n",
    "    fig, ax = plt.subplots()\n",
    "    for p in [10, 15, 20, 30, 50, 100]:\n",
    "        ax.plot(x, model(x, p), label=p)\n",
    "    ax.legend(title='Order')\n",
    "    ax.set(xlabel='Voltage (mV)')\n",
    "    ax.set(ylabel='Current ($\\mu$A)')\n",
    "    ax.autoscale(tight=True)\n",
    "    #fig.savefig('figures/fig4.pdf')\n",
    "    fig.savefig('figures/fig4png', dpi=300)\n",
    "\n",
    "with plt.style.context(['dark_background', 'science', 'high-vis']):\n",
    "    fig, ax = plt.subplots()\n",
    "    for p in [10, 15, 20, 30, 50, 100]:\n",
    "        ax.plot(x, model(x, p), label=p)\n",
    "    ax.legend(title='Order')\n",
    "    ax.set(xlabel='Voltage (mV)')\n",
    "    ax.set(ylabel='Current ($\\mu$A)')\n",
    "    ax.autoscale(tight=True)\n",
    "    #fig.savefig('figures/fig5.pdf')\n",
    "    fig.savefig('figures/fig5png', dpi=300)\n",
    "\n",
    "with plt.style.context(['science', 'notebook']):\n",
    "    fig, ax = plt.subplots()\n",
    "    for p in [10, 15, 20, 30, 50, 100]:\n",
    "        ax.plot(x, model(x, p), label=p)\n",
    "    ax.legend(title='Order')\n",
    "    ax.set(xlabel='Voltage (mV)')\n",
    "    ax.set(ylabel='Current ($\\mu$A)')\n",
    "    ax.autoscale(tight=True)\n",
    "    #fig.savefig('figures/fig10.pdf')\n",
    "    fig.savefig('figures/fig10png', dpi=300)\n",
    "\n",
    "# Plot different color cycles \n",
    "\n",
    "with plt.style.context(['science', 'bright']):\n",
    "    fig, ax = plt.subplots()\n",
    "    for p in [5, 10, 15, 20, 30, 50, 100]:\n",
    "        ax.plot(x, model(x, p), label=p)\n",
    "    ax.legend(title='Order')\n",
    "    ax.set(xlabel='Voltage (mV)')\n",
    "    ax.set(ylabel='Current ($\\mu$A)')\n",
    "    ax.autoscale(tight=True)\n",
    "    #fig.savefig('figures/fig6.pdf')\n",
    "    fig.savefig('figures/fig6png', dpi=300)\n",
    "\n",
    "with plt.style.context(['science', 'vibrant']):\n",
    "    fig, ax = plt.subplots()\n",
    "    for p in [5, 10, 15, 20, 30, 50, 100]:\n",
    "        ax.plot(x, model(x, p), label=p)\n",
    "    ax.legend(title='Order')\n",
    "    ax.set(xlabel='Voltage (mV)')\n",
    "    ax.set(ylabel='Current ($\\mu$A)')\n",
    "    ax.autoscale(tight=True)\n",
    "    #fig.savefig('figures/fig7.pdf')\n",
    "    fig.savefig('figures/fig7png', dpi=300)\n",
    "\n",
    "with plt.style.context(['science', 'muted']):\n",
    "    fig, ax = plt.subplots()\n",
    "    for p in [5, 7, 10, 15, 20, 30, 38, 50, 100, 500]:\n",
    "        ax.plot(x, model(x, p), label=p)\n",
    "    ax.legend(title='Order', fontsize=7)\n",
    "    ax.set(xlabel='Voltage (mV)')\n",
    "    ax.set(ylabel='Current ($\\mu$A)')\n",
    "    ax.autoscale(tight=True)\n",
    "    #fig.savefig('figures/fig8.pdf')\n",
    "    fig.savefig('figures/fig8png', dpi=300)\n",
    "\n",
    "with plt.style.context(['science', 'retro']):\n",
    "    fig, ax = plt.subplots()\n",
    "    for p in [10, 15, 20, 30, 50, 100]:\n",
    "        ax.plot(x, model(x, p), label=p)\n",
    "    ax.legend(title='Order')\n",
    "    ax.set(xlabel='Voltage (mV)')\n",
    "    ax.set(ylabel='Current ($\\mu$A)')\n",
    "    ax.autoscale(tight=True)\n",
    "    #fig.savefig('figures/fig9.pdf')\n",
    "    fig.savefig('figures/fig9png', dpi=300)\n",
    "\n",
    "with plt.style.context(['science', 'grid']):\n",
    "    fig, ax = plt.subplots()\n",
    "    for p in [10, 15, 20, 30, 50, 100]:\n",
    "        ax.plot(x, model(x, p), label=p)\n",
    "    ax.legend(title='Order')\n",
    "    ax.set(xlabel='Voltage (mV)')\n",
    "    ax.set(ylabel='Current ($\\mu$A)')\n",
    "    ax.autoscale(tight=True)\n",
    "    #fig.savefig('figures/fig11.pdf')\n",
    "    fig.savefig('figures/fig11png', dpi=300)\n"
   ]
  },
  {
   "cell_type": "code",
   "execution_count": null,
   "metadata": {
    "collapsed": true
   },
   "outputs": [],
   "source": []
  }
 ],
 "metadata": {
  "kernelspec": {
   "display_name": "Python 3",
   "language": "python",
   "name": "python3"
  },
  "language_info": {
   "codemirror_mode": {
    "name": "ipython",
    "version": 3
   },
   "file_extension": ".py",
   "mimetype": "text/x-python",
   "name": "python",
   "nbconvert_exporter": "python",
   "pygments_lexer": "ipython3",
   "version": "3.6.0"
  },
  "latex_envs": {
   "LaTeX_envs_menu_present": true,
   "autocomplete": true,
   "bibliofile": "biblio.bib",
   "cite_by": "apalike",
   "current_citInitial": 1,
   "eqLabelWithNumbers": true,
   "eqNumInitial": 1,
   "hotkeys": {
    "equation": "Ctrl-E",
    "itemize": "Ctrl-I"
   },
   "labels_anchors": false,
   "latex_user_defs": false,
   "report_style_numbering": false,
   "user_envs_cfg": false
  },
  "toc": {
   "nav_menu": {},
   "number_sections": true,
   "sideBar": true,
   "skip_h1_title": false,
   "toc_cell": false,
   "toc_position": {},
   "toc_section_display": "block",
   "toc_window_display": true
  }
 },
 "nbformat": 4,
 "nbformat_minor": 2
}
