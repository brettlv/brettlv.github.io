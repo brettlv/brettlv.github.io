{
 "cells": [
  {
   "cell_type": "code",
   "execution_count": 1,
   "metadata": {
    "ExecuteTime": {
     "end_time": "2019-04-01T21:11:20.821488Z",
     "start_time": "2019-04-01T21:11:19.539056Z"
    },
    "collapsed": false,
    "deletable": true,
    "editable": true
   },
   "outputs": [],
   "source": [
    "import numpy as np\n",
    "from astropy import units as u\n",
    "from astropy.time import Time\n",
    "from datetime import datetime\n"
   ]
  },
  {
   "cell_type": "code",
   "execution_count": 11,
   "metadata": {
    "ExecuteTime": {
     "end_time": "2019-04-01T21:16:10.605408Z",
     "start_time": "2019-04-01T21:16:10.601759Z"
    },
    "collapsed": false
   },
   "outputs": [],
   "source": [
    "time=['2019-02-23']"
   ]
  },
  {
   "cell_type": "code",
   "execution_count": 12,
   "metadata": {
    "ExecuteTime": {
     "end_time": "2019-04-01T21:16:11.124175Z",
     "start_time": "2019-04-01T21:16:11.117817Z"
    },
    "collapsed": false
   },
   "outputs": [],
   "source": [
    "t=Time(time,format='isot')"
   ]
  },
  {
   "cell_type": "code",
   "execution_count": 13,
   "metadata": {
    "ExecuteTime": {
     "end_time": "2019-04-01T21:16:11.547842Z",
     "start_time": "2019-04-01T21:16:11.543049Z"
    },
    "collapsed": false
   },
   "outputs": [
    {
     "data": {
      "text/plain": [
       "array([ 58537.])"
      ]
     },
     "execution_count": 13,
     "metadata": {},
     "output_type": "execute_result"
    }
   ],
   "source": [
    "t.mjd"
   ]
  },
  {
   "cell_type": "code",
   "execution_count": 2,
   "metadata": {
    "ExecuteTime": {
     "end_time": "2019-01-09T16:48:28.424578Z",
     "start_time": "2019-01-09T16:48:28.419485Z"
    },
    "collapsed": true
   },
   "outputs": [],
   "source": [
    "tmjd1=Time([54603],format='mjd')\n",
    "tmjd2=Time([56622],format='mjd')"
   ]
  },
  {
   "cell_type": "code",
   "execution_count": 3,
   "metadata": {
    "ExecuteTime": {
     "end_time": "2019-01-09T16:48:29.160272Z",
     "start_time": "2019-01-09T16:48:29.143989Z"
    },
    "collapsed": false
   },
   "outputs": [
    {
     "data": {
      "text/plain": [
       "(array([datetime.datetime(2008, 5, 17, 0, 0)], dtype=object),\n",
       " array([datetime.datetime(2013, 11, 26, 0, 0)], dtype=object))"
      ]
     },
     "execution_count": 3,
     "metadata": {},
     "output_type": "execute_result"
    }
   ],
   "source": [
    "tmjd1.datetime,tmjd2.datetime"
   ]
  },
  {
   "cell_type": "code",
   "execution_count": 3,
   "metadata": {
    "ExecuteTime": {
     "end_time": "2019-01-11T13:38:27.778025Z",
     "start_time": "2019-01-11T13:38:27.763728Z"
    },
    "collapsed": false
   },
   "outputs": [
    {
     "data": {
      "text/plain": [
       "array([datetime.datetime(2009, 9, 26, 0, 0)], dtype=object)"
      ]
     },
     "execution_count": 3,
     "metadata": {},
     "output_type": "execute_result"
    }
   ],
   "source": [
    "Time([55100],format='mjd').datetime"
   ]
  },
  {
   "cell_type": "code",
   "execution_count": 4,
   "metadata": {
    "ExecuteTime": {
     "end_time": "2019-01-11T13:46:40.703309Z",
     "start_time": "2019-01-11T13:46:40.698541Z"
    },
    "collapsed": false
   },
   "outputs": [
    {
     "data": {
      "text/plain": [
       "array([datetime.datetime(2010, 1, 4, 0, 0)], dtype=object)"
      ]
     },
     "execution_count": 4,
     "metadata": {},
     "output_type": "execute_result"
    }
   ],
   "source": [
    "Time([55200],format='mjd').datetime"
   ]
  },
  {
   "cell_type": "code",
   "execution_count": 2,
   "metadata": {
    "ExecuteTime": {
     "end_time": "2019-02-27T00:15:49.927261Z",
     "start_time": "2019-02-27T00:15:49.878111Z"
    },
    "collapsed": false
   },
   "outputs": [
    {
     "data": {
      "text/plain": [
       "97.65625"
      ]
     },
     "execution_count": 2,
     "metadata": {},
     "output_type": "execute_result"
    }
   ],
   "source": [
    "2.5**5"
   ]
  },
  {
   "cell_type": "code",
   "execution_count": 4,
   "metadata": {
    "ExecuteTime": {
     "end_time": "2019-02-27T00:17:05.500894Z",
     "start_time": "2019-02-27T00:17:05.496678Z"
    },
    "collapsed": false
   },
   "outputs": [
    {
     "data": {
      "text/plain": [
       "2.51188643150958"
      ]
     },
     "execution_count": 4,
     "metadata": {},
     "output_type": "execute_result"
    }
   ],
   "source": [
    "100**0.2"
   ]
  },
  {
   "cell_type": "code",
   "execution_count": null,
   "metadata": {
    "collapsed": false,
    "deletable": true,
    "editable": true
   },
   "outputs": [],
   "source": [
    "tofgw170817=['2017-08-17T12:41:04']\n",
    "tgw=Time(tofgw170817,format='isot',scale='utc')\n"
   ]
  },
  {
   "cell_type": "code",
   "execution_count": null,
   "metadata": {
    "collapsed": false,
    "deletable": true,
    "editable": true
   },
   "outputs": [],
   "source": [
    "tgw"
   ]
  },
  {
   "cell_type": "code",
   "execution_count": null,
   "metadata": {
    "collapsed": false,
    "deletable": true,
    "editable": true
   },
   "outputs": [],
   "source": [
    "tgw.mjd"
   ]
  },
  {
   "cell_type": "code",
   "execution_count": null,
   "metadata": {
    "collapsed": true,
    "deletable": true,
    "editable": true
   },
   "outputs": [],
   "source": [
    "tofradioobs=['2017-08-18T02:23:0']#VLA\n",
    "tradio=Time(tofradioobs,format='isot',scale='utc')\n"
   ]
  },
  {
   "cell_type": "code",
   "execution_count": null,
   "metadata": {
    "collapsed": true
   },
   "outputs": [],
   "source": [
    "tofradioobs1=['2017-08-17T01:46:0']#ATCA survey"
   ]
  },
  {
   "cell_type": "code",
   "execution_count": null,
   "metadata": {
    "collapsed": true
   },
   "outputs": [],
   "source": []
  },
  {
   "cell_type": "code",
   "execution_count": null,
   "metadata": {
    "collapsed": true
   },
   "outputs": [],
   "source": []
  },
  {
   "cell_type": "code",
   "execution_count": null,
   "metadata": {
    "collapsed": true
   },
   "outputs": [],
   "source": []
  },
  {
   "cell_type": "code",
   "execution_count": null,
   "metadata": {
    "collapsed": false,
    "deletable": true,
    "editable": true
   },
   "outputs": [],
   "source": [
    "(tradio-tgw)*24"
   ]
  },
  {
   "cell_type": "code",
   "execution_count": null,
   "metadata": {
    "collapsed": false,
    "deletable": true,
    "editable": true
   },
   "outputs": [],
   "source": [
    "tradiopaper=tgw.mjd+13.7/24"
   ]
  },
  {
   "cell_type": "code",
   "execution_count": null,
   "metadata": {
    "collapsed": false,
    "deletable": true,
    "editable": true
   },
   "outputs": [],
   "source": [
    "tradiopaperinUTC=Time(tradiopaper,format='mjd')"
   ]
  },
  {
   "cell_type": "code",
   "execution_count": null,
   "metadata": {
    "collapsed": false,
    "deletable": true,
    "editable": true
   },
   "outputs": [],
   "source": [
    "tradiopaperinUTC.format='isot'"
   ]
  },
  {
   "cell_type": "code",
   "execution_count": null,
   "metadata": {
    "collapsed": false,
    "deletable": true,
    "editable": true
   },
   "outputs": [],
   "source": [
    "tradiopaperinUTC"
   ]
  },
  {
   "cell_type": "code",
   "execution_count": null,
   "metadata": {
    "collapsed": false,
    "deletable": true,
    "editable": true
   },
   "outputs": [],
   "source": [
    "0.6*24"
   ]
  },
  {
   "cell_type": "code",
   "execution_count": null,
   "metadata": {
    "collapsed": true,
    "deletable": true,
    "editable": true
   },
   "outputs": [],
   "source": []
  },
  {
   "cell_type": "code",
   "execution_count": null,
   "metadata": {
    "collapsed": false,
    "deletable": true,
    "editable": true
   },
   "outputs": [],
   "source": [
    "t.jd"
   ]
  },
  {
   "cell_type": "code",
   "execution_count": null,
   "metadata": {
    "collapsed": false,
    "deletable": true,
    "editable": true
   },
   "outputs": [],
   "source": [
    "timenow=Time.now()\n",
    "print(timenow.mjd)\n",
    "print(timenow)"
   ]
  },
  {
   "cell_type": "code",
   "execution_count": null,
   "metadata": {
    "collapsed": false,
    "deletable": true,
    "editable": true
   },
   "outputs": [],
   "source": [
    "timenow-t"
   ]
  },
  {
   "cell_type": "code",
   "execution_count": null,
   "metadata": {
    "collapsed": false,
    "deletable": true,
    "editable": true
   },
   "outputs": [],
   "source": [
    "t.datetime"
   ]
  },
  {
   "cell_type": "code",
   "execution_count": null,
   "metadata": {
    "collapsed": false,
    "deletable": true,
    "editable": true
   },
   "outputs": [],
   "source": [
    "Time.now()"
   ]
  },
  {
   "cell_type": "code",
   "execution_count": null,
   "metadata": {
    "collapsed": false,
    "deletable": true,
    "editable": true
   },
   "outputs": [],
   "source": [
    "datetime.now()"
   ]
  },
  {
   "cell_type": "code",
   "execution_count": null,
   "metadata": {
    "collapsed": false,
    "deletable": true,
    "editable": true
   },
   "outputs": [],
   "source": [
    "datetime.now()"
   ]
  },
  {
   "cell_type": "code",
   "execution_count": null,
   "metadata": {
    "collapsed": false,
    "deletable": true,
    "editable": true
   },
   "outputs": [],
   "source": [
    "t=Time([53400],format='mjd')"
   ]
  },
  {
   "cell_type": "code",
   "execution_count": null,
   "metadata": {
    "collapsed": false,
    "deletable": true,
    "editable": true
   },
   "outputs": [],
   "source": [
    "t"
   ]
  },
  {
   "cell_type": "code",
   "execution_count": null,
   "metadata": {
    "collapsed": false,
    "deletable": true,
    "editable": true
   },
   "outputs": [],
   "source": [
    "t.utc"
   ]
  },
  {
   "cell_type": "code",
   "execution_count": null,
   "metadata": {
    "collapsed": false,
    "deletable": true,
    "editable": true
   },
   "outputs": [],
   "source": [
    "t.datetime"
   ]
  },
  {
   "cell_type": "code",
   "execution_count": null,
   "metadata": {
    "collapsed": false,
    "deletable": true,
    "editable": true
   },
   "outputs": [],
   "source": [
    "t1=Time([53447],format='mjd')\n",
    "t1.datetime"
   ]
  },
  {
   "cell_type": "code",
   "execution_count": null,
   "metadata": {
    "collapsed": true,
    "deletable": true,
    "editable": true
   },
   "outputs": [],
   "source": [
    "t2=datetime(2005,3,4)"
   ]
  },
  {
   "cell_type": "code",
   "execution_count": null,
   "metadata": {
    "collapsed": false,
    "deletable": true,
    "editable": true
   },
   "outputs": [],
   "source": []
  },
  {
   "cell_type": "code",
   "execution_count": 12,
   "metadata": {
    "collapsed": false,
    "deletable": true,
    "editable": true
   },
   "outputs": [
    {
     "name": "stdout",
     "output_type": "stream",
     "text": [
      "Let us start Now is 2017-10-21 00:44:21.998723\n",
      "hello! Now is 2017-10-21 00:44:24.000679\n",
      "hello! Now is 2017-10-21 00:44:26.007135\n",
      "hello! Now is 2017-10-21 00:44:28.012977\n",
      "hello! Now is 2017-10-21 00:44:30.015610\n",
      "hello! Now is 2017-10-21 00:44:32.018270\n",
      "hello! Now is 2017-10-21 00:44:34.022369\n",
      "hello! Now is 2017-10-21 00:44:36.024619\n",
      "Timer is stopped\n"
     ]
    }
   ],
   "source": [
    "#schedule\n",
    "import time,os,sched,datetime,calendar\n",
    "from datetime import datetime\n",
    "from threading import Timer\n",
    "from astropy.time import Time\n",
    "\n",
    "def functime():\n",
    "    global timer    \n",
    "    print(\"hello!\",'Now is %s'%Time.now())\n",
    "    timer=Timer(2,functime)\n",
    "    timer.start()#restart to loop\n",
    "    \n",
    "    \n",
    "print(\"Let us start\",'Now is %s'%Time.now())\n",
    "timer=Timer(2,functime)\n",
    "timer.start()#wait 2 second to execute a func\n",
    "\n",
    "\n",
    "time.sleep(15)#stop timer in 15 second\n",
    "timer.cancel()\n",
    "print(\"Timer is stopped\")"
   ]
  },
  {
   "cell_type": "code",
   "execution_count": 13,
   "metadata": {
    "collapsed": false
   },
   "outputs": [
    {
     "name": "stdout",
     "output_type": "stream",
     "text": [
      "2017-10-21 08:45:21.615316\n"
     ]
    }
   ],
   "source": [
    "now=datetime.now()\n",
    "print(now)"
   ]
  },
  {
   "cell_type": "code",
   "execution_count": null,
   "metadata": {
    "collapsed": true
   },
   "outputs": [],
   "source": []
  },
  {
   "cell_type": "code",
   "execution_count": null,
   "metadata": {
    "collapsed": true
   },
   "outputs": [],
   "source": []
  },
  {
   "cell_type": "code",
   "execution_count": null,
   "metadata": {
    "collapsed": false
   },
   "outputs": [],
   "source": [
    "import time,os,sched,datetime\n",
    "from threading import Timer\n",
    "schedule=sched.scheduler(time.time,time.sleep)\n",
    "\n",
    "def execute_command(cmd,inc):#显示计算机连接情况\n",
    "    os.system(cmd)\n",
    "    schedule.enter(inc,0,execute_command,(cmd,inc))\n",
    "    \n",
    "def main1(cmd,inc):\n",
    "    schedule.enter(inc,0,execute_command,(cmd,inc))\n",
    "    schedule.run()\n",
    "    print(Time.now())#每隔inc时间s查看一次网络连接"
   ]
  },
  {
   "cell_type": "code",
   "execution_count": 5,
   "metadata": {
    "collapsed": false
   },
   "outputs": [
    {
     "name": "stdout",
     "output_type": "stream",
     "text": [
      "Darwin-16.7.0-x86_64-i386-64bit\n"
     ]
    }
   ],
   "source": [
    "import platform\n",
    "print(platform.platform())"
   ]
  },
  {
   "cell_type": "code",
   "execution_count": null,
   "metadata": {
    "collapsed": false
   },
   "outputs": [],
   "source": []
  },
  {
   "cell_type": "code",
   "execution_count": 17,
   "metadata": {
    "ExecuteTime": {
     "end_time": "2019-04-02T19:33:37.008907Z",
     "start_time": "2019-04-02T19:33:36.983973Z"
    },
    "collapsed": false
   },
   "outputs": [
    {
     "name": "stdout",
     "output_type": "stream",
     "text": [
      "1554204816.993935\n",
      "time.struct_time(tm_year=2019, tm_mon=4, tm_mday=2, tm_hour=19, tm_min=33, tm_sec=36, tm_wday=1, tm_yday=92, tm_isdst=0)\n",
      "time.struct_time(tm_year=2019, tm_mon=4, tm_mday=2, tm_hour=11, tm_min=33, tm_sec=36, tm_wday=1, tm_yday=92, tm_isdst=0)\n",
      "Tue Apr  2 19:33:36 2019\n",
      "1554204816.0\n",
      "Tue Apr  2 19:33:36 2019\n",
      "02/Apr/2019:19:33:36\n",
      "time.struct_time(tm_year=2013, tm_mon=7, tm_mday=28, tm_hour=4, tm_min=33, tm_sec=29, tm_wday=6, tm_yday=209, tm_isdst=-1)\n",
      "2.45277\n",
      "2.45758\n"
     ]
    }
   ],
   "source": [
    "import time\n",
    "print (time.time()) #打印时间戳\n",
    "print (time.localtime())#打印本地时间元组\n",
    "print (time.gmtime())#答应UTC+0时区的时间元组\n",
    "print (time.ctime())#打印asctime格式化时间\n",
    "print (time.mktime(time.localtime()))#将时间元组转换为时间戳\n",
    "print (time.asctime())#打印格式化时间\n",
    "print (time.strftime('%d/%b/%Y:%X'))#打印指定格式的时间格式\n",
    "#把时间字符串和它的格式翻译成时间元组\n",
    "print(time.strptime('28/Jul/2013:04:33:29', '%d/%b/%Y:%X'))\n",
    "print('%0.5f'%time.clock()) #打印处理器时间\n",
    "for i in range(100000): \n",
    "     pass\n",
    "print('%0.5f'%time.clock())#打印处理器时间\n"
   ]
  },
  {
   "cell_type": "code",
   "execution_count": 21,
   "metadata": {
    "ExecuteTime": {
     "end_time": "2019-04-02T19:34:10.592876Z",
     "start_time": "2019-04-02T19:34:10.587042Z"
    },
    "collapsed": false
   },
   "outputs": [
    {
     "name": "stdout",
     "output_type": "stream",
     "text": [
      "25\n"
     ]
    }
   ],
   "source": [
    "print      ('25')"
   ]
  },
  {
   "cell_type": "code",
   "execution_count": null,
   "metadata": {
    "collapsed": true
   },
   "outputs": [],
   "source": []
  }
 ],
 "metadata": {
  "kernelspec": {
   "display_name": "Python 3",
   "language": "python",
   "name": "python3"
  },
  "language_info": {
   "codemirror_mode": {
    "name": "ipython",
    "version": 3
   },
   "file_extension": ".py",
   "mimetype": "text/x-python",
   "name": "python",
   "nbconvert_exporter": "python",
   "pygments_lexer": "ipython3",
   "version": "3.6.0"
  },
  "latex_envs": {
   "LaTeX_envs_menu_present": true,
   "autocomplete": true,
   "bibliofile": "biblio.bib",
   "cite_by": "apalike",
   "current_citInitial": 1,
   "eqLabelWithNumbers": true,
   "eqNumInitial": 1,
   "hotkeys": {
    "equation": "Ctrl-E",
    "itemize": "Ctrl-I"
   },
   "labels_anchors": false,
   "latex_user_defs": false,
   "report_style_numbering": false,
   "user_envs_cfg": false
  },
  "toc": {
   "nav_menu": {},
   "number_sections": true,
   "sideBar": true,
   "skip_h1_title": false,
   "toc_cell": false,
   "toc_position": {},
   "toc_section_display": "block",
   "toc_window_display": false
  }
 },
 "nbformat": 4,
 "nbformat_minor": 2
}
