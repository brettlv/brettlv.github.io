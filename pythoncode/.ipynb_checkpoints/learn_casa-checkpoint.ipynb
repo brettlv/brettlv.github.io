{
 "cells": [
  {
   "cell_type": "markdown",
   "metadata": {
    "collapsed": true
   },
   "source": [
    "learn_casa_note"
   ]
  },
  {
   "cell_type": "markdown",
   "metadata": {
    "collapsed": true
   },
   "source": [
    "## Words:\n",
    "augment \n",
    "pay heed to\n",
    "novice users\n",
    "have some basic grasp of the fundamentals of synthesis imaging\n",
    "under the hood of \n",
    "Indentation\n",
    "verbatim"
   ]
  },
  {
   "cell_type": "markdown",
   "metadata": {
    "collapsed": true
   },
   "source": [
    "## Book:\n",
    "Synthesis Imaging in Radio Astronomy II (1999, ASP Conference Series\n",
    "Vol. 180, eds. Taylor, Carilli & Perley)\n",
    "\n",
    "Reference for Publications:\n",
    "McMullin, J. P., Waters, B., Schiebel, D., Young, W., & Golap, K. 2007, Astronomical Data Analysis Software and Systems XVI (ASP Conf. Ser. 376), ed. R. A. Shaw, F. Hill, & D. J. Bell (San Francisco, CA: ASP), 127\n",
    "\n",
    "export PATH=$PATH:/<path>/casa-<version>/bin\n",
    "For bash\n",
    "\n",
    "/usr/local/bin/casa"
   ]
  },
  {
   "cell_type": "markdown",
   "metadata": {
    "collapsed": true
   },
   "source": [
    "## For mac\n",
    "General\" and \"Allow applications downloaded from: Mac App store and identified developers\".\n",
    "Optional: Create symbolic links to the CASA version and its executables (Administrator privileges are required), \n",
    "which will allow you to run casa, casaviewer, casaplotms, etc. from any terminal command line. \n",
    "To do so, run !create-symlinks from a CASA prompt.\n",
    "Optional: To update the data repository, run !update-data from the CASA prompt.\n",
    "\n",
    "\n",
    "You can exit CASA by typing quit\n",
    "You can also quit using %exit or CTRL-D\n",
    "\n",
    "\n",
    "First, always check that your inputs are correct; use the\n",
    "    help <taskname>\n",
    "or\n",
    "    help par.<parameter name> "
   ]
  },
  {
   "cell_type": "code",
   "execution_count": null,
   "metadata": {
    "collapsed": true
   },
   "outputs": [],
   "source": [
    "or on MacOSX (or other BSD Unix):\n",
    "    ps -aux | grep casa\n",
    "or\n",
    "    killall Python\n",
    "will terminate the most common post-crash zombies\n",
    "\n",
    "If you want to access system commands from a script, use the os.system command (Appendix B.7.1).\n",
    "In interactive mode, any input line beginning with a ’!’ character is passed verbatim (minus the ’!’, of course) to the underlying operating system. Also, several common commands (ls, pwd, less) may be executed with or without the ’!’, although the cp command must use ’!’ and cd must be executed without the ’!’. For example:\n",
    "  CASA <5>: !rm -r mydata.ms\n",
    "  \n",
    "\n",
    "Note that if you want to access a Unix environment variable, you will need to prefix with a double $$ instead of a single $ — for example, to print the value of the $PAGER variable, you would use\n",
    "  CASA <6>: !echo $$PAGER\n",
    "        \n",
    "ls pwd less\n",
    "!cp\n",
    "cd        "
   ]
  },
  {
   "cell_type": "markdown",
   "metadata": {
    "collapsed": true
   },
   "source": [
    "## command \n",
    "execfile('myscript.py')\n",
    "execfile 'myscript.py'\n",
    "run myscript.py\n",
    "run clean.last\n",
    "\n",
    "Get Return Values\n",
    "xstat=imstat(\"**.clean.image\")\n",
    "\n",
    "help ia.subimage\n",
    "    Summary\n",
    "Create a (sub)image from a region of the image\n",
    "Description\n",
    "\n",
    "toolhelp()\n",
    "\n",
    "inp\n",
    "go\n",
    "\n",
    "\n",
    "default('bandpass')\n",
    "vis=''\n",
    "caltable=''\n",
    "field='0'\n",
    "refant='15'\n",
    "inp('bandpass')\n",
    "\n",
    "inp clean\n",
    "default\n",
    "inp\n",
    "\n",
    "go lisobs\n",
    "taskname='clean'\n",
    "go\n",
    "clean\n",
    "inp\n",
    "\n",
    "saveinputs(taskname,outfile)\n",
    "saveinputs(taskname,taskname+'_1.saved')\n",
    "execfile('listobs.saved')\n",
    "run listobs.saved\n",
    "!more 'listobs.saved'\n",
    "\n",
    "tget\n",
    "tput\n",
    "\n",
    "\n",
    "\n",
    "Image tool(ia) to turn a clean mask image into an image mask\n",
    "ia.open('*.mask')\n",
    "ia.calcmask('','')\n",
    "ia.summary()\n",
    "ia.close()\n",
    "\n",
    "Measurement Set(MS)\n",
    "keep data in the directory where CASA started\n",
    "\n",
    "get rid of data\n",
    "!rm -r AM675.ms\n",
    "!rm -r AM675*\n",
    "os.system('rm -r AM675*')\n",
    "rmtables('AM675.ms')\n",
    "exit casa\n",
    "\n",
    "\n",
    "data selection\n",
    "field,spw,selectdata\n",
    "\n",
    "importuvfits\n",
    "importvla\n",
    "importasdm#ALMA in ASDM format\n",
    "importevla\n",
    "importfits\n",
    "\n",
    "concat or virtualconcat #concatenate multiple MSs\n",
    "\n",
    "listobs\n",
    "flagmanager\n",
    "plotms\n",
    "#plotxy\n",
    "flagdata\n",
    "viewer#CASA viewer can display MS data as a raster image\n"
   ]
  },
  {
   "cell_type": "markdown",
   "metadata": {
    "collapsed": true
   },
   "source": [
    "## The major calibration tasks are:"
   ]
  },
  {
   "cell_type": "code",
   "execution_count": null,
   "metadata": {
    "collapsed": true
   },
   "outputs": [],
   "source": [
    "• setjy — Computes the model visibilities for a specified source given a flux density or model\n",
    "image, knows about standard calibrator sources (§ 4.3.5);\n",
    "• initweights — if necessary, supports (re-)initialization of the data weights, including an\n",
    "option for enabling spectral weight accounting (§ 4.3.1)\n",
    "• gencal — Creates a calibration table for known delay and antenna position offsets (§ 4.3.6);\n",
    "• bandpass — Solves for frequency-dependent (bandpass) complex gains (§ 4.4.2);\n",
    "• gaincal — Solves for time-dependent (frequency-independent) complex gains (§ 4.4.3);\n",
    "• fluxscale — Bootstraps the flux density scale from standard calibrators (§ 4.4.4);\n",
    "• polcal — polarization calibration (§ 4.4.5);\n",
    "• applycal — Applies calculated calibration solutions (§ 4.6.1);\n",
    "• clearcal — Re-initializes calibrated visibility data in a given Measurement Set (§ 4.6.3);\n",
    "• listcal — Lists calibration solutions (§ 4.5.3);\n",
    "• plotcal — Plots (and optionally flags) calibration solutions (§ 4.5.1);\n",
    "• uvcontsub — carry out uv-plane continuum subtraction for spectral-line data (§ 4.7.6);\n",
    "• split — write out a new (calibrated) MS for specified sources (§ 4.7.1);\n",
    "• cvel — Regrid a spectral MS onto a new frequency channel system (§ 4.7.7)"
   ]
  },
  {
   "cell_type": "code",
   "execution_count": null,
   "metadata": {
    "collapsed": true
   },
   "outputs": [],
   "source": [
    "## []()"
   ]
  },
  {
   "cell_type": "markdown",
   "metadata": {
    "ExecuteTime": {
     "end_time": "2019-03-01T13:27:46.177443Z",
     "start_time": "2019-03-01T13:27:46.171592Z"
    },
    "collapsed": true
   },
   "source": [
    "## [casa_Topical_tutor](https://casaguides.nrao.edu/index.php/Karl_G._Jansky_VLA_Tutorials)"
   ]
  },
  {
   "cell_type": "markdown",
   "metadata": {
    "collapsed": true
   },
   "source": [
    "### [VLA CASA Flagging-CASA5.4.0](https://casaguides.nrao.edu/index.php/VLA_CASA_Flagging-CASA5.4.0)"
   ]
  },
  {
   "cell_type": "markdown",
   "metadata": {
    "ExecuteTime": {
     "end_time": "2019-03-24T13:38:00.384956Z",
     "start_time": "2019-03-24T13:38:00.072901Z"
    }
   },
   "source": [
    "#### Code\n",
    "\n",
    "listobs(vis='SNR_G55_10s.ms', listfile='SNR_G55_10s.listobs')\n",
    "plotants(vis='SNR_G55_10s.ms', figfile='SNR_G55_10s.plotants.png')\n",
    "plotms(vis='SNR_G55_10s.ms', field='1', xaxis='time', yaxis='amp', coloraxis='spw')\n",
    "plotms(vis='SNR_G55_10s.ms', scan='30,75,120,165,190,235,303', antenna='ea24', xaxis='freq', \n",
    "       yaxis='amp', coloraxis='spw', iteraxis='scan')\n",
    "msview()\n",
    "flagcmd(vis='SNR_G55_10s.ms', inpmode='table', reason='any', action='plot', plotfile='flaggingreason_vs_time.png')\n",
    "flagcmd(vis='SNR_G55_10s.ms', inpmode='table', reason='any', action='apply', flagbackup=False)\n",
    "plotms(vis='SNR_G55_10s.ms', xaxis='time', yaxis='elevation', antenna='0&1;2&3', spw='*:31',\n",
    "       coloraxis='field', title='Elevation vs. Time', plotfile='Elevation_vs_Time.png')\n",
    "flagdata(vis='SNR_G55_10s.ms', mode='shadow', tolerance=0.0, flagbackup=False)\n",
    "flagdata(vis='SNR_G55_10s.ms', mode='clip', clipzeros=True, flagbackup=False)\n",
    "flagdata(vis='SNR_G55_10s.ms', mode='quack', quackinterval=5.0, quackmode='beg', flagbackup=False)\n",
    "flagmanager(vis='SNR_G55_10s.ms', mode='save', versionname='after_online_flagging')\n",
    "plotms(vis='SNR_G55_10s.ms', scan='190', antenna='ea24', spw='0~2',\n",
    "       xaxis='freq', yaxis='amp', coloraxis='spw', title='Before Hanning',\n",
    "       correlation='RR,LL', plotrange=[1.2,1.8,-0.01,0.25],\n",
    "       plotfile='amp_v_freq.beforeHanning.png')\n",
    "hanningsmooth(vis='SNR_G55_10s.ms', outputvis='SNR_G55_10s-hanning.ms', datacolumn='data')\n",
    "plotms(vis='SNR_G55_10s-hanning.ms', scan='190', antenna='ea24', spw='0~2',\n",
    "       xaxis='freq', yaxis='amp', coloraxis='spw', title='After Hanning',\n",
    "       correlation='RR,LL', plotrange=[1.2,1.8,-0.01,0.25],\n",
    "       plotfile='amp_v_freq.afterHanning.png')\n",
    "plotms(vis='SNR_G55_10s-hanning.ms', scan='190', antenna='ea24', xaxis='freq', iteraxis='scan', yaxis='amp',\n",
    "       ydatacolumn='data', plotfile='amp_v_freq_before_tfcrop.png', title='Before TFCrop',\n",
    "       coloraxis='spw', plotrange=[1.2,2,-0.01,0.25])\n",
    "flagdata(vis='SNR_G55_10s-hanning.ms', mode='tfcrop', spw='0',\n",
    "         datacolumn='data', action='calculate',\n",
    "         display='both', flagbackup=False)\n",
    "flagdata(vis='SNR_G55_10s-hanning.ms', mode='tfcrop', spw='0',\n",
    "         datacolumn='data', action='apply',\n",
    "         display='', flagbackup=False)\n",
    "flagdata(vis='SNR_G55_10s-hanning.ms', mode='tfcrop', spw='1~3',\n",
    "         datacolumn='data', action='apply',\n",
    "         display='both', flagbackup=False)\n",
    "plotms(vis='SNR_G55_10s-hanning.ms', scan='190', antenna='ea24', xaxis='freq', iteraxis='scan', yaxis='amp',\n",
    "       ydatacolumn='data', plotfile='amp_v_freq_after_tfcrop.png', title='After TFCrop',\n",
    "       correlation='RR,LL', coloraxis='spw', plotrange=[1.2,2,-0.01,0.25])\n",
    "flagInfo = flagdata(vis='SNR_G55_10s-hanning.ms', mode='summary')\n",
    "print(\"\\n %2.1f%% of G55.7+3.4, %2.1f%% of 3C147, and %2.1f%% of J1925+2106 are flagged. \\n\" % \n",
    "     (100.0 * flagInfo['field']['G55.7+3.4']['flagged'] / flagInfo['field']['G55.7+3.4']['total'], \n",
    "     100.0 * flagInfo['field']['0542+498=3C147']['flagged'] / flagInfo['field']['0542+498=3C147']['total'], \n",
    "     100.0 * flagInfo['field']['J1925+2106']['flagged'] / flagInfo['field']['J1925+2106']['total']))\n",
    "%cpaste\n",
    "print(\"Spectral windows are flagged as follows:\")\n",
    "for spw in range(0,4):\n",
    "     print(\"SPW %s: %2.1f%%\" % (spw, 100.0 * flagInfo['spw'][str(spw)]['flagged'] / flagInfo['spw'][str(spw)]['total']))\n",
    "plotms(vis='SNR_G55_10s-hanning.ms', scan='42,65,88,11,134,157', antenna='ea24', xaxis='channel', \n",
    "       yaxis='amp', iteraxis='spw')\n",
    "gaincal(vis='SNR_G55_10s-hanning.ms', caltable='SNR_G55_10s-hanning.initPh', field='J1925+2106', \n",
    "        solint=' int ', spw='0:20~24,1:49~52,2:38~41,3:41~44', refant='ea24', minblperant=3, \n",
    "        minsnr=3.0, calmode='p')\n",
    "plotms(vis='SNR_G55_10s-hanning.initPh', xaxis='time', yaxis='phase', \n",
    "       iteraxis='spw', antenna='ea01,ea05,ea10,ea24', coloraxis='Antenna1')\n",
    "bandpass(vis='SNR_G55_10s-hanning.ms', caltable='SNR_G55_10s-hanning.initBP', \n",
    "         field='J1925+2106', solint=' inf ', combine='scan', refant='ea24', \n",
    "         minblperant=3, minsnr=10.0, gaintable='SNR_G55_10s-hanning.initPh', \n",
    "         interp='nearest', solnorm=False)\n",
    "plotms(vis='SNR_G55_10s-hanning.initBP',xaxis='freq', yaxis='amp', iteraxis='antenna', \n",
    "        coloraxis='corr',gridrows=2)\n",
    "flagmanager(vis='SNR_G55_10s-hanning.initBP', mode='save', versionname='before_flagging')\n",
    "plotms(vis='SNR_G55_10s-hanning.initBP',xaxis='freq', yaxis='amp', iteraxis='antenna', \n",
    "       antenna='ea01,ea05', coloraxis='corr', gridrows=2)\n",
    "applycal(vis='SNR_G55_10s-hanning.ms', gaintable='SNR_G55_10s-hanning.initBP', calwt=False)\n",
    "plotms(vis='SNR_G55_10s-hanning.ms', scan='190' , antenna='ea24', xaxis='freq', yaxis='amp',\n",
    "       ydatacolumn='corrected', coloraxis='spw', title='Before RFlag', \n",
    "       plotfile='amp_v_freq.beforeRFlag.png')\n",
    "flagdata(vis='SNR_G55_10s-hanning.ms', mode='rflag', spw='0', datacolumn='corrected', \n",
    "         action='calculate', display='both', flagbackup=False)\n",
    "tget(flagdata)\n",
    "inp\n",
    "flagdata(vis='SNR_G55_10s-hanning.ms', mode='rflag', spw='0', datacolumn='corrected', \n",
    "         freqdevscale=2.5, timedevscale=3.5, action='apply', display='both', flagbackup=False)\n",
    "flagdata(vis='SNR_G55_10s-hanning.ms', mode='extend', spw='0', extendpols=True,  \n",
    "         action='apply', display='', flagbackup=False)\n",
    "flagdata(vis='SNR_G55_10s-hanning.ms', mode='extend', spw='0', growtime=50.0, growfreq=90.0, \n",
    "         action='apply', display='', flagbackup=False)\n",
    "flagdata(vis='SNR_G55_10s-hanning.ms', mode='rflag',  spw='1,3', datacolumn='corrected', \n",
    "         freqdevscale=4.0, timedevscale=4.0, action='apply', display='both', flagbackup=False)\n",
    "flagdata(vis='SNR_G55_10s-hanning.ms', mode='extend', spw='1,3', extendpols=True, action='apply', \n",
    "         display='', flagbackup=False)\n",
    "flagdata(vis='SNR_G55_10s-hanning.ms', mode='extend', spw='1,3', growtime=50.0, growfreq=90.0, \n",
    "         action='apply', display='', flagbackup=False)\n",
    "flagdata(vis='SNR_G55_10s-hanning.ms', mode='rflag',  spw='2', datacolumn='corrected', \n",
    "         freqdevscale=2.5, timedevscale=2.5, action='apply', display='both', flagbackup=False)\n",
    "flagdata(vis='SNR_G55_10s-hanning.ms', mode='extend', spw='2', extendpols=True, action='apply',\n",
    "          display='', flagbackup=False)\n",
    "flagdata(vis='SNR_G55_10s-hanning.ms', mode='extend', spw='2', growtime=50.0, growfreq=90.0, \n",
    "         action='apply', display='', flagbackup=False)\n",
    "plotms(vis='SNR_G55_10s-hanning.ms', scan='190' , antenna='ea24', xaxis='freq', yaxis='amp',  \n",
    "       ydatacolumn='corrected', coloraxis='spw', title='After RFlag', plotfile='amp_v_freq.afterRFlag.png',\n",
    "       plotrange=[1.2,2,0,2.5])\n",
    "flagmanager(vis='SNR_G55_10s-hanning.ms', mode='save',\n",
    "            versionname='before_interactive_flagging')\n",
    "plotms(vis='SNR_G55_10s-hanning.ms', scan='50~100', xaxis='uvdist', yaxis='amp',\n",
    "       ydatacolumn='corrected', coloraxis = 'spw')\n",
    "msview()\n",
    "flagdata(vis='SNR_G55_10s-hanning.ms', scan='87,88', antenna='ea16', flagbackup=True)\n",
    "plotms(vis='SNR_G55_10s-hanning.ms', scan='50~100', xaxis='uvdist', yaxis='amp',\n",
    "       ydatacolumn='corrected', coloraxis = 'spw')\n",
    "flagInfo = flagdata(vis='SNR_G55_10s-hanning.ms', mode='summary', action='calculate', display='report', spwchan=True)\n",
    "print(\"\\n %2.1f%% of G55.7+3.4, %2.1f%% of 3C147, and %2.1f%% of J1925+2106 are flagged. \\n\" %\n",
    "     (100.0 * flagInfo['field']['G55.7+3.4']['flagged'] / flagInfo['field']['G55.7+3.4']['total'],\n",
    "     100.0 * flagInfo['field']['0542+498=3C147']['flagged'] / flagInfo['field']['0542+498=3C147']['total'],\n",
    "     100.0 * flagInfo['field']['J1925+2106']['flagged'] / flagInfo['field']['J1925+2106']['total']))\n",
    "%cpaste\n",
    "print(\"Spectral windows are flagged as follows:\")\n",
    "for spw in range(0,4):\n",
    "     print(\"SPW %s: %2.1f%%\" % (spw, 100.0 * flagInfo['spw'][str(spw)]['flagged'] / flagInfo['spw'][str(spw)]['total']))\n"
   ]
  },
  {
   "cell_type": "markdown",
   "metadata": {},
   "source": [
    "We will be utilizing data taken, with the Karl G. Jansky Very Large Array, of G055.7+3.4., which is a supernova remnant. The data were taken on August 23, 2010 in the first D-configuration for which the new wideband capabilities of the WIDAR (Wideband Interferometric Digital ARchitecture) correlator were available."
   ]
  },
  {
   "cell_type": "markdown",
   "metadata": {
    "collapsed": true
   },
   "source": [
    "data:\n",
    "A copy of the data can be downloaded from http://casa.nrao.edu/Data/EVLA/SNRG55/SNR_G55_10s.tar.gz     "
   ]
  },
  {
   "cell_type": "markdown",
   "metadata": {},
   "source": [
    "J1925+2106, field ID 0: Phase (complex gain (amplitude and phase)) calibrator;\n",
    "G55.7+3.4, field ID 1: The supernova remnant;\n",
    "0542+498=3C147, field ID 2: Flux density/bandpass calibrator.\n",
    "\n",
    "\n",
    "CALIBRATE_PHASE indicates that this is a scan to be used for complex gain (amplitude and phase) calibration;\n",
    "OBSERVE_TARGET indicates that this is the science target;\n",
    "CALIBRATE_AMPLI indicates that this is to be used for flux density calibration, and;\n",
    "CALIBRATE_BANDPASS indicates that these scans are to be used for bandpass calibration."
   ]
  },
  {
   "cell_type": "markdown",
   "metadata": {},
   "source": [
    "listobs and plotants"
   ]
  },
  {
   "cell_type": "code",
   "execution_count": null,
   "metadata": {
    "collapsed": true
   },
   "outputs": [],
   "source": [
    "listobs(vis='SNR_G55_10s.ms', listfile='SNR_G55_10s.listobs')\n",
    "plotants(vis='SNR_G55_10s.ms', figfile='SNR_G55_10s.plotants.png')"
   ]
  },
  {
   "cell_type": "markdown",
   "metadata": {
    "ExecuteTime": {
     "end_time": "2019-03-04T09:53:46.502560Z",
     "start_time": "2019-03-04T09:53:46.495748Z"
    },
    "collapsed": true
   },
   "source": [
    "Identifying RFI with Plotms()"
   ]
  },
  {
   "cell_type": "markdown",
   "metadata": {
    "collapsed": true
   },
   "source": [
    "It is worth first having a look at the data, separately per each field, in amplitude vs. frequency (to identify narrow-band RFI) and amplitude vs. time (intermittent RFI)."
   ]
  },
  {
   "cell_type": "code",
   "execution_count": null,
   "metadata": {
    "collapsed": true
   },
   "outputs": [],
   "source": [
    "plotms(vis='SNR_G55_10s.ms', field='1', xaxis='time', yaxis='amp', coloraxis='spw')\n",
    "plotms(vis='SNR_G55_10s.ms', field='1', xaxis='frequency', yaxis='amp', coloraxis='spw')\n",
    "\n",
    "       "
   ]
  },
  {
   "cell_type": "code",
   "execution_count": null,
   "metadata": {
    "collapsed": true
   },
   "outputs": [],
   "source": [
    "plotms(vis='SNR_G55_10s.ms', scan='30,75,120,165,190,235,303', antenna='ea24', xaxis='freq', \n",
    "       yaxis='amp', coloraxis='spw', iteraxis='scan')\n",
    "\n",
    "\n",
    "plotms(vis='SNR_G55_10s.ms', spw='0', scan='190', xaxis='freq', yaxis='amp')\n",
    "plotms(vis='SNR_G55_10s.ms', spw='2', scan='190', xaxis='freq', yaxis='amp')\n",
    "plotms(vis='SNR_G55_10s.ms', spw='0,2', scan='190', xaxis='freq', yaxis='amp',iteraxis='spw')"
   ]
  },
  {
   "cell_type": "markdown",
   "metadata": {},
   "source": [
    "Progressing through to scan 190 , we can see there is significant time and frequency variable RFI present in the observing session. To determine which spectral windows are affected, click on the Mark Regions tool at the bottom of the plotms GUI (the open box with a green plus sign) and use the mouse to select a few of the highest-amplitude points in each of the spectral windows (Figure 3). Click on the Locate button (magnifying glass on white background). Information about the selected areas should now display in the logger window."
   ]
  },
  {
   "cell_type": "markdown",
   "metadata": {},
   "source": [
    "2019-03-12 12:20:02 INFO PlotMS\tFrequency in [1.66613 1.70851] or [1.29631 1.31942] or [1.31942 1.3374], Amp in [0.202954 0.237418] or [0.201099 0.226923] or [0.174725 0.18956]:\n",
    "\n",
    "1.31-1.33 1.686\n",
    "rfi_L_band\n",
    "1310\tFAA ASR radar\tNM, Albuquerque\tContinuous\tplot\n",
    "1330\tFAA ASR radar\tNM, Albuquerque\t\tplot\n",
    "1668-1680\tRADIOSONDES- WX baloons\t\tIntermittent\tplot\n",
    "1683-1687\tGOES weather satellite\t\t\tplot\n",
    "1689-1693\tGOES weather satellite\t\t\tplot"
   ]
  },
  {
   "cell_type": "markdown",
   "metadata": {
    "collapsed": true
   },
   "source": [
    "Reviewing the log output, we see that spw 0 and 2 are affected the most by RFI. We also get the corresponding frequency where the RFI is present, which appears to be 1.31 and 1.33 GHz for spectral window 0, and 1.686 GHz for spectral window 2. "
   ]
  },
  {
   "cell_type": "markdown",
   "metadata": {
    "collapsed": true
   },
   "source": [
    "<font color='red'>Note: \n",
    "\n",
    "msview() will not handle large data volumes very well, and it may crash if your ms file is too large. If that happens try preselecting a fraction of your data for viewing. Also, sometimes restarting CASA may help.\n",
    "</font>"
   ]
  },
  {
   "cell_type": "markdown",
   "metadata": {
    "collapsed": true
   },
   "source": [
    "The blue coloured pixels are fairly well behaved data, while the green and red pixels are the data affected by the RFI. We can narrow down where that RFI occurs by hovering cursor over the RFI areas (white box/magenta circle in Figure 6) and details on affected baselines, scans, etc will be listed in the Cursors window "
   ]
  },
  {
   "cell_type": "markdown",
   "metadata": {},
   "source": [
    "#### Online flag\n",
    "At the time of importing from the SDM-BDF raw data to a MS, we chose to process the online flags from the Flags.xml file to the FLAG_CMD sub-table within the MS. We also created the SNR_G55.ms.onlineflags.txt file, a plain text document that includes the list of online flags. Note that this step is not necessary if you choose to apply online flags at the time of the data download from the archive."
   ]
  },
  {
   "cell_type": "code",
   "execution_count": null,
   "metadata": {
    "collapsed": true
   },
   "outputs": [],
   "source": [
    "flagcmd(vis='SNR_G55_10s.ms', inpmode='table', reason='any', action='plot', plotfile='flaggingreason_vs_time.png')\n",
    "flagcmd(vis='SNR_G55_10s.ms', inpmode='table', reason='any', action='apply', flagbackup=False)"
   ]
  },
  {
   "cell_type": "markdown",
   "metadata": {},
   "source": [
    "#### Shadowed Antennas\n",
    "\n",
    "#### Zero-Amplitude Data\n",
    "\n",
    "#### Quacking\n",
    "\n"
   ]
  },
  {
   "cell_type": "code",
   "execution_count": null,
   "metadata": {
    "collapsed": true
   },
   "outputs": [],
   "source": [
    "plotms(vis='SNR_G55_10s.ms', xaxis='time', yaxis='elevation', antenna='0&1;2&3', spw='*:31',\n",
    "       coloraxis='field', title='Elevation vs. Time', plotfile='Elevation_vs_Time.png')\n",
    "flagdata(vis='SNR_G55_10s.ms', mode='shadow', tolerance=0.0, flagbackup=False)\n",
    "\n",
    "flagdata(vis='SNR_G55_10s.ms', mode='clip', clipzeros=True, flagbackup=False)\n",
    "\n",
    "flagdata(vis='SNR_G55_10s.ms', mode='quack', quackinterval=5.0, quackmode='beg', flagbackup=False)"
   ]
  },
  {
   "cell_type": "markdown",
   "metadata": {},
   "source": [
    "#### Backup Data - Flagmanager"
   ]
  },
  {
   "cell_type": "code",
   "execution_count": null,
   "metadata": {
    "collapsed": true
   },
   "outputs": [],
   "source": [
    "flagmanager(vis='SNR_G55_10s.ms', mode='save', versionname='after_online_flagging')\n",
    "#flagmanager(vis='SNR_G55_10s.ms', mode='restore', versionname='after_online_flagging')\n",
    "\n",
    "\n",
    "plotms(vis='SNR_G55_10s.ms', scan='190', antenna='ea24', spw='0~2',\n",
    "       xaxis='freq', yaxis='amp', coloraxis='spw', title='Before Hanning',\n",
    "       correlation='RR,LL', plotrange=[1.2,1.8,-0.01,0.25],\n",
    "       plotfile='amp_v_freq.beforeHanning.png')\n",
    "\n",
    "\n",
    "hanningsmooth(vis='SNR_G55_10s.ms', outputvis='SNR_G55_10s-hanning.ms', datacolumn='data')\n",
    "\n",
    "\n",
    "plotms(vis='SNR_G55_10s-hanning.ms', scan='190', antenna='ea24', spw='0~2',\n",
    "       xaxis='freq', yaxis='amp', coloraxis='spw', title='After Hanning',\n",
    "       correlation='RR,LL', plotrange=[1.2,1.8,-0.01,0.25],\n",
    "       plotfile='amp_v_freq.afterHanning.png')"
   ]
  },
  {
   "cell_type": "markdown",
   "metadata": {},
   "source": [
    "#### Automatic RFI Excision\n",
    "\n",
    "Take some time to play with the parameters, and the plotting capabilities, as this will be important when you are working with your own data later on. Because we set parameters display='both' and action='calculate', the flags are displayed but not actually written to the MS. This allows one to try different sets of parameters before actually applying the flags to the data."
   ]
  },
  {
   "cell_type": "markdown",
   "metadata": {
    "ExecuteTime": {
     "end_time": "2019-03-13T21:13:24.485897Z",
     "start_time": "2019-03-13T21:13:24.474147Z"
    }
   },
   "source": [
    "#### tfcrop"
   ]
  },
  {
   "cell_type": "code",
   "execution_count": null,
   "metadata": {
    "collapsed": true
   },
   "outputs": [],
   "source": [
    "plotms(vis='SNR_G55_10s-hanning.ms', scan='190', antenna='ea24', xaxis='freq', iteraxis='scan', yaxis='amp',\n",
    "       ydatacolumn='data', plotfile='amp_v_freq_before_tfcrop.png', title='Before TFCrop',\n",
    "       coloraxis='spw', plotrange=[1.2,2,-0.01,0.25])\n",
    "\n",
    "#spw0\n",
    "flagdata(vis='SNR_G55_10s-hanning.ms', mode='tfcrop', spw='0',\n",
    "         datacolumn='data', action='calculate',\n",
    "         display='both', flagbackup=False)\n",
    "#apply flag\n",
    "flagdata(vis='SNR_G55_10s-hanning.ms', mode='tfcrop', spw='0',\n",
    "         datacolumn='data', action='apply',\n",
    "         display='', flagbackup=False)\n",
    "\n",
    "flagdata(vis='SNR_G55_10s-hanning.ms', mode='tfcrop', spw='1~3',\n",
    "         datacolumn='data', action='apply',\n",
    "         display='both', flagbackup=False)\n",
    "\n",
    "plotms(vis='SNR_G55_10s-hanning.ms', scan='190', antenna='ea24', xaxis='freq', iteraxis='scan', yaxis='amp',\n",
    "       ydatacolumn='data', plotfile='amp_v_freq_after_tfcrop.png', title='After TFCrop',\n",
    "       correlation='RR,LL', coloraxis='spw', plotrange=[1.2,2,-0.01,0.25])"
   ]
  },
  {
   "cell_type": "markdown",
   "metadata": {},
   "source": [
    "#### Flagging Summary\n"
   ]
  },
  {
   "cell_type": "code",
   "execution_count": null,
   "metadata": {
    "collapsed": true
   },
   "outputs": [],
   "source": [
    "flagInfo = flagdata(vis='SNR_G55_10s-hanning.ms', mode='summary')\n",
    "\n",
    "flagInfo\n",
    "\n",
    "print(\"\\n %2.1f%% of G55.7+3.4, %2.1f%% of 3C147, and %2.1f%% of J1925+2106 are flagged. \\n\" % \n",
    "     (100.0 * flagInfo['field']['G55.7+3.4']['flagged'] / flagInfo['field']['G55.7+3.4']['total'], \n",
    "     100.0 * flagInfo['field']['0542+498=3C147']['flagged'] / flagInfo['field']['0542+498=3C147']['total'], \n",
    "     100.0 * flagInfo['field']['J1925+2106']['flagged'] / flagInfo['field']['J1925+2106']['total']))\n",
    "     \n",
    "\n",
    "\n",
    "22.8% of G55.7+3.4, 54.4% of 3C147, and 28.4% of J1925+2106 are flagged."
   ]
  },
  {
   "cell_type": "markdown",
   "metadata": {},
   "source": [
    "Note: IPython currently prevents copy/pasting several lines of code. To remedy this, we will use the %cpaste command to allow multiple lines to be placed in the terminal. Make sure you also copy the \"--\" characters to close the %cpaste input."
   ]
  },
  {
   "cell_type": "code",
   "execution_count": null,
   "metadata": {
    "collapsed": true
   },
   "outputs": [],
   "source": [
    "### In CASA\n",
    "%cpaste\n",
    "\n",
    "#### Press Enter or Return, then copy/paste the following:\n",
    "print(\"Spectral windows are flagged as follows:\")\n",
    "\n",
    "for spw in range(0,4):\n",
    "     print(\"SPW %s: %2.1f%%\" % (spw, 100.0 * flagInfo['spw'][str(spw)]['flagged'] / flagInfo['spw'][str(spw)]['total']))\n",
    "--\n",
    "\n",
    "\n",
    "\n",
    "Spectral windows are flagged as follows:\n",
    "SPW 0: 32.9%\n",
    "SPW 1: 19.7%\n",
    "SPW 2: 25.5%\n",
    "SPW 3: 19.3%"
   ]
  },
  {
   "cell_type": "markdown",
   "metadata": {},
   "source": [
    "#### RFlag\n",
    "RFlag, like TFCrop, is an autoflag algorithm which uses a sliding window statistical filter. Data are iterated through in segments of time where statistics are accumulated and thresholds calculated.\n",
    "\n",
    "WARNING: It is important to not assume that rflag can run on your target. This is especially important for spectral lines, as it may mistake them for interference.\n",
    "\n",
    "<font color='red'>IMPORTANT: Task rflag should be executed on calibrated data only. \n",
    "</font>\n",
    "\n",
    "For more details, please see Emmanuel Momjian's presentation on VLA Data Reduction Techniques and Calibration given during the 5th VLA Data Reduction Workshop."
   ]
  },
  {
   "cell_type": "code",
   "execution_count": null,
   "metadata": {
    "collapsed": true
   },
   "outputs": [],
   "source": [
    "plotms(vis='SNR_G55_10s-hanning.ms', scan='42,65,88,11,134,157', antenna='ea24', xaxis='channel', \n",
    "       yaxis='amp', iteraxis='spw')"
   ]
  },
  {
   "cell_type": "markdown",
   "metadata": {},
   "source": [
    "Iterating over each spectral window plot, search for channel ranges with stable amplitudes. An example of a few appropriate channel ranges include: SPW 0:20~24, SPW 1:49~52, SPW 2:38~41, SPW 3:41~44.\n",
    "\n",
    "\n",
    "Using these ranges, run gaincal to calculate phase-only solutions that will be used as input during the initial bandpass calibration. Remember: the calibration tables we are creating now are so that we can use an automatic RFI flagging algorithm. The final calibration tables will be generated later, after automated flagging. Here are the inputs for the initial pre-bandpass phase calibration"
   ]
  },
  {
   "cell_type": "markdown",
   "metadata": {},
   "source": [
    "##### bandpass calibration to demonstrate RFlag"
   ]
  },
  {
   "cell_type": "code",
   "execution_count": null,
   "metadata": {
    "collapsed": true
   },
   "outputs": [],
   "source": [
    "gaincal(vis='SNR_G55_10s-hanning.ms', caltable='SNR_G55_10s-hanning.initPh', field='J1925+2106', \n",
    "        solint=' int ', spw='0:20~24,1:49~52,2:38~41,3:41~44', refant='ea24', minblperant=3, \n",
    "        minsnr=3.0, calmode='p')\n",
    "\n",
    "plotms(vis='SNR_G55_10s-hanning.initPh', xaxis='time', yaxis='phase', \n",
    "       iteraxis='spw', antenna='ea01,ea05,ea10,ea24', coloraxis='Antenna1')\n",
    "\n",
    "bandpass(vis='SNR_G55_10s-hanning.ms', caltable='SNR_G55_10s-hanning.initBP', \n",
    "         field='J1925+2106', solint=' inf ', combine='scan', refant='ea24', \n",
    "         minblperant=3, minsnr=10.0, gaintable='SNR_G55_10s-hanning.initPh', \n",
    "         interp='nearest', solnorm=False)\n",
    "\n",
    "plotms(vis='SNR_G55_10s-hanning.initBP',xaxis='freq', yaxis='amp', iteraxis='antenna', \n",
    "        coloraxis='corr',gridrows=2)\n",
    "\n",
    "\n",
    "\n",
    "\n"
   ]
  },
  {
   "cell_type": "markdown",
   "metadata": {},
   "source": [
    "#### Interactive flagging of bad solutions (calibration tables)\n",
    "\n",
    "Interactive plotms flagging of the offset points for ea01 and ea05 in the calibration table. \n",
    "\n",
    "We notice that antennas ea01 and ea05 have a point that is offset from the rest (Figures 15a,c)."
   ]
  },
  {
   "cell_type": "markdown",
   "metadata": {},
   "source": []
  },
  {
   "cell_type": "code",
   "execution_count": null,
   "metadata": {
    "collapsed": true
   },
   "outputs": [],
   "source": [
    "flagmanager(vis='SNR_G55_10s-hanning.initBP', mode='save', versionname='before_flagging')\n",
    "\n",
    "plotms(vis='SNR_G55_10s-hanning.initBP',xaxis='freq', yaxis='amp', iteraxis='antenna', \n",
    "       antenna='ea01,ea05', coloraxis='corr', gridrows=2)"
   ]
  },
  {
   "cell_type": "markdown",
   "metadata": {},
   "source": [
    "##### apply calibration"
   ]
  },
  {
   "cell_type": "code",
   "execution_count": null,
   "metadata": {
    "collapsed": true
   },
   "outputs": [],
   "source": [
    "applycal(vis='SNR_G55_10s-hanning.ms', gaintable='SNR_G55_10s-hanning.initBP', calwt=False)"
   ]
  },
  {
   "cell_type": "markdown",
   "metadata": {},
   "source": [
    "##### Running RFlag on bandpass calibrated data"
   ]
  },
  {
   "cell_type": "code",
   "execution_count": null,
   "metadata": {
    "collapsed": true
   },
   "outputs": [],
   "source": [
    "plotms(vis='SNR_G55_10s-hanning.ms', scan='190' , antenna='ea24', xaxis='freq', yaxis='amp',\n",
    "       ydatacolumn='corrected', coloraxis='spw', title='Before RFlag', \n",
    "       plotfile='amp_v_freq.beforeRFlag.png')\n",
    "flagdata(vis='SNR_G55_10s-hanning.ms', mode='rflag', spw='0', datacolumn='corrected', \n",
    "         action='calculate', display='both', flagbackup=False)\n",
    "\n",
    "\n",
    "# In CASA, get the last called parameter values for flagdata\n",
    "tget flagdata\n",
    "# In CASA, inspect the inputs\n",
    "inp"
   ]
  },
  {
   "cell_type": "markdown",
   "metadata": {},
   "source": [
    "A value smaller than the default (5.0) will flag more data in either the time or frequency axes, as can be seen on the plots in the displayed window. A value larger than the default will result in less flagged data."
   ]
  },
  {
   "cell_type": "code",
   "execution_count": null,
   "metadata": {
    "collapsed": true
   },
   "outputs": [],
   "source": [
    "flagdata(vis='SNR_G55_10s-hanning.ms', mode='rflag', spw='0', datacolumn='corrected', \n",
    "         freqdevscale=2.5, timedevscale=3.5, action='apply', display='both', flagbackup=False)\n",
    "\n",
    "flagdata(vis='SNR_G55_10s-hanning.ms', mode='extend', spw='0', extendpols=True,  \n",
    "         action='apply', display='', flagbackup=False)\n",
    "\n",
    "flagdata(vis='SNR_G55_10s-hanning.ms', mode='extend', spw='0', growtime=50.0, growfreq=90.0, \n",
    "         action='apply', display='', flagbackup=False)"
   ]
  },
  {
   "cell_type": "code",
   "execution_count": null,
   "metadata": {
    "collapsed": true
   },
   "outputs": [],
   "source": [
    "flagdata(vis='SNR_G55_10s-hanning.ms', mode='rflag',  spw='1,3', datacolumn='corrected', \n",
    "         freqdevscale=4.0, timedevscale=4.0, action='apply', display='both', flagbackup=False)\n",
    "# In CASA, extend flags in polarization for spectral windows 1 & 3\n",
    "flagdata(vis='SNR_G55_10s-hanning.ms', mode='extend', spw='1,3', extendpols=True, action='apply', \n",
    "         display='', flagbackup=False)\n",
    "# In CASA, extend flags in time and frequency for spectral windows 1 & 3\n",
    "flagdata(vis='SNR_G55_10s-hanning.ms', mode='extend', spw='1,3', growtime=50.0, growfreq=90.0, \n",
    "         action='apply', display='', flagbackup=False)\n",
    "\n",
    "\n",
    "\n",
    "# In CASA, run RFlag on spectral window 2 with more RFI, hence smaller frequency and time deviation scale values\n",
    "flagdata(vis='SNR_G55_10s-hanning.ms', mode='rflag',  spw='2', datacolumn='corrected', \n",
    "         freqdevscale=2.5, timedevscale=2.5, action='apply', display='', flagbackup=False)\n",
    "# In CASA, extend flags in polarization for spectral window 2\n",
    "flagdata(vis='SNR_G55_10s-hanning.ms', mode='extend', spw='2', extendpols=True, action='apply',\n",
    "          display='', flagbackup=False)\n",
    "# In CASA, extend flags in time and frequency for spectral window 2\n",
    "flagdata(vis='SNR_G55_10s-hanning.ms', mode='extend', spw='2', growtime=50.0, growfreq=90.0, \n",
    "         action='apply', display='', flagbackup=False)\n",
    "\n",
    "\n",
    "\n",
    "plotms(vis='SNR_G55_10s-hanning.ms', scan='190' , antenna='ea24', xaxis='freq', yaxis='amp',  \n",
    "       ydatacolumn='corrected', coloraxis='spw', title='After RFlag', plotfile='amp_v_freq.afterRFlag.png',\n",
    "       plotrange=[1.2,2,0,2.5])"
   ]
  },
  {
   "cell_type": "markdown",
   "metadata": {},
   "source": [
    "##### To flag data interactively (manually), one can use plotms. \n",
    "We will be scanning for data points that look odd. Please note that flagging data through plotms will not create a backup, so it's important to use the flagmanager() before deciding to mark your regions for flagging purposes."
   ]
  },
  {
   "cell_type": "code",
   "execution_count": null,
   "metadata": {
    "collapsed": true
   },
   "outputs": [],
   "source": [
    "flagmanager(vis='SNR_G55_10s-hanning.ms', mode='save',\n",
    "            versionname='before_interactive_flagging')\n",
    "\n",
    "\n",
    "plotms(vis='SNR_G55_10s-hanning.ms', scan='50~100', xaxis='uvdist', yaxis='amp',\n",
    "       ydatacolumn='corrected', coloraxis = 'spw')\n",
    "\n",
    "flagdata(vis='SNR_G55_10s-hanning.ms', scan='87,88', antenna='ea16', flagbackup=True)\n",
    "\n",
    "plotms(vis='SNR_G55_10s-hanning.ms', scan='50~100', xaxis='uvdist', yaxis='amp',\n",
    "       ydatacolumn='corrected', coloraxis = 'spw')"
   ]
  },
  {
   "cell_type": "markdown",
   "metadata": {},
   "source": [
    "#### Flagging Summary & Report"
   ]
  },
  {
   "cell_type": "code",
   "execution_count": null,
   "metadata": {
    "collapsed": true
   },
   "outputs": [],
   "source": [
    "flagInfo = flagdata(vis='SNR_G55_10s-hanning.ms', mode='summary', action='calculate', display='report', spwchan=True)\n",
    "\n",
    "print(\"\\n %2.1f%% of G55.7+3.4, %2.1f%% of 3C147, and %2.1f%% of J1925+2106 are flagged. \\n\" %\n",
    "     (100.0 * flagInfo['field']['G55.7+3.4']['flagged'] / flagInfo['field']['G55.7+3.4']['total'],\n",
    "     100.0 * flagInfo['field']['0542+498=3C147']['flagged'] / flagInfo['field']['0542+498=3C147']['total'],\n",
    "     100.0 * flagInfo['field']['J1925+2106']['flagged'] / flagInfo['field']['J1925+2106']['total']))\n"
   ]
  },
  {
   "cell_type": "markdown",
   "metadata": {},
   "source": [
    "libc++abi.dylib: terminating with uncaught exception of type DBus::Error: Message recipient disconnected from message bus without replying\n",
    "\n",
    "--------------------------------------------------------------\n",
    "CASA has crashed...\n",
    "-- -- -- -- -- -- -- -- -- -- -- -- -- -- -- -- -- -- -- -- --\n",
    "A crash report is being generated and submitted. The report\n",
    "will contain information about CASA's environment when the\n",
    "crash occurred (e.g. CASA log, call stack, CPU information).\n",
    "This should not take too long..."
   ]
  },
  {
   "cell_type": "code",
   "execution_count": null,
   "metadata": {
    "collapsed": true
   },
   "outputs": [],
   "source": [
    "flagInfo = flagdata(vis='SNR_G55_10s-hanning.ms', mode='summary', action='calculate', display='', spwchan=True)\n",
    "\n",
    "print(\"\\n %2.1f%% of G55.7+3.4, %2.1f%% of 3C147, and %2.1f%% of J1925+2106 are flagged. \\n\" %\n",
    "     (100.0 * flagInfo['field']['G55.7+3.4']['flagged'] / flagInfo['field']['G55.7+3.4']['total'],\n",
    "     100.0 * flagInfo['field']['0542+498=3C147']['flagged'] / flagInfo['field']['0542+498=3C147']['total'],\n",
    "     100.0 * flagInfo['field']['J1925+2106']['flagged'] / flagInfo['field']['J1925+2106']['total']))\n",
    "\n",
    "43.7% of G55.7+3.4, 68.8% of 3C147, and 47.8% of J1925+2106 are flagged. \n",
    "\n",
    "\n",
    "\n",
    "%cpaste\n",
    "\n",
    "# Press Enter or Return, then copy/paste the following:\n",
    "print(\"Spectral windows are flagged as follows:\")\n",
    "\n",
    "for spw in range(0,4):\n",
    "     print(\"SPW %s: %2.1f%%\" % (spw, 100.0 * flagInfo['spw'][str(spw)]['flagged'] / flagInfo['spw'][str(spw)]['total']))\n",
    "        \n",
    "        \n",
    "Pasting code; enter '--' alone on the line to stop or use Ctrl-D.\n",
    ":--\n",
    "Spectral windows are flagged as follows:\n",
    "SPW 0: 63.0%\n",
    "SPW 1: 28.3%\n",
    "SPW 2: 64.5%\n",
    "SPW 3: 23.9%   \n",
    "    \n",
    "    "
   ]
  },
  {
   "cell_type": "code",
   "execution_count": null,
   "metadata": {
    "collapsed": true
   },
   "outputs": [],
   "source": [
    "In addition, we can inspect the CASA log, which will report the percentage of flagged data for: \n",
    "1. per Spw/ per Channel \n",
    "2. Each Antenna \n",
    "3. Every Correlation (RR, RL, LL, LR) \n",
    "4. Every Scan \n",
    "5. Every spectral window "
   ]
  },
  {
   "cell_type": "code",
   "execution_count": null,
   "metadata": {
    "collapsed": true
   },
   "outputs": [],
   "source": []
  },
  {
   "cell_type": "code",
   "execution_count": null,
   "metadata": {
    "collapsed": true
   },
   "outputs": [],
   "source": []
  },
  {
   "cell_type": "code",
   "execution_count": null,
   "metadata": {
    "collapsed": true
   },
   "outputs": [],
   "source": []
  },
  {
   "cell_type": "code",
   "execution_count": null,
   "metadata": {
    "collapsed": true
   },
   "outputs": [],
   "source": []
  },
  {
   "cell_type": "markdown",
   "metadata": {
    "collapsed": true
   },
   "source": [
    "### [VLA CASA Imaging-CASA5.4.0](https://casaguides.nrao.edu/index.php/VLA_CASA_Imaging-CASA5.4.0)"
   ]
  },
  {
   "cell_type": "markdown",
   "metadata": {},
   "source": [
    "A copy of the calibrated data (1.2GB) can be downloaded from http://casa.nrao.edu/Data/EVLA/SNRG55/SNR_G55_10s.calib.tar.gz"
   ]
  },
  {
   "cell_type": "markdown",
   "metadata": {
    "collapsed": true
   },
   "source": [
    "#### Code\n",
    "\n",
    "rmtables('<imagename>.*')\n",
    "tclean(vis='SNR_G55_10s.calib.ms', imagename='SNR_G55_10s.dirty', \n",
    "      imsize=1280, cell='8arcsec', pblimit=-0.01, niter=0,  \n",
    "      stokes='I', savemodel='modelcolumn')\n",
    "viewer('SNR_G55_10s.dirty.image')\n",
    "viewer('SNR_G55_10s.dirty.psf')\n",
    "tclean(vis='SNR_G55_10s.calib.ms', imagename='SNR_G55_10s.Reg.Clean.niter1K', \n",
    "      imsize=1280, cell='8arcsec', pblimit=-0.01, niter=1000, savemodel='modelcolumn')\n",
    "viewer('SNR_G55_10s.Reg.Clean.niter1K.image')\n",
    "viewer('SNR_G55_10s.Reg.Clean.niter1K.residual')\n",
    "\n",
    "\n",
    "tclean(vis='SNR_G55_10s.calib.ms', imagename='SNR_G55_10s.Reg.Clean.niter10K', \n",
    "      imsize=1280, cell='8arcsec', pblimit=-0.01, niter=10000, savemodel='modelcolumn')\n",
    "viewer('SNR_G55_10s.Reg.Clean.niter10K.image')\n",
    "\n",
    "tclean(vis='SNR_G55_10s.calib.ms', imagename='SNR_G55_10s.natural', weighting='natural',\n",
    "      imsize=540, cell='8arcsec', pblimit=-0.01, niter=1000, interactive=False, threshold='0.15mJy', savemodel='modelcolumn')\n",
    "tclean(vis='SNR_G55_10s.calib.ms', imagename='SNR_G55_10s.uniform',weighting='uniform',\n",
    "      imsize=540, cell='8arcsec', pblimit=-0.01, niter=1000, interactive=False, threshold='0.15mJy', savemodel='modelcolumn')\n",
    "tclean(vis='SNR_G55_10s.calib.ms', imagename='SNR_G55_10s.briggs', weighting='briggs', robust=0.0,\n",
    "      imsize=540, cell='8arcsec', pblimit=-0.01, niter=1000, interactive=False, threshold='0.15mJy', savemodel='modelcolumn')\n",
    "      \n",
    "viewer()\n",
    "\n",
    "tclean(vis='SNR_G55_10s.calib.ms', imagename='SNR_G55_10s.MultiScale', deconvolver='multiscale', scales=[0,6,10,30,60],\n",
    "       smallscalebias=0.9, imsize=1280, cell='8arcsec', pblimit=-0.01, niter=1000,weighting='briggs', stokes='I',\n",
    "       robust=0.0, interactive=False, threshold='0.12mJy', savemodel='modelcolumn')\n",
    "viewer('SNR_G55_10s.MultiScale.image')\n",
    "\n",
    "tclean(vis='SNR_G55_10s.calib.ms', imagename='SNR_G55_10s.wProj',\n",
    "       gridder='wproject', wprojplanes=-1, deconvolver='multiscale', scales=[0,6,10,30,60], \n",
    "       smallscalebias=0.9, imsize=1280, cell='8arcsec', pblimit=-0.01, niter=1000, weighting='briggs',\n",
    "       stokes='I', robust=0.0, interactive=False, threshold='0.15mJy', savemodel='modelcolumn')\n",
    "viewer('SNR_G55_10s.wProj.image')\n",
    "\n",
    "\n",
    "\n",
    "tclean(vis='SNR_G55_10s.calib.ms', imagename='SNR_G55_10s.ms.MTMFS',\n",
    "       gridder='standard', imsize=1280, cell='8arcsec', specmode='mfs',\n",
    "       deconvolver='mtmfs', nterms=2, scales=[0,6,10,30,60], smallscalebias=0.9, \n",
    "       interactive=False, niter=1000,  weighting='briggs', pblimit=-0.01,\n",
    "       stokes='I', threshold='0.15mJy', savemodel='modelcolumn')\n",
    "viewer('SNR_G55_10s.ms.MTMFS.image.tt0')\n",
    "viewer('SNR_G55_10s.ms.MTMFS.alpha')\n",
    "\n",
    "tclean(vis='SNR_G55_10s.calib.ms', imagename='SNR_G55_10s.ms.MTMFS.wProj',\n",
    "       gridder='wproject',wprojplanes=-1, pblimit=-1, imsize=1280, cell='8arcsec', specmode='mfs',\n",
    "       deconvolver='mtmfs', nterms=2, scales=[0,6,10,30,60], smallscalebias=0.9,\n",
    "       interactive=False, niter=1000,  weighting='briggs',\n",
    "       stokes='I', threshold='0.15mJy', savemodel='modelcolumn')\n",
    "viewer('SNR_G55_10s.ms.MTMFS.wProj.image.tt0')\n",
    "viewer('SNR_G55_10s.ms.MTMFS.wProj.alpha')\n",
    "\n",
    "tclean(vis='SNR_G55_10s.calib.ms', imagename='SNR.MS.MFS-Main', outlierfile='outliers.txt',\n",
    "      imsize=[640,640], cell='8arcsec',deconvolver='multiscale', scales=[0,6,10,30,60], smallscalebias=0.9,\n",
    "      interactive=False, niter=1000,  weighting='briggs', robust=0, stokes='I', threshold='0.15mJy', \n",
    "      savemodel='modelcolumn',pblimit=-1)\n",
    "      \n",
    "viewer('SNR.MS.MFS-Main.image')\n",
    "viewer('Outlier1.image')\n",
    "viewer('Outlier2.image')\n",
    "\n",
    "impbcor(imagename='SNR_G55_10s.MultiScale.image', pbimage='SNR_G55_10s.MultiScale.pb', \n",
    "        outfile='SNR_G55_10s.MS.pbcorr.image')\n",
    "viewer('SNR_G55_10s.MS.pbcorr.image')\n",
    "widebandpbcor(vis='SNR_G55_10s.calib.ms', imagename='SNR_G55_10s.ms.MTMFS.wProj', \n",
    "              nterms=2, action='pbcor', pbmin=0.2, spwlist=[0,1,2,3],\n",
    "              weightlist=[0.5,1.0,0,1.0], chanlist=[25,25,25,25], threshold='0.6mJy')\n",
    "viewer('SNR_G55_10s.ms.MTMFS.wProj.pbcor.image.tt0')\n",
    "viewer('SNR_G55_10s.ms.MTMFS.wProj.pbcor.image.alpha')\n",
    "\n",
    "\n",
    "specmode       =     'cube'        #  Spectral definition type (mfs, cube, cubedata, cubesource)\n",
    "nchan          =         -1        #  Number of channels (planes) in output image; -1 = all data specified by spw, start, and width parameters. \n",
    "start          =         ''        #  Velocity of first channel: e.g '0.0km/s'(''=first channel in first SpW of MS)\n",
    "width          =         ''        #  Channel width e.g '-1.0km/s' (''=width of first channel in first SpW of MS)\n",
    "outframe       =         ''        #  spectral reference frame of output image; '' =input\n",
    "veltype        =    'radio'        #  Velocity definition of output image\n",
    "restfreq       =         ''        #  Rest frequency to assign to image (see help)\n",
    "\n",
    "imhead(imagename='SNR_G55_10s.ms.MTMFS.wProj.image.tt0', mode='summary')\n",
    "header=imhead(imagename='SNR_G55_10s.ms.MTMFS.wProj.image.tt0', mode='list')\n",
    "immath(imagename='SNR_G55_10s.ms.MTMFS.wProj.image.tt0', mode='evalexpr', \n",
    "       expr='1.222e6*IM0/1.579^2/(29.30*29.03)', \n",
    "       outfile='SNR_G55_10s.ms.MTMFS.wProj.image.tt0-Tb')\n",
    "imhead(imagename='SNR_G55_10s.ms.MTMFS.wProj.image.tt0-Tb', mode='put', hdkey='bunit', hdvalue='K')\n",
    "viewer('SNR_G55_10s.ms.MTMFS.wProj.image.tt0-Tb')\n"
   ]
  },
  {
   "cell_type": "markdown",
   "metadata": {
    "collapsed": true
   },
   "source": [
    "#### "
   ]
  },
  {
   "cell_type": "code",
   "execution_count": null,
   "metadata": {
    "collapsed": true
   },
   "outputs": [],
   "source": [
    "plotms(vis='SNR_G55_10s.calib.ms', scan='', xaxis='frequency', yaxis='amp', coloraxis = 'spw')\n",
    "\n",
    "\n"
   ]
  },
  {
   "cell_type": "code",
   "execution_count": null,
   "metadata": {
    "collapsed": true
   },
   "outputs": [],
   "source": []
  },
  {
   "cell_type": "code",
   "execution_count": null,
   "metadata": {
    "collapsed": true
   },
   "outputs": [],
   "source": []
  },
  {
   "cell_type": "code",
   "execution_count": null,
   "metadata": {
    "collapsed": true
   },
   "outputs": [],
   "source": []
  },
  {
   "cell_type": "code",
   "execution_count": null,
   "metadata": {
    "collapsed": true
   },
   "outputs": [],
   "source": []
  },
  {
   "cell_type": "code",
   "execution_count": null,
   "metadata": {
    "collapsed": true
   },
   "outputs": [],
   "source": []
  },
  {
   "cell_type": "code",
   "execution_count": null,
   "metadata": {
    "collapsed": true
   },
   "outputs": [],
   "source": []
  },
  {
   "cell_type": "code",
   "execution_count": null,
   "metadata": {
    "collapsed": true
   },
   "outputs": [],
   "source": []
  },
  {
   "cell_type": "markdown",
   "metadata": {
    "collapsed": true
   },
   "source": [
    "### [VLA Data Combination-CASA5.4.0](https://casaguides.nrao.edu/index.php/VLA_Data_Combination)"
   ]
  },
  {
   "cell_type": "markdown",
   "metadata": {
    "collapsed": true
   },
   "source": [
    "The calibrated measurement sets can be downloaded here: \n",
    "https://casa.nrao.edu/Data/EVLA/SgrA/VLA-combination-SgrA-files.tar.gz (1.4GB)"
   ]
  },
  {
   "cell_type": "markdown",
   "metadata": {},
   "source": [
    "The VLA can be configured into four principal array configurations, A, B, C, and D. A is the most extended and D is the most compact configuration. Consequently, A configuration data exhibit the highest spatial resolution whereas D configuration delivers the best surface brightness sensitivity and also images the largest scales of the sky brightness distribution.\n",
    "\n",
    "In this tutorial, we will combine data from three VLA configurations (A, B, and C) that were obtained in a monitoring campaign of Sgr A*, the central supermassive black hole of our Milky Way."
   ]
  },
  {
   "cell_type": "code",
   "execution_count": null,
   "metadata": {
    "collapsed": true
   },
   "outputs": [],
   "source": []
  },
  {
   "cell_type": "markdown",
   "metadata": {
    "collapsed": true
   },
   "source": [
    "### [VLA CASA Bandpass Slope-CASA5.4.0](https://casaguides.nrao.edu/index.php/VLA_CASA_Bandpass_Slope-CASA5.4.0)"
   ]
  },
  {
   "cell_type": "markdown",
   "metadata": {
    "collapsed": true
   },
   "source": [
    "The trimmed measurement set can be downloaded directly from http://casa.nrao.edu/Data/EVLA/G192/G192-BP.ms.tar.gz (dataset size: 3.4 GB)"
   ]
  },
  {
   "cell_type": "markdown",
   "metadata": {
    "collapsed": true
   },
   "source": []
  },
  {
   "cell_type": "code",
   "execution_count": null,
   "metadata": {
    "collapsed": true
   },
   "outputs": [],
   "source": []
  },
  {
   "cell_type": "code",
   "execution_count": null,
   "metadata": {
    "collapsed": true
   },
   "outputs": [],
   "source": []
  },
  {
   "cell_type": "code",
   "execution_count": null,
   "metadata": {
    "collapsed": true
   },
   "outputs": [],
   "source": []
  },
  {
   "cell_type": "code",
   "execution_count": null,
   "metadata": {
    "collapsed": true
   },
   "outputs": [],
   "source": []
  },
  {
   "cell_type": "code",
   "execution_count": 3,
   "metadata": {
    "ExecuteTime": {
     "end_time": "2019-03-05T03:31:07.072000Z",
     "start_time": "2019-03-05T03:31:07.067625Z"
    },
    "collapsed": false
   },
   "outputs": [
    {
     "data": {
      "text/plain": [
       "29.127111111111113"
      ]
     },
     "execution_count": 3,
     "metadata": {},
     "output_type": "execute_result"
    }
   ],
   "source": [
    "60*1024*1024/600/3600"
   ]
  },
  {
   "cell_type": "code",
   "execution_count": 6,
   "metadata": {
    "ExecuteTime": {
     "end_time": "2019-03-10T11:11:51.007473Z",
     "start_time": "2019-03-10T11:11:50.997520Z"
    },
    "collapsed": false
   },
   "outputs": [
    {
     "data": {
      "text/plain": [
       "(4.004666666666667, 11.01)"
      ]
     },
     "execution_count": 6,
     "metadata": {},
     "output_type": "execute_result"
    }
   ],
   "source": [
    "6007/50/30,16515/50/30"
   ]
  },
  {
   "cell_type": "code",
   "execution_count": null,
   "metadata": {
    "collapsed": true
   },
   "outputs": [],
   "source": []
  }
 ],
 "metadata": {
  "kernelspec": {
   "display_name": "Python 3",
   "language": "python",
   "name": "python3"
  },
  "language_info": {
   "codemirror_mode": {
    "name": "ipython",
    "version": 3
   },
   "file_extension": ".py",
   "mimetype": "text/x-python",
   "name": "python",
   "nbconvert_exporter": "python",
   "pygments_lexer": "ipython3",
   "version": "3.6.0"
  },
  "latex_envs": {
   "LaTeX_envs_menu_present": true,
   "autocomplete": true,
   "bibliofile": "biblio.bib",
   "cite_by": "apalike",
   "current_citInitial": 1,
   "eqLabelWithNumbers": true,
   "eqNumInitial": 1,
   "hotkeys": {
    "equation": "Ctrl-E",
    "itemize": "Ctrl-I"
   },
   "labels_anchors": false,
   "latex_user_defs": false,
   "report_style_numbering": false,
   "user_envs_cfg": false
  },
  "toc": {
   "nav_menu": {},
   "number_sections": true,
   "sideBar": true,
   "skip_h1_title": false,
   "toc_cell": false,
   "toc_position": {},
   "toc_section_display": "block",
   "toc_window_display": true
  }
 },
 "nbformat": 4,
 "nbformat_minor": 2
}
