{
 "cells": [
  {
   "cell_type": "code",
   "execution_count": 4,
   "metadata": {
    "ExecuteTime": {
     "end_time": "2019-04-03T11:02:31.034887Z",
     "start_time": "2019-04-03T11:02:30.989896Z"
    },
    "collapsed": true
   },
   "outputs": [],
   "source": [
    "import os\n",
    "path='/Users/brettlv/src_heasoft/1ES1927/'\n",
    "file='bkgrxte_6.sh'\n",
    "filepath=path+file\n",
    "partfilepath=path+'bkgrxte_6.sh'\n",
    "os.chdir(path)"
   ]
  },
  {
   "cell_type": "code",
   "execution_count": 27,
   "metadata": {
    "ExecuteTime": {
     "end_time": "2019-03-30T06:55:22.690318Z",
     "start_time": "2019-03-30T06:55:22.562323Z"
    },
    "collapsed": false
   },
   "outputs": [
    {
     "name": "stdout",
     "output_type": "stream",
     "text": [
      "\u001b[34m1200190209\u001b[m\u001b[m/             1ES1927+654_mostexp.sh  1ES1927+654download.sh\r\n"
     ]
    }
   ],
   "source": [
    "ls"
   ]
  },
  {
   "cell_type": "code",
   "execution_count": 5,
   "metadata": {
    "ExecuteTime": {
     "end_time": "2019-04-03T11:02:35.716968Z",
     "start_time": "2019-04-03T11:02:35.709843Z"
    },
    "collapsed": false
   },
   "outputs": [],
   "source": [
    "with open(partfilepath) as f:\n",
    "    #contents=f.read()\n",
    "    #print(contents)\n",
    "    lines=f.readlines()\n",
    "    #liststr=lines.split('\\n')"
   ]
  },
  {
   "cell_type": "code",
   "execution_count": 6,
   "metadata": {
    "ExecuteTime": {
     "end_time": "2019-04-03T11:02:54.960532Z",
     "start_time": "2019-04-03T11:02:54.933564Z"
    },
    "collapsed": false
   },
   "outputs": [
    {
     "data": {
      "text/plain": [
       "\"wget -q -nH --no-check-certificate --cut-dirs=5  -r -l0 -c -N -np -R 'index*'  -erobots=off --retr-symlinks https://heasarc.gsfc.nasa.gov/FTP/nicer/data/obs/2019_01//1012060225/xti/\\n\""
      ]
     },
     "execution_count": 6,
     "metadata": {},
     "output_type": "execute_result"
    }
   ],
   "source": [
    "lines[6:-3][0]"
   ]
  },
  {
   "cell_type": "code",
   "execution_count": 7,
   "metadata": {
    "ExecuteTime": {
     "end_time": "2019-04-03T11:03:03.173847Z",
     "start_time": "2019-04-03T11:03:03.168395Z"
    },
    "collapsed": false
   },
   "outputs": [
    {
     "data": {
      "text/plain": [
       "(36, 27)"
      ]
     },
     "execution_count": 7,
     "metadata": {},
     "output_type": "execute_result"
    }
   ],
   "source": [
    "len(lines),len(lines[6:-3])"
   ]
  },
  {
   "cell_type": "code",
   "execution_count": 9,
   "metadata": {
    "ExecuteTime": {
     "end_time": "2019-04-03T11:03:13.448881Z",
     "start_time": "2019-04-03T11:03:13.445945Z"
    },
    "collapsed": true
   },
   "outputs": [],
   "source": [
    "wget_urls=lines[6:-3]"
   ]
  },
  {
   "cell_type": "code",
   "execution_count": 10,
   "metadata": {
    "ExecuteTime": {
     "end_time": "2019-04-03T11:03:15.418432Z",
     "start_time": "2019-04-03T11:03:15.413279Z"
    },
    "collapsed": false
   },
   "outputs": [
    {
     "data": {
      "text/plain": [
       "[\"wget -q -nH --no-check-certificate --cut-dirs=5  -r -l0 -c -N -np -R 'index*'  -erobots=off --retr-symlinks https://heasarc.gsfc.nasa.gov/FTP/nicer/data/obs/2019_01//1012060225/xti/\\n\",\n",
       " \"wget -q -nH --no-check-certificate --cut-dirs=5  -r -l0 -c -N -np -R 'index*'  -erobots=off --retr-symlinks https://heasarc.gsfc.nasa.gov/FTP/nicer/data/obs/2019_01//1012060226/log/\\n\",\n",
       " \"wget -q -nH --no-check-certificate --cut-dirs=5  -r -l0 -c -N -np -R 'index*'  -erobots=off --retr-symlinks https://heasarc.gsfc.nasa.gov/FTP/nicer/data/obs/2018_12//1012060221/xti/\\n\",\n",
       " \"wget -q -nH --no-check-certificate --cut-dirs=5  -r -l0 -c -N -np -R 'index*'  -erobots=off --retr-symlinks https://heasarc.gsfc.nasa.gov/FTP/nicer/data/obs/2018_12//1012060221/auxil/\\n\",\n",
       " \"wget -q -nH --no-check-certificate --cut-dirs=5  -r -l0 -c -N -np -R 'index*'  -erobots=off --retr-symlinks https://heasarc.gsfc.nasa.gov/FTP/nicer/data/obs/2019_01//1012060223/auxil/\\n\",\n",
       " \"wget -q -nH --no-check-certificate --cut-dirs=5  -r -l0 -c -N -np -R 'index*'  -erobots=off --retr-symlinks https://heasarc.gsfc.nasa.gov/FTP/nicer/data/obs/2019_03//2012060202/xti/\\n\",\n",
       " \"wget -q -nH --no-check-certificate --cut-dirs=5  -r -l0 -c -N -np -R 'index*'  -erobots=off --retr-symlinks https://heasarc.gsfc.nasa.gov/FTP/nicer/data/obs/2019_02//1012060227/auxil/\\n\",\n",
       " \"wget -q -nH --no-check-certificate --cut-dirs=5  -r -l0 -c -N -np -R 'index*'  -erobots=off --retr-symlinks https://heasarc.gsfc.nasa.gov/FTP/nicer/data/obs/2019_01//1012060226/auxil/\\n\",\n",
       " \"wget -q -nH --no-check-certificate --cut-dirs=5  -r -l0 -c -N -np -R 'index*'  -erobots=off --retr-symlinks https://heasarc.gsfc.nasa.gov/FTP/nicer/data/obs/2019_01//1012060224/xti/\\n\",\n",
       " \"wget -q -nH --no-check-certificate --cut-dirs=5  -r -l0 -c -N -np -R 'index*'  -erobots=off --retr-symlinks https://heasarc.gsfc.nasa.gov/FTP/nicer/data/obs/2018_12//1012060222/xti/\\n\",\n",
       " \"wget -q -nH --no-check-certificate --cut-dirs=5  -r -l0 -c -N -np -R 'index*'  -erobots=off --retr-symlinks https://heasarc.gsfc.nasa.gov/FTP/nicer/data/obs/2019_01//1012060225/auxil/\\n\",\n",
       " \"wget -q -nH --no-check-certificate --cut-dirs=5  -r -l0 -c -N -np -R 'index*'  -erobots=off --retr-symlinks https://heasarc.gsfc.nasa.gov/FTP/nicer/data/obs/2019_01//1012060223/xti/\\n\",\n",
       " \"wget -q -nH --no-check-certificate --cut-dirs=5  -r -l0 -c -N -np -R 'index*'  -erobots=off --retr-symlinks https://heasarc.gsfc.nasa.gov/FTP/nicer/data/obs/2019_01//1012060224/log/\\n\",\n",
       " \"wget -q -nH --no-check-certificate --cut-dirs=5  -r -l0 -c -N -np -R 'index*'  -erobots=off --retr-symlinks https://heasarc.gsfc.nasa.gov/FTP/nicer/data/obs/2019_03//2012060202/auxil/\\n\",\n",
       " \"wget -q -nH --no-check-certificate --cut-dirs=5  -r -l0 -c -N -np -R 'index*'  -erobots=off --retr-symlinks https://heasarc.gsfc.nasa.gov/FTP/nicer/data/obs/2019_03//2012060201/log/\\n\",\n",
       " \"wget -q -nH --no-check-certificate --cut-dirs=5  -r -l0 -c -N -np -R 'index*'  -erobots=off --retr-symlinks https://heasarc.gsfc.nasa.gov/FTP/nicer/data/obs/2019_03//2012060201/xti/\\n\",\n",
       " \"wget -q -nH --no-check-certificate --cut-dirs=5  -r -l0 -c -N -np -R 'index*'  -erobots=off --retr-symlinks https://heasarc.gsfc.nasa.gov/FTP/nicer/data/obs/2019_01//1012060223/log/\\n\",\n",
       " \"wget -q -nH --no-check-certificate --cut-dirs=5  -r -l0 -c -N -np -R 'index*'  -erobots=off --retr-symlinks https://heasarc.gsfc.nasa.gov/FTP/nicer/data/obs/2018_12//1012060222/auxil/\\n\",\n",
       " \"wget -q -nH --no-check-certificate --cut-dirs=5  -r -l0 -c -N -np -R 'index*'  -erobots=off --retr-symlinks https://heasarc.gsfc.nasa.gov/FTP/nicer/data/obs/2018_12//1012060221/log/\\n\",\n",
       " \"wget -q -nH --no-check-certificate --cut-dirs=5  -r -l0 -c -N -np -R 'index*'  -erobots=off --retr-symlinks https://heasarc.gsfc.nasa.gov/FTP/nicer/data/obs/2019_02//1012060227/log/\\n\",\n",
       " \"wget -q -nH --no-check-certificate --cut-dirs=5  -r -l0 -c -N -np -R 'index*'  -erobots=off --retr-symlinks https://heasarc.gsfc.nasa.gov/FTP/nicer/data/obs/2018_12//1012060222/log/\\n\",\n",
       " \"wget -q -nH --no-check-certificate --cut-dirs=5  -r -l0 -c -N -np -R 'index*'  -erobots=off --retr-symlinks https://heasarc.gsfc.nasa.gov/FTP/nicer/data/obs/2019_01//1012060226/xti/\\n\",\n",
       " \"wget -q -nH --no-check-certificate --cut-dirs=5  -r -l0 -c -N -np -R 'index*'  -erobots=off --retr-symlinks https://heasarc.gsfc.nasa.gov/FTP/nicer/data/obs/2019_01//1012060224/auxil/\\n\",\n",
       " \"wget -q -nH --no-check-certificate --cut-dirs=5  -r -l0 -c -N -np -R 'index*'  -erobots=off --retr-symlinks https://heasarc.gsfc.nasa.gov/FTP/nicer/data/obs/2019_03//2012060202/log/\\n\",\n",
       " \"wget -q -nH --no-check-certificate --cut-dirs=5  -r -l0 -c -N -np -R 'index*'  -erobots=off --retr-symlinks https://heasarc.gsfc.nasa.gov/FTP/nicer/data/obs/2019_02//1012060227/xti/\\n\",\n",
       " \"wget -q -nH --no-check-certificate --cut-dirs=5  -r -l0 -c -N -np -R 'index*'  -erobots=off --retr-symlinks https://heasarc.gsfc.nasa.gov/FTP/nicer/data/obs/2019_03//2012060201/auxil/\\n\",\n",
       " \"wget -q -nH --no-check-certificate --cut-dirs=5  -r -l0 -c -N -np -R 'index*'  -erobots=off --retr-symlinks https://heasarc.gsfc.nasa.gov/FTP/nicer/data/obs/2019_01//1012060225/log/\\n\"]"
      ]
     },
     "execution_count": 10,
     "metadata": {},
     "output_type": "execute_result"
    }
   ],
   "source": [
    "wget_urls"
   ]
  },
  {
   "cell_type": "code",
   "execution_count": 11,
   "metadata": {
    "ExecuteTime": {
     "end_time": "2019-04-03T11:03:36.013473Z",
     "start_time": "2019-04-03T11:03:36.010081Z"
    },
    "collapsed": false
   },
   "outputs": [],
   "source": [
    "wget_urls.sort()"
   ]
  },
  {
   "cell_type": "code",
   "execution_count": 12,
   "metadata": {
    "ExecuteTime": {
     "end_time": "2019-04-03T11:03:37.022239Z",
     "start_time": "2019-04-03T11:03:37.014523Z"
    },
    "collapsed": false
   },
   "outputs": [
    {
     "name": "stdout",
     "output_type": "stream",
     "text": [
      "wget -q -nH --no-check-certificate --cut-dirs=5  -r -l0 -c -N -np -R 'index*'  -erobots=off --retr-symlinks https://heasarc.gsfc.nasa.gov/FTP/nicer/data/obs/2018_12//1012060221/auxil/\n",
      "\n",
      "wget -q -nH --no-check-certificate --cut-dirs=5  -r -l0 -c -N -np -R 'index*'  -erobots=off --retr-symlinks https://heasarc.gsfc.nasa.gov/FTP/nicer/data/obs/2018_12//1012060221/log/\n",
      "\n",
      "wget -q -nH --no-check-certificate --cut-dirs=5  -r -l0 -c -N -np -R 'index*'  -erobots=off --retr-symlinks https://heasarc.gsfc.nasa.gov/FTP/nicer/data/obs/2018_12//1012060221/xti/\n",
      "\n",
      "wget -q -nH --no-check-certificate --cut-dirs=5  -r -l0 -c -N -np -R 'index*'  -erobots=off --retr-symlinks https://heasarc.gsfc.nasa.gov/FTP/nicer/data/obs/2018_12//1012060222/auxil/\n",
      "\n",
      "wget -q -nH --no-check-certificate --cut-dirs=5  -r -l0 -c -N -np -R 'index*'  -erobots=off --retr-symlinks https://heasarc.gsfc.nasa.gov/FTP/nicer/data/obs/2018_12//1012060222/log/\n",
      "\n",
      "wget -q -nH --no-check-certificate --cut-dirs=5  -r -l0 -c -N -np -R 'index*'  -erobots=off --retr-symlinks https://heasarc.gsfc.nasa.gov/FTP/nicer/data/obs/2018_12//1012060222/xti/\n",
      "\n",
      "wget -q -nH --no-check-certificate --cut-dirs=5  -r -l0 -c -N -np -R 'index*'  -erobots=off --retr-symlinks https://heasarc.gsfc.nasa.gov/FTP/nicer/data/obs/2019_01//1012060223/auxil/\n",
      "\n",
      "wget -q -nH --no-check-certificate --cut-dirs=5  -r -l0 -c -N -np -R 'index*'  -erobots=off --retr-symlinks https://heasarc.gsfc.nasa.gov/FTP/nicer/data/obs/2019_01//1012060223/log/\n",
      "\n",
      "wget -q -nH --no-check-certificate --cut-dirs=5  -r -l0 -c -N -np -R 'index*'  -erobots=off --retr-symlinks https://heasarc.gsfc.nasa.gov/FTP/nicer/data/obs/2019_01//1012060223/xti/\n",
      "\n",
      "wget -q -nH --no-check-certificate --cut-dirs=5  -r -l0 -c -N -np -R 'index*'  -erobots=off --retr-symlinks https://heasarc.gsfc.nasa.gov/FTP/nicer/data/obs/2019_01//1012060224/auxil/\n",
      "\n",
      "wget -q -nH --no-check-certificate --cut-dirs=5  -r -l0 -c -N -np -R 'index*'  -erobots=off --retr-symlinks https://heasarc.gsfc.nasa.gov/FTP/nicer/data/obs/2019_01//1012060224/log/\n",
      "\n",
      "wget -q -nH --no-check-certificate --cut-dirs=5  -r -l0 -c -N -np -R 'index*'  -erobots=off --retr-symlinks https://heasarc.gsfc.nasa.gov/FTP/nicer/data/obs/2019_01//1012060224/xti/\n",
      "\n",
      "wget -q -nH --no-check-certificate --cut-dirs=5  -r -l0 -c -N -np -R 'index*'  -erobots=off --retr-symlinks https://heasarc.gsfc.nasa.gov/FTP/nicer/data/obs/2019_01//1012060225/auxil/\n",
      "\n",
      "wget -q -nH --no-check-certificate --cut-dirs=5  -r -l0 -c -N -np -R 'index*'  -erobots=off --retr-symlinks https://heasarc.gsfc.nasa.gov/FTP/nicer/data/obs/2019_01//1012060225/log/\n",
      "\n",
      "wget -q -nH --no-check-certificate --cut-dirs=5  -r -l0 -c -N -np -R 'index*'  -erobots=off --retr-symlinks https://heasarc.gsfc.nasa.gov/FTP/nicer/data/obs/2019_01//1012060225/xti/\n",
      "\n",
      "wget -q -nH --no-check-certificate --cut-dirs=5  -r -l0 -c -N -np -R 'index*'  -erobots=off --retr-symlinks https://heasarc.gsfc.nasa.gov/FTP/nicer/data/obs/2019_01//1012060226/auxil/\n",
      "\n",
      "wget -q -nH --no-check-certificate --cut-dirs=5  -r -l0 -c -N -np -R 'index*'  -erobots=off --retr-symlinks https://heasarc.gsfc.nasa.gov/FTP/nicer/data/obs/2019_01//1012060226/log/\n",
      "\n",
      "wget -q -nH --no-check-certificate --cut-dirs=5  -r -l0 -c -N -np -R 'index*'  -erobots=off --retr-symlinks https://heasarc.gsfc.nasa.gov/FTP/nicer/data/obs/2019_01//1012060226/xti/\n",
      "\n",
      "wget -q -nH --no-check-certificate --cut-dirs=5  -r -l0 -c -N -np -R 'index*'  -erobots=off --retr-symlinks https://heasarc.gsfc.nasa.gov/FTP/nicer/data/obs/2019_02//1012060227/auxil/\n",
      "\n",
      "wget -q -nH --no-check-certificate --cut-dirs=5  -r -l0 -c -N -np -R 'index*'  -erobots=off --retr-symlinks https://heasarc.gsfc.nasa.gov/FTP/nicer/data/obs/2019_02//1012060227/log/\n",
      "\n",
      "wget -q -nH --no-check-certificate --cut-dirs=5  -r -l0 -c -N -np -R 'index*'  -erobots=off --retr-symlinks https://heasarc.gsfc.nasa.gov/FTP/nicer/data/obs/2019_02//1012060227/xti/\n",
      "\n",
      "wget -q -nH --no-check-certificate --cut-dirs=5  -r -l0 -c -N -np -R 'index*'  -erobots=off --retr-symlinks https://heasarc.gsfc.nasa.gov/FTP/nicer/data/obs/2019_03//2012060201/auxil/\n",
      "\n",
      "wget -q -nH --no-check-certificate --cut-dirs=5  -r -l0 -c -N -np -R 'index*'  -erobots=off --retr-symlinks https://heasarc.gsfc.nasa.gov/FTP/nicer/data/obs/2019_03//2012060201/log/\n",
      "\n",
      "wget -q -nH --no-check-certificate --cut-dirs=5  -r -l0 -c -N -np -R 'index*'  -erobots=off --retr-symlinks https://heasarc.gsfc.nasa.gov/FTP/nicer/data/obs/2019_03//2012060201/xti/\n",
      "\n",
      "wget -q -nH --no-check-certificate --cut-dirs=5  -r -l0 -c -N -np -R 'index*'  -erobots=off --retr-symlinks https://heasarc.gsfc.nasa.gov/FTP/nicer/data/obs/2019_03//2012060202/auxil/\n",
      "\n",
      "wget -q -nH --no-check-certificate --cut-dirs=5  -r -l0 -c -N -np -R 'index*'  -erobots=off --retr-symlinks https://heasarc.gsfc.nasa.gov/FTP/nicer/data/obs/2019_03//2012060202/log/\n",
      "\n",
      "wget -q -nH --no-check-certificate --cut-dirs=5  -r -l0 -c -N -np -R 'index*'  -erobots=off --retr-symlinks https://heasarc.gsfc.nasa.gov/FTP/nicer/data/obs/2019_03//2012060202/xti/\n",
      "\n"
     ]
    }
   ],
   "source": [
    "for i in wget_urls:\n",
    "    print(i)"
   ]
  },
  {
   "cell_type": "code",
   "execution_count": 13,
   "metadata": {
    "ExecuteTime": {
     "end_time": "2019-04-03T11:03:56.263500Z",
     "start_time": "2019-04-03T11:03:56.258190Z"
    },
    "collapsed": false
   },
   "outputs": [],
   "source": [
    "with open('sorted_bkg.sh','w') as f:\n",
    "    f.writelines(wget_urls)"
   ]
  },
  {
   "cell_type": "code",
   "execution_count": 14,
   "metadata": {
    "ExecuteTime": {
     "end_time": "2019-04-03T11:04:14.355647Z",
     "start_time": "2019-04-03T11:04:14.194784Z"
    },
    "collapsed": false
   },
   "outputs": [
    {
     "name": "stdout",
     "output_type": "stream",
     "text": [
      "wget -q -nH --no-check-certificate --cut-dirs=5  -r -l0 -c -N -np -R 'index*'  -erobots=off --retr-symlinks https://heasarc.gsfc.nasa.gov/FTP/nicer/data/obs/2018_12//1012060221/auxil/\r\n",
      "wget -q -nH --no-check-certificate --cut-dirs=5  -r -l0 -c -N -np -R 'index*'  -erobots=off --retr-symlinks https://heasarc.gsfc.nasa.gov/FTP/nicer/data/obs/2018_12//1012060221/log/\r\n",
      "wget -q -nH --no-check-certificate --cut-dirs=5  -r -l0 -c -N -np -R 'index*'  -erobots=off --retr-symlinks https://heasarc.gsfc.nasa.gov/FTP/nicer/data/obs/2018_12//1012060221/xti/\r\n",
      "wget -q -nH --no-check-certificate --cut-dirs=5  -r -l0 -c -N -np -R 'index*'  -erobots=off --retr-symlinks https://heasarc.gsfc.nasa.gov/FTP/nicer/data/obs/2018_12//1012060222/auxil/\r\n",
      "wget -q -nH --no-check-certificate --cut-dirs=5  -r -l0 -c -N -np -R 'index*'  -erobots=off --retr-symlinks https://heasarc.gsfc.nasa.gov/FTP/nicer/data/obs/2018_12//1012060222/log/\r\n",
      "wget -q -nH --no-check-certificate --cut-dirs=5  -r -l0 -c -N -np -R 'index*'  -erobots=off --retr-symlinks https://heasarc.gsfc.nasa.gov/FTP/nicer/data/obs/2018_12//1012060222/xti/\r\n",
      "wget -q -nH --no-check-certificate --cut-dirs=5  -r -l0 -c -N -np -R 'index*'  -erobots=off --retr-symlinks https://heasarc.gsfc.nasa.gov/FTP/nicer/data/obs/2019_01//1012060223/auxil/\r\n",
      "wget -q -nH --no-check-certificate --cut-dirs=5  -r -l0 -c -N -np -R 'index*'  -erobots=off --retr-symlinks https://heasarc.gsfc.nasa.gov/FTP/nicer/data/obs/2019_01//1012060223/log/\r\n",
      "wget -q -nH --no-check-certificate --cut-dirs=5  -r -l0 -c -N -np -R 'index*'  -erobots=off --retr-symlinks https://heasarc.gsfc.nasa.gov/FTP/nicer/data/obs/2019_01//1012060223/xti/\r\n",
      "wget -q -nH --no-check-certificate --cut-dirs=5  -r -l0 -c -N -np -R 'index*'  -erobots=off --retr-symlinks https://heasarc.gsfc.nasa.gov/FTP/nicer/data/obs/2019_01//1012060224/auxil/\r\n",
      "wget -q -nH --no-check-certificate --cut-dirs=5  -r -l0 -c -N -np -R 'index*'  -erobots=off --retr-symlinks https://heasarc.gsfc.nasa.gov/FTP/nicer/data/obs/2019_01//1012060224/log/\r\n",
      "wget -q -nH --no-check-certificate --cut-dirs=5  -r -l0 -c -N -np -R 'index*'  -erobots=off --retr-symlinks https://heasarc.gsfc.nasa.gov/FTP/nicer/data/obs/2019_01//1012060224/xti/\r\n",
      "wget -q -nH --no-check-certificate --cut-dirs=5  -r -l0 -c -N -np -R 'index*'  -erobots=off --retr-symlinks https://heasarc.gsfc.nasa.gov/FTP/nicer/data/obs/2019_01//1012060225/auxil/\r\n",
      "wget -q -nH --no-check-certificate --cut-dirs=5  -r -l0 -c -N -np -R 'index*'  -erobots=off --retr-symlinks https://heasarc.gsfc.nasa.gov/FTP/nicer/data/obs/2019_01//1012060225/log/\r\n",
      "wget -q -nH --no-check-certificate --cut-dirs=5  -r -l0 -c -N -np -R 'index*'  -erobots=off --retr-symlinks https://heasarc.gsfc.nasa.gov/FTP/nicer/data/obs/2019_01//1012060225/xti/\r\n",
      "wget -q -nH --no-check-certificate --cut-dirs=5  -r -l0 -c -N -np -R 'index*'  -erobots=off --retr-symlinks https://heasarc.gsfc.nasa.gov/FTP/nicer/data/obs/2019_01//1012060226/auxil/\r\n",
      "wget -q -nH --no-check-certificate --cut-dirs=5  -r -l0 -c -N -np -R 'index*'  -erobots=off --retr-symlinks https://heasarc.gsfc.nasa.gov/FTP/nicer/data/obs/2019_01//1012060226/log/\r\n",
      "wget -q -nH --no-check-certificate --cut-dirs=5  -r -l0 -c -N -np -R 'index*'  -erobots=off --retr-symlinks https://heasarc.gsfc.nasa.gov/FTP/nicer/data/obs/2019_01//1012060226/xti/\r\n",
      "wget -q -nH --no-check-certificate --cut-dirs=5  -r -l0 -c -N -np -R 'index*'  -erobots=off --retr-symlinks https://heasarc.gsfc.nasa.gov/FTP/nicer/data/obs/2019_02//1012060227/auxil/\r\n",
      "wget -q -nH --no-check-certificate --cut-dirs=5  -r -l0 -c -N -np -R 'index*'  -erobots=off --retr-symlinks https://heasarc.gsfc.nasa.gov/FTP/nicer/data/obs/2019_02//1012060227/log/\r\n",
      "wget -q -nH --no-check-certificate --cut-dirs=5  -r -l0 -c -N -np -R 'index*'  -erobots=off --retr-symlinks https://heasarc.gsfc.nasa.gov/FTP/nicer/data/obs/2019_02//1012060227/xti/\r\n",
      "wget -q -nH --no-check-certificate --cut-dirs=5  -r -l0 -c -N -np -R 'index*'  -erobots=off --retr-symlinks https://heasarc.gsfc.nasa.gov/FTP/nicer/data/obs/2019_03//2012060201/auxil/\r\n",
      "wget -q -nH --no-check-certificate --cut-dirs=5  -r -l0 -c -N -np -R 'index*'  -erobots=off --retr-symlinks https://heasarc.gsfc.nasa.gov/FTP/nicer/data/obs/2019_03//2012060201/log/\r\n",
      "wget -q -nH --no-check-certificate --cut-dirs=5  -r -l0 -c -N -np -R 'index*'  -erobots=off --retr-symlinks https://heasarc.gsfc.nasa.gov/FTP/nicer/data/obs/2019_03//2012060201/xti/\r\n",
      "wget -q -nH --no-check-certificate --cut-dirs=5  -r -l0 -c -N -np -R 'index*'  -erobots=off --retr-symlinks https://heasarc.gsfc.nasa.gov/FTP/nicer/data/obs/2019_03//2012060202/auxil/\r\n",
      "wget -q -nH --no-check-certificate --cut-dirs=5  -r -l0 -c -N -np -R 'index*'  -erobots=off --retr-symlinks https://heasarc.gsfc.nasa.gov/FTP/nicer/data/obs/2019_03//2012060202/log/\r\n",
      "wget -q -nH --no-check-certificate --cut-dirs=5  -r -l0 -c -N -np -R 'index*'  -erobots=off --retr-symlinks https://heasarc.gsfc.nasa.gov/FTP/nicer/data/obs/2019_03//2012060202/xti/\r\n"
     ]
    }
   ],
   "source": [
    "!cat sorted_bkg.sh"
   ]
  },
  {
   "cell_type": "code",
   "execution_count": 38,
   "metadata": {
    "ExecuteTime": {
     "end_time": "2019-03-30T07:01:32.652734Z",
     "start_time": "2019-03-30T07:01:32.487924Z"
    },
    "collapsed": false
   },
   "outputs": [
    {
     "name": "stdout",
     "output_type": "stream",
     "text": [
      "wget -q -nH --no-check-certificate --cut-dirs=5  -r -l0 -c -N -np -R 'index*'  -erobots=off --retr-symlinks https://heasarc.gsfc.nasa.gov/FTP/nicer/data/obs/2018_05//1200190102/auxil/\r\n",
      "wget -q -nH --no-check-certificate --cut-dirs=5  -r -l0 -c -N -np -R 'index*'  -erobots=off --retr-symlinks https://heasarc.gsfc.nasa.gov/FTP/nicer/data/obs/2018_05//1200190102/log/\r\n",
      "wget -q -nH --no-check-certificate --cut-dirs=5  -r -l0 -c -N -np -R 'index*'  -erobots=off --retr-symlinks https://heasarc.gsfc.nasa.gov/FTP/nicer/data/obs/2018_05//1200190102/xti/\r\n",
      "wget -q -nH --no-check-certificate --cut-dirs=5  -r -l0 -c -N -np -R 'index*'  -erobots=off --retr-symlinks https://heasarc.gsfc.nasa.gov/FTP/nicer/data/obs/2018_05//1200190103/auxil/\r\n",
      "wget -q -nH --no-check-certificate --cut-dirs=5  -r -l0 -c -N -np -R 'index*'  -erobots=off --retr-symlinks https://heasarc.gsfc.nasa.gov/FTP/nicer/data/obs/2018_05//1200190103/log/\r\n",
      "wget -q -nH --no-check-certificate --cut-dirs=5  -r -l0 -c -N -np -R 'index*'  -erobots=off --retr-symlinks https://heasarc.gsfc.nasa.gov/FTP/nicer/data/obs/2018_05//1200190103/xti/\r\n",
      "wget -q -nH --no-check-certificate --cut-dirs=5  -r -l0 -c -N -np -R 'index*'  -erobots=off --retr-symlinks https://heasarc.gsfc.nasa.gov/FTP/nicer/data/obs/2018_05//1200190104/auxil/\r\n",
      "wget -q -nH --no-check-certificate --cut-dirs=5  -r -l0 -c -N -np -R 'index*'  -erobots=off --retr-symlinks https://heasarc.gsfc.nasa.gov/FTP/nicer/data/obs/2018_05//1200190104/log/\r\n",
      "wget -q -nH --no-check-certificate --cut-dirs=5  -r -l0 -c -N -np -R 'index*'  -erobots=off --retr-symlinks https://heasarc.gsfc.nasa.gov/FTP/nicer/data/obs/2018_05//1200190104/xti/\r\n",
      "wget -q -nH --no-check-certificate --cut-dirs=5  -r -l0 -c -N -np -R 'index*'  -erobots=off --retr-symlinks https://heasarc.gsfc.nasa.gov/FTP/nicer/data/obs/2018_05//1200190106/auxil/\r\n",
      "wget -q -nH --no-check-certificate --cut-dirs=5  -r -l0 -c -N -np -R 'index*'  -erobots=off --retr-symlinks https://heasarc.gsfc.nasa.gov/FTP/nicer/data/obs/2018_05//1200190106/log/\r\n",
      "wget -q -nH --no-check-certificate --cut-dirs=5  -r -l0 -c -N -np -R 'index*'  -erobots=off --retr-symlinks https://heasarc.gsfc.nasa.gov/FTP/nicer/data/obs/2018_05//1200190106/xti/\r\n",
      "wget -q -nH --no-check-certificate --cut-dirs=5  -r -l0 -c -N -np -R 'index*'  -erobots=off --retr-symlinks https://heasarc.gsfc.nasa.gov/FTP/nicer/data/obs/2018_05//1200190107/auxil/\r\n",
      "wget -q -nH --no-check-certificate --cut-dirs=5  -r -l0 -c -N -np -R 'index*'  -erobots=off --retr-symlinks https://heasarc.gsfc.nasa.gov/FTP/nicer/data/obs/2018_05//1200190107/log/\r\n",
      "wget -q -nH --no-check-certificate --cut-dirs=5  -r -l0 -c -N -np -R 'index*'  -erobots=off --retr-symlinks https://heasarc.gsfc.nasa.gov/FTP/nicer/data/obs/2018_05//1200190107/xti/\r\n",
      "wget -q -nH --no-check-certificate --cut-dirs=5  -r -l0 -c -N -np -R 'index*'  -erobots=off --retr-symlinks https://heasarc.gsfc.nasa.gov/FTP/nicer/data/obs/2018_05//1200190108/auxil/\r\n",
      "wget -q -nH --no-check-certificate --cut-dirs=5  -r -l0 -c -N -np -R 'index*'  -erobots=off --retr-symlinks https://heasarc.gsfc.nasa.gov/FTP/nicer/data/obs/2018_05//1200190108/log/\r\n",
      "wget -q -nH --no-check-certificate --cut-dirs=5  -r -l0 -c -N -np -R 'index*'  -erobots=off --retr-symlinks https://heasarc.gsfc.nasa.gov/FTP/nicer/data/obs/2018_05//1200190108/xti/\r\n",
      "wget -q -nH --no-check-certificate --cut-dirs=5  -r -l0 -c -N -np -R 'index*'  -erobots=off --retr-symlinks https://heasarc.gsfc.nasa.gov/FTP/nicer/data/obs/2018_06//1200190128/auxil/\r\n",
      "wget -q -nH --no-check-certificate --cut-dirs=5  -r -l0 -c -N -np -R 'index*'  -erobots=off --retr-symlinks https://heasarc.gsfc.nasa.gov/FTP/nicer/data/obs/2018_06//1200190128/log/\r\n",
      "wget -q -nH --no-check-certificate --cut-dirs=5  -r -l0 -c -N -np -R 'index*'  -erobots=off --retr-symlinks https://heasarc.gsfc.nasa.gov/FTP/nicer/data/obs/2018_06//1200190128/xti/\r\n",
      "wget -q -nH --no-check-certificate --cut-dirs=5  -r -l0 -c -N -np -R 'index*'  -erobots=off --retr-symlinks https://heasarc.gsfc.nasa.gov/FTP/nicer/data/obs/2018_06//1200190129/auxil/\r\n",
      "wget -q -nH --no-check-certificate --cut-dirs=5  -r -l0 -c -N -np -R 'index*'  -erobots=off --retr-symlinks https://heasarc.gsfc.nasa.gov/FTP/nicer/data/obs/2018_06//1200190129/log/\r\n",
      "wget -q -nH --no-check-certificate --cut-dirs=5  -r -l0 -c -N -np -R 'index*'  -erobots=off --retr-symlinks https://heasarc.gsfc.nasa.gov/FTP/nicer/data/obs/2018_06//1200190129/xti/\r\n",
      "wget -q -nH --no-check-certificate --cut-dirs=5  -r -l0 -c -N -np -R 'index*'  -erobots=off --retr-symlinks https://heasarc.gsfc.nasa.gov/FTP/nicer/data/obs/2018_06//1200190132/auxil/\r\n",
      "wget -q -nH --no-check-certificate --cut-dirs=5  -r -l0 -c -N -np -R 'index*'  -erobots=off --retr-symlinks https://heasarc.gsfc.nasa.gov/FTP/nicer/data/obs/2018_06//1200190132/log/\r\n",
      "wget -q -nH --no-check-certificate --cut-dirs=5  -r -l0 -c -N -np -R 'index*'  -erobots=off --retr-symlinks https://heasarc.gsfc.nasa.gov/FTP/nicer/data/obs/2018_06//1200190132/xti/\r\n",
      "wget -q -nH --no-check-certificate --cut-dirs=5  -r -l0 -c -N -np -R 'index*'  -erobots=off --retr-symlinks https://heasarc.gsfc.nasa.gov/FTP/nicer/data/obs/2018_06//1200190133/auxil/\r\n",
      "wget -q -nH --no-check-certificate --cut-dirs=5  -r -l0 -c -N -np -R 'index*'  -erobots=off --retr-symlinks https://heasarc.gsfc.nasa.gov/FTP/nicer/data/obs/2018_06//1200190133/log/\r\n",
      "wget -q -nH --no-check-certificate --cut-dirs=5  -r -l0 -c -N -np -R 'index*'  -erobots=off --retr-symlinks https://heasarc.gsfc.nasa.gov/FTP/nicer/data/obs/2018_06//1200190133/xti/\r\n",
      "wget -q -nH --no-check-certificate --cut-dirs=5  -r -l0 -c -N -np -R 'index*'  -erobots=off --retr-symlinks https://heasarc.gsfc.nasa.gov/FTP/nicer/data/obs/2018_08//1200190159/auxil/\r\n",
      "wget -q -nH --no-check-certificate --cut-dirs=5  -r -l0 -c -N -np -R 'index*'  -erobots=off --retr-symlinks https://heasarc.gsfc.nasa.gov/FTP/nicer/data/obs/2018_08//1200190159/log/\r\n",
      "wget -q -nH --no-check-certificate --cut-dirs=5  -r -l0 -c -N -np -R 'index*'  -erobots=off --retr-symlinks https://heasarc.gsfc.nasa.gov/FTP/nicer/data/obs/2018_08//1200190159/xti/\r\n",
      "wget -q -nH --no-check-certificate --cut-dirs=5  -r -l0 -c -N -np -R 'index*'  -erobots=off --retr-symlinks https://heasarc.gsfc.nasa.gov/FTP/nicer/data/obs/2018_09//1200190167/auxil/\r\n",
      "wget -q -nH --no-check-certificate --cut-dirs=5  -r -l0 -c -N -np -R 'index*'  -erobots=off --retr-symlinks https://heasarc.gsfc.nasa.gov/FTP/nicer/data/obs/2018_09//1200190167/log/\r\n",
      "wget -q -nH --no-check-certificate --cut-dirs=5  -r -l0 -c -N -np -R 'index*'  -erobots=off --retr-symlinks https://heasarc.gsfc.nasa.gov/FTP/nicer/data/obs/2018_09//1200190167/xti/\r\n",
      "wget -q -nH --no-check-certificate --cut-dirs=5  -r -l0 -c -N -np -R 'index*'  -erobots=off --retr-symlinks https://heasarc.gsfc.nasa.gov/FTP/nicer/data/obs/2018_10//1200190184/auxil/\r\n",
      "wget -q -nH --no-check-certificate --cut-dirs=5  -r -l0 -c -N -np -R 'index*'  -erobots=off --retr-symlinks https://heasarc.gsfc.nasa.gov/FTP/nicer/data/obs/2018_10//1200190184/log/\r\n",
      "wget -q -nH --no-check-certificate --cut-dirs=5  -r -l0 -c -N -np -R 'index*'  -erobots=off --retr-symlinks https://heasarc.gsfc.nasa.gov/FTP/nicer/data/obs/2018_10//1200190184/xti/\r\n",
      "wget -q -nH --no-check-certificate --cut-dirs=5  -r -l0 -c -N -np -R 'index*'  -erobots=off --retr-symlinks https://heasarc.gsfc.nasa.gov/FTP/nicer/data/obs/2018_11//1200190209/auxil/\r\n",
      "wget -q -nH --no-check-certificate --cut-dirs=5  -r -l0 -c -N -np -R 'index*'  -erobots=off --retr-symlinks https://heasarc.gsfc.nasa.gov/FTP/nicer/data/obs/2018_11//1200190209/log/\r\n",
      "wget -q -nH --no-check-certificate --cut-dirs=5  -r -l0 -c -N -np -R 'index*'  -erobots=off --retr-symlinks https://heasarc.gsfc.nasa.gov/FTP/nicer/data/obs/2018_11//1200190209/xti/\r\n",
      "wget -q -nH --no-check-certificate --cut-dirs=5  -r -l0 -c -N -np -R 'index*'  -erobots=off --retr-symlinks https://heasarc.gsfc.nasa.gov/FTP/nicer/data/obs/2018_11//1200190212/auxil/\r\n",
      "wget -q -nH --no-check-certificate --cut-dirs=5  -r -l0 -c -N -np -R 'index*'  -erobots=off --retr-symlinks https://heasarc.gsfc.nasa.gov/FTP/nicer/data/obs/2018_11//1200190212/log/\r\n",
      "wget -q -nH --no-check-certificate --cut-dirs=5  -r -l0 -c -N -np -R 'index*'  -erobots=off --retr-symlinks https://heasarc.gsfc.nasa.gov/FTP/nicer/data/obs/2018_11//1200190212/xti/\r\n",
      "wget -q -nH --no-check-certificate --cut-dirs=5  -r -l0 -c -N -np -R 'index*'  -erobots=off --retr-symlinks https://heasarc.gsfc.nasa.gov/FTP/nicer/data/obs/2018_12//1200190230/auxil/\r\n",
      "wget -q -nH --no-check-certificate --cut-dirs=5  -r -l0 -c -N -np -R 'index*'  -erobots=off --retr-symlinks https://heasarc.gsfc.nasa.gov/FTP/nicer/data/obs/2018_12//1200190230/log/\r\n",
      "wget -q -nH --no-check-certificate --cut-dirs=5  -r -l0 -c -N -np -R 'index*'  -erobots=off --retr-symlinks https://heasarc.gsfc.nasa.gov/FTP/nicer/data/obs/2018_12//1200190230/xti/\r\n",
      "wget -q -nH --no-check-certificate --cut-dirs=5  -r -l0 -c -N -np -R 'index*'  -erobots=off --retr-symlinks https://heasarc.gsfc.nasa.gov/FTP/nicer/data/obs/2018_12//1200190238/auxil/\r\n",
      "wget -q -nH --no-check-certificate --cut-dirs=5  -r -l0 -c -N -np -R 'index*'  -erobots=off --retr-symlinks https://heasarc.gsfc.nasa.gov/FTP/nicer/data/obs/2018_12//1200190238/log/\r\n",
      "wget -q -nH --no-check-certificate --cut-dirs=5  -r -l0 -c -N -np -R 'index*'  -erobots=off --retr-symlinks https://heasarc.gsfc.nasa.gov/FTP/nicer/data/obs/2018_12//1200190238/xti/\r\n",
      "wget -q -nH --no-check-certificate --cut-dirs=5  -r -l0 -c -N -np -R 'index*'  -erobots=off --retr-symlinks https://heasarc.gsfc.nasa.gov/FTP/nicer/data/obs/2018_12//1200190244/auxil/\r\n",
      "wget -q -nH --no-check-certificate --cut-dirs=5  -r -l0 -c -N -np -R 'index*'  -erobots=off --retr-symlinks https://heasarc.gsfc.nasa.gov/FTP/nicer/data/obs/2018_12//1200190244/log/\r\n",
      "wget -q -nH --no-check-certificate --cut-dirs=5  -r -l0 -c -N -np -R 'index*'  -erobots=off --retr-symlinks https://heasarc.gsfc.nasa.gov/FTP/nicer/data/obs/2018_12//1200190244/xti/\r\n",
      "wget -q -nH --no-check-certificate --cut-dirs=5  -r -l0 -c -N -np -R 'index*'  -erobots=off --retr-symlinks https://heasarc.gsfc.nasa.gov/FTP/nicer/data/obs/2019_02//1200190272/auxil/\r\n",
      "wget -q -nH --no-check-certificate --cut-dirs=5  -r -l0 -c -N -np -R 'index*'  -erobots=off --retr-symlinks https://heasarc.gsfc.nasa.gov/FTP/nicer/data/obs/2019_02//1200190272/log/\r\n",
      "wget -q -nH --no-check-certificate --cut-dirs=5  -r -l0 -c -N -np -R 'index*'  -erobots=off --retr-symlinks https://heasarc.gsfc.nasa.gov/FTP/nicer/data/obs/2019_02//1200190272/xti/\r\n",
      "wget -q -nH --no-check-certificate --cut-dirs=5  -r -l0 -c -N -np -R 'index*'  -erobots=off --retr-symlinks https://heasarc.gsfc.nasa.gov/FTP/nicer/data/obs/2019_02//1200190273/auxil/\r\n",
      "wget -q -nH --no-check-certificate --cut-dirs=5  -r -l0 -c -N -np -R 'index*'  -erobots=off --retr-symlinks https://heasarc.gsfc.nasa.gov/FTP/nicer/data/obs/2019_02//1200190273/log/\r\n",
      "wget -q -nH --no-check-certificate --cut-dirs=5  -r -l0 -c -N -np -R 'index*'  -erobots=off --retr-symlinks https://heasarc.gsfc.nasa.gov/FTP/nicer/data/obs/2019_02//1200190273/xti/\r\n",
      "wget -q -nH --no-check-certificate --cut-dirs=5  -r -l0 -c -N -np -R 'index*'  -erobots=off --retr-symlinks https://heasarc.gsfc.nasa.gov/FTP/nicer/data/obs/2019_02//1200190274/auxil/\r\n",
      "wget -q -nH --no-check-certificate --cut-dirs=5  -r -l0 -c -N -np -R 'index*'  -erobots=off --retr-symlinks https://heasarc.gsfc.nasa.gov/FTP/nicer/data/obs/2019_02//1200190274/log/\r\n",
      "wget -q -nH --no-check-certificate --cut-dirs=5  -r -l0 -c -N -np -R 'index*'  -erobots=off --retr-symlinks https://heasarc.gsfc.nasa.gov/FTP/nicer/data/obs/2019_02//1200190274/xti/\r\n",
      "wget -q -nH --no-check-certificate --cut-dirs=5  -r -l0 -c -N -np -R 'index*'  -erobots=off --retr-symlinks https://heasarc.gsfc.nasa.gov/FTP/nicer/data/obs/2019_02//1200190275/auxil/\r\n",
      "wget -q -nH --no-check-certificate --cut-dirs=5  -r -l0 -c -N -np -R 'index*'  -erobots=off --retr-symlinks https://heasarc.gsfc.nasa.gov/FTP/nicer/data/obs/2019_02//1200190275/log/\r\n",
      "wget -q -nH --no-check-certificate --cut-dirs=5  -r -l0 -c -N -np -R 'index*'  -erobots=off --retr-symlinks https://heasarc.gsfc.nasa.gov/FTP/nicer/data/obs/2019_02//1200190275/xti/\r\n",
      "wget -q -nH --no-check-certificate --cut-dirs=5  -r -l0 -c -N -np -R 'index*'  -erobots=off --retr-symlinks https://heasarc.gsfc.nasa.gov/FTP/nicer/data/obs/2019_02//1200190277/auxil/\r\n",
      "wget -q -nH --no-check-certificate --cut-dirs=5  -r -l0 -c -N -np -R 'index*'  -erobots=off --retr-symlinks https://heasarc.gsfc.nasa.gov/FTP/nicer/data/obs/2019_02//1200190277/log/\r\n",
      "wget -q -nH --no-check-certificate --cut-dirs=5  -r -l0 -c -N -np -R 'index*'  -erobots=off --retr-symlinks https://heasarc.gsfc.nasa.gov/FTP/nicer/data/obs/2019_02//1200190277/xti/\r\n",
      "wget -q -nH --no-check-certificate --cut-dirs=5  -r -l0 -c -N -np -R 'index*'  -erobots=off --retr-symlinks https://heasarc.gsfc.nasa.gov/FTP/nicer/data/obs/2019_02//1200190278/auxil/\r\n",
      "wget -q -nH --no-check-certificate --cut-dirs=5  -r -l0 -c -N -np -R 'index*'  -erobots=off --retr-symlinks https://heasarc.gsfc.nasa.gov/FTP/nicer/data/obs/2019_02//1200190278/log/\r\n",
      "wget -q -nH --no-check-certificate --cut-dirs=5  -r -l0 -c -N -np -R 'index*'  -erobots=off --retr-symlinks https://heasarc.gsfc.nasa.gov/FTP/nicer/data/obs/2019_02//1200190278/xti/\r\n",
      "wget -q -nH --no-check-certificate --cut-dirs=5  -r -l0 -c -N -np -R 'index*'  -erobots=off --retr-symlinks https://heasarc.gsfc.nasa.gov/FTP/nicer/data/obs/2019_02//1200190284/auxil/\r\n",
      "wget -q -nH --no-check-certificate --cut-dirs=5  -r -l0 -c -N -np -R 'index*'  -erobots=off --retr-symlinks https://heasarc.gsfc.nasa.gov/FTP/nicer/data/obs/2019_02//1200190284/log/\r\n",
      "wget -q -nH --no-check-certificate --cut-dirs=5  -r -l0 -c -N -np -R 'index*'  -erobots=off --retr-symlinks https://heasarc.gsfc.nasa.gov/FTP/nicer/data/obs/2019_02//1200190284/xti/\r\n"
     ]
    }
   ],
   "source": [
    "!cat 'sorted_wget_partfile.sh'"
   ]
  },
  {
   "cell_type": "code",
   "execution_count": 3,
   "metadata": {
    "ExecuteTime": {
     "end_time": "2019-04-01T00:35:45.796473Z",
     "start_time": "2019-03-31T16:13:05.094039Z"
    },
    "collapsed": false
   },
   "outputs": [],
   "source": [
    "!sh sorted_wget_partfile.sh"
   ]
  },
  {
   "cell_type": "code",
   "execution_count": 15,
   "metadata": {
    "ExecuteTime": {
     "end_time": "2019-04-03T11:05:19.934835Z",
     "start_time": "2019-04-03T11:05:19.930303Z"
    },
    "collapsed": true
   },
   "outputs": [],
   "source": []
  },
  {
   "cell_type": "code",
   "execution_count": 20,
   "metadata": {
    "ExecuteTime": {
     "end_time": "2019-04-03T16:12:06.736152Z",
     "start_time": "2019-04-03T16:12:06.731334Z"
    },
    "collapsed": false
   },
   "outputs": [
    {
     "data": {
      "text/plain": [
       "'/Users/brettlv/src_heasoft/1ES1927/bkg_nicer_rxte_6'"
      ]
     },
     "execution_count": 20,
     "metadata": {},
     "output_type": "execute_result"
    }
   ],
   "source": [
    "pwd"
   ]
  },
  {
   "cell_type": "code",
   "execution_count": 22,
   "metadata": {
    "ExecuteTime": {
     "end_time": "2019-04-04T04:21:47.739046Z",
     "start_time": "2019-04-03T23:22:17.453449Z"
    },
    "collapsed": false
   },
   "outputs": [],
   "source": [
    "!sh sorted_bkg.sh"
   ]
  },
  {
   "cell_type": "code",
   "execution_count": null,
   "metadata": {
    "collapsed": true
   },
   "outputs": [],
   "source": [
    "cd 12 /xti/event_cl "
   ]
  },
  {
   "cell_type": "code",
   "execution_count": null,
   "metadata": {
    "collapsed": true
   },
   "outputs": [],
   "source": []
  },
  {
   "cell_type": "code",
   "execution_count": null,
   "metadata": {
    "collapsed": true
   },
   "outputs": [],
   "source": []
  },
  {
   "cell_type": "code",
   "execution_count": null,
   "metadata": {
    "collapsed": true
   },
   "outputs": [],
   "source": []
  }
 ],
 "metadata": {
  "kernelspec": {
   "display_name": "Python 3",
   "language": "python",
   "name": "python3"
  },
  "language_info": {
   "codemirror_mode": {
    "name": "ipython",
    "version": 3
   },
   "file_extension": ".py",
   "mimetype": "text/x-python",
   "name": "python",
   "nbconvert_exporter": "python",
   "pygments_lexer": "ipython3",
   "version": "3.6.0"
  },
  "latex_envs": {
   "LaTeX_envs_menu_present": true,
   "autocomplete": true,
   "bibliofile": "biblio.bib",
   "cite_by": "apalike",
   "current_citInitial": 1,
   "eqLabelWithNumbers": true,
   "eqNumInitial": 1,
   "hotkeys": {
    "equation": "Ctrl-E",
    "itemize": "Ctrl-I"
   },
   "labels_anchors": false,
   "latex_user_defs": false,
   "report_style_numbering": false,
   "user_envs_cfg": false
  },
  "toc": {
   "nav_menu": {},
   "number_sections": true,
   "sideBar": true,
   "skip_h1_title": false,
   "toc_cell": false,
   "toc_position": {},
   "toc_section_display": "block",
   "toc_window_display": false
  }
 },
 "nbformat": 4,
 "nbformat_minor": 2
}
