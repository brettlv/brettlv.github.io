{
 "cells": [
  {
   "cell_type": "markdown",
   "metadata": {},
   "source": [
    "# import"
   ]
  },
  {
   "cell_type": "code",
   "execution_count": 93,
   "metadata": {
    "ExecuteTime": {
     "end_time": "2021-12-08T02:38:14.986827Z",
     "start_time": "2021-12-08T02:38:14.165319Z"
    }
   },
   "outputs": [],
   "source": [
    "import pandas as pd\n",
    "import xml.etree.ElementTree as ET\n",
    "from astropy.io import fits\n",
    "\n",
    "from astropy.io.votable import parse\n",
    "from astropy.io.votable import parse_single_table\n",
    "from astropy.io.votable.tree import VOTableFile, Resource, Table, Field\n",
    "from astropy.io import fits\n",
    "\n",
    "\n",
    "from scipy.stats.stats import pearsonr\n",
    "from scipy.stats import spearmanr#\n",
    "\n",
    "import matplotlib as mpl\n",
    "import matplotlib.pyplot as plt\n",
    "from pylab import cm\n",
    "\n",
    "from collections import OrderedDict\n",
    "from adjustText import adjust_text\n",
    "\n",
    "%matplotlib inline\n",
    "%config InlineBackend.figure_format='svg'\n",
    "# Edit the font, font size, and axes width\n",
    "mpl.rcParams['font.family'] = 'Avenir'\n",
    "plt.rcParams['font.size'] = 18\n",
    "plt.rcParams['axes.linewidth'] = 2"
   ]
  },
  {
   "cell_type": "markdown",
   "metadata": {
    "ExecuteTime": {
     "end_time": "2021-12-08T02:22:22.522001Z",
     "start_time": "2021-12-08T02:22:22.463604Z"
    }
   },
   "source": [
    "%matplotlib inline\n",
    "%config InlineBackend.figure_format = \"retina\"\n",
    "from matplotlib import rcParams\n",
    "#rcParams[\"savefig.dpi\"] = 300"
   ]
  },
  {
   "cell_type": "code",
   "execution_count": 90,
   "metadata": {
    "ExecuteTime": {
     "end_time": "2021-12-08T02:37:41.986205Z",
     "start_time": "2021-12-08T02:37:41.980144Z"
    }
   },
   "outputs": [],
   "source": [
    "#from adjustText import adjust_text\n",
    "import matplotlib as mpl\n",
    "def set_ax_tick(ax):\n",
    "    ax.xaxis.set_tick_params(which='major', size=10, width=2, direction='in', top='on',)\n",
    "    ax.xaxis.set_tick_params(which='minor', size=5, width=2, direction='in', top='on')\n",
    "    ax.yaxis.set_tick_params(which='major', size=10, width=2, direction='in', right='on')\n",
    "    ax.yaxis.set_tick_params(which='minor', size=5, width=2, direction='in', right='on')\n",
    "\n",
    "def set_ax_locator(ax,xma=1,xmi=0.2,yma=1,ymi=0.2):\n",
    "    ax.xaxis.set_major_locator(mpl.ticker.MultipleLocator(xma))\n",
    "    ax.xaxis.set_minor_locator(mpl.ticker.MultipleLocator(xmi))\n",
    "    ax.yaxis.set_major_locator(mpl.ticker.MultipleLocator(yma))\n",
    "    ax.yaxis.set_minor_locator(mpl.ticker.MultipleLocator(ymi)) "
   ]
  },
  {
   "cell_type": "code",
   "execution_count": 91,
   "metadata": {
    "ExecuteTime": {
     "end_time": "2021-12-08T02:37:42.459709Z",
     "start_time": "2021-12-08T02:37:42.455614Z"
    }
   },
   "outputs": [],
   "source": [
    "def drop_index(data):\n",
    "    data=data.reset_index(drop=True)\n",
    "    return data"
   ]
  },
  {
   "cell_type": "markdown",
   "metadata": {},
   "source": [
    "# calc_power_law"
   ]
  },
  {
   "cell_type": "code",
   "execution_count": 200,
   "metadata": {
    "ExecuteTime": {
     "end_time": "2021-12-08T08:14:59.198270Z",
     "start_time": "2021-12-08T08:14:59.173802Z"
    }
   },
   "outputs": [],
   "source": [
    "from scipy.optimize import least_squares, curve_fit\n",
    "from scipy.stats import f"
   ]
  },
  {
   "cell_type": "code",
   "execution_count": null,
   "metadata": {},
   "outputs": [],
   "source": [
    "def calc_power_law(freq,S0,alpha):\n",
    "    S = S0 * (freq) ** alpha\n",
    "    return S\n",
    "\n",
    "def alpha_calc(data,freq_label='frequency',flux_label='flux',rms_label='rms'):    \n",
    "    #Get lightcurve values\n",
    "    freqs = data[freq_label]\n",
    "    flux = data[flux_label]\n",
    "    flux_errs = data[rms_label]\n",
    "    \n",
    "    #Use the scipy curve_fit algorithm to calculate the best fit value\n",
    "    popt, pcov = curve_fit(calc_power_law, freqs, flux ,sigma=flux_errs, p0=(50,-0.61),absolute_sigma=True)\n",
    "    \n",
    "    alpha = popt[1] #Best-fit spectral index\n",
    "    alpha_err = np.sqrt(np.diag(pcov))[1] #Uncertainty in alpha\n",
    "    \n",
    "    return alpha, alpha_err\n",
    "\n",
    "def scale_data(data, alpha, alpha_err, ref_freq=5.0,freq_label='frequency',flux_label='flux',rms_label='rms'):#\n",
    "    #calculate a scaling factor for the flux density and uncertainty\n",
    "    f_scale = (ref_freq/data[freq_label])**alpha\n",
    "    rms_scale = np.abs(f_scale*np.log(ref_freq/data[freq_label])*alpha_err)\n",
    "    \n",
    "    #scale the flux and uncertainty - don't forget to add errors in quadrature\n",
    "    scaled_flux = data[flux_label] * f_scale\n",
    "    scaled_rms = np.abs(scaled_flux) * np.sqrt((data[rms_label]/data[flux_label])**2 + (rms_scale/f_scale)**2)\n",
    "    \n",
    "    #Add two new columns to the data\n",
    "    data['scaled_flux'] = scaled_flux\n",
    "    data['scaled_rms'] = scaled_rms\n",
    "    \n",
    "    return data"
   ]
  },
  {
   "cell_type": "code",
   "execution_count": null,
   "metadata": {},
   "outputs": [],
   "source": [
    "sel_data = data#[data['delta_t'] == 162.89]\n",
    "alpha, alpha_err = alpha_calc(sel_data)\n",
    "print(\"alpha = %.2f+/-%.2f\"%(alpha, alpha_err))"
   ]
  },
  {
   "cell_type": "code",
   "execution_count": null,
   "metadata": {},
   "outputs": [],
   "source": [
    "def plot_data(ax, sm, data, scaled=False, **kwargs):\n",
    "    telescope_marker_dict = {'VLA':'s', 'ATCA':'o', 'GMRT':'d'}\n",
    "    \n",
    "    \n",
    "    for row in data:\n",
    "        #Loop over each row of the data, set the marker colour based on frequency and the marker style based on telescope\n",
    "        freq = row['frequency']\n",
    "        colorval = sm.to_rgba(freq) #Set the marker colour based on observing frequency\n",
    "        \n",
    "        telescope = row['telescope']\n",
    "        marker = telescope_marker_dict[telescope] #Set the marker based on telescope\n",
    "        \n",
    "        #Are we plotting the original flux density values? Or the scaled values?\n",
    "        if scaled:\n",
    "            flux = row['scaled_flux']\n",
    "            rms = row['scaled_rms']\n",
    "        else:\n",
    "            flux = row['flux']\n",
    "            rms = row['rms']\n",
    "        \n",
    "        ax.errorbar(row['delta_t'], flux, rms, linestyle='', marker=marker, c=colorval, **kwargs) #Plot the flux density (with uncertainty) on the provided axis\n",
    "    return\n",
    "\n",
    "def cmap_setup(cmap='viridis', min_freq=0, max_freq=17):\n",
    "    '''\n",
    "    This function will set up a scalar map for you to colour your markers by frequency\n",
    "    '''\n",
    "    freq_cmap = plt.cm.get_cmap(cmap)\n",
    "    \n",
    "    cNorm  = colors.Normalize(vmin=min_freq, vmax=max_freq)\n",
    "    scalarMap = cmx.ScalarMappable(norm=cNorm, cmap=cmap)\n",
    "    sm = scalarMap\n",
    "    sm._A = []\n",
    "    \n",
    "    return sm    \n",
    "    \n",
    "def make_plot(data, scaled=False, model=None, params=None, tvals=np.arange(10,400), plot_models=False):\n",
    "    fig = plt.figure(figsize=(10,6))\n",
    "    ax = fig.add_subplot(111)\n",
    "    \n",
    "    #Get the scalar map, plot the data using the plot_data function above\n",
    "    sm = cmap_setup()\n",
    "    plot_data(ax, sm, data, scaled=scaled)\n",
    "    \n",
    "    \n",
    "    #Set up a colourbar\n",
    "    cbar = fig.colorbar(sm,fraction=0.046, pad=0.04)\n",
    "    cbar.set_label('Frequency (GHz)')\n",
    "    \n",
    "    #Set axis scales to log\n",
    "    ax.set_xscale('log')\n",
    "    ax.set_yscale('log')\n",
    "    \n",
    "    #Label axes, set axis limits etc.\n",
    "    ax.set_xlabel('Time (days)')\n",
    "    if scaled:\n",
    "        ax.set_ylabel('Scaled Flux Density ($\\mu$Jy)')\n",
    "    else:\n",
    "        ax.set_ylabel('Flux Density ($\\mu$Jy)')\n",
    "        \n",
    "    if model:\n",
    "        plot_model(model, params, tvals, ax)\n",
    "    \n",
    "    if plot_models:\n",
    "        plot_physical_models(ax)\n",
    "    \n",
    "    ax.set_xlim(10,300)\n",
    "    \n",
    "make_plot(data)"
   ]
  },
  {
   "cell_type": "markdown",
   "metadata": {},
   "source": [
    "## cosmology"
   ]
  },
  {
   "cell_type": "code",
   "execution_count": 63,
   "metadata": {
    "ExecuteTime": {
     "end_time": "2021-12-08T02:25:39.729494Z",
     "start_time": "2021-12-08T02:25:39.725538Z"
    }
   },
   "outputs": [],
   "source": [
    "from astropy.cosmology import FlatLambdaCDM,Planck13,Planck15,z_at_value\n",
    "from astropy import units as u\n",
    "from astropy.cosmology import LambdaCDM\n",
    "\n",
    "#cosmo = LambdaCDM(H0=70, Om0=0.3, Ode0=0.7)\n",
    "cosmo = LambdaCDM(H0=73, Om0=0.27, Ode0=0.73)\n",
    "#cosmo=FlatLambdaCDM(H0=73,Om0=0.3)"
   ]
  },
  {
   "cell_type": "markdown",
   "metadata": {},
   "source": [
    "# Spectral Variability of Radio Sources at Low Frequencies 2012.01842.pdf"
   ]
  },
  {
   "cell_type": "code",
   "execution_count": 106,
   "metadata": {
    "ExecuteTime": {
     "end_time": "2021-12-08T02:56:52.368121Z",
     "start_time": "2021-12-08T02:56:30.769924Z"
    }
   },
   "outputs": [],
   "source": [
    "#from astropy.io.votable import parse_single_table\n",
    "from astropy.table import Table\n",
    "\n",
    "mwa_spectral_var_path='/Users/brettlv/blog/IHEP_sync/data/data_mwa/Spectral_variability_of_radio_sources_at_low_frequencies——staa3795_supplemental_files/suuplementary_table_master_population.votable'\n",
    "#mwa_spectral_var_votable = parse(mwa_spectral_var_path)\n",
    "#mwa_spectral_var_table = parse_single_table(mwa_spectral_var_path).to_table()\n",
    "mwa_spectral_var_table = Table.read(mwa_spectral_var_path)"
   ]
  },
  {
   "cell_type": "code",
   "execution_count": 107,
   "metadata": {
    "ExecuteTime": {
     "end_time": "2021-12-08T02:57:19.107739Z",
     "start_time": "2021-12-08T02:57:18.787865Z"
    }
   },
   "outputs": [
    {
     "data": {
      "text/html": [
       "<i>Table length=21558</i>\n",
       "<table id=\"table4925954272\" class=\"table-striped table-bordered table-condensed\">\n",
       "<thead><tr><th>GLEAM_Name</th><th>RAhms</th><th>Decdms</th><th>RAJ2000</th><th>e_RAJ2000</th><th>DEJ2000</th><th>e_DEJ2000</th><th>int_flux_wide_yr1</th><th>e_int_flux_wide_yr1</th><th>local_rms_wide_yr1</th><th>a_wide_yr1</th><th>b_wide_yr1</th><th>psf_a_wide_yr1</th><th>psf_b_wide_yr1</th><th>int_flux_wide_yr2</th><th>e_int_flux_wide_yr2</th><th>local_rms_wide_yr2</th><th>a_wide_yr2</th><th>b_wide_yr2</th><th>psf_a_wide_yr2</th><th>psf_b_wide_yr2</th><th>local_rms_107_yr1</th><th>S_107_yr1</th><th>e_S_107_yr1</th><th>local_rms_115_yr1</th><th>S_115_yr1</th><th>e_S_115_yr1</th><th>local_rms_123_yr1</th><th>S_123_yr1</th><th>e_S_123_yr1</th><th>local_rms_130_yr1</th><th>S_130_yr1</th><th>e_S_130_yr1</th><th>local_rms_143_yr1</th><th>S_143_yr1</th><th>e_S_143_yr1</th><th>local_rms_150_yr1</th><th>S_150_yr1</th><th>e_S_150_yr1</th><th>local_rms_158_yr1</th><th>S_158_yr1</th><th>e_S_158_yr1</th><th>local_rms_166_yr1</th><th>S_166_yr1</th><th>e_S_166_yr1</th><th>local_rms_174_yr1</th><th>S_174_yr1</th><th>e_S_174_yr1</th><th>local_rms_181_yr1</th><th>S_181_yr1</th><th>e_S_181_yr1</th><th>local_rms_189_yr1</th><th>S_189_yr1</th><th>e_S_189_yr1</th><th>local_rms_197_yr1</th><th>S_197_yr1</th><th>e_S_197_yr1</th><th>local_rms_204_yr1</th><th>S_204_yr1</th><th>e_S_204_yr1</th><th>local_rms_212_yr1</th><th>S_212_yr1</th><th>e_S_212_yr1</th><th>local_rms_220_yr1</th><th>S_220_yr1</th><th>e_S_220_yr1</th><th>local_rms_227_yr1</th><th>S_227_yr1</th><th>e_S_227_yr1</th><th>local_rms_107_yr2</th><th>S_107_yr2</th><th>e_S_107_yr2</th><th>local_rms_115_yr2</th><th>S_115_yr2</th><th>e_S_115_yr2</th><th>local_rms_123_yr2</th><th>S_123_yr2</th><th>e_S_123_yr2</th><th>local_rms_130_yr2</th><th>S_130_yr2</th><th>e_S_130_yr2</th><th>local_rms_143_yr2</th><th>S_143_yr2</th><th>e_S_143_yr2</th><th>local_rms_150_yr2</th><th>S_150_yr2</th><th>e_S_150_yr2</th><th>local_rms_158_yr2</th><th>S_158_yr2</th><th>e_S_158_yr2</th><th>local_rms_166_yr2</th><th>S_166_yr2</th><th>e_S_166_yr2</th><th>local_rms_174_yr2</th><th>S_174_yr2</th><th>e_S_174_yr2</th><th>local_rms_181_yr2</th><th>S_181_yr2</th><th>e_S_181_yr2</th><th>local_rms_189_yr2</th><th>S_189_yr2</th><th>e_S_189_yr2</th><th>local_rms_197_yr2</th><th>S_197_yr2</th><th>e_S_197_yr2</th><th>local_rms_204_yr2</th><th>S_204_yr2</th><th>e_S_204_yr2</th><th>local_rms_212_yr2</th><th>S_212_yr2</th><th>e_S_212_yr2</th><th>local_rms_220_yr2</th><th>S_220_yr2</th><th>e_S_220_yr2</th><th>local_rms_227_yr2</th><th>S_227_yr2</th><th>e_S_227_yr2</th><th>S_076</th><th>e_S_076</th><th>S_084</th><th>e_S_084</th><th>S_092</th><th>e_S_092</th><th>S_099</th><th>e_S_099</th><th>S_tgss</th><th>e_S_tgss</th><th>S_mrc</th><th>S_sumss</th><th>S_nvss</th><th>S_vlssr</th><th>alpha_low_yr1</th><th>e_alpha_low_yr1</th><th>alpha_high_yr1</th><th>e_alpha_high_yr1</th><th>quad_curve_yr1</th><th>e_quad_curve_yr1</th><th>redchisq_low_yr1</th><th>redchisq_high_yr1</th><th>redchisq_quad_yr1</th><th>alpha_low_yr2</th><th>e_alpha_low_yr2</th><th>alpha_high_yr2</th><th>e_alpha_high_yr2</th><th>quad_curve_yr2</th><th>e_quad_curve_yr2</th><th>redchisq_low_yr2</th><th>redchisq_high_yr2</th><th>redchisq_quad_yr2</th><th>VIP</th><th>MOSS</th><th>variable_flag</th><th>peaked_spectrum_source_flag</th><th>persistent_pss_flag</th><th>MOSS_class</th><th>pss_class_yr1</th><th>pss_class_yr2</th><th>RAJ2000_NVSS</th><th>DEJ2000_NVSS</th><th>RA_WISE</th><th>Dec_WISE</th><th>w1mpro</th><th>w2mpro</th><th>w3mpro</th><th>w4mpro</th><th>Class</th><th>z</th></tr></thead>\n",
       "<thead><tr><th></th><th></th><th></th><th></th><th></th><th></th><th></th><th>Jy</th><th>Jy</th><th>Jy.beam-1</th><th>&quot;</th><th>&quot;</th><th>&quot;</th><th>&quot;</th><th>Jy</th><th>Jy</th><th>Jy.beam-1</th><th>&quot;</th><th>&quot;</th><th>&quot;</th><th>&quot;</th><th>Jy.beam-1</th><th>Jy</th><th>Jy</th><th>Jy.beam-1</th><th>Jy</th><th>Jy</th><th>Jy.beam-1</th><th>Jy</th><th>Jy</th><th>Jy.beam-1</th><th>Jy</th><th>Jy</th><th>Jy.beam-1</th><th>Jy</th><th>Jy</th><th>Jy.beam-1</th><th>Jy</th><th>Jy</th><th>Jy.beam-1</th><th>Jy</th><th>Jy</th><th>Jy.beam-1</th><th>Jy</th><th>Jy</th><th>Jy.beam-1</th><th>Jy</th><th>Jy</th><th>Jy.beam-1</th><th>Jy</th><th>Jy</th><th>Jy.beam-1</th><th>Jy</th><th>Jy</th><th>Jy.beam-1</th><th>Jy</th><th>Jy</th><th>Jy.beam-1</th><th>Jy</th><th>Jy</th><th>Jy.beam-1</th><th>Jy</th><th>Jy</th><th>Jy.beam-1</th><th>Jy</th><th>Jy</th><th>Jy.beam-1</th><th>Jy</th><th>Jy</th><th>Jy.beam-1</th><th>Jy</th><th>Jy</th><th>Jy.beam-1</th><th>Jy</th><th>Jy</th><th>Jy.beam-1</th><th>Jy</th><th>Jy</th><th>Jy.beam-1</th><th>Jy</th><th>Jy</th><th>Jy.beam-1</th><th>Jy</th><th>Jy</th><th>Jy.beam-1</th><th>Jy</th><th>Jy</th><th>Jy.beam-1</th><th>Jy</th><th>Jy</th><th>Jy.beam-1</th><th>Jy</th><th>Jy</th><th>Jy.beam-1</th><th>Jy</th><th>Jy</th><th>Jy.beam-1</th><th>Jy</th><th>Jy</th><th>Jy.beam-1</th><th>Jy</th><th>Jy</th><th>Jy.beam-1</th><th>Jy</th><th>Jy</th><th>Jy.beam-1</th><th>Jy</th><th>Jy</th><th>Jy.beam-1</th><th>Jy</th><th>Jy</th><th>Jy.beam-1</th><th>Jy</th><th>Jy</th><th>Jy.beam-1</th><th>Jy</th><th>Jy</th><th>Jy</th><th>Jy</th><th>Jy</th><th>Jy</th><th>Jy</th><th>Jy</th><th>Jy</th><th>Jy</th><th>Jy</th><th>Jy</th><th>Jy</th><th>Jy</th><th>Jy</th><th>Jy</th><th></th><th></th><th></th><th></th><th></th><th></th><th></th><th></th><th></th><th></th><th></th><th></th><th></th><th></th><th></th><th></th><th></th><th></th><th></th><th></th><th></th><th></th><th></th><th></th><th></th><th></th><th></th><th></th><th></th><th></th><th>mag</th><th>mag</th><th>mag</th><th>mag</th><th></th><th></th></tr></thead>\n",
       "<thead><tr><th>str20</th><th>str11</th><th>str12</th><th>float64</th><th>float64</th><th>float64</th><th>float64</th><th>str5</th><th>str5</th><th>float64</th><th>float64</th><th>float64</th><th>float64</th><th>float64</th><th>float64</th><th>float64</th><th>float64</th><th>float64</th><th>float64</th><th>float64</th><th>float64</th><th>float64</th><th>float64</th><th>float64</th><th>float64</th><th>float64</th><th>float64</th><th>float64</th><th>float64</th><th>float64</th><th>float64</th><th>float64</th><th>float64</th><th>float64</th><th>float64</th><th>float64</th><th>float64</th><th>float64</th><th>float64</th><th>float64</th><th>float64</th><th>float64</th><th>float64</th><th>float64</th><th>float64</th><th>float64</th><th>float64</th><th>float64</th><th>float64</th><th>float64</th><th>float64</th><th>float64</th><th>float64</th><th>float64</th><th>float64</th><th>float64</th><th>float64</th><th>float64</th><th>float64</th><th>float64</th><th>float64</th><th>float64</th><th>float64</th><th>float64</th><th>float64</th><th>float64</th><th>float64</th><th>float64</th><th>float64</th><th>float64</th><th>float64</th><th>float64</th><th>float64</th><th>float64</th><th>float64</th><th>float64</th><th>float64</th><th>float64</th><th>float64</th><th>float64</th><th>float64</th><th>float64</th><th>float64</th><th>float64</th><th>float64</th><th>float64</th><th>float64</th><th>float64</th><th>float64</th><th>float64</th><th>float64</th><th>float64</th><th>float64</th><th>float64</th><th>float64</th><th>float64</th><th>float64</th><th>float64</th><th>float64</th><th>float64</th><th>float64</th><th>float64</th><th>float64</th><th>float64</th><th>float64</th><th>float64</th><th>float64</th><th>float64</th><th>float64</th><th>float64</th><th>float64</th><th>float64</th><th>float64</th><th>float64</th><th>float64</th><th>float64</th><th>float64</th><th>float64</th><th>float64</th><th>float64</th><th>float64</th><th>float64</th><th>float64</th><th>float64</th><th>float64</th><th>float64</th><th>float64</th><th>float64</th><th>float64</th><th>float64</th><th>float64</th><th>float64</th><th>float64</th><th>float64</th><th>float64</th><th>float64</th><th>float64</th><th>float64</th><th>float64</th><th>float64</th><th>float64</th><th>float64</th><th>float64</th><th>float64</th><th>float64</th><th>float64</th><th>float64</th><th>float64</th><th>float64</th><th>str7</th><th>str7</th><th>float64</th><th>float64</th><th>float64</th><th>str14</th><th>str3</th><th>str3</th><th>object</th><th>object</th><th>float64</th><th>float64</th><th>float64</th><th>float64</th><th>float64</th><th>float64</th><th>str24</th><th>float64</th></tr></thead>\n",
       "<tr><td>GLEAM J000000-040240</td><td>00:00:00.13</td><td>-04:02:40.34</td><td>0.0011828415</td><td>0.00030109384999999996</td><td>-4.0446253</td><td>0.0003271339</td><td>0.49</td><td>0.49</td><td>0.0135552855</td><td>148.98878</td><td>124.021996</td><td>148.39241</td><td>122.0116</td><td>0.5060244</td><td>0.009060254</td><td>0.008699694000000001</td><td>150.49338</td><td>124.06605</td><td>149.90298</td><td>122.05978999999999</td><td>0.041289974</td><td>0.59180677</td><td>0.03654905</td><td>0.037056215</td><td>0.50136566</td><td>0.032645144</td><td>0.034654226</td><td>0.54596305</td><td>0.030349111</td><td>0.031559616</td><td>0.5693604999999999</td><td>0.027765897999999997</td><td>0.02259069</td><td>0.5783332</td><td>0.019907795</td><td>0.020302672</td><td>0.60526353</td><td>0.01785598</td><td>0.019051653999999998</td><td>0.5624766</td><td>0.016800003</td><td>0.017876444</td><td>0.55156463</td><td>0.01573209</td><td>0.02125322</td><td>0.5406583</td><td>0.018654658</td><td>0.019700525</td><td>0.5269087</td><td>0.017393282</td><td>0.018982546</td><td>0.51180226</td><td>0.016799645</td><td>0.019869292</td><td>0.52872175</td><td>0.017562807</td><td>0.023927993999999998</td><td>0.48368928</td><td>0.021273386000000002</td><td>0.026348773</td><td>0.4921799</td><td>0.02336</td><td>0.027062</td><td>0.5265879</td><td>0.02396039</td><td>0.028706937999999998</td><td>0.45747328</td><td>0.02555286</td><td>0.030679977999999997</td><td>0.63874483</td><td>0.02733396</td><td>0.024772486</td><td>0.6093701</td><td>0.021893257000000003</td><td>0.023429492000000003</td><td>0.6013331000000001</td><td>0.020549253</td><td>0.021846812</td><td>0.5901619</td><td>0.019321248</td><td>0.015393135</td><td>0.5957435999999999</td><td>0.013459326</td><td>0.0137518</td><td>0.5877949</td><td>0.012130328000000001</td><td>0.012806632</td><td>0.60771686</td><td>0.011324366</td><td>0.011951835</td><td>0.5894099</td><td>0.010535963999999998</td><td>0.013391186999999999</td><td>0.5475526999999999</td><td>0.01178931</td><td>0.012655716000000001</td><td>0.56630933</td><td>0.01113794</td><td>0.012216873999999999</td><td>0.5496287</td><td>0.010854158000000001</td><td>0.011935016000000001</td><td>0.55292606</td><td>0.010560431</td><td>0.014841093999999999</td><td>0.5180264</td><td>0.013120775</td><td>0.015792063000000002</td><td>0.5241868</td><td>0.014041658</td><td>0.01697677</td><td>0.496069</td><td>0.01507963</td><td>0.018792292</td><td>0.48994407</td><td>0.016660227</td><td>0.6129113</td><td>0.09161436</td><td>0.6255359</td><td>0.07311714400000001</td><td>0.59676355</td><td>0.06550504</td><td>0.5393859000000001</td><td>0.05975917</td><td>0.4049</td><td>0.0413</td><td>--</td><td>--</td><td>0.1068</td><td>0.64</td><td>-0.22324437541340847</td><td>0.08079762344681321</td><td>-0.7890059471924361</td><td>0.025229056378941184</td><td>-0.7471005858024836</td><td>0.27129091690882634</td><td>2.189970332943276</td><td>inf</td><td>1.3461944185539398</td><td>-0.30556994590772524</td><td>0.05265422269827315</td><td>-0.8228278065023604</td><td>0.036018892112608565</td><td>-0.553614585458606</td><td>0.15757357053957807</td><td>2.1964670296311826</td><td>inf</td><td>1.0671980127417948</td><td>34.01</td><td>16.11</td><td>0.0</td><td>0.0</td><td>0.0</td><td>nan</td><td>nan</td><td>LS</td><td>00 00 00.16</td><td>-04 02 42.3</td><td>--</td><td>--</td><td>--</td><td>--</td><td>--</td><td>--</td><td>nan</td><td>--</td></tr>\n",
       "<tr><td>GLEAM J000001-002215</td><td>00:00:01.61</td><td>-00:22:15.92</td><td>0.0037447715</td><td>0.0013384558</td><td>-0.37055879999999997</td><td>0.0014980909</td><td>0.39</td><td>0.39</td><td>0.043712255</td><td>151.07072</td><td>129.65215</td><td>149.41187</td><td>123.922775</td><td>0.32126740000000004</td><td>0.025322495</td><td>0.023663957000000003</td><td>154.75385</td><td>129.03087</td><td>153.13488999999996</td><td>123.27681000000001</td><td>0.048494913</td><td>0.28230044</td><td>0.04267175</td><td>0.041322912999999996</td><td>0.22175896</td><td>0.036335412000000004</td><td>0.037800238</td><td>0.22478983</td><td>0.03330249</td><td>0.036436796</td><td>0.28762624</td><td>0.03222634</td><td>0.03275565</td><td>0.27141765</td><td>0.029019602000000002</td><td>0.031053089</td><td>0.25647359999999997</td><td>0.027642427</td><td>0.030023263999999997</td><td>0.28834882</td><td>0.02662913</td><td>0.027783857999999998</td><td>0.22765736</td><td>0.02472075</td><td>0.038141895</td><td>0.29730448</td><td>0.03412215</td><td>0.03589255</td><td>0.32102522</td><td>0.03232626</td><td>0.038912844</td><td>0.25109360000000003</td><td>0.034965828</td><td>0.043980133</td><td>0.27933884</td><td>0.03960146</td><td>0.06969867</td><td>0.37027547</td><td>0.063692234</td><td>0.07972245</td><td>0.47665235</td><td>0.072992906</td><td>0.090963386</td><td>0.19350143</td><td>0.08356085</td><td>0.12790917</td><td>0.5293687</td><td>0.11851067</td><td>0.03619164</td><td>0.28147796</td><td>0.031946283</td><td>0.028922233999999998</td><td>0.23282361</td><td>0.025604194</td><td>0.026453672</td><td>0.26897209999999994</td><td>0.023589524</td><td>0.025023246000000002</td><td>0.24838579999999996</td><td>0.022555102</td><td>0.021890255</td><td>0.2676902</td><td>0.019401701</td><td>0.01875433</td><td>0.27124499999999996</td><td>0.016825141000000002</td><td>0.018789038</td><td>0.28903902</td><td>0.016879108</td><td>0.01897764</td><td>0.3267198</td><td>0.016932683</td><td>0.021628985</td><td>0.32547352</td><td>0.019347332</td><td>0.020771613</td><td>0.28286016</td><td>0.018770875</td><td>0.022022491</td><td>0.3171179</td><td>0.01997194</td><td>0.024010625</td><td>0.28950733</td><td>0.021718372000000003</td><td>0.037063036</td><td>0.3069866</td><td>0.033804078</td><td>0.042644367</td><td>0.34070793</td><td>0.038693607000000005</td><td>0.04801018</td><td>0.32645878</td><td>0.044061172999999995</td><td>0.061647613</td><td>0.3028663</td><td>0.056707297000000004</td><td>-0.060137454000000014</td><td>0.10988475</td><td>0.23599257</td><td>0.08646303</td><td>0.18930285</td><td>0.07659477</td><td>0.14679776</td><td>0.066079475</td><td>0.2921</td><td>0.0304</td><td>--</td><td>--</td><td>0.2125</td><td>--</td><td>0.3602438996167899</td><td>0.22944686769261904</td><td>-0.1573014429052442</td><td>0.1710935397314666</td><td>0.7781467726228609</td><td>1.0592317416763524</td><td>1.3389025588974521</td><td>inf</td><td>1.8686993170758548</td><td>0.3447511493102688</td><td>0.11304698536333478</td><td>-0.2105156833059252</td><td>0.02696854813287876</td><td>-0.06941022122978682</td><td>0.4843230071207363</td><td>0.8164540720645058</td><td>inf</td><td>0.8192524769790944</td><td>22.97</td><td>18.97</td><td>0.0</td><td>0.0</td><td>1.0</td><td>nan</td><td>HH</td><td>HH</td><td>00 00 01.65</td><td>-00 22 09.7</td><td>--</td><td>--</td><td>--</td><td>--</td><td>--</td><td>--</td><td>nan</td><td>--</td></tr>\n",
       "<tr><td>GLEAM J000003-282416</td><td>00:00:03.83</td><td>-28:24:16.83</td><td>0.016412435</td><td>0.00016245605</td><td>-28.40486</td><td>0.00017986161</td><td>0.32</td><td>0.32</td><td>0.0041218577</td><td>142.05968000000001</td><td>112.72572</td><td>145.97229</td><td>117.8616</td><td>0.3357857</td><td>0.0035338297</td><td>0.0036988790000000004</td><td>144.17609</td><td>114.57403000000001</td><td>148.03278</td><td>119.62851</td><td>0.025358556</td><td>0.55200934</td><td>0.02178292</td><td>0.020205673</td><td>0.52884585</td><td>0.01732311</td><td>0.018173624</td><td>0.50507224</td><td>0.015536381</td><td>0.015557138</td><td>0.4866127000000001</td><td>0.013241951</td><td>0.013418953</td><td>0.43928134</td><td>0.011483432</td><td>0.01202601</td><td>0.4265229999999999</td><td>0.010178867</td><td>0.011664676499999999</td><td>0.40859497</td><td>0.009908901</td><td>0.010729427</td><td>0.400801</td><td>0.009093432</td><td>0.010361867</td><td>0.371949</td><td>0.008808330999999999</td><td>0.011093748</td><td>0.35789886</td><td>0.009289773000000001</td><td>0.009942177</td><td>0.36673573</td><td>0.008319881999999999</td><td>0.009779435999999999</td><td>0.33293065</td><td>0.008128104</td><td>0.00773126</td><td>0.3428256</td><td>0.006428370300000001</td><td>0.007839162</td><td>0.31782186</td><td>0.006485485</td><td>0.0068689934</td><td>0.31196064</td><td>0.0056677232</td><td>0.0072376085</td><td>0.30183002</td><td>0.005944169599999999</td><td>0.022265377000000003</td><td>0.573965</td><td>0.019368164</td><td>0.017813412</td><td>0.5357251999999999</td><td>0.015349739</td><td>0.0145111345</td><td>0.5065198000000001</td><td>0.012365812</td><td>0.013247538</td><td>0.48313344</td><td>0.011318096000000001</td><td>0.011004538999999999</td><td>0.4278220999999999</td><td>0.00935489</td><td>0.009308911</td><td>0.42333505</td><td>0.007943661999999999</td><td>0.008720094</td><td>0.41805938</td><td>0.0074125426000000005</td><td>0.008597743</td><td>0.39948753</td><td>0.0072645090000000015</td><td>0.0074782553</td><td>0.3797332000000001</td><td>0.006326651</td><td>0.0065453937</td><td>0.3743237</td><td>0.005506016</td><td>0.006023288199999999</td><td>0.35714778</td><td>0.0050318786</td><td>0.006170814</td><td>0.3401284</td><td>0.0051364405</td><td>0.0066162140000000005</td><td>0.34855968</td><td>0.005521071999999999</td><td>0.006379389</td><td>0.32559183</td><td>0.005278053</td><td>0.006707768</td><td>0.31923074</td><td>0.0055517573</td><td>0.006560246</td><td>0.31621677</td><td>0.0053884163</td><td>0.7717563000000001</td><td>0.07844395</td><td>0.67018384</td><td>0.061309867000000004</td><td>0.6782965</td><td>0.051159552999999997</td><td>0.64477205</td><td>0.046657305</td><td>0.4275</td><td>0.0433</td><td>--</td><td>--</td><td>0.08109999999999999</td><td>0.73</td><td>-0.8150156221829734</td><td>0.02251181622233946</td><td>-0.7422681069354995</td><td>0.04934716486186008</td><td>-0.07633846356260708</td><td>0.13655643668079884</td><td>0.5331732605752886</td><td>inf</td><td>0.7065029594924129</td><td>-0.7696132316774056</td><td>0.025244817619676004</td><td>-0.7398387373311643</td><td>0.00845906582466093</td><td>0.11148980738509807</td><td>0.11283406274504602</td><td>0.8752391058510227</td><td>inf</td><td>0.7546987719798127</td><td>10.02</td><td>6.49</td><td>0.0</td><td>0.0</td><td>0.0</td><td>nan</td><td>nan</td><td>nan</td><td>00 00 04.15</td><td>-28 24 19.7</td><td>--</td><td>--</td><td>--</td><td>--</td><td>--</td><td>--</td><td>nan</td><td>--</td></tr>\n",
       "<tr><td>GLEAM J000005-260405</td><td>00:00:05.50</td><td>-26:04:05.67</td><td>0.022709657999999997</td><td>0.000332476</td><td>-26.069477</td><td>0.00035864425999999997</td><td>0.16</td><td>0.16</td><td>0.004157902</td><td>145.96206999999995</td><td>113.137474</td><td>145.97229</td><td>117.8616</td><td>0.17373367</td><td>0.0036170532</td><td>0.0036377183</td><td>148.02268999999995</td><td>114.97863999999998</td><td>148.03278</td><td>119.62851</td><td>0.023345351</td><td>0.29879507</td><td>0.02043553</td><td>0.018507126999999998</td><td>0.29271576</td><td>0.016191656000000002</td><td>0.016065458</td><td>0.28029522</td><td>0.013999026000000001</td><td>0.01531108</td><td>0.24855925</td><td>0.013239602</td><td>0.013164921000000001</td><td>0.23587133</td><td>0.01138398</td><td>0.011145843999999999</td><td>0.22813484</td><td>0.009540344000000001</td><td>0.011309004</td><td>0.21628012</td><td>0.009730654</td><td>0.010963056</td><td>0.21175460000000002</td><td>0.009342048</td><td>0.011786004</td><td>0.2063521</td><td>0.010095576</td><td>0.011582624</td><td>0.18098973</td><td>0.009828756</td><td>0.010719507</td><td>0.18337329</td><td>0.009152395</td><td>0.010400064</td><td>0.17664574</td><td>0.008846010999999999</td><td>0.007748638</td><td>0.16214915</td><td>0.006577985</td><td>0.0082389675</td><td>0.15201554</td><td>0.0069354707</td><td>0.0070769703000000015</td><td>0.16501598</td><td>0.005971557</td><td>0.007510013</td><td>0.14971027</td><td>0.006346173599999999</td><td>0.019955844</td><td>0.32642365</td><td>0.017556306</td><td>0.015790171999999998</td><td>0.29166390000000003</td><td>0.013775416</td><td>0.013418356000000001</td><td>0.26615065</td><td>0.011763625</td><td>0.012169667</td><td>0.26603925</td><td>0.010569931000000001</td><td>0.010088040999999999</td><td>0.2457206</td><td>0.008824885</td><td>0.008959611</td><td>0.23164718</td><td>0.007813185</td><td>0.00839738</td><td>0.21552123</td><td>0.0072201467</td><td>0.007877568</td><td>0.19919097</td><td>0.0068113958</td><td>0.007987107</td><td>0.19457771</td><td>0.006854235</td><td>0.0071251714</td><td>0.19503513</td><td>0.0060716127</td><td>0.0073723680000000015</td><td>0.19330418</td><td>0.0062777232</td><td>0.007183074</td><td>0.19326809</td><td>0.00611347</td><td>0.0059478288</td><td>0.17341043</td><td>0.0050951033</td><td>0.0059659686</td><td>0.1817809</td><td>0.0051041376</td><td>0.0062698526000000004</td><td>0.16513202</td><td>0.0052748844</td><td>0.006551024</td><td>0.15789792</td><td>0.0055214159999999995</td><td>0.3929911</td><td>0.07667736</td><td>0.5009173</td><td>0.05896276</td><td>0.27954808</td><td>0.05426516</td><td>0.31535885</td><td>0.05239228</td><td>0.1494</td><td>0.016100000000000003</td><td>--</td><td>--</td><td>0.0432</td><td>--</td><td>-0.9323515489252828</td><td>0.04080793602298188</td><td>-0.6931721683772455</td><td>0.04921151858229161</td><td>-0.1206083658023994</td><td>0.26489450308228263</td><td>0.5543932077797037</td><td>inf</td><td>0.6804604656956857</td><td>-0.8876515266082239</td><td>0.04390438986869048</td><td>-0.7540341752916685</td><td>0.016076435595489158</td><td>0.16489895415373307</td><td>0.2565780473493651</td><td>0.9363764441182814</td><td>inf</td><td>1.2079627704044948</td><td>23.72</td><td>17.01</td><td>0.0</td><td>0.0</td><td>0.0</td><td>nan</td><td>nan</td><td>nan</td><td>00 00 05.65</td><td>-26 04 09.7</td><td>--</td><td>--</td><td>--</td><td>--</td><td>--</td><td>--</td><td>nan</td><td>--</td></tr>\n",
       "<tr><td>GLEAM J000006-031809</td><td>00:00:06.50</td><td>-03:18:09.25</td><td>0.027845731000000002</td><td>0.0008650733500000001</td><td>-3.3030028</td><td>0.0008847856</td><td>0.17</td><td>0.17</td><td>0.015875941</td><td>149.24004</td><td>112.62061000000001</td><td>148.69186000000005</td><td>122.66718</td><td>0.16843796</td><td>0.008669873</td><td>0.009167693000000001</td><td>150.16433999999995</td><td>112.41136999999999</td><td>149.61955</td><td>122.47768400000001</td><td>0.03981533</td><td>0.29703283</td><td>0.035318736</td><td>0.035811927</td><td>0.2553273</td><td>0.03177497</td><td>0.032773673999999996</td><td>0.25494978</td><td>0.02856163</td><td>0.031121356</td><td>0.24087839</td><td>0.027026886</td><td>0.024058415</td><td>0.23431747</td><td>0.020652378</td><td>0.021293392</td><td>0.22907808</td><td>0.018052046999999998</td><td>0.02086622</td><td>0.2246625</td><td>0.017682275</td><td>0.018730781999999998</td><td>0.1991331</td><td>0.01583761</td><td>0.023435785</td><td>0.23992655</td><td>0.019646546</td><td>0.021198839</td><td>0.21199667</td><td>0.01771715</td><td>0.022562163</td><td>0.20946193</td><td>0.018839931</td><td>0.022996622999999997</td><td>0.15379310000000002</td><td>0.019007588</td><td>0.028527535</td><td>0.16146341</td><td>0.023766207</td><td>0.030430392999999997</td><td>0.16259108</td><td>0.024911217000000003</td><td>0.03190954</td><td>0.1538039</td><td>0.026258133</td><td>0.033697005</td><td>0.1980689</td><td>0.027588542999999997</td><td>0.030413399</td><td>0.3144571</td><td>0.02720605</td><td>0.025783413999999998</td><td>0.27901852</td><td>0.022569625</td><td>0.022328025</td><td>0.29013965</td><td>0.019574506000000002</td><td>0.020795058</td><td>0.22778764</td><td>0.018171754</td><td>0.016226662</td><td>0.25839904</td><td>0.01410646</td><td>0.01433261</td><td>0.22366089</td><td>0.012338466999999999</td><td>0.01274045</td><td>0.23467462</td><td>0.011079057</td><td>0.013133492</td><td>0.21620889</td><td>0.011240337</td><td>0.014326653</td><td>0.21768606</td><td>0.012063628</td><td>0.012727298</td><td>0.20191523</td><td>0.010594163</td><td>0.012669179</td><td>0.19419894</td><td>0.010515294</td><td>0.013789210500000001</td><td>0.16893189</td><td>0.011527783</td><td>0.017166885</td><td>0.16077478</td><td>0.014245633999999997</td><td>0.017545653999999997</td><td>0.17370662</td><td>0.014435248000000001</td><td>0.01960939</td><td>0.18081221</td><td>0.01606623</td><td>0.02125122</td><td>0.16061078</td><td>0.017295124</td><td>0.30920190000000003</td><td>0.10115221</td><td>0.26829475</td><td>0.07786169</td><td>0.44761009999999996</td><td>0.07024559400000001</td><td>0.30936929999999996</td><td>0.0630805</td><td>0.1753</td><td>0.019600000000000003</td><td>--</td><td>--</td><td>0.0369</td><td>--</td><td>-0.7146974332776388</td><td>0.13371586809087282</td><td>-0.8447530941230406</td><td>0.04275000923609888</td><td>-0.4605018571678246</td><td>0.6452663471862127</td><td>0.9623451674968622</td><td>inf</td><td>0.9965765428371882</td><td>-0.8560761826293702</td><td>0.09460920121707336</td><td>-0.8270283033363552</td><td>0.005727010295004594</td><td>-0.3129600518338114</td><td>0.4116860865429812</td><td>1.1407210032104125</td><td>inf</td><td>0.9572320245258584</td><td>8.02</td><td>7.01</td><td>0.0</td><td>0.0</td><td>0.0</td><td>nan</td><td>nan</td><td>nan</td><td>00 00 06.53</td><td>-03 18 11.3</td><td>--</td><td>--</td><td>--</td><td>--</td><td>--</td><td>--</td><td>nan</td><td>--</td></tr>\n",
       "<tr><td>GLEAM J000006-491100</td><td>00:00:06.95</td><td>-49:11:00.80</td><td>0.029006902</td><td>0.00023917298</td><td>-49.183647</td><td>0.00030850669999999997</td><td>0.64</td><td>0.64</td><td>0.011899894</td><td>148.39757</td><td>121.07838999999998</td><td>147.6387</td><td>120.62931999999999</td><td>0.64198196</td><td>0.010557353</td><td>0.0101754395</td><td>151.28018</td><td>122.624214</td><td>150.53586</td><td>122.17331999999999</td><td>0.031936242999999996</td><td>1.3446611000000002</td><td>0.027837518999999998</td><td>0.026632707999999998</td><td>1.2307242</td><td>0.023154527</td><td>0.022457328</td><td>1.2278284</td><td>0.019622825</td><td>0.020660808</td><td>1.1088818</td><td>0.018015813000000002</td><td>0.017984899</td><td>0.9999146000000001</td><td>0.015659513</td><td>0.015979858</td><td>0.93002266</td><td>0.013916451000000002</td><td>0.013969902</td><td>0.8997639000000001</td><td>0.0121831</td><td>0.012287211000000001</td><td>0.86536556</td><td>0.010734273</td><td>0.014103988999999999</td><td>0.8146478</td><td>0.012388966000000001</td><td>0.013448841999999999</td><td>0.7766512</td><td>0.011838932</td><td>0.013839431999999999</td><td>0.73100364</td><td>0.012262351999999999</td><td>0.01474933</td><td>0.68371594</td><td>0.013002966000000001</td><td>0.019878488</td><td>0.6767432</td><td>0.017405497</td><td>0.021584323</td><td>0.65860105</td><td>0.019063754</td><td>0.021977674</td><td>0.60098016</td><td>0.019232078</td><td>0.023775487999999997</td><td>0.5948554</td><td>0.020962125</td><td>0.026107015</td><td>1.2888865</td><td>0.02325911</td><td>0.022445975</td><td>1.2151731000000001</td><td>0.019681182</td><td>0.018942699</td><td>1.1533183999999999</td><td>0.016598672</td><td>0.017261684</td><td>1.0837624</td><td>0.015148354</td><td>0.01480206</td><td>0.9943688</td><td>0.013081968000000001</td><td>0.012291429</td><td>0.9336267</td><td>0.010765048999999999</td><td>0.01158506</td><td>0.8877911</td><td>0.010179179</td><td>0.01115226</td><td>0.8685096</td><td>0.009768477</td><td>0.011161939</td><td>0.824677</td><td>0.009712552</td><td>0.010526084</td><td>0.7807151</td><td>0.009281454</td><td>0.010340156</td><td>0.7487459</td><td>0.009044398</td><td>0.011951468</td><td>0.69827163</td><td>0.010454825</td><td>0.016475119</td><td>0.68733567</td><td>0.014487126999999999</td><td>0.019085232</td><td>0.6190175</td><td>0.016848834</td><td>0.019379837</td><td>0.5892319</td><td>0.017144725</td><td>0.022398297</td><td>0.57500166</td><td>0.019646715</td><td>2.0591328</td><td>0.0882706</td><td>1.6915944</td><td>0.06593309</td><td>1.6292188</td><td>0.058343858</td><td>1.3823549</td><td>0.05703435</td><td>0.5525</td><td>0.0554</td><td>--</td><td>0.1318</td><td>--</td><td>--</td><td>-1.092903544109733</td><td>0.02687990588829876</td><td>-1.1470941364666996</td><td>0.027793543952442136</td><td>-0.1976913897518112</td><td>0.10067552864383572</td><td>1.113006063681176</td><td>inf</td><td>0.8028211768612312</td><td>-1.0147488070558617</td><td>0.031404388409048536</td><td>-1.163251515938308</td><td>0.06519735249269433</td><td>-0.5211749024119203</td><td>0.10679324843165293</td><td>1.977903804636456</td><td>inf</td><td>0.9698117374079521</td><td>14.95</td><td>15.47</td><td>0.0</td><td>0.0</td><td>0.0</td><td>nan</td><td>nan</td><td>nan</td><td>nan</td><td>nan</td><td>--</td><td>--</td><td>--</td><td>--</td><td>--</td><td>--</td><td>nan</td><td>--</td></tr>\n",
       "<tr><td>GLEAM J000008-523458</td><td>00:00:08.46</td><td>-52:34:58.73</td><td>0.033452645</td><td>0.0016832589999999999</td><td>-52.58511</td><td>0.0026868309999999998</td><td>0.27</td><td>0.27</td><td>0.031670157000000004</td><td>142.10246</td><td>133.37509</td><td>148.49168</td><td>124.17433</td><td>0.27550748</td><td>0.036586307</td><td>0.035206407</td><td>141.18298000000001</td><td>132.50978</td><td>147.61201</td><td>123.2452</td><td>0.04077258</td><td>0.4060473</td><td>0.036271173999999996</td><td>0.032643814</td><td>0.48398959999999996</td><td>0.028796941</td><td>0.030498534</td><td>0.41051683</td><td>0.027656472999999997</td><td>0.027622197</td><td>0.41021872</td><td>0.024469905</td><td>0.02524879</td><td>0.37569657</td><td>0.022470237999999997</td><td>0.02358164</td><td>0.3438634</td><td>0.020715924</td><td>0.022325777</td><td>0.31759570000000004</td><td>0.019735911999999998</td><td>0.020312095</td><td>0.32508534</td><td>0.017791212</td><td>0.024920354</td><td>0.24916279999999996</td><td>0.022027226</td><td>0.024914147</td><td>0.28175700000000004</td><td>0.021999216000000002</td><td>0.025174292</td><td>0.26338059999999996</td><td>0.02222503</td><td>0.029546062999999997</td><td>0.25792995</td><td>0.026064342</td><td>0.048970655</td><td>0.26326793</td><td>0.043698292</td><td>0.056764055</td><td>0.27417967</td><td>0.051136743</td><td>0.06272561</td><td>0.26182073</td><td>0.056342237</td><td>0.077876784</td><td>0.28890386</td><td>0.06969218</td><td>0.03719716</td><td>0.41523287</td><td>0.033219192</td><td>0.030698502000000006</td><td>0.402885</td><td>0.02714311</td><td>0.025794681</td><td>0.4300090999999999</td><td>0.023353515</td><td>0.02292108</td><td>0.38899684</td><td>0.020527171</td><td>0.024120217000000003</td><td>0.3268499</td><td>0.021298032</td><td>0.020912252</td><td>0.36354655</td><td>0.018418632</td><td>0.019830689</td><td>0.35434452</td><td>0.017696386</td><td>0.019266997</td><td>0.33655635</td><td>0.017095346</td><td>0.02127924</td><td>0.33241420000000005</td><td>0.018830385</td><td>0.020173822</td><td>0.27759045</td><td>0.0178042</td><td>0.022114987000000003</td><td>0.26336706</td><td>0.019472415</td><td>0.02468449</td><td>0.24977449999999998</td><td>0.021897815</td><td>0.04730941</td><td>0.20131816</td><td>0.04294418</td><td>0.06283736</td><td>0.27971506</td><td>0.05670017400000001</td><td>0.078165</td><td>0.3752203</td><td>0.07074463</td><td>0.11170316</td><td>0.29976857</td><td>0.10198122</td><td>0.6783806</td><td>0.09223387</td><td>0.584805</td><td>0.072224684</td><td>0.56252193</td><td>0.06819299599999999</td><td>0.5872622</td><td>0.06220075</td><td>--</td><td>--</td><td>--</td><td>0.07050000000000001</td><td>--</td><td>--</td><td>-0.957559740240685</td><td>0.11961292446595068</td><td>-0.8951209056895902</td><td>0.04220336773244535</td><td>0.2374623606267999</td><td>0.5682511831367529</td><td>0.9912911970527952</td><td>inf</td><td>0.93544218462424</td><td>-0.7522178075003274</td><td>0.13136470510234188</td><td>-0.8922031987994151</td><td>0.042389287200792214</td><td>-0.8560796378433729</td><td>0.7065434389839409</td><td>1.4090249596378532</td><td>inf</td><td>1.4234626177482659</td><td>16.29</td><td>15.92</td><td>0.0</td><td>0.0</td><td>0.0</td><td>nan</td><td>nan</td><td>nan</td><td>nan</td><td>nan</td><td>--</td><td>--</td><td>--</td><td>--</td><td>--</td><td>--</td><td>nan</td><td>--</td></tr>\n",
       "<tr><td>GLEAM J000010-433322</td><td>00:00:10.94</td><td>-43:33:22.78</td><td>0.045561563</td><td>0.00024368126</td><td>-43.554959999999994</td><td>0.00030899097</td><td>0.27</td><td>0.27</td><td>0.0059915837</td><td>140.83401</td><td>117.76378999999999</td><td>148.41922</td><td>120.42978000000001</td><td>0.28516529999999995</td><td>0.0049320543</td><td>0.005038756</td><td>144.04942</td><td>118.73945</td><td>151.4737</td><td>121.37813600000001</td><td>0.027226634</td><td>0.5778925</td><td>0.023570595</td><td>0.022623524</td><td>0.52276003</td><td>0.019657416</td><td>0.020663986000000002</td><td>0.49065974</td><td>0.017878873</td><td>0.017753664</td><td>0.48079237</td><td>0.01533284</td><td>0.01467825</td><td>0.44395444</td><td>0.012455529</td><td>0.013255008</td><td>0.43054220000000004</td><td>0.011243366000000001</td><td>0.012117008</td><td>0.39045830000000004</td><td>0.010243361</td><td>0.011824571499999999</td><td>0.38725343</td><td>0.009963372</td><td>0.009278841999999999</td><td>0.35228056</td><td>0.007872049</td><td>0.00898365</td><td>0.33592665</td><td>0.007553355</td><td>0.008618886</td><td>0.31812727</td><td>0.007200108</td><td>0.008447675</td><td>0.32604313</td><td>0.007055861</td><td>0.010445473</td><td>0.28334066</td><td>0.008654426</td><td>0.010774138</td><td>0.26047906</td><td>0.008908606999999999</td><td>0.010553466000000001</td><td>0.25505278</td><td>0.008642514</td><td>0.01032069</td><td>0.24233249999999998</td><td>0.008457817</td><td>0.023778655</td><td>0.5870639</td><td>0.020754775</td><td>0.01952268</td><td>0.5375714</td><td>0.016984189</td><td>0.016437596000000002</td><td>0.48709527</td><td>0.014229908000000001</td><td>0.01530461</td><td>0.49587172</td><td>0.013155983999999999</td><td>0.012826216000000001</td><td>0.43813866</td><td>0.011017019</td><td>0.010951963</td><td>0.41253850000000003</td><td>0.009331799</td><td>0.010392574</td><td>0.38302982</td><td>0.0087970635</td><td>0.009916435</td><td>0.375427</td><td>0.008371615</td><td>0.0073359786</td><td>0.3627307</td><td>0.0063192686</td><td>0.006809699000000001</td><td>0.34533459999999994</td><td>0.005875061700000001</td><td>0.006512164599999999</td><td>0.32290506</td><td>0.005614293</td><td>0.006407813</td><td>0.31147358</td><td>0.0054180278</td><td>0.008109895</td><td>0.303139</td><td>0.0067784563</td><td>0.008603345</td><td>0.27331558</td><td>0.007145614399999998</td><td>0.00820948</td><td>0.25423017</td><td>0.0068119930000000006</td><td>0.008848029</td><td>0.26185927</td><td>0.0072457519999999985</td><td>0.9050026</td><td>0.069843955</td><td>0.7277515999999999</td><td>0.04961322</td><td>0.66924924</td><td>0.042658947</td><td>0.5308001</td><td>0.04470602</td><td>0.4296</td><td>0.0437</td><td>--</td><td>0.0778</td><td>--</td><td>--</td><td>-1.0942306808892022</td><td>0.059671741336118474</td><td>-0.9295922108870268</td><td>0.08372361463483845</td><td>-0.7840644273006437</td><td>0.2219778209477329</td><td>2.536092527105647</td><td>inf</td><td>1.4115620734550836</td><td>-1.0619170311638548</td><td>0.04127391685040566</td><td>-0.9474489049144036</td><td>0.06465802896989079</td><td>-0.4668250977172314</td><td>0.17680697980791754</td><td>1.6930221991098202</td><td>inf</td><td>1.2163725813077475</td><td>14.52</td><td>13.33</td><td>0.0</td><td>0.0</td><td>0.0</td><td>nan</td><td>nan</td><td>nan</td><td>nan</td><td>nan</td><td>--</td><td>--</td><td>--</td><td>--</td><td>--</td><td>--</td><td>nan</td><td>--</td></tr>\n",
       "<tr><td>GLEAM J000010-440713</td><td>00:00:10.96</td><td>-44:07:13.25</td><td>0.045478455999999993</td><td>0.00035957727</td><td>-44.120743</td><td>0.00046313839999999996</td><td>0.19</td><td>0.19</td><td>0.006363899399999999</td><td>136.62894</td><td>116.65423600000001</td><td>148.41922</td><td>120.42978000000001</td><td>0.19104767</td><td>0.0050296057</td><td>0.005410035600000001</td><td>139.941</td><td>117.63904</td><td>151.4737</td><td>121.37813600000001</td><td>0.029880932000000002</td><td>0.34752414</td><td>0.025591431</td><td>0.025518192000000002</td><td>0.3280841</td><td>0.02172596</td><td>0.022907208999999998</td><td>0.3320595</td><td>0.019525493999999997</td><td>0.020293921</td><td>0.31905508</td><td>0.017120508</td><td>0.014927686</td><td>0.27670813</td><td>0.012557898</td><td>0.013096816</td><td>0.28046</td><td>0.010954625</td><td>0.011645273999999999</td><td>0.24504079</td><td>0.009679169</td><td>0.011004992</td><td>0.21956998</td><td>0.009115032</td><td>0.009618576</td><td>0.22837819</td><td>0.007901025</td><td>0.009306204</td><td>0.21496901</td><td>0.0076391823</td><td>0.009135851</td><td>0.21956143</td><td>0.007380797</td><td>0.009094811999999999</td><td>0.21416432</td><td>0.00734744</td><td>0.01165107</td><td>0.18359973</td><td>0.009340666999999999</td><td>0.011069447</td><td>0.19653529</td><td>0.008846568</td><td>0.01087145</td><td>0.17290325</td><td>0.008672129</td><td>0.011062065</td><td>0.17759907</td><td>0.008717510999999999</td><td>0.026036568</td><td>0.4306015</td><td>0.022406261</td><td>0.021996355</td><td>0.35844699999999996</td><td>0.01880937</td><td>0.01867433</td><td>0.31767952</td><td>0.015974479</td><td>0.017138243</td><td>0.30823752</td><td>0.014551042</td><td>0.013322212</td><td>0.27495742</td><td>0.01131727</td><td>0.011398027</td><td>0.25200188</td><td>0.009519075</td><td>0.009899035</td><td>0.24998838</td><td>0.008369571999999999</td><td>0.009696912</td><td>0.23547171</td><td>0.008071564</td><td>0.007939563</td><td>0.23286977</td><td>0.0066210213</td><td>0.0072159580000000015</td><td>0.22188815</td><td>0.005968356</td><td>0.0070896866000000015</td><td>0.20622088</td><td>0.0057772915</td><td>0.0067710113</td><td>0.20018104</td><td>0.005509305999999999</td><td>0.00873615</td><td>0.188834</td><td>0.007023080300000001</td><td>0.008862043</td><td>0.2048083</td><td>0.007060953000000002</td><td>0.009041733</td><td>0.16770448</td><td>0.0071403338</td><td>0.009501584</td><td>0.16814183</td><td>0.007419551</td><td>0.45139018</td><td>0.067687</td><td>0.48150784</td><td>0.051858135</td><td>0.48002344</td><td>0.04731458</td><td>0.43060327</td><td>0.047452543</td><td>0.306</td><td>0.0315</td><td>--</td><td>0.0602</td><td>--</td><td>--</td><td>-0.9940871185418101</td><td>0.06966691915261185</td><td>-0.8632101589540715</td><td>0.008036294187843065</td><td>-0.03678458915613495</td><td>0.3485083699482445</td><td>1.307111841759775</td><td>inf</td><td>1.4085023749362202</td><td>-1.1096619237811165</td><td>0.047920998468144016</td><td>-0.8385373657061188</td><td>0.07274205259392008</td><td>0.03512858358443638</td><td>0.3102837631560533</td><td>0.8970360942667956</td><td>inf</td><td>1.646274359141452</td><td>19.31</td><td>18.98</td><td>0.0</td><td>0.0</td><td>0.0</td><td>nan</td><td>nan</td><td>nan</td><td>nan</td><td>nan</td><td>--</td><td>--</td><td>--</td><td>--</td><td>--</td><td>--</td><td>nan</td><td>--</td></tr>\n",
       "<tr><td>...</td><td>...</td><td>...</td><td>...</td><td>...</td><td>...</td><td>...</td><td>...</td><td>...</td><td>...</td><td>...</td><td>...</td><td>...</td><td>...</td><td>...</td><td>...</td><td>...</td><td>...</td><td>...</td><td>...</td><td>...</td><td>...</td><td>...</td><td>...</td><td>...</td><td>...</td><td>...</td><td>...</td><td>...</td><td>...</td><td>...</td><td>...</td><td>...</td><td>...</td><td>...</td><td>...</td><td>...</td><td>...</td><td>...</td><td>...</td><td>...</td><td>...</td><td>...</td><td>...</td><td>...</td><td>...</td><td>...</td><td>...</td><td>...</td><td>...</td><td>...</td><td>...</td><td>...</td><td>...</td><td>...</td><td>...</td><td>...</td><td>...</td><td>...</td><td>...</td><td>...</td><td>...</td><td>...</td><td>...</td><td>...</td><td>...</td><td>...</td><td>...</td><td>...</td><td>...</td><td>...</td><td>...</td><td>...</td><td>...</td><td>...</td><td>...</td><td>...</td><td>...</td><td>...</td><td>...</td><td>...</td><td>...</td><td>...</td><td>...</td><td>...</td><td>...</td><td>...</td><td>...</td><td>...</td><td>...</td><td>...</td><td>...</td><td>...</td><td>...</td><td>...</td><td>...</td><td>...</td><td>...</td><td>...</td><td>...</td><td>...</td><td>...</td><td>...</td><td>...</td><td>...</td><td>...</td><td>...</td><td>...</td><td>...</td><td>...</td><td>...</td><td>...</td><td>...</td><td>...</td><td>...</td><td>...</td><td>...</td><td>...</td><td>...</td><td>...</td><td>...</td><td>...</td><td>...</td><td>...</td><td>...</td><td>...</td><td>...</td><td>...</td><td>...</td><td>...</td><td>...</td><td>...</td><td>...</td><td>...</td><td>...</td><td>...</td><td>...</td><td>...</td><td>...</td><td>...</td><td>...</td><td>...</td><td>...</td><td>...</td><td>...</td><td>...</td><td>...</td><td>...</td><td>...</td><td>...</td><td>...</td><td>...</td><td>...</td><td>...</td><td>...</td><td>...</td><td>...</td><td>...</td><td>...</td><td>...</td><td>...</td><td>...</td><td>...</td><td>...</td><td>...</td><td>...</td><td>...</td></tr>\n",
       "<tr><td>GLEAM J235951-291902</td><td>23:59:51.17</td><td>-29:19:02.84</td><td>359.96265</td><td>0.00034074823</td><td>-29.316684999999996</td><td>0.00040335662</td><td>0.17</td><td>0.17</td><td>0.004879629</td><td>140.20387</td><td>116.95897</td><td>145.97229</td><td>117.8616</td><td>0.17798376</td><td>0.003932827</td><td>0.004034016</td><td>142.34788999999995</td><td>118.74185</td><td>148.03278</td><td>119.62851</td><td>0.025373315</td><td>0.30956500000000003</td><td>0.023966426000000002</td><td>0.020229924</td><td>0.27758962</td><td>0.018432157</td><td>0.017947419</td><td>0.28457198</td><td>0.016120441</td><td>0.015761917</td><td>0.2680141</td><td>0.014055922</td><td>0.013214793999999998</td><td>0.22678095</td><td>0.011522266000000001</td><td>0.011748053999999999</td><td>0.21756710000000004</td><td>0.010194291</td><td>0.012064848999999999</td><td>0.21040371</td><td>0.010392814</td><td>0.010861438000000001</td><td>0.21494175</td><td>0.009359359</td><td>0.010526378000000001</td><td>0.20612848</td><td>0.008947268000000001</td><td>0.010222324</td><td>0.18497497</td><td>0.008748034</td><td>0.009187205</td><td>0.17734326</td><td>0.0078020487</td><td>0.009154061</td><td>0.19214189</td><td>0.007816864</td><td>0.008311618</td><td>0.1599213</td><td>0.007295839</td><td>0.009230949</td><td>0.16484605</td><td>0.007884561</td><td>0.007980553</td><td>0.17171670000000006</td><td>0.0067953234999999996</td><td>0.008207233000000001</td><td>0.15022528</td><td>0.0069020265</td><td>0.021065612999999997</td><td>0.3251615</td><td>0.020642053</td><td>0.017924862</td><td>0.28247002</td><td>0.016569316</td><td>0.0144806625</td><td>0.2670007</td><td>0.013203353000000001</td><td>0.013006179</td><td>0.25536624</td><td>0.011629549</td><td>0.010793473999999999</td><td>0.23748609999999998</td><td>0.009465134</td><td>0.009876144</td><td>0.20796008</td><td>0.008569849000000001</td><td>0.008727869000000001</td><td>0.21473776</td><td>0.0076779253</td><td>0.008340066</td><td>0.21512367</td><td>0.007134896</td><td>0.0071730805000000016</td><td>0.20254976</td><td>0.006153271</td><td>0.0064874636</td><td>0.19959956</td><td>0.0055240043</td><td>0.0063527133</td><td>0.19080737</td><td>0.0053901514</td><td>0.0057363724</td><td>0.18203604</td><td>0.004849637</td><td>0.0066540623</td><td>0.1695214</td><td>0.0056290226</td><td>0.006497201</td><td>0.1806037</td><td>0.0054760207</td><td>0.0069909375</td><td>0.17381726</td><td>0.005941660600000001</td><td>0.007073303</td><td>0.17244463</td><td>0.005943726</td><td>0.49084049999999996</td><td>0.05652915</td><td>0.46318000000000004</td><td>0.046893883</td><td>0.40294304</td><td>0.042008907000000005</td><td>0.4304589</td><td>0.03911007</td><td>0.2782</td><td>0.029</td><td>--</td><td>--</td><td>0.05810000000000001</td><td>0.44</td><td>-0.8862248607741582</td><td>0.06777625102094695</td><td>-0.5553694867115212</td><td>0.004340653700462918</td><td>0.049183664458833</td><td>0.3608813362603383</td><td>1.2701943535172897</td><td>inf</td><td>1.2575143472688095</td><td>-0.7758007198157513</td><td>0.05316003389673727</td><td>-0.5962068134734473</td><td>0.008832241063364799</td><td>0.38831166163349057</td><td>0.2304462068802192</td><td>1.12007884983523</td><td>inf</td><td>0.8337902273026891</td><td>16.95</td><td>9.80</td><td>0.0</td><td>0.0</td><td>0.0</td><td>nan</td><td>nan</td><td>nan</td><td>23 59 51.21</td><td>-29 18 57.6</td><td>--</td><td>--</td><td>--</td><td>--</td><td>--</td><td>--</td><td>nan</td><td>--</td></tr>\n",
       "<tr><td>GLEAM J235955-440006</td><td>23:59:55.05</td><td>-44:00:06.06</td><td>359.97864</td><td>0.00037268711999999997</td><td>-44.00325</td><td>0.00048377557</td><td>0.20</td><td>0.20</td><td>0.0064872459999999995</td><td>138.63245</td><td>121.247475</td><td>148.41922</td><td>120.42978000000001</td><td>0.20023173</td><td>0.005367316</td><td>0.005547252</td><td>141.89775</td><td>122.19596999999999</td><td>151.4737</td><td>121.37813600000001</td><td>0.029584566</td><td>0.36108974</td><td>0.025586316</td><td>0.025362175</td><td>0.3535479</td><td>0.021892644</td><td>0.022320211</td><td>0.29311413</td><td>0.019430593</td><td>0.019900767</td><td>0.27861688</td><td>0.017179932</td><td>0.014916138</td><td>0.29271045</td><td>0.012752796499999998</td><td>0.013276284</td><td>0.26165935</td><td>0.011252658</td><td>0.011748802</td><td>0.25939146</td><td>0.010033078</td><td>0.011240988</td><td>0.23712201</td><td>0.00963281</td><td>0.009701797</td><td>0.23640577</td><td>0.008246342</td><td>0.009526458</td><td>0.2176129</td><td>0.0080878865</td><td>0.009186499</td><td>0.22923473</td><td>0.0076864515</td><td>0.009206328</td><td>0.2156222</td><td>0.0076937336</td><td>0.01153367</td><td>0.2039204</td><td>0.009636015999999999</td><td>0.011363449</td><td>0.20071869</td><td>0.009438225</td><td>0.010515255</td><td>0.19663836</td><td>0.008764733</td><td>0.010920053</td><td>0.17238523</td><td>0.008980722</td><td>0.025636151</td><td>0.35180512</td><td>0.022486676</td><td>0.021860212</td><td>0.33270246</td><td>0.018832479</td><td>0.018424422</td><td>0.29452399999999995</td><td>0.01589858</td><td>0.016757295</td><td>0.30705917</td><td>0.014477503000000001</td><td>0.013143356</td><td>0.2694993</td><td>0.011386415</td><td>0.011300267</td><td>0.26596096</td><td>0.009741328</td><td>0.010258303</td><td>0.25075275</td><td>0.00877339</td><td>0.009859485999999999</td><td>0.25604418</td><td>0.008384014</td><td>0.0080477465</td><td>0.22273687</td><td>0.006871135400000001</td><td>0.0075079813</td><td>0.22032098</td><td>0.006429004499999999</td><td>0.007212095</td><td>0.21596405</td><td>0.0061039219999999995</td><td>0.007026219300000001</td><td>0.21179254</td><td>0.005930864300000001</td><td>0.0087724505</td><td>0.20047003</td><td>0.007297789</td><td>0.008906225</td><td>0.20017889</td><td>0.007424329</td><td>0.009047474</td><td>0.18910098</td><td>0.007461605</td><td>0.009474899</td><td>0.17815724</td><td>0.007767616999999998</td><td>0.4265483</td><td>0.05641015</td><td>0.40031967</td><td>0.043035667</td><td>0.3810356</td><td>0.03996589</td><td>0.37092578</td><td>0.036315292</td><td>0.2824</td><td>0.0292</td><td>--</td><td>0.0834</td><td>--</td><td>--</td><td>-0.8733533984526627</td><td>0.05894300224038599</td><td>-0.6657683997877484</td><td>0.0382877019594132</td><td>-0.2238678962679339</td><td>0.288278888716197</td><td>0.9317688192269004</td><td>inf</td><td>1.055249650342993</td><td>-0.8676269977123117</td><td>0.044963469677637036</td><td>-0.6358373205082574</td><td>0.002293147411654309</td><td>-0.10758871685179168</td><td>0.20002325786177105</td><td>0.7396027516008168</td><td>inf</td><td>0.709331855898259</td><td>10.82</td><td>9.43</td><td>0.0</td><td>0.0</td><td>0.0</td><td>nan</td><td>nan</td><td>nan</td><td>nan</td><td>nan</td><td>--</td><td>--</td><td>--</td><td>--</td><td>--</td><td>--</td><td>nan</td><td>--</td></tr>\n",
       "<tr><td>GLEAM J235956-251836</td><td>23:59:56.26</td><td>-25:18:36.38</td><td>359.9846</td><td>0.0002138175</td><td>-25.310247</td><td>0.00023295882000000002</td><td>0.29</td><td>0.29</td><td>0.0049208417</td><td>143.58252</td><td>112.54281999999999</td><td>145.97229</td><td>117.8616</td><td>0.2966542</td><td>0.004041324000000001</td><td>0.0041996096</td><td>145.6768</td><td>114.393394</td><td>148.03278</td><td>119.62851</td><td>0.02765797</td><td>0.46444409999999997</td><td>0.023858167000000003</td><td>0.021255394</td><td>0.45349880000000004</td><td>0.01830762</td><td>0.018790036</td><td>0.4234007000000001</td><td>0.016316475</td><td>0.017019127</td><td>0.43420985</td><td>0.014566563000000001</td><td>0.014010613</td><td>0.38396266</td><td>0.011963487</td><td>0.012314738</td><td>0.36976907</td><td>0.010545201</td><td>0.012524783999999999</td><td>0.3748319000000001</td><td>0.01070485</td><td>0.011388496000000001</td><td>0.33680856</td><td>0.009614494</td><td>0.011982936000000001</td><td>0.33660743</td><td>0.010137609</td><td>0.012445156</td><td>0.30018747</td><td>0.010471628</td><td>0.010844733</td><td>0.30852234</td><td>0.009034865999999999</td><td>0.010326683</td><td>0.30629048</td><td>0.008604556</td><td>0.008757316999999999</td><td>0.30114803</td><td>0.007296486</td><td>0.00906919</td><td>0.28886592</td><td>0.0075098069999999986</td><td>0.0073709330000000005</td><td>0.2763727</td><td>0.00613394</td><td>0.0078701805</td><td>0.2799216</td><td>0.0065145707</td><td>0.024826745</td><td>0.47159058</td><td>0.021570312</td><td>0.019148067</td><td>0.45660043</td><td>0.01655989</td><td>0.015867442</td><td>0.43247545</td><td>0.01371941</td><td>0.014140662</td><td>0.43687817</td><td>0.012170401</td><td>0.011830077</td><td>0.38273959999999996</td><td>0.0101347435</td><td>0.010189618000000001</td><td>0.37217227</td><td>0.008791513</td><td>0.009401141</td><td>0.35391808</td><td>0.007998395</td><td>0.008846732</td><td>0.34034172</td><td>0.0074937027</td><td>0.008718100999999999</td><td>0.34060034</td><td>0.0073847836</td><td>0.0075157112</td><td>0.31663474</td><td>0.006365065</td><td>0.0076656616</td><td>0.3160484000000001</td><td>0.006432649699999999</td><td>0.007518527</td><td>0.30451533</td><td>0.00630965</td><td>0.006713035</td><td>0.29797690000000004</td><td>0.005618916</td><td>0.0062086623999999995</td><td>0.2932214</td><td>0.0051509617</td><td>0.0064287116</td><td>0.281884</td><td>0.005365193000000001</td><td>0.006352259</td><td>0.27882066</td><td>0.005262735</td><td>0.6441978</td><td>0.05849992</td><td>0.63525635</td><td>0.044829596</td><td>0.58058304</td><td>0.043418292000000004</td><td>0.5142865</td><td>0.037354432</td><td>0.3588</td><td>0.0364</td><td>--</td><td>--</td><td>0.0676</td><td>0.43</td><td>-0.7362448615851559</td><td>0.03914834914659203</td><td>-0.7628285564726293</td><td>0.014988255472581856</td><td>0.10371015258358172</td><td>0.1876630700355489</td><td>1.1090992169636165</td><td>inf</td><td>1.047123830161078</td><td>-0.7372323494807858</td><td>0.025370866561144186</td><td>-0.7725191674016153</td><td>0.012897100336390148</td><td>0.15500951491851153</td><td>0.10358742506708</td><td>0.6280618594383001</td><td>inf</td><td>0.5684237304124967</td><td>5.72</td><td>5.26</td><td>0.0</td><td>0.0</td><td>0.0</td><td>nan</td><td>nan</td><td>nan</td><td>23 59 56.36</td><td>-25 18 35.3</td><td>--</td><td>--</td><td>--</td><td>--</td><td>--</td><td>--</td><td>nan</td><td>--</td></tr>\n",
       "<tr><td>GLEAM J235957-255135</td><td>23:59:57.31</td><td>-25:51:35.06</td><td>359.98913999999996</td><td>0.00031785129</td><td>-25.859973999999998</td><td>0.00034621900000000004</td><td>0.18</td><td>0.18</td><td>0.0044374545</td><td>145.57317</td><td>113.72476999999999</td><td>145.97229</td><td>117.8616</td><td>0.18400924</td><td>0.0036855284</td><td>0.0037114325</td><td>147.63922</td><td>115.55658999999999</td><td>148.03278</td><td>119.62851</td><td>0.024428553999999998</td><td>0.25543624</td><td>0.021373302</td><td>0.019276636</td><td>0.29474446</td><td>0.016953183</td><td>0.016664805</td><td>0.26736972</td><td>0.014591352</td><td>0.015560856999999999</td><td>0.24889854</td><td>0.013453203</td><td>0.013350373</td><td>0.23439157</td><td>0.011599291000000001</td><td>0.011361784</td><td>0.20616142</td><td>0.00979467</td><td>0.011373591</td><td>0.20247212</td><td>0.009800037</td><td>0.010994193000000001</td><td>0.22150044</td><td>0.009412761</td><td>0.012070018</td><td>0.19751849999999999</td><td>0.010370342</td><td>0.011768787</td><td>0.18267637</td><td>0.010071413000000001</td><td>0.010593151</td><td>0.20632717</td><td>0.009044574</td><td>0.010230804</td><td>0.19706132</td><td>0.008663555</td><td>0.008177818</td><td>0.17048384</td><td>0.007077599</td><td>0.008600686</td><td>0.19143708</td><td>0.0073177009999999985</td><td>0.0071590835999999995</td><td>0.1745233</td><td>0.006110944</td><td>0.0076220552</td><td>0.17383902</td><td>0.0064108509999999995</td><td>0.02102072</td><td>0.27333832</td><td>0.018533481</td><td>0.016758945</td><td>0.27957943</td><td>0.014735041</td><td>0.01384212</td><td>0.27197403</td><td>0.012202346999999999</td><td>0.012473898</td><td>0.2589989</td><td>0.010918806999999999</td><td>0.01054938</td><td>0.2264289</td><td>0.009239118000000001</td><td>0.0094528245</td><td>0.2359514</td><td>0.008200563499999999</td><td>0.008919742</td><td>0.20940250000000002</td><td>0.007763905</td><td>0.008241728</td><td>0.20627925</td><td>0.007176558</td><td>0.00842564</td><td>0.19128282</td><td>0.0072524613</td><td>0.0071859919999999996</td><td>0.18458207</td><td>0.006147129499999999</td><td>0.007323331999999998</td><td>0.18889377</td><td>0.0062505887</td><td>0.0071420009999999985</td><td>0.17917554</td><td>0.0060712844</td><td>0.0061024614</td><td>0.17677996</td><td>0.0052217470000000005</td><td>0.006191899</td><td>0.18689774</td><td>0.0053480509999999995</td><td>0.0062897005</td><td>0.17834124</td><td>0.0053305128</td><td>0.006628738</td><td>0.16925068</td><td>0.0056085745</td><td>0.29825464</td><td>0.058468997</td><td>0.40415296</td><td>0.04582534</td><td>0.34025285</td><td>0.04204358</td><td>0.34016716</td><td>0.036502633</td><td>0.2637</td><td>0.027100000000000003</td><td>--</td><td>--</td><td>0.0356</td><td>0.4</td><td>-0.6748994666319343</td><td>0.07164724087821357</td><td>-0.8840296122601965</td><td>0.013500742460680722</td><td>0.2965434453127772</td><td>0.3813829046040726</td><td>1.5861844833677343</td><td>inf</td><td>1.8425836166875007</td><td>-0.7366485195483288</td><td>0.05426024027345425</td><td>-0.8524910608769879</td><td>0.05483433498727916</td><td>0.5534108558347386</td><td>0.2538612927533917</td><td>1.2808176350092753</td><td>inf</td><td>1.312727942325407</td><td>15.17</td><td>14.73</td><td>0.0</td><td>0.0</td><td>0.0</td><td>nan</td><td>nan</td><td>nan</td><td>23 59 57.48</td><td>-25 51 35.1</td><td>--</td><td>--</td><td>--</td><td>--</td><td>--</td><td>--</td><td>nan</td><td>--</td></tr>\n",
       "<tr><td>GLEAM J235957-413248</td><td>23:59:57.30</td><td>-41:32:48.95</td><td>359.98956</td><td>0.00031065536</td><td>-41.54678</td><td>0.00036454527000000003</td><td>0.25</td><td>0.25</td><td>0.006010916</td><td>144.71925</td><td>117.69774</td><td>144.19409</td><td>119.04336</td><td>0.24771246</td><td>0.0051029064</td><td>0.005048439</td><td>146.0881</td><td>117.72816</td><td>145.56788999999995</td><td>119.06785</td><td>0.03568855</td><td>0.43229857</td><td>0.031883697999999995</td><td>0.028669599999999996</td><td>0.4090812</td><td>0.025650445</td><td>0.025069334</td><td>0.38755804</td><td>0.02241142</td><td>0.022363967999999998</td><td>0.35594186</td><td>0.02054392</td><td>0.018505936</td><td>0.35340807</td><td>0.016627442</td><td>0.016168978</td><td>0.3268815</td><td>0.014711367</td><td>0.014848587</td><td>0.32453626</td><td>0.013307265</td><td>0.013964848</td><td>0.2843506</td><td>0.01249029</td><td>0.011160301999999999</td><td>0.2887387</td><td>0.009767747</td><td>0.010318761999999999</td><td>0.26160443</td><td>0.009073226</td><td>0.009849828</td><td>0.2526932</td><td>0.008620008</td><td>0.0095101</td><td>0.26274526</td><td>0.008267911</td><td>0.010584196</td><td>0.24523696</td><td>0.00912924</td><td>0.010034</td><td>0.25286886</td><td>0.008704239</td><td>0.01014465</td><td>0.24590422</td><td>0.008779836</td><td>0.010147113000000001</td><td>0.2370377</td><td>0.008811015</td><td>0.034383252</td><td>0.40406948</td><td>0.031161556</td><td>0.02704265</td><td>0.4186237</td><td>0.024831235</td><td>0.022252672999999997</td><td>0.374287</td><td>0.020360398999999998</td><td>0.018980667</td><td>0.33122808</td><td>0.017688918999999997</td><td>0.016550153</td><td>0.34033325</td><td>0.015384041999999999</td><td>0.014441988999999999</td><td>0.33436894</td><td>0.013180496000000002</td><td>0.012933098999999998</td><td>0.32769996</td><td>0.011965253</td><td>0.011871567</td><td>0.29935724</td><td>0.010841311999999999</td><td>0.00906311</td><td>0.28959456</td><td>0.008012776999999999</td><td>0.008082746</td><td>0.27916634</td><td>0.007175364</td><td>0.007445762</td><td>0.27829844</td><td>0.0065827365</td><td>0.0075334930000000005</td><td>0.2673129</td><td>0.0065659694</td><td>0.007942260999999999</td><td>0.25063923</td><td>0.0068937666</td><td>0.008170113</td><td>0.24665011</td><td>0.007110027</td><td>0.007946729</td><td>0.24709746</td><td>0.0069025843</td><td>0.008240191</td><td>0.22904702</td><td>0.0071339724</td><td>0.5044945</td><td>0.06605462</td><td>0.43832794</td><td>0.054105215</td><td>0.552074</td><td>0.04873346</td><td>0.4876729</td><td>0.04311802</td><td>0.334</td><td>0.0338</td><td>--</td><td>0.13040000000000002</td><td>--</td><td>--</td><td>-0.8196360692721432</td><td>0.05029543847631</td><td>-0.4554751751054779</td><td>0.041321007975750175</td><td>0.4923857733794183</td><td>0.2577715231504565</td><td>0.8071642290707636</td><td>inf</td><td>0.9598267223704988</td><td>-0.7711208338022114</td><td>0.04417954275111903</td><td>-0.4959001487141761</td><td>0.06207390649681796</td><td>-0.24576989992486398</td><td>0.18906700676260552</td><td>0.8071528574221872</td><td>inf</td><td>0.7291606053794952</td><td>11.54</td><td>9.72</td><td>0.0</td><td>0.0</td><td>0.0</td><td>nan</td><td>nan</td><td>nan</td><td>nan</td><td>nan</td><td>--</td><td>--</td><td>--</td><td>--</td><td>--</td><td>--</td><td>nan</td><td>--</td></tr>\n",
       "<tr><td>GLEAM J235957-443719</td><td>23:59:57.95</td><td>-44:37:19.58</td><td>359.99057</td><td>0.00018338311999999997</td><td>-44.623207</td><td>0.00023698049</td><td>0.38</td><td>0.38</td><td>0.006516418</td><td>139.08551</td><td>118.84912</td><td>148.41922</td><td>120.42978000000001</td><td>0.38069522</td><td>0.005037420999999999</td><td>0.005243333</td><td>142.34042</td><td>119.81633000000001</td><td>151.4737</td><td>121.37813600000001</td><td>0.03128776</td><td>0.7201839</td><td>0.027475985</td><td>0.026471691000000002</td><td>0.6474205</td><td>0.022807868</td><td>0.023580106</td><td>0.6267644</td><td>0.020352898</td><td>0.020900812</td><td>0.588734</td><td>0.017881673</td><td>0.014051515</td><td>0.5267293000000001</td><td>0.012064283</td><td>0.012685135</td><td>0.5115835999999999</td><td>0.010699257</td><td>0.010852809</td><td>0.4748853</td><td>0.00919476</td><td>0.01048208</td><td>0.47360346</td><td>0.008810334</td><td>0.010045459</td><td>0.4393956</td><td>0.008411714</td><td>0.00949814</td><td>0.4288146</td><td>0.007972471</td><td>0.009412438</td><td>0.40548965</td><td>0.007797861</td><td>0.009599052</td><td>0.41436335</td><td>0.007950783000000001</td><td>0.012213845</td><td>0.3881648</td><td>0.01005531</td><td>0.010608023999999999</td><td>0.3710697</td><td>0.008725867</td><td>0.011267985</td><td>0.34847605</td><td>0.0092185745</td><td>0.011390569</td><td>0.356023</td><td>0.009258727</td><td>0.028300572000000006</td><td>0.7010135000000001</td><td>0.024761315</td><td>0.024436568999999998</td><td>0.6304018</td><td>0.021203417000000002</td><td>0.019834274</td><td>0.6066433000000001</td><td>0.017184205</td><td>0.01743025</td><td>0.5656576999999999</td><td>0.014966696000000003</td><td>0.012638236</td><td>0.52893645</td><td>0.010747788000000001</td><td>0.010841654</td><td>0.50317216</td><td>0.0092323935</td><td>0.009069598</td><td>0.49605393</td><td>0.007873932</td><td>0.009086200000000001</td><td>0.48775783</td><td>0.0077836392</td><td>0.007987398</td><td>0.4447529000000001</td><td>0.0068344059999999995</td><td>0.0072077434</td><td>0.44132558</td><td>0.006118706999999999</td><td>0.0067423983</td><td>0.43252045</td><td>0.005668799</td><td>0.0070504819999999985</td><td>0.40253827</td><td>0.005832534</td><td>0.009000159</td><td>0.38563293</td><td>0.0074483254000000014</td><td>0.009330575</td><td>0.40037048</td><td>0.007698075</td><td>0.009352148000000001</td><td>0.34693809999999997</td><td>0.007639696</td><td>0.009760621</td><td>0.32514149999999997</td><td>0.007930991</td><td>0.8561645</td><td>0.057315562</td><td>0.78205925</td><td>0.044905636</td><td>0.82894593</td><td>0.041760355</td><td>0.8285268</td><td>0.036060438</td><td>0.6316</td><td>0.0636</td><td>--</td><td>0.1164</td><td>--</td><td>--</td><td>-0.9167677592738068</td><td>0.03183135758439005</td><td>-0.8355461346111763</td><td>0.00820537933659098</td><td>0.0914578729323784</td><td>0.153157141714965</td><td>0.8700912836106318</td><td>inf</td><td>0.832493723086412</td><td>-0.9299343104406722</td><td>0.04423832292075339</td><td>-0.8776067499537499</td><td>0.03258850636272185</td><td>-0.532732273212112</td><td>0.2474866507438745</td><td>2.25709804057237</td><td>inf</td><td>2.9989663997883014</td><td>27.44</td><td>24.68</td><td>0.0</td><td>0.0</td><td>0.0</td><td>nan</td><td>nan</td><td>nan</td><td>nan</td><td>nan</td><td>--</td><td>--</td><td>--</td><td>--</td><td>--</td><td>--</td><td>nan</td><td>--</td></tr>\n",
       "<tr><td>GLEAM J235959-062040</td><td>23:59:59.89</td><td>-06:20:40.44</td><td>359.99908</td><td>0.00050244894</td><td>-6.3442025</td><td>0.0005238025</td><td>0.19</td><td>0.19</td><td>0.008653886</td><td>151.35506999999996</td><td>116.184525</td><td>146.30392</td><td>119.68745</td><td>0.20265515</td><td>0.006008460699999999</td><td>0.0059369383</td><td>153.18465</td><td>117.11413</td><td>148.19586</td><td>120.59241499999999</td><td>0.03833495</td><td>0.30381644</td><td>0.03341383</td><td>0.03269003</td><td>0.31969473</td><td>0.028555188</td><td>0.029396073999999998</td><td>0.30211768</td><td>0.025702467000000003</td><td>0.027337952999999998</td><td>0.328783</td><td>0.023754604</td><td>0.018091831000000003</td><td>0.28968453</td><td>0.015805956</td><td>0.01582505</td><td>0.26668316</td><td>0.013778931999999999</td><td>0.015316742</td><td>0.25635058</td><td>0.013318518</td><td>0.014291179</td><td>0.23994249</td><td>0.012405991000000002</td><td>0.016320944</td><td>0.24045359</td><td>0.014310266</td><td>0.014368229</td><td>0.23624392</td><td>0.012514386</td><td>0.014554758999999999</td><td>0.23493315</td><td>0.012707594</td><td>0.014499951</td><td>0.24150375</td><td>0.01276404</td><td>0.016377255</td><td>0.19540639999999998</td><td>0.014356411000000001</td><td>0.0167275</td><td>0.17136805</td><td>0.014604464</td><td>0.016564697</td><td>0.21333498</td><td>0.014398016999999999</td><td>0.016738323</td><td>0.19474903</td><td>0.014588193000000001</td><td>0.02650598</td><td>0.32811928</td><td>0.023126705</td><td>0.021923535</td><td>0.34179518</td><td>0.01921172</td><td>0.020539823999999998</td><td>0.34710795</td><td>0.018092313999999998</td><td>0.018558465</td><td>0.3211039</td><td>0.016243275</td><td>0.013322485</td><td>0.30373353</td><td>0.01162097</td><td>0.011102476000000002</td><td>0.27654824</td><td>0.009709788</td><td>0.00999503</td><td>0.25721666</td><td>0.008707813</td><td>0.009441165</td><td>0.2534754</td><td>0.008275085</td><td>0.010441045</td><td>0.25059474</td><td>0.0091496715</td><td>0.009208033000000001</td><td>0.2537402</td><td>0.008095309</td><td>0.009341453000000001</td><td>0.22258505</td><td>0.008192557</td><td>0.0089768255</td><td>0.21968177</td><td>0.007918385</td><td>0.010662111</td><td>0.22074603</td><td>0.009309964</td><td>0.010571068999999999</td><td>0.19585702</td><td>0.009219319</td><td>0.011359151999999999</td><td>0.19843769</td><td>0.009930373000000001</td><td>0.011947528</td><td>0.19827782</td><td>0.010433139000000001</td><td>0.42482224</td><td>0.08170702</td><td>0.38971502</td><td>0.06504896</td><td>0.39684144</td><td>0.05749448400000001</td><td>0.30380029999999997</td><td>0.05107997400000002</td><td>0.2039</td><td>0.0213</td><td>--</td><td>--</td><td>0.0473</td><td>--</td><td>-0.6908080546359314</td><td>0.07825078690274544</td><td>-0.7625727039874303</td><td>0.08130304081514615</td><td>-0.3772596128792464</td><td>0.4920735954885877</td><td>0.8387691499470203</td><td>inf</td><td>1.2331235593725514</td><td>-0.7975077230893722</td><td>0.0557562528343392</td><td>-0.7667409439054813</td><td>0.01963311391102537</td><td>-0.26451381769154625</td><td>0.2588313868026784</td><td>0.9599056620418052</td><td>inf</td><td>1.0229206751348336</td><td>13.71</td><td>13.11</td><td>0.0</td><td>0.0</td><td>0.0</td><td>nan</td><td>nan</td><td>nan</td><td>23 59 59.66</td><td>-06 20 40.3</td><td>--</td><td>--</td><td>--</td><td>--</td><td>--</td><td>--</td><td>nan</td><td>--</td></tr>\n",
       "<tr><td>GLEAM J235959-170358</td><td>23:59:59.09</td><td>-17:03:58.27</td><td>359.99545</td><td>0.00016173508</td><td>-17.066446</td><td>0.00017566128000000002</td><td>0.55</td><td>0.55</td><td>0.0063583630000000006</td><td>142.7991</td><td>114.38076000000001</td><td>143.21577</td><td>114.7937</td><td>0.57198524</td><td>0.005873809</td><td>0.00557273</td><td>144.63718</td><td>115.389725</td><td>145.04856999999996</td><td>115.79936000000001</td><td>0.032446466</td><td>0.9813129</td><td>0.03027488</td><td>0.025506862999999998</td><td>0.9023254</td><td>0.023000736</td><td>0.024187047000000003</td><td>0.89192325</td><td>0.021471567</td><td>0.020671515</td><td>0.8275449</td><td>0.018410599</td><td>0.016391462</td><td>0.7299304</td><td>0.0142850205</td><td>0.014462615</td><td>0.7499298000000001</td><td>0.012594745</td><td>0.013344861999999999</td><td>0.7221758</td><td>0.011603086</td><td>0.012482725</td><td>0.6590788000000001</td><td>0.010876523999999999</td><td>0.012805097</td><td>0.6338845999999999</td><td>0.011212887</td><td>0.012478132</td><td>0.6268636</td><td>0.010955402</td><td>0.011427556</td><td>0.62891537</td><td>0.010073905</td><td>0.010883199</td><td>0.5973233</td><td>0.009531241999999999</td><td>0.011037106000000001</td><td>0.566669</td><td>0.009581809</td><td>0.01081213</td><td>0.56261414</td><td>0.009493443</td><td>0.010573933</td><td>0.56954986</td><td>0.009174426</td><td>0.010541692</td><td>0.5191846</td><td>0.009116713</td><td>0.029511742</td><td>0.96791595</td><td>0.028263994</td><td>0.02274476</td><td>0.9020583000000001</td><td>0.021039506</td><td>0.018951192</td><td>0.8820325999999999</td><td>0.017731529</td><td>0.016253866000000002</td><td>0.8316561</td><td>0.014390545</td><td>0.014641396000000001</td><td>0.7603153</td><td>0.012884781000000001</td><td>0.011670676000000001</td><td>0.73061556</td><td>0.010327114</td><td>0.010985701</td><td>0.7153594</td><td>0.009658818000000001</td><td>0.009952521</td><td>0.67584825</td><td>0.008759352</td><td>0.009766635</td><td>0.6460292</td><td>0.008688928</td><td>0.008536988</td><td>0.63534355</td><td>0.0075131077000000004</td><td>0.0080866525</td><td>0.62631965</td><td>0.007219481999999998</td><td>0.007799624499999999</td><td>0.60320765</td><td>0.006951584499999999</td><td>0.008038164</td><td>0.5818215</td><td>0.007155705</td><td>0.008224513000000001</td><td>0.5673497</td><td>0.0071599633</td><td>0.008086888</td><td>0.5741921</td><td>0.00709539</td><td>0.00867149</td><td>0.5553895999999999</td><td>0.0076233223</td><td>1.2889680000000001</td><td>0.08163053</td><td>1.0695808999999998</td><td>0.05982792</td><td>1.03867</td><td>0.052953593</td><td>0.92189807</td><td>0.047260699999999996</td><td>0.7634</td><td>0.0771</td><td>--</td><td>--</td><td>0.15080000000000002</td><td>1.24</td><td>-0.7984387511507156</td><td>0.03822055283080877</td><td>-0.71006490172249</td><td>0.03169455053316544</td><td>0.13077934033314706</td><td>0.1817926254850417</td><td>2.147908167191797</td><td>inf</td><td>2.079737812473588</td><td>-0.7377218599567548</td><td>0.02469149734845456</td><td>-0.7109420781242931</td><td>0.023195558962709664</td><td>0.27370354881327763</td><td>0.08772375373635652</td><td>1.1877894171711727</td><td>inf</td><td>0.6650434760516353</td><td>13.77</td><td>5.70</td><td>0.0</td><td>0.0</td><td>0.0</td><td>nan</td><td>nan</td><td>nan</td><td>23 59 58.86</td><td>-17 04 00.7</td><td>--</td><td>--</td><td>--</td><td>--</td><td>--</td><td>--</td><td>nan</td><td>--</td></tr>\n",
       "<tr><td>GLEAM J235959-180236</td><td>23:59:59.08</td><td>-18:02:36.25</td><td>359.9955</td><td>0.00033626937999999993</td><td>-18.042616</td><td>0.00036656536</td><td>0.23</td><td>0.23</td><td>0.005769847</td><td>147.13347</td><td>117.232124</td><td>143.21577</td><td>114.7937</td><td>0.2509385</td><td>0.0052482164</td><td>0.004880237</td><td>148.91806</td><td>118.21701000000002</td><td>145.04856999999996</td><td>115.79936000000001</td><td>0.03474224</td><td>0.4447225</td><td>0.032329723</td><td>0.026231802999999998</td><td>0.45409160000000004</td><td>0.02374457</td><td>0.02361505</td><td>0.4180753</td><td>0.021803679</td><td>0.020553734</td><td>0.4143122</td><td>0.018325245</td><td>0.015460485</td><td>0.3503343</td><td>0.014061782</td><td>0.014096491000000001</td><td>0.35739312</td><td>0.012811237</td><td>0.01248631</td><td>0.3406864</td><td>0.011398306</td><td>0.011360486999999999</td><td>0.31284723</td><td>0.010309407</td><td>0.012304158999999999</td><td>0.299433</td><td>0.011007811000000001</td><td>0.011334666</td><td>0.2867735</td><td>0.010276475</td><td>0.010259437</td><td>0.27892056</td><td>0.009198268</td><td>0.0100890845</td><td>0.28053987</td><td>0.009122045</td><td>0.010208581</td><td>0.2451694</td><td>0.0092247445</td><td>0.010306056</td><td>0.23116198</td><td>0.009309982</td><td>0.009536755</td><td>0.23440704</td><td>0.008665755</td><td>0.010220841500000001</td><td>0.2177308</td><td>0.009234787</td><td>0.029040643999999997</td><td>0.45500588</td><td>0.027759183</td><td>0.02315728</td><td>0.44348279999999995</td><td>0.022301435</td><td>0.018629156</td><td>0.43004456</td><td>0.01698193</td><td>0.015751101</td><td>0.42518824</td><td>0.014367546</td><td>0.012581323</td><td>0.35791940000000005</td><td>0.011938293</td><td>0.010853386000000001</td><td>0.34694687</td><td>0.010069706</td><td>0.009966151999999999</td><td>0.33289412</td><td>0.009201473</td><td>0.00924561</td><td>0.30717888</td><td>0.00868146</td><td>0.008786865999999999</td><td>0.31272694</td><td>0.008044997</td><td>0.0076756626</td><td>0.29048106</td><td>0.0069899535999999995</td><td>0.006921224300000001</td><td>0.29204026</td><td>0.0063240402000000005</td><td>0.0070876833</td><td>0.2748005</td><td>0.0064534787</td><td>0.0075471982999999986</td><td>0.26502818</td><td>0.006835003399999999</td><td>0.007636060999999999</td><td>0.25416946</td><td>0.006893970500000001</td><td>0.007884761</td><td>0.23784886</td><td>0.0071063787</td><td>0.008036949</td><td>0.24130887</td><td>0.0072887069999999984</td><td>0.7055455</td><td>0.079910785</td><td>0.6896013000000001</td><td>0.057210054</td><td>0.5197576</td><td>0.052136287</td><td>0.49062374</td><td>0.044469822</td><td>0.3093</td><td>0.0318</td><td>--</td><td>--</td><td>0.0489</td><td>0.69</td><td>-1.0071416098289792</td><td>0.05066459599473695</td><td>-0.8532743521775494</td><td>0.049538271164825835</td><td>-0.4749928059497161</td><td>0.2298203635484013</td><td>0.969910589919708</td><td>inf</td><td>0.7731564048209859</td><td>-0.9334960713874588</td><td>0.03664534730960425</td><td>-0.8875516634694053</td><td>0.02804088552693049</td><td>-0.0653425111333918</td><td>0.1817118131303131</td><td>0.7622432208141638</td><td>inf</td><td>0.8721241478593037</td><td>14.39</td><td>8.46</td><td>0.0</td><td>0.0</td><td>0.0</td><td>nan</td><td>nan</td><td>nan</td><td>23 59 58.79</td><td>-18 02 36.8</td><td>359.9948488</td><td>-18.041856399999997</td><td>14.873</td><td>14.032</td><td>11.052999999999999</td><td>8.151</td><td>nan</td><td>--</td></tr>\n",
       "<tr><td>GLEAM J235959-421524</td><td>23:59:59.01</td><td>-42:15:24.74</td><td>359.99588</td><td>0.00051616307</td><td>-42.256992</td><td>0.00065863534</td><td>0.17</td><td>0.17</td><td>0.0066703000000000005</td><td>144.64857</td><td>121.40648</td><td>148.41922</td><td>120.42978000000001</td><td>0.17407766</td><td>0.0062577019999999995</td><td>0.006108346999999999</td><td>147.781</td><td>122.35338</td><td>151.4737</td><td>121.37813600000001</td><td>0.032079577000000005</td><td>0.28620046</td><td>0.028492821</td><td>0.025740419</td><td>0.26809102</td><td>0.022730942999999997</td><td>0.023089476</td><td>0.25604028</td><td>0.020258643</td><td>0.020269124</td><td>0.24301243</td><td>0.017870473</td><td>0.017512700000000003</td><td>0.21826372</td><td>0.015444105500000001</td><td>0.0154897785</td><td>0.24762094</td><td>0.013574163</td><td>0.014952436999999999</td><td>0.22148675</td><td>0.013016979</td><td>0.013697585</td><td>0.22740796</td><td>0.011949575</td><td>0.010791921999999999</td><td>0.19746618</td><td>0.009437157</td><td>0.009973379000000001</td><td>0.20691587</td><td>0.0086129075</td><td>0.009696587</td><td>0.18619639</td><td>0.008546029</td><td>0.009517018</td><td>0.17576344</td><td>0.008218757</td><td>0.010766338</td><td>0.1955684</td><td>0.009235227</td><td>0.011002109</td><td>0.14283226</td><td>0.009482103</td><td>0.011206348</td><td>0.16545014</td><td>0.009590735</td><td>0.010902414</td><td>0.16158129999999998</td><td>0.009449115</td><td>0.029244626</td><td>0.26863635</td><td>0.025996046000000002</td><td>0.023770902000000003</td><td>0.26248237</td><td>0.02120496</td><td>0.019433491</td><td>0.257036</td><td>0.017428423999999998</td><td>0.017254118</td><td>0.2552578</td><td>0.01535462</td><td>0.015519322</td><td>0.22929366</td><td>0.014026598000000001</td><td>0.013490456000000001</td><td>0.22667960000000004</td><td>0.011887655</td><td>0.012581703999999999</td><td>0.21534613</td><td>0.01117369</td><td>0.011648951999999999</td><td>0.21811394</td><td>0.010180188</td><td>0.008983889</td><td>0.1987992</td><td>0.007938487</td><td>0.008225316</td><td>0.1966876</td><td>0.00715415</td><td>0.007751167299999999</td><td>0.1923535</td><td>0.006884634000000001</td><td>0.0073919417000000015</td><td>0.17778179</td><td>0.0065989397</td><td>0.008590698</td><td>0.17519994</td><td>0.0074455495999999986</td><td>0.009035958</td><td>0.17164001</td><td>0.007813042</td><td>0.00845561</td><td>0.16310963</td><td>0.0073424415000000005</td><td>0.008997989</td><td>0.16013521</td><td>0.0077454796999999985</td><td>0.3756091</td><td>0.060259473</td><td>0.26196375</td><td>0.047688104</td><td>0.35019714</td><td>0.044246096</td><td>0.37442908</td><td>0.038559027</td><td>0.1819</td><td>0.019</td><td>--</td><td>0.0859</td><td>--</td><td>--</td><td>-0.7246285309867958</td><td>0.07952108953950744</td><td>-0.4688116586714159</td><td>0.11675722589648635</td><td>-0.6372912803443536</td><td>0.5214144254275914</td><td>1.1082377873123803</td><td>inf</td><td>1.6218627813551203</td><td>-0.7700097589076145</td><td>0.03637368498933262</td><td>-0.5277181952690343</td><td>0.03639585827261478</td><td>-0.3934494351272193</td><td>0.1265791085237273</td><td>0.3032223186074421</td><td>inf</td><td>0.16812861766171308</td><td>11.98</td><td>11.98</td><td>0.0</td><td>0.0</td><td>0.0</td><td>nan</td><td>nan</td><td>nan</td><td>nan</td><td>nan</td><td>--</td><td>--</td><td>--</td><td>--</td><td>--</td><td>--</td><td>nan</td><td>--</td></tr>\n",
       "</table>"
      ],
      "text/plain": [
       "<Table length=21558>\n",
       "     GLEAM_Name         RAhms       Decdms    ...  w4mpro Class    z   \n",
       "                                              ...   mag                \n",
       "       str20            str11       str12     ... float64 str24 float64\n",
       "-------------------- ----------- ------------ ... ------- ----- -------\n",
       "GLEAM J000000-040240 00:00:00.13 -04:02:40.34 ...      --   nan      --\n",
       "GLEAM J000001-002215 00:00:01.61 -00:22:15.92 ...      --   nan      --\n",
       "GLEAM J000003-282416 00:00:03.83 -28:24:16.83 ...      --   nan      --\n",
       "GLEAM J000005-260405 00:00:05.50 -26:04:05.67 ...      --   nan      --\n",
       "GLEAM J000006-031809 00:00:06.50 -03:18:09.25 ...      --   nan      --\n",
       "GLEAM J000006-491100 00:00:06.95 -49:11:00.80 ...      --   nan      --\n",
       "GLEAM J000008-523458 00:00:08.46 -52:34:58.73 ...      --   nan      --\n",
       "GLEAM J000010-433322 00:00:10.94 -43:33:22.78 ...      --   nan      --\n",
       "GLEAM J000010-440713 00:00:10.96 -44:07:13.25 ...      --   nan      --\n",
       "                 ...         ...          ... ...     ...   ...     ...\n",
       "GLEAM J235951-291902 23:59:51.17 -29:19:02.84 ...      --   nan      --\n",
       "GLEAM J235955-440006 23:59:55.05 -44:00:06.06 ...      --   nan      --\n",
       "GLEAM J235956-251836 23:59:56.26 -25:18:36.38 ...      --   nan      --\n",
       "GLEAM J235957-255135 23:59:57.31 -25:51:35.06 ...      --   nan      --\n",
       "GLEAM J235957-413248 23:59:57.30 -41:32:48.95 ...      --   nan      --\n",
       "GLEAM J235957-443719 23:59:57.95 -44:37:19.58 ...      --   nan      --\n",
       "GLEAM J235959-062040 23:59:59.89 -06:20:40.44 ...      --   nan      --\n",
       "GLEAM J235959-170358 23:59:59.09 -17:03:58.27 ...      --   nan      --\n",
       "GLEAM J235959-180236 23:59:59.08 -18:02:36.25 ...   8.151   nan      --\n",
       "GLEAM J235959-421524 23:59:59.01 -42:15:24.74 ...      --   nan      --"
      ]
     },
     "execution_count": 107,
     "metadata": {},
     "output_type": "execute_result"
    }
   ],
   "source": [
    "mwa_spectral_var_table"
   ]
  },
  {
   "cell_type": "markdown",
   "metadata": {},
   "source": [
    "## mwa_spectral_var_table.colnames"
   ]
  },
  {
   "cell_type": "code",
   "execution_count": 108,
   "metadata": {
    "ExecuteTime": {
     "end_time": "2021-12-08T02:58:17.863347Z",
     "start_time": "2021-12-08T02:58:17.855438Z"
    }
   },
   "outputs": [
    {
     "data": {
      "text/plain": [
       "['GLEAM_Name',\n",
       " 'RAhms',\n",
       " 'Decdms',\n",
       " 'RAJ2000',\n",
       " 'e_RAJ2000',\n",
       " 'DEJ2000',\n",
       " 'e_DEJ2000',\n",
       " 'int_flux_wide_yr1',\n",
       " 'e_int_flux_wide_yr1',\n",
       " 'local_rms_wide_yr1',\n",
       " 'a_wide_yr1',\n",
       " 'b_wide_yr1',\n",
       " 'psf_a_wide_yr1',\n",
       " 'psf_b_wide_yr1',\n",
       " 'int_flux_wide_yr2',\n",
       " 'e_int_flux_wide_yr2',\n",
       " 'local_rms_wide_yr2',\n",
       " 'a_wide_yr2',\n",
       " 'b_wide_yr2',\n",
       " 'psf_a_wide_yr2',\n",
       " 'psf_b_wide_yr2',\n",
       " 'local_rms_107_yr1',\n",
       " 'S_107_yr1',\n",
       " 'e_S_107_yr1',\n",
       " 'local_rms_115_yr1',\n",
       " 'S_115_yr1',\n",
       " 'e_S_115_yr1',\n",
       " 'local_rms_123_yr1',\n",
       " 'S_123_yr1',\n",
       " 'e_S_123_yr1',\n",
       " 'local_rms_130_yr1',\n",
       " 'S_130_yr1',\n",
       " 'e_S_130_yr1',\n",
       " 'local_rms_143_yr1',\n",
       " 'S_143_yr1',\n",
       " 'e_S_143_yr1',\n",
       " 'local_rms_150_yr1',\n",
       " 'S_150_yr1',\n",
       " 'e_S_150_yr1',\n",
       " 'local_rms_158_yr1',\n",
       " 'S_158_yr1',\n",
       " 'e_S_158_yr1',\n",
       " 'local_rms_166_yr1',\n",
       " 'S_166_yr1',\n",
       " 'e_S_166_yr1',\n",
       " 'local_rms_174_yr1',\n",
       " 'S_174_yr1',\n",
       " 'e_S_174_yr1',\n",
       " 'local_rms_181_yr1',\n",
       " 'S_181_yr1',\n",
       " 'e_S_181_yr1',\n",
       " 'local_rms_189_yr1',\n",
       " 'S_189_yr1',\n",
       " 'e_S_189_yr1',\n",
       " 'local_rms_197_yr1',\n",
       " 'S_197_yr1',\n",
       " 'e_S_197_yr1',\n",
       " 'local_rms_204_yr1',\n",
       " 'S_204_yr1',\n",
       " 'e_S_204_yr1',\n",
       " 'local_rms_212_yr1',\n",
       " 'S_212_yr1',\n",
       " 'e_S_212_yr1',\n",
       " 'local_rms_220_yr1',\n",
       " 'S_220_yr1',\n",
       " 'e_S_220_yr1',\n",
       " 'local_rms_227_yr1',\n",
       " 'S_227_yr1',\n",
       " 'e_S_227_yr1',\n",
       " 'local_rms_107_yr2',\n",
       " 'S_107_yr2',\n",
       " 'e_S_107_yr2',\n",
       " 'local_rms_115_yr2',\n",
       " 'S_115_yr2',\n",
       " 'e_S_115_yr2',\n",
       " 'local_rms_123_yr2',\n",
       " 'S_123_yr2',\n",
       " 'e_S_123_yr2',\n",
       " 'local_rms_130_yr2',\n",
       " 'S_130_yr2',\n",
       " 'e_S_130_yr2',\n",
       " 'local_rms_143_yr2',\n",
       " 'S_143_yr2',\n",
       " 'e_S_143_yr2',\n",
       " 'local_rms_150_yr2',\n",
       " 'S_150_yr2',\n",
       " 'e_S_150_yr2',\n",
       " 'local_rms_158_yr2',\n",
       " 'S_158_yr2',\n",
       " 'e_S_158_yr2',\n",
       " 'local_rms_166_yr2',\n",
       " 'S_166_yr2',\n",
       " 'e_S_166_yr2',\n",
       " 'local_rms_174_yr2',\n",
       " 'S_174_yr2',\n",
       " 'e_S_174_yr2',\n",
       " 'local_rms_181_yr2',\n",
       " 'S_181_yr2',\n",
       " 'e_S_181_yr2',\n",
       " 'local_rms_189_yr2',\n",
       " 'S_189_yr2',\n",
       " 'e_S_189_yr2',\n",
       " 'local_rms_197_yr2',\n",
       " 'S_197_yr2',\n",
       " 'e_S_197_yr2',\n",
       " 'local_rms_204_yr2',\n",
       " 'S_204_yr2',\n",
       " 'e_S_204_yr2',\n",
       " 'local_rms_212_yr2',\n",
       " 'S_212_yr2',\n",
       " 'e_S_212_yr2',\n",
       " 'local_rms_220_yr2',\n",
       " 'S_220_yr2',\n",
       " 'e_S_220_yr2',\n",
       " 'local_rms_227_yr2',\n",
       " 'S_227_yr2',\n",
       " 'e_S_227_yr2',\n",
       " 'S_076',\n",
       " 'e_S_076',\n",
       " 'S_084',\n",
       " 'e_S_084',\n",
       " 'S_092',\n",
       " 'e_S_092',\n",
       " 'S_099',\n",
       " 'e_S_099',\n",
       " 'S_tgss',\n",
       " 'e_S_tgss',\n",
       " 'S_mrc',\n",
       " 'S_sumss',\n",
       " 'S_nvss',\n",
       " 'S_vlssr',\n",
       " 'alpha_low_yr1',\n",
       " 'e_alpha_low_yr1',\n",
       " 'alpha_high_yr1',\n",
       " 'e_alpha_high_yr1',\n",
       " 'quad_curve_yr1',\n",
       " 'e_quad_curve_yr1',\n",
       " 'redchisq_low_yr1',\n",
       " 'redchisq_high_yr1',\n",
       " 'redchisq_quad_yr1',\n",
       " 'alpha_low_yr2',\n",
       " 'e_alpha_low_yr2',\n",
       " 'alpha_high_yr2',\n",
       " 'e_alpha_high_yr2',\n",
       " 'quad_curve_yr2',\n",
       " 'e_quad_curve_yr2',\n",
       " 'redchisq_low_yr2',\n",
       " 'redchisq_high_yr2',\n",
       " 'redchisq_quad_yr2',\n",
       " 'VIP',\n",
       " 'MOSS',\n",
       " 'variable_flag',\n",
       " 'peaked_spectrum_source_flag',\n",
       " 'persistent_pss_flag',\n",
       " 'MOSS_class',\n",
       " 'pss_class_yr1',\n",
       " 'pss_class_yr2',\n",
       " 'RAJ2000_NVSS',\n",
       " 'DEJ2000_NVSS',\n",
       " 'RA_WISE',\n",
       " 'Dec_WISE',\n",
       " 'w1mpro',\n",
       " 'w2mpro',\n",
       " 'w3mpro',\n",
       " 'w4mpro',\n",
       " 'Class',\n",
       " 'z']"
      ]
     },
     "execution_count": 108,
     "metadata": {},
     "output_type": "execute_result"
    }
   ],
   "source": [
    "mwa_spectral_var_table.colnames"
   ]
  },
  {
   "cell_type": "code",
   "execution_count": 109,
   "metadata": {
    "ExecuteTime": {
     "end_time": "2021-12-08T02:58:23.186508Z",
     "start_time": "2021-12-08T02:58:23.180809Z"
    }
   },
   "outputs": [],
   "source": [
    "mwa_spectral_var_table.add_column(0,name='select')"
   ]
  },
  {
   "cell_type": "markdown",
   "metadata": {},
   "source": [
    "# mwa_spectral_var_path_dir"
   ]
  },
  {
   "cell_type": "code",
   "execution_count": 5,
   "metadata": {
    "ExecuteTime": {
     "end_time": "2021-12-03T13:42:57.645677Z",
     "start_time": "2021-12-03T13:42:57.642861Z"
    }
   },
   "outputs": [],
   "source": [
    "mwa_spectral_var_path_dir='/Users/brettlv/blog/IHEP_sync/data/data_mwa/Spectral_variability_of_radio_sources_at_low_frequencies——staa3795_supplemental_files/Appendix/'\n"
   ]
  },
  {
   "cell_type": "markdown",
   "metadata": {},
   "source": [
    "## mwa_spectral_var_list"
   ]
  },
  {
   "cell_type": "code",
   "execution_count": 7,
   "metadata": {
    "ExecuteTime": {
     "end_time": "2021-12-03T13:44:26.412251Z",
     "start_time": "2021-12-03T13:44:26.405823Z"
    }
   },
   "outputs": [],
   "source": [
    "import os\n",
    "mwa_spectral_var_list=[]\n",
    "names=os.listdir(mwa_spectral_var_path_dir)\n",
    "for i in names:\n",
    "    if i.endswith('pdf'):\n",
    "        mwa_spectral_var_list.append(i[:-4])"
   ]
  },
  {
   "cell_type": "code",
   "execution_count": 27,
   "metadata": {
    "ExecuteTime": {
     "end_time": "2021-12-03T14:08:47.229410Z",
     "start_time": "2021-12-03T14:08:47.222182Z"
    }
   },
   "outputs": [
    {
     "data": {
      "text/plain": [
       "323"
      ]
     },
     "execution_count": 27,
     "metadata": {},
     "output_type": "execute_result"
    }
   ],
   "source": [
    "len(mwa_spectral_var_list)"
   ]
  },
  {
   "cell_type": "code",
   "execution_count": 8,
   "metadata": {
    "ExecuteTime": {
     "end_time": "2021-12-03T13:44:31.353228Z",
     "start_time": "2021-12-03T13:44:31.342819Z"
    }
   },
   "outputs": [
    {
     "data": {
      "text/plain": [
       "['GLEAM_J000353-382707',\n",
       " 'GLEAM_J000402-101507',\n",
       " 'GLEAM_J000404-114858',\n",
       " 'GLEAM_J000533-252819',\n",
       " 'GLEAM_J000619-424524',\n",
       " 'GLEAM_J001052-415316',\n",
       " 'GLEAM_J001502-181238',\n",
       " 'GLEAM_J001513-472706',\n",
       " 'GLEAM_J001525-361620',\n",
       " 'GLEAM_J001942-303118',\n",
       " 'GLEAM_J002223-070230',\n",
       " 'GLEAM_J002251-435218',\n",
       " 'GLEAM_J002257-464809',\n",
       " 'GLEAM_J002523-222744',\n",
       " 'GLEAM_J002552-144111',\n",
       " 'GLEAM_J003119-165202',\n",
       " 'GLEAM_J003152-311437',\n",
       " 'GLEAM_J003244-144112',\n",
       " 'GLEAM_J003246-293107',\n",
       " 'GLEAM_J003454-230328',\n",
       " 'GLEAM_J003616-430939',\n",
       " 'GLEAM_J004209-441404',\n",
       " 'GLEAM_J004342-033142',\n",
       " 'GLEAM_J004451-492745',\n",
       " 'GLEAM_J004644-052157',\n",
       " 'GLEAM_J004839-294718',\n",
       " 'GLEAM_J005021-045218',\n",
       " 'GLEAM_J005052-442841',\n",
       " 'GLEAM_J005315-070232',\n",
       " 'GLEAM_J005351-491402',\n",
       " 'GLEAM_J005409-475208',\n",
       " 'GLEAM_J005446-090207',\n",
       " 'GLEAM_J005459-302204',\n",
       " 'GLEAM_J005511-121754',\n",
       " 'GLEAM_J005754-493154',\n",
       " 'GLEAM_J010316-322550',\n",
       " 'GLEAM_J010626-271803',\n",
       " 'GLEAM_J010656-094638',\n",
       " 'GLEAM_J010834-103346',\n",
       " 'GLEAM_J010957-331336',\n",
       " 'GLEAM_J011006-365103',\n",
       " 'GLEAM_J011242-080404',\n",
       " 'GLEAM_J011727-042505',\n",
       " 'GLEAM_J011738-150750',\n",
       " 'GLEAM_J012020-172758',\n",
       " 'GLEAM_J012106-495200',\n",
       " 'GLEAM_J012318-423825',\n",
       " 'GLEAM_J012340-104900',\n",
       " 'GLEAM_J012446-172741',\n",
       " 'GLEAM_J012513-371848',\n",
       " 'GLEAM_J012528-000557',\n",
       " 'GLEAM_J012632-355351',\n",
       " 'GLEAM_J012724-361818',\n",
       " 'GLEAM_J012730-140254',\n",
       " 'GLEAM_J013018-115636',\n",
       " 'GLEAM_J013136-070354',\n",
       " 'GLEAM_J013241-080404',\n",
       " 'GLEAM_J013243-165444',\n",
       " 'GLEAM_J013352-061223',\n",
       " 'GLEAM_J013635-080604',\n",
       " 'GLEAM_J013852-054006',\n",
       " 'GLEAM_J013919-124741',\n",
       " 'GLEAM_J014308-362254',\n",
       " 'GLEAM_J014520-350555',\n",
       " 'GLEAM_J014813-442543',\n",
       " 'GLEAM_J014852-494708',\n",
       " 'GLEAM_J015106-454740',\n",
       " 'GLEAM_J015208-192323',\n",
       " 'GLEAM_J015524-131801',\n",
       " 'GLEAM_J015730-183338',\n",
       " 'GLEAM_J015743-182458',\n",
       " 'GLEAM_J015925-360431',\n",
       " 'GLEAM_J015926-140028',\n",
       " 'GLEAM_J020001-470729',\n",
       " 'GLEAM_J020012-401058',\n",
       " 'GLEAM_J020157-113234',\n",
       " 'GLEAM_J020226-153300',\n",
       " 'GLEAM_J020457-170115',\n",
       " 'GLEAM_J020503-145821',\n",
       " 'GLEAM_J020507-110922',\n",
       " 'GLEAM_J020528-394612',\n",
       " 'GLEAM_J020710-165508',\n",
       " 'GLEAM_J020715-385701',\n",
       " 'GLEAM_J020903-495243',\n",
       " 'GLEAM_J021022-144457',\n",
       " 'GLEAM_J021225-134839',\n",
       " 'GLEAM_J021250-150254',\n",
       " 'GLEAM_J021511-034304',\n",
       " 'GLEAM_J021853-352734',\n",
       " 'GLEAM_J022045-450511',\n",
       " 'GLEAM_J022106-093147',\n",
       " 'GLEAM_J022114-182754',\n",
       " 'GLEAM_J022200-161516',\n",
       " 'GLEAM_J022210-085113',\n",
       " 'GLEAM_J022317-355546',\n",
       " 'GLEAM_J022354-141109',\n",
       " 'GLEAM_J022529-242113',\n",
       " 'GLEAM_J022624-304130',\n",
       " 'GLEAM_J022632-051327',\n",
       " 'GLEAM_J022709-431801',\n",
       " 'GLEAM_J022742-391307',\n",
       " 'GLEAM_J022744-062106',\n",
       " 'GLEAM_J023017-075038',\n",
       " 'GLEAM_J023049-430115',\n",
       " 'GLEAM_J023055-090956',\n",
       " 'GLEAM_J023132-372831',\n",
       " 'GLEAM_J023725-333448',\n",
       " 'GLEAM_J023925-134840',\n",
       " 'GLEAM_J024035-253348',\n",
       " 'GLEAM_J024225-303905',\n",
       " 'GLEAM_J024403-110107',\n",
       " 'GLEAM_J024426-192231',\n",
       " 'GLEAM_J024430-254612',\n",
       " 'GLEAM_J024456-182244',\n",
       " 'GLEAM_J024554-445938',\n",
       " 'GLEAM_J024559-465114',\n",
       " 'GLEAM_J024632-430411',\n",
       " 'GLEAM_J024838-321336',\n",
       " 'GLEAM_J025035-262743',\n",
       " 'GLEAM_J025149-192529',\n",
       " 'GLEAM_J025247-221920',\n",
       " 'GLEAM_J025359-325439',\n",
       " 'GLEAM_J025511-351354',\n",
       " 'GLEAM_J025642-331512',\n",
       " 'GLEAM_J025724-123353',\n",
       " 'GLEAM_J025816-253000',\n",
       " 'GLEAM_J030019-144929',\n",
       " 'GLEAM_J030438-174701',\n",
       " 'GLEAM_J030456-355643',\n",
       " 'GLEAM_J031050-405000',\n",
       " 'GLEAM_J031347-161457',\n",
       " 'GLEAM_J031438-155745',\n",
       " 'GLEAM_J031505-172909',\n",
       " 'GLEAM_J031733-280317',\n",
       " 'GLEAM_J031743-201409',\n",
       " 'GLEAM_J031905-161343',\n",
       " 'GLEAM_J032022-312458',\n",
       " 'GLEAM_J032128-294043',\n",
       " 'GLEAM_J032149-102228',\n",
       " 'GLEAM_J032213-462646',\n",
       " 'GLEAM_J032237-482010',\n",
       " 'GLEAM_J032553-180156',\n",
       " 'GLEAM_J032734-145113',\n",
       " 'GLEAM_J032800-220205',\n",
       " 'GLEAM_J032829-101801',\n",
       " 'GLEAM_J032836-202138',\n",
       " 'GLEAM_J032836-284146',\n",
       " 'GLEAM_J033017-293814',\n",
       " 'GLEAM_J033023-074052',\n",
       " 'GLEAM_J033102-235454',\n",
       " 'GLEAM_J033112-430208',\n",
       " 'GLEAM_J033138-490922',\n",
       " 'GLEAM_J033147-332908',\n",
       " 'GLEAM_J033412-400823',\n",
       " 'GLEAM_J033415-372549',\n",
       " 'GLEAM_J033548-150206',\n",
       " 'GLEAM_J033552-332050',\n",
       " 'GLEAM_J033553-272740',\n",
       " 'GLEAM_J033642-135616',\n",
       " 'GLEAM_J033818-114906',\n",
       " 'GLEAM_J033852-154433',\n",
       " 'GLEAM_J033930-014632',\n",
       " 'GLEAM_J034003-215200',\n",
       " 'GLEAM_J034035-211933',\n",
       " 'GLEAM_J034154-141657',\n",
       " 'GLEAM_J034240-082610',\n",
       " 'GLEAM_J034629-441432',\n",
       " 'GLEAM_J034713-203510',\n",
       " 'GLEAM_J035051-471346',\n",
       " 'GLEAM_J035236-083423',\n",
       " 'GLEAM_J035333-135329',\n",
       " 'GLEAM_J035420-175520',\n",
       " 'GLEAM_J040659-382625',\n",
       " 'GLEAM_J040934-212604',\n",
       " 'GLEAM_J041122-351255',\n",
       " 'GLEAM_J041250-460450',\n",
       " 'GLEAM_J041636-185102',\n",
       " 'GLEAM_J041746-395746',\n",
       " 'GLEAM_J041747-112600',\n",
       " 'GLEAM_J041750-212340',\n",
       " 'GLEAM_J041818-064409',\n",
       " 'GLEAM_J041913-142024',\n",
       " 'GLEAM_J042140-152734',\n",
       " 'GLEAM_J042349-193026',\n",
       " 'GLEAM_J042535-164714',\n",
       " 'GLEAM_J042633-120009',\n",
       " 'GLEAM_J042653-521524',\n",
       " 'GLEAM_J042840-375616',\n",
       " 'GLEAM_J043105-375700',\n",
       " 'GLEAM_J043403-435547',\n",
       " 'GLEAM_J043412-092319',\n",
       " 'GLEAM_J043435-210544',\n",
       " 'GLEAM_J043520-354127',\n",
       " 'GLEAM_J043545-120602',\n",
       " 'GLEAM_J043713-162348',\n",
       " 'GLEAM_J043715-471506',\n",
       " 'GLEAM_J043831-431332',\n",
       " 'GLEAM_J043838-084822',\n",
       " 'GLEAM_J043850-201225',\n",
       " 'GLEAM_J044007-215129',\n",
       " 'GLEAM_J044033-422918',\n",
       " 'GLEAM_J044753-165736',\n",
       " 'GLEAM_J044922-175341',\n",
       " 'GLEAM_J045220-081144',\n",
       " 'GLEAM_J045228-151940',\n",
       " 'GLEAM_J045550-461556',\n",
       " 'GLEAM_J204841-252700',\n",
       " 'GLEAM_J205021-081046',\n",
       " 'GLEAM_J205112-312518',\n",
       " 'GLEAM_J205211-280136',\n",
       " 'GLEAM_J205217-364032',\n",
       " 'GLEAM_J205315-481833',\n",
       " 'GLEAM_J205448-173845',\n",
       " 'GLEAM_J205524-145307',\n",
       " 'GLEAM_J205825-490515',\n",
       " 'GLEAM_J210201-393358',\n",
       " 'GLEAM_J210700-112036',\n",
       " 'GLEAM_J210829-210135',\n",
       " 'GLEAM_J210932-411019',\n",
       " 'GLEAM_J211118-394220',\n",
       " 'GLEAM_J211311-393931',\n",
       " 'GLEAM_J211939-110616',\n",
       " 'GLEAM_J212805-232944',\n",
       " 'GLEAM_J212830-245814',\n",
       " 'GLEAM_J212921-182125',\n",
       " 'GLEAM_J213024-434819',\n",
       " 'GLEAM_J213239-335315',\n",
       " 'GLEAM_J213750-204234',\n",
       " 'GLEAM_J214404-413748',\n",
       " 'GLEAM_J214443-225345',\n",
       " 'GLEAM_J214451-331250',\n",
       " 'GLEAM_J214623-152542',\n",
       " 'GLEAM_J214836-172339',\n",
       " 'GLEAM_J215155-302751',\n",
       " 'GLEAM_J215203-282828',\n",
       " 'GLEAM_J215331-344533',\n",
       " 'GLEAM_J215436-410853',\n",
       " 'GLEAM_J215550-113943',\n",
       " 'GLEAM_J215722-322024',\n",
       " 'GLEAM_J215729-180701',\n",
       " 'GLEAM_J215806-150110',\n",
       " 'GLEAM_J215934-431236',\n",
       " 'GLEAM_J220314-485747',\n",
       " 'GLEAM_J220329-312332',\n",
       " 'GLEAM_J220610-183535',\n",
       " 'GLEAM_J220741-454110',\n",
       " 'GLEAM_J221324-302037',\n",
       " 'GLEAM_J221355-423818',\n",
       " 'GLEAM_J221655-452144',\n",
       " 'GLEAM_J221742-115946',\n",
       " 'GLEAM_J221852-033532',\n",
       " 'GLEAM_J222118-185820',\n",
       " 'GLEAM_J222332-310114',\n",
       " 'GLEAM_J222547-045657',\n",
       " 'GLEAM_J222650-072321',\n",
       " 'GLEAM_J222743-270503',\n",
       " 'GLEAM_J222940-083252',\n",
       " 'GLEAM_J222946-382358',\n",
       " 'GLEAM_J223015-132543',\n",
       " 'GLEAM_J223056-441628',\n",
       " 'GLEAM_J223222-165858',\n",
       " 'GLEAM_J223353-171207',\n",
       " 'GLEAM_J223512-205808',\n",
       " 'GLEAM_J223513-483552',\n",
       " 'GLEAM_J223634-143319',\n",
       " 'GLEAM_J223933-451414',\n",
       " 'GLEAM_J224049-334114',\n",
       " 'GLEAM_J224111-244237',\n",
       " 'GLEAM_J224145-365322',\n",
       " 'GLEAM_J224150-101521',\n",
       " 'GLEAM_J224322-213912',\n",
       " 'GLEAM_J224408-202719',\n",
       " 'GLEAM_J224500-343025',\n",
       " 'GLEAM_J224502-245801',\n",
       " 'GLEAM_J224618-120650',\n",
       " 'GLEAM_J224800-054113',\n",
       " 'GLEAM_J225044-280634',\n",
       " 'GLEAM_J225110-223935',\n",
       " 'GLEAM_J225131-184807',\n",
       " 'GLEAM_J225322-123148',\n",
       " 'GLEAM_J225431-214736',\n",
       " 'GLEAM_J225504-084400',\n",
       " 'GLEAM_J225600-273553',\n",
       " 'GLEAM_J225641-201140',\n",
       " 'GLEAM_J225646-124951',\n",
       " 'GLEAM_J225753-180517',\n",
       " 'GLEAM_J225805-275818',\n",
       " 'GLEAM_J230011-102141',\n",
       " 'GLEAM_J230025-434012',\n",
       " 'GLEAM_J230106-345621',\n",
       " 'GLEAM_J230136-245106',\n",
       " 'GLEAM_J230240-453355',\n",
       " 'GLEAM_J231255-412655',\n",
       " 'GLEAM_J231315-312503',\n",
       " 'GLEAM_J231448-313837',\n",
       " 'GLEAM_J231647-404118',\n",
       " 'GLEAM_J231721-305651',\n",
       " 'GLEAM_J231809-403206',\n",
       " 'GLEAM_J232327-305754',\n",
       " 'GLEAM_J232332-031708',\n",
       " 'GLEAM_J232407-371422',\n",
       " 'GLEAM_J232747-273529',\n",
       " 'GLEAM_J232748-144755',\n",
       " 'GLEAM_J232910-164723',\n",
       " 'GLEAM_J232917-473014',\n",
       " 'GLEAM_J232932-105417',\n",
       " 'GLEAM_J233035-372435',\n",
       " 'GLEAM_J233037-453953',\n",
       " 'GLEAM_J233138-155656',\n",
       " 'GLEAM_J233343-305753',\n",
       " 'GLEAM_J233609-451120',\n",
       " 'GLEAM_J233634-411517',\n",
       " 'GLEAM_J233911-455343',\n",
       " 'GLEAM_J233946-060403',\n",
       " 'GLEAM_J233954-331011',\n",
       " 'GLEAM_J234312-480659',\n",
       " 'GLEAM_J234625-073042',\n",
       " 'GLEAM_J235033-381047',\n",
       " 'GLEAM_J235037-114510',\n",
       " 'GLEAM_J235104-453802',\n",
       " 'GLEAM_J235411-410618',\n",
       " 'GLEAM_J235701-213815',\n",
       " 'GLEAM_J235811-102011']"
      ]
     },
     "execution_count": 8,
     "metadata": {},
     "output_type": "execute_result"
    }
   ],
   "source": [
    "mwa_spectral_var_list"
   ]
  },
  {
   "cell_type": "code",
   "execution_count": null,
   "metadata": {},
   "outputs": [],
   "source": []
  },
  {
   "cell_type": "code",
   "execution_count": 51,
   "metadata": {
    "ExecuteTime": {
     "end_time": "2021-12-08T02:12:51.377822Z",
     "start_time": "2021-12-08T02:12:51.269555Z"
    }
   },
   "outputs": [
    {
     "data": {
      "text/plain": [
       "21558"
      ]
     },
     "execution_count": 51,
     "metadata": {},
     "output_type": "execute_result"
    }
   ],
   "source": [
    "len(mwa_spectral_var_table)"
   ]
  },
  {
   "cell_type": "code",
   "execution_count": 23,
   "metadata": {
    "ExecuteTime": {
     "end_time": "2021-12-03T14:04:26.007540Z",
     "start_time": "2021-12-03T14:04:25.998791Z"
    }
   },
   "outputs": [
    {
     "data": {
      "text/plain": [
       "['GLEAM_Name',\n",
       " 'RAhms',\n",
       " 'Decdms',\n",
       " 'RAJ2000',\n",
       " 'e_RAJ2000',\n",
       " 'DEJ2000',\n",
       " 'e_DEJ2000',\n",
       " 'int_flux_wide_yr1',\n",
       " 'e_int_flux_wide_yr1',\n",
       " 'local_rms_wide_yr1',\n",
       " 'a_wide_yr1',\n",
       " 'b_wide_yr1',\n",
       " 'psf_a_wide_yr1',\n",
       " 'psf_b_wide_yr1',\n",
       " 'int_flux_wide_yr2',\n",
       " 'e_int_flux_wide_yr2',\n",
       " 'local_rms_wide_yr2',\n",
       " 'a_wide_yr2',\n",
       " 'b_wide_yr2',\n",
       " 'psf_a_wide_yr2',\n",
       " 'psf_b_wide_yr2',\n",
       " 'local_rms_107_yr1',\n",
       " 'S_107_yr1',\n",
       " 'e_S_107_yr1',\n",
       " 'local_rms_115_yr1',\n",
       " 'S_115_yr1',\n",
       " 'e_S_115_yr1',\n",
       " 'local_rms_123_yr1',\n",
       " 'S_123_yr1',\n",
       " 'e_S_123_yr1',\n",
       " 'local_rms_130_yr1',\n",
       " 'S_130_yr1',\n",
       " 'e_S_130_yr1',\n",
       " 'local_rms_143_yr1',\n",
       " 'S_143_yr1',\n",
       " 'e_S_143_yr1',\n",
       " 'local_rms_150_yr1',\n",
       " 'S_150_yr1',\n",
       " 'e_S_150_yr1',\n",
       " 'local_rms_158_yr1',\n",
       " 'S_158_yr1',\n",
       " 'e_S_158_yr1',\n",
       " 'local_rms_166_yr1',\n",
       " 'S_166_yr1',\n",
       " 'e_S_166_yr1',\n",
       " 'local_rms_174_yr1',\n",
       " 'S_174_yr1',\n",
       " 'e_S_174_yr1',\n",
       " 'local_rms_181_yr1',\n",
       " 'S_181_yr1',\n",
       " 'e_S_181_yr1',\n",
       " 'local_rms_189_yr1',\n",
       " 'S_189_yr1',\n",
       " 'e_S_189_yr1',\n",
       " 'local_rms_197_yr1',\n",
       " 'S_197_yr1',\n",
       " 'e_S_197_yr1',\n",
       " 'local_rms_204_yr1',\n",
       " 'S_204_yr1',\n",
       " 'e_S_204_yr1',\n",
       " 'local_rms_212_yr1',\n",
       " 'S_212_yr1',\n",
       " 'e_S_212_yr1',\n",
       " 'local_rms_220_yr1',\n",
       " 'S_220_yr1',\n",
       " 'e_S_220_yr1',\n",
       " 'local_rms_227_yr1',\n",
       " 'S_227_yr1',\n",
       " 'e_S_227_yr1',\n",
       " 'local_rms_107_yr2',\n",
       " 'S_107_yr2',\n",
       " 'e_S_107_yr2',\n",
       " 'local_rms_115_yr2',\n",
       " 'S_115_yr2',\n",
       " 'e_S_115_yr2',\n",
       " 'local_rms_123_yr2',\n",
       " 'S_123_yr2',\n",
       " 'e_S_123_yr2',\n",
       " 'local_rms_130_yr2',\n",
       " 'S_130_yr2',\n",
       " 'e_S_130_yr2',\n",
       " 'local_rms_143_yr2',\n",
       " 'S_143_yr2',\n",
       " 'e_S_143_yr2',\n",
       " 'local_rms_150_yr2',\n",
       " 'S_150_yr2',\n",
       " 'e_S_150_yr2',\n",
       " 'local_rms_158_yr2',\n",
       " 'S_158_yr2',\n",
       " 'e_S_158_yr2',\n",
       " 'local_rms_166_yr2',\n",
       " 'S_166_yr2',\n",
       " 'e_S_166_yr2',\n",
       " 'local_rms_174_yr2',\n",
       " 'S_174_yr2',\n",
       " 'e_S_174_yr2',\n",
       " 'local_rms_181_yr2',\n",
       " 'S_181_yr2',\n",
       " 'e_S_181_yr2',\n",
       " 'local_rms_189_yr2',\n",
       " 'S_189_yr2',\n",
       " 'e_S_189_yr2',\n",
       " 'local_rms_197_yr2',\n",
       " 'S_197_yr2',\n",
       " 'e_S_197_yr2',\n",
       " 'local_rms_204_yr2',\n",
       " 'S_204_yr2',\n",
       " 'e_S_204_yr2',\n",
       " 'local_rms_212_yr2',\n",
       " 'S_212_yr2',\n",
       " 'e_S_212_yr2',\n",
       " 'local_rms_220_yr2',\n",
       " 'S_220_yr2',\n",
       " 'e_S_220_yr2',\n",
       " 'local_rms_227_yr2',\n",
       " 'S_227_yr2',\n",
       " 'e_S_227_yr2',\n",
       " 'S_076',\n",
       " 'e_S_076',\n",
       " 'S_084',\n",
       " 'e_S_084',\n",
       " 'S_092',\n",
       " 'e_S_092',\n",
       " 'S_099',\n",
       " 'e_S_099',\n",
       " 'S_tgss',\n",
       " 'e_S_tgss',\n",
       " 'S_mrc',\n",
       " 'S_sumss',\n",
       " 'S_nvss',\n",
       " 'S_vlssr',\n",
       " 'alpha_low_yr1',\n",
       " 'e_alpha_low_yr1',\n",
       " 'alpha_high_yr1',\n",
       " 'e_alpha_high_yr1',\n",
       " 'quad_curve_yr1',\n",
       " 'e_quad_curve_yr1',\n",
       " 'redchisq_low_yr1',\n",
       " 'redchisq_high_yr1',\n",
       " 'redchisq_quad_yr1',\n",
       " 'alpha_low_yr2',\n",
       " 'e_alpha_low_yr2',\n",
       " 'alpha_high_yr2',\n",
       " 'e_alpha_high_yr2',\n",
       " 'quad_curve_yr2',\n",
       " 'e_quad_curve_yr2',\n",
       " 'redchisq_low_yr2',\n",
       " 'redchisq_high_yr2',\n",
       " 'redchisq_quad_yr2',\n",
       " 'VIP',\n",
       " 'MOSS',\n",
       " 'variable_flag',\n",
       " 'peaked_spectrum_source_flag',\n",
       " 'persistent_pss_flag',\n",
       " 'MOSS_class',\n",
       " 'pss_class_yr1',\n",
       " 'pss_class_yr2',\n",
       " 'RAJ2000_NVSS',\n",
       " 'DEJ2000_NVSS',\n",
       " 'RA_WISE',\n",
       " 'Dec_WISE',\n",
       " 'w1mpro',\n",
       " 'w2mpro',\n",
       " 'w3mpro',\n",
       " 'w4mpro',\n",
       " 'Class',\n",
       " 'z']"
      ]
     },
     "execution_count": 23,
     "metadata": {},
     "output_type": "execute_result"
    }
   ],
   "source": [
    "mwa_spectral_var_table.colnames"
   ]
  },
  {
   "cell_type": "code",
   "execution_count": 30,
   "metadata": {
    "ExecuteTime": {
     "end_time": "2021-12-03T14:25:34.357913Z",
     "start_time": "2021-12-03T14:25:34.351743Z"
    }
   },
   "outputs": [
    {
     "data": {
      "text/plain": [
       "'16.11'"
      ]
     },
     "execution_count": 30,
     "metadata": {},
     "output_type": "execute_result"
    }
   ],
   "source": [
    "mwa_spectral_var_table['MOSS'][0]"
   ]
  },
  {
   "cell_type": "markdown",
   "metadata": {
    "ExecuteTime": {
     "end_time": "2021-12-03T14:08:32.989065Z",
     "start_time": "2021-12-03T14:08:32.291453Z"
    }
   },
   "source": [
    "number_of_known_class=0\n",
    "for index,name in enumerate(mwa_spectral_var_table['GLEAM_Name']):\n",
    "    name_new= name.replace(' ','_')\n",
    "    #print(name_new)\n",
    "    if name_new in mwa_spectral_var_list:\n",
    "        if mwa_spectral_var_table['Class'][index]!= 'nan': \n",
    "            number_of_known_class+=1\n",
    "            print(index,name,mwa_spectral_var_table['Class'][index],mwa_spectral_var_table['z'][index])\n",
    "print(number_of_known_class)            "
   ]
  },
  {
   "cell_type": "code",
   "execution_count": 36,
   "metadata": {
    "ExecuteTime": {
     "end_time": "2021-12-03T14:28:54.076066Z",
     "start_time": "2021-12-03T14:28:53.454500Z"
    }
   },
   "outputs": [
    {
     "name": "stdout",
     "output_type": "stream",
     "text": [
      "MOSS >= 36.7\n",
      "index name RAJ2000 DEJ2000 class z MOSS\n",
      "3792 GLEAM J013243-165444 23.181387 -16.913147 QSO RLoud flat radio sp. z: 1.02 moss: 84.68\n",
      "4775 GLEAM J020457-170115 31.241366999999997 -17.02127 QSO RLoud flat radio sp. z: 1.74 moss: 49.66\n",
      "6362 GLEAM J024559-465114 41.500698 -46.854477 QSO RLoud flat radio sp. z: 1.385 moss: 123.05\n",
      "7819 GLEAM J031905-161343 49.77399000000001 -16.22876 QSO RLoud flat radio sp. z: 1.618 moss: 65.41\n",
      "8676 GLEAM J033930-014632 54.879619999999996 -1.7745098999999998 QSO RLoud flat radio sp. z: 0.85 moss: 79.51\n",
      "9557 GLEAM J040659-382625 61.750572 -38.44023 Blazar Uncertain type z: 1.285 moss: 37.52\n",
      "15951 GLEAM J214623-152542 326.5959200000001 -15.428045999999998 QSO RLoud flat radio sp. z: 0.698 moss: 43.15\n",
      "16040 GLEAM J214836-172339 327.153 -17.39378 QSO RLoud flat radio sp. z: 2.13 moss: 61.74\n",
      "16183 GLEAM J215155-302751 327.98227 -30.464033 QSO RLoud flat radio sp. z: 2.345 moss: 59.78\n",
      "18370 GLEAM J224618-120650 341.5764 -12.113893 QSO RLoud flat radio sp. z: 0.632 moss: 115.22\n",
      "18571 GLEAM J225044-280634 342.68387 -28.109740000000002 Blazar Uncertain type z: 0.525 moss: 41.08\n",
      "18809 GLEAM J225641-201140 344.17123 -20.194141000000002 BL Lac z: 0.0 moss: 77.93\n",
      "19642 GLEAM J231647-404118 349.19644 -40.689537 QSO RLoud flat radio sp. z: 2.448 moss: 39.08\n",
      "19940 GLEAM J232332-031708 350.88217000000014 -3.2854085 QSO RLoud flat radio sp. z: 1.393 moss: 139.53\n",
      "20195 GLEAM J232917-473014 352.32294 -47.50462 QSO RLoud flat radio sp. z: 1.3019999999999998 moss: 65.98\n",
      "20252 GLEAM J233035-372435 352.6484 -37.41049 BL Lac z: 0.27899999999999997 moss: 65.22\n",
      "20256 GLEAM J233037-453953 352.6574 -45.665157 QSO RLoud flat radio sp. z: 0.447 moss: 82.50\n",
      "21471 GLEAM J235811-102011 359.54483 -10.336326 QSO RLoud flat radio sp. z: 1.6380000000000001 moss: 53.92\n"
     ]
    }
   ],
   "source": [
    "print('MOSS >= 36.7')\n",
    "print('index','name','RAJ2000','DEJ2000','class','z','MOSS')\n",
    "for index,name in enumerate(mwa_spectral_var_table['GLEAM_Name']):\n",
    "    name_new= name.replace(' ','_')\n",
    "    #print(name_new)\n",
    "    if name_new in mwa_spectral_var_list:\n",
    "        if float(mwa_spectral_var_table['MOSS'][index]) >=36.7:\n",
    "            if mwa_spectral_var_table['Class'][index]!= 'nan': \n",
    "                print(index,name,mwa_spectral_var_table['RAJ2000'][index],mwa_spectral_var_table['DEJ2000'][index],mwa_spectral_var_table['Class'][index],'z:',mwa_spectral_var_table['z'][index],'moss:',mwa_spectral_var_table['MOSS'][index])"
   ]
  },
  {
   "cell_type": "code",
   "execution_count": null,
   "metadata": {},
   "outputs": [],
   "source": [
    "0.1*10**26*"
   ]
  },
  {
   "cell_type": "code",
   "execution_count": 28,
   "metadata": {
    "ExecuteTime": {
     "end_time": "2021-12-03T14:23:50.855888Z",
     "start_time": "2021-12-03T14:23:50.178833Z"
    }
   },
   "outputs": [
    {
     "name": "stdout",
     "output_type": "stream",
     "text": [
      "193 GLEAM J000404-114858 1.0191127 -11.816599 BL Lac z: 0.0\n",
      "304 GLEAM J000619-424524 1.5825592 -42.75574500000001 QSO RLoud flat radio sp. z: 1.77\n",
      "678 GLEAM J001502-181238 3.7597482 -18.211515 QSO RLoud flat radio sp. z: 0.743\n",
      "882 GLEAM J001942-303118 4.9281034 -30.52192100000001 QSO RLoud flat radio sp. z: 2.677\n",
      "1137 GLEAM J002523-222744 6.350221599999999 -22.462963000000002 QSO RLoud flat radio sp. z: 0.8340000000000001\n",
      "2234 GLEAM J005021-045218 12.589055 -4.8727846 QSO RLoud flat radio sp. z: 0.922\n",
      "2889 GLEAM J010626-271803 16.609081 -27.301971 QSO RLoud flat radio sp. z: 2.4859999999999998\n",
      "3554 GLEAM J012528-000557 21.371778 -0.100137666 QSO RLoud flat radio sp. z: 1.077\n",
      "3792 GLEAM J013243-165444 23.181387 -16.913147 QSO RLoud flat radio sp. z: 1.02\n",
      "3989 GLEAM J013852-054006 24.717762 -5.668442199999999 QSO RLoud flat radio sp. z: 2.004\n",
      "4775 GLEAM J020457-170115 31.241366999999997 -17.02127 QSO RLoud flat radio sp. z: 1.74\n",
      "5345 GLEAM J022200-161516 35.502995 -16.254978 QSO RLoud flat radio sp. z: 0.698\n",
      "6362 GLEAM J024559-465114 41.500698 -46.854477 QSO RLoud flat radio sp. z: 1.385\n",
      "6656 GLEAM J025247-221920 43.200905 -22.322153 QSO RLoud flat radio sp. z: 1.419\n",
      "6824 GLEAM J025642-331512 44.177925 -33.254337 QSO RLoud flat radio sp. z: 1.915\n",
      "7753 GLEAM J031733-280317 49.38896 -28.054890000000004 QSO RLoud flat radio sp. z: 1.166\n",
      "7819 GLEAM J031905-161343 49.77399000000001 -16.22876 QSO RLoud flat radio sp. z: 1.618\n",
      "8193 GLEAM J032800-220205 52.001328 -22.034702 QSO RLoud flat radio sp. z: 2.22\n",
      "8482 GLEAM J033412-400823 53.55409 -40.139492 BL Lac z: 0.0\n",
      "8485 GLEAM J033415-372549 53.564933999999994 -37.428932 BL Lac z: 0.0\n",
      "8676 GLEAM J033930-014632 54.879619999999996 -1.7745098999999998 QSO RLoud flat radio sp. z: 0.85\n",
      "8721 GLEAM J034035-211933 55.14895 -21.325787 BL Lac z: 0.233\n",
      "9557 GLEAM J040659-382625 61.750572 -38.44023 Blazar Uncertain type z: 1.285\n",
      "9738 GLEAM J041250-460450 63.21181 -46.080444 QSO RLoud flat radio sp. z: 2.2230000000000003\n",
      "9870 GLEAM J041636-185102 64.15174 -18.850374 QSO RLoud flat radio sp. z: 1.536\n",
      "10238 GLEAM J042840-375616 67.168076 -37.93855 BL Lac z: 1.11\n",
      "10429 GLEAM J043403-435547 68.51337 -43.929623 QSO RLoud flat radio sp. z: 2.6489999999999996\n",
      "10593 GLEAM J043850-201225 69.71002 -20.206635000000002 QSO RLoud flat radio sp. z: 2.146\n",
      "11087 GLEAM J045550-461556 73.96242 -46.26641 QSO RLoud flat radio sp. z: 0.858\n",
      "14476 GLEAM J210932-411019 317.38672 -41.173008 QSO RLoud flat radio sp. z: 1.058\n",
      "14862 GLEAM J211939-110616 319.9157 -11.10485 QSO RLoud flat radio sp. z: 1.844\n",
      "15951 GLEAM J214623-152542 326.5959200000001 -15.428045999999998 QSO RLoud flat radio sp. z: 0.698\n",
      "16040 GLEAM J214836-172339 327.153 -17.39378 QSO RLoud flat radio sp. z: 2.13\n",
      "16183 GLEAM J215155-302751 327.98227 -30.464033 QSO RLoud flat radio sp. z: 2.345\n",
      "16442 GLEAM J215806-150110 329.52563 -15.0192 QSO RLoud flat radio sp. z: 0.672\n",
      "16758 GLEAM J220610-183535 331.5433700000001 -18.593007999999998 QSO RLoud flat radio sp. z: 0.619\n",
      "17273 GLEAM J221852-033532 334.71725 -3.592201 QSO RLoud flat radio sp. z: 0.9009999999999999\n",
      "17541 GLEAM J222547-045657 336.44565 -4.948951999999999 QSO RLoud flat radio sp. z: 1.4040000000000001\n",
      "17692 GLEAM J222940-083252 337.4166600000001 -8.5478115 QSO RLoud flat radio sp. z: 1.56\n",
      "17710 GLEAM J223015-132543 337.5633 -13.428073000000001 QSO RLoud flat radio sp. z: 1.42\n",
      "17732 GLEAM J223056-441628 337.7340700000001 -44.275420000000004 QSO RLoud flat radio sp. z: 1.3259999999999998\n",
      "17791 GLEAM J223222-165858 338.0949700000001 -16.982666000000002 QSO RLoud flat radio sp. z: 1.78\n",
      "17913 GLEAM J223513-483552 338.80618 -48.59879 QSO RLoud flat radio sp. z: 0.51\n",
      "17985 GLEAM J223634-143319 339.14273 -14.555029999999999 BL Lac z: 0.0\n",
      "18370 GLEAM J224618-120650 341.5764 -12.113893 QSO RLoud flat radio sp. z: 0.632\n",
      "18441 GLEAM J224800-054113 341.9996 -5.687089 Blazar Uncertain type z: 3.295\n",
      "18571 GLEAM J225044-280634 342.68387 -28.109740000000002 Blazar Uncertain type z: 0.525\n",
      "18732 GLEAM J225504-084400 343.76672 -8.733514 QSO RLoud flat radio sp. z: 0.606\n",
      "18779 GLEAM J225600-273553 343.9997 -27.598209999999998 QSO RLoud flat radio sp. z: 1.751\n",
      "18809 GLEAM J225641-201140 344.17123 -20.194141000000002 BL Lac z: 0.0\n",
      "18872 GLEAM J225805-275818 344.5234 -27.9718 QSO RLoud flat radio sp. z: 0.9259999999999999\n",
      "19566 GLEAM J231448-313837 348.70224 -31.64379000000001 QSO RLoud flat radio sp. z: 1.3230000000000002\n",
      "19642 GLEAM J231647-404118 349.19644 -40.689537 QSO RLoud flat radio sp. z: 2.448\n",
      "19940 GLEAM J232332-031708 350.88217000000014 -3.2854085 QSO RLoud flat radio sp. z: 1.393\n",
      "19964 GLEAM J232407-371422 351.0285 -37.239666 QSO RLoud flat radio sp. z: 0.37\n",
      "20131 GLEAM J232748-144755 351.94982999999996 -14.798561 QSO RLoud flat radio sp. z: 2.465\n",
      "20195 GLEAM J232917-473014 352.32294 -47.50462 QSO RLoud flat radio sp. z: 1.3019999999999998\n",
      "20252 GLEAM J233035-372435 352.6484 -37.41049 BL Lac z: 0.27899999999999997\n",
      "20256 GLEAM J233037-453953 352.6574 -45.665157 QSO RLoud flat radio sp. z: 0.447\n",
      "20300 GLEAM J233138-155656 352.9108 -15.949069 QSO RLoud flat radio sp. z: 1.153\n",
      "20530 GLEAM J233634-411517 354.1406 -41.25524 QSO RLoud flat radio sp. z: 1.406\n",
      "20677 GLEAM J233954-331011 354.97775 -33.170086 QSO RLoud flat radio sp. z: 1.8019999999999998\n",
      "21300 GLEAM J235411-410618 358.54553 -41.105843 Blazar Uncertain type z: 0.632\n",
      "21471 GLEAM J235811-102011 359.54483 -10.336326 QSO RLoud flat radio sp. z: 1.6380000000000001\n"
     ]
    }
   ],
   "source": [
    "for index,name in enumerate(mwa_spectral_var_table['GLEAM_Name']):\n",
    "    name_new= name.replace(' ','_')\n",
    "    #print(name_new)\n",
    "    if name_new in mwa_spectral_var_list:\n",
    "        if mwa_spectral_var_table['Class'][index]!= 'nan': \n",
    "            print(index,name,mwa_spectral_var_table['RAJ2000'][index],mwa_spectral_var_table['DEJ2000'][index],mwa_spectral_var_table['Class'][index],'z:',mwa_spectral_var_table['z'][index])"
   ]
  },
  {
   "cell_type": "markdown",
   "metadata": {
    "ExecuteTime": {
     "end_time": "2021-12-03T14:33:34.164259Z",
     "start_time": "2021-12-03T14:33:34.152520Z"
    }
   },
   "source": [
    "mwa_spectral_var_table_mossgt36dot7=mwa_spectral_var_table[float(mwa_spectral_var_table['MOSS'])>=36.7]"
   ]
  },
  {
   "cell_type": "code",
   "execution_count": 45,
   "metadata": {
    "ExecuteTime": {
     "end_time": "2021-12-03T14:33:16.804785Z",
     "start_time": "2021-12-03T14:33:16.800040Z"
    }
   },
   "outputs": [
    {
     "data": {
      "text/plain": [
       "8480"
      ]
     },
     "execution_count": 45,
     "metadata": {},
     "output_type": "execute_result"
    }
   ],
   "source": [
    "len(mwa_spectral_var_table_mossgt36dot7)"
   ]
  },
  {
   "cell_type": "code",
   "execution_count": 42,
   "metadata": {
    "ExecuteTime": {
     "end_time": "2021-12-03T14:32:52.937352Z",
     "start_time": "2021-12-03T14:32:52.747978Z"
    }
   },
   "outputs": [
    {
     "data": {
      "text/html": [
       "<i>Table length=13078</i>\n",
       "<table id=\"table4858975856\" class=\"table-striped table-bordered table-condensed\">\n",
       "<thead><tr><th>GLEAM_Name</th><th>RAhms</th><th>Decdms</th><th>RAJ2000</th><th>e_RAJ2000</th><th>DEJ2000</th><th>e_DEJ2000</th><th>int_flux_wide_yr1</th><th>e_int_flux_wide_yr1</th><th>local_rms_wide_yr1</th><th>a_wide_yr1</th><th>b_wide_yr1</th><th>psf_a_wide_yr1</th><th>psf_b_wide_yr1</th><th>int_flux_wide_yr2</th><th>e_int_flux_wide_yr2</th><th>local_rms_wide_yr2</th><th>a_wide_yr2</th><th>b_wide_yr2</th><th>psf_a_wide_yr2</th><th>psf_b_wide_yr2</th><th>local_rms_107_yr1</th><th>S_107_yr1</th><th>e_S_107_yr1</th><th>local_rms_115_yr1</th><th>S_115_yr1</th><th>e_S_115_yr1</th><th>local_rms_123_yr1</th><th>S_123_yr1</th><th>e_S_123_yr1</th><th>local_rms_130_yr1</th><th>S_130_yr1</th><th>e_S_130_yr1</th><th>local_rms_143_yr1</th><th>S_143_yr1</th><th>e_S_143_yr1</th><th>local_rms_150_yr1</th><th>S_150_yr1</th><th>e_S_150_yr1</th><th>local_rms_158_yr1</th><th>S_158_yr1</th><th>e_S_158_yr1</th><th>local_rms_166_yr1</th><th>S_166_yr1</th><th>e_S_166_yr1</th><th>local_rms_174_yr1</th><th>S_174_yr1</th><th>e_S_174_yr1</th><th>local_rms_181_yr1</th><th>S_181_yr1</th><th>e_S_181_yr1</th><th>local_rms_189_yr1</th><th>S_189_yr1</th><th>e_S_189_yr1</th><th>local_rms_197_yr1</th><th>S_197_yr1</th><th>e_S_197_yr1</th><th>local_rms_204_yr1</th><th>S_204_yr1</th><th>e_S_204_yr1</th><th>local_rms_212_yr1</th><th>S_212_yr1</th><th>e_S_212_yr1</th><th>local_rms_220_yr1</th><th>S_220_yr1</th><th>e_S_220_yr1</th><th>local_rms_227_yr1</th><th>S_227_yr1</th><th>e_S_227_yr1</th><th>local_rms_107_yr2</th><th>S_107_yr2</th><th>e_S_107_yr2</th><th>local_rms_115_yr2</th><th>S_115_yr2</th><th>e_S_115_yr2</th><th>local_rms_123_yr2</th><th>S_123_yr2</th><th>e_S_123_yr2</th><th>local_rms_130_yr2</th><th>S_130_yr2</th><th>e_S_130_yr2</th><th>local_rms_143_yr2</th><th>S_143_yr2</th><th>e_S_143_yr2</th><th>local_rms_150_yr2</th><th>S_150_yr2</th><th>e_S_150_yr2</th><th>local_rms_158_yr2</th><th>S_158_yr2</th><th>e_S_158_yr2</th><th>local_rms_166_yr2</th><th>S_166_yr2</th><th>e_S_166_yr2</th><th>local_rms_174_yr2</th><th>S_174_yr2</th><th>e_S_174_yr2</th><th>local_rms_181_yr2</th><th>S_181_yr2</th><th>e_S_181_yr2</th><th>local_rms_189_yr2</th><th>S_189_yr2</th><th>e_S_189_yr2</th><th>local_rms_197_yr2</th><th>S_197_yr2</th><th>e_S_197_yr2</th><th>local_rms_204_yr2</th><th>S_204_yr2</th><th>e_S_204_yr2</th><th>local_rms_212_yr2</th><th>S_212_yr2</th><th>e_S_212_yr2</th><th>local_rms_220_yr2</th><th>S_220_yr2</th><th>e_S_220_yr2</th><th>local_rms_227_yr2</th><th>S_227_yr2</th><th>e_S_227_yr2</th><th>S_076</th><th>e_S_076</th><th>S_084</th><th>e_S_084</th><th>S_092</th><th>e_S_092</th><th>S_099</th><th>e_S_099</th><th>S_tgss</th><th>e_S_tgss</th><th>S_mrc</th><th>S_sumss</th><th>S_nvss</th><th>S_vlssr</th><th>alpha_low_yr1</th><th>e_alpha_low_yr1</th><th>alpha_high_yr1</th><th>e_alpha_high_yr1</th><th>quad_curve_yr1</th><th>e_quad_curve_yr1</th><th>redchisq_low_yr1</th><th>redchisq_high_yr1</th><th>redchisq_quad_yr1</th><th>alpha_low_yr2</th><th>e_alpha_low_yr2</th><th>alpha_high_yr2</th><th>e_alpha_high_yr2</th><th>quad_curve_yr2</th><th>e_quad_curve_yr2</th><th>redchisq_low_yr2</th><th>redchisq_high_yr2</th><th>redchisq_quad_yr2</th><th>VIP</th><th>MOSS</th><th>variable_flag</th><th>peaked_spectrum_source_flag</th><th>persistent_pss_flag</th><th>MOSS_class</th><th>pss_class_yr1</th><th>pss_class_yr2</th><th>RAJ2000_NVSS</th><th>DEJ2000_NVSS</th><th>RA_WISE</th><th>Dec_WISE</th><th>w1mpro</th><th>w2mpro</th><th>w3mpro</th><th>w4mpro</th><th>Class</th><th>z</th></tr></thead>\n",
       "<thead><tr><th></th><th></th><th></th><th></th><th></th><th></th><th></th><th>Jy</th><th>Jy</th><th>Jy.beam-1</th><th>&quot;</th><th>&quot;</th><th>&quot;</th><th>&quot;</th><th>Jy</th><th>Jy</th><th>Jy.beam-1</th><th>&quot;</th><th>&quot;</th><th>&quot;</th><th>&quot;</th><th>Jy.beam-1</th><th>Jy</th><th>Jy</th><th>Jy.beam-1</th><th>Jy</th><th>Jy</th><th>Jy.beam-1</th><th>Jy</th><th>Jy</th><th>Jy.beam-1</th><th>Jy</th><th>Jy</th><th>Jy.beam-1</th><th>Jy</th><th>Jy</th><th>Jy.beam-1</th><th>Jy</th><th>Jy</th><th>Jy.beam-1</th><th>Jy</th><th>Jy</th><th>Jy.beam-1</th><th>Jy</th><th>Jy</th><th>Jy.beam-1</th><th>Jy</th><th>Jy</th><th>Jy.beam-1</th><th>Jy</th><th>Jy</th><th>Jy.beam-1</th><th>Jy</th><th>Jy</th><th>Jy.beam-1</th><th>Jy</th><th>Jy</th><th>Jy.beam-1</th><th>Jy</th><th>Jy</th><th>Jy.beam-1</th><th>Jy</th><th>Jy</th><th>Jy.beam-1</th><th>Jy</th><th>Jy</th><th>Jy.beam-1</th><th>Jy</th><th>Jy</th><th>Jy.beam-1</th><th>Jy</th><th>Jy</th><th>Jy.beam-1</th><th>Jy</th><th>Jy</th><th>Jy.beam-1</th><th>Jy</th><th>Jy</th><th>Jy.beam-1</th><th>Jy</th><th>Jy</th><th>Jy.beam-1</th><th>Jy</th><th>Jy</th><th>Jy.beam-1</th><th>Jy</th><th>Jy</th><th>Jy.beam-1</th><th>Jy</th><th>Jy</th><th>Jy.beam-1</th><th>Jy</th><th>Jy</th><th>Jy.beam-1</th><th>Jy</th><th>Jy</th><th>Jy.beam-1</th><th>Jy</th><th>Jy</th><th>Jy.beam-1</th><th>Jy</th><th>Jy</th><th>Jy.beam-1</th><th>Jy</th><th>Jy</th><th>Jy.beam-1</th><th>Jy</th><th>Jy</th><th>Jy.beam-1</th><th>Jy</th><th>Jy</th><th>Jy.beam-1</th><th>Jy</th><th>Jy</th><th>Jy.beam-1</th><th>Jy</th><th>Jy</th><th>Jy</th><th>Jy</th><th>Jy</th><th>Jy</th><th>Jy</th><th>Jy</th><th>Jy</th><th>Jy</th><th>Jy</th><th>Jy</th><th>Jy</th><th>Jy</th><th>Jy</th><th>Jy</th><th></th><th></th><th></th><th></th><th></th><th></th><th></th><th></th><th></th><th></th><th></th><th></th><th></th><th></th><th></th><th></th><th></th><th></th><th></th><th></th><th></th><th></th><th></th><th></th><th></th><th></th><th></th><th></th><th></th><th></th><th>mag</th><th>mag</th><th>mag</th><th>mag</th><th></th><th></th></tr></thead>\n",
       "<thead><tr><th>str20</th><th>str11</th><th>str12</th><th>float64</th><th>float64</th><th>float64</th><th>float64</th><th>str5</th><th>str5</th><th>float64</th><th>float64</th><th>float64</th><th>float64</th><th>float64</th><th>float64</th><th>float64</th><th>float64</th><th>float64</th><th>float64</th><th>float64</th><th>float64</th><th>float64</th><th>float64</th><th>float64</th><th>float64</th><th>float64</th><th>float64</th><th>float64</th><th>float64</th><th>float64</th><th>float64</th><th>float64</th><th>float64</th><th>float64</th><th>float64</th><th>float64</th><th>float64</th><th>float64</th><th>float64</th><th>float64</th><th>float64</th><th>float64</th><th>float64</th><th>float64</th><th>float64</th><th>float64</th><th>float64</th><th>float64</th><th>float64</th><th>float64</th><th>float64</th><th>float64</th><th>float64</th><th>float64</th><th>float64</th><th>float64</th><th>float64</th><th>float64</th><th>float64</th><th>float64</th><th>float64</th><th>float64</th><th>float64</th><th>float64</th><th>float64</th><th>float64</th><th>float64</th><th>float64</th><th>float64</th><th>float64</th><th>float64</th><th>float64</th><th>float64</th><th>float64</th><th>float64</th><th>float64</th><th>float64</th><th>float64</th><th>float64</th><th>float64</th><th>float64</th><th>float64</th><th>float64</th><th>float64</th><th>float64</th><th>float64</th><th>float64</th><th>float64</th><th>float64</th><th>float64</th><th>float64</th><th>float64</th><th>float64</th><th>float64</th><th>float64</th><th>float64</th><th>float64</th><th>float64</th><th>float64</th><th>float64</th><th>float64</th><th>float64</th><th>float64</th><th>float64</th><th>float64</th><th>float64</th><th>float64</th><th>float64</th><th>float64</th><th>float64</th><th>float64</th><th>float64</th><th>float64</th><th>float64</th><th>float64</th><th>float64</th><th>float64</th><th>float64</th><th>float64</th><th>float64</th><th>float64</th><th>float64</th><th>float64</th><th>float64</th><th>float64</th><th>float64</th><th>float64</th><th>float64</th><th>float64</th><th>float64</th><th>float64</th><th>float64</th><th>float64</th><th>float64</th><th>float64</th><th>float64</th><th>float64</th><th>float64</th><th>float64</th><th>float64</th><th>float64</th><th>float64</th><th>float64</th><th>float64</th><th>float64</th><th>float64</th><th>float64</th><th>float64</th><th>float64</th><th>str7</th><th>str7</th><th>float64</th><th>float64</th><th>float64</th><th>str14</th><th>str3</th><th>str3</th><th>object</th><th>object</th><th>float64</th><th>float64</th><th>float64</th><th>float64</th><th>float64</th><th>float64</th><th>str24</th><th>float64</th></tr></thead>\n",
       "<tr><td>GLEAM J000000-040240</td><td>00:00:00.13</td><td>-04:02:40.34</td><td>0.0011828415</td><td>0.00030109384999999996</td><td>-4.0446253</td><td>0.0003271339</td><td>0.49</td><td>0.49</td><td>0.0135552855</td><td>148.98878</td><td>124.021996</td><td>148.39241</td><td>122.0116</td><td>0.5060244</td><td>0.009060254</td><td>0.008699694000000001</td><td>150.49338</td><td>124.06605</td><td>149.90298</td><td>122.05978999999999</td><td>0.041289974</td><td>0.59180677</td><td>0.03654905</td><td>0.037056215</td><td>0.50136566</td><td>0.032645144</td><td>0.034654226</td><td>0.54596305</td><td>0.030349111</td><td>0.031559616</td><td>0.5693604999999999</td><td>0.027765897999999997</td><td>0.02259069</td><td>0.5783332</td><td>0.019907795</td><td>0.020302672</td><td>0.60526353</td><td>0.01785598</td><td>0.019051653999999998</td><td>0.5624766</td><td>0.016800003</td><td>0.017876444</td><td>0.55156463</td><td>0.01573209</td><td>0.02125322</td><td>0.5406583</td><td>0.018654658</td><td>0.019700525</td><td>0.5269087</td><td>0.017393282</td><td>0.018982546</td><td>0.51180226</td><td>0.016799645</td><td>0.019869292</td><td>0.52872175</td><td>0.017562807</td><td>0.023927993999999998</td><td>0.48368928</td><td>0.021273386000000002</td><td>0.026348773</td><td>0.4921799</td><td>0.02336</td><td>0.027062</td><td>0.5265879</td><td>0.02396039</td><td>0.028706937999999998</td><td>0.45747328</td><td>0.02555286</td><td>0.030679977999999997</td><td>0.63874483</td><td>0.02733396</td><td>0.024772486</td><td>0.6093701</td><td>0.021893257000000003</td><td>0.023429492000000003</td><td>0.6013331000000001</td><td>0.020549253</td><td>0.021846812</td><td>0.5901619</td><td>0.019321248</td><td>0.015393135</td><td>0.5957435999999999</td><td>0.013459326</td><td>0.0137518</td><td>0.5877949</td><td>0.012130328000000001</td><td>0.012806632</td><td>0.60771686</td><td>0.011324366</td><td>0.011951835</td><td>0.5894099</td><td>0.010535963999999998</td><td>0.013391186999999999</td><td>0.5475526999999999</td><td>0.01178931</td><td>0.012655716000000001</td><td>0.56630933</td><td>0.01113794</td><td>0.012216873999999999</td><td>0.5496287</td><td>0.010854158000000001</td><td>0.011935016000000001</td><td>0.55292606</td><td>0.010560431</td><td>0.014841093999999999</td><td>0.5180264</td><td>0.013120775</td><td>0.015792063000000002</td><td>0.5241868</td><td>0.014041658</td><td>0.01697677</td><td>0.496069</td><td>0.01507963</td><td>0.018792292</td><td>0.48994407</td><td>0.016660227</td><td>0.6129113</td><td>0.09161436</td><td>0.6255359</td><td>0.07311714400000001</td><td>0.59676355</td><td>0.06550504</td><td>0.5393859000000001</td><td>0.05975917</td><td>0.4049</td><td>0.0413</td><td>--</td><td>--</td><td>0.1068</td><td>0.64</td><td>-0.22324437541340847</td><td>0.08079762344681321</td><td>-0.7890059471924361</td><td>0.025229056378941184</td><td>-0.7471005858024836</td><td>0.27129091690882634</td><td>2.189970332943276</td><td>inf</td><td>1.3461944185539398</td><td>-0.30556994590772524</td><td>0.05265422269827315</td><td>-0.8228278065023604</td><td>0.036018892112608565</td><td>-0.553614585458606</td><td>0.15757357053957807</td><td>2.1964670296311826</td><td>inf</td><td>1.0671980127417948</td><td>34.01</td><td>16.11</td><td>0.0</td><td>0.0</td><td>0.0</td><td>nan</td><td>nan</td><td>LS</td><td>00 00 00.16</td><td>-04 02 42.3</td><td>--</td><td>--</td><td>--</td><td>--</td><td>--</td><td>--</td><td>nan</td><td>--</td></tr>\n",
       "<tr><td>GLEAM J000001-002215</td><td>00:00:01.61</td><td>-00:22:15.92</td><td>0.0037447715</td><td>0.0013384558</td><td>-0.37055879999999997</td><td>0.0014980909</td><td>0.39</td><td>0.39</td><td>0.043712255</td><td>151.07072</td><td>129.65215</td><td>149.41187</td><td>123.922775</td><td>0.32126740000000004</td><td>0.025322495</td><td>0.023663957000000003</td><td>154.75385</td><td>129.03087</td><td>153.13488999999996</td><td>123.27681000000001</td><td>0.048494913</td><td>0.28230044</td><td>0.04267175</td><td>0.041322912999999996</td><td>0.22175896</td><td>0.036335412000000004</td><td>0.037800238</td><td>0.22478983</td><td>0.03330249</td><td>0.036436796</td><td>0.28762624</td><td>0.03222634</td><td>0.03275565</td><td>0.27141765</td><td>0.029019602000000002</td><td>0.031053089</td><td>0.25647359999999997</td><td>0.027642427</td><td>0.030023263999999997</td><td>0.28834882</td><td>0.02662913</td><td>0.027783857999999998</td><td>0.22765736</td><td>0.02472075</td><td>0.038141895</td><td>0.29730448</td><td>0.03412215</td><td>0.03589255</td><td>0.32102522</td><td>0.03232626</td><td>0.038912844</td><td>0.25109360000000003</td><td>0.034965828</td><td>0.043980133</td><td>0.27933884</td><td>0.03960146</td><td>0.06969867</td><td>0.37027547</td><td>0.063692234</td><td>0.07972245</td><td>0.47665235</td><td>0.072992906</td><td>0.090963386</td><td>0.19350143</td><td>0.08356085</td><td>0.12790917</td><td>0.5293687</td><td>0.11851067</td><td>0.03619164</td><td>0.28147796</td><td>0.031946283</td><td>0.028922233999999998</td><td>0.23282361</td><td>0.025604194</td><td>0.026453672</td><td>0.26897209999999994</td><td>0.023589524</td><td>0.025023246000000002</td><td>0.24838579999999996</td><td>0.022555102</td><td>0.021890255</td><td>0.2676902</td><td>0.019401701</td><td>0.01875433</td><td>0.27124499999999996</td><td>0.016825141000000002</td><td>0.018789038</td><td>0.28903902</td><td>0.016879108</td><td>0.01897764</td><td>0.3267198</td><td>0.016932683</td><td>0.021628985</td><td>0.32547352</td><td>0.019347332</td><td>0.020771613</td><td>0.28286016</td><td>0.018770875</td><td>0.022022491</td><td>0.3171179</td><td>0.01997194</td><td>0.024010625</td><td>0.28950733</td><td>0.021718372000000003</td><td>0.037063036</td><td>0.3069866</td><td>0.033804078</td><td>0.042644367</td><td>0.34070793</td><td>0.038693607000000005</td><td>0.04801018</td><td>0.32645878</td><td>0.044061172999999995</td><td>0.061647613</td><td>0.3028663</td><td>0.056707297000000004</td><td>-0.060137454000000014</td><td>0.10988475</td><td>0.23599257</td><td>0.08646303</td><td>0.18930285</td><td>0.07659477</td><td>0.14679776</td><td>0.066079475</td><td>0.2921</td><td>0.0304</td><td>--</td><td>--</td><td>0.2125</td><td>--</td><td>0.3602438996167899</td><td>0.22944686769261904</td><td>-0.1573014429052442</td><td>0.1710935397314666</td><td>0.7781467726228609</td><td>1.0592317416763524</td><td>1.3389025588974521</td><td>inf</td><td>1.8686993170758548</td><td>0.3447511493102688</td><td>0.11304698536333478</td><td>-0.2105156833059252</td><td>0.02696854813287876</td><td>-0.06941022122978682</td><td>0.4843230071207363</td><td>0.8164540720645058</td><td>inf</td><td>0.8192524769790944</td><td>22.97</td><td>18.97</td><td>0.0</td><td>0.0</td><td>1.0</td><td>nan</td><td>HH</td><td>HH</td><td>00 00 01.65</td><td>-00 22 09.7</td><td>--</td><td>--</td><td>--</td><td>--</td><td>--</td><td>--</td><td>nan</td><td>--</td></tr>\n",
       "<tr><td>GLEAM J000005-260405</td><td>00:00:05.50</td><td>-26:04:05.67</td><td>0.022709657999999997</td><td>0.000332476</td><td>-26.069477</td><td>0.00035864425999999997</td><td>0.16</td><td>0.16</td><td>0.004157902</td><td>145.96206999999995</td><td>113.137474</td><td>145.97229</td><td>117.8616</td><td>0.17373367</td><td>0.0036170532</td><td>0.0036377183</td><td>148.02268999999995</td><td>114.97863999999998</td><td>148.03278</td><td>119.62851</td><td>0.023345351</td><td>0.29879507</td><td>0.02043553</td><td>0.018507126999999998</td><td>0.29271576</td><td>0.016191656000000002</td><td>0.016065458</td><td>0.28029522</td><td>0.013999026000000001</td><td>0.01531108</td><td>0.24855925</td><td>0.013239602</td><td>0.013164921000000001</td><td>0.23587133</td><td>0.01138398</td><td>0.011145843999999999</td><td>0.22813484</td><td>0.009540344000000001</td><td>0.011309004</td><td>0.21628012</td><td>0.009730654</td><td>0.010963056</td><td>0.21175460000000002</td><td>0.009342048</td><td>0.011786004</td><td>0.2063521</td><td>0.010095576</td><td>0.011582624</td><td>0.18098973</td><td>0.009828756</td><td>0.010719507</td><td>0.18337329</td><td>0.009152395</td><td>0.010400064</td><td>0.17664574</td><td>0.008846010999999999</td><td>0.007748638</td><td>0.16214915</td><td>0.006577985</td><td>0.0082389675</td><td>0.15201554</td><td>0.0069354707</td><td>0.0070769703000000015</td><td>0.16501598</td><td>0.005971557</td><td>0.007510013</td><td>0.14971027</td><td>0.006346173599999999</td><td>0.019955844</td><td>0.32642365</td><td>0.017556306</td><td>0.015790171999999998</td><td>0.29166390000000003</td><td>0.013775416</td><td>0.013418356000000001</td><td>0.26615065</td><td>0.011763625</td><td>0.012169667</td><td>0.26603925</td><td>0.010569931000000001</td><td>0.010088040999999999</td><td>0.2457206</td><td>0.008824885</td><td>0.008959611</td><td>0.23164718</td><td>0.007813185</td><td>0.00839738</td><td>0.21552123</td><td>0.0072201467</td><td>0.007877568</td><td>0.19919097</td><td>0.0068113958</td><td>0.007987107</td><td>0.19457771</td><td>0.006854235</td><td>0.0071251714</td><td>0.19503513</td><td>0.0060716127</td><td>0.0073723680000000015</td><td>0.19330418</td><td>0.0062777232</td><td>0.007183074</td><td>0.19326809</td><td>0.00611347</td><td>0.0059478288</td><td>0.17341043</td><td>0.0050951033</td><td>0.0059659686</td><td>0.1817809</td><td>0.0051041376</td><td>0.0062698526000000004</td><td>0.16513202</td><td>0.0052748844</td><td>0.006551024</td><td>0.15789792</td><td>0.0055214159999999995</td><td>0.3929911</td><td>0.07667736</td><td>0.5009173</td><td>0.05896276</td><td>0.27954808</td><td>0.05426516</td><td>0.31535885</td><td>0.05239228</td><td>0.1494</td><td>0.016100000000000003</td><td>--</td><td>--</td><td>0.0432</td><td>--</td><td>-0.9323515489252828</td><td>0.04080793602298188</td><td>-0.6931721683772455</td><td>0.04921151858229161</td><td>-0.1206083658023994</td><td>0.26489450308228263</td><td>0.5543932077797037</td><td>inf</td><td>0.6804604656956857</td><td>-0.8876515266082239</td><td>0.04390438986869048</td><td>-0.7540341752916685</td><td>0.016076435595489158</td><td>0.16489895415373307</td><td>0.2565780473493651</td><td>0.9363764441182814</td><td>inf</td><td>1.2079627704044948</td><td>23.72</td><td>17.01</td><td>0.0</td><td>0.0</td><td>0.0</td><td>nan</td><td>nan</td><td>nan</td><td>00 00 05.65</td><td>-26 04 09.7</td><td>--</td><td>--</td><td>--</td><td>--</td><td>--</td><td>--</td><td>nan</td><td>--</td></tr>\n",
       "<tr><td>GLEAM J000006-491100</td><td>00:00:06.95</td><td>-49:11:00.80</td><td>0.029006902</td><td>0.00023917298</td><td>-49.183647</td><td>0.00030850669999999997</td><td>0.64</td><td>0.64</td><td>0.011899894</td><td>148.39757</td><td>121.07838999999998</td><td>147.6387</td><td>120.62931999999999</td><td>0.64198196</td><td>0.010557353</td><td>0.0101754395</td><td>151.28018</td><td>122.624214</td><td>150.53586</td><td>122.17331999999999</td><td>0.031936242999999996</td><td>1.3446611000000002</td><td>0.027837518999999998</td><td>0.026632707999999998</td><td>1.2307242</td><td>0.023154527</td><td>0.022457328</td><td>1.2278284</td><td>0.019622825</td><td>0.020660808</td><td>1.1088818</td><td>0.018015813000000002</td><td>0.017984899</td><td>0.9999146000000001</td><td>0.015659513</td><td>0.015979858</td><td>0.93002266</td><td>0.013916451000000002</td><td>0.013969902</td><td>0.8997639000000001</td><td>0.0121831</td><td>0.012287211000000001</td><td>0.86536556</td><td>0.010734273</td><td>0.014103988999999999</td><td>0.8146478</td><td>0.012388966000000001</td><td>0.013448841999999999</td><td>0.7766512</td><td>0.011838932</td><td>0.013839431999999999</td><td>0.73100364</td><td>0.012262351999999999</td><td>0.01474933</td><td>0.68371594</td><td>0.013002966000000001</td><td>0.019878488</td><td>0.6767432</td><td>0.017405497</td><td>0.021584323</td><td>0.65860105</td><td>0.019063754</td><td>0.021977674</td><td>0.60098016</td><td>0.019232078</td><td>0.023775487999999997</td><td>0.5948554</td><td>0.020962125</td><td>0.026107015</td><td>1.2888865</td><td>0.02325911</td><td>0.022445975</td><td>1.2151731000000001</td><td>0.019681182</td><td>0.018942699</td><td>1.1533183999999999</td><td>0.016598672</td><td>0.017261684</td><td>1.0837624</td><td>0.015148354</td><td>0.01480206</td><td>0.9943688</td><td>0.013081968000000001</td><td>0.012291429</td><td>0.9336267</td><td>0.010765048999999999</td><td>0.01158506</td><td>0.8877911</td><td>0.010179179</td><td>0.01115226</td><td>0.8685096</td><td>0.009768477</td><td>0.011161939</td><td>0.824677</td><td>0.009712552</td><td>0.010526084</td><td>0.7807151</td><td>0.009281454</td><td>0.010340156</td><td>0.7487459</td><td>0.009044398</td><td>0.011951468</td><td>0.69827163</td><td>0.010454825</td><td>0.016475119</td><td>0.68733567</td><td>0.014487126999999999</td><td>0.019085232</td><td>0.6190175</td><td>0.016848834</td><td>0.019379837</td><td>0.5892319</td><td>0.017144725</td><td>0.022398297</td><td>0.57500166</td><td>0.019646715</td><td>2.0591328</td><td>0.0882706</td><td>1.6915944</td><td>0.06593309</td><td>1.6292188</td><td>0.058343858</td><td>1.3823549</td><td>0.05703435</td><td>0.5525</td><td>0.0554</td><td>--</td><td>0.1318</td><td>--</td><td>--</td><td>-1.092903544109733</td><td>0.02687990588829876</td><td>-1.1470941364666996</td><td>0.027793543952442136</td><td>-0.1976913897518112</td><td>0.10067552864383572</td><td>1.113006063681176</td><td>inf</td><td>0.8028211768612312</td><td>-1.0147488070558617</td><td>0.031404388409048536</td><td>-1.163251515938308</td><td>0.06519735249269433</td><td>-0.5211749024119203</td><td>0.10679324843165293</td><td>1.977903804636456</td><td>inf</td><td>0.9698117374079521</td><td>14.95</td><td>15.47</td><td>0.0</td><td>0.0</td><td>0.0</td><td>nan</td><td>nan</td><td>nan</td><td>nan</td><td>nan</td><td>--</td><td>--</td><td>--</td><td>--</td><td>--</td><td>--</td><td>nan</td><td>--</td></tr>\n",
       "<tr><td>GLEAM J000008-523458</td><td>00:00:08.46</td><td>-52:34:58.73</td><td>0.033452645</td><td>0.0016832589999999999</td><td>-52.58511</td><td>0.0026868309999999998</td><td>0.27</td><td>0.27</td><td>0.031670157000000004</td><td>142.10246</td><td>133.37509</td><td>148.49168</td><td>124.17433</td><td>0.27550748</td><td>0.036586307</td><td>0.035206407</td><td>141.18298000000001</td><td>132.50978</td><td>147.61201</td><td>123.2452</td><td>0.04077258</td><td>0.4060473</td><td>0.036271173999999996</td><td>0.032643814</td><td>0.48398959999999996</td><td>0.028796941</td><td>0.030498534</td><td>0.41051683</td><td>0.027656472999999997</td><td>0.027622197</td><td>0.41021872</td><td>0.024469905</td><td>0.02524879</td><td>0.37569657</td><td>0.022470237999999997</td><td>0.02358164</td><td>0.3438634</td><td>0.020715924</td><td>0.022325777</td><td>0.31759570000000004</td><td>0.019735911999999998</td><td>0.020312095</td><td>0.32508534</td><td>0.017791212</td><td>0.024920354</td><td>0.24916279999999996</td><td>0.022027226</td><td>0.024914147</td><td>0.28175700000000004</td><td>0.021999216000000002</td><td>0.025174292</td><td>0.26338059999999996</td><td>0.02222503</td><td>0.029546062999999997</td><td>0.25792995</td><td>0.026064342</td><td>0.048970655</td><td>0.26326793</td><td>0.043698292</td><td>0.056764055</td><td>0.27417967</td><td>0.051136743</td><td>0.06272561</td><td>0.26182073</td><td>0.056342237</td><td>0.077876784</td><td>0.28890386</td><td>0.06969218</td><td>0.03719716</td><td>0.41523287</td><td>0.033219192</td><td>0.030698502000000006</td><td>0.402885</td><td>0.02714311</td><td>0.025794681</td><td>0.4300090999999999</td><td>0.023353515</td><td>0.02292108</td><td>0.38899684</td><td>0.020527171</td><td>0.024120217000000003</td><td>0.3268499</td><td>0.021298032</td><td>0.020912252</td><td>0.36354655</td><td>0.018418632</td><td>0.019830689</td><td>0.35434452</td><td>0.017696386</td><td>0.019266997</td><td>0.33655635</td><td>0.017095346</td><td>0.02127924</td><td>0.33241420000000005</td><td>0.018830385</td><td>0.020173822</td><td>0.27759045</td><td>0.0178042</td><td>0.022114987000000003</td><td>0.26336706</td><td>0.019472415</td><td>0.02468449</td><td>0.24977449999999998</td><td>0.021897815</td><td>0.04730941</td><td>0.20131816</td><td>0.04294418</td><td>0.06283736</td><td>0.27971506</td><td>0.05670017400000001</td><td>0.078165</td><td>0.3752203</td><td>0.07074463</td><td>0.11170316</td><td>0.29976857</td><td>0.10198122</td><td>0.6783806</td><td>0.09223387</td><td>0.584805</td><td>0.072224684</td><td>0.56252193</td><td>0.06819299599999999</td><td>0.5872622</td><td>0.06220075</td><td>--</td><td>--</td><td>--</td><td>0.07050000000000001</td><td>--</td><td>--</td><td>-0.957559740240685</td><td>0.11961292446595068</td><td>-0.8951209056895902</td><td>0.04220336773244535</td><td>0.2374623606267999</td><td>0.5682511831367529</td><td>0.9912911970527952</td><td>inf</td><td>0.93544218462424</td><td>-0.7522178075003274</td><td>0.13136470510234188</td><td>-0.8922031987994151</td><td>0.042389287200792214</td><td>-0.8560796378433729</td><td>0.7065434389839409</td><td>1.4090249596378532</td><td>inf</td><td>1.4234626177482659</td><td>16.29</td><td>15.92</td><td>0.0</td><td>0.0</td><td>0.0</td><td>nan</td><td>nan</td><td>nan</td><td>nan</td><td>nan</td><td>--</td><td>--</td><td>--</td><td>--</td><td>--</td><td>--</td><td>nan</td><td>--</td></tr>\n",
       "<tr><td>GLEAM J000010-433322</td><td>00:00:10.94</td><td>-43:33:22.78</td><td>0.045561563</td><td>0.00024368126</td><td>-43.554959999999994</td><td>0.00030899097</td><td>0.27</td><td>0.27</td><td>0.0059915837</td><td>140.83401</td><td>117.76378999999999</td><td>148.41922</td><td>120.42978000000001</td><td>0.28516529999999995</td><td>0.0049320543</td><td>0.005038756</td><td>144.04942</td><td>118.73945</td><td>151.4737</td><td>121.37813600000001</td><td>0.027226634</td><td>0.5778925</td><td>0.023570595</td><td>0.022623524</td><td>0.52276003</td><td>0.019657416</td><td>0.020663986000000002</td><td>0.49065974</td><td>0.017878873</td><td>0.017753664</td><td>0.48079237</td><td>0.01533284</td><td>0.01467825</td><td>0.44395444</td><td>0.012455529</td><td>0.013255008</td><td>0.43054220000000004</td><td>0.011243366000000001</td><td>0.012117008</td><td>0.39045830000000004</td><td>0.010243361</td><td>0.011824571499999999</td><td>0.38725343</td><td>0.009963372</td><td>0.009278841999999999</td><td>0.35228056</td><td>0.007872049</td><td>0.00898365</td><td>0.33592665</td><td>0.007553355</td><td>0.008618886</td><td>0.31812727</td><td>0.007200108</td><td>0.008447675</td><td>0.32604313</td><td>0.007055861</td><td>0.010445473</td><td>0.28334066</td><td>0.008654426</td><td>0.010774138</td><td>0.26047906</td><td>0.008908606999999999</td><td>0.010553466000000001</td><td>0.25505278</td><td>0.008642514</td><td>0.01032069</td><td>0.24233249999999998</td><td>0.008457817</td><td>0.023778655</td><td>0.5870639</td><td>0.020754775</td><td>0.01952268</td><td>0.5375714</td><td>0.016984189</td><td>0.016437596000000002</td><td>0.48709527</td><td>0.014229908000000001</td><td>0.01530461</td><td>0.49587172</td><td>0.013155983999999999</td><td>0.012826216000000001</td><td>0.43813866</td><td>0.011017019</td><td>0.010951963</td><td>0.41253850000000003</td><td>0.009331799</td><td>0.010392574</td><td>0.38302982</td><td>0.0087970635</td><td>0.009916435</td><td>0.375427</td><td>0.008371615</td><td>0.0073359786</td><td>0.3627307</td><td>0.0063192686</td><td>0.006809699000000001</td><td>0.34533459999999994</td><td>0.005875061700000001</td><td>0.006512164599999999</td><td>0.32290506</td><td>0.005614293</td><td>0.006407813</td><td>0.31147358</td><td>0.0054180278</td><td>0.008109895</td><td>0.303139</td><td>0.0067784563</td><td>0.008603345</td><td>0.27331558</td><td>0.007145614399999998</td><td>0.00820948</td><td>0.25423017</td><td>0.0068119930000000006</td><td>0.008848029</td><td>0.26185927</td><td>0.0072457519999999985</td><td>0.9050026</td><td>0.069843955</td><td>0.7277515999999999</td><td>0.04961322</td><td>0.66924924</td><td>0.042658947</td><td>0.5308001</td><td>0.04470602</td><td>0.4296</td><td>0.0437</td><td>--</td><td>0.0778</td><td>--</td><td>--</td><td>-1.0942306808892022</td><td>0.059671741336118474</td><td>-0.9295922108870268</td><td>0.08372361463483845</td><td>-0.7840644273006437</td><td>0.2219778209477329</td><td>2.536092527105647</td><td>inf</td><td>1.4115620734550836</td><td>-1.0619170311638548</td><td>0.04127391685040566</td><td>-0.9474489049144036</td><td>0.06465802896989079</td><td>-0.4668250977172314</td><td>0.17680697980791754</td><td>1.6930221991098202</td><td>inf</td><td>1.2163725813077475</td><td>14.52</td><td>13.33</td><td>0.0</td><td>0.0</td><td>0.0</td><td>nan</td><td>nan</td><td>nan</td><td>nan</td><td>nan</td><td>--</td><td>--</td><td>--</td><td>--</td><td>--</td><td>--</td><td>nan</td><td>--</td></tr>\n",
       "<tr><td>GLEAM J000010-440713</td><td>00:00:10.96</td><td>-44:07:13.25</td><td>0.045478455999999993</td><td>0.00035957727</td><td>-44.120743</td><td>0.00046313839999999996</td><td>0.19</td><td>0.19</td><td>0.006363899399999999</td><td>136.62894</td><td>116.65423600000001</td><td>148.41922</td><td>120.42978000000001</td><td>0.19104767</td><td>0.0050296057</td><td>0.005410035600000001</td><td>139.941</td><td>117.63904</td><td>151.4737</td><td>121.37813600000001</td><td>0.029880932000000002</td><td>0.34752414</td><td>0.025591431</td><td>0.025518192000000002</td><td>0.3280841</td><td>0.02172596</td><td>0.022907208999999998</td><td>0.3320595</td><td>0.019525493999999997</td><td>0.020293921</td><td>0.31905508</td><td>0.017120508</td><td>0.014927686</td><td>0.27670813</td><td>0.012557898</td><td>0.013096816</td><td>0.28046</td><td>0.010954625</td><td>0.011645273999999999</td><td>0.24504079</td><td>0.009679169</td><td>0.011004992</td><td>0.21956998</td><td>0.009115032</td><td>0.009618576</td><td>0.22837819</td><td>0.007901025</td><td>0.009306204</td><td>0.21496901</td><td>0.0076391823</td><td>0.009135851</td><td>0.21956143</td><td>0.007380797</td><td>0.009094811999999999</td><td>0.21416432</td><td>0.00734744</td><td>0.01165107</td><td>0.18359973</td><td>0.009340666999999999</td><td>0.011069447</td><td>0.19653529</td><td>0.008846568</td><td>0.01087145</td><td>0.17290325</td><td>0.008672129</td><td>0.011062065</td><td>0.17759907</td><td>0.008717510999999999</td><td>0.026036568</td><td>0.4306015</td><td>0.022406261</td><td>0.021996355</td><td>0.35844699999999996</td><td>0.01880937</td><td>0.01867433</td><td>0.31767952</td><td>0.015974479</td><td>0.017138243</td><td>0.30823752</td><td>0.014551042</td><td>0.013322212</td><td>0.27495742</td><td>0.01131727</td><td>0.011398027</td><td>0.25200188</td><td>0.009519075</td><td>0.009899035</td><td>0.24998838</td><td>0.008369571999999999</td><td>0.009696912</td><td>0.23547171</td><td>0.008071564</td><td>0.007939563</td><td>0.23286977</td><td>0.0066210213</td><td>0.0072159580000000015</td><td>0.22188815</td><td>0.005968356</td><td>0.0070896866000000015</td><td>0.20622088</td><td>0.0057772915</td><td>0.0067710113</td><td>0.20018104</td><td>0.005509305999999999</td><td>0.00873615</td><td>0.188834</td><td>0.007023080300000001</td><td>0.008862043</td><td>0.2048083</td><td>0.007060953000000002</td><td>0.009041733</td><td>0.16770448</td><td>0.0071403338</td><td>0.009501584</td><td>0.16814183</td><td>0.007419551</td><td>0.45139018</td><td>0.067687</td><td>0.48150784</td><td>0.051858135</td><td>0.48002344</td><td>0.04731458</td><td>0.43060327</td><td>0.047452543</td><td>0.306</td><td>0.0315</td><td>--</td><td>0.0602</td><td>--</td><td>--</td><td>-0.9940871185418101</td><td>0.06966691915261185</td><td>-0.8632101589540715</td><td>0.008036294187843065</td><td>-0.03678458915613495</td><td>0.3485083699482445</td><td>1.307111841759775</td><td>inf</td><td>1.4085023749362202</td><td>-1.1096619237811165</td><td>0.047920998468144016</td><td>-0.8385373657061188</td><td>0.07274205259392008</td><td>0.03512858358443638</td><td>0.3102837631560533</td><td>0.8970360942667956</td><td>inf</td><td>1.646274359141452</td><td>19.31</td><td>18.98</td><td>0.0</td><td>0.0</td><td>0.0</td><td>nan</td><td>nan</td><td>nan</td><td>nan</td><td>nan</td><td>--</td><td>--</td><td>--</td><td>--</td><td>--</td><td>--</td><td>nan</td><td>--</td></tr>\n",
       "<tr><td>GLEAM J000016-023646</td><td>00:00:16.56</td><td>-02:36:46.39</td><td>0.06681438</td><td>0.0010441180000000001</td><td>-2.6121159</td><td>0.0010928271</td><td>0.21</td><td>0.21</td><td>0.020142851</td><td>150.44299999999996</td><td>117.44193999999999</td><td>148.69186000000005</td><td>122.66718</td><td>0.19120458</td><td>0.011827408000000001</td><td>0.012002358999999999</td><td>151.35995</td><td>117.24081000000001</td><td>149.61955</td><td>122.47768400000001</td><td>0.042577695</td><td>0.28743234</td><td>0.03726925</td><td>0.03632174</td><td>0.39395979999999997</td><td>0.031820606</td><td>0.03358634</td><td>0.292448</td><td>0.029234571</td><td>0.029824875</td><td>0.26846302</td><td>0.025866255</td><td>0.025379987000000003</td><td>0.28562990000000005</td><td>0.02185492</td><td>0.023336337999999998</td><td>0.2814241</td><td>0.020174941000000002</td><td>0.02251189</td><td>0.24811238</td><td>0.019473936</td><td>0.021852897000000003</td><td>0.24569839</td><td>0.018904187</td><td>0.025950782000000002</td><td>0.19669698</td><td>0.022431865</td><td>0.02355076</td><td>0.24530306</td><td>0.020307044</td><td>0.025643693</td><td>0.1902519</td><td>0.022141788</td><td>0.026828763999999998</td><td>0.24438265</td><td>0.023113951</td><td>0.034236874</td><td>0.1613854</td><td>0.029262085</td><td>0.035926398</td><td>0.20091598</td><td>0.030636642000000002</td><td>0.040114716</td><td>0.23566914</td><td>0.03424392</td><td>0.04445583400000002</td><td>0.19817916</td><td>0.03812998</td><td>0.032294195</td><td>0.3156538</td><td>0.028324451</td><td>0.026872067000000003</td><td>0.29806954</td><td>0.023243662000000002</td><td>0.02359278</td><td>0.325173</td><td>0.02092633</td><td>0.021563152000000002</td><td>0.26183546</td><td>0.019013138</td><td>0.017769657</td><td>0.2745337</td><td>0.015473491</td><td>0.01635714</td><td>0.27052706</td><td>0.014204448</td><td>0.015157918999999999</td><td>0.2631585</td><td>0.013160241000000001</td><td>0.015284405</td><td>0.23373082</td><td>0.013319331</td><td>0.015703116</td><td>0.22526571</td><td>0.013756896999999999</td><td>0.014988576000000003</td><td>0.21361026</td><td>0.012893243</td><td>0.014395513</td><td>0.23882784</td><td>0.012400711000000002</td><td>0.015262399999999999</td><td>0.20639662</td><td>0.013042208000000001</td><td>0.019159753</td><td>0.19966692</td><td>0.016466144</td><td>0.020364325</td><td>0.19482120000000008</td><td>0.017522799</td><td>0.024685966</td><td>0.19516608</td><td>0.021106238</td><td>0.027006434</td><td>0.17308311</td><td>0.023175651000000002</td><td>0.38460243</td><td>0.0993119</td><td>0.23879522</td><td>0.07877242599999999</td><td>0.3134903</td><td>0.07153568</td><td>0.3805367</td><td>0.06401114</td><td>0.2284</td><td>0.0243</td><td>--</td><td>--</td><td>0.0608</td><td>--</td><td>-0.7091677384929473</td><td>0.1694635298186026</td><td>-0.5889522674017902</td><td>0.03337222888897858</td><td>0.10137504390339798</td><td>0.7937500222876618</td><td>1.4865709904021729</td><td>inf</td><td>1.5542333365742291</td><td>-0.7693588640508726</td><td>0.07294521101704425</td><td>-0.6636389408484624</td><td>0.04168349023353821</td><td>-0.4551861699295046</td><td>0.3456790591420821</td><td>0.5257679091738311</td><td>inf</td><td>0.6114946917236582</td><td>16.22</td><td>16.54</td><td>0.0</td><td>0.0</td><td>0.0</td><td>nan</td><td>nan</td><td>nan</td><td>00 00 16.31</td><td>-02 36 48.9</td><td>--</td><td>--</td><td>--</td><td>--</td><td>--</td><td>--</td><td>nan</td><td>--</td></tr>\n",
       "<tr><td>GLEAM J000017-080842</td><td>00:00:17.77</td><td>-08:08:42.40</td><td>0.07439657</td><td>0.00038614927</td><td>-8.146224</td><td>0.00042097031999999997</td><td>0.21</td><td>0.21</td><td>0.0073731230000000005</td><td>142.67923000000005</td><td>117.51682</td><td>146.30392</td><td>119.68745</td><td>0.21803948</td><td>0.005253997</td><td>0.00534732</td><td>144.61858999999995</td><td>118.43621</td><td>148.19586</td><td>120.59241499999999</td><td>0.037749548</td><td>0.42605683</td><td>0.032729037</td><td>0.034823033999999996</td><td>0.45353484</td><td>0.030143042999999998</td><td>0.030500596</td><td>0.36729228</td><td>0.026360154</td><td>0.027054363999999997</td><td>0.38791537</td><td>0.02338828</td><td>0.022315802000000003</td><td>0.3347312</td><td>0.019329539</td><td>0.019293193</td><td>0.30188835</td><td>0.016601599999999998</td><td>0.016666556000000003</td><td>0.3358629</td><td>0.014348333000000001</td><td>0.015365793</td><td>0.27343340000000005</td><td>0.013376656</td><td>0.015442817</td><td>0.26405206</td><td>0.013414398999999999</td><td>0.013569811000000001</td><td>0.2815705</td><td>0.011774736000000001</td><td>0.013321165</td><td>0.27834266</td><td>0.011313486999999999</td><td>0.01336307</td><td>0.24243398</td><td>0.011398365</td><td>0.01386351</td><td>0.23685077</td><td>0.011742101000000001</td><td>0.01352056</td><td>0.21835184</td><td>0.011453217</td><td>0.013311156000000001</td><td>0.20283666</td><td>0.011231685</td><td>0.0141305225</td><td>0.19323902</td><td>0.011910641999999999</td><td>0.03236808</td><td>0.44410524</td><td>0.028286558</td><td>0.027976192999999996</td><td>0.45911905</td><td>0.024200832000000002</td><td>0.022833345</td><td>0.40589237</td><td>0.019899935</td><td>0.021774727999999997</td><td>0.37628815</td><td>0.018963512</td><td>0.01739201</td><td>0.3435557</td><td>0.014964545</td><td>0.015260441000000001</td><td>0.3298096</td><td>0.01353222</td><td>0.013466533000000001</td><td>0.30351996</td><td>0.01182408</td><td>0.013149124</td><td>0.27301863</td><td>0.011355638000000001</td><td>0.010583127</td><td>0.2734446</td><td>0.009224509</td><td>0.009802741</td><td>0.26677027</td><td>0.008496299</td><td>0.009009074</td><td>0.24955714</td><td>0.007998423000000001</td><td>0.008091983</td><td>0.25233817</td><td>0.006929952</td><td>0.009005796</td><td>0.22907339999999998</td><td>0.0076154633</td><td>0.008914854</td><td>0.22158433</td><td>0.007550195999999999</td><td>0.009384148</td><td>0.2183726</td><td>0.007910594</td><td>0.010385684000000001</td><td>0.20510836</td><td>0.008772606</td><td>0.83793485</td><td>0.09816176</td><td>0.5368389</td><td>0.07454082</td><td>0.40240136</td><td>0.06366889</td><td>0.57376003</td><td>0.05577037</td><td>0.3477</td><td>0.0353</td><td>--</td><td>--</td><td>0.0337</td><td>0.57</td><td>-1.069368674770388</td><td>0.0823716216952838</td><td>-1.0314393144369849</td><td>0.05748760402478479</td><td>-0.69524035473289</td><td>0.3877526870383105</td><td>1.4787781318975</td><td>inf</td><td>1.6464014171911827</td><td>-1.0660054195038042</td><td>0.04187028214340408</td><td>-0.9990580035190262</td><td>0.002473499951232458</td><td>0.06332550818609152</td><td>0.19627356661476247</td><td>0.6660084410969499</td><td>inf</td><td>0.6279212309791389</td><td>14.70</td><td>17.33</td><td>0.0</td><td>0.0</td><td>0.0</td><td>nan</td><td>nan</td><td>nan</td><td>00 00 17.81</td><td>-08 08 45.4</td><td>--</td><td>--</td><td>--</td><td>--</td><td>--</td><td>--</td><td>nan</td><td>--</td></tr>\n",
       "<tr><td>...</td><td>...</td><td>...</td><td>...</td><td>...</td><td>...</td><td>...</td><td>...</td><td>...</td><td>...</td><td>...</td><td>...</td><td>...</td><td>...</td><td>...</td><td>...</td><td>...</td><td>...</td><td>...</td><td>...</td><td>...</td><td>...</td><td>...</td><td>...</td><td>...</td><td>...</td><td>...</td><td>...</td><td>...</td><td>...</td><td>...</td><td>...</td><td>...</td><td>...</td><td>...</td><td>...</td><td>...</td><td>...</td><td>...</td><td>...</td><td>...</td><td>...</td><td>...</td><td>...</td><td>...</td><td>...</td><td>...</td><td>...</td><td>...</td><td>...</td><td>...</td><td>...</td><td>...</td><td>...</td><td>...</td><td>...</td><td>...</td><td>...</td><td>...</td><td>...</td><td>...</td><td>...</td><td>...</td><td>...</td><td>...</td><td>...</td><td>...</td><td>...</td><td>...</td><td>...</td><td>...</td><td>...</td><td>...</td><td>...</td><td>...</td><td>...</td><td>...</td><td>...</td><td>...</td><td>...</td><td>...</td><td>...</td><td>...</td><td>...</td><td>...</td><td>...</td><td>...</td><td>...</td><td>...</td><td>...</td><td>...</td><td>...</td><td>...</td><td>...</td><td>...</td><td>...</td><td>...</td><td>...</td><td>...</td><td>...</td><td>...</td><td>...</td><td>...</td><td>...</td><td>...</td><td>...</td><td>...</td><td>...</td><td>...</td><td>...</td><td>...</td><td>...</td><td>...</td><td>...</td><td>...</td><td>...</td><td>...</td><td>...</td><td>...</td><td>...</td><td>...</td><td>...</td><td>...</td><td>...</td><td>...</td><td>...</td><td>...</td><td>...</td><td>...</td><td>...</td><td>...</td><td>...</td><td>...</td><td>...</td><td>...</td><td>...</td><td>...</td><td>...</td><td>...</td><td>...</td><td>...</td><td>...</td><td>...</td><td>...</td><td>...</td><td>...</td><td>...</td><td>...</td><td>...</td><td>...</td><td>...</td><td>...</td><td>...</td><td>...</td><td>...</td><td>...</td><td>...</td><td>...</td><td>...</td><td>...</td><td>...</td><td>...</td><td>...</td><td>...</td><td>...</td><td>...</td><td>...</td></tr>\n",
       "<tr><td>GLEAM J235933-074113</td><td>23:59:33.63</td><td>-07:41:13.84</td><td>359.8892</td><td>0.0003756667</td><td>-7.687788999999999</td><td>0.00040311169999999996</td><td>0.27</td><td>0.27</td><td>0.007944826</td><td>150.22801</td><td>119.635506</td><td>146.30392</td><td>119.68745</td><td>0.28097507</td><td>0.006308649699999999</td><td>0.006052329699999999</td><td>152.07113999999999</td><td>120.5386</td><td>148.19586</td><td>120.59241499999999</td><td>0.03803945</td><td>0.44346324</td><td>0.033338908</td><td>0.03444463</td><td>0.45760329999999994</td><td>0.030586846</td><td>0.030532797999999996</td><td>0.40351504</td><td>0.026769558</td><td>0.027079485</td><td>0.42689013</td><td>0.023817183</td><td>0.019924337</td><td>0.3545711</td><td>0.01770867</td><td>0.017939355</td><td>0.36757877</td><td>0.015748171000000002</td><td>0.016031023000000002</td><td>0.34145802</td><td>0.014106646</td><td>0.014678186000000001</td><td>0.3276991</td><td>0.01292289</td><td>0.015357827</td><td>0.35575774</td><td>0.013569551499999999</td><td>0.014199326000000003</td><td>0.3302653</td><td>0.012501267</td><td>0.013598648999999999</td><td>0.29664344</td><td>0.011995386</td><td>0.014231933</td><td>0.31825343</td><td>0.012642478</td><td>0.014303148</td><td>0.28235823</td><td>0.012721999</td><td>0.014355642</td><td>0.2954724</td><td>0.01276721</td><td>0.013703978</td><td>0.27280852</td><td>0.0122155035</td><td>0.015125863</td><td>0.24897572</td><td>0.013511612</td><td>0.032436915</td><td>0.47319472</td><td>0.02876586</td><td>0.026768548</td><td>0.4795614</td><td>0.023815019</td><td>0.023395343</td><td>0.42882144</td><td>0.02047533</td><td>0.02169993</td><td>0.40368372</td><td>0.019139795</td><td>0.01560569</td><td>0.37555107</td><td>0.01388094</td><td>0.013676033999999998</td><td>0.38190928</td><td>0.01209263</td><td>0.0121381525</td><td>0.35707816</td><td>0.010657386000000001</td><td>0.011165000500000001</td><td>0.35378253</td><td>0.009847148</td><td>0.01090919</td><td>0.34044945</td><td>0.009637543</td><td>0.009932492</td><td>0.319456</td><td>0.008765739</td><td>0.009603013</td><td>0.30614707</td><td>0.00850628</td><td>0.008959932</td><td>0.30470365</td><td>0.00798028</td><td>0.009541046999999999</td><td>0.291125</td><td>0.008420756</td><td>0.009498997</td><td>0.29897052</td><td>0.008449519</td><td>0.010042668000000001</td><td>0.27361745</td><td>0.00891292</td><td>0.010717717</td><td>0.26257145</td><td>0.00956655</td><td>0.6644711999999999</td><td>0.09892938</td><td>0.5743710999999999</td><td>0.06836883</td><td>0.52682734</td><td>0.05939952</td><td>0.5050482</td><td>0.055182084000000006</td><td>0.2987</td><td>0.0304</td><td>--</td><td>--</td><td>0.0729</td><td>0.53</td><td>-0.7202656824750677</td><td>0.07302208818445613</td><td>-0.7156472440673854</td><td>0.03868289336694882</td><td>-0.3485767984932368</td><td>0.3369545513961211</td><td>1.3863627861237495</td><td>inf</td><td>1.3845306899199326</td><td>-0.7887576915814903</td><td>0.03256235619171725</td><td>-0.7272272872960146</td><td>0.04036455477176118</td><td>-0.1440327047882953</td><td>0.1808411317446482</td><td>0.4937352624220995</td><td>inf</td><td>0.6858133357918111</td><td>9.96</td><td>10.70</td><td>0.0</td><td>0.0</td><td>0.0</td><td>nan</td><td>nan</td><td>nan</td><td>23 59 33.40</td><td>-07 41 14.7</td><td>--</td><td>--</td><td>--</td><td>--</td><td>--</td><td>--</td><td>nan</td><td>--</td></tr>\n",
       "<tr><td>GLEAM J235934-373430</td><td>23:59:34.47</td><td>-37:34:30.96</td><td>359.89398</td><td>0.00042335775999999996</td><td>-37.57651</td><td>0.0004896055</td><td>0.17</td><td>0.17</td><td>0.006033525</td><td>146.67446999999999</td><td>119.83261999999999</td><td>144.19409</td><td>119.04336</td><td>0.17579308</td><td>0.0048174392</td><td>0.0046872552000000005</td><td>148.02524</td><td>119.86181</td><td>145.56788999999995</td><td>119.06785</td><td>0.026188226000000002</td><td>0.27266994</td><td>0.023155152999999998</td><td>0.021124978</td><td>0.24340937</td><td>0.018845223</td><td>0.019473797</td><td>0.26399</td><td>0.01720492</td><td>0.016896518</td><td>0.2494172</td><td>0.014960113999999997</td><td>0.013637225</td><td>0.2034552</td><td>0.012043281000000001</td><td>0.011686752</td><td>0.23917514</td><td>0.01046823</td><td>0.010946242</td><td>0.19903138</td><td>0.009673250999999999</td><td>0.01004275</td><td>0.20178010000000002</td><td>0.008854143</td><td>0.010916064</td><td>0.19306047</td><td>0.009633515</td><td>0.010651404</td><td>0.19378285</td><td>0.009370957</td><td>0.00976159</td><td>0.16862012</td><td>0.008658391999999999</td><td>0.00968597</td><td>0.17828794</td><td>0.008545146</td><td>0.010283566999999999</td><td>0.17043403</td><td>0.009158728</td><td>0.010377716</td><td>0.1789711</td><td>0.0092339665</td><td>0.010703286000000001</td><td>0.17135318</td><td>0.009533773</td><td>0.010306119</td><td>0.16037478</td><td>0.009134182</td><td>0.024187628</td><td>0.27540722</td><td>0.021670422999999998</td><td>0.019545438000000002</td><td>0.27229553</td><td>0.017414102</td><td>0.015699714</td><td>0.24674945</td><td>0.013892955</td><td>0.014271343999999997</td><td>0.23976701</td><td>0.012636327</td><td>0.011911063999999999</td><td>0.23153184</td><td>0.01062097</td><td>0.009590603</td><td>0.21641937</td><td>0.0084346235</td><td>0.009430906</td><td>0.20252812</td><td>0.0083595645</td><td>0.008695507</td><td>0.19787279</td><td>0.007695705</td><td>0.008042331</td><td>0.19479276</td><td>0.007115956999999998</td><td>0.007302453299999998</td><td>0.19142613</td><td>0.006434942</td><td>0.006743536</td><td>0.19214565</td><td>0.0059798886</td><td>0.006362527</td><td>0.18340652</td><td>0.0056297890000000005</td><td>0.00761519</td><td>0.1717109</td><td>0.0067440537</td><td>0.007959835</td><td>0.18396209</td><td>0.0070690624</td><td>0.008562789</td><td>0.16476461</td><td>0.0076140930000000015</td><td>0.009280739</td><td>0.17745957</td><td>0.008268161</td><td>0.42528483</td><td>0.06443541</td><td>0.2938341</td><td>0.048755392</td><td>0.3195272</td><td>0.045318313</td><td>0.38127259999999996</td><td>0.04121465</td><td>0.2412</td><td>0.0246</td><td>--</td><td>0.0699</td><td>0.041100000000000005</td><td>--</td><td>-0.6957249278222628</td><td>0.07190451155861105</td><td>-0.7090366503427137</td><td>0.06291686213797175</td><td>0.16408130220963266</td><td>0.3553502490619019</td><td>1.0339832118195622</td><td>9.621653254953644</td><td>1.3156536447944152</td><td>-0.6701745834434816</td><td>0.04193800107805983</td><td>-0.7519355791622658</td><td>0.039642187806901485</td><td>0.3472388631104913</td><td>0.22421784191253727</td><td>0.4967311353977575</td><td>5.255009337542804</td><td>0.5606538409560429</td><td>15.47</td><td>13.05</td><td>0.0</td><td>0.0</td><td>0.0</td><td>nan</td><td>nan</td><td>nan</td><td>23 59 34.46</td><td>-37 34 35.8</td><td>--</td><td>--</td><td>--</td><td>--</td><td>--</td><td>--</td><td>nan</td><td>--</td></tr>\n",
       "<tr><td>GLEAM J235938-153327</td><td>23:59:38.56</td><td>-15:33:27.36</td><td>359.91016</td><td>0.00034165190000000003</td><td>-15.557910000000001</td><td>0.00037980406</td><td>0.21</td><td>0.21</td><td>0.0061417897</td><td>141.41308999999995</td><td>117.42653999999999</td><td>143.21577</td><td>114.7937</td><td>0.20896588</td><td>0.0045720176000000005</td><td>0.004479456</td><td>143.26895</td><td>118.40921999999999</td><td>145.04856999999996</td><td>115.79936000000001</td><td>0.02957067</td><td>0.3316155</td><td>0.026755221000000003</td><td>0.024293627999999998</td><td>0.33295476</td><td>0.021570226</td><td>0.020131186000000002</td><td>0.35901803</td><td>0.017721357</td><td>0.018299285</td><td>0.32719684</td><td>0.016045857</td><td>0.015554968999999997</td><td>0.2874804</td><td>0.013620963</td><td>0.012984663</td><td>0.28267163</td><td>0.011363806</td><td>0.012097776999999999</td><td>0.25984955</td><td>0.010606026000000001</td><td>0.011180849</td><td>0.23663227</td><td>0.009809311</td><td>0.01246632</td><td>0.2455616</td><td>0.010879508000000001</td><td>0.011459331000000001</td><td>0.24284798</td><td>0.010079175</td><td>0.011048213999999999</td><td>0.24233904</td><td>0.009700519</td><td>0.010565295</td><td>0.22016495</td><td>0.009266238000000001</td><td>0.011256196000000001</td><td>0.22088385</td><td>0.009888832</td><td>0.011280626</td><td>0.19559279</td><td>0.009913736</td><td>0.01125695</td><td>0.22266905</td><td>0.009846397</td><td>0.011094246</td><td>0.1963199</td><td>0.009714654</td><td>0.02725834</td><td>0.36982056</td><td>0.025049732999999998</td><td>0.019922735</td><td>0.33655050000000003</td><td>0.01815413</td><td>0.015565088000000001</td><td>0.34997976</td><td>0.013889044</td><td>0.014933661</td><td>0.31799963</td><td>0.013112686</td><td>0.011188752</td><td>0.2913018</td><td>0.009820218</td><td>0.01004249</td><td>0.2771645</td><td>0.008887232</td><td>0.008676511999999999</td><td>0.26313272</td><td>0.007550208</td><td>0.00858178</td><td>0.26863775</td><td>0.007511512</td><td>0.008284632</td><td>0.25102016</td><td>0.0073193780000000005</td><td>0.0075751618000000015</td><td>0.23121053</td><td>0.006613890999999999</td><td>0.0069444478000000006</td><td>0.22521715</td><td>0.006153222</td><td>0.0069764513</td><td>0.22404657</td><td>0.0062060286</td><td>0.008002079</td><td>0.21886319</td><td>0.007054091</td><td>0.008063011</td><td>0.2167021</td><td>0.007068264</td><td>0.008138061</td><td>0.2104493</td><td>0.007142719000000001</td><td>0.008832084</td><td>0.18230881</td><td>0.007771366</td><td>0.5759856</td><td>0.07759447</td><td>0.40629342</td><td>0.058447845</td><td>0.3784204</td><td>0.052073617</td><td>0.371456</td><td>0.04450779</td><td>0.2293</td><td>0.0249</td><td>--</td><td>--</td><td>0.0485</td><td>0.45</td><td>-0.7802173344703532</td><td>0.06780642597901576</td><td>-0.779925775197066</td><td>0.05884458261796514</td><td>0.13212954852226735</td><td>0.34574776913510463</td><td>1.2580900553280487</td><td>inf</td><td>1.4616030645375002</td><td>-0.8625238763211514</td><td>0.04754919071649357</td><td>-0.774314664900888</td><td>0.03183631298101232</td><td>-0.06747101506594386</td><td>0.2593276570724454</td><td>0.9988081634663748</td><td>inf</td><td>1.0662423217909724</td><td>16.72</td><td>15.40</td><td>0.0</td><td>0.0</td><td>0.0</td><td>nan</td><td>nan</td><td>nan</td><td>23 59 38.31</td><td>-15 33 28.4</td><td>--</td><td>--</td><td>--</td><td>--</td><td>--</td><td>--</td><td>nan</td><td>--</td></tr>\n",
       "<tr><td>GLEAM J235939-510034</td><td>23:59:39.25</td><td>-51:00:34.51</td><td>359.91266</td><td>0.0014307885</td><td>-51.008743</td><td>0.001900559</td><td>0.18</td><td>0.18</td><td>0.017922234</td><td>143.61333</td><td>123.23326999999999</td><td>147.6387</td><td>120.62931999999999</td><td>0.18039818</td><td>0.018275615</td><td>0.01801111</td><td>146.59006000000005</td><td>124.75326499999998</td><td>150.53586</td><td>122.17331999999999</td><td>0.03375549</td><td>0.33378518</td><td>0.029530877</td><td>0.02705634</td><td>0.31172675</td><td>0.023781657</td><td>0.024060417</td><td>0.3356868</td><td>0.020944133</td><td>0.02256287</td><td>0.28638990000000003</td><td>0.019689633999999998</td><td>0.020743687</td><td>0.2620567</td><td>0.018057957</td><td>0.018696364</td><td>0.23416227</td><td>0.01617903</td><td>0.017300192</td><td>0.27857566</td><td>0.015086916</td><td>0.0159684</td><td>0.22586007</td><td>0.013999407</td><td>0.016581813</td><td>0.20452116</td><td>0.014621701</td><td>0.017683523</td><td>0.19758251</td><td>0.0153661035</td><td>0.018346481</td><td>0.18911701</td><td>0.015926271999999998</td><td>0.020410338</td><td>0.17144419</td><td>0.017724328</td><td>0.028009983</td><td>0.18010993</td><td>0.024358831</td><td>0.03188225</td><td>0.19557457</td><td>0.028006531</td><td>0.03642166</td><td>0.14719272</td><td>0.032036852000000005</td><td>0.039036932999999996</td><td>0.20928827</td><td>0.03408488</td><td>0.027622322999999997</td><td>0.36714184</td><td>0.024394615</td><td>0.023016157000000002</td><td>0.32511848</td><td>0.020102656</td><td>0.019848598000000002</td><td>0.31488296</td><td>0.017417764</td><td>0.017444866</td><td>0.27514959999999994</td><td>0.015512876</td><td>0.017836958</td><td>0.26193320000000003</td><td>0.015469743999999999</td><td>0.015041876000000001</td><td>0.26633176</td><td>0.0131226275</td><td>0.013966133</td><td>0.22966242</td><td>0.012226664</td><td>0.013717801000000002</td><td>0.23821856</td><td>0.011945642</td><td>0.0144749405</td><td>0.2170246</td><td>0.012607165</td><td>0.014053823</td><td>0.2080605</td><td>0.01227005</td><td>0.013526788</td><td>0.21368378</td><td>0.011808443</td><td>0.016497716000000003</td><td>0.19525447</td><td>0.014304967</td><td>0.0267211</td><td>0.1788233</td><td>0.023451367</td><td>0.031423725</td><td>0.16224985</td><td>0.027672183</td><td>0.037040178</td><td>0.19358989999999998</td><td>0.03256583</td><td>0.04208351</td><td>0.16759922</td><td>0.036416885</td><td>0.57889354</td><td>0.06272247</td><td>0.4461994000000001</td><td>0.04805051</td><td>0.4752201</td><td>0.045904737</td><td>0.34534883</td><td>0.040451206</td><td>0.1849</td><td>0.019</td><td>--</td><td>0.047200000000000006</td><td>--</td><td>--</td><td>-1.0326325362205249</td><td>0.1203907394924328</td><td>-0.9487254128636452</td><td>0.04983286958257168</td><td>0.0013411964666542413</td><td>0.575621433455185</td><td>1.0462966202316368</td><td>inf</td><td>1.1512296668535291</td><td>-0.9827597096127368</td><td>0.056989811535837286</td><td>-0.9954279735471944</td><td>0.049042075662946265</td><td>0.025771693915485814</td><td>0.31981032599563963</td><td>0.3028457907038304</td><td>inf</td><td>0.3665613389852676</td><td>12.73</td><td>11.96</td><td>0.0</td><td>0.0</td><td>0.0</td><td>nan</td><td>nan</td><td>nan</td><td>nan</td><td>nan</td><td>--</td><td>--</td><td>--</td><td>--</td><td>--</td><td>--</td><td>nan</td><td>--</td></tr>\n",
       "<tr><td>GLEAM J235943-101853</td><td>23:59:43.36</td><td>-10:18:53.65</td><td>359.9298</td><td>0.0002834348</td><td>-10.314751</td><td>0.00030787435000000004</td><td>0.25</td><td>0.25</td><td>0.0059907319999999995</td><td>142.42801</td><td>115.05787</td><td>144.72253</td><td>116.94672</td><td>0.24940746</td><td>0.0044604125</td><td>0.0045258356</td><td>144.19376</td><td>116.04323000000001</td><td>146.46062</td><td>117.91788500000001</td><td>0.034719907</td><td>0.45554128</td><td>0.030319806</td><td>0.03045298</td><td>0.40034297</td><td>0.026424887</td><td>0.027728705</td><td>0.45943198</td><td>0.023908138</td><td>0.02637853</td><td>0.4080094</td><td>0.022732972999999997</td><td>0.020922763</td><td>0.39061075</td><td>0.017948693</td><td>0.018904421</td><td>0.35809362</td><td>0.016195588</td><td>0.017818505</td><td>0.34468000000000004</td><td>0.0153688565</td><td>0.015988158</td><td>0.32886636</td><td>0.013669773</td><td>0.013044968</td><td>0.31642370000000003</td><td>0.011233993000000001</td><td>0.01112741</td><td>0.30763358</td><td>0.009587579</td><td>0.010958542</td><td>0.30913413</td><td>0.009368188000000001</td><td>0.010755097</td><td>0.28687572</td><td>0.00916142</td><td>0.0111621125</td><td>0.25677246</td><td>0.009478483000000001</td><td>0.010987928999999999</td><td>0.25629053</td><td>0.009347435</td><td>0.010690989</td><td>0.24501152</td><td>0.009108489</td><td>0.011319513</td><td>0.2396107</td><td>0.009584796</td><td>0.02974606</td><td>0.48163214</td><td>0.026171923</td><td>0.024687171</td><td>0.45705998</td><td>0.02154289</td><td>0.022696825</td><td>0.42997384</td><td>0.019896813</td><td>0.019311236000000002</td><td>0.4143059</td><td>0.016747</td><td>0.01605688</td><td>0.3696683</td><td>0.013905868</td><td>0.013527303999999999</td><td>0.3658027</td><td>0.011681213000000001</td><td>0.012167092</td><td>0.35045993</td><td>0.01070698</td><td>0.010953758000000001</td><td>0.32650527</td><td>0.009518838</td><td>0.008655066</td><td>0.32234624</td><td>0.0074537974</td><td>0.00846094</td><td>0.29441833</td><td>0.0072989147</td><td>0.007531215</td><td>0.29309842</td><td>0.0064692562</td><td>0.0073894016000000005</td><td>0.28478736</td><td>0.006302515</td><td>0.007612108</td><td>0.2517444</td><td>0.0065291463</td><td>0.007716361</td><td>0.2586583</td><td>0.0065475394999999995</td><td>0.007755031</td><td>0.25866064</td><td>0.006580400699999999</td><td>0.008312709</td><td>0.23968503</td><td>0.007079105</td><td>0.7371719</td><td>0.07610562</td><td>0.64336056</td><td>0.05916797</td><td>0.5130599</td><td>0.051130995</td><td>0.4274595000000001</td><td>0.044554002999999995</td><td>0.3369</td><td>0.0351</td><td>--</td><td>--</td><td>0.0409</td><td>0.89</td><td>-0.9131011035784684</td><td>0.054706022026064255</td><td>-0.9972762702373208</td><td>0.04318676052768853</td><td>-0.602118314036962</td><td>0.22005173691360125</td><td>1.051267887070883</td><td>inf</td><td>0.8263846468998882</td><td>-0.9454433432392484</td><td>0.04475005052674754</td><td>-0.9816959746127564</td><td>0.009538150060290134</td><td>-0.12470817859921912</td><td>0.2309825174042534</td><td>1.1575477396242864</td><td>inf</td><td>1.0026971358555998</td><td>9.93</td><td>10.22</td><td>0.0</td><td>0.0</td><td>0.0</td><td>nan</td><td>nan</td><td>nan</td><td>23 59 43.38</td><td>-10 18 49.2</td><td>--</td><td>--</td><td>--</td><td>--</td><td>--</td><td>--</td><td>nan</td><td>--</td></tr>\n",
       "<tr><td>GLEAM J235945-330350</td><td>23:59:45.73</td><td>-33:03:50.93</td><td>359.94016</td><td>6.4938635e-05</td><td>-33.064796</td><td>7.960717e-05</td><td>1.08</td><td>1.08</td><td>0.006128749</td><td>138.81148000000002</td><td>115.05627</td><td>145.26129</td><td>119.44443999999999</td><td>1.0952574</td><td>0.0050371126</td><td>0.005188007</td><td>141.42587</td><td>116.8126</td><td>147.76161000000005</td><td>121.1336</td><td>0.029315114</td><td>2.3336647</td><td>0.025439247</td><td>0.02444633</td><td>2.1989286</td><td>0.02099081</td><td>0.02174296</td><td>2.0300572</td><td>0.018753798999999998</td><td>0.019089703</td><td>1.880437</td><td>0.01618341</td><td>0.0144832665</td><td>1.7026212</td><td>0.012358812</td><td>0.0126129575</td><td>1.6288292</td><td>0.0106815575</td><td>0.0115726115</td><td>1.5241536</td><td>0.009814084</td><td>0.010944302</td><td>1.4622583</td><td>0.009194484000000001</td><td>0.011560241</td><td>1.3730255</td><td>0.009648454</td><td>0.010822365</td><td>1.3244708</td><td>0.008989555</td><td>0.009674387</td><td>1.233259</td><td>0.00801573</td><td>0.009258264</td><td>1.1728418</td><td>0.007635398299999999</td><td>0.009697958000000001</td><td>1.1204478</td><td>0.007983975</td><td>0.009732045</td><td>1.0746962</td><td>0.007975253</td><td>0.009409369</td><td>1.0349277</td><td>0.0076438426</td><td>0.009927731</td><td>0.9967004</td><td>0.008068678000000001</td><td>0.025295007999999997</td><td>2.3372297000000004</td><td>0.021764832</td><td>0.02152451</td><td>2.1897017999999995</td><td>0.018573366</td><td>0.017854577</td><td>2.045972</td><td>0.015281738999999999</td><td>0.016076803</td><td>1.9001322</td><td>0.013754826999999999</td><td>0.012138639</td><td>1.7081203</td><td>0.010386882</td><td>0.011006337</td><td>1.610282</td><td>0.009398439</td><td>0.010126216</td><td>1.5368973999999995</td><td>0.008547233000000001</td><td>0.009123653</td><td>1.4404674</td><td>0.0076755209999999985</td><td>0.008816964</td><td>1.3764936</td><td>0.0073980573</td><td>0.007875586</td><td>1.313259</td><td>0.0066381376</td><td>0.0071864393999999995</td><td>1.2630752</td><td>0.006045015</td><td>0.0067514842</td><td>1.1887093999999998</td><td>0.005596139</td><td>0.0077788266</td><td>1.1370327</td><td>0.0064493595</td><td>0.0075720367000000005</td><td>1.0936847</td><td>0.00621219</td><td>0.0078072525</td><td>1.0611438</td><td>0.00636205</td><td>0.008247741</td><td>0.999808</td><td>0.006705324</td><td>3.3799943999999997</td><td>0.062181555</td><td>3.068988</td><td>0.048044092999999996</td><td>2.7773511</td><td>0.041384973</td><td>2.5138736</td><td>0.037145543999999996</td><td>1.7241</td><td>0.1727</td><td>--</td><td>0.2421</td><td>0.1278</td><td>4.03</td><td>-1.1361885664188585</td><td>0.016429672813926082</td><td>-1.1183673610813774</td><td>0.018052299415549783</td><td>-0.16983631543675926</td><td>0.05456303828173858</td><td>1.449662683127838</td><td>1.5501592062657692</td><td>0.7855373261200841</td><td>-1.1231620384749537</td><td>0.009060587127743195</td><td>-1.1330560823062141</td><td>0.021855538765122463</td><td>-0.0915262481467624</td><td>0.04493774631752285</td><td>0.5194393377825729</td><td>2.298900956020653</td><td>0.5013164131256177</td><td>14.23</td><td>11.36</td><td>0.0</td><td>0.0</td><td>0.0</td><td>nan</td><td>nan</td><td>nan</td><td>23 59 45.44</td><td>-33 03 54.8</td><td>--</td><td>--</td><td>--</td><td>--</td><td>--</td><td>--</td><td>nan</td><td>--</td></tr>\n",
       "<tr><td>GLEAM J235957-255135</td><td>23:59:57.31</td><td>-25:51:35.06</td><td>359.98913999999996</td><td>0.00031785129</td><td>-25.859973999999998</td><td>0.00034621900000000004</td><td>0.18</td><td>0.18</td><td>0.0044374545</td><td>145.57317</td><td>113.72476999999999</td><td>145.97229</td><td>117.8616</td><td>0.18400924</td><td>0.0036855284</td><td>0.0037114325</td><td>147.63922</td><td>115.55658999999999</td><td>148.03278</td><td>119.62851</td><td>0.024428553999999998</td><td>0.25543624</td><td>0.021373302</td><td>0.019276636</td><td>0.29474446</td><td>0.016953183</td><td>0.016664805</td><td>0.26736972</td><td>0.014591352</td><td>0.015560856999999999</td><td>0.24889854</td><td>0.013453203</td><td>0.013350373</td><td>0.23439157</td><td>0.011599291000000001</td><td>0.011361784</td><td>0.20616142</td><td>0.00979467</td><td>0.011373591</td><td>0.20247212</td><td>0.009800037</td><td>0.010994193000000001</td><td>0.22150044</td><td>0.009412761</td><td>0.012070018</td><td>0.19751849999999999</td><td>0.010370342</td><td>0.011768787</td><td>0.18267637</td><td>0.010071413000000001</td><td>0.010593151</td><td>0.20632717</td><td>0.009044574</td><td>0.010230804</td><td>0.19706132</td><td>0.008663555</td><td>0.008177818</td><td>0.17048384</td><td>0.007077599</td><td>0.008600686</td><td>0.19143708</td><td>0.0073177009999999985</td><td>0.0071590835999999995</td><td>0.1745233</td><td>0.006110944</td><td>0.0076220552</td><td>0.17383902</td><td>0.0064108509999999995</td><td>0.02102072</td><td>0.27333832</td><td>0.018533481</td><td>0.016758945</td><td>0.27957943</td><td>0.014735041</td><td>0.01384212</td><td>0.27197403</td><td>0.012202346999999999</td><td>0.012473898</td><td>0.2589989</td><td>0.010918806999999999</td><td>0.01054938</td><td>0.2264289</td><td>0.009239118000000001</td><td>0.0094528245</td><td>0.2359514</td><td>0.008200563499999999</td><td>0.008919742</td><td>0.20940250000000002</td><td>0.007763905</td><td>0.008241728</td><td>0.20627925</td><td>0.007176558</td><td>0.00842564</td><td>0.19128282</td><td>0.0072524613</td><td>0.0071859919999999996</td><td>0.18458207</td><td>0.006147129499999999</td><td>0.007323331999999998</td><td>0.18889377</td><td>0.0062505887</td><td>0.0071420009999999985</td><td>0.17917554</td><td>0.0060712844</td><td>0.0061024614</td><td>0.17677996</td><td>0.0052217470000000005</td><td>0.006191899</td><td>0.18689774</td><td>0.0053480509999999995</td><td>0.0062897005</td><td>0.17834124</td><td>0.0053305128</td><td>0.006628738</td><td>0.16925068</td><td>0.0056085745</td><td>0.29825464</td><td>0.058468997</td><td>0.40415296</td><td>0.04582534</td><td>0.34025285</td><td>0.04204358</td><td>0.34016716</td><td>0.036502633</td><td>0.2637</td><td>0.027100000000000003</td><td>--</td><td>--</td><td>0.0356</td><td>0.4</td><td>-0.6748994666319343</td><td>0.07164724087821357</td><td>-0.8840296122601965</td><td>0.013500742460680722</td><td>0.2965434453127772</td><td>0.3813829046040726</td><td>1.5861844833677343</td><td>inf</td><td>1.8425836166875007</td><td>-0.7366485195483288</td><td>0.05426024027345425</td><td>-0.8524910608769879</td><td>0.05483433498727916</td><td>0.5534108558347386</td><td>0.2538612927533917</td><td>1.2808176350092753</td><td>inf</td><td>1.312727942325407</td><td>15.17</td><td>14.73</td><td>0.0</td><td>0.0</td><td>0.0</td><td>nan</td><td>nan</td><td>nan</td><td>23 59 57.48</td><td>-25 51 35.1</td><td>--</td><td>--</td><td>--</td><td>--</td><td>--</td><td>--</td><td>nan</td><td>--</td></tr>\n",
       "<tr><td>GLEAM J235957-443719</td><td>23:59:57.95</td><td>-44:37:19.58</td><td>359.99057</td><td>0.00018338311999999997</td><td>-44.623207</td><td>0.00023698049</td><td>0.38</td><td>0.38</td><td>0.006516418</td><td>139.08551</td><td>118.84912</td><td>148.41922</td><td>120.42978000000001</td><td>0.38069522</td><td>0.005037420999999999</td><td>0.005243333</td><td>142.34042</td><td>119.81633000000001</td><td>151.4737</td><td>121.37813600000001</td><td>0.03128776</td><td>0.7201839</td><td>0.027475985</td><td>0.026471691000000002</td><td>0.6474205</td><td>0.022807868</td><td>0.023580106</td><td>0.6267644</td><td>0.020352898</td><td>0.020900812</td><td>0.588734</td><td>0.017881673</td><td>0.014051515</td><td>0.5267293000000001</td><td>0.012064283</td><td>0.012685135</td><td>0.5115835999999999</td><td>0.010699257</td><td>0.010852809</td><td>0.4748853</td><td>0.00919476</td><td>0.01048208</td><td>0.47360346</td><td>0.008810334</td><td>0.010045459</td><td>0.4393956</td><td>0.008411714</td><td>0.00949814</td><td>0.4288146</td><td>0.007972471</td><td>0.009412438</td><td>0.40548965</td><td>0.007797861</td><td>0.009599052</td><td>0.41436335</td><td>0.007950783000000001</td><td>0.012213845</td><td>0.3881648</td><td>0.01005531</td><td>0.010608023999999999</td><td>0.3710697</td><td>0.008725867</td><td>0.011267985</td><td>0.34847605</td><td>0.0092185745</td><td>0.011390569</td><td>0.356023</td><td>0.009258727</td><td>0.028300572000000006</td><td>0.7010135000000001</td><td>0.024761315</td><td>0.024436568999999998</td><td>0.6304018</td><td>0.021203417000000002</td><td>0.019834274</td><td>0.6066433000000001</td><td>0.017184205</td><td>0.01743025</td><td>0.5656576999999999</td><td>0.014966696000000003</td><td>0.012638236</td><td>0.52893645</td><td>0.010747788000000001</td><td>0.010841654</td><td>0.50317216</td><td>0.0092323935</td><td>0.009069598</td><td>0.49605393</td><td>0.007873932</td><td>0.009086200000000001</td><td>0.48775783</td><td>0.0077836392</td><td>0.007987398</td><td>0.4447529000000001</td><td>0.0068344059999999995</td><td>0.0072077434</td><td>0.44132558</td><td>0.006118706999999999</td><td>0.0067423983</td><td>0.43252045</td><td>0.005668799</td><td>0.0070504819999999985</td><td>0.40253827</td><td>0.005832534</td><td>0.009000159</td><td>0.38563293</td><td>0.0074483254000000014</td><td>0.009330575</td><td>0.40037048</td><td>0.007698075</td><td>0.009352148000000001</td><td>0.34693809999999997</td><td>0.007639696</td><td>0.009760621</td><td>0.32514149999999997</td><td>0.007930991</td><td>0.8561645</td><td>0.057315562</td><td>0.78205925</td><td>0.044905636</td><td>0.82894593</td><td>0.041760355</td><td>0.8285268</td><td>0.036060438</td><td>0.6316</td><td>0.0636</td><td>--</td><td>0.1164</td><td>--</td><td>--</td><td>-0.9167677592738068</td><td>0.03183135758439005</td><td>-0.8355461346111763</td><td>0.00820537933659098</td><td>0.0914578729323784</td><td>0.153157141714965</td><td>0.8700912836106318</td><td>inf</td><td>0.832493723086412</td><td>-0.9299343104406722</td><td>0.04423832292075339</td><td>-0.8776067499537499</td><td>0.03258850636272185</td><td>-0.532732273212112</td><td>0.2474866507438745</td><td>2.25709804057237</td><td>inf</td><td>2.9989663997883014</td><td>27.44</td><td>24.68</td><td>0.0</td><td>0.0</td><td>0.0</td><td>nan</td><td>nan</td><td>nan</td><td>nan</td><td>nan</td><td>--</td><td>--</td><td>--</td><td>--</td><td>--</td><td>--</td><td>nan</td><td>--</td></tr>\n",
       "<tr><td>GLEAM J235959-062040</td><td>23:59:59.89</td><td>-06:20:40.44</td><td>359.99908</td><td>0.00050244894</td><td>-6.3442025</td><td>0.0005238025</td><td>0.19</td><td>0.19</td><td>0.008653886</td><td>151.35506999999996</td><td>116.184525</td><td>146.30392</td><td>119.68745</td><td>0.20265515</td><td>0.006008460699999999</td><td>0.0059369383</td><td>153.18465</td><td>117.11413</td><td>148.19586</td><td>120.59241499999999</td><td>0.03833495</td><td>0.30381644</td><td>0.03341383</td><td>0.03269003</td><td>0.31969473</td><td>0.028555188</td><td>0.029396073999999998</td><td>0.30211768</td><td>0.025702467000000003</td><td>0.027337952999999998</td><td>0.328783</td><td>0.023754604</td><td>0.018091831000000003</td><td>0.28968453</td><td>0.015805956</td><td>0.01582505</td><td>0.26668316</td><td>0.013778931999999999</td><td>0.015316742</td><td>0.25635058</td><td>0.013318518</td><td>0.014291179</td><td>0.23994249</td><td>0.012405991000000002</td><td>0.016320944</td><td>0.24045359</td><td>0.014310266</td><td>0.014368229</td><td>0.23624392</td><td>0.012514386</td><td>0.014554758999999999</td><td>0.23493315</td><td>0.012707594</td><td>0.014499951</td><td>0.24150375</td><td>0.01276404</td><td>0.016377255</td><td>0.19540639999999998</td><td>0.014356411000000001</td><td>0.0167275</td><td>0.17136805</td><td>0.014604464</td><td>0.016564697</td><td>0.21333498</td><td>0.014398016999999999</td><td>0.016738323</td><td>0.19474903</td><td>0.014588193000000001</td><td>0.02650598</td><td>0.32811928</td><td>0.023126705</td><td>0.021923535</td><td>0.34179518</td><td>0.01921172</td><td>0.020539823999999998</td><td>0.34710795</td><td>0.018092313999999998</td><td>0.018558465</td><td>0.3211039</td><td>0.016243275</td><td>0.013322485</td><td>0.30373353</td><td>0.01162097</td><td>0.011102476000000002</td><td>0.27654824</td><td>0.009709788</td><td>0.00999503</td><td>0.25721666</td><td>0.008707813</td><td>0.009441165</td><td>0.2534754</td><td>0.008275085</td><td>0.010441045</td><td>0.25059474</td><td>0.0091496715</td><td>0.009208033000000001</td><td>0.2537402</td><td>0.008095309</td><td>0.009341453000000001</td><td>0.22258505</td><td>0.008192557</td><td>0.0089768255</td><td>0.21968177</td><td>0.007918385</td><td>0.010662111</td><td>0.22074603</td><td>0.009309964</td><td>0.010571068999999999</td><td>0.19585702</td><td>0.009219319</td><td>0.011359151999999999</td><td>0.19843769</td><td>0.009930373000000001</td><td>0.011947528</td><td>0.19827782</td><td>0.010433139000000001</td><td>0.42482224</td><td>0.08170702</td><td>0.38971502</td><td>0.06504896</td><td>0.39684144</td><td>0.05749448400000001</td><td>0.30380029999999997</td><td>0.05107997400000002</td><td>0.2039</td><td>0.0213</td><td>--</td><td>--</td><td>0.0473</td><td>--</td><td>-0.6908080546359314</td><td>0.07825078690274544</td><td>-0.7625727039874303</td><td>0.08130304081514615</td><td>-0.3772596128792464</td><td>0.4920735954885877</td><td>0.8387691499470203</td><td>inf</td><td>1.2331235593725514</td><td>-0.7975077230893722</td><td>0.0557562528343392</td><td>-0.7667409439054813</td><td>0.01963311391102537</td><td>-0.26451381769154625</td><td>0.2588313868026784</td><td>0.9599056620418052</td><td>inf</td><td>1.0229206751348336</td><td>13.71</td><td>13.11</td><td>0.0</td><td>0.0</td><td>0.0</td><td>nan</td><td>nan</td><td>nan</td><td>23 59 59.66</td><td>-06 20 40.3</td><td>--</td><td>--</td><td>--</td><td>--</td><td>--</td><td>--</td><td>nan</td><td>--</td></tr>\n",
       "<tr><td>GLEAM J235959-421524</td><td>23:59:59.01</td><td>-42:15:24.74</td><td>359.99588</td><td>0.00051616307</td><td>-42.256992</td><td>0.00065863534</td><td>0.17</td><td>0.17</td><td>0.0066703000000000005</td><td>144.64857</td><td>121.40648</td><td>148.41922</td><td>120.42978000000001</td><td>0.17407766</td><td>0.0062577019999999995</td><td>0.006108346999999999</td><td>147.781</td><td>122.35338</td><td>151.4737</td><td>121.37813600000001</td><td>0.032079577000000005</td><td>0.28620046</td><td>0.028492821</td><td>0.025740419</td><td>0.26809102</td><td>0.022730942999999997</td><td>0.023089476</td><td>0.25604028</td><td>0.020258643</td><td>0.020269124</td><td>0.24301243</td><td>0.017870473</td><td>0.017512700000000003</td><td>0.21826372</td><td>0.015444105500000001</td><td>0.0154897785</td><td>0.24762094</td><td>0.013574163</td><td>0.014952436999999999</td><td>0.22148675</td><td>0.013016979</td><td>0.013697585</td><td>0.22740796</td><td>0.011949575</td><td>0.010791921999999999</td><td>0.19746618</td><td>0.009437157</td><td>0.009973379000000001</td><td>0.20691587</td><td>0.0086129075</td><td>0.009696587</td><td>0.18619639</td><td>0.008546029</td><td>0.009517018</td><td>0.17576344</td><td>0.008218757</td><td>0.010766338</td><td>0.1955684</td><td>0.009235227</td><td>0.011002109</td><td>0.14283226</td><td>0.009482103</td><td>0.011206348</td><td>0.16545014</td><td>0.009590735</td><td>0.010902414</td><td>0.16158129999999998</td><td>0.009449115</td><td>0.029244626</td><td>0.26863635</td><td>0.025996046000000002</td><td>0.023770902000000003</td><td>0.26248237</td><td>0.02120496</td><td>0.019433491</td><td>0.257036</td><td>0.017428423999999998</td><td>0.017254118</td><td>0.2552578</td><td>0.01535462</td><td>0.015519322</td><td>0.22929366</td><td>0.014026598000000001</td><td>0.013490456000000001</td><td>0.22667960000000004</td><td>0.011887655</td><td>0.012581703999999999</td><td>0.21534613</td><td>0.01117369</td><td>0.011648951999999999</td><td>0.21811394</td><td>0.010180188</td><td>0.008983889</td><td>0.1987992</td><td>0.007938487</td><td>0.008225316</td><td>0.1966876</td><td>0.00715415</td><td>0.007751167299999999</td><td>0.1923535</td><td>0.006884634000000001</td><td>0.0073919417000000015</td><td>0.17778179</td><td>0.0065989397</td><td>0.008590698</td><td>0.17519994</td><td>0.0074455495999999986</td><td>0.009035958</td><td>0.17164001</td><td>0.007813042</td><td>0.00845561</td><td>0.16310963</td><td>0.0073424415000000005</td><td>0.008997989</td><td>0.16013521</td><td>0.0077454796999999985</td><td>0.3756091</td><td>0.060259473</td><td>0.26196375</td><td>0.047688104</td><td>0.35019714</td><td>0.044246096</td><td>0.37442908</td><td>0.038559027</td><td>0.1819</td><td>0.019</td><td>--</td><td>0.0859</td><td>--</td><td>--</td><td>-0.7246285309867958</td><td>0.07952108953950744</td><td>-0.4688116586714159</td><td>0.11675722589648635</td><td>-0.6372912803443536</td><td>0.5214144254275914</td><td>1.1082377873123803</td><td>inf</td><td>1.6218627813551203</td><td>-0.7700097589076145</td><td>0.03637368498933262</td><td>-0.5277181952690343</td><td>0.03639585827261478</td><td>-0.3934494351272193</td><td>0.1265791085237273</td><td>0.3032223186074421</td><td>inf</td><td>0.16812861766171308</td><td>11.98</td><td>11.98</td><td>0.0</td><td>0.0</td><td>0.0</td><td>nan</td><td>nan</td><td>nan</td><td>nan</td><td>nan</td><td>--</td><td>--</td><td>--</td><td>--</td><td>--</td><td>--</td><td>nan</td><td>--</td></tr>\n",
       "</table>"
      ],
      "text/plain": [
       "<Table length=13078>\n",
       "     GLEAM_Name         RAhms       Decdms    ...  w4mpro Class    z   \n",
       "                                              ...   mag                \n",
       "       str20            str11       str12     ... float64 str24 float64\n",
       "-------------------- ----------- ------------ ... ------- ----- -------\n",
       "GLEAM J000000-040240 00:00:00.13 -04:02:40.34 ...      --   nan      --\n",
       "GLEAM J000001-002215 00:00:01.61 -00:22:15.92 ...      --   nan      --\n",
       "GLEAM J000005-260405 00:00:05.50 -26:04:05.67 ...      --   nan      --\n",
       "GLEAM J000006-491100 00:00:06.95 -49:11:00.80 ...      --   nan      --\n",
       "GLEAM J000008-523458 00:00:08.46 -52:34:58.73 ...      --   nan      --\n",
       "GLEAM J000010-433322 00:00:10.94 -43:33:22.78 ...      --   nan      --\n",
       "GLEAM J000010-440713 00:00:10.96 -44:07:13.25 ...      --   nan      --\n",
       "GLEAM J000016-023646 00:00:16.56 -02:36:46.39 ...      --   nan      --\n",
       "GLEAM J000017-080842 00:00:17.77 -08:08:42.40 ...      --   nan      --\n",
       "                 ...         ...          ... ...     ...   ...     ...\n",
       "GLEAM J235933-074113 23:59:33.63 -07:41:13.84 ...      --   nan      --\n",
       "GLEAM J235934-373430 23:59:34.47 -37:34:30.96 ...      --   nan      --\n",
       "GLEAM J235938-153327 23:59:38.56 -15:33:27.36 ...      --   nan      --\n",
       "GLEAM J235939-510034 23:59:39.25 -51:00:34.51 ...      --   nan      --\n",
       "GLEAM J235943-101853 23:59:43.36 -10:18:53.65 ...      --   nan      --\n",
       "GLEAM J235945-330350 23:59:45.73 -33:03:50.93 ...      --   nan      --\n",
       "GLEAM J235957-255135 23:59:57.31 -25:51:35.06 ...      --   nan      --\n",
       "GLEAM J235957-443719 23:59:57.95 -44:37:19.58 ...      --   nan      --\n",
       "GLEAM J235959-062040 23:59:59.89 -06:20:40.44 ...      --   nan      --\n",
       "GLEAM J235959-421524 23:59:59.01 -42:15:24.74 ...      --   nan      --"
      ]
     },
     "execution_count": 42,
     "metadata": {},
     "output_type": "execute_result"
    }
   ],
   "source": [
    "mwa_spectral_var_table_mossgt36dot7"
   ]
  },
  {
   "cell_type": "markdown",
   "metadata": {},
   "source": [
    "# MWA_spec_var_crossmatch_with_NED"
   ]
  },
  {
   "cell_type": "code",
   "execution_count": 47,
   "metadata": {
    "ExecuteTime": {
     "end_time": "2021-12-03T14:37:05.588012Z",
     "start_time": "2021-12-03T14:36:41.469104Z"
    }
   },
   "outputs": [
    {
     "name": "stdout",
     "output_type": "stream",
     "text": [
      "No.        Object Name            RA     ... Diameter Points Associations\n",
      "                               degrees   ...                             \n",
      "--- ------------------------- ---------- ... --------------- ------------\n",
      "  1 WISEA J035137.90+384313.7   57.90793 ...               0            0\n",
      "  2 WISEA J035138.59+384305.6   57.91062 ...               0            0\n",
      "  3 WISEA J035139.28+384324.4   57.91371 ...               0            0\n",
      "  4 WISEA J035139.77+384507.4   57.91572 ...               0            0\n",
      "  5 WISEA J035139.90+384604.5   57.91629 ...               0            0\n",
      "  6 WISEA J035140.58+384251.8   57.91908 ...               0            0\n",
      "  7 WISEA J035140.67+384456.7   57.91949 ...               0            0\n",
      "  8 WISEA J035140.68+384135.6   57.91952 ...               0            0\n",
      "  9 WISEA J035141.29+384202.1   57.92202 ...               0            0\n",
      " 10 WISEA J035141.80+384607.2    57.9242 ...               0            0\n",
      "...                       ...        ... ...             ...          ...\n",
      "625   2MASS J03523688+3844214   58.15368 ...               0            0\n",
      "626 WISEA J035236.87+384515.7    58.1537 ...               0            0\n",
      "627 WISEA J035236.98+384451.5   58.15412 ...               0            0\n",
      "628 WISEA J035237.21+384444.6   58.15505 ...               0            0\n",
      "629 WISEA J035237.25+384246.0   58.15524 ...               0            0\n",
      "630 WISEA J035237.52+384219.1   58.15635 ...               0            0\n",
      "631 WISEA J035237.78+384519.3   58.15743 ...               0            0\n",
      "632 WISEA J035238.62+384431.9   58.16083 ...               0            0\n",
      "633 WISEA J035238.74+384352.1   58.16145 ...               0            0\n",
      "634 WISEA J035238.84+384437.0   58.16177 ...               0            0\n",
      "Length = 634 rows\n"
     ]
    }
   ],
   "source": [
    "from astroquery.ned import Ned\n",
    "import astropy.units as u\n",
    "from astropy import coordinates\n",
    "co = coordinates.SkyCoord(ra=56.38, dec=38.43,\n",
    "                         unit=(u.deg, u.deg), frame='fk4')\n",
    "result_table = Ned.query_region(co, radius=0.1 * u.deg, equinox='B1950.0')\n",
    "print(result_table)\n"
   ]
  },
  {
   "cell_type": "code",
   "execution_count": 50,
   "metadata": {
    "ExecuteTime": {
     "end_time": "2021-12-03T14:44:15.573021Z",
     "start_time": "2021-12-03T14:42:26.435089Z"
    }
   },
   "outputs": [
    {
     "name": "stdout",
     "output_type": "stream",
     "text": [
      "GLEAM J013243-165444 No.        Object Name            RA     ... Diameter Points Associations\n",
      "                               degrees   ...                             \n",
      "--- ------------------------- ---------- ... --------------- ------------\n",
      "  1 WISEA J013236.96-165442.4   23.15401 ...               0            0\n",
      "  2 WISEA J013237.51-165501.0    23.1563 ...               0            0\n",
      "  3 WISEA J013237.62-165359.8   23.15676 ...               0            0\n",
      "  4 [LHL2013] J023.160-16.928      23.16 ...               0            0\n",
      "  5 WISEA J013238.47-165504.8   23.16046 ...               0            0\n",
      "  6 WISEA J013238.65-165404.1   23.16107 ...               0            0\n",
      "  7 WISEA J013238.81-165348.6   23.16209 ...               0            0\n",
      "  8 WISEA J013238.95-165537.5   23.16232 ...               0            0\n",
      "  9 WISEA J013239.08-165528.5   23.16284 ...               0            0\n",
      " 10 WISEA J013240.10-165434.3    23.1671 ...               0            0\n",
      "...                       ...        ... ...             ...          ...\n",
      " 30 WISEA J013245.50-165351.0   23.18961 ...               0            0\n",
      " 31 WISEA J013245.64-165505.1    23.1902 ...               0            0\n",
      " 32 WISEA J013245.88-165403.2   23.19119 ...               0            0\n",
      " 33 WISEA J013246.25-165445.7   23.19272 ...               0            0\n",
      " 34 WISEA J013246.43-165519.4   23.19341 ...               0            0\n",
      " 35 WISEA J013246.89-165320.5   23.19538 ...               0            0\n",
      " 36 WISEA J013246.94-165410.9   23.19561 ...               0            0\n",
      " 37 WISEA J013247.17-165539.1   23.19655 ...               0            0\n",
      " 38 WISEA J013249.06-165522.8   23.20442 ...               0            0\n",
      " 39 WISEA J013249.72-165405.1   23.20727 ...               0            0\n",
      "Length = 39 rows\n",
      "GLEAM J020457-170115 No.        Object Name            RA     ... Diameter Points Associations\n",
      "                               degrees   ...                             \n",
      "--- ------------------------- ---------- ... --------------- ------------\n",
      "  1 WISEA J020451.41-170045.2   31.21422 ...               0            0\n",
      "  2 WISEA J020452.01-170157.4   31.21672 ...               0            0\n",
      "  3 WISEA J020452.01-170031.8   31.21673 ...               0            0\n",
      "  4 WISEA J020453.41-170127.8   31.22255 ...               0            0\n",
      "  5 WISEA J020453.95-170033.4    31.2248 ...               0            0\n",
      "  6 WISEA J020454.04-165959.4   31.22521 ...               0            0\n",
      "  7 WISEA J020454.64-170125.7   31.22767 ...               0            0\n",
      "  8 WISEA J020455.54-170153.4   31.23143 ...               0            0\n",
      "  9 WISEA J020455.58-170222.4    31.2316 ...               0            0\n",
      " 10 WISEA J020455.63-170056.6   31.23183 ...               0            0\n",
      "...                       ...        ... ...             ...          ...\n",
      " 34 WISEA J020501.19-170101.0   31.25499 ...               0            0\n",
      " 35 WISEA J020501.50-170018.5   31.25627 ...               0            0\n",
      " 36 WISEA J020501.52-170206.2   31.25636 ...               0            0\n",
      " 37 WISEA J020502.00-170005.3   31.25836 ...               0            0\n",
      " 38 WISEA J020502.38-170152.8   31.25994 ...               0            0\n",
      " 39 WISEA J020502.48-170012.6   31.26037 ...               0            0\n",
      " 40 WISEA J020502.56-170217.0   31.26068 ...               0            0\n",
      " 41 WISEA J020502.64-170030.3   31.26102 ...               0            0\n",
      " 42 WISEA J020504.16-170148.5   31.26734 ...               0            0\n",
      " 43 WISEA J020504.50-170112.3   31.26867 ...               0            0\n",
      "Length = 43 rows\n",
      "GLEAM J024559-465114 No.        Object Name            RA     ... Diameter Points Associations\n",
      "                               degrees   ...                             \n",
      "--- ------------------------- ---------- ... --------------- ------------\n",
      "  1 WISEA J024551.54-465054.6   41.46475 ...               0            0\n",
      "  2 WISEA J024552.37-465046.5   41.46824 ...               0            0\n",
      "  3 WISEA J024552.40-465033.1   41.46835 ...               0            0\n",
      "  4 WISEA J024552.93-465113.7   41.47057 ...               0            0\n",
      "  5 WISEA J024553.58-465014.0   41.47326 ...               0            0\n",
      "  6 WISEA J024553.87-465120.4   41.47446 ...               0            0\n",
      "  7   2MASS J02455414-4651548   41.47559 ...               0            0\n",
      "  8 WISEA J024554.16-465154.5    41.4757 ...               0            0\n",
      "  9 WISEA J024554.52-465058.2   41.47718 ...               0            0\n",
      " 10 WISEA J024555.63-465106.6    41.4818 ...               0            0\n",
      "...                       ...        ... ...             ...          ...\n",
      " 36 WISEA J024604.05-464957.5   41.51688 ...               0            0\n",
      " 37 WISEA J024604.55-465151.6   41.51898 ...               0            0\n",
      " 38 WISEA J024605.54-465056.2   41.52301 ...               0            0\n",
      " 39 WISEA J024605.82-465029.1   41.52425 ...               0            0\n",
      " 40 WISEA J024606.43-465135.5    41.5268 ...               0            0\n",
      " 41 WISEA J024606.58-465014.2   41.52745 ...               0            0\n",
      " 42 WISEA J024607.10-465041.8   41.52962 ...               0            0\n",
      " 43 WISEA J024607.22-465030.5   41.53012 ...               0            0\n",
      " 44 WISEA J024607.80-465104.8   41.53252 ...               0            0\n",
      " 45 WISEA J024609.82-465119.1   41.54092 ...               0            0\n",
      "Length = 45 rows\n",
      "GLEAM J031905-161343 No.         Object Name              RA     ... Diameter Points Associations\n",
      "                                  degrees   ...                             \n",
      "--- ---------------------------- ---------- ... --------------- ------------\n",
      "  1 GALEXMSC J031859.48-161423.1   49.74786 ...               0            0\n",
      "  2    WISEA J031900.33-161401.8   49.75141 ...               0            0\n",
      "  3    WISEA J031900.44-161343.7   49.75187 ...               0            0\n",
      "  4    WISEA J031900.47-161250.0   49.75199 ...               0            0\n",
      "  5    WISEA J031901.26-161228.0    49.7553 ...               0            0\n",
      "  6    WISEA J031901.29-161400.8    49.7554 ...               0            0\n",
      "  7    WISEA J031901.65-161259.6   49.75692 ...               0            0\n",
      "  8 GALEXMSC J031903.03-161323.1   49.76264 ...               0            0\n",
      "  9    WISEA J031903.28-161403.1   49.76368 ...               0            0\n",
      " 10 GALEXMSC J031903.33-161311.3    49.7639 ...               0            0\n",
      "...                          ...        ... ...             ...          ...\n",
      " 31 GALEXMSC J031907.83-161235.1   49.78266 ...               0            0\n",
      " 32    WISEA J031908.58-161451.5   49.78577 ...               0            0\n",
      " 33    WISEA J031908.45-161313.5    49.7861 ...               0            0\n",
      " 34    WISEA J031908.80-161353.5   49.78661 ...               0            0\n",
      " 35    WISEA J031909.22-161238.8   49.78842 ...               0            0\n",
      " 36    WISEA J031909.39-161443.6   49.78916 ...               0            0\n",
      " 37    WISEA J031909.58-161226.4   49.78995 ...               0            0\n",
      " 38 GALEXASC J031910.34-161350.6    49.7931 ...               0            0\n",
      " 39    WISEA J031912.05-161312.9   49.80021 ...               0            0\n",
      " 40    WISEA J031912.09-161341.8   49.80041 ...               0            0\n",
      "Length = 40 rows\n",
      "GLEAM J033930-014632 No.         Object Name              RA     ... Diameter Points Associations\n",
      "                                  degrees   ...                             \n",
      "--- ---------------------------- ---------- ... --------------- ------------\n",
      "  1    WISEA J033925.14-014555.3   54.85476 ...               0            0\n",
      "  2    WISEA J033926.81-014523.9   54.86173 ...               0            0\n",
      "  3    WISEA J033927.25-014710.0   54.86356 ...               0            0\n",
      "  4    WISEA J033928.44-014519.8    54.8685 ...               0            0\n",
      "  5    WISEA J033928.99-014802.2   54.87081 ...               0            0\n",
      "  6    WISEA J033929.40-014535.9   54.87253 ...               0            0\n",
      "  7    WISEA J033929.48-014733.3   54.87287 ...               0            0\n",
      "  8    WISEA J033929.63-014747.7   54.87346 ...               0            0\n",
      "  9 GALEXMSC J033929.69-014631.8   54.87373 ...               0            0\n",
      " 10    WISEA J033929.72-014758.1   54.87386 ...               0            0\n",
      "...                          ...        ... ...             ...          ...\n",
      " 19    WISEA J033931.88-014554.6   54.88284 ...               0            0\n",
      " 20    WISEA J033932.93-014707.1   54.88722 ...               0            0\n",
      " 21    WISEA J033933.13-014528.4   54.88807 ...               0            0\n",
      " 22    WISEA J033933.24-014724.4   54.88854 ...               0            0\n",
      " 23    WISEA J033933.55-014512.2    54.8898 ...               0            0\n",
      " 24      2MASS J03393448-0145515    54.8937 ...               0            0\n",
      " 25    WISEA J033934.80-014550.6   54.89502 ...               0            0\n",
      " 26      2MASS J03393488-0145500   54.89534 ...               0            0\n",
      " 27    WISEA J033935.64-014715.0   54.89856 ...               0            0\n",
      " 28    WISEA J033937.57-014639.3   54.90657 ...               0            0\n",
      "Length = 28 rows\n"
     ]
    },
    {
     "name": "stdout",
     "output_type": "stream",
     "text": [
      "GLEAM J040659-382625 No.        Object Name            RA     ... Diameter Points Associations\n",
      "                               degrees   ...                             \n",
      "--- ------------------------- ---------- ... --------------- ------------\n",
      "  1 WISEA J040652.53-382610.4    61.7189 ...               0            0\n",
      "  2 WISEA J040652.71-382542.5   61.71966 ...               0            0\n",
      "  3 WISEA J040653.19-382704.1   61.72154 ...               0            0\n",
      "  4   CRATES J0406-3826 NED01     61.724 ...               0            0\n",
      "  5 WISEA J040653.89-382637.8   61.72455 ...               0            0\n",
      "  6 WISEA J040654.85-382520.2   61.72857 ...               0            0\n",
      "  7 WISEA J040655.51-382739.8   61.73132 ...               0            0\n",
      "  8 WISEA J040655.58-382607.6   61.73161 ...               0            0\n",
      "  9 WISEA J040655.97-382716.9   61.73323 ...               0            0\n",
      " 10 WISEA J040656.00-382751.0   61.73334 ...               0            0\n",
      "...                       ...        ... ...             ...          ...\n",
      " 32 WISEA J040702.57-382737.9   61.76073 ...               0            0\n",
      " 33 WISEA J040702.72-382712.3   61.76135 ...               0            0\n",
      " 34 WISEA J040702.91-382759.0   61.76213 ...               0            0\n",
      " 35 WISEA J040703.43-382725.4    61.7643 ...               0            0\n",
      " 36 WISEA J040703.48-382517.4   61.76452 ...               0            0\n",
      " 37 WISEA J040704.40-382502.8   61.76834 ...               0            0\n",
      " 38 WISEA J040705.84-382619.8   61.77435 ...               0            0\n",
      " 39 WISEA J040706.04-382716.8   61.77521 ...               0            0\n",
      " 40 WISEA J040707.36-382549.6   61.78076 ...               0            0\n",
      " 41 WISEA J040707.89-382636.6   61.78288 ...               0            0\n",
      "Length = 41 rows\n",
      "GLEAM J214623-152542 No.        Object Name            RA     ... Diameter Points Associations\n",
      "                               degrees   ...                             \n",
      "--- ------------------------- ---------- ... --------------- ------------\n",
      "  1 WISEA J214617.12-152508.5  326.57137 ...               0            0\n",
      "  2 WISEA J214617.22-152533.7  326.57175 ...               0            0\n",
      "  3 WISEA J214617.22-152616.8  326.57177 ...               0            0\n",
      "  4 WISEA J214617.86-152518.3  326.57442 ...               0            0\n",
      "  5 WISEA J214618.55-152542.7  326.57733 ...               0            0\n",
      "  6 WISEA J214618.55-152600.4  326.57733 ...               0            0\n",
      "  7 WISEA J214618.66-152657.2  326.57778 ...               0            0\n",
      "  8 WISEA J214619.05-152518.9  326.57933 ...               0            0\n",
      "  9 WISEA J214619.14-152642.4  326.57977 ...               0            0\n",
      " 10 WISEA J214619.69-152424.6  326.58205 ...               0            0\n",
      "...                       ...        ... ...             ...          ...\n",
      " 27 WISEA J214625.96-152530.2  326.60817 ...               0            0\n",
      " 28 WISEA J214626.84-152609.6  326.61184 ...               0            0\n",
      " 29 WISEA J214626.99-152702.2  326.61247 ...               0            0\n",
      " 30 WISEA J214627.24-152600.0  326.61352 ...               0            0\n",
      " 31 WISEA J214627.42-152450.9  326.61426 ...               0            0\n",
      " 32 WISEA J214628.20-152642.3  326.61752 ...               0            0\n",
      " 33 WISEA J214628.43-152549.3  326.61837 ...               0            0\n",
      " 34 WISEA J214628.46-152638.3  326.61861 ...               0            0\n",
      " 35 WISEA J214628.87-152529.4  326.62033 ...               0            0\n",
      " 36 WISEA J214629.49-152610.1  326.62289 ...               0            0\n",
      "Length = 36 rows\n",
      "GLEAM J214836-172339 No.        Object Name            RA     ... Diameter Points Associations\n",
      "                               degrees   ...                             \n",
      "--- ------------------------- ---------- ... --------------- ------------\n",
      "  1 WISEA J214830.92-172254.5  327.12884 ...               0            0\n",
      "  2 WISEA J214832.22-172238.4  327.13429 ...               0            0\n",
      "  3 WISEA J214832.46-172229.4  327.13529 ...               0            0\n",
      "  4 WISEA J214832.86-172316.4  327.13695 ...               0            0\n",
      "  5 WISEA J214833.17-172341.3  327.13817 ...               0            0\n",
      "  6     1RXS J214833.6-172344  327.14001 ...               0            6\n",
      "  7 WISEA J214833.62-172506.9  327.14012 ...               0            0\n",
      "  8 WISEA J214834.29-172448.4  327.14291 ...               0            0\n",
      "  9 WISEA J214834.38-172502.2  327.14327 ...               0            0\n",
      " 10 WISEA J214834.56-172406.1  327.14401 ...               0            0\n",
      "...                       ...        ... ...             ...          ...\n",
      " 33 WISEA J214839.23-172249.4  327.16347 ...               0            0\n",
      " 34 WISEA J214839.84-172434.3  327.16603 ...               0            0\n",
      " 35 WISEA J214839.88-172226.5  327.16619 ...               0            0\n",
      " 36 WISEA J214839.87-172330.0  327.16621 ...               0            0\n",
      " 37 WISEA J214840.03-172504.8  327.16681 ...               0            0\n",
      " 38 WISEA J214840.06-172400.9  327.16695 ...               0            0\n",
      " 39 WISEA J214841.36-172403.7  327.17236 ...               0            0\n",
      " 40 WISEA J214842.65-172352.7  327.17771 ...               0            0\n",
      " 41 WISEA J214842.97-172328.2  327.17904 ...               0            0\n",
      " 42 WISEA J214843.41-172337.4  327.18088 ...               0            0\n",
      "Length = 42 rows\n",
      "GLEAM J215155-302751 No.        Object Name            RA     ... Diameter Points Associations\n",
      "                               degrees   ...                             \n",
      "--- ------------------------- ---------- ... --------------- ------------\n",
      "  1 WISEA J215148.25-302728.7  327.95107 ...               0            0\n",
      "  2 WISEA J215149.56-302809.6  327.95651 ...               0            0\n",
      "  3 WISEA J215149.76-302837.3  327.95735 ...               0            0\n",
      "  4 WISEA J215150.13-302754.8   327.9589 ...               0            0\n",
      "  5 WISEA J215150.94-302652.7  327.96226 ...               0            0\n",
      "  6 WISEA J215151.28-302634.7   327.9637 ...               0            0\n",
      "  7 WISEA J215151.49-302912.2  327.96457 ...               0            0\n",
      "  8 WISEA J215151.70-302851.3  327.96548 ...               0            0\n",
      "  9 WISEA J215151.75-302811.3  327.96565 ...               0            0\n",
      " 10 WISEA J215151.84-302723.1  327.96589 ...               0            0\n",
      "...                       ...        ... ...             ...          ...\n",
      " 45 WISEA J215200.85-302845.2  328.00357 ...               0            0\n",
      " 46 WISEA J215201.13-302713.4  328.00473 ...               0            0\n",
      " 47 WISEA J215201.44-302656.0  328.00603 ...               0            0\n",
      " 48 WISEA J215201.78-302733.9  328.00745 ...               0            0\n",
      " 49 WISEA J215202.08-302843.4  328.00869 ...               0            0\n",
      " 50 WISEA J215202.11-302814.4  328.00882 ...               0            0\n",
      " 51 WISEA J215202.54-302759.1  328.01062 ...               0            0\n",
      " 52        SWIFT J2152.0-3028    328.011 ...               0            0\n",
      " 53 WISEA J215202.75-302726.9  328.01149 ...               0            0\n",
      " 54 WISEA J215202.76-302826.1  328.01153 ...               0            0\n",
      "Length = 54 rows\n",
      "GLEAM J224618-120650 No.        Object Name            RA     ... Diameter Points Associations\n",
      "                               degrees   ...                             \n",
      "--- ------------------------- ---------- ... --------------- ------------\n",
      "  1 WISEA J224611.65-120700.7  341.54857 ...               0            0\n",
      "  2 WISEA J224613.01-120717.7  341.55433 ...               0            0\n",
      "  3 WISEA J224613.33-120717.7  341.55558 ...               0            0\n",
      "  4 WISEA J224613.88-120558.7  341.55795 ...               0            0\n",
      "  5 WISEA J224613.92-120634.2  341.55801 ...               0            0\n",
      "  6 WISEA J224614.73-120735.3  341.56142 ...               0            0\n",
      "  7 WISEA J224614.78-120638.6  341.56161 ...               0            0\n",
      "  8 WISEA J224615.30-120739.4  341.56377 ...               0            0\n",
      "  9 WISEA J224615.57-120655.4  341.56488 ...               0            0\n",
      " 10 WISEA J224615.90-120719.8  341.56635 ...               0            0\n",
      "...                       ...        ... ...             ...          ...\n",
      " 22 WISEA J224619.96-120658.1  341.58318 ...               0            0\n",
      " 23 WISEA J224621.43-120638.0  341.58938 ...               0            0\n",
      " 24 WISEA J224621.48-120616.4  341.58953 ...               0            0\n",
      " 25 WISEA J224622.46-120715.7  341.59361 ...               0            0\n",
      " 26 WISEA J224622.51-120655.4  341.59376 ...               0            0\n",
      " 27 WISEA J224622.86-120539.4  341.59535 ...               0            0\n",
      " 28 WISEA J224623.16-120636.5  341.59654 ...               0            0\n",
      " 29 WISEA J224623.34-120754.5  341.59727 ...               0            0\n",
      " 30 WISEA J224623.44-120716.6   341.5977 ...               0            0\n",
      " 31 WISEA J224624.56-120717.6  341.60248 ...               0            0\n",
      "Length = 31 rows\n"
     ]
    },
    {
     "name": "stdout",
     "output_type": "stream",
     "text": [
      "GLEAM J225044-280634 No.        Object Name            RA     ... Diameter Points Associations\n",
      "                               degrees   ...                             \n",
      "--- ------------------------- ---------- ... --------------- ------------\n",
      "  1 WISEA J225038.88-280558.2  342.66198 ...               0            0\n",
      "  2 WISEA J225039.02-280533.0  342.66261 ...               0            0\n",
      "  3 WISEA J225039.11-280649.8  342.66341 ...               0            0\n",
      "  4 WISEA J225039.62-280517.2   342.6651 ...               0            0\n",
      "  5 WISEA J225040.39-280743.6  342.66833 ...               0            0\n",
      "  6 WISEA J225040.78-280516.2  342.66961 ...               0            0\n",
      "  7 WISEA J225041.26-280755.3  342.67194 ...               0            0\n",
      "  8 WISEA J225041.56-280730.9  342.67319 ...               0            0\n",
      "  9 WISEA J225041.78-280704.9  342.67409 ...               0            0\n",
      " 10 WISEA J225042.66-280716.7  342.67813 ...               0            0\n",
      "...                       ...        ... ...             ...          ...\n",
      " 22 WISEA J225046.34-280548.7  342.69309 ...               0            0\n",
      " 23 WISEA J225046.92-280806.1  342.69554 ...               0            0\n",
      " 24 WISEA J225047.49-280704.7  342.69793 ...               0            0\n",
      " 25 WISEA J225047.63-280752.2  342.69847 ...               0            0\n",
      " 26 WISEA J225047.79-280647.5  342.69953 ...               0            0\n",
      " 27   2MASS J22504798-2805563  342.69995 ...               0            0\n",
      " 28 WISEA J225048.01-280556.6  342.70006 ...               0            0\n",
      " 29 WISEA J225049.17-280734.2  342.70492 ...               0            0\n",
      " 30 WISEA J225049.85-280733.3  342.70812 ...               0            0\n",
      " 31 WISEA J225050.05-280607.6  342.70865 ...               0            0\n",
      "Length = 31 rows\n",
      "GLEAM J225641-201140 No.         Object Name              RA     ... Diameter Points Associations\n",
      "                                  degrees   ...                             \n",
      "--- ---------------------------- ---------- ... --------------- ------------\n",
      "  1    WISEA J225634.44-201154.1  344.14352 ...               0            0\n",
      "  2    WISEA J225634.74-201209.0  344.14475 ...               0            0\n",
      "  3 GALEXASC J225635.21-201159.2  344.14673 ...               0            0\n",
      "  4    WISEA J225635.33-201206.5  344.14725 ...               0            0\n",
      "  5 GALEXASC J225635.97-201209.0  344.14991 ...               0            0\n",
      "  6    WISEA J225636.53-201116.3  344.15203 ...               0            0\n",
      "  7          NVSS J225637-201301  344.15562 ...               0            0\n",
      "  8    WISEA J225637.37-201129.8   344.1557 ...               0            0\n",
      "  9    WISEA J225637.41-201043.8  344.15589 ...               0            0\n",
      " 10      2MASS J22563756-2011128  344.15657 ...               0            0\n",
      "...                          ...        ... ...             ...          ...\n",
      " 34    WISEA J225644.78-201122.7  344.18635 ...               0            0\n",
      " 35              MRSS 603-010820  344.18796 ...               0            0\n",
      " 36            3FGL J2256.7-2011    344.189 ...               0            0\n",
      " 37    WISEA J225645.65-201144.1  344.19023 ...               0            0\n",
      " 38    WISEA J225645.71-201212.0   344.1905 ...               0            0\n",
      " 39    WISEA J225645.81-201243.9  344.19088 ...               0            0\n",
      " 40    WISEA J225646.32-201125.8  344.19301 ...               0            0\n",
      " 41    WISEA J225646.95-201209.2  344.19566 ...               0            0\n",
      " 42    WISEA J225647.51-201158.0  344.19799 ...               0            0\n",
      " 43    WISEA J225647.70-201125.1  344.19879 ...               0            0\n",
      "Length = 43 rows\n",
      "GLEAM J231647-404118 No.         Object Name              RA     ... Diameter Points Associations\n",
      "                                  degrees   ...                             \n",
      "--- ---------------------------- ---------- ... --------------- ------------\n",
      "  1    WISEA J231639.74-404143.6  349.16566 ...               0            0\n",
      "  2    WISEA J231640.42-404042.0  349.16825 ...               0            0\n",
      "  3    WISEA J231641.03-404220.2  349.17096 ...               0            0\n",
      "  4    WISEA J231642.27-404026.0  349.17629 ...               0            0\n",
      "  5    WISEA J231643.24-404104.1  349.18019 ...               0            0\n",
      "  6    WISEA J231643.85-404133.2  349.18275 ...               0            0\n",
      "  7    WISEA J231644.08-404142.9  349.18361 ...               0            0\n",
      "  8    WISEA J231644.62-404036.8  349.18594 ...               0            0\n",
      "  9    WISEA J231644.76-404256.7  349.18644 ...               0            0\n",
      " 10    WISEA J231644.92-404017.5  349.18718 ...               0            0\n",
      "...                          ...        ... ...             ...          ...\n",
      " 27    WISEA J231650.54-404224.9  349.21061 ...               0            0\n",
      " 28              MRSS 347-116412    349.211 ...               0            0\n",
      " 29    WISEA J231651.30-404000.5  349.21396 ...               0            0\n",
      " 30    WISEA J231651.36-404215.8  349.21404 ...               0            0\n",
      " 31    WISEA J231651.92-404045.4  349.21637 ...               0            0\n",
      " 32    WISEA J231652.36-404138.4  349.21818 ...               0            0\n",
      " 33    WISEA J231652.51-404219.8  349.21875 ...               0            0\n",
      " 34    WISEA J231653.46-404221.1  349.22276 ...               0            0\n",
      " 35 GALEXASC J231653.89-404142.4  349.22456 ...               0            0\n",
      " 36    WISEA J231654.31-404210.1  349.22633 ...               0            0\n",
      "Length = 36 rows\n",
      "GLEAM J232332-031708 No.         Object Name              RA     ... Diameter Points Associations\n",
      "                                  degrees   ...                             \n",
      "--- ---------------------------- ---------- ... --------------- ------------\n",
      "  1    WISEA J232325.91-031625.6    350.858 ...               0            0\n",
      "  2 GALEXMSC J232326.00-031750.0  350.85837 ...               0            0\n",
      "  3        [HB89] 2320-035 NED01  350.86028 ...               0            0\n",
      "  4    WISEA J232326.67-031703.4  350.86114 ...               0            0\n",
      "  5    WISEA J232326.94-031712.4  350.86245 ...               0            0\n",
      "  6    WISEA J232326.99-031639.3  350.86249 ...               0            0\n",
      "  7    WISEA J232327.07-031743.0   350.8628 ...               0            0\n",
      "  8    WISEA J232327.88-031643.4  350.86538 ...               0            0\n",
      "  9 GALEXMSC J232327.98-031756.5   350.8666 ...               0            0\n",
      " 10    WISEA J232328.11-031745.1  350.86716 ...               0            0\n",
      "...                          ...        ... ...             ...          ...\n",
      " 36    WISEA J232335.67-031734.7  350.89865 ...               0            0\n",
      " 37    WISEA J232335.99-031820.6  350.89997 ...               0            0\n",
      " 38    WISEA J232336.19-031706.3  350.90082 ...               0            0\n",
      " 39    WISEA J232336.72-031621.6  350.90302 ...               0            0\n",
      " 40    WISEA J232336.77-031751.1  350.90317 ...               0            0\n",
      " 41    WISEA J232336.84-031642.5  350.90354 ...               0            0\n",
      " 42    WISEA J232337.39-031730.9   350.9058 ...               0            0\n",
      " 43    WISEA J232337.71-031718.9  350.90713 ...               0            0\n",
      " 44    WISEA J232337.72-031742.9   350.9072 ...               0            0\n",
      " 45    WISEA J232338.05-031645.5  350.90857 ...               0            0\n",
      "Length = 45 rows\n",
      "GLEAM J232917-473014 No.          Object Name               RA     ... Diameter Points Associations\n",
      "                                    degrees   ...                             \n",
      "--- ------------------------------ ---------- ... --------------- ------------\n",
      "  1      WISEA J232908.87-472944.8    352.287 ...               0            0\n",
      "  2      WISEA J232909.15-473037.8  352.28907 ...               0            0\n",
      "  3      WISEA J232912.00-473039.7  352.30001 ...               0            0\n",
      "  4      WISEA J232912.32-472910.1  352.30135 ...               0            0\n",
      "  5      WISEA J232913.25-473116.9  352.30521 ...               0            0\n",
      "  6      WISEA J232913.31-473033.7  352.30547 ...               0            0\n",
      "  7           SUMSS J232913-473107  352.30654 ...               0            0\n",
      "  8 APMUKS(BJ) B232630.59-474817.0  352.31085 ...               0            0\n",
      "  9      WISEA J232914.68-472924.2  352.31118 ...               0            0\n",
      " 10      WISEA J232914.79-473016.4  352.31166 ...               0            0\n",
      "...                            ...        ... ...             ...          ...\n",
      " 23      WISEA J232919.43-473011.8  352.33099 ...               0            0\n",
      " 24      WISEA J232920.33-473106.4  352.33452 ...               0            0\n",
      " 25      WISEA J232920.75-473051.2  352.33649 ...               0            0\n",
      " 26      WISEA J232920.84-472937.1  352.33686 ...               0            0\n",
      " 27      WISEA J232921.88-473030.2  352.34117 ...               0            0\n",
      " 28      WISEA J232923.74-472945.5  352.34864 ...               0            0\n",
      " 29      WISEA J232925.33-473052.0  352.35557 ...               0            0\n",
      " 30        2MASS J23292552-4730588  352.35636 ...               0            0\n",
      " 31      WISEA J232925.72-473022.3  352.35727 ...               0            0\n",
      " 32      WISEA J232926.59-473016.5  352.36079 ...               0            0\n",
      "Length = 32 rows\n"
     ]
    },
    {
     "name": "stdout",
     "output_type": "stream",
     "text": [
      "GLEAM J233035-372435 No.        Object Name            RA     ... Diameter Points Associations\n",
      "                               degrees   ...                             \n",
      "--- ------------------------- ---------- ... --------------- ------------\n",
      "  1 WISEA J233029.60-372436.5  352.62333 ...               0            0\n",
      "  2 WISEA J233031.17-372406.0  352.62987 ...               0            0\n",
      "  3 WISEA J233032.01-372428.8  352.63338 ...               0            0\n",
      "  4 WISEA J233033.09-372431.3   352.6379 ...               0            0\n",
      "  5 WISEA J233034.06-372431.9  352.64194 ...               0            0\n",
      "  6 WISEA J233034.41-372515.8   352.6433 ...               0            0\n",
      "  7 WISEA J233034.65-372457.2  352.64441 ...               0            0\n",
      "  8 WISEA J233034.81-372400.2  352.64507 ...               0            0\n",
      "  9 WISEA J233035.30-372612.8  352.64711 ...               0            0\n",
      " 10              PKS 2327-376  352.64917 ...               2            1\n",
      "...                       ...        ... ...             ...          ...\n",
      " 19         4FGL J2330.6-3726   352.6603 ...               0            0\n",
      " 20 WISEA J233039.12-372457.1  352.66303 ...               0            0\n",
      " 21 WISEA J233039.38-372546.7  352.66411 ...               0            0\n",
      " 22 WISEA J233039.81-372538.6   352.6659 ...               0            0\n",
      " 23 WISEA J233039.87-372408.5  352.66619 ...               0            0\n",
      " 24 WISEA J233040.42-372347.0  352.66843 ...               0            0\n",
      " 25 WISEA J233041.04-372542.0  352.67104 ...               0            0\n",
      " 26 WISEA J233041.14-372334.3  352.67145 ...               0            0\n",
      " 27 WISEA J233041.61-372352.0  352.67341 ...               0            0\n",
      " 28 WISEA J233042.10-372417.5  352.67543 ...               0            0\n",
      "Length = 28 rows\n",
      "GLEAM J233037-453953 No.        Object Name            RA     ... Diameter Points Associations\n",
      "                               degrees   ...                             \n",
      "--- ------------------------- ---------- ... --------------- ------------\n",
      "  1 WISEA J233029.52-453912.2  352.62303 ...               0            0\n",
      "  2 WISEA J233030.90-454029.7  352.62878 ...               0            0\n",
      "  3 WISEA J233031.34-454105.3  352.63065 ...               0            0\n",
      "  4 WISEA J233031.50-453905.3  352.63126 ...               0            0\n",
      "  5 WISEA J233031.99-453951.2  352.63302 ...               0            0\n",
      "  6 WISEA J233032.92-454007.3  352.63719 ...               0            0\n",
      "  7 WISEA J233033.19-453858.1  352.63836 ...               0            0\n",
      "  8      SUMSS J233033-453847  352.64046 ...               0            0\n",
      "  9 WISEA J233033.60-453836.1  352.64046 ...               0            0\n",
      " 10 WISEA J233034.02-454032.1  352.64062 ...               0            0\n",
      "...                       ...        ... ...             ...          ...\n",
      " 29 WISEA J233042.17-453831.6  352.67575 ...               0            0\n",
      " 30 WISEA J233042.40-453905.5  352.67659 ...               0            0\n",
      " 31 WISEA J233043.44-453915.8    352.681 ...               0            0\n",
      " 32 WISEA J233043.55-453858.9  352.68148 ...               0            0\n",
      " 33 WISEA J233044.50-454047.5  352.68546 ...               0            0\n",
      " 34 WISEA J233044.52-453912.5  352.68552 ...               0            0\n",
      " 35 WISEA J233046.18-454005.6  352.69245 ...               0            0\n",
      " 36 WISEA J233046.20-453926.2  352.69253 ...               0            0\n",
      " 37 WISEA J233046.57-453939.4  352.69405 ...               0            0\n",
      " 38 WISEA J233046.84-454012.7  352.69557 ...               0            0\n",
      "Length = 38 rows\n",
      "GLEAM J235811-102011 No.        Object Name            RA     ... Diameter Points Associations\n",
      "                               degrees   ...                             \n",
      "--- ------------------------- ---------- ... --------------- ------------\n",
      "  1 WISEA J235804.87-101956.9  359.52029 ...               0            0\n",
      "  2  SDSS J235805.19-101953.1  359.52165 ...               3            0\n",
      "  3  SDSS J235806.31-101932.2   359.5263 ...               4            0\n",
      "  4 WISEA J235806.31-102101.1  359.52631 ...               0            0\n",
      "  5 WISEA J235806.94-102115.5  359.52914 ...               4            0\n",
      "  6 WISEA J235807.00-102004.9  359.52919 ...               0            0\n",
      "  7 WISEA J235807.13-102026.3  359.52974 ...               0            0\n",
      "  8 WISEA J235807.38-101844.5  359.53075 ...               0            0\n",
      "  9 WISEA J235807.50-102037.8  359.53129 ...               0            0\n",
      " 10 WISEA J235808.08-102040.0  359.53371 ...               4            0\n",
      "...                       ...        ... ...             ...          ...\n",
      " 56 WISEA J235814.87-101957.0  359.56199 ...               0            0\n",
      " 57   2MASS J23581493-1019229   359.5622 ...               4            0\n",
      " 58 WISEA J235814.98-101923.8  359.56245 ...               0            0\n",
      " 59  SDSS J235815.08-101925.7  359.56285 ...               4            0\n",
      " 60  SDSS J235815.25-102036.5  359.56354 ...               4            0\n",
      " 61 WISEA J235816.25-101932.5  359.56772 ...               0            0\n",
      " 62  SDSS J235816.90-101932.2  359.57043 ...               3            0\n",
      " 63  SDSS J235817.13-102023.8  359.57139 ...               3            0\n",
      " 64 WISEA J235817.30-101954.3  359.57215 ...               4            0\n",
      " 65 WISEA J235817.40-102018.4   359.5727 ...               4            0\n",
      "Length = 65 rows\n"
     ]
    }
   ],
   "source": [
    "for index,name in enumerate(mwa_spectral_var_table['GLEAM_Name']):\n",
    "    name_new= name.replace(' ','_')\n",
    "    #print(name_new)\n",
    "    if name_new in mwa_spectral_var_list:\n",
    "        if mwa_spectral_var_table['Class'][index]!= 'nan': \n",
    "             #print(index,name,mwa_spectral_var_table['RAJ2000'][index],mwa_spectral_var_table['DEJ2000'][index],mwa_spectral_var_table['Class'][index],'z:',mwa_spectral_var_table['z'][index])\n",
    "            if float(mwa_spectral_var_table['MOSS'][index]) >=36.7:       \n",
    "                co = coordinates.SkyCoord(ra=mwa_spectral_var_table['RAJ2000'][index], dec=mwa_spectral_var_table['DEJ2000'][index],\n",
    "                         unit=(u.deg, u.deg), frame='fk5')\n",
    "                result_table = Ned.query_region(co, radius=100 * u.arcsec, equinox='J2000.0')\n",
    "                print(name,result_table)\n"
   ]
  },
  {
   "cell_type": "markdown",
   "metadata": {},
   "source": [
    "# MWA_spec_var_crossmatch_with_WISE"
   ]
  },
  {
   "cell_type": "code",
   "execution_count": null,
   "metadata": {},
   "outputs": [],
   "source": []
  },
  {
   "cell_type": "markdown",
   "metadata": {},
   "source": [
    "# mwa_spectral_var_table_323"
   ]
  },
  {
   "cell_type": "code",
   "execution_count": 110,
   "metadata": {
    "ExecuteTime": {
     "end_time": "2021-12-08T02:58:36.494377Z",
     "start_time": "2021-12-08T02:58:35.632212Z"
    }
   },
   "outputs": [
    {
     "name": "stdout",
     "output_type": "stream",
     "text": [
      "MOSS >= 36.7\n",
      "index name RAJ2000 DEJ2000 class z MOSS\n"
     ]
    }
   ],
   "source": [
    "#print('MOSS >= 36.7')\n",
    "#print('index','name','RAJ2000','DEJ2000','class','z','MOSS')\n",
    "for index,name in enumerate(mwa_spectral_var_table['GLEAM_Name']):\n",
    "    name_new= name.replace(' ','_')\n",
    "    #print(name_new)\n",
    "    if name_new in mwa_spectral_var_list:\n",
    "        mwa_spectral_var_table['select'][index]=1"
   ]
  },
  {
   "cell_type": "code",
   "execution_count": 143,
   "metadata": {
    "ExecuteTime": {
     "end_time": "2021-12-08T03:09:04.890463Z",
     "start_time": "2021-12-08T03:09:04.849320Z"
    }
   },
   "outputs": [],
   "source": [
    "mwa_spectral_var_table_323=mwa_spectral_var_table[mwa_spectral_var_table['select']==1]\n"
   ]
  },
  {
   "cell_type": "markdown",
   "metadata": {},
   "source": [
    "## mwa_spectral_var_table_323.colnames"
   ]
  },
  {
   "cell_type": "code",
   "execution_count": 144,
   "metadata": {
    "ExecuteTime": {
     "end_time": "2021-12-08T03:09:08.257166Z",
     "start_time": "2021-12-08T03:09:08.251178Z"
    }
   },
   "outputs": [],
   "source": [
    "mwa_spectral_var_table_323.add_column(0.0,name='MOSS_float')\n",
    "mwa_spectral_var_table_323.add_column(0.0,name='int_flux_wide_yr1_float')\n",
    "mwa_spectral_var_table_323.add_column(0.0,name='int_flux_wide_yr2_float')"
   ]
  },
  {
   "cell_type": "markdown",
   "metadata": {
    "ExecuteTime": {
     "end_time": "2021-12-08T02:58:59.037097Z",
     "start_time": "2021-12-08T02:58:59.027324Z"
    }
   },
   "source": [
    "mwa_spectral_var_table_323.colnames"
   ]
  },
  {
   "cell_type": "code",
   "execution_count": 79,
   "metadata": {
    "ExecuteTime": {
     "end_time": "2021-12-08T02:34:37.017261Z",
     "start_time": "2021-12-08T02:34:37.011803Z"
    }
   },
   "outputs": [
    {
     "data": {
      "text/plain": [
       "323"
      ]
     },
     "execution_count": 79,
     "metadata": {},
     "output_type": "execute_result"
    }
   ],
   "source": [
    "len(mwa_spectral_var_table_323)"
   ]
  },
  {
   "cell_type": "code",
   "execution_count": 146,
   "metadata": {
    "ExecuteTime": {
     "end_time": "2021-12-08T03:09:23.261462Z",
     "start_time": "2021-12-08T03:09:23.196591Z"
    }
   },
   "outputs": [],
   "source": [
    "for index,name in enumerate(mwa_spectral_var_table_323['GLEAM_Name']):\n",
    "    name_new= name.replace(' ','_')\n",
    "    #print(name_new)   \n",
    "    mwa_spectral_var_table_323['MOSS_float'][index]=float(mwa_spectral_var_table_323['MOSS'][index])\n",
    "    mwa_spectral_var_table_323['int_flux_wide_yr1_float'][index]=float(mwa_spectral_var_table_323['int_flux_wide_yr1'][index])\n",
    "    mwa_spectral_var_table_323['int_flux_wide_yr2_float'][index]=float(mwa_spectral_var_table_323['int_flux_wide_yr2'][index])\n",
    "\n"
   ]
  },
  {
   "cell_type": "markdown",
   "metadata": {},
   "source": [
    "## mosslt36dot7"
   ]
  },
  {
   "cell_type": "code",
   "execution_count": 148,
   "metadata": {
    "ExecuteTime": {
     "end_time": "2021-12-08T03:09:45.502188Z",
     "start_time": "2021-12-08T03:09:45.464870Z"
    }
   },
   "outputs": [],
   "source": [
    "mwa_spectral_var_table_323_mosslt36dot7=mwa_spectral_var_table_323[mwa_spectral_var_table_323['MOSS_float']<36.7]\n"
   ]
  },
  {
   "cell_type": "code",
   "execution_count": 149,
   "metadata": {
    "ExecuteTime": {
     "end_time": "2021-12-08T03:09:45.897243Z",
     "start_time": "2021-12-08T03:09:45.891767Z"
    }
   },
   "outputs": [
    {
     "data": {
      "text/plain": [
       "272"
      ]
     },
     "execution_count": 149,
     "metadata": {},
     "output_type": "execute_result"
    }
   ],
   "source": [
    "len(mwa_spectral_var_table_323_mosslt36dot7)"
   ]
  },
  {
   "cell_type": "markdown",
   "metadata": {},
   "source": [
    "## mossgt36dot7"
   ]
  },
  {
   "cell_type": "code",
   "execution_count": 150,
   "metadata": {
    "ExecuteTime": {
     "end_time": "2021-12-08T03:09:47.119295Z",
     "start_time": "2021-12-08T03:09:47.088621Z"
    }
   },
   "outputs": [],
   "source": [
    "mwa_spectral_var_table_323_mossgt36dot7=mwa_spectral_var_table_323[mwa_spectral_var_table_323['MOSS_float']>=36.7]\n"
   ]
  },
  {
   "cell_type": "code",
   "execution_count": 151,
   "metadata": {
    "ExecuteTime": {
     "end_time": "2021-12-08T03:09:47.601621Z",
     "start_time": "2021-12-08T03:09:47.596261Z"
    }
   },
   "outputs": [
    {
     "data": {
      "text/plain": [
       "51"
      ]
     },
     "execution_count": 151,
     "metadata": {},
     "output_type": "execute_result"
    }
   ],
   "source": [
    "len(mwa_spectral_var_table_323_mossgt36dot7)"
   ]
  },
  {
   "cell_type": "code",
   "execution_count": 172,
   "metadata": {
    "ExecuteTime": {
     "end_time": "2021-12-08T03:21:31.759902Z",
     "start_time": "2021-12-08T03:21:31.597741Z"
    }
   },
   "outputs": [],
   "source": [
    "mwa_spectral_var_table_323_mossgt36dot7.write('mwa_spectral_var_table_323_mossgt36dot7.csv')"
   ]
  },
  {
   "cell_type": "code",
   "execution_count": 173,
   "metadata": {
    "ExecuteTime": {
     "end_time": "2021-12-08T03:21:37.830407Z",
     "start_time": "2021-12-08T03:21:37.824630Z"
    }
   },
   "outputs": [
    {
     "data": {
      "text/plain": [
       "'/Users/brettlv/blog/brettlv.github.io/pythoncode'"
      ]
     },
     "execution_count": 173,
     "metadata": {},
     "output_type": "execute_result"
    }
   ],
   "source": [
    "pwd"
   ]
  },
  {
   "cell_type": "code",
   "execution_count": null,
   "metadata": {},
   "outputs": [],
   "source": []
  },
  {
   "cell_type": "markdown",
   "metadata": {},
   "source": [
    "## mwa_spectral_var_table_323_redshift"
   ]
  },
  {
   "cell_type": "code",
   "execution_count": 167,
   "metadata": {
    "ExecuteTime": {
     "end_time": "2021-12-08T03:16:30.266025Z",
     "start_time": "2021-12-08T03:16:30.229502Z"
    }
   },
   "outputs": [],
   "source": [
    "mwa_spectral_var_table_323_redshift=mwa_spectral_var_table_323[mwa_spectral_var_table_323['z']>0]"
   ]
  },
  {
   "cell_type": "code",
   "execution_count": 168,
   "metadata": {
    "ExecuteTime": {
     "end_time": "2021-12-08T03:16:44.228155Z",
     "start_time": "2021-12-08T03:16:44.224024Z"
    }
   },
   "outputs": [
    {
     "data": {
      "text/plain": [
       "59"
      ]
     },
     "execution_count": 168,
     "metadata": {},
     "output_type": "execute_result"
    }
   ],
   "source": [
    "len(mwa_spectral_var_table_323_redshift)"
   ]
  },
  {
   "cell_type": "markdown",
   "metadata": {},
   "source": [
    "## mwa_spectral_var_table_323_mossgt36dot7_redshift"
   ]
  },
  {
   "cell_type": "code",
   "execution_count": 165,
   "metadata": {
    "ExecuteTime": {
     "end_time": "2021-12-08T03:15:42.446318Z",
     "start_time": "2021-12-08T03:15:42.417078Z"
    }
   },
   "outputs": [],
   "source": [
    "mwa_spectral_var_table_323_mossgt36dot7_redshift=mwa_spectral_var_table_323_mossgt36dot7[mwa_spectral_var_table_323_mossgt36dot7['z']>0]"
   ]
  },
  {
   "cell_type": "code",
   "execution_count": 169,
   "metadata": {
    "ExecuteTime": {
     "end_time": "2021-12-08T03:17:01.568801Z",
     "start_time": "2021-12-08T03:17:01.561834Z"
    }
   },
   "outputs": [
    {
     "data": {
      "text/plain": [
       "17"
      ]
     },
     "execution_count": 169,
     "metadata": {},
     "output_type": "execute_result"
    }
   ],
   "source": [
    "len(mwa_spectral_var_table_323_mossgt36dot7_redshift)"
   ]
  },
  {
   "cell_type": "markdown",
   "metadata": {
    "ExecuteTime": {
     "end_time": "2021-12-08T03:28:18.176783Z",
     "start_time": "2021-12-08T03:28:18.147046Z"
    }
   },
   "source": [
    "mwa_spectral_var_table_323_mossgt36dot7_redshift['z']"
   ]
  },
  {
   "cell_type": "markdown",
   "metadata": {},
   "source": [
    "## mwa_spectral_var_table_323_mossgt36dot7_redshift_S_nvss"
   ]
  },
  {
   "cell_type": "code",
   "execution_count": 178,
   "metadata": {
    "ExecuteTime": {
     "end_time": "2021-12-08T06:06:14.727508Z",
     "start_time": "2021-12-08T06:06:14.692613Z"
    }
   },
   "outputs": [],
   "source": [
    "mwa_spectral_var_table_323_mossgt36dot7_redshift_S_nvss=mwa_spectral_var_table_323_mossgt36dot7_redshift[mwa_spectral_var_table_323_mossgt36dot7_redshift['S_nvss']>0]\n",
    "\n"
   ]
  },
  {
   "cell_type": "code",
   "execution_count": 179,
   "metadata": {
    "ExecuteTime": {
     "end_time": "2021-12-08T06:06:31.503612Z",
     "start_time": "2021-12-08T06:06:31.496994Z"
    }
   },
   "outputs": [
    {
     "data": {
      "text/plain": [
       "13"
      ]
     },
     "execution_count": 179,
     "metadata": {},
     "output_type": "execute_result"
    }
   ],
   "source": [
    "len(mwa_spectral_var_table_323_mossgt36dot7_redshift_S_nvss)"
   ]
  },
  {
   "cell_type": "code",
   "execution_count": 181,
   "metadata": {
    "ExecuteTime": {
     "end_time": "2021-12-08T06:09:04.049021Z",
     "start_time": "2021-12-08T06:09:04.038660Z"
    }
   },
   "outputs": [],
   "source": [
    "d_cm_mwa_spectral_var_table_323_mossgt36dot7_redshift_S_nvss=cosmo.luminosity_distance(mwa_spectral_var_table_323_mossgt36dot7_redshift_S_nvss['z']).to(u.cm).value\n",
    "\n"
   ]
  },
  {
   "cell_type": "code",
   "execution_count": 182,
   "metadata": {
    "ExecuteTime": {
     "end_time": "2021-12-08T06:09:12.202738Z",
     "start_time": "2021-12-08T06:09:12.191580Z"
    }
   },
   "outputs": [
    {
     "data": {
      "text/plain": [
       "array([2.04105847e+28, 3.97441165e+28, 3.63108348e+28, 1.62601156e+28,\n",
       "       2.72405399e+28, 1.27369042e+28, 5.10400457e+28, 5.74452036e+28,\n",
       "       1.12708426e+28, 8.98702030e+27, 3.01292608e+28, 4.25251011e+27,\n",
       "       3.68699905e+28])"
      ]
     },
     "execution_count": 182,
     "metadata": {},
     "output_type": "execute_result"
    }
   ],
   "source": [
    "d_cm_mwa_spectral_var_table_323_mossgt36dot7_redshift_S_nvss"
   ]
  },
  {
   "cell_type": "code",
   "execution_count": 180,
   "metadata": {
    "ExecuteTime": {
     "end_time": "2021-12-08T06:07:32.792944Z",
     "start_time": "2021-12-08T06:07:32.784011Z"
    }
   },
   "outputs": [
    {
     "data": {
      "text/html": [
       "&lt;MaskedColumn name=&apos;S_nvss&apos; dtype=&apos;float64&apos; unit=&apos;Jy&apos; description=&apos;NVSS flux density&apos; length=13&gt;\n",
       "<table>\n",
       "<tr><td>0.8302999999999999</td></tr>\n",
       "<tr><td>1.2195</td></tr>\n",
       "<tr><td>0.1301</td></tr>\n",
       "<tr><td>2.4236</td></tr>\n",
       "<tr><td>0.861</td></tr>\n",
       "<tr><td>0.7322000000000001</td></tr>\n",
       "<tr><td>0.8045</td></tr>\n",
       "<tr><td>1.2432</td></tr>\n",
       "<tr><td>1.8818</td></tr>\n",
       "<tr><td>0.305</td></tr>\n",
       "<tr><td>0.9278</td></tr>\n",
       "<tr><td>0.3045</td></tr>\n",
       "<tr><td>0.7682000000000001</td></tr>\n",
       "</table>"
      ],
      "text/plain": [
       "<MaskedColumn name='S_nvss' dtype='float64' unit='Jy' description='NVSS flux density' length=13>\n",
       "0.8302999999999999\n",
       "            1.2195\n",
       "            0.1301\n",
       "            2.4236\n",
       "             0.861\n",
       "0.7322000000000001\n",
       "            0.8045\n",
       "            1.2432\n",
       "            1.8818\n",
       "             0.305\n",
       "            0.9278\n",
       "            0.3045\n",
       "0.7682000000000001"
      ]
     },
     "execution_count": 180,
     "metadata": {},
     "output_type": "execute_result"
    }
   ],
   "source": [
    "mwa_spectral_var_table_323_mossgt36dot7_redshift_S_nvss['S_nvss']"
   ]
  },
  {
   "cell_type": "markdown",
   "metadata": {
    "code_folding": []
   },
   "source": [
    "# Power radio"
   ]
  },
  {
   "cell_type": "markdown",
   "metadata": {},
   "source": [
    " $$P_{ν_0} = 4 π D_L^2 (1 + z)^{-α−1}S_{ν_0} ν_0$$\n",
    " \n",
    " $$S_v = a v^{α}$$"
   ]
  },
  {
   "cell_type": "code",
   "execution_count": null,
   "metadata": {},
   "outputs": [],
   "source": []
  },
  {
   "cell_type": "code",
   "execution_count": 188,
   "metadata": {
    "ExecuteTime": {
     "end_time": "2021-12-08T06:20:51.766423Z",
     "start_time": "2021-12-08T06:20:51.753997Z"
    }
   },
   "outputs": [],
   "source": [
    "Pyr1_mwa_spectral_var_table_323_mossgt36dot7_redshift_S_nvss=4*np.pi*d_cm_mwa_spectral_var_table_323_mossgt36dot7_redshift_S_nvss**2*(1+mwa_spectral_var_table_323_mossgt36dot7_redshift_S_nvss['z'])**(-mwa_spectral_var_table_323_mossgt36dot7_redshift_S_nvss['alpha_high_yr1']-1)*mwa_spectral_var_table_323_mossgt36dot7_redshift_S_nvss['S_nvss']*1.0e-23*1.4e9#GHz\n"
   ]
  },
  {
   "cell_type": "code",
   "execution_count": 189,
   "metadata": {
    "ExecuteTime": {
     "end_time": "2021-12-08T06:21:10.546805Z",
     "start_time": "2021-12-08T06:21:10.541386Z"
    }
   },
   "outputs": [],
   "source": [
    "Pyr2_mwa_spectral_var_table_323_mossgt36dot7_redshift_S_nvss=4*np.pi*d_cm_mwa_spectral_var_table_323_mossgt36dot7_redshift_S_nvss**2*(1+mwa_spectral_var_table_323_mossgt36dot7_redshift_S_nvss['z'])**(-mwa_spectral_var_table_323_mossgt36dot7_redshift_S_nvss['alpha_high_yr2']-1)*mwa_spectral_var_table_323_mossgt36dot7_redshift_S_nvss['S_nvss']*1.0e-23*1.4e9#GHz\n"
   ]
  },
  {
   "cell_type": "code",
   "execution_count": 190,
   "metadata": {
    "ExecuteTime": {
     "end_time": "2021-12-08T06:21:13.553396Z",
     "start_time": "2021-12-08T06:21:13.545678Z"
    }
   },
   "outputs": [
    {
     "data": {
      "text/html": [
       "&lt;MaskedColumn name=&apos;z&apos; dtype=&apos;float64&apos; length=13&gt;\n",
       "<table>\n",
       "<tr><td>3.580604341748761e+43</td></tr>\n",
       "<tr><td>1.0332167645736242e+44</td></tr>\n",
       "<tr><td>1.4757246122943805e+43</td></tr>\n",
       "<tr><td>5.047861890729281e+43</td></tr>\n",
       "<tr><td>3.475027503479815e+43</td></tr>\n",
       "<tr><td>1.1102772496620103e+43</td></tr>\n",
       "<tr><td>1.793376754776984e+44</td></tr>\n",
       "<tr><td>1.7287510210723011e+44</td></tr>\n",
       "<tr><td>2.168626658478974e+43</td></tr>\n",
       "<tr><td>2.939266113899703e+42</td></tr>\n",
       "<tr><td>7.124436652062472e+43</td></tr>\n",
       "<tr><td>7.75686390524913e+41</td></tr>\n",
       "<tr><td>4.2823716884933683e+43</td></tr>\n",
       "</table>"
      ],
      "text/plain": [
       "<MaskedColumn name='z' dtype='float64' length=13>\n",
       " 3.580604341748761e+43\n",
       "1.0332167645736242e+44\n",
       "1.4757246122943805e+43\n",
       " 5.047861890729281e+43\n",
       " 3.475027503479815e+43\n",
       "1.1102772496620103e+43\n",
       " 1.793376754776984e+44\n",
       "1.7287510210723011e+44\n",
       " 2.168626658478974e+43\n",
       " 2.939266113899703e+42\n",
       " 7.124436652062472e+43\n",
       "  7.75686390524913e+41\n",
       "4.2823716884933683e+43"
      ]
     },
     "execution_count": 190,
     "metadata": {},
     "output_type": "execute_result"
    }
   ],
   "source": [
    "Pyr1_mwa_spectral_var_table_323_mossgt36dot7_redshift_S_nvss"
   ]
  },
  {
   "cell_type": "code",
   "execution_count": 191,
   "metadata": {
    "ExecuteTime": {
     "end_time": "2021-12-08T06:21:14.405849Z",
     "start_time": "2021-12-08T06:21:14.397926Z"
    }
   },
   "outputs": [
    {
     "data": {
      "text/html": [
       "&lt;MaskedColumn name=&apos;z&apos; dtype=&apos;float64&apos; length=13&gt;\n",
       "<table>\n",
       "<tr><td>3.5652010291756155e+43</td></tr>\n",
       "<tr><td>1.0859191973396491e+44</td></tr>\n",
       "<tr><td>1.5063498952536444e+43</td></tr>\n",
       "<tr><td>5.636347662398441e+43</td></tr>\n",
       "<tr><td>3.7853475021411547e+43</td></tr>\n",
       "<tr><td>1.0638278267036419e+43</td></tr>\n",
       "<tr><td>1.7467077176852637e+44</td></tr>\n",
       "<tr><td>1.8168042069260393e+44</td></tr>\n",
       "<tr><td>2.1473835333120673e+43</td></tr>\n",
       "<tr><td>2.8047892073528565e+42</td></tr>\n",
       "<tr><td>5.914966455319532e+43</td></tr>\n",
       "<tr><td>7.89330896320561e+41</td></tr>\n",
       "<tr><td>3.7659549534698585e+43</td></tr>\n",
       "</table>"
      ],
      "text/plain": [
       "<MaskedColumn name='z' dtype='float64' length=13>\n",
       "3.5652010291756155e+43\n",
       "1.0859191973396491e+44\n",
       "1.5063498952536444e+43\n",
       " 5.636347662398441e+43\n",
       "3.7853475021411547e+43\n",
       "1.0638278267036419e+43\n",
       "1.7467077176852637e+44\n",
       "1.8168042069260393e+44\n",
       "2.1473835333120673e+43\n",
       "2.8047892073528565e+42\n",
       " 5.914966455319532e+43\n",
       "  7.89330896320561e+41\n",
       "3.7659549534698585e+43"
      ]
     },
     "execution_count": 191,
     "metadata": {},
     "output_type": "execute_result"
    }
   ],
   "source": [
    "Pyr2_mwa_spectral_var_table_323_mossgt36dot7_redshift_S_nvss"
   ]
  },
  {
   "cell_type": "markdown",
   "metadata": {},
   "source": [
    "##  average cavity power, Pcav,"
   ]
  },
  {
   "cell_type": "markdown",
   "metadata": {},
   "source": [
    "To estimate average cavity power, Pcav, the energy of each cavity was divided by an estimate of its age. For compatibility with B08, we give results derived assuming that the age of the cavities is approximated by the buoyant rise time, tbuoy (Churazov et al. 2001; Bru ̈ggen 2003). Because the mechanical power estimated from the cavities greatly exceeds the synchrotron power of the radio source, we assume that Pcav = Pjet. Further, Pcav does not include energy channeled into shocks (e.g., Forman et al. 2007; Baldi et al. 2009a), which can exceed the energy in cavities (e.g., Nulsen et al. 2005). The cavity power estimates were summed for all the cavities in each system to obtain an estimate of the average AGN outburst power. Because the uncertainties are large (chiefly due to the uncertain volume estimates), errors are propagated in log space, assuming that the uncertainties in ambient pressure, cavity volume, and cavity age are independent of one another."
   ]
  },
  {
   "cell_type": "markdown",
   "metadata": {},
   "source": [
    "$$\\mathrm{log P_{cav}} = 0.75(\\pm 0.14) \\mathrm{log} P_{1.4} + 1.91(±0.18) $$"
   ]
  },
  {
   "cell_type": "code",
   "execution_count": 198,
   "metadata": {
    "ExecuteTime": {
     "end_time": "2021-12-08T07:17:02.781657Z",
     "start_time": "2021-12-08T07:17:02.772107Z"
    }
   },
   "outputs": [
    {
     "data": {
      "text/html": [
       "&lt;MaskedColumn name=&apos;z&apos; dtype=&apos;float64&apos; length=13&gt;\n",
       "<table>\n",
       "<tr><td>46.57546725045832</td></tr>\n",
       "<tr><td>46.920643583188934</td></tr>\n",
       "<tr><td>46.28675399041224</td></tr>\n",
       "<tr><td>46.68733059809108</td></tr>\n",
       "<tr><td>46.565718684657675</td></tr>\n",
       "<tr><td>46.19407358068689</td></tr>\n",
       "<tr><td>47.10025365219637</td></tr>\n",
       "<tr><td>47.08829933722238</td></tr>\n",
       "<tr><td>46.41213859412187</td></tr>\n",
       "<tr><td>45.761179180852416</td></tr>\n",
       "<tr><td>46.799562896923746</td></tr>\n",
       "<tr><td>45.327264628836666</td></tr>\n",
       "<tr><td>46.63376326939119</td></tr>\n",
       "</table>"
      ],
      "text/plain": [
       "<MaskedColumn name='z' dtype='float64' length=13>\n",
       " 46.57546725045832\n",
       "46.920643583188934\n",
       " 46.28675399041224\n",
       " 46.68733059809108\n",
       "46.565718684657675\n",
       " 46.19407358068689\n",
       " 47.10025365219637\n",
       " 47.08829933722238\n",
       " 46.41213859412187\n",
       "45.761179180852416\n",
       "46.799562896923746\n",
       "45.327264628836666\n",
       " 46.63376326939119"
      ]
     },
     "execution_count": 198,
     "metadata": {},
     "output_type": "execute_result"
    }
   ],
   "source": [
    "0.75*(np.log10(Pyr1_mwa_spectral_var_table_323_mossgt36dot7_redshift_S_nvss)-40)+1.91+42"
   ]
  },
  {
   "cell_type": "code",
   "execution_count": 199,
   "metadata": {
    "ExecuteTime": {
     "end_time": "2021-12-08T07:17:19.759326Z",
     "start_time": "2021-12-08T07:17:19.749945Z"
    }
   },
   "outputs": [
    {
     "data": {
      "text/html": [
       "&lt;MaskedColumn name=&apos;z&apos; dtype=&apos;float64&apos; length=13&gt;\n",
       "<table>\n",
       "<tr><td>46.57406301741515</td></tr>\n",
       "<tr><td>46.93684813312811</td></tr>\n",
       "<tr><td>46.293444396193415</td></tr>\n",
       "<tr><td>46.723248330131284</td></tr>\n",
       "<tr><td>46.59357931604778</td></tr>\n",
       "<tr><td>46.18015350952916</td></tr>\n",
       "<tr><td>47.09166517935989</td></tr>\n",
       "<tr><td>47.10448109513706</td></tr>\n",
       "<tr><td>46.40893221387867</td></tr>\n",
       "<tr><td>45.74592517071193</td></tr>\n",
       "<tr><td>46.73896421451532</td></tr>\n",
       "<tr><td>45.332944326855944</td></tr>\n",
       "<tr><td>46.591906340668515</td></tr>\n",
       "</table>"
      ],
      "text/plain": [
       "<MaskedColumn name='z' dtype='float64' length=13>\n",
       " 46.57406301741515\n",
       " 46.93684813312811\n",
       "46.293444396193415\n",
       "46.723248330131284\n",
       " 46.59357931604778\n",
       " 46.18015350952916\n",
       " 47.09166517935989\n",
       " 47.10448109513706\n",
       " 46.40893221387867\n",
       " 45.74592517071193\n",
       " 46.73896421451532\n",
       "45.332944326855944\n",
       "46.591906340668515"
      ]
     },
     "execution_count": 199,
     "metadata": {},
     "output_type": "execute_result"
    }
   ],
   "source": [
    "0.75*(np.log10(Pyr2_mwa_spectral_var_table_323_mossgt36dot7_redshift_S_nvss)-40)+1.91+42"
   ]
  },
  {
   "cell_type": "markdown",
   "metadata": {},
   "source": [
    "## plot"
   ]
  },
  {
   "cell_type": "code",
   "execution_count": 153,
   "metadata": {
    "ExecuteTime": {
     "end_time": "2021-12-08T03:10:05.920916Z",
     "start_time": "2021-12-08T03:10:05.914478Z"
    }
   },
   "outputs": [
    {
     "data": {
      "text/plain": [
       "(0.17, 4.22)"
      ]
     },
     "execution_count": 153,
     "metadata": {},
     "output_type": "execute_result"
    }
   ],
   "source": [
    "min(mwa_spectral_var_table_323_mossgt36dot7['int_flux_wide_yr1_float']),max(mwa_spectral_var_table_323_mossgt36dot7['int_flux_wide_yr1_float'])"
   ]
  },
  {
   "cell_type": "code",
   "execution_count": 170,
   "metadata": {
    "ExecuteTime": {
     "end_time": "2021-12-08T03:19:33.627359Z",
     "start_time": "2021-12-08T03:19:33.355885Z"
    }
   },
   "outputs": [
    {
     "data": {
      "text/plain": [
       "Text(0, 0.5, '$dN/N$')"
      ]
     },
     "execution_count": 170,
     "metadata": {},
     "output_type": "execute_result"
    },
    {
     "data": {
      "image/svg+xml": [
       "<?xml version=\"1.0\" encoding=\"utf-8\" standalone=\"no\"?>\n",
       "<!DOCTYPE svg PUBLIC \"-//W3C//DTD SVG 1.1//EN\"\n",
       "  \"http://www.w3.org/Graphics/SVG/1.1/DTD/svg11.dtd\">\n",
       "<!-- Created with matplotlib (https://matplotlib.org/) -->\n",
       "<svg height=\"364.422687pt\" version=\"1.1\" viewBox=\"0 0 400.5075 364.422687\" width=\"400.5075pt\" xmlns=\"http://www.w3.org/2000/svg\" xmlns:xlink=\"http://www.w3.org/1999/xlink\">\n",
       " <metadata>\n",
       "  <rdf:RDF xmlns:cc=\"http://creativecommons.org/ns#\" xmlns:dc=\"http://purl.org/dc/elements/1.1/\" xmlns:rdf=\"http://www.w3.org/1999/02/22-rdf-syntax-ns#\">\n",
       "   <cc:Work>\n",
       "    <dc:type rdf:resource=\"http://purl.org/dc/dcmitype/StillImage\"/>\n",
       "    <dc:date>2021-12-08T11:19:33.551936</dc:date>\n",
       "    <dc:format>image/svg+xml</dc:format>\n",
       "    <dc:creator>\n",
       "     <cc:Agent>\n",
       "      <dc:title>Matplotlib v3.3.2, https://matplotlib.org/</dc:title>\n",
       "     </cc:Agent>\n",
       "    </dc:creator>\n",
       "   </cc:Work>\n",
       "  </rdf:RDF>\n",
       " </metadata>\n",
       " <defs>\n",
       "  <style type=\"text/css\">*{stroke-linecap:butt;stroke-linejoin:round;}</style>\n",
       " </defs>\n",
       " <g id=\"figure_1\">\n",
       "  <g id=\"patch_1\">\n",
       "   <path d=\"M 0 364.422687 \n",
       "L 400.5075 364.422687 \n",
       "L 400.5075 0 \n",
       "L 0 0 \n",
       "z\n",
       "\" style=\"fill:none;\"/>\n",
       "  </g>\n",
       "  <g id=\"axes_1\">\n",
       "   <g id=\"patch_2\">\n",
       "    <path d=\"M 58.5075 333.36 \n",
       "L 393.3075 333.36 \n",
       "L 393.3075 7.2 \n",
       "L 58.5075 7.2 \n",
       "z\n",
       "\" style=\"fill:#ffffff;\"/>\n",
       "   </g>\n",
       "   <g id=\"matplotlib.axis_1\">\n",
       "    <g id=\"xtick_1\">\n",
       "     <g id=\"line2d_1\">\n",
       "      <defs>\n",
       "       <path d=\"M 0 0 \n",
       "L 0 -10 \n",
       "\" id=\"macb3e504ba\" style=\"stroke:#000000;stroke-width:2;\"/>\n",
       "      </defs>\n",
       "      <g>\n",
       "       <use style=\"stroke:#000000;stroke-width:2;\" x=\"157.911368\" xlink:href=\"#macb3e504ba\" y=\"333.36\"/>\n",
       "      </g>\n",
       "     </g>\n",
       "     <g id=\"line2d_2\">\n",
       "      <defs>\n",
       "       <path d=\"M 0 0 \n",
       "L 0 10 \n",
       "\" id=\"mf477c7e19f\" style=\"stroke:#000000;stroke-width:2;\"/>\n",
       "      </defs>\n",
       "      <g>\n",
       "       <use style=\"stroke:#000000;stroke-width:2;\" x=\"157.911368\" xlink:href=\"#mf477c7e19f\" y=\"7.2\"/>\n",
       "      </g>\n",
       "     </g>\n",
       "     <g id=\"text_1\">\n",
       "      <!-- 1 -->\n",
       "      <g transform=\"translate(157.351539 353.557443)rotate(-45)scale(0.18 -0.18)\">\n",
       "       <defs>\n",
       "        <path d=\"M 34.796875 0 \n",
       "L 27.59375 0 \n",
       "L 27.59375 61.796875 \n",
       "L 14.90625 50.59375 \n",
       "L 10.40625 56 \n",
       "L 28.40625 70.796875 \n",
       "L 34.796875 70.796875 \n",
       "z\n",
       "\" id=\"Avenir-Book-49\"/>\n",
       "       </defs>\n",
       "       <use xlink:href=\"#Avenir-Book-49\"/>\n",
       "      </g>\n",
       "     </g>\n",
       "    </g>\n",
       "    <g id=\"xtick_2\">\n",
       "     <g id=\"line2d_3\">\n",
       "      <g>\n",
       "       <use style=\"stroke:#000000;stroke-width:2;\" x=\"265.841736\" xlink:href=\"#macb3e504ba\" y=\"333.36\"/>\n",
       "      </g>\n",
       "     </g>\n",
       "     <g id=\"line2d_4\">\n",
       "      <g>\n",
       "       <use style=\"stroke:#000000;stroke-width:2;\" x=\"265.841736\" xlink:href=\"#mf477c7e19f\" y=\"7.2\"/>\n",
       "      </g>\n",
       "     </g>\n",
       "     <g id=\"text_2\">\n",
       "      <!-- 2 -->\n",
       "      <g transform=\"translate(265.281906 353.557443)rotate(-45)scale(0.18 -0.18)\">\n",
       "       <defs>\n",
       "        <path d=\"M 49.796875 0 \n",
       "L 4.796875 0 \n",
       "L 4.796875 8.296875 \n",
       "L 33 37 \n",
       "Q 34.59375 38.59375 36.1875 40.390625 \n",
       "Q 37.796875 42.203125 39.09375 44.203125 \n",
       "Q 40.40625 46.203125 41.203125 48.390625 \n",
       "Q 42 50.59375 42 53 \n",
       "Q 42 55.90625 40.953125 58.203125 \n",
       "Q 39.90625 60.5 38 62.09375 \n",
       "Q 36.09375 63.703125 33.59375 64.546875 \n",
       "Q 31.09375 65.40625 28.296875 65.40625 \n",
       "Q 22.90625 65.40625 19.09375 62.40625 \n",
       "Q 15.296875 59.40625 14.203125 54.296875 \n",
       "L 6.59375 55.09375 \n",
       "Q 8.09375 63 13.84375 67.5 \n",
       "Q 19.59375 72 27.796875 72 \n",
       "Q 32.09375 72 35.9375 70.84375 \n",
       "Q 39.796875 69.703125 42.75 67.390625 \n",
       "Q 45.703125 65.09375 47.453125 61.640625 \n",
       "Q 49.203125 58.203125 49.203125 53.59375 \n",
       "Q 49.203125 49.5 47.953125 46.09375 \n",
       "Q 46.703125 42.703125 44.703125 39.703125 \n",
       "Q 42.703125 36.703125 40.140625 34 \n",
       "Q 37.59375 31.296875 34.90625 28.703125 \n",
       "L 12.59375 6.59375 \n",
       "L 49.796875 6.59375 \n",
       "z\n",
       "\" id=\"Avenir-Book-50\"/>\n",
       "       </defs>\n",
       "       <use xlink:href=\"#Avenir-Book-50\"/>\n",
       "      </g>\n",
       "     </g>\n",
       "    </g>\n",
       "    <g id=\"xtick_3\">\n",
       "     <g id=\"line2d_5\">\n",
       "      <g>\n",
       "       <use style=\"stroke:#000000;stroke-width:2;\" x=\"373.772103\" xlink:href=\"#macb3e504ba\" y=\"333.36\"/>\n",
       "      </g>\n",
       "     </g>\n",
       "     <g id=\"line2d_6\">\n",
       "      <g>\n",
       "       <use style=\"stroke:#000000;stroke-width:2;\" x=\"373.772103\" xlink:href=\"#mf477c7e19f\" y=\"7.2\"/>\n",
       "      </g>\n",
       "     </g>\n",
       "     <g id=\"text_3\">\n",
       "      <!-- 3 -->\n",
       "      <g transform=\"translate(373.212274 353.557443)rotate(-45)scale(0.18 -0.18)\">\n",
       "       <defs>\n",
       "        <path d=\"M 20.40625 40.40625 \n",
       "L 24.09375 40.40625 \n",
       "Q 27.203125 40.40625 30.046875 41.09375 \n",
       "Q 32.90625 41.796875 35 43.34375 \n",
       "Q 37.09375 44.90625 38.34375 47.40625 \n",
       "Q 39.59375 49.90625 39.59375 53.40625 \n",
       "Q 39.59375 59.09375 36.140625 62.25 \n",
       "Q 32.703125 65.40625 26.5 65.40625 \n",
       "Q 22 65.40625 18.59375 63.40625 \n",
       "Q 15.203125 61.40625 13 57.59375 \n",
       "L 6.703125 60.796875 \n",
       "Q 9.90625 66.5 14.84375 69.25 \n",
       "Q 19.796875 72 26.296875 72 \n",
       "Q 30.5 72 34.203125 70.796875 \n",
       "Q 37.90625 69.59375 40.703125 67.25 \n",
       "Q 43.5 64.90625 45.140625 61.453125 \n",
       "Q 46.796875 58 46.796875 53.59375 \n",
       "Q 46.796875 50.703125 45.84375 48.09375 \n",
       "Q 44.90625 45.5 43.25 43.390625 \n",
       "Q 41.59375 41.296875 39.390625 39.75 \n",
       "Q 37.203125 38.203125 34.796875 37.40625 \n",
       "L 35.09375 37.203125 \n",
       "Q 38.09375 36.59375 40.59375 34.9375 \n",
       "Q 43.09375 33.296875 44.890625 30.890625 \n",
       "Q 46.703125 28.5 47.703125 25.5 \n",
       "Q 48.703125 22.5 48.703125 19.203125 \n",
       "Q 48.703125 14.296875 46.890625 10.5 \n",
       "Q 45.09375 6.703125 42 4.09375 \n",
       "Q 38.90625 1.5 34.796875 0.140625 \n",
       "Q 30.703125 -1.203125 26.09375 -1.203125 \n",
       "Q 18.296875 -1.203125 12.5 2.1875 \n",
       "Q 6.703125 5.59375 3.796875 13.09375 \n",
       "L 11.40625 15.40625 \n",
       "Q 13.203125 10.296875 16.75 7.84375 \n",
       "Q 20.296875 5.40625 26.703125 5.40625 \n",
       "Q 29.703125 5.40625 32.390625 6.40625 \n",
       "Q 35.09375 7.40625 37.140625 9.25 \n",
       "Q 39.203125 11.09375 40.34375 13.6875 \n",
       "Q 41.5 16.296875 41.5 19.40625 \n",
       "Q 41.5 23.40625 40 26.15625 \n",
       "Q 38.5 28.90625 36 30.59375 \n",
       "Q 33.5 32.296875 30.25 33.046875 \n",
       "Q 27 33.796875 23.5 33.796875 \n",
       "L 20.40625 33.796875 \n",
       "z\n",
       "\" id=\"Avenir-Book-51\"/>\n",
       "       </defs>\n",
       "       <use xlink:href=\"#Avenir-Book-51\"/>\n",
       "      </g>\n",
       "     </g>\n",
       "    </g>\n",
       "    <g id=\"xtick_4\">\n",
       "     <g id=\"line2d_7\">\n",
       "      <defs>\n",
       "       <path d=\"M 0 0 \n",
       "L 0 -5 \n",
       "\" id=\"mac8a71c179\" style=\"stroke:#000000;stroke-width:2;\"/>\n",
       "      </defs>\n",
       "      <g>\n",
       "       <use style=\"stroke:#000000;stroke-width:2;\" x=\"103.946185\" xlink:href=\"#mac8a71c179\" y=\"333.36\"/>\n",
       "      </g>\n",
       "     </g>\n",
       "     <g id=\"line2d_8\">\n",
       "      <defs>\n",
       "       <path d=\"M 0 0 \n",
       "L 0 5 \n",
       "\" id=\"ma3068c3f82\" style=\"stroke:#000000;stroke-width:2;\"/>\n",
       "      </defs>\n",
       "      <g>\n",
       "       <use style=\"stroke:#000000;stroke-width:2;\" x=\"103.946185\" xlink:href=\"#ma3068c3f82\" y=\"7.2\"/>\n",
       "      </g>\n",
       "     </g>\n",
       "    </g>\n",
       "    <g id=\"xtick_5\">\n",
       "     <g id=\"line2d_9\">\n",
       "      <g>\n",
       "       <use style=\"stroke:#000000;stroke-width:2;\" x=\"211.876552\" xlink:href=\"#mac8a71c179\" y=\"333.36\"/>\n",
       "      </g>\n",
       "     </g>\n",
       "     <g id=\"line2d_10\">\n",
       "      <g>\n",
       "       <use style=\"stroke:#000000;stroke-width:2;\" x=\"211.876552\" xlink:href=\"#ma3068c3f82\" y=\"7.2\"/>\n",
       "      </g>\n",
       "     </g>\n",
       "    </g>\n",
       "    <g id=\"xtick_6\">\n",
       "     <g id=\"line2d_11\">\n",
       "      <g>\n",
       "       <use style=\"stroke:#000000;stroke-width:2;\" x=\"319.80692\" xlink:href=\"#mac8a71c179\" y=\"333.36\"/>\n",
       "      </g>\n",
       "     </g>\n",
       "     <g id=\"line2d_12\">\n",
       "      <g>\n",
       "       <use style=\"stroke:#000000;stroke-width:2;\" x=\"319.80692\" xlink:href=\"#ma3068c3f82\" y=\"7.2\"/>\n",
       "      </g>\n",
       "     </g>\n",
       "    </g>\n",
       "   </g>\n",
       "   <g id=\"matplotlib.axis_2\">\n",
       "    <g id=\"ytick_1\">\n",
       "     <g id=\"line2d_13\">\n",
       "      <defs>\n",
       "       <path d=\"M 0 0 \n",
       "L 10 0 \n",
       "\" id=\"m34c79dac03\" style=\"stroke:#000000;stroke-width:2;\"/>\n",
       "      </defs>\n",
       "      <g>\n",
       "       <use style=\"stroke:#000000;stroke-width:2;\" x=\"58.5075\" xlink:href=\"#m34c79dac03\" y=\"333.36\"/>\n",
       "      </g>\n",
       "     </g>\n",
       "     <g id=\"line2d_14\">\n",
       "      <defs>\n",
       "       <path d=\"M 0 0 \n",
       "L -10 0 \n",
       "\" id=\"m675b7d0d80\" style=\"stroke:#000000;stroke-width:2;\"/>\n",
       "      </defs>\n",
       "      <g>\n",
       "       <use style=\"stroke:#000000;stroke-width:2;\" x=\"393.3075\" xlink:href=\"#m675b7d0d80\" y=\"333.36\"/>\n",
       "      </g>\n",
       "     </g>\n",
       "     <g id=\"text_4\">\n",
       "      <!-- 0.0 -->\n",
       "      <g transform=\"translate(29.990313 340.163437)scale(0.18 -0.18)\">\n",
       "       <defs>\n",
       "        <path d=\"M 27.796875 65.40625 \n",
       "Q 22 65.40625 18.640625 62.296875 \n",
       "Q 15.296875 59.203125 13.59375 54.59375 \n",
       "Q 11.90625 50 11.453125 44.796875 \n",
       "Q 11 39.59375 11 35.40625 \n",
       "Q 11 31.203125 11.453125 26 \n",
       "Q 11.90625 20.796875 13.59375 16.1875 \n",
       "Q 15.296875 11.59375 18.640625 8.5 \n",
       "Q 22 5.40625 27.796875 5.40625 \n",
       "Q 33.59375 5.40625 36.9375 8.5 \n",
       "Q 40.296875 11.59375 42 16.1875 \n",
       "Q 43.703125 20.796875 44.140625 26 \n",
       "Q 44.59375 31.203125 44.59375 35.40625 \n",
       "Q 44.59375 39.59375 44.140625 44.796875 \n",
       "Q 43.703125 50 42 54.59375 \n",
       "Q 40.296875 59.203125 36.9375 62.296875 \n",
       "Q 33.59375 65.40625 27.796875 65.40625 \n",
       "z\n",
       "M 27.796875 72 \n",
       "Q 35.40625 72 40.09375 68.5 \n",
       "Q 44.796875 65 47.390625 59.59375 \n",
       "Q 50 54.203125 50.890625 47.75 \n",
       "Q 51.796875 41.296875 51.796875 35.40625 \n",
       "Q 51.796875 29.5 50.890625 23.046875 \n",
       "Q 50 16.59375 47.390625 11.1875 \n",
       "Q 44.796875 5.796875 40.09375 2.296875 \n",
       "Q 35.40625 -1.203125 27.796875 -1.203125 \n",
       "Q 20.203125 -1.203125 15.5 2.296875 \n",
       "Q 10.796875 5.796875 8.1875 11.1875 \n",
       "Q 5.59375 16.59375 4.6875 23.046875 \n",
       "Q 3.796875 29.5 3.796875 35.40625 \n",
       "Q 3.796875 41.296875 4.6875 47.75 \n",
       "Q 5.59375 54.203125 8.1875 59.59375 \n",
       "Q 10.796875 65 15.5 68.5 \n",
       "Q 20.203125 72 27.796875 72 \n",
       "z\n",
       "\" id=\"Avenir-Book-48\"/>\n",
       "        <path d=\"M 19.296875 4.796875 \n",
       "Q 19.296875 2.703125 17.796875 1.046875 \n",
       "Q 16.296875 -0.59375 13.90625 -0.59375 \n",
       "Q 11.5 -0.59375 10 1.046875 \n",
       "Q 8.5 2.703125 8.5 4.796875 \n",
       "Q 8.5 6.90625 10 8.546875 \n",
       "Q 11.5 10.203125 13.90625 10.203125 \n",
       "Q 16.296875 10.203125 17.796875 8.546875 \n",
       "Q 19.296875 6.90625 19.296875 4.796875 \n",
       "z\n",
       "\" id=\"Avenir-Book-46\"/>\n",
       "       </defs>\n",
       "       <use xlink:href=\"#Avenir-Book-48\"/>\n",
       "       <use x=\"55.599991\" xlink:href=\"#Avenir-Book-46\"/>\n",
       "       <use x=\"83.399979\" xlink:href=\"#Avenir-Book-48\"/>\n",
       "      </g>\n",
       "     </g>\n",
       "    </g>\n",
       "    <g id=\"ytick_2\">\n",
       "     <g id=\"line2d_15\">\n",
       "      <g>\n",
       "       <use style=\"stroke:#000000;stroke-width:2;\" x=\"58.5075\" xlink:href=\"#m34c79dac03\" y=\"157.337143\"/>\n",
       "      </g>\n",
       "     </g>\n",
       "     <g id=\"line2d_16\">\n",
       "      <g>\n",
       "       <use style=\"stroke:#000000;stroke-width:2;\" x=\"393.3075\" xlink:href=\"#m675b7d0d80\" y=\"157.337143\"/>\n",
       "      </g>\n",
       "     </g>\n",
       "     <g id=\"text_5\">\n",
       "      <!-- 0.2 -->\n",
       "      <g transform=\"translate(29.990313 164.14058)scale(0.18 -0.18)\">\n",
       "       <use xlink:href=\"#Avenir-Book-48\"/>\n",
       "       <use x=\"55.599991\" xlink:href=\"#Avenir-Book-46\"/>\n",
       "       <use x=\"83.399979\" xlink:href=\"#Avenir-Book-50\"/>\n",
       "      </g>\n",
       "     </g>\n",
       "    </g>\n",
       "    <g id=\"ytick_3\">\n",
       "     <g id=\"line2d_17\">\n",
       "      <defs>\n",
       "       <path d=\"M 0 0 \n",
       "L 5 0 \n",
       "\" id=\"m2f3526da25\" style=\"stroke:#000000;stroke-width:2;\"/>\n",
       "      </defs>\n",
       "      <g>\n",
       "       <use style=\"stroke:#000000;stroke-width:2;\" x=\"58.5075\" xlink:href=\"#m2f3526da25\" y=\"245.348571\"/>\n",
       "      </g>\n",
       "     </g>\n",
       "     <g id=\"line2d_18\">\n",
       "      <defs>\n",
       "       <path d=\"M 0 0 \n",
       "L -5 0 \n",
       "\" id=\"m34bd650f3e\" style=\"stroke:#000000;stroke-width:2;\"/>\n",
       "      </defs>\n",
       "      <g>\n",
       "       <use style=\"stroke:#000000;stroke-width:2;\" x=\"393.3075\" xlink:href=\"#m34bd650f3e\" y=\"245.348571\"/>\n",
       "      </g>\n",
       "     </g>\n",
       "    </g>\n",
       "    <g id=\"ytick_4\">\n",
       "     <g id=\"line2d_19\">\n",
       "      <g>\n",
       "       <use style=\"stroke:#000000;stroke-width:2;\" x=\"58.5075\" xlink:href=\"#m2f3526da25\" y=\"69.325714\"/>\n",
       "      </g>\n",
       "     </g>\n",
       "     <g id=\"line2d_20\">\n",
       "      <g>\n",
       "       <use style=\"stroke:#000000;stroke-width:2;\" x=\"393.3075\" xlink:href=\"#m34bd650f3e\" y=\"69.325714\"/>\n",
       "      </g>\n",
       "     </g>\n",
       "    </g>\n",
       "    <g id=\"text_6\">\n",
       "     <!-- $dN/N$ -->\n",
       "     <g transform=\"translate(20.806875 192.51)rotate(-90)scale(0.18 -0.18)\">\n",
       "      <defs>\n",
       "       <path d=\"M 41.796875 8.203125 \n",
       "Q 38.1875 3.46875 33.25 1.015625 \n",
       "Q 28.328125 -1.421875 22.3125 -1.421875 \n",
       "Q 14.109375 -1.421875 9.34375 4.171875 \n",
       "Q 4.59375 9.765625 4.59375 19.484375 \n",
       "Q 4.59375 27.59375 7.46875 34.9375 \n",
       "Q 10.359375 42.28125 15.828125 48.09375 \n",
       "Q 19.4375 51.953125 23.96875 53.96875 \n",
       "Q 28.515625 56 33.5 56 \n",
       "Q 38.765625 56 42.796875 53.453125 \n",
       "Q 46.828125 50.921875 49.03125 46.1875 \n",
       "L 54.890625 75.984375 \n",
       "L 63.921875 75.984375 \n",
       "L 49.125 0 \n",
       "L 40.09375 0 \n",
       "z\n",
       "M 13.921875 21.09375 \n",
       "Q 13.921875 14.015625 17.109375 10.0625 \n",
       "Q 20.3125 6.109375 25.984375 6.109375 \n",
       "Q 30.171875 6.109375 33.765625 8.125 \n",
       "Q 37.359375 10.15625 40.09375 14.109375 \n",
       "Q 42.96875 18.21875 44.625 23.578125 \n",
       "Q 46.296875 28.953125 46.296875 34.1875 \n",
       "Q 46.296875 40.96875 43.09375 44.765625 \n",
       "Q 39.890625 48.578125 34.28125 48.578125 \n",
       "Q 30.03125 48.578125 26.359375 46.578125 \n",
       "Q 22.703125 44.578125 20.125 40.828125 \n",
       "Q 17.28125 36.765625 15.59375 31.390625 \n",
       "Q 13.921875 26.03125 13.921875 21.09375 \n",
       "z\n",
       "\" id=\"DejaVuSans-Oblique-100\"/>\n",
       "       <path d=\"M 16.890625 72.90625 \n",
       "L 30.171875 72.90625 \n",
       "L 50.296875 10.40625 \n",
       "L 62.5 72.90625 \n",
       "L 72.125 72.90625 \n",
       "L 57.90625 0 \n",
       "L 44.578125 0 \n",
       "L 24.515625 62.890625 \n",
       "L 12.3125 0 \n",
       "L 2.6875 0 \n",
       "z\n",
       "\" id=\"DejaVuSans-Oblique-78\"/>\n",
       "       <path d=\"M 25.390625 72.90625 \n",
       "L 33.6875 72.90625 \n",
       "L 8.296875 -9.28125 \n",
       "L 0 -9.28125 \n",
       "z\n",
       "\" id=\"DejaVuSans-47\"/>\n",
       "      </defs>\n",
       "      <use transform=\"translate(0 0.015625)\" xlink:href=\"#DejaVuSans-Oblique-100\"/>\n",
       "      <use transform=\"translate(63.476562 0.015625)\" xlink:href=\"#DejaVuSans-Oblique-78\"/>\n",
       "      <use transform=\"translate(138.28125 0.015625)\" xlink:href=\"#DejaVuSans-47\"/>\n",
       "      <use transform=\"translate(171.972656 0.015625)\" xlink:href=\"#DejaVuSans-Oblique-78\"/>\n",
       "     </g>\n",
       "    </g>\n",
       "   </g>\n",
       "   <g id=\"patch_3\">\n",
       "    <path clip-path=\"url(#p687bf22819)\" d=\"M 73.725682 333.36 \n",
       "L 73.725682 22.731429 \n",
       "L 104.162045 22.731429 \n",
       "L 104.162045 281.588571 \n",
       "L 134.598409 281.588571 \n",
       "L 134.598409 178.045714 \n",
       "L 165.034773 178.045714 \n",
       "L 165.034773 229.817143 \n",
       "L 195.471136 229.817143 \n",
       "L 195.471136 229.817143 \n",
       "L 225.9075 229.817143 \n",
       "L 225.9075 281.588571 \n",
       "L 256.343864 281.588571 \n",
       "L 256.343864 333.36 \n",
       "L 286.780227 333.36 \n",
       "L 286.780227 281.588571 \n",
       "L 317.216591 281.588571 \n",
       "L 317.216591 333.36 \n",
       "L 347.652955 333.36 \n",
       "L 347.652955 281.588571 \n",
       "L 378.089318 281.588571 \n",
       "L 378.089318 333.36 \n",
       "\" style=\"fill:none;stroke:#000000;stroke-linejoin:miter;stroke-width:2;\"/>\n",
       "   </g>\n",
       "   <g id=\"patch_4\">\n",
       "    <path d=\"M 58.5075 333.36 \n",
       "L 58.5075 7.2 \n",
       "\" style=\"fill:none;stroke:#000000;stroke-linecap:square;stroke-linejoin:miter;stroke-width:2;\"/>\n",
       "   </g>\n",
       "   <g id=\"patch_5\">\n",
       "    <path d=\"M 393.3075 333.36 \n",
       "L 393.3075 7.2 \n",
       "\" style=\"fill:none;stroke:#000000;stroke-linecap:square;stroke-linejoin:miter;stroke-width:2;\"/>\n",
       "   </g>\n",
       "   <g id=\"patch_6\">\n",
       "    <path d=\"M 58.5075 333.36 \n",
       "L 393.3075 333.36 \n",
       "\" style=\"fill:none;stroke:#000000;stroke-linecap:square;stroke-linejoin:miter;stroke-width:2;\"/>\n",
       "   </g>\n",
       "   <g id=\"patch_7\">\n",
       "    <path d=\"M 58.5075 7.2 \n",
       "L 393.3075 7.2 \n",
       "\" style=\"fill:none;stroke:#000000;stroke-linecap:square;stroke-linejoin:miter;stroke-width:2;\"/>\n",
       "   </g>\n",
       "   <g id=\"legend_1\">\n",
       "    <g id=\"patch_8\">\n",
       "     <path d=\"M 166.6475 36.244569 \n",
       "L 313.836094 36.244569 \n",
       "Q 316.036094 36.244569 316.036094 34.044569 \n",
       "L 316.036094 18.1616 \n",
       "Q 316.036094 15.9616 313.836094 15.9616 \n",
       "L 166.6475 15.9616 \n",
       "Q 164.4475 15.9616 164.4475 18.1616 \n",
       "L 164.4475 34.044569 \n",
       "Q 164.4475 36.244569 166.6475 36.244569 \n",
       "z\n",
       "\" style=\"fill:#ffffff;opacity:0.8;stroke:#cccccc;stroke-linejoin:miter;\"/>\n",
       "    </g>\n",
       "    <g id=\"patch_9\">\n",
       "     <path d=\"M 168.8475 28.676912 \n",
       "L 190.8475 28.676912 \n",
       "L 190.8475 20.976912 \n",
       "L 168.8475 20.976912 \n",
       "z\n",
       "\" style=\"fill:none;stroke:#000000;stroke-linejoin:miter;stroke-width:2;\"/>\n",
       "    </g>\n",
       "    <g id=\"text_7\">\n",
       "     <!-- int_flux_wide_yr1_float -->\n",
       "     <g transform=\"translate(199.6475 28.676912)scale(0.11 -0.11)\">\n",
       "      <defs>\n",
       "       <path d=\"M 16.796875 64.796875 \n",
       "Q 16.796875 62.703125 15.296875 61.34375 \n",
       "Q 13.796875 60 12 60 \n",
       "Q 10.203125 60 8.703125 61.34375 \n",
       "Q 7.203125 62.703125 7.203125 64.796875 \n",
       "Q 7.203125 66.90625 8.703125 68.25 \n",
       "Q 10.203125 69.59375 12 69.59375 \n",
       "Q 13.796875 69.59375 15.296875 68.25 \n",
       "Q 16.796875 66.90625 16.796875 64.796875 \n",
       "z\n",
       "M 15.296875 0 \n",
       "L 8.703125 0 \n",
       "L 8.703125 46.796875 \n",
       "L 15.296875 46.796875 \n",
       "z\n",
       "\" id=\"Avenir-Book-105\"/>\n",
       "       <path d=\"M 13.5 46.796875 \n",
       "Q 13.703125 44.90625 13.75 43.046875 \n",
       "Q 13.796875 41.203125 13.796875 39.296875 \n",
       "L 14 39.296875 \n",
       "Q 15.09375 41.203125 16.796875 42.796875 \n",
       "Q 18.5 44.40625 20.59375 45.546875 \n",
       "Q 22.703125 46.703125 25.046875 47.34375 \n",
       "Q 27.40625 48 29.703125 48 \n",
       "Q 38.703125 48 43 43.25 \n",
       "Q 47.296875 38.5 47.296875 29.703125 \n",
       "L 47.296875 0 \n",
       "L 40.703125 0 \n",
       "L 40.703125 25.90625 \n",
       "Q 40.703125 33.703125 38 37.84375 \n",
       "Q 35.296875 42 28 42 \n",
       "Q 27.5 42 25.203125 41.59375 \n",
       "Q 22.90625 41.203125 20.34375 39.390625 \n",
       "Q 17.796875 37.59375 15.796875 34 \n",
       "Q 13.796875 30.40625 13.796875 24 \n",
       "L 13.796875 0 \n",
       "L 7.203125 0 \n",
       "L 7.203125 36.5 \n",
       "Q 7.203125 38.40625 7.046875 41.296875 \n",
       "Q 6.90625 44.203125 6.703125 46.796875 \n",
       "z\n",
       "\" id=\"Avenir-Book-110\"/>\n",
       "       <path d=\"M 31.40625 40.796875 \n",
       "L 17.90625 40.796875 \n",
       "L 17.90625 13.203125 \n",
       "Q 17.90625 10.59375 18.40625 8.9375 \n",
       "Q 18.90625 7.296875 19.796875 6.390625 \n",
       "Q 20.703125 5.5 21.953125 5.140625 \n",
       "Q 23.203125 4.796875 24.703125 4.796875 \n",
       "Q 26.40625 4.796875 28.203125 5.296875 \n",
       "Q 30 5.796875 31.5 6.59375 \n",
       "L 31.796875 0.5 \n",
       "Q 28.09375 -1.203125 22.90625 -1.203125 \n",
       "Q 21 -1.203125 18.953125 -0.703125 \n",
       "Q 16.90625 -0.203125 15.203125 1.1875 \n",
       "Q 13.5 2.59375 12.390625 5 \n",
       "Q 11.296875 7.40625 11.296875 11.296875 \n",
       "L 11.296875 40.796875 \n",
       "L 1.40625 40.796875 \n",
       "L 1.40625 46.796875 \n",
       "L 11.296875 46.796875 \n",
       "L 11.296875 60 \n",
       "L 17.90625 60 \n",
       "L 17.90625 46.796875 \n",
       "L 31.40625 46.796875 \n",
       "z\n",
       "\" id=\"Avenir-Book-116\"/>\n",
       "       <path d=\"M 0 -7.5 \n",
       "L 50 -7.5 \n",
       "L 50 -12.5 \n",
       "L 0 -12.5 \n",
       "z\n",
       "\" id=\"Avenir-Book-95\"/>\n",
       "       <path d=\"M 29 40.796875 \n",
       "L 17.90625 40.796875 \n",
       "L 17.90625 0 \n",
       "L 11.296875 0 \n",
       "L 11.296875 40.796875 \n",
       "L 1.40625 40.796875 \n",
       "L 1.40625 46.796875 \n",
       "L 11.296875 46.796875 \n",
       "L 11.296875 59.59375 \n",
       "Q 11.296875 68.90625 15.59375 72.84375 \n",
       "Q 19.90625 76.796875 27 76.796875 \n",
       "Q 28.40625 76.796875 29.84375 76.59375 \n",
       "Q 31.296875 76.40625 32.703125 76.09375 \n",
       "L 31.5 70.09375 \n",
       "Q 30.296875 70.40625 29 70.59375 \n",
       "Q 27.703125 70.796875 26.40625 70.796875 \n",
       "Q 23.703125 70.796875 22 69.890625 \n",
       "Q 20.296875 69 19.390625 67.34375 \n",
       "Q 18.5 65.703125 18.203125 63.5 \n",
       "Q 17.90625 61.296875 17.90625 58.796875 \n",
       "L 17.90625 46.796875 \n",
       "L 29 46.796875 \n",
       "z\n",
       "\" id=\"Avenir-Book-102\"/>\n",
       "       <path d=\"M 15.296875 0 \n",
       "L 8.703125 0 \n",
       "L 8.703125 75.59375 \n",
       "L 15.296875 75.59375 \n",
       "z\n",
       "\" id=\"Avenir-Book-108\"/>\n",
       "       <path d=\"M 41 0 \n",
       "Q 40.796875 1.90625 40.75 3.75 \n",
       "Q 40.703125 5.59375 40.703125 7.5 \n",
       "L 40.5 7.5 \n",
       "Q 39.40625 5.59375 37.703125 4 \n",
       "Q 36 2.40625 33.890625 1.25 \n",
       "Q 31.796875 0.09375 29.4375 -0.546875 \n",
       "Q 27.09375 -1.203125 24.796875 -1.203125 \n",
       "Q 15.796875 -1.203125 11.5 3.546875 \n",
       "Q 7.203125 8.296875 7.203125 17.09375 \n",
       "L 7.203125 46.796875 \n",
       "L 13.796875 46.796875 \n",
       "L 13.796875 20.90625 \n",
       "Q 13.796875 17 14.390625 14 \n",
       "Q 15 11 16.453125 8.953125 \n",
       "Q 17.90625 6.90625 20.34375 5.84375 \n",
       "Q 22.796875 4.796875 26.5 4.796875 \n",
       "Q 27 4.796875 29.296875 5.1875 \n",
       "Q 31.59375 5.59375 34.140625 7.390625 \n",
       "Q 36.703125 9.203125 38.703125 12.796875 \n",
       "Q 40.703125 16.40625 40.703125 22.796875 \n",
       "L 40.703125 46.796875 \n",
       "L 47.296875 46.796875 \n",
       "L 47.296875 10.296875 \n",
       "Q 47.296875 8.40625 47.4375 5.5 \n",
       "Q 47.59375 2.59375 47.796875 0 \n",
       "z\n",
       "\" id=\"Avenir-Book-117\"/>\n",
       "       <path d=\"M 19.296875 25 \n",
       "L 2.296875 46.796875 \n",
       "L 11.296875 46.796875 \n",
       "L 24.296875 29.296875 \n",
       "L 36.703125 46.796875 \n",
       "L 44.90625 46.796875 \n",
       "L 28.59375 25 \n",
       "L 48.203125 0 \n",
       "L 39.203125 0 \n",
       "L 23.5 20.5 \n",
       "L 8.40625 0 \n",
       "L 0 0 \n",
       "z\n",
       "\" id=\"Avenir-Book-120\"/>\n",
       "       <path d=\"M 9.203125 46.796875 \n",
       "L 20 8.796875 \n",
       "L 20.203125 8.796875 \n",
       "L 32.703125 46.796875 \n",
       "L 39.5 46.796875 \n",
       "L 52 8.796875 \n",
       "L 52.203125 8.796875 \n",
       "L 63 46.796875 \n",
       "L 70.796875 46.796875 \n",
       "L 56 0 \n",
       "L 48.59375 0 \n",
       "L 36.203125 38.40625 \n",
       "L 36 38.40625 \n",
       "L 23.59375 0 \n",
       "L 16.203125 0 \n",
       "L 1.40625 46.796875 \n",
       "z\n",
       "\" id=\"Avenir-Book-119\"/>\n",
       "       <path d=\"M 11.203125 23.40625 \n",
       "Q 11.203125 19.5 12.453125 16.09375 \n",
       "Q 13.703125 12.703125 16 10.203125 \n",
       "Q 18.296875 7.703125 21.546875 6.25 \n",
       "Q 24.796875 4.796875 28.90625 4.796875 \n",
       "Q 32.90625 4.796875 36.34375 6.25 \n",
       "Q 39.796875 7.703125 42.296875 10.203125 \n",
       "Q 44.796875 12.703125 46.1875 16.09375 \n",
       "Q 47.59375 19.5 47.59375 23.40625 \n",
       "Q 47.59375 27.296875 46.1875 30.6875 \n",
       "Q 44.796875 34.09375 42.296875 36.59375 \n",
       "Q 39.796875 39.09375 36.34375 40.546875 \n",
       "Q 32.90625 42 28.90625 42 \n",
       "Q 24.796875 42 21.546875 40.546875 \n",
       "Q 18.296875 39.09375 16 36.59375 \n",
       "Q 13.703125 34.09375 12.453125 30.6875 \n",
       "Q 11.203125 27.296875 11.203125 23.40625 \n",
       "z\n",
       "M 53.90625 0 \n",
       "L 47.296875 0 \n",
       "L 47.296875 7.796875 \n",
       "L 47.09375 7.796875 \n",
       "Q 45.5 5.40625 43.296875 3.703125 \n",
       "Q 41.09375 2 38.6875 0.890625 \n",
       "Q 36.296875 -0.203125 33.75 -0.703125 \n",
       "Q 31.203125 -1.203125 28.90625 -1.203125 \n",
       "Q 23.40625 -1.203125 18.84375 0.640625 \n",
       "Q 14.296875 2.5 11 5.796875 \n",
       "Q 7.703125 9.09375 5.84375 13.59375 \n",
       "Q 4 18.09375 4 23.40625 \n",
       "Q 4 28.703125 5.84375 33.203125 \n",
       "Q 7.703125 37.703125 11 41 \n",
       "Q 14.296875 44.296875 18.84375 46.140625 \n",
       "Q 23.40625 48 28.90625 48 \n",
       "Q 31.203125 48 33.75 47.5 \n",
       "Q 36.296875 47 38.6875 45.890625 \n",
       "Q 41.09375 44.796875 43.296875 43.09375 \n",
       "Q 45.5 41.40625 47.09375 39 \n",
       "L 47.296875 39 \n",
       "L 47.296875 75.59375 \n",
       "L 53.90625 75.59375 \n",
       "z\n",
       "\" id=\"Avenir-Book-100\"/>\n",
       "       <path d=\"M 43.59375 27 \n",
       "Q 43.59375 33.703125 39.59375 37.84375 \n",
       "Q 35.59375 42 28.40625 42 \n",
       "Q 25.203125 42 22.203125 40.75 \n",
       "Q 19.203125 39.5 16.953125 37.390625 \n",
       "Q 14.703125 35.296875 13.34375 32.59375 \n",
       "Q 12 29.90625 12 27 \n",
       "z\n",
       "M 11.796875 21.59375 \n",
       "Q 12.09375 18.09375 13.5 15 \n",
       "Q 14.90625 11.90625 17.203125 9.65625 \n",
       "Q 19.5 7.40625 22.5 6.09375 \n",
       "Q 25.5 4.796875 29 4.796875 \n",
       "Q 34.296875 4.796875 38.140625 7.25 \n",
       "Q 42 9.703125 44 12.90625 \n",
       "L 49.09375 8.703125 \n",
       "Q 44.90625 3.40625 39.84375 1.09375 \n",
       "Q 34.796875 -1.203125 29 -1.203125 \n",
       "Q 23.796875 -1.203125 19.34375 0.640625 \n",
       "Q 14.90625 2.5 11.703125 5.796875 \n",
       "Q 8.5 9.09375 6.640625 13.59375 \n",
       "Q 4.796875 18.09375 4.796875 23.40625 \n",
       "Q 4.796875 28.703125 6.59375 33.203125 \n",
       "Q 8.40625 37.703125 11.59375 41 \n",
       "Q 14.796875 44.296875 19.09375 46.140625 \n",
       "Q 23.40625 48 28.40625 48 \n",
       "Q 33.703125 48 37.890625 46.09375 \n",
       "Q 42.09375 44.203125 44.9375 41.046875 \n",
       "Q 47.796875 37.90625 49.296875 33.65625 \n",
       "Q 50.796875 29.40625 50.796875 24.59375 \n",
       "L 50.796875 21.59375 \n",
       "z\n",
       "\" id=\"Avenir-Book-101\"/>\n",
       "       <path d=\"M 24.59375 8.09375 \n",
       "L 38.90625 46.796875 \n",
       "L 46.90625 46.796875 \n",
       "L 23.5 -12.203125 \n",
       "Q 21.40625 -17.59375 18.15625 -20.796875 \n",
       "Q 14.90625 -24 8.796875 -24 \n",
       "Q 7.296875 -24 5.75 -23.890625 \n",
       "Q 4.203125 -23.796875 2.703125 -23.296875 \n",
       "L 3.40625 -16.90625 \n",
       "Q 5.5 -18 8.40625 -18 \n",
       "Q 11.90625 -18 13.90625 -15.796875 \n",
       "Q 15.90625 -13.59375 17.40625 -9.59375 \n",
       "L 20.796875 -0.59375 \n",
       "L 1.59375 46.796875 \n",
       "L 9.90625 46.796875 \n",
       "z\n",
       "\" id=\"Avenir-Book-121\"/>\n",
       "       <path d=\"M 7.90625 32.203125 \n",
       "Q 7.90625 35.296875 7.75 38.5 \n",
       "Q 7.59375 41.703125 7.5 46.796875 \n",
       "L 14 46.796875 \n",
       "L 14 38.09375 \n",
       "L 14.203125 38.09375 \n",
       "Q 14.90625 40 16.203125 41.75 \n",
       "Q 17.5 43.5 19.34375 44.890625 \n",
       "Q 21.203125 46.296875 23.640625 47.140625 \n",
       "Q 26.09375 48 29.203125 48 \n",
       "Q 32 48 34.09375 47.40625 \n",
       "L 32.796875 40.90625 \n",
       "Q 31.5 41.40625 29 41.40625 \n",
       "Q 25.203125 41.40625 22.5 39.953125 \n",
       "Q 19.796875 38.5 18 36.25 \n",
       "Q 16.203125 34 15.34375 31.390625 \n",
       "Q 14.5 28.796875 14.5 26.40625 \n",
       "L 14.5 0 \n",
       "L 7.90625 0 \n",
       "z\n",
       "\" id=\"Avenir-Book-114\"/>\n",
       "       <path d=\"M 47.296875 23.40625 \n",
       "Q 47.296875 27.296875 46.046875 30.6875 \n",
       "Q 44.796875 34.09375 42.5 36.59375 \n",
       "Q 40.203125 39.09375 36.953125 40.546875 \n",
       "Q 33.703125 42 29.59375 42 \n",
       "Q 25.5 42 22.25 40.546875 \n",
       "Q 19 39.09375 16.75 36.59375 \n",
       "Q 14.5 34.09375 13.25 30.6875 \n",
       "Q 12 27.296875 12 23.40625 \n",
       "Q 12 19.5 13.25 16.09375 \n",
       "Q 14.5 12.703125 16.75 10.203125 \n",
       "Q 19 7.703125 22.25 6.25 \n",
       "Q 25.5 4.796875 29.59375 4.796875 \n",
       "Q 33.703125 4.796875 36.953125 6.25 \n",
       "Q 40.203125 7.703125 42.5 10.203125 \n",
       "Q 44.796875 12.703125 46.046875 16.09375 \n",
       "Q 47.296875 19.5 47.296875 23.40625 \n",
       "z\n",
       "M 54.5 23.40625 \n",
       "Q 54.5 18.09375 52.640625 13.59375 \n",
       "Q 50.796875 9.09375 47.5 5.796875 \n",
       "Q 44.203125 2.5 39.640625 0.640625 \n",
       "Q 35.09375 -1.203125 29.59375 -1.203125 \n",
       "Q 24.203125 -1.203125 19.640625 0.640625 \n",
       "Q 15.09375 2.5 11.796875 5.796875 \n",
       "Q 8.5 9.09375 6.640625 13.59375 \n",
       "Q 4.796875 18.09375 4.796875 23.40625 \n",
       "Q 4.796875 28.703125 6.640625 33.203125 \n",
       "Q 8.5 37.703125 11.796875 41 \n",
       "Q 15.09375 44.296875 19.640625 46.140625 \n",
       "Q 24.203125 48 29.59375 48 \n",
       "Q 35.09375 48 39.640625 46.140625 \n",
       "Q 44.203125 44.296875 47.5 41 \n",
       "Q 50.796875 37.703125 52.640625 33.203125 \n",
       "Q 54.5 28.703125 54.5 23.40625 \n",
       "z\n",
       "\" id=\"Avenir-Book-111\"/>\n",
       "       <path d=\"M 33.796875 23.296875 \n",
       "Q 31.296875 23.296875 27.546875 23.046875 \n",
       "Q 23.796875 22.796875 20.34375 21.84375 \n",
       "Q 16.90625 20.90625 14.453125 18.90625 \n",
       "Q 12 16.90625 12 13.40625 \n",
       "Q 12 11.09375 12.953125 9.4375 \n",
       "Q 13.90625 7.796875 15.5 6.75 \n",
       "Q 17.09375 5.703125 19.046875 5.25 \n",
       "Q 21 4.796875 23 4.796875 \n",
       "Q 26.59375 4.796875 29.25 6 \n",
       "Q 31.90625 7.203125 33.703125 9.25 \n",
       "Q 35.5 11.296875 36.34375 14.046875 \n",
       "Q 37.203125 16.796875 37.203125 19.90625 \n",
       "L 37.203125 23.296875 \n",
       "z\n",
       "M 37.203125 28.703125 \n",
       "L 37.203125 29.90625 \n",
       "Q 37.203125 42 25.203125 42 \n",
       "Q 17 42 10.90625 36.5 \n",
       "L 6.90625 41.203125 \n",
       "Q 13.5 48 26.703125 48 \n",
       "Q 30.09375 48 33.25 47 \n",
       "Q 36.40625 46 38.703125 43.953125 \n",
       "Q 41 41.90625 42.390625 38.796875 \n",
       "Q 43.796875 35.703125 43.796875 31.40625 \n",
       "L 43.796875 10.5 \n",
       "Q 43.796875 7.796875 44.046875 4.84375 \n",
       "Q 44.296875 1.90625 44.59375 0 \n",
       "L 38.203125 0 \n",
       "Q 37.90625 1.703125 37.75 3.703125 \n",
       "Q 37.59375 5.703125 37.59375 7.59375 \n",
       "L 37.40625 7.59375 \n",
       "Q 34.5 2.90625 30.546875 0.84375 \n",
       "Q 26.59375 -1.203125 20.90625 -1.203125 \n",
       "Q 17.796875 -1.203125 14.890625 -0.34375 \n",
       "Q 12 0.5 9.75 2.25 \n",
       "Q 7.5 4 6.140625 6.546875 \n",
       "Q 4.796875 9.09375 4.796875 12.5 \n",
       "Q 4.796875 18.203125 7.75 21.453125 \n",
       "Q 10.703125 24.703125 15.140625 26.296875 \n",
       "Q 19.59375 27.90625 24.640625 28.296875 \n",
       "Q 29.703125 28.703125 33.90625 28.703125 \n",
       "z\n",
       "\" id=\"Avenir-Book-97\"/>\n",
       "      </defs>\n",
       "      <use xlink:href=\"#Avenir-Book-105\"/>\n",
       "      <use x=\"23.999985\" xlink:href=\"#Avenir-Book-110\"/>\n",
       "      <use x=\"79.599976\" xlink:href=\"#Avenir-Book-116\"/>\n",
       "      <use x=\"112.799973\" xlink:href=\"#Avenir-Book-95\"/>\n",
       "      <use x=\"162.799957\" xlink:href=\"#Avenir-Book-102\"/>\n",
       "      <use x=\"192.399948\" xlink:href=\"#Avenir-Book-108\"/>\n",
       "      <use x=\"216.399933\" xlink:href=\"#Avenir-Book-117\"/>\n",
       "      <use x=\"271.999924\" xlink:href=\"#Avenir-Book-120\"/>\n",
       "      <use x=\"320.199921\" xlink:href=\"#Avenir-Book-95\"/>\n",
       "      <use x=\"370.199905\" xlink:href=\"#Avenir-Book-119\"/>\n",
       "      <use x=\"442.399887\" xlink:href=\"#Avenir-Book-105\"/>\n",
       "      <use x=\"466.399872\" xlink:href=\"#Avenir-Book-100\"/>\n",
       "      <use x=\"527.499863\" xlink:href=\"#Avenir-Book-101\"/>\n",
       "      <use x=\"583.099854\" xlink:href=\"#Avenir-Book-95\"/>\n",
       "      <use x=\"633.099838\" xlink:href=\"#Avenir-Book-121\"/>\n",
       "      <use x=\"681.299835\" xlink:href=\"#Avenir-Book-114\"/>\n",
       "      <use x=\"714.499832\" xlink:href=\"#Avenir-Book-49\"/>\n",
       "      <use x=\"770.099823\" xlink:href=\"#Avenir-Book-95\"/>\n",
       "      <use x=\"820.099808\" xlink:href=\"#Avenir-Book-102\"/>\n",
       "      <use x=\"849.699799\" xlink:href=\"#Avenir-Book-108\"/>\n",
       "      <use x=\"873.699783\" xlink:href=\"#Avenir-Book-111\"/>\n",
       "      <use x=\"932.999771\" xlink:href=\"#Avenir-Book-97\"/>\n",
       "      <use x=\"984.899765\" xlink:href=\"#Avenir-Book-116\"/>\n",
       "     </g>\n",
       "    </g>\n",
       "   </g>\n",
       "  </g>\n",
       " </g>\n",
       " <defs>\n",
       "  <clipPath id=\"p687bf22819\">\n",
       "   <rect height=\"326.16\" width=\"334.8\" x=\"58.5075\" y=\"7.2\"/>\n",
       "  </clipPath>\n",
       " </defs>\n",
       "</svg>\n"
      ],
      "text/plain": [
       "<Figure size 432x432 with 1 Axes>"
      ]
     },
     "metadata": {
      "needs_background": "light"
     },
     "output_type": "display_data"
    }
   ],
   "source": [
    "from adjustText import adjust_text\n",
    "\n",
    "fig = plt.figure(figsize=(6, 6))\n",
    "#fig.subplots_adjust(left=0.1, right=0.85, bottom=0.12, top=0.95)\n",
    "ax=fig.add_subplot(1,1,1)\n",
    "\n",
    "plot_label='int_flux_wide_yr1_float'\n",
    "plot_data=mwa_spectral_var_table_323_mossgt36dot7_redshift\n",
    "\n",
    "counts,bins=np.histogram(plot_data[plot_label],bins=10)\n",
    "\n",
    "ax.hist(bins[:-1],bins,weights=counts/len(plot_data),\n",
    "        fill=False,linewidth=2,histtype='step',edgecolor='black',\n",
    "        label=plot_label)\n",
    "\n",
    "set_ax_tick(ax)\n",
    "set_ax_locator(ax,1.0,0.5,0.2,0.1)\n",
    "#ax.set_xlim(timerangel,timeranger)\n",
    "#ax.set_xlim(-2.5,2.5)\n",
    "#ax.set_ylim(20,300)\n",
    "\n",
    "ax.xaxis.set_tick_params(which='major', size=10, width=2, rotation=45,)\n",
    "handles, labels = ax.get_legend_handles_labels()\n",
    "hdl = handles\n",
    "# remove the errorbars\n",
    "#hdl = [h[0] for h in handles]\n",
    "labels_dict=dict(zip(labels, hdl)) #key,values\n",
    "by_label = OrderedDict(zip(labels, hdl)) \n",
    "#by_label=OrderedDict(sorted(labels_dict.items(),key=lambda t:t[0]))\n",
    "ax.legend(by_label.values(), by_label.keys(), bbox_to_anchor=(0.3, 0.99),\n",
    "          loc=2, numpoints=1,ncol=1,fontsize=11.)\n",
    "\n",
    "ax.set_ylabel(r'$dN/N$')\n",
    "#ax.set_xlabel(r'log$L_{bol}(10^{11}L_{\\odot})$')\n",
    "\n",
    "# use them in the legend\n",
    "#by_label = OrderedDict(zip(labels, handles)) \n",
    "#ax.legend(by_label.values(), by_label.keys(), bbox_to_anchor=(0.0, 0.9),loc=2, numpoints=1, fontsize=11. )\n",
    "#ax.semilogy()\n",
    "#ax.semilogx()\n",
    "#ax.xaxis.set_major_locator(mpl.ticker.MultipleLocator(1000))\n",
    "#ax.xaxis.set_minor_locator(mpl.ticker.MultipleLocator(500))\n",
    "#plt.title(r'$\\tau$- $L_{bol}$')        \n",
    "\n",
    "#fig.savefig('%s/tau_L_correlation.png'%png_dir,dpi=400,transparent=False,bbox_inches='tight')"
   ]
  },
  {
   "cell_type": "code",
   "execution_count": null,
   "metadata": {},
   "outputs": [],
   "source": []
  }
 ],
 "metadata": {
  "kernelspec": {
   "display_name": "Python 3",
   "language": "python",
   "name": "python3"
  },
  "language_info": {
   "codemirror_mode": {
    "name": "ipython",
    "version": 3
   },
   "file_extension": ".py",
   "mimetype": "text/x-python",
   "name": "python",
   "nbconvert_exporter": "python",
   "pygments_lexer": "ipython3",
   "version": "3.8.5"
  },
  "latex_envs": {
   "LaTeX_envs_menu_present": true,
   "autocomplete": true,
   "bibliofile": "biblio.bib",
   "cite_by": "apalike",
   "current_citInitial": 1,
   "eqLabelWithNumbers": true,
   "eqNumInitial": 1,
   "hotkeys": {
    "equation": "Ctrl-E",
    "itemize": "Ctrl-I"
   },
   "labels_anchors": false,
   "latex_user_defs": false,
   "report_style_numbering": false,
   "user_envs_cfg": false
  },
  "toc": {
   "nav_menu": {},
   "number_sections": true,
   "sideBar": true,
   "skip_h1_title": false,
   "toc_cell": false,
   "toc_position": {
    "height": "473.297px",
    "left": "0px",
    "right": "913px",
    "top": "135.688px",
    "width": "342px"
   },
   "toc_section_display": "block",
   "toc_window_display": true
  }
 },
 "nbformat": 4,
 "nbformat_minor": 2
}
