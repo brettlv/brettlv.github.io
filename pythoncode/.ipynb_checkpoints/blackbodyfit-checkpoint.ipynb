{
 "cells": [
  {
   "cell_type": "code",
   "execution_count": 2,
   "metadata": {
    "ExecuteTime": {
     "end_time": "2018-07-14T21:24:01.231885Z",
     "start_time": "2018-07-14T21:23:58.900464Z"
    },
    "collapsed": true
   },
   "outputs": [],
   "source": [
    "import matplotlib.pyplot as plt\n",
    "import numpy as np\n",
    "import pandas as pd\n",
    "from astropy.stats import LombScargle\n",
    "plt.style.use('seaborn-whitegrid')\n",
    "\n",
    "%matplotlib inline\n",
    "%config InlineBackend.figure_format='svg'\n",
    "#%config InlineBackend.figure_format='retina'"
   ]
  },
  {
   "cell_type": "code",
   "execution_count": 88,
   "metadata": {
    "ExecuteTime": {
     "end_time": "2018-07-15T09:55:02.818016Z",
     "start_time": "2018-07-15T09:55:02.810525Z"
    },
    "collapsed": false
   },
   "outputs": [],
   "source": [
    "wavelengthbb=np.array([1.93,2.6,3.66,4.42,5.52,7.07,9,12.5,16.5,22])*10**-7#m\n",
    "fluxbb=np.array([4.3*10**-16,1.9*10**-16,1.1*10**-16,6.1*10**-17,2*10**-17,1.1*10**-17,6.2*10**-18,7.7*10**-19,2.9*10**-19,10**-19])\n"
   ]
  },
  {
   "cell_type": "code",
   "execution_count": 124,
   "metadata": {
    "ExecuteTime": {
     "end_time": "2018-07-15T10:20:30.884966Z",
     "start_time": "2018-07-15T10:20:30.878425Z"
    },
    "collapsed": false
   },
   "outputs": [],
   "source": [
    "import astropy \n",
    "from astropy import units as u\n",
    "from astropy.modeling.blackbody import blackbody_lambda,blackbody_nu,FLAM\n",
    "from astropy.modeling import models,fitting\n",
    "from astropy.modeling.models import BlackBody1D\n",
    "from astropy.visualization import quantity_support\n",
    "from scipy.constants import h,k,c\n",
    "\n",
    "k=1.38*10**-23#J/K\n",
    "h=6.626*10**-34#J*s\n",
    "c=3*10**8#m"
   ]
  },
  {
   "cell_type": "code",
   "execution_count": 114,
   "metadata": {
    "ExecuteTime": {
     "end_time": "2018-07-15T10:09:27.990995Z",
     "start_time": "2018-07-15T10:09:27.982613Z"
    },
    "collapsed": false
   },
   "outputs": [
    {
     "data": {
      "text/plain": [
       "(array([  1.93000000e-07,   2.60000000e-07,   3.66000000e-07,\n",
       "          4.42000000e-07,   5.52000000e-07,   7.07000000e-07,\n",
       "          9.00000000e-07,   1.25000000e-06,   1.65000000e-06,\n",
       "          2.20000000e-06]),\n",
       " array([  4.30000000e-16,   1.90000000e-16,   1.10000000e-16,\n",
       "          6.10000000e-17,   2.00000000e-17,   1.10000000e-17,\n",
       "          6.20000000e-18,   7.70000000e-19,   2.90000000e-19,\n",
       "          1.00000000e-19]))"
      ]
     },
     "execution_count": 114,
     "metadata": {},
     "output_type": "execute_result"
    }
   ],
   "source": [
    "wavelengthbb,fluxbb"
   ]
  },
  {
   "cell_type": "code",
   "execution_count": 11,
   "metadata": {
    "ExecuteTime": {
     "end_time": "2018-07-14T21:30:54.989020Z",
     "start_time": "2018-07-14T21:30:54.981793Z"
    },
    "collapsed": false
   },
   "outputs": [
    {
     "data": {
      "text/plain": [
       "(<Quantity [  1.93000000e-05,  2.60000000e-05,  3.66000000e-05,\n",
       "              4.42000000e-05,  5.52000000e-05,  7.07000000e-05,\n",
       "              9.00000000e-05,  1.25000000e-04,  1.65000000e-04,\n",
       "              2.20000000e-04] cm>,\n",
       " <Quantity [  4.30000000e-16,  1.90000000e-16,  1.10000000e-16,\n",
       "              6.10000000e-17,  2.00000000e-17,  1.10000000e-17,\n",
       "              6.20000000e-18,  7.70000000e-19,  2.90000000e-19,\n",
       "              1.00000000e-19] erg / (Angstrom cm2 s)>)"
      ]
     },
     "execution_count": 11,
     "metadata": {},
     "output_type": "execute_result"
    }
   ],
   "source": [
    "wavelength=wavelengthbb*u.cm\n",
    "flux=fluxbb*u.erg*u.cm**-2*u.s**-1*u.AA**-1\n",
    "wavelength,flux"
   ]
  },
  {
   "cell_type": "code",
   "execution_count": 99,
   "metadata": {
    "ExecuteTime": {
     "end_time": "2018-07-15T10:02:45.629494Z",
     "start_time": "2018-07-15T10:02:45.623540Z"
    },
    "collapsed": true
   },
   "outputs": [],
   "source": [
    "\n",
    "def Blamda(lamdawave,Tirr):\n",
    "    blamda=2*h*c**2*lamdawave**(-5)*(np.e**(h*c/lamdawave/k/Tirr)-1)**-1\n",
    "    return blamda\n"
   ]
  },
  {
   "cell_type": "code",
   "execution_count": 163,
   "metadata": {
    "ExecuteTime": {
     "end_time": "2018-07-15T16:54:23.800746Z",
     "start_time": "2018-07-15T16:54:22.655863Z"
    },
    "collapsed": false
   },
   "outputs": [],
   "source": [
    "Temp=np.linspace(2*10**4,4*10**4,11)\n",
    "fig=plt.figure(figsize=(12,9))\n",
    "for t in Temp: \n",
    "    a=fluxbb/(Blamda(wavelengthbb,t))\n",
    "    #a0=np.average(a[-4:])\n",
    "    a0=a[0]\n",
    "    ax1=fig.add_subplot(2,1,1)\n",
    "    ax1.plot(wavelengthbb*10**10,a,label='T:%d'%t)     \n",
    "    ax1.set_title('blackbody fit')\n",
    "    #ax1.scatter(wavelength,fraction,color='r',marker=\"*\")\n",
    "    ax1.set_ylabel(\"$a_0$\")\n",
    "    ax1.set_xlabel(\"wavelength/A\")\n",
    "    ax1.set_yscale('log')\n",
    "    ax1.set_ylim(0,10**-31)\n",
    "    plt.legend()\n",
    "    \n",
    "    fluxbbpre=a0*Blamda(wavelengthbb,t)\n",
    "    ax2=fig.add_subplot(2,1,2)\n",
    "    ax2.plot(wavelengthbb*10**10,fluxbbpre,label='T:%d'%t)\n",
    "    ax2.set_yscale('log')\n",
    "    plt.legend()\n",
    "ax2.scatter(wavelengthbb*10**10,fluxbb,label='obs_flux') \n",
    "plt.legend()\n",
    "#plt.show()\n",
    "plt.savefig('bb1.pdf')\n",
    "plt.close()\n",
    "    "
   ]
  },
  {
   "cell_type": "code",
   "execution_count": null,
   "metadata": {
    "collapsed": true
   },
   "outputs": [],
   "source": []
  },
  {
   "cell_type": "code",
   "execution_count": null,
   "metadata": {
    "collapsed": true
   },
   "outputs": [],
   "source": []
  },
  {
   "cell_type": "code",
   "execution_count": null,
   "metadata": {
    "collapsed": true
   },
   "outputs": [],
   "source": []
  },
  {
   "cell_type": "code",
   "execution_count": 87,
   "metadata": {
    "ExecuteTime": {
     "end_time": "2018-07-14T22:22:07.227696Z",
     "start_time": "2018-07-14T22:22:06.860454Z"
    },
    "collapsed": false
   },
   "outputs": [
    {
     "data": {
      "image/png": "[encoded data removed]",
      "text/plain": [
       "<matplotlib.figure.Figure at 0x11a9a14e0>"
      ]
     },
     "metadata": {},
     "output_type": "display_data"
    }
   ],
   "source": [
    "T1=27000\n",
    "T2=32400\n",
    "T3=20000\n",
    "\n",
    "bb1=BlackBody1D(temperature=T1*u.K)\n",
    "bb2=BlackBody1D(temperature=T2*u.K)\n",
    "bb3=BlackBody1D(temperature=T3*u.K)\n",
    "\n",
    "wave=np.arange(1600,22000)*u.AA\n",
    "fluxwave1=bb1(wave).to(FLAM,u.spectral_density(wave))\n",
    "fluxwave2=bb2(wave).to(FLAM,u.spectral_density(wave))\n",
    "fluxwave3=bb3(wave).to(FLAM,u.spectral_density(wave))\n",
    "\n",
    "\n",
    "\n",
    "with quantity_support():\n",
    "    plt.figure()\n",
    "    plt.plot(wave,fluxwave1,label=\"Temperature:%d K\"%T1)\n",
    "    plt.plot(wave,fluxwave2,label=\"Temperature:%d K\"%T2)\n",
    "    plt.plot(wave,fluxwave3,label=\"Temperature:%d K\"%T3)\n",
    "    plt.scatter(wavelength,flux*10**12)\n",
    "    plt.ylim(-0.0001,0.0005)\n",
    "    #plt.semilogx(True)\n",
    "    #plt.semilogy(True)\n",
    "    plt.title(\"Temperature:%d K\"%T1)\n",
    "    plt.legend()\n",
    "    plt.show()"
   ]
  },
  {
   "cell_type": "code",
   "execution_count": null,
   "metadata": {
    "ExecuteTime": {
     "end_time": "2018-07-14T21:56:23.292860Z",
     "start_time": "2018-07-14T21:56:23.274298Z"
    },
    "collapsed": false
   },
   "outputs": [],
   "source": []
  },
  {
   "cell_type": "code",
   "execution_count": 176,
   "metadata": {
    "ExecuteTime": {
     "end_time": "2018-07-15T21:35:28.605606Z",
     "start_time": "2018-07-15T21:35:28.132857Z"
    },
    "collapsed": false
   },
   "outputs": [
    {
     "name": "stdout",
     "output_type": "stream",
     "text": [
      "True model values\n",
      "  T1 = 5000.00\n",
      "  T2 = 8000.00\n",
      "Parameters of best-fitting model:\n",
      "  T1 = 5011.24 +/- 51.44\n",
      "  T2 = 7992.20 +/- 10.04\n",
      "98 dof\n",
      "chi squared 77.97\n",
      "nchi2 0.80\n"
     ]
    },
    {
     "data": {
      "image/png": "[encoded data removed]",
      "text/plain": [
       "<matplotlib.figure.Figure at 0x11ac78278>"
      ]
     },
     "metadata": {},
     "output_type": "display_data"
    }
   ],
   "source": [
    "from scipy.optimize import curve_fit\n",
    "import pylab as plt\n",
    "import numpy as np\n",
    "\n",
    "def blackbody_lam(lam, T):\n",
    "    \"\"\" Blackbody as a function of wavelength (A) and temperature (K).\n",
    "    returns units of erg/s/cm^2/cm/Steradian\n",
    "    \"\"\"\n",
    "    from scipy.constants import h,k,c\n",
    "    lam = 1e-10 * lam # convert to metres\n",
    "    return 2*h*c**2 / (lam**5 * (np.exp(h*c / (lam*k*T)) - 1))\n",
    "\n",
    "wa = np.linspace(1000, 50000, 100)   # wavelengths in A\n",
    "#wa =wa *10**-4 # um\n",
    "\n",
    "T1 = 5000.\n",
    "T2 = 8000.\n",
    "y1 = blackbody_lam(wa, T1)\n",
    "y2 = blackbody_lam(wa, T2)\n",
    "ytot = y1 + y2\n",
    "\n",
    "np.random.seed(1)\n",
    "\n",
    "# make synthetic data with Gaussian errors\n",
    "\n",
    "sigma = np.ones(len(wa)) * 1 * np.median(ytot)\n",
    "ydata = ytot + np.random.randn(len(wa)) * sigma\n",
    "\n",
    "# plot the input model and synthetic data\n",
    "\n",
    "plt.figure()\n",
    "plt.plot(wa, y1, ':', lw=2, label='T1=%.0f' % T1)\n",
    "plt.plot(wa, y2, ':', lw=2, label='T2=%.0f' % T2)\n",
    "plt.plot(wa, ytot, ':', lw=2, label='T1 + T2\\n(true model)')\n",
    "plt.plot(wa, ydata, ls='steps-mid', lw=2, label='Fake data')\n",
    "plt.xlabel('Wavelength ($\\AA $)')\n",
    "plt.ylabel('Intensity (erg/s/cm$^2$/cm/Steradian)')\n",
    "\n",
    "# fit two blackbodies to the synthetic data\n",
    "\n",
    "def func(wa, T1, T2):\n",
    "    return blackbody_lam(wa, T1) + blackbody_lam(wa, T2)\n",
    "\n",
    "# Note the initial guess values for T1 and T2 (p0 keyword below). They\n",
    "# are quite different to the known true values, but not *too*\n",
    "# different. If these are too far away from the solution curve_fit()\n",
    "# will not be able to find a solution. This is not a Python-specific\n",
    "# problem, it is true for almost every fitting algorithm for\n",
    "# non-linear models. The initial guess is important!\n",
    "\n",
    "popt, pcov = curve_fit(func, wa, ydata, p0=(1000, 3000), sigma=sigma)\n",
    "\n",
    "# get the best fitting parameter values and their 1 sigma errors\n",
    "# (assuming the parameters aren't strongly correlated).\n",
    "\n",
    "bestT1, bestT2 = popt\n",
    "sigmaT1, sigmaT2 = np.sqrt(np.diag(pcov))\n",
    "\n",
    "ybest = blackbody_lam(wa, bestT1) + blackbody_lam(wa, bestT2)\n",
    "\n",
    "print('True model values')\n",
    "print('  T1 = %.2f' % T1)\n",
    "print('  T2 = %.2f' % T2)\n",
    "\n",
    "print('Parameters of best-fitting model:')\n",
    "print('  T1 = %.2f +/- %.2f' % (bestT1, sigmaT1))\n",
    "print('  T2 = %.2f +/- %.2f' % (bestT2, sigmaT2))\n",
    "\n",
    "degrees_of_freedom = len(wa) - 2\n",
    "resid = (ydata - func(wa, *popt)) / sigma\n",
    "chisq = np.dot(resid, resid)\n",
    "\n",
    "print(degrees_of_freedom, 'dof')\n",
    "print('chi squared %.2f' % chisq)\n",
    "print('nchi2 %.2f' % (chisq / degrees_of_freedom))\n",
    "\n",
    "# plot the solution\n",
    "\n",
    "plt.plot(wa, ybest, label='Best fitting\\nmodel')\n",
    "plt.legend(frameon=False)\n",
    "plt.savefig('fit_bb.png')\n",
    "plt.show()"
   ]
  },
  {
   "cell_type": "code",
   "execution_count": null,
   "metadata": {
    "collapsed": true
   },
   "outputs": [],
   "source": []
  }
 ],
 "metadata": {
  "kernelspec": {
   "display_name": "Python 3",
   "language": "python",
   "name": "python3"
  },
  "language_info": {
   "codemirror_mode": {
    "name": "ipython",
    "version": 3
   },
   "file_extension": ".py",
   "mimetype": "text/x-python",
   "name": "python",
   "nbconvert_exporter": "python",
   "pygments_lexer": "ipython3",
   "version": "3.6.0"
  },
  "latex_envs": {
   "LaTeX_envs_menu_present": true,
   "autocomplete": true,
   "bibliofile": "biblio.bib",
   "cite_by": "apalike",
   "current_citInitial": 1,
   "eqLabelWithNumbers": true,
   "eqNumInitial": 1,
   "hotkeys": {
    "equation": "Ctrl-E",
    "itemize": "Ctrl-I"
   },
   "labels_anchors": false,
   "latex_user_defs": false,
   "report_style_numbering": false,
   "user_envs_cfg": false
  },
  "toc": {
   "nav_menu": {},
   "number_sections": true,
   "sideBar": true,
   "skip_h1_title": false,
   "toc_cell": false,
   "toc_position": {},
   "toc_section_display": "block",
   "toc_window_display": false
  }
 },
 "nbformat": 4,
 "nbformat_minor": 2
}
