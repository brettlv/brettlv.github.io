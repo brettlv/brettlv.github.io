{
 "cells": [
  {
   "cell_type": "code",
   "execution_count": 2,
   "metadata": {
    "ExecuteTime": {
     "end_time": "2020-07-18T17:53:51.756276Z",
     "start_time": "2020-07-18T17:53:50.586432Z"
    },
    "collapsed": false
   },
   "outputs": [
    {
     "name": "stdout",
     "output_type": "stream",
     "text": [
      "a = 0.8833688681038853 +/- 0.2303230276277179\n",
      "b = -12.745903411241166 +/- 1.186676943270716\n",
      "a1 = 0.6402206054612433 +/- 0.2758017232240727\n",
      "b1 = -14.237768027059278 +/- 1.3841662347085597\n"
     ]
    },
    {
     "data": {
      "image/png": "[encoded data removed]",
      "text/plain": [
       "<Figure size 432x288 with 1 Axes>"
      ]
     },
     "metadata": {},
     "output_type": "display_data"
    }
   ],
   "source": [
    "import sys\n",
    "import os\n",
    "import numpy\n",
    "import matplotlib.pyplot as plt\n",
    "from pylab import *\n",
    "import scipy.optimize as optimization\n",
    "from scipy.optimize import curve_fit\n",
    "\n",
    "\n",
    "xdata = numpy.array([-5.6, -5.6, -6.1, -5.0, -3.2, -6.4, -5.2, -4.5, -2.22, -3.30, -6.15])\n",
    "ydata = numpy.array([-18.40, -17.63, -17.67, -16.80, -14.19, -18.21, -17.10, -17.90, -15.30, -18.90, -18.62])\n",
    "\n",
    "\n",
    "# Initial guess.\n",
    "x0     = numpy.array([1.0, 1.0])\n",
    "#data error\n",
    "Xerr = numpy.array([0.000001, 0.000001, 0.000001, 0.0000001, 0.0000001, 0.13, 0.22, 0.30, 0.00000001, 1.0, 0.05])\n",
    "Yerr_1 = numpy.array([0.16, 0.16, 0.16, 0.16, 0.16, 0.16, 0.16, 0.16, 0.22, 0.45, 0.35])\n",
    "Yerr_2 = numpy.array([1.0, 1.0, 1.0, 1.0, 1.0, 1.0, 1.0, 1.0, 1.0, 1.0, 1.0])          #make change\n",
    "\n",
    "#def func(x, a, b, c):\n",
    "#    return a + b*x + c*x*x\n",
    "\n",
    "\n",
    "def line(x, a, b):\n",
    "    return a * x + b\n",
    "\n",
    "\n",
    "popt, pcov = curve_fit(line, xdata, ydata, sigma =Yerr_1)\n",
    "\n",
    "print(\"a =\", popt[0], \"+/-\", pcov[0,0]**0.5)\n",
    "print(\"b =\", popt[1], \"+/-\", pcov[1,1]**0.5)\n",
    "\n",
    "#1 sigma error ######################################################################################\n",
    "popt1, pcov1 = curve_fit(line, xdata, ydata, sigma = Yerr_2)                           #make change\n",
    "\n",
    "print(\"a1 =\", popt1[0], \"+/-\", pcov1[0,0]**0.5)\n",
    "print(\"b1 =\", popt1[1], \"+/-\", pcov1[1,1]**0.5)\n",
    "#####################################################################################################\n",
    "\n",
    "plt.errorbar(xdata, ydata, xerr= Xerr,yerr=Yerr_1, fmt=\"none\",label='original data')\n",
    "xfine = np.linspace(-2.0, -7.0, 100)  # define values to plot the function for\n",
    "plt.plot(xfine, line(xfine, popt[0], popt[1]), 'r-',label='random_yerr')\n",
    "plt.plot(xfine, line(xfine, popt1[0], popt1[1]), '--',label='yerr=1.0')    \n",
    "plt.legend()\n",
    "#plt.ylim(-11.5, -19.5)\n",
    "#plt.xlim(-2, -7)\n",
    "\n",
    "plt.show()"
   ]
  },
  {
   "cell_type": "markdown",
   "metadata": {},
   "source": [
    "# curve_fit"
   ]
  },
  {
   "cell_type": "code",
   "execution_count": 3,
   "metadata": {
    "ExecuteTime": {
     "end_time": "2020-07-18T17:53:59.297985Z",
     "start_time": "2020-07-18T17:53:59.066747Z"
    },
    "collapsed": false
   },
   "outputs": [
    {
     "data": {
      "image/png": "[encoded data removed]",
      "text/plain": [
       "<Figure size 432x288 with 1 Axes>"
      ]
     },
     "metadata": {},
     "output_type": "display_data"
    }
   ],
   "source": [
    "y  = line(xfine, popt[0], popt[1])\n",
    "y1 = line(xfine, popt[0] + pcov[0,0]**0.5, popt[1] - pcov[1,1]**0.5)\n",
    "y2 = line(xfine, popt[0] - pcov[0,0]**0.5, popt[1] + pcov[1,1]**0.5)\n",
    "\n",
    "\n",
    "y3 = line(xfine, popt[0] + pcov[0,0]**0.5, popt[1] + pcov[1,1]**0.5)\n",
    "y4 = line(xfine, popt[0] - pcov[0,0]**0.5, popt[1] - pcov[1,1]**0.5)\n",
    "\n",
    "plt.errorbar(xdata, ydata, xerr= Xerr,yerr=Yerr_1, fmt=\"none\",label='original data')\n",
    "plt.plot(xfine, y, '--')\n",
    "#plt.plot(xfine, y1, '-',color='gray')\n",
    "#plt.plot(xfine, y2, '-',color='gray')\n",
    "#plt.fill_between(xfine, y1, y2, facecolor=\"gray\", alpha=0.2)\n",
    "plt.fill_between(xfine, y3, y4, facecolor=\"gray\", alpha=0.2)\n",
    "plt.legend(loc='upper left')\n",
    "plt.show()"
   ]
  },
  {
   "cell_type": "code",
   "execution_count": null,
   "metadata": {
    "collapsed": true
   },
   "outputs": [],
   "source": []
  },
  {
   "cell_type": "markdown",
   "metadata": {},
   "source": [
    "# pymc"
   ]
  },
  {
   "cell_type": "markdown",
   "metadata": {},
   "source": [
    "https://github.com/pymc-devs/pymc/wiki/StraightLineFit"
   ]
  },
  {
   "cell_type": "code",
   "execution_count": 4,
   "metadata": {
    "ExecuteTime": {
     "end_time": "2020-07-18T17:54:12.905674Z",
     "start_time": "2020-07-18T17:54:10.169099Z"
    },
    "collapsed": true
   },
   "outputs": [],
   "source": [
    "\"\"\"\n",
    "Straight line fit -- linear regression\n",
    "======================================\n",
    "\n",
    "This is probably the most widespread problems in statistics: estimating the\n",
    "slope and ordinate of a linear relationship y = ax+b given some data (x,y).\n",
    "\n",
    "The standard least-square (SLS) solution to this problem assumes that the input\n",
    "data x is exact, and that errors only affect output measurements y. In many\n",
    "instances, this assumption does not hold and using the same SLS method yields\n",
    "biased parameters: the slope is underestimated and the ordinate overestimated.\n",
    "\n",
    "Here, both input and output data are assumed to be corrupted by errors of zero\n",
    "mean and variances of sigma_x and sigma_y respectively. Under these assumptions,\n",
    "the most general statistical distribution (maximum entropy) is the normal\n",
    "distribution. In the following, the parameter distribution is sampled by\n",
    "marginalizing x from\n",
    "\n",
    ".. math::\n",
    "    p(a,b,x \\mid \\tilde{x}, \\tilde{y}) = p(\\tilde{y} \\mid a, b, x) p(\\tilde{x} \\mid x) p(x) p(a,b),\n",
    "\n",
    "where p(x) stands for the prior for the true input and p(a,b) the prior for the\n",
    "regression parameters.\n",
    "\"\"\"\n",
    "\n",
    "\n",
    "from pymc import stochastic, observed, deterministic, uniform_like, runiform, rnormal, Sampler, Normal, Uniform\n",
    "from numpy import inf, log, cos,array\n",
    "import pylab\n",
    "\n",
    "# ------------------------------------------------------------------------------\n",
    "# Synthetic values\n",
    "# Replace by real data\n",
    "# ------------------------------------------------------------------------------\n",
    "slope = 1.5\n",
    "intercept = 4\n",
    "N = 30\n",
    "true_x = runiform(0,50, N)\n",
    "true_y = slope*true_x + intercept\n",
    "data_y = rnormal(true_y, 2)\n",
    "data_x = rnormal(true_x, 2)\n",
    "\n",
    "\n",
    "\n",
    "# ------------------------------------------------------------------------------\n",
    "# Calibration of straight line parameters from data\n",
    "# ------------------------------------------------------------------------------\n",
    "\n",
    "\n",
    "@stochastic\n",
    "def theta(value=array([2.,5.])):\n",
    "    \"\"\"Slope and intercept parameters for a straight line.\n",
    "    The likelihood corresponds to the prior probability of the parameters.\"\"\"\n",
    "    slope, intercept = value\n",
    "    prob_intercept = uniform_like(intercept, -10, 10)\n",
    "    prob_slope = log(1./cos(slope)**2)\n",
    "    return prob_intercept+prob_slope\n",
    "\n",
    "init_x = data_x.clip(min=0, max=50)\n",
    "\n",
    "# Inferred true inputs.\n",
    "x = Uniform('x', lower=0, upper=50, value=init_x)\n",
    "\n",
    "@deterministic(plot=False)\n",
    "def modelled_y(x=x, theta=theta):\n",
    "    \"\"\"Return y computed from the straight line model, given the\n",
    "    inferred true inputs and the model paramters.\"\"\"\n",
    "    slope, intercept = theta\n",
    "    return slope*x + intercept\n",
    "\n",
    "\n",
    "\"\"\"\n",
    "Input error model.\n",
    "\n",
    "    Define the probability of measuring x knowing the true value.\n",
    "\"\"\"\n",
    "measured_input = Normal('measured_input', mu=x, tau=2, value=data_x, observed=True)\n",
    "\n",
    "\"\"\"\n",
    "Output error model.\n",
    "    Define the probability of measuring x knowing the true value.\n",
    "    In this case, the true value is assumed to be given by the model, but\n",
    "    structural errors could be integrated to the analysis as well.\n",
    "\"\"\"\n",
    "y = Normal('y', mu=modelled_y, tau=2, value=data_y, observed=True)"
   ]
  },
  {
   "cell_type": "code",
   "execution_count": 5,
   "metadata": {
    "ExecuteTime": {
     "end_time": "2020-07-18T17:54:14.160195Z",
     "start_time": "2020-07-18T17:54:14.153645Z"
    },
    "collapsed": false
   },
   "outputs": [
    {
     "data": {
      "text/plain": [
       "<pymc.distributions.new_dist_class.<locals>.new_class 'x' at 0x1129ab358>"
      ]
     },
     "execution_count": 5,
     "metadata": {},
     "output_type": "execute_result"
    }
   ],
   "source": [
    "x"
   ]
  },
  {
   "cell_type": "code",
   "execution_count": 12,
   "metadata": {
    "ExecuteTime": {
     "end_time": "2020-07-18T19:20:43.700404Z",
     "start_time": "2020-07-18T19:20:43.693428Z"
    },
    "collapsed": false
   },
   "outputs": [
    {
     "data": {
      "text/plain": [
       "<pymc.distributions.new_dist_class.<locals>.new_class 'y' at 0x121cd49b0>"
      ]
     },
     "execution_count": 12,
     "metadata": {},
     "output_type": "execute_result"
    }
   ],
   "source": [
    "y"
   ]
  },
  {
   "cell_type": "code",
   "execution_count": null,
   "metadata": {
    "collapsed": true
   },
   "outputs": [],
   "source": []
  },
  {
   "cell_type": "code",
   "execution_count": null,
   "metadata": {
    "collapsed": true
   },
   "outputs": [],
   "source": []
  },
  {
   "cell_type": "code",
   "execution_count": null,
   "metadata": {
    "collapsed": true
   },
   "outputs": [],
   "source": []
  },
  {
   "cell_type": "code",
   "execution_count": null,
   "metadata": {
    "collapsed": true
   },
   "outputs": [],
   "source": []
  },
  {
   "cell_type": "code",
   "execution_count": 7,
   "metadata": {
    "ExecuteTime": {
     "end_time": "2020-07-18T17:54:18.297371Z",
     "start_time": "2020-07-18T17:54:18.105819Z"
    },
    "collapsed": false
   },
   "outputs": [
    {
     "data": {
      "image/png": "[encoded data removed]",
      "text/plain": [
       "<Figure size 432x288 with 1 Axes>"
      ]
     },
     "metadata": {},
     "output_type": "display_data"
    }
   ],
   "source": [
    "plt.errorbar(true_x,true_y,fmt='.')\n",
    "plt.errorbar(data_x,data_y,fmt='.')\n",
    "plt.show()"
   ]
  },
  {
   "cell_type": "code",
   "execution_count": null,
   "metadata": {
    "collapsed": true
   },
   "outputs": [],
   "source": []
  },
  {
   "cell_type": "markdown",
   "metadata": {},
   "source": [
    "# pymc3 a example"
   ]
  },
  {
   "cell_type": "code",
   "execution_count": null,
   "metadata": {
    "collapsed": true
   },
   "outputs": [],
   "source": []
  },
  {
   "cell_type": "code",
   "execution_count": null,
   "metadata": {
    "collapsed": true
   },
   "outputs": [],
   "source": [
    "http://mattpitkin.github.io/samplers-demo/pages/pymc3/"
   ]
  },
  {
   "cell_type": "markdown",
   "metadata": {},
   "source": [
    "## create data"
   ]
  },
  {
   "cell_type": "code",
   "execution_count": 13,
   "metadata": {
    "ExecuteTime": {
     "end_time": "2020-07-18T19:25:40.495941Z",
     "start_time": "2020-07-18T19:25:40.472750Z"
    },
    "collapsed": true
   },
   "outputs": [],
   "source": [
    "\"\"\"\n",
    "Setup a model and data\n",
    "\"\"\"\n",
    "\n",
    "import numpy as np\n",
    "\n",
    "# set the true values of the model parameters for creating the data\n",
    "m = 3.5 # gradient of the line\n",
    "c = 1.2 # y-intercept of the line\n",
    "\n",
    "# set the \"predictor variable\"/abscissa\n",
    "M = 100\n",
    "xmin = 0.\n",
    "xmax = 10.\n",
    "stepsize = (xmax-xmin)/M\n",
    "x = np.arange(xmin, xmax, stepsize)\n",
    "\n",
    "# define the model function\n",
    "def straight_line(x, m, c):\n",
    "    \"\"\"\n",
    "    A straight line model: y = m*x + c\n",
    "    \n",
    "    Args:\n",
    "        x (list): a set of abscissa points at which the model is defined\n",
    "        m (float): the gradient of the line\n",
    "        c (float): the y-intercept of the line\n",
    "    \"\"\"\n",
    "    \n",
    "    return m*x + c\n",
    "\n",
    "# create the data - the model plus Gaussian noise\n",
    "sigma = 0.5 # standard deviation of the noise\n",
    "data = straight_line(x, m, c) + sigma*np.random.randn(M)\n",
    "\n"
   ]
  },
  {
   "cell_type": "code",
   "execution_count": 14,
   "metadata": {
    "ExecuteTime": {
     "end_time": "2020-07-18T19:25:45.681445Z",
     "start_time": "2020-07-18T19:25:45.561113Z"
    },
    "collapsed": false
   },
   "outputs": [
    {
     "ename": "ModuleNotFoundError",
     "evalue": "No module named 'pymc3'",
     "output_type": "error",
     "traceback": [
      "\u001b[0;31m---------------------------------------------------------------------------\u001b[0m",
      "\u001b[0;31mModuleNotFoundError\u001b[0m                       Traceback (most recent call last)",
      "\u001b[0;32m<ipython-input-14-5d81a7642793>\u001b[0m in \u001b[0;36m<module>\u001b[0;34m()\u001b[0m\n\u001b[1;32m     15\u001b[0m \u001b[0;34m\u001b[0m\u001b[0m\n\u001b[1;32m     16\u001b[0m \u001b[0;31m# import PyMC3\u001b[0m\u001b[0;34m\u001b[0m\u001b[0;34m\u001b[0m\u001b[0m\n\u001b[0;32m---> 17\u001b[0;31m \u001b[0;32mimport\u001b[0m \u001b[0mpymc3\u001b[0m \u001b[0;32mas\u001b[0m \u001b[0mpm\u001b[0m\u001b[0;34m\u001b[0m\u001b[0m\n\u001b[0m\u001b[1;32m     18\u001b[0m \u001b[0;34m\u001b[0m\u001b[0m\n\u001b[1;32m     19\u001b[0m \u001b[0;31m# import model and data\u001b[0m\u001b[0;34m\u001b[0m\u001b[0;34m\u001b[0m\u001b[0m\n",
      "\u001b[0;31mModuleNotFoundError\u001b[0m: No module named 'pymc3'"
     ]
    }
   ],
   "source": [
    "# -*- coding: utf-8 -*-\n",
    "\n",
    "\"\"\"\n",
    "Example of running PyMC3 to fit the parameters of a straight line.\n",
    "\"\"\"\n",
    "\n",
    "from __future__ import print_function, division\n",
    "\n",
    "import os\n",
    "import sys\n",
    "import numpy as np\n",
    "\n",
    "import matplotlib as mpl\n",
    "mpl.use(\"Agg\") # force Matplotlib backend to Agg\n",
    "\n",
    "# import PyMC3\n",
    "import pymc3 as pm\n",
    "\n",
    "# import model and data\n",
    "from createdata import *\n",
    "\n",
    "# set the PyMC3 model\n",
    "linear_model = pm.Model()\n",
    "\n",
    "with linear_model:\n",
    "    # set prior parameters\n",
    "    cmin = -10. # lower range of uniform distribution on c\n",
    "    cmax = 10.  # upper range of uniform distribution on c\n",
    "    \n",
    "    mmu = 0.     # mean of Gaussian distribution on m\n",
    "    msigma = 10. # standard deviation of Gaussian distribution on m\n",
    "    \n",
    "    # set priors for unknown parameters\n",
    "    cmodel = pm.Uniform('c', lower=cmin, upper=cmax) # uniform prior on y-intercept\n",
    "    mmodel = pm.Normal('m', mu=mmu, sd=msigma)       # Gaussian prior on gradient\n",
    "    \n",
    "    sigmamodel = sigma # set a single standard deviation\n",
    "    \n",
    "    # Expected value of outcome, aka \"the model\"\n",
    "    mu = mmodel*x + cmodel\n",
    "    \n",
    "    # Gaussian likelihood (sampling distribution) of observations, \"data\"\n",
    "    Y_obs = pm.Normal('Y_obs', mu=mu, sd=sigmamodel, observed=data)\n",
    "\n",
    "Nsamples = 1000 # final number of samples\n",
    "Ntune = 1000    # number of tuning samples\n",
    "\n",
    "# perform sampling\n",
    "with linear_model:\n",
    "    trace = pm.sample(Nsamples, tune=Ntune, discard_tuned_samples=True) # perform sampling\n",
    "\n",
    "# extract the samples\n",
    "postsamples = np.vstack((trace['m'], trace['c'])).T\n",
    "\n",
    "# plot posterior samples (if corner.py is installed)\n",
    "try:\n",
    "    import corner # import corner.py\n",
    "except ImportError:\n",
    "    sys.exit(1)\n",
    "\n",
    "print('Number of posterior samples is {}'.format(postsamples.shape[0]))\n",
    "\n",
    "fig = corner.corner(postsamples, labels=[r\"$m$\", r\"$c$\"], truths=[m, c])\n",
    "fig.savefig('PyMC3.png')"
   ]
  },
  {
   "cell_type": "code",
   "execution_count": null,
   "metadata": {
    "collapsed": true
   },
   "outputs": [],
   "source": []
  }
 ],
 "metadata": {
  "kernelspec": {
   "display_name": "Python 3",
   "language": "python",
   "name": "python3"
  },
  "language_info": {
   "codemirror_mode": {
    "name": "ipython",
    "version": 3
   },
   "file_extension": ".py",
   "mimetype": "text/x-python",
   "name": "python",
   "nbconvert_exporter": "python",
   "pygments_lexer": "ipython3",
   "version": "3.6.0"
  },
  "latex_envs": {
   "LaTeX_envs_menu_present": true,
   "autocomplete": true,
   "bibliofile": "biblio.bib",
   "cite_by": "apalike",
   "current_citInitial": 1,
   "eqLabelWithNumbers": true,
   "eqNumInitial": 1,
   "hotkeys": {
    "equation": "Ctrl-E",
    "itemize": "Ctrl-I"
   },
   "labels_anchors": false,
   "latex_user_defs": false,
   "report_style_numbering": false,
   "user_envs_cfg": false
  },
  "toc": {
   "nav_menu": {},
   "number_sections": true,
   "sideBar": true,
   "skip_h1_title": false,
   "toc_cell": false,
   "toc_position": {},
   "toc_section_display": "block",
   "toc_window_display": true
  }
 },
 "nbformat": 4,
 "nbformat_minor": 2
}
