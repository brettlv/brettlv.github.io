{
 "cells": [
  {
   "cell_type": "code",
   "execution_count": 45,
   "metadata": {
    "ExecuteTime": {
     "end_time": "2017-11-28T19:33:33.296184Z",
     "start_time": "2017-11-28T19:33:32.152972Z"
    },
    "collapsed": true
   },
   "outputs": [],
   "source": [
    "from lxml.html import parse\n",
    "from urllib.request import urlopen\n",
    "from pandas.io.parsers import TextParser\n",
    "from pandas import Series\n",
    "\n",
    "url_list_nearest_galaxies='https://en.wikipedia.org/wiki/List_of_nearest_galaxies'\n",
    "url_list_pos='https://en.wikipedia.org/wiki/Book:The_Nearest_Galaxies'\n"
   ]
  },
  {
   "cell_type": "code",
   "execution_count": 46,
   "metadata": {
    "ExecuteTime": {
     "end_time": "2017-11-28T19:33:38.218140Z",
     "start_time": "2017-11-28T19:33:34.425547Z"
    },
    "collapsed": true
   },
   "outputs": [],
   "source": [
    "parsedurl=parse(urlopen(url_list_nearest_galaxies))\n",
    "parsedurl_pos=parse(urlopen(url_list_pos))"
   ]
  },
  {
   "cell_type": "code",
   "execution_count": 47,
   "metadata": {
    "ExecuteTime": {
     "end_time": "2017-11-28T19:33:38.225178Z",
     "start_time": "2017-11-28T19:33:38.220028Z"
    },
    "collapsed": true
   },
   "outputs": [],
   "source": [
    "url=parsedurl.getroot()\n",
    "url_pos=parsedurl_pos.getroot()"
   ]
  },
  {
   "cell_type": "code",
   "execution_count": 48,
   "metadata": {
    "ExecuteTime": {
     "end_time": "2017-11-28T19:33:38.241228Z",
     "start_time": "2017-11-28T19:33:38.227295Z"
    },
    "collapsed": true
   },
   "outputs": [],
   "source": [
    "def _unpack(row,kind='td'):\n",
    "    elts=row.findall('.//%s' %kind)\n",
    "    return [val.text_content() for val in elts]"
   ]
  },
  {
   "cell_type": "code",
   "execution_count": 49,
   "metadata": {
    "ExecuteTime": {
     "end_time": "2017-11-28T19:33:38.253063Z",
     "start_time": "2017-11-28T19:33:38.244982Z"
    },
    "collapsed": true
   },
   "outputs": [],
   "source": [
    "def parse_options_data(table):\n",
    "    rows=table.findall('.//tr')\n",
    "    header=_unpack(rows[0],kind='th')\n",
    "    data=[_unpack(r) for r in rows[1:]]\n",
    "    #return data\n",
    "    return TextParser(data,names=header).get_chunk()"
   ]
  },
  {
   "cell_type": "code",
   "execution_count": 50,
   "metadata": {
    "ExecuteTime": {
     "end_time": "2017-11-28T19:33:38.265997Z",
     "start_time": "2017-11-28T19:33:38.258819Z"
    },
    "collapsed": false
   },
   "outputs": [],
   "source": [
    "tables=url.findall('.//table')"
   ]
  },
  {
   "cell_type": "code",
   "execution_count": 51,
   "metadata": {
    "ExecuteTime": {
     "end_time": "2017-11-28T19:33:38.923970Z",
     "start_time": "2017-11-28T19:33:38.917876Z"
    },
    "collapsed": true
   },
   "outputs": [],
   "source": [
    "url_link_pos=url_pos.findall('.//a')\n",
    "url_link_pos_all=url.findall('.//a')"
   ]
  },
  {
   "cell_type": "code",
   "execution_count": 52,
   "metadata": {
    "ExecuteTime": {
     "end_time": "2017-11-28T19:33:40.344580Z",
     "start_time": "2017-11-28T19:33:40.341478Z"
    },
    "collapsed": true
   },
   "outputs": [],
   "source": [
    "wiki='https://en.wikipedia.org'"
   ]
  },
  {
   "cell_type": "code",
   "execution_count": 53,
   "metadata": {
    "ExecuteTime": {
     "end_time": "2017-11-28T19:33:41.700944Z",
     "start_time": "2017-11-28T19:33:41.695144Z"
    },
    "collapsed": false,
    "scrolled": false
   },
   "outputs": [],
   "source": [
    "urls_pos=[url.get('href') for url in url_link_pos]\n",
    "urls_pos_all=[url.get('href') for url in url_link_pos_all]"
   ]
  },
  {
   "cell_type": "code",
   "execution_count": 54,
   "metadata": {
    "ExecuteTime": {
     "end_time": "2017-11-28T19:33:42.711894Z",
     "start_time": "2017-11-28T19:33:42.704331Z"
    },
    "collapsed": false
   },
   "outputs": [
    {
     "name": "stdout",
     "output_type": "stream",
     "text": [
      "71\n"
     ]
    }
   ],
   "source": [
    "urls_pos_new=urls_pos[22:93]\n",
    "print(len(urls_pos_new))\n",
    "for i in range(len(urls_pos_new)):\n",
    "    urls_pos_new[i]=wiki+urls_pos_new[i]\n",
    "    #print(urls_pos_new[i])        "
   ]
  },
  {
   "cell_type": "code",
   "execution_count": null,
   "metadata": {
    "ExecuteTime": {
     "end_time": "2017-11-28T11:29:08.109682Z",
     "start_time": "2017-11-28T11:29:08.098096Z"
    },
    "collapsed": false
   },
   "outputs": [],
   "source": []
  },
  {
   "cell_type": "code",
   "execution_count": null,
   "metadata": {
    "ExecuteTime": {
     "end_time": "2017-11-28T11:17:35.111448Z",
     "start_time": "2017-11-28T11:17:35.107113Z"
    },
    "collapsed": false
   },
   "outputs": [],
   "source": []
  },
  {
   "cell_type": "code",
   "execution_count": null,
   "metadata": {
    "collapsed": true
   },
   "outputs": [],
   "source": []
  },
  {
   "cell_type": "code",
   "execution_count": null,
   "metadata": {
    "collapsed": true
   },
   "outputs": [],
   "source": []
  },
  {
   "cell_type": "code",
   "execution_count": 55,
   "metadata": {
    "ExecuteTime": {
     "end_time": "2017-11-28T19:33:48.334119Z",
     "start_time": "2017-11-28T19:33:48.301002Z"
    },
    "collapsed": false
   },
   "outputs": [],
   "source": [
    "end=tables[0]\n",
    "rows=end.findall('.//tr')\n",
    "header=['num',\n",
    " 'Picture',\n",
    " 'Galaxy',\n",
    " 'Type',\n",
    " 'Distance from Earth(Mly)','Distance from Earth(Mpc)',\n",
    " 'Magnitude(M)','Magnitude(m)',\n",
    " 'Group Membership',\n",
    " 'Notes',\n",
    " 'Diameter (ly)']\n",
    "data=[_unpack(r) for r in rows[0:]]\n",
    "data=TextParser(data,names=header[:]).get_chunk()\n",
    "data.to_csv('/Users/brettlv/blog/brettlv.github.io/pythoncode/listofnearestgalaxies.csv')"
   ]
  },
  {
   "cell_type": "code",
   "execution_count": null,
   "metadata": {
    "ExecuteTime": {
     "end_time": "2017-11-27T19:20:56.727886Z",
     "start_time": "2017-11-27T19:20:56.722088Z"
    },
    "collapsed": false
   },
   "outputs": [],
   "source": []
  },
  {
   "cell_type": "code",
   "execution_count": null,
   "metadata": {
    "ExecuteTime": {
     "end_time": "2017-11-28T11:30:00.784388Z",
     "start_time": "2017-11-28T11:30:00.730299Z"
    },
    "collapsed": false
   },
   "outputs": [],
   "source": []
  },
  {
   "cell_type": "code",
   "execution_count": null,
   "metadata": {
    "ExecuteTime": {
     "end_time": "2017-11-28T11:35:30.307628Z",
     "start_time": "2017-11-28T11:35:30.293393Z"
    },
    "collapsed": false
   },
   "outputs": [],
   "source": [
    "header"
   ]
  },
  {
   "cell_type": "code",
   "execution_count": null,
   "metadata": {
    "ExecuteTime": {
     "end_time": "2017-11-28T11:35:32.032073Z",
     "start_time": "2017-11-28T11:35:32.006981Z"
    },
    "collapsed": false
   },
   "outputs": [],
   "source": [
    "data[:1]"
   ]
  },
  {
   "cell_type": "code",
   "execution_count": null,
   "metadata": {
    "ExecuteTime": {
     "end_time": "2017-11-28T11:35:33.393194Z",
     "start_time": "2017-11-28T11:35:33.388356Z"
    },
    "collapsed": false
   },
   "outputs": [],
   "source": []
  },
  {
   "cell_type": "code",
   "execution_count": null,
   "metadata": {
    "ExecuteTime": {
     "end_time": "2017-11-28T13:38:13.476412Z",
     "start_time": "2017-11-28T13:38:13.385911Z"
    },
    "collapsed": false,
    "scrolled": true
   },
   "outputs": [],
   "source": [
    "namelist=data['Galaxy'][:]\n",
    "for i in namelist:\n",
    "    print(i)\n",
    "\n",
    "      "
   ]
  },
  {
   "cell_type": "code",
   "execution_count": null,
   "metadata": {
    "collapsed": true
   },
   "outputs": [],
   "source": [
    " Milky Way\n",
    "Canis Major Dwarf\n",
    "Sagittarius Dwarf Sphr SagDEG\n",
    "Ursa Major II Dwarf\n",
    "Large Magellanic Cloud\n",
    "Boötes I\n",
    "Small Magellanic Cloud\n",
    "Ursa Minor Dwarf\n",
    "Draco Dwarf \n",
    "NGC 2419\n",
    "Sextans Dwarf Sph\n",
    "Sculptor Dwarf \n",
    "Ursa Major I Dwarf \n",
    "Carina Dwarf \n",
    "Fornax Dwarf \n",
    "Leo II Dwarf \n",
    "Leo I Dwarf \n",
    "Leo T Dwarf\n",
    "Phoenix Dwarf Galaxy \n",
    "Barnard's Galaxy \n",
    "MGC1\n",
    "NGC 185\n",
    "Andromeda II\n",
    "IC 10 \n",
    "NGC 147 \n",
    "Leo A \n",
    "IC 1613 \n",
    "Andromeda I\n",
    "Andromeda III\n",
    "Cetus Dwarf\n",
    "M32 \n",
    "Cassiopeia Dwarf \n",
    "Andromeda IX\n",
    "LGS 3\n",
    "Andromeda V\n",
    "Pegasus Dwarf Sph \n",
    "Andromeda VIII\n",
    "Andromeda Galaxy \n",
    "Triangulum Galaxy \n",
    "M110 \n",
    "Andromeda XXI\n",
    "Andromeda XXII\n",
    "Tucana Dwarf\n",
    "Andromeda X\n",
    "Pegasus Dwarf Irregular \n",
    "Andromeda XIX\n",
    "Wolf-Lundmark-Melotte \n",
    "Sagittarius Dwarf Irregular Galaxy \n",
    "Aquarius Dwarf Galaxy \n",
    "UGC 4879 \n",
    "Antlia Dwarf\n",
    "Sextans A \n",
    "NGC 3109\n",
    "Andromeda XVIII\n",
    "Sextans B \n",
    "KKh 060\n",
    "KUG 1210+301B \n",
    "HIZSS 003\n",
    "KKR 25\n",
    "ESO 410-G005\n",
    "ESO 294-010\n",
    "IC 5152\n",
    "GR 8 \n",
    "KKR 03 \n",
    "NGC 300\n",
    "NGC 55\n",
    "UGCA 438 \n",
    "UGC 09128 \n",
    "IC 3104\n",
    "IC 4662 \n",
    "KKh 98\n",
    "UGC 8508 \n",
    "KKh 086\n",
    "DDO 99 \n",
    "UGC 07577 \n",
    "UGC 9240 \n",
    "Dwingeloo 1\n",
    "Maffei 2\n",
    "UGCA 276 \n",
    "NGC 4214 \n",
    "UGCA 86\n",
    "NGC 4163\n",
    "Dwingeloo 2\n",
    "KKH 11 \n",
    "KKH 12\n",
    "MB 3\n",
    "MB 1 \n",
    "Maffei 1\n",
    "UGCA 92\n",
    "UGC 8651 \n",
    "NGC 1569 \n",
    "ESO 274-01\n",
    "UGCA 292 \n",
    "NGC 3741\n",
    "KK98 35\n",
    "HIPASS J1247-77\n",
    "NGC 2366\n",
    "UGCA 133 \n",
    "ESO 321-014\n",
    "UGC 8833\n",
    "UGC 4483\n",
    "NGC 404\n",
    "UGCA 105\n",
    "IC 342\n",
    "Cas 1\n",
    "NGC 2403\n",
    "Camelopardalis B\n",
    "UGCA 015 \n",
    "KKH 37 \n",
    "Holmberg II \n",
    "NGC 5102\n",
    "NGC 5237\n",
    "ESO325-11\n",
    "ESO 540-030 \n",
    "FM2000 1\n",
    "ESO 540-032\n",
    "NGC 1560\n",
    "ESO 383-087 \n",
    "NGC 5206\n",
    "KK 179 \n",
    "KK98 77\n",
    "DDO 71\n",
    "M82\n",
    "ESO 269-66 \n",
    "M81 Dwarf A \n",
    "NGC 2976\n",
    "UGC 4459 \n",
    "NGC 4945"
   ]
  },
  {
   "cell_type": "code",
   "execution_count": null,
   "metadata": {
    "ExecuteTime": {
     "end_time": "2017-11-28T13:37:53.893095Z",
     "start_time": "2017-11-28T13:37:53.699728Z"
    },
    "collapsed": false
   },
   "outputs": [],
   "source": []
  },
  {
   "cell_type": "markdown",
   "metadata": {},
   "source": []
  },
  {
   "cell_type": "code",
   "execution_count": null,
   "metadata": {
    "collapsed": true
   },
   "outputs": [],
   "source": [
    "urllist='https://en.wikipedia.org/wiki/Book:The_Nearest_Galaxies'"
   ]
  },
  {
   "cell_type": "code",
   "execution_count": 227,
   "metadata": {
    "ExecuteTime": {
     "end_time": "2017-11-28T21:47:02.651706Z",
     "start_time": "2017-11-28T21:47:02.404120Z"
    },
    "collapsed": true
   },
   "outputs": [],
   "source": [
    "import numpy as np\n",
    "import pyfits"
   ]
  },
  {
   "cell_type": "code",
   "execution_count": 228,
   "metadata": {
    "ExecuteTime": {
     "end_time": "2017-11-28T21:47:02.961145Z",
     "start_time": "2017-11-28T21:47:02.945793Z"
    },
    "collapsed": true
   },
   "outputs": [],
   "source": [
    "hdulist = pyfits.open('/Users/brettlv/Downloads/first_14dec17.fits')"
   ]
  },
  {
   "cell_type": "code",
   "execution_count": 229,
   "metadata": {
    "ExecuteTime": {
     "end_time": "2017-11-28T21:47:04.196276Z",
     "start_time": "2017-11-28T21:47:04.190412Z"
    },
    "collapsed": false
   },
   "outputs": [
    {
     "name": "stdout",
     "output_type": "stream",
     "text": [
      "Filename: /Users/brettlv/Downloads/first_14dec17.fits\n",
      "No.    Name         Type      Cards   Dimensions   Format\n",
      "0    PRIMARY     PrimaryHDU       4   ()              \n",
      "1                BinTableHDU    100   946432R x 25C   [D, D, E, E, E, E, E, E, E, E, E, E, 12A, I, E, E, A, I, E, E, E, D, D, D, D]   \n"
     ]
    }
   ],
   "source": [
    "hdulist.info()"
   ]
  },
  {
   "cell_type": "code",
   "execution_count": 230,
   "metadata": {
    "ExecuteTime": {
     "end_time": "2017-11-28T21:47:04.831196Z",
     "start_time": "2017-11-28T21:47:04.825562Z"
    },
    "collapsed": false
   },
   "outputs": [
    {
     "data": {
      "text/plain": [
       "SIMPLE  =                    T /Dummy Created by MWRFITS v1.11                  \n",
       "BITPIX  =                    8 /Dummy primary header created by MWRFITS         \n",
       "NAXIS   =                    0 /No data is associated with this header          \n",
       "EXTEND  =                    T /Extensions may (will!) be present               "
      ]
     },
     "execution_count": 230,
     "metadata": {},
     "output_type": "execute_result"
    }
   ],
   "source": [
    "hdulist[0].header"
   ]
  },
  {
   "cell_type": "code",
   "execution_count": null,
   "metadata": {
    "ExecuteTime": {
     "end_time": "2017-11-28T14:45:22.094674Z",
     "start_time": "2017-11-28T14:45:22.083299Z"
    },
    "collapsed": false
   },
   "outputs": [],
   "source": [
    "hdulist[1].header"
   ]
  },
  {
   "cell_type": "code",
   "execution_count": 231,
   "metadata": {
    "ExecuteTime": {
     "end_time": "2017-11-28T21:47:09.605449Z",
     "start_time": "2017-11-28T21:47:09.426044Z"
    },
    "collapsed": false
   },
   "outputs": [
    {
     "data": {
      "text/plain": [
       "946432"
      ]
     },
     "execution_count": 231,
     "metadata": {},
     "output_type": "execute_result"
    }
   ],
   "source": [
    "dataofsource_in_FIRST=hdulist[1].data\n",
    "columns=hdulist[1].columns\n",
    "dataofsource_in_FIRST.size"
   ]
  },
  {
   "cell_type": "code",
   "execution_count": null,
   "metadata": {
    "ExecuteTime": {
     "end_time": "2017-11-28T15:17:41.092739Z",
     "start_time": "2017-11-28T15:17:41.083709Z"
    },
    "collapsed": false
   },
   "outputs": [],
   "source": [
    "import numpy as np\n",
    "import IPython.display\n",
    "%matplotlib inline\n",
    "from matplotlib import pyplot as plt\n",
    "from astropy import units as u\n",
    "from astropy.coordinates import SkyCoord\n",
    "from astropy.table import Table\n",
    "\n",
    "# this cell imports functions from the python standard library in a way that works with both python 2 and 3\n",
    "try:\n",
    "    # Python 3.x\n",
    "    from urllib.parse import urlencode\n",
    "    from urllib.request import urlretrieve\n",
    "except ImportError:\n",
    "    # Python 2.x\n",
    "    from urllib import urlencode\n",
    "    from urllib import urlretrieve\n",
    "\n"
   ]
  },
  {
   "cell_type": "code",
   "execution_count": null,
   "metadata": {
    "ExecuteTime": {
     "end_time": "2017-11-28T15:17:44.908194Z",
     "start_time": "2017-11-28T15:17:44.900164Z"
    },
    "collapsed": false
   },
   "outputs": [],
   "source": [
    "IPython.display.Image('FIRST_range.png')"
   ]
  },
  {
   "cell_type": "markdown",
   "metadata": {},
   "source": [
    "![FIRST](./FIRST_range.png)\n",
    "\n",
    "\n",
    "The FIRST survey covers two regions:\n",
    "\n",
    "North: RA = ~8h to ~17h, Dec = -8° to +64°\n",
    "\n",
    "South: RA = 21h20m to 3h20m, Dec = -2.5° to +1.6°\n"
   ]
  },
  {
   "cell_type": "code",
   "execution_count": null,
   "metadata": {
    "ExecuteTime": {
     "end_time": "2017-11-28T14:55:53.334733Z",
     "start_time": "2017-11-28T14:55:53.325354Z"
    },
    "collapsed": false
   },
   "outputs": [],
   "source": [
    "dataofsource_in_FIRST[0]"
   ]
  },
  {
   "cell_type": "code",
   "execution_count": null,
   "metadata": {
    "ExecuteTime": {
     "end_time": "2017-11-28T15:42:12.278015Z",
     "start_time": "2017-11-28T15:42:12.258603Z"
    },
    "collapsed": false
   },
   "outputs": [],
   "source": [
    "dataofsource_in_FIRST.field(0).size#column-wise way"
   ]
  },
  {
   "cell_type": "code",
   "execution_count": null,
   "metadata": {
    "ExecuteTime": {
     "end_time": "2017-11-28T15:08:46.950389Z",
     "start_time": "2017-11-28T15:08:46.941812Z"
    },
    "collapsed": false
   },
   "outputs": [],
   "source": [
    "columns.info"
   ]
  },
  {
   "cell_type": "code",
   "execution_count": null,
   "metadata": {
    "ExecuteTime": {
     "end_time": "2017-11-28T15:08:56.316834Z",
     "start_time": "2017-11-28T15:08:56.312064Z"
    },
    "collapsed": false
   },
   "outputs": [],
   "source": [
    "columns.names"
   ]
  },
  {
   "cell_type": "code",
   "execution_count": null,
   "metadata": {
    "ExecuteTime": {
     "end_time": "2017-11-28T16:23:46.870746Z",
     "start_time": "2017-11-28T16:23:42.312867Z"
    },
    "collapsed": false
   },
   "outputs": [],
   "source": []
  },
  {
   "cell_type": "code",
   "execution_count": 232,
   "metadata": {
    "ExecuteTime": {
     "end_time": "2017-11-28T21:47:20.742909Z",
     "start_time": "2017-11-28T21:47:20.472913Z"
    },
    "collapsed": false
   },
   "outputs": [],
   "source": [
    "from matplotlib import pyplot as plt\n",
    "from astropy.io import fits\n",
    "from astropy.wcs import WCS\n",
    "from astropy.utils.data import get_pkg_data_filename\n",
    "\n",
    "filename = get_pkg_data_filename('/Users/brettlv/Downloads/first_14dec17.fits')\n",
    "hdu = fits.open(filename)[1]\n",
    "wcs = WCS(hdu.header)\n",
    "pos_data=hdu.data\n",
    "\n"
   ]
  },
  {
   "cell_type": "code",
   "execution_count": 233,
   "metadata": {
    "ExecuteTime": {
     "end_time": "2017-11-28T21:47:28.411296Z",
     "start_time": "2017-11-28T21:47:28.396161Z"
    },
    "collapsed": false
   },
   "outputs": [],
   "source": [
    "import pandas as pd\n",
    "import re\n",
    "source_pos_data=pd.read_table('pos_list_2.csv',encoding='gbk',sep=',')\n",
    "sour_ra=(source_pos_data['RA'])\n",
    "sour_dec=(source_pos_data['Dec'])\n",
    "a=sour_ra[0]\n",
    "b=sour_dec[0]"
   ]
  },
  {
   "cell_type": "code",
   "execution_count": 220,
   "metadata": {
    "ExecuteTime": {
     "end_time": "2017-11-28T21:43:24.484498Z",
     "start_time": "2017-11-28T21:43:24.473739Z"
    },
    "collapsed": false
   },
   "outputs": [
    {
     "data": {
      "text/plain": [
       "('07h12m35.00s', '-27d40m00.0s', 126)"
      ]
     },
     "execution_count": 220,
     "metadata": {},
     "output_type": "execute_result"
    }
   ],
   "source": [
    "a,b,len(sour_ra)"
   ]
  },
  {
   "cell_type": "code",
   "execution_count": 234,
   "metadata": {
    "ExecuteTime": {
     "end_time": "2017-11-28T21:47:36.913164Z",
     "start_time": "2017-11-28T21:47:36.904539Z"
    },
    "collapsed": false
   },
   "outputs": [],
   "source": [
    "dec0=[]\n",
    "for i in sour_dec:\n",
    "    d,m,s=[float(n) for n in re.split('[a-z]+',i)[:3]]\n",
    "    if d< 0:\n",
    "        dec=d-m/60-s/3600\n",
    "    else:\n",
    "        dec=d+m/60+s/3600\n",
    "    dec0.append(dec)   "
   ]
  },
  {
   "cell_type": "code",
   "execution_count": 235,
   "metadata": {
    "ExecuteTime": {
     "end_time": "2017-11-28T21:47:37.763232Z",
     "start_time": "2017-11-28T21:47:37.757056Z"
    },
    "collapsed": false,
    "scrolled": false
   },
   "outputs": [],
   "source": [
    "ra0=[]\n",
    "for i in sour_ra:\n",
    "    h,m,s=[float(n) for n in re.split('[a-z]+',i)[:3]]\n",
    "    ra=(h+m/60+s/3600)\n",
    "    ra0.append(ra)\n"
   ]
  },
  {
   "cell_type": "code",
   "execution_count": 252,
   "metadata": {
    "ExecuteTime": {
     "end_time": "2017-11-29T15:48:27.108335Z",
     "start_time": "2017-11-29T15:48:26.944173Z"
    },
    "collapsed": false
   },
   "outputs": [
    {
     "data": {
      "text/plain": [
       "([7.209722222222222,\n",
       "  18.922083333333333,\n",
       "  8.858333333333333,\n",
       "  5.392925000000001,\n",
       "  14.001666666666667,\n",
       "  0.8791055555555556,\n",
       "  15.152358333333334,\n",
       "  17.336775,\n",
       "  7.635541666666666,\n",
       "  10.217488888888889,\n",
       "  1.0025833333333334,\n",
       "  10.581333333333333,\n",
       "  6.693525,\n",
       "  2.666472222222222,\n",
       "  11.224666666666666,\n",
       "  10.141138888888888,\n",
       "  9.5815,\n",
       "  1.85175,\n",
       "  19.749372222222224,\n",
       "  0.6494361111111111,\n",
       "  1.2749388888888888,\n",
       "  0.33815,\n",
       "  0.5533666666666667,\n",
       "  9.990683333333333,\n",
       "  1.0799416666666666,\n",
       "  0.7610555555555556,\n",
       "  0.5927166666666667,\n",
       "  0.4363972222222222,\n",
       "  0.7116194444444444,\n",
       "  23.44215,\n",
       "  0.8813888888888889,\n",
       "  1.0652777777777778,\n",
       "  1.1714166666666668,\n",
       "  23.862861111111112,\n",
       "  0.7016666666666667,\n",
       "  0.7123194444444444,\n",
       "  1.5641361111111112,\n",
       "  0.6728,\n",
       "  23.913249999999998,\n",
       "  1.461111111111111,\n",
       "  22.697111111111113,\n",
       "  1.1093611111111112,\n",
       "  23.47672222222222,\n",
       "  0.32558333333333334,\n",
       "  0.032822222222222225,\n",
       "  19.499722222222225,\n",
       "  20.781055555555554,\n",
       "  9.267280555555557,\n",
       "  10.067805555555555,\n",
       "  10.183555555555555,\n",
       "  10.051911111111112,\n",
       "  0.03736111111111111,\n",
       "  10.000027777777778,\n",
       "  10.2665,\n",
       "  12.223213888888889,\n",
       "  7.0081388888888885,\n",
       "  16.22998611111111,\n",
       "  0.25876666666666664,\n",
       "  0.4426027777777778,\n",
       "  22.04486388888889,\n",
       "  12.9779,\n",
       "  14.11958888888889,\n",
       "  0.9148555555555555,\n",
       "  0.24822222222222223,\n",
       "  23.44097777777778,\n",
       "  14.2657,\n",
       "  12.312794444444446,\n",
       "  17.785797222222225,\n",
       "  23.75945,\n",
       "  13.512333333333334,\n",
       "  13.909319444444446,\n",
       "  11.848055555555556,\n",
       "  12.46136111111111,\n",
       "  14.412055555555556,\n",
       "  2.9477611111111113,\n",
       "  2.698616666666667,\n",
       "  12.249422222222222,\n",
       "  12.260880555555556,\n",
       "  3.99675,\n",
       "  12.202544444444444,\n",
       "  2.902352777777778,\n",
       "  2.4095,\n",
       "  2.4574722222222225,\n",
       "  2.928525,\n",
       "  2.593463888888889,\n",
       "  2.6098500000000002,\n",
       "  4.534694444444444,\n",
       "  13.664950000000001,\n",
       "  4.513627777777778,\n",
       "  15.237177777777777,\n",
       "  12.644461111111111,\n",
       "  11.601716666666666,\n",
       "  3.7534944444444442,\n",
       "  12.790555555555555,\n",
       "  7.4818500000000006,\n",
       "  7.569861111111111,\n",
       "  12.23045,\n",
       "  13.913519444444445,\n",
       "  8.6175,\n",
       "  1.1575055555555556,\n",
       "  5.237591666666667,\n",
       "  3.7801388888888887,\n",
       "  2.100777777777778,\n",
       "  7.614277777777778,\n",
       "  4.885305555555555,\n",
       "  0.8303333333333334,\n",
       "  6.796055555555555,\n",
       "  8.31805,\n",
       "  13.366002777777778,\n",
       "  13.62751388888889,\n",
       "  13.75013888888889,\n",
       "  0.8224888888888888,\n",
       "  9.752777777777778,\n",
       "  0.8400888888888889,\n",
       "  4.546969444444445,\n",
       "  13.821527777777778,\n",
       "  13.562216666666668,\n",
       "  13.059333333333335,\n",
       "  9.836258333333333,\n",
       "  10.085111111111111,\n",
       "  9.931313888888889,\n",
       "  13.219211111111111,\n",
       "  8.398638888888888,\n",
       "  9.787627777777777,\n",
       "  8.568666666666667,\n",
       "  13.090966666666667],\n",
       " [-27.666666666666668,\n",
       "  -30.54527777777778,\n",
       "  63.13,\n",
       "  -69.75613888888888,\n",
       "  14.5,\n",
       "  -72.8286111111111,\n",
       "  67.2226111111111,\n",
       "  57.91536111111111,\n",
       "  38.87997222222222,\n",
       "  -1.6146111111111112,\n",
       "  -33.70916666666667,\n",
       "  51.919999999999995,\n",
       "  -50.96619444444445,\n",
       "  -34.44916666666666,\n",
       "  22.151666666666664,\n",
       "  12.30638888888889,\n",
       "  17.05138888888889,\n",
       "  -44.44472222222222,\n",
       "  -14.803444444444445,\n",
       "  48.33738888888889,\n",
       "  33.41911111111111,\n",
       "  59.303777777777775,\n",
       "  48.50875,\n",
       "  30.74638888888889,\n",
       "  2.117777777777778,\n",
       "  38.04111111111111,\n",
       "  36.49775,\n",
       "  -11.044333333333332,\n",
       "  40.86527777777778,\n",
       "  50.67572222222222,\n",
       "  43.19583333333333,\n",
       "  21.884999999999998,\n",
       "  47.628055555555555,\n",
       "  24.5825,\n",
       "  40.61666666666667,\n",
       "  41.26905555555555,\n",
       "  30.66022222222222,\n",
       "  41.68530555555555,\n",
       "  42.47083333333334,\n",
       "  28.090277777777775,\n",
       "  -64.41944444444445,\n",
       "  44.80438888888889,\n",
       "  14.743055555555555,\n",
       "  35.043638888888886,\n",
       "  -15.460916666666666,\n",
       "  -17.678055555555556,\n",
       "  -12.848055555555556,\n",
       "  52.84008333333333,\n",
       "  -27.331,\n",
       "  -4.692777777777778,\n",
       "  -26.15958333333333,\n",
       "  45.08888888888889,\n",
       "  5.332222222222222,\n",
       "  6.805944444444444,\n",
       "  29.92188888888889,\n",
       "  -4.208333333333334,\n",
       "  54.37116666666667,\n",
       "  -32.179944444444445,\n",
       "  -41.85530555555556,\n",
       "  -51.29644444444444,\n",
       "  14.2175,\n",
       "  35.060361111111106,\n",
       "  -37.68438888888888,\n",
       "  -39.196638888888884,\n",
       "  -32.38875,\n",
       "  23.05527777777778,\n",
       "  -79.72605555555556,\n",
       "  -64.64175,\n",
       "  38.71769444444445,\n",
       "  54.91,\n",
       "  4.243,\n",
       "  38.88027777777778,\n",
       "  43.495555555555555,\n",
       "  44.525777777777776,\n",
       "  58.91163888888889,\n",
       "  59.60427777777778,\n",
       "  36.218833333333336,\n",
       "  36.326888888888895,\n",
       "  67.13850000000001,\n",
       "  36.16919444444444,\n",
       "  59.00530555555556,\n",
       "  56.011944444444445,\n",
       "  57.487861111111116,\n",
       "  58.86038888888889,\n",
       "  59.378750000000004,\n",
       "  59.654916666666665,\n",
       "  63.61361111111111,\n",
       "  40.73908333333333,\n",
       "  64.84794444444444,\n",
       "  -46.807944444444445,\n",
       "  32.76680555555556,\n",
       "  45.28363888888889,\n",
       "  67.86402777777778,\n",
       "  -77.57138888888889,\n",
       "  69.21577777777777,\n",
       "  66.87972222222221,\n",
       "  -38.23136111111111,\n",
       "  35.83741666666667,\n",
       "  69.77527777777777,\n",
       "  35.71813888888889,\n",
       "  62.580000000000005,\n",
       "  68.09636111111111,\n",
       "  68.99972222222222,\n",
       "  65.60255555555555,\n",
       "  67.09916666666666,\n",
       "  -21.015,\n",
       "  80.12388888888889,\n",
       "  70.72002777777777,\n",
       "  -36.630250000000004,\n",
       "  -42.84697222222223,\n",
       "  -41.861111111111114,\n",
       "  -18.075416666666666,\n",
       "  68.765,\n",
       "  -19.90672222222222,\n",
       "  71.8831111111111,\n",
       "  -36.06344444444444,\n",
       "  -48.15116666666667,\n",
       "  -46.585,\n",
       "  67.50675,\n",
       "  66.55888888888889,\n",
       "  69.6793888888889,\n",
       "  -44.889944444444446,\n",
       "  71.03222222222222,\n",
       "  67.91638888888889,\n",
       "  66.18166666666667,\n",
       "  -49.468222222222224])"
      ]
     },
     "execution_count": 252,
     "metadata": {},
     "output_type": "execute_result"
    }
   ],
   "source": [
    "ra0,dec0"
   ]
  },
  {
   "cell_type": "code",
   "execution_count": 250,
   "metadata": {
    "ExecuteTime": {
     "end_time": "2017-11-29T10:12:58.810960Z",
     "start_time": "2017-11-29T10:12:58.649811Z"
    },
    "collapsed": false
   },
   "outputs": [
    {
     "name": "stdout",
     "output_type": "stream",
     "text": [
      "7.0 12.0 35.0 -27.0 40.0 0.0\n",
      "18.0 55.0 19.5 -30.0 32.0 43.0\n",
      "8.0 51.0 30.0 63.0 7.0 48.0\n",
      "5.0 23.0 34.53 -69.0 45.0 22.1\n",
      "14.0 0.0 6.0 14.0 30.0 0.0\n",
      "0.0 52.0 44.78 -72.0 49.0 43.0\n",
      "15.0 9.0 8.49 67.0 13.0 21.4\n",
      "17.0 20.0 12.39 57.0 54.0 55.3\n",
      "7.0 38.0 7.95 38.0 52.0 47.9\n",
      "10.0 13.0 2.96 -1.0 36.0 52.6\n",
      "1.0 0.0 9.3 -33.0 42.0 33.0\n",
      "10.0 34.0 52.8 51.0 55.0 12.0\n",
      "6.0 41.0 36.69 -50.0 57.0 58.3\n",
      "2.0 39.0 59.3 -34.0 26.0 57.0\n",
      "11.0 13.0 28.8 22.0 9.0 6.0\n",
      "10.0 8.0 28.1 12.0 18.0 23.0\n",
      "9.0 34.0 53.4 17.0 3.0 5.0\n",
      "1.0 51.0 6.3 -44.0 26.0 41.0\n",
      "19.0 44.0 57.74 -14.0 48.0 12.4\n",
      "0.0 38.0 57.97 48.0 20.0 14.6\n",
      "1.0 16.0 29.78 33.0 25.0 8.8\n",
      "0.0 20.0 17.34 59.0 18.0 13.6\n",
      "0.0 33.0 12.12 48.0 30.0 31.5\n",
      "9.0 59.0 26.46 30.0 44.0 47.0\n",
      "1.0 4.0 47.79 2.0 7.0 4.0\n",
      "0.0 45.0 39.8 38.0 2.0 28.0\n",
      "0.0 35.0 33.78 36.0 29.0 51.9\n",
      "0.0 26.0 11.03 -11.0 2.0 39.6\n",
      "0.0 42.0 41.83 40.0 51.0 55.0\n",
      "23.0 26.0 31.74 50.0 40.0 32.6\n",
      "0.0 52.0 53.0 43.0 11.0 45.0\n",
      "1.0 3.0 55.0 21.0 53.0 6.0\n",
      "1.0 10.0 17.1 47.0 37.0 41.0\n",
      "23.0 51.0 46.3 24.0 34.0 57.0\n",
      "0.0 42.0 6.0 40.0 37.0 0.0\n",
      "0.0 42.0 44.35 41.0 16.0 8.6\n",
      "1.0 33.0 50.89 30.0 39.0 36.8\n",
      "0.0 40.0 22.08 41.0 41.0 7.1\n",
      "23.0 54.0 47.7 42.0 28.0 15.0\n",
      "1.0 27.0 40.0 28.0 5.0 25.0\n",
      "22.0 41.0 49.6 -64.0 25.0 10.0\n",
      "1.0 6.0 33.7 44.0 48.0 15.8\n",
      "23.0 28.0 36.2 14.0 44.0 35.0\n",
      "0.0 19.0 32.1 35.0 2.0 37.1\n",
      "0.0 1.0 58.16 -15.0 27.0 39.3\n",
      "19.0 29.0 59.0 -17.0 40.0 41.0\n",
      "20.0 46.0 51.8 -12.0 50.0 53.0\n",
      "9.0 16.0 2.21 52.0 50.0 24.3\n",
      "10.0 4.0 4.1 -27.0 19.0 51.6\n",
      "10.0 11.0 0.8 -4.0 41.0 34.0\n",
      "10.0 3.0 6.88 -26.0 9.0 34.5\n",
      "0.0 2.0 14.5 45.0 5.0 20.0\n",
      "10.0 0.0 0.1 5.0 19.0 56.0\n",
      "10.0 15.0 59.4 6.0 48.0 21.4\n",
      "12.0 13.0 23.57 29.0 55.0 18.8\n",
      "7.0 0.0 29.3 -4.0 12.0 30.0\n",
      "16.0 13.0 47.95 54.0 22.0 16.2\n",
      "0.0 15.0 31.56 -32.0 10.0 47.8\n",
      "0.0 26.0 33.37 -41.0 51.0 19.1\n",
      "22.0 2.0 41.51 -51.0 17.0 47.2\n",
      "12.0 58.0 40.44 14.0 13.0 3.0\n",
      "14.0 7.0 10.52 35.0 3.0 37.3\n",
      "0.0 54.0 53.48 -37.0 41.0 3.8\n",
      "0.0 14.0 53.6 -39.0 11.0 47.9\n",
      "23.0 26.0 27.52 -32.0 23.0 19.5\n",
      "14.0 15.0 56.52 23.0 3.0 19.0\n",
      "12.0 18.0 46.06 -79.0 43.0 33.8\n",
      "17.0 47.0 8.87 -64.0 38.0 30.3\n",
      "23.0 45.0 34.02 38.0 43.0 3.7\n",
      "13.0 30.0 44.4 54.0 54.0 36.0\n",
      "13.0 54.0 33.55 4.0 14.0 34.8\n",
      "11.0 50.0 53.0 38.0 52.0 49.0\n",
      "12.0 27.0 40.9 43.0 29.0 44.0\n",
      "14.0 24.0 43.4 44.0 31.0 32.8\n",
      "2.0 56.0 51.94 58.0 54.0 41.9\n",
      "2.0 41.0 55.02 59.0 36.0 15.4\n",
      "12.0 14.0 57.92 36.0 13.0 7.8\n",
      "12.0 15.0 39.17 36.0 19.0 36.8\n",
      "3.0 59.0 48.3 67.0 8.0 18.6\n",
      "12.0 12.0 9.16 36.0 10.0 9.1\n",
      "2.0 54.0 8.47 59.0 0.0 19.1\n",
      "2.0 24.0 34.2 56.0 0.0 43.0\n",
      "2.0 27.0 26.9 57.0 29.0 16.3\n",
      "2.0 55.0 42.69 58.0 51.0 37.4\n",
      "2.0 35.0 36.47 59.0 22.0 43.5\n",
      "2.0 36.0 35.46 59.0 39.0 17.7\n",
      "4.0 32.0 4.9 63.0 36.0 49.0\n",
      "13.0 39.0 53.82 40.0 44.0 20.7\n",
      "4.0 30.0 49.06 64.0 50.0 52.6\n",
      "15.0 14.0 13.84 -46.0 48.0 28.6\n",
      "12.0 38.0 40.06 32.0 46.0 0.5\n",
      "11.0 36.0 6.18 45.0 17.0 1.1\n",
      "3.0 45.0 12.58 67.0 51.0 50.5\n",
      "12.0 47.0 26.0 -77.0 34.0 17.0\n",
      "7.0 28.0 54.66 69.0 12.0 56.8\n",
      "7.0 34.0 11.5 66.0 52.0 47.0\n",
      "12.0 13.0 49.62 -38.0 13.0 52.9\n",
      "13.0 54.0 48.67 35.0 50.0 14.7\n",
      "8.0 37.0 3.0 69.0 46.0 31.0\n",
      "1.0 9.0 27.02 35.0 43.0 5.3\n",
      "5.0 14.0 15.33 62.0 34.0 48.0\n",
      "3.0 46.0 48.5 68.0 5.0 46.9\n",
      "2.0 6.0 2.8 68.0 59.0 59.0\n",
      "7.0 36.0 51.4 65.0 36.0 9.2\n",
      "4.0 53.0 7.1 67.0 5.0 57.0\n",
      "0.0 49.0 49.2 -21.0 0.0 54.0\n",
      "6.0 47.0 45.8 80.0 7.0 26.0\n",
      "8.0 19.0 4.98 70.0 43.0 12.1\n",
      "13.0 21.0 57.61 -36.0 37.0 48.9\n",
      "13.0 37.0 39.05 -42.0 50.0 49.1\n",
      "13.0 45.0 0.5 -41.0 51.0 40.0\n",
      "0.0 49.0 20.96 -18.0 4.0 31.5\n",
      "9.0 45.0 10.0 68.0 45.0 54.0\n",
      "0.0 50.0 24.32 -19.0 54.0 24.2\n",
      "4.0 32.0 49.09 71.0 52.0 59.2\n",
      "13.0 49.0 17.5 -36.0 3.0 48.4\n",
      "13.0 33.0 43.98 -48.0 9.0 4.2\n",
      "13.0 3.0 33.6 -46.0 35.0 6.0\n",
      "9.0 50.0 10.53 67.0 30.0 24.3\n",
      "10.0 5.0 6.4 66.0 33.0 32.0\n",
      "9.0 55.0 52.73 69.0 40.0 45.8\n",
      "13.0 13.0 9.16 -44.0 53.0 23.8\n",
      "8.0 23.0 55.1 71.0 1.0 56.0\n",
      "9.0 47.0 15.46 67.0 54.0 59.0\n",
      "8.0 34.0 7.2 66.0 10.0 54.0\n",
      "13.0 5.0 27.48 -49.0 28.0 5.6\n"
     ]
    }
   ],
   "source": [
    "for i1,i2 in zip(sour_ra,sour_dec):\n",
    "    h,m,s=[float(n) for n in re.split('[a-z]+',i1)[:3]] \n",
    "    d,m1,s1=[float(n) for n in re.split('[a-z]+',i2)[:3]] \n",
    "    print(h,m,s,d,m1,s1)\n"
   ]
  },
  {
   "cell_type": "code",
   "execution_count": null,
   "metadata": {
    "collapsed": true
   },
   "outputs": [],
   "source": []
  },
  {
   "cell_type": "code",
   "execution_count": null,
   "metadata": {
    "collapsed": true
   },
   "outputs": [],
   "source": []
  },
  {
   "cell_type": "code",
   "execution_count": null,
   "metadata": {
    "ExecuteTime": {
     "end_time": "2017-11-28T21:29:33.525957Z",
     "start_time": "2017-11-28T21:29:33.479948Z"
    },
    "code_folding": [],
    "collapsed": false
   },
   "outputs": [],
   "source": []
  },
  {
   "cell_type": "code",
   "execution_count": null,
   "metadata": {
    "ExecuteTime": {
     "end_time": "2017-11-28T21:11:59.149008Z",
     "start_time": "2017-11-28T21:11:59.131547Z"
    },
    "collapsed": false
   },
   "outputs": [],
   "source": []
  },
  {
   "cell_type": "code",
   "execution_count": null,
   "metadata": {
    "ExecuteTime": {
     "end_time": "2017-11-28T20:13:35.516483Z",
     "start_time": "2017-11-28T20:13:35.452380Z"
    },
    "collapsed": false
   },
   "outputs": [],
   "source": [
    "\n",
    "    \n",
    "    "
   ]
  },
  {
   "cell_type": "code",
   "execution_count": null,
   "metadata": {
    "ExecuteTime": {
     "end_time": "2017-11-28T20:08:51.739789Z",
     "start_time": "2017-11-28T20:08:51.720415Z"
    },
    "collapsed": false
   },
   "outputs": [],
   "source": [
    "  \n",
    "    "
   ]
  },
  {
   "cell_type": "code",
   "execution_count": 236,
   "metadata": {
    "ExecuteTime": {
     "end_time": "2017-11-28T21:48:03.821630Z",
     "start_time": "2017-11-28T21:48:03.690339Z"
    },
    "collapsed": false
   },
   "outputs": [],
   "source": [
    "import numpy as np\n",
    "import matplotlib.pyplot as plt\n",
    "\n",
    "\n",
    "ra=pos_data.field(0)/15\n",
    "dec=pos_data.field(1)\n",
    "\n",
    "import numpy as np\n",
    "from astropy import units as u\n",
    "from astropy.coordinates import SkyCoord\n",
    "a = SkyCoord(ra * u.degree, dec * u.degree)"
   ]
  },
  {
   "cell_type": "code",
   "execution_count": 244,
   "metadata": {
    "ExecuteTime": {
     "end_time": "2017-11-29T09:47:44.627145Z",
     "start_time": "2017-11-29T09:47:44.392371Z"
    },
    "collapsed": false
   },
   "outputs": [
    {
     "data": {
      "text/plain": [
       "(126, 946432)"
      ]
     },
     "execution_count": 244,
     "metadata": {},
     "output_type": "execute_result"
    }
   ],
   "source": [
    "len(dec0),len(ra)"
   ]
  },
  {
   "cell_type": "code",
   "execution_count": 245,
   "metadata": {
    "ExecuteTime": {
     "end_time": "2017-11-29T09:50:22.835259Z",
     "start_time": "2017-11-29T09:49:58.518151Z"
    },
    "collapsed": false,
    "scrolled": true
   },
   "outputs": [
    {
     "data": {
      "image/png": "[encoded data removed]",
      "text/plain": [
       "<matplotlib.figure.Figure at 0x10b5670b8>"
      ]
     },
     "metadata": {},
     "output_type": "display_data"
    }
   ],
   "source": [
    "import numpy as np\n",
    "import IPython.display\n",
    "%matplotlib inline\n",
    "from matplotlib import pyplot as plt\n",
    "from astropy import units as u\n",
    "from astropy.coordinates import SkyCoord\n",
    "from astropy.table import Table\n",
    "#plt.figure(figsize=(8,6))\n",
    "north=(ra >5 ) & (ra < 18)\n",
    "plt.scatter(ra,dec,c='r',label='South')\n",
    "plt.scatter(ra[north],dec[north],c='g',label='North')\n",
    "plt.scatter(ra0,dec0,c='B',marker='*',label='Nearby Source')\n",
    "plt.grid(True)\n",
    "plt.title('Crosslist of FIRST survey and nearyby galaxies')\n",
    "plt.xlabel('RA/h')\n",
    "plt.ylabel('Dec/deg')\n",
    "plt.xlim(0,24)\n",
    "plt.ylim(-90,90)\n",
    "plt.legend()\n",
    "plt.show()\n",
    "    "
   ]
  },
  {
   "cell_type": "code",
   "execution_count": null,
   "metadata": {
    "collapsed": true
   },
   "outputs": [],
   "source": []
  },
  {
   "cell_type": "code",
   "execution_count": 290,
   "metadata": {
    "ExecuteTime": {
     "end_time": "2017-11-30T11:45:08.743783Z",
     "start_time": "2017-11-30T11:45:08.389500Z"
    },
    "collapsed": false
   },
   "outputs": [
    {
     "data": {
      "text/plain": [
       "(0, 6)"
      ]
     },
     "execution_count": 290,
     "metadata": {},
     "output_type": "execute_result"
    },
    {
     "data": {
      "image/png": "[encoded data removed]",
      "text/plain": [
       "<matplotlib.figure.Figure at 0x1100c4048>"
      ]
     },
     "metadata": {},
     "output_type": "display_data"
    }
   ],
   "source": [
    "north_new=(ra >11.2 ) & (ra < 11.22)\n",
    "plt.scatter(ra[north_new],dec[north_new],c='g',label='North',lw=0.0001)\n",
    "plt.grid()\n",
    "plt.xlim(11.20,11.22)\n",
    "plt.ylim(0,6)\n",
    "#plt.savefig('dis.pdf')"
   ]
  },
  {
   "cell_type": "code",
   "execution_count": null,
   "metadata": {
    "ExecuteTime": {
     "end_time": "2017-11-28T16:13:52.541989Z",
     "start_time": "2017-11-28T16:13:52.533900Z"
    },
    "collapsed": false
   },
   "outputs": [],
   "source": []
  },
  {
   "cell_type": "code",
   "execution_count": null,
   "metadata": {
    "ExecuteTime": {
     "end_time": "2017-11-28T16:07:12.663696Z",
     "start_time": "2017-11-28T16:07:12.658874Z"
    },
    "collapsed": false
   },
   "outputs": [],
   "source": []
  },
  {
   "cell_type": "code",
   "execution_count": null,
   "metadata": {
    "ExecuteTime": {
     "end_time": "2017-11-28T15:51:00.904263Z",
     "start_time": "2017-11-28T15:51:00.830056Z"
    },
    "collapsed": false
   },
   "outputs": [],
   "source": []
  },
  {
   "cell_type": "code",
   "execution_count": 17,
   "metadata": {
    "ExecuteTime": {
     "end_time": "2017-11-28T17:32:03.839894Z",
     "start_time": "2017-11-28T17:32:02.567461Z"
    },
    "collapsed": false
   },
   "outputs": [
    {
     "data": {
      "image/png": "[encoded data removed]",
      "text/plain": [
       "<matplotlib.figure.Figure at 0x10ceae5c0>"
      ]
     },
     "metadata": {},
     "output_type": "display_data"
    },
    {
     "data": {
      "image/png": "[encoded data removed]",
      "text/plain": [
       "<matplotlib.figure.Figure at 0x10daa2c50>"
      ]
     },
     "metadata": {},
     "output_type": "display_data"
    },
    {
     "data": {
      "image/png": "[encoded data removed]",
      "text/plain": [
       "<matplotlib.figure.Figure at 0x10ce77da0>"
      ]
     },
     "metadata": {},
     "output_type": "display_data"
    },
    {
     "data": {
      "image/png": "[encoded data removed]",
      "text/plain": [
       "<matplotlib.figure.Figure at 0x10cdde470>"
      ]
     },
     "metadata": {},
     "output_type": "display_data"
    }
   ],
   "source": [
    "import matplotlib.pyplot as plt\n",
    "\n",
    "plt.figure()\n",
    "plt.subplot(111, projection=\"aitoff\")\n",
    "plt.title(\"Aitoff\")\n",
    "plt.grid(True)\n",
    "\n",
    "plt.figure()\n",
    "plt.subplot(111, projection=\"hammer\")\n",
    "plt.title(\"Hammer\")\n",
    "plt.grid(True)\n",
    "\n",
    "plt.figure()\n",
    "plt.subplot(111, projection=\"lambert\")\n",
    "plt.title(\"Lambert\")\n",
    "plt.grid(True)\n",
    "\n",
    "plt.figure()\n",
    "plt.subplot(111, projection=\"mollweide\")\n",
    "plt.title(\"Mollweide\")\n",
    "plt.grid(True)\n",
    "\n",
    "plt.show()"
   ]
  },
  {
   "cell_type": "code",
   "execution_count": 287,
   "metadata": {
    "ExecuteTime": {
     "end_time": "2017-11-30T10:19:44.798449Z",
     "start_time": "2017-11-30T10:19:44.068074Z"
    },
    "collapsed": false
   },
   "outputs": [
    {
     "data": {
      "image/png": "[encoded data removed]",
      "text/plain": [
       "<matplotlib.figure.Figure at 0x1190210f0>"
      ]
     },
     "metadata": {},
     "output_type": "display_data"
    }
   ],
   "source": [
    "x=np.arange(10)\n",
    "xx=10**x\n",
    "yy=5*xx**3.0\n",
    "plt.plot(xx, yy)\n",
    "plt.xscale('log')\n",
    "plt.yscale('log')\n",
    "plt.title('log')\n",
    "plt.grid(True)"
   ]
  },
  {
   "cell_type": "code",
   "execution_count": null,
   "metadata": {
    "ExecuteTime": {
     "end_time": "2017-11-30T10:19:04.177656Z",
     "start_time": "2017-11-30T10:19:04.173009Z"
    },
    "collapsed": false
   },
   "outputs": [],
   "source": []
  },
  {
   "cell_type": "code",
   "execution_count": null,
   "metadata": {
    "ExecuteTime": {
     "end_time": "2017-11-30T10:17:52.403051Z",
     "start_time": "2017-11-30T10:17:52.397473Z"
    },
    "collapsed": false
   },
   "outputs": [],
   "source": []
  },
  {
   "cell_type": "code",
   "execution_count": null,
   "metadata": {
    "collapsed": true
   },
   "outputs": [],
   "source": []
  }
 ],
 "metadata": {
  "kernelspec": {
   "display_name": "Python 3",
   "language": "python",
   "name": "python3"
  },
  "language_info": {
   "codemirror_mode": {
    "name": "ipython",
    "version": 3
   },
   "file_extension": ".py",
   "mimetype": "text/x-python",
   "name": "python",
   "nbconvert_exporter": "python",
   "pygments_lexer": "ipython3",
   "version": "3.6.0"
  },
  "latex_envs": {
   "LaTeX_envs_menu_present": true,
   "autocomplete": true,
   "bibliofile": "biblio.bib",
   "cite_by": "apalike",
   "current_citInitial": 1,
   "eqLabelWithNumbers": true,
   "eqNumInitial": 1,
   "hotkeys": {
    "equation": "Ctrl-E",
    "itemize": "Ctrl-I"
   },
   "labels_anchors": false,
   "latex_user_defs": false,
   "report_style_numbering": false,
   "user_envs_cfg": false
  },
  "toc": {
   "nav_menu": {},
   "number_sections": true,
   "sideBar": true,
   "skip_h1_title": false,
   "toc_cell": false,
   "toc_position": {},
   "toc_section_display": "block",
   "toc_window_display": false
  }
 },
 "nbformat": 4,
 "nbformat_minor": 2
}
