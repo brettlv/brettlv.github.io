{
 "cells": [
  {
   "cell_type": "markdown",
   "id": "9e3a4a7c",
   "metadata": {},
   "source": [
    "https://atomdb.readthedocs.io/en/master/installation.html"
   ]
  },
  {
   "cell_type": "code",
   "execution_count": 1,
   "id": "ad76a1cf",
   "metadata": {
    "ExecuteTime": {
     "end_time": "2022-11-06T04:55:16.941942Z",
     "start_time": "2022-11-05T15:42:44.340576Z"
    }
   },
   "outputs": [
    {
     "name": "stdout",
     "output_type": "stream",
     "text": [
      "ATOMDB environment variable not set. Set up AtomDB files now? (yes/no/info) [yes]yes\n",
      "Location to install AtomDB files [/Users/lyubing/atomdb] :\n",
      "Allow reporting of anonymous usage statistics (yes/no/info) [yes]yes\n",
      "You are about to install:\n",
      "AtomDB installation location: /Users/lyubing/atomdb\n",
      "Transmit anonymous user data: yes\n",
      "Randomly generated userid: 51769904\n",
      "Is this ok? (y/n) [y]y\n",
      "Temporarily setting $ATOMDB environment variable to /Users/lyubing/atomdb.  It is *strongly* recommended that you add this to your environment   permanently.\n",
      "creating directory /Users/lyubing/atomdb ...done\n",
      "creating user data file /Users/lyubing/atomdb/userdata ...done\n",
      "finding current version of AtomDB.  Latest version is 3.0.9\n",
      "Do you wish to download the emissivity data for these files (recommended)? (y/n) [y]y\n",
      "making directory /Users/lyubing/atomdb/installtmp\n",
      "100% [..................................................] 131398622 / 131398622\n",
      "Uncompressing ...  Uncompressed\n",
      "moving /Users/lyubing/atomdb/installtmp/atomdb_v3.0.9/apec_coco.fits to /Users/lyubing/atomdb/apec_coco.fits\n",
      "moving /Users/lyubing/atomdb/installtmp/atomdb_v3.0.9/apec_line.fits to /Users/lyubing/atomdb/apec_line.fits\n",
      "moving /Users/lyubing/atomdb/installtmp/atomdb_v3.0.9/apec_v3.0.9_line.fits to /Users/lyubing/atomdb/apec_v3.0.9_line.fits\n",
      "moving /Users/lyubing/atomdb/installtmp/atomdb_v3.0.9/apec_v3.0.9.par to /Users/lyubing/atomdb/apec_v3.0.9.par\n",
      "moving /Users/lyubing/atomdb/installtmp/atomdb_v3.0.9/apec_v3.0.9_coco.fits to /Users/lyubing/atomdb/apec_v3.0.9_coco.fits\n",
      "moving /Users/lyubing/atomdb/installtmp/atomdb_v3.0.9/filemap to /Users/lyubing/atomdb/filemap\n",
      "moving /Users/lyubing/atomdb/installtmp/atomdb_v3.0.9/Release_Notes.txt to /Users/lyubing/atomdb/Release_Notes.txt\n",
      "moving /Users/lyubing/atomdb/installtmp/atomdb_v3.0.9/apec_v3.0.9_linelist.fits to /Users/lyubing/atomdb/apec_v3.0.9_linelist.fits\n",
      "moving /Users/lyubing/atomdb/installtmp/atomdb_v3.0.9/apec.par to /Users/lyubing/atomdb/apec.par\n",
      "moving /Users/lyubing/atomdb/installtmp/atomdb_v3.0.9/filemap_v3.0.9 to /Users/lyubing/atomdb/filemap_v3.0.9\n",
      "moving /Users/lyubing/atomdb/installtmp/atomdb_v3.0.9/VERSION to /Users/lyubing/atomdb/VERSION\n",
      "moving /Users/lyubing/atomdb/installtmp/atomdb_v3.0.9/apec_linelist.fits to /Users/lyubing/atomdb/apec_linelist.fits\n",
      "...done\n",
      "Do you wish to download the non-equilibrium emissivity data for these files (recommended)? (y/n) [y]y\n",
      "100% [..................................................] 159788079 / 159788079\n",
      "Uncompressing ...  Uncompressed\n",
      "moving /Users/lyubing/atomdb/installtmp/atomdb_v3.0.9/apec_v3.0.9_nei_comp.fits to /Users/lyubing/atomdb/apec_v3.0.9_nei_comp.fits\n",
      "moving /Users/lyubing/atomdb/installtmp/atomdb_v3.0.9/filemap to /Users/lyubing/atomdb/filemap\n",
      "moving /Users/lyubing/atomdb/installtmp/atomdb_v3.0.9/apec_nei_comp.fits to /Users/lyubing/atomdb/apec_nei_comp.fits\n",
      "moving /Users/lyubing/atomdb/installtmp/atomdb_v3.0.9/Release_Notes.txt to /Users/lyubing/atomdb/Release_Notes.txt\n",
      "moving /Users/lyubing/atomdb/installtmp/atomdb_v3.0.9/apec_v3.0.9_nei_line.fits to /Users/lyubing/atomdb/apec_v3.0.9_nei_line.fits\n",
      "moving /Users/lyubing/atomdb/installtmp/atomdb_v3.0.9/filemap_v3.0.9 to /Users/lyubing/atomdb/filemap_v3.0.9\n",
      "moving /Users/lyubing/atomdb/installtmp/atomdb_v3.0.9/apec_v3.0.9_nei.par to /Users/lyubing/atomdb/apec_v3.0.9_nei.par\n",
      "moving /Users/lyubing/atomdb/installtmp/atomdb_v3.0.9/VERSION to /Users/lyubing/atomdb/VERSION\n",
      "moving /Users/lyubing/atomdb/installtmp/atomdb_v3.0.9/apec_nei_line.fits to /Users/lyubing/atomdb/apec_nei_line.fits\n",
      "moving /Users/lyubing/atomdb/installtmp/atomdb_v3.0.9/apec_nei.par to /Users/lyubing/atomdb/apec_nei.par\n",
      "... done\n"
     ]
    }
   ],
   "source": [
    " import pyatomdb"
   ]
  },
  {
   "cell_type": "code",
   "execution_count": 2,
   "id": "9881cdde",
   "metadata": {
    "ExecuteTime": {
     "end_time": "2022-11-06T05:07:09.936870Z",
     "start_time": "2022-11-06T05:07:09.930515Z"
    }
   },
   "outputs": [],
   "source": [
    " import pyatomdb"
   ]
  },
  {
   "cell_type": "code",
   "execution_count": 4,
   "id": "8716de8e",
   "metadata": {
    "ExecuteTime": {
     "end_time": "2022-11-06T05:07:39.194496Z",
     "start_time": "2022-11-06T05:07:39.015887Z"
    }
   },
   "outputs": [],
   "source": [
    "!export ATOMDB=/Users/lyubing/atomdb/"
   ]
  },
  {
   "cell_type": "code",
   "execution_count": 5,
   "id": "f78a6fe3",
   "metadata": {
    "ExecuteTime": {
     "end_time": "2022-11-06T05:14:09.082972Z",
     "start_time": "2022-11-06T05:08:00.008718Z"
    }
   },
   "outputs": [
    {
     "name": "stdout",
     "output_type": "stream",
     "text": [
      "wrote file locally to /Users/lyubing/atomdb/APED/misc/Abundances_v3.0.8a.fits\n",
      "wrote file locally to /Users/lyubing/atomdb/APED/ionbal/eigen/eigenh_v3.0.7.fits\n",
      "wrote file locally to /Users/lyubing/atomdb/APED/ionbal/eigen/eigenhe_v3.0.7.fits\n",
      "wrote file locally to /Users/lyubing/atomdb/APED/ionbal/eigen/eigenli_v3.0.7.fits\n",
      "wrote file locally to /Users/lyubing/atomdb/APED/ionbal/eigen/eigenbe_v3.0.7.fits\n",
      "wrote file locally to /Users/lyubing/atomdb/APED/ionbal/eigen/eigenb_v3.0.7.fits\n",
      "wrote file locally to /Users/lyubing/atomdb/APED/ionbal/eigen/eigenc_v3.0.7.fits\n",
      "wrote file locally to /Users/lyubing/atomdb/APED/ionbal/eigen/eigenn_v3.0.7.fits\n",
      "wrote file locally to /Users/lyubing/atomdb/APED/ionbal/eigen/eigeno_v3.0.7.fits\n",
      "wrote file locally to /Users/lyubing/atomdb/APED/ionbal/eigen/eigenf_v3.0.7.fits\n",
      "wrote file locally to /Users/lyubing/atomdb/APED/ionbal/eigen/eigenne_v3.0.7.fits\n",
      "wrote file locally to /Users/lyubing/atomdb/APED/ionbal/eigen/eigenna_v3.0.7.fits\n",
      "wrote file locally to /Users/lyubing/atomdb/APED/ionbal/eigen/eigenmg_v3.0.7.fits\n",
      "wrote file locally to /Users/lyubing/atomdb/APED/ionbal/eigen/eigenal_v3.0.7.fits\n",
      "wrote file locally to /Users/lyubing/atomdb/APED/ionbal/eigen/eigensi_v3.0.7.fits\n",
      "wrote file locally to /Users/lyubing/atomdb/APED/ionbal/eigen/eigenp_v3.0.7.fits\n",
      "wrote file locally to /Users/lyubing/atomdb/APED/ionbal/eigen/eigens_v3.0.7.fits\n",
      "wrote file locally to /Users/lyubing/atomdb/APED/ionbal/eigen/eigencl_v3.0.7.fits\n",
      "wrote file locally to /Users/lyubing/atomdb/APED/ionbal/eigen/eigenar_v3.0.7.fits\n",
      "wrote file locally to /Users/lyubing/atomdb/APED/ionbal/eigen/eigenk_v3.0.7.fits\n",
      "wrote file locally to /Users/lyubing/atomdb/APED/ionbal/eigen/eigenca_v3.0.7.fits\n",
      "wrote file locally to /Users/lyubing/atomdb/APED/ionbal/eigen/eigensc_v3.0.7.fits\n",
      "wrote file locally to /Users/lyubing/atomdb/APED/ionbal/eigen/eigenti_v3.0.7.fits\n",
      "wrote file locally to /Users/lyubing/atomdb/APED/ionbal/eigen/eigenv_v3.0.7.fits\n",
      "wrote file locally to /Users/lyubing/atomdb/APED/ionbal/eigen/eigencr_v3.0.7.fits\n",
      "wrote file locally to /Users/lyubing/atomdb/APED/ionbal/eigen/eigenmn_v3.0.7.fits\n",
      "wrote file locally to /Users/lyubing/atomdb/APED/ionbal/eigen/eigenfe_v3.0.7.fits\n",
      "wrote file locally to /Users/lyubing/atomdb/APED/ionbal/eigen/eigenco_v3.0.7.fits\n",
      "wrote file locally to /Users/lyubing/atomdb/APED/ionbal/eigen/eigenni_v3.0.7.fits\n",
      "wrote file locally to /Users/lyubing/atomdb/APED/ionbal/eigen/eigencu_v3.0.7.fits\n",
      "wrote file locally to /Users/lyubing/atomdb/APED/ionbal/eigen/eigenzn_v3.0.7.fits\n"
     ]
    },
    {
     "name": "stderr",
     "output_type": "stream",
     "text": [
      "/var/folders/jp/4mwsn7_x6j9gnv1hl1dztqth0000gn/T/ipykernel_7622/1987100412.py:28: UserWarning: Matplotlib is currently using module://matplotlib_inline.backend_inline, which is a non-GUI backend, so cannot show the figure.\n",
      "  fig.show()\n"
     ]
    },
    {
     "ename": "FileNotFoundError",
     "evalue": "[Errno 2] No such file or directory: 'aciss_meg1_cy22.garf'",
     "output_type": "error",
     "traceback": [
      "\u001b[0;31m---------------------------------------------------------------------------\u001b[0m",
      "\u001b[0;31mFileNotFoundError\u001b[0m                         Traceback (most recent call last)",
      "Input \u001b[0;32mIn [5]\u001b[0m, in \u001b[0;36m<cell line: 43>\u001b[0;34m()\u001b[0m\n\u001b[1;32m     34\u001b[0m ax\u001b[38;5;241m.\u001b[39mset_ylabel(\u001b[38;5;124m'\u001b[39m\u001b[38;5;124mIntensity (ph cm$^5$ s$^\u001b[39m\u001b[38;5;124m{\u001b[39m\u001b[38;5;124m-1}$ bin$^\u001b[39m\u001b[38;5;124m{\u001b[39m\u001b[38;5;124m-1}$)\u001b[39m\u001b[38;5;124m'\u001b[39m)\n\u001b[1;32m     36\u001b[0m \u001b[38;5;66;03m# zoom in a bit\u001b[39;00m\n\u001b[1;32m     37\u001b[0m \u001b[38;5;66;03m#ax.set_xlim([0.8,0.85])\u001b[39;00m\n\u001b[1;32m     38\u001b[0m \n\u001b[0;32m   (...)\u001b[0m\n\u001b[1;32m     41\u001b[0m \u001b[38;5;66;03m# now repeat the process with a real response\u001b[39;00m\n\u001b[1;32m     42\u001b[0m \u001b[38;5;66;03m# set response\u001b[39;00m\n\u001b[0;32m---> 43\u001b[0m \u001b[43msess\u001b[49m\u001b[38;5;241;43m.\u001b[39;49m\u001b[43mset_response\u001b[49m\u001b[43m(\u001b[49m\u001b[38;5;124;43m'\u001b[39;49m\u001b[38;5;124;43maciss_meg1_cy22.grmf\u001b[39;49m\u001b[38;5;124;43m'\u001b[39;49m\u001b[43m,\u001b[49m\u001b[43m \u001b[49m\u001b[43marf\u001b[49m\u001b[43m \u001b[49m\u001b[38;5;241;43m=\u001b[39;49m\u001b[43m \u001b[49m\u001b[38;5;124;43m'\u001b[39;49m\u001b[38;5;124;43maciss_meg1_cy22.garf\u001b[39;49m\u001b[38;5;124;43m'\u001b[39;49m\u001b[43m)\u001b[49m\n\u001b[1;32m     45\u001b[0m \u001b[38;5;66;03m# get spectrum, prepend zero\u001b[39;00m\n\u001b[1;32m     46\u001b[0m spec \u001b[38;5;241m=\u001b[39m sess\u001b[38;5;241m.\u001b[39mreturn_spectrum(kT)\n",
      "File \u001b[0;32m~/opt/anaconda3/lib/python3.9/site-packages/pyatomdb/spectrum.py:2100\u001b[0m, in \u001b[0;36mCIESession.set_response\u001b[0;34m(self, rmf, arf, raw, sparse)\u001b[0m\n\u001b[1;32m   2098\u001b[0m \u001b[38;5;28;01mif\u001b[39;00m \u001b[38;5;28mtype\u001b[39m(arf)\u001b[38;5;241m==\u001b[39m\u001b[38;5;28mstr\u001b[39m:\n\u001b[1;32m   2099\u001b[0m   \u001b[38;5;28mself\u001b[39m\u001b[38;5;241m.\u001b[39marffile \u001b[38;5;241m=\u001b[39m arf\n\u001b[0;32m-> 2100\u001b[0m   \u001b[38;5;28mself\u001b[39m\u001b[38;5;241m.\u001b[39marfdat \u001b[38;5;241m=\u001b[39m \u001b[43mpyfits\u001b[49m\u001b[38;5;241;43m.\u001b[39;49m\u001b[43mopen\u001b[49m\u001b[43m(\u001b[49m\u001b[43marf\u001b[49m\u001b[43m)\u001b[49m\n\u001b[1;32m   2101\u001b[0m \u001b[38;5;28;01melif\u001b[39;00m \u001b[38;5;28mtype\u001b[39m(arf) \u001b[38;5;241m==\u001b[39m pyfits\u001b[38;5;241m.\u001b[39mhdu\u001b[38;5;241m.\u001b[39mhdulist\u001b[38;5;241m.\u001b[39mHDUList:\n\u001b[1;32m   2102\u001b[0m   \u001b[38;5;28mself\u001b[39m\u001b[38;5;241m.\u001b[39marfdat \u001b[38;5;241m=\u001b[39m arf\n",
      "File \u001b[0;32m~/opt/anaconda3/lib/python3.9/site-packages/astropy/io/fits/hdu/hdulist.py:175\u001b[0m, in \u001b[0;36mfitsopen\u001b[0;34m(name, mode, memmap, save_backup, cache, lazy_load_hdus, ignore_missing_simple, **kwargs)\u001b[0m\n\u001b[1;32m    172\u001b[0m \u001b[38;5;28;01mif\u001b[39;00m \u001b[38;5;129;01mnot\u001b[39;00m name:\n\u001b[1;32m    173\u001b[0m     \u001b[38;5;28;01mraise\u001b[39;00m \u001b[38;5;167;01mValueError\u001b[39;00m(\u001b[38;5;124mf\u001b[39m\u001b[38;5;124m'\u001b[39m\u001b[38;5;124mEmpty filename: \u001b[39m\u001b[38;5;132;01m{\u001b[39;00mname\u001b[38;5;132;01m!r}\u001b[39;00m\u001b[38;5;124m'\u001b[39m)\n\u001b[0;32m--> 175\u001b[0m \u001b[38;5;28;01mreturn\u001b[39;00m \u001b[43mHDUList\u001b[49m\u001b[38;5;241;43m.\u001b[39;49m\u001b[43mfromfile\u001b[49m\u001b[43m(\u001b[49m\u001b[43mname\u001b[49m\u001b[43m,\u001b[49m\u001b[43m \u001b[49m\u001b[43mmode\u001b[49m\u001b[43m,\u001b[49m\u001b[43m \u001b[49m\u001b[43mmemmap\u001b[49m\u001b[43m,\u001b[49m\u001b[43m \u001b[49m\u001b[43msave_backup\u001b[49m\u001b[43m,\u001b[49m\u001b[43m \u001b[49m\u001b[43mcache\u001b[49m\u001b[43m,\u001b[49m\n\u001b[1;32m    176\u001b[0m \u001b[43m                        \u001b[49m\u001b[43mlazy_load_hdus\u001b[49m\u001b[43m,\u001b[49m\u001b[43m \u001b[49m\u001b[43mignore_missing_simple\u001b[49m\u001b[43m,\u001b[49m\u001b[43m \u001b[49m\u001b[38;5;241;43m*\u001b[39;49m\u001b[38;5;241;43m*\u001b[39;49m\u001b[43mkwargs\u001b[49m\u001b[43m)\u001b[49m\n",
      "File \u001b[0;32m~/opt/anaconda3/lib/python3.9/site-packages/astropy/io/fits/hdu/hdulist.py:410\u001b[0m, in \u001b[0;36mHDUList.fromfile\u001b[0;34m(cls, fileobj, mode, memmap, save_backup, cache, lazy_load_hdus, ignore_missing_simple, **kwargs)\u001b[0m\n\u001b[1;32m    398\u001b[0m \u001b[38;5;129m@classmethod\u001b[39m\n\u001b[1;32m    399\u001b[0m \u001b[38;5;28;01mdef\u001b[39;00m \u001b[38;5;21mfromfile\u001b[39m(\u001b[38;5;28mcls\u001b[39m, fileobj, mode\u001b[38;5;241m=\u001b[39m\u001b[38;5;28;01mNone\u001b[39;00m, memmap\u001b[38;5;241m=\u001b[39m\u001b[38;5;28;01mNone\u001b[39;00m,\n\u001b[1;32m    400\u001b[0m              save_backup\u001b[38;5;241m=\u001b[39m\u001b[38;5;28;01mFalse\u001b[39;00m, cache\u001b[38;5;241m=\u001b[39m\u001b[38;5;28;01mTrue\u001b[39;00m, lazy_load_hdus\u001b[38;5;241m=\u001b[39m\u001b[38;5;28;01mTrue\u001b[39;00m,\n\u001b[1;32m    401\u001b[0m              ignore_missing_simple\u001b[38;5;241m=\u001b[39m\u001b[38;5;28;01mFalse\u001b[39;00m, \u001b[38;5;241m*\u001b[39m\u001b[38;5;241m*\u001b[39mkwargs):\n\u001b[1;32m    402\u001b[0m     \u001b[38;5;124;03m\"\"\"\u001b[39;00m\n\u001b[1;32m    403\u001b[0m \u001b[38;5;124;03m    Creates an `HDUList` instance from a file-like object.\u001b[39;00m\n\u001b[1;32m    404\u001b[0m \n\u001b[0;32m   (...)\u001b[0m\n\u001b[1;32m    407\u001b[0m \u001b[38;5;124;03m    documentation for details of the parameters accepted by this method).\u001b[39;00m\n\u001b[1;32m    408\u001b[0m \u001b[38;5;124;03m    \"\"\"\u001b[39;00m\n\u001b[0;32m--> 410\u001b[0m     \u001b[38;5;28;01mreturn\u001b[39;00m \u001b[38;5;28;43mcls\u001b[39;49m\u001b[38;5;241;43m.\u001b[39;49m\u001b[43m_readfrom\u001b[49m\u001b[43m(\u001b[49m\u001b[43mfileobj\u001b[49m\u001b[38;5;241;43m=\u001b[39;49m\u001b[43mfileobj\u001b[49m\u001b[43m,\u001b[49m\u001b[43m \u001b[49m\u001b[43mmode\u001b[49m\u001b[38;5;241;43m=\u001b[39;49m\u001b[43mmode\u001b[49m\u001b[43m,\u001b[49m\u001b[43m \u001b[49m\u001b[43mmemmap\u001b[49m\u001b[38;5;241;43m=\u001b[39;49m\u001b[43mmemmap\u001b[49m\u001b[43m,\u001b[49m\n\u001b[1;32m    411\u001b[0m \u001b[43m                         \u001b[49m\u001b[43msave_backup\u001b[49m\u001b[38;5;241;43m=\u001b[39;49m\u001b[43msave_backup\u001b[49m\u001b[43m,\u001b[49m\u001b[43m \u001b[49m\u001b[43mcache\u001b[49m\u001b[38;5;241;43m=\u001b[39;49m\u001b[43mcache\u001b[49m\u001b[43m,\u001b[49m\n\u001b[1;32m    412\u001b[0m \u001b[43m                         \u001b[49m\u001b[43mignore_missing_simple\u001b[49m\u001b[38;5;241;43m=\u001b[39;49m\u001b[43mignore_missing_simple\u001b[49m\u001b[43m,\u001b[49m\n\u001b[1;32m    413\u001b[0m \u001b[43m                         \u001b[49m\u001b[43mlazy_load_hdus\u001b[49m\u001b[38;5;241;43m=\u001b[39;49m\u001b[43mlazy_load_hdus\u001b[49m\u001b[43m,\u001b[49m\u001b[43m \u001b[49m\u001b[38;5;241;43m*\u001b[39;49m\u001b[38;5;241;43m*\u001b[39;49m\u001b[43mkwargs\u001b[49m\u001b[43m)\u001b[49m\n",
      "File \u001b[0;32m~/opt/anaconda3/lib/python3.9/site-packages/astropy/io/fits/hdu/hdulist.py:1060\u001b[0m, in \u001b[0;36mHDUList._readfrom\u001b[0;34m(cls, fileobj, data, mode, memmap, cache, lazy_load_hdus, ignore_missing_simple, **kwargs)\u001b[0m\n\u001b[1;32m   1057\u001b[0m \u001b[38;5;28;01mif\u001b[39;00m fileobj \u001b[38;5;129;01mis\u001b[39;00m \u001b[38;5;129;01mnot\u001b[39;00m \u001b[38;5;28;01mNone\u001b[39;00m:\n\u001b[1;32m   1058\u001b[0m     \u001b[38;5;28;01mif\u001b[39;00m \u001b[38;5;129;01mnot\u001b[39;00m \u001b[38;5;28misinstance\u001b[39m(fileobj, _File):\n\u001b[1;32m   1059\u001b[0m         \u001b[38;5;66;03m# instantiate a FITS file object (ffo)\u001b[39;00m\n\u001b[0;32m-> 1060\u001b[0m         fileobj \u001b[38;5;241m=\u001b[39m \u001b[43m_File\u001b[49m\u001b[43m(\u001b[49m\u001b[43mfileobj\u001b[49m\u001b[43m,\u001b[49m\u001b[43m \u001b[49m\u001b[43mmode\u001b[49m\u001b[38;5;241;43m=\u001b[39;49m\u001b[43mmode\u001b[49m\u001b[43m,\u001b[49m\u001b[43m \u001b[49m\u001b[43mmemmap\u001b[49m\u001b[38;5;241;43m=\u001b[39;49m\u001b[43mmemmap\u001b[49m\u001b[43m,\u001b[49m\u001b[43m \u001b[49m\u001b[43mcache\u001b[49m\u001b[38;5;241;43m=\u001b[39;49m\u001b[43mcache\u001b[49m\u001b[43m)\u001b[49m\n\u001b[1;32m   1061\u001b[0m     \u001b[38;5;66;03m# The Astropy mode is determined by the _File initializer if the\u001b[39;00m\n\u001b[1;32m   1062\u001b[0m     \u001b[38;5;66;03m# supplied mode was None\u001b[39;00m\n\u001b[1;32m   1063\u001b[0m     mode \u001b[38;5;241m=\u001b[39m fileobj\u001b[38;5;241m.\u001b[39mmode\n",
      "File \u001b[0;32m~/opt/anaconda3/lib/python3.9/site-packages/astropy/io/fits/file.py:170\u001b[0m, in \u001b[0;36m_File.__init__\u001b[0;34m(self, fileobj, mode, memmap, overwrite, cache)\u001b[0m\n\u001b[1;32m    168\u001b[0m     \u001b[38;5;28mself\u001b[39m\u001b[38;5;241m.\u001b[39m_open_fileobj(fileobj, mode, overwrite)\n\u001b[1;32m    169\u001b[0m \u001b[38;5;28;01melif\u001b[39;00m \u001b[38;5;28misinstance\u001b[39m(fileobj, (\u001b[38;5;28mstr\u001b[39m, \u001b[38;5;28mbytes\u001b[39m)):\n\u001b[0;32m--> 170\u001b[0m     \u001b[38;5;28;43mself\u001b[39;49m\u001b[38;5;241;43m.\u001b[39;49m\u001b[43m_open_filename\u001b[49m\u001b[43m(\u001b[49m\u001b[43mfileobj\u001b[49m\u001b[43m,\u001b[49m\u001b[43m \u001b[49m\u001b[43mmode\u001b[49m\u001b[43m,\u001b[49m\u001b[43m \u001b[49m\u001b[43moverwrite\u001b[49m\u001b[43m)\u001b[49m\n\u001b[1;32m    171\u001b[0m \u001b[38;5;28;01melse\u001b[39;00m:\n\u001b[1;32m    172\u001b[0m     \u001b[38;5;28mself\u001b[39m\u001b[38;5;241m.\u001b[39m_open_filelike(fileobj, mode, overwrite)\n",
      "File \u001b[0;32m~/opt/anaconda3/lib/python3.9/site-packages/astropy/io/fits/file.py:562\u001b[0m, in \u001b[0;36m_File._open_filename\u001b[0;34m(self, filename, mode, overwrite)\u001b[0m\n\u001b[1;32m    559\u001b[0m ext \u001b[38;5;241m=\u001b[39m os\u001b[38;5;241m.\u001b[39mpath\u001b[38;5;241m.\u001b[39msplitext(\u001b[38;5;28mself\u001b[39m\u001b[38;5;241m.\u001b[39mname)[\u001b[38;5;241m1\u001b[39m]\n\u001b[1;32m    561\u001b[0m \u001b[38;5;28;01mif\u001b[39;00m \u001b[38;5;129;01mnot\u001b[39;00m \u001b[38;5;28mself\u001b[39m\u001b[38;5;241m.\u001b[39m_try_read_compressed(\u001b[38;5;28mself\u001b[39m\u001b[38;5;241m.\u001b[39mname, magic, mode, ext\u001b[38;5;241m=\u001b[39mext):\n\u001b[0;32m--> 562\u001b[0m     \u001b[38;5;28mself\u001b[39m\u001b[38;5;241m.\u001b[39m_file \u001b[38;5;241m=\u001b[39m \u001b[38;5;28;43mopen\u001b[39;49m\u001b[43m(\u001b[49m\u001b[38;5;28;43mself\u001b[39;49m\u001b[38;5;241;43m.\u001b[39;49m\u001b[43mname\u001b[49m\u001b[43m,\u001b[49m\u001b[43m \u001b[49m\u001b[43mIO_FITS_MODES\u001b[49m\u001b[43m[\u001b[49m\u001b[43mmode\u001b[49m\u001b[43m]\u001b[49m\u001b[43m)\u001b[49m\n\u001b[1;32m    563\u001b[0m     \u001b[38;5;28mself\u001b[39m\u001b[38;5;241m.\u001b[39mclose_on_error \u001b[38;5;241m=\u001b[39m \u001b[38;5;28;01mTrue\u001b[39;00m\n\u001b[1;32m    565\u001b[0m \u001b[38;5;66;03m# Make certain we're back at the beginning of the file\u001b[39;00m\n\u001b[1;32m    566\u001b[0m \u001b[38;5;66;03m# BZ2File does not support seek when the file is open for writing, but\u001b[39;00m\n\u001b[1;32m    567\u001b[0m \u001b[38;5;66;03m# when opening a file for write, bz2.BZ2File always truncates anyway.\u001b[39;00m\n",
      "\u001b[0;31mFileNotFoundError\u001b[0m: [Errno 2] No such file or directory: 'aciss_meg1_cy22.garf'"
     ]
    },
    {
     "data": {
      "image/png": "[encoded data removed]",
      "text/plain": [
       "<Figure size 432x288 with 1 Axes>"
      ]
     },
     "metadata": {
      "needs_background": "light"
     },
     "output_type": "display_data"
    }
   ],
   "source": [
    "import pyatomdb\n",
    "import numpy\n",
    "import pylab\n",
    "\n",
    "\n",
    "# declare the Collisional Ionization Equilibrium session\n",
    "sess = pyatomdb.spectrum.CIESession()\n",
    "\n",
    "# create a set of energy bins (in keV) for the response. Note these are\n",
    "# the n edges of the n-1 bins.\n",
    "ebins = numpy.linspace(0.3,1.0,10000)\n",
    "\n",
    "# set the response (raw keyword tells pyatomdb it is not a real response file)\n",
    "sess.set_response(ebins, raw=True)\n",
    "\n",
    "kT = 0.4 # temperature in keV\n",
    "spec = sess.return_spectrum(kT)\n",
    "\n",
    "# we now have a spectrum and the energy bins,\n",
    "\n",
    "# prepend a zero to the spectrum so that energy bins and spectrum have\n",
    "# the same length. If you use a different plotting system you may\n",
    "# need to add this to the end.\n",
    "spec = numpy.append(0, spec)\n",
    "\n",
    "# Returned spectrum has units of photons cm^5 s^-1 bin^-1\n",
    "fig = pylab.figure()\n",
    "fig.show()\n",
    "ax = fig.add_subplot(211)\n",
    "ax.plot(sess.ebins_out, spec, drawstyle='steps', label='dummy response')\n",
    "\n",
    "# label the figure\n",
    "ax.set_xlabel('Energy (keV)')\n",
    "ax.set_ylabel('Intensity (ph cm$^5$ s$^{-1}$ bin$^{-1}$)')\n",
    "\n",
    "# zoom in a bit\n",
    "#ax.set_xlim([0.8,0.85])\n",
    "\n",
    "# make plot appear\n",
    "\n",
    "# now repeat the process with a real response\n",
    "# set response\n",
    "sess.set_response('aciss_meg1_cy22.grmf', arf = 'aciss_meg1_cy22.garf')\n",
    "\n",
    "# get spectrum, prepend zero\n",
    "spec = sess.return_spectrum(kT)\n",
    "spec = numpy.append(0, spec)\n",
    "\n",
    "ax2 = fig.add_subplot(212)\n",
    "ax2.plot(sess.ebins_out, spec, drawstyle='steps', label='Chandra MEG')\n",
    "\n",
    "# add legends\n",
    "ax.legend(loc=0)\n",
    "ax2.legend(loc=0)\n",
    "\n",
    "# zoom in on small sections of the spectrum\n",
    "ax.set_xlim([0.7, 0.9])\n",
    "ax2.set_xlim([0.7, 0.9])\n",
    "\n",
    "# set axes\n",
    "ax2.set_xlabel('Energy (keV)')\n",
    "ax2.set_ylabel('Intensity (ph cm$^5$ s$^{-1}$ bin$^{-1}$)')\n",
    "\n",
    "# adjust plot spacing so labels are visible\n",
    "pylab.matplotlib.pyplot.subplots_adjust(hspace = 0.34)\n",
    "\n",
    "# draw graphs\n",
    "pylab.draw()\n",
    "\n",
    "zzz=input(\"Press enter to continue\")\n",
    "\n",
    "# save image files\n",
    "fig.savefig('spectrum_session_examples_1_1.pdf')\n",
    "#fig.savefig('spectrum_session_examples_1_1.svg')"
   ]
  },
  {
   "cell_type": "code",
   "execution_count": null,
   "id": "414f3058",
   "metadata": {},
   "outputs": [],
   "source": []
  },
  {
   "cell_type": "code",
   "execution_count": null,
   "id": "19cbc1e1",
   "metadata": {},
   "outputs": [],
   "source": []
  },
  {
   "cell_type": "code",
   "execution_count": null,
   "id": "61a3fdce",
   "metadata": {},
   "outputs": [],
   "source": []
  },
  {
   "cell_type": "markdown",
   "id": "87ef21a5",
   "metadata": {},
   "source": [
    "# Including APEC models in PyXSPEC"
   ]
  },
  {
   "cell_type": "code",
   "execution_count": 6,
   "id": "6248bae4",
   "metadata": {
    "ExecuteTime": {
     "end_time": "2022-11-06T05:26:21.883469Z",
     "start_time": "2022-11-06T05:26:21.855276Z"
    }
   },
   "outputs": [
    {
     "ename": "ModuleNotFoundError",
     "evalue": "No module named 'apec_xspec'",
     "output_type": "error",
     "traceback": [
      "\u001b[0;31m---------------------------------------------------------------------------\u001b[0m",
      "\u001b[0;31mModuleNotFoundError\u001b[0m                       Traceback (most recent call last)",
      "Input \u001b[0;32mIn [6]\u001b[0m, in \u001b[0;36m<cell line: 1>\u001b[0;34m()\u001b[0m\n\u001b[0;32m----> 1\u001b[0m \u001b[38;5;28;01mfrom\u001b[39;00m \u001b[38;5;21;01mapec_xspec\u001b[39;00m \u001b[38;5;28;01mimport\u001b[39;00m \u001b[38;5;241m*\u001b[39m\n\u001b[1;32m      3\u001b[0m \u001b[38;5;66;03m# declare a new model\u001b[39;00m\n\u001b[1;32m      4\u001b[0m \u001b[38;5;66;03m# inital import creates pyapec, pyvapec, pyvvapec, analagous to apec, vapec, vvapec\u001b[39;00m\n\u001b[1;32m      6\u001b[0m m1 \u001b[38;5;241m=\u001b[39m xspec\u001b[38;5;241m.\u001b[39mModel(\u001b[38;5;124m'\u001b[39m\u001b[38;5;124mpyapec\u001b[39m\u001b[38;5;124m'\u001b[39m)\n",
      "\u001b[0;31mModuleNotFoundError\u001b[0m: No module named 'apec_xspec'"
     ]
    }
   ],
   "source": [
    "from apec_xspec import *\n",
    "\n",
    "# declare a new model\n",
    "# inital import creates pyapec, pyvapec, pyvvapec, analagous to apec, vapec, vvapec\n",
    "\n",
    "m1 = xspec.Model('pyapec')\n",
    "\n",
    "m1.show()\n",
    "\n",
    "m1.pyapec.kT=5.0\n",
    "\n",
    "\n",
    "# let's plot a spectrum\n",
    "xspec.Plot.device='/xs'\n",
    "\n",
    "xspec.Plot('model')\n",
    "\n",
    "# you can fiddle with some aspects of the model directly\n",
    "cie.set_eebrems(False) # turn off electron-electron bremsstrahlung\n",
    "\n",
    "xspec.Plot('model')\n",
    "\n",
    "# it is also possible to go in and change broadening, etc. The interface can be\n",
    "# adjust quite easily by looking at apec_xspec.py to add extra parameters\n"
   ]
  },
  {
   "cell_type": "code",
   "execution_count": null,
   "id": "53f05e33",
   "metadata": {},
   "outputs": [],
   "source": []
  }
 ],
 "metadata": {
  "kernelspec": {
   "display_name": "Python 3 (ipykernel)",
   "language": "python",
   "name": "python3"
  },
  "language_info": {
   "codemirror_mode": {
    "name": "ipython",
    "version": 3
   },
   "file_extension": ".py",
   "mimetype": "text/x-python",
   "name": "python",
   "nbconvert_exporter": "python",
   "pygments_lexer": "ipython3",
   "version": "3.9.12"
  },
  "latex_envs": {
   "LaTeX_envs_menu_present": true,
   "autoclose": false,
   "autocomplete": true,
   "bibliofile": "biblio.bib",
   "cite_by": "apalike",
   "current_citInitial": 1,
   "eqLabelWithNumbers": true,
   "eqNumInitial": 1,
   "hotkeys": {
    "equation": "Ctrl-E",
    "itemize": "Ctrl-I"
   },
   "labels_anchors": false,
   "latex_user_defs": false,
   "report_style_numbering": false,
   "user_envs_cfg": false
  },
  "toc": {
   "base_numbering": 1,
   "nav_menu": {},
   "number_sections": true,
   "sideBar": true,
   "skip_h1_title": false,
   "title_cell": "Table of Contents",
   "title_sidebar": "Contents",
   "toc_cell": false,
   "toc_position": {},
   "toc_section_display": true,
   "toc_window_display": true
  }
 },
 "nbformat": 4,
 "nbformat_minor": 5
}
