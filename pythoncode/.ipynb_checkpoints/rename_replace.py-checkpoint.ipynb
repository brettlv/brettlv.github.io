{
 "cells": [
  {
   "cell_type": "markdown",
   "metadata": {
    "toc": true
   },
   "source": [
    "<h1>Table of Contents<span class=\"tocSkip\"></span></h1>\n",
    "<div class=\"toc\" style=\"margin-top: 1em;\"><ul class=\"toc-item\"><li><ul class=\"toc-item\"><li><span><a href=\"#sort\" data-toc-modified-id=\"sort-0.1\"><span class=\"toc-item-num\">0.1&nbsp;&nbsp;</span>sort</a></span></li></ul></li></ul></div>"
   ]
  },
  {
   "cell_type": "code",
   "execution_count": 1,
   "metadata": {
    "ExecuteTime": {
     "end_time": "2020-10-30T14:27:55.631124Z",
     "start_time": "2020-10-30T14:27:55.616101Z"
    },
    "collapsed": false
   },
   "outputs": [
    {
     "data": {
      "text/plain": [
       "'/Users/brettlv/blog/brettlv.github.io/pythoncode'"
      ]
     },
     "execution_count": 1,
     "metadata": {},
     "output_type": "execute_result"
    }
   ],
   "source": [
    "pwd"
   ]
  },
  {
   "cell_type": "code",
   "execution_count": 8,
   "metadata": {
    "ExecuteTime": {
     "end_time": "2020-10-30T14:29:41.019570Z",
     "start_time": "2020-10-30T14:29:41.015609Z"
    },
    "collapsed": true
   },
   "outputs": [],
   "source": [
    "import re\n",
    "def validateTitle(title):\n",
    "    rstr = r\"[\\/\\\\\\:\\*\\?\\\"\\<\\>\\|\\s]\"  # '/ \\ : * ? \" < > |'\n",
    "    new_title = re.sub(rstr, \"_\", title)  # 替换为下划线\n",
    "    return new_title"
   ]
  },
  {
   "cell_type": "code",
   "execution_count": 9,
   "metadata": {
    "ExecuteTime": {
     "end_time": "2020-10-30T14:29:42.072340Z",
     "start_time": "2020-10-30T14:29:42.066761Z"
    },
    "collapsed": false
   },
   "outputs": [
    {
     "data": {
      "text/plain": [
       "'origin_title'"
      ]
     },
     "execution_count": 9,
     "metadata": {},
     "output_type": "execute_result"
    }
   ],
   "source": [
    "title='origin title'\n",
    "validateTitle(title)"
   ]
  },
  {
   "cell_type": "code",
   "execution_count": null,
   "metadata": {
    "collapsed": true
   },
   "outputs": [],
   "source": []
  },
  {
   "cell_type": "code",
   "execution_count": 15,
   "metadata": {
    "ExecuteTime": {
     "end_time": "2020-10-16T03:23:17.710186Z",
     "start_time": "2020-10-16T03:23:17.695348Z"
    },
    "collapsed": true
   },
   "outputs": [],
   "source": [
    "#!/usr/bin/python\n",
    "# -*- coding: UTF-8 -*-\n",
    "import os,re\n",
    "#path='/media/brettlv/Brettlv_G_m/phy/20190816dellpaperbackup/'\n",
    "path=os.getcwd()\n",
    "os.chdir(path)\n",
    "\n",
    "for root, dirs, files in os.walk(path, topdown=False):       \n",
    "    for name in files:\n",
    "        #print(os.path.join(root, name))\n",
    "        #print(root)  \n",
    "        os.chdir(root)\n",
    "        filename_new = re.sub(r'[\\/:*?\"<>|]', \"_\", name)\n",
    "        if filename_new!=name:\n",
    "            print('name',name,'newname:',filename_new)\n",
    "            #os.rename(name,filename_new)        \n",
    "    #for name in dirs:\n",
    "        #print(os.path.join(root, name))"
   ]
  },
  {
   "cell_type": "code",
   "execution_count": 19,
   "metadata": {
    "ExecuteTime": {
     "end_time": "2020-10-16T03:24:45.378416Z",
     "start_time": "2020-10-16T03:24:45.231176Z"
    },
    "collapsed": true
   },
   "outputs": [],
   "source": [
    "#!/usr/bin/python\n",
    "# -*- coding: UTF-8 -*-\n",
    "import os,re\n",
    "path='/media/brettlv/Brettlv_G_m/Papers_unsorted/'\n",
    "#path=os.getcwd()\n",
    "os.chdir(path)\n",
    "\n",
    "for root, dirs, files in os.walk(path, topdown=False):       \n",
    "    for name in files:\n",
    "        #print(os.path.join(root, name))\n",
    "        #print(root)  \n",
    "        os.chdir(root)\n",
    "        filename_new = re.sub(r'[\\/:*?\"<>|]', \"_\", name)\n",
    "        if filename_new!=name:\n",
    "            print('name',name,'newname:',filename_new)\n",
    "            #os.rename(name,filename_new)        \n",
    "    #for name in dirs:\n",
    "        #print(os.path.join(root, name))"
   ]
  },
  {
   "cell_type": "code",
   "execution_count": 25,
   "metadata": {
    "ExecuteTime": {
     "end_time": "2020-10-16T03:26:32.888916Z",
     "start_time": "2020-10-16T03:26:32.749470Z"
    },
    "collapsed": true
   },
   "outputs": [],
   "source": [
    "#!/usr/bin/python\n",
    "# -*- coding: UTF-8 -*-\n",
    "import os,re\n",
    "#path='/media/brettlv/Brettlv_G_m/Papers_unsorted/'\n",
    "path=os.getcwd()\n",
    "os.chdir(path)\n",
    "\n",
    "for root, dirs, files in os.walk(path, topdown=False):       \n",
    "    for name in files:\n",
    "        #print(os.path.join(root, name))        \n",
    "        os.chdir(root)\n",
    "        filename_new = re.sub(r'[\\/:*?\"<>|]', \"_\", name)\n",
    "        if filename_new!=name:\n",
    "            print(root)  \n",
    "            print('name',name,'newname:',filename_new)\n",
    "            os.rename(name,filename_new)        \n",
    "    #for name in dirs:\n",
    "        #print(os.path.join(root, name))"
   ]
  },
  {
   "cell_type": "code",
   "execution_count": null,
   "metadata": {
    "collapsed": true
   },
   "outputs": [],
   "source": []
  },
  {
   "cell_type": "code",
   "execution_count": null,
   "metadata": {
    "collapsed": true
   },
   "outputs": [],
   "source": []
  },
  {
   "cell_type": "code",
   "execution_count": 11,
   "metadata": {
    "ExecuteTime": {
     "end_time": "2020-10-16T03:16:49.918035Z",
     "start_time": "2020-10-16T03:16:49.908992Z"
    },
    "collapsed": false
   },
   "outputs": [
    {
     "name": "stdout",
     "output_type": "stream",
     "text": [
      "/home/brettlv/python_code/Mrk1018/.ipynb_checkpoints [] ['rename_replace.py-checkpoint.ipynb', 'latex-checkpoint.ipynb', 'MAXIJ0637-430-checkpoint.ipynb', 'Type1_xray_spectrum_properties-checkpoint.ipynb', 'Latex_astronomy-checkpoint.ipynb', 'Mrk1018_xrt--checkpoint.ipynb', 'ref_arxiv_paper-checkpoint.ipynb', 'Mrk1018nustar_data_xmm_chandra-checkpoint.ipynb', 'Mrk1018_lightcurve-checkpoint.ipynb', 'Mrk1018_bokeh_plot_-checkpoint.ipynb', 'Mrk1018get_cflux_info-checkpoint.ipynb', 'Astro_Timescale-checkpoint.ipynb', 'Mrk590-checkpoint.ipynb', 'fit_blackbody-checkpoint.ipynb', 'fadamental_plane_NGC7213_Mrk590_Mrk1018-checkpoint.ipynb', 'Mrk1018_timescale-checkpoint.ipynb', 'Mrk1018_VLA-checkpoint.ipynb', 'Mrk1018_uvot_xray_radio-checkpoint.ipynb', 'Mrk1018_alpha_ox-checkpoint.ipynb', 'time_lag_hard_soft-checkpoint.ipynb']\n",
      "/home/brettlv/python_code/Mrk1018/extictions [] ['albd_variability.png', 'extinction_laws.png', 'ccm_law_variability.png', 'rlbd_variability.png', 'ccm_law.png']\n",
      "/home/brettlv/python_code/Mrk1018/__pycache__ [] ['extinction.cpython-37.pyc']\n",
      "/home/brettlv/python_code/Mrk1018/data/to_latex [] []\n",
      "/home/brettlv/python_code/Mrk1018/data ['to_latex'] ['Mrk1018radiolc_to_latex.xlsx', 'changing-look-quasars.xlsx', 'husemann2016.csv', 'xrt_fit_zyan_v0.txt', 'x-ray_type1_24_AGNs.xlsx', 'ngc7213-rx-Bell2011-fig7.txt', 'Mrk1018opticallc.csv', 'xrt_fit_1-3.txt', 'uvot_um2_sum.csv', 'ngc7213-rx-Bell2011b_data.txt', 'xrt_fit_zyan_v1.txt', 'xrt_fit_8-12.txt', 'uvot_uuu_sum.csv', 'xrt_fit_zyan.txt', 'ngc7213-rx-Bell2011b.txt', 'X-ray_latex.csv', 'xrt_fit_5-8.txt', 'uvot_uw2_sum.csv', 'ngc7213-rx-Bell2011-fig7_data.txt', 'uvot_uw1_sum.csv', 'xrt_fit_3-5.txt']\n",
      "/home/brettlv/python_code/Mrk1018/png_v3 [] ['Mrk1018-tabbed-bokeh.html', 'px-xray-good-g-eddrate-with-time.html']\n",
      "/home/brettlv/python_code/Mrk1018/png_v2_1225 [] ['Mrk1018_plus_2individuals_alpha_ox_Lx_rate.png', 'subplots-radio-xray-second.png', 'uvot_xrt_correlation-fig.png', 'Mrk1018_subplots_plus_2individuals_alpha_ox_L_x_Luv_rate.png', 'Mrk1018_ngc7213_radio_xray_log.png', 'Mrk1018_alpha_uvot_uw1_Lx_rate.png', 'radio-date-lc-all.png', 'px-xray-paper-g-eddrate-with-time.html', 'Mrk1018_alpha_uvot_uw1_F.png', 'uvot_xrt_correlation.png', '2paper_plus_quasars_alpha_ox_Lbol_rate.png', 'Mrk1018_radio8.4_xray_sel1.png', 'Mrk1018_radio_xray_sel1_rate.png', 'px-xrtall-lyu-g-f.html', 'Mrk1018_sed_uvot_four.png', 'Mrk1018_ngc7213_radio_xray.png', 'paper_alpha_ox_Lx_rate.png', 'Mrk1018_radio4.8_xray_sel1.png', 'Mrk1018_plus_2individuals_plus_2paper_alpha_ox_Luv_rate.png', 'Mrk1018_ngc7213_radio_xray_mass_log_merloni03.png', 'Mrk1018_plus_2paper_alpha_ox_Lx.png', 'px-xray-paper-g-eddrate.html', 'Mrk1018_plus_paper_alpha_ox_Luv_rate.png', 'Mrk1018_plus_2paper_alpha_ox_Luv_rate.png', 'Mrk1018_sed_uvot_xray-4band-multi.png', 'Mrk1018_radio_xray.png', '2paper_alpha_ox_Lbol_rate.png', 'Mrk1018_alpha_uvot_uw1_rate.png', 'Mrk1018_ngc7213_radio_xray_mass_log_Koerding06.png', 'Mrk1018_alpha_uvot_uw1_Lx.png', 'paper_alpha_ox_Lbol_rate.png', 'subplots-xrayappendgood-fandg-second.png', 'xrayappendgood-errorbar-f-g-tmap.png', 'xrayappendgood-eddrate-g-tmap.png', 'Mrk1018_plus_paper_alpha_ox_Lx_rate.png', 'Mrk1018_ngc7213_radio_xray_rate.png', 'px-xray-paper-g-f-with-time.html', 'px-xray-paper-g-f.html', 'radio-date-lc-2005.png', 'Mrk1018_ngc7213_radio_xray_mass_log.png', 'Mrk1018_radio8.4_xray_sel1_rate.png', 'uvot_xrt_correlation-fig-without-outlier.png', 'quasars_alpha_ox_Lbol_rate.png', 'uvot-xray-date-lc-sim-left.png', 'px-xrayappendgood-g-f.html', 'Mrk1018_plus_2individuals_alpha_ox_Luv_rate.png', 'Mrk1018_radio_xray_rate.png', 'Mrk1018_plus_2paper_alpha_ox_Luv.png', 'px-xxrt-appendall-g-f.html', 'px-xrayappendgood-g-eddrate.html', 'px-xrayappendall-g-eddrate.html', 'Mrk1018_plus_2paper_alpha_ox_Lx_rate.png', '2paper_alpha_ox_Lx_rate.png', 'Mrk1018_plus_2individuals_plus_paper_alpha_ox_Lx_rate.png', 'uvot-xray-date-lc-all-left.png', 'Mrk1018_radio4.8_xray_sel1_rate.png', 'Mrk1018_ngc7213_radio_xray_mass_log_koerding06.png']\n",
      "/home/brettlv/python_code/Mrk1018/png_v4 [] ['Mrk1018_plus_2individuals_alpha_ox_Lx_rate.png', 'Mrk1018_uvot_xray_sed.png', 'subplots-radio-xray-second.png', 'uvot_xrt_correlation-fig.png', 'subplots-xrt_uvot-radio-second-right-part.png', 'Mrk1018_radio_xray_Plotkin2012.png', 'uvot_xrt_correlation-subplots.png', 'subplots-xrtfit_fluxgood-fandg-second.png', 'Mrk1018_subplots_plus_2individuals_alpha_ox_L_x_Luv_rate.png', 'Mrk1018_alpha_uvot_uw1_Lx_rate.png', 'uvot_xrt_correlation.png', '2paper_plus_quasars_alpha_ox_Lbol_rate.png', 'Mrk1018_radio_xray_sel1_rate.png', 'X-ray-light-curve-fit-flux-selection.png', 'Mrk1018_radio4.8_xray_sel1.png', 'Mrk1018_plus_2individuals_plus_2paper_alpha_ox_Luv_rate.png', 'Mrk1018_ngc7213_radio_xray_mass_log_merloni03.png', 'uvot-light-curve-fit-time-selection.png', 'X-ray-light-curve-fit_2exp.png', 'Mrk1018_radio_xray_Gultekin19.png', 'X-ray-light-curve-fit-flux-high-selection.png', 'X-ray-light-curve-fit_2exp-without-outlier.png', 'X-ray-light-curve-fit-time-selection-without-outlier.png', 'Mrk1018_plus_2paper_alpha_ox_Luv_rate.png', 'uvot-light-curve-flux-fit-time-selection.png', 'uvot-light-curve-fit-mjy-time-selection.png', 'Mrk1018_alpha_uvot_uw1_rate.png', 'Mrk1018_radio_xray_Xie2017.png', 'subplots-xrayappendgood-fandg-second.png', 'xrayappendgood-errorbar-f-g-tmap.png', 'xrayappendgood-eddrate-g-tmap.png', 'subplots-xrt_uvot-radio-second.png', 'radio-date-lc-2005.png', 'uvot_xrt_correlation-fig-without-outlier.png', 'X-ray-light-curve-fit-flux-low-selection.png', 'quasars_alpha_ox_Lbol_rate.png', 'uvot-xray-date-lc-sim-left.png', 'uvot_xrt_correlation-subplots-without-outliers.png', 'Mrk1018_plus_2individuals_alpha_ox_Luv_rate.png', 'Mrk1018_plus_2paper_alpha_ox_Lx_rate.png', '2paper_alpha_ox_Lx_rate.png', 'X-ray-light-curve-fit.png', 'Mrk1018_plus_2individuals_plus_paper_alpha_ox_Lx_rate.png', 'uvot-xray-date-lc-all-left.png', 'X-ray-light-curve-fit-time-selection.png', 'Mrk1018_radio4.8_xray_sel1_rate.png', 'Mrk1018_radio_xray_Plotkin2012_LR.png']\n",
      "/home/brettlv/python_code/Mrk1018/png_v1_1121 [] ['Mrk1018_alpha_uvot_uw2_rate.png', 'Mrk1018_sed_uvot_xray-4band.png', 'flux-hist-one.png', 'Mrk1018_alpha_uvot_uw1_Lx_rate.png', 'Mrk1018_sed_uvot_all.png', 'Mrk1018_alpha_uvot_uw1_F.png', 'uvot_xrt_correlation.png', 'fit_bb.png', 'uvot-xray-date-lc-all.png', 'xrayappendgood-errorbar-ref-ins-f-g.png', 'Mrk1018_sed_uvot_four.png', 'Mrk1018_sed_uvot_xray-4band-multi.png', 'flux-hist.png', 'Mrk1018_sed_all.png', 'Mrk1018_alpha_uvot_uw1_rate.png', 'Mrk1018_alpha_uvot_uw1_Lx.png', 'subplots-xrayappendgood-fandg-second.png', 'xrayappendgood-errorbar-f-g-tmap.png', 'xrayappendgood-errorbar-ref-ins-eddrate-g.png', 'Mrk1018_alpha_uvot_uuu_rate.png', 'uvot-xray-date-lc-all-right.png', 'uvot-xray-date-lc-sim-left.png', 'radio-date-lc.png', 'xrayappendgood-flux-g-tmap.png', 'xrayappendgood-errorbar-eddrate-g-tmap.png', 'Mrk1018_sed_uvot_xray.png', 'subplots-xrayappendgood-fandg.png', 'Mrk1018_sed_uvot.png', 'Mrk1018_sed_all_multi.png', 'Mrk1018_alpha_uvot_um2_rate.png', 'uvot-xray-date-lc-sim-right.png', 'uvot-xray-date-lc-all-left.png', 'Mrk1018_sed_uvot_xray_multi.png']\n",
      "/home/brettlv/python_code/Mrk1018 ['.ipynb_checkpoints', 'extictions', '__pycache__', 'data', 'png_v3', 'png_v2_1225', 'png_v4', 'png_v1_1121'] ['Mrk1018_uvot_xray_sed.png', 'time_lag_hard_soft.ipynb', 'subplots-xrt_uvot-radio-second-right-part.png', 'Mrk1018_bokeh_plot_.ipynb', 'latex.ipynb', 'plot_code.py', 'Mrk1018_subplots_plus_2individuals_alpha_ox_L_x_Luv_rate.png', 'Mrk1018-tabbed-bokeh.html', 'Mrk1018_timescale.ipynb', 'Mrk1018_xrt-.ipynb', 'Mrk1018_alpha-bokeh.html', 'Mrk1018_radio4.8_xray_sel1.png', 'refMrk1018new1.bib', 'px-xray-good-g-eddrate-with-time.html', 'Latex_astronomy.ipynb', 'ref_arxiv_paper.ipynb', 'Mrk1018_casa_2007-2008data.ipynb', 'Mrk1018_alpha_ox.py', 'secondary_axis.py', 'Mrk1018_VLA.ipynb', 'Mrk1018_alpha_uvot_uw1_rate.png', 'Mrk1018get_cflux_info.ipynb', 'xray_latex_0.csv', 'Mrk590.ipynb', 'xrayappendgood-errorbar-f-g-tmap.png', 'xray_latex.csv', 'Mrk1018_alpha_ox.ipynb', 'subplots-xrt_uvot-radio-second.png', 'Astro_Timescale.ipynb', 'uvot-xray-date-lc-sim-left.png', 'refbibcodesMrk1018.csv', 'fit_blackbody.ipynb', 'secondary_axis.ipynb', 'MAXIJ0637-430.ipynb', 'Mrk1018_uvot_xray_radio.ipynb', 'rename_replace.py.ipynb', 'refMrk1018new.bib', 'Mrk1018_lightcurve.ipynb', 'xrayappend.txt', '2paper_alpha_ox_Lx_rate.png', 'Mrk1018nustar_data_xmm_chandra.ipynb', 'Mrk1018_xrt.ipynb', 'fadamental_plane_NGC7213_Mrk590_Mrk1018.ipynb', 'Mrk1018casacopy.ipynb', 'Type1_xray_spectrum_properties.ipynb']\n"
     ]
    }
   ],
   "source": [
    "#!/usr/bin/python\n",
    "# -*- coding: UTF-8 -*-\n",
    "import os,re\n",
    "for root, dirs, files in os.walk(path, topdown=False):  \n",
    "    print(root,dirs,files)"
   ]
  },
  {
   "cell_type": "code",
   "execution_count": null,
   "metadata": {
    "collapsed": true
   },
   "outputs": [],
   "source": []
  },
  {
   "cell_type": "code",
   "execution_count": 34,
   "metadata": {
    "ExecuteTime": {
     "end_time": "2020-09-01T14:52:22.080694Z",
     "start_time": "2020-09-01T14:52:22.077585Z"
    },
    "collapsed": true
   },
   "outputs": [],
   "source": []
  },
  {
   "cell_type": "code",
   "execution_count": 35,
   "metadata": {
    "ExecuteTime": {
     "end_time": "2020-09-01T14:52:29.650683Z",
     "start_time": "2020-09-01T14:52:29.646003Z"
    },
    "collapsed": true
   },
   "outputs": [],
   "source": []
  },
  {
   "cell_type": "code",
   "execution_count": 26,
   "metadata": {
    "ExecuteTime": {
     "end_time": "2020-10-18T13:25:00.837038Z",
     "start_time": "2020-10-18T13:25:00.830736Z"
    },
    "collapsed": false
   },
   "outputs": [
    {
     "name": "stdout",
     "output_type": "stream",
     "text": [
      "/media/brettlv/Brettlv_G_m/Papers_unsorted\n"
     ]
    }
   ],
   "source": [
    "from datetime import datetime\n",
    "import os\n",
    "import re\n",
    "path=os.getcwd()\n",
    "print(path)"
   ]
  },
  {
   "cell_type": "code",
   "execution_count": 27,
   "metadata": {
    "ExecuteTime": {
     "end_time": "2020-10-18T13:25:13.650194Z",
     "start_time": "2020-10-18T13:25:13.643276Z"
    },
    "collapsed": false
   },
   "outputs": [
    {
     "data": {
      "text/plain": [
       "['On the two main classes of active galactic nuclei.pdf',\n",
       " '2013PASA...30....4F_J_other_PASA_30.4',\n",
       " '2013PASA...30....4F_J_other_PASA_30.4.tar.gz',\n",
       " '20190816dellpaperbackup',\n",
       " 'A Swift Gaze into the 2006 March 29 Burst Forest of SGR 1900+14 Israel_2008_ApJ_685_1114.pdf',\n",
       " 'Active_Galactic_Nuclei_at_All_Wavelengths_and_from.pdf',\n",
       " 'Black hole binaries 0306213.pdf',\n",
       " 'Black holes in astrophysics Narayan_2005_New_J._Phys._7_199.pdf',\n",
       " 'COMPACT STELLAR X-RAY SOURCES 9780521826594_frontmatter.pdf',\n",
       " 'Connection between the X-ray, UV and optical emission line regions of AGN 43.pdf',\n",
       " 'Discovery and state transitions of the new Galactic black hole candidate MAXI J1535−571 psy093.pdf',\n",
       " 'Formation and Evolution of Compact Stellar X-ray Sources 0303456.pdf',\n",
       " 'Luo_2017_ApJS_228_2 THE CHANDRA DEEP FIELD-SOUTH SURVEY 7 MS SOURCE CATALOGS.pdf',\n",
       " 'Modelling variability in black hole binaries linking simulations to observations 1108.0789.pdf',\n",
       " 'Padovani2016_Article_TheFaintRadioSkyRadioAstronomy.pdf',\n",
       " 'Padovani2017_Article_ActiveGalacticNuclei_Active galactic nuclei what’s in a name.pdf',\n",
       " 'papers',\n",
       " 'Puzzling accretion onto a black hole in the ultraluminous X-ray source M 101 ULX-1 nature12762.pdf',\n",
       " 'Searching for Gravitational Waves with Strongly Lensed Repeating Fast Radio Bursts 2009.11252.pdf',\n",
       " 'Stellar-Mass Black Holes and Ultraluminous X-ray Sources.pdf',\n",
       " 'The 2003 Outburst of the X-Ray Transient H1743-322 Comparisons with the Black Hole Microquasar XTE J1550-564 McClintock_2009_ApJ_698_1398.pdf',\n",
       " 'The April-June 2020 super-outburst of OJ 287 and its long-term multiwavelength light curve with Swift binary supermassive black hole and jet activity 2008.01826.pdf',\n",
       " 'The GLEAM 4-Jy (G4Jy) Sample I. Definition and the catalogue.pdf',\n",
       " 'The GLEAM 4-Jy (G4Jy) Sample II. Host galaxy identification for individual sources S1323358020000107.pdf',\n",
       " 'UVMULTIFIT A versatile tool for fitting astronomical radio interferometric data aa22633-13.pdf',\n",
       " 'Wang_2013_ApJ_768_176 INSIGHT INTO ACTIVE GALACTIC NUCLEUS AND HOST GALAXY CO-EVOLUTION FROM HARD X-RAY EMISSION.pdf',\n",
       " 'X-ray Properties of Black-Hole Binaries Remillard_Mcclintock.pdf']"
      ]
     },
     "execution_count": 27,
     "metadata": {},
     "output_type": "execute_result"
    }
   ],
   "source": [
    "os.listdir(path)"
   ]
  },
  {
   "cell_type": "code",
   "execution_count": null,
   "metadata": {
    "collapsed": true
   },
   "outputs": [],
   "source": []
  },
  {
   "cell_type": "code",
   "execution_count": 17,
   "metadata": {
    "ExecuteTime": {
     "end_time": "2020-10-16T03:23:40.563272Z",
     "start_time": "2020-10-16T03:23:40.559077Z"
    },
    "collapsed": true
   },
   "outputs": [],
   "source": [
    "now=datetime.now()"
   ]
  },
  {
   "cell_type": "code",
   "execution_count": 18,
   "metadata": {
    "ExecuteTime": {
     "end_time": "2020-10-16T03:23:44.869800Z",
     "start_time": "2020-10-16T03:23:44.863505Z"
    },
    "collapsed": false
   },
   "outputs": [
    {
     "data": {
      "text/plain": [
       "'2020/10/16-Friday-11:23:40'"
      ]
     },
     "execution_count": 18,
     "metadata": {},
     "output_type": "execute_result"
    }
   ],
   "source": [
    "now.strftime(\"%Y/%m/%d-%A-%H:%M:%S\")"
   ]
  },
  {
   "cell_type": "code",
   "execution_count": null,
   "metadata": {
    "collapsed": true
   },
   "outputs": [],
   "source": [
    "#引入shutil模块\n",
    "import shutil\n",
    "# 复制或移动到目的文件夹下面\n",
    "# 如果只写目标文件夹的名称的话，如果目标文件夹不存在，则会将复制或移动之后的文件重命名为目标文件夹的名称\n",
    "#demo.txt 复制到 新的文件夹 下面\n",
    "shutil.copy('demo.txt','新的文件夹')\n",
    "#file1.txt 移动到 新的文件夹 下面\n",
    "shutil.move('file1.txt','新的文件夹')\n",
    "#复制或移动到目的文件夹下面之后，重命名\n",
    "#如果目标文件夹不存在，则会报错\n",
    "#demo.txt 复制到 新的文件夹 下面，并重命名为new1.txt\n",
    "shutil.copy('demo.txt','新的文件夹/new1.txt')\n",
    "#file2.txt 移动到 新的文件夹 下面，并重命名为 new2.txt\n",
    "shutil.move('file2.txt','新的文件夹/new2.txt')\n",
    "\n",
    "# 建议在复制或移动之前做相应判断\n",
    "if os.path.exists('新的文件夹'):\n",
    "    shutil.copy('demo.txt','新的文件夹')\n",
    "else:\n",
    "    print('目的文件夹不存在，无法复制')\n",
    "if os.path.exists('新的文件夹'):\n",
    "    shutil.move('file1.txt','新的文件夹')\n",
    "else:\n",
    "    print('目的文件夹不存在，无法移动')"
   ]
  },
  {
   "cell_type": "code",
   "execution_count": null,
   "metadata": {
    "collapsed": true
   },
   "outputs": [],
   "source": []
  },
  {
   "cell_type": "markdown",
   "metadata": {},
   "source": [
    "## sort"
   ]
  },
  {
   "cell_type": "code",
   "execution_count": null,
   "metadata": {
    "collapsed": true
   },
   "outputs": [],
   "source": [
    "#!/usr/bin/python\n",
    "# -*- coding: UTF-8 -*-\n",
    "import os,re\n",
    "import shutil\n",
    "\n",
    "path='/media/brettlv/Brettlv_G_m/Papers_unsorted/'\n",
    "#path=os.getcwd()\n",
    "os.chdir(path)\n",
    "\n",
    "key_words=['AGN','XRB',]\n",
    "\n",
    "\n",
    "\n",
    "for root, dirs, files in os.walk(path, topdown=False):       \n",
    "    for name in files:\n",
    "        #print(os.path.join(root, name))        \n",
    "        os.chdir(root)       \n",
    "        print(root)  \n",
    "        print('name',name,'newname:',filename_new)\n",
    "        "
   ]
  }
 ],
 "metadata": {
  "kernelspec": {
   "display_name": "Python 3",
   "language": "python",
   "name": "python3"
  },
  "language_info": {
   "codemirror_mode": {
    "name": "ipython",
    "version": 3
   },
   "file_extension": ".py",
   "mimetype": "text/x-python",
   "name": "python",
   "nbconvert_exporter": "python",
   "pygments_lexer": "ipython3",
   "version": "3.6.0"
  },
  "latex_envs": {
   "LaTeX_envs_menu_present": true,
   "autocomplete": true,
   "bibliofile": "biblio.bib",
   "cite_by": "apalike",
   "current_citInitial": 1,
   "eqLabelWithNumbers": true,
   "eqNumInitial": 1,
   "hotkeys": {
    "equation": "Ctrl-E",
    "itemize": "Ctrl-I"
   },
   "labels_anchors": false,
   "latex_user_defs": false,
   "report_style_numbering": false,
   "user_envs_cfg": false
  },
  "toc": {
   "nav_menu": {},
   "number_sections": true,
   "sideBar": true,
   "skip_h1_title": false,
   "toc_cell": true,
   "toc_position": {},
   "toc_section_display": true,
   "toc_window_display": true
  }
 },
 "nbformat": 4,
 "nbformat_minor": 2
}
