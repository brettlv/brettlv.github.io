{
 "cells": [
  {
   "cell_type": "markdown",
   "metadata": {},
   "source": []
  },
  {
   "cell_type": "code",
   "execution_count": null,
   "metadata": {
    "collapsed": true
   },
   "outputs": [],
   "source": []
  },
  {
   "cell_type": "code",
   "execution_count": null,
   "metadata": {
    "collapsed": true
   },
   "outputs": [],
   "source": []
  },
  {
   "cell_type": "code",
   "execution_count": null,
   "metadata": {
    "collapsed": true
   },
   "outputs": [],
   "source": []
  },
  {
   "cell_type": "markdown",
   "metadata": {},
   "source": [
    "# 2019"
   ]
  },
  {
   "cell_type": "markdown",
   "metadata": {},
   "source": [
    "## 04\n",
    "### week1\n",
    "#### day2\n",
    "arXiv:1904.00106 [pdf, other]\n",
    "Using evolutionary algorithms to model relativistic jets: Application to NGC 1052\n",
    "\n",
    "arXiv:1904.00554 [pdf, other]\n",
    "On high-energy particles in accretion disk coronae of supermassive black holes: implications for MeV gamma rays and high-energy neutrinos from AGN cores\n",
    "\n",
    "arXiv:1904.00663 [pdf, ps, other]\n",
    "Polca SARA - Full polarization, direction-dependent calibration and sparse imaging for radio interferometry\n",
    "Jasleen Birdi, Audrey Repetti, Yves Wiaux\n",
    "\n",
    "\n",
    "arXiv:1904.00814 [pdf, other]\n",
    "Active galactic nuclei imaging programs of the RadioAstron mission\n",
    "Gabriele Bruni, Tuomas Savolainen, Jose Luis Gómez, Andrei P. Lobanov, Yuri Y. Kovalev\n",
    "\n",
    "\n",
    "arXiv:1904.00914 [pdf, ps, other]\n",
    "Unveiling the nature of compact object in the LMXB MAXI J1957+032 using Swift-XRT\n",
    "Aru Beri, D. Altamirano, R. Wijnands, N. Degenaar, A.S. Parikh, K. Yamaoka\n",
    "\n",
    "#### day3\n",
    " arXiv:1904.01066 [pdf, other]\n",
    "CG X-1: an eclipsing Wolf-Rayet ULX in the Circinus galaxy\n",
    "Yanli Qiu, Roberto Soria, Song Wang, Grzegorz Wiktorowicz, Jifeng Liu, Yu Bai, Alexey Bogomazov, Rosanne Di Stefano, Dominic J. Walton, Xiaojie Xu\n",
    "\n",
    "arXiv:1904.01237 [pdf, ps, other]\n",
    "The Interstellar Medium: The Key Component in Galactic Evolution and Modern Cosmology\n",
    "Carl Heiles, Di Li, Naomi McClure-Griffiths, Lei Qian, Shu Liu\n",
    "\n",
    "\n",
    "\n",
    "!!! arXiv:1904.01365 [pdf, other]\n",
    "Imaging the AGN Torus in Cygnus\n",
    "C.L. Carilli (NRAO, MRAO), R.A. Perley, V. Dhawan (NRAO), D.A. Perley\n",
    "\n",
    " arXiv:1904.01404 [pdf, ps, other]\n",
    "Exploring the Mass Segregation Effect of X-ray Sources in Globular Clusters: The Case of 47 Tucanae\n",
    "Zhongqun Cheng, Zhiyuan Li, Xiangdong Li, Xiaojie Xu, Taotao Fang\n",
    "\n",
    "\n",
    "\n",
    "#### day4\n",
    "arXiv:1904.01765 [pdf, other]\n",
    "A Fundamental Plane for Gamma-Ray Pulsars\n",
    "Constantinos Kalapotharakos, Alice K. Harding, Demosthenes Kazanas, Zorawar Wadiasingh\n",
    "\n",
    " arXiv:1904.01598 [pdf, ps, other]\n",
    "A stochastic propagation model to the energy dependent rapid temporal behaviour of Cygnus X-1 as observed by AstroSat in the hard state\n",
    "Bari Maqbool"
   ]
  },
  {
   "cell_type": "markdown",
   "metadata": {},
   "source": []
  },
  {
   "cell_type": "markdown",
   "metadata": {},
   "source": [
    "## 05\n",
    "### week1\n",
    "#### day1\n",
    "#### day2\n",
    "#### day3\n",
    "#### day4\n",
    "#### day5"
   ]
  },
  {
   "cell_type": "markdown",
   "metadata": {},
   "source": [
    "## 06\n",
    "### week1\n",
    "#### day1\n",
    "#### day2\n",
    "#### day3\n",
    "#### day4\n",
    "#### day5"
   ]
  }
 ],
 "metadata": {
  "kernelspec": {
   "display_name": "Python 3",
   "language": "python",
   "name": "python3"
  },
  "language_info": {
   "codemirror_mode": {
    "name": "ipython",
    "version": 3
   },
   "file_extension": ".py",
   "mimetype": "text/x-python",
   "name": "python",
   "nbconvert_exporter": "python",
   "pygments_lexer": "ipython3",
   "version": "3.6.0"
  },
  "latex_envs": {
   "LaTeX_envs_menu_present": true,
   "autocomplete": true,
   "bibliofile": "biblio.bib",
   "cite_by": "apalike",
   "current_citInitial": 1,
   "eqLabelWithNumbers": true,
   "eqNumInitial": 1,
   "hotkeys": {
    "equation": "Ctrl-E",
    "itemize": "Ctrl-I"
   },
   "labels_anchors": false,
   "latex_user_defs": false,
   "report_style_numbering": false,
   "user_envs_cfg": false
  },
  "toc": {
   "nav_menu": {},
   "number_sections": true,
   "sideBar": true,
   "skip_h1_title": false,
   "toc_cell": false,
   "toc_position": {},
   "toc_section_display": "block",
   "toc_window_display": false
  }
 },
 "nbformat": 4,
 "nbformat_minor": 2
}
