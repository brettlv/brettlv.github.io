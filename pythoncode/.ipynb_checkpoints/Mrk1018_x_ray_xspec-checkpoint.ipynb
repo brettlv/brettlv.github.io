{
 "cells": [
  {
   "cell_type": "code",
   "execution_count": null,
   "metadata": {
    "collapsed": true
   },
   "outputs": [],
   "source": [
    "xrtpipeline\n",
    "xselect\n",
    "xrtmkarf\n",
    "grppha\n",
    "xspec"
   ]
  },
  {
   "cell_type": "markdown",
   "metadata": {
    "collapsed": true
   },
   "source": [
    "# init heasoft\n",
    "\n",
    "export HEADAS=/Users/brettlv/src_heasoft/heasoft-6.25/x86_64-apple-darwin16.7.0/  \n",
    ". $HEADAS/headas-init.sh  \n",
    "source /Users/brettlv/src_heasoft/heasoft-6.25/CALDB/software/tools/caldbinit.sh  \n",
    "\n"
   ]
  },
  {
   "cell_type": "code",
   "execution_count": null,
   "metadata": {
    "ExecuteTime": {
     "end_time": "2019-05-08T20:55:50.072357Z",
     "start_time": "2019-05-08T20:55:49.471388Z"
    },
    "collapsed": false
   },
   "outputs": [],
   "source": [
    "!export HEADAS=/Users/brettlv/src_heasoft/heasoft-6.25/x86_64-apple-darwin16.7.0/  \n",
    "!sh /Users/brettlv/src_heasoft/heasoft-6.25/x86_64-apple-darwin16.7.0/headas-init.sh  \n",
    "!source /Users/brettlv/src_heasoft/heasoft-6.25/CALDB/software/tools/caldbinit.sh  \n"
   ]
  },
  {
   "cell_type": "markdown",
   "metadata": {},
   "source": [
    "# import pyxspec"
   ]
  },
  {
   "cell_type": "code",
   "execution_count": 1,
   "metadata": {
    "ExecuteTime": {
     "end_time": "2019-05-16T14:31:56.272061Z",
     "start_time": "2019-05-16T14:31:56.160886Z"
    },
    "collapsed": false
   },
   "outputs": [],
   "source": [
    "from xspec import *\n",
    "import xspec"
   ]
  },
  {
   "cell_type": "markdown",
   "metadata": {},
   "source": [
    "# plotdevice"
   ]
  },
  {
   "cell_type": "code",
   "execution_count": 2,
   "metadata": {
    "ExecuteTime": {
     "end_time": "2019-05-16T14:31:57.615070Z",
     "start_time": "2019-05-16T14:31:57.546040Z"
    },
    "collapsed": true
   },
   "outputs": [],
   "source": [
    "Plot.device='/xs'\n",
    "#Plot.device='/null'"
   ]
  },
  {
   "cell_type": "code",
   "execution_count": null,
   "metadata": {
    "collapsed": true
   },
   "outputs": [],
   "source": []
  },
  {
   "cell_type": "code",
   "execution_count": null,
   "metadata": {
    "collapsed": true
   },
   "outputs": [],
   "source": []
  },
  {
   "cell_type": "markdown",
   "metadata": {},
   "source": [
    "# filepath"
   ]
  },
  {
   "cell_type": "code",
   "execution_count": 3,
   "metadata": {
    "ExecuteTime": {
     "end_time": "2019-05-16T14:32:04.828549Z",
     "start_time": "2019-05-16T14:32:04.143627Z"
    },
    "collapsed": true
   },
   "outputs": [],
   "source": [
    "import os\n",
    "filepath='/Volumes/Brettlv_G_m/Mrk1018/swift/'\n",
    "def get_obsids(path):\n",
    "    dirname=os.listdir(path)\n",
    "    obsids=[]\n",
    "    for i in dirname:\n",
    "        if i.isdigit():\n",
    "            obsids.append(i)\n",
    "    obsids.sort()        \n",
    "    return obsids\n"
   ]
  },
  {
   "cell_type": "code",
   "execution_count": 4,
   "metadata": {
    "ExecuteTime": {
     "end_time": "2019-05-16T14:32:04.984292Z",
     "start_time": "2019-05-16T14:32:04.978340Z"
    },
    "collapsed": false
   },
   "outputs": [],
   "source": [
    "obsid=obsids[0]\n",
    "obsid_path=os.path.join(filepath,obsid+'_xrt')\n",
    "os.chdir(obsid_path)"
   ]
  },
  {
   "cell_type": "markdown",
   "metadata": {},
   "source": [
    "# bat"
   ]
  },
  {
   "cell_type": "code",
   "execution_count": 201,
   "metadata": {
    "ExecuteTime": {
     "end_time": "2019-05-17T09:50:44.784071Z",
     "start_time": "2019-05-17T09:50:44.737113Z"
    },
    "collapsed": false
   },
   "outputs": [],
   "source": [
    "def load_data(filepath,obsid):\n",
    "    obsids=get_obsids(filepath)\n",
    "    obsid_path=os.path.join(filepath,obsid+'_xrt')\n",
    "    os.chdir(obsid_path)\n",
    "    \n",
    "    s1=xspec.Spectrum('%s/src.pi'%obsid_path)\n",
    "    s1.background='%s/bkg.pha'%obsid_path\n",
    "    \n",
    "    Plot.xAxis = \"keV\"\n",
    "    s1.ignore('**-0.5 10.0-**')\n",
    "    s1.ignore(\"bad\")\n",
    "    AllData.ignore(\"bad\")    \n",
    "    return s1 \n",
    "\n",
    "def spec_fit_log():\n",
    "    \n",
    "    mo=Model(\"phabs*cflux*powerlaw\")\n",
    "    mo.phabs.nH=0.0243\n",
    "    mo.phabs.nH.frozen=True\n",
    "    Fit.nIterations = 100\n",
    "    Fit.statMethod = \"chi\"    \n",
    "    \n",
    "    # Get/Set the console chatter level\n",
    "    ch = Xset.chatter\n",
    "    Xset.chatter = 10\n",
    "    # Get/Set the log chatter level \n",
    "    lch = Xset.logChatter\n",
    "    Xset.logChatter = 20\n",
    "    # Create and open a log file for XSPEC output\n",
    "    # This returns a Python file object\n",
    "    logFile = Xset.openLog(\"newLogFile.txt\")\n",
    "    # Get the Python file object for the currently opened log\n",
    "    logFile = Xset.log\n",
    "    #Fit.show() \n",
    "    Fit.perform()\n",
    "    # Close XSPEC's currently opened log file. \n",
    "    Xset.closeLog()\n",
    "    \n",
    "def get_flux_lumin():\n",
    "    AllModels.calcFlux(\"2. 10.0 err\")\n",
    "    AllModels.calcLumin(\"2.0 10. 0.035 err\")\n",
    "    source = AllData(1)\n",
    "    print('Flux:',obsid,source.flux)\n",
    "    print('Lumin:',obsid,source.lumin)\n",
    "    return source.flux,source.lumin\n",
    "\n",
    "def show_logfile():\n",
    "    obsids=get_obsids(filepath)\n",
    "    obsid_path=os.path.join(filepath,obsid+'_xrt')\n",
    "    with open('newLogFile.txt','r') as f:\n",
    "        content = f.readlines()\n",
    "        for i in content:\n",
    "            print(i)\n"
   ]
  },
  {
   "cell_type": "code",
   "execution_count": null,
   "metadata": {
    "collapsed": true
   },
   "outputs": [],
   "source": [
    "obsids=get_obsids(filepath)\n",
    "obsid=obsids[0]\n",
    "load_data(filepath,obsid)\n",
    "spec_fit_log()\n",
    "show_logfile()\n",
    "flux,lumin=get_flux_lumin()\n",
    "print(os.getcwd())\n",
    "AllData.clear()"
   ]
  },
  {
   "cell_type": "code",
   "execution_count": 230,
   "metadata": {
    "ExecuteTime": {
     "end_time": "2019-05-17T10:16:02.083978Z",
     "start_time": "2019-05-17T10:15:02.479946Z"
    },
    "collapsed": false
   },
   "outputs": [
    {
     "name": "stdout",
     "output_type": "stream",
     "text": [
      "/Volumes/Brettlv_G_m/Mrk1018/swift/00030955001_xrt\n",
      "Flux: 00030955001 (9.024019576283383e-12, 7.32089304124603e-13, 3.572959639210493e-12, 0.001354149072767363, 0.00016076436675858613, 0.0006574015058267807)\n",
      "Lumin: 00030955001 (0.25444695984681887, 0.0112608567736068, nan, 0.001393709951692312, 9.457023615032145e-05, nan)\n",
      "\n",
      "/Volumes/Brettlv_G_m/Mrk1018/swift/00030955002_xrt\n",
      "Flux: 00030955002 (7.264881744162833e-12, 1.2368783249930388e-11, 1.3454719141722853e-11, 0.0011146425326147736, 0.0009931115211820904, 0.0010883943422878876)\n",
      "Lumin: 00030955002 (0.20559189858103685, 0.2935727078888194, nan, 0.0011513868120877804, 0.0008376438222979511, 0.000954096194634543)\n",
      "\n",
      "/Volumes/Brettlv_G_m/Mrk1018/swift/00030955003_xrt\n",
      "Flux: 00030955003 (8.555257980466863e-12, nan, 1.3166132165215406e-11, 0.0013042520456964714, nan, 0.0015621478707413068)\n",
      "Lumin: 00030955003 (0.2418540780086872, nan, 0.38048146699612084, 0.001345829836829737, nan, 0.0015761653033370875)\n",
      "\n",
      "/Volumes/Brettlv_G_m/Mrk1018/swift/00035166001_xrt\n",
      "00035166001 error\n",
      "/Volumes/Brettlv_G_m/Mrk1018/swift/00035776001_xrt\n",
      "00035776001 error\n",
      "/Volumes/Brettlv_G_m/Mrk1018/swift/00035776002_xrt\n",
      "00035776002 error\n",
      "/Volumes/Brettlv_G_m/Mrk1018/swift/00035776003_xrt\n",
      "00035776003 error\n",
      "/Volumes/Brettlv_G_m/Mrk1018/swift/00035776004_xrt\n",
      "Flux: 00035776004 (3.0112686232017905e-12, nan, 1.4410652926927076e-13, 0.0003793847436445964, nan, 2.971999836008973e-05)\n",
      "Lumin: 00035776004 (0.08253547096592755, 5.4190542768591515e-06, nan, 0.00037956641462100367, 5.407067996655952e-08, nan)\n",
      "\n",
      "/Volumes/Brettlv_G_m/Mrk1018/swift/00035776005_xrt\n",
      "00035776005 error\n",
      "/Volumes/Brettlv_G_m/Mrk1018/swift/00035776006_xrt\n",
      "Flux: 00035776006 (2.0399784004721528e-12, 4.843421024265796e-17, nan, 0.00027975812910600525, 1.342364003399444e-08, nan)\n",
      "Lumin: 00035776006 (0.05669036544448948, 1.6220379614060441e-06, nan, 0.0002837777792965344, 1.6415811874309697e-08, nan)\n",
      "\n",
      "/Volumes/Brettlv_G_m/Mrk1018/swift/00035776007_xrt\n",
      "Flux: 00035776007 (2.0197066132748527e-12, nan, 3.847099398819331e-12, 0.00030596887696143733, nan, 0.0003011964362305325)\n",
      "Lumin: 00035776007 (0.05703734359653422, nan, nan, 0.00031539638775734795, nan, nan)\n",
      "\n",
      "/Volumes/Brettlv_G_m/Mrk1018/swift/00035776008_xrt\n",
      "00035776008 error\n",
      "/Volumes/Brettlv_G_m/Mrk1018/swift/00035776010_xrt\n",
      "00035776010 error\n",
      "/Volumes/Brettlv_G_m/Mrk1018/swift/00035776011_xrt\n",
      "Flux: 00035776011 (1.8145661486298452e-12, nan, nan, 0.0002548110042642856, nan, nan)\n",
      "Lumin: 00035776011 (0.0506187477019747, nan, 1.7690663180124058e-06, 0.0002594583763854678, nan, 1.7909153906625316e-08)\n",
      "\n",
      "/Volumes/Brettlv_G_m/Mrk1018/swift/00035776012_xrt\n",
      "00035776012 error\n",
      "/Volumes/Brettlv_G_m/Mrk1018/swift/00035776014_xrt\n",
      "Flux: 00035776014 (3.0032159019139956e-12, nan, 6.174309638108633e-17, 0.000391165224923795, nan, 1.7123256235766862e-08)\n",
      "Lumin: 00035776014 (0.08276548618372083, 2.165052880791845e-06, 1.5938076946286112e-06, 0.0003934936017924184, 2.1918467104246854e-08, 1.6135428615926922e-08)\n",
      "\n",
      "/Volumes/Brettlv_G_m/Mrk1018/swift/00035776015_xrt\n",
      "00035776015 error\n",
      "/Volumes/Brettlv_G_m/Mrk1018/swift/00035776016_xrt\n",
      "00035776016 error\n",
      "/Volumes/Brettlv_G_m/Mrk1018/swift/00035776017_xrt\n",
      "Flux: 00035776017 (3.917748948415561e-12, nan, 6.250473593006306e-12, 0.00046584825051781097, nan, 0.0004870396640313474)\n",
      "Lumin: 00035776017 (0.10633671032198279, 0.075633447278005, 0.21989162344441235, 0.0004615427506605315, 0.000215266975698267, 0.0006254387385629437)\n",
      "\n",
      "/Volumes/Brettlv_G_m/Mrk1018/swift/00035776018_xrt\n",
      "00035776018 error\n",
      "/Volumes/Brettlv_G_m/Mrk1018/swift/00035776019_xrt\n",
      "Flux: 00035776019 (1.0003840296048795e-12, 1.4660775247558819e-12, nan, 0.00015069141301329777, 0.0001142477126660079, nan)\n",
      "Lumin: 00035776019 (0.028225016137833386, 0.034537642205658935, nan, 0.0001551902907659222, 9.823994774744212e-05, nan)\n",
      "\n",
      "/Volumes/Brettlv_G_m/Mrk1018/swift/00035776020_xrt\n",
      "00035776020 error\n",
      "/Volumes/Brettlv_G_m/Mrk1018/swift/00035776021_xrt\n",
      "Flux: 00035776021 (1.7694104593918336e-12, 2.035974516867262e-12, nan, 0.0002407404025792862, 0.000158673513482254, nan)\n",
      "Lumin: 00035776021 (0.04910874574495688, 0.04904557992929522, nan, 0.0002438886559374531, 0.00013951984524957438, nan)\n",
      "\n",
      "/Volumes/Brettlv_G_m/Mrk1018/swift/00035776023_xrt\n",
      "00035776023 error\n",
      "/Volumes/Brettlv_G_m/Mrk1018/swift/00035776024_xrt\n",
      "Flux: 00035776024 (1.0115511237691638e-12, 1.7452910150251331e-12, nan, 0.00015981441797773577, 0.00013598337534258216, nan)\n",
      "Lumin: 00035776024 (0.028766004239038107, nan, nan, 0.00016588816582934076, nan, nan)\n",
      "\n",
      "/Volumes/Brettlv_G_m/Mrk1018/swift/00035776025_xrt\n",
      "00035776025 error\n",
      "/Volumes/Brettlv_G_m/Mrk1018/swift/00035776026_xrt\n",
      "00035776026 error\n",
      "/Volumes/Brettlv_G_m/Mrk1018/swift/00035776027_xrt\n",
      "Flux: 00035776027 (1.2400966633154186e-12, 2.3221552383854156e-12, 2.391381046879787e-12, 0.00019323642838404588, 0.00018092919374387435, 0.00018637960183771077)\n",
      "Lumin: 00035776027 (0.03518408015756504, 0.0536353032204222, nan, 0.0002001186618305757, 0.00015255858116805835, nan)\n",
      "\n",
      "/Volumes/Brettlv_G_m/Mrk1018/swift/00035776029_xrt\n",
      "00035776029 error\n",
      "/Volumes/Brettlv_G_m/Mrk1018/swift/00035776031_xrt\n",
      "00035776031 error\n",
      "/Volumes/Brettlv_G_m/Mrk1018/swift/00035776032_xrt\n",
      "Flux: 00035776032 (1.6627379700749233e-12, nan, 2.842624973613487e-12, 0.0002366216897605384, nan, 0.0002214833780570825)\n",
      "Lumin: 00035776032 (0.04648289792291244, nan, 0.044206277277970524, 0.00024145395333305096, nan, 0.00012580978270881397)\n",
      "\n",
      "/Volumes/Brettlv_G_m/Mrk1018/swift/00035776033_xrt\n",
      "00035776033 error\n",
      "/Volumes/Brettlv_G_m/Mrk1018/swift/00035776034_xrt\n",
      "Flux: 00035776034 (4.458342907977558e-12, 6.325341565834122e-17, 1.508795903328205e-16, 0.0005235994119511248, 1.7541946373737233e-08, 4.184032843275649e-08)\n",
      "Lumin: 00035776034 (0.12074906916278126, 3.201685053581921e-06, nan, 0.0005176440941458992, 3.241345508297912e-08, nan)\n",
      "\n",
      "/Volumes/Brettlv_G_m/Mrk1018/swift/00035776035_xrt\n",
      "00035776035 error\n",
      "/Volumes/Brettlv_G_m/Mrk1018/swift/00035776036_xrt\n",
      "Flux: 00035776036 (5.760908102451991e-13, 2.0473770024178798e-17, nan, 9.762901077141292e-05, 5.678038424998197e-09, nan)\n",
      "Lumin: 00035776036 (0.016582380379543807, nan, 9.31818288682243e-07, 0.00010257522662230857, nan, 9.433725518234593e-09)\n",
      "\n",
      "/Volumes/Brettlv_G_m/Mrk1018/swift/00035776037_xrt\n",
      "00035776037 error\n",
      "/Volumes/Brettlv_G_m/Mrk1018/swift/00035776038_xrt\n",
      "00035776038 error\n",
      "/Volumes/Brettlv_G_m/Mrk1018/swift/00035776039_xrt\n",
      "00035776039 error\n",
      "/Volumes/Brettlv_G_m/Mrk1018/swift/00035776040_xrt\n",
      "00035776040 error\n",
      "/Volumes/Brettlv_G_m/Mrk1018/swift/00035776041_xrt\n",
      "Flux: 00035776041 (4.704253027351484e-13, 3.4552493488969017e-17, nan, 8.512158014916813e-05, 9.58257335433571e-09, nan)\n",
      "Lumin: 00035776041 (0.013707677789443646, 8.31743797347212e-07, nan, 9.053611205937332e-05, 8.420592354197731e-09, nan)\n",
      "\n",
      "/Volumes/Brettlv_G_m/Mrk1018/swift/00035776042_xrt\n",
      "Flux: 00035776042 (6.771586099190582e-13, 2.858332348401384e-17, 3.4371119832681055e-17, 0.00011794059598139511, 7.926935855300763e-09, 9.532091458379825e-09)\n",
      "Lumin: 00035776042 (0.01958883263464733, 1.0711588882786122e-06, 1.2649580294741386e-06, 0.0001245344509021833, 1.0844017099181382e-08, 1.280634565199934e-08)\n",
      "\n",
      "/Volumes/Brettlv_G_m/Mrk1018/swift/00035776043_xrt\n",
      "00035776043 error\n",
      "/Volumes/Brettlv_G_m/Mrk1018/swift/00035776044_xrt\n",
      "00035776044 error\n",
      "/Volumes/Brettlv_G_m/Mrk1018/swift/00035776045_xrt\n",
      "00035776045 error\n",
      "/Volumes/Brettlv_G_m/Mrk1018/swift/00035776046_xrt\n",
      "Flux: 00035776046 (9.387963356142498e-13, 1.2554852055291686e-12, nan, 0.00014398655857244904, 9.78409455729996e-05, nan)\n",
      "Lumin: 00035776046 (0.026565809074869006, 0.033790822873117396, nan, 0.0001487242584484792, 9.611971778559955e-05, nan)\n",
      "\n",
      "/Volumes/Brettlv_G_m/Mrk1018/swift/00035776047_xrt\n",
      "00035776047 error\n",
      "/Volumes/Brettlv_G_m/Mrk1018/swift/00035776049_xrt\n",
      "00035776049 error\n",
      "/Volumes/Brettlv_G_m/Mrk1018/swift/00035776050_xrt\n",
      "00035776050 error\n",
      "/Volumes/Brettlv_G_m/Mrk1018/swift/00035776051_xrt\n",
      "Flux: 00035776051 (4.2292645200008003e-13, nan, nan, 7.467465202035689e-05, nan, nan)\n",
      "Lumin: 00035776051 (0.012265698994125447, 6.347901247436212e-07, 8.420889566255883e-07, 7.905129240203447e-05, 6.426329867178445e-09, 8.525167982995077e-09)\n",
      "\n",
      "/Volumes/Brettlv_G_m/Mrk1018/swift/00035776052_xrt\n",
      "00035776052 error\n",
      "/Volumes/Brettlv_G_m/Mrk1018/swift/00035776054_xrt\n",
      "00035776054 error\n",
      "/Volumes/Brettlv_G_m/Mrk1018/swift/00035776055_xrt\n",
      "00035776055 error\n",
      "/Volumes/Brettlv_G_m/Mrk1018/swift/00035776056_xrt\n",
      "Flux: 00035776056 (6.564257397376211e-13, nan, 9.887436324905479e-08, 0.00010200021663175565, nan, 7.704034986697085)\n",
      "Lumin: 00035776056 (0.018615467631043724, nan, 0.9576350351152046, 0.00010558382993840977, nan, 0.002723789688096161)\n",
      "\n",
      "/Volumes/Brettlv_G_m/Mrk1018/swift/00035776057_xrt\n",
      "00035776057 error\n",
      "/Volumes/Brettlv_G_m/Mrk1018/swift/00035776058_xrt\n",
      "00035776058 error\n",
      "/Volumes/Brettlv_G_m/Mrk1018/swift/00049654001_xrt\n",
      "00049654001 error\n",
      "/Volumes/Brettlv_G_m/Mrk1018/swift/00049654002_xrt\n",
      "Flux: 00049654002 (6.830873340533672e-12, 8.409590530453626e-12, nan, 0.0009134810052093555, 0.0006898397262031552, nan)\n",
      "Lumin: 00049654002 (0.18905873894995037, nan, 0.23570732368269928, 0.000922854626696212, nan, 0.0007352266908660435)\n",
      "\n",
      "/Volumes/Brettlv_G_m/Mrk1018/swift/00049654004_xrt\n",
      "Flux: 00049654004 (1.6412125340197885e-12, nan, 2.5879283698622642e-12, 0.00022999864201163017, nan, 0.00020619439929809395)\n",
      "Lumin: 00049654004 (0.04576791189438831, 0.060038517246002135, nan, 0.00023411678742771408, 0.0001865868512287455, nan)\n",
      "\n",
      "/Volumes/Brettlv_G_m/Mrk1018/swift/00080898001_xrt\n",
      "Flux: 00080898001 (1.7516311286765833e-12, 2.771445421507608e-12, nan, 0.0002487907858133354, 0.00021685678407457352, nan)\n",
      "Lumin: 00080898001 (0.048952736931941396, nan, 0.06321092683234675, 0.0002537926720829515, nan, 0.000184974168754583)\n",
      "\n",
      "/Volumes/Brettlv_G_m/Mrk1018/swift/00080898002_xrt\n",
      "Flux: 00080898002 (2.222383182905753e-12, 4.219518872738738e-17, nan, 0.0002979661517496588, 1.17010481721489e-08, nan)\n",
      "Lumin: 00080898002 (0.06153485984292687, 1.5858638899258014e-06, nan, 0.0003011496187990805, 1.6052377035595674e-08, nan)\n",
      "\n",
      "/Volumes/Brettlv_G_m/Mrk1018/swift/00088207001_xrt\n",
      "Flux: 00088207001 (2.9960593668749067e-12, 7.599081214284533e-17, nan, 0.00040526456479182866, 2.1065973753804487e-08, nan)\n",
      "Lumin: 00088207001 (0.08307541305540694, 1.8298074829918348e-06, 1.5223289897230987e-06, 0.00041017896333681204, 1.8490716382476452e-08, 1.5394462055010684e-08)\n",
      "\n",
      "/Volumes/Brettlv_G_m/Mrk1018/swift/00088207002_xrt\n",
      "Flux: 00088207002 (2.0365045561208827e-12, 4.27728760250412e-17, 3.908400335962085e-17, 0.0002806789179643598, 1.184998667818154e-08, 1.0836827779465307e-08)\n",
      "Lumin: 00088207002 (0.05663929525014389, 1.560291004358264e-06, nan, 0.000284940379234986, 1.5791978523583996e-08, nan)\n",
      "\n",
      "/Volumes/Brettlv_G_m/Mrk1018/swift/00088207003_xrt\n",
      "Flux: 00088207003 (1.8769518861749676e-12, 2.7564966406045e-14, nan, 0.00027255210379590223, 6.643061562881238e-06, nan)\n",
      "Lumin: 00088207003 (0.05264238197702617, 2.8582032422160062e-06, nan, 0.0002790240173621099, 2.8760288065094998e-08, nan)\n",
      "\n"
     ]
    }
   ],
   "source": [
    "obsids=get_obsids(filepath)\n",
    "fluxsids=[]\n",
    "fluxs=[]\n",
    "errl=[]\n",
    "errr=[]\n",
    "for i_ in range(0,len(obsids)):\n",
    "    obsid=obsids[i_]\n",
    "    load_data(filepath,obsid)\n",
    "    print(os.getcwd())\n",
    "    try:\n",
    "        spec_fit_log()\n",
    "    except Exception:\n",
    "        print(obsid,'error')\n",
    "        continue\n",
    "    #show_logfile()\n",
    "    \n",
    "    flux,lumin=get_flux_lumin()\n",
    "    fluxs.append(flux[0])\n",
    "    fluxsids.append(obsid)\n",
    "    errl.append(flux[1])\n",
    "    errr.append(flux[2])\n",
    "    \n",
    "    print()\n",
    "    AllData.clear()\n",
    "    \n"
   ]
  },
  {
   "cell_type": "code",
   "execution_count": 231,
   "metadata": {
    "ExecuteTime": {
     "end_time": "2019-05-17T10:16:16.765697Z",
     "start_time": "2019-05-17T10:16:16.760416Z"
    },
    "collapsed": false
   },
   "outputs": [
    {
     "data": {
      "text/plain": [
       "([9.024019576283383e-12,\n",
       "  7.264881744162833e-12,\n",
       "  8.555257980466863e-12,\n",
       "  3.0112686232017905e-12,\n",
       "  2.0399784004721528e-12,\n",
       "  2.0197066132748527e-12,\n",
       "  1.8145661486298452e-12,\n",
       "  3.0032159019139956e-12,\n",
       "  3.917748948415561e-12,\n",
       "  1.0003840296048795e-12,\n",
       "  1.7694104593918336e-12,\n",
       "  1.0115511237691638e-12,\n",
       "  1.2400966633154186e-12,\n",
       "  1.6627379700749233e-12,\n",
       "  4.458342907977558e-12,\n",
       "  5.760908102451991e-13,\n",
       "  4.704253027351484e-13,\n",
       "  6.771586099190582e-13,\n",
       "  9.387963356142498e-13,\n",
       "  4.2292645200008003e-13,\n",
       "  6.564257397376211e-13,\n",
       "  6.830873340533672e-12,\n",
       "  1.6412125340197885e-12,\n",
       "  1.7516311286765833e-12,\n",
       "  2.222383182905753e-12,\n",
       "  2.9960593668749067e-12,\n",
       "  2.0365045561208827e-12,\n",
       "  1.8769518861749676e-12],\n",
       " ['00030955001',\n",
       "  '00030955002',\n",
       "  '00030955003',\n",
       "  '00035776004',\n",
       "  '00035776006',\n",
       "  '00035776007',\n",
       "  '00035776011',\n",
       "  '00035776014',\n",
       "  '00035776017',\n",
       "  '00035776019',\n",
       "  '00035776021',\n",
       "  '00035776024',\n",
       "  '00035776027',\n",
       "  '00035776032',\n",
       "  '00035776034',\n",
       "  '00035776036',\n",
       "  '00035776041',\n",
       "  '00035776042',\n",
       "  '00035776046',\n",
       "  '00035776051',\n",
       "  '00035776056',\n",
       "  '00049654002',\n",
       "  '00049654004',\n",
       "  '00080898001',\n",
       "  '00080898002',\n",
       "  '00088207001',\n",
       "  '00088207002',\n",
       "  '00088207003'])"
      ]
     },
     "execution_count": 231,
     "metadata": {},
     "output_type": "execute_result"
    }
   ],
   "source": [
    "fluxs,fluxsids"
   ]
  },
  {
   "cell_type": "code",
   "execution_count": 232,
   "metadata": {
    "ExecuteTime": {
     "end_time": "2019-05-17T10:16:38.923402Z",
     "start_time": "2019-05-17T10:16:38.918801Z"
    },
    "collapsed": false
   },
   "outputs": [
    {
     "data": {
      "text/plain": [
       "(28, 28, 63)"
      ]
     },
     "execution_count": 232,
     "metadata": {},
     "output_type": "execute_result"
    }
   ],
   "source": [
    "len(fluxs),len(fluxsids),len(obsids)"
   ]
  },
  {
   "cell_type": "markdown",
   "metadata": {},
   "source": [
    "# spectrum"
   ]
  },
  {
   "cell_type": "code",
   "execution_count": 184,
   "metadata": {
    "ExecuteTime": {
     "end_time": "2019-05-17T09:32:26.357962Z",
     "start_time": "2019-05-17T09:32:25.609453Z"
    },
    "collapsed": false
   },
   "outputs": [],
   "source": [
    "s1=xspec.Spectrum('%s/src.pi'%obsid_path)\n",
    "s1.background='%s/bkg.pha'%obsid_path\n",
    "\n",
    "#s1.arf='pc.arf'\n",
    "#s1.ignore('**-35 1909-**')#nustar\n",
    "\n",
    "Plot.xAxis = \"keV\"\n",
    "s1.ignore('**-0.3 10.0-**')\n",
    "s1.ignore(\"bad\")\n",
    "AllData.ignore(\"bad\")"
   ]
  },
  {
   "cell_type": "code",
   "execution_count": 188,
   "metadata": {
    "ExecuteTime": {
     "end_time": "2019-05-17T09:33:01.572671Z",
     "start_time": "2019-05-17T09:33:01.562422Z"
    },
    "collapsed": false
   },
   "outputs": [
    {
     "data": {
      "text/plain": [
       "('/Volumes/Brettlv_G_m/Mrk1018/swift/00030955001_xrt/src.arf',\n",
       " '/Volumes/Brettlv_G_m/Mrk1018/swift/00030955001_xrt/swxpc0to12s0_20070101v012.rmf')"
      ]
     },
     "execution_count": 188,
     "metadata": {},
     "output_type": "execute_result"
    }
   ],
   "source": [
    "s1.response.arf,s1.response.rmf"
   ]
  },
  {
   "cell_type": "markdown",
   "metadata": {},
   "source": [
    "# getplot"
   ]
  },
  {
   "cell_type": "code",
   "execution_count": 7,
   "metadata": {
    "ExecuteTime": {
     "end_time": "2019-05-16T14:32:14.229775Z",
     "start_time": "2019-05-16T14:32:11.822857Z"
    },
    "collapsed": false
   },
   "outputs": [],
   "source": [
    "import matplotlib.pyplot as plt\n",
    "#Plot.device='/xs'\n",
    "#Plot.device = '/null'\n",
    "#Plot('data')\n",
    "\n",
    "\n",
    "\n",
    "def Plot_num():\n",
    "    Plot('data')\n",
    "    xVals = Plot.x(1)\n",
    "    yVals = Plot.y(2)\n",
    "    yVals2= Plot.y(2)\n",
    "\n",
    "    xErrs = Plot.xErr(1)\n",
    "    yErrs = Plot.yErr(1)\n",
    "    \n",
    "    \n",
    "    modVals = Plot.model()\n",
    "    plt.errorbar(xVals,yVals,xerr=xErrs,yerr=yErrs,fmt='.:')\n",
    "    plt.xlabel('keV')\n",
    "    plt.ylabel('$counts \\cdot s^{-1} \\cdot keV^{-1}$')\n",
    "    plt.show()\n",
    "    \n"
   ]
  },
  {
   "cell_type": "code",
   "execution_count": 9,
   "metadata": {
    "ExecuteTime": {
     "end_time": "2019-05-16T14:32:33.371848Z",
     "start_time": "2019-05-16T14:32:33.358998Z"
    },
    "collapsed": false
   },
   "outputs": [
    {
     "name": "stdout",
     "output_type": "stream",
     "text": [
      "\n",
      "User entered plot commands:\n"
     ]
    }
   ],
   "source": [
    "Plot.background = True\n",
    "#Plot.background = False\n",
    "Plot('data')\n",
    "bkg = Plot.backgroundVals()\n",
    "\n",
    "Plot.xLog = True\n",
    "Plot.yLog = True\n",
    "Plot.add=True\n",
    "Plot('data')\n",
    "Plot.show()"
   ]
  },
  {
   "cell_type": "code",
   "execution_count": 11,
   "metadata": {
    "ExecuteTime": {
     "end_time": "2019-05-16T14:32:49.516840Z",
     "start_time": "2019-05-16T14:32:49.506709Z"
    },
    "collapsed": false
   },
   "outputs": [
    {
     "ename": "Exception",
     "evalue": "",
     "output_type": "error",
     "traceback": [
      "\u001b[0;31m---------------------------------------------------------------------------\u001b[0m",
      "\u001b[0;31mException\u001b[0m                                 Traceback (most recent call last)",
      "\u001b[0;32m<ipython-input-11-6ce0dd0ad67c>\u001b[0m in \u001b[0;36m<module>\u001b[0;34m()\u001b[0m\n\u001b[1;32m      1\u001b[0m \u001b[0;31m# Single panel plots\u001b[0m\u001b[0;34m\u001b[0m\u001b[0;34m\u001b[0m\u001b[0m\n\u001b[1;32m      2\u001b[0m \u001b[0mPlot\u001b[0m\u001b[0;34m(\u001b[0m\u001b[0;34m\"data\"\u001b[0m\u001b[0;34m)\u001b[0m\u001b[0;34m\u001b[0m\u001b[0m\n\u001b[0;32m----> 3\u001b[0;31m \u001b[0mPlot\u001b[0m\u001b[0;34m(\u001b[0m\u001b[0;34m\"model\"\u001b[0m\u001b[0;34m)\u001b[0m\u001b[0;34m\u001b[0m\u001b[0m\n\u001b[0m\u001b[1;32m      4\u001b[0m \u001b[0mPlot\u001b[0m\u001b[0;34m(\u001b[0m\u001b[0;34m\"ufspec\"\u001b[0m\u001b[0;34m)\u001b[0m\u001b[0;34m\u001b[0m\u001b[0m\n",
      "\u001b[0;32m/Users/brettlv/src_heasoft/heasoft-6.25/x86_64-apple-darwin16.7.0/lib/python/xspec/plot.py\u001b[0m in \u001b[0;36m__call__\u001b[0;34m(self, *panes)\u001b[0m\n\u001b[1;32m     84\u001b[0m         \u001b[0;32mfor\u001b[0m \u001b[0ms\u001b[0m \u001b[0;32min\u001b[0m \u001b[0mpanes\u001b[0m\u001b[0;34m:\u001b[0m\u001b[0;34m\u001b[0m\u001b[0m\n\u001b[1;32m     85\u001b[0m             \u001b[0mplotArgs\u001b[0m \u001b[0;34m+=\u001b[0m \u001b[0ms\u001b[0m\u001b[0;34m.\u001b[0m\u001b[0msplit\u001b[0m\u001b[0;34m(\u001b[0m\u001b[0;34m)\u001b[0m\u001b[0;34m\u001b[0m\u001b[0m\n\u001b[0;32m---> 86\u001b[0;31m         \u001b[0m_pyXspec\u001b[0m\u001b[0;34m.\u001b[0m\u001b[0mdoPlot\u001b[0m\u001b[0;34m(\u001b[0m\u001b[0mplotArgs\u001b[0m\u001b[0;34m)\u001b[0m\u001b[0;34m\u001b[0m\u001b[0m\n\u001b[0m\u001b[1;32m     87\u001b[0m \u001b[0;34m\u001b[0m\u001b[0m\n\u001b[1;32m     88\u001b[0m     \u001b[0;32mdef\u001b[0m \u001b[0m_getAdd\u001b[0m\u001b[0;34m(\u001b[0m\u001b[0mself\u001b[0m\u001b[0;34m)\u001b[0m\u001b[0;34m:\u001b[0m\u001b[0;34m\u001b[0m\u001b[0m\n",
      "\u001b[0;31mException\u001b[0m: "
     ]
    }
   ],
   "source": [
    "# Single panel plots\n",
    "Plot(\"data\")\n",
    "Plot(\"model\")\n",
    "Plot(\"ufspec\")"
   ]
  },
  {
   "cell_type": "code",
   "execution_count": null,
   "metadata": {
    "collapsed": true
   },
   "outputs": [],
   "source": [
    "label top Simulated Spectrum\n",
    "label file Chandra ACIS-S\n",
    "label y counts s\\u-1\\d keV\\u-1\\d\n",
    "setp co LA OT Crab  #Add the label \"Crab\" to future plots.\n",
    "#Plot.addCommand('hardcopy dataplot.png/ps color')\n",
    " LAbel <Top,X,Y> [<string>] adds labels to various locations on the graph. For example, typing LA Top EXOSAT was great will cause the message “EXOSAT was great” to appear at the top of the graph the next time the display is redrawn. Without the string argument the current label for Top, X, or Y is set to the empty string.\n",
    "• Hardcopy [?, PGPLOT plot device creates a file that can later be printed. Since it redraws the graph and sends it to a file, it does not reproduce what currently is visible on the graphics display, but rather what you would see if you re-issued the Plot command. With the optional “?” argument, Hardcopy returns the current hardcopy plotting device. This can be overridden with Hardcopy [PGPLOT device name].\n",
    "• EXit returns control to XSPEC. Any changes you have made to the plot will be lost.\n",
    "\n",
    "\n",
    "            plt:hardcopy figj.png/ps             \n",
    "            \n",
    "            "
   ]
  },
  {
   "cell_type": "code",
   "execution_count": null,
   "metadata": {
    "collapsed": true
   },
   "outputs": [],
   "source": []
  },
  {
   "cell_type": "code",
   "execution_count": null,
   "metadata": {
    "ExecuteTime": {
     "end_time": "2019-05-16T14:22:24.881885Z",
     "start_time": "2019-05-16T14:22:24.455949Z"
    },
    "collapsed": false
   },
   "outputs": [],
   "source": [
    "Plot.iplot(\"data\")\n",
    "#Plot.addCommand(\"hardcopy spec.ps/ps color\")"
   ]
  },
  {
   "cell_type": "code",
   "execution_count": null,
   "metadata": {
    "ExecuteTime": {
     "end_time": "2019-05-16T14:20:56.794637Z",
     "start_time": "2019-05-16T14:20:56.789759Z"
    },
    "collapsed": false
   },
   "outputs": [],
   "source": [
    "pwd"
   ]
  },
  {
   "cell_type": "code",
   "execution_count": 90,
   "metadata": {
    "ExecuteTime": {
     "end_time": "2019-05-16T15:48:15.780060Z",
     "start_time": "2019-05-16T15:48:15.767840Z"
    },
    "collapsed": false
   },
   "outputs": [
    {
     "name": "stdout",
     "output_type": "stream",
     "text": [
      "Plot command list is now empty\n"
     ]
    }
   ],
   "source": [
    "# Multi panel plots\n",
    "#Plot(\"data chisq\")\n",
    "#Plot(\"data\",\"model\",\"resid\")\n",
    "# Call Plot with no arguments to repeat the previously entered Plot command Plot()\n",
    "Plot('eeuf del')\n",
    "Plot.commands= ()\n",
    "Plot.commands = (\"label 1 pos 5 .001 \\\"%s \\\"\"%obsid,)\n",
    "\n",
    "Plot.add=True"
   ]
  },
  {
   "cell_type": "code",
   "execution_count": 91,
   "metadata": {
    "ExecuteTime": {
     "end_time": "2019-05-16T15:48:18.980201Z",
     "start_time": "2019-05-16T15:48:18.976110Z"
    },
    "collapsed": false
   },
   "outputs": [
    {
     "name": "stdout",
     "output_type": "stream",
     "text": [
      "('label 1 pos 5 .001 \"00030955001 \"',)\n"
     ]
    }
   ],
   "source": [
    "print(Plot.commands)\n",
    "#Plot.delCommand(3)"
   ]
  },
  {
   "cell_type": "code",
   "execution_count": 92,
   "metadata": {
    "ExecuteTime": {
     "end_time": "2019-05-16T15:48:20.833876Z",
     "start_time": "2019-05-16T15:48:20.830048Z"
    },
    "collapsed": true
   },
   "outputs": [],
   "source": [
    "Plot.addCommand(\"label top Simulated Spectrum\")\n"
   ]
  },
  {
   "cell_type": "code",
   "execution_count": 93,
   "metadata": {
    "ExecuteTime": {
     "end_time": "2019-05-16T15:48:21.749034Z",
     "start_time": "2019-05-16T15:48:21.746149Z"
    },
    "collapsed": true
   },
   "outputs": [],
   "source": [
    "Plot.addCommand(\"label 2 pos 5 .01 \\\"Another Label\\\"\")"
   ]
  },
  {
   "cell_type": "code",
   "execution_count": 94,
   "metadata": {
    "ExecuteTime": {
     "end_time": "2019-05-16T15:48:22.840807Z",
     "start_time": "2019-05-16T15:48:22.835709Z"
    },
    "collapsed": true
   },
   "outputs": [],
   "source": [
    "Plot()"
   ]
  },
  {
   "cell_type": "code",
   "execution_count": 76,
   "metadata": {
    "ExecuteTime": {
     "end_time": "2019-05-16T15:46:27.398776Z",
     "start_time": "2019-05-16T15:46:27.394561Z"
    },
    "collapsed": false
   },
   "outputs": [
    {
     "name": "stdout",
     "output_type": "stream",
     "text": [
      "Plot command list is now empty\n"
     ]
    }
   ],
   "source": [
    "Plot.commands=()"
   ]
  },
  {
   "cell_type": "markdown",
   "metadata": {
    "ExecuteTime": {
     "end_time": "2019-05-10T21:14:03.382345Z",
     "start_time": "2019-05-10T21:14:03.377188Z"
    },
    "collapsed": true
   },
   "source": [
    "# fit_spec"
   ]
  },
  {
   "cell_type": "code",
   "execution_count": null,
   "metadata": {
    "collapsed": true
   },
   "outputs": [],
   "source": []
  },
  {
   "cell_type": "code",
   "execution_count": null,
   "metadata": {
    "collapsed": true
   },
   "outputs": [],
   "source": []
  },
  {
   "cell_type": "code",
   "execution_count": 121,
   "metadata": {
    "ExecuteTime": {
     "end_time": "2019-05-16T16:25:30.457604Z",
     "start_time": "2019-05-16T16:25:30.394033Z"
    },
    "collapsed": false
   },
   "outputs": [],
   "source": [
    "mo=Model(\"phabs*cflux*powerlaw\")\n",
    "mo.phabs.nH=0.0243\n",
    "mo.phabs.nH.frozen=True"
   ]
  },
  {
   "cell_type": "code",
   "execution_count": 106,
   "metadata": {
    "ExecuteTime": {
     "end_time": "2019-05-16T16:08:36.313922Z",
     "start_time": "2019-05-16T16:08:36.308798Z"
    },
    "collapsed": false
   },
   "outputs": [
    {
     "data": {
      "text/plain": [
       "(['phabs', 'cflux', 'powerlaw'],\n",
       " ['PhoIndex', 'norm'],\n",
       " ['nH'],\n",
       " ['Emin', 'Emax', 'lg10Flux'])"
      ]
     },
     "execution_count": 106,
     "metadata": {},
     "output_type": "execute_result"
    }
   ],
   "source": [
    "mo.componentNames,mo.powerlaw.parameterNames,mo.phabs.parameterNames,mo.cflux.parameterNames"
   ]
  },
  {
   "cell_type": "code",
   "execution_count": 107,
   "metadata": {
    "ExecuteTime": {
     "end_time": "2019-05-16T16:08:38.282705Z",
     "start_time": "2019-05-16T16:08:38.276489Z"
    },
    "collapsed": false
   },
   "outputs": [
    {
     "name": "stdout",
     "output_type": "stream",
     "text": [
      "<xspec.parameter.Parameter object at 0x112d23d30>\n"
     ]
    }
   ],
   "source": [
    "print(mo.powerlaw.PhoIndex)"
   ]
  },
  {
   "cell_type": "code",
   "execution_count": 122,
   "metadata": {
    "ExecuteTime": {
     "end_time": "2019-05-16T16:25:33.453234Z",
     "start_time": "2019-05-16T16:25:33.440639Z"
    },
    "collapsed": false
   },
   "outputs": [
    {
     "ename": "Exception",
     "evalue": "Error executing command: error",
     "output_type": "error",
     "traceback": [
      "\u001b[0;31m---------------------------------------------------------------------------\u001b[0m",
      "\u001b[0;31mException\u001b[0m                                 Traceback (most recent call last)",
      "\u001b[0;32m<ipython-input-122-a47b36c45953>\u001b[0m in \u001b[0;36m<module>\u001b[0;34m()\u001b[0m\n\u001b[0;32m----> 1\u001b[0;31m \u001b[0mFit\u001b[0m\u001b[0;34m.\u001b[0m\u001b[0merror\u001b[0m\u001b[0;34m(\u001b[0m\u001b[0;34m\"2.706 5\"\u001b[0m\u001b[0;34m)\u001b[0m\u001b[0;34m\u001b[0m\u001b[0m\n\u001b[0m",
      "\u001b[0;32m/Users/brettlv/src_heasoft/heasoft-6.25/x86_64-apple-darwin16.7.0/lib/python/xspec/fit.py\u001b[0m in \u001b[0;36merror\u001b[0;34m(self, argString)\u001b[0m\n\u001b[1;32m    354\u001b[0m             \u001b[0merrorArgs\u001b[0m \u001b[0;34m=\u001b[0m \u001b[0;34m[\u001b[0m\u001b[0;34m\"error\"\u001b[0m\u001b[0;34m]\u001b[0m\u001b[0;34m\u001b[0m\u001b[0m\n\u001b[1;32m    355\u001b[0m             \u001b[0merrorArgs\u001b[0m \u001b[0;34m+=\u001b[0m \u001b[0margString\u001b[0m\u001b[0;34m.\u001b[0m\u001b[0msplit\u001b[0m\u001b[0;34m(\u001b[0m\u001b[0;34m)\u001b[0m\u001b[0;34m\u001b[0m\u001b[0m\n\u001b[0;32m--> 356\u001b[0;31m             \u001b[0m_pyXspec\u001b[0m\u001b[0;34m.\u001b[0m\u001b[0mdoXspecCmd\u001b[0m\u001b[0;34m(\u001b[0m\u001b[0merrorArgs\u001b[0m\u001b[0;34m)\u001b[0m\u001b[0;34m\u001b[0m\u001b[0m\n\u001b[0m\u001b[1;32m    357\u001b[0m         \u001b[0;32melse\u001b[0m\u001b[0;34m:\u001b[0m\u001b[0;34m\u001b[0m\u001b[0m\n\u001b[1;32m    358\u001b[0m             \u001b[0;32mraise\u001b[0m \u001b[0mException\u001b[0m\u001b[0;34m(\u001b[0m\u001b[0;34m\"Error: error function argument must be a string\"\u001b[0m\u001b[0;34m)\u001b[0m\u001b[0;34m\u001b[0m\u001b[0m\n",
      "\u001b[0;31mException\u001b[0m: Error executing command: error"
     ]
    }
   ],
   "source": [
    "Fit.error(\"2.706 5\")"
   ]
  },
  {
   "cell_type": "code",
   "execution_count": 123,
   "metadata": {
    "ExecuteTime": {
     "end_time": "2019-05-16T16:25:36.984082Z",
     "start_time": "2019-05-16T16:25:36.953001Z"
    },
    "collapsed": true
   },
   "outputs": [],
   "source": [
    "Fit.perform()"
   ]
  },
  {
   "cell_type": "code",
   "execution_count": 47,
   "metadata": {
    "ExecuteTime": {
     "end_time": "2019-05-16T14:56:38.934082Z",
     "start_time": "2019-05-16T14:56:38.928784Z"
    },
    "collapsed": true
   },
   "outputs": [],
   "source": [
    "Plot('ldata del')"
   ]
  },
  {
   "cell_type": "code",
   "execution_count": 40,
   "metadata": {
    "ExecuteTime": {
     "end_time": "2019-05-16T14:54:30.524717Z",
     "start_time": "2019-05-16T14:54:30.516974Z"
    },
    "collapsed": false
   },
   "outputs": [],
   "source": [
    "Plot('eeuf res')\n",
    "Plot.commands = (\"label 1 pos 5 0.01 \\\"%s \\\"\"%obsid,)\n",
    "Plot.addCommand(\"label 1 pos 5 .001 \\\"Another Label\\\"\")\n"
   ]
  },
  {
   "cell_type": "code",
   "execution_count": null,
   "metadata": {
    "ExecuteTime": {
     "end_time": "2019-05-16T14:30:44.901481Z",
     "start_time": "2019-05-16T14:30:44.895885Z"
    },
    "collapsed": false
   },
   "outputs": [],
   "source": [
    "pwd"
   ]
  },
  {
   "cell_type": "markdown",
   "metadata": {},
   "source": [
    "# Flux"
   ]
  },
  {
   "cell_type": "code",
   "execution_count": 124,
   "metadata": {
    "ExecuteTime": {
     "end_time": "2019-05-16T16:25:40.845553Z",
     "start_time": "2019-05-16T16:25:40.749181Z"
    },
    "collapsed": false
   },
   "outputs": [],
   "source": [
    "#AllModels.calcFlux(\".3 2.0\")\n",
    "#AllModels.calcFlux(\"2.0 10.0 err\")\n",
    "AllModels.calcFlux(\"2. 10.0 err\")\n",
    "AllModels.calcLumin(\"2.0 10. 0.035 err\")"
   ]
  },
  {
   "cell_type": "code",
   "execution_count": 125,
   "metadata": {
    "ExecuteTime": {
     "end_time": "2019-05-16T16:25:41.304001Z",
     "start_time": "2019-05-16T16:25:41.299507Z"
    },
    "collapsed": false
   },
   "outputs": [
    {
     "name": "stdout",
     "output_type": "stream",
     "text": [
      "(9.005257312565136e-12, 1.3330094038228493e-11, nan, 0.001360416425213122, 0.001302792324768165, 0.0015369030086974781)\n",
      "(0.2541959118759779, 0.3584389490957416, nan, 0.0014016927452709797, 0.001337901158036367, nan)\n"
     ]
    }
   ],
   "source": [
    "source = AllData(1)\n",
    "print(source.flux)\n",
    "print(source.lumin)"
   ]
  },
  {
   "cell_type": "code",
   "execution_count": 126,
   "metadata": {
    "ExecuteTime": {
     "end_time": "2019-05-16T16:25:44.101910Z",
     "start_time": "2019-05-16T16:25:44.097197Z"
    },
    "collapsed": false
   },
   "outputs": [
    {
     "data": {
      "text/plain": [
       "['phabs', 'cflux', 'powerlaw']"
      ]
     },
     "execution_count": 126,
     "metadata": {},
     "output_type": "execute_result"
    }
   ],
   "source": [
    "AllModels(1).componentNames"
   ]
  },
  {
   "cell_type": "code",
   "execution_count": 172,
   "metadata": {
    "ExecuteTime": {
     "end_time": "2019-05-16T16:51:12.318332Z",
     "start_time": "2019-05-16T16:51:11.868213Z"
    },
    "collapsed": false
   },
   "outputs": [],
   "source": [
    "\n",
    "\n",
    "mo=Model(\"phabs*cflux*powerlaw\")\n",
    "mo.phabs.nH=0.0243\n",
    "mo.phabs.nH.frozen=True\n",
    "Fit.perform()\n",
    "Fit.nIterations = 100\n",
    "Fit.statMethod = \"cstat\"\n",
    "Fit.statMethod = \"chi\"\n",
    "\n",
    "# Get/Set the console chatter level\n",
    "ch = Xset.chatter\n",
    "Xset.chatter = 10\n",
    "# Get/Set the log chatter level \n",
    "lch = Xset.logChatter\n",
    "Xset.logChatter = 20\n",
    "\n",
    "# Create and open a log file for XSPEC output\n",
    "# This returns a Python file object\n",
    "logFile = Xset.openLog(\"newLogFile.txt\")\n",
    "# Get the Python file object for the currently opened log\n",
    "logFile = Xset.log\n",
    "Fit.show()\n",
    "# Close XSPEC's currently opened log file. \n",
    "Xset.closeLog()"
   ]
  },
  {
   "cell_type": "code",
   "execution_count": 169,
   "metadata": {
    "ExecuteTime": {
     "end_time": "2019-05-16T16:48:42.233086Z",
     "start_time": "2019-05-16T16:48:42.227575Z"
    },
    "collapsed": true
   },
   "outputs": [],
   "source": [
    "#Xset.show()"
   ]
  },
  {
   "cell_type": "code",
   "execution_count": 173,
   "metadata": {
    "ExecuteTime": {
     "end_time": "2019-05-16T16:51:15.309408Z",
     "start_time": "2019-05-16T16:51:15.303512Z"
    },
    "collapsed": false
   },
   "outputs": [
    {
     "name": "stdout",
     "output_type": "stream",
     "text": [
      "<_io.TextIOWrapper name='newLogFile.txt' mode='wt' encoding='UTF-8'>\n"
     ]
    }
   ],
   "source": [
    "print(logFile)"
   ]
  },
  {
   "cell_type": "code",
   "execution_count": 181,
   "metadata": {
    "ExecuteTime": {
     "end_time": "2019-05-16T16:55:41.554774Z",
     "start_time": "2019-05-16T16:55:41.547066Z"
    },
    "collapsed": false
   },
   "outputs": [
    {
     "name": "stdout",
     "output_type": "stream",
     "text": [
      "\n",
      "\n",
      "Fit statistic : Chi-Squared =          88.25 using 91 PHA bins.\n",
      "\n",
      "\n",
      "\n",
      "Test statistic : Chi-Squared =          88.25 using 91 PHA bins.\n",
      "\n",
      " Reduced chi-squared =          1.003 for     88 degrees of freedom \n",
      "\n",
      " Null hypothesis probability =   4.723999e-01\n",
      "\n",
      " Weighting method: standard\n",
      "\n"
     ]
    }
   ],
   "source": [
    "with open('newLogFile.txt','r') as f:\n",
    "    content = f.readlines()\n",
    "    for i in content:\n",
    "        print(i)"
   ]
  },
  {
   "cell_type": "code",
   "execution_count": 137,
   "metadata": {
    "ExecuteTime": {
     "end_time": "2019-05-16T16:31:57.904252Z",
     "start_time": "2019-05-16T16:31:57.803959Z"
    },
    "collapsed": false
   },
   "outputs": [
    {
     "name": "stdout",
     "output_type": "stream",
     "text": [
      "(9.005257312565136e-12, 1.3969079096029827e-11, 1.5939624923202034e-11, 0.001360416425213122, 0.0014088808523145522, 0.0016515780662867121)\n",
      "(0.2541959118759779, 0.3185128379955733, 0.3746158406347884, 0.0014016927452709797, 0.0015766358421427113, 0.0011527775063289965)\n"
     ]
    }
   ],
   "source": [
    "AllModels.calcFlux(\"2. 10.0 err\")\n",
    "AllModels.calcLumin(\"2.0 10. 0.035 err\")\n",
    "source = AllData(1)\n",
    "print(source.flux)\n",
    "print(source.lumin)"
   ]
  },
  {
   "cell_type": "code",
   "execution_count": 142,
   "metadata": {
    "ExecuteTime": {
     "end_time": "2019-05-16T16:32:30.823219Z",
     "start_time": "2019-05-16T16:32:30.616632Z"
    },
    "collapsed": false
   },
   "outputs": [
    {
     "name": "stdout",
     "output_type": "stream",
     "text": [
      "(9.004589480050626e-12, 5.0371916763460196e-12, nan, 0.0013603365548885962, 0.0008806229534482728, nan)\n",
      "(0.2541777030241682, 0.12826948604466806, 0.19632504383999702, 0.0014016139927781356, 0.0008363226658564284, 0.0011706565367607252)\n"
     ]
    }
   ],
   "source": [
    "mo=Model(\"cflux*phabs*powerlaw\")\n",
    "mo.phabs.nH=0.0243\n",
    "mo.phabs.nH.frozen=True\n",
    "Fit.perform()\n",
    "AllModels.calcFlux(\"2. 10.0 err\")\n",
    "AllModels.calcLumin(\"2.0 10. 0.035 err\")\n",
    "source = AllData(1)\n",
    "print(source.flux)\n",
    "print(source.lumin)"
   ]
  },
  {
   "cell_type": "code",
   "execution_count": 147,
   "metadata": {
    "ExecuteTime": {
     "end_time": "2019-05-16T16:35:36.922712Z",
     "start_time": "2019-05-16T16:35:36.916893Z"
    },
    "collapsed": false
   },
   "outputs": [
    {
     "data": {
      "text/plain": [
       "(9.004589480050626e-12,\n",
       " 5.0371916763460196e-12,\n",
       " nan,\n",
       " 0.0013603365548885962,\n",
       " 0.0008806229534482728,\n",
       " nan)"
      ]
     },
     "execution_count": 147,
     "metadata": {},
     "output_type": "execute_result"
    }
   ],
   "source": [
    "AllData(1).flux"
   ]
  },
  {
   "cell_type": "markdown",
   "metadata": {},
   "source": [
    "# log_file"
   ]
  },
  {
   "cell_type": "code",
   "execution_count": 158,
   "metadata": {
    "ExecuteTime": {
     "end_time": "2019-05-16T16:46:00.394523Z",
     "start_time": "2019-05-16T16:46:00.371063Z"
    },
    "collapsed": false
   },
   "outputs": [],
   "source": []
  },
  {
   "cell_type": "code",
   "execution_count": 159,
   "metadata": {
    "ExecuteTime": {
     "end_time": "2019-05-16T16:46:01.100828Z",
     "start_time": "2019-05-16T16:46:01.098231Z"
    },
    "collapsed": false
   },
   "outputs": [],
   "source": [
    "logFile"
   ]
  },
  {
   "cell_type": "markdown",
   "metadata": {},
   "source": [
    "# showimg"
   ]
  },
  {
   "cell_type": "markdown",
   "metadata": {},
   "source": [
    "![Mrk1018](Mrk1018spec.png)"
   ]
  },
  {
   "cell_type": "markdown",
   "metadata": {},
   "source": [
    "![Mrk1018](Mrk1018spec1.png)"
   ]
  },
  {
   "cell_type": "code",
   "execution_count": null,
   "metadata": {
    "collapsed": true
   },
   "outputs": [],
   "source": []
  },
  {
   "cell_type": "code",
   "execution_count": null,
   "metadata": {
    "collapsed": true
   },
   "outputs": [],
   "source": []
  },
  {
   "cell_type": "code",
   "execution_count": null,
   "metadata": {
    "collapsed": true
   },
   "outputs": [],
   "source": []
  },
  {
   "cell_type": "code",
   "execution_count": null,
   "metadata": {
    "collapsed": true
   },
   "outputs": [],
   "source": []
  }
 ],
 "metadata": {
  "kernelspec": {
   "display_name": "Python 3",
   "language": "python",
   "name": "python3"
  },
  "language_info": {
   "codemirror_mode": {
    "name": "ipython",
    "version": 3
   },
   "file_extension": ".py",
   "mimetype": "text/x-python",
   "name": "python",
   "nbconvert_exporter": "python",
   "pygments_lexer": "ipython3",
   "version": "3.6.0"
  },
  "latex_envs": {
   "LaTeX_envs_menu_present": true,
   "autocomplete": true,
   "bibliofile": "biblio.bib",
   "cite_by": "apalike",
   "current_citInitial": 1,
   "eqLabelWithNumbers": true,
   "eqNumInitial": 1,
   "hotkeys": {
    "equation": "Ctrl-E",
    "itemize": "Ctrl-I"
   },
   "labels_anchors": false,
   "latex_user_defs": false,
   "report_style_numbering": false,
   "user_envs_cfg": false
  },
  "toc": {
   "nav_menu": {},
   "number_sections": true,
   "sideBar": true,
   "skip_h1_title": false,
   "toc_cell": false,
   "toc_position": {},
   "toc_section_display": "block",
   "toc_window_display": true
  }
 },
 "nbformat": 4,
 "nbformat_minor": 2
}
