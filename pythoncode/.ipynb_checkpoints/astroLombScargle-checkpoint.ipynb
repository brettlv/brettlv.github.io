{
 "cells": [
  {
   "cell_type": "code",
   "execution_count": 1,
   "metadata": {
    "ExecuteTime": {
     "end_time": "2018-05-29T15:08:53.882137Z",
     "start_time": "2018-05-29T15:08:51.558167Z"
    },
    "collapsed": true
   },
   "outputs": [],
   "source": [
    "%matplotlib inline\n",
    "import matplotlib.pyplot as plt\n",
    "import numpy as np\n",
    "import pandas as pd\n",
    "from astropy.stats import LombScargle\n",
    "plt.style.use('seaborn-whitegrid')\n",
    "\n",
    "from scipy import integrate\n",
    "import astropy\n",
    "from astropy.time import Time\n",
    "\n",
    "import pyfits\n",
    "%matplotlib inline\n",
    "import matplotlib.pyplot as plt\n",
    "import numpy as np\n",
    "import pandas as pd\n",
    "from astropy.stats import LombScargle\n",
    "import matplotlib.ticker as ticker\n",
    "\n",
    "def get_tj(time,count):\n",
    "    tj=[]\n",
    "    for j in np.arange(time.size):\n",
    "        if count[j]>0:\n",
    "            tj.append(time[j]) \n",
    "    tj=np.array(tj)        \n",
    "    return tj\n",
    "\n",
    "def Integrate_phi(freqref,mudot):\n",
    "    return 2*np.pi*(freqref*tj+0.5*mudot*tj**2) \n",
    "   \n",
    "    \n",
    "\n",
    "def get_phal(M,freqref,mudot):\n",
    "    m=int(N/M)-1\n",
    "    phi=Integrate_phi(freqref,mudot)\n",
    "    phal=np.arange(M)\n",
    "    for l in np.arange(M):\n",
    "        phil=phi[l*m:(l+1)*m]\n",
    "        phal[l]=np.arctan((np.sum(np.sin(phil))+np.sum(np.sin(2*phil))+np.sum(np.sin(3*phil)))/(np.sum(np.cos(phil))+np.sum(np.cos(2*phil))+np.sum(np.cos(3*phil))))        \n",
    "    return phal  \n",
    "\n",
    "def ZetaN(freqref,mudot):\n",
    "    phi=Integrate_phi(freqref,mudot) \n",
    "    #n=3\n",
    "    zeta3N=(np.sum(np.cos(phi)))**2+(np.sum(np.sin(phi)))**2+(np.sum(np.cos(2*phi)))**2+(np.sum(np.sin(2*phi)))**2+(np.sum(np.cos(3*phi)))**2+(np.sum(np.sin(3*phi)))**2\n",
    "    #n=2\n",
    "    zeta2N=(np.sum(np.cos(phi)))**2+(np.sum(np.sin(phi)))**2+(np.sum(np.cos(2*phi)))**2+(np.sum(np.sin(2*phi)))**2\n",
    "    ZetaN=zeta3N*2/N\n",
    "    return ZetaN \n",
    "\n",
    "def chisq(M,freqref,mudot):\n",
    "    phal=get_phal(M,freqref,mudot)\n",
    "    #ZetaN2=ZetaN(freqref,mudot)\n",
    "    chisq=(np.sum(phal**2)-np.sum(phal)**2/M)\n",
    "    return chisq\n",
    "\n",
    "\n",
    "\n"
   ]
  },
  {
   "cell_type": "code",
   "execution_count": null,
   "metadata": {
    "ExecuteTime": {
     "end_time": "2018-05-28T15:33:40.401470Z",
     "start_time": "2018-05-28T15:33:40.318470Z"
    },
    "collapsed": true
   },
   "outputs": [],
   "source": []
  },
  {
   "cell_type": "code",
   "execution_count": null,
   "metadata": {
    "ExecuteTime": {
     "end_time": "2018-05-08T10:43:57.660179Z",
     "start_time": "2018-05-08T10:43:56.578645Z"
    },
    "collapsed": false
   },
   "outputs": [],
   "source": [
    "fig = plt.figure(figsize=(12, 6))\n",
    "gs = plt.GridSpec(2, 2)\n",
    "\n",
    "f = lambda x: 0.8 * np.sin(x)\n",
    "rng = np.random.RandomState(15566)\n",
    "t = 50 * rng.rand(40)\n",
    "dy = 0.1 + 0.4 * rng.rand(len(t))\n",
    "y = f(t) + dy * rng.randn(len(t))\n",
    "tfit = np.linspace(0, 50, 1000)\n",
    "\n",
    "ax = fig.add_subplot(gs[:, 0])\n",
    "ax.errorbar(t, y, dy, fmt='ok', ecolor='gray',\n",
    "            markersize=3, capsize=0)\n",
    "ax.plot(tfit, f(tfit), '-k', color='gray')\n",
    "ax.set(xlabel='time',\n",
    "       ylabel='signal',\n",
    "       title='Data and Model')\n",
    "\n",
    "ls = LombScargle(t, y)\n",
    "freq, power = ls.autopower(normalization='standard',\n",
    "                           minimum_frequency=0,\n",
    "                           maximum_frequency=1,\n",
    "                           samples_per_peak=10)\n",
    "freq, p = ls.autopower(normalization='psd',\n",
    "                       minimum_frequency=0,\n",
    "                       maximum_frequency=1,\n",
    "                       samples_per_peak=10)\n",
    "p = np.exp(p)\n",
    "\n",
    "\n",
    "\n",
    "ax = [fig.add_subplot(gs[0, 1]),\n",
    "      fig.add_subplot(gs[1, 1])]\n",
    "ax[0].plot(freq, power, '-k')\n",
    "ax[0].set(xlim=(0, 1),\n",
    "          ylabel='$P_{LS}$',\n",
    "          title='Lomb-Scargle Periodogram')\n",
    "ax[0].xaxis.set_major_formatter(plt.NullFormatter())\n",
    "\n",
    "ax[1].plot(freq, p, '-k')\n",
    "ax[1].set(xlim=(0, 1),\n",
    "          xlabel='frequency',\n",
    "          ylabel='$p(f|D)$',\n",
    "          title='Bayesian Periodogram')\n",
    "\n",
    "#fig.savefig('fig24_bayesian_periodogram.pdf')"
   ]
  },
  {
   "cell_type": "code",
   "execution_count": null,
   "metadata": {
    "collapsed": true
   },
   "outputs": [],
   "source": []
  },
  {
   "cell_type": "code",
   "execution_count": null,
   "metadata": {
    "ExecuteTime": {
     "end_time": "2018-05-08T10:43:57.720179Z",
     "start_time": "2018-05-08T10:43:57.662008Z"
    },
    "collapsed": true
   },
   "outputs": [],
   "source": []
  },
  {
   "cell_type": "code",
   "execution_count": null,
   "metadata": {
    "ExecuteTime": {
     "end_time": "2018-05-14T12:30:21.795993Z",
     "start_time": "2018-05-14T12:30:21.658520Z"
    },
    "collapsed": false
   },
   "outputs": [],
   "source": [
    "lightcurve=pyfits.open('/Volumes/Seagate_Backup_Plus_Drive_Lvb/RX_J0806/2795/primary/src_lc_paper.fits')"
   ]
  },
  {
   "cell_type": "code",
   "execution_count": null,
   "metadata": {
    "ExecuteTime": {
     "end_time": "2018-05-08T10:43:59.723185Z",
     "start_time": "2018-05-08T10:43:59.709303Z"
    },
    "collapsed": false
   },
   "outputs": [],
   "source": [
    "lightcurve=pyfits.open('/Volumes/Seagate_Backup_Plus_Drive_Lvbing/RX_J0806/2795/primary/src_lc_2795.fits')"
   ]
  },
  {
   "cell_type": "code",
   "execution_count": null,
   "metadata": {
    "ExecuteTime": {
     "end_time": "2018-05-08T10:43:59.978422Z",
     "start_time": "2018-05-08T10:43:59.961911Z"
    },
    "collapsed": false
   },
   "outputs": [],
   "source": [
    "lightcurve=pyfits.open('/Volumes/Seagate_Backup_Plus_Drive_Lvbing/RX_J0806/4523/primary/src_lc_paper.fits')"
   ]
  },
  {
   "cell_type": "code",
   "execution_count": null,
   "metadata": {
    "ExecuteTime": {
     "end_time": "2018-05-08T10:44:00.205426Z",
     "start_time": "2018-05-08T10:44:00.186455Z"
    },
    "collapsed": false
   },
   "outputs": [],
   "source": [
    "lightcurve=pyfits.open('/Volumes/Seagate_Backup_Plus_Drive_Lvbing/RX_J0806/4524/primary/src_lc_paper.fits')"
   ]
  },
  {
   "cell_type": "code",
   "execution_count": null,
   "metadata": {
    "ExecuteTime": {
     "end_time": "2018-05-08T10:44:00.357608Z",
     "start_time": "2018-05-08T10:44:00.345955Z"
    },
    "collapsed": false
   },
   "outputs": [],
   "source": [
    "lightcurve=pyfits.open('/Volumes/Seagate_Backup_Plus_Drive_Lvbing/RX_J0806/4525/primary/src_lc_paper.fits')"
   ]
  },
  {
   "cell_type": "code",
   "execution_count": null,
   "metadata": {
    "ExecuteTime": {
     "end_time": "2018-05-08T10:44:00.550079Z",
     "start_time": "2018-05-08T10:44:00.533769Z"
    },
    "collapsed": false
   },
   "outputs": [],
   "source": [
    "lightcurve=pyfits.open('/Volumes/Seagate_Backup_Plus_Drive_Lvbing/RX_J0806/4526/primary/src_lc_paper.fits')"
   ]
  },
  {
   "cell_type": "code",
   "execution_count": null,
   "metadata": {
    "ExecuteTime": {
     "end_time": "2018-05-08T10:44:00.840484Z",
     "start_time": "2018-05-08T10:44:00.820167Z"
    },
    "collapsed": false
   },
   "outputs": [],
   "source": [
    "lightcurve=pyfits.open('/Volumes/Seagate_Backup_Plus_Drive_Lvbing/RX_J0806/4527/primary/src_lc_paper.fits')"
   ]
  },
  {
   "cell_type": "code",
   "execution_count": null,
   "metadata": {
    "ExecuteTime": {
     "end_time": "2018-05-08T10:44:01.037913Z",
     "start_time": "2018-05-08T10:44:01.016569Z"
    },
    "collapsed": false
   },
   "outputs": [],
   "source": [
    "lightcurve=pyfits.open('/Volumes/Seagate_Backup_Plus_Drive_Lvbing/RX_J0806/5282/primary/src_lc_paper.fits')"
   ]
  },
  {
   "cell_type": "code",
   "execution_count": null,
   "metadata": {
    "ExecuteTime": {
     "end_time": "2018-05-08T10:44:01.234490Z",
     "start_time": "2018-05-08T10:44:01.214359Z"
    },
    "collapsed": false
   },
   "outputs": [],
   "source": [
    "lightcurve=pyfits.open('/Volumes/Seagate_Backup_Plus_Drive_Lvbing/RX_J0806/6562/primary/src_lc_paper.fits')"
   ]
  },
  {
   "cell_type": "code",
   "execution_count": null,
   "metadata": {
    "ExecuteTime": {
     "end_time": "2018-05-08T10:44:01.490936Z",
     "start_time": "2018-05-08T10:44:01.471361Z"
    },
    "collapsed": false
   },
   "outputs": [],
   "source": [
    "lightcurve=pyfits.open('/Volumes/Seagate_Backup_Plus_Drive_Lvbing/RX_J0806/7249/primary/src_lc_paper.fits')"
   ]
  },
  {
   "cell_type": "code",
   "execution_count": null,
   "metadata": {
    "ExecuteTime": {
     "end_time": "2018-05-03T10:14:06.501350Z",
     "start_time": "2018-05-03T10:14:06.345098Z"
    },
    "collapsed": true
   },
   "outputs": [],
   "source": [
    "lightcurve=pyfits.open('/Volumes/Seagate_Backup_Plus_Drive_Lvbing/RX_J0806/11027/primary/src_lc_paper.fits')"
   ]
  },
  {
   "cell_type": "code",
   "execution_count": null,
   "metadata": {
    "ExecuteTime": {
     "end_time": "2018-05-03T10:14:06.564292Z",
     "start_time": "2018-05-03T10:14:06.504790Z"
    },
    "collapsed": true
   },
   "outputs": [],
   "source": [
    "lightcurve=pyfits.open('/Volumes/Seagate_Backup_Plus_Drive_Lvbing/RX_J0806/11028/primary/src_lc_paper.fits')"
   ]
  },
  {
   "cell_type": "code",
   "execution_count": null,
   "metadata": {
    "ExecuteTime": {
     "end_time": "2018-05-03T10:14:06.635182Z",
     "start_time": "2018-05-03T10:14:06.567547Z"
    },
    "collapsed": true
   },
   "outputs": [],
   "source": [
    "lightcurve=pyfits.open('/Volumes/Seagate_Backup_Plus_Drive_Lvbing/RX_J0806/12060/primary/src_lc_paper.fits')"
   ]
  },
  {
   "cell_type": "code",
   "execution_count": null,
   "metadata": {
    "ExecuteTime": {
     "end_time": "2018-05-03T10:14:06.804370Z",
     "start_time": "2018-05-03T10:14:06.639452Z"
    },
    "collapsed": true
   },
   "outputs": [],
   "source": [
    "lightcurve=pyfits.open('/Volumes/Seagate_Backup_Plus_Drive_Lvbing/RX_J0806/12061/primary/src_lc_paper.fits')"
   ]
  },
  {
   "cell_type": "code",
   "execution_count": null,
   "metadata": {
    "ExecuteTime": {
     "end_time": "2018-05-03T10:14:06.846354Z",
     "start_time": "2018-05-03T10:14:06.806380Z"
    },
    "code_folding": [],
    "collapsed": false
   },
   "outputs": [],
   "source": [
    "lightcurve=pyfits.open('/Volumes/Seagate_Backup_Plus_Drive_Lvb/RX_J0806/xmm/0784670101/pn_lccor_0.3-2keV.lc')\n",
    "data=lightcurve[1].data\n",
    "gti=lightcurve[2].data\n",
    "time=data['TIME']\n",
    "counts=data['COUNT_RATE']\n",
    "err=data['COUNT_RATE_ERR']\n",
    "start=gti['START']\n",
    "end=gti['STOP']\n",
    "\n",
    "\n",
    "\n"
   ]
  },
  {
   "cell_type": "code",
   "execution_count": null,
   "metadata": {
    "ExecuteTime": {
     "end_time": "2018-05-03T10:14:06.853752Z",
     "start_time": "2018-05-03T10:14:06.848373Z"
    },
    "collapsed": false
   },
   "outputs": [],
   "source": [
    "time.shape,start[0],end[0],end[0]-start[0]"
   ]
  },
  {
   "cell_type": "code",
   "execution_count": null,
   "metadata": {
    "ExecuteTime": {
     "end_time": "2018-05-03T10:14:06.860679Z",
     "start_time": "2018-05-03T10:14:06.855835Z"
    },
    "collapsed": false
   },
   "outputs": [],
   "source": [
    "start"
   ]
  },
  {
   "cell_type": "code",
   "execution_count": null,
   "metadata": {
    "ExecuteTime": {
     "end_time": "2018-05-03T10:14:06.890311Z",
     "start_time": "2018-05-03T10:14:06.862683Z"
    },
    "collapsed": false
   },
   "outputs": [],
   "source": [
    "startnum,endnum=getgti(time,start[0],end[0])\n",
    "t=time[startnum:endnum]\n",
    "y=counts[startnum:endnum]\n",
    "dy=err[startnum:endnum]"
   ]
  },
  {
   "cell_type": "code",
   "execution_count": null,
   "metadata": {
    "collapsed": true
   },
   "outputs": [],
   "source": []
  },
  {
   "cell_type": "code",
   "execution_count": null,
   "metadata": {
    "collapsed": true
   },
   "outputs": [],
   "source": []
  },
  {
   "cell_type": "code",
   "execution_count": null,
   "metadata": {
    "ExecuteTime": {
     "end_time": "2018-05-14T17:54:47.222368Z",
     "start_time": "2018-05-14T17:54:47.192884Z"
    },
    "collapsed": false
   },
   "outputs": [],
   "source": [
    "#xmm L_S\n",
    "#lightcurve=pyfits.open('/Volumes/Seagate_Backup_Plus_Drive_Lvb/RX_J0806/xmm/0784670101/pn_lccor_0.3-2keV.lc')\n",
    "lightcurve=pyfits.open('/Users/brettlv/RXJ0806_local/0150800101/pn_lccor_0.3-2keV.lc')\n",
    "data=lightcurve[1].data\n",
    "time=data['TIME']\n",
    "counts=data['RATE']\n",
    "err=data['ERROR']\n",
    "t=time-time[0]\n",
    "y=counts\n",
    "dy=err"
   ]
  },
  {
   "cell_type": "code",
   "execution_count": null,
   "metadata": {
    "ExecuteTime": {
     "end_time": "2018-05-14T12:32:58.845934Z",
     "start_time": "2018-05-14T12:32:58.839049Z"
    },
    "collapsed": false
   },
   "outputs": [],
   "source": [
    "t[1]-t[0]"
   ]
  },
  {
   "cell_type": "code",
   "execution_count": null,
   "metadata": {
    "ExecuteTime": {
     "end_time": "2018-05-14T17:57:04.705758Z",
     "start_time": "2018-05-14T17:57:04.701319Z"
    },
    "collapsed": false
   },
   "outputs": [],
   "source": [
    "t.size,y.size"
   ]
  },
  {
   "cell_type": "code",
   "execution_count": null,
   "metadata": {
    "ExecuteTime": {
     "end_time": "2018-05-14T17:54:50.997511Z",
     "start_time": "2018-05-14T17:54:50.552908Z"
    },
    "collapsed": false
   },
   "outputs": [],
   "source": [
    "plt.plot(t,y)"
   ]
  },
  {
   "cell_type": "code",
   "execution_count": null,
   "metadata": {
    "ExecuteTime": {
     "end_time": "2018-05-14T17:54:41.597519Z",
     "start_time": "2018-05-14T17:54:40.230018Z"
    },
    "collapsed": false
   },
   "outputs": [],
   "source": [
    "fig = plt.figure(figsize=(24, 12))\n",
    "gs = plt.GridSpec(2, 2)\n",
    "\n",
    "ax = fig.add_subplot(gs[:, 0])\n",
    "#ax.errorbar(t, y, dy, fmt='ok', ecolor='gray',markersize=3, capsize=0)\n",
    "ax.plot(t, y, '-k', color='gray')\n",
    "ax.set(xlabel='time',\n",
    "       ylabel='signal',\n",
    "       title='Data and Model')\n",
    "\n",
    "ls = LombScargle(t, y)\n",
    "freq, power = ls.autopower(normalization='standard',\n",
    "                           minimum_frequency=0.000000001,\n",
    "                           maximum_frequency=0.01,\n",
    "                           samples_per_peak=10)\n",
    "freq, p = ls.autopower(normalization='psd',\n",
    "                       minimum_frequency=0,\n",
    "                       maximum_frequency=0.01,\n",
    "                       samples_per_peak=10)\n",
    "p = np.exp(p)\n",
    "\n",
    "\n",
    "\n",
    "ax = [fig.add_subplot(gs[0, 1]),\n",
    "      fig.add_subplot(gs[1, 1])]\n",
    "ax[0].plot(freq, power, '-k')\n",
    "ax[0].set(xlim=(0.002, 0.005),\n",
    "          ylabel='$P_{LS}$',\n",
    "          title='Lomb-Scargle Periodogram')\n",
    "ax[0].xaxis.set_major_formatter(plt.NullFormatter())\n",
    "\n",
    "ax[1].plot(freq, p, '-k')\n",
    "ax[1].set(xlim=(0.002, 0.005),\n",
    "          xlabel='frequency',\n",
    "          ylabel='$p(f|D)$',\n",
    "          title='Bayesian Periodogram')\n"
   ]
  },
  {
   "cell_type": "code",
   "execution_count": null,
   "metadata": {
    "ExecuteTime": {
     "end_time": "2018-05-14T12:33:17.537674Z",
     "start_time": "2018-05-14T12:33:17.529248Z"
    },
    "collapsed": false
   },
   "outputs": [],
   "source": [
    "p_range=p[1:10000]\n",
    "frequency=freq[np.argmax(p_range)]\n",
    "T=1/frequency\n",
    "print(frequency,T)"
   ]
  },
  {
   "cell_type": "code",
   "execution_count": null,
   "metadata": {
    "collapsed": true
   },
   "outputs": [],
   "source": []
  },
  {
   "cell_type": "code",
   "execution_count": null,
   "metadata": {
    "collapsed": true
   },
   "outputs": [],
   "source": []
  },
  {
   "cell_type": "code",
   "execution_count": null,
   "metadata": {
    "collapsed": true
   },
   "outputs": [],
   "source": []
  },
  {
   "cell_type": "code",
   "execution_count": null,
   "metadata": {
    "ExecuteTime": {
     "end_time": "2018-05-03T10:14:08.480052Z",
     "start_time": "2018-05-03T10:14:08.474355Z"
    },
    "collapsed": false
   },
   "outputs": [],
   "source": [
    "start,end"
   ]
  },
  {
   "cell_type": "code",
   "execution_count": null,
   "metadata": {
    "ExecuteTime": {
     "end_time": "2018-05-03T10:14:08.495839Z",
     "start_time": "2018-05-03T10:14:08.482278Z"
    },
    "collapsed": false
   },
   "outputs": [],
   "source": [
    "counts[10:20],err[10:20]"
   ]
  },
  {
   "cell_type": "code",
   "execution_count": null,
   "metadata": {
    "ExecuteTime": {
     "end_time": "2018-05-03T10:14:08.917758Z",
     "start_time": "2018-05-03T10:14:08.500580Z"
    },
    "collapsed": false
   },
   "outputs": [],
   "source": [
    "plt.plot(time,counts)"
   ]
  },
  {
   "cell_type": "code",
   "execution_count": null,
   "metadata": {
    "ExecuteTime": {
     "end_time": "2018-05-14T17:55:46.989057Z",
     "start_time": "2018-05-14T17:55:46.694743Z"
    },
    "collapsed": false,
    "scrolled": true
   },
   "outputs": [],
   "source": [
    "c_p=counts[40:350]\n",
    "t_p=(time[40:350]-time[40])\n",
    "\n",
    "plt.plot(t_p,c_p)\n",
    "#plt.xlim(start,end)"
   ]
  },
  {
   "cell_type": "code",
   "execution_count": null,
   "metadata": {
    "ExecuteTime": {
     "end_time": "2018-05-14T18:06:38.489918Z",
     "start_time": "2018-05-14T18:06:37.694609Z"
    },
    "collapsed": false
   },
   "outputs": [],
   "source": [
    "fig = plt.figure(figsize=(24, 12))\n",
    "gs = plt.GridSpec(2, 2)\n",
    "\n",
    "tfit = np.linspace(t_p[0], t_p[-1], 1000)\n",
    "ax = fig.add_subplot(gs[:, 0])\n",
    "#ax.errorbar(t, y, dy, fmt='ok', ecolor='gray',markersize=3, capsize=0)\n",
    "ax.plot(t_p, c_p, '-k', color='gray')\n",
    "ax.set(xlabel='time',\n",
    "       ylabel='signal',\n",
    "       title='Data and Model')\n",
    "\n",
    "ls = LombScargle(t_p, c_p)\n",
    "freq, power = ls.autopower(normalization='standard',\n",
    "                           minimum_frequency=0,\n",
    "                           maximum_frequency=0.01,\n",
    "                           samples_per_peak=10)\n",
    "freq, p = ls.autopower(normalization='psd',\n",
    "                       minimum_frequency=0,\n",
    "                       maximum_frequency=0.01,\n",
    "                       samples_per_peak=10)\n",
    "p = np.exp(p)\n",
    "\n",
    "\n",
    "\n",
    "ax = [fig.add_subplot(gs[0, 1]),\n",
    "      fig.add_subplot(gs[1, 1])]\n",
    "ax[0].plot(freq, power, '-k')\n",
    "ax[0].set(xlim=(0.003, 0.004),\n",
    "          ylabel='$P_{LS}$',\n",
    "          title='Lomb-Scargle Periodogram')\n",
    "ax[0].xaxis.set_major_formatter(plt.NullFormatter())\n",
    "\n",
    "ax[1].plot(freq, p, '-k')\n",
    "ax[1].set(xlim=(0.003, 0.004),\n",
    "          xlabel='frequency',\n",
    "          ylabel='$p(f|D)$',\n",
    "          title='Bayesian Periodogram')\n"
   ]
  },
  {
   "cell_type": "code",
   "execution_count": null,
   "metadata": {
    "ExecuteTime": {
     "end_time": "2018-05-15T09:26:34.188768Z",
     "start_time": "2018-05-15T09:26:34.182821Z"
    },
    "collapsed": false
   },
   "outputs": [],
   "source": [
    "1/321.5"
   ]
  },
  {
   "cell_type": "code",
   "execution_count": null,
   "metadata": {
    "ExecuteTime": {
     "end_time": "2018-05-14T17:55:56.118985Z",
     "start_time": "2018-05-14T17:55:56.113550Z"
    },
    "collapsed": false
   },
   "outputs": [],
   "source": [
    "p_range=p[1:10000]\n",
    "frequency=freq[np.argmax(p_range)]\n",
    "T=1/frequency\n",
    "print(frequency,T)"
   ]
  },
  {
   "cell_type": "code",
   "execution_count": null,
   "metadata": {
    "ExecuteTime": {
     "start_time": "2018-05-08T02:34:35.685Z"
    },
    "collapsed": true
   },
   "outputs": [],
   "source": []
  },
  {
   "cell_type": "code",
   "execution_count": 2,
   "metadata": {
    "ExecuteTime": {
     "end_time": "2018-05-29T15:09:54.515820Z",
     "start_time": "2018-05-29T15:09:53.495927Z"
    },
    "collapsed": false,
    "scrolled": true
   },
   "outputs": [
    {
     "name": "stdout",
     "output_type": "stream",
     "text": [
      "obs_num 12061\n",
      "MJDzero 50814.0\n",
      "DATE_obs 2009-12-21T18:46:51\n",
      "DATE_obs_mjd 55186.782534722224\n",
      "4372.782534722224\n",
      "DATE-TT-zero 1998-01-01T00:00:00.000\n",
      "DATEobs_TT 2009-12-21T18:46:51\n",
      "DATEobs_mjd 55186.782534722224\n",
      "tstart_header 377808411.20162\n",
      "tzero 377808419.202\n",
      "tstart_mjd 55186.782537055784\n",
      "obs_mjd_zero 55186.7826296\n",
      "Timesys TDB\n",
      "During : 377862867.202 s\n",
      "0.00310296709753 322.272189349\n",
      "324.085 0.00308561025657\n"
     ]
    }
   ],
   "source": [
    "import astropy\n",
    "from astropy.time import Time\n",
    "#Single chandra barycorrected\n",
    "num=12061 #4523 4524 4525...\n",
    "#FOR chandra default bin time=16s\n",
    "lightcurve=pyfits.open('/Volumes/Seagate_Backup_Plus_Drive_Lvb/RX_J0806/%s/repro/RXJ0806_lc.fits'%num)\n",
    "#lightcurve=pyfits.open('/Volumes/Seagate_Backup_Plus_Drive_Lvb/RX_J0806/%s/repro/RXJ0806_lc_bindot01.fits'%num)\n",
    "#lightcurve=pyfits.open('/Volumes/Seagate_Backup_Plus_Drive_Lvb/RX_J0806/%s/repro/RXJ0806_lc_bindot1.fits'%num)\n",
    "#lightcurve=pyfits.open('/Volumes/Seagate_Backup_Plus_Drive_Lvb/RX_J0806/%s/repro/RXJ0806_lc_bin32.fits'%num)\n",
    "\n",
    "mjdzero=lightcurve[0].header['MJDREF']\n",
    "DATA_OBS=lightcurve[0].header['DATE-OBS']\n",
    "TIMEZERO=lightcurve[0].header['TIMEZERO']\n",
    "tstart=lightcurve[0].header['TSTART']\n",
    "\n",
    "freqdata=pyfits.open('/Volumes/Seagate_Backup_Plus_Drive_Lvb/RX_J0806/%s/repro/src.power'%num)\n",
    "folddata=pyfits.open('/Volumes/Seagate_Backup_Plus_Drive_Lvb/RX_J0806/%s/repro/src.fold'%num)\n",
    "dataf=freqdata[1].data\n",
    "datap=folddata[1].data\n",
    "freq=dataf['FREQUENCY']\n",
    "period=datap['PERIOD']\n",
    "sigma_rate=datap['SIGMA_RATE']\n",
    "powdata=dataf['DATA']\n",
    "frequency=freq[np.argmax(powdata)]\n",
    "p=period[np.argmax(sigma_rate)]\n",
    "\n",
    "\n",
    "t=Time(mjdzero,format='mjd')\n",
    "tobs=Time(DATA_OBS)\n",
    "tmjd=tobs.mjd\n",
    "\n",
    "print(\"obs_num\",num)\n",
    "print(\"MJDzero\",mjdzero)\n",
    "print(\"DATE_obs\",DATA_OBS)\n",
    "print(\"DATE_obs_mjd\",tmjd)\n",
    "print(tmjd-mjdzero)\n",
    "print(\"DATE-TT-zero\",t.isot)\n",
    "print(\"DATEobs_TT\",DATA_OBS)\n",
    "print(\"DATEobs_mjd\",tmjd)\n",
    "\n",
    "\n",
    "\n",
    "\n",
    "time=lightcurve[1].data['TIME']\n",
    "print(\"tstart_header\",tstart)\n",
    "print(\"tzero\",time[0])\n",
    "print(\"tstart_mjd\",mjdzero+(tstart+TIMEZERO)/86400)\n",
    "print(\"obs_mjd_zero\",mjdzero+(time[0]+TIMEZERO)/86400)\n",
    "\n",
    "print(\"Timesys\",lightcurve[0].header['TIMESYS'])\n",
    "#time=time-time[0]\n",
    "print(\"During :\",time[-1],\"s\")\n",
    "count=lightcurve[1].data['COUNT_RATE']\n",
    "size=time.size\n",
    "print(frequency,1/frequency)\n",
    "print(p,1/p)\n"
   ]
  },
  {
   "cell_type": "code",
   "execution_count": 3,
   "metadata": {
    "ExecuteTime": {
     "end_time": "2018-05-29T15:09:58.127099Z",
     "start_time": "2018-05-29T15:09:58.122806Z"
    },
    "collapsed": false
   },
   "outputs": [
    {
     "name": "stdout",
     "output_type": "stream",
     "text": [
      "Filename: /Volumes/Seagate_Backup_Plus_Drive_Lvb/RX_J0806/12061/repro/RXJ0806_lc.fits\n",
      "No.    Name         Type      Cards   Dimensions   Format\n",
      "0    PRIMARY     PrimaryHDU      28   ()              \n",
      "1    LIGHTCURVE  BinTableHDU    336   3404R x 21C   ['1J', '1D', '1D', '1D', '1J', '1D', '1D', '1D', '1D', '1D', '1D', '1D', '1D', '1D', '1D', '1D', '1D', '1D', '1D', '1D', '1D']   \n",
      "2    GTI         BinTableHDU     26   2R x 2C      [1D, 1D]   \n"
     ]
    }
   ],
   "source": [
    "lightcurve.info()"
   ]
  },
  {
   "cell_type": "code",
   "execution_count": 4,
   "metadata": {
    "ExecuteTime": {
     "end_time": "2018-05-29T15:09:59.718262Z",
     "start_time": "2018-05-29T15:09:59.710942Z"
    },
    "collapsed": false
   },
   "outputs": [
    {
     "name": "stdout",
     "output_type": "stream",
     "text": [
      "[(  3.77809408e+08,   3.77817638e+08) (  3.77817638e+08,   3.77861964e+08)]\n"
     ]
    }
   ],
   "source": [
    "print(lightcurve[2].data)\n",
    "#print(lightcurve[3].data)"
   ]
  },
  {
   "cell_type": "code",
   "execution_count": 5,
   "metadata": {
    "ExecuteTime": {
     "end_time": "2018-05-29T15:10:01.733068Z",
     "start_time": "2018-05-29T15:10:01.464165Z"
    },
    "collapsed": false
   },
   "outputs": [
    {
     "name": "stdout",
     "output_type": "stream",
     "text": [
      "2\n"
     ]
    },
    {
     "data": {
      "image/png": "[encoded data removed]",
      "text/plain": [
       "<matplotlib.figure.Figure at 0x108ada1d0>"
      ]
     },
     "metadata": {},
     "output_type": "display_data"
    }
   ],
   "source": [
    "gtistart=lightcurve[2].data['START']\n",
    "gtiend=lightcurve[2].data['STOP']\n",
    "print(gtistart.size)\n",
    "plt.plot(time,count)\n",
    "for index,start in enumerate(gtistart):\n",
    "    plt.axvline(start,c='g')\n",
    "    plt.axvline(gtiend[index],c='b')   \n",
    "#plt.axhline(0.1,c='b',alpha=0.4)"
   ]
  },
  {
   "cell_type": "code",
   "execution_count": 6,
   "metadata": {
    "ExecuteTime": {
     "end_time": "2018-05-29T15:10:05.941321Z",
     "start_time": "2018-05-29T15:10:05.935517Z"
    },
    "collapsed": false
   },
   "outputs": [
    {
     "name": "stdout",
     "output_type": "stream",
     "text": [
      "474.11013919115067\n",
      "486.90826866030693\n",
      "386.828019708395\n",
      "-197.59532728791237\n",
      "241.0158710181713\n"
     ]
    }
   ],
   "source": [
    "print(189929844.9293830693-189929370.8192438781)\n",
    "print(190855104.5609515011-190854617.6526828408)\n",
    "print(194282706.5552029312-194282319.7271832228)\n",
    "#4527\n",
    "print(200871341.2680196762-200871538.8633469641)\n",
    "#5282\n",
    "print(217475559.1325081289-217475318.1166371107)"
   ]
  },
  {
   "cell_type": "code",
   "execution_count": 7,
   "metadata": {
    "ExecuteTime": {
     "end_time": "2018-05-29T15:10:11.985093Z",
     "start_time": "2018-05-29T15:10:10.886357Z"
    },
    "collapsed": false,
    "scrolled": true
   },
   "outputs": [
    {
     "name": "stdout",
     "output_type": "stream",
     "text": [
      "3404\n",
      "1054\n"
     ]
    },
    {
     "data": {
      "text/plain": [
       "[<matplotlib.lines.Line2D at 0x1148610b8>]"
      ]
     },
     "execution_count": 7,
     "metadata": {},
     "output_type": "execute_result"
    },
    {
     "data": {
      "image/png": "[encoded data removed]",
      "text/plain": [
       "<matplotlib.figure.Figure at 0x114561160>"
      ]
     },
     "metadata": {},
     "output_type": "display_data"
    }
   ],
   "source": [
    "print(time.size)\n",
    "tj=get_tj(time,count)\n",
    "N=tj.size\n",
    "print(tj.size)\n",
    "x=np.linspace(0.003,0.004,1001)\n",
    "#x=np.linspace(0.00311,0.003112,1001)\n",
    "#x=np.linspace(0.003110303,0.003110305,2001)\n",
    "x=np.linspace(0.00310,0.00312,2001)\n",
    "#x=np.linspace(0.00310967,0.00310969,2001)\n",
    "#x=np.linspace(0.00311017,0.00311019,2001)\n",
    "import os \n",
    "if os.path.exists(\"chandra%s.txt\"%num):\n",
    "    os.remove(\"chandra%s.txt\"%num)\n",
    "with open(\"chandra%s.txt\"%num,\"a\") as f:\n",
    "    for freq in x:       \n",
    "        f.write(str(ZetaN(freq,0))+'\\n')      \n",
    "\n",
    "y=np.loadtxt(\"chandra%s.txt\"%num,delimiter='\\n')\n",
    "#plt.xlim(0.003105,0.003120)\n",
    "plt.figure(1,figsize=(4,3))\n",
    "plt.xlabel('freq,mHz')\n",
    "plt.ylabel('(Zn2)')\n",
    "plt.gca().xaxis.set_major_formatter(ticker.FormatStrFormatter('%.4f'))\n",
    "plt.plot(x*1000,y)\n",
    "\n"
   ]
  },
  {
   "cell_type": "code",
   "execution_count": 8,
   "metadata": {
    "ExecuteTime": {
     "end_time": "2018-05-29T15:10:14.695987Z",
     "start_time": "2018-05-29T15:10:13.337658Z"
    },
    "collapsed": false
   },
   "outputs": [
    {
     "name": "stdout",
     "output_type": "stream",
     "text": [
      "0.00311057 321.484486766 586.281360433\n"
     ]
    }
   ],
   "source": [
    "zeromin=1\n",
    "freqmin=0.3\n",
    "for freq in x:\n",
    "    if ZetaN(freq,0)>zeromin:\n",
    "        zeromin=ZetaN(freq,0)\n",
    "        freqmin=freq\n",
    "print(freqmin,1/freqmin,zeromin)\n"
   ]
  },
  {
   "cell_type": "code",
   "execution_count": null,
   "metadata": {
    "ExecuteTime": {
     "end_time": "2018-05-17T10:46:17.940298Z",
     "start_time": "2018-05-17T10:46:17.934415Z"
    },
    "collapsed": false
   },
   "outputs": [],
   "source": [
    "1/321.85"
   ]
  },
  {
   "cell_type": "code",
   "execution_count": null,
   "metadata": {
    "collapsed": true
   },
   "outputs": [],
   "source": []
  },
  {
   "cell_type": "code",
   "execution_count": 10,
   "metadata": {
    "ExecuteTime": {
     "end_time": "2018-05-29T15:10:39.823360Z",
     "start_time": "2018-05-29T15:10:39.607013Z"
    },
    "collapsed": false
   },
   "outputs": [
    {
     "name": "stdout",
     "output_type": "stream",
     "text": [
      "tzero 189724247.372\n",
      "obs_mjd_zero 53009.8824927\n",
      "0.880300240227\n",
      "4950\n",
      "1803\n"
     ]
    }
   ],
   "source": [
    "import numpy as np\n",
    "from scipy import integrate\n",
    "num=4523\n",
    "#FOR chandra with barycenter correction\n",
    "lightcurve=pyfits.open('/Volumes/Seagate_Backup_Plus_Drive_Lvb/RX_J0806/%s/repro/RXJ0806_lc.fits'%num)\n",
    "time1=lightcurve[1].data['TIME']\n",
    "count1=lightcurve[1].data['COUNTS']\n",
    "\n",
    "num=4524\n",
    "#FOR chandra\n",
    "lightcurve=pyfits.open('/Volumes/Seagate_Backup_Plus_Drive_Lvb/RX_J0806/%s/repro/RXJ0806_lc.fits'%num)\n",
    "time2=lightcurve[1].data['TIME']\n",
    "count2=lightcurve[1].data['COUNTS']\n",
    "\n",
    "\n",
    "num=4525\n",
    "#FOR chandra with applied barycenter correction\n",
    "lightcurve=pyfits.open('/Volumes/Seagate_Backup_Plus_Drive_Lvb/RX_J0806/%s/repro/RXJ0806_lc.fits'%num)\n",
    "time3=lightcurve[1].data['TIME']\n",
    "count3=lightcurve[1].data['COUNTS']\n",
    "\n",
    "\n",
    "num=4526\n",
    "#FOR chandra\n",
    "lightcurve=pyfits.open('/Volumes/Seagate_Backup_Plus_Drive_Lvb/RX_J0806/%s/repro/RXJ0806_lc.fits'%num)\n",
    "time4=lightcurve[1].data['TIME']\n",
    "count4=lightcurve[1].data['COUNTS']\n",
    "\n",
    "num=4527\n",
    "#FOR chandra\n",
    "lightcurve=pyfits.open('/Volumes/Seagate_Backup_Plus_Drive_Lvb/RX_J0806/%s/repro/RXJ0806_lc.fits'%num)\n",
    "time5=lightcurve[1].data['TIME']\n",
    "count5=lightcurve[1].data['COUNTS']\n",
    "\n",
    "num=5282\n",
    "#FOR chandra\n",
    "lightcurve=pyfits.open('/Volumes/Seagate_Backup_Plus_Drive_Lvb/RX_J0806/%s/repro/RXJ0806_lc.fits'%num)\n",
    "time6=lightcurve[1].data['TIME']\n",
    "count6=lightcurve[1].data['COUNTS']\n",
    "\n",
    "time=np.hstack((time1,time2,time3,time4,time5,time6))\n",
    "count=np.hstack((count1,count2,count3,count4,count5,count6))\n",
    "\n",
    "print(\"tzero\",time[0])\n",
    "print(\"obs_mjd_zero\",mjdzero+(time[0]+TIMEZERO)/86400)\n",
    "time=time-time[0]\n",
    "size=time.size\n",
    "print(time[-1]/365/86400)\n",
    "print(time.size)\n",
    "tj=get_tj(time,count)\n",
    "N=tj.size\n",
    "print(tj.size)"
   ]
  },
  {
   "cell_type": "code",
   "execution_count": 11,
   "metadata": {
    "ExecuteTime": {
     "end_time": "2018-05-29T15:10:45.851903Z",
     "start_time": "2018-05-29T15:10:44.705433Z"
    },
    "collapsed": false
   },
   "outputs": [
    {
     "data": {
      "text/plain": [
       "[<matplotlib.lines.Line2D at 0x1149852b0>]"
      ]
     },
     "execution_count": 11,
     "metadata": {},
     "output_type": "execute_result"
    },
    {
     "data": {
      "image/png": "[encoded data removed]",
      "text/plain": [
       "<matplotlib.figure.Figure at 0x1132ebe48>"
      ]
     },
     "metadata": {},
     "output_type": "display_data"
    }
   ],
   "source": [
    "x=np.linspace(0.003109,0.003111,2001)\n",
    "#x=np.linspace(0.0031,0.00312,2001)\n",
    "#x=np.linspace(0.003110142,0.003110144,2001)\n",
    "#x=np.linspace(0.00311013,0.00311015,2001)\n",
    "import os \n",
    "if os.path.exists(\"chandra%s.txt\"%num):\n",
    "    os.remove(\"chandra%s.txt\"%num)\n",
    "with open(\"chandra%s.txt\"%num,\"a\") as f:\n",
    "    for freq in x:       \n",
    "        f.write(str(ZetaN(freq,0))+'\\n')      \n",
    "\n",
    "y=np.loadtxt(\"chandra%s.txt\"%num,delimiter='\\n')\n",
    "#plt.xlim(0.003105,0.003120)\n",
    "plt.figure(1,figsize=(6,4))\n",
    "plt.xlabel('(freq-3.11mHZ) nHz')\n",
    "plt.ylabel('(Zn2)')\n",
    "plt.gca().xaxis.set_major_formatter(ticker.FormatStrFormatter('%.1f'))\n",
    "plt.plot((x-0.00311)*10**9,y)"
   ]
  },
  {
   "cell_type": "code",
   "execution_count": 12,
   "metadata": {
    "ExecuteTime": {
     "end_time": "2018-05-29T15:10:48.241673Z",
     "start_time": "2018-05-29T15:10:47.287589Z"
    },
    "collapsed": false
   },
   "outputs": [
    {
     "name": "stdout",
     "output_type": "stream",
     "text": [
      "0.003110143 321.528624247 761.259824893\n"
     ]
    }
   ],
   "source": [
    "zeromin=1\n",
    "freqmin=0.3\n",
    "for freq in x:\n",
    "    if ZetaN(freq,0)>zeromin:\n",
    "        zeromin=ZetaN(freq,0)\n",
    "        freqmin=freq\n",
    "print(freqmin,1/freqmin,zeromin)"
   ]
  },
  {
   "cell_type": "code",
   "execution_count": null,
   "metadata": {
    "collapsed": true
   },
   "outputs": [],
   "source": []
  },
  {
   "cell_type": "code",
   "execution_count": null,
   "metadata": {
    "collapsed": true
   },
   "outputs": [],
   "source": []
  },
  {
   "cell_type": "code",
   "execution_count": null,
   "metadata": {
    "ExecuteTime": {
     "end_time": "2018-05-17T10:11:43.768785Z",
     "start_time": "2018-05-17T10:11:43.764292Z"
    },
    "collapsed": false
   },
   "outputs": [],
   "source": [
    "4*10**-16*86400*365"
   ]
  },
  {
   "cell_type": "code",
   "execution_count": null,
   "metadata": {
    "collapsed": true
   },
   "outputs": [],
   "source": [
    "1.2e-5 ms"
   ]
  },
  {
   "cell_type": "code",
   "execution_count": null,
   "metadata": {
    "ExecuteTime": {
     "end_time": "2018-05-17T10:18:26.188951Z",
     "start_time": "2018-05-17T10:18:26.183747Z"
    },
    "collapsed": false
   },
   "outputs": [],
   "source": [
    "1/0.0031101"
   ]
  },
  {
   "cell_type": "code",
   "execution_count": null,
   "metadata": {
    "collapsed": true
   },
   "outputs": [],
   "source": []
  },
  {
   "cell_type": "code",
   "execution_count": null,
   "metadata": {
    "collapsed": true
   },
   "outputs": [],
   "source": [
    "xmmnum='0150800101'\n",
    "xmmnum='0206100101'\n",
    "xmmnum='0551860101'\n",
    "xmmnum='0690420101'\n",
    "xmmnum='0784670101'"
   ]
  },
  {
   "cell_type": "code",
   "execution_count": null,
   "metadata": {
    "collapsed": true
   },
   "outputs": [],
   "source": []
  },
  {
   "cell_type": "code",
   "execution_count": null,
   "metadata": {
    "collapsed": true
   },
   "outputs": [],
   "source": []
  },
  {
   "cell_type": "code",
   "execution_count": 27,
   "metadata": {
    "ExecuteTime": {
     "end_time": "2018-05-29T15:16:50.965063Z",
     "start_time": "2018-05-29T15:16:50.462218Z"
    },
    "collapsed": false
   },
   "outputs": [
    {
     "name": "stdout",
     "output_type": "stream",
     "text": [
      "tzero 189724247.372\n",
      "obs_mjd_zero 53009.8824927\n",
      "0.0361870893919\n",
      "2785\n",
      "1019\n"
     ]
    }
   ],
   "source": [
    "import numpy as np\n",
    "from scipy import integrate\n",
    "#combine3  \n",
    "\n",
    "num=4523\n",
    "#FOR chandra with barycenter correction\n",
    "lightcurve=pyfits.open('/Volumes/Seagate_Backup_Plus_Drive_Lvb/RX_J0806/%s/repro/RXJ0806_lc.fits'%num)\n",
    "time1=lightcurve[1].data['TIME']\n",
    "count1=lightcurve[1].data['COUNTS']\n",
    "\n",
    "num=4524\n",
    "#FOR chandra with barycenter correction\n",
    "lightcurve=pyfits.open('/Volumes/Seagate_Backup_Plus_Drive_Lvb/RX_J0806/%s/repro/RXJ0806_lc.fits'%num)\n",
    "time2=lightcurve[1].data['TIME']\n",
    "count2=lightcurve[1].data['COUNTS']\n",
    "\n",
    "num=4525\n",
    "#FOR chandra with barycenter correction\n",
    "lightcurve=pyfits.open('/Volumes/Seagate_Backup_Plus_Drive_Lvb/RX_J0806/%s/repro/RXJ0806_lc.fits'%num)\n",
    "time3=lightcurve[1].data['TIME']\n",
    "count3=lightcurve[1].data['COUNTS']\n",
    "\n",
    "\n",
    "# xmmnum='0150800101'\n",
    "# lightcurve=pyfits.open('/Users/brettlv/RXJ0806_local/%s/pn_lccor_0.3-2keV.lc'%xmmnum)\n",
    "# time2=lightcurve[1].data['TIME']\n",
    "# count2=lightcurve[1].data['RATE']\n",
    "\n",
    "\n",
    "\n",
    "time=np.hstack((time1,time2,time3))\n",
    "count=np.hstack((count1,count2,count3))\n",
    "\n",
    "print(\"tzero\",time[0])\n",
    "print(\"obs_mjd_zero\",mjdzero+(time[0]+TIMEZERO)/86400)\n",
    "time=time-time[0]\n",
    "size=time.size\n",
    "print(time[-1]/365/86400)\n",
    "\n",
    "print(time.size)\n",
    "tj=get_tj(time,count)\n",
    "N=tj.size\n",
    "print(tj.size)"
   ]
  },
  {
   "cell_type": "code",
   "execution_count": 36,
   "metadata": {
    "ExecuteTime": {
     "end_time": "2018-05-29T15:23:42.223819Z",
     "start_time": "2018-05-29T15:23:41.789319Z"
    },
    "collapsed": false
   },
   "outputs": [
    {
     "name": "stdout",
     "output_type": "stream",
     "text": [
      "tzero 194281894.221\n",
      "obs_mjd_zero 53062.633035\n",
      "0.209303310982\n",
      "1505\n",
      "525\n"
     ]
    }
   ],
   "source": [
    "import numpy as np\n",
    "from scipy import integrate\n",
    "#combine2  \n",
    "\n",
    "num=4526\n",
    "#FOR chandra with barycenter correction\n",
    "lightcurve=pyfits.open('/Volumes/Seagate_Backup_Plus_Drive_Lvb/RX_J0806/%s/repro/RXJ0806_lc.fits'%num)\n",
    "time1=lightcurve[1].data['TIME']\n",
    "count1=lightcurve[1].data['COUNTS']\n",
    "\n",
    "num=4527\n",
    "#FOR chandra with barycenter correction\n",
    "lightcurve=pyfits.open('/Volumes/Seagate_Backup_Plus_Drive_Lvb/RX_J0806/%s/repro/RXJ0806_lc.fits'%num)\n",
    "time2=lightcurve[1].data['TIME']\n",
    "count2=lightcurve[1].data['COUNTS']\n",
    "\n",
    "# num=5282\n",
    "# #FOR chandra with barycenter correction\n",
    "# lightcurve=pyfits.open('/Volumes/Seagate_Backup_Plus_Drive_Lvb/RX_J0806/%s/repro/RXJ0806_lc.fits'%num)\n",
    "# time3=lightcurve[1].data['TIME']\n",
    "# count3=lightcurve[1].data['COUNTS']\n",
    "\n",
    "\n",
    "# xmmnum='0150800101'\n",
    "# lightcurve=pyfits.open('/Users/brettlv/RXJ0806_local/%s/pn_lccor_0.3-2keV.lc'%xmmnum)\n",
    "# time2=lightcurve[1].data['TIME']\n",
    "# count2=lightcurve[1].data['RATE']\n",
    "\n",
    "time=np.hstack((time1,time2))\n",
    "count=np.hstack((count1,count2))\n",
    "\n",
    "print(\"tzero\",time[0])\n",
    "print(\"obs_mjd_zero\",mjdzero+(time[0]+TIMEZERO)/86400)\n",
    "time=time-time[0]\n",
    "size=time.size\n",
    "print(time[-1]/365/86400)\n",
    "\n",
    "print(time.size)\n",
    "tj=get_tj(time,count)\n",
    "N=tj.size\n",
    "print(tj.size)"
   ]
  },
  {
   "cell_type": "code",
   "execution_count": 37,
   "metadata": {
    "ExecuteTime": {
     "end_time": "2018-05-29T15:23:44.010885Z",
     "start_time": "2018-05-29T15:23:43.362784Z"
    },
    "collapsed": false,
    "scrolled": true
   },
   "outputs": [
    {
     "data": {
      "text/plain": [
       "[<matplotlib.lines.Line2D at 0x1153de278>]"
      ]
     },
     "execution_count": 37,
     "metadata": {},
     "output_type": "execute_result"
    },
    {
     "data": {
      "image/png": "[encoded data removed]",
      "text/plain": [
       "<matplotlib.figure.Figure at 0x114a5b2b0>"
      ]
     },
     "metadata": {},
     "output_type": "display_data"
    }
   ],
   "source": [
    "\n",
    "\n",
    "x=np.linspace(0.003,0.004,1001)\n",
    "x=np.linspace(0.003109,0.003111,2001)\n",
    "#x=np.linspace(0.0031,0.00312,2001)\n",
    "x=np.linspace(0.00311013,0.00311015,2001)\n",
    "#x=np.linspace(0.003110204,0.003110206,2001)\n",
    "import os \n",
    "if os.path.exists(\"chandra%s.txt\"%num):\n",
    "    os.remove(\"chandra%s.txt\"%num)\n",
    "with open(\"chandra%s.txt\"%num,\"a\") as f:\n",
    "    for freq in x:       \n",
    "        f.write(str(ZetaN(freq,0))+'\\n')      \n",
    "\n",
    "y=np.loadtxt(\"chandra%s.txt\"%num,delimiter='\\n')\n",
    "#plt.xlim(0.003105,0.003120)\n",
    "plt.figure(1,figsize=(6,4))\n",
    "plt.xlabel('(freq-3.11mHZ) nHz')\n",
    "plt.ylabel('(Zn2)')\n",
    "plt.gca().xaxis.set_major_formatter(ticker.FormatStrFormatter('%.1f'))\n",
    "plt.plot((x-0.00311)*10**9,y)"
   ]
  },
  {
   "cell_type": "code",
   "execution_count": 38,
   "metadata": {
    "ExecuteTime": {
     "end_time": "2018-05-29T15:23:45.842144Z",
     "start_time": "2018-05-29T15:23:45.269207Z"
    },
    "collapsed": false
   },
   "outputs": [
    {
     "name": "stdout",
     "output_type": "stream",
     "text": [
      "0.0031101414 321.528789656 265.602812955\n"
     ]
    }
   ],
   "source": [
    "zeromin=1\n",
    "freqmin=0.3\n",
    "for freq in x:\n",
    "    if ZetaN(freq,0)>zeromin:\n",
    "        zeromin=ZetaN(freq,0)\n",
    "        freqmin=freq\n",
    "print(freqmin,1/freqmin,zeromin)"
   ]
  },
  {
   "cell_type": "markdown",
   "metadata": {
    "collapsed": true
   },
   "source": [
    "### "
   ]
  },
  {
   "cell_type": "code",
   "execution_count": null,
   "metadata": {
    "collapsed": true
   },
   "outputs": [],
   "source": []
  },
  {
   "cell_type": "code",
   "execution_count": null,
   "metadata": {
    "collapsed": true
   },
   "outputs": [],
   "source": []
  },
  {
   "cell_type": "code",
   "execution_count": null,
   "metadata": {
    "ExecuteTime": {
     "end_time": "2018-05-17T10:20:00.776918Z",
     "start_time": "2018-05-17T10:20:00.772563Z"
    },
    "collapsed": false
   },
   "outputs": [],
   "source": [
    "1/321.853"
   ]
  },
  {
   "cell_type": "code",
   "execution_count": 39,
   "metadata": {
    "ExecuteTime": {
     "end_time": "2018-05-29T15:25:33.736104Z",
     "start_time": "2018-05-29T15:25:33.121224Z"
    },
    "collapsed": false
   },
   "outputs": [
    {
     "name": "stdout",
     "output_type": "stream",
     "text": [
      "tzero 377731785.782\n",
      "obs_mjd_zero 55185.8956688\n",
      "0.0114041535396\n",
      "12697\n",
      "4258\n"
     ]
    }
   ],
   "source": [
    "import numpy as np\n",
    "from scipy import integrate\n",
    "#combine 2009all\n",
    "num=12060\n",
    "#FOR chandra with barycenter correction\n",
    "lightcurve=pyfits.open('/Volumes/Seagate_Backup_Plus_Drive_Lvb/RX_J0806/%s/repro/RXJ0806_lc.fits'%num)\n",
    "time1=lightcurve[1].data['TIME']\n",
    "count1=lightcurve[1].data['COUNTS']\n",
    "mjdzero=lightcurve[0].header['MJDREF']\n",
    "TIMEZERO=lightcurve[0].header['TIMEZERO']\n",
    "\n",
    "num=12061\n",
    "#FOR chandra\n",
    "lightcurve=pyfits.open('/Volumes/Seagate_Backup_Plus_Drive_Lvb/RX_J0806/%s/repro/RXJ0806_lc.fits'%num)\n",
    "time2=lightcurve[1].data['TIME']\n",
    "count2=lightcurve[1].data['COUNTS']\n",
    "\n",
    "\n",
    "num=11027\n",
    "#FOR chandra with applied barycenter correction\n",
    "lightcurve=pyfits.open('/Volumes/Seagate_Backup_Plus_Drive_Lvb/RX_J0806/%s/repro/RXJ0806_lc.fits'%num)\n",
    "time3=lightcurve[1].data['TIME']\n",
    "count3=lightcurve[1].data['COUNTS']\n",
    "\n",
    "\n",
    "num=11028\n",
    "#FOR chandra\n",
    "lightcurve=pyfits.open('/Volumes/Seagate_Backup_Plus_Drive_Lvb/RX_J0806/%s/repro/RXJ0806_lc.fits'%num)\n",
    "time4=lightcurve[1].data['TIME']\n",
    "count4=lightcurve[1].data['COUNTS']\n",
    "\n",
    "\n",
    "time=np.hstack((time1,time2,time3,time4))\n",
    "count=np.hstack((count1,count2,count3,count4))\n",
    "\n",
    "print(\"tzero\",time[0])\n",
    "print(\"obs_mjd_zero\",mjdzero+(time[0]+TIMEZERO)/86400)\n",
    "time=time-time[0]\n",
    "size=time.size\n",
    "print(time[-1]/365/86400)\n",
    "print(time.size)\n",
    "tj=get_tj(time,count)\n",
    "N=tj.size\n",
    "print(tj.size)"
   ]
  },
  {
   "cell_type": "code",
   "execution_count": 40,
   "metadata": {
    "ExecuteTime": {
     "end_time": "2018-05-29T15:25:38.124921Z",
     "start_time": "2018-05-29T15:25:35.718352Z"
    },
    "collapsed": false
   },
   "outputs": [
    {
     "data": {
      "text/plain": [
       "[<matplotlib.lines.Line2D at 0x11543e828>]"
      ]
     },
     "execution_count": 40,
     "metadata": {},
     "output_type": "execute_result"
    },
    {
     "data": {
      "image/png": "[encoded data removed]",
      "text/plain": [
       "<matplotlib.figure.Figure at 0x114672630>"
      ]
     },
     "metadata": {},
     "output_type": "display_data"
    }
   ],
   "source": [
    "\n",
    "\n",
    "#x=np.linspace(0.003,0.004,1001)\n",
    "x=np.linspace(0.003109,0.003111,2001)\n",
    "#x=np.linspace(0.0031,0.00312,2001)\n",
    "#x=np.linspace(0.00311017,0.00311019,2001)\n",
    "#x=np.linspace(0.00311013,0.00311015,2001)\n",
    "import os \n",
    "if os.path.exists(\"chandra%s.txt\"%num):\n",
    "    os.remove(\"chandra%s.txt\"%num)\n",
    "with open(\"chandra%s.txt\"%num,\"a\") as f:\n",
    "    for freq in x:       \n",
    "        f.write(str(ZetaN(freq,0))+'\\n')      \n",
    "\n",
    "y=np.loadtxt(\"chandra%s.txt\"%num,delimiter='\\n')\n",
    "#plt.xlim(0.003105,0.003120)\n",
    "plt.figure(1,figsize=(6,4))\n",
    "plt.xlabel('(freq-3.11mHZ) nHz')\n",
    "plt.ylabel('(Zn2)')\n",
    "plt.gca().xaxis.set_major_formatter(ticker.FormatStrFormatter('%.1f'))\n",
    "plt.plot((x-0.00311)*10**9,y)"
   ]
  },
  {
   "cell_type": "code",
   "execution_count": 41,
   "metadata": {
    "ExecuteTime": {
     "end_time": "2018-05-29T15:25:42.355180Z",
     "start_time": "2018-05-29T15:25:39.532191Z"
    },
    "collapsed": false
   },
   "outputs": [
    {
     "name": "stdout",
     "output_type": "stream",
     "text": [
      "0.003110182 321.524592452 2215.15718538\n"
     ]
    }
   ],
   "source": [
    "zeromin=1\n",
    "freqmin=0.3\n",
    "for freq in x:\n",
    "    if ZetaN(freq,0)>zeromin:\n",
    "        zeromin=ZetaN(freq,0)\n",
    "        freqmin=freq\n",
    "print(freqmin,1/freqmin,zeromin)"
   ]
  },
  {
   "cell_type": "code",
   "execution_count": null,
   "metadata": {
    "collapsed": true
   },
   "outputs": [],
   "source": []
  },
  {
   "cell_type": "code",
   "execution_count": null,
   "metadata": {
    "collapsed": true
   },
   "outputs": [],
   "source": []
  },
  {
   "cell_type": "code",
   "execution_count": null,
   "metadata": {
    "collapsed": true
   },
   "outputs": [],
   "source": []
  },
  {
   "cell_type": "code",
   "execution_count": null,
   "metadata": {
    "collapsed": true
   },
   "outputs": [],
   "source": []
  },
  {
   "cell_type": "markdown",
   "metadata": {
    "ExecuteTime": {
     "end_time": "2018-05-29T15:03:05.820462Z",
     "start_time": "2018-05-29T15:03:02.799440Z"
    },
    "collapsed": false
   },
   "source": [
    "import numpy as np\n",
    "from scipy import integrate\n",
    "#combine2004 all\n",
    "num=4523\n",
    "#FOR chandra Without Barycenter correction\n",
    "lightcurve=pyfits.open('/Volumes/Seagate_Backup_Plus_Drive_Lvb/RX_J0806/%s/primary/src_lc_paper.fits'%num)\n",
    "time1=lightcurve[1].data['TIME']\n",
    "count1=lightcurve[1].data['COUNTS']\n",
    "\n",
    "num=4524\n",
    "#FOR chandra\n",
    "lightcurve=pyfits.open('/Volumes/Seagate_Backup_Plus_Drive_Lvb/RX_J0806/%s/primary/src_lc_paper.fits'%num)\n",
    "time2=lightcurve[1].data['TIME']\n",
    "count2=lightcurve[1].data['COUNTS']\n",
    "\n",
    "\n",
    "num=4525\n",
    "#FOR chandra\n",
    "lightcurve=pyfits.open('/Volumes/Seagate_Backup_Plus_Drive_Lvb/RX_J0806/%s/primary/src_lc_paper.fits'%num)\n",
    "time3=lightcurve[1].data['TIME']\n",
    "count3=lightcurve[1].data['COUNTS']\n",
    "\n",
    "\n",
    "num=4526\n",
    "#FOR chandra\n",
    "lightcurve=pyfits.open('/Volumes/Seagate_Backup_Plus_Drive_Lvb/RX_J0806/%s/primary/src_lc_paper.fits'%num)\n",
    "time4=lightcurve[1].data['TIME']\n",
    "count4=lightcurve[1].data['COUNTS']\n",
    "\n",
    "num=4527\n",
    "#FOR chandra\n",
    "lightcurve=pyfits.open('/Volumes/Seagate_Backup_Plus_Drive_Lvb/RX_J0806/%s/primary/src_lc_paper.fits'%num)\n",
    "time5=lightcurve[1].data['TIME']\n",
    "count5=lightcurve[1].data['COUNTS']\n",
    "\n",
    "num=5282\n",
    "#FOR chandra\n",
    "lightcurve=pyfits.open('/Volumes/Seagate_Backup_Plus_Drive_Lvb/RX_J0806/%s/primary/src_lc_paper.fits'%num)\n",
    "time6=lightcurve[1].data['TIME']\n",
    "count6=lightcurve[1].data['COUNTS']\n",
    "\n",
    "time=np.hstack((time1,time2,time3,time4,time5,time6))\n",
    "count=np.hstack((count1,count2,count3,count4,count5,count6))\n",
    "\n",
    "print(\"tzero\",time[0])\n",
    "time=time-time[0]\n",
    "size=time.size\n",
    "print(time[-1]/365/86400)\n",
    "print(time.size)\n",
    "tj=get_tj(time,count)\n",
    "N=tj.size\n",
    "print(tj.size)\n",
    "\n",
    "time.size,count.size\n",
    "\n",
    "\n",
    "x=np.linspace(0.003,0.004,1001)\n",
    "x=np.linspace(0.003,0.0032,2001)\n",
    "#x=np.linspace(0.0031102,0.0031104,201)\n",
    "import os \n",
    "if os.path.exists(\"chandra%s.txt\"%num):\n",
    "    os.remove(\"chandra%s.txt\"%num)\n",
    "with open(\"chandra%s.txt\"%num,\"a\") as f:\n",
    "    for freq in x:       \n",
    "        f.write(str(ZetaN(freq,0))+'\\n')      \n",
    "\n",
    "y=np.loadtxt(\"chandra%s.txt\"%num,delimiter='\\n')\n",
    "#plt.xlim(0.003105,0.003120)\n",
    "plt.figure(1,figsize=(6,4))\n",
    "plt.xlabel('(freq-3.11mHZ) nHz')\n",
    "plt.ylabel('(Zn2)')\n",
    "plt.gca().xaxis.set_major_formatter(ticker.FormatStrFormatter('%.1f'))\n",
    "plt.plot((x-0.00311)*10**9,y)"
   ]
  },
  {
   "cell_type": "code",
   "execution_count": null,
   "metadata": {
    "ExecuteTime": {
     "end_time": "2018-05-29T15:04:22.933932Z",
     "start_time": "2018-05-29T15:04:20.551027Z"
    },
    "collapsed": false
   },
   "outputs": [],
   "source": [
    "zeromin=1\n",
    "freqmin=0.3\n",
    "for freq in x:\n",
    "    if ZetaN(freq,0)>zeromin:\n",
    "        zeromin=ZetaN(freq,0)\n",
    "        freqmin=freq\n",
    "print(freqmin,1/freqmin,zeromin)"
   ]
  },
  {
   "cell_type": "code",
   "execution_count": null,
   "metadata": {
    "collapsed": true
   },
   "outputs": [],
   "source": []
  },
  {
   "cell_type": "code",
   "execution_count": null,
   "metadata": {
    "collapsed": true
   },
   "outputs": [],
   "source": []
  },
  {
   "cell_type": "code",
   "execution_count": null,
   "metadata": {
    "collapsed": true
   },
   "outputs": [],
   "source": []
  },
  {
   "cell_type": "code",
   "execution_count": null,
   "metadata": {
    "collapsed": true
   },
   "outputs": [],
   "source": []
  },
  {
   "cell_type": "code",
   "execution_count": null,
   "metadata": {
    "collapsed": true
   },
   "outputs": [],
   "source": [
    "\n",
    "x=np.linspace(0.003,0.004,1001)\n",
    "x=np.linspace(0.0031102,0.0031104,201)\n",
    "import os \n",
    "if os.path.exists(\"chandra%s.txt\"%num):\n",
    "    os.remove(\"chandra%s.txt\"%num)\n",
    "with open(\"chandra%s.txt\"%num,\"a\") as f:\n",
    "    for freq in x:       \n",
    "        f.write(str(ZetaN(freq,0))+'\\n')      \n",
    "\n",
    "y=np.loadtxt(\"chandra%s.txt\"%num,delimiter='\\n')\n",
    "#plt.xlim(0.003105,0.003120)\n",
    "plt.figure(1,figsize=(24, 12))\n",
    "plt.xlabel('freq,mHz')\n",
    "plt.ylabel('(Zn2)')\n",
    "plt.gca().xaxis.set_major_formatter(ticker.FormatStrFormatter('%.3f'))\n",
    "plt.plot(x*1000,y)"
   ]
  },
  {
   "cell_type": "code",
   "execution_count": null,
   "metadata": {
    "collapsed": true
   },
   "outputs": [],
   "source": [
    "zeromin=1\n",
    "freqmin=0.3\n",
    "for freq in x:\n",
    "    if ZetaN(freq,0)>zeromin:\n",
    "        zeromin=ZetaN(freq,0)\n",
    "        freqmin=freq\n",
    "print(freqmin,1/freqmin,zeromin)"
   ]
  },
  {
   "cell_type": "code",
   "execution_count": null,
   "metadata": {
    "collapsed": true
   },
   "outputs": [],
   "source": []
  },
  {
   "cell_type": "code",
   "execution_count": null,
   "metadata": {
    "collapsed": true
   },
   "outputs": [],
   "source": []
  },
  {
   "cell_type": "code",
   "execution_count": null,
   "metadata": {
    "collapsed": true
   },
   "outputs": [],
   "source": []
  },
  {
   "cell_type": "code",
   "execution_count": null,
   "metadata": {
    "collapsed": true
   },
   "outputs": [],
   "source": [
    "num=4526\n",
    "#FOR chandra combine3\n",
    "lightcurve=pyfits.open('/Volumes/Seagate_Backup_Plus_Drive_Lvb/RX_J0806/%s/primary/src_lc_paper.fits'%num)\n",
    "time4=lightcurve[1].data['TIME']\n",
    "count4=lightcurve[1].data['COUNTS']\n",
    "\n",
    "num=4527\n",
    "#FOR chandra\n",
    "lightcurve=pyfits.open('/Volumes/Seagate_Backup_Plus_Drive_Lvb/RX_J0806/%s/primary/src_lc_paper.fits'%num)\n",
    "time5=lightcurve[1].data['TIME']\n",
    "count5=lightcurve[1].data['COUNTS']\n",
    "\n",
    "num=5282\n",
    "#FOR chandra\n",
    "lightcurve=pyfits.open('/Volumes/Seagate_Backup_Plus_Drive_Lvb/RX_J0806/%s/primary/src_lc_paper.fits'%num)\n",
    "time6=lightcurve[1].data['TIME']\n",
    "count6=lightcurve[1].data['COUNTS']\n",
    "\n",
    "time=np.hstack((time4,time5,time6))\n",
    "count=np.hstack((count4,count5,count6))\n",
    "print(\"tzero\",time[0])\n",
    "time=time-time[0]\n",
    "size=time.size\n",
    "print(time[-1]/365/86400)\n",
    "print(time.size)\n",
    "tj=get_tj(time,count)\n",
    "N=tj.size\n",
    "print(tj.size)"
   ]
  },
  {
   "cell_type": "code",
   "execution_count": null,
   "metadata": {
    "ExecuteTime": {
     "end_time": "2018-05-17T09:52:41.460272Z",
     "start_time": "2018-05-17T09:52:40.756439Z"
    },
    "collapsed": false
   },
   "outputs": [],
   "source": [
    "\n",
    "x=np.linspace(0.003,0.004,1001)\n",
    "x=np.linspace(0.0031102,0.0031104,201)\n",
    "import os \n",
    "if os.path.exists(\"chandra%s.txt\"%num):\n",
    "    os.remove(\"chandra%s.txt\"%num)\n",
    "with open(\"chandra%s.txt\"%num,\"a\") as f:\n",
    "    for freq in x:       \n",
    "        f.write(str(ZetaN(freq,0))+'\\n')      \n",
    "\n",
    "y=np.loadtxt(\"chandra%s.txt\"%num,delimiter='\\n')\n",
    "#plt.xlim(0.003105,0.003120)\n",
    "plt.figure(1,figsize=(6,4))\n",
    "plt.xlabel('(freq-3.11mHZ) nHz')\n",
    "plt.ylabel('(Zn2)')\n",
    "plt.gca().xaxis.set_major_formatter(ticker.FormatStrFormatter('%.1f'))\n",
    "plt.plot((x-0.00311)*10**9,y)"
   ]
  },
  {
   "cell_type": "code",
   "execution_count": null,
   "metadata": {
    "ExecuteTime": {
     "end_time": "2018-05-17T09:52:46.121725Z",
     "start_time": "2018-05-17T09:52:45.937353Z"
    },
    "collapsed": false
   },
   "outputs": [],
   "source": [
    "zeromin=1\n",
    "freqmin=0.3\n",
    "for freq in x:\n",
    "    if ZetaN(freq,0)>zeromin:\n",
    "        zeromin=ZetaN(freq,0)\n",
    "        freqmin=freq\n",
    "print(freqmin,1/freqmin,zeromin)"
   ]
  },
  {
   "cell_type": "code",
   "execution_count": null,
   "metadata": {
    "ExecuteTime": {
     "end_time": "2018-05-16T19:29:39.333337Z",
     "start_time": "2018-05-16T19:29:39.328596Z"
    },
    "collapsed": false
   },
   "outputs": [],
   "source": [
    "189724961.1927469969-189724492.3325800002"
   ]
  },
  {
   "cell_type": "code",
   "execution_count": null,
   "metadata": {
    "collapsed": true
   },
   "outputs": [],
   "source": []
  },
  {
   "cell_type": "code",
   "execution_count": null,
   "metadata": {
    "collapsed": true
   },
   "outputs": [],
   "source": []
  },
  {
   "cell_type": "code",
   "execution_count": null,
   "metadata": {
    "ExecuteTime": {
     "end_time": "2018-05-15T10:44:10.910740Z",
     "start_time": "2018-05-15T10:44:07.930956Z"
    },
    "collapsed": false
   },
   "outputs": [],
   "source": [
    "zeromin=1\n",
    "freqmin=0.3\n",
    "for freq in np.linspace(0.00309,0.00312,301):\n",
    "    if ZetaN(freq,0)>zeromin:\n",
    "        zeromin=ZetaN(freq,0)\n",
    "        freqmin=freq\n",
    "print(freqmin,zeromin)"
   ]
  },
  {
   "cell_type": "code",
   "execution_count": null,
   "metadata": {
    "ExecuteTime": {
     "end_time": "2018-05-15T10:45:30.409982Z",
     "start_time": "2018-05-15T10:45:28.917746Z"
    },
    "collapsed": false
   },
   "outputs": [],
   "source": [
    "for freq in np.linspace(0.0031104,0.0031106,201):\n",
    "    if ZetaN(freq,0)>zeromin:\n",
    "        zeromin=ZetaN(freq,0)\n",
    "        freqmin=freq\n",
    "print(freqmin,zeromin)"
   ]
  },
  {
   "cell_type": "code",
   "execution_count": null,
   "metadata": {
    "ExecuteTime": {
     "end_time": "2018-05-15T10:43:06.116121Z",
     "start_time": "2018-05-15T10:43:06.110925Z"
    },
    "collapsed": false
   },
   "outputs": [],
   "source": [
    "24*3600*365*3.6*10**-13 #mhz"
   ]
  },
  {
   "cell_type": "code",
   "execution_count": null,
   "metadata": {
    "ExecuteTime": {
     "end_time": "2018-05-15T12:00:01.376865Z",
     "start_time": "2018-05-15T12:00:01.372372Z"
    },
    "collapsed": false
   },
   "outputs": [],
   "source": [
    "0.00001/(24*3600*365*4*10**3)"
   ]
  },
  {
   "cell_type": "code",
   "execution_count": null,
   "metadata": {
    "ExecuteTime": {
     "end_time": "2018-05-14T13:16:21.571338Z",
     "start_time": "2018-05-14T13:16:21.560480Z"
    },
    "collapsed": false
   },
   "outputs": [],
   "source": [
    "plt.plot(period,sigma_rate)"
   ]
  },
  {
   "cell_type": "code",
   "execution_count": null,
   "metadata": {
    "ExecuteTime": {
     "end_time": "2018-05-03T10:14:11.456881Z",
     "start_time": "2018-05-03T10:14:11.115075Z"
    },
    "collapsed": false
   },
   "outputs": [],
   "source": [
    "plt.plot(freq,powdata)\n",
    "plt.xlim(0,0.01)"
   ]
  },
  {
   "cell_type": "code",
   "execution_count": null,
   "metadata": {
    "ExecuteTime": {
     "end_time": "2018-05-03T10:14:11.464890Z",
     "start_time": "2018-05-03T10:14:11.459049Z"
    },
    "collapsed": false
   },
   "outputs": [],
   "source": [
    "1/321.55"
   ]
  },
  {
   "cell_type": "code",
   "execution_count": null,
   "metadata": {
    "ExecuteTime": {
     "end_time": "2018-05-15T16:01:06.179248Z",
     "start_time": "2018-05-15T16:01:06.175040Z"
    },
    "collapsed": false
   },
   "outputs": [],
   "source": [
    "0.0002*10**-3/(14*365*86400)"
   ]
  },
  {
   "cell_type": "code",
   "execution_count": null,
   "metadata": {
    "ExecuteTime": {
     "end_time": "2018-05-17T10:58:51.543091Z",
     "start_time": "2018-05-17T10:58:51.538958Z"
    },
    "collapsed": false
   },
   "outputs": [],
   "source": [
    "0.00004*10**-3/(0.5*365*86400)"
   ]
  },
  {
   "cell_type": "code",
   "execution_count": null,
   "metadata": {
    "ExecuteTime": {
     "end_time": "2018-05-03T10:14:11.481455Z",
     "start_time": "2018-05-03T10:14:11.475428Z"
    },
    "collapsed": false
   },
   "outputs": [],
   "source": [
    "2256+508.9+410+45"
   ]
  },
  {
   "cell_type": "code",
   "execution_count": null,
   "metadata": {
    "ExecuteTime": {
     "end_time": "2018-05-03T10:14:11.490309Z",
     "start_time": "2018-05-03T10:14:11.484192Z"
    },
    "collapsed": false
   },
   "outputs": [],
   "source": [
    "1/0.00312286105407255"
   ]
  },
  {
   "cell_type": "code",
   "execution_count": null,
   "metadata": {
    "ExecuteTime": {
     "end_time": "2018-05-03T10:14:11.498520Z",
     "start_time": "2018-05-03T10:14:11.492623Z"
    },
    "collapsed": false
   },
   "outputs": [],
   "source": [
    "1/321.55"
   ]
  },
  {
   "cell_type": "code",
   "execution_count": null,
   "metadata": {
    "ExecuteTime": {
     "end_time": "2018-05-03T10:16:19.730759Z",
     "start_time": "2018-05-03T10:16:19.726102Z"
    },
    "collapsed": false
   },
   "outputs": [],
   "source": [
    "(1/3.104-1/3.105)*1000"
   ]
  },
  {
   "cell_type": "code",
   "execution_count": null,
   "metadata": {
    "ExecuteTime": {
     "end_time": "2018-05-03T10:14:11.516987Z",
     "start_time": "2018-05-03T10:14:11.509386Z"
    },
    "collapsed": false
   },
   "outputs": [],
   "source": [
    "0.001mhz @ 0.1s"
   ]
  },
  {
   "cell_type": "code",
   "execution_count": null,
   "metadata": {
    "ExecuteTime": {
     "end_time": "2018-04-27T16:51:28.643148Z",
     "start_time": "2018-04-27T16:51:28.623999Z"
    },
    "collapsed": false
   },
   "outputs": [],
   "source": []
  },
  {
   "cell_type": "code",
   "execution_count": null,
   "metadata": {
    "ExecuteTime": {
     "end_time": "2018-05-14T14:54:29.515341Z",
     "start_time": "2018-05-14T14:54:29.484493Z"
    },
    "collapsed": false
   },
   "outputs": [],
   "source": [
    "\n",
    "\n",
    "\n"
   ]
  },
  {
   "cell_type": "code",
   "execution_count": null,
   "metadata": {
    "ExecuteTime": {
     "end_time": "2018-05-18T10:11:46.344450Z",
     "start_time": "2018-05-18T10:11:46.337390Z"
    },
    "collapsed": true
   },
   "outputs": [],
   "source": []
  },
  {
   "cell_type": "code",
   "execution_count": null,
   "metadata": {
    "ExecuteTime": {
     "end_time": "2018-05-29T14:59:15.038153Z",
     "start_time": "2018-05-29T14:59:12.660205Z"
    },
    "collapsed": false,
    "scrolled": true
   },
   "outputs": [],
   "source": [
    "#for xmm combine2\n",
    "import numpy as np\n",
    "from scipy import integrate\n",
    "\n",
    "xmmnum='0150800101'\n",
    "xmmnum='0206100101'\n",
    "xmmnum='0551860101'\n",
    "xmmnum='0690420101'\n",
    "#lightcurve=pyfits.open('/Volumes/Seagate_Backup_Plus_Drive_Lvb/RX_J0806/xmm/0784670101/pn_lccor_0.3-2keV.lc')\n",
    "lightcurve=pyfits.open('/Users/brettlv/RXJ0806_local/%s/pn_lccor_0.3-2keV.lc'%xmmnum)\n",
    "\n",
    "#lightcurve=pyfits.open('/Users/brettlv/RXJ0806_local/0551860101//pn_lccor_0.3-2keV.lc')\n",
    "#lightcurve=pyfits.open('/Users/brettlv/RXJ0806_local/0690420101/pn_lccor_0.3-2keV.lc')\n",
    "#lightcurve=pyfits.open('/Users/brettlv/RXJ0806_local/0784670101/pn_lccor_0.3-2keV.lc')\n",
    "time1=lightcurve[1].data['TIME']\n",
    "count1=lightcurve[1].data['RATE']\n",
    "\n",
    "xmmnum='0784670101'\n",
    "lightcurve=pyfits.open('/Users/brettlv/RXJ0806_local/%s/pn_lccor_0.3-2keV.lc'%xmmnum)\n",
    "time2=lightcurve[1].data['TIME']\n",
    "count2=lightcurve[1].data['RATE']\n",
    "\n",
    "\n",
    "\n",
    "time=np.hstack((time1,time2))\n",
    "count=np.hstack((count1,count2))\n",
    "print(time1.shape,time2.shape)\n",
    "time=time-time[0]\n",
    "size=time.size\n",
    "\n",
    "print(size)\n",
    "tj=get_tj(time,count)\n",
    "N=tj.size\n",
    "print(tj.size)\n",
    "\n",
    "#x=np.linspace(0.003,0.004,2001)\n",
    "\n",
    "x=np.linspace(0.003,0.004,1001)\n",
    "x=np.linspace(0.003106,0.003108,2001)\n",
    "#x=np.linspace(0.003110,0.003112,2001)\n",
    "#x=np.linspace(0.00311074,0.00311076,2001)\n",
    "\n",
    "import os \n",
    "if os.path.exists(\"xmm%s.txt\"%xmmnum):\n",
    "    os.remove(\"xmm%s.txt\"%xmmnum)\n",
    "with open(\"xmm%s.txt\"%xmmnum,\"a\") as f:\n",
    "    for freq in x:       \n",
    "        f.write(str(ZetaN(freq,0))+'\\n')      \n",
    "\n",
    "y=np.loadtxt(\"xmm%s.txt\"%xmmnum,delimiter='\\n')\n",
    "#plt.xlim(0.003105,0.003120)\n",
    "plt.figure(1,figsize=(6,4))\n",
    "plt.xlabel('(freq-3.11mHZ) nHz')\n",
    "plt.ylabel('(Zn2)')\n",
    "plt.gca().xaxis.set_major_formatter(ticker.FormatStrFormatter('%.1f'))\n",
    "plt.plot((x-0.00311)*10**9,y)"
   ]
  },
  {
   "cell_type": "code",
   "execution_count": null,
   "metadata": {
    "ExecuteTime": {
     "end_time": "2018-05-29T14:59:16.919509Z",
     "start_time": "2018-05-29T14:59:15.452086Z"
    },
    "collapsed": false
   },
   "outputs": [],
   "source": [
    "zeromin=1\n",
    "freqmin=0.3\n",
    "for freq in x:\n",
    "    if ZetaN(freq,0)>zeromin:\n",
    "        zeromin=ZetaN(freq,0)\n",
    "        freqmin=freq\n",
    "print(freqmin,zeromin)"
   ]
  },
  {
   "cell_type": "code",
   "execution_count": null,
   "metadata": {
    "collapsed": true
   },
   "outputs": [],
   "source": []
  },
  {
   "cell_type": "code",
   "execution_count": null,
   "metadata": {
    "collapsed": true
   },
   "outputs": [],
   "source": []
  },
  {
   "cell_type": "code",
   "execution_count": null,
   "metadata": {
    "ExecuteTime": {
     "end_time": "2018-05-17T11:28:56.290411Z",
     "start_time": "2018-05-17T11:28:56.284156Z"
    },
    "collapsed": false
   },
   "outputs": [],
   "source": [
    "time[0],time[-1]/86400/365"
   ]
  },
  {
   "cell_type": "code",
   "execution_count": null,
   "metadata": {
    "ExecuteTime": {
     "end_time": "2018-05-24T16:56:03.543071Z",
     "start_time": "2018-05-24T16:56:03.460534Z"
    },
    "collapsed": false,
    "scrolled": true
   },
   "outputs": [],
   "source": [
    "import numpy as np\n",
    "from scipy import integrate\n",
    "import astropy\n",
    "from astropy.time import Time\n",
    "\n",
    "\n",
    "xmmnum='0150800101'\n",
    "#xmmnum='0206100101'\n",
    "#xmmnum='0551860101'\n",
    "#xmmnum='0690420101'\n",
    "#xmmnum='0784670101'\n",
    "\n",
    "#lightcurve=pyfits.open('/Volumes/Seagate_Backup_Plus_Drive_Lvb/RX_J0806/xmm/0784670101/pn_lccor_0.3-2keV.lc')\n",
    "lightcurve=pyfits.open('/Users/brettlv/RXJ0806_local/%s/pn_lccor_0.3-2keV.lc'%xmmnum)\n",
    "#lightcurve=pyfits.open('/Users/brettlv/RXJ0806_local/0551860101//pn_lccor_0.3-2keV.lc')\n",
    "#lightcurve=pyfits.open('/Users/brettlv/RXJ0806_local/0690420101/pn_lccor_0.3-2keV.lc')\n",
    "#lightcurve=pyfits.open('/Users/brettlv/RXJ0806_local/0784670101/pn_lccor_0.3-2keV.lc')\n",
    "#time=lightcurve[1].data['TIME']\n",
    "#count=lightcurve[1].data['RATE']\n",
    "\n",
    "\n",
    "header=lightcurve[1].header\n",
    "mjdzero=header['MJDREF']\n",
    "t=Time(mjdzero,format='mjd')\n",
    "tstart=header['TSTART']\n",
    "time=lightcurve[1].data['TIME']\n",
    "\n",
    "print(\"obs_num\",xmmnum)\n",
    "print(\"MJDzero\",mjdzero)\n",
    "print(\"DATE-TT-zero\",t.isot)\n",
    "      \n",
    "\n",
    "print(\"tstart_header\",tstart)\n",
    "print(\"tzero\",time[0])\n",
    "print(\"tstart_mjd\",mjdzero+(tstart)/86400)\n",
    "print(\"obs_mjd_zero\",mjdzero+(time[0])/86400)\n",
    "print(\"Timesys\",lightcurve[1].header['TIMESYS'])\n",
    "print(\"tzero_lc\",time[0])\n",
    "time=time-time[0]\n",
    "size=time.size\n",
    "print(\"during \",time[-1])\n",
    "print(size)\n",
    "tj=get_tj(time,count)\n",
    "N=tj.size\n",
    "print(tj.size)\n"
   ]
  },
  {
   "cell_type": "code",
   "execution_count": null,
   "metadata": {
    "ExecuteTime": {
     "end_time": "2018-05-24T16:50:21.519785Z",
     "start_time": "2018-05-24T16:50:21.516657Z"
    },
    "collapsed": false
   },
   "outputs": [],
   "source": [
    "#timearrive.info()"
   ]
  },
  {
   "cell_type": "code",
   "execution_count": null,
   "metadata": {
    "ExecuteTime": {
     "end_time": "2018-05-29T14:56:57.506086Z",
     "start_time": "2018-05-29T14:56:57.456950Z"
    },
    "collapsed": false
   },
   "outputs": [],
   "source": [
    "import numpy as np\n",
    "from scipy import integrate\n",
    "import astropy\n",
    "from astropy.time import Time\n",
    "#TIME ARRIVE\n",
    "\n",
    "xmmnum='0150800101'\n",
    "#xmmnum='0206100101'\n",
    "#xmmnum='0551860101'\n",
    "#xmmnum='0690420101'\n",
    "#xmmnum='0784670101'\n",
    "\n",
    "#lightcurve=pyfits.open('/Volumes/Seagate_Backup_Plus_Drive_Lvb/RX_J0806/xmm/0784670101/pn_lccor_0.3-2keV.lc')\n",
    "lightcurve=pyfits.open('/Users/brettlv/RXJ0806_local/%s/pn_lccor_0.3-2keV.lc'%xmmnum)\n",
    "#timearrive=pyfits.open('/Users/brettlv/RXJ0806_local/%s/pnf.evt'%xmmnum)\n",
    "#timearrive=pyfits.open('/Users/brettlv/RXJ0806_local/%s/pn_filt.fits'%xmmnum)\n",
    "#lightcurve=pyfits.open('/Users/brettlv/RXJ0806_local/0551860101//pn_lccor_0.3-2keV.lc')\n",
    "#lightcurve=pyfits.open('/Users/brettlv/RXJ0806_local/0690420101/pn_lccor_0.3-2keV.lc')\n",
    "#lightcurve=pyfits.open('/Users/brettlv/RXJ0806_local/0784670101/pn_lccor_0.3-2keV.lc')\n",
    "time=lightcurve[1].data['TIME']\n",
    "count=lightcurve[1].data['RATE']\n",
    "print(\"obs_num\",xmmnum)\n",
    "time=time-time[0]\n",
    "size=time.size\n",
    "tj=get_tj(time,count)\n",
    "#tj=timearrive[1].data['TIME']\n",
    "print('time arrived zero',tj[0])\n",
    "tj=tj-tj[0]\n",
    "N=tj.size\n",
    "print(\"Size\",tj.size)\n",
    "print(\"during \",tj[-1])\n"
   ]
  },
  {
   "cell_type": "code",
   "execution_count": null,
   "metadata": {
    "ExecuteTime": {
     "end_time": "2018-05-29T14:57:15.453610Z",
     "start_time": "2018-05-29T14:57:14.335945Z"
    },
    "collapsed": false
   },
   "outputs": [],
   "source": [
    "#x=np.linspace(0.00310985,0.00310987,2001)\n",
    "#x=np.linspace(0.00310946,0.00310948,2001)\n",
    "x=np.linspace(0.003,0.004,1001)\n",
    "x=np.linspace(0.00310,0.00312,2001)\n",
    "#x=np.linspace(0.00311047,0.00311049,2001)\n",
    "import os \n",
    "if os.path.exists(\"xmm%s.txt\"%xmmnum):\n",
    "    os.remove(\"xmm%s.txt\"%xmmnum)\n",
    "with open(\"xmm%s.txt\"%xmmnum,\"a\") as f:\n",
    "    for freq in x:       \n",
    "        f.write(str(ZetaN(freq,0))+'\\n')      \n",
    "\n",
    "y=np.loadtxt(\"xmm%s.txt\"%xmmnum,delimiter='\\n')\n",
    "#plt.xlim(0.003105,0.003120)\n",
    "plt.figure(1,figsize=(6,4))\n",
    "plt.xlabel('(freq-3.11mHZ) nHz')\n",
    "plt.ylabel('(Zn2)')\n",
    "plt.gca().xaxis.set_major_formatter(ticker.FormatStrFormatter('%.1f'))\n",
    "plt.plot((x-0.00311)*10**9,y)"
   ]
  },
  {
   "cell_type": "code",
   "execution_count": null,
   "metadata": {
    "ExecuteTime": {
     "end_time": "2018-05-29T14:57:17.504845Z",
     "start_time": "2018-05-29T14:57:16.599575Z"
    },
    "collapsed": false,
    "scrolled": false
   },
   "outputs": [],
   "source": [
    "zeromin=1\n",
    "freqmin=0.3\n",
    "for freq in x:\n",
    "    if ZetaN(freq,0)>zeromin:\n",
    "        zeromin=ZetaN(freq,0)\n",
    "        freqmin=freq\n",
    "print(freqmin,1/freqmin,zeromin)       "
   ]
  },
  {
   "cell_type": "code",
   "execution_count": null,
   "metadata": {
    "collapsed": true
   },
   "outputs": [],
   "source": []
  },
  {
   "cell_type": "code",
   "execution_count": null,
   "metadata": {
    "collapsed": true
   },
   "outputs": [],
   "source": []
  },
  {
   "cell_type": "code",
   "execution_count": null,
   "metadata": {
    "collapsed": true
   },
   "outputs": [],
   "source": []
  },
  {
   "cell_type": "code",
   "execution_count": null,
   "metadata": {
    "collapsed": true
   },
   "outputs": [],
   "source": []
  },
  {
   "cell_type": "code",
   "execution_count": null,
   "metadata": {
    "collapsed": true
   },
   "outputs": [],
   "source": []
  },
  {
   "cell_type": "code",
   "execution_count": null,
   "metadata": {
    "collapsed": true
   },
   "outputs": [],
   "source": []
  },
  {
   "cell_type": "code",
   "execution_count": null,
   "metadata": {
    "ExecuteTime": {
     "end_time": "2018-05-29T14:47:48.267528Z",
     "start_time": "2018-05-29T14:47:47.874718Z"
    },
    "collapsed": false
   },
   "outputs": [],
   "source": [
    "#xrtnum='00035180001'\n",
    "# xrtnum='00035180002'\n",
    "# xrtnum='00035180003'\n",
    "# xrtnum='00035180004'\n",
    "# xrtnum='00035705001'\n",
    "# xrtnum='00035705002'\n",
    "xrtnum='00037762001'\n",
    "xrtnum='00035180005'\n",
    "# xrtnum='00037762002'\n",
    "# xrtnum='00037762003'\n",
    "# xrtnum='00037762004'\n",
    "# xrtnum='00037762005'\n",
    "\n",
    "\n",
    "\n",
    "##\n",
    "#FOR SWIFT xrt\n",
    "\n",
    "#lightcurve=pyfits.open('/Volumes/Seagate_Backup_Plus_Drive_Lvb/RX_J0806/swift/%s_xrt/PCsrc.lc'%xrtnum)\n",
    "lightcurve=pyfits.open('/Volumes/Seagate_Backup_Plus_Drive_Lvb/RX_J0806/swift/%s_xrt/PCsrc_bary.lc'%xrtnum)\n",
    "#lightcurve=pyfits.open('/Users/brettlv/RXJ0806_local/%s/pn_lccor_0.3-2keV.lc'%xmmnum\n",
    "header=lightcurve[1].header\n",
    "time=lightcurve[1].data['TIME']\n",
    "count=lightcurve[1].data['RATE']\n",
    "gtistart=lightcurve[2].data['START']\n",
    "gtiend=lightcurve[2].data['STOP']\n",
    "\n",
    "timezero=lightcurve[1].header['TIMEZERO']\n",
    "mjdobs=lightcurve[1].header['MJD-OBS']\n",
    "mjdrefI=header['MJDREFI']\n",
    "mjdreffrac=header['MJDREFF']\n",
    "Timeref=header['TIMEREF']\n",
    "tstart=header['TSTART']\n",
    "\n",
    "\n",
    "print(\"obs_num\",xrtnum)\n",
    "print(\"tstart_header\",tstart)\n",
    "print(\"timezero_header\",timezero)\n",
    "\n",
    "print(\"tzero\",time[0])\n",
    "print(\"tstart_mjd\",mjdrefI+mjdreffrac+(tstart)/86400)\n",
    "print(\"obs_mjd_zero\",mjdobs)\n",
    "print(\"Timesys\",lightcurve[1].header['TIMESYS'])\n",
    "print(\"TIMEref\",Timeref)\n",
    "\n",
    "#print(\"datatimezero\",time[0])\n",
    "time=time-time[0]\n",
    "size=time.size\n",
    "\n",
    "print(\"during \",time[-1])\n",
    "print(size)\n",
    "tj=get_tj(time,count)\n",
    "N=tj.size\n",
    "print(tj.size)\n"
   ]
  },
  {
   "cell_type": "code",
   "execution_count": null,
   "metadata": {
    "ExecuteTime": {
     "end_time": "2018-05-29T14:47:49.789227Z",
     "start_time": "2018-05-29T14:47:49.783615Z"
    },
    "collapsed": false
   },
   "outputs": [],
   "source": [
    "print(lightcurve.info())"
   ]
  },
  {
   "cell_type": "code",
   "execution_count": null,
   "metadata": {
    "ExecuteTime": {
     "end_time": "2018-05-29T14:47:50.952685Z",
     "start_time": "2018-05-29T14:47:50.948117Z"
    },
    "collapsed": false
   },
   "outputs": [],
   "source": [
    "time.size,gtistart.size,gtiend.size"
   ]
  },
  {
   "cell_type": "code",
   "execution_count": null,
   "metadata": {
    "ExecuteTime": {
     "end_time": "2018-05-29T14:47:52.516290Z",
     "start_time": "2018-05-29T14:47:52.372869Z"
    },
    "collapsed": false,
    "scrolled": true
   },
   "outputs": [],
   "source": [
    "plt.figure(figsize=(4,3))\n",
    "gtistart=lightcurve[2].data['START']\n",
    "gtiend=lightcurve[2].data['STOP']\n",
    "\n",
    "print(gtistart[:2],gtiend[:2])\n",
    "plt.plot(time[:],count[:])\n",
    "\n"
   ]
  },
  {
   "cell_type": "code",
   "execution_count": null,
   "metadata": {
    "ExecuteTime": {
     "end_time": "2018-05-29T14:47:54.120265Z",
     "start_time": "2018-05-29T14:47:53.973174Z"
    },
    "collapsed": false
   },
   "outputs": [],
   "source": [
    "plt.figure(figsize=(4,3))\n",
    "for index,(start,end) in enumerate(zip(gtistart,gtiend)):\n",
    "    plt.axvline(start,c='g')\n",
    "    plt.axvline(end,c='b')\n",
    "    #print(start)\n",
    "    #print(end)\n",
    "    \n",
    "plt.axhline(0.1,c='y',alpha=0.4)\n",
    "plt.xlim(gtistart[0]-10**4,gtiend[-1]+10**4)\n",
    "#print(gtistart[:2],gtiend[:2])"
   ]
  },
  {
   "cell_type": "code",
   "execution_count": null,
   "metadata": {
    "ExecuteTime": {
     "end_time": "2018-05-29T14:48:14.264854Z",
     "start_time": "2018-05-29T14:48:13.793074Z"
    },
    "collapsed": false,
    "scrolled": true
   },
   "outputs": [],
   "source": [
    "#x=np.linspace(0.00310985,0.00310987,2001)\n",
    "#x=np.linspace(0.00310946,0.00310948,2001)\n",
    "x=np.linspace(0.003,0.004,1001)\n",
    "x=np.linspace(0.003,0.0032,2001)\n",
    "#x=np.linspace(0.00310,0.00312,2001)\n",
    "#x=np.linspace(0.00311152,0.00311154,2001)\n",
    "#x=np.linspace(0.00311126,0.00311128,2001)\n",
    "#x=np.linspace(0.00311051,0.00311053,2001)\n",
    "#x=np.linspace(0.00310971,0.00310973,2001)\n",
    "\n",
    "\n",
    "import os \n",
    "if os.path.exists(\"xrt%s.txt\"%xrtnum):\n",
    "    os.remove(\"xrt%s.txt\"%xrtnum)\n",
    "with open(\"xrt%s.txt\"%xrtnum,\"a\") as f:\n",
    "    for freq in x:       \n",
    "        f.write(str(ZetaN(freq,0))+'\\n')      \n",
    "\n",
    "y=np.loadtxt(\"xrt%s.txt\"%xrtnum,delimiter='\\n')\n",
    "#plt.xlim(0.003105,0.003120)\n",
    "plt.figure(1,figsize=(6,4))\n",
    "plt.xlabel('(freq-3.11mHZ) nHz')\n",
    "plt.ylabel('(Zn2)')\n",
    "plt.gca().xaxis.set_major_formatter(ticker.FormatStrFormatter('%.1f'))\n",
    "plt.plot((x-0.00311)*10**9,y)"
   ]
  },
  {
   "cell_type": "code",
   "execution_count": null,
   "metadata": {
    "ExecuteTime": {
     "end_time": "2018-05-29T14:48:15.782078Z",
     "start_time": "2018-05-29T14:48:15.593353Z"
    },
    "collapsed": false
   },
   "outputs": [],
   "source": [
    "zeromin=1\n",
    "freqmin=0.3\n",
    "for freq in x:\n",
    "    if ZetaN(freq,0)>zeromin:\n",
    "        zeromin=ZetaN(freq,0)\n",
    "        freqmin=freq\n",
    "print(freqmin,1/freqmin,zeromin)  "
   ]
  },
  {
   "cell_type": "code",
   "execution_count": null,
   "metadata": {
    "collapsed": true
   },
   "outputs": [],
   "source": []
  },
  {
   "cell_type": "code",
   "execution_count": null,
   "metadata": {
    "ExecuteTime": {
     "end_time": "2018-05-29T13:58:48.329674Z",
     "start_time": "2018-05-29T13:58:47.781405Z"
    },
    "collapsed": false
   },
   "outputs": [],
   "source": [
    "### xrt  combine four\n",
    "#FOR SWIFT xrt\n",
    "\n",
    "xrtnum='00035180001'\n",
    "print(\"obs_num\",xrtnum)\n",
    "#lightcurve=pyfits.open('/Volumes/Seagate_Backup_Plus_Drive_Lvb/RX_J0806/swift/%s_xrt/PCsrc.lc'%xrtnum)\n",
    "lightcurve=pyfits.open('/Volumes/Seagate_Backup_Plus_Drive_Lvb/RX_J0806/swift/%s_xrt/PCsrc_bary.lc'%xrtnum)\n",
    "time=lightcurve[1].data['TIME']\n",
    "count1=lightcurve[1].data['RATE']\n",
    "mjdobs=lightcurve[1].header['MJD-OBS']\n",
    "header=lightcurve[1].header\n",
    "tstart=header['TSTART']\n",
    "time1=time+tstart\n",
    "print(\"time1zero\",time1[0])\n",
    "\n",
    "mjdobsstart=mjdobs\n",
    "firststart=tstart\n",
    "\n",
    "timezero=lightcurve[1].header['TIMEZERO']\n",
    "mjdrefI=header['MJDREFI']\n",
    "mjdreffrac=header['MJDREFF']\n",
    "Timeref=header['TIMEREF']\n",
    "Timesys=header['TIMESYS']\n",
    "print(\"header.TIMEZERO\",timezero)\n",
    "\n",
    "xrtnum='00035180002'\n",
    "print(\"obs_num\",xrtnum)\n",
    "lightcurve=pyfits.open('/Volumes/Seagate_Backup_Plus_Drive_Lvb/RX_J0806/swift/%s_xrt/PCsrc_bary.lc'%xrtnum)\n",
    "time=lightcurve[1].data['TIME']\n",
    "count2=lightcurve[1].data['RATE']\n",
    "tstart=lightcurve[1].header['TSTART']\n",
    "time2=time+tstart\n",
    "print(\"time2zero\",time2[0])\n",
    "\n",
    "\n",
    "\n",
    "\n",
    "xrtnum='00035180003'\n",
    "print(\"obs_num\",xrtnum)\n",
    "lightcurve=pyfits.open('/Volumes/Seagate_Backup_Plus_Drive_Lvb/RX_J0806/swift/%s_xrt/PCsrc_bary.lc'%xrtnum)\n",
    "time=lightcurve[1].data['TIME']\n",
    "count3=lightcurve[1].data['RATE']\n",
    "tstart=lightcurve[1].header['TSTART']\n",
    "time3=time+tstart\n",
    "print(\"time3zero\",time3[0])\n",
    "\n",
    "\n",
    "xrtnum='00035180004'\n",
    "print(\"obs_num\",xrtnum)\n",
    "\n",
    "lightcurve=pyfits.open('/Volumes/Seagate_Backup_Plus_Drive_Lvb/RX_J0806/swift/%s_xrt/PCsrc_bary.lc'%xrtnum)\n",
    "time=lightcurve[1].data['TIME']\n",
    "count4=lightcurve[1].data['RATE']\n",
    "tstart=lightcurve[1].header['TSTART']\n",
    "time4=time+tstart\n",
    "print(\"time4zero\",time4[0])\n",
    "\n",
    "\n",
    "time=np.hstack((time1,time2,time3,time4))\n",
    "count=np.hstack((count1,count2,count3,count4))\n",
    "time=time-time[0]\n",
    "print(\"tstart_header\",firststart)\n",
    "print(\"tzero\",time[0])\n",
    "print(\"tstart_mjd\",mjdrefI+mjdreffrac+(firststart)/86400)\n",
    "print(\"obs_mjd_zero\",mjdobsstart)\n",
    "print(\"Timesys\",Timesys)\n",
    "print(\"TIMEref\",Timeref)\n",
    "size=time.size\n",
    "print(\"during \",time[-1])\n",
    "print(size)\n",
    "tj=get_tj(time,count)\n",
    "N=tj.size\n",
    "print(tj.size)"
   ]
  },
  {
   "cell_type": "code",
   "execution_count": null,
   "metadata": {
    "ExecuteTime": {
     "end_time": "2018-05-29T14:01:46.113934Z",
     "start_time": "2018-05-29T14:01:46.108782Z"
    },
    "collapsed": false
   },
   "outputs": [],
   "source": [
    "time4[-1]-time4[0]\n",
    "time3[-1]-time3[0]"
   ]
  },
  {
   "cell_type": "code",
   "execution_count": null,
   "metadata": {
    "ExecuteTime": {
     "end_time": "2018-05-29T14:03:28.814140Z",
     "start_time": "2018-05-29T14:03:28.641726Z"
    },
    "collapsed": false
   },
   "outputs": [],
   "source": [
    "#plt.plot(time1,count1)\n",
    "#plt.plot(time2,count2)\n",
    "#plt.plot(time3,count3)\n",
    "# plt.plot(time4,count4)\n",
    "\n"
   ]
  },
  {
   "cell_type": "code",
   "execution_count": null,
   "metadata": {
    "ExecuteTime": {
     "end_time": "2018-05-29T14:21:05.531135Z",
     "start_time": "2018-05-29T14:21:04.997740Z"
    },
    "collapsed": false,
    "scrolled": true
   },
   "outputs": [],
   "source": [
    "### xrt  combine\n",
    "#FOR SWIFT xrt three\n",
    "\n",
    "\n",
    "#xrtnum='00035180001'\n",
    "# xrtnum='00035180002'\n",
    "# xrtnum='00035180003'\n",
    "# xrtnum='00035180004'\n",
    "# xrtnum='00035705001'\n",
    "# xrtnum='00035705002'\n",
    "# xrtnum='00037762001'\n",
    "# xrtnum='00035180005'\n",
    "# xrtnum='00037762002'\n",
    "# xrtnum='00037762003'\n",
    "# xrtnum='00037762004'\n",
    "# xrtnum='00037762005'\n",
    "\n",
    "xrtnum='00037762003'\n",
    "print(\"obs_num\",xrtnum)\n",
    "#lightcurve=pyfits.open('/Volumes/Seagate_Backup_Plus_Drive_Lvb/RX_J0806/swift/%s_xrt/PCsrc.lc'%xrtnum)\n",
    "lightcurve=pyfits.open('/Volumes/Seagate_Backup_Plus_Drive_Lvb/RX_J0806/swift/%s_xrt/PCsrc_bary.lc'%xrtnum)\n",
    "time=lightcurve[1].data['TIME']\n",
    "count1=lightcurve[1].data['RATE']\n",
    "mjdobs=lightcurve[1].header['MJD-OBS']\n",
    "header=lightcurve[1].header\n",
    "tstart=header['TSTART']\n",
    "time1=time+tstart\n",
    "print(\"time1zero\",time1[0])\n",
    "print(\"time1tstart\",tstart)\n",
    "\n",
    "mjdobsstart=mjdobs\n",
    "firststart=tstart\n",
    "\n",
    "timezero=lightcurve[1].header['TIMEZERO']\n",
    "mjdrefI=header['MJDREFI']\n",
    "mjdreffrac=header['MJDREFF']\n",
    "Timeref=header['TIMEREF']\n",
    "Timesys=header['TIMESYS']\n",
    "print(\"header.TIMEZERO\",timezero)\n",
    "print()\n",
    "\n",
    "xrtnum='00037762004'\n",
    "print(\"obs_num\",xrtnum)\n",
    "lightcurve=pyfits.open('/Volumes/Seagate_Backup_Plus_Drive_Lvb/RX_J0806/swift/%s_xrt/PCsrc_bary.lc'%xrtnum)\n",
    "time=lightcurve[1].data['TIME']\n",
    "count2=lightcurve[1].data['RATE']\n",
    "tstart=lightcurve[1].header['TSTART']\n",
    "time2=time+tstart\n",
    "print(\"time2zero\",time2[0])\n",
    "print(\"time2tstart\",tstart)\n",
    "\n",
    "xrtnum='00037762005'\n",
    "print(\"obs_num\",xrtnum)\n",
    "lightcurve=pyfits.open('/Volumes/Seagate_Backup_Plus_Drive_Lvb/RX_J0806/swift/%s_xrt/PCsrc_bary.lc'%xrtnum)\n",
    "time=lightcurve[1].data['TIME']\n",
    "count3=lightcurve[1].data['RATE']\n",
    "tstart=lightcurve[1].header['TSTART']\n",
    "time3=time+tstart\n",
    "print(\"time3zero\",time3[0])\n",
    "print(\"time3tstart\",tstart)\n",
    "\n",
    "# xrtnum='00035180004'\n",
    "# print(\"obs_num\",xrtnum)\n",
    "# lightcurve=pyfits.open('/Volumes/Seagate_Backup_Plus_Drive_Lvb/RX_J0806/swift/%s_xrt/PCsrc_bary.lc'%xrtnum)\n",
    "# time=lightcurve[1].data['TIME']\n",
    "# count4=lightcurve[1].data['RATE']\n",
    "# tstart=lightcurve[1].header['TSTART']\n",
    "# time4=time+tstart\n",
    "# print(\"time4zero\",time4[0])\n",
    "\n",
    "\n",
    "time=np.hstack((time1,time2,time3))\n",
    "count=np.hstack((count1,count2,count3))\n",
    "time=time-time[0]\n",
    "\n",
    "#lightcurve=pyfits.open('/Users/brettlv/RXJ0806_local/%s/pn_lccor_0.3-2keV.lc'%xmmnum\n",
    "\n",
    "\n",
    "print(\"tstart_header\",firststart)\n",
    "print(\"tzero\",time[0])\n",
    "print(\"tstart_mjd\",mjdrefI+mjdreffrac+(firststart)/86400)\n",
    "print(\"obs_mjd_zero\",mjdobsstart)\n",
    "print(\"Timesys\",Timesys)\n",
    "print(\"TIMEref\",Timeref)\n",
    "size=time.size\n",
    "print(\"during \",time[-1])\n",
    "print(size)\n",
    "tj=get_tj(time,count)\n",
    "N=tj.size\n",
    "print(tj.size)\n",
    "\n"
   ]
  },
  {
   "cell_type": "code",
   "execution_count": null,
   "metadata": {
    "ExecuteTime": {
     "end_time": "2018-05-29T14:21:25.744766Z",
     "start_time": "2018-05-29T14:21:24.966398Z"
    },
    "collapsed": false,
    "scrolled": true
   },
   "outputs": [],
   "source": [
    "#x=np.linspace(0.00310985,0.00310987,2001)\n",
    "#x=np.linspace(0.00310946,0.00310948,2001)\n",
    "x=np.linspace(0.003,0.004,1001)\n",
    "x=np.linspace(0.003,0.0032,2001)\n",
    "#x=np.linspace(0.00311,0.003112,2001)\n",
    "#x=np.linspace(0.00311152,0.00311154,2001)\n",
    "#x=np.linspace(0.00311126,0.00311128,2001)\n",
    "x=np.linspace(0.0031102,0.0031104,2001)\n",
    "#x=np.linspace(0.00310971,0.00310973,2001)\n",
    "\n",
    "\n",
    "import os \n",
    "if os.path.exists(\"xrt%s.txt\"%xrtnum):\n",
    "    os.remove(\"xrt%s.txt\"%xrtnum)\n",
    "with open(\"xrt%s.txt\"%xrtnum,\"a\") as f:\n",
    "    for freq in x:       \n",
    "        f.write(str(ZetaN(freq,0))+'\\n')      \n",
    "\n",
    "y=np.loadtxt(\"xrt%s.txt\"%xrtnum,delimiter='\\n')\n",
    "#plt.xlim(0.003105,0.003120)\n",
    "plt.figure(1,figsize=(6,4))\n",
    "plt.xlabel('(freq-3.11mHZ) nHz')\n",
    "plt.ylabel('(Zn2)')\n",
    "plt.gca().xaxis.set_major_formatter(ticker.FormatStrFormatter('%.1f'))\n",
    "plt.plot((x-0.00311)*10**9,y)"
   ]
  },
  {
   "cell_type": "code",
   "execution_count": null,
   "metadata": {
    "ExecuteTime": {
     "end_time": "2018-05-29T14:21:43.792224Z",
     "start_time": "2018-05-29T14:21:43.216712Z"
    },
    "collapsed": false
   },
   "outputs": [],
   "source": [
    "zeromin=1\n",
    "freqmin=0.3\n",
    "for freq in x:\n",
    "    if ZetaN(freq,0)>zeromin:\n",
    "        zeromin=ZetaN(freq,0)\n",
    "        freqmin=freq\n",
    "print(freqmin,1/freqmin,zeromin) "
   ]
  },
  {
   "cell_type": "code",
   "execution_count": null,
   "metadata": {
    "ExecuteTime": {
     "end_time": "2018-05-29T14:27:42.463776Z",
     "start_time": "2018-05-29T14:27:42.284024Z"
    },
    "collapsed": false
   },
   "outputs": [],
   "source": [
    "\n"
   ]
  },
  {
   "cell_type": "code",
   "execution_count": null,
   "metadata": {
    "collapsed": true
   },
   "outputs": [],
   "source": []
  },
  {
   "cell_type": "code",
   "execution_count": null,
   "metadata": {
    "ExecuteTime": {
     "end_time": "2018-05-29T14:53:08.372329Z",
     "start_time": "2018-05-29T14:53:08.236637Z"
    },
    "collapsed": false
   },
   "outputs": [],
   "source": [
    "### xrt  combine\n",
    "#FOR SWIFT xrt two\n",
    "\n",
    "xrtnum='00037762003'\n",
    "print(\"obs_num\",xrtnum)\n",
    "#lightcurve=pyfits.open('/Volumes/Seagate_Backup_Plus_Drive_Lvb/RX_J0806/swift/%s_xrt/PCsrc.lc'%xrtnum)\n",
    "lightcurve=pyfits.open('/Volumes/Seagate_Backup_Plus_Drive_Lvb/RX_J0806/swift/%s_xrt/PCsrc_bary.lc'%xrtnum)\n",
    "time=lightcurve[1].data['TIME']\n",
    "count1=lightcurve[1].data['RATE']\n",
    "mjdobs=lightcurve[1].header['MJD-OBS']\n",
    "header=lightcurve[1].header\n",
    "tstart=header['TSTART']\n",
    "time1=time+tstart\n",
    "print(\"time1zero\",time1[0])\n",
    "print(\"time1tstart\",tstart)\n",
    "\n",
    "mjdobsstart=mjdobs\n",
    "firststart=tstart\n",
    "\n",
    "timezero=lightcurve[1].header['TIMEZERO']\n",
    "mjdrefI=header['MJDREFI']\n",
    "mjdreffrac=header['MJDREFF']\n",
    "Timeref=header['TIMEREF']\n",
    "Timesys=header['TIMESYS']\n",
    "print(\"header.TIMEZERO\",timezero)\n",
    "print()\n",
    "\n",
    "xrtnum='00037762005'\n",
    "print(\"obs_num\",xrtnum)\n",
    "lightcurve=pyfits.open('/Volumes/Seagate_Backup_Plus_Drive_Lvb/RX_J0806/swift/%s_xrt/PCsrc_bary.lc'%xrtnum)\n",
    "time=lightcurve[1].data['TIME']\n",
    "count2=lightcurve[1].data['RATE']\n",
    "tstart=lightcurve[1].header['TSTART']\n",
    "time2=time+tstart\n",
    "print(\"time2zero\",time2[0])\n",
    "print(\"time2tstart\",tstart)\n",
    "\n",
    "# xrtnum='00035180003'\n",
    "# print(\"obs_num\",xrtnum)\n",
    "# lightcurve=pyfits.open('/Volumes/Seagate_Backup_Plus_Drive_Lvb/RX_J0806/swift/%s_xrt/PCsrc_bary.lc'%xrtnum)\n",
    "# time=lightcurve[1].data['TIME']\n",
    "# count3=lightcurve[1].data['RATE']\n",
    "# tstart=lightcurve[1].header['TSTART']\n",
    "# time3=time+tstart\n",
    "# print(\"time3zero\",time3[0])\n",
    "# print(\"time3tstart\",tstart)\n",
    "\n",
    "# xrtnum='00035180004'\n",
    "# print(\"obs_num\",xrtnum)\n",
    "# lightcurve=pyfits.open('/Volumes/Seagate_Backup_Plus_Drive_Lvb/RX_J0806/swift/%s_xrt/PCsrc_bary.lc'%xrtnum)\n",
    "# time=lightcurve[1].data['TIME']\n",
    "# count4=lightcurve[1].data['RATE']\n",
    "# tstart=lightcurve[1].header['TSTART']\n",
    "# time4=time+tstart\n",
    "# print(\"time4zero\",time4[0])\n",
    "\n",
    "\n",
    "time=np.hstack((time1,time2))\n",
    "count=np.hstack((count1,count2))\n",
    "time=time-time[0]\n",
    "\n",
    "\n",
    "print(\"tstart_header\",firststart)\n",
    "print(\"tzero\",time[0])\n",
    "print(\"tstart_mjd\",mjdrefI+mjdreffrac+(firststart)/86400)\n",
    "print(\"obs_mjd_zero\",mjdobsstart)\n",
    "print(\"Timesys\",Timesys)\n",
    "print(\"TIMEref\",Timeref)\n",
    "size=time.size\n",
    "print(\"during \",time[-1])\n",
    "print(size)\n",
    "tj=get_tj(time,count)\n",
    "N=tj.size\n",
    "print(tj.size)\n",
    "\n"
   ]
  },
  {
   "cell_type": "code",
   "execution_count": null,
   "metadata": {
    "ExecuteTime": {
     "end_time": "2018-05-29T14:53:10.359953Z",
     "start_time": "2018-05-29T14:53:10.182106Z"
    },
    "collapsed": false
   },
   "outputs": [],
   "source": [
    "plt.plot(time,count)"
   ]
  },
  {
   "cell_type": "code",
   "execution_count": null,
   "metadata": {
    "ExecuteTime": {
     "end_time": "2018-05-29T14:53:14.133708Z",
     "start_time": "2018-05-29T14:53:13.489920Z"
    },
    "collapsed": false
   },
   "outputs": [],
   "source": [
    "#x=np.linspace(0.00310985,0.00310987,2001)\n",
    "#x=np.linspace(0.00310946,0.00310948,2001)\n",
    "x=np.linspace(0.003,0.004,1001)\n",
    "x=np.linspace(0.003,0.0032,2001)\n",
    "#x=np.linspace(0.00311,0.003112,2001)\n",
    "#x=np.linspace(0.00311152,0.00311154,2001)\n",
    "#x=np.linspace(0.00311126,0.00311128,2001)\n",
    "x=np.linspace(0.0031101,0.0031103,2001)\n",
    "#x=np.linspace(0.00310971,0.00310973,2001)\n",
    "\n",
    "\n",
    "import os \n",
    "if os.path.exists(\"xrt%s.txt\"%xrtnum):\n",
    "    os.remove(\"xrt%s.txt\"%xrtnum)\n",
    "with open(\"xrt%s.txt\"%xrtnum,\"a\") as f:\n",
    "    for freq in x:       \n",
    "        f.write(str(ZetaN(freq,0))+'\\n')      \n",
    "\n",
    "y=np.loadtxt(\"xrt%s.txt\"%xrtnum,delimiter='\\n')\n",
    "#plt.xlim(0.003105,0.003120)\n",
    "plt.figure(1,figsize=(6,4))\n",
    "plt.xlabel('(freq-3.11mHZ) nHz')\n",
    "plt.ylabel('(Zn2)')\n",
    "plt.gca().xaxis.set_major_formatter(ticker.FormatStrFormatter('%.1f'))\n",
    "plt.plot((x-0.00311)*10**9,y)"
   ]
  },
  {
   "cell_type": "code",
   "execution_count": null,
   "metadata": {
    "ExecuteTime": {
     "end_time": "2018-05-29T14:53:16.155105Z",
     "start_time": "2018-05-29T14:53:15.515123Z"
    },
    "collapsed": false
   },
   "outputs": [],
   "source": [
    "zeromin=1\n",
    "freqmin=0.3\n",
    "for freq in x:\n",
    "    if ZetaN(freq,0)>zeromin:\n",
    "        zeromin=ZetaN(freq,0)\n",
    "        freqmin=freq\n",
    "print(freqmin,1/freqmin,zeromin) "
   ]
  },
  {
   "cell_type": "code",
   "execution_count": null,
   "metadata": {
    "collapsed": true
   },
   "outputs": [],
   "source": []
  },
  {
   "cell_type": "code",
   "execution_count": null,
   "metadata": {
    "collapsed": true
   },
   "outputs": [],
   "source": []
  },
  {
   "cell_type": "code",
   "execution_count": null,
   "metadata": {
    "ExecuteTime": {
     "end_time": "2018-05-18T16:11:43.676626Z",
     "start_time": "2018-05-18T16:11:43.672404Z"
    },
    "collapsed": false
   },
   "outputs": [],
   "source": [
    "1/0.0031101-1/0.00311011"
   ]
  },
  {
   "cell_type": "code",
   "execution_count": null,
   "metadata": {
    "ExecuteTime": {
     "end_time": "2018-05-15T10:28:34.854965Z",
     "start_time": "2018-05-15T10:28:34.849082Z"
    },
    "collapsed": false
   },
   "outputs": [],
   "source": [
    "0.0002*10**-3/14/365/86400\n"
   ]
  },
  {
   "cell_type": "code",
   "execution_count": null,
   "metadata": {
    "ExecuteTime": {
     "end_time": "2018-05-15T10:31:13.269543Z",
     "start_time": "2018-05-15T10:31:13.263521Z"
    },
    "collapsed": false
   },
   "outputs": [],
   "source": [
    "3*365*24*3600*10**-16*10**3"
   ]
  },
  {
   "cell_type": "code",
   "execution_count": null,
   "metadata": {
    "ExecuteTime": {
     "end_time": "2018-05-14T12:45:53.098459Z",
     "start_time": "2018-05-14T12:45:51.917336Z"
    },
    "collapsed": false,
    "scrolled": true
   },
   "outputs": [],
   "source": [
    "for freq in np.linspace(0.00311054,0.00311055,101):\n",
    "    print(freq,ZetaN(freq,0))"
   ]
  },
  {
   "cell_type": "code",
   "execution_count": null,
   "metadata": {
    "collapsed": true
   },
   "outputs": [],
   "source": [
    "resolution=0.000001\n",
    "num=1000\n",
    "pow=np.arange(num)\n",
    "max=1\n",
    "for freq in np.linspace(0.003,0.0032,201):\n",
    "    for mudot in np.linspace(1*10**-16,5*10**-16,41):\n",
    "        print(freq,mudot,chisq(50,freq,mudot))\n",
    "        if chisq(10,freq,mudot)>max:\n",
    "            max=chisq(50,freq,mudot)"
   ]
  },
  {
   "cell_type": "code",
   "execution_count": null,
   "metadata": {
    "ExecuteTime": {
     "end_time": "2018-05-21T13:18:14.542106Z",
     "start_time": "2018-05-21T13:18:14.536907Z"
    },
    "collapsed": false
   },
   "outputs": [],
   "source": [
    "\n"
   ]
  },
  {
   "cell_type": "code",
   "execution_count": null,
   "metadata": {
    "ExecuteTime": {
     "end_time": "2018-05-08T11:13:06.036167Z",
     "start_time": "2018-05-08T11:12:10.469412Z"
    },
    "collapsed": false
   },
   "outputs": [],
   "source": [
    "\n",
    "           "
   ]
  },
  {
   "cell_type": "code",
   "execution_count": null,
   "metadata": {
    "collapsed": true
   },
   "outputs": [],
   "source": []
  },
  {
   "cell_type": "code",
   "execution_count": null,
   "metadata": {
    "ExecuteTime": {
     "end_time": "2018-05-07T10:01:59.728327Z",
     "start_time": "2018-05-07T10:01:39.857409Z"
    },
    "collapsed": true
   },
   "outputs": [],
   "source": [
    "resolution=0.000001\n",
    "num=1000\n",
    "pow=np.arange(num)\n",
    "\n",
    "max=1\n",
    "for freq in np.linspace(0.003,0.0032,101):\n",
    "    for mudot in np.linspace(1*10**-16,5*10**-16,11):\n",
    "        print(freq,mudot,chisq(50,freq,mudot))\n",
    "        if chisq(10,freq,mudot)>max:\n",
    "            max=chisq(50,freq,mudot)\n",
    "           "
   ]
  },
  {
   "cell_type": "code",
   "execution_count": null,
   "metadata": {
    "ExecuteTime": {
     "end_time": "2018-05-07T10:21:29.447870Z",
     "start_time": "2018-05-07T10:21:29.417484Z"
    },
    "collapsed": false
   },
   "outputs": [],
   "source": [
    "freq=np.linspace(0.003,0.0032,101)\n",
    "mudot=np.linspace(1*10**-16,5*10**-16,11)\n",
    "ax.scatter(freq,mudot,chisq(50,freq,mudot))"
   ]
  },
  {
   "cell_type": "code",
   "execution_count": null,
   "metadata": {
    "ExecuteTime": {
     "end_time": "2018-05-07T10:16:19.662553Z",
     "start_time": "2018-05-07T10:16:19.264101Z"
    },
    "collapsed": false
   },
   "outputs": [],
   "source": [
    "data=np.loadtxt(\"/Users/brettlv/Desktop/fmudot.txt\")  \n",
    "print(data.shape)\n",
    "\n",
    "from mpl_toolkits.mplot3d import Axes3D\n",
    "fig=plt.figure()\n",
    "ax=fig.add_subplot(111,projection='3d')\n",
    "ax.scatter(data[:,0],data[:,1],data[:,2]) \n",
    "#ax.scatter(data[:,0],data[:,1],data[:,2])    "
   ]
  },
  {
   "cell_type": "code",
   "execution_count": null,
   "metadata": {
    "ExecuteTime": {
     "end_time": "2018-05-22T20:03:38.962671Z",
     "start_time": "2018-05-22T20:03:38.930313Z"
    },
    "collapsed": false
   },
   "outputs": [],
   "source": []
  },
  {
   "cell_type": "code",
   "execution_count": null,
   "metadata": {
    "ExecuteTime": {
     "end_time": "2018-05-03T09:42:11.831968Z",
     "start_time": "2018-05-03T09:42:11.800508Z"
    },
    "collapsed": false
   },
   "outputs": [],
   "source": [
    "\n"
   ]
  },
  {
   "cell_type": "code",
   "execution_count": null,
   "metadata": {
    "ExecuteTime": {
     "end_time": "2018-05-07T10:05:22.871315Z",
     "start_time": "2018-05-07T10:05:22.859436Z"
    },
    "collapsed": false
   },
   "outputs": [],
   "source": [
    "ZetaN(0.003112) \n",
    "1/0.003112"
   ]
  },
  {
   "cell_type": "code",
   "execution_count": null,
   "metadata": {
    "ExecuteTime": {
     "end_time": "2018-05-07T10:05:34.887073Z",
     "start_time": "2018-05-07T10:05:34.882130Z"
    },
    "collapsed": true
   },
   "outputs": [],
   "source": [
    "print('YYY')"
   ]
  },
  {
   "cell_type": "code",
   "execution_count": null,
   "metadata": {
    "ExecuteTime": {
     "end_time": "2018-05-07T20:26:19.778143Z",
     "start_time": "2018-05-07T20:26:19.762547Z"
    },
    "collapsed": false
   },
   "outputs": [],
   "source": [
    "121941636.6951582432-121941474.0838779807"
   ]
  },
  {
   "cell_type": "code",
   "execution_count": null,
   "metadata": {
    "ExecuteTime": {
     "end_time": "2018-05-15T20:37:35.070978Z",
     "start_time": "2018-05-15T20:37:35.050495Z"
    },
    "collapsed": false
   },
   "outputs": [],
   "source": [
    "12"
   ]
  },
  {
   "cell_type": "code",
   "execution_count": null,
   "metadata": {
    "ExecuteTime": {
     "end_time": "2018-05-15T20:40:54.380445Z",
     "start_time": "2018-05-15T20:40:54.376071Z"
    },
    "collapsed": false
   },
   "outputs": [],
   "source": [
    "(8+6/60+22.9/3600)*360/24"
   ]
  },
  {
   "cell_type": "code",
   "execution_count": null,
   "metadata": {
    "ExecuteTime": {
     "end_time": "2018-05-16T15:54:24.279335Z",
     "start_time": "2018-05-16T15:54:24.263325Z"
    },
    "collapsed": false
   },
   "outputs": [],
   "source": [
    "121941474.0838779807-121941636.6951582432"
   ]
  },
  {
   "cell_type": "code",
   "execution_count": null,
   "metadata": {
    "ExecuteTime": {
     "end_time": "2018-05-21T13:16:00.526776Z",
     "start_time": "2018-05-21T13:16:00.522487Z"
    },
    "collapsed": false
   },
   "outputs": [],
   "source": [
    "(3.11018201-3.11014267)/(55185.8956688-53009.8824927)/86400/1000"
   ]
  },
  {
   "cell_type": "code",
   "execution_count": null,
   "metadata": {
    "ExecuteTime": {
     "end_time": "2018-05-21T13:16:59.946295Z",
     "start_time": "2018-05-21T13:16:59.940445Z"
    },
    "collapsed": false
   },
   "outputs": [],
   "source": [
    "(3.10968012-3.11014267)/(52225.3552031-53009.8824927)/86400/1000"
   ]
  },
  {
   "cell_type": "code",
   "execution_count": null,
   "metadata": {
    "ExecuteTime": {
     "end_time": "2018-05-21T22:22:28.487152Z",
     "start_time": "2018-05-21T22:22:28.481866Z"
    },
    "collapsed": false
   },
   "outputs": [],
   "source": [
    "4*10**-16*86400*365"
   ]
  },
  {
   "cell_type": "markdown",
   "metadata": {},
   "source": [
    "Dataset mid HJD Period \n",
    "ROSAT 2449738.010 321.54629 ± 0.00008 sec \n",
    "VLT+NOT 2001-02 2452281.416 321.53314 ± 0.00034 sec \n",
    "NOT 2003 2452649.529 321.53007 ± 0.00060 sec \n",
    "INT+NOT 2003-2004 2453030.395 321.52832 ± 0.00044 sec"
   ]
  },
  {
   "cell_type": "code",
   "execution_count": null,
   "metadata": {
    "ExecuteTime": {
     "end_time": "2018-05-22T20:04:25.652917Z",
     "start_time": "2018-05-22T20:04:25.646293Z"
    },
    "collapsed": false
   },
   "outputs": [],
   "source": [
    "np.arange(5)"
   ]
  },
  {
   "cell_type": "code",
   "execution_count": null,
   "metadata": {
    "ExecuteTime": {
     "end_time": "2018-05-29T14:29:10.293012Z",
     "start_time": "2018-05-29T14:29:10.287656Z"
    },
    "collapsed": false
   },
   "outputs": [],
   "source": [
    "topticalHJD=np.array([2449738.010,2452281.416,2452649.529,2453030.395])\n",
    "topticalMHJD=topticalHJD-2400000.5\n",
    "poptical=np.array([321.54629,321.53314,321.53007,321.52832])\n",
    "erroptical=np.array([0.00008,0.00034,0.0006,0.00044])\n",
    "errmu=erroptical*10**-5\n",
    "muoptical=1/poptical"
   ]
  },
  {
   "cell_type": "code",
   "execution_count": null,
   "metadata": {
    "ExecuteTime": {
     "end_time": "2018-05-29T14:29:11.868176Z",
     "start_time": "2018-05-29T14:29:11.679871Z"
    },
    "collapsed": false
   },
   "outputs": [],
   "source": []
  },
  {
   "cell_type": "code",
   "execution_count": null,
   "metadata": {
    "ExecuteTime": {
     "end_time": "2018-05-29T14:42:05.191604Z",
     "start_time": "2018-05-29T14:42:05.181653Z"
    },
    "collapsed": false
   },
   "outputs": [],
   "source": [
    "xraychandratime=np.array([52225.3552,53009.88249,53724.14914,53880.54515,55185.89567])#01,04,05,06,09\n",
    "xraychandrafreq=np.array([3.10968012,3.11014267,3.1096994,3.1106808,3.11020201])*0.001\n",
    "\n",
    "\n",
    "xraychandracombinetime=np.array([53009.88249,55185.89567])\n",
    "xraychandracombinefreq=np.array([3.11014267,3.11018201])*0.001\n",
    "xraychandrap=1/xraychandracombinefreq\n",
    "\n",
    "xrayxmmtime=np.array([52580.39238,53314.72095,54744.886,56212.99029,57496.37908])\n",
    "xrayxmmfreq=np.array([3.1102987,3.1098837,3.1098568,3.109474,3.1107573])*0.001\n",
    "\n",
    "xrayxrttime=np.array([53623.056319,54617.801658824,55285.040267])\n",
    "xrayxrtfreq=np.array([3.11015016,3.1102807,3.1102389])*0.001\n",
    "\n",
    "\n"
   ]
  },
  {
   "cell_type": "code",
   "execution_count": null,
   "metadata": {
    "ExecuteTime": {
     "end_time": "2018-05-29T14:42:06.984444Z",
     "start_time": "2018-05-29T14:42:06.786139Z"
    },
    "collapsed": false
   },
   "outputs": [],
   "source": [
    "plt.errorbar(topticalMHJD,poptical,erroptical,fmt='.-')\n",
    "plt.scatter(xraychandracombinetime,xraychandrap)\n",
    "plt.gca().xaxis.set_major_formatter(ticker.FormatStrFormatter('%.1f'))\n",
    "plt.gca().yaxis.set_major_formatter(ticker.FormatStrFormatter('%.3f'))"
   ]
  },
  {
   "cell_type": "code",
   "execution_count": null,
   "metadata": {
    "ExecuteTime": {
     "end_time": "2018-05-29T14:43:38.197627Z",
     "start_time": "2018-05-29T14:43:37.923148Z"
    },
    "collapsed": false,
    "scrolled": false
   },
   "outputs": [],
   "source": [
    "a=10\n",
    "b=a*0.618\n",
    "plt.figure(figsize=(a,b))\n",
    "type1=plt.errorbar(topticalMHJD,muoptical,xerr=0,yerr=errmu,fmt='.-',ecolor='red')\n",
    "type2=plt.scatter(xraychandratime,xraychandrafreq,s=50,c='b',marker='*')\n",
    "type3=plt.scatter(xrayxmmtime,xrayxmmfreq,s=100,c='g',marker='+')\n",
    "type4=plt.scatter(xrayxrttime,xrayxrtfreq,s=50,c='y',marker='v')\n",
    "\n",
    "plt.xlabel(\"TIME/MJD\")\n",
    "plt.ylabel(\"FREQ/Hz\")\n",
    "plt.gca().xaxis.set_major_formatter(ticker.FormatStrFormatter('%.1f'))\n",
    "plt.gca().yaxis.set_major_formatter(ticker.FormatStrFormatter('%.8f'))\n",
    "plt.legend((type1,type2,type3,type4),('Optical','Chandra','XMM','XRT'))\n",
    "\n",
    "mu0=0.0031101425     # HZ   \n",
    "t0=53009.889943753 #MJD(TDB)\n",
    "mudot=4*10**-16\n",
    "detat=30*np.arange(365)-4000\n",
    "t=detat+t0\n",
    "mu=mu0+detat*86400*mudot\n",
    "plt.plot(t,mu,c=\"y\")\n"
   ]
  },
  {
   "cell_type": "code",
   "execution_count": null,
   "metadata": {
    "ExecuteTime": {
     "end_time": "2018-05-29T14:31:53.391920Z",
     "start_time": "2018-05-29T14:31:53.202233Z"
    },
    "collapsed": false
   },
   "outputs": [],
   "source": []
  },
  {
   "cell_type": "code",
   "execution_count": null,
   "metadata": {
    "ExecuteTime": {
     "end_time": "2018-05-23T18:05:57.727862Z",
     "start_time": "2018-05-23T18:05:57.707174Z"
    },
    "collapsed": false
   },
   "outputs": [],
   "source": [
    "3.1108-3.1096"
   ]
  },
  {
   "cell_type": "code",
   "execution_count": null,
   "metadata": {
    "ExecuteTime": {
     "end_time": "2018-05-23T18:13:58.129746Z",
     "start_time": "2018-05-23T18:13:57.851191Z"
    },
    "collapsed": false
   },
   "outputs": [],
   "source": [
    "import matplotlib.pyplot as plt\n",
    "from pylab import *\n",
    "\n",
    "a=10\n",
    "b=a*0.618\n",
    "plt.figure(figsize=(a,b))\n",
    "type1=plt.errorbar(topticalMHJD,muoptical,xerr=0,yerr=errmu,fmt='.-',ecolor='red')\n",
    "type2=plt.scatter(xraychandracombinetime,xraychandracombinefreq,s=50,c='b',marker='*')\n",
    "#type3=plt.scatter(xrayxmmtime,xrayxmmfreq,s=100,c='g',marker='+')\n",
    "\n",
    "plt.title(\"mu-t\")\n",
    "plt.xlabel(\"TIME/MJD\")\n",
    "plt.ylabel(\"FREQ/Hz\")\n",
    "plt.gca().xaxis.set_major_formatter(ticker.FormatStrFormatter('%.1f'))\n",
    "plt.gca().yaxis.set_major_formatter(ticker.FormatStrFormatter('%.8f'))\n",
    "#plt.annotate(\"combined04chandra\",xytext=(xraychandracombinetime[0]-500,xraychandracombinefreq[0]+3*10**-8),xy=(xraychandracombinetime[0],xraychandracombinefreq[0]),arrowprops=dict(facecolor='black',shrink=0.01),)\n",
    "#plt.annotate(\"combined09chandra\",xytext=(xraychandracombinetime[1]-500,xraychandracombinefreq[1]+3*10**-8),xy=(xraychandracombinetime[1],xraychandracombinefreq[1]),arrowprops=dict(facecolor='black',shrink=0.01),)\n",
    "\n",
    "\n",
    "plt.legend((type1,type2,type3),('Optical','Chandra','XMM'))\n",
    "plt.grid(color='grey',linestyle='--',axis='both',alpha=0.3)\n",
    "\n",
    "plt.style.use('ggplot')\n",
    "#plt.style.use('seaborn-whitegrid')\n",
    "#plt.show()"
   ]
  },
  {
   "cell_type": "code",
   "execution_count": null,
   "metadata": {
    "ExecuteTime": {
     "end_time": "2018-05-23T16:56:32.160610Z",
     "start_time": "2018-05-23T16:56:31.980742Z"
    },
    "collapsed": false,
    "scrolled": true
   },
   "outputs": [],
   "source": [
    "\n",
    "plt.errorbar(topticalMHJD,muoptical,xerr=0,yerr=errmu,fmt='',marker='.',ecolor='red')\n",
    "plt.gca().xaxis.set_major_formatter(ticker.FormatStrFormatter('%.1f'))\n",
    "plt.gca().yaxis.set_major_formatter(ticker.FormatStrFormatter('%.8f'))\n"
   ]
  },
  {
   "cell_type": "code",
   "execution_count": null,
   "metadata": {
    "ExecuteTime": {
     "end_time": "2018-05-23T18:18:45.628567Z",
     "start_time": "2018-05-23T18:18:45.623462Z"
    },
    "collapsed": false
   },
   "outputs": [],
   "source": [
    "0.00006/86400/1000/(xraychandracombinetime[1]-xraychandracombinetime[0])"
   ]
  },
  {
   "cell_type": "code",
   "execution_count": null,
   "metadata": {
    "ExecuteTime": {
     "end_time": "2018-05-23T18:27:09.201825Z",
     "start_time": "2018-05-23T18:27:09.197826Z"
    },
    "collapsed": false
   },
   "outputs": [],
   "source": [
    "86400*10*365"
   ]
  },
  {
   "cell_type": "code",
   "execution_count": null,
   "metadata": {
    "ExecuteTime": {
     "end_time": "2018-05-23T14:05:06.580022Z",
     "start_time": "2018-05-23T14:05:06.395389Z"
    },
    "collapsed": false
   },
   "outputs": [],
   "source": [
    "xx=np.arange(100)/10\n",
    "yy=np.sin(xx)\n",
    "plt.scatter(xx,yy)\n",
    "plt.scatter(xx,2*yy)\n",
    "plt.scatter(5,1)\n"
   ]
  },
  {
   "cell_type": "code",
   "execution_count": null,
   "metadata": {
    "collapsed": true
   },
   "outputs": [],
   "source": [
    "#ax1 = plt.subplot(121)\n",
    "#ax2 = plt.subplot(122)\n",
    "np.finfo(np.longdouble),np.finfo(np.float64),np.finfo(np.float32)\n",
    "xarr=np.array([1.1,1.2])\n",
    "type(xarr[0]),type(xarr[1]),type(xarr)"
   ]
  }
 ],
 "metadata": {
  "kernelspec": {
   "display_name": "Python 3",
   "language": "python",
   "name": "python3"
  },
  "language_info": {
   "codemirror_mode": {
    "name": "ipython",
    "version": 3
   },
   "file_extension": ".py",
   "mimetype": "text/x-python",
   "name": "python",
   "nbconvert_exporter": "python",
   "pygments_lexer": "ipython3",
   "version": "3.6.0"
  },
  "latex_envs": {
   "LaTeX_envs_menu_present": true,
   "autocomplete": true,
   "bibliofile": "biblio.bib",
   "cite_by": "apalike",
   "current_citInitial": 1,
   "eqLabelWithNumbers": true,
   "eqNumInitial": 1,
   "hotkeys": {
    "equation": "Ctrl-E",
    "itemize": "Ctrl-I"
   },
   "labels_anchors": false,
   "latex_user_defs": false,
   "report_style_numbering": false,
   "user_envs_cfg": false
  },
  "toc": {
   "nav_menu": {},
   "number_sections": true,
   "sideBar": true,
   "skip_h1_title": false,
   "toc_cell": false,
   "toc_position": {},
   "toc_section_display": "block",
   "toc_window_display": false
  }
 },
 "nbformat": 4,
 "nbformat_minor": 2
}
