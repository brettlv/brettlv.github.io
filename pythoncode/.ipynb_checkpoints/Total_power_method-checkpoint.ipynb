{
 "cells": [
  {
   "cell_type": "code",
   "execution_count": 2,
   "metadata": {
    "ExecuteTime": {
     "end_time": "2019-03-20T16:50:20.655182Z",
     "start_time": "2019-03-20T16:50:17.774383Z"
    },
    "collapsed": true
   },
   "outputs": [],
   "source": [
    "%matplotlib inline\n",
    "%config InlineBackend.figure_format='svg'\n",
    "#%config InlineBackend.figure_format='retina'\n",
    "\n",
    "import matplotlib.pyplot as plt\n",
    "import numpy as np\n",
    "import pandas as pd\n",
    "from astropy.stats import LombScargle\n",
    "\n",
    "from scipy import integrate\n",
    "import astropy\n",
    "from astropy.time import Time\n",
    "\n",
    "import pyfits\n",
    "%matplotlib inline\n",
    "plt.style.use('seaborn-whitegrid')\n",
    "\n",
    "\n",
    "import matplotlib.pyplot as plt\n",
    "import numpy as np\n",
    "import pandas as pd\n",
    "from astropy.stats import LombScargle\n",
    "import matplotlib.ticker as ticker"
   ]
  },
  {
   "cell_type": "code",
   "execution_count": null,
   "metadata": {
    "ExecuteTime": {
     "end_time": "2019-03-20T16:50:25.201385Z",
     "start_time": "2019-03-20T16:50:25.188290Z"
    },
    "collapsed": false
   },
   "outputs": [],
   "source": []
  },
  {
   "cell_type": "code",
   "execution_count": null,
   "metadata": {
    "collapsed": true
   },
   "outputs": [],
   "source": [
    "def get_tj(time,count):\n",
    "    tj=[]\n",
    "    for j in np.arange(time.size):\n",
    "        if count[j]>0:\n",
    "            tj.append(time[j]) \n",
    "    tj=np.array(tj)        \n",
    "    return tj\n",
    "\n",
    "def Integrate_phi(freqref,mudot):\n",
    "    return 2*np.pi*(freqref*tj+0.5*mudot*tj**2) \n",
    "   \n",
    "    \n",
    "\n",
    "def get_phal(M,freqref,mudot):\n",
    "    m=int(N/M)-1\n",
    "    phi=Integrate_phi(freqref,mudot)\n",
    "    phal=np.arange(M)\n",
    "    for l in np.arange(M):\n",
    "        phil=phi[l*m:(l+1)*m]\n",
    "        phal[l]=np.arctan((np.sum(np.sin(phil))+np.sum(np.sin(2*phil))+np.sum(np.sin(3*phil)))/(np.sum(np.cos(phil))+np.sum(np.cos(2*phil))+np.sum(np.cos(3*phil))))        \n",
    "    return phal  \n",
    "\n",
    "def ZetaN(freqref,mudot):\n",
    "    phi=Integrate_phi(freqref,mudot) \n",
    "    #n=3\n",
    "    zeta3N=(np.sum(np.cos(phi)))**2+(np.sum(np.sin(phi)))**2+(np.sum(np.cos(2*phi)))**2+(np.sum(np.sin(2*phi)))**2+(np.sum(np.cos(3*phi)))**2+(np.sum(np.sin(3*phi)))**2\n",
    "    #n=2\n",
    "    zeta2N=(np.sum(np.cos(phi)))**2+(np.sum(np.sin(phi)))**2+(np.sum(np.cos(2*phi)))**2+(np.sum(np.sin(2*phi)))**2\n",
    "    Zeta3N=zeta3N*2/N\n",
    "    Zeta2N=zeta2N*2/N\n",
    "    return Zeta3N,Zeta2N \n",
    "\n",
    "def chisq(M,freqref,mudot):\n",
    "    phal=get_phal(M,freqref,mudot)\n",
    "    #ZetaN2=ZetaN(freqref,mudot)\n",
    "    chisq=(np.sum(phal**2)-np.sum(phal)**2/M)\n",
    "    return chisq\n"
   ]
  },
  {
   "cell_type": "code",
   "execution_count": null,
   "metadata": {
    "collapsed": true
   },
   "outputs": [],
   "source": [
    "def get_time(gtistart,gtistop,time,count):\n",
    "    new_time=[]\n",
    "    new_count=[]\n",
    "    for index,(time_ ,count_)in enumerate(zip(time,count)):\n",
    "        if time_ >= gtistart and time_ <= gtistop:\n",
    "            new_time.append(time_)\n",
    "            new_count.append(count_)\n",
    "    return new_time,new_count   \n"
   ]
  },
  {
   "cell_type": "code",
   "execution_count": null,
   "metadata": {
    "collapsed": true
   },
   "outputs": [],
   "source": [
    "lightcurve=pyfits.open('/Volumes/Brettlv_G_m/RX_J0806/4523/primary/src_lc_paper.fits')"
   ]
  },
  {
   "cell_type": "code",
   "execution_count": null,
   "metadata": {
    "collapsed": true
   },
   "outputs": [],
   "source": [
    "new_time,new_count=get_time(gtistart,gtistop,time,count)\n",
    "print(new_time[0],new_time[-1])\n",
    "print(\"gti_mjd_start\",mjdzero+new_time[0]/86400)\n",
    "print(\"gti_mjd_stop\",mjdzero+new_time[-1]/86400)\n",
    "plt.plot(new_time,new_count)\n",
    "for index,start in enumerate(gtistart):\n",
    "    plt.axvline(start,c='g')\n",
    "    plt.axvline(gtistop[index],c='b')  "
   ]
  },
  {
   "cell_type": "code",
   "execution_count": null,
   "metadata": {
    "collapsed": true
   },
   "outputs": [],
   "source": [
    "new_time=new_time-new_time[0]\n",
    "print(time.size)\n",
    "tj=get_tj(new_time,new_count)\n",
    "N=tj.size\n",
    "print(tj.size)\n",
    "x=np.linspace(0.003,0.004,1001)\n",
    "#x=np.linspace(0.00311,0.003112,1001)\n",
    "#x=np.linspace(0.003110303,0.003110305,2001)\n",
    "#x=np.linspace(0.00310,0.00312,2001)\n",
    "#x=np.linspace(0.00310967,0.00310969,2001)\n",
    "#x=np.linspace(0.00311017,0.00311019,2001)\n",
    "\n",
    "import os \n",
    "if os.path.exists(\"chandra%s.txt\"%num):\n",
    "    os.remove(\"chandra%s.txt\"%num)\n",
    "with open(\"chandra%s.txt\"%num,\"a\") as f:\n",
    "    for freq in x:       \n",
    "        f.write(str(ZetaN(freq,0))+'\\n')      \n",
    "\n",
    "y=np.loadtxt(\"chandra%s.txt\"%num,delimiter='\\n')\n",
    "#plt.xlim(0.003105,0.003120)\n",
    "plt.figure(1,figsize=(4,3))\n",
    "plt.xlabel('freq,mHz')\n",
    "plt.ylabel('(Zn2)')\n",
    "plt.gca().xaxis.set_major_formatter(ticker.FormatStrFormatter('%.4f'))\n",
    "plt.plot(x*1000,y)"
   ]
  },
  {
   "cell_type": "code",
   "execution_count": null,
   "metadata": {
    "collapsed": true
   },
   "outputs": [],
   "source": []
  },
  {
   "cell_type": "code",
   "execution_count": null,
   "metadata": {
    "collapsed": true
   },
   "outputs": [],
   "source": []
  }
 ],
 "metadata": {
  "kernelspec": {
   "display_name": "Python 3",
   "language": "python",
   "name": "python3"
  },
  "language_info": {
   "codemirror_mode": {
    "name": "ipython",
    "version": 3
   },
   "file_extension": ".py",
   "mimetype": "text/x-python",
   "name": "python",
   "nbconvert_exporter": "python",
   "pygments_lexer": "ipython3",
   "version": "3.6.0"
  },
  "latex_envs": {
   "LaTeX_envs_menu_present": true,
   "autocomplete": true,
   "bibliofile": "biblio.bib",
   "cite_by": "apalike",
   "current_citInitial": 1,
   "eqLabelWithNumbers": true,
   "eqNumInitial": 1,
   "hotkeys": {
    "equation": "Ctrl-E",
    "itemize": "Ctrl-I"
   },
   "labels_anchors": false,
   "latex_user_defs": false,
   "report_style_numbering": false,
   "user_envs_cfg": false
  },
  "toc": {
   "nav_menu": {},
   "number_sections": true,
   "sideBar": true,
   "skip_h1_title": false,
   "toc_cell": false,
   "toc_position": {},
   "toc_section_display": "block",
   "toc_window_display": false
  }
 },
 "nbformat": 4,
 "nbformat_minor": 2
}
