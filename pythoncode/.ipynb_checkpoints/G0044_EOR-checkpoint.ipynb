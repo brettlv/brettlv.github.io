{
 "cells": [
  {
   "cell_type": "code",
   "execution_count": 6,
   "metadata": {
    "ExecuteTime": {
     "end_time": "2020-12-23T03:03:29.238143Z",
     "start_time": "2020-12-23T03:03:29.160332Z"
    },
    "scrolled": false
   },
   "outputs": [],
   "source": [
    "import pandas as pd\n",
    "import xml.etree.ElementTree as ET\n",
    "from astropy.io import fits\n",
    "\n",
    "from astropy.io.votable import parse\n",
    "from astropy.io.votable import parse_single_table\n",
    "from astropy.io.votable.tree import VOTableFile, Resource, Table, Field\n",
    "from astropy.io import fits\n",
    "\n",
    "\n",
    "import matplotlib.pyplot as plt\n",
    "import numpy as np\n",
    "from pylab import cm\n",
    "\n",
    "%matplotlib inline\n",
    "%config InlineBackend.figure_format='svg'    "
   ]
  },
  {
   "cell_type": "code",
   "execution_count": 10,
   "metadata": {
    "ExecuteTime": {
     "end_time": "2020-12-23T03:05:33.995630Z",
     "start_time": "2020-12-23T03:05:33.955193Z"
    }
   },
   "outputs": [],
   "source": [
    "G0044_conversion=pd.read_csv('/Users/brettlv/Downloads/mwa_paper/mwa_cover/MWAdata/export_conversion/G0044_conversion.csv')"
   ]
  },
  {
   "cell_type": "code",
   "execution_count": 11,
   "metadata": {
    "ExecuteTime": {
     "end_time": "2020-12-23T03:05:48.728052Z",
     "start_time": "2020-12-23T03:05:48.715417Z"
    }
   },
   "outputs": [],
   "source": [
    "G0044_download=pd.read_csv('/Users/brettlv/Downloads/mwa_paper/mwa_cover/MWAdata/export_conversion/G0044_download_mwa_vis_job.csv')"
   ]
  },
  {
   "cell_type": "code",
   "execution_count": 12,
   "metadata": {
    "ExecuteTime": {
     "end_time": "2020-12-23T03:06:04.369942Z",
     "start_time": "2020-12-23T03:06:04.363860Z"
    }
   },
   "outputs": [
    {
     "data": {
      "text/plain": [
       "(3686, 3686)"
      ]
     },
     "execution_count": 12,
     "metadata": {},
     "output_type": "execute_result"
    }
   ],
   "source": [
    "len(G0044_conversion),len(G0044_download)"
   ]
  },
  {
   "cell_type": "code",
   "execution_count": null,
   "metadata": {},
   "outputs": [],
   "source": []
  },
  {
   "cell_type": "code",
   "execution_count": 13,
   "metadata": {
    "ExecuteTime": {
     "end_time": "2020-12-23T03:06:08.228169Z",
     "start_time": "2020-12-23T03:06:07.900226Z"
    }
   },
   "outputs": [],
   "source": [
    "path = '/Users/brettlv/Downloads/mwa_paper/mwa_cover/MWAdata/project/G0044.xml'\n",
    "votable = parse(path)\n",
    "table = parse_single_table(path).to_table()"
   ]
  },
  {
   "cell_type": "code",
   "execution_count": 14,
   "metadata": {
    "ExecuteTime": {
     "end_time": "2020-12-23T03:06:09.939052Z",
     "start_time": "2020-12-23T03:06:09.832083Z"
    }
   },
   "outputs": [
    {
     "data": {
      "text/html": [
       "<i>Table length=500</i>\n",
       "<table id=\"table4880467616\" class=\"table-striped table-bordered table-condensed\">\n",
       "<thead><tr><th>obs_id</th><th>starttime</th><th>stoptime</th><th>duration</th><th>starttime_mjd</th><th>stoptime_mjd</th><th>starttime_utc</th><th>stoptime_utc</th><th>starttime_mro</th><th>stoptime_mro</th><th>obsname</th><th>creator</th><th>modtime</th><th>mode</th><th>projectid</th><th>projectshortname</th><th>projectdescription</th><th>dataquality</th><th>dataqualityname</th><th>dataqualitycomment</th><th>deleted_flag</th><th>vcs_recombined_flag</th><th>int_time</th><th>freq_res</th><th>ra</th><th>dec</th><th>ra_pointing</th><th>dec_pointing</th><th>ra_phase_center</th><th>dec_phase_center</th><th>azimuth_pointing</th><th>elevation_pointing</th><th>azimuth</th><th>elevation</th><th>sky_temp</th><th>calibration</th><th>calibrators</th><th>gridpoint_name</th><th>gridpoint_number</th><th>local_sidereal_time_deg</th><th>sun_elevation</th><th>sun_pointing_distance</th><th>jupiter_pointing_distance</th><th>moon_pointing_distance</th><th>first_channel_number</th><th>center_channel_number</th><th>last_channel_number</th><th>first_channel_lowest_frequency_mhz</th><th>center_frequency_mhz</th><th>last_channel_highest_frequency_mhz</th><th>channels_are_contiguous</th><th>channel_count</th><th>channel_width_mhz</th><th>mwa_array_configuration</th><th>groupid</th><th>vcs_files_raw_total</th><th>vcs_files_raw_archived</th><th>vcs_files_ics_archived</th><th>vcs_files_tar_archived</th><th>gpubox_files_total</th><th>gpubox_files_archived</th><th>flag_files_exist</th><th>total_archived_data_bytes</th><th>files_deleted</th><th>files_deleted_bytes</th><th>data_files_summary</th></tr></thead>\n",
       "<thead><tr><th>int64</th><th>int64</th><th>int64</th><th>int32</th><th>float32</th><th>float32</th><th>object</th><th>object</th><th>object</th><th>object</th><th>bytes255</th><th>bytes255</th><th>object</th><th>bytes50</th><th>bytes50</th><th>bytes255</th><th>bytes255</th><th>int32</th><th>bytes255</th><th>bytes2048</th><th>bool</th><th>bool</th><th>float32</th><th>float32</th><th>float32</th><th>float32</th><th>float32</th><th>float32</th><th>float32</th><th>float32</th><th>float32</th><th>float32</th><th>float32</th><th>float32</th><th>float32</th><th>bool</th><th>bytes255</th><th>bytes50</th><th>int32</th><th>float32</th><th>float32</th><th>float32</th><th>float32</th><th>float32</th><th>int32</th><th>int32</th><th>int32</th><th>float32</th><th>float32</th><th>float32</th><th>bool</th><th>int32</th><th>float32</th><th>object</th><th>int64</th><th>int64</th><th>int64</th><th>int64</th><th>int64</th><th>int64</th><th>int64</th><th>bool</th><th>int64</th><th>int64</th><th>int64</th><th>bytes255</th></tr></thead>\n",
       "<tr><td>1194193272</td><td>1194193272</td><td>1194193392</td><td>120</td><td>58065.68</td><td>58065.684</td><td>2017-11-08T16:20:54.000Z</td><td>2017-11-08T16:22:54.000Z</td><td>2017-11-09T00:20:54.000Z</td><td>2017-11-09T00:22:54.000Z</td><td>PicA_69</td><td>msok</td><td>2020-10-23T05:14:34.482Z</td><td>HW_LFILES</td><td>G0044</td><td>EoR SKA Fields</td><td>(PI Q. Zheng) Deep Imaging of Two Selected EoR Fields: Preparing for SKA</td><td>1</td><td>Good</td><td></td><td>False</td><td>False</td><td>0.5</td><td>10.0</td><td>79.95455</td><td>-44.93833</td><td>79.95455</td><td>-44.93833</td><td>79.957</td><td>-45.779</td><td>135.0</td><td>59.8018</td><td>135.0</td><td>59.8018</td><td>965.32117</td><td>True</td><td>PicA</td><td>sweet</td><td>58</td><td>49.938274</td><td>-46.16249</td><td>110.1408</td><td>109.104034</td><td>70.54849</td><td>57</td><td>68</td><td>80</td><td>72.32</td><td>86.4</td><td>103.04</td><td>True</td><td>24</td><td>1.28</td><td>Phase II Extended</td><td>1194193272</td><td>0</td><td>0</td><td>0</td><td>0</td><td>48</td><td>48</td><td>True</td><td>68125144902</td><td>0</td><td>0</td><td>48</td></tr>\n",
       "<tr><td>1194193392</td><td>1194193392</td><td>1194193512</td><td>120</td><td>58065.684</td><td>58065.684</td><td>2017-11-08T16:22:54.000Z</td><td>2017-11-08T16:24:54.000Z</td><td>2017-11-09T00:22:54.000Z</td><td>2017-11-09T00:24:54.000Z</td><td>PicA_93</td><td>msok</td><td>2020-10-27T07:54:10.945Z</td><td>HW_LFILES</td><td>G0044</td><td>EoR SKA Fields</td><td>(PI Q. Zheng) Deep Imaging of Two Selected EoR Fields: Preparing for SKA</td><td>1</td><td>Good</td><td></td><td>False</td><td>False</td><td>0.5</td><td>10.0</td><td>80.45608</td><td>-44.93751</td><td>80.45608</td><td>-44.93751</td><td>79.957</td><td>-45.779</td><td>135.0</td><td>59.8018</td><td>135.0</td><td>59.8018</td><td>444.2463</td><td>True</td><td>PicA</td><td>sweet</td><td>58</td><td>50.439644</td><td>-46.094894</td><td>109.92479</td><td>108.83852</td><td>70.379295</td><td>81</td><td>92</td><td>104</td><td>103.04</td><td>117.12</td><td>133.76</td><td>True</td><td>24</td><td>1.28</td><td>Phase II Extended</td><td>1194193272</td><td>0</td><td>0</td><td>0</td><td>0</td><td>48</td><td>48</td><td>True</td><td>65070526307</td><td>0</td><td>0</td><td>48</td></tr>\n",
       "<tr><td>1194193512</td><td>1194193512</td><td>1194193632</td><td>120</td><td>58065.684</td><td>58065.688</td><td>2017-11-08T16:24:54.000Z</td><td>2017-11-08T16:26:54.000Z</td><td>2017-11-09T00:24:54.000Z</td><td>2017-11-09T00:26:54.000Z</td><td>PicA_121</td><td>msok</td><td>2020-10-27T07:54:10.945Z</td><td>HW_LFILES</td><td>G0044</td><td>EoR SKA Fields</td><td>(PI Q. Zheng) Deep Imaging of Two Selected EoR Fields: Preparing for SKA</td><td>1</td><td>Good</td><td></td><td>False</td><td>False</td><td>0.5</td><td>10.0</td><td>80.9576</td><td>-44.93669</td><td>80.9576</td><td>-44.93669</td><td>79.957</td><td>-45.779</td><td>135.0</td><td>59.8018</td><td>135.0</td><td>59.8018</td><td>224.09776</td><td>True</td><td>PicA</td><td>sweet</td><td>58</td><td>50.941013</td><td>-46.0232</td><td>109.71013</td><td>108.57561</td><td>70.21518</td><td>109</td><td>120</td><td>132</td><td>138.88</td><td>152.96</td><td>169.6</td><td>True</td><td>24</td><td>1.28</td><td>Phase II Extended</td><td>1194193272</td><td>0</td><td>0</td><td>0</td><td>0</td><td>48</td><td>48</td><td>True</td><td>63063498323</td><td>0</td><td>0</td><td>48</td></tr>\n",
       "<tr><td>1194193632</td><td>1194193632</td><td>1194193752</td><td>120</td><td>58065.688</td><td>58065.688</td><td>2017-11-08T16:26:54.000Z</td><td>2017-11-08T16:28:54.000Z</td><td>2017-11-09T00:26:54.000Z</td><td>2017-11-09T00:28:54.000Z</td><td>PicA_145</td><td>msok</td><td>2020-10-27T07:54:10.945Z</td><td>HW_LFILES</td><td>G0044</td><td>EoR SKA Fields</td><td>(PI Q. Zheng) Deep Imaging of Two Selected EoR Fields: Preparing for SKA</td><td>1</td><td>Good</td><td></td><td>False</td><td>False</td><td>0.5</td><td>10.0</td><td>81.45912</td><td>-44.93587</td><td>81.45912</td><td>-44.93587</td><td>79.957</td><td>-45.779</td><td>135.0</td><td>59.8018</td><td>135.0</td><td>59.8018</td><td>139.99828</td><td>True</td><td>PicA</td><td>sweet</td><td>58</td><td>51.442383</td><td>-45.945026</td><td>109.48965</td><td>108.30648</td><td>70.05067</td><td>133</td><td>144</td><td>156</td><td>169.6</td><td>183.68001</td><td>200.31999</td><td>True</td><td>24</td><td>1.28</td><td>Phase II Extended</td><td>1194193272</td><td>0</td><td>0</td><td>0</td><td>0</td><td>48</td><td>48</td><td>True</td><td>63971559048</td><td>0</td><td>0</td><td>48</td></tr>\n",
       "<tr><td>1194193752</td><td>1194193752</td><td>1194193872</td><td>120</td><td>58065.688</td><td>58065.688</td><td>2017-11-08T16:28:54.000Z</td><td>2017-11-08T16:30:54.000Z</td><td>2017-11-09T00:28:54.000Z</td><td>2017-11-09T00:30:54.000Z</td><td>PicA_169</td><td>msok</td><td>2020-10-27T07:54:10.945Z</td><td>HW_LFILES</td><td>G0044</td><td>EoR SKA Fields</td><td>(PI Q. Zheng) Deep Imaging of Two Selected EoR Fields: Preparing for SKA</td><td>1</td><td>Good</td><td></td><td>False</td><td>False</td><td>0.5</td><td>10.0</td><td>81.960625</td><td>-44.935047</td><td>81.960625</td><td>-44.935047</td><td>79.957</td><td>-45.779</td><td>135.0</td><td>59.8018</td><td>135.0</td><td>59.8018</td><td>94.01</td><td>True</td><td>PicA</td><td>sweet</td><td>58</td><td>51.943752</td><td>-45.862984</td><td>109.27063</td><td>108.04008</td><td>69.8912</td><td>157</td><td>168</td><td>180</td><td>200.32</td><td>214.4</td><td>231.04</td><td>True</td><td>24</td><td>1.28</td><td>Phase II Extended</td><td>1194193272</td><td>0</td><td>0</td><td>0</td><td>0</td><td>48</td><td>48</td><td>True</td><td>62038232090</td><td>0</td><td>0</td><td>48</td></tr>\n",
       "<tr><td>1194193872</td><td>1194193872</td><td>1194193992</td><td>120</td><td>58065.688</td><td>58065.69</td><td>2017-11-08T16:30:54.000Z</td><td>2017-11-08T16:32:54.000Z</td><td>2017-11-09T00:30:54.000Z</td><td>2017-11-09T00:32:54.000Z</td><td>SKAEOR15_69</td><td>msok</td><td>2020-10-27T07:54:10.945Z</td><td>HW_LFILES</td><td>G0044</td><td>EoR SKA Fields</td><td>(PI Q. Zheng) Deep Imaging of Two Selected EoR Fields: Preparing for SKA</td><td>1</td><td>Good</td><td></td><td>False</td><td>False</td><td>0.5</td><td>10.0</td><td>73.49247</td><td>-11.238629</td><td>73.49247</td><td>-11.238629</td><td>72.50415</td><td>-13.348889</td><td>56.3099</td><td>64.6934</td><td>56.3099</td><td>64.6934</td><td>1110.9814</td><td>False</td><td></td><td>sweet</td><td>38</td><td>52.445118</td><td>-45.77434</td><td>139.44278</td><td>134.21861</td><td>47.571148</td><td>57</td><td>68</td><td>80</td><td>72.32</td><td>86.4</td><td>103.04</td><td>True</td><td>24</td><td>1.28</td><td>Phase II Extended</td><td>1194193272</td><td>0</td><td>0</td><td>0</td><td>0</td><td>48</td><td>48</td><td>False</td><td>68902084800</td><td>0</td><td>0</td><td>48</td></tr>\n",
       "<tr><td>1194193992</td><td>1194193992</td><td>1194194112</td><td>120</td><td>58065.69</td><td>58065.69</td><td>2017-11-08T16:32:54.000Z</td><td>2017-11-08T16:34:54.000Z</td><td>2017-11-09T00:32:54.000Z</td><td>2017-11-09T00:34:54.000Z</td><td>SKAEOR15_93</td><td>msok</td><td>2020-10-27T07:54:10.945Z</td><td>HW_LFILES</td><td>G0044</td><td>EoR SKA Fields</td><td>(PI Q. Zheng) Deep Imaging of Two Selected EoR Fields: Preparing for SKA</td><td>1</td><td>Good</td><td></td><td>False</td><td>False</td><td>0.5</td><td>10.0</td><td>73.9939</td><td>-11.237809</td><td>73.9939</td><td>-11.237809</td><td>72.50415</td><td>-13.348889</td><td>56.3099</td><td>64.6934</td><td>56.3099</td><td>64.6934</td><td>511.27997</td><td>False</td><td></td><td>sweet</td><td>38</td><td>52.946487</td><td>-45.681263</td><td>139.08316</td><td>133.7936</td><td>47.214714</td><td>81</td><td>92</td><td>104</td><td>103.04</td><td>117.12</td><td>133.76</td><td>True</td><td>24</td><td>1.28</td><td>Phase II Extended</td><td>1194193272</td><td>0</td><td>0</td><td>0</td><td>0</td><td>48</td><td>48</td><td>False</td><td>65946919680</td><td>0</td><td>0</td><td>48</td></tr>\n",
       "<tr><td>1194194112</td><td>1194194112</td><td>1194194232</td><td>120</td><td>58065.69</td><td>58065.69</td><td>2017-11-08T16:34:54.000Z</td><td>2017-11-08T16:36:54.000Z</td><td>2017-11-09T00:34:54.000Z</td><td>2017-11-09T00:36:54.000Z</td><td>SKAEOR15_121</td><td>msok</td><td>2020-10-27T07:54:10.945Z</td><td>HW_LFILES</td><td>G0044</td><td>EoR SKA Fields</td><td>(PI Q. Zheng) Deep Imaging of Two Selected EoR Fields: Preparing for SKA</td><td>1</td><td>Good</td><td></td><td>False</td><td>False</td><td>0.5</td><td>10.0</td><td>74.49533</td><td>-11.236987</td><td>74.49533</td><td>-11.236987</td><td>72.50415</td><td>-13.348889</td><td>56.3099</td><td>64.6934</td><td>56.3099</td><td>64.6934</td><td>257.91257</td><td>False</td><td></td><td>sweet</td><td>38</td><td>53.447857</td><td>-45.583076</td><td>138.72075</td><td>133.36716</td><td>46.86036</td><td>109</td><td>120</td><td>132</td><td>138.88</td><td>152.96</td><td>169.6</td><td>True</td><td>24</td><td>1.28</td><td>Phase II Extended</td><td>1194193272</td><td>0</td><td>0</td><td>0</td><td>0</td><td>48</td><td>48</td><td>False</td><td>64300567680</td><td>0</td><td>0</td><td>48</td></tr>\n",
       "<tr><td>1194194232</td><td>1194194232</td><td>1194194352</td><td>120</td><td>58065.69</td><td>58065.695</td><td>2017-11-08T16:36:54.000Z</td><td>2017-11-08T16:38:54.000Z</td><td>2017-11-09T00:36:54.000Z</td><td>2017-11-09T00:38:54.000Z</td><td>SKAEOR15_145</td><td>msok</td><td>2020-10-27T07:54:10.945Z</td><td>HW_LFILES</td><td>G0044</td><td>EoR SKA Fields</td><td>(PI Q. Zheng) Deep Imaging of Two Selected EoR Fields: Preparing for SKA</td><td>1</td><td>Good</td><td></td><td>False</td><td>False</td><td>0.5</td><td>10.0</td><td>74.99676</td><td>-11.236163</td><td>74.99676</td><td>-11.236163</td><td>72.50415</td><td>-13.348889</td><td>56.3099</td><td>64.6934</td><td>56.3099</td><td>64.6934</td><td>161.12305</td><td>False</td><td></td><td>sweet</td><td>38</td><td>53.949226</td><td>-45.47981</td><td>138.35564</td><td>132.93932</td><td>46.508133</td><td>133</td><td>144</td><td>156</td><td>169.6</td><td>183.68001</td><td>200.31999</td><td>True</td><td>24</td><td>1.28</td><td>Phase II Extended</td><td>1194193272</td><td>0</td><td>0</td><td>0</td><td>0</td><td>48</td><td>48</td><td>False</td><td>63270391680</td><td>0</td><td>0</td><td>48</td></tr>\n",
       "<tr><td>1194194352</td><td>1194194352</td><td>1194194472</td><td>120</td><td>58065.695</td><td>58065.695</td><td>2017-11-08T16:38:54.000Z</td><td>2017-11-08T16:40:54.000Z</td><td>2017-11-09T00:38:54.000Z</td><td>2017-11-09T00:40:54.000Z</td><td>SKAEOR15_169</td><td>msok</td><td>2020-10-27T07:54:10.945Z</td><td>HW_LFILES</td><td>G0044</td><td>EoR SKA Fields</td><td>(PI Q. Zheng) Deep Imaging of Two Selected EoR Fields: Preparing for SKA</td><td>1</td><td>Good</td><td></td><td>False</td><td>False</td><td>0.5</td><td>10.0</td><td>75.49819</td><td>-11.235337</td><td>75.49819</td><td>-11.235337</td><td>72.50415</td><td>-13.348889</td><td>56.3099</td><td>64.6934</td><td>56.3099</td><td>64.6934</td><td>108.19546</td><td>False</td><td></td><td>sweet</td><td>38</td><td>54.450596</td><td>-45.3715</td><td>137.98787</td><td>132.51013</td><td>46.158085</td><td>157</td><td>168</td><td>180</td><td>200.32</td><td>214.4</td><td>231.04</td><td>True</td><td>24</td><td>1.28</td><td>Phase II Extended</td><td>1194193272</td><td>0</td><td>0</td><td>0</td><td>0</td><td>48</td><td>48</td><td>False</td><td>62174851200</td><td>0</td><td>0</td><td>48</td></tr>\n",
       "<tr><td>...</td><td>...</td><td>...</td><td>...</td><td>...</td><td>...</td><td>...</td><td>...</td><td>...</td><td>...</td><td>...</td><td>...</td><td>...</td><td>...</td><td>...</td><td>...</td><td>...</td><td>...</td><td>...</td><td>...</td><td>...</td><td>...</td><td>...</td><td>...</td><td>...</td><td>...</td><td>...</td><td>...</td><td>...</td><td>...</td><td>...</td><td>...</td><td>...</td><td>...</td><td>...</td><td>...</td><td>...</td><td>...</td><td>...</td><td>...</td><td>...</td><td>...</td><td>...</td><td>...</td><td>...</td><td>...</td><td>...</td><td>...</td><td>...</td><td>...</td><td>...</td><td>...</td><td>...</td><td>...</td><td>...</td><td>...</td><td>...</td><td>...</td><td>...</td><td>...</td><td>...</td><td>...</td><td>...</td><td>...</td><td>...</td><td>...</td></tr>\n",
       "<tr><td>1196970176</td><td>1196970176</td><td>1196970296</td><td>120</td><td>58097.82</td><td>58097.824</td><td>2017-12-10T19:42:38.000Z</td><td>2017-12-10T19:44:38.000Z</td><td>2017-12-11T03:42:38.000Z</td><td>2017-12-11T03:44:38.000Z</td><td>SKAEOR6_169</td><td>msok</td><td>2020-10-27T07:54:14.934Z</td><td>HW_LFILES</td><td>G0044</td><td>EoR SKA Fields</td><td>(PI Q. Zheng) Deep Imaging of Two Selected EoR Fields: Preparing for SKA</td><td>1</td><td>Good</td><td></td><td>False</td><td>False</td><td>0.5</td><td>10.0</td><td>124.98506</td><td>-5.6158924</td><td>124.98506</td><td>-5.6158924</td><td>128.4</td><td>-3.52</td><td>341.5651</td><td>67.9813</td><td>341.5651</td><td>67.9813</td><td>107.75156</td><td>False</td><td></td><td>sweet</td><td>36</td><td>132.05054</td><td>-17.894972</td><td>125.70472</td><td>94.04429</td><td>53.10007</td><td>157</td><td>168</td><td>180</td><td>200.32</td><td>214.4</td><td>231.04</td><td>True</td><td>24</td><td>1.28</td><td>Phase II Extended</td><td>1196963696</td><td>0</td><td>0</td><td>0</td><td>0</td><td>48</td><td>48</td><td>True</td><td>63123835213</td><td>0</td><td>0</td><td>48</td></tr>\n",
       "<tr><td>1196970296</td><td>1196970296</td><td>1196970416</td><td>120</td><td>58097.824</td><td>58097.824</td><td>2017-12-10T19:44:38.000Z</td><td>2017-12-10T19:46:38.000Z</td><td>2017-12-11T03:44:38.000Z</td><td>2017-12-11T03:46:38.000Z</td><td>SKAEOR6_69</td><td>msok</td><td>2020-10-27T07:54:14.934Z</td><td>HW_LFILES</td><td>G0044</td><td>EoR SKA Fields</td><td>(PI Q. Zheng) Deep Imaging of Two Selected EoR Fields: Preparing for SKA</td><td>1</td><td>Good</td><td></td><td>False</td><td>False</td><td>0.5</td><td>10.0</td><td>125.486404</td><td>-5.6152024</td><td>125.486404</td><td>-5.6152024</td><td>128.4</td><td>-3.52</td><td>341.5651</td><td>67.9813</td><td>341.5651</td><td>67.9813</td><td>1106.4233</td><td>False</td><td></td><td>sweet</td><td>36</td><td>132.55191</td><td>-17.541405</td><td>125.286674</td><td>93.559235</td><td>52.617245</td><td>57</td><td>68</td><td>80</td><td>72.32</td><td>86.4</td><td>103.04</td><td>True</td><td>24</td><td>1.28</td><td>Phase II Extended</td><td>1196963696</td><td>0</td><td>0</td><td>0</td><td>0</td><td>48</td><td>48</td><td>True</td><td>69884358789</td><td>0</td><td>0</td><td>48</td></tr>\n",
       "<tr><td>1196970416</td><td>1196970416</td><td>1196970536</td><td>120</td><td>58097.824</td><td>58097.824</td><td>2017-12-10T19:46:38.000Z</td><td>2017-12-10T19:48:38.000Z</td><td>2017-12-11T03:46:38.000Z</td><td>2017-12-11T03:48:38.000Z</td><td>SKAEOR6_93</td><td>msok</td><td>2020-10-27T07:54:14.934Z</td><td>HW_LFILES</td><td>G0044</td><td>EoR SKA Fields</td><td>(PI Q. Zheng) Deep Imaging of Two Selected EoR Fields: Preparing for SKA</td><td>1</td><td>Good</td><td></td><td>False</td><td>False</td><td>0.5</td><td>10.0</td><td>125.98776</td><td>-5.614517</td><td>125.98776</td><td>-5.614517</td><td>128.4</td><td>-3.52</td><td>341.5651</td><td>67.9813</td><td>341.5651</td><td>67.9813</td><td>509.1823</td><td>False</td><td></td><td>sweet</td><td>36</td><td>133.05328</td><td>-17.192198</td><td>124.87438</td><td>93.08208</td><td>52.142532</td><td>81</td><td>92</td><td>104</td><td>103.04</td><td>117.12</td><td>133.76</td><td>True</td><td>24</td><td>1.28</td><td>Phase II Extended</td><td>1196963696</td><td>0</td><td>0</td><td>0</td><td>0</td><td>48</td><td>48</td><td>True</td><td>66643457879</td><td>0</td><td>0</td><td>48</td></tr>\n",
       "<tr><td>1196970536</td><td>1196970536</td><td>1196970656</td><td>120</td><td>58097.824</td><td>58097.83</td><td>2017-12-10T19:48:38.000Z</td><td>2017-12-10T19:50:38.000Z</td><td>2017-12-11T03:48:38.000Z</td><td>2017-12-11T03:50:38.000Z</td><td>SKAEOR6_121</td><td>msok</td><td>2020-10-27T07:54:14.934Z</td><td>HW_LFILES</td><td>G0044</td><td>EoR SKA Fields</td><td>(PI Q. Zheng) Deep Imaging of Two Selected EoR Fields: Preparing for SKA</td><td>1</td><td>Good</td><td></td><td>False</td><td>False</td><td>0.5</td><td>10.0</td><td>126.48912</td><td>-5.613837</td><td>126.48912</td><td>-5.613837</td><td>128.4</td><td>-3.52</td><td>341.5651</td><td>67.9813</td><td>341.5651</td><td>67.9813</td><td>245.21475</td><td>False</td><td></td><td>sweet</td><td>36</td><td>133.55464</td><td>-16.835632</td><td>124.45402</td><td>92.59676</td><td>51.659973</td><td>109</td><td>120</td><td>132</td><td>138.88</td><td>152.96</td><td>169.6</td><td>True</td><td>24</td><td>1.28</td><td>Phase II Extended</td><td>1196963696</td><td>0</td><td>0</td><td>0</td><td>0</td><td>48</td><td>48</td><td>True</td><td>64530679918</td><td>0</td><td>0</td><td>48</td></tr>\n",
       "<tr><td>1196970656</td><td>1196970656</td><td>1196970776</td><td>120</td><td>58097.83</td><td>58097.83</td><td>2017-12-10T19:50:38.000Z</td><td>2017-12-10T19:52:38.000Z</td><td>2017-12-11T03:50:38.000Z</td><td>2017-12-11T03:52:38.000Z</td><td>SKAEOR6_145</td><td>msok</td><td>2020-10-27T07:54:14.934Z</td><td>HW_LFILES</td><td>G0044</td><td>EoR SKA Fields</td><td>(PI Q. Zheng) Deep Imaging of Two Selected EoR Fields: Preparing for SKA</td><td>1</td><td>Good</td><td></td><td>False</td><td>False</td><td>0.5</td><td>10.0</td><td>126.99047</td><td>-5.6131606</td><td>126.99047</td><td>-5.6131606</td><td>128.4</td><td>-3.52</td><td>341.5651</td><td>67.9813</td><td>341.5651</td><td>67.9813</td><td>153.19048</td><td>False</td><td></td><td>sweet</td><td>36</td><td>134.05602</td><td>-16.483517</td><td>124.039505</td><td>92.119354</td><td>51.185535</td><td>133</td><td>144</td><td>156</td><td>169.6</td><td>183.68001</td><td>200.31999</td><td>True</td><td>24</td><td>1.28</td><td>Phase II Extended</td><td>1196963696</td><td>0</td><td>0</td><td>0</td><td>0</td><td>48</td><td>48</td><td>True</td><td>64500793493</td><td>0</td><td>0</td><td>48</td></tr>\n",
       "<tr><td>1196970776</td><td>1196970776</td><td>1196970896</td><td>120</td><td>58097.83</td><td>58097.83</td><td>2017-12-10T19:52:38.000Z</td><td>2017-12-10T19:54:38.000Z</td><td>2017-12-11T03:52:38.000Z</td><td>2017-12-11T03:54:38.000Z</td><td>SKAEOR6_169</td><td>msok</td><td>2020-10-27T07:54:14.934Z</td><td>HW_LFILES</td><td>G0044</td><td>EoR SKA Fields</td><td>(PI Q. Zheng) Deep Imaging of Two Selected EoR Fields: Preparing for SKA</td><td>1</td><td>Good</td><td></td><td>False</td><td>False</td><td>0.5</td><td>10.0</td><td>127.49183</td><td>-5.6124887</td><td>127.49183</td><td>-5.6124887</td><td>128.4</td><td>-3.52</td><td>341.5651</td><td>67.9813</td><td>341.5651</td><td>67.9813</td><td>102.868675</td><td>False</td><td></td><td>sweet</td><td>36</td><td>134.55739</td><td>-16.124039</td><td>123.61693</td><td>91.63379</td><td>50.703274</td><td>157</td><td>168</td><td>180</td><td>200.32</td><td>214.4</td><td>231.04</td><td>True</td><td>24</td><td>1.28</td><td>Phase II Extended</td><td>1196963696</td><td>0</td><td>0</td><td>0</td><td>0</td><td>48</td><td>48</td><td>True</td><td>63102145945</td><td>0</td><td>0</td><td>48</td></tr>\n",
       "<tr><td>1196970896</td><td>1196970896</td><td>1196971016</td><td>120</td><td>58097.83</td><td>58097.832</td><td>2017-12-10T19:54:38.000Z</td><td>2017-12-10T19:56:38.000Z</td><td>2017-12-11T03:54:38.000Z</td><td>2017-12-11T03:56:38.000Z</td><td>SKAEOR6_69</td><td>msok</td><td>2020-10-27T07:54:14.934Z</td><td>HW_LFILES</td><td>G0044</td><td>EoR SKA Fields</td><td>(PI Q. Zheng) Deep Imaging of Two Selected EoR Fields: Preparing for SKA</td><td>1</td><td>Good</td><td></td><td>False</td><td>False</td><td>0.5</td><td>10.0</td><td>127.99317</td><td>-5.611822</td><td>127.99317</td><td>-5.611822</td><td>128.4</td><td>-3.52</td><td>341.5651</td><td>67.9813</td><td>341.5651</td><td>67.9813</td><td>1056.2845</td><td>False</td><td></td><td>sweet</td><td>36</td><td>135.05876</td><td>-15.769102</td><td>123.20029</td><td>91.156136</td><td>50.229137</td><td>57</td><td>68</td><td>80</td><td>72.32</td><td>86.4</td><td>103.04</td><td>True</td><td>24</td><td>1.28</td><td>Phase II Extended</td><td>1196963696</td><td>0</td><td>0</td><td>0</td><td>0</td><td>48</td><td>48</td><td>True</td><td>69750640756</td><td>0</td><td>0</td><td>48</td></tr>\n",
       "<tr><td>1196971016</td><td>1196971016</td><td>1196971136</td><td>120</td><td>58097.832</td><td>58097.832</td><td>2017-12-10T19:56:38.000Z</td><td>2017-12-10T19:58:38.000Z</td><td>2017-12-11T03:56:38.000Z</td><td>2017-12-11T03:58:38.000Z</td><td>SKAEOR6_93</td><td>msok</td><td>2020-10-27T07:54:14.934Z</td><td>HW_LFILES</td><td>G0044</td><td>EoR SKA Fields</td><td>(PI Q. Zheng) Deep Imaging of Two Selected EoR Fields: Preparing for SKA</td><td>1</td><td>Good</td><td></td><td>False</td><td>False</td><td>0.5</td><td>10.0</td><td>128.49452</td><td>-5.6111603</td><td>128.49452</td><td>-5.6111603</td><td>128.4</td><td>-3.52</td><td>341.5651</td><td>67.9813</td><td>341.5651</td><td>67.9813</td><td>486.10815</td><td>False</td><td></td><td>sweet</td><td>36</td><td>135.56012</td><td>-15.406798</td><td>122.77561</td><td>90.670334</td><td>49.747192</td><td>81</td><td>92</td><td>104</td><td>103.04</td><td>117.12</td><td>133.76</td><td>True</td><td>24</td><td>1.28</td><td>Phase II Extended</td><td>1196963696</td><td>0</td><td>0</td><td>0</td><td>0</td><td>48</td><td>48</td><td>True</td><td>66587284597</td><td>0</td><td>0</td><td>48</td></tr>\n",
       "<tr><td>1196971136</td><td>1196971136</td><td>1196971256</td><td>120</td><td>58097.832</td><td>58097.836</td><td>2017-12-10T19:58:38.000Z</td><td>2017-12-10T20:00:38.000Z</td><td>2017-12-11T03:58:38.000Z</td><td>2017-12-11T04:00:38.000Z</td><td>SKAEOR6_121</td><td>msok</td><td>2020-10-27T07:54:14.934Z</td><td>HW_LFILES</td><td>G0044</td><td>EoR SKA Fields</td><td>(PI Q. Zheng) Deep Imaging of Two Selected EoR Fields: Preparing for SKA</td><td>1</td><td>Good</td><td></td><td>False</td><td>False</td><td>0.5</td><td>10.0</td><td>128.99586</td><td>-5.610503</td><td>128.99586</td><td>-5.610503</td><td>128.4</td><td>-3.52</td><td>341.5651</td><td>67.9813</td><td>341.5651</td><td>67.9813</td><td>245.21475</td><td>False</td><td></td><td>sweet</td><td>36</td><td>136.0615</td><td>-15.049122</td><td>122.35695</td><td>90.19245</td><td>49.27338</td><td>109</td><td>120</td><td>132</td><td>138.88</td><td>152.96</td><td>169.6</td><td>True</td><td>24</td><td>1.28</td><td>Phase II Extended</td><td>1196963696</td><td>0</td><td>0</td><td>0</td><td>0</td><td>48</td><td>48</td><td>True</td><td>64087252027</td><td>0</td><td>0</td><td>48</td></tr>\n",
       "<tr><td>1196971256</td><td>1196971256</td><td>1196971376</td><td>120</td><td>58097.836</td><td>58097.836</td><td>2017-12-10T20:00:38.000Z</td><td>2017-12-10T20:02:38.000Z</td><td>2017-12-11T04:00:38.000Z</td><td>2017-12-11T04:02:38.000Z</td><td>SKAEOR6_145</td><td>msok</td><td>2020-10-27T07:54:14.934Z</td><td>HW_LFILES</td><td>G0044</td><td>EoR SKA Fields</td><td>(PI Q. Zheng) Deep Imaging of Two Selected EoR Fields: Preparing for SKA</td><td>1</td><td>Good</td><td></td><td>False</td><td>False</td><td>0.5</td><td>10.0</td><td>129.49722</td><td>-5.609851</td><td>129.49722</td><td>-5.609851</td><td>128.4</td><td>-3.52</td><td>341.5651</td><td>67.9813</td><td>341.5651</td><td>67.9813</td><td>147.72964</td><td>False</td><td></td><td>sweet</td><td>36</td><td>136.56287</td><td>-14.687094</td><td>121.93379</td><td>89.71044</td><td>48.795757</td><td>133</td><td>144</td><td>156</td><td>169.6</td><td>183.68001</td><td>200.31999</td><td>True</td><td>24</td><td>1.28</td><td>Phase II Extended</td><td>1196963696</td><td>0</td><td>0</td><td>0</td><td>0</td><td>48</td><td>48</td><td>True</td><td>64563184736</td><td>0</td><td>0</td><td>48</td></tr>\n",
       "</table>"
      ],
      "text/plain": [
       "<Table length=500>\n",
       "  obs_id   starttime   stoptime  ... files_deleted_bytes data_files_summary\n",
       "  int64      int64      int64    ...        int64             bytes255     \n",
       "---------- ---------- ---------- ... ------------------- ------------------\n",
       "1194193272 1194193272 1194193392 ...                   0                 48\n",
       "1194193392 1194193392 1194193512 ...                   0                 48\n",
       "1194193512 1194193512 1194193632 ...                   0                 48\n",
       "1194193632 1194193632 1194193752 ...                   0                 48\n",
       "1194193752 1194193752 1194193872 ...                   0                 48\n",
       "1194193872 1194193872 1194193992 ...                   0                 48\n",
       "1194193992 1194193992 1194194112 ...                   0                 48\n",
       "1194194112 1194194112 1194194232 ...                   0                 48\n",
       "1194194232 1194194232 1194194352 ...                   0                 48\n",
       "1194194352 1194194352 1194194472 ...                   0                 48\n",
       "       ...        ...        ... ...                 ...                ...\n",
       "1196970176 1196970176 1196970296 ...                   0                 48\n",
       "1196970296 1196970296 1196970416 ...                   0                 48\n",
       "1196970416 1196970416 1196970536 ...                   0                 48\n",
       "1196970536 1196970536 1196970656 ...                   0                 48\n",
       "1196970656 1196970656 1196970776 ...                   0                 48\n",
       "1196970776 1196970776 1196970896 ...                   0                 48\n",
       "1196970896 1196970896 1196971016 ...                   0                 48\n",
       "1196971016 1196971016 1196971136 ...                   0                 48\n",
       "1196971136 1196971136 1196971256 ...                   0                 48\n",
       "1196971256 1196971256 1196971376 ...                   0                 48"
      ]
     },
     "execution_count": 14,
     "metadata": {},
     "output_type": "execute_result"
    }
   ],
   "source": [
    "table"
   ]
  },
  {
   "cell_type": "code",
   "execution_count": null,
   "metadata": {},
   "outputs": [],
   "source": []
  }
 ],
 "metadata": {
  "kernelspec": {
   "display_name": "Python 3",
   "language": "python",
   "name": "python3"
  },
  "language_info": {
   "codemirror_mode": {
    "name": "ipython",
    "version": 3
   },
   "file_extension": ".py",
   "mimetype": "text/x-python",
   "name": "python",
   "nbconvert_exporter": "python",
   "pygments_lexer": "ipython3",
   "version": "3.8.5"
  },
  "latex_envs": {
   "LaTeX_envs_menu_present": true,
   "autocomplete": true,
   "bibliofile": "biblio.bib",
   "cite_by": "apalike",
   "current_citInitial": 1,
   "eqLabelWithNumbers": true,
   "eqNumInitial": 1,
   "hotkeys": {
    "equation": "Ctrl-E",
    "itemize": "Ctrl-I"
   },
   "labels_anchors": false,
   "latex_user_defs": false,
   "report_style_numbering": false,
   "user_envs_cfg": false
  },
  "toc": {
   "nav_menu": {},
   "number_sections": true,
   "sideBar": true,
   "skip_h1_title": false,
   "toc_cell": false,
   "toc_position": {},
   "toc_section_display": "block",
   "toc_window_display": true
  }
 },
 "nbformat": 4,
 "nbformat_minor": 4
}
