{
 "cells": [
  {
   "cell_type": "code",
   "execution_count": 1,
   "metadata": {
    "ExecuteTime": {
     "end_time": "2018-06-28T12:30:22.248978Z",
     "start_time": "2018-06-28T12:30:19.480094Z"
    },
    "collapsed": true
   },
   "outputs": [],
   "source": [
    "#-*- coding: UTF-8 -*-   \n",
    "import os\n",
    "from PIL import Image\n",
    "path='/Users/brettlv/blog/brettlv.github.io/pythoncode/gif_test'\n",
    "isExists = os.path.exists(path)\n",
    "if not isExists:\n",
    "    os.makedirs(path)\n",
    "os.chdir(path)  \n",
    "def analyseImage(path):\n",
    "    '''\n",
    "    Pre-process pass over the image to determine the mode (full or additive).\n",
    "    Necessary as assessing single frames isn't reliable. Need to know the mode \n",
    "    before processing all frames.\n",
    "    '''\n",
    "    im = Image.open(path)\n",
    "    results = {\n",
    "        'size': im.size,\n",
    "        'mode': 'full',\n",
    "    }\n",
    "    try:\n",
    "        while True:\n",
    "            if im.tile:\n",
    "                tile = im.tile[0]\n",
    "                update_region = tile[1]\n",
    "                update_region_dimensions = update_region[2:]\n",
    "                if update_region_dimensions != im.size:\n",
    "                    results['mode'] = 'partial'\n",
    "                    break\n",
    "            im.seek(im.tell() + 1)\n",
    "    except EOFError:\n",
    "        pass\n",
    "    return results\n",
    "  \n",
    "def processImage(path):\n",
    "    '''\n",
    "    Iterate the GIF, extracting each frame.\n",
    "    '''\n",
    "    mode = analyseImage(path)['mode']\n",
    "    \n",
    "    im = Image.open(path)\n",
    " \n",
    "    i = 0\n",
    "    p = im.getpalette()\n",
    "    last_frame = im.convert('RGBA')\n",
    "    \n",
    "    try:\n",
    "        while True:\n",
    "            #print \"saving %s (%s) frame %d, %s %s\" % (path, mode, i, im.size, im.tile)\n",
    "            \n",
    "            '''\n",
    "            If the GIF uses local colour tables, each frame will have its own palette.\n",
    "            If not, we need to apply the global palette to the new frame.\n",
    "            '''\n",
    "            if not im.getpalette():\n",
    "                im.putpalette(p)\n",
    "            \n",
    "            new_frame = Image.new('RGBA', im.size)\n",
    "            \n",
    "            '''\n",
    "            Is this file a \"partial\"-mode GIF where frames update a region of a different size to the entire image?\n",
    "            If so, we need to construct the new frame by pasting it on top of the preceding frames.\n",
    "            '''\n",
    "            if mode == 'partial':\n",
    "                new_frame.paste(last_frame)\n",
    "            \n",
    "            new_frame.paste(im, (0,0), im.convert('RGBA'))\n",
    "            new_frame.save('%s-%d.png' % (''.join(os.path.basename(path).split('.')[:-1]), i), 'PNG')\n",
    " \n",
    "            i += 1\n",
    "            last_frame = new_frame\n",
    "            im.seek(im.tell() + 1)\n",
    "    except EOFError:\n",
    "        pass\n",
    "processImage('test.gif')\n"
   ]
  },
  {
   "cell_type": "code",
   "execution_count": 2,
   "metadata": {
    "ExecuteTime": {
     "end_time": "2018-06-28T12:32:29.943262Z",
     "start_time": "2018-06-28T12:32:29.931591Z"
    },
    "collapsed": false
   },
   "outputs": [
    {
     "data": {
      "text/plain": [
       "'/Users/brettlv/blog/brettlv.github.io/pythoncode/gif_test'"
      ]
     },
     "execution_count": 2,
     "metadata": {},
     "output_type": "execute_result"
    }
   ],
   "source": [
    "pwd"
   ]
  },
  {
   "cell_type": "code",
   "execution_count": 4,
   "metadata": {
    "ExecuteTime": {
     "end_time": "2018-06-28T12:32:57.740879Z",
     "start_time": "2018-06-28T12:32:55.838671Z"
    },
    "collapsed": false
   },
   "outputs": [],
   "source": [
    "import imageio\n",
    "path='/Users/brettlv/blog/brettlv.github.io/pythoncode/gif_test'\n",
    "pathfile=os.listdir(path)\n",
    "list=[]\n",
    "for file in pathfile:\n",
    "    if file.endswith('.png'):\n",
    "        list.append(file)        \n",
    "def create_gif(imagelist,gifname):\n",
    "    frames=[]\n",
    "    for imagename in imagelist:\n",
    "        frames.append(imageio.imread(imagename))\n",
    "    imageio.mimsave(gifname,frames,\"GIF\",duration=0.1)  \n",
    "    return \n",
    "imagelist=list\n",
    "gifname='re_gif.gif' \n",
    "create_gif(imagelist,gifname)"
   ]
  },
  {
   "cell_type": "code",
   "execution_count": null,
   "metadata": {
    "collapsed": true
   },
   "outputs": [],
   "source": []
  }
 ],
 "metadata": {
  "kernelspec": {
   "display_name": "Python 3",
   "language": "python",
   "name": "python3"
  },
  "language_info": {
   "codemirror_mode": {
    "name": "ipython",
    "version": 3
   },
   "file_extension": ".py",
   "mimetype": "text/x-python",
   "name": "python",
   "nbconvert_exporter": "python",
   "pygments_lexer": "ipython3",
   "version": "3.6.0"
  },
  "latex_envs": {
   "LaTeX_envs_menu_present": true,
   "autocomplete": true,
   "bibliofile": "biblio.bib",
   "cite_by": "apalike",
   "current_citInitial": 1,
   "eqLabelWithNumbers": true,
   "eqNumInitial": 1,
   "hotkeys": {
    "equation": "Ctrl-E",
    "itemize": "Ctrl-I"
   },
   "labels_anchors": false,
   "latex_user_defs": false,
   "report_style_numbering": false,
   "user_envs_cfg": false
  },
  "toc": {
   "nav_menu": {},
   "number_sections": true,
   "sideBar": true,
   "skip_h1_title": false,
   "toc_cell": false,
   "toc_position": {},
   "toc_section_display": "block",
   "toc_window_display": false
  }
 },
 "nbformat": 4,
 "nbformat_minor": 2
}
