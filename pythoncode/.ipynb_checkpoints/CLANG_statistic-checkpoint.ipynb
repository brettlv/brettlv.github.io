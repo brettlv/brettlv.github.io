{
 "cells": [
  {
   "cell_type": "code",
   "execution_count": 1,
   "metadata": {
    "ExecuteTime": {
     "end_time": "2021-07-22T02:33:21.127536Z",
     "start_time": "2021-07-22T02:33:20.263653Z"
    }
   },
   "outputs": [],
   "source": [
    "import pandas as pd"
   ]
  },
  {
   "cell_type": "code",
   "execution_count": 2,
   "metadata": {
    "ExecuteTime": {
     "end_time": "2021-07-22T02:33:21.134657Z",
     "start_time": "2021-07-22T02:33:21.130447Z"
    }
   },
   "outputs": [],
   "source": [
    "clagn_name_list='/Users/brettlv/blog/IHEP_sync/data/data_clagn/clagn_ned_list_20210201.xlsx'"
   ]
  },
  {
   "cell_type": "code",
   "execution_count": 3,
   "metadata": {
    "ExecuteTime": {
     "end_time": "2021-07-22T02:33:38.293964Z",
     "start_time": "2021-07-22T02:33:38.230415Z"
    }
   },
   "outputs": [],
   "source": [
    "clagn_name_data=pd.read_excel(clagn_name_list)"
   ]
  },
  {
   "cell_type": "code",
   "execution_count": 4,
   "metadata": {
    "ExecuteTime": {
     "end_time": "2021-07-22T02:33:41.337296Z",
     "start_time": "2021-07-22T02:33:41.301948Z"
    }
   },
   "outputs": [
    {
     "data": {
      "text/html": [
       "<div>\n",
       "<style scoped>\n",
       "    .dataframe tbody tr th:only-of-type {\n",
       "        vertical-align: middle;\n",
       "    }\n",
       "\n",
       "    .dataframe tbody tr th {\n",
       "        vertical-align: top;\n",
       "    }\n",
       "\n",
       "    .dataframe thead th {\n",
       "        text-align: right;\n",
       "    }\n",
       "</style>\n",
       "<table border=\"1\" class=\"dataframe\">\n",
       "  <thead>\n",
       "    <tr style=\"text-align: right;\">\n",
       "      <th></th>\n",
       "      <th></th>\n",
       "      <th>Input Object Name</th>\n",
       "      <th>Object Name</th>\n",
       "      <th>RA</th>\n",
       "      <th>Dec</th>\n",
       "      <th>Object</th>\n",
       "      <th>Redshift</th>\n",
       "      <th>z</th>\n",
       "    </tr>\n",
       "  </thead>\n",
       "  <tbody>\n",
       "    <tr>\n",
       "      <th>0</th>\n",
       "      <td></td>\n",
       "      <td>(E/W Hover for Messages)</td>\n",
       "      <td>(* Hover for Essential Note)</td>\n",
       "      <td>J2000.0</td>\n",
       "      <td>J2000.0</td>\n",
       "      <td>Type</td>\n",
       "      <td></td>\n",
       "      <td>Qual</td>\n",
       "    </tr>\n",
       "    <tr>\n",
       "      <th>1</th>\n",
       "      <td></td>\n",
       "      <td>NGC 3516</td>\n",
       "      <td>NGC 3516</td>\n",
       "      <td>11h06m47.49s</td>\n",
       "      <td>+72d34m06.9s</td>\n",
       "      <td>G</td>\n",
       "      <td>0.008836</td>\n",
       "      <td></td>\n",
       "    </tr>\n",
       "    <tr>\n",
       "      <th>2</th>\n",
       "      <td></td>\n",
       "      <td>1ES 1927+654</td>\n",
       "      <td>WISEA J192719.75+653352.8</td>\n",
       "      <td>19h27m19.54s</td>\n",
       "      <td>+65d33m54.2s</td>\n",
       "      <td>G</td>\n",
       "      <td>0.017</td>\n",
       "      <td></td>\n",
       "    </tr>\n",
       "    <tr>\n",
       "      <th>3</th>\n",
       "      <td></td>\n",
       "      <td>2MASS J01264811-0839481</td>\n",
       "      <td>WISEA J012648.10-083948.0</td>\n",
       "      <td>01h26m48.09s</td>\n",
       "      <td>-08d39m48.1s</td>\n",
       "      <td>G</td>\n",
       "      <td>0.197777</td>\n",
       "      <td></td>\n",
       "    </tr>\n",
       "    <tr>\n",
       "      <th>4</th>\n",
       "      <td></td>\n",
       "      <td>2MASS J10022021+4509276</td>\n",
       "      <td>WISEA J100220.18+450927.4</td>\n",
       "      <td>10h02m20.18s</td>\n",
       "      <td>+45d09m27.4s</td>\n",
       "      <td>QSO</td>\n",
       "      <td>0.401494</td>\n",
       "      <td></td>\n",
       "    </tr>\n",
       "    <tr>\n",
       "      <th>...</th>\n",
       "      <td>...</td>\n",
       "      <td>...</td>\n",
       "      <td>...</td>\n",
       "      <td>...</td>\n",
       "      <td>...</td>\n",
       "      <td>...</td>\n",
       "      <td>...</td>\n",
       "      <td>...</td>\n",
       "    </tr>\n",
       "    <tr>\n",
       "      <th>66</th>\n",
       "      <td></td>\n",
       "      <td>SDSS J233317.38-002303.4</td>\n",
       "      <td>SDSS-II SN 13447</td>\n",
       "      <td>23h33m17.39s</td>\n",
       "      <td>-00d23m03.5s</td>\n",
       "      <td>QSO</td>\n",
       "      <td>0.513098</td>\n",
       "      <td></td>\n",
       "    </tr>\n",
       "    <tr>\n",
       "      <th>67</th>\n",
       "      <td></td>\n",
       "      <td>SDSS J233602.98+001728.7</td>\n",
       "      <td>SDSS-II SN 08116</td>\n",
       "      <td>23h36m02.98s</td>\n",
       "      <td>+00d17m28.7s</td>\n",
       "      <td>QSO</td>\n",
       "      <td>0.242533</td>\n",
       "      <td></td>\n",
       "    </tr>\n",
       "    <tr>\n",
       "      <th>68</th>\n",
       "      <td></td>\n",
       "      <td>SDSSJ104705.16+544405.8</td>\n",
       "      <td>WISEA J104705.16+544405.9</td>\n",
       "      <td>10h47m05.16s</td>\n",
       "      <td>+54d44m05.9s</td>\n",
       "      <td>QSO</td>\n",
       "      <td>0.214818</td>\n",
       "      <td></td>\n",
       "    </tr>\n",
       "    <tr>\n",
       "      <th>69</th>\n",
       "      <td></td>\n",
       "      <td>SDSSJ120447.91+170256.8</td>\n",
       "      <td>WISEA J120447.91+170256.9</td>\n",
       "      <td>12h04m47.92s</td>\n",
       "      <td>+17d02m56.9s</td>\n",
       "      <td>QSO</td>\n",
       "      <td>0.2982</td>\n",
       "      <td></td>\n",
       "    </tr>\n",
       "    <tr>\n",
       "      <th>70</th>\n",
       "      <td></td>\n",
       "      <td>UGC 3223</td>\n",
       "      <td>UGC 03223</td>\n",
       "      <td>04h59m09.39s</td>\n",
       "      <td>+04d58m30.0s</td>\n",
       "      <td>G</td>\n",
       "      <td>0.015621</td>\n",
       "      <td></td>\n",
       "    </tr>\n",
       "  </tbody>\n",
       "</table>\n",
       "<p>71 rows × 8 columns</p>\n",
       "</div>"
      ],
      "text/plain": [
       "             Input Object Name                  Object Name            \\\n",
       "0         (E/W Hover for Messages)      (* Hover for Essential Note)    \n",
       "1      NGC 3516                        NGC 3516                         \n",
       "2      1ES 1927+654                    WISEA J192719.75+653352.8        \n",
       "3      2MASS J01264811-0839481         WISEA J012648.10-083948.0        \n",
       "4      2MASS J10022021+4509276         WISEA J100220.18+450927.4        \n",
       ".. ..                             ...                             ...   \n",
       "66     SDSS J233317.38-002303.4        SDSS-II SN 13447                 \n",
       "67     SDSS J233602.98+001728.7        SDSS-II SN 08116                 \n",
       "68     SDSSJ104705.16+544405.8         WISEA J104705.16+544405.9        \n",
       "69     SDSSJ120447.91+170256.8         WISEA J120447.91+170256.9        \n",
       "70     UGC 3223                        UGC 03223                        \n",
       "\n",
       "         RA           Dec       Object   Redshift    z    \n",
       "0     J2000.0       J2000.0      Type               Qual  \n",
       "1   11h06m47.49s  +72d34m06.9s  G         0.008836        \n",
       "2   19h27m19.54s  +65d33m54.2s  G            0.017        \n",
       "3   01h26m48.09s  -08d39m48.1s  G         0.197777        \n",
       "4   10h02m20.18s  +45d09m27.4s  QSO       0.401494        \n",
       "..           ...           ...     ...         ...   ...  \n",
       "66  23h33m17.39s  -00d23m03.5s  QSO       0.513098        \n",
       "67  23h36m02.98s  +00d17m28.7s  QSO       0.242533        \n",
       "68  10h47m05.16s  +54d44m05.9s  QSO       0.214818        \n",
       "69  12h04m47.92s  +17d02m56.9s  QSO         0.2982        \n",
       "70  04h59m09.39s  +04d58m30.0s  G         0.015621        \n",
       "\n",
       "[71 rows x 8 columns]"
      ]
     },
     "execution_count": 4,
     "metadata": {},
     "output_type": "execute_result"
    }
   ],
   "source": [
    "clagn_name_data"
   ]
  },
  {
   "cell_type": "code",
   "execution_count": 8,
   "metadata": {
    "ExecuteTime": {
     "end_time": "2021-07-22T02:35:33.947433Z",
     "start_time": "2021-07-22T02:35:33.942515Z"
    }
   },
   "outputs": [
    {
     "data": {
      "text/plain": [
       "Index([' ', '      Input Object Name       ', '         Object Name          ',\n",
       "       '     RA     ', '    Dec     ', 'Object', ' Redshift ', ' z  '],\n",
       "      dtype='object')"
      ]
     },
     "execution_count": 8,
     "metadata": {},
     "output_type": "execute_result"
    }
   ],
   "source": [
    "clagn_name_data.columns"
   ]
  },
  {
   "cell_type": "code",
   "execution_count": 5,
   "metadata": {
    "ExecuteTime": {
     "end_time": "2021-07-22T02:34:26.253968Z",
     "start_time": "2021-07-22T02:34:26.251008Z"
    }
   },
   "outputs": [],
   "source": [
    "clagn_data_dir='/Users/brettlv/blog/IHEP_sync/data/data_clagn/data_CLAGN_bysources/'"
   ]
  },
  {
   "cell_type": "code",
   "execution_count": 9,
   "metadata": {
    "ExecuteTime": {
     "end_time": "2021-07-22T02:35:49.272564Z",
     "start_time": "2021-07-22T02:35:49.260409Z"
    }
   },
   "outputs": [
    {
     "name": "stdout",
     "output_type": "stream",
     "text": [
      "1 NGC 3516                      \n",
      "2 1ES 1927+654                  \n",
      "3 2MASS J01264811-0839481       \n",
      "4 2MASS J10022021+4509276       \n",
      "5 2MASS J10520355+1519294       \n",
      "6 2MASS J14284671+1723530       \n",
      "7 2MASX J08284278+4544333       \n",
      "8 2MASX J10215228+4645158       \n",
      "9 2MASX J11180325+4506463       \n",
      "10 2MASX J15525828+2737285       \n",
      "11 3C390.3                       \n",
      "12 AT2018dyk                     \n",
      "13 AT2019aabw                    \n",
      "14 ESO362-G18                    \n",
      "15 Fairall9                      \n",
      "16 HE 1136-2304                  \n",
      "17 IC 4329A                      \n",
      "18 IC751                         \n",
      "19 IRAS 23226-3843               \n",
      "20 MCG +08-29-045                \n",
      "21 MCG+09-19-078                 \n",
      "22 Mrk 926                       \n",
      "23 Mrk1018                       \n",
      "24 Mrk590                        \n",
      "25 Mrk883                        \n",
      "26 Mrk993                        \n",
      "27 NGC 7469                      \n",
      "28 NGC 7589                      \n",
      "29 NGC1097                       \n",
      "30 NGC1365                       \n",
      "31 NGC1566                       \n",
      "32 NGC2617                       \n",
      "33 NGC3065                       \n",
      "34 NGC3227                       \n",
      "35 NGC4151                       \n",
      "36 NGC454                        \n",
      "37 NGC4593                       \n",
      "38 NGC5548                       \n",
      "39 NGC7582                       \n",
      "40 NGC7603                       \n",
      "41 PG1535+547                    \n",
      "42 SDSS J002311.06+003517.5      \n",
      "43 SDSS J015957.62+003310.5      \n",
      "44 SDSS J022556.07+003026.7      \n",
      "45 SDSS J022652.24-003916.5      \n",
      "46 SDSS J030510.60-010431.6      \n",
      "47 SDSS J080020.98+263648.8      \n",
      "48 SDSS J101152.98+544206.4      \n",
      "49 SDSS J111536.57+054449.7      \n",
      "50 SDSS J120544.68+342252.4      \n",
      "51 SDSS J125809.31+351943.0      \n",
      "52 SDSS J131615.95+301552.2      \n",
      "53 SDSS J132457.29+480241.2      \n",
      "54 SDSS J141324.27+530527.0      \n",
      "55 SDSS J152533.60+292012.1      \n",
      "56 SDSS J155440.25+362952.0      \n",
      "57 SDSS J162501.43+241547.3      \n",
      "58 SDSS J163629.66+410222.4      \n",
      "59 SDSS J163852.93+282707.8      \n",
      "60 SDSS J165726.81+234528.1      \n",
      "61 SDSS J214613.31+000930.8      \n",
      "62 SDSS J222153.87+003054.2      \n",
      "63 SDSS J222818.76+220102.9      \n",
      "64 SDSS J223210.52-080621.3      \n",
      "65 SDSS J225240.37+010958.7      \n",
      "66 SDSS J233317.38-002303.4      \n",
      "67 SDSS J233602.98+001728.7      \n",
      "68 SDSSJ104705.16+544405.8       \n",
      "69 SDSSJ120447.91+170256.8       \n",
      "70 UGC 3223                      \n"
     ]
    }
   ],
   "source": [
    "for i in range(1,len(clagn_name_data)):\n",
    "    print(i,clagn_name_data[clagn_name_data.columns[1]][i])"
   ]
  },
  {
   "cell_type": "code",
   "execution_count": 12,
   "metadata": {
    "ExecuteTime": {
     "end_time": "2021-07-22T02:40:35.307716Z",
     "start_time": "2021-07-22T02:40:35.291236Z"
    }
   },
   "outputs": [
    {
     "data": {
      "text/plain": [
       "'NGC 3516'"
      ]
     },
     "execution_count": 12,
     "metadata": {},
     "output_type": "execute_result"
    }
   ],
   "source": [
    "clagn_name_data[clagn_name_data.columns[1]][1].strip()"
   ]
  },
  {
   "cell_type": "code",
   "execution_count": null,
   "metadata": {},
   "outputs": [],
   "source": [
    "df1 = pd.DataFrame([] columns=[\"Name\",\"MJD\", \"Type\",\"ref\",\"Note\"])\n",
    "df2 = pd.DataFrame([], columns=[\"Name\", \"Mass\",\"logMass\"])\n",
    "df3 = pd.DataFrame([], columns=[\"Name\", \"MJD\",\"Gamma\",\"err_Gamma\",\"F_2-10keV\",\"err_F_2-10keV\",\"ref\"])\n",
    "\n",
    "df4 = pd.DataFrame([], columns=[\"Name\", \"MJD\",\"F_2500\",\"F_5100\",\"L_2500\",\"L_5100\",\"\",\"ref\"])\n",
    "df5 = pd.DataFrame([], columns=[\"Name\", \"MJD\",\"L_Hbeta\",\"L_Halpha\",\"Width_Hbeta\",\"Width_Halpha\",\"ref\"])\n",
    "df6 = pd.DataFrame([], columns=[\"Name\", \"MJD\",\"R_Hbeta\",\"R_Halpha\",\"R_IR\",\"ref\"])\n",
    "\n",
    "with ExcelWriter(\"%s%s.xlsx\"%(clagn_data_dir,clagn_name_data[clagn_name_data.columns[1]][1].strip())) as writer:\n",
    "    df1.to_excel(writer, sheet_name=\"Type\")\n",
    "    df2.to_excel(writer, sheet_name=\"Mass\")\n",
    "    df3.to_excel(writer, sheet_name=\"X-ray\")\n",
    "    df4.to_excel(writer, sheet_name=\"Optical_UVW1_WISE\")\n",
    "    df5.to_excel(writer, sheet_name=\"Broad_LINE\")\n",
    "    \n",
    "    "
   ]
  }
 ],
 "metadata": {
  "kernelspec": {
   "display_name": "Python 3",
   "language": "python",
   "name": "python3"
  },
  "language_info": {
   "codemirror_mode": {
    "name": "ipython",
    "version": 3
   },
   "file_extension": ".py",
   "mimetype": "text/x-python",
   "name": "python",
   "nbconvert_exporter": "python",
   "pygments_lexer": "ipython3",
   "version": "3.8.5"
  },
  "latex_envs": {
   "LaTeX_envs_menu_present": true,
   "autocomplete": true,
   "bibliofile": "biblio.bib",
   "cite_by": "apalike",
   "current_citInitial": 1,
   "eqLabelWithNumbers": true,
   "eqNumInitial": 1,
   "hotkeys": {
    "equation": "Ctrl-E",
    "itemize": "Ctrl-I"
   },
   "labels_anchors": false,
   "latex_user_defs": false,
   "report_style_numbering": false,
   "user_envs_cfg": false
  },
  "toc": {
   "nav_menu": {},
   "number_sections": true,
   "sideBar": true,
   "skip_h1_title": false,
   "toc_cell": false,
   "toc_position": {},
   "toc_section_display": "block",
   "toc_window_display": false
  }
 },
 "nbformat": 4,
 "nbformat_minor": 2
}
