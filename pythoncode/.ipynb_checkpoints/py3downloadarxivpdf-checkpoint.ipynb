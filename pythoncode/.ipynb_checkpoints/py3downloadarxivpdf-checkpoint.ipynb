{
 "cells": [
  {
   "cell_type": "code",
   "execution_count": 2,
   "metadata": {
    "ExecuteTime": {
     "end_time": "2017-12-20T08:52:32.031839Z",
     "start_time": "2017-12-20T08:52:29.309478Z"
    },
    "collapsed": false
   },
   "outputs": [],
   "source": [
    "# coding = UTF-8\n",
    "# 爬取html链接中对应的PDF文档,网址：https://blogs.cornell.edu/arxiv/2017/10/16/gw170817/\n",
    "import urllib.request\n",
    "import re\n",
    "import os\n",
    "import requests,time\n",
    "\n",
    "# open the url and read\n",
    "def getHtml(url):\n",
    "    page = urllib.request.urlopen(url)\n",
    "    html = page.read()\n",
    "    page.close()\n",
    "    return html\n",
    "# compile the regular expressions and find\n",
    "# all stuff we need\n",
    "def getUrl(html):\n",
    "    reg = r'(1710.\\d+)' #匹配了G176200001\n",
    "    url_re = re.compile(reg)\n",
    "    url_lst = url_re.findall(html.decode('UTF-8')) #返回匹配的数组\n",
    "    return(url_lst)\n",
    "\n",
    "def getFile(url):\n",
    "    timeout=10\n",
    "    file_name = url.split('/')[-1]\n",
    "    u = urllib.request.urlopen(url)\n",
    "    \n",
    "    headers = {'User-Agent':'Mozilla/5.0 (Windows NT 6.1) AppleWebKit/537.11 (KHTML, like Gecko) Chrome/23.0.1271.64 Safari/537.11',\n",
    "'Accept':'text/html;q=0.9,*/*;q=0.8',\n",
    "'Accept-Charset':'ISO-8859-1,utf-8;q=0.7,*;q=0.3',\n",
    "'Accept-Encoding':'gzip',\n",
    "'Connection':'close',\n",
    "'Referer':None #注意如果依然不能抓取的话，这里可以设置抓取网站的host\n",
    "}\n",
    "\n",
    "    #opener = urllib.request.build_opener()\n",
    "    #opener.addheaders = [headers]\n",
    "    #data = opener.open(url)\n",
    "    #data=requests.get(url)\n",
    "    \n",
    "    block_sz = 8192*16\n",
    "    with open(file_name,\"wb\") as f:\n",
    "        while True:\n",
    "            buffer=u.read(block_sz)\n",
    "            if not buffer:\n",
    "                break\n",
    "            f.write(buffer)      \n",
    "        print (\"Sucessful to download\" + \" \" + file_name)\n",
    "    \n",
    "root1_url=  'https://arxiv.org/ftp/arxiv/papers/1710/'\n",
    "root2_url=  'https://arxiv.org/pdf/'\n",
    "\n",
    "#root_url = 'http://pm.zjsti.gov.cn/tempublicfiles/'  #下载地址中相同的部分\n",
    "raw_url = 'https://blogs.cornell.edu/arxiv/2017/10/16/gw170817/'\n",
    "#raw_url = 'file:///E:/ZjuTH/Documents/pythonCode/pythontest.html'\n",
    "\n",
    "html = getHtml(raw_url)\n",
    "url_lst = getUrl(html)\n",
    "#print(url_lst)\n"
   ]
  },
  {
   "cell_type": "code",
   "execution_count": 8,
   "metadata": {
    "ExecuteTime": {
     "end_time": "2017-12-20T08:56:26.841531Z",
     "start_time": "2017-12-20T08:56:26.757311Z"
    },
    "collapsed": false
   },
   "outputs": [
    {
     "data": {
      "text/plain": [
       "130"
      ]
     },
     "execution_count": 8,
     "metadata": {},
     "output_type": "execute_result"
    }
   ],
   "source": [
    "len(url_lst)"
   ]
  },
  {
   "cell_type": "code",
   "execution_count": 10,
   "metadata": {
    "ExecuteTime": {
     "end_time": "2017-12-20T08:59:41.020466Z",
     "start_time": "2017-12-20T08:59:41.016876Z"
    },
    "collapsed": false
   },
   "outputs": [],
   "source": [
    "#print(url_lst)"
   ]
  },
  {
   "cell_type": "code",
   "execution_count": 2,
   "metadata": {
    "collapsed": false
   },
   "outputs": [],
   "source": [
    "def downpdf(pdfUrl):\n",
    "    filename = pdfUrl.split('/')[-1]\n",
    "    try:\n",
    "        res = requests.get(pdfUrl,stream=True,timeout=10)\n",
    "        if str(res.status_code)[0] == \"4\":\n",
    "            print(str(res.status_code), \":\" , pdfUrl)\n",
    "            return False\n",
    "    except Exception as e:\n",
    "        print(\"抛出异常：\", pdfUrl)\n",
    "        print(e)\n",
    "        return False\n",
    "    block_sz = 8192*16\n",
    "    with open(filename, \"wb\") as f:\n",
    "        for chunk in res.iter_content(chunk_size=102400):\n",
    "            if chunk:\n",
    "                f.write(chunk)\n",
    "                \n",
    "        #f.write(res.content)    \n",
    "    return True"
   ]
  },
  {
   "cell_type": "code",
   "execution_count": 3,
   "metadata": {
    "collapsed": false
   },
   "outputs": [
    {
     "name": "stdout",
     "output_type": "stream",
     "text": [
      "404 : https://arxiv.org/ftp/arxiv/papers/1710/1710.05834.pdf\n",
      "404 : https://arxiv.org/ftp/arxiv/papers/1710/1710.05834.pdf\n",
      "404 : https://arxiv.org/ftp/arxiv/papers/1710/1710.05835.pdf\n",
      "404 : https://arxiv.org/ftp/arxiv/papers/1710/1710.05835.pdf\n",
      "404 : https://arxiv.org/ftp/arxiv/papers/1710/1710.05836.pdf\n",
      "404 : https://arxiv.org/ftp/arxiv/papers/1710/1710.05836.pdf\n",
      "404 : https://arxiv.org/ftp/arxiv/papers/1710/1710.05837.pdf\n",
      "404 : https://arxiv.org/ftp/arxiv/papers/1710/1710.05837.pdf\n",
      "404 : https://arxiv.org/ftp/arxiv/papers/1710/1710.05838.pdf\n",
      "404 : https://arxiv.org/ftp/arxiv/papers/1710/1710.05838.pdf\n",
      "404 : https://arxiv.org/ftp/arxiv/papers/1710/1710.05839.pdf\n",
      "404 : https://arxiv.org/ftp/arxiv/papers/1710/1710.05839.pdf\n",
      "404 : https://arxiv.org/ftp/arxiv/papers/1710/1710.05450.pdf\n",
      "404 : https://arxiv.org/ftp/arxiv/papers/1710/1710.05450.pdf\n",
      "404 : https://arxiv.org/ftp/arxiv/papers/1710/1710.05446.pdf\n",
      "404 : https://arxiv.org/ftp/arxiv/papers/1710/1710.05446.pdf\n",
      "404 : https://arxiv.org/ftp/arxiv/papers/1710/1710.05459.pdf\n",
      "404 : https://arxiv.org/ftp/arxiv/papers/1710/1710.05459.pdf\n",
      "404 : https://arxiv.org/ftp/arxiv/papers/1710/1710.05840.pdf\n",
      "404 : https://arxiv.org/ftp/arxiv/papers/1710/1710.05840.pdf\n",
      "404 : https://arxiv.org/ftp/arxiv/papers/1710/1710.05456.pdf\n",
      "404 : https://arxiv.org/ftp/arxiv/papers/1710/1710.05456.pdf\n",
      "404 : https://arxiv.org/ftp/arxiv/papers/1710/1710.05454.pdf\n",
      "404 : https://arxiv.org/ftp/arxiv/papers/1710/1710.05454.pdf\n",
      "404 : https://arxiv.org/ftp/arxiv/papers/1710/1710.05431.pdf\n",
      "404 : https://arxiv.org/ftp/arxiv/papers/1710/1710.05431.pdf\n",
      "抛出异常： https://arxiv.org/ftp/arxiv/papers/1710/1710.05457.pdf\n",
      "HTTPSConnectionPool(host='arxiv.org', port=443): Read timed out. (read timeout=10)\n",
      "404 : https://arxiv.org/ftp/arxiv/papers/1710/1710.05457.pdf\n",
      "404 : https://arxiv.org/ftp/arxiv/papers/1710/1710.05458.pdf\n",
      "404 : https://arxiv.org/ftp/arxiv/papers/1710/1710.05458.pdf\n",
      "404 : https://arxiv.org/ftp/arxiv/papers/1710/1710.05438.pdf\n",
      "404 : https://arxiv.org/ftp/arxiv/papers/1710/1710.05438.pdf\n",
      "404 : https://arxiv.org/ftp/arxiv/papers/1710/1710.05452.pdf\n",
      "404 : https://arxiv.org/ftp/arxiv/papers/1710/1710.05452.pdf\n",
      "404 : https://arxiv.org/ftp/arxiv/papers/1710/1710.05443.pdf\n",
      "404 : https://arxiv.org/ftp/arxiv/papers/1710/1710.05443.pdf\n",
      "404 : https://arxiv.org/ftp/arxiv/papers/1710/1710.05432.pdf\n",
      "404 : https://arxiv.org/ftp/arxiv/papers/1710/1710.05432.pdf\n",
      "404 : https://arxiv.org/ftp/arxiv/papers/1710/1710.05440.pdf\n",
      "404 : https://arxiv.org/ftp/arxiv/papers/1710/1710.05440.pdf\n",
      "404 : https://arxiv.org/ftp/arxiv/papers/1710/1710.05439.pdf\n",
      "404 : https://arxiv.org/ftp/arxiv/papers/1710/1710.05439.pdf\n",
      "404 : https://arxiv.org/ftp/arxiv/papers/1710/1710.05434.pdf\n",
      "404 : https://arxiv.org/ftp/arxiv/papers/1710/1710.05434.pdf\n",
      "404 : https://arxiv.org/ftp/arxiv/papers/1710/1710.05453.pdf\n",
      "404 : https://arxiv.org/ftp/arxiv/papers/1710/1710.05453.pdf\n",
      "404 : https://arxiv.org/ftp/arxiv/papers/1710/1710.05436.pdf\n",
      "404 : https://arxiv.org/ftp/arxiv/papers/1710/1710.05436.pdf\n",
      "404 : https://arxiv.org/ftp/arxiv/papers/1710/1710.05437.pdf\n",
      "404 : https://arxiv.org/ftp/arxiv/papers/1710/1710.05437.pdf\n",
      "404 : https://arxiv.org/ftp/arxiv/papers/1710/1710.05841.pdf\n",
      "404 : https://arxiv.org/ftp/arxiv/papers/1710/1710.05841.pdf\n",
      "404 : https://arxiv.org/ftp/arxiv/papers/1710/1710.05842.pdf\n",
      "404 : https://arxiv.org/ftp/arxiv/papers/1710/1710.05842.pdf\n",
      "404 : https://arxiv.org/ftp/arxiv/papers/1710/1710.05844.pdf\n",
      "404 : https://arxiv.org/ftp/arxiv/papers/1710/1710.05844.pdf\n",
      "404 : https://arxiv.org/ftp/arxiv/papers/1710/1710.05455.pdf\n",
      "404 : https://arxiv.org/ftp/arxiv/papers/1710/1710.05455.pdf\n",
      "404 : https://arxiv.org/ftp/arxiv/papers/1710/1710.05845.pdf\n",
      "404 : https://arxiv.org/ftp/arxiv/papers/1710/1710.05845.pdf\n",
      "404 : https://arxiv.org/ftp/arxiv/papers/1710/1710.05462.pdf\n",
      "404 : https://arxiv.org/ftp/arxiv/papers/1710/1710.05462.pdf\n",
      "404 : https://arxiv.org/ftp/arxiv/papers/1710/1710.05846.pdf\n",
      "404 : https://arxiv.org/ftp/arxiv/papers/1710/1710.05846.pdf\n",
      "404 : https://arxiv.org/ftp/arxiv/papers/1710/1710.05847.pdf\n",
      "404 : https://arxiv.org/ftp/arxiv/papers/1710/1710.05847.pdf\n",
      "404 : https://arxiv.org/ftp/arxiv/papers/1710/1710.05848.pdf\n",
      "抛出异常： https://arxiv.org/pdf/1710.05848.pdf\n",
      "HTTPSConnectionPool(host='arxiv.org', port=443): Read timed out. (read timeout=10)\n",
      "404 : https://arxiv.org/ftp/arxiv/papers/1710/1710.05848.pdf\n",
      "404 : https://arxiv.org/ftp/arxiv/papers/1710/1710.05849.pdf\n",
      "404 : https://arxiv.org/ftp/arxiv/papers/1710/1710.05849.pdf\n",
      "404 : https://arxiv.org/ftp/arxiv/papers/1710/1710.05850.pdf\n",
      "404 : https://arxiv.org/ftp/arxiv/papers/1710/1710.05850.pdf\n",
      "404 : https://arxiv.org/ftp/arxiv/papers/1710/1710.05851.pdf\n",
      "404 : https://arxiv.org/ftp/arxiv/papers/1710/1710.05851.pdf\n",
      "404 : https://arxiv.org/ftp/arxiv/papers/1710/1710.05460.pdf\n",
      "404 : https://arxiv.org/ftp/arxiv/papers/1710/1710.05460.pdf\n",
      "404 : https://arxiv.org/ftp/arxiv/papers/1710/1710.05442.pdf\n",
      "404 : https://arxiv.org/ftp/arxiv/papers/1710/1710.05442.pdf\n",
      "404 : https://arxiv.org/ftp/arxiv/papers/1710/1710.05444.pdf\n",
      "404 : https://arxiv.org/ftp/arxiv/papers/1710/1710.05444.pdf\n",
      "404 : https://arxiv.org/ftp/arxiv/papers/1710/1710.05445.pdf\n",
      "404 : https://arxiv.org/ftp/arxiv/papers/1710/1710.05445.pdf\n",
      "404 : https://arxiv.org/ftp/arxiv/papers/1710/1710.05852.pdf\n",
      "404 : https://arxiv.org/ftp/arxiv/papers/1710/1710.05852.pdf\n",
      "抛出异常： https://arxiv.org/ftp/arxiv/papers/1710/1710.05910.pdf\n",
      "HTTPSConnectionPool(host='arxiv.org', port=443): Read timed out. (read timeout=10)\n",
      "404 : https://arxiv.org/ftp/arxiv/papers/1710/1710.05910.pdf\n",
      "404 : https://arxiv.org/ftp/arxiv/papers/1710/1710.05448.pdf\n",
      "404 : https://arxiv.org/ftp/arxiv/papers/1710/1710.05448.pdf\n",
      "404 : https://arxiv.org/ftp/arxiv/papers/1710/1710.05449.pdf\n",
      "404 : https://arxiv.org/ftp/arxiv/papers/1710/1710.05449.pdf\n",
      "404 : https://arxiv.org/ftp/arxiv/papers/1710/1710.05853.pdf\n",
      "404 : https://arxiv.org/ftp/arxiv/papers/1710/1710.05853.pdf\n",
      "404 : https://arxiv.org/ftp/arxiv/papers/1710/1710.05854.pdf\n",
      "404 : https://arxiv.org/ftp/arxiv/papers/1710/1710.05854.pdf\n",
      "404 : https://arxiv.org/ftp/arxiv/papers/1710/1710.05855.pdf\n",
      "404 : https://arxiv.org/ftp/arxiv/papers/1710/1710.05855.pdf\n",
      "404 : https://arxiv.org/ftp/arxiv/papers/1710/1710.05856.pdf\n",
      "404 : https://arxiv.org/ftp/arxiv/papers/1710/1710.05856.pdf\n",
      "404 : https://arxiv.org/ftp/arxiv/papers/1710/1710.05857.pdf\n",
      "404 : https://arxiv.org/ftp/arxiv/papers/1710/1710.05857.pdf\n",
      "404 : https://arxiv.org/ftp/arxiv/papers/1710/1710.05858.pdf\n",
      "404 : https://arxiv.org/ftp/arxiv/papers/1710/1710.05858.pdf\n",
      "404 : https://arxiv.org/ftp/arxiv/papers/1710/1710.05859.pdf\n",
      "404 : https://arxiv.org/ftp/arxiv/papers/1710/1710.05859.pdf\n",
      "404 : https://arxiv.org/ftp/arxiv/papers/1710/1710.05860.pdf\n",
      "404 : https://arxiv.org/ftp/arxiv/papers/1710/1710.05860.pdf\n",
      "404 : https://arxiv.org/ftp/arxiv/papers/1710/1710.05861.pdf\n",
      "404 : https://arxiv.org/ftp/arxiv/papers/1710/1710.05861.pdf\n",
      "404 : https://arxiv.org/ftp/arxiv/papers/1710/1710.05862.pdf\n",
      "404 : https://arxiv.org/ftp/arxiv/papers/1710/1710.05862.pdf\n",
      "404 : https://arxiv.org/ftp/arxiv/papers/1710/1710.05863.pdf\n",
      "404 : https://arxiv.org/ftp/arxiv/papers/1710/1710.05863.pdf\n",
      "404 : https://arxiv.org/ftp/arxiv/papers/1710/1710.05864.pdf\n",
      "404 : https://arxiv.org/ftp/arxiv/papers/1710/1710.05864.pdf\n",
      "404 : https://arxiv.org/ftp/arxiv/papers/1710/1710.05865.pdf\n",
      "404 : https://arxiv.org/ftp/arxiv/papers/1710/1710.05865.pdf\n"
     ]
    }
   ],
   "source": [
    "\n",
    "os.chdir('/Users/brettlv')\n",
    "if os.path.exists('/Users/brettlv/GW170817_pdf_download'):\n",
    "    os.chdir('/Users/brettlv/GW170817_pdf_download')\n",
    "else:\n",
    "    os.mkdir('GW170817_pdf_download')\n",
    "    os.chdir(os.path.join(os.getcwd(), 'GW170817_pdf_download'))\n",
    "\n",
    "for url in url_lst[:]:\n",
    "    url1 = root1_url + url+'.pdf'  #形成完整的下载地址\n",
    "    url2 = root2_url + url+'.pdf'\n",
    "    judge=downpdf(url1)\n",
    "    if judge==False:\n",
    "        downpdf(url2)        \n",
    "    time.sleep(1)\n",
    "    \n",
    "    \n",
    "    "
   ]
  },
  {
   "cell_type": "code",
   "execution_count": null,
   "metadata": {
    "collapsed": true
   },
   "outputs": [],
   "source": []
  }
 ],
 "metadata": {
  "kernelspec": {
   "display_name": "Python 3",
   "language": "python",
   "name": "python3"
  },
  "language_info": {
   "codemirror_mode": {
    "name": "ipython",
    "version": 3
   },
   "file_extension": ".py",
   "mimetype": "text/x-python",
   "name": "python",
   "nbconvert_exporter": "python",
   "pygments_lexer": "ipython3",
   "version": "3.6.0"
  },
  "latex_envs": {
   "LaTeX_envs_menu_present": true,
   "autocomplete": true,
   "bibliofile": "biblio.bib",
   "cite_by": "apalike",
   "current_citInitial": 1,
   "eqLabelWithNumbers": true,
   "eqNumInitial": 1,
   "hotkeys": {
    "equation": "Ctrl-E",
    "itemize": "Ctrl-I"
   },
   "labels_anchors": false,
   "latex_user_defs": false,
   "report_style_numbering": false,
   "user_envs_cfg": false
  },
  "toc": {
   "nav_menu": {},
   "number_sections": true,
   "sideBar": true,
   "skip_h1_title": false,
   "toc_cell": false,
   "toc_position": {},
   "toc_section_display": "block",
   "toc_window_display": false
  }
 },
 "nbformat": 4,
 "nbformat_minor": 2
}
