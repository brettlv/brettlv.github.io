{
 "cells": [
  {
   "cell_type": "code",
   "execution_count": null,
   "metadata": {
    "ExecuteTime": {
     "end_time": "2018-08-03T09:14:30.129766+08:00",
     "start_time": "2018-08-03T09:14:29.285073Z"
    },
    "collapsed": true
   },
   "outputs": [],
   "source": [
    "# coding = UTF-8\n",
    "# 爬取html链接中对应的PDF文档,网址：https://blogs.cornell.edu/arxiv/2017/10/16/gw170817/\n",
    "import urllib.request\n",
    "import re\n",
    "import os\n",
    "import requests,time"
   ]
  },
  {
   "cell_type": "code",
   "execution_count": null,
   "metadata": {
    "ExecuteTime": {
     "end_time": "2018-08-03T09:30:11.676320+08:00",
     "start_time": "2018-08-03T09:30:11.652663Z"
    },
    "collapsed": true
   },
   "outputs": [],
   "source": [
    "\n",
    "\n",
    "# open the url and read\n",
    "def getHtml(url):\n",
    "    page = urllib.request.urlopen(url)\n",
    "    html = page.read()\n",
    "    page.close()\n",
    "    return html\n",
    "# compile the regular expressions and find\n",
    "# all stuff we need\n",
    "def getUrl(html):\n",
    "    reg = r'(1710.\\d+)' #匹配了G176200001\n",
    "    url_re = re.compile(reg)\n",
    "    url_lst = url_re.findall(html.decode('UTF-8')) #返回匹配的数组\n",
    "    return(url_lst)\n",
    "\n",
    "def getFile(url):\n",
    "    timeout=10\n",
    "    file_name = url.split('/')[-1]\n",
    "    u = urllib.request.urlopen(url)\n",
    "    \n",
    "    headers = {'User-Agent':'Mozilla/5.0 (Windows NT 6.1) AppleWebKit/537.11 (KHTML, like Gecko) Chrome/23.0.1271.64 Safari/537.11',\n",
    "'Accept':'text/html;q=0.9,*/*;q=0.8',\n",
    "'Accept-Charset':'ISO-8859-1,utf-8;q=0.7,*;q=0.3',\n",
    "'Accept-Encoding':'gzip',\n",
    "'Connection':'close',\n",
    "'Referer':None #注意如果依然不能抓取的话，这里可以设置抓取网站的host\n",
    "}\n",
    "\n",
    "    #opener = urllib.request.build_opener()\n",
    "    #opener.addheaders = [headers]\n",
    "    #data = opener.open(url)\n",
    "    #data=requests.get(url)\n",
    "    \n",
    "    block_sz = 8192*16\n",
    "    with open(file_name,\"wb\") as f:\n",
    "        while True:\n",
    "            buffer=u.read(block_sz)\n",
    "            if not buffer:\n",
    "                break\n",
    "            f.write(buffer)      \n",
    "        print (\"Sucessful to download\" + \" \" + file_name)"
   ]
  },
  {
   "cell_type": "code",
   "execution_count": null,
   "metadata": {
    "ExecuteTime": {
     "end_time": "2017-12-20T09:01:56.443196Z",
     "start_time": "2017-12-20T09:01:56.435728Z"
    },
    "collapsed": true
   },
   "outputs": [],
   "source": [
    "len(url_lst)"
   ]
  },
  {
   "cell_type": "code",
   "execution_count": null,
   "metadata": {
    "ExecuteTime": {
     "end_time": "2017-12-20T08:59:41.020466Z",
     "start_time": "2017-12-20T08:59:41.016876Z"
    },
    "collapsed": true
   },
   "outputs": [],
   "source": [
    "#print(url_lst)"
   ]
  },
  {
   "cell_type": "code",
   "execution_count": null,
   "metadata": {
    "collapsed": true
   },
   "outputs": [],
   "source": [
    "root1_url=  'https://arxiv.org/ftp/arxiv/papers/1710/'\n",
    "root2_url=  'https://arxiv.org/pdf/'\n",
    "\n",
    "#root_url = 'http://pm.zjsti.gov.cn/tempublicfiles/'  #下载地址中相同的部分\n",
    "#raw_url = 'https://blogs.cornell.edu/arxiv/2017/10/16/gw170817/'\n",
    "#raw_url = 'file:///E:/ZjuTH/Documents/pythonCode/pythontest.html'\n",
    "#raw_url = 'https://science.nrao.edu/science/meetings/2018/16th-synthesis-imaging-workshop/16th-synthesis-imaging-workshop-lectures'\n",
    "\n",
    "html = getHtml(raw_url)\n",
    "url_lst = getUrl(html)\n",
    "#print(url_lst)\n",
    "\n",
    "def downpdf(pdfUrl):\n",
    "    filename = pdfUrl.split('/')[-1]\n",
    "    try:\n",
    "        res = requests.get(pdfUrl,stream=True,timeout=10)\n",
    "        if str(res.status_code)[0] == \"4\":\n",
    "            print(str(res.status_code), \":\" , pdfUrl)\n",
    "            return False\n",
    "    except Exception as e:\n",
    "        print(\"抛出异常：\", pdfUrl)\n",
    "        print(e)\n",
    "        return False\n",
    "    block_sz = 8192*16\n",
    "    with open(filename, \"wb\") as f:\n",
    "        for chunk in res.iter_content(chunk_size=102400):\n",
    "            if chunk:\n",
    "                f.write(chunk)\n",
    "                \n",
    "        #f.write(res.content)    \n",
    "    return True"
   ]
  },
  {
   "cell_type": "code",
   "execution_count": null,
   "metadata": {
    "collapsed": true
   },
   "outputs": [],
   "source": [
    "\n",
    "os.chdir('/Users/brettlv')\n",
    "if os.path.exists('/Users/brettlv/GW170817_pdf_download'):\n",
    "    os.chdir('/Users/brettlv/GW170817_pdf_download')\n",
    "else:\n",
    "    os.mkdir('GW170817_pdf_download')\n",
    "    os.chdir(os.path.join(os.getcwd(), 'GW170817_pdf_download'))\n",
    "\n",
    "for url in url_lst[:]:\n",
    "    url1 = root1_url + url+'.pdf'  #形成完整的下载地址\n",
    "    url2 = root2_url + url+'.pdf'\n",
    "    judge=downpdf(url1)\n",
    "    if judge==False:\n",
    "        downpdf(url2)        \n",
    "    time.sleep(1)\n",
    "    \n",
    "    \n",
    "    "
   ]
  },
  {
   "cell_type": "code",
   "execution_count": 1,
   "metadata": {
    "ExecuteTime": {
     "end_time": "2018-08-03T10:02:11.065882+08:00",
     "start_time": "2018-08-03T10:02:11.052150Z"
    },
    "collapsed": false
   },
   "outputs": [
    {
     "data": {
      "text/plain": [
       "'/Users/brettlv/blog/brettlv.github.io/pythoncode'"
      ]
     },
     "execution_count": 1,
     "metadata": {},
     "output_type": "execute_result"
    }
   ],
   "source": [
    "pwddir='/Users/brettlv/blog/brettlv.github.io/pythoncode'"
   ]
  },
  {
   "cell_type": "markdown",
   "metadata": {},
   "source": [
    "## 2016_5th_vla_workshop"
   ]
  },
  {
   "cell_type": "code",
   "execution_count": 4,
   "metadata": {
    "ExecuteTime": {
     "end_time": "2019-03-24T22:26:37.429299Z",
     "start_time": "2019-03-24T22:26:30.417491Z"
    },
    "collapsed": false
   },
   "outputs": [
    {
     "name": "stdout",
     "output_type": "stream",
     "text": [
      "/Users/brettlv/2016_5th_vla_workshop\n"
     ]
    }
   ],
   "source": [
    "from urllib.request import urlretrieve\n",
    "from urllib.request import urlopen\n",
    "from bs4 import BeautifulSoup \n",
    "import numpy as np\n",
    "import pandas as pd\n",
    "import urllib\n",
    "import re\n",
    "import os\n",
    "from lxml.html import parse\n",
    "import urllib.request\n",
    "import re\n",
    "import os\n",
    "import requests,time\n",
    "# open the url and read\n",
    "\n",
    "\n",
    "def getHtml(url):\n",
    "    page = urllib.request.urlopen(url)\n",
    "    html = page.read()\n",
    "    page.close()\n",
    "    return html\n",
    "# compile the regular expressions and find\n",
    "# all stuff we need\n",
    "def getUrl(html):\n",
    "    reg = r'(?:href|HREF)=\"?((?:https://)?.+?\\.pdf)' #匹配了\n",
    "    url_re = re.compile(reg)\n",
    "    url_lst = url_re.findall(html.decode('UTF-8')) #返回匹配的数组\n",
    "    return(url_lst)\n",
    "\n",
    "\n",
    "#raw_url = 'https://science.nrao.edu/science/meetings/2018/16th-synthesis-imaging-workshop/talks/'\n",
    "#print(url_lst)\n",
    "#path='/Users/brettlv/16th_synthesis_imaging_workshop/'\n",
    "\n",
    "raw_url = 'https://science.nrao.edu/science/meetings/2016/vla-data-reduction/program/'\n",
    "path='/Users/brettlv/2016_5th_vla_workshop/'\n",
    "\n",
    "isExists = os.path.exists(path)\n",
    "if not isExists:\n",
    "    os.makedirs(path)\n",
    "os.chdir(path)\n",
    "print(os.getcwd())\n",
    "\n",
    "html = getHtml(raw_url)\n",
    "url_lst = getUrl(html)\n",
    "#print(url_lst)\n",
    "\n",
    "def downpdf(pdfUrl):\n",
    "    filename = pdfUrl.split('/')[-1]\n",
    "    try:\n",
    "        res = requests.get(pdfUrl,stream=True,timeout=10)\n",
    "        if str(res.status_code)[0] == \"4\":\n",
    "            print(str(res.status_code), \":\" , pdfUrl)\n",
    "            return False\n",
    "    except Exception as e:\n",
    "        print(\"抛出异常：\", pdfUrl)\n",
    "        print(e)\n",
    "        return False\n",
    "    block_sz = 8192*16\n",
    "    with open(filename, \"wb\") as f:\n",
    "        for chunk in res.iter_content(chunk_size=102400):\n",
    "            if chunk:\n",
    "                f.write(chunk)\n",
    "        print(filename,'downloaded')        \n",
    "        #f.write(res.content)    \n",
    "    return True\n",
    "\n",
    "for url in url_lst[:]:\n",
    "    print(url)\n",
    "    downpdf(url)"
   ]
  },
  {
   "cell_type": "code",
   "execution_count": 7,
   "metadata": {
    "ExecuteTime": {
     "end_time": "2019-03-25T11:37:33.922919Z",
     "start_time": "2019-03-25T11:37:33.908404Z"
    },
    "collapsed": false
   },
   "outputs": [
    {
     "data": {
      "text/plain": [
       "15"
      ]
     },
     "execution_count": 7,
     "metadata": {},
     "output_type": "execute_result"
    }
   ],
   "source": [
    "len(url_lst)"
   ]
  },
  {
   "cell_type": "code",
   "execution_count": 9,
   "metadata": {
    "ExecuteTime": {
     "end_time": "2019-03-25T13:46:25.927551Z",
     "start_time": "2019-03-25T13:46:25.921053Z"
    },
    "collapsed": false
   },
   "outputs": [
    {
     "name": "stdout",
     "output_type": "stream",
     "text": [
      "https://science.nrao.edu/science/meetings/2016/vla-data-reduction/BB_data_reduction_workshop_2016.pdf\n",
      "https://science.nrao.edu/science/meetings/2016/vla-data-reduction/VLADRW2016_intro_Hales.pdf\n",
      "https://science.nrao.edu/science/meetings/2016/vla-data-reduction/E_Momjian_Data_Reduction_Techniques_2014_v0.pdf\n",
      "https://science.nrao.edu/science/meetings/2016/vla-data-reduction/LSjouwerman_DRW_2016.pdf\n",
      "https://science.nrao.edu/science/meetings/2016/vla-data-reduction/E_Momjian_Data_Reduction_Techniques_Calibration_2016.pdf\n",
      "https://science.nrao.edu/science/meetings/2016/vla-data-reduction/DR2016imaging_jott.pdf\n",
      "https://science.nrao.edu/science/meetings/2016/vla-data-reduction/DR2016imaging_jott.pdf\n",
      "https://science.nrao.edu/science/meetings/2016/vla-data-reduction/Myers_CASA_ToolkitAndScripting_Mar2016.pdf\n",
      "https://science.nrao.edu/science/meetings/2016/vla-data-reduction/Myers_CASA_Scripting_Oct2014.pdf\n",
      "https://science.nrao.edu/science/meetings/2016/vla-data-reduction/EVLAWorkshop_RFI_2016_UR.pdf\n",
      "https://science.nrao.edu/science/meetings/2016/vla-data-reduction/MoellenbrockPolDRW_2016Mar15.pdf\n",
      "https://science.nrao.edu/science/meetings/2016/vla-data-reduction/Pipeline_DRwkshp_2016.pdf\n",
      "https://science.nrao.edu/science/meetings/2016/vla-data-reduction/DRW_2016_DMEDLIN_2.pdf\n",
      "https://science.nrao.edu/science/meetings/2016/vla-data-reduction/copy_of_WF_WB.pdf\n",
      "https://science.nrao.edu/science/meetings/2016/vla-data-reduction/201603DataRedWksp.pdf\n"
     ]
    }
   ],
   "source": [
    "for url in url_lst[:]:\n",
    "    print(url)"
   ]
  },
  {
   "cell_type": "code",
   "execution_count": null,
   "metadata": {
    "ExecuteTime": {
     "end_time": "2019-03-25T15:16:38.616212Z",
     "start_time": "2019-03-25T14:00:25.672070Z"
    },
    "collapsed": false
   },
   "outputs": [],
   "source": []
  },
  {
   "cell_type": "code",
   "execution_count": 12,
   "metadata": {
    "ExecuteTime": {
     "end_time": "2019-03-25T15:26:42.100774Z",
     "start_time": "2019-03-25T15:26:41.926272Z"
    },
    "collapsed": true
   },
   "outputs": [],
   "source": [
    "ls"
   ]
  },
  {
   "cell_type": "code",
   "execution_count": null,
   "metadata": {
    "collapsed": true
   },
   "outputs": [],
   "source": []
  },
  {
   "cell_type": "markdown",
   "metadata": {},
   "source": [
    "## hxmt_first"
   ]
  },
  {
   "cell_type": "code",
   "execution_count": 5,
   "metadata": {
    "ExecuteTime": {
     "end_time": "2020-07-04T14:06:06.466365Z",
     "start_time": "2020-07-04T14:06:06.103139Z"
    },
    "collapsed": false
   },
   "outputs": [],
   "source": [
    "from urllib.request import urlretrieve\n",
    "from urllib.request import urlopen\n",
    "from bs4 import BeautifulSoup \n",
    "import requests\n",
    "import numpy as np\n",
    "import pandas as pd\n",
    "import os\n",
    "\n",
    "#!/usr/bin/env python\n",
    "# -*- coding:utf-8 -*-\n",
    "\n",
    "from selenium import webdriver\n",
    "import numpy as np\n",
    "# 要想调用键盘按键操作需要引入keys包\n",
    "from selenium.webdriver.common.keys import Keys\n",
    "\n",
    "from pyquery import PyQuery\n",
    "\n",
    "import time,os,re,numpy\n",
    "import requests\n",
    "from selenium import webdriver\n",
    "import time\n",
    "import re\n",
    "from pyquery import PyQuery as pq\n",
    "import unittest\n",
    "from selenium import webdriver\n",
    "from bs4 import BeautifulSoup as bs\n",
    "import pandas as pd\n",
    "\n"
   ]
  },
  {
   "cell_type": "code",
   "execution_count": 6,
   "metadata": {
    "ExecuteTime": {
     "end_time": "2020-07-04T14:06:30.103563Z",
     "start_time": "2020-07-04T14:06:30.095841Z"
    },
    "collapsed": false
   },
   "outputs": [
    {
     "name": "stdout",
     "output_type": "stream",
     "text": [
      "/Users/brettlv/Downloads/2020_1th_HXMT_papers\n"
     ]
    }
   ],
   "source": [
    "# open the url and read\n",
    "raw_url ='https://www.sciencedirect.com/journal/journal-of-high-energy-astrophysics/special-issue/10B0FLKPH6C'\n",
    "path='/Users/brettlv/Downloads/2020_1th_HXMT_papers/'\n",
    "isExists = os.path.exists(path)\n",
    "if not isExists:\n",
    "    os.makedirs(path)\n",
    "os.chdir(path)\n",
    "print(os.getcwd())"
   ]
  },
  {
   "cell_type": "code",
   "execution_count": 7,
   "metadata": {
    "ExecuteTime": {
     "end_time": "2020-07-04T14:06:50.488182Z",
     "start_time": "2020-07-04T14:06:44.481318Z"
    },
    "collapsed": false
   },
   "outputs": [
    {
     "name": "stdout",
     "output_type": "stream",
     "text": [
      "Journal of High Energy Astrophysics | Special Issue on Performance and Early Results of China’s 1st X-ray Astronomy Satellite Insight-HXMT | ScienceDirect.com\n"
     ]
    }
   ],
   "source": [
    "#创建浏览器对象\n",
    "driver = webdriver.Chrome(\"/usr/bin/chromedriver\")\n",
    "#driver = webdriver.Chrome()\n",
    "driver.get(raw_url)\n",
    "#打印页面标题“百度一下你就知道”\n",
    "print(driver.title)"
   ]
  },
  {
   "cell_type": "markdown",
   "metadata": {
    "ExecuteTime": {
     "end_time": "2020-07-04T14:34:42.558878Z",
     "start_time": "2020-07-04T14:34:42.488563Z"
    }
   },
   "source": [
    "driver.page_source"
   ]
  },
  {
   "cell_type": "markdown",
   "metadata": {
    "ExecuteTime": {
     "end_time": "2020-07-04T14:32:05.464639Z",
     "start_time": "2020-07-04T14:32:05.325466Z"
    }
   },
   "source": [
    "driver.find_element_by_id(\"Download PDF\")"
   ]
  },
  {
   "cell_type": "code",
   "execution_count": null,
   "metadata": {
    "collapsed": true
   },
   "outputs": [],
   "source": []
  },
  {
   "cell_type": "code",
   "execution_count": null,
   "metadata": {
    "collapsed": true
   },
   "outputs": [],
   "source": []
  },
  {
   "cell_type": "code",
   "execution_count": 1,
   "metadata": {
    "ExecuteTime": {
     "end_time": "2020-07-04T13:43:06.173851Z",
     "start_time": "2020-07-04T13:43:02.659561Z"
    },
    "collapsed": false
   },
   "outputs": [
    {
     "name": "stdout",
     "output_type": "stream",
     "text": [
      "/Users/brettlv/Downloads/2020_1th_HXMT_papers\n"
     ]
    },
    {
     "ename": "HTTPError",
     "evalue": "HTTP Error 403: Forbidden",
     "output_type": "error",
     "traceback": [
      "\u001b[0;31m---------------------------------------------------------------------------\u001b[0m",
      "\u001b[0;31mHTTPError\u001b[0m                                 Traceback (most recent call last)",
      "\u001b[0;32m<ipython-input-1-7e74c1d545ad>\u001b[0m in \u001b[0;36m<module>\u001b[0;34m()\u001b[0m\n\u001b[1;32m     41\u001b[0m \u001b[0mprint\u001b[0m\u001b[0;34m(\u001b[0m\u001b[0mos\u001b[0m\u001b[0;34m.\u001b[0m\u001b[0mgetcwd\u001b[0m\u001b[0;34m(\u001b[0m\u001b[0;34m)\u001b[0m\u001b[0;34m)\u001b[0m\u001b[0;34m\u001b[0m\u001b[0m\n\u001b[1;32m     42\u001b[0m \u001b[0;34m\u001b[0m\u001b[0m\n\u001b[0;32m---> 43\u001b[0;31m \u001b[0mhtml\u001b[0m \u001b[0;34m=\u001b[0m \u001b[0mgetHtml\u001b[0m\u001b[0;34m(\u001b[0m\u001b[0mraw_url\u001b[0m\u001b[0;34m)\u001b[0m\u001b[0;34m\u001b[0m\u001b[0m\n\u001b[0m\u001b[1;32m     44\u001b[0m \u001b[0murl_lst\u001b[0m \u001b[0;34m=\u001b[0m \u001b[0mgetUrl\u001b[0m\u001b[0;34m(\u001b[0m\u001b[0mhtml\u001b[0m\u001b[0;34m)\u001b[0m\u001b[0;34m\u001b[0m\u001b[0m\n\u001b[1;32m     45\u001b[0m \u001b[0;31m#print(url_lst)\u001b[0m\u001b[0;34m\u001b[0m\u001b[0;34m\u001b[0m\u001b[0m\n",
      "\u001b[0;32m<ipython-input-1-7e74c1d545ad>\u001b[0m in \u001b[0;36mgetHtml\u001b[0;34m(url)\u001b[0m\n\u001b[1;32m     16\u001b[0m \u001b[0;34m\u001b[0m\u001b[0m\n\u001b[1;32m     17\u001b[0m \u001b[0;32mdef\u001b[0m \u001b[0mgetHtml\u001b[0m\u001b[0;34m(\u001b[0m\u001b[0murl\u001b[0m\u001b[0;34m)\u001b[0m\u001b[0;34m:\u001b[0m\u001b[0;34m\u001b[0m\u001b[0m\n\u001b[0;32m---> 18\u001b[0;31m     \u001b[0mpage\u001b[0m \u001b[0;34m=\u001b[0m \u001b[0murllib\u001b[0m\u001b[0;34m.\u001b[0m\u001b[0mrequest\u001b[0m\u001b[0;34m.\u001b[0m\u001b[0murlopen\u001b[0m\u001b[0;34m(\u001b[0m\u001b[0murl\u001b[0m\u001b[0;34m)\u001b[0m\u001b[0;34m\u001b[0m\u001b[0m\n\u001b[0m\u001b[1;32m     19\u001b[0m     \u001b[0mhtml\u001b[0m \u001b[0;34m=\u001b[0m \u001b[0mpage\u001b[0m\u001b[0;34m.\u001b[0m\u001b[0mread\u001b[0m\u001b[0;34m(\u001b[0m\u001b[0;34m)\u001b[0m\u001b[0;34m\u001b[0m\u001b[0m\n\u001b[1;32m     20\u001b[0m     \u001b[0mpage\u001b[0m\u001b[0;34m.\u001b[0m\u001b[0mclose\u001b[0m\u001b[0;34m(\u001b[0m\u001b[0;34m)\u001b[0m\u001b[0;34m\u001b[0m\u001b[0m\n",
      "\u001b[0;32m/Users/brettlv/anaconda3/lib/python3.6/urllib/request.py\u001b[0m in \u001b[0;36murlopen\u001b[0;34m(url, data, timeout, cafile, capath, cadefault, context)\u001b[0m\n\u001b[1;32m    221\u001b[0m     \u001b[0;32melse\u001b[0m\u001b[0;34m:\u001b[0m\u001b[0;34m\u001b[0m\u001b[0m\n\u001b[1;32m    222\u001b[0m         \u001b[0mopener\u001b[0m \u001b[0;34m=\u001b[0m \u001b[0m_opener\u001b[0m\u001b[0;34m\u001b[0m\u001b[0m\n\u001b[0;32m--> 223\u001b[0;31m     \u001b[0;32mreturn\u001b[0m \u001b[0mopener\u001b[0m\u001b[0;34m.\u001b[0m\u001b[0mopen\u001b[0m\u001b[0;34m(\u001b[0m\u001b[0murl\u001b[0m\u001b[0;34m,\u001b[0m \u001b[0mdata\u001b[0m\u001b[0;34m,\u001b[0m \u001b[0mtimeout\u001b[0m\u001b[0;34m)\u001b[0m\u001b[0;34m\u001b[0m\u001b[0m\n\u001b[0m\u001b[1;32m    224\u001b[0m \u001b[0;34m\u001b[0m\u001b[0m\n\u001b[1;32m    225\u001b[0m \u001b[0;32mdef\u001b[0m \u001b[0minstall_opener\u001b[0m\u001b[0;34m(\u001b[0m\u001b[0mopener\u001b[0m\u001b[0;34m)\u001b[0m\u001b[0;34m:\u001b[0m\u001b[0;34m\u001b[0m\u001b[0m\n",
      "\u001b[0;32m/Users/brettlv/anaconda3/lib/python3.6/urllib/request.py\u001b[0m in \u001b[0;36mopen\u001b[0;34m(self, fullurl, data, timeout)\u001b[0m\n\u001b[1;32m    530\u001b[0m         \u001b[0;32mfor\u001b[0m \u001b[0mprocessor\u001b[0m \u001b[0;32min\u001b[0m \u001b[0mself\u001b[0m\u001b[0;34m.\u001b[0m\u001b[0mprocess_response\u001b[0m\u001b[0;34m.\u001b[0m\u001b[0mget\u001b[0m\u001b[0;34m(\u001b[0m\u001b[0mprotocol\u001b[0m\u001b[0;34m,\u001b[0m \u001b[0;34m[\u001b[0m\u001b[0;34m]\u001b[0m\u001b[0;34m)\u001b[0m\u001b[0;34m:\u001b[0m\u001b[0;34m\u001b[0m\u001b[0m\n\u001b[1;32m    531\u001b[0m             \u001b[0mmeth\u001b[0m \u001b[0;34m=\u001b[0m \u001b[0mgetattr\u001b[0m\u001b[0;34m(\u001b[0m\u001b[0mprocessor\u001b[0m\u001b[0;34m,\u001b[0m \u001b[0mmeth_name\u001b[0m\u001b[0;34m)\u001b[0m\u001b[0;34m\u001b[0m\u001b[0m\n\u001b[0;32m--> 532\u001b[0;31m             \u001b[0mresponse\u001b[0m \u001b[0;34m=\u001b[0m \u001b[0mmeth\u001b[0m\u001b[0;34m(\u001b[0m\u001b[0mreq\u001b[0m\u001b[0;34m,\u001b[0m \u001b[0mresponse\u001b[0m\u001b[0;34m)\u001b[0m\u001b[0;34m\u001b[0m\u001b[0m\n\u001b[0m\u001b[1;32m    533\u001b[0m \u001b[0;34m\u001b[0m\u001b[0m\n\u001b[1;32m    534\u001b[0m         \u001b[0;32mreturn\u001b[0m \u001b[0mresponse\u001b[0m\u001b[0;34m\u001b[0m\u001b[0m\n",
      "\u001b[0;32m/Users/brettlv/anaconda3/lib/python3.6/urllib/request.py\u001b[0m in \u001b[0;36mhttp_response\u001b[0;34m(self, request, response)\u001b[0m\n\u001b[1;32m    640\u001b[0m         \u001b[0;32mif\u001b[0m \u001b[0;32mnot\u001b[0m \u001b[0;34m(\u001b[0m\u001b[0;36m200\u001b[0m \u001b[0;34m<=\u001b[0m \u001b[0mcode\u001b[0m \u001b[0;34m<\u001b[0m \u001b[0;36m300\u001b[0m\u001b[0;34m)\u001b[0m\u001b[0;34m:\u001b[0m\u001b[0;34m\u001b[0m\u001b[0m\n\u001b[1;32m    641\u001b[0m             response = self.parent.error(\n\u001b[0;32m--> 642\u001b[0;31m                 'http', request, response, code, msg, hdrs)\n\u001b[0m\u001b[1;32m    643\u001b[0m \u001b[0;34m\u001b[0m\u001b[0m\n\u001b[1;32m    644\u001b[0m         \u001b[0;32mreturn\u001b[0m \u001b[0mresponse\u001b[0m\u001b[0;34m\u001b[0m\u001b[0m\n",
      "\u001b[0;32m/Users/brettlv/anaconda3/lib/python3.6/urllib/request.py\u001b[0m in \u001b[0;36merror\u001b[0;34m(self, proto, *args)\u001b[0m\n\u001b[1;32m    568\u001b[0m         \u001b[0;32mif\u001b[0m \u001b[0mhttp_err\u001b[0m\u001b[0;34m:\u001b[0m\u001b[0;34m\u001b[0m\u001b[0m\n\u001b[1;32m    569\u001b[0m             \u001b[0margs\u001b[0m \u001b[0;34m=\u001b[0m \u001b[0;34m(\u001b[0m\u001b[0mdict\u001b[0m\u001b[0;34m,\u001b[0m \u001b[0;34m'default'\u001b[0m\u001b[0;34m,\u001b[0m \u001b[0;34m'http_error_default'\u001b[0m\u001b[0;34m)\u001b[0m \u001b[0;34m+\u001b[0m \u001b[0morig_args\u001b[0m\u001b[0;34m\u001b[0m\u001b[0m\n\u001b[0;32m--> 570\u001b[0;31m             \u001b[0;32mreturn\u001b[0m \u001b[0mself\u001b[0m\u001b[0;34m.\u001b[0m\u001b[0m_call_chain\u001b[0m\u001b[0;34m(\u001b[0m\u001b[0;34m*\u001b[0m\u001b[0margs\u001b[0m\u001b[0;34m)\u001b[0m\u001b[0;34m\u001b[0m\u001b[0m\n\u001b[0m\u001b[1;32m    571\u001b[0m \u001b[0;34m\u001b[0m\u001b[0m\n\u001b[1;32m    572\u001b[0m \u001b[0;31m# XXX probably also want an abstract factory that knows when it makes\u001b[0m\u001b[0;34m\u001b[0m\u001b[0;34m\u001b[0m\u001b[0m\n",
      "\u001b[0;32m/Users/brettlv/anaconda3/lib/python3.6/urllib/request.py\u001b[0m in \u001b[0;36m_call_chain\u001b[0;34m(self, chain, kind, meth_name, *args)\u001b[0m\n\u001b[1;32m    502\u001b[0m         \u001b[0;32mfor\u001b[0m \u001b[0mhandler\u001b[0m \u001b[0;32min\u001b[0m \u001b[0mhandlers\u001b[0m\u001b[0;34m:\u001b[0m\u001b[0;34m\u001b[0m\u001b[0m\n\u001b[1;32m    503\u001b[0m             \u001b[0mfunc\u001b[0m \u001b[0;34m=\u001b[0m \u001b[0mgetattr\u001b[0m\u001b[0;34m(\u001b[0m\u001b[0mhandler\u001b[0m\u001b[0;34m,\u001b[0m \u001b[0mmeth_name\u001b[0m\u001b[0;34m)\u001b[0m\u001b[0;34m\u001b[0m\u001b[0m\n\u001b[0;32m--> 504\u001b[0;31m             \u001b[0mresult\u001b[0m \u001b[0;34m=\u001b[0m \u001b[0mfunc\u001b[0m\u001b[0;34m(\u001b[0m\u001b[0;34m*\u001b[0m\u001b[0margs\u001b[0m\u001b[0;34m)\u001b[0m\u001b[0;34m\u001b[0m\u001b[0m\n\u001b[0m\u001b[1;32m    505\u001b[0m             \u001b[0;32mif\u001b[0m \u001b[0mresult\u001b[0m \u001b[0;32mis\u001b[0m \u001b[0;32mnot\u001b[0m \u001b[0;32mNone\u001b[0m\u001b[0;34m:\u001b[0m\u001b[0;34m\u001b[0m\u001b[0m\n\u001b[1;32m    506\u001b[0m                 \u001b[0;32mreturn\u001b[0m \u001b[0mresult\u001b[0m\u001b[0;34m\u001b[0m\u001b[0m\n",
      "\u001b[0;32m/Users/brettlv/anaconda3/lib/python3.6/urllib/request.py\u001b[0m in \u001b[0;36mhttp_error_default\u001b[0;34m(self, req, fp, code, msg, hdrs)\u001b[0m\n\u001b[1;32m    648\u001b[0m \u001b[0;32mclass\u001b[0m \u001b[0mHTTPDefaultErrorHandler\u001b[0m\u001b[0;34m(\u001b[0m\u001b[0mBaseHandler\u001b[0m\u001b[0;34m)\u001b[0m\u001b[0;34m:\u001b[0m\u001b[0;34m\u001b[0m\u001b[0m\n\u001b[1;32m    649\u001b[0m     \u001b[0;32mdef\u001b[0m \u001b[0mhttp_error_default\u001b[0m\u001b[0;34m(\u001b[0m\u001b[0mself\u001b[0m\u001b[0;34m,\u001b[0m \u001b[0mreq\u001b[0m\u001b[0;34m,\u001b[0m \u001b[0mfp\u001b[0m\u001b[0;34m,\u001b[0m \u001b[0mcode\u001b[0m\u001b[0;34m,\u001b[0m \u001b[0mmsg\u001b[0m\u001b[0;34m,\u001b[0m \u001b[0mhdrs\u001b[0m\u001b[0;34m)\u001b[0m\u001b[0;34m:\u001b[0m\u001b[0;34m\u001b[0m\u001b[0m\n\u001b[0;32m--> 650\u001b[0;31m         \u001b[0;32mraise\u001b[0m \u001b[0mHTTPError\u001b[0m\u001b[0;34m(\u001b[0m\u001b[0mreq\u001b[0m\u001b[0;34m.\u001b[0m\u001b[0mfull_url\u001b[0m\u001b[0;34m,\u001b[0m \u001b[0mcode\u001b[0m\u001b[0;34m,\u001b[0m \u001b[0mmsg\u001b[0m\u001b[0;34m,\u001b[0m \u001b[0mhdrs\u001b[0m\u001b[0;34m,\u001b[0m \u001b[0mfp\u001b[0m\u001b[0;34m)\u001b[0m\u001b[0;34m\u001b[0m\u001b[0m\n\u001b[0m\u001b[1;32m    651\u001b[0m \u001b[0;34m\u001b[0m\u001b[0m\n\u001b[1;32m    652\u001b[0m \u001b[0;32mclass\u001b[0m \u001b[0mHTTPRedirectHandler\u001b[0m\u001b[0;34m(\u001b[0m\u001b[0mBaseHandler\u001b[0m\u001b[0;34m)\u001b[0m\u001b[0;34m:\u001b[0m\u001b[0;34m\u001b[0m\u001b[0m\n",
      "\u001b[0;31mHTTPError\u001b[0m: HTTP Error 403: Forbidden"
     ]
    }
   ],
   "source": [
    "\n",
    "\n",
    "def downpdf(pdfUrl):\n",
    "    filename = pdfUrl.split('/')[-1]\n",
    "    try:\n",
    "        res = requests.get(pdfUrl,stream=True,timeout=10)\n",
    "        if str(res.status_code)[0] == \"4\":\n",
    "            print(str(res.status_code), \":\" , pdfUrl)\n",
    "            return False\n",
    "    except Exception as e:\n",
    "        print(\"抛出异常：\", pdfUrl)\n",
    "        print(e)\n",
    "        return False\n",
    "    block_sz = 8192*16\n",
    "    with open(filename, \"wb\") as f:\n",
    "        for chunk in res.iter_content(chunk_size=102400):\n",
    "            if chunk:\n",
    "                f.write(chunk)\n",
    "        print(filename,'downloaded')        \n",
    "        #f.write(res.content)    \n",
    "    return True\n",
    "\n",
    "for url in url_lst[:]:\n",
    "    print(url)\n",
    "    #downpdf(url)"
   ]
  },
  {
   "cell_type": "code",
   "execution_count": null,
   "metadata": {
    "collapsed": true
   },
   "outputs": [],
   "source": []
  }
 ],
 "metadata": {
  "kernelspec": {
   "display_name": "Python 3",
   "language": "python",
   "name": "python3"
  },
  "language_info": {
   "codemirror_mode": {
    "name": "ipython",
    "version": 3
   },
   "file_extension": ".py",
   "mimetype": "text/x-python",
   "name": "python",
   "nbconvert_exporter": "python",
   "pygments_lexer": "ipython3",
   "version": "3.6.0"
  },
  "latex_envs": {
   "LaTeX_envs_menu_present": true,
   "autocomplete": true,
   "bibliofile": "biblio.bib",
   "cite_by": "apalike",
   "current_citInitial": 1,
   "eqLabelWithNumbers": true,
   "eqNumInitial": 1,
   "hotkeys": {
    "equation": "Ctrl-E",
    "itemize": "Ctrl-I"
   },
   "labels_anchors": false,
   "latex_user_defs": false,
   "report_style_numbering": false,
   "user_envs_cfg": false
  },
  "toc": {
   "nav_menu": {},
   "number_sections": true,
   "sideBar": true,
   "skip_h1_title": false,
   "toc_cell": false,
   "toc_position": {},
   "toc_section_display": "block",
   "toc_window_display": true
  }
 },
 "nbformat": 4,
 "nbformat_minor": 2
}
