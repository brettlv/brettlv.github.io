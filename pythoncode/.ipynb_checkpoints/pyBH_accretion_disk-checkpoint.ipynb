{
 "cells": [
  {
   "cell_type": "code",
   "execution_count": 14,
   "metadata": {
    "collapsed": true
   },
   "outputs": [],
   "source": [
    "from IPython.display import display, Math, Latex"
   ]
  },
  {
   "cell_type": "markdown",
   "metadata": {
    "deletable": true,
    "editable": true
   },
   "source": [
    "\n",
    "\n",
    "## Slim disk\n",
    "\n",
    "\\begin{equation}\n",
    "\\dot{M}=-2\\pi r \\Sigma v_r\n",
    "\\tag{1.a}\n",
    "\\end{equation}\n",
    "\n",
    "\\begin{equation}\n",
    "\\dot{M}(l-l_{in})=-2\\pi r^2 T_{r \\phi}\n",
    "\\tag{1.b}\n",
    "\\end{equation}\n",
    "\n",
    "\\begin{equation}\n",
    "v_r\\frac{d v_r}{d r}+\\frac{d \\Pi}{\\Sigma d r}=\\frac{l^2-l^2_K}{r^3}-\\frac{\\Pi d ln \\Omega_K}{\\Sigma d r}\n",
    "\\tag{1.c}\n",
    "\\end{equation}\n",
    "\n",
    "\\begin{equation}\n",
    "Q_{vis}=Q_{adv}+Q_{rad}\n",
    "\\tag{1.d}\n",
    "\\end{equation}\n",
    "\n",
    "\n",
    "\\begin{equation}\n",
    "Q_{vis}=-2\\pi r^2 \\alpha \\omega \\frac{d \\Omega}{d r}\n",
    "\\tag{1.e}\n",
    "\\end{equation}\n",
    "\n",
    "\\begin{equation}\n",
    "Q_{adv}=-\\frac{\\dot{M}}{\\Gamma_3-1}\\frac{W}{\\Sigma}(\\frac{d lnW}{d r}-\\Gamma_1\\frac{d ln\\Sigma}{d r}+(\\Gamma_1-1)\\frac{d ln H}{d r})\n",
    "\\tag{1.f}\n",
    "\\end{equation}\n",
    "\n",
    "\\begin{equation}\n",
    "Q_{rad}=4\\pi r \\frac{8acT^4}{3\\kappa \\rho H}=4\\pi r \\frac{8acT^4}{3\\tau}=4\\pi r \\Gamma_z\n",
    "\\tag{1.g}\n",
    "\\end{equation}\n"
   ]
  },
  {
   "cell_type": "markdown",
   "metadata": {
    "deletable": true,
    "editable": true
   },
   "source": []
  },
  {
   "cell_type": "markdown",
   "metadata": {
    "deletable": true,
    "editable": true
   },
   "source": [
    "## Variable $$\\eta , l $$\n",
    "\\begin{equation}\n",
    "l=\\Omega r^2\n",
    "\\tag{2.a}\n",
    "\\end{equation}\n",
    "\n",
    "\\begin{equation}\n",
    "\\eta=\\frac{v^2_r}{\\omega / \\Sigma}\n",
    "\\tag{2.b}\n",
    "\\end{equation}\n",
    "\n",
    "\\begin{equation}\n",
    "\\frac{d l}{d r}=2r\\Omega+r^2\\times\\frac{d \\Omega}{d r}\n",
    "\\tag{2.c}\n",
    "\\end{equation}\n",
    "\n",
    "\\begin{equation}\n",
    "H=\\sqrt{12}\\frac{c_s}{\\Omega_k}=\\sqrt{12}\\frac{(\\omega/\\Sigma)^{0.5}}{\\Omega_k}\n",
    "\\tag{2.d}\n",
    "\\end{equation}"
   ]
  },
  {
   "cell_type": "markdown",
   "metadata": {
    "deletable": true,
    "editable": true
   },
   "source": []
  },
  {
   "cell_type": "markdown",
   "metadata": {
    "deletable": true,
    "editable": true
   },
   "source": [
    "## Derivate Equations\n",
    "\\begin{equation}\n",
    "(\\frac{2\\Gamma_1}{\\Gamma_3-1}\\frac{\\dot{M}}{2\\pi\\alpha r^2 \\omega}-\\frac{2\\pi \\alpha \\omega}{k\\dot{M}})\\frac{d l}{d r}+\\frac{3 \\Gamma_1-1}{\\Gamma_3-1} \\frac{1}{2\\eta }\\frac{d \\eta}{d r}=\\frac{\\Gamma_1-1}{\\Gamma_3-1}\\frac{d ln \\Omega_k}{d r}+\\frac{4\\pi r \\Gamma_z}{k\\dot{M}}+\\frac{\\Gamma_1+1}{r (\\Gamma_3-1)}-\\frac{4\\pi \\alpha \\omega l}{r k \\dot{M}}\n",
    "\\tag{3.a}\n",
    "\\end{equation}\n",
    "\n",
    "\\begin{equation}\n",
    "\\frac{d \\eta}{d r}+(1+\\eta)\\frac{\\dot{M}d l}{2\\pi \\alpha r^2 \\omega d r}=\\frac{2 (1+\\eta)}{r}+\\frac{(l^2-l^2_k)\\Sigma}{r^3 \\omega}-\\frac{\\eta}{r}-\\frac{d ln \\Omega_k}{d r}\n",
    "\\tag{3.b}\n",
    "\\end{equation}"
   ]
  },
  {
   "cell_type": "markdown",
   "metadata": {
    "deletable": true,
    "editable": true
   },
   "source": [
    "##  Solve Equation\n",
    "\n",
    "\n",
    "\\begin{equation}\n",
    "\\{\\frac{2\\Gamma_1}{\\Gamma_3-1}\\frac{\\dot{M}}{2\\pi\\alpha r^2 \\omega}-\\frac{2\\pi \\alpha \\omega}{k\\dot{M}}-\\frac{(1+\\eta)(3\\Gamma_1-1)\\dot{M}}{4\\eta (\\Gamma_3-1) \\alpha \\pi r^2 \\omega }\\}\\frac{d l}{d r}=\\frac{\\Gamma_1-1}{\\Gamma_3-1}\\frac{d ln \\Omega_k}{d r}+\\frac{4\\pi r \\Gamma_z}{k\\dot{M}}+\\frac{\\Gamma_1+1}{r (\\Gamma_3-1)}-\\frac{4\\pi \\alpha \\omega l}{r k \\dot{M}}-\\frac{(1+\\eta)(3\\Gamma_1-1)}{\\eta (\\Gamma_3-1)}-\\frac{(l^2-l^2_k)(3\\Gamma_1-1)\\Sigma}{2\\eta (\\Gamma_3-1) r^3 \\omega }+\\frac{(3\\Gamma_1-1)}{2 (\\Gamma_3-1) r }+\\frac{(3\\Gamma_1-1)d ln\\Omega_k}{2\\eta (\\Gamma_3-1) dr }\n",
    "\\tag{3.a}\n",
    "\\end{equation}\n",
    "\n",
    "\n",
    "\n",
    "\n",
    "\\begin{equation}\n",
    "\\frac{d \\eta}{d r}=-(1+\\eta)\\frac{\\dot{M}}{2\\pi \\alpha r^2 \\omega }\\frac{dl}{dr}+\\frac{2 (1+\\eta)}{r}+\\frac{(l^2-l^2_k)\\Sigma}{r^3 \\omega}-\\frac{\\eta}{r}-\\frac{d ln \\Omega_k}{d r}\n",
    "\\tag{3.b}\n",
    "\\end{equation}"
   ]
  },
  {
   "cell_type": "markdown",
   "metadata": {
    "deletable": true,
    "editable": true
   },
   "source": [
    "# Initial Condition##\n",
    "###### $k=\\omega/\\Sigma=W/\\Sigma$\n",
    "###### $\\Sigma=\\int{\\rho dz}$\n",
    "###### $\\Pi=\\int{p dz}=\\omega=W=\\frac{1}{3}aT^4H+\\frac{2k_B}{m_p}\\Sigma T $\n",
    "###### $l -l_{in}=\\frac{2\\pi \\alpha r^2 \\omega}{\\dot{M}}$\n",
    "###### $r_0=10000r_g$\n",
    "###### $\\Omega_0=0.998\\Omega =0.998\\sqrt{\\frac{GM}{r_0^3}}$\n",
    "###### $l_0=\\Omega_0 r_0^2=\\sqrt{GMr_0}$\n",
    "###### $l_k=\\Omega_k r_k^2=\\frac{\\sqrt{12W/\\Sigma}}{H}r_k^2$\n",
    "###### $\\Omega=\\sqrt{\\frac{GM}{r^3}}$\n",
    "###### $\\Gamma_z=\\frac{8acT^4}{3\\kappa \\rho H}$\n",
    "\n",
    "### Initial Conditions from SS disk\n",
    "###### $v_{r}=2.7\\times10^2 \\alpha^{4/5}\\dot{M}^{3/10}_{16} (\\frac{M}{M_{\\odot}})^{-1/4}r^{-1/4}_{10}f^{-14/5}$  单位 m/s\n",
    "###### $\\Sigma=5.2 \\times10^3 \\alpha^{-4/5}\\dot{M}^{7/10}_{16}(\\frac{M}{M_{\\odot}})^{1/4}r^{-3/4}_{10}f^{14/5}$ 单位  $kg/m^3$\n",
    "###### $\\rho=3.1\\times10^{-5} \\alpha^{-7/10}\\dot{M}^{11/20}_{16}(\\frac{M}{M_{\\odot}})^{5/8}r^{-15/8}_{10}f^{11/5}$ 单位   $kg/m^3$\n",
    "###### $H=1.7\\times10^6 \\alpha^{-1/10}\\dot{M}^{3/20}_{16}(\\frac{M}{M_{\\odot}})^{-3/8}r^{9/8}_{10}f^{3/5}$ 单位  m\n",
    "###### $T=1.4\\times10^4 \\alpha^{-1/5}\\dot{M}^{3/10}_{16}(\\frac{M}{M_{\\odot}})^{1/4}r^{-3/4}_{10}f^{6/5}$ 单位  K\n",
    "###### $\\tau=33 \\alpha^{-4/5}\\dot{M}^{1/5}_{16}f^{4/5}$ \n",
    "\n",
    "\n",
    "\n",
    "$f=1-(\\frac{r_{in}}{r})^{1/2}$\n",
    "\n",
    "<!-- 单位 m/s -->"
   ]
  },
  {
   "cell_type": "markdown",
   "metadata": {},
   "source": [
    "### Variables\n",
    "#### T \n",
    "#### H/r \n",
    "#### $\\frac{\\Omega}{\\Omega_K} $\n",
    "#### $\\frac{v_r}{c}$ "
   ]
  },
  {
   "cell_type": "code",
   "execution_count": 12,
   "metadata": {
    "collapsed": true,
    "deletable": true,
    "editable": true
   },
   "outputs": [],
   "source": [
    "from scipy.integrate import odeint\n",
    "import numpy as np"
   ]
  },
  {
   "cell_type": "code",
   "execution_count": 13,
   "metadata": {
    "collapsed": false,
    "deletable": true,
    "editable": true
   },
   "outputs": [],
   "source": [
    "router=10000#num*r_g\n",
    "riner=10\n",
    "num=1+(router-riner)*10\n",
    "rnum=np.linspace(10000,10,num)\n",
    "rnum0=10000\n",
    "G=6.67*10**(-11)\n",
    "c=3*10**8#m\n",
    "Msun=1.989*10**30#kg\n",
    "m=10**6\n",
    "M=Msun*m\n",
    "\n",
    "rg=2*G*M/c**2\n",
    "r_in=rg*10\n",
    "f=1-(rin/r)**0.5\n",
    "l_in=(r_in*G*M)**0.5\n",
    "\n",
    "\n",
    "r0=rnum0*rg\n",
    "rn=r/rg\n",
    "Omega0=0.998*(G*M/r0**3)**0.5\n",
    "l0=Omega0*r0**2\n"
   ]
  },
  {
   "cell_type": "code",
   "execution_count": 18,
   "metadata": {
    "collapsed": false,
    "deletable": true,
    "editable": true
   },
   "outputs": [],
   "source": [
    "l=np.zeros(rnum.size)\n",
    "eta=np.zeros(rnum.size)\n",
    "T=np.zeros(rnum.size)\n",
    "\n",
    "\n",
    "Mdot=Msun*10/(86400*365)\n",
    "Gamma1=10000\n",
    "Gamma3=10\n",
    "alpha=0.1\n",
    "\n",
    "\n",
    "def f(rnum,l,eta):\n",
    "    \n",
    "\n",
    "\n",
    "def g(rnum,l,eta):\n",
    "    "
   ]
  },
  {
   "cell_type": "code",
   "execution_count": null,
   "metadata": {
    "collapsed": true,
    "deletable": true,
    "editable": true
   },
   "outputs": [],
   "source": []
  },
  {
   "cell_type": "code",
   "execution_count": null,
   "metadata": {
    "collapsed": true,
    "deletable": true,
    "editable": true
   },
   "outputs": [],
   "source": []
  },
  {
   "cell_type": "code",
   "execution_count": null,
   "metadata": {
    "collapsed": false,
    "deletable": true,
    "editable": true
   },
   "outputs": [],
   "source": []
  },
  {
   "cell_type": "code",
   "execution_count": null,
   "metadata": {
    "collapsed": true,
    "deletable": true,
    "editable": true
   },
   "outputs": [],
   "source": []
  },
  {
   "cell_type": "code",
   "execution_count": null,
   "metadata": {
    "collapsed": true,
    "deletable": true,
    "editable": true
   },
   "outputs": [],
   "source": []
  },
  {
   "cell_type": "code",
   "execution_count": null,
   "metadata": {
    "collapsed": true,
    "deletable": true,
    "editable": true
   },
   "outputs": [],
   "source": []
  },
  {
   "cell_type": "code",
   "execution_count": null,
   "metadata": {
    "collapsed": true,
    "deletable": true,
    "editable": true
   },
   "outputs": [],
   "source": []
  }
 ],
 "metadata": {
  "kernelspec": {
   "display_name": "Python 3",
   "language": "python",
   "name": "python3"
  },
  "language_info": {
   "codemirror_mode": {
    "name": "ipython",
    "version": 3
   },
   "file_extension": ".py",
   "mimetype": "text/x-python",
   "name": "python",
   "nbconvert_exporter": "python",
   "pygments_lexer": "ipython3",
   "version": "3.6.0"
  }
 },
 "nbformat": 4,
 "nbformat_minor": 2
}
