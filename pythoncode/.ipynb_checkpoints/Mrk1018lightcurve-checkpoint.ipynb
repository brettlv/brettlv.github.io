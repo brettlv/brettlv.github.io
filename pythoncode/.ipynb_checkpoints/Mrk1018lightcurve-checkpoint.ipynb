{
 "cells": [
  {
   "cell_type": "code",
   "execution_count": null,
   "metadata": {
    "collapsed": true
   },
   "outputs": [],
   "source": [
    "%matplotlib inline"
   ]
  },
  {
   "cell_type": "code",
   "execution_count": 3,
   "metadata": {
    "ExecuteTime": {
     "end_time": "2019-08-16T15:15:40.770083Z",
     "start_time": "2019-08-16T15:15:36.807033Z"
    },
    "collapsed": true
   },
   "outputs": [],
   "source": [
    "import pandas as pd\n",
    "import numpy as np\n",
    "import stingray\n",
    "import numpy as np\n",
    "from stingray import Lightcurve, Crossspectrum, AveragedCrossspectrum\n",
    "\n",
    "import matplotlib.pyplot as plt\n",
    "import matplotlib.font_manager as font_manager\n",
    "#%matplotlib inline\n",
    "font_prop = font_manager.FontProperties(size=16)"
   ]
  },
  {
   "cell_type": "code",
   "execution_count": 4,
   "metadata": {
    "ExecuteTime": {
     "end_time": "2019-08-16T15:15:43.265536Z",
     "start_time": "2019-08-16T15:15:43.261165Z"
    },
    "collapsed": true
   },
   "outputs": [],
   "source": [
    "# import some modules\n",
    "import numpy as np\n",
    "import matplotlib.pyplot as plt\n",
    "import stingray\n",
    "\n",
    "# choose style of plots, `seaborn-talk` produce nice big figures\n",
    "plt.style.use('seaborn-talk')\n",
    "\n"
   ]
  },
  {
   "cell_type": "code",
   "execution_count": 5,
   "metadata": {
    "ExecuteTime": {
     "end_time": "2019-08-16T15:15:46.545085Z",
     "start_time": "2019-08-16T15:15:46.537705Z"
    },
    "collapsed": true
   },
   "outputs": [],
   "source": [
    "import numpy as np\n",
    "import matplotlib.pyplot as plt\n",
    "import matplotlib.ticker as ticker\n",
    "\n",
    "\n",
    "# Setup a plot such that only the bottom spine is shown\n",
    "def setup(ax):\n",
    "    #ax.spines['right'].set_color('none')\n",
    "    #ax.spines['left'].set_color('none')\n",
    "    #ax.yaxis.set_major_locator(ticker.NullLocator())\n",
    "    #ax.yaxis.set_major_locator(ticker.LogLocator(base=10.0, numticks=15))\n",
    "    \n",
    "    #ax.spines['top'].set_color('none')\n",
    "    ax.xaxis.set_ticks_position('bottom')\n",
    "    ax.tick_params(which='major', width=1.00)\n",
    "    ax.tick_params(which='major', length=5)\n",
    "    ax.tick_params(which='minor', width=0.75)\n",
    "    ax.tick_params(which='minor', length=2.5)\n",
    "    #ax.patch.set_alpha(0.9)"
   ]
  },
  {
   "cell_type": "code",
   "execution_count": 106,
   "metadata": {
    "ExecuteTime": {
     "end_time": "2019-08-19T22:48:14.858707Z",
     "start_time": "2019-08-19T22:48:14.854605Z"
    },
    "collapsed": true
   },
   "outputs": [],
   "source": [
    "marker1=['.','*','+','x','v','^','<','>','1','2','3','4','8','p','P','h','H','X','D','d','|','_']\n",
    "color1=['lightblue','blue','red','tan','gold','sandybrown','olivedrab','chartreuse','darkgreen','m','skyblue','violet','crimson','aqua','purple','magenta','yellow','lime','turquoise','lightcyan','teal','indigo']"
   ]
  },
  {
   "cell_type": "code",
   "execution_count": 6,
   "metadata": {
    "ExecuteTime": {
     "end_time": "2019-08-16T15:15:49.382485Z",
     "start_time": "2019-08-16T15:15:49.377834Z"
    },
    "collapsed": true
   },
   "outputs": [],
   "source": [
    "def get_namelist(df,name):\n",
    "    state=df[name]\n",
    "    stateori=[]\n",
    "    for i in state:\n",
    "        if i not in stateori:\n",
    "            stateori.append(i)\n",
    "    return stateori"
   ]
  },
  {
   "cell_type": "code",
   "execution_count": 104,
   "metadata": {
    "ExecuteTime": {
     "end_time": "2019-08-19T22:46:29.187190Z",
     "start_time": "2019-08-19T22:46:28.565660Z"
    },
    "collapsed": false
   },
   "outputs": [
    {
     "name": "stdout",
     "output_type": "stream",
     "text": [
      "6\n",
      "[nan, 'L', 'C', 'X', 'K', 'C,S']\n"
     ]
    }
   ],
   "source": [
    "radiomrk1018=pd.read_excel('/Users/brettlv/Downloads/vla_archival_survey.xlsx',sheet_name='Sheet2')\n",
    "filename=radiomrk1018\n",
    "\n",
    "\n",
    "parax='meanepoch'\n",
    "paraxerr='terr'\n",
    "parax1='Datestart'\n",
    "parax2='Datestop'\n",
    "paray='Fint(mJy)'\n",
    "parayerr='rms'\n",
    "paralist='band'\n",
    "\n",
    "t1=np.array(pd.to_datetime(filename[parax1]),dtype='datetime64[D]')\n",
    "t2=np.array(pd.to_datetime(filename[parax2]),dtype='datetime64[D]')\n",
    "\n",
    "tmean=t1+(t2-t1)/2\n",
    "terr=(t2-t1)/2\n",
    "\n",
    "filename['meanepoch']=tmean\n",
    "filename['terr']=terr\n",
    "namelist=['L', 'C', 'X', 'K',]\n",
    "#print(namelist)\n",
    "\n",
    "namelistall=get_namelist(filename,paralist)\n",
    "print(len(namelistall))\n",
    "print(namelistall)"
   ]
  },
  {
   "cell_type": "code",
   "execution_count": 120,
   "metadata": {
    "ExecuteTime": {
     "end_time": "2019-08-20T09:03:22.915638Z",
     "start_time": "2019-08-20T09:03:22.548598Z"
    },
    "collapsed": false
   },
   "outputs": [
    {
     "name": "stdout",
     "output_type": "stream",
     "text": [
      "['L', 'C']\n"
     ]
    },
    {
     "data": {
      "image/png": "[encoded data removed]",
      "text/plain": [
       "<Figure size 720x432 with 1 Axes>"
      ]
     },
     "metadata": {},
     "output_type": "display_data"
    }
   ],
   "source": [
    "plt.figure(figsize=(10,6))\n",
    "namelist=['L', 'C']\n",
    "print(namelist)\n",
    "for i,m,c, in zip(namelist,marker1[:len(namelist)],color1[:len(namelist)]):\n",
    "    x=filename[filename[paralist]==i][parax]\n",
    "    xerr=filename[filename[paralist]==i][paraxerr]\n",
    "    y=filename[filename[paralist]==i][paray]\n",
    "    yerr=filename[filename[paralist]==i][parayerr]\n",
    "    plt.errorbar(x,y,xerr=xerr,yerr=yerr,marker=m,color=c,label=i,fmt='o',elinewidth=2)\n",
    "    #print(x,i)\n",
    "    \n",
    "plt.xlabel('time')\n",
    "plt.ylabel('Flux/mJy')\n",
    "plt.title('Radio band Flux')\n",
    "#plt.legend()\n",
    "#plt.xlim(1980,2019)\n",
    "plt.legend(loc='center', bbox_to_anchor=(1.2, 0.5),ncol=2)\n",
    "plt.grid()\n",
    "plt.show()"
   ]
  },
  {
   "cell_type": "code",
   "execution_count": 112,
   "metadata": {
    "ExecuteTime": {
     "end_time": "2019-08-19T22:50:17.225703Z",
     "start_time": "2019-08-19T22:50:17.207568Z"
    },
    "collapsed": true
   },
   "outputs": [],
   "source": [
    "import numpy as np\n",
    "from astropy.io import ascii\n",
    "import matplotlib.pyplot as plt\n",
    "import matplotlib.colors as colors\n",
    "import matplotlib.cm as cmx\n",
    "from scipy.optimize import least_squares, curve_fit\n",
    "from scipy.stats import f\n",
    "import emcee\n",
    "import corner\n",
    "import os\n",
    "from timeit import default_timer as timer\n",
    "\n",
    "def calc_power_law(freq,S0,alpha):\n",
    "    S = S0 * (freq) ** alpha\n",
    "    return S\n",
    "\n",
    "def alpha_calc(data):    \n",
    "    #Get lightcurve values\n",
    "    freqs = data['frequency']\n",
    "    flux = data['Fint(mJy)']\n",
    "    flux_errs = data['rms']\n",
    "    \n",
    "    #Use the scipy curve_fit algorithm to calculate the best fit value\n",
    "    popt, pcov = curve_fit(calc_power_law, freqs, flux ,sigma=flux_errs, p0=(50,-0.61),absolute_sigma=True)\n",
    "    \n",
    "    alpha = popt[1] #Best-fit spectral index\n",
    "    alpha_err = np.sqrt(np.diag(pcov))[1] #Uncertainty in alpha\n",
    "    \n",
    "    return alpha, alpha_err"
   ]
  },
  {
   "cell_type": "code",
   "execution_count": 141,
   "metadata": {
    "ExecuteTime": {
     "end_time": "2019-08-20T09:20:52.568942Z",
     "start_time": "2019-08-20T09:20:52.556943Z"
    },
    "collapsed": true
   },
   "outputs": [],
   "source": [
    "def scale_data(data, alpha, alpha_err, ref_freq=5.0):\n",
    "    #calculate a scaling factor for the flux density and uncertainty\n",
    "    f_scale = (ref_freq/data['frequency'])**alpha\n",
    "    rms_scale = np.abs(f_scale*np.log(ref_freq/data['frequency'])*alpha_err)\n",
    "    \n",
    "    #scale the flux and uncertainty - don't forget to add errors in quadrature\n",
    "    scaled_flux = data['Fint(mJy)'] * f_scale\n",
    "    scaled_rms = np.abs(scaled_flux) * np.sqrt((data['rms']/data['Fint(mJy)'])**2 + (rms_scale/f_scale)**2)\n",
    "    \n",
    "    #Add two new columns to the data\n",
    "    data['scaled_flux'] = scaled_flux\n",
    "    data['scaled_rms'] = scaled_rms    \n",
    "    return data"
   ]
  },
  {
   "cell_type": "code",
   "execution_count": null,
   "metadata": {
    "collapsed": true
   },
   "outputs": [],
   "source": []
  },
  {
   "cell_type": "code",
   "execution_count": null,
   "metadata": {
    "collapsed": true
   },
   "outputs": [],
   "source": []
  },
  {
   "cell_type": "code",
   "execution_count": null,
   "metadata": {
    "collapsed": true
   },
   "outputs": [],
   "source": []
  },
  {
   "cell_type": "code",
   "execution_count": 147,
   "metadata": {
    "ExecuteTime": {
     "end_time": "2019-08-20T09:23:47.778427Z",
     "start_time": "2019-08-20T09:23:47.754966Z"
    },
    "collapsed": false
   },
   "outputs": [
    {
     "name": "stdout",
     "output_type": "stream",
     "text": [
      "alpha = -0.4 +/- 0.04\n"
     ]
    }
   ],
   "source": [
    "sel_data2 = radiomrk1018[radiomrk1018['Datestart'] == '1984-11-28']\n",
    "alpha, alpha_err = alpha_calc(sel_data2)\n",
    "print(\"alpha = %.1f +/- %.2f\"%(alpha, alpha_err))\n"
   ]
  },
  {
   "cell_type": "code",
   "execution_count": 139,
   "metadata": {
    "ExecuteTime": {
     "end_time": "2019-08-20T09:18:47.431203Z",
     "start_time": "2019-08-20T09:18:47.416662Z"
    },
    "collapsed": false
   },
   "outputs": [],
   "source": [
    "bandlist=['L', 'C']\n",
    "bandL=radiomrk1018[radiomrk1018['band']==bandlist[0]]\n",
    "bandC=radiomrk1018[radiomrk1018['band']==bandlist[1]]            \n",
    "sel_data3=bandL.append(bandC)    "
   ]
  },
  {
   "cell_type": "markdown",
   "metadata": {
    "ExecuteTime": {
     "end_time": "2019-08-20T09:18:49.034769Z",
     "start_time": "2019-08-20T09:18:48.998198Z"
    }
   },
   "source": [
    "sel_data3"
   ]
  },
  {
   "cell_type": "code",
   "execution_count": 148,
   "metadata": {
    "ExecuteTime": {
     "end_time": "2019-08-20T09:23:57.264096Z",
     "start_time": "2019-08-20T09:23:57.256530Z"
    },
    "collapsed": true
   },
   "outputs": [],
   "source": [
    "scaleddata=scale_data(sel_data3, alpha=-0.4, alpha_err=0.04, ref_freq=5.0)"
   ]
  },
  {
   "cell_type": "code",
   "execution_count": 150,
   "metadata": {
    "ExecuteTime": {
     "end_time": "2019-08-20T09:25:37.774856Z",
     "start_time": "2019-08-20T09:25:37.767189Z"
    },
    "collapsed": false
   },
   "outputs": [
    {
     "data": {
      "text/plain": [
       "(2    1995-04-13\n",
       " 3    1984-11-28\n",
       " 10   1996-05-16\n",
       " 11   2001-12-03\n",
       " 12   1995-04-13\n",
       " 14   2007-08-06\n",
       " 17   2013-09-15\n",
       " 18   2009-02-10\n",
       " 21   2012-05-24\n",
       " 4    1984-11-28\n",
       " 5    1988-04-10\n",
       " 6    1989-06-15\n",
       " 7    1989-07-25\n",
       " 23   2016-04-03\n",
       " 28   2017-01-15\n",
       " Name: meanepoch, dtype: datetime64[ns], 2     4.20\n",
       " 3     3.61\n",
       " 10    4.20\n",
       " 11    4.15\n",
       " 12    4.15\n",
       " 14    3.36\n",
       " 17    3.85\n",
       " 18    3.69\n",
       " 21     NaN\n",
       " 4     2.21\n",
       " 5     1.83\n",
       " 6     2.30\n",
       " 7     2.28\n",
       " 23    2.40\n",
       " 28    1.93\n",
       " Name: Fint(mJy), dtype: float64, 2     2.524135\n",
       " 3     2.169554\n",
       " 10    2.524135\n",
       " 11    2.494085\n",
       " 12    2.494085\n",
       " 14    2.019308\n",
       " 17    2.313790\n",
       " 18    2.217633\n",
       " 21         NaN\n",
       " 4     2.174206\n",
       " 5     1.800361\n",
       " 6     2.262749\n",
       " 7     2.243073\n",
       " 23    2.581569\n",
       " 28    2.076012\n",
       " Name: scaled_flux, dtype: float64)"
      ]
     },
     "execution_count": 150,
     "metadata": {},
     "output_type": "execute_result"
    }
   ],
   "source": [
    "scaleddata['meanepoch'],scaleddata['Fint(mJy)'],scaleddata['scaled_flux']"
   ]
  },
  {
   "cell_type": "code",
   "execution_count": null,
   "metadata": {
    "collapsed": true
   },
   "outputs": [],
   "source": []
  },
  {
   "cell_type": "code",
   "execution_count": 11,
   "metadata": {
    "ExecuteTime": {
     "end_time": "2019-08-16T15:16:17.983140Z",
     "start_time": "2019-08-16T15:16:17.965906Z"
    },
    "collapsed": true
   },
   "outputs": [],
   "source": [
    "xrtdatalv=pd.read_csv('/Users/brettlv/blog/IHEP_sync/paper/dataMrk1018/Mrkxrtmore85.csv')\n",
    "xrtfitlv=pd.read_csv('/Users/brettlv/blog/IHEP_sync/paper/dataMrk1018/xspecfitdatamorethan85.txt',header=None)\n",
    "xrtfitlv.columns=['powerlawindex','indexerr','bins','rechied','flux','fluxrangeleft','fluxrangeright','obs_id']"
   ]
  },
  {
   "cell_type": "code",
   "execution_count": 77,
   "metadata": {
    "ExecuteTime": {
     "end_time": "2019-08-19T09:09:53.261350Z",
     "start_time": "2019-08-19T09:09:53.250078Z"
    },
    "collapsed": true
   },
   "outputs": [],
   "source": [
    "xrtdatalv_less85=pd.read_csv('/Users/brettlv/blog/IHEP_sync/paper/dataMrk1018/Mrkxrtless85.csv')\n",
    "xrtfitlv_less85=pd.read_csv('/Users/brettlv/blog/IHEP_sync/paper/dataMrk1018/xspecfitdatalessthan85.txt',header=None)\n",
    "xrtfitlv_less85.columns=['powerlawindex','indexerr','bins','rechied','flux','fluxrangeleft','fluxrangeright','obs_id']"
   ]
  },
  {
   "cell_type": "code",
   "execution_count": 82,
   "metadata": {
    "ExecuteTime": {
     "end_time": "2019-08-19T09:14:51.973553Z",
     "start_time": "2019-08-19T09:14:51.940004Z"
    },
    "collapsed": false
   },
   "outputs": [],
   "source": [
    "optical=pd.read_excel('/Users/brettlv/blog/IHEP_sync/paper/dataMrk1018/MRK1018optical.xlsx')\n",
    "husemann2016=pd.read_csv('/Users/brettlv/blog/IHEP_sync/paper/dataMrk1018/husemann2016.csv')"
   ]
  },
  {
   "cell_type": "code",
   "execution_count": 78,
   "metadata": {
    "ExecuteTime": {
     "end_time": "2019-08-19T09:10:04.199330Z",
     "start_time": "2019-08-19T09:10:04.190473Z"
    },
    "collapsed": false
   },
   "outputs": [
    {
     "data": {
      "text/plain": [
       "(Index(['xrttime', 'obsids', 'countrates'], dtype='object'),)"
      ]
     },
     "execution_count": 78,
     "metadata": {},
     "output_type": "execute_result"
    }
   ],
   "source": [
    "xrtdatalv_less85.columns,"
   ]
  },
  {
   "cell_type": "code",
   "execution_count": 14,
   "metadata": {
    "ExecuteTime": {
     "end_time": "2019-08-16T15:16:27.244914Z",
     "start_time": "2019-08-16T15:16:27.238533Z"
    },
    "collapsed": false
   },
   "outputs": [
    {
     "data": {
      "text/plain": [
       "Index(['timeoptical', 'magAB', 'band', 'freqoptical', 'instrument',\n",
       "       'fluxoptical', 'timeradio', 'freqradio', 'fluxradio', 'timexray',\n",
       "       'fluxxray', 'gamma'],\n",
       "      dtype='object')"
      ]
     },
     "execution_count": 14,
     "metadata": {},
     "output_type": "execute_result"
    }
   ],
   "source": [
    "optical.columns"
   ]
  },
  {
   "cell_type": "code",
   "execution_count": null,
   "metadata": {
    "ExecuteTime": {
     "end_time": "2019-08-19T09:15:30.063148Z",
     "start_time": "2019-08-19T09:15:30.036142Z"
    },
    "collapsed": true
   },
   "outputs": [],
   "source": [
    "husemann2016"
   ]
  },
  {
   "cell_type": "code",
   "execution_count": 152,
   "metadata": {
    "ExecuteTime": {
     "end_time": "2019-08-20T09:31:57.725019Z",
     "start_time": "2019-08-20T09:31:57.706287Z"
    },
    "collapsed": false
   },
   "outputs": [],
   "source": [
    "x1 = optical['timeoptical']\n",
    "y1 = optical['magAB']\n",
    "x2=xrtdatalv['xrttime']#counts more than 85\n",
    "y2 = xrtfitlv['flux']\n",
    "p2=xrtfitlv['powerlawindex']\n",
    "errp2=xrtfitlv['indexerr']\n",
    "\n",
    "\n",
    "x3=xrtdatalv_less85['xrttime']\n",
    "y3=xrtfitlv_less85['flux']\n",
    "p3=xrtfitlv_less85['powerlawindex']\n",
    "errp3=xrtfitlv_less85['indexerr']\n",
    "\n",
    "x4=husemann2016['date']\n",
    "y4=husemann2016['flux']\n",
    "erry4=husemann2016['ferr']\n",
    "p4=husemann2016['gamma']\n",
    "errp4=husemann2016['gerr']\n",
    "\n",
    "x5=scaleddata['meanepoch']#rescale to 5GHz\n",
    "y5=scaleddata['Fint(mJy)']\n",
    "erry5=scaleddata['scaled_flux']"
   ]
  },
  {
   "cell_type": "code",
   "execution_count": 87,
   "metadata": {
    "ExecuteTime": {
     "end_time": "2019-08-19T09:17:24.716867Z",
     "start_time": "2019-08-19T09:17:24.682323Z"
    },
    "collapsed": false
   },
   "outputs": [],
   "source": [
    "x1new=convert_partial_year(x1)\n",
    "x1mjd=Time(x1new).mjd\n",
    "x2mjd=conver_mjd(pd.to_datetime(x2))\n",
    "x3mjd=conver_mjd(pd.to_datetime(x3))\n",
    "x4mjd=husemann2016['date']\n",
    "x5mjd=conver_mjd(pd.to_datetime(x5))"
   ]
  },
  {
   "cell_type": "code",
   "execution_count": null,
   "metadata": {
    "collapsed": true
   },
   "outputs": [],
   "source": []
  },
  {
   "cell_type": "code",
   "execution_count": 27,
   "metadata": {
    "ExecuteTime": {
     "end_time": "2019-08-16T15:17:48.481119Z",
     "start_time": "2019-08-16T15:17:48.093768Z"
    },
    "collapsed": false
   },
   "outputs": [
    {
     "data": {
      "image/png": "[encoded data removed]",
      "text/plain": [
       "<Figure size 748.8x514.8 with 2 Axes>"
      ]
     },
     "metadata": {},
     "output_type": "display_data"
    }
   ],
   "source": [
    "import matplotlib.pyplot as plt\n",
    "import numpy as np\n",
    "\n",
    "\n",
    "\n",
    "fig = plt.figure()\n",
    "\n",
    "ax1 = fig.add_subplot(111)\n",
    "ax1.scatter(x1mjd, y1,marker='^',color='b',label='optical')\n",
    "ax1.invert_yaxis()\n",
    "ax1.set_ylabel('magAB')\n",
    "ax1.legend(bbox_to_anchor=(0.2, 0.5))\n",
    "#ax1.set_xlim([2002, 2018])\n",
    "#ax1.set_title(\"Double Y axis\")\n",
    "\n",
    "\n",
    "ax2 = ax1.twinx()  # this is the important function\n",
    "#ax2 = fig.add_subplot(212)\n",
    "ax2.scatter(x2mjd, y2*10**11, marker='*',color='r',label='xrt')\n",
    "ax2.scatter(husemann2016['date'],husemann2016['flux'],marker='.',color='g',label='Husemann')\n",
    "#ax2.set_xlim([2002, 2018])\n",
    "ax2.set_ylabel('xray flux')\n",
    "ax2.set_xlabel('time')\n",
    "plt.legend(bbox_to_anchor=(0.9, 0.9))\n",
    "plt.show()"
   ]
  },
  {
   "cell_type": "markdown",
   "metadata": {},
   "source": [
    "# AB magnitude System\n",
    "This magnitude system is defined such that, when monochromatic flux f is measured in erg sec^-1 cm^-2 Hz^-1,\n",
    "m(AB) = -2.5 log(f) - 48.60\n",
    "where the value of the constant is selected to define m(AB)=V for a flat-spectrum source. In this system, an object with constant flux per unit frequency interval has zero color.\n",
    "References:\n",
    "\n",
    "Oke, J.B. 1974, ApJS, 27, 21"
   ]
  },
  {
   "cell_type": "code",
   "execution_count": 28,
   "metadata": {
    "ExecuteTime": {
     "end_time": "2019-08-16T15:17:56.440981Z",
     "start_time": "2019-08-16T15:17:56.436306Z"
    },
    "collapsed": true
   },
   "outputs": [],
   "source": [
    "opticalflux=(-48.60-optical['magAB'])/2.5"
   ]
  },
  {
   "cell_type": "code",
   "execution_count": 29,
   "metadata": {
    "ExecuteTime": {
     "end_time": "2019-08-16T15:18:00.500864Z",
     "start_time": "2019-08-16T15:18:00.093096Z"
    },
    "collapsed": false
   },
   "outputs": [
    {
     "data": {
      "image/png": "[encoded data removed]",
      "text/plain": [
       "<Figure size 748.8x514.8 with 2 Axes>"
      ]
     },
     "metadata": {},
     "output_type": "display_data"
    }
   ],
   "source": [
    "import matplotlib.pyplot as plt\n",
    "import numpy as np\n",
    "\n",
    "\n",
    "\n",
    "fig = plt.figure()\n",
    "\n",
    "ax1 = fig.add_subplot(111)\n",
    "ax1.scatter(x1mjd, opticalflux,marker='^',color='b',label='optical')\n",
    "#ax1.invert_yaxis()\n",
    "ax1.set_ylabel('opticalflux')\n",
    "ax1.legend(bbox_to_anchor=(0.2, 0.5))\n",
    "#ax1.set_xlim([2002, 2018])\n",
    "#ax1.set_title(\"Double Y axis\")\n",
    "\n",
    "\n",
    "ax2 = ax1.twinx()  # this is the important function\n",
    "#ax2 = fig.add_subplot(212)\n",
    "ax2.scatter(x2mjd, np.log10(y2), marker='*',color='r',label='xrt')\n",
    "ax2.scatter(husemann2016['date'],np.log10(husemann2016['flux']*1.0e-11),marker='.',color='g',label='Husemann')\n",
    "#ax2.set_xlim([2002, 2018])\n",
    "ax2.set_ylabel('xray flux')\n",
    "ax2.set_xlabel('time')\n",
    "plt.legend(bbox_to_anchor=(0.8, 0.9))\n",
    "plt.show()"
   ]
  },
  {
   "cell_type": "code",
   "execution_count": 34,
   "metadata": {
    "ExecuteTime": {
     "end_time": "2019-08-16T15:19:12.480458Z",
     "start_time": "2019-08-16T15:19:12.472000Z"
    },
    "collapsed": false
   },
   "outputs": [],
   "source": []
  },
  {
   "cell_type": "code",
   "execution_count": 35,
   "metadata": {
    "ExecuteTime": {
     "end_time": "2019-08-16T15:19:15.195067Z",
     "start_time": "2019-08-16T15:19:15.168938Z"
    },
    "collapsed": false
   },
   "outputs": [
    {
     "data": {
      "text/html": [
       "<div>\n",
       "<style scoped>\n",
       "    .dataframe tbody tr th:only-of-type {\n",
       "        vertical-align: middle;\n",
       "    }\n",
       "\n",
       "    .dataframe tbody tr th {\n",
       "        vertical-align: top;\n",
       "    }\n",
       "\n",
       "    .dataframe thead th {\n",
       "        text-align: right;\n",
       "    }\n",
       "</style>\n",
       "<table border=\"1\" class=\"dataframe\">\n",
       "  <thead>\n",
       "    <tr style=\"text-align: right;\">\n",
       "      <th></th>\n",
       "      <th>Unnamed: 0</th>\n",
       "      <th>date</th>\n",
       "      <th>ins</th>\n",
       "      <th>expt</th>\n",
       "      <th>offaxisangle</th>\n",
       "      <th>Nbin</th>\n",
       "      <th>chi</th>\n",
       "      <th>gamma</th>\n",
       "      <th>Unnamed: 8</th>\n",
       "      <th>gerr</th>\n",
       "      <th>flux</th>\n",
       "      <th>Unnamed: 11</th>\n",
       "      <th>ferr</th>\n",
       "    </tr>\n",
       "  </thead>\n",
       "  <tbody>\n",
       "    <tr>\n",
       "      <th>0</th>\n",
       "      <td>0</td>\n",
       "      <td>53587</td>\n",
       "      <td>(S)</td>\n",
       "      <td>5.2</td>\n",
       "      <td>2.6</td>\n",
       "      <td>113</td>\n",
       "      <td>(1.1)</td>\n",
       "      <td>1.93</td>\n",
       "      <td>±</td>\n",
       "      <td>0.05</td>\n",
       "      <td>1.11</td>\n",
       "      <td>±</td>\n",
       "      <td>0.08</td>\n",
       "    </tr>\n",
       "    <tr>\n",
       "      <th>1</th>\n",
       "      <td>1</td>\n",
       "      <td>54271</td>\n",
       "      <td>(S)</td>\n",
       "      <td>3.3</td>\n",
       "      <td>4.4</td>\n",
       "      <td>58</td>\n",
       "      <td>(1.1)</td>\n",
       "      <td>1.91</td>\n",
       "      <td>±</td>\n",
       "      <td>0.08</td>\n",
       "      <td>0.92</td>\n",
       "      <td>±</td>\n",
       "      <td>0.10</td>\n",
       "    </tr>\n",
       "    <tr>\n",
       "      <th>2</th>\n",
       "      <td>2</td>\n",
       "      <td>54273</td>\n",
       "      <td>(S)</td>\n",
       "      <td>3.5</td>\n",
       "      <td>6.3</td>\n",
       "      <td>61</td>\n",
       "      <td>(1.2)</td>\n",
       "      <td>1.95</td>\n",
       "      <td>±</td>\n",
       "      <td>0.08</td>\n",
       "      <td>0.78</td>\n",
       "      <td>±</td>\n",
       "      <td>0.07</td>\n",
       "    </tr>\n",
       "    <tr>\n",
       "      <th>3</th>\n",
       "      <td>3</td>\n",
       "      <td>54275</td>\n",
       "      <td>(S)</td>\n",
       "      <td>4.1</td>\n",
       "      <td>5.9</td>\n",
       "      <td>73</td>\n",
       "      <td>(1.0)</td>\n",
       "      <td>1.95</td>\n",
       "      <td>±</td>\n",
       "      <td>0.07</td>\n",
       "      <td>0.85</td>\n",
       "      <td>±</td>\n",
       "      <td>0.07</td>\n",
       "    </tr>\n",
       "    <tr>\n",
       "      <th>4</th>\n",
       "      <td>4</td>\n",
       "      <td>54628</td>\n",
       "      <td>(S)</td>\n",
       "      <td>4.8</td>\n",
       "      <td>1.2</td>\n",
       "      <td>81</td>\n",
       "      <td>(1.0)</td>\n",
       "      <td>1.76</td>\n",
       "      <td>±</td>\n",
       "      <td>0.06</td>\n",
       "      <td>0.97</td>\n",
       "      <td>±</td>\n",
       "      <td>0.08</td>\n",
       "    </tr>\n",
       "    <tr>\n",
       "      <th>5</th>\n",
       "      <td>5</td>\n",
       "      <td>55527</td>\n",
       "      <td>(C)</td>\n",
       "      <td>22.7</td>\n",
       "      <td>0.0</td>\n",
       "      <td>169</td>\n",
       "      <td>(1.2)</td>\n",
       "      <td>1.68</td>\n",
       "      <td>±</td>\n",
       "      <td>0.04</td>\n",
       "      <td>0.92</td>\n",
       "      <td>±</td>\n",
       "      <td>0.02</td>\n",
       "    </tr>\n",
       "    <tr>\n",
       "      <th>6</th>\n",
       "      <td>6</td>\n",
       "      <td>56450</td>\n",
       "      <td>(S)</td>\n",
       "      <td>1.3</td>\n",
       "      <td>2.0</td>\n",
       "      <td>14</td>\n",
       "      <td>(1.1)</td>\n",
       "      <td>1.42</td>\n",
       "      <td>±</td>\n",
       "      <td>0.18</td>\n",
       "      <td>0.79</td>\n",
       "      <td>±</td>\n",
       "      <td>0.16</td>\n",
       "    </tr>\n",
       "    <tr>\n",
       "      <th>7</th>\n",
       "      <td>7</td>\n",
       "      <td>56817</td>\n",
       "      <td>(S)</td>\n",
       "      <td>2.1</td>\n",
       "      <td>4.5</td>\n",
       "      <td>3</td>\n",
       "      <td>(0.5)</td>\n",
       "      <td>1.50</td>\n",
       "      <td>±</td>\n",
       "      <td>0.60</td>\n",
       "      <td>0.16</td>\n",
       "      <td>±</td>\n",
       "      <td>0.09</td>\n",
       "    </tr>\n",
       "    <tr>\n",
       "      <th>8</th>\n",
       "      <td>8</td>\n",
       "      <td>57429</td>\n",
       "      <td>(S)</td>\n",
       "      <td>3.7</td>\n",
       "      <td>3.7</td>\n",
       "      <td>9</td>\n",
       "      <td>(1.3)</td>\n",
       "      <td>1.75</td>\n",
       "      <td>±</td>\n",
       "      <td>0.27</td>\n",
       "      <td>0.15</td>\n",
       "      <td>±</td>\n",
       "      <td>0.05</td>\n",
       "    </tr>\n",
       "    <tr>\n",
       "      <th>9</th>\n",
       "      <td>9</td>\n",
       "      <td>57434</td>\n",
       "      <td>(S)</td>\n",
       "      <td>3.1</td>\n",
       "      <td>3.9</td>\n",
       "      <td>8</td>\n",
       "      <td>(0.5)</td>\n",
       "      <td>1.33</td>\n",
       "      <td>±</td>\n",
       "      <td>0.26</td>\n",
       "      <td>0.25</td>\n",
       "      <td>±</td>\n",
       "      <td>0.08</td>\n",
       "    </tr>\n",
       "    <tr>\n",
       "      <th>10</th>\n",
       "      <td>10</td>\n",
       "      <td>57436</td>\n",
       "      <td>(CN)</td>\n",
       "      <td>27.2</td>\n",
       "      <td>0.0</td>\n",
       "      <td>511</td>\n",
       "      <td>(1.1)</td>\n",
       "      <td>1.62</td>\n",
       "      <td>±</td>\n",
       "      <td>0.03</td>\n",
       "      <td>0.12</td>\n",
       "      <td>±</td>\n",
       "      <td>0.01</td>\n",
       "    </tr>\n",
       "  </tbody>\n",
       "</table>\n",
       "</div>"
      ],
      "text/plain": [
       "    Unnamed: 0   date   ins  expt  offaxisangle  Nbin    chi  gamma  \\\n",
       "0            0  53587   (S)   5.2           2.6   113  (1.1)   1.93   \n",
       "1            1  54271   (S)   3.3           4.4    58  (1.1)   1.91   \n",
       "2            2  54273   (S)   3.5           6.3    61  (1.2)   1.95   \n",
       "3            3  54275   (S)   4.1           5.9    73  (1.0)   1.95   \n",
       "4            4  54628   (S)   4.8           1.2    81  (1.0)   1.76   \n",
       "5            5  55527   (C)  22.7           0.0   169  (1.2)   1.68   \n",
       "6            6  56450   (S)   1.3           2.0    14  (1.1)   1.42   \n",
       "7            7  56817   (S)   2.1           4.5     3  (0.5)   1.50   \n",
       "8            8  57429   (S)   3.7           3.7     9  (1.3)   1.75   \n",
       "9            9  57434   (S)   3.1           3.9     8  (0.5)   1.33   \n",
       "10          10  57436  (CN)  27.2           0.0   511  (1.1)   1.62   \n",
       "\n",
       "   Unnamed: 8  gerr  flux Unnamed: 11  ferr  \n",
       "0           ±  0.05  1.11           ±  0.08  \n",
       "1           ±  0.08  0.92           ±  0.10  \n",
       "2           ±  0.08  0.78           ±  0.07  \n",
       "3           ±  0.07  0.85           ±  0.07  \n",
       "4           ±  0.06  0.97           ±  0.08  \n",
       "5           ±  0.04  0.92           ±  0.02  \n",
       "6           ±  0.18  0.79           ±  0.16  \n",
       "7           ±  0.60  0.16           ±  0.09  \n",
       "8           ±  0.27  0.15           ±  0.05  \n",
       "9           ±  0.26  0.25           ±  0.08  \n",
       "10          ±  0.03  0.12           ±  0.01  "
      ]
     },
     "execution_count": 35,
     "metadata": {},
     "output_type": "execute_result"
    }
   ],
   "source": [
    "husemann2016"
   ]
  },
  {
   "cell_type": "code",
   "execution_count": 65,
   "metadata": {
    "ExecuteTime": {
     "end_time": "2019-08-16T16:00:18.824465Z",
     "start_time": "2019-08-16T16:00:18.802927Z"
    },
    "collapsed": false
   },
   "outputs": [],
   "source": [
    "l1 = [x1mjd,opticalflux]\n",
    "l2= [x2mjd,np.log10(y2)]\n",
    "head = [\"mjdtime\" , \"flux\" ]\n",
    "\n",
    "df1 = pd.DataFrame(l1 , index = head).T\n",
    "#df1['err']=0.1\n",
    "df1=df1.sort_values(by=['mjdtime'])\n",
    "df1.to_csv(\"/Users/brettlv/timing_analysis/pydcf/example/Mrkopticalmjd.csv\", header=None,index=None, encoding = \"utf-8\")\n",
    "\n",
    "df2 = pd.DataFrame(l2 , index = head).T\n",
    "df2=df2.sort_values(by=['mjdtime'])\n",
    "#df2['err']=0.1\n",
    "df2.to_csv(\"/Users/brettlv/timing_analysis/pydcf/example/Mrkxrtmjd.csv\" , header=None,index=None,encoding = \"utf-8\")"
   ]
  },
  {
   "cell_type": "markdown",
   "metadata": {},
   "source": [
    "The reported correlation relates to the first time series. That is, how the first time series should be shifted to match the second, ie: ts2 = ts1 - correlation. Positive correlation is ts1 leading ts2, negative correlation is ts1 lagging ts2."
   ]
  },
  {
   "cell_type": "code",
   "execution_count": null,
   "metadata": {
    "collapsed": true
   },
   "outputs": [],
   "source": [
    "python3 dcf.py example/Mrkopticalmjd.csv example/Mrkxrtmjd.csv -2000 2000 20 -v -w=gauss -p=2 -o"
   ]
  },
  {
   "cell_type": "code",
   "execution_count": null,
   "metadata": {
    "collapsed": true
   },
   "outputs": [],
   "source": []
  },
  {
   "cell_type": "code",
   "execution_count": 75,
   "metadata": {
    "ExecuteTime": {
     "end_time": "2019-08-19T09:06:43.813158Z",
     "start_time": "2019-08-19T09:06:43.400130Z"
    },
    "collapsed": false
   },
   "outputs": [
    {
     "data": {
      "image/png": "[encoded data removed]",
      "text/plain": [
       "<Figure size 748.8x514.8 with 2 Axes>"
      ]
     },
     "metadata": {},
     "output_type": "display_data"
    }
   ],
   "source": [
    "import matplotlib.pyplot as plt\n",
    "import numpy as np\n",
    "\n",
    "\n",
    "\n",
    "fig = plt.figure()\n",
    "\n",
    "ax1 = fig.add_subplot(111)\n",
    "ax1.scatter(x1mjd, opticalflux,marker='^',color='b',label='optical')\n",
    "#ax1.invert_yaxis()\n",
    "ax1.set_ylabel('opticalflux')\n",
    "ax1.legend(bbox_to_anchor=(0.2, 0.5))\n",
    "#ax1.set_xlim([2002, 2018])\n",
    "#ax1.set_title(\"Double Y axis\")\n",
    "\n",
    "\n",
    "ax2 = ax1.twinx()  # this is the important function\n",
    "#ax2 = fig.add_subplot(212)\n",
    "ax2.scatter(x2mjd, np.log10(y2), marker='*',color='r',label='xrt')\n",
    "ax2.scatter(husemann2016['date'],np.log10(husemann2016['flux']*1.0e-11),marker='.',color='g',label='Husemann')\n",
    "#ax2.set_xlim([2002, 2018])\n",
    "ax2.set_ylabel('xray flux')\n",
    "ax2.set_xlabel('time')\n",
    "plt.legend(bbox_to_anchor=(0.8, 0.9))\n",
    "plt.show()"
   ]
  },
  {
   "cell_type": "code",
   "execution_count": null,
   "metadata": {
    "collapsed": true
   },
   "outputs": [],
   "source": []
  }
 ],
 "metadata": {
  "kernelspec": {
   "display_name": "Python 3",
   "language": "python",
   "name": "python3"
  },
  "language_info": {
   "codemirror_mode": {
    "name": "ipython",
    "version": 3
   },
   "file_extension": ".py",
   "mimetype": "text/x-python",
   "name": "python",
   "nbconvert_exporter": "python",
   "pygments_lexer": "ipython3",
   "version": "3.6.0"
  },
  "latex_envs": {
   "LaTeX_envs_menu_present": true,
   "autocomplete": true,
   "bibliofile": "biblio.bib",
   "cite_by": "apalike",
   "current_citInitial": 1,
   "eqLabelWithNumbers": true,
   "eqNumInitial": 1,
   "hotkeys": {
    "equation": "Ctrl-E",
    "itemize": "Ctrl-I"
   },
   "labels_anchors": false,
   "latex_user_defs": false,
   "report_style_numbering": false,
   "user_envs_cfg": false
  },
  "toc": {
   "nav_menu": {},
   "number_sections": true,
   "sideBar": true,
   "skip_h1_title": false,
   "toc_cell": false,
   "toc_position": {},
   "toc_section_display": "block",
   "toc_window_display": false
  }
 },
 "nbformat": 4,
 "nbformat_minor": 2
}
