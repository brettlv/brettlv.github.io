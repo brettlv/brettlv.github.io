{
 "cells": [
  {
   "cell_type": "code",
   "execution_count": 6,
   "metadata": {
    "ExecuteTime": {
     "end_time": "2019-05-13T11:05:13.247610Z",
     "start_time": "2019-05-13T11:05:11.993071Z"
    },
    "collapsed": false
   },
   "outputs": [
    {
     "name": "stderr",
     "output_type": "stream",
     "text": [
      "/Users/brettlv/anaconda3/lib/python3.6/site-packages/matplotlib/__init__.py:1401: UserWarning:  This call to matplotlib.use() has no effect\n",
      "because the backend has already been chosen;\n",
      "matplotlib.use() must be called *before* pylab, matplotlib.pyplot,\n",
      "or matplotlib.backends is imported for the first time.\n",
      "\n",
      "  warnings.warn(_use_error_msg)\n"
     ]
    }
   ],
   "source": [
    "import pyds9\n",
    "import matplotlib\n",
    "matplotlib.use('MacOSX')\n",
    "\n",
    "import aplpy\n",
    "import os"
   ]
  },
  {
   "cell_type": "code",
   "execution_count": 8,
   "metadata": {
    "ExecuteTime": {
     "end_time": "2019-05-13T11:06:03.717184Z",
     "start_time": "2019-05-13T11:06:03.710117Z"
    },
    "collapsed": false
   },
   "outputs": [],
   "source": [
    "filepath='/Volumes/Brettlv_G_m/Mrk1018/swift/'\n",
    "def get_obsids(path):\n",
    "    dirname=os.listdir(path)\n",
    "    obsids=[]\n",
    "    for i in dirname:\n",
    "        if i.isdigit():\n",
    "            obsids.append(i)\n",
    "    obsids.sort()        \n",
    "    return obsids\n",
    "\n",
    "obsids=get_obsids(filepath)\n"
   ]
  },
  {
   "cell_type": "code",
   "execution_count": 36,
   "metadata": {
    "ExecuteTime": {
     "end_time": "2019-05-20T16:46:41.100793Z",
     "start_time": "2019-05-20T16:46:41.086818Z"
    },
    "collapsed": true
   },
   "outputs": [],
   "source": [
    "def save_img(path,obsid):\n",
    "    obsid_path=os.path.join(filepath,obsid+'_xrt')\n",
    "    files = os.listdir(obsid_path)\n",
    "    imgfile = []\n",
    "    for i_ in files:\n",
    "        if i_.endswith(\"po_cl.evt\") and i_.find('xpcw')>=0:\n",
    "            imgfile.append(i_)\n",
    "    print(imgfile)\n",
    "    imgfilepath=os.path.join(obsid_path,imgfile[0])\n",
    "    print(imgfilepath)\n",
    "    commands='ds9 %s'%imgfilepath+' -scale log -region %ssrc.reg -region %sbkg.reg -saveimage png '%(filepath,filepath)+'%s%s.png &'%(filepath,imgfile[0])\n",
    "    os.system(commands)\n",
    "    print(commands)"
   ]
  },
  {
   "cell_type": "code",
   "execution_count": 37,
   "metadata": {
    "ExecuteTime": {
     "end_time": "2019-05-20T16:46:44.348999Z",
     "start_time": "2019-05-20T16:46:41.952671Z"
    },
    "collapsed": false
   },
   "outputs": [
    {
     "name": "stdout",
     "output_type": "stream",
     "text": [
      "['sw00030955001xpcw2po_cl.evt']\n",
      "/Volumes/Brettlv_G_m/Mrk1018/swift/00030955001_xrt/sw00030955001xpcw2po_cl.evt\n",
      "ds9 /Volumes/Brettlv_G_m/Mrk1018/swift/00030955001_xrt/sw00030955001xpcw2po_cl.evt -scale log -region /Volumes/Brettlv_G_m/Mrk1018/swift/src.reg -region /Volumes/Brettlv_G_m/Mrk1018/swift/bkg.reg -saveimage png /Volumes/Brettlv_G_m/Mrk1018/swift/sw00030955001xpcw2po_cl.evt.png &\n",
      "\n",
      "\n",
      "['sw00030955002xpcw2po_cl.evt']\n",
      "/Volumes/Brettlv_G_m/Mrk1018/swift/00030955002_xrt/sw00030955002xpcw2po_cl.evt\n",
      "ds9 /Volumes/Brettlv_G_m/Mrk1018/swift/00030955002_xrt/sw00030955002xpcw2po_cl.evt -scale log -region /Volumes/Brettlv_G_m/Mrk1018/swift/src.reg -region /Volumes/Brettlv_G_m/Mrk1018/swift/bkg.reg -saveimage png /Volumes/Brettlv_G_m/Mrk1018/swift/sw00030955002xpcw2po_cl.evt.png &\n",
      "\n",
      "\n",
      "['sw00030955003xpcw2po_cl.evt']\n",
      "/Volumes/Brettlv_G_m/Mrk1018/swift/00030955003_xrt/sw00030955003xpcw2po_cl.evt\n",
      "ds9 /Volumes/Brettlv_G_m/Mrk1018/swift/00030955003_xrt/sw00030955003xpcw2po_cl.evt -scale log -region /Volumes/Brettlv_G_m/Mrk1018/swift/src.reg -region /Volumes/Brettlv_G_m/Mrk1018/swift/bkg.reg -saveimage png /Volumes/Brettlv_G_m/Mrk1018/swift/sw00030955003xpcw2po_cl.evt.png &\n",
      "\n",
      "\n",
      "['sw00035166001xpcw4po_cl.evt']\n",
      "/Volumes/Brettlv_G_m/Mrk1018/swift/00035166001_xrt/sw00035166001xpcw4po_cl.evt\n",
      "ds9 /Volumes/Brettlv_G_m/Mrk1018/swift/00035166001_xrt/sw00035166001xpcw4po_cl.evt -scale log -region /Volumes/Brettlv_G_m/Mrk1018/swift/src.reg -region /Volumes/Brettlv_G_m/Mrk1018/swift/bkg.reg -saveimage png /Volumes/Brettlv_G_m/Mrk1018/swift/sw00035166001xpcw4po_cl.evt.png &\n",
      "\n",
      "\n",
      "['sw00035776001xpcw3po_cl.evt']\n",
      "/Volumes/Brettlv_G_m/Mrk1018/swift/00035776001_xrt/sw00035776001xpcw3po_cl.evt\n",
      "ds9 /Volumes/Brettlv_G_m/Mrk1018/swift/00035776001_xrt/sw00035776001xpcw3po_cl.evt -scale log -region /Volumes/Brettlv_G_m/Mrk1018/swift/src.reg -region /Volumes/Brettlv_G_m/Mrk1018/swift/bkg.reg -saveimage png /Volumes/Brettlv_G_m/Mrk1018/swift/sw00035776001xpcw3po_cl.evt.png &\n",
      "\n",
      "\n",
      "['sw00035776002xpcw3po_cl.evt']\n",
      "/Volumes/Brettlv_G_m/Mrk1018/swift/00035776002_xrt/sw00035776002xpcw3po_cl.evt\n",
      "ds9 /Volumes/Brettlv_G_m/Mrk1018/swift/00035776002_xrt/sw00035776002xpcw3po_cl.evt -scale log -region /Volumes/Brettlv_G_m/Mrk1018/swift/src.reg -region /Volumes/Brettlv_G_m/Mrk1018/swift/bkg.reg -saveimage png /Volumes/Brettlv_G_m/Mrk1018/swift/sw00035776002xpcw3po_cl.evt.png &\n",
      "\n",
      "\n",
      "['sw00035776003xpcw3po_cl.evt']\n",
      "/Volumes/Brettlv_G_m/Mrk1018/swift/00035776003_xrt/sw00035776003xpcw3po_cl.evt\n",
      "ds9 /Volumes/Brettlv_G_m/Mrk1018/swift/00035776003_xrt/sw00035776003xpcw3po_cl.evt -scale log -region /Volumes/Brettlv_G_m/Mrk1018/swift/src.reg -region /Volumes/Brettlv_G_m/Mrk1018/swift/bkg.reg -saveimage png /Volumes/Brettlv_G_m/Mrk1018/swift/sw00035776003xpcw3po_cl.evt.png &\n",
      "\n",
      "\n",
      "['sw00035776004xpcw3po_cl.evt']\n",
      "/Volumes/Brettlv_G_m/Mrk1018/swift/00035776004_xrt/sw00035776004xpcw3po_cl.evt\n",
      "ds9 /Volumes/Brettlv_G_m/Mrk1018/swift/00035776004_xrt/sw00035776004xpcw3po_cl.evt -scale log -region /Volumes/Brettlv_G_m/Mrk1018/swift/src.reg -region /Volumes/Brettlv_G_m/Mrk1018/swift/bkg.reg -saveimage png /Volumes/Brettlv_G_m/Mrk1018/swift/sw00035776004xpcw3po_cl.evt.png &\n",
      "\n",
      "\n",
      "['sw00035776005xpcw3po_cl.evt']\n",
      "/Volumes/Brettlv_G_m/Mrk1018/swift/00035776005_xrt/sw00035776005xpcw3po_cl.evt\n",
      "ds9 /Volumes/Brettlv_G_m/Mrk1018/swift/00035776005_xrt/sw00035776005xpcw3po_cl.evt -scale log -region /Volumes/Brettlv_G_m/Mrk1018/swift/src.reg -region /Volumes/Brettlv_G_m/Mrk1018/swift/bkg.reg -saveimage png /Volumes/Brettlv_G_m/Mrk1018/swift/sw00035776005xpcw3po_cl.evt.png &\n",
      "\n",
      "\n",
      "['sw00035776006xpcw3po_cl.evt']\n",
      "/Volumes/Brettlv_G_m/Mrk1018/swift/00035776006_xrt/sw00035776006xpcw3po_cl.evt\n",
      "ds9 /Volumes/Brettlv_G_m/Mrk1018/swift/00035776006_xrt/sw00035776006xpcw3po_cl.evt -scale log -region /Volumes/Brettlv_G_m/Mrk1018/swift/src.reg -region /Volumes/Brettlv_G_m/Mrk1018/swift/bkg.reg -saveimage png /Volumes/Brettlv_G_m/Mrk1018/swift/sw00035776006xpcw3po_cl.evt.png &\n",
      "\n",
      "\n",
      "['sw00035776007xpcw3po_cl.evt']\n",
      "/Volumes/Brettlv_G_m/Mrk1018/swift/00035776007_xrt/sw00035776007xpcw3po_cl.evt\n",
      "ds9 /Volumes/Brettlv_G_m/Mrk1018/swift/00035776007_xrt/sw00035776007xpcw3po_cl.evt -scale log -region /Volumes/Brettlv_G_m/Mrk1018/swift/src.reg -region /Volumes/Brettlv_G_m/Mrk1018/swift/bkg.reg -saveimage png /Volumes/Brettlv_G_m/Mrk1018/swift/sw00035776007xpcw3po_cl.evt.png &\n",
      "\n",
      "\n",
      "['sw00035776008xpcw3po_cl.evt']\n",
      "/Volumes/Brettlv_G_m/Mrk1018/swift/00035776008_xrt/sw00035776008xpcw3po_cl.evt\n",
      "ds9 /Volumes/Brettlv_G_m/Mrk1018/swift/00035776008_xrt/sw00035776008xpcw3po_cl.evt -scale log -region /Volumes/Brettlv_G_m/Mrk1018/swift/src.reg -region /Volumes/Brettlv_G_m/Mrk1018/swift/bkg.reg -saveimage png /Volumes/Brettlv_G_m/Mrk1018/swift/sw00035776008xpcw3po_cl.evt.png &\n",
      "\n",
      "\n",
      "['sw00035776010xpcw3po_cl.evt']\n",
      "/Volumes/Brettlv_G_m/Mrk1018/swift/00035776010_xrt/sw00035776010xpcw3po_cl.evt\n",
      "ds9 /Volumes/Brettlv_G_m/Mrk1018/swift/00035776010_xrt/sw00035776010xpcw3po_cl.evt -scale log -region /Volumes/Brettlv_G_m/Mrk1018/swift/src.reg -region /Volumes/Brettlv_G_m/Mrk1018/swift/bkg.reg -saveimage png /Volumes/Brettlv_G_m/Mrk1018/swift/sw00035776010xpcw3po_cl.evt.png &\n",
      "\n",
      "\n",
      "['sw00035776011xpcw3po_cl.evt']\n",
      "/Volumes/Brettlv_G_m/Mrk1018/swift/00035776011_xrt/sw00035776011xpcw3po_cl.evt\n",
      "ds9 /Volumes/Brettlv_G_m/Mrk1018/swift/00035776011_xrt/sw00035776011xpcw3po_cl.evt -scale log -region /Volumes/Brettlv_G_m/Mrk1018/swift/src.reg -region /Volumes/Brettlv_G_m/Mrk1018/swift/bkg.reg -saveimage png /Volumes/Brettlv_G_m/Mrk1018/swift/sw00035776011xpcw3po_cl.evt.png &\n",
      "\n",
      "\n",
      "['sw00035776012xpcw3po_cl.evt']\n",
      "/Volumes/Brettlv_G_m/Mrk1018/swift/00035776012_xrt/sw00035776012xpcw3po_cl.evt\n",
      "ds9 /Volumes/Brettlv_G_m/Mrk1018/swift/00035776012_xrt/sw00035776012xpcw3po_cl.evt -scale log -region /Volumes/Brettlv_G_m/Mrk1018/swift/src.reg -region /Volumes/Brettlv_G_m/Mrk1018/swift/bkg.reg -saveimage png /Volumes/Brettlv_G_m/Mrk1018/swift/sw00035776012xpcw3po_cl.evt.png &\n",
      "\n",
      "\n",
      "['sw00035776014xpcw3po_cl.evt']\n",
      "/Volumes/Brettlv_G_m/Mrk1018/swift/00035776014_xrt/sw00035776014xpcw3po_cl.evt\n",
      "ds9 /Volumes/Brettlv_G_m/Mrk1018/swift/00035776014_xrt/sw00035776014xpcw3po_cl.evt -scale log -region /Volumes/Brettlv_G_m/Mrk1018/swift/src.reg -region /Volumes/Brettlv_G_m/Mrk1018/swift/bkg.reg -saveimage png /Volumes/Brettlv_G_m/Mrk1018/swift/sw00035776014xpcw3po_cl.evt.png &\n",
      "\n",
      "\n",
      "['sw00035776015xpcw3po_cl.evt']\n",
      "/Volumes/Brettlv_G_m/Mrk1018/swift/00035776015_xrt/sw00035776015xpcw3po_cl.evt\n",
      "ds9 /Volumes/Brettlv_G_m/Mrk1018/swift/00035776015_xrt/sw00035776015xpcw3po_cl.evt -scale log -region /Volumes/Brettlv_G_m/Mrk1018/swift/src.reg -region /Volumes/Brettlv_G_m/Mrk1018/swift/bkg.reg -saveimage png /Volumes/Brettlv_G_m/Mrk1018/swift/sw00035776015xpcw3po_cl.evt.png &\n",
      "\n",
      "\n",
      "['sw00035776016xpcw3po_cl.evt']\n",
      "/Volumes/Brettlv_G_m/Mrk1018/swift/00035776016_xrt/sw00035776016xpcw3po_cl.evt\n",
      "ds9 /Volumes/Brettlv_G_m/Mrk1018/swift/00035776016_xrt/sw00035776016xpcw3po_cl.evt -scale log -region /Volumes/Brettlv_G_m/Mrk1018/swift/src.reg -region /Volumes/Brettlv_G_m/Mrk1018/swift/bkg.reg -saveimage png /Volumes/Brettlv_G_m/Mrk1018/swift/sw00035776016xpcw3po_cl.evt.png &\n",
      "\n",
      "\n",
      "['sw00035776017xpcw3po_cl.evt']\n",
      "/Volumes/Brettlv_G_m/Mrk1018/swift/00035776017_xrt/sw00035776017xpcw3po_cl.evt\n",
      "ds9 /Volumes/Brettlv_G_m/Mrk1018/swift/00035776017_xrt/sw00035776017xpcw3po_cl.evt -scale log -region /Volumes/Brettlv_G_m/Mrk1018/swift/src.reg -region /Volumes/Brettlv_G_m/Mrk1018/swift/bkg.reg -saveimage png /Volumes/Brettlv_G_m/Mrk1018/swift/sw00035776017xpcw3po_cl.evt.png &\n",
      "\n",
      "\n",
      "['sw00035776018xpcw3po_cl.evt']\n",
      "/Volumes/Brettlv_G_m/Mrk1018/swift/00035776018_xrt/sw00035776018xpcw3po_cl.evt\n",
      "ds9 /Volumes/Brettlv_G_m/Mrk1018/swift/00035776018_xrt/sw00035776018xpcw3po_cl.evt -scale log -region /Volumes/Brettlv_G_m/Mrk1018/swift/src.reg -region /Volumes/Brettlv_G_m/Mrk1018/swift/bkg.reg -saveimage png /Volumes/Brettlv_G_m/Mrk1018/swift/sw00035776018xpcw3po_cl.evt.png &\n",
      "\n",
      "\n",
      "['sw00035776019xpcw3po_cl.evt']\n",
      "/Volumes/Brettlv_G_m/Mrk1018/swift/00035776019_xrt/sw00035776019xpcw3po_cl.evt\n",
      "ds9 /Volumes/Brettlv_G_m/Mrk1018/swift/00035776019_xrt/sw00035776019xpcw3po_cl.evt -scale log -region /Volumes/Brettlv_G_m/Mrk1018/swift/src.reg -region /Volumes/Brettlv_G_m/Mrk1018/swift/bkg.reg -saveimage png /Volumes/Brettlv_G_m/Mrk1018/swift/sw00035776019xpcw3po_cl.evt.png &\n",
      "\n",
      "\n",
      "['sw00035776020xpcw3po_cl.evt']\n",
      "/Volumes/Brettlv_G_m/Mrk1018/swift/00035776020_xrt/sw00035776020xpcw3po_cl.evt\n",
      "ds9 /Volumes/Brettlv_G_m/Mrk1018/swift/00035776020_xrt/sw00035776020xpcw3po_cl.evt -scale log -region /Volumes/Brettlv_G_m/Mrk1018/swift/src.reg -region /Volumes/Brettlv_G_m/Mrk1018/swift/bkg.reg -saveimage png /Volumes/Brettlv_G_m/Mrk1018/swift/sw00035776020xpcw3po_cl.evt.png &\n",
      "\n",
      "\n",
      "['sw00035776021xpcw3po_cl.evt']\n",
      "/Volumes/Brettlv_G_m/Mrk1018/swift/00035776021_xrt/sw00035776021xpcw3po_cl.evt\n",
      "ds9 /Volumes/Brettlv_G_m/Mrk1018/swift/00035776021_xrt/sw00035776021xpcw3po_cl.evt -scale log -region /Volumes/Brettlv_G_m/Mrk1018/swift/src.reg -region /Volumes/Brettlv_G_m/Mrk1018/swift/bkg.reg -saveimage png /Volumes/Brettlv_G_m/Mrk1018/swift/sw00035776021xpcw3po_cl.evt.png &\n",
      "\n",
      "\n",
      "['sw00035776023xpcw3po_cl.evt']\n",
      "/Volumes/Brettlv_G_m/Mrk1018/swift/00035776023_xrt/sw00035776023xpcw3po_cl.evt\n",
      "ds9 /Volumes/Brettlv_G_m/Mrk1018/swift/00035776023_xrt/sw00035776023xpcw3po_cl.evt -scale log -region /Volumes/Brettlv_G_m/Mrk1018/swift/src.reg -region /Volumes/Brettlv_G_m/Mrk1018/swift/bkg.reg -saveimage png /Volumes/Brettlv_G_m/Mrk1018/swift/sw00035776023xpcw3po_cl.evt.png &\n",
      "\n",
      "\n",
      "['sw00035776024xpcw3po_cl.evt']\n",
      "/Volumes/Brettlv_G_m/Mrk1018/swift/00035776024_xrt/sw00035776024xpcw3po_cl.evt\n",
      "ds9 /Volumes/Brettlv_G_m/Mrk1018/swift/00035776024_xrt/sw00035776024xpcw3po_cl.evt -scale log -region /Volumes/Brettlv_G_m/Mrk1018/swift/src.reg -region /Volumes/Brettlv_G_m/Mrk1018/swift/bkg.reg -saveimage png /Volumes/Brettlv_G_m/Mrk1018/swift/sw00035776024xpcw3po_cl.evt.png &\n",
      "\n",
      "\n",
      "['sw00035776025xpcw3po_cl.evt']\n",
      "/Volumes/Brettlv_G_m/Mrk1018/swift/00035776025_xrt/sw00035776025xpcw3po_cl.evt\n",
      "ds9 /Volumes/Brettlv_G_m/Mrk1018/swift/00035776025_xrt/sw00035776025xpcw3po_cl.evt -scale log -region /Volumes/Brettlv_G_m/Mrk1018/swift/src.reg -region /Volumes/Brettlv_G_m/Mrk1018/swift/bkg.reg -saveimage png /Volumes/Brettlv_G_m/Mrk1018/swift/sw00035776025xpcw3po_cl.evt.png &\n",
      "\n",
      "\n",
      "['sw00035776026xpcw3po_cl.evt']\n",
      "/Volumes/Brettlv_G_m/Mrk1018/swift/00035776026_xrt/sw00035776026xpcw3po_cl.evt\n",
      "ds9 /Volumes/Brettlv_G_m/Mrk1018/swift/00035776026_xrt/sw00035776026xpcw3po_cl.evt -scale log -region /Volumes/Brettlv_G_m/Mrk1018/swift/src.reg -region /Volumes/Brettlv_G_m/Mrk1018/swift/bkg.reg -saveimage png /Volumes/Brettlv_G_m/Mrk1018/swift/sw00035776026xpcw3po_cl.evt.png &\n",
      "\n",
      "\n",
      "['sw00035776027xpcw3po_cl.evt']\n",
      "/Volumes/Brettlv_G_m/Mrk1018/swift/00035776027_xrt/sw00035776027xpcw3po_cl.evt\n",
      "ds9 /Volumes/Brettlv_G_m/Mrk1018/swift/00035776027_xrt/sw00035776027xpcw3po_cl.evt -scale log -region /Volumes/Brettlv_G_m/Mrk1018/swift/src.reg -region /Volumes/Brettlv_G_m/Mrk1018/swift/bkg.reg -saveimage png /Volumes/Brettlv_G_m/Mrk1018/swift/sw00035776027xpcw3po_cl.evt.png &\n",
      "\n",
      "\n",
      "['sw00035776029xpcw3po_cl.evt']\n",
      "/Volumes/Brettlv_G_m/Mrk1018/swift/00035776029_xrt/sw00035776029xpcw3po_cl.evt\n",
      "ds9 /Volumes/Brettlv_G_m/Mrk1018/swift/00035776029_xrt/sw00035776029xpcw3po_cl.evt -scale log -region /Volumes/Brettlv_G_m/Mrk1018/swift/src.reg -region /Volumes/Brettlv_G_m/Mrk1018/swift/bkg.reg -saveimage png /Volumes/Brettlv_G_m/Mrk1018/swift/sw00035776029xpcw3po_cl.evt.png &\n",
      "\n",
      "\n",
      "['sw00035776031xpcw3po_cl.evt']\n",
      "/Volumes/Brettlv_G_m/Mrk1018/swift/00035776031_xrt/sw00035776031xpcw3po_cl.evt\n",
      "ds9 /Volumes/Brettlv_G_m/Mrk1018/swift/00035776031_xrt/sw00035776031xpcw3po_cl.evt -scale log -region /Volumes/Brettlv_G_m/Mrk1018/swift/src.reg -region /Volumes/Brettlv_G_m/Mrk1018/swift/bkg.reg -saveimage png /Volumes/Brettlv_G_m/Mrk1018/swift/sw00035776031xpcw3po_cl.evt.png &\n",
      "\n",
      "\n",
      "['sw00035776032xpcw3po_cl.evt']\n",
      "/Volumes/Brettlv_G_m/Mrk1018/swift/00035776032_xrt/sw00035776032xpcw3po_cl.evt\n",
      "ds9 /Volumes/Brettlv_G_m/Mrk1018/swift/00035776032_xrt/sw00035776032xpcw3po_cl.evt -scale log -region /Volumes/Brettlv_G_m/Mrk1018/swift/src.reg -region /Volumes/Brettlv_G_m/Mrk1018/swift/bkg.reg -saveimage png /Volumes/Brettlv_G_m/Mrk1018/swift/sw00035776032xpcw3po_cl.evt.png &\n",
      "\n",
      "\n",
      "['sw00035776033xpcw3po_cl.evt']\n",
      "/Volumes/Brettlv_G_m/Mrk1018/swift/00035776033_xrt/sw00035776033xpcw3po_cl.evt\n",
      "ds9 /Volumes/Brettlv_G_m/Mrk1018/swift/00035776033_xrt/sw00035776033xpcw3po_cl.evt -scale log -region /Volumes/Brettlv_G_m/Mrk1018/swift/src.reg -region /Volumes/Brettlv_G_m/Mrk1018/swift/bkg.reg -saveimage png /Volumes/Brettlv_G_m/Mrk1018/swift/sw00035776033xpcw3po_cl.evt.png &\n",
      "\n",
      "\n",
      "['sw00035776034xpcw3po_cl.evt']\n",
      "/Volumes/Brettlv_G_m/Mrk1018/swift/00035776034_xrt/sw00035776034xpcw3po_cl.evt\n",
      "ds9 /Volumes/Brettlv_G_m/Mrk1018/swift/00035776034_xrt/sw00035776034xpcw3po_cl.evt -scale log -region /Volumes/Brettlv_G_m/Mrk1018/swift/src.reg -region /Volumes/Brettlv_G_m/Mrk1018/swift/bkg.reg -saveimage png /Volumes/Brettlv_G_m/Mrk1018/swift/sw00035776034xpcw3po_cl.evt.png &\n",
      "\n",
      "\n",
      "['sw00035776035xpcw3po_cl.evt']\n",
      "/Volumes/Brettlv_G_m/Mrk1018/swift/00035776035_xrt/sw00035776035xpcw3po_cl.evt\n",
      "ds9 /Volumes/Brettlv_G_m/Mrk1018/swift/00035776035_xrt/sw00035776035xpcw3po_cl.evt -scale log -region /Volumes/Brettlv_G_m/Mrk1018/swift/src.reg -region /Volumes/Brettlv_G_m/Mrk1018/swift/bkg.reg -saveimage png /Volumes/Brettlv_G_m/Mrk1018/swift/sw00035776035xpcw3po_cl.evt.png &\n",
      "\n",
      "\n",
      "['sw00035776036xpcw3po_cl.evt']\n",
      "/Volumes/Brettlv_G_m/Mrk1018/swift/00035776036_xrt/sw00035776036xpcw3po_cl.evt\n",
      "ds9 /Volumes/Brettlv_G_m/Mrk1018/swift/00035776036_xrt/sw00035776036xpcw3po_cl.evt -scale log -region /Volumes/Brettlv_G_m/Mrk1018/swift/src.reg -region /Volumes/Brettlv_G_m/Mrk1018/swift/bkg.reg -saveimage png /Volumes/Brettlv_G_m/Mrk1018/swift/sw00035776036xpcw3po_cl.evt.png &\n",
      "\n",
      "\n",
      "['sw00035776037xpcw3po_cl.evt']\n",
      "/Volumes/Brettlv_G_m/Mrk1018/swift/00035776037_xrt/sw00035776037xpcw3po_cl.evt\n",
      "ds9 /Volumes/Brettlv_G_m/Mrk1018/swift/00035776037_xrt/sw00035776037xpcw3po_cl.evt -scale log -region /Volumes/Brettlv_G_m/Mrk1018/swift/src.reg -region /Volumes/Brettlv_G_m/Mrk1018/swift/bkg.reg -saveimage png /Volumes/Brettlv_G_m/Mrk1018/swift/sw00035776037xpcw3po_cl.evt.png &\n",
      "\n",
      "\n",
      "['sw00035776038xpcw3po_cl.evt']\n",
      "/Volumes/Brettlv_G_m/Mrk1018/swift/00035776038_xrt/sw00035776038xpcw3po_cl.evt\n",
      "ds9 /Volumes/Brettlv_G_m/Mrk1018/swift/00035776038_xrt/sw00035776038xpcw3po_cl.evt -scale log -region /Volumes/Brettlv_G_m/Mrk1018/swift/src.reg -region /Volumes/Brettlv_G_m/Mrk1018/swift/bkg.reg -saveimage png /Volumes/Brettlv_G_m/Mrk1018/swift/sw00035776038xpcw3po_cl.evt.png &\n",
      "\n",
      "\n",
      "['sw00035776039xpcw3po_cl.evt']\n",
      "/Volumes/Brettlv_G_m/Mrk1018/swift/00035776039_xrt/sw00035776039xpcw3po_cl.evt\n",
      "ds9 /Volumes/Brettlv_G_m/Mrk1018/swift/00035776039_xrt/sw00035776039xpcw3po_cl.evt -scale log -region /Volumes/Brettlv_G_m/Mrk1018/swift/src.reg -region /Volumes/Brettlv_G_m/Mrk1018/swift/bkg.reg -saveimage png /Volumes/Brettlv_G_m/Mrk1018/swift/sw00035776039xpcw3po_cl.evt.png &\n",
      "\n",
      "\n",
      "['sw00035776040xpcw3po_cl.evt']\n",
      "/Volumes/Brettlv_G_m/Mrk1018/swift/00035776040_xrt/sw00035776040xpcw3po_cl.evt\n",
      "ds9 /Volumes/Brettlv_G_m/Mrk1018/swift/00035776040_xrt/sw00035776040xpcw3po_cl.evt -scale log -region /Volumes/Brettlv_G_m/Mrk1018/swift/src.reg -region /Volumes/Brettlv_G_m/Mrk1018/swift/bkg.reg -saveimage png /Volumes/Brettlv_G_m/Mrk1018/swift/sw00035776040xpcw3po_cl.evt.png &\n",
      "\n",
      "\n",
      "['sw00035776041xpcw3po_cl.evt']\n",
      "/Volumes/Brettlv_G_m/Mrk1018/swift/00035776041_xrt/sw00035776041xpcw3po_cl.evt\n",
      "ds9 /Volumes/Brettlv_G_m/Mrk1018/swift/00035776041_xrt/sw00035776041xpcw3po_cl.evt -scale log -region /Volumes/Brettlv_G_m/Mrk1018/swift/src.reg -region /Volumes/Brettlv_G_m/Mrk1018/swift/bkg.reg -saveimage png /Volumes/Brettlv_G_m/Mrk1018/swift/sw00035776041xpcw3po_cl.evt.png &\n",
      "\n",
      "\n",
      "['sw00035776042xpcw3po_cl.evt']\n",
      "/Volumes/Brettlv_G_m/Mrk1018/swift/00035776042_xrt/sw00035776042xpcw3po_cl.evt\n",
      "ds9 /Volumes/Brettlv_G_m/Mrk1018/swift/00035776042_xrt/sw00035776042xpcw3po_cl.evt -scale log -region /Volumes/Brettlv_G_m/Mrk1018/swift/src.reg -region /Volumes/Brettlv_G_m/Mrk1018/swift/bkg.reg -saveimage png /Volumes/Brettlv_G_m/Mrk1018/swift/sw00035776042xpcw3po_cl.evt.png &\n",
      "\n",
      "\n",
      "['sw00035776043xpcw3po_cl.evt']\n",
      "/Volumes/Brettlv_G_m/Mrk1018/swift/00035776043_xrt/sw00035776043xpcw3po_cl.evt\n",
      "ds9 /Volumes/Brettlv_G_m/Mrk1018/swift/00035776043_xrt/sw00035776043xpcw3po_cl.evt -scale log -region /Volumes/Brettlv_G_m/Mrk1018/swift/src.reg -region /Volumes/Brettlv_G_m/Mrk1018/swift/bkg.reg -saveimage png /Volumes/Brettlv_G_m/Mrk1018/swift/sw00035776043xpcw3po_cl.evt.png &\n",
      "\n",
      "\n",
      "['sw00035776044xpcw3po_cl.evt']\n",
      "/Volumes/Brettlv_G_m/Mrk1018/swift/00035776044_xrt/sw00035776044xpcw3po_cl.evt\n",
      "ds9 /Volumes/Brettlv_G_m/Mrk1018/swift/00035776044_xrt/sw00035776044xpcw3po_cl.evt -scale log -region /Volumes/Brettlv_G_m/Mrk1018/swift/src.reg -region /Volumes/Brettlv_G_m/Mrk1018/swift/bkg.reg -saveimage png /Volumes/Brettlv_G_m/Mrk1018/swift/sw00035776044xpcw3po_cl.evt.png &\n",
      "\n",
      "\n",
      "['sw00035776045xpcw3po_cl.evt']\n",
      "/Volumes/Brettlv_G_m/Mrk1018/swift/00035776045_xrt/sw00035776045xpcw3po_cl.evt\n",
      "ds9 /Volumes/Brettlv_G_m/Mrk1018/swift/00035776045_xrt/sw00035776045xpcw3po_cl.evt -scale log -region /Volumes/Brettlv_G_m/Mrk1018/swift/src.reg -region /Volumes/Brettlv_G_m/Mrk1018/swift/bkg.reg -saveimage png /Volumes/Brettlv_G_m/Mrk1018/swift/sw00035776045xpcw3po_cl.evt.png &\n",
      "\n",
      "\n",
      "['sw00035776046xpcw3po_cl.evt']\n",
      "/Volumes/Brettlv_G_m/Mrk1018/swift/00035776046_xrt/sw00035776046xpcw3po_cl.evt\n",
      "ds9 /Volumes/Brettlv_G_m/Mrk1018/swift/00035776046_xrt/sw00035776046xpcw3po_cl.evt -scale log -region /Volumes/Brettlv_G_m/Mrk1018/swift/src.reg -region /Volumes/Brettlv_G_m/Mrk1018/swift/bkg.reg -saveimage png /Volumes/Brettlv_G_m/Mrk1018/swift/sw00035776046xpcw3po_cl.evt.png &\n",
      "\n",
      "\n",
      "['sw00035776047xpcw3po_cl.evt']\n",
      "/Volumes/Brettlv_G_m/Mrk1018/swift/00035776047_xrt/sw00035776047xpcw3po_cl.evt\n",
      "ds9 /Volumes/Brettlv_G_m/Mrk1018/swift/00035776047_xrt/sw00035776047xpcw3po_cl.evt -scale log -region /Volumes/Brettlv_G_m/Mrk1018/swift/src.reg -region /Volumes/Brettlv_G_m/Mrk1018/swift/bkg.reg -saveimage png /Volumes/Brettlv_G_m/Mrk1018/swift/sw00035776047xpcw3po_cl.evt.png &\n",
      "\n",
      "\n",
      "['sw00035776049xpcw3po_cl.evt']\n",
      "/Volumes/Brettlv_G_m/Mrk1018/swift/00035776049_xrt/sw00035776049xpcw3po_cl.evt\n",
      "ds9 /Volumes/Brettlv_G_m/Mrk1018/swift/00035776049_xrt/sw00035776049xpcw3po_cl.evt -scale log -region /Volumes/Brettlv_G_m/Mrk1018/swift/src.reg -region /Volumes/Brettlv_G_m/Mrk1018/swift/bkg.reg -saveimage png /Volumes/Brettlv_G_m/Mrk1018/swift/sw00035776049xpcw3po_cl.evt.png &\n",
      "\n",
      "\n",
      "['sw00035776050xpcw3po_cl.evt']\n",
      "/Volumes/Brettlv_G_m/Mrk1018/swift/00035776050_xrt/sw00035776050xpcw3po_cl.evt\n",
      "ds9 /Volumes/Brettlv_G_m/Mrk1018/swift/00035776050_xrt/sw00035776050xpcw3po_cl.evt -scale log -region /Volumes/Brettlv_G_m/Mrk1018/swift/src.reg -region /Volumes/Brettlv_G_m/Mrk1018/swift/bkg.reg -saveimage png /Volumes/Brettlv_G_m/Mrk1018/swift/sw00035776050xpcw3po_cl.evt.png &\n",
      "\n",
      "\n",
      "['sw00035776051xpcw3po_cl.evt']\n",
      "/Volumes/Brettlv_G_m/Mrk1018/swift/00035776051_xrt/sw00035776051xpcw3po_cl.evt\n",
      "ds9 /Volumes/Brettlv_G_m/Mrk1018/swift/00035776051_xrt/sw00035776051xpcw3po_cl.evt -scale log -region /Volumes/Brettlv_G_m/Mrk1018/swift/src.reg -region /Volumes/Brettlv_G_m/Mrk1018/swift/bkg.reg -saveimage png /Volumes/Brettlv_G_m/Mrk1018/swift/sw00035776051xpcw3po_cl.evt.png &\n",
      "\n",
      "\n",
      "['sw00035776052xpcw3po_cl.evt']\n",
      "/Volumes/Brettlv_G_m/Mrk1018/swift/00035776052_xrt/sw00035776052xpcw3po_cl.evt\n",
      "ds9 /Volumes/Brettlv_G_m/Mrk1018/swift/00035776052_xrt/sw00035776052xpcw3po_cl.evt -scale log -region /Volumes/Brettlv_G_m/Mrk1018/swift/src.reg -region /Volumes/Brettlv_G_m/Mrk1018/swift/bkg.reg -saveimage png /Volumes/Brettlv_G_m/Mrk1018/swift/sw00035776052xpcw3po_cl.evt.png &\n",
      "\n",
      "\n",
      "['sw00035776054xpcw3po_cl.evt']\n",
      "/Volumes/Brettlv_G_m/Mrk1018/swift/00035776054_xrt/sw00035776054xpcw3po_cl.evt\n",
      "ds9 /Volumes/Brettlv_G_m/Mrk1018/swift/00035776054_xrt/sw00035776054xpcw3po_cl.evt -scale log -region /Volumes/Brettlv_G_m/Mrk1018/swift/src.reg -region /Volumes/Brettlv_G_m/Mrk1018/swift/bkg.reg -saveimage png /Volumes/Brettlv_G_m/Mrk1018/swift/sw00035776054xpcw3po_cl.evt.png &\n",
      "\n",
      "\n",
      "['sw00035776055xpcw3po_cl.evt']\n",
      "/Volumes/Brettlv_G_m/Mrk1018/swift/00035776055_xrt/sw00035776055xpcw3po_cl.evt\n",
      "ds9 /Volumes/Brettlv_G_m/Mrk1018/swift/00035776055_xrt/sw00035776055xpcw3po_cl.evt -scale log -region /Volumes/Brettlv_G_m/Mrk1018/swift/src.reg -region /Volumes/Brettlv_G_m/Mrk1018/swift/bkg.reg -saveimage png /Volumes/Brettlv_G_m/Mrk1018/swift/sw00035776055xpcw3po_cl.evt.png &\n",
      "\n",
      "\n",
      "['sw00035776056xpcw3po_cl.evt']\n",
      "/Volumes/Brettlv_G_m/Mrk1018/swift/00035776056_xrt/sw00035776056xpcw3po_cl.evt\n",
      "ds9 /Volumes/Brettlv_G_m/Mrk1018/swift/00035776056_xrt/sw00035776056xpcw3po_cl.evt -scale log -region /Volumes/Brettlv_G_m/Mrk1018/swift/src.reg -region /Volumes/Brettlv_G_m/Mrk1018/swift/bkg.reg -saveimage png /Volumes/Brettlv_G_m/Mrk1018/swift/sw00035776056xpcw3po_cl.evt.png &\n",
      "\n",
      "\n",
      "['sw00035776057xpcw3po_cl.evt']\n",
      "/Volumes/Brettlv_G_m/Mrk1018/swift/00035776057_xrt/sw00035776057xpcw3po_cl.evt\n",
      "ds9 /Volumes/Brettlv_G_m/Mrk1018/swift/00035776057_xrt/sw00035776057xpcw3po_cl.evt -scale log -region /Volumes/Brettlv_G_m/Mrk1018/swift/src.reg -region /Volumes/Brettlv_G_m/Mrk1018/swift/bkg.reg -saveimage png /Volumes/Brettlv_G_m/Mrk1018/swift/sw00035776057xpcw3po_cl.evt.png &\n",
      "\n",
      "\n",
      "['sw00035776058xpcw3po_cl.evt']\n",
      "/Volumes/Brettlv_G_m/Mrk1018/swift/00035776058_xrt/sw00035776058xpcw3po_cl.evt\n",
      "ds9 /Volumes/Brettlv_G_m/Mrk1018/swift/00035776058_xrt/sw00035776058xpcw3po_cl.evt -scale log -region /Volumes/Brettlv_G_m/Mrk1018/swift/src.reg -region /Volumes/Brettlv_G_m/Mrk1018/swift/bkg.reg -saveimage png /Volumes/Brettlv_G_m/Mrk1018/swift/sw00035776058xpcw3po_cl.evt.png &\n",
      "\n",
      "\n",
      "['sw00049654001xpcw3po_cl.evt']\n",
      "/Volumes/Brettlv_G_m/Mrk1018/swift/00049654001_xrt/sw00049654001xpcw3po_cl.evt\n",
      "ds9 /Volumes/Brettlv_G_m/Mrk1018/swift/00049654001_xrt/sw00049654001xpcw3po_cl.evt -scale log -region /Volumes/Brettlv_G_m/Mrk1018/swift/src.reg -region /Volumes/Brettlv_G_m/Mrk1018/swift/bkg.reg -saveimage png /Volumes/Brettlv_G_m/Mrk1018/swift/sw00049654001xpcw3po_cl.evt.png &\n",
      "\n",
      "\n",
      "['sw00049654002xpcw3po_cl.evt']\n",
      "/Volumes/Brettlv_G_m/Mrk1018/swift/00049654002_xrt/sw00049654002xpcw3po_cl.evt\n",
      "ds9 /Volumes/Brettlv_G_m/Mrk1018/swift/00049654002_xrt/sw00049654002xpcw3po_cl.evt -scale log -region /Volumes/Brettlv_G_m/Mrk1018/swift/src.reg -region /Volumes/Brettlv_G_m/Mrk1018/swift/bkg.reg -saveimage png /Volumes/Brettlv_G_m/Mrk1018/swift/sw00049654002xpcw3po_cl.evt.png &\n",
      "\n",
      "\n",
      "['sw00049654004xpcw2po_cl.evt']\n",
      "/Volumes/Brettlv_G_m/Mrk1018/swift/00049654004_xrt/sw00049654004xpcw2po_cl.evt\n",
      "ds9 /Volumes/Brettlv_G_m/Mrk1018/swift/00049654004_xrt/sw00049654004xpcw2po_cl.evt -scale log -region /Volumes/Brettlv_G_m/Mrk1018/swift/src.reg -region /Volumes/Brettlv_G_m/Mrk1018/swift/bkg.reg -saveimage png /Volumes/Brettlv_G_m/Mrk1018/swift/sw00049654004xpcw2po_cl.evt.png &\n",
      "\n",
      "\n",
      "['sw00080898001xpcw3po_cl.evt']\n",
      "/Volumes/Brettlv_G_m/Mrk1018/swift/00080898001_xrt/sw00080898001xpcw3po_cl.evt\n",
      "ds9 /Volumes/Brettlv_G_m/Mrk1018/swift/00080898001_xrt/sw00080898001xpcw3po_cl.evt -scale log -region /Volumes/Brettlv_G_m/Mrk1018/swift/src.reg -region /Volumes/Brettlv_G_m/Mrk1018/swift/bkg.reg -saveimage png /Volumes/Brettlv_G_m/Mrk1018/swift/sw00080898001xpcw3po_cl.evt.png &\n",
      "\n",
      "\n",
      "['sw00080898002xpcw3po_cl.evt']\n",
      "/Volumes/Brettlv_G_m/Mrk1018/swift/00080898002_xrt/sw00080898002xpcw3po_cl.evt\n",
      "ds9 /Volumes/Brettlv_G_m/Mrk1018/swift/00080898002_xrt/sw00080898002xpcw3po_cl.evt -scale log -region /Volumes/Brettlv_G_m/Mrk1018/swift/src.reg -region /Volumes/Brettlv_G_m/Mrk1018/swift/bkg.reg -saveimage png /Volumes/Brettlv_G_m/Mrk1018/swift/sw00080898002xpcw3po_cl.evt.png &\n",
      "\n",
      "\n",
      "['sw00088207001xpcw3po_cl.evt']\n",
      "/Volumes/Brettlv_G_m/Mrk1018/swift/00088207001_xrt/sw00088207001xpcw3po_cl.evt\n",
      "ds9 /Volumes/Brettlv_G_m/Mrk1018/swift/00088207001_xrt/sw00088207001xpcw3po_cl.evt -scale log -region /Volumes/Brettlv_G_m/Mrk1018/swift/src.reg -region /Volumes/Brettlv_G_m/Mrk1018/swift/bkg.reg -saveimage png /Volumes/Brettlv_G_m/Mrk1018/swift/sw00088207001xpcw3po_cl.evt.png &\n",
      "\n",
      "\n",
      "['sw00088207002xpcw3po_cl.evt']\n",
      "/Volumes/Brettlv_G_m/Mrk1018/swift/00088207002_xrt/sw00088207002xpcw3po_cl.evt\n",
      "ds9 /Volumes/Brettlv_G_m/Mrk1018/swift/00088207002_xrt/sw00088207002xpcw3po_cl.evt -scale log -region /Volumes/Brettlv_G_m/Mrk1018/swift/src.reg -region /Volumes/Brettlv_G_m/Mrk1018/swift/bkg.reg -saveimage png /Volumes/Brettlv_G_m/Mrk1018/swift/sw00088207002xpcw3po_cl.evt.png &\n",
      "\n",
      "\n",
      "['sw00088207003xpcw3po_cl.evt']\n",
      "/Volumes/Brettlv_G_m/Mrk1018/swift/00088207003_xrt/sw00088207003xpcw3po_cl.evt\n",
      "ds9 /Volumes/Brettlv_G_m/Mrk1018/swift/00088207003_xrt/sw00088207003xpcw3po_cl.evt -scale log -region /Volumes/Brettlv_G_m/Mrk1018/swift/src.reg -region /Volumes/Brettlv_G_m/Mrk1018/swift/bkg.reg -saveimage png /Volumes/Brettlv_G_m/Mrk1018/swift/sw00088207003xpcw3po_cl.evt.png &\n",
      "\n",
      "\n"
     ]
    }
   ],
   "source": [
    "for i in range(len(obsids)):\n",
    "    save_img(filepath,obsids[i])\n",
    "    print('\\n')"
   ]
  },
  {
   "cell_type": "code",
   "execution_count": null,
   "metadata": {
    "collapsed": true
   },
   "outputs": [],
   "source": []
  },
  {
   "cell_type": "code",
   "execution_count": null,
   "metadata": {
    "collapsed": true
   },
   "outputs": [],
   "source": []
  },
  {
   "cell_type": "code",
   "execution_count": null,
   "metadata": {
    "ExecuteTime": {
     "end_time": "2019-05-11T13:45:03.180675Z",
     "start_time": "2019-05-11T13:44:43.157417Z"
    },
    "collapsed": false
   },
   "outputs": [],
   "source": [
    "print(pyds9.ds9_targets())"
   ]
  },
  {
   "cell_type": "code",
   "execution_count": 31,
   "metadata": {
    "ExecuteTime": {
     "end_time": "2019-05-16T14:46:12.301244Z",
     "start_time": "2019-05-16T14:46:12.180038Z"
    },
    "collapsed": false
   },
   "outputs": [],
   "source": []
  },
  {
   "cell_type": "code",
   "execution_count": null,
   "metadata": {
    "collapsed": true
   },
   "outputs": [],
   "source": []
  },
  {
   "cell_type": "code",
   "execution_count": null,
   "metadata": {
    "collapsed": true
   },
   "outputs": [],
   "source": []
  },
  {
   "cell_type": "code",
   "execution_count": 1,
   "metadata": {
    "ExecuteTime": {
     "end_time": "2019-05-12T22:22:54.795443Z",
     "start_time": "2019-05-12T22:22:22.695186Z"
    },
    "collapsed": false
   },
   "outputs": [
    {
     "name": "stdout",
     "output_type": "stream",
     "text": [
      "\n",
      "An instance of ds9 was found to be running before we could\n",
      "start the 'xpans' name server. You will need to perform a\n",
      "bit of manual intervention in order to connect this\n",
      "existing ds9 to Python.\n",
      "\n",
      "For ds9 version 5.7 and beyond, simply register the\n",
      "existing ds9 with the xpans name server by selecting the\n",
      "ds9 File->XPA->Connect menu option. Your ds9 will now be\n",
      "fully accessible to pyds9 (e.g., it appear in the list\n",
      "returned by the ds9_targets() routine).\n",
      "\n",
      "For ds9 versions prior to 5.7, you cannot (easily) register\n",
      "with xpans, but you can view ds9's File->XPA Information\n",
      "menu option and pass the value associated with XPA_METHOD\n",
      "directly to the Python DS9() constructor, e.g.:\n",
      "\n",
      "    d = DS9('a000101:12345')\n",
      "\n",
      "The good news is that new instances of ds9 will be\n",
      "registered with xpans, and will be known to ds9_targets()\n",
      "and the DS9() constructor.\n",
      "\n"
     ]
    }
   ],
   "source": [
    "from pyds9 import *"
   ]
  },
  {
   "cell_type": "code",
   "execution_count": null,
   "metadata": {
    "ExecuteTime": {
     "end_time": "2019-05-11T13:46:25.376648Z",
     "start_time": "2019-05-11T13:46:05.355883Z"
    },
    "collapsed": false
   },
   "outputs": [],
   "source": []
  },
  {
   "cell_type": "code",
   "execution_count": null,
   "metadata": {
    "ExecuteTime": {
     "end_time": "2019-05-12T21:35:43.291515Z",
     "start_time": "2019-05-12T21:31:53.023547Z"
    },
    "collapsed": false,
    "scrolled": true
   },
   "outputs": [],
   "source": [
    "DS9()"
   ]
  },
  {
   "cell_type": "code",
   "execution_count": 5,
   "metadata": {
    "ExecuteTime": {
     "end_time": "2019-05-12T22:30:41.761745Z",
     "start_time": "2019-05-12T22:26:51.495593Z"
    },
    "collapsed": false
   },
   "outputs": [
    {
     "ename": "ValueError",
     "evalue": "no active ds9 running for target: DS9_ds9.63942",
     "output_type": "error",
     "traceback": [
      "\u001b[0;31m---------------------------------------------------------------------------\u001b[0m",
      "\u001b[0;31mValueError\u001b[0m                                Traceback (most recent call last)",
      "\u001b[0;32m<ipython-input-5-3f6c3179a68b>\u001b[0m in \u001b[0;36m<module>\u001b[0;34m()\u001b[0m\n\u001b[0;32m----> 1\u001b[0;31m \u001b[0md\u001b[0m\u001b[0;34m=\u001b[0m\u001b[0mDS9\u001b[0m\u001b[0;34m(\u001b[0m\u001b[0;34m'DS9_ds9.63942'\u001b[0m\u001b[0;34m)\u001b[0m\u001b[0;34m\u001b[0m\u001b[0m\n\u001b[0m",
      "\u001b[0;32m/Users/brettlv/anaconda3/lib/python3.6/site-packages/pyds9.py\u001b[0m in \u001b[0;36m__init__\u001b[0;34m(self, target, start, wait, verify)\u001b[0m\n\u001b[1;32m    447\u001b[0m         \u001b[0mtlist\u001b[0m \u001b[0;34m=\u001b[0m \u001b[0mbytes_to_string\u001b[0m\u001b[0;34m(\u001b[0m\u001b[0mtlist\u001b[0m\u001b[0;34m)\u001b[0m\u001b[0;34m\u001b[0m\u001b[0m\n\u001b[1;32m    448\u001b[0m         \u001b[0;32mif\u001b[0m \u001b[0;32mnot\u001b[0m \u001b[0mtlist\u001b[0m\u001b[0;34m:\u001b[0m\u001b[0;34m\u001b[0m\u001b[0m\n\u001b[0;32m--> 449\u001b[0;31m             \u001b[0;32mraise\u001b[0m \u001b[0mValueError\u001b[0m\u001b[0;34m(\u001b[0m\u001b[0;34m'no active ds9 running for target: %s'\u001b[0m \u001b[0;34m%\u001b[0m \u001b[0mtarget\u001b[0m\u001b[0;34m)\u001b[0m\u001b[0;34m\u001b[0m\u001b[0m\n\u001b[0m\u001b[1;32m    450\u001b[0m         \u001b[0;32melif\u001b[0m \u001b[0mlen\u001b[0m\u001b[0;34m(\u001b[0m\u001b[0mtlist\u001b[0m\u001b[0;34m)\u001b[0m \u001b[0;34m>\u001b[0m \u001b[0;36m1\u001b[0m\u001b[0;34m:\u001b[0m\u001b[0;34m\u001b[0m\u001b[0m\n\u001b[1;32m    451\u001b[0m             \u001b[0;32mif\u001b[0m \u001b[0;34m'XPA_METHOD'\u001b[0m \u001b[0;32min\u001b[0m \u001b[0mos\u001b[0m\u001b[0;34m.\u001b[0m\u001b[0menviron\u001b[0m\u001b[0;34m.\u001b[0m\u001b[0mkeys\u001b[0m\u001b[0;34m(\u001b[0m\u001b[0;34m)\u001b[0m\u001b[0;34m:\u001b[0m\u001b[0;34m\u001b[0m\u001b[0m\n",
      "\u001b[0;31mValueError\u001b[0m: no active ds9 running for target: DS9_ds9.63942"
     ]
    }
   ],
   "source": [
    "d=DS9('DS9_ds9.63942')"
   ]
  },
  {
   "cell_type": "code",
   "execution_count": null,
   "metadata": {
    "ExecuteTime": {
     "end_time": "2019-05-12T21:35:43.292903Z",
     "start_time": "2019-05-12T13:32:38.648Z"
    },
    "collapsed": false
   },
   "outputs": [],
   "source": [
    "print(pyds9.ds9_targets())"
   ]
  },
  {
   "cell_type": "code",
   "execution_count": null,
   "metadata": {
    "collapsed": true
   },
   "outputs": [],
   "source": [
    "ds9_xpans()"
   ]
  },
  {
   "cell_type": "code",
   "execution_count": null,
   "metadata": {
    "ExecuteTime": {
     "start_time": "2019-05-12T14:21:07.488Z"
    },
    "collapsed": true
   },
   "outputs": [],
   "source": [
    "ds9list = ds9_openlist(\"foo*\")"
   ]
  },
  {
   "cell_type": "code",
   "execution_count": null,
   "metadata": {
    "ExecuteTime": {
     "end_time": "2019-05-11T14:05:09.089935Z",
     "start_time": "2019-05-11T06:04:27.891Z"
    },
    "collapsed": true
   },
   "outputs": [],
   "source": [
    "d.set(file,imgfilepath)"
   ]
  },
  {
   "cell_type": "code",
   "execution_count": null,
   "metadata": {
    "collapsed": true
   },
   "outputs": [],
   "source": [
    "d.set('regions', 'fk5; circle(345.29,58.87,212.58\")');"
   ]
  },
  {
   "cell_type": "code",
   "execution_count": null,
   "metadata": {
    "ExecuteTime": {
     "end_time": "2019-05-10T22:51:27.813049Z",
     "start_time": "2019-05-10T22:51:25.952575Z"
    },
    "collapsed": false
   },
   "outputs": [],
   "source": []
  },
  {
   "cell_type": "code",
   "execution_count": null,
   "metadata": {
    "ExecuteTime": {
     "end_time": "2019-05-10T22:51:39.274693Z",
     "start_time": "2019-05-10T22:51:39.271005Z"
    },
    "collapsed": false
   },
   "outputs": [],
   "source": [
    "print(imgfilepath)"
   ]
  },
  {
   "cell_type": "code",
   "execution_count": null,
   "metadata": {
    "ExecuteTime": {
     "start_time": "2019-05-10T14:52:57.766Z"
    },
    "collapsed": false
   },
   "outputs": [],
   "source": [
    "import matplotlib.pyplot as plt\n",
    "import numpy as np\n",
    "from astropy.io import fits\n",
    "\n",
    "### 读取AIA fits \n",
    "#hdu = fits.open(imgfilepath);\n",
    "#hdu.info();\n",
    "#hdu.verify('fix');\n",
    "#hdu[1].data;\n",
    "#img_data_aia = np.flipud(hdu[1].data);\n",
    "\n",
    "### 读取EIT fits\n",
    "hdu = fits.open(imgfilepath);\n",
    "#hdu.info()\n",
    "img_data_eit = hdu[0].data;\n",
    "\n",
    "### 显示fits图像\n",
    "plt.imshow(img_data_eit, cmap= 'gray');\n",
    "plt.colorbar();\n",
    "plt.show();"
   ]
  },
  {
   "cell_type": "code",
   "execution_count": null,
   "metadata": {
    "collapsed": true
   },
   "outputs": [],
   "source": [
    "d = pyds9.DS9()"
   ]
  }
 ],
 "metadata": {
  "kernelspec": {
   "display_name": "Python 3",
   "language": "python",
   "name": "python3"
  },
  "language_info": {
   "codemirror_mode": {
    "name": "ipython",
    "version": 3
   },
   "file_extension": ".py",
   "mimetype": "text/x-python",
   "name": "python",
   "nbconvert_exporter": "python",
   "pygments_lexer": "ipython3",
   "version": "3.6.0"
  },
  "latex_envs": {
   "LaTeX_envs_menu_present": true,
   "autocomplete": true,
   "bibliofile": "biblio.bib",
   "cite_by": "apalike",
   "current_citInitial": 1,
   "eqLabelWithNumbers": true,
   "eqNumInitial": 1,
   "hotkeys": {
    "equation": "Ctrl-E",
    "itemize": "Ctrl-I"
   },
   "labels_anchors": false,
   "latex_user_defs": false,
   "report_style_numbering": false,
   "user_envs_cfg": false
  },
  "toc": {
   "nav_menu": {},
   "number_sections": true,
   "sideBar": true,
   "skip_h1_title": false,
   "toc_cell": false,
   "toc_position": {},
   "toc_section_display": "block",
   "toc_window_display": false
  }
 },
 "nbformat": 4,
 "nbformat_minor": 2
}
