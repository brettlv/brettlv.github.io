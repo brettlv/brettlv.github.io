{
 "cells": [
  {
   "cell_type": "code",
   "execution_count": 6,
   "metadata": {
    "ExecuteTime": {
     "end_time": "2019-03-16T13:27:06.242696Z",
     "start_time": "2019-03-16T13:27:02.852255Z"
    },
    "collapsed": false
   },
   "outputs": [],
   "source": [
    "from turtle import *\n",
    "\n",
    "setup(1600,900,0,0)#设定屏幕大小\n",
    "pensize(10)#笔的宽度\n",
    "pencolor(\"red\")#笔的颜色\n",
    "penup()\n",
    "goto(-100,100)#选定原点\n",
    "pendown()\n",
    "left(45)\n",
    "fd(100)\n",
    "circle(50,180)\n",
    "penup()\n",
    "goto(-100,100)#回到原点\n",
    "down()\n",
    "right(90)\n",
    "fd(100)\n",
    "left(180)\n",
    "circle(50,-180)\n",
    "penup()\n",
    "goto(-300,-100)\n",
    "pendown()\n",
    "write(\"女生节快乐，越来越靓！\",font=(\"snap itc\",20,\"normal\"))\n",
    "timeout=10\n",
    "hideturtle()"
   ]
  },
  {
   "cell_type": "code",
   "execution_count": 7,
   "metadata": {
    "ExecuteTime": {
     "end_time": "2019-03-16T16:11:51.308207Z",
     "start_time": "2019-03-16T16:11:51.153758Z"
    },
    "collapsed": true
   },
   "outputs": [],
   "source": [
    "hideturtle()"
   ]
  },
  {
   "cell_type": "code",
   "execution_count": null,
   "metadata": {
    "collapsed": true
   },
   "outputs": [],
   "source": [
    "pyinstaller -F redheart.py"
   ]
  }
 ],
 "metadata": {
  "kernelspec": {
   "display_name": "Python 3",
   "language": "python",
   "name": "python3"
  },
  "language_info": {
   "codemirror_mode": {
    "name": "ipython",
    "version": 3
   },
   "file_extension": ".py",
   "mimetype": "text/x-python",
   "name": "python",
   "nbconvert_exporter": "python",
   "pygments_lexer": "ipython3",
   "version": "3.6.0"
  },
  "latex_envs": {
   "LaTeX_envs_menu_present": true,
   "autocomplete": true,
   "bibliofile": "biblio.bib",
   "cite_by": "apalike",
   "current_citInitial": 1,
   "eqLabelWithNumbers": true,
   "eqNumInitial": 1,
   "hotkeys": {
    "equation": "Ctrl-E",
    "itemize": "Ctrl-I"
   },
   "labels_anchors": false,
   "latex_user_defs": false,
   "report_style_numbering": false,
   "user_envs_cfg": false
  },
  "toc": {
   "nav_menu": {},
   "number_sections": true,
   "sideBar": true,
   "skip_h1_title": false,
   "toc_cell": false,
   "toc_position": {},
   "toc_section_display": "block",
   "toc_window_display": false
  }
 },
 "nbformat": 4,
 "nbformat_minor": 2
}
