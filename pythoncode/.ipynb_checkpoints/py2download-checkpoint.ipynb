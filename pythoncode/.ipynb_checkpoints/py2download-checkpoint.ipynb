{
 "cells": [
  {
   "cell_type": "code",
   "execution_count": 1,
   "metadata": {
    "collapsed": false
   },
   "outputs": [],
   "source": [
    "import requests"
   ]
  },
  {
   "cell_type": "code",
   "execution_count": 2,
   "metadata": {
    "collapsed": false
   },
   "outputs": [
    {
     "ename": "OSError",
     "evalue": "[Errno 17] File exists: 'pic6'",
     "output_type": "error",
     "traceback": [
      "\u001b[0;31m---------------------------------------------------------------------------\u001b[0m",
      "\u001b[0;31mOSError\u001b[0m                                   Traceback (most recent call last)",
      "\u001b[0;32m<ipython-input-2-2ad0cbe8e6cf>\u001b[0m in \u001b[0;36m<module>\u001b[0;34m()\u001b[0m\n\u001b[1;32m     51\u001b[0m \u001b[0;34m\u001b[0m\u001b[0m\n\u001b[1;32m     52\u001b[0m \u001b[0mos\u001b[0m\u001b[0;34m.\u001b[0m\u001b[0mchdir\u001b[0m\u001b[0;34m(\u001b[0m\u001b[0;34m'/Users/brettlv/'\u001b[0m\u001b[0;34m)\u001b[0m\u001b[0;34m\u001b[0m\u001b[0m\n\u001b[0;32m---> 53\u001b[0;31m \u001b[0mos\u001b[0m\u001b[0;34m.\u001b[0m\u001b[0mmkdir\u001b[0m\u001b[0;34m(\u001b[0m\u001b[0;34m'pic6'\u001b[0m\u001b[0;34m)\u001b[0m\u001b[0;34m\u001b[0m\u001b[0m\n\u001b[0m\u001b[1;32m     54\u001b[0m \u001b[0mos\u001b[0m\u001b[0;34m.\u001b[0m\u001b[0mchdir\u001b[0m\u001b[0;34m(\u001b[0m\u001b[0mos\u001b[0m\u001b[0;34m.\u001b[0m\u001b[0mpath\u001b[0m\u001b[0;34m.\u001b[0m\u001b[0mjoin\u001b[0m\u001b[0;34m(\u001b[0m\u001b[0mos\u001b[0m\u001b[0;34m.\u001b[0m\u001b[0mgetcwd\u001b[0m\u001b[0;34m(\u001b[0m\u001b[0;34m)\u001b[0m\u001b[0;34m,\u001b[0m \u001b[0;34m'pic6'\u001b[0m\u001b[0;34m)\u001b[0m\u001b[0;34m)\u001b[0m\u001b[0;34m\u001b[0m\u001b[0m\n\u001b[1;32m     55\u001b[0m \u001b[0;34m\u001b[0m\u001b[0m\n",
      "\u001b[0;31mOSError\u001b[0m: [Errno 17] File exists: 'pic6'"
     ]
    }
   ],
   "source": [
    "#导入模块\n",
    "import urllib2\n",
    "import re\n",
    "import os\n",
    "import glob\n",
    "\n",
    "#设定抓取页数\n",
    "page_amount = 10\n",
    "\n",
    "#抓取首页的html代码   \n",
    "def get_page(url):\n",
    "    req = urllib2.Request(url)\n",
    "    req.add_header('User-Agent','Mozilla/5.0 (Windows NT 6.1; Win64; x64) AppleWebKit/537.36 (KHTML, like Gecko) Chrome/40.0.2214.111 Safari/537.36')      #缺省部分填上浏览器字符串\n",
    "    response = urllib2.urlopen(req)\n",
    "    html = response.read().decode('utf-8')\n",
    "    return html\n",
    "\n",
    "#抓取图片\n",
    "def read_image(url):\n",
    "    req = urllib2.Request(url)\n",
    "    req.add_header('User-Agent','Mozilla/5.0 (Windows NT 6.1; Win64; x64) AppleWebKit/537.36 (KHTML, like Gecko) Chrome/40.0.2214.111 Safari/537.36')      #缺省部分填上浏览器字符串\n",
    "    response = urllib2.urlopen(url)\n",
    "    html = response.read()\n",
    "    return html\n",
    "\n",
    "#得到当前的最新页面数，从这个页面开始倒着爬，因为用了这个脚本以后以前的图可能已经看过了\n",
    "def get_current_page_number(html):\n",
    "    match = re.search(r'<span class=\"current-comment-page\">\\[(.*)\\]</span>',html)\n",
    "    return match.group(1)\n",
    "\n",
    "#得到图片列表\n",
    "def get_picturs_url_list(url):\n",
    "    html = get_page(url)\n",
    "    l = re.findall(r'<p><img src=\"http://.*.sinaimg.cn/mw600/.*jpg\" /></p>',html)\n",
    "    result = []\n",
    "    for string in l:\n",
    "        src = re.search(r'\"(.*)\"',string)\n",
    "        result.append(str(src.group(1)))    #解决Unicode编码开头问题，有空好好补下编码和字符规范\n",
    "    return result\n",
    "\n",
    "#下载图片并存储到本地文件夹\n",
    "def image_save(url,number):\n",
    "    number = str(number)\n",
    "    print '正在抓取第',number,'张'\n",
    "    filename = number + '.jpg'\n",
    "    with open(filename,'wb') as fp:\n",
    "        img = read_image(url)\n",
    "        fp.write(img)\n",
    "\n",
    "#准备存放图片的文件夹，并进入到指定路径\n",
    "\n",
    "os.chdir('/Users/brettlv/')\n",
    "os.mkdir('pic6')\n",
    "os.chdir(os.path.join(os.getcwd(), 'pic6'))    \n",
    "\n",
    "#主函数\n",
    "def main1():\n",
    "    html = get_page('http://jandan.net/ooxx')\n",
    "    number = int(get_current_page_number(html))\n",
    "    l = []\n",
    "    amount = 0\n",
    "    for n in range(0,page_amount):\n",
    "        url = 'http://jandan.net/ooxx/page-' + str(number-n) + '#comments'\n",
    "        l += get_picturs_url_list(url) \n",
    "    \n",
    "    for url in l:\n",
    "        amount += 1\n",
    "        image_save(url,amount)\n",
    "main1()"
   ]
  },
  {
   "cell_type": "code",
   "execution_count": null,
   "metadata": {
    "collapsed": false
   },
   "outputs": [],
   "source": []
  },
  {
   "cell_type": "code",
   "execution_count": null,
   "metadata": {
    "collapsed": true
   },
   "outputs": [],
   "source": []
  },
  {
   "cell_type": "code",
   "execution_count": 1,
   "metadata": {
    "ExecuteTime": {
     "end_time": "2018-11-30T17:20:55.262584Z",
     "start_time": "2018-11-30T17:20:55.113752Z"
    },
    "collapsed": false
   },
   "outputs": [
    {
     "name": "stdout",
     "output_type": "stream",
     "text": [
      "\u001b[34m chandra_csc\u001b[m\u001b[m/\r\n",
      "0.png\r\n",
      "03_plotting_periodictable_mendeleev.ipynb\r\n",
      "1.png\r\n",
      "10.png\r\n",
      "11.png\r\n",
      "12.png\r\n",
      "13.png\r\n",
      "14.png\r\n",
      "15.png\r\n",
      "16.png\r\n",
      "16radio_vla_learn_note.ipynb\r\n",
      "17.png\r\n",
      "17696.png\r\n",
      "17697.png\r\n",
      "18.png\r\n",
      "19.png\r\n",
      "2.png\r\n",
      "20181108qpo_v404_xrt.pptx\r\n",
      "3.png\r\n",
      "3Dplot.ipynb\r\n",
      "4.png\r\n",
      "5.png\r\n",
      "6.png\r\n",
      "7.png\r\n",
      "8.png\r\n",
      "9.png\r\n",
      "Bfrac.png\r\n",
      "\u001b[34mBfraction\u001b[m\u001b[m/\r\n",
      "Bfraction.ipynb\r\n",
      "\u001b[34mBfraction_1\u001b[m\u001b[m/\r\n",
      "CC.ipynb\r\n",
      "CC.py\r\n",
      "FIRST Catalog Search.htm\r\n",
      "FIRST Catalog Search240arcsec.htm\r\n",
      "\u001b[34mFIRST Catalog Search240arcsec_files\u001b[m\u001b[m/\r\n",
      "FIRST Catalog Search60arc.htm\r\n",
      "\u001b[34mFIRST Catalog Search60arc_files\u001b[m\u001b[m/\r\n",
      "\u001b[34mFIRST Catalog Search_files\u001b[m\u001b[m/\r\n",
      "FIRST_range.png\r\n",
      "FreqBayes.ipynb\r\n",
      "FreqBayes1Practical Introduction.ipynb\r\n",
      "FreqBayes2.ipynb\r\n",
      "FreqBayes2When Results Differ.ipynb\r\n",
      "FreqBayes3Confidence, Credibility.ipynb\r\n",
      "FreqBayes4How to be a Bayesian in Python.ipynb\r\n",
      "FreqBayes5modelselection.ipynb\r\n",
      "GRO1655_40.ipynb\r\n",
      "GetlistofwikiwithFIRST SURVEY.ipynb\r\n",
      "H-H1_LOSC_4_V2-1128678884-32.gwf\r\n",
      "HM Cnc 08h06m22.9s +15d27m31s.xlsx\r\n",
      "HMCNCmutime.csv\r\n",
      "MutimeofHMCNC_fit.png\r\n",
      "MutimeofHMCNC_instrument.png\r\n",
      "MutimeofHMCNC_paper.png\r\n",
      "MutimeofHMCNC_valid.png\r\n",
      "Nustar_data_reduction.ipynb\r\n",
      "Powerdensityspectrum.ipynb\r\n",
      "PyCBC_T2_0.gwf\r\n",
      "PyCBC_T2_1.gwf\r\n",
      "PyCBC_T2_2.gwf\r\n",
      "PyCBC_T2_3.gwf\r\n",
      "PyCBC_T2_4.gwf\r\n",
      "QPO_nustar_lc_and_pds_V404_.ipynb\r\n",
      "Untitled.ipynb\r\n",
      "Untitled1.ipynb\r\n",
      "Untitled10.ipynb\r\n",
      "Untitled11.ipynb\r\n",
      "Untitled12.ipynb\r\n",
      "Untitled13.ipynb\r\n",
      "Untitled14.ipynb\r\n",
      "Untitled15.ipynb\r\n",
      "Untitled16.ipynb\r\n",
      "Untitled17.ipynb\r\n",
      "Untitled2.ipynb\r\n",
      "Untitled3.ipynb\r\n",
      "Untitled4.ipynb\r\n",
      "Untitled5.ipynb\r\n",
      "Untitled6.ipynb\r\n",
      "Untitled7.ipynb\r\n",
      "Untitled8.ipynb\r\n",
      "Untitled9.ipynb\r\n",
      "V404_2013_1.ms.ipynb\r\n",
      "V404_nustar_hardratio_direction.ipynb\r\n",
      "V404_qpo_xrt.ipynb\r\n",
      "Xspec.ipynb\r\n",
      "advanced python.ipynb\r\n",
      "arXiv_analysis.ipynb\r\n",
      "\u001b[34marxiv-experiments\u001b[m\u001b[m/\r\n",
      "arxiv_new_submission_search_and_download.ipynb\r\n",
      "arxivchecker.ipynb\r\n",
      "astro.ipynb\r\n",
      "astroLombScargle.ipynb\r\n",
      "astro_convolution.ipynb\r\n",
      "astro_cosmology.ipynb\r\n",
      "astro_fits.ipynb\r\n",
      "astro_function_table.ipynb\r\n",
      "astro_model_fit.ipynb\r\n",
      "astro_nova_fit.ipynb\r\n",
      "astro_pyds9.ipynb\r\n",
      "astro_redshift.ipynb\r\n",
      "astro_spectum.ipynb\r\n",
      "astro_time.ipynb\r\n",
      "astro_visualization.ipynb\r\n",
      "astro_vo.ipynb\r\n",
      "astro_wcs.ipynb\r\n",
      "astro_xml.ipynb\r\n",
      "astroimage.ipynb\r\n",
      "bayes_monte_carlo.ipynb\r\n",
      "bb.pdf\r\n",
      "bb.png\r\n",
      "bb_1.pdf\r\n",
      "bb_4.pdf\r\n",
      "bb_5.pdf\r\n",
      "best_fit.pdf\r\n",
      "blackbodyfit.ipynb\r\n",
      "bmcmc_sanjibs.ipynb\r\n",
      "caculator.ipynb\r\n",
      "casa_tutorial_vla_V404_.ipynb\r\n",
      "chandra.time.ipynb\r\n",
      "chandra11027.txt\r\n",
      "chandra11028.txt\r\n",
      "chandra12060.txt\r\n",
      "chandra12061.txt\r\n",
      "chandra2795.txt\r\n",
      "chandra4523.txt\r\n",
      "chandra4524.txt\r\n",
      "chandra4525.txt\r\n",
      "chandra4526.txt\r\n",
      "chandra4527.txt\r\n",
      "chandra5282.txt\r\n",
      "chandra6562.txt\r\n",
      "chandra7249.txt\r\n",
      "chandra_list_vot_xml.ipynb\r\n",
      "chandra_v404.ipynb\r\n",
      "constant_phy.ipynb\r\n",
      "curve01.png\r\n",
      "curve02.png\r\n",
      "curve03.png\r\n",
      "curve04.png\r\n",
      "curve05.png\r\n",
      "curve06.png\r\n",
      "curve07.png\r\n",
      "curveall.png\r\n",
      "deep learning.ipynb\r\n",
      "disk_LT_precess_code_c_note.ipynb\r\n",
      "distance_estimation.ipynb\r\n",
      "distributionofdistance.pdf\r\n",
      "downloadwebandtopdf.ipynb\r\n",
      "fermipy.ipynb\r\n",
      "fit_bb.png\r\n",
      "flux_opt_estimation.ipynb\r\n",
      "fundamental_agn.ipynb\r\n",
      "fundamental_fixaccretionrate.ipynb\r\n",
      "fundamental_linear.ipynb\r\n",
      "fundamental_pandas.ipynb\r\n",
      "gif.ipynb\r\n",
      "\u001b[34mgif_test\u001b[m\u001b[m/\r\n",
      "gti_check.ipynb\r\n",
      "gwpy2_pycbc2.ipynb\r\n",
      "gwpytest01.pdf\r\n",
      "gwpytest01.png\r\n",
      "hardnessratio_flux.ipynb\r\n",
      "high_state_HID_down.png\r\n",
      "high_state_HID_updown.png\r\n",
      "juliatestinjupyter.ipynb\r\n",
      "jupyter-test.ipynb\r\n",
      "kernel2_gwpy2.ipynb\r\n",
      "kernel2_pycbc2.ipynb\r\n",
      "learn_casa.ipynb\r\n",
      "linear_fit_mudot.ipynb\r\n",
      "listofnearestgalaxies.csv\r\n",
      "lomb_scargle_method.ipynb\r\n",
      "lovecurve.ipynb\r\n",
      "lovecurve.png\r\n",
      "low_state_HID_less100.png\r\n",
      "low_state_HID_less1000.png\r\n",
      "low_state_HID_less200.png\r\n",
      "low_state_HID_less500.png\r\n",
      "lrlx_data.csv\r\n",
      "lrlx_odd_srcs.csv\r\n",
      "m33.ipynb\r\n",
      "mac.ipynb\r\n",
      "machine learning.ipynb\r\n",
      "map.ipynb\r\n",
      "matplotlib.ipynb\r\n",
      "mid_state_HID_downup.png\r\n",
      "multiprocess.ipynb\r\n",
      "nearest_galaxies_cscresults.tsv\r\n",
      "nearest_galaxies_cscresults.vot\r\n",
      "newgti.fits\r\n",
      "newgti_high.fits\r\n",
      "newgti_high_1.fits\r\n",
      "newgti_high_2.fits\r\n",
      "newgti_high_3.fits\r\n",
      "newgti_low.fits\r\n",
      "newgti_low_29250_29500.fits\r\n",
      "nicer_.ipynb\r\n",
      "nustar_xmm_data_reduction.ipynb\r\n",
      "pandas.ipynb\r\n",
      "pandas_plot.ipynb\r\n",
      "papersummary_of_HMCNC_RXJ0806.ipynb\r\n",
      "periodic.html\r\n",
      "periodictable.ipynb\r\n",
      "plot_aplpy_plotly.ipynb\r\n",
      "plot_axis.ipynb\r\n",
      "pos_list.csv\r\n",
      "pos_list.txt\r\n",
      "pos_list_1.csv\r\n",
      "pos_list_2.csv\r\n",
      "py2and3in jupyter.ipynb\r\n",
      "py2download.ipynb\r\n",
      "py3ads.ipynb\r\n",
      "py3and2in jupyter.ipynb\r\n",
      "py3downloadarxivpdf.ipynb\r\n",
      "py3scrapy.ipynb\r\n",
      "pyBH_accretion_disk.ipynb\r\n",
      "py_gwpy.ipynb\r\n",
      "py_linear_fit_with_error_in_both_axis.ipynb\r\n",
      "pyads.ipynb\r\n",
      "pycbc.ipynb\r\n",
      "pycbc_shizhihong.ipynb\r\n",
      "pycbcpy2.ipynb\r\n",
      "pydisplayhtml.ipynb\r\n",
      "pyemail.ipynb\r\n",
      "pyemcee_mcmc.ipynb\r\n",
      "pykivy error.ipynb\r\n",
      "pymc_.ipynb\r\n",
      "pymcmc_linearfit_with_outlier.ipynb\r\n",
      "pymysql.ipynb\r\n",
      "pysinfunc_mcmc.ipynb\r\n",
      "pytensorflow.ipynb\r\n",
      "python-V.ipynb\r\n",
      "pythoncode.md\r\n",
      "pythondatascience.ipynb\r\n",
      "pythonhtmltopdf.py\r\n",
      "pytorch.ipynb\r\n",
      "pyvocabulary.ipynb\r\n",
      "pyxspec.ipynb\r\n",
      "qpo_v404.pptx\r\n",
      "ra_dec.txt\r\n",
      "ra_dec_tab.txt\r\n",
      "ra_dec_tab_byhand.txt\r\n",
      "radec.vot\r\n",
      "radec.xml\r\n",
      "randnum.ipynb\r\n",
      "randnumpytest.ipynb\r\n",
      "random_parameter.ipynb\r\n",
      "report19.ipynb\r\n",
      "scipy.signal.periodogram.ipynb\r\n",
      "searchresult.txt\r\n",
      "sherpa.ipynb\r\n",
      "slim_disk.ipynb\r\n",
      "spectrum evolution of V404.pptx\r\n",
      "swift_xrt_data_reduction.ipynb\r\n",
      "testblackbody.m\r\n",
      "testls.png\r\n",
      "testpy2.ipynb\r\n",
      "testpy3.ipynb\r\n",
      "tkinter.ipynb\r\n",
      "tkinter1.ipynb\r\n",
      "total_HID.png\r\n",
      "total_HID_1.png\r\n",
      "triangle.png\r\n",
      "v404_0620_lc.png\r\n",
      "v404_0620_lc_left.png\r\n",
      "v404_0620_lc_right.png\r\n",
      "v404_0620_pds.png\r\n",
      "v404_0620_pds_left.png\r\n",
      "v404_0620_pds_right.png\r\n",
      "v404_0622.png\r\n",
      "v404_0622_lc.png\r\n",
      "v404_0622_pds.png\r\n",
      "v404_062526_lc.png\r\n",
      "v404_062526_pds.png\r\n",
      "visual.ipynb\r\n",
      "xmm0150800101.txt\r\n",
      "xmm0206100101.txt\r\n",
      "xmm0551860101.txt\r\n",
      "xmm0690420101.txt\r\n",
      "xmm0784670101.txt\r\n",
      "xrt00035180001.txt\r\n",
      "xrt00035180002.txt\r\n",
      "xrt00035180003.txt\r\n",
      "xrt00035180004.txt\r\n",
      "xrt00035180005.txt\r\n",
      "xrt00035705001.txt\r\n",
      "xrt00035705002.txt\r\n",
      "xrt00037762001.txt\r\n",
      "xrt00037762002.txt\r\n",
      "xrt00037762003.txt\r\n",
      "xrt00037762004.txt\r\n",
      "xrt00037762005.txt\r\n",
      "youngradio.ipynb\r\n"
     ]
    }
   ],
   "source": [
    "ls"
   ]
  },
  {
   "cell_type": "code",
   "execution_count": 2,
   "metadata": {
    "ExecuteTime": {
     "end_time": "2018-11-30T17:21:37.044720Z",
     "start_time": "2018-11-30T17:21:35.667111Z"
    },
    "collapsed": false
   },
   "outputs": [],
   "source": [
    "import requests, re, os\n",
    "\n",
    "url = 'http://www.sportslogos.net/teams/list_by_league/6/National_Basketball_Association/NBA/logos/'\n",
    "\n",
    "header = {\n",
    "        'Accept': '*/*',\n",
    "        'Accept-Encoding':'gzip,deflate,sdch',\n",
    "        'Accept-Language':'zh-CN,zh;q=0.8',\n",
    "        'Connection':'keep-alive'\n",
    "        }\n",
    "html = requests.get(url,headers = header)\n",
    "\n",
    "data = html.content.decode('utf-8')\n",
    "find = re.compile(r'<img pic_type=\"0\" class=\"BDE_Image\" src=\"(.*?).jpg\" bdwater')\n",
    "result = find.findall(data)\n",
    "os.chdir('/Users/brettlv/')\n",
    "os.mkdir('pic4')\n",
    "os.chdir(os.path.join(os.getcwd(), 'pic4'))\n",
    "\n",
    "for img_url in result:\n",
    "    name = img_url.split('/')[-1]\n",
    "    img_url = img_url+'.jpg'\n",
    "    html = requests.get(img_url,headers = header)\n",
    "    im = html.content\n",
    "    with open(name+'.jpg','wb')as f:\n",
    "        f.write(im)"
   ]
  },
  {
   "cell_type": "code",
   "execution_count": null,
   "metadata": {
    "collapsed": true
   },
   "outputs": [],
   "source": []
  },
  {
   "cell_type": "code",
   "execution_count": 6,
   "metadata": {
    "collapsed": false
   },
   "outputs": [
    {
     "name": "stderr",
     "output_type": "stream",
     "text": [
      "Traceback (most recent call last):\n",
      "  File \"<ipython-input-6-1cc176fc7daf>\", line 32, in dehtml\n",
      "    parser.feed(text)\n",
      "  File \"/Users/brettlv/anaconda3/envs/ipykernel_py2/lib/python2.7/HTMLParser.py\", line 117, in feed\n",
      "    self.goahead(0)\n",
      "  File \"/Users/brettlv/anaconda3/envs/ipykernel_py2/lib/python2.7/HTMLParser.py\", line 161, in goahead\n",
      "    k = self.parse_starttag(i)\n",
      "  File \"/Users/brettlv/anaconda3/envs/ipykernel_py2/lib/python2.7/HTMLParser.py\", line 308, in parse_starttag\n",
      "    attrvalue = self.unescape(attrvalue)\n",
      "  File \"/Users/brettlv/anaconda3/envs/ipykernel_py2/lib/python2.7/HTMLParser.py\", line 475, in unescape\n",
      "    return re.sub(r\"&(#?[xX]?(?:[0-9a-fA-F]+|\\w{1,8}));\", replaceEntities, s)\n",
      "  File \"/Users/brettlv/anaconda3/envs/ipykernel_py2/lib/python2.7/re.py\", line 155, in sub\n",
      "    return _compile(pattern, flags).sub(repl, string, count)\n",
      "UnicodeDecodeError: 'ascii' codec can't decode byte 0xe7 in position 28: ordinal not in range(128)\n"
     ]
    },
    {
     "ename": "ValueError",
     "evalue": "unknown url type: <",
     "output_type": "error",
     "traceback": [
      "\u001b[0;31m---------------------------------------------------------------------------\u001b[0m",
      "\u001b[0;31mValueError\u001b[0m                                Traceback (most recent call last)",
      "\u001b[0;32m<ipython-input-6-1cc176fc7daf>\u001b[0m in \u001b[0;36m<module>\u001b[0;34m()\u001b[0m\n\u001b[1;32m     52\u001b[0m             \u001b[0mf\u001b[0m\u001b[0;34m.\u001b[0m\u001b[0mwrite\u001b[0m\u001b[0;34m(\u001b[0m\u001b[0mimg_content\u001b[0m\u001b[0;34m)\u001b[0m\u001b[0;34m\u001b[0m\u001b[0m\n\u001b[1;32m     53\u001b[0m         \u001b[0mi\u001b[0m\u001b[0;34m+=\u001b[0m\u001b[0;36m1\u001b[0m\u001b[0;34m\u001b[0m\u001b[0m\n\u001b[0;32m---> 54\u001b[0;31m \u001b[0mmain2\u001b[0m\u001b[0;34m(\u001b[0m\u001b[0;34m)\u001b[0m\u001b[0;34m\u001b[0m\u001b[0m\n\u001b[0m",
      "\u001b[0;32m<ipython-input-6-1cc176fc7daf>\u001b[0m in \u001b[0;36mmain2\u001b[0;34m()\u001b[0m\n\u001b[1;32m     47\u001b[0m     \u001b[0mi\u001b[0m \u001b[0;34m=\u001b[0m \u001b[0;36m0\u001b[0m\u001b[0;34m\u001b[0m\u001b[0m\n\u001b[1;32m     48\u001b[0m     \u001b[0;32mfor\u001b[0m \u001b[0mimg_list\u001b[0m \u001b[0;32min\u001b[0m \u001b[0mdehtml\u001b[0m\u001b[0;34m(\u001b[0m\u001b[0mcontent\u001b[0m\u001b[0;34m)\u001b[0m\u001b[0;34m:\u001b[0m\u001b[0;34m\u001b[0m\u001b[0m\n\u001b[0;32m---> 49\u001b[0;31m         \u001b[0mimg_content\u001b[0m \u001b[0;34m=\u001b[0m \u001b[0murllib2\u001b[0m\u001b[0;34m.\u001b[0m\u001b[0murlopen\u001b[0m\u001b[0;34m(\u001b[0m\u001b[0mimg_list\u001b[0m\u001b[0;34m)\u001b[0m\u001b[0;34m.\u001b[0m\u001b[0mread\u001b[0m\u001b[0;34m(\u001b[0m\u001b[0;34m)\u001b[0m\u001b[0;34m\u001b[0m\u001b[0m\n\u001b[0m\u001b[1;32m     50\u001b[0m         \u001b[0mpath_name\u001b[0m \u001b[0;34m=\u001b[0m \u001b[0mstr\u001b[0m\u001b[0;34m(\u001b[0m\u001b[0mi\u001b[0m\u001b[0;34m)\u001b[0m\u001b[0;34m+\u001b[0m\u001b[0;34m'.jpg'\u001b[0m\u001b[0;34m\u001b[0m\u001b[0m\n\u001b[1;32m     51\u001b[0m         \u001b[0;32mwith\u001b[0m \u001b[0mopen\u001b[0m\u001b[0;34m(\u001b[0m\u001b[0mpath_name\u001b[0m\u001b[0;34m,\u001b[0m\u001b[0;34m'wb'\u001b[0m\u001b[0;34m)\u001b[0m \u001b[0;32mas\u001b[0m \u001b[0mf\u001b[0m\u001b[0;34m:\u001b[0m\u001b[0;34m\u001b[0m\u001b[0m\n",
      "\u001b[0;32m/Users/brettlv/anaconda3/envs/ipykernel_py2/lib/python2.7/urllib2.pyc\u001b[0m in \u001b[0;36murlopen\u001b[0;34m(url, data, timeout, cafile, capath, cadefault, context)\u001b[0m\n\u001b[1;32m    152\u001b[0m     \u001b[0;32melse\u001b[0m\u001b[0;34m:\u001b[0m\u001b[0;34m\u001b[0m\u001b[0m\n\u001b[1;32m    153\u001b[0m         \u001b[0mopener\u001b[0m \u001b[0;34m=\u001b[0m \u001b[0m_opener\u001b[0m\u001b[0;34m\u001b[0m\u001b[0m\n\u001b[0;32m--> 154\u001b[0;31m     \u001b[0;32mreturn\u001b[0m \u001b[0mopener\u001b[0m\u001b[0;34m.\u001b[0m\u001b[0mopen\u001b[0m\u001b[0;34m(\u001b[0m\u001b[0murl\u001b[0m\u001b[0;34m,\u001b[0m \u001b[0mdata\u001b[0m\u001b[0;34m,\u001b[0m \u001b[0mtimeout\u001b[0m\u001b[0;34m)\u001b[0m\u001b[0;34m\u001b[0m\u001b[0m\n\u001b[0m\u001b[1;32m    155\u001b[0m \u001b[0;34m\u001b[0m\u001b[0m\n\u001b[1;32m    156\u001b[0m \u001b[0;32mdef\u001b[0m \u001b[0minstall_opener\u001b[0m\u001b[0;34m(\u001b[0m\u001b[0mopener\u001b[0m\u001b[0;34m)\u001b[0m\u001b[0;34m:\u001b[0m\u001b[0;34m\u001b[0m\u001b[0m\n",
      "\u001b[0;32m/Users/brettlv/anaconda3/envs/ipykernel_py2/lib/python2.7/urllib2.pyc\u001b[0m in \u001b[0;36mopen\u001b[0;34m(self, fullurl, data, timeout)\u001b[0m\n\u001b[1;32m    419\u001b[0m \u001b[0;34m\u001b[0m\u001b[0m\n\u001b[1;32m    420\u001b[0m         \u001b[0mreq\u001b[0m\u001b[0;34m.\u001b[0m\u001b[0mtimeout\u001b[0m \u001b[0;34m=\u001b[0m \u001b[0mtimeout\u001b[0m\u001b[0;34m\u001b[0m\u001b[0m\n\u001b[0;32m--> 421\u001b[0;31m         \u001b[0mprotocol\u001b[0m \u001b[0;34m=\u001b[0m \u001b[0mreq\u001b[0m\u001b[0;34m.\u001b[0m\u001b[0mget_type\u001b[0m\u001b[0;34m(\u001b[0m\u001b[0;34m)\u001b[0m\u001b[0;34m\u001b[0m\u001b[0m\n\u001b[0m\u001b[1;32m    422\u001b[0m \u001b[0;34m\u001b[0m\u001b[0m\n\u001b[1;32m    423\u001b[0m         \u001b[0;31m# pre-process request\u001b[0m\u001b[0;34m\u001b[0m\u001b[0;34m\u001b[0m\u001b[0m\n",
      "\u001b[0;32m/Users/brettlv/anaconda3/envs/ipykernel_py2/lib/python2.7/urllib2.pyc\u001b[0m in \u001b[0;36mget_type\u001b[0;34m(self)\u001b[0m\n\u001b[1;32m    281\u001b[0m             \u001b[0mself\u001b[0m\u001b[0;34m.\u001b[0m\u001b[0mtype\u001b[0m\u001b[0;34m,\u001b[0m \u001b[0mself\u001b[0m\u001b[0;34m.\u001b[0m\u001b[0m__r_type\u001b[0m \u001b[0;34m=\u001b[0m \u001b[0msplittype\u001b[0m\u001b[0;34m(\u001b[0m\u001b[0mself\u001b[0m\u001b[0;34m.\u001b[0m\u001b[0m__original\u001b[0m\u001b[0;34m)\u001b[0m\u001b[0;34m\u001b[0m\u001b[0m\n\u001b[1;32m    282\u001b[0m             \u001b[0;32mif\u001b[0m \u001b[0mself\u001b[0m\u001b[0;34m.\u001b[0m\u001b[0mtype\u001b[0m \u001b[0;32mis\u001b[0m \u001b[0mNone\u001b[0m\u001b[0;34m:\u001b[0m\u001b[0;34m\u001b[0m\u001b[0m\n\u001b[0;32m--> 283\u001b[0;31m                 \u001b[0;32mraise\u001b[0m \u001b[0mValueError\u001b[0m\u001b[0;34m,\u001b[0m \u001b[0;34m\"unknown url type: %s\"\u001b[0m \u001b[0;34m%\u001b[0m \u001b[0mself\u001b[0m\u001b[0;34m.\u001b[0m\u001b[0m__original\u001b[0m\u001b[0;34m\u001b[0m\u001b[0m\n\u001b[0m\u001b[1;32m    284\u001b[0m         \u001b[0;32mreturn\u001b[0m \u001b[0mself\u001b[0m\u001b[0;34m.\u001b[0m\u001b[0mtype\u001b[0m\u001b[0;34m\u001b[0m\u001b[0m\n\u001b[1;32m    285\u001b[0m \u001b[0;34m\u001b[0m\u001b[0m\n",
      "\u001b[0;31mValueError\u001b[0m: unknown url type: <"
     ]
    }
   ],
   "source": [
    "import urllib2\n",
    "from HTMLParser import HTMLParser\n",
    "from traceback import print_exc\n",
    "from sys import stderr\n",
    "\n",
    "class _DeHTMLParser(HTMLParser):\n",
    "    '''\n",
    "    利用HTMLParse来解析网页元素\n",
    "    '''\n",
    "    def __init__(self):\n",
    "        HTMLParser.__init__(self)\n",
    "        self.img_links = []\n",
    "\n",
    "    def handle_starttag(self, tag, attrs):\n",
    "        if tag == 'img':\n",
    "            # print(attrs)\n",
    "            try:\n",
    "                if ('pic_type','0') in attrs:\n",
    "                    for name, value in attrs:\n",
    "                        if name == 'src':\n",
    "                            self.img_links.append(value)\n",
    "            except Exception as e:\n",
    "                print(e)\n",
    "\n",
    "\n",
    "        return self.img_links\n",
    "\n",
    "\n",
    "def dehtml(text):\n",
    "    try:\n",
    "        parser = _DeHTMLParser()\n",
    "        parser.feed(text)\n",
    "        parser.close()\n",
    "        return parser.img_links\n",
    "    except:\n",
    "        print_exc(file=stderr)\n",
    "        return text\n",
    "\n",
    "os.chdir('/Users/brettlv/')\n",
    "os.mkdir('pic7')\n",
    "os.chdir(os.path.join(os.getcwd(), 'pic7'))\n",
    "\n",
    "def main2():\n",
    "    html = urllib2.urlopen('http://tieba.baidu.com/p/2166231880')\n",
    "    content = html.read()\n",
    "    #print(dehtml(content))\n",
    "    i = 0\n",
    "    for img_list in dehtml(content):\n",
    "        img_content = urllib2.urlopen(img_list).read()\n",
    "        path_name = str(i)+'.jpg'\n",
    "        with open(path_name,'wb') as f:\n",
    "            f.write(img_content)\n",
    "        i+=1\n",
    "main2()"
   ]
  },
  {
   "cell_type": "code",
   "execution_count": 7,
   "metadata": {
    "ExecuteTime": {
     "end_time": "2018-11-30T17:31:30.854355Z",
     "start_time": "2018-11-30T17:30:04.815220Z"
    },
    "collapsed": true
   },
   "outputs": [],
   "source": [
    "import requests, re, os\n",
    "\n",
    "url = 'https://logoeps.com/all-nba-team-logos/31287/'\n",
    "\n",
    "header = {\n",
    "        'Accept': '*/*',\n",
    "        'Accept-Encoding':'gzip,deflate,sdch',\n",
    "        'Accept-Language':'zh-CN,zh;q=0.8',\n",
    "        'Connection':'keep-alive'\n",
    "        }\n",
    "html = requests.get(url,headers = header)\n",
    "data = html.content.decode('utf-8')\n",
    "find = re.compile(r'<img pic_type=\"0\" class=\"BDE_Image\" src=\"(.*?).png\" bdwater')\n",
    "result = find.findall(data)\n",
    "os.mkdir('/Users/brettlv/pic/')\n",
    "os.chdir('/Users/brettlv/pic/')\n",
    "#os.mkdir('pic4')\n",
    "#os.chdir(os.path.join(os.getcwd(), 'pic4'))\n",
    "\n",
    "for img_url in result:\n",
    "    name = img_url.split('/')[-1]\n",
    "    img_url = img_url+'.png'\n",
    "    html = requests.get(img_url,headers = header)\n",
    "    im = html.content\n",
    "    with open(name+'.png','wb') as f:\n",
    "        f.write(im)"
   ]
  },
  {
   "cell_type": "code",
   "execution_count": 12,
   "metadata": {
    "ExecuteTime": {
     "end_time": "2018-11-30T18:27:43.630255Z",
     "start_time": "2018-11-30T18:27:43.624453Z"
    },
    "collapsed": true
   },
   "outputs": [],
   "source": []
  },
  {
   "cell_type": "code",
   "execution_count": 87,
   "metadata": {
    "ExecuteTime": {
     "end_time": "2018-12-02T10:39:29.607268Z",
     "start_time": "2018-12-02T10:39:29.161196Z"
    },
    "collapsed": false
   },
   "outputs": [],
   "source": []
  },
  {
   "cell_type": "code",
   "execution_count": 94,
   "metadata": {
    "ExecuteTime": {
     "end_time": "2018-12-02T10:45:02.601605Z",
     "start_time": "2018-12-02T10:45:02.584027Z"
    },
    "collapsed": false
   },
   "outputs": [],
   "source": []
  },
  {
   "cell_type": "code",
   "execution_count": 98,
   "metadata": {
    "ExecuteTime": {
     "end_time": "2018-12-02T10:45:58.449391Z",
     "start_time": "2018-12-02T10:45:58.445516Z"
    },
    "collapsed": false
   },
   "outputs": [],
   "source": []
  },
  {
   "cell_type": "code",
   "execution_count": 99,
   "metadata": {
    "ExecuteTime": {
     "end_time": "2018-12-02T10:46:07.312074Z",
     "start_time": "2018-12-02T10:46:07.305429Z"
    },
    "collapsed": false
   },
   "outputs": [
    {
     "data": {
      "text/plain": [
       "array(['Atlanta Hawks', 'Boston Celtics', 'Brooklyn Nets',\n",
       "       'Charlotte Hornets', 'Chicago Bulls', 'Cleveland Cavaliers',\n",
       "       'Dallas Mavericks', 'Denver Nuggets', 'Detroit Pistons',\n",
       "       'Golden State Warriors', 'Houston Rockets', 'Indiana Pacers',\n",
       "       'Los Angeles Clippers', 'Los Angeles Lakers', 'Memphis Grizzlies',\n",
       "       'Miami Heat', 'Milwaukee Bucks', 'Minnesota Timberwolves',\n",
       "       'New Orleans Pelicans', 'New York Knicks', 'Oklahoma City Thunder',\n",
       "       'Orlando Magic', 'Philadelphia 76ers', 'Phoenix Suns',\n",
       "       'Portland Trail Blazers', 'Sacramento Kings', 'San Antonio Spurs',\n",
       "       'Toronto Raptors', 'Utah Jazz', 'Washington Wizards'], dtype=object)"
      ]
     },
     "execution_count": 99,
     "metadata": {},
     "output_type": "execute_result"
    }
   ],
   "source": []
  },
  {
   "cell_type": "code",
   "execution_count": 120,
   "metadata": {
    "ExecuteTime": {
     "end_time": "2018-12-02T11:30:55.438247Z",
     "start_time": "2018-12-02T11:10:09.624908Z"
    },
    "collapsed": false
   },
   "outputs": [
    {
     "name": "stdout",
     "output_type": "stream",
     "text": [
      "nba-logo-vector-01-200x200.png\n",
      "chicago-bulls-logo-vector-200x200.png\n",
      "golden-state-warriors-logo-vector-200x200.png\n",
      "orlando-magic-logo-vector-200x200.png\n",
      "cleveland-cavaliers-logo-vector-200x200.png\n",
      "san-antonio-spurs-logo-vector-200x200.png\n",
      "los-angeles-lakers-logo-vector-200x200.png\n",
      "miami-heat-logo-vector-200x200.png\n",
      "boston-celtics-logo-vector-200x200.png\n",
      "brooklyn-nets-logo-vector-200x200.png\n",
      "oklahoma-city-thunder-logo-vector-200x200.png\n",
      "houston-rockets-logo-vector-200x200.png\n",
      "minnesota-timberwolves-logo-vector-200x200.png\n",
      "new-york-knicks-logo-vector-200x200.png\n",
      "indiana-pacers-logo-vector-200x200.png\n",
      "detroit-pistons-logo-vector-200x200.png\n",
      "dallas-mavericks-logo-vector-200x200.png\n",
      "portland-trail-blazers-logo-vector-200x200.png\n",
      "utah-jazz-logo-vector-200x200.png\n",
      "atlanta-hawks-logo-vector-200x200.png\n",
      "los-angeles-clippers-logo-vector-200x200.png\n",
      "toronto-raptors-logo-vector-200x200.png\n",
      "memphis-grizzlies-logo-vector-200x200.png\n",
      "sacramento-kings-logo-vector-200x200.png\n",
      "washington-wizards-logo-vector-200x200.png\n",
      "milwaukee-bucks-logo-vector-200x200.png\n",
      "phoenix-suns-logo-vector-200x200.png\n",
      "denver-nuggets-logo-vector-200x200.png\n",
      "charlotte-bobcats-logo-vector-200x200.png\n",
      "philadelphia-76ers-logo-vector-200x200.png\n",
      "new-orleans-hornets-logo-vector-200x200.png\n"
     ]
    }
   ],
   "source": [
    "import re\n",
    "import urllib,urllib2;\n",
    "#通过url获取网页\n",
    "def getHtml(url):\n",
    "    # 要设置请求头，让服务器知道不是机器人\n",
    "    user_agent = 'Mozilla/4.0 (compatible; MSIE 5.5; Windows NT)'\n",
    "    headers = {'User-Agent': user_agent}\n",
    "\n",
    "    request=urllib2.Request(url,headers=headers);\n",
    "    page = urllib2.urlopen(request);\n",
    "    html = page.read()\n",
    "    return html\n",
    "\n",
    "#通过正则表达式来获取图片地址，并下载到本地\n",
    "def getImg(html):\n",
    "    reg = r'src=\"(.+?\\.png)\"'\n",
    "    imgre = re.compile(reg)\n",
    "    imglist = imgre.findall(html)\n",
    "    #x = 0\n",
    "    for imgurl in imglist[:]:\n",
    "        print imgurl[47:];\n",
    "        #通过urlretrieve函数把数据下载到本地的D:\\\\images，所以你需要创建目录\n",
    "        urllib.urlretrieve(imgurl, '%s' % imgurl[47:])\n",
    "        \n",
    "os.chdir('/Volumes/Seagate_Backup_Plus_Drive_Lvb/backupmac/logonbaoldversion/')\n",
    "html = getHtml(\"https://logoeps.com/all-nba-team-logos/31287/\")\n",
    "getImg(html)\n"
   ]
  },
  {
   "cell_type": "code",
   "execution_count": null,
   "metadata": {
    "ExecuteTime": {
     "end_time": "2018-12-02T10:41:19.031317Z",
     "start_time": "2018-12-02T10:41:18.220885Z"
    },
    "collapsed": false
   },
   "outputs": [],
   "source": []
  },
  {
   "cell_type": "code",
   "execution_count": null,
   "metadata": {
    "ExecuteTime": {
     "end_time": "2018-12-02T10:47:51.879365Z",
     "start_time": "2018-12-02T10:47:51.871206Z"
    },
    "collapsed": false
   },
   "outputs": [],
   "source": []
  },
  {
   "cell_type": "code",
   "execution_count": 115,
   "metadata": {
    "ExecuteTime": {
     "end_time": "2018-12-02T10:54:48.300713Z",
     "start_time": "2018-12-02T10:54:48.274619Z"
    },
    "collapsed": false
   },
   "outputs": [],
   "source": [
    "import re\n",
    "import urllib,urllib2;\n",
    "#通过url获取网页\n",
    "def getHtml(url):\n",
    "    # 要设置请求头，让服务器知道不是机器人\n",
    "    user_agent = 'Mozilla/4.0 (compatible; MSIE 5.5; Windows NT)'\n",
    "    headers = {'User-Agent': user_agent}\n",
    "\n",
    "    request=urllib2.Request(url,headers=headers);\n",
    "    page = urllib2.urlopen(request);\n",
    "    html = page.read()\n",
    "    return html\n",
    "\n",
    "\n",
    "#通过正则表达式来获取图片地址，并下载到本地\n",
    "def getImg(html):\n",
    "    reg = r'src=\"(http://content.sportslogos.net/logos/.+?\\.gif)\"'\n",
    "    imgre = re.compile(reg)\n",
    "    imglist = imgre.findall(html)\n",
    "    #x = 0\n",
    "    for i,(imgurl,name) in enumerate(zip(imglist[:30],namelist)):\n",
    "        print(imgurl,name);\n",
    "        #通过urlretrieve函数把数据下载到本地的D:\\\\images，所以你需要创建目录\n",
    "        urllib.urlretrieve(imgurl, '%s' % name)\n",
    "\n",
    "        \n"
   ]
  },
  {
   "cell_type": "code",
   "execution_count": 116,
   "metadata": {
    "ExecuteTime": {
     "end_time": "2018-12-02T10:54:50.205278Z",
     "start_time": "2018-12-02T10:54:50.194517Z"
    },
    "collapsed": false
   },
   "outputs": [
    {
     "data": {
      "text/plain": [
       "array(['Atlanta Hawks', 'Boston Celtics', 'Brooklyn Nets',\n",
       "       'Charlotte Hornets', 'Chicago Bulls', 'Cleveland Cavaliers',\n",
       "       'Dallas Mavericks', 'Denver Nuggets', 'Detroit Pistons',\n",
       "       'Golden State Warriors', 'Houston Rockets', 'Indiana Pacers',\n",
       "       'Los Angeles Clippers', 'Los Angeles Lakers', 'Memphis Grizzlies',\n",
       "       'Miami Heat', 'Milwaukee Bucks', 'Minnesota Timberwolves',\n",
       "       'New Orleans Pelicans', 'New York Knicks', 'Oklahoma City Thunder',\n",
       "       'Orlando Magic', 'Philadelphia 76ers', 'Phoenix Suns',\n",
       "       'Portland Trail Blazers', 'Sacramento Kings', 'San Antonio Spurs',\n",
       "       'Toronto Raptors', 'Utah Jazz', 'Washington Wizards'], dtype=object)"
      ]
     },
     "execution_count": 116,
     "metadata": {},
     "output_type": "execute_result"
    }
   ],
   "source": [
    "import pandas as pd\n",
    "data=pd.read_csv('/Users/brettlv/blog/brettlv.github.io/pythoncode/nba.csv')\n",
    "namelist=data.sort_values('Team')['Team'].values\n",
    "namelist"
   ]
  },
  {
   "cell_type": "code",
   "execution_count": 117,
   "metadata": {
    "ExecuteTime": {
     "end_time": "2018-12-02T10:54:52.734358Z",
     "start_time": "2018-12-02T10:54:51.603049Z"
    },
    "collapsed": false
   },
   "outputs": [],
   "source": [
    "os.chdir('/Volumes/Seagate_Backup_Plus_Drive_Lvb/backupmac/logonba')\n",
    "url_nba=\"http://www.sportslogos.net/teams/list_by_league/6/National_Basketball_Association/NBA/logos/\"\n",
    "html = getHtml(url_nba)"
   ]
  },
  {
   "cell_type": "code",
   "execution_count": 118,
   "metadata": {
    "ExecuteTime": {
     "end_time": "2018-12-02T10:54:56.268590Z",
     "start_time": "2018-12-02T10:54:56.263840Z"
    },
    "collapsed": true
   },
   "outputs": [],
   "source": []
  },
  {
   "cell_type": "code",
   "execution_count": 113,
   "metadata": {
    "ExecuteTime": {
     "end_time": "2018-12-02T10:52:41.648078Z",
     "start_time": "2018-12-02T10:52:41.642734Z"
    },
    "collapsed": false
   },
   "outputs": [
    {
     "data": {
      "text/plain": [
       "u'/Volumes/Seagate_Backup_Plus_Drive_Lvb/backupmac/logonba'"
      ]
     },
     "execution_count": 113,
     "metadata": {},
     "output_type": "execute_result"
    }
   ],
   "source": []
  },
  {
   "cell_type": "code",
   "execution_count": 119,
   "metadata": {
    "ExecuteTime": {
     "end_time": "2018-12-02T10:55:15.468865Z",
     "start_time": "2018-12-02T10:54:58.503109Z"
    },
    "collapsed": false
   },
   "outputs": [
    {
     "name": "stdout",
     "output_type": "stream",
     "text": [
      "('http://content.sportslogos.net/logos/6/220/thumbs/22091682016.gif', 'Atlanta Hawks')\n",
      "('http://content.sportslogos.net/logos/6/213/thumbs/slhg02hbef3j1ov4lsnwyol5o.gif', 'Boston Celtics')\n",
      "('http://content.sportslogos.net/logos/6/3786/thumbs/hsuff5m3dgiv20kovde422r1f.gif', 'Brooklyn Nets')\n",
      "('http://content.sportslogos.net/logos/6/5120/thumbs/512019262015.gif', 'Charlotte Hornets')\n",
      "('http://content.sportslogos.net/logos/6/221/thumbs/hj3gmh82w9hffmeh3fjm5h874.gif', 'Chicago Bulls')\n",
      "('http://content.sportslogos.net/logos/6/222/thumbs/22269212018.gif', 'Cleveland Cavaliers')\n",
      "('http://content.sportslogos.net/logos/6/228/thumbs/22834632018.gif', 'Dallas Mavericks')\n",
      "('http://content.sportslogos.net/logos/6/229/thumbs/22989262019.gif', 'Denver Nuggets')\n",
      "('http://content.sportslogos.net/logos/6/223/thumbs/22321642018.gif', 'Detroit Pistons')\n",
      "('http://content.sportslogos.net/logos/6/235/thumbs/qhhir6fj8zp30f33s7sfb4yw0.gif', 'Golden State Warriors')\n",
      "('http://content.sportslogos.net/logos/6/230/thumbs/8xe4813lzybfhfl14axgzzqeq.gif', 'Houston Rockets')\n",
      "('http://content.sportslogos.net/logos/6/224/thumbs/22448122018.gif', 'Indiana Pacers')\n",
      "('http://content.sportslogos.net/logos/6/236/thumbs/23654622016.gif', 'Los Angeles Clippers')\n",
      "('http://content.sportslogos.net/logos/6/237/thumbs/uig7aiht8jnpl1szbi57zzlsh.gif', 'Los Angeles Lakers')\n",
      "('http://content.sportslogos.net/logos/6/231/thumbs/23143732019.gif', 'Memphis Grizzlies')\n",
      "('http://content.sportslogos.net/logos/6/214/thumbs/burm5gh2wvjti3xhei5h16k8e.gif', 'Miami Heat')\n",
      "('http://content.sportslogos.net/logos/6/225/thumbs/22582752016.gif', 'Milwaukee Bucks')\n",
      "('http://content.sportslogos.net/logos/6/232/thumbs/23296692018.gif', 'Minnesota Timberwolves')\n",
      "('http://content.sportslogos.net/logos/6/4962/thumbs/496226812014.gif', 'New Orleans Pelicans')\n",
      "('http://content.sportslogos.net/logos/6/216/thumbs/2nn48xofg0hms8k326cqdmuis.gif', 'New York Knicks')\n",
      "('http://content.sportslogos.net/logos/6/2687/thumbs/khmovcnezy06c3nm05ccn0oj2.gif', 'Oklahoma City Thunder')\n",
      "('http://content.sportslogos.net/logos/6/217/thumbs/wd9ic7qafgfb0yxs7tem7n5g4.gif', 'Orlando Magic')\n",
      "('http://content.sportslogos.net/logos/6/218/thumbs/21870342016.gif', 'Philadelphia 76ers')\n",
      "('http://content.sportslogos.net/logos/6/238/thumbs/23843702014.gif', 'Phoenix Suns')\n",
      "('http://content.sportslogos.net/logos/6/239/thumbs/23997252018.gif', 'Portland Trail Blazers')\n",
      "('http://content.sportslogos.net/logos/6/240/thumbs/24040432017.gif', 'Sacramento Kings')\n",
      "('http://content.sportslogos.net/logos/6/233/thumbs/23325472018.gif', 'San Antonio Spurs')\n",
      "('http://content.sportslogos.net/logos/6/227/thumbs/22745782016.gif', 'Toronto Raptors')\n",
      "('http://content.sportslogos.net/logos/6/234/thumbs/23467492017.gif', 'Utah Jazz')\n",
      "('http://content.sportslogos.net/logos/6/219/thumbs/21956712016.gif', 'Washington Wizards')\n"
     ]
    }
   ],
   "source": [
    "getImg(html)"
   ]
  },
  {
   "cell_type": "code",
   "execution_count": null,
   "metadata": {
    "ExecuteTime": {
     "end_time": "2018-12-02T09:59:56.377537Z",
     "start_time": "2018-12-02T09:59:56.301528Z"
    },
    "collapsed": false
   },
   "outputs": [],
   "source": []
  },
  {
   "cell_type": "code",
   "execution_count": 77,
   "metadata": {
    "ExecuteTime": {
     "end_time": "2018-12-02T10:31:18.747095Z",
     "start_time": "2018-12-02T10:31:18.736265Z"
    },
    "collapsed": false
   },
   "outputs": [
    {
     "data": {
      "text/plain": [
       "['src=\"http://content.sportslogos.net/logos/6/220/thumbs/22091682016.gif\"',\n",
       " 'src=\"http://content.sportslogos.net/logos/6/213/thumbs/slhg02hbef3j1ov4lsnwyol5o.gif\"',\n",
       " 'src=\"http://content.sportslogos.net/logos/6/3786/thumbs/hsuff5m3dgiv20kovde422r1f.gif\"',\n",
       " 'src=\"http://content.sportslogos.net/logos/6/5120/thumbs/512019262015.gif\"',\n",
       " 'src=\"http://content.sportslogos.net/logos/6/221/thumbs/hj3gmh82w9hffmeh3fjm5h874.gif\"',\n",
       " 'src=\"http://content.sportslogos.net/logos/6/222/thumbs/22269212018.gif\"',\n",
       " 'src=\"http://content.sportslogos.net/logos/6/228/thumbs/22834632018.gif\"',\n",
       " 'src=\"http://content.sportslogos.net/logos/6/229/thumbs/22989262019.gif\"',\n",
       " 'src=\"http://content.sportslogos.net/logos/6/223/thumbs/22321642018.gif\"',\n",
       " 'src=\"http://content.sportslogos.net/logos/6/235/thumbs/qhhir6fj8zp30f33s7sfb4yw0.gif\"',\n",
       " 'src=\"http://content.sportslogos.net/logos/6/230/thumbs/8xe4813lzybfhfl14axgzzqeq.gif\"',\n",
       " 'src=\"http://content.sportslogos.net/logos/6/224/thumbs/22448122018.gif\"',\n",
       " 'src=\"http://content.sportslogos.net/logos/6/236/thumbs/23654622016.gif\"',\n",
       " 'src=\"http://content.sportslogos.net/logos/6/237/thumbs/uig7aiht8jnpl1szbi57zzlsh.gif\"',\n",
       " 'src=\"http://content.sportslogos.net/logos/6/231/thumbs/23143732019.gif\"',\n",
       " 'src=\"http://content.sportslogos.net/logos/6/214/thumbs/burm5gh2wvjti3xhei5h16k8e.gif\"',\n",
       " 'src=\"http://content.sportslogos.net/logos/6/225/thumbs/22582752016.gif\"',\n",
       " 'src=\"http://content.sportslogos.net/logos/6/232/thumbs/23296692018.gif\"',\n",
       " 'src=\"http://content.sportslogos.net/logos/6/4962/thumbs/496226812014.gif\"',\n",
       " 'src=\"http://content.sportslogos.net/logos/6/216/thumbs/2nn48xofg0hms8k326cqdmuis.gif\"',\n",
       " 'src=\"http://content.sportslogos.net/logos/6/2687/thumbs/khmovcnezy06c3nm05ccn0oj2.gif\"',\n",
       " 'src=\"http://content.sportslogos.net/logos/6/217/thumbs/wd9ic7qafgfb0yxs7tem7n5g4.gif\"',\n",
       " 'src=\"http://content.sportslogos.net/logos/6/218/thumbs/21870342016.gif\"',\n",
       " 'src=\"http://content.sportslogos.net/logos/6/238/thumbs/23843702014.gif\"',\n",
       " 'src=\"http://content.sportslogos.net/logos/6/239/thumbs/23997252018.gif\"',\n",
       " 'src=\"http://content.sportslogos.net/logos/6/240/thumbs/24040432017.gif\"',\n",
       " 'src=\"http://content.sportslogos.net/logos/6/233/thumbs/23325472018.gif\"',\n",
       " 'src=\"http://content.sportslogos.net/logos/6/227/thumbs/22745782016.gif\"',\n",
       " 'src=\"http://content.sportslogos.net/logos/6/234/thumbs/23467492017.gif\"',\n",
       " 'src=\"http://content.sportslogos.net/logos/6/219/thumbs/21956712016.gif\"']"
      ]
     },
     "execution_count": 77,
     "metadata": {},
     "output_type": "execute_result"
    }
   ],
   "source": [
    "reg = r'src=\"http://content.sportslogos.net/logos/[0-9].+?\\/*.gif\"'\n",
    "imgre = re.compile(reg)\n",
    "imglist = imgre.findall(html)\n",
    "imglist[:30]\n"
   ]
  },
  {
   "cell_type": "code",
   "execution_count": 73,
   "metadata": {
    "ExecuteTime": {
     "end_time": "2018-12-02T10:28:34.914118Z",
     "start_time": "2018-12-02T10:28:34.909150Z"
    },
    "collapsed": false
   },
   "outputs": [
    {
     "data": {
      "text/plain": [
       "71"
      ]
     },
     "execution_count": 73,
     "metadata": {},
     "output_type": "execute_result"
    }
   ],
   "source": [
    "len(imglist)"
   ]
  },
  {
   "cell_type": "code",
   "execution_count": 80,
   "metadata": {
    "ExecuteTime": {
     "end_time": "2018-12-02T10:35:46.335984Z",
     "start_time": "2018-12-02T10:35:46.330577Z"
    },
    "collapsed": false
   },
   "outputs": [],
   "source": [
    "regname = r'href=\"logos/list_by_team/[0-9].+?\\/\"'\n",
    "imgre = re.compile(regname)\n",
    "imgnamelist = imgre.findall(html)\n",
    "namelist=imgnamelist[:30]"
   ]
  },
  {
   "cell_type": "code",
   "execution_count": null,
   "metadata": {
    "ExecuteTime": {
     "end_time": "2018-12-02T10:23:51.204786Z",
     "start_time": "2018-12-02T10:23:51.196806Z"
    },
    "collapsed": false
   },
   "outputs": [],
   "source": []
  },
  {
   "cell_type": "code",
   "execution_count": null,
   "metadata": {
    "collapsed": true
   },
   "outputs": [],
   "source": []
  },
  {
   "cell_type": "code",
   "execution_count": null,
   "metadata": {
    "collapsed": true
   },
   "outputs": [],
   "source": []
  }
 ],
 "metadata": {
  "kernelspec": {
   "display_name": "Python 2",
   "language": "python",
   "name": "python2"
  },
  "language_info": {
   "codemirror_mode": {
    "name": "ipython",
    "version": 2
   },
   "file_extension": ".py",
   "mimetype": "text/x-python",
   "name": "python",
   "nbconvert_exporter": "python",
   "pygments_lexer": "ipython2",
   "version": "2.7.13"
  },
  "latex_envs": {
   "LaTeX_envs_menu_present": true,
   "autocomplete": true,
   "bibliofile": "biblio.bib",
   "cite_by": "apalike",
   "current_citInitial": 1,
   "eqLabelWithNumbers": true,
   "eqNumInitial": 1,
   "hotkeys": {
    "equation": "Ctrl-E",
    "itemize": "Ctrl-I"
   },
   "labels_anchors": false,
   "latex_user_defs": false,
   "report_style_numbering": false,
   "user_envs_cfg": false
  },
  "toc": {
   "nav_menu": {},
   "number_sections": true,
   "sideBar": true,
   "skip_h1_title": false,
   "toc_cell": false,
   "toc_position": {},
   "toc_section_display": "block",
   "toc_window_display": false
  }
 },
 "nbformat": 4,
 "nbformat_minor": 2
}
