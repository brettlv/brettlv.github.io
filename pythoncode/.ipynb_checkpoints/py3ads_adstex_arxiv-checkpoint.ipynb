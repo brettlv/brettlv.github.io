{
 "cells": [
  {
   "cell_type": "code",
   "execution_count": 1,
   "metadata": {
    "ExecuteTime": {
     "end_time": "2020-10-12T22:24:41.609404Z",
     "start_time": "2020-10-12T22:24:40.401819Z"
    },
    "collapsed": true
   },
   "outputs": [],
   "source": [
    "import ads"
   ]
  },
  {
   "cell_type": "markdown",
   "metadata": {},
   "source": [
    "https://ads.readthedocs.io/"
   ]
  },
  {
   "cell_type": "markdown",
   "metadata": {},
   "source": [
    "Note: some fields, such as body, can be searched but not returned via fl or sorted on. Also, multivalued fields, such as author, cannot be used for sorting.\n",
    "\n",
    "abstract - the abstract of the record\n",
    "ack - the acknowledgements section of an article\n",
    "aff - an array of the authors' affiliations\n",
    "alternate_bibcode - list of alternate bibcodes for a single record; if a published record also has an arXiv version, the bibcode associated with the arXiv version is here\n",
    "alternate_title - list of alternate titles for a single record (usually if they are in multiple languages)\n",
    "arxiv_class - the arXiv class the pre-print was submitted to\n",
    "author - an array of the author names associated with the record\n",
    "bibcode - the canonical ADS bibcode identifier for this record\n",
    "bibgroup - the bibliographic groups that the bibcode has been associated with\n",
    "bibstem - the abbreviated name of the journal or publication, e.g., ApJ.\n",
    "body* - the full text content of the article\n",
    "citation_count - number of citations the item has received\n",
    "copyright - the copyright applied to the article\n",
    "data - the list of sources that have data related to this bibcode\n",
    "date - the machine-readable version of pubdate, useful for sorting\n",
    "database - database the record is associated with (astronomy, physics, or general). By default, all three databases are searched; to limit to astronomy articles, add fq=database:astronomy to the URL\n",
    "doi- the digital object identifier of the article\n",
    "doctype - the type of document it is (see here for a list of doctypes)\n",
    "first_author - the first author of the article\n",
    "grant - the list of grant IDs and agencies noted within an article\n",
    "id - a non-persistent unique integer for this record, used for fast look-up of a document\n",
    "identifier - an array of alternative identifiers for the record. May contain alternate bibcodes, DOIs and/or arxiv ids.\n",
    "indexstamp - time at which the document was (last) indexed\n",
    "issue - issue the record appeared in\n",
    "keyword - an array of normalized and un-normalized keyword values associated with the record\n",
    "lang* - the language of the article's title\n",
    "orcid_pub - ORCiD iDs supplied by publishers\n",
    "orcid_user - ORCiD iDs supplied by knonwn users in the ADS\n",
    "orcid_other - ORCiD iDs supplied by anonymous users in the ADS\n",
    "page - starting page\n",
    "property - an array of miscellaneous flags associated with the record (see here for a list of properties\n",
    "pub - the canonical name of the publication the record appeared in\n",
    "pubdate - publication date in the form YYYY-MM-DD (DD value will always be \"00\"). This field is stored as a human-readable string, so is useful for being returned via fl, but not for sorting (see date)\n",
    "read_count - number of times the record has been viewed within in a 90-day windows (ads and arxiv)\n",
    "title - the title of the record\n",
    "vizier - the subject tags given to the article by VizieR\n",
    "volume - volume the record appeared in\n",
    "year - the year the article was published"
   ]
  },
  {
   "cell_type": "code",
   "execution_count": null,
   "metadata": {
    "collapsed": true
   },
   "outputs": [],
   "source": []
  },
  {
   "cell_type": "code",
   "execution_count": 2,
   "metadata": {
    "ExecuteTime": {
     "end_time": "2020-10-12T22:24:44.912846Z",
     "start_time": "2020-10-12T22:24:44.908328Z"
    },
    "collapsed": true
   },
   "outputs": [],
   "source": [
    "ads.config.token='bX9G1oehABACYywsa6qKCu9bNb1E9FycyJfqMAou'\n",
    "ADS_API_TOKEN='bX9G1oehABACYywsa6qKCu9bNb1E9FycyJfqMAou'"
   ]
  },
  {
   "cell_type": "code",
   "execution_count": 3,
   "metadata": {
    "ExecuteTime": {
     "end_time": "2020-10-12T22:24:46.907615Z",
     "start_time": "2020-10-12T22:24:46.904426Z"
    },
    "collapsed": true
   },
   "outputs": [],
   "source": [
    "#papers=ads.SearchQuery(q='Changing look AGN',sort='citation_count')"
   ]
  },
  {
   "cell_type": "code",
   "execution_count": null,
   "metadata": {
    "ExecuteTime": {
     "start_time": "2020-10-12T14:25:49.535Z"
    },
    "collapsed": false
   },
   "outputs": [
    {
     "name": "stderr",
     "output_type": "stream",
     "text": [
      "/Users/brettlv/anaconda3/lib/python3.6/site-packages/ads/utils.py:31: UserWarning: You are lazy loading attributes via 'pubdate', and so are making multiple calls to the API. This will impact your overall rate limits.\n",
      "  UserWarning,\n"
     ]
    },
    {
     "name": "stdout",
     "output_type": "stream",
     "text": [
      "['Possible mechanism for multiple changing-look phenomena in active galactic nuclei'] 2020-09-00 2020A&A...641A.167S\n",
      "\n"
     ]
    }
   ],
   "source": [
    "papers_1=ads.SearchQuery(q='Changing look active galatic nuclei',sort='pubdate')\n",
    "for paper in papers_1:\n",
    "    print(paper.title,paper.pubdate,paper.bibcode)\n",
    "    #print(paper.pubdate)\n",
    "    print()"
   ]
  },
  {
   "cell_type": "code",
   "execution_count": null,
   "metadata": {
    "collapsed": true
   },
   "outputs": [],
   "source": []
  },
  {
   "cell_type": "code",
   "execution_count": null,
   "metadata": {
    "collapsed": true
   },
   "outputs": [],
   "source": []
  },
  {
   "cell_type": "code",
   "execution_count": 59,
   "metadata": {
    "ExecuteTime": {
     "end_time": "2020-09-16T22:24:33.795418Z",
     "start_time": "2020-09-16T22:24:33.789902Z"
    },
    "collapsed": false
   },
   "outputs": [],
   "source": [
    "papers_1.articles?"
   ]
  },
  {
   "cell_type": "code",
   "execution_count": 1,
   "metadata": {
    "ExecuteTime": {
     "end_time": "2019-08-20T16:47:02.118745Z",
     "start_time": "2019-08-20T16:47:00.998276Z"
    },
    "collapsed": true
   },
   "outputs": [],
   "source": [
    "import adstex"
   ]
  },
  {
   "cell_type": "code",
   "execution_count": 2,
   "metadata": {
    "ExecuteTime": {
     "end_time": "2019-08-20T16:47:03.401750Z",
     "start_time": "2019-08-20T16:47:03.396938Z"
    },
    "collapsed": false
   },
   "outputs": [],
   "source": [
    "?adstex"
   ]
  },
  {
   "cell_type": "code",
   "execution_count": null,
   "metadata": {
    "collapsed": true
   },
   "outputs": [],
   "source": []
  },
  {
   "cell_type": "code",
   "execution_count": null,
   "metadata": {
    "collapsed": true
   },
   "outputs": [],
   "source": []
  },
  {
   "cell_type": "markdown",
   "metadata": {},
   "source": [
    "https://pypi.org/project/arxiv/"
   ]
  },
  {
   "cell_type": "markdown",
   "metadata": {
    "collapsed": true
   },
   "source": [
    "https://pypi.org/project/arxiv-checker/"
   ]
  },
  {
   "cell_type": "code",
   "execution_count": null,
   "metadata": {
    "collapsed": true
   },
   "outputs": [],
   "source": []
  }
 ],
 "metadata": {
  "kernelspec": {
   "display_name": "Python 3",
   "language": "python",
   "name": "python3"
  },
  "language_info": {
   "codemirror_mode": {
    "name": "ipython",
    "version": 3
   },
   "file_extension": ".py",
   "mimetype": "text/x-python",
   "name": "python",
   "nbconvert_exporter": "python",
   "pygments_lexer": "ipython3",
   "version": "3.6.0"
  },
  "latex_envs": {
   "LaTeX_envs_menu_present": true,
   "autocomplete": true,
   "bibliofile": "biblio.bib",
   "cite_by": "apalike",
   "current_citInitial": 1,
   "eqLabelWithNumbers": true,
   "eqNumInitial": 1,
   "hotkeys": {
    "equation": "Ctrl-E",
    "itemize": "Ctrl-I"
   },
   "labels_anchors": false,
   "latex_user_defs": false,
   "report_style_numbering": false,
   "user_envs_cfg": false
  },
  "toc": {
   "nav_menu": {},
   "number_sections": true,
   "sideBar": true,
   "skip_h1_title": false,
   "toc_cell": false,
   "toc_position": {},
   "toc_section_display": "block",
   "toc_window_display": false
  }
 },
 "nbformat": 4,
 "nbformat_minor": 2
}
