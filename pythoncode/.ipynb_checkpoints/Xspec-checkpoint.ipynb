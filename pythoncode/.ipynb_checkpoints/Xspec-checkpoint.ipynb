{
 "cells": [
  {
   "cell_type": "code",
   "execution_count": 1,
   "metadata": {
    "ExecuteTime": {
     "end_time": "2018-11-30T10:11:06.766364Z",
     "start_time": "2018-11-30T10:11:06.454774Z"
    },
    "collapsed": true
   },
   "outputs": [],
   "source": [
    "import numpy as np"
   ]
  },
  {
   "cell_type": "code",
   "execution_count": 3,
   "metadata": {
    "ExecuteTime": {
     "end_time": "2018-11-30T10:11:33.194286Z",
     "start_time": "2018-11-30T10:11:33.188792Z"
    },
    "collapsed": false
   },
   "outputs": [
    {
     "data": {
      "text/plain": [
       "0.5591929034707469"
      ]
     },
     "execution_count": 3,
     "metadata": {},
     "output_type": "execute_result"
    }
   ],
   "source": [
    "np.cos(56/360*2*np.pi)"
   ]
  },
  {
   "cell_type": "code",
   "execution_count": null,
   "metadata": {
    "collapsed": true
   },
   "outputs": [],
   "source": [
    "35-1909 3-78keV\n",
    "210-1459 10-60keV\n",
    "10-210 2-10keV\n",
    "10-1000 2-41.6keV\n",
    "E=Channel Number*0.04keV+1.6keV"
   ]
  },
  {
   "cell_type": "markdown",
   "metadata": {},
   "source": [
    "$\n",
    "xspec\n",
    "\n",
    ">\n",
    "data *.pi\n",
    "show all\n",
    "setplot en\n",
    "ignore **-3.0 78.0-**\n",
    "ignore bad \n",
    "\n",
    "ignore **-0.3 10.0-**\n",
    "\n",
    "#ignore **-3.0 78.0-** #for nustar\n",
    "\n",
    "\n",
    "\n",
    "cpd /xw\n",
    "plot data\n",
    "plot ldata\n",
    "\n",
    "nh #input position of source\n",
    "#in units of e22 \n",
    "\n",
    "model pha*pow\n",
    "\n",
    "mo pha*(diskbb+pexrav)\n",
    "\n",
    "mo pha*(diskbb+gauss+pexrav)\n",
    "\n",
    "mo wabs*(diskbb+gauss+pexrav)\n",
    "mo wabs*(diskbb+gauss+compTT)\n",
    "\n",
    "addcomp 2 gauss #add component\n",
    "delcomp 2 #delete\n",
    "new 1 value #set par1 value\n",
    "freeze 1 #freeze par1\n",
    "thaw 1 #unfreeze par1\n",
    "save all powlaw_gauss.xcm #save all model and data\n",
    "@powlaw_gauss.xcm #load \n",
    "error 1 #1 sigma of errorbar of par1\n",
    "error 2.706 1 3 1. 2 # 90% range for par1 3 and 1. sigma for par2\n",
    "\n",
    "ipl \n",
    "r x 0.1 1\n",
    "r y 0.1 1\n",
    "fit 100\n",
    "fit 50 1.e-3\n",
    "\n",
    "steppar 2 5.8 6.5 10 3 0.0 0.2 10 #given range\n",
    "\n",
    "margin 1 10.0 12.0 20 log 3 1.0 10.0 5\n",
    "#2D probability distribution of par1 from 10.0-12.0 in 20 linear bins and par3 from 1.0-10.0 in 5 log bins\n",
    "margin 2 10.0 100.0 10 nolog 4 20.0 30.0 10\n",
    "#2D probability distribution of par2 in 10 log bins and par4 in linear bins \n",
    "\n",
    "\n",
    "\n",
    "plot ldata res\n",
    "plot ldata del\n",
    "plot eeuf res\n",
    "plot eemodel\n",
    "\n",
    "\n",
    "ftest chisq2 dof2 chisq1 dof1\n",
    "#if F-test probalility is low then it is reasonable to add extra model component or thawing a frozen parameter.\n",
    "\n"
   ]
  }
 ],
 "metadata": {
  "kernelspec": {
   "display_name": "Python 3",
   "language": "python",
   "name": "python3"
  },
  "language_info": {
   "codemirror_mode": {
    "name": "ipython",
    "version": 3
   },
   "file_extension": ".py",
   "mimetype": "text/x-python",
   "name": "python",
   "nbconvert_exporter": "python",
   "pygments_lexer": "ipython3",
   "version": "3.6.0"
  },
  "latex_envs": {
   "LaTeX_envs_menu_present": true,
   "autocomplete": true,
   "bibliofile": "biblio.bib",
   "cite_by": "apalike",
   "current_citInitial": 1,
   "eqLabelWithNumbers": true,
   "eqNumInitial": 1,
   "hotkeys": {
    "equation": "Ctrl-E",
    "itemize": "Ctrl-I"
   },
   "labels_anchors": false,
   "latex_user_defs": false,
   "report_style_numbering": false,
   "user_envs_cfg": false
  },
  "toc": {
   "nav_menu": {},
   "number_sections": true,
   "sideBar": true,
   "skip_h1_title": false,
   "toc_cell": false,
   "toc_position": {},
   "toc_section_display": "block",
   "toc_window_display": false
  }
 },
 "nbformat": 4,
 "nbformat_minor": 2
}
