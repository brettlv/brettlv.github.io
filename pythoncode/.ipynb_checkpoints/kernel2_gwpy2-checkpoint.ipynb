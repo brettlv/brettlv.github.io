{
 "cells": [
  {
   "cell_type": "code",
   "execution_count": null,
   "metadata": {
    "ExecuteTime": {
     "start_time": "2018-08-08T04:36:21.835Z"
    },
    "collapsed": false
   },
   "outputs": [
    {
     "name": "stdout",
     "output_type": "stream",
     "text": [
      "Python 2.7.13 |Anaconda 4.3.0 (x86_64)| (default, Dec 20 2016, 23:05:08) \r\n",
      "[GCC 4.2.1 Compatible Apple LLVM 6.0 (clang-600.0.57)] on darwin\r\n",
      "Type \"help\", \"copyright\", \"credits\" or \"license\" for more information.\r\n",
      "Anaconda is brought to you by Continuum Analytics.\r\n",
      "Please check out: http://continuum.io/thanks and https://anaconda.org\r\n",
      ">>> "
     ]
    }
   ],
   "source": [
    "!python"
   ]
  },
  {
   "cell_type": "code",
   "execution_count": null,
   "metadata": {
    "ExecuteTime": {
     "start_time": "2018-08-08T05:14:55.028Z"
    },
    "collapsed": true
   },
   "outputs": [],
   "source": [
    "!python -c \"import gwpy; print(gwpy.__version__)\""
   ]
  },
  {
   "cell_type": "code",
   "execution_count": null,
   "metadata": {
    "ExecuteTime": {
     "start_time": "2018-08-08T03:44:41.123Z"
    },
    "collapsed": true
   },
   "outputs": [],
   "source": [
    "import gwpy\n",
    "import matplotlib.pyplot as plt\n",
    "#%matplotlib inline"
   ]
  },
  {
   "cell_type": "code",
   "execution_count": null,
   "metadata": {
    "ExecuteTime": {
     "start_time": "2018-08-08T03:44:41.126Z"
    },
    "collapsed": true
   },
   "outputs": [],
   "source": [
    "import gwpy\n",
    "!python -c \"import gwpy; print(gwpy.__version__)\"\n",
    "!python -V\n",
    "!python2 -V\n",
    "!python3 -V\n",
    "!pip -V\n",
    "!pip2 -V\n",
    "!pip3 -V"
   ]
  },
  {
   "cell_type": "code",
   "execution_count": null,
   "metadata": {
    "ExecuteTime": {
     "start_time": "2018-08-08T03:44:41.127Z"
    },
    "collapsed": true
   },
   "outputs": [],
   "source": [
    "from gwpy.timeseries import TimeSeries"
   ]
  },
  {
   "cell_type": "code",
   "execution_count": null,
   "metadata": {
    "ExecuteTime": {
     "start_time": "2018-08-08T03:44:41.130Z"
    },
    "collapsed": true
   },
   "outputs": [],
   "source": [
    "data = TimeSeries.fetch_open_data('L1', 968654552, 968654562)"
   ]
  },
  {
   "cell_type": "code",
   "execution_count": null,
   "metadata": {
    "ExecuteTime": {
     "start_time": "2018-08-08T03:44:41.133Z"
    },
    "collapsed": true
   },
   "outputs": [],
   "source": [
    "plot = data.plot(\n",
    "    title='LIGO Livingston Observatory data for HW100916',\n",
    "    ylabel='Gravitational-wave strain amplitude',\n",
    ")\n",
    "plot.show()\n",
    "#plt.savefig('gw1.png')"
   ]
  },
  {
   "cell_type": "code",
   "execution_count": null,
   "metadata": {
    "collapsed": true
   },
   "outputs": [],
   "source": []
  }
 ],
 "metadata": {
  "kernelspec": {
   "display_name": "Python 2",
   "language": "python",
   "name": "python2"
  },
  "language_info": {
   "codemirror_mode": {
    "name": "ipython",
    "version": 2
   },
   "file_extension": ".py",
   "mimetype": "text/x-python",
   "name": "python",
   "nbconvert_exporter": "python",
   "pygments_lexer": "ipython2",
   "version": "2.7.13"
  },
  "latex_envs": {
   "LaTeX_envs_menu_present": true,
   "autocomplete": true,
   "bibliofile": "biblio.bib",
   "cite_by": "apalike",
   "current_citInitial": 1,
   "eqLabelWithNumbers": true,
   "eqNumInitial": 1,
   "hotkeys": {
    "equation": "Ctrl-E",
    "itemize": "Ctrl-I"
   },
   "labels_anchors": false,
   "latex_user_defs": false,
   "report_style_numbering": false,
   "user_envs_cfg": false
  },
  "toc": {
   "nav_menu": {},
   "number_sections": true,
   "sideBar": true,
   "skip_h1_title": false,
   "toc_cell": false,
   "toc_position": {},
   "toc_section_display": "block",
   "toc_window_display": false
  }
 },
 "nbformat": 4,
 "nbformat_minor": 2
}
