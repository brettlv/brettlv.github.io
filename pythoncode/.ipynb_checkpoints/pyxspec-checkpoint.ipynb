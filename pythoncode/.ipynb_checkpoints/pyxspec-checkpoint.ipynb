{
 "cells": [
  {
   "cell_type": "code",
   "execution_count": 4,
   "metadata": {
    "ExecuteTime": {
     "end_time": "2019-03-31T11:18:51.814749Z",
     "start_time": "2019-03-31T11:18:51.811639Z"
    },
    "collapsed": true
   },
   "outputs": [],
   "source": [
    "import os"
   ]
  },
  {
   "cell_type": "markdown",
   "metadata": {
    "ExecuteTime": {
     "end_time": "2019-03-31T11:19:44.962636Z",
     "start_time": "2019-03-31T11:19:44.931662Z"
    },
    "collapsed": false
   },
   "source": [
    "os.system('export HEADAS=/Users/brettlv/src_heasoft/heasoft-6.25/x86_64-apple-darwin16.7.0/')\n",
    "os.system('. $HEADAS/headas-init.sh')\n",
    "os.system('source /Users/brettlv/src_heasoft/heasoft-6.25/CALDB/software/tools/caldbinit.sh')"
   ]
  },
  {
   "cell_type": "code",
   "execution_count": 1,
   "metadata": {
    "ExecuteTime": {
     "end_time": "2018-12-05T21:31:53.625697Z",
     "start_time": "2018-12-05T21:31:53.606206Z"
    },
    "collapsed": false
   },
   "outputs": [
    {
     "data": {
      "text/plain": [
       "'/Users/brettlv/blog/brettlv.github.io/pythoncode'"
      ]
     },
     "execution_count": 1,
     "metadata": {},
     "output_type": "execute_result"
    }
   ],
   "source": [
    "pwd"
   ]
  },
  {
   "cell_type": "markdown",
   "metadata": {
    "ExecuteTime": {
     "end_time": "2018-12-05T21:31:56.374289Z",
     "start_time": "2018-12-05T21:31:56.223880Z"
    },
    "collapsed": false
   },
   "source": [
    "PYTHON_INC=\"-I/Users/brettlv/anaconda3/include/python3.6m\"\n",
    "PYTHON_LIB=\"-L/Users/brettlv/anaconda3/lib -lpython3.6m\""
   ]
  },
  {
   "cell_type": "markdown",
   "metadata": {
    "collapsed": true
   },
   "source": [
    "cd /Users/brettlv/src_heasoft/heasoft-6.25/Xspec\n",
    "/Users/brettlv/src_heasoft/heasoft-6.25/Xspec/src/XSUser/Python/xspec\n",
    "\n",
    "cd /Users/brettlv/src_heasoft/heasoft-6.25/Xspec/BUILD_DIR \n",
    "hmake clean\n",
    "hmake\n",
    "hmake install"
   ]
  },
  {
   "cell_type": "code",
   "execution_count": 1,
   "metadata": {
    "ExecuteTime": {
     "end_time": "2019-03-31T21:09:22.338440Z",
     "start_time": "2019-03-31T21:09:22.066233Z"
    },
    "collapsed": false
   },
   "outputs": [],
   "source": [
    "from xspec import *\n",
    "import xspec"
   ]
  },
  {
   "cell_type": "code",
   "execution_count": 2,
   "metadata": {
    "ExecuteTime": {
     "end_time": "2019-03-31T21:09:23.092146Z",
     "start_time": "2019-03-31T21:09:23.081302Z"
    },
    "collapsed": false
   },
   "outputs": [
    {
     "data": {
      "text/plain": [
       "<module 'xspec' from '/Users/brettlv/src_heasoft/heasoft-6.25/x86_64-apple-darwin16.7.0/lib/python/xspec/__init__.py'>"
      ]
     },
     "execution_count": 2,
     "metadata": {},
     "output_type": "execute_result"
    }
   ],
   "source": [
    "xspec"
   ]
  },
  {
   "cell_type": "code",
   "execution_count": 3,
   "metadata": {
    "ExecuteTime": {
     "end_time": "2018-12-10T10:25:20.502444Z",
     "start_time": "2018-12-10T10:25:10.441964Z"
    },
    "collapsed": false
   },
   "outputs": [],
   "source": [
    "AllModels.initpackage('relxill','lmodel_relxill.dat','/Volumes/Seagate_Backup_Plus_Drive_Lvb/data/reflection_model/')\n",
    "AllModels.lmod('relxill','/Volumes/Seagate_Backup_Plus_Drive_Lvb/data/reflection_model/')\n",
    "#in Xspec\n",
    "#initpackage relxill lmodel_relxill.dat /Volumes/Seagate_Backup_Plus_Drive_Lvb/data/reflection_model \\nexit\n",
    "#lmod relxill /Volumes/Seagate_Backup_Plus_Drive_Lvb/data/reflection_model \\nexit"
   ]
  },
  {
   "cell_type": "code",
   "execution_count": null,
   "metadata": {
    "collapsed": true
   },
   "outputs": [],
   "source": []
  },
  {
   "cell_type": "code",
   "execution_count": null,
   "metadata": {
    "collapsed": true
   },
   "outputs": [],
   "source": []
  },
  {
   "cell_type": "code",
   "execution_count": 33,
   "metadata": {
    "ExecuteTime": {
     "end_time": "2018-12-03T22:12:45.711556Z",
     "start_time": "2018-12-03T22:12:45.673643Z"
    },
    "collapsed": true
   },
   "outputs": [],
   "source": [
    "#s1.show()"
   ]
  },
  {
   "cell_type": "code",
   "execution_count": 4,
   "metadata": {
    "ExecuteTime": {
     "end_time": "2018-12-05T21:32:09.438952Z",
     "start_time": "2018-12-05T21:32:09.434167Z"
    },
    "collapsed": false
   },
   "outputs": [
    {
     "data": {
      "text/plain": [
       "'/Users/brettlv/blog/brettlv.github.io/pythoncode'"
      ]
     },
     "execution_count": 4,
     "metadata": {},
     "output_type": "execute_result"
    }
   ],
   "source": [
    "pwd"
   ]
  },
  {
   "cell_type": "code",
   "execution_count": 5,
   "metadata": {
    "ExecuteTime": {
     "end_time": "2018-12-05T21:32:11.983436Z",
     "start_time": "2018-12-05T21:32:11.976492Z"
    },
    "collapsed": false
   },
   "outputs": [
    {
     "name": "stdout",
     "output_type": "stream",
     "text": [
      "/Volumes/Seagate_Backup_Plus_Drive_Lvb/V404cyg/nustar_v404/90102007002/grp_pipeline_products_20\n"
     ]
    }
   ],
   "source": [
    "cd /Volumes/Seagate_Backup_Plus_Drive_Lvb/V404cyg/nustar_v404/90102007002/grp_pipeline_products_20"
   ]
  },
  {
   "cell_type": "code",
   "execution_count": 12,
   "metadata": {
    "ExecuteTime": {
     "end_time": "2018-12-05T12:08:38.086100Z",
     "start_time": "2018-12-05T12:08:36.260294Z"
    },
    "collapsed": false
   },
   "outputs": [],
   "source": [
    "path1='/Volumes/Seagate_Backup_Plus_Drive_Lvb/V404cyg/nustar_v404/90102007002/grp_pipeline_products_20/V404cygA01_sr_grp.pha'\n",
    "s1=xspec.Spectrum(path1)\n",
    "s1.ignore('**-35 1909-**')\n",
    "s1.ignore(\"bad\")\n",
    "AllData.ignore(\"bad\")"
   ]
  },
  {
   "cell_type": "code",
   "execution_count": 13,
   "metadata": {
    "ExecuteTime": {
     "end_time": "2018-12-05T12:08:59.135682Z",
     "start_time": "2018-12-05T12:08:59.132475Z"
    },
    "collapsed": true
   },
   "outputs": [],
   "source": [
    "s1.show()"
   ]
  },
  {
   "cell_type": "code",
   "execution_count": 23,
   "metadata": {
    "ExecuteTime": {
     "end_time": "2018-12-05T12:16:46.564800Z",
     "start_time": "2018-12-05T12:16:42.599840Z"
    },
    "collapsed": false
   },
   "outputs": [],
   "source": [
    "Model(\"pha*(diskbb+gau+pow)\")\n",
    "Fit.perform()"
   ]
  },
  {
   "cell_type": "code",
   "execution_count": 15,
   "metadata": {
    "ExecuteTime": {
     "end_time": "2018-12-05T12:09:25.792327Z",
     "start_time": "2018-12-05T12:09:25.789354Z"
    },
    "collapsed": true
   },
   "outputs": [],
   "source": [
    "AllData.show()"
   ]
  },
  {
   "cell_type": "code",
   "execution_count": 16,
   "metadata": {
    "ExecuteTime": {
     "end_time": "2018-12-05T12:09:31.907127Z",
     "start_time": "2018-12-05T12:09:31.903675Z"
    },
    "collapsed": false
   },
   "outputs": [],
   "source": [
    "#Model.showList()"
   ]
  },
  {
   "cell_type": "code",
   "execution_count": 17,
   "metadata": {
    "ExecuteTime": {
     "end_time": "2018-12-05T12:09:43.500730Z",
     "start_time": "2018-12-05T12:09:39.663705Z"
    },
    "collapsed": true
   },
   "outputs": [],
   "source": []
  },
  {
   "cell_type": "code",
   "execution_count": 18,
   "metadata": {
    "ExecuteTime": {
     "end_time": "2018-12-05T12:10:52.752404Z",
     "start_time": "2018-12-05T12:10:52.730826Z"
    },
    "collapsed": true
   },
   "outputs": [],
   "source": [
    "Plot.device='/xs'\n",
    "#Plot.device='/null'"
   ]
  },
  {
   "cell_type": "code",
   "execution_count": 24,
   "metadata": {
    "ExecuteTime": {
     "end_time": "2018-12-05T12:16:56.988488Z",
     "start_time": "2018-12-05T12:16:56.979506Z"
    },
    "collapsed": false
   },
   "outputs": [],
   "source": [
    "#Plot('ldata')\n",
    "#Plot('eeuf del')\n",
    "Plot('eeuf del')\n",
    "#Plot('uf')\n",
    "Plot.xAxis=\"keV\"\n",
    "energy20=Plot.x()\n",
    "eecounts20=Plot.y()\n",
    "folded=Plot.model()"
   ]
  },
  {
   "cell_type": "code",
   "execution_count": 25,
   "metadata": {
    "ExecuteTime": {
     "end_time": "2018-12-05T12:17:40.147358Z",
     "start_time": "2018-12-05T12:17:40.142002Z"
    },
    "collapsed": false
   },
   "outputs": [
    {
     "data": {
      "text/plain": [
       "'/Volumes/Seagate_Backup_Plus_Drive_Lvb/V404cyg/nustar_v404/90102007002/grp_pipeline_products_20'"
      ]
     },
     "execution_count": 25,
     "metadata": {},
     "output_type": "execute_result"
    }
   ],
   "source": [
    "pwd"
   ]
  },
  {
   "cell_type": "code",
   "execution_count": null,
   "metadata": {
    "collapsed": true
   },
   "outputs": [],
   "source": []
  },
  {
   "cell_type": "code",
   "execution_count": 26,
   "metadata": {
    "ExecuteTime": {
     "end_time": "2018-12-05T12:17:46.877545Z",
     "start_time": "2018-12-05T12:17:44.525434Z"
    },
    "collapsed": false
   },
   "outputs": [
    {
     "name": "stdout",
     "output_type": "stream",
     "text": [
      "/Volumes/Seagate_Backup_Plus_Drive_Lvb/V404cyg/nustar_v404/90102007002/grp_pipeline_products_20_40\n"
     ]
    }
   ],
   "source": [
    "cd ../grp_pipeline_products_20_40/"
   ]
  },
  {
   "cell_type": "code",
   "execution_count": 28,
   "metadata": {
    "ExecuteTime": {
     "end_time": "2018-12-05T12:18:27.595649Z",
     "start_time": "2018-12-05T12:18:27.528646Z"
    },
    "collapsed": false
   },
   "outputs": [],
   "source": [
    "AllData.clear()"
   ]
  },
  {
   "cell_type": "code",
   "execution_count": 29,
   "metadata": {
    "ExecuteTime": {
     "end_time": "2018-12-05T12:18:52.367856Z",
     "start_time": "2018-12-05T12:18:50.530193Z"
    },
    "collapsed": true
   },
   "outputs": [],
   "source": [
    "path2='/Volumes/Seagate_Backup_Plus_Drive_Lvb/V404cyg/nustar_v404/90102007002/grp_pipeline_products_20_40/V404cygA01_sr_grp.pha'\n",
    "s2=xspec.Spectrum(path2)\n",
    "s2.ignore('**-35 1909-**')\n",
    "#s2.ignore(\"bad\")\n",
    "AllData.ignore(\"bad\")"
   ]
  },
  {
   "cell_type": "code",
   "execution_count": 30,
   "metadata": {
    "ExecuteTime": {
     "end_time": "2018-12-05T12:19:17.528717Z",
     "start_time": "2018-12-05T12:19:10.291023Z"
    },
    "collapsed": false
   },
   "outputs": [],
   "source": [
    "Model(\"pha*(diskbb+gau+pow)\")\n",
    "Fit.perform()"
   ]
  },
  {
   "cell_type": "code",
   "execution_count": 32,
   "metadata": {
    "ExecuteTime": {
     "end_time": "2018-12-05T12:22:15.313889Z",
     "start_time": "2018-12-05T12:20:47.959176Z"
    },
    "collapsed": true
   },
   "outputs": [],
   "source": [
    "Model(\"pha*(diskbb+gau+pexrav)\")\n",
    "Fit.perform()"
   ]
  },
  {
   "cell_type": "code",
   "execution_count": 33,
   "metadata": {
    "ExecuteTime": {
     "end_time": "2018-12-05T12:23:13.136202Z",
     "start_time": "2018-12-05T12:23:13.129745Z"
    },
    "collapsed": true
   },
   "outputs": [],
   "source": [
    "Plot('eeuf del')\n",
    "Plot.xAxis=\"keV\"\n",
    "energy2040=Plot.x()\n",
    "eecounts2040=Plot.y()\n",
    "folded2040=Plot.model()"
   ]
  },
  {
   "cell_type": "code",
   "execution_count": 34,
   "metadata": {
    "ExecuteTime": {
     "end_time": "2018-12-05T12:25:39.784302Z",
     "start_time": "2018-12-05T12:25:39.778792Z"
    },
    "collapsed": true
   },
   "outputs": [],
   "source": [
    "AllModels.calcFlux(\"3.0 78.0\")#Model Flux   0.11963 photons (3.2995e-09 ergs/cm^2/s) range (3.0000 - 78.000 keV)"
   ]
  },
  {
   "cell_type": "code",
   "execution_count": 35,
   "metadata": {
    "ExecuteTime": {
     "end_time": "2018-12-05T12:26:27.960736Z",
     "start_time": "2018-12-05T12:26:27.957388Z"
    },
    "collapsed": false
   },
   "outputs": [],
   "source": [
    "AllData.show()"
   ]
  },
  {
   "cell_type": "code",
   "execution_count": 36,
   "metadata": {
    "ExecuteTime": {
     "end_time": "2018-12-05T12:26:49.330840Z",
     "start_time": "2018-12-05T12:26:48.975582Z"
    },
    "collapsed": false
   },
   "outputs": [
    {
     "name": "stdout",
     "output_type": "stream",
     "text": [
      "/Volumes/Seagate_Backup_Plus_Drive_Lvb/V404cyg/nustar_v404/90102007002/grp_pipeline_products_40_60\n"
     ]
    }
   ],
   "source": [
    "cd ../grp_pipeline_products_40_60/"
   ]
  },
  {
   "cell_type": "code",
   "execution_count": 37,
   "metadata": {
    "ExecuteTime": {
     "end_time": "2018-12-05T12:26:52.534698Z",
     "start_time": "2018-12-05T12:26:52.269020Z"
    },
    "collapsed": true
   },
   "outputs": [],
   "source": [
    "AllData.clear()"
   ]
  },
  {
   "cell_type": "code",
   "execution_count": 38,
   "metadata": {
    "ExecuteTime": {
     "end_time": "2018-12-05T12:27:09.373573Z",
     "start_time": "2018-12-05T12:27:06.437347Z"
    },
    "collapsed": true
   },
   "outputs": [],
   "source": [
    "s3=xspec.Spectrum('V404cygA01_sr_grp.pha')\n",
    "s3.ignore('**-35 1909-**')\n",
    "#s2.ignore(\"bad\")\n",
    "AllData.ignore(\"bad\")"
   ]
  },
  {
   "cell_type": "code",
   "execution_count": 39,
   "metadata": {
    "ExecuteTime": {
     "end_time": "2018-12-05T12:27:19.958373Z",
     "start_time": "2018-12-05T12:27:11.993260Z"
    },
    "collapsed": true
   },
   "outputs": [],
   "source": [
    "Model(\"pha*(diskbb+gau+pow)\")\n",
    "Fit.perform()"
   ]
  },
  {
   "cell_type": "code",
   "execution_count": 42,
   "metadata": {
    "ExecuteTime": {
     "end_time": "2018-12-05T12:30:10.016271Z",
     "start_time": "2018-12-05T12:29:08.425961Z"
    },
    "collapsed": true
   },
   "outputs": [],
   "source": [
    "Model(\"pha*(diskbb+gau+pexrav)\")\n",
    "Fit.perform()"
   ]
  },
  {
   "cell_type": "code",
   "execution_count": 43,
   "metadata": {
    "ExecuteTime": {
     "end_time": "2018-12-05T12:30:52.201103Z",
     "start_time": "2018-12-05T12:30:52.193953Z"
    },
    "collapsed": true
   },
   "outputs": [],
   "source": [
    "Plot('eeuf del')\n",
    "Plot.xAxis=\"keV\"\n",
    "energy4060=Plot.x()\n",
    "eecounts4060=Plot.y()\n",
    "folded4060=Plot.model()"
   ]
  },
  {
   "cell_type": "code",
   "execution_count": 44,
   "metadata": {
    "ExecuteTime": {
     "end_time": "2018-12-05T12:34:08.494844Z",
     "start_time": "2018-12-05T12:34:06.164465Z"
    },
    "collapsed": false
   },
   "outputs": [
    {
     "name": "stdout",
     "output_type": "stream",
     "text": [
      "/Volumes/Seagate_Backup_Plus_Drive_Lvb/V404cyg/nustar_v404/90102007002/grp_pipeline_products_60_80\n"
     ]
    }
   ],
   "source": [
    "cd ../grp_pipeline_products_60_80/"
   ]
  },
  {
   "cell_type": "code",
   "execution_count": 45,
   "metadata": {
    "ExecuteTime": {
     "end_time": "2018-12-05T12:34:11.162114Z",
     "start_time": "2018-12-05T12:34:10.849432Z"
    },
    "collapsed": true
   },
   "outputs": [],
   "source": [
    "AllData.clear()"
   ]
  },
  {
   "cell_type": "code",
   "execution_count": 46,
   "metadata": {
    "ExecuteTime": {
     "end_time": "2018-12-05T12:34:21.602708Z",
     "start_time": "2018-12-05T12:34:18.367710Z"
    },
    "collapsed": true
   },
   "outputs": [],
   "source": [
    "s4=xspec.Spectrum('V404cygA01_sr_grp.pha')\n",
    "s4.ignore('**-35 1909-**')\n",
    "#s2.ignore(\"bad\")\n",
    "AllData.ignore(\"bad\")"
   ]
  },
  {
   "cell_type": "code",
   "execution_count": 47,
   "metadata": {
    "ExecuteTime": {
     "end_time": "2018-12-05T12:34:54.844465Z",
     "start_time": "2018-12-05T12:34:28.303778Z"
    },
    "collapsed": true
   },
   "outputs": [],
   "source": [
    "Model(\"pha*(diskbb+gau+pow)\")\n",
    "Fit.perform()"
   ]
  },
  {
   "cell_type": "code",
   "execution_count": 49,
   "metadata": {
    "ExecuteTime": {
     "end_time": "2018-12-05T12:38:05.223650Z",
     "start_time": "2018-12-05T12:36:45.169343Z"
    },
    "collapsed": true
   },
   "outputs": [],
   "source": [
    "Model(\"pha*(diskbb+gau+pexrav)\")\n",
    "Fit.perform()"
   ]
  },
  {
   "cell_type": "code",
   "execution_count": 50,
   "metadata": {
    "ExecuteTime": {
     "end_time": "2018-12-05T12:44:10.487436Z",
     "start_time": "2018-12-05T12:44:10.477242Z"
    },
    "collapsed": true
   },
   "outputs": [],
   "source": [
    "Plot('eeuf del')\n",
    "Plot.xAxis=\"keV\"\n",
    "energy6080=Plot.x()\n",
    "eecounts6080=Plot.y()\n",
    "folded6080=Plot.model()"
   ]
  },
  {
   "cell_type": "code",
   "execution_count": null,
   "metadata": {
    "collapsed": true
   },
   "outputs": [],
   "source": []
  },
  {
   "cell_type": "code",
   "execution_count": 51,
   "metadata": {
    "ExecuteTime": {
     "end_time": "2018-12-05T12:46:50.794854Z",
     "start_time": "2018-12-05T12:46:48.451590Z"
    },
    "collapsed": false
   },
   "outputs": [
    {
     "name": "stdout",
     "output_type": "stream",
     "text": [
      "/Volumes/Seagate_Backup_Plus_Drive_Lvb/V404cyg/nustar_v404/90102007002/grp_pipeline_products_80_100\n"
     ]
    }
   ],
   "source": [
    "cd ../grp_pipeline_products_80_100/"
   ]
  },
  {
   "cell_type": "code",
   "execution_count": 52,
   "metadata": {
    "ExecuteTime": {
     "end_time": "2018-12-05T12:46:52.905982Z",
     "start_time": "2018-12-05T12:46:52.595720Z"
    },
    "collapsed": true
   },
   "outputs": [],
   "source": [
    "AllData.clear()"
   ]
  },
  {
   "cell_type": "code",
   "execution_count": 53,
   "metadata": {
    "ExecuteTime": {
     "end_time": "2018-12-05T12:47:00.405798Z",
     "start_time": "2018-12-05T12:46:57.262851Z"
    },
    "collapsed": true
   },
   "outputs": [],
   "source": [
    "s5=xspec.Spectrum('V404cygA01_sr_grp.pha')\n",
    "s5.ignore('**-35 1909-**')\n",
    "AllData.ignore(\"bad\")"
   ]
  },
  {
   "cell_type": "code",
   "execution_count": 54,
   "metadata": {
    "ExecuteTime": {
     "end_time": "2018-12-05T12:47:04.482617Z",
     "start_time": "2018-12-05T12:47:03.499322Z"
    },
    "collapsed": true
   },
   "outputs": [],
   "source": [
    "Model(\"pha*(diskbb+gau+pow)\")\n",
    "Fit.perform()"
   ]
  },
  {
   "cell_type": "code",
   "execution_count": 55,
   "metadata": {
    "ExecuteTime": {
     "end_time": "2018-12-05T12:53:09.102004Z",
     "start_time": "2018-12-05T12:47:24.388393Z"
    },
    "collapsed": true
   },
   "outputs": [],
   "source": [
    "Model(\"pha*(diskbb+gau+pexrav)\")\n",
    "Fit.perform()"
   ]
  },
  {
   "cell_type": "code",
   "execution_count": 56,
   "metadata": {
    "ExecuteTime": {
     "end_time": "2018-12-05T12:55:18.579041Z",
     "start_time": "2018-12-05T12:55:18.542702Z"
    },
    "collapsed": false
   },
   "outputs": [],
   "source": [
    "#Plot('data')\n",
    "#Plot(\"model\")\n",
    "#Plot('ufspec')\n",
    "Plot('eeuf del')\n",
    "Plot.xAxis=\"keV\"\n",
    "energy80100=Plot.x()\n",
    "eecounts80100=Plot.y()\n",
    "folded80100=Plot.model()"
   ]
  },
  {
   "cell_type": "code",
   "execution_count": 167,
   "metadata": {
    "ExecuteTime": {
     "end_time": "2018-12-04T13:12:23.087926Z",
     "start_time": "2018-12-04T13:12:23.072578Z"
    },
    "collapsed": true
   },
   "outputs": [],
   "source": [
    "#Plot('data')\n",
    "#Plot(\"model\")\n",
    "Plot('ufspec')\n",
    "#Plot('eeuf')\n",
    "Plot.xAxis=\"keV\"\n",
    "energy80100=Plot.x()\n",
    "eecounts80100=Plot.y()\n",
    "folded80100=Plot.model()"
   ]
  },
  {
   "cell_type": "code",
   "execution_count": 59,
   "metadata": {
    "ExecuteTime": {
     "end_time": "2018-12-05T20:30:58.104563Z",
     "start_time": "2018-12-05T20:30:58.100570Z"
    },
    "collapsed": false
   },
   "outputs": [],
   "source": [
    "AllModels.show()"
   ]
  },
  {
   "cell_type": "code",
   "execution_count": null,
   "metadata": {
    "collapsed": true
   },
   "outputs": [],
   "source": []
  },
  {
   "cell_type": "code",
   "execution_count": null,
   "metadata": {
    "ExecuteTime": {
     "end_time": "2018-12-05T20:54:03.661991Z",
     "start_time": "2018-12-05T20:54:03.654709Z"
    },
    "collapsed": false,
    "scrolled": true
   },
   "outputs": [],
   "source": []
  },
  {
   "cell_type": "code",
   "execution_count": null,
   "metadata": {
    "ExecuteTime": {
     "start_time": "2018-12-05T12:59:42.773Z"
    },
    "collapsed": false
   },
   "outputs": [],
   "source": []
  },
  {
   "cell_type": "code",
   "execution_count": null,
   "metadata": {
    "ExecuteTime": {
     "start_time": "2018-12-05T13:04:15.007Z"
    },
    "collapsed": false
   },
   "outputs": [],
   "source": [
    "s1=Model(\"TBABS*(diskbb+relxilllp)\")"
   ]
  },
  {
   "cell_type": "code",
   "execution_count": 62,
   "metadata": {
    "ExecuteTime": {
     "end_time": "2018-12-05T20:43:07.428207Z",
     "start_time": "2018-12-05T20:43:07.423363Z"
    },
    "collapsed": false
   },
   "outputs": [
    {
     "ename": "SyntaxError",
     "evalue": "invalid syntax (<ipython-input-62-10a7b6820ad5>, line 1)",
     "output_type": "error",
     "traceback": [
      "\u001b[0;36m  File \u001b[0;32m\"<ipython-input-62-10a7b6820ad5>\"\u001b[0;36m, line \u001b[0;32m1\u001b[0m\n\u001b[0;31m    lmod relxill /Volumes/Seagate_Backup_Plus_Drive_Lvb/data/reflection_model \\nexit\u001b[0m\n\u001b[0m               ^\u001b[0m\n\u001b[0;31mSyntaxError\u001b[0m\u001b[0;31m:\u001b[0m invalid syntax\n"
     ]
    }
   ],
   "source": []
  },
  {
   "cell_type": "code",
   "execution_count": 61,
   "metadata": {
    "ExecuteTime": {
     "end_time": "2018-12-05T20:32:01.461356Z",
     "start_time": "2018-12-05T20:32:01.443601Z"
    },
    "collapsed": false
   },
   "outputs": [
    {
     "ename": "Exception",
     "evalue": "Model Command Error",
     "output_type": "error",
     "traceback": [
      "\u001b[0;31m---------------------------------------------------------------------------\u001b[0m",
      "\u001b[0;31mException\u001b[0m                                 Traceback (most recent call last)",
      "\u001b[0;32m<ipython-input-61-792aaa5fdb72>\u001b[0m in \u001b[0;36m<module>\u001b[0;34m()\u001b[0m\n\u001b[0;32m----> 1\u001b[0;31m \u001b[0mModel\u001b[0m\u001b[0;34m(\u001b[0m\u001b[0;34m\"TBABS*(diskbb+relxilllp)\"\u001b[0m\u001b[0;34m)\u001b[0m\u001b[0;34m\u001b[0m\u001b[0m\n\u001b[0m",
      "\u001b[0;32m/Users/brettlv/src_heasoft/heasoft-6.22.1/x86_64-apple-darwin16.7.0/lib/python/xspec/model.py\u001b[0m in \u001b[0;36m__init__\u001b[0;34m(self, exprString, modName, sourceNum, setPars)\u001b[0m\n\u001b[1;32m    197\u001b[0m                   or not testExpr.find(\"act\") or not testExpr.find(\"inact\")):\n\u001b[1;32m    198\u001b[0m                 \u001b[0;32mraise\u001b[0m \u001b[0mException\u001b[0m\u001b[0;34m(\u001b[0m\u001b[0;34m\"Error: 'clear','none','act', and 'inact' forbidden in this context\"\u001b[0m\u001b[0;34m)\u001b[0m\u001b[0;34m\u001b[0m\u001b[0m\n\u001b[0;32m--> 199\u001b[0;31m             \u001b[0mmodTuple\u001b[0m \u001b[0;34m=\u001b[0m \u001b[0m_pyXspec\u001b[0m\u001b[0;34m.\u001b[0m\u001b[0mcreateModel\u001b[0m\u001b[0;34m(\u001b[0m\u001b[0mexprString\u001b[0m\u001b[0;34m,\u001b[0m \u001b[0mmodName\u001b[0m\u001b[0;34m,\u001b[0m \u001b[0msourceNum\u001b[0m\u001b[0;34m)\u001b[0m\u001b[0;34m\u001b[0m\u001b[0m\n\u001b[0m\u001b[1;32m    200\u001b[0m \u001b[0;34m\u001b[0m\u001b[0m\n\u001b[1;32m    201\u001b[0m         \u001b[0mself\u001b[0m\u001b[0;34m.\u001b[0m\u001b[0m_turnRestrictOff\u001b[0m\u001b[0;34m(\u001b[0m\u001b[0;34m)\u001b[0m\u001b[0;34m\u001b[0m\u001b[0m\n",
      "\u001b[0;31mException\u001b[0m: Model Command Error"
     ]
    }
   ],
   "source": [
    "Model(\"TBABS*(diskbb+relxilllp)\")\n",
    "#lmod relxill . \\nexit\n",
    "\n",
    "#mo tbabs*(disk+relxilllp)"
   ]
  },
  {
   "cell_type": "code",
   "execution_count": 149,
   "metadata": {
    "ExecuteTime": {
     "end_time": "2018-12-04T13:07:53.941833Z",
     "start_time": "2018-12-04T13:07:53.871003Z"
    },
    "collapsed": true
   },
   "outputs": [],
   "source": []
  },
  {
   "cell_type": "code",
   "execution_count": 174,
   "metadata": {
    "ExecuteTime": {
     "end_time": "2018-12-05T11:57:42.933298Z",
     "start_time": "2018-12-05T11:57:42.917146Z"
    },
    "collapsed": false
   },
   "outputs": [],
   "source": [
    "Plot('data')"
   ]
  },
  {
   "cell_type": "code",
   "execution_count": 176,
   "metadata": {
    "ExecuteTime": {
     "end_time": "2018-12-05T11:58:58.474778Z",
     "start_time": "2018-12-05T11:58:58.457549Z"
    },
    "collapsed": true
   },
   "outputs": [],
   "source": [
    "Plot('eeuf')"
   ]
  },
  {
   "cell_type": "code",
   "execution_count": 175,
   "metadata": {
    "ExecuteTime": {
     "end_time": "2018-12-05T11:58:03.191818Z",
     "start_time": "2018-12-05T11:58:03.177755Z"
    },
    "collapsed": false
   },
   "outputs": [],
   "source": [
    "Plot('uf')\n"
   ]
  },
  {
   "cell_type": "code",
   "execution_count": 125,
   "metadata": {
    "ExecuteTime": {
     "end_time": "2018-12-04T12:57:23.211885Z",
     "start_time": "2018-12-04T12:57:22.785823Z"
    },
    "collapsed": false
   },
   "outputs": [
    {
     "data": {
      "image/png": "[encoded data removed]",
      "text/plain": [
       "<matplotlib.figure.Figure at 0x11effa908>"
      ]
     },
     "metadata": {},
     "output_type": "display_data"
    }
   ],
   "source": [
    "import numpy as np\n",
    "import matplotlib.pyplot as plt\n",
    "plt.plot(energy20,eecounts20)\n",
    "plt.plot(energy2040,eecounts2040)\n",
    "plt.plot(energy4060,eecounts4060)\n",
    "plt.plot(energy6080,eecounts6080)\n",
    "plt.plot(energy80100,eecounts80100)\n",
    "#plt.plot(energy,counts)\n",
    "plt.semilogx()\n",
    "plt.semilogy()\n",
    "plt.show()"
   ]
  },
  {
   "cell_type": "code",
   "execution_count": null,
   "metadata": {
    "collapsed": true
   },
   "outputs": [],
   "source": []
  },
  {
   "cell_type": "code",
   "execution_count": 81,
   "metadata": {
    "ExecuteTime": {
     "end_time": "2018-12-04T11:58:26.687551Z",
     "start_time": "2018-12-04T11:58:26.619771Z"
    },
    "collapsed": true
   },
   "outputs": [],
   "source": [
    "Plot('eeuf del')\n",
    "Plot.xAxis=\"keV\"\n",
    "s1.ignore('**-3.0 78.0-**')"
   ]
  },
  {
   "cell_type": "code",
   "execution_count": 57,
   "metadata": {
    "ExecuteTime": {
     "end_time": "2018-12-05T13:01:48.518854Z",
     "start_time": "2018-12-05T13:01:48.241446Z"
    },
    "collapsed": true
   },
   "outputs": [],
   "source": [
    "AllData.clear()"
   ]
  },
  {
   "cell_type": "code",
   "execution_count": null,
   "metadata": {
    "collapsed": true
   },
   "outputs": [],
   "source": []
  },
  {
   "cell_type": "code",
   "execution_count": null,
   "metadata": {
    "collapsed": true
   },
   "outputs": [],
   "source": []
  },
  {
   "cell_type": "code",
   "execution_count": null,
   "metadata": {
    "collapsed": true
   },
   "outputs": [],
   "source": []
  },
  {
   "cell_type": "code",
   "execution_count": null,
   "metadata": {
    "collapsed": true
   },
   "outputs": [],
   "source": []
  },
  {
   "cell_type": "code",
   "execution_count": null,
   "metadata": {
    "collapsed": true
   },
   "outputs": [],
   "source": []
  },
  {
   "cell_type": "code",
   "execution_count": null,
   "metadata": {
    "collapsed": true
   },
   "outputs": [],
   "source": []
  },
  {
   "cell_type": "code",
   "execution_count": null,
   "metadata": {
    "collapsed": true
   },
   "outputs": [],
   "source": []
  },
  {
   "cell_type": "code",
   "execution_count": null,
   "metadata": {
    "collapsed": true
   },
   "outputs": [],
   "source": []
  },
  {
   "cell_type": "code",
   "execution_count": null,
   "metadata": {
    "collapsed": true
   },
   "outputs": [],
   "source": []
  },
  {
   "cell_type": "markdown",
   "metadata": {
    "ExecuteTime": {
     "end_time": "2019-03-31T21:10:06.703980Z",
     "start_time": "2019-03-31T21:10:03.283892Z"
    },
    "collapsed": false
   },
   "source": []
  },
  {
   "cell_type": "code",
   "execution_count": null,
   "metadata": {
    "collapsed": true
   },
   "outputs": [],
   "source": []
  },
  {
   "cell_type": "code",
   "execution_count": null,
   "metadata": {
    "ExecuteTime": {
     "end_time": "2019-03-31T21:05:58.702168Z",
     "start_time": "2019-03-31T21:05:58.689885Z"
    },
    "collapsed": false
   },
   "outputs": [],
   "source": []
  },
  {
   "cell_type": "code",
   "execution_count": null,
   "metadata": {
    "collapsed": true
   },
   "outputs": [],
   "source": []
  }
 ],
 "metadata": {
  "kernelspec": {
   "display_name": "Python 3",
   "language": "python",
   "name": "python3"
  },
  "language_info": {
   "codemirror_mode": {
    "name": "ipython",
    "version": 3
   },
   "file_extension": ".py",
   "mimetype": "text/x-python",
   "name": "python",
   "nbconvert_exporter": "python",
   "pygments_lexer": "ipython3",
   "version": "3.6.0"
  },
  "latex_envs": {
   "LaTeX_envs_menu_present": true,
   "autocomplete": true,
   "bibliofile": "biblio.bib",
   "cite_by": "apalike",
   "current_citInitial": 1,
   "eqLabelWithNumbers": true,
   "eqNumInitial": 1,
   "hotkeys": {
    "equation": "Ctrl-E",
    "itemize": "Ctrl-I"
   },
   "labels_anchors": false,
   "latex_user_defs": false,
   "report_style_numbering": false,
   "user_envs_cfg": false
  },
  "toc": {
   "nav_menu": {},
   "number_sections": true,
   "sideBar": true,
   "skip_h1_title": false,
   "toc_cell": false,
   "toc_position": {},
   "toc_section_display": "block",
   "toc_window_display": false
  }
 },
 "nbformat": 4,
 "nbformat_minor": 2
}
