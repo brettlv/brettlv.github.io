{
 "cells": [
  {
   "cell_type": "markdown",
   "metadata": {},
   "source": [
    "# [linmix_kelly_2007_linear_fit](https://linmix.readthedocs.io/en/latest/example.html)\n",
    "\n"
   ]
  },
  {
   "cell_type": "code",
   "execution_count": null,
   "metadata": {
    "ExecuteTime": {
     "end_time": "2020-10-26T16:26:35.422060Z",
     "start_time": "2020-10-26T16:26:35.415959Z"
    },
    "collapsed": true
   },
   "outputs": [],
   "source": [
    "import matplotlib.pyplot as plt\n",
    "import numpy as np\n",
    "import linmix\n",
    "np.random.seed(2)"
   ]
  },
  {
   "cell_type": "markdown",
   "metadata": {},
   "source": [
    "$Pr(ξ)∝e^ξ(1+e^{2.75ξ})^{-1}$"
   ]
  },
  {
   "cell_type": "code",
   "execution_count": null,
   "metadata": {
    "ExecuteTime": {
     "end_time": "2020-10-26T16:26:37.611443Z",
     "start_time": "2020-10-26T16:26:37.093161Z"
    },
    "collapsed": false
   },
   "outputs": [],
   "source": [
    "def pxi(xi):\n",
    "    return np.exp(xi) * (1.0 + np.exp(2.75*xi))**(-1)\n",
    "fig = plt.figure()\n",
    "ax = fig.add_subplot(111)\n",
    "x = np.arange(-5,5, 0.01)\n",
    "ax.plot(x, pxi(x))\n",
    "ax.set_xlabel(r\"$\\xi$\")\n",
    "ax.set_ylabel(r\"$P(\\xi)$\")\n",
    "plt.show()"
   ]
  },
  {
   "cell_type": "code",
   "execution_count": null,
   "metadata": {
    "ExecuteTime": {
     "end_time": "2020-10-26T16:27:09.532541Z",
     "start_time": "2020-10-26T16:27:09.504010Z"
    },
    "collapsed": true
   },
   "outputs": [],
   "source": [
    "def rejection_sample(p, pmax, prop, size):\n",
    "    out=[]\n",
    "    for s in range(size):\n",
    "        x = prop()\n",
    "        px = p(x)\n",
    "        pu = np.random.uniform(low=0.0, high=pmax)\n",
    "        while px < pu:\n",
    "            x = prop()\n",
    "            px = p(x)\n",
    "            pu = np.random.uniform(low=0.0, high=pmax)\n",
    "        out.append(x)\n",
    "    return np.array(out)\n",
    "\n",
    "pmax = 0.55 # max p(xi) determined by eye\n",
    "prop = lambda : np.random.uniform(low=-10, high=10) # truncating range to (-10, 10)\n",
    "xi = rejection_sample(pxi, pmax, prop, size=100)"
   ]
  },
  {
   "cell_type": "code",
   "execution_count": null,
   "metadata": {
    "ExecuteTime": {
     "end_time": "2020-10-26T16:27:17.860107Z",
     "start_time": "2020-10-26T16:27:17.853059Z"
    },
    "collapsed": false
   },
   "outputs": [],
   "source": [
    "xi"
   ]
  },
  {
   "cell_type": "markdown",
   "metadata": {
    "ExecuteTime": {
     "end_time": "2020-07-18T19:01:11.356081Z",
     "start_time": "2020-07-18T19:01:11.347665Z"
    },
    "collapsed": true
   },
   "source": [
    "ax.hist?"
   ]
  },
  {
   "cell_type": "code",
   "execution_count": null,
   "metadata": {
    "ExecuteTime": {
     "end_time": "2020-10-26T16:27:22.427069Z",
     "start_time": "2020-10-26T16:27:22.064260Z"
    },
    "collapsed": false
   },
   "outputs": [],
   "source": [
    "fig = plt.figure()\n",
    "ax = fig.add_subplot(111)\n",
    "x = np.arange(-5,5, 0.01)\n",
    "ax.plot(x, pxi(x))\n",
    "ax.hist(xi, 10, range=(-6,6),density=True)#, normed=True\n",
    "ax.set_xlabel(r\"$\\xi$\")\n",
    "ax.set_ylabel(r\"$P(\\xi)$\")\n",
    "plt.show()"
   ]
  },
  {
   "cell_type": "code",
   "execution_count": null,
   "metadata": {
    "ExecuteTime": {
     "end_time": "2020-10-26T16:27:45.597434Z",
     "start_time": "2020-10-26T16:27:45.587010Z"
    },
    "collapsed": true
   },
   "outputs": [],
   "source": [
    "alpha = 1.0\n",
    "beta = 0.5\n",
    "sigsqr = 0.75**2\n",
    "epsilon = np.random.normal(loc=0, scale=np.sqrt(sigsqr), size=len(xi))\n",
    "eta = alpha + beta*xi + epsilon\n",
    "\n",
    "\n",
    "tau = np.std(xi)\n",
    "sigma = np.sqrt(sigsqr)\n",
    "t = 0.4 * tau\n",
    "s = 0.5 * sigma\n",
    "xsig = 5*t**2 / np.random.chisquare(5, size=len(xi))\n",
    "ysig = 5*s**2 / np.random.chisquare(5, size=len(eta))\n",
    "x = np.random.normal(loc=xi, scale=xsig)\n",
    "y = np.random.normal(loc=eta, scale=ysig)"
   ]
  },
  {
   "cell_type": "code",
   "execution_count": null,
   "metadata": {
    "ExecuteTime": {
     "end_time": "2020-10-26T16:27:50.073819Z",
     "start_time": "2020-10-26T16:27:49.350338Z"
    },
    "collapsed": false
   },
   "outputs": [],
   "source": [
    "fig = plt.figure(figsize=(10,4))\n",
    "ax = fig.add_subplot(121)\n",
    "ax.scatter(xi, eta)\n",
    "ax.set_xlabel(r'$\\xi$')\n",
    "ax.set_ylabel(r'$\\eta$')\n",
    "ax.set_xlim(-6,6)\n",
    "ax.set_ylim(-3,4)\n",
    "ax = fig.add_subplot(122)\n",
    "ax.scatter(x, y, alpha=0.5)\n",
    "ax.errorbar(x, y, xerr=xsig, yerr=ysig, ls=' ', alpha=0.5)\n",
    "ax.set_xlabel(r'x')\n",
    "ax.set_ylabel(r'y')\n",
    "ax.set_xlim(-10,10)\n",
    "ax.set_ylim(-5,6)\n",
    "ax.plot([-6,6,6,-6,-6], [-3,-3,4,4,-3], color='k')\n",
    "fig.tight_layout()\n",
    "plt.show()"
   ]
  },
  {
   "cell_type": "code",
   "execution_count": null,
   "metadata": {
    "ExecuteTime": {
     "end_time": "2020-10-26T16:28:43.263922Z",
     "start_time": "2020-10-26T16:28:17.345525Z"
    },
    "collapsed": true
   },
   "outputs": [],
   "source": [
    "lm = linmix.LinMix(x, y, xsig, ysig, K=2)\n",
    "lm.run_mcmc(silent=True)"
   ]
  },
  {
   "cell_type": "code",
   "execution_count": null,
   "metadata": {
    "ExecuteTime": {
     "end_time": "2020-10-26T16:29:17.600868Z",
     "start_time": "2020-10-26T16:29:15.998870Z"
    },
    "collapsed": false
   },
   "outputs": [],
   "source": [
    "fig = plt.figure(figsize=(10,4))\n",
    "ax = fig.add_subplot(121)\n",
    "ax.scatter(xi, eta)\n",
    "ax.set_xlabel(r'$\\xi$')\n",
    "ax.set_ylabel(r'$\\eta$')\n",
    "ax.set_xlim(-6,6)\n",
    "ax.set_ylim(-3,4)\n",
    "\n",
    "\n",
    "ax = fig.add_subplot(122)\n",
    "ax.scatter(x, y, alpha=0.5)\n",
    "ax.errorbar(x, y, xerr=xsig, yerr=ysig, ls=' ', alpha=0.5)\n",
    "for i in range(0, len(lm.chain), 25):\n",
    "    xs = np.arange(-10,11)\n",
    "    ys = lm.chain[i]['alpha'] + xs * lm.chain[i]['beta']\n",
    "    ax.plot(xs, ys, color='grey', alpha=0.02)\n",
    "ys = alpha + xs * beta\n",
    "ax.plot(xs, ys, color='k')\n",
    "ax.set_xlabel(r'x')\n",
    "ax.set_ylabel(r'y')\n",
    "ax.set_xlim(-10,10)\n",
    "ax.set_ylim(-5,6)\n",
    "#ax.plot([-6,6,6,-6,-6], [-3,-3,4,4,-3], color='k')\n",
    "fig.tight_layout()\n",
    "plt.show()"
   ]
  },
  {
   "cell_type": "code",
   "execution_count": null,
   "metadata": {
    "ExecuteTime": {
     "end_time": "2020-10-26T16:30:44.866439Z",
     "start_time": "2020-10-26T16:30:06.264254Z"
    },
    "collapsed": false
   },
   "outputs": [],
   "source": [
    "delta = y > 1.5\n",
    "notdelta = np.logical_not(delta)\n",
    "ycens = y.copy()\n",
    "ycens[notdelta] = 1.5\n",
    "lmcens  = linmix.LinMix(x, ycens, xsig, ysig, delta=delta, K=2)\n",
    "lmcens.run_mcmc(silent=True)\n",
    "fig = plt.figure(figsize=(10,4))\n",
    "ax = fig.add_subplot(121)\n",
    "ax.scatter(xi, eta)\n",
    "ax.set_xlabel(r'$\\xi$')\n",
    "ax.set_ylabel(r'$\\eta$')\n",
    "ax.set_xlim(-6,6)\n",
    "ax.set_ylim(-3,4)\n",
    "ax = fig.add_subplot(122)\n",
    "ax.errorbar(x[delta], ycens[delta], xsig[delta], ysig[delta], ls=' ', alpha=0.4)\n",
    "ax.errorbar(x[notdelta], ycens[notdelta], yerr=0.3, uplims=np.ones(sum(notdelta), dtype=bool), ls=' ', c='b', alpha=0.4)\n",
    "for i in range(0, len(lmcens.chain), 25):\n",
    "    xs = np.arange(-10, 11)\n",
    "    ys = lmcens.chain[i]['alpha'] + xs * lmcens.chain[i]['beta']\n",
    "    ax.plot(xs, ys, color='g', alpha=0.02)\n",
    "for i in range(0, len(lm.chain), 25):\n",
    "    xs = np.arange(-10, 11)\n",
    "    ys = lm.chain[i]['alpha'] + xs * lm.chain[i]['beta']\n",
    "    ax.plot(xs, ys, color='r', alpha=0.02)\n",
    "ys = alpha + xs * beta\n",
    "ax.plot(xs, ys, color='k')\n",
    "ax.set_xlabel(r'x')\n",
    "ax.set_ylabel(r'y')\n",
    "ax.set_xlim(-10,10)\n",
    "ax.set_ylim(-5,6)\n",
    "ax.plot([-6,6,6,-6,-6], [-3,-3,4,4,-3], color='k')\n",
    "fig.tight_layout()\n",
    "plt.savefig(\"cens_results.png\")\n",
    "plt.show()"
   ]
  },
  {
   "cell_type": "markdown",
   "metadata": {},
   "source": [
    "# pymc3"
   ]
  },
  {
   "cell_type": "code",
   "execution_count": null,
   "metadata": {
    "ExecuteTime": {
     "end_time": "2020-10-26T16:56:46.573140Z",
     "start_time": "2020-10-26T16:56:46.286098Z"
    },
    "collapsed": false
   },
   "outputs": [],
   "source": [
    "from matplotlib import pyplot as plt\n",
    "import numpy as np\n",
    "from pymc3 import summary, traceplot\n",
    "import pymc3 as pm\n",
    "from pymc3_models.models.LinearRegression import LinearRegression\n",
    "\n",
    "%matplotlib inline\n",
    "\n",
    "plt.rcParams['figure.figsize'] = (15, 10)\n",
    "\n",
    "plt.rcParams['font.size'] = 16"
   ]
  },
  {
   "cell_type": "code",
   "execution_count": null,
   "metadata": {
    "ExecuteTime": {
     "end_time": "2020-10-26T16:56:47.473461Z",
     "start_time": "2020-10-26T16:56:47.468524Z"
    },
    "collapsed": true
   },
   "outputs": [],
   "source": [
    "X = np.random.randn(1000, 1)\n",
    "noise = 2 * np.random.randn(1000, 1)\n",
    "Y = 4 * X + 3 + noise\n",
    "Y = np.squeeze(Y)"
   ]
  },
  {
   "cell_type": "code",
   "execution_count": null,
   "metadata": {
    "ExecuteTime": {
     "end_time": "2020-10-26T16:56:48.687964Z",
     "start_time": "2020-10-26T16:56:48.264099Z"
    },
    "collapsed": false
   },
   "outputs": [],
   "source": [
    "plt.scatter(X, Y)"
   ]
  },
  {
   "cell_type": "code",
   "execution_count": null,
   "metadata": {
    "ExecuteTime": {
     "end_time": "2020-10-26T16:56:54.795682Z",
     "start_time": "2020-10-26T16:56:54.792281Z"
    },
    "collapsed": false
   },
   "outputs": [],
   "source": [
    "LR = LinearRegression()"
   ]
  },
  {
   "cell_type": "code",
   "execution_count": null,
   "metadata": {
    "ExecuteTime": {
     "end_time": "2020-10-26T16:57:39.457983Z",
     "start_time": "2020-10-26T16:57:14.126453Z"
    },
    "collapsed": false
   },
   "outputs": [],
   "source": [
    "LR.fit(X, Y, minibatch_size=100)"
   ]
  },
  {
   "cell_type": "code",
   "execution_count": null,
   "metadata": {
    "ExecuteTime": {
     "end_time": "2020-10-26T16:57:39.840048Z",
     "start_time": "2020-10-26T16:57:39.460278Z"
    },
    "collapsed": false
   },
   "outputs": [],
   "source": [
    "LR.plot_elbo()"
   ]
  },
  {
   "cell_type": "markdown",
   "metadata": {},
   "source": [
    "# Inline Bayesian Linear Regression"
   ]
  },
  {
   "cell_type": "code",
   "execution_count": 2,
   "metadata": {
    "ExecuteTime": {
     "end_time": "2020-11-03T20:24:26.373952Z",
     "start_time": "2020-11-03T20:24:14.185943Z"
    },
    "collapsed": false
   },
   "outputs": [
    {
     "data": {
      "image/png": "[encoded data removed]",
      "text/plain": [
       "<Figure size 360x270 with 1 Axes>"
      ]
     },
     "metadata": {},
     "output_type": "display_data"
    },
    {
     "data": {
      "image/png": "[encoded data removed]",
      "text/plain": [
       "<Figure size 360x360 with 4 Axes>"
      ]
     },
     "metadata": {},
     "output_type": "display_data"
    }
   ],
   "source": [
    "import numpy as np\n",
    "from matplotlib import pyplot as plt\n",
    "from astroML.plotting.mcmc import convert_to_stdev\n",
    "\n",
    "#----------------------------------------------------------------------\n",
    "# This function adjusts matplotlib settings for a uniform feel in the textbook.\n",
    "# Note that with usetex=True, fonts are rendered with LaTeX.  This may\n",
    "# result in an error if LaTeX is not installed on your system.  In that case,\n",
    "# you can set usetex to False.\n",
    "if \"setup_text_plots\" not in globals():\n",
    "    from astroML.plotting import setup_text_plots\n",
    "setup_text_plots(fontsize=8, usetex=True)\n",
    "\n",
    "#------------------------------------------------------------\n",
    "# Set up the data and errors\n",
    "np.random.seed(13)\n",
    "a = 1\n",
    "b = 0\n",
    "\n",
    "x = np.array([-1, 0.44, -0.16])\n",
    "y = a * x + b\n",
    "dy = np.array([0.25, 0.22, 0.2])\n",
    "\n",
    "y = np.random.normal(y, dy)\n",
    "\n",
    "# add a fourth point which is a lower bound\n",
    "x4 = 1.0\n",
    "y4 = a * x4 + b + 0.2\n",
    "\n",
    "#------------------------------------------------------------\n",
    "# Compute the likelihoods for each point\n",
    "a_range = np.linspace(0, 2, 80)\n",
    "b_range = np.linspace(-1, 1, 80)\n",
    "logL = -((a_range[:, None, None] * x + b_range[None, :, None] - y) / dy) ** 2\n",
    "sigma = [convert_to_stdev(logL[:, :, i]) for i in range(3)]\n",
    "\n",
    "# compute best-fit from first three points\n",
    "logL_together = logL.sum(-1)\n",
    "i, j = np.where(logL_together == np.max(logL_together))\n",
    "amax = a_range[i[0]]\n",
    "bmax = b_range[j[0]]\n",
    "\n",
    "#------------------------------------------------------------\n",
    "# Plot the first figure: the points and errorbars\n",
    "fig1 = plt.figure(figsize=(5, 3.75))\n",
    "ax1 = fig1.add_subplot(111)\n",
    "\n",
    "# Draw the true and best-fit lines\n",
    "xfit = np.array([-1.5, 1.5])\n",
    "ax1.plot(xfit, a * xfit + b, ':k', label='True fit')\n",
    "ax1.plot(xfit, amax * xfit + bmax, '--k', label='fit to $\\{x_1, x_2, x_3\\}$')\n",
    "\n",
    "ax1.legend(loc=2)\n",
    "\n",
    "ax1.errorbar(x, y, dy, fmt='ok')\n",
    "ax1.errorbar([x4], [y4], [[0.5], [0]], fmt='_k', lolims=True)\n",
    "\n",
    "for i in range(3):\n",
    "    ax1.text(x[i] + 0.05, y[i] - 0.3, \"$x_{%i}$\" % (i + 1))\n",
    "ax1.text(x4 + 0.05, y4 - 0.5, \"$x_4$\")\n",
    "\n",
    "ax1.set_xlabel('$x$')\n",
    "ax1.set_ylabel('$y$')\n",
    "\n",
    "ax1.set_xlim(-1.5, 1.5)\n",
    "ax1.set_ylim(-2, 2)\n",
    "\n",
    "#------------------------------------------------------------\n",
    "# Plot the second figure: likelihoods for each point\n",
    "fig2 = plt.figure(figsize=(5, 5))\n",
    "fig2.subplots_adjust(hspace=0.05, wspace=0.05)\n",
    "\n",
    "# plot likelihood contours\n",
    "for i in range(4):\n",
    "    ax = fig2.add_subplot(221 + i)\n",
    "    for j in range(min(i + 1, 3)):\n",
    "        ax.contourf(a_range, b_range, sigma[j].T,\n",
    "                    levels=(0, 0.683, 0.955, 0.997),\n",
    "                    cmap=plt.cm.binary, alpha=0.5)\n",
    "\n",
    "# plot the excluded area from the fourth point\n",
    "axpb = a_range[:, None] * x4 + b_range[None, :]\n",
    "mask = y4 < axpb\n",
    "fig2.axes[3].fill_between(a_range, y4 - x4 * a_range, 2, color='k', alpha=0.5)\n",
    "\n",
    "# plot ellipses\n",
    "for i in range(1, 4):\n",
    "    ax = fig2.axes[i]\n",
    "    logL_together = logL[:, :, :i + 1].sum(-1)\n",
    "    if i == 3:\n",
    "        logL_together[mask] = -np.inf\n",
    "\n",
    "    sigma_together = convert_to_stdev(logL_together)\n",
    "\n",
    "    ax.contour(a_range, b_range, sigma_together.T,\n",
    "               levels=(0.683, 0.955, 0.997),\n",
    "               colors='k')\n",
    "\n",
    "# Label and adjust axes\n",
    "for i in range(4):\n",
    "    ax = fig2.axes[i]\n",
    "\n",
    "    ax.text(1.98, -0.98, \"$x_{%i}$\" % (i + 1), ha='right', va='bottom')\n",
    "\n",
    "    ax.plot([0, 2], [0, 0], ':k', lw=1)\n",
    "    ax.plot([1, 1], [-1, 1], ':k', lw=1)\n",
    "\n",
    "    ax.set_xlim(0.001, 2)\n",
    "    ax.set_ylim(-0.999, 1)\n",
    "\n",
    "    if i in (1, 3):\n",
    "        ax.yaxis.set_major_formatter(plt.NullFormatter())\n",
    "    if i in (0, 1):\n",
    "        ax.xaxis.set_major_formatter(plt.NullFormatter())\n",
    "    if i in (0, 2):\n",
    "        ax.set_ylabel(r'$\\theta_0$')\n",
    "    if i in (2, 3):\n",
    "        ax.set_xlabel(r'$\\theta_1$')\n",
    "\n",
    "\n",
    "plt.show()"
   ]
  },
  {
   "cell_type": "code",
   "execution_count": null,
   "metadata": {
    "collapsed": true
   },
   "outputs": [],
   "source": []
  },
  {
   "cell_type": "markdown",
   "metadata": {},
   "source": [
    "# Perform Outlier Rejection with MCMC"
   ]
  },
  {
   "cell_type": "code",
   "execution_count": null,
   "metadata": {
    "ExecuteTime": {
     "end_time": "2020-11-03T20:24:11.843919Z",
     "start_time": "2020-11-03T12:14:17.062Z"
    },
    "collapsed": true
   },
   "outputs": [],
   "source": [
    "import numpy as np\n",
    "\n",
    "import pymc3 as pm\n",
    "\n",
    "from matplotlib import pyplot as plt\n",
    "from theano import shared as tshared\n",
    "import theano.tensor as tt\n",
    "\n",
    "from astroML.datasets import fetch_hogg2010test\n",
    "from astroML.plotting.mcmc import convert_to_stdev\n",
    "\n",
    "\n",
    "# ----------------------------------------------------------------------\n",
    "# This function adjusts matplotlib settings for a uniform feel in the textbook.\n",
    "# Note that with usetex=True, fonts are rendered with LaTeX.  This may\n",
    "# result in an error if LaTeX is not installed on your system.  In that case,\n",
    "# you can set usetex to False.\n",
    "if \"setup_text_plots\" not in globals():\n",
    "    from astroML.plotting import setup_text_plots\n",
    "setup_text_plots(fontsize=8, usetex=True)\n",
    "\n",
    "np.random.seed(0)\n",
    "\n",
    "# ------------------------------------------------------------\n",
    "# Get data: this includes outliers. We need to convert them to Theano variables\n",
    "data = fetch_hogg2010test()\n",
    "xi = tshared(data['x'])\n",
    "yi = tshared(data['y'])\n",
    "dyi = tshared(data['sigma_y'])\n",
    "size = len(data)\n",
    "\n",
    "\n",
    "# ----------------------------------------------------------------------\n",
    "# Define basic linear model\n",
    "\n",
    "def model(xi, theta, intercept):\n",
    "    slope = np.tan(theta)\n",
    "    return slope * xi + intercept\n",
    "\n",
    "\n",
    "# ----------------------------------------------------------------------\n",
    "# First model: no outlier correction\n",
    "with pm.Model():\n",
    "    # set priors on model gradient and y-intercept\n",
    "    inter = pm.Uniform('inter', -1000, 1000)\n",
    "    theta = pm.Uniform('theta', -np.pi / 2, np.pi / 2)\n",
    "\n",
    "    y = pm.Normal('y', mu=model(xi, theta, inter), sd=dyi, observed=yi)\n",
    "\n",
    "    trace0 = pm.sample(draws=5000, tune=1000)\n",
    "\n",
    "\n",
    "# ----------------------------------------------------------------------\n",
    "# Second model: nuisance variables correcting for outliers\n",
    "# This is the mixture model given in equation 17 in Hogg et al\n",
    "def mixture_likelihood(yi, xi):\n",
    "    \"\"\"Equation 17 of Hogg 2010\"\"\"\n",
    "\n",
    "    sigmab = tt.exp(log_sigmab)\n",
    "    mu = model(xi, theta, inter)\n",
    "\n",
    "    Vi = dyi ** 2\n",
    "    Vb = sigmab ** 2\n",
    "\n",
    "    root2pi = np.sqrt(2 * np.pi)\n",
    "\n",
    "    L_in = (1. / root2pi / dyi * np.exp(-0.5 * (yi - mu) ** 2 / Vi))\n",
    "\n",
    "    L_out = (1. / root2pi / np.sqrt(Vi + Vb)\n",
    "             * np.exp(-0.5 * (yi - Yb) ** 2 / (Vi + Vb)))\n",
    "\n",
    "    return tt.sum(tt.log((1 - Pb) * L_in + Pb * L_out))\n",
    "\n",
    "\n",
    "with pm.Model():\n",
    "    # uniform prior on Pb, the fraction of bad points\n",
    "    Pb = pm.Uniform('Pb', 0, 1.0, testval=0.1)\n",
    "\n",
    "    # uniform prior on Yb, the centroid of the outlier distribution\n",
    "    Yb = pm.Uniform('Yb', -10000, 10000, testval=0)\n",
    "\n",
    "    # uniform prior on log(sigmab), the spread of the outlier distribution\n",
    "    log_sigmab = pm.Uniform('log_sigmab', -10, 10, testval=5)\n",
    "\n",
    "    inter = pm.Uniform('inter', -200, 400)\n",
    "    theta = pm.Uniform('theta', -np.pi / 2, np.pi / 2, testval=np.pi / 4)\n",
    "\n",
    "    y_mixture = pm.DensityDist('mixturenormal', logp=mixture_likelihood,\n",
    "                               observed={'yi': yi, 'xi': xi})\n",
    "\n",
    "    trace1 = pm.sample(draws=5000, tune=1000)\n",
    "\n",
    "\n",
    "# ----------------------------------------------------------------------\n",
    "# Third model: marginalizes over the probability that each point is an outlier.\n",
    "# define priors on beta = (slope, intercept)\n",
    "\n",
    "def outlier_likelihood(yi, xi):\n",
    "    \"\"\"likelihood for full outlier posterior\"\"\"\n",
    "\n",
    "    sigmab = tt.exp(log_sigmab)\n",
    "    mu = model(xi, theta, inter)\n",
    "\n",
    "    Vi = dyi ** 2\n",
    "    Vb = sigmab ** 2\n",
    "\n",
    "    logL_in = -0.5 * tt.sum(qi * (np.log(2 * np.pi * Vi)\n",
    "                                  + (yi - mu) ** 2 / Vi))\n",
    "\n",
    "    logL_out = -0.5 * tt.sum((1 - qi) * (np.log(2 * np.pi * (Vi + Vb))\n",
    "                                         + (yi - Yb) ** 2 / (Vi + Vb)))\n",
    "\n",
    "    return logL_out + logL_in\n",
    "\n",
    "\n",
    "with pm.Model():\n",
    "    # uniform prior on Pb, the fraction of bad points\n",
    "    Pb = pm.Uniform('Pb', 0, 1.0, testval=0.1)\n",
    "\n",
    "    # uniform prior on Yb, the centroid of the outlier distribution\n",
    "    Yb = pm.Uniform('Yb', -10000, 10000, testval=0)\n",
    "\n",
    "    # uniform prior on log(sigmab), the spread of the outlier distribution\n",
    "    log_sigmab = pm.Uniform('log_sigmab', -10, 10, testval=5)\n",
    "\n",
    "    inter = pm.Uniform('inter', -1000, 1000)\n",
    "    theta = pm.Uniform('theta', -np.pi / 2, np.pi / 2)\n",
    "\n",
    "    # qi is bernoulli distributed\n",
    "    qi = pm.Bernoulli('qi', p=1 - Pb, shape=size)\n",
    "\n",
    "    y_outlier = pm.DensityDist('outliernormal', logp=outlier_likelihood,\n",
    "                               observed={'yi': yi, 'xi': xi})\n",
    "\n",
    "    trace2 = pm.sample(draws=5000, tune=1000)\n",
    "\n",
    "\n",
    "# ------------------------------------------------------------\n",
    "# plot the data\n",
    "fig = plt.figure(figsize=(5, 5))\n",
    "fig.subplots_adjust(left=0.1, right=0.95, wspace=0.25,\n",
    "                    bottom=0.1, top=0.95, hspace=0.2)\n",
    "\n",
    "# first axes: plot the data\n",
    "ax1 = fig.add_subplot(221)\n",
    "ax1.errorbar(data['x'], data['y'], data['sigma_y'], fmt='.k', ecolor='gray', lw=1)\n",
    "ax1.set_xlabel('$x$')\n",
    "ax1.set_ylabel('$y$')\n",
    "\n",
    "#------------------------------------------------------------\n",
    "# Go through models; compute and plot likelihoods\n",
    "linestyles = [':', '--', '-']\n",
    "labels = ['no outlier correction\\n(dotted fit)',\n",
    "          'mixture model\\n(dashed fit)',\n",
    "          'outlier rejection\\n(solid fit)']\n",
    "\n",
    "x = np.linspace(0, 350, 10)\n",
    "\n",
    "bins = [(np.linspace(140, 300, 51), np.linspace(0.6, 1.6, 51)),\n",
    "        (np.linspace(-40, 120, 51), np.linspace(1.8, 2.8, 51)),\n",
    "        (np.linspace(-40, 120, 51), np.linspace(1.8, 2.8, 51))]\n",
    "\n",
    "for i, trace in enumerate([trace0, trace1, trace2]):\n",
    "    H2D, bins1, bins2 = np.histogram2d(np.tan(trace['theta']),\n",
    "                                       trace['inter'], bins=50)\n",
    "    w = np.where(H2D == H2D.max())\n",
    "\n",
    "    # choose the maximum posterior slope and intercept\n",
    "    slope_best = bins1[w[0][0]]\n",
    "    intercept_best = bins2[w[1][0]]\n",
    "\n",
    "    # plot the best-fit line\n",
    "    ax1.plot(x, intercept_best + slope_best * x, linestyles[i], c='k')\n",
    "\n",
    "    # For the model which identifies bad points,\n",
    "    # plot circles around points identified as outliers.\n",
    "    if i == 2:\n",
    "        Pi = trace['qi'].mean(0)\n",
    "        outlier_x = data['x'][Pi < 0.32]\n",
    "        outlier_y = data['y'][Pi < 0.32]\n",
    "        ax1.scatter(outlier_x, outlier_y, lw=1, s=400, alpha=0.5,\n",
    "                    facecolors='none', edgecolors='red')\n",
    "\n",
    "    # plot the likelihood contours\n",
    "    ax = plt.subplot(222 + i)\n",
    "\n",
    "    H, xbins, ybins = np.histogram2d(trace['inter'],\n",
    "                                     np.tan(trace['theta']), bins=bins[i])\n",
    "    H[H == 0] = 1E-16\n",
    "    Nsigma = convert_to_stdev(np.log(H))\n",
    "\n",
    "    ax.contour(0.5 * (xbins[1:] + xbins[:-1]),\n",
    "               0.5 * (ybins[1:] + ybins[:-1]),\n",
    "               Nsigma.T, levels=[0.683, 0.955], colors='black')\n",
    "\n",
    "    ax.set_xlabel('intercept')\n",
    "    ax.set_ylabel('slope')\n",
    "    ax.grid(color='gray')\n",
    "    ax.xaxis.set_major_locator(plt.MultipleLocator(40))\n",
    "    ax.yaxis.set_major_locator(plt.MultipleLocator(0.2))\n",
    "\n",
    "    ax.text(0.96, 0.96, labels[i], ha='right', va='top',\n",
    "            bbox=dict(fc='w', ec='none', alpha=0.5),\n",
    "            transform=ax.transAxes)\n",
    "    ax.set_xlim(bins[i][0][0], bins[i][0][-1])\n",
    "    ax.set_ylim(bins[i][1][0], bins[i][1][-1])\n",
    "\n",
    "ax1.set_xlim(0, 350)\n",
    "ax1.set_ylim(100, 700)\n",
    "\n",
    "plt.show()"
   ]
  },
  {
   "cell_type": "markdown",
   "metadata": {},
   "source": [
    "# symfit"
   ]
  },
  {
   "cell_type": "code",
   "execution_count": 4,
   "metadata": {
    "ExecuteTime": {
     "end_time": "2020-11-06T09:39:35.900137Z",
     "start_time": "2020-11-06T09:39:35.818698Z"
    },
    "collapsed": false
   },
   "outputs": [
    {
     "ename": "ModuleNotFoundError",
     "evalue": "No module named 'symfit'",
     "output_type": "error",
     "traceback": [
      "\u001b[0;31m---------------------------------------------------------------------------\u001b[0m",
      "\u001b[0;31mModuleNotFoundError\u001b[0m                       Traceback (most recent call last)",
      "\u001b[0;32m<ipython-input-4-6fbcee209a31>\u001b[0m in \u001b[0;36m<module>\u001b[0;34m()\u001b[0m\n\u001b[0;32m----> 1\u001b[0;31m \u001b[0;32mfrom\u001b[0m \u001b[0msymfit\u001b[0m \u001b[0;32mimport\u001b[0m \u001b[0mparameters\u001b[0m\u001b[0;34m,\u001b[0m \u001b[0mvariables\u001b[0m\u001b[0;34m,\u001b[0m \u001b[0mFit\u001b[0m\u001b[0;34m,\u001b[0m \u001b[0mModel\u001b[0m\u001b[0;34m\u001b[0m\u001b[0m\n\u001b[0m\u001b[1;32m      2\u001b[0m \u001b[0;32mimport\u001b[0m \u001b[0mnumpy\u001b[0m \u001b[0;32mas\u001b[0m \u001b[0mnp\u001b[0m\u001b[0;34m\u001b[0m\u001b[0m\n\u001b[1;32m      3\u001b[0m \u001b[0;34m\u001b[0m\u001b[0m\n\u001b[1;32m      4\u001b[0m \u001b[0mxdata\u001b[0m \u001b[0;34m=\u001b[0m \u001b[0mnp\u001b[0m\u001b[0;34m.\u001b[0m\u001b[0marray\u001b[0m\u001b[0;34m(\u001b[0m\u001b[0;34m[\u001b[0m\u001b[0;36m1.0\u001b[0m\u001b[0;34m,\u001b[0m \u001b[0;36m2.0\u001b[0m\u001b[0;34m,\u001b[0m \u001b[0;36m3.0\u001b[0m\u001b[0;34m,\u001b[0m \u001b[0;36m4.0\u001b[0m\u001b[0;34m,\u001b[0m \u001b[0;36m5.0\u001b[0m\u001b[0;34m]\u001b[0m\u001b[0;34m)\u001b[0m\u001b[0;34m\u001b[0m\u001b[0m\n\u001b[1;32m      5\u001b[0m \u001b[0mydata\u001b[0m \u001b[0;34m=\u001b[0m \u001b[0mnp\u001b[0m\u001b[0;34m.\u001b[0m\u001b[0marray\u001b[0m\u001b[0;34m(\u001b[0m\u001b[0;34m[\u001b[0m\u001b[0;36m2.3\u001b[0m\u001b[0;34m,\u001b[0m \u001b[0;36m3.3\u001b[0m\u001b[0;34m,\u001b[0m \u001b[0;36m4.1\u001b[0m\u001b[0;34m,\u001b[0m \u001b[0;36m5.5\u001b[0m\u001b[0;34m,\u001b[0m \u001b[0;36m6.7\u001b[0m\u001b[0;34m]\u001b[0m\u001b[0;34m)\u001b[0m\u001b[0;34m\u001b[0m\u001b[0m\n",
      "\u001b[0;31mModuleNotFoundError\u001b[0m: No module named 'symfit'"
     ]
    }
   ],
   "source": [
    "from symfit import parameters, variables, Fit, Model\n",
    "import numpy as np\n",
    "\n",
    "xdata = np.array([1.0, 2.0, 3.0, 4.0, 5.0])\n",
    "ydata = np.array([2.3, 3.3, 4.1, 5.5, 6.7])\n",
    "yerr = np.array([0.1, 0.1, 0.1, 0.1, 0.1])\n",
    "\n",
    "a, b = parameters('a, b')\n",
    "x, y = variables('x, y')\n",
    "model = Model({y: a * x + b})\n",
    "\n",
    "fit = Fit(model, x=xdata, y=ydata, sigma_y=yerr)\n",
    "fit_result = fit.execute()"
   ]
  },
  {
   "cell_type": "code",
   "execution_count": null,
   "metadata": {
    "collapsed": true
   },
   "outputs": [],
   "source": [
    "from symfit import parameters, variables, Fit\n",
    "import numpy as np\n",
    "\n",
    "# Define a model to fit to.\n",
    "a, b = parameters('a, b')\n",
    "x = variables('x')\n",
    "model = a * x + b\n",
    "\n",
    "# Generate some data\n",
    "xdata = np.linspace(0, 100, 100)  # From 0 to 100 in 100 steps\n",
    "a_vec = np.random.normal(15.0, scale=2.0, size=(100,))\n",
    "b_vec = np.random.normal(100.0, scale=2.0, size=(100,))\n",
    "# Point scattered around the line 5 * x + 105\n",
    "ydata = a_vec * xdata + b_vec\n",
    "\n",
    "fit = Fit(model, xdata, ydata)\n",
    "fit_result = fit.execute()"
   ]
  }
 ],
 "metadata": {
  "kernelspec": {
   "display_name": "Python 3",
   "language": "python",
   "name": "python3"
  },
  "latex_envs": {
   "LaTeX_envs_menu_present": true,
   "autocomplete": true,
   "bibliofile": "biblio.bib",
   "cite_by": "apalike",
   "current_citInitial": 1,
   "eqLabelWithNumbers": true,
   "eqNumInitial": 1,
   "hotkeys": {
    "equation": "Ctrl-E",
    "itemize": "Ctrl-I"
   },
   "labels_anchors": false,
   "latex_user_defs": false,
   "report_style_numbering": false,
   "user_envs_cfg": false
  },
  "toc": {
   "nav_menu": {},
   "number_sections": true,
   "sideBar": true,
   "skip_h1_title": false,
   "toc_cell": false,
   "toc_position": {},
   "toc_section_display": "block",
   "toc_window_display": true
  }
 },
 "nbformat": 4,
 "nbformat_minor": 2
}
