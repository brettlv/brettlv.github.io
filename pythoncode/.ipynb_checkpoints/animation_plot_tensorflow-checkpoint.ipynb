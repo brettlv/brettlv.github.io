{
 "cells": [
  {
   "cell_type": "code",
   "execution_count": null,
   "metadata": {
    "collapsed": true
   },
   "outputs": [],
   "source": [
    "'''--------------------- \n",
    "作者：zbrwhut \n",
    "来源：CSDN \n",
    "原文：https://blog.csdn.net/zbrwhut/article/details/80625702 \n",
    "版权声明：本文为博主原创文章，转载请附上博文链接！'''"
   ]
  },
  {
   "cell_type": "code",
   "execution_count": 1,
   "metadata": {
    "ExecuteTime": {
     "end_time": "2019-03-22T18:53:11.092151Z",
     "start_time": "2019-03-22T18:53:10.730222Z"
    },
    "collapsed": true
   },
   "outputs": [],
   "source": [
    "#%matplotlib inline\n",
    "\n",
    "#matplotlib.use('TkAgg')\n",
    "#matplotlib.use('GTKAgg')\n",
    "#matplotlib.use('WX')\n",
    "import matplotlib\n",
    "matplotlib.use('MacOSX')"
   ]
  },
  {
   "cell_type": "code",
   "execution_count": 3,
   "metadata": {
    "ExecuteTime": {
     "end_time": "2019-03-22T18:54:21.862989Z",
     "start_time": "2019-03-22T18:53:36.130533Z"
    },
    "collapsed": false
   },
   "outputs": [
    {
     "name": "stdout",
     "output_type": "stream",
     "text": [
      "WARNING:tensorflow:From <ipython-input-3-7a39bc8b92e2>:32: initialize_all_variables (from tensorflow.python.ops.variables) is deprecated and will be removed after 2017-03-02.\n",
      "Instructions for updating:\n",
      "Use `tf.global_variables_initializer` instead.\n",
      "2.41346\n",
      "0.00284806\n",
      "0.00276776\n",
      "0.00271958\n",
      "0.00268108\n",
      "0.00265153\n",
      "0.00262048\n",
      "0.00260221\n",
      "0.002587\n",
      "0.00257793\n",
      "0.00256997\n",
      "0.00256449\n",
      "0.00256033\n",
      "0.00255734\n",
      "0.00255316\n",
      "0.00254926\n",
      "0.00254625\n",
      "0.00254189\n",
      "0.0025379\n",
      "0.00253236\n"
     ]
    }
   ],
   "source": [
    "import tensorflow as tf\n",
    "import numpy as np\n",
    "import matplotlib.pyplot as plt\n",
    " \n",
    "def add_layer(inputs,in_size,out_size,activation_funiction=None):\n",
    " \n",
    "    Weights = tf.Variable(tf.random_normal([in_size,out_size]))\n",
    "    biases = tf.Variable(tf.zeros([1,out_size]) +0.1)\n",
    "    Wx_plus_b = tf.matmul(inputs,Weights)+biases\n",
    "    if activation_funiction is None:\n",
    "        outputs = Wx_plus_b\n",
    "    else:\n",
    "        outputs = activation_funiction(Wx_plus_b)\n",
    "    return outputs\n",
    " \n",
    "x_data = np.linspace(-1,1,300)[:,np.newaxis]\n",
    "noise = np.random.normal(0,0.05,x_data.shape)\n",
    "y_data = np.square(x_data)-0.5 +noise\n",
    " \n",
    "xs = tf.placeholder(tf.float32,[None,1])   \n",
    "ys = tf.placeholder(tf.float32,[None,1])\n",
    " \n",
    "#add hidden layer\n",
    "l1 = add_layer(xs,1,10,activation_funiction=tf.nn.relu)\n",
    "#add output layer\n",
    "prediction = add_layer(l1,10,1,activation_funiction=None)\n",
    " \n",
    "#the error between prediction and real data\n",
    "loss = tf.reduce_mean(tf.reduce_sum(tf.square(ys - prediction),reduction_indices=[1]))\n",
    "train_step = tf.train.GradientDescentOptimizer(0.1).minimize(loss)\n",
    " \n",
    "init =tf.initialize_all_variables()\n",
    " \n",
    "with tf.Session() as sess:\n",
    "    sess.run(init)\n",
    " \n",
    "    fig = plt.figure()\n",
    "    ax = fig.add_subplot(1,1,1)\n",
    "    ax.scatter(x_data,y_data)\n",
    "    plt.ion()   #将画图模式改为交互模式\n",
    " \n",
    "    for i in range(1000):\n",
    "        sess.run(train_step,feed_dict={xs:x_data,ys:y_data})\n",
    "        if i%50 ==0:\n",
    "            plt.pause(0.5)\n",
    "            try:\n",
    "                ax.lines.remove(lines[0])\n",
    "            except Exception:\n",
    "                pass\n",
    "            prediction_value = sess.run(prediction,feed_dict={xs:x_data})\n",
    "            lines = ax.plot(x_data,prediction_value,'r-',lw=5)\n",
    " \n",
    " \n",
    "            print(sess.run(loss,feed_dict={xs:x_data,ys:y_data}))\n",
    " \n",
    "    plt.ioff()\n",
    "    plt.show()"
   ]
  },
  {
   "cell_type": "code",
   "execution_count": null,
   "metadata": {
    "collapsed": true
   },
   "outputs": [],
   "source": []
  }
 ],
 "metadata": {
  "kernelspec": {
   "display_name": "Python 3",
   "language": "python",
   "name": "python3"
  },
  "language_info": {
   "codemirror_mode": {
    "name": "ipython",
    "version": 3
   },
   "file_extension": ".py",
   "mimetype": "text/x-python",
   "name": "python",
   "nbconvert_exporter": "python",
   "pygments_lexer": "ipython3",
   "version": "3.6.0"
  },
  "latex_envs": {
   "LaTeX_envs_menu_present": true,
   "autocomplete": true,
   "bibliofile": "biblio.bib",
   "cite_by": "apalike",
   "current_citInitial": 1,
   "eqLabelWithNumbers": true,
   "eqNumInitial": 1,
   "hotkeys": {
    "equation": "Ctrl-E",
    "itemize": "Ctrl-I"
   },
   "labels_anchors": false,
   "latex_user_defs": false,
   "report_style_numbering": false,
   "user_envs_cfg": false
  },
  "toc": {
   "nav_menu": {},
   "number_sections": true,
   "sideBar": true,
   "skip_h1_title": false,
   "toc_cell": false,
   "toc_position": {},
   "toc_section_display": "block",
   "toc_window_display": false
  }
 },
 "nbformat": 4,
 "nbformat_minor": 2
}
