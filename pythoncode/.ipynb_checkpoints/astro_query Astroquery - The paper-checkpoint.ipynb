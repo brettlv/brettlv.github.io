{
 "cells": [
  {
   "cell_type": "markdown",
   "metadata": {},
   "source": [
    "# [nrao](https://astroquery.readthedocs.io/en/latest/nrao/nrao.html)"
   ]
  },
  {
   "cell_type": "code",
   "execution_count": 1,
   "metadata": {
    "ExecuteTime": {
     "end_time": "2019-04-04T10:16:30.820629Z",
     "start_time": "2019-04-04T10:16:28.417959Z"
    },
    "collapsed": true
   },
   "outputs": [],
   "source": [
    "from astroquery.nrao import Nrao\n",
    "import astropy.units as u\n",
    "import astropy.coordinates as coord"
   ]
  },
  {
   "cell_type": "markdown",
   "metadata": {},
   "source": [
    "result_table = Nrao.query_region(coord.SkyCoord(68.29625,\n",
    "5.35431,  unit=(u.deg, u.deg), frame='icrs'), radius=2*u.arcmin,\n",
    "telescope='historical_vla', start_date='1985-06-30 18:16:49',\n",
    "end_date='1985-06-30 18:20:19', freq_low=1600*u.MHz, freq_up=1700*u.MHz,\n",
    "telescope_config='all', sub_array=1)"
   ]
  },
  {
   "cell_type": "code",
   "execution_count": 2,
   "metadata": {
    "ExecuteTime": {
     "end_time": "2019-04-04T10:16:49.988084Z",
     "start_time": "2019-04-04T10:16:35.041890Z"
    },
    "collapsed": false
   },
   "outputs": [
    {
     "name": "stderr",
     "output_type": "stream",
     "text": [
      "/Users/brettlv/anaconda3/lib/python3.6/site-packages/astroquery/utils/commons.py:159: UserWarning: Coordinate string is being interpreted as an ICRS coordinate.\n",
      "  warnings.warn(\"Coordinate string is being interpreted as an \"\n"
     ]
    }
   ],
   "source": [
    "result_table = Nrao.query_region(\"02h06m16.0s -00d17m29s\")"
   ]
  },
  {
   "cell_type": "code",
   "execution_count": 3,
   "metadata": {
    "ExecuteTime": {
     "end_time": "2019-04-04T10:16:50.023194Z",
     "start_time": "2019-04-04T10:16:49.989588Z"
    },
    "collapsed": false
   },
   "outputs": [
    {
     "name": "stdout",
     "output_type": "stream",
     "text": [
      "   Source      Project        Start Time     ...      DEC      ARCH_FILE_ID\n",
      "                                 days        ...    degrees                \n",
      "----------- ------------- ------------------ ... ------------- ------------\n",
      "    MKN1018 AU0020-public 84-Nov-28 05:15:29 ... -00d17'32.28\"    181894544\n",
      "    MKN1018 AU0020-public 84-Nov-28 05:15:29 ... -00d17'32.28\"    181894544\n",
      "    MKN1018 AU0020-public 84-Nov-28 05:28:49 ... -00d17'32.28\"    181894544\n",
      "    MKN1018 AU0020-public 84-Nov-28 05:28:49 ... -00d17'32.28\"    181894544\n",
      "   0203-006 AB0476-public 88-Apr-10 17:25:20 ... -00d17'43.26\"    181862537\n",
      "   0203-006 AB0476-public 88-Apr-10 17:25:20 ... -00d17'43.26\"    181862537\n",
      "   0203-006 AB0540-public 89-Jun-15 13:17:29 ... -00d17'43.26\"    181851122\n",
      "   0203-006 AB0540-public 89-Jun-15 13:17:29 ... -00d17'43.26\"    181851122\n",
      "   0203-006 AB0540-public 89-Jul-25 15:45:29 ... -00d17'43.26\"    181849923\n",
      "   0203-006 AB0540-public 89-Jul-25 15:45:29 ... -00d17'43.26\"    181849923\n",
      "        ...           ...                ... ...           ...          ...\n",
      "HE0203-0031  16B-084-lock 17-Jan-15 00:39:26 ... -00d17'29.10\"    537760068\n",
      "HE0203-0031  16B-084-lock 17-Jan-15 00:39:26 ... -00d17'29.10\"    537760068\n",
      "HE0203-0031  16B-084-lock 17-Jan-15 00:39:26 ... -00d17'29.10\"    537760068\n",
      "HE0203-0031  16B-084-lock 17-Jan-15 00:39:26 ... -00d17'29.10\"    537760068\n",
      "HE0203-0031  16B-084-lock 17-Jan-15 00:39:26 ... -00d17'29.10\"    537760068\n",
      "HE0203-0031  16B-084-lock 17-Jan-15 00:39:26 ... -00d17'29.10\"    537760068\n",
      "HE0203-0031  16B-084-lock 17-Jan-15 00:39:26 ... -00d17'29.10\"    537760068\n",
      "HE0203-0031  16B-084-lock 17-Jan-15 00:39:26 ... -00d17'29.10\"    537760068\n",
      "HE0203-0031  16B-084-lock 17-Jan-15 00:39:26 ... -00d17'29.10\"    537760068\n",
      "HE0203-0031  16B-084-lock 17-Jan-15 00:39:26 ... -00d17'29.10\"    537760068\n",
      "Length = 108 rows\n"
     ]
    }
   ],
   "source": [
    "print(result_table)"
   ]
  },
  {
   "cell_type": "code",
   "execution_count": 9,
   "metadata": {
    "ExecuteTime": {
     "end_time": "2019-04-04T22:34:09.713144Z",
     "start_time": "2019-04-04T22:33:55.484305Z"
    },
    "collapsed": false
   },
   "outputs": [
    {
     "name": "stdout",
     "output_type": "stream",
     "text": [
      "Source Project Start Time Stop Time ...    RA     DEC   ARCH_FILE_ID\n",
      "                  days       days   ... degrees degrees             \n",
      "------ ------- ---------- --------- ... ------- ------- ------------\n"
     ]
    }
   ],
   "source": [
    "from astroquery.nrao import Nrao\n",
    "import astropy.units as u\n",
    "import astropy.coordinates as coord\n",
    "result_table = Nrao.query_region(coord.SkyCoord(31.5666250,\n",
    "-0.2914444,  unit=(u.deg, u.deg), frame='icrs'), radius=2*u.arcmin,\n",
    "telescope='historical_vla', start_date='2000-01-01 00:00:00',\n",
    "end_date='2019-04-04 00:00:00', freq_low=1.3*u.GHz, freq_up=10*u.GHz,\n",
    "telescope_config='all', sub_array=1)\n",
    "print(result_table)\n",
    "\n"
   ]
  },
  {
   "cell_type": "code",
   "execution_count": null,
   "metadata": {
    "collapsed": true
   },
   "outputs": [],
   "source": []
  },
  {
   "cell_type": "markdown",
   "metadata": {},
   "source": [
    "# [nvas_vla](https://astroquery.readthedocs.io/en/latest/nvas/nvas.html)\n",
    "\n",
    "This module may be used to retrieve the NVAS VLA archive images."
   ]
  },
  {
   "cell_type": "code",
   "execution_count": 10,
   "metadata": {
    "ExecuteTime": {
     "end_time": "2019-04-17T15:08:43.937670Z",
     "start_time": "2019-04-17T15:07:43.040964Z"
    },
    "collapsed": false
   },
   "outputs": [
    {
     "name": "stdout",
     "output_type": "stream",
     "text": [
      "1 images found.\n",
      "Downloading http://www.vla.nrao.edu/astro/archive/pipeline/position/J122906.7+020308/22.4I0.37_TEST_1995NOV15_1_352.U55.6S.imfits [Done]\n"
     ]
    },
    {
     "name": "stderr",
     "output_type": "stream",
     "text": [
      "WARNING: VerifyWarning: Invalid 'BLANK' keyword in header.  The 'BLANK' keyword is only applicable to integer data, and will be ignored in this HDU. [astropy.io.fits.hdu.image]\n"
     ]
    }
   ],
   "source": [
    "from astroquery.nvas import Nvas\n",
    "import astropy.units as u\n",
    "images = Nvas.get_images(\"3c 273\", radius=2*u.arcsec, band=\"K\", max_rms=500)"
   ]
  },
  {
   "cell_type": "code",
   "execution_count": 27,
   "metadata": {
    "ExecuteTime": {
     "end_time": "2019-04-17T15:16:31.184552Z",
     "start_time": "2019-04-17T15:16:31.179304Z"
    },
    "collapsed": false
   },
   "outputs": [
    {
     "name": "stdout",
     "output_type": "stream",
     "text": [
      "Filename: (No file associated with this HDUList)\n",
      "No.    Name      Ver    Type      Cards   Dimensions   Format\n",
      "  0  PRIMARY       1 PrimaryHDU      83   (1637, 1647, 1, 1)   float32   \n"
     ]
    }
   ],
   "source": [
    "images[0].info()"
   ]
  },
  {
   "cell_type": "code",
   "execution_count": 29,
   "metadata": {
    "ExecuteTime": {
     "end_time": "2019-04-17T15:18:45.581084Z",
     "start_time": "2019-04-17T15:18:45.568429Z"
    },
    "collapsed": false
   },
   "outputs": [
    {
     "ename": "AttributeError",
     "evalue": "'list' object has no attribute 'show'",
     "output_type": "error",
     "traceback": [
      "\u001b[0;31m---------------------------------------------------------------------------\u001b[0m",
      "\u001b[0;31mAttributeError\u001b[0m                            Traceback (most recent call last)",
      "\u001b[0;32m<ipython-input-29-b2891d216ed1>\u001b[0m in \u001b[0;36m<module>\u001b[0;34m()\u001b[0m\n\u001b[0;32m----> 1\u001b[0;31m \u001b[0mimages\u001b[0m\u001b[0;34m.\u001b[0m\u001b[0mshow\u001b[0m\u001b[0;34m(\u001b[0m\u001b[0;34m)\u001b[0m\u001b[0;34m\u001b[0m\u001b[0m\n\u001b[0m",
      "\u001b[0;31mAttributeError\u001b[0m: 'list' object has no attribute 'show'"
     ]
    }
   ],
   "source": [
    "images.show()"
   ]
  },
  {
   "cell_type": "code",
   "execution_count": 15,
   "metadata": {
    "ExecuteTime": {
     "end_time": "2019-04-17T15:11:45.285449Z",
     "start_time": "2019-04-17T15:11:45.094249Z"
    },
    "collapsed": false
   },
   "outputs": [
    {
     "name": "stdout",
     "output_type": "stream",
     "text": [
      "ls: 3c*: No such file or directory\r\n"
     ]
    }
   ],
   "source": [
    "ls 3c*"
   ]
  },
  {
   "cell_type": "code",
   "execution_count": null,
   "metadata": {
    "collapsed": true
   },
   "outputs": [],
   "source": []
  },
  {
   "cell_type": "code",
   "execution_count": null,
   "metadata": {
    "collapsed": true
   },
   "outputs": [],
   "source": []
  },
  {
   "cell_type": "code",
   "execution_count": null,
   "metadata": {
    "collapsed": true
   },
   "outputs": [],
   "source": []
  },
  {
   "cell_type": "markdown",
   "metadata": {
    "collapsed": true
   },
   "source": [
    "# [NED](https://astroquery.readthedocs.io/en/latest/ned/ned.html)"
   ]
  },
  {
   "cell_type": "code",
   "execution_count": 4,
   "metadata": {
    "ExecuteTime": {
     "end_time": "2019-04-04T10:18:14.597922Z",
     "start_time": "2019-04-04T10:18:02.816439Z"
    },
    "collapsed": false
   },
   "outputs": [
    {
     "name": "stdout",
     "output_type": "stream",
     "text": [
      "No.        Object Name         ... Diameter Points Associations\n",
      "                               ...                             \n",
      "--- -------------------------- ... --------------- ------------\n",
      "  1 SSTSL2 J122855.02+020308.1 ...               0            0\n",
      "  2 SSTSL2 J122855.02+020313.7 ...               0            0\n",
      "  3 SSTSL2 J122855.23+020341.5 ...               0            0\n",
      "  4 SSTSL2 J122855.36+020346.9 ...               0            0\n",
      "  5 SSTSL2 J122855.64+020239.1 ...               0            0\n",
      "  6 SSTSL2 J122855.66+020407.1 ...               0            0\n",
      "  7 SSTSL2 J122855.73+020232.2 ...               0            0\n",
      "  8 SSTSL2 J122855.75+020245.2 ...               0            0\n",
      "  9 SSTSL2 J122855.86+020333.4 ...               0            0\n",
      " 10 SSTSL2 J122855.84+020350.7 ...               0            0\n",
      "...                        ... ...             ...          ...\n",
      "839 SSTSL2 J122917.56+020216.7 ...               0            0\n",
      "840 SSTSL2 J122917.69+020335.2 ...               0            0\n",
      "841 SSTSL2 J122917.77+020415.1 ...               0            0\n",
      "842   SDSS J122917.72+020356.8 ...               3            0\n",
      "843 SSTSL2 J122917.87+020349.7 ...               0            0\n",
      "844 SSTSL2 J122918.04+020334.2 ...               0            0\n",
      "845 SSTSL2 J122918.24+020330.7 ...               0            0\n",
      "846   SDSS J122918.38+020323.4 ...               4            0\n",
      "847 SSTSL2 J122918.52+020338.9 ...               0            0\n",
      "848 SSTSL2 J122918.64+020326.7 ...               0            0\n",
      "Length = 848 rows\n"
     ]
    }
   ],
   "source": [
    "import numpy as np\n",
    "from astropy.table import Table,Column\n",
    "from astroquery.vizier import Vizier\n",
    "from astroquery.ned import Ned\n",
    "\n",
    "\n",
    "from astroquery.ned import Ned\n",
    "import astropy.units as u\n",
    "result_table = Ned.query_region(\"3c 273\", radius=0.05 * u.deg)\n",
    "print(result_table)"
   ]
  },
  {
   "cell_type": "code",
   "execution_count": null,
   "metadata": {
    "collapsed": true
   },
   "outputs": [],
   "source": []
  },
  {
   "cell_type": "code",
   "execution_count": null,
   "metadata": {
    "collapsed": true
   },
   "outputs": [],
   "source": [
    "spectra = Ned.get_spectra('3c 273')\n",
    "image_list = Ned.get_image_list(\"3c 273\", item='spectra')\n",
    "images = Ned.get_images(\"m1\")\n"
   ]
  },
  {
   "cell_type": "code",
   "execution_count": null,
   "metadata": {
    "collapsed": true
   },
   "outputs": [],
   "source": []
  },
  {
   "cell_type": "code",
   "execution_count": null,
   "metadata": {
    "collapsed": true
   },
   "outputs": [],
   "source": []
  },
  {
   "cell_type": "code",
   "execution_count": null,
   "metadata": {
    "collapsed": true
   },
   "outputs": [],
   "source": []
  },
  {
   "cell_type": "markdown",
   "metadata": {
    "collapsed": true
   },
   "source": [
    "# [vizier](https://astroquery.readthedocs.io/en/latest/vizier/vizier.html)"
   ]
  },
  {
   "cell_type": "code",
   "execution_count": 5,
   "metadata": {
    "ExecuteTime": {
     "end_time": "2019-04-04T10:21:21.070410Z",
     "start_time": "2019-04-04T10:21:15.644764Z"
    },
    "collapsed": false
   },
   "outputs": [
    {
     "name": "stdout",
     "output_type": "stream",
     "text": [
      "{'J/ApJS/119/277': '-3.5<=DE<=8.5, -1.5<RA<13.5 redshift survey (Grogin+, 1998)', 'J/ApJS/213/26': 'Optical light curves of PHL1811 and 3C273 (Fan+, 2014)', 'J/ApJS/229/21': 'VRI monitoring of the QSO 3C 273 in 2005-2016 (Xiong+, 2017)', 'J/A+A/576/A122': '3C 273 high energy spectrum (Esposito+, 2015)', 'J/A+A/601/A35': 'High-fidelity VLA imaging of 3C273 (Perley+, 2017)', 'J/A+A/604/A111': '22GHz image of 3C 273 (Bruni+, 2017)', 'J/MNRAS/392/1181': 'BV(RI)c photometry of 3C 273 (Dai+, 2009)', 'J/MNRAS/459/140': 'M81, LMC and 3C 273/Coma 17-60keV obs. (Mereminskiy+, 2016)'}\n"
     ]
    }
   ],
   "source": [
    "from astroquery.vizier import Vizier\n",
    "catalog_list = Vizier.find_catalogs('3c 273')\n",
    "print({k:v.description for k,v in catalog_list.items()})"
   ]
  },
  {
   "cell_type": "code",
   "execution_count": 6,
   "metadata": {
    "ExecuteTime": {
     "end_time": "2019-04-04T10:21:58.398652Z",
     "start_time": "2019-04-04T10:21:48.700110Z"
    },
    "collapsed": false
   },
   "outputs": [
    {
     "name": "stdout",
     "output_type": "stream",
     "text": [
      "TableList with 15 tables:\n",
      "\t'0:J/ApJS/119/277/table1' with 10 column(s) and 50 row(s) \n",
      "\t'1:J/ApJS/119/277/refs' with 4 column(s) and 50 row(s) \n",
      "\t'2:J/ApJS/119/277/table3' with 9 column(s) and 50 row(s) \n",
      "\t'3:J/ApJS/213/26/table1' with 3 column(s) and 50 row(s) \n",
      "\t'4:J/ApJS/213/26/table3' with 12 column(s) and 50 row(s) \n",
      "\t'5:J/ApJS/229/21/table2' with 4 column(s) and 50 row(s) \n",
      "\t'6:J/ApJS/229/21/table3' with 4 column(s) and 50 row(s) \n",
      "\t'7:J/ApJS/229/21/table4' with 4 column(s) and 50 row(s) \n",
      "\t'8:J/A+A/576/A122/latspect' with 3 column(s) and 47 row(s) \n",
      "\t'9:J/A+A/576/A122/pcaspect' with 3 column(s) and 41 row(s) \n",
      "\t'10:J/A+A/601/A35/table1' with 5 column(s) and 10 row(s) \n",
      "\t'11:J/A+A/601/A35/list' with 9 column(s) and 50 row(s) \n",
      "\t'12:J/A+A/604/A111/list' with 9 column(s) and 1 row(s) \n",
      "\t'13:J/MNRAS/392/1181/table3' with 6 column(s) and 50 row(s) \n",
      "\t'14:J/MNRAS/459/140/table1' with 16 column(s) and 50 row(s) \n"
     ]
    }
   ],
   "source": [
    "catalogs = Vizier.get_catalogs(catalog_list.keys())\n",
    "print(catalogs)"
   ]
  },
  {
   "cell_type": "markdown",
   "metadata": {
    "ExecuteTime": {
     "end_time": "2019-04-04T16:26:24.270439Z",
     "start_time": "2019-04-04T16:26:24.258659Z"
    },
    "collapsed": false
   },
   "source": [
    "# [ADS_NASA](https://astroquery.readthedocs.io/en/latest/nasa_ads/nasa_ads.html)\n"
   ]
  },
  {
   "cell_type": "code",
   "execution_count": 37,
   "metadata": {
    "ExecuteTime": {
     "end_time": "2019-04-19T08:45:19.770710Z",
     "start_time": "2019-04-19T08:45:19.763096Z"
    },
    "collapsed": true
   },
   "outputs": [],
   "source": [
    "from astroquery import nasa_ads as na"
   ]
  },
  {
   "cell_type": "code",
   "execution_count": 44,
   "metadata": {
    "ExecuteTime": {
     "end_time": "2019-04-19T09:44:59.165663Z",
     "start_time": "2019-04-19T09:44:59.147181Z"
    },
    "collapsed": false
   },
   "outputs": [],
   "source": [
    "# if you don't store your token as an environment variable\n",
    "# or in a file, give it here\n",
    "na.ADS.TOKEN = 'bX9G1oehABACYywsa6qKCu9bNb1E9FycyJfqMAou'\n"
   ]
  },
  {
   "cell_type": "code",
   "execution_count": 49,
   "metadata": {
    "ExecuteTime": {
     "end_time": "2019-04-19T09:48:23.113026Z",
     "start_time": "2019-04-19T09:48:22.702110Z"
    },
    "collapsed": false
   },
   "outputs": [
    {
     "ename": "HTTPError",
     "evalue": "400 Client Error: BAD REQUEST for url: https://api.adsabs.harvard.edu/v1/search/query?q=%5EPersson&fl=author,title,abstract,pubdate&sort=bibcode&rows=20&start=0",
     "output_type": "error",
     "traceback": [
      "\u001b[0;31m---------------------------------------------------------------------------\u001b[0m",
      "\u001b[0;31mHTTPError\u001b[0m                                 Traceback (most recent call last)",
      "\u001b[0;32m<ipython-input-49-b3f9538be6eb>\u001b[0m in \u001b[0;36m<module>\u001b[0;34m()\u001b[0m\n\u001b[1;32m     15\u001b[0m \u001b[0;31m# the \"^\" makes ADS to return only papers where Persson\u001b[0m\u001b[0;34m\u001b[0m\u001b[0;34m\u001b[0m\u001b[0m\n\u001b[1;32m     16\u001b[0m \u001b[0;31m# is first author\u001b[0m\u001b[0;34m\u001b[0m\u001b[0;34m\u001b[0m\u001b[0m\n\u001b[0;32m---> 17\u001b[0;31m \u001b[0mresults\u001b[0m \u001b[0;34m=\u001b[0m \u001b[0mna\u001b[0m\u001b[0;34m.\u001b[0m\u001b[0mADS\u001b[0m\u001b[0;34m.\u001b[0m\u001b[0mquery_simple\u001b[0m\u001b[0;34m(\u001b[0m\u001b[0;34m'^Persson'\u001b[0m\u001b[0;34m)\u001b[0m\u001b[0;34m\u001b[0m\u001b[0m\n\u001b[0m",
      "\u001b[0;32m/Users/brettlv/anaconda3/lib/python3.6/site-packages/astroquery/utils/class_or_instance.py\u001b[0m in \u001b[0;36mf\u001b[0;34m(*args, **kwds)\u001b[0m\n\u001b[1;32m     23\u001b[0m         \u001b[0;32mdef\u001b[0m \u001b[0mf\u001b[0m\u001b[0;34m(\u001b[0m\u001b[0;34m*\u001b[0m\u001b[0margs\u001b[0m\u001b[0;34m,\u001b[0m \u001b[0;34m**\u001b[0m\u001b[0mkwds\u001b[0m\u001b[0;34m)\u001b[0m\u001b[0;34m:\u001b[0m\u001b[0;34m\u001b[0m\u001b[0m\n\u001b[1;32m     24\u001b[0m             \u001b[0;32mif\u001b[0m \u001b[0mobj\u001b[0m \u001b[0;32mis\u001b[0m \u001b[0;32mnot\u001b[0m \u001b[0;32mNone\u001b[0m\u001b[0;34m:\u001b[0m\u001b[0;34m\u001b[0m\u001b[0m\n\u001b[0;32m---> 25\u001b[0;31m                 \u001b[0;32mreturn\u001b[0m \u001b[0mself\u001b[0m\u001b[0;34m.\u001b[0m\u001b[0mfn\u001b[0m\u001b[0;34m(\u001b[0m\u001b[0mobj\u001b[0m\u001b[0;34m,\u001b[0m \u001b[0;34m*\u001b[0m\u001b[0margs\u001b[0m\u001b[0;34m,\u001b[0m \u001b[0;34m**\u001b[0m\u001b[0mkwds\u001b[0m\u001b[0;34m)\u001b[0m\u001b[0;34m\u001b[0m\u001b[0m\n\u001b[0m\u001b[1;32m     26\u001b[0m             \u001b[0;32melse\u001b[0m\u001b[0;34m:\u001b[0m\u001b[0;34m\u001b[0m\u001b[0m\n\u001b[1;32m     27\u001b[0m                 \u001b[0;32mreturn\u001b[0m \u001b[0mself\u001b[0m\u001b[0;34m.\u001b[0m\u001b[0mfn\u001b[0m\u001b[0;34m(\u001b[0m\u001b[0mcls\u001b[0m\u001b[0;34m,\u001b[0m \u001b[0;34m*\u001b[0m\u001b[0margs\u001b[0m\u001b[0;34m,\u001b[0m \u001b[0;34m**\u001b[0m\u001b[0mkwds\u001b[0m\u001b[0;34m)\u001b[0m\u001b[0;34m\u001b[0m\u001b[0m\n",
      "\u001b[0;32m/Users/brettlv/anaconda3/lib/python3.6/site-packages/astroquery/nasa_ads/core.py\u001b[0m in \u001b[0;36mquery_simple\u001b[0;34m(self, query_string, get_query_payload, get_raw_response, cache)\u001b[0m\n\u001b[1;32m     63\u001b[0m                                  timeout=self.TIMEOUT, cache=cache)\n\u001b[1;32m     64\u001b[0m \u001b[0;34m\u001b[0m\u001b[0m\n\u001b[0;32m---> 65\u001b[0;31m         \u001b[0mresponse\u001b[0m\u001b[0;34m.\u001b[0m\u001b[0mraise_for_status\u001b[0m\u001b[0;34m(\u001b[0m\u001b[0;34m)\u001b[0m\u001b[0;34m\u001b[0m\u001b[0m\n\u001b[0m\u001b[1;32m     66\u001b[0m \u001b[0;34m\u001b[0m\u001b[0m\n\u001b[1;32m     67\u001b[0m         \u001b[0;32mif\u001b[0m \u001b[0mget_raw_response\u001b[0m\u001b[0;34m:\u001b[0m\u001b[0;34m\u001b[0m\u001b[0m\n",
      "\u001b[0;32m/Users/brettlv/anaconda3/lib/python3.6/site-packages/requests/models.py\u001b[0m in \u001b[0;36mraise_for_status\u001b[0;34m(self)\u001b[0m\n\u001b[1;32m    926\u001b[0m \u001b[0;34m\u001b[0m\u001b[0m\n\u001b[1;32m    927\u001b[0m         \u001b[0;32mif\u001b[0m \u001b[0mhttp_error_msg\u001b[0m\u001b[0;34m:\u001b[0m\u001b[0;34m\u001b[0m\u001b[0m\n\u001b[0;32m--> 928\u001b[0;31m             \u001b[0;32mraise\u001b[0m \u001b[0mHTTPError\u001b[0m\u001b[0;34m(\u001b[0m\u001b[0mhttp_error_msg\u001b[0m\u001b[0;34m,\u001b[0m \u001b[0mresponse\u001b[0m\u001b[0;34m=\u001b[0m\u001b[0mself\u001b[0m\u001b[0;34m)\u001b[0m\u001b[0;34m\u001b[0m\u001b[0m\n\u001b[0m\u001b[1;32m    929\u001b[0m \u001b[0;34m\u001b[0m\u001b[0m\n\u001b[1;32m    930\u001b[0m     \u001b[0;32mdef\u001b[0m \u001b[0mclose\u001b[0m\u001b[0;34m(\u001b[0m\u001b[0mself\u001b[0m\u001b[0;34m)\u001b[0m\u001b[0;34m:\u001b[0m\u001b[0;34m\u001b[0m\u001b[0m\n",
      "\u001b[0;31mHTTPError\u001b[0m: 400 Client Error: BAD REQUEST for url: https://api.adsabs.harvard.edu/v1/search/query?q=%5EPersson&fl=author,title,abstract,pubdate&sort=bibcode&rows=20&start=0"
     ]
    }
   ],
   "source": [
    "# if you don't store your token as an environment variable\n",
    "# or in a file, give it here\n",
    "# na.ADS.TOKEN = 'your-token-goes-here'\n",
    "\n",
    "# by default, the top 10 records are returned, sorted in\n",
    "# reverse chronological order. This can be changed\n",
    "\n",
    "# change the number of rows returned\n",
    "na.ADS.NROWS = 20\n",
    "# change the sort order\n",
    "na.ADS.SORT = 'bibcode'\n",
    "# change the fields that are returned (enter as strings in a list)\n",
    "na.ADS.ADS_FIELDS = ['author','title','abstract','pubdate']\n",
    "\n",
    "# the \"^\" makes ADS to return only papers where Persson\n",
    "# is first author\n",
    "results = na.ADS.query_simple('^Persson') \n"
   ]
  },
  {
   "cell_type": "code",
   "execution_count": null,
   "metadata": {
    "collapsed": true
   },
   "outputs": [],
   "source": [
    "results[0].title\n",
    "\n",
    "# to sort after publication date\n",
    "results.sort(['pubdate'])\n",
    "\n",
    "#  get the title of the last hit\n",
    "title = results[-1]['title'][0]\n",
    "\n",
    "# printout the authors of the last hit\n",
    "print(results[-1]['author'])"
   ]
  },
  {
   "cell_type": "code",
   "execution_count": null,
   "metadata": {
    "collapsed": true
   },
   "outputs": [],
   "source": []
  },
  {
   "cell_type": "code",
   "execution_count": 47,
   "metadata": {
    "ExecuteTime": {
     "end_time": "2019-04-19T09:47:41.585986Z",
     "start_time": "2019-04-19T09:47:38.359049Z"
    },
    "collapsed": false
   },
   "outputs": [
    {
     "name": "stdout",
     "output_type": "stream",
     "text": [
      "{\"responseHeader\":{\"status\":0,\"QTime\":370,\"params\":{\"q\":\"star\",\"x-amzn-trace-id\":\"Root=1-5cb928bd-764996c8ee0741fcdc284ad4\",\"fl\":\"bibcode\",\"start\":\"0\",\"rows\":\"10\",\"wt\":\"json\"}},\"response\":{\"numFound\":451856,\"start\":0,\"docs\":[{\"bibcode\":\"2008PhDT.......169R\"},{\"bibcode\":\"2013arXiv1305.3460H\"},{\"bibcode\":\"1965PhDT.........1B\"},{\"bibcode\":\"1970ast2.conf..103P\"},{\"bibcode\":\"1997IJMPB..11...27B\"},{\"bibcode\":\"2009IAUS..254..233P\"},{\"bibcode\":\"1943ASPL....4..207A\"},{\"bibcode\":\"1932SciAm.147..270R\"},{\"bibcode\":\"1937ASPL....3...54R\"},{\"bibcode\":\"1974ASIC....6..235K\"}]}}\r\n"
     ]
    }
   ],
   "source": [
    "!curl -H 'Authorization: Bearer:bX9G1oehABACYywsa6qKCu9bNb1E9FycyJfqMAou' 'https://api.adsabs.harvard.edu/v1/search/query?q=star&fl=bibcode'"
   ]
  },
  {
   "cell_type": "code",
   "execution_count": 50,
   "metadata": {
    "ExecuteTime": {
     "end_time": "2019-04-19T10:00:19.697928Z",
     "start_time": "2019-04-19T10:00:16.795400Z"
    },
    "collapsed": false
   },
   "outputs": [
    {
     "name": "stdout",
     "output_type": "stream",
     "text": [
      "{\"responseHeader\":{\"status\":0,\"QTime\":107,\"params\":{\"q\":\"star\",\"x-amzn-trace-id\":\"Root=1-5cb92bb3-0148aa5edf1b87f2a307493a\",\"fl\":\"id\",\"start\":\"0\",\"rows\":\"10\",\"wt\":\"json\"}},\"response\":{\"numFound\":451856,\"start\":0,\"docs\":[{\"id\":\"2562931\"},{\"id\":\"61377\"},{\"id\":\"1172688\"},{\"id\":\"1219323\"},{\"id\":\"6254140\"},{\"id\":\"12076572\"},{\"id\":\"1097065\"},{\"id\":\"10522500\"},{\"id\":\"1081672\"},{\"id\":\"1295961\"}]}}\r\n"
     ]
    }
   ],
   "source": [
    "!curl -H 'Authorization: Bearer:bX9G1oehABACYywsa6qKCu9bNb1E9FycyJfqMAou' 'https://api.adsabs.harvard.edu/v1/search/query?q=star'"
   ]
  },
  {
   "cell_type": "code",
   "execution_count": 51,
   "metadata": {
    "ExecuteTime": {
     "end_time": "2019-04-19T10:01:15.444720Z",
     "start_time": "2019-04-19T10:01:15.223360Z"
    },
    "collapsed": true
   },
   "outputs": [],
   "source": [
    "import ads"
   ]
  },
  {
   "cell_type": "code",
   "execution_count": 52,
   "metadata": {
    "ExecuteTime": {
     "end_time": "2019-04-19T10:01:45.766251Z",
     "start_time": "2019-04-19T10:01:45.761014Z"
    },
    "collapsed": true
   },
   "outputs": [],
   "source": [
    "ads.config.token = 'bX9G1oehABACYywsa6qKCu9bNb1E9FycyJfqMAou'"
   ]
  },
  {
   "cell_type": "code",
   "execution_count": 60,
   "metadata": {
    "ExecuteTime": {
     "end_time": "2019-04-19T10:04:36.139256Z",
     "start_time": "2019-04-19T10:04:36.135979Z"
    },
    "collapsed": true
   },
   "outputs": [],
   "source": [
    "papers = ads.SearchQuery(q=\"Changing&&Look\", sort=\"citation_count\")"
   ]
  },
  {
   "cell_type": "code",
   "execution_count": 93,
   "metadata": {
    "ExecuteTime": {
     "end_time": "2019-04-19T10:13:57.623362Z",
     "start_time": "2019-04-19T10:13:57.615528Z"
    },
    "collapsed": true
   },
   "outputs": [],
   "source": [
    "papers = ads.SearchQuery(q=\"Changing Look\", sort=\"year\",rows=10)"
   ]
  },
  {
   "cell_type": "code",
   "execution_count": 84,
   "metadata": {
    "ExecuteTime": {
     "end_time": "2019-04-19T10:12:38.708326Z",
     "start_time": "2019-04-19T10:12:38.702793Z"
    },
    "collapsed": true
   },
   "outputs": [],
   "source": [
    "ads.SearchQuery?"
   ]
  },
  {
   "cell_type": "code",
   "execution_count": 94,
   "metadata": {
    "ExecuteTime": {
     "end_time": "2019-04-19T10:14:07.306830Z",
     "start_time": "2019-04-19T10:14:05.475371Z"
    },
    "collapsed": false
   },
   "outputs": [
    {
     "name": "stdout",
     "output_type": "stream",
     "text": [
      "['Mechanism of the Changing Look phenomenon in Active Galactic Nuclei']\n",
      "['Online Bin Covering with Limited Migration']\n",
      "['Studying the Evolution of Warm Dust Encircling BD +20 307 Using SOFIA']\n",
      "['MUSE observations of a changing-look AGN - I. The reappearance of the broad emission lines']\n",
      "['The effect of assembly bias on redshift-space distortions']\n",
      "['A New Look into Putative Duplicity and Pulsations of the Be Star β CMi']\n",
      "['Is Two Better than One? Effects of Multiple Agents on User Persuasion']\n",
      "['Alternative approach to gravity and MOND']\n",
      "['Polarization of changing-look quasars']\n",
      "['Astrophysical constraints on the proton-to-electron mass ratio with FAST']\n"
     ]
    }
   ],
   "source": [
    "for paper in papers:\n",
    "    print(paper.title)"
   ]
  },
  {
   "cell_type": "code",
   "execution_count": null,
   "metadata": {
    "collapsed": true
   },
   "outputs": [],
   "source": []
  },
  {
   "cell_type": "code",
   "execution_count": 124,
   "metadata": {
    "ExecuteTime": {
     "end_time": "2019-04-19T10:22:09.672989Z",
     "start_time": "2019-04-19T10:22:06.296727Z"
    },
    "collapsed": true
   },
   "outputs": [],
   "source": [
    "people = list(ads.SearchQuery(first_author=\"Wu,Qingwen\"))\n",
    "peoples = list(ads.SearchQuery(author=\"Wu,Qingwen\"))"
   ]
  },
  {
   "cell_type": "code",
   "execution_count": 129,
   "metadata": {
    "ExecuteTime": {
     "end_time": "2019-04-19T10:25:18.531474Z",
     "start_time": "2019-04-19T10:25:17.243334Z"
    },
    "collapsed": false
   },
   "outputs": [
    {
     "name": "stdout",
     "output_type": "stream",
     "text": [
      "<Wu, Qingwen et al. 2000, 2000SPIE.4231..430W>\n",
      "['Structure of a high-precision long-shaped meniscus mirror']\n",
      "['Wu, Qingwen', 'Lu, Zesheng', 'Tao, Jiasheng', 'Xin, Hongwei', 'Gou, Zhijian']\n",
      "The development of a lightweight space optics remote sensor with wide field and high resolution is one of the key projects of the researchers. As the traditional approaches couldn't meet the requirements of the project, some modern strategies and methods should be adopted. A high precision, long shaped meniscus mirror is studied in this paper, and its material selection, shape, lightweight strategies, machining method, multi-point support pattern and structure are described. Fused silica or Zerodur is selected as material of the mirror in connection with specific stiffness, dimension stability, machining and cost. An aspherical long shaped meniscus mirror is designed for the optical system. There are rarities of lightweight patterns, i.e. triangular, rectangular, circular and hexagon, and the open hexagon (honeycomb) lightweight pattern is selected with regard to the mechanical and thermal property of the mirror. The mirror should be supported at the edge. With the computer simulation, 6-point flexural support pattern is employed, and the conflict problem between multi- point constraint and freeing the degrees of freedom (DOF) is solved. While the mirror is under the loads (0 gravity at different directions, temperature level exchanging and specified temperature gradient, etc.), the deformation of its surface profile is also acceptable. Finally, the machining method of the mirror is introduced and the allowable assembly error of the mirror set is presented.\n",
      "<Wu, Qingwen et al. 2013, 2013MNRAS.436.1278W>\n",
      "['Warping of an accretion disc and launching of a jet by a spinning black hole in NGC 4258']\n",
      "['Wu, Qingwen', 'Yan, Hao', 'Yi, Zhu']\n",
      "We fit the most up-to-date broad-band spectral energy distribution from radio to X-rays for NGC 4258 with a coupled accretion-jet model that surrounds a Kerr black hole (BH). Here, both the jet and the warped H<SUB>2</SUB>O maser disc are assumed to be triggered by a spinning BH through the Blandford-Znajek mechanism and the Bardeen-Petterson effect, respectively. The accretion flow consists of an inner radiatively inefficient accretion flow and an outer truncated standard thin disc, where the transition radius R<SUB>tr</SUB> ≃ 3 × 10<SUP>3</SUP>R<SUB>g</SUB> for NGC 4258, based on the width and variability of its narrow Fe Kα line. The hybrid jet formation model, as a variant of the Blandford-Znajek model, is used to model the jet power. Therefore, we can estimate the accretion rate and BH spin through the two observed quantities (i.e. X-ray emission and jet power), where the observed jet power is estimated from the low-frequency radio emission. Using this method, we find that the BH of NGC 4258 should be mildly spinning with dimensionless spin parameter a<SUB>*</SUB> ≃ 0.7 ± 0.2. The outer thin disc mainly radiates at the near-infrared waveband and the jet contributes predominantly at the radio waveband. Using the above-estimated BH spin and the inferred accretion rate at the region of the maser disc based on the physical existence of the H<SUB>2</SUB>O maser, we find that the warp radius is ̃8.6 × 10<SUP>4</SUP>R<SUB>g</SUB> if it is driven by the Bardeen-Petterson effect. This is very consistent with the observational result.\n",
      "<Wu, Qingwen et al. 2018, 2018ApJ...855...46W>\n",
      "['The Possible Submillimeter Bump and Accretion-jet in the Central Supermassive Black Hole of NGC 4993']\n",
      "['Wu, Qingwen', 'Feng, Jianchao', 'Fan, Xuliang']\n",
      "NGC 4993, as a host galaxy of the electromagnetic counterpart of the first gravitational-wave detection of a binary neutron-star merger, was observed by many powerful telescopes from radio to γ-ray wavebands. The weak nuclear activities of NGC 4993 suggest that it is a low-luminosity active galactic nuclei (LLAGNs). We build the multiwaveband spectral energy distributions (SEDs) of NGC 4993 from the literature. We find that the radio spectrum at ̃100-300 GHz is much steeper than that of the low-frequency waveband (e.g., 6-100 GHz), where this break was also found in the supermassive black holes (SMBHs) in our galaxy center (Sgr A*), and in some other nearby AGNs. The radio emission above and below this break may have different physical origins, which provide an opportunity to probe the accretion and jet properties. We model the multiwaveband SEDs of NGC 4993 with an advection-dominated accretion flow (ADAF) jet model. We find that the high-frequency steep radio emission at the millimeter waveband is consistent with the prediction of the ADAF, while the low-frequency flat radio spectrum is better fitted by the jet. Furthermore, the X-ray emission can also be simultaneously explained by the ADAF model. From the model fits, we estimate important parameters of the central engine (e.g., the accretion rate near the horizon of the black hole and the mass-loss rate in the jet) for NGC 4993. This result strengthens the theory that the millimeter, submillimeter, and deep X-ray observations are crucial to understanding the weak or quiescent activities in SMBH systems. Further simultaneous millimeter and X-ray monitoring of this kind of LLAGN will help us to better understand the physical origin of multiwaveband emission.\n",
      "<Wu, Qingwen et al. 2016, 2016MNRAS.455L...1W>\n",
      "['The extension of variability properties in gamma-ray bursts to blazars']\n",
      "['Wu, Qingwen', 'Zhang, Bing', 'Lei, Wei-Hua', 'Zou, Yuan-Chuan', 'Liang, En-Wei', 'Cao, Xinwu']\n",
      "Both gamma-ray bursts (GRBs) and blazars have relativistic jets pointing at a small angle from our line of sight. Several recent studies suggested that these two kinds of sources may share similar jet physics. In this work, we explore the variability properties for GRBs and blazars as a whole. We find that the correlation between minimum variability time-scale (MTS) and Lorentz factor, Γ, as found only in GRBs by Sonbas et al. can be extended to blazars with a joint correlation of MTS∝Γ<SUP>-4.7±0.3</SUP>. The same applies to the MTS∝ L_{γ }^{-1.0± 0.1} correlation as found in GRBs, which can be well extended into blazars as well. These results provide further evidence that the jets in these two kinds of sources are similar despite of the very different mass scale of their central engines. Further investigations of the physical origin of these correlations are needed, which can shed light on the nature of the jet physics.\n",
      "<Wu, Qingwen et al. 2016, 2016ApJ...833...79W>\n",
      "['The Universal “Heartbeat” Oscillations in Black Hole Systems Across the Mass-scale']\n",
      "['Wu, Qingwen', 'Czerny, Bozena', 'Grzedzielski, Mikolaj', 'Janiuk, Agnieszka', 'Gu, Wei-Min', 'Dong, Ai-jun', 'Cao, Xiao-Feng', 'You, Bei', 'Yan, Zhen', 'Sun, Mou-Yuan']\n"
     ]
    },
    {
     "name": "stderr",
     "output_type": "stream",
     "text": [
      "/Users/brettlv/anaconda3/lib/python3.6/site-packages/ads/utils.py:31: UserWarning: You are lazy loading attributes via 'abstract', and so are making multiple calls to the API. This will impact your overall rate limits.\n",
      "  UserWarning,\n"
     ]
    },
    {
     "name": "stdout",
     "output_type": "stream",
     "text": [
      "The hyperluminous X-ray source (HLX-1, peak X-ray luminosity ̃ {10}<SUP>42</SUP> {erg} {{{s}}}<SUP>-1</SUP>) near the spiral galaxy ESO 243-49, which underwent recurrent outbursts within a period of ̃400 days, is possibly the best candidate for an intermediate mass black hole (IMBH). The physical reason for this quasiperiodic variability is still unclear. We explore the possibility of radiation-pressure instability in the accretion disk by modeling the light curve of HLX-1, and find that it can roughly reproduce the duration, period, and amplitude of the recurrent outbursts in HLX-1 with an IMBH of ̃ {10}<SUP>5</SUP> {M}<SUB>☉ </SUB>. Our result provides a possible mechanism to explain the recurrent outbursts in HLX-1. We further find a universal correlation between the outburst duration and the bolometric luminosity for the black hole (BH) sources with a very broad mass range (e.g., X-ray binaries, HLX-1, and active galactic nuclei), which is roughly consistent with the prediction of radiation-pressure instability of the accretion disk. These results imply that “heartbeat” oscillations triggered by radiation-pressure instability may appear in different-scale BH systems.\n"
     ]
    }
   ],
   "source": [
    "for p in people[6:11]:\n",
    "    print(p)\n",
    "    print(p.title)\n",
    "    print(p.author)\n",
    "    print(p.abstract)"
   ]
  },
  {
   "cell_type": "code",
   "execution_count": 125,
   "metadata": {
    "ExecuteTime": {
     "end_time": "2019-04-19T10:22:09.688491Z",
     "start_time": "2019-04-19T10:22:09.674768Z"
    },
    "collapsed": false
   },
   "outputs": [
    {
     "name": "stdout",
     "output_type": "stream",
     "text": [
      "['Wu', 'Jiandong', 'Yin', 'Yi', 'Lan', 'Li', 'Wang', 'Qiaohua', 'Li', 'Xuguang', 'Xiao', 'Dengming']\n",
      "['Wu', 'Yang']\n",
      "['Wu', 'Qiao', 'Qiu', 'Chong', 'Low, Teck-Seng']\n",
      "['Wu', 'Liu, Ye', 'He', 'Goh, Suat Hong']\n",
      "['Wu', 'Liu, Ye', 'Chen, Ling', 'He', 'Chung, Tai Shung', 'Goh, Suat Hong']\n",
      "['Wu', 'Liu, Ye', 'He', 'Chung', 'Goh']\n",
      "['Wu, Qingwen', 'Lu, Zesheng', 'Tao, Jiasheng', 'Xin, Hongwei', 'Gou, Zhijian']\n",
      "['Wu, Qingwen', 'Yan, Hao', 'Yi, Zhu']\n",
      "['Wu, Qingwen', 'Feng, Jianchao', 'Fan, Xuliang']\n",
      "['Wu, Qingwen', 'Zhang, Bing', 'Lei, Wei-Hua', 'Zou, Yuan-Chuan', 'Liang, En-Wei', 'Cao, Xinwu']\n",
      "['Wu, Qingwen', 'Czerny, Bozena', 'Grzedzielski, Mikolaj', 'Janiuk, Agnieszka', 'Gu, Wei-Min', 'Dong, Ai-jun', 'Cao, Xiao-Feng', 'You, Bei', 'Yan, Zhen', 'Sun, Mou-Yuan']\n",
      "['Wu, Qingwen', 'Kim, Jongsoo', 'Ryu, Dongsu']\n",
      "['Wu, Qingwen', 'Xu, Ya-Di', 'Cao, Xinwu']\n",
      "['Wu, Qingwen', 'Zou, Yuan-Chuan', 'Cao, Xinwu', 'Wang, Ding-Xiong', 'Chen, Liang']\n",
      "['Wu, Qingwen', 'Cao, Xinwu', 'Wang, Ding-Xiong']\n",
      "['Wu, Qingwen', 'Gu, Minfeng', 'Humphrey, Andrew']\n",
      "['Wu, Qingwen']\n",
      "['Wu, Qingwen', 'Kim, Jongsoo', 'Ryu, Dongsu', 'Cho, Jungyeon', 'Alexander, Paul']\n",
      "['Wu, Qingwen']\n",
      "['Wu, Qingwen', 'Yuan, Feng', 'Cao, Xinwu']\n",
      "['Wu, Qingwen', 'Gu, Minfeng']\n",
      "['Wu, Qingwen', 'Cao, Xinwu']\n",
      "['Wu, Qingwen', 'Yuan, Feng', 'Cao, Xinwu']\n",
      "['Wu, Qingwen', 'Cao, Xinwu']\n",
      "['Wu, Qingwen', 'Cao, Xinwu']\n",
      "['Wu, Qingwen', 'Cao, Xinwu', 'Ho, Luis C.', 'Wang, Ding-Xiong']\n",
      "['Wu, Q.', 'Xiong, F.', 'Wang, F.', 'Xiong, Y.']\n",
      "['Wu, Q.', 'Wang, G. Y.', 'Huang, B.']\n",
      "['Wu, Q.', 'Liu, Z.', 'Christophe, C.', 'Douville, E.', 'Zhao, Y.', 'Zhang, Y.', 'Li, J.']\n",
      "['Wu, Q.', 'Chapman, M. C.']\n",
      "['Wu, Q.', 'Lane, C.']\n",
      "['Wu, Q.', 'Song, J.', 'Wang, J.', 'Chen, S.', 'Yu, B.', 'Liao, L.']\n",
      "['Wu, Q.']\n",
      "['Wu, Q.', 'Wei, C. F.', 'Cai, Z. X.', 'Ding, L.', 'Law, R.']\n",
      "['Wu, Q.', 'Huang, B.', 'Wang, G. Y.', 'Wang, J. D.']\n",
      "['Wu, Q.', 'Zikry, M. A.']\n",
      "['Wu, Q.', 'Li, Y. H.', 'Gao, N.', 'Yang, F.', 'Chen, Y. Q.', 'Fang, K.', 'Zhang, Y. W.', 'Chen, H.']\n",
      "['Wu, Q.']\n",
      "['Wu, Q.', 'Christophe, C.', 'Liu, Z.', 'Douville, E.', 'Dubois-Dauphin, Q.']\n",
      "['Wu, Q.']\n",
      "['Wu, Q.']\n",
      "['Wu, Q.', 'Guan, J.', 'Gao, M.', 'Munkhuu, U.', 'Demberel, S. G.']\n",
      "['Wu, Q.', 'Zhang, X.', 'Zhang, J.']\n",
      "['Wu, Q.']\n",
      "['Wu, Q.', 'Zhang, T.', 'Liu, Y.']\n",
      "['Wu, Q.', 'Yu, T.', 'Guo, S.', 'Feng, X. C.', 'Pan, M. X.', 'Zhang, P. Y.', 'Han, B. S.', 'Ge, H. L.', 'Yan, A. R.']\n",
      "['Wu, Q.', 'Zhang, X.']\n",
      "['Wu, Q.', 'Zhang, X.']\n",
      "['Wu, Q.', 'Zhang, T.', 'Liu, Y.']\n",
      "['Wu, Q.', 'Yan, A. R.', 'Ge, H. L.', 'Zhang, P. Y.', 'Hu, X. K.', 'Liu, Y. H.']\n"
     ]
    }
   ],
   "source": [
    "for p in people:\n",
    "    print(p.author)"
   ]
  },
  {
   "cell_type": "code",
   "execution_count": 126,
   "metadata": {
    "ExecuteTime": {
     "end_time": "2019-04-19T10:22:22.905764Z",
     "start_time": "2019-04-19T10:22:22.892346Z"
    },
    "collapsed": false
   },
   "outputs": [
    {
     "name": "stdout",
     "output_type": "stream",
     "text": [
      "['Adamczyk, L.', 'Adkins, J. K.', 'Agakishiev, G.', 'Aggarwal, M. M.', 'Ahammed, Z.', 'Alekseev, I.', 'Aparin, A.', 'Arkhipkin, D.', 'Aschenauer, E. C.', 'Averichev, G. S.', 'Bai, X.', 'Bairathi, V.', 'Banerjee, A.', 'Bellwied, R.', 'Bhasin, A.', 'Bhati, A. K.', 'Bhattarai, P.', 'Bielcik, J.', 'Bielcikova, J.', 'Bland, L. C.', 'Bordyuzhin, I. G.', 'Bouchet, J.', 'Brandenburg, D.', 'Brandin, A. V.', 'Bunzarov, I.', 'Butterworth, J.', 'Caines, H.', 'Calderón de la Barca Sánchez, M.', 'Campbell, J. M.', 'Cebra, D.', 'Cervantes, M. C.', 'Chakaberia, I.', 'Chaloupka, P.', 'Chang, Z.', 'Chattopadhyay, S.', 'Chen, X.', 'Chen, J. H.', 'Cheng, J.', 'Cherney, M.', 'Christie, W.', 'Contin, G.', 'Crawford, H. J.', 'Das, S.', 'De Silva, L. C.', 'Debbe, R. R.', 'Dedovich, T. G.', 'Deng, J.', 'Derevschikov, A. A.', 'di Ruzza, B.', 'Didenko, L.', 'Dilks, C.', 'Dong, X.', 'Drachenberg, J. L.', 'Draper, J. E.', 'Du, C. M.', 'Dunkelberger, L. E.', 'Dunlop, J. C.', 'Efimov, L. G.', 'Engelage, J.', 'Eppley, G.', 'Esha, R.', 'Evdokimov, O.', 'Eyser, O.', 'Fatemi, R.', 'Fazio, S.', 'Federic, P.', 'Fedorisin, J.', 'Feng, Z.', 'Filip, P.', 'Fisyak, Y.', 'Flores, C. E.', 'Fulek, L.', 'Gagliardi, C. A.', 'Garand, D.', 'Geurts, F.', 'Gibson, A.', 'Girard, M.', 'Greiner, L.', 'Grosnick, D.', 'Gunarathne, D. S.', 'Guo, Y.', 'Gupta, S.', 'Gupta, A.', 'Guryn, W.', 'Hamad, A.', 'Hamed, A.', 'Haque, R.', 'Harris, J. W.', 'He, L.', 'Heppelmann, S.', 'Heppelmann, S.', 'Hirsch, A.', 'Hoffmann, G. W.', 'Hofman, D. J.', 'Horvat, S.', 'Huang, T.', 'Huang, B.', 'Huang, H. Z.', 'Huang, X.', 'Huck, P.', 'Humanic, T. J.', 'Igo, G.', 'Jacobs, W. W.', 'Jang, H.', 'Jia, J.', 'Jiang, K.', 'Judd, E. G.', 'Kabana, S.', 'Kalinkin, D.', 'Kang, K.', 'Kauder, K.', 'Ke, H. W.', 'Keane, D.', 'Kechechyan, A.', 'Khan, Z. H.', 'Kikoła, D. P.', 'Kisiel, A.', 'Kochenda, L.', 'Koetke, D. D.', 'Kosarzewski, L. K.', 'Kraishan, A. F.', 'Kravtsov, P.', 'Krueger, K.', 'Kumar, L.', 'Lamont, M. A. C.', 'Landgraf, J. M.', 'Landry, K. D.', 'Lauret, J.', 'Lebedev, A.', 'Lednicky, R.', 'Lee, J. H.', 'Li, X.', 'Li, W.', 'Li, Z. M.', 'Li, Y.', 'Li, C.', 'Li, X.', 'Lisa, M. A.', 'Liu, F.', 'Ljubicic, T.', 'Llope, W. J.', 'Lomnitz, M.', 'Longacre, R. S.', 'Luo, X.', 'Ma, G. L.', 'Ma, Y. G.', 'Ma, R.', 'Ma, L.', 'Magdy, N.', 'Majka, R.', 'Manion, A.', 'Margetis, S.', 'Markert, C.', 'Masui, H.', 'Matis, H. S.', 'McDonald, D.', 'Meehan, K.', 'Mei, J. C.', 'Minaev, N. G.', 'Mioduszewski, S.', 'Mishra, D.', 'Mohanty, B.', 'Mondal, M. M.', 'Morozov, D. A.', 'Mustafa, M. K.', 'Nandi, B. K.', 'Nasim, Md.', 'Nayak, T. K.', 'Nigmatkulov, G.', 'Niida, T.', 'Nogach, L. V.', 'Noh, S. Y.', 'Novak, J.', 'Nurushev, S. B.', 'Odyniec, G.', 'Ogawa, A.', 'Oh, K.', 'Okorokov, V.', 'Olvitt, D.', 'Page, B. S.', 'Pak, R.', 'Pan, Y. X.', 'Pandit, Y.', 'Panebratsev, Y.', 'Pawlik, B.', 'Pei, H.', 'Perkins, C.', 'Peterson, A.', 'Pile, P.', 'Pluta, J.', 'Poniatowska, K.', 'Porter, J.', 'Posik, M.', 'Poskanzer, A. M.', 'Pruthi, N. K.', 'Putschke, J.', 'Qiu, H.', 'Quintero, A.', 'Ramachandran, S.', 'Raniwala, R.', 'Raniwala, S.', 'Ray, R. L.', 'Ritter, H. G.', 'Roberts, J. B.', 'Rogachevskiy, O. V.', 'Romero, J. L.', 'Roy, A.', 'Ruan, L.', 'Rusnak, J.', 'Rusnakova, O.', 'Sahoo, N. R.', 'Sahu, P. K.', 'Sakrejda, I.', 'Salur, S.', 'Sandweiss, J.', 'Sarkar, A.', 'Schambach, J.', 'Scharenberg, R. P.', 'Schmah, A. M.', 'Schmidke, W. B.', 'Schmitz, N.', 'Seger, J.', 'Seyboth, P.', 'Shah, N.', 'Shahaliev, E.', 'Shanmuganathan, P. V.', 'Shao, M.', 'Sharma, B.', 'Sharma, M. K.', 'Shen, W. Q.', 'Shi, S. S.', 'Shou, Q. Y.', 'Sichtermann, E. P.', 'Sikora, R.', 'Simko, M.', 'Singha, S.', 'Skoby, M. J.', 'Smirnov, N.', 'Smirnov, D.', 'Song, L.', 'Sorensen, P.', 'Spinka, H. M.', 'Srivastava, B.', 'Stanislaus, T. D. S.', 'Stepanov, M.', 'Strikhanov, M.', 'Stringfellow, B.', 'Sumbera, M.', 'Summa, B.', 'Sun, Y.', 'Sun, Z.', 'Sun, X. M.', 'Sun, X.', 'Surrow, B.', 'Svirida, D. N.', 'Szelezniak, M. A.', 'Tang, A. H.', 'Tang, Z.', 'Tarnowsky, T.', 'Tawfik, A.', 'Thomas, J. H.', 'Timmins, A. R.', 'Tlusty, D.', 'Todoroki, T.', 'Tokarev, M.', 'Trentalange, S.', 'Tribble, R. E.', 'Tribedy, P.', 'Tripathy, S. K.', 'Tsai, O. D.', 'Ullrich, T.', 'Underwood, D. G.', 'Upsal, I.', 'Van Buren, G.', 'van Nieuwenhuizen, G.', 'Vandenbroucke, M.', 'Varma, R.', 'Vasiliev, A. N.', 'Vertesi, R.', 'Videbæk, F.', 'Viyogi, Y. P.', 'Vokal, S.', 'Voloshin, S. A.', 'Vossen, A.', 'Wang, J. S.', 'Wang, F.', 'Wang, H.', 'Wang, G.', 'Wang, Y.', 'Wang, Y.', 'Webb, G.', 'Webb, J. C.', 'Wen, L.', 'Westfall, G. D.', 'Wieman, H.', 'Wissink, S. W.', 'Witt, R.', 'Wu, Y. F.', 'Wu', 'Xiao, Z. G.', 'Xie, W.', 'Xin, K.', 'Xu, H.', 'Xu, Z.', 'Xu, Q. H.', 'Xu, Y. F.', 'Xu, N.', 'Yang, S.', 'Yang, Y.', 'Yang, Q.', 'Yang, Y.', 'Yang, C.', 'Yang, Y.', 'Ye, Z.', 'Ye, Z.', 'Yepes, P.', 'Yi, L.', 'Yip, K.', 'Yoo, I. -K.', 'Yu, N.', 'Zbroszczyk, H.', 'Zha, W.', 'Zhang, Y.', 'Zhang, Z.', 'Zhang, J. B.', 'Zhang, J.', 'Zhang, X. P.', 'Zhang, S.', 'Zhang, J.', 'Zhao, J.', 'Zhong, C.', 'Zhou, L.', 'Zhu, X.', 'Zoulkarneeva, Y.']\n",
      "['Wu', 'Jiandong', 'Yin', 'Yi', 'Lan', 'Li', 'Wang', 'Qiaohua', 'Li', 'Xuguang', 'Xiao', 'Dengming']\n",
      "['Xu, Terry T.', 'Zheng, Jian-Guo', 'Wu', 'Nicholls, Alan W.', 'Roth, John R.', 'Dikin, Dmitriy A.', 'Ruoff, Rodney S.']\n",
      "['Wu', 'Yang']\n",
      "['Wu', 'Qiao', 'Qiu', 'Chong', 'Low, Teck-Seng']\n",
      "['Ray, Amar', 'Yun, Sang-Ho', 'Kang, Byeongwon', 'Shi, Judy Z.', 'Wu']\n",
      "['Finklenburg, S.', 'Su, C. -C.', 'Wu, Y. -H.', '-S, J.', 'Wu', 'Thomas, N.', 'Knollenberg, J.', 'Kührt, E.', 'Keller, H. U.']\n",
      "['Niu, Yong', 'Gao, Chuhan', 'Li, Yong', 'Jin, Depeng', 'Su, Li', 'Dapeng', 'Wu']\n",
      "['Tasharrofi, Shahab', 'Xiongnan', 'Wu', 'Ternovska, Eugenia']\n",
      "['Hongyuan, Jiang', 'Shanshan, Li', 'Yukun, Ren', 'Jie', 'Wu']\n",
      "['Ghamisi, Pedram', 'Cavallaro, Gabriele', 'Dan', 'Wu', 'Atli Benediktsson, Jon', 'Plaza, Antonio']\n",
      "['Wu', 'Liu, Ye', 'He', 'Goh, Suat Hong']\n",
      "['Wu', 'Liu, Ye', 'Chen, Ling', 'He', 'Chung, Tai Shung', 'Goh, Suat Hong']\n",
      "['Wu', 'Liu, Ye', 'He', 'Chung', 'Goh']\n",
      "['Wang, Zheng', 'Yao, Fei', 'Li, Weifeng', 'Wu', 'Jiansheng']\n",
      "['Zhan, Zhengwen', 'Zhang, Xiaoxu', 'Huang, Jiayuan', 'Huang, Ying', 'Huang, Zhengwei', 'Pan, Xin', 'Quan, Guilan', 'Liu, Hu', 'Wang, Lili', 'Wu', 'Chuanbin']\n",
      "['Li, T.', 'Zhang, Y.', 'Wu, Q.', 'Yuan, L.', 'Yin, F.', 'Wu, Q.']\n",
      "['Thongphiew, D.', 'Zhu, X.', 'Wu, Q.', 'Wu, Q.', 'Yin, F.']\n",
      "['Yang, Jianfeng', 'Xu, Zhenbang', 'Wu, Qingwen', 'Wang, Zhongsu', 'Li, Hang', 'He, Shuai']\n",
      "['Shi, Zhenhua', 'Yu, Lei', 'Cao, Diansheng', 'Wu, Qingwen', 'Yu, Xiangyang', 'Lin, Guanyu']\n",
      "['Huang, Chang-Yin', 'Wu, Qingwen', 'Wang, Ding-Xiong']\n",
      "['Wu, Qingwen', 'Lu, Zesheng', 'Tao, Jiasheng', 'Xin, Hongwei', 'Gou, Zhijian']\n",
      "['Kang, Shi-Ju', 'Zheng, Yong-Gang', 'Wu, Qingwen', 'Chen, Liang']\n",
      "['Kang, Shi-Ju', 'Chen, Liang', 'Wu, Qingwen']\n",
      "['Cao, Xiao-Feng', 'Wu, Qingwen', 'Dong, Ai-Jun']\n",
      "['Dong, Ai-Jun', 'Wu, Qingwen', 'Cao, Xiao-Feng']\n",
      "['Dong, Ai-Jun', 'Wu, Qingwen', 'Cao, Xiao-Feng']\n",
      "['Wu, Qingwen', 'Yan, Hao', 'Yi, Zhu']\n",
      "['Event Horizon Telescope Collaboration', 'Akiyama, Kazunori', 'Alberdi, Antxon', 'Alef, Walter', 'Asada, Keiichi', 'Azulay, Rebecca', 'Baczko, Anne-Kathrin', 'Ball, David', 'Baloković, Mislav', 'Barrett, John', 'Bintley, Dan', 'Blackburn, Lindy', 'Boland, Wilfred', 'Bouman, Katherine L.', 'Bower, Geoffrey C.', 'Bremer, Michael', 'Brinkerink, Christiaan D.', 'Brissenden, Roger', 'Britzen, Silke', 'Broderick, Avery E.', 'Broguiere, Dominique', 'Bronzwaer, Thomas', 'Byun, Do-Young', 'Carlstrom, John E.', 'Chael, Andrew', 'Chan, Chi-kwan', 'Chatterjee, Shami', 'Chatterjee, Koushik', 'Chen, Ming-Tang', 'Chen, Yongjun', 'Cho, Ilje', 'Christian, Pierre', 'Conway, John E.', 'Cordes, James M.', 'Crew, Geoffrey B.', 'Cui, Yuzhu', 'Davelaar, Jordy', 'De Laurentis, Mariafelicia', 'Deane, Roger', 'Dempsey, Jessica', 'Desvignes, Gregory', 'Dexter, Jason', 'Doeleman, Sheperd S.', 'Eatough, Ralph P.', 'Falcke, Heino', 'Fish, Vincent L.', 'Fomalont, Ed', 'Fraga-Encinas, Raquel', 'Freeman, William T.', 'Friberg, Per', 'Fromm, Christian M.', 'Gómez, José L.', 'Galison, Peter', 'Gammie, Charles F.', 'García, Roberto', 'Gentaz, Olivier', 'Georgiev, Boris', 'Goddi, Ciriaco', 'Gold, Roman', 'Gu, Minfeng', 'Gurwell, Mark', 'Hada, Kazuhiro', 'Hecht, Michael H.', 'Hesper, Ronald', 'Ho, Luis C.', 'Ho, Paul', 'Honma, Mareki', 'Huang, Chih-Wei L.', 'Huang, Lei', 'Hughes, David H.', 'Ikeda, Shiro', 'Inoue, Makoto', 'Issaoun, Sara', 'James, David J.', 'Jannuzi, Buell T.', 'Janssen, Michael', 'Jeter, Britton', 'Jiang, Wu', 'Johnson, Michael D.', 'Jorstad, Svetlana', 'Jung, Taehyun', 'Karami, Mansour', 'Karuppusamy, Ramesh', 'Kawashima, Tomohisa', 'Keating, Garrett K.', 'Kettenis, Mark', 'Kim, Jae-Young', 'Kim, Junhan', 'Kim, Jongsoo', 'Kino, Motoki', 'Koay, Jun Yi', 'Koch, Patrick M.', 'Koyama, Shoko', 'Kramer, Michael', 'Kramer, Carsten', 'Krichbaum, Thomas P.', 'Kuo, Cheng-Yu', 'Lauer, Tod R.', 'Lee, Sang-Sung', 'Li, Yan-Rong', 'Li, Zhiyuan', 'Lindqvist, Michael', 'Liu, Kuo', 'Liuzzo, Elisabetta', 'Lo, Wen-Ping', 'Lobanov, Andrei P.', 'Loinard, Laurent', 'Lonsdale, Colin', 'Lu, Ru-Sen', 'MacDonald, Nicholas R.', 'Mao, Jirong', 'Markoff, Sera', 'Marrone, Daniel P.', 'Marscher, Alan P.', 'Martí-Vidal, Iván', 'Matsushita, Satoki', 'Matthews, Lynn D.', 'Medeiros, Lia', 'Menten, Karl M.', 'Mizuno, Yosuke', 'Mizuno, Izumi', 'Moran, James M.', 'Moriyama, Kotaro', 'Moscibrodzka, Monika', 'Müller, Cornelia', 'Nagai, Hiroshi', 'Nagar, Neil M.', 'Nakamura, Masanori', 'Narayan, Ramesh', 'Narayanan, Gopal', 'Natarajan, Iniyan', 'Neri, Roberto', 'Ni, Chunchong', 'Noutsos, Aristeidis', 'Okino, Hiroki', 'Olivares, Héctor', 'Ortiz-León, Gisela N.', 'Oyama, Tomoaki', 'Özel, Feryal', 'Palumbo, Daniel C. M.', 'Patel, Nimesh', 'Pen, Ue-Li', 'Pesce, Dominic W.', 'Piétu, Vincent', 'Plambeck, Richard', 'PopStefanija, Aleksandar', 'Porth, Oliver', 'Prather, Ben', 'Preciado-López, Jorge A.', 'Psaltis, Dimitrios', 'Pu, Hung-Yi', 'Ramakrishnan, Venkatessh', 'Rao, Ramprasad', 'Rawlings, Mark G.', 'Raymond, Alexander W.', 'Rezzolla, Luciano', 'Ripperda, Bart', 'Roelofs, Freek', 'Rogers, Alan', 'Ros, Eduardo', 'Rose, Mel', 'Roshanineshat, Arash', 'Rottmann, Helge', 'Roy, Alan L.', 'Ruszczyk, Chet', 'Ryan, Benjamin R.', 'Rygl, Kazi L. J.', 'Sánchez, Salvador', 'Sánchez-Arguelles, David', 'Sasada, Mahito', 'Savolainen, Tuomas', 'Schloerb, F. Peter', 'Schuster, Karl-Friedrich', 'Shao, Lijing', 'Shen, Zhiqiang', 'Small, Des', 'Sohn, Bong Won', 'SooHoo, Jason', 'Tazaki, Fumie', 'Tiede, Paul', 'Tilanus, Remo P. J.', 'Titus, Michael', 'Toma, Kenji', 'Torne, Pablo', 'Trent, Tyler', 'Trippe, Sascha', 'Tsuda, Shuichiro', 'van Bemmel, Ilse', 'van Langevelde, Huib Jan', 'van Rossum, Daniel R.', 'Wagner, Jan', 'Wardle, John', 'Weintroub, Jonathan', 'Wex, Norbert', 'Wharton, Robert', 'Wielgus, Maciek', 'Wong, George N.', 'Wu, Qingwen', 'Young, Ken', 'Young, André', 'Younsi, Ziri', 'Yuan, Feng', 'Yuan, Ye-Fei', 'Zensus, J. Anton', 'Zhao, Guangyao', 'Zhao, Shan-Shan', 'Zhu, Ziyan', 'Algaba, Juan-Carlos', 'Allardi, Alexander', 'Amestica, Rodrigo', 'Anczarski, Jadyn', 'Bach, Uwe', 'Baganoff, Frederick K.', 'Beaudoin, Christopher', 'Benson, Bradford A.', 'Berthold, Ryan', 'Blanchard, Jay M.', 'Blundell, Ray', 'Bustamente, Sandra', 'Cappallo, Roger', 'Castillo-Domínguez, Edgar', 'Chang, Chih-Cheng', 'Chang, Shu-Hao', 'Chang, Song-Chu', 'Chen, Chung-Chen', 'Chilson, Ryan', 'Chuter, Tim C.', 'Córdova Rosado, Rodrigo', 'Coulson, Iain M.', 'Crawford, Thomas M.', 'Crowley, Joseph', 'David, John', 'Derome, Mark', 'Dexter, Matthew', 'Dornbusch, Sven', 'Dudevoir, Kevin A.', 'Dzib, Sergio A.', 'Eckart, Andreas', 'Eckert, Chris', 'Erickson, Neal R.', 'Everett, Wendeline B.', 'Faber, Aaron', 'Farah, Joseph R.', 'Fath, Vernon', 'Folkers, Thomas W.', 'Forbes, David C.', 'Freund, Robert', 'Gómez-Ruiz, Arturo I.', 'Gale, David M.', 'Gao, Feng', 'Geertsema, Gertie', 'Graham, David A.', 'Greer, Christopher H.', 'Grosslein, Ronald', 'Gueth, Frédéric', 'Haggard, Daryl', 'Halverson, Nils W.', 'Han, Chih-Chiang', 'Han, Kuo-Chang', 'Hao, Jinchi', 'Hasegawa, Yutaka', 'Henning, Jason W.', 'Hernández-Gómez, Antonio', 'Herrero-Illana, Rubén', 'Heyminck, Stefan', 'Hirota, Akihiko', 'Hoge, James', 'Huang, Yau-De', 'Impellizzeri, C. M. Violette', 'Jiang, Homin', 'Kamble, Atish', 'Keisler, Ryan', 'Kimura, Kimihiro', 'Kono, Yusuke', 'Kubo, Derek', 'Kuroda, John', 'Lacasse, Richard', 'Laing, Robert A.', 'Leitch, Erik M.', 'Li, Chao-Te', 'Lin, Lupin C. -C.', 'Liu, Ching-Tang', 'Liu, Kuan-Yu', 'Lu, Li-Ming', 'Marson, Ralph G.', 'Martin-Cocher, Pierre L.', 'Massingill, Kyle D.', 'Matulonis, Callie', 'McColl, Martin P.', 'McWhirter, Stephen R.', 'Messias, Hugo', 'Meyer-Zhao, Zheng', 'Michalik, Daniel', 'Montaña, Alfredo', 'Montgomerie, William', 'Mora-Klein, Matias', 'Muders, Dirk', 'Nadolski, Andrew', 'Navarro, Santiago', 'Neilsen, Joseph', 'Nguyen, Chi H.', 'Nishioka, Hiroaki', 'Norton, Timothy', 'Nowak, Michael A.', 'Nystrom, George', 'Ogawa, Hideo', 'Oshiro, Peter', 'Oyama, Tomoaki', 'Parsons, Harriet', 'Paine, Scott N.', 'Peñalver, Juan', 'Phillips, Neil M.', 'Poirier, Michael', 'Pradel, Nicolas', 'Primiani, Rurik A.', 'Raffin, Philippe A.', 'Rahlin, Alexandra S.', 'Reiland, George', 'Risacher, Christopher', 'Ruiz, Ignacio', 'Sáez-Madaín, Alejandro F.', 'Sassella, Remi', 'Schellart, Pim', 'Shaw, Paul', 'Silva, Kevin M.', 'Shiokawa, Hotaka', 'Smith, David R.', 'Snow, William', 'Souccar, Kamal', 'Sousa, Don', 'Sridharan, T. K.', 'Srinivasan, Ranjani', 'Stahm, William', 'Stark, Anthony A.', 'Story, Kyle', 'Timmer, Sjoerd T.', 'Vertatschitsch, Laura', 'Walther, Craig', 'Wei, Ta-Shun', 'Whitehorn, Nathan', 'Whitney, Alan R.', 'Woody, David P.', 'Wouterloot, Jan G. A.', 'Wright, Melvin', 'Yamaguchi, Paul', 'Yu, Chen-Yu', 'Zeballos, Milagros', 'Zhang, Shuo', 'Ziurys, Lucy']\n",
      "['Event Horizon Telescope Collaboration', 'Akiyama, Kazunori', 'Alberdi, Antxon', 'Alef, Walter', 'Asada, Keiichi', 'Azulay, Rebecca', 'Baczko, Anne-Kathrin', 'Ball, David', 'Baloković, Mislav', 'Barrett, John', 'Bintley, Dan', 'Blackburn, Lindy', 'Boland, Wilfred', 'Bouman, Katherine L.', 'Bower, Geoffrey C.', 'Bremer, Michael', 'Brinkerink, Christiaan D.', 'Brissenden, Roger', 'Britzen, Silke', 'Broderick, Avery E.', 'Broguiere, Dominique', 'Bronzwaer, Thomas', 'Byun, Do-Young', 'Carlstrom, John E.', 'Chael, Andrew', 'Chan, Chi-kwan', 'Chatterjee, Shami', 'Chatterjee, Koushik', 'Chen, Ming-Tang', 'Chen, Yongjun', 'Cho, Ilje', 'Christian, Pierre', 'Conway, John E.', 'Cordes, James M.', 'Crew, Geoffrey B.', 'Cui, Yuzhu', 'Davelaar, Jordy', 'De Laurentis, Mariafelicia', 'Deane, Roger', 'Dempsey, Jessica', 'Desvignes, Gregory', 'Dexter, Jason', 'Doeleman, Sheperd S.', 'Eatough, Ralph P.', 'Falcke, Heino', 'Fish, Vincent L.', 'Fomalont, Ed', 'Fraga-Encinas, Raquel', 'Freeman, William T.', 'Friberg, Per', 'Fromm, Christian M.', 'Gómez, José L.', 'Galison, Peter', 'Gammie, Charles F.', 'García, Roberto', 'Gentaz, Olivier', 'Georgiev, Boris', 'Goddi, Ciriaco', 'Gold, Roman', 'Gu, Minfeng', 'Gurwell, Mark', 'Hada, Kazuhiro', 'Hecht, Michael H.', 'Hesper, Ronald', 'Ho, Luis C.', 'Ho, Paul', 'Honma, Mareki', 'Huang, Chih-Wei L.', 'Huang, Lei', 'Hughes, David H.', 'Ikeda, Shiro', 'Inoue, Makoto', 'Issaoun, Sara', 'James, David J.', 'Jannuzi, Buell T.', 'Janssen, Michael', 'Jeter, Britton', 'Jiang, Wu', 'Johnson, Michael D.', 'Jorstad, Svetlana', 'Jung, Taehyun', 'Karami, Mansour', 'Karuppusamy, Ramesh', 'Kawashima, Tomohisa', 'Keating, Garrett K.', 'Kettenis, Mark', 'Kim, Jae-Young', 'Kim, Junhan', 'Kim, Jongsoo', 'Kino, Motoki', 'Koay, Jun Yi', 'Koch, Patrick M.', 'Koyama, Shoko', 'Kramer, Michael', 'Kramer, Carsten', 'Krichbaum, Thomas P.', 'Kuo, Cheng-Yu', 'Lauer, Tod R.', 'Lee, Sang-Sung', 'Li, Yan-Rong', 'Li, Zhiyuan', 'Lindqvist, Michael', 'Liu, Kuo', 'Liuzzo, Elisabetta', 'Lo, Wen-Ping', 'Lobanov, Andrei P.', 'Loinard, Laurent', 'Lonsdale, Colin', 'Lu, Ru-Sen', 'MacDonald, Nicholas R.', 'Mao, Jirong', 'Markoff, Sera', 'Marrone, Daniel P.', 'Marscher, Alan P.', 'Martí-Vidal, Iván', 'Matsushita, Satoki', 'Matthews, Lynn D.', 'Medeiros, Lia', 'Menten, Karl M.', 'Mizuno, Yosuke', 'Mizuno, Izumi', 'Moran, James M.', 'Moriyama, Kotaro', 'Moscibrodzka, Monika', 'Müller, Cornelia', 'Nagai, Hiroshi', 'Nagar, Neil M.', 'Nakamura, Masanori', 'Narayan, Ramesh', 'Narayanan, Gopal', 'Natarajan, Iniyan', 'Neri, Roberto', 'Ni, Chunchong', 'Noutsos, Aristeidis', 'Okino, Hiroki', 'Olivares, Héctor', 'Oyama, Tomoaki', 'Özel, Feryal', 'Palumbo, Daniel C. M.', 'Patel, Nimesh', 'Pen, Ue-Li', 'Pesce, Dominic W.', 'Piétu, Vincent', 'Plambeck, Richard', 'PopStefanija, Aleksandar', 'Porth, Oliver', 'Prather, Ben', 'Preciado-López, Jorge A.', 'Psaltis, Dimitrios', 'Pu, Hung-Yi', 'Ramakrishnan, Venkatessh', 'Rao, Ramprasad', 'Rawlings, Mark G.', 'Raymond, Alexander W.', 'Rezzolla, Luciano', 'Ripperda, Bart', 'Roelofs, Freek', 'Rogers, Alan', 'Ros, Eduardo', 'Rose, Mel', 'Roshanineshat, Arash', 'Rottmann, Helge', 'Roy, Alan L.', 'Ruszczyk, Chet', 'Ryan, Benjamin R.', 'Rygl, Kazi L. J.', 'Sánchez, Salvador', 'Sánchez-Arguelles, David', 'Sasada, Mahito', 'Savolainen, Tuomas', 'Schloerb, F. Peter', 'Schuster, Karl-Friedrich', 'Shao, Lijing', 'Shen, Zhiqiang', 'Small, Des', 'Sohn, Bong Won', 'SooHoo, Jason', 'Tazaki, Fumie', 'Tiede, Paul', 'Tilanus, Remo P. J.', 'Titus, Michael', 'Toma, Kenji', 'Torne, Pablo', 'Trent, Tyler', 'Trippe, Sascha', 'Tsuda, Shuichiro', 'van Bemmel, Ilse', 'van Langevelde, Huib Jan', 'van Rossum, Daniel R.', 'Wagner, Jan', 'Wardle, John', 'Weintroub, Jonathan', 'Wex, Norbert', 'Wharton, Robert', 'Wielgus, Maciek', 'Wong, George N.', 'Wu, Qingwen', 'Young, André', 'Young, Ken', 'Younsi, Ziri', 'Yuan, Feng', 'Yuan, Ye-Fei', 'Zensus, J. Anton', 'Zhao, Guangyao', 'Zhao, Shan-Shan', 'Zhu, Ziyan', 'Farah, Joseph R.', 'Meyer-Zhao, Zheng', 'Michalik, Daniel', 'Nadolski, Andrew', 'Nishioka, Hiroaki', 'Pradel, Nicolas', 'Primiani, Rurik A.', 'Souccar, Kamal', 'Vertatschitsch, Laura', 'Yamaguchi, Paul']\n",
      "['Event Horizon Telescope Collaboration', 'Akiyama, Kazunori', 'Alberdi, Antxon', 'Alef, Walter', 'Asada, Keiichi', 'Azulay, Rebecca', 'Baczko, Anne-Kathrin', 'Ball, David', 'Baloković, Mislav', 'Barrett, John', 'Bintley, Dan', 'Blackburn, Lindy', 'Boland, Wilfred', 'Bouman, Katherine L.', 'Bower, Geoffrey C.', 'Bremer, Michael', 'Brinkerink, Christiaan D.', 'Brissenden, Roger', 'Britzen, Silke', 'Broderick, Avery E.', 'Broguiere, Dominique', 'Bronzwaer, Thomas', 'Byun, Do-Young', 'Carlstrom, John E.', 'Chael, Andrew', 'Chan, Chi-kwan', 'Chatterjee, Shami', 'Chatterjee, Koushik', 'Chen, Ming-Tang', 'Chen, Yongjun', 'Cho, Ilje', 'Christian, Pierre', 'Conway, John E.', 'Cordes, James M.', 'Crew, Geoffrey B.', 'Cui, Yuzhu', 'Davelaar, Jordy', 'De Laurentis, Mariafelicia', 'Deane, Roger', 'Dempsey, Jessica', 'Desvignes, Gregory', 'Dexter, Jason', 'Doeleman, Sheperd S.', 'Eatough, Ralph P.', 'Falcke, Heino', 'Fish, Vincent L.', 'Fomalont, Ed', 'Fraga-Encinas, Raquel', 'Friberg, Per', 'Fromm, Christian M.', 'Gómez, José L.', 'Galison, Peter', 'Gammie, Charles F.', 'García, Roberto', 'Gentaz, Olivier', 'Georgiev, Boris', 'Goddi, Ciriaco', 'Gold, Roman', 'Gu, Minfeng', 'Gurwell, Mark', 'Hada, Kazuhiro', 'Hecht, Michael H.', 'Hesper, Ronald', 'Ho, Luis C.', 'Ho, Paul', 'Honma, Mareki', 'Huang, Chih-Wei L.', 'Huang, Lei', 'Hughes, David H.', 'Ikeda, Shiro', 'Inoue, Makoto', 'Issaoun, Sara', 'James, David J.', 'Jannuzi, Buell T.', 'Janssen, Michael', 'Jeter, Britton', 'Jiang, Wu', 'Johnson, Michael D.', 'Jorstad, Svetlana', 'Jung, Taehyun', 'Karami, Mansour', 'Karuppusamy, Ramesh', 'Kawashima, Tomohisa', 'Keating, Garrett K.', 'Kettenis, Mark', 'Kim, Jae-Young', 'Kim, Junhan', 'Kim, Jongsoo', 'Kino, Motoki', 'Koay, Jun Yi', 'Koch, Patrick M.', 'Koyama, Shoko', 'Kramer, Michael', 'Kramer, Carsten', 'Krichbaum, Thomas P.', 'Kuo, Cheng-Yu', 'Lauer, Tod R.', 'Lee, Sang-Sung', 'Li, Yan-Rong', 'Li, Zhiyuan', 'Lindqvist, Michael', 'Liu, Kuo', 'Liuzzo, Elisabetta', 'Lo, Wen-Ping', 'Lobanov, Andrei P.', 'Loinard, Laurent', 'Lonsdale, Colin', 'Lu, Ru-Sen', 'MacDonald, Nicholas R.', 'Mao, Jirong', 'Markoff, Sera', 'Marrone, Daniel P.', 'Marscher, Alan P.', 'Martí-Vidal, Iván', 'Matsushita, Satoki', 'Matthews, Lynn D.', 'Medeiros, Lia', 'Menten, Karl M.', 'Mizuno, Yosuke', 'Mizuno, Izumi', 'Moran, James M.', 'Moriyama, Kotaro', 'Moscibrodzka, Monika', 'Mul̈ler, Cornelia', 'Nagai, Hiroshi', 'Nagar, Neil M.', 'Nakamura, Masanori', 'Narayan, Ramesh', 'Narayanan, Gopal', 'Natarajan, Iniyan', 'Neri, Roberto', 'Ni, Chunchong', 'Noutsos, Aristeidis', 'Okino, Hiroki', 'Olivares, Héctor', 'Oyama, Tomoaki', 'Özel, Feryal', 'Palumbo, Daniel C. M.', 'Patel, Nimesh', 'Pen, Ue-Li', 'Pesce, Dominic W.', 'Piétu, Vincent', 'Plambeck, Richard', 'PopStefanija, Aleksandar', 'Porth, Oliver', 'Prather, Ben', 'Preciado-López, Jorge A.', 'Psaltis, Dimitrios', 'Pu, Hung-Yi', 'Ramakrishnan, Venkatessh', 'Rao, Ramprasad', 'Rawlings, Mark G.', 'Raymond, Alexander W.', 'Rezzolla, Luciano', 'Ripperda, Bart', 'Roelofs, Freek', 'Rogers, Alan', 'Ros, Eduardo', 'Rose, Mel', 'Roshanineshat, Arash', 'Rottmann, Helge', 'Roy, Alan L.', 'Ruszczyk, Chet', 'Ryan, Benjamin R.', 'Rygl, Kazi L. J.', 'Sánchez, Salvador', 'Sánchez-Arguelles, David', 'Sasada, Mahito', 'Savolainen, Tuomas', 'Schloerb, F. Peter', 'Schuster, Karl-Friedrich', 'Shao, Lijing', 'Shen, Zhiqiang', 'Small, Des', 'Sohn, Bong Won', 'SooHoo, Jason', 'Tazaki, Fumie', 'Tiede, Paul', 'Tilanus, Remo P. J.', 'Titus, Michael', 'Toma, Kenji', 'Torne, Pablo', 'Trent, Tyler', 'Trippe, Sascha', 'Tsuda, Shuichiro', 'van Bemmel, Ilse', 'van Langevelde, Huib Jan', 'van Rossum, Daniel R.', 'Wagner, Jan', 'Wardle, John', 'Weintroub, Jonathan', 'Wex, Norbert', 'Wharton, Robert', 'Wielgus, Maciek', 'Wong, George N.', 'Wu, Qingwen', 'Young, André', 'Young, Ken', 'Younsi, Ziri', 'Yuan, Feng', 'Yuan, Ye-Fei', 'Zensus, J. Anton', 'Zhao, Guangyao', 'Zhao, Shan-Shan', 'Zhu, Ziyan', 'Anczarski, Jadyn', 'Baganoff, Frederick K.', 'Eckart, Andreas', 'Farah, Joseph R.', 'Haggard, Daryl', 'Meyer-Zhao, Zheng', 'Michalik, Daniel', 'Nadolski, Andrew', 'Neilsen, Joseph', 'Nishioka, Hiroaki', 'Nowak, Michael A.', 'Pradel, Nicolas', 'Primiani, Rurik A.', 'Souccar, Kamal', 'Vertatschitsch, Laura', 'Yamaguchi, Paul', 'Zhang, Shuo']\n",
      "['Event Horizon Telescope Collaboration', 'Akiyama, Kazunori', 'Alberdi, Antxon', 'Alef, Walter', 'Asada, Keiichi', 'Azulay, Rebecca', 'Baczko, Anne-Kathrin', 'Ball, David', 'Baloković, Mislav', 'Barrett, John', 'Bintley, Dan', 'Blackburn, Lindy', 'Boland, Wilfred', 'Bouman, Katherine L.', 'Bower, Geoffrey C.', 'Bremer, Michael', 'Brinkerink, Christiaan D.', 'Brissenden, Roger', 'Britzen, Silke', 'Broderick, Avery E.', 'Broguiere, Dominique', 'Bronzwaer, Thomas', 'Byun, Do-Young', 'Carlstrom, John E.', 'Chael, Andrew', 'Chan, Chi-kwan', 'Chatterjee, Shami', 'Chatterjee, Koushik', 'Chen, Ming-Tang', 'Chen, Yongjun', 'Cho, Ilje', 'Christian, Pierre', 'Conway, John E.', 'Cordes, James M.', 'Crew, Geoffrey B.', 'Cui, Yuzhu', 'Davelaar, Jordy', 'De Laurentis, Mariafelicia', 'Deane, Roger', 'Dempsey, Jessica', 'Desvignes, Gregory', 'Dexter, Jason', 'Doeleman, Sheperd S.', 'Eatough, Ralph P.', 'Falcke, Heino', 'Fish, Vincent L.', 'Fomalont, Ed', 'Fraga-Encinas, Raquel', 'Friberg, Per', 'Fromm, Christian M.', 'Gómez, José L.', 'Galison, Peter', 'Gammie, Charles F.', 'García, Roberto', 'Gentaz, Olivier', 'Georgiev, Boris', 'Goddi, Ciriaco', 'Gold, Roman', 'Gu, Minfeng', 'Gurwell, Mark', 'Hada, Kazuhiro', 'Hecht, Michael H.', 'Hesper, Ronald', 'Ho, Luis C.', 'Ho, Paul', 'Honma, Mareki', 'Huang, Chih-Wei L.', 'Huang, Lei', 'Hughes, David H.', 'Ikeda, Shiro', 'Inoue, Makoto', 'Issaoun, Sara', 'James, David J.', 'Jannuzi, Buell T.', 'Janssen, Michael', 'Jeter, Britton', 'Jiang, Wu', 'Johnson, Michael D.', 'Jorstad, Svetlana', 'Jung, Taehyun', 'Karami, Mansour', 'Karuppusamy, Ramesh', 'Kawashima, Tomohisa', 'Keating, Garrett K.', 'Kettenis, Mark', 'Kim, Jae-Young', 'Kim, Junhan', 'Kim, Jongsoo', 'Kino, Motoki', 'Koay, Jun Yi', 'Koch, Patrick M.', 'Koyama, Shoko', 'Kramer, Michael', 'Kramer, Carsten', 'Krichbaum, Thomas P.', 'Kuo, Cheng-Yu', 'Lauer, Tod R.', 'Lee, Sang-Sung', 'Li, Yan-Rong', 'Li, Zhiyuan', 'Lindqvist, Michael', 'Liu, Kuo', 'Liuzzo, Elisabetta', 'Lo, Wen-Ping', 'Lobanov, Andrei P.', 'Loinard, Laurent', 'Lonsdale, Colin', 'Lu, Ru-Sen', 'MacDonald, Nicholas R.', 'Mao, Jirong', 'Markoff, Sera', 'Marrone, Daniel P.', 'Marscher, Alan P.', 'Martí-Vidal, Iván', 'Matsushita, Satoki', 'Matthews, Lynn D.', 'Medeiros, Lia', 'Menten, Karl M.', 'Mizuno, Yosuke', 'Mizuno, Izumi', 'Moran, James M.', 'Moriyama, Kotaro', 'Moscibrodzka, Monika', 'Müller, Cornelia', 'Nagai, Hiroshi', 'Nagar, Neil M.', 'Nakamura, Masanori', 'Narayan, Ramesh', 'Narayanan, Gopal', 'Natarajan, Iniyan', 'Neri, Roberto', 'Ni, Chunchong', 'Noutsos, Aristeidis', 'Okino, Hiroki', 'Olivares, Héctor', 'Ortiz-León, Gisela N.', 'Oyama, Tomoaki', 'Özel, Feryal', 'Palumbo, Daniel C. M.', 'Patel, Nimesh', 'Pen, Ue-Li', 'Pesce, Dominic W.', 'Piétu, Vincent', 'Plambeck, Richard', 'PopStefanija, Aleksandar', 'Porth, Oliver', 'Prather, Ben', 'Preciado-López, Jorge A.', 'Psaltis, Dimitrios', 'Pu, Hung-Yi', 'Ramakrishnan, Venkatessh', 'Rao, Ramprasad', 'Rawlings, Mark G.', 'Raymond, Alexander W.', 'Rezzolla, Luciano', 'Ripperda, Bart', 'Roelofs, Freek', 'Rogers, Alan', 'Ros, Eduardo', 'Rose, Mel', 'Roshanineshat, Arash', 'Rottmann, Helge', 'Roy, Alan L.', 'Ruszczyk, Chet', 'Ryan, Benjamin R.', 'Rygl, Kazi L. J.', 'Sánchez, Salvador', 'Sánchez-Arguelles, David', 'Sasada, Mahito', 'Savolainen, Tuomas', 'Schloerb, F. Peter', 'Schuster, Karl-Friedrich', 'Shao, Lijing', 'Shen, Zhiqiang', 'Small, Des', 'Sohn, Bong Won', 'SooHoo, Jason', 'Tazaki, Fumie', 'Tiede, Paul', 'Tilanus, Remo P. J.', 'Titus, Michael', 'Toma, Kenji', 'Torne, Pablo', 'Trent, Tyler', 'Trippe, Sascha', 'Tsuda, Shuichiro', 'van Bemmel, Ilse', 'van Langevelde, Huib Jan', 'van Rossum, Daniel R.', 'Wagner, Jan', 'Wardle, John', 'Weintroub, Jonathan', 'Wex, Norbert', 'Wharton, Robert', 'Wielgus, Maciek', 'Wong, George N.', 'Wu, Qingwen', 'Young, André', 'Young, Ken', 'Younsi, Ziri', 'Yuan, Feng', 'Yuan, Ye-Fei', 'Zensus, J. Anton', 'Zhao, Guangyao', 'Zhao, Shan-Shan', 'Zhu, Ziyan', 'Cappallo, Roger', 'Farah, Joseph R.', 'Folkers, Thomas W.', 'Meyer-Zhao, Zheng', 'Michalik, Daniel', 'Nadolski, Andrew', 'Nishioka, Hiroaki', 'Pradel, Nicolas', 'Primiani, Rurik A.', 'Souccar, Kamal', 'Vertatschitsch, Laura', 'Yamaguchi, Paul']\n",
      "['Event Horizon Telescope Collaboration', 'Akiyama, Kazunori', 'Alberdi, Antxon', 'Alef, Walter', 'Asada, Keiichi', 'Azulay, Rebecca', 'Baczko, Anne-Kathrin', 'Ball, David', 'Baloković, Mislav', 'Barrett, John', 'Bintley, Dan', 'Blackburn, Lindy', 'Boland, Wilfred', 'Bouman, Katherine L.', 'Bower, Geoffrey C.', 'Bremer, Michael', 'Brinkerink, Christiaan D.', 'Brissenden, Roger', 'Britzen, Silke', 'Broderick, Avery E.', 'Broguiere, Dominique', 'Bronzwaer, Thomas', 'Byun, Do-Young', 'Carlstrom, John E.', 'Chael, Andrew', 'Chan, Chi-kwan', 'Chatterjee, Shami', 'Chatterjee, Koushik', 'Chen, Ming-Tang', 'Chen, Yongjun', 'Cho, Ilje', 'Christian, Pierre', 'Conway, John E.', 'Cordes, James M.', 'Crew, Geoffrey B.', 'Cui, Yuzhu', 'Davelaar, Jordy', 'De Laurentis, Mariafelicia', 'Deane, Roger', 'Dempsey, Jessica', 'Desvignes, Gregory', 'Dexter, Jason', 'Doeleman, Sheperd S.', 'Eatough, Ralph P.', 'Falcke, Heino', 'Fish, Vincent L.', 'Fomalont, Ed', 'Fraga-Encinas, Raquel', 'Friberg, Per', 'Fromm, Christian M.', 'Gómez, José L.', 'Galison, Peter', 'Gammie, Charles F.', 'García, Roberto', 'Gentaz, Olivier', 'Georgiev, Boris', 'Goddi, Ciriaco', 'Gold, Roman', 'Gu, Minfeng', 'Gurwell, Mark', 'Hada, Kazuhiro', 'Hecht, Michael H.', 'Hesper, Ronald', 'Ho, Luis C.', 'Ho, Paul', 'Honma, Mareki', 'Huang, Chih-Wei L.', 'Huang, Lei', 'Hughes, David H.', 'Ikeda, Shiro', 'Inoue, Makoto', 'Issaoun, Sara', 'James, David J.', 'Jannuzi, Buell T.', 'Janssen, Michael', 'Jeter, Britton', 'Jiang, Wu', 'Johnson, Michael D.', 'Jorstad, Svetlana', 'Jung, Taehyun', 'Karami, Mansour', 'Karuppusamy, Ramesh', 'Kawashima, Tomohisa', 'Keating, Garrett K.', 'Kettenis, Mark', 'Kim, Jae-Young', 'Kim, Junhan', 'Kim, Jongsoo', 'Kino, Motoki', 'Koay, Jun Yi', 'Koch, Patrick M.', 'Koyama, Shoko', 'Kramer, Michael', 'Kramer, Carsten', 'Krichbaum, Thomas P.', 'Kuo, Cheng-Yu', 'Lauer, Tod R.', 'Lee, Sang-Sung', 'Li, Yan-Rong', 'Li, Zhiyuan', 'Lindqvist, Michael', 'Liu, Kuo', 'Liuzzo, Elisabetta', 'Lo, Wen-Ping', 'Lobanov, Andrei P.', 'Loinard, Laurent', 'Lonsdale, Colin', 'Lu, Ru-Sen', 'MacDonald, Nicholas R.', 'Mao, Jirong', 'Markoff, Sera', 'Marrone, Daniel P.', 'Marscher, Alan P.', 'Martí-Vidal, Iván', 'Matsushita, Satoki', 'Matthews, Lynn D.', 'Medeiros, Lia', 'Menten, Karl M.', 'Mizuno, Yosuke', 'Mizuno, Izumi', 'Moran, James M.', 'Moriyama, Kotaro', 'Moscibrodzka, Monika', 'Müller, Cornelia', 'Nagai, Hiroshi', 'Nagar, Neil M.', 'Nakamura, Masanori', 'Narayan, Ramesh', 'Narayanan, Gopal', 'Natarajan, Iniyan', 'Neri, Roberto', 'Ni, Chunchong', 'Noutsos, Aristeidis', 'Okino, Hiroki', 'Olivares, Héctor', 'Oyama, Tomoaki', 'Özel, Feryal', 'Palumbo, Daniel C. M.', 'Patel, Nimesh', 'Pen, Ue-Li', 'Pesce, Dominic W.', 'Piétu, Vincent', 'Plambeck, Richard', 'PopStefanija, Aleksandar', 'Porth, Oliver', 'Prather, Ben', 'Preciado-López, Jorge A.', 'Psaltis, Dimitrios', 'Pu, Hung-Yi', 'Ramakrishnan, Venkatessh', 'Rao, Ramprasad', 'Rawlings, Mark G.', 'Raymond, Alexander W.', 'Rezzolla, Luciano', 'Ripperda, Bart', 'Roelofs, Freek', 'Rogers, Alan', 'Ros, Eduardo', 'Rose, Mel', 'Roshanineshat, Arash', 'Rottmann, Helge', 'Roy, Alan L.', 'Ruszczyk, Chet', 'Ryan, Benjamin R.', 'Rygl, Kazi L. J.', 'Sánchez, Salvador', 'Sánchez-Arguelles, David', 'Sasada, Mahito', 'Savolainen, Tuomas', 'Schloerb, F. Peter', 'Schuster, Karl-Friedrich', 'Shao, Lijing', 'Shen, Zhiqiang', 'Small, Des', 'Sohn, Bong Won', 'SooHoo, Jason', 'Tazaki, Fumie', 'Tiede, Paul', 'Tilanus, Remo P. J.', 'Titus, Michael', 'Toma, Kenji', 'Torne, Pablo', 'Trent, Tyler', 'Trippe, Sascha', 'Tsuda, Shuichiro', 'van Bemmel, Ilse', 'van Langevelde, Huib Jan', 'van Rossum, Daniel R.', 'Wagner, Jan', 'Wardle, John', 'Weintroub, Jonathan', 'Wex, Norbert', 'Wharton, Robert', 'Wielgus, Maciek', 'Wong, George N.', 'Wu, Qingwen', 'Young, André', 'Young, Ken', 'Younsi, Ziri', 'Yuan, Feng', 'Yuan, Ye-Fei', 'Zensus, J. Anton', 'Zhao, Guangyao', 'Zhao, Shan-Shan', 'Zhu, Ziyan', 'Farah, Joseph R.', 'Meyer-Zhao, Zheng', 'Michalik, Daniel', 'Nadolski, Andrew', 'Nishioka, Hiroaki', 'Pradel, Nicolas', 'Primiani, Rurik A.', 'Souccar, Kamal', 'Vertatschitsch, Laura', 'Yamaguchi, Paul']\n",
      "['Event Horizon Telescope Collaboration', 'Akiyama, Kazunori', 'Alberdi, Antxon', 'Alef, Walter', 'Asada, Keiichi', 'Azulay, Rebecca', 'Baczko, Anne-Kathrin', 'Ball, David', 'Baloković, Mislav', 'Barrett, John', 'Bintley, Dan', 'Blackburn, Lindy', 'Boland, Wilfred', 'Bouman, Katherine L.', 'Bower, Geoffrey C.', 'Bremer, Michael', 'Brinkerink, Christiaan D.', 'Brissenden, Roger', 'Britzen, Silke', 'Broderick, Avery E.', 'Broguiere, Dominique', 'Bronzwaer, Thomas', 'Byun, Do-Young', 'Carlstrom, John E.', 'Chael, Andrew', 'Chan, Chi-kwan', 'Chatterjee, Shami', 'Chatterjee, Koushik', 'Chen, Ming-Tang', 'Chen, Yongjun', 'Cho, Ilje', 'Christian, Pierre', 'Conway, John E.', 'Cordes, James M.', 'Crew, Geoffrey B.', 'Cui, Yuzhu', 'Davelaar, Jordy', 'De Laurentis, Mariafelicia', 'Deane, Roger', 'Dempsey, Jessica', 'Desvignes, Gregory', 'Dexter, Jason', 'Doeleman, Sheperd S.', 'Eatough, Ralph P.', 'Falcke, Heino', 'Fish, Vincent L.', 'Fomalont, Ed', 'Fraga-Encinas, Raquel', 'Friberg, Per', 'Fromm, Christian M.', 'Gómez, José L.', 'Galison, Peter', 'Gammie, Charles F.', 'García, Roberto', 'Gentaz, Olivier', 'Georgiev, Boris', 'Goddi, Ciriaco', 'Gold, Roman', 'Gu, Minfeng', 'Gurwell, Mark', 'Hada, Kazuhiro', 'Hecht, Michael H.', 'Hesper, Ronald', 'Ho, Luis C.', 'Ho, Paul', 'Honma, Mareki', 'Huang, Chih-Wei L.', 'Huang, Lei', 'Hughes, David H.', 'Ikeda, Shiro', 'Inoue, Makoto', 'Issaoun, Sara', 'James, David J.', 'Jannuzi, Buell T.', 'Janssen, Michael', 'Jeter, Britton', 'Jiang, Wu', 'Johnson, Michael D.', 'Jorstad, Svetlana', 'Jung, Taehyun', 'Karami, Mansour', 'Karuppusamy, Ramesh', 'Kawashima, Tomohisa', 'Keating, Garrett K.', 'Kettenis, Mark', 'Kim, Jae-Young', 'Kim, Junhan', 'Kim, Jongsoo', 'Kino, Motoki', 'Koay, Jun Yi', 'Koch, Patrick M.', 'Koyama, Shoko', 'Kramer, Michael', 'Kramer, Carsten', 'Krichbaum, Thomas P.', 'Kuo, Cheng-Yu', 'Lauer, Tod R.', 'Lee, Sang-Sung', 'Li, Yan-Rong', 'Li, Zhiyuan', 'Lindqvist, Michael', 'Liu, Kuo', 'Liuzzo, Elisabetta', 'Lo, Wen-Ping', 'Lobanov, Andrei P.', 'Loinard, Laurent', 'Lonsdale, Colin', 'Lu, Ru-Sen', 'MacDonald, Nicholas R.', 'Mao, Jirong', 'Markoff, Sera', 'Marrone, Daniel P.', 'Marscher, Alan P.', 'Martí-Vidal, Iván', 'Matsushita, Satoki', 'Matthews, Lynn D.', 'Medeiros, Lia', 'Menten, Karl M.', 'Mizuno, Yosuke', 'Mizuno, Izumi', 'Moran, James M.', 'Moriyama, Kotaro', 'Moscibrodzka, Monika', 'Müller, Cornelia', 'Nagai, Hiroshi', 'Nagar, Neil M.', 'Nakamura, Masanori', 'Narayan, Ramesh', 'Narayanan, Gopal', 'Natarajan, Iniyan', 'Neri, Roberto', 'Ni, Chunchong', 'Noutsos, Aristeidis', 'Okino, Hiroki', 'Olivares, Héctor', 'Ortiz-León, Gisela N.', 'Oyama, Tomoaki', 'Özel, Feryal', 'Palumbo, Daniel C. M.', 'Patel, Nimesh', 'Pen, Ue-Li', 'Pesce, Dominic W.', 'Piétu, Vincent', 'Plambeck, Richard', 'PopStefanija, Aleksandar', 'Porth, Oliver', 'Prather, Ben', 'Preciado-López, Jorge A.', 'Psaltis, Dimitrios', 'Pu, Hung-Yi', 'Ramakrishnan, Venkatessh', 'Rao, Ramprasad', 'Rawlings, Mark G.', 'Raymond, Alexander W.', 'Rezzolla, Luciano', 'Ripperda, Bart', 'Roelofs, Freek', 'Rogers, Alan', 'Ros, Eduardo', 'Rose, Mel', 'Roshanineshat, Arash', 'Rottmann, Helge', 'Roy, Alan L.', 'Ruszczyk, Chet', 'Ryan, Benjamin R.', 'Rygl, Kazi L. J.', 'Sánchez, Salvador', 'Sánchez-Arguelles, David', 'Sasada, Mahito', 'Savolainen, Tuomas', 'Schloerb, F. Peter', 'Schuster, Karl-Friedrich', 'Shao, Lijing', 'Shen, Zhiqiang', 'Small, Des', 'Sohn, Bong Won', 'SooHoo, Jason', 'Tazaki, Fumie', 'Tiede, Paul', 'Tilanus, Remo P. J.', 'Titus, Michael', 'Toma, Kenji', 'Torne, Pablo', 'Trent, Tyler', 'Trippe, Sascha', 'Tsuda, Shuichiro', 'van Bemmel, Ilse', 'van Langevelde, Huib Jan', 'van Rossum, Daniel R.', 'Wagner, Jan', 'Wardle, John', 'Weintroub, Jonathan', 'Wex, Norbert', 'Wharton, Robert', 'Wielgus, Maciek', 'Wong, George N.', 'Wu, Qingwen', 'Young, André', 'Young, Ken', 'Younsi, Ziri', 'Yuan, Feng', 'Yuan, Ye-Fei', 'Zensus, J. Anton', 'Zhao, Guangyao', 'Zhao, Shan-Shan', 'Zhu, Ziyan', 'Algaba, Juan-Carlos', 'Allardi, Alexander', 'Amestica, Rodrigo', 'Bach, Uwe', 'Beaudoin, Christopher', 'Benson, Bradford A.', 'Berthold, Ryan', 'Blanchard, Jay M.', 'Blundell, Ray', 'Bustamente, Sandra', 'Cappallo, Roger', 'Castillo-Domínguez, Edgar', 'Chang, Chih-Cheng', 'Chang, Shu-Hao', 'Chang, Song-Chu', 'Chen, Chung-Chen', 'Chilson, Ryan', 'Chuter, Tim C.', 'Córdova Rosado, Rodrigo', 'Coulson, Iain M.', 'Crawford, Thomas M.', 'Crowley, Joseph', 'David, John', 'Derome, Mark', 'Dexter, Matthew', 'Dornbusch, Sven', 'Dudevoir, Kevin A.', 'Dzib, Sergio A.', 'Eckert, Chris', 'Erickson, Neal R.', 'Everett, Wendeline B.', 'Faber, Aaron', 'Farah, Joseph R.', 'Fath, Vernon', 'Folkers, Thomas W.', 'Forbes, David C.', 'Freund, Robert', 'Gómez-Ruiz, Arturo I.', 'Gale, David M.', 'Gao, Feng', 'Geertsema, Gertie', 'Graham, David A.', 'Greer, Christopher H.', 'Grosslein, Ronald', 'Gueth, Frédéric', 'Halverson, Nils W.', 'Han, Chih-Chiang', 'Han, Kuo-Chang', 'Hao, Jinchi', 'Hasegawa, Yutaka', 'Henning, Jason W.', 'Hernández-Gómez, Antonio', 'Herrero-Illana, Rubén', 'Heyminck, Stefan', 'Hirota, Akihiko', 'Hoge, James', 'Huang, Yau-De', 'Impellizzeri, C. M. Violette', 'Jiang, Homin', 'Kamble, Atish', 'Keisler, Ryan', 'Kimura, Kimihiro', 'Kono, Yusuke', 'Kubo, Derek', 'Kuroda, John', 'Lacasse, Richard', 'Laing, Robert A.', 'Leitch, Erik M.', 'Li, Chao-Te', 'Lin, Lupin C. -C.', 'Liu, Ching-Tang', 'Liu, Kuan-Yu', 'Lu, Li-Ming', 'Marson, Ralph G.', 'Martin-Cocher, Pierre L.', 'Massingill, Kyle D.', 'Matulonis, Callie', 'McColl, Martin P.', 'McWhirter, Stephen R.', 'Messias, Hugo', 'Meyer-Zhao, Zheng', 'Michalik, Daniel', 'Montaña, Alfredo', 'Montgomerie, William', 'Mora-Klein, Matias', 'Muders, Dirk', 'Nadolski, Andrew', 'Navarro, Santiago', 'Nguyen, Chi H.', 'Nishioka, Hiroaki', 'Norton, Timothy', 'Nystrom, George', 'Ogawa, Hideo', 'Oshiro, Peter', 'Oyama, Tomoaki', 'Padin, Stephen', 'Parsons, Harriet', 'Paine, Scott N.', 'Peñalver, Juan', 'Phillips, Neil M.', 'Poirier, Michael', 'Pradel, Nicolas', 'Primiani, Rurik A.', 'Raffin, Philippe A.', 'Rahlin, Alexandra S.', 'Reiland, George', 'Risacher, Christopher', 'Ruiz, Ignacio', 'Sáez-Madaín, Alejandro F.', 'Sassella, Remi', 'Schellart, Pim', 'Shaw, Paul', 'Silva, Kevin M.', 'Shiokawa, Hotaka', 'Smith, David R.', 'Snow, William', 'Souccar, Kamal', 'Sousa, Don', 'Sridharan, T. K.', 'Srinivasan, Ranjani', 'Stahm, William', 'Stark, Antony A.', 'Story, Kyle', 'Timmer, Sjoerd T.', 'Vertatschitsch, Laura', 'Walther, Craig', 'Wei, Ta-Shun', 'Whitehorn, Nathan', 'Whitney, Alan R.', 'Woody, David P.', 'Wouterloot, Jan G. A.', 'Wright, Melvin', 'Yamaguchi, Paul', 'Yu, Chen-Yu', 'Zeballos, Milagros', 'Ziurys, Lucy']\n",
      "['De Rosa, Alessandra', 'Uttley, Phil', 'Gou, LiJun', 'Liu, Yuan', 'Bambi, Cosimo', 'Barret, Didier', 'Belloni, Tomaso', 'Berti, Emanuele', 'Bianchi, Stefano', 'Caiazzo, Ilaria', 'Casella, Piergiorgio', 'Feroci, Marco', 'Ferrari, Valeria', 'Gualtieri, Leonardo', 'Heyl, Jeremy', 'Ingram, Adam', 'Karas, Vladimir', 'Lu, FangJun', 'Luo, Bin', 'Matt, Giorgio', 'Motta, Sara', 'Neilsen, Joseph', 'Pani, Paolo', 'Santangelo, Andrea', 'Shu, XinWen', 'Wang, JunFeng', 'Wang, Jian-Min', 'Xue, YongQuan', 'Xu, YuPeng', 'Yuan, WeiMin', 'Yuan, YeFei', 'Zhang, Shuang-Nan', 'Zhang, Shu', 'Agudo, Ivan', 'Amati, Lorenzo', 'Andersson, Nils', 'Baglio, Cristina', 'Bakala, Pavel', 'Baykal, Altan', 'Bhattacharyya, Sudip', 'Bombaci, Ignazio', 'Bucciantini, Niccoló', 'Capitanio, Fiamma', 'Ciolfi, Riccardo', 'Cui, Wei K.', \"D'Ammando, Filippo\", 'Dauser, Thomas', 'Del Santo, Melania', 'De Marco, Barbara', 'Di Salvo, Tiziana', 'Done, Chris', 'Dovčiak, Michal', 'Fabian, Andrew C.', 'Falanga, Maurizio', 'Gambino, Angelo Francesco', 'Gendre, Bruce', 'Grinberg, Victoria', 'Heger, Alexander', 'Homan, Jeroen', 'Iaria, Rosario', 'Jiang, JiaChen', 'Jin, ChiChuan', 'Koerding, Elmar', 'Linares, Manu', 'Liu, Zhu', 'Maccarone, Thomas J.', 'Malzac, Julien', 'Manousakis, Antonios', 'Marin, Frédéric', 'Marinucci, Andrea', 'Mehdipour, Missagh', 'Méndez, Mariano', 'Migliari, Simone', 'Miller, Cole', 'Miniutti, Giovanni', 'Nardini, Emanuele', \"O'Brien, Paul T.\", 'Osborne, Julian P.', 'Petrucci, Pierre Olivier', 'Possenti, Andrea', 'Riggio, Alessandro', 'Rodriguez, Jerome', 'Sanna, Andrea', 'Shao, LiJing', 'Sobolewska, Malgosia', 'Sramkova, Eva', 'Stevens, Abigail L.', 'Stiele, Holger', 'Stratta, Giulia', 'Stuchlik, Zdenek', 'Svoboda, Jiri', 'Tamburini, Fabrizio', 'Tauris, Thomas M.', 'Tombesi, Francesco', 'Torok, Gabriel', 'Urbanec, Martin', 'Vincent, Frederic', 'Wu, QingWen', 'Yuan, Feng', \"in't Zand, Jean J. M.\", 'Zdziarski, Andrzej A.', 'Zhou, XinLin']\n",
      "['Kang, Shi-Ju', 'Fan, Jun-Hui', 'Mao, Weiming', 'Wu, Qingwen', 'Feng, Jianchao', 'Yin, Yue']\n",
      "['Fan, Xu-Liang', 'Wu, Qingwen']\n",
      "['Grzędzielski, Mikołaj', 'Janiuk, Agnieszka', 'Czerny, Bożena', 'Wu, Qingwen']\n",
      "['Liu, Guang', 'Guo, Liang', 'Wang, Xintong', 'Wu, Qingwen']\n",
      "['Wang, Xiaoming', 'Xu, Zhenbang', 'Xia, Mingyi', 'He, Shuai', 'Li, Hang', 'Wu, Qingwen']\n",
      "['Fan, Xu-Liang', 'Wu, Qingwen', 'Liao, Neng-Hui']\n",
      "['Liu, Guang', 'Guo, Liang', 'Liu, Chunlong', 'Wu, Qingwen']\n",
      "['Yan, Dahai', 'Wu, Qingwen', 'Fan, Xuliang', 'Wang, Jiancheng', 'Zhang, Li']\n",
      "['Kang, Shi-Ju', 'Wu, Qingwen', 'Zheng, Yong-Gang', 'Yin, Yue', 'Song, Jia-Li', 'Zou, Hang', 'Feng, Jian-Chao', 'Dong, Ai-Jun', 'Wu, Zhong-Zu', 'Zhang, Zhi-Bin', 'Wu, Lin-Hui']\n",
      "['Gao, Zhanyu', 'Gu, Yingying', 'Lv, Yaoyu', 'Xu, Zhenbang', 'Wu, Qingwen']\n",
      "['Gu, Yingying', 'Wang, Li', 'Wu, Qingwen']\n",
      "['Fan, Xu-Liang', 'Li, Shao-Kun', 'Liao, Neng-Hui', 'Chen, Liang', 'Liu, Hong-Tao', 'Lu, Kai-Xing', 'Yan, Da-Hai', 'Zhang, Rui-Yu', 'Guo, Qian', 'Wu, Qingwen', 'Bai, Jin-Ming']\n",
      "['Wu, Qingwen', 'Feng, Jianchao', 'Fan, Xuliang']\n",
      "['Almeida, Ivan', 'Nemmen, Rodrigo', 'Wong, Ka-Wah', 'Wu, Qingwen', 'Irwin, Jimmy A.']\n",
      "['Wu, Linhui', 'Wu, Qingwen', 'Yan, Dahai', 'Chen, Liang', 'Fan, Xuliang']\n"
     ]
    }
   ],
   "source": [
    "for p in peoples:\n",
    "    print(p.author)"
   ]
  },
  {
   "cell_type": "code",
   "execution_count": null,
   "metadata": {
    "collapsed": true
   },
   "outputs": [],
   "source": []
  },
  {
   "cell_type": "code",
   "execution_count": null,
   "metadata": {
    "collapsed": true
   },
   "outputs": [],
   "source": []
  },
  {
   "cell_type": "markdown",
   "metadata": {},
   "source": [
    "# WISE"
   ]
  },
  {
   "cell_type": "code",
   "execution_count": null,
   "metadata": {
    "collapsed": true
   },
   "outputs": [],
   "source": []
  }
 ],
 "metadata": {
  "kernelspec": {
   "display_name": "Python 3",
   "language": "python",
   "name": "python3"
  },
  "language_info": {
   "codemirror_mode": {
    "name": "ipython",
    "version": 3
   },
   "file_extension": ".py",
   "mimetype": "text/x-python",
   "name": "python",
   "nbconvert_exporter": "python",
   "pygments_lexer": "ipython3",
   "version": "3.6.0"
  },
  "latex_envs": {
   "LaTeX_envs_menu_present": true,
   "autocomplete": true,
   "bibliofile": "biblio.bib",
   "cite_by": "apalike",
   "current_citInitial": 1,
   "eqLabelWithNumbers": true,
   "eqNumInitial": 1,
   "hotkeys": {
    "equation": "Ctrl-E",
    "itemize": "Ctrl-I"
   },
   "labels_anchors": false,
   "latex_user_defs": false,
   "report_style_numbering": false,
   "user_envs_cfg": false
  },
  "toc": {
   "nav_menu": {},
   "number_sections": true,
   "sideBar": true,
   "skip_h1_title": false,
   "toc_cell": false,
   "toc_position": {},
   "toc_section_display": "block",
   "toc_window_display": true
  }
 },
 "nbformat": 4,
 "nbformat_minor": 2
}
