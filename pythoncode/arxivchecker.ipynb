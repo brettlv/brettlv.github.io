{
 "cells": [
  {
   "cell_type": "code",
   "execution_count": 19,
   "metadata": {
    "ExecuteTime": {
     "end_time": "2018-11-07T18:32:12.255403Z",
     "start_time": "2018-11-07T18:29:45.899878Z"
    },
    "collapsed": false
   },
   "outputs": [
    {
     "name": "stdout",
     "output_type": "stream",
     "text": [
      "\tChecking http://arxiv.org/list/?year=17&month=all&archive=astro-ph&show=1000\n",
      "\tParsing data...\n"
     ]
    },
    {
     "data": {
      "text/plain": [
       "999"
      ]
     },
     "execution_count": 19,
     "metadata": {},
     "output_type": "execute_result"
    }
   ],
   "source": [
    "import arxivchecker\n",
    "\n",
    "astroph=arxivchecker.scrape_arxiv('astro-ph',year=2017,month='all',number=1000)\n",
    "len(astroph)"
   ]
  },
  {
   "cell_type": "code",
   "execution_count": 20,
   "metadata": {
    "ExecuteTime": {
     "end_time": "2018-11-07T18:34:23.803354Z",
     "start_time": "2018-11-07T18:34:23.777618Z"
    },
    "collapsed": false
   },
   "outputs": [
    {
     "name": "stdout",
     "output_type": "stream",
     "text": [
      "Found 3 papers\n",
      "1 hit\n",
      "['bayes']\n",
      "\n",
      "%%%%%%%%%%%%%%%%%%%%%%%%%%%%%%%%%%%%%%%%%%%%%%%%%%%%%%%%%%%%%%%%%%%%%%%%%%%%%%%%%%%%%%%%%%%%%%\n",
      "%%%                                                                                        %%%\n",
      "%%%    Bayesian power spectrum estimation at the Epoch of Reionization                     %%%\n",
      "%%%                                                                                        %%%\n",
      "%%%    http://arxiv.org/abs/1701.03384                                                     %%%\n",
      "%%%                                                                                        %%%\n",
      "%%%    Peter H. Sims, Lindley Lentati, Jonathan C. Pober, Chris Carilli, Michael P. Hob-    %%%\n",
      "%%%    son, Paul Alexander, & Paul Sutter                                                  %%%\n",
      "%%%                                                                                        %%%\n",
      "%%%%%%%%%%%%%%%%%%%%%%%%%%%%%%%%%%%%%%%%%%%%%%%%%%%%%%%%%%%%%%%%%%%%%%%%%%%%%%%%%%%%%%%%%%%%%%\n",
      "\n",
      "\n",
      "1 hit\n",
      "['bayes']\n",
      "\n",
      "%%%%%%%%%%%%%%%%%%%%%%%%%%%%%%%%%%%%%%%%%%%%%%%%%%%%%%%%%%%%%%%%%%%%%%%%%%%%%%%%%%%%%%%%%%%%%%\n",
      "%%%                                                                                        %%%\n",
      "%%%    Bayesian weak lensing tomography: Reconstructing the 3D large-scale  distributio-    %%%\n",
      "%%%    n of matter with a lognormal prior                                                  %%%\n",
      "%%%                                                                                        %%%\n",
      "%%%    http://arxiv.org/abs/1701.01886                                                     %%%\n",
      "%%%                                                                                        %%%\n",
      "%%%    Vanessa Böhm, Stefan Hilbert, Maksim Greiner, & Torsten A. Enßlin                   %%%\n",
      "%%%                                                                                        %%%\n",
      "%%%%%%%%%%%%%%%%%%%%%%%%%%%%%%%%%%%%%%%%%%%%%%%%%%%%%%%%%%%%%%%%%%%%%%%%%%%%%%%%%%%%%%%%%%%%%%\n",
      "\n",
      "\n",
      "1 hit\n",
      "['bayes']\n",
      "\n",
      "%%%%%%%%%%%%%%%%%%%%%%%%%%%%%%%%%%%%%%%%%%%%%%%%%%%%%%%%%%%%%%%%%%%%%%%%%%%%%%%%%%%%%%%%%%%%%%\n",
      "%%%                                                                                        %%%\n",
      "%%%    Bayesian Methods in Cosmology                                                       %%%\n",
      "%%%                                                                                        %%%\n",
      "%%%    http://arxiv.org/abs/1701.01467                                                     %%%\n",
      "%%%                                                                                        %%%\n",
      "%%%    Roberto Trotta                                                                      %%%\n",
      "%%%                                                                                        %%%\n",
      "%%%%%%%%%%%%%%%%%%%%%%%%%%%%%%%%%%%%%%%%%%%%%%%%%%%%%%%%%%%%%%%%%%%%%%%%%%%%%%%%%%%%%%%%%%%%%%\n",
      "\n",
      "\n"
     ]
    }
   ],
   "source": [
    "papersbayes=arxivchecker.check_keywords_from_papers(astroph,'bayes')"
   ]
  },
  {
   "cell_type": "code",
   "execution_count": 21,
   "metadata": {
    "ExecuteTime": {
     "end_time": "2018-11-07T18:34:46.614488Z",
     "start_time": "2018-11-07T18:34:46.598671Z"
    },
    "collapsed": false
   },
   "outputs": [
    {
     "name": "stdout",
     "output_type": "stream",
     "text": [
      "No results.\n"
     ]
    }
   ],
   "source": [
    "papersmcmc=arxivchecker.check_keywords_from_papers(astroph,'mcmc')"
   ]
  },
  {
   "cell_type": "code",
   "execution_count": 22,
   "metadata": {
    "ExecuteTime": {
     "end_time": "2018-11-07T18:39:22.240506Z",
     "start_time": "2018-11-07T18:39:21.045710Z"
    },
    "collapsed": false
   },
   "outputs": [
    {
     "data": {
      "text/plain": [
       "[{'affiliation': 'MPIfR, IEP Hamburg',\n",
       "  'arxiv_comment': '21 pages, 15 figures; submitted to MNRAS',\n",
       "  'arxiv_primary_category': {'scheme': 'http://arxiv.org/schemas/atom',\n",
       "   'term': 'astro-ph.GA'},\n",
       "  'arxiv_url': 'http://arxiv.org/abs/1811.02544v1',\n",
       "  'author': 'A. P. Lobanov',\n",
       "  'author_detail': {'name': 'A. P. Lobanov'},\n",
       "  'authors': ['A. V. Plavin',\n",
       "   'Y. Y. Kovalev',\n",
       "   'A. B. Pushkarev',\n",
       "   'A. P. Lobanov'],\n",
       "  'doi': None,\n",
       "  'guidislink': True,\n",
       "  'id': 'http://arxiv.org/abs/1811.02544v1',\n",
       "  'journal_reference': None,\n",
       "  'links': [{'href': 'http://arxiv.org/abs/1811.02544v1',\n",
       "    'rel': 'alternate',\n",
       "    'type': 'text/html'},\n",
       "   {'href': 'http://arxiv.org/pdf/1811.02544v1',\n",
       "    'rel': 'related',\n",
       "    'title': 'pdf',\n",
       "    'type': 'application/pdf'}],\n",
       "  'pdf_url': 'http://arxiv.org/pdf/1811.02544v1',\n",
       "  'published': '2018-11-06T18:35:09Z',\n",
       "  'published_parsed': time.struct_time(tm_year=2018, tm_mon=11, tm_mday=6, tm_hour=18, tm_min=35, tm_sec=9, tm_wday=1, tm_yday=310, tm_isdst=0),\n",
       "  'summary': 'The apparent position of jet base (core) in radio-loud active galactic nuclei\\nchanges with frequency because of synchrotron self-absorption. Studying this\\n`core shift` effect enables us to reconstruct properties of the jet regions\\nclose to the central engine. We report here results from core shift\\nmeasurements in AGNs observed with global VLBI at 2 and 8 GHz at epochs from\\n1994 to 2016. Our sample contains 40 objects observed at least 10 times during\\nthat period. The core shift is determined using a new automatic procedure\\nintroduced to minimize possible biases. The resulting multiple epoch\\nmeasurements of the core position are employed for examining temporal\\nvariability of the core shift. We argue that the core shift variability is a\\ncommon phenomenon, as established for 33 of 40 AGNs we study. Our analysis\\nshows that the typical offsets between the core positions at 2 and 8 GHz are\\nabout 0.5 mas and they vary in time. Typical variability of the individual core\\npositions is about 0.3 mas. The measurements show a strong dependence between\\nthe core position and its flux density, suggesting that changes in both are\\nlikely related to the nuclear flares injecting denser plasma into the flow. We\\ndetermine that density of emitting relativistic particles significantly\\nincreases during these flares, while relative magnetic field changes less and\\nin the opposite direction.',\n",
       "  'summary_detail': {'base': 'http://export.arxiv.org/api/query?search_query=core+shift&id_list=&start=0&max_results=10',\n",
       "   'language': None,\n",
       "   'type': 'text/plain',\n",
       "   'value': 'The apparent position of jet base (core) in radio-loud active galactic nuclei\\nchanges with frequency because of synchrotron self-absorption. Studying this\\n`core shift` effect enables us to reconstruct properties of the jet regions\\nclose to the central engine. We report here results from core shift\\nmeasurements in AGNs observed with global VLBI at 2 and 8 GHz at epochs from\\n1994 to 2016. Our sample contains 40 objects observed at least 10 times during\\nthat period. The core shift is determined using a new automatic procedure\\nintroduced to minimize possible biases. The resulting multiple epoch\\nmeasurements of the core position are employed for examining temporal\\nvariability of the core shift. We argue that the core shift variability is a\\ncommon phenomenon, as established for 33 of 40 AGNs we study. Our analysis\\nshows that the typical offsets between the core positions at 2 and 8 GHz are\\nabout 0.5 mas and they vary in time. Typical variability of the individual core\\npositions is about 0.3 mas. The measurements show a strong dependence between\\nthe core position and its flux density, suggesting that changes in both are\\nlikely related to the nuclear flares injecting denser plasma into the flow. We\\ndetermine that density of emitting relativistic particles significantly\\nincreases during these flares, while relative magnetic field changes less and\\nin the opposite direction.'},\n",
       "  'tags': [{'label': None,\n",
       "    'scheme': 'http://arxiv.org/schemas/atom',\n",
       "    'term': 'astro-ph.GA'},\n",
       "   {'label': None,\n",
       "    'scheme': 'http://arxiv.org/schemas/atom',\n",
       "    'term': 'astro-ph.HE'}],\n",
       "  'title': 'Significant core shift variability in parsec-scale jets of active\\n  galactic nuclei',\n",
       "  'title_detail': {'base': 'http://export.arxiv.org/api/query?search_query=core+shift&id_list=&start=0&max_results=10',\n",
       "   'language': None,\n",
       "   'type': 'text/plain',\n",
       "   'value': 'Significant core shift variability in parsec-scale jets of active\\n  galactic nuclei'},\n",
       "  'updated': '2018-11-06T18:35:09Z',\n",
       "  'updated_parsed': time.struct_time(tm_year=2018, tm_mon=11, tm_mday=6, tm_hour=18, tm_min=35, tm_sec=9, tm_wday=1, tm_yday=310, tm_isdst=0)},\n",
       " {'affiliation': 'None',\n",
       "  'arxiv_comment': '7 pages, 9 figures',\n",
       "  'arxiv_primary_category': {'scheme': 'http://arxiv.org/schemas/atom',\n",
       "   'term': 'cond-mat.mes-hall'},\n",
       "  'arxiv_url': 'http://arxiv.org/abs/1703.05067v1',\n",
       "  'author': 'Igor A. Abrikosov',\n",
       "  'author_detail': {'name': 'Igor A. Abrikosov'},\n",
       "  'authors': ['Alexey A. Tal', 'Weine Olovsson', 'Igor A. Abrikosov'],\n",
       "  'doi': '10.1103/PhysRevB.95.245402',\n",
       "  'guidislink': True,\n",
       "  'id': 'http://arxiv.org/abs/1703.05067v1',\n",
       "  'journal_reference': 'Phys. Rev. B 95, 245402 (2017)',\n",
       "  'links': [{'href': 'http://dx.doi.org/10.1103/PhysRevB.95.245402',\n",
       "    'rel': 'related',\n",
       "    'title': 'doi',\n",
       "    'type': 'text/html'},\n",
       "   {'href': 'http://arxiv.org/abs/1703.05067v1',\n",
       "    'rel': 'alternate',\n",
       "    'type': 'text/html'},\n",
       "   {'href': 'http://arxiv.org/pdf/1703.05067v1',\n",
       "    'rel': 'related',\n",
       "    'title': 'pdf',\n",
       "    'type': 'application/pdf'}],\n",
       "  'pdf_url': 'http://arxiv.org/pdf/1703.05067v1',\n",
       "  'published': '2017-03-15T10:35:17Z',\n",
       "  'published_parsed': time.struct_time(tm_year=2017, tm_mon=3, tm_mday=15, tm_hour=10, tm_min=35, tm_sec=17, tm_wday=2, tm_yday=74, tm_isdst=0),\n",
       "  'summary': 'We investigate the shifts of the core-level binding energies in small gold\\nnanoclusters by using {\\\\it ab initio} density functional theory calculations.\\nThe shift of the 4$f$ states is calculated for magic number nanoclusters in a\\nwide range of sizes and morphologies. We find a non-monotonous behavior of the\\ncore-level shift in nanoclusters depending on the size. We demonstrate that\\nthere are three main contributions to the Au 4$f$ shifts, which depend\\nsensitively on the interatomic distances, coordination and quantum confinement.\\nThey are identified and explained by the change of the on-site electrostatic\\npotential.',\n",
       "  'summary_detail': {'base': 'http://export.arxiv.org/api/query?search_query=core+shift&id_list=&start=0&max_results=10',\n",
       "   'language': None,\n",
       "   'type': 'text/plain',\n",
       "   'value': 'We investigate the shifts of the core-level binding energies in small gold\\nnanoclusters by using {\\\\it ab initio} density functional theory calculations.\\nThe shift of the 4$f$ states is calculated for magic number nanoclusters in a\\nwide range of sizes and morphologies. We find a non-monotonous behavior of the\\ncore-level shift in nanoclusters depending on the size. We demonstrate that\\nthere are three main contributions to the Au 4$f$ shifts, which depend\\nsensitively on the interatomic distances, coordination and quantum confinement.\\nThey are identified and explained by the change of the on-site electrostatic\\npotential.'},\n",
       "  'tags': [{'label': None,\n",
       "    'scheme': 'http://arxiv.org/schemas/atom',\n",
       "    'term': 'cond-mat.mes-hall'}],\n",
       "  'title': 'The origin of the core-level binding energy shifts in nanoclusters',\n",
       "  'title_detail': {'base': 'http://export.arxiv.org/api/query?search_query=core+shift&id_list=&start=0&max_results=10',\n",
       "   'language': None,\n",
       "   'type': 'text/plain',\n",
       "   'value': 'The origin of the core-level binding energy shifts in nanoclusters'},\n",
       "  'updated': '2017-03-15T10:35:17Z',\n",
       "  'updated_parsed': time.struct_time(tm_year=2017, tm_mon=3, tm_mday=15, tm_hour=10, tm_min=35, tm_sec=17, tm_wday=2, tm_yday=74, tm_isdst=0)},\n",
       " {'affiliation': 'MPIfR',\n",
       "  'arxiv_comment': 'Accepted for publication in Astronomy & Astrophysics, 4 pages',\n",
       "  'arxiv_primary_category': {'scheme': 'http://arxiv.org/schemas/atom',\n",
       "   'term': 'astro-ph.IM'},\n",
       "  'arxiv_url': 'http://arxiv.org/abs/0909.0933v1',\n",
       "  'author': 'R. W. Porcas',\n",
       "  'author_detail': {'name': 'R. W. Porcas'},\n",
       "  'authors': ['R. W. Porcas'],\n",
       "  'doi': '10.1051/0004-6361/200912846',\n",
       "  'guidislink': True,\n",
       "  'id': 'http://arxiv.org/abs/0909.0933v1',\n",
       "  'journal_reference': None,\n",
       "  'links': [{'href': 'http://dx.doi.org/10.1051/0004-6361/200912846',\n",
       "    'rel': 'related',\n",
       "    'title': 'doi',\n",
       "    'type': 'text/html'},\n",
       "   {'href': 'http://arxiv.org/abs/0909.0933v1',\n",
       "    'rel': 'alternate',\n",
       "    'type': 'text/html'},\n",
       "   {'href': 'http://arxiv.org/pdf/0909.0933v1',\n",
       "    'rel': 'related',\n",
       "    'title': 'pdf',\n",
       "    'type': 'application/pdf'}],\n",
       "  'pdf_url': 'http://arxiv.org/pdf/0909.0933v1',\n",
       "  'published': '2009-09-04T18:26:33Z',\n",
       "  'published_parsed': time.struct_time(tm_year=2009, tm_mon=9, tm_mday=4, tm_hour=18, tm_min=26, tm_sec=33, tm_wday=4, tm_yday=247, tm_isdst=0),\n",
       "  'summary': \"Aims: The effect of frequency-dependent AGN core positions (``core-shifts'')\\non radio Very Long Baseline Interferometry (VLBI) global astrometry\\nmeasurements is investigated.\\n  Methods: The basic equations relating to VLBI astrometry are reviewed,\\nincluding the effects of source structure. A power-law representation of\\ncore-shifts, based on both observations and theoretical considerations of jet\\nconditions, is incorporated.\\n  Results: It is shown that, in the presence of core-shifts, phase and\\ngroup-delay astrometry measurements yield different positions. For a core\\ndisplacement from the jet base parametrized by Delta x (lambda) = k lambda^beta\\ngroup delays measure a ``reduced'' core-shift of (1-beta) Delta x (lambda). For\\nthe astrophysically-significant case of beta = 1, group delays measure no shift\\nat all, giving the position of the jet base. At 8.4 GHz an estimated typical\\noffset between phase and group-delay positions of ~170 uas is smaller than the\\ncurrent ~250 uas precision of group-delay positions of the sources used to\\ndefine the ICRF; however, this effect must be taken into account for future\\nmeasurements planned with improved accuracy when comparing with optical\\npositions of AGN to be obtained with the GAIA mission.\",\n",
       "  'summary_detail': {'base': 'http://export.arxiv.org/api/query?search_query=core+shift&id_list=&start=0&max_results=10',\n",
       "   'language': None,\n",
       "   'type': 'text/plain',\n",
       "   'value': \"Aims: The effect of frequency-dependent AGN core positions (``core-shifts'')\\non radio Very Long Baseline Interferometry (VLBI) global astrometry\\nmeasurements is investigated.\\n  Methods: The basic equations relating to VLBI astrometry are reviewed,\\nincluding the effects of source structure. A power-law representation of\\ncore-shifts, based on both observations and theoretical considerations of jet\\nconditions, is incorporated.\\n  Results: It is shown that, in the presence of core-shifts, phase and\\ngroup-delay astrometry measurements yield different positions. For a core\\ndisplacement from the jet base parametrized by Delta x (lambda) = k lambda^beta\\ngroup delays measure a ``reduced'' core-shift of (1-beta) Delta x (lambda). For\\nthe astrophysically-significant case of beta = 1, group delays measure no shift\\nat all, giving the position of the jet base. At 8.4 GHz an estimated typical\\noffset between phase and group-delay positions of ~170 uas is smaller than the\\ncurrent ~250 uas precision of group-delay positions of the sources used to\\ndefine the ICRF; however, this effect must be taken into account for future\\nmeasurements planned with improved accuracy when comparing with optical\\npositions of AGN to be obtained with the GAIA mission.\"},\n",
       "  'tags': [{'label': None,\n",
       "    'scheme': 'http://arxiv.org/schemas/atom',\n",
       "    'term': 'astro-ph.IM'}],\n",
       "  'title': 'Radio astrometry with chromatic AGN core positions',\n",
       "  'title_detail': {'base': 'http://export.arxiv.org/api/query?search_query=core+shift&id_list=&start=0&max_results=10',\n",
       "   'language': None,\n",
       "   'type': 'text/plain',\n",
       "   'value': 'Radio astrometry with chromatic AGN core positions'},\n",
       "  'updated': '2009-09-04T18:26:33Z',\n",
       "  'updated_parsed': time.struct_time(tm_year=2009, tm_mon=9, tm_mday=4, tm_hour=18, tm_min=26, tm_sec=33, tm_wday=4, tm_yday=247, tm_isdst=0)},\n",
       " {'affiliation': 'None',\n",
       "  'arxiv_comment': '8 pages, 6 figures, accepted for publication in MNRAS',\n",
       "  'arxiv_primary_category': {'scheme': 'http://arxiv.org/schemas/atom',\n",
       "   'term': 'astro-ph.HE'},\n",
       "  'arxiv_url': 'http://arxiv.org/abs/1106.0069v1',\n",
       "  'author': 'H. D. Aller',\n",
       "  'author_detail': {'name': 'H. D. Aller'},\n",
       "  'authors': ['N. A. Kudryavtseva',\n",
       "   'D. C. Gabuzda',\n",
       "   'M. F. Aller',\n",
       "   'H. D. Aller'],\n",
       "  'doi': '10.1111/j.1365-2966.2011.18808.x',\n",
       "  'guidislink': True,\n",
       "  'id': 'http://arxiv.org/abs/1106.0069v1',\n",
       "  'journal_reference': None,\n",
       "  'links': [{'href': 'http://dx.doi.org/10.1111/j.1365-2966.2011.18808.x',\n",
       "    'rel': 'related',\n",
       "    'title': 'doi',\n",
       "    'type': 'text/html'},\n",
       "   {'href': 'http://arxiv.org/abs/1106.0069v1',\n",
       "    'rel': 'alternate',\n",
       "    'type': 'text/html'},\n",
       "   {'href': 'http://arxiv.org/pdf/1106.0069v1',\n",
       "    'rel': 'related',\n",
       "    'title': 'pdf',\n",
       "    'type': 'application/pdf'}],\n",
       "  'pdf_url': 'http://arxiv.org/pdf/1106.0069v1',\n",
       "  'published': '2011-06-01T01:06:19Z',\n",
       "  'published_parsed': time.struct_time(tm_year=2011, tm_mon=6, tm_mday=1, tm_hour=1, tm_min=6, tm_sec=19, tm_wday=2, tm_yday=152, tm_isdst=0),\n",
       "  'summary': 'We discuss the opacity in the core regions of active galactic nuclei observed\\nwith Very Long Baseline Interferometry (VLBI), and describe a new method for\\nderiving the frequency-dependent shifts of the VLBI core from the\\nfrequency-dependent time lags of flares observed with single-dish observations.\\nApplication of the method to the core shifts of the quasar 3C 345 shows a very\\ngood agreement between the core shifts directly measured from VLBI observations\\nand derived from flares in the total flux density using the proposed method.\\nThe frequency-dependent time lags of flares can be used to derive physical\\nparameters of the jets, such as distance from the VLBI core to the base of the\\njet and the magnetic fields in the core region. Our estimates for 3C 345\\nindicate core magnetic fields ~0.1 G and magnetic field at 1 pc ~0.4 G.',\n",
       "  'summary_detail': {'base': 'http://export.arxiv.org/api/query?search_query=core+shift&id_list=&start=0&max_results=10',\n",
       "   'language': None,\n",
       "   'type': 'text/plain',\n",
       "   'value': 'We discuss the opacity in the core regions of active galactic nuclei observed\\nwith Very Long Baseline Interferometry (VLBI), and describe a new method for\\nderiving the frequency-dependent shifts of the VLBI core from the\\nfrequency-dependent time lags of flares observed with single-dish observations.\\nApplication of the method to the core shifts of the quasar 3C 345 shows a very\\ngood agreement between the core shifts directly measured from VLBI observations\\nand derived from flares in the total flux density using the proposed method.\\nThe frequency-dependent time lags of flares can be used to derive physical\\nparameters of the jets, such as distance from the VLBI core to the base of the\\njet and the magnetic fields in the core region. Our estimates for 3C 345\\nindicate core magnetic fields ~0.1 G and magnetic field at 1 pc ~0.4 G.'},\n",
       "  'tags': [{'label': None,\n",
       "    'scheme': 'http://arxiv.org/schemas/atom',\n",
       "    'term': 'astro-ph.HE'},\n",
       "   {'label': None,\n",
       "    'scheme': 'http://arxiv.org/schemas/atom',\n",
       "    'term': 'astro-ph.CO'}],\n",
       "  'title': 'A new method for estimating frequency-dependent core shifts in active\\n  galactic nucleus jets',\n",
       "  'title_detail': {'base': 'http://export.arxiv.org/api/query?search_query=core+shift&id_list=&start=0&max_results=10',\n",
       "   'language': None,\n",
       "   'type': 'text/plain',\n",
       "   'value': 'A new method for estimating frequency-dependent core shifts in active\\n  galactic nucleus jets'},\n",
       "  'updated': '2011-06-01T01:06:19Z',\n",
       "  'updated_parsed': time.struct_time(tm_year=2011, tm_mon=6, tm_mday=1, tm_hour=1, tm_min=6, tm_sec=19, tm_wday=2, tm_yday=152, tm_isdst=0)},\n",
       " {'affiliation': 'None',\n",
       "  'arxiv_comment': 'Accepted for publication in The Astrophysical Journal, 34 pages, and\\n  14 figures',\n",
       "  'arxiv_primary_category': {'scheme': 'http://arxiv.org/schemas/atom',\n",
       "   'term': 'astro-ph.SR'},\n",
       "  'arxiv_url': 'http://arxiv.org/abs/1104.2950v2',\n",
       "  'author': 'Philip C. Myers',\n",
       "  'author_detail': {'name': 'Philip C. Myers'},\n",
       "  'authors': ['Chang Won Lee', 'Philip C. Myers'],\n",
       "  'doi': '10.1088/0004-637X/734/1/60',\n",
       "  'guidislink': True,\n",
       "  'id': 'http://arxiv.org/abs/1104.2950v2',\n",
       "  'journal_reference': None,\n",
       "  'links': [{'href': 'http://dx.doi.org/10.1088/0004-637X/734/1/60',\n",
       "    'rel': 'related',\n",
       "    'title': 'doi',\n",
       "    'type': 'text/html'},\n",
       "   {'href': 'http://arxiv.org/abs/1104.2950v2',\n",
       "    'rel': 'alternate',\n",
       "    'type': 'text/html'},\n",
       "   {'href': 'http://arxiv.org/pdf/1104.2950v2',\n",
       "    'rel': 'related',\n",
       "    'title': 'pdf',\n",
       "    'type': 'application/pdf'}],\n",
       "  'pdf_url': 'http://arxiv.org/pdf/1104.2950v2',\n",
       "  'published': '2011-04-15T00:51:42Z',\n",
       "  'published_parsed': time.struct_time(tm_year=2011, tm_mon=4, tm_mday=15, tm_hour=0, tm_min=51, tm_sec=42, tm_wday=4, tm_yday=105, tm_isdst=0),\n",
       "  'summary': 'This paper discusses the statistics of internal motions in starless dense\\ncores and the relation of these motions to core density and evolution. Four\\nspectral lines from three molecular species are analyzed from single-pointing\\nand mapped observations of several tens of starless cores. Blue asymmetric\\nprofiles are dominant, indicating that inward motions are prevalent in\\nsufficiently dense starless cores. These blue profiles are found to be more\\nabundant, and their asymmetry is bluer, at core positions with stronger $\\\\rm\\nN_2H^+$ line emission or higher column density. Thirty three starless cores are\\nclassified into four types according to the blue and red shifts of the lines in\\ntheir molecular line maps. Among these cores, contracting motions dominate: 19\\nare classified as contracting, 3 as oscillating, 3 as expanding, and 8 as\\nstatic. Contracting cores have inward motions all over the core with\\npredominance of those motions near the region of peak density. Cores with the\\nbluest asymmetry tend to have greater column density than other cores and all\\nfive cores with peak column density $> \\\\rm 6\\\\times 10^{21} cm^{-2}$ are found\\nto be contracting. This suggests that starless cores are likely to have\\ncontracting motions if they are sufficiently condensed. Our classification of\\nthe starless cores may indicate a sequence of core evolution in the sense that\\ncolumn density increases from static to contracting cores: the static cores in\\nthe earliest stage, the expanding and/or the oscillating cores in the next, and\\nthe contracting cores in the latest stage.',\n",
       "  'summary_detail': {'base': 'http://export.arxiv.org/api/query?search_query=core+shift&id_list=&start=0&max_results=10',\n",
       "   'language': None,\n",
       "   'type': 'text/plain',\n",
       "   'value': 'This paper discusses the statistics of internal motions in starless dense\\ncores and the relation of these motions to core density and evolution. Four\\nspectral lines from three molecular species are analyzed from single-pointing\\nand mapped observations of several tens of starless cores. Blue asymmetric\\nprofiles are dominant, indicating that inward motions are prevalent in\\nsufficiently dense starless cores. These blue profiles are found to be more\\nabundant, and their asymmetry is bluer, at core positions with stronger $\\\\rm\\nN_2H^+$ line emission or higher column density. Thirty three starless cores are\\nclassified into four types according to the blue and red shifts of the lines in\\ntheir molecular line maps. Among these cores, contracting motions dominate: 19\\nare classified as contracting, 3 as oscillating, 3 as expanding, and 8 as\\nstatic. Contracting cores have inward motions all over the core with\\npredominance of those motions near the region of peak density. Cores with the\\nbluest asymmetry tend to have greater column density than other cores and all\\nfive cores with peak column density $> \\\\rm 6\\\\times 10^{21} cm^{-2}$ are found\\nto be contracting. This suggests that starless cores are likely to have\\ncontracting motions if they are sufficiently condensed. Our classification of\\nthe starless cores may indicate a sequence of core evolution in the sense that\\ncolumn density increases from static to contracting cores: the static cores in\\nthe earliest stage, the expanding and/or the oscillating cores in the next, and\\nthe contracting cores in the latest stage.'},\n",
       "  'tags': [{'label': None,\n",
       "    'scheme': 'http://arxiv.org/schemas/atom',\n",
       "    'term': 'astro-ph.SR'}],\n",
       "  'title': 'Internal Motions in Starless Dense Cores',\n",
       "  'title_detail': {'base': 'http://export.arxiv.org/api/query?search_query=core+shift&id_list=&start=0&max_results=10',\n",
       "   'language': None,\n",
       "   'type': 'text/plain',\n",
       "   'value': 'Internal Motions in Starless Dense Cores'},\n",
       "  'updated': '2011-04-26T08:02:13Z',\n",
       "  'updated_parsed': time.struct_time(tm_year=2011, tm_mon=4, tm_mday=26, tm_hour=8, tm_min=2, tm_sec=13, tm_wday=1, tm_yday=116, tm_isdst=0)},\n",
       " {'affiliation': 'None',\n",
       "  'arxiv_comment': None,\n",
       "  'arxiv_primary_category': {'scheme': 'http://arxiv.org/schemas/atom',\n",
       "   'term': 'cs.SE'},\n",
       "  'arxiv_url': 'http://arxiv.org/abs/1006.1244v1',\n",
       "  'author': 'Jos van Hillegersberg',\n",
       "  'author_detail': {'name': 'Jos van Hillegersberg'},\n",
       "  'authors': ['Chintan Amrit', 'Jos van Hillegersberg'],\n",
       "  'doi': None,\n",
       "  'guidislink': True,\n",
       "  'id': 'http://arxiv.org/abs/1006.1244v1',\n",
       "  'journal_reference': 'Journal of Information Technology, Volume 25, Issue 2, 2010',\n",
       "  'links': [{'href': 'http://arxiv.org/abs/1006.1244v1',\n",
       "    'rel': 'alternate',\n",
       "    'type': 'text/html'},\n",
       "   {'href': 'http://arxiv.org/pdf/1006.1244v1',\n",
       "    'rel': 'related',\n",
       "    'title': 'pdf',\n",
       "    'type': 'application/pdf'}],\n",
       "  'pdf_url': 'http://arxiv.org/pdf/1006.1244v1',\n",
       "  'published': '2010-06-07T12:44:06Z',\n",
       "  'published_parsed': time.struct_time(tm_year=2010, tm_mon=6, tm_mday=7, tm_hour=12, tm_min=44, tm_sec=6, tm_wday=0, tm_yday=158, tm_isdst=0),\n",
       "  'summary': 'In this paper we apply the social network concept of core-periphery structure\\nto the sociotechnical structure of a software development team. We propose a\\nsocio-technical pattern that can be used to locate emerging coordination\\nproblems in Open Source projects. With the help of our tool and method called\\nTESNA, we demonstrate a method to monitor the socio-technical core-periphery\\nmovement in Open Source projects. We then study the impact of different\\ncore-periphery movements on Open Source projects. We conclude that a steady\\ncore-periphery shift towards the core is beneficial to the project, whereas\\nshifts away from the core are clearly not good. Furthermore, oscillatory shifts\\ntowards and away from the core can be considered as an indication of the\\ninstability of the project. Such an analysis can provide developers with a good\\ninsight into the health of an Open Source project. Researchers can gain from\\nthe pattern theory, and from the method we use to study the core-periphery\\nmovements.',\n",
       "  'summary_detail': {'base': 'http://export.arxiv.org/api/query?search_query=core+shift&id_list=&start=0&max_results=10',\n",
       "   'language': None,\n",
       "   'type': 'text/plain',\n",
       "   'value': 'In this paper we apply the social network concept of core-periphery structure\\nto the sociotechnical structure of a software development team. We propose a\\nsocio-technical pattern that can be used to locate emerging coordination\\nproblems in Open Source projects. With the help of our tool and method called\\nTESNA, we demonstrate a method to monitor the socio-technical core-periphery\\nmovement in Open Source projects. We then study the impact of different\\ncore-periphery movements on Open Source projects. We conclude that a steady\\ncore-periphery shift towards the core is beneficial to the project, whereas\\nshifts away from the core are clearly not good. Furthermore, oscillatory shifts\\ntowards and away from the core can be considered as an indication of the\\ninstability of the project. Such an analysis can provide developers with a good\\ninsight into the health of an Open Source project. Researchers can gain from\\nthe pattern theory, and from the method we use to study the core-periphery\\nmovements.'},\n",
       "  'tags': [{'label': None,\n",
       "    'scheme': 'http://arxiv.org/schemas/atom',\n",
       "    'term': 'cs.SE'}],\n",
       "  'title': 'Exploring the Impact of Socio-Technical Core-Periphery Structures in\\n  Open Source Software Development',\n",
       "  'title_detail': {'base': 'http://export.arxiv.org/api/query?search_query=core+shift&id_list=&start=0&max_results=10',\n",
       "   'language': None,\n",
       "   'type': 'text/plain',\n",
       "   'value': 'Exploring the Impact of Socio-Technical Core-Periphery Structures in\\n  Open Source Software Development'},\n",
       "  'updated': '2010-06-07T12:44:06Z',\n",
       "  'updated_parsed': time.struct_time(tm_year=2010, tm_mon=6, tm_mday=7, tm_hour=12, tm_min=44, tm_sec=6, tm_wday=0, tm_yday=158, tm_isdst=0)},\n",
       " {'affiliation': 'None',\n",
       "  'arxiv_comment': '7 pages (mrs/epsf styles included), 2 ps figures',\n",
       "  'arxiv_primary_category': {'scheme': 'http://arxiv.org/schemas/atom',\n",
       "   'term': 'cond-mat.mtrl-sci'},\n",
       "  'arxiv_url': 'http://arxiv.org/abs/cond-mat/9610130v1',\n",
       "  'author': 'Sabrina Oppo',\n",
       "  'author_detail': {'name': 'Sabrina Oppo'},\n",
       "  'authors': ['Vincenzo Fiorentini', 'Michael Methfessel', 'Sabrina Oppo'],\n",
       "  'doi': None,\n",
       "  'guidislink': True,\n",
       "  'id': 'http://arxiv.org/abs/cond-mat/9610130v1',\n",
       "  'journal_reference': 'MRS Proceedings 408, 495 (1996)',\n",
       "  'links': [{'href': 'http://arxiv.org/abs/cond-mat/9610130v1',\n",
       "    'rel': 'alternate',\n",
       "    'type': 'text/html'},\n",
       "   {'href': 'http://arxiv.org/pdf/cond-mat/9610130v1',\n",
       "    'rel': 'related',\n",
       "    'title': 'pdf',\n",
       "    'type': 'application/pdf'}],\n",
       "  'pdf_url': 'http://arxiv.org/pdf/cond-mat/9610130v1',\n",
       "  'published': '1996-10-16T12:53:43Z',\n",
       "  'published_parsed': time.struct_time(tm_year=1996, tm_mon=10, tm_mday=16, tm_hour=12, tm_min=53, tm_sec=43, tm_wday=2, tm_yday=290, tm_isdst=0),\n",
       "  'summary': \"Core-level shifts and core-hole screening effects in alloy formation are\\nstudied ``ab initio'' by constrained-density-functional total-energy\\ncalculations. For our case study, the ordered intermetallic alloy MgAu,\\nfinal-state effects are essential to account for the experimental Mg 1s shift,\\nwhile they are negligible for Au 4f. We explain the differences in the\\nscreening by analyzing the calculated charge density response to the core hole\\nperturbation.\",\n",
       "  'summary_detail': {'base': 'http://export.arxiv.org/api/query?search_query=core+shift&id_list=&start=0&max_results=10',\n",
       "   'language': None,\n",
       "   'type': 'text/plain',\n",
       "   'value': \"Core-level shifts and core-hole screening effects in alloy formation are\\nstudied ``ab initio'' by constrained-density-functional total-energy\\ncalculations. For our case study, the ordered intermetallic alloy MgAu,\\nfinal-state effects are essential to account for the experimental Mg 1s shift,\\nwhile they are negligible for Au 4f. We explain the differences in the\\nscreening by analyzing the calculated charge density response to the core hole\\nperturbation.\"},\n",
       "  'tags': [{'label': None,\n",
       "    'scheme': 'http://arxiv.org/schemas/atom',\n",
       "    'term': 'cond-mat.mtrl-sci'}],\n",
       "  'title': 'Ab initio core-level shifts in metallic alloys',\n",
       "  'title_detail': {'base': 'http://export.arxiv.org/api/query?search_query=core+shift&id_list=&start=0&max_results=10',\n",
       "   'language': None,\n",
       "   'type': 'text/plain',\n",
       "   'value': 'Ab initio core-level shifts in metallic alloys'},\n",
       "  'updated': '1996-10-16T12:53:43Z',\n",
       "  'updated_parsed': time.struct_time(tm_year=1996, tm_mon=10, tm_mday=16, tm_hour=12, tm_min=53, tm_sec=43, tm_wday=2, tm_yday=290, tm_isdst=0)},\n",
       " {'affiliation': 'None',\n",
       "  'arxiv_comment': None,\n",
       "  'arxiv_primary_category': {'scheme': 'http://arxiv.org/schemas/atom',\n",
       "   'term': 'cond-mat.other'},\n",
       "  'arxiv_url': 'http://arxiv.org/abs/1010.5657v1',\n",
       "  'author': 'P. Aebi',\n",
       "  'author_detail': {'name': 'P. Aebi'},\n",
       "  'authors': ['E. F. Schwier',\n",
       "   'C. Monney',\n",
       "   'N. Mariotti',\n",
       "   'Z. Vydrovà',\n",
       "   'M. García-Fernández',\n",
       "   'C. Didiot',\n",
       "   'M. G. Garnier',\n",
       "   'P. Aebi'],\n",
       "  'doi': '10.1140/epjb/e2011-20057-6',\n",
       "  'guidislink': True,\n",
       "  'id': 'http://arxiv.org/abs/1010.5657v1',\n",
       "  'journal_reference': None,\n",
       "  'links': [{'href': 'http://dx.doi.org/10.1140/epjb/e2011-20057-6',\n",
       "    'rel': 'related',\n",
       "    'title': 'doi',\n",
       "    'type': 'text/html'},\n",
       "   {'href': 'http://arxiv.org/abs/1010.5657v1',\n",
       "    'rel': 'alternate',\n",
       "    'type': 'text/html'},\n",
       "   {'href': 'http://arxiv.org/pdf/1010.5657v1',\n",
       "    'rel': 'related',\n",
       "    'title': 'pdf',\n",
       "    'type': 'application/pdf'}],\n",
       "  'pdf_url': 'http://arxiv.org/pdf/1010.5657v1',\n",
       "  'published': '2010-10-27T11:52:24Z',\n",
       "  'published_parsed': time.struct_time(tm_year=2010, tm_mon=10, tm_mday=27, tm_hour=11, tm_min=52, tm_sec=24, tm_wday=2, tm_yday=300, tm_isdst=0),\n",
       "  'summary': 'In the light of recent measurements of the C 1s core level dispersion in\\ngraphene [Nat. Phys. 6, 345 (2010)], we explore the interplay between the\\nelastic scattering of photoelectrons and the surface core level shifts with\\nregard to the determination of core level binding energies in Au(111) and\\nCu3Au(100). We find that an artificial shift is created in the binding energies\\nof the Au 4f core levels, that exhibits a dependence on the emission angle, as\\nwell as on the spectral intensity of the core level emission itself. Using a\\nsimple model, we are able to reproduce the angular dependence of the shift and\\nrelate it to the anisotropy in the electron emission from the bulk layers. Our\\nresults demonstrate that interpretation of variation of the binding energy of\\ncore-levels should be conducted with great care and must take into account the\\npossible influence of artificial shifts induced by elastic scattering.',\n",
       "  'summary_detail': {'base': 'http://export.arxiv.org/api/query?search_query=core+shift&id_list=&start=0&max_results=10',\n",
       "   'language': None,\n",
       "   'type': 'text/plain',\n",
       "   'value': 'In the light of recent measurements of the C 1s core level dispersion in\\ngraphene [Nat. Phys. 6, 345 (2010)], we explore the interplay between the\\nelastic scattering of photoelectrons and the surface core level shifts with\\nregard to the determination of core level binding energies in Au(111) and\\nCu3Au(100). We find that an artificial shift is created in the binding energies\\nof the Au 4f core levels, that exhibits a dependence on the emission angle, as\\nwell as on the spectral intensity of the core level emission itself. Using a\\nsimple model, we are able to reproduce the angular dependence of the shift and\\nrelate it to the anisotropy in the electron emission from the bulk layers. Our\\nresults demonstrate that interpretation of variation of the binding energy of\\ncore-levels should be conducted with great care and must take into account the\\npossible influence of artificial shifts induced by elastic scattering.'},\n",
       "  'tags': [{'label': None,\n",
       "    'scheme': 'http://arxiv.org/schemas/atom',\n",
       "    'term': 'cond-mat.other'},\n",
       "   {'label': None,\n",
       "    'scheme': 'http://arxiv.org/schemas/atom',\n",
       "    'term': 'cond-mat.mtrl-sci'}],\n",
       "  'title': 'Influence of elastic scattering on the measurement of core-level binding\\n  energy dispersion in x-ray photoemission spectroscopy',\n",
       "  'title_detail': {'base': 'http://export.arxiv.org/api/query?search_query=core+shift&id_list=&start=0&max_results=10',\n",
       "   'language': None,\n",
       "   'type': 'text/plain',\n",
       "   'value': 'Influence of elastic scattering on the measurement of core-level binding\\n  energy dispersion in x-ray photoemission spectroscopy'},\n",
       "  'updated': '2010-10-27T11:52:24Z',\n",
       "  'updated_parsed': time.struct_time(tm_year=2010, tm_mon=10, tm_mday=27, tm_hour=11, tm_min=52, tm_sec=24, tm_wday=2, tm_yday=300, tm_isdst=0)},\n",
       " {'affiliation': 'None',\n",
       "  'arxiv_comment': '7 pages and 6 figures',\n",
       "  'arxiv_primary_category': {'scheme': 'http://arxiv.org/schemas/atom',\n",
       "   'term': 'cond-mat.mes-hall'},\n",
       "  'arxiv_url': 'http://arxiv.org/abs/1207.0527v1',\n",
       "  'author': 'Li Yang',\n",
       "  'author_detail': {'name': 'Li Yang'},\n",
       "  'authors': ['Shouting Huang', 'Li Yang'],\n",
       "  'doi': None,\n",
       "  'guidislink': True,\n",
       "  'id': 'http://arxiv.org/abs/1207.0527v1',\n",
       "  'journal_reference': None,\n",
       "  'links': [{'href': 'http://arxiv.org/abs/1207.0527v1',\n",
       "    'rel': 'alternate',\n",
       "    'type': 'text/html'},\n",
       "   {'href': 'http://arxiv.org/pdf/1207.0527v1',\n",
       "    'rel': 'related',\n",
       "    'title': 'pdf',\n",
       "    'type': 'application/pdf'}],\n",
       "  'pdf_url': 'http://arxiv.org/pdf/1207.0527v1',\n",
       "  'published': '2012-07-02T21:21:42Z',\n",
       "  'published_parsed': time.struct_time(tm_year=2012, tm_mon=7, tm_mday=2, tm_hour=21, tm_min=21, tm_sec=42, tm_wday=0, tm_yday=184, tm_isdst=0),\n",
       "  'summary': 'We present a first-principles study on lattice vibrational modes of Si/Ge\\ncore-shell nanowires (NWs). In addition to quantum confinement, the internal\\nstrain induced by the lattice mismatch between core and shell contributes to\\nsignificant frequency shifts of characteristic optical modes. More importantly,\\nour simulation shows that these frequency shifts can be detected by Raman\\nscattering experiments, providing convenient and nondestructive ways to obtain\\nstructural information of core-shell materials. Meanwhile, another type of\\ncollective modes, radial breathing modes (RBMs), are identified in\\nSi-core/Ge-shell NWs and their frequency dependence is explained by an elastic\\nmedia model.',\n",
       "  'summary_detail': {'base': 'http://export.arxiv.org/api/query?search_query=core+shift&id_list=&start=0&max_results=10',\n",
       "   'language': None,\n",
       "   'type': 'text/plain',\n",
       "   'value': 'We present a first-principles study on lattice vibrational modes of Si/Ge\\ncore-shell nanowires (NWs). In addition to quantum confinement, the internal\\nstrain induced by the lattice mismatch between core and shell contributes to\\nsignificant frequency shifts of characteristic optical modes. More importantly,\\nour simulation shows that these frequency shifts can be detected by Raman\\nscattering experiments, providing convenient and nondestructive ways to obtain\\nstructural information of core-shell materials. Meanwhile, another type of\\ncollective modes, radial breathing modes (RBMs), are identified in\\nSi-core/Ge-shell NWs and their frequency dependence is explained by an elastic\\nmedia model.'},\n",
       "  'tags': [{'label': None,\n",
       "    'scheme': 'http://arxiv.org/schemas/atom',\n",
       "    'term': 'cond-mat.mes-hall'},\n",
       "   {'label': None,\n",
       "    'scheme': 'http://arxiv.org/schemas/atom',\n",
       "    'term': 'cond-mat.mtrl-sci'}],\n",
       "  'title': 'Lattice Vibrational Modes in Si/Ge Core-shell Nanowires',\n",
       "  'title_detail': {'base': 'http://export.arxiv.org/api/query?search_query=core+shift&id_list=&start=0&max_results=10',\n",
       "   'language': None,\n",
       "   'type': 'text/plain',\n",
       "   'value': 'Lattice Vibrational Modes in Si/Ge Core-shell Nanowires'},\n",
       "  'updated': '2012-07-02T21:21:42Z',\n",
       "  'updated_parsed': time.struct_time(tm_year=2012, tm_mon=7, tm_mday=2, tm_hour=21, tm_min=21, tm_sec=42, tm_wday=0, tm_yday=184, tm_isdst=0)},\n",
       " {'affiliation': 'None',\n",
       "  'arxiv_comment': '10 pages, 6 figures, Accepted for Publication in A&A',\n",
       "  'arxiv_primary_category': {'scheme': 'http://arxiv.org/schemas/atom',\n",
       "   'term': 'astro-ph.GA'},\n",
       "  'arxiv_url': 'http://arxiv.org/abs/1003.4825v1',\n",
       "  'author': 'R. T. Gangadhara',\n",
       "  'author_detail': {'name': 'R. T. Gangadhara'},\n",
       "  'authors': ['R. M. C. Thomas', 'R. T. Gangadhara'],\n",
       "  'doi': '10.1051/0004-6361/200911835',\n",
       "  'guidislink': True,\n",
       "  'id': 'http://arxiv.org/abs/1003.4825v1',\n",
       "  'journal_reference': None,\n",
       "  'links': [{'href': 'http://dx.doi.org/10.1051/0004-6361/200911835',\n",
       "    'rel': 'related',\n",
       "    'title': 'doi',\n",
       "    'type': 'text/html'},\n",
       "   {'href': 'http://arxiv.org/abs/1003.4825v1',\n",
       "    'rel': 'alternate',\n",
       "    'type': 'text/html'},\n",
       "   {'href': 'http://arxiv.org/pdf/1003.4825v1',\n",
       "    'rel': 'related',\n",
       "    'title': 'pdf',\n",
       "    'type': 'application/pdf'}],\n",
       "  'pdf_url': 'http://arxiv.org/pdf/1003.4825v1',\n",
       "  'published': '2010-03-25T09:06:51Z',\n",
       "  'published_parsed': time.struct_time(tm_year=2010, tm_mon=3, tm_mday=25, tm_hour=9, tm_min=6, tm_sec=51, tm_wday=3, tm_yday=84, tm_isdst=0),\n",
       "  'summary': 'We study the mean profiles of the multi--component pulsars PSRs B1839+09,\\nB1916+14 and B2111+46. We estimate the emission height of the core components,\\nand hence find the absolute emission altitudes corresponding to the conal\\ncomponents. By fitting Gaussians to the emission components, we determine the\\nphase location of the component peaks. Our findings indicate that the emission\\nbeams of these pulsars have the nested core--cone structures. Based on the\\nphase location of the component peaks, we estimate the aberration--retardation\\n(A/R) phase shifts in the profiles. Due to the A/R phase shift, the peak of the\\ncore component in the intensity profile and the inflection point of the\\npolarization angle swing are found to be symmetrically shifted in the opposite\\ndirections with respect to the meridional plane in such a way that the core\\nshifts towards the leading side and the polarization angle inflection point\\ntowards the trailing side. We have been able to locate the phase location of\\nthe meridional plane and to estimate the absolute emission altitude of both the\\ncore and the conal components relative to the neutron star centre, using the\\nexact expression for the A/R phase shift given by Gangadhara (2005).',\n",
       "  'summary_detail': {'base': 'http://export.arxiv.org/api/query?search_query=core+shift&id_list=&start=0&max_results=10',\n",
       "   'language': None,\n",
       "   'type': 'text/plain',\n",
       "   'value': 'We study the mean profiles of the multi--component pulsars PSRs B1839+09,\\nB1916+14 and B2111+46. We estimate the emission height of the core components,\\nand hence find the absolute emission altitudes corresponding to the conal\\ncomponents. By fitting Gaussians to the emission components, we determine the\\nphase location of the component peaks. Our findings indicate that the emission\\nbeams of these pulsars have the nested core--cone structures. Based on the\\nphase location of the component peaks, we estimate the aberration--retardation\\n(A/R) phase shifts in the profiles. Due to the A/R phase shift, the peak of the\\ncore component in the intensity profile and the inflection point of the\\npolarization angle swing are found to be symmetrically shifted in the opposite\\ndirections with respect to the meridional plane in such a way that the core\\nshifts towards the leading side and the polarization angle inflection point\\ntowards the trailing side. We have been able to locate the phase location of\\nthe meridional plane and to estimate the absolute emission altitude of both the\\ncore and the conal components relative to the neutron star centre, using the\\nexact expression for the A/R phase shift given by Gangadhara (2005).'},\n",
       "  'tags': [{'label': None,\n",
       "    'scheme': 'http://arxiv.org/schemas/atom',\n",
       "    'term': 'astro-ph.GA'}],\n",
       "  'title': 'Absolute emission altitude of pulsars: PSRs B1839+09, B1916+14 and\\n  B2111+46',\n",
       "  'title_detail': {'base': 'http://export.arxiv.org/api/query?search_query=core+shift&id_list=&start=0&max_results=10',\n",
       "   'language': None,\n",
       "   'type': 'text/plain',\n",
       "   'value': 'Absolute emission altitude of pulsars: PSRs B1839+09, B1916+14 and\\n  B2111+46'},\n",
       "  'updated': '2010-03-25T09:06:51Z',\n",
       "  'updated_parsed': time.struct_time(tm_year=2010, tm_mon=3, tm_mday=25, tm_hour=9, tm_min=6, tm_sec=51, tm_wday=3, tm_yday=84, tm_isdst=0)}]"
      ]
     },
     "execution_count": 22,
     "metadata": {},
     "output_type": "execute_result"
    }
   ],
   "source": [
    "arxiv.query(search_query=\"core shift\")"
   ]
  },
  {
   "cell_type": "code",
   "execution_count": null,
   "metadata": {
    "collapsed": true
   },
   "outputs": [],
   "source": []
  },
  {
   "cell_type": "code",
   "execution_count": null,
   "metadata": {
    "collapsed": true
   },
   "outputs": [],
   "source": []
  },
  {
   "cell_type": "code",
   "execution_count": null,
   "metadata": {
    "collapsed": true
   },
   "outputs": [],
   "source": []
  },
  {
   "cell_type": "code",
   "execution_count": null,
   "metadata": {
    "collapsed": true
   },
   "outputs": [],
   "source": []
  },
  {
   "cell_type": "code",
   "execution_count": 2,
   "metadata": {
    "ExecuteTime": {
     "end_time": "2018-11-07T18:16:02.967408Z",
     "start_time": "2018-11-07T18:16:00.279993Z"
    },
    "collapsed": false
   },
   "outputs": [
    {
     "data": {
      "text/plain": [
       "[{'affiliation': 'None',\n",
       "  'arxiv_comment': '44 pages, editors for the proceedings: Yanling Chen and A. J. Han\\n  Vinck',\n",
       "  'arxiv_primary_category': {'scheme': 'http://arxiv.org/schemas/atom',\n",
       "   'term': 'cs.IT'},\n",
       "  'arxiv_url': 'http://arxiv.org/abs/1707.08567v1',\n",
       "  'author': 'Hirosuke Yamamoto',\n",
       "  'author_detail': {'name': 'Hirosuke Yamamoto'},\n",
       "  'authors': ['Kees A. Schouhamer Immink',\n",
       "   'Stan Baggen',\n",
       "   'Ferdaous Chaabane',\n",
       "   'Yanling Chen',\n",
       "   'Peter H. N. de With',\n",
       "   'Hela Gassara',\n",
       "   'Hamed Gharbi',\n",
       "   'Adel Ghazel',\n",
       "   'Khaled Grati',\n",
       "   'Naira M. Grigoryan',\n",
       "   'Ashot Harutyunyan',\n",
       "   'Masayuki Imanishi',\n",
       "   'Mitsugu Iwamoto',\n",
       "   'Ken-ichi Iwata',\n",
       "   'Hiroshi Kamabe',\n",
       "   'Brian M. Kurkoski',\n",
       "   'Shigeaki Kuzuoka',\n",
       "   'Patrick Langenhuizen',\n",
       "   'Jan Lewandowsky',\n",
       "   'Akiko Manada',\n",
       "   'Shigeki Miyake',\n",
       "   'Hiroyoshi Morita',\n",
       "   'Jun Muramatsu',\n",
       "   'Safa Najjar',\n",
       "   'Arnak V. Poghosyan',\n",
       "   'Fatma Rouissi',\n",
       "   'Yuta Sakai',\n",
       "   'Ulrich Tamm',\n",
       "   'Joost van der Putten',\n",
       "   'Fons van der Sommen',\n",
       "   'A. J. Han Vinck',\n",
       "   'Tadashi Wadayama',\n",
       "   'Dirk Wübben',\n",
       "   'Hirosuke Yamamoto'],\n",
       "  'doi': None,\n",
       "  'guidislink': True,\n",
       "  'id': 'http://arxiv.org/abs/1707.08567v1',\n",
       "  'journal_reference': None,\n",
       "  'links': [{'href': 'http://arxiv.org/abs/1707.08567v1',\n",
       "    'rel': 'alternate',\n",
       "    'type': 'text/html'},\n",
       "   {'href': 'http://arxiv.org/pdf/1707.08567v1',\n",
       "    'rel': 'related',\n",
       "    'title': 'pdf',\n",
       "    'type': 'application/pdf'}],\n",
       "  'pdf_url': 'http://arxiv.org/pdf/1707.08567v1',\n",
       "  'published': '2017-07-27T08:18:33Z',\n",
       "  'published_parsed': time.struct_time(tm_year=2017, tm_mon=7, tm_mday=27, tm_hour=8, tm_min=18, tm_sec=33, tm_wday=3, tm_yday=208, tm_isdst=0),\n",
       "  'summary': 'The 10th Asia-Europe workshop in \"Concepts in Information Theory and\\nCommunications\" AEW10 was held in Boppard, Germany on June 21-23, 2017. It is\\nbased on a longstanding cooperation between Asian and European scientists. The\\nfirst workshop was held in Eindhoven, the Netherlands in 1989. The idea of the\\nworkshop is threefold: 1) to improve the communication between the scientist in\\nthe different parts of the world; 2) to exchange knowledge and ideas; and 3) to\\npay a tribute to a well respected and special scientist.',\n",
       "  'summary_detail': {'base': 'http://export.arxiv.org/api/query?search_query=&id_list=1707.08567%2C1707.08567&start=0&max_results=10',\n",
       "   'language': None,\n",
       "   'type': 'text/plain',\n",
       "   'value': 'The 10th Asia-Europe workshop in \"Concepts in Information Theory and\\nCommunications\" AEW10 was held in Boppard, Germany on June 21-23, 2017. It is\\nbased on a longstanding cooperation between Asian and European scientists. The\\nfirst workshop was held in Eindhoven, the Netherlands in 1989. The idea of the\\nworkshop is threefold: 1) to improve the communication between the scientist in\\nthe different parts of the world; 2) to exchange knowledge and ideas; and 3) to\\npay a tribute to a well respected and special scientist.'},\n",
       "  'tags': [{'label': None,\n",
       "    'scheme': 'http://arxiv.org/schemas/atom',\n",
       "    'term': 'cs.IT'},\n",
       "   {'label': None,\n",
       "    'scheme': 'http://arxiv.org/schemas/atom',\n",
       "    'term': 'math.IT'},\n",
       "   {'label': None,\n",
       "    'scheme': 'http://arxiv.org/schemas/atom',\n",
       "    'term': '68P30, 94A05'}],\n",
       "  'title': 'Proceedings of Workshop AEW10: Concepts in Information Theory and\\n  Communications',\n",
       "  'title_detail': {'base': 'http://export.arxiv.org/api/query?search_query=&id_list=1707.08567%2C1707.08567&start=0&max_results=10',\n",
       "   'language': None,\n",
       "   'type': 'text/plain',\n",
       "   'value': 'Proceedings of Workshop AEW10: Concepts in Information Theory and\\n  Communications'},\n",
       "  'updated': '2017-07-27T08:18:33Z',\n",
       "  'updated_parsed': time.struct_time(tm_year=2017, tm_mon=7, tm_mday=27, tm_hour=8, tm_min=18, tm_sec=33, tm_wday=3, tm_yday=208, tm_isdst=0)},\n",
       " {'affiliation': 'None',\n",
       "  'arxiv_comment': '44 pages, editors for the proceedings: Yanling Chen and A. J. Han\\n  Vinck',\n",
       "  'arxiv_primary_category': {'scheme': 'http://arxiv.org/schemas/atom',\n",
       "   'term': 'cs.IT'},\n",
       "  'arxiv_url': 'http://arxiv.org/abs/1707.08567v1',\n",
       "  'author': 'Hirosuke Yamamoto',\n",
       "  'author_detail': {'name': 'Hirosuke Yamamoto'},\n",
       "  'authors': ['Kees A. Schouhamer Immink',\n",
       "   'Stan Baggen',\n",
       "   'Ferdaous Chaabane',\n",
       "   'Yanling Chen',\n",
       "   'Peter H. N. de With',\n",
       "   'Hela Gassara',\n",
       "   'Hamed Gharbi',\n",
       "   'Adel Ghazel',\n",
       "   'Khaled Grati',\n",
       "   'Naira M. Grigoryan',\n",
       "   'Ashot Harutyunyan',\n",
       "   'Masayuki Imanishi',\n",
       "   'Mitsugu Iwamoto',\n",
       "   'Ken-ichi Iwata',\n",
       "   'Hiroshi Kamabe',\n",
       "   'Brian M. Kurkoski',\n",
       "   'Shigeaki Kuzuoka',\n",
       "   'Patrick Langenhuizen',\n",
       "   'Jan Lewandowsky',\n",
       "   'Akiko Manada',\n",
       "   'Shigeki Miyake',\n",
       "   'Hiroyoshi Morita',\n",
       "   'Jun Muramatsu',\n",
       "   'Safa Najjar',\n",
       "   'Arnak V. Poghosyan',\n",
       "   'Fatma Rouissi',\n",
       "   'Yuta Sakai',\n",
       "   'Ulrich Tamm',\n",
       "   'Joost van der Putten',\n",
       "   'Fons van der Sommen',\n",
       "   'A. J. Han Vinck',\n",
       "   'Tadashi Wadayama',\n",
       "   'Dirk Wübben',\n",
       "   'Hirosuke Yamamoto'],\n",
       "  'doi': None,\n",
       "  'guidislink': True,\n",
       "  'id': 'http://arxiv.org/abs/1707.08567v1',\n",
       "  'journal_reference': None,\n",
       "  'links': [{'href': 'http://arxiv.org/abs/1707.08567v1',\n",
       "    'rel': 'alternate',\n",
       "    'type': 'text/html'},\n",
       "   {'href': 'http://arxiv.org/pdf/1707.08567v1',\n",
       "    'rel': 'related',\n",
       "    'title': 'pdf',\n",
       "    'type': 'application/pdf'}],\n",
       "  'pdf_url': 'http://arxiv.org/pdf/1707.08567v1',\n",
       "  'published': '2017-07-27T08:18:33Z',\n",
       "  'published_parsed': time.struct_time(tm_year=2017, tm_mon=7, tm_mday=27, tm_hour=8, tm_min=18, tm_sec=33, tm_wday=3, tm_yday=208, tm_isdst=0),\n",
       "  'summary': 'The 10th Asia-Europe workshop in \"Concepts in Information Theory and\\nCommunications\" AEW10 was held in Boppard, Germany on June 21-23, 2017. It is\\nbased on a longstanding cooperation between Asian and European scientists. The\\nfirst workshop was held in Eindhoven, the Netherlands in 1989. The idea of the\\nworkshop is threefold: 1) to improve the communication between the scientist in\\nthe different parts of the world; 2) to exchange knowledge and ideas; and 3) to\\npay a tribute to a well respected and special scientist.',\n",
       "  'summary_detail': {'base': 'http://export.arxiv.org/api/query?search_query=&id_list=1707.08567%2C1707.08567&start=0&max_results=10',\n",
       "   'language': None,\n",
       "   'type': 'text/plain',\n",
       "   'value': 'The 10th Asia-Europe workshop in \"Concepts in Information Theory and\\nCommunications\" AEW10 was held in Boppard, Germany on June 21-23, 2017. It is\\nbased on a longstanding cooperation between Asian and European scientists. The\\nfirst workshop was held in Eindhoven, the Netherlands in 1989. The idea of the\\nworkshop is threefold: 1) to improve the communication between the scientist in\\nthe different parts of the world; 2) to exchange knowledge and ideas; and 3) to\\npay a tribute to a well respected and special scientist.'},\n",
       "  'tags': [{'label': None,\n",
       "    'scheme': 'http://arxiv.org/schemas/atom',\n",
       "    'term': 'cs.IT'},\n",
       "   {'label': None,\n",
       "    'scheme': 'http://arxiv.org/schemas/atom',\n",
       "    'term': 'math.IT'},\n",
       "   {'label': None,\n",
       "    'scheme': 'http://arxiv.org/schemas/atom',\n",
       "    'term': '68P30, 94A05'}],\n",
       "  'title': 'Proceedings of Workshop AEW10: Concepts in Information Theory and\\n  Communications',\n",
       "  'title_detail': {'base': 'http://export.arxiv.org/api/query?search_query=&id_list=1707.08567%2C1707.08567&start=0&max_results=10',\n",
       "   'language': None,\n",
       "   'type': 'text/plain',\n",
       "   'value': 'Proceedings of Workshop AEW10: Concepts in Information Theory and\\n  Communications'},\n",
       "  'updated': '2017-07-27T08:18:33Z',\n",
       "  'updated_parsed': time.struct_time(tm_year=2017, tm_mon=7, tm_mday=27, tm_hour=8, tm_min=18, tm_sec=33, tm_wday=3, tm_yday=208, tm_isdst=0)}]"
      ]
     },
     "execution_count": 2,
     "metadata": {},
     "output_type": "execute_result"
    }
   ],
   "source": [
    "import arxiv\n",
    "# Keyword search\n",
    "arxiv.query(search_query=\"quantum\")\n",
    "# Get single record by ID\n",
    "arxiv.query(id_list=[\"1707.08567\"])\n",
    "# Get multiple records by ID\n",
    "arxiv.query(id_list=[\"1707.08567\", \"1707.08567\"])"
   ]
  },
  {
   "cell_type": "code",
   "execution_count": 15,
   "metadata": {
    "ExecuteTime": {
     "end_time": "2018-11-07T18:22:02.390840Z",
     "start_time": "2018-11-07T18:21:55.240106Z"
    },
    "collapsed": false,
    "scrolled": true
   },
   "outputs": [
    {
     "ename": "FileNotFoundError",
     "evalue": "[Errno 2] No such file or directory: './The Radio/Gamma Connection of Blazars from High to Low Radio Frequencies.pdf'",
     "output_type": "error",
     "traceback": [
      "\u001b[0;31m---------------------------------------------------------------------------\u001b[0m",
      "\u001b[0;31mFileNotFoundError\u001b[0m                         Traceback (most recent call last)",
      "\u001b[0;32m<ipython-input-15-8299d1e519cb>\u001b[0m in \u001b[0;36m<module>\u001b[0;34m()\u001b[0m\n\u001b[1;32m      2\u001b[0m \u001b[0;31m# Query for a paper of interest, then download\u001b[0m\u001b[0;34m\u001b[0m\u001b[0;34m\u001b[0m\u001b[0m\n\u001b[1;32m      3\u001b[0m \u001b[0mpaper\u001b[0m \u001b[0;34m=\u001b[0m \u001b[0marxiv\u001b[0m\u001b[0;34m.\u001b[0m\u001b[0mquery\u001b[0m\u001b[0;34m(\u001b[0m\u001b[0mid_list\u001b[0m\u001b[0;34m=\u001b[0m\u001b[0;34m[\u001b[0m\u001b[0;34m\"1811.02127\"\u001b[0m\u001b[0;34m]\u001b[0m\u001b[0;34m)\u001b[0m\u001b[0;34m[\u001b[0m\u001b[0;36m0\u001b[0m\u001b[0;34m]\u001b[0m\u001b[0;34m\u001b[0m\u001b[0m\n\u001b[0;32m----> 4\u001b[0;31m \u001b[0marxiv\u001b[0m\u001b[0;34m.\u001b[0m\u001b[0mdownload\u001b[0m\u001b[0;34m(\u001b[0m\u001b[0mpaper\u001b[0m\u001b[0;34m)\u001b[0m\u001b[0;34m\u001b[0m\u001b[0m\n\u001b[0m\u001b[1;32m      5\u001b[0m \u001b[0;31m# You can skip the query step if you have the paper info!\u001b[0m\u001b[0;34m\u001b[0m\u001b[0;34m\u001b[0m\u001b[0m\n",
      "\u001b[0;32m/Users/brettlv/anaconda3/lib/python3.6/site-packages/arxiv/arxiv.py\u001b[0m in \u001b[0;36mdownload\u001b[0;34m(obj, dirname, prepend_id, slugify)\u001b[0m\n\u001b[1;32m    103\u001b[0m         \u001b[0mfilename\u001b[0m \u001b[0;34m=\u001b[0m \u001b[0mdirname\u001b[0m \u001b[0;34m+\u001b[0m \u001b[0mfilename\u001b[0m \u001b[0;34m+\u001b[0m \u001b[0;34m'.pdf'\u001b[0m\u001b[0;34m\u001b[0m\u001b[0m\n\u001b[1;32m    104\u001b[0m         \u001b[0;31m# Download\u001b[0m\u001b[0;34m\u001b[0m\u001b[0;34m\u001b[0m\u001b[0m\n\u001b[0;32m--> 105\u001b[0;31m         \u001b[0murlretrieve\u001b[0m\u001b[0;34m(\u001b[0m\u001b[0mobj\u001b[0m\u001b[0;34m[\u001b[0m\u001b[0;34m'pdf_url'\u001b[0m\u001b[0;34m]\u001b[0m\u001b[0;34m,\u001b[0m \u001b[0mfilename\u001b[0m\u001b[0;34m)\u001b[0m\u001b[0;34m\u001b[0m\u001b[0m\n\u001b[0m\u001b[1;32m    106\u001b[0m         \u001b[0;32mreturn\u001b[0m \u001b[0mfilename\u001b[0m\u001b[0;34m\u001b[0m\u001b[0m\n\u001b[1;32m    107\u001b[0m     \u001b[0;32melse\u001b[0m\u001b[0;34m:\u001b[0m\u001b[0;34m\u001b[0m\u001b[0m\n",
      "\u001b[0;32m/Users/brettlv/anaconda3/lib/python3.6/urllib/request.py\u001b[0m in \u001b[0;36murlretrieve\u001b[0;34m(url, filename, reporthook, data)\u001b[0m\n\u001b[1;32m    256\u001b[0m         \u001b[0;31m# Handle temporary file setup.\u001b[0m\u001b[0;34m\u001b[0m\u001b[0;34m\u001b[0m\u001b[0m\n\u001b[1;32m    257\u001b[0m         \u001b[0;32mif\u001b[0m \u001b[0mfilename\u001b[0m\u001b[0;34m:\u001b[0m\u001b[0;34m\u001b[0m\u001b[0m\n\u001b[0;32m--> 258\u001b[0;31m             \u001b[0mtfp\u001b[0m \u001b[0;34m=\u001b[0m \u001b[0mopen\u001b[0m\u001b[0;34m(\u001b[0m\u001b[0mfilename\u001b[0m\u001b[0;34m,\u001b[0m \u001b[0;34m'wb'\u001b[0m\u001b[0;34m)\u001b[0m\u001b[0;34m\u001b[0m\u001b[0m\n\u001b[0m\u001b[1;32m    259\u001b[0m         \u001b[0;32melse\u001b[0m\u001b[0;34m:\u001b[0m\u001b[0;34m\u001b[0m\u001b[0m\n\u001b[1;32m    260\u001b[0m             \u001b[0mtfp\u001b[0m \u001b[0;34m=\u001b[0m \u001b[0mtempfile\u001b[0m\u001b[0;34m.\u001b[0m\u001b[0mNamedTemporaryFile\u001b[0m\u001b[0;34m(\u001b[0m\u001b[0mdelete\u001b[0m\u001b[0;34m=\u001b[0m\u001b[0;32mFalse\u001b[0m\u001b[0;34m)\u001b[0m\u001b[0;34m\u001b[0m\u001b[0m\n",
      "\u001b[0;31mFileNotFoundError\u001b[0m: [Errno 2] No such file or directory: './The Radio/Gamma Connection of Blazars from High to Low Radio Frequencies.pdf'"
     ]
    }
   ],
   "source": [
    "import arxiv\n",
    "# Query for a paper of interest, then download\n",
    "paper = arxiv.query(id_list=[\"1811.02127\"])[0]\n",
    "arxiv.download(paper)\n",
    "# You can skip the query step if you have the paper info!\n"
   ]
  },
  {
   "cell_type": "code",
   "execution_count": 23,
   "metadata": {
    "ExecuteTime": {
     "end_time": "2018-11-07T18:42:37.360140Z",
     "start_time": "2018-11-07T18:40:45.391340Z"
    },
    "collapsed": false
   },
   "outputs": [
    {
     "data": {
      "text/plain": [
       "'./Significant core shift variability in parsec-scale jets of active\\n  galactic nuclei.pdf'"
      ]
     },
     "execution_count": 23,
     "metadata": {},
     "output_type": "execute_result"
    }
   ],
   "source": [
    "#1811.02544 core shift\n",
    "\n",
    "paper = arxiv.query(id_list=[\"1811.02544\"])[0]\n",
    "arxiv.download(paper)"
   ]
  },
  {
   "cell_type": "code",
   "execution_count": null,
   "metadata": {
    "collapsed": true
   },
   "outputs": [],
   "source": []
  },
  {
   "cell_type": "code",
   "execution_count": 17,
   "metadata": {
    "ExecuteTime": {
     "end_time": "2018-11-07T18:24:24.787100Z",
     "start_time": "2018-11-07T18:23:59.240606Z"
    },
    "collapsed": false
   },
   "outputs": [
    {
     "data": {
      "text/plain": [
       "'./Proceedings of Workshop AEW10: Concepts in Information Theory and\\n  Communications.pdf'"
      ]
     },
     "execution_count": 17,
     "metadata": {},
     "output_type": "execute_result"
    }
   ],
   "source": [
    "paper = arxiv.query(id_list=[\"1707.08567\"])[0]\n",
    "arxiv.download(paper)"
   ]
  },
  {
   "cell_type": "code",
   "execution_count": 11,
   "metadata": {
    "ExecuteTime": {
     "end_time": "2018-11-07T18:21:11.043916Z",
     "start_time": "2018-11-07T18:20:52.084208Z"
    },
    "collapsed": false
   },
   "outputs": [
    {
     "data": {
      "text/plain": [
       "'./ThePaperTitle.pdf'"
      ]
     },
     "execution_count": 11,
     "metadata": {},
     "output_type": "execute_result"
    }
   ],
   "source": [
    "paper2 = {\"pdf_url\": \"http://arxiv.org/pdf/1707.08567v1\",\"title\": \"ThePaperTitle\"}\n",
    "arxiv.download(paper2)"
   ]
  },
  {
   "cell_type": "code",
   "execution_count": 12,
   "metadata": {
    "ExecuteTime": {
     "end_time": "2018-11-07T18:21:22.238280Z",
     "start_time": "2018-11-07T18:21:22.099207Z"
    },
    "collapsed": false
   },
   "outputs": [
    {
     "name": "stdout",
     "output_type": "stream",
     "text": [
      "ThePaperTitle.pdf\r\n"
     ]
    }
   ],
   "source": [
    "ls The*"
   ]
  },
  {
   "cell_type": "code",
   "execution_count": 18,
   "metadata": {
    "ExecuteTime": {
     "end_time": "2018-11-07T18:27:49.065674Z",
     "start_time": "2018-11-07T18:27:48.931512Z"
    },
    "collapsed": false
   },
   "outputs": [
    {
     "name": "stdout",
     "output_type": "stream",
     "text": [
      "Proceedings of Workshop AEW10: Concepts in Information Theory and?  Communications.pdf\r\n"
     ]
    }
   ],
   "source": [
    "ls Pro*"
   ]
  },
  {
   "cell_type": "code",
   "execution_count": null,
   "metadata": {
    "ExecuteTime": {
     "end_time": "2018-11-07T18:20:21.957635Z",
     "start_time": "2018-11-07T18:20:21.828423Z"
    },
    "collapsed": false
   },
   "outputs": [],
   "source": []
  },
  {
   "cell_type": "code",
   "execution_count": null,
   "metadata": {
    "collapsed": true
   },
   "outputs": [],
   "source": []
  }
 ],
 "metadata": {
  "kernelspec": {
   "display_name": "Python 3",
   "language": "python",
   "name": "python3"
  },
  "language_info": {
   "codemirror_mode": {
    "name": "ipython",
    "version": 3
   },
   "file_extension": ".py",
   "mimetype": "text/x-python",
   "name": "python",
   "nbconvert_exporter": "python",
   "pygments_lexer": "ipython3",
   "version": "3.6.0"
  },
  "latex_envs": {
   "LaTeX_envs_menu_present": true,
   "autocomplete": true,
   "bibliofile": "biblio.bib",
   "cite_by": "apalike",
   "current_citInitial": 1,
   "eqLabelWithNumbers": true,
   "eqNumInitial": 1,
   "hotkeys": {
    "equation": "Ctrl-E",
    "itemize": "Ctrl-I"
   },
   "labels_anchors": false,
   "latex_user_defs": false,
   "report_style_numbering": false,
   "user_envs_cfg": false
  },
  "toc": {
   "nav_menu": {},
   "number_sections": true,
   "sideBar": true,
   "skip_h1_title": false,
   "toc_cell": false,
   "toc_position": {},
   "toc_section_display": "block",
   "toc_window_display": false
  }
 },
 "nbformat": 4,
 "nbformat_minor": 2
}
