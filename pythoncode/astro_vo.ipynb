{
 "cells": [
  {
   "cell_type": "code",
   "execution_count": 1,
   "metadata": {
    "collapsed": true
   },
   "outputs": [],
   "source": [
    "from astropy.vo.client import conesearch\n"
   ]
  },
  {
   "cell_type": "code",
   "execution_count": 2,
   "metadata": {
    "collapsed": false
   },
   "outputs": [
    {
     "name": "stdout",
     "output_type": "stream",
     "text": [
      "Downloading http://stsdas.stsci.edu/astrolib/vo_databases/conesearch_good.json [Done]\n"
     ]
    },
    {
     "data": {
      "text/plain": [
       "['SDSS DR7 - Sloan Digital Sky Survey Data Release 7 1',\n",
       " 'SDSS DR7 - Sloan Digital Sky Survey Data Release 7 2',\n",
       " 'SDSS DR7 - Sloan Digital Sky Survey Data Release 7 3',\n",
       " 'SDSS DR7 - Sloan Digital Sky Survey Data Release 7 4',\n",
       " 'SDSS DR8 - Sloan Digital Sky Survey Data Release 8 2',\n",
       " 'The HST Guide Star Catalog, Version 1.1 (Lasker+ 1992) 1',\n",
       " 'The HST Guide Star Catalog, Version 1.2 (Lasker+ 1996) 1',\n",
       " 'The HST Guide Star Catalog, Version GSC-ACT (Lasker+ 1996-99) 1',\n",
       " 'The PMM USNO-A1.0 Catalogue (Monet 1997) 1',\n",
       " 'The USNO-A2.0 Catalogue (Monet+ 1998) 1',\n",
       " 'Two Micron All Sky Survey (2MASS) 1',\n",
       " 'Two Micron All Sky Survey (2MASS) 2',\n",
       " 'USNO-A2 Catalogue 1']"
      ]
     },
     "execution_count": 2,
     "metadata": {},
     "output_type": "execute_result"
    }
   ],
   "source": [
    "conesearch.list_catalogs()"
   ]
  },
  {
   "cell_type": "code",
   "execution_count": 7,
   "metadata": {
    "collapsed": true
   },
   "outputs": [],
   "source": [
    "my_catname =  'Two Micron All Sky Survey (2MASS) 1'"
   ]
  },
  {
   "cell_type": "code",
   "execution_count": 4,
   "metadata": {
    "collapsed": true
   },
   "outputs": [],
   "source": [
    "from astropy.coordinates import SkyCoord\n",
    "from astropy import units as u\n",
    "c=SkyCoord.from_name('M87')"
   ]
  },
  {
   "cell_type": "code",
   "execution_count": 5,
   "metadata": {
    "collapsed": false
   },
   "outputs": [
    {
     "data": {
      "text/plain": [
       "<SkyCoord (ICRS): (ra, dec) in deg\n",
       "    ( 187.7059304,  12.3911231)>"
      ]
     },
     "execution_count": 5,
     "metadata": {},
     "output_type": "execute_result"
    }
   ],
   "source": [
    "c"
   ]
  },
  {
   "cell_type": "code",
   "execution_count": 8,
   "metadata": {
    "collapsed": false
   },
   "outputs": [
    {
     "name": "stdout",
     "output_type": "stream",
     "text": [
      "Trying http://wfaudata.roe.ac.uk/twomass-dsa/DirectCone?DSACAT=TWOMASS&DSATAB=twomass_psc&\n",
      "Downloading http://wfaudata.roe.ac.uk/twomass-dsa/DirectCone?DSACAT=TWOMASS&DSATAB=twomass_psc&RA=187.7059304&DEC=12.3911231&SR=0.1&VERB=1 [Done]\n"
     ]
    },
    {
     "name": "stderr",
     "output_type": "stream",
     "text": [
      "WARNING: W06: http://wfaudata.roe.ac.uk/twomass-dsa/DirectCone?DSACAT=TWOMASS&DSATAB=twomass_psc&RA=187.7059304&DEC=12.3911231&SR=0.1&VERB=1:39:0: W06: Invalid UCD '??': UCD has invalid character '?' in '??' [astropy.io.votable.tree]\n",
      "WARNING: W50: http://wfaudata.roe.ac.uk/twomass-dsa/DirectCone?DSACAT=TWOMASS&DSATAB=twomass_psc&RA=187.7059304&DEC=12.3911231&SR=0.1&VERB=1:114:0: W50: Invalid unit string 'yyyy-mm-dd' [astropy.io.votable.tree]\n",
      "WARNING: W50: http://wfaudata.roe.ac.uk/twomass-dsa/DirectCone?DSACAT=TWOMASS&DSATAB=twomass_psc&RA=187.7059304&DEC=12.3911231&SR=0.1&VERB=1:129:0: W50: Invalid unit string 'Julian days' [astropy.io.votable.tree]\n"
     ]
    }
   ],
   "source": [
    "result=conesearch.conesearch(c,0.1*u.degree,catalog_db=my_catname)"
   ]
  },
  {
   "cell_type": "code",
   "execution_count": 9,
   "metadata": {
    "collapsed": false
   },
   "outputs": [
    {
     "data": {
      "text/plain": [
       "<Table masked=True length=45>\n",
       "         cx                   cy          ... coadd_key coadd\n",
       "                                          ...                \n",
       "      float64              float64        ...   int32   int16\n",
       "-------------------- -------------------- ... --------- -----\n",
       "-0.96752405012499998 -0.13225488580600001 ...   1058049    32\n",
       "-0.96798267762699997 -0.12957758330399999 ...   1058003    32\n",
       "-0.96798780107100002      -0.130210651658 ...   1058044   244\n",
       "-0.96801960340100002      -0.130657912525 ...   1058044   244\n",
       "-0.96752981657799997 -0.13104524366299999 ...   1058044   244\n",
       "-0.96790234255999996 -0.13086372489600001 ...   1058044   244\n",
       "-0.96810785380499997 -0.13161848299199999 ...   1058045   256\n",
       "-0.96800767707299995 -0.13083586912799999 ...   1058044   244\n",
       "-0.96795416396800005      -0.131345800683 ...   1058044   244\n",
       "                 ...                  ... ...       ...   ...\n",
       "-0.96788028991999997 -0.13094582289500001 ...   1058044   244\n",
       "     -0.967885366681 -0.13096548357900001 ...   1058044   244\n",
       "-0.96771793065199996 -0.13129874606799999 ...   1058044   244\n",
       "-0.96780934850900002       -0.13055900029 ...   1058044   244\n",
       "-0.96772186470800003 -0.13052964018400001 ...   1058044   244\n",
       "-0.96783600358499999      -0.130710410148 ...   1058044   244\n",
       "-0.96805237070600003      -0.130242387343 ...   1058044   244\n",
       "     -0.967863229637 -0.12959371416500001 ...   1058003    32\n",
       "-0.96804767551000004      -0.130173844953 ...   1058044   244\n",
       "-0.96806551757600001      -0.130507817109 ...   1058044   244"
      ]
     },
     "execution_count": 9,
     "metadata": {},
     "output_type": "execute_result"
    }
   ],
   "source": [
    "result"
   ]
  },
  {
   "cell_type": "code",
   "execution_count": 10,
   "metadata": {
    "collapsed": false
   },
   "outputs": [
    {
     "data": {
      "text/plain": [
       "'http://wfaudata.roe.ac.uk/twomass-dsa/DirectCone?DSACAT=TWOMASS&DSATAB=twomass_psc&'"
      ]
     },
     "execution_count": 10,
     "metadata": {},
     "output_type": "execute_result"
    }
   ],
   "source": [
    "result.url"
   ]
  },
  {
   "cell_type": "code",
   "execution_count": 11,
   "metadata": {
    "collapsed": false
   },
   "outputs": [
    {
     "data": {
      "text/plain": [
       "45"
      ]
     },
     "execution_count": 11,
     "metadata": {},
     "output_type": "execute_result"
    }
   ],
   "source": [
    "result.array.size"
   ]
  },
  {
   "cell_type": "code",
   "execution_count": 14,
   "metadata": {
    "collapsed": false
   },
   "outputs": [
    {
     "data": {
      "text/plain": [
       "('cx',\n",
       " 'cy',\n",
       " 'cz',\n",
       " 'htmID',\n",
       " 'ra',\n",
       " 'dec',\n",
       " 'err_maj',\n",
       " 'err_min',\n",
       " 'err_ang',\n",
       " 'designation',\n",
       " 'j_m',\n",
       " 'j_cmsig',\n",
       " 'j_msigcom',\n",
       " 'j_snr',\n",
       " 'h_m',\n",
       " 'h_cmsig',\n",
       " 'h_msigcom',\n",
       " 'h_snr',\n",
       " 'k_m',\n",
       " 'k_cmsig',\n",
       " 'k_msigcom',\n",
       " 'k_snr',\n",
       " 'ph_qual',\n",
       " 'rd_flg',\n",
       " 'bl_flg',\n",
       " 'cc_flg',\n",
       " 'ndet',\n",
       " 'prox',\n",
       " 'pxpa',\n",
       " 'pxcntr',\n",
       " 'gal_contam',\n",
       " 'mp_flg',\n",
       " 'pts_key',\n",
       " 'hemis',\n",
       " 'date',\n",
       " 'scan',\n",
       " 'glon',\n",
       " 'glat',\n",
       " 'x_scan',\n",
       " 'jdate',\n",
       " 'j_psfchi',\n",
       " 'h_psfchi',\n",
       " 'k_psfchi',\n",
       " 'j_m_stdap',\n",
       " 'j_msig_stdap',\n",
       " 'h_m_stdap',\n",
       " 'h_msig_stdap',\n",
       " 'k_m_stdap',\n",
       " 'k_msig_stdap',\n",
       " 'dist_edge_ns',\n",
       " 'dist_edge_ew',\n",
       " 'dist_edge_flg',\n",
       " 'dup_src',\n",
       " 'use_src',\n",
       " 'a',\n",
       " 'dist_opt',\n",
       " 'phi_opt',\n",
       " 'b_m_opt',\n",
       " 'vr_m_opt',\n",
       " 'nopt_mchs',\n",
       " 'ext_key',\n",
       " 'scan_key',\n",
       " 'coadd_key',\n",
       " 'coadd')"
      ]
     },
     "execution_count": 14,
     "metadata": {},
     "output_type": "execute_result"
    }
   ],
   "source": [
    "result.array.dtype.names"
   ]
  },
  {
   "cell_type": "code",
   "execution_count": 15,
   "metadata": {
    "collapsed": false
   },
   "outputs": [
    {
     "data": {
      "text/plain": [
       "masked_array(data = [187.783757 187.624489 187.661258 187.68701 187.71338 187.699895 187.742143\n",
       " 187.697448 187.727509 187.707157 187.675156 187.739111 187.740577\n",
       " 187.700959 187.703894 187.757318 187.717447 187.737184 187.766371\n",
       " 187.636127 187.675039 187.648883 187.646992 187.738857 187.724705\n",
       " 187.677316 187.70858 187.612179 187.704516 187.790967 187.702631\n",
       " 187.706712 187.742822 187.603973 187.625335 187.704841 187.705944\n",
       " 187.726637 187.682909 187.681888 187.691503 187.662598 187.626357\n",
       " 187.65865 187.677925],\n",
       "             mask = [False False False False False False False False False False False False\n",
       " False False False False False False False False False False False False\n",
       " False False False False False False False False False False False False\n",
       " False False False False False False False False False],\n",
       "       fill_value = 1e+20)"
      ]
     },
     "execution_count": 15,
     "metadata": {},
     "output_type": "execute_result"
    }
   ],
   "source": [
    "result.array['ra']"
   ]
  },
  {
   "cell_type": "code",
   "execution_count": 16,
   "metadata": {
    "collapsed": false
   },
   "outputs": [
    {
     "data": {
      "text/plain": [
       "masked_array(data = [12.44018 12.414734 12.390919 12.366532 12.481969 12.390227 12.308505\n",
       " 12.363321 12.359198 12.292777 12.440716 12.429049 12.471658 12.387672\n",
       " 12.486702 12.365276 12.330349 12.423961 12.424511 12.334184 12.318563\n",
       " 12.449304 12.332173 12.37373 12.459682 12.456325 12.450936 12.429056\n",
       " 12.419636 12.412075 12.392244 12.397969 12.378076 12.397241 12.374756\n",
       " 12.393124 12.391077 12.42339 12.425676 12.449784 12.413243 12.372689\n",
       " 12.445678 12.376376 12.359725],\n",
       "             mask = [False False False False False False False False False False False False\n",
       " False False False False False False False False False False False False\n",
       " False False False False False False False False False False False False\n",
       " False False False False False False False False False],\n",
       "       fill_value = 1e+20)"
      ]
     },
     "execution_count": 16,
     "metadata": {},
     "output_type": "execute_result"
    }
   ],
   "source": [
    "result.array['dec']"
   ]
  },
  {
   "cell_type": "code",
   "execution_count": 17,
   "metadata": {
    "collapsed": true
   },
   "outputs": [],
   "source": [
    "from astropy.vo.client.vos_catalog import VOSCatalog,VOSDatabase\n"
   ]
  },
  {
   "cell_type": "code",
   "execution_count": null,
   "metadata": {
    "collapsed": true
   },
   "outputs": [],
   "source": []
  },
  {
   "cell_type": "code",
   "execution_count": null,
   "metadata": {
    "collapsed": true
   },
   "outputs": [],
   "source": []
  },
  {
   "cell_type": "code",
   "execution_count": null,
   "metadata": {
    "collapsed": true
   },
   "outputs": [],
   "source": []
  },
  {
   "cell_type": "code",
   "execution_count": null,
   "metadata": {
    "collapsed": true
   },
   "outputs": [],
   "source": []
  },
  {
   "cell_type": "code",
   "execution_count": null,
   "metadata": {
    "collapsed": true
   },
   "outputs": [],
   "source": []
  },
  {
   "cell_type": "code",
   "execution_count": null,
   "metadata": {
    "collapsed": true
   },
   "outputs": [],
   "source": []
  },
  {
   "cell_type": "code",
   "execution_count": null,
   "metadata": {
    "collapsed": true
   },
   "outputs": [],
   "source": []
  },
  {
   "cell_type": "code",
   "execution_count": null,
   "metadata": {
    "collapsed": true
   },
   "outputs": [],
   "source": []
  },
  {
   "cell_type": "code",
   "execution_count": null,
   "metadata": {
    "collapsed": true
   },
   "outputs": [],
   "source": []
  },
  {
   "cell_type": "code",
   "execution_count": null,
   "metadata": {
    "collapsed": true
   },
   "outputs": [],
   "source": []
  },
  {
   "cell_type": "code",
   "execution_count": null,
   "metadata": {
    "collapsed": true
   },
   "outputs": [],
   "source": []
  },
  {
   "cell_type": "code",
   "execution_count": null,
   "metadata": {
    "collapsed": true
   },
   "outputs": [],
   "source": []
  },
  {
   "cell_type": "code",
   "execution_count": null,
   "metadata": {
    "collapsed": true
   },
   "outputs": [],
   "source": []
  },
  {
   "cell_type": "code",
   "execution_count": null,
   "metadata": {
    "collapsed": true
   },
   "outputs": [],
   "source": []
  },
  {
   "cell_type": "code",
   "execution_count": null,
   "metadata": {
    "collapsed": true
   },
   "outputs": [],
   "source": []
  }
 ],
 "metadata": {
  "kernelspec": {
   "display_name": "Python 3",
   "language": "python",
   "name": "python3"
  },
  "language_info": {
   "codemirror_mode": {
    "name": "ipython",
    "version": 3
   },
   "file_extension": ".py",
   "mimetype": "text/x-python",
   "name": "python",
   "nbconvert_exporter": "python",
   "pygments_lexer": "ipython3",
   "version": "3.6.0"
  }
 },
 "nbformat": 4,
 "nbformat_minor": 2
}
