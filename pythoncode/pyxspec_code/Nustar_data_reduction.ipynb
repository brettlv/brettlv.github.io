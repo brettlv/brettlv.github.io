{
 "cells": [
  {
   "cell_type": "markdown",
   "metadata": {},
   "source": [
    "Initialization in a new Terminal:"
   ]
  },
  {
   "cell_type": "code",
   "execution_count": null,
   "metadata": {
    "collapsed": true
   },
   "outputs": [],
   "source": [
    "export HEADAS=/Users/brettlv/src_heasoft/heasoft-6.22.1/x86_64-apple-darwin16.7.0/\n",
    ". $HEADAS/headas-init.sh\n",
    "source /Users/brettlv/src_heasoft/heasoft-6.22.1/CALDB/software/tools/caldbinit.sh"
   ]
  },
  {
   "cell_type": "code",
   "execution_count": null,
   "metadata": {
    "collapsed": true
   },
   "outputs": [],
   "source": [
    "#CygA\n",
    "punlearn nupipeline\n",
    "nupipeline instrument=all indir=/Users/brettlv/src_heasoft/nustar_data/60001083002 outdir=./pipeline_out steminputs=nu60001083002 obsmode=SCIENCE stemoutputs=CygA createexpomap=yes exitstage=2\n",
    "\n",
    "ds9 ./pipeline_out/CygAA01_cl.evt  &\n",
    "#select and save src and bkg reg in ./pipeline_out/\n",
    "src.reg\n",
    "bkg.reg\n",
    "\n",
    "nuproducts indir=./pipeline_out instrument=FPMA steminputs=CygA outdir=./grp_pipeline_products srcregionfile=./pipeline_out/src.reg bkgregionfile=./pipeline_out/bkg.reg rungrppha=yes grpmincounts=30 grppibadlow=35 grppibadhigh=1909 binsize=1000"
   ]
  },
  {
   "cell_type": "code",
   "execution_count": null,
   "metadata": {
    "collapsed": true
   },
   "outputs": [],
   "source": [
    "#1H0707-495\n",
    "punlearn nupipeline\n",
    "nupipeline instrument=all indir=/Users/brettlv/src_heasoft/nustar_data/60001102002 outdir=./pipeline_out steminputs=nu60001102002 obsmode=SCIENCE stemoutputs=1H0707-495 createexpomap=yes exitstage=2\n",
    "\n",
    "ds9 ./pipeline_out/1H0707-495A01_cl.evt  &\n",
    "#select and save src and bkg reg in ./pipeline_out/\n",
    "src.reg\n",
    "bkg.reg\n",
    "\n",
    "nuproducts indir=./pipeline_out instrument=FPMA steminputs=1H0707-495 outdir=./grp_pipeline_products srcregionfile=./pipeline_out/src.reg bkgregionfile=./pipeline_out/bkg.reg rungrppha=yes grpmincounts=30 grppibadlow=35 grppibadhigh=1909 binsize=1000"
   ]
  },
  {
   "cell_type": "code",
   "execution_count": null,
   "metadata": {
    "collapsed": true
   },
   "outputs": [],
   "source": []
  },
  {
   "cell_type": "code",
   "execution_count": null,
   "metadata": {
    "collapsed": true
   },
   "outputs": [],
   "source": []
  },
  {
   "cell_type": "code",
   "execution_count": null,
   "metadata": {
    "collapsed": true
   },
   "outputs": [],
   "source": []
  },
  {
   "cell_type": "code",
   "execution_count": null,
   "metadata": {
    "collapsed": true
   },
   "outputs": [],
   "source": []
  }
 ],
 "metadata": {
  "kernelspec": {
   "display_name": "Python 3",
   "language": "python",
   "name": "python3"
  },
  "language_info": {
   "codemirror_mode": {
    "name": "ipython",
    "version": 3
   },
   "file_extension": ".py",
   "mimetype": "text/x-python",
   "name": "python",
   "nbconvert_exporter": "python",
   "pygments_lexer": "ipython3",
   "version": "3.6.0"
  },
  "latex_envs": {
   "LaTeX_envs_menu_present": true,
   "autocomplete": true,
   "bibliofile": "biblio.bib",
   "cite_by": "apalike",
   "current_citInitial": 1,
   "eqLabelWithNumbers": true,
   "eqNumInitial": 1,
   "hotkeys": {
    "equation": "Ctrl-E",
    "itemize": "Ctrl-I"
   },
   "labels_anchors": false,
   "latex_user_defs": false,
   "report_style_numbering": false,
   "user_envs_cfg": false
  },
  "toc": {
   "nav_menu": {},
   "number_sections": true,
   "sideBar": true,
   "skip_h1_title": false,
   "toc_cell": false,
   "toc_position": {},
   "toc_section_display": "block",
   "toc_window_display": false
  }
 },
 "nbformat": 4,
 "nbformat_minor": 2
}
