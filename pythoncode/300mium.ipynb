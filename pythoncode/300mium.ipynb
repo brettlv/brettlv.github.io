{
 "cells": [
  {
   "cell_type": "code",
   "execution_count": 1,
   "metadata": {
    "ExecuteTime": {
     "end_time": "2019-12-21T21:07:45.570653Z",
     "start_time": "2019-12-21T21:07:43.340444Z"
    },
    "collapsed": true
   },
   "outputs": [],
   "source": [
    "from lxml.html import parse\n",
    "from urllib.request import urlopen\n",
    "from pandas.io.parsers import TextParser\n",
    "from pandas import Series\n",
    "import urllib,requests\n",
    "import pandas as pd\n",
    "from bs4 import BeautifulSoup"
   ]
  },
  {
   "cell_type": "code",
   "execution_count": 2,
   "metadata": {
    "ExecuteTime": {
     "end_time": "2019-12-21T21:07:55.435412Z",
     "start_time": "2019-12-21T21:07:55.432073Z"
    },
    "collapsed": true
   },
   "outputs": [],
   "source": [
    "root_url='https://www.jipinfanhao.com/300mium/'\n",
    "#urls_lists=[]"
   ]
  },
  {
   "cell_type": "code",
   "execution_count": 3,
   "metadata": {
    "ExecuteTime": {
     "end_time": "2019-12-21T21:10:11.818696Z",
     "start_time": "2019-12-21T21:10:11.162837Z"
    },
    "collapsed": true
   },
   "outputs": [],
   "source": [
    "import os\n",
    "\n",
    "data_download_path='/Volumes/Seagate_Backup_Plus_Drive_Lvb/backupmac/300mium'\n",
    "os.mkdir(data_download_path)"
   ]
  },
  {
   "cell_type": "code",
   "execution_count": 6,
   "metadata": {
    "ExecuteTime": {
     "end_time": "2019-12-21T21:15:17.867248Z",
     "start_time": "2019-12-21T21:12:34.461052Z"
    },
    "collapsed": false
   },
   "outputs": [
    {
     "name": "stdout",
     "output_type": "stream",
     "text": [
      "\n",
      "\n",
      "\n",
      "\n",
      "\n",
      "https://www.jipinfanhao.com/300mium/300mium-487/\n",
      "https://www.jipinfanhao.com/300mium/300mium-482/\n",
      "https://www.jipinfanhao.com/300mium/300mium-491/\n",
      "https://www.jipinfanhao.com/300mium/300mium-484/\n",
      "https://www.jipinfanhao.com/300mium/300mium-456/\n",
      "https://www.jipinfanhao.com/300mium/300mium-486/\n",
      "https://www.jipinfanhao.com/300mium/300mium-476/\n",
      "https://www.jipinfanhao.com/300mium/300mium-489/\n",
      "https://www.jipinfanhao.com/300mium/300mium-483/\n",
      "https://www.jipinfanhao.com/300mium/300mium-471/\n",
      "\n",
      "https://www.jipinfanhao.com/300mium/300mium-475/\n",
      "https://www.jipinfanhao.com/300mium/300mium-481/\n",
      "https://www.jipinfanhao.com/300mium/300mium-470/\n",
      "https://www.jipinfanhao.com/300mium/300mium-474/\n",
      "https://www.jipinfanhao.com/300mium/300mium-478/\n",
      "https://www.jipinfanhao.com/300mium/300mium-455/\n",
      "https://www.jipinfanhao.com/300mium/300mium-479/\n",
      "https://www.jipinfanhao.com/300mium/300mium-469/\n",
      "https://www.jipinfanhao.com/300mium/300mium-466/\n",
      "https://www.jipinfanhao.com/300mium/300mium-467/\n",
      "\n",
      "https://www.jipinfanhao.com/300mium/300mium-473/\n",
      "https://www.jipinfanhao.com/300mium/300mium-461/\n",
      "https://www.jipinfanhao.com/300mium/300mium-454/\n",
      "https://www.jipinfanhao.com/300mium/300mium-462/\n",
      "https://www.jipinfanhao.com/300mium/300mium-465/\n",
      "https://www.jipinfanhao.com/300mium/300mium-472/\n",
      "https://www.jipinfanhao.com/300mium/300mium-468/\n",
      "https://www.jipinfanhao.com/300mium/300mium-460/\n",
      "https://www.jipinfanhao.com/300mium/300mium-453/\n",
      "https://www.jipinfanhao.com/300mium/300mium-450/\n",
      "\n",
      "https://www.jipinfanhao.com/300mium/300mium-463/\n",
      "https://www.jipinfanhao.com/300mium/300mium-447/\n",
      "https://www.jipinfanhao.com/300mium/300mium-425/\n",
      "https://www.jipinfanhao.com/300mium/300mium-452/\n",
      "https://www.jipinfanhao.com/300mium/300mium-459/\n",
      "https://www.jipinfanhao.com/300mium/300mium-449/\n",
      "https://www.jipinfanhao.com/300mium/300mium-464/\n",
      "https://www.jipinfanhao.com/300mium/300mium-457/\n",
      "https://www.jipinfanhao.com/300mium/300mium-435/\n",
      "https://www.jipinfanhao.com/300mium/300mium-448/\n",
      "\n",
      "https://www.jipinfanhao.com/300mium/300mium-442/\n",
      "https://www.jipinfanhao.com/300mium/300mium-446/\n",
      "https://www.jipinfanhao.com/300mium/300mium-409/\n",
      "https://www.jipinfanhao.com/300mium/300mium-451/\n",
      "https://www.jipinfanhao.com/300mium/300mium-434/\n",
      "https://www.jipinfanhao.com/300mium/300mium-444/\n",
      "https://www.jipinfanhao.com/300mium/300mium-437/\n",
      "https://www.jipinfanhao.com/300mium/300mium-445/\n",
      "https://www.jipinfanhao.com/300mium/300mium-439/\n",
      "https://www.jipinfanhao.com/300mium/300mium-440/\n",
      "\n",
      "https://www.jipinfanhao.com/300mium/300mium-443/\n",
      "https://www.jipinfanhao.com/300mium/300mium-441/\n",
      "https://www.jipinfanhao.com/300mium/300mium-432/\n",
      "https://www.jipinfanhao.com/300mium/300mium-436/\n",
      "https://www.jipinfanhao.com/300mium/300mium-438/\n",
      "https://www.jipinfanhao.com/300mium/300mium-431/\n",
      "https://www.jipinfanhao.com/300mium/300mium-414/\n",
      "https://www.jipinfanhao.com/300mium/300mium-428/\n",
      "https://www.jipinfanhao.com/300mium/300mium-433/\n",
      "https://www.jipinfanhao.com/300mium/300mium-427/\n",
      "\n",
      "https://www.jipinfanhao.com/300mium/300mium-424/\n",
      "https://www.jipinfanhao.com/300mium/300mium-430/\n",
      "https://www.jipinfanhao.com/300mium/300mium-412/\n",
      "https://www.jipinfanhao.com/300mium/300mium-417/\n",
      "https://www.jipinfanhao.com/300mium/300mium-426/\n",
      "https://www.jipinfanhao.com/300mium/300mium-422/\n",
      "https://www.jipinfanhao.com/300mium/300mium-429/\n",
      "https://www.jipinfanhao.com/300mium/300mium-419/\n",
      "https://www.jipinfanhao.com/300mium/300mium-420/\n",
      "https://www.jipinfanhao.com/300mium/300mium-413/\n",
      "\n",
      "https://www.jipinfanhao.com/300mium/300mium-416/\n",
      "https://www.jipinfanhao.com/300mium/300mium-410/\n",
      "https://www.jipinfanhao.com/300mium/300mium-404/\n",
      "https://www.jipinfanhao.com/300mium/300mium-421/\n",
      "https://www.jipinfanhao.com/300mium/300mium-423/\n",
      "https://www.jipinfanhao.com/300mium/300mium-418/\n",
      "https://www.jipinfanhao.com/300mium/300mium-411/\n",
      "https://www.jipinfanhao.com/300mium/300mium-415/\n",
      "https://www.jipinfanhao.com/300mium/300mium-401/\n",
      "https://www.jipinfanhao.com/300mium/300mium-408/\n",
      "\n",
      "https://www.jipinfanhao.com/300mium/300mium-403/\n",
      "https://www.jipinfanhao.com/300mium/300mium-397/\n",
      "https://www.jipinfanhao.com/300mium/300mium-407/\n",
      "https://www.jipinfanhao.com/300mium/300mium-394/\n",
      "https://www.jipinfanhao.com/300mium/300mium-406/\n",
      "https://www.jipinfanhao.com/300mium/300mium-400/\n",
      "https://www.jipinfanhao.com/300mium/300mium-399/\n",
      "https://www.jipinfanhao.com/300mium/300mium-402/\n",
      "https://www.jipinfanhao.com/300mium/300mium-396/\n",
      "https://www.jipinfanhao.com/300mium/300mium-405/\n",
      "\n",
      "https://www.jipinfanhao.com/300mium/300mium-392/\n",
      "https://www.jipinfanhao.com/300mium/300mium-398/\n",
      "https://www.jipinfanhao.com/300mium/300mium-395/\n",
      "https://www.jipinfanhao.com/300mium/300mium-393/\n",
      "https://www.jipinfanhao.com/300mium/300mium-388/\n",
      "https://www.jipinfanhao.com/300mium/300mium-384/\n",
      "https://www.jipinfanhao.com/300mium/300mium-390/\n",
      "https://www.jipinfanhao.com/300mium/300mium-381/\n",
      "https://www.jipinfanhao.com/300mium/300mium-386/\n",
      "https://www.jipinfanhao.com/300mium/300mium-391/\n",
      "\n",
      "https://www.jipinfanhao.com/300mium/300mium-385/\n",
      "https://www.jipinfanhao.com/300mium/300mium-387/\n",
      "https://www.jipinfanhao.com/300mium/300mium-383/\n",
      "https://www.jipinfanhao.com/300mium/300mium-389/\n",
      "https://www.jipinfanhao.com/300mium/300mium-382/\n",
      "https://www.jipinfanhao.com/300mium/300mium-374/\n",
      "https://www.jipinfanhao.com/300mium/300mium-380/\n",
      "https://www.jipinfanhao.com/300mium/300mium-378/\n",
      "https://www.jipinfanhao.com/300mium/300mium-373/\n",
      "https://www.jipinfanhao.com/300mium/300mium-376/\n",
      "\n",
      "https://www.jipinfanhao.com/300mium/300mium-363/\n",
      "https://www.jipinfanhao.com/300mium/300mium-370/\n",
      "https://www.jipinfanhao.com/300mium/300mium-360/\n",
      "https://www.jipinfanhao.com/300mium/300mium-379/\n",
      "https://www.jipinfanhao.com/300mium/300mium-377/\n",
      "https://www.jipinfanhao.com/300mium/300mium-369/\n",
      "https://www.jipinfanhao.com/300mium/300mium-375/\n",
      "https://www.jipinfanhao.com/300mium/300mium-362/\n",
      "https://www.jipinfanhao.com/300mium/300mium-368/\n",
      "https://www.jipinfanhao.com/300mium/300mium-359/\n",
      "\n",
      "https://www.jipinfanhao.com/300mium/300mium-367/\n",
      "https://www.jipinfanhao.com/300mium/300mium-372/\n",
      "https://www.jipinfanhao.com/300mium/300mium-354/\n",
      "https://www.jipinfanhao.com/300mium/300mium-366/\n",
      "https://www.jipinfanhao.com/300mium/300mium-358/\n",
      "https://www.jipinfanhao.com/300mium/300mium-353/\n",
      "https://www.jipinfanhao.com/300mium/300mium-361/\n",
      "https://www.jipinfanhao.com/300mium/300mium-365/\n",
      "https://www.jipinfanhao.com/300mium/300mium-371/\n",
      "https://www.jipinfanhao.com/300mium/300mium-364/\n",
      "\n",
      "https://www.jipinfanhao.com/300mium/300mium-355/\n",
      "https://www.jipinfanhao.com/300mium/300mium-357/\n",
      "https://www.jipinfanhao.com/300mium/300mium-352/\n",
      "https://www.jipinfanhao.com/300mium/300mium-344/\n",
      "https://www.jipinfanhao.com/300mium/300mium-350/\n",
      "https://www.jipinfanhao.com/300mium/300mium-321/\n",
      "https://www.jipinfanhao.com/300mium/300mium-356/\n",
      "https://www.jipinfanhao.com/300mium/300mium-348/\n",
      "https://www.jipinfanhao.com/300mium/300mium-351/\n",
      "https://www.jipinfanhao.com/300mium/300mium-349/\n",
      "\n",
      "https://www.jipinfanhao.com/300mium/300mium-347/\n",
      "https://www.jipinfanhao.com/300mium/300mium-331/\n",
      "https://www.jipinfanhao.com/300mium/300mium-346/\n",
      "https://www.jipinfanhao.com/300mium/300mium-339/\n",
      "https://www.jipinfanhao.com/300mium/300mium-330/\n",
      "https://www.jipinfanhao.com/300mium/300mium-336/\n",
      "https://www.jipinfanhao.com/300mium/300mium-341/\n",
      "https://www.jipinfanhao.com/300mium/300mium-334/\n",
      "https://www.jipinfanhao.com/300mium/300mium-320/\n",
      "https://www.jipinfanhao.com/300mium/300mium-323/\n",
      "\n",
      "https://www.jipinfanhao.com/300mium/300mium-337/\n",
      "https://www.jipinfanhao.com/300mium/300mium-325/\n",
      "https://www.jipinfanhao.com/300mium/300mium-316/\n",
      "https://www.jipinfanhao.com/300mium/300mium-335/\n",
      "https://www.jipinfanhao.com/300mium/300mium-338/\n",
      "https://www.jipinfanhao.com/300mium/300mium-333/\n",
      "https://www.jipinfanhao.com/300mium/300mium-286/\n",
      "https://www.jipinfanhao.com/300mium/300mium-319/\n",
      "https://www.jipinfanhao.com/300mium/300mium-289/\n",
      "https://www.jipinfanhao.com/300mium/300mium-329/\n",
      "\n",
      "https://www.jipinfanhao.com/300mium/300mium-332/\n",
      "https://www.jipinfanhao.com/300mium/300mium-317/\n",
      "https://www.jipinfanhao.com/300mium/300mium-326/\n",
      "https://www.jipinfanhao.com/300mium/300mium-327/\n",
      "https://www.jipinfanhao.com/300mium/300mium-306/\n",
      "https://www.jipinfanhao.com/300mium/300mium-324/\n",
      "https://www.jipinfanhao.com/300mium/300mium-301/\n",
      "https://www.jipinfanhao.com/300mium/300mium-314/\n",
      "https://www.jipinfanhao.com/300mium/300mium-305/\n",
      "https://www.jipinfanhao.com/300mium/300mium-293/\n",
      "\n",
      "https://www.jipinfanhao.com/300mium/300mium-308/\n",
      "https://www.jipinfanhao.com/300mium/300mium-313/\n",
      "https://www.jipinfanhao.com/300mium/300mium-297/\n",
      "https://www.jipinfanhao.com/300mium/300mium-322/\n",
      "https://www.jipinfanhao.com/300mium/300mium-279/\n",
      "https://www.jipinfanhao.com/300mium/300mium-290/\n",
      "https://www.jipinfanhao.com/300mium/300mium-318/\n",
      "https://www.jipinfanhao.com/300mium/300mium-298/\n",
      "https://www.jipinfanhao.com/300mium/300mium-309/\n",
      "https://www.jipinfanhao.com/300mium/300mium-315/\n",
      "\n",
      "https://www.jipinfanhao.com/300mium/300mium-291/\n",
      "https://www.jipinfanhao.com/300mium/300mium-294/\n",
      "https://www.jipinfanhao.com/300mium/300mium-312/\n",
      "https://www.jipinfanhao.com/300mium/300mium-310/\n",
      "https://www.jipinfanhao.com/300mium/300mium-296/\n",
      "https://www.jipinfanhao.com/300mium/300mium-302/\n",
      "https://www.jipinfanhao.com/300mium/300mium-300/\n",
      "https://www.jipinfanhao.com/300mium/300mium-311/\n",
      "https://www.jipinfanhao.com/300mium/300mium-288/\n",
      "https://www.jipinfanhao.com/300mium/300mium-285/\n",
      "\n",
      "https://www.jipinfanhao.com/300mium/300mium-304/\n",
      "https://www.jipinfanhao.com/300mium/300mium-303/\n",
      "https://www.jipinfanhao.com/300mium/300mium-299/\n",
      "https://www.jipinfanhao.com/300mium/300mium-284/\n",
      "https://www.jipinfanhao.com/300mium/300mium-276/\n",
      "https://www.jipinfanhao.com/300mium/300mium-292/\n",
      "https://www.jipinfanhao.com/300mium/300mium-295/\n",
      "https://www.jipinfanhao.com/300mium/300mium-283/\n",
      "https://www.jipinfanhao.com/300mium/300mium-287/\n",
      "https://www.jipinfanhao.com/300mium/300mium-274/\n",
      "\n",
      "https://www.jipinfanhao.com/300mium/300mium-282/\n",
      "https://www.jipinfanhao.com/300mium/300mium-278/\n",
      "https://www.jipinfanhao.com/300mium/300mium-281/\n",
      "https://www.jipinfanhao.com/300mium/300mium-265/\n",
      "https://www.jipinfanhao.com/300mium/300mium-269/\n",
      "https://www.jipinfanhao.com/300mium/300mium-261/\n",
      "https://www.jipinfanhao.com/300mium/300mium-267/\n",
      "https://www.jipinfanhao.com/300mium/300mium-243/\n",
      "https://www.jipinfanhao.com/300mium/300mium-240/\n",
      "https://www.jipinfanhao.com/300mium/300mium-272/\n",
      "\n",
      "https://www.jipinfanhao.com/300mium/300mium-277/\n",
      "https://www.jipinfanhao.com/300mium/300mium-268/\n",
      "https://www.jipinfanhao.com/300mium/300mium-264/\n",
      "https://www.jipinfanhao.com/300mium/300mium-266/\n",
      "https://www.jipinfanhao.com/300mium/300mium-263/\n",
      "https://www.jipinfanhao.com/300mium/300mium-253/\n",
      "https://www.jipinfanhao.com/300mium/300mium-271/\n",
      "https://www.jipinfanhao.com/300mium/300mium-270/\n",
      "https://www.jipinfanhao.com/300mium/300mium-237/\n",
      "https://www.jipinfanhao.com/300mium/300mium-262/\n",
      "\n",
      "https://www.jipinfanhao.com/300mium/300mium-259/\n",
      "https://www.jipinfanhao.com/300mium/300mium-257/\n",
      "https://www.jipinfanhao.com/300mium/300mium-256/\n",
      "https://www.jipinfanhao.com/300mium/300mium-219/\n",
      "https://www.jipinfanhao.com/300mium/300mium-251/\n",
      "https://www.jipinfanhao.com/300mium/300mium-254/\n",
      "https://www.jipinfanhao.com/300mium/300mium-260/\n",
      "https://www.jipinfanhao.com/300mium/300mium-258/\n",
      "https://www.jipinfanhao.com/300mium/300mium-255/\n",
      "https://www.jipinfanhao.com/300mium/300mium-236/\n",
      "\n",
      "https://www.jipinfanhao.com/300mium/300mium-252/\n",
      "https://www.jipinfanhao.com/300mium/300mium-250/\n",
      "https://www.jipinfanhao.com/300mium/300mium-216/\n",
      "https://www.jipinfanhao.com/300mium/300mium-249/\n",
      "https://www.jipinfanhao.com/300mium/300mium-235/\n",
      "https://www.jipinfanhao.com/300mium/300mium-241/\n",
      "https://www.jipinfanhao.com/300mium/300mium-246/\n",
      "https://www.jipinfanhao.com/300mium/300mium-248/\n",
      "https://www.jipinfanhao.com/300mium/300mium-247/\n",
      "\n"
     ]
    }
   ],
   "source": [
    "import time\n",
    "import re\n",
    "import urllib.request\n",
    " \n",
    "def getlink(url):\n",
    "    headers = (\"User-Agent\", \"Mozilla/5.0 (Windows NT 10.0; WOW64) AppleWebKit/537.36 (KHTML, like Gecko) Chrome/62.0.3202.94 Safari/537.36\")\n",
    "    opener = urllib.request.build_opener()\n",
    "    opener.addheaders = [headers]\n",
    "    urllib.request.install_opener(opener)\n",
    "    file = urllib.request.urlopen(url,timeout=5).read()\n",
    "    file = file.decode('utf-8')\n",
    "    soup = BeautifulSoup(file,'html.parser')   \n",
    "    pattern = '(https?://[^\\s)\";]+(\\.(\\w|/)*))'\n",
    "    link = re.compile(pattern).findall(file)\n",
    "    url_a=soup.find_all('a')\n",
    "    #去重\n",
    "    #link = list(set(link))\n",
    "    return url_a,link\n",
    "#url = root_url\n",
    "\n",
    "\n",
    "for i in range(29):\n",
    "    if i==0:\n",
    "        url=root_url\n",
    "    else:\n",
    "        url='https://www.jipinfanhao.com/300mium/page/%d/'%(i+1)        \n",
    "    url_a,linklist = getlink(url)\n",
    "    for i in url_a:\n",
    "        i_=i.get('href')\n",
    "    #print(i_)\n",
    "        try: \n",
    "            if i_.startswith('https://www.jipinfanhao.com/300mium/300mium') and i_ not in urls_lists:\n",
    "                urls_lists.append(i_)\n",
    "                with open('%s/300mium.txt'%data_download_path,'a') as f:\n",
    "                    f.write(i_+'\\n')\n",
    "                print(i_)                  \n",
    "        except: \n",
    "            time.sleep(2)\n",
    "            print()\n",
    "            "
   ]
  },
  {
   "cell_type": "code",
   "execution_count": 41,
   "metadata": {
    "ExecuteTime": {
     "end_time": "2019-12-21T21:51:35.348886Z",
     "start_time": "2019-12-21T21:51:35.338803Z"
    },
    "collapsed": true
   },
   "outputs": [],
   "source": [
    "def gettext(url):\n",
    "    headers = (\"User-Agent\", \"Mozilla/5.0 (Windows NT 10.0; WOW64) AppleWebKit/537.36 (KHTML, like Gecko) Chrome/62.0.3202.94 Safari/537.36\")\n",
    "    opener = urllib.request.build_opener()\n",
    "    opener.addheaders = [headers]\n",
    "    urllib.request.install_opener(opener)\n",
    "    file = urllib.request.urlopen(url,timeout=10).read()\n",
    "    file = file.decode('utf-8')\n",
    "    soup = BeautifulSoup(file,'html.parser')   \n",
    "    pattern = '(https?://[^\\s)\";]+(\\.(\\w|/)*))'\n",
    "    link = re.compile(pattern).findall(file)\n",
    "    text_p=soup.find_all('p')\n",
    "    #去重\n",
    "    #link = list(set(link))\n",
    "    return text_p[1].text"
   ]
  },
  {
   "cell_type": "code",
   "execution_count": 42,
   "metadata": {
    "ExecuteTime": {
     "end_time": "2019-12-21T21:51:47.930801Z",
     "start_time": "2019-12-21T21:51:47.919279Z"
    },
    "collapsed": true
   },
   "outputs": [],
   "source": [
    "def gettext_except(url):\n",
    "    headers = (\"User-Agent\", \"Mozilla/5.0 (Windows NT 10.0; WOW64) AppleWebKit/537.36 (KHTML, like Gecko) Chrome/62.0.3202.94 Safari/537.36\")\n",
    "    opener = urllib.request.build_opener()\n",
    "    opener.addheaders = [headers]\n",
    "    urllib.request.install_opener(opener)\n",
    "    file = urllib.request.urlopen(url,timeout=10).read()\n",
    "    file = file.decode('utf-8')\n",
    "    soup = BeautifulSoup(file,'html.parser')   \n",
    "    pattern = '(https?://[^\\s)\";]+(\\.(\\w|/)*))'\n",
    "    link = re.compile(pattern).findall(file)\n",
    "    text_p=soup.find_all('p')\n",
    "    #去重\n",
    "    #link = list(set(link))\n",
    "    return text_p[2].text,text_p[3].text"
   ]
  },
  {
   "cell_type": "code",
   "execution_count": null,
   "metadata": {
    "collapsed": true
   },
   "outputs": [],
   "source": []
  },
  {
   "cell_type": "code",
   "execution_count": 47,
   "metadata": {
    "ExecuteTime": {
     "end_time": "2019-12-21T21:57:11.080820Z",
     "start_time": "2019-12-21T21:57:11.076603Z"
    },
    "collapsed": false
   },
   "outputs": [
    {
     "data": {
      "text/plain": [
       "'/Volumes/Seagate_Backup_Plus_Drive_Lvb/backupmac/300mium'"
      ]
     },
     "execution_count": 47,
     "metadata": {},
     "output_type": "execute_result"
    }
   ],
   "source": [
    "data_download_path"
   ]
  },
  {
   "cell_type": "markdown",
   "metadata": {
    "ExecuteTime": {
     "end_time": "2019-12-21T21:44:26.825875Z",
     "start_time": "2019-12-21T21:44:26.822606Z"
    }
   },
   "source": []
  },
  {
   "cell_type": "code",
   "execution_count": 31,
   "metadata": {
    "ExecuteTime": {
     "end_time": "2019-12-21T21:49:32.807843Z",
     "start_time": "2019-12-21T21:49:29.665213Z"
    },
    "collapsed": true
   },
   "outputs": [],
   "source": [
    "url=no_text_list[1]\n",
    "headers = (\"User-Agent\", \"Mozilla/5.0 (Windows NT 10.0; WOW64) AppleWebKit/537.36 (KHTML, like Gecko) Chrome/62.0.3202.94 Safari/537.36\")\n",
    "opener = urllib.request.build_opener()\n",
    "opener.addheaders = [headers]\n",
    "urllib.request.install_opener(opener)\n",
    "file = urllib.request.urlopen(url).read()\n",
    "file = file.decode('utf-8')\n",
    "soup = BeautifulSoup(file,'html.parser') \n",
    "img_=soup.find_all('img')\n",
    "text_p=soup.find_all('p')"
   ]
  },
  {
   "cell_type": "code",
   "execution_count": null,
   "metadata": {
    "collapsed": true
   },
   "outputs": [],
   "source": []
  },
  {
   "cell_type": "markdown",
   "metadata": {
    "ExecuteTime": {
     "end_time": "2019-12-21T21:55:06.036661Z",
     "start_time": "2019-12-21T21:54:49.497096Z"
    }
   },
   "source": []
  },
  {
   "cell_type": "markdown",
   "metadata": {},
   "source": [
    "# write text"
   ]
  },
  {
   "cell_type": "code",
   "execution_count": 26,
   "metadata": {
    "ExecuteTime": {
     "end_time": "2019-12-21T21:44:21.724571Z",
     "start_time": "2019-12-21T21:44:21.715429Z"
    },
    "collapsed": false
   },
   "outputs": [],
   "source": [
    "for i in urls_lists:    \n",
    "    name=i.split('/')[-2]   \n",
    "    if not os.path.isfile(os.path.join(data_download_path,name)+'.txt'): \n",
    "        text_p=gettext(i)\n",
    "        print(name,text_p)\n",
    "        try:\n",
    "            with open(os.path.join(data_download_path,name)+'.txt','a') as f:\n",
    "                f.write(text_p)  \n",
    "        except:\n",
    "            time.sleep(3)"
   ]
  },
  {
   "cell_type": "markdown",
   "metadata": {},
   "source": [
    "# exception"
   ]
  },
  {
   "cell_type": "code",
   "execution_count": 63,
   "metadata": {
    "ExecuteTime": {
     "end_time": "2019-12-22T10:18:49.130556Z",
     "start_time": "2019-12-22T10:18:49.122257Z"
    },
    "collapsed": false
   },
   "outputs": [
    {
     "data": {
      "text/plain": [
       "(290, 9)"
      ]
     },
     "execution_count": 63,
     "metadata": {},
     "output_type": "execute_result"
    }
   ],
   "source": [
    "len(urls_lists),len(no_text_list)"
   ]
  },
  {
   "cell_type": "markdown",
   "metadata": {},
   "source": [
    "no_text_list=[]"
   ]
  },
  {
   "cell_type": "code",
   "execution_count": null,
   "metadata": {
    "collapsed": true
   },
   "outputs": [],
   "source": [
    "for i in urls_lists:    \n",
    "    name=i.split('/')[-2]   \n",
    "    if os.path.getsize(os.path.join(data_download_path,name)+'.txt')==0:\n",
    "        if i not in no_text_list:\n",
    "            no_text_list.append(i)\n",
    "        text_p1,text_p2=gettext_except(i)\n",
    "        print(name,text_p1,text_p2)\n",
    "        try:\n",
    "            with open(os.path.join(data_download_path,name)+'.txt','a') as f:\n",
    "                f.write(text_p1+text_p2)  \n",
    "        except:\n",
    "            time.sleep(3)"
   ]
  },
  {
   "cell_type": "code",
   "execution_count": null,
   "metadata": {
    "collapsed": true
   },
   "outputs": [],
   "source": []
  },
  {
   "cell_type": "code",
   "execution_count": 50,
   "metadata": {
    "ExecuteTime": {
     "end_time": "2019-12-21T21:58:20.590076Z",
     "start_time": "2019-12-21T21:58:20.576351Z"
    },
    "collapsed": true
   },
   "outputs": [],
   "source": [
    "from urllib import  request\n",
    "from bs4 import BeautifulSoup\n",
    "def getimg(url):\n",
    "    headers = (\"User-Agent\", \"Mozilla/5.0 (Windows NT 10.0; WOW64) AppleWebKit/537.36 (KHTML, like Gecko) Chrome/62.0.3202.94 Safari/537.36\")\n",
    "    opener = urllib.request.build_opener()\n",
    "    opener.addheaders = [headers]\n",
    "    urllib.request.install_opener(opener)\n",
    "    file = urllib.request.urlopen(url,timeout=10).read()\n",
    "    file = file.decode('utf-8')\n",
    "    soup = BeautifulSoup(file,'html.parser')   \n",
    "    pattern = '(https?://[^\\s)\";]+(\\.(\\w|/)*))'\n",
    "    link = re.compile(pattern).findall(file)\n",
    "    img_=soup.find_all('img')[1]\n",
    "    #去重\n",
    "    #link = list(set(link))\n",
    "    return img_['src']"
   ]
  },
  {
   "cell_type": "code",
   "execution_count": 66,
   "metadata": {
    "ExecuteTime": {
     "end_time": "2019-12-22T10:19:44.655347Z",
     "start_time": "2019-12-22T10:19:41.626044Z"
    },
    "collapsed": false
   },
   "outputs": [],
   "source": [
    "for i in urls_lists:    \n",
    "    name=i.split('/')[-2]   \n",
    "    if not os.path.isfile(os.path.join(data_download_path,name)+'.jpg'):\n",
    "        try:\n",
    "            img_=getimg(i)\n",
    "            request.urlretrieve(img_, os.path.join(data_download_path,name)+'.jpg')\n",
    "            print(name,img_) \n",
    "        except:\n",
    "            time.sleep(1)\n",
    "            continue"
   ]
  },
  {
   "cell_type": "code",
   "execution_count": 64,
   "metadata": {
    "ExecuteTime": {
     "end_time": "2019-12-22T10:19:06.254323Z",
     "start_time": "2019-12-22T10:18:55.874679Z"
    },
    "collapsed": false
   },
   "outputs": [],
   "source": [
    "for i in urls_lists:    \n",
    "    name=i.split('/')[-2]   \n",
    "    if not os.path.isfile(os.path.join(data_download_path,name)+'.jpg'):\n",
    "        try:\n",
    "            img_=getimg(i)\n",
    "            request.urlretrieve(img_, os.path.join(data_download_path,name)+'.jpg')\n",
    "            print(name,img_) \n",
    "        except:\n",
    "            time.sleep(3)\n",
    "            #continue"
   ]
  },
  {
   "cell_type": "code",
   "execution_count": 65,
   "metadata": {
    "ExecuteTime": {
     "end_time": "2019-12-22T10:19:10.294455Z",
     "start_time": "2019-12-22T10:19:10.282803Z"
    },
    "collapsed": false
   },
   "outputs": [
    {
     "name": "stdout",
     "output_type": "stream",
     "text": [
      "300mium-287 https://www.jipinfanhao.com/300mium/300mium-287/ jpg\n"
     ]
    }
   ],
   "source": [
    "for i in urls_lists:    \n",
    "    name=i.split('/')[-2]   \n",
    "    if not os.path.isfile(os.path.join(data_download_path,name)+'.jpg'):\n",
    "        print(name,i,'jpg')\n",
    "    if not os.path.isfile(os.path.join(data_download_path,name)+'.txt'):\n",
    "        print(name,'txt')"
   ]
  },
  {
   "cell_type": "code",
   "execution_count": null,
   "metadata": {
    "collapsed": true
   },
   "outputs": [],
   "source": []
  }
 ],
 "metadata": {
  "kernelspec": {
   "display_name": "Python 3",
   "language": "python",
   "name": "python3"
  },
  "language_info": {
   "codemirror_mode": {
    "name": "ipython",
    "version": 3
   },
   "file_extension": ".py",
   "mimetype": "text/x-python",
   "name": "python",
   "nbconvert_exporter": "python",
   "pygments_lexer": "ipython3",
   "version": "3.6.0"
  },
  "latex_envs": {
   "LaTeX_envs_menu_present": true,
   "autocomplete": true,
   "bibliofile": "biblio.bib",
   "cite_by": "apalike",
   "current_citInitial": 1,
   "eqLabelWithNumbers": true,
   "eqNumInitial": 1,
   "hotkeys": {
    "equation": "Ctrl-E",
    "itemize": "Ctrl-I"
   },
   "labels_anchors": false,
   "latex_user_defs": false,
   "report_style_numbering": false,
   "user_envs_cfg": false
  },
  "toc": {
   "nav_menu": {},
   "number_sections": true,
   "sideBar": true,
   "skip_h1_title": false,
   "toc_cell": false,
   "toc_position": {},
   "toc_section_display": "block",
   "toc_window_display": false
  }
 },
 "nbformat": 4,
 "nbformat_minor": 2
}
