{
 "cells": [
  {
   "cell_type": "markdown",
   "metadata": {},
   "source": [
    "# import"
   ]
  },
  {
   "cell_type": "code",
   "execution_count": null,
   "metadata": {
    "scrolled": true
   },
   "outputs": [],
   "source": [
    "import sys\n",
    "print(sys.version)\n",
    "print(sys.executable)"
   ]
  },
  {
   "cell_type": "code",
   "execution_count": null,
   "metadata": {},
   "outputs": [],
   "source": [
    "!which python"
   ]
  },
  {
   "cell_type": "code",
   "execution_count": null,
   "metadata": {},
   "outputs": [],
   "source": [
    "!which python2"
   ]
  },
  {
   "cell_type": "code",
   "execution_count": null,
   "metadata": {},
   "outputs": [],
   "source": [
    "!which python3"
   ]
  },
  {
   "cell_type": "code",
   "execution_count": 6,
   "metadata": {
    "init_cell": true
   },
   "outputs": [],
   "source": [
    "import matplotlib.dates as mdates\n",
    "from matplotlib import dates as mpl_dates\n",
    "\n",
    "from matplotlib.pyplot import MultipleLocator\n",
    "import matplotlib.dates as mdates\n",
    "from matplotlib.transforms import Transform\n",
    "from matplotlib.ticker import (AutoLocator, AutoMinorLocator)\n",
    "from matplotlib.dates import DateFormatter\n",
    "import datetime\n",
    "\n",
    "import astropy.units as u\n",
    "from astropy.time import Time\n",
    "from collections import OrderedDict"
   ]
  },
  {
   "cell_type": "code",
   "execution_count": 7,
   "metadata": {
    "init_cell": true
   },
   "outputs": [],
   "source": [
    "from astropy.io import fits\n",
    "import astropy.coordinates as coord\n",
    "from astropy import units as u\n",
    "from astropy.coordinates import SkyCoord\n",
    "\n",
    "from astropy.table import Table\n",
    "from astropy.wcs import WCS\n",
    "import astropy.units as u\n",
    "from astropy import constants as const\n",
    "from astropy import units as u\n",
    "from astropy.constants import k_B\n",
    "\n",
    "import time\n",
    "import numpy as np\n",
    "import matplotlib\n",
    "from matplotlib import pyplot\n",
    "import math\n",
    "\n",
    "import os,sys\n",
    "\n",
    "\n",
    "%matplotlib inline\n",
    "%config InlineBackend.figure_format = \"svg\"\n",
    "from matplotlib import rcParams\n",
    "#rcParams[\"savefig.dpi\"] = 300"
   ]
  },
  {
   "cell_type": "code",
   "execution_count": null,
   "metadata": {},
   "outputs": [],
   "source": [
    "gpstime=Time(1207736424, format='gps') \n",
    "Time(gpstime.mjd,format='mjd').to_datetime()"
   ]
  },
  {
   "cell_type": "code",
   "execution_count": null,
   "metadata": {},
   "outputs": [],
   "source": [
    "Time(gpstime.mjd,format='mjd')"
   ]
  },
  {
   "cell_type": "code",
   "execution_count": 8,
   "metadata": {
    "init_cell": true
   },
   "outputs": [],
   "source": [
    "from __future__ import absolute_import, print_function, division\n",
    "from astropy.io import fits\n",
    "import sys,os  #引入模块\n",
    "from astropy.io.fits import getheader\n",
    "from astropy.io.fits import getdata\n",
    "import numpy as np\n",
    "import matplotlib.pylab as plt\n",
    "import pandas as pd\n",
    "\n",
    "from matplotlib import cm\n",
    "from matplotlib import rcParams\n",
    "from astropy.utils.data import get_pkg_data_filename\n",
    "import aplpy\n",
    "from matplotlib.patches import Circle, Rectangle, Ellipse, Polygon, FancyArrow\n",
    "from matplotlib.collections import PatchCollection, LineCollection\n",
    "from astropy import log#%matplotlib inline"
   ]
  },
  {
   "cell_type": "code",
   "execution_count": null,
   "metadata": {},
   "outputs": [],
   "source": [
    "print(aplpy.__version__)"
   ]
  },
  {
   "cell_type": "code",
   "execution_count": null,
   "metadata": {},
   "outputs": [],
   "source": []
  },
  {
   "cell_type": "markdown",
   "metadata": {},
   "source": [
    "# def"
   ]
  },
  {
   "cell_type": "code",
   "execution_count": 9,
   "metadata": {
    "init_cell": true
   },
   "outputs": [],
   "source": [
    "import matplotlib as mpl\n",
    "def set_ax_tick(ax):\n",
    "    ax.xaxis.set_tick_params(which='major', size=10, width=2, direction='in', top='on',)\n",
    "    ax.xaxis.set_tick_params(which='minor', size=5, width=2, direction='in', top='on')\n",
    "    ax.yaxis.set_tick_params(which='major', size=10, width=2, direction='in', right='on')\n",
    "    ax.yaxis.set_tick_params(which='minor', size=5, width=2, direction='in', right='on')\n",
    "\n",
    "def set_ax_locator(ax,xma=1,xmi=0.2,yma=1,ymi=0.2):\n",
    "    ax.xaxis.set_major_locator(mpl.ticker.MultipleLocator(xma))\n",
    "    ax.xaxis.set_minor_locator(mpl.ticker.MultipleLocator(xmi))\n",
    "    ax.yaxis.set_major_locator(mpl.ticker.MultipleLocator(yma))\n",
    "    ax.yaxis.set_minor_locator(mpl.ticker.MultipleLocator(ymi)) "
   ]
  },
  {
   "cell_type": "code",
   "execution_count": 10,
   "metadata": {
    "init_cell": true
   },
   "outputs": [],
   "source": [
    "def datetime2mjd(x):\n",
    "    mjd_ref=59000\n",
    "    mjd_minus_mdates_num=mdates.date2num(convert_xaxis_time(mjd_ref))-mjd_ref\n",
    "    \n",
    "    x=mdates.date2num(x)\n",
    "    y = x - mjd_minus_mdates_num   \n",
    "    return y\n",
    "\n",
    "def mjd2datetime(x):\n",
    "    mjd_ref=59000\n",
    "    mjd_minus_mdates_num=mdates.date2num(convert_xaxis_time(mjd_ref))-mjd_ref\n",
    "    y= x + mjd_minus_mdates_num\n",
    "    y= mdates.num2date(y)\n",
    "    return y\n",
    "\n",
    "\n",
    "\n",
    "def datenums2mjd(x):\n",
    "    #x=mdates.date2num(x)\n",
    "    mjd_ref=59000\n",
    "    mjd_minus_mdates_num=mdates.date2num(convert_xaxis_time(mjd_ref))-mjd_ref\n",
    "    y = x - mjd_minus_mdates_num   \n",
    "    return y\n",
    "\n",
    "def mjd2numsdate(x):\n",
    "    mjd_ref=59000\n",
    "    mjd_minus_mdates_num=mdates.date2num(convert_xaxis_time(mjd_ref))-mjd_ref\n",
    "    \n",
    "    y= x + mjd_minus_mdates_num\n",
    "    #y= mdates.num2date(y)\n",
    "    return y"
   ]
  },
  {
   "cell_type": "code",
   "execution_count": 11,
   "metadata": {
    "init_cell": true
   },
   "outputs": [],
   "source": [
    "def datetime2mjd(x):\n",
    "    mjd_ref=59000\n",
    "    mjd_minus_mdates_num=mdates.date2num(convert_xaxis_time(mjd_ref))-mjd_ref\n",
    "    \n",
    "    x=mdates.date2num(x)\n",
    "    y = x - mjd_minus_mdates_num   \n",
    "    return y\n",
    "\n",
    "def mjd2datetime(x):\n",
    "    mjd_ref=59000\n",
    "    mjd_minus_mdates_num=mdates.date2num(convert_xaxis_time(mjd_ref))-mjd_ref\n",
    "    y= x + mjd_minus_mdates_num\n",
    "    y= mdates.num2date(y)\n",
    "    return y\n",
    "\n",
    "def newdatetime2mjd(x):     \n",
    "    return Time(x).mjd \n",
    "\n",
    "def mjd2datetimenew(x):\n",
    "    return Time(x,format='mjd').to_datetime()"
   ]
  },
  {
   "cell_type": "markdown",
   "metadata": {},
   "source": [
    "## gpstime"
   ]
  },
  {
   "cell_type": "code",
   "execution_count": null,
   "metadata": {},
   "outputs": [],
   "source": [
    "obsid=1198598960\n",
    "mjd=Time(obsid, format='gps').mjd\n",
    "mjd"
   ]
  },
  {
   "cell_type": "code",
   "execution_count": null,
   "metadata": {},
   "outputs": [],
   "source": [
    "Time(obsid, format='gps').to_datetime()"
   ]
  },
  {
   "cell_type": "code",
   "execution_count": null,
   "metadata": {},
   "outputs": [],
   "source": [
    "obsid=1206120560\n",
    "\n",
    "Time(obsid, format='gps').to_datetime()"
   ]
  },
  {
   "cell_type": "markdown",
   "metadata": {},
   "source": [
    "## get_obsids"
   ]
  },
  {
   "cell_type": "code",
   "execution_count": 12,
   "metadata": {},
   "outputs": [],
   "source": [
    "import os,sys,re\n",
    "import time\n",
    "#from datetime import datetime\n",
    "import numpy as np\n",
    "from astropy.io import fits\n",
    "\n",
    "def get_obsids(path):\n",
    "    dirname=os.listdir(path)\n",
    "    obsids=[]\n",
    "    for i in dirname:\n",
    "        if i.isdigit():\n",
    "            obsids.append(i)\n",
    "    obsids.sort()        \n",
    "    return obsids\n",
    "\n",
    "def get_flag_tiles(metafits_file):\n",
    "    flag_tiles=[]\n",
    "    metafits=fits.open(metafits_file)\n",
    "    for i,j in zip(metafits[1].data['Antenna'],metafits[1].data['Flag']):\n",
    "        if j==1:\n",
    "        #print(i,j)\n",
    "            if i not in flag_tiles:\n",
    "                flag_tiles.append(i)\n",
    "    return flag_tiles"
   ]
  },
  {
   "cell_type": "code",
   "execution_count": null,
   "metadata": {},
   "outputs": [],
   "source": []
  },
  {
   "cell_type": "markdown",
   "metadata": {},
   "source": [
    "## def get_freq"
   ]
  },
  {
   "cell_type": "code",
   "execution_count": 13,
   "metadata": {},
   "outputs": [],
   "source": [
    "def get_freq_of_file(fits_image_filename):\n",
    "    fits_image_filename_hdu = fits.open(fits_image_filename)\n",
    "    #fits_image_filename_hdu = fits.open(fits_image_filename)\n",
    "    return int(fits_image_filename_hdu[0].header['CRVAL3'])"
   ]
  },
  {
   "cell_type": "code",
   "execution_count": 14,
   "metadata": {},
   "outputs": [],
   "source": [
    "def get_freq_err_of_of_file(stokes_file_I):\n",
    "    if os.path.exists(stokes_file_I):\n",
    "        hdl_stokes_I=fits.open(stokes_file_I)            \n",
    "        return int(hdl_stokes_I[0].header['CRVAL3']*u.Hz.to(u.MHz)),int(hdl_stokes_I[0].header['CDELT3']*u.Hz.to(u.MHz))"
   ]
  },
  {
   "cell_type": "code",
   "execution_count": 15,
   "metadata": {},
   "outputs": [],
   "source": [
    "def get_stokes_file_of_obsid(path,obsid,prefix='first'):    \n",
    "    stokes_file_I=os.path.join(path,obsid,'stokes-%s-%s-I.fits'%(obsid,prefix))\n",
    "    if os.path.exists(stokes_file_I):       \n",
    "        return stokes_file_I\n",
    "    else:\n",
    "        return False"
   ]
  },
  {
   "cell_type": "code",
   "execution_count": 16,
   "metadata": {},
   "outputs": [],
   "source": [
    "def get_freq_of_obsid(path,obsid):\n",
    "    #fits_image_filename=get_stokes_file(path,obsid)\n",
    "    fits_image_filename=os.path.join(path,obsid,'%s.metafits'%obsid)\n",
    "    fits_image_filename_hdu = fits.open(fits_image_filename)\n",
    "    #fits_image_filename_hdu = fits.open(fits_image_filename)\n",
    "    return int(fits_image_filename_hdu[0].header['CRVAL3']*u.Hz.to(u.MHz))"
   ]
  },
  {
   "cell_type": "code",
   "execution_count": null,
   "metadata": {},
   "outputs": [],
   "source": []
  },
  {
   "cell_type": "code",
   "execution_count": null,
   "metadata": {},
   "outputs": [],
   "source": []
  },
  {
   "cell_type": "markdown",
   "metadata": {},
   "source": [
    "## within5deg obsinfo"
   ]
  },
  {
   "cell_type": "code",
   "execution_count": 17,
   "metadata": {},
   "outputs": [],
   "source": [
    "within5deg_obsinfo=pd.read_csv('/share/home/blv/mwa_code_py/G0044_PKS0736_5deg.csv')"
   ]
  },
  {
   "cell_type": "code",
   "execution_count": null,
   "metadata": {},
   "outputs": [],
   "source": [
    "within5deg_obsinfo.columns"
   ]
  },
  {
   "cell_type": "code",
   "execution_count": null,
   "metadata": {},
   "outputs": [],
   "source": [
    "within5deg_obsinfo[within5deg_obsinfo['#obsid']==1207652304]"
   ]
  },
  {
   "cell_type": "code",
   "execution_count": null,
   "metadata": {},
   "outputs": [],
   "source": [
    "within5deg_obsinfo[within5deg_obsinfo['#obsid']==1207652304]['freq']"
   ]
  },
  {
   "cell_type": "code",
   "execution_count": null,
   "metadata": {},
   "outputs": [],
   "source": [
    "within5deg_obsinfo[within5deg_obsinfo['#obsid']==1207652424]"
   ]
  },
  {
   "cell_type": "code",
   "execution_count": null,
   "metadata": {},
   "outputs": [],
   "source": [
    "within5deg_obsinfo[within5deg_obsinfo['#obsid']==1207652424]['freq']"
   ]
  },
  {
   "cell_type": "code",
   "execution_count": 18,
   "metadata": {},
   "outputs": [],
   "source": [
    "freq_inits=[]\n",
    "for i in within5deg_obsinfo['freq']:\n",
    "    if i not in freq_inits:\n",
    "        freq_inits.append(i)"
   ]
  },
  {
   "cell_type": "code",
   "execution_count": 19,
   "metadata": {},
   "outputs": [
    {
     "data": {
      "text/plain": [
       "490"
      ]
     },
     "execution_count": 19,
     "metadata": {},
     "output_type": "execute_result"
    }
   ],
   "source": [
    "len(within5deg_obsinfo)"
   ]
  },
  {
   "cell_type": "code",
   "execution_count": 73,
   "metadata": {},
   "outputs": [
    {
     "data": {
      "text/plain": [
       "[109, 81, 57, 157, 133]"
      ]
     },
     "execution_count": 73,
     "metadata": {},
     "output_type": "execute_result"
    }
   ],
   "source": [
    "freq_inits"
   ]
  },
  {
   "cell_type": "markdown",
   "metadata": {},
   "source": [
    "### divide_by_freq_channel"
   ]
  },
  {
   "cell_type": "code",
   "execution_count": null,
   "metadata": {},
   "outputs": [],
   "source": [
    "for j in freq_inits:\n",
    "    path_freq_j=os.path.join(path_zip,str(j))\n",
    "    if not os.path.exists(path_freq_j):\n",
    "        os.mkdir(path_freq_j)"
   ]
  },
  {
   "cell_type": "code",
   "execution_count": 22,
   "metadata": {},
   "outputs": [
    {
     "data": {
      "text/plain": [
       "'/share/home/blv/mwa_code_py/ipynb'"
      ]
     },
     "execution_count": 22,
     "metadata": {},
     "output_type": "execute_result"
    }
   ],
   "source": [
    "pwd"
   ]
  },
  {
   "cell_type": "code",
   "execution_count": null,
   "metadata": {},
   "outputs": [],
   "source": [
    "for index,obsid in enumerate(within5deg_obsinfo['#obsid']):\n",
    "    freq=within5deg_obsinfo['freq'][index]\n",
    "    print(obsid,freq) \n",
    "    #print('mv %s/%s_ms.zip %s/%s'%(path_zip,obsid,path_zip,freq))\n",
    "    #print()\n",
    "    os.system('mv %s/%s_ms.zip %s/%s'%(path_zip,obsid,path_zip,freq))"
   ]
  },
  {
   "cell_type": "markdown",
   "metadata": {},
   "source": [
    "# skymodel"
   ]
  },
  {
   "cell_type": "code",
   "execution_count": 28,
   "metadata": {},
   "outputs": [],
   "source": [
    "ra_PKS0736=114.825\n",
    "dec_PKS0736=1.618"
   ]
  },
  {
   "cell_type": "code",
   "execution_count": 30,
   "metadata": {},
   "outputs": [
    {
     "name": "stdout",
     "output_type": "stream",
     "text": [
      "Filename: /share/home/blv/MWAdata/qguo_data/skymodels/1207652304_srclist_cal_100.fits\n",
      "No.    Name      Ver    Type      Cards   Dimensions   Format\n",
      "  0  PRIMARY       1 PrimaryHDU       4   ()      \n",
      "  1                1 BinTableHDU     30   100R x 11C   [14A, D, D, 10A, 9A, D, D, D, D, D, D]   \n",
      "ra_100_4Jy 54\n"
     ]
    }
   ],
   "source": [
    "npoint_cal=100\n",
    "jy_select=4\n",
    "\n",
    "skymodel_fitsfile='/share/home/blv/MWAdata/qguo_data/skymodels/1207652304_srclist_cal_100.fits'\n",
    "skymodelhdul_100 = fits.open(skymodel_fitsfile)\n",
    "skymodelhdul_100.info()\n",
    "skymodeldata_100=skymodelhdul_100[1].data\n",
    "ra_100_4Jy=skymodeldata_100[skymodeldata_100['peak_flux']>jy_select]['ra']\n",
    "dec_100_4Jy=skymodeldata_100[skymodeldata_100['peak_flux']>jy_select]['dec']\n",
    "\n",
    "print('ra_100_4Jy',len(ra_100_4Jy))"
   ]
  },
  {
   "cell_type": "code",
   "execution_count": null,
   "metadata": {},
   "outputs": [],
   "source": []
  },
  {
   "cell_type": "code",
   "execution_count": 35,
   "metadata": {},
   "outputs": [
    {
     "name": "stdout",
     "output_type": "stream",
     "text": [
      "Filename: /share/home/blv/MWAdata/qguo_data/skymodels/srclist_pumav3_EoR0aegean_EoR1pietro+ForA_1207652304_aocal1000.fits\n",
      "No.    Name      Ver    Type      Cards   Dimensions   Format\n",
      "  0  PRIMARY       1 PrimaryHDU       4   ()      \n",
      "  1                1 BinTableHDU     30   1000R x 11C   [14A, D, D, 10A, 9A, D, D, D, D, D, D]   \n",
      "infield 63\n",
      "infield_1jy 12\n",
      "0 116.2683,2.0028,J074504+020010 24.63\n",
      "1 113.4783,2.0394,J073354+020223 12.33\n",
      "2 114.8250,1.6181,J073918+013708 1.82\n",
      "3 113.6417,3.2539,J073433+031515 2.63\n",
      "4 115.2054,1.7144,J074049+014257 1.78\n",
      "5 115.6833,1.0986,J074244+010602 1.34\n",
      "6 116.0254,3.0308,J074406+030157 1.55\n",
      "7 115.5004,0.8681,J074200+005211 1.32\n",
      "8 114.6121,2.0753,J073826+020438 1.1\n",
      "9 116.2446,3.3800,J074458+032253 1.02\n",
      "10 114.4879,1.6189,J073757+013705 1.19\n",
      "11 113.4754,3.9931,J073353+035936 1.14\n",
      "center_3Jy 26\n"
     ]
    }
   ],
   "source": [
    "npoint_cal=1000\n",
    "obsid=1207652304\n",
    "\n",
    "skymodel_fitsfile_1000='/share/home/blv/MWAdata/qguo_data/skymodels/srclist_pumav3_EoR0aegean_EoR1pietro+ForA_%s_aocal%s.fits'%(obsid,npoint_cal)\n",
    "skymodelhdul_1000 = fits.open(skymodel_fitsfile_1000)\n",
    "skymodelhdul_1000.info()\n",
    "skymodeldata_1000=skymodelhdul_1000[1].data\n",
    "\n",
    "skymodeldata_select_infield=skymodeldata_1000[skymodeldata_1000['ra']<117]\n",
    "skymodeldata_select_infield=skymodeldata_select_infield[skymodeldata_select_infield['ra']>113]\n",
    "skymodeldata_select_infield=skymodeldata_select_infield[skymodeldata_select_infield['dec']>0]\n",
    "skymodeldata_select_infield=skymodeldata_select_infield[skymodeldata_select_infield['dec']<4]\n",
    "\n",
    "print('infield',len(skymodeldata_select_infield))\n",
    "\n",
    "skymodeldata_select_infield_1Jy=skymodeldata_select_infield[skymodeldata_select_infield['peak_flux']>1]\n",
    "\n",
    "print('infield_1jy',len(skymodeldata_select_infield_1Jy))\n",
    "\n",
    "ras_infield_1Jy=skymodeldata_select_infield_1Jy['ra']\n",
    "decs_infield_1Jy=skymodeldata_select_infield_1Jy['dec']\n",
    "names_infield_1Jy=skymodeldata_select_infield_1Jy['Name']\n",
    "\n",
    "#fig.show_markers(ras, decs, layer='marker_set_2', edgecolor='red',facecolor='none', marker='o', s=50, alpha=1.0)\n",
    "\n",
    "for index,(ra_,dec_,name_,peak_f_) in enumerate(zip(ras_infield_1Jy,decs_infield_1Jy,names_infield_1Jy,skymodeldata_select_infield_1Jy['peak_flux'])):\n",
    "    print(index,'%.4f,%.4f,%s'%(ra_,dec_,name_),peak_f_)\n",
    "    #fig.add_label(ra_,dec_,'%.3f,%.3f'%(ra_,dec_),color='yellow',fontsize=14)\n",
    "\n",
    "skymodeldata_select_center=skymodeldata_1000[skymodeldata_1000['ra']<125]\n",
    "skymodeldata_select_center=skymodeldata_select_center[skymodeldata_select_center['ra']>113]\n",
    "skymodeldata_select_center=skymodeldata_select_center[skymodeldata_select_center['dec']>0]\n",
    "skymodeldata_select_center=skymodeldata_select_center[skymodeldata_select_center['dec']<12]\n",
    "\n",
    "skymodeldata_select_center_3Jy=skymodeldata_select_center[skymodeldata_select_center['peak_flux']>3]\n",
    "ra_center_3Jy=skymodeldata_select_center_3Jy['ra']\n",
    "dec_center_3Jy=skymodeldata_select_center_3Jy['dec']\n",
    "print('center_3Jy',len(ra_center_3Jy))"
   ]
  },
  {
   "cell_type": "code",
   "execution_count": null,
   "metadata": {},
   "outputs": [],
   "source": []
  },
  {
   "cell_type": "code",
   "execution_count": null,
   "metadata": {},
   "outputs": [],
   "source": []
  },
  {
   "cell_type": "code",
   "execution_count": null,
   "metadata": {},
   "outputs": [],
   "source": [
    "## gen_model\n",
    "\n",
    "obsid=1207652304\n",
    "npoint_cal=1000\n",
    "msfile=obsid\n",
    "print('python2 srclist_by_beam.py -x --aocalibrate -m %s.metafits -n %d -s srclist_pumav3_EoR0aegean_EoR1pietro+ForA.txt'%(msfile,npoint_cal))    \n",
    "\n",
    "## model2fits\n",
    "\n",
    "obsid=1207652304\n",
    "npoint_cal=100\n",
    "print('python model2fits.py srclist_pumav3_EoR0aegean_EoR1pietro+ForA_%s_aocal%s.txt'%(obsid,npoint_cal))\n",
    "\n",
    "obsid=1207652304\n",
    "npoint_cal=1000\n",
    "print('python model2fits.py srclist_pumav3_EoR0aegean_EoR1pietro+ForA_%s_aocal%s.txt'%(obsid,npoint_cal))\n",
    "\n",
    "## vo2model\n",
    "\n",
    "obsid=1207652304\n",
    "npoint_cal=100\n",
    "print('python2 vo2model_py2.py --catalogue srclist_pumav3_EoR0aegean_EoR1pietro+ForA_%s_aocal%s.fits --output srclist_pumav3_EoR0aegean_EoR1pietro+ForA_%s_aocal%s.txt'%(obsid,npoint_cal,obsid,npoint_cal))\n",
    "\n",
    "python2 vo2model_py2.py --catalogue \n",
    "\n"
   ]
  },
  {
   "cell_type": "code",
   "execution_count": null,
   "metadata": {},
   "outputs": [],
   "source": [
    "## plot_skymodel\n",
    "\n",
    "fig, ax = plt.subplots()\n",
    "jy_select=0.01\n",
    "print(len(skymodeldata[skymodeldata['peak_flux']>jy_select]))\n",
    "cax=plot_skymodel_cmap(skymodeldata[skymodeldata['peak_flux']>jy_select],obsid=1207650864)\n",
    "cbar = fig.colorbar(cax, ticks=[0, 10, 20,30,40,50])\n",
    "#cbar.ax.set_yticklabels(['Low', 'Medium', 'High'])  # vertically oriented colorbar\n",
    "#ax.set_xlim(0,50)"
   ]
  },
  {
   "cell_type": "code",
   "execution_count": null,
   "metadata": {},
   "outputs": [],
   "source": []
  },
  {
   "cell_type": "code",
   "execution_count": null,
   "metadata": {},
   "outputs": [],
   "source": []
  },
  {
   "cell_type": "markdown",
   "metadata": {},
   "source": [
    "# def PATH"
   ]
  },
  {
   "cell_type": "code",
   "execution_count": 26,
   "metadata": {},
   "outputs": [],
   "source": [
    "path_img='/share/home/blv/MWAdata/qguo_data/img'\n",
    "casaimg='/share/home/blv/MWAdata/qguo_data/casa_img/'\n",
    "casaimg_done_path='/share/home/blv/MWAdata/qguo_data/casa_img/done'\n",
    "casaimg_nan_path='/share/home/blv/MWAdata/qguo_data/casa_img/nan'\n",
    "\n",
    "#path_done='/share/home/blv/MWAdata/qguo_data/G0044/within5deg/'\n",
    "#path_nan='/share/home/blv/MWAdata/qguo_data/G0044/nan_within5deg'\n",
    "\n",
    "path_lc='/share/home/blv/MWAdata/qguo_data/lightcurve/'\n",
    "path_aocal='/share/home/blv/MWAdata/qguo_data/aocal_plot_bin/'\n",
    "\n",
    "path_spec='/share/home/blv/MWAdata/qguo_data/spec/'\n",
    "path_skymodel='/share/home/blv/MWAdata/qguo_data/skymodels'\n",
    "path_zip='/share/home/blv/MWAdata/qguo_data/zip/'\n",
    "\n",
    "path_157='/share/home/blv/MWAdata/qguo_data/zip/157/'\n",
    "obsids_157=get_obsids(path_157)\n",
    "#obsid=obsids_157[0]\n"
   ]
  },
  {
   "cell_type": "code",
   "execution_count": 25,
   "metadata": {},
   "outputs": [
    {
     "name": "stdout",
     "output_type": "stream",
     "text": [
      "1207652304 215.68\n",
      "1207652784 184.96\n",
      "1207652544 118.4\n",
      "1207652664 154.24\n",
      "1207652424 87.68\n"
     ]
    }
   ],
   "source": [
    "create_skymodels_dir='/share/home/blv/mwa_code_py/for_hp/skymodel/scripts'\n",
    "for i in os.listdir(create_skymodels_dir):\n",
    "    if i.endswith('metafits'):\n",
    "        metafits_name=os.path.join(create_skymodels_dir,i)\n",
    "        metafits_hdul=fits.open(metafits_name)\n",
    "        print(i[:-9],metafits_hdul[0].header['FREQCENT'])\n",
    "        #print(i)"
   ]
  },
  {
   "cell_type": "code",
   "execution_count": null,
   "metadata": {},
   "outputs": [],
   "source": []
  },
  {
   "cell_type": "code",
   "execution_count": 24,
   "metadata": {},
   "outputs": [
    {
     "data": {
      "text/plain": [
       "['3c273.reg',\n",
       " 'CenA.reg',\n",
       " 'HydA.reg',\n",
       " 'M87.reg',\n",
       " 'PKS0736_nearby.reg',\n",
       " 'PKS0736_peel_01.reg',\n",
       " 'PKS0736_peel_02.reg',\n",
       " 'PKS0736_peel_03.reg',\n",
       " 'PKS0736_src.reg',\n",
       " 'PicA.reg',\n",
       " 'check_down_and_unzip_py2.py',\n",
       " 'done_0504.txt',\n",
       " 'ds9plot_image.py',\n",
       " 'gen_bat_part.py',\n",
       " 'gen_sh_bsub.py',\n",
       " 'get_length_argv.py',\n",
       " 'nan_within5deg_0504.txt',\n",
       " 'obsnum_step_all_1208601904_time_04-19-22h56m03s_to_04-20-00h42m01s.txt',\n",
       " 'within5deg.txt']"
      ]
     },
     "execution_count": 24,
     "metadata": {},
     "output_type": "execute_result"
    }
   ],
   "source": [
    "datadirs_root='/share/home/blv/MWAdata/qguo_data/G0044/'\n",
    "datadirs=os.listdir(datadirs_root)\n",
    "datadirs=sorted(datadirs)\n",
    "datadirs"
   ]
  },
  {
   "cell_type": "code",
   "execution_count": null,
   "metadata": {},
   "outputs": [],
   "source": []
  },
  {
   "cell_type": "code",
   "execution_count": null,
   "metadata": {},
   "outputs": [],
   "source": []
  },
  {
   "cell_type": "markdown",
   "metadata": {},
   "source": [
    "# aplpy_plot"
   ]
  },
  {
   "cell_type": "markdown",
   "metadata": {},
   "source": [
    "## plot_image_dddd"
   ]
  },
  {
   "cell_type": "code",
   "execution_count": null,
   "metadata": {},
   "outputs": [],
   "source": [
    "def plot_image_dddd(fits_image_filename,regfile,ra=114.825,dec=1.618,name='PKS0736+01'):\n",
    "    fits_image_filename_hdu = fits.open(fits_image_filename)\n",
    "    fits_image_filename_hdu[0].data *= 1e3\n",
    "\n",
    "    del fits_image_filename_hdu[0].header['*[34]']\n",
    "    fits_image_filename_hdu[0].header['NAXIS']=2\n",
    "    fits_image_filename_hdu[0].data = fits_image_filename_hdu[0].data[0][0]\n",
    "        \n",
    "    fig_0 = plt.figure(figsize=(7, 7))\n",
    "    fig = aplpy.FITSFigure(fits_image_filename_hdu,\n",
    "                       figure=fig_0,\n",
    "                       subplot=[0.,0.0,1.0,1.0])\n",
    "    fig.show_colorscale()\n",
    "    #fig.add_grid()\n",
    "    fig.add_colorbar()\n",
    "    fig.show_colorscale()\n",
    "\n",
    "    fig.colorbar.set_location('top')\n",
    "    fig.colorbar.set_pad(0.05)\n",
    "    fig.colorbar.set_font(size='medium', weight='medium', \\\n",
    "                      stretch='normal', family='sans-serif', \\\n",
    "                      style='normal', variant='normal')\n",
    "\n",
    "    fig.colorbar.set_axis_label_text('Flux Density (mJy/beam)')\n",
    "    fig.colorbar.set_axis_label_pad(10)\n",
    "    fig.colorbar.set_axis_label_rotation(0)\n",
    "    fig.colorbar.set_axis_label_font(size=10, weight='bold')\n",
    "    fig.colorbar.set_width(0.1)  # arbitrary units, default is 0.2\n",
    "    \n",
    "    \n",
    "    fig.add_scalebar(length=1.0)\n",
    "    fig.scalebar.show(1.0)  # length in degrees    \n",
    "    fig.scalebar.set_corner('top right')\n",
    "    fig.scalebar.set_color('white')\n",
    "    fig.scalebar.set_font(size='medium', weight='medium', \\\n",
    "                      stretch='normal', family='sans-serif', \\\n",
    "                      style='normal', variant='normal')\n",
    "    fig.scalebar.set_linestyle('solid')\n",
    "    fig.scalebar.set_linewidth(3)  # points\n",
    "    fig.scalebar.set_label('1 degree')    \n",
    "    \n",
    "    \n",
    "    fig.ticks.show()\n",
    "    fig.ticks.set_color('black')\n",
    "    fig.tick_labels.set_xformat('dd.dd')\n",
    "    fig.tick_labels.set_yformat('dd.dd')\n",
    "    #fig.tick_labels.set_xformat('hh:mm:ss')\n",
    "    ##fig.tick_labels.set_yformat('dd:mm:ss')\n",
    "\n",
    "    fig.show_regions(regfile)\n",
    "    fig.show_circles(ra, dec, radius=0.2,)#x_world, y_world, radius\n",
    "    fig.add_label(ra,dec+0.08, name,color='yellow',fontsize=14)\n",
    "    \n",
    "#fig.add_scalebar(0.2)\n",
    "#fig.scalebar.show(0.2)  # length in degrees\n",
    "#fig.scalebar.set_length(15 * u.arcminute)\n",
    "\n",
    "    fig.axis_labels.set_font(size='medium', weight='medium', \\\n",
    "                         stretch='normal', family='sans-serif', \\\n",
    "                         style='normal', variant='normal')\n",
    "\n",
    "#fig.show_circles(33.23, 55.33, radius=0.3,)#x_world, y_world, radius\n",
    "#fig.ticks.set_xspacing(0.25)  # degrees\n",
    "#fig.ticks.set_yspacing(2.0)  # degrees    \n",
    "\n",
    "    fig.ticks.set_minor_frequency(5)\n",
    "    fig.tick_labels.set_font(size='large')\n",
    "    fig.axis_labels.set_font(size='large')\n",
    "    fig.colorbar.set_axis_label_font(size=14)\n",
    "    #fig.axis_labels.set_xtext('Right Ascension (J2000)')\n",
    "    #fig.axis_labels.set_ytext('Declination (J2000)')\n",
    "#fig.set_system_latex(True)\n",
    "#fig.set_theme('publication')\n",
    "    fig.refresh()\n",
    "    #fig.set_auto_refresh(True)\n",
    "\n",
    "    fig_0.canvas.draw()\n",
    "    #fig.savefig('mwa_aplpy_%s.png'%(fits_image_filename.split('/')[-1],), dpi=400,)  \n",
    "    fits_image_filename_hdu.close()\n",
    "    return fig"
   ]
  },
  {
   "cell_type": "markdown",
   "metadata": {},
   "source": [
    "## plot_image_hhmmss"
   ]
  },
  {
   "cell_type": "code",
   "execution_count": null,
   "metadata": {},
   "outputs": [],
   "source": [
    "def plot_image_hhmmss(fits_image_filename,regfile,ra=114.825,dec=1.618,name='PKS0736+01'):\n",
    "    fits_image_filename_hdu = fits.open(fits_image_filename)\n",
    "    fits_image_filename_hdu[0].data *= 1e3\n",
    "\n",
    "    del fits_image_filename_hdu[0].header['*[34]']\n",
    "    fits_image_filename_hdu[0].header['NAXIS']=2\n",
    "    fits_image_filename_hdu[0].data = fits_image_filename_hdu[0].data[0][0]\n",
    "        \n",
    "    fig_0 = plt.figure(figsize=(7, 7))\n",
    "    fig = aplpy.FITSFigure(fits_image_filename_hdu,\n",
    "                       figure=fig_0,\n",
    "                       subplot=[0.,0.0,1.0,1.0])\n",
    "    fig.show_colorscale()\n",
    "    #fig.add_grid()\n",
    "    fig.add_colorbar()\n",
    "    fig.show_colorscale()\n",
    "\n",
    "    fig.colorbar.set_location('top')\n",
    "    fig.colorbar.set_pad(0.05)\n",
    "    fig.colorbar.set_font(size='medium', weight='medium', \\\n",
    "                      stretch='normal', family='sans-serif', \\\n",
    "                      style='normal', variant='normal')\n",
    "\n",
    "    fig.colorbar.set_axis_label_text('Flux Density (mJy/beam)')\n",
    "    fig.colorbar.set_axis_label_pad(10)\n",
    "    fig.colorbar.set_axis_label_rotation(0)\n",
    "    fig.colorbar.set_axis_label_font(size=10, weight='bold')\n",
    "    fig.colorbar.set_width(0.1)  # arbitrary units, default is 0.2\n",
    "    \n",
    "    \n",
    "    fig.add_scalebar(length=1.0)\n",
    "    fig.scalebar.show(1.0)  # length in degrees    \n",
    "    fig.scalebar.set_corner('top right')\n",
    "    fig.scalebar.set_color('white')\n",
    "    fig.scalebar.set_font(size='medium', weight='medium', \\\n",
    "                      stretch='normal', family='sans-serif', \\\n",
    "                      style='normal', variant='normal')\n",
    "    fig.scalebar.set_linestyle('solid')\n",
    "    fig.scalebar.set_linewidth(3)  # points\n",
    "    fig.scalebar.set_label('1 degree')    \n",
    "    \n",
    "    \n",
    "    fig.ticks.show()\n",
    "    fig.ticks.set_color('black')\n",
    "    #fig.tick_labels.set_xformat('dd.dd')\n",
    "    #fig.tick_labels.set_yformat('dd.dd')\n",
    "    fig.tick_labels.set_xformat('hh:mm:ss')\n",
    "    fig.tick_labels.set_yformat('dd:mm:ss')\n",
    "\n",
    "    fig.show_regions(regfile)\n",
    "    fig.show_circles(ra, dec, radius=0.2,)#x_world, y_world, radius\n",
    "    fig.add_label(ra,dec+0.08, name,color='yellow',fontsize=14)\n",
    "    \n",
    "#fig.add_scalebar(0.2)\n",
    "#fig.scalebar.show(0.2)  # length in degrees\n",
    "#fig.scalebar.set_length(15 * u.arcminute)\n",
    "\n",
    "    fig.axis_labels.set_font(size='medium', weight='medium', \\\n",
    "                         stretch='normal', family='sans-serif', \\\n",
    "                         style='normal', variant='normal')\n",
    "\n",
    "#fig.show_circles(33.23, 55.33, radius=0.3,)#x_world, y_world, radius\n",
    "#fig.ticks.set_xspacing(0.25)  # degrees\n",
    "#fig.ticks.set_yspacing(2.0)  # degrees    \n",
    "\n",
    "    fig.ticks.set_minor_frequency(5)\n",
    "    fig.tick_labels.set_font(size='large')\n",
    "    fig.axis_labels.set_font(size='large')\n",
    "    fig.colorbar.set_axis_label_font(size=14)\n",
    "    #fig.axis_labels.set_xtext('Right Ascension (J2000)')\n",
    "    #fig.axis_labels.set_ytext('Declination (J2000)')\n",
    "#fig.set_system_latex(True)\n",
    "#fig.set_theme('publication')\n",
    "    fig.refresh()\n",
    "    #fig.set_auto_refresh(True)\n",
    "\n",
    "    fig_0.canvas.draw()\n",
    "    #fig.savefig('mwa_aplpy_%s.png'%(fits_image_filename.split('/')[-1],), dpi=400,)  \n",
    "    fits_image_filename_hdu.close()\n",
    "    return fig"
   ]
  },
  {
   "cell_type": "markdown",
   "metadata": {},
   "source": [
    "## plot_image_recenter"
   ]
  },
  {
   "cell_type": "code",
   "execution_count": null,
   "metadata": {},
   "outputs": [],
   "source": [
    "def plot_image_recenter(fits_image_filename,regfile,ra=114.825,dec=1.618,name='PKS 0736+01',regionsize=1.5):\n",
    "    fits_image_filename_hdu = fits.open(fits_image_filename)\n",
    "    fits_image_filename_hdu[0].data *= 1e3\n",
    "\n",
    "    del fits_image_filename_hdu[0].header['*[34]']\n",
    "    fits_image_filename_hdu[0].header['NAXIS']=2\n",
    "    fits_image_filename_hdu[0].data = fits_image_filename_hdu[0].data[0][0]\n",
    "        \n",
    "    fig_0 = plt.figure(figsize=(7, 7))\n",
    "    fig = aplpy.FITSFigure(fits_image_filename_hdu,\n",
    "                       figure=fig_0,\n",
    "                       subplot=[0.,0.0,1.0,1.0])\n",
    "    fig.show_colorscale()\n",
    "    #fig.add_grid()\n",
    "    fig.add_colorbar()\n",
    "    fig.show_colorscale()\n",
    "\n",
    "    fig.colorbar.set_location('top')\n",
    "    fig.colorbar.set_pad(0.05)\n",
    "    fig.colorbar.set_font(size='medium', weight='medium', \\\n",
    "                      stretch='normal', family='sans-serif', \\\n",
    "                      style='normal', variant='normal')\n",
    "\n",
    "    fig.colorbar.set_axis_label_text('Flux Density (mJy/beam)')\n",
    "    fig.colorbar.set_axis_label_pad(10)\n",
    "    fig.colorbar.set_axis_label_rotation(0)\n",
    "    fig.colorbar.set_axis_label_font(size=10, weight='bold')\n",
    "    fig.colorbar.set_width(0.1)  # arbitrary units, default is 0.2\n",
    "\n",
    "    \n",
    "\n",
    "    #fig.ticks.show()\n",
    "    fig.ticks.set_color('black')\n",
    "    fig.tick_labels.set_xformat('dd.dd')\n",
    "    fig.tick_labels.set_yformat('dd.dd')\n",
    "    fig.ticks.set_minor_frequency(5)\n",
    "    fig.tick_labels.set_font(size='large')\n",
    "    fig.axis_labels.set_font(size='large')\n",
    "\n",
    "    \n",
    "    fig.show_regions(regfile)\n",
    "    fig.show_circles(ra, dec, radius=0.2,)#x_world, y_world, radius\n",
    "    fig.add_label(ra,dec+0.08, name,color='yellow',fontsize=14)\n",
    "\n",
    "\n",
    "    fig.recenter(ra,dec, regionsize, regionsize)  # degrees\n",
    "    \n",
    "#fig.add_scalebar(0.2)\n",
    "#fig.scalebar.show(0.2)  # length in degrees\n",
    "#fig.scalebar.set_length(15 * u.arcminute)\n",
    "\n",
    "    fig.axis_labels.set_font(size='medium', weight='medium', \\\n",
    "                         stretch='normal', family='sans-serif', \\\n",
    "                         style='normal', variant='normal')\n",
    "\n",
    "#fig.show_circles(33.23, 55.33, radius=0.3,)#x_world, y_world, radius\n",
    "#fig.ticks.set_xspacing(0.25)  # degrees\n",
    "#fig.ticks.set_yspacing(2.0)  # degrees    \n",
    "\n",
    "   \n",
    "    fig.add_scalebar(length=0.2)\n",
    "    fig.scalebar.show(0.2)  # length in degrees\n",
    "    \n",
    "    fig.scalebar.set_corner('top right')\n",
    "    fig.scalebar.set_color('white')\n",
    "    fig.scalebar.set_font(size='medium', weight='medium', \\\n",
    "                      stretch='normal', family='sans-serif', \\\n",
    "                      style='normal', variant='normal')\n",
    "    fig.scalebar.set_linestyle('solid')\n",
    "    fig.scalebar.set_linewidth(3)  # points\n",
    "    fig.scalebar.set_label('12 arcmin')\n",
    "\n",
    "    #fig.axis_labels.set_xtext('Right Ascension (J2000)')\n",
    "    #fig.axis_labels.set_ytext('Declination (J2000)')\n",
    "#fig.set_system_latex(True)\n",
    "#fig.set_theme('publication')\n",
    "    fig.refresh()\n",
    "    #fig.set_auto_refresh(True)\n",
    "#fig.recenter(201,-43,radius=1)  # degrees\n",
    "    fig_0.canvas.draw()\n",
    "    #fig.savefig('mwa_aplpy_%s.png'%(fits_image_filename.split('/')[-1],), dpi=400,)  \n",
    "    fits_image_filename_hdu.close()\n",
    "    return fig"
   ]
  },
  {
   "cell_type": "code",
   "execution_count": null,
   "metadata": {},
   "outputs": [],
   "source": []
  },
  {
   "cell_type": "markdown",
   "metadata": {},
   "source": [
    "## briggsplus1"
   ]
  },
  {
   "cell_type": "code",
   "execution_count": null,
   "metadata": {},
   "outputs": [],
   "source": [
    "jy_select=0\n",
    "obsid=1207652304\n",
    "npoint_cal=100\n",
    "prefix='briggsplus1'\n",
    "\n",
    "\n",
    "regfile='/share/home/blv/mwa_code_py/PKS0736_src.reg'\n",
    "name='PKS0736+01'\n",
    "fits_image_filename = '/%s/%d/stokes-%d-briggsplus1-I.fits'%(path_157,obsid,obsid)#sys.argv[1]\n",
    "fits_file=fits_image_filename.split('/')[-1]\n",
    "\n",
    "fig=plot_image_hhmmss(fits_image_filename,regfile,ra=114.825,dec=1.618,name='PKS 0736+01')\n",
    "#for ra_,dec_ in zip(ras,decs):\n",
    "    #print('%.3f,%.3f'%(ra_,dec_))\n",
    "    #fig.add_label(ra_,dec_,'%.3f,%.3f'%(ra_,dec_),color='black',fontsize=14)\n",
    "#fig.show_regions('/share/home/blv/MWAdata/qguo_data/G0044/PKS0736/2018_04_13/PKS0736_nearby.reg')\n",
    "#fig.show_regions('/share/home/blv/MWAdata/qguo_data/G0044/PKS0736/2018_04_13/PKS0736_src.reg')\n",
    "\n",
    "\n",
    "\n",
    "ra_1000=skymodeldata_1000[skymodeldata_1000['peak_flux']>jy_select]['ra']\n",
    "dec_1000=skymodeldata_1000[skymodeldata_1000['peak_flux']>jy_select]['dec']\n",
    "fig.show_markers(ra_1000, dec_1000, layer='marker_set_2', edgecolor='yellow',\n",
    "                facecolor='none', marker='o', s=50, alpha=1.0)\n",
    "\n",
    "fig.show_markers(ras, decs, layer='marker_set_2', edgecolor='red',\n",
    "                facecolor='none', marker='o', s=50, alpha=1.0)\n",
    "\n",
    "fig.savefig('%s/aplpy_img/test/%s_hhmmss.png'%(path_img,fits_file),dpi=400)"
   ]
  },
  {
   "cell_type": "code",
   "execution_count": null,
   "metadata": {},
   "outputs": [],
   "source": []
  },
  {
   "cell_type": "code",
   "execution_count": null,
   "metadata": {
    "scrolled": true
   },
   "outputs": [],
   "source": [
    "jy_select=0\n",
    "obsid=1207652304\n",
    "npoint_cal=100\n",
    "\n",
    "regfile='/share/home/blv/mwa_code_py/PKS0736_src.reg'\n",
    "name='PKS0736+01'\n",
    "fits_image_filename = '/%s/%d/stokes-%d-briggsplus1-I.fits'%(path_157,obsid,obsid)#sys.argv[1]\n",
    "fits_file=fits_image_filename.split('/')[-1]\n",
    "\n",
    "fig=plot_image_recenter(fits_image_filename,regfile,ra=114.825,dec=1.618,name='PKS 0736+01',regionsize=1.5)\n",
    "\n",
    "for ra_,dec_ in zip(ras,decs):\n",
    "    #print('%.3f,%.3f'%(ra_,dec_))\n",
    "    fig.add_label(ra_,dec_,'%.3f,%.3f'%(ra_,dec_),color='black',fontsize=14)\n",
    "#fig.show_regions('/share/home/blv/MWAdata/qguo_data/G0044/PKS0736/2018_04_13/PKS0736_nearby.reg')\n",
    "#fig.show_regions('/share/home/blv/MWAdata/qguo_data/G0044/PKS0736/2018_04_13/PKS0736_src.reg')\n",
    "fig.savefig('%s/aplpy_img/test/%s_recenter_label.png'%(path_img,fits_file),dpi=400)"
   ]
  },
  {
   "cell_type": "code",
   "execution_count": null,
   "metadata": {},
   "outputs": [],
   "source": []
  },
  {
   "cell_type": "code",
   "execution_count": null,
   "metadata": {},
   "outputs": [],
   "source": [
    "jy_select=0\n",
    "\n",
    "obsid=1207652304\n",
    "regfile='/share/home/blv/mwa_code_py/PKS0736_src.reg'\n",
    "name='PKS0736+01'\n",
    "\n",
    "fits_image_filename = '/share/home/blv/MWAdata/qguo_data/zip/157/%d/stokes-%d-briggsplus1-I.fits'%(obsid,obsid)#sys.argv[1]\n",
    "fits_file=fits_image_filename.split('/')[-1]\n",
    "\n",
    "#fig=plot_image_dddd(fits_image_filename,regfile)\n",
    "fig=plot_image_recenter(fits_image_filename,regfile,ra=114.825,dec=1.618,name='PKS 0736+01',regionsize=1.5)\n",
    "#fig.show_regions('/share/home/blv/MWAdata/qguo_data/G0044/PKS0736/2018_04_13/PKS0736_nearby.reg')\n",
    "#fig.show_regions('/share/home/blv/MWAdata/qguo_data/G0044/PKS0736/2018_04_13/PKS0736_src.reg')\n",
    "\n",
    "\n",
    "\n",
    "fig.show_markers(ra_100, dec_100, layer='marker_set_2', edgecolor='white',\n",
    "                facecolor='none', marker='o', s=50, alpha=1.0)\n",
    "\n",
    "fig.show_markers(ras, decs, layer='marker_set_2', edgecolor='red',\n",
    "                facecolor='none', marker='o', s=50, alpha=1.0)\n",
    "fig.savefig('%s/aplpy_img/test/%s_recenter.png'%(path_img,fits_file),dpi=400)\n",
    "#fig.savefig('%s/aplpy_img/%s_skymodel_%s_dddd.png'%(path_img,obsid,npoint_cal),dpi=400)\n"
   ]
  },
  {
   "cell_type": "markdown",
   "metadata": {},
   "source": [
    "## casaflag"
   ]
  },
  {
   "cell_type": "code",
   "execution_count": null,
   "metadata": {
    "scrolled": true
   },
   "outputs": [],
   "source": [
    "jy_select=0\n",
    "\n",
    "obsid=1207652304\n",
    "regfile='/share/home/blv/mwa_code_py/PKS0736_src.reg'\n",
    "name='PKS0736+01'\n",
    "\n",
    "fits_image_filename = '/share/home/blv/MWAdata/qguo_data/zip/157/%d/stokes-%d-casaflag-I.fits'%(obsid,obsid)#sys.argv[1]\n",
    "fits_file=fits_image_filename.split('/')[-1]\n",
    "\n",
    "#fig=plot_image_dddd(fits_image_filename,regfile)\n",
    "fig=plot_image_dddd(fits_image_filename,regfile,ra=114.825,dec=1.618,name='PKS 0736+01')\n",
    "#fig.show_regions('/share/home/blv/MWAdata/qguo_data/G0044/PKS0736/2018_04_13/PKS0736_nearby.reg')\n",
    "#fig.show_regions('/share/home/blv/MWAdata/qguo_data/G0044/PKS0736/2018_04_13/PKS0736_src.reg')\n",
    "\n",
    "#fig.show_markers(ra_100, dec_100, layer='marker_set_2', edgecolor='red',\n",
    "#                facecolor='none', marker='o', s=50, alpha=1.0)\n",
    "\n",
    "for ra_,dec_ in zip(ra_center,dec_center):\n",
    "    #print('%.3f,%.3f'%(ra_,dec_))\n",
    "    fig.add_label(ra_,dec_,'%.3f,%.3f'%(ra_,dec_),color='black',fontsize=14)\n",
    "\n",
    "fig.savefig('%s/aplpy_img/test/%s_dddd_casaflag.png'%(path_img,fits_file),dpi=400)\n"
   ]
  },
  {
   "cell_type": "code",
   "execution_count": null,
   "metadata": {},
   "outputs": [],
   "source": []
  },
  {
   "cell_type": "code",
   "execution_count": null,
   "metadata": {},
   "outputs": [],
   "source": [
    "jy_select=0\n",
    "\n",
    "obsid=1207652304\n",
    "regfile='/share/home/blv/mwa_code_py/PKS0736_src.reg'\n",
    "name='PKS0736+01'\n",
    "\n",
    "fits_image_filename = '/share/home/blv/MWAdata/qguo_data/zip/157/%d/stokes-%d-casaflag-I.fits'%(obsid,obsid)#sys.argv[1]\n",
    "fits_file=fits_image_filename.split('/')[-1]\n",
    "\n",
    "#fig=plot_image_dddd(fits_image_filename,regfile)\n",
    "fig=plot_image_recenter(fits_image_filename,regfile,ra=114.825,dec=1.618,name='PKS 0736+01',regionsize=1.5)\n",
    "#fig.show_regions('/share/home/blv/MWAdata/qguo_data/G0044/PKS0736/2018_04_13/PKS0736_nearby.reg')\n",
    "#fig.show_regions('/share/home/blv/MWAdata/qguo_data/G0044/PKS0736/2018_04_13/PKS0736_src.reg')\n",
    "\n",
    "fig.show_markers(ra_100, dec_100, layer='marker_set_2', edgecolor='red',\n",
    "                facecolor='none', marker='o', s=50, alpha=1.0)\n",
    "\n",
    "fig.savefig('%s/aplpy_img/%s_skymodel_%s_dddd.png'%(path_img,obsid,npoint_cal),dpi=400)\n"
   ]
  },
  {
   "cell_type": "code",
   "execution_count": null,
   "metadata": {},
   "outputs": [],
   "source": []
  },
  {
   "cell_type": "markdown",
   "metadata": {},
   "source": [
    "## selfcal "
   ]
  },
  {
   "cell_type": "code",
   "execution_count": null,
   "metadata": {
    "scrolled": true
   },
   "outputs": [],
   "source": [
    "jy_select=0\n",
    "\n",
    "obsid=1207652304\n",
    "regfile='/share/home/blv/mwa_code_py/PKS0736_src.reg'\n",
    "name='PKS0736+01'\n",
    "\n",
    "fits_image_filename = '/share/home/blv/MWAdata/qguo_data/zip/157/%d/stokes-%d-selfcal-I.fits'%(obsid,obsid)#sys.argv[1]\n",
    "#fig=plot_image_dddd(fits_image_filename,regfile)\n",
    "fig=plot_image_recenter(fits_image_filename,regfile,ra=114.825,dec=1.618,name='PKS 0736+01',regionsize=1.5)\n",
    "#fig.show_regions('/share/home/blv/MWAdata/qguo_data/G0044/PKS0736/2018_04_13/PKS0736_nearby.reg')\n",
    "#fig.show_regions('/share/home/blv/MWAdata/qguo_data/G0044/PKS0736/2018_04_13/PKS0736_src.reg')\n",
    "\n",
    "\n",
    "fig.show_markers(ra_100, dec_100, layer='marker_set_2', edgecolor='red',\n",
    "                facecolor='none', marker='o', s=50, alpha=1.0)\n",
    "\n",
    "#fig.savefig('%s/aplpy_img/%s_skymodel_%s_dddd.png'%(path_img,obsid,npoint_cal),dpi=400)\n"
   ]
  },
  {
   "cell_type": "code",
   "execution_count": null,
   "metadata": {},
   "outputs": [],
   "source": []
  },
  {
   "cell_type": "code",
   "execution_count": null,
   "metadata": {},
   "outputs": [],
   "source": []
  },
  {
   "cell_type": "code",
   "execution_count": null,
   "metadata": {},
   "outputs": [],
   "source": []
  },
  {
   "cell_type": "code",
   "execution_count": null,
   "metadata": {},
   "outputs": [],
   "source": []
  },
  {
   "cell_type": "code",
   "execution_count": null,
   "metadata": {},
   "outputs": [],
   "source": [
    "jy_select=0\n",
    "\n",
    "obsid=1207652904\n",
    "regfile='/share/home/blv/mwa_code_py/PKS0736_src.reg'\n",
    "name='PKS0736+01'\n",
    "\n",
    "fits_image_filename = '/share/home/blv/MWAdata/qguo_data/zip/157/%d/stokes-%d-briggsplus1-I.fits'%(obsid,obsid)#sys.argv[1]\n",
    "#fig=plot_image_dddd(fits_image_filename,regfile)\n",
    "fig=plot_image_dddd(fits_image_filename,regfile,ra=114.825,dec=1.618,name='PKS 0736+01')\n",
    "#fig.show_regions('/share/home/blv/MWAdata/qguo_data/G0044/PKS0736/2018_04_13/PKS0736_nearby.reg')\n",
    "#fig.show_regions('/share/home/blv/MWAdata/qguo_data/G0044/PKS0736/2018_04_13/PKS0736_src.reg')\n",
    "\n",
    "\n",
    "fig.show_markers(ra_100, dec_100, layer='marker_set_2', edgecolor='red',\n",
    "                facecolor='none', marker='o', s=50, alpha=1.0)\n",
    "\n",
    "\n",
    "#fig.savefig('%s/aplpy_img/%s_skymodel_%s_dddd.png'%(path_img,obsid,npoint_cal),dpi=400)\n"
   ]
  },
  {
   "cell_type": "code",
   "execution_count": null,
   "metadata": {
    "scrolled": true
   },
   "outputs": [],
   "source": [
    "jy_select=0\n",
    "\n",
    "obsid=1207652904\n",
    "regfile='/share/home/blv/mwa_code_py/PKS0736_src.reg'\n",
    "name='PKS0736+01'\n",
    "\n",
    "fits_image_filename = '/share/home/blv/MWAdata/qguo_data/zip/157/%d/stokes-%d-briggsplus1-I.fits'%(obsid,obsid)#sys.argv[1]\n",
    "#fig=plot_image_dddd(fits_image_filename,regfile)\n",
    "fig=plot_image_recenter(fits_image_filename,regfile,ra=114.825,dec=1.618,name='PKS 0736+01',regionsize=1.5)\n",
    "#fig.show_regions('/share/home/blv/MWAdata/qguo_data/G0044/PKS0736/2018_04_13/PKS0736_nearby.reg')\n",
    "#fig.show_regions('/share/home/blv/MWAdata/qguo_data/G0044/PKS0736/2018_04_13/PKS0736_src.reg')\n",
    "\n",
    "\n",
    "fig.show_markers(ra_100, dec_100, layer='marker_set_2', edgecolor='red',\n",
    "                facecolor='none', marker='o', s=50, alpha=1.0)\n",
    "\n",
    "\n",
    "#fig.savefig('%s/aplpy_img/%s_skymodel_%s_dddd.png'%(path_img,obsid,npoint_cal),dpi=400)\n"
   ]
  },
  {
   "cell_type": "markdown",
   "metadata": {},
   "source": [
    "## bat_img"
   ]
  },
  {
   "cell_type": "markdown",
   "metadata": {},
   "source": [
    "### plot_image_hhmmss"
   ]
  },
  {
   "cell_type": "code",
   "execution_count": null,
   "metadata": {
    "scrolled": true
   },
   "outputs": [],
   "source": [
    "for obsid in obsids_157:\n",
    "\n",
    "\n",
    "    regfile='/share/home/blv/mwa_code_py/PKS0736_src.reg'\n",
    "    name='PKS0736+01'\n",
    "\n",
    "    fits_image_filename = '/share/home/blv/MWAdata/qguo_data/zip/157/%s/stokes-%s-%s-I.fits'%(obsid,obsid,prefix)#sys.argv[1]\n",
    "    fits_file=fits_image_filename.split('/')[-1]\n",
    "    \n",
    "    if os.path.exists(fits_image_filename) :\n",
    "        if not os.path.exists('%s/aplpy_img/%s_hhmmss.png'%(path_img,fits_file[:-5])):            \n",
    "    #fig=plot_image_dddd(fits_image_filename,regfile)\n",
    "            fig=plot_image_hhmmss(fits_image_filename,regfile,ra=114.825,dec=1.618,name='PKS 0736+01')\n",
    "#fig.show_regions('/share/home/blv/MWAdata/qguo_data/G0044/PKS0736/2018_04_13/PKS0736_nearby.reg')\n",
    "#fig.show_regions('/share/home/blv/MWAdata/qguo_data/G0044/PKS0736/2018_04_13/PKS0736_src.reg')\n",
    "            fig.show_markers(ras, decs, layer='marker_set_2', edgecolor='red',\n",
    "                facecolor='none', marker='o', s=50, alpha=1.0)\n",
    "\n",
    "            fig.savefig('%s/aplpy_img/%s_hhmmss.png'%(path_img,fits_file[:-5]),dpi=400)\n"
   ]
  },
  {
   "cell_type": "markdown",
   "metadata": {},
   "source": [
    "### plot_image_recenter"
   ]
  },
  {
   "cell_type": "code",
   "execution_count": null,
   "metadata": {},
   "outputs": [],
   "source": [
    "for obsid in obsids_157:\n",
    "\n",
    "    regfile='/share/home/blv/mwa_code_py/PKS0736_src.reg'\n",
    "    name='PKS0736+01'\n",
    "\n",
    "    fits_image_filename = '/share/home/blv/MWAdata/qguo_data/zip/157/%s/stokes-%s-%s-I.fits'%(obsid,obsid,prefix)#sys.argv[1]\n",
    "    fits_file=fits_image_filename.split('/')[-1]\n",
    "    \n",
    "    if os.path.exists(fits_image_filename):\n",
    "        if not os.path.exists('%s/aplpy_img/%s_recenter.png'%(path_img,fits_file[:-5])):\n",
    "\n",
    "        #fig=plot_image_dddd(fits_image_filename,regfile)\n",
    "            fig=plot_image_recenter(fits_image_filename,regfile,ra=114.825,dec=1.618,name='PKS 0736+01',regionsize=1.5)\n",
    "#fig.show_regions('/share/home/blv/MWAdata/qguo_data/G0044/PKS0736/2018_04_13/PKS0736_nearby.reg')\n",
    "#fig.show_regions('/share/home/blv/MWAdata/qguo_data/G0044/PKS0736/2018_04_13/PKS0736_src.reg')\n",
    "            fig.show_markers(ras, decs, layer='marker_set_2', edgecolor='red',\n",
    "                facecolor='none', marker='o', s=50, alpha=1.0)\n",
    "\n",
    "            fig.savefig('%s/aplpy_img/%s_recenter.png'%(path_img,fits_file[:-5]),dpi=400)\n"
   ]
  },
  {
   "cell_type": "code",
   "execution_count": null,
   "metadata": {},
   "outputs": [],
   "source": []
  },
  {
   "cell_type": "markdown",
   "metadata": {},
   "source": [
    "# create_skymodel"
   ]
  },
  {
   "cell_type": "markdown",
   "metadata": {},
   "source": [
    "python3 create_skymodel GLEAM_EGC_v2.fits 1207652424.metafits -o skymodel_1Jy_84MHz.txt -R 20 -p -n 100 -z 84 -r int_flux_084 --ra_key 'RAJ2000' --dec_key 'DEJ2000' -t 1 --index 'alpha' --alpha 0.0"
   ]
  },
  {
   "cell_type": "markdown",
   "metadata": {},
   "source": [
    "python3 create_skymodel GLEAM_EGC_v2.fits 1207652544.metafits -o skymodel_1Jy_115MHz.txt -R 20 -p -n 100 -z 115 -r int_flux_115 --ra_key 'RAJ2000' --dec_key 'DEJ2000' -t 1 --index 'alpha' --alpha 0.0"
   ]
  },
  {
   "cell_type": "markdown",
   "metadata": {},
   "source": [
    "python3 create_skymodel GLEAM_EGC_v2.fits 1207652664.metafits -o skymodel_1Jy_151MHz.txt -R 20 -p -n 100 -z 151 -r int_flux_151 --ra_key 'RAJ2000' --dec_key 'DEJ2000' -t 1 --index 'alpha' --alpha 0.0"
   ]
  },
  {
   "cell_type": "markdown",
   "metadata": {},
   "source": [
    "python3 create_skymodel GLEAM_EGC_v2.fits 1207652784.metafits -o skymodel_1Jy_181MHz.txt -R 20 -p -n 100 -z 181 -r int_flux_181 --ra_key 'RAJ2000' --dec_key 'DEJ2000' -t 1 --index 'alpha' --alpha 0.0"
   ]
  },
  {
   "cell_type": "markdown",
   "metadata": {},
   "source": [
    "python3 create_skymodel GLEAM_EGC_v2.fits 1207652304.metafits -o skymodel_1Jy_212MHz.txt -R 20 -p -n 100 -z 212 -r int_flux_212 --ra_key 'RAJ2000' --dec_key 'DEJ2000' -t 1 --index 'alpha' --alpha 0.0"
   ]
  },
  {
   "cell_type": "markdown",
   "metadata": {},
   "source": [
    "## skymodel_from_gleam"
   ]
  },
  {
   "cell_type": "markdown",
   "metadata": {},
   "source": [
    "/home/brettlv/python_code/mwa/mwa_code_py/mwa_github/skymodel/scripts"
   ]
  },
  {
   "cell_type": "markdown",
   "metadata": {},
   "source": [
    "## source name location"
   ]
  },
  {
   "cell_type": "markdown",
   "metadata": {},
   "source": [
    "###  PKS0736"
   ]
  },
  {
   "cell_type": "code",
   "execution_count": null,
   "metadata": {},
   "outputs": [],
   "source": [
    "ra_PKS0736=114.825\n",
    "dec_PKS0736=1.618"
   ]
  },
  {
   "cell_type": "code",
   "execution_count": null,
   "metadata": {},
   "outputs": [],
   "source": []
  },
  {
   "cell_type": "code",
   "execution_count": null,
   "metadata": {},
   "outputs": [],
   "source": []
  },
  {
   "cell_type": "markdown",
   "metadata": {},
   "source": [
    "## peel_out"
   ]
  },
  {
   "cell_type": "code",
   "execution_count": null,
   "metadata": {},
   "outputs": [],
   "source": [
    "def gen_peel_models(npoint_cal,regionsize,obsid=1207652424):\n",
    "    name_fix=2*regionsize\n",
    "    skymodel_fitsfile_1000='/%s/%s/srclist_pumav3_EoR0aegean_EoR1pietro+ForA_%s_aocal%s.fits'%(path_nan,obsid,obsid,npoint_cal)\n",
    "    skymodelhdul_1000 = fits.open(skymodel_fitsfile_1000)\n",
    "    #skymodelhdul_1000.info()\n",
    "    skymodeldata_1000=skymodelhdul_1000[1].data\n",
    "\n",
    "    skymodeldata_select_peel_out=skymodeldata_1000[abs(skymodeldata_1000['ra']-ra_PKS0736)>regionsize]\n",
    "    skymodeldata_select_peel_out=skymodeldata_select_peel_out[abs(skymodeldata_select_peel_out['dec']-dec_PKS0736)>regionsize]\n",
    "    skymodelhdul_1000[1].data=skymodeldata_select_peel_out\n",
    "    \n",
    "    length_peel=len(skymodelhdul_1000[1].data)\n",
    "    \n",
    "    peel_name_file='/share/home/blv/MWAdata/qguo_data/skymodels/%d_skymodels_peel_out_%d_deg_%d_sources.fits'%(npoint_cal,name_fix,length_peel)\n",
    "    \n",
    "    skymodelhdul_1000.writeto(peel_name_file,overwrite=True)\n",
    "    \n",
    "    \n",
    "    print(length_peel)\n",
    "    print('python2 vo2model_py2.py --catalogue %s --output %s.txt'%(peel_name_file,peel_name_file[:-5]))\n",
    "    os.chdir('/share/home/blv/MWAdata/qguo_data/skymodels/')\n",
    "    os.system('python2 vo2model_py2.py --catalogue %s --output %s.txt'%(peel_name_file,peel_name_file[:-5]))\n"
   ]
  },
  {
   "cell_type": "code",
   "execution_count": null,
   "metadata": {},
   "outputs": [],
   "source": [
    "gen_peel_models(100,1)"
   ]
  },
  {
   "cell_type": "code",
   "execution_count": null,
   "metadata": {},
   "outputs": [],
   "source": [
    "gen_peel_models(100,2)"
   ]
  },
  {
   "cell_type": "code",
   "execution_count": null,
   "metadata": {},
   "outputs": [],
   "source": [
    "gen_peel_models(100,2.5)"
   ]
  },
  {
   "cell_type": "code",
   "execution_count": null,
   "metadata": {},
   "outputs": [],
   "source": [
    "gen_peel_models(100,5)"
   ]
  },
  {
   "cell_type": "code",
   "execution_count": null,
   "metadata": {},
   "outputs": [],
   "source": [
    "gen_peel_models(1000,2.5)"
   ]
  },
  {
   "cell_type": "code",
   "execution_count": null,
   "metadata": {},
   "outputs": [],
   "source": [
    "gen_peel_models(1000,5)"
   ]
  },
  {
   "cell_type": "code",
   "execution_count": null,
   "metadata": {},
   "outputs": [],
   "source": []
  },
  {
   "cell_type": "markdown",
   "metadata": {},
   "source": [
    "### peel_3sources"
   ]
  },
  {
   "cell_type": "code",
   "execution_count": null,
   "metadata": {},
   "outputs": [],
   "source": [
    "npoint_cal=100\n",
    "skymodel_fitsfile_100='/share/home/blv/MWAdata/qguo_data/G0044/nan_within5deg/%s/srclist_pumav3_EoR0aegean_EoR1pietro+ForA_%s_aocal%s.fits'%(obsid,obsid,npoint_cal)\n",
    "skymodelhdul_100 = fits.open(skymodel_fitsfile_100)\n",
    "skymodelhdul_100.info()\n",
    "skymodeldata_100=skymodelhdul_100[1].data\n",
    "skymodeldata_select_peel_3sources=skymodeldata_100[skymodeldata_100['ra']<124]\n",
    "skymodeldata_select_peel_3sources=skymodeldata_select_peel_3sources[skymodeldata_select_peel_3sources['ra']>120]\n",
    "skymodeldata_select_peel_3sources=skymodeldata_select_peel_3sources[skymodeldata_select_peel_3sources['dec']>-4]\n",
    "skymodeldata_select_peel_3sources=skymodeldata_select_peel_3sources[skymodeldata_select_peel_3sources['dec']<0]\n",
    "\n",
    "skymodelhdul_100[1].data=skymodeldata_select_peel_3sources\n",
    "peel_name_file='/share/home/blv/MWAdata/qguo_data/skymodels/%d_skymodels_peel_3sources.fits'%(npoint_cal)  \n",
    "skymodelhdul_100.writeto(peel_name_file,overwrite=True)\n",
    "\n",
    "length_peel=len(fits.open(peel_name_file)[1].data)\n",
    "print(length_peel)\n",
    "print('python2 vo2model_py2.py --catalogue %s --output %s.txt'%(peel_name_file,peel_name_file[:-5]))\n",
    "os.chdir('/share/home/blv/MWAdata/qguo_data/skymodels/')\n",
    "os.system('python2 vo2model_py2.py --catalogue %s --output %s.txt'%(peel_name_file,peel_name_file[:-5]))"
   ]
  },
  {
   "cell_type": "markdown",
   "metadata": {},
   "source": [
    "## gen_infield_models"
   ]
  },
  {
   "cell_type": "code",
   "execution_count": null,
   "metadata": {},
   "outputs": [],
   "source": [
    "def gen_infield_models(npoint_cal,regionsize,obsid=1207652424):\n",
    "    name_fix=2*regionsize\n",
    "    skymodel_fitsfile_1000='/%s/%s/srclist_pumav3_EoR0aegean_EoR1pietro+ForA_%s_aocal%s.fits'%(path_nan,obsid,obsid,npoint_cal)\n",
    "    skymodelhdul_1000 = fits.open(skymodel_fitsfile_1000)\n",
    "    #skymodelhdul_1000.info()\n",
    "    skymodeldata_1000=skymodelhdul_1000[1].data\n",
    "\n",
    "    skymodeldata_select_peel_out=skymodeldata_1000[abs(skymodeldata_1000['ra']-ra_PKS0736)<=regionsize]\n",
    "    skymodeldata_select_peel_out=skymodeldata_select_peel_out[abs(skymodeldata_select_peel_out['dec']-dec_PKS0736)<=regionsize]\n",
    "    skymodelhdul_1000[1].data=skymodeldata_select_peel_out\n",
    "    \n",
    "    length_peel=len(skymodelhdul_1000[1].data)\n",
    "    \n",
    "    peel_name_file='/share/home/blv/MWAdata/qguo_data/skymodels/%d_skymodels_infield_%d_deg_%d_sources.fits'%(npoint_cal,name_fix,length_peel)\n",
    "    \n",
    "    skymodelhdul_1000.writeto(peel_name_file,overwrite=True)\n",
    "    \n",
    "    length_peel=len(fits.open(peel_name_file)[1].data)\n",
    "    print(length_peel)\n",
    "    print('python2 vo2model_py2.py --catalogue %s --output %s.txt'%(peel_name_file,peel_name_file[:-5]))\n",
    "    os.chdir('/share/home/blv/MWAdata/qguo_data/skymodels/')\n",
    "    os.system('python2 vo2model_py2.py --catalogue %s --output %s.txt'%(peel_name_file,peel_name_file[:-5]))"
   ]
  },
  {
   "cell_type": "code",
   "execution_count": null,
   "metadata": {},
   "outputs": [],
   "source": [
    "gen_infield_models(100,1,obsid=1207652424)"
   ]
  },
  {
   "cell_type": "code",
   "execution_count": null,
   "metadata": {},
   "outputs": [],
   "source": [
    "gen_infield_models(100,2,obsid=1207652424)"
   ]
  },
  {
   "cell_type": "code",
   "execution_count": null,
   "metadata": {},
   "outputs": [],
   "source": []
  },
  {
   "cell_type": "code",
   "execution_count": null,
   "metadata": {},
   "outputs": [],
   "source": [
    "gen_infield_models(100,2.5,obsid=1207652424)"
   ]
  },
  {
   "cell_type": "code",
   "execution_count": null,
   "metadata": {},
   "outputs": [],
   "source": []
  },
  {
   "cell_type": "code",
   "execution_count": null,
   "metadata": {},
   "outputs": [],
   "source": [
    "gen_infield_models(100,5,obsid=1207652424)"
   ]
  },
  {
   "cell_type": "code",
   "execution_count": null,
   "metadata": {},
   "outputs": [],
   "source": []
  },
  {
   "cell_type": "code",
   "execution_count": null,
   "metadata": {},
   "outputs": [],
   "source": []
  },
  {
   "cell_type": "markdown",
   "metadata": {},
   "source": []
  },
  {
   "cell_type": "code",
   "execution_count": null,
   "metadata": {
    "scrolled": true
   },
   "outputs": [],
   "source": [
    "ls /share/home/blv/MWAdata/qguo_data/skymodels/"
   ]
  },
  {
   "cell_type": "code",
   "execution_count": null,
   "metadata": {},
   "outputs": [],
   "source": []
  },
  {
   "cell_type": "code",
   "execution_count": null,
   "metadata": {},
   "outputs": [],
   "source": []
  },
  {
   "cell_type": "code",
   "execution_count": null,
   "metadata": {},
   "outputs": [],
   "source": []
  },
  {
   "cell_type": "code",
   "execution_count": null,
   "metadata": {},
   "outputs": [],
   "source": []
  },
  {
   "cell_type": "code",
   "execution_count": null,
   "metadata": {},
   "outputs": [],
   "source": [
    "\n"
   ]
  },
  {
   "cell_type": "markdown",
   "metadata": {},
   "source": [
    "skymodeldata_select_infield"
   ]
  },
  {
   "cell_type": "code",
   "execution_count": null,
   "metadata": {},
   "outputs": [],
   "source": [
    "skymodeldata_select_infield_namelist=[]\n",
    "for i in skymodeldata_select_infield['Name']:\n",
    "    if not i in skymodeldata_select_infield_namelist:\n",
    "        skymodeldata_select_infield_namelist.append(i)"
   ]
  },
  {
   "cell_type": "code",
   "execution_count": null,
   "metadata": {},
   "outputs": [],
   "source": [
    "skymodeldata_select_infield_namelist"
   ]
  },
  {
   "cell_type": "code",
   "execution_count": null,
   "metadata": {},
   "outputs": [],
   "source": [
    "skymodeldata_select_infield_namelist_calibrate=['J074504+020010',\n",
    " 'J073354+020223',\n",
    " 'J073433+031515',\n",
    " 'J073918+013708',\n",
    " 'J074049+014257',\n",
    " 'J074406+030157',\n",
    " 'J074244+010602',\n",
    " 'J074200+005211',\n",
    " 'J073757+013705',\n",
    " 'J073826+020438',\n",
    " 'J073353+035936',\n",
    " 'J074458+032253',\n",
    " 'J073558+013007',\n",
    " 'J074501+001202',\n",
    " 'J074213+021959',\n",
    " 'J074424+000950',\n",
    " 'J073755+005511',\n",
    " 'J073411+030640']"
   ]
  },
  {
   "cell_type": "code",
   "execution_count": null,
   "metadata": {},
   "outputs": [],
   "source": []
  },
  {
   "cell_type": "code",
   "execution_count": null,
   "metadata": {},
   "outputs": [],
   "source": []
  },
  {
   "cell_type": "code",
   "execution_count": null,
   "metadata": {},
   "outputs": [],
   "source": []
  },
  {
   "cell_type": "code",
   "execution_count": null,
   "metadata": {},
   "outputs": [],
   "source": []
  },
  {
   "cell_type": "code",
   "execution_count": null,
   "metadata": {},
   "outputs": [],
   "source": []
  },
  {
   "cell_type": "code",
   "execution_count": null,
   "metadata": {},
   "outputs": [],
   "source": []
  },
  {
   "cell_type": "code",
   "execution_count": null,
   "metadata": {},
   "outputs": [],
   "source": []
  },
  {
   "cell_type": "markdown",
   "metadata": {},
   "source": [
    "# cal2_wsclean_beam"
   ]
  },
  {
   "cell_type": "code",
   "execution_count": null,
   "metadata": {},
   "outputs": [],
   "source": [
    "def cal2_wsclean_beam(datadir,obsnum,msfile,prefix='fast',npoint_cal=100):\n",
    "    mspath=os.path.join(datadir,str(obsnum),msfile)\n",
    "    msdir=os.path.join(datadir,str(obsnum))   \n",
    "\n",
    "\n",
    "    os.chdir(msdir)\n",
    "    #prin t(msdir,msfile)\n",
    "    flag_tiles=get_flag_tiles('%s.metafits'%obsnum)\n",
    "    if os.path.isfile('iamdone'):\n",
    "        os.system('rm iamdone')\n",
    "    if len(flag_tiles)>0:\n",
    "        flag_names=str(flag_tiles)[1:-1]\n",
    "        flag_names=flag_names.replace(',',' ')\n",
    "        os.system('flagantennae %s.ms %s'%(msfile,flag_names))\n",
    "    os.system('flagsubbands %s.ms 0-2'%msfile)\n",
    "    os.system('flagsubbands %s.ms 765-767'%msfile)\n",
    "    os.system('flagbaselines %s.ms 63 64'%msfile)\n",
    "    \n",
    "    os.chdir(mspath+'.ms')\n",
    "    os.system('rm -f table.lock')\n",
    "    os.chdir(msdir)\n"
   ]
  },
  {
   "cell_type": "code",
   "execution_count": null,
   "metadata": {},
   "outputs": [],
   "source": []
  },
  {
   "cell_type": "markdown",
   "metadata": {},
   "source": [
    "## cellsize"
   ]
  },
  {
   "cell_type": "code",
   "execution_count": null,
   "metadata": {},
   "outputs": [],
   "source": [
    "vis='1207650144.ms'\n",
    "plotms(vis=vis,xaxis='uvwave',yaxis='amp',\n",
    "       ydatacolumn='data',correlation='XX',\n",
    "      )"
   ]
  },
  {
   "cell_type": "code",
   "execution_count": null,
   "metadata": {},
   "outputs": [],
   "source": [
    "np.pi"
   ]
  },
  {
   "cell_type": "code",
   "execution_count": null,
   "metadata": {},
   "outputs": [],
   "source": [
    "lamda=2300\n",
    "print(180*3600/np.pi/lamda)\n",
    "print(180*3600/np.pi/lamda/3,180*3600/np.pi/lamda/5)\n",
    "print(180/np.pi/lamda/3,180/np.pi/lamda/5)"
   ]
  },
  {
   "cell_type": "code",
   "execution_count": null,
   "metadata": {},
   "outputs": [],
   "source": [
    "lamda=1800\n",
    "print(180*3600/np.pi/lamda)\n",
    "print(180*3600/np.pi/lamda/3,180*3600/np.pi/lamda/5)\n",
    "print(180/np.pi/lamda/3,180/np.pi/lamda/5)"
   ]
  },
  {
   "cell_type": "code",
   "execution_count": null,
   "metadata": {},
   "outputs": [],
   "source": [
    "lamda=4000\n",
    "print(180*3600/np.pi/lamda)\n",
    "print(180*3600/np.pi/lamda/3,180*3600/np.pi/lamda/5)\n",
    "print(180/np.pi/lamda/3,180/np.pi/lamda/5)"
   ]
  },
  {
   "cell_type": "code",
   "execution_count": null,
   "metadata": {},
   "outputs": [],
   "source": [
    "lamda=8000\n",
    "print(180*3600/3.14159/lamda)\n",
    "180*3600/3.14159/lamda/3,180*3600/3.14159/lamda/5"
   ]
  },
  {
   "cell_type": "code",
   "execution_count": null,
   "metadata": {},
   "outputs": [],
   "source": [
    "25/3600,25/3/3600,25/5/3600,"
   ]
  },
  {
   "cell_type": "code",
   "execution_count": null,
   "metadata": {},
   "outputs": [],
   "source": [
    "resolution=60\n",
    "resolution/3600,resolution/3/3600,resolution/5/3600,"
   ]
  },
  {
   "cell_type": "code",
   "execution_count": null,
   "metadata": {},
   "outputs": [],
   "source": [
    "resolution=120\n",
    "resolution/3600,resolution/3/3600,resolution/5/3600,"
   ]
  },
  {
   "cell_type": "code",
   "execution_count": null,
   "metadata": {},
   "outputs": [],
   "source": []
  },
  {
   "cell_type": "code",
   "execution_count": null,
   "metadata": {},
   "outputs": [],
   "source": [
    "0.006*3600"
   ]
  },
  {
   "cell_type": "code",
   "execution_count": null,
   "metadata": {},
   "outputs": [],
   "source": [
    "0.008*3600"
   ]
  },
  {
   "cell_type": "markdown",
   "metadata": {},
   "source": [
    "## config_first"
   ]
  },
  {
   "cell_type": "code",
   "execution_count": null,
   "metadata": {},
   "outputs": [],
   "source": [
    "first n=100,2000,0.006 "
   ]
  },
  {
   "cell_type": "markdown",
   "metadata": {},
   "source": [
    "### second"
   ]
  },
  {
   "cell_type": "code",
   "execution_count": null,
   "metadata": {},
   "outputs": [],
   "source": [
    "second n=100,1500,0.008 "
   ]
  },
  {
   "cell_type": "markdown",
   "metadata": {},
   "source": [
    "# In_casa_plotms"
   ]
  },
  {
   "cell_type": "code",
   "execution_count": null,
   "metadata": {},
   "outputs": [],
   "source": [
    "execfile('casa_plot_argv.py')"
   ]
  },
  {
   "cell_type": "code",
   "execution_count": null,
   "metadata": {},
   "outputs": [],
   "source": [
    "obsnums=get_obsids(path_157)\n",
    "print(len(obsnums))\n",
    "\n",
    "for i in range(0,len(obsnums)):#len(obsnums)   \n",
    "    obsnum=obsnums[i]\n",
    "    msfile_1='%s'%obsnum\n",
    "    print(obsnum)\n",
    "    msfile_path=os.path.join(path_nan,obsnum,msfile_1+'.ms')\n",
    "    vis=msfile_path\n",
    "    \n",
    "    chan_amp_png_path=os.path.join(casaimg,msfile_1+'chan_amp.png')\n",
    "    uvwave_amp_png_path=os.path.join(casaimg,msfile_1+'uvwave_amp.png')\n",
    "    \n",
    "    base_amp_png_path=os.path.join(casaimg,msfile_1+'base_amp.png')\n",
    "    freq_amp_png_path=os.path.join(casaimg,msfile_1+'freq_amp.png') \n",
    "    \n",
    "    if not os.path.exists(freq_amp_png_path):\n",
    "        plotms(vis=vis, selectdata=True, correlation='XX', xaxis='frequency',yaxis='amp',showgui=False,plotfile=freq_amp_png_path,overwrite=True)   \n",
    "    if not os.path.exists(chan_amp_png_path):\n",
    "        plotms(vis=vis, selectdata=True, correlation='XX', xaxis='channel',yaxis='amp',  showgui=False,plotfile=chan_amp_png_path,overwrite=True)\n",
    "    if not os.path.exists(base_amp_png_path):\n",
    "        plotms(vis=vis, selectdata=True, correlation='XX', xaxis='baseline',yaxis='amp', showgui=False,plotfile=base_amp_png_path,overwrite=True)\n",
    "    if not os.path.exists(uvwave_amp_png_path):\n",
    "        plotms(vis=vis, selectdata=True, correlation='XX', xaxis='uvwave',yaxis='amp', showgui=False,plotfile=uvwave_amp_png_path,overwrite=True)\n"
   ]
  },
  {
   "cell_type": "code",
   "execution_count": null,
   "metadata": {},
   "outputs": [],
   "source": []
  },
  {
   "cell_type": "markdown",
   "metadata": {},
   "source": [
    "## img_show"
   ]
  },
  {
   "cell_type": "markdown",
   "metadata": {},
   "source": [
    "### show_base_amp_png"
   ]
  },
  {
   "cell_type": "code",
   "execution_count": null,
   "metadata": {},
   "outputs": [],
   "source": [
    "import matplotlib.pylab as plt\n",
    "import pandas as pd\n",
    "import numpy as np\n",
    "\n",
    "%matplotlib inline\n",
    "%config InlineBackend.figure_format = \"svg\"\n",
    "from matplotlib import rcParams\n",
    "#rcParams[\"savefig.dpi\"] = 300"
   ]
  },
  {
   "cell_type": "markdown",
   "metadata": {},
   "source": [
    "#### flag_autocor"
   ]
  },
  {
   "cell_type": "code",
   "execution_count": null,
   "metadata": {},
   "outputs": [],
   "source": [
    "import matplotlib\n",
    "import PIL\n",
    "\n",
    "\n",
    "#datadir=os.getcwd()\n",
    "obsnums=get_obsids(path_done)\n",
    "print(len(obsnums))\n",
    "\n",
    "for i in range(0,1):#len(obsnums)   \n",
    "    obsnum=obsnums[i]\n",
    "    msfile_1='%s'%obsnum\n",
    "    print(obsnum)\n",
    "   \n",
    "    chan_amp_png_path=os.path.join(casaimg,'done',msfile_1+'chan_amp.png')\n",
    "    uvwave_amp_png_path=os.path.join(casaimg,'done',msfile_1+'uvwave_amp.png')\n",
    "    \n",
    "    base_amp_png_path=os.path.join(casaimg,'done',msfile_1+'base_amp.png')\n",
    "    freq_amp_png_path=os.path.join(casaimg,'done',msfile_1+'freq_amp.png')  \n",
    "    \n",
    "    img0 = matplotlib.image.imread(uvwave_amp_png_path)\n",
    "\n",
    "    plt.figure(i,figsize=(12,12))\n",
    "    plt.subplot(1,1,1)\n",
    "    plt.imshow(img0)\n",
    "    #plt.grid(True,alpha=0)\n",
    "    plt.axis('off') \n",
    "    plt.show()"
   ]
  },
  {
   "cell_type": "markdown",
   "metadata": {},
   "source": [
    "# get_info_ms"
   ]
  },
  {
   "cell_type": "code",
   "execution_count": null,
   "metadata": {},
   "outputs": [],
   "source": [
    "SpwID  Name           #Chans   Frame   Ch0(MHz)  ChanWid(kHz)  TotBW(kHz) CtrFreq(MHz)  Corrs\n",
    "0      MWA_BAND_87.7    768   TOPO      72.335        40.000     30720.0     87.6750   XX  XY  YX  YY\n",
    "0      MWA_BAND_118.4    768   TOPO     103.055        40.000     30720.0    118.3950   XX  XY  YX  YY \n",
    "0      MWA_BAND_154.2    768   TOPO     138.895        40.000     30720.0    154.2350   XX  XY  YX  YY\n",
    "0      MWA_BAND_185    768   TOPO     169.615        40.000     30720.0    184.9550   XX  XY  YX  YY\n",
    "0      MWA_BAND_215.7    768   TOPO     200.335        40.000     30720.0    215.6750   XX  XY  YX  YY"
   ]
  },
  {
   "cell_type": "code",
   "execution_count": null,
   "metadata": {},
   "outputs": [],
   "source": []
  },
  {
   "cell_type": "code",
   "execution_count": null,
   "metadata": {},
   "outputs": [],
   "source": [
    "fits_image_filename_hdu.info() "
   ]
  },
  {
   "cell_type": "code",
   "execution_count": null,
   "metadata": {},
   "outputs": [],
   "source": [
    "CRVAL3"
   ]
  },
  {
   "cell_type": "code",
   "execution_count": null,
   "metadata": {},
   "outputs": [],
   "source": [
    "fits_image_filename_hdu[0].header"
   ]
  },
  {
   "cell_type": "code",
   "execution_count": null,
   "metadata": {},
   "outputs": [],
   "source": []
  },
  {
   "cell_type": "code",
   "execution_count": null,
   "metadata": {},
   "outputs": [],
   "source": []
  },
  {
   "cell_type": "markdown",
   "metadata": {},
   "source": [
    "# Aegean"
   ]
  },
  {
   "cell_type": "markdown",
   "metadata": {},
   "source": [
    "## test_one"
   ]
  },
  {
   "cell_type": "code",
   "execution_count": null,
   "metadata": {},
   "outputs": [],
   "source": [
    "obsid=1207650024\n",
    "bane_com='BANE %s_fast-XX-image.fits'%obsid\n",
    "print(bane_com)\n",
    "\n",
    "aegean_com='aegean --autoload %s_fast-XX-image.fits'%obsid+ ' --table %s_fast-XX-image_out.fits'%obsid\n",
    "print(aegean_com)"
   ]
  },
  {
   "cell_type": "code",
   "execution_count": null,
   "metadata": {},
   "outputs": [],
   "source": []
  },
  {
   "cell_type": "code",
   "execution_count": null,
   "metadata": {},
   "outputs": [],
   "source": []
  },
  {
   "cell_type": "code",
   "execution_count": null,
   "metadata": {},
   "outputs": [],
   "source": []
  },
  {
   "cell_type": "code",
   "execution_count": null,
   "metadata": {},
   "outputs": [],
   "source": []
  },
  {
   "cell_type": "code",
   "execution_count": null,
   "metadata": {},
   "outputs": [],
   "source": []
  },
  {
   "cell_type": "code",
   "execution_count": null,
   "metadata": {},
   "outputs": [],
   "source": []
  },
  {
   "cell_type": "code",
   "execution_count": null,
   "metadata": {},
   "outputs": [],
   "source": []
  },
  {
   "cell_type": "code",
   "execution_count": null,
   "metadata": {},
   "outputs": [],
   "source": []
  },
  {
   "cell_type": "code",
   "execution_count": null,
   "metadata": {},
   "outputs": [],
   "source": []
  },
  {
   "cell_type": "code",
   "execution_count": null,
   "metadata": {},
   "outputs": [],
   "source": []
  },
  {
   "cell_type": "code",
   "execution_count": null,
   "metadata": {},
   "outputs": [],
   "source": [
    "import math\n",
    "math.isnan(hdl_stokes_I[0].data[0][0][0][0])"
   ]
  },
  {
   "cell_type": "code",
   "execution_count": null,
   "metadata": {},
   "outputs": [],
   "source": []
  },
  {
   "cell_type": "markdown",
   "metadata": {},
   "source": [
    "## bat_aegean"
   ]
  },
  {
   "cell_type": "code",
   "execution_count": null,
   "metadata": {},
   "outputs": [],
   "source": [
    "def get_imagefile_of_obsid(path,obsid,prefix):\n",
    "    obsid_path=os.path.join(path,obsid)\n",
    "    files = os.listdir(obsid_path)\n",
    "    imgfile= os.path.join(path,obsid,'stokes-%s-%s-I.fits'%(obsid,prefix)) \n",
    "    if os.path.exists(imgfile):    \n",
    "        return imgfile\n",
    "    else:\n",
    "        return False"
   ]
  },
  {
   "cell_type": "code",
   "execution_count": null,
   "metadata": {},
   "outputs": [],
   "source": [
    "def get_aegean_table_of_obsid(path,obsid,prefix,imgfile):\n",
    "    os.chdir(os.path.join(path,obsid))\n",
    "    print(os.path.join(path,obsid))  \n",
    "    if not os.path.exists('stokes-%s-%s-I_out_comp.fits'%(obsid,prefix)):\n",
    "        bane_com='BANE %s'%imgfile\n",
    "        print(bane_com)\n",
    "        os.system(bane_com)\n",
    "        aegean_com='aegean --autoload %s'%imgfile+ ' --table %s_out.fits'%imgfile[:-5]\n",
    "        print(aegean_com)\n",
    "        os.system(aegean_com)\n",
    "        print()\n",
    "    else:\n",
    "        print('bane done for ',obsid)"
   ]
  },
  {
   "cell_type": "code",
   "execution_count": null,
   "metadata": {},
   "outputs": [],
   "source": [
    "path_157='/share/home/blv/MWAdata/qguo_data/zip/157/'\n",
    "obsids_157=get_obsids(path_157)\n",
    "obsid=obsids_157[0]\n",
    "prefix='briggsplus1'\n",
    "imgfile=get_imagefile_of_obsid(path_157,obsid,prefix)\n",
    "get_aegean_table_of_obsid(path_157,obsid,prefix,imgfile)"
   ]
  },
  {
   "cell_type": "code",
   "execution_count": null,
   "metadata": {},
   "outputs": [],
   "source": []
  },
  {
   "cell_type": "code",
   "execution_count": null,
   "metadata": {},
   "outputs": [],
   "source": [
    "def bane_aegean_for_path(path,prefix):\n",
    "    obsids=get_obsids(path)\n",
    "    for i in range(0,len(obsids)):#len(obsnums)\n",
    "        obsid=obsids[i]\n",
    "        imgfile=get_imagefile_of_obsid(path,obsid,prefix)     \n",
    "        if imgfile:\n",
    "            hdl_stokes_I=fits.open(imgfile)\n",
    "            if not math.isnan(hdl_stokes_I[0].data[0][0][0][0]):\n",
    "                get_aegean_table_of_obsid(path,obsid,prefix,imgfile)\n",
    "            else:\n",
    "                print('nan_Img for',obsid)\n",
    "        #fits_image_filename=os.path.join(datadir,obsnum,img)    "
   ]
  },
  {
   "cell_type": "code",
   "execution_count": null,
   "metadata": {},
   "outputs": [],
   "source": [
    "#bane_aegean_for_path(path_157,prefix)"
   ]
  },
  {
   "cell_type": "code",
   "execution_count": null,
   "metadata": {},
   "outputs": [],
   "source": []
  },
  {
   "cell_type": "markdown",
   "metadata": {},
   "source": [
    "## check_bane_aegean_for_path"
   ]
  },
  {
   "cell_type": "code",
   "execution_count": null,
   "metadata": {},
   "outputs": [],
   "source": [
    "def check_bane_aegean_for_path(path,prefix):\n",
    "    obsids=get_obsids(path)\n",
    "    for i in range(0,len(obsids)):#len(obsnums)\n",
    "        obsid=obsids[i]\n",
    "        imgfile=get_imagefile_of_obsid(path,obsid,prefix)\n",
    "        if imgfile:\n",
    "            hdl_stokes_I=fits.open(imgfile)\n",
    "            if os.path.exists(os.path.join(path,obsid,'stokes-%s-%s-I_out_comp.fits'%(obsid,prefix))):\n",
    "                print('bane done for %s'%obsid)\n",
    "                \n",
    "            else:\n",
    "                if not math.isnan(hdl_stokes_I[0].data[0][0][0][0]):\n",
    "                    print('doing bane for',obsid)\n",
    "                    \n",
    "                else:\n",
    "                    print('nan_Img for',obsid)\n",
    "                    \n",
    "        else:\n",
    "            print('no stokes img for',obsid)\n",
    "        #fits_image_filename=os.path.join(datadir,obsnum,img)  "
   ]
  },
  {
   "cell_type": "code",
   "execution_count": null,
   "metadata": {
    "scrolled": true
   },
   "outputs": [],
   "source": [
    "check_bane_aegean_for_path(path_157,prefix)"
   ]
  },
  {
   "cell_type": "code",
   "execution_count": null,
   "metadata": {},
   "outputs": [],
   "source": []
  },
  {
   "cell_type": "code",
   "execution_count": null,
   "metadata": {},
   "outputs": [],
   "source": [
    "for i in datadirs:\n",
    "    print(i)\n",
    "    datapath=os.path.join(datadirs_root,i)\n",
    "    check_bane_aegean_for_path(datapath)"
   ]
  },
  {
   "cell_type": "code",
   "execution_count": null,
   "metadata": {},
   "outputs": [],
   "source": []
  },
  {
   "cell_type": "code",
   "execution_count": null,
   "metadata": {},
   "outputs": [],
   "source": []
  },
  {
   "cell_type": "code",
   "execution_count": null,
   "metadata": {},
   "outputs": [],
   "source": [
    "  "
   ]
  },
  {
   "cell_type": "markdown",
   "metadata": {},
   "source": [
    "## get_file_index_and_id"
   ]
  },
  {
   "cell_type": "code",
   "execution_count": null,
   "metadata": {},
   "outputs": [],
   "source": []
  },
  {
   "cell_type": "code",
   "execution_count": null,
   "metadata": {
    "scrolled": true
   },
   "outputs": [],
   "source": [
    "obsnums=get_obsids(path_nan)\n",
    "nan_obsids,nan_freq,not_done_obsids,done_obsids =get_nan_obsid(path_nan)\n",
    "#nan_obsids,nan_freq,not_done_obsids =get_nan_obsid(datadir)\n",
    "\n",
    "#job_file = '/share/home/blv/MWAdata/qguo_data/G0044/PKS0736/2018_04_14/2018_04_14.txt'\n",
    "#obsnums=np.loadtxt(job_file, dtype=np.str, unpack=True, usecols=[0])\n",
    "len_list=len(obsnums)\n",
    "print('len_list:',len_list)\n",
    "#len_list=50\n",
    "bat_num_once=5\n",
    "\n",
    "for index,i in enumerate(np.arange(0,len_list,bat_num_once)):\n",
    "    range_start=str(i)\n",
    "    if index>len_list/bat_num_once-1:\n",
    "        range_end='%d'%len_list\n",
    "    else:\n",
    "        range_end=str(i+bat_num_once)       \n",
    "    #os.system('cp PKS0736_step_all_toend.py PKS0736_step_all_toend_p%d.py'%index)\n",
    "    #print('PKS0736_step_all_toend_p%d.py'%index)\n",
    "    for j in range(int(range_start),int(range_end)):\n",
    "        #print(index,j,obsnums[j])\n",
    "        if obsnums[j] in not_done_obsids:\n",
    "            print('notdone',index,obsnums[j])\n",
    "            #if index < 10:\n",
    "                #print(os.listdir(os.path.join(datadir,obsnums[j])))"
   ]
  },
  {
   "cell_type": "code",
   "execution_count": null,
   "metadata": {},
   "outputs": [],
   "source": []
  },
  {
   "cell_type": "code",
   "execution_count": null,
   "metadata": {},
   "outputs": [],
   "source": []
  },
  {
   "cell_type": "code",
   "execution_count": null,
   "metadata": {},
   "outputs": [],
   "source": []
  },
  {
   "cell_type": "code",
   "execution_count": null,
   "metadata": {},
   "outputs": [],
   "source": []
  },
  {
   "cell_type": "code",
   "execution_count": null,
   "metadata": {},
   "outputs": [],
   "source": []
  },
  {
   "cell_type": "markdown",
   "metadata": {},
   "source": [
    "# 8s_bin_image"
   ]
  },
  {
   "cell_type": "code",
   "execution_count": null,
   "metadata": {},
   "outputs": [],
   "source": [
    "for i in range(0,15):\n",
    "    j=(8*i)\n",
    "    k=(j+8)\n",
    "    print(i,j,k)"
   ]
  },
  {
   "cell_type": "code",
   "execution_count": null,
   "metadata": {},
   "outputs": [],
   "source": []
  },
  {
   "cell_type": "code",
   "execution_count": null,
   "metadata": {},
   "outputs": [],
   "source": []
  },
  {
   "cell_type": "markdown",
   "metadata": {},
   "source": [
    "# table"
   ]
  },
  {
   "cell_type": "code",
   "execution_count": null,
   "metadata": {},
   "outputs": [],
   "source": [
    "from astropy.table import Table"
   ]
  },
  {
   "cell_type": "code",
   "execution_count": null,
   "metadata": {},
   "outputs": [],
   "source": [
    "obsid='1207652304'\n",
    "table_PKS0736=read_tables(path,obsid)"
   ]
  },
  {
   "cell_type": "code",
   "execution_count": null,
   "metadata": {},
   "outputs": [],
   "source": [
    "table_PKS0736.colnames"
   ]
  },
  {
   "cell_type": "code",
   "execution_count": null,
   "metadata": {},
   "outputs": [],
   "source": [
    "table_PKS0736[0]  "
   ]
  },
  {
   "cell_type": "code",
   "execution_count": null,
   "metadata": {},
   "outputs": [],
   "source": []
  },
  {
   "cell_type": "markdown",
   "metadata": {},
   "source": [
    "## select_table"
   ]
  },
  {
   "cell_type": "code",
   "execution_count": null,
   "metadata": {},
   "outputs": [],
   "source": [
    "select_PKS0736=table_PKS0736[abs(table_PKS0736['ra']-114.8251408)<0.1]\n",
    "select_PKS0736=select_PKS0736[abs(select_PKS0736['dec']-1.6179497)<0.1]   "
   ]
  },
  {
   "cell_type": "code",
   "execution_count": null,
   "metadata": {},
   "outputs": [],
   "source": [
    "select_PKS0736"
   ]
  },
  {
   "cell_type": "code",
   "execution_count": null,
   "metadata": {},
   "outputs": [],
   "source": [
    "snr=select_PKS0736['int_flux']/select_PKS0736['err_int_flux']\n",
    "ratio_integrated_to_peak=select_PKS0736['int_flux']/select_PKS0736['peak_flux']"
   ]
  },
  {
   "cell_type": "code",
   "execution_count": null,
   "metadata": {},
   "outputs": [],
   "source": [
    "print(snr,ratio_integrated_to_peak)"
   ]
  },
  {
   "cell_type": "markdown",
   "metadata": {},
   "source": [
    "## corlors_band"
   ]
  },
  {
   "cell_type": "code",
   "execution_count": 40,
   "metadata": {},
   "outputs": [],
   "source": [
    "from pylab import cm\n",
    "\n",
    "bands_all=[87, 118, 154, 184, 215]\n",
    "bands_all=sorted(bands_all)\n",
    "colors_cm_10 = cm.get_cmap('tab10', 10)\n",
    "corlors_band=[colors_cm_10(0),colors_cm_10(2),colors_cm_10(3),colors_cm_10(4),colors_cm_10(9)]\n",
    "color_dict_band= dict(zip(bands_all, corlors_band))"
   ]
  },
  {
   "cell_type": "code",
   "execution_count": null,
   "metadata": {},
   "outputs": [],
   "source": []
  },
  {
   "cell_type": "code",
   "execution_count": null,
   "metadata": {},
   "outputs": [],
   "source": []
  },
  {
   "cell_type": "code",
   "execution_count": null,
   "metadata": {},
   "outputs": [],
   "source": []
  },
  {
   "cell_type": "code",
   "execution_count": null,
   "metadata": {},
   "outputs": [],
   "source": [
    "dict_data = {'a': '4', 'b': '1', 'c': '3', 'd': '2'}\n",
    "print(\"直接取字典最小值：\", min(dict_data.items()))\n",
    "print(\"直接对字典排序：\", sorted(dict_data.items()))\n",
    "print(\"字典：\", dict_data.items())"
   ]
  },
  {
   "cell_type": "markdown",
   "metadata": {},
   "source": [
    "## show bad_img"
   ]
  },
  {
   "cell_type": "code",
   "execution_count": null,
   "metadata": {},
   "outputs": [],
   "source": []
  },
  {
   "cell_type": "code",
   "execution_count": null,
   "metadata": {},
   "outputs": [],
   "source": []
  },
  {
   "cell_type": "code",
   "execution_count": null,
   "metadata": {},
   "outputs": [],
   "source": []
  },
  {
   "cell_type": "code",
   "execution_count": null,
   "metadata": {},
   "outputs": [],
   "source": []
  },
  {
   "cell_type": "markdown",
   "metadata": {},
   "source": [
    "## return_lightcurve"
   ]
  },
  {
   "cell_type": "code",
   "execution_count": 32,
   "metadata": {},
   "outputs": [],
   "source": [
    "def get_table_file(path,obsid,prefix):\n",
    "    obsid_path=os.path.join(path,obsid)\n",
    "    imgfile = os.path.join(obsid_path,'stokes-%s-%s-I_out_comp.fits'%(obsid,prefix))\n",
    "    \n",
    "    if os.path.exists(imgfile):\n",
    "        return imgfile\n",
    "    else:\n",
    "        return False\n",
    "\n",
    "def read_tables(path,obsid,prefix):\n",
    "    table=get_table_file(path,obsid,prefix)\n",
    "    \n",
    "    if table: \n",
    "        table_PKS0736 = Table.read(table)\n",
    "        #print(table_PKS0736)\n",
    "        return table_PKS0736\n",
    "    else:\n",
    "        return False\n",
    "    \n",
    "def get_stokes_image_freq_err_of_obsid(path,obsid,prefix='briggsplus1'):  \n",
    "    stokes_file_I=os.path.join(path,obsid,'stokes-%s-%s-I.fits'%(obsid,prefix))\n",
    "    if os.path.exists(stokes_file_I):      \n",
    "        hdl_stokes_I=fits.open(stokes_file_I)            \n",
    "        return stokes_file_I,int(hdl_stokes_I[0].header['CRVAL3']*u.Hz.to(u.MHz)),hdl_stokes_I[0].header['CDELT3']*u.Hz.to(u.MHz)\n",
    "    else:\n",
    "        return False,0,0    \n",
    "    "
   ]
  },
  {
   "cell_type": "markdown",
   "metadata": {},
   "source": [
    "### return_lightcurve_source"
   ]
  },
  {
   "cell_type": "code",
   "execution_count": 71,
   "metadata": {},
   "outputs": [],
   "source": [
    "import math\n",
    "\n",
    "def return_lightcurve_table_of_onesource(ax,path,ra,dec,intmjd0=58200,prefix='briggsplus1'):\n",
    "    obsnums=get_obsids(path)\n",
    "    no_select__obsids=[]\n",
    "    no_table_obsids=[]\n",
    "    with_noise_obsids=[]\n",
    "    df_ = pd.DataFrame(columns=[\"obsid\", \"mjd\", \"freq\",\"flux\",\"flux_err\",\"peak_flux\"])\n",
    "    \n",
    "    #mjd0=Time(obsnums[0], format='gps').mjd\n",
    "    #intmjd0=math.floor(mjd0)   \n",
    "    for obsid in obsnums:              \n",
    "        stokes_file_I,freq_central,freq_delta=get_stokes_image_freq_err_of_obsid(path,obsid,prefix)\n",
    "        freq=int(freq_central)        \n",
    "    #print(stokes_file_I)\n",
    "    #print(freq_central,freq_delta)\n",
    "        table_=read_tables(path,obsid,prefix)\n",
    "        if table_:\n",
    "            select_=table_[abs(table_['ra']-ra)<0.01]\n",
    "            select_=select_[abs(select_['dec']-dec)<0.01] \n",
    "            \n",
    "            if len(select_)>0:  \n",
    "                mjd=Time(obsid, format='gps').mjd\n",
    "                mjdtime_frac=mjd-intmjd0\n",
    "                \n",
    "                #date_obs=mjd2datetimenew(mjd)\n",
    "                #print(date_obs)\n",
    "                flux=select_['int_flux'].quantity[0]\n",
    "                flux_err=select_['err_int_flux'].quantity[0]\n",
    "                peak_flux=select_['peak_flux'].quantity[0]\n",
    "                \n",
    "                color=color_dict_band[freq]\n",
    "                \n",
    "                if mjdtime_frac<2:\n",
    "                    ax.errorbar(mjdtime_frac*24,flux,yerr=flux_err,marker='.',color=color,label=str(freq))\n",
    "                \n",
    "                if flux_err >0 and flux_err<1.0:               \n",
    "                    df_=df_.append(\n",
    "                        pd.Series({\"obsid\":obsid, \"mjd\":mjd,\"freq\":freq,\n",
    "                        \"flux\":flux,\"flux_err\":flux_err,\"peak_flux\":peak_flux}), \n",
    "                        ignore_index=True)                \n",
    "                else:\n",
    "                    ax.text(mjdtime_frac*24,flux,str(obsid))\n",
    "                    with_noise_obsids.append(obsid)                    \n",
    "            #print(obsid,freq_central,select_['int_flux'].quantity[0],select_['err_int_flux'].quantity[0])\n",
    "            #print('****************************************')\n",
    "               \n",
    "            else:\n",
    "                no_select__obsids.append(obsid)\n",
    "        else:\n",
    "            no_table_obsids.append(obsid)\n",
    "            \n",
    "    return no_table_obsids,no_select__obsids, with_noise_obsids,df_\n",
    "\n",
    "\n",
    "def plot_source_lightcurve(source_index,path,skymodeldata_select_infield_1Jy,prefix='briggsplus1'):\n",
    "    fig = plt.figure(figsize=(6,4))\n",
    "    ax = fig.add_subplot(111)   \n",
    "    set_ax_tick(ax)    \n",
    "    ra,dec,name_source=(skymodeldata_select_infield_1Jy[source_index]['ra'],\n",
    "                    skymodeldata_select_infield_1Jy[source_index]['dec'],\n",
    "                    skymodeldata_select_infield_1Jy[source_index]['Name'])\n",
    "    #print(ra,dec,name_source)\n",
    "    intmjd0=58221\n",
    "    no_table_obsids,no_select__obsids, with_noise_obsids,df_= return_lightcurve_table_of_onesource(ax,path,ra,dec,intmjd0,prefix)\n",
    "    \n",
    "    for i in with_noise_obsids:\n",
    "        print('noise_obsid',i)\n",
    "    #ax.xaxis.set_major_locator(mpl.ticker.MultipleLocator(24))\n",
    "    #ax.yaxis.set_major_locator(mpl.ticker.MultipleLocator(0.5))\n",
    "\n",
    "    handles, labels = ax.get_legend_handles_labels()\n",
    "    # remove the errorbars\n",
    "    hdl = [h[0] for h in handles]\n",
    "    # use them in the legend\n",
    "    by_label = OrderedDict(zip(labels, hdl)) \n",
    "    ax.legend(by_label.values(), by_label.keys(), bbox_to_anchor=(0.0, 1.0),\n",
    "          loc=2, numpoints=1,ncol=1, fontsize=11.)\n",
    "    \n",
    "    plt.rcParams['font.size'] = 18\n",
    "    plt.rcParams['axes.linewidth'] = 2  \n",
    "    plt.xlabel('MJD-%s (hours)'%intmjd0)\n",
    "    plt.ylabel('Jy') \n",
    "    plt.title(name_source)\n",
    "    plt.savefig('%s/%d_lc_firstday_%s.png'%(path_lc,source_index,name_source), dpi=400, transparent=False, bbox_inches='tight')\n",
    "# Show figure\n",
    "#plt.show()\n",
    "#plt.close()      \n",
    "    return fig\n"
   ]
  },
  {
   "cell_type": "code",
   "execution_count": null,
   "metadata": {},
   "outputs": [],
   "source": []
  },
  {
   "cell_type": "code",
   "execution_count": null,
   "metadata": {},
   "outputs": [],
   "source": []
  },
  {
   "cell_type": "code",
   "execution_count": 55,
   "metadata": {},
   "outputs": [
    {
     "name": "stdout",
     "output_type": "stream",
     "text": [
      "0 116.268,2.003,J074504+020010 24.63\n",
      "1 113.478,2.039,J073354+020223 12.33\n",
      "2 114.825,1.618,J073918+013708 1.82\n",
      "3 113.642,3.254,J073433+031515 2.63\n",
      "4 115.205,1.714,J074049+014257 1.78\n",
      "5 115.683,1.099,J074244+010602 1.34\n",
      "6 116.025,3.031,J074406+030157 1.55\n",
      "7 115.500,0.868,J074200+005211 1.32\n",
      "8 114.612,2.075,J073826+020438 1.1\n",
      "9 116.245,3.380,J074458+032253 1.02\n",
      "10 114.488,1.619,J073757+013705 1.19\n",
      "11 113.475,3.993,J073353+035936 1.14\n"
     ]
    }
   ],
   "source": [
    "for index,(ra_,dec_,name_,peak_f_) in enumerate(zip(ras_infield_1Jy,decs_infield_1Jy,names_infield_1Jy,skymodeldata_select_infield_1Jy['peak_flux'])):\n",
    "    print(index,'%.3f,%.3f,%s'%(ra_,dec_,name_),peak_f_)\n",
    "    #fig.add_label(ra_,dec_,'%.3f,%.3f'%(ra_,dec_),color='yellow',fontsize=14)"
   ]
  },
  {
   "cell_type": "code",
   "execution_count": null,
   "metadata": {},
   "outputs": [],
   "source": []
  },
  {
   "cell_type": "markdown",
   "metadata": {},
   "source": [
    "## plot_source_lightcurve"
   ]
  },
  {
   "cell_type": "code",
   "execution_count": 67,
   "metadata": {},
   "outputs": [
    {
     "data": {
      "text/plain": [
       "63"
      ]
     },
     "execution_count": 67,
     "metadata": {},
     "output_type": "execute_result"
    }
   ],
   "source": [
    "len(skymodeldata_select_infield)"
   ]
  },
  {
   "cell_type": "code",
   "execution_count": 66,
   "metadata": {},
   "outputs": [
    {
     "data": {
      "text/plain": [
       "12"
      ]
     },
     "execution_count": 66,
     "metadata": {},
     "output_type": "execute_result"
    }
   ],
   "source": [
    "len(skymodeldata_select_infield_1Jy)"
   ]
  },
  {
   "cell_type": "markdown",
   "metadata": {},
   "source": [
    "### plot_source_lightcurve"
   ]
  },
  {
   "cell_type": "code",
   "execution_count": 72,
   "metadata": {},
   "outputs": [
    {
     "name": "stdout",
     "output_type": "stream",
     "text": [
      "0\n",
      "noise_obsid 1208174688\n",
      "noise_obsid 1208260848\n"
     ]
    },
    {
     "ename": "ValueError",
     "evalue": "Image size of 335848x25563 pixels is too large. It must be less than 2^16 in each direction.",
     "output_type": "error",
     "traceback": [
      "\u001b[0;31m---------------------------------------------------------------------------\u001b[0m",
      "\u001b[0;31mValueError\u001b[0m                                Traceback (most recent call last)",
      "\u001b[0;32m<ipython-input-72-4cbed67400e6>\u001b[0m in \u001b[0;36m<module>\u001b[0;34m\u001b[0m\n\u001b[1;32m      3\u001b[0m     \u001b[0;31m#fig.add_label(ra_,dec_,'%.3f,%.3f'%(ra_,dec_),color='yellow',fontsize=14)\u001b[0m\u001b[0;34m\u001b[0m\u001b[0;34m\u001b[0m\u001b[0;34m\u001b[0m\u001b[0m\n\u001b[1;32m      4\u001b[0m     \u001b[0mprint\u001b[0m\u001b[0;34m(\u001b[0m\u001b[0msource_index\u001b[0m\u001b[0;34m)\u001b[0m\u001b[0;34m\u001b[0m\u001b[0;34m\u001b[0m\u001b[0m\n\u001b[0;32m----> 5\u001b[0;31m     \u001b[0mplot_source_lightcurve\u001b[0m\u001b[0;34m(\u001b[0m\u001b[0msource_index\u001b[0m\u001b[0;34m,\u001b[0m\u001b[0mpath_157\u001b[0m\u001b[0;34m,\u001b[0m\u001b[0mskymodeldata_select_infield_1Jy\u001b[0m\u001b[0;34m,\u001b[0m\u001b[0mprefix\u001b[0m\u001b[0;34m=\u001b[0m\u001b[0;34m'briggsplus1'\u001b[0m\u001b[0;34m)\u001b[0m\u001b[0;34m\u001b[0m\u001b[0;34m\u001b[0m\u001b[0m\n\u001b[0m",
      "\u001b[0;32m<ipython-input-71-f6965bd3945a>\u001b[0m in \u001b[0;36mplot_source_lightcurve\u001b[0;34m(source_index, path, skymodeldata_select_infield_1Jy, prefix)\u001b[0m\n\u001b[1;32m     82\u001b[0m     \u001b[0mplt\u001b[0m\u001b[0;34m.\u001b[0m\u001b[0mylabel\u001b[0m\u001b[0;34m(\u001b[0m\u001b[0;34m'Jy'\u001b[0m\u001b[0;34m)\u001b[0m\u001b[0;34m\u001b[0m\u001b[0;34m\u001b[0m\u001b[0m\n\u001b[1;32m     83\u001b[0m     \u001b[0mplt\u001b[0m\u001b[0;34m.\u001b[0m\u001b[0mtitle\u001b[0m\u001b[0;34m(\u001b[0m\u001b[0mname_source\u001b[0m\u001b[0;34m)\u001b[0m\u001b[0;34m\u001b[0m\u001b[0;34m\u001b[0m\u001b[0m\n\u001b[0;32m---> 84\u001b[0;31m     \u001b[0mplt\u001b[0m\u001b[0;34m.\u001b[0m\u001b[0msavefig\u001b[0m\u001b[0;34m(\u001b[0m\u001b[0;34m'%s/%d_lc_firstday_%s.png'\u001b[0m\u001b[0;34m%\u001b[0m\u001b[0;34m(\u001b[0m\u001b[0mpath_lc\u001b[0m\u001b[0;34m,\u001b[0m\u001b[0msource_index\u001b[0m\u001b[0;34m,\u001b[0m\u001b[0mname_source\u001b[0m\u001b[0;34m)\u001b[0m\u001b[0;34m,\u001b[0m \u001b[0mdpi\u001b[0m\u001b[0;34m=\u001b[0m\u001b[0;36m400\u001b[0m\u001b[0;34m,\u001b[0m \u001b[0mtransparent\u001b[0m\u001b[0;34m=\u001b[0m\u001b[0;32mFalse\u001b[0m\u001b[0;34m,\u001b[0m \u001b[0mbbox_inches\u001b[0m\u001b[0;34m=\u001b[0m\u001b[0;34m'tight'\u001b[0m\u001b[0;34m)\u001b[0m\u001b[0;34m\u001b[0m\u001b[0;34m\u001b[0m\u001b[0m\n\u001b[0m\u001b[1;32m     85\u001b[0m \u001b[0;31m# Show figure\u001b[0m\u001b[0;34m\u001b[0m\u001b[0;34m\u001b[0m\u001b[0;34m\u001b[0m\u001b[0m\n\u001b[1;32m     86\u001b[0m \u001b[0;31m#plt.show()\u001b[0m\u001b[0;34m\u001b[0m\u001b[0;34m\u001b[0m\u001b[0;34m\u001b[0m\u001b[0m\n",
      "\u001b[0;32m~/anaconda3/lib/python3.7/site-packages/matplotlib/pyplot.py\u001b[0m in \u001b[0;36msavefig\u001b[0;34m(*args, **kwargs)\u001b[0m\n\u001b[1;32m    687\u001b[0m \u001b[0;32mdef\u001b[0m \u001b[0msavefig\u001b[0m\u001b[0;34m(\u001b[0m\u001b[0;34m*\u001b[0m\u001b[0margs\u001b[0m\u001b[0;34m,\u001b[0m \u001b[0;34m**\u001b[0m\u001b[0mkwargs\u001b[0m\u001b[0;34m)\u001b[0m\u001b[0;34m:\u001b[0m\u001b[0;34m\u001b[0m\u001b[0;34m\u001b[0m\u001b[0m\n\u001b[1;32m    688\u001b[0m     \u001b[0mfig\u001b[0m \u001b[0;34m=\u001b[0m \u001b[0mgcf\u001b[0m\u001b[0;34m(\u001b[0m\u001b[0;34m)\u001b[0m\u001b[0;34m\u001b[0m\u001b[0;34m\u001b[0m\u001b[0m\n\u001b[0;32m--> 689\u001b[0;31m     \u001b[0mres\u001b[0m \u001b[0;34m=\u001b[0m \u001b[0mfig\u001b[0m\u001b[0;34m.\u001b[0m\u001b[0msavefig\u001b[0m\u001b[0;34m(\u001b[0m\u001b[0;34m*\u001b[0m\u001b[0margs\u001b[0m\u001b[0;34m,\u001b[0m \u001b[0;34m**\u001b[0m\u001b[0mkwargs\u001b[0m\u001b[0;34m)\u001b[0m\u001b[0;34m\u001b[0m\u001b[0;34m\u001b[0m\u001b[0m\n\u001b[0m\u001b[1;32m    690\u001b[0m     \u001b[0mfig\u001b[0m\u001b[0;34m.\u001b[0m\u001b[0mcanvas\u001b[0m\u001b[0;34m.\u001b[0m\u001b[0mdraw_idle\u001b[0m\u001b[0;34m(\u001b[0m\u001b[0;34m)\u001b[0m   \u001b[0;31m# need this if 'transparent=True' to reset colors\u001b[0m\u001b[0;34m\u001b[0m\u001b[0;34m\u001b[0m\u001b[0m\n\u001b[1;32m    691\u001b[0m     \u001b[0;32mreturn\u001b[0m \u001b[0mres\u001b[0m\u001b[0;34m\u001b[0m\u001b[0;34m\u001b[0m\u001b[0m\n",
      "\u001b[0;32m~/anaconda3/lib/python3.7/site-packages/matplotlib/figure.py\u001b[0m in \u001b[0;36msavefig\u001b[0;34m(self, fname, frameon, transparent, **kwargs)\u001b[0m\n\u001b[1;32m   2092\u001b[0m             \u001b[0mself\u001b[0m\u001b[0;34m.\u001b[0m\u001b[0mset_frameon\u001b[0m\u001b[0;34m(\u001b[0m\u001b[0mframeon\u001b[0m\u001b[0;34m)\u001b[0m\u001b[0;34m\u001b[0m\u001b[0;34m\u001b[0m\u001b[0m\n\u001b[1;32m   2093\u001b[0m \u001b[0;34m\u001b[0m\u001b[0m\n\u001b[0;32m-> 2094\u001b[0;31m         \u001b[0mself\u001b[0m\u001b[0;34m.\u001b[0m\u001b[0mcanvas\u001b[0m\u001b[0;34m.\u001b[0m\u001b[0mprint_figure\u001b[0m\u001b[0;34m(\u001b[0m\u001b[0mfname\u001b[0m\u001b[0;34m,\u001b[0m \u001b[0;34m**\u001b[0m\u001b[0mkwargs\u001b[0m\u001b[0;34m)\u001b[0m\u001b[0;34m\u001b[0m\u001b[0;34m\u001b[0m\u001b[0m\n\u001b[0m\u001b[1;32m   2095\u001b[0m \u001b[0;34m\u001b[0m\u001b[0m\n\u001b[1;32m   2096\u001b[0m         \u001b[0;32mif\u001b[0m \u001b[0mframeon\u001b[0m\u001b[0;34m:\u001b[0m\u001b[0;34m\u001b[0m\u001b[0;34m\u001b[0m\u001b[0m\n",
      "\u001b[0;32m~/anaconda3/lib/python3.7/site-packages/matplotlib/backend_bases.py\u001b[0m in \u001b[0;36mprint_figure\u001b[0;34m(self, filename, dpi, facecolor, edgecolor, orientation, format, bbox_inches, **kwargs)\u001b[0m\n\u001b[1;32m   2073\u001b[0m                     \u001b[0morientation\u001b[0m\u001b[0;34m=\u001b[0m\u001b[0morientation\u001b[0m\u001b[0;34m,\u001b[0m\u001b[0;34m\u001b[0m\u001b[0;34m\u001b[0m\u001b[0m\n\u001b[1;32m   2074\u001b[0m                     \u001b[0mbbox_inches_restore\u001b[0m\u001b[0;34m=\u001b[0m\u001b[0m_bbox_inches_restore\u001b[0m\u001b[0;34m,\u001b[0m\u001b[0;34m\u001b[0m\u001b[0;34m\u001b[0m\u001b[0m\n\u001b[0;32m-> 2075\u001b[0;31m                     **kwargs)\n\u001b[0m\u001b[1;32m   2076\u001b[0m             \u001b[0;32mfinally\u001b[0m\u001b[0;34m:\u001b[0m\u001b[0;34m\u001b[0m\u001b[0;34m\u001b[0m\u001b[0m\n\u001b[1;32m   2077\u001b[0m                 \u001b[0;32mif\u001b[0m \u001b[0mbbox_inches\u001b[0m \u001b[0;32mand\u001b[0m \u001b[0mrestore_bbox\u001b[0m\u001b[0;34m:\u001b[0m\u001b[0;34m\u001b[0m\u001b[0;34m\u001b[0m\u001b[0m\n",
      "\u001b[0;32m~/anaconda3/lib/python3.7/site-packages/matplotlib/backends/backend_agg.py\u001b[0m in \u001b[0;36mprint_png\u001b[0;34m(self, filename_or_obj, *args, **kwargs)\u001b[0m\n\u001b[1;32m    508\u001b[0m \u001b[0;34m\u001b[0m\u001b[0m\n\u001b[1;32m    509\u001b[0m         \"\"\"\n\u001b[0;32m--> 510\u001b[0;31m         \u001b[0mFigureCanvasAgg\u001b[0m\u001b[0;34m.\u001b[0m\u001b[0mdraw\u001b[0m\u001b[0;34m(\u001b[0m\u001b[0mself\u001b[0m\u001b[0;34m)\u001b[0m\u001b[0;34m\u001b[0m\u001b[0;34m\u001b[0m\u001b[0m\n\u001b[0m\u001b[1;32m    511\u001b[0m         \u001b[0mrenderer\u001b[0m \u001b[0;34m=\u001b[0m \u001b[0mself\u001b[0m\u001b[0;34m.\u001b[0m\u001b[0mget_renderer\u001b[0m\u001b[0;34m(\u001b[0m\u001b[0;34m)\u001b[0m\u001b[0;34m\u001b[0m\u001b[0;34m\u001b[0m\u001b[0m\n\u001b[1;32m    512\u001b[0m \u001b[0;34m\u001b[0m\u001b[0m\n",
      "\u001b[0;32m~/anaconda3/lib/python3.7/site-packages/matplotlib/backends/backend_agg.py\u001b[0m in \u001b[0;36mdraw\u001b[0;34m(self)\u001b[0m\n\u001b[1;32m    394\u001b[0m         \u001b[0mDraw\u001b[0m \u001b[0mthe\u001b[0m \u001b[0mfigure\u001b[0m \u001b[0musing\u001b[0m \u001b[0mthe\u001b[0m \u001b[0mrenderer\u001b[0m\u001b[0;34m.\u001b[0m\u001b[0;34m\u001b[0m\u001b[0;34m\u001b[0m\u001b[0m\n\u001b[1;32m    395\u001b[0m         \"\"\"\n\u001b[0;32m--> 396\u001b[0;31m         \u001b[0mself\u001b[0m\u001b[0;34m.\u001b[0m\u001b[0mrenderer\u001b[0m \u001b[0;34m=\u001b[0m \u001b[0mself\u001b[0m\u001b[0;34m.\u001b[0m\u001b[0mget_renderer\u001b[0m\u001b[0;34m(\u001b[0m\u001b[0mcleared\u001b[0m\u001b[0;34m=\u001b[0m\u001b[0;32mTrue\u001b[0m\u001b[0;34m)\u001b[0m\u001b[0;34m\u001b[0m\u001b[0;34m\u001b[0m\u001b[0m\n\u001b[0m\u001b[1;32m    397\u001b[0m         \u001b[0;31m# acquire a lock on the shared font cache\u001b[0m\u001b[0;34m\u001b[0m\u001b[0;34m\u001b[0m\u001b[0;34m\u001b[0m\u001b[0m\n\u001b[1;32m    398\u001b[0m         \u001b[0mRendererAgg\u001b[0m\u001b[0;34m.\u001b[0m\u001b[0mlock\u001b[0m\u001b[0;34m.\u001b[0m\u001b[0macquire\u001b[0m\u001b[0;34m(\u001b[0m\u001b[0;34m)\u001b[0m\u001b[0;34m\u001b[0m\u001b[0;34m\u001b[0m\u001b[0m\n",
      "\u001b[0;32m~/anaconda3/lib/python3.7/site-packages/matplotlib/backends/backend_agg.py\u001b[0m in \u001b[0;36mget_renderer\u001b[0;34m(self, cleared)\u001b[0m\n\u001b[1;32m    415\u001b[0m \u001b[0;34m\u001b[0m\u001b[0m\n\u001b[1;32m    416\u001b[0m         \u001b[0;32mif\u001b[0m \u001b[0mneed_new_renderer\u001b[0m\u001b[0;34m:\u001b[0m\u001b[0;34m\u001b[0m\u001b[0;34m\u001b[0m\u001b[0m\n\u001b[0;32m--> 417\u001b[0;31m             \u001b[0mself\u001b[0m\u001b[0;34m.\u001b[0m\u001b[0mrenderer\u001b[0m \u001b[0;34m=\u001b[0m \u001b[0mRendererAgg\u001b[0m\u001b[0;34m(\u001b[0m\u001b[0mw\u001b[0m\u001b[0;34m,\u001b[0m \u001b[0mh\u001b[0m\u001b[0;34m,\u001b[0m \u001b[0mself\u001b[0m\u001b[0;34m.\u001b[0m\u001b[0mfigure\u001b[0m\u001b[0;34m.\u001b[0m\u001b[0mdpi\u001b[0m\u001b[0;34m)\u001b[0m\u001b[0;34m\u001b[0m\u001b[0;34m\u001b[0m\u001b[0m\n\u001b[0m\u001b[1;32m    418\u001b[0m             \u001b[0mself\u001b[0m\u001b[0;34m.\u001b[0m\u001b[0m_lastKey\u001b[0m \u001b[0;34m=\u001b[0m \u001b[0mkey\u001b[0m\u001b[0;34m\u001b[0m\u001b[0;34m\u001b[0m\u001b[0m\n\u001b[1;32m    419\u001b[0m         \u001b[0;32melif\u001b[0m \u001b[0mcleared\u001b[0m\u001b[0;34m:\u001b[0m\u001b[0;34m\u001b[0m\u001b[0;34m\u001b[0m\u001b[0m\n",
      "\u001b[0;32m~/anaconda3/lib/python3.7/site-packages/matplotlib/backends/backend_agg.py\u001b[0m in \u001b[0;36m__init__\u001b[0;34m(self, width, height, dpi)\u001b[0m\n\u001b[1;32m     85\u001b[0m         \u001b[0mself\u001b[0m\u001b[0;34m.\u001b[0m\u001b[0mwidth\u001b[0m \u001b[0;34m=\u001b[0m \u001b[0mwidth\u001b[0m\u001b[0;34m\u001b[0m\u001b[0;34m\u001b[0m\u001b[0m\n\u001b[1;32m     86\u001b[0m         \u001b[0mself\u001b[0m\u001b[0;34m.\u001b[0m\u001b[0mheight\u001b[0m \u001b[0;34m=\u001b[0m \u001b[0mheight\u001b[0m\u001b[0;34m\u001b[0m\u001b[0;34m\u001b[0m\u001b[0m\n\u001b[0;32m---> 87\u001b[0;31m         \u001b[0mself\u001b[0m\u001b[0;34m.\u001b[0m\u001b[0m_renderer\u001b[0m \u001b[0;34m=\u001b[0m \u001b[0m_RendererAgg\u001b[0m\u001b[0;34m(\u001b[0m\u001b[0mint\u001b[0m\u001b[0;34m(\u001b[0m\u001b[0mwidth\u001b[0m\u001b[0;34m)\u001b[0m\u001b[0;34m,\u001b[0m \u001b[0mint\u001b[0m\u001b[0;34m(\u001b[0m\u001b[0mheight\u001b[0m\u001b[0;34m)\u001b[0m\u001b[0;34m,\u001b[0m \u001b[0mdpi\u001b[0m\u001b[0;34m)\u001b[0m\u001b[0;34m\u001b[0m\u001b[0;34m\u001b[0m\u001b[0m\n\u001b[0m\u001b[1;32m     88\u001b[0m         \u001b[0mself\u001b[0m\u001b[0;34m.\u001b[0m\u001b[0m_filter_renderers\u001b[0m \u001b[0;34m=\u001b[0m \u001b[0;34m[\u001b[0m\u001b[0;34m]\u001b[0m\u001b[0;34m\u001b[0m\u001b[0;34m\u001b[0m\u001b[0m\n\u001b[1;32m     89\u001b[0m \u001b[0;34m\u001b[0m\u001b[0m\n",
      "\u001b[0;31mValueError\u001b[0m: Image size of 335848x25563 pixels is too large. It must be less than 2^16 in each direction."
     ]
    },
    {
     "data": {
      "image/svg+xml": [
       "<?xml version=\"1.0\" encoding=\"utf-8\" standalone=\"no\"?>\n",
       "<!DOCTYPE svg PUBLIC \"-//W3C//DTD SVG 1.1//EN\"\n",
       "  \"http://www.w3.org/Graphics/SVG/1.1/DTD/svg11.dtd\">\n",
       "<!-- Created with matplotlib (https://matplotlib.org/) -->\n",
       "<svg height=\"4601.36334pt\" version=\"1.1\" viewBox=\"0 0 60452.70225 4601.36334\" width=\"60452.70225pt\" xmlns=\"http://www.w3.org/2000/svg\" xmlns:xlink=\"http://www.w3.org/1999/xlink\">\n",
       " <defs>\n",
       "  <style type=\"text/css\">\n",
       "*{stroke-linecap:butt;stroke-linejoin:round;}\n",
       "  </style>\n",
       " </defs>\n",
       " <g id=\"figure_1\">\n",
       "  <g id=\"patch_1\">\n",
       "   <path d=\"M 0 4601.36334 \n",
       "L 60452.70225 4601.36334 \n",
       "L 60452.70225 0 \n",
       "L 0 0 \n",
       "z\n",
       "\" style=\"fill:none;\"/>\n",
       "  </g>\n",
       "  <g id=\"axes_1\">\n",
       "   <g id=\"patch_2\">\n",
       "    <path d=\"M 60.74625 4551.82209 \n",
       "L 395.54625 4551.82209 \n",
       "L 395.54625 4334.38209 \n",
       "L 60.74625 4334.38209 \n",
       "z\n",
       "\" style=\"fill:#ffffff;\"/>\n",
       "   </g>\n",
       "   <g id=\"matplotlib.axis_1\">\n",
       "    <g id=\"xtick_1\">\n",
       "     <g id=\"line2d_1\">\n",
       "      <defs>\n",
       "       <path d=\"M 0 0 \n",
       "L 0 -10 \n",
       "\" id=\"m7a734d66a4\" style=\"stroke:#000000;stroke-width:2;\"/>\n",
       "      </defs>\n",
       "      <g>\n",
       "       <use style=\"stroke:#000000;stroke-width:2;\" x=\"60.74625\" xlink:href=\"#m7a734d66a4\" y=\"4551.82209\"/>\n",
       "      </g>\n",
       "     </g>\n",
       "     <g id=\"line2d_2\">\n",
       "      <defs>\n",
       "       <path d=\"M 0 0 \n",
       "L 0 10 \n",
       "\" id=\"m5632663bc3\" style=\"stroke:#000000;stroke-width:2;\"/>\n",
       "      </defs>\n",
       "      <g>\n",
       "       <use style=\"stroke:#000000;stroke-width:2;\" x=\"60.74625\" xlink:href=\"#m5632663bc3\" y=\"4334.38209\"/>\n",
       "      </g>\n",
       "     </g>\n",
       "     <g id=\"text_1\">\n",
       "      <!-- 0.0 -->\n",
       "      <defs>\n",
       "       <path d=\"M 31.78125 66.40625 \n",
       "Q 24.171875 66.40625 20.328125 58.90625 \n",
       "Q 16.5 51.421875 16.5 36.375 \n",
       "Q 16.5 21.390625 20.328125 13.890625 \n",
       "Q 24.171875 6.390625 31.78125 6.390625 \n",
       "Q 39.453125 6.390625 43.28125 13.890625 \n",
       "Q 47.125 21.390625 47.125 36.375 \n",
       "Q 47.125 51.421875 43.28125 58.90625 \n",
       "Q 39.453125 66.40625 31.78125 66.40625 \n",
       "z\n",
       "M 31.78125 74.21875 \n",
       "Q 44.046875 74.21875 50.515625 64.515625 \n",
       "Q 56.984375 54.828125 56.984375 36.375 \n",
       "Q 56.984375 17.96875 50.515625 8.265625 \n",
       "Q 44.046875 -1.421875 31.78125 -1.421875 \n",
       "Q 19.53125 -1.421875 13.0625 8.265625 \n",
       "Q 6.59375 17.96875 6.59375 36.375 \n",
       "Q 6.59375 54.828125 13.0625 64.515625 \n",
       "Q 19.53125 74.21875 31.78125 74.21875 \n",
       "z\n",
       "\" id=\"DejaVuSans-48\"/>\n",
       "       <path d=\"M 10.6875 12.40625 \n",
       "L 21 12.40625 \n",
       "L 21 0 \n",
       "L 10.6875 0 \n",
       "z\n",
       "\" id=\"DejaVuSans-46\"/>\n",
       "      </defs>\n",
       "      <g transform=\"translate(46.433437 4568.999277)scale(0.18 -0.18)\">\n",
       "       <use xlink:href=\"#DejaVuSans-48\"/>\n",
       "       <use x=\"63.623047\" xlink:href=\"#DejaVuSans-46\"/>\n",
       "       <use x=\"95.410156\" xlink:href=\"#DejaVuSans-48\"/>\n",
       "      </g>\n",
       "     </g>\n",
       "    </g>\n",
       "    <g id=\"xtick_2\">\n",
       "     <g id=\"line2d_3\">\n",
       "      <g>\n",
       "       <use style=\"stroke:#000000;stroke-width:2;\" x=\"127.70625\" xlink:href=\"#m7a734d66a4\" y=\"4551.82209\"/>\n",
       "      </g>\n",
       "     </g>\n",
       "     <g id=\"line2d_4\">\n",
       "      <g>\n",
       "       <use style=\"stroke:#000000;stroke-width:2;\" x=\"127.70625\" xlink:href=\"#m5632663bc3\" y=\"4334.38209\"/>\n",
       "      </g>\n",
       "     </g>\n",
       "     <g id=\"text_2\">\n",
       "      <!-- 0.2 -->\n",
       "      <defs>\n",
       "       <path d=\"M 19.1875 8.296875 \n",
       "L 53.609375 8.296875 \n",
       "L 53.609375 0 \n",
       "L 7.328125 0 \n",
       "L 7.328125 8.296875 \n",
       "Q 12.9375 14.109375 22.625 23.890625 \n",
       "Q 32.328125 33.6875 34.8125 36.53125 \n",
       "Q 39.546875 41.84375 41.421875 45.53125 \n",
       "Q 43.3125 49.21875 43.3125 52.78125 \n",
       "Q 43.3125 58.59375 39.234375 62.25 \n",
       "Q 35.15625 65.921875 28.609375 65.921875 \n",
       "Q 23.96875 65.921875 18.8125 64.3125 \n",
       "Q 13.671875 62.703125 7.8125 59.421875 \n",
       "L 7.8125 69.390625 \n",
       "Q 13.765625 71.78125 18.9375 73 \n",
       "Q 24.125 74.21875 28.421875 74.21875 \n",
       "Q 39.75 74.21875 46.484375 68.546875 \n",
       "Q 53.21875 62.890625 53.21875 53.421875 \n",
       "Q 53.21875 48.921875 51.53125 44.890625 \n",
       "Q 49.859375 40.875 45.40625 35.40625 \n",
       "Q 44.1875 33.984375 37.640625 27.21875 \n",
       "Q 31.109375 20.453125 19.1875 8.296875 \n",
       "z\n",
       "\" id=\"DejaVuSans-50\"/>\n",
       "      </defs>\n",
       "      <g transform=\"translate(113.393438 4568.999277)scale(0.18 -0.18)\">\n",
       "       <use xlink:href=\"#DejaVuSans-48\"/>\n",
       "       <use x=\"63.623047\" xlink:href=\"#DejaVuSans-46\"/>\n",
       "       <use x=\"95.410156\" xlink:href=\"#DejaVuSans-50\"/>\n",
       "      </g>\n",
       "     </g>\n",
       "    </g>\n",
       "    <g id=\"xtick_3\">\n",
       "     <g id=\"line2d_5\">\n",
       "      <g>\n",
       "       <use style=\"stroke:#000000;stroke-width:2;\" x=\"194.66625\" xlink:href=\"#m7a734d66a4\" y=\"4551.82209\"/>\n",
       "      </g>\n",
       "     </g>\n",
       "     <g id=\"line2d_6\">\n",
       "      <g>\n",
       "       <use style=\"stroke:#000000;stroke-width:2;\" x=\"194.66625\" xlink:href=\"#m5632663bc3\" y=\"4334.38209\"/>\n",
       "      </g>\n",
       "     </g>\n",
       "     <g id=\"text_3\">\n",
       "      <!-- 0.4 -->\n",
       "      <defs>\n",
       "       <path d=\"M 37.796875 64.3125 \n",
       "L 12.890625 25.390625 \n",
       "L 37.796875 25.390625 \n",
       "z\n",
       "M 35.203125 72.90625 \n",
       "L 47.609375 72.90625 \n",
       "L 47.609375 25.390625 \n",
       "L 58.015625 25.390625 \n",
       "L 58.015625 17.1875 \n",
       "L 47.609375 17.1875 \n",
       "L 47.609375 0 \n",
       "L 37.796875 0 \n",
       "L 37.796875 17.1875 \n",
       "L 4.890625 17.1875 \n",
       "L 4.890625 26.703125 \n",
       "z\n",
       "\" id=\"DejaVuSans-52\"/>\n",
       "      </defs>\n",
       "      <g transform=\"translate(180.353438 4568.999277)scale(0.18 -0.18)\">\n",
       "       <use xlink:href=\"#DejaVuSans-48\"/>\n",
       "       <use x=\"63.623047\" xlink:href=\"#DejaVuSans-46\"/>\n",
       "       <use x=\"95.410156\" xlink:href=\"#DejaVuSans-52\"/>\n",
       "      </g>\n",
       "     </g>\n",
       "    </g>\n",
       "    <g id=\"xtick_4\">\n",
       "     <g id=\"line2d_7\">\n",
       "      <g>\n",
       "       <use style=\"stroke:#000000;stroke-width:2;\" x=\"261.62625\" xlink:href=\"#m7a734d66a4\" y=\"4551.82209\"/>\n",
       "      </g>\n",
       "     </g>\n",
       "     <g id=\"line2d_8\">\n",
       "      <g>\n",
       "       <use style=\"stroke:#000000;stroke-width:2;\" x=\"261.62625\" xlink:href=\"#m5632663bc3\" y=\"4334.38209\"/>\n",
       "      </g>\n",
       "     </g>\n",
       "     <g id=\"text_4\">\n",
       "      <!-- 0.6 -->\n",
       "      <defs>\n",
       "       <path d=\"M 33.015625 40.375 \n",
       "Q 26.375 40.375 22.484375 35.828125 \n",
       "Q 18.609375 31.296875 18.609375 23.390625 \n",
       "Q 18.609375 15.53125 22.484375 10.953125 \n",
       "Q 26.375 6.390625 33.015625 6.390625 \n",
       "Q 39.65625 6.390625 43.53125 10.953125 \n",
       "Q 47.40625 15.53125 47.40625 23.390625 \n",
       "Q 47.40625 31.296875 43.53125 35.828125 \n",
       "Q 39.65625 40.375 33.015625 40.375 \n",
       "z\n",
       "M 52.59375 71.296875 \n",
       "L 52.59375 62.3125 \n",
       "Q 48.875 64.0625 45.09375 64.984375 \n",
       "Q 41.3125 65.921875 37.59375 65.921875 \n",
       "Q 27.828125 65.921875 22.671875 59.328125 \n",
       "Q 17.53125 52.734375 16.796875 39.40625 \n",
       "Q 19.671875 43.65625 24.015625 45.921875 \n",
       "Q 28.375 48.1875 33.59375 48.1875 \n",
       "Q 44.578125 48.1875 50.953125 41.515625 \n",
       "Q 57.328125 34.859375 57.328125 23.390625 \n",
       "Q 57.328125 12.15625 50.6875 5.359375 \n",
       "Q 44.046875 -1.421875 33.015625 -1.421875 \n",
       "Q 20.359375 -1.421875 13.671875 8.265625 \n",
       "Q 6.984375 17.96875 6.984375 36.375 \n",
       "Q 6.984375 53.65625 15.1875 63.9375 \n",
       "Q 23.390625 74.21875 37.203125 74.21875 \n",
       "Q 40.921875 74.21875 44.703125 73.484375 \n",
       "Q 48.484375 72.75 52.59375 71.296875 \n",
       "z\n",
       "\" id=\"DejaVuSans-54\"/>\n",
       "      </defs>\n",
       "      <g transform=\"translate(247.313438 4568.999277)scale(0.18 -0.18)\">\n",
       "       <use xlink:href=\"#DejaVuSans-48\"/>\n",
       "       <use x=\"63.623047\" xlink:href=\"#DejaVuSans-46\"/>\n",
       "       <use x=\"95.410156\" xlink:href=\"#DejaVuSans-54\"/>\n",
       "      </g>\n",
       "     </g>\n",
       "    </g>\n",
       "    <g id=\"xtick_5\">\n",
       "     <g id=\"line2d_9\">\n",
       "      <g>\n",
       "       <use style=\"stroke:#000000;stroke-width:2;\" x=\"328.58625\" xlink:href=\"#m7a734d66a4\" y=\"4551.82209\"/>\n",
       "      </g>\n",
       "     </g>\n",
       "     <g id=\"line2d_10\">\n",
       "      <g>\n",
       "       <use style=\"stroke:#000000;stroke-width:2;\" x=\"328.58625\" xlink:href=\"#m5632663bc3\" y=\"4334.38209\"/>\n",
       "      </g>\n",
       "     </g>\n",
       "     <g id=\"text_5\">\n",
       "      <!-- 0.8 -->\n",
       "      <defs>\n",
       "       <path d=\"M 31.78125 34.625 \n",
       "Q 24.75 34.625 20.71875 30.859375 \n",
       "Q 16.703125 27.09375 16.703125 20.515625 \n",
       "Q 16.703125 13.921875 20.71875 10.15625 \n",
       "Q 24.75 6.390625 31.78125 6.390625 \n",
       "Q 38.8125 6.390625 42.859375 10.171875 \n",
       "Q 46.921875 13.96875 46.921875 20.515625 \n",
       "Q 46.921875 27.09375 42.890625 30.859375 \n",
       "Q 38.875 34.625 31.78125 34.625 \n",
       "z\n",
       "M 21.921875 38.8125 \n",
       "Q 15.578125 40.375 12.03125 44.71875 \n",
       "Q 8.5 49.078125 8.5 55.328125 \n",
       "Q 8.5 64.0625 14.71875 69.140625 \n",
       "Q 20.953125 74.21875 31.78125 74.21875 \n",
       "Q 42.671875 74.21875 48.875 69.140625 \n",
       "Q 55.078125 64.0625 55.078125 55.328125 \n",
       "Q 55.078125 49.078125 51.53125 44.71875 \n",
       "Q 48 40.375 41.703125 38.8125 \n",
       "Q 48.828125 37.15625 52.796875 32.3125 \n",
       "Q 56.78125 27.484375 56.78125 20.515625 \n",
       "Q 56.78125 9.90625 50.3125 4.234375 \n",
       "Q 43.84375 -1.421875 31.78125 -1.421875 \n",
       "Q 19.734375 -1.421875 13.25 4.234375 \n",
       "Q 6.78125 9.90625 6.78125 20.515625 \n",
       "Q 6.78125 27.484375 10.78125 32.3125 \n",
       "Q 14.796875 37.15625 21.921875 38.8125 \n",
       "z\n",
       "M 18.3125 54.390625 \n",
       "Q 18.3125 48.734375 21.84375 45.5625 \n",
       "Q 25.390625 42.390625 31.78125 42.390625 \n",
       "Q 38.140625 42.390625 41.71875 45.5625 \n",
       "Q 45.3125 48.734375 45.3125 54.390625 \n",
       "Q 45.3125 60.0625 41.71875 63.234375 \n",
       "Q 38.140625 66.40625 31.78125 66.40625 \n",
       "Q 25.390625 66.40625 21.84375 63.234375 \n",
       "Q 18.3125 60.0625 18.3125 54.390625 \n",
       "z\n",
       "\" id=\"DejaVuSans-56\"/>\n",
       "      </defs>\n",
       "      <g transform=\"translate(314.273438 4568.999277)scale(0.18 -0.18)\">\n",
       "       <use xlink:href=\"#DejaVuSans-48\"/>\n",
       "       <use x=\"63.623047\" xlink:href=\"#DejaVuSans-46\"/>\n",
       "       <use x=\"95.410156\" xlink:href=\"#DejaVuSans-56\"/>\n",
       "      </g>\n",
       "     </g>\n",
       "    </g>\n",
       "    <g id=\"xtick_6\">\n",
       "     <g id=\"line2d_11\">\n",
       "      <g>\n",
       "       <use style=\"stroke:#000000;stroke-width:2;\" x=\"395.54625\" xlink:href=\"#m7a734d66a4\" y=\"4551.82209\"/>\n",
       "      </g>\n",
       "     </g>\n",
       "     <g id=\"line2d_12\">\n",
       "      <g>\n",
       "       <use style=\"stroke:#000000;stroke-width:2;\" x=\"395.54625\" xlink:href=\"#m5632663bc3\" y=\"4334.38209\"/>\n",
       "      </g>\n",
       "     </g>\n",
       "     <g id=\"text_6\">\n",
       "      <!-- 1.0 -->\n",
       "      <defs>\n",
       "       <path d=\"M 12.40625 8.296875 \n",
       "L 28.515625 8.296875 \n",
       "L 28.515625 63.921875 \n",
       "L 10.984375 60.40625 \n",
       "L 10.984375 69.390625 \n",
       "L 28.421875 72.90625 \n",
       "L 38.28125 72.90625 \n",
       "L 38.28125 8.296875 \n",
       "L 54.390625 8.296875 \n",
       "L 54.390625 0 \n",
       "L 12.40625 0 \n",
       "z\n",
       "\" id=\"DejaVuSans-49\"/>\n",
       "      </defs>\n",
       "      <g transform=\"translate(381.233437 4568.999277)scale(0.18 -0.18)\">\n",
       "       <use xlink:href=\"#DejaVuSans-49\"/>\n",
       "       <use x=\"63.623047\" xlink:href=\"#DejaVuSans-46\"/>\n",
       "       <use x=\"95.410156\" xlink:href=\"#DejaVuSans-48\"/>\n",
       "      </g>\n",
       "     </g>\n",
       "    </g>\n",
       "    <g id=\"text_7\">\n",
       "     <!-- MJD-58221 (hours) -->\n",
       "     <defs>\n",
       "      <path d=\"M 9.8125 72.90625 \n",
       "L 24.515625 72.90625 \n",
       "L 43.109375 23.296875 \n",
       "L 61.8125 72.90625 \n",
       "L 76.515625 72.90625 \n",
       "L 76.515625 0 \n",
       "L 66.890625 0 \n",
       "L 66.890625 64.015625 \n",
       "L 48.09375 14.015625 \n",
       "L 38.1875 14.015625 \n",
       "L 19.390625 64.015625 \n",
       "L 19.390625 0 \n",
       "L 9.8125 0 \n",
       "z\n",
       "\" id=\"DejaVuSans-77\"/>\n",
       "      <path d=\"M 9.8125 72.90625 \n",
       "L 19.671875 72.90625 \n",
       "L 19.671875 5.078125 \n",
       "Q 19.671875 -8.109375 14.671875 -14.0625 \n",
       "Q 9.671875 -20.015625 -1.421875 -20.015625 \n",
       "L -5.171875 -20.015625 \n",
       "L -5.171875 -11.71875 \n",
       "L -2.09375 -11.71875 \n",
       "Q 4.4375 -11.71875 7.125 -8.046875 \n",
       "Q 9.8125 -4.390625 9.8125 5.078125 \n",
       "z\n",
       "\" id=\"DejaVuSans-74\"/>\n",
       "      <path d=\"M 19.671875 64.796875 \n",
       "L 19.671875 8.109375 \n",
       "L 31.59375 8.109375 \n",
       "Q 46.6875 8.109375 53.6875 14.9375 \n",
       "Q 60.6875 21.78125 60.6875 36.53125 \n",
       "Q 60.6875 51.171875 53.6875 57.984375 \n",
       "Q 46.6875 64.796875 31.59375 64.796875 \n",
       "z\n",
       "M 9.8125 72.90625 \n",
       "L 30.078125 72.90625 \n",
       "Q 51.265625 72.90625 61.171875 64.09375 \n",
       "Q 71.09375 55.28125 71.09375 36.53125 \n",
       "Q 71.09375 17.671875 61.125 8.828125 \n",
       "Q 51.171875 0 30.078125 0 \n",
       "L 9.8125 0 \n",
       "z\n",
       "\" id=\"DejaVuSans-68\"/>\n",
       "      <path d=\"M 4.890625 31.390625 \n",
       "L 31.203125 31.390625 \n",
       "L 31.203125 23.390625 \n",
       "L 4.890625 23.390625 \n",
       "z\n",
       "\" id=\"DejaVuSans-45\"/>\n",
       "      <path d=\"M 10.796875 72.90625 \n",
       "L 49.515625 72.90625 \n",
       "L 49.515625 64.59375 \n",
       "L 19.828125 64.59375 \n",
       "L 19.828125 46.734375 \n",
       "Q 21.96875 47.46875 24.109375 47.828125 \n",
       "Q 26.265625 48.1875 28.421875 48.1875 \n",
       "Q 40.625 48.1875 47.75 41.5 \n",
       "Q 54.890625 34.8125 54.890625 23.390625 \n",
       "Q 54.890625 11.625 47.5625 5.09375 \n",
       "Q 40.234375 -1.421875 26.90625 -1.421875 \n",
       "Q 22.3125 -1.421875 17.546875 -0.640625 \n",
       "Q 12.796875 0.140625 7.71875 1.703125 \n",
       "L 7.71875 11.625 \n",
       "Q 12.109375 9.234375 16.796875 8.0625 \n",
       "Q 21.484375 6.890625 26.703125 6.890625 \n",
       "Q 35.15625 6.890625 40.078125 11.328125 \n",
       "Q 45.015625 15.765625 45.015625 23.390625 \n",
       "Q 45.015625 31 40.078125 35.4375 \n",
       "Q 35.15625 39.890625 26.703125 39.890625 \n",
       "Q 22.75 39.890625 18.8125 39.015625 \n",
       "Q 14.890625 38.140625 10.796875 36.28125 \n",
       "z\n",
       "\" id=\"DejaVuSans-53\"/>\n",
       "      <path id=\"DejaVuSans-32\"/>\n",
       "      <path d=\"M 31 75.875 \n",
       "Q 24.46875 64.65625 21.28125 53.65625 \n",
       "Q 18.109375 42.671875 18.109375 31.390625 \n",
       "Q 18.109375 20.125 21.3125 9.0625 \n",
       "Q 24.515625 -2 31 -13.1875 \n",
       "L 23.1875 -13.1875 \n",
       "Q 15.875 -1.703125 12.234375 9.375 \n",
       "Q 8.59375 20.453125 8.59375 31.390625 \n",
       "Q 8.59375 42.28125 12.203125 53.3125 \n",
       "Q 15.828125 64.359375 23.1875 75.875 \n",
       "z\n",
       "\" id=\"DejaVuSans-40\"/>\n",
       "      <path d=\"M 54.890625 33.015625 \n",
       "L 54.890625 0 \n",
       "L 45.90625 0 \n",
       "L 45.90625 32.71875 \n",
       "Q 45.90625 40.484375 42.875 44.328125 \n",
       "Q 39.84375 48.1875 33.796875 48.1875 \n",
       "Q 26.515625 48.1875 22.3125 43.546875 \n",
       "Q 18.109375 38.921875 18.109375 30.90625 \n",
       "L 18.109375 0 \n",
       "L 9.078125 0 \n",
       "L 9.078125 75.984375 \n",
       "L 18.109375 75.984375 \n",
       "L 18.109375 46.1875 \n",
       "Q 21.34375 51.125 25.703125 53.5625 \n",
       "Q 30.078125 56 35.796875 56 \n",
       "Q 45.21875 56 50.046875 50.171875 \n",
       "Q 54.890625 44.34375 54.890625 33.015625 \n",
       "z\n",
       "\" id=\"DejaVuSans-104\"/>\n",
       "      <path d=\"M 30.609375 48.390625 \n",
       "Q 23.390625 48.390625 19.1875 42.75 \n",
       "Q 14.984375 37.109375 14.984375 27.296875 \n",
       "Q 14.984375 17.484375 19.15625 11.84375 \n",
       "Q 23.34375 6.203125 30.609375 6.203125 \n",
       "Q 37.796875 6.203125 41.984375 11.859375 \n",
       "Q 46.1875 17.53125 46.1875 27.296875 \n",
       "Q 46.1875 37.015625 41.984375 42.703125 \n",
       "Q 37.796875 48.390625 30.609375 48.390625 \n",
       "z\n",
       "M 30.609375 56 \n",
       "Q 42.328125 56 49.015625 48.375 \n",
       "Q 55.71875 40.765625 55.71875 27.296875 \n",
       "Q 55.71875 13.875 49.015625 6.21875 \n",
       "Q 42.328125 -1.421875 30.609375 -1.421875 \n",
       "Q 18.84375 -1.421875 12.171875 6.21875 \n",
       "Q 5.515625 13.875 5.515625 27.296875 \n",
       "Q 5.515625 40.765625 12.171875 48.375 \n",
       "Q 18.84375 56 30.609375 56 \n",
       "z\n",
       "\" id=\"DejaVuSans-111\"/>\n",
       "      <path d=\"M 8.5 21.578125 \n",
       "L 8.5 54.6875 \n",
       "L 17.484375 54.6875 \n",
       "L 17.484375 21.921875 \n",
       "Q 17.484375 14.15625 20.5 10.265625 \n",
       "Q 23.53125 6.390625 29.59375 6.390625 \n",
       "Q 36.859375 6.390625 41.078125 11.03125 \n",
       "Q 45.3125 15.671875 45.3125 23.6875 \n",
       "L 45.3125 54.6875 \n",
       "L 54.296875 54.6875 \n",
       "L 54.296875 0 \n",
       "L 45.3125 0 \n",
       "L 45.3125 8.40625 \n",
       "Q 42.046875 3.421875 37.71875 1 \n",
       "Q 33.40625 -1.421875 27.6875 -1.421875 \n",
       "Q 18.265625 -1.421875 13.375 4.4375 \n",
       "Q 8.5 10.296875 8.5 21.578125 \n",
       "z\n",
       "M 31.109375 56 \n",
       "z\n",
       "\" id=\"DejaVuSans-117\"/>\n",
       "      <path d=\"M 41.109375 46.296875 \n",
       "Q 39.59375 47.171875 37.8125 47.578125 \n",
       "Q 36.03125 48 33.890625 48 \n",
       "Q 26.265625 48 22.1875 43.046875 \n",
       "Q 18.109375 38.09375 18.109375 28.8125 \n",
       "L 18.109375 0 \n",
       "L 9.078125 0 \n",
       "L 9.078125 54.6875 \n",
       "L 18.109375 54.6875 \n",
       "L 18.109375 46.1875 \n",
       "Q 20.953125 51.171875 25.484375 53.578125 \n",
       "Q 30.03125 56 36.53125 56 \n",
       "Q 37.453125 56 38.578125 55.875 \n",
       "Q 39.703125 55.765625 41.0625 55.515625 \n",
       "z\n",
       "\" id=\"DejaVuSans-114\"/>\n",
       "      <path d=\"M 44.28125 53.078125 \n",
       "L 44.28125 44.578125 \n",
       "Q 40.484375 46.53125 36.375 47.5 \n",
       "Q 32.28125 48.484375 27.875 48.484375 \n",
       "Q 21.1875 48.484375 17.84375 46.4375 \n",
       "Q 14.5 44.390625 14.5 40.28125 \n",
       "Q 14.5 37.15625 16.890625 35.375 \n",
       "Q 19.28125 33.59375 26.515625 31.984375 \n",
       "L 29.59375 31.296875 \n",
       "Q 39.15625 29.25 43.1875 25.515625 \n",
       "Q 47.21875 21.78125 47.21875 15.09375 \n",
       "Q 47.21875 7.46875 41.1875 3.015625 \n",
       "Q 35.15625 -1.421875 24.609375 -1.421875 \n",
       "Q 20.21875 -1.421875 15.453125 -0.5625 \n",
       "Q 10.6875 0.296875 5.421875 2 \n",
       "L 5.421875 11.28125 \n",
       "Q 10.40625 8.6875 15.234375 7.390625 \n",
       "Q 20.0625 6.109375 24.8125 6.109375 \n",
       "Q 31.15625 6.109375 34.5625 8.28125 \n",
       "Q 37.984375 10.453125 37.984375 14.40625 \n",
       "Q 37.984375 18.0625 35.515625 20.015625 \n",
       "Q 33.0625 21.96875 24.703125 23.78125 \n",
       "L 21.578125 24.515625 \n",
       "Q 13.234375 26.265625 9.515625 29.90625 \n",
       "Q 5.8125 33.546875 5.8125 39.890625 \n",
       "Q 5.8125 47.609375 11.28125 51.796875 \n",
       "Q 16.75 56 26.8125 56 \n",
       "Q 31.78125 56 36.171875 55.265625 \n",
       "Q 40.578125 54.546875 44.28125 53.078125 \n",
       "z\n",
       "\" id=\"DejaVuSans-115\"/>\n",
       "      <path d=\"M 8.015625 75.875 \n",
       "L 15.828125 75.875 \n",
       "Q 23.140625 64.359375 26.78125 53.3125 \n",
       "Q 30.421875 42.28125 30.421875 31.390625 \n",
       "Q 30.421875 20.453125 26.78125 9.375 \n",
       "Q 23.140625 -1.703125 15.828125 -13.1875 \n",
       "L 8.015625 -13.1875 \n",
       "Q 14.5 -2 17.703125 9.0625 \n",
       "Q 20.90625 20.125 20.90625 31.390625 \n",
       "Q 20.90625 42.671875 17.703125 53.65625 \n",
       "Q 14.5 64.65625 8.015625 75.875 \n",
       "z\n",
       "\" id=\"DejaVuSans-41\"/>\n",
       "     </defs>\n",
       "     <g transform=\"translate(143.731875 4590.419902)scale(0.18 -0.18)\">\n",
       "      <use xlink:href=\"#DejaVuSans-77\"/>\n",
       "      <use x=\"86.279297\" xlink:href=\"#DejaVuSans-74\"/>\n",
       "      <use x=\"115.771484\" xlink:href=\"#DejaVuSans-68\"/>\n",
       "      <use x=\"192.773438\" xlink:href=\"#DejaVuSans-45\"/>\n",
       "      <use x=\"228.857422\" xlink:href=\"#DejaVuSans-53\"/>\n",
       "      <use x=\"292.480469\" xlink:href=\"#DejaVuSans-56\"/>\n",
       "      <use x=\"356.103516\" xlink:href=\"#DejaVuSans-50\"/>\n",
       "      <use x=\"419.726562\" xlink:href=\"#DejaVuSans-50\"/>\n",
       "      <use x=\"483.349609\" xlink:href=\"#DejaVuSans-49\"/>\n",
       "      <use x=\"546.972656\" xlink:href=\"#DejaVuSans-32\"/>\n",
       "      <use x=\"578.759766\" xlink:href=\"#DejaVuSans-40\"/>\n",
       "      <use x=\"617.773438\" xlink:href=\"#DejaVuSans-104\"/>\n",
       "      <use x=\"681.152344\" xlink:href=\"#DejaVuSans-111\"/>\n",
       "      <use x=\"742.333984\" xlink:href=\"#DejaVuSans-117\"/>\n",
       "      <use x=\"805.712891\" xlink:href=\"#DejaVuSans-114\"/>\n",
       "      <use x=\"846.826172\" xlink:href=\"#DejaVuSans-115\"/>\n",
       "      <use x=\"898.925781\" xlink:href=\"#DejaVuSans-41\"/>\n",
       "     </g>\n",
       "    </g>\n",
       "   </g>\n",
       "   <g id=\"matplotlib.axis_2\">\n",
       "    <g id=\"ytick_1\">\n",
       "     <g id=\"line2d_13\">\n",
       "      <defs>\n",
       "       <path d=\"M 0 0 \n",
       "L 10 0 \n",
       "\" id=\"m28863e0cfd\" style=\"stroke:#000000;stroke-width:2;\"/>\n",
       "      </defs>\n",
       "      <g>\n",
       "       <use style=\"stroke:#000000;stroke-width:2;\" x=\"60.74625\" xlink:href=\"#m28863e0cfd\" y=\"4551.82209\"/>\n",
       "      </g>\n",
       "     </g>\n",
       "     <g id=\"line2d_14\">\n",
       "      <defs>\n",
       "       <path d=\"M 0 0 \n",
       "L -10 0 \n",
       "\" id=\"md567a5d2c2\" style=\"stroke:#000000;stroke-width:2;\"/>\n",
       "      </defs>\n",
       "      <g>\n",
       "       <use style=\"stroke:#000000;stroke-width:2;\" x=\"395.54625\" xlink:href=\"#md567a5d2c2\" y=\"4551.82209\"/>\n",
       "      </g>\n",
       "     </g>\n",
       "     <g id=\"text_8\">\n",
       "      <!-- 0.0 -->\n",
       "      <g transform=\"translate(28.620625 4558.660683)scale(0.18 -0.18)\">\n",
       "       <use xlink:href=\"#DejaVuSans-48\"/>\n",
       "       <use x=\"63.623047\" xlink:href=\"#DejaVuSans-46\"/>\n",
       "       <use x=\"95.410156\" xlink:href=\"#DejaVuSans-48\"/>\n",
       "      </g>\n",
       "     </g>\n",
       "    </g>\n",
       "    <g id=\"ytick_2\">\n",
       "     <g id=\"line2d_15\">\n",
       "      <g>\n",
       "       <use style=\"stroke:#000000;stroke-width:2;\" x=\"60.74625\" xlink:href=\"#m28863e0cfd\" y=\"4508.33409\"/>\n",
       "      </g>\n",
       "     </g>\n",
       "     <g id=\"line2d_16\">\n",
       "      <g>\n",
       "       <use style=\"stroke:#000000;stroke-width:2;\" x=\"395.54625\" xlink:href=\"#md567a5d2c2\" y=\"4508.33409\"/>\n",
       "      </g>\n",
       "     </g>\n",
       "     <g id=\"text_9\">\n",
       "      <!-- 0.2 -->\n",
       "      <g transform=\"translate(28.620625 4515.172683)scale(0.18 -0.18)\">\n",
       "       <use xlink:href=\"#DejaVuSans-48\"/>\n",
       "       <use x=\"63.623047\" xlink:href=\"#DejaVuSans-46\"/>\n",
       "       <use x=\"95.410156\" xlink:href=\"#DejaVuSans-50\"/>\n",
       "      </g>\n",
       "     </g>\n",
       "    </g>\n",
       "    <g id=\"ytick_3\">\n",
       "     <g id=\"line2d_17\">\n",
       "      <g>\n",
       "       <use style=\"stroke:#000000;stroke-width:2;\" x=\"60.74625\" xlink:href=\"#m28863e0cfd\" y=\"4464.84609\"/>\n",
       "      </g>\n",
       "     </g>\n",
       "     <g id=\"line2d_18\">\n",
       "      <g>\n",
       "       <use style=\"stroke:#000000;stroke-width:2;\" x=\"395.54625\" xlink:href=\"#md567a5d2c2\" y=\"4464.84609\"/>\n",
       "      </g>\n",
       "     </g>\n",
       "     <g id=\"text_10\">\n",
       "      <!-- 0.4 -->\n",
       "      <g transform=\"translate(28.620625 4471.684683)scale(0.18 -0.18)\">\n",
       "       <use xlink:href=\"#DejaVuSans-48\"/>\n",
       "       <use x=\"63.623047\" xlink:href=\"#DejaVuSans-46\"/>\n",
       "       <use x=\"95.410156\" xlink:href=\"#DejaVuSans-52\"/>\n",
       "      </g>\n",
       "     </g>\n",
       "    </g>\n",
       "    <g id=\"ytick_4\">\n",
       "     <g id=\"line2d_19\">\n",
       "      <g>\n",
       "       <use style=\"stroke:#000000;stroke-width:2;\" x=\"60.74625\" xlink:href=\"#m28863e0cfd\" y=\"4421.35809\"/>\n",
       "      </g>\n",
       "     </g>\n",
       "     <g id=\"line2d_20\">\n",
       "      <g>\n",
       "       <use style=\"stroke:#000000;stroke-width:2;\" x=\"395.54625\" xlink:href=\"#md567a5d2c2\" y=\"4421.35809\"/>\n",
       "      </g>\n",
       "     </g>\n",
       "     <g id=\"text_11\">\n",
       "      <!-- 0.6 -->\n",
       "      <g transform=\"translate(28.620625 4428.196683)scale(0.18 -0.18)\">\n",
       "       <use xlink:href=\"#DejaVuSans-48\"/>\n",
       "       <use x=\"63.623047\" xlink:href=\"#DejaVuSans-46\"/>\n",
       "       <use x=\"95.410156\" xlink:href=\"#DejaVuSans-54\"/>\n",
       "      </g>\n",
       "     </g>\n",
       "    </g>\n",
       "    <g id=\"ytick_5\">\n",
       "     <g id=\"line2d_21\">\n",
       "      <g>\n",
       "       <use style=\"stroke:#000000;stroke-width:2;\" x=\"60.74625\" xlink:href=\"#m28863e0cfd\" y=\"4377.87009\"/>\n",
       "      </g>\n",
       "     </g>\n",
       "     <g id=\"line2d_22\">\n",
       "      <g>\n",
       "       <use style=\"stroke:#000000;stroke-width:2;\" x=\"395.54625\" xlink:href=\"#md567a5d2c2\" y=\"4377.87009\"/>\n",
       "      </g>\n",
       "     </g>\n",
       "     <g id=\"text_12\">\n",
       "      <!-- 0.8 -->\n",
       "      <g transform=\"translate(28.620625 4384.708683)scale(0.18 -0.18)\">\n",
       "       <use xlink:href=\"#DejaVuSans-48\"/>\n",
       "       <use x=\"63.623047\" xlink:href=\"#DejaVuSans-46\"/>\n",
       "       <use x=\"95.410156\" xlink:href=\"#DejaVuSans-56\"/>\n",
       "      </g>\n",
       "     </g>\n",
       "    </g>\n",
       "    <g id=\"ytick_6\">\n",
       "     <g id=\"line2d_23\">\n",
       "      <g>\n",
       "       <use style=\"stroke:#000000;stroke-width:2;\" x=\"60.74625\" xlink:href=\"#m28863e0cfd\" y=\"4334.38209\"/>\n",
       "      </g>\n",
       "     </g>\n",
       "     <g id=\"line2d_24\">\n",
       "      <g>\n",
       "       <use style=\"stroke:#000000;stroke-width:2;\" x=\"395.54625\" xlink:href=\"#md567a5d2c2\" y=\"4334.38209\"/>\n",
       "      </g>\n",
       "     </g>\n",
       "     <g id=\"text_13\">\n",
       "      <!-- 1.0 -->\n",
       "      <g transform=\"translate(28.620625 4341.220683)scale(0.18 -0.18)\">\n",
       "       <use xlink:href=\"#DejaVuSans-49\"/>\n",
       "       <use x=\"63.623047\" xlink:href=\"#DejaVuSans-46\"/>\n",
       "       <use x=\"95.410156\" xlink:href=\"#DejaVuSans-48\"/>\n",
       "      </g>\n",
       "     </g>\n",
       "    </g>\n",
       "    <g id=\"text_14\">\n",
       "     <!-- Jy -->\n",
       "     <defs>\n",
       "      <path d=\"M 32.171875 -5.078125 \n",
       "Q 28.375 -14.84375 24.75 -17.8125 \n",
       "Q 21.140625 -20.796875 15.09375 -20.796875 \n",
       "L 7.90625 -20.796875 \n",
       "L 7.90625 -13.28125 \n",
       "L 13.1875 -13.28125 \n",
       "Q 16.890625 -13.28125 18.9375 -11.515625 \n",
       "Q 21 -9.765625 23.484375 -3.21875 \n",
       "L 25.09375 0.875 \n",
       "L 2.984375 54.6875 \n",
       "L 12.5 54.6875 \n",
       "L 29.59375 11.921875 \n",
       "L 46.6875 54.6875 \n",
       "L 56.203125 54.6875 \n",
       "z\n",
       "\" id=\"DejaVuSans-121\"/>\n",
       "     </defs>\n",
       "     <g transform=\"translate(20.877187 4451.083965)rotate(-90)scale(0.18 -0.18)\">\n",
       "      <use xlink:href=\"#DejaVuSans-74\"/>\n",
       "      <use x=\"29.492188\" xlink:href=\"#DejaVuSans-121\"/>\n",
       "     </g>\n",
       "    </g>\n",
       "   </g>\n",
       "   <g id=\"patch_3\">\n",
       "    <path d=\"M 60.74625 4551.82209 \n",
       "L 60.74625 4334.38209 \n",
       "\" style=\"fill:none;stroke:#000000;stroke-linecap:square;stroke-linejoin:miter;stroke-width:2;\"/>\n",
       "   </g>\n",
       "   <g id=\"patch_4\">\n",
       "    <path d=\"M 395.54625 4551.82209 \n",
       "L 395.54625 4334.38209 \n",
       "\" style=\"fill:none;stroke:#000000;stroke-linecap:square;stroke-linejoin:miter;stroke-width:2;\"/>\n",
       "   </g>\n",
       "   <g id=\"patch_5\">\n",
       "    <path d=\"M 60.74625 4551.82209 \n",
       "L 395.54625 4551.82209 \n",
       "\" style=\"fill:none;stroke:#000000;stroke-linecap:square;stroke-linejoin:miter;stroke-width:2;\"/>\n",
       "   </g>\n",
       "   <g id=\"patch_6\">\n",
       "    <path d=\"M 60.74625 4334.38209 \n",
       "L 395.54625 4334.38209 \n",
       "\" style=\"fill:none;stroke:#000000;stroke-linecap:square;stroke-linejoin:miter;stroke-width:2;\"/>\n",
       "   </g>\n",
       "   <g id=\"text_15\">\n",
       "    <!-- 1208174688 -->\n",
       "    <defs>\n",
       "     <path d=\"M 8.203125 72.90625 \n",
       "L 55.078125 72.90625 \n",
       "L 55.078125 68.703125 \n",
       "L 28.609375 0 \n",
       "L 18.3125 0 \n",
       "L 43.21875 64.59375 \n",
       "L 8.203125 64.59375 \n",
       "z\n",
       "\" id=\"DejaVuSans-55\"/>\n",
       "    </defs>\n",
       "    <g transform=\"translate(52318.09725 20.877188)scale(0.18 -0.18)\">\n",
       "     <use xlink:href=\"#DejaVuSans-49\"/>\n",
       "     <use x=\"63.623047\" xlink:href=\"#DejaVuSans-50\"/>\n",
       "     <use x=\"127.246094\" xlink:href=\"#DejaVuSans-48\"/>\n",
       "     <use x=\"190.869141\" xlink:href=\"#DejaVuSans-56\"/>\n",
       "     <use x=\"254.492188\" xlink:href=\"#DejaVuSans-49\"/>\n",
       "     <use x=\"318.115234\" xlink:href=\"#DejaVuSans-55\"/>\n",
       "     <use x=\"381.738281\" xlink:href=\"#DejaVuSans-52\"/>\n",
       "     <use x=\"445.361328\" xlink:href=\"#DejaVuSans-54\"/>\n",
       "     <use x=\"508.984375\" xlink:href=\"#DejaVuSans-56\"/>\n",
       "     <use x=\"572.607422\" xlink:href=\"#DejaVuSans-56\"/>\n",
       "    </g>\n",
       "   </g>\n",
       "   <g id=\"text_16\">\n",
       "    <!-- 1208260848 -->\n",
       "    <g transform=\"translate(60330.97725 160.977198)scale(0.18 -0.18)\">\n",
       "     <use xlink:href=\"#DejaVuSans-49\"/>\n",
       "     <use x=\"63.623047\" xlink:href=\"#DejaVuSans-50\"/>\n",
       "     <use x=\"127.246094\" xlink:href=\"#DejaVuSans-48\"/>\n",
       "     <use x=\"190.869141\" xlink:href=\"#DejaVuSans-56\"/>\n",
       "     <use x=\"254.492188\" xlink:href=\"#DejaVuSans-50\"/>\n",
       "     <use x=\"318.115234\" xlink:href=\"#DejaVuSans-54\"/>\n",
       "     <use x=\"381.738281\" xlink:href=\"#DejaVuSans-48\"/>\n",
       "     <use x=\"445.361328\" xlink:href=\"#DejaVuSans-56\"/>\n",
       "     <use x=\"508.984375\" xlink:href=\"#DejaVuSans-52\"/>\n",
       "     <use x=\"572.607422\" xlink:href=\"#DejaVuSans-56\"/>\n",
       "    </g>\n",
       "   </g>\n",
       "   <g id=\"text_17\">\n",
       "    <!-- J074504+020010 -->\n",
       "    <defs>\n",
       "     <path d=\"M 46 62.703125 \n",
       "L 46 35.5 \n",
       "L 73.1875 35.5 \n",
       "L 73.1875 27.203125 \n",
       "L 46 27.203125 \n",
       "L 46 0 \n",
       "L 37.796875 0 \n",
       "L 37.796875 27.203125 \n",
       "L 10.59375 27.203125 \n",
       "L 10.59375 35.5 \n",
       "L 37.796875 35.5 \n",
       "L 37.796875 62.703125 \n",
       "z\n",
       "\" id=\"DejaVuSans-43\"/>\n",
       "    </defs>\n",
       "    <g transform=\"translate(133.452188 4328.38209)scale(0.216 -0.216)\">\n",
       "     <use xlink:href=\"#DejaVuSans-74\"/>\n",
       "     <use x=\"29.492188\" xlink:href=\"#DejaVuSans-48\"/>\n",
       "     <use x=\"93.115234\" xlink:href=\"#DejaVuSans-55\"/>\n",
       "     <use x=\"156.738281\" xlink:href=\"#DejaVuSans-52\"/>\n",
       "     <use x=\"220.361328\" xlink:href=\"#DejaVuSans-53\"/>\n",
       "     <use x=\"283.984375\" xlink:href=\"#DejaVuSans-48\"/>\n",
       "     <use x=\"347.607422\" xlink:href=\"#DejaVuSans-52\"/>\n",
       "     <use x=\"411.230469\" xlink:href=\"#DejaVuSans-43\"/>\n",
       "     <use x=\"495.019531\" xlink:href=\"#DejaVuSans-48\"/>\n",
       "     <use x=\"558.642578\" xlink:href=\"#DejaVuSans-50\"/>\n",
       "     <use x=\"622.265625\" xlink:href=\"#DejaVuSans-48\"/>\n",
       "     <use x=\"685.888672\" xlink:href=\"#DejaVuSans-48\"/>\n",
       "     <use x=\"749.511719\" xlink:href=\"#DejaVuSans-49\"/>\n",
       "     <use x=\"813.134766\" xlink:href=\"#DejaVuSans-48\"/>\n",
       "    </g>\n",
       "   </g>\n",
       "   <g id=\"legend_1\">\n",
       "    <g id=\"patch_7\">\n",
       "     <path d=\"M 68.44625 4348.68209 \n",
       "L 72.84625 4348.68209 \n",
       "Q 75.04625 4348.68209 75.04625 4346.48209 \n",
       "L 75.04625 4342.08209 \n",
       "Q 75.04625 4339.88209 72.84625 4339.88209 \n",
       "L 68.44625 4339.88209 \n",
       "Q 66.24625 4339.88209 66.24625 4342.08209 \n",
       "L 66.24625 4346.48209 \n",
       "Q 66.24625 4348.68209 68.44625 4348.68209 \n",
       "z\n",
       "\" style=\"fill:#ffffff;opacity:0.8;stroke:#cccccc;stroke-linejoin:miter;\"/>\n",
       "    </g>\n",
       "   </g>\n",
       "  </g>\n",
       " </g>\n",
       "</svg>\n"
      ],
      "text/plain": [
       "<Figure size 432x288 with 1 Axes>"
      ]
     },
     "metadata": {
      "needs_background": "light"
     },
     "output_type": "display_data"
    }
   ],
   "source": [
    "for source_index in range(len(names_infield_1Jy)):\n",
    "    #print(index,'%.3f,%.3f,%s'%(ra_,dec_,name_),peak_f_)\n",
    "    #fig.add_label(ra_,dec_,'%.3f,%.3f'%(ra_,dec_),color='yellow',fontsize=14)    \n",
    "    print(source_index)\n",
    "    plot_source_lightcurve(source_index,path_157,skymodeldata_select_infield_1Jy,prefix='briggsplus1')"
   ]
  },
  {
   "cell_type": "code",
   "execution_count": null,
   "metadata": {},
   "outputs": [],
   "source": []
  },
  {
   "cell_type": "code",
   "execution_count": null,
   "metadata": {},
   "outputs": [],
   "source": []
  },
  {
   "cell_type": "code",
   "execution_count": null,
   "metadata": {},
   "outputs": [],
   "source": []
  },
  {
   "cell_type": "code",
   "execution_count": null,
   "metadata": {},
   "outputs": [],
   "source": [
    "def return_table_source(path,ra,dec,intmjd0=58200):\n",
    "    obsnums=get_obsids(path)\n",
    "    no_select__obsids=[]\n",
    "    no_table_obsids=[]\n",
    "    with_noise_obsids=[]\n",
    "    df_ = pd.DataFrame(columns=[\"obsid\", \"mjd\", \"freq\",\"flux\",\"flux_err\",\"peak_flux\"])\n",
    "    #mjd0=Time(obsnums[0], format='gps').mjd\n",
    "    #intmjd0=math.floor(mjd0)   \n",
    "    for obsid in obsnums:              \n",
    "        stokes_file_I,freq_central,freq_delta=get_stokes_image_freq_err_of_obsid(path,obsid)\n",
    "        freq=int(freq_central)        \n",
    "    #print(stokes_file_I)\n",
    "    #print(freq_central,freq_delta)\n",
    "        table_=read_tables(path,obsid)\n",
    "        if table_:\n",
    "            select_=table_[abs(table_['ra']-ra)<0.1]\n",
    "            select_=select_[abs(select_['dec']-dec)<0.1] \n",
    "            \n",
    "            if len(select_)>0:  \n",
    "                mjd=Time(obsid, format='gps').mjd\n",
    "                mjdtime_frac=mjd-intmjd0\n",
    "                \n",
    "                #date_obs=mjd2datetimenew(mjd)\n",
    "                #print(date_obs)\n",
    "                flux=select_['int_flux'].quantity[0]\n",
    "                flux_err=select_['err_int_flux'].quantity[0]\n",
    "                peak_flux=select_['peak_flux'].quantity[0]                \n",
    "                color=color_dict_band[freq]\n",
    "                \n",
    "                if flux_err >0 and flux_err<1.0:               \n",
    "                    df_=df_.append(\n",
    "                        pd.Series({\"obsid\":obsid, \"mjd\":mjd,\"freq\":freq,\n",
    "                        \"flux\":flux,\"flux_err\":flux_err,\"peak_flux\":peak_flux}), \n",
    "                        ignore_index=True)                \n",
    "                else:\n",
    "                    with_noise_obsids.append(obsid)                    \n",
    "            #print(obsid,freq_central,select_['int_flux'].quantity[0],select_['err_int_flux'].quantity[0])\n",
    "            #print('****************************************')               \n",
    "            else:\n",
    "                no_select__obsids.append(obsid)\n",
    "        else:\n",
    "            no_table_obsids.append(obsid)\n",
    "            \n",
    "    return no_table_obsids,no_select__obsids, with_noise_obsids,df_\n",
    "\n",
    "\n",
    "def get_bad_obsid_lightcurve(source_index,path,skymodeldata_select_infield):   \n",
    "    ra,dec,name_source=(skymodeldata_select_infield[source_index]['ra'],\n",
    "                    skymodeldata_select_infield[source_index]['dec'],\n",
    "                    skymodeldata_select_infield[source_index]['Name'])\n",
    "\n",
    "    #print(ra,dec,name_source)\n",
    "    intmjd0=58221\n",
    "    no_table_obsids,no_select__obsids, with_noise_obsids,df_=return_table_source(path,ra,dec,intmjd0=intmjd0)\n",
    "    \n",
    "    for i in with_noise_obsids:\n",
    "        print('noise',i,name_source)\n",
    "        \n",
    "    df_bad=df_[df_['flux_err']>0.1]    \n",
    "    \n",
    "    for j in df_bad['obsid']:\n",
    "        print('flux_err',j,name_source)        \n",
    "        \n"
   ]
  },
  {
   "cell_type": "code",
   "execution_count": null,
   "metadata": {},
   "outputs": [],
   "source": [
    "get_bad_obsid_lightcurve(3,path_done,skymodeldata_select_infield)"
   ]
  },
  {
   "cell_type": "code",
   "execution_count": null,
   "metadata": {},
   "outputs": [],
   "source": [
    "for source_index in range(18):\n",
    "    get_bad_obsid_lightcurve(source_index,path_done,skymodeldata_select_infield)"
   ]
  },
  {
   "cell_type": "code",
   "execution_count": null,
   "metadata": {},
   "outputs": [],
   "source": []
  },
  {
   "cell_type": "markdown",
   "metadata": {},
   "source": [
    "## mv_within5deg"
   ]
  },
  {
   "cell_type": "code",
   "execution_count": null,
   "metadata": {},
   "outputs": [],
   "source": [
    "def move_dirfile(orgindir,destinationdir):\n",
    "    if os.path.exists(orgindir):\n",
    "        #os.system('mv %s %s'%(orgin_dir,destination_dir))\n",
    "        shutil.move(orgindir,destinationdir)\n",
    "        #print(orgin_dir,'moving')\n",
    "\n",
    "def move_mszipfile(orgindir,destinationdir):\n",
    "    if os.path.isfile(orgindir):\n",
    "        os.system('mv %s %s'%(orgindir,destinationdir))\n",
    "        #shutil.move(orgin_dir,destination_dir)\n",
    "        print(orgindir,'moving')"
   ]
  },
  {
   "cell_type": "code",
   "execution_count": null,
   "metadata": {},
   "outputs": [],
   "source": [
    "import os,sys,re\n",
    "import time\n",
    "from datetime import datetime\n",
    "import numpy as np\n",
    "from astropy.io import fits\n",
    "import shutil\n",
    "\n"
   ]
  },
  {
   "cell_type": "code",
   "execution_count": null,
   "metadata": {},
   "outputs": [],
   "source": [
    "dir_G0044_calibrated='/share/home/qguo/eor_data/G0044_calibrated'\n",
    "#obsnums=get_obsids(dir_G0044_calibrated)     \n",
    "\n",
    "dir_G0044_D0013_cali_false='/share/home/qguo/eor_data/G0044_D0013_cali_false'\n",
    "obsnums=get_obsids(dir_G0044_D0013_cali_false)"
   ]
  },
  {
   "cell_type": "code",
   "execution_count": null,
   "metadata": {},
   "outputs": [],
   "source": []
  },
  {
   "cell_type": "code",
   "execution_count": null,
   "metadata": {},
   "outputs": [],
   "source": []
  },
  {
   "cell_type": "code",
   "execution_count": null,
   "metadata": {},
   "outputs": [],
   "source": []
  },
  {
   "cell_type": "markdown",
   "metadata": {},
   "source": [
    "# Variability measures\n",
    "\n",
    "## modulation index\n",
    "\n",
    "<span style=\"font-size:larger;\">\n",
    "$m=\\frac{\\sigma_s}{\\bar{S}}$\n",
    "</span>     \n",
    "\n",
    "%\\begin{displaymath}\n",
    "<span style=\"font-size:larger;\">\n",
    "$\\bar{S}=\\frac{\\sum_{i=1}^{n}\\, (\\frac{S_i}{\\sigma_i^2})}{\\sum_{i=1}^{n}\\,(\\frac{1}{\\sigma_i^2})}$\n",
    "</span>    \n",
    "%\\end{displaymath}\n",
    "\n",
    "## chi-square of lc\n",
    "\n",
    "<span style=\"font-size:larger;\">\n",
    "$\\chi_{lc}^2=\\sum_{i=1}^{n} \\frac{(S_i-\\bar{S})^2}{\\sigma_i^2}  $\n",
    "</span>     \n",
    "\n",
    "<span style=\"font-size:larger;\">\n",
    "$\\chi_{red}^2= \\frac{\\chi_{lc}^2}{n-1}$\n",
    "</span>   "
   ]
  },
  {
   "cell_type": "code",
   "execution_count": null,
   "metadata": {},
   "outputs": [],
   "source": []
  },
  {
   "cell_type": "markdown",
   "metadata": {},
   "source": [
    "# spectrum"
   ]
  },
  {
   "cell_type": "code",
   "execution_count": null,
   "metadata": {},
   "outputs": [],
   "source": []
  },
  {
   "cell_type": "code",
   "execution_count": null,
   "metadata": {
    "scrolled": false
   },
   "outputs": [],
   "source": [
    "for day in range(58221,58239):\n",
    "\n",
    "    PKS0736_day=df_PKS0736[(df_PKS0736['mjd']-day)<1]\n",
    "    PKS0736_day=PKS0736_day[(PKS0736_day['mjd']-day)>0]\n",
    "    \n",
    "    if len(PKS0736_day)>0:\n",
    "        fig = plt.figure(figsize=(6, 6))\n",
    "        ax=fig.add_subplot(1,1,1)\n",
    "        ax.errorbar(PKS0736_day['freq'],PKS0736_day['flux'],yerr=PKS0736_day['flux_err'],fmt='o',color='black', ls='',label=str(day))\n",
    "        handles, labels = ax.get_legend_handles_labels()\n",
    "        hdl = [h[0] for h in handles]\n",
    "    # use them in the legend\n",
    "        by_label = OrderedDict(zip(labels, hdl)) \n",
    "        ax.legend(by_label.values(), by_label.keys(), bbox_to_anchor=(0.0, 1.0),\n",
    "          loc=2, numpoints=1,ncol=1, fontsize=11.)\n",
    "        ax.set_xlabel(r'$freq ({MHz})$', labelpad=10)\n",
    "        ax.set_ylabel(r'$flux ({Jy})$', labelpad=10)\n",
    "        ax.set_title(str(day))\n",
    "        set_ax_tick(ax)\n",
    "        set_ax_locator(ax,xma=20,xmi=10,yma=0.1,ymi=0.05)\n",
    "        plt.rcParams['font.size'] = 18\n",
    "        plt.rcParams['axes.linewidth'] = 2\n",
    "        fig.savefig('%s/%s.png'%(path_spec,day), dpi=400, transparent=False, bbox_inches='tight')\n",
    "    #plt.errorbar(df_PKS0736['freq'],df_PKS0736['flux'],yerr=df_PKS0736['flux_err'],ls='')\n",
    "    "
   ]
  },
  {
   "cell_type": "code",
   "execution_count": null,
   "metadata": {},
   "outputs": [],
   "source": []
  },
  {
   "cell_type": "code",
   "execution_count": null,
   "metadata": {},
   "outputs": [],
   "source": [
    "import numpy\n",
    "print(numpy.__version__)\n",
    "\n",
    "import astropy\n",
    "print(astropy.__version__)\n",
    "\n",
    "import six\n",
    "print(six.__version__)\n",
    "\n",
    "import matplotlib\n",
    "print(matplotlib.__version__)"
   ]
  },
  {
   "cell_type": "markdown",
   "metadata": {},
   "source": [
    "import struct\n",
    "print(struct.__version__)"
   ]
  },
  {
   "cell_type": "markdown",
   "metadata": {},
   "source": [
    "## notdown_yet"
   ]
  },
  {
   "cell_type": "code",
   "execution_count": null,
   "metadata": {},
   "outputs": [],
   "source": [
    "job_file = '/share/home/blv/MWAdata/qguo_data/G0044/within5deg/within5deg.txt'\n",
    "obsnums_within5deg=np.loadtxt(job_file, dtype=np.str, unpack=True, usecols=[0])\n",
    "path='/share/home/blv/MWAdata/qguo_data/G0044/within5deg/'\n",
    "print(len(obsnums_within5deg))"
   ]
  },
  {
   "cell_type": "code",
   "execution_count": null,
   "metadata": {},
   "outputs": [],
   "source": []
  },
  {
   "cell_type": "code",
   "execution_count": null,
   "metadata": {},
   "outputs": [],
   "source": []
  },
  {
   "cell_type": "code",
   "execution_count": null,
   "metadata": {},
   "outputs": [],
   "source": [
    "obsnum='1207652304'\n",
    "print(\"taql 'NELEMENTS([select distinct TIME from %s.ms])'\"%obsnum)\n",
    "#os.system(\"taql 'NELEMENTS([select distinct TIME from ${obsnum}.ms])'\")"
   ]
  },
  {
   "cell_type": "code",
   "execution_count": null,
   "metadata": {},
   "outputs": [],
   "source": []
  },
  {
   "cell_type": "markdown",
   "metadata": {},
   "source": [
    "## pbaddimg"
   ]
  },
  {
   "cell_type": "code",
   "execution_count": null,
   "metadata": {},
   "outputs": [],
   "source": [
    "import math\n",
    "def return_good_table(path):\n",
    "\n",
    "    obsnums=get_obsids(path)\n",
    "    no_select_PKS0736_obsids=[]\n",
    "    no_table_obsids=[]\n",
    "    with_noise_obsids=[]\n",
    "    df_PKS0736 = pd.DataFrame(columns=[\"obsid\", \"mjd\", \"freq\",\"flux\",\"flux_err\"])\n",
    "\n",
    "    for obsid in obsnums:              \n",
    "        stokes_file_I,freq_central,freq_delta=get_stokes_freq(path,obsid)\n",
    "        freq=int(freq_central)\n",
    "    #print(stokes_file_I)\n",
    "    #print(freq_central,freq_delta)\n",
    "        table_PKS0736=read_tables(path,obsid)\n",
    "        if table_PKS0736:\n",
    "            select_PKS0736=table_PKS0736[abs(table_PKS0736['ra']-114.8251408)<0.1]\n",
    "            select_PKS0736=select_PKS0736[abs(select_PKS0736['dec']-1.6179497)<0.1]    \n",
    "            if len(select_PKS0736)>0: \n",
    "                mjd=Time(obsid, format='gps').mjd\n",
    "                flux=select_PKS0736['int_flux'].quantity[0]\n",
    "                flux_err=select_PKS0736['err_int_flux'].quantity[0]                \n",
    "                if flux_err>0.1:\n",
    "                    #ax.text(mjdtime_frac*24,flux,str(obsid))\n",
    "                    with_noise_obsids.append(obsid)\n",
    "            #print(obsid,freq_central,select_PKS0736['int_flux'].quantity[0],select_PKS0736['err_int_flux'].quantity[0])\n",
    "            #print('****************************************')\n",
    "                else:               \n",
    "                    df_PKS0736=df_PKS0736.append(pd.Series({\"obsid\":obsid, \"mjd\":mjd,\"freq\":freq,\"flux\":flux,\"flux_err\":flux_err}), ignore_index=True)\n",
    "              \n",
    "            else:\n",
    "                no_select_PKS0736_obsids.append(obsid)\n",
    "        else:\n",
    "            no_table_obsids.append(obsid)\n",
    "            \n",
    "    return no_table_obsids,no_select_PKS0736_obsids, with_noise_obsids,df_PKS0736"
   ]
  },
  {
   "cell_type": "code",
   "execution_count": null,
   "metadata": {},
   "outputs": [],
   "source": [
    "path='/share/home/blv/MWAdata/qguo_data/G0044/within5deg/'\n",
    "no_table_obsids,no_select_PKS0736_obsids, with_noise_obsids,df_PKS0736=return_good_table(path)\n",
    "df_PKS0736=df_PKS0736.sort_values(by='freq')\n",
    "df_PKS0736=df_PKS0736.reset_index(drop=True)"
   ]
  },
  {
   "cell_type": "code",
   "execution_count": null,
   "metadata": {
    "scrolled": false
   },
   "outputs": [],
   "source": [
    "if not os.path.exists(os.path.join(path,'addimg')):\n",
    "    os.mkdir(os.path.join(path,'addimg'))\n",
    "\n",
    "for freq in df_PKS0736['freq']:\n",
    "    add_img_dir=os.path.join(path,'addimg',str(freq))  \n",
    "    if not os.path.exists(add_img_dir):\n",
    "        os.mkdir(add_img_dir)\n",
    "\n",
    "for index,(obsid,freq) in enumerate(zip(df_PKS0736['obsid'],df_PKS0736['freq'])):\n",
    "    stokes_file_I=get_stokes_file(path,obsid)\n",
    "    add_img_dir=os.path.join(path,'addimg',str(freq))\n",
    "    obsid_path=os.path.join(path,obsid)\n",
    "    \n",
    "    if stokes_file_I:\n",
    "        if not os.path.exists(os.path.join(add_img_dir,'first_%s-XX-image.fits'%obsid)):\n",
    "            #print('cp %s %s'%(stokes_file_I,add_img_dir))\n",
    "            #os.system('cp %s %s'%(stokes_file_I,add_img_dir))  \n",
    "            os.system('cp %s/%s_first-XX-image.fits %s/first_%s-XX-image.fits'%(obsid_path,obsid,add_img_dir,obsid)) \n",
    "            os.system('cp %s/%s_first-XY-image.fits %s/first_%s-XY-image.fits'%(obsid_path,obsid,add_img_dir,obsid)) \n",
    "            os.system('cp %s/%s_first-XYi-image.fits %s/first_%s-XYi-image.fits'%(obsid_path,obsid,add_img_dir,obsid)) \n",
    "            os.system('cp %s/%s_first-YY-image.fits %s/first_%s-YY-image.fits'%(obsid_path,obsid,add_img_dir,obsid))                         \n",
    "            \n",
    "            os.system('cp %s/beam-*.fits %s'%(obsid_path,add_img_dir)) "
   ]
  },
  {
   "cell_type": "code",
   "execution_count": null,
   "metadata": {
    "scrolled": true
   },
   "outputs": [],
   "source": [
    "for index,(obsid,freq) in enumerate(zip(df_PKS0736['obsid'],df_PKS0736['freq'])):\n",
    "    stokes_file_I=get_stokes_file(path,obsid)\n",
    "    add_img_dir=os.path.join(path,'addimg',str(freq))\n",
    "    obsid_path=os.path.join(path,obsid)    \n",
    "    os.chdir(add_img_dir)\n",
    "    #print(add_img_dir)   \n",
    "    #if not os.path.exists('integrated-stokes-I.fits'):\n",
    "    print(freq,'pbaddimg integrated-stokes first_%s image.fits beam-first-%s'%(obsid,obsid))\n",
    "    os.system('pbaddimg integrated-stokes first_%s image.fits beam-first-%s'%(obsid,obsid))"
   ]
  },
  {
   "cell_type": "markdown",
   "metadata": {},
   "source": [
    "# read_integrated-stokes"
   ]
  },
  {
   "cell_type": "code",
   "execution_count": null,
   "metadata": {},
   "outputs": [],
   "source": [
    "bands_all"
   ]
  },
  {
   "cell_type": "code",
   "execution_count": null,
   "metadata": {},
   "outputs": [],
   "source": [
    "def get_aegean_integrated_table(path,freq):\n",
    "    if os.path.exists(os.path.join(path,str(freq))):\n",
    "        os.chdir(os.path.join(path,str(freq)))  \n",
    "        print(os.path.join(path,str(freq)))\n",
    "    if  os.path.exists('integrated-stokes-I.fits'):\n",
    "        if not os.path.exists('integrated-stokes-I_out_comp.fits'):\n",
    "            print(freq)\n",
    "            bane_com='BANE integrated-stokes-I.fits'\n",
    "            print(bane_com)\n",
    "            os.system(bane_com)\n",
    "            aegean_com='aegean --telescope=mwa --autoload integrated-stokes-I.fits'+ ' --table integrated-stokes-I_out.fits'\n",
    "            print(aegean_com)\n",
    "            os.system(aegean_com)\n",
    "            print()\n",
    "        else:\n",
    "            print('bane done for ',path,freq)\n",
    "    else:\n",
    "        print('no integrated-stokes-I.fits')"
   ]
  },
  {
   "cell_type": "code",
   "execution_count": null,
   "metadata": {},
   "outputs": [],
   "source": [
    "addimgdir_root='/share/home/blv/MWAdata/qguo_data/G0044/within5deg/addimg'\n",
    "for freq in bands_all:\n",
    "    get_aegean_integrated_table(addimgdir_root,freq)"
   ]
  },
  {
   "cell_type": "code",
   "execution_count": null,
   "metadata": {},
   "outputs": [],
   "source": []
  },
  {
   "cell_type": "code",
   "execution_count": null,
   "metadata": {},
   "outputs": [],
   "source": []
  },
  {
   "cell_type": "code",
   "execution_count": null,
   "metadata": {},
   "outputs": [],
   "source": []
  },
  {
   "cell_type": "code",
   "execution_count": null,
   "metadata": {},
   "outputs": [],
   "source": [
    "def read_integrated(table_path):\n",
    "    table_PKS0736 = Table.read(table_path)\n",
    "        #print(table_PKS0736)\n",
    "    return table_PKS0736"
   ]
  },
  {
   "cell_type": "code",
   "execution_count": null,
   "metadata": {
    "scrolled": true
   },
   "outputs": [],
   "source": [
    "for freq in bands_all:\n",
    "    table_path=os.path.join(addimgdir_root,str(freq),'integrated-stokes-I_out_comp.fits')   \n",
    "    if os.path.exists(table_path):\n",
    "        table_PKS0736=read_integrated(table_path)          \n",
    "        select_PKS0736=table_PKS0736[abs(table_PKS0736['ra']-114.8251408)<0.1]\n",
    "        select_PKS0736=select_PKS0736[abs(select_PKS0736['dec']-1.6179497)<0.1]\n",
    "        if len(select_PKS0736)>0:\n",
    "            flux=select_PKS0736['int_flux'].quantity[0]\n",
    "            flux_err=select_PKS0736['err_int_flux'].quantity[0] \n",
    "            print(freq,flux,flux_err)  "
   ]
  },
  {
   "cell_type": "code",
   "execution_count": null,
   "metadata": {
    "scrolled": true
   },
   "outputs": [],
   "source": [
    "for i in datadirs:\n",
    "    addimgdir_root=os.path.join(datadirs_root,i,'addimg')\n",
    "    for freq in bands_all:\n",
    "        table_path=os.path.join(addimgdir_root,str(freq),'integrated-stokes-I_out_comp.fits')   \n",
    "        if os.path.exists(table_path):\n",
    "            table_PKS0736=read_integrated(table_path)          \n",
    "            select_PKS0736=table_PKS0736[abs(table_PKS0736['ra']-114.8251408)<0.1]\n",
    "            select_PKS0736=select_PKS0736[abs(select_PKS0736['dec']-1.6179497)<0.1]\n",
    "            if len(select_PKS0736)>0:\n",
    "                flux=select_PKS0736['int_flux'].quantity[0]\n",
    "                flux_err=select_PKS0736['err_int_flux'].quantity[0] \n",
    "                print(i,freq,flux,flux_err)     "
   ]
  },
  {
   "cell_type": "code",
   "execution_count": null,
   "metadata": {},
   "outputs": [],
   "source": []
  },
  {
   "cell_type": "code",
   "execution_count": null,
   "metadata": {},
   "outputs": [],
   "source": [
    "table_PKS0736.colnames"
   ]
  },
  {
   "cell_type": "code",
   "execution_count": null,
   "metadata": {},
   "outputs": [],
   "source": [
    "table_PKS0736_More1Jy=table_PKS0736[table_PKS0736['int_flux']>1]"
   ]
  },
  {
   "cell_type": "code",
   "execution_count": null,
   "metadata": {},
   "outputs": [],
   "source": [
    "len(table_PKS0736_More1Jy)"
   ]
  },
  {
   "cell_type": "code",
   "execution_count": null,
   "metadata": {},
   "outputs": [],
   "source": []
  },
  {
   "cell_type": "markdown",
   "metadata": {},
   "source": [
    "## compare model and integrated"
   ]
  },
  {
   "cell_type": "markdown",
   "metadata": {},
   "source": [
    "### def plot_skymodel_cmap"
   ]
  },
  {
   "cell_type": "code",
   "execution_count": null,
   "metadata": {},
   "outputs": [],
   "source": [
    "def plot_skymodel_cmap(skymodeldata,obsid,marker='.'):\n",
    "    c_icrs_skymodeldata=SkyCoord(ra=skymodeldata['ra']*u.deg, dec=skymodeldata['dec']*u.deg, frame='icrs')\n",
    "    #color=skymodeldata['peak_flux']\n",
    "    #size=skymodeldata['peak_flux']\n",
    "    cax=ax.scatter(x='ra',y='dec',s='peak_flux',data=skymodeldata,c='peak_flux',marker=marker,label=obsid,cmap=cm.coolwarm)\n",
    "    ax.set_xlabel('RA')\n",
    "    ax.set_ylabel('DEC')     \n",
    "    return cax"
   ]
  },
  {
   "cell_type": "code",
   "execution_count": null,
   "metadata": {},
   "outputs": [],
   "source": [
    "def plot_table_cmap(table,marker='.'):\n",
    "    c_icrs_skymodeldata=SkyCoord(ra=table['ra']*u.deg, dec=table['dec']*u.deg, frame='icrs')\n",
    "    #color=skymodeldata['peak_flux']\n",
    "    #size=skymodeldata['peak_flux']\n",
    "    cax=ax.scatter(x='ra',y='dec',s='int_flux',data=table,c='int_flux',marker=marker,label=obsid,cmap=cm.coolwarm)\n",
    "    ax.set_xlabel('RA')\n",
    "    ax.set_ylabel('DEC')     \n",
    "    return cax"
   ]
  },
  {
   "cell_type": "code",
   "execution_count": null,
   "metadata": {},
   "outputs": [],
   "source": [
    "fig, ax = plt.subplots()\n",
    "\n",
    "jy_select=0\n",
    "print(len(skymodeldata[skymodeldata['peak_flux']>jy_select]))\n",
    "cax=plot_skymodel_cmap(skymodeldata[skymodeldata['peak_flux']>jy_select],obsid)\n",
    "cbar = fig.colorbar(cax, ticks=[0, 10, 20,30,40,50])\n",
    "#cbar.ax.set_yticklabels(['Low', 'Medium', 'High'])  # vertically oriented colorbar\n",
    "#ax.set_xlim(0,50)\n",
    "ax.plot(114.8251408,1.6179497,marker='*')\n"
   ]
  }
 ],
 "metadata": {
  "celltoolbar": "Initialization Cell",
  "kernelspec": {
   "display_name": "Python 3",
   "language": "python",
   "name": "python3"
  },
  "language_info": {
   "codemirror_mode": {
    "name": "ipython",
    "version": 3
   },
   "file_extension": ".py",
   "mimetype": "text/x-python",
   "name": "python",
   "nbconvert_exporter": "python",
   "pygments_lexer": "ipython3",
   "version": "3.7.3"
  },
  "latex_envs": {
   "LaTeX_envs_menu_present": true,
   "autoclose": false,
   "autocomplete": true,
   "bibliofile": "biblio.bib",
   "cite_by": "apalike",
   "current_citInitial": 1,
   "eqLabelWithNumbers": true,
   "eqNumInitial": 1,
   "hotkeys": {
    "equation": "Ctrl-E",
    "itemize": "Ctrl-I"
   },
   "labels_anchors": false,
   "latex_user_defs": false,
   "report_style_numbering": false,
   "user_envs_cfg": false
  },
  "toc": {
   "base_numbering": 1,
   "nav_menu": {},
   "number_sections": true,
   "sideBar": true,
   "skip_h1_title": false,
   "title_cell": "Table of Contents",
   "title_sidebar": "Contents",
   "toc_cell": false,
   "toc_position": {
    "height": "calc(100% - 180px)",
    "left": "10px",
    "top": "150px",
    "width": "220.75px"
   },
   "toc_section_display": true,
   "toc_window_display": true
  }
 },
 "nbformat": 4,
 "nbformat_minor": 2
}
