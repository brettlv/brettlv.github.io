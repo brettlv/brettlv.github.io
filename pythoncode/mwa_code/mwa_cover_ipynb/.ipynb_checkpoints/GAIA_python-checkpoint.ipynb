{
 "cells": [
  {
   "cell_type": "code",
   "execution_count": 1,
   "metadata": {
    "ExecuteTime": {
     "end_time": "2022-06-14T05:19:05.843442Z",
     "start_time": "2022-06-14T05:19:04.248688Z"
    }
   },
   "outputs": [],
   "source": [
    "from astroquery.gaia import Gaia\n",
    "Gaia.MAIN_GAIA_TABLE = \"gaiaedr3.gaia_source\" # Select early Data Release 3\n",
    "#Gaia.MAIN_GAIA_TABLE = \"gaiadr2.gaia_source\"  # Reselect Data Release 2, default"
   ]
  },
  {
   "cell_type": "code",
   "execution_count": 2,
   "metadata": {
    "ExecuteTime": {
     "end_time": "2022-06-14T05:19:29.500368Z",
     "start_time": "2022-06-14T05:19:21.203973Z"
    }
   },
   "outputs": [
    {
     "name": "stdout",
     "output_type": "stream",
     "text": [
      "INFO: Query finished. [astroquery.utils.tap.core]\n",
      "         dist             solution_id              DESIGNATION          ...      ecl_lon             ecl_lat      \n",
      "                                                                        ...        deg                 deg        \n",
      "--------------------- ------------------- ----------------------------- ... ------------------ -------------------\n",
      "0.0026043272506403484 1636042515805110273 Gaia EDR3 6636090334814214528 ...   276.222852277878 -36.779153025899156\n",
      " 0.003361667853091105 1636042515805110273 Gaia EDR3 6636090339112400000 ... 276.21881789427215  -36.77612063074377\n",
      " 0.003849880182859702 1636042515805110273 Gaia EDR3 6636090339113063296 ... 276.22646233468356 -36.773896878533364\n",
      "                  ...                 ...                           ... ...                ...                 ...\n",
      " 0.019751317240130007 1636042515805110273 Gaia EDR3 6636090407832546944 ... 276.21768023321954  -36.75726114587935\n",
      " 0.019916769172899088 1636042515805110273 Gaia EDR3 6636066940132132352 ... 276.19820139357336  -36.77489201340432\n",
      "  0.01996738804835807 1636042515805110273 Gaia EDR3 6636089514478677504 ... 276.21797418986296  -36.79611144667456\n",
      "  0.02014989324906447 1636042515805110273 Gaia EDR3 6636066871411763968 ...  276.1999107220209   -36.7845886881819\n",
      "Length = 50 rows\n"
     ]
    }
   ],
   "source": [
    "import astropy.units as u\n",
    "from astropy.coordinates import SkyCoord\n",
    "from astroquery.gaia import Gaia\n",
    "\n",
    "coord = SkyCoord(ra=280, dec=-60, unit=(u.degree, u.degree), frame='icrs')\n",
    "width = u.Quantity(0.1, u.deg)\n",
    "height = u.Quantity(0.1, u.deg)\n",
    "r = Gaia.query_object_async(coordinate=coord, width=width, height=height)\n",
    "\n",
    "r.pprint(max_lines=12, max_width=130)"
   ]
  },
  {
   "cell_type": "code",
   "execution_count": null,
   "metadata": {},
   "outputs": [],
   "source": []
  }
 ],
 "metadata": {
  "kernelspec": {
   "display_name": "Python 3",
   "language": "python",
   "name": "python3"
  },
  "language_info": {
   "codemirror_mode": {
    "name": "ipython",
    "version": 3
   },
   "file_extension": ".py",
   "mimetype": "text/x-python",
   "name": "python",
   "nbconvert_exporter": "python",
   "pygments_lexer": "ipython3",
   "version": "3.8.5"
  },
  "latex_envs": {
   "LaTeX_envs_menu_present": true,
   "autocomplete": true,
   "bibliofile": "biblio.bib",
   "cite_by": "apalike",
   "current_citInitial": 1,
   "eqLabelWithNumbers": true,
   "eqNumInitial": 1,
   "hotkeys": {
    "equation": "Ctrl-E",
    "itemize": "Ctrl-I"
   },
   "labels_anchors": false,
   "latex_user_defs": false,
   "report_style_numbering": false,
   "user_envs_cfg": false
  },
  "toc": {
   "nav_menu": {},
   "number_sections": true,
   "sideBar": true,
   "skip_h1_title": false,
   "toc_cell": false,
   "toc_position": {},
   "toc_section_display": "block",
   "toc_window_display": false
  }
 },
 "nbformat": 4,
 "nbformat_minor": 2
}
