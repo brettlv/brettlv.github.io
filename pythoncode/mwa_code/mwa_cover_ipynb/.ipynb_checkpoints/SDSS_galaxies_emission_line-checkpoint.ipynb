{
 "cells": [
  {
   "cell_type": "markdown",
   "metadata": {},
   "source": [
    "# import"
   ]
  },
  {
   "cell_type": "code",
   "execution_count": null,
   "metadata": {
    "ExecuteTime": {
     "end_time": "2022-08-30T15:01:58.981842Z",
     "start_time": "2022-08-30T15:01:57.993526Z"
    }
   },
   "outputs": [],
   "source": [
    "from astropy.io import fits\n",
    "import time\n",
    "#import urllib2# python2\n",
    "import urllib#python3\n",
    "\n",
    "import datetime\n",
    "#from itertools import ifilter python2\n",
    "from collections import Counter, defaultdict\n",
    "import xml.etree.ElementTree as ET\n",
    "import h5py\n",
    "from bs4 import BeautifulSoup\n",
    "import matplotlib.pylab as plt\n",
    "import pandas as pd\n",
    "import numpy as np\n",
    "#import bibtexparser\n",
    "import astropy.coordinates as coord\n",
    "from astropy.coordinates import SkyCoord\n",
    "\n",
    "pd.set_option('mode.chained_assignment','warn')"
   ]
  },
  {
   "cell_type": "code",
   "execution_count": null,
   "metadata": {
    "ExecuteTime": {
     "end_time": "2022-09-02T08:44:36.058326Z",
     "start_time": "2022-09-02T08:44:36.050560Z"
    }
   },
   "outputs": [],
   "source": [
    "from astropy.table import Table\n",
    "from astropy.io import fits\n",
    "from astropy import units as u\n",
    "from astropy import constants "
   ]
  },
  {
   "cell_type": "code",
   "execution_count": null,
   "metadata": {},
   "outputs": [],
   "source": []
  },
  {
   "cell_type": "code",
   "execution_count": null,
   "metadata": {
    "ExecuteTime": {
     "end_time": "2022-08-30T15:01:58.991257Z",
     "start_time": "2022-08-30T15:01:58.982968Z"
    }
   },
   "outputs": [],
   "source": [
    "import matplotlib as mpl\n",
    "import matplotlib.pyplot as plt\n",
    "\n",
    "from pylab import cm\n",
    "\n",
    "import os\n",
    "from collections import OrderedDict\n",
    "from adjustText import adjust_text\n",
    "\n",
    "%matplotlib inline\n",
    "%config InlineBackend.figure_format='svg'\n",
    "# Edit the font, font size, and axes width\n",
    "mpl.rcParams['font.family'] = 'Avenir'\n",
    "plt.rcParams['font.size'] = 18\n",
    "plt.rcParams['axes.linewidth'] = 2"
   ]
  },
  {
   "cell_type": "code",
   "execution_count": null,
   "metadata": {
    "ExecuteTime": {
     "end_time": "2022-08-30T15:01:59.309762Z",
     "start_time": "2022-08-30T15:01:59.300178Z"
    }
   },
   "outputs": [],
   "source": [
    "from adjustText import adjust_text\n",
    "import matplotlib as mpl\n",
    "def set_ax_tick(ax):\n",
    "    ax.xaxis.set_tick_params(which='major', size=10, width=2, direction='in', top='on',)\n",
    "    ax.xaxis.set_tick_params(which='minor', size=5, width=2, direction='in', top='on')\n",
    "    ax.yaxis.set_tick_params(which='major', size=10, width=2, direction='in', right='on')\n",
    "    ax.yaxis.set_tick_params(which='minor', size=5, width=2, direction='in', right='on')\n",
    "\n",
    "def set_ax_locator(ax,xma=1,xmi=0.2,yma=1,ymi=0.2):\n",
    "    ax.xaxis.set_major_locator(mpl.ticker.MultipleLocator(xma))\n",
    "    ax.xaxis.set_minor_locator(mpl.ticker.MultipleLocator(xmi))\n",
    "    ax.yaxis.set_major_locator(mpl.ticker.MultipleLocator(yma))\n",
    "    ax.yaxis.set_minor_locator(mpl.ticker.MultipleLocator(ymi)) "
   ]
  },
  {
   "cell_type": "code",
   "execution_count": null,
   "metadata": {
    "ExecuteTime": {
     "end_time": "2022-08-30T15:01:59.763277Z",
     "start_time": "2022-08-30T15:01:59.758087Z"
    }
   },
   "outputs": [],
   "source": [
    "import pandas as pd\n",
    "import numpy as np\n",
    "import os\n",
    "\n",
    "def get_obsids(path):\n",
    "    dirname=os.listdir(path)\n",
    "    obsids=[]\n",
    "    for i in dirname:\n",
    "        if i.isdigit():\n",
    "            obsids.append(i)\n",
    "    obsids.sort()        \n",
    "    return obsids\n",
    "\n",
    "def drop_index(data):\n",
    "    data=data.reset_index(drop=True)\n",
    "    return data"
   ]
  },
  {
   "cell_type": "code",
   "execution_count": null,
   "metadata": {
    "ExecuteTime": {
     "end_time": "2022-08-30T15:02:00.341973Z",
     "start_time": "2022-08-30T15:02:00.134159Z"
    }
   },
   "outputs": [],
   "source": [
    "from astropy.cosmology import FlatLambdaCDM,Planck13,Planck15,z_at_value\n",
    "from astropy import units as u\n",
    "from astropy.cosmology import LambdaCDM\n",
    "cosmo = LambdaCDM(H0=70, Om0=0.27, Ode0=0.73)\n",
    "#cosmo=FlatLambdaCDM(H0=73,Om0=0.3)"
   ]
  },
  {
   "cell_type": "code",
   "execution_count": null,
   "metadata": {
    "ExecuteTime": {
     "end_time": "2022-08-30T15:02:00.789485Z",
     "start_time": "2022-08-30T15:02:00.535516Z"
    }
   },
   "outputs": [],
   "source": [
    "from astropy.visualization import hist\n",
    "from astroML.datasets import fetch_imaging_sample, fetch_sdss_S82standards\n",
    "from astroML.crossmatch import crossmatch_angular\n",
    "from collections import Counter"
   ]
  },
  {
   "cell_type": "code",
   "execution_count": null,
   "metadata": {
    "ExecuteTime": {
     "end_time": "2022-08-30T15:02:00.933869Z",
     "start_time": "2022-08-30T15:02:00.932227Z"
    }
   },
   "outputs": [],
   "source": [
    "from astropy.table import Table"
   ]
  },
  {
   "cell_type": "markdown",
   "metadata": {},
   "source": [
    "## linerfit"
   ]
  },
  {
   "cell_type": "code",
   "execution_count": null,
   "metadata": {
    "ExecuteTime": {
     "end_time": "2022-08-30T15:02:01.762304Z",
     "start_time": "2022-08-30T15:02:01.758096Z"
    }
   },
   "outputs": [],
   "source": [
    "import numpy as np\n",
    "import matplotlib.pyplot as plt\n",
    "from astropy.stats import sigma_clip\n",
    "from astropy.modeling import models, fitting"
   ]
  },
  {
   "cell_type": "code",
   "execution_count": null,
   "metadata": {
    "ExecuteTime": {
     "end_time": "2022-08-30T15:02:02.555517Z",
     "start_time": "2022-08-30T15:02:02.533117Z"
    }
   },
   "outputs": [],
   "source": [
    "from astropy.modeling.fitting import LevMarLSQFitter\n",
    "from astropy.modeling import models,fitting\n",
    "from astropy.modeling.models import custom_model\n",
    "from scipy.optimize import least_squares,curve_fit\n",
    "from scipy.stats import f\n",
    "import os\n",
    "\n",
    "def linear(x,k,b):#linear\n",
    "    return k*x+b\n",
    "\n",
    "def broken_linear_curve(x,k1,k2,x0,b1,b2):#two lines divided by x0\n",
    "    return np.where(x<x0,k1*x+b1,k2*x+b2)    \n",
    "\n",
    "def broken_linear_curve_dot(x,k1,k2,x0,y0):#connect by x0,y0\n",
    "    return np.where(x<x0,k1*(x-x0)+y0,k2*(x-x0)+y0) \n",
    "\n",
    "def power_law(x,S0,alpha):\n",
    "    return S0*x**alpha\n",
    "\n",
    "\n",
    "\n",
    "def alpha_calc(x,y):\n",
    "    popt,pcov=curve_fit(power_law,x,y,p0=(10,0.5))\n",
    "    S0=popt[0]\n",
    "    alpha=popt[1]\n",
    "    alpha_err=np.sqrt(np.diag(pcov))[1]\n",
    "    return S0,alpha,alpha_err\n",
    "\n",
    "def linear_calc(x,y):#linear_parameter\n",
    "    popt,pcov=curve_fit(linear,x,y,p0=(1,1))\n",
    "    return popt[0],popt[1]\n",
    "\n",
    "def broken_linear_curve_calc(x,y):\n",
    "    param_bounds=([-np.inf,0,-4,-np.inf,-np.inf],[-0,np.inf,-2.5,np.inf,np.inf])\n",
    "    popt,pcov=curve_fit(broken_linear_curve,x,y,p0=(-1.5,1.5,-2.7,2,-1.5),bounds=param_bounds)\n",
    "    k1=popt[0]\n",
    "    k2=popt[1]\n",
    "    x0=popt[2]\n",
    "    b1=popt[3]\n",
    "    b2=popt[4]\n",
    "    return k1,k2,x0,b1,b2\n",
    "\n",
    "def broken_linear_curve_dot_calc(x,y):\n",
    "    param_bounds=([-np.inf,0,-3.5,0],[0,np.inf,-2.5,2])\n",
    "    popt,pcov=curve_fit(broken_linear_curve_dot,x,y,p0=(-1.5,1.5,-2.7,1),bounds=param_bounds)\n",
    "    k1=popt[0]\n",
    "    k2=popt[1]\n",
    "    x0=popt[2]\n",
    "    y0=popt[3]\n",
    "    return k1,k2,x0,y0\n",
    "\n",
    "\n",
    "def decay_e_timescale(t,tau,S0):\n",
    "    logey=-t/tau+S0\n",
    "    return logey\n",
    "#logy=-(x-x[0])/tau+S0\n",
    "\n",
    "def decay_e_timescale_calc(x,y,tau_test=1000,S0_test=1):\n",
    "    logey=np.log(y)\n",
    "    param_bounds=([0,-np.inf],[np.inf,np.inf])\n",
    "    popt,pcov=curve_fit(decay_e_timescale,x,logey,p0=(tau_test,S0_test),bounds=param_bounds)\n",
    "    tau=popt[0]\n",
    "    S0=popt[1]    \n",
    "    return tau,S0\n",
    "\n",
    "\n",
    "def exp_timescale(t,Tr,Tf,tp,S0):\n",
    "    logey=-(np.exp((tp-t)/Tr)+np.exp((t-tp)/Tf))+S0\n",
    "    return logey\n",
    "\n",
    "\n",
    "def exp_timescale_calc(x,y,Tr_test=10000,Tf_test=2000,tp_test=50000,S0_test=1):\n",
    "    logey=np.log(y)\n",
    "    param_bounds=([1,1,45700,-np.inf],[np.inf,np.inf,58300,np.inf])\n",
    "    popt,pcov=curve_fit(exp_timescale,x,logey,p0=(Tr_test,Tf_test,tp_test,S0_test),bounds=param_bounds)\n",
    "    Tr=popt[0]\n",
    "    Tf=popt[1]\n",
    "    tp=popt[2] \n",
    "    S0=popt[3]    \n",
    "    return Tr,Tf,tp,S0\n"
   ]
  },
  {
   "cell_type": "markdown",
   "metadata": {},
   "source": [
    "## def alpha_calc_2freq_2logflux"
   ]
  },
  {
   "cell_type": "code",
   "execution_count": null,
   "metadata": {
    "ExecuteTime": {
     "end_time": "2022-08-30T15:02:03.342731Z",
     "start_time": "2022-08-30T15:02:03.336782Z"
    }
   },
   "outputs": [],
   "source": [
    "def alpha_calc_2freq_2logflux(freq1,freq2,logflux1,logflux2):    \n",
    "    #Get lightcurve values\n",
    "    \n",
    "    alpha= (logflux1-logflux2)/(np.log10(freq2)-np.log10(freq1))\n",
    "    \n",
    "    return alpha"
   ]
  },
  {
   "cell_type": "code",
   "execution_count": null,
   "metadata": {
    "ExecuteTime": {
     "end_time": "2022-08-31T02:49:39.741629Z",
     "start_time": "2022-08-31T02:49:39.729334Z"
    }
   },
   "outputs": [],
   "source": [
    "import sys\n",
    "#!{sys.executable} -m pip install package"
   ]
  },
  {
   "cell_type": "code",
   "execution_count": null,
   "metadata": {
    "ExecuteTime": {
     "end_time": "2022-08-31T02:49:41.919331Z",
     "start_time": "2022-08-31T02:49:41.909421Z"
    }
   },
   "outputs": [],
   "source": [
    "{sys.executable}"
   ]
  },
  {
   "cell_type": "markdown",
   "metadata": {},
   "source": []
  },
  {
   "cell_type": "markdown",
   "metadata": {},
   "source": [
    "# Surveyfits_path\n"
   ]
  },
  {
   "cell_type": "code",
   "execution_count": null,
   "metadata": {
    "ExecuteTime": {
     "end_time": "2022-08-31T05:07:12.802628Z",
     "start_time": "2022-08-31T05:07:12.797416Z"
    }
   },
   "outputs": [],
   "source": [
    "Surveyfits_root='/Volumes/ExtremeSSD/Survey_fits/'"
   ]
  },
  {
   "cell_type": "code",
   "execution_count": null,
   "metadata": {
    "ExecuteTime": {
     "end_time": "2022-08-30T15:02:06.265831Z",
     "start_time": "2022-08-30T15:02:06.260464Z"
    }
   },
   "outputs": [],
   "source": [
    "Surveyfits_path='/Volumes/ExtremeSSD/Survey_fits/Survey_fits/Survey_fits'"
   ]
  },
  {
   "cell_type": "markdown",
   "metadata": {},
   "source": [
    "# 3C 3CRR"
   ]
  },
  {
   "cell_type": "code",
   "execution_count": null,
   "metadata": {
    "ExecuteTime": {
     "end_time": "2022-08-30T15:02:07.301050Z",
     "start_time": "2022-08-30T15:02:07.293007Z"
    }
   },
   "outputs": [],
   "source": [
    "sample_3Cdir='/Volumes/ExtremeSSD/Survey_fits/3CR/3Csample'"
   ]
  },
  {
   "cell_type": "markdown",
   "metadata": {},
   "source": [
    "## 3CR"
   ]
  },
  {
   "cell_type": "code",
   "execution_count": null,
   "metadata": {
    "ExecuteTime": {
     "end_time": "2022-09-01T02:19:22.634956Z",
     "start_time": "2022-09-01T02:19:22.556856Z"
    }
   },
   "outputs": [],
   "source": [
    "p3CR_V=pd.read_excel('%s/3CR.xlsx'%sample_3Cdir,sheet_name='工作表1')\n",
    "\n",
    "p3CR_IV=pd.read_excel('%s/3CR.xlsx'%sample_3Cdir,sheet_name='工作表2')\n",
    "\n",
    "p3CR_III=pd.read_excel('%s/3CR.xlsx'%sample_3Cdir,sheet_name='工作表3')\n",
    "\n",
    "p3CR_II=pd.read_excel('%s/3CR.xlsx'%sample_3Cdir,sheet_name='工作表4')"
   ]
  },
  {
   "cell_type": "markdown",
   "metadata": {},
   "source": [
    "## 3CRR"
   ]
  },
  {
   "cell_type": "code",
   "execution_count": null,
   "metadata": {
    "ExecuteTime": {
     "end_time": "2022-08-30T15:02:07.850678Z",
     "start_time": "2022-08-30T15:02:07.761939Z"
    }
   },
   "outputs": [],
   "source": [
    "p3CRR=pd.read_csv('%s/3CRR_table_ascii.txt'%sample_3Cdir,header=0,delimiter='\\s+')\n",
    "p3CRR_NED=pd.read_csv('%s/3CRR_NED.py'%sample_3Cdir,header=None,delimiter='|')\n",
    "p3CRR_NED.columns=['index','1','Name','*','Ned_name','ra','dec','class','z','z_qual','index0']\n",
    "\n",
    "Coord_p3CRR_NED = SkyCoord(p3CRR_NED['ra'], p3CRR_NED['dec'], frame=\"icrs\",) \n",
    "\n",
    "p3CRR_NED['ra_deg']=Coord_p3CRR_NED.ra.deg\n",
    "p3CRR_NED['dec_deg']=Coord_p3CRR_NED.dec.deg"
   ]
  },
  {
   "cell_type": "code",
   "execution_count": null,
   "metadata": {
    "ExecuteTime": {
     "end_time": "2022-08-30T15:02:08.376853Z",
     "start_time": "2022-08-30T15:02:08.371797Z"
    }
   },
   "outputs": [],
   "source": [
    "p3CRR_NEDX = np.empty((len(p3CRR_NED), 2), dtype=np.float64)\n",
    "p3CRR_NEDX[:, 0] = p3CRR_NED['ra_deg']\n",
    "p3CRR_NEDX[:, 1] = p3CRR_NED['dec_deg']"
   ]
  },
  {
   "cell_type": "code",
   "execution_count": null,
   "metadata": {
    "ExecuteTime": {
     "end_time": "2022-08-30T15:02:09.126982Z",
     "start_time": "2022-08-30T15:02:09.115699Z"
    }
   },
   "outputs": [],
   "source": [
    "p3CRR.columns"
   ]
  },
  {
   "cell_type": "code",
   "execution_count": null,
   "metadata": {
    "ExecuteTime": {
     "end_time": "2022-08-30T15:02:12.478549Z",
     "start_time": "2022-08-30T15:02:12.328489Z"
    }
   },
   "outputs": [],
   "source": [
    "p3CRR_OIII=pd.read_excel('%s/3CRROIIIdata.xlsx'%sample_3Cdir,sheet_name='Sheet1')"
   ]
  },
  {
   "cell_type": "code",
   "execution_count": null,
   "metadata": {
    "ExecuteTime": {
     "end_time": "2022-06-15T03:19:27.868609Z",
     "start_time": "2022-06-15T03:19:27.725744Z"
    }
   },
   "outputs": [],
   "source": [
    "p3CRR_OIII"
   ]
  },
  {
   "cell_type": "code",
   "execution_count": null,
   "metadata": {
    "ExecuteTime": {
     "end_time": "2022-06-15T03:22:39.642511Z",
     "start_time": "2022-06-15T03:22:39.629758Z"
    }
   },
   "outputs": [],
   "source": [
    "p3CRR_OIII.columns"
   ]
  },
  {
   "cell_type": "code",
   "execution_count": null,
   "metadata": {
    "ExecuteTime": {
     "end_time": "2022-06-19T12:49:44.891617Z",
     "start_time": "2022-06-19T12:49:37.136304Z"
    }
   },
   "outputs": [],
   "source": [
    "fig = plt.figure(figsize=(8,8))\n",
    "fig.subplots_adjust(hspace=0.0, wspace = 0.0)\n",
    "ax = fig.add_subplot(111)\n",
    "\n",
    "\n",
    "#ax.hist(BAT_105m_Seyfert_data_1['sigma_m_w1_neo'],bins=50,lw=2,histtype='step',ec='red', fc='red',label='Type1',linestyle='-.')\n",
    "\n",
    "#ax.axvline(np.mean(BAT_105m_Seyfert_data_1['sigma_m_w1_neo']),color='red',ls=':')\n",
    "\n",
    "log_L200=np.linspace(22,32,10)\n",
    "y_log_L200=0.73*log_L200+16.6\n",
    "ax.plot(log_L200,y_log_L200,ls=':',color='grey',linewidth=2)\n",
    "ax.plot(log_L200,y_log_L200-1,ls=':',color='grey',linewidth=2)\n",
    "ax.plot(log_L200,y_log_L200+1,ls=':',color='grey',linewidth=2)\n",
    "delta_yLOIII=1.0\n",
    "\n",
    "#p3CR\n",
    "plotdata=p3CRR_OIII\n",
    "column_x=4\n",
    "column_y=5\n",
    "column_label=1\n",
    "\n",
    "print(plotdata.columns[column_x],plotdata.columns[column_y])\n",
    "for i in range(len(plotdata)):\n",
    "    name_class=plotdata.loc[i,plotdata.columns[column_label]] \n",
    "    \n",
    "    if isinstance(plotdata[plotdata.columns[column_x]][i],(int,float)) and isinstance(plotdata[plotdata.columns[column_y]][i],(int,float)):\n",
    "        ax.scatter(plotdata[plotdata.columns[column_x]][i],\n",
    "                   plotdata[plotdata.columns[column_y]][i],\n",
    "                   color='black',marker='.',label=name_class.strip())\n",
    "        \n",
    "        if plotdata[plotdata.columns[column_x]][i]*0.73+16.6-plotdata[plotdata.columns[column_y]][i]>delta_yLOIII:\n",
    "            print(plotdata['Name'][i])\n",
    "'''            ax.text(\n",
    "                    plotdata[plotdata.columns[column_x]][i],\n",
    "                    plotdata[plotdata.columns[column_y]][i],\n",
    "                    plotdata['Name'][i],\n",
    "            \n",
    "            )'''\n",
    "\n",
    "#set_ax_locator(ax,xma=0.2,xmi=0.1,yma=10,ymi=5)\n",
    "set_ax_tick(ax)\n",
    "\n",
    "#ax.set_xlabel('Type')\n",
    "#ax2.set_xlabel('Type')\n",
    "ax.set_xlabel(r'log$ L_\\mathrm{ 151MHz}$')\n",
    "ax.set_ylabel(r'log$L_\\mathrm{OIII}$')\n",
    "\n",
    "ax.xaxis.set_tick_params(which='major', size=10, width=2, rotation=45,)\n",
    "handles, labels = ax.get_legend_handles_labels()\n",
    "# remove the errorbars\n",
    "\n",
    "#hdl = [h[0] for h in handles]\n",
    "hdl=handles\n",
    "labels_dict=dict(zip(labels, hdl)) #key,values\n",
    "by_label=OrderedDict(sorted(labels_dict.items(),key=lambda t:t[0]))\n",
    "\n",
    "ax.legend(by_label.values(), by_label.keys(), bbox_to_anchor=(0.01, 0.99),\n",
    "          loc=2, numpoints=1,ncol=1,fontsize=11.)\n",
    "\n",
    "# use them in the legend\n",
    "#by_label = OrderedDict(zip(labels, handles)) \n",
    "#ax.legend(by_label.values(), by_label.keys(), bbox_to_anchor=(0.0, 0.9),loc=2, numpoints=1, fontsize=11. )\n",
    "\n",
    "\n",
    "#ax.semilogy()\n",
    "#ax.semilogx()\n",
    "\n",
    "#ax.set_xlim(0.0,0.6)\n",
    "#plt.legend()\n",
    "fig.savefig('3CRR_cat_LOIII_Lradio.png', dpi=100, transparent=False, bbox_inches='tight')\n"
   ]
  },
  {
   "cell_type": "markdown",
   "metadata": {},
   "source": [
    "## p3CRR_withdistance"
   ]
  },
  {
   "cell_type": "code",
   "execution_count": null,
   "metadata": {
    "ExecuteTime": {
     "end_time": "2022-08-30T15:02:26.011891Z",
     "start_time": "2022-08-30T15:02:26.002067Z"
    }
   },
   "outputs": [],
   "source": [
    "p3CRR_distance=p3CRR[p3CRR['5-GHz_core_flux'].str.contains('<')==False]\n",
    "p3CRR_distance=p3CRR_distance[p3CRR_distance['5-GHz_core_flux'].str.contains('--')==False]\n",
    "p3CRR_distance=drop_index(p3CRR_distance)"
   ]
  },
  {
   "cell_type": "code",
   "execution_count": null,
   "metadata": {
    "ExecuteTime": {
     "end_time": "2022-08-30T15:02:26.589018Z",
     "start_time": "2022-08-30T15:02:26.583209Z"
    }
   },
   "outputs": [],
   "source": [
    "len(p3CRR_distance),len(p3CRR)"
   ]
  },
  {
   "cell_type": "code",
   "execution_count": null,
   "metadata": {
    "ExecuteTime": {
     "end_time": "2022-08-30T15:02:40.943882Z",
     "start_time": "2022-08-30T15:02:40.917916Z"
    }
   },
   "outputs": [],
   "source": [
    "for i in range(len(p3CRR_distance)):\n",
    "     p3CRR_distance.loc[i,'5GHz_flux_Jy']=float(p3CRR_distance.loc[i,'5-GHz_core_flux'])*1.0e-3\n",
    "        \n",
    "p3CRR_distance['D_cm']=cosmo.luminosity_distance(z=p3CRR_distance['Redshift'].values).to(u.cm).value\n",
    "p3CRR_distance['L178MHz']=p3CRR_distance['178-MHz_flux']*4*np.pi*p3CRR_distance['D_cm']**2*1.0e-23\n",
    "p3CRR_distance['logL178MHz']=np.log10(p3CRR_distance['L178MHz'])\n",
    "\n",
    "p3CRR_distance['L5GHz']=p3CRR_distance['5GHz_flux_Jy']*4*np.pi*p3CRR_distance['D_cm']**2*1.0e-23\n",
    "p3CRR_distance['logL5GHz']=np.log10(p3CRR_distance['L5GHz'])\n",
    "\n",
    "        "
   ]
  },
  {
   "cell_type": "code",
   "execution_count": null,
   "metadata": {
    "ExecuteTime": {
     "end_time": "2022-06-19T13:21:01.669712Z",
     "start_time": "2022-06-19T13:21:01.664511Z"
    }
   },
   "outputs": [],
   "source": [
    "p3CRR_distance.columns"
   ]
  },
  {
   "cell_type": "code",
   "execution_count": null,
   "metadata": {
    "ExecuteTime": {
     "end_time": "2022-08-30T15:02:44.358383Z",
     "start_time": "2022-08-30T15:02:44.332960Z"
    }
   },
   "outputs": [],
   "source": [
    "for i in range(len(p3CRR_distance)):\n",
    "    freq1=5e9\n",
    "    freq2=178e6\n",
    "    logflux1=p3CRR_distance.loc[i,'logL5GHz']\n",
    "    logflux2=p3CRR_distance.loc[i,'logL178MHz']\n",
    "    \n",
    "    p3CRR_distance.loc[i,'alpha']=alpha_calc_2freq_2logflux(freq1,freq2,logflux1,logflux2)"
   ]
  },
  {
   "cell_type": "code",
   "execution_count": null,
   "metadata": {
    "ExecuteTime": {
     "end_time": "2022-06-19T13:04:17.490993Z",
     "start_time": "2022-06-19T13:04:17.483809Z"
    }
   },
   "outputs": [],
   "source": [
    "p3CRR_distance.columns"
   ]
  },
  {
   "cell_type": "markdown",
   "metadata": {},
   "source": [
    "## alpha_vs_spectral_index"
   ]
  },
  {
   "cell_type": "code",
   "execution_count": null,
   "metadata": {
    "ExecuteTime": {
     "end_time": "2022-08-31T03:17:00.645272Z",
     "start_time": "2022-08-31T03:17:00.423695Z"
    }
   },
   "outputs": [],
   "source": [
    "fig = plt.figure(figsize=(6,6))\n",
    "fig.subplots_adjust(hspace=0.0, wspace = 0.0)\n",
    "ax = fig.add_subplot(111)\n",
    "\n",
    "#ax.hist(BAT_105m_Seyfert_data_1['sigma_m_w1_neo'],bins=50,lw=2,histtype='step',ec='red', fc='red',label='Type1',linestyle='-.')\n",
    "\n",
    "#ax.axvline(np.mean(BAT_105m_Seyfert_data_1['sigma_m_w1_neo']),color='red',ls=':')\n",
    "\n",
    "#p3CR\n",
    "plotdata=p3CRR_distance\n",
    "column_x=4\n",
    "column_y=14\n",
    "print(plotdata.columns[column_x],plotdata.columns[column_y])\n",
    "for i in range(len(plotdata)):\n",
    "    if isinstance(plotdata[plotdata.columns[column_x]][i],float) and isinstance(plotdata[plotdata.columns[column_y]][i],float):\n",
    "        ax.scatter(plotdata[plotdata.columns[column_x]][i],\n",
    "                   plotdata[plotdata.columns[column_y]][i],\n",
    "                   color='black',marker='*',label='3CRR')\n",
    "        \n",
    "set_ax_tick(ax)\n",
    "ax.set_xlim(0.1,2.9)\n",
    "ax.plot(np.linspace(0.1,3.1,10),np.linspace(0,3,10),ls=':')\n",
    "#ax.set_xlabel('Type')\n",
    "#ax2.set_xlabel('Type')\n",
    "ax.set_ylabel(r'$\\alpha_{178MHz-5GHz}$')\n",
    "ax.set_xlabel(r'$\\alpha_{178MHz-750MHz}$')\n",
    "\n",
    "\n",
    "ax.xaxis.set_tick_params(which='major', size=10, width=2, rotation=45,)\n",
    "handles, labels = ax.get_legend_handles_labels()\n",
    "# remove the errorbars\n",
    "#hdl = [h[0] for h in handles]\n",
    "hdl = handles\n",
    "labels_dict=dict(zip(labels, hdl)) #key,values\n",
    "by_label=OrderedDict(sorted(labels_dict.items(),key=lambda t:t[0]))\n",
    "\n",
    "ax.legend(by_label.values(), by_label.keys(), bbox_to_anchor=(0.01, 0.99),\n",
    "          loc=2, numpoints=1,ncol=1,fontsize=11.)        \n",
    "        "
   ]
  },
  {
   "cell_type": "code",
   "execution_count": null,
   "metadata": {
    "ExecuteTime": {
     "end_time": "2022-06-19T13:24:58.973130Z",
     "start_time": "2022-06-19T13:24:58.968163Z"
    }
   },
   "outputs": [],
   "source": [
    "np.mean(p3CRR_distance['Sp.index']),np.std(p3CRR_distance['Sp.index'])"
   ]
  },
  {
   "cell_type": "code",
   "execution_count": null,
   "metadata": {
    "ExecuteTime": {
     "end_time": "2022-06-19T13:25:15.788184Z",
     "start_time": "2022-06-19T13:25:15.783054Z"
    }
   },
   "outputs": [],
   "source": [
    "np.mean(p3CRR_distance['alpha']),np.std(p3CRR_distance['alpha'])"
   ]
  },
  {
   "cell_type": "code",
   "execution_count": null,
   "metadata": {},
   "outputs": [],
   "source": []
  },
  {
   "cell_type": "markdown",
   "metadata": {},
   "source": [
    "## clip"
   ]
  },
  {
   "cell_type": "code",
   "execution_count": null,
   "metadata": {
    "ExecuteTime": {
     "end_time": "2022-06-15T03:37:43.842632Z",
     "start_time": "2022-06-15T03:37:43.831535Z"
    }
   },
   "outputs": [],
   "source": [
    "p3CRR_OIII.columns"
   ]
  },
  {
   "cell_type": "code",
   "execution_count": null,
   "metadata": {
    "ExecuteTime": {
     "end_time": "2022-08-30T15:04:30.931883Z",
     "start_time": "2022-08-30T15:04:30.904869Z"
    }
   },
   "outputs": [],
   "source": [
    "p3CRR_OIII['select']=0\n",
    "for index, i in enumerate(p3CRR_OIII['L_[OIII]']):\n",
    "    if isinstance(p3CRR_OIII['L_[OIII]'][index],(int,float)) and isinstance(p3CRR_OIII['L_151'][index],(int,float)):\n",
    "        p3CRR_OIII.loc[index,'select']=1                "
   ]
  },
  {
   "cell_type": "markdown",
   "metadata": {
    "ExecuteTime": {
     "end_time": "2022-06-15T03:47:04.989315Z",
     "start_time": "2022-06-15T03:47:04.949181Z"
    }
   },
   "source": [
    "p3CRR_OIII_float=p3CRR_OIII.select_dtypes(include='number')"
   ]
  },
  {
   "cell_type": "code",
   "execution_count": null,
   "metadata": {
    "ExecuteTime": {
     "end_time": "2022-06-15T03:50:40.882717Z",
     "start_time": "2022-06-15T03:50:40.847716Z"
    }
   },
   "outputs": [],
   "source": [
    "p3CRR_OIII"
   ]
  },
  {
   "cell_type": "code",
   "execution_count": null,
   "metadata": {},
   "outputs": [],
   "source": []
  },
  {
   "cell_type": "code",
   "execution_count": null,
   "metadata": {
    "ExecuteTime": {
     "end_time": "2022-08-30T15:04:49.779476Z",
     "start_time": "2022-08-30T15:04:49.772239Z"
    },
    "scrolled": true
   },
   "outputs": [],
   "source": [
    "p3CRR_OIII_float=p3CRR_OIII[p3CRR_OIII['select']==1]\n",
    "#p3CRR_OIII_float=p3CRR_OIII_float[p3CRR_OIII_float['L_[OIII]'].str.contains('<')==False]\n",
    "#p3CRR_OIII_float=p3CRR_OIII_float[p3CRR_OIII_float['L_151'].str.contains('<')==False]\n",
    "#p3CRR_OIII_float=p3CRR_OIII_float[p3CRR_OIII_float['L_151'].str.contains('>')==False]\n",
    "p3CRR_OIII_float=drop_index(p3CRR_OIII_float)"
   ]
  },
  {
   "cell_type": "code",
   "execution_count": null,
   "metadata": {
    "ExecuteTime": {
     "end_time": "2022-08-30T15:04:50.331513Z",
     "start_time": "2022-08-30T15:04:50.324481Z"
    }
   },
   "outputs": [],
   "source": [
    "len(p3CRR_OIII_float),len(p3CRR_OIII)"
   ]
  },
  {
   "cell_type": "code",
   "execution_count": null,
   "metadata": {
    "ExecuteTime": {
     "end_time": "2022-08-30T15:04:53.090843Z",
     "start_time": "2022-08-30T15:04:53.083358Z"
    }
   },
   "outputs": [],
   "source": [
    "p3CRR_OIII_float['L_151'].dtype"
   ]
  },
  {
   "cell_type": "markdown",
   "metadata": {
    "ExecuteTime": {
     "end_time": "2022-06-15T04:00:13.504643Z",
     "start_time": "2022-06-15T04:00:13.481941Z"
    }
   },
   "source": [
    "p3CRR_OIII_float['L_[OIII]'].astype(float)"
   ]
  },
  {
   "cell_type": "code",
   "execution_count": null,
   "metadata": {
    "ExecuteTime": {
     "end_time": "2022-06-15T04:12:18.348058Z",
     "start_time": "2022-06-15T04:12:18.343116Z"
    }
   },
   "outputs": [],
   "source": []
  },
  {
   "cell_type": "code",
   "execution_count": null,
   "metadata": {
    "ExecuteTime": {
     "end_time": "2022-08-30T15:05:00.011992Z",
     "start_time": "2022-08-30T15:04:59.992540Z"
    }
   },
   "outputs": [],
   "source": [
    "dataplot=p3CRR_OIII_float\n",
    "\n",
    "x=np.array(dataplot['L_151']).astype(float)\n",
    "y=np.array(dataplot['L_[OIII]']).astype(float)\n",
    "#x= np.log10(dataplot['L200MHz']) #log\n",
    "#y= np.log10(dataplot['oiii_5007_Lum'])#log\n",
    "#xerr= dataplot['L200MHz_err']/np.log(10)/x\n",
    "#yerr= dataplot['oiii_5007_Lum_err']/np.log(10)/y\n",
    "\n",
    "weights=np.zeros(len(x))+1\n",
    "\n",
    "#xerr\n",
    "\n",
    "# initialize a linear fitter\n",
    "fit = fitting.LinearLSQFitter()\n",
    "\n",
    "# initialize the outlier removal fitter\n",
    "or_fit = fitting.FittingWithOutlierRemoval(fit, sigma_clip, niter=3, sigma=2.0)\n",
    "\n",
    "# initialize a linear model\n",
    "line_init = models.Linear1D()\n",
    "\n",
    "# fit the data with the fitter\n",
    "fitted_line, mask = or_fit(line_init, x, y, weights=1.0/weights)\n",
    "filtered_data = np.ma.masked_array(y, mask=mask)\n",
    "\n",
    "print(fitted_line)"
   ]
  },
  {
   "cell_type": "code",
   "execution_count": null,
   "metadata": {
    "ExecuteTime": {
     "end_time": "2022-08-30T15:05:01.428364Z",
     "start_time": "2022-08-30T15:05:01.420620Z"
    }
   },
   "outputs": [],
   "source": [
    "fitted_line.slope.value,fitted_line.intercept.value"
   ]
  },
  {
   "cell_type": "code",
   "execution_count": null,
   "metadata": {
    "ExecuteTime": {
     "end_time": "2022-08-30T15:05:03.502551Z",
     "start_time": "2022-08-30T15:05:03.494555Z"
    }
   },
   "outputs": [],
   "source": [
    "len(mask),len(x),np.sum(mask)"
   ]
  },
  {
   "cell_type": "code",
   "execution_count": null,
   "metadata": {
    "ExecuteTime": {
     "end_time": "2022-08-30T15:05:16.482217Z",
     "start_time": "2022-08-30T15:05:16.276024Z"
    }
   },
   "outputs": [],
   "source": [
    "fig = plt.figure(figsize=(6,6))\n",
    "fig.subplots_adjust(hspace=0.0, wspace = 0.0)\n",
    "ax = fig.add_subplot(111)\n",
    "\n",
    "log_L200=np.linspace(22,32,10)\n",
    "y_log_L200=0.73*log_L200+16.6\n",
    "\n",
    "\n",
    "sigma=2.0\n",
    "\n",
    "ax.plot(log_L200,y_log_L200,ls=':',color='grey',linewidth=2,label=r'Fit $\\pm$ 1 dex')\n",
    "ax.plot(log_L200,y_log_L200-1,ls=':',color='grey',linewidth=2)\n",
    "ax.plot(log_L200,y_log_L200+1,ls=':',color='grey',linewidth=2)\n",
    "\n",
    "ax.errorbar(x, y, \n",
    "            #xerr=xerr, yerr=yerr, \n",
    "            markersize=10,\n",
    "            fmt=\"k.\", fillstyle=\"none\", label=r\"Clipped Data %.1f $\\sigma$\"%sigma)\n",
    "\n",
    "ax.errorbar(x, filtered_data, markersize=3,\n",
    "            fmt=\"ko\", label=\"Fitted Data\")\n",
    "\n",
    "#plt.plot(x, line_orig(x), 'b-', label='Simulation Model')\n",
    "ax.plot(log_L200, fitted_line(log_L200), color='red',ls='-', linewidth=2,label='Fitted Model')\n",
    "#plt.xlim(-2,12)\n",
    "#plt.ylim(-5,25)\n",
    "\n",
    "set_ax_tick(ax)\n",
    "#set_ax_locator(ax)\n",
    "\n",
    "#ax.set_xlabel(r'$L_{5GHz}$ ($\\mathrm{erg s^{-1} Hz^{-1}}$)')\n",
    "#ax.set_ylabel(r'$L_{178MHz}$ ($\\mathrm{erg s^{-1} Hz^{-1} } $)')\n",
    "ax.set_xlabel(r'log $L_{151MHz}$ ($\\mathrm{erg s^{-1} Hz^{-1}}$)')\n",
    "ax.set_ylabel(r'log $L_{OIII}$ ($\\mathrm{erg s^{-1}}$)')\n",
    "\n",
    "\n",
    "ax.xaxis.set_tick_params(which='major', size=10, width=2, rotation=45,)\n",
    "handles, labels = ax.get_legend_handles_labels()\n",
    "# remove the errorbars\n",
    "#hdl = [h[0] for h in handles]\n",
    "hdl = handles\n",
    "labels_dict=dict(zip(labels, hdl)) #key,values\n",
    "by_label=OrderedDict(sorted(labels_dict.items(),key=lambda t:t[0]))\n",
    "\n",
    "#ax.set_title('Plate = %(plate)i, MJD = %(mjd)i, Fiber = %(fiber)i' % locals())\n",
    "ax.set_title('3CRR')\n",
    "\n",
    "#ax.legend(by_label.values(), by_label.keys(), bbox_to_anchor=(0.01, 0.99),loc=2, numpoints=1,ncol=1,fontsize=11.)\n",
    "plt.legend(fontsize=11.)\n",
    "#plt.show()\n",
    "fig.savefig('3CRR_cat_LOIII_Lradio_clip_%s_sigma.png'%sigma, dpi=100, transparent=False, bbox_inches='tight')\n",
    "#plt.savefig('L200MHz_LOIII_TGSS_SDSS.png',dpi=400, transparent=False, bbox_inches='tight')\n"
   ]
  },
  {
   "cell_type": "markdown",
   "metadata": {},
   "source": [
    "## select fading"
   ]
  },
  {
   "cell_type": "code",
   "execution_count": null,
   "metadata": {
    "ExecuteTime": {
     "end_time": "2022-08-30T15:06:42.028361Z",
     "start_time": "2022-08-30T15:06:41.773666Z"
    }
   },
   "outputs": [],
   "source": [
    "fig = plt.figure(figsize=(8,8))\n",
    "fig.subplots_adjust(hspace=0.0, wspace = 0.0)\n",
    "ax = fig.add_subplot(111)\n",
    "\n",
    "log_L200=np.linspace(22,29,10)\n",
    "y_log_L200=0.73*log_L200+16.6\n",
    "\n",
    "ax.errorbar(x, filtered_data, markersize=3,\n",
    "            fmt=\"ko\", label=\"Fitted Data\")\n",
    "\n",
    "for index, (name,x_,y_,mask_) in enumerate(zip(p3CRR_OIII_float['Name'].values,x,y,mask)):\n",
    "    if mask_:\n",
    "        if x_*fitted_line.slope.value+fitted_line.intercept.value>y_:\n",
    "            print(index,name,'Fading')\n",
    "            p3CRR_selectFading=p3CRR_distance[p3CRR_distance['3CRR_name']==name]           \n",
    "            \n",
    "            if len(p3CRR_selectFading)>0:\n",
    "                #p3CRR_selectFading=drop_index(p3CRR_selectFading)\n",
    "                #print(p3CRR_selectFading.loc[0,'alpha'],p3CRR_selectFading.loc[0,'Sp.index'])\n",
    "                print()\n",
    "            \n",
    "            ax.errorbar(x_, y_, \n",
    "            #xerr=xerr, yerr=yerr, \n",
    "            markersize=10,\n",
    "            fmt=\"k.\", fillstyle=\"none\", label=r\"Fading 2 $\\sigma$\")\n",
    "\n",
    "        else:\n",
    "            #print(name,'Rasing')\n",
    "            ax.errorbar(x_, y_, \n",
    "            #xerr=xerr, yerr=yerr, \n",
    "            markersize=10,\n",
    "            fmt=\"k*\", fillstyle=\"none\", label=r\"Rasing 2 $\\sigma$\")            \n",
    "            \n",
    "#plt.plot(x, line_orig(x), 'b-', label='Simulation Model')\n",
    "ax.plot(log_L200, fitted_line(log_L200), color='red',ls='-', linewidth=2,label='Fitted Model')\n",
    "#plt.xlim(-2,12)\n",
    "#plt.ylim(-5,25)\n",
    "\n",
    "set_ax_tick(ax)\n",
    "#set_ax_locator(ax)\n",
    "\n",
    "#ax.set_xlabel(r'$L_{5GHz}$ ($\\mathrm{erg s^{-1} Hz^{-1}}$)')\n",
    "#ax.set_ylabel(r'$L_{178MHz}$ ($\\mathrm{erg s^{-1} Hz^{-1} } $)')\n",
    "ax.set_xlabel(r'log $L_{151MHz}$ ($\\mathrm{erg s^{-1} Hz^{-1}}$)')\n",
    "ax.set_ylabel(r'log $L_{OIII}$ ($\\mathrm{erg s^{-1}}$)')\n",
    "\n",
    "\n",
    "ax.xaxis.set_tick_params(which='major', size=10, width=2, rotation=45,)\n",
    "handles, labels = ax.get_legend_handles_labels()\n",
    "# remove the errorbars\n",
    "#hdl = [h[0] for h in handles]\n",
    "hdl = handles\n",
    "labels_dict=dict(zip(labels, hdl)) #key,values\n",
    "by_label=OrderedDict(sorted(labels_dict.items(),key=lambda t:t[0]))\n",
    "\n",
    "#ax.set_title('Plate = %(plate)i, MJD = %(mjd)i, Fiber = %(fiber)i' % locals())\n",
    "ax.set_title('3CRR')\n",
    "\n",
    "ax.legend(by_label.values(), by_label.keys(), bbox_to_anchor=(0.01, 0.99),loc=2, numpoints=1,ncol=1,fontsize=11.)\n",
    "#plt.legend(fontsize=11.)\n",
    "#plt.show()\n",
    "fig.savefig('3CRR_cat_LOIII_Lradio_clip_%s_sigma_fading.png'%sigma, dpi=100, transparent=False, bbox_inches='tight')\n",
    "#plt.savefig('L200MHz_LOIII_TGSS_SDSS.png',dpi=400, transparent=False, bbox_inches='tight')\n",
    "            "
   ]
  },
  {
   "cell_type": "code",
   "execution_count": null,
   "metadata": {},
   "outputs": [],
   "source": []
  },
  {
   "cell_type": "code",
   "execution_count": null,
   "metadata": {},
   "outputs": [],
   "source": []
  },
  {
   "cell_type": "code",
   "execution_count": null,
   "metadata": {},
   "outputs": [],
   "source": []
  },
  {
   "cell_type": "markdown",
   "metadata": {},
   "source": [
    "# SDSS_RG_18286"
   ]
  },
  {
   "cell_type": "code",
   "execution_count": null,
   "metadata": {
    "ExecuteTime": {
     "end_time": "2022-08-30T15:09:46.165383Z",
     "start_time": "2022-08-30T15:09:45.987200Z"
    }
   },
   "outputs": [],
   "source": [
    "SDSS_RG_dir='/Volumes/ExtremeSSD/Survey_fits/Survey_fits/Survey_fits/AGN/On the fundamental dichotomy in the local radio-AGN population accretion, evolution and host galaxy properties. (2012)/Properties of 18286 SDSS radio galaxies/J_MNRAS_421_1569/'\n",
    "SDSS_RG_18286=Table.read('%s/table1.dat'%SDSS_RG_dir,readme='%s/ReadMe'%SDSS_RG_dir,format='ascii.cds')\n",
    "\n",
    "SDSS_RG_18286['RAdeg'] = SDSS_RG_18286['RAhour']*15.0\n",
    "\n",
    "\n"
   ]
  },
  {
   "cell_type": "code",
   "execution_count": null,
   "metadata": {
    "ExecuteTime": {
     "end_time": "2022-08-31T04:59:06.676923Z",
     "start_time": "2022-08-31T04:59:06.669048Z"
    }
   },
   "outputs": [],
   "source": [
    "SDSS_RG_18286.colnames"
   ]
  },
  {
   "cell_type": "markdown",
   "metadata": {},
   "source": [
    "## SDSS_RG_18286_specid"
   ]
  },
  {
   "cell_type": "code",
   "execution_count": null,
   "metadata": {
    "ExecuteTime": {
     "end_time": "2022-08-30T15:09:50.739140Z",
     "start_time": "2022-08-30T15:09:50.733754Z"
    }
   },
   "outputs": [],
   "source": [
    "SDSS_RG_18286_specid_path='/Volumes/ExtremeSSD/Survey_fits/MyTable_Radiogalaxies_brettlv.csv'"
   ]
  },
  {
   "cell_type": "code",
   "execution_count": null,
   "metadata": {
    "ExecuteTime": {
     "end_time": "2022-08-30T15:09:51.462420Z",
     "start_time": "2022-08-30T15:09:51.429096Z"
    }
   },
   "outputs": [],
   "source": [
    "SDSS_RG_18286_specid=pd.read_csv(SDSS_RG_18286_specid_path,header=0)"
   ]
  },
  {
   "cell_type": "code",
   "execution_count": null,
   "metadata": {
    "ExecuteTime": {
     "end_time": "2022-08-31T05:00:50.898703Z",
     "start_time": "2022-08-31T05:00:50.886388Z"
    }
   },
   "outputs": [],
   "source": [
    "SDSS_RG_18286_specid"
   ]
  },
  {
   "cell_type": "markdown",
   "metadata": {
    "ExecuteTime": {
     "end_time": "2022-06-11T08:17:53.300705Z",
     "start_time": "2022-06-11T08:17:53.136305Z"
    }
   },
   "source": [
    "for index,specid in enumerate(SDSS_RG_18286_specid['specobjid']):\n",
    "    if specid in SDSS_galaxies_emission_line['specObjId']:\n",
    "        print(index,specid)"
   ]
  },
  {
   "cell_type": "code",
   "execution_count": null,
   "metadata": {},
   "outputs": [],
   "source": []
  },
  {
   "cell_type": "markdown",
   "metadata": {},
   "source": [
    "# SDSS_galaxies_emission_line"
   ]
  },
  {
   "cell_type": "code",
   "execution_count": null,
   "metadata": {
    "ExecuteTime": {
     "end_time": "2022-09-15T06:10:56.033919Z",
     "start_time": "2022-09-15T06:10:56.027872Z"
    }
   },
   "outputs": [],
   "source": [
    "SDSS_galaxies_emission_line_path='/Volumes/ExtremeSSD/Survey_fits/MyTable_galaxies_emission_line.csv'"
   ]
  },
  {
   "cell_type": "code",
   "execution_count": null,
   "metadata": {
    "ExecuteTime": {
     "end_time": "2022-09-15T06:10:56.740004Z",
     "start_time": "2022-09-15T06:10:56.400844Z"
    }
   },
   "outputs": [],
   "source": [
    "SDSS_galaxies_emission_line=pd.read_csv(SDSS_galaxies_emission_line_path,header=0)\n",
    "SDSS_galaxies_array=SDSS_galaxies_emission_line.to_records()"
   ]
  },
  {
   "cell_type": "code",
   "execution_count": null,
   "metadata": {
    "ExecuteTime": {
     "end_time": "2022-06-12T08:30:36.355345Z",
     "start_time": "2022-06-12T08:30:36.349312Z"
    }
   },
   "outputs": [],
   "source": [
    "len(SDSS_galaxies_emission_line)"
   ]
  },
  {
   "cell_type": "code",
   "execution_count": null,
   "metadata": {
    "ExecuteTime": {
     "end_time": "2022-06-11T07:59:19.642192Z",
     "start_time": "2022-06-11T07:59:19.628214Z"
    }
   },
   "outputs": [],
   "source": [
    "SDSS_galaxies_emission_line[:1]"
   ]
  },
  {
   "cell_type": "code",
   "execution_count": null,
   "metadata": {
    "ExecuteTime": {
     "end_time": "2022-08-31T05:00:13.832935Z",
     "start_time": "2022-08-31T05:00:13.825202Z"
    }
   },
   "outputs": [],
   "source": [
    "SDSS_galaxies_emission_line.columns"
   ]
  },
  {
   "cell_type": "code",
   "execution_count": null,
   "metadata": {
    "ExecuteTime": {
     "end_time": "2022-06-12T08:30:40.525125Z",
     "start_time": "2022-06-12T08:30:40.520004Z"
    }
   },
   "outputs": [],
   "source": [
    "SDSS_galaxies_array.dtype.names"
   ]
  },
  {
   "cell_type": "code",
   "execution_count": null,
   "metadata": {},
   "outputs": [],
   "source": [
    "00 20 50.6707266504  +27 44 40.212376512"
   ]
  },
  {
   "cell_type": "markdown",
   "metadata": {},
   "source": [
    "# SDSS J135445.66+002050.2"
   ]
  },
  {
   "cell_type": "code",
   "execution_count": null,
   "metadata": {
    "ExecuteTime": {
     "end_time": "2022-06-13T06:57:07.614576Z",
     "start_time": "2022-06-13T06:57:07.407331Z"
    }
   },
   "outputs": [],
   "source": [
    "SkyCoord(ra='00h20m50.6707266504s', dec='+27d44m40.212376512s', frame=\"icrs\",) "
   ]
  },
  {
   "cell_type": "markdown",
   "metadata": {},
   "source": [
    "## Unit"
   ]
  },
  {
   "cell_type": "markdown",
   "metadata": {},
   "source": [
    "1e-17 erg/s/cm^2"
   ]
  },
  {
   "cell_type": "code",
   "execution_count": null,
   "metadata": {
    "ExecuteTime": {
     "end_time": "2022-06-11T07:54:57.089526Z",
     "start_time": "2022-06-11T07:54:57.086459Z"
    }
   },
   "outputs": [],
   "source": [
    "dataplot=SDSS_galaxies_emission_line[:100]"
   ]
  },
  {
   "cell_type": "code",
   "execution_count": null,
   "metadata": {
    "ExecuteTime": {
     "end_time": "2022-06-11T07:54:58.358369Z",
     "start_time": "2022-06-11T07:54:57.643861Z"
    }
   },
   "outputs": [],
   "source": [
    "fig = plt.figure(figsize=(8,8))\n",
    "fig.subplots_adjust(hspace=0.0, wspace = 0.0)\n",
    "ax = fig.add_subplot(111)\n",
    "\n",
    "\n",
    "ax.errorbar(dataplot['h_alpha_flux'],dataplot['h_beta_flux'],\n",
    "            xerr=dataplot['h_alpha_flux_err'],\n",
    "            yerr=dataplot['h_beta_flux_err'],\n",
    "             fmt=\"ko\", fillstyle=\"none\",\n",
    "            )\n",
    "ax.semilogx()\n",
    "ax.semilogy()\n",
    "plt.xlabel(r'H$\\alpha$')\n",
    "plt.ylabel(r'H$\\beta$')\n",
    "plt.show"
   ]
  },
  {
   "cell_type": "code",
   "execution_count": null,
   "metadata": {
    "ExecuteTime": {
     "end_time": "2022-06-09T03:47:06.777590Z",
     "start_time": "2022-06-09T03:47:06.120328Z"
    }
   },
   "outputs": [],
   "source": [
    "fig = plt.figure(figsize=(8,8))\n",
    "fig.subplots_adjust(hspace=0.0, wspace = 0.0)\n",
    "ax = fig.add_subplot(111)\n",
    "\n",
    "ax.errorbar(dataplot['h_alpha_flux'],dataplot['oiii_5007_flux'],\n",
    "            xerr=dataplot['h_alpha_flux_err'],\n",
    "            yerr=dataplot['oiii_5007_flux_err'],\n",
    "             fmt=\"ko\", fillstyle=\"none\",\n",
    "            )\n",
    "\n",
    "\n",
    "ax.semilogx()\n",
    "ax.semilogy()\n",
    "plt.xlabel(r'H$\\alpha$')\n",
    "plt.ylabel(r'O$_{III}$')\n",
    "plt.show\n",
    "\n",
    "\n",
    "\n"
   ]
  },
  {
   "cell_type": "code",
   "execution_count": null,
   "metadata": {
    "ExecuteTime": {
     "end_time": "2022-06-09T04:25:27.222135Z",
     "start_time": "2022-06-09T04:25:27.200796Z"
    }
   },
   "outputs": [],
   "source": [
    "a=0.1*np.e**0.1\n",
    "b=1/9\n",
    "c=-np.log10(0.9)"
   ]
  },
  {
   "cell_type": "code",
   "execution_count": null,
   "metadata": {
    "ExecuteTime": {
     "end_time": "2022-06-09T04:25:30.807209Z",
     "start_time": "2022-06-09T04:25:30.795646Z"
    }
   },
   "outputs": [],
   "source": [
    "print(a,b,c)"
   ]
  },
  {
   "cell_type": "markdown",
   "metadata": {},
   "source": [
    "# TGSS"
   ]
  },
  {
   "cell_type": "code",
   "execution_count": null,
   "metadata": {},
   "outputs": [],
   "source": [
    "We present the first full release of a survey of the 150MHz radio\n",
    "    sky, observed with the Giant Metrewave Radio Telescope (GMRT) between\n",
    "    April 2010 and March 2012 as part of the TIFR GMRT Sky Survey (TGSS)\n",
    "    project. \n",
    "    \n",
    "The majority of pointing images have a noise level below 5mJy/beam with an\n",
    "    approximate resolution of 25\"x25\" (or 25\"x25\"/cos(Dec-19{deg}) for\n",
    "    pointings south of 19{deg} declination).    "
   ]
  },
  {
   "cell_type": "code",
   "execution_count": null,
   "metadata": {
    "ExecuteTime": {
     "end_time": "2022-08-30T15:10:43.362708Z",
     "start_time": "2022-08-30T15:10:36.469092Z"
    }
   },
   "outputs": [],
   "source": [
    "TGSS_dir='%s/TGSS ADR1 The GMRT 150MHz all-sky radio survey/J_A+A_598_A78'%Surveyfits_path #mJy/beam\n",
    "TGSSdata=Table.read('%s/table3.dat'%TGSS_dir,readme='%s/ReadMe'%TGSS_dir,format='ascii.cds')"
   ]
  },
  {
   "cell_type": "code",
   "execution_count": null,
   "metadata": {
    "ExecuteTime": {
     "end_time": "2022-08-30T15:30:58.078619Z",
     "start_time": "2022-08-30T15:30:58.070407Z"
    }
   },
   "outputs": [],
   "source": [
    "TGSSdata.colnames"
   ]
  },
  {
   "cell_type": "markdown",
   "metadata": {},
   "source": [
    "# LoTSS"
   ]
  },
  {
   "cell_type": "markdown",
   "metadata": {},
   "source": [
    "The LOw-Frequency ARray (LOFAR) Two-metre Sky Survey (LoTSS) Second\n",
    "    data release contains 120-168MHz images covering 27% of the northern\n",
    "    sky. The coverage is split into two regions centred at approximately\n",
    "    12h45m +44{deg}30' and 1h00m +28{deg}00' and spanning 4178 and 1457\n",
    "    square degrees respectively. A catalogue of 4396228 radio components\n",
    "    is derived from our 6\" resolution total intensity (Stokes I) maps\n",
    "    where the median rms sensitivity is 83uJy/beam; the flux density scale\n",
    "    accuracy is approximately 10%; "
   ]
  },
  {
   "cell_type": "code",
   "execution_count": null,
   "metadata": {
    "ExecuteTime": {
     "end_time": "2022-08-30T15:11:55.566139Z",
     "start_time": "2022-08-30T15:10:47.065528Z"
    }
   },
   "outputs": [],
   "source": [
    "LoTSS_dir='%s/LOFAR Two-metre Sky Survey (LoTSS) DR2/J_A+A_659_A1'%Surveyfits_path #mJy\n",
    "LoTSSdata=Table.read('%s/catalog.dat'%LoTSS_dir,readme='%s/ReadMe'%LoTSS_dir,format='ascii.cds')"
   ]
  },
  {
   "cell_type": "code",
   "execution_count": null,
   "metadata": {},
   "outputs": [],
   "source": []
  },
  {
   "cell_type": "markdown",
   "metadata": {},
   "source": [
    "# GLEAM"
   ]
  },
  {
   "cell_type": "markdown",
   "metadata": {},
   "source": [
    "200 MHz"
   ]
  },
  {
   "cell_type": "code",
   "execution_count": null,
   "metadata": {
    "ExecuteTime": {
     "end_time": "2022-08-30T15:11:56.932368Z",
     "start_time": "2022-08-30T15:11:55.568850Z"
    }
   },
   "outputs": [],
   "source": [
    "gleam=fits.open('%s/GLEAM/GLEAM_EGC_v2.fits'%Surveyfits_path)\n",
    "gleamdata=gleam[1].data\n",
    "\n",
    "GGSM=fits.open('%s/GLEAM/GGSM.fits'%Surveyfits_path)\n",
    "GGSMdata=GGSM[1].data #Jy"
   ]
  },
  {
   "cell_type": "code",
   "execution_count": null,
   "metadata": {
    "ExecuteTime": {
     "end_time": "2022-08-30T15:31:14.430805Z",
     "start_time": "2022-08-30T15:31:14.423394Z"
    }
   },
   "outputs": [],
   "source": [
    "GGSMdata.columns"
   ]
  },
  {
   "cell_type": "markdown",
   "metadata": {},
   "source": [
    "# WISE_AGN_cat"
   ]
  },
  {
   "cell_type": "code",
   "execution_count": null,
   "metadata": {
    "ExecuteTime": {
     "end_time": "2022-09-01T15:03:00.719485Z",
     "start_time": "2022-09-01T15:03:00.707264Z"
    }
   },
   "outputs": [],
   "source": [
    "WISE_AGN_cat=fits.open('%s/AGN/The WISE AGN candidates catalogs/J_ApJS_234_23_r90cat.dat.gz.fits'%Surveyfits_path)"
   ]
  },
  {
   "cell_type": "code",
   "execution_count": null,
   "metadata": {},
   "outputs": [],
   "source": []
  },
  {
   "cell_type": "markdown",
   "metadata": {},
   "source": [
    "# Crossmatch"
   ]
  },
  {
   "cell_type": "markdown",
   "metadata": {
    "ExecuteTime": {
     "end_time": "2022-06-11T07:34:18.531231Z",
     "start_time": "2022-06-11T07:34:18.514105Z"
    }
   },
   "source": [
    "## X"
   ]
  },
  {
   "cell_type": "code",
   "execution_count": null,
   "metadata": {
    "ExecuteTime": {
     "end_time": "2022-08-30T15:12:22.503149Z",
     "start_time": "2022-08-30T15:12:22.496796Z"
    }
   },
   "outputs": [],
   "source": [
    "SDSS_RG_18286X = np.empty((len(SDSS_RG_18286), 2), dtype=np.float64)\n",
    "SDSS_RG_18286X[:, 0] = SDSS_RG_18286['RAhour']*15.0\n",
    "SDSS_RG_18286X[:, 1] = SDSS_RG_18286['DEdeg']"
   ]
  },
  {
   "cell_type": "code",
   "execution_count": null,
   "metadata": {
    "ExecuteTime": {
     "end_time": "2022-06-11T07:38:10.502074Z",
     "start_time": "2022-06-11T07:38:10.404517Z"
    }
   },
   "outputs": [],
   "source": [
    "SDSS_galaxies_emission_line.head()#.columns"
   ]
  },
  {
   "cell_type": "code",
   "execution_count": null,
   "metadata": {
    "ExecuteTime": {
     "end_time": "2022-08-30T15:12:27.787465Z",
     "start_time": "2022-08-30T15:12:27.773767Z"
    }
   },
   "outputs": [],
   "source": [
    "SDSS_galaxies_emission_lineX = np.empty((len(SDSS_galaxies_emission_line), 2), dtype=np.float64)\n",
    "SDSS_galaxies_emission_lineX[:, 0] = SDSS_galaxies_emission_line['ra']\n",
    "SDSS_galaxies_emission_lineX[:, 1] = SDSS_galaxies_emission_line['dec']"
   ]
  },
  {
   "cell_type": "markdown",
   "metadata": {
    "ExecuteTime": {
     "end_time": "2022-06-11T07:47:39.063188Z",
     "start_time": "2022-06-11T07:47:39.035786Z"
    }
   },
   "source": [
    "SDSS_galaxies_emission_line[:,0]"
   ]
  },
  {
   "cell_type": "code",
   "execution_count": null,
   "metadata": {
    "ExecuteTime": {
     "end_time": "2022-08-30T15:12:34.685969Z",
     "start_time": "2022-08-30T15:12:34.667860Z"
    }
   },
   "outputs": [],
   "source": [
    "TGSSX = np.empty((len(TGSSdata), 2), dtype=np.float64)\n",
    "TGSSX[:, 0] = TGSSdata['RAdeg']\n",
    "TGSSX[:, 1] = TGSSdata['DEdeg']"
   ]
  },
  {
   "cell_type": "code",
   "execution_count": null,
   "metadata": {
    "ExecuteTime": {
     "end_time": "2022-08-30T15:15:53.309747Z",
     "start_time": "2022-08-30T15:15:51.524397Z"
    }
   },
   "outputs": [],
   "source": [
    "gleamX = np.empty((len(gleamdata), 2), dtype=np.float64)\n",
    "gleamX[:, 0] = gleamdata['RAJ2000']\n",
    "gleamX[:, 1] = gleamdata['DEJ2000']\n",
    "\n",
    "GGSMX = np.empty((len(GGSMdata), 2), dtype=np.float64)\n",
    "GGSMX[:, 0] = GGSMdata['RAJ2000']\n",
    "GGSMX[:, 1] = GGSMdata['DEJ2000']"
   ]
  },
  {
   "cell_type": "code",
   "execution_count": null,
   "metadata": {},
   "outputs": [],
   "source": []
  },
  {
   "cell_type": "markdown",
   "metadata": {
    "ExecuteTime": {
     "end_time": "2022-08-30T15:27:03.229810Z",
     "start_time": "2022-08-30T15:27:03.225617Z"
    }
   },
   "source": [
    "LoTSSdata.colnames"
   ]
  },
  {
   "cell_type": "code",
   "execution_count": null,
   "metadata": {
    "ExecuteTime": {
     "end_time": "2022-08-30T15:27:13.740438Z",
     "start_time": "2022-08-30T15:27:13.707216Z"
    }
   },
   "outputs": [],
   "source": [
    "LoTSSX = np.empty((len(LoTSSdata), 2), dtype=np.float64)\n",
    "LoTSSX[:, 0] = LoTSSdata['RAdeg']\n",
    "LoTSSX[:, 1] = LoTSSdata['DEdeg']"
   ]
  },
  {
   "cell_type": "code",
   "execution_count": null,
   "metadata": {},
   "outputs": [],
   "source": []
  },
  {
   "cell_type": "markdown",
   "metadata": {},
   "source": [
    "## SDSS_RG_18286X,SDSS_galaxies_emission_lineX"
   ]
  },
  {
   "cell_type": "code",
   "execution_count": null,
   "metadata": {
    "ExecuteTime": {
     "end_time": "2022-08-30T15:13:56.321776Z",
     "start_time": "2022-08-30T15:13:56.162658Z"
    }
   },
   "outputs": [],
   "source": [
    "# crossmatch catalogs\n",
    "max_radius = 1. / 3600  # 1 arcsec\n",
    "dist, ind = crossmatch_angular(SDSS_RG_18286X,SDSS_galaxies_emission_lineX,  max_radius)\n",
    "match = ~np.isinf(dist)# '~np.isinf' vs 'np.isinf'\n",
    "\n",
    "dist_match = dist[match]\n",
    "dist_match *= 3600 #convert to arcsec\n",
    "\n",
    "fig = plt.figure(figsize=(4, 4))\n",
    "# Add axes object to our figure that takes up entire figure\n",
    "ax = fig.add_axes([0, 0, 1, 1])\n",
    "hist(dist_match,\n",
    "     #bins='knuth',\n",
    "     bins=30,\n",
    "     ax=ax, #\n",
    "     histtype='stepfilled', ec='k', fc='#AAAAAA')\n",
    "\n",
    "ax.set_xlabel('radius of match (arcsec)')\n",
    "ax.set_ylabel('N(r, r+dr)')\n",
    "ax.text(0.95, 0.95,\n",
    "        \"Total objects: %i\\nNumber with match: %i\" % (SDSS_RG_18286X.shape[0],\n",
    "                                                      np.sum(match)),\n",
    "        ha='right', va='top', transform=ax.transAxes)\n",
    "\n",
    "ax.set_xlim(0, max_radius*3600)\n",
    "set_ax_tick(ax)\n",
    "plt.show()\n"
   ]
  },
  {
   "cell_type": "code",
   "execution_count": null,
   "metadata": {
    "ExecuteTime": {
     "end_time": "2022-08-30T15:14:04.509085Z",
     "start_time": "2022-08-30T15:14:04.502505Z"
    }
   },
   "outputs": [],
   "source": [
    "len(match)"
   ]
  },
  {
   "cell_type": "code",
   "execution_count": null,
   "metadata": {},
   "outputs": [],
   "source": [
    "'z',\n",
    " 'zwarning',\n",
    " 'ra',\n",
    " 'dec',\n",
    " 'specObjId',\n",
    " 'h_beta_flux',\n",
    " 'h_beta_flux',\n",
    " 'h_alpha_flux',\n",
    " 'h_alpha_flux_err',\n",
    " 'oiii_5007_flux',\n",
    " 'oiii_5007_flux_err'"
   ]
  },
  {
   "cell_type": "code",
   "execution_count": null,
   "metadata": {
    "ExecuteTime": {
     "end_time": "2022-08-30T15:15:08.235805Z",
     "start_time": "2022-08-30T15:15:08.215211Z"
    }
   },
   "outputs": [],
   "source": [
    "SDSS_RG_18286_match_SDSS_galaxies_emission_line=SDSS_RG_18286[match]\n",
    "#drop_index()\n",
    "SDSS_galaxies_emission_line_match_SDSS_RG_18286=SDSS_galaxies_array[ind[match]] \n",
    "print(len(SDSS_RG_18286_match_SDSS_galaxies_emission_line),np.sum(match))\n",
    "print(len(SDSS_galaxies_emission_line_match_SDSS_RG_18286))"
   ]
  },
  {
   "cell_type": "code",
   "execution_count": null,
   "metadata": {
    "ExecuteTime": {
     "end_time": "2022-08-30T15:15:08.842654Z",
     "start_time": "2022-08-30T15:15:08.835327Z"
    }
   },
   "outputs": [],
   "source": [
    "SDSS_RG_18286_match_SDSS_galaxies_emission_line['z_']=SDSS_galaxies_emission_line_match_SDSS_RG_18286['z']                                                                                                     \n",
    "SDSS_RG_18286_match_SDSS_galaxies_emission_line['ra_']=SDSS_galaxies_emission_line_match_SDSS_RG_18286['ra']\n",
    "                                                                                                     \n",
    "                                                                                                     \n",
    "SDSS_RG_18286_match_SDSS_galaxies_emission_line['dec_']=SDSS_galaxies_emission_line_match_SDSS_RG_18286['dec']\n",
    "\n",
    "SDSS_RG_18286_match_SDSS_galaxies_emission_line['h_alpha_flux']=SDSS_galaxies_emission_line_match_SDSS_RG_18286['h_alpha_flux']\n",
    "SDSS_RG_18286_match_SDSS_galaxies_emission_line['h_alpha_flux_err']=SDSS_galaxies_emission_line_match_SDSS_RG_18286['h_alpha_flux_err']\n",
    "\n",
    "\n",
    "SDSS_RG_18286_match_SDSS_galaxies_emission_line['h_beta_flux']=SDSS_galaxies_emission_line_match_SDSS_RG_18286['h_beta_flux']\n",
    "SDSS_RG_18286_match_SDSS_galaxies_emission_line['h_beta_flux_err']=SDSS_galaxies_emission_line_match_SDSS_RG_18286['h_beta_flux_err']\n",
    "\n",
    "\n",
    "SDSS_RG_18286_match_SDSS_galaxies_emission_line['oiii_5007_flux']=SDSS_galaxies_emission_line_match_SDSS_RG_18286['oiii_5007_flux']\n",
    "SDSS_RG_18286_match_SDSS_galaxies_emission_line['oiii_5007_flux_err']=SDSS_galaxies_emission_line_match_SDSS_RG_18286['oiii_5007_flux_err']\n"
   ]
  },
  {
   "cell_type": "code",
   "execution_count": null,
   "metadata": {
    "ExecuteTime": {
     "end_time": "2022-08-30T15:15:21.618027Z",
     "start_time": "2022-08-30T15:15:21.611612Z"
    }
   },
   "outputs": [],
   "source": [
    "len(SDSS_RG_18286_match_SDSS_galaxies_emission_line)"
   ]
  },
  {
   "cell_type": "code",
   "execution_count": null,
   "metadata": {
    "ExecuteTime": {
     "end_time": "2022-08-30T15:15:27.509595Z",
     "start_time": "2022-08-30T15:15:27.502298Z"
    }
   },
   "outputs": [],
   "source": [
    "SDSS_RG_18286_match_SDSS_galaxies_emission_line.colnames"
   ]
  },
  {
   "cell_type": "code",
   "execution_count": null,
   "metadata": {
    "ExecuteTime": {
     "end_time": "2022-08-30T15:15:43.751042Z",
     "start_time": "2022-08-30T15:15:43.736130Z"
    }
   },
   "outputs": [],
   "source": [
    "SDSS_RG_18286_match_SDSS_galaxies_emission_line[:5]"
   ]
  },
  {
   "cell_type": "markdown",
   "metadata": {},
   "source": [
    "### RG_OIIIX"
   ]
  },
  {
   "cell_type": "code",
   "execution_count": null,
   "metadata": {
    "ExecuteTime": {
     "end_time": "2022-08-30T15:16:25.475644Z",
     "start_time": "2022-08-30T15:16:25.469363Z"
    }
   },
   "outputs": [],
   "source": [
    "RG_OIIIX = np.empty((len(SDSS_RG_18286_match_SDSS_galaxies_emission_line), 2), dtype=np.float64)\n",
    "RG_OIIIX[:, 0] = SDSS_RG_18286_match_SDSS_galaxies_emission_line['RAdeg']\n",
    "RG_OIIIX[:, 1] = SDSS_RG_18286_match_SDSS_galaxies_emission_line['DEdeg']"
   ]
  },
  {
   "cell_type": "markdown",
   "metadata": {},
   "source": [
    "# RG_OIII TGSS"
   ]
  },
  {
   "cell_type": "markdown",
   "metadata": {},
   "source": [
    "## MatchNwithradius"
   ]
  },
  {
   "cell_type": "markdown",
   "metadata": {
    "ExecuteTime": {
     "end_time": "2022-06-12T08:32:43.640337Z",
     "start_time": "2022-06-12T08:32:34.036071Z"
    }
   },
   "source": [
    "#crossmatch catalogs\n",
    "fig = plt.figure(figsize=(4, 4))\n",
    "#Add axes object to our figure that takes up entire figure\n",
    "ax = fig.add_axes([0, 0, 1, 1])\n",
    "\n",
    "max_radius = np.arange(1,30)*1.0 / 3600  # 1 arcsec\n",
    "for i in max_radius:\n",
    "    dist, ind = crossmatch_angular(RG_OIIIX,TGSSX, i)\n",
    "    match = ~np.isinf(dist)# '~np.isinf' vs 'np.isinf'\n",
    "    ax.scatter(i*3600,np.sum(match),color='black')\n",
    "\n",
    "ax.set_xlabel('radius of match (arcsec)')\n",
    "ax.set_ylabel('N')\n",
    "\n",
    "ax.set_xlim(0, max(max_radius)*3600)\n",
    "set_ax_tick(ax)\n",
    "plt.show()\n",
    "plt.close()"
   ]
  },
  {
   "cell_type": "markdown",
   "metadata": {},
   "source": [
    "## RG_OIIIX,TGSSX"
   ]
  },
  {
   "cell_type": "code",
   "execution_count": null,
   "metadata": {
    "ExecuteTime": {
     "end_time": "2022-08-31T08:20:11.376001Z",
     "start_time": "2022-08-31T08:20:11.126488Z"
    }
   },
   "outputs": [],
   "source": [
    "# crossmatch catalogs\n",
    "max_radius = 10. / 3600  # 1 arcsec\n",
    "dist, ind = crossmatch_angular(RG_OIIIX,TGSSX,  max_radius)\n",
    "match = ~np.isinf(dist)# '~np.isinf' vs 'np.isinf'\n",
    "\n",
    "dist_match = dist[match]\n",
    "dist_match *= 3600 #convert to arcsec\n",
    "\n",
    "fig = plt.figure(figsize=(4, 4))\n",
    "# Add axes object to our figure that takes up entire figure\n",
    "ax = fig.add_axes([0, 0, 1, 1])\n",
    "hist(dist_match,\n",
    "     #bins='knuth',\n",
    "     bins=30,\n",
    "     ax=ax, #\n",
    "     histtype='stepfilled', ec='k', fc='#AAAAAA')\n",
    "\n",
    "ax.set_xlabel('radius of match (arcsec)')\n",
    "ax.set_ylabel('N(r, r+dr)')\n",
    "ax.text(0.95, 0.95,\n",
    "        \"Total objects: %i\\nNumber with match: %i\" % (RG_OIIIX.shape[0],\n",
    "                                                      np.sum(match)),\n",
    "        ha='right', va='top', transform=ax.transAxes)\n",
    "\n",
    "ax.set_xlim(0, max_radius*3600)\n",
    "set_ax_tick(ax)\n",
    "plt.show()\n",
    "plt.close()"
   ]
  },
  {
   "cell_type": "code",
   "execution_count": null,
   "metadata": {
    "ExecuteTime": {
     "end_time": "2022-08-31T08:20:27.158727Z",
     "start_time": "2022-08-31T08:20:27.137296Z"
    }
   },
   "outputs": [],
   "source": [
    "RG_OIII_match_TGSS=SDSS_RG_18286_match_SDSS_galaxies_emission_line[match]\n",
    "#drop_index()\n",
    "TGSS_match_RG_OIII=TGSSdata[ind[match]] \n",
    "\n",
    "RG_OIII_match_TGSS['F200MHz']=TGSS_match_RG_OIII['Stotal'] #mJy\n",
    "RG_OIII_match_TGSS['F200MHz_err']=TGSS_match_RG_OIII['e_Stotal']\n",
    "RG_OIII_match_TGSS['Dcm']=cosmo.luminosity_distance(RG_OIII_match_TGSS['z']).to(u.cm).value\n",
    "\n",
    "RG_OIII_match_TGSS['L200MHz']=4*np.pi*RG_OIII_match_TGSS['Dcm']**2*RG_OIII_match_TGSS['F200MHz']*1.0e-26\n",
    "RG_OIII_match_TGSS['L200MHz_err']=4*np.pi*RG_OIII_match_TGSS['Dcm']**2*RG_OIII_match_TGSS['F200MHz_err']*1.0e-26\n",
    "\n",
    "RG_OIII_match_TGSS['logL200MHz']=np.log10(RG_OIII_match_TGSS['L200MHz'])\n",
    "\n",
    "RG_OIII_match_TGSS['h_alpha_Lum']=RG_OIII_match_TGSS['h_alpha_flux']*4*np.pi*RG_OIII_match_TGSS['Dcm']**2*1.0e-17\n",
    "RG_OIII_match_TGSS['h_alpha_Lum_err']=RG_OIII_match_TGSS['h_alpha_flux_err']*4*np.pi*RG_OIII_match_TGSS['Dcm']**2*1.0e-17\n",
    "\n",
    "\n",
    "RG_OIII_match_TGSS['h_beta_Lum']=RG_OIII_match_TGSS['h_beta_flux']*4*np.pi*RG_OIII_match_TGSS['Dcm']**2*1.0e-17\n",
    "RG_OIII_match_TGSS['h_beta_Lum_err']=RG_OIII_match_TGSS['h_beta_flux_err']*4*np.pi*RG_OIII_match_TGSS['Dcm']**2*1.0e-17\n",
    "\n",
    "\n",
    "RG_OIII_match_TGSS['oiii_5007_Lum']=RG_OIII_match_TGSS['oiii_5007_flux']*4*np.pi*RG_OIII_match_TGSS['Dcm']**2*1.0e-17\n",
    "RG_OIII_match_TGSS['oiii_5007_Lum_err']=RG_OIII_match_TGSS['oiii_5007_flux_err']*4*np.pi*RG_OIII_match_TGSS['Dcm']**2*1.0e-17\n",
    "\n",
    "\n",
    "RG_OIII_match_TGSS['OIII_snr']=RG_OIII_match_TGSS['oiii_5007_flux']/RG_OIII_match_TGSS['oiii_5007_flux_err']\n",
    "RG_OIII_match_TGSS_selectsnrgt5=RG_OIII_match_TGSS[RG_OIII_match_TGSS['OIII_snr']>5]"
   ]
  },
  {
   "cell_type": "code",
   "execution_count": null,
   "metadata": {
    "ExecuteTime": {
     "end_time": "2022-09-01T14:57:07.432701Z",
     "start_time": "2022-09-01T14:57:07.417173Z"
    }
   },
   "outputs": [],
   "source": [
    "RG_OIII_match_TGSS_selectsnrgt5"
   ]
  },
  {
   "cell_type": "code",
   "execution_count": null,
   "metadata": {
    "ExecuteTime": {
     "end_time": "2022-06-12T08:32:55.903511Z",
     "start_time": "2022-06-12T08:32:55.898058Z"
    }
   },
   "outputs": [],
   "source": [
    "len(SDSS_RG_18286_match_SDSS_galaxies_emission_line),len(RG_OIII_match_TGSS)"
   ]
  },
  {
   "cell_type": "code",
   "execution_count": null,
   "metadata": {},
   "outputs": [],
   "source": [
    "RG_OIII_match_TGSS\n",
    "\n",
    "TGSS_match_RG_OIII\n",
    "\n",
    "TGSS_match_RG_OIII#.colnames"
   ]
  },
  {
   "cell_type": "markdown",
   "metadata": {},
   "source": [
    "### plot OIII 200MHz"
   ]
  },
  {
   "cell_type": "markdown",
   "metadata": {
    "ExecuteTime": {
     "end_time": "2022-06-11T15:39:38.319063Z",
     "start_time": "2022-06-11T15:39:38.246328Z"
    }
   },
   "source": [
    "RG_OIII_match_TGSS_pd=RG_OIII_match_TGSS.to_pandas()\n",
    "RG_OIII_match_TGSS_removeNAN=RG_OIII_match_TGSS_pd[RG_OIII_match_TGSS_pd['L200MHz'].notnull()]\n",
    "RG_OIII_match_TGSS_removeNAN=RG_OIII_match_TGSS_pd[RG_OIII_match_TGSS_pd['oiii_5007_Lum'].notnull()]\n",
    "RG_OIII_match_TGSS_removeNAN=drop_index(RG_OIII_match_TGSS_removeNAN)"
   ]
  },
  {
   "cell_type": "code",
   "execution_count": null,
   "metadata": {
    "ExecuteTime": {
     "end_time": "2022-08-31T08:20:31.092978Z",
     "start_time": "2022-08-31T08:20:31.083454Z"
    }
   },
   "outputs": [],
   "source": [
    "len(RG_OIII_match_TGSS_selectsnrgt5)"
   ]
  },
  {
   "cell_type": "code",
   "execution_count": null,
   "metadata": {
    "ExecuteTime": {
     "end_time": "2022-09-02T03:13:06.900428Z",
     "start_time": "2022-09-02T03:13:06.876583Z"
    }
   },
   "outputs": [],
   "source": [
    "import numpy as np\n",
    "import matplotlib.pyplot as plt\n",
    "from astropy.stats import sigma_clip\n",
    "from astropy.modeling import models, fitting\n",
    "\n",
    "# define a model for a line\n",
    "# line_orig = models.Linear1D(slope=1.0, intercept=0.5)\n",
    "\n",
    "# generate x, y data non-uniformly spaced in x\n",
    "# add noise to y measurements\n",
    "\n",
    "'''x=np.array(RG_OIII_match_TGSS['L200MHz'])\n",
    "y=np.array(RG_OIII_match_TGSS['oiii_5007_Lum'])\n",
    "\n",
    "xerr=np.array(RG_OIII_match_TGSS['L200MHz_err'])\n",
    "yerr=np.array(RG_OIII_match_TGSS['oiii_5007_Lum_err'])\n",
    "'''\n",
    "\n",
    "dataplot=RG_OIII_match_TGSS_selectsnrgt5\n",
    "x= np.log10(dataplot['L200MHz'])\n",
    "y= np.log10(dataplot['oiii_5007_Lum'])\n",
    "xerr= dataplot['L200MHz_err']/np.log(10)/x\n",
    "yerr= dataplot['oiii_5007_Lum_err']/np.log(10)/y\n",
    "\n",
    "\n",
    "weights=np.zeros(len(x))+1\n",
    "\n",
    "#xerr\n",
    "\n",
    "# initialize a linear fitter\n",
    "fit = fitting.LinearLSQFitter()\n",
    "\n",
    "# initialize the outlier removal fitter\n",
    "or_fit = fitting.FittingWithOutlierRemoval(fit, sigma_clip, niter=3, sigma=2.0)\n",
    "\n",
    "# initialize a linear model\n",
    "line_init = models.Linear1D()\n",
    "\n",
    "# fit the data with the fitter\n",
    "fitted_line, mask = or_fit(line_init, x, y, weights=1.0/weights)\n",
    "filtered_data = np.ma.masked_array(y, mask=mask)\n",
    "\n",
    "print(fitted_line)"
   ]
  },
  {
   "cell_type": "code",
   "execution_count": null,
   "metadata": {
    "ExecuteTime": {
     "end_time": "2022-06-12T08:41:54.591092Z",
     "start_time": "2022-06-12T08:41:54.458633Z"
    }
   },
   "outputs": [],
   "source": [
    "plt.plot(x[mask], y[mask], 'x',\n",
    "         color='#d62728', label=\"rejected data\")"
   ]
  },
  {
   "cell_type": "code",
   "execution_count": null,
   "metadata": {
    "ExecuteTime": {
     "end_time": "2022-06-12T08:43:26.277278Z",
     "start_time": "2022-06-12T08:43:26.271420Z"
    }
   },
   "outputs": [],
   "source": [
    "len(mask),np.sum(mask),len(mask)-np.sum(mask),"
   ]
  },
  {
   "cell_type": "code",
   "execution_count": null,
   "metadata": {
    "ExecuteTime": {
     "end_time": "2022-06-12T08:39:31.646345Z",
     "start_time": "2022-06-12T08:39:31.640465Z"
    }
   },
   "outputs": [],
   "source": []
  },
  {
   "cell_type": "code",
   "execution_count": null,
   "metadata": {
    "ExecuteTime": {
     "end_time": "2022-06-12T08:35:23.057176Z",
     "start_time": "2022-06-12T08:35:23.052673Z"
    }
   },
   "outputs": [],
   "source": [
    "len(y[mask])"
   ]
  },
  {
   "cell_type": "code",
   "execution_count": null,
   "metadata": {},
   "outputs": [],
   "source": []
  },
  {
   "cell_type": "code",
   "execution_count": null,
   "metadata": {
    "ExecuteTime": {
     "end_time": "2022-06-12T06:50:39.163244Z",
     "start_time": "2022-06-12T06:50:39.159164Z"
    }
   },
   "outputs": [],
   "source": [
    "# RG_OIII_match_TGSS_selectsnrgt5['L200MHz'],RG_OIII_match_TGSS_selectsnrgt5['oiii_5007_Lum']"
   ]
  },
  {
   "cell_type": "code",
   "execution_count": null,
   "metadata": {
    "ExecuteTime": {
     "end_time": "2022-08-31T08:20:41.874859Z",
     "start_time": "2022-08-31T08:20:41.869516Z"
    }
   },
   "outputs": [],
   "source": [
    "slope,intercept=linear_calc(x,y)\n",
    "print(slope,intercept)"
   ]
  },
  {
   "cell_type": "code",
   "execution_count": null,
   "metadata": {
    "ExecuteTime": {
     "end_time": "2022-09-02T03:14:17.666242Z",
     "start_time": "2022-09-02T03:14:17.537347Z"
    }
   },
   "outputs": [],
   "source": [
    "fig = plt.figure(figsize=(6,6))\n",
    "fig.subplots_adjust(hspace=0.0, wspace = 0.0)\n",
    "ax = fig.add_subplot(111)\n",
    "\n",
    "log_L200=np.linspace(29,37,10)\n",
    "y_log_L200=0.73*log_L200+16.6\n",
    "\n",
    "ax.plot(log_L200,y_log_L200,ls=':',color='grey',linewidth=2,label=r'Fitted 3C $\\pm$ 1 dex')\n",
    "ax.plot(log_L200,y_log_L200-1,ls=':',color='grey',linewidth=2)\n",
    "ax.plot(log_L200,y_log_L200+1,ls=':',color='grey',linewidth=2)\n",
    "\n",
    "ax.errorbar(x, y, \n",
    "            #xerr=xerr, yerr=yerr, \n",
    "            markersize=10,\n",
    "            fmt=\"k.\", fillstyle=\"none\", label=r\"Clipped Data 2$\\sigma$\")\n",
    "\n",
    "ax.errorbar(x, filtered_data, markersize=3,\n",
    "            fmt=\"ko\", label=\"Fitted Data\")\n",
    "\n",
    "#plt.plot(x, line_orig(x), 'b-', label='Simulation Model')\n",
    "ax.plot(log_L200, fitted_line(log_L200), color='red',ls='-', linewidth=2,label='Fitted Model')\n",
    "#plt.xlim(-2,12)\n",
    "#plt.ylim(-5,25)\n",
    "\n",
    "set_ax_tick(ax)\n",
    "#set_ax_locator(ax)\n",
    "\n",
    "#ax.set_xlabel(r'$L_{5GHz}$ ($\\mathrm{erg s^{-1} Hz^{-1}}$)')\n",
    "#ax.set_ylabel(r'$L_{178MHz}$ ($\\mathrm{erg s^{-1} Hz^{-1} } $)')\n",
    "ax.set_xlabel(r'log $L_{150MHz}$ ($\\mathrm{erg s^{-1} Hz^{-1}}$)')\n",
    "ax.set_ylabel(r'log $L_{OIII}$ ($\\mathrm{erg s^{-1}}$)')\n",
    "\n",
    "\n",
    "ax.xaxis.set_tick_params(which='major', size=10, width=2, rotation=45,)\n",
    "handles, labels = ax.get_legend_handles_labels()\n",
    "# remove the errorbars\n",
    "#hdl = [h[0] for h in handles]\n",
    "hdl = handles\n",
    "labels_dict=dict(zip(labels, hdl)) #key,values\n",
    "by_label=OrderedDict(sorted(labels_dict.items(),key=lambda t:t[0]))\n",
    "\n",
    "#ax.set_title('Plate = %(plate)i, MJD = %(mjd)i, Fiber = %(fiber)i' % locals())\n",
    "ax.set_title('radio galaxies SDSS match TGSS')\n",
    "\n",
    "#ax.legend(by_label.values(), by_label.keys(), bbox_to_anchor=(0.01, 0.99),loc=2, numpoints=1,ncol=1,fontsize=11.)\n",
    "plt.legend(fontsize=11.)\n",
    "plt.show()\n",
    "plt.close()\n",
    "#plt.savefig('L200MHz_LOIII_TGSS_SDSS.png',dpi=100, transparent=False, bbox_inches='tight')\n"
   ]
  },
  {
   "cell_type": "markdown",
   "metadata": {},
   "source": [
    "### select fading "
   ]
  },
  {
   "cell_type": "code",
   "execution_count": null,
   "metadata": {
    "ExecuteTime": {
     "end_time": "2022-09-02T03:14:34.161430Z",
     "start_time": "2022-09-02T03:14:33.826041Z"
    }
   },
   "outputs": [],
   "source": [
    "fig = plt.figure(figsize=(8,8))\n",
    "fig.subplots_adjust(hspace=0.0, wspace = 0.0)\n",
    "ax = fig.add_subplot(111)\n",
    "\n",
    "\n",
    "log_L200=np.linspace(28,37,10) #best fit for 3CRR sample\n",
    "y_log_L200=0.73*log_L200+16.6\n",
    "ax.plot(log_L200,y_log_L200,ls=':',color='grey',linewidth=2,label=r'Fitted 3CR $\\pm$ 1 dex')\n",
    "ax.plot(log_L200,y_log_L200-1,ls=':',color='grey',linewidth=2)\n",
    "ax.plot(log_L200,y_log_L200+1,ls=':',color='grey',linewidth=2)\n",
    "\n",
    "y_log_L200_fitted_line= fitted_line.slope.value*log_L200+fitted_line.intercept.value\n",
    "ax.plot(log_L200, fitted_line(log_L200), color='red',ls='-', linewidth=2,label='Fitted Model $\\pm$ 1 dex')\n",
    "ax.plot(log_L200,y_log_L200_fitted_line-1,ls=':',color='red',linewidth=2)\n",
    "ax.plot(log_L200,y_log_L200_fitted_line+1,ls=':',color='red',linewidth=2)\n",
    "\n",
    "\n",
    "ax.errorbar(x, filtered_data, markersize=3,\n",
    "            fmt=\"ko\", label=\"Fitted Data\")\n",
    "\n",
    "RG_OIII_match_TGSS_selectsnrgt5['fading1dex']=0\n",
    "\n",
    "for index, (ra_,dec_,x_,y_,mask_) in enumerate(zip(RG_OIII_match_TGSS_selectsnrgt5['RAdeg'],RG_OIII_match_TGSS_selectsnrgt5['DEdeg'],x,y,mask)):\n",
    "    if mask_:\n",
    "        if x_*fitted_line.slope.value+fitted_line.intercept.value>y_:\n",
    "            ax.errorbar(x_, y_,\n",
    "                #xerr=xerr, yerr=yerr,\n",
    "                markersize=10,\n",
    "                fmt=\"k.\", fillstyle=\"none\", label=r\"Fading 2 $\\sigma$\")\n",
    "            if x_*fitted_line.slope.value+fitted_line.intercept.value>y_+1:\n",
    "                RG_OIII_match_TGSS_selectsnrgt5['fading1dex'][index]=1\n",
    "                #print(index,ra_,dec_,'Fading more than 1dex')\n",
    "\n",
    "        else:\n",
    "            #print(name,'Rasing')\n",
    "            ax.errorbar(x_, y_,\n",
    "            #xerr=xerr, yerr=yerr,\n",
    "            markersize=10,\n",
    "            fmt=\"k*\", fillstyle=\"none\", label=r\"Rasing 2 $\\sigma$\")\n",
    "            \n",
    "#plt.plot(x, line_orig(x), 'b-', label='Simulation Model')\n",
    "#plt.xlim(-2,12)\n",
    "#plt.ylim(-5,25)\n",
    "\n",
    "set_ax_tick(ax)\n",
    "#set_ax_locator(ax)\n",
    "\n",
    "#ax.set_xlabel(r'$L_{5GHz}$ ($\\mathrm{erg s^{-1} Hz^{-1}}$)')\n",
    "#ax.set_ylabel(r'$L_{178MHz}$ ($\\mathrm{erg s^{-1} Hz^{-1} } $)')\n",
    "ax.set_xlabel(r'log $L_{150MHz}$ ($\\mathrm{erg s^{-1} Hz^{-1}}$)')\n",
    "ax.set_ylabel(r'log $L_{OIII}$ ($\\mathrm{erg s^{-1}}$)')\n",
    "\n",
    "\n",
    "ax.xaxis.set_tick_params(which='major', size=10, width=2, rotation=45,)\n",
    "handles, labels = ax.get_legend_handles_labels()\n",
    "# remove the errorbars\n",
    "#hdl = [h[0] for h in handles]\n",
    "hdl = handles\n",
    "labels_dict=dict(zip(labels, hdl)) #key,values\n",
    "by_label=OrderedDict(sorted(labels_dict.items(),key=lambda t:t[0]))\n",
    "\n",
    "#ax.set_title('Plate = %(plate)i, MJD = %(mjd)i, Fiber = %(fiber)i' % locals())\n",
    "ax.set_title('radio galaxies SDSS match TGSS')\n",
    "\n",
    "ax.legend(by_label.values(), by_label.keys(), bbox_to_anchor=(0.01, 0.99),loc=2, numpoints=1,ncol=1,fontsize=11.)\n",
    "#plt.legend(fontsize=11.)\n",
    "plt.show()\n",
    "fig.savefig('TGSS_cat_LOIII_Lradio_clip_%s_sigma_fading.png'%sigma, dpi=100, transparent=False, bbox_inches='tight')\n",
    "#plt.savefig('L200MHz_LOIII_TGSS_SDSS.png',dpi=400, transparent=False, bbox_inches='tight')\n",
    "            \n"
   ]
  },
  {
   "cell_type": "code",
   "execution_count": null,
   "metadata": {
    "ExecuteTime": {
     "end_time": "2022-09-05T08:12:51.208705Z",
     "start_time": "2022-09-05T08:12:51.174755Z"
    }
   },
   "outputs": [],
   "source": [
    "RG_OIII_match_TGSS_selectsnrgt5_fadeing=RG_OIII_match_TGSS_selectsnrgt5[RG_OIII_match_TGSS_selectsnrgt5['fading1dex']==1]\n",
    "\n",
    "RG_OIII_match_TGSS_selectsnrgt5_fadeing[['RAdeg','DEdeg']].to_pandas().to_csv('%s/RG_OIII_match_TGSS_selectsnrgt5_fadeing_radec.csv'%Surveyfits_root,\n",
    "                                                            float_format='%.5f',index=False)\n",
    "\n"
   ]
  },
  {
   "cell_type": "code",
   "execution_count": null,
   "metadata": {
    "ExecuteTime": {
     "end_time": "2022-09-05T08:12:54.567279Z",
     "start_time": "2022-09-05T08:12:54.547810Z"
    }
   },
   "outputs": [],
   "source": [
    "RG_OIII_match_TGSS_selectsnrgt5_fadeing"
   ]
  },
  {
   "cell_type": "code",
   "execution_count": null,
   "metadata": {},
   "outputs": [],
   "source": []
  },
  {
   "cell_type": "code",
   "execution_count": null,
   "metadata": {},
   "outputs": [],
   "source": []
  },
  {
   "cell_type": "markdown",
   "metadata": {},
   "source": [
    "# RG_OIII GLEAM"
   ]
  },
  {
   "cell_type": "markdown",
   "metadata": {
    "ExecuteTime": {
     "end_time": "2022-06-12T08:40:20.088082Z",
     "start_time": "2022-06-12T08:40:11.429495Z"
    }
   },
   "source": [
    "#crossmatch catalogs\n",
    "fig = plt.figure(figsize=(4, 4))\n",
    "#Add axes object to our figure that takes up entire figure\n",
    "ax = fig.add_axes([0, 0, 1, 1])\n",
    "\n",
    "max_radius = np.arange(1,30)*1.0 / 3600  # 1 arcsec\n",
    "for i in max_radius:\n",
    "    dist, ind = crossmatch_angular(RG_OIIIX,GGSMX, i)\n",
    "    match = ~np.isinf(dist)# '~np.isinf' vs 'np.isinf'\n",
    "    ax.scatter(i*3600,np.sum(match),color='black')\n",
    "\n",
    "ax.set_xlabel('radius of match (arcsec)')\n",
    "ax.set_ylabel('N')\n",
    "\n",
    "ax.set_xlim(0, max(max_radius)*3600)\n",
    "set_ax_tick(ax)\n",
    "plt.show()\n",
    "plt.close()"
   ]
  },
  {
   "cell_type": "code",
   "execution_count": null,
   "metadata": {
    "ExecuteTime": {
     "end_time": "2022-09-01T14:57:44.253376Z",
     "start_time": "2022-09-01T14:57:44.059001Z"
    }
   },
   "outputs": [],
   "source": [
    "# crossmatch catalogs\n",
    "max_radius = 30. / 3600  # 1 arcsec\n",
    "dist, ind = crossmatch_angular(RG_OIIIX,GGSMX,  max_radius)\n",
    "match = ~np.isinf(dist)# '~np.isinf' vs 'np.isinf'\n",
    "\n",
    "dist_match = dist[match]\n",
    "dist_match *= 3600 #convert to arcsec\n",
    "\n",
    "fig = plt.figure(figsize=(4, 4))\n",
    "# Add axes object to our figure that takes up entire figure\n",
    "ax = fig.add_axes([0, 0, 1, 1])\n",
    "hist(dist_match,\n",
    "     #bins='knuth',\n",
    "     bins=30,\n",
    "     ax=ax, #\n",
    "     histtype='stepfilled', ec='k', fc='#AAAAAA')\n",
    "\n",
    "ax.set_xlabel('radius of match (arcsec)')\n",
    "ax.set_ylabel('N(r, r+dr)')\n",
    "ax.text(0.95, 0.95,\n",
    "        \"Total objects: %i\\nNumber with match: %i\" % (RG_OIIIX.shape[0],\n",
    "                                                      np.sum(match)),\n",
    "        ha='right', va='top', transform=ax.transAxes)\n",
    "\n",
    "ax.set_xlim(0, max_radius*3600)\n",
    "set_ax_tick(ax)\n",
    "plt.show()\n",
    "plt.close()"
   ]
  },
  {
   "cell_type": "code",
   "execution_count": null,
   "metadata": {
    "ExecuteTime": {
     "end_time": "2022-06-12T07:01:41.198570Z",
     "start_time": "2022-06-12T07:01:41.183045Z"
    }
   },
   "outputs": [],
   "source": [
    "GGSMdata.columns"
   ]
  },
  {
   "cell_type": "code",
   "execution_count": null,
   "metadata": {
    "ExecuteTime": {
     "end_time": "2022-09-01T14:58:24.953970Z",
     "start_time": "2022-09-01T14:58:24.930526Z"
    }
   },
   "outputs": [],
   "source": [
    "RG_OIII_match_GGSM=SDSS_RG_18286_match_SDSS_galaxies_emission_line[match]\n",
    "#drop_index()\n",
    "GGSM_match_RG_OIII=GGSMdata[ind[match]] \n",
    "\n",
    "RG_OIII_match_GGSM['F200MHz']=GGSM_match_RG_OIII['S_200']*1000 # mJy\n",
    "RG_OIII_match_GGSM['F200MHz_err']=GGSM_match_RG_OIII['S_200']*1000*0.08 # 8%error\n",
    "RG_OIII_match_GGSM['Dcm']=cosmo.luminosity_distance(RG_OIII_match_GGSM['z']).to(u.cm).value\n",
    "\n",
    "RG_OIII_match_GGSM['L200MHz']=4*np.pi*RG_OIII_match_GGSM['Dcm']**2*RG_OIII_match_GGSM['F200MHz']*1.0e-26\n",
    "RG_OIII_match_GGSM['L200MHz_err']=4*np.pi*RG_OIII_match_GGSM['Dcm']**2*RG_OIII_match_GGSM['F200MHz_err']*1.0e-26\n",
    "\n",
    "RG_OIII_match_GGSM['logL200MHz']=np.log10(RG_OIII_match_GGSM['L200MHz'])\n",
    "\n",
    "RG_OIII_match_GGSM['h_alpha_Lum']=RG_OIII_match_GGSM['h_alpha_flux']*4*np.pi*RG_OIII_match_GGSM['Dcm']**2*1.0e-17\n",
    "RG_OIII_match_GGSM['h_alpha_Lum_err']=RG_OIII_match_GGSM['h_alpha_flux_err']*4*np.pi*RG_OIII_match_GGSM['Dcm']**2*1.0e-17\n",
    "\n",
    "\n",
    "RG_OIII_match_GGSM['h_beta_Lum']=RG_OIII_match_GGSM['h_beta_flux']*4*np.pi*RG_OIII_match_GGSM['Dcm']**2*1.0e-17\n",
    "RG_OIII_match_GGSM['h_beta_Lum_err']=RG_OIII_match_GGSM['h_beta_flux_err']*4*np.pi*RG_OIII_match_GGSM['Dcm']**2*1.0e-17\n",
    "\n",
    "\n",
    "RG_OIII_match_GGSM['oiii_5007_Lum']=RG_OIII_match_GGSM['oiii_5007_flux']*4*np.pi*RG_OIII_match_GGSM['Dcm']**2*1.0e-17\n",
    "RG_OIII_match_GGSM['oiii_5007_Lum_err']=RG_OIII_match_GGSM['oiii_5007_flux_err']*4*np.pi*RG_OIII_match_GGSM['Dcm']**2*1.0e-17\n",
    "\n",
    "RG_OIII_match_GGSM['OIII_snr']=RG_OIII_match_GGSM['oiii_5007_flux']/RG_OIII_match_GGSM['oiii_5007_flux_err']\n",
    "RG_OIII_match_GGSM_selectsnrgt5=RG_OIII_match_GGSM[RG_OIII_match_GGSM['OIII_snr']>5]\n"
   ]
  },
  {
   "cell_type": "code",
   "execution_count": null,
   "metadata": {
    "ExecuteTime": {
     "end_time": "2022-09-01T14:58:27.561301Z",
     "start_time": "2022-09-01T14:58:27.545594Z"
    }
   },
   "outputs": [],
   "source": [
    "RG_OIII_match_GGSM_selectsnrgt5[:5]"
   ]
  },
  {
   "cell_type": "code",
   "execution_count": null,
   "metadata": {
    "ExecuteTime": {
     "end_time": "2022-09-01T14:58:36.623888Z",
     "start_time": "2022-09-01T14:58:36.618682Z"
    }
   },
   "outputs": [],
   "source": [
    "len(RG_OIII_match_GGSM_selectsnrgt5)"
   ]
  },
  {
   "cell_type": "code",
   "execution_count": null,
   "metadata": {
    "ExecuteTime": {
     "end_time": "2022-09-02T03:15:39.231322Z",
     "start_time": "2022-09-02T03:15:39.208500Z"
    }
   },
   "outputs": [],
   "source": [
    "import numpy as np\n",
    "import matplotlib.pyplot as plt\n",
    "from astropy.stats import sigma_clip\n",
    "from astropy.modeling import models, fitting\n",
    "\n",
    "# define a model for a line\n",
    "# line_orig = models.Linear1D(slope=1.0, intercept=0.5)\n",
    "\n",
    "# generate x, y data non-uniformly spaced in x\n",
    "# add noise to y measurements\n",
    "\n",
    "'''x=np.array(RG_OIII_match_TGSS['L200MHz'])\n",
    "y=np.array(RG_OIII_match_TGSS['oiii_5007_Lum'])\n",
    "\n",
    "xerr=np.array(RG_OIII_match_TGSS['L200MHz_err'])\n",
    "yerr=np.array(RG_OIII_match_TGSS['oiii_5007_Lum_err'])\n",
    "'''\n",
    "\n",
    "dataplot=RG_OIII_match_GGSM_selectsnrgt5\n",
    "x= np.log10(dataplot['L200MHz'])\n",
    "y= np.log10(dataplot['oiii_5007_Lum'])\n",
    "xerr= dataplot['L200MHz_err']/np.log(10)/x\n",
    "yerr= dataplot['oiii_5007_Lum_err']/np.log(10)/y\n",
    "\n",
    "\n",
    "weights=np.zeros(len(x))+1\n",
    "\n",
    "#xerr\n",
    "\n",
    "# initialize a linear fitter\n",
    "fit = fitting.LinearLSQFitter()\n",
    "\n",
    "# initialize the outlier removal fitter\n",
    "or_fit = fitting.FittingWithOutlierRemoval(fit, sigma_clip, niter=3, sigma=2.0)\n",
    "\n",
    "# initialize a linear model\n",
    "line_init = models.Linear1D()\n",
    "\n",
    "# fit the data with the fitter\n",
    "fitted_line, mask = or_fit(line_init, x, y, weights=1.0/weights)\n",
    "filtered_data = np.ma.masked_array(y, mask=mask)\n",
    "\n",
    "print(fitted_line)"
   ]
  },
  {
   "cell_type": "markdown",
   "metadata": {
    "ExecuteTime": {
     "end_time": "2022-06-12T08:43:43.135832Z",
     "start_time": "2022-06-12T08:43:43.130064Z"
    }
   },
   "source": [
    "len(mask),np.sum(mask),len(mask)-np.sum(mask),"
   ]
  },
  {
   "cell_type": "markdown",
   "metadata": {
    "ExecuteTime": {
     "end_time": "2022-09-01T14:58:50.837506Z",
     "start_time": "2022-09-01T14:58:50.783796Z"
    }
   },
   "source": [
    "plt.plot(x[mask], y[mask], 'x',\n",
    "         color='#d62728', label=\"rejected data\")"
   ]
  },
  {
   "cell_type": "code",
   "execution_count": null,
   "metadata": {
    "ExecuteTime": {
     "end_time": "2022-09-01T14:58:51.681671Z",
     "start_time": "2022-09-01T14:58:51.671845Z"
    }
   },
   "outputs": [],
   "source": [
    "slope,intercept=linear_calc(x,y)\n",
    "print(slope,intercept)"
   ]
  },
  {
   "cell_type": "code",
   "execution_count": null,
   "metadata": {
    "ExecuteTime": {
     "end_time": "2022-06-12T08:41:20.207092Z",
     "start_time": "2022-06-12T08:41:20.200168Z"
    }
   },
   "outputs": [],
   "source": [
    "len(x),len(y),len(filtered_data)"
   ]
  },
  {
   "cell_type": "markdown",
   "metadata": {},
   "source": [
    "## plot"
   ]
  },
  {
   "cell_type": "code",
   "execution_count": null,
   "metadata": {
    "ExecuteTime": {
     "end_time": "2022-09-02T03:15:59.319530Z",
     "start_time": "2022-09-02T03:15:59.196485Z"
    }
   },
   "outputs": [],
   "source": [
    "fig = plt.figure(figsize=(6,6))\n",
    "fig.subplots_adjust(hspace=0.0, wspace = 0.0)\n",
    "ax = fig.add_subplot(111)\n",
    "\n",
    "log_L200=np.linspace(29,37,10)\n",
    "y_log_L200=0.73*log_L200+16.6\n",
    "\n",
    "ax.plot(log_L200,y_log_L200,ls=':',color='grey',linewidth=2,label=r'Fitted 3CR $\\pm$ 1 dex')\n",
    "ax.plot(log_L200,y_log_L200-1,ls=':',color='grey',linewidth=2)\n",
    "ax.plot(log_L200,y_log_L200+1,ls=':',color='grey',linewidth=2)\n",
    "\n",
    "ax.errorbar(x, y, \n",
    "            #xerr=xerr, yerr=yerr, \n",
    "            markersize=10,\n",
    "            fmt=\"k.\", fillstyle=\"none\", label=r\"Clipped Data 2$\\sigma$\")\n",
    "\n",
    "ax.errorbar(x, filtered_data, markersize=3,\n",
    "            fmt=\"ko\", label=\"Fitted Data\")\n",
    "\n",
    "#plt.plot(x, line_orig(x), 'b-', label='Simulation Model')\n",
    "ax.plot(log_L200, fitted_line(log_L200), color='red',ls='-', linewidth=2,label='Fitted Model')\n",
    "#plt.xlim(-2,12)\n",
    "#plt.ylim(-5,25)\n",
    "\n",
    "set_ax_tick(ax)\n",
    "#set_ax_locator(ax)\n",
    "\n",
    "#ax.set_xlabel(r'$L_{5GHz}$ ($\\mathrm{erg s^{-1} Hz^{-1}}$)')\n",
    "#ax.set_ylabel(r'$L_{178MHz}$ ($\\mathrm{erg s^{-1} Hz^{-1} } $)')\n",
    "ax.set_xlabel(r'log $L_{200MHz}$ ($\\mathrm{erg s^{-1} Hz^{-1}}$)')\n",
    "ax.set_ylabel(r'log $L_{OIII}$ ($\\mathrm{erg s^{-1}}$)')\n",
    "\n",
    "\n",
    "ax.xaxis.set_tick_params(which='major', size=10, width=2, rotation=45,)\n",
    "handles, labels = ax.get_legend_handles_labels()\n",
    "# remove the errorbars\n",
    "#hdl = [h[0] for h in handles]\n",
    "hdl = handles\n",
    "labels_dict=dict(zip(labels, hdl)) #key,values\n",
    "by_label=OrderedDict(sorted(labels_dict.items(),key=lambda t:t[0]))\n",
    "\n",
    "#ax.set_title('Plate = %(plate)i, MJD = %(mjd)i, Fiber = %(fiber)i' % locals())\n",
    "ax.set_title('radio galaxies SDSS match GGSM')\n",
    "\n",
    "#ax.legend(by_label.values(), by_label.keys(), bbox_to_anchor=(0.01, 0.99),loc=2, numpoints=1,ncol=1,fontsize=11.)\n",
    "plt.legend(fontsize=11.)\n",
    "#plt.show()\n",
    "#plt.savefig('L200MHz_LOIII_TGSS_SDSS.png',dpi=100, transparent=False, bbox_inches='tight')\n"
   ]
  },
  {
   "cell_type": "markdown",
   "metadata": {},
   "source": [
    "## select fading"
   ]
  },
  {
   "cell_type": "code",
   "execution_count": null,
   "metadata": {
    "ExecuteTime": {
     "end_time": "2022-09-02T03:16:12.144765Z",
     "start_time": "2022-09-02T03:16:11.898365Z"
    }
   },
   "outputs": [],
   "source": [
    "fig = plt.figure(figsize=(8,8))\n",
    "fig.subplots_adjust(hspace=0.0, wspace = 0.0)\n",
    "ax = fig.add_subplot(111)\n",
    "\n",
    "\n",
    "log_L200=np.linspace(28,37,10) #best fit for 3CRR sample\n",
    "y_log_L200=0.73*log_L200+16.6\n",
    "ax.plot(log_L200,y_log_L200,ls=':',color='grey',linewidth=2,label=r'Fitted 3CR $\\pm$ 1 dex')\n",
    "ax.plot(log_L200,y_log_L200-1,ls=':',color='grey',linewidth=2)\n",
    "ax.plot(log_L200,y_log_L200+1,ls=':',color='grey',linewidth=2)\n",
    "\n",
    "y_log_L200_fitted_line= fitted_line.slope.value*log_L200+fitted_line.intercept.value\n",
    "ax.plot(log_L200, fitted_line(log_L200), color='red',ls='-', linewidth=2,label='Fitted Model $\\pm$ 1 dex')\n",
    "ax.plot(log_L200,y_log_L200_fitted_line-1,ls=':',color='red',linewidth=2)\n",
    "ax.plot(log_L200,y_log_L200_fitted_line+1,ls=':',color='red',linewidth=2)\n",
    "\n",
    "\n",
    "ax.errorbar(x, filtered_data, markersize=3,\n",
    "            fmt=\"ko\", label=\"Fitted Data\")\n",
    "\n",
    "RG_OIII_match_GGSM_selectsnrgt5['fading1dex']=0\n",
    "\n",
    "for index, (ra_,dec_,x_,y_,mask_) in enumerate(zip(RG_OIII_match_GGSM_selectsnrgt5['RAdeg'],RG_OIII_match_GGSM_selectsnrgt5['DEdeg'],x,y,mask)):\n",
    "    if mask_:\n",
    "        if x_*fitted_line.slope.value+fitted_line.intercept.value>y_:\n",
    "            ax.errorbar(x_, y_,\n",
    "                #xerr=xerr, yerr=yerr,\n",
    "                markersize=10,\n",
    "                fmt=\"k.\", fillstyle=\"none\", label=r\"Fading 2 $\\sigma$\")\n",
    "            if x_*fitted_line.slope.value+fitted_line.intercept.value>y_+1:\n",
    "                RG_OIII_match_GGSM_selectsnrgt5['fading1dex'][index]=1\n",
    "                #print(index,ra_,dec_,'Fading more than 1dex')\n",
    "\n",
    "        else:\n",
    "            #print(name,'Rasing')\n",
    "            ax.errorbar(x_, y_,\n",
    "            #xerr=xerr, yerr=yerr,\n",
    "            markersize=10,\n",
    "            fmt=\"k*\", fillstyle=\"none\", label=r\"Rasing 2 $\\sigma$\")\n",
    "            \n",
    "#plt.plot(x, line_orig(x), 'b-', label='Simulation Model')\n",
    "#plt.xlim(-2,12)\n",
    "#plt.ylim(-5,25)\n",
    "\n",
    "set_ax_tick(ax)\n",
    "#set_ax_locator(ax)\n",
    "\n",
    "#ax.set_xlabel(r'$L_{5GHz}$ ($\\mathrm{erg s^{-1} Hz^{-1}}$)')\n",
    "#ax.set_ylabel(r'$L_{178MHz}$ ($\\mathrm{erg s^{-1} Hz^{-1} } $)')\n",
    "ax.set_xlabel(r'log $L_{200MHz}$ ($\\mathrm{erg s^{-1} Hz^{-1}}$)')\n",
    "ax.set_ylabel(r'log $L_{OIII}$ ($\\mathrm{erg s^{-1}}$)')\n",
    "\n",
    "\n",
    "ax.xaxis.set_tick_params(which='major', size=10, width=2, rotation=45,)\n",
    "handles, labels = ax.get_legend_handles_labels()\n",
    "# remove the errorbars\n",
    "#hdl = [h[0] for h in handles]\n",
    "hdl = handles\n",
    "labels_dict=dict(zip(labels, hdl)) #key,values\n",
    "by_label=OrderedDict(sorted(labels_dict.items(),key=lambda t:t[0]))\n",
    "\n",
    "#ax.set_title('Plate = %(plate)i, MJD = %(mjd)i, Fiber = %(fiber)i' % locals())\n",
    "ax.set_title('radio galaxies SDSS match GGSM')\n",
    "\n",
    "ax.legend(by_label.values(), by_label.keys(), bbox_to_anchor=(0.01, 0.99),loc=2, numpoints=1,ncol=1,fontsize=11.)\n",
    "#plt.legend(fontsize=11.)\n",
    "plt.show()\n",
    "fig.savefig('GGSM_cat_LOIII_Lradio_clip_%s_sigma_fading.png'%sigma, dpi=100, transparent=False, bbox_inches='tight')"
   ]
  },
  {
   "cell_type": "code",
   "execution_count": null,
   "metadata": {
    "ExecuteTime": {
     "end_time": "2022-09-01T14:59:11.690180Z",
     "start_time": "2022-09-01T14:59:11.673117Z"
    }
   },
   "outputs": [],
   "source": [
    "RG_OIII_match_GGSM_selectsnrgt5_fadeing=RG_OIII_match_GGSM_selectsnrgt5[RG_OIII_match_GGSM_selectsnrgt5['fading1dex']==1]\n",
    "\n",
    "RG_OIII_match_GGSM_selectsnrgt5_fadeing[['RAdeg','DEdeg']].to_pandas().to_csv('%s/RG_OIII_match_GGSM_selectsnrgt5_fadeing.csv'%Surveyfits_root,\n",
    "                                                            float_format='%.5f',index=False)\n"
   ]
  },
  {
   "cell_type": "markdown",
   "metadata": {
    "ExecuteTime": {
     "end_time": "2022-08-31T08:26:06.684634Z",
     "start_time": "2022-08-31T08:26:06.678078Z"
    }
   },
   "source": [
    "RG_OIII_match_GGSM_selectsnrgt5_fadeing.colnames"
   ]
  },
  {
   "cell_type": "code",
   "execution_count": null,
   "metadata": {
    "ExecuteTime": {
     "end_time": "2022-09-01T14:59:16.895098Z",
     "start_time": "2022-09-01T14:59:16.871955Z"
    }
   },
   "outputs": [],
   "source": [
    "RG_OIII_match_GGSM_selectsnrgt5_fadeing"
   ]
  },
  {
   "cell_type": "markdown",
   "metadata": {},
   "source": [
    "# RG_OIII LoTSS"
   ]
  },
  {
   "cell_type": "code",
   "execution_count": null,
   "metadata": {
    "ExecuteTime": {
     "end_time": "2022-08-30T15:28:28.529582Z",
     "start_time": "2022-08-30T15:27:57.196656Z"
    }
   },
   "outputs": [],
   "source": [
    "# crossmatch catalogs\n",
    "fig = plt.figure(figsize=(4, 4))\n",
    "# Add axes object to our figure that takes up entire figure\n",
    "ax = fig.add_axes([0, 0, 1, 1])\n",
    "\n",
    "max_radius = np.arange(1,30)*1.0 / 3600  # 1 arcsec\n",
    "for i in max_radius:\n",
    "    dist, ind = crossmatch_angular(RG_OIIIX,LoTSSX, i)\n",
    "    match = ~np.isinf(dist)# '~np.isinf' vs 'np.isinf'\n",
    "    ax.scatter(i*3600,np.sum(match),color='black')\n",
    "\n",
    "ax.set_xlabel('radius of match (arcsec)')\n",
    "ax.set_ylabel('N')\n",
    "\n",
    "ax.set_xlim(0, max(max_radius)*3600)\n",
    "set_ax_tick(ax)\n",
    "plt.show()\n",
    "plt.close()"
   ]
  },
  {
   "cell_type": "code",
   "execution_count": null,
   "metadata": {
    "ExecuteTime": {
     "end_time": "2022-08-30T15:28:39.230199Z",
     "start_time": "2022-08-30T15:28:37.688151Z"
    }
   },
   "outputs": [],
   "source": [
    "# crossmatch catalogs\n",
    "max_radius = 30. / 3600  # 1 arcsec\n",
    "dist, ind = crossmatch_angular(RG_OIIIX,LoTSSX,  max_radius)\n",
    "match = ~np.isinf(dist)# '~np.isinf' vs 'np.isinf'\n",
    "\n",
    "dist_match = dist[match]\n",
    "dist_match *= 3600 #convert to arcsec\n",
    "\n",
    "fig = plt.figure(figsize=(4, 4))\n",
    "# Add axes object to our figure that takes up entire figure\n",
    "ax = fig.add_axes([0, 0, 1, 1])\n",
    "hist(dist_match,\n",
    "     #bins='knuth',\n",
    "     bins=30,\n",
    "     ax=ax, #\n",
    "     histtype='stepfilled', ec='k', fc='#AAAAAA')\n",
    "\n",
    "ax.set_xlabel('radius of match (arcsec)')\n",
    "ax.set_ylabel('N(r, r+dr)')\n",
    "ax.text(0.95, 0.95,\n",
    "        \"Total objects: %i\\nNumber with match: %i\" % (RG_OIIIX.shape[0],\n",
    "                                                      np.sum(match)),\n",
    "        ha='right', va='top', transform=ax.transAxes)\n",
    "\n",
    "ax.set_xlim(0, max_radius*3600)\n",
    "set_ax_tick(ax)\n",
    "plt.show()\n",
    "plt.close()"
   ]
  },
  {
   "cell_type": "markdown",
   "metadata": {},
   "source": [
    "## plot"
   ]
  },
  {
   "cell_type": "code",
   "execution_count": null,
   "metadata": {
    "ExecuteTime": {
     "end_time": "2022-08-30T15:29:21.801560Z",
     "start_time": "2022-08-30T15:29:21.713125Z"
    }
   },
   "outputs": [],
   "source": [
    "RG_OIII_match_LoTSS=SDSS_RG_18286_match_SDSS_galaxies_emission_line[match]\n",
    "#drop_index()\n",
    "LoTSS_match_RG_OIII=LoTSSdata[ind[match]]"
   ]
  },
  {
   "cell_type": "code",
   "execution_count": null,
   "metadata": {
    "ExecuteTime": {
     "end_time": "2022-08-30T15:30:08.143683Z",
     "start_time": "2022-08-30T15:30:08.130662Z"
    }
   },
   "outputs": [],
   "source": [
    "LoTSS_match_RG_OIII[:2]"
   ]
  },
  {
   "cell_type": "markdown",
   "metadata": {
    "ExecuteTime": {
     "end_time": "2022-08-30T15:29:28.061202Z",
     "start_time": "2022-08-30T15:29:28.052594Z"
    }
   },
   "source": [
    "LoTSS_match_RG_OIII.colnames"
   ]
  },
  {
   "cell_type": "code",
   "execution_count": null,
   "metadata": {
    "ExecuteTime": {
     "end_time": "2022-08-31T02:56:29.749666Z",
     "start_time": "2022-08-31T02:56:29.727771Z"
    }
   },
   "outputs": [],
   "source": [
    "RG_OIII_match_LoTSS['F200MHz']=LoTSS_match_RG_OIII['SpeakTot'] #mJy\n",
    "RG_OIII_match_LoTSS['F200MHz_err']=LoTSS_match_RG_OIII['e_SpeakTot']\n",
    "RG_OIII_match_LoTSS['Dcm']=cosmo.luminosity_distance(RG_OIII_match_LoTSS['z']).to(u.cm).value\n",
    "\n",
    "RG_OIII_match_LoTSS['L200MHz']=4*np.pi*RG_OIII_match_LoTSS['Dcm']**2*RG_OIII_match_LoTSS['F200MHz']*1.0e-26\n",
    "RG_OIII_match_LoTSS['L200MHz_err']=4*np.pi*RG_OIII_match_LoTSS['Dcm']**2*RG_OIII_match_LoTSS['F200MHz_err']*1.0e-26\n",
    "\n",
    "RG_OIII_match_LoTSS['logL200MHz']=np.log10(RG_OIII_match_LoTSS['L200MHz'])\n",
    "\n",
    "RG_OIII_match_LoTSS['h_alpha_Lum']=RG_OIII_match_LoTSS['h_alpha_flux']*4*np.pi*RG_OIII_match_LoTSS['Dcm']**2*1.0e-17\n",
    "RG_OIII_match_LoTSS['h_alpha_Lum_err']=RG_OIII_match_LoTSS['h_alpha_flux_err']*4*np.pi*RG_OIII_match_LoTSS['Dcm']**2*1.0e-17\n",
    "\n",
    "\n",
    "RG_OIII_match_LoTSS['h_beta_Lum']=RG_OIII_match_LoTSS['h_beta_flux']*4*np.pi*RG_OIII_match_LoTSS['Dcm']**2*1.0e-17\n",
    "RG_OIII_match_LoTSS['h_beta_Lum_err']=RG_OIII_match_LoTSS['h_beta_flux_err']*4*np.pi*RG_OIII_match_LoTSS['Dcm']**2*1.0e-17\n",
    "\n",
    "\n",
    "RG_OIII_match_LoTSS['oiii_5007_Lum']=RG_OIII_match_LoTSS['oiii_5007_flux']*4*np.pi*RG_OIII_match_LoTSS['Dcm']**2*1.0e-17\n",
    "RG_OIII_match_LoTSS['oiii_5007_Lum_err']=RG_OIII_match_LoTSS['oiii_5007_flux_err']*4*np.pi*RG_OIII_match_LoTSS['Dcm']**2*1.0e-17\n",
    "\n",
    "RG_OIII_match_LoTSS['OIII_snr']=RG_OIII_match_LoTSS['oiii_5007_flux']/RG_OIII_match_LoTSS['oiii_5007_flux_err']\n",
    "RG_OIII_match_LoTSS_selectsnrgt5=RG_OIII_match_LoTSS[RG_OIII_match_LoTSS['OIII_snr']>5]"
   ]
  },
  {
   "cell_type": "code",
   "execution_count": null,
   "metadata": {
    "ExecuteTime": {
     "end_time": "2022-08-31T03:01:56.593181Z",
     "start_time": "2022-08-31T03:01:56.587129Z"
    }
   },
   "outputs": [],
   "source": [
    "len(RG_OIII_match_LoTSS_selectsnrgt5)"
   ]
  },
  {
   "cell_type": "code",
   "execution_count": null,
   "metadata": {
    "ExecuteTime": {
     "end_time": "2022-09-02T03:17:47.252273Z",
     "start_time": "2022-09-02T03:17:47.228920Z"
    }
   },
   "outputs": [],
   "source": [
    "import numpy as np\n",
    "import matplotlib.pyplot as plt\n",
    "from astropy.stats import sigma_clip\n",
    "from astropy.modeling import models, fitting\n",
    "\n",
    "# define a model for a line\n",
    "# line_orig = models.Linear1D(slope=1.0, intercept=0.5)\n",
    "\n",
    "# generate x, y data non-uniformly spaced in x\n",
    "# add noise to y measurements\n",
    "\n",
    "dataplot=RG_OIII_match_LoTSS_selectsnrgt5\n",
    "x= np.log10(dataplot['L200MHz'])\n",
    "y= np.log10(dataplot['oiii_5007_Lum'])\n",
    "xerr= dataplot['L200MHz_err']/np.log(10)/x\n",
    "yerr= dataplot['oiii_5007_Lum_err']/np.log(10)/y\n",
    "\n",
    "\n",
    "weights=np.zeros(len(x))+1\n",
    "\n",
    "#xerr\n",
    "\n",
    "# initialize a linear fitter\n",
    "fit = fitting.LinearLSQFitter()\n",
    "\n",
    "# initialize the outlier removal fitter\n",
    "or_fit = fitting.FittingWithOutlierRemoval(fit, sigma_clip, niter=3, sigma=2.0)\n",
    "\n",
    "# initialize a linear model\n",
    "line_init = models.Linear1D()\n",
    "\n",
    "# fit the data with the fitter\n",
    "fitted_line, mask = or_fit(line_init, x, y, weights=1.0/weights)\n",
    "filtered_data = np.ma.masked_array(y, mask=mask)\n",
    "\n",
    "print(fitted_line)\n",
    "\n",
    "slope,intercept=linear_calc(x,y)\n",
    "print(slope,intercept)"
   ]
  },
  {
   "cell_type": "code",
   "execution_count": null,
   "metadata": {
    "ExecuteTime": {
     "end_time": "2022-09-02T03:17:56.136362Z",
     "start_time": "2022-09-02T03:17:55.873142Z"
    }
   },
   "outputs": [],
   "source": [
    "fig = plt.figure(figsize=(6,6))\n",
    "fig.subplots_adjust(hspace=0.0, wspace = 0.0)\n",
    "ax = fig.add_subplot(111)\n",
    "\n",
    "log_L200=np.linspace(29,37,10)\n",
    "y_log_L200=0.73*log_L200+16.6\n",
    "\n",
    "ax.plot(log_L200,y_log_L200,ls=':',color='grey',linewidth=2,label=r'Fitted 3CR $\\pm$ 1 dex')\n",
    "ax.plot(log_L200,y_log_L200-1,ls=':',color='grey',linewidth=2)\n",
    "ax.plot(log_L200,y_log_L200+1,ls=':',color='grey',linewidth=2)\n",
    "\n",
    "ax.errorbar(x, y,\n",
    "            #xerr=xerr, yerr=yerr,\n",
    "            markersize=10,\n",
    "            fmt=\"k.\", fillstyle=\"none\", label=r\"Clipped Data 2$\\sigma$\")\n",
    "\n",
    "ax.errorbar(x, filtered_data, markersize=3,\n",
    "            fmt=\"ko\", label=\"Fitted Data\")\n",
    "\n",
    "#plt.plot(x, line_orig(x), 'b-', label='Simulation Model')\n",
    "ax.plot(log_L200, fitted_line(log_L200), color='red',ls='-', linewidth=2,label='Fitted Model')\n",
    "#plt.xlim(-2,12)\n",
    "#plt.ylim(-5,25)\n",
    "\n",
    "set_ax_tick(ax)\n",
    "#set_ax_locator(ax)\n",
    "\n",
    "#ax.set_xlabel(r'$L_{5GHz}$ ($\\mathrm{erg s^{-1} Hz^{-1}}$)')\n",
    "#ax.set_ylabel(r'$L_{178MHz}$ ($\\mathrm{erg s^{-1} Hz^{-1} } $)')\n",
    "ax.set_xlabel(r'log $L_{120-168MHz}$ ($\\mathrm{erg s^{-1} Hz^{-1}}$)')\n",
    "ax.set_ylabel(r'log $L_{OIII}$ ($\\mathrm{erg s^{-1}}$)')\n",
    "\n",
    "\n",
    "ax.xaxis.set_tick_params(which='major', size=10, width=2, rotation=45,)\n",
    "handles, labels = ax.get_legend_handles_labels()\n",
    "# remove the errorbars\n",
    "#hdl = [h[0] for h in handles]\n",
    "hdl = handles\n",
    "labels_dict=dict(zip(labels, hdl)) #key,values\n",
    "by_label=OrderedDict(sorted(labels_dict.items(),key=lambda t:t[0]))\n",
    "\n",
    "#ax.set_title('Plate = %(plate)i, MJD = %(mjd)i, Fiber = %(fiber)i' % locals())\n",
    "ax.set_title('radio galaxies SDSS match LoTSS')\n",
    "\n",
    "#ax.legend(by_label.values(), by_label.keys(), bbox_to_anchor=(0.01, 0.99),loc=2, numpoints=1,ncol=1,fontsize=11.)\n",
    "plt.legend(fontsize=11.)\n",
    "#plt.show()\n",
    "plt.savefig('L200MHz_LOIII_LoTSS_SDSS.png',dpi=100, transparent=False, bbox_inches='tight')"
   ]
  },
  {
   "cell_type": "code",
   "execution_count": null,
   "metadata": {
    "ExecuteTime": {
     "end_time": "2022-08-31T03:11:34.637145Z",
     "start_time": "2022-08-31T03:11:34.631344Z"
    }
   },
   "outputs": [],
   "source": [
    "RG_OIII_match_LoTSS_selectsnrgt5.colnames"
   ]
  },
  {
   "cell_type": "markdown",
   "metadata": {},
   "source": [
    "## select_fading"
   ]
  },
  {
   "cell_type": "code",
   "execution_count": null,
   "metadata": {
    "ExecuteTime": {
     "end_time": "2022-09-02T03:18:48.877246Z",
     "start_time": "2022-09-02T03:18:48.471946Z"
    }
   },
   "outputs": [],
   "source": [
    "fig = plt.figure(figsize=(8,8))\n",
    "fig.subplots_adjust(hspace=0.0, wspace = 0.0)\n",
    "ax = fig.add_subplot(111)\n",
    "\n",
    "\n",
    "log_L200=np.linspace(28,37,10) #best fit for 3CRR sample\n",
    "y_log_L200=0.73*log_L200+16.6\n",
    "ax.plot(log_L200,y_log_L200,ls=':',color='grey',linewidth=2,label=r'Fitted 3CR $\\pm$ 1 dex')\n",
    "ax.plot(log_L200,y_log_L200-1,ls=':',color='grey',linewidth=2)\n",
    "ax.plot(log_L200,y_log_L200+1,ls=':',color='grey',linewidth=2)\n",
    "\n",
    "y_log_L200_fitted_line= fitted_line.slope.value*log_L200+fitted_line.intercept.value\n",
    "ax.plot(log_L200, fitted_line(log_L200), color='red',ls='-', linewidth=2,label='Fitted Model $\\pm$ 1 dex')\n",
    "ax.plot(log_L200,y_log_L200_fitted_line-1,ls=':',color='red',linewidth=2)\n",
    "ax.plot(log_L200,y_log_L200_fitted_line+1,ls=':',color='red',linewidth=2)\n",
    "\n",
    "\n",
    "ax.errorbar(x, filtered_data, markersize=3,\n",
    "            fmt=\"ko\", label=\"Fitted Data\")\n",
    "\n",
    "RG_OIII_match_LoTSS_selectsnrgt5['fading1dex']=0\n",
    "\n",
    "for index, (ra_,dec_,x_,y_,mask_) in enumerate(zip(RG_OIII_match_LoTSS_selectsnrgt5['RAdeg'],RG_OIII_match_LoTSS_selectsnrgt5['DEdeg'],x,y,mask)):\n",
    "    if mask_:\n",
    "        if x_*fitted_line.slope.value+fitted_line.intercept.value>y_:\n",
    "            ax.errorbar(x_, y_, \n",
    "                #xerr=xerr, yerr=yerr, \n",
    "                markersize=10,\n",
    "                fmt=\"k.\", fillstyle=\"none\", label=r\"Fading 2 $\\sigma$\")            \n",
    "            if x_*fitted_line.slope.value+fitted_line.intercept.value>y_+1:\n",
    "                RG_OIII_match_LoTSS_selectsnrgt5['fading1dex'][index]=1\n",
    "                #print(index,ra_,dec_,'Fading more than 1dex')\n",
    "\n",
    "        else:\n",
    "            #print(name,'Rasing')\n",
    "            ax.errorbar(x_, y_, \n",
    "            #xerr=xerr, yerr=yerr, \n",
    "            markersize=10,\n",
    "            fmt=\"k*\", fillstyle=\"none\", label=r\"Rasing 2 $\\sigma$\")            \n",
    "            \n",
    "#plt.plot(x, line_orig(x), 'b-', label='Simulation Model')\n",
    "#plt.xlim(-2,12)\n",
    "#plt.ylim(-5,25)\n",
    "\n",
    "set_ax_tick(ax)\n",
    "#set_ax_locator(ax)\n",
    "\n",
    "#ax.set_xlabel(r'$L_{5GHz}$ ($\\mathrm{erg s^{-1} Hz^{-1}}$)')\n",
    "#ax.set_ylabel(r'$L_{178MHz}$ ($\\mathrm{erg s^{-1} Hz^{-1} } $)')\n",
    "ax.set_xlabel(r'log $L_{120-168MHz}$ ($\\mathrm{erg s^{-1} Hz^{-1}}$)')\n",
    "ax.set_ylabel(r'log $L_{OIII}$ ($\\mathrm{erg s^{-1}}$)')\n",
    "\n",
    "\n",
    "ax.xaxis.set_tick_params(which='major', size=10, width=2, rotation=45,)\n",
    "handles, labels = ax.get_legend_handles_labels()\n",
    "# remove the errorbars\n",
    "#hdl = [h[0] for h in handles]\n",
    "hdl = handles\n",
    "labels_dict=dict(zip(labels, hdl)) #key,values\n",
    "by_label=OrderedDict(sorted(labels_dict.items(),key=lambda t:t[0]))\n",
    "\n",
    "#ax.set_title('Plate = %(plate)i, MJD = %(mjd)i, Fiber = %(fiber)i' % locals())\n",
    "ax.set_title('radio galaxies SDSS match LoTSS')\n",
    "\n",
    "ax.legend(by_label.values(), by_label.keys(), bbox_to_anchor=(0.01, 0.99),loc=2, numpoints=1,ncol=1,fontsize=11.)\n",
    "#plt.legend(fontsize=11.)\n",
    "plt.show()\n",
    "fig.savefig('LoTSS_cat_LOIII_Lradio_clip_%s_sigma_fading.png'%sigma, dpi=100, transparent=False, bbox_inches='tight')\n",
    "#plt.savefig('L200MHz_LOIII_TGSS_SDSS.png',dpi=400, transparent=False, bbox_inches='tight')\n",
    "            "
   ]
  },
  {
   "cell_type": "code",
   "execution_count": null,
   "metadata": {
    "ExecuteTime": {
     "end_time": "2022-09-01T14:43:52.968785Z",
     "start_time": "2022-09-01T14:43:52.953558Z"
    }
   },
   "outputs": [],
   "source": [
    "RG_OIII_match_LoTSS_selectsnrgt5_fadeing=RG_OIII_match_LoTSS_selectsnrgt5[RG_OIII_match_LoTSS_selectsnrgt5['fading1dex']==1]\n",
    "\n",
    "RG_OIII_match_LoTSS_selectsnrgt5_fadeing[['RAdeg','DEdeg']].to_pandas().to_csv('%s/RG_OIII_match_LoTSS_selectsnrgt5_fadeing.csv'%Surveyfits_root,\n",
    "                                                            float_format='%.5f',index=False)\n",
    "\n"
   ]
  },
  {
   "cell_type": "code",
   "execution_count": null,
   "metadata": {
    "ExecuteTime": {
     "end_time": "2022-08-31T09:23:28.045567Z",
     "start_time": "2022-08-31T09:23:28.028297Z"
    }
   },
   "outputs": [],
   "source": [
    "RG_OIII_match_LoTSS_selectsnrgt5_fadeing"
   ]
  },
  {
   "cell_type": "code",
   "execution_count": null,
   "metadata": {
    "ExecuteTime": {
     "end_time": "2022-08-31T09:26:38.378464Z",
     "start_time": "2022-08-31T09:26:38.357839Z"
    }
   },
   "outputs": [],
   "source": [
    "RG_OIII_match_LoTSS_selectsnrgt5_fadeing[RG_OIII_match_LoTSS_selectsnrgt5_fadeing['z']<0.4]"
   ]
  },
  {
   "cell_type": "code",
   "execution_count": null,
   "metadata": {},
   "outputs": [],
   "source": []
  },
  {
   "cell_type": "markdown",
   "metadata": {},
   "source": [
    "# 3CRR SDSS_galaxies_emission_line"
   ]
  },
  {
   "cell_type": "code",
   "execution_count": null,
   "metadata": {
    "ExecuteTime": {
     "end_time": "2022-08-31T03:03:17.542011Z",
     "start_time": "2022-08-31T03:03:17.397481Z"
    }
   },
   "outputs": [],
   "source": [
    "# crossmatch catalogs\n",
    "max_radius = 10. / 3600  # 1 arcsec\n",
    "dist, ind = crossmatch_angular(p3CRR_NEDX,SDSS_galaxies_emission_lineX,  max_radius)\n",
    "match = ~np.isinf(dist)# '~np.isinf' vs 'np.isinf'\n",
    "\n",
    "dist_match = dist[match]\n",
    "dist_match *= 3600 #convert to arcsec\n",
    "\n",
    "fig = plt.figure(figsize=(4, 4))\n",
    "# Add axes object to our figure that takes up entire figure\n",
    "ax = fig.add_axes([0, 0, 1, 1])\n",
    "hist(dist_match,\n",
    "     #bins='knuth',\n",
    "     bins=30,\n",
    "     ax=ax, #\n",
    "     histtype='stepfilled', ec='k', fc='#AAAAAA')\n",
    "\n",
    "ax.set_xlabel('radius of match (arcsec)')\n",
    "ax.set_ylabel('N(r, r+dr)')\n",
    "ax.text(0.95, 0.95,\n",
    "        \"Total objects: %i\\nNumber with match: %i\" % (p3CRR_NEDX.shape[0],\n",
    "                                                      np.sum(match)),\n",
    "        ha='right', va='top', transform=ax.transAxes)\n",
    "\n",
    "ax.set_xlim(0, max_radius*3600)\n",
    "set_ax_tick(ax)\n",
    "plt.show()\n"
   ]
  },
  {
   "cell_type": "markdown",
   "metadata": {},
   "source": [
    "# def dowanload_wise"
   ]
  },
  {
   "cell_type": "markdown",
   "metadata": {
    "ExecuteTime": {
     "end_time": "2022-08-31T05:03:16.829380Z",
     "start_time": "2022-08-31T05:03:11.407314Z"
    }
   },
   "source": [
    "pip install astroquery"
   ]
  },
  {
   "cell_type": "code",
   "execution_count": null,
   "metadata": {
    "ExecuteTime": {
     "end_time": "2022-08-31T05:03:23.161004Z",
     "start_time": "2022-08-31T05:03:23.033576Z"
    }
   },
   "outputs": [],
   "source": [
    "from astropy import config as _config\n",
    "from astroquery.irsa import Irsa   \n",
    "from astropy import units as u\n",
    "from astropy.coordinates import SkyCoord"
   ]
  },
  {
   "cell_type": "code",
   "execution_count": null,
   "metadata": {
    "ExecuteTime": {
     "end_time": "2022-08-31T05:03:56.566298Z",
     "start_time": "2022-08-31T05:03:56.554367Z"
    }
   },
   "outputs": [],
   "source": [
    "#Irsa.ROW_LIMIT = 1000 # value of new row limit here.\n",
    "#Irsa.TIMEOUT = 120\n",
    "\n",
    "def download_wise_withname(name,wisedata_path):\n",
    "\n",
    "    #print(i)\n",
    "    search_name=name.replace(' ','') \n",
    "    save_name=name.strip().replace(' ','') \n",
    "   \n",
    "    if not os.path.exists('%s/wise_%s_mep.csv'%(wisedata_path,save_name)):\n",
    "        print(search_name)\n",
    "        try:\n",
    "            Irsa.ROW_LIMIT = 1000\n",
    "            Irsa.TIMEOUT = 120\n",
    "            table_wise_mep=Irsa.query_region(search_name,catalog='allwise_p3as_mep',spatial='Cone',radius=10*u.arcsec,)\n",
    "            table_wise_mep.write('%s/wise_%s_mep.csv'%(wisedata_path,save_name), format='csv')\n",
    "            time.sleep(10+np.random.randint(5,10))\n",
    "        except Exception:\n",
    "            print(name)\n",
    "            #continue\n",
    "            #raise             \n",
    "    \n",
    "    if not os.path.exists('%s/wise_%s_neo.csv'%(wisedata_path,save_name)):\n",
    "        try:\n",
    "            Irsa.ROW_LIMIT = 1000\n",
    "            Irsa.TIMEOUT = 120\n",
    "\n",
    "            table_wise_neo=Irsa.query_region(search_name,catalog='neowiser_p1bs_psd',spatial='Cone',radius=10*u.arcsec,)  \n",
    "            table_wise_neo.write('%s/wise_%s_neo.csv'%(wisedata_path,save_name), format='csv')       \n",
    "            time.sleep(10+np.random.randint(5,10))   \n",
    "        except Exception:\n",
    "            #continue\n",
    "            print(name)\n",
    "            #raise                "
   ]
  },
  {
   "cell_type": "markdown",
   "metadata": {},
   "source": [
    "# def download_wise_withradec"
   ]
  },
  {
   "cell_type": "code",
   "execution_count": null,
   "metadata": {
    "ExecuteTime": {
     "end_time": "2022-08-31T06:26:14.140851Z",
     "start_time": "2022-08-31T06:26:14.125439Z"
    }
   },
   "outputs": [],
   "source": [
    "#Irsa.ROW_LIMIT = 1000 # value of new row limit here.\n",
    "#Irsa.TIMEOUT = 120\n",
    "\n",
    "def download_wise_withradec(radeg,decdeg,wisedata_path):\n",
    "\n",
    "    #print(i)\n",
    "    #search_name=name.replace(' ','') \n",
    "    #save_name=name.strip().replace(' ','') \n",
    "    save_name='RA%.5f_DEC%.5f'%(radeg,decdeg)\n",
    "    name=save_name\n",
    "    \n",
    "    if not os.path.exists('%s/wise_%s_mep.csv'%(wisedata_path,save_name)):\n",
    "        #print(search_name)\n",
    "        try:\n",
    "            Irsa.ROW_LIMIT = 1000\n",
    "            Irsa.TIMEOUT = 120\n",
    "            table_wise_mep=Irsa.query_region(coord.SkyCoord(radeg,\n",
    "                             decdeg, unit=(u.deg,u.deg),frame='icrs'),\n",
    "                            catalog='allwise_p3as_mep',\n",
    "                            spatial='Cone',radius=10*u.arcsec,)\n",
    "            \n",
    "            \n",
    "                           \n",
    "            table_wise_mep.write('%s/wise_%s_mep.csv'%(wisedata_path,save_name), format='csv')\n",
    "            time.sleep(10+np.random.randint(5,10))\n",
    "        except Exception:\n",
    "            print(name,'mep')\n",
    "            #continue\n",
    "            #raise             \n",
    "    \n",
    "    if not os.path.exists('%s/wise_%s_neo.csv'%(wisedata_path,save_name)):\n",
    "        try:\n",
    "            Irsa.ROW_LIMIT = 1000\n",
    "            Irsa.TIMEOUT = 120\n",
    "\n",
    "            table_wise_neo=Irsa.query_region(coord.SkyCoord(radeg,\n",
    "                             decdeg, unit=(u.deg,u.deg),frame='icrs'),\n",
    "                             catalog='neowiser_p1bs_psd',spatial='Cone',radius=10*u.arcsec,)  \n",
    "            table_wise_neo.write('%s/wise_%s_neo.csv'%(wisedata_path,save_name), format='csv')       \n",
    "            time.sleep(10+np.random.randint(5,10))   \n",
    "        except Exception:\n",
    "            #continue\n",
    "            print(name,'neo')\n",
    "            #raise                "
   ]
  },
  {
   "cell_type": "code",
   "execution_count": null,
   "metadata": {
    "ExecuteTime": {
     "end_time": "2022-08-31T08:36:45.082290Z",
     "start_time": "2022-08-31T08:36:45.068506Z"
    }
   },
   "outputs": [],
   "source": [
    "wisedata_path_GGSM='%s/FadingGalaxy_wisedata/FadingGalaxy_GGSM_wisedata'%Surveyfits_root\n",
    "if not os.path.exists(wisedata_path_GGSM):\n",
    "    os.mkdir(wisedata_path_GGSM)\n",
    "\n",
    "wiseplot_path_GGSM='%s/FadingGalaxy_wisedata/FadingGalaxy_GGSM_wiseplot'%Surveyfits_root\n",
    "if not os.path.exists(wiseplot_path_GGSM):\n",
    "    os.mkdir(wiseplot_path_GGSM)\n",
    "    \n",
    "wise_rebin_plot_path_GGSM='%s/FadingGalaxy_wisedata/FadingGalaxy_GGSM_wiseplot_rebin'%Surveyfits_root\n",
    "if not os.path.exists(wise_rebin_plot_path_GGSM):\n",
    "    os.mkdir(wise_rebin_plot_path_GGSM)\n",
    "    \n",
    "wisedata_path_TGSS='%s/FadingGalaxy_wisedata/FadingGalaxy_TGSS_wisedata'%Surveyfits_root\n",
    "if not os.path.exists(wisedata_path_TGSS):\n",
    "    os.mkdir(wisedata_path_TGSS)\n",
    "\n",
    "wiseplot_path_TGSS='%s/FadingGalaxy_wisedata/FadingGalaxy_TGSS_wiseplot'%Surveyfits_root\n",
    "if not os.path.exists(wiseplot_path_TGSS):\n",
    "    os.mkdir(wiseplot_path_TGSS)\n",
    "    \n",
    "wise_rebin_plot_path_TGSS='%s/FadingGalaxy_wisedata/FadingGalaxy_TGSS_wiseplot_rebin'%Surveyfits_root\n",
    "if not os.path.exists(wise_rebin_plot_path_TGSS):\n",
    "    os.mkdir(wise_rebin_plot_path_TGSS)\n",
    "\n",
    "wisedata_path_LoTSS='%s/FadingGalaxy_wisedata/FadingGalaxy_LoTSS_wisedata'%Surveyfits_root\n",
    "if not os.path.exists(wisedata_path_LoTSS):\n",
    "    os.mkdir(wisedata_path_LoTSS)\n",
    "\n",
    "wiseplot_path_LoTSS='%s/FadingGalaxy_wisedata/FadingGalaxy_LoTSS_wiseplot'%Surveyfits_root\n",
    "if not os.path.exists(wiseplot_path_LoTSS):\n",
    "    os.mkdir(wiseplot_path_LoTSS)\n",
    "    \n",
    "wise_rebin_plot_path_LoTSS='%s/FadingGalaxy_wisedata/FadingGalaxy_LoTSS_wiseplot_rebin'%Surveyfits_root\n",
    "if not os.path.exists(wise_rebin_plot_path_LoTSS):\n",
    "    os.mkdir(wise_rebin_plot_path_LoTSS)\n",
    "    "
   ]
  },
  {
   "cell_type": "code",
   "execution_count": null,
   "metadata": {
    "ExecuteTime": {
     "end_time": "2022-09-01T14:42:07.833886Z",
     "start_time": "2022-09-01T14:42:07.813817Z"
    }
   },
   "outputs": [],
   "source": [
    "RG_OIII_match_LoTSS_selectsnrgt5_fadeing_radec=pd.read_csv('%s/RG_OIII_match_LoTSS_selectsnrgt5_fadeing.csv'%Surveyfits_root)\n",
    "print(len(RG_OIII_match_LoTSS_selectsnrgt5_fadeing))\n",
    "for index, (radeg,decdeg) in enumerate(zip(RG_OIII_match_LoTSS_selectsnrgt5_fadeing_radec['RAdeg'],RG_OIII_match_LoTSS_selectsnrgt5_fadeing['DEdeg'])):\n",
    "    download_wise_withradec(radeg,decdeg,wisedata_path_LoTSS) \n",
    "    #save_name='RA%.5f_DEC%.5f'%(radeg,decdeg)\n",
    "    #print(save_name)"
   ]
  },
  {
   "cell_type": "code",
   "execution_count": null,
   "metadata": {
    "ExecuteTime": {
     "end_time": "2022-09-01T14:42:12.979053Z",
     "start_time": "2022-09-01T14:42:12.962911Z"
    }
   },
   "outputs": [],
   "source": [
    "RG_OIII_match_TGSS_selectsnrgt5_fadeing_radec=pd.read_csv('%s/RG_OIII_match_TGSS_selectsnrgt5_fadeing.csv'%Surveyfits_root)\n",
    "print(len(RG_OIII_match_TGSS_selectsnrgt5_fadeing))\n",
    "for index, (radeg,decdeg) in enumerate(zip(RG_OIII_match_TGSS_selectsnrgt5_fadeing['RAdeg'],RG_OIII_match_TGSS_selectsnrgt5_fadeing['DEdeg'])):\n",
    "    download_wise_withradec(radeg,decdeg,wisedata_path_TGSS)\n",
    "    #save_name='RA%.5f_DEC%.5f'%(radeg,decdeg)\n",
    "    #print(save_name,wisedata_path_TGSS)"
   ]
  },
  {
   "cell_type": "code",
   "execution_count": null,
   "metadata": {
    "ExecuteTime": {
     "end_time": "2022-09-01T14:42:16.545804Z",
     "start_time": "2022-09-01T14:42:16.531060Z"
    }
   },
   "outputs": [],
   "source": [
    "RG_OIII_match_GGSM_selectsnrgt5_fadeing_radec=pd.read_csv('%s/RG_OIII_match_GGSM_selectsnrgt5_fadeing.csv'%Surveyfits_root)\n",
    "print(len(RG_OIII_match_GGSM_selectsnrgt5_fadeing))\n",
    "for index, (radeg,decdeg) in enumerate(zip(RG_OIII_match_GGSM_selectsnrgt5_fadeing['RAdeg'],RG_OIII_match_GGSM_selectsnrgt5_fadeing['DEdeg'])):\n",
    "    download_wise_withradec(radeg,decdeg,wisedata_path_GGSM)\n",
    "    #save_name='RA%.5f_DEC%.5f'%(radeg,decdeg)\n",
    "    #print(save_name)\n"
   ]
  },
  {
   "cell_type": "code",
   "execution_count": null,
   "metadata": {},
   "outputs": [],
   "source": []
  },
  {
   "cell_type": "markdown",
   "metadata": {},
   "source": [
    "# RG_OIII_match_Radio_selectsnrgt5_fadeing_all"
   ]
  },
  {
   "cell_type": "code",
   "execution_count": null,
   "metadata": {
    "ExecuteTime": {
     "end_time": "2022-09-01T14:59:42.156245Z",
     "start_time": "2022-09-01T14:59:42.148504Z"
    }
   },
   "outputs": [],
   "source": [
    "RG_OIII_match_LoTSS_selectsnrgt5_fadeing['Radio_Ins']='LOTSS'"
   ]
  },
  {
   "cell_type": "code",
   "execution_count": null,
   "metadata": {
    "ExecuteTime": {
     "end_time": "2022-09-01T14:59:42.575668Z",
     "start_time": "2022-09-01T14:59:42.570871Z"
    }
   },
   "outputs": [],
   "source": [
    "RG_OIII_match_TGSS_selectsnrgt5_fadeing['Radio_Ins']='TGSS'"
   ]
  },
  {
   "cell_type": "code",
   "execution_count": null,
   "metadata": {
    "ExecuteTime": {
     "end_time": "2022-09-01T14:59:42.933708Z",
     "start_time": "2022-09-01T14:59:42.928862Z"
    }
   },
   "outputs": [],
   "source": [
    "RG_OIII_match_GGSM_selectsnrgt5_fadeing['Radio_Ins']='GGSM'"
   ]
  },
  {
   "cell_type": "code",
   "execution_count": null,
   "metadata": {},
   "outputs": [],
   "source": [
    "RG_OIII_match_Radio_selectsnrgt5_fadeing_all"
   ]
  },
  {
   "cell_type": "code",
   "execution_count": null,
   "metadata": {
    "ExecuteTime": {
     "end_time": "2022-09-02T08:39:55.696042Z",
     "start_time": "2022-09-02T08:39:55.669205Z"
    }
   },
   "outputs": [],
   "source": [
    "from astropy.table import Column, Table, vstack\n",
    "RG_OIII_match_Radio_selectsnrgt5_fadeing_all=vstack([RG_OIII_match_LoTSS_selectsnrgt5_fadeing,RG_OIII_match_TGSS_selectsnrgt5_fadeing,RG_OIII_match_GGSM_selectsnrgt5_fadeing])"
   ]
  },
  {
   "cell_type": "code",
   "execution_count": null,
   "metadata": {
    "ExecuteTime": {
     "end_time": "2022-09-02T08:32:36.658256Z",
     "start_time": "2022-09-02T08:32:36.651653Z"
    }
   },
   "outputs": [],
   "source": [
    "RG_OIII_match_Radio_selectsnrgt5_fadeing_all.colnames"
   ]
  },
  {
   "cell_type": "code",
   "execution_count": null,
   "metadata": {
    "ExecuteTime": {
     "end_time": "2022-09-02T07:52:32.829518Z",
     "start_time": "2022-09-02T07:52:32.810911Z"
    }
   },
   "outputs": [],
   "source": [
    "RG_OIII_match_Radio_selectsnrgt5_fadeing_all[RG_OIII_match_Radio_selectsnrgt5_fadeing_all['z']>0.4]"
   ]
  },
  {
   "cell_type": "code",
   "execution_count": null,
   "metadata": {
    "ExecuteTime": {
     "end_time": "2022-09-02T07:55:34.279160Z",
     "start_time": "2022-09-02T07:55:34.213272Z"
    }
   },
   "outputs": [],
   "source": [
    "fig = plt.figure(figsize=(5,3))\n",
    "fig.subplots_adjust(hspace=0.0, wspace = 0.0)\n",
    "ax = fig.add_subplot(111)\n",
    "\n",
    "set_ax_tick(ax)\n",
    "ax.set_xlim(0.01,0.5)\n",
    "\n",
    "plt.hist(RG_OIII_match_Radio_selectsnrgt5_fadeing_all['z'])\n",
    "\n",
    "plt.xlabel('z')\n",
    "plt.ylabel('N')"
   ]
  },
  {
   "cell_type": "code",
   "execution_count": null,
   "metadata": {
    "ExecuteTime": {
     "end_time": "2022-09-01T14:59:49.374578Z",
     "start_time": "2022-09-01T14:59:49.352335Z"
    }
   },
   "outputs": [],
   "source": [
    "RG_OIII_match_Radio_selectsnrgt5_fadeing_all"
   ]
  },
  {
   "cell_type": "code",
   "execution_count": null,
   "metadata": {
    "ExecuteTime": {
     "end_time": "2022-09-02T08:16:05.275496Z",
     "start_time": "2022-09-02T08:16:05.264449Z"
    }
   },
   "outputs": [],
   "source": [
    "Sources_radec=[]\n",
    "\n",
    "for index, (ra_,dec_) in enumerate(zip(RG_OIII_match_Radio_selectsnrgt5_fadeing_all['RAdeg'],RG_OIII_match_Radio_selectsnrgt5_fadeing_all['DEdeg'])):\n",
    "    if (ra_,dec_) not in Sources_radec:\n",
    "        Sources_radec.append((ra_,dec_))\n",
    "        "
   ]
  },
  {
   "cell_type": "code",
   "execution_count": null,
   "metadata": {
    "ExecuteTime": {
     "end_time": "2022-09-02T08:16:05.758293Z",
     "start_time": "2022-09-02T08:16:05.753504Z"
    }
   },
   "outputs": [],
   "source": [
    "len(Sources_radec)"
   ]
  },
  {
   "cell_type": "code",
   "execution_count": null,
   "metadata": {
    "ExecuteTime": {
     "end_time": "2022-09-02T08:16:30.135746Z",
     "start_time": "2022-09-02T08:16:30.121777Z"
    }
   },
   "outputs": [],
   "source": [
    "Sources_radec"
   ]
  },
  {
   "cell_type": "code",
   "execution_count": null,
   "metadata": {},
   "outputs": [],
   "source": []
  },
  {
   "cell_type": "code",
   "execution_count": null,
   "metadata": {
    "ExecuteTime": {
     "end_time": "2022-09-05T08:21:05.959150Z",
     "start_time": "2022-09-05T08:21:05.943957Z"
    }
   },
   "outputs": [],
   "source": [
    "RG_OIII_match_Radio_selectsnrgt5_fadeing_all[['RAdeg','DEdeg','Plate','MJD','Fiber','Radio_Ins']].to_pandas().to_csv('%s/RG_OIII_match_ALL_selectsnrgt5_fadeing_radec.csv'%Surveyfits_root,\n",
    "                                                            float_format='%.5f',index=False, sep=',') #delimiter=' ')#sep='\\s')\n"
   ]
  },
  {
   "cell_type": "code",
   "execution_count": null,
   "metadata": {},
   "outputs": [],
   "source": []
  },
  {
   "cell_type": "code",
   "execution_count": null,
   "metadata": {
    "ExecuteTime": {
     "end_time": "2022-09-02T08:12:49.039806Z",
     "start_time": "2022-09-02T08:12:49.027547Z"
    }
   },
   "outputs": [],
   "source": [
    "RG_OIII_match_Radio_selectsnrgt5_fadeing_all[['RAdeg','DEdeg']]"
   ]
  },
  {
   "cell_type": "markdown",
   "metadata": {},
   "source": [
    "## IRSA_TABLE"
   ]
  },
  {
   "cell_type": "code",
   "execution_count": null,
   "metadata": {
    "ExecuteTime": {
     "end_time": "2022-09-02T06:06:08.065359Z",
     "start_time": "2022-09-02T06:06:08.053399Z"
    }
   },
   "outputs": [],
   "source": [
    "with open('%s/RG_OIII_match_ALL_selectsnrgt5_fadeing.tbl'%Surveyfits_root,'w+') as f:\n",
    "    f.write(\"\\catalog = 'Sample Catalog ' \\n\")\n",
    "    f.write(\"\\ A sample table comment  \\n\" )\n",
    "    f.write(\"|    ra      |    dec        | \"+'\\n')\n",
    "    f.write(\"|    double  |    double     | \"+'\\n')\n",
    "    f.write(\"|    deg     |    deg        | \"+'\\n')\n",
    "    for i,(ra_,dec_) in enumerate(zip(RG_OIII_match_Radio_selectsnrgt5_fadeing_all['RAdeg'],RG_OIII_match_Radio_selectsnrgt5_fadeing_all['DEdeg'])):\n",
    "        f.write('  {0:14} {1:14} \\n'.format('%.6f'%ra_,'%.6f'%dec_))"
   ]
  },
  {
   "cell_type": "code",
   "execution_count": null,
   "metadata": {},
   "outputs": [],
   "source": [
    "\\catalog = 'Sample Catalog'\n",
    "\\ A sample table comment\n",
    "|   ra      |    dec    |\n",
    "|   double  |    double | \n",
    "|   deg     |    deg    | \n",
    "|   null    |    null   | "
   ]
  },
  {
   "cell_type": "markdown",
   "metadata": {},
   "source": [
    "# Fadeing_allX"
   ]
  },
  {
   "cell_type": "code",
   "execution_count": null,
   "metadata": {
    "ExecuteTime": {
     "end_time": "2022-09-02T03:07:10.844107Z",
     "start_time": "2022-09-02T03:07:10.833583Z"
    }
   },
   "outputs": [],
   "source": [
    "Fadeing_allX=np.empty((len(RG_OIII_match_Radio_selectsnrgt5_fadeing_all), 2), dtype=np.float64)\n",
    "Fadeing_allX[:, 0] = RG_OIII_match_Radio_selectsnrgt5_fadeing_all['RAdeg']\n",
    "Fadeing_allX[:, 1] = RG_OIII_match_Radio_selectsnrgt5_fadeing_all['DEdeg']"
   ]
  },
  {
   "cell_type": "code",
   "execution_count": null,
   "metadata": {
    "ExecuteTime": {
     "end_time": "2022-09-02T03:09:00.425467Z",
     "start_time": "2022-09-02T03:09:00.403664Z"
    }
   },
   "outputs": [],
   "source": [
    "Fadeing_wisedata=pd.read_csv('%s/Fading_RG_WISEdata.csv'%Surveyfits_root)\n",
    "Fadeing_wisedata_Table= Table.read('%s/Fading_RG_WISEdata.csv'%Surveyfits_root)"
   ]
  },
  {
   "cell_type": "markdown",
   "metadata": {},
   "source": [
    "## Fadeing_wisedata_Table"
   ]
  },
  {
   "cell_type": "code",
   "execution_count": null,
   "metadata": {
    "ExecuteTime": {
     "end_time": "2022-09-05T02:01:09.172646Z",
     "start_time": "2022-09-05T02:01:09.154201Z"
    }
   },
   "outputs": [],
   "source": [
    "Fadeing_wisedata_Table"
   ]
  },
  {
   "cell_type": "code",
   "execution_count": null,
   "metadata": {
    "ExecuteTime": {
     "end_time": "2022-09-02T13:52:16.692037Z",
     "start_time": "2022-09-02T13:52:16.678388Z"
    }
   },
   "outputs": [],
   "source": [
    "for index,ra_ in enumerate(Fadeing_wisedata_Table['ra']):\n",
    "    print(Fadeing_wisedata_Table['ra'][index],Fadeing_wisedata_Table['dec'][index],RG_OIII_match_Radio_selectsnrgt5_fadeing_all['RAdeg'][index],RG_OIII_match_Radio_selectsnrgt5_fadeing_all['DEdeg'][index])"
   ]
  },
  {
   "cell_type": "markdown",
   "metadata": {},
   "source": [
    "# def WISEmagtoLum"
   ]
  },
  {
   "cell_type": "markdown",
   "metadata": {},
   "source": [
    "[AB magnitude System](https://lweb.cfa.harvard.edu/~dfabricant/huchra/ay145/mags.html)\n",
    "\n",
    "This magnitude system is defined such that, when monochromatic flux f is measured in erg sec^-1 cm^-2 Hz^-1,  \n",
    "\n",
    "m(AB) = -2.5 log(f) - 48.60\n",
    "\n",
    "$m(AB)= m(vega)+ \\Delta M$\t(Eq. 4)\n",
    "\n"
   ]
  },
  {
   "cell_type": "markdown",
   "metadata": {},
   "source": [
    "[Table 3 - Conversion to the AB system](https://wise2.ipac.caltech.edu/docs/release/allsky/expsup/sec4_4h.html#conv2flux)  \n",
    "(mAB = mVega + Δm)  \n",
    "Band\tmagnitude offset (Δm)   \n",
    "W1\t2.699  \n",
    "W2\t3.339  \n",
    "W3\t5.174  \n",
    "W4\t6.620  \n"
   ]
  },
  {
   "cell_type": "code",
   "execution_count": null,
   "metadata": {
    "ExecuteTime": {
     "end_time": "2022-09-05T02:25:45.683663Z",
     "start_time": "2022-09-05T02:25:45.673415Z"
    }
   },
   "outputs": [],
   "source": [
    "def W1mag_to_Lum(w1,d_cm):\n",
    "    Lum=(-48.6-w1-2.699)/2.5+np.log10(4*np.pi*d_cm**2)+np.log10((constants.c/(3.4*u.um)).to(u.Hz).value)\n",
    "    return Lum #logLum\n",
    "\n",
    "def W2mag_to_Lum(w2,d_cm):\n",
    "    Lum=(-48.6-w2-3.339)/2.5+np.log10(4*np.pi*d_cm**2)+np.log10((constants.c/(4.6*u.um)).to(u.Hz).value)\n",
    "    return Lum #logLum\n",
    " \n",
    "\n",
    "def W3mag_to_Lum(w3,d_cm):\n",
    "    Lum=(-48.6-w3-5.174)/2.5+np.log10(4*np.pi*d_cm**2)+np.log10((constants.c/(12*u.um)).to(u.Hz).value)\n",
    "    return Lum #logLum\n",
    "\n",
    "def W4mag_to_Lum(w4,d_cm):\n",
    "    Lum=(-48.6-w4-6.620)/2.5+np.log10(4*np.pi*d_cm**2)+np.log10((constants.c/(22*u.um)).to(u.Hz).value)\n",
    "    return Lum #logLum"
   ]
  },
  {
   "cell_type": "code",
   "execution_count": null,
   "metadata": {},
   "outputs": [],
   "source": []
  },
  {
   "cell_type": "code",
   "execution_count": null,
   "metadata": {},
   "outputs": [],
   "source": []
  },
  {
   "cell_type": "code",
   "execution_count": null,
   "metadata": {},
   "outputs": [],
   "source": []
  },
  {
   "cell_type": "code",
   "execution_count": null,
   "metadata": {},
   "outputs": [],
   "source": []
  },
  {
   "cell_type": "code",
   "execution_count": null,
   "metadata": {
    "ExecuteTime": {
     "end_time": "2022-09-02T08:40:11.758405Z",
     "start_time": "2022-09-02T08:40:11.739185Z"
    }
   },
   "outputs": [],
   "source": [
    "RG_OIII_match_Radio_selectsnrgt5_fadeing_all\n"
   ]
  },
  {
   "cell_type": "code",
   "execution_count": null,
   "metadata": {
    "ExecuteTime": {
     "end_time": "2022-09-02T08:40:13.396602Z",
     "start_time": "2022-09-02T08:40:13.388125Z"
    }
   },
   "outputs": [],
   "source": [
    "Fadeing_wisedata_Table.colnames"
   ]
  },
  {
   "cell_type": "code",
   "execution_count": null,
   "metadata": {
    "ExecuteTime": {
     "end_time": "2022-09-05T02:02:30.149315Z",
     "start_time": "2022-09-05T02:02:30.144321Z"
    }
   },
   "outputs": [],
   "source": [
    "labels_add=[\n",
    " 'ra',\n",
    " 'dec',\n",
    " 'w1mpro',\n",
    " 'w1sigmpro',\n",
    " 'w2mpro',\n",
    " 'w2sigmpro',\n",
    " 'w3mpro',\n",
    " 'w4mpro'  \n",
    "]"
   ]
  },
  {
   "cell_type": "markdown",
   "metadata": {
    "ExecuteTime": {
     "end_time": "2022-09-02T08:21:17.292054Z",
     "start_time": "2022-09-02T08:21:17.283134Z"
    }
   },
   "source": [
    "RG_OIII_match_Radio_selectsnrgt5_fadeing_all.colnames"
   ]
  },
  {
   "cell_type": "code",
   "execution_count": null,
   "metadata": {
    "ExecuteTime": {
     "end_time": "2022-09-02T08:21:57.819213Z",
     "start_time": "2022-09-02T08:21:57.810892Z"
    }
   },
   "outputs": [],
   "source": [
    "len(RG_OIII_match_Radio_selectsnrgt5_fadeing_all),len(Fadeing_wisedata_Table)"
   ]
  },
  {
   "cell_type": "markdown",
   "metadata": {},
   "source": [
    "## RG_OIII_match_Radio_selectsnrgt5_fadeing_all_copy"
   ]
  },
  {
   "cell_type": "code",
   "execution_count": null,
   "metadata": {
    "ExecuteTime": {
     "end_time": "2022-09-05T02:27:24.079116Z",
     "start_time": "2022-09-05T02:27:24.068293Z"
    }
   },
   "outputs": [],
   "source": [
    "RG_OIII_match_Radio_selectsnrgt5_fadeing_all_copy=RG_OIII_match_Radio_selectsnrgt5_fadeing_all.copy()"
   ]
  },
  {
   "cell_type": "markdown",
   "metadata": {
    "ExecuteTime": {
     "end_time": "2022-09-02T08:39:12.037173Z",
     "start_time": "2022-09-02T08:39:12.022242Z"
    }
   },
   "source": [
    "for label in labels_add:\n",
    "    RG_OIII_match_Radio_selectsnrgt5_fadeing_all_copy[label+'_wise']=0"
   ]
  },
  {
   "cell_type": "code",
   "execution_count": null,
   "metadata": {
    "ExecuteTime": {
     "end_time": "2022-09-05T02:27:27.086448Z",
     "start_time": "2022-09-05T02:27:27.071092Z"
    }
   },
   "outputs": [],
   "source": [
    "for label in labels_add:\n",
    "    RG_OIII_match_Radio_selectsnrgt5_fadeing_all_copy[label+'_wise']=-0.0\n",
    "    for index, (ra_,dec_) in enumerate(zip(RG_OIII_match_Radio_selectsnrgt5_fadeing_all_copy['RAdeg'],RG_OIII_match_Radio_selectsnrgt5_fadeing_all_copy['DEdeg'])):\n",
    "        #print(Fadeing_wisedata_Table[label][index])\n",
    "        #if Fadeing_wisedata_Table[label][index]:\n",
    "        RG_OIII_match_Radio_selectsnrgt5_fadeing_all_copy[label+'_wise'][index]=Fadeing_wisedata_Table[label][index]\n",
    "        #else:\n",
    "        #RG_OIII_match_Radio_selectsnrgt5_fadeing_all[label+'_wise'][index]=0\n",
    "            \n"
   ]
  },
  {
   "cell_type": "code",
   "execution_count": null,
   "metadata": {
    "ExecuteTime": {
     "end_time": "2022-09-05T02:27:30.904845Z",
     "start_time": "2022-09-05T02:27:30.893528Z"
    }
   },
   "outputs": [],
   "source": [
    "RG_OIII_match_Radio_selectsnrgt5_fadeing_all.colnames"
   ]
  },
  {
   "cell_type": "code",
   "execution_count": null,
   "metadata": {
    "ExecuteTime": {
     "end_time": "2022-09-05T02:27:34.940593Z",
     "start_time": "2022-09-05T02:27:34.932462Z"
    }
   },
   "outputs": [],
   "source": [
    "RG_OIII_match_Radio_selectsnrgt5_fadeing_all_copy.colnames"
   ]
  },
  {
   "cell_type": "code",
   "execution_count": null,
   "metadata": {
    "ExecuteTime": {
     "end_time": "2022-09-05T02:27:39.726372Z",
     "start_time": "2022-09-05T02:27:39.718847Z"
    }
   },
   "outputs": [],
   "source": [
    "RG_OIII_match_Radio_selectsnrgt5_fadeing_all_copy[['RAdeg','DEdeg','ra_wise','dec_wise']]"
   ]
  },
  {
   "cell_type": "code",
   "execution_count": null,
   "metadata": {
    "ExecuteTime": {
     "end_time": "2022-09-05T02:27:58.294232Z",
     "start_time": "2022-09-05T02:27:58.281941Z"
    }
   },
   "outputs": [],
   "source": [
    "RG_OIII_match_Radio_selectsnrgt5_fadeing_all_copy['logLw1']=W1mag_to_Lum(RG_OIII_match_Radio_selectsnrgt5_fadeing_all_copy['w1mpro_wise'],RG_OIII_match_Radio_selectsnrgt5_fadeing_all_copy['Dcm'])\n",
    "\n",
    "RG_OIII_match_Radio_selectsnrgt5_fadeing_all_copy['logLw2']=W2mag_to_Lum(RG_OIII_match_Radio_selectsnrgt5_fadeing_all_copy['w2mpro_wise'],RG_OIII_match_Radio_selectsnrgt5_fadeing_all_copy['Dcm'])\n",
    "\n",
    "\n",
    "RG_OIII_match_Radio_selectsnrgt5_fadeing_all_copy['logLw3']=W3mag_to_Lum(RG_OIII_match_Radio_selectsnrgt5_fadeing_all_copy['w3mpro_wise'],RG_OIII_match_Radio_selectsnrgt5_fadeing_all_copy['Dcm'])\n",
    "\n",
    "RG_OIII_match_Radio_selectsnrgt5_fadeing_all_copy['logLw4']=W4mag_to_Lum(RG_OIII_match_Radio_selectsnrgt5_fadeing_all_copy['w4mpro_wise'],RG_OIII_match_Radio_selectsnrgt5_fadeing_all_copy['Dcm'])\n",
    "\n"
   ]
  },
  {
   "cell_type": "code",
   "execution_count": null,
   "metadata": {
    "ExecuteTime": {
     "end_time": "2022-09-05T08:20:33.965558Z",
     "start_time": "2022-09-05T08:20:33.941796Z"
    }
   },
   "outputs": [],
   "source": [
    "RG_OIII_match_Radio_selectsnrgt5_fadeing_all_copy.to_pandas().to_csv('%s/RG_OIII_match_Radio_selectsnrgt5_fadeing_all.csv'%Surveyfits_root,index=False)\n",
    "\n"
   ]
  },
  {
   "cell_type": "code",
   "execution_count": null,
   "metadata": {},
   "outputs": [],
   "source": []
  },
  {
   "cell_type": "code",
   "execution_count": null,
   "metadata": {},
   "outputs": [],
   "source": []
  },
  {
   "cell_type": "code",
   "execution_count": null,
   "metadata": {
    "ExecuteTime": {
     "end_time": "2022-09-05T02:28:01.568623Z",
     "start_time": "2022-09-05T02:28:01.558435Z"
    }
   },
   "outputs": [],
   "source": [
    "RG_OIII_match_Radio_selectsnrgt5_fadeing_all_copy.colnames"
   ]
  },
  {
   "cell_type": "code",
   "execution_count": null,
   "metadata": {
    "ExecuteTime": {
     "end_time": "2022-09-05T05:51:26.706327Z",
     "start_time": "2022-09-05T05:51:26.597863Z"
    }
   },
   "outputs": [],
   "source": [
    "fig = plt.figure(figsize=(5,5))\n",
    "fig.subplots_adjust(hspace=0.0, wspace = 0.0)\n",
    "ax = fig.add_subplot(111)\n",
    "\n",
    "plotdata=RG_OIII_match_Radio_selectsnrgt5_fadeing_all_copy\n",
    "#column_x=3\n",
    "#column_y=4\n",
    "colum_xlabel='oiii_5007_Lum'\n",
    "colum_ylabel='logLw3'#logL\n",
    "\n",
    "print(colum_xlabel,colum_ylabel)\n",
    "for i in range(len(plotdata)):\n",
    "    if isinstance(plotdata[colum_xlabel][i],float) and isinstance(plotdata[colum_xlabel][i],float):\n",
    "        ax.scatter(np.log10(plotdata[colum_xlabel][i]),\n",
    "                   plotdata[colum_ylabel][i],\n",
    "                   color='black',marker='*',label='')\n",
    "\n",
    "#ax.set_xlabel(r'$L_{178MHz}$')\n",
    "#ax.set_ylabel(r'$L_{OIII}$')\n",
    "\n",
    "ax.set_xlabel('log '+colum_xlabel)\n",
    "ax.set_ylabel(colum_ylabel)\n",
    "\n"
   ]
  },
  {
   "cell_type": "code",
   "execution_count": null,
   "metadata": {},
   "outputs": [],
   "source": []
  },
  {
   "cell_type": "code",
   "execution_count": null,
   "metadata": {
    "ExecuteTime": {
     "end_time": "2022-09-05T05:51:57.870865Z",
     "start_time": "2022-09-05T05:51:57.763753Z"
    }
   },
   "outputs": [],
   "source": [
    "fig = plt.figure(figsize=(5,5))\n",
    "fig.subplots_adjust(hspace=0.0, wspace = 0.0)\n",
    "ax = fig.add_subplot(111)\n",
    "\n",
    "plotdata=RG_OIII_match_Radio_selectsnrgt5_fadeing_all_copy\n",
    "#column_x=3\n",
    "#column_y=4\n",
    "colum_xlabel='oiii_5007_Lum'\n",
    "colum_ylabel='logLw3'\n",
    "\n",
    "print(colum_xlabel,colum_ylabel)\n",
    "for i in range(len(plotdata)):\n",
    "    if isinstance(plotdata[colum_xlabel][i],float) and isinstance(plotdata[colum_xlabel][i],float):\n",
    "        ax.scatter(np.log10(plotdata[colum_xlabel][i])+np.log10(3500),\n",
    "                   plotdata[colum_ylabel][i]+np.log10(10),\n",
    "                   color='black',marker='*',label='')\n",
    "\n",
    "#ax.set_xlabel(r'$L_{178MHz}$')\n",
    "#ax.set_ylabel(r'$L_{OIII}$')\n",
    "linx_plot=np.linspace(41,46,10)\n",
    "ax.plot(linx_plot,linx_plot,ls=':')\n",
    "ax.set_xlabel('log '+colum_xlabel+'_based_Lbol')\n",
    "ax.set_ylabel(colum_ylabel+'_based_Lbol')\n",
    "\n"
   ]
  },
  {
   "cell_type": "markdown",
   "metadata": {},
   "source": [
    "## OIII VS WISE LBol"
   ]
  },
  {
   "cell_type": "code",
   "execution_count": null,
   "metadata": {
    "ExecuteTime": {
     "end_time": "2022-09-05T05:49:36.320063Z",
     "start_time": "2022-09-05T05:49:35.976814Z"
    }
   },
   "outputs": [],
   "source": [
    "fig = plt.figure(figsize=(9,9))\n",
    "fig.subplots_adjust(hspace=0.4, wspace = 0.4)\n",
    "ax = fig.add_subplot(221)\n",
    "plotdata=RG_OIII_match_Radio_selectsnrgt5_fadeing_all_copy\n",
    "#column_x=3\n",
    "#column_y=4\n",
    "colum_xlabel='oiii_5007_Lum'\n",
    "colum_ylabel='logLw2'\n",
    "\n",
    "print(colum_xlabel,colum_ylabel)\n",
    "for i in range(len(plotdata)):\n",
    "    if isinstance(plotdata[colum_xlabel][i],float) and isinstance(plotdata[colum_xlabel][i],float):\n",
    "        ax.scatter(np.log10(plotdata[colum_xlabel][i])+np.log10(3500),\n",
    "                   plotdata[colum_ylabel][i]+np.log10(10),\n",
    "                   color='black',marker='*',label='')\n",
    "\n",
    "#ax.set_xlabel(r'$L_{178MHz}$')\n",
    "#ax.set_ylabel(r'$L_{OIII}$')\n",
    "linx_plot=np.linspace(41,46,10)\n",
    "ax.plot(linx_plot,linx_plot,ls=':')\n",
    "ax.set_xlabel(colum_xlabel+'based Lbol')\n",
    "ax.set_ylabel(colum_ylabel+'based Lbol')\n",
    "###########################################\n",
    "ax = fig.add_subplot(222)\n",
    "plotdata=RG_OIII_match_Radio_selectsnrgt5_fadeing_all_copy\n",
    "#column_x=3\n",
    "#column_y=4\n",
    "colum_xlabel='oiii_5007_Lum'\n",
    "colum_ylabel='logLw2'\n",
    "\n",
    "print(colum_xlabel,colum_ylabel)\n",
    "for i in range(len(plotdata)):\n",
    "    if isinstance(plotdata[colum_xlabel][i],float) and isinstance(plotdata[colum_xlabel][i],float):\n",
    "        ax.scatter(np.log10(plotdata[colum_xlabel][i])+np.log10(3500),\n",
    "                   plotdata[colum_ylabel][i]+np.log10(10),\n",
    "                   color='black',marker='*',label='')\n",
    "\n",
    "#ax.set_xlabel(r'$L_{178MHz}$')\n",
    "#ax.set_ylabel(r'$L_{OIII}$')\n",
    "linx_plot=np.linspace(41,46,10)\n",
    "ax.plot(linx_plot,linx_plot,ls=':')\n",
    "ax.set_xlabel(colum_xlabel+'based Lbol')\n",
    "ax.set_ylabel(colum_ylabel+'based Lbol')\n",
    "set_ax_tick(ax)\n",
    "\n",
    "###########################################\n",
    "ax = fig.add_subplot(223)\n",
    "plotdata=RG_OIII_match_Radio_selectsnrgt5_fadeing_all_copy\n",
    "#column_x=3\n",
    "#column_y=4\n",
    "colum_xlabel='oiii_5007_Lum'\n",
    "colum_ylabel='logLw3'\n",
    "\n",
    "print(colum_xlabel,colum_ylabel)\n",
    "for i in range(len(plotdata)):\n",
    "    if isinstance(plotdata[colum_xlabel][i],float) and isinstance(plotdata[colum_xlabel][i],float):\n",
    "        ax.scatter(np.log10(plotdata[colum_xlabel][i])+np.log10(3500),\n",
    "                   plotdata[colum_ylabel][i]+np.log10(10),\n",
    "                   color='black',marker='*',label='')\n",
    "\n",
    "#ax.set_xlabel(r'$L_{178MHz}$')\n",
    "#ax.set_ylabel(r'$L_{OIII}$')\n",
    "linx_plot=np.linspace(41,46,10)\n",
    "ax.plot(linx_plot,linx_plot,ls=':')\n",
    "ax.set_xlabel(colum_xlabel+'based Lbol')\n",
    "ax.set_ylabel(colum_ylabel+'based Lbol')\n",
    "set_ax_tick(ax)\n",
    "\n",
    "\n",
    "###########################################\n",
    "ax = fig.add_subplot(224)\n",
    "plotdata=RG_OIII_match_Radio_selectsnrgt5_fadeing_all_copy\n",
    "#column_x=3\n",
    "#column_y=4\n",
    "colum_xlabel='oiii_5007_Lum'\n",
    "colum_ylabel='logLw4'\n",
    "\n",
    "print(colum_xlabel,colum_ylabel)\n",
    "for i in range(len(plotdata)):\n",
    "    if isinstance(plotdata[colum_xlabel][i],float) and isinstance(plotdata[colum_xlabel][i],float):\n",
    "        ax.scatter(np.log10(plotdata[colum_xlabel][i])+np.log10(3500),\n",
    "                   plotdata[colum_ylabel][i]+np.log10(10),\n",
    "                   color='black',marker='*',label='')\n",
    "\n",
    "#ax.set_xlabel(r'$L_{178MHz}$')\n",
    "#ax.set_ylabel(r'$L_{OIII}$')\n",
    "linx_plot=np.linspace(41,46,10)\n",
    "ax.plot(linx_plot,linx_plot,ls=':')\n",
    "ax.set_xlabel(colum_xlabel+'based Lbol')\n",
    "ax.set_ylabel(colum_ylabel+'based Lbol')\n",
    "set_ax_tick(ax)\n",
    "###########################################\n",
    "\n",
    "\n",
    "\n",
    "\n",
    "\n",
    "###########################################"
   ]
  },
  {
   "cell_type": "code",
   "execution_count": null,
   "metadata": {},
   "outputs": [],
   "source": []
  },
  {
   "cell_type": "code",
   "execution_count": null,
   "metadata": {},
   "outputs": [],
   "source": []
  },
  {
   "cell_type": "markdown",
   "metadata": {},
   "source": [
    "## WISE comparison"
   ]
  },
  {
   "cell_type": "code",
   "execution_count": null,
   "metadata": {
    "ExecuteTime": {
     "end_time": "2022-09-05T02:34:10.954773Z",
     "start_time": "2022-09-05T02:34:09.704382Z"
    }
   },
   "outputs": [],
   "source": [
    "fig = plt.figure(figsize=(9,9))\n",
    "fig.subplots_adjust(hspace=0.4, wspace = 0.4)\n",
    "ax = fig.add_subplot(331)\n",
    "plotdata=RG_OIII_match_Radio_selectsnrgt5_fadeing_all_copy\n",
    "#column_x=3\n",
    "#column_y=4\n",
    "colum_xlabel='logLw1'\n",
    "colum_ylabel='logLw2'\n",
    "\n",
    "print(colum_xlabel,colum_ylabel)\n",
    "for i in range(len(plotdata)):\n",
    "    if isinstance(plotdata[colum_xlabel][i],float) and isinstance(plotdata[colum_xlabel][i],float):\n",
    "        ax.scatter(plotdata[colum_xlabel][i]+np.log10(10),\n",
    "                   plotdata[colum_ylabel][i]+np.log10(10),\n",
    "                   color='black',marker='*',label='')\n",
    "\n",
    "#ax.set_xlabel(r'$L_{178MHz}$')\n",
    "#ax.set_ylabel(r'$L_{OIII}$')\n",
    "linx_plot=np.linspace(41,46,10)\n",
    "ax.plot(linx_plot,linx_plot,ls=':')\n",
    "ax.set_xlabel(colum_xlabel+'based Lbol')\n",
    "ax.set_ylabel(colum_ylabel+'based Lbol')\n",
    "###########################################\n",
    "ax = fig.add_subplot(334)\n",
    "plotdata=RG_OIII_match_Radio_selectsnrgt5_fadeing_all_copy\n",
    "#column_x=3\n",
    "#column_y=4\n",
    "colum_xlabel='logLw1'\n",
    "colum_ylabel='logLw3'\n",
    "\n",
    "print(colum_xlabel,colum_ylabel)\n",
    "for i in range(len(plotdata)):\n",
    "    if isinstance(plotdata[colum_xlabel][i],float) and isinstance(plotdata[colum_xlabel][i],float):\n",
    "        ax.scatter(plotdata[colum_xlabel][i]+np.log10(10),\n",
    "                   plotdata[colum_ylabel][i]+np.log10(10),\n",
    "                   color='black',marker='*',label='')\n",
    "\n",
    "#ax.set_xlabel(r'$L_{178MHz}$')\n",
    "#ax.set_ylabel(r'$L_{OIII}$')\n",
    "linx_plot=np.linspace(41,46,10)\n",
    "ax.plot(linx_plot,linx_plot,ls=':')\n",
    "ax.set_xlabel(colum_xlabel+'based Lbol')\n",
    "ax.set_ylabel(colum_ylabel+'based Lbol')\n",
    "set_ax_tick(ax)\n",
    "\n",
    "###########################################\n",
    "ax = fig.add_subplot(337)\n",
    "plotdata=RG_OIII_match_Radio_selectsnrgt5_fadeing_all_copy\n",
    "#column_x=3\n",
    "#column_y=4\n",
    "colum_xlabel='logLw1'\n",
    "colum_ylabel='logLw4'\n",
    "\n",
    "print(colum_xlabel,colum_ylabel)\n",
    "for i in range(len(plotdata)):\n",
    "    if isinstance(plotdata[colum_xlabel][i],float) and isinstance(plotdata[colum_xlabel][i],float):\n",
    "        ax.scatter(plotdata[colum_xlabel][i]+np.log10(10),\n",
    "                   plotdata[colum_ylabel][i]+np.log10(10),\n",
    "                   color='black',marker='*',label='')\n",
    "\n",
    "#ax.set_xlabel(r'$L_{178MHz}$')\n",
    "#ax.set_ylabel(r'$L_{OIII}$')\n",
    "linx_plot=np.linspace(41,46,10)\n",
    "ax.plot(linx_plot,linx_plot,ls=':')\n",
    "ax.set_xlabel(colum_xlabel+'based Lbol')\n",
    "ax.set_ylabel(colum_ylabel+'based Lbol')\n",
    "set_ax_tick(ax)\n",
    "\n",
    "\n",
    "###########################################\n",
    "ax = fig.add_subplot(332)\n",
    "plotdata=RG_OIII_match_Radio_selectsnrgt5_fadeing_all_copy\n",
    "#column_x=3\n",
    "#column_y=4\n",
    "colum_xlabel='logLw2'\n",
    "colum_ylabel='logLw3'\n",
    "\n",
    "print(colum_xlabel,colum_ylabel)\n",
    "for i in range(len(plotdata)):\n",
    "    if isinstance(plotdata[colum_xlabel][i],float) and isinstance(plotdata[colum_xlabel][i],float):\n",
    "        ax.scatter(plotdata[colum_xlabel][i]+np.log10(10),\n",
    "                   plotdata[colum_ylabel][i]+np.log10(10),\n",
    "                   color='black',marker='*',label='')\n",
    "\n",
    "#ax.set_xlabel(r'$L_{178MHz}$')\n",
    "#ax.set_ylabel(r'$L_{OIII}$')\n",
    "linx_plot=np.linspace(41,46,10)\n",
    "ax.plot(linx_plot,linx_plot,ls=':')\n",
    "ax.set_xlabel(colum_xlabel+'based Lbol')\n",
    "ax.set_ylabel(colum_ylabel+'based Lbol')\n",
    "set_ax_tick(ax)\n",
    "###########################################\n",
    "\n",
    "\n",
    "\n",
    "\n",
    "ax = fig.add_subplot(335)\n",
    "plotdata=RG_OIII_match_Radio_selectsnrgt5_fadeing_all_copy\n",
    "#column_x=3\n",
    "#column_y=4\n",
    "colum_xlabel='logLw2'\n",
    "colum_ylabel='logLw4'\n",
    "\n",
    "print(colum_xlabel,colum_ylabel)\n",
    "for i in range(len(plotdata)):\n",
    "    if isinstance(plotdata[colum_xlabel][i],float) and isinstance(plotdata[colum_xlabel][i],float):\n",
    "        ax.scatter(plotdata[colum_xlabel][i]+np.log10(10),\n",
    "                   plotdata[colum_ylabel][i]+np.log10(10),\n",
    "                   color='black',marker='*',label='')\n",
    "\n",
    "#ax.set_xlabel(r'$L_{178MHz}$')\n",
    "#ax.set_ylabel(r'$L_{OIII}$')\n",
    "linx_plot=np.linspace(41,46,10)\n",
    "ax.plot(linx_plot,linx_plot,ls=':')\n",
    "ax.set_xlabel(colum_xlabel+'based Lbol')\n",
    "ax.set_ylabel(colum_ylabel+'based Lbol')\n",
    "set_ax_tick(ax)\n",
    "###########################################\n",
    "\n",
    "\n",
    "\n",
    "ax = fig.add_subplot(333)\n",
    "plotdata=RG_OIII_match_Radio_selectsnrgt5_fadeing_all_copy\n",
    "#column_x=3\n",
    "#column_y=4\n",
    "colum_xlabel='logLw3'\n",
    "colum_ylabel='logLw4'\n",
    "\n",
    "print(colum_xlabel,colum_ylabel)\n",
    "for i in range(len(plotdata)):\n",
    "    if isinstance(plotdata[colum_xlabel][i],float) and isinstance(plotdata[colum_xlabel][i],float):\n",
    "        ax.scatter(plotdata[colum_xlabel][i]+np.log10(10),\n",
    "                   plotdata[colum_ylabel][i]+np.log10(10),\n",
    "                   color='black',marker='*',label='')\n",
    "\n",
    "#ax.set_xlabel(r'$L_{178MHz}$')\n",
    "#ax.set_ylabel(r'$L_{OIII}$')\n",
    "linx_plot=np.linspace(41,46,10)\n",
    "ax.plot(linx_plot,linx_plot,ls=':')\n",
    "ax.set_xlabel(colum_xlabel+'based Lbol')\n",
    "ax.set_ylabel(colum_ylabel+'based Lbol')\n",
    "set_ax_tick(ax)\n",
    "###########################################"
   ]
  },
  {
   "cell_type": "code",
   "execution_count": null,
   "metadata": {},
   "outputs": [],
   "source": []
  },
  {
   "cell_type": "code",
   "execution_count": null,
   "metadata": {},
   "outputs": [],
   "source": []
  },
  {
   "cell_type": "code",
   "execution_count": null,
   "metadata": {},
   "outputs": [],
   "source": []
  },
  {
   "cell_type": "code",
   "execution_count": null,
   "metadata": {},
   "outputs": [],
   "source": []
  },
  {
   "cell_type": "code",
   "execution_count": null,
   "metadata": {},
   "outputs": [],
   "source": []
  },
  {
   "cell_type": "code",
   "execution_count": null,
   "metadata": {},
   "outputs": [],
   "source": []
  },
  {
   "cell_type": "code",
   "execution_count": null,
   "metadata": {},
   "outputs": [],
   "source": []
  },
  {
   "cell_type": "code",
   "execution_count": null,
   "metadata": {
    "ExecuteTime": {
     "end_time": "2022-09-02T10:21:15.992639Z",
     "start_time": "2022-09-02T10:21:15.884331Z"
    }
   },
   "outputs": [],
   "source": [
    "fig = plt.figure(figsize=(5,5))\n",
    "fig.subplots_adjust(hspace=0.0, wspace = 0.0)\n",
    "ax = fig.add_subplot(111)\n",
    "\n",
    "plotdata=RG_OIII_match_Radio_selectsnrgt5_fadeing_all_copy\n",
    "#column_x=3\n",
    "#column_y=4\n",
    "colum_xlabel='oiii_5007_Lum'\n",
    "colum_ylabel='logLw2'\n",
    "\n",
    "print(colum_xlabel,colum_ylabel)\n",
    "for i in range(len(plotdata)):\n",
    "    if isinstance(plotdata[colum_xlabel][i],float) and isinstance(plotdata[colum_xlabel][i],float):\n",
    "        ax.scatter(np.log10(plotdata[colum_xlabel][i]),\n",
    "                   plotdata[colum_ylabel][i],\n",
    "                   color='black',marker='*',label='FRII')\n",
    "\n",
    "#ax.set_xlabel(r'$L_{178MHz}$')\n",
    "#ax.set_ylabel(r'$L_{OIII}$')\n",
    "\n",
    "ax.set_xlabel(colum_xlabel)\n",
    "ax.set_ylabel(colum_ylabel)\n",
    "\n"
   ]
  },
  {
   "cell_type": "code",
   "execution_count": null,
   "metadata": {
    "ExecuteTime": {
     "end_time": "2022-09-02T10:38:33.917936Z",
     "start_time": "2022-09-02T10:38:33.704100Z"
    }
   },
   "outputs": [],
   "source": [
    "fig = plt.figure(figsize=(5,5))\n",
    "fig.subplots_adjust(hspace=0.0, wspace = 0.0)\n",
    "ax = fig.add_subplot(111)\n",
    "\n",
    "plotdata=RG_OIII_match_Radio_selectsnrgt5_fadeing_all_copy\n",
    "#column_x=3\n",
    "#column_y=4\n",
    "colum_xlabel='L200MHz'\n",
    "colum_ylabel='oiii_5007_Lum'\n",
    "\n",
    "\n",
    "print(colum_xlabel,colum_ylabel)\n",
    "\n",
    "print('RA DEC redshift Plate MJD Fiber')\n",
    "        \n",
    "for i in range(len(plotdata)):\n",
    "    if isinstance(plotdata[colum_xlabel][i],float) and isinstance(plotdata[colum_xlabel][i],float):\n",
    "        if 0.73*np.log10(plotdata[colum_xlabel][i])+16.6>np.log10(plotdata[colum_ylabel][i])+1:\n",
    "            color='red'\n",
    "            marker='*'\n",
    "            print(plotdata['RAdeg'][i],plotdata['DEdeg'][i],plotdata['z'][i],plotdata['Plate'][i],plotdata['MJD'][i],plotdata['Fiber'][i])\n",
    "        \n",
    "        else:\n",
    "            color='black'\n",
    "            marker='.'\n",
    "            \n",
    "        ax.scatter(np.log10(plotdata[colum_xlabel][i]),\n",
    "                   np.log10(plotdata[colum_ylabel][i]),\n",
    "                   color=color,marker=marker)\n",
    "              \n",
    "\n",
    "#ax.set_xlabel(r'$L_{178MHz}$')\n",
    "#ax.set_ylabel(r'$L_{OIII}$')\n",
    "log_L200=np.linspace(29,37,10)\n",
    "y_log_L200=0.73*log_L200+16.6\n",
    "\n",
    "ax.plot(log_L200,y_log_L200,ls=':',color='grey',linewidth=2,label=r'Fitted 3CR $\\pm$ 1 dex')\n",
    "ax.plot(log_L200,y_log_L200-1,ls=':',color='grey',linewidth=2)\n",
    "ax.plot(log_L200,y_log_L200+1,ls=':',color='grey',linewidth=2)\n",
    "\n",
    "ax.set_xlabel(colum_xlabel)\n",
    "ax.set_ylabel(colum_ylabel)\n",
    "\n"
   ]
  },
  {
   "cell_type": "code",
   "execution_count": null,
   "metadata": {
    "ExecuteTime": {
     "end_time": "2022-09-02T10:32:46.423930Z",
     "start_time": "2022-09-02T10:32:39.715259Z"
    }
   },
   "outputs": [],
   "source": [
    "from astroquery.ipac.ned import Ned\n",
    "import astropy.units as u\n",
    "from astropy import coordinates\n",
    "\n",
    "ra,dec=181.638945,22.26045\n",
    "co = coordinates.SkyCoord(ra=ra, dec=dec, \n",
    "                          unit=(u.deg, u.deg), frame='icrs')\n",
    "\n",
    "result_table = Ned.query_region(co, radius=2 * u.arcsec)\n",
    "print(result_table[['Object Name','Redshift']])\n",
    "print(result_table)"
   ]
  },
  {
   "cell_type": "code",
   "execution_count": null,
   "metadata": {},
   "outputs": [],
   "source": []
  },
  {
   "cell_type": "code",
   "execution_count": null,
   "metadata": {},
   "outputs": [],
   "source": []
  },
  {
   "cell_type": "code",
   "execution_count": null,
   "metadata": {
    "ExecuteTime": {
     "end_time": "2022-09-02T10:32:59.510732Z",
     "start_time": "2022-09-02T10:32:58.836828Z"
    }
   },
   "outputs": [],
   "source": [
    "ra,dec=167.60457,3.36078\n",
    "co = coordinates.SkyCoord(ra=ra, dec=dec, \n",
    "                          unit=(u.deg, u.deg), frame='icrs')\n",
    "\n",
    "result_table = Ned.query_region(co, radius=2 * u.arcsec)\n",
    "print(result_table[['Object Name','Redshift']])\n",
    "print(result_table)"
   ]
  },
  {
   "cell_type": "code",
   "execution_count": null,
   "metadata": {},
   "outputs": [],
   "source": []
  },
  {
   "cell_type": "code",
   "execution_count": null,
   "metadata": {},
   "outputs": [],
   "source": []
  },
  {
   "cell_type": "code",
   "execution_count": null,
   "metadata": {},
   "outputs": [],
   "source": []
  },
  {
   "cell_type": "code",
   "execution_count": null,
   "metadata": {},
   "outputs": [],
   "source": []
  },
  {
   "cell_type": "code",
   "execution_count": null,
   "metadata": {},
   "outputs": [],
   "source": []
  },
  {
   "cell_type": "code",
   "execution_count": null,
   "metadata": {},
   "outputs": [],
   "source": []
  },
  {
   "cell_type": "code",
   "execution_count": null,
   "metadata": {},
   "outputs": [],
   "source": [
    "fig = plt.figure(figsize=(5,5))\n",
    "fig.subplots_adjust(hspace=0.0, wspace = 0.0)\n",
    "ax = fig.add_subplot(111)\n",
    "\n",
    "plotdata=RG_OIII_match_Radio_selectsnrgt5_fadeing_all_copy\n",
    "#column_x=3\n",
    "#column_y=4\n",
    "\n",
    "colum_xlabel='h_alpha_Lum'\n",
    "colum_ylabel='h_beta_Lum'\n",
    "\n",
    "print(colum_xlabel,colum_ylabel)\n",
    "for i in range(len(plotdata)):\n",
    "    if isinstance(plotdata[colum_xlabel][i],float) and isinstance(plotdata[colum_xlabel][i],float):\n",
    "        ax.scatter(np.log10(plotdata[colum_xlabel][i]),\n",
    "                   np.log10(plotdata[colum_ylabel][i]),\n",
    "                   color='black',marker='*',label='FRII')\n",
    "\n",
    "\n",
    "ax.set_xlabel(colum_xlabel)\n",
    "ax.set_ylabel(colum_ylabel)\n",
    "\n"
   ]
  },
  {
   "cell_type": "code",
   "execution_count": null,
   "metadata": {
    "ExecuteTime": {
     "end_time": "2022-09-02T10:19:14.637968Z",
     "start_time": "2022-09-02T10:19:14.530106Z"
    }
   },
   "outputs": [],
   "source": [
    "fig = plt.figure(figsize=(5,5))\n",
    "fig.subplots_adjust(hspace=0.0, wspace = 0.0)\n",
    "ax = fig.add_subplot(111)\n",
    "\n",
    "plotdata=RG_OIII_match_Radio_selectsnrgt5_fadeing_all_copy\n",
    "#column_x=3\n",
    "#column_y=4\n",
    "\n",
    "colum_xlabel='h_alpha_Lum'\n",
    "colum_ylabel='h_beta_Lum'\n",
    "\n",
    "print(colum_xlabel,colum_ylabel)\n",
    "for i in range(len(plotdata)):\n",
    "    if isinstance(plotdata[colum_xlabel][i],float) and isinstance(plotdata[colum_xlabel][i],float):\n",
    "        ax.scatter(np.log10(plotdata[colum_xlabel][i]),\n",
    "                   np.log10(plotdata[colum_ylabel][i]),\n",
    "                   color='black',marker='*',label='FRII')\n",
    "\n",
    "\n",
    "ax.set_xlabel(colum_xlabel)\n",
    "ax.set_ylabel(colum_ylabel)\n",
    "\n"
   ]
  },
  {
   "cell_type": "code",
   "execution_count": null,
   "metadata": {},
   "outputs": [],
   "source": []
  }
 ],
 "metadata": {
  "kernelspec": {
   "display_name": "Python 3 (ipykernel)",
   "language": "python",
   "name": "python3"
  },
  "language_info": {
   "codemirror_mode": {
    "name": "ipython",
    "version": 3
   },
   "file_extension": ".py",
   "mimetype": "text/x-python",
   "name": "python",
   "nbconvert_exporter": "python",
   "pygments_lexer": "ipython3",
   "version": "3.9.12"
  },
  "latex_envs": {
   "LaTeX_envs_menu_present": true,
   "autoclose": false,
   "autocomplete": true,
   "bibliofile": "biblio.bib",
   "cite_by": "apalike",
   "current_citInitial": 1,
   "eqLabelWithNumbers": true,
   "eqNumInitial": 1,
   "hotkeys": {
    "equation": "Ctrl-E",
    "itemize": "Ctrl-I"
   },
   "labels_anchors": false,
   "latex_user_defs": false,
   "report_style_numbering": false,
   "user_envs_cfg": false
  },
  "toc": {
   "base_numbering": 1,
   "nav_menu": {},
   "number_sections": true,
   "sideBar": true,
   "skip_h1_title": false,
   "title_cell": "Table of Contents",
   "title_sidebar": "Contents",
   "toc_cell": false,
   "toc_position": {
    "height": "630.84px",
    "left": "0px",
    "right": "1170.61px",
    "top": "160.156px",
    "width": "270.13px"
   },
   "toc_section_display": "block",
   "toc_window_display": true
  }
 },
 "nbformat": 4,
 "nbformat_minor": 2
}
