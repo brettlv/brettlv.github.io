{
 "cells": [
  {
   "cell_type": "code",
   "execution_count": 2,
   "metadata": {
    "ExecuteTime": {
     "end_time": "2021-04-13T01:40:51.572308Z",
     "start_time": "2021-04-13T01:40:51.526584Z"
    }
   },
   "outputs": [],
   "source": [
    "import pandas as pd\n",
    "import xml.etree.ElementTree as ET\n",
    "from astropy.io import fits\n",
    "from astropy.io.votable import parse\n",
    "from astropy.io.votable import parse_single_table\n",
    "from astropy.io.votable.tree import VOTableFile, Resource, Table, Field"
   ]
  },
  {
   "cell_type": "code",
   "execution_count": 4,
   "metadata": {
    "ExecuteTime": {
     "end_time": "2021-04-13T01:40:57.467552Z",
     "start_time": "2021-04-13T01:40:57.455242Z"
    }
   },
   "outputs": [],
   "source": [
    "# Import required packages\n",
    "import matplotlib as mpl\n",
    "import matplotlib.pyplot as plt\n",
    "import numpy as np\n",
    "from pylab import cm\n",
    "\n",
    "%matplotlib inline\n",
    "%config InlineBackend.figure_format='svg'"
   ]
  },
  {
   "cell_type": "code",
   "execution_count": 5,
   "metadata": {
    "ExecuteTime": {
     "end_time": "2021-04-13T01:41:06.916052Z",
     "start_time": "2021-04-13T01:41:06.907059Z"
    }
   },
   "outputs": [],
   "source": [
    "import matplotlib.font_manager as fm\n",
    "# Collect all the font names available to matplotlib\n",
    "font_names = [f.name for f in fm.fontManager.ttflist]\n",
    "\n",
    "\n",
    "# Edit the font, font size, and axes width\n",
    "mpl.rcParams['font.family'] = 'Avenir'\n",
    "plt.rcParams['font.size'] = 18\n",
    "plt.rcParams['axes.linewidth'] = 2\n",
    "\n",
    "# Generate 2 colors from the 'tab10' colormap\n",
    "colors = cm.get_cmap('tab10', 2)"
   ]
  },
  {
   "cell_type": "code",
   "execution_count": 36,
   "metadata": {
    "ExecuteTime": {
     "end_time": "2021-04-14T03:08:37.712537Z",
     "start_time": "2021-04-14T03:08:37.450757Z"
    }
   },
   "outputs": [],
   "source": [
    "path = '../GRS1915/GRS1915_MWA_5deg.xml'\n",
    "GRS1915_votable = parse(path)\n",
    "GRS1915_table = parse_single_table(path).to_table()\n",
    "GRS1915_table.write('../GRS1915/GRS1915_MWA_5deg.csv', format='ascii.csv',serialize_method='data_mask')"
   ]
  },
  {
   "cell_type": "code",
   "execution_count": 28,
   "metadata": {
    "ExecuteTime": {
     "end_time": "2021-04-14T03:07:06.607184Z",
     "start_time": "2021-04-14T03:07:06.598943Z"
    }
   },
   "outputs": [
    {
     "data": {
      "text/plain": [
       "['obs_id',\n",
       " 'starttime',\n",
       " 'stoptime',\n",
       " 'duration',\n",
       " 'starttime_mjd',\n",
       " 'stoptime_mjd',\n",
       " 'starttime_utc',\n",
       " 'stoptime_utc',\n",
       " 'starttime_mro',\n",
       " 'stoptime_mro',\n",
       " 'obsname',\n",
       " 'creator',\n",
       " 'modtime',\n",
       " 'mode',\n",
       " 'projectid',\n",
       " 'projectshortname',\n",
       " 'projectdescription',\n",
       " 'dataquality',\n",
       " 'dataqualityname',\n",
       " 'dataqualitycomment',\n",
       " 'deleted_flag',\n",
       " 'vcs_recombined_flag',\n",
       " 'int_time',\n",
       " 'freq_res',\n",
       " 'ra',\n",
       " 'dec',\n",
       " 'ra_pointing',\n",
       " 'dec_pointing',\n",
       " 'ra_phase_center',\n",
       " 'dec_phase_center',\n",
       " 'azimuth_pointing',\n",
       " 'elevation_pointing',\n",
       " 'azimuth',\n",
       " 'elevation',\n",
       " 'sky_temp',\n",
       " 'calibration',\n",
       " 'calibrators',\n",
       " 'gridpoint_name',\n",
       " 'gridpoint_number',\n",
       " 'local_sidereal_time_deg',\n",
       " 'sun_elevation',\n",
       " 'sun_pointing_distance',\n",
       " 'jupiter_pointing_distance',\n",
       " 'moon_pointing_distance',\n",
       " 'first_channel_number',\n",
       " 'center_channel_number',\n",
       " 'last_channel_number',\n",
       " 'first_channel_lowest_frequency_mhz',\n",
       " 'center_frequency_mhz',\n",
       " 'last_channel_highest_frequency_mhz',\n",
       " 'channels_are_contiguous',\n",
       " 'channel_count',\n",
       " 'channel_width_mhz',\n",
       " 'mwa_array_configuration',\n",
       " 'groupid',\n",
       " 'vcs_files_raw_total',\n",
       " 'vcs_files_raw_archived',\n",
       " 'vcs_files_ics_archived',\n",
       " 'vcs_files_tar_archived',\n",
       " 'gpubox_files_total',\n",
       " 'gpubox_files_archived',\n",
       " 'flag_files_exist',\n",
       " 'total_archived_data_bytes',\n",
       " 'files_deleted',\n",
       " 'files_deleted_bytes',\n",
       " 'data_files_summary']"
      ]
     },
     "execution_count": 28,
     "metadata": {},
     "output_type": "execute_result"
    }
   ],
   "source": [
    "GRS1915_table.colnames"
   ]
  },
  {
   "cell_type": "code",
   "execution_count": 29,
   "metadata": {
    "ExecuteTime": {
     "end_time": "2021-04-14T03:07:07.290166Z",
     "start_time": "2021-04-14T03:07:07.273094Z"
    }
   },
   "outputs": [],
   "source": [
    "projects=[]\n",
    "for i in GRS1915_table['projectid']:\n",
    "    if i not in projects:\n",
    "        projects.append(i)\n",
    "    "
   ]
  },
  {
   "cell_type": "code",
   "execution_count": 30,
   "metadata": {
    "ExecuteTime": {
     "end_time": "2021-04-14T03:07:07.886249Z",
     "start_time": "2021-04-14T03:07:07.876824Z"
    }
   },
   "outputs": [
    {
     "data": {
      "text/plain": [
       "['D0000',\n",
       " 'G0008',\n",
       " 'D0012',\n",
       " 'D0009',\n",
       " 'G0042',\n",
       " 'D0017',\n",
       " 'G0055',\n",
       " 'G0018',\n",
       " 'D0030']"
      ]
     },
     "execution_count": 30,
     "metadata": {},
     "output_type": "execute_result"
    }
   ],
   "source": [
    "projects"
   ]
  },
  {
   "cell_type": "code",
   "execution_count": 31,
   "metadata": {
    "ExecuteTime": {
     "end_time": "2021-04-14T03:07:08.449928Z",
     "start_time": "2021-04-14T03:07:08.445712Z"
    }
   },
   "outputs": [
    {
     "data": {
      "text/plain": [
       "296"
      ]
     },
     "execution_count": 31,
     "metadata": {},
     "output_type": "execute_result"
    }
   ],
   "source": [
    "len(GRS1915_table)"
   ]
  },
  {
   "cell_type": "code",
   "execution_count": 33,
   "metadata": {
    "ExecuteTime": {
     "end_time": "2021-04-14T03:07:10.448478Z",
     "start_time": "2021-04-14T03:07:10.342848Z"
    }
   },
   "outputs": [
    {
     "data": {
      "text/html": [
       "<i>Table length=296</i>\n",
       "<table id=\"table4873679248\" class=\"table-striped table-bordered table-condensed\">\n",
       "<thead><tr><th>obs_id</th><th>starttime</th><th>stoptime</th><th>duration</th><th>starttime_mjd</th><th>stoptime_mjd</th><th>starttime_utc</th><th>stoptime_utc</th><th>starttime_mro</th><th>stoptime_mro</th><th>obsname</th><th>creator</th><th>modtime</th><th>mode</th><th>projectid</th><th>projectshortname</th><th>projectdescription</th><th>dataquality</th><th>dataqualityname</th><th>dataqualitycomment</th><th>deleted_flag</th><th>vcs_recombined_flag</th><th>int_time</th><th>freq_res</th><th>ra</th><th>dec</th><th>ra_pointing</th><th>dec_pointing</th><th>ra_phase_center</th><th>dec_phase_center</th><th>azimuth_pointing</th><th>elevation_pointing</th><th>azimuth</th><th>elevation</th><th>sky_temp</th><th>calibration</th><th>calibrators</th><th>gridpoint_name</th><th>gridpoint_number</th><th>local_sidereal_time_deg</th><th>sun_elevation</th><th>sun_pointing_distance</th><th>jupiter_pointing_distance</th><th>moon_pointing_distance</th><th>first_channel_number</th><th>center_channel_number</th><th>last_channel_number</th><th>first_channel_lowest_frequency_mhz</th><th>center_frequency_mhz</th><th>last_channel_highest_frequency_mhz</th><th>channels_are_contiguous</th><th>channel_count</th><th>channel_width_mhz</th><th>mwa_array_configuration</th><th>groupid</th><th>vcs_files_raw_total</th><th>vcs_files_raw_archived</th><th>vcs_files_ics_archived</th><th>vcs_files_tar_archived</th><th>gpubox_files_total</th><th>gpubox_files_archived</th><th>flag_files_exist</th><th>total_archived_data_bytes</th><th>files_deleted</th><th>files_deleted_bytes</th><th>data_files_summary</th></tr></thead>\n",
       "<thead><tr><th>int64</th><th>int64</th><th>int64</th><th>int32</th><th>float32</th><th>float32</th><th>object</th><th>object</th><th>object</th><th>object</th><th>bytes255</th><th>bytes255</th><th>object</th><th>bytes50</th><th>bytes50</th><th>bytes255</th><th>bytes255</th><th>int32</th><th>bytes255</th><th>bytes2048</th><th>bool</th><th>bool</th><th>float32</th><th>float32</th><th>float32</th><th>float32</th><th>float32</th><th>float32</th><th>float32</th><th>float32</th><th>float32</th><th>float32</th><th>float32</th><th>float32</th><th>float32</th><th>bool</th><th>bytes255</th><th>bytes50</th><th>int32</th><th>float32</th><th>float32</th><th>float32</th><th>float32</th><th>float32</th><th>int32</th><th>int32</th><th>int32</th><th>float32</th><th>float32</th><th>float32</th><th>bool</th><th>int32</th><th>float32</th><th>object</th><th>int64</th><th>int64</th><th>int64</th><th>int64</th><th>int64</th><th>int64</th><th>int64</th><th>bool</th><th>int64</th><th>int64</th><th>int64</th><th>bytes255</th></tr></thead>\n",
       "<tr><td>1120406368</td><td>1120406368</td><td>1120406608</td><td>240</td><td>57211.668</td><td>57211.668</td><td>2015-07-08T15:59:11.000Z</td><td>2015-07-08T16:03:11.000Z</td><td>2015-07-08T23:59:11.000Z</td><td>2015-07-09T00:03:11.000Z</td><td>iPTF_l43.0_b0.0_f145</td><td>jmiller-jones</td><td>2020-10-23T05:10:59.893Z</td><td>HW_LFILES</td><td>D0000</td><td>Unspecified Director&apos;s time</td><td>Catch-all for Director&apos;s time observations that don&apos;t have a project ID.</td><td>1</td><td>Good</td><td></td><td>False</td><td>False</td><td>2.0</td><td>20.0</td><td>289.4759</td><td>9.848491</td><td>289.4759</td><td>9.848491</td><td>287.4881</td><td>8.950792</td><td>11.3099</td><td>52.8056</td><td>11.3099</td><td>52.8056</td><td>694.61676</td><td>False</td><td></td><td>sweet</td><td>81</td><td>282.75516</td><td>-83.90935</td><td>147.59889</td><td>136.70485</td><td>83.444855</td><td>133</td><td>144</td><td>156</td><td>169.6</td><td>183.68001</td><td>200.31999</td><td>True</td><td>24</td><td>1.28</td><td>Phase I</td><td>1120406368</td><td>0</td><td>0</td><td>0</td><td>0</td><td>48</td><td>48</td><td>True</td><td>47873836691</td><td>0</td><td>0</td><td>48</td></tr>\n",
       "<tr><td>1120578696</td><td>1120578696</td><td>1120578936</td><td>240</td><td>57213.66</td><td>57213.664</td><td>2015-07-10T15:51:19.000Z</td><td>2015-07-10T15:55:19.000Z</td><td>2015-07-10T23:51:19.000Z</td><td>2015-07-10T23:55:19.000Z</td><td>iPTF_l43.0_b0.0_f145</td><td>jmiller-jones</td><td>2020-10-23T05:10:59.893Z</td><td>HW_LFILES</td><td>D0000</td><td>Unspecified Director&apos;s time</td><td>Catch-all for Director&apos;s time observations that don&apos;t have a project ID.</td><td>1</td><td>Good</td><td></td><td>False</td><td>False</td><td>2.0</td><td>20.0</td><td>289.47507</td><td>9.848368</td><td>289.47507</td><td>9.848368</td><td>287.4881</td><td>8.950792</td><td>11.3099</td><td>52.8056</td><td>11.3099</td><td>52.8056</td><td>694.61676</td><td>False</td><td></td><td>sweet</td><td>81</td><td>282.7544</td><td>-82.32574</td><td>147.90591</td><td>136.4624</td><td>108.047714</td><td>133</td><td>144</td><td>156</td><td>169.6</td><td>183.68001</td><td>200.31999</td><td>True</td><td>24</td><td>1.28</td><td>Phase I</td><td>1120578696</td><td>0</td><td>0</td><td>0</td><td>0</td><td>48</td><td>48</td><td>True</td><td>47890655114</td><td>0</td><td>0</td><td>48</td></tr>\n",
       "<tr><td>1120751024</td><td>1120751024</td><td>1120751264</td><td>240</td><td>57215.656</td><td>57215.66</td><td>2015-07-12T15:43:27.000Z</td><td>2015-07-12T15:47:27.000Z</td><td>2015-07-12T23:43:27.000Z</td><td>2015-07-12T23:47:27.000Z</td><td>iPTF_l43.0_b0.0_f145</td><td>jmiller-jones</td><td>2020-10-23T05:10:59.893Z</td><td>HW_LFILES</td><td>D0000</td><td>Unspecified Director&apos;s time</td><td>Catch-all for Director&apos;s time observations that don&apos;t have a project ID.</td><td>1</td><td>Good</td><td></td><td>False</td><td>False</td><td>2.0</td><td>20.0</td><td>289.47424</td><td>9.84824</td><td>289.47424</td><td>9.84824</td><td>287.4881</td><td>8.950792</td><td>11.3099</td><td>52.8056</td><td>11.3099</td><td>52.8056</td><td>694.61676</td><td>False</td><td></td><td>sweet</td><td>81</td><td>282.75366</td><td>-80.62621</td><td>148.1144</td><td>136.21921</td><td>130.76683</td><td>133</td><td>144</td><td>156</td><td>169.6</td><td>183.68001</td><td>200.31999</td><td>True</td><td>24</td><td>1.28</td><td>Phase I</td><td>1120751024</td><td>0</td><td>0</td><td>0</td><td>0</td><td>48</td><td>48</td><td>True</td><td>47890942844</td><td>0</td><td>0</td><td>48</td></tr>\n",
       "<tr><td>1120923352</td><td>1120923352</td><td>1120923592</td><td>240</td><td>57217.65</td><td>57217.652</td><td>2015-07-14T15:35:35.000Z</td><td>2015-07-14T15:39:35.000Z</td><td>2015-07-14T23:35:35.000Z</td><td>2015-07-14T23:39:35.000Z</td><td>iPTF_l43.0_b0.0_f145</td><td>jmiller-jones</td><td>2020-10-23T05:10:59.893Z</td><td>HW_LFILES</td><td>D0000</td><td>Unspecified Director&apos;s time</td><td>Catch-all for Director&apos;s time observations that don&apos;t have a project ID.</td><td>1</td><td>Good</td><td></td><td>False</td><td>False</td><td>2.0</td><td>20.0</td><td>289.47342</td><td>9.848123</td><td>289.47342</td><td>9.848123</td><td>287.4881</td><td>8.950792</td><td>11.3099</td><td>52.8056</td><td>11.3099</td><td>52.8056</td><td>694.61676</td><td>False</td><td></td><td>sweet</td><td>81</td><td>282.75296</td><td>-78.85862</td><td>148.22202</td><td>135.96846</td><td>148.39922</td><td>133</td><td>144</td><td>156</td><td>169.6</td><td>183.68001</td><td>200.31999</td><td>True</td><td>24</td><td>1.28</td><td>Phase I</td><td>1120923352</td><td>0</td><td>0</td><td>0</td><td>0</td><td>48</td><td>48</td><td>True</td><td>47839942090</td><td>0</td><td>0</td><td>48</td></tr>\n",
       "<tr><td>1121095680</td><td>1121095680</td><td>1121095920</td><td>240</td><td>57219.645</td><td>57219.65</td><td>2015-07-16T15:27:43.000Z</td><td>2015-07-16T15:31:43.000Z</td><td>2015-07-16T23:27:43.000Z</td><td>2015-07-16T23:31:43.000Z</td><td>iPTF_l43.0_b0.0_f145</td><td>jmiller-jones</td><td>2020-10-23T05:10:59.893Z</td><td>HW_LFILES</td><td>D0000</td><td>Unspecified Director&apos;s time</td><td>Catch-all for Director&apos;s time observations that don&apos;t have a project ID.</td><td>1</td><td>Good</td><td></td><td>False</td><td>False</td><td>2.0</td><td>20.0</td><td>289.47266</td><td>9.848024</td><td>289.47266</td><td>9.848024</td><td>287.4881</td><td>8.950792</td><td>11.3099</td><td>52.8056</td><td>11.3099</td><td>52.8056</td><td>694.61676</td><td>False</td><td></td><td>sweet</td><td>81</td><td>282.75223</td><td>-77.049034</td><td>148.22688</td><td>135.71022</td><td>151.73618</td><td>133</td><td>144</td><td>156</td><td>169.6</td><td>183.68001</td><td>200.31999</td><td>True</td><td>24</td><td>1.28</td><td>Phase I</td><td>1121095680</td><td>0</td><td>0</td><td>0</td><td>0</td><td>48</td><td>48</td><td>True</td><td>47907852904</td><td>0</td><td>0</td><td>48</td></tr>\n",
       "<tr><td>1121268008</td><td>1121268008</td><td>1121268248</td><td>240</td><td>57221.64</td><td>57221.64</td><td>2015-07-18T15:19:51.000Z</td><td>2015-07-18T15:23:51.000Z</td><td>2015-07-18T23:19:51.000Z</td><td>2015-07-18T23:23:51.000Z</td><td>iPTF_l43.0_b0.0_f145</td><td>jmiller-jones</td><td>2020-10-23T05:10:59.893Z</td><td>HW_LFILES</td><td>D0000</td><td>Unspecified Director&apos;s time</td><td>Catch-all for Director&apos;s time observations that don&apos;t have a project ID.</td><td>1</td><td>Good</td><td></td><td>False</td><td>False</td><td>2.0</td><td>20.0</td><td>289.47183</td><td>9.847938</td><td>289.47183</td><td>9.847938</td><td>287.4881</td><td>8.950792</td><td>11.3099</td><td>52.8056</td><td>11.3099</td><td>52.8056</td><td>694.61676</td><td>False</td><td></td><td>sweet</td><td>81</td><td>282.75146</td><td>-75.21834</td><td>148.13019</td><td>135.45154</td><td>138.62079</td><td>133</td><td>144</td><td>156</td><td>169.6</td><td>183.68001</td><td>200.31999</td><td>True</td><td>24</td><td>1.28</td><td>Phase I</td><td>1121268008</td><td>0</td><td>0</td><td>0</td><td>0</td><td>48</td><td>48</td><td>True</td><td>47856932305</td><td>0</td><td>0</td><td>48</td></tr>\n",
       "<tr><td>1121440336</td><td>1121440336</td><td>1121440576</td><td>240</td><td>57223.633</td><td>57223.637</td><td>2015-07-20T15:11:59.000Z</td><td>2015-07-20T15:15:59.000Z</td><td>2015-07-20T23:11:59.000Z</td><td>2015-07-20T23:15:59.000Z</td><td>iPTF_l43.0_b0.0_f145</td><td>jmiller-jones</td><td>2020-10-23T05:10:59.893Z</td><td>HW_LFILES</td><td>D0000</td><td>Unspecified Director&apos;s time</td><td>Catch-all for Director&apos;s time observations that don&apos;t have a project ID.</td><td>1</td><td>Good</td><td></td><td>False</td><td>False</td><td>2.0</td><td>20.0</td><td>289.47104</td><td>9.847853</td><td>289.47104</td><td>9.847853</td><td>287.4881</td><td>8.950792</td><td>11.3099</td><td>52.8056</td><td>11.3099</td><td>52.8056</td><td>694.61676</td><td>False</td><td></td><td>sweet</td><td>81</td><td>282.7507</td><td>-73.37468</td><td>147.93356</td><td>135.19257</td><td>119.63071</td><td>133</td><td>144</td><td>156</td><td>169.6</td><td>183.68001</td><td>200.31999</td><td>True</td><td>24</td><td>1.28</td><td>Phase I</td><td>1121440336</td><td>0</td><td>0</td><td>0</td><td>0</td><td>48</td><td>48</td><td>True</td><td>47890763878</td><td>0</td><td>0</td><td>48</td></tr>\n",
       "<tr><td>1121612664</td><td>1121612664</td><td>1121612904</td><td>240</td><td>57225.63</td><td>57225.633</td><td>2015-07-22T15:04:07.000Z</td><td>2015-07-22T15:08:07.000Z</td><td>2015-07-22T23:04:07.000Z</td><td>2015-07-22T23:08:07.000Z</td><td>iPTF_l43.0_b0.0_f145</td><td>jmiller-jones</td><td>2020-10-23T05:10:59.893Z</td><td>HW_LFILES</td><td>D0000</td><td>Unspecified Director&apos;s time</td><td>Catch-all for Director&apos;s time observations that don&apos;t have a project ID.</td><td>1</td><td>Good</td><td></td><td>False</td><td>False</td><td>2.0</td><td>20.0</td><td>289.47028</td><td>9.847759</td><td>289.47028</td><td>9.847759</td><td>287.4881</td><td>8.950792</td><td>11.3099</td><td>52.8056</td><td>11.3099</td><td>52.8056</td><td>694.61676</td><td>False</td><td></td><td>sweet</td><td>81</td><td>282.7499</td><td>-71.51229</td><td>147.63509</td><td>134.92291</td><td>99.03764</td><td>133</td><td>144</td><td>156</td><td>169.6</td><td>183.68001</td><td>200.31999</td><td>True</td><td>24</td><td>1.28</td><td>Phase I</td><td>1121612664</td><td>0</td><td>0</td><td>0</td><td>0</td><td>48</td><td>48</td><td>True</td><td>47789392577</td><td>0</td><td>0</td><td>48</td></tr>\n",
       "<tr><td>1121784992</td><td>1121784992</td><td>1121785232</td><td>240</td><td>57227.62</td><td>57227.625</td><td>2015-07-24T14:56:15.000Z</td><td>2015-07-24T15:00:15.000Z</td><td>2015-07-24T22:56:15.000Z</td><td>2015-07-24T23:00:15.000Z</td><td>iPTF_l43.0_b0.0_f145</td><td>jmiller-jones</td><td>2020-10-23T05:10:59.893Z</td><td>HW_LFILES</td><td>D0000</td><td>Unspecified Director&apos;s time</td><td>Catch-all for Director&apos;s time observations that don&apos;t have a project ID.</td><td>1</td><td>Good</td><td></td><td>False</td><td>False</td><td>2.0</td><td>20.0</td><td>289.46948</td><td>9.847654</td><td>289.46948</td><td>9.847654</td><td>287.4881</td><td>8.950792</td><td>11.3099</td><td>52.8056</td><td>11.3099</td><td>52.8056</td><td>694.61676</td><td>False</td><td></td><td>sweet</td><td>81</td><td>282.7491</td><td>-69.64847</td><td>147.24295</td><td>134.65675</td><td>77.70874</td><td>133</td><td>144</td><td>156</td><td>169.6</td><td>183.68001</td><td>200.31999</td><td>True</td><td>24</td><td>1.28</td><td>Phase I</td><td>1121784992</td><td>0</td><td>0</td><td>0</td><td>0</td><td>48</td><td>48</td><td>True</td><td>47823201827</td><td>0</td><td>0</td><td>48</td></tr>\n",
       "<tr><td>1121957320</td><td>1121957320</td><td>1121957560</td><td>240</td><td>57229.617</td><td>57229.62</td><td>2015-07-26T14:48:23.000Z</td><td>2015-07-26T14:52:23.000Z</td><td>2015-07-26T22:48:23.000Z</td><td>2015-07-26T22:52:23.000Z</td><td>iPTF_l43.0_b0.0_f145</td><td>jmiller-jones</td><td>2020-10-23T05:10:59.893Z</td><td>HW_LFILES</td><td>D0000</td><td>Unspecified Director&apos;s time</td><td>Catch-all for Director&apos;s time observations that don&apos;t have a project ID.</td><td>1</td><td>Good</td><td></td><td>False</td><td>False</td><td>2.0</td><td>20.0</td><td>289.46872</td><td>9.847543</td><td>289.46872</td><td>9.847543</td><td>287.4881</td><td>8.950792</td><td>11.3099</td><td>52.8056</td><td>11.3099</td><td>52.8056</td><td>694.61676</td><td>False</td><td></td><td>sweet</td><td>81</td><td>282.74835</td><td>-67.774536</td><td>146.75609</td><td>134.38365</td><td>55.975002</td><td>133</td><td>144</td><td>156</td><td>169.6</td><td>183.68001</td><td>200.31999</td><td>True</td><td>24</td><td>1.28</td><td>Phase I</td><td>1121957320</td><td>0</td><td>0</td><td>0</td><td>0</td><td>48</td><td>48</td><td>True</td><td>47907801830</td><td>0</td><td>0</td><td>48</td></tr>\n",
       "<tr><td>...</td><td>...</td><td>...</td><td>...</td><td>...</td><td>...</td><td>...</td><td>...</td><td>...</td><td>...</td><td>...</td><td>...</td><td>...</td><td>...</td><td>...</td><td>...</td><td>...</td><td>...</td><td>...</td><td>...</td><td>...</td><td>...</td><td>...</td><td>...</td><td>...</td><td>...</td><td>...</td><td>...</td><td>...</td><td>...</td><td>...</td><td>...</td><td>...</td><td>...</td><td>...</td><td>...</td><td>...</td><td>...</td><td>...</td><td>...</td><td>...</td><td>...</td><td>...</td><td>...</td><td>...</td><td>...</td><td>...</td><td>...</td><td>...</td><td>...</td><td>...</td><td>...</td><td>...</td><td>...</td><td>...</td><td>...</td><td>...</td><td>...</td><td>...</td><td>...</td><td>...</td><td>...</td><td>...</td><td>...</td><td>...</td><td>...</td></tr>\n",
       "<tr><td>1244989288</td><td>1244989288</td><td>1244989408</td><td>120</td><td>58653.598</td><td>58653.6</td><td>2019-06-19T14:21:10.000Z</td><td>2019-06-19T14:23:10.000Z</td><td>2019-06-19T22:21:10.000Z</td><td>2019-06-19T22:23:10.000Z</td><td>Fermi_582646590</td><td>VOEvent_Auto_Trigger_0.3</td><td>2020-10-27T07:55:11.321Z</td><td>HW_LFILES</td><td>G0055</td><td>GRB alerts</td><td>(P.I. Gemma Anderson) Proposal for MWA rapid-response observations of GRBs</td><td>1</td><td>Good</td><td></td><td>False</td><td>False</td><td>0.5</td><td>10.0</td><td>285.68845</td><td>10.95445</td><td>285.68845</td><td>10.95445</td><td>283.2167</td><td>9.3333</td><td>56.3099</td><td>31.2488</td><td>56.3099</td><td>31.2488</td><td>678.1481</td><td>False</td><td></td><td>sweet</td><td>162</td><td>239.48271</td><td>-64.14646</td><td>141.31976</td><td>43.525093</td><td>34.348244</td><td>133</td><td>144</td><td>156</td><td>169.6</td><td>183.68001</td><td>200.31999</td><td>True</td><td>24</td><td>1.28</td><td>Phase II Extended</td><td>1244989040</td><td>0</td><td>0</td><td>0</td><td>0</td><td>48</td><td>48</td><td>True</td><td>74487988709</td><td>0</td><td>0</td><td>48</td></tr>\n",
       "<tr><td>1244989408</td><td>1244989408</td><td>1244989528</td><td>120</td><td>58653.6</td><td>58653.6</td><td>2019-06-19T14:23:10.000Z</td><td>2019-06-19T14:25:10.000Z</td><td>2019-06-19T22:23:10.000Z</td><td>2019-06-19T22:25:10.000Z</td><td>Fermi_582646590</td><td>VOEvent_Auto_Trigger_0.3</td><td>2020-10-27T07:55:11.321Z</td><td>HW_LFILES</td><td>G0055</td><td>GRB alerts</td><td>(P.I. Gemma Anderson) Proposal for MWA rapid-response observations of GRBs</td><td>1</td><td>Good</td><td></td><td>False</td><td>False</td><td>0.5</td><td>10.0</td><td>286.18976</td><td>10.953565</td><td>286.18976</td><td>10.953565</td><td>283.2167</td><td>9.3333</td><td>56.3099</td><td>31.2488</td><td>56.3099</td><td>31.2488</td><td>678.1481</td><td>False</td><td></td><td>sweet</td><td>162</td><td>239.98407</td><td>-64.58925</td><td>141.09575</td><td>43.839874</td><td>34.204437</td><td>133</td><td>144</td><td>156</td><td>169.6</td><td>183.68001</td><td>200.31999</td><td>True</td><td>24</td><td>1.28</td><td>Phase II Extended</td><td>1244989040</td><td>0</td><td>0</td><td>0</td><td>0</td><td>48</td><td>48</td><td>True</td><td>74318401840</td><td>0</td><td>0</td><td>48</td></tr>\n",
       "<tr><td>1244989528</td><td>1244989528</td><td>1244989648</td><td>120</td><td>58653.6</td><td>58653.6</td><td>2019-06-19T14:25:10.000Z</td><td>2019-06-19T14:27:10.000Z</td><td>2019-06-19T22:25:10.000Z</td><td>2019-06-19T22:27:10.000Z</td><td>Fermi_582646590</td><td>VOEvent_Auto_Trigger_0.3</td><td>2020-10-27T07:55:11.321Z</td><td>HW_LFILES</td><td>G0055</td><td>GRB alerts</td><td>(P.I. Gemma Anderson) Proposal for MWA rapid-response observations of GRBs</td><td>1</td><td>Good</td><td></td><td>False</td><td>False</td><td>0.5</td><td>10.0</td><td>286.6911</td><td>10.9526825</td><td>286.6911</td><td>10.9526825</td><td>283.2167</td><td>9.3333</td><td>56.3099</td><td>31.2488</td><td>56.3099</td><td>31.2488</td><td>678.1481</td><td>False</td><td></td><td>sweet</td><td>162</td><td>240.48544</td><td>-65.035706</td><td>140.8651</td><td>44.16047</td><td>34.06546</td><td>133</td><td>144</td><td>156</td><td>169.6</td><td>183.68001</td><td>200.31999</td><td>True</td><td>24</td><td>1.28</td><td>Phase II Extended</td><td>1244989040</td><td>0</td><td>0</td><td>0</td><td>0</td><td>48</td><td>48</td><td>True</td><td>74458890590</td><td>0</td><td>0</td><td>48</td></tr>\n",
       "<tr><td>1244989648</td><td>1244989648</td><td>1244989768</td><td>120</td><td>58653.6</td><td>58653.605</td><td>2019-06-19T14:27:10.000Z</td><td>2019-06-19T14:29:10.000Z</td><td>2019-06-19T22:27:10.000Z</td><td>2019-06-19T22:29:10.000Z</td><td>Fermi_582646590</td><td>VOEvent_Auto_Trigger_0.3</td><td>2020-10-27T07:55:11.321Z</td><td>HW_LFILES</td><td>G0055</td><td>GRB alerts</td><td>(P.I. Gemma Anderson) Proposal for MWA rapid-response observations of GRBs</td><td>1</td><td>Good</td><td></td><td>False</td><td>False</td><td>0.5</td><td>10.0</td><td>287.19244</td><td>10.951802</td><td>287.19244</td><td>10.951802</td><td>283.2167</td><td>9.3333</td><td>56.3099</td><td>31.2488</td><td>56.3099</td><td>31.2488</td><td>678.1481</td><td>False</td><td></td><td>sweet</td><td>162</td><td>240.98682</td><td>-65.48212</td><td>140.6297</td><td>44.48418</td><td>33.932625</td><td>133</td><td>144</td><td>156</td><td>169.6</td><td>183.68001</td><td>200.31999</td><td>True</td><td>24</td><td>1.28</td><td>Phase II Extended</td><td>1244989040</td><td>0</td><td>0</td><td>0</td><td>0</td><td>48</td><td>48</td><td>True</td><td>74297626849</td><td>0</td><td>0</td><td>48</td></tr>\n",
       "<tr><td>1244989768</td><td>1244989768</td><td>1244989888</td><td>120</td><td>58653.605</td><td>58653.605</td><td>2019-06-19T14:29:10.000Z</td><td>2019-06-19T14:31:10.000Z</td><td>2019-06-19T22:29:10.000Z</td><td>2019-06-19T22:31:10.000Z</td><td>Fermi_582646590</td><td>VOEvent_Auto_Trigger_0.3</td><td>2020-10-27T07:55:11.321Z</td><td>HW_LFILES</td><td>G0055</td><td>GRB alerts</td><td>(P.I. Gemma Anderson) Proposal for MWA rapid-response observations of GRBs</td><td>1</td><td>Good</td><td></td><td>False</td><td>False</td><td>0.5</td><td>10.0</td><td>287.69376</td><td>10.950924</td><td>287.69376</td><td>10.950924</td><td>283.2167</td><td>9.3333</td><td>56.3099</td><td>31.2488</td><td>56.3099</td><td>31.2488</td><td>697.6059</td><td>False</td><td></td><td>sweet</td><td>162</td><td>241.48819</td><td>-65.92847</td><td>140.38968</td><td>44.81093</td><td>33.806004</td><td>133</td><td>144</td><td>156</td><td>169.6</td><td>183.68001</td><td>200.31999</td><td>True</td><td>24</td><td>1.28</td><td>Phase II Extended</td><td>1244989040</td><td>0</td><td>0</td><td>0</td><td>0</td><td>48</td><td>48</td><td>True</td><td>74550066911</td><td>0</td><td>0</td><td>48</td></tr>\n",
       "<tr><td>1286442032</td><td>1286442032</td><td>1286442328</td><td>296</td><td>59133.375</td><td>59133.38</td><td>2020-10-11T09:00:14.000Z</td><td>2020-10-11T09:05:10.000Z</td><td>2020-10-11T17:00:14.000Z</td><td>2020-10-11T17:05:10.000Z</td><td>AnTao2020B_1_SGR_1935+2154_Ch169</td><td>andrew</td><td>2020-10-27T07:55:39.825Z</td><td>HW_LFILES</td><td>D0030</td><td>Searching for SGR 1935+2154 in radio, 2020B</td><td>(P.I. Tao An) Searching for the Galactic magnetar SGR 1935+2154 at low radio frequencies</td><td>1</td><td>Good</td><td></td><td>False</td><td>False</td><td>0.5</td><td>10.0</td><td>293.82172</td><td>11.775414</td><td>293.82172</td><td>11.775414</td><td>293.732</td><td>21.896723</td><td>30.9638</td><td>46.2671</td><td>30.9638</td><td>46.2671</td><td>415.95227</td><td>False</td><td></td><td>sweet</td><td>101</td><td>272.7539</td><td>16.010912</td><td>98.27921</td><td>34.58848</td><td>143.20984</td><td>157</td><td>168</td><td>180</td><td>200.32</td><td>214.4</td><td>231.04</td><td>True</td><td>24</td><td>1.28</td><td>Phase II Extended</td><td>1286442016</td><td>0</td><td>0</td><td>0</td><td>0</td><td>120</td><td>120</td><td>False</td><td>159705486720</td><td>0</td><td>0</td><td>120</td></tr>\n",
       "<tr><td>1286442920</td><td>1286442920</td><td>1286443216</td><td>296</td><td>59133.387</td><td>59133.39</td><td>2020-10-11T09:15:02.000Z</td><td>2020-10-11T09:19:58.000Z</td><td>2020-10-11T17:15:02.000Z</td><td>2020-10-11T17:19:58.000Z</td><td>AnTao2020B_1_SGR_1935+2154_Ch169</td><td>andrew</td><td>2020-10-27T07:55:39.825Z</td><td>HW_LFILES</td><td>D0030</td><td>Searching for SGR 1935+2154 in radio, 2020B</td><td>(P.I. Tao An) Searching for the Galactic magnetar SGR 1935+2154 at low radio frequencies</td><td>1</td><td>Good</td><td></td><td>False</td><td>False</td><td>0.5</td><td>10.0</td><td>290.18073</td><td>10.545996</td><td>290.18073</td><td>10.545996</td><td>293.732</td><td>21.896723</td><td>21.8014</td><td>50.3239</td><td>21.8014</td><td>50.3239</td><td>460.78604</td><td>False</td><td></td><td>sweet</td><td>89</td><td>276.46402</td><td>12.707193</td><td>94.589134</td><td>33.154232</td><td>142.84235</td><td>157</td><td>168</td><td>180</td><td>200.32</td><td>214.4</td><td>231.04</td><td>True</td><td>24</td><td>1.28</td><td>Phase II Extended</td><td>1286442016</td><td>0</td><td>0</td><td>0</td><td>0</td><td>120</td><td>120</td><td>False</td><td>163366058880</td><td>0</td><td>0</td><td>120</td></tr>\n",
       "<tr><td>1286443216</td><td>1286443216</td><td>1286443512</td><td>296</td><td>59133.39</td><td>59133.395</td><td>2020-10-11T09:19:58.000Z</td><td>2020-10-11T09:24:54.000Z</td><td>2020-10-11T17:19:58.000Z</td><td>2020-10-11T17:24:54.000Z</td><td>AnTao2020B_1_SGR_1935+2154_Ch169</td><td>andrew</td><td>2020-10-27T07:55:39.825Z</td><td>HW_LFILES</td><td>D0030</td><td>Searching for SGR 1935+2154 in radio, 2020B</td><td>(P.I. Tao An) Searching for the Galactic magnetar SGR 1935+2154 at low radio frequencies</td><td>1</td><td>Good</td><td></td><td>False</td><td>False</td><td>0.5</td><td>10.0</td><td>291.41727</td><td>10.543701</td><td>291.41727</td><td>10.543701</td><td>293.732</td><td>21.896723</td><td>21.8014</td><td>50.3239</td><td>21.8014</td><td>50.3239</td><td>425.33203</td><td>False</td><td></td><td>sweet</td><td>89</td><td>277.70074</td><td>11.606485</td><td>95.79429</td><td>33.181103</td><td>143.36102</td><td>157</td><td>168</td><td>180</td><td>200.32</td><td>214.4</td><td>231.04</td><td>True</td><td>24</td><td>1.28</td><td>Phase II Extended</td><td>1286442016</td><td>0</td><td>0</td><td>0</td><td>0</td><td>120</td><td>120</td><td>False</td><td>163322395200</td><td>0</td><td>0</td><td>120</td></tr>\n",
       "<tr><td>1286443512</td><td>1286443512</td><td>1286443808</td><td>296</td><td>59133.395</td><td>59133.395</td><td>2020-10-11T09:24:54.000Z</td><td>2020-10-11T09:29:50.000Z</td><td>2020-10-11T17:24:54.000Z</td><td>2020-10-11T17:29:50.000Z</td><td>AnTao2020B_1_SGR_1935+2154_Ch169</td><td>andrew</td><td>2020-10-27T07:55:39.825Z</td><td>HW_LFILES</td><td>D0030</td><td>Searching for SGR 1935+2154 in radio, 2020B</td><td>(P.I. Tao An) Searching for the Galactic magnetar SGR 1935+2154 at low radio frequencies</td><td>1</td><td>Good</td><td></td><td>False</td><td>False</td><td>0.5</td><td>10.0</td><td>292.6538</td><td>10.541425</td><td>292.6538</td><td>10.541425</td><td>293.732</td><td>21.896723</td><td>21.8014</td><td>50.3239</td><td>21.8014</td><td>50.3239</td><td>425.33203</td><td>False</td><td></td><td>sweet</td><td>89</td><td>278.93744</td><td>10.506211</td><td>96.99993</td><td>33.252132</td><td>143.85054</td><td>157</td><td>168</td><td>180</td><td>200.32</td><td>214.4</td><td>231.04</td><td>True</td><td>24</td><td>1.28</td><td>Phase II Extended</td><td>1286442016</td><td>0</td><td>0</td><td>0</td><td>0</td><td>120</td><td>120</td><td>False</td><td>163027558080</td><td>0</td><td>0</td><td>120</td></tr>\n",
       "<tr><td>1286444104</td><td>1286444104</td><td>1286444400</td><td>296</td><td>59133.4</td><td>59133.402</td><td>2020-10-11T09:34:46.000Z</td><td>2020-10-11T09:39:42.000Z</td><td>2020-10-11T17:34:46.000Z</td><td>2020-10-11T17:39:42.000Z</td><td>AnTao2020B_1_SGR_1935+2154_Ch169</td><td>andrew</td><td>2020-10-27T07:55:39.825Z</td><td>HW_LFILES</td><td>D0030</td><td>Searching for SGR 1935+2154 in radio, 2020B</td><td>(P.I. Tao An) Searching for the Galactic magnetar SGR 1935+2154 at low radio frequencies</td><td>1</td><td>Good</td><td></td><td>False</td><td>False</td><td>0.5</td><td>10.0</td><td>288.0798</td><td>9.845481</td><td>288.0798</td><td>9.845481</td><td>293.732</td><td>21.896723</td><td>11.3099</td><td>52.8056</td><td>11.3099</td><td>52.8056</td><td>466.44092</td><td>False</td><td></td><td>sweet</td><td>81</td><td>281.4109</td><td>8.307356</td><td>92.44283</td><td>32.50659</td><td>142.38095</td><td>157</td><td>168</td><td>180</td><td>200.32</td><td>214.4</td><td>231.04</td><td>True</td><td>24</td><td>1.28</td><td>Phase II Extended</td><td>1286442016</td><td>0</td><td>0</td><td>0</td><td>0</td><td>120</td><td>120</td><td>False</td><td>166316126400</td><td>0</td><td>0</td><td>120</td></tr>\n",
       "</table>"
      ],
      "text/plain": [
       "<Table length=296>\n",
       "  obs_id   starttime   stoptime  ... files_deleted_bytes data_files_summary\n",
       "  int64      int64      int64    ...        int64             bytes255     \n",
       "---------- ---------- ---------- ... ------------------- ------------------\n",
       "1120406368 1120406368 1120406608 ...                   0                 48\n",
       "1120578696 1120578696 1120578936 ...                   0                 48\n",
       "1120751024 1120751024 1120751264 ...                   0                 48\n",
       "1120923352 1120923352 1120923592 ...                   0                 48\n",
       "1121095680 1121095680 1121095920 ...                   0                 48\n",
       "1121268008 1121268008 1121268248 ...                   0                 48\n",
       "1121440336 1121440336 1121440576 ...                   0                 48\n",
       "1121612664 1121612664 1121612904 ...                   0                 48\n",
       "1121784992 1121784992 1121785232 ...                   0                 48\n",
       "1121957320 1121957320 1121957560 ...                   0                 48\n",
       "       ...        ...        ... ...                 ...                ...\n",
       "1244989288 1244989288 1244989408 ...                   0                 48\n",
       "1244989408 1244989408 1244989528 ...                   0                 48\n",
       "1244989528 1244989528 1244989648 ...                   0                 48\n",
       "1244989648 1244989648 1244989768 ...                   0                 48\n",
       "1244989768 1244989768 1244989888 ...                   0                 48\n",
       "1286442032 1286442032 1286442328 ...                   0                120\n",
       "1286442920 1286442920 1286443216 ...                   0                120\n",
       "1286443216 1286443216 1286443512 ...                   0                120\n",
       "1286443512 1286443512 1286443808 ...                   0                120\n",
       "1286444104 1286444104 1286444400 ...                   0                120"
      ]
     },
     "execution_count": 33,
     "metadata": {},
     "output_type": "execute_result"
    }
   ],
   "source": [
    "GRS1915_table"
   ]
  },
  {
   "cell_type": "code",
   "execution_count": 20,
   "metadata": {
    "ExecuteTime": {
     "end_time": "2021-04-14T02:35:53.835037Z",
     "start_time": "2021-04-14T02:35:53.826437Z"
    }
   },
   "outputs": [],
   "source": [
    "import astropy.units as u\n",
    "from astropy.time import Time"
   ]
  },
  {
   "cell_type": "code",
   "execution_count": 21,
   "metadata": {
    "ExecuteTime": {
     "end_time": "2021-04-14T02:36:18.163397Z",
     "start_time": "2021-04-14T02:36:18.150400Z"
    }
   },
   "outputs": [],
   "source": [
    "gpstime=Time(1120406368,format='gps')"
   ]
  },
  {
   "cell_type": "code",
   "execution_count": 22,
   "metadata": {
    "ExecuteTime": {
     "end_time": "2021-04-14T02:37:06.049957Z",
     "start_time": "2021-04-14T02:37:06.042870Z"
    }
   },
   "outputs": [
    {
     "data": {
      "text/plain": [
       "57211.6665162037"
      ]
     },
     "execution_count": 22,
     "metadata": {},
     "output_type": "execute_result"
    }
   ],
   "source": [
    "gpstime.mjd"
   ]
  },
  {
   "cell_type": "code",
   "execution_count": 23,
   "metadata": {
    "ExecuteTime": {
     "end_time": "2021-04-14T02:37:38.856800Z",
     "start_time": "2021-04-14T02:37:38.848701Z"
    }
   },
   "outputs": [
    {
     "data": {
      "text/plain": [
       "datetime.datetime(2015, 7, 8, 15, 59, 47)"
      ]
     },
     "execution_count": 23,
     "metadata": {},
     "output_type": "execute_result"
    }
   ],
   "source": [
    "Time(1120406368,format='gps').to_datetime()"
   ]
  },
  {
   "cell_type": "code",
   "execution_count": 25,
   "metadata": {
    "ExecuteTime": {
     "end_time": "2021-04-14T02:40:16.520293Z",
     "start_time": "2021-04-14T02:40:16.512690Z"
    }
   },
   "outputs": [
    {
     "data": {
      "text/plain": [
       "datetime.datetime(2015, 7, 8, 16, 3, 47)"
      ]
     },
     "execution_count": 25,
     "metadata": {},
     "output_type": "execute_result"
    }
   ],
   "source": [
    "Time(1120406608,format='gps').to_datetime()"
   ]
  },
  {
   "cell_type": "code",
   "execution_count": 26,
   "metadata": {
    "ExecuteTime": {
     "end_time": "2021-04-14T03:02:47.538542Z",
     "start_time": "2021-04-14T03:02:47.511067Z"
    }
   },
   "outputs": [
    {
     "data": {
      "text/plain": [
       "datetime.datetime(2017, 2, 16, 0, 0)"
      ]
     },
     "execution_count": 26,
     "metadata": {},
     "output_type": "execute_result"
    }
   ],
   "source": [
    "Time(57800,format='mjd').to_datetime()"
   ]
  },
  {
   "cell_type": "code",
   "execution_count": null,
   "metadata": {},
   "outputs": [],
   "source": []
  },
  {
   "cell_type": "code",
   "execution_count": null,
   "metadata": {},
   "outputs": [],
   "source": []
  },
  {
   "cell_type": "code",
   "execution_count": 34,
   "metadata": {
    "ExecuteTime": {
     "end_time": "2021-04-14T03:07:53.063478Z",
     "start_time": "2021-04-14T03:07:52.774055Z"
    }
   },
   "outputs": [],
   "source": [
    "path = '../GRS1915/GRS1915_2017_2018.xml'\n",
    "GRS1915_votable = parse(path)\n",
    "GRS1915_table = parse_single_table(path).to_table()\n",
    "GRS1915_table.write('../GRS1915/GRS1915_MWA_2017_2018.csv', format='ascii.csv',serialize_method='data_mask')"
   ]
  },
  {
   "cell_type": "code",
   "execution_count": 35,
   "metadata": {
    "ExecuteTime": {
     "end_time": "2021-04-14T03:08:04.574230Z",
     "start_time": "2021-04-14T03:08:04.302850Z"
    }
   },
   "outputs": [],
   "source": [
    "path = '../GRS1915/GRS1915_2019.xml'\n",
    "GRS1915_votable = parse(path)\n",
    "GRS1915_table = parse_single_table(path).to_table()\n",
    "GRS1915_table.write('../GRS1915/GRS1915_MWA_2019.csv', format='ascii.csv',serialize_method='data_mask')"
   ]
  },
  {
   "cell_type": "code",
   "execution_count": null,
   "metadata": {},
   "outputs": [],
   "source": []
  }
 ],
 "metadata": {
  "kernelspec": {
   "display_name": "Python 3",
   "language": "python",
   "name": "python3"
  },
  "language_info": {
   "codemirror_mode": {
    "name": "ipython",
    "version": 3
   },
   "file_extension": ".py",
   "mimetype": "text/x-python",
   "name": "python",
   "nbconvert_exporter": "python",
   "pygments_lexer": "ipython3",
   "version": "3.8.5"
  },
  "latex_envs": {
   "LaTeX_envs_menu_present": true,
   "autocomplete": true,
   "bibliofile": "biblio.bib",
   "cite_by": "apalike",
   "current_citInitial": 1,
   "eqLabelWithNumbers": true,
   "eqNumInitial": 1,
   "hotkeys": {
    "equation": "Ctrl-E",
    "itemize": "Ctrl-I"
   },
   "labels_anchors": false,
   "latex_user_defs": false,
   "report_style_numbering": false,
   "user_envs_cfg": false
  },
  "toc": {
   "nav_menu": {},
   "number_sections": true,
   "sideBar": true,
   "skip_h1_title": false,
   "toc_cell": false,
   "toc_position": {},
   "toc_section_display": "block",
   "toc_window_display": false
  }
 },
 "nbformat": 4,
 "nbformat_minor": 2
}
